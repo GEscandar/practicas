{
 "cells": [
  {
   "cell_type": "code",
   "execution_count": 1,
   "id": "69220778",
   "metadata": {
    "execution": {
     "iopub.execute_input": "2021-04-28T21:38:41.432609Z",
     "iopub.status.busy": "2021-04-28T21:38:41.431909Z",
     "iopub.status.idle": "2021-04-28T21:38:42.506503Z",
     "shell.execute_reply": "2021-04-28T21:38:42.505410Z"
    }
   },
   "outputs": [],
   "source": [
    "import numpy as np\n",
    "import pandas as pd\n",
    "from sklearn.feature_extraction.text import CountVectorizer\n",
    "from sklearn.feature_extraction.text import TfidfTransformer\n",
    "from nltk.corpus import stopwords"
   ]
  },
  {
   "cell_type": "markdown",
   "id": "30dcdc6d",
   "metadata": {},
   "source": [
    "## Datos\n",
    "\n",
    "En esta notebook vamos a utilizar datos de Instagram. Los mismos fueron descargados de páginas públicas de Instagram. Tendremos 3 \"tipos\" de cuentas:\n",
    "\n",
    "- Fit\n",
    "- RecetasFit\n",
    "- Recetas\n",
    "- Jugadores de fútbol argentinos\n",
    "- Periodismo deportivo\n",
    "- Otros deportistas argentinos\n",
    "\n",
    "Descargaremos todos los posts que las cuentas hayan hecho en los últimos 12 meses.\n",
    "\n",
    "La idea será ver si estos tipos de cuentas comparten una misma semántica entre sí y si a la vez son muy distintas entre los grupos."
   ]
  },
  {
   "cell_type": "code",
   "execution_count": 2,
   "id": "f9cc5353",
   "metadata": {
    "execution": {
     "iopub.execute_input": "2021-04-28T21:38:42.512939Z",
     "iopub.status.busy": "2021-04-28T21:38:42.512350Z",
     "iopub.status.idle": "2021-04-28T21:38:46.123108Z",
     "shell.execute_reply": "2021-04-28T21:38:46.122614Z"
    }
   },
   "outputs": [
    {
     "name": "stdout",
     "output_type": "stream",
     "text": [
      "Index(['Account', 'User Name', 'Followers at Posting', 'Created', 'Type',\n",
      "       'Likes', 'Comments', 'Views', 'URL', 'Link', 'Photo', 'Title',\n",
      "       'Description', 'Image Text', 'Sponsor Id', 'Sponsor Name',\n",
      "       'Overperforming Score'],\n",
      "      dtype='object')\n",
      "(1619, 17)\n"
     ]
    },
    {
     "data": {
      "text/html": [
       "<div>\n",
       "<style scoped>\n",
       "    .dataframe tbody tr th:only-of-type {\n",
       "        vertical-align: middle;\n",
       "    }\n",
       "\n",
       "    .dataframe tbody tr th {\n",
       "        vertical-align: top;\n",
       "    }\n",
       "\n",
       "    .dataframe thead th {\n",
       "        text-align: right;\n",
       "    }\n",
       "</style>\n",
       "<table border=\"1\" class=\"dataframe\">\n",
       "  <thead>\n",
       "    <tr style=\"text-align: right;\">\n",
       "      <th></th>\n",
       "      <th>Account</th>\n",
       "      <th>User Name</th>\n",
       "      <th>Followers at Posting</th>\n",
       "      <th>Created</th>\n",
       "      <th>Type</th>\n",
       "      <th>Likes</th>\n",
       "      <th>Comments</th>\n",
       "      <th>Views</th>\n",
       "      <th>URL</th>\n",
       "      <th>Link</th>\n",
       "      <th>Photo</th>\n",
       "      <th>Title</th>\n",
       "      <th>Description</th>\n",
       "      <th>Image Text</th>\n",
       "      <th>Sponsor Id</th>\n",
       "      <th>Sponsor Name</th>\n",
       "      <th>Overperforming Score</th>\n",
       "    </tr>\n",
       "  </thead>\n",
       "  <tbody>\n",
       "    <tr>\n",
       "      <th>0</th>\n",
       "      <td>RECETAS SALUDABLES | NUTRICION</td>\n",
       "      <td>caloria.fit</td>\n",
       "      <td>660230.0</td>\n",
       "      <td>2020-11-24 08:10:39 EST</td>\n",
       "      <td>Photo</td>\n",
       "      <td>1292</td>\n",
       "      <td>31</td>\n",
       "      <td>0</td>\n",
       "      <td>https://www.instagram.com/p/CH-YUcyHztq/</td>\n",
       "      <td>https://www.instagram.com/p/CH-YUcyHztq/</td>\n",
       "      <td>https://scontent-sea1-1.cdninstagram.com/v/t51...</td>\n",
       "      <td>NaN</td>\n",
       "      <td>🥲🥲🥲</td>\n",
       "      <td>Cuando vas al gimnasio, pero la cara no mejora...</td>\n",
       "      <td>NaN</td>\n",
       "      <td>NaN</td>\n",
       "      <td>1.18</td>\n",
       "    </tr>\n",
       "    <tr>\n",
       "      <th>1</th>\n",
       "      <td>Federico Galassi</td>\n",
       "      <td>feder.gala</td>\n",
       "      <td>23392.0</td>\n",
       "      <td>2020-11-24 08:10:31 EST</td>\n",
       "      <td>Album</td>\n",
       "      <td>52</td>\n",
       "      <td>8</td>\n",
       "      <td>0</td>\n",
       "      <td>https://www.instagram.com/p/CH-YTh0DuDM/</td>\n",
       "      <td>https://www.instagram.com/p/CH-YTh0DuDM/</td>\n",
       "      <td>https://scontent-sea1-1.cdninstagram.com/v/t51...</td>\n",
       "      <td>NaN</td>\n",
       "      <td>LA PARADOJA DE LA DIETA CETOGENICA\\n.\\nMuchas ...</td>\n",
       "      <td>NaN</td>\n",
       "      <td>NaN</td>\n",
       "      <td>NaN</td>\n",
       "      <td>4.29</td>\n",
       "    </tr>\n",
       "    <tr>\n",
       "      <th>2</th>\n",
       "      <td>SomosFit</td>\n",
       "      <td>somosfit</td>\n",
       "      <td>NaN</td>\n",
       "      <td>2020-11-24 06:37:06 EST</td>\n",
       "      <td>Photo</td>\n",
       "      <td>361</td>\n",
       "      <td>8</td>\n",
       "      <td>0</td>\n",
       "      <td>https://www.instagram.com/p/CH-Nm64MXy8/</td>\n",
       "      <td>https://www.instagram.com/p/CH-Nm64MXy8/</td>\n",
       "      <td>https://scontent-sea1-1.cdninstagram.com/v/t51...</td>\n",
       "      <td>NaN</td>\n",
       "      <td>🙌🏻NO JUZGUES DECISIONES AJENAS🙌🏻 detrás de ca...</td>\n",
       "      <td>Somos NO JUZGUES decisiones ajenas \"¿ESTÁS HAC...</td>\n",
       "      <td>NaN</td>\n",
       "      <td>NaN</td>\n",
       "      <td>1.31</td>\n",
       "    </tr>\n",
       "    <tr>\n",
       "      <th>3</th>\n",
       "      <td>RECETAS SALUDABLES | NUTRICION</td>\n",
       "      <td>caloria.fit</td>\n",
       "      <td>660230.0</td>\n",
       "      <td>2020-11-23 20:05:10 EST</td>\n",
       "      <td>Photo</td>\n",
       "      <td>3095</td>\n",
       "      <td>25</td>\n",
       "      <td>0</td>\n",
       "      <td>https://www.instagram.com/p/CH9FS3VnaL-/</td>\n",
       "      <td>https://www.instagram.com/p/CH9FS3VnaL-/</td>\n",
       "      <td>https://scontent-sea1-1.cdninstagram.com/v/t51...</td>\n",
       "      <td>NaN</td>\n",
       "      <td>No existe el camino corto, cambia tu estilo de...</td>\n",
       "      <td>Alex Fernandez @vlexfit No existe ninguna diet...</td>\n",
       "      <td>NaN</td>\n",
       "      <td>NaN</td>\n",
       "      <td>-1.60</td>\n",
       "    </tr>\n",
       "    <tr>\n",
       "      <th>4</th>\n",
       "      <td>Recetas | Ani y Sara</td>\n",
       "      <td>fit_happy_sisters</td>\n",
       "      <td>483667.0</td>\n",
       "      <td>2020-11-23 16:11:45 EST</td>\n",
       "      <td>Album</td>\n",
       "      <td>3376</td>\n",
       "      <td>78</td>\n",
       "      <td>0</td>\n",
       "      <td>https://www.instagram.com/p/CH8qlQ8ljz2/</td>\n",
       "      <td>https://www.instagram.com/p/CH8qlQ8ljz2/</td>\n",
       "      <td>https://scontent-sea1-1.cdninstagram.com/v/t51...</td>\n",
       "      <td>NaN</td>\n",
       "      <td>🍎 VEGAN APPLE BREAD ¡fácil y delicioso! Toca d...</td>\n",
       "      <td>NaN</td>\n",
       "      <td>NaN</td>\n",
       "      <td>NaN</td>\n",
       "      <td>-1.27</td>\n",
       "    </tr>\n",
       "  </tbody>\n",
       "</table>\n",
       "</div>"
      ],
      "text/plain": [
       "                          Account          User Name  Followers at Posting  \\\n",
       "0  RECETAS SALUDABLES | NUTRICION        caloria.fit              660230.0   \n",
       "1                Federico Galassi         feder.gala               23392.0   \n",
       "2                        SomosFit           somosfit                   NaN   \n",
       "3  RECETAS SALUDABLES | NUTRICION        caloria.fit              660230.0   \n",
       "4            Recetas | Ani y Sara  fit_happy_sisters              483667.0   \n",
       "\n",
       "                   Created   Type  Likes  Comments  Views  \\\n",
       "0  2020-11-24 08:10:39 EST  Photo   1292        31      0   \n",
       "1  2020-11-24 08:10:31 EST  Album     52         8      0   \n",
       "2  2020-11-24 06:37:06 EST  Photo    361         8      0   \n",
       "3  2020-11-23 20:05:10 EST  Photo   3095        25      0   \n",
       "4  2020-11-23 16:11:45 EST  Album   3376        78      0   \n",
       "\n",
       "                                        URL  \\\n",
       "0  https://www.instagram.com/p/CH-YUcyHztq/   \n",
       "1  https://www.instagram.com/p/CH-YTh0DuDM/   \n",
       "2  https://www.instagram.com/p/CH-Nm64MXy8/   \n",
       "3  https://www.instagram.com/p/CH9FS3VnaL-/   \n",
       "4  https://www.instagram.com/p/CH8qlQ8ljz2/   \n",
       "\n",
       "                                       Link  \\\n",
       "0  https://www.instagram.com/p/CH-YUcyHztq/   \n",
       "1  https://www.instagram.com/p/CH-YTh0DuDM/   \n",
       "2  https://www.instagram.com/p/CH-Nm64MXy8/   \n",
       "3  https://www.instagram.com/p/CH9FS3VnaL-/   \n",
       "4  https://www.instagram.com/p/CH8qlQ8ljz2/   \n",
       "\n",
       "                                               Photo Title  \\\n",
       "0  https://scontent-sea1-1.cdninstagram.com/v/t51...   NaN   \n",
       "1  https://scontent-sea1-1.cdninstagram.com/v/t51...   NaN   \n",
       "2  https://scontent-sea1-1.cdninstagram.com/v/t51...   NaN   \n",
       "3  https://scontent-sea1-1.cdninstagram.com/v/t51...   NaN   \n",
       "4  https://scontent-sea1-1.cdninstagram.com/v/t51...   NaN   \n",
       "\n",
       "                                         Description  \\\n",
       "0                                                🥲🥲🥲   \n",
       "1  LA PARADOJA DE LA DIETA CETOGENICA\\n.\\nMuchas ...   \n",
       "2  🙌🏻NO JUZGUES DECISIONES AJENAS🙌🏻 detrás de ca...   \n",
       "3  No existe el camino corto, cambia tu estilo de...   \n",
       "4  🍎 VEGAN APPLE BREAD ¡fácil y delicioso! Toca d...   \n",
       "\n",
       "                                          Image Text  Sponsor Id  \\\n",
       "0  Cuando vas al gimnasio, pero la cara no mejora...         NaN   \n",
       "1                                                NaN         NaN   \n",
       "2  Somos NO JUZGUES decisiones ajenas \"¿ESTÁS HAC...         NaN   \n",
       "3  Alex Fernandez @vlexfit No existe ninguna diet...         NaN   \n",
       "4                                                NaN         NaN   \n",
       "\n",
       "   Sponsor Name  Overperforming Score  \n",
       "0           NaN                  1.18  \n",
       "1           NaN                  4.29  \n",
       "2           NaN                  1.31  \n",
       "3           NaN                 -1.60  \n",
       "4           NaN                 -1.27  "
      ]
     },
     "execution_count": 1,
     "metadata": {},
     "output_type": "execute_result"
    }
   ],
   "source": [
    "dataFit = pd.read_csv(\n",
    "    \"https://drive.google.com/uc?export=download&id=1wEN85LBolVxFKKpNwWZwxb90do60okyN\"\n",
    ")\n",
    "print(dataFit.columns)\n",
    "print(dataFit.shape)\n",
    "dataFit.head()"
   ]
  },
  {
   "cell_type": "code",
   "execution_count": 3,
   "id": "7bae485c",
   "metadata": {
    "execution": {
     "iopub.execute_input": "2021-04-28T21:38:46.129070Z",
     "iopub.status.busy": "2021-04-28T21:38:46.127827Z",
     "iopub.status.idle": "2021-04-28T21:38:46.131423Z",
     "shell.execute_reply": "2021-04-28T21:38:46.131907Z"
    }
   },
   "outputs": [
    {
     "data": {
      "text/plain": [
       "array(['caloria.fit', 'feder.gala', 'somosfit', 'fit_happy_sisters'],\n",
       "      dtype=object)"
      ]
     },
     "execution_count": 1,
     "metadata": {},
     "output_type": "execute_result"
    }
   ],
   "source": [
    "dataFit[\"User Name\"].unique()"
   ]
  },
  {
   "cell_type": "code",
   "execution_count": 4,
   "id": "dde48543",
   "metadata": {
    "execution": {
     "iopub.execute_input": "2021-04-28T21:38:46.137157Z",
     "iopub.status.busy": "2021-04-28T21:38:46.136593Z",
     "iopub.status.idle": "2021-04-28T21:38:49.035040Z",
     "shell.execute_reply": "2021-04-28T21:38:49.034506Z"
    }
   },
   "outputs": [
    {
     "name": "stdout",
     "output_type": "stream",
     "text": [
      "Index(['Account', 'User Name', 'Followers at Posting', 'Created', 'Type',\n",
      "       'Likes', 'Comments', 'Views', 'URL', 'Link', 'Photo', 'Title',\n",
      "       'Description', 'Image Text', 'Sponsor Id', 'Sponsor Name',\n",
      "       'Overperforming Score'],\n",
      "      dtype='object')\n",
      "(3935, 17)\n"
     ]
    },
    {
     "data": {
      "text/html": [
       "<div>\n",
       "<style scoped>\n",
       "    .dataframe tbody tr th:only-of-type {\n",
       "        vertical-align: middle;\n",
       "    }\n",
       "\n",
       "    .dataframe tbody tr th {\n",
       "        vertical-align: top;\n",
       "    }\n",
       "\n",
       "    .dataframe thead th {\n",
       "        text-align: right;\n",
       "    }\n",
       "</style>\n",
       "<table border=\"1\" class=\"dataframe\">\n",
       "  <thead>\n",
       "    <tr style=\"text-align: right;\">\n",
       "      <th></th>\n",
       "      <th>Account</th>\n",
       "      <th>User Name</th>\n",
       "      <th>Followers at Posting</th>\n",
       "      <th>Created</th>\n",
       "      <th>Type</th>\n",
       "      <th>Likes</th>\n",
       "      <th>Comments</th>\n",
       "      <th>Views</th>\n",
       "      <th>URL</th>\n",
       "      <th>Link</th>\n",
       "      <th>Photo</th>\n",
       "      <th>Title</th>\n",
       "      <th>Description</th>\n",
       "      <th>Image Text</th>\n",
       "      <th>Sponsor Id</th>\n",
       "      <th>Sponsor Name</th>\n",
       "      <th>Overperforming Score</th>\n",
       "    </tr>\n",
       "  </thead>\n",
       "  <tbody>\n",
       "    <tr>\n",
       "      <th>0</th>\n",
       "      <td>Lic. M. Agustina Murcho</td>\n",
       "      <td>nutricion.ag</td>\n",
       "      <td>382855.0</td>\n",
       "      <td>2020-11-24 07:29:11 EST</td>\n",
       "      <td>Photo</td>\n",
       "      <td>777</td>\n",
       "      <td>20</td>\n",
       "      <td>0</td>\n",
       "      <td>https://www.instagram.com/p/CH-TktkD1_Q/</td>\n",
       "      <td>https://www.instagram.com/p/CH-TktkD1_Q/</td>\n",
       "      <td>https://scontent-sea1-1.cdninstagram.com/v/t51...</td>\n",
       "      <td>NaN</td>\n",
       "      <td>💭Siempre estuvo “de moda” el hacer dieta. O má...</td>\n",
       "      <td>Las dietas restrictivas aumentan la Ghrelina. ...</td>\n",
       "      <td>NaN</td>\n",
       "      <td>NaN</td>\n",
       "      <td>-1.23</td>\n",
       "    </tr>\n",
       "    <tr>\n",
       "      <th>1</th>\n",
       "      <td>Lic. Estefanía Beltrami 🍓🍍🍏</td>\n",
       "      <td>nutricion.salud.arg</td>\n",
       "      <td>1733611.0</td>\n",
       "      <td>2020-11-24 05:59:41 EST</td>\n",
       "      <td>Photo</td>\n",
       "      <td>2984</td>\n",
       "      <td>31</td>\n",
       "      <td>0</td>\n",
       "      <td>https://www.instagram.com/p/CH-JVPEA7Ku/</td>\n",
       "      <td>https://www.instagram.com/p/CH-JVPEA7Ku/</td>\n",
       "      <td>https://scontent-sea1-1.cdninstagram.com/v/t51...</td>\n",
       "      <td>NaN</td>\n",
       "      <td>👩🏼‍⚕️ A pesar de que ya todos saben que no pro...</td>\n",
       "      <td>EL HPAD CAMINO AL ÉXITO EXPECTATIVA REALIDAD</td>\n",
       "      <td>NaN</td>\n",
       "      <td>NaN</td>\n",
       "      <td>-1.70</td>\n",
       "    </tr>\n",
       "    <tr>\n",
       "      <th>2</th>\n",
       "      <td>T i n i</td>\n",
       "      <td>agusazcuy</td>\n",
       "      <td>NaN</td>\n",
       "      <td>2020-11-23 19:49:49 EST</td>\n",
       "      <td>IGTV</td>\n",
       "      <td>160</td>\n",
       "      <td>7</td>\n",
       "      <td>3073</td>\n",
       "      <td>https://www.instagram.com/tv/CH9Df9KD6c9/</td>\n",
       "      <td>https://www.instagram.com/tv/CH9Df9KD6c9/</td>\n",
       "      <td>https://scontent-sea1-1.cdninstagram.com/v/t51...</td>\n",
       "      <td>@casanueza LA PREVIA😍con @caazcuy</td>\n",
       "      <td>NaN</td>\n",
       "      <td>NaN</td>\n",
       "      <td>NaN</td>\n",
       "      <td>NaN</td>\n",
       "      <td>-5.61</td>\n",
       "    </tr>\n",
       "    <tr>\n",
       "      <th>3</th>\n",
       "      <td>Lic. M. Agustina Murcho</td>\n",
       "      <td>nutricion.ag</td>\n",
       "      <td>382828.0</td>\n",
       "      <td>2020-11-23 18:33:18 EST</td>\n",
       "      <td>Photo</td>\n",
       "      <td>1755</td>\n",
       "      <td>15</td>\n",
       "      <td>0</td>\n",
       "      <td>https://www.instagram.com/p/CH86x9NDTOf/</td>\n",
       "      <td>https://www.instagram.com/p/CH86x9NDTOf/</td>\n",
       "      <td>https://scontent-sea1-1.cdninstagram.com/v/t51...</td>\n",
       "      <td>NaN</td>\n",
       "      <td>😍Alguna vez probaron ravioles con vegetales? M...</td>\n",
       "      <td>NaN</td>\n",
       "      <td>NaN</td>\n",
       "      <td>NaN</td>\n",
       "      <td>-1.30</td>\n",
       "    </tr>\n",
       "    <tr>\n",
       "      <th>4</th>\n",
       "      <td>Coco I 🔜 IIN Health Coach</td>\n",
       "      <td>cocofitzm</td>\n",
       "      <td>NaN</td>\n",
       "      <td>2020-11-23 18:33:10 EST</td>\n",
       "      <td>IGTV</td>\n",
       "      <td>140</td>\n",
       "      <td>1</td>\n",
       "      <td>1646</td>\n",
       "      <td>https://www.instagram.com/tv/CH86ulwDAgW/</td>\n",
       "      <td>https://www.instagram.com/tv/CH86ulwDAgW/</td>\n",
       "      <td>https://scontent-sea1-1.cdninstagram.com/v/t51...</td>\n",
       "      <td>Q&amp;A ✨</td>\n",
       "      <td>NaN</td>\n",
       "      <td>NaN</td>\n",
       "      <td>NaN</td>\n",
       "      <td>NaN</td>\n",
       "      <td>1.68</td>\n",
       "    </tr>\n",
       "  </tbody>\n",
       "</table>\n",
       "</div>"
      ],
      "text/plain": [
       "                        Account            User Name  Followers at Posting  \\\n",
       "0       Lic. M. Agustina Murcho         nutricion.ag              382855.0   \n",
       "1  Lic. Estefanía Beltrami 🍓🍍🍏  nutricion.salud.arg             1733611.0   \n",
       "2                       T i n i            agusazcuy                   NaN   \n",
       "3       Lic. M. Agustina Murcho         nutricion.ag              382828.0   \n",
       "4     Coco I 🔜 IIN Health Coach            cocofitzm                   NaN   \n",
       "\n",
       "                   Created   Type  Likes  Comments  Views  \\\n",
       "0  2020-11-24 07:29:11 EST  Photo    777        20      0   \n",
       "1  2020-11-24 05:59:41 EST  Photo   2984        31      0   \n",
       "2  2020-11-23 19:49:49 EST   IGTV    160         7   3073   \n",
       "3  2020-11-23 18:33:18 EST  Photo   1755        15      0   \n",
       "4  2020-11-23 18:33:10 EST   IGTV    140         1   1646   \n",
       "\n",
       "                                         URL  \\\n",
       "0   https://www.instagram.com/p/CH-TktkD1_Q/   \n",
       "1   https://www.instagram.com/p/CH-JVPEA7Ku/   \n",
       "2  https://www.instagram.com/tv/CH9Df9KD6c9/   \n",
       "3   https://www.instagram.com/p/CH86x9NDTOf/   \n",
       "4  https://www.instagram.com/tv/CH86ulwDAgW/   \n",
       "\n",
       "                                        Link  \\\n",
       "0   https://www.instagram.com/p/CH-TktkD1_Q/   \n",
       "1   https://www.instagram.com/p/CH-JVPEA7Ku/   \n",
       "2  https://www.instagram.com/tv/CH9Df9KD6c9/   \n",
       "3   https://www.instagram.com/p/CH86x9NDTOf/   \n",
       "4  https://www.instagram.com/tv/CH86ulwDAgW/   \n",
       "\n",
       "                                               Photo  \\\n",
       "0  https://scontent-sea1-1.cdninstagram.com/v/t51...   \n",
       "1  https://scontent-sea1-1.cdninstagram.com/v/t51...   \n",
       "2  https://scontent-sea1-1.cdninstagram.com/v/t51...   \n",
       "3  https://scontent-sea1-1.cdninstagram.com/v/t51...   \n",
       "4  https://scontent-sea1-1.cdninstagram.com/v/t51...   \n",
       "\n",
       "                               Title  \\\n",
       "0                                NaN   \n",
       "1                                NaN   \n",
       "2  @casanueza LA PREVIA😍con @caazcuy   \n",
       "3                                NaN   \n",
       "4                              Q&A ✨   \n",
       "\n",
       "                                         Description  \\\n",
       "0  💭Siempre estuvo “de moda” el hacer dieta. O má...   \n",
       "1  👩🏼‍⚕️ A pesar de que ya todos saben que no pro...   \n",
       "2                                                NaN   \n",
       "3  😍Alguna vez probaron ravioles con vegetales? M...   \n",
       "4                                                NaN   \n",
       "\n",
       "                                          Image Text  Sponsor Id Sponsor Name  \\\n",
       "0  Las dietas restrictivas aumentan la Ghrelina. ...         NaN          NaN   \n",
       "1       EL HPAD CAMINO AL ÉXITO EXPECTATIVA REALIDAD         NaN          NaN   \n",
       "2                                                NaN         NaN          NaN   \n",
       "3                                                NaN         NaN          NaN   \n",
       "4                                                NaN         NaN          NaN   \n",
       "\n",
       "   Overperforming Score  \n",
       "0                 -1.23  \n",
       "1                 -1.70  \n",
       "2                 -5.61  \n",
       "3                 -1.30  \n",
       "4                  1.68  "
      ]
     },
     "execution_count": 1,
     "metadata": {},
     "output_type": "execute_result"
    }
   ],
   "source": [
    "dataRecetasFit = pd.read_csv(\n",
    "    \"https://drive.google.com/uc?export=download&id=13FL4Am8VRVPulISyobQf41IbgCgk2Egn\"\n",
    ")\n",
    "print(dataRecetasFit.columns)\n",
    "print(dataRecetasFit.shape)\n",
    "dataRecetasFit.head()"
   ]
  },
  {
   "cell_type": "code",
   "execution_count": 5,
   "id": "2a079e76",
   "metadata": {
    "execution": {
     "iopub.execute_input": "2021-04-28T21:38:49.040260Z",
     "iopub.status.busy": "2021-04-28T21:38:49.038597Z",
     "iopub.status.idle": "2021-04-28T21:38:49.042789Z",
     "shell.execute_reply": "2021-04-28T21:38:49.043255Z"
    }
   },
   "outputs": [
    {
     "data": {
      "text/plain": [
       "array(['nutricion.ag', 'nutricion.salud.arg', 'agusazcuy', 'cocofitzm',\n",
       "       'nutricionamiunes', 'lavieenplant', 'matias.marchetti',\n",
       "       'sofi.deli', 'thehealthyblogger', 'kale.ar', 'nutri.recipes',\n",
       "       'camila.kost', 'being.healthyy', 'silvaldemoros', '_hinojo'],\n",
       "      dtype=object)"
      ]
     },
     "execution_count": 1,
     "metadata": {},
     "output_type": "execute_result"
    }
   ],
   "source": [
    "dataRecetasFit[\"User Name\"].unique()"
   ]
  },
  {
   "cell_type": "code",
   "execution_count": 6,
   "id": "642b8629",
   "metadata": {
    "execution": {
     "iopub.execute_input": "2021-04-28T21:38:49.048359Z",
     "iopub.status.busy": "2021-04-28T21:38:49.047755Z",
     "iopub.status.idle": "2021-04-28T21:38:51.822155Z",
     "shell.execute_reply": "2021-04-28T21:38:51.822632Z"
    }
   },
   "outputs": [
    {
     "name": "stdout",
     "output_type": "stream",
     "text": [
      "(4886, 17)\n"
     ]
    },
    {
     "data": {
      "text/html": [
       "<div>\n",
       "<style scoped>\n",
       "    .dataframe tbody tr th:only-of-type {\n",
       "        vertical-align: middle;\n",
       "    }\n",
       "\n",
       "    .dataframe tbody tr th {\n",
       "        vertical-align: top;\n",
       "    }\n",
       "\n",
       "    .dataframe thead th {\n",
       "        text-align: right;\n",
       "    }\n",
       "</style>\n",
       "<table border=\"1\" class=\"dataframe\">\n",
       "  <thead>\n",
       "    <tr style=\"text-align: right;\">\n",
       "      <th></th>\n",
       "      <th>Account</th>\n",
       "      <th>User Name</th>\n",
       "      <th>Followers at Posting</th>\n",
       "      <th>Created</th>\n",
       "      <th>Type</th>\n",
       "      <th>Likes</th>\n",
       "      <th>Comments</th>\n",
       "      <th>Views</th>\n",
       "      <th>URL</th>\n",
       "      <th>Link</th>\n",
       "      <th>Photo</th>\n",
       "      <th>Title</th>\n",
       "      <th>Description</th>\n",
       "      <th>Image Text</th>\n",
       "      <th>Sponsor Id</th>\n",
       "      <th>Sponsor Name</th>\n",
       "      <th>Overperforming Score</th>\n",
       "    </tr>\n",
       "  </thead>\n",
       "  <tbody>\n",
       "    <tr>\n",
       "      <th>0</th>\n",
       "      <td>Paulina Cocina - Recetas y eso</td>\n",
       "      <td>paulinacocina</td>\n",
       "      <td>2181478</td>\n",
       "      <td>2020-11-23 20:40:29 EST</td>\n",
       "      <td>IGTV</td>\n",
       "      <td>11461</td>\n",
       "      <td>138</td>\n",
       "      <td>206045</td>\n",
       "      <td>https://www.instagram.com/tv/CH9CjmChgL9/</td>\n",
       "      <td>https://www.instagram.com/tv/CH9CjmChgL9/</td>\n",
       "      <td>https://scontent-sea1-1.cdninstagram.com/v/t51...</td>\n",
       "      <td>Wok de verduras - La Caja de Paulina 📦</td>\n",
       "      <td>Esta receta es ideal para cuando querés que al...</td>\n",
       "      <td>NaN</td>\n",
       "      <td>NaN</td>\n",
       "      <td>NaN</td>\n",
       "      <td>-1.42</td>\n",
       "    </tr>\n",
       "    <tr>\n",
       "      <th>1</th>\n",
       "      <td>Estefi Colombo</td>\n",
       "      <td>esteficolombo</td>\n",
       "      <td>628499</td>\n",
       "      <td>2020-11-23 19:36:19 EST</td>\n",
       "      <td>Photo</td>\n",
       "      <td>8409</td>\n",
       "      <td>24927</td>\n",
       "      <td>0</td>\n",
       "      <td>https://www.instagram.com/p/CH9B_g4j_8F/</td>\n",
       "      <td>https://www.instagram.com/p/CH9B_g4j_8F/</td>\n",
       "      <td>https://scontent-sea1-1.cdninstagram.com/v/t51...</td>\n",
       "      <td>NaN</td>\n",
       "      <td>🥳Sorteo!!! 20 ‼️ cajas llenas  de productos @s...</td>\n",
       "      <td>NaN</td>\n",
       "      <td>NaN</td>\n",
       "      <td>NaN</td>\n",
       "      <td>14.17</td>\n",
       "    </tr>\n",
       "    <tr>\n",
       "      <th>2</th>\n",
       "      <td>Valentina</td>\n",
       "      <td>valuramallo</td>\n",
       "      <td>414068</td>\n",
       "      <td>2020-11-23 19:10:10 EST</td>\n",
       "      <td>IGTV</td>\n",
       "      <td>1972</td>\n",
       "      <td>27</td>\n",
       "      <td>31346</td>\n",
       "      <td>https://www.instagram.com/tv/CH8-0l7loo_/</td>\n",
       "      <td>https://www.instagram.com/tv/CH8-0l7loo_/</td>\n",
       "      <td>https://scontent-sea1-1.cdninstagram.com/v/t51...</td>\n",
       "      <td>🤎Parece que sigue el calor Torta con base croc...</td>\n",
       "      <td>MEGA FACIL, rapida yyyy riquiiisima!! con base...</td>\n",
       "      <td>NaN</td>\n",
       "      <td>NaN</td>\n",
       "      <td>NaN</td>\n",
       "      <td>1.24</td>\n",
       "    </tr>\n",
       "    <tr>\n",
       "      <th>3</th>\n",
       "      <td>Cocineros Argentinos</td>\n",
       "      <td>cocinerosarg</td>\n",
       "      <td>1572373</td>\n",
       "      <td>2020-11-23 18:15:13 EST</td>\n",
       "      <td>Album</td>\n",
       "      <td>2348</td>\n",
       "      <td>75</td>\n",
       "      <td>0</td>\n",
       "      <td>https://www.instagram.com/p/CH84tg_AHaL/</td>\n",
       "      <td>https://www.instagram.com/p/CH84tg_AHaL/</td>\n",
       "      <td>https://scontent-sea1-1.cdninstagram.com/v/t51...</td>\n",
       "      <td>NaN</td>\n",
       "      <td>Espectacular PASTEL DE NOVIA SANTIAGUEÑO 🔥 que...</td>\n",
       "      <td>NaN</td>\n",
       "      <td>NaN</td>\n",
       "      <td>NaN</td>\n",
       "      <td>-1.31</td>\n",
       "    </tr>\n",
       "    <tr>\n",
       "      <th>4</th>\n",
       "      <td>Jimena Monteverde</td>\n",
       "      <td>jimemonteverde</td>\n",
       "      <td>701757</td>\n",
       "      <td>2020-11-23 17:36:28 EST</td>\n",
       "      <td>IGTV</td>\n",
       "      <td>4513</td>\n",
       "      <td>142</td>\n",
       "      <td>56811</td>\n",
       "      <td>https://www.instagram.com/tv/CH80F9oJ3my/</td>\n",
       "      <td>https://www.instagram.com/tv/CH80F9oJ3my/</td>\n",
       "      <td>https://scontent-sea1-1.cdninstagram.com/v/t51...</td>\n",
       "      <td>ENTRAÑAS AL MALBEC 🍇🍷</td>\n",
       "      <td>Hermoso día para estar al aire libre, disfruta...</td>\n",
       "      <td>NaN</td>\n",
       "      <td>NaN</td>\n",
       "      <td>NaN</td>\n",
       "      <td>-1.03</td>\n",
       "    </tr>\n",
       "  </tbody>\n",
       "</table>\n",
       "</div>"
      ],
      "text/plain": [
       "                          Account       User Name  Followers at Posting  \\\n",
       "0  Paulina Cocina - Recetas y eso   paulinacocina               2181478   \n",
       "1                  Estefi Colombo   esteficolombo                628499   \n",
       "2                       Valentina     valuramallo                414068   \n",
       "3            Cocineros Argentinos    cocinerosarg               1572373   \n",
       "4               Jimena Monteverde  jimemonteverde                701757   \n",
       "\n",
       "                   Created   Type  Likes  Comments   Views  \\\n",
       "0  2020-11-23 20:40:29 EST   IGTV  11461       138  206045   \n",
       "1  2020-11-23 19:36:19 EST  Photo   8409     24927       0   \n",
       "2  2020-11-23 19:10:10 EST   IGTV   1972        27   31346   \n",
       "3  2020-11-23 18:15:13 EST  Album   2348        75       0   \n",
       "4  2020-11-23 17:36:28 EST   IGTV   4513       142   56811   \n",
       "\n",
       "                                         URL  \\\n",
       "0  https://www.instagram.com/tv/CH9CjmChgL9/   \n",
       "1   https://www.instagram.com/p/CH9B_g4j_8F/   \n",
       "2  https://www.instagram.com/tv/CH8-0l7loo_/   \n",
       "3   https://www.instagram.com/p/CH84tg_AHaL/   \n",
       "4  https://www.instagram.com/tv/CH80F9oJ3my/   \n",
       "\n",
       "                                        Link  \\\n",
       "0  https://www.instagram.com/tv/CH9CjmChgL9/   \n",
       "1   https://www.instagram.com/p/CH9B_g4j_8F/   \n",
       "2  https://www.instagram.com/tv/CH8-0l7loo_/   \n",
       "3   https://www.instagram.com/p/CH84tg_AHaL/   \n",
       "4  https://www.instagram.com/tv/CH80F9oJ3my/   \n",
       "\n",
       "                                               Photo  \\\n",
       "0  https://scontent-sea1-1.cdninstagram.com/v/t51...   \n",
       "1  https://scontent-sea1-1.cdninstagram.com/v/t51...   \n",
       "2  https://scontent-sea1-1.cdninstagram.com/v/t51...   \n",
       "3  https://scontent-sea1-1.cdninstagram.com/v/t51...   \n",
       "4  https://scontent-sea1-1.cdninstagram.com/v/t51...   \n",
       "\n",
       "                                               Title  \\\n",
       "0             Wok de verduras - La Caja de Paulina 📦   \n",
       "1                                                NaN   \n",
       "2  🤎Parece que sigue el calor Torta con base croc...   \n",
       "3                                                NaN   \n",
       "4                              ENTRAÑAS AL MALBEC 🍇🍷   \n",
       "\n",
       "                                         Description Image Text  Sponsor Id  \\\n",
       "0  Esta receta es ideal para cuando querés que al...        NaN         NaN   \n",
       "1  🥳Sorteo!!! 20 ‼️ cajas llenas  de productos @s...        NaN         NaN   \n",
       "2  MEGA FACIL, rapida yyyy riquiiisima!! con base...        NaN         NaN   \n",
       "3  Espectacular PASTEL DE NOVIA SANTIAGUEÑO 🔥 que...        NaN         NaN   \n",
       "4  Hermoso día para estar al aire libre, disfruta...        NaN         NaN   \n",
       "\n",
       "  Sponsor Name Overperforming Score  \n",
       "0          NaN                -1.42  \n",
       "1          NaN                14.17  \n",
       "2          NaN                 1.24  \n",
       "3          NaN                -1.31  \n",
       "4          NaN                -1.03  "
      ]
     },
     "execution_count": 1,
     "metadata": {},
     "output_type": "execute_result"
    }
   ],
   "source": [
    "dataRecetas = pd.read_csv(\n",
    "    \"https://drive.google.com/uc?export=download&id=1k0rSIpL9ycPtGSjZoIDhy6wQG3l6KxuE\"\n",
    ")\n",
    "print(dataRecetas.shape)\n",
    "dataRecetas.head()"
   ]
  },
  {
   "cell_type": "code",
   "execution_count": 7,
   "id": "1dfb661f",
   "metadata": {
    "execution": {
     "iopub.execute_input": "2021-04-28T21:38:51.827935Z",
     "iopub.status.busy": "2021-04-28T21:38:51.826339Z",
     "iopub.status.idle": "2021-04-28T21:38:51.830777Z",
     "shell.execute_reply": "2021-04-28T21:38:51.830336Z"
    }
   },
   "outputs": [
    {
     "data": {
      "text/plain": [
       "array(['paulinacocina', 'esteficolombo', 'valuramallo', 'cocinerosarg',\n",
       "       'jimemonteverde', 'ximena_saenz', 'arielrodriguezpalacios',\n",
       "       'deliascakes', 'marubotanaok', 'unblogderecetas', 'cookvanoyen',\n",
       "       'agoschinelli', 'inutilisimas', 'teodeliinesias'], dtype=object)"
      ]
     },
     "execution_count": 1,
     "metadata": {},
     "output_type": "execute_result"
    }
   ],
   "source": [
    "dataRecetas[\"User Name\"].unique()"
   ]
  },
  {
   "cell_type": "code",
   "execution_count": 8,
   "id": "bd87533e",
   "metadata": {
    "execution": {
     "iopub.execute_input": "2021-04-28T21:38:51.835109Z",
     "iopub.status.busy": "2021-04-28T21:38:51.834549Z",
     "iopub.status.idle": "2021-04-28T21:38:53.306548Z",
     "shell.execute_reply": "2021-04-28T21:38:53.307152Z"
    }
   },
   "outputs": [
    {
     "name": "stdout",
     "output_type": "stream",
     "text": [
      "(484, 17)\n"
     ]
    },
    {
     "data": {
      "text/html": [
       "<div>\n",
       "<style scoped>\n",
       "    .dataframe tbody tr th:only-of-type {\n",
       "        vertical-align: middle;\n",
       "    }\n",
       "\n",
       "    .dataframe tbody tr th {\n",
       "        vertical-align: top;\n",
       "    }\n",
       "\n",
       "    .dataframe thead th {\n",
       "        text-align: right;\n",
       "    }\n",
       "</style>\n",
       "<table border=\"1\" class=\"dataframe\">\n",
       "  <thead>\n",
       "    <tr style=\"text-align: right;\">\n",
       "      <th></th>\n",
       "      <th>Account</th>\n",
       "      <th>User Name</th>\n",
       "      <th>Followers at Posting</th>\n",
       "      <th>Created</th>\n",
       "      <th>Type</th>\n",
       "      <th>Likes</th>\n",
       "      <th>Comments</th>\n",
       "      <th>Views</th>\n",
       "      <th>URL</th>\n",
       "      <th>Link</th>\n",
       "      <th>Photo</th>\n",
       "      <th>Title</th>\n",
       "      <th>Description</th>\n",
       "      <th>Image Text</th>\n",
       "      <th>Sponsor Id</th>\n",
       "      <th>Sponsor Name</th>\n",
       "      <th>Overperforming Score</th>\n",
       "    </tr>\n",
       "  </thead>\n",
       "  <tbody>\n",
       "    <tr>\n",
       "      <th>0</th>\n",
       "      <td>Ramon Abila</td>\n",
       "      <td>wanchope_abila9</td>\n",
       "      <td>853995.0</td>\n",
       "      <td>2020-11-22 18:17:02 EST</td>\n",
       "      <td>Album</td>\n",
       "      <td>34162</td>\n",
       "      <td>98</td>\n",
       "      <td>0</td>\n",
       "      <td>https://www.instagram.com/p/CH6UICOJtiX/</td>\n",
       "      <td>https://www.instagram.com/p/CH6UICOJtiX/</td>\n",
       "      <td>https://scontent-sea1-1.cdninstagram.com/v/t51...</td>\n",
       "      <td>NaN</td>\n",
       "      <td>@bocajrsoficial 🏆🤩💙💛💙</td>\n",
       "      <td>NaN</td>\n",
       "      <td>NaN</td>\n",
       "      <td>NaN</td>\n",
       "      <td>-1.79</td>\n",
       "    </tr>\n",
       "    <tr>\n",
       "      <th>1</th>\n",
       "      <td>Leonardo Ponzio</td>\n",
       "      <td>leoponzio_ok</td>\n",
       "      <td>1421613.0</td>\n",
       "      <td>2020-11-22 10:26:06 EST</td>\n",
       "      <td>Album</td>\n",
       "      <td>114434</td>\n",
       "      <td>1399</td>\n",
       "      <td>0</td>\n",
       "      <td>https://www.instagram.com/p/CH5eOuzj8Do/</td>\n",
       "      <td>https://www.instagram.com/p/CH5eOuzj8Do/</td>\n",
       "      <td>https://scontent-sea1-1.cdninstagram.com/v/t51...</td>\n",
       "      <td>NaN</td>\n",
       "      <td>@riverplate</td>\n",
       "      <td>NaN</td>\n",
       "      <td>NaN</td>\n",
       "      <td>NaN</td>\n",
       "      <td>1.19</td>\n",
       "    </tr>\n",
       "    <tr>\n",
       "      <th>2</th>\n",
       "      <td>Federico Mancuello</td>\n",
       "      <td>mancuello</td>\n",
       "      <td>443746.0</td>\n",
       "      <td>2020-11-21 20:21:45 EST</td>\n",
       "      <td>Album</td>\n",
       "      <td>14281</td>\n",
       "      <td>128</td>\n",
       "      <td>0</td>\n",
       "      <td>https://www.instagram.com/p/CH39mmMMLNr/</td>\n",
       "      <td>https://www.instagram.com/p/CH39mmMMLNr/</td>\n",
       "      <td>https://scontent-sea1-1.cdninstagram.com/v/t51...</td>\n",
       "      <td>NaN</td>\n",
       "      <td>Buen triunfo fuera de casa .!! \\nA seguir que ...</td>\n",
       "      <td>NaN</td>\n",
       "      <td>NaN</td>\n",
       "      <td>NaN</td>\n",
       "      <td>1.68</td>\n",
       "    </tr>\n",
       "    <tr>\n",
       "      <th>3</th>\n",
       "      <td>Julio Buffarini</td>\n",
       "      <td>buffarini07</td>\n",
       "      <td>710873.0</td>\n",
       "      <td>2020-11-21 17:54:54 EST</td>\n",
       "      <td>Photo</td>\n",
       "      <td>40913</td>\n",
       "      <td>286</td>\n",
       "      <td>0</td>\n",
       "      <td>https://www.instagram.com/p/CH3szCKrjbj/</td>\n",
       "      <td>https://www.instagram.com/p/CH3szCKrjbj/</td>\n",
       "      <td>https://scontent-sea1-1.cdninstagram.com/v/t51...</td>\n",
       "      <td>NaN</td>\n",
       "      <td>Campeón 2019/2020 🔵🟡🔵💪🏆 @bocajrsoficial</td>\n",
       "      <td>NaN</td>\n",
       "      <td>NaN</td>\n",
       "      <td>NaN</td>\n",
       "      <td>1.63</td>\n",
       "    </tr>\n",
       "    <tr>\n",
       "      <th>4</th>\n",
       "      <td>Pulga Rodríguez</td>\n",
       "      <td>elpulga.ok</td>\n",
       "      <td>76009.0</td>\n",
       "      <td>2020-11-21 17:48:21 EST</td>\n",
       "      <td>Album</td>\n",
       "      <td>14463</td>\n",
       "      <td>120</td>\n",
       "      <td>0</td>\n",
       "      <td>https://www.instagram.com/p/CH3sDCBHtZa/</td>\n",
       "      <td>https://www.instagram.com/p/CH3sDCBHtZa/</td>\n",
       "      <td>https://scontent-sea1-1.cdninstagram.com/v/t51...</td>\n",
       "      <td>NaN</td>\n",
       "      <td>Seguimos!!! +3 🔴⚫️\\n📸 @fedeloute</td>\n",
       "      <td>NaN</td>\n",
       "      <td>NaN</td>\n",
       "      <td>NaN</td>\n",
       "      <td>1.32</td>\n",
       "    </tr>\n",
       "  </tbody>\n",
       "</table>\n",
       "</div>"
      ],
      "text/plain": [
       "              Account        User Name  Followers at Posting  \\\n",
       "0         Ramon Abila  wanchope_abila9              853995.0   \n",
       "1     Leonardo Ponzio     leoponzio_ok             1421613.0   \n",
       "2  Federico Mancuello        mancuello              443746.0   \n",
       "3     Julio Buffarini      buffarini07              710873.0   \n",
       "4    Pulga Rodríguez       elpulga.ok               76009.0   \n",
       "\n",
       "                   Created   Type   Likes  Comments  Views  \\\n",
       "0  2020-11-22 18:17:02 EST  Album   34162        98      0   \n",
       "1  2020-11-22 10:26:06 EST  Album  114434      1399      0   \n",
       "2  2020-11-21 20:21:45 EST  Album   14281       128      0   \n",
       "3  2020-11-21 17:54:54 EST  Photo   40913       286      0   \n",
       "4  2020-11-21 17:48:21 EST  Album   14463       120      0   \n",
       "\n",
       "                                        URL  \\\n",
       "0  https://www.instagram.com/p/CH6UICOJtiX/   \n",
       "1  https://www.instagram.com/p/CH5eOuzj8Do/   \n",
       "2  https://www.instagram.com/p/CH39mmMMLNr/   \n",
       "3  https://www.instagram.com/p/CH3szCKrjbj/   \n",
       "4  https://www.instagram.com/p/CH3sDCBHtZa/   \n",
       "\n",
       "                                       Link  \\\n",
       "0  https://www.instagram.com/p/CH6UICOJtiX/   \n",
       "1  https://www.instagram.com/p/CH5eOuzj8Do/   \n",
       "2  https://www.instagram.com/p/CH39mmMMLNr/   \n",
       "3  https://www.instagram.com/p/CH3szCKrjbj/   \n",
       "4  https://www.instagram.com/p/CH3sDCBHtZa/   \n",
       "\n",
       "                                               Photo Title  \\\n",
       "0  https://scontent-sea1-1.cdninstagram.com/v/t51...   NaN   \n",
       "1  https://scontent-sea1-1.cdninstagram.com/v/t51...   NaN   \n",
       "2  https://scontent-sea1-1.cdninstagram.com/v/t51...   NaN   \n",
       "3  https://scontent-sea1-1.cdninstagram.com/v/t51...   NaN   \n",
       "4  https://scontent-sea1-1.cdninstagram.com/v/t51...   NaN   \n",
       "\n",
       "                                         Description Image Text  Sponsor Id  \\\n",
       "0                              @bocajrsoficial 🏆🤩💙💛💙        NaN         NaN   \n",
       "1                                        @riverplate        NaN         NaN   \n",
       "2  Buen triunfo fuera de casa .!! \\nA seguir que ...        NaN         NaN   \n",
       "3            Campeón 2019/2020 🔵🟡🔵💪🏆 @bocajrsoficial        NaN         NaN   \n",
       "4                   Seguimos!!! +3 🔴⚫️\\n📸 @fedeloute        NaN         NaN   \n",
       "\n",
       "  Sponsor Name  Overperforming Score  \n",
       "0          NaN                 -1.79  \n",
       "1          NaN                  1.19  \n",
       "2          NaN                  1.68  \n",
       "3          NaN                  1.63  \n",
       "4          NaN                  1.32  "
      ]
     },
     "execution_count": 1,
     "metadata": {},
     "output_type": "execute_result"
    }
   ],
   "source": [
    "dataJugadoresArg = pd.read_csv(\n",
    "    \"https://drive.google.com/uc?export=download&id=1YR1uT4USWgXzemIDWYaLwhSEmulwsUP6\"\n",
    ")\n",
    "print(dataJugadoresArg.shape)\n",
    "dataJugadoresArg.head()"
   ]
  },
  {
   "cell_type": "code",
   "execution_count": 9,
   "id": "95434cc4",
   "metadata": {
    "execution": {
     "iopub.execute_input": "2021-04-28T21:38:53.314062Z",
     "iopub.status.busy": "2021-04-28T21:38:53.313010Z",
     "iopub.status.idle": "2021-04-28T21:38:53.316536Z",
     "shell.execute_reply": "2021-04-28T21:38:53.316013Z"
    }
   },
   "outputs": [
    {
     "data": {
      "text/plain": [
       "array(['wanchope_abila9', 'leoponzio_ok', 'mancuello', 'buffarini07',\n",
       "       'elpulga.ok', 'nachofdez90', '__carlitostevez', 'lucaspratto',\n",
       "       'daricvitaok', 'francoarmani34', 'adrianricardo1993',\n",
       "       'jonathan_bottinelli'], dtype=object)"
      ]
     },
     "execution_count": 1,
     "metadata": {},
     "output_type": "execute_result"
    }
   ],
   "source": [
    "dataJugadoresArg[\"User Name\"].unique()"
   ]
  },
  {
   "cell_type": "code",
   "execution_count": 10,
   "id": "937f86fb",
   "metadata": {
    "execution": {
     "iopub.execute_input": "2021-04-28T21:38:53.321266Z",
     "iopub.status.busy": "2021-04-28T21:38:53.320696Z",
     "iopub.status.idle": "2021-04-28T21:38:57.324633Z",
     "shell.execute_reply": "2021-04-28T21:38:57.325488Z"
    }
   },
   "outputs": [
    {
     "data": {
      "text/plain": [
       "array(['tycsports', 'espnfcarg', 'diario.ole', 'foxsportsargentina',\n",
       "       'varskysports', 'libermanmartin', 'chavofucks', 'dflatorre',\n",
       "       'wolffquique', 'rolfimonte23', 'jpvarsky', 'ruggeri86oficial'],\n",
       "      dtype=object)"
      ]
     },
     "execution_count": 1,
     "metadata": {},
     "output_type": "execute_result"
    }
   ],
   "source": [
    "dataPeriodistmoDep = pd.read_csv(\n",
    "    \"https://drive.google.com/uc?export=download&id=1szz4vhaIIi5QBxZM1ZpIrL0plkuyy6Ek\"\n",
    ")\n",
    "dataPeriodistmoDep[\"User Name\"].unique()"
   ]
  },
  {
   "cell_type": "code",
   "execution_count": 11,
   "id": "94052dc3",
   "metadata": {
    "execution": {
     "iopub.execute_input": "2021-04-28T21:38:57.330797Z",
     "iopub.status.busy": "2021-04-28T21:38:57.330231Z",
     "iopub.status.idle": "2021-04-28T21:38:58.918987Z",
     "shell.execute_reply": "2021-04-28T21:38:58.918470Z"
    }
   },
   "outputs": [
    {
     "name": "stdout",
     "output_type": "stream",
     "text": [
      "(853, 17)\n"
     ]
    },
    {
     "data": {
      "text/plain": [
       "array(['nadiapodoroska', 'tagliafico3', 'lautaromartinez',\n",
       "       'chinomaidana.1', 'sponzinibbiomma', 'lucasalario',\n",
       "       'dieschwartzman', 'delpotrojuan', 'laurogerman'], dtype=object)"
      ]
     },
     "execution_count": 1,
     "metadata": {},
     "output_type": "execute_result"
    }
   ],
   "source": [
    "dataotrosDeportistas = pd.read_csv(\n",
    "    \"https://drive.google.com/uc?export=download&id=17-k6vXfQ34T02Mb5-BK-DaezStkj5aRB\"\n",
    ")\n",
    "print(dataotrosDeportistas.shape)\n",
    "dataotrosDeportistas[\"User Name\"].unique()"
   ]
  },
  {
   "cell_type": "markdown",
   "id": "45ebbf0c",
   "metadata": {},
   "source": [
    "Unimos todos los dataframe en uno sólo en el siguiente orden: Fit, recetasFit, Recetas, FutbolArg, PeriodismoDep, otrosDeportistasArg"
   ]
  },
  {
   "cell_type": "code",
   "execution_count": 12,
   "id": "c35d2d3c",
   "metadata": {
    "execution": {
     "iopub.execute_input": "2021-04-28T21:38:58.924662Z",
     "iopub.status.busy": "2021-04-28T21:38:58.923927Z",
     "iopub.status.idle": "2021-04-28T21:38:58.970840Z",
     "shell.execute_reply": "2021-04-28T21:38:58.971426Z"
    }
   },
   "outputs": [
    {
     "name": "stdout",
     "output_type": "stream",
     "text": [
      "(42470, 17)\n"
     ]
    },
    {
     "data": {
      "text/html": [
       "<div>\n",
       "<style scoped>\n",
       "    .dataframe tbody tr th:only-of-type {\n",
       "        vertical-align: middle;\n",
       "    }\n",
       "\n",
       "    .dataframe tbody tr th {\n",
       "        vertical-align: top;\n",
       "    }\n",
       "\n",
       "    .dataframe thead th {\n",
       "        text-align: right;\n",
       "    }\n",
       "</style>\n",
       "<table border=\"1\" class=\"dataframe\">\n",
       "  <thead>\n",
       "    <tr style=\"text-align: right;\">\n",
       "      <th></th>\n",
       "      <th>Account</th>\n",
       "      <th>User Name</th>\n",
       "      <th>Followers at Posting</th>\n",
       "      <th>Created</th>\n",
       "      <th>Type</th>\n",
       "      <th>Likes</th>\n",
       "      <th>Comments</th>\n",
       "      <th>Views</th>\n",
       "      <th>URL</th>\n",
       "      <th>Link</th>\n",
       "      <th>Photo</th>\n",
       "      <th>Title</th>\n",
       "      <th>Description</th>\n",
       "      <th>Image Text</th>\n",
       "      <th>Sponsor Id</th>\n",
       "      <th>Sponsor Name</th>\n",
       "      <th>Overperforming Score</th>\n",
       "    </tr>\n",
       "  </thead>\n",
       "  <tbody>\n",
       "    <tr>\n",
       "      <th>0</th>\n",
       "      <td>RECETAS SALUDABLES | NUTRICION</td>\n",
       "      <td>caloria.fit</td>\n",
       "      <td>660230.0</td>\n",
       "      <td>2020-11-24 08:10:39 EST</td>\n",
       "      <td>Photo</td>\n",
       "      <td>1292</td>\n",
       "      <td>31</td>\n",
       "      <td>0</td>\n",
       "      <td>https://www.instagram.com/p/CH-YUcyHztq/</td>\n",
       "      <td>https://www.instagram.com/p/CH-YUcyHztq/</td>\n",
       "      <td>https://scontent-sea1-1.cdninstagram.com/v/t51...</td>\n",
       "      <td>NaN</td>\n",
       "      <td>🥲🥲🥲</td>\n",
       "      <td>Cuando vas al gimnasio, pero la cara no mejora...</td>\n",
       "      <td>NaN</td>\n",
       "      <td>NaN</td>\n",
       "      <td>1.18</td>\n",
       "    </tr>\n",
       "    <tr>\n",
       "      <th>1</th>\n",
       "      <td>Federico Galassi</td>\n",
       "      <td>feder.gala</td>\n",
       "      <td>23392.0</td>\n",
       "      <td>2020-11-24 08:10:31 EST</td>\n",
       "      <td>Album</td>\n",
       "      <td>52</td>\n",
       "      <td>8</td>\n",
       "      <td>0</td>\n",
       "      <td>https://www.instagram.com/p/CH-YTh0DuDM/</td>\n",
       "      <td>https://www.instagram.com/p/CH-YTh0DuDM/</td>\n",
       "      <td>https://scontent-sea1-1.cdninstagram.com/v/t51...</td>\n",
       "      <td>NaN</td>\n",
       "      <td>LA PARADOJA DE LA DIETA CETOGENICA\\n.\\nMuchas ...</td>\n",
       "      <td>NaN</td>\n",
       "      <td>NaN</td>\n",
       "      <td>NaN</td>\n",
       "      <td>4.29</td>\n",
       "    </tr>\n",
       "    <tr>\n",
       "      <th>2</th>\n",
       "      <td>SomosFit</td>\n",
       "      <td>somosfit</td>\n",
       "      <td>NaN</td>\n",
       "      <td>2020-11-24 06:37:06 EST</td>\n",
       "      <td>Photo</td>\n",
       "      <td>361</td>\n",
       "      <td>8</td>\n",
       "      <td>0</td>\n",
       "      <td>https://www.instagram.com/p/CH-Nm64MXy8/</td>\n",
       "      <td>https://www.instagram.com/p/CH-Nm64MXy8/</td>\n",
       "      <td>https://scontent-sea1-1.cdninstagram.com/v/t51...</td>\n",
       "      <td>NaN</td>\n",
       "      <td>🙌🏻NO JUZGUES DECISIONES AJENAS🙌🏻 detrás de ca...</td>\n",
       "      <td>Somos NO JUZGUES decisiones ajenas \"¿ESTÁS HAC...</td>\n",
       "      <td>NaN</td>\n",
       "      <td>NaN</td>\n",
       "      <td>1.31</td>\n",
       "    </tr>\n",
       "    <tr>\n",
       "      <th>3</th>\n",
       "      <td>RECETAS SALUDABLES | NUTRICION</td>\n",
       "      <td>caloria.fit</td>\n",
       "      <td>660230.0</td>\n",
       "      <td>2020-11-23 20:05:10 EST</td>\n",
       "      <td>Photo</td>\n",
       "      <td>3095</td>\n",
       "      <td>25</td>\n",
       "      <td>0</td>\n",
       "      <td>https://www.instagram.com/p/CH9FS3VnaL-/</td>\n",
       "      <td>https://www.instagram.com/p/CH9FS3VnaL-/</td>\n",
       "      <td>https://scontent-sea1-1.cdninstagram.com/v/t51...</td>\n",
       "      <td>NaN</td>\n",
       "      <td>No existe el camino corto, cambia tu estilo de...</td>\n",
       "      <td>Alex Fernandez @vlexfit No existe ninguna diet...</td>\n",
       "      <td>NaN</td>\n",
       "      <td>NaN</td>\n",
       "      <td>-1.6</td>\n",
       "    </tr>\n",
       "    <tr>\n",
       "      <th>4</th>\n",
       "      <td>Recetas | Ani y Sara</td>\n",
       "      <td>fit_happy_sisters</td>\n",
       "      <td>483667.0</td>\n",
       "      <td>2020-11-23 16:11:45 EST</td>\n",
       "      <td>Album</td>\n",
       "      <td>3376</td>\n",
       "      <td>78</td>\n",
       "      <td>0</td>\n",
       "      <td>https://www.instagram.com/p/CH8qlQ8ljz2/</td>\n",
       "      <td>https://www.instagram.com/p/CH8qlQ8ljz2/</td>\n",
       "      <td>https://scontent-sea1-1.cdninstagram.com/v/t51...</td>\n",
       "      <td>NaN</td>\n",
       "      <td>🍎 VEGAN APPLE BREAD ¡fácil y delicioso! Toca d...</td>\n",
       "      <td>NaN</td>\n",
       "      <td>NaN</td>\n",
       "      <td>NaN</td>\n",
       "      <td>-1.27</td>\n",
       "    </tr>\n",
       "  </tbody>\n",
       "</table>\n",
       "</div>"
      ],
      "text/plain": [
       "                          Account          User Name  Followers at Posting  \\\n",
       "0  RECETAS SALUDABLES | NUTRICION        caloria.fit              660230.0   \n",
       "1                Federico Galassi         feder.gala               23392.0   \n",
       "2                        SomosFit           somosfit                   NaN   \n",
       "3  RECETAS SALUDABLES | NUTRICION        caloria.fit              660230.0   \n",
       "4            Recetas | Ani y Sara  fit_happy_sisters              483667.0   \n",
       "\n",
       "                   Created   Type  Likes  Comments  Views  \\\n",
       "0  2020-11-24 08:10:39 EST  Photo   1292        31      0   \n",
       "1  2020-11-24 08:10:31 EST  Album     52         8      0   \n",
       "2  2020-11-24 06:37:06 EST  Photo    361         8      0   \n",
       "3  2020-11-23 20:05:10 EST  Photo   3095        25      0   \n",
       "4  2020-11-23 16:11:45 EST  Album   3376        78      0   \n",
       "\n",
       "                                        URL  \\\n",
       "0  https://www.instagram.com/p/CH-YUcyHztq/   \n",
       "1  https://www.instagram.com/p/CH-YTh0DuDM/   \n",
       "2  https://www.instagram.com/p/CH-Nm64MXy8/   \n",
       "3  https://www.instagram.com/p/CH9FS3VnaL-/   \n",
       "4  https://www.instagram.com/p/CH8qlQ8ljz2/   \n",
       "\n",
       "                                       Link  \\\n",
       "0  https://www.instagram.com/p/CH-YUcyHztq/   \n",
       "1  https://www.instagram.com/p/CH-YTh0DuDM/   \n",
       "2  https://www.instagram.com/p/CH-Nm64MXy8/   \n",
       "3  https://www.instagram.com/p/CH9FS3VnaL-/   \n",
       "4  https://www.instagram.com/p/CH8qlQ8ljz2/   \n",
       "\n",
       "                                               Photo Title  \\\n",
       "0  https://scontent-sea1-1.cdninstagram.com/v/t51...   NaN   \n",
       "1  https://scontent-sea1-1.cdninstagram.com/v/t51...   NaN   \n",
       "2  https://scontent-sea1-1.cdninstagram.com/v/t51...   NaN   \n",
       "3  https://scontent-sea1-1.cdninstagram.com/v/t51...   NaN   \n",
       "4  https://scontent-sea1-1.cdninstagram.com/v/t51...   NaN   \n",
       "\n",
       "                                         Description  \\\n",
       "0                                                🥲🥲🥲   \n",
       "1  LA PARADOJA DE LA DIETA CETOGENICA\\n.\\nMuchas ...   \n",
       "2  🙌🏻NO JUZGUES DECISIONES AJENAS🙌🏻 detrás de ca...   \n",
       "3  No existe el camino corto, cambia tu estilo de...   \n",
       "4  🍎 VEGAN APPLE BREAD ¡fácil y delicioso! Toca d...   \n",
       "\n",
       "                                          Image Text  Sponsor Id Sponsor Name  \\\n",
       "0  Cuando vas al gimnasio, pero la cara no mejora...         NaN          NaN   \n",
       "1                                                NaN         NaN          NaN   \n",
       "2  Somos NO JUZGUES decisiones ajenas \"¿ESTÁS HAC...         NaN          NaN   \n",
       "3  Alex Fernandez @vlexfit No existe ninguna diet...         NaN          NaN   \n",
       "4                                                NaN         NaN          NaN   \n",
       "\n",
       "  Overperforming Score  \n",
       "0                 1.18  \n",
       "1                 4.29  \n",
       "2                 1.31  \n",
       "3                 -1.6  \n",
       "4                -1.27  "
      ]
     },
     "execution_count": 1,
     "metadata": {},
     "output_type": "execute_result"
    }
   ],
   "source": [
    "\n",
    "data = pd.concat(\n",
    "    [\n",
    "        dataFit,\n",
    "        dataRecetasFit,\n",
    "        dataRecetas,\n",
    "        dataJugadoresArg,\n",
    "        dataPeriodistmoDep,\n",
    "        dataotrosDeportistas,\n",
    "    ]\n",
    ")\n",
    "\n",
    "print(data.shape)\n",
    "data.head()"
   ]
  },
  {
   "cell_type": "markdown",
   "id": "9dcfe3c2",
   "metadata": {},
   "source": [
    "Ahora agruparemos por cuenta todos los posts, concatenando todos los textos de los posts por cada usuario."
   ]
  },
  {
   "cell_type": "code",
   "execution_count": 13,
   "id": "ab3f64fc",
   "metadata": {
    "execution": {
     "iopub.execute_input": "2021-04-28T21:38:58.982926Z",
     "iopub.status.busy": "2021-04-28T21:38:58.982319Z",
     "iopub.status.idle": "2021-04-28T21:39:01.220509Z",
     "shell.execute_reply": "2021-04-28T21:39:01.219932Z"
    }
   },
   "outputs": [
    {
     "data": {
      "text/html": [
       "<div>\n",
       "<style scoped>\n",
       "    .dataframe tbody tr th:only-of-type {\n",
       "        vertical-align: middle;\n",
       "    }\n",
       "\n",
       "    .dataframe tbody tr th {\n",
       "        vertical-align: top;\n",
       "    }\n",
       "\n",
       "    .dataframe thead th {\n",
       "        text-align: right;\n",
       "    }\n",
       "</style>\n",
       "<table border=\"1\" class=\"dataframe\">\n",
       "  <thead>\n",
       "    <tr style=\"text-align: right;\">\n",
       "      <th></th>\n",
       "      <th>User_Name</th>\n",
       "      <th>numberOfPosts</th>\n",
       "      <th>Description</th>\n",
       "      <th>ImageText</th>\n",
       "      <th>Titles</th>\n",
       "      <th>AllText</th>\n",
       "      <th>Likes</th>\n",
       "      <th>mean_Likes</th>\n",
       "      <th>Comments</th>\n",
       "      <th>mean_Comments</th>\n",
       "    </tr>\n",
       "  </thead>\n",
       "  <tbody>\n",
       "    <tr>\n",
       "      <th>0</th>\n",
       "      <td>caloria.fit</td>\n",
       "      <td>774</td>\n",
       "      <td>🥲🥲🥲. No existe el camino corto, cambia tu esti...</td>\n",
       "      <td>Cuando vas al gimnasio, pero la cara no mejora...</td>\n",
       "      <td></td>\n",
       "      <td>🥲🥲🥲. No existe el camino corto, cambia tu esti...</td>\n",
       "      <td>4848536</td>\n",
       "      <td>6264.258398</td>\n",
       "      <td>107966</td>\n",
       "      <td>139.490956</td>\n",
       "    </tr>\n",
       "    <tr>\n",
       "      <th>1</th>\n",
       "      <td>feder.gala</td>\n",
       "      <td>97</td>\n",
       "      <td>LA PARADOJA DE LA DIETA CETOGENICA\\n.\\nMuchas ...</td>\n",
       "      <td>QUE DICE LA CIENCIA SOBRE EL USO DE ACEITE DE ...</td>\n",
       "      <td>¿SE PUEDE GANAR MUSCULO HACIENDO AYUNOS?. ALIM...</td>\n",
       "      <td>LA PARADOJA DE LA DIETA CETOGENICA\\n.\\nMuchas ...</td>\n",
       "      <td>44324</td>\n",
       "      <td>456.948454</td>\n",
       "      <td>2561</td>\n",
       "      <td>26.402062</td>\n",
       "    </tr>\n",
       "    <tr>\n",
       "      <th>2</th>\n",
       "      <td>somosfit</td>\n",
       "      <td>523</td>\n",
       "      <td>🙌🏻NO JUZGUES DECISIONES AJENAS🙌🏻 detrás de ca...</td>\n",
       "      <td>Somos NO JUZGUES decisiones ajenas \"¿ESTÁS HAC...</td>\n",
       "      <td></td>\n",
       "      <td>🙌🏻NO JUZGUES DECISIONES AJENAS🙌🏻 detrás de ca...</td>\n",
       "      <td>355606</td>\n",
       "      <td>679.934990</td>\n",
       "      <td>10244</td>\n",
       "      <td>19.586998</td>\n",
       "    </tr>\n",
       "    <tr>\n",
       "      <th>3</th>\n",
       "      <td>fit_happy_sisters</td>\n",
       "      <td>225</td>\n",
       "      <td>🍎 VEGAN APPLE BREAD ¡fácil y delicioso! Toca d...</td>\n",
       "      <td>¡VUELVE SENTIRTE BIEN YA! PLAN HEALTHY 15 DÍAS...</td>\n",
       "      <td>PLAN HEALTHY 15 DÍAS. 🍕🍕Pizza SIN HARINA, SIN ...</td>\n",
       "      <td>🍎 VEGAN APPLE BREAD ¡fácil y delicioso! Toca d...</td>\n",
       "      <td>1212243</td>\n",
       "      <td>5387.746667</td>\n",
       "      <td>130725</td>\n",
       "      <td>581.000000</td>\n",
       "    </tr>\n",
       "    <tr>\n",
       "      <th>4</th>\n",
       "      <td>nutricion.ag</td>\n",
       "      <td>648</td>\n",
       "      <td>💭Siempre estuvo “de moda” el hacer dieta. O má...</td>\n",
       "      <td>Las dietas restrictivas aumentan la Ghrelina. ...</td>\n",
       "      <td>❌Productos milagro y publicidad engañosa❌. 💌Ca...</td>\n",
       "      <td>💭Siempre estuvo “de moda” el hacer dieta. O má...</td>\n",
       "      <td>2387238</td>\n",
       "      <td>3684.009259</td>\n",
       "      <td>119675</td>\n",
       "      <td>184.683642</td>\n",
       "    </tr>\n",
       "  </tbody>\n",
       "</table>\n",
       "</div>"
      ],
      "text/plain": [
       "           User_Name  numberOfPosts  \\\n",
       "0        caloria.fit            774   \n",
       "1         feder.gala             97   \n",
       "2           somosfit            523   \n",
       "3  fit_happy_sisters            225   \n",
       "4       nutricion.ag            648   \n",
       "\n",
       "                                         Description  \\\n",
       "0  🥲🥲🥲. No existe el camino corto, cambia tu esti...   \n",
       "1  LA PARADOJA DE LA DIETA CETOGENICA\\n.\\nMuchas ...   \n",
       "2  🙌🏻NO JUZGUES DECISIONES AJENAS🙌🏻 detrás de ca...   \n",
       "3  🍎 VEGAN APPLE BREAD ¡fácil y delicioso! Toca d...   \n",
       "4  💭Siempre estuvo “de moda” el hacer dieta. O má...   \n",
       "\n",
       "                                           ImageText  \\\n",
       "0  Cuando vas al gimnasio, pero la cara no mejora...   \n",
       "1  QUE DICE LA CIENCIA SOBRE EL USO DE ACEITE DE ...   \n",
       "2  Somos NO JUZGUES decisiones ajenas \"¿ESTÁS HAC...   \n",
       "3  ¡VUELVE SENTIRTE BIEN YA! PLAN HEALTHY 15 DÍAS...   \n",
       "4  Las dietas restrictivas aumentan la Ghrelina. ...   \n",
       "\n",
       "                                              Titles  \\\n",
       "0                                                      \n",
       "1  ¿SE PUEDE GANAR MUSCULO HACIENDO AYUNOS?. ALIM...   \n",
       "2                                                      \n",
       "3  PLAN HEALTHY 15 DÍAS. 🍕🍕Pizza SIN HARINA, SIN ...   \n",
       "4  ❌Productos milagro y publicidad engañosa❌. 💌Ca...   \n",
       "\n",
       "                                             AllText    Likes   mean_Likes  \\\n",
       "0  🥲🥲🥲. No existe el camino corto, cambia tu esti...  4848536  6264.258398   \n",
       "1  LA PARADOJA DE LA DIETA CETOGENICA\\n.\\nMuchas ...    44324   456.948454   \n",
       "2  🙌🏻NO JUZGUES DECISIONES AJENAS🙌🏻 detrás de ca...   355606   679.934990   \n",
       "3  🍎 VEGAN APPLE BREAD ¡fácil y delicioso! Toca d...  1212243  5387.746667   \n",
       "4  💭Siempre estuvo “de moda” el hacer dieta. O má...  2387238  3684.009259   \n",
       "\n",
       "   Comments  mean_Comments  \n",
       "0    107966     139.490956  \n",
       "1      2561      26.402062  \n",
       "2     10244      19.586998  \n",
       "3    130725     581.000000  \n",
       "4    119675     184.683642  "
      ]
     },
     "execution_count": 1,
     "metadata": {},
     "output_type": "execute_result"
    }
   ],
   "source": [
    "usuarios = pd.DataFrame()\n",
    "usuarios[\"User_Name\"] = data[\"User Name\"].unique()\n",
    "usuarios[\"numberOfPosts\"] = [\n",
    "    data[\"User Name\"].value_counts()[user] for user in usuarios[\"User_Name\"]\n",
    "]\n",
    "usuarios[\"Description\"] = [\n",
    "    data[data[\"User Name\"] == user].Description.str.cat(sep=\". \")\n",
    "    for user in usuarios[\"User_Name\"]\n",
    "]\n",
    "usuarios[\"ImageText\"] = [\n",
    "    data[data[\"User Name\"] == user][\"Image Text\"].str.cat(sep=\". \")\n",
    "    for user in usuarios[\"User_Name\"]\n",
    "]  # No anda tan bien\n",
    "usuarios[\"Titles\"] = [\n",
    "    data[data[\"User Name\"] == user].Title.str.cat(sep=\". \")\n",
    "    for user in usuarios[\"User_Name\"]\n",
    "]\n",
    "usuarios[\"AllText\"] = (\n",
    "    usuarios[\"Description\"] + usuarios[\"Titles\"] + usuarios[\"ImageText\"]\n",
    ")\n",
    "usuarios[\"Likes\"] = [\n",
    "    np.sum(data[data[\"User Name\"] == user].Likes) for user in usuarios[\"User_Name\"]\n",
    "]\n",
    "usuarios[\"mean_Likes\"] = [\n",
    "    np.mean(data[data[\"User Name\"] == user].Likes) for user in usuarios[\"User_Name\"]\n",
    "]\n",
    "usuarios[\"Comments\"] = [\n",
    "    np.sum(data[data[\"User Name\"] == user].Comments) for user in usuarios[\"User_Name\"]\n",
    "]\n",
    "usuarios[\"mean_Comments\"] = [\n",
    "    np.mean(data[data[\"User Name\"] == user].Comments) for user in usuarios[\"User_Name\"]\n",
    "]\n",
    "\n",
    "usuarios.head()"
   ]
  },
  {
   "cell_type": "code",
   "execution_count": 14,
   "id": "c90edf31",
   "metadata": {
    "execution": {
     "iopub.execute_input": "2021-04-28T21:39:01.237100Z",
     "iopub.status.busy": "2021-04-28T21:39:01.235678Z",
     "iopub.status.idle": "2021-04-28T21:39:01.239561Z",
     "shell.execute_reply": "2021-04-28T21:39:01.239045Z"
    }
   },
   "outputs": [
    {
     "data": {
      "text/html": [
       "<div>\n",
       "<style scoped>\n",
       "    .dataframe tbody tr th:only-of-type {\n",
       "        vertical-align: middle;\n",
       "    }\n",
       "\n",
       "    .dataframe tbody tr th {\n",
       "        vertical-align: top;\n",
       "    }\n",
       "\n",
       "    .dataframe thead th {\n",
       "        text-align: right;\n",
       "    }\n",
       "</style>\n",
       "<table border=\"1\" class=\"dataframe\">\n",
       "  <thead>\n",
       "    <tr style=\"text-align: right;\">\n",
       "      <th></th>\n",
       "      <th>User_Name</th>\n",
       "      <th>numberOfPosts</th>\n",
       "      <th>Description</th>\n",
       "      <th>ImageText</th>\n",
       "      <th>Titles</th>\n",
       "      <th>AllText</th>\n",
       "      <th>Likes</th>\n",
       "      <th>mean_Likes</th>\n",
       "      <th>Comments</th>\n",
       "      <th>mean_Comments</th>\n",
       "    </tr>\n",
       "  </thead>\n",
       "  <tbody>\n",
       "    <tr>\n",
       "      <th>61</th>\n",
       "      <td>sponzinibbiomma</td>\n",
       "      <td>111</td>\n",
       "      <td>Gracias por acompañarnos.... Gracias por acomp...</td>\n",
       "      <td>7 UFC ufcespanol. UFC. WITHIN. TOP AMERICAN TE...</td>\n",
       "      <td>🔥UFC 255🔥. 🔥UFC 255🔥. 🔥UFC 255🔥. Que  noche 🔥🔥...</td>\n",
       "      <td>Gracias por acompañarnos.... Gracias por acomp...</td>\n",
       "      <td>566792</td>\n",
       "      <td>5106.234234</td>\n",
       "      <td>11429</td>\n",
       "      <td>102.963964</td>\n",
       "    </tr>\n",
       "    <tr>\n",
       "      <th>62</th>\n",
       "      <td>lucasalario</td>\n",
       "      <td>63</td>\n",
       "      <td>Un partido complicado hasta el final. Tres pun...</td>\n",
       "      <td>JAKO Barmen</td>\n",
       "      <td></td>\n",
       "      <td>Un partido complicado hasta el final. Tres pun...</td>\n",
       "      <td>2951684</td>\n",
       "      <td>46852.126984</td>\n",
       "      <td>22870</td>\n",
       "      <td>363.015873</td>\n",
       "    </tr>\n",
       "    <tr>\n",
       "      <th>63</th>\n",
       "      <td>dieschwartzman</td>\n",
       "      <td>127</td>\n",
       "      <td>Objetivos cumplidos y sueños cumplidos de juga...</td>\n",
       "      <td>sopen. 13:26 &lt; 29285840241 Mensaje de texto ho...</td>\n",
       "      <td>Ultima practica en Bahamas. Mañana rumbo al @u...</td>\n",
       "      <td>Objetivos cumplidos y sueños cumplidos de juga...</td>\n",
       "      <td>4024410</td>\n",
       "      <td>31688.267717</td>\n",
       "      <td>47067</td>\n",
       "      <td>370.606299</td>\n",
       "    </tr>\n",
       "    <tr>\n",
       "      <th>64</th>\n",
       "      <td>delpotrojuan</td>\n",
       "      <td>13</td>\n",
       "      <td>Gracias por los hermosos mensajes de cumpleaño...</td>\n",
       "      <td>Allianz 278</td>\n",
       "      <td>Rehabilitación rodilla</td>\n",
       "      <td>Gracias por los hermosos mensajes de cumpleaño...</td>\n",
       "      <td>1368533</td>\n",
       "      <td>105271.769231</td>\n",
       "      <td>26749</td>\n",
       "      <td>2057.615385</td>\n",
       "    </tr>\n",
       "    <tr>\n",
       "      <th>65</th>\n",
       "      <td>laurogerman</td>\n",
       "      <td>9</td>\n",
       "      <td>Nada puede detener lo que podemos hacer juntos...</td>\n",
       "      <td>Allianz 278. tu primer hazaña allélica Junto a...</td>\n",
       "      <td>El #equipoArg les dice gracias!. #PlayForTheWorld</td>\n",
       "      <td>Nada puede detener lo que podemos hacer juntos...</td>\n",
       "      <td>6849</td>\n",
       "      <td>761.000000</td>\n",
       "      <td>230</td>\n",
       "      <td>25.555556</td>\n",
       "    </tr>\n",
       "  </tbody>\n",
       "</table>\n",
       "</div>"
      ],
      "text/plain": [
       "          User_Name  numberOfPosts  \\\n",
       "61  sponzinibbiomma            111   \n",
       "62      lucasalario             63   \n",
       "63   dieschwartzman            127   \n",
       "64     delpotrojuan             13   \n",
       "65      laurogerman              9   \n",
       "\n",
       "                                          Description  \\\n",
       "61  Gracias por acompañarnos.... Gracias por acomp...   \n",
       "62  Un partido complicado hasta el final. Tres pun...   \n",
       "63  Objetivos cumplidos y sueños cumplidos de juga...   \n",
       "64  Gracias por los hermosos mensajes de cumpleaño...   \n",
       "65  Nada puede detener lo que podemos hacer juntos...   \n",
       "\n",
       "                                            ImageText  \\\n",
       "61  7 UFC ufcespanol. UFC. WITHIN. TOP AMERICAN TE...   \n",
       "62                                        JAKO Barmen   \n",
       "63  sopen. 13:26 < 29285840241 Mensaje de texto ho...   \n",
       "64                                        Allianz 278   \n",
       "65  Allianz 278. tu primer hazaña allélica Junto a...   \n",
       "\n",
       "                                               Titles  \\\n",
       "61  🔥UFC 255🔥. 🔥UFC 255🔥. 🔥UFC 255🔥. Que  noche 🔥🔥...   \n",
       "62                                                      \n",
       "63  Ultima practica en Bahamas. Mañana rumbo al @u...   \n",
       "64                             Rehabilitación rodilla   \n",
       "65  El #equipoArg les dice gracias!. #PlayForTheWorld   \n",
       "\n",
       "                                              AllText    Likes     mean_Likes  \\\n",
       "61  Gracias por acompañarnos.... Gracias por acomp...   566792    5106.234234   \n",
       "62  Un partido complicado hasta el final. Tres pun...  2951684   46852.126984   \n",
       "63  Objetivos cumplidos y sueños cumplidos de juga...  4024410   31688.267717   \n",
       "64  Gracias por los hermosos mensajes de cumpleaño...  1368533  105271.769231   \n",
       "65  Nada puede detener lo que podemos hacer juntos...     6849     761.000000   \n",
       "\n",
       "    Comments  mean_Comments  \n",
       "61     11429     102.963964  \n",
       "62     22870     363.015873  \n",
       "63     47067     370.606299  \n",
       "64     26749    2057.615385  \n",
       "65       230      25.555556  "
      ]
     },
     "execution_count": 1,
     "metadata": {},
     "output_type": "execute_result"
    }
   ],
   "source": [
    "usuarios.tail()"
   ]
  },
  {
   "cell_type": "markdown",
   "id": "34d7b27b",
   "metadata": {},
   "source": [
    "Veamos cuantos usuarios obtengo"
   ]
  },
  {
   "cell_type": "code",
   "execution_count": 15,
   "id": "a0d675a7",
   "metadata": {
    "execution": {
     "iopub.execute_input": "2021-04-28T21:39:01.248947Z",
     "iopub.status.busy": "2021-04-28T21:39:01.247867Z",
     "iopub.status.idle": "2021-04-28T21:39:01.250784Z",
     "shell.execute_reply": "2021-04-28T21:39:01.251245Z"
    }
   },
   "outputs": [
    {
     "data": {
      "text/plain": [
       "(66, 10)"
      ]
     },
     "execution_count": 1,
     "metadata": {},
     "output_type": "execute_result"
    }
   ],
   "source": [
    "usuarios.shape"
   ]
  },
  {
   "cell_type": "markdown",
   "id": "404a905e",
   "metadata": {},
   "source": [
    "Veamos cual es el mínimo y máximo de posts por usuario"
   ]
  },
  {
   "cell_type": "code",
   "execution_count": 16,
   "id": "f0c52a77",
   "metadata": {
    "execution": {
     "iopub.execute_input": "2021-04-28T21:39:01.257713Z",
     "iopub.status.busy": "2021-04-28T21:39:01.256464Z",
     "iopub.status.idle": "2021-04-28T21:39:01.259736Z",
     "shell.execute_reply": "2021-04-28T21:39:01.259238Z"
    },
    "lines_to_next_cell": 2
   },
   "outputs": [
    {
     "name": "stdout",
     "output_type": "stream",
     "text": [
      "9 14156\n"
     ]
    }
   ],
   "source": [
    "print(usuarios.numberOfPosts.min(), usuarios.numberOfPosts.max())"
   ]
  },
  {
   "cell_type": "markdown",
   "id": "886723f5",
   "metadata": {},
   "source": [
    "Seteo 10 posts como mínimo para tener un mínimo de información por cuenta"
   ]
  },
  {
   "cell_type": "code",
   "execution_count": 17,
   "id": "1b9059ac",
   "metadata": {
    "execution": {
     "iopub.execute_input": "2021-04-28T21:39:01.264873Z",
     "iopub.status.busy": "2021-04-28T21:39:01.263601Z",
     "iopub.status.idle": "2021-04-28T21:39:01.265610Z",
     "shell.execute_reply": "2021-04-28T21:39:01.266066Z"
    }
   },
   "outputs": [],
   "source": [
    "numberOfPosts_minimo = 10"
   ]
  },
  {
   "cell_type": "code",
   "execution_count": 18,
   "id": "c6a61a91",
   "metadata": {
    "execution": {
     "iopub.execute_input": "2021-04-28T21:39:01.272039Z",
     "iopub.status.busy": "2021-04-28T21:39:01.270724Z",
     "iopub.status.idle": "2021-04-28T21:39:01.273939Z",
     "shell.execute_reply": "2021-04-28T21:39:01.273439Z"
    }
   },
   "outputs": [
    {
     "name": "stdout",
     "output_type": "stream",
     "text": [
      "66 65\n"
     ]
    }
   ],
   "source": [
    "print(len(usuarios.numberOfPosts), sum(usuarios.numberOfPosts > numberOfPosts_minimo))"
   ]
  },
  {
   "cell_type": "code",
   "execution_count": 19,
   "id": "967b0f0a",
   "metadata": {
    "execution": {
     "iopub.execute_input": "2021-04-28T21:39:01.279142Z",
     "iopub.status.busy": "2021-04-28T21:39:01.278573Z",
     "iopub.status.idle": "2021-04-28T21:39:01.281260Z",
     "shell.execute_reply": "2021-04-28T21:39:01.280763Z"
    }
   },
   "outputs": [],
   "source": [
    "usuarios_mini = usuarios[usuarios.numberOfPosts > numberOfPosts_minimo]"
   ]
  },
  {
   "cell_type": "markdown",
   "id": "0ee54f03",
   "metadata": {},
   "source": [
    "## TF - IDF"
   ]
  },
  {
   "cell_type": "code",
   "execution_count": 20,
   "id": "451c551a",
   "metadata": {
    "execution": {
     "iopub.execute_input": "2021-04-28T21:39:01.285817Z",
     "iopub.status.busy": "2021-04-28T21:39:01.284581Z",
     "iopub.status.idle": "2021-04-28T21:39:01.286495Z",
     "shell.execute_reply": "2021-04-28T21:39:01.286946Z"
    }
   },
   "outputs": [],
   "source": [
    "import nltk"
   ]
  },
  {
   "cell_type": "code",
   "execution_count": 21,
   "id": "5fde1420",
   "metadata": {
    "execution": {
     "iopub.execute_input": "2021-04-28T21:39:01.291318Z",
     "iopub.status.busy": "2021-04-28T21:39:01.290763Z",
     "iopub.status.idle": "2021-04-28T21:39:01.362779Z",
     "shell.execute_reply": "2021-04-28T21:39:01.363222Z"
    }
   },
   "outputs": [
    {
     "name": "stderr",
     "output_type": "stream",
     "text": [
      "[nltk_data] Downloading package stopwords to /home/runner/nltk_data...\n",
      "[nltk_data]   Unzipping corpora/stopwords.zip.\n"
     ]
    },
    {
     "data": {
      "text/plain": [
       "True"
      ]
     },
     "execution_count": 1,
     "metadata": {},
     "output_type": "execute_result"
    }
   ],
   "source": [
    "nltk.download('stopwords')"
   ]
  },
  {
   "cell_type": "code",
   "execution_count": 22,
   "id": "a3144a43",
   "metadata": {
    "execution": {
     "iopub.execute_input": "2021-04-28T21:39:01.447513Z",
     "iopub.status.busy": "2021-04-28T21:39:01.368889Z",
     "iopub.status.idle": "2021-04-28T21:39:19.528976Z",
     "shell.execute_reply": "2021-04-28T21:39:19.528437Z"
    }
   },
   "outputs": [],
   "source": [
    "# Carga de datos\n",
    "texts = list(usuarios_mini.AllText)\n",
    "\n",
    "# Cuento los terminos\n",
    "count_vect = CountVectorizer(\n",
    "    ngram_range=(1, 3),\n",
    "    max_df=0.8,\n",
    "    min_df=0.01,\n",
    "    stop_words=stopwords.words('spanish'),\n",
    "    lowercase=True,\n",
    ")\n",
    "x_counts = count_vect.fit_transform(texts)\n",
    "\n",
    "# Genero matriz con valorizacion tf-idf\n",
    "tfidf_transformer = TfidfTransformer(norm='l2')\n",
    "x_tfidf = tfidf_transformer.fit_transform(x_counts)"
   ]
  },
  {
   "cell_type": "code",
   "execution_count": 23,
   "id": "d218295f",
   "metadata": {
    "execution": {
     "iopub.execute_input": "2021-04-28T21:39:19.533599Z",
     "iopub.status.busy": "2021-04-28T21:39:19.533009Z",
     "iopub.status.idle": "2021-04-28T21:39:19.538947Z",
     "shell.execute_reply": "2021-04-28T21:39:19.538470Z"
    }
   },
   "outputs": [
    {
     "data": {
      "text/plain": [
       "(65, 2231907)"
      ]
     },
     "execution_count": 1,
     "metadata": {},
     "output_type": "execute_result"
    }
   ],
   "source": [
    "np.shape(x_tfidf)"
   ]
  },
  {
   "cell_type": "markdown",
   "id": "e32711c4",
   "metadata": {},
   "source": [
    "## Armo la red\n",
    "\n",
    "\n",
    "Ahora creo un grafo, donde cada nodo es una cuenta y una arista los une si la similitud entre sus vectores de TF-IDF es mayor a la media + 1 desvío estándar.\n",
    "La idea es modelar mediante un grafo las conexiones \"semánticas\" de cada cuenta."
   ]
  },
  {
   "cell_type": "code",
   "execution_count": 24,
   "id": "d331abdb",
   "metadata": {
    "execution": {
     "iopub.execute_input": "2021-04-28T21:39:19.543293Z",
     "iopub.status.busy": "2021-04-28T21:39:19.542732Z",
     "iopub.status.idle": "2021-04-28T21:39:19.933262Z",
     "shell.execute_reply": "2021-04-28T21:39:19.932697Z"
    }
   },
   "outputs": [],
   "source": [
    "import networkx as nx\n",
    "from networkx.algorithms import community\n",
    "import matplotlib.pyplot as plt\n",
    "from tqdm import tqdm\n",
    "from sklearn.metrics.pairwise import cosine_similarity"
   ]
  },
  {
   "cell_type": "markdown",
   "id": "ac46cc71",
   "metadata": {},
   "source": [
    "Creo el grafo, poniendo un nodo por cuenta (sin aristas por el momento) y agregando el atributo \"User_Name\" para después saber que nodo pertenece a que cuenta."
   ]
  },
  {
   "cell_type": "code",
   "execution_count": 25,
   "id": "6fb4b475",
   "metadata": {
    "execution": {
     "iopub.execute_input": "2021-04-28T21:39:19.943668Z",
     "iopub.status.busy": "2021-04-28T21:39:19.941582Z",
     "iopub.status.idle": "2021-04-28T21:39:19.946958Z",
     "shell.execute_reply": "2021-04-28T21:39:19.946200Z"
    }
   },
   "outputs": [
    {
     "data": {
      "text/plain": [
       "65"
      ]
     },
     "execution_count": 1,
     "metadata": {},
     "output_type": "execute_result"
    }
   ],
   "source": [
    "# Inicializo el grafo\n",
    "G = nx.Graph()\n",
    "G.add_nodes_from(\n",
    "    [\n",
    "        (i, {\"User_Name\": usuarios_mini.User_Name.iloc[i]})\n",
    "        for i in range(usuarios_mini.shape[0])\n",
    "    ]\n",
    ")\n",
    "len(G.nodes)"
   ]
  },
  {
   "cell_type": "markdown",
   "id": "b2e7dc31",
   "metadata": {},
   "source": [
    "Defino la función para calcular de forma matricial todos los pares de similitudes"
   ]
  },
  {
   "cell_type": "code",
   "execution_count": 26,
   "id": "21b10dc5",
   "metadata": {
    "execution": {
     "iopub.execute_input": "2021-04-28T21:39:19.951494Z",
     "iopub.status.busy": "2021-04-28T21:39:19.950920Z",
     "iopub.status.idle": "2021-04-28T21:39:19.955676Z",
     "shell.execute_reply": "2021-04-28T21:39:19.955190Z"
    }
   },
   "outputs": [],
   "source": [
    "from numpy import dot\n",
    "from numpy.linalg import norm"
   ]
  },
  {
   "cell_type": "code",
   "execution_count": 27,
   "id": "fd05b072",
   "metadata": {
    "execution": {
     "iopub.execute_input": "2021-04-28T21:39:19.961280Z",
     "iopub.status.busy": "2021-04-28T21:39:19.960705Z",
     "iopub.status.idle": "2021-04-28T21:39:19.964684Z",
     "shell.execute_reply": "2021-04-28T21:39:19.965370Z"
    }
   },
   "outputs": [],
   "source": [
    "def calcular_similitudes(x_tfidf):\n",
    "    x1 = x_tfidf.toarray()\n",
    "    normx1 = np.apply_along_axis(norm, 1, x1)\n",
    "    normx2 = np.apply_along_axis(norm, 0, x1.T)\n",
    "    x2 = x1.T\n",
    "    similitudes = dot(x1, x2) / dot(\n",
    "        normx1.reshape(x1.shape[0], 1), normx2.reshape(1, x1.shape[0])\n",
    "    )\n",
    "    np.fill_diagonal(similitudes, 0)\n",
    "    return np.round(similitudes, decimals=6)"
   ]
  },
  {
   "cell_type": "code",
   "execution_count": 28,
   "id": "970da8bc",
   "metadata": {
    "execution": {
     "iopub.execute_input": "2021-04-28T21:39:19.969258Z",
     "iopub.status.busy": "2021-04-28T21:39:19.968699Z",
     "iopub.status.idle": "2021-04-28T21:39:20.798791Z",
     "shell.execute_reply": "2021-04-28T21:39:20.798276Z"
    }
   },
   "outputs": [
    {
     "data": {
      "text/plain": [
       "array([[0.      , 0.154549, 0.172297, ..., 0.008587, 0.013889, 0.007722],\n",
       "       [0.154549, 0.      , 0.134746, ..., 0.017109, 0.020123, 0.028548],\n",
       "       [0.172297, 0.134746, 0.      , ..., 0.010187, 0.024226, 0.012469],\n",
       "       ...,\n",
       "       [0.008587, 0.017109, 0.010187, ..., 0.      , 0.0202  , 0.061024],\n",
       "       [0.013889, 0.020123, 0.024226, ..., 0.0202  , 0.      , 0.010381],\n",
       "       [0.007722, 0.028548, 0.012469, ..., 0.061024, 0.010381, 0.      ]])"
      ]
     },
     "execution_count": 1,
     "metadata": {},
     "output_type": "execute_result"
    }
   ],
   "source": [
    "similitudes = calcular_similitudes(x_tfidf)\n",
    "similitudes"
   ]
  },
  {
   "cell_type": "markdown",
   "id": "8b8b2ece",
   "metadata": {},
   "source": [
    "Defino el umbral (media + 1 desvío estándar) para establecer una arista entre los nodos y agrego todas las aristas correspondientes según este criterio."
   ]
  },
  {
   "cell_type": "code",
   "execution_count": 29,
   "id": "68a7e4d4",
   "metadata": {
    "execution": {
     "iopub.execute_input": "2021-04-28T21:39:20.807382Z",
     "iopub.status.busy": "2021-04-28T21:39:20.803695Z",
     "iopub.status.idle": "2021-04-28T21:39:20.810104Z",
     "shell.execute_reply": "2021-04-28T21:39:20.810608Z"
    }
   },
   "outputs": [
    {
     "name": "stdout",
     "output_type": "stream",
     "text": [
      "treshold: 0.14936\n"
     ]
    },
    {
     "data": {
      "text/plain": [
       "266"
      ]
     },
     "execution_count": 1,
     "metadata": {},
     "output_type": "execute_result"
    }
   ],
   "source": [
    "# Agrego aristas\n",
    "treshold = similitudes.mean() + 1 * similitudes.std()\n",
    "print(\"treshold: {:.5f}\".format(treshold))\n",
    "\n",
    "edges = list(G.edges)\n",
    "G.remove_edges_from(edges)  # borro viejas, por si habia algo\n",
    "\n",
    "\n",
    "for i in range(usuarios_mini.shape[0]):\n",
    "    for j in range(usuarios_mini.shape[0]):\n",
    "        if similitudes[i, j] > treshold:\n",
    "            G.add_edge(i, j, weight=similitudes[i, j])\n",
    "len(G.edges)"
   ]
  },
  {
   "cell_type": "markdown",
   "id": "8c47f082",
   "metadata": {},
   "source": [
    "Grafico la matriz de similitudes mediante un heatmap binario."
   ]
  },
  {
   "cell_type": "code",
   "execution_count": 30,
   "id": "95e507d0",
   "metadata": {
    "execution": {
     "iopub.execute_input": "2021-04-28T21:39:20.813320Z",
     "iopub.status.busy": "2021-04-28T21:39:20.812777Z",
     "iopub.status.idle": "2021-04-28T21:39:20.960752Z",
     "shell.execute_reply": "2021-04-28T21:39:20.960245Z"
    }
   },
   "outputs": [
    {
     "data": {
      "image/png": "[encoded data removed]",
      "text/plain": [
       "<Figure size 432x288 with 1 Axes>"
      ]
     },
     "metadata": {
      "needs_background": "light"
     },
     "output_type": "display_data"
    }
   ],
   "source": [
    "# plot matriz similitud\n",
    "plt.imshow(similitudes > treshold)\n",
    "plt.show()"
   ]
  },
  {
   "cell_type": "markdown",
   "id": "57bb9d3f",
   "metadata": {},
   "source": [
    "## Detecta comunidades\n",
    "\n",
    "Ahora pasaré a detectar comunidades en el grafo creado. Para esto utilizó el método \"Louvain\", el cual es una técnica greedy de detección de clusters en grafos (no lo vimos en la materia)"
   ]
  },
  {
   "cell_type": "code",
   "execution_count": 31,
   "id": "9cdbd25a",
   "metadata": {
    "execution": {
     "iopub.execute_input": "2021-04-28T21:39:20.965416Z",
     "iopub.status.busy": "2021-04-28T21:39:20.964376Z",
     "iopub.status.idle": "2021-04-28T21:39:20.967907Z",
     "shell.execute_reply": "2021-04-28T21:39:20.967390Z"
    }
   },
   "outputs": [],
   "source": [
    "from networkx.algorithms import community\n",
    "import community as com"
   ]
  },
  {
   "cell_type": "code",
   "execution_count": 32,
   "id": "a18dc327",
   "metadata": {
    "execution": {
     "iopub.execute_input": "2021-04-28T21:39:20.981235Z",
     "iopub.status.busy": "2021-04-28T21:39:20.975353Z",
     "iopub.status.idle": "2021-04-28T21:39:20.984463Z",
     "shell.execute_reply": "2021-04-28T21:39:20.983955Z"
    }
   },
   "outputs": [],
   "source": [
    "partition = com.best_partition(G)"
   ]
  },
  {
   "cell_type": "markdown",
   "id": "40a81d1a",
   "metadata": {},
   "source": [
    "Me fijo cuales son las 10 principales comunidades y cuantos usuarios tiene cada una"
   ]
  },
  {
   "cell_type": "code",
   "execution_count": 33,
   "id": "c68d44f0",
   "metadata": {
    "execution": {
     "iopub.execute_input": "2021-04-28T21:39:20.990006Z",
     "iopub.status.busy": "2021-04-28T21:39:20.989387Z",
     "iopub.status.idle": "2021-04-28T21:39:20.997075Z",
     "shell.execute_reply": "2021-04-28T21:39:20.996577Z"
    }
   },
   "outputs": [
    {
     "name": "stderr",
     "output_type": "stream",
     "text": [
      "/opt/hostedtoolcache/Python/3.7.10/x64/lib/python3.7/site-packages/ipykernel_launcher.py:4: SettingWithCopyWarning: \n",
      "A value is trying to be set on a copy of a slice from a DataFrame.\n",
      "Try using .loc[row_indexer,col_indexer] = value instead\n",
      "\n",
      "See the caveats in the documentation: https://pandas.pydata.org/pandas-docs/stable/user_guide/indexing.html#returning-a-view-versus-a-copy\n",
      "  after removing the cwd from sys.path.\n"
     ]
    },
    {
     "data": {
      "text/plain": [
       "7     14\n",
       "1     12\n",
       "19     6\n",
       "27     3\n",
       "0      2\n",
       "8      2\n",
       "12     1\n",
       "11     1\n",
       "10     1\n",
       "9      1\n",
       "Name: comunidad, dtype: int64"
      ]
     },
     "execution_count": 1,
     "metadata": {},
     "output_type": "execute_result"
    }
   ],
   "source": [
    "comunidad = []\n",
    "for i in range(usuarios_mini.shape[0]):\n",
    "    comunidad.append(partition[i])\n",
    "usuarios_mini[\"comunidad\"] = comunidad\n",
    "usuarios_mini[\"comunidad\"].value_counts().head(10)"
   ]
  },
  {
   "cell_type": "markdown",
   "id": "85d7547b",
   "metadata": {},
   "source": [
    "Veamos ahora que usuarios componen cada uno de estas comunidades (las que tienen mas de 2 usuarios)"
   ]
  },
  {
   "cell_type": "code",
   "execution_count": 34,
   "id": "652e0fde",
   "metadata": {
    "execution": {
     "iopub.execute_input": "2021-04-28T21:39:21.004676Z",
     "iopub.status.busy": "2021-04-28T21:39:21.004126Z",
     "iopub.status.idle": "2021-04-28T21:39:21.006906Z",
     "shell.execute_reply": "2021-04-28T21:39:21.007336Z"
    }
   },
   "outputs": [
    {
     "data": {
      "text/plain": [
       "19             paulinacocina\n",
       "31              inutilisimas\n",
       "20             esteficolombo\n",
       "27              marubotanaok\n",
       "23            jimemonteverde\n",
       "25    arielrodriguezpalacios\n",
       "21               valuramallo\n",
       "26               deliascakes\n",
       "29               cookvanoyen\n",
       "22              cocinerosarg\n",
       "Name: User_Name, dtype: object"
      ]
     },
     "execution_count": 1,
     "metadata": {},
     "output_type": "execute_result"
    }
   ],
   "source": [
    "usuarios_mini[usuarios_mini.comunidad == 7].sort_values(\n",
    "    \"mean_Likes\", ascending=False\n",
    ").User_Name.head(10)"
   ]
  },
  {
   "cell_type": "code",
   "execution_count": 35,
   "id": "737c6eee",
   "metadata": {
    "execution": {
     "iopub.execute_input": "2021-04-28T21:39:21.015043Z",
     "iopub.status.busy": "2021-04-28T21:39:21.014016Z",
     "iopub.status.idle": "2021-04-28T21:39:21.016915Z",
     "shell.execute_reply": "2021-04-28T21:39:21.017327Z"
    }
   },
   "outputs": [
    {
     "data": {
      "text/plain": [
       "5     nutricion.salud.arg\n",
       "15            camila.kost\n",
       "3       fit_happy_sisters\n",
       "12      thehealthyblogger\n",
       "16         being.healthyy\n",
       "14          nutri.recipes\n",
       "11              sofi.deli\n",
       "8        nutricionamiunes\n",
       "6               agusazcuy\n",
       "2                somosfit\n",
       "Name: User_Name, dtype: object"
      ]
     },
     "execution_count": 1,
     "metadata": {},
     "output_type": "execute_result"
    }
   ],
   "source": [
    "usuarios_mini[usuarios_mini.comunidad == 1].sort_values(\n",
    "    \"mean_Likes\", ascending=False\n",
    ").User_Name.head(10)"
   ]
  },
  {
   "cell_type": "code",
   "execution_count": 36,
   "id": "2ba34fc9",
   "metadata": {
    "execution": {
     "iopub.execute_input": "2021-04-28T21:39:21.024670Z",
     "iopub.status.busy": "2021-04-28T21:39:21.023826Z",
     "iopub.status.idle": "2021-04-28T21:39:21.026639Z",
     "shell.execute_reply": "2021-04-28T21:39:21.027124Z"
    }
   },
   "outputs": [
    {
     "data": {
      "text/plain": [
       "45             tycsports\n",
       "47            diario.ole\n",
       "46             espnfcarg\n",
       "51            chavofucks\n",
       "49          varskysports\n",
       "48    foxsportsargentina\n",
       "Name: User_Name, dtype: object"
      ]
     },
     "execution_count": 1,
     "metadata": {},
     "output_type": "execute_result"
    }
   ],
   "source": [
    "usuarios_mini[usuarios_mini.comunidad == 19].sort_values(\n",
    "    \"mean_Likes\", ascending=False\n",
    ").User_Name.head(10)"
   ]
  },
  {
   "cell_type": "code",
   "execution_count": 37,
   "id": "5ca59928",
   "metadata": {
    "execution": {
     "iopub.execute_input": "2021-04-28T21:39:21.033669Z",
     "iopub.status.busy": "2021-04-28T21:39:21.030956Z",
     "iopub.status.idle": "2021-04-28T21:39:21.035955Z",
     "shell.execute_reply": "2021-04-28T21:39:21.036424Z"
    }
   },
   "outputs": [
    {
     "data": {
      "text/plain": [
       "64       delpotrojuan\n",
       "58        tagliafico3\n",
       "61    sponzinibbiomma\n",
       "Name: User_Name, dtype: object"
      ]
     },
     "execution_count": 1,
     "metadata": {},
     "output_type": "execute_result"
    }
   ],
   "source": [
    "usuarios_mini[usuarios_mini.comunidad == 27].sort_values(\n",
    "    \"mean_Likes\", ascending=False\n",
    ").User_Name.head(10)"
   ]
  },
  {
   "cell_type": "markdown",
   "id": "e129353a",
   "metadata": {},
   "source": [
    "# Ploteo la red a ver como agrupa"
   ]
  },
  {
   "cell_type": "code",
   "execution_count": 38,
   "id": "2ae1c331",
   "metadata": {
    "execution": {
     "iopub.execute_input": "2021-04-28T21:39:21.048032Z",
     "iopub.status.busy": "2021-04-28T21:39:21.047384Z",
     "iopub.status.idle": "2021-04-28T21:39:21.050091Z",
     "shell.execute_reply": "2021-04-28T21:39:21.049599Z"
    }
   },
   "outputs": [],
   "source": [
    "colors = [\"b\", \"r\", \"y\", \"g\"] + [\"w\"] * 1000\n",
    "dic_colores = {}\n",
    "for i, key in enumerate(usuarios_mini[\"comunidad\"].value_counts().index):\n",
    "    dic_colores[key] = colors[i]"
   ]
  },
  {
   "cell_type": "code",
   "execution_count": 39,
   "id": "516c08ca",
   "metadata": {
    "execution": {
     "iopub.execute_input": "2021-04-28T21:39:21.071152Z",
     "iopub.status.busy": "2021-04-28T21:39:21.063672Z",
     "iopub.status.idle": "2021-04-28T21:39:21.092804Z",
     "shell.execute_reply": "2021-04-28T21:39:21.093289Z"
    }
   },
   "outputs": [],
   "source": [
    "color_map = []\n",
    "for user in list(nx.get_node_attributes(G, 'User_Name').values()):\n",
    "    com = int(usuarios_mini[usuarios_mini.User_Name == user].comunidad)\n",
    "    color_map.append(dic_colores[com])"
   ]
  },
  {
   "cell_type": "code",
   "execution_count": 40,
   "id": "cadfaecc",
   "metadata": {
    "execution": {
     "iopub.execute_input": "2021-04-28T21:39:21.099199Z",
     "iopub.status.busy": "2021-04-28T21:39:21.098593Z",
     "iopub.status.idle": "2021-04-28T21:39:21.437173Z",
     "shell.execute_reply": "2021-04-28T21:39:21.437623Z"
    }
   },
   "outputs": [
    {
     "data": {
      "image/png": "[encoded data removed]",
      "text/plain": [
       "<Figure size 576x576 with 1 Axes>"
      ]
     },
     "metadata": {},
     "output_type": "display_data"
    }
   ],
   "source": [
    "plt.figure(figsize=[8, 8])\n",
    "# pos = nx.draw_kamada_kawai(G) #draw_kamada_kawai draw_spectral draw_circular draw_spring\n",
    "pos = nx.spring_layout(G, k=0.3)\n",
    "nx.draw(G, node_color=color_map, with_labels=True, pos=pos)\n",
    "plt.show()"
   ]
  },
  {
   "cell_type": "code",
   "execution_count": 41,
   "id": "f79e5f96",
   "metadata": {
    "execution": {
     "iopub.execute_input": "2021-04-28T21:39:21.443786Z",
     "iopub.status.busy": "2021-04-28T21:39:21.442427Z",
     "iopub.status.idle": "2021-04-28T21:39:21.446114Z",
     "shell.execute_reply": "2021-04-28T21:39:21.445590Z"
    }
   },
   "outputs": [
    {
     "data": {
      "text/plain": [
       "'diario.ole'"
      ]
     },
     "execution_count": 1,
     "metadata": {},
     "output_type": "execute_result"
    }
   ],
   "source": [
    "G.nodes[47]['User_Name']"
   ]
  }
 ],
 "metadata": {
  "jupytext": {
   "encoding": "# -*- coding: utf-8 -*-",
   "formats": "ipynb,py:light"
  },
  "kernelspec": {
   "display_name": "Python 3 (venv)",
   "language": "python",
   "name": "python3"
  },
  "language_info": {
   "codemirror_mode": {
    "name": "ipython",
    "version": 3
   },
   "file_extension": ".py",
   "mimetype": "text/x-python",
   "name": "python",
   "nbconvert_exporter": "python",
   "pygments_lexer": "ipython3",
   "version": "3.7.10"
  }
 },
 "nbformat": 4,
 "nbformat_minor": 5
}
