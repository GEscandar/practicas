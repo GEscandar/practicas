{
 "cells": [
  {
   "cell_type": "code",
   "execution_count": 1,
   "id": "94e5217d",
   "metadata": {
    "execution": {
     "iopub.execute_input": "2021-09-19T16:02:12.963344Z",
     "iopub.status.busy": "2021-09-19T16:02:12.962464Z",
     "iopub.status.idle": "2021-09-19T16:02:14.095117Z",
     "shell.execute_reply": "2021-09-19T16:02:14.094021Z"
    }
   },
   "outputs": [],
   "source": [
    "import numpy as np\n",
    "import pandas as pd\n",
    "from sklearn.feature_extraction.text import CountVectorizer\n",
    "from sklearn.feature_extraction.text import TfidfTransformer\n",
    "from nltk.corpus import stopwords"
   ]
  },
  {
   "cell_type": "markdown",
   "id": "05574aa6",
   "metadata": {},
   "source": [
    "## Datos\n",
    "\n",
    "En esta notebook vamos a utilizar datos de Instagram. Los mismos fueron descargados de páginas públicas de Instagram. Tendremos 3 \"tipos\" de cuentas:\n",
    "\n",
    "- Fit\n",
    "- RecetasFit\n",
    "- Recetas\n",
    "- Jugadores de fútbol argentinos\n",
    "- Periodismo deportivo\n",
    "- Otros deportistas argentinos\n",
    "\n",
    "Descargaremos todos los posts que las cuentas hayan hecho en los últimos 12 meses.\n",
    "\n",
    "La idea será ver si estos tipos de cuentas comparten una misma semántica entre sí y si a la vez son muy distintas entre los grupos."
   ]
  },
  {
   "cell_type": "code",
   "execution_count": 2,
   "id": "dc37fc03",
   "metadata": {
    "execution": {
     "iopub.execute_input": "2021-09-19T16:02:14.101973Z",
     "iopub.status.busy": "2021-09-19T16:02:14.101358Z",
     "iopub.status.idle": "2021-09-19T16:02:19.662553Z",
     "shell.execute_reply": "2021-09-19T16:02:19.663072Z"
    }
   },
   "outputs": [
    {
     "name": "stdout",
     "output_type": "stream",
     "text": [
      "Index(['Account', 'User Name', 'Followers at Posting', 'Created', 'Type',\n",
      "       'Likes', 'Comments', 'Views', 'URL', 'Link', 'Photo', 'Title',\n",
      "       'Description', 'Image Text', 'Sponsor Id', 'Sponsor Name',\n",
      "       'Overperforming Score'],\n",
      "      dtype='object')\n",
      "(1619, 17)\n"
     ]
    },
    {
     "data": {
      "text/html": [
       "<div>\n",
       "<style scoped>\n",
       "    .dataframe tbody tr th:only-of-type {\n",
       "        vertical-align: middle;\n",
       "    }\n",
       "\n",
       "    .dataframe tbody tr th {\n",
       "        vertical-align: top;\n",
       "    }\n",
       "\n",
       "    .dataframe thead th {\n",
       "        text-align: right;\n",
       "    }\n",
       "</style>\n",
       "<table border=\"1\" class=\"dataframe\">\n",
       "  <thead>\n",
       "    <tr style=\"text-align: right;\">\n",
       "      <th></th>\n",
       "      <th>Account</th>\n",
       "      <th>User Name</th>\n",
       "      <th>Followers at Posting</th>\n",
       "      <th>Created</th>\n",
       "      <th>Type</th>\n",
       "      <th>Likes</th>\n",
       "      <th>Comments</th>\n",
       "      <th>Views</th>\n",
       "      <th>URL</th>\n",
       "      <th>Link</th>\n",
       "      <th>Photo</th>\n",
       "      <th>Title</th>\n",
       "      <th>Description</th>\n",
       "      <th>Image Text</th>\n",
       "      <th>Sponsor Id</th>\n",
       "      <th>Sponsor Name</th>\n",
       "      <th>Overperforming Score</th>\n",
       "    </tr>\n",
       "  </thead>\n",
       "  <tbody>\n",
       "    <tr>\n",
       "      <th>0</th>\n",
       "      <td>RECETAS SALUDABLES | NUTRICION</td>\n",
       "      <td>caloria.fit</td>\n",
       "      <td>660230.0</td>\n",
       "      <td>2020-11-24 08:10:39 EST</td>\n",
       "      <td>Photo</td>\n",
       "      <td>1292</td>\n",
       "      <td>31</td>\n",
       "      <td>0</td>\n",
       "      <td>https://www.instagram.com/p/CH-YUcyHztq/</td>\n",
       "      <td>https://www.instagram.com/p/CH-YUcyHztq/</td>\n",
       "      <td>https://scontent-sea1-1.cdninstagram.com/v/t51...</td>\n",
       "      <td>NaN</td>\n",
       "      <td>🥲🥲🥲</td>\n",
       "      <td>Cuando vas al gimnasio, pero la cara no mejora...</td>\n",
       "      <td>NaN</td>\n",
       "      <td>NaN</td>\n",
       "      <td>1.18</td>\n",
       "    </tr>\n",
       "    <tr>\n",
       "      <th>1</th>\n",
       "      <td>Federico Galassi</td>\n",
       "      <td>feder.gala</td>\n",
       "      <td>23392.0</td>\n",
       "      <td>2020-11-24 08:10:31 EST</td>\n",
       "      <td>Album</td>\n",
       "      <td>52</td>\n",
       "      <td>8</td>\n",
       "      <td>0</td>\n",
       "      <td>https://www.instagram.com/p/CH-YTh0DuDM/</td>\n",
       "      <td>https://www.instagram.com/p/CH-YTh0DuDM/</td>\n",
       "      <td>https://scontent-sea1-1.cdninstagram.com/v/t51...</td>\n",
       "      <td>NaN</td>\n",
       "      <td>LA PARADOJA DE LA DIETA CETOGENICA\\n.\\nMuchas ...</td>\n",
       "      <td>NaN</td>\n",
       "      <td>NaN</td>\n",
       "      <td>NaN</td>\n",
       "      <td>4.29</td>\n",
       "    </tr>\n",
       "    <tr>\n",
       "      <th>2</th>\n",
       "      <td>SomosFit</td>\n",
       "      <td>somosfit</td>\n",
       "      <td>NaN</td>\n",
       "      <td>2020-11-24 06:37:06 EST</td>\n",
       "      <td>Photo</td>\n",
       "      <td>361</td>\n",
       "      <td>8</td>\n",
       "      <td>0</td>\n",
       "      <td>https://www.instagram.com/p/CH-Nm64MXy8/</td>\n",
       "      <td>https://www.instagram.com/p/CH-Nm64MXy8/</td>\n",
       "      <td>https://scontent-sea1-1.cdninstagram.com/v/t51...</td>\n",
       "      <td>NaN</td>\n",
       "      <td>🙌🏻NO JUZGUES DECISIONES AJENAS🙌🏻 detrás de ca...</td>\n",
       "      <td>Somos NO JUZGUES decisiones ajenas \"¿ESTÁS HAC...</td>\n",
       "      <td>NaN</td>\n",
       "      <td>NaN</td>\n",
       "      <td>1.31</td>\n",
       "    </tr>\n",
       "    <tr>\n",
       "      <th>3</th>\n",
       "      <td>RECETAS SALUDABLES | NUTRICION</td>\n",
       "      <td>caloria.fit</td>\n",
       "      <td>660230.0</td>\n",
       "      <td>2020-11-23 20:05:10 EST</td>\n",
       "      <td>Photo</td>\n",
       "      <td>3095</td>\n",
       "      <td>25</td>\n",
       "      <td>0</td>\n",
       "      <td>https://www.instagram.com/p/CH9FS3VnaL-/</td>\n",
       "      <td>https://www.instagram.com/p/CH9FS3VnaL-/</td>\n",
       "      <td>https://scontent-sea1-1.cdninstagram.com/v/t51...</td>\n",
       "      <td>NaN</td>\n",
       "      <td>No existe el camino corto, cambia tu estilo de...</td>\n",
       "      <td>Alex Fernandez @vlexfit No existe ninguna diet...</td>\n",
       "      <td>NaN</td>\n",
       "      <td>NaN</td>\n",
       "      <td>-1.60</td>\n",
       "    </tr>\n",
       "    <tr>\n",
       "      <th>4</th>\n",
       "      <td>Recetas | Ani y Sara</td>\n",
       "      <td>fit_happy_sisters</td>\n",
       "      <td>483667.0</td>\n",
       "      <td>2020-11-23 16:11:45 EST</td>\n",
       "      <td>Album</td>\n",
       "      <td>3376</td>\n",
       "      <td>78</td>\n",
       "      <td>0</td>\n",
       "      <td>https://www.instagram.com/p/CH8qlQ8ljz2/</td>\n",
       "      <td>https://www.instagram.com/p/CH8qlQ8ljz2/</td>\n",
       "      <td>https://scontent-sea1-1.cdninstagram.com/v/t51...</td>\n",
       "      <td>NaN</td>\n",
       "      <td>🍎 VEGAN APPLE BREAD ¡fácil y delicioso! Toca d...</td>\n",
       "      <td>NaN</td>\n",
       "      <td>NaN</td>\n",
       "      <td>NaN</td>\n",
       "      <td>-1.27</td>\n",
       "    </tr>\n",
       "  </tbody>\n",
       "</table>\n",
       "</div>"
      ],
      "text/plain": [
       "                          Account          User Name  Followers at Posting  \\\n",
       "0  RECETAS SALUDABLES | NUTRICION        caloria.fit              660230.0   \n",
       "1                Federico Galassi         feder.gala               23392.0   \n",
       "2                        SomosFit           somosfit                   NaN   \n",
       "3  RECETAS SALUDABLES | NUTRICION        caloria.fit              660230.0   \n",
       "4            Recetas | Ani y Sara  fit_happy_sisters              483667.0   \n",
       "\n",
       "                   Created   Type  Likes  Comments  Views  \\\n",
       "0  2020-11-24 08:10:39 EST  Photo   1292        31      0   \n",
       "1  2020-11-24 08:10:31 EST  Album     52         8      0   \n",
       "2  2020-11-24 06:37:06 EST  Photo    361         8      0   \n",
       "3  2020-11-23 20:05:10 EST  Photo   3095        25      0   \n",
       "4  2020-11-23 16:11:45 EST  Album   3376        78      0   \n",
       "\n",
       "                                        URL  \\\n",
       "0  https://www.instagram.com/p/CH-YUcyHztq/   \n",
       "1  https://www.instagram.com/p/CH-YTh0DuDM/   \n",
       "2  https://www.instagram.com/p/CH-Nm64MXy8/   \n",
       "3  https://www.instagram.com/p/CH9FS3VnaL-/   \n",
       "4  https://www.instagram.com/p/CH8qlQ8ljz2/   \n",
       "\n",
       "                                       Link  \\\n",
       "0  https://www.instagram.com/p/CH-YUcyHztq/   \n",
       "1  https://www.instagram.com/p/CH-YTh0DuDM/   \n",
       "2  https://www.instagram.com/p/CH-Nm64MXy8/   \n",
       "3  https://www.instagram.com/p/CH9FS3VnaL-/   \n",
       "4  https://www.instagram.com/p/CH8qlQ8ljz2/   \n",
       "\n",
       "                                               Photo Title  \\\n",
       "0  https://scontent-sea1-1.cdninstagram.com/v/t51...   NaN   \n",
       "1  https://scontent-sea1-1.cdninstagram.com/v/t51...   NaN   \n",
       "2  https://scontent-sea1-1.cdninstagram.com/v/t51...   NaN   \n",
       "3  https://scontent-sea1-1.cdninstagram.com/v/t51...   NaN   \n",
       "4  https://scontent-sea1-1.cdninstagram.com/v/t51...   NaN   \n",
       "\n",
       "                                         Description  \\\n",
       "0                                                🥲🥲🥲   \n",
       "1  LA PARADOJA DE LA DIETA CETOGENICA\\n.\\nMuchas ...   \n",
       "2  🙌🏻NO JUZGUES DECISIONES AJENAS🙌🏻 detrás de ca...   \n",
       "3  No existe el camino corto, cambia tu estilo de...   \n",
       "4  🍎 VEGAN APPLE BREAD ¡fácil y delicioso! Toca d...   \n",
       "\n",
       "                                          Image Text  Sponsor Id  \\\n",
       "0  Cuando vas al gimnasio, pero la cara no mejora...         NaN   \n",
       "1                                                NaN         NaN   \n",
       "2  Somos NO JUZGUES decisiones ajenas \"¿ESTÁS HAC...         NaN   \n",
       "3  Alex Fernandez @vlexfit No existe ninguna diet...         NaN   \n",
       "4                                                NaN         NaN   \n",
       "\n",
       "   Sponsor Name  Overperforming Score  \n",
       "0           NaN                  1.18  \n",
       "1           NaN                  4.29  \n",
       "2           NaN                  1.31  \n",
       "3           NaN                 -1.60  \n",
       "4           NaN                 -1.27  "
      ]
     },
     "execution_count": 2,
     "metadata": {},
     "output_type": "execute_result"
    }
   ],
   "source": [
    "dataFit = pd.read_csv(\n",
    "    \"https://drive.google.com/uc?export=download&id=1wEN85LBolVxFKKpNwWZwxb90do60okyN\"\n",
    ")\n",
    "print(dataFit.columns)\n",
    "print(dataFit.shape)\n",
    "dataFit.head()"
   ]
  },
  {
   "cell_type": "code",
   "execution_count": 3,
   "id": "05bde7ad",
   "metadata": {
    "execution": {
     "iopub.execute_input": "2021-09-19T16:02:19.671073Z",
     "iopub.status.busy": "2021-09-19T16:02:19.669477Z",
     "iopub.status.idle": "2021-09-19T16:02:19.673213Z",
     "shell.execute_reply": "2021-09-19T16:02:19.672665Z"
    }
   },
   "outputs": [
    {
     "data": {
      "text/plain": [
       "array(['caloria.fit', 'feder.gala', 'somosfit', 'fit_happy_sisters'],\n",
       "      dtype=object)"
      ]
     },
     "execution_count": 3,
     "metadata": {},
     "output_type": "execute_result"
    }
   ],
   "source": [
    "dataFit[\"User Name\"].unique()"
   ]
  },
  {
   "cell_type": "code",
   "execution_count": 4,
   "id": "329f668b",
   "metadata": {
    "execution": {
     "iopub.execute_input": "2021-09-19T16:02:19.678180Z",
     "iopub.status.busy": "2021-09-19T16:02:19.677568Z",
     "iopub.status.idle": "2021-09-19T16:02:23.459285Z",
     "shell.execute_reply": "2021-09-19T16:02:23.459807Z"
    }
   },
   "outputs": [
    {
     "name": "stdout",
     "output_type": "stream",
     "text": [
      "Index(['Account', 'User Name', 'Followers at Posting', 'Created', 'Type',\n",
      "       'Likes', 'Comments', 'Views', 'URL', 'Link', 'Photo', 'Title',\n",
      "       'Description', 'Image Text', 'Sponsor Id', 'Sponsor Name',\n",
      "       'Overperforming Score'],\n",
      "      dtype='object')\n",
      "(3935, 17)\n"
     ]
    },
    {
     "data": {
      "text/html": [
       "<div>\n",
       "<style scoped>\n",
       "    .dataframe tbody tr th:only-of-type {\n",
       "        vertical-align: middle;\n",
       "    }\n",
       "\n",
       "    .dataframe tbody tr th {\n",
       "        vertical-align: top;\n",
       "    }\n",
       "\n",
       "    .dataframe thead th {\n",
       "        text-align: right;\n",
       "    }\n",
       "</style>\n",
       "<table border=\"1\" class=\"dataframe\">\n",
       "  <thead>\n",
       "    <tr style=\"text-align: right;\">\n",
       "      <th></th>\n",
       "      <th>Account</th>\n",
       "      <th>User Name</th>\n",
       "      <th>Followers at Posting</th>\n",
       "      <th>Created</th>\n",
       "      <th>Type</th>\n",
       "      <th>Likes</th>\n",
       "      <th>Comments</th>\n",
       "      <th>Views</th>\n",
       "      <th>URL</th>\n",
       "      <th>Link</th>\n",
       "      <th>Photo</th>\n",
       "      <th>Title</th>\n",
       "      <th>Description</th>\n",
       "      <th>Image Text</th>\n",
       "      <th>Sponsor Id</th>\n",
       "      <th>Sponsor Name</th>\n",
       "      <th>Overperforming Score</th>\n",
       "    </tr>\n",
       "  </thead>\n",
       "  <tbody>\n",
       "    <tr>\n",
       "      <th>0</th>\n",
       "      <td>Lic. M. Agustina Murcho</td>\n",
       "      <td>nutricion.ag</td>\n",
       "      <td>382855.0</td>\n",
       "      <td>2020-11-24 07:29:11 EST</td>\n",
       "      <td>Photo</td>\n",
       "      <td>777</td>\n",
       "      <td>20</td>\n",
       "      <td>0</td>\n",
       "      <td>https://www.instagram.com/p/CH-TktkD1_Q/</td>\n",
       "      <td>https://www.instagram.com/p/CH-TktkD1_Q/</td>\n",
       "      <td>https://scontent-sea1-1.cdninstagram.com/v/t51...</td>\n",
       "      <td>NaN</td>\n",
       "      <td>💭Siempre estuvo “de moda” el hacer dieta. O má...</td>\n",
       "      <td>Las dietas restrictivas aumentan la Ghrelina. ...</td>\n",
       "      <td>NaN</td>\n",
       "      <td>NaN</td>\n",
       "      <td>-1.23</td>\n",
       "    </tr>\n",
       "    <tr>\n",
       "      <th>1</th>\n",
       "      <td>Lic. Estefanía Beltrami 🍓🍍🍏</td>\n",
       "      <td>nutricion.salud.arg</td>\n",
       "      <td>1733611.0</td>\n",
       "      <td>2020-11-24 05:59:41 EST</td>\n",
       "      <td>Photo</td>\n",
       "      <td>2984</td>\n",
       "      <td>31</td>\n",
       "      <td>0</td>\n",
       "      <td>https://www.instagram.com/p/CH-JVPEA7Ku/</td>\n",
       "      <td>https://www.instagram.com/p/CH-JVPEA7Ku/</td>\n",
       "      <td>https://scontent-sea1-1.cdninstagram.com/v/t51...</td>\n",
       "      <td>NaN</td>\n",
       "      <td>👩🏼‍⚕️ A pesar de que ya todos saben que no pro...</td>\n",
       "      <td>EL HPAD CAMINO AL ÉXITO EXPECTATIVA REALIDAD</td>\n",
       "      <td>NaN</td>\n",
       "      <td>NaN</td>\n",
       "      <td>-1.70</td>\n",
       "    </tr>\n",
       "    <tr>\n",
       "      <th>2</th>\n",
       "      <td>T i n i</td>\n",
       "      <td>agusazcuy</td>\n",
       "      <td>NaN</td>\n",
       "      <td>2020-11-23 19:49:49 EST</td>\n",
       "      <td>IGTV</td>\n",
       "      <td>160</td>\n",
       "      <td>7</td>\n",
       "      <td>3073</td>\n",
       "      <td>https://www.instagram.com/tv/CH9Df9KD6c9/</td>\n",
       "      <td>https://www.instagram.com/tv/CH9Df9KD6c9/</td>\n",
       "      <td>https://scontent-sea1-1.cdninstagram.com/v/t51...</td>\n",
       "      <td>@casanueza LA PREVIA😍con @caazcuy</td>\n",
       "      <td>NaN</td>\n",
       "      <td>NaN</td>\n",
       "      <td>NaN</td>\n",
       "      <td>NaN</td>\n",
       "      <td>-5.61</td>\n",
       "    </tr>\n",
       "    <tr>\n",
       "      <th>3</th>\n",
       "      <td>Lic. M. Agustina Murcho</td>\n",
       "      <td>nutricion.ag</td>\n",
       "      <td>382828.0</td>\n",
       "      <td>2020-11-23 18:33:18 EST</td>\n",
       "      <td>Photo</td>\n",
       "      <td>1755</td>\n",
       "      <td>15</td>\n",
       "      <td>0</td>\n",
       "      <td>https://www.instagram.com/p/CH86x9NDTOf/</td>\n",
       "      <td>https://www.instagram.com/p/CH86x9NDTOf/</td>\n",
       "      <td>https://scontent-sea1-1.cdninstagram.com/v/t51...</td>\n",
       "      <td>NaN</td>\n",
       "      <td>😍Alguna vez probaron ravioles con vegetales? M...</td>\n",
       "      <td>NaN</td>\n",
       "      <td>NaN</td>\n",
       "      <td>NaN</td>\n",
       "      <td>-1.30</td>\n",
       "    </tr>\n",
       "    <tr>\n",
       "      <th>4</th>\n",
       "      <td>Coco I 🔜 IIN Health Coach</td>\n",
       "      <td>cocofitzm</td>\n",
       "      <td>NaN</td>\n",
       "      <td>2020-11-23 18:33:10 EST</td>\n",
       "      <td>IGTV</td>\n",
       "      <td>140</td>\n",
       "      <td>1</td>\n",
       "      <td>1646</td>\n",
       "      <td>https://www.instagram.com/tv/CH86ulwDAgW/</td>\n",
       "      <td>https://www.instagram.com/tv/CH86ulwDAgW/</td>\n",
       "      <td>https://scontent-sea1-1.cdninstagram.com/v/t51...</td>\n",
       "      <td>Q&amp;A ✨</td>\n",
       "      <td>NaN</td>\n",
       "      <td>NaN</td>\n",
       "      <td>NaN</td>\n",
       "      <td>NaN</td>\n",
       "      <td>1.68</td>\n",
       "    </tr>\n",
       "  </tbody>\n",
       "</table>\n",
       "</div>"
      ],
      "text/plain": [
       "                        Account            User Name  Followers at Posting  \\\n",
       "0       Lic. M. Agustina Murcho         nutricion.ag              382855.0   \n",
       "1  Lic. Estefanía Beltrami 🍓🍍🍏  nutricion.salud.arg             1733611.0   \n",
       "2                       T i n i            agusazcuy                   NaN   \n",
       "3       Lic. M. Agustina Murcho         nutricion.ag              382828.0   \n",
       "4     Coco I 🔜 IIN Health Coach            cocofitzm                   NaN   \n",
       "\n",
       "                   Created   Type  Likes  Comments  Views  \\\n",
       "0  2020-11-24 07:29:11 EST  Photo    777        20      0   \n",
       "1  2020-11-24 05:59:41 EST  Photo   2984        31      0   \n",
       "2  2020-11-23 19:49:49 EST   IGTV    160         7   3073   \n",
       "3  2020-11-23 18:33:18 EST  Photo   1755        15      0   \n",
       "4  2020-11-23 18:33:10 EST   IGTV    140         1   1646   \n",
       "\n",
       "                                         URL  \\\n",
       "0   https://www.instagram.com/p/CH-TktkD1_Q/   \n",
       "1   https://www.instagram.com/p/CH-JVPEA7Ku/   \n",
       "2  https://www.instagram.com/tv/CH9Df9KD6c9/   \n",
       "3   https://www.instagram.com/p/CH86x9NDTOf/   \n",
       "4  https://www.instagram.com/tv/CH86ulwDAgW/   \n",
       "\n",
       "                                        Link  \\\n",
       "0   https://www.instagram.com/p/CH-TktkD1_Q/   \n",
       "1   https://www.instagram.com/p/CH-JVPEA7Ku/   \n",
       "2  https://www.instagram.com/tv/CH9Df9KD6c9/   \n",
       "3   https://www.instagram.com/p/CH86x9NDTOf/   \n",
       "4  https://www.instagram.com/tv/CH86ulwDAgW/   \n",
       "\n",
       "                                               Photo  \\\n",
       "0  https://scontent-sea1-1.cdninstagram.com/v/t51...   \n",
       "1  https://scontent-sea1-1.cdninstagram.com/v/t51...   \n",
       "2  https://scontent-sea1-1.cdninstagram.com/v/t51...   \n",
       "3  https://scontent-sea1-1.cdninstagram.com/v/t51...   \n",
       "4  https://scontent-sea1-1.cdninstagram.com/v/t51...   \n",
       "\n",
       "                               Title  \\\n",
       "0                                NaN   \n",
       "1                                NaN   \n",
       "2  @casanueza LA PREVIA😍con @caazcuy   \n",
       "3                                NaN   \n",
       "4                              Q&A ✨   \n",
       "\n",
       "                                         Description  \\\n",
       "0  💭Siempre estuvo “de moda” el hacer dieta. O má...   \n",
       "1  👩🏼‍⚕️ A pesar de que ya todos saben que no pro...   \n",
       "2                                                NaN   \n",
       "3  😍Alguna vez probaron ravioles con vegetales? M...   \n",
       "4                                                NaN   \n",
       "\n",
       "                                          Image Text  Sponsor Id Sponsor Name  \\\n",
       "0  Las dietas restrictivas aumentan la Ghrelina. ...         NaN          NaN   \n",
       "1       EL HPAD CAMINO AL ÉXITO EXPECTATIVA REALIDAD         NaN          NaN   \n",
       "2                                                NaN         NaN          NaN   \n",
       "3                                                NaN         NaN          NaN   \n",
       "4                                                NaN         NaN          NaN   \n",
       "\n",
       "   Overperforming Score  \n",
       "0                 -1.23  \n",
       "1                 -1.70  \n",
       "2                 -5.61  \n",
       "3                 -1.30  \n",
       "4                  1.68  "
      ]
     },
     "execution_count": 4,
     "metadata": {},
     "output_type": "execute_result"
    }
   ],
   "source": [
    "dataRecetasFit = pd.read_csv(\n",
    "    \"https://drive.google.com/uc?export=download&id=13FL4Am8VRVPulISyobQf41IbgCgk2Egn\"\n",
    ")\n",
    "print(dataRecetasFit.columns)\n",
    "print(dataRecetasFit.shape)\n",
    "dataRecetasFit.head()"
   ]
  },
  {
   "cell_type": "code",
   "execution_count": 5,
   "id": "c6ec69e6",
   "metadata": {
    "execution": {
     "iopub.execute_input": "2021-09-19T16:02:23.467172Z",
     "iopub.status.busy": "2021-09-19T16:02:23.465944Z",
     "iopub.status.idle": "2021-09-19T16:02:23.469028Z",
     "shell.execute_reply": "2021-09-19T16:02:23.469548Z"
    }
   },
   "outputs": [
    {
     "data": {
      "text/plain": [
       "array(['nutricion.ag', 'nutricion.salud.arg', 'agusazcuy', 'cocofitzm',\n",
       "       'nutricionamiunes', 'lavieenplant', 'matias.marchetti',\n",
       "       'sofi.deli', 'thehealthyblogger', 'kale.ar', 'nutri.recipes',\n",
       "       'camila.kost', 'being.healthyy', 'silvaldemoros', '_hinojo'],\n",
       "      dtype=object)"
      ]
     },
     "execution_count": 5,
     "metadata": {},
     "output_type": "execute_result"
    }
   ],
   "source": [
    "dataRecetasFit[\"User Name\"].unique()"
   ]
  },
  {
   "cell_type": "code",
   "execution_count": 6,
   "id": "e3dfc889",
   "metadata": {
    "execution": {
     "iopub.execute_input": "2021-09-19T16:02:23.474217Z",
     "iopub.status.busy": "2021-09-19T16:02:23.473633Z",
     "iopub.status.idle": "2021-09-19T16:02:26.783254Z",
     "shell.execute_reply": "2021-09-19T16:02:26.782716Z"
    }
   },
   "outputs": [
    {
     "name": "stdout",
     "output_type": "stream",
     "text": [
      "(4886, 17)\n"
     ]
    },
    {
     "data": {
      "text/html": [
       "<div>\n",
       "<style scoped>\n",
       "    .dataframe tbody tr th:only-of-type {\n",
       "        vertical-align: middle;\n",
       "    }\n",
       "\n",
       "    .dataframe tbody tr th {\n",
       "        vertical-align: top;\n",
       "    }\n",
       "\n",
       "    .dataframe thead th {\n",
       "        text-align: right;\n",
       "    }\n",
       "</style>\n",
       "<table border=\"1\" class=\"dataframe\">\n",
       "  <thead>\n",
       "    <tr style=\"text-align: right;\">\n",
       "      <th></th>\n",
       "      <th>Account</th>\n",
       "      <th>User Name</th>\n",
       "      <th>Followers at Posting</th>\n",
       "      <th>Created</th>\n",
       "      <th>Type</th>\n",
       "      <th>Likes</th>\n",
       "      <th>Comments</th>\n",
       "      <th>Views</th>\n",
       "      <th>URL</th>\n",
       "      <th>Link</th>\n",
       "      <th>Photo</th>\n",
       "      <th>Title</th>\n",
       "      <th>Description</th>\n",
       "      <th>Image Text</th>\n",
       "      <th>Sponsor Id</th>\n",
       "      <th>Sponsor Name</th>\n",
       "      <th>Overperforming Score</th>\n",
       "    </tr>\n",
       "  </thead>\n",
       "  <tbody>\n",
       "    <tr>\n",
       "      <th>0</th>\n",
       "      <td>Paulina Cocina - Recetas y eso</td>\n",
       "      <td>paulinacocina</td>\n",
       "      <td>2181478</td>\n",
       "      <td>2020-11-23 20:40:29 EST</td>\n",
       "      <td>IGTV</td>\n",
       "      <td>11461</td>\n",
       "      <td>138</td>\n",
       "      <td>206045</td>\n",
       "      <td>https://www.instagram.com/tv/CH9CjmChgL9/</td>\n",
       "      <td>https://www.instagram.com/tv/CH9CjmChgL9/</td>\n",
       "      <td>https://scontent-sea1-1.cdninstagram.com/v/t51...</td>\n",
       "      <td>Wok de verduras - La Caja de Paulina 📦</td>\n",
       "      <td>Esta receta es ideal para cuando querés que al...</td>\n",
       "      <td>NaN</td>\n",
       "      <td>NaN</td>\n",
       "      <td>NaN</td>\n",
       "      <td>-1.42</td>\n",
       "    </tr>\n",
       "    <tr>\n",
       "      <th>1</th>\n",
       "      <td>Estefi Colombo</td>\n",
       "      <td>esteficolombo</td>\n",
       "      <td>628499</td>\n",
       "      <td>2020-11-23 19:36:19 EST</td>\n",
       "      <td>Photo</td>\n",
       "      <td>8409</td>\n",
       "      <td>24927</td>\n",
       "      <td>0</td>\n",
       "      <td>https://www.instagram.com/p/CH9B_g4j_8F/</td>\n",
       "      <td>https://www.instagram.com/p/CH9B_g4j_8F/</td>\n",
       "      <td>https://scontent-sea1-1.cdninstagram.com/v/t51...</td>\n",
       "      <td>NaN</td>\n",
       "      <td>🥳Sorteo!!! 20 ‼️ cajas llenas  de productos @s...</td>\n",
       "      <td>NaN</td>\n",
       "      <td>NaN</td>\n",
       "      <td>NaN</td>\n",
       "      <td>14.17</td>\n",
       "    </tr>\n",
       "    <tr>\n",
       "      <th>2</th>\n",
       "      <td>Valentina</td>\n",
       "      <td>valuramallo</td>\n",
       "      <td>414068</td>\n",
       "      <td>2020-11-23 19:10:10 EST</td>\n",
       "      <td>IGTV</td>\n",
       "      <td>1972</td>\n",
       "      <td>27</td>\n",
       "      <td>31346</td>\n",
       "      <td>https://www.instagram.com/tv/CH8-0l7loo_/</td>\n",
       "      <td>https://www.instagram.com/tv/CH8-0l7loo_/</td>\n",
       "      <td>https://scontent-sea1-1.cdninstagram.com/v/t51...</td>\n",
       "      <td>🤎Parece que sigue el calor Torta con base croc...</td>\n",
       "      <td>MEGA FACIL, rapida yyyy riquiiisima!! con base...</td>\n",
       "      <td>NaN</td>\n",
       "      <td>NaN</td>\n",
       "      <td>NaN</td>\n",
       "      <td>1.24</td>\n",
       "    </tr>\n",
       "    <tr>\n",
       "      <th>3</th>\n",
       "      <td>Cocineros Argentinos</td>\n",
       "      <td>cocinerosarg</td>\n",
       "      <td>1572373</td>\n",
       "      <td>2020-11-23 18:15:13 EST</td>\n",
       "      <td>Album</td>\n",
       "      <td>2348</td>\n",
       "      <td>75</td>\n",
       "      <td>0</td>\n",
       "      <td>https://www.instagram.com/p/CH84tg_AHaL/</td>\n",
       "      <td>https://www.instagram.com/p/CH84tg_AHaL/</td>\n",
       "      <td>https://scontent-sea1-1.cdninstagram.com/v/t51...</td>\n",
       "      <td>NaN</td>\n",
       "      <td>Espectacular PASTEL DE NOVIA SANTIAGUEÑO 🔥 que...</td>\n",
       "      <td>NaN</td>\n",
       "      <td>NaN</td>\n",
       "      <td>NaN</td>\n",
       "      <td>-1.31</td>\n",
       "    </tr>\n",
       "    <tr>\n",
       "      <th>4</th>\n",
       "      <td>Jimena Monteverde</td>\n",
       "      <td>jimemonteverde</td>\n",
       "      <td>701757</td>\n",
       "      <td>2020-11-23 17:36:28 EST</td>\n",
       "      <td>IGTV</td>\n",
       "      <td>4513</td>\n",
       "      <td>142</td>\n",
       "      <td>56811</td>\n",
       "      <td>https://www.instagram.com/tv/CH80F9oJ3my/</td>\n",
       "      <td>https://www.instagram.com/tv/CH80F9oJ3my/</td>\n",
       "      <td>https://scontent-sea1-1.cdninstagram.com/v/t51...</td>\n",
       "      <td>ENTRAÑAS AL MALBEC 🍇🍷</td>\n",
       "      <td>Hermoso día para estar al aire libre, disfruta...</td>\n",
       "      <td>NaN</td>\n",
       "      <td>NaN</td>\n",
       "      <td>NaN</td>\n",
       "      <td>-1.03</td>\n",
       "    </tr>\n",
       "  </tbody>\n",
       "</table>\n",
       "</div>"
      ],
      "text/plain": [
       "                          Account       User Name  Followers at Posting  \\\n",
       "0  Paulina Cocina - Recetas y eso   paulinacocina               2181478   \n",
       "1                  Estefi Colombo   esteficolombo                628499   \n",
       "2                       Valentina     valuramallo                414068   \n",
       "3            Cocineros Argentinos    cocinerosarg               1572373   \n",
       "4               Jimena Monteverde  jimemonteverde                701757   \n",
       "\n",
       "                   Created   Type  Likes  Comments   Views  \\\n",
       "0  2020-11-23 20:40:29 EST   IGTV  11461       138  206045   \n",
       "1  2020-11-23 19:36:19 EST  Photo   8409     24927       0   \n",
       "2  2020-11-23 19:10:10 EST   IGTV   1972        27   31346   \n",
       "3  2020-11-23 18:15:13 EST  Album   2348        75       0   \n",
       "4  2020-11-23 17:36:28 EST   IGTV   4513       142   56811   \n",
       "\n",
       "                                         URL  \\\n",
       "0  https://www.instagram.com/tv/CH9CjmChgL9/   \n",
       "1   https://www.instagram.com/p/CH9B_g4j_8F/   \n",
       "2  https://www.instagram.com/tv/CH8-0l7loo_/   \n",
       "3   https://www.instagram.com/p/CH84tg_AHaL/   \n",
       "4  https://www.instagram.com/tv/CH80F9oJ3my/   \n",
       "\n",
       "                                        Link  \\\n",
       "0  https://www.instagram.com/tv/CH9CjmChgL9/   \n",
       "1   https://www.instagram.com/p/CH9B_g4j_8F/   \n",
       "2  https://www.instagram.com/tv/CH8-0l7loo_/   \n",
       "3   https://www.instagram.com/p/CH84tg_AHaL/   \n",
       "4  https://www.instagram.com/tv/CH80F9oJ3my/   \n",
       "\n",
       "                                               Photo  \\\n",
       "0  https://scontent-sea1-1.cdninstagram.com/v/t51...   \n",
       "1  https://scontent-sea1-1.cdninstagram.com/v/t51...   \n",
       "2  https://scontent-sea1-1.cdninstagram.com/v/t51...   \n",
       "3  https://scontent-sea1-1.cdninstagram.com/v/t51...   \n",
       "4  https://scontent-sea1-1.cdninstagram.com/v/t51...   \n",
       "\n",
       "                                               Title  \\\n",
       "0             Wok de verduras - La Caja de Paulina 📦   \n",
       "1                                                NaN   \n",
       "2  🤎Parece que sigue el calor Torta con base croc...   \n",
       "3                                                NaN   \n",
       "4                              ENTRAÑAS AL MALBEC 🍇🍷   \n",
       "\n",
       "                                         Description Image Text  Sponsor Id  \\\n",
       "0  Esta receta es ideal para cuando querés que al...        NaN         NaN   \n",
       "1  🥳Sorteo!!! 20 ‼️ cajas llenas  de productos @s...        NaN         NaN   \n",
       "2  MEGA FACIL, rapida yyyy riquiiisima!! con base...        NaN         NaN   \n",
       "3  Espectacular PASTEL DE NOVIA SANTIAGUEÑO 🔥 que...        NaN         NaN   \n",
       "4  Hermoso día para estar al aire libre, disfruta...        NaN         NaN   \n",
       "\n",
       "  Sponsor Name Overperforming Score  \n",
       "0          NaN                -1.42  \n",
       "1          NaN                14.17  \n",
       "2          NaN                 1.24  \n",
       "3          NaN                -1.31  \n",
       "4          NaN                -1.03  "
      ]
     },
     "execution_count": 6,
     "metadata": {},
     "output_type": "execute_result"
    }
   ],
   "source": [
    "dataRecetas = pd.read_csv(\n",
    "    \"https://drive.google.com/uc?export=download&id=1k0rSIpL9ycPtGSjZoIDhy6wQG3l6KxuE\"\n",
    ")\n",
    "print(dataRecetas.shape)\n",
    "dataRecetas.head()"
   ]
  },
  {
   "cell_type": "code",
   "execution_count": 7,
   "id": "0f6203f2",
   "metadata": {
    "execution": {
     "iopub.execute_input": "2021-09-19T16:02:26.787947Z",
     "iopub.status.busy": "2021-09-19T16:02:26.787369Z",
     "iopub.status.idle": "2021-09-19T16:02:26.794123Z",
     "shell.execute_reply": "2021-09-19T16:02:26.793577Z"
    }
   },
   "outputs": [
    {
     "data": {
      "text/plain": [
       "array(['paulinacocina', 'esteficolombo', 'valuramallo', 'cocinerosarg',\n",
       "       'jimemonteverde', 'ximena_saenz', 'arielrodriguezpalacios',\n",
       "       'deliascakes', 'marubotanaok', 'unblogderecetas', 'cookvanoyen',\n",
       "       'agoschinelli', 'inutilisimas', 'teodeliinesias'], dtype=object)"
      ]
     },
     "execution_count": 7,
     "metadata": {},
     "output_type": "execute_result"
    }
   ],
   "source": [
    "dataRecetas[\"User Name\"].unique()"
   ]
  },
  {
   "cell_type": "code",
   "execution_count": 8,
   "id": "a291624f",
   "metadata": {
    "execution": {
     "iopub.execute_input": "2021-09-19T16:02:26.798916Z",
     "iopub.status.busy": "2021-09-19T16:02:26.798267Z",
     "iopub.status.idle": "2021-09-19T16:02:28.363734Z",
     "shell.execute_reply": "2021-09-19T16:02:28.364240Z"
    }
   },
   "outputs": [
    {
     "name": "stdout",
     "output_type": "stream",
     "text": [
      "(484, 17)\n"
     ]
    },
    {
     "data": {
      "text/html": [
       "<div>\n",
       "<style scoped>\n",
       "    .dataframe tbody tr th:only-of-type {\n",
       "        vertical-align: middle;\n",
       "    }\n",
       "\n",
       "    .dataframe tbody tr th {\n",
       "        vertical-align: top;\n",
       "    }\n",
       "\n",
       "    .dataframe thead th {\n",
       "        text-align: right;\n",
       "    }\n",
       "</style>\n",
       "<table border=\"1\" class=\"dataframe\">\n",
       "  <thead>\n",
       "    <tr style=\"text-align: right;\">\n",
       "      <th></th>\n",
       "      <th>Account</th>\n",
       "      <th>User Name</th>\n",
       "      <th>Followers at Posting</th>\n",
       "      <th>Created</th>\n",
       "      <th>Type</th>\n",
       "      <th>Likes</th>\n",
       "      <th>Comments</th>\n",
       "      <th>Views</th>\n",
       "      <th>URL</th>\n",
       "      <th>Link</th>\n",
       "      <th>Photo</th>\n",
       "      <th>Title</th>\n",
       "      <th>Description</th>\n",
       "      <th>Image Text</th>\n",
       "      <th>Sponsor Id</th>\n",
       "      <th>Sponsor Name</th>\n",
       "      <th>Overperforming Score</th>\n",
       "    </tr>\n",
       "  </thead>\n",
       "  <tbody>\n",
       "    <tr>\n",
       "      <th>0</th>\n",
       "      <td>Ramon Abila</td>\n",
       "      <td>wanchope_abila9</td>\n",
       "      <td>853995.0</td>\n",
       "      <td>2020-11-22 18:17:02 EST</td>\n",
       "      <td>Album</td>\n",
       "      <td>34162</td>\n",
       "      <td>98</td>\n",
       "      <td>0</td>\n",
       "      <td>https://www.instagram.com/p/CH6UICOJtiX/</td>\n",
       "      <td>https://www.instagram.com/p/CH6UICOJtiX/</td>\n",
       "      <td>https://scontent-sea1-1.cdninstagram.com/v/t51...</td>\n",
       "      <td>NaN</td>\n",
       "      <td>@bocajrsoficial 🏆🤩💙💛💙</td>\n",
       "      <td>NaN</td>\n",
       "      <td>NaN</td>\n",
       "      <td>NaN</td>\n",
       "      <td>-1.79</td>\n",
       "    </tr>\n",
       "    <tr>\n",
       "      <th>1</th>\n",
       "      <td>Leonardo Ponzio</td>\n",
       "      <td>leoponzio_ok</td>\n",
       "      <td>1421613.0</td>\n",
       "      <td>2020-11-22 10:26:06 EST</td>\n",
       "      <td>Album</td>\n",
       "      <td>114434</td>\n",
       "      <td>1399</td>\n",
       "      <td>0</td>\n",
       "      <td>https://www.instagram.com/p/CH5eOuzj8Do/</td>\n",
       "      <td>https://www.instagram.com/p/CH5eOuzj8Do/</td>\n",
       "      <td>https://scontent-sea1-1.cdninstagram.com/v/t51...</td>\n",
       "      <td>NaN</td>\n",
       "      <td>@riverplate</td>\n",
       "      <td>NaN</td>\n",
       "      <td>NaN</td>\n",
       "      <td>NaN</td>\n",
       "      <td>1.19</td>\n",
       "    </tr>\n",
       "    <tr>\n",
       "      <th>2</th>\n",
       "      <td>Federico Mancuello</td>\n",
       "      <td>mancuello</td>\n",
       "      <td>443746.0</td>\n",
       "      <td>2020-11-21 20:21:45 EST</td>\n",
       "      <td>Album</td>\n",
       "      <td>14281</td>\n",
       "      <td>128</td>\n",
       "      <td>0</td>\n",
       "      <td>https://www.instagram.com/p/CH39mmMMLNr/</td>\n",
       "      <td>https://www.instagram.com/p/CH39mmMMLNr/</td>\n",
       "      <td>https://scontent-sea1-1.cdninstagram.com/v/t51...</td>\n",
       "      <td>NaN</td>\n",
       "      <td>Buen triunfo fuera de casa .!! \\nA seguir que ...</td>\n",
       "      <td>NaN</td>\n",
       "      <td>NaN</td>\n",
       "      <td>NaN</td>\n",
       "      <td>1.68</td>\n",
       "    </tr>\n",
       "    <tr>\n",
       "      <th>3</th>\n",
       "      <td>Julio Buffarini</td>\n",
       "      <td>buffarini07</td>\n",
       "      <td>710873.0</td>\n",
       "      <td>2020-11-21 17:54:54 EST</td>\n",
       "      <td>Photo</td>\n",
       "      <td>40913</td>\n",
       "      <td>286</td>\n",
       "      <td>0</td>\n",
       "      <td>https://www.instagram.com/p/CH3szCKrjbj/</td>\n",
       "      <td>https://www.instagram.com/p/CH3szCKrjbj/</td>\n",
       "      <td>https://scontent-sea1-1.cdninstagram.com/v/t51...</td>\n",
       "      <td>NaN</td>\n",
       "      <td>Campeón 2019/2020 🔵🟡🔵💪🏆 @bocajrsoficial</td>\n",
       "      <td>NaN</td>\n",
       "      <td>NaN</td>\n",
       "      <td>NaN</td>\n",
       "      <td>1.63</td>\n",
       "    </tr>\n",
       "    <tr>\n",
       "      <th>4</th>\n",
       "      <td>Pulga Rodríguez</td>\n",
       "      <td>elpulga.ok</td>\n",
       "      <td>76009.0</td>\n",
       "      <td>2020-11-21 17:48:21 EST</td>\n",
       "      <td>Album</td>\n",
       "      <td>14463</td>\n",
       "      <td>120</td>\n",
       "      <td>0</td>\n",
       "      <td>https://www.instagram.com/p/CH3sDCBHtZa/</td>\n",
       "      <td>https://www.instagram.com/p/CH3sDCBHtZa/</td>\n",
       "      <td>https://scontent-sea1-1.cdninstagram.com/v/t51...</td>\n",
       "      <td>NaN</td>\n",
       "      <td>Seguimos!!! +3 🔴⚫️\\n📸 @fedeloute</td>\n",
       "      <td>NaN</td>\n",
       "      <td>NaN</td>\n",
       "      <td>NaN</td>\n",
       "      <td>1.32</td>\n",
       "    </tr>\n",
       "  </tbody>\n",
       "</table>\n",
       "</div>"
      ],
      "text/plain": [
       "              Account        User Name  Followers at Posting  \\\n",
       "0         Ramon Abila  wanchope_abila9              853995.0   \n",
       "1     Leonardo Ponzio     leoponzio_ok             1421613.0   \n",
       "2  Federico Mancuello        mancuello              443746.0   \n",
       "3     Julio Buffarini      buffarini07              710873.0   \n",
       "4    Pulga Rodríguez       elpulga.ok               76009.0   \n",
       "\n",
       "                   Created   Type   Likes  Comments  Views  \\\n",
       "0  2020-11-22 18:17:02 EST  Album   34162        98      0   \n",
       "1  2020-11-22 10:26:06 EST  Album  114434      1399      0   \n",
       "2  2020-11-21 20:21:45 EST  Album   14281       128      0   \n",
       "3  2020-11-21 17:54:54 EST  Photo   40913       286      0   \n",
       "4  2020-11-21 17:48:21 EST  Album   14463       120      0   \n",
       "\n",
       "                                        URL  \\\n",
       "0  https://www.instagram.com/p/CH6UICOJtiX/   \n",
       "1  https://www.instagram.com/p/CH5eOuzj8Do/   \n",
       "2  https://www.instagram.com/p/CH39mmMMLNr/   \n",
       "3  https://www.instagram.com/p/CH3szCKrjbj/   \n",
       "4  https://www.instagram.com/p/CH3sDCBHtZa/   \n",
       "\n",
       "                                       Link  \\\n",
       "0  https://www.instagram.com/p/CH6UICOJtiX/   \n",
       "1  https://www.instagram.com/p/CH5eOuzj8Do/   \n",
       "2  https://www.instagram.com/p/CH39mmMMLNr/   \n",
       "3  https://www.instagram.com/p/CH3szCKrjbj/   \n",
       "4  https://www.instagram.com/p/CH3sDCBHtZa/   \n",
       "\n",
       "                                               Photo Title  \\\n",
       "0  https://scontent-sea1-1.cdninstagram.com/v/t51...   NaN   \n",
       "1  https://scontent-sea1-1.cdninstagram.com/v/t51...   NaN   \n",
       "2  https://scontent-sea1-1.cdninstagram.com/v/t51...   NaN   \n",
       "3  https://scontent-sea1-1.cdninstagram.com/v/t51...   NaN   \n",
       "4  https://scontent-sea1-1.cdninstagram.com/v/t51...   NaN   \n",
       "\n",
       "                                         Description Image Text  Sponsor Id  \\\n",
       "0                              @bocajrsoficial 🏆🤩💙💛💙        NaN         NaN   \n",
       "1                                        @riverplate        NaN         NaN   \n",
       "2  Buen triunfo fuera de casa .!! \\nA seguir que ...        NaN         NaN   \n",
       "3            Campeón 2019/2020 🔵🟡🔵💪🏆 @bocajrsoficial        NaN         NaN   \n",
       "4                   Seguimos!!! +3 🔴⚫️\\n📸 @fedeloute        NaN         NaN   \n",
       "\n",
       "  Sponsor Name  Overperforming Score  \n",
       "0          NaN                 -1.79  \n",
       "1          NaN                  1.19  \n",
       "2          NaN                  1.68  \n",
       "3          NaN                  1.63  \n",
       "4          NaN                  1.32  "
      ]
     },
     "execution_count": 8,
     "metadata": {},
     "output_type": "execute_result"
    }
   ],
   "source": [
    "dataJugadoresArg = pd.read_csv(\n",
    "    \"https://drive.google.com/uc?export=download&id=1YR1uT4USWgXzemIDWYaLwhSEmulwsUP6\"\n",
    ")\n",
    "print(dataJugadoresArg.shape)\n",
    "dataJugadoresArg.head()"
   ]
  },
  {
   "cell_type": "code",
   "execution_count": 9,
   "id": "5af078da",
   "metadata": {
    "execution": {
     "iopub.execute_input": "2021-09-19T16:02:28.369653Z",
     "iopub.status.busy": "2021-09-19T16:02:28.369035Z",
     "iopub.status.idle": "2021-09-19T16:02:28.372566Z",
     "shell.execute_reply": "2021-09-19T16:02:28.373140Z"
    }
   },
   "outputs": [
    {
     "data": {
      "text/plain": [
       "array(['wanchope_abila9', 'leoponzio_ok', 'mancuello', 'buffarini07',\n",
       "       'elpulga.ok', 'nachofdez90', '__carlitostevez', 'lucaspratto',\n",
       "       'daricvitaok', 'francoarmani34', 'adrianricardo1993',\n",
       "       'jonathan_bottinelli'], dtype=object)"
      ]
     },
     "execution_count": 9,
     "metadata": {},
     "output_type": "execute_result"
    }
   ],
   "source": [
    "dataJugadoresArg[\"User Name\"].unique()"
   ]
  },
  {
   "cell_type": "code",
   "execution_count": 10,
   "id": "834edfd7",
   "metadata": {
    "execution": {
     "iopub.execute_input": "2021-09-19T16:02:28.377529Z",
     "iopub.status.busy": "2021-09-19T16:02:28.376919Z",
     "iopub.status.idle": "2021-09-19T16:02:50.530400Z",
     "shell.execute_reply": "2021-09-19T16:02:50.529837Z"
    }
   },
   "outputs": [
    {
     "data": {
      "text/plain": [
       "array(['tycsports', 'espnfcarg', 'diario.ole', 'foxsportsargentina',\n",
       "       'varskysports', 'libermanmartin', 'chavofucks', 'dflatorre',\n",
       "       'wolffquique', 'rolfimonte23', 'jpvarsky', 'ruggeri86oficial'],\n",
       "      dtype=object)"
      ]
     },
     "execution_count": 10,
     "metadata": {},
     "output_type": "execute_result"
    }
   ],
   "source": [
    "dataPeriodistmoDep = pd.read_csv(\n",
    "    \"https://drive.google.com/uc?export=download&id=1szz4vhaIIi5QBxZM1ZpIrL0plkuyy6Ek\"\n",
    ")\n",
    "dataPeriodistmoDep[\"User Name\"].unique()"
   ]
  },
  {
   "cell_type": "code",
   "execution_count": 11,
   "id": "37866cf9",
   "metadata": {
    "execution": {
     "iopub.execute_input": "2021-09-19T16:02:50.535175Z",
     "iopub.status.busy": "2021-09-19T16:02:50.534567Z",
     "iopub.status.idle": "2021-09-19T16:02:52.642770Z",
     "shell.execute_reply": "2021-09-19T16:02:52.643306Z"
    }
   },
   "outputs": [
    {
     "name": "stdout",
     "output_type": "stream",
     "text": [
      "(853, 17)\n"
     ]
    },
    {
     "data": {
      "text/plain": [
       "array(['nadiapodoroska', 'tagliafico3', 'lautaromartinez',\n",
       "       'chinomaidana.1', 'sponzinibbiomma', 'lucasalario',\n",
       "       'dieschwartzman', 'delpotrojuan', 'laurogerman'], dtype=object)"
      ]
     },
     "execution_count": 11,
     "metadata": {},
     "output_type": "execute_result"
    }
   ],
   "source": [
    "dataotrosDeportistas = pd.read_csv(\n",
    "    \"https://drive.google.com/uc?export=download&id=17-k6vXfQ34T02Mb5-BK-DaezStkj5aRB\"\n",
    ")\n",
    "print(dataotrosDeportistas.shape)\n",
    "dataotrosDeportistas[\"User Name\"].unique()"
   ]
  },
  {
   "cell_type": "markdown",
   "id": "75d9d225",
   "metadata": {},
   "source": [
    "Unimos todos los dataframe en uno sólo en el siguiente orden: Fit, recetasFit, Recetas, FutbolArg, PeriodismoDep, otrosDeportistasArg"
   ]
  },
  {
   "cell_type": "code",
   "execution_count": 12,
   "id": "252636da",
   "metadata": {
    "execution": {
     "iopub.execute_input": "2021-09-19T16:02:52.649880Z",
     "iopub.status.busy": "2021-09-19T16:02:52.649207Z",
     "iopub.status.idle": "2021-09-19T16:02:52.693982Z",
     "shell.execute_reply": "2021-09-19T16:02:52.694553Z"
    }
   },
   "outputs": [
    {
     "name": "stdout",
     "output_type": "stream",
     "text": [
      "(42470, 17)\n"
     ]
    },
    {
     "data": {
      "text/html": [
       "<div>\n",
       "<style scoped>\n",
       "    .dataframe tbody tr th:only-of-type {\n",
       "        vertical-align: middle;\n",
       "    }\n",
       "\n",
       "    .dataframe tbody tr th {\n",
       "        vertical-align: top;\n",
       "    }\n",
       "\n",
       "    .dataframe thead th {\n",
       "        text-align: right;\n",
       "    }\n",
       "</style>\n",
       "<table border=\"1\" class=\"dataframe\">\n",
       "  <thead>\n",
       "    <tr style=\"text-align: right;\">\n",
       "      <th></th>\n",
       "      <th>Account</th>\n",
       "      <th>User Name</th>\n",
       "      <th>Followers at Posting</th>\n",
       "      <th>Created</th>\n",
       "      <th>Type</th>\n",
       "      <th>Likes</th>\n",
       "      <th>Comments</th>\n",
       "      <th>Views</th>\n",
       "      <th>URL</th>\n",
       "      <th>Link</th>\n",
       "      <th>Photo</th>\n",
       "      <th>Title</th>\n",
       "      <th>Description</th>\n",
       "      <th>Image Text</th>\n",
       "      <th>Sponsor Id</th>\n",
       "      <th>Sponsor Name</th>\n",
       "      <th>Overperforming Score</th>\n",
       "    </tr>\n",
       "  </thead>\n",
       "  <tbody>\n",
       "    <tr>\n",
       "      <th>0</th>\n",
       "      <td>RECETAS SALUDABLES | NUTRICION</td>\n",
       "      <td>caloria.fit</td>\n",
       "      <td>660230.0</td>\n",
       "      <td>2020-11-24 08:10:39 EST</td>\n",
       "      <td>Photo</td>\n",
       "      <td>1292</td>\n",
       "      <td>31</td>\n",
       "      <td>0</td>\n",
       "      <td>https://www.instagram.com/p/CH-YUcyHztq/</td>\n",
       "      <td>https://www.instagram.com/p/CH-YUcyHztq/</td>\n",
       "      <td>https://scontent-sea1-1.cdninstagram.com/v/t51...</td>\n",
       "      <td>NaN</td>\n",
       "      <td>🥲🥲🥲</td>\n",
       "      <td>Cuando vas al gimnasio, pero la cara no mejora...</td>\n",
       "      <td>NaN</td>\n",
       "      <td>NaN</td>\n",
       "      <td>1.18</td>\n",
       "    </tr>\n",
       "    <tr>\n",
       "      <th>1</th>\n",
       "      <td>Federico Galassi</td>\n",
       "      <td>feder.gala</td>\n",
       "      <td>23392.0</td>\n",
       "      <td>2020-11-24 08:10:31 EST</td>\n",
       "      <td>Album</td>\n",
       "      <td>52</td>\n",
       "      <td>8</td>\n",
       "      <td>0</td>\n",
       "      <td>https://www.instagram.com/p/CH-YTh0DuDM/</td>\n",
       "      <td>https://www.instagram.com/p/CH-YTh0DuDM/</td>\n",
       "      <td>https://scontent-sea1-1.cdninstagram.com/v/t51...</td>\n",
       "      <td>NaN</td>\n",
       "      <td>LA PARADOJA DE LA DIETA CETOGENICA\\n.\\nMuchas ...</td>\n",
       "      <td>NaN</td>\n",
       "      <td>NaN</td>\n",
       "      <td>NaN</td>\n",
       "      <td>4.29</td>\n",
       "    </tr>\n",
       "    <tr>\n",
       "      <th>2</th>\n",
       "      <td>SomosFit</td>\n",
       "      <td>somosfit</td>\n",
       "      <td>NaN</td>\n",
       "      <td>2020-11-24 06:37:06 EST</td>\n",
       "      <td>Photo</td>\n",
       "      <td>361</td>\n",
       "      <td>8</td>\n",
       "      <td>0</td>\n",
       "      <td>https://www.instagram.com/p/CH-Nm64MXy8/</td>\n",
       "      <td>https://www.instagram.com/p/CH-Nm64MXy8/</td>\n",
       "      <td>https://scontent-sea1-1.cdninstagram.com/v/t51...</td>\n",
       "      <td>NaN</td>\n",
       "      <td>🙌🏻NO JUZGUES DECISIONES AJENAS🙌🏻 detrás de ca...</td>\n",
       "      <td>Somos NO JUZGUES decisiones ajenas \"¿ESTÁS HAC...</td>\n",
       "      <td>NaN</td>\n",
       "      <td>NaN</td>\n",
       "      <td>1.31</td>\n",
       "    </tr>\n",
       "    <tr>\n",
       "      <th>3</th>\n",
       "      <td>RECETAS SALUDABLES | NUTRICION</td>\n",
       "      <td>caloria.fit</td>\n",
       "      <td>660230.0</td>\n",
       "      <td>2020-11-23 20:05:10 EST</td>\n",
       "      <td>Photo</td>\n",
       "      <td>3095</td>\n",
       "      <td>25</td>\n",
       "      <td>0</td>\n",
       "      <td>https://www.instagram.com/p/CH9FS3VnaL-/</td>\n",
       "      <td>https://www.instagram.com/p/CH9FS3VnaL-/</td>\n",
       "      <td>https://scontent-sea1-1.cdninstagram.com/v/t51...</td>\n",
       "      <td>NaN</td>\n",
       "      <td>No existe el camino corto, cambia tu estilo de...</td>\n",
       "      <td>Alex Fernandez @vlexfit No existe ninguna diet...</td>\n",
       "      <td>NaN</td>\n",
       "      <td>NaN</td>\n",
       "      <td>-1.6</td>\n",
       "    </tr>\n",
       "    <tr>\n",
       "      <th>4</th>\n",
       "      <td>Recetas | Ani y Sara</td>\n",
       "      <td>fit_happy_sisters</td>\n",
       "      <td>483667.0</td>\n",
       "      <td>2020-11-23 16:11:45 EST</td>\n",
       "      <td>Album</td>\n",
       "      <td>3376</td>\n",
       "      <td>78</td>\n",
       "      <td>0</td>\n",
       "      <td>https://www.instagram.com/p/CH8qlQ8ljz2/</td>\n",
       "      <td>https://www.instagram.com/p/CH8qlQ8ljz2/</td>\n",
       "      <td>https://scontent-sea1-1.cdninstagram.com/v/t51...</td>\n",
       "      <td>NaN</td>\n",
       "      <td>🍎 VEGAN APPLE BREAD ¡fácil y delicioso! Toca d...</td>\n",
       "      <td>NaN</td>\n",
       "      <td>NaN</td>\n",
       "      <td>NaN</td>\n",
       "      <td>-1.27</td>\n",
       "    </tr>\n",
       "  </tbody>\n",
       "</table>\n",
       "</div>"
      ],
      "text/plain": [
       "                          Account          User Name  Followers at Posting  \\\n",
       "0  RECETAS SALUDABLES | NUTRICION        caloria.fit              660230.0   \n",
       "1                Federico Galassi         feder.gala               23392.0   \n",
       "2                        SomosFit           somosfit                   NaN   \n",
       "3  RECETAS SALUDABLES | NUTRICION        caloria.fit              660230.0   \n",
       "4            Recetas | Ani y Sara  fit_happy_sisters              483667.0   \n",
       "\n",
       "                   Created   Type  Likes  Comments  Views  \\\n",
       "0  2020-11-24 08:10:39 EST  Photo   1292        31      0   \n",
       "1  2020-11-24 08:10:31 EST  Album     52         8      0   \n",
       "2  2020-11-24 06:37:06 EST  Photo    361         8      0   \n",
       "3  2020-11-23 20:05:10 EST  Photo   3095        25      0   \n",
       "4  2020-11-23 16:11:45 EST  Album   3376        78      0   \n",
       "\n",
       "                                        URL  \\\n",
       "0  https://www.instagram.com/p/CH-YUcyHztq/   \n",
       "1  https://www.instagram.com/p/CH-YTh0DuDM/   \n",
       "2  https://www.instagram.com/p/CH-Nm64MXy8/   \n",
       "3  https://www.instagram.com/p/CH9FS3VnaL-/   \n",
       "4  https://www.instagram.com/p/CH8qlQ8ljz2/   \n",
       "\n",
       "                                       Link  \\\n",
       "0  https://www.instagram.com/p/CH-YUcyHztq/   \n",
       "1  https://www.instagram.com/p/CH-YTh0DuDM/   \n",
       "2  https://www.instagram.com/p/CH-Nm64MXy8/   \n",
       "3  https://www.instagram.com/p/CH9FS3VnaL-/   \n",
       "4  https://www.instagram.com/p/CH8qlQ8ljz2/   \n",
       "\n",
       "                                               Photo Title  \\\n",
       "0  https://scontent-sea1-1.cdninstagram.com/v/t51...   NaN   \n",
       "1  https://scontent-sea1-1.cdninstagram.com/v/t51...   NaN   \n",
       "2  https://scontent-sea1-1.cdninstagram.com/v/t51...   NaN   \n",
       "3  https://scontent-sea1-1.cdninstagram.com/v/t51...   NaN   \n",
       "4  https://scontent-sea1-1.cdninstagram.com/v/t51...   NaN   \n",
       "\n",
       "                                         Description  \\\n",
       "0                                                🥲🥲🥲   \n",
       "1  LA PARADOJA DE LA DIETA CETOGENICA\\n.\\nMuchas ...   \n",
       "2  🙌🏻NO JUZGUES DECISIONES AJENAS🙌🏻 detrás de ca...   \n",
       "3  No existe el camino corto, cambia tu estilo de...   \n",
       "4  🍎 VEGAN APPLE BREAD ¡fácil y delicioso! Toca d...   \n",
       "\n",
       "                                          Image Text  Sponsor Id Sponsor Name  \\\n",
       "0  Cuando vas al gimnasio, pero la cara no mejora...         NaN          NaN   \n",
       "1                                                NaN         NaN          NaN   \n",
       "2  Somos NO JUZGUES decisiones ajenas \"¿ESTÁS HAC...         NaN          NaN   \n",
       "3  Alex Fernandez @vlexfit No existe ninguna diet...         NaN          NaN   \n",
       "4                                                NaN         NaN          NaN   \n",
       "\n",
       "  Overperforming Score  \n",
       "0                 1.18  \n",
       "1                 4.29  \n",
       "2                 1.31  \n",
       "3                 -1.6  \n",
       "4                -1.27  "
      ]
     },
     "execution_count": 12,
     "metadata": {},
     "output_type": "execute_result"
    }
   ],
   "source": [
    "\n",
    "data = pd.concat(\n",
    "    [\n",
    "        dataFit,\n",
    "        dataRecetasFit,\n",
    "        dataRecetas,\n",
    "        dataJugadoresArg,\n",
    "        dataPeriodistmoDep,\n",
    "        dataotrosDeportistas,\n",
    "    ]\n",
    ")\n",
    "\n",
    "print(data.shape)\n",
    "data.head()"
   ]
  },
  {
   "cell_type": "markdown",
   "id": "439c66eb",
   "metadata": {},
   "source": [
    "Ahora agruparemos por cuenta todos los posts, concatenando todos los textos de los posts por cada usuario."
   ]
  },
  {
   "cell_type": "code",
   "execution_count": 13,
   "id": "c7883037",
   "metadata": {
    "execution": {
     "iopub.execute_input": "2021-09-19T16:02:52.707094Z",
     "iopub.status.busy": "2021-09-19T16:02:52.706483Z",
     "iopub.status.idle": "2021-09-19T16:02:54.929380Z",
     "shell.execute_reply": "2021-09-19T16:02:54.928859Z"
    }
   },
   "outputs": [
    {
     "data": {
      "text/html": [
       "<div>\n",
       "<style scoped>\n",
       "    .dataframe tbody tr th:only-of-type {\n",
       "        vertical-align: middle;\n",
       "    }\n",
       "\n",
       "    .dataframe tbody tr th {\n",
       "        vertical-align: top;\n",
       "    }\n",
       "\n",
       "    .dataframe thead th {\n",
       "        text-align: right;\n",
       "    }\n",
       "</style>\n",
       "<table border=\"1\" class=\"dataframe\">\n",
       "  <thead>\n",
       "    <tr style=\"text-align: right;\">\n",
       "      <th></th>\n",
       "      <th>User_Name</th>\n",
       "      <th>numberOfPosts</th>\n",
       "      <th>Description</th>\n",
       "      <th>ImageText</th>\n",
       "      <th>Titles</th>\n",
       "      <th>AllText</th>\n",
       "      <th>Likes</th>\n",
       "      <th>mean_Likes</th>\n",
       "      <th>Comments</th>\n",
       "      <th>mean_Comments</th>\n",
       "    </tr>\n",
       "  </thead>\n",
       "  <tbody>\n",
       "    <tr>\n",
       "      <th>0</th>\n",
       "      <td>caloria.fit</td>\n",
       "      <td>774</td>\n",
       "      <td>🥲🥲🥲. No existe el camino corto, cambia tu esti...</td>\n",
       "      <td>Cuando vas al gimnasio, pero la cara no mejora...</td>\n",
       "      <td></td>\n",
       "      <td>🥲🥲🥲. No existe el camino corto, cambia tu esti...</td>\n",
       "      <td>4848536</td>\n",
       "      <td>6264.258398</td>\n",
       "      <td>107966</td>\n",
       "      <td>139.490956</td>\n",
       "    </tr>\n",
       "    <tr>\n",
       "      <th>1</th>\n",
       "      <td>feder.gala</td>\n",
       "      <td>97</td>\n",
       "      <td>LA PARADOJA DE LA DIETA CETOGENICA\\n.\\nMuchas ...</td>\n",
       "      <td>QUE DICE LA CIENCIA SOBRE EL USO DE ACEITE DE ...</td>\n",
       "      <td>¿SE PUEDE GANAR MUSCULO HACIENDO AYUNOS?. ALIM...</td>\n",
       "      <td>LA PARADOJA DE LA DIETA CETOGENICA\\n.\\nMuchas ...</td>\n",
       "      <td>44324</td>\n",
       "      <td>456.948454</td>\n",
       "      <td>2561</td>\n",
       "      <td>26.402062</td>\n",
       "    </tr>\n",
       "    <tr>\n",
       "      <th>2</th>\n",
       "      <td>somosfit</td>\n",
       "      <td>523</td>\n",
       "      <td>🙌🏻NO JUZGUES DECISIONES AJENAS🙌🏻 detrás de ca...</td>\n",
       "      <td>Somos NO JUZGUES decisiones ajenas \"¿ESTÁS HAC...</td>\n",
       "      <td></td>\n",
       "      <td>🙌🏻NO JUZGUES DECISIONES AJENAS🙌🏻 detrás de ca...</td>\n",
       "      <td>355606</td>\n",
       "      <td>679.934990</td>\n",
       "      <td>10244</td>\n",
       "      <td>19.586998</td>\n",
       "    </tr>\n",
       "    <tr>\n",
       "      <th>3</th>\n",
       "      <td>fit_happy_sisters</td>\n",
       "      <td>225</td>\n",
       "      <td>🍎 VEGAN APPLE BREAD ¡fácil y delicioso! Toca d...</td>\n",
       "      <td>¡VUELVE SENTIRTE BIEN YA! PLAN HEALTHY 15 DÍAS...</td>\n",
       "      <td>PLAN HEALTHY 15 DÍAS. 🍕🍕Pizza SIN HARINA, SIN ...</td>\n",
       "      <td>🍎 VEGAN APPLE BREAD ¡fácil y delicioso! Toca d...</td>\n",
       "      <td>1212243</td>\n",
       "      <td>5387.746667</td>\n",
       "      <td>130725</td>\n",
       "      <td>581.000000</td>\n",
       "    </tr>\n",
       "    <tr>\n",
       "      <th>4</th>\n",
       "      <td>nutricion.ag</td>\n",
       "      <td>648</td>\n",
       "      <td>💭Siempre estuvo “de moda” el hacer dieta. O má...</td>\n",
       "      <td>Las dietas restrictivas aumentan la Ghrelina. ...</td>\n",
       "      <td>❌Productos milagro y publicidad engañosa❌. 💌Ca...</td>\n",
       "      <td>💭Siempre estuvo “de moda” el hacer dieta. O má...</td>\n",
       "      <td>2387238</td>\n",
       "      <td>3684.009259</td>\n",
       "      <td>119675</td>\n",
       "      <td>184.683642</td>\n",
       "    </tr>\n",
       "  </tbody>\n",
       "</table>\n",
       "</div>"
      ],
      "text/plain": [
       "           User_Name  numberOfPosts  \\\n",
       "0        caloria.fit            774   \n",
       "1         feder.gala             97   \n",
       "2           somosfit            523   \n",
       "3  fit_happy_sisters            225   \n",
       "4       nutricion.ag            648   \n",
       "\n",
       "                                         Description  \\\n",
       "0  🥲🥲🥲. No existe el camino corto, cambia tu esti...   \n",
       "1  LA PARADOJA DE LA DIETA CETOGENICA\\n.\\nMuchas ...   \n",
       "2  🙌🏻NO JUZGUES DECISIONES AJENAS🙌🏻 detrás de ca...   \n",
       "3  🍎 VEGAN APPLE BREAD ¡fácil y delicioso! Toca d...   \n",
       "4  💭Siempre estuvo “de moda” el hacer dieta. O má...   \n",
       "\n",
       "                                           ImageText  \\\n",
       "0  Cuando vas al gimnasio, pero la cara no mejora...   \n",
       "1  QUE DICE LA CIENCIA SOBRE EL USO DE ACEITE DE ...   \n",
       "2  Somos NO JUZGUES decisiones ajenas \"¿ESTÁS HAC...   \n",
       "3  ¡VUELVE SENTIRTE BIEN YA! PLAN HEALTHY 15 DÍAS...   \n",
       "4  Las dietas restrictivas aumentan la Ghrelina. ...   \n",
       "\n",
       "                                              Titles  \\\n",
       "0                                                      \n",
       "1  ¿SE PUEDE GANAR MUSCULO HACIENDO AYUNOS?. ALIM...   \n",
       "2                                                      \n",
       "3  PLAN HEALTHY 15 DÍAS. 🍕🍕Pizza SIN HARINA, SIN ...   \n",
       "4  ❌Productos milagro y publicidad engañosa❌. 💌Ca...   \n",
       "\n",
       "                                             AllText    Likes   mean_Likes  \\\n",
       "0  🥲🥲🥲. No existe el camino corto, cambia tu esti...  4848536  6264.258398   \n",
       "1  LA PARADOJA DE LA DIETA CETOGENICA\\n.\\nMuchas ...    44324   456.948454   \n",
       "2  🙌🏻NO JUZGUES DECISIONES AJENAS🙌🏻 detrás de ca...   355606   679.934990   \n",
       "3  🍎 VEGAN APPLE BREAD ¡fácil y delicioso! Toca d...  1212243  5387.746667   \n",
       "4  💭Siempre estuvo “de moda” el hacer dieta. O má...  2387238  3684.009259   \n",
       "\n",
       "   Comments  mean_Comments  \n",
       "0    107966     139.490956  \n",
       "1      2561      26.402062  \n",
       "2     10244      19.586998  \n",
       "3    130725     581.000000  \n",
       "4    119675     184.683642  "
      ]
     },
     "execution_count": 13,
     "metadata": {},
     "output_type": "execute_result"
    }
   ],
   "source": [
    "usuarios = pd.DataFrame()\n",
    "usuarios[\"User_Name\"] = data[\"User Name\"].unique()\n",
    "usuarios[\"numberOfPosts\"] = [\n",
    "    data[\"User Name\"].value_counts()[user] for user in usuarios[\"User_Name\"]\n",
    "]\n",
    "usuarios[\"Description\"] = [\n",
    "    data[data[\"User Name\"] == user].Description.str.cat(sep=\". \")\n",
    "    for user in usuarios[\"User_Name\"]\n",
    "]\n",
    "usuarios[\"ImageText\"] = [\n",
    "    data[data[\"User Name\"] == user][\"Image Text\"].str.cat(sep=\". \")\n",
    "    for user in usuarios[\"User_Name\"]\n",
    "]  # No anda tan bien\n",
    "usuarios[\"Titles\"] = [\n",
    "    data[data[\"User Name\"] == user].Title.str.cat(sep=\". \")\n",
    "    for user in usuarios[\"User_Name\"]\n",
    "]\n",
    "usuarios[\"AllText\"] = (\n",
    "    usuarios[\"Description\"] + usuarios[\"Titles\"] + usuarios[\"ImageText\"]\n",
    ")\n",
    "usuarios[\"Likes\"] = [\n",
    "    np.sum(data[data[\"User Name\"] == user].Likes) for user in usuarios[\"User_Name\"]\n",
    "]\n",
    "usuarios[\"mean_Likes\"] = [\n",
    "    np.mean(data[data[\"User Name\"] == user].Likes) for user in usuarios[\"User_Name\"]\n",
    "]\n",
    "usuarios[\"Comments\"] = [\n",
    "    np.sum(data[data[\"User Name\"] == user].Comments) for user in usuarios[\"User_Name\"]\n",
    "]\n",
    "usuarios[\"mean_Comments\"] = [\n",
    "    np.mean(data[data[\"User Name\"] == user].Comments) for user in usuarios[\"User_Name\"]\n",
    "]\n",
    "\n",
    "usuarios.head()"
   ]
  },
  {
   "cell_type": "code",
   "execution_count": 14,
   "id": "3211b6fa",
   "metadata": {
    "execution": {
     "iopub.execute_input": "2021-09-19T16:02:54.934482Z",
     "iopub.status.busy": "2021-09-19T16:02:54.933885Z",
     "iopub.status.idle": "2021-09-19T16:02:54.947623Z",
     "shell.execute_reply": "2021-09-19T16:02:54.948220Z"
    }
   },
   "outputs": [
    {
     "data": {
      "text/html": [
       "<div>\n",
       "<style scoped>\n",
       "    .dataframe tbody tr th:only-of-type {\n",
       "        vertical-align: middle;\n",
       "    }\n",
       "\n",
       "    .dataframe tbody tr th {\n",
       "        vertical-align: top;\n",
       "    }\n",
       "\n",
       "    .dataframe thead th {\n",
       "        text-align: right;\n",
       "    }\n",
       "</style>\n",
       "<table border=\"1\" class=\"dataframe\">\n",
       "  <thead>\n",
       "    <tr style=\"text-align: right;\">\n",
       "      <th></th>\n",
       "      <th>User_Name</th>\n",
       "      <th>numberOfPosts</th>\n",
       "      <th>Description</th>\n",
       "      <th>ImageText</th>\n",
       "      <th>Titles</th>\n",
       "      <th>AllText</th>\n",
       "      <th>Likes</th>\n",
       "      <th>mean_Likes</th>\n",
       "      <th>Comments</th>\n",
       "      <th>mean_Comments</th>\n",
       "    </tr>\n",
       "  </thead>\n",
       "  <tbody>\n",
       "    <tr>\n",
       "      <th>61</th>\n",
       "      <td>sponzinibbiomma</td>\n",
       "      <td>111</td>\n",
       "      <td>Gracias por acompañarnos.... Gracias por acomp...</td>\n",
       "      <td>7 UFC ufcespanol. UFC. WITHIN. TOP AMERICAN TE...</td>\n",
       "      <td>🔥UFC 255🔥. 🔥UFC 255🔥. 🔥UFC 255🔥. Que  noche 🔥🔥...</td>\n",
       "      <td>Gracias por acompañarnos.... Gracias por acomp...</td>\n",
       "      <td>566792</td>\n",
       "      <td>5106.234234</td>\n",
       "      <td>11429</td>\n",
       "      <td>102.963964</td>\n",
       "    </tr>\n",
       "    <tr>\n",
       "      <th>62</th>\n",
       "      <td>lucasalario</td>\n",
       "      <td>63</td>\n",
       "      <td>Un partido complicado hasta el final. Tres pun...</td>\n",
       "      <td>JAKO Barmen</td>\n",
       "      <td></td>\n",
       "      <td>Un partido complicado hasta el final. Tres pun...</td>\n",
       "      <td>2951684</td>\n",
       "      <td>46852.126984</td>\n",
       "      <td>22870</td>\n",
       "      <td>363.015873</td>\n",
       "    </tr>\n",
       "    <tr>\n",
       "      <th>63</th>\n",
       "      <td>dieschwartzman</td>\n",
       "      <td>127</td>\n",
       "      <td>Objetivos cumplidos y sueños cumplidos de juga...</td>\n",
       "      <td>sopen. 13:26 &lt; 29285840241 Mensaje de texto ho...</td>\n",
       "      <td>Ultima practica en Bahamas. Mañana rumbo al @u...</td>\n",
       "      <td>Objetivos cumplidos y sueños cumplidos de juga...</td>\n",
       "      <td>4024410</td>\n",
       "      <td>31688.267717</td>\n",
       "      <td>47067</td>\n",
       "      <td>370.606299</td>\n",
       "    </tr>\n",
       "    <tr>\n",
       "      <th>64</th>\n",
       "      <td>delpotrojuan</td>\n",
       "      <td>13</td>\n",
       "      <td>Gracias por los hermosos mensajes de cumpleaño...</td>\n",
       "      <td>Allianz 278</td>\n",
       "      <td>Rehabilitación rodilla</td>\n",
       "      <td>Gracias por los hermosos mensajes de cumpleaño...</td>\n",
       "      <td>1368533</td>\n",
       "      <td>105271.769231</td>\n",
       "      <td>26749</td>\n",
       "      <td>2057.615385</td>\n",
       "    </tr>\n",
       "    <tr>\n",
       "      <th>65</th>\n",
       "      <td>laurogerman</td>\n",
       "      <td>9</td>\n",
       "      <td>Nada puede detener lo que podemos hacer juntos...</td>\n",
       "      <td>Allianz 278. tu primer hazaña allélica Junto a...</td>\n",
       "      <td>El #equipoArg les dice gracias!. #PlayForTheWorld</td>\n",
       "      <td>Nada puede detener lo que podemos hacer juntos...</td>\n",
       "      <td>6849</td>\n",
       "      <td>761.000000</td>\n",
       "      <td>230</td>\n",
       "      <td>25.555556</td>\n",
       "    </tr>\n",
       "  </tbody>\n",
       "</table>\n",
       "</div>"
      ],
      "text/plain": [
       "          User_Name  numberOfPosts  \\\n",
       "61  sponzinibbiomma            111   \n",
       "62      lucasalario             63   \n",
       "63   dieschwartzman            127   \n",
       "64     delpotrojuan             13   \n",
       "65      laurogerman              9   \n",
       "\n",
       "                                          Description  \\\n",
       "61  Gracias por acompañarnos.... Gracias por acomp...   \n",
       "62  Un partido complicado hasta el final. Tres pun...   \n",
       "63  Objetivos cumplidos y sueños cumplidos de juga...   \n",
       "64  Gracias por los hermosos mensajes de cumpleaño...   \n",
       "65  Nada puede detener lo que podemos hacer juntos...   \n",
       "\n",
       "                                            ImageText  \\\n",
       "61  7 UFC ufcespanol. UFC. WITHIN. TOP AMERICAN TE...   \n",
       "62                                        JAKO Barmen   \n",
       "63  sopen. 13:26 < 29285840241 Mensaje de texto ho...   \n",
       "64                                        Allianz 278   \n",
       "65  Allianz 278. tu primer hazaña allélica Junto a...   \n",
       "\n",
       "                                               Titles  \\\n",
       "61  🔥UFC 255🔥. 🔥UFC 255🔥. 🔥UFC 255🔥. Que  noche 🔥🔥...   \n",
       "62                                                      \n",
       "63  Ultima practica en Bahamas. Mañana rumbo al @u...   \n",
       "64                             Rehabilitación rodilla   \n",
       "65  El #equipoArg les dice gracias!. #PlayForTheWorld   \n",
       "\n",
       "                                              AllText    Likes     mean_Likes  \\\n",
       "61  Gracias por acompañarnos.... Gracias por acomp...   566792    5106.234234   \n",
       "62  Un partido complicado hasta el final. Tres pun...  2951684   46852.126984   \n",
       "63  Objetivos cumplidos y sueños cumplidos de juga...  4024410   31688.267717   \n",
       "64  Gracias por los hermosos mensajes de cumpleaño...  1368533  105271.769231   \n",
       "65  Nada puede detener lo que podemos hacer juntos...     6849     761.000000   \n",
       "\n",
       "    Comments  mean_Comments  \n",
       "61     11429     102.963964  \n",
       "62     22870     363.015873  \n",
       "63     47067     370.606299  \n",
       "64     26749    2057.615385  \n",
       "65       230      25.555556  "
      ]
     },
     "execution_count": 14,
     "metadata": {},
     "output_type": "execute_result"
    }
   ],
   "source": [
    "usuarios.tail()"
   ]
  },
  {
   "cell_type": "markdown",
   "id": "b07d5e2b",
   "metadata": {},
   "source": [
    "Veamos cuantos usuarios obtengo"
   ]
  },
  {
   "cell_type": "code",
   "execution_count": 15,
   "id": "86409556",
   "metadata": {
    "execution": {
     "iopub.execute_input": "2021-09-19T16:02:54.952805Z",
     "iopub.status.busy": "2021-09-19T16:02:54.952141Z",
     "iopub.status.idle": "2021-09-19T16:02:54.954885Z",
     "shell.execute_reply": "2021-09-19T16:02:54.955380Z"
    }
   },
   "outputs": [
    {
     "data": {
      "text/plain": [
       "(66, 10)"
      ]
     },
     "execution_count": 15,
     "metadata": {},
     "output_type": "execute_result"
    }
   ],
   "source": [
    "usuarios.shape"
   ]
  },
  {
   "cell_type": "markdown",
   "id": "77adf232",
   "metadata": {},
   "source": [
    "Veamos cual es el mínimo y máximo de posts por usuario"
   ]
  },
  {
   "cell_type": "code",
   "execution_count": 16,
   "id": "0fcaaa63",
   "metadata": {
    "execution": {
     "iopub.execute_input": "2021-09-19T16:02:54.960431Z",
     "iopub.status.busy": "2021-09-19T16:02:54.959796Z",
     "iopub.status.idle": "2021-09-19T16:02:54.962900Z",
     "shell.execute_reply": "2021-09-19T16:02:54.962404Z"
    },
    "lines_to_next_cell": 2
   },
   "outputs": [
    {
     "name": "stdout",
     "output_type": "stream",
     "text": [
      "9 14156\n"
     ]
    }
   ],
   "source": [
    "print(usuarios.numberOfPosts.min(), usuarios.numberOfPosts.max())"
   ]
  },
  {
   "cell_type": "markdown",
   "id": "3c0da3e5",
   "metadata": {},
   "source": [
    "Seteo 10 posts como mínimo para tener un mínimo de información por cuenta"
   ]
  },
  {
   "cell_type": "code",
   "execution_count": 17,
   "id": "0efb0fb9",
   "metadata": {
    "execution": {
     "iopub.execute_input": "2021-09-19T16:02:54.966903Z",
     "iopub.status.busy": "2021-09-19T16:02:54.966300Z",
     "iopub.status.idle": "2021-09-19T16:02:54.968359Z",
     "shell.execute_reply": "2021-09-19T16:02:54.968859Z"
    }
   },
   "outputs": [],
   "source": [
    "numberOfPosts_minimo = 10"
   ]
  },
  {
   "cell_type": "code",
   "execution_count": 18,
   "id": "090b1167",
   "metadata": {
    "execution": {
     "iopub.execute_input": "2021-09-19T16:02:54.974461Z",
     "iopub.status.busy": "2021-09-19T16:02:54.972943Z",
     "iopub.status.idle": "2021-09-19T16:02:54.977242Z",
     "shell.execute_reply": "2021-09-19T16:02:54.977747Z"
    }
   },
   "outputs": [
    {
     "name": "stdout",
     "output_type": "stream",
     "text": [
      "66 65\n"
     ]
    }
   ],
   "source": [
    "print(len(usuarios.numberOfPosts), sum(usuarios.numberOfPosts > numberOfPosts_minimo))"
   ]
  },
  {
   "cell_type": "code",
   "execution_count": 19,
   "id": "11151aa8",
   "metadata": {
    "execution": {
     "iopub.execute_input": "2021-09-19T16:02:54.985422Z",
     "iopub.status.busy": "2021-09-19T16:02:54.984000Z",
     "iopub.status.idle": "2021-09-19T16:02:54.986185Z",
     "shell.execute_reply": "2021-09-19T16:02:54.987180Z"
    }
   },
   "outputs": [],
   "source": [
    "usuarios_mini = usuarios[usuarios.numberOfPosts > numberOfPosts_minimo]"
   ]
  },
  {
   "cell_type": "markdown",
   "id": "753f0ae7",
   "metadata": {},
   "source": [
    "## TF - IDF"
   ]
  },
  {
   "cell_type": "code",
   "execution_count": 20,
   "id": "31030b96",
   "metadata": {
    "execution": {
     "iopub.execute_input": "2021-09-19T16:02:54.992714Z",
     "iopub.status.busy": "2021-09-19T16:02:54.991281Z",
     "iopub.status.idle": "2021-09-19T16:02:54.994468Z",
     "shell.execute_reply": "2021-09-19T16:02:54.994987Z"
    }
   },
   "outputs": [],
   "source": [
    "import nltk"
   ]
  },
  {
   "cell_type": "code",
   "execution_count": 21,
   "id": "c5ab7910",
   "metadata": {
    "execution": {
     "iopub.execute_input": "2021-09-19T16:02:54.999785Z",
     "iopub.status.busy": "2021-09-19T16:02:54.999172Z",
     "iopub.status.idle": "2021-09-19T16:02:55.141071Z",
     "shell.execute_reply": "2021-09-19T16:02:55.141609Z"
    }
   },
   "outputs": [
    {
     "name": "stderr",
     "output_type": "stream",
     "text": [
      "[nltk_data] Downloading package stopwords to /home/runner/nltk_data...\n",
      "[nltk_data]   Unzipping corpora/stopwords.zip.\n"
     ]
    },
    {
     "data": {
      "text/plain": [
       "True"
      ]
     },
     "execution_count": 21,
     "metadata": {},
     "output_type": "execute_result"
    }
   ],
   "source": [
    "nltk.download('stopwords')"
   ]
  },
  {
   "cell_type": "code",
   "execution_count": 22,
   "id": "3fb76131",
   "metadata": {
    "execution": {
     "iopub.execute_input": "2021-09-19T16:02:55.149555Z",
     "iopub.status.busy": "2021-09-19T16:02:55.148501Z",
     "iopub.status.idle": "2021-09-19T16:03:13.123591Z",
     "shell.execute_reply": "2021-09-19T16:03:13.123040Z"
    }
   },
   "outputs": [],
   "source": [
    "# Carga de datos\n",
    "texts = list(usuarios_mini.AllText)\n",
    "\n",
    "# Cuento los terminos\n",
    "count_vect = CountVectorizer(\n",
    "    ngram_range=(1, 3),\n",
    "    max_df=0.8,\n",
    "    min_df=0.01,\n",
    "    stop_words=stopwords.words('spanish'),\n",
    "    lowercase=True,\n",
    ")\n",
    "x_counts = count_vect.fit_transform(texts)\n",
    "\n",
    "# Genero matriz con valorizacion tf-idf\n",
    "tfidf_transformer = TfidfTransformer(norm='l2')\n",
    "x_tfidf = tfidf_transformer.fit_transform(x_counts)"
   ]
  },
  {
   "cell_type": "code",
   "execution_count": 23,
   "id": "848960c9",
   "metadata": {
    "execution": {
     "iopub.execute_input": "2021-09-19T16:03:13.128998Z",
     "iopub.status.busy": "2021-09-19T16:03:13.128391Z",
     "iopub.status.idle": "2021-09-19T16:03:13.131555Z",
     "shell.execute_reply": "2021-09-19T16:03:13.131036Z"
    }
   },
   "outputs": [
    {
     "data": {
      "text/plain": [
       "(65, 2231907)"
      ]
     },
     "execution_count": 23,
     "metadata": {},
     "output_type": "execute_result"
    }
   ],
   "source": [
    "np.shape(x_tfidf)"
   ]
  },
  {
   "cell_type": "markdown",
   "id": "b3b11403",
   "metadata": {},
   "source": [
    "## Armo la red\n",
    "\n",
    "\n",
    "Ahora creo un grafo, donde cada nodo es una cuenta y una arista los une si la similitud entre sus vectores de TF-IDF es mayor a la media + 1 desvío estándar.\n",
    "La idea es modelar mediante un grafo las conexiones \"semánticas\" de cada cuenta."
   ]
  },
  {
   "cell_type": "code",
   "execution_count": 24,
   "id": "d74c52ca",
   "metadata": {
    "execution": {
     "iopub.execute_input": "2021-09-19T16:03:13.137733Z",
     "iopub.status.busy": "2021-09-19T16:03:13.137072Z",
     "iopub.status.idle": "2021-09-19T16:03:13.444232Z",
     "shell.execute_reply": "2021-09-19T16:03:13.443669Z"
    }
   },
   "outputs": [],
   "source": [
    "import networkx as nx\n",
    "from networkx.algorithms import community\n",
    "import matplotlib.pyplot as plt\n",
    "from tqdm import tqdm\n",
    "from sklearn.metrics.pairwise import cosine_similarity"
   ]
  },
  {
   "cell_type": "markdown",
   "id": "70bbe6af",
   "metadata": {},
   "source": [
    "Creo el grafo, poniendo un nodo por cuenta (sin aristas por el momento) y agregando el atributo \"User_Name\" para después saber que nodo pertenece a que cuenta."
   ]
  },
  {
   "cell_type": "code",
   "execution_count": 25,
   "id": "682ac715",
   "metadata": {
    "execution": {
     "iopub.execute_input": "2021-09-19T16:03:13.453894Z",
     "iopub.status.busy": "2021-09-19T16:03:13.452806Z",
     "iopub.status.idle": "2021-09-19T16:03:13.455773Z",
     "shell.execute_reply": "2021-09-19T16:03:13.456294Z"
    }
   },
   "outputs": [
    {
     "data": {
      "text/plain": [
       "65"
      ]
     },
     "execution_count": 25,
     "metadata": {},
     "output_type": "execute_result"
    }
   ],
   "source": [
    "# Inicializo el grafo\n",
    "G = nx.Graph()\n",
    "G.add_nodes_from(\n",
    "    [\n",
    "        (i, {\"User_Name\": usuarios_mini.User_Name.iloc[i]})\n",
    "        for i in range(usuarios_mini.shape[0])\n",
    "    ]\n",
    ")\n",
    "len(G.nodes)"
   ]
  },
  {
   "cell_type": "markdown",
   "id": "a66fb799",
   "metadata": {},
   "source": [
    "Defino la función para calcular de forma matricial todos los pares de similitudes"
   ]
  },
  {
   "cell_type": "code",
   "execution_count": 26,
   "id": "1b0faa3f",
   "metadata": {
    "execution": {
     "iopub.execute_input": "2021-09-19T16:03:13.461914Z",
     "iopub.status.busy": "2021-09-19T16:03:13.460523Z",
     "iopub.status.idle": "2021-09-19T16:03:13.462581Z",
     "shell.execute_reply": "2021-09-19T16:03:13.463085Z"
    }
   },
   "outputs": [],
   "source": [
    "from numpy import dot\n",
    "from numpy.linalg import norm"
   ]
  },
  {
   "cell_type": "code",
   "execution_count": 27,
   "id": "b7c37196",
   "metadata": {
    "execution": {
     "iopub.execute_input": "2021-09-19T16:03:13.470395Z",
     "iopub.status.busy": "2021-09-19T16:03:13.468878Z",
     "iopub.status.idle": "2021-09-19T16:03:13.471059Z",
     "shell.execute_reply": "2021-09-19T16:03:13.471558Z"
    }
   },
   "outputs": [],
   "source": [
    "def calcular_similitudes(x_tfidf):\n",
    "    x1 = x_tfidf.toarray()\n",
    "    normx1 = np.apply_along_axis(norm, 1, x1)\n",
    "    normx2 = np.apply_along_axis(norm, 0, x1.T)\n",
    "    x2 = x1.T\n",
    "    similitudes = dot(x1, x2) / dot(\n",
    "        normx1.reshape(x1.shape[0], 1), normx2.reshape(1, x1.shape[0])\n",
    "    )\n",
    "    np.fill_diagonal(similitudes, 0)\n",
    "    return np.round(similitudes, decimals=6)"
   ]
  },
  {
   "cell_type": "code",
   "execution_count": 28,
   "id": "2b467b2d",
   "metadata": {
    "execution": {
     "iopub.execute_input": "2021-09-19T16:03:13.475418Z",
     "iopub.status.busy": "2021-09-19T16:03:13.474811Z",
     "iopub.status.idle": "2021-09-19T16:03:14.471759Z",
     "shell.execute_reply": "2021-09-19T16:03:14.472590Z"
    }
   },
   "outputs": [
    {
     "data": {
      "text/plain": [
       "array([[0.      , 0.154549, 0.172297, ..., 0.008587, 0.013889, 0.007722],\n",
       "       [0.154549, 0.      , 0.134746, ..., 0.017109, 0.020123, 0.028548],\n",
       "       [0.172297, 0.134746, 0.      , ..., 0.010187, 0.024226, 0.012469],\n",
       "       ...,\n",
       "       [0.008587, 0.017109, 0.010187, ..., 0.      , 0.0202  , 0.061024],\n",
       "       [0.013889, 0.020123, 0.024226, ..., 0.0202  , 0.      , 0.010381],\n",
       "       [0.007722, 0.028548, 0.012469, ..., 0.061024, 0.010381, 0.      ]])"
      ]
     },
     "execution_count": 28,
     "metadata": {},
     "output_type": "execute_result"
    }
   ],
   "source": [
    "similitudes = calcular_similitudes(x_tfidf)\n",
    "similitudes"
   ]
  },
  {
   "cell_type": "markdown",
   "id": "57517991",
   "metadata": {},
   "source": [
    "Defino el umbral (media + 1 desvío estándar) para establecer una arista entre los nodos y agrego todas las aristas correspondientes según este criterio."
   ]
  },
  {
   "cell_type": "code",
   "execution_count": 29,
   "id": "2bee46b3",
   "metadata": {
    "execution": {
     "iopub.execute_input": "2021-09-19T16:03:14.476400Z",
     "iopub.status.busy": "2021-09-19T16:03:14.475250Z",
     "iopub.status.idle": "2021-09-19T16:03:14.489938Z",
     "shell.execute_reply": "2021-09-19T16:03:14.490725Z"
    }
   },
   "outputs": [
    {
     "name": "stdout",
     "output_type": "stream",
     "text": [
      "treshold: 0.14936\n"
     ]
    },
    {
     "data": {
      "text/plain": [
       "266"
      ]
     },
     "execution_count": 29,
     "metadata": {},
     "output_type": "execute_result"
    }
   ],
   "source": [
    "# Agrego aristas\n",
    "treshold = similitudes.mean() + 1 * similitudes.std()\n",
    "print(\"treshold: {:.5f}\".format(treshold))\n",
    "\n",
    "edges = list(G.edges)\n",
    "G.remove_edges_from(edges)  # borro viejas, por si habia algo\n",
    "\n",
    "\n",
    "for i in range(usuarios_mini.shape[0]):\n",
    "    for j in range(usuarios_mini.shape[0]):\n",
    "        if similitudes[i, j] > treshold:\n",
    "            G.add_edge(i, j, weight=similitudes[i, j])\n",
    "len(G.edges)"
   ]
  },
  {
   "cell_type": "markdown",
   "id": "5f4f5088",
   "metadata": {},
   "source": [
    "Grafico la matriz de similitudes mediante un heatmap binario."
   ]
  },
  {
   "cell_type": "code",
   "execution_count": 30,
   "id": "8bb7810d",
   "metadata": {
    "execution": {
     "iopub.execute_input": "2021-09-19T16:03:14.494336Z",
     "iopub.status.busy": "2021-09-19T16:03:14.493246Z",
     "iopub.status.idle": "2021-09-19T16:03:14.678730Z",
     "shell.execute_reply": "2021-09-19T16:03:14.679335Z"
    }
   },
   "outputs": [
    {
     "data": {
      "image/png": "[encoded data removed]",
      "text/plain": [
       "<Figure size 432x288 with 1 Axes>"
      ]
     },
     "metadata": {
      "needs_background": "light"
     },
     "output_type": "display_data"
    }
   ],
   "source": [
    "# plot matriz similitud\n",
    "plt.imshow(similitudes > treshold)\n",
    "plt.show()"
   ]
  },
  {
   "cell_type": "markdown",
   "id": "ce8f17ba",
   "metadata": {},
   "source": [
    "## Detecta comunidades\n",
    "\n",
    "Ahora pasaré a detectar comunidades en el grafo creado. Para esto utilizó el método \"Louvain\", el cual es una técnica greedy de detección de clusters en grafos (no lo vimos en la materia)"
   ]
  },
  {
   "cell_type": "code",
   "execution_count": 31,
   "id": "9b02d531",
   "metadata": {
    "execution": {
     "iopub.execute_input": "2021-09-19T16:03:14.684456Z",
     "iopub.status.busy": "2021-09-19T16:03:14.683489Z",
     "iopub.status.idle": "2021-09-19T16:03:14.688894Z",
     "shell.execute_reply": "2021-09-19T16:03:14.688332Z"
    }
   },
   "outputs": [],
   "source": [
    "from networkx.algorithms import community\n",
    "import community as com"
   ]
  },
  {
   "cell_type": "code",
   "execution_count": 32,
   "id": "d9b4367e",
   "metadata": {
    "execution": {
     "iopub.execute_input": "2021-09-19T16:03:14.702008Z",
     "iopub.status.busy": "2021-09-19T16:03:14.701406Z",
     "iopub.status.idle": "2021-09-19T16:03:14.705760Z",
     "shell.execute_reply": "2021-09-19T16:03:14.704659Z"
    }
   },
   "outputs": [],
   "source": [
    "partition = com.best_partition(G)"
   ]
  },
  {
   "cell_type": "markdown",
   "id": "03fc69e9",
   "metadata": {},
   "source": [
    "Me fijo cuales son las 10 principales comunidades y cuantos usuarios tiene cada una"
   ]
  },
  {
   "cell_type": "code",
   "execution_count": 33,
   "id": "e4689514",
   "metadata": {
    "execution": {
     "iopub.execute_input": "2021-09-19T16:03:14.716522Z",
     "iopub.status.busy": "2021-09-19T16:03:14.715853Z",
     "iopub.status.idle": "2021-09-19T16:03:14.719857Z",
     "shell.execute_reply": "2021-09-19T16:03:14.719262Z"
    }
   },
   "outputs": [
    {
     "name": "stderr",
     "output_type": "stream",
     "text": [
      "/opt/hostedtoolcache/Python/3.7.12/x64/lib/python3.7/site-packages/ipykernel_launcher.py:4: SettingWithCopyWarning: \n",
      "A value is trying to be set on a copy of a slice from a DataFrame.\n",
      "Try using .loc[row_indexer,col_indexer] = value instead\n",
      "\n",
      "See the caveats in the documentation: https://pandas.pydata.org/pandas-docs/stable/user_guide/indexing.html#returning-a-view-versus-a-copy\n",
      "  after removing the cwd from sys.path.\n"
     ]
    },
    {
     "data": {
      "text/plain": [
       "7     14\n",
       "1     12\n",
       "19     6\n",
       "27     3\n",
       "0      2\n",
       "8      2\n",
       "12     1\n",
       "11     1\n",
       "10     1\n",
       "9      1\n",
       "Name: comunidad, dtype: int64"
      ]
     },
     "execution_count": 33,
     "metadata": {},
     "output_type": "execute_result"
    }
   ],
   "source": [
    "comunidad = []\n",
    "for i in range(usuarios_mini.shape[0]):\n",
    "    comunidad.append(partition[i])\n",
    "usuarios_mini[\"comunidad\"] = comunidad\n",
    "usuarios_mini[\"comunidad\"].value_counts().head(10)"
   ]
  },
  {
   "cell_type": "markdown",
   "id": "a32501d1",
   "metadata": {},
   "source": [
    "Veamos ahora que usuarios componen cada uno de estas comunidades (las que tienen mas de 2 usuarios)"
   ]
  },
  {
   "cell_type": "code",
   "execution_count": 34,
   "id": "e604d752",
   "metadata": {
    "execution": {
     "iopub.execute_input": "2021-09-19T16:03:14.727626Z",
     "iopub.status.busy": "2021-09-19T16:03:14.726993Z",
     "iopub.status.idle": "2021-09-19T16:03:14.736782Z",
     "shell.execute_reply": "2021-09-19T16:03:14.735838Z"
    }
   },
   "outputs": [
    {
     "data": {
      "text/plain": [
       "19             paulinacocina\n",
       "31              inutilisimas\n",
       "20             esteficolombo\n",
       "27              marubotanaok\n",
       "23            jimemonteverde\n",
       "25    arielrodriguezpalacios\n",
       "21               valuramallo\n",
       "26               deliascakes\n",
       "29               cookvanoyen\n",
       "22              cocinerosarg\n",
       "Name: User_Name, dtype: object"
      ]
     },
     "execution_count": 34,
     "metadata": {},
     "output_type": "execute_result"
    }
   ],
   "source": [
    "usuarios_mini[usuarios_mini.comunidad == 7].sort_values(\n",
    "    \"mean_Likes\", ascending=False\n",
    ").User_Name.head(10)"
   ]
  },
  {
   "cell_type": "code",
   "execution_count": 35,
   "id": "e2a19d85",
   "metadata": {
    "execution": {
     "iopub.execute_input": "2021-09-19T16:03:14.744413Z",
     "iopub.status.busy": "2021-09-19T16:03:14.743779Z",
     "iopub.status.idle": "2021-09-19T16:03:14.749565Z",
     "shell.execute_reply": "2021-09-19T16:03:14.749012Z"
    }
   },
   "outputs": [
    {
     "data": {
      "text/plain": [
       "5     nutricion.salud.arg\n",
       "15            camila.kost\n",
       "3       fit_happy_sisters\n",
       "12      thehealthyblogger\n",
       "16         being.healthyy\n",
       "14          nutri.recipes\n",
       "11              sofi.deli\n",
       "8        nutricionamiunes\n",
       "6               agusazcuy\n",
       "2                somosfit\n",
       "Name: User_Name, dtype: object"
      ]
     },
     "execution_count": 35,
     "metadata": {},
     "output_type": "execute_result"
    }
   ],
   "source": [
    "usuarios_mini[usuarios_mini.comunidad == 1].sort_values(\n",
    "    \"mean_Likes\", ascending=False\n",
    ").User_Name.head(10)"
   ]
  },
  {
   "cell_type": "code",
   "execution_count": 36,
   "id": "2c2234c9",
   "metadata": {
    "execution": {
     "iopub.execute_input": "2021-09-19T16:03:14.758809Z",
     "iopub.status.busy": "2021-09-19T16:03:14.755469Z",
     "iopub.status.idle": "2021-09-19T16:03:14.763825Z",
     "shell.execute_reply": "2021-09-19T16:03:14.763029Z"
    }
   },
   "outputs": [
    {
     "data": {
      "text/plain": [
       "45             tycsports\n",
       "47            diario.ole\n",
       "46             espnfcarg\n",
       "51            chavofucks\n",
       "49          varskysports\n",
       "48    foxsportsargentina\n",
       "Name: User_Name, dtype: object"
      ]
     },
     "execution_count": 36,
     "metadata": {},
     "output_type": "execute_result"
    }
   ],
   "source": [
    "usuarios_mini[usuarios_mini.comunidad == 19].sort_values(\n",
    "    \"mean_Likes\", ascending=False\n",
    ").User_Name.head(10)"
   ]
  },
  {
   "cell_type": "code",
   "execution_count": 37,
   "id": "a9c72753",
   "metadata": {
    "execution": {
     "iopub.execute_input": "2021-09-19T16:03:14.771417Z",
     "iopub.status.busy": "2021-09-19T16:03:14.768058Z",
     "iopub.status.idle": "2021-09-19T16:03:14.776344Z",
     "shell.execute_reply": "2021-09-19T16:03:14.777078Z"
    }
   },
   "outputs": [
    {
     "data": {
      "text/plain": [
       "64       delpotrojuan\n",
       "58        tagliafico3\n",
       "61    sponzinibbiomma\n",
       "Name: User_Name, dtype: object"
      ]
     },
     "execution_count": 37,
     "metadata": {},
     "output_type": "execute_result"
    }
   ],
   "source": [
    "usuarios_mini[usuarios_mini.comunidad == 27].sort_values(\n",
    "    \"mean_Likes\", ascending=False\n",
    ").User_Name.head(10)"
   ]
  },
  {
   "cell_type": "markdown",
   "id": "cf81b2d1",
   "metadata": {},
   "source": [
    "# Ploteo la red a ver como agrupa"
   ]
  },
  {
   "cell_type": "code",
   "execution_count": 38,
   "id": "558639a3",
   "metadata": {
    "execution": {
     "iopub.execute_input": "2021-09-19T16:03:14.786417Z",
     "iopub.status.busy": "2021-09-19T16:03:14.785771Z",
     "iopub.status.idle": "2021-09-19T16:03:14.787778Z",
     "shell.execute_reply": "2021-09-19T16:03:14.787108Z"
    }
   },
   "outputs": [],
   "source": [
    "colors = [\"b\", \"r\", \"y\", \"g\"] + [\"w\"] * 1000\n",
    "dic_colores = {}\n",
    "for i, key in enumerate(usuarios_mini[\"comunidad\"].value_counts().index):\n",
    "    dic_colores[key] = colors[i]"
   ]
  },
  {
   "cell_type": "code",
   "execution_count": 39,
   "id": "114a8545",
   "metadata": {
    "execution": {
     "iopub.execute_input": "2021-09-19T16:03:14.800795Z",
     "iopub.status.busy": "2021-09-19T16:03:14.796545Z",
     "iopub.status.idle": "2021-09-19T16:03:14.840483Z",
     "shell.execute_reply": "2021-09-19T16:03:14.841018Z"
    }
   },
   "outputs": [],
   "source": [
    "color_map = []\n",
    "for user in list(nx.get_node_attributes(G, 'User_Name').values()):\n",
    "    com = int(usuarios_mini[usuarios_mini.User_Name == user].comunidad)\n",
    "    color_map.append(dic_colores[com])"
   ]
  },
  {
   "cell_type": "code",
   "execution_count": 40,
   "id": "9c64b3ff",
   "metadata": {
    "execution": {
     "iopub.execute_input": "2021-09-19T16:03:14.853324Z",
     "iopub.status.busy": "2021-09-19T16:03:14.852638Z",
     "iopub.status.idle": "2021-09-19T16:03:15.359905Z",
     "shell.execute_reply": "2021-09-19T16:03:15.359352Z"
    }
   },
   "outputs": [
    {
     "data": {
      "image/png": "[encoded data removed]",
      "text/plain": [
       "<Figure size 576x576 with 1 Axes>"
      ]
     },
     "metadata": {},
     "output_type": "display_data"
    }
   ],
   "source": [
    "plt.figure(figsize=[8, 8])\n",
    "# pos = nx.draw_kamada_kawai(G) #draw_kamada_kawai draw_spectral draw_circular draw_spring\n",
    "pos = nx.spring_layout(G, k=0.3)\n",
    "nx.draw(G, node_color=color_map, with_labels=True, pos=pos)\n",
    "plt.show()"
   ]
  },
  {
   "cell_type": "code",
   "execution_count": 41,
   "id": "f64eab18",
   "metadata": {
    "execution": {
     "iopub.execute_input": "2021-09-19T16:03:15.364809Z",
     "iopub.status.busy": "2021-09-19T16:03:15.364158Z",
     "iopub.status.idle": "2021-09-19T16:03:15.367422Z",
     "shell.execute_reply": "2021-09-19T16:03:15.367894Z"
    }
   },
   "outputs": [
    {
     "data": {
      "text/plain": [
       "'diario.ole'"
      ]
     },
     "execution_count": 41,
     "metadata": {},
     "output_type": "execute_result"
    }
   ],
   "source": [
    "G.nodes[47]['User_Name']"
   ]
  }
 ],
 "metadata": {
  "jupytext": {
   "encoding": "# -*- coding: utf-8 -*-",
   "formats": "ipynb,py:light"
  },
  "kernelspec": {
   "display_name": "Python 3 (venv)",
   "language": "python",
   "name": "python3"
  },
  "language_info": {
   "codemirror_mode": {
    "name": "ipython",
    "version": 3
   },
   "file_extension": ".py",
   "mimetype": "text/x-python",
   "name": "python",
   "nbconvert_exporter": "python",
   "pygments_lexer": "ipython3",
   "version": "3.7.12"
  }
 },
 "nbformat": 4,
 "nbformat_minor": 5
}
