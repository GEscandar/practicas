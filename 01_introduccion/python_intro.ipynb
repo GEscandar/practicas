{
 "cells": [
  {
   "cell_type": "markdown",
   "id": "assumed-taylor",
   "metadata": {},
   "source": [
    "# Python"
   ]
  },
  {
   "cell_type": "markdown",
   "id": "democratic-incidence",
   "metadata": {
    "slideshow": {
     "slide_type": "slide"
    }
   },
   "source": [
    "## Un poco de Historia"
   ]
  },
  {
   "cell_type": "markdown",
   "id": "enabling-likelihood",
   "metadata": {
    "slideshow": {
     "slide_type": "subslide"
    }
   },
   "source": [
    "Python fue creado a finales de los años 80 por un programador holandés llamado **Guido van Rossum**,\n",
    "quien sigue siendo aún hoy el líder del desarrollo del lenguaje.\n",
    "\n",
    "(Edit julio 2018: [ya no más](https://www.mail-archive.com/python-committers@python.org/msg05628.html))"
   ]
  },
  {
   "cell_type": "markdown",
   "id": "shared-april",
   "metadata": {
    "slideshow": {
     "slide_type": "subslide"
    }
   },
   "source": [
    "El nombre del lenguaje proviene de los humoristas británicos Monty Python.\n",
    "\n",
    ">*\"I chose Python as a working title for the project, being in a slightly irreverent mood (and a big fan of Monty Python's Flying Circus).\"*"
   ]
  },
  {
   "cell_type": "markdown",
   "id": "organic-madonna",
   "metadata": {
    "slideshow": {
     "slide_type": "slide"
    }
   },
   "source": [
    "## Caracteristicas\n",
    "\n",
    "- Interpretado\n",
    "- Tipado dinamico\n",
    "- Multiparadigma\n",
    "- Alto nivel\n",
    "- Tiene un recolector de basura (no hay malloc, free, realloc, etc)"
   ]
  },
  {
   "cell_type": "markdown",
   "id": "noticed-spine",
   "metadata": {},
   "source": [
    "## ¿Cómo empezar?\n",
    "\n",
    "* Al ser un lenguaje *interpretado*, se puede ir escribiendo a medida que se ejecuta, sin necesidad de compilar de antemano! Solamente hace falta escribir `python` o `python3` en una terminal para empezar\n",
    "\n",
    "* También, permite escribir archivos y correrlos. Crear un archivo con extensión `.py` y luego correr `python miarchivo.py` en laterminal"
   ]
  },
  {
   "cell_type": "markdown",
   "id": "korean-statistics",
   "metadata": {
    "slideshow": {
     "slide_type": "slide"
    }
   },
   "source": [
    "## El Zen de Python"
   ]
  },
  {
   "cell_type": "code",
   "execution_count": 1,
   "id": "earned-salmon",
   "metadata": {
    "execution": {
     "iopub.execute_input": "2021-02-04T20:29:02.981060Z",
     "iopub.status.busy": "2021-02-04T20:29:02.980470Z",
     "iopub.status.idle": "2021-02-04T20:29:03.024418Z",
     "shell.execute_reply": "2021-02-04T20:29:03.025104Z"
    },
    "slideshow": {
     "slide_type": "slide"
    }
   },
   "outputs": [
    {
     "name": "stdout",
     "output_type": "stream",
     "text": [
      "The Zen of Python, by Tim Peters\n",
      "\n",
      "Beautiful is better than ugly.\n",
      "Explicit is better than implicit.\n",
      "Simple is better than complex.\n",
      "Complex is better than complicated.\n",
      "Flat is better than nested.\n",
      "Sparse is better than dense.\n",
      "Readability counts.\n",
      "Special cases aren't special enough to break the rules.\n",
      "Although practicality beats purity.\n",
      "Errors should never pass silently.\n",
      "Unless explicitly silenced.\n",
      "In the face of ambiguity, refuse the temptation to guess.\n",
      "There should be one-- and preferably only one --obvious way to do it.\n",
      "Although that way may not be obvious at first unless you're Dutch.\n",
      "Now is better than never.\n",
      "Although never is often better than *right* now.\n",
      "If the implementation is hard to explain, it's a bad idea.\n",
      "If the implementation is easy to explain, it may be a good idea.\n",
      "Namespaces are one honking great idea -- let's do more of those!\n"
     ]
    }
   ],
   "source": [
    "import this"
   ]
  },
  {
   "cell_type": "markdown",
   "id": "stone-operator",
   "metadata": {
    "slideshow": {
     "slide_type": "slide"
    }
   },
   "source": [
    "## Conocimientos Básicos de Python: Variables y Tipos"
   ]
  },
  {
   "cell_type": "code",
   "execution_count": 2,
   "id": "generous-blackberry",
   "metadata": {
    "execution": {
     "iopub.execute_input": "2021-02-04T20:29:03.030354Z",
     "iopub.status.busy": "2021-02-04T20:29:03.029078Z",
     "iopub.status.idle": "2021-02-04T20:29:03.032210Z",
     "shell.execute_reply": "2021-02-04T20:29:03.031723Z"
    },
    "slideshow": {
     "slide_type": "slide"
    }
   },
   "outputs": [
    {
     "name": "stdout",
     "output_type": "stream",
     "text": [
      "Hello World!\n"
     ]
    }
   ],
   "source": [
    "# Este es un comentario\n",
    "\n",
    "print(\"Hello World!\")"
   ]
  },
  {
   "cell_type": "markdown",
   "id": "considered-architect",
   "metadata": {},
   "source": [
    "Los strings en python puden escribirse tanto con comillas simples (`'`) como comillas dobles (`\"`). Normalmente vemos texto entre comillas triples para escribir _docstrings_, segun la guia de estilo de Python, el PEP8."
   ]
  },
  {
   "cell_type": "code",
   "execution_count": 3,
   "id": "personalized-inspection",
   "metadata": {
    "execution": {
     "iopub.execute_input": "2021-02-04T20:29:03.043552Z",
     "iopub.status.busy": "2021-02-04T20:29:03.042534Z",
     "iopub.status.idle": "2021-02-04T20:29:03.045898Z",
     "shell.execute_reply": "2021-02-04T20:29:03.045427Z"
    }
   },
   "outputs": [
    {
     "data": {
      "text/plain": [
       "'Esto es un docstring.\\n'"
      ]
     },
     "execution_count": 1,
     "metadata": {},
     "output_type": "execute_result"
    }
   ],
   "source": [
    "\"\"\"Esto es un docstring.\n",
    "\"\"\""
   ]
  },
  {
   "cell_type": "markdown",
   "id": "hollywood-output",
   "metadata": {},
   "source": [
    "### Declaracion de variables"
   ]
  },
  {
   "cell_type": "code",
   "execution_count": 4,
   "id": "advisory-subdivision",
   "metadata": {
    "execution": {
     "iopub.execute_input": "2021-02-04T20:29:03.050508Z",
     "iopub.status.busy": "2021-02-04T20:29:03.049685Z",
     "iopub.status.idle": "2021-02-04T20:29:03.052485Z",
     "shell.execute_reply": "2021-02-04T20:29:03.051997Z"
    }
   },
   "outputs": [
    {
     "name": "stdout",
     "output_type": "stream",
     "text": [
      "Hola\n"
     ]
    }
   ],
   "source": [
    "string = 'Hola'\n",
    "print(string)"
   ]
  },
  {
   "cell_type": "code",
   "execution_count": 5,
   "id": "greatest-illinois",
   "metadata": {
    "execution": {
     "iopub.execute_input": "2021-02-04T20:29:03.057410Z",
     "iopub.status.busy": "2021-02-04T20:29:03.056185Z",
     "iopub.status.idle": "2021-02-04T20:29:03.059262Z",
     "shell.execute_reply": "2021-02-04T20:29:03.058760Z"
    }
   },
   "outputs": [
    {
     "name": "stdout",
     "output_type": "stream",
     "text": [
      "1\n"
     ]
    }
   ],
   "source": [
    "entero = 1\n",
    "print(entero)"
   ]
  },
  {
   "cell_type": "code",
   "execution_count": 6,
   "id": "dirty-color",
   "metadata": {
    "execution": {
     "iopub.execute_input": "2021-02-04T20:29:03.064088Z",
     "iopub.status.busy": "2021-02-04T20:29:03.062876Z",
     "iopub.status.idle": "2021-02-04T20:29:03.065910Z",
     "shell.execute_reply": "2021-02-04T20:29:03.065402Z"
    }
   },
   "outputs": [
    {
     "name": "stdout",
     "output_type": "stream",
     "text": [
      "1.0\n"
     ]
    }
   ],
   "source": [
    "flotante = 1.0\n",
    "print(flotante)"
   ]
  },
  {
   "cell_type": "code",
   "execution_count": 7,
   "id": "geological-duration",
   "metadata": {
    "execution": {
     "iopub.execute_input": "2021-02-04T20:29:03.070387Z",
     "iopub.status.busy": "2021-02-04T20:29:03.069566Z",
     "iopub.status.idle": "2021-02-04T20:29:03.072003Z",
     "shell.execute_reply": "2021-02-04T20:29:03.072456Z"
    }
   },
   "outputs": [
    {
     "name": "stdout",
     "output_type": "stream",
     "text": [
      "(1, 1.0)\n"
     ]
    }
   ],
   "source": [
    "tupla = (entero, flotante)\n",
    "print(tupla)"
   ]
  },
  {
   "cell_type": "code",
   "execution_count": 8,
   "id": "falling-travel",
   "metadata": {
    "execution": {
     "iopub.execute_input": "2021-02-04T20:29:03.076300Z",
     "iopub.status.busy": "2021-02-04T20:29:03.075749Z",
     "iopub.status.idle": "2021-02-04T20:29:03.077566Z",
     "shell.execute_reply": "2021-02-04T20:29:03.078102Z"
    }
   },
   "outputs": [
    {
     "name": "stdout",
     "output_type": "stream",
     "text": [
      "(1, 1.0, 'Hola')\n"
     ]
    }
   ],
   "source": [
    "nupla = (entero, flotante, string)\n",
    "print(nupla)"
   ]
  },
  {
   "cell_type": "code",
   "execution_count": 9,
   "id": "oriental-juvenile",
   "metadata": {
    "execution": {
     "iopub.execute_input": "2021-02-04T20:29:03.081935Z",
     "iopub.status.busy": "2021-02-04T20:29:03.081386Z",
     "iopub.status.idle": "2021-02-04T20:29:03.083236Z",
     "shell.execute_reply": "2021-02-04T20:29:03.083769Z"
    }
   },
   "outputs": [
    {
     "name": "stdout",
     "output_type": "stream",
     "text": [
      "[1, 1.0, 'Hola']\n"
     ]
    }
   ],
   "source": [
    "lista = [entero, flotante, string]\n",
    "print(lista)"
   ]
  },
  {
   "cell_type": "code",
   "execution_count": 10,
   "id": "strategic-audio",
   "metadata": {
    "execution": {
     "iopub.execute_input": "2021-02-04T20:29:03.087703Z",
     "iopub.status.busy": "2021-02-04T20:29:03.087157Z",
     "iopub.status.idle": "2021-02-04T20:29:03.088977Z",
     "shell.execute_reply": "2021-02-04T20:29:03.089513Z"
    }
   },
   "outputs": [
    {
     "name": "stdout",
     "output_type": "stream",
     "text": [
      "{'1': (1, 1.0), 50: (1, 1.0, 'Hola'), '3': 1}\n"
     ]
    }
   ],
   "source": [
    "diccionario = {'1': tupla, 50: nupla, '3': entero}\n",
    "print(diccionario)"
   ]
  },
  {
   "cell_type": "code",
   "execution_count": 11,
   "id": "complimentary-chapter",
   "metadata": {
    "execution": {
     "iopub.execute_input": "2021-02-04T20:29:03.093350Z",
     "iopub.status.busy": "2021-02-04T20:29:03.092795Z",
     "iopub.status.idle": "2021-02-04T20:29:03.094634Z",
     "shell.execute_reply": "2021-02-04T20:29:03.095180Z"
    }
   },
   "outputs": [
    {
     "name": "stdout",
     "output_type": "stream",
     "text": [
      "{1, 2}\n"
     ]
    }
   ],
   "source": [
    "conjunto = set([1, 2])\n",
    "print(conjunto)"
   ]
  },
  {
   "cell_type": "code",
   "execution_count": 12,
   "id": "thermal-honey",
   "metadata": {
    "execution": {
     "iopub.execute_input": "2021-02-04T20:29:03.099009Z",
     "iopub.status.busy": "2021-02-04T20:29:03.098436Z",
     "iopub.status.idle": "2021-02-04T20:29:03.100302Z",
     "shell.execute_reply": "2021-02-04T20:29:03.100750Z"
    }
   },
   "outputs": [
    {
     "name": "stdout",
     "output_type": "stream",
     "text": [
      "True\n"
     ]
    }
   ],
   "source": [
    "booleano = True\n",
    "print(booleano)"
   ]
  },
  {
   "cell_type": "code",
   "execution_count": 13,
   "id": "considered-reynolds",
   "metadata": {
    "execution": {
     "iopub.execute_input": "2021-02-04T20:29:03.104748Z",
     "iopub.status.busy": "2021-02-04T20:29:03.104201Z",
     "iopub.status.idle": "2021-02-04T20:29:03.106034Z",
     "shell.execute_reply": "2021-02-04T20:29:03.106485Z"
    }
   },
   "outputs": [
    {
     "name": "stdout",
     "output_type": "stream",
     "text": [
      "None\n"
     ]
    }
   ],
   "source": [
    "nada = None\n",
    "print(nada)"
   ]
  },
  {
   "cell_type": "markdown",
   "id": "engaging-rebel",
   "metadata": {},
   "source": [
    "Ojo que las variables pueden cambiar de tipo!"
   ]
  },
  {
   "cell_type": "code",
   "execution_count": 14,
   "id": "unlimited-colon",
   "metadata": {
    "execution": {
     "iopub.execute_input": "2021-02-04T20:29:03.110469Z",
     "iopub.status.busy": "2021-02-04T20:29:03.109922Z",
     "iopub.status.idle": "2021-02-04T20:29:03.111781Z",
     "shell.execute_reply": "2021-02-04T20:29:03.112318Z"
    }
   },
   "outputs": [
    {
     "name": "stdout",
     "output_type": "stream",
     "text": [
      "1\n",
      "<class 'int'>\n"
     ]
    }
   ],
   "source": [
    "elemento = 1\n",
    "print(elemento)\n",
    "print(type(elemento))"
   ]
  },
  {
   "cell_type": "code",
   "execution_count": 15,
   "id": "literary-decrease",
   "metadata": {
    "execution": {
     "iopub.execute_input": "2021-02-04T20:29:03.116545Z",
     "iopub.status.busy": "2021-02-04T20:29:03.115991Z",
     "iopub.status.idle": "2021-02-04T20:29:03.118345Z",
     "shell.execute_reply": "2021-02-04T20:29:03.117861Z"
    }
   },
   "outputs": [
    {
     "name": "stdout",
     "output_type": "stream",
     "text": [
      "1\n",
      "<class 'str'>\n"
     ]
    }
   ],
   "source": [
    "elemento = str(1)\n",
    "print(elemento)\n",
    "print(type(elemento))"
   ]
  },
  {
   "cell_type": "code",
   "execution_count": 16,
   "id": "criminal-psychology",
   "metadata": {
    "execution": {
     "iopub.execute_input": "2021-02-04T20:29:03.122173Z",
     "iopub.status.busy": "2021-02-04T20:29:03.121623Z",
     "iopub.status.idle": "2021-02-04T20:29:03.124000Z",
     "shell.execute_reply": "2021-02-04T20:29:03.123520Z"
    }
   },
   "outputs": [
    {
     "name": "stdout",
     "output_type": "stream",
     "text": [
      "[2]\n",
      "<class 'list'>\n"
     ]
    }
   ],
   "source": [
    "elemento = [2]\n",
    "\n",
    "print(elemento)\n",
    "print(type(elemento))"
   ]
  },
  {
   "cell_type": "markdown",
   "id": "otherwise-discretion",
   "metadata": {},
   "source": [
    "### Tipos basicos"
   ]
  },
  {
   "cell_type": "markdown",
   "id": "considerable-hundred",
   "metadata": {
    "slideshow": {
     "slide_type": "slide"
    }
   },
   "source": [
    "#### Listas de Python"
   ]
  },
  {
   "cell_type": "code",
   "execution_count": 17,
   "id": "native-today",
   "metadata": {
    "execution": {
     "iopub.execute_input": "2021-02-04T20:29:03.127703Z",
     "iopub.status.busy": "2021-02-04T20:29:03.127155Z",
     "iopub.status.idle": "2021-02-04T20:29:03.129616Z",
     "shell.execute_reply": "2021-02-04T20:29:03.130046Z"
    }
   },
   "outputs": [
    {
     "data": {
      "text/plain": [
       "[]"
      ]
     },
     "execution_count": 1,
     "metadata": {},
     "output_type": "execute_result"
    }
   ],
   "source": [
    "lista = list()\n",
    "lista"
   ]
  },
  {
   "cell_type": "code",
   "execution_count": 18,
   "id": "alpha-heating",
   "metadata": {
    "execution": {
     "iopub.execute_input": "2021-02-04T20:29:03.133593Z",
     "iopub.status.busy": "2021-02-04T20:29:03.133048Z",
     "iopub.status.idle": "2021-02-04T20:29:03.135957Z",
     "shell.execute_reply": "2021-02-04T20:29:03.135473Z"
    },
    "slideshow": {
     "slide_type": "slide"
    }
   },
   "outputs": [
    {
     "data": {
      "text/plain": [
       "[]"
      ]
     },
     "execution_count": 1,
     "metadata": {},
     "output_type": "execute_result"
    }
   ],
   "source": [
    "lista = []\n",
    "lista"
   ]
  },
  {
   "cell_type": "code",
   "execution_count": 19,
   "id": "laughing-seven",
   "metadata": {
    "execution": {
     "iopub.execute_input": "2021-02-04T20:29:03.139652Z",
     "iopub.status.busy": "2021-02-04T20:29:03.139111Z",
     "iopub.status.idle": "2021-02-04T20:29:03.141563Z",
     "shell.execute_reply": "2021-02-04T20:29:03.142018Z"
    },
    "slideshow": {
     "slide_type": "slide"
    }
   },
   "outputs": [
    {
     "data": {
      "text/plain": [
       "[1, 2, 3, 4]"
      ]
     },
     "execution_count": 1,
     "metadata": {},
     "output_type": "execute_result"
    }
   ],
   "source": [
    "lista = [1, 2, 3, 4]\n",
    "lista"
   ]
  },
  {
   "cell_type": "code",
   "execution_count": 20,
   "id": "affected-basketball",
   "metadata": {
    "execution": {
     "iopub.execute_input": "2021-02-04T20:29:03.146113Z",
     "iopub.status.busy": "2021-02-04T20:29:03.145563Z",
     "iopub.status.idle": "2021-02-04T20:29:03.148517Z",
     "shell.execute_reply": "2021-02-04T20:29:03.148030Z"
    },
    "slideshow": {
     "slide_type": "slide"
    }
   },
   "outputs": [
    {
     "data": {
      "text/plain": [
       "[1, 2, 3, 4, 1, 'dos', 3.0]"
      ]
     },
     "execution_count": 1,
     "metadata": {},
     "output_type": "execute_result"
    }
   ],
   "source": [
    "lista.append(1)  # Inserto un 1 al final\n",
    "lista.append(\"dos\")  # Inserto un \"dos\" al final\n",
    "lista.append(3.0)  # Inserto un 3.0 al final\n",
    "lista"
   ]
  },
  {
   "cell_type": "code",
   "execution_count": 21,
   "id": "brave-adaptation",
   "metadata": {
    "execution": {
     "iopub.execute_input": "2021-02-04T20:29:03.152190Z",
     "iopub.status.busy": "2021-02-04T20:29:03.151641Z",
     "iopub.status.idle": "2021-02-04T20:29:03.153423Z",
     "shell.execute_reply": "2021-02-04T20:29:03.153962Z"
    }
   },
   "outputs": [
    {
     "name": "stdout",
     "output_type": "stream",
     "text": [
      "[1, 2, 10, 3, 4, 1, 'dos', 3.0]\n"
     ]
    }
   ],
   "source": [
    "lista.insert(2, 10)  # Inserto en posicion 2 un 10\n",
    "print(lista)"
   ]
  },
  {
   "cell_type": "code",
   "execution_count": 22,
   "id": "revised-jackson",
   "metadata": {
    "execution": {
     "iopub.execute_input": "2021-02-04T20:29:03.157582Z",
     "iopub.status.busy": "2021-02-04T20:29:03.157039Z",
     "iopub.status.idle": "2021-02-04T20:29:03.159951Z",
     "shell.execute_reply": "2021-02-04T20:29:03.159462Z"
    }
   },
   "outputs": [
    {
     "data": {
      "text/plain": [
       "8"
      ]
     },
     "execution_count": 1,
     "metadata": {},
     "output_type": "execute_result"
    }
   ],
   "source": [
    "len(lista)"
   ]
  },
  {
   "cell_type": "code",
   "execution_count": 23,
   "id": "posted-leader",
   "metadata": {
    "execution": {
     "iopub.execute_input": "2021-02-04T20:29:03.170794Z",
     "iopub.status.busy": "2021-02-04T20:29:03.170206Z",
     "iopub.status.idle": "2021-02-04T20:29:03.174375Z",
     "shell.execute_reply": "2021-02-04T20:29:03.173888Z"
    }
   },
   "outputs": [
    {
     "data": {
      "text/plain": [
       "3.0"
      ]
     },
     "execution_count": 1,
     "metadata": {},
     "output_type": "execute_result"
    }
   ],
   "source": [
    "lista.pop()"
   ]
  },
  {
   "cell_type": "code",
   "execution_count": 24,
   "id": "changing-demand",
   "metadata": {
    "execution": {
     "iopub.execute_input": "2021-02-04T20:29:03.177986Z",
     "iopub.status.busy": "2021-02-04T20:29:03.177442Z",
     "iopub.status.idle": "2021-02-04T20:29:03.182606Z",
     "shell.execute_reply": "2021-02-04T20:29:03.182117Z"
    }
   },
   "outputs": [
    {
     "data": {
      "text/plain": [
       "[1, 2, 10, 3, 4, 1, 'dos']"
      ]
     },
     "execution_count": 1,
     "metadata": {},
     "output_type": "execute_result"
    }
   ],
   "source": [
    "lista"
   ]
  },
  {
   "cell_type": "code",
   "execution_count": 25,
   "id": "ideal-houston",
   "metadata": {
    "execution": {
     "iopub.execute_input": "2021-02-04T20:29:03.186474Z",
     "iopub.status.busy": "2021-02-04T20:29:03.185644Z",
     "iopub.status.idle": "2021-02-04T20:29:03.189821Z",
     "shell.execute_reply": "2021-02-04T20:29:03.190252Z"
    }
   },
   "outputs": [
    {
     "data": {
      "text/plain": [
       "2"
      ]
     },
     "execution_count": 1,
     "metadata": {},
     "output_type": "execute_result"
    }
   ],
   "source": [
    "lista.index(10)"
   ]
  },
  {
   "cell_type": "code",
   "execution_count": 26,
   "id": "mediterranean-mauritius",
   "metadata": {
    "execution": {
     "iopub.execute_input": "2021-02-04T20:29:03.194906Z",
     "iopub.status.busy": "2021-02-04T20:29:03.194080Z",
     "iopub.status.idle": "2021-02-04T20:29:03.196823Z",
     "shell.execute_reply": "2021-02-04T20:29:03.197277Z"
    }
   },
   "outputs": [
    {
     "data": {
      "text/plain": [
       "[1, 2, 3, 4, 1, 'dos']"
      ]
     },
     "execution_count": 1,
     "metadata": {},
     "output_type": "execute_result"
    }
   ],
   "source": [
    "lista.remove(10)\n",
    "lista"
   ]
  },
  {
   "cell_type": "code",
   "execution_count": 27,
   "id": "steady-beads",
   "metadata": {
    "execution": {
     "iopub.execute_input": "2021-02-04T20:29:03.202036Z",
     "iopub.status.busy": "2021-02-04T20:29:03.201470Z",
     "iopub.status.idle": "2021-02-04T20:29:03.259533Z",
     "shell.execute_reply": "2021-02-04T20:29:03.258780Z"
    },
    "tags": [
     "raises-exception"
    ]
   },
   "outputs": [
    {
     "name": "stdout",
     "output_type": "stream",
     "text": [
      "1\n",
      "2\n",
      "2\n",
      "3\n",
      "3\n",
      "4\n",
      "4\n",
      "5\n",
      "1\n",
      "2\n",
      "dos\n"
     ]
    },
    {
     "ename": "TypeError",
     "evalue": "can only concatenate str (not \"int\") to str",
     "output_type": "error",
     "traceback": [
      "\u001b[0;31m---------------------------------------------------------------------------\u001b[0m",
      "\u001b[0;31mTypeError\u001b[0m                                 Traceback (most recent call last)",
      "\u001b[0;32m<ipython-input-1-41b56d5cf080>\u001b[0m in \u001b[0;36m<module>\u001b[0;34m\u001b[0m\n\u001b[1;32m      1\u001b[0m \u001b[0;32mfor\u001b[0m \u001b[0melemento\u001b[0m \u001b[0;32min\u001b[0m \u001b[0mlista\u001b[0m\u001b[0;34m:\u001b[0m\u001b[0;34m\u001b[0m\u001b[0;34m\u001b[0m\u001b[0m\n\u001b[1;32m      2\u001b[0m     \u001b[0mprint\u001b[0m\u001b[0;34m(\u001b[0m\u001b[0melemento\u001b[0m\u001b[0;34m)\u001b[0m\u001b[0;34m\u001b[0m\u001b[0;34m\u001b[0m\u001b[0m\n\u001b[0;32m----> 3\u001b[0;31m     \u001b[0mprint\u001b[0m\u001b[0;34m(\u001b[0m\u001b[0melemento\u001b[0m \u001b[0;34m+\u001b[0m \u001b[0;36m1\u001b[0m\u001b[0;34m)\u001b[0m\u001b[0;34m\u001b[0m\u001b[0;34m\u001b[0m\u001b[0m\n\u001b[0m",
      "\u001b[0;31mTypeError\u001b[0m: can only concatenate str (not \"int\") to str"
     ]
    }
   ],
   "source": [
    "for elemento in lista:\n",
    "    print(elemento)\n",
    "    print(elemento + 1)"
   ]
  },
  {
   "cell_type": "code",
   "execution_count": 28,
   "id": "japanese-blues",
   "metadata": {
    "execution": {
     "iopub.execute_input": "2021-02-04T20:29:03.364748Z",
     "iopub.status.busy": "2021-02-04T20:29:03.363785Z",
     "iopub.status.idle": "2021-02-04T20:29:03.371939Z",
     "shell.execute_reply": "2021-02-04T20:29:03.371471Z"
    }
   },
   "outputs": [
    {
     "data": {
      "text/plain": [
       "[1, 2, 3, 4, 1, 'dos']"
      ]
     },
     "execution_count": 1,
     "metadata": {},
     "output_type": "execute_result"
    }
   ],
   "source": [
    "lista"
   ]
  },
  {
   "cell_type": "code",
   "execution_count": 29,
   "id": "entertaining-conditioning",
   "metadata": {
    "execution": {
     "iopub.execute_input": "2021-02-04T20:29:03.375825Z",
     "iopub.status.busy": "2021-02-04T20:29:03.375273Z",
     "iopub.status.idle": "2021-02-04T20:29:03.379860Z",
     "shell.execute_reply": "2021-02-04T20:29:03.379398Z"
    }
   },
   "outputs": [
    {
     "name": "stdout",
     "output_type": "stream",
     "text": [
      "0-ésimo elemento: 1\n",
      "1-ésimo elemento: 2\n",
      "2-ésimo elemento: 3\n",
      "3-ésimo elemento: 4\n",
      "4-ésimo elemento: 1\n",
      "5-ésimo elemento: dos\n"
     ]
    }
   ],
   "source": [
    "for i, elemento in enumerate(lista):\n",
    "    print(f\"{i}-ésimo elemento: {elemento}\")"
   ]
  },
  {
   "cell_type": "code",
   "execution_count": 30,
   "id": "molecular-negative",
   "metadata": {
    "execution": {
     "iopub.execute_input": "2021-02-04T20:29:03.385517Z",
     "iopub.status.busy": "2021-02-04T20:29:03.384942Z",
     "iopub.status.idle": "2021-02-04T20:29:03.390689Z",
     "shell.execute_reply": "2021-02-04T20:29:03.389203Z"
    },
    "tags": [
     "raises-exception"
    ]
   },
   "outputs": [
    {
     "ename": "TypeError",
     "evalue": "'<' not supported between instances of 'str' and 'int'",
     "output_type": "error",
     "traceback": [
      "\u001b[0;31m---------------------------------------------------------------------------\u001b[0m",
      "\u001b[0;31mTypeError\u001b[0m                                 Traceback (most recent call last)",
      "\u001b[0;32m<ipython-input-1-06c3f264dc7a>\u001b[0m in \u001b[0;36m<module>\u001b[0;34m\u001b[0m\n\u001b[0;32m----> 1\u001b[0;31m \u001b[0msorted\u001b[0m\u001b[0;34m(\u001b[0m\u001b[0mlista\u001b[0m\u001b[0;34m)\u001b[0m\u001b[0;34m\u001b[0m\u001b[0;34m\u001b[0m\u001b[0m\n\u001b[0m",
      "\u001b[0;31mTypeError\u001b[0m: '<' not supported between instances of 'str' and 'int'"
     ]
    }
   ],
   "source": [
    "sorted(lista)"
   ]
  },
  {
   "cell_type": "code",
   "execution_count": 31,
   "id": "little-presentation",
   "metadata": {
    "execution": {
     "iopub.execute_input": "2021-02-04T20:29:03.496028Z",
     "iopub.status.busy": "2021-02-04T20:29:03.495025Z",
     "iopub.status.idle": "2021-02-04T20:29:03.501261Z",
     "shell.execute_reply": "2021-02-04T20:29:03.500414Z"
    }
   },
   "outputs": [],
   "source": [
    "lista.remove(\"dos\")"
   ]
  },
  {
   "cell_type": "code",
   "execution_count": 32,
   "id": "standing-hurricane",
   "metadata": {
    "execution": {
     "iopub.execute_input": "2021-02-04T20:29:03.505379Z",
     "iopub.status.busy": "2021-02-04T20:29:03.504831Z",
     "iopub.status.idle": "2021-02-04T20:29:03.507747Z",
     "shell.execute_reply": "2021-02-04T20:29:03.507264Z"
    }
   },
   "outputs": [
    {
     "data": {
      "text/plain": [
       "[1, 1, 2, 3, 4]"
      ]
     },
     "execution_count": 1,
     "metadata": {},
     "output_type": "execute_result"
    }
   ],
   "source": [
    "sorted(lista)"
   ]
  },
  {
   "cell_type": "code",
   "execution_count": 33,
   "id": "pursuant-mineral",
   "metadata": {
    "execution": {
     "iopub.execute_input": "2021-02-04T20:29:03.511741Z",
     "iopub.status.busy": "2021-02-04T20:29:03.511188Z",
     "iopub.status.idle": "2021-02-04T20:29:03.515549Z",
     "shell.execute_reply": "2021-02-04T20:29:03.515053Z"
    }
   },
   "outputs": [
    {
     "data": {
      "text/plain": [
       "[1, 1, 2, 3, 4]"
      ]
     },
     "execution_count": 1,
     "metadata": {},
     "output_type": "execute_result"
    }
   ],
   "source": [
    "lista.sort()\n",
    "lista"
   ]
  },
  {
   "cell_type": "markdown",
   "id": "ecological-narrow",
   "metadata": {
    "slideshow": {
     "slide_type": "slide"
    }
   },
   "source": [
    "#### Tuplas de Python\n",
    "\n",
    "Las tuplas son inmutables. No se pueden agregar elementos luego de creadas."
   ]
  },
  {
   "cell_type": "code",
   "execution_count": 34,
   "id": "impaired-india",
   "metadata": {
    "execution": {
     "iopub.execute_input": "2021-02-04T20:29:03.522959Z",
     "iopub.status.busy": "2021-02-04T20:29:03.519945Z",
     "iopub.status.idle": "2021-02-04T20:29:03.529095Z",
     "shell.execute_reply": "2021-02-04T20:29:03.527623Z"
    },
    "slideshow": {
     "slide_type": "slide"
    },
    "tags": [
     "raises-exception"
    ]
   },
   "outputs": [
    {
     "name": "stdout",
     "output_type": "stream",
     "text": [
      "(1, 2)\n",
      "1\n",
      "2\n"
     ]
    },
    {
     "ename": "TypeError",
     "evalue": "'tuple' object does not support item assignment",
     "output_type": "error",
     "traceback": [
      "\u001b[0;31m---------------------------------------------------------------------------\u001b[0m",
      "\u001b[0;31mTypeError\u001b[0m                                 Traceback (most recent call last)",
      "\u001b[0;32m<ipython-input-1-80ca8b547dd6>\u001b[0m in \u001b[0;36m<module>\u001b[0;34m\u001b[0m\n\u001b[1;32m      5\u001b[0m \u001b[0mprint\u001b[0m\u001b[0;34m(\u001b[0m\u001b[0mtupla\u001b[0m\u001b[0;34m[\u001b[0m\u001b[0;36m1\u001b[0m\u001b[0;34m]\u001b[0m\u001b[0;34m)\u001b[0m\u001b[0;34m\u001b[0m\u001b[0;34m\u001b[0m\u001b[0m\n\u001b[1;32m      6\u001b[0m \u001b[0;34m\u001b[0m\u001b[0m\n\u001b[0;32m----> 7\u001b[0;31m \u001b[0mtupla\u001b[0m\u001b[0;34m[\u001b[0m\u001b[0;36m1\u001b[0m\u001b[0;34m]\u001b[0m \u001b[0;34m=\u001b[0m \u001b[0;36m3\u001b[0m  \u001b[0;31m# Falla. No se puede mutar\u001b[0m\u001b[0;34m\u001b[0m\u001b[0;34m\u001b[0m\u001b[0m\n\u001b[0m",
      "\u001b[0;31mTypeError\u001b[0m: 'tuple' object does not support item assignment"
     ]
    }
   ],
   "source": [
    "tupla = (1, 2)\n",
    "\n",
    "print(tupla)\n",
    "print(tupla[0])\n",
    "print(tupla[1])\n",
    "\n",
    "tupla[1] = 3  # Falla. No se puede mutar"
   ]
  },
  {
   "cell_type": "code",
   "execution_count": 35,
   "id": "noble-controversy",
   "metadata": {
    "execution": {
     "iopub.execute_input": "2021-02-04T20:29:03.633445Z",
     "iopub.status.busy": "2021-02-04T20:29:03.632837Z",
     "iopub.status.idle": "2021-02-04T20:29:03.635069Z",
     "shell.execute_reply": "2021-02-04T20:29:03.635693Z"
    }
   },
   "outputs": [
    {
     "data": {
      "text/plain": [
       "[1, 2]"
      ]
     },
     "execution_count": 1,
     "metadata": {},
     "output_type": "execute_result"
    }
   ],
   "source": [
    "l = [1, 2]\n",
    "l"
   ]
  },
  {
   "cell_type": "code",
   "execution_count": 36,
   "id": "structured-findings",
   "metadata": {
    "execution": {
     "iopub.execute_input": "2021-02-04T20:29:03.639787Z",
     "iopub.status.busy": "2021-02-04T20:29:03.639213Z",
     "iopub.status.idle": "2021-02-04T20:29:03.641620Z",
     "shell.execute_reply": "2021-02-04T20:29:03.642071Z"
    }
   },
   "outputs": [
    {
     "data": {
      "text/plain": [
       "[1, 3]"
      ]
     },
     "execution_count": 1,
     "metadata": {},
     "output_type": "execute_result"
    }
   ],
   "source": [
    "l[1] = 3\n",
    "l"
   ]
  },
  {
   "cell_type": "markdown",
   "id": "streaming-block",
   "metadata": {
    "slideshow": {
     "slide_type": "slide"
    }
   },
   "source": [
    "#### Diferencia entre lista y tupla\n",
    "Las listas se caracterizan por ser mutables, es decir, se puede cambiar su contenido en tiempo de ejecución, mientras que las tuplas son inmutables ya que no es posible modificar el contenido una vez creada."
   ]
  },
  {
   "cell_type": "markdown",
   "id": "charming-highway",
   "metadata": {},
   "source": [
    "#### Slices\n",
    "\n",
    "**Valen para listas, tuplas o strings (_segmentos_)**"
   ]
  },
  {
   "cell_type": "code",
   "execution_count": 37,
   "id": "aging-convenience",
   "metadata": {
    "execution": {
     "iopub.execute_input": "2021-02-04T20:29:03.647051Z",
     "iopub.status.busy": "2021-02-04T20:29:03.645855Z",
     "iopub.status.idle": "2021-02-04T20:29:03.647755Z",
     "shell.execute_reply": "2021-02-04T20:29:03.648204Z"
    }
   },
   "outputs": [],
   "source": [
    "numeros = [0, 1, 2, 3, 4, 5, 6, 7, 8, 9, 10]"
   ]
  },
  {
   "cell_type": "code",
   "execution_count": 38,
   "id": "adjusted-torture",
   "metadata": {
    "execution": {
     "iopub.execute_input": "2021-02-04T20:29:03.652526Z",
     "iopub.status.busy": "2021-02-04T20:29:03.651974Z",
     "iopub.status.idle": "2021-02-04T20:29:03.661377Z",
     "shell.execute_reply": "2021-02-04T20:29:03.660249Z"
    }
   },
   "outputs": [
    {
     "name": "stdout",
     "output_type": "stream",
     "text": [
      "[0, 1, 2, 3, 4, 5, 6, 7, 8, 9, 10]\n"
     ]
    }
   ],
   "source": [
    "print(numeros)"
   ]
  },
  {
   "cell_type": "code",
   "execution_count": 39,
   "id": "facial-newark",
   "metadata": {
    "execution": {
     "iopub.execute_input": "2021-02-04T20:29:03.666034Z",
     "iopub.status.busy": "2021-02-04T20:29:03.665474Z",
     "iopub.status.idle": "2021-02-04T20:29:03.667540Z",
     "shell.execute_reply": "2021-02-04T20:29:03.667997Z"
    }
   },
   "outputs": [
    {
     "name": "stdout",
     "output_type": "stream",
     "text": [
      "2\n"
     ]
    }
   ],
   "source": [
    "print(numeros[2])  # Imprimo elemento en la posición 2"
   ]
  },
  {
   "cell_type": "code",
   "execution_count": 40,
   "id": "pointed-discovery",
   "metadata": {
    "execution": {
     "iopub.execute_input": "2021-02-04T20:29:03.672641Z",
     "iopub.status.busy": "2021-02-04T20:29:03.672050Z",
     "iopub.status.idle": "2021-02-04T20:29:03.674042Z",
     "shell.execute_reply": "2021-02-04T20:29:03.674491Z"
    }
   },
   "outputs": [
    {
     "data": {
      "text/plain": [
       "10"
      ]
     },
     "execution_count": 1,
     "metadata": {},
     "output_type": "execute_result"
    }
   ],
   "source": [
    "numeros[len(numeros) - 1]"
   ]
  },
  {
   "cell_type": "code",
   "execution_count": 41,
   "id": "senior-essay",
   "metadata": {
    "execution": {
     "iopub.execute_input": "2021-02-04T20:29:03.678345Z",
     "iopub.status.busy": "2021-02-04T20:29:03.677799Z",
     "iopub.status.idle": "2021-02-04T20:29:03.679644Z",
     "shell.execute_reply": "2021-02-04T20:29:03.680209Z"
    },
    "lines_to_next_cell": 2
   },
   "outputs": [
    {
     "name": "stdout",
     "output_type": "stream",
     "text": [
      "10\n"
     ]
    }
   ],
   "source": [
    "print(numeros[-1])  # # Imprimo elemento en la última posición"
   ]
  },
  {
   "cell_type": "code",
   "execution_count": 42,
   "id": "equipped-permit",
   "metadata": {
    "execution": {
     "iopub.execute_input": "2021-02-04T20:29:03.684898Z",
     "iopub.status.busy": "2021-02-04T20:29:03.684326Z",
     "iopub.status.idle": "2021-02-04T20:29:03.686711Z",
     "shell.execute_reply": "2021-02-04T20:29:03.687207Z"
    },
    "lines_to_next_cell": 2
   },
   "outputs": [
    {
     "data": {
      "text/plain": [
       "9"
      ]
     },
     "execution_count": 1,
     "metadata": {},
     "output_type": "execute_result"
    }
   ],
   "source": [
    "numeros[-2]"
   ]
  },
  {
   "cell_type": "code",
   "execution_count": 43,
   "id": "awful-result",
   "metadata": {
    "execution": {
     "iopub.execute_input": "2021-02-04T20:29:03.691359Z",
     "iopub.status.busy": "2021-02-04T20:29:03.690802Z",
     "iopub.status.idle": "2021-02-04T20:29:03.692977Z",
     "shell.execute_reply": "2021-02-04T20:29:03.693437Z"
    }
   },
   "outputs": [
    {
     "name": "stdout",
     "output_type": "stream",
     "text": [
      "[0, 1, 2]\n"
     ]
    }
   ],
   "source": [
    "print(numeros[0:3])  # Imprimo de la pos 0 a la pos 2"
   ]
  },
  {
   "cell_type": "code",
   "execution_count": 44,
   "id": "round-contract",
   "metadata": {
    "execution": {
     "iopub.execute_input": "2021-02-04T20:29:03.697376Z",
     "iopub.status.busy": "2021-02-04T20:29:03.696827Z",
     "iopub.status.idle": "2021-02-04T20:29:03.699184Z",
     "shell.execute_reply": "2021-02-04T20:29:03.699642Z"
    }
   },
   "outputs": [
    {
     "name": "stdout",
     "output_type": "stream",
     "text": [
      "[7, 8]\n"
     ]
    }
   ],
   "source": [
    "print(numeros[-4:-2])"
   ]
  },
  {
   "cell_type": "code",
   "execution_count": 45,
   "id": "selective-sponsorship",
   "metadata": {
    "execution": {
     "iopub.execute_input": "2021-02-04T20:29:03.703475Z",
     "iopub.status.busy": "2021-02-04T20:29:03.702922Z",
     "iopub.status.idle": "2021-02-04T20:29:03.705265Z",
     "shell.execute_reply": "2021-02-04T20:29:03.705722Z"
    }
   },
   "outputs": [
    {
     "name": "stdout",
     "output_type": "stream",
     "text": [
      "[0, 1, 2, 3, 4, 5, 6, 7, 8, 9, 10]\n"
     ]
    }
   ],
   "source": [
    "print(numeros[0:80])"
   ]
  },
  {
   "cell_type": "code",
   "execution_count": 46,
   "id": "honest-birmingham",
   "metadata": {
    "execution": {
     "iopub.execute_input": "2021-02-04T20:29:03.709162Z",
     "iopub.status.busy": "2021-02-04T20:29:03.708611Z",
     "iopub.status.idle": "2021-02-04T20:29:03.711789Z",
     "shell.execute_reply": "2021-02-04T20:29:03.711298Z"
    }
   },
   "outputs": [
    {
     "name": "stdout",
     "output_type": "stream",
     "text": [
      "[0, 1, 2]\n"
     ]
    }
   ],
   "source": [
    "print(numeros[:3])"
   ]
  },
  {
   "cell_type": "code",
   "execution_count": 47,
   "id": "infrared-ministry",
   "metadata": {
    "execution": {
     "iopub.execute_input": "2021-02-04T20:29:03.715934Z",
     "iopub.status.busy": "2021-02-04T20:29:03.715388Z",
     "iopub.status.idle": "2021-02-04T20:29:03.717158Z",
     "shell.execute_reply": "2021-02-04T20:29:03.717692Z"
    }
   },
   "outputs": [
    {
     "name": "stdout",
     "output_type": "stream",
     "text": [
      "[3, 4, 5, 6, 7, 8, 9, 10]\n"
     ]
    }
   ],
   "source": [
    "print(numeros[3:])"
   ]
  },
  {
   "cell_type": "code",
   "execution_count": 48,
   "id": "suburban-motivation",
   "metadata": {
    "execution": {
     "iopub.execute_input": "2021-02-04T20:29:03.721840Z",
     "iopub.status.busy": "2021-02-04T20:29:03.721274Z",
     "iopub.status.idle": "2021-02-04T20:29:03.723172Z",
     "shell.execute_reply": "2021-02-04T20:29:03.723623Z"
    }
   },
   "outputs": [
    {
     "name": "stdout",
     "output_type": "stream",
     "text": [
      "[0, 2, 4, 6, 8]\n"
     ]
    }
   ],
   "source": [
    "print(numeros[0:10:2])"
   ]
  },
  {
   "cell_type": "markdown",
   "id": "racial-darwin",
   "metadata": {},
   "source": [
    "```python\n",
    "lista[<inicio>:<final>:<step>]\n",
    "```"
   ]
  },
  {
   "cell_type": "code",
   "execution_count": 49,
   "id": "cardiac-housing",
   "metadata": {
    "execution": {
     "iopub.execute_input": "2021-02-04T20:29:03.727791Z",
     "iopub.status.busy": "2021-02-04T20:29:03.727243Z",
     "iopub.status.idle": "2021-02-04T20:29:03.730209Z",
     "shell.execute_reply": "2021-02-04T20:29:03.730780Z"
    },
    "lines_to_next_cell": 2
   },
   "outputs": [
    {
     "data": {
      "text/plain": [
       "[1, 2, 3, 4]"
      ]
     },
     "execution_count": 1,
     "metadata": {},
     "output_type": "execute_result"
    }
   ],
   "source": [
    "l1 = [1, 2]\n",
    "l2 = [3, 4]\n",
    "l1 + l2"
   ]
  },
  {
   "cell_type": "code",
   "execution_count": 50,
   "id": "heard-analyst",
   "metadata": {
    "execution": {
     "iopub.execute_input": "2021-02-04T20:29:03.735713Z",
     "iopub.status.busy": "2021-02-04T20:29:03.735147Z",
     "iopub.status.idle": "2021-02-04T20:29:03.737008Z",
     "shell.execute_reply": "2021-02-04T20:29:03.737456Z"
    }
   },
   "outputs": [
    {
     "name": "stdout",
     "output_type": "stream",
     "text": [
      "[0, 1, 2, 3, 4, 5, 6, 'siete', 8, 9, 10]\n"
     ]
    }
   ],
   "source": [
    "numeros[7] = 'siete'  # Las listas se pueden mutar\n",
    "print(numeros)"
   ]
  },
  {
   "cell_type": "code",
   "execution_count": 51,
   "id": "sapphire-girlfriend",
   "metadata": {
    "execution": {
     "iopub.execute_input": "2021-02-04T20:29:03.741336Z",
     "iopub.status.busy": "2021-02-04T20:29:03.740774Z",
     "iopub.status.idle": "2021-02-04T20:29:03.742865Z",
     "shell.execute_reply": "2021-02-04T20:29:03.743297Z"
    }
   },
   "outputs": [
    {
     "name": "stdout",
     "output_type": "stream",
     "text": [
      "[10, 9, 8, 'siete', 6, 5, 4, 3, 2, 1, 0]\n"
     ]
    }
   ],
   "source": [
    "numeros = numeros[::-1]\n",
    "print(numeros)"
   ]
  },
  {
   "cell_type": "code",
   "execution_count": 52,
   "id": "pregnant-toyota",
   "metadata": {
    "execution": {
     "iopub.execute_input": "2021-02-04T20:29:03.750521Z",
     "iopub.status.busy": "2021-02-04T20:29:03.748483Z",
     "iopub.status.idle": "2021-02-04T20:29:03.753212Z",
     "shell.execute_reply": "2021-02-04T20:29:03.752613Z"
    },
    "tags": [
     "raises-exception"
    ]
   },
   "outputs": [
    {
     "ename": "IndexError",
     "evalue": "list index out of range",
     "output_type": "error",
     "traceback": [
      "\u001b[0;31m---------------------------------------------------------------------------\u001b[0m",
      "\u001b[0;31mIndexError\u001b[0m                                Traceback (most recent call last)",
      "\u001b[0;32m<ipython-input-1-0ef91dd29a9b>\u001b[0m in \u001b[0;36m<module>\u001b[0;34m\u001b[0m\n\u001b[0;32m----> 1\u001b[0;31m \u001b[0mprint\u001b[0m\u001b[0;34m(\u001b[0m\u001b[0mnumeros\u001b[0m\u001b[0;34m[\u001b[0m\u001b[0;36m15\u001b[0m\u001b[0;34m]\u001b[0m\u001b[0;34m)\u001b[0m  \u001b[0;31m# Falla. No se puede acceder a una posición inexistente\u001b[0m\u001b[0;34m\u001b[0m\u001b[0;34m\u001b[0m\u001b[0m\n\u001b[0m",
      "\u001b[0;31mIndexError\u001b[0m: list index out of range"
     ]
    }
   ],
   "source": [
    "print(numeros[15])  # Falla. No se puede acceder a una posición inexistente"
   ]
  },
  {
   "cell_type": "code",
   "execution_count": 53,
   "id": "partial-leone",
   "metadata": {
    "execution": {
     "iopub.execute_input": "2021-02-04T20:29:03.860641Z",
     "iopub.status.busy": "2021-02-04T20:29:03.858983Z",
     "iopub.status.idle": "2021-02-04T20:29:03.862639Z",
     "shell.execute_reply": "2021-02-04T20:29:03.862124Z"
    }
   },
   "outputs": [
    {
     "name": "stdout",
     "output_type": "stream",
     "text": [
      "palabra\n",
      "a\n",
      "pal\n",
      "abra\n"
     ]
    }
   ],
   "source": [
    "palabra = 'palabra'\n",
    "print(palabra)\n",
    "print(palabra[3])\n",
    "print(palabra[:3])\n",
    "print(palabra[3:])"
   ]
  },
  {
   "cell_type": "code",
   "execution_count": 54,
   "id": "dedicated-berry",
   "metadata": {
    "execution": {
     "iopub.execute_input": "2021-02-04T20:29:03.868633Z",
     "iopub.status.busy": "2021-02-04T20:29:03.867543Z",
     "iopub.status.idle": "2021-02-04T20:29:03.871781Z",
     "shell.execute_reply": "2021-02-04T20:29:03.870430Z"
    }
   },
   "outputs": [
    {
     "name": "stdout",
     "output_type": "stream",
     "text": [
      "(0, 1, 2, 3, 4)\n",
      "(0, 1)\n"
     ]
    },
    {
     "name": "stdout",
     "output_type": "stream",
     "text": [
      "(2, 3, 4)\n"
     ]
    }
   ],
   "source": [
    "tupla = (0, 1, 2, 3, 4)\n",
    "\n",
    "print(tupla)\n",
    "print(tupla[:2])\n",
    "print(tupla[2:])"
   ]
  },
  {
   "cell_type": "markdown",
   "id": "driven-grave",
   "metadata": {
    "slideshow": {
     "slide_type": "slide"
    }
   },
   "source": [
    "#### Diccionarios de Python\n",
    "\n",
    "Son como hashmaps, las claves deben ser inmutables para que no pierda sentido el diccionario. Si se pudieran modificar, se podrían cambiar las claves y generaría conflictos.\n",
    "\n",
    "Tipos mutables:\n",
    "- Listas\n",
    "- Diccionarios\n",
    "- Sets\n",
    "\n",
    "Tipos inmutables:\n",
    "- Int\n",
    "- Float\n",
    "- String\n",
    "- Tuplas\n"
   ]
  },
  {
   "cell_type": "code",
   "execution_count": 55,
   "id": "alert-consumer",
   "metadata": {
    "execution": {
     "iopub.execute_input": "2021-02-04T20:29:03.876869Z",
     "iopub.status.busy": "2021-02-04T20:29:03.876023Z",
     "iopub.status.idle": "2021-02-04T20:29:03.878966Z",
     "shell.execute_reply": "2021-02-04T20:29:03.879436Z"
    },
    "slideshow": {
     "slide_type": "slide"
    }
   },
   "outputs": [
    {
     "data": {
      "text/plain": [
       "{}"
      ]
     },
     "execution_count": 1,
     "metadata": {},
     "output_type": "execute_result"
    }
   ],
   "source": [
    "diccionario = {}\n",
    "diccionario"
   ]
  },
  {
   "cell_type": "code",
   "execution_count": 56,
   "id": "chronic-mechanism",
   "metadata": {
    "execution": {
     "iopub.execute_input": "2021-02-04T20:29:03.884087Z",
     "iopub.status.busy": "2021-02-04T20:29:03.883506Z",
     "iopub.status.idle": "2021-02-04T20:29:03.885863Z",
     "shell.execute_reply": "2021-02-04T20:29:03.886314Z"
    }
   },
   "outputs": [
    {
     "data": {
      "text/plain": [
       "{}"
      ]
     },
     "execution_count": 1,
     "metadata": {},
     "output_type": "execute_result"
    }
   ],
   "source": [
    "diccionario = dict()\n",
    "diccionario"
   ]
  },
  {
   "cell_type": "code",
   "execution_count": 57,
   "id": "polyphonic-disposition",
   "metadata": {
    "execution": {
     "iopub.execute_input": "2021-02-04T20:29:03.890536Z",
     "iopub.status.busy": "2021-02-04T20:29:03.889975Z",
     "iopub.status.idle": "2021-02-04T20:29:03.892227Z",
     "shell.execute_reply": "2021-02-04T20:29:03.892772Z"
    },
    "slideshow": {
     "slide_type": "slide"
    }
   },
   "outputs": [
    {
     "name": "stdout",
     "output_type": "stream",
     "text": [
      "{'clave1': 'valor1', 2: 'valor2', 'clave3': 3}\n"
     ]
    }
   ],
   "source": [
    "# Cómo agregar cosas al diccionario\n",
    "diccionario['clave1'] = 'valor1'\n",
    "diccionario[2] = 'valor2'\n",
    "diccionario['clave3'] = 3\n",
    "print(diccionario)"
   ]
  },
  {
   "cell_type": "markdown",
   "id": "sorted-jacksonville",
   "metadata": {},
   "source": [
    "Hay dos formas de obtener valores de un diccionario:\n",
    "\n",
    "```python\n",
    "diccionario[clave]\n",
    "```\n",
    "\n",
    "El cual devuelve el valor si existe la clave suministrada o bien lanza `KeyError` si no existe."
   ]
  },
  {
   "cell_type": "code",
   "execution_count": 58,
   "id": "based-sleeve",
   "metadata": {
    "execution": {
     "iopub.execute_input": "2021-02-04T20:29:03.897364Z",
     "iopub.status.busy": "2021-02-04T20:29:03.896794Z",
     "iopub.status.idle": "2021-02-04T20:29:03.899048Z",
     "shell.execute_reply": "2021-02-04T20:29:03.899499Z"
    }
   },
   "outputs": [
    {
     "data": {
      "text/plain": [
       "'valor1'"
      ]
     },
     "execution_count": 1,
     "metadata": {},
     "output_type": "execute_result"
    }
   ],
   "source": [
    "diccionario['clave1']"
   ]
  },
  {
   "cell_type": "code",
   "execution_count": 59,
   "id": "graduate-state",
   "metadata": {
    "execution": {
     "iopub.execute_input": "2021-02-04T20:29:03.904997Z",
     "iopub.status.busy": "2021-02-04T20:29:03.904365Z",
     "iopub.status.idle": "2021-02-04T20:29:03.908950Z",
     "shell.execute_reply": "2021-02-04T20:29:03.908277Z"
    },
    "tags": [
     "raises-exception"
    ]
   },
   "outputs": [
    {
     "ename": "KeyError",
     "evalue": "'clave1000'",
     "output_type": "error",
     "traceback": [
      "\u001b[0;31m---------------------------------------------------------------------------\u001b[0m",
      "\u001b[0;31mKeyError\u001b[0m                                  Traceback (most recent call last)",
      "\u001b[0;32m<ipython-input-1-41aae9a2e5ed>\u001b[0m in \u001b[0;36m<module>\u001b[0;34m\u001b[0m\n\u001b[0;32m----> 1\u001b[0;31m \u001b[0mdiccionario\u001b[0m\u001b[0;34m[\u001b[0m\u001b[0;34m'clave1000'\u001b[0m\u001b[0;34m]\u001b[0m\u001b[0;34m\u001b[0m\u001b[0;34m\u001b[0m\u001b[0m\n\u001b[0m",
      "\u001b[0;31mKeyError\u001b[0m: 'clave1000'"
     ]
    }
   ],
   "source": [
    "diccionario['clave1000']"
   ]
  },
  {
   "cell_type": "markdown",
   "id": "trained-magnitude",
   "metadata": {},
   "source": [
    "La segunda forma es con `get`:"
   ]
  },
  {
   "cell_type": "code",
   "execution_count": 60,
   "id": "alleged-lloyd",
   "metadata": {
    "execution": {
     "iopub.execute_input": "2021-02-04T20:29:04.018044Z",
     "iopub.status.busy": "2021-02-04T20:29:04.017039Z",
     "iopub.status.idle": "2021-02-04T20:29:04.068083Z",
     "shell.execute_reply": "2021-02-04T20:29:04.067545Z"
    }
   },
   "outputs": [],
   "source": [
    "diccionario.get?"
   ]
  },
  {
   "cell_type": "code",
   "execution_count": 61,
   "id": "ahead-archives",
   "metadata": {
    "execution": {
     "iopub.execute_input": "2021-02-04T20:29:04.076483Z",
     "iopub.status.busy": "2021-02-04T20:29:04.075335Z",
     "iopub.status.idle": "2021-02-04T20:29:04.079156Z",
     "shell.execute_reply": "2021-02-04T20:29:04.077387Z"
    }
   },
   "outputs": [
    {
     "name": "stdout",
     "output_type": "stream",
     "text": [
      "Help on built-in function get:\n",
      "\n",
      "get(key, default=None, /) method of builtins.dict instance\n",
      "    Return the value for key if key is in the dictionary, else default.\n",
      "\n"
     ]
    }
   ],
   "source": [
    "help(diccionario.get)"
   ]
  },
  {
   "cell_type": "code",
   "execution_count": 62,
   "id": "postal-remedy",
   "metadata": {
    "execution": {
     "iopub.execute_input": "2021-02-04T20:29:04.082701Z",
     "iopub.status.busy": "2021-02-04T20:29:04.082113Z",
     "iopub.status.idle": "2021-02-04T20:29:04.084069Z",
     "shell.execute_reply": "2021-02-04T20:29:04.084611Z"
    },
    "slideshow": {
     "slide_type": "slide"
    }
   },
   "outputs": [
    {
     "name": "stdout",
     "output_type": "stream",
     "text": [
      "None\n"
     ]
    }
   ],
   "source": [
    "print(diccionario.get('clave1000'))"
   ]
  },
  {
   "cell_type": "code",
   "execution_count": 63,
   "id": "collaborative-satisfaction",
   "metadata": {
    "execution": {
     "iopub.execute_input": "2021-02-04T20:29:04.089882Z",
     "iopub.status.busy": "2021-02-04T20:29:04.088473Z",
     "iopub.status.idle": "2021-02-04T20:29:04.091749Z",
     "shell.execute_reply": "2021-02-04T20:29:04.091259Z"
    },
    "slideshow": {
     "slide_type": "slide"
    }
   },
   "outputs": [
    {
     "name": "stdout",
     "output_type": "stream",
     "text": [
      "True\n"
     ]
    }
   ],
   "source": [
    "print('clave1' in diccionario)  # Verifico si la clave está en el diccionario"
   ]
  },
  {
   "cell_type": "code",
   "execution_count": 64,
   "id": "incident-commodity",
   "metadata": {
    "execution": {
     "iopub.execute_input": "2021-02-04T20:29:04.096754Z",
     "iopub.status.busy": "2021-02-04T20:29:04.095782Z",
     "iopub.status.idle": "2021-02-04T20:29:04.098490Z",
     "shell.execute_reply": "2021-02-04T20:29:04.098969Z"
    }
   },
   "outputs": [
    {
     "data": {
      "text/plain": [
       "True"
      ]
     },
     "execution_count": 1,
     "metadata": {},
     "output_type": "execute_result"
    }
   ],
   "source": [
    "l = [1, 2, 3, 4]\n",
    "2 in l"
   ]
  },
  {
   "cell_type": "code",
   "execution_count": 65,
   "id": "guilty-midwest",
   "metadata": {
    "execution": {
     "iopub.execute_input": "2021-02-04T20:29:04.104443Z",
     "iopub.status.busy": "2021-02-04T20:29:04.103030Z",
     "iopub.status.idle": "2021-02-04T20:29:04.106267Z",
     "shell.execute_reply": "2021-02-04T20:29:04.105780Z"
    }
   },
   "outputs": [
    {
     "name": "stdout",
     "output_type": "stream",
     "text": [
      "la clave es clave1 y el valor es valor1\n",
      "la clave es 2 y el valor es valor2\n",
      "la clave es clave3 y el valor es 3\n"
     ]
    }
   ],
   "source": [
    "for clave, valor in diccionario.items():\n",
    "    print(\"la clave es %s y el valor es %s\" % (clave, valor))"
   ]
  },
  {
   "cell_type": "code",
   "execution_count": 66,
   "id": "sticky-potential",
   "metadata": {
    "execution": {
     "iopub.execute_input": "2021-02-04T20:29:04.111508Z",
     "iopub.status.busy": "2021-02-04T20:29:04.110292Z",
     "iopub.status.idle": "2021-02-04T20:29:04.113403Z",
     "shell.execute_reply": "2021-02-04T20:29:04.112915Z"
    }
   },
   "outputs": [
    {
     "name": "stdout",
     "output_type": "stream",
     "text": [
      "la clave es clave1 y el valor es valor1\n",
      "la clave es 2 y el valor es valor2\n",
      "la clave es clave3 y el valor es 3\n"
     ]
    }
   ],
   "source": [
    "for clave, valor in diccionario.items():\n",
    "    print(\"la clave es {} y el valor es {}\".format(clave, valor))"
   ]
  },
  {
   "cell_type": "code",
   "execution_count": 67,
   "id": "extra-pioneer",
   "metadata": {
    "execution": {
     "iopub.execute_input": "2021-02-04T20:29:04.118944Z",
     "iopub.status.busy": "2021-02-04T20:29:04.117697Z",
     "iopub.status.idle": "2021-02-04T20:29:04.120988Z",
     "shell.execute_reply": "2021-02-04T20:29:04.120495Z"
    },
    "slideshow": {
     "slide_type": "slide"
    }
   },
   "outputs": [
    {
     "name": "stdout",
     "output_type": "stream",
     "text": [
      "la clave es clave1 y el valor es valor1\n",
      "la clave es 2 y el valor es valor2\n",
      "la clave es clave3 y el valor es 3\n"
     ]
    }
   ],
   "source": [
    "# Cómo iterar un diccionario elemento por elemento\n",
    "for (\n",
    "    clave,\n",
    "    valor,\n",
    ") in (\n",
    "    diccionario.items()\n",
    "):  # diccionario.items() va devolviendo tuplas con el formato (clave,valor)\n",
    "    print(\n",
    "        f\"la clave es {clave} y el valor es {valor}\"\n",
    "    )  # con esta sintaxis se desempaquetan en clave y valor (similar a enumerate)"
   ]
  },
  {
   "cell_type": "code",
   "execution_count": 68,
   "id": "knowing-chocolate",
   "metadata": {
    "execution": {
     "iopub.execute_input": "2021-02-04T20:29:04.126168Z",
     "iopub.status.busy": "2021-02-04T20:29:04.124909Z",
     "iopub.status.idle": "2021-02-04T20:29:04.128021Z",
     "shell.execute_reply": "2021-02-04T20:29:04.127524Z"
    },
    "slideshow": {
     "slide_type": "slide"
    }
   },
   "outputs": [
    {
     "name": "stdout",
     "output_type": "stream",
     "text": [
      "clave1\n",
      "2\n",
      "clave3\n"
     ]
    }
   ],
   "source": [
    "for clave in diccionario.keys():\n",
    "    print(clave)"
   ]
  },
  {
   "cell_type": "code",
   "execution_count": 69,
   "id": "damaged-vault",
   "metadata": {
    "execution": {
     "iopub.execute_input": "2021-02-04T20:29:04.133090Z",
     "iopub.status.busy": "2021-02-04T20:29:04.131926Z",
     "iopub.status.idle": "2021-02-04T20:29:04.135152Z",
     "shell.execute_reply": "2021-02-04T20:29:04.134522Z"
    },
    "slideshow": {
     "slide_type": "slide"
    }
   },
   "outputs": [
    {
     "name": "stdout",
     "output_type": "stream",
     "text": [
      "valor1\n",
      "valor2\n",
      "3\n"
     ]
    }
   ],
   "source": [
    "for valor in diccionario.values():\n",
    "    print(valor)"
   ]
  },
  {
   "cell_type": "markdown",
   "id": "dietary-seventh",
   "metadata": {},
   "source": [
    "#### Sets\n",
    "\n",
    "Son similares a los diccionarios (en eficiencia) pero se almacenan solo claves, y tienen algunas operaciones particulares.\n",
    "\n",
    "En particular, no pueden tener elementos iguales (pensar que son conjuntos)"
   ]
  },
  {
   "cell_type": "code",
   "execution_count": 70,
   "id": "designed-absorption",
   "metadata": {
    "execution": {
     "iopub.execute_input": "2021-02-04T20:29:04.138986Z",
     "iopub.status.busy": "2021-02-04T20:29:04.138409Z",
     "iopub.status.idle": "2021-02-04T20:29:04.143376Z",
     "shell.execute_reply": "2021-02-04T20:29:04.142877Z"
    }
   },
   "outputs": [],
   "source": [
    "set??"
   ]
  },
  {
   "cell_type": "code",
   "execution_count": 71,
   "id": "ongoing-gregory",
   "metadata": {
    "execution": {
     "iopub.execute_input": "2021-02-04T20:29:04.148092Z",
     "iopub.status.busy": "2021-02-04T20:29:04.147282Z",
     "iopub.status.idle": "2021-02-04T20:29:04.150015Z",
     "shell.execute_reply": "2021-02-04T20:29:04.150470Z"
    }
   },
   "outputs": [
    {
     "data": {
      "text/plain": [
       "{1, 2, 3}"
      ]
     },
     "execution_count": 1,
     "metadata": {},
     "output_type": "execute_result"
    }
   ],
   "source": [
    "# Se definen como los diccionarios pero sin hacerlos 'clave:valor', solamente una seguidilla de elementos\n",
    "{1, 2, 2, 3}"
   ]
  },
  {
   "cell_type": "code",
   "execution_count": 72,
   "id": "subject-chile",
   "metadata": {
    "execution": {
     "iopub.execute_input": "2021-02-04T20:29:04.156393Z",
     "iopub.status.busy": "2021-02-04T20:29:04.155804Z",
     "iopub.status.idle": "2021-02-04T20:29:04.158516Z",
     "shell.execute_reply": "2021-02-04T20:29:04.158999Z"
    }
   },
   "outputs": [
    {
     "data": {
      "text/plain": [
       "{1, 2, 3}"
      ]
     },
     "execution_count": 1,
     "metadata": {},
     "output_type": "execute_result"
    }
   ],
   "source": [
    "set([1, 2, 2, 3])"
   ]
  },
  {
   "cell_type": "markdown",
   "id": "based-saint",
   "metadata": {},
   "source": [
    "## Condicionales (if...elif...else)\n",
    "\n",
    "```python\n",
    "if <condición_1>:\n",
    "    <hacer algo_1 si se da la condición_1>\n",
    "elif <condición_2>:\n",
    "    <hacer algo_2 si se da la condición_2>\n",
    "...\n",
    "elif <condición_n>:\n",
    "    <hacer algo_n si se da la condición_n>\n",
    "else:\n",
    "    <hacer otra cosa si no dan las anteriores>\n",
    "```\n",
    "\n",
    "Algo importante para notar es que los bloques se definen por **niveles de identacion**."
   ]
  },
  {
   "cell_type": "code",
   "execution_count": 73,
   "id": "monetary-supply",
   "metadata": {
    "execution": {
     "iopub.execute_input": "2021-02-04T20:29:04.164702Z",
     "iopub.status.busy": "2021-02-04T20:29:04.163511Z",
     "iopub.status.idle": "2021-02-04T20:29:04.166843Z",
     "shell.execute_reply": "2021-02-04T20:29:04.166146Z"
    }
   },
   "outputs": [
    {
     "name": "stdout",
     "output_type": "stream",
     "text": [
      "uno\n"
     ]
    }
   ],
   "source": [
    "v = 1\n",
    "if v == 1:\n",
    "    print(\"uno\")\n",
    "elif v == 2:\n",
    "    print(\"dos\")\n",
    "else:\n",
    "    print(\"ni idea\")\n",
    "    print(v)"
   ]
  },
  {
   "cell_type": "markdown",
   "id": "fatal-premises",
   "metadata": {},
   "source": [
    "## Iteraciones\n",
    "\n",
    "```python\n",
    "while cond:\n",
    "    <codigo>\n",
    "```\n",
    "\n",
    "```python\n",
    "for elemento in iterable:\n",
    "    <codigo>\n",
    "```\n",
    "\n",
    "Para iterar sobre un rango de valores, usamos `range`"
   ]
  },
  {
   "cell_type": "code",
   "execution_count": 74,
   "id": "violent-increase",
   "metadata": {
    "execution": {
     "iopub.execute_input": "2021-02-04T20:29:04.172050Z",
     "iopub.status.busy": "2021-02-04T20:29:04.170881Z",
     "iopub.status.idle": "2021-02-04T20:29:04.173937Z",
     "shell.execute_reply": "2021-02-04T20:29:04.173455Z"
    }
   },
   "outputs": [
    {
     "name": "stdout",
     "output_type": "stream",
     "text": [
      "1\n",
      "4\n",
      "7\n",
      "10\n"
     ]
    }
   ],
   "source": [
    "for i in range(1, 11, 3):\n",
    "    print(i)"
   ]
  },
  {
   "cell_type": "markdown",
   "id": "light-territory",
   "metadata": {},
   "source": [
    "## Operadores logicos\n",
    "\n",
    "`not`, `or`, `and`"
   ]
  },
  {
   "cell_type": "code",
   "execution_count": 75,
   "id": "noble-thong",
   "metadata": {
    "execution": {
     "iopub.execute_input": "2021-02-04T20:29:04.178899Z",
     "iopub.status.busy": "2021-02-04T20:29:04.177609Z",
     "iopub.status.idle": "2021-02-04T20:29:04.180739Z",
     "shell.execute_reply": "2021-02-04T20:29:04.180219Z"
    }
   },
   "outputs": [
    {
     "name": "stdout",
     "output_type": "stream",
     "text": [
      "yay\n"
     ]
    }
   ],
   "source": [
    "if True or False:\n",
    "    print(\"yay\")"
   ]
  },
  {
   "cell_type": "code",
   "execution_count": 76,
   "id": "vietnamese-census",
   "metadata": {
    "execution": {
     "iopub.execute_input": "2021-02-04T20:29:04.184648Z",
     "iopub.status.busy": "2021-02-04T20:29:04.184103Z",
     "iopub.status.idle": "2021-02-04T20:29:04.186432Z",
     "shell.execute_reply": "2021-02-04T20:29:04.186913Z"
    }
   },
   "outputs": [
    {
     "data": {
      "text/plain": [
       "False"
      ]
     },
     "execution_count": 1,
     "metadata": {},
     "output_type": "execute_result"
    }
   ],
   "source": [
    "1 == 2"
   ]
  },
  {
   "cell_type": "code",
   "execution_count": 77,
   "id": "cosmetic-affairs",
   "metadata": {
    "execution": {
     "iopub.execute_input": "2021-02-04T20:29:04.191752Z",
     "iopub.status.busy": "2021-02-04T20:29:04.190777Z",
     "iopub.status.idle": "2021-02-04T20:29:04.193419Z",
     "shell.execute_reply": "2021-02-04T20:29:04.193875Z"
    }
   },
   "outputs": [
    {
     "data": {
      "text/plain": [
       "True"
      ]
     },
     "execution_count": 1,
     "metadata": {},
     "output_type": "execute_result"
    }
   ],
   "source": [
    "1 != 2"
   ]
  },
  {
   "cell_type": "markdown",
   "id": "animated-legislation",
   "metadata": {
    "slideshow": {
     "slide_type": "slide"
    }
   },
   "source": [
    "## Funciones en Python"
   ]
  },
  {
   "cell_type": "code",
   "execution_count": 78,
   "id": "lonely-gabriel",
   "metadata": {
    "execution": {
     "iopub.execute_input": "2021-02-04T20:29:04.201664Z",
     "iopub.status.busy": "2021-02-04T20:29:04.200412Z",
     "iopub.status.idle": "2021-02-04T20:29:04.203545Z",
     "shell.execute_reply": "2021-02-04T20:29:04.203047Z"
    },
    "slideshow": {
     "slide_type": "slide"
    }
   },
   "outputs": [
    {
     "name": "stdout",
     "output_type": "stream",
     "text": [
      "True\n",
      "False\n"
     ]
    }
   ],
   "source": [
    "def busqueda_binaria(lista, elemento):\n",
    "    if not lista:\n",
    "        return False\n",
    "    elif len(lista) == 1:\n",
    "        return lista[0] == elemento\n",
    "    mitad = len(lista) // 2  # // es la operación división entera\n",
    "    if lista[mitad] == elemento:\n",
    "        return True\n",
    "    if lista[mitad] > elemento:\n",
    "        return busqueda_binaria(lista[:mitad], elemento)\n",
    "    if lista[mitad] < elemento:\n",
    "        return busqueda_binaria(lista[mitad:], elemento)\n",
    "\n",
    "\n",
    "print(busqueda_binaria([1, 2, 3, 4, 5], 4))\n",
    "print(busqueda_binaria([1, 4, 6, 7, 9, 10], 2))"
   ]
  },
  {
   "cell_type": "code",
   "execution_count": 79,
   "id": "adaptive-bloom",
   "metadata": {
    "execution": {
     "iopub.execute_input": "2021-02-04T20:29:04.208841Z",
     "iopub.status.busy": "2021-02-04T20:29:04.207643Z",
     "iopub.status.idle": "2021-02-04T20:29:04.210782Z",
     "shell.execute_reply": "2021-02-04T20:29:04.210276Z"
    }
   },
   "outputs": [
    {
     "name": "stdout",
     "output_type": "stream",
     "text": [
      "(3, 3, 3)\n"
     ]
    }
   ],
   "source": [
    "def a(b):\n",
    "    if a == 1:\n",
    "        print(a)\n",
    "    return (b, b, b)\n",
    "\n",
    "\n",
    "print(a(3))"
   ]
  },
  {
   "cell_type": "code",
   "execution_count": 80,
   "id": "instrumental-prime",
   "metadata": {
    "execution": {
     "iopub.execute_input": "2021-02-04T20:29:04.215736Z",
     "iopub.status.busy": "2021-02-04T20:29:04.215173Z",
     "iopub.status.idle": "2021-02-04T20:29:04.224766Z",
     "shell.execute_reply": "2021-02-04T20:29:04.225276Z"
    },
    "lines_to_next_cell": 2,
    "slideshow": {
     "slide_type": "slide"
    },
    "tags": [
     "raises-exception"
    ]
   },
   "outputs": [
    {
     "name": "stdout",
     "output_type": "stream",
     "text": [
      "3\n",
      "3.0\n",
      "3.0\n",
      "hola como te va\n",
      "[1, 2, 3, 4, 5]\n"
     ]
    },
    {
     "ename": "TypeError",
     "evalue": "can only concatenate str (not \"int\") to str",
     "output_type": "error",
     "traceback": [
      "\u001b[0;31m---------------------------------------------------------------------------\u001b[0m",
      "\u001b[0;31mTypeError\u001b[0m                                 Traceback (most recent call last)",
      "\u001b[0;32m<ipython-input-1-c2a6a99a90c7>\u001b[0m in \u001b[0;36m<module>\u001b[0;34m\u001b[0m\n\u001b[1;32m      8\u001b[0m \u001b[0mprint\u001b[0m\u001b[0;34m(\u001b[0m\u001b[0msuma\u001b[0m\u001b[0;34m(\u001b[0m\u001b[0;34m\"hola \"\u001b[0m\u001b[0;34m,\u001b[0m \u001b[0;34m\"como te va\"\u001b[0m\u001b[0;34m)\u001b[0m\u001b[0;34m)\u001b[0m\u001b[0;34m\u001b[0m\u001b[0;34m\u001b[0m\u001b[0m\n\u001b[1;32m      9\u001b[0m \u001b[0mprint\u001b[0m\u001b[0;34m(\u001b[0m\u001b[0msuma\u001b[0m\u001b[0;34m(\u001b[0m\u001b[0;34m[\u001b[0m\u001b[0;36m1\u001b[0m\u001b[0;34m,\u001b[0m \u001b[0;36m2\u001b[0m\u001b[0;34m,\u001b[0m \u001b[0;36m3\u001b[0m\u001b[0;34m]\u001b[0m\u001b[0;34m,\u001b[0m \u001b[0;34m[\u001b[0m\u001b[0;36m4\u001b[0m\u001b[0;34m,\u001b[0m \u001b[0;36m5\u001b[0m\u001b[0;34m]\u001b[0m\u001b[0;34m)\u001b[0m\u001b[0;34m)\u001b[0m\u001b[0;34m\u001b[0m\u001b[0;34m\u001b[0m\u001b[0m\n\u001b[0;32m---> 10\u001b[0;31m \u001b[0mprint\u001b[0m\u001b[0;34m(\u001b[0m\u001b[0msuma\u001b[0m\u001b[0;34m(\u001b[0m\u001b[0;34m\"1\"\u001b[0m\u001b[0;34m,\u001b[0m \u001b[0;36m3\u001b[0m\u001b[0;34m)\u001b[0m\u001b[0;34m)\u001b[0m  \u001b[0;31m# Falla\u001b[0m\u001b[0;34m\u001b[0m\u001b[0;34m\u001b[0m\u001b[0m\n\u001b[0m",
      "\u001b[0;32m<ipython-input-1-c2a6a99a90c7>\u001b[0m in \u001b[0;36msuma\u001b[0;34m(a, b)\u001b[0m\n\u001b[1;32m      1\u001b[0m \u001b[0;32mdef\u001b[0m \u001b[0msuma\u001b[0m\u001b[0;34m(\u001b[0m\u001b[0ma\u001b[0m\u001b[0;34m,\u001b[0m \u001b[0mb\u001b[0m\u001b[0;34m)\u001b[0m\u001b[0;34m:\u001b[0m\u001b[0;34m\u001b[0m\u001b[0;34m\u001b[0m\u001b[0m\n\u001b[0;32m----> 2\u001b[0;31m     \u001b[0;32mreturn\u001b[0m \u001b[0ma\u001b[0m \u001b[0;34m+\u001b[0m \u001b[0mb\u001b[0m\u001b[0;34m\u001b[0m\u001b[0;34m\u001b[0m\u001b[0m\n\u001b[0m\u001b[1;32m      3\u001b[0m \u001b[0;34m\u001b[0m\u001b[0m\n\u001b[1;32m      4\u001b[0m \u001b[0;34m\u001b[0m\u001b[0m\n\u001b[1;32m      5\u001b[0m \u001b[0mprint\u001b[0m\u001b[0;34m(\u001b[0m\u001b[0msuma\u001b[0m\u001b[0;34m(\u001b[0m\u001b[0;36m1\u001b[0m\u001b[0;34m,\u001b[0m \u001b[0;36m2\u001b[0m\u001b[0;34m)\u001b[0m\u001b[0;34m)\u001b[0m\u001b[0;34m\u001b[0m\u001b[0;34m\u001b[0m\u001b[0m\n",
      "\u001b[0;31mTypeError\u001b[0m: can only concatenate str (not \"int\") to str"
     ]
    }
   ],
   "source": [
    "def suma(a, b):\n",
    "    return a + b\n",
    "\n",
    "\n",
    "print(suma(1, 2))\n",
    "print(suma(1.0, 2.0))\n",
    "print(suma(1.0, 2))\n",
    "print(suma(\"hola \", \"como te va\"))\n",
    "print(suma([1, 2, 3], [4, 5]))\n",
    "print(suma(\"1\", 3))  # Falla"
   ]
  },
  {
   "cell_type": "code",
   "execution_count": 81,
   "id": "affecting-marketplace",
   "metadata": {
    "execution": {
     "iopub.execute_input": "2021-02-04T20:29:04.330537Z",
     "iopub.status.busy": "2021-02-04T20:29:04.329543Z",
     "iopub.status.idle": "2021-02-04T20:29:04.335068Z",
     "shell.execute_reply": "2021-02-04T20:29:04.334541Z"
    }
   },
   "outputs": [
    {
     "name": "stdout",
     "output_type": "stream",
     "text": [
      "2.0\n"
     ]
    }
   ],
   "source": [
    "# El valor por default de divisor es 1\n",
    "\n",
    "\n",
    "def division(dividendo, divisor=2):\n",
    "    return dividendo / divisor\n",
    "\n",
    "\n",
    "print(division(4))  # Usa el valor por default"
   ]
  },
  {
   "cell_type": "code",
   "execution_count": 82,
   "id": "thirty-craft",
   "metadata": {
    "execution": {
     "iopub.execute_input": "2021-02-04T20:29:04.339192Z",
     "iopub.status.busy": "2021-02-04T20:29:04.338568Z",
     "iopub.status.idle": "2021-02-04T20:29:04.345873Z",
     "shell.execute_reply": "2021-02-04T20:29:04.345281Z"
    },
    "tags": [
     "raises-exception"
    ]
   },
   "outputs": [
    {
     "name": "stdout",
     "output_type": "stream",
     "text": [
      "0.5\n",
      "0.5\n"
     ]
    },
    {
     "ename": "TypeError",
     "evalue": "division() missing 1 required positional argument: 'dividendo'",
     "output_type": "error",
     "traceback": [
      "\u001b[0;31m---------------------------------------------------------------------------\u001b[0m",
      "\u001b[0;31mTypeError\u001b[0m                                 Traceback (most recent call last)",
      "\u001b[0;32m<ipython-input-1-34eff3833138>\u001b[0m in \u001b[0;36m<module>\u001b[0;34m\u001b[0m\n\u001b[1;32m      1\u001b[0m \u001b[0mprint\u001b[0m\u001b[0;34m(\u001b[0m\u001b[0mdivision\u001b[0m\u001b[0;34m(\u001b[0m\u001b[0;36m1\u001b[0m\u001b[0;34m,\u001b[0m \u001b[0;36m2\u001b[0m\u001b[0;34m)\u001b[0m\u001b[0;34m)\u001b[0m  \u001b[0;31m# Parámetros por orden\u001b[0m\u001b[0;34m\u001b[0m\u001b[0;34m\u001b[0m\u001b[0m\n\u001b[1;32m      2\u001b[0m \u001b[0mprint\u001b[0m\u001b[0;34m(\u001b[0m\u001b[0mdivision\u001b[0m\u001b[0;34m(\u001b[0m\u001b[0mdividendo\u001b[0m\u001b[0;34m=\u001b[0m\u001b[0;36m1\u001b[0m\u001b[0;34m,\u001b[0m \u001b[0mdivisor\u001b[0m\u001b[0;34m=\u001b[0m\u001b[0;36m2\u001b[0m\u001b[0;34m)\u001b[0m\u001b[0;34m)\u001b[0m  \u001b[0;31m# Parámetros por nombre\u001b[0m\u001b[0;34m\u001b[0m\u001b[0;34m\u001b[0m\u001b[0m\n\u001b[0;32m----> 3\u001b[0;31m \u001b[0mprint\u001b[0m\u001b[0;34m(\u001b[0m\u001b[0mdivision\u001b[0m\u001b[0;34m(\u001b[0m\u001b[0mdivisor\u001b[0m\u001b[0;34m=\u001b[0m\u001b[0;36m2\u001b[0m\u001b[0;34m)\u001b[0m\u001b[0;34m)\u001b[0m\u001b[0;34m\u001b[0m\u001b[0;34m\u001b[0m\u001b[0m\n\u001b[0m",
      "\u001b[0;31mTypeError\u001b[0m: division() missing 1 required positional argument: 'dividendo'"
     ]
    }
   ],
   "source": [
    "print(division(1, 2))  # Parámetros por orden\n",
    "print(division(dividendo=1, divisor=2))  # Parámetros por nombre\n",
    "print(division(divisor=2))"
   ]
  },
  {
   "cell_type": "code",
   "execution_count": 83,
   "id": "another-mainstream",
   "metadata": {
    "execution": {
     "iopub.execute_input": "2021-02-04T20:29:04.453854Z",
     "iopub.status.busy": "2021-02-04T20:29:04.452791Z",
     "iopub.status.idle": "2021-02-04T20:29:04.458718Z",
     "shell.execute_reply": "2021-02-04T20:29:04.459499Z"
    }
   },
   "outputs": [
    {
     "name": "stdout",
     "output_type": "stream",
     "text": [
      "0.5\n"
     ]
    }
   ],
   "source": [
    "print(division(divisor=2, dividendo=1))"
   ]
  },
  {
   "cell_type": "code",
   "execution_count": 84,
   "id": "sized-latex",
   "metadata": {
    "execution": {
     "iopub.execute_input": "2021-02-04T20:29:04.465096Z",
     "iopub.status.busy": "2021-02-04T20:29:04.464480Z",
     "iopub.status.idle": "2021-02-04T20:29:04.469515Z",
     "shell.execute_reply": "2021-02-04T20:29:04.469051Z"
    }
   },
   "outputs": [
    {
     "name": "stdout",
     "output_type": "stream",
     "text": [
      "['a', 'b', 'c']\n",
      "[1, 2, 3]\n",
      "['hola', ' don', ' pepito']\n",
      "hola -  don -  pepito\n"
     ]
    }
   ],
   "source": [
    "# Funciones básicas ya en el lenguaje\n",
    "# Hechas para funcionar para distintos tipos\n",
    "\n",
    "string_ordenado = sorted('bca')\n",
    "print(string_ordenado)\n",
    "\n",
    "lista_ordenada = sorted([1, 3, 2])\n",
    "print(lista_ordenada)\n",
    "\n",
    "separadas = \"hola, don, pepito\".split(\",\")\n",
    "print(separadas)\n",
    "unidas = \" - \".join(separadas)\n",
    "print(unidas)"
   ]
  },
  {
   "cell_type": "markdown",
   "id": "declared-charleston",
   "metadata": {},
   "source": [
    "## Módulos\n",
    "\n",
    "Para incluir alguna biblioteca de funciones se usa `import`. Pueden ser cosas ya predefinidas en Python (`math`, `random`, etc), nombres de archivos en nuestro directorio (por ejemplo, para `mimodulo.py` ponemos `import mimodulo`) o bibliotecas instaladas por el usuario"
   ]
  },
  {
   "cell_type": "code",
   "execution_count": 85,
   "id": "revolutionary-hygiene",
   "metadata": {
    "execution": {
     "iopub.execute_input": "2021-02-04T20:29:04.473422Z",
     "iopub.status.busy": "2021-02-04T20:29:04.472750Z",
     "iopub.status.idle": "2021-02-04T20:29:04.475558Z",
     "shell.execute_reply": "2021-02-04T20:29:04.474938Z"
    }
   },
   "outputs": [
    {
     "name": "stdout",
     "output_type": "stream",
     "text": [
      "3.141592653589793\n"
     ]
    }
   ],
   "source": [
    "import math\n",
    "\n",
    "print(math.pi)"
   ]
  },
  {
   "cell_type": "code",
   "execution_count": 86,
   "id": "opponent-bangkok",
   "metadata": {
    "execution": {
     "iopub.execute_input": "2021-02-04T20:29:04.480346Z",
     "iopub.status.busy": "2021-02-04T20:29:04.478416Z",
     "iopub.status.idle": "2021-02-04T20:29:04.484379Z",
     "shell.execute_reply": "2021-02-04T20:29:04.483889Z"
    }
   },
   "outputs": [
    {
     "name": "stdout",
     "output_type": "stream",
     "text": [
      "3.141592653589793 2.718281828459045\n"
     ]
    }
   ],
   "source": [
    "from math import pi, e\n",
    "\n",
    "print(pi, e)"
   ]
  },
  {
   "cell_type": "code",
   "execution_count": 87,
   "id": "human-amazon",
   "metadata": {
    "execution": {
     "iopub.execute_input": "2021-02-04T20:29:04.488205Z",
     "iopub.status.busy": "2021-02-04T20:29:04.487657Z",
     "iopub.status.idle": "2021-02-04T20:29:04.491744Z",
     "shell.execute_reply": "2021-02-04T20:29:04.492183Z"
    }
   },
   "outputs": [
    {
     "data": {
      "text/plain": [
       "2"
      ]
     },
     "execution_count": 1,
     "metadata": {},
     "output_type": "execute_result"
    }
   ],
   "source": [
    "math.gcd(56, 78)"
   ]
  },
  {
   "cell_type": "markdown",
   "id": "informed-folks",
   "metadata": {},
   "source": [
    "## Manejo de excepciones\n",
    "\n",
    "Se pueden encapsular errores esperados en un bloque 'try/except' para evitar cortar el flujo del programa"
   ]
  },
  {
   "cell_type": "code",
   "execution_count": 88,
   "id": "atmospheric-table",
   "metadata": {
    "execution": {
     "iopub.execute_input": "2021-02-04T20:29:04.500578Z",
     "iopub.status.busy": "2021-02-04T20:29:04.496738Z",
     "iopub.status.idle": "2021-02-04T20:29:04.503351Z",
     "shell.execute_reply": "2021-02-04T20:29:04.502758Z"
    },
    "tags": [
     "raises-exception"
    ]
   },
   "outputs": [
    {
     "ename": "ZeroDivisionError",
     "evalue": "division by zero",
     "output_type": "error",
     "traceback": [
      "\u001b[0;31m---------------------------------------------------------------------------\u001b[0m",
      "\u001b[0;31mZeroDivisionError\u001b[0m                         Traceback (most recent call last)",
      "\u001b[0;32m<ipython-input-1-f031f77b1a55>\u001b[0m in \u001b[0;36m<module>\u001b[0;34m\u001b[0m\n\u001b[0;32m----> 1\u001b[0;31m \u001b[0mdivision\u001b[0m\u001b[0;34m(\u001b[0m\u001b[0;36m1\u001b[0m\u001b[0;34m,\u001b[0m \u001b[0;36m0\u001b[0m\u001b[0;34m)\u001b[0m  \u001b[0;31m# No se puede dividir por cero\u001b[0m\u001b[0;34m\u001b[0m\u001b[0;34m\u001b[0m\u001b[0m\n\u001b[0m",
      "\u001b[0;32m<ipython-input-1-0d991d7de762>\u001b[0m in \u001b[0;36mdivision\u001b[0;34m(dividendo, divisor)\u001b[0m\n\u001b[1;32m      3\u001b[0m \u001b[0;34m\u001b[0m\u001b[0m\n\u001b[1;32m      4\u001b[0m \u001b[0;32mdef\u001b[0m \u001b[0mdivision\u001b[0m\u001b[0;34m(\u001b[0m\u001b[0mdividendo\u001b[0m\u001b[0;34m,\u001b[0m \u001b[0mdivisor\u001b[0m\u001b[0;34m=\u001b[0m\u001b[0;36m2\u001b[0m\u001b[0;34m)\u001b[0m\u001b[0;34m:\u001b[0m\u001b[0;34m\u001b[0m\u001b[0;34m\u001b[0m\u001b[0m\n\u001b[0;32m----> 5\u001b[0;31m     \u001b[0;32mreturn\u001b[0m \u001b[0mdividendo\u001b[0m \u001b[0;34m/\u001b[0m \u001b[0mdivisor\u001b[0m\u001b[0;34m\u001b[0m\u001b[0;34m\u001b[0m\u001b[0m\n\u001b[0m\u001b[1;32m      6\u001b[0m \u001b[0;34m\u001b[0m\u001b[0m\n\u001b[1;32m      7\u001b[0m \u001b[0;34m\u001b[0m\u001b[0m\n",
      "\u001b[0;31mZeroDivisionError\u001b[0m: division by zero"
     ]
    }
   ],
   "source": [
    "division(1, 0)  # No se puede dividir por cero"
   ]
  },
  {
   "cell_type": "code",
   "execution_count": 89,
   "id": "intellectual-public",
   "metadata": {
    "execution": {
     "iopub.execute_input": "2021-02-04T20:29:04.608255Z",
     "iopub.status.busy": "2021-02-04T20:29:04.607676Z",
     "iopub.status.idle": "2021-02-04T20:29:04.622635Z",
     "shell.execute_reply": "2021-02-04T20:29:04.622136Z"
    }
   },
   "outputs": [
    {
     "name": "stdout",
     "output_type": "stream",
     "text": [
      "No se puede dividir por cero, ojo! division by zero\n",
      "1\n"
     ]
    }
   ],
   "source": [
    "try:\n",
    "    division(1, 0)\n",
    "except (ZeroDivisionError, TypeError) as e:\n",
    "    print('No se puede dividir por cero, ojo!', e)\n",
    "finally:\n",
    "    print(1)"
   ]
  },
  {
   "cell_type": "markdown",
   "id": "pharmaceutical-madonna",
   "metadata": {
    "slideshow": {
     "slide_type": "slide"
    }
   },
   "source": [
    "## Lectura y escritura de archivos"
   ]
  },
  {
   "cell_type": "code",
   "execution_count": 90,
   "id": "announced-invasion",
   "metadata": {
    "execution": {
     "iopub.execute_input": "2021-02-04T20:29:04.627726Z",
     "iopub.status.busy": "2021-02-04T20:29:04.626961Z",
     "iopub.status.idle": "2021-02-04T20:29:04.632643Z",
     "shell.execute_reply": "2021-02-04T20:29:04.632175Z"
    },
    "slideshow": {
     "slide_type": "slide"
    }
   },
   "outputs": [
    {
     "name": "stdout",
     "output_type": "stream",
     "text": [
      "<_io.TextIOWrapper name='archivo.csv' mode='w' encoding='UTF-8'>\n"
     ]
    }
   ],
   "source": [
    "import random\n",
    "\n",
    "with open(\n",
    "    'archivo.csv', 'w'\n",
    ") as archivo:  # Al usar esta sintaxis no es necesario hacer close\n",
    "    archivo.write(\"Alumno, nota\\n\")\n",
    "    # Tambien de forma similar al fprintf se puede hacer:\n",
    "    # print(\"Alumno, nota\\n\", file=archivo)\n",
    "    for i in range(0, 10):\n",
    "        archivo.write(f\"{i},{random.randrange(0,10)}\\n\")\n",
    "\n",
    "print(archivo)  # Comentario aclaratorio:\n",
    "# Las variables definidas en un determinado scope siguen existiendo por fuera del mismo.\n",
    "# Se debe tener cuidado con esto, ya que nada garantiza que por fuera el valor sea el esperado."
   ]
  },
  {
   "cell_type": "code",
   "execution_count": 91,
   "id": "small-speech",
   "metadata": {
    "execution": {
     "iopub.execute_input": "2021-02-04T20:29:04.636415Z",
     "iopub.status.busy": "2021-02-04T20:29:04.635847Z",
     "iopub.status.idle": "2021-02-04T20:29:04.642130Z",
     "shell.execute_reply": "2021-02-04T20:29:04.641547Z"
    },
    "slideshow": {
     "slide_type": "slide"
    }
   },
   "outputs": [
    {
     "name": "stdout",
     "output_type": "stream",
     "text": [
      "Alumno, nota\n",
      "0,5\n",
      "1,0\n",
      "2,2\n",
      "3,8\n",
      "4,1\n",
      "5,2\n",
      "6,4\n",
      "7,1\n",
      "8,7\n",
      "9,1\n"
     ]
    }
   ],
   "source": [
    "with open('archivo.csv', 'r') as f:\n",
    "    for linea in f:\n",
    "        print(linea.strip())"
   ]
  },
  {
   "cell_type": "code",
   "execution_count": 92,
   "id": "bronze-cycle",
   "metadata": {
    "execution": {
     "iopub.execute_input": "2021-02-04T20:29:04.645618Z",
     "iopub.status.busy": "2021-02-04T20:29:04.645053Z",
     "iopub.status.idle": "2021-02-04T20:29:04.649727Z",
     "shell.execute_reply": "2021-02-04T20:29:04.649263Z"
    }
   },
   "outputs": [
    {
     "name": "stdout",
     "output_type": "stream",
     "text": [
      "Alumno, nota\n",
      "0,5\n",
      "1,0\n",
      "2,2\n",
      "3,8\n",
      "4,1\n",
      "5,2\n",
      "6,4\n",
      "7,1\n",
      "8,7\n",
      "9,1\n",
      "\n"
     ]
    }
   ],
   "source": [
    "with open('archivo.csv', 'r') as f:\n",
    "    print(f.read())"
   ]
  },
  {
   "cell_type": "code",
   "execution_count": 93,
   "id": "innocent-plasma",
   "metadata": {
    "execution": {
     "iopub.execute_input": "2021-02-04T20:29:04.653399Z",
     "iopub.status.busy": "2021-02-04T20:29:04.652813Z",
     "iopub.status.idle": "2021-02-04T20:29:04.656788Z",
     "shell.execute_reply": "2021-02-04T20:29:04.656267Z"
    }
   },
   "outputs": [],
   "source": [
    "f = open('archivo.csv', 'w')\n",
    "f.write(\"algo, algo\")\n",
    "f.close()"
   ]
  },
  {
   "cell_type": "markdown",
   "id": "undefined-tuition",
   "metadata": {
    "slideshow": {
     "slide_type": "slide"
    }
   },
   "source": [
    "## Objetos\n",
    "\n",
    "Los objetos tienen metodos y atributos:\n",
    "- Atributos: equivalentes a variables.\n",
    "- Métodos: equivalentes a las primitivas."
   ]
  },
  {
   "cell_type": "markdown",
   "id": "narrow-model",
   "metadata": {
    "slideshow": {
     "slide_type": "slide"
    }
   },
   "source": [
    "### Cómo creo una clase"
   ]
  },
  {
   "cell_type": "code",
   "execution_count": 94,
   "id": "acceptable-belize",
   "metadata": {
    "execution": {
     "iopub.execute_input": "2021-02-04T20:29:04.664526Z",
     "iopub.status.busy": "2021-02-04T20:29:04.663919Z",
     "iopub.status.idle": "2021-02-04T20:29:04.665124Z",
     "shell.execute_reply": "2021-02-04T20:29:04.665564Z"
    },
    "slideshow": {
     "slide_type": "slide"
    }
   },
   "outputs": [],
   "source": [
    "class Nodo(object):\n",
    "    def __init__(self, dato, siguiente=None):\n",
    "        self._dato = dato\n",
    "        self._siguiente = siguiente\n",
    "\n",
    "    @property\n",
    "    def dato(self):\n",
    "        return self._dato\n",
    "\n",
    "    @property\n",
    "    def proximo(self):\n",
    "        return self._siguiente\n",
    "\n",
    "    @proximo.setter\n",
    "    def proximo(self, siguiente):\n",
    "        self._siguiente = siguiente\n",
    "\n",
    "    def __repr__(self):\n",
    "        return str(self.dato)\n",
    "\n",
    "    def __str__(self):\n",
    "        return str(self.dato)"
   ]
  },
  {
   "cell_type": "code",
   "execution_count": 95,
   "id": "supposed-cassette",
   "metadata": {
    "execution": {
     "iopub.execute_input": "2021-02-04T20:29:04.670551Z",
     "iopub.status.busy": "2021-02-04T20:29:04.669333Z",
     "iopub.status.idle": "2021-02-04T20:29:04.672387Z",
     "shell.execute_reply": "2021-02-04T20:29:04.671904Z"
    },
    "slideshow": {
     "slide_type": "slide"
    }
   },
   "outputs": [
    {
     "name": "stdout",
     "output_type": "stream",
     "text": [
      "hola\n"
     ]
    }
   ],
   "source": [
    "nodo = Nodo(\"hola\")\n",
    "print(nodo)"
   ]
  },
  {
   "cell_type": "code",
   "execution_count": 96,
   "id": "supposed-effort",
   "metadata": {
    "execution": {
     "iopub.execute_input": "2021-02-04T20:29:04.678072Z",
     "iopub.status.busy": "2021-02-04T20:29:04.676781Z",
     "iopub.status.idle": "2021-02-04T20:29:04.680013Z",
     "shell.execute_reply": "2021-02-04T20:29:04.679463Z"
    },
    "slideshow": {
     "slide_type": "slide"
    }
   },
   "outputs": [
    {
     "name": "stdout",
     "output_type": "stream",
     "text": [
      "[hola, lala]\n"
     ]
    }
   ],
   "source": [
    "nodo2 = Nodo(\"lala\")\n",
    "print([nodo, nodo2])"
   ]
  },
  {
   "cell_type": "code",
   "execution_count": 97,
   "id": "spectacular-clear",
   "metadata": {
    "execution": {
     "iopub.execute_input": "2021-02-04T20:29:04.685592Z",
     "iopub.status.busy": "2021-02-04T20:29:04.683598Z",
     "iopub.status.idle": "2021-02-04T20:29:04.687431Z",
     "shell.execute_reply": "2021-02-04T20:29:04.686938Z"
    },
    "slideshow": {
     "slide_type": "slide"
    }
   },
   "outputs": [
    {
     "name": "stdout",
     "output_type": "stream",
     "text": [
      "hola\n"
     ]
    }
   ],
   "source": [
    "nodo3 = nodo.dato\n",
    "print(nodo3)"
   ]
  },
  {
   "cell_type": "markdown",
   "id": "concrete-figure",
   "metadata": {
    "slideshow": {
     "slide_type": "slide"
    }
   },
   "source": [
    "### Ejemplo: Lista Enlazada"
   ]
  },
  {
   "cell_type": "code",
   "execution_count": 98,
   "id": "restricted-scott",
   "metadata": {
    "execution": {
     "iopub.execute_input": "2021-02-04T20:29:04.698322Z",
     "iopub.status.busy": "2021-02-04T20:29:04.697424Z",
     "iopub.status.idle": "2021-02-04T20:29:04.699366Z",
     "shell.execute_reply": "2021-02-04T20:29:04.698872Z"
    },
    "slideshow": {
     "slide_type": "slide"
    }
   },
   "outputs": [],
   "source": [
    "class ListaEnlazada(object):\n",
    "    def __init__(self):\n",
    "        self._primero = None\n",
    "        self._ultimo = None\n",
    "        self._largo = 0\n",
    "\n",
    "    def __len__(self):\n",
    "        return self._largo\n",
    "\n",
    "    def insertar_al_principio(self, dato):\n",
    "        nodo = Nodo(dato, self._primero)\n",
    "        self._primero = nodo\n",
    "        self._largo += 1\n",
    "        if self._largo == 1:\n",
    "            self._ultimo = nodo\n",
    "\n",
    "    def insertar_al_final(self, dato):\n",
    "        if self._largo != 0:\n",
    "            nodo = Nodo(dato)\n",
    "            nodo_anterior = self._ultimo\n",
    "            nodo_anterior._siguiente = nodo\n",
    "            self._ultimo = nodo\n",
    "            self._largo += 1\n",
    "        else:\n",
    "            self.insertar_al_principio(dato)\n",
    "\n",
    "    @property\n",
    "    def primero(self):\n",
    "        return self._primero.dato\n",
    "\n",
    "    def borrar_primero(self):\n",
    "        dato = self.primero.dato\n",
    "        self._primero = self.primero.siguiente\n",
    "        self._largo -= 1\n",
    "        if self._largo == 0:\n",
    "            self._ultimo = None\n",
    "        return dato\n",
    "\n",
    "    def __str__(self):\n",
    "        datos = []\n",
    "        nodo_actual = self._primero\n",
    "        while nodo_actual:\n",
    "            datos.append(nodo_actual.dato)\n",
    "            nodo_actual = nodo_actual.proximo\n",
    "        return \" -> \".join(datos)\n",
    "\n",
    "    def __repr__(self):\n",
    "        return self.__str__()"
   ]
  },
  {
   "cell_type": "code",
   "execution_count": 99,
   "id": "literary-eligibility",
   "metadata": {
    "execution": {
     "iopub.execute_input": "2021-02-04T20:29:04.705583Z",
     "iopub.status.busy": "2021-02-04T20:29:04.703648Z",
     "iopub.status.idle": "2021-02-04T20:29:04.707433Z",
     "shell.execute_reply": "2021-02-04T20:29:04.706134Z"
    },
    "slideshow": {
     "slide_type": "slide"
    }
   },
   "outputs": [
    {
     "data": {
      "text/plain": [
       "2"
      ]
     },
     "execution_count": 1,
     "metadata": {},
     "output_type": "execute_result"
    }
   ],
   "source": [
    "lista = ListaEnlazada()\n",
    "lista.insertar_al_principio(\"Primer Dato\")\n",
    "lista.insertar_al_principio(\"Primer primer Dato\")\n",
    "len(lista)"
   ]
  },
  {
   "cell_type": "code",
   "execution_count": 100,
   "id": "loved-comment",
   "metadata": {
    "execution": {
     "iopub.execute_input": "2021-02-04T20:29:04.712052Z",
     "iopub.status.busy": "2021-02-04T20:29:04.711250Z",
     "iopub.status.idle": "2021-02-04T20:29:04.713916Z",
     "shell.execute_reply": "2021-02-04T20:29:04.714373Z"
    }
   },
   "outputs": [
    {
     "data": {
      "text/plain": [
       "Primer primer Dato -> Primer Dato"
      ]
     },
     "execution_count": 1,
     "metadata": {},
     "output_type": "execute_result"
    }
   ],
   "source": [
    "lista"
   ]
  },
  {
   "cell_type": "code",
   "execution_count": 101,
   "id": "peripheral-ending",
   "metadata": {
    "execution": {
     "iopub.execute_input": "2021-02-04T20:29:04.719282Z",
     "iopub.status.busy": "2021-02-04T20:29:04.718014Z",
     "iopub.status.idle": "2021-02-04T20:29:04.721086Z",
     "shell.execute_reply": "2021-02-04T20:29:04.720600Z"
    },
    "slideshow": {
     "slide_type": "slide"
    }
   },
   "outputs": [
    {
     "name": "stdout",
     "output_type": "stream",
     "text": [
      "Primer primer Dato\n"
     ]
    }
   ],
   "source": [
    "elemento = lista.primero\n",
    "print(elemento)"
   ]
  },
  {
   "cell_type": "markdown",
   "id": "macro-carrier",
   "metadata": {},
   "source": [
    "## Recursos\n",
    "\n",
    "* [Taller de Python de Algoritmos II](https://github.com/algoritmos-rw/algo2_apuntes)\n",
    "\n",
    "* [Documentación de Python 3](https://docs.python.org/3/tutorial/)\n",
    "\n",
    "* [Apunte de Algoritmos y Programación I](https://algoritmos1rw.ddns.net/material)\n",
    "\n",
    "* [Automate the Boring Stuff with Python](http://automatetheboringstuff.com/)\n",
    "\n",
    "* [Curso Python](https://pythoncurso.github.io)\n",
    "\n",
    "* [Python Tutor](http://pythontutor.com/)\n",
    "\n",
    "* [Learn Python3 in Y minutes](https://learnxinyminutes.com/docs/python3/)\n",
    "\n",
    "* [Bibliografía de Algoritmos y Programación I](https://algoritmos1rw.ddns.net/bibliografia)"
   ]
  }
 ],
 "metadata": {
  "jupytext": {
   "encoding": "# -*- coding: utf-8 -*-",
   "formats": "ipynb,py:light"
  },
  "kernelspec": {
   "display_name": "Python 3 (venv)",
   "language": "python",
   "name": "python3"
  },
  "language_info": {
   "codemirror_mode": {
    "name": "ipython",
    "version": 3
   },
   "file_extension": ".py",
   "mimetype": "text/x-python",
   "name": "python",
   "nbconvert_exporter": "python",
   "pygments_lexer": "ipython3",
   "version": "3.7.9"
  }
 },
 "nbformat": 4,
 "nbformat_minor": 5
}
