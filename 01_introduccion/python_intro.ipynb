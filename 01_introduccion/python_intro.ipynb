{
 "cells": [
  {
   "cell_type": "markdown",
   "id": "8acbb6ef",
   "metadata": {},
   "source": [
    "# Python"
   ]
  },
  {
   "cell_type": "markdown",
   "id": "31468345",
   "metadata": {
    "slideshow": {
     "slide_type": "slide"
    }
   },
   "source": [
    "## Un poco de Historia"
   ]
  },
  {
   "cell_type": "markdown",
   "id": "a2383f79",
   "metadata": {
    "slideshow": {
     "slide_type": "subslide"
    }
   },
   "source": [
    "Python fue creado a finales de los años 80 por un programador holandés llamado **Guido van Rossum**,\n",
    "quien sigue siendo aún hoy el líder del desarrollo del lenguaje.\n",
    "\n",
    "(Edit julio 2018: [ya no más](https://www.mail-archive.com/python-committers@python.org/msg05628.html))"
   ]
  },
  {
   "cell_type": "markdown",
   "id": "198ed3eb",
   "metadata": {
    "slideshow": {
     "slide_type": "subslide"
    }
   },
   "source": [
    "El nombre del lenguaje proviene de los humoristas británicos Monty Python.\n",
    "\n",
    ">*\"I chose Python as a working title for the project, being in a slightly irreverent mood (and a big fan of Monty Python's Flying Circus).\"*"
   ]
  },
  {
   "cell_type": "markdown",
   "id": "4d2abf03",
   "metadata": {
    "slideshow": {
     "slide_type": "slide"
    }
   },
   "source": [
    "## Caracteristicas\n",
    "\n",
    "- Interpretado\n",
    "- Tipado dinamico\n",
    "- Multiparadigma\n",
    "- Alto nivel\n",
    "- Tiene un recolector de basura (no hay malloc, free, realloc, etc)"
   ]
  },
  {
   "cell_type": "markdown",
   "id": "3de541d8",
   "metadata": {},
   "source": [
    "## ¿Cómo empezar?\n",
    "\n",
    "* Al ser un lenguaje *interpretado*, se puede ir escribiendo a medida que se ejecuta, sin necesidad de compilar de antemano! Solamente hace falta escribir `python` o `python3` en una terminal para empezar\n",
    "\n",
    "* También, permite escribir archivos y correrlos. Crear un archivo con extensión `.py` y luego correr `python miarchivo.py` en laterminal"
   ]
  },
  {
   "cell_type": "markdown",
   "id": "6d6d8e25",
   "metadata": {
    "slideshow": {
     "slide_type": "slide"
    }
   },
   "source": [
    "## El Zen de Python"
   ]
  },
  {
   "cell_type": "code",
   "execution_count": 1,
   "id": "1d53e3ca",
   "metadata": {
    "execution": {
     "iopub.execute_input": "2021-07-12T23:20:43.737718Z",
     "iopub.status.busy": "2021-07-12T23:20:43.737188Z",
     "iopub.status.idle": "2021-07-12T23:20:43.788664Z",
     "shell.execute_reply": "2021-07-12T23:20:43.789752Z"
    },
    "slideshow": {
     "slide_type": "slide"
    }
   },
   "outputs": [
    {
     "name": "stdout",
     "output_type": "stream",
     "text": [
      "The Zen of Python, by Tim Peters\n",
      "\n",
      "Beautiful is better than ugly.\n",
      "Explicit is better than implicit.\n",
      "Simple is better than complex.\n",
      "Complex is better than complicated.\n",
      "Flat is better than nested.\n",
      "Sparse is better than dense.\n",
      "Readability counts.\n",
      "Special cases aren't special enough to break the rules.\n",
      "Although practicality beats purity.\n",
      "Errors should never pass silently.\n",
      "Unless explicitly silenced.\n",
      "In the face of ambiguity, refuse the temptation to guess.\n",
      "There should be one-- and preferably only one --obvious way to do it.\n",
      "Although that way may not be obvious at first unless you're Dutch.\n",
      "Now is better than never.\n",
      "Although never is often better than *right* now.\n",
      "If the implementation is hard to explain, it's a bad idea.\n",
      "If the implementation is easy to explain, it may be a good idea.\n",
      "Namespaces are one honking great idea -- let's do more of those!\n"
     ]
    }
   ],
   "source": [
    "import this"
   ]
  },
  {
   "cell_type": "markdown",
   "id": "cb8f767d",
   "metadata": {
    "slideshow": {
     "slide_type": "slide"
    }
   },
   "source": [
    "## Conocimientos Básicos de Python: Variables y Tipos"
   ]
  },
  {
   "cell_type": "code",
   "execution_count": 2,
   "id": "86754315",
   "metadata": {
    "execution": {
     "iopub.execute_input": "2021-07-12T23:20:43.794750Z",
     "iopub.status.busy": "2021-07-12T23:20:43.793255Z",
     "iopub.status.idle": "2021-07-12T23:20:43.798574Z",
     "shell.execute_reply": "2021-07-12T23:20:43.797986Z"
    },
    "slideshow": {
     "slide_type": "slide"
    }
   },
   "outputs": [
    {
     "name": "stdout",
     "output_type": "stream",
     "text": [
      "Hello World!\n"
     ]
    }
   ],
   "source": [
    "# Este es un comentario\n",
    "\n",
    "print(\"Hello World!\")"
   ]
  },
  {
   "cell_type": "markdown",
   "id": "d03a5f64",
   "metadata": {},
   "source": [
    "Los strings en python puden escribirse tanto con comillas simples (`'`) como comillas dobles (`\"`). Normalmente vemos texto entre comillas triples para escribir _docstrings_, segun la guia de estilo de Python, el PEP8."
   ]
  },
  {
   "cell_type": "code",
   "execution_count": 3,
   "id": "736b0795",
   "metadata": {
    "execution": {
     "iopub.execute_input": "2021-07-12T23:20:43.801851Z",
     "iopub.status.busy": "2021-07-12T23:20:43.801313Z",
     "iopub.status.idle": "2021-07-12T23:20:43.812915Z",
     "shell.execute_reply": "2021-07-12T23:20:43.813604Z"
    }
   },
   "outputs": [
    {
     "data": {
      "text/plain": [
       "'Esto es un docstring.\\n'"
      ]
     },
     "execution_count": 3,
     "metadata": {},
     "output_type": "execute_result"
    }
   ],
   "source": [
    "\"\"\"Esto es un docstring.\n",
    "\"\"\""
   ]
  },
  {
   "cell_type": "markdown",
   "id": "b735d611",
   "metadata": {},
   "source": [
    "### Declaracion de variables"
   ]
  },
  {
   "cell_type": "code",
   "execution_count": 4,
   "id": "839a80a9",
   "metadata": {
    "execution": {
     "iopub.execute_input": "2021-07-12T23:20:43.819419Z",
     "iopub.status.busy": "2021-07-12T23:20:43.818292Z",
     "iopub.status.idle": "2021-07-12T23:20:43.821594Z",
     "shell.execute_reply": "2021-07-12T23:20:43.822034Z"
    }
   },
   "outputs": [
    {
     "name": "stdout",
     "output_type": "stream",
     "text": [
      "Hola\n"
     ]
    }
   ],
   "source": [
    "string = 'Hola'\n",
    "print(string)"
   ]
  },
  {
   "cell_type": "code",
   "execution_count": 5,
   "id": "16b38e2b",
   "metadata": {
    "execution": {
     "iopub.execute_input": "2021-07-12T23:20:43.826191Z",
     "iopub.status.busy": "2021-07-12T23:20:43.825654Z",
     "iopub.status.idle": "2021-07-12T23:20:43.827902Z",
     "shell.execute_reply": "2021-07-12T23:20:43.828359Z"
    }
   },
   "outputs": [
    {
     "name": "stdout",
     "output_type": "stream",
     "text": [
      "1\n"
     ]
    }
   ],
   "source": [
    "entero = 1\n",
    "print(entero)"
   ]
  },
  {
   "cell_type": "code",
   "execution_count": 6,
   "id": "9924435a",
   "metadata": {
    "execution": {
     "iopub.execute_input": "2021-07-12T23:20:43.833356Z",
     "iopub.status.busy": "2021-07-12T23:20:43.831787Z",
     "iopub.status.idle": "2021-07-12T23:20:43.837063Z",
     "shell.execute_reply": "2021-07-12T23:20:43.837508Z"
    }
   },
   "outputs": [
    {
     "name": "stdout",
     "output_type": "stream",
     "text": [
      "1.0\n"
     ]
    }
   ],
   "source": [
    "flotante = 1.0\n",
    "print(flotante)"
   ]
  },
  {
   "cell_type": "code",
   "execution_count": 7,
   "id": "d1232833",
   "metadata": {
    "execution": {
     "iopub.execute_input": "2021-07-12T23:20:43.842339Z",
     "iopub.status.busy": "2021-07-12T23:20:43.841637Z",
     "iopub.status.idle": "2021-07-12T23:20:43.846237Z",
     "shell.execute_reply": "2021-07-12T23:20:43.845600Z"
    }
   },
   "outputs": [
    {
     "name": "stdout",
     "output_type": "stream",
     "text": [
      "(1, 1.0)\n"
     ]
    }
   ],
   "source": [
    "tupla = (entero, flotante)\n",
    "print(tupla)"
   ]
  },
  {
   "cell_type": "code",
   "execution_count": 8,
   "id": "2044f52b",
   "metadata": {
    "execution": {
     "iopub.execute_input": "2021-07-12T23:20:43.851098Z",
     "iopub.status.busy": "2021-07-12T23:20:43.850410Z",
     "iopub.status.idle": "2021-07-12T23:20:43.854539Z",
     "shell.execute_reply": "2021-07-12T23:20:43.854063Z"
    }
   },
   "outputs": [
    {
     "name": "stdout",
     "output_type": "stream",
     "text": [
      "(1, 1.0, 'Hola')\n"
     ]
    }
   ],
   "source": [
    "nupla = (entero, flotante, string)\n",
    "print(nupla)"
   ]
  },
  {
   "cell_type": "code",
   "execution_count": 9,
   "id": "9829a911",
   "metadata": {
    "execution": {
     "iopub.execute_input": "2021-07-12T23:20:43.859532Z",
     "iopub.status.busy": "2021-07-12T23:20:43.858991Z",
     "iopub.status.idle": "2021-07-12T23:20:43.861551Z",
     "shell.execute_reply": "2021-07-12T23:20:43.861996Z"
    }
   },
   "outputs": [
    {
     "name": "stdout",
     "output_type": "stream",
     "text": [
      "[1, 1.0, 'Hola']\n"
     ]
    }
   ],
   "source": [
    "lista = [entero, flotante, string]\n",
    "print(lista)"
   ]
  },
  {
   "cell_type": "code",
   "execution_count": 10,
   "id": "3cb288ba",
   "metadata": {
    "execution": {
     "iopub.execute_input": "2021-07-12T23:20:43.866359Z",
     "iopub.status.busy": "2021-07-12T23:20:43.864421Z",
     "iopub.status.idle": "2021-07-12T23:20:43.868482Z",
     "shell.execute_reply": "2021-07-12T23:20:43.868935Z"
    }
   },
   "outputs": [
    {
     "name": "stdout",
     "output_type": "stream",
     "text": [
      "{'1': (1, 1.0), 50: (1, 1.0, 'Hola'), '3': 1}\n"
     ]
    }
   ],
   "source": [
    "diccionario = {'1': tupla, 50: nupla, '3': entero}\n",
    "print(diccionario)"
   ]
  },
  {
   "cell_type": "code",
   "execution_count": 11,
   "id": "bb8dc076",
   "metadata": {
    "execution": {
     "iopub.execute_input": "2021-07-12T23:20:43.874468Z",
     "iopub.status.busy": "2021-07-12T23:20:43.873222Z",
     "iopub.status.idle": "2021-07-12T23:20:43.876611Z",
     "shell.execute_reply": "2021-07-12T23:20:43.875975Z"
    }
   },
   "outputs": [
    {
     "name": "stdout",
     "output_type": "stream",
     "text": [
      "{1, 2}\n"
     ]
    }
   ],
   "source": [
    "conjunto = set([1, 2])\n",
    "print(conjunto)"
   ]
  },
  {
   "cell_type": "code",
   "execution_count": 12,
   "id": "5e035509",
   "metadata": {
    "execution": {
     "iopub.execute_input": "2021-07-12T23:20:43.880256Z",
     "iopub.status.busy": "2021-07-12T23:20:43.879608Z",
     "iopub.status.idle": "2021-07-12T23:20:43.883507Z",
     "shell.execute_reply": "2021-07-12T23:20:43.882879Z"
    }
   },
   "outputs": [
    {
     "name": "stdout",
     "output_type": "stream",
     "text": [
      "True\n"
     ]
    }
   ],
   "source": [
    "booleano = True\n",
    "print(booleano)"
   ]
  },
  {
   "cell_type": "code",
   "execution_count": 13,
   "id": "60ce2a62",
   "metadata": {
    "execution": {
     "iopub.execute_input": "2021-07-12T23:20:43.889897Z",
     "iopub.status.busy": "2021-07-12T23:20:43.888219Z",
     "iopub.status.idle": "2021-07-12T23:20:43.892586Z",
     "shell.execute_reply": "2021-07-12T23:20:43.891918Z"
    }
   },
   "outputs": [
    {
     "name": "stdout",
     "output_type": "stream",
     "text": [
      "None\n"
     ]
    }
   ],
   "source": [
    "nada = None\n",
    "print(nada)"
   ]
  },
  {
   "cell_type": "markdown",
   "id": "e3846df6",
   "metadata": {},
   "source": [
    "Ojo que las variables pueden cambiar de tipo!"
   ]
  },
  {
   "cell_type": "code",
   "execution_count": 14,
   "id": "05127a3f",
   "metadata": {
    "execution": {
     "iopub.execute_input": "2021-07-12T23:20:43.897424Z",
     "iopub.status.busy": "2021-07-12T23:20:43.896864Z",
     "iopub.status.idle": "2021-07-12T23:20:43.898884Z",
     "shell.execute_reply": "2021-07-12T23:20:43.899409Z"
    }
   },
   "outputs": [
    {
     "name": "stdout",
     "output_type": "stream",
     "text": [
      "1\n",
      "<class 'int'>\n"
     ]
    }
   ],
   "source": [
    "elemento = 1\n",
    "print(elemento)\n",
    "print(type(elemento))"
   ]
  },
  {
   "cell_type": "code",
   "execution_count": 15,
   "id": "f1962f9a",
   "metadata": {
    "execution": {
     "iopub.execute_input": "2021-07-12T23:20:43.903684Z",
     "iopub.status.busy": "2021-07-12T23:20:43.903143Z",
     "iopub.status.idle": "2021-07-12T23:20:43.906250Z",
     "shell.execute_reply": "2021-07-12T23:20:43.905772Z"
    }
   },
   "outputs": [
    {
     "name": "stdout",
     "output_type": "stream",
     "text": [
      "1\n",
      "<class 'str'>\n"
     ]
    }
   ],
   "source": [
    "elemento = str(1)\n",
    "print(elemento)\n",
    "print(type(elemento))"
   ]
  },
  {
   "cell_type": "code",
   "execution_count": 16,
   "id": "f5d406e9",
   "metadata": {
    "execution": {
     "iopub.execute_input": "2021-07-12T23:20:43.910364Z",
     "iopub.status.busy": "2021-07-12T23:20:43.909763Z",
     "iopub.status.idle": "2021-07-12T23:20:43.913032Z",
     "shell.execute_reply": "2021-07-12T23:20:43.912485Z"
    }
   },
   "outputs": [
    {
     "name": "stdout",
     "output_type": "stream",
     "text": [
      "[2]\n",
      "<class 'list'>\n"
     ]
    }
   ],
   "source": [
    "elemento = [2]\n",
    "\n",
    "print(elemento)\n",
    "print(type(elemento))"
   ]
  },
  {
   "cell_type": "markdown",
   "id": "a3746996",
   "metadata": {},
   "source": [
    "### Tipos basicos"
   ]
  },
  {
   "cell_type": "markdown",
   "id": "2366b61e",
   "metadata": {
    "slideshow": {
     "slide_type": "slide"
    }
   },
   "source": [
    "#### Listas de Python"
   ]
  },
  {
   "cell_type": "code",
   "execution_count": 17,
   "id": "70c6ffbd",
   "metadata": {
    "execution": {
     "iopub.execute_input": "2021-07-12T23:20:43.917928Z",
     "iopub.status.busy": "2021-07-12T23:20:43.917371Z",
     "iopub.status.idle": "2021-07-12T23:20:43.920234Z",
     "shell.execute_reply": "2021-07-12T23:20:43.920651Z"
    }
   },
   "outputs": [
    {
     "data": {
      "text/plain": [
       "[]"
      ]
     },
     "execution_count": 17,
     "metadata": {},
     "output_type": "execute_result"
    }
   ],
   "source": [
    "lista = list()\n",
    "lista"
   ]
  },
  {
   "cell_type": "code",
   "execution_count": 18,
   "id": "d0bc8cc9",
   "metadata": {
    "execution": {
     "iopub.execute_input": "2021-07-12T23:20:43.925336Z",
     "iopub.status.busy": "2021-07-12T23:20:43.924691Z",
     "iopub.status.idle": "2021-07-12T23:20:43.926898Z",
     "shell.execute_reply": "2021-07-12T23:20:43.927337Z"
    },
    "slideshow": {
     "slide_type": "slide"
    }
   },
   "outputs": [
    {
     "data": {
      "text/plain": [
       "[]"
      ]
     },
     "execution_count": 18,
     "metadata": {},
     "output_type": "execute_result"
    }
   ],
   "source": [
    "lista = []\n",
    "lista"
   ]
  },
  {
   "cell_type": "code",
   "execution_count": 19,
   "id": "50c1a43a",
   "metadata": {
    "execution": {
     "iopub.execute_input": "2021-07-12T23:20:43.931916Z",
     "iopub.status.busy": "2021-07-12T23:20:43.931220Z",
     "iopub.status.idle": "2021-07-12T23:20:43.935665Z",
     "shell.execute_reply": "2021-07-12T23:20:43.935178Z"
    },
    "slideshow": {
     "slide_type": "slide"
    }
   },
   "outputs": [
    {
     "data": {
      "text/plain": [
       "[1, 2, 3, 4]"
      ]
     },
     "execution_count": 19,
     "metadata": {},
     "output_type": "execute_result"
    }
   ],
   "source": [
    "lista = [1, 2, 3, 4]\n",
    "lista"
   ]
  },
  {
   "cell_type": "code",
   "execution_count": 20,
   "id": "2fffc1cd",
   "metadata": {
    "execution": {
     "iopub.execute_input": "2021-07-12T23:20:43.941032Z",
     "iopub.status.busy": "2021-07-12T23:20:43.940474Z",
     "iopub.status.idle": "2021-07-12T23:20:43.943741Z",
     "shell.execute_reply": "2021-07-12T23:20:43.943230Z"
    },
    "slideshow": {
     "slide_type": "slide"
    }
   },
   "outputs": [
    {
     "data": {
      "text/plain": [
       "[1, 2, 3, 4, 1, 'dos', 3.0]"
      ]
     },
     "execution_count": 20,
     "metadata": {},
     "output_type": "execute_result"
    }
   ],
   "source": [
    "lista.append(1)  # Inserto un 1 al final\n",
    "lista.append(\"dos\")  # Inserto un \"dos\" al final\n",
    "lista.append(3.0)  # Inserto un 3.0 al final\n",
    "lista"
   ]
  },
  {
   "cell_type": "code",
   "execution_count": 21,
   "id": "b1019a47",
   "metadata": {
    "execution": {
     "iopub.execute_input": "2021-07-12T23:20:43.948166Z",
     "iopub.status.busy": "2021-07-12T23:20:43.947593Z",
     "iopub.status.idle": "2021-07-12T23:20:43.949439Z",
     "shell.execute_reply": "2021-07-12T23:20:43.949952Z"
    }
   },
   "outputs": [
    {
     "name": "stdout",
     "output_type": "stream",
     "text": [
      "[1, 2, 10, 3, 4, 1, 'dos', 3.0]\n"
     ]
    }
   ],
   "source": [
    "lista.insert(2, 10)  # Inserto en posicion 2 un 10\n",
    "print(lista)"
   ]
  },
  {
   "cell_type": "code",
   "execution_count": 22,
   "id": "522e34df",
   "metadata": {
    "execution": {
     "iopub.execute_input": "2021-07-12T23:20:43.954718Z",
     "iopub.status.busy": "2021-07-12T23:20:43.954127Z",
     "iopub.status.idle": "2021-07-12T23:20:43.956414Z",
     "shell.execute_reply": "2021-07-12T23:20:43.956857Z"
    }
   },
   "outputs": [
    {
     "data": {
      "text/plain": [
       "8"
      ]
     },
     "execution_count": 22,
     "metadata": {},
     "output_type": "execute_result"
    }
   ],
   "source": [
    "len(lista)"
   ]
  },
  {
   "cell_type": "code",
   "execution_count": 23,
   "id": "ef34f63f",
   "metadata": {
    "execution": {
     "iopub.execute_input": "2021-07-12T23:20:43.961312Z",
     "iopub.status.busy": "2021-07-12T23:20:43.960759Z",
     "iopub.status.idle": "2021-07-12T23:20:43.964930Z",
     "shell.execute_reply": "2021-07-12T23:20:43.964458Z"
    }
   },
   "outputs": [
    {
     "data": {
      "text/plain": [
       "3.0"
      ]
     },
     "execution_count": 23,
     "metadata": {},
     "output_type": "execute_result"
    }
   ],
   "source": [
    "lista.pop()"
   ]
  },
  {
   "cell_type": "code",
   "execution_count": 24,
   "id": "01e08e30",
   "metadata": {
    "execution": {
     "iopub.execute_input": "2021-07-12T23:20:43.969320Z",
     "iopub.status.busy": "2021-07-12T23:20:43.968771Z",
     "iopub.status.idle": "2021-07-12T23:20:43.973160Z",
     "shell.execute_reply": "2021-07-12T23:20:43.972687Z"
    }
   },
   "outputs": [
    {
     "data": {
      "text/plain": [
       "[1, 2, 10, 3, 4, 1, 'dos']"
      ]
     },
     "execution_count": 24,
     "metadata": {},
     "output_type": "execute_result"
    }
   ],
   "source": [
    "lista"
   ]
  },
  {
   "cell_type": "code",
   "execution_count": 25,
   "id": "f88d65c5",
   "metadata": {
    "execution": {
     "iopub.execute_input": "2021-07-12T23:20:43.977925Z",
     "iopub.status.busy": "2021-07-12T23:20:43.977137Z",
     "iopub.status.idle": "2021-07-12T23:20:43.981256Z",
     "shell.execute_reply": "2021-07-12T23:20:43.981768Z"
    }
   },
   "outputs": [
    {
     "data": {
      "text/plain": [
       "2"
      ]
     },
     "execution_count": 25,
     "metadata": {},
     "output_type": "execute_result"
    }
   ],
   "source": [
    "lista.index(10)"
   ]
  },
  {
   "cell_type": "code",
   "execution_count": 26,
   "id": "8bd95d53",
   "metadata": {
    "execution": {
     "iopub.execute_input": "2021-07-12T23:20:43.986287Z",
     "iopub.status.busy": "2021-07-12T23:20:43.984157Z",
     "iopub.status.idle": "2021-07-12T23:20:43.995108Z",
     "shell.execute_reply": "2021-07-12T23:20:43.994568Z"
    }
   },
   "outputs": [
    {
     "data": {
      "text/plain": [
       "[1, 2, 3, 4, 1, 'dos']"
      ]
     },
     "execution_count": 26,
     "metadata": {},
     "output_type": "execute_result"
    }
   ],
   "source": [
    "lista.remove(10)\n",
    "lista"
   ]
  },
  {
   "cell_type": "code",
   "execution_count": 27,
   "id": "2227277e",
   "metadata": {
    "execution": {
     "iopub.execute_input": "2021-07-12T23:20:43.999011Z",
     "iopub.status.busy": "2021-07-12T23:20:43.998434Z",
     "iopub.status.idle": "2021-07-12T23:20:44.060375Z",
     "shell.execute_reply": "2021-07-12T23:20:44.061075Z"
    },
    "tags": [
     "raises-exception"
    ]
   },
   "outputs": [
    {
     "name": "stdout",
     "output_type": "stream",
     "text": [
      "1\n",
      "2\n",
      "2\n",
      "3\n",
      "3\n",
      "4\n",
      "4\n",
      "5\n",
      "1\n",
      "2\n",
      "dos\n"
     ]
    },
    {
     "ename": "TypeError",
     "evalue": "can only concatenate str (not \"int\") to str",
     "output_type": "error",
     "traceback": [
      "\u001b[0;31m---------------------------------------------------------------------------\u001b[0m",
      "\u001b[0;31mTypeError\u001b[0m                                 Traceback (most recent call last)",
      "\u001b[0;32m/tmp/ipykernel_1949/1783555086.py\u001b[0m in \u001b[0;36m<module>\u001b[0;34m\u001b[0m\n\u001b[1;32m      1\u001b[0m \u001b[0;32mfor\u001b[0m \u001b[0melemento\u001b[0m \u001b[0;32min\u001b[0m \u001b[0mlista\u001b[0m\u001b[0;34m:\u001b[0m\u001b[0;34m\u001b[0m\u001b[0;34m\u001b[0m\u001b[0m\n\u001b[1;32m      2\u001b[0m     \u001b[0mprint\u001b[0m\u001b[0;34m(\u001b[0m\u001b[0melemento\u001b[0m\u001b[0;34m)\u001b[0m\u001b[0;34m\u001b[0m\u001b[0;34m\u001b[0m\u001b[0m\n\u001b[0;32m----> 3\u001b[0;31m     \u001b[0mprint\u001b[0m\u001b[0;34m(\u001b[0m\u001b[0melemento\u001b[0m \u001b[0;34m+\u001b[0m \u001b[0;36m1\u001b[0m\u001b[0;34m)\u001b[0m\u001b[0;34m\u001b[0m\u001b[0;34m\u001b[0m\u001b[0m\n\u001b[0m",
      "\u001b[0;31mTypeError\u001b[0m: can only concatenate str (not \"int\") to str"
     ]
    }
   ],
   "source": [
    "for elemento in lista:\n",
    "    print(elemento)\n",
    "    print(elemento + 1)"
   ]
  },
  {
   "cell_type": "code",
   "execution_count": 28,
   "id": "58f97e8d",
   "metadata": {
    "execution": {
     "iopub.execute_input": "2021-07-12T23:20:44.068287Z",
     "iopub.status.busy": "2021-07-12T23:20:44.066439Z",
     "iopub.status.idle": "2021-07-12T23:20:44.071248Z",
     "shell.execute_reply": "2021-07-12T23:20:44.070680Z"
    }
   },
   "outputs": [
    {
     "data": {
      "text/plain": [
       "[1, 2, 3, 4, 1, 'dos']"
      ]
     },
     "execution_count": 28,
     "metadata": {},
     "output_type": "execute_result"
    }
   ],
   "source": [
    "lista"
   ]
  },
  {
   "cell_type": "code",
   "execution_count": 29,
   "id": "2888d917",
   "metadata": {
    "execution": {
     "iopub.execute_input": "2021-07-12T23:20:44.077399Z",
     "iopub.status.busy": "2021-07-12T23:20:44.076183Z",
     "iopub.status.idle": "2021-07-12T23:20:44.079444Z",
     "shell.execute_reply": "2021-07-12T23:20:44.078935Z"
    }
   },
   "outputs": [
    {
     "name": "stdout",
     "output_type": "stream",
     "text": [
      "0-ésimo elemento: 1\n",
      "1-ésimo elemento: 2\n",
      "2-ésimo elemento: 3\n",
      "3-ésimo elemento: 4\n",
      "4-ésimo elemento: 1\n",
      "5-ésimo elemento: dos\n"
     ]
    }
   ],
   "source": [
    "for i, elemento in enumerate(lista):\n",
    "    print(f\"{i}-ésimo elemento: {elemento}\")"
   ]
  },
  {
   "cell_type": "code",
   "execution_count": 30,
   "id": "9b3fe6a7",
   "metadata": {
    "execution": {
     "iopub.execute_input": "2021-07-12T23:20:44.083243Z",
     "iopub.status.busy": "2021-07-12T23:20:44.082703Z",
     "iopub.status.idle": "2021-07-12T23:20:44.089057Z",
     "shell.execute_reply": "2021-07-12T23:20:44.088579Z"
    },
    "tags": [
     "raises-exception"
    ]
   },
   "outputs": [
    {
     "ename": "TypeError",
     "evalue": "'<' not supported between instances of 'str' and 'int'",
     "output_type": "error",
     "traceback": [
      "\u001b[0;31m---------------------------------------------------------------------------\u001b[0m",
      "\u001b[0;31mTypeError\u001b[0m                                 Traceback (most recent call last)",
      "\u001b[0;32m/tmp/ipykernel_1949/2266425520.py\u001b[0m in \u001b[0;36m<module>\u001b[0;34m\u001b[0m\n\u001b[0;32m----> 1\u001b[0;31m \u001b[0msorted\u001b[0m\u001b[0;34m(\u001b[0m\u001b[0mlista\u001b[0m\u001b[0;34m)\u001b[0m\u001b[0;34m\u001b[0m\u001b[0;34m\u001b[0m\u001b[0m\n\u001b[0m",
      "\u001b[0;31mTypeError\u001b[0m: '<' not supported between instances of 'str' and 'int'"
     ]
    }
   ],
   "source": [
    "sorted(lista)"
   ]
  },
  {
   "cell_type": "code",
   "execution_count": 31,
   "id": "4dfe7c35",
   "metadata": {
    "execution": {
     "iopub.execute_input": "2021-07-12T23:20:44.092769Z",
     "iopub.status.busy": "2021-07-12T23:20:44.091206Z",
     "iopub.status.idle": "2021-07-12T23:20:44.095278Z",
     "shell.execute_reply": "2021-07-12T23:20:44.094827Z"
    }
   },
   "outputs": [],
   "source": [
    "lista.remove(\"dos\")"
   ]
  },
  {
   "cell_type": "code",
   "execution_count": 32,
   "id": "411c34c1",
   "metadata": {
    "execution": {
     "iopub.execute_input": "2021-07-12T23:20:44.099936Z",
     "iopub.status.busy": "2021-07-12T23:20:44.097373Z",
     "iopub.status.idle": "2021-07-12T23:20:44.102138Z",
     "shell.execute_reply": "2021-07-12T23:20:44.102584Z"
    }
   },
   "outputs": [
    {
     "data": {
      "text/plain": [
       "[1, 1, 2, 3, 4]"
      ]
     },
     "execution_count": 32,
     "metadata": {},
     "output_type": "execute_result"
    }
   ],
   "source": [
    "sorted(lista)"
   ]
  },
  {
   "cell_type": "code",
   "execution_count": 33,
   "id": "b932c371",
   "metadata": {
    "execution": {
     "iopub.execute_input": "2021-07-12T23:20:44.107199Z",
     "iopub.status.busy": "2021-07-12T23:20:44.106646Z",
     "iopub.status.idle": "2021-07-12T23:20:44.109706Z",
     "shell.execute_reply": "2021-07-12T23:20:44.109200Z"
    }
   },
   "outputs": [
    {
     "data": {
      "text/plain": [
       "[1, 1, 2, 3, 4]"
      ]
     },
     "execution_count": 33,
     "metadata": {},
     "output_type": "execute_result"
    }
   ],
   "source": [
    "lista.sort()\n",
    "lista"
   ]
  },
  {
   "cell_type": "markdown",
   "id": "22563ce5",
   "metadata": {
    "slideshow": {
     "slide_type": "slide"
    }
   },
   "source": [
    "#### Tuplas de Python\n",
    "\n",
    "Las tuplas son inmutables. No se pueden agregar elementos luego de creadas."
   ]
  },
  {
   "cell_type": "code",
   "execution_count": 34,
   "id": "2821e6c5",
   "metadata": {
    "execution": {
     "iopub.execute_input": "2021-07-12T23:20:44.117689Z",
     "iopub.status.busy": "2021-07-12T23:20:44.116336Z",
     "iopub.status.idle": "2021-07-12T23:20:44.123187Z",
     "shell.execute_reply": "2021-07-12T23:20:44.123663Z"
    },
    "slideshow": {
     "slide_type": "slide"
    },
    "tags": [
     "raises-exception"
    ]
   },
   "outputs": [
    {
     "name": "stdout",
     "output_type": "stream",
     "text": [
      "(1, 2)\n",
      "1\n",
      "2\n"
     ]
    },
    {
     "ename": "TypeError",
     "evalue": "'tuple' object does not support item assignment",
     "output_type": "error",
     "traceback": [
      "\u001b[0;31m---------------------------------------------------------------------------\u001b[0m",
      "\u001b[0;31mTypeError\u001b[0m                                 Traceback (most recent call last)",
      "\u001b[0;32m/tmp/ipykernel_1949/3644040918.py\u001b[0m in \u001b[0;36m<module>\u001b[0;34m\u001b[0m\n\u001b[1;32m      5\u001b[0m \u001b[0mprint\u001b[0m\u001b[0;34m(\u001b[0m\u001b[0mtupla\u001b[0m\u001b[0;34m[\u001b[0m\u001b[0;36m1\u001b[0m\u001b[0;34m]\u001b[0m\u001b[0;34m)\u001b[0m\u001b[0;34m\u001b[0m\u001b[0;34m\u001b[0m\u001b[0m\n\u001b[1;32m      6\u001b[0m \u001b[0;34m\u001b[0m\u001b[0m\n\u001b[0;32m----> 7\u001b[0;31m \u001b[0mtupla\u001b[0m\u001b[0;34m[\u001b[0m\u001b[0;36m1\u001b[0m\u001b[0;34m]\u001b[0m \u001b[0;34m=\u001b[0m \u001b[0;36m3\u001b[0m  \u001b[0;31m# Falla. No se puede mutar\u001b[0m\u001b[0;34m\u001b[0m\u001b[0;34m\u001b[0m\u001b[0m\n\u001b[0m",
      "\u001b[0;31mTypeError\u001b[0m: 'tuple' object does not support item assignment"
     ]
    }
   ],
   "source": [
    "tupla = (1, 2)\n",
    "\n",
    "print(tupla)\n",
    "print(tupla[0])\n",
    "print(tupla[1])\n",
    "\n",
    "tupla[1] = 3  # Falla. No se puede mutar"
   ]
  },
  {
   "cell_type": "code",
   "execution_count": 35,
   "id": "59b322db",
   "metadata": {
    "execution": {
     "iopub.execute_input": "2021-07-12T23:20:44.128145Z",
     "iopub.status.busy": "2021-07-12T23:20:44.127556Z",
     "iopub.status.idle": "2021-07-12T23:20:44.130546Z",
     "shell.execute_reply": "2021-07-12T23:20:44.130061Z"
    }
   },
   "outputs": [
    {
     "data": {
      "text/plain": [
       "[1, 2]"
      ]
     },
     "execution_count": 35,
     "metadata": {},
     "output_type": "execute_result"
    }
   ],
   "source": [
    "l = [1, 2]\n",
    "l"
   ]
  },
  {
   "cell_type": "code",
   "execution_count": 36,
   "id": "a853ee94",
   "metadata": {
    "execution": {
     "iopub.execute_input": "2021-07-12T23:20:44.133294Z",
     "iopub.status.busy": "2021-07-12T23:20:44.132734Z",
     "iopub.status.idle": "2021-07-12T23:20:44.137201Z",
     "shell.execute_reply": "2021-07-12T23:20:44.137621Z"
    }
   },
   "outputs": [
    {
     "data": {
      "text/plain": [
       "[1, 3]"
      ]
     },
     "execution_count": 36,
     "metadata": {},
     "output_type": "execute_result"
    }
   ],
   "source": [
    "l[1] = 3\n",
    "l"
   ]
  },
  {
   "cell_type": "markdown",
   "id": "fb335b19",
   "metadata": {
    "slideshow": {
     "slide_type": "slide"
    }
   },
   "source": [
    "#### Diferencia entre lista y tupla\n",
    "Las listas se caracterizan por ser mutables, es decir, se puede cambiar su contenido en tiempo de ejecución, mientras que las tuplas son inmutables ya que no es posible modificar el contenido una vez creada."
   ]
  },
  {
   "cell_type": "markdown",
   "id": "e9aab5db",
   "metadata": {},
   "source": [
    "#### Slices\n",
    "\n",
    "**Valen para listas, tuplas o strings (_segmentos_)**"
   ]
  },
  {
   "cell_type": "code",
   "execution_count": 37,
   "id": "e82bbe33",
   "metadata": {
    "execution": {
     "iopub.execute_input": "2021-07-12T23:20:44.142732Z",
     "iopub.status.busy": "2021-07-12T23:20:44.141522Z",
     "iopub.status.idle": "2021-07-12T23:20:44.143387Z",
     "shell.execute_reply": "2021-07-12T23:20:44.143853Z"
    }
   },
   "outputs": [],
   "source": [
    "numeros = [0, 1, 2, 3, 4, 5, 6, 7, 8, 9, 10]"
   ]
  },
  {
   "cell_type": "code",
   "execution_count": 38,
   "id": "b7f7e25c",
   "metadata": {
    "execution": {
     "iopub.execute_input": "2021-07-12T23:20:44.148931Z",
     "iopub.status.busy": "2021-07-12T23:20:44.147705Z",
     "iopub.status.idle": "2021-07-12T23:20:44.150724Z",
     "shell.execute_reply": "2021-07-12T23:20:44.150252Z"
    }
   },
   "outputs": [
    {
     "name": "stdout",
     "output_type": "stream",
     "text": [
      "[0, 1, 2, 3, 4, 5, 6, 7, 8, 9, 10]\n"
     ]
    }
   ],
   "source": [
    "print(numeros)"
   ]
  },
  {
   "cell_type": "code",
   "execution_count": 39,
   "id": "253d85b5",
   "metadata": {
    "execution": {
     "iopub.execute_input": "2021-07-12T23:20:44.156021Z",
     "iopub.status.busy": "2021-07-12T23:20:44.154801Z",
     "iopub.status.idle": "2021-07-12T23:20:44.157984Z",
     "shell.execute_reply": "2021-07-12T23:20:44.157507Z"
    }
   },
   "outputs": [
    {
     "name": "stdout",
     "output_type": "stream",
     "text": [
      "2\n"
     ]
    }
   ],
   "source": [
    "print(numeros[2])  # Imprimo elemento en la posición 2"
   ]
  },
  {
   "cell_type": "code",
   "execution_count": 40,
   "id": "ebdb71ae",
   "metadata": {
    "execution": {
     "iopub.execute_input": "2021-07-12T23:20:44.162923Z",
     "iopub.status.busy": "2021-07-12T23:20:44.162360Z",
     "iopub.status.idle": "2021-07-12T23:20:44.165041Z",
     "shell.execute_reply": "2021-07-12T23:20:44.165511Z"
    }
   },
   "outputs": [
    {
     "data": {
      "text/plain": [
       "10"
      ]
     },
     "execution_count": 40,
     "metadata": {},
     "output_type": "execute_result"
    }
   ],
   "source": [
    "numeros[len(numeros) - 1]"
   ]
  },
  {
   "cell_type": "code",
   "execution_count": 41,
   "id": "00038b9b",
   "metadata": {
    "execution": {
     "iopub.execute_input": "2021-07-12T23:20:44.172137Z",
     "iopub.status.busy": "2021-07-12T23:20:44.169934Z",
     "iopub.status.idle": "2021-07-12T23:20:44.174898Z",
     "shell.execute_reply": "2021-07-12T23:20:44.174415Z"
    },
    "lines_to_next_cell": 2
   },
   "outputs": [
    {
     "name": "stdout",
     "output_type": "stream",
     "text": [
      "10\n"
     ]
    }
   ],
   "source": [
    "print(numeros[-1])  # # Imprimo elemento en la última posición"
   ]
  },
  {
   "cell_type": "code",
   "execution_count": 42,
   "id": "2d83a94e",
   "metadata": {
    "execution": {
     "iopub.execute_input": "2021-07-12T23:20:44.179793Z",
     "iopub.status.busy": "2021-07-12T23:20:44.179191Z",
     "iopub.status.idle": "2021-07-12T23:20:44.181882Z",
     "shell.execute_reply": "2021-07-12T23:20:44.182325Z"
    },
    "lines_to_next_cell": 2
   },
   "outputs": [
    {
     "data": {
      "text/plain": [
       "9"
      ]
     },
     "execution_count": 42,
     "metadata": {},
     "output_type": "execute_result"
    }
   ],
   "source": [
    "numeros[-2]"
   ]
  },
  {
   "cell_type": "code",
   "execution_count": 43,
   "id": "6dd0d21c",
   "metadata": {
    "execution": {
     "iopub.execute_input": "2021-07-12T23:20:44.187151Z",
     "iopub.status.busy": "2021-07-12T23:20:44.186612Z",
     "iopub.status.idle": "2021-07-12T23:20:44.188632Z",
     "shell.execute_reply": "2021-07-12T23:20:44.189074Z"
    }
   },
   "outputs": [
    {
     "name": "stdout",
     "output_type": "stream",
     "text": [
      "[0, 1, 2]\n"
     ]
    }
   ],
   "source": [
    "print(numeros[0:3])  # Imprimo de la pos 0 a la pos 2"
   ]
  },
  {
   "cell_type": "code",
   "execution_count": 44,
   "id": "f95cea3c",
   "metadata": {
    "execution": {
     "iopub.execute_input": "2021-07-12T23:20:44.193451Z",
     "iopub.status.busy": "2021-07-12T23:20:44.192917Z",
     "iopub.status.idle": "2021-07-12T23:20:44.197184Z",
     "shell.execute_reply": "2021-07-12T23:20:44.196709Z"
    }
   },
   "outputs": [
    {
     "name": "stdout",
     "output_type": "stream",
     "text": [
      "[7, 8]\n"
     ]
    }
   ],
   "source": [
    "print(numeros[-4:-2])"
   ]
  },
  {
   "cell_type": "code",
   "execution_count": 45,
   "id": "5e8a15db",
   "metadata": {
    "execution": {
     "iopub.execute_input": "2021-07-12T23:20:44.202802Z",
     "iopub.status.busy": "2021-07-12T23:20:44.201589Z",
     "iopub.status.idle": "2021-07-12T23:20:44.204607Z",
     "shell.execute_reply": "2021-07-12T23:20:44.204133Z"
    }
   },
   "outputs": [
    {
     "name": "stdout",
     "output_type": "stream",
     "text": [
      "[0, 1, 2, 3, 4, 5, 6, 7, 8, 9, 10]\n"
     ]
    }
   ],
   "source": [
    "print(numeros[0:80])"
   ]
  },
  {
   "cell_type": "code",
   "execution_count": 46,
   "id": "936c46c3",
   "metadata": {
    "execution": {
     "iopub.execute_input": "2021-07-12T23:20:44.208971Z",
     "iopub.status.busy": "2021-07-12T23:20:44.208431Z",
     "iopub.status.idle": "2021-07-12T23:20:44.210409Z",
     "shell.execute_reply": "2021-07-12T23:20:44.210961Z"
    }
   },
   "outputs": [
    {
     "name": "stdout",
     "output_type": "stream",
     "text": [
      "[0, 1, 2]\n"
     ]
    }
   ],
   "source": [
    "print(numeros[:3])"
   ]
  },
  {
   "cell_type": "code",
   "execution_count": 47,
   "id": "d1933102",
   "metadata": {
    "execution": {
     "iopub.execute_input": "2021-07-12T23:20:44.214707Z",
     "iopub.status.busy": "2021-07-12T23:20:44.214019Z",
     "iopub.status.idle": "2021-07-12T23:20:44.216564Z",
     "shell.execute_reply": "2021-07-12T23:20:44.217007Z"
    }
   },
   "outputs": [
    {
     "name": "stdout",
     "output_type": "stream",
     "text": [
      "[3, 4, 5, 6, 7, 8, 9, 10]\n"
     ]
    }
   ],
   "source": [
    "print(numeros[3:])"
   ]
  },
  {
   "cell_type": "code",
   "execution_count": 48,
   "id": "29b963a8",
   "metadata": {
    "execution": {
     "iopub.execute_input": "2021-07-12T23:20:44.221033Z",
     "iopub.status.busy": "2021-07-12T23:20:44.220484Z",
     "iopub.status.idle": "2021-07-12T23:20:44.222481Z",
     "shell.execute_reply": "2021-07-12T23:20:44.222920Z"
    }
   },
   "outputs": [
    {
     "name": "stdout",
     "output_type": "stream",
     "text": [
      "[0, 2, 4, 6, 8]\n"
     ]
    }
   ],
   "source": [
    "print(numeros[0:10:2])"
   ]
  },
  {
   "cell_type": "markdown",
   "id": "fa5ed105",
   "metadata": {},
   "source": [
    "```python\n",
    "lista[<inicio>:<final>:<step>]\n",
    "```"
   ]
  },
  {
   "cell_type": "code",
   "execution_count": 49,
   "id": "9281f835",
   "metadata": {
    "execution": {
     "iopub.execute_input": "2021-07-12T23:20:44.228068Z",
     "iopub.status.busy": "2021-07-12T23:20:44.227464Z",
     "iopub.status.idle": "2021-07-12T23:20:44.230001Z",
     "shell.execute_reply": "2021-07-12T23:20:44.230445Z"
    },
    "lines_to_next_cell": 2
   },
   "outputs": [
    {
     "data": {
      "text/plain": [
       "[1, 2, 3, 4]"
      ]
     },
     "execution_count": 49,
     "metadata": {},
     "output_type": "execute_result"
    }
   ],
   "source": [
    "l1 = [1, 2]\n",
    "l2 = [3, 4]\n",
    "l1 + l2"
   ]
  },
  {
   "cell_type": "code",
   "execution_count": 50,
   "id": "9aed410f",
   "metadata": {
    "execution": {
     "iopub.execute_input": "2021-07-12T23:20:44.235129Z",
     "iopub.status.busy": "2021-07-12T23:20:44.234591Z",
     "iopub.status.idle": "2021-07-12T23:20:44.238033Z",
     "shell.execute_reply": "2021-07-12T23:20:44.237523Z"
    }
   },
   "outputs": [
    {
     "name": "stdout",
     "output_type": "stream",
     "text": [
      "[0, 1, 2, 3, 4, 5, 6, 'siete', 8, 9, 10]\n"
     ]
    }
   ],
   "source": [
    "numeros[7] = 'siete'  # Las listas se pueden mutar\n",
    "print(numeros)"
   ]
  },
  {
   "cell_type": "code",
   "execution_count": 51,
   "id": "0cd6cf43",
   "metadata": {
    "execution": {
     "iopub.execute_input": "2021-07-12T23:20:44.242402Z",
     "iopub.status.busy": "2021-07-12T23:20:44.241865Z",
     "iopub.status.idle": "2021-07-12T23:20:44.245917Z",
     "shell.execute_reply": "2021-07-12T23:20:44.246363Z"
    }
   },
   "outputs": [
    {
     "name": "stdout",
     "output_type": "stream",
     "text": [
      "[10, 9, 8, 'siete', 6, 5, 4, 3, 2, 1, 0]\n"
     ]
    }
   ],
   "source": [
    "numeros = numeros[::-1]\n",
    "print(numeros)"
   ]
  },
  {
   "cell_type": "code",
   "execution_count": 52,
   "id": "974d995d",
   "metadata": {
    "execution": {
     "iopub.execute_input": "2021-07-12T23:20:44.253591Z",
     "iopub.status.busy": "2021-07-12T23:20:44.249976Z",
     "iopub.status.idle": "2021-07-12T23:20:44.255601Z",
     "shell.execute_reply": "2021-07-12T23:20:44.256348Z"
    },
    "tags": [
     "raises-exception"
    ]
   },
   "outputs": [
    {
     "ename": "IndexError",
     "evalue": "list index out of range",
     "output_type": "error",
     "traceback": [
      "\u001b[0;31m---------------------------------------------------------------------------\u001b[0m",
      "\u001b[0;31mIndexError\u001b[0m                                Traceback (most recent call last)",
      "\u001b[0;32m/tmp/ipykernel_1949/1255736182.py\u001b[0m in \u001b[0;36m<module>\u001b[0;34m\u001b[0m\n\u001b[0;32m----> 1\u001b[0;31m \u001b[0mprint\u001b[0m\u001b[0;34m(\u001b[0m\u001b[0mnumeros\u001b[0m\u001b[0;34m[\u001b[0m\u001b[0;36m15\u001b[0m\u001b[0;34m]\u001b[0m\u001b[0;34m)\u001b[0m  \u001b[0;31m# Falla. No se puede acceder a una posición inexistente\u001b[0m\u001b[0;34m\u001b[0m\u001b[0;34m\u001b[0m\u001b[0m\n\u001b[0m",
      "\u001b[0;31mIndexError\u001b[0m: list index out of range"
     ]
    }
   ],
   "source": [
    "print(numeros[15])  # Falla. No se puede acceder a una posición inexistente"
   ]
  },
  {
   "cell_type": "code",
   "execution_count": 53,
   "id": "3b07bcdc",
   "metadata": {
    "execution": {
     "iopub.execute_input": "2021-07-12T23:20:44.260921Z",
     "iopub.status.busy": "2021-07-12T23:20:44.260359Z",
     "iopub.status.idle": "2021-07-12T23:20:44.262407Z",
     "shell.execute_reply": "2021-07-12T23:20:44.262973Z"
    }
   },
   "outputs": [
    {
     "name": "stdout",
     "output_type": "stream",
     "text": [
      "palabra\n",
      "a\n",
      "pal\n",
      "abra\n"
     ]
    }
   ],
   "source": [
    "palabra = 'palabra'\n",
    "print(palabra)\n",
    "print(palabra[3])\n",
    "print(palabra[:3])\n",
    "print(palabra[3:])"
   ]
  },
  {
   "cell_type": "code",
   "execution_count": 54,
   "id": "639a9bf1",
   "metadata": {
    "execution": {
     "iopub.execute_input": "2021-07-12T23:20:44.267746Z",
     "iopub.status.busy": "2021-07-12T23:20:44.267055Z",
     "iopub.status.idle": "2021-07-12T23:20:44.270008Z",
     "shell.execute_reply": "2021-07-12T23:20:44.269534Z"
    }
   },
   "outputs": [
    {
     "name": "stdout",
     "output_type": "stream",
     "text": [
      "(0, 1, 2, 3, 4)\n",
      "(0, 1)\n",
      "(2, 3, 4)\n"
     ]
    }
   ],
   "source": [
    "tupla = (0, 1, 2, 3, 4)\n",
    "\n",
    "print(tupla)\n",
    "print(tupla[:2])\n",
    "print(tupla[2:])"
   ]
  },
  {
   "cell_type": "markdown",
   "id": "1130dd75",
   "metadata": {
    "slideshow": {
     "slide_type": "slide"
    }
   },
   "source": [
    "#### Diccionarios de Python\n",
    "\n",
    "Son como hashmaps, las claves deben ser inmutables para que no pierda sentido el diccionario. Si se pudieran modificar, se podrían cambiar las claves y generaría conflictos.\n",
    "\n",
    "Tipos mutables:\n",
    "- Listas\n",
    "- Diccionarios\n",
    "- Sets\n",
    "\n",
    "Tipos inmutables:\n",
    "- Int\n",
    "- Float\n",
    "- String\n",
    "- Tuplas\n"
   ]
  },
  {
   "cell_type": "code",
   "execution_count": 55,
   "id": "929555d2",
   "metadata": {
    "execution": {
     "iopub.execute_input": "2021-07-12T23:20:44.274460Z",
     "iopub.status.busy": "2021-07-12T23:20:44.272360Z",
     "iopub.status.idle": "2021-07-12T23:20:44.276571Z",
     "shell.execute_reply": "2021-07-12T23:20:44.277016Z"
    },
    "slideshow": {
     "slide_type": "slide"
    }
   },
   "outputs": [
    {
     "data": {
      "text/plain": [
       "{}"
      ]
     },
     "execution_count": 55,
     "metadata": {},
     "output_type": "execute_result"
    }
   ],
   "source": [
    "diccionario = {}\n",
    "diccionario"
   ]
  },
  {
   "cell_type": "code",
   "execution_count": 56,
   "id": "e18995c0",
   "metadata": {
    "execution": {
     "iopub.execute_input": "2021-07-12T23:20:44.284017Z",
     "iopub.status.busy": "2021-07-12T23:20:44.282403Z",
     "iopub.status.idle": "2021-07-12T23:20:44.287033Z",
     "shell.execute_reply": "2021-07-12T23:20:44.286239Z"
    }
   },
   "outputs": [
    {
     "data": {
      "text/plain": [
       "{}"
      ]
     },
     "execution_count": 56,
     "metadata": {},
     "output_type": "execute_result"
    }
   ],
   "source": [
    "diccionario = dict()\n",
    "diccionario"
   ]
  },
  {
   "cell_type": "code",
   "execution_count": 57,
   "id": "3e63738f",
   "metadata": {
    "execution": {
     "iopub.execute_input": "2021-07-12T23:20:44.292000Z",
     "iopub.status.busy": "2021-07-12T23:20:44.291420Z",
     "iopub.status.idle": "2021-07-12T23:20:44.293278Z",
     "shell.execute_reply": "2021-07-12T23:20:44.293722Z"
    },
    "slideshow": {
     "slide_type": "slide"
    }
   },
   "outputs": [
    {
     "name": "stdout",
     "output_type": "stream",
     "text": [
      "{'clave1': 'valor1', 2: 'valor2', 'clave3': 3}\n"
     ]
    }
   ],
   "source": [
    "# Cómo agregar cosas al diccionario\n",
    "diccionario['clave1'] = 'valor1'\n",
    "diccionario[2] = 'valor2'\n",
    "diccionario['clave3'] = 3\n",
    "print(diccionario)"
   ]
  },
  {
   "cell_type": "markdown",
   "id": "01bebb3d",
   "metadata": {},
   "source": [
    "Hay dos formas de obtener valores de un diccionario:\n",
    "\n",
    "```python\n",
    "diccionario[clave]\n",
    "```\n",
    "\n",
    "El cual devuelve el valor si existe la clave suministrada o bien lanza `KeyError` si no existe."
   ]
  },
  {
   "cell_type": "code",
   "execution_count": 58,
   "id": "cf941fd3",
   "metadata": {
    "execution": {
     "iopub.execute_input": "2021-07-12T23:20:44.298532Z",
     "iopub.status.busy": "2021-07-12T23:20:44.296351Z",
     "iopub.status.idle": "2021-07-12T23:20:44.300611Z",
     "shell.execute_reply": "2021-07-12T23:20:44.301058Z"
    }
   },
   "outputs": [
    {
     "data": {
      "text/plain": [
       "'valor1'"
      ]
     },
     "execution_count": 58,
     "metadata": {},
     "output_type": "execute_result"
    }
   ],
   "source": [
    "diccionario['clave1']"
   ]
  },
  {
   "cell_type": "code",
   "execution_count": 59,
   "id": "251bc14f",
   "metadata": {
    "execution": {
     "iopub.execute_input": "2021-07-12T23:20:44.307631Z",
     "iopub.status.busy": "2021-07-12T23:20:44.307081Z",
     "iopub.status.idle": "2021-07-12T23:20:44.309711Z",
     "shell.execute_reply": "2021-07-12T23:20:44.310145Z"
    },
    "tags": [
     "raises-exception"
    ]
   },
   "outputs": [
    {
     "ename": "KeyError",
     "evalue": "'clave1000'",
     "output_type": "error",
     "traceback": [
      "\u001b[0;31m---------------------------------------------------------------------------\u001b[0m",
      "\u001b[0;31mKeyError\u001b[0m                                  Traceback (most recent call last)",
      "\u001b[0;32m/tmp/ipykernel_1949/3541524662.py\u001b[0m in \u001b[0;36m<module>\u001b[0;34m\u001b[0m\n\u001b[0;32m----> 1\u001b[0;31m \u001b[0mdiccionario\u001b[0m\u001b[0;34m[\u001b[0m\u001b[0;34m'clave1000'\u001b[0m\u001b[0;34m]\u001b[0m\u001b[0;34m\u001b[0m\u001b[0;34m\u001b[0m\u001b[0m\n\u001b[0m",
      "\u001b[0;31mKeyError\u001b[0m: 'clave1000'"
     ]
    }
   ],
   "source": [
    "diccionario['clave1000']"
   ]
  },
  {
   "cell_type": "markdown",
   "id": "8c518153",
   "metadata": {},
   "source": [
    "La segunda forma es con `get`:"
   ]
  },
  {
   "cell_type": "code",
   "execution_count": 60,
   "id": "7428844b",
   "metadata": {
    "execution": {
     "iopub.execute_input": "2021-07-12T23:20:44.323235Z",
     "iopub.status.busy": "2021-07-12T23:20:44.312393Z",
     "iopub.status.idle": "2021-07-12T23:20:44.372535Z",
     "shell.execute_reply": "2021-07-12T23:20:44.371987Z"
    }
   },
   "outputs": [],
   "source": [
    "diccionario.get?"
   ]
  },
  {
   "cell_type": "code",
   "execution_count": 61,
   "id": "efc7ffe2",
   "metadata": {
    "execution": {
     "iopub.execute_input": "2021-07-12T23:20:44.377434Z",
     "iopub.status.busy": "2021-07-12T23:20:44.376879Z",
     "iopub.status.idle": "2021-07-12T23:20:44.378945Z",
     "shell.execute_reply": "2021-07-12T23:20:44.379388Z"
    }
   },
   "outputs": [
    {
     "name": "stdout",
     "output_type": "stream",
     "text": [
      "Help on built-in function get:\n",
      "\n",
      "get(key, default=None, /) method of builtins.dict instance\n",
      "    Return the value for key if key is in the dictionary, else default.\n",
      "\n"
     ]
    }
   ],
   "source": [
    "help(diccionario.get)"
   ]
  },
  {
   "cell_type": "code",
   "execution_count": 62,
   "id": "8a09817b",
   "metadata": {
    "execution": {
     "iopub.execute_input": "2021-07-12T23:20:44.384326Z",
     "iopub.status.busy": "2021-07-12T23:20:44.383775Z",
     "iopub.status.idle": "2021-07-12T23:20:44.385791Z",
     "shell.execute_reply": "2021-07-12T23:20:44.386231Z"
    },
    "slideshow": {
     "slide_type": "slide"
    }
   },
   "outputs": [
    {
     "name": "stdout",
     "output_type": "stream",
     "text": [
      "None\n"
     ]
    }
   ],
   "source": [
    "print(diccionario.get('clave1000'))"
   ]
  },
  {
   "cell_type": "code",
   "execution_count": 63,
   "id": "2d10bbb6",
   "metadata": {
    "execution": {
     "iopub.execute_input": "2021-07-12T23:20:44.390072Z",
     "iopub.status.busy": "2021-07-12T23:20:44.388689Z",
     "iopub.status.idle": "2021-07-12T23:20:44.392351Z",
     "shell.execute_reply": "2021-07-12T23:20:44.392790Z"
    },
    "slideshow": {
     "slide_type": "slide"
    }
   },
   "outputs": [
    {
     "name": "stdout",
     "output_type": "stream",
     "text": [
      "True\n"
     ]
    }
   ],
   "source": [
    "print('clave1' in diccionario)  # Verifico si la clave está en el diccionario"
   ]
  },
  {
   "cell_type": "code",
   "execution_count": 64,
   "id": "811fbc04",
   "metadata": {
    "execution": {
     "iopub.execute_input": "2021-07-12T23:20:44.398336Z",
     "iopub.status.busy": "2021-07-12T23:20:44.397275Z",
     "iopub.status.idle": "2021-07-12T23:20:44.401070Z",
     "shell.execute_reply": "2021-07-12T23:20:44.400562Z"
    }
   },
   "outputs": [
    {
     "data": {
      "text/plain": [
       "True"
      ]
     },
     "execution_count": 64,
     "metadata": {},
     "output_type": "execute_result"
    }
   ],
   "source": [
    "l = [1, 2, 3, 4]\n",
    "2 in l"
   ]
  },
  {
   "cell_type": "code",
   "execution_count": 65,
   "id": "c110d287",
   "metadata": {
    "execution": {
     "iopub.execute_input": "2021-07-12T23:20:44.406872Z",
     "iopub.status.busy": "2021-07-12T23:20:44.405591Z",
     "iopub.status.idle": "2021-07-12T23:20:44.408697Z",
     "shell.execute_reply": "2021-07-12T23:20:44.408224Z"
    }
   },
   "outputs": [
    {
     "name": "stdout",
     "output_type": "stream",
     "text": [
      "la clave es clave1 y el valor es valor1\n",
      "la clave es 2 y el valor es valor2\n",
      "la clave es clave3 y el valor es 3\n"
     ]
    }
   ],
   "source": [
    "for clave, valor in diccionario.items():\n",
    "    print(\"la clave es %s y el valor es %s\" % (clave, valor))"
   ]
  },
  {
   "cell_type": "code",
   "execution_count": 66,
   "id": "69d92cd4",
   "metadata": {
    "execution": {
     "iopub.execute_input": "2021-07-12T23:20:44.413111Z",
     "iopub.status.busy": "2021-07-12T23:20:44.410964Z",
     "iopub.status.idle": "2021-07-12T23:20:44.415402Z",
     "shell.execute_reply": "2021-07-12T23:20:44.415869Z"
    }
   },
   "outputs": [
    {
     "name": "stdout",
     "output_type": "stream",
     "text": [
      "la clave es clave1 y el valor es valor1\n",
      "la clave es 2 y el valor es valor2\n",
      "la clave es clave3 y el valor es 3\n"
     ]
    }
   ],
   "source": [
    "for clave, valor in diccionario.items():\n",
    "    print(\"la clave es {} y el valor es {}\".format(clave, valor))"
   ]
  },
  {
   "cell_type": "code",
   "execution_count": 67,
   "id": "6f879d66",
   "metadata": {
    "execution": {
     "iopub.execute_input": "2021-07-12T23:20:44.422339Z",
     "iopub.status.busy": "2021-07-12T23:20:44.421456Z",
     "iopub.status.idle": "2021-07-12T23:20:44.424352Z",
     "shell.execute_reply": "2021-07-12T23:20:44.422936Z"
    },
    "slideshow": {
     "slide_type": "slide"
    }
   },
   "outputs": [
    {
     "name": "stdout",
     "output_type": "stream",
     "text": [
      "la clave es clave1 y el valor es valor1\n",
      "la clave es 2 y el valor es valor2\n",
      "la clave es clave3 y el valor es 3\n"
     ]
    }
   ],
   "source": [
    "# Cómo iterar un diccionario elemento por elemento\n",
    "for (\n",
    "    clave,\n",
    "    valor,\n",
    ") in (\n",
    "    diccionario.items()\n",
    "):  # diccionario.items() va devolviendo tuplas con el formato (clave,valor)\n",
    "    print(\n",
    "        f\"la clave es {clave} y el valor es {valor}\"\n",
    "    )  # con esta sintaxis se desempaquetan en clave y valor (similar a enumerate)"
   ]
  },
  {
   "cell_type": "code",
   "execution_count": 68,
   "id": "fdce42d0",
   "metadata": {
    "execution": {
     "iopub.execute_input": "2021-07-12T23:20:44.429930Z",
     "iopub.status.busy": "2021-07-12T23:20:44.428689Z",
     "iopub.status.idle": "2021-07-12T23:20:44.431785Z",
     "shell.execute_reply": "2021-07-12T23:20:44.431290Z"
    },
    "slideshow": {
     "slide_type": "slide"
    }
   },
   "outputs": [
    {
     "name": "stdout",
     "output_type": "stream",
     "text": [
      "clave1\n",
      "2\n",
      "clave3\n"
     ]
    }
   ],
   "source": [
    "for clave in diccionario.keys():\n",
    "    print(clave)"
   ]
  },
  {
   "cell_type": "code",
   "execution_count": 69,
   "id": "ee19d008",
   "metadata": {
    "execution": {
     "iopub.execute_input": "2021-07-12T23:20:44.437211Z",
     "iopub.status.busy": "2021-07-12T23:20:44.435947Z",
     "iopub.status.idle": "2021-07-12T23:20:44.438999Z",
     "shell.execute_reply": "2021-07-12T23:20:44.438529Z"
    },
    "slideshow": {
     "slide_type": "slide"
    }
   },
   "outputs": [
    {
     "name": "stdout",
     "output_type": "stream",
     "text": [
      "valor1\n",
      "valor2\n",
      "3\n"
     ]
    }
   ],
   "source": [
    "for valor in diccionario.values():\n",
    "    print(valor)"
   ]
  },
  {
   "cell_type": "markdown",
   "id": "a43793ff",
   "metadata": {},
   "source": [
    "#### Sets\n",
    "\n",
    "Son similares a los diccionarios (en eficiencia) pero se almacenan solo claves, y tienen algunas operaciones particulares.\n",
    "\n",
    "En particular, no pueden tener elementos iguales (pensar que son conjuntos)"
   ]
  },
  {
   "cell_type": "code",
   "execution_count": 70,
   "id": "4fa208a9",
   "metadata": {
    "execution": {
     "iopub.execute_input": "2021-07-12T23:20:44.442909Z",
     "iopub.status.busy": "2021-07-12T23:20:44.442374Z",
     "iopub.status.idle": "2021-07-12T23:20:44.446711Z",
     "shell.execute_reply": "2021-07-12T23:20:44.446229Z"
    }
   },
   "outputs": [],
   "source": [
    "set??"
   ]
  },
  {
   "cell_type": "code",
   "execution_count": 71,
   "id": "cafa8e4f",
   "metadata": {
    "execution": {
     "iopub.execute_input": "2021-07-12T23:20:44.451969Z",
     "iopub.status.busy": "2021-07-12T23:20:44.450989Z",
     "iopub.status.idle": "2021-07-12T23:20:44.453635Z",
     "shell.execute_reply": "2021-07-12T23:20:44.454083Z"
    }
   },
   "outputs": [
    {
     "data": {
      "text/plain": [
       "{1, 2, 3}"
      ]
     },
     "execution_count": 71,
     "metadata": {},
     "output_type": "execute_result"
    }
   ],
   "source": [
    "# Se definen como los diccionarios pero sin hacerlos 'clave:valor', solamente una seguidilla de elementos\n",
    "{1, 2, 2, 3}"
   ]
  },
  {
   "cell_type": "code",
   "execution_count": 72,
   "id": "6f62d9a3",
   "metadata": {
    "execution": {
     "iopub.execute_input": "2021-07-12T23:20:44.458532Z",
     "iopub.status.busy": "2021-07-12T23:20:44.456125Z",
     "iopub.status.idle": "2021-07-12T23:20:44.461414Z",
     "shell.execute_reply": "2021-07-12T23:20:44.460902Z"
    }
   },
   "outputs": [
    {
     "data": {
      "text/plain": [
       "{1, 2, 3}"
      ]
     },
     "execution_count": 72,
     "metadata": {},
     "output_type": "execute_result"
    }
   ],
   "source": [
    "set([1, 2, 2, 3])"
   ]
  },
  {
   "cell_type": "markdown",
   "id": "d219cef0",
   "metadata": {},
   "source": [
    "## Condicionales (if...elif...else)\n",
    "\n",
    "```python\n",
    "if <condición_1>:\n",
    "    <hacer algo_1 si se da la condición_1>\n",
    "elif <condición_2>:\n",
    "    <hacer algo_2 si se da la condición_2>\n",
    "...\n",
    "elif <condición_n>:\n",
    "    <hacer algo_n si se da la condición_n>\n",
    "else:\n",
    "    <hacer otra cosa si no dan las anteriores>\n",
    "```\n",
    "\n",
    "Algo importante para notar es que los bloques se definen por **niveles de identacion**."
   ]
  },
  {
   "cell_type": "code",
   "execution_count": 73,
   "id": "8ee37102",
   "metadata": {
    "execution": {
     "iopub.execute_input": "2021-07-12T23:20:44.467105Z",
     "iopub.status.busy": "2021-07-12T23:20:44.465863Z",
     "iopub.status.idle": "2021-07-12T23:20:44.468937Z",
     "shell.execute_reply": "2021-07-12T23:20:44.468456Z"
    }
   },
   "outputs": [
    {
     "name": "stdout",
     "output_type": "stream",
     "text": [
      "uno\n"
     ]
    }
   ],
   "source": [
    "v = 1\n",
    "if v == 1:\n",
    "    print(\"uno\")\n",
    "elif v == 2:\n",
    "    print(\"dos\")\n",
    "else:\n",
    "    print(\"ni idea\")\n",
    "    print(v)"
   ]
  },
  {
   "cell_type": "markdown",
   "id": "53f20123",
   "metadata": {},
   "source": [
    "## Iteraciones\n",
    "\n",
    "```python\n",
    "while cond:\n",
    "    <codigo>\n",
    "```\n",
    "\n",
    "```python\n",
    "for elemento in iterable:\n",
    "    <codigo>\n",
    "```\n",
    "\n",
    "Para iterar sobre un rango de valores, usamos `range`"
   ]
  },
  {
   "cell_type": "code",
   "execution_count": 74,
   "id": "11994e45",
   "metadata": {
    "execution": {
     "iopub.execute_input": "2021-07-12T23:20:44.472986Z",
     "iopub.status.busy": "2021-07-12T23:20:44.472435Z",
     "iopub.status.idle": "2021-07-12T23:20:44.476659Z",
     "shell.execute_reply": "2021-07-12T23:20:44.476184Z"
    }
   },
   "outputs": [
    {
     "name": "stdout",
     "output_type": "stream",
     "text": [
      "1\n",
      "4\n",
      "7\n",
      "10\n"
     ]
    }
   ],
   "source": [
    "for i in range(1, 11, 3):\n",
    "    print(i)"
   ]
  },
  {
   "cell_type": "markdown",
   "id": "6623521c",
   "metadata": {},
   "source": [
    "## Operadores logicos\n",
    "\n",
    "`not`, `or`, `and`"
   ]
  },
  {
   "cell_type": "code",
   "execution_count": 75,
   "id": "56e7045b",
   "metadata": {
    "execution": {
     "iopub.execute_input": "2021-07-12T23:20:44.481642Z",
     "iopub.status.busy": "2021-07-12T23:20:44.480427Z",
     "iopub.status.idle": "2021-07-12T23:20:44.483442Z",
     "shell.execute_reply": "2021-07-12T23:20:44.482967Z"
    }
   },
   "outputs": [
    {
     "name": "stdout",
     "output_type": "stream",
     "text": [
      "yay\n"
     ]
    }
   ],
   "source": [
    "if True or False:\n",
    "    print(\"yay\")"
   ]
  },
  {
   "cell_type": "code",
   "execution_count": 76,
   "id": "18f59a91",
   "metadata": {
    "execution": {
     "iopub.execute_input": "2021-07-12T23:20:44.487919Z",
     "iopub.status.busy": "2021-07-12T23:20:44.487330Z",
     "iopub.status.idle": "2021-07-12T23:20:44.489305Z",
     "shell.execute_reply": "2021-07-12T23:20:44.489746Z"
    }
   },
   "outputs": [
    {
     "data": {
      "text/plain": [
       "False"
      ]
     },
     "execution_count": 76,
     "metadata": {},
     "output_type": "execute_result"
    }
   ],
   "source": [
    "1 == 2"
   ]
  },
  {
   "cell_type": "code",
   "execution_count": 77,
   "id": "63d5bd2e",
   "metadata": {
    "execution": {
     "iopub.execute_input": "2021-07-12T23:20:44.492347Z",
     "iopub.status.busy": "2021-07-12T23:20:44.491803Z",
     "iopub.status.idle": "2021-07-12T23:20:44.496232Z",
     "shell.execute_reply": "2021-07-12T23:20:44.496655Z"
    }
   },
   "outputs": [
    {
     "data": {
      "text/plain": [
       "True"
      ]
     },
     "execution_count": 77,
     "metadata": {},
     "output_type": "execute_result"
    }
   ],
   "source": [
    "1 != 2"
   ]
  },
  {
   "cell_type": "markdown",
   "id": "539fd14a",
   "metadata": {
    "slideshow": {
     "slide_type": "slide"
    }
   },
   "source": [
    "## Funciones en Python"
   ]
  },
  {
   "cell_type": "code",
   "execution_count": 78,
   "id": "b4737c04",
   "metadata": {
    "execution": {
     "iopub.execute_input": "2021-07-12T23:20:44.507300Z",
     "iopub.status.busy": "2021-07-12T23:20:44.506035Z",
     "iopub.status.idle": "2021-07-12T23:20:44.509178Z",
     "shell.execute_reply": "2021-07-12T23:20:44.508675Z"
    },
    "slideshow": {
     "slide_type": "slide"
    }
   },
   "outputs": [
    {
     "name": "stdout",
     "output_type": "stream",
     "text": [
      "True\n",
      "False\n"
     ]
    }
   ],
   "source": [
    "def busqueda_binaria(lista, elemento):\n",
    "    if not lista:\n",
    "        return False\n",
    "    elif len(lista) == 1:\n",
    "        return lista[0] == elemento\n",
    "    mitad = len(lista) // 2  # // es la operación división entera\n",
    "    if lista[mitad] == elemento:\n",
    "        return True\n",
    "    if lista[mitad] > elemento:\n",
    "        return busqueda_binaria(lista[:mitad], elemento)\n",
    "    if lista[mitad] < elemento:\n",
    "        return busqueda_binaria(lista[mitad:], elemento)\n",
    "\n",
    "\n",
    "print(busqueda_binaria([1, 2, 3, 4, 5], 4))\n",
    "print(busqueda_binaria([1, 4, 6, 7, 9, 10], 2))"
   ]
  },
  {
   "cell_type": "code",
   "execution_count": 79,
   "id": "9032a00d",
   "metadata": {
    "execution": {
     "iopub.execute_input": "2021-07-12T23:20:44.514961Z",
     "iopub.status.busy": "2021-07-12T23:20:44.513704Z",
     "iopub.status.idle": "2021-07-12T23:20:44.516814Z",
     "shell.execute_reply": "2021-07-12T23:20:44.516336Z"
    }
   },
   "outputs": [
    {
     "name": "stdout",
     "output_type": "stream",
     "text": [
      "(3, 3, 3)\n"
     ]
    }
   ],
   "source": [
    "def a(b):\n",
    "    if a == 1:\n",
    "        print(a)\n",
    "    return (b, b, b)\n",
    "\n",
    "\n",
    "print(a(3))"
   ]
  },
  {
   "cell_type": "code",
   "execution_count": 80,
   "id": "04ee3869",
   "metadata": {
    "execution": {
     "iopub.execute_input": "2021-07-12T23:20:44.522150Z",
     "iopub.status.busy": "2021-07-12T23:20:44.518877Z",
     "iopub.status.idle": "2021-07-12T23:20:44.531441Z",
     "shell.execute_reply": "2021-07-12T23:20:44.531969Z"
    },
    "lines_to_next_cell": 2,
    "slideshow": {
     "slide_type": "slide"
    },
    "tags": [
     "raises-exception"
    ]
   },
   "outputs": [
    {
     "name": "stdout",
     "output_type": "stream",
     "text": [
      "3\n",
      "3.0\n",
      "3.0\n",
      "hola como te va\n",
      "[1, 2, 3, 4, 5]\n"
     ]
    },
    {
     "ename": "TypeError",
     "evalue": "can only concatenate str (not \"int\") to str",
     "output_type": "error",
     "traceback": [
      "\u001b[0;31m---------------------------------------------------------------------------\u001b[0m",
      "\u001b[0;31mTypeError\u001b[0m                                 Traceback (most recent call last)",
      "\u001b[0;32m/tmp/ipykernel_1949/1000948441.py\u001b[0m in \u001b[0;36m<module>\u001b[0;34m\u001b[0m\n\u001b[1;32m      8\u001b[0m \u001b[0mprint\u001b[0m\u001b[0;34m(\u001b[0m\u001b[0msuma\u001b[0m\u001b[0;34m(\u001b[0m\u001b[0;34m\"hola \"\u001b[0m\u001b[0;34m,\u001b[0m \u001b[0;34m\"como te va\"\u001b[0m\u001b[0;34m)\u001b[0m\u001b[0;34m)\u001b[0m\u001b[0;34m\u001b[0m\u001b[0;34m\u001b[0m\u001b[0m\n\u001b[1;32m      9\u001b[0m \u001b[0mprint\u001b[0m\u001b[0;34m(\u001b[0m\u001b[0msuma\u001b[0m\u001b[0;34m(\u001b[0m\u001b[0;34m[\u001b[0m\u001b[0;36m1\u001b[0m\u001b[0;34m,\u001b[0m \u001b[0;36m2\u001b[0m\u001b[0;34m,\u001b[0m \u001b[0;36m3\u001b[0m\u001b[0;34m]\u001b[0m\u001b[0;34m,\u001b[0m \u001b[0;34m[\u001b[0m\u001b[0;36m4\u001b[0m\u001b[0;34m,\u001b[0m \u001b[0;36m5\u001b[0m\u001b[0;34m]\u001b[0m\u001b[0;34m)\u001b[0m\u001b[0;34m)\u001b[0m\u001b[0;34m\u001b[0m\u001b[0;34m\u001b[0m\u001b[0m\n\u001b[0;32m---> 10\u001b[0;31m \u001b[0mprint\u001b[0m\u001b[0;34m(\u001b[0m\u001b[0msuma\u001b[0m\u001b[0;34m(\u001b[0m\u001b[0;34m\"1\"\u001b[0m\u001b[0;34m,\u001b[0m \u001b[0;36m3\u001b[0m\u001b[0;34m)\u001b[0m\u001b[0;34m)\u001b[0m  \u001b[0;31m# Falla\u001b[0m\u001b[0;34m\u001b[0m\u001b[0;34m\u001b[0m\u001b[0m\n\u001b[0m",
      "\u001b[0;32m/tmp/ipykernel_1949/1000948441.py\u001b[0m in \u001b[0;36msuma\u001b[0;34m(a, b)\u001b[0m\n\u001b[1;32m      1\u001b[0m \u001b[0;32mdef\u001b[0m \u001b[0msuma\u001b[0m\u001b[0;34m(\u001b[0m\u001b[0ma\u001b[0m\u001b[0;34m,\u001b[0m \u001b[0mb\u001b[0m\u001b[0;34m)\u001b[0m\u001b[0;34m:\u001b[0m\u001b[0;34m\u001b[0m\u001b[0;34m\u001b[0m\u001b[0m\n\u001b[0;32m----> 2\u001b[0;31m     \u001b[0;32mreturn\u001b[0m \u001b[0ma\u001b[0m \u001b[0;34m+\u001b[0m \u001b[0mb\u001b[0m\u001b[0;34m\u001b[0m\u001b[0;34m\u001b[0m\u001b[0m\n\u001b[0m\u001b[1;32m      3\u001b[0m \u001b[0;34m\u001b[0m\u001b[0m\n\u001b[1;32m      4\u001b[0m \u001b[0;34m\u001b[0m\u001b[0m\n\u001b[1;32m      5\u001b[0m \u001b[0mprint\u001b[0m\u001b[0;34m(\u001b[0m\u001b[0msuma\u001b[0m\u001b[0;34m(\u001b[0m\u001b[0;36m1\u001b[0m\u001b[0;34m,\u001b[0m \u001b[0;36m2\u001b[0m\u001b[0;34m)\u001b[0m\u001b[0;34m)\u001b[0m\u001b[0;34m\u001b[0m\u001b[0;34m\u001b[0m\u001b[0m\n",
      "\u001b[0;31mTypeError\u001b[0m: can only concatenate str (not \"int\") to str"
     ]
    }
   ],
   "source": [
    "def suma(a, b):\n",
    "    return a + b\n",
    "\n",
    "\n",
    "print(suma(1, 2))\n",
    "print(suma(1.0, 2.0))\n",
    "print(suma(1.0, 2))\n",
    "print(suma(\"hola \", \"como te va\"))\n",
    "print(suma([1, 2, 3], [4, 5]))\n",
    "print(suma(\"1\", 3))  # Falla"
   ]
  },
  {
   "cell_type": "code",
   "execution_count": 81,
   "id": "e59b8819",
   "metadata": {
    "execution": {
     "iopub.execute_input": "2021-07-12T23:20:44.536640Z",
     "iopub.status.busy": "2021-07-12T23:20:44.534114Z",
     "iopub.status.idle": "2021-07-12T23:20:44.538635Z",
     "shell.execute_reply": "2021-07-12T23:20:44.539081Z"
    }
   },
   "outputs": [
    {
     "name": "stdout",
     "output_type": "stream",
     "text": [
      "2.0\n"
     ]
    }
   ],
   "source": [
    "# El valor por default de divisor es 1\n",
    "\n",
    "\n",
    "def division(dividendo, divisor=2):\n",
    "    return dividendo / divisor\n",
    "\n",
    "\n",
    "print(division(4))  # Usa el valor por default"
   ]
  },
  {
   "cell_type": "code",
   "execution_count": 82,
   "id": "2c6f489c",
   "metadata": {
    "execution": {
     "iopub.execute_input": "2021-07-12T23:20:44.547552Z",
     "iopub.status.busy": "2021-07-12T23:20:44.546979Z",
     "iopub.status.idle": "2021-07-12T23:20:44.550799Z",
     "shell.execute_reply": "2021-07-12T23:20:44.550313Z"
    },
    "tags": [
     "raises-exception"
    ]
   },
   "outputs": [
    {
     "name": "stdout",
     "output_type": "stream",
     "text": [
      "0.5\n",
      "0.5\n"
     ]
    },
    {
     "ename": "TypeError",
     "evalue": "division() missing 1 required positional argument: 'dividendo'",
     "output_type": "error",
     "traceback": [
      "\u001b[0;31m---------------------------------------------------------------------------\u001b[0m",
      "\u001b[0;31mTypeError\u001b[0m                                 Traceback (most recent call last)",
      "\u001b[0;32m/tmp/ipykernel_1949/1004518412.py\u001b[0m in \u001b[0;36m<module>\u001b[0;34m\u001b[0m\n\u001b[1;32m      1\u001b[0m \u001b[0mprint\u001b[0m\u001b[0;34m(\u001b[0m\u001b[0mdivision\u001b[0m\u001b[0;34m(\u001b[0m\u001b[0;36m1\u001b[0m\u001b[0;34m,\u001b[0m \u001b[0;36m2\u001b[0m\u001b[0;34m)\u001b[0m\u001b[0;34m)\u001b[0m  \u001b[0;31m# Parámetros por orden\u001b[0m\u001b[0;34m\u001b[0m\u001b[0;34m\u001b[0m\u001b[0m\n\u001b[1;32m      2\u001b[0m \u001b[0mprint\u001b[0m\u001b[0;34m(\u001b[0m\u001b[0mdivision\u001b[0m\u001b[0;34m(\u001b[0m\u001b[0mdividendo\u001b[0m\u001b[0;34m=\u001b[0m\u001b[0;36m1\u001b[0m\u001b[0;34m,\u001b[0m \u001b[0mdivisor\u001b[0m\u001b[0;34m=\u001b[0m\u001b[0;36m2\u001b[0m\u001b[0;34m)\u001b[0m\u001b[0;34m)\u001b[0m  \u001b[0;31m# Parámetros por nombre\u001b[0m\u001b[0;34m\u001b[0m\u001b[0;34m\u001b[0m\u001b[0m\n\u001b[0;32m----> 3\u001b[0;31m \u001b[0mprint\u001b[0m\u001b[0;34m(\u001b[0m\u001b[0mdivision\u001b[0m\u001b[0;34m(\u001b[0m\u001b[0mdivisor\u001b[0m\u001b[0;34m=\u001b[0m\u001b[0;36m2\u001b[0m\u001b[0;34m)\u001b[0m\u001b[0;34m)\u001b[0m\u001b[0;34m\u001b[0m\u001b[0;34m\u001b[0m\u001b[0m\n\u001b[0m",
      "\u001b[0;31mTypeError\u001b[0m: division() missing 1 required positional argument: 'dividendo'"
     ]
    }
   ],
   "source": [
    "print(division(1, 2))  # Parámetros por orden\n",
    "print(division(dividendo=1, divisor=2))  # Parámetros por nombre\n",
    "print(division(divisor=2))"
   ]
  },
  {
   "cell_type": "code",
   "execution_count": 83,
   "id": "203c896e",
   "metadata": {
    "execution": {
     "iopub.execute_input": "2021-07-12T23:20:44.556020Z",
     "iopub.status.busy": "2021-07-12T23:20:44.554885Z",
     "iopub.status.idle": "2021-07-12T23:20:44.557927Z",
     "shell.execute_reply": "2021-07-12T23:20:44.557451Z"
    }
   },
   "outputs": [
    {
     "name": "stdout",
     "output_type": "stream",
     "text": [
      "0.5\n"
     ]
    }
   ],
   "source": [
    "print(division(divisor=2, dividendo=1))"
   ]
  },
  {
   "cell_type": "code",
   "execution_count": 84,
   "id": "2dc1ea31",
   "metadata": {
    "execution": {
     "iopub.execute_input": "2021-07-12T23:20:44.563914Z",
     "iopub.status.busy": "2021-07-12T23:20:44.563145Z",
     "iopub.status.idle": "2021-07-12T23:20:44.566060Z",
     "shell.execute_reply": "2021-07-12T23:20:44.566610Z"
    }
   },
   "outputs": [
    {
     "name": "stdout",
     "output_type": "stream",
     "text": [
      "['a', 'b', 'c']\n",
      "[1, 2, 3]\n",
      "['hola', ' don', ' pepito']\n",
      "hola -  don -  pepito\n"
     ]
    }
   ],
   "source": [
    "# Funciones básicas ya en el lenguaje\n",
    "# Hechas para funcionar para distintos tipos\n",
    "\n",
    "string_ordenado = sorted('bca')\n",
    "print(string_ordenado)\n",
    "\n",
    "lista_ordenada = sorted([1, 3, 2])\n",
    "print(lista_ordenada)\n",
    "\n",
    "separadas = \"hola, don, pepito\".split(\",\")\n",
    "print(separadas)\n",
    "unidas = \" - \".join(separadas)\n",
    "print(unidas)"
   ]
  },
  {
   "cell_type": "markdown",
   "id": "bf96e031",
   "metadata": {},
   "source": [
    "## Módulos\n",
    "\n",
    "Para incluir alguna biblioteca de funciones se usa `import`. Pueden ser cosas ya predefinidas en Python (`math`, `random`, etc), nombres de archivos en nuestro directorio (por ejemplo, para `mimodulo.py` ponemos `import mimodulo`) o bibliotecas instaladas por el usuario"
   ]
  },
  {
   "cell_type": "code",
   "execution_count": 85,
   "id": "dc438e6e",
   "metadata": {
    "execution": {
     "iopub.execute_input": "2021-07-12T23:20:44.570387Z",
     "iopub.status.busy": "2021-07-12T23:20:44.569774Z",
     "iopub.status.idle": "2021-07-12T23:20:44.572563Z",
     "shell.execute_reply": "2021-07-12T23:20:44.572085Z"
    }
   },
   "outputs": [
    {
     "name": "stdout",
     "output_type": "stream",
     "text": [
      "3.141592653589793\n"
     ]
    }
   ],
   "source": [
    "import math\n",
    "\n",
    "print(math.pi)"
   ]
  },
  {
   "cell_type": "code",
   "execution_count": 86,
   "id": "b63bb2a6",
   "metadata": {
    "execution": {
     "iopub.execute_input": "2021-07-12T23:20:44.577799Z",
     "iopub.status.busy": "2021-07-12T23:20:44.576592Z",
     "iopub.status.idle": "2021-07-12T23:20:44.579677Z",
     "shell.execute_reply": "2021-07-12T23:20:44.579124Z"
    }
   },
   "outputs": [
    {
     "name": "stdout",
     "output_type": "stream",
     "text": [
      "3.141592653589793 2.718281828459045\n"
     ]
    }
   ],
   "source": [
    "from math import pi, e\n",
    "\n",
    "print(pi, e)"
   ]
  },
  {
   "cell_type": "code",
   "execution_count": 87,
   "id": "3024d1c5",
   "metadata": {
    "execution": {
     "iopub.execute_input": "2021-07-12T23:20:44.585124Z",
     "iopub.status.busy": "2021-07-12T23:20:44.584155Z",
     "iopub.status.idle": "2021-07-12T23:20:44.586903Z",
     "shell.execute_reply": "2021-07-12T23:20:44.587345Z"
    }
   },
   "outputs": [
    {
     "data": {
      "text/plain": [
       "2"
      ]
     },
     "execution_count": 87,
     "metadata": {},
     "output_type": "execute_result"
    }
   ],
   "source": [
    "math.gcd(56, 78)"
   ]
  },
  {
   "cell_type": "markdown",
   "id": "4d4b04d4",
   "metadata": {},
   "source": [
    "## Manejo de excepciones\n",
    "\n",
    "Se pueden encapsular errores esperados en un bloque 'try/except' para evitar cortar el flujo del programa"
   ]
  },
  {
   "cell_type": "code",
   "execution_count": 88,
   "id": "85264a84",
   "metadata": {
    "execution": {
     "iopub.execute_input": "2021-07-12T23:20:44.596017Z",
     "iopub.status.busy": "2021-07-12T23:20:44.590505Z",
     "iopub.status.idle": "2021-07-12T23:20:44.598119Z",
     "shell.execute_reply": "2021-07-12T23:20:44.598598Z"
    },
    "tags": [
     "raises-exception"
    ]
   },
   "outputs": [
    {
     "ename": "ZeroDivisionError",
     "evalue": "division by zero",
     "output_type": "error",
     "traceback": [
      "\u001b[0;31m---------------------------------------------------------------------------\u001b[0m",
      "\u001b[0;31mZeroDivisionError\u001b[0m                         Traceback (most recent call last)",
      "\u001b[0;32m/tmp/ipykernel_1949/1165346582.py\u001b[0m in \u001b[0;36m<module>\u001b[0;34m\u001b[0m\n\u001b[0;32m----> 1\u001b[0;31m \u001b[0mdivision\u001b[0m\u001b[0;34m(\u001b[0m\u001b[0;36m1\u001b[0m\u001b[0;34m,\u001b[0m \u001b[0;36m0\u001b[0m\u001b[0;34m)\u001b[0m  \u001b[0;31m# No se puede dividir por cero\u001b[0m\u001b[0;34m\u001b[0m\u001b[0;34m\u001b[0m\u001b[0m\n\u001b[0m",
      "\u001b[0;32m/tmp/ipykernel_1949/2607187721.py\u001b[0m in \u001b[0;36mdivision\u001b[0;34m(dividendo, divisor)\u001b[0m\n\u001b[1;32m      3\u001b[0m \u001b[0;34m\u001b[0m\u001b[0m\n\u001b[1;32m      4\u001b[0m \u001b[0;32mdef\u001b[0m \u001b[0mdivision\u001b[0m\u001b[0;34m(\u001b[0m\u001b[0mdividendo\u001b[0m\u001b[0;34m,\u001b[0m \u001b[0mdivisor\u001b[0m\u001b[0;34m=\u001b[0m\u001b[0;36m2\u001b[0m\u001b[0;34m)\u001b[0m\u001b[0;34m:\u001b[0m\u001b[0;34m\u001b[0m\u001b[0;34m\u001b[0m\u001b[0m\n\u001b[0;32m----> 5\u001b[0;31m     \u001b[0;32mreturn\u001b[0m \u001b[0mdividendo\u001b[0m \u001b[0;34m/\u001b[0m \u001b[0mdivisor\u001b[0m\u001b[0;34m\u001b[0m\u001b[0;34m\u001b[0m\u001b[0m\n\u001b[0m\u001b[1;32m      6\u001b[0m \u001b[0;34m\u001b[0m\u001b[0m\n\u001b[1;32m      7\u001b[0m \u001b[0;34m\u001b[0m\u001b[0m\n",
      "\u001b[0;31mZeroDivisionError\u001b[0m: division by zero"
     ]
    }
   ],
   "source": [
    "division(1, 0)  # No se puede dividir por cero"
   ]
  },
  {
   "cell_type": "code",
   "execution_count": 89,
   "id": "4fb378f6",
   "metadata": {
    "execution": {
     "iopub.execute_input": "2021-07-12T23:20:44.603766Z",
     "iopub.status.busy": "2021-07-12T23:20:44.602382Z",
     "iopub.status.idle": "2021-07-12T23:20:44.605320Z",
     "shell.execute_reply": "2021-07-12T23:20:44.605802Z"
    }
   },
   "outputs": [
    {
     "name": "stdout",
     "output_type": "stream",
     "text": [
      "No se puede dividir por cero, ojo! division by zero\n",
      "1\n"
     ]
    }
   ],
   "source": [
    "try:\n",
    "    division(1, 0)\n",
    "except (ZeroDivisionError, TypeError) as e:\n",
    "    print('No se puede dividir por cero, ojo!', e)\n",
    "finally:\n",
    "    print(1)"
   ]
  },
  {
   "cell_type": "markdown",
   "id": "e99ef04d",
   "metadata": {
    "slideshow": {
     "slide_type": "slide"
    }
   },
   "source": [
    "## Lectura y escritura de archivos"
   ]
  },
  {
   "cell_type": "code",
   "execution_count": 90,
   "id": "e69bafae",
   "metadata": {
    "execution": {
     "iopub.execute_input": "2021-07-12T23:20:44.610866Z",
     "iopub.status.busy": "2021-07-12T23:20:44.608353Z",
     "iopub.status.idle": "2021-07-12T23:20:44.613618Z",
     "shell.execute_reply": "2021-07-12T23:20:44.613147Z"
    },
    "slideshow": {
     "slide_type": "slide"
    }
   },
   "outputs": [
    {
     "name": "stdout",
     "output_type": "stream",
     "text": [
      "<_io.TextIOWrapper name='archivo.csv' mode='w' encoding='UTF-8'>\n"
     ]
    }
   ],
   "source": [
    "import random\n",
    "\n",
    "with open(\n",
    "    'archivo.csv', 'w'\n",
    ") as archivo:  # Al usar esta sintaxis no es necesario hacer close\n",
    "    archivo.write(\"Alumno, nota\\n\")\n",
    "    # Tambien de forma similar al fprintf se puede hacer:\n",
    "    # print(\"Alumno, nota\\n\", file=archivo)\n",
    "    for i in range(0, 10):\n",
    "        archivo.write(f\"{i},{random.randrange(0,10)}\\n\")\n",
    "\n",
    "print(archivo)  # Comentario aclaratorio:\n",
    "# Las variables definidas en un determinado scope siguen existiendo por fuera del mismo.\n",
    "# Se debe tener cuidado con esto, ya que nada garantiza que por fuera el valor sea el esperado."
   ]
  },
  {
   "cell_type": "code",
   "execution_count": 91,
   "id": "45729b8e",
   "metadata": {
    "execution": {
     "iopub.execute_input": "2021-07-12T23:20:44.617629Z",
     "iopub.status.busy": "2021-07-12T23:20:44.617090Z",
     "iopub.status.idle": "2021-07-12T23:20:44.622039Z",
     "shell.execute_reply": "2021-07-12T23:20:44.622461Z"
    },
    "slideshow": {
     "slide_type": "slide"
    }
   },
   "outputs": [
    {
     "name": "stdout",
     "output_type": "stream",
     "text": [
      "Alumno, nota\n",
      "0,0\n",
      "1,2\n",
      "2,6\n",
      "3,2\n",
      "4,0\n",
      "5,3\n",
      "6,2\n",
      "7,3\n",
      "8,8\n",
      "9,5\n"
     ]
    }
   ],
   "source": [
    "with open('archivo.csv', 'r') as f:\n",
    "    for linea in f:\n",
    "        print(linea.strip())"
   ]
  },
  {
   "cell_type": "code",
   "execution_count": 92,
   "id": "3dc6003c",
   "metadata": {
    "execution": {
     "iopub.execute_input": "2021-07-12T23:20:44.627637Z",
     "iopub.status.busy": "2021-07-12T23:20:44.626642Z",
     "iopub.status.idle": "2021-07-12T23:20:44.629262Z",
     "shell.execute_reply": "2021-07-12T23:20:44.629702Z"
    }
   },
   "outputs": [
    {
     "name": "stdout",
     "output_type": "stream",
     "text": [
      "Alumno, nota\n",
      "0,0\n",
      "1,2\n",
      "2,6\n",
      "3,2\n",
      "4,0\n",
      "5,3\n",
      "6,2\n",
      "7,3\n",
      "8,8\n",
      "9,5\n",
      "\n"
     ]
    }
   ],
   "source": [
    "with open('archivo.csv', 'r') as f:\n",
    "    print(f.read())"
   ]
  },
  {
   "cell_type": "code",
   "execution_count": 93,
   "id": "ed924a04",
   "metadata": {
    "execution": {
     "iopub.execute_input": "2021-07-12T23:20:44.633986Z",
     "iopub.status.busy": "2021-07-12T23:20:44.633413Z",
     "iopub.status.idle": "2021-07-12T23:20:44.635981Z",
     "shell.execute_reply": "2021-07-12T23:20:44.635500Z"
    }
   },
   "outputs": [],
   "source": [
    "f = open('archivo.csv', 'w')\n",
    "f.write(\"algo, algo\")\n",
    "f.close()"
   ]
  },
  {
   "cell_type": "markdown",
   "id": "796375d6",
   "metadata": {
    "slideshow": {
     "slide_type": "slide"
    }
   },
   "source": [
    "## Objetos\n",
    "\n",
    "Los objetos tienen metodos y atributos:\n",
    "- Atributos: equivalentes a variables.\n",
    "- Métodos: equivalentes a las primitivas."
   ]
  },
  {
   "cell_type": "markdown",
   "id": "63b8ade7",
   "metadata": {
    "slideshow": {
     "slide_type": "slide"
    }
   },
   "source": [
    "### Cómo creo una clase"
   ]
  },
  {
   "cell_type": "code",
   "execution_count": 94,
   "id": "37a6bf04",
   "metadata": {
    "execution": {
     "iopub.execute_input": "2021-07-12T23:20:44.642970Z",
     "iopub.status.busy": "2021-07-12T23:20:44.641968Z",
     "iopub.status.idle": "2021-07-12T23:20:44.643911Z",
     "shell.execute_reply": "2021-07-12T23:20:44.644362Z"
    },
    "slideshow": {
     "slide_type": "slide"
    }
   },
   "outputs": [],
   "source": [
    "class Nodo(object):\n",
    "    def __init__(self, dato, siguiente=None):\n",
    "        self._dato = dato\n",
    "        self._siguiente = siguiente\n",
    "\n",
    "    @property\n",
    "    def dato(self):\n",
    "        return self._dato\n",
    "\n",
    "    @property\n",
    "    def proximo(self):\n",
    "        return self._siguiente\n",
    "\n",
    "    @proximo.setter\n",
    "    def proximo(self, siguiente):\n",
    "        self._siguiente = siguiente\n",
    "\n",
    "    def __repr__(self):\n",
    "        return str(self.dato)\n",
    "\n",
    "    def __str__(self):\n",
    "        return str(self.dato)"
   ]
  },
  {
   "cell_type": "code",
   "execution_count": 95,
   "id": "38163061",
   "metadata": {
    "execution": {
     "iopub.execute_input": "2021-07-12T23:20:44.649699Z",
     "iopub.status.busy": "2021-07-12T23:20:44.648460Z",
     "iopub.status.idle": "2021-07-12T23:20:44.651521Z",
     "shell.execute_reply": "2021-07-12T23:20:44.651048Z"
    },
    "slideshow": {
     "slide_type": "slide"
    }
   },
   "outputs": [
    {
     "name": "stdout",
     "output_type": "stream",
     "text": [
      "hola\n"
     ]
    }
   ],
   "source": [
    "nodo = Nodo(\"hola\")\n",
    "print(nodo)"
   ]
  },
  {
   "cell_type": "code",
   "execution_count": 96,
   "id": "7e1da04c",
   "metadata": {
    "execution": {
     "iopub.execute_input": "2021-07-12T23:20:44.656796Z",
     "iopub.status.busy": "2021-07-12T23:20:44.655540Z",
     "iopub.status.idle": "2021-07-12T23:20:44.658584Z",
     "shell.execute_reply": "2021-07-12T23:20:44.658108Z"
    },
    "slideshow": {
     "slide_type": "slide"
    }
   },
   "outputs": [
    {
     "name": "stdout",
     "output_type": "stream",
     "text": [
      "[hola, lala]\n"
     ]
    }
   ],
   "source": [
    "nodo2 = Nodo(\"lala\")\n",
    "print([nodo, nodo2])"
   ]
  },
  {
   "cell_type": "code",
   "execution_count": 97,
   "id": "c8a262f5",
   "metadata": {
    "execution": {
     "iopub.execute_input": "2021-07-12T23:20:44.662486Z",
     "iopub.status.busy": "2021-07-12T23:20:44.660594Z",
     "iopub.status.idle": "2021-07-12T23:20:44.664526Z",
     "shell.execute_reply": "2021-07-12T23:20:44.664993Z"
    },
    "slideshow": {
     "slide_type": "slide"
    }
   },
   "outputs": [
    {
     "name": "stdout",
     "output_type": "stream",
     "text": [
      "hola\n"
     ]
    }
   ],
   "source": [
    "nodo3 = nodo.dato\n",
    "print(nodo3)"
   ]
  },
  {
   "cell_type": "markdown",
   "id": "3df15ffc",
   "metadata": {
    "slideshow": {
     "slide_type": "slide"
    }
   },
   "source": [
    "### Ejemplo: Lista Enlazada"
   ]
  },
  {
   "cell_type": "code",
   "execution_count": 98,
   "id": "bd6ddd1f",
   "metadata": {
    "execution": {
     "iopub.execute_input": "2021-07-12T23:20:44.674918Z",
     "iopub.status.busy": "2021-07-12T23:20:44.674353Z",
     "iopub.status.idle": "2021-07-12T23:20:44.677478Z",
     "shell.execute_reply": "2021-07-12T23:20:44.677928Z"
    },
    "slideshow": {
     "slide_type": "slide"
    }
   },
   "outputs": [],
   "source": [
    "class ListaEnlazada(object):\n",
    "    def __init__(self):\n",
    "        self._primero = None\n",
    "        self._ultimo = None\n",
    "        self._largo = 0\n",
    "\n",
    "    def __len__(self):\n",
    "        return self._largo\n",
    "\n",
    "    def insertar_al_principio(self, dato):\n",
    "        nodo = Nodo(dato, self._primero)\n",
    "        self._primero = nodo\n",
    "        self._largo += 1\n",
    "        if self._largo == 1:\n",
    "            self._ultimo = nodo\n",
    "\n",
    "    def insertar_al_final(self, dato):\n",
    "        if self._largo != 0:\n",
    "            nodo = Nodo(dato)\n",
    "            nodo_anterior = self._ultimo\n",
    "            nodo_anterior._siguiente = nodo\n",
    "            self._ultimo = nodo\n",
    "            self._largo += 1\n",
    "        else:\n",
    "            self.insertar_al_principio(dato)\n",
    "\n",
    "    @property\n",
    "    def primero(self):\n",
    "        return self._primero.dato\n",
    "\n",
    "    def borrar_primero(self):\n",
    "        dato = self.primero.dato\n",
    "        self._primero = self.primero.siguiente\n",
    "        self._largo -= 1\n",
    "        if self._largo == 0:\n",
    "            self._ultimo = None\n",
    "        return dato\n",
    "\n",
    "    def __str__(self):\n",
    "        datos = []\n",
    "        nodo_actual = self._primero\n",
    "        while nodo_actual:\n",
    "            datos.append(nodo_actual.dato)\n",
    "            nodo_actual = nodo_actual.proximo\n",
    "        return \" -> \".join(datos)\n",
    "\n",
    "    def __repr__(self):\n",
    "        return self.__str__()"
   ]
  },
  {
   "cell_type": "code",
   "execution_count": 99,
   "id": "eb1f63c4",
   "metadata": {
    "execution": {
     "iopub.execute_input": "2021-07-12T23:20:44.682532Z",
     "iopub.status.busy": "2021-07-12T23:20:44.681991Z",
     "iopub.status.idle": "2021-07-12T23:20:44.687026Z",
     "shell.execute_reply": "2021-07-12T23:20:44.687469Z"
    },
    "slideshow": {
     "slide_type": "slide"
    }
   },
   "outputs": [
    {
     "data": {
      "text/plain": [
       "2"
      ]
     },
     "execution_count": 99,
     "metadata": {},
     "output_type": "execute_result"
    }
   ],
   "source": [
    "lista = ListaEnlazada()\n",
    "lista.insertar_al_principio(\"Primer Dato\")\n",
    "lista.insertar_al_principio(\"Primer primer Dato\")\n",
    "len(lista)"
   ]
  },
  {
   "cell_type": "code",
   "execution_count": 100,
   "id": "d7147033",
   "metadata": {
    "execution": {
     "iopub.execute_input": "2021-07-12T23:20:44.692022Z",
     "iopub.status.busy": "2021-07-12T23:20:44.691450Z",
     "iopub.status.idle": "2021-07-12T23:20:44.695437Z",
     "shell.execute_reply": "2021-07-12T23:20:44.694866Z"
    }
   },
   "outputs": [
    {
     "data": {
      "text/plain": [
       "Primer primer Dato -> Primer Dato"
      ]
     },
     "execution_count": 100,
     "metadata": {},
     "output_type": "execute_result"
    }
   ],
   "source": [
    "lista"
   ]
  },
  {
   "cell_type": "code",
   "execution_count": 101,
   "id": "2f2f8746",
   "metadata": {
    "execution": {
     "iopub.execute_input": "2021-07-12T23:20:44.699300Z",
     "iopub.status.busy": "2021-07-12T23:20:44.698742Z",
     "iopub.status.idle": "2021-07-12T23:20:44.700819Z",
     "shell.execute_reply": "2021-07-12T23:20:44.701256Z"
    },
    "slideshow": {
     "slide_type": "slide"
    }
   },
   "outputs": [
    {
     "name": "stdout",
     "output_type": "stream",
     "text": [
      "Primer primer Dato\n"
     ]
    }
   ],
   "source": [
    "elemento = lista.primero\n",
    "print(elemento)"
   ]
  },
  {
   "cell_type": "markdown",
   "id": "4097344a",
   "metadata": {},
   "source": [
    "## Recursos\n",
    "\n",
    "* [Taller de Python de Algoritmos II](https://github.com/algoritmos-rw/algo2_apuntes)\n",
    "\n",
    "* [Documentación de Python 3](https://docs.python.org/3/tutorial/)\n",
    "\n",
    "* [Apunte de Algoritmos y Programación I](https://algoritmos1rw.ddns.net/material)\n",
    "\n",
    "* [Automate the Boring Stuff with Python](http://automatetheboringstuff.com/)\n",
    "\n",
    "* [Curso Python](https://pythoncurso.github.io)\n",
    "\n",
    "* [Python Tutor](http://pythontutor.com/)\n",
    "\n",
    "* [Learn Python3 in Y minutes](https://learnxinyminutes.com/docs/python3/)\n",
    "\n",
    "* [Bibliografía de Algoritmos y Programación I](https://algoritmos1rw.ddns.net/bibliografia)"
   ]
  }
 ],
 "metadata": {
  "jupytext": {
   "encoding": "# -*- coding: utf-8 -*-",
   "formats": "ipynb,py:light"
  },
  "kernelspec": {
   "display_name": "Python 3 (venv)",
   "language": "python",
   "name": "python3"
  },
  "language_info": {
   "codemirror_mode": {
    "name": "ipython",
    "version": 3
   },
   "file_extension": ".py",
   "mimetype": "text/x-python",
   "name": "python",
   "nbconvert_exporter": "python",
   "pygments_lexer": "ipython3",
   "version": "3.7.10"
  }
 },
 "nbformat": 4,
 "nbformat_minor": 5
}
