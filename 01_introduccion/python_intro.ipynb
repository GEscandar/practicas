{
 "cells": [
  {
   "cell_type": "markdown",
   "id": "98859cb7",
   "metadata": {},
   "source": [
    "# Python"
   ]
  },
  {
   "cell_type": "markdown",
   "id": "c8a5e4ef",
   "metadata": {
    "slideshow": {
     "slide_type": "slide"
    }
   },
   "source": [
    "## Un poco de Historia"
   ]
  },
  {
   "cell_type": "markdown",
   "id": "c74823d6",
   "metadata": {
    "slideshow": {
     "slide_type": "subslide"
    }
   },
   "source": [
    "Python fue creado a finales de los años 80 por un programador holandés llamado **Guido van Rossum**,\n",
    "quien sigue siendo aún hoy el líder del desarrollo del lenguaje.\n",
    "\n",
    "(Edit julio 2018: [ya no más](https://www.mail-archive.com/python-committers@python.org/msg05628.html))"
   ]
  },
  {
   "cell_type": "markdown",
   "id": "7a04a0ac",
   "metadata": {
    "slideshow": {
     "slide_type": "subslide"
    }
   },
   "source": [
    "El nombre del lenguaje proviene de los humoristas británicos Monty Python.\n",
    "\n",
    ">*\"I chose Python as a working title for the project, being in a slightly irreverent mood (and a big fan of Monty Python's Flying Circus).\"*"
   ]
  },
  {
   "cell_type": "markdown",
   "id": "1f0ef793",
   "metadata": {
    "slideshow": {
     "slide_type": "slide"
    }
   },
   "source": [
    "## Caracteristicas\n",
    "\n",
    "- Interpretado\n",
    "- Tipado dinamico\n",
    "- Multiparadigma\n",
    "- Alto nivel\n",
    "- Tiene un recolector de basura (no hay malloc, free, realloc, etc)"
   ]
  },
  {
   "cell_type": "markdown",
   "id": "ea5ecc3a",
   "metadata": {},
   "source": [
    "## ¿Cómo empezar?\n",
    "\n",
    "* Al ser un lenguaje *interpretado*, se puede ir escribiendo a medida que se ejecuta, sin necesidad de compilar de antemano! Solamente hace falta escribir `python` o `python3` en una terminal para empezar\n",
    "\n",
    "* También, permite escribir archivos y correrlos. Crear un archivo con extensión `.py` y luego correr `python miarchivo.py` en laterminal"
   ]
  },
  {
   "cell_type": "markdown",
   "id": "7f1de7f1",
   "metadata": {
    "slideshow": {
     "slide_type": "slide"
    }
   },
   "source": [
    "## El Zen de Python"
   ]
  },
  {
   "cell_type": "code",
   "execution_count": 1,
   "id": "a20fedd0",
   "metadata": {
    "execution": {
     "iopub.execute_input": "2021-06-10T03:06:05.236949Z",
     "iopub.status.busy": "2021-06-10T03:06:05.236399Z",
     "iopub.status.idle": "2021-06-10T03:06:05.266729Z",
     "shell.execute_reply": "2021-06-10T03:06:05.266162Z"
    },
    "slideshow": {
     "slide_type": "slide"
    }
   },
   "outputs": [
    {
     "name": "stdout",
     "output_type": "stream",
     "text": [
      "The Zen of Python, by Tim Peters\n",
      "\n",
      "Beautiful is better than ugly.\n",
      "Explicit is better than implicit.\n",
      "Simple is better than complex.\n",
      "Complex is better than complicated.\n",
      "Flat is better than nested.\n",
      "Sparse is better than dense.\n",
      "Readability counts.\n",
      "Special cases aren't special enough to break the rules.\n",
      "Although practicality beats purity.\n",
      "Errors should never pass silently.\n",
      "Unless explicitly silenced.\n",
      "In the face of ambiguity, refuse the temptation to guess.\n",
      "There should be one-- and preferably only one --obvious way to do it.\n",
      "Although that way may not be obvious at first unless you're Dutch.\n",
      "Now is better than never.\n",
      "Although never is often better than *right* now.\n",
      "If the implementation is hard to explain, it's a bad idea.\n",
      "If the implementation is easy to explain, it may be a good idea.\n",
      "Namespaces are one honking great idea -- let's do more of those!\n"
     ]
    }
   ],
   "source": [
    "import this"
   ]
  },
  {
   "cell_type": "markdown",
   "id": "00033426",
   "metadata": {
    "slideshow": {
     "slide_type": "slide"
    }
   },
   "source": [
    "## Conocimientos Básicos de Python: Variables y Tipos"
   ]
  },
  {
   "cell_type": "code",
   "execution_count": 2,
   "id": "658340a7",
   "metadata": {
    "execution": {
     "iopub.execute_input": "2021-06-10T03:06:05.271592Z",
     "iopub.status.busy": "2021-06-10T03:06:05.270621Z",
     "iopub.status.idle": "2021-06-10T03:06:05.273354Z",
     "shell.execute_reply": "2021-06-10T03:06:05.272895Z"
    },
    "slideshow": {
     "slide_type": "slide"
    }
   },
   "outputs": [
    {
     "name": "stdout",
     "output_type": "stream",
     "text": [
      "Hello World!\n"
     ]
    }
   ],
   "source": [
    "# Este es un comentario\n",
    "\n",
    "print(\"Hello World!\")"
   ]
  },
  {
   "cell_type": "markdown",
   "id": "53e42730",
   "metadata": {},
   "source": [
    "Los strings en python puden escribirse tanto con comillas simples (`'`) como comillas dobles (`\"`). Normalmente vemos texto entre comillas triples para escribir _docstrings_, segun la guia de estilo de Python, el PEP8."
   ]
  },
  {
   "cell_type": "code",
   "execution_count": 3,
   "id": "aa92b25f",
   "metadata": {
    "execution": {
     "iopub.execute_input": "2021-06-10T03:06:05.284589Z",
     "iopub.status.busy": "2021-06-10T03:06:05.283581Z",
     "iopub.status.idle": "2021-06-10T03:06:05.286457Z",
     "shell.execute_reply": "2021-06-10T03:06:05.286897Z"
    }
   },
   "outputs": [
    {
     "data": {
      "text/plain": [
       "'Esto es un docstring.\\n'"
      ]
     },
     "execution_count": 1,
     "metadata": {},
     "output_type": "execute_result"
    }
   ],
   "source": [
    "\"\"\"Esto es un docstring.\n",
    "\"\"\""
   ]
  },
  {
   "cell_type": "markdown",
   "id": "6b189e4c",
   "metadata": {},
   "source": [
    "### Declaracion de variables"
   ]
  },
  {
   "cell_type": "code",
   "execution_count": 4,
   "id": "3178860c",
   "metadata": {
    "execution": {
     "iopub.execute_input": "2021-06-10T03:06:05.290984Z",
     "iopub.status.busy": "2021-06-10T03:06:05.290434Z",
     "iopub.status.idle": "2021-06-10T03:06:05.292386Z",
     "shell.execute_reply": "2021-06-10T03:06:05.292800Z"
    }
   },
   "outputs": [
    {
     "name": "stdout",
     "output_type": "stream",
     "text": [
      "Hola\n"
     ]
    }
   ],
   "source": [
    "string = 'Hola'\n",
    "print(string)"
   ]
  },
  {
   "cell_type": "code",
   "execution_count": 5,
   "id": "50baa1aa",
   "metadata": {
    "execution": {
     "iopub.execute_input": "2021-06-10T03:06:05.297664Z",
     "iopub.status.busy": "2021-06-10T03:06:05.296483Z",
     "iopub.status.idle": "2021-06-10T03:06:05.299186Z",
     "shell.execute_reply": "2021-06-10T03:06:05.298784Z"
    }
   },
   "outputs": [
    {
     "name": "stdout",
     "output_type": "stream",
     "text": [
      "1\n"
     ]
    }
   ],
   "source": [
    "entero = 1\n",
    "print(entero)"
   ]
  },
  {
   "cell_type": "code",
   "execution_count": 6,
   "id": "6528c2e9",
   "metadata": {
    "execution": {
     "iopub.execute_input": "2021-06-10T03:06:05.303856Z",
     "iopub.status.busy": "2021-06-10T03:06:05.302670Z",
     "iopub.status.idle": "2021-06-10T03:06:05.305619Z",
     "shell.execute_reply": "2021-06-10T03:06:05.305113Z"
    }
   },
   "outputs": [
    {
     "name": "stdout",
     "output_type": "stream",
     "text": [
      "1.0\n"
     ]
    }
   ],
   "source": [
    "flotante = 1.0\n",
    "print(flotante)"
   ]
  },
  {
   "cell_type": "code",
   "execution_count": 7,
   "id": "e9b3f0a0",
   "metadata": {
    "execution": {
     "iopub.execute_input": "2021-06-10T03:06:05.310365Z",
     "iopub.status.busy": "2021-06-10T03:06:05.309095Z",
     "iopub.status.idle": "2021-06-10T03:06:05.312100Z",
     "shell.execute_reply": "2021-06-10T03:06:05.311618Z"
    }
   },
   "outputs": [
    {
     "name": "stdout",
     "output_type": "stream",
     "text": [
      "(1, 1.0)\n"
     ]
    }
   ],
   "source": [
    "tupla = (entero, flotante)\n",
    "print(tupla)"
   ]
  },
  {
   "cell_type": "code",
   "execution_count": 8,
   "id": "a8d63d76",
   "metadata": {
    "execution": {
     "iopub.execute_input": "2021-06-10T03:06:05.315551Z",
     "iopub.status.busy": "2021-06-10T03:06:05.314994Z",
     "iopub.status.idle": "2021-06-10T03:06:05.316825Z",
     "shell.execute_reply": "2021-06-10T03:06:05.317266Z"
    }
   },
   "outputs": [
    {
     "name": "stdout",
     "output_type": "stream",
     "text": [
      "(1, 1.0, 'Hola')\n"
     ]
    }
   ],
   "source": [
    "nupla = (entero, flotante, string)\n",
    "print(nupla)"
   ]
  },
  {
   "cell_type": "code",
   "execution_count": 9,
   "id": "61f29248",
   "metadata": {
    "execution": {
     "iopub.execute_input": "2021-06-10T03:06:05.320944Z",
     "iopub.status.busy": "2021-06-10T03:06:05.320427Z",
     "iopub.status.idle": "2021-06-10T03:06:05.322253Z",
     "shell.execute_reply": "2021-06-10T03:06:05.322678Z"
    }
   },
   "outputs": [
    {
     "name": "stdout",
     "output_type": "stream",
     "text": [
      "[1, 1.0, 'Hola']\n"
     ]
    }
   ],
   "source": [
    "lista = [entero, flotante, string]\n",
    "print(lista)"
   ]
  },
  {
   "cell_type": "code",
   "execution_count": 10,
   "id": "84e17bd2",
   "metadata": {
    "execution": {
     "iopub.execute_input": "2021-06-10T03:06:05.326723Z",
     "iopub.status.busy": "2021-06-10T03:06:05.326170Z",
     "iopub.status.idle": "2021-06-10T03:06:05.328233Z",
     "shell.execute_reply": "2021-06-10T03:06:05.328657Z"
    }
   },
   "outputs": [
    {
     "name": "stdout",
     "output_type": "stream",
     "text": [
      "{'1': (1, 1.0), 50: (1, 1.0, 'Hola'), '3': 1}\n"
     ]
    }
   ],
   "source": [
    "diccionario = {'1': tupla, 50: nupla, '3': entero}\n",
    "print(diccionario)"
   ]
  },
  {
   "cell_type": "code",
   "execution_count": 11,
   "id": "f2a3dbdb",
   "metadata": {
    "execution": {
     "iopub.execute_input": "2021-06-10T03:06:05.332224Z",
     "iopub.status.busy": "2021-06-10T03:06:05.331648Z",
     "iopub.status.idle": "2021-06-10T03:06:05.333350Z",
     "shell.execute_reply": "2021-06-10T03:06:05.333795Z"
    }
   },
   "outputs": [
    {
     "name": "stdout",
     "output_type": "stream",
     "text": [
      "{1, 2}\n"
     ]
    }
   ],
   "source": [
    "conjunto = set([1, 2])\n",
    "print(conjunto)"
   ]
  },
  {
   "cell_type": "code",
   "execution_count": 12,
   "id": "23ac44be",
   "metadata": {
    "execution": {
     "iopub.execute_input": "2021-06-10T03:06:05.337521Z",
     "iopub.status.busy": "2021-06-10T03:06:05.336994Z",
     "iopub.status.idle": "2021-06-10T03:06:05.338666Z",
     "shell.execute_reply": "2021-06-10T03:06:05.339198Z"
    }
   },
   "outputs": [
    {
     "name": "stdout",
     "output_type": "stream",
     "text": [
      "True\n"
     ]
    }
   ],
   "source": [
    "booleano = True\n",
    "print(booleano)"
   ]
  },
  {
   "cell_type": "code",
   "execution_count": 13,
   "id": "cb22dbcd",
   "metadata": {
    "execution": {
     "iopub.execute_input": "2021-06-10T03:06:05.342765Z",
     "iopub.status.busy": "2021-06-10T03:06:05.342248Z",
     "iopub.status.idle": "2021-06-10T03:06:05.344020Z",
     "shell.execute_reply": "2021-06-10T03:06:05.344535Z"
    }
   },
   "outputs": [
    {
     "name": "stdout",
     "output_type": "stream",
     "text": [
      "None\n"
     ]
    }
   ],
   "source": [
    "nada = None\n",
    "print(nada)"
   ]
  },
  {
   "cell_type": "markdown",
   "id": "6df44ba4",
   "metadata": {},
   "source": [
    "Ojo que las variables pueden cambiar de tipo!"
   ]
  },
  {
   "cell_type": "code",
   "execution_count": 14,
   "id": "3d836f84",
   "metadata": {
    "execution": {
     "iopub.execute_input": "2021-06-10T03:06:05.348498Z",
     "iopub.status.busy": "2021-06-10T03:06:05.348018Z",
     "iopub.status.idle": "2021-06-10T03:06:05.349758Z",
     "shell.execute_reply": "2021-06-10T03:06:05.350119Z"
    }
   },
   "outputs": [
    {
     "name": "stdout",
     "output_type": "stream",
     "text": [
      "1\n",
      "<class 'int'>\n"
     ]
    }
   ],
   "source": [
    "elemento = 1\n",
    "print(elemento)\n",
    "print(type(elemento))"
   ]
  },
  {
   "cell_type": "code",
   "execution_count": 15,
   "id": "c30b3aca",
   "metadata": {
    "execution": {
     "iopub.execute_input": "2021-06-10T03:06:05.353977Z",
     "iopub.status.busy": "2021-06-10T03:06:05.353494Z",
     "iopub.status.idle": "2021-06-10T03:06:05.355271Z",
     "shell.execute_reply": "2021-06-10T03:06:05.355849Z"
    }
   },
   "outputs": [
    {
     "name": "stdout",
     "output_type": "stream",
     "text": [
      "1\n",
      "<class 'str'>\n"
     ]
    }
   ],
   "source": [
    "elemento = str(1)\n",
    "print(elemento)\n",
    "print(type(elemento))"
   ]
  },
  {
   "cell_type": "code",
   "execution_count": 16,
   "id": "674e9175",
   "metadata": {
    "execution": {
     "iopub.execute_input": "2021-06-10T03:06:05.362568Z",
     "iopub.status.busy": "2021-06-10T03:06:05.361978Z",
     "iopub.status.idle": "2021-06-10T03:06:05.365342Z",
     "shell.execute_reply": "2021-06-10T03:06:05.364758Z"
    }
   },
   "outputs": [
    {
     "name": "stdout",
     "output_type": "stream",
     "text": [
      "[2]\n",
      "<class 'list'>\n"
     ]
    }
   ],
   "source": [
    "elemento = [2]\n",
    "\n",
    "print(elemento)\n",
    "print(type(elemento))"
   ]
  },
  {
   "cell_type": "markdown",
   "id": "2b91f482",
   "metadata": {},
   "source": [
    "### Tipos basicos"
   ]
  },
  {
   "cell_type": "markdown",
   "id": "b7062175",
   "metadata": {
    "slideshow": {
     "slide_type": "slide"
    }
   },
   "source": [
    "#### Listas de Python"
   ]
  },
  {
   "cell_type": "code",
   "execution_count": 17,
   "id": "6bd88a38",
   "metadata": {
    "execution": {
     "iopub.execute_input": "2021-06-10T03:06:05.369265Z",
     "iopub.status.busy": "2021-06-10T03:06:05.368737Z",
     "iopub.status.idle": "2021-06-10T03:06:05.374117Z",
     "shell.execute_reply": "2021-06-10T03:06:05.373648Z"
    }
   },
   "outputs": [
    {
     "data": {
      "text/plain": [
       "[]"
      ]
     },
     "execution_count": 1,
     "metadata": {},
     "output_type": "execute_result"
    }
   ],
   "source": [
    "lista = list()\n",
    "lista"
   ]
  },
  {
   "cell_type": "code",
   "execution_count": 18,
   "id": "c7f9a1e0",
   "metadata": {
    "execution": {
     "iopub.execute_input": "2021-06-10T03:06:05.377861Z",
     "iopub.status.busy": "2021-06-10T03:06:05.377307Z",
     "iopub.status.idle": "2021-06-10T03:06:05.382461Z",
     "shell.execute_reply": "2021-06-10T03:06:05.381973Z"
    },
    "slideshow": {
     "slide_type": "slide"
    }
   },
   "outputs": [
    {
     "data": {
      "text/plain": [
       "[]"
      ]
     },
     "execution_count": 1,
     "metadata": {},
     "output_type": "execute_result"
    }
   ],
   "source": [
    "lista = []\n",
    "lista"
   ]
  },
  {
   "cell_type": "code",
   "execution_count": 19,
   "id": "1f078e5a",
   "metadata": {
    "execution": {
     "iopub.execute_input": "2021-06-10T03:06:05.386377Z",
     "iopub.status.busy": "2021-06-10T03:06:05.385857Z",
     "iopub.status.idle": "2021-06-10T03:06:05.391512Z",
     "shell.execute_reply": "2021-06-10T03:06:05.391087Z"
    },
    "slideshow": {
     "slide_type": "slide"
    }
   },
   "outputs": [
    {
     "data": {
      "text/plain": [
       "[1, 2, 3, 4]"
      ]
     },
     "execution_count": 1,
     "metadata": {},
     "output_type": "execute_result"
    }
   ],
   "source": [
    "lista = [1, 2, 3, 4]\n",
    "lista"
   ]
  },
  {
   "cell_type": "code",
   "execution_count": 20,
   "id": "c7b4cbcb",
   "metadata": {
    "execution": {
     "iopub.execute_input": "2021-06-10T03:06:05.395600Z",
     "iopub.status.busy": "2021-06-10T03:06:05.395010Z",
     "iopub.status.idle": "2021-06-10T03:06:05.400420Z",
     "shell.execute_reply": "2021-06-10T03:06:05.399978Z"
    },
    "slideshow": {
     "slide_type": "slide"
    }
   },
   "outputs": [
    {
     "data": {
      "text/plain": [
       "[1, 2, 3, 4, 1, 'dos', 3.0]"
      ]
     },
     "execution_count": 1,
     "metadata": {},
     "output_type": "execute_result"
    }
   ],
   "source": [
    "lista.append(1)  # Inserto un 1 al final\n",
    "lista.append(\"dos\")  # Inserto un \"dos\" al final\n",
    "lista.append(3.0)  # Inserto un 3.0 al final\n",
    "lista"
   ]
  },
  {
   "cell_type": "code",
   "execution_count": 21,
   "id": "9618d5c2",
   "metadata": {
    "execution": {
     "iopub.execute_input": "2021-06-10T03:06:05.404231Z",
     "iopub.status.busy": "2021-06-10T03:06:05.403636Z",
     "iopub.status.idle": "2021-06-10T03:06:05.406684Z",
     "shell.execute_reply": "2021-06-10T03:06:05.406225Z"
    }
   },
   "outputs": [
    {
     "name": "stdout",
     "output_type": "stream",
     "text": [
      "[1, 2, 10, 3, 4, 1, 'dos', 3.0]\n"
     ]
    }
   ],
   "source": [
    "lista.insert(2, 10)  # Inserto en posicion 2 un 10\n",
    "print(lista)"
   ]
  },
  {
   "cell_type": "code",
   "execution_count": 22,
   "id": "21b10743",
   "metadata": {
    "execution": {
     "iopub.execute_input": "2021-06-10T03:06:05.410621Z",
     "iopub.status.busy": "2021-06-10T03:06:05.410106Z",
     "iopub.status.idle": "2021-06-10T03:06:05.414153Z",
     "shell.execute_reply": "2021-06-10T03:06:05.413666Z"
    }
   },
   "outputs": [
    {
     "data": {
      "text/plain": [
       "8"
      ]
     },
     "execution_count": 1,
     "metadata": {},
     "output_type": "execute_result"
    }
   ],
   "source": [
    "len(lista)"
   ]
  },
  {
   "cell_type": "code",
   "execution_count": 23,
   "id": "bf5fe0e6",
   "metadata": {
    "execution": {
     "iopub.execute_input": "2021-06-10T03:06:05.418902Z",
     "iopub.status.busy": "2021-06-10T03:06:05.417937Z",
     "iopub.status.idle": "2021-06-10T03:06:05.421093Z",
     "shell.execute_reply": "2021-06-10T03:06:05.420651Z"
    }
   },
   "outputs": [
    {
     "data": {
      "text/plain": [
       "3.0"
      ]
     },
     "execution_count": 1,
     "metadata": {},
     "output_type": "execute_result"
    }
   ],
   "source": [
    "lista.pop()"
   ]
  },
  {
   "cell_type": "code",
   "execution_count": 24,
   "id": "a914759b",
   "metadata": {
    "execution": {
     "iopub.execute_input": "2021-06-10T03:06:05.425813Z",
     "iopub.status.busy": "2021-06-10T03:06:05.424822Z",
     "iopub.status.idle": "2021-06-10T03:06:05.427371Z",
     "shell.execute_reply": "2021-06-10T03:06:05.427828Z"
    }
   },
   "outputs": [
    {
     "data": {
      "text/plain": [
       "[1, 2, 10, 3, 4, 1, 'dos']"
      ]
     },
     "execution_count": 1,
     "metadata": {},
     "output_type": "execute_result"
    }
   ],
   "source": [
    "lista"
   ]
  },
  {
   "cell_type": "code",
   "execution_count": 25,
   "id": "12db3fbe",
   "metadata": {
    "execution": {
     "iopub.execute_input": "2021-06-10T03:06:05.432045Z",
     "iopub.status.busy": "2021-06-10T03:06:05.431442Z",
     "iopub.status.idle": "2021-06-10T03:06:05.434185Z",
     "shell.execute_reply": "2021-06-10T03:06:05.434585Z"
    }
   },
   "outputs": [
    {
     "data": {
      "text/plain": [
       "2"
      ]
     },
     "execution_count": 1,
     "metadata": {},
     "output_type": "execute_result"
    }
   ],
   "source": [
    "lista.index(10)"
   ]
  },
  {
   "cell_type": "code",
   "execution_count": 26,
   "id": "b7bf29c9",
   "metadata": {
    "execution": {
     "iopub.execute_input": "2021-06-10T03:06:05.439083Z",
     "iopub.status.busy": "2021-06-10T03:06:05.438501Z",
     "iopub.status.idle": "2021-06-10T03:06:05.441182Z",
     "shell.execute_reply": "2021-06-10T03:06:05.441654Z"
    }
   },
   "outputs": [
    {
     "data": {
      "text/plain": [
       "[1, 2, 3, 4, 1, 'dos']"
      ]
     },
     "execution_count": 1,
     "metadata": {},
     "output_type": "execute_result"
    }
   ],
   "source": [
    "lista.remove(10)\n",
    "lista"
   ]
  },
  {
   "cell_type": "code",
   "execution_count": 27,
   "id": "5b2214cd",
   "metadata": {
    "execution": {
     "iopub.execute_input": "2021-06-10T03:06:05.446442Z",
     "iopub.status.busy": "2021-06-10T03:06:05.445906Z",
     "iopub.status.idle": "2021-06-10T03:06:05.504505Z",
     "shell.execute_reply": "2021-06-10T03:06:05.504099Z"
    },
    "tags": [
     "raises-exception"
    ]
   },
   "outputs": [
    {
     "name": "stdout",
     "output_type": "stream",
     "text": [
      "1\n",
      "2\n",
      "2\n",
      "3\n",
      "3\n",
      "4\n",
      "4\n",
      "5\n",
      "1\n",
      "2\n",
      "dos\n"
     ]
    },
    {
     "ename": "TypeError",
     "evalue": "can only concatenate str (not \"int\") to str",
     "output_type": "error",
     "traceback": [
      "\u001b[0;31m---------------------------------------------------------------------------\u001b[0m",
      "\u001b[0;31mTypeError\u001b[0m                                 Traceback (most recent call last)",
      "\u001b[0;32m<ipython-input-1-41b56d5cf080>\u001b[0m in \u001b[0;36m<module>\u001b[0;34m\u001b[0m\n\u001b[1;32m      1\u001b[0m \u001b[0;32mfor\u001b[0m \u001b[0melemento\u001b[0m \u001b[0;32min\u001b[0m \u001b[0mlista\u001b[0m\u001b[0;34m:\u001b[0m\u001b[0;34m\u001b[0m\u001b[0;34m\u001b[0m\u001b[0m\n\u001b[1;32m      2\u001b[0m     \u001b[0mprint\u001b[0m\u001b[0;34m(\u001b[0m\u001b[0melemento\u001b[0m\u001b[0;34m)\u001b[0m\u001b[0;34m\u001b[0m\u001b[0;34m\u001b[0m\u001b[0m\n\u001b[0;32m----> 3\u001b[0;31m     \u001b[0mprint\u001b[0m\u001b[0;34m(\u001b[0m\u001b[0melemento\u001b[0m \u001b[0;34m+\u001b[0m \u001b[0;36m1\u001b[0m\u001b[0;34m)\u001b[0m\u001b[0;34m\u001b[0m\u001b[0;34m\u001b[0m\u001b[0m\n\u001b[0m",
      "\u001b[0;31mTypeError\u001b[0m: can only concatenate str (not \"int\") to str"
     ]
    }
   ],
   "source": [
    "for elemento in lista:\n",
    "    print(elemento)\n",
    "    print(elemento + 1)"
   ]
  },
  {
   "cell_type": "code",
   "execution_count": 28,
   "id": "85ab9ae7",
   "metadata": {
    "execution": {
     "iopub.execute_input": "2021-06-10T03:06:05.508635Z",
     "iopub.status.busy": "2021-06-10T03:06:05.508154Z",
     "iopub.status.idle": "2021-06-10T03:06:05.510987Z",
     "shell.execute_reply": "2021-06-10T03:06:05.511444Z"
    }
   },
   "outputs": [
    {
     "data": {
      "text/plain": [
       "[1, 2, 3, 4, 1, 'dos']"
      ]
     },
     "execution_count": 1,
     "metadata": {},
     "output_type": "execute_result"
    }
   ],
   "source": [
    "lista"
   ]
  },
  {
   "cell_type": "code",
   "execution_count": 29,
   "id": "3138e37e",
   "metadata": {
    "execution": {
     "iopub.execute_input": "2021-06-10T03:06:05.517225Z",
     "iopub.status.busy": "2021-06-10T03:06:05.515879Z",
     "iopub.status.idle": "2021-06-10T03:06:05.519007Z",
     "shell.execute_reply": "2021-06-10T03:06:05.518518Z"
    }
   },
   "outputs": [
    {
     "name": "stdout",
     "output_type": "stream",
     "text": [
      "0-ésimo elemento: 1\n",
      "1-ésimo elemento: 2\n",
      "2-ésimo elemento: 3\n",
      "3-ésimo elemento: 4\n",
      "4-ésimo elemento: 1\n",
      "5-ésimo elemento: dos\n"
     ]
    }
   ],
   "source": [
    "for i, elemento in enumerate(lista):\n",
    "    print(f\"{i}-ésimo elemento: {elemento}\")"
   ]
  },
  {
   "cell_type": "code",
   "execution_count": 30,
   "id": "b3875d47",
   "metadata": {
    "execution": {
     "iopub.execute_input": "2021-06-10T03:06:05.522584Z",
     "iopub.status.busy": "2021-06-10T03:06:05.521952Z",
     "iopub.status.idle": "2021-06-10T03:06:05.527484Z",
     "shell.execute_reply": "2021-06-10T03:06:05.527005Z"
    },
    "tags": [
     "raises-exception"
    ]
   },
   "outputs": [
    {
     "ename": "TypeError",
     "evalue": "'<' not supported between instances of 'str' and 'int'",
     "output_type": "error",
     "traceback": [
      "\u001b[0;31m---------------------------------------------------------------------------\u001b[0m",
      "\u001b[0;31mTypeError\u001b[0m                                 Traceback (most recent call last)",
      "\u001b[0;32m<ipython-input-1-06c3f264dc7a>\u001b[0m in \u001b[0;36m<module>\u001b[0;34m\u001b[0m\n\u001b[0;32m----> 1\u001b[0;31m \u001b[0msorted\u001b[0m\u001b[0;34m(\u001b[0m\u001b[0mlista\u001b[0m\u001b[0;34m)\u001b[0m\u001b[0;34m\u001b[0m\u001b[0;34m\u001b[0m\u001b[0m\n\u001b[0m",
      "\u001b[0;31mTypeError\u001b[0m: '<' not supported between instances of 'str' and 'int'"
     ]
    }
   ],
   "source": [
    "sorted(lista)"
   ]
  },
  {
   "cell_type": "code",
   "execution_count": 31,
   "id": "a706e1f7",
   "metadata": {
    "execution": {
     "iopub.execute_input": "2021-06-10T03:06:05.532235Z",
     "iopub.status.busy": "2021-06-10T03:06:05.530920Z",
     "iopub.status.idle": "2021-06-10T03:06:05.532834Z",
     "shell.execute_reply": "2021-06-10T03:06:05.533259Z"
    }
   },
   "outputs": [],
   "source": [
    "lista.remove(\"dos\")"
   ]
  },
  {
   "cell_type": "code",
   "execution_count": 32,
   "id": "7f914648",
   "metadata": {
    "execution": {
     "iopub.execute_input": "2021-06-10T03:06:05.537721Z",
     "iopub.status.busy": "2021-06-10T03:06:05.537179Z",
     "iopub.status.idle": "2021-06-10T03:06:05.539859Z",
     "shell.execute_reply": "2021-06-10T03:06:05.540324Z"
    }
   },
   "outputs": [
    {
     "data": {
      "text/plain": [
       "[1, 1, 2, 3, 4]"
      ]
     },
     "execution_count": 1,
     "metadata": {},
     "output_type": "execute_result"
    }
   ],
   "source": [
    "sorted(lista)"
   ]
  },
  {
   "cell_type": "code",
   "execution_count": 33,
   "id": "aebd84d4",
   "metadata": {
    "execution": {
     "iopub.execute_input": "2021-06-10T03:06:05.545164Z",
     "iopub.status.busy": "2021-06-10T03:06:05.544175Z",
     "iopub.status.idle": "2021-06-10T03:06:05.547318Z",
     "shell.execute_reply": "2021-06-10T03:06:05.546875Z"
    }
   },
   "outputs": [
    {
     "data": {
      "text/plain": [
       "[1, 1, 2, 3, 4]"
      ]
     },
     "execution_count": 1,
     "metadata": {},
     "output_type": "execute_result"
    }
   ],
   "source": [
    "lista.sort()\n",
    "lista"
   ]
  },
  {
   "cell_type": "markdown",
   "id": "304a5b1b",
   "metadata": {
    "slideshow": {
     "slide_type": "slide"
    }
   },
   "source": [
    "#### Tuplas de Python\n",
    "\n",
    "Las tuplas son inmutables. No se pueden agregar elementos luego de creadas."
   ]
  },
  {
   "cell_type": "code",
   "execution_count": 34,
   "id": "ccae1b0a",
   "metadata": {
    "execution": {
     "iopub.execute_input": "2021-06-10T03:06:05.551765Z",
     "iopub.status.busy": "2021-06-10T03:06:05.551189Z",
     "iopub.status.idle": "2021-06-10T03:06:05.557060Z",
     "shell.execute_reply": "2021-06-10T03:06:05.557515Z"
    },
    "slideshow": {
     "slide_type": "slide"
    },
    "tags": [
     "raises-exception"
    ]
   },
   "outputs": [
    {
     "name": "stdout",
     "output_type": "stream",
     "text": [
      "(1, 2)\n",
      "1\n",
      "2\n"
     ]
    },
    {
     "ename": "TypeError",
     "evalue": "'tuple' object does not support item assignment",
     "output_type": "error",
     "traceback": [
      "\u001b[0;31m---------------------------------------------------------------------------\u001b[0m",
      "\u001b[0;31mTypeError\u001b[0m                                 Traceback (most recent call last)",
      "\u001b[0;32m<ipython-input-1-80ca8b547dd6>\u001b[0m in \u001b[0;36m<module>\u001b[0;34m\u001b[0m\n\u001b[1;32m      5\u001b[0m \u001b[0mprint\u001b[0m\u001b[0;34m(\u001b[0m\u001b[0mtupla\u001b[0m\u001b[0;34m[\u001b[0m\u001b[0;36m1\u001b[0m\u001b[0;34m]\u001b[0m\u001b[0;34m)\u001b[0m\u001b[0;34m\u001b[0m\u001b[0;34m\u001b[0m\u001b[0m\n\u001b[1;32m      6\u001b[0m \u001b[0;34m\u001b[0m\u001b[0m\n\u001b[0;32m----> 7\u001b[0;31m \u001b[0mtupla\u001b[0m\u001b[0;34m[\u001b[0m\u001b[0;36m1\u001b[0m\u001b[0;34m]\u001b[0m \u001b[0;34m=\u001b[0m \u001b[0;36m3\u001b[0m  \u001b[0;31m# Falla. No se puede mutar\u001b[0m\u001b[0;34m\u001b[0m\u001b[0;34m\u001b[0m\u001b[0m\n\u001b[0m",
      "\u001b[0;31mTypeError\u001b[0m: 'tuple' object does not support item assignment"
     ]
    }
   ],
   "source": [
    "tupla = (1, 2)\n",
    "\n",
    "print(tupla)\n",
    "print(tupla[0])\n",
    "print(tupla[1])\n",
    "\n",
    "tupla[1] = 3  # Falla. No se puede mutar"
   ]
  },
  {
   "cell_type": "code",
   "execution_count": 35,
   "id": "61d81915",
   "metadata": {
    "execution": {
     "iopub.execute_input": "2021-06-10T03:06:05.561817Z",
     "iopub.status.busy": "2021-06-10T03:06:05.561269Z",
     "iopub.status.idle": "2021-06-10T03:06:05.563808Z",
     "shell.execute_reply": "2021-06-10T03:06:05.564244Z"
    }
   },
   "outputs": [
    {
     "data": {
      "text/plain": [
       "[1, 2]"
      ]
     },
     "execution_count": 1,
     "metadata": {},
     "output_type": "execute_result"
    }
   ],
   "source": [
    "l = [1, 2]\n",
    "l"
   ]
  },
  {
   "cell_type": "code",
   "execution_count": 36,
   "id": "fa07911b",
   "metadata": {
    "execution": {
     "iopub.execute_input": "2021-06-10T03:06:05.568690Z",
     "iopub.status.busy": "2021-06-10T03:06:05.567759Z",
     "iopub.status.idle": "2021-06-10T03:06:05.570268Z",
     "shell.execute_reply": "2021-06-10T03:06:05.570726Z"
    }
   },
   "outputs": [
    {
     "data": {
      "text/plain": [
       "[1, 3]"
      ]
     },
     "execution_count": 1,
     "metadata": {},
     "output_type": "execute_result"
    }
   ],
   "source": [
    "l[1] = 3\n",
    "l"
   ]
  },
  {
   "cell_type": "markdown",
   "id": "b33d04cf",
   "metadata": {
    "slideshow": {
     "slide_type": "slide"
    }
   },
   "source": [
    "#### Diferencia entre lista y tupla\n",
    "Las listas se caracterizan por ser mutables, es decir, se puede cambiar su contenido en tiempo de ejecución, mientras que las tuplas son inmutables ya que no es posible modificar el contenido una vez creada."
   ]
  },
  {
   "cell_type": "markdown",
   "id": "a3a4d4eb",
   "metadata": {},
   "source": [
    "#### Slices\n",
    "\n",
    "**Valen para listas, tuplas o strings (_segmentos_)**"
   ]
  },
  {
   "cell_type": "code",
   "execution_count": 37,
   "id": "c92543f5",
   "metadata": {
    "execution": {
     "iopub.execute_input": "2021-06-10T03:06:05.576656Z",
     "iopub.status.busy": "2021-06-10T03:06:05.575658Z",
     "iopub.status.idle": "2021-06-10T03:06:05.578141Z",
     "shell.execute_reply": "2021-06-10T03:06:05.577740Z"
    }
   },
   "outputs": [],
   "source": [
    "numeros = [0, 1, 2, 3, 4, 5, 6, 7, 8, 9, 10]"
   ]
  },
  {
   "cell_type": "code",
   "execution_count": 38,
   "id": "a0235a9b",
   "metadata": {
    "execution": {
     "iopub.execute_input": "2021-06-10T03:06:05.582165Z",
     "iopub.status.busy": "2021-06-10T03:06:05.581331Z",
     "iopub.status.idle": "2021-06-10T03:06:05.584238Z",
     "shell.execute_reply": "2021-06-10T03:06:05.584701Z"
    }
   },
   "outputs": [
    {
     "name": "stdout",
     "output_type": "stream",
     "text": [
      "[0, 1, 2, 3, 4, 5, 6, 7, 8, 9, 10]\n"
     ]
    }
   ],
   "source": [
    "print(numeros)"
   ]
  },
  {
   "cell_type": "code",
   "execution_count": 39,
   "id": "6c319685",
   "metadata": {
    "execution": {
     "iopub.execute_input": "2021-06-10T03:06:05.589560Z",
     "iopub.status.busy": "2021-06-10T03:06:05.588260Z",
     "iopub.status.idle": "2021-06-10T03:06:05.591348Z",
     "shell.execute_reply": "2021-06-10T03:06:05.590856Z"
    }
   },
   "outputs": [
    {
     "name": "stdout",
     "output_type": "stream",
     "text": [
      "2\n"
     ]
    }
   ],
   "source": [
    "print(numeros[2])  # Imprimo elemento en la posición 2"
   ]
  },
  {
   "cell_type": "code",
   "execution_count": 40,
   "id": "912c1d8f",
   "metadata": {
    "execution": {
     "iopub.execute_input": "2021-06-10T03:06:05.596413Z",
     "iopub.status.busy": "2021-06-10T03:06:05.595629Z",
     "iopub.status.idle": "2021-06-10T03:06:05.598187Z",
     "shell.execute_reply": "2021-06-10T03:06:05.598610Z"
    }
   },
   "outputs": [
    {
     "data": {
      "text/plain": [
       "10"
      ]
     },
     "execution_count": 1,
     "metadata": {},
     "output_type": "execute_result"
    }
   ],
   "source": [
    "numeros[len(numeros) - 1]"
   ]
  },
  {
   "cell_type": "code",
   "execution_count": 41,
   "id": "7125f509",
   "metadata": {
    "execution": {
     "iopub.execute_input": "2021-06-10T03:06:05.603120Z",
     "iopub.status.busy": "2021-06-10T03:06:05.602345Z",
     "iopub.status.idle": "2021-06-10T03:06:05.604397Z",
     "shell.execute_reply": "2021-06-10T03:06:05.604816Z"
    },
    "lines_to_next_cell": 2
   },
   "outputs": [
    {
     "name": "stdout",
     "output_type": "stream",
     "text": [
      "10\n"
     ]
    }
   ],
   "source": [
    "print(numeros[-1])  # # Imprimo elemento en la última posición"
   ]
  },
  {
   "cell_type": "code",
   "execution_count": 42,
   "id": "8e041627",
   "metadata": {
    "execution": {
     "iopub.execute_input": "2021-06-10T03:06:05.609020Z",
     "iopub.status.busy": "2021-06-10T03:06:05.608443Z",
     "iopub.status.idle": "2021-06-10T03:06:05.610423Z",
     "shell.execute_reply": "2021-06-10T03:06:05.610901Z"
    },
    "lines_to_next_cell": 2
   },
   "outputs": [
    {
     "data": {
      "text/plain": [
       "9"
      ]
     },
     "execution_count": 1,
     "metadata": {},
     "output_type": "execute_result"
    }
   ],
   "source": [
    "numeros[-2]"
   ]
  },
  {
   "cell_type": "code",
   "execution_count": 43,
   "id": "0d830a99",
   "metadata": {
    "execution": {
     "iopub.execute_input": "2021-06-10T03:06:05.614966Z",
     "iopub.status.busy": "2021-06-10T03:06:05.614405Z",
     "iopub.status.idle": "2021-06-10T03:06:05.618700Z",
     "shell.execute_reply": "2021-06-10T03:06:05.618210Z"
    }
   },
   "outputs": [
    {
     "name": "stdout",
     "output_type": "stream",
     "text": [
      "[0, 1, 2]\n"
     ]
    }
   ],
   "source": [
    "print(numeros[0:3])  # Imprimo de la pos 0 a la pos 2"
   ]
  },
  {
   "cell_type": "code",
   "execution_count": 44,
   "id": "2e76f17e",
   "metadata": {
    "execution": {
     "iopub.execute_input": "2021-06-10T03:06:05.622846Z",
     "iopub.status.busy": "2021-06-10T03:06:05.622284Z",
     "iopub.status.idle": "2021-06-10T03:06:05.624124Z",
     "shell.execute_reply": "2021-06-10T03:06:05.624548Z"
    }
   },
   "outputs": [
    {
     "name": "stdout",
     "output_type": "stream",
     "text": [
      "[7, 8]\n"
     ]
    }
   ],
   "source": [
    "print(numeros[-4:-2])"
   ]
  },
  {
   "cell_type": "code",
   "execution_count": 45,
   "id": "3da46045",
   "metadata": {
    "execution": {
     "iopub.execute_input": "2021-06-10T03:06:05.628266Z",
     "iopub.status.busy": "2021-06-10T03:06:05.627661Z",
     "iopub.status.idle": "2021-06-10T03:06:05.629534Z",
     "shell.execute_reply": "2021-06-10T03:06:05.629979Z"
    }
   },
   "outputs": [
    {
     "name": "stdout",
     "output_type": "stream",
     "text": [
      "[0, 1, 2, 3, 4, 5, 6, 7, 8, 9, 10]\n"
     ]
    }
   ],
   "source": [
    "print(numeros[0:80])"
   ]
  },
  {
   "cell_type": "code",
   "execution_count": 46,
   "id": "cc8cca39",
   "metadata": {
    "execution": {
     "iopub.execute_input": "2021-06-10T03:06:05.633390Z",
     "iopub.status.busy": "2021-06-10T03:06:05.632871Z",
     "iopub.status.idle": "2021-06-10T03:06:05.635770Z",
     "shell.execute_reply": "2021-06-10T03:06:05.635190Z"
    }
   },
   "outputs": [
    {
     "name": "stdout",
     "output_type": "stream",
     "text": [
      "[0, 1, 2]\n"
     ]
    }
   ],
   "source": [
    "print(numeros[:3])"
   ]
  },
  {
   "cell_type": "code",
   "execution_count": 47,
   "id": "acf03a15",
   "metadata": {
    "execution": {
     "iopub.execute_input": "2021-06-10T03:06:05.639429Z",
     "iopub.status.busy": "2021-06-10T03:06:05.638904Z",
     "iopub.status.idle": "2021-06-10T03:06:05.640512Z",
     "shell.execute_reply": "2021-06-10T03:06:05.641028Z"
    }
   },
   "outputs": [
    {
     "name": "stdout",
     "output_type": "stream",
     "text": [
      "[3, 4, 5, 6, 7, 8, 9, 10]\n"
     ]
    }
   ],
   "source": [
    "print(numeros[3:])"
   ]
  },
  {
   "cell_type": "code",
   "execution_count": 48,
   "id": "20092679",
   "metadata": {
    "execution": {
     "iopub.execute_input": "2021-06-10T03:06:05.644839Z",
     "iopub.status.busy": "2021-06-10T03:06:05.644272Z",
     "iopub.status.idle": "2021-06-10T03:06:05.646066Z",
     "shell.execute_reply": "2021-06-10T03:06:05.646552Z"
    }
   },
   "outputs": [
    {
     "name": "stdout",
     "output_type": "stream",
     "text": [
      "[0, 2, 4, 6, 8]\n"
     ]
    }
   ],
   "source": [
    "print(numeros[0:10:2])"
   ]
  },
  {
   "cell_type": "markdown",
   "id": "1c46b456",
   "metadata": {},
   "source": [
    "```python\n",
    "lista[<inicio>:<final>:<step>]\n",
    "```"
   ]
  },
  {
   "cell_type": "code",
   "execution_count": 49,
   "id": "305ec160",
   "metadata": {
    "execution": {
     "iopub.execute_input": "2021-06-10T03:06:05.651115Z",
     "iopub.status.busy": "2021-06-10T03:06:05.650637Z",
     "iopub.status.idle": "2021-06-10T03:06:05.657025Z",
     "shell.execute_reply": "2021-06-10T03:06:05.656619Z"
    },
    "lines_to_next_cell": 2
   },
   "outputs": [
    {
     "data": {
      "text/plain": [
       "[1, 2, 3, 4]"
      ]
     },
     "execution_count": 1,
     "metadata": {},
     "output_type": "execute_result"
    }
   ],
   "source": [
    "l1 = [1, 2]\n",
    "l2 = [3, 4]\n",
    "l1 + l2"
   ]
  },
  {
   "cell_type": "code",
   "execution_count": 50,
   "id": "7577df4e",
   "metadata": {
    "execution": {
     "iopub.execute_input": "2021-06-10T03:06:05.660813Z",
     "iopub.status.busy": "2021-06-10T03:06:05.660286Z",
     "iopub.status.idle": "2021-06-10T03:06:05.662044Z",
     "shell.execute_reply": "2021-06-10T03:06:05.662581Z"
    }
   },
   "outputs": [
    {
     "name": "stdout",
     "output_type": "stream",
     "text": [
      "[0, 1, 2, 3, 4, 5, 6, 'siete', 8, 9, 10]\n"
     ]
    }
   ],
   "source": [
    "numeros[7] = 'siete'  # Las listas se pueden mutar\n",
    "print(numeros)"
   ]
  },
  {
   "cell_type": "code",
   "execution_count": 51,
   "id": "193ab9f9",
   "metadata": {
    "execution": {
     "iopub.execute_input": "2021-06-10T03:06:05.666283Z",
     "iopub.status.busy": "2021-06-10T03:06:05.665766Z",
     "iopub.status.idle": "2021-06-10T03:06:05.667558Z",
     "shell.execute_reply": "2021-06-10T03:06:05.668084Z"
    }
   },
   "outputs": [
    {
     "name": "stdout",
     "output_type": "stream",
     "text": [
      "[10, 9, 8, 'siete', 6, 5, 4, 3, 2, 1, 0]\n"
     ]
    }
   ],
   "source": [
    "numeros = numeros[::-1]\n",
    "print(numeros)"
   ]
  },
  {
   "cell_type": "code",
   "execution_count": 52,
   "id": "7e3e967f",
   "metadata": {
    "execution": {
     "iopub.execute_input": "2021-06-10T03:06:05.675239Z",
     "iopub.status.busy": "2021-06-10T03:06:05.674654Z",
     "iopub.status.idle": "2021-06-10T03:06:05.676578Z",
     "shell.execute_reply": "2021-06-10T03:06:05.677047Z"
    },
    "tags": [
     "raises-exception"
    ]
   },
   "outputs": [
    {
     "ename": "IndexError",
     "evalue": "list index out of range",
     "output_type": "error",
     "traceback": [
      "\u001b[0;31m---------------------------------------------------------------------------\u001b[0m",
      "\u001b[0;31mIndexError\u001b[0m                                Traceback (most recent call last)",
      "\u001b[0;32m<ipython-input-1-0ef91dd29a9b>\u001b[0m in \u001b[0;36m<module>\u001b[0;34m\u001b[0m\n\u001b[0;32m----> 1\u001b[0;31m \u001b[0mprint\u001b[0m\u001b[0;34m(\u001b[0m\u001b[0mnumeros\u001b[0m\u001b[0;34m[\u001b[0m\u001b[0;36m15\u001b[0m\u001b[0;34m]\u001b[0m\u001b[0;34m)\u001b[0m  \u001b[0;31m# Falla. No se puede acceder a una posición inexistente\u001b[0m\u001b[0;34m\u001b[0m\u001b[0;34m\u001b[0m\u001b[0m\n\u001b[0m",
      "\u001b[0;31mIndexError\u001b[0m: list index out of range"
     ]
    }
   ],
   "source": [
    "print(numeros[15])  # Falla. No se puede acceder a una posición inexistente"
   ]
  },
  {
   "cell_type": "code",
   "execution_count": 53,
   "id": "8139e306",
   "metadata": {
    "execution": {
     "iopub.execute_input": "2021-06-10T03:06:05.682034Z",
     "iopub.status.busy": "2021-06-10T03:06:05.681478Z",
     "iopub.status.idle": "2021-06-10T03:06:05.683370Z",
     "shell.execute_reply": "2021-06-10T03:06:05.683843Z"
    }
   },
   "outputs": [
    {
     "name": "stdout",
     "output_type": "stream",
     "text": [
      "palabra\n",
      "a\n",
      "pal\n",
      "abra\n"
     ]
    }
   ],
   "source": [
    "palabra = 'palabra'\n",
    "print(palabra)\n",
    "print(palabra[3])\n",
    "print(palabra[:3])\n",
    "print(palabra[3:])"
   ]
  },
  {
   "cell_type": "code",
   "execution_count": 54,
   "id": "673c937e",
   "metadata": {
    "execution": {
     "iopub.execute_input": "2021-06-10T03:06:05.688074Z",
     "iopub.status.busy": "2021-06-10T03:06:05.687468Z",
     "iopub.status.idle": "2021-06-10T03:06:05.689177Z",
     "shell.execute_reply": "2021-06-10T03:06:05.689642Z"
    }
   },
   "outputs": [
    {
     "name": "stdout",
     "output_type": "stream",
     "text": [
      "(0, 1, 2, 3, 4)\n",
      "(0, 1)\n",
      "(2, 3, 4)\n"
     ]
    }
   ],
   "source": [
    "tupla = (0, 1, 2, 3, 4)\n",
    "\n",
    "print(tupla)\n",
    "print(tupla[:2])\n",
    "print(tupla[2:])"
   ]
  },
  {
   "cell_type": "markdown",
   "id": "758b4091",
   "metadata": {
    "slideshow": {
     "slide_type": "slide"
    }
   },
   "source": [
    "#### Diccionarios de Python\n",
    "\n",
    "Son como hashmaps, las claves deben ser inmutables para que no pierda sentido el diccionario. Si se pudieran modificar, se podrían cambiar las claves y generaría conflictos.\n",
    "\n",
    "Tipos mutables:\n",
    "- Listas\n",
    "- Diccionarios\n",
    "- Sets\n",
    "\n",
    "Tipos inmutables:\n",
    "- Int\n",
    "- Float\n",
    "- String\n",
    "- Tuplas\n"
   ]
  },
  {
   "cell_type": "code",
   "execution_count": 55,
   "id": "c0dd768c",
   "metadata": {
    "execution": {
     "iopub.execute_input": "2021-06-10T03:06:05.693486Z",
     "iopub.status.busy": "2021-06-10T03:06:05.692920Z",
     "iopub.status.idle": "2021-06-10T03:06:05.698512Z",
     "shell.execute_reply": "2021-06-10T03:06:05.698058Z"
    },
    "slideshow": {
     "slide_type": "slide"
    }
   },
   "outputs": [
    {
     "data": {
      "text/plain": [
       "{}"
      ]
     },
     "execution_count": 1,
     "metadata": {},
     "output_type": "execute_result"
    }
   ],
   "source": [
    "diccionario = {}\n",
    "diccionario"
   ]
  },
  {
   "cell_type": "code",
   "execution_count": 56,
   "id": "c2e4ba67",
   "metadata": {
    "execution": {
     "iopub.execute_input": "2021-06-10T03:06:05.703298Z",
     "iopub.status.busy": "2021-06-10T03:06:05.702479Z",
     "iopub.status.idle": "2021-06-10T03:06:05.705190Z",
     "shell.execute_reply": "2021-06-10T03:06:05.705647Z"
    }
   },
   "outputs": [
    {
     "data": {
      "text/plain": [
       "{}"
      ]
     },
     "execution_count": 1,
     "metadata": {},
     "output_type": "execute_result"
    }
   ],
   "source": [
    "diccionario = dict()\n",
    "diccionario"
   ]
  },
  {
   "cell_type": "code",
   "execution_count": 57,
   "id": "8505b15a",
   "metadata": {
    "execution": {
     "iopub.execute_input": "2021-06-10T03:06:05.710913Z",
     "iopub.status.busy": "2021-06-10T03:06:05.709743Z",
     "iopub.status.idle": "2021-06-10T03:06:05.712750Z",
     "shell.execute_reply": "2021-06-10T03:06:05.712274Z"
    },
    "slideshow": {
     "slide_type": "slide"
    }
   },
   "outputs": [
    {
     "name": "stdout",
     "output_type": "stream",
     "text": [
      "{'clave1': 'valor1', 2: 'valor2', 'clave3': 3}\n"
     ]
    }
   ],
   "source": [
    "# Cómo agregar cosas al diccionario\n",
    "diccionario['clave1'] = 'valor1'\n",
    "diccionario[2] = 'valor2'\n",
    "diccionario['clave3'] = 3\n",
    "print(diccionario)"
   ]
  },
  {
   "cell_type": "markdown",
   "id": "f47f9d5e",
   "metadata": {},
   "source": [
    "Hay dos formas de obtener valores de un diccionario:\n",
    "\n",
    "```python\n",
    "diccionario[clave]\n",
    "```\n",
    "\n",
    "El cual devuelve el valor si existe la clave suministrada o bien lanza `KeyError` si no existe."
   ]
  },
  {
   "cell_type": "code",
   "execution_count": 58,
   "id": "6b8305d0",
   "metadata": {
    "execution": {
     "iopub.execute_input": "2021-06-10T03:06:05.717629Z",
     "iopub.status.busy": "2021-06-10T03:06:05.716657Z",
     "iopub.status.idle": "2021-06-10T03:06:05.719252Z",
     "shell.execute_reply": "2021-06-10T03:06:05.719678Z"
    }
   },
   "outputs": [
    {
     "data": {
      "text/plain": [
       "'valor1'"
      ]
     },
     "execution_count": 1,
     "metadata": {},
     "output_type": "execute_result"
    }
   ],
   "source": [
    "diccionario['clave1']"
   ]
  },
  {
   "cell_type": "code",
   "execution_count": 59,
   "id": "0321dd3b",
   "metadata": {
    "execution": {
     "iopub.execute_input": "2021-06-10T03:06:05.726138Z",
     "iopub.status.busy": "2021-06-10T03:06:05.725627Z",
     "iopub.status.idle": "2021-06-10T03:06:05.727954Z",
     "shell.execute_reply": "2021-06-10T03:06:05.728437Z"
    },
    "tags": [
     "raises-exception"
    ]
   },
   "outputs": [
    {
     "ename": "KeyError",
     "evalue": "'clave1000'",
     "output_type": "error",
     "traceback": [
      "\u001b[0;31m---------------------------------------------------------------------------\u001b[0m",
      "\u001b[0;31mKeyError\u001b[0m                                  Traceback (most recent call last)",
      "\u001b[0;32m<ipython-input-1-41aae9a2e5ed>\u001b[0m in \u001b[0;36m<module>\u001b[0;34m\u001b[0m\n\u001b[0;32m----> 1\u001b[0;31m \u001b[0mdiccionario\u001b[0m\u001b[0;34m[\u001b[0m\u001b[0;34m'clave1000'\u001b[0m\u001b[0;34m]\u001b[0m\u001b[0;34m\u001b[0m\u001b[0;34m\u001b[0m\u001b[0m\n\u001b[0m",
      "\u001b[0;31mKeyError\u001b[0m: 'clave1000'"
     ]
    }
   ],
   "source": [
    "diccionario['clave1000']"
   ]
  },
  {
   "cell_type": "markdown",
   "id": "45108181",
   "metadata": {},
   "source": [
    "La segunda forma es con `get`:"
   ]
  },
  {
   "cell_type": "code",
   "execution_count": 60,
   "id": "b078b2cc",
   "metadata": {
    "execution": {
     "iopub.execute_input": "2021-06-10T03:06:05.761232Z",
     "iopub.status.busy": "2021-06-10T03:06:05.740671Z",
     "iopub.status.idle": "2021-06-10T03:06:05.785403Z",
     "shell.execute_reply": "2021-06-10T03:06:05.784818Z"
    }
   },
   "outputs": [],
   "source": [
    "diccionario.get?"
   ]
  },
  {
   "cell_type": "code",
   "execution_count": 61,
   "id": "3af69f22",
   "metadata": {
    "execution": {
     "iopub.execute_input": "2021-06-10T03:06:05.791387Z",
     "iopub.status.busy": "2021-06-10T03:06:05.789924Z",
     "iopub.status.idle": "2021-06-10T03:06:05.793221Z",
     "shell.execute_reply": "2021-06-10T03:06:05.792742Z"
    }
   },
   "outputs": [
    {
     "name": "stdout",
     "output_type": "stream",
     "text": [
      "Help on built-in function get:\n",
      "\n",
      "get(key, default=None, /) method of builtins.dict instance\n",
      "    Return the value for key if key is in the dictionary, else default.\n",
      "\n"
     ]
    }
   ],
   "source": [
    "help(diccionario.get)"
   ]
  },
  {
   "cell_type": "code",
   "execution_count": 62,
   "id": "727b11cb",
   "metadata": {
    "execution": {
     "iopub.execute_input": "2021-06-10T03:06:05.798934Z",
     "iopub.status.busy": "2021-06-10T03:06:05.797151Z",
     "iopub.status.idle": "2021-06-10T03:06:05.800724Z",
     "shell.execute_reply": "2021-06-10T03:06:05.799467Z"
    },
    "slideshow": {
     "slide_type": "slide"
    }
   },
   "outputs": [
    {
     "name": "stdout",
     "output_type": "stream",
     "text": [
      "None\n"
     ]
    }
   ],
   "source": [
    "print(diccionario.get('clave1000'))"
   ]
  },
  {
   "cell_type": "code",
   "execution_count": 63,
   "id": "13aba185",
   "metadata": {
    "execution": {
     "iopub.execute_input": "2021-06-10T03:06:05.805835Z",
     "iopub.status.busy": "2021-06-10T03:06:05.804412Z",
     "iopub.status.idle": "2021-06-10T03:06:05.807696Z",
     "shell.execute_reply": "2021-06-10T03:06:05.807205Z"
    },
    "slideshow": {
     "slide_type": "slide"
    }
   },
   "outputs": [
    {
     "name": "stdout",
     "output_type": "stream",
     "text": [
      "True\n"
     ]
    }
   ],
   "source": [
    "print('clave1' in diccionario)  # Verifico si la clave está en el diccionario"
   ]
  },
  {
   "cell_type": "code",
   "execution_count": 64,
   "id": "c38c91d6",
   "metadata": {
    "execution": {
     "iopub.execute_input": "2021-06-10T03:06:05.812529Z",
     "iopub.status.busy": "2021-06-10T03:06:05.811514Z",
     "iopub.status.idle": "2021-06-10T03:06:05.814886Z",
     "shell.execute_reply": "2021-06-10T03:06:05.814386Z"
    }
   },
   "outputs": [
    {
     "data": {
      "text/plain": [
       "True"
      ]
     },
     "execution_count": 1,
     "metadata": {},
     "output_type": "execute_result"
    }
   ],
   "source": [
    "l = [1, 2, 3, 4]\n",
    "2 in l"
   ]
  },
  {
   "cell_type": "code",
   "execution_count": 65,
   "id": "c28ca8e0",
   "metadata": {
    "execution": {
     "iopub.execute_input": "2021-06-10T03:06:05.820298Z",
     "iopub.status.busy": "2021-06-10T03:06:05.819009Z",
     "iopub.status.idle": "2021-06-10T03:06:05.822214Z",
     "shell.execute_reply": "2021-06-10T03:06:05.821692Z"
    }
   },
   "outputs": [
    {
     "name": "stdout",
     "output_type": "stream",
     "text": [
      "la clave es clave1 y el valor es valor1\n",
      "la clave es 2 y el valor es valor2\n",
      "la clave es clave3 y el valor es 3\n"
     ]
    }
   ],
   "source": [
    "for clave, valor in diccionario.items():\n",
    "    print(\"la clave es %s y el valor es %s\" % (clave, valor))"
   ]
  },
  {
   "cell_type": "code",
   "execution_count": 66,
   "id": "cddc354b",
   "metadata": {
    "execution": {
     "iopub.execute_input": "2021-06-10T03:06:05.827416Z",
     "iopub.status.busy": "2021-06-10T03:06:05.826228Z",
     "iopub.status.idle": "2021-06-10T03:06:05.829345Z",
     "shell.execute_reply": "2021-06-10T03:06:05.828878Z"
    }
   },
   "outputs": [
    {
     "name": "stdout",
     "output_type": "stream",
     "text": [
      "la clave es clave1 y el valor es valor1\n",
      "la clave es 2 y el valor es valor2\n",
      "la clave es clave3 y el valor es 3\n"
     ]
    }
   ],
   "source": [
    "for clave, valor in diccionario.items():\n",
    "    print(\"la clave es {} y el valor es {}\".format(clave, valor))"
   ]
  },
  {
   "cell_type": "code",
   "execution_count": 67,
   "id": "6e291b94",
   "metadata": {
    "execution": {
     "iopub.execute_input": "2021-06-10T03:06:05.834778Z",
     "iopub.status.busy": "2021-06-10T03:06:05.833546Z",
     "iopub.status.idle": "2021-06-10T03:06:05.836631Z",
     "shell.execute_reply": "2021-06-10T03:06:05.836147Z"
    },
    "slideshow": {
     "slide_type": "slide"
    }
   },
   "outputs": [
    {
     "name": "stdout",
     "output_type": "stream",
     "text": [
      "la clave es clave1 y el valor es valor1\n",
      "la clave es 2 y el valor es valor2\n",
      "la clave es clave3 y el valor es 3\n"
     ]
    }
   ],
   "source": [
    "# Cómo iterar un diccionario elemento por elemento\n",
    "for (\n",
    "    clave,\n",
    "    valor,\n",
    ") in (\n",
    "    diccionario.items()\n",
    "):  # diccionario.items() va devolviendo tuplas con el formato (clave,valor)\n",
    "    print(\n",
    "        f\"la clave es {clave} y el valor es {valor}\"\n",
    "    )  # con esta sintaxis se desempaquetan en clave y valor (similar a enumerate)"
   ]
  },
  {
   "cell_type": "code",
   "execution_count": 68,
   "id": "7f18867d",
   "metadata": {
    "execution": {
     "iopub.execute_input": "2021-06-10T03:06:05.841628Z",
     "iopub.status.busy": "2021-06-10T03:06:05.840752Z",
     "iopub.status.idle": "2021-06-10T03:06:05.844058Z",
     "shell.execute_reply": "2021-06-10T03:06:05.842189Z"
    },
    "slideshow": {
     "slide_type": "slide"
    }
   },
   "outputs": [
    {
     "name": "stdout",
     "output_type": "stream",
     "text": [
      "clave1\n",
      "2"
     ]
    },
    {
     "name": "stdout",
     "output_type": "stream",
     "text": [
      "\n",
      "clave3\n"
     ]
    }
   ],
   "source": [
    "for clave in diccionario.keys():\n",
    "    print(clave)"
   ]
  },
  {
   "cell_type": "code",
   "execution_count": 69,
   "id": "600971e6",
   "metadata": {
    "execution": {
     "iopub.execute_input": "2021-06-10T03:06:05.849252Z",
     "iopub.status.busy": "2021-06-10T03:06:05.848034Z",
     "iopub.status.idle": "2021-06-10T03:06:05.851159Z",
     "shell.execute_reply": "2021-06-10T03:06:05.850703Z"
    },
    "slideshow": {
     "slide_type": "slide"
    }
   },
   "outputs": [
    {
     "name": "stdout",
     "output_type": "stream",
     "text": [
      "valor1\n",
      "valor2\n",
      "3\n"
     ]
    }
   ],
   "source": [
    "for valor in diccionario.values():\n",
    "    print(valor)"
   ]
  },
  {
   "cell_type": "markdown",
   "id": "dfc0d919",
   "metadata": {},
   "source": [
    "#### Sets\n",
    "\n",
    "Son similares a los diccionarios (en eficiencia) pero se almacenan solo claves, y tienen algunas operaciones particulares.\n",
    "\n",
    "En particular, no pueden tener elementos iguales (pensar que son conjuntos)"
   ]
  },
  {
   "cell_type": "code",
   "execution_count": 70,
   "id": "ed938269",
   "metadata": {
    "execution": {
     "iopub.execute_input": "2021-06-10T03:06:05.854777Z",
     "iopub.status.busy": "2021-06-10T03:06:05.854243Z",
     "iopub.status.idle": "2021-06-10T03:06:05.858382Z",
     "shell.execute_reply": "2021-06-10T03:06:05.858840Z"
    }
   },
   "outputs": [],
   "source": [
    "set??"
   ]
  },
  {
   "cell_type": "code",
   "execution_count": 71,
   "id": "5357177c",
   "metadata": {
    "execution": {
     "iopub.execute_input": "2021-06-10T03:06:05.863597Z",
     "iopub.status.busy": "2021-06-10T03:06:05.862757Z",
     "iopub.status.idle": "2021-06-10T03:06:05.865568Z",
     "shell.execute_reply": "2021-06-10T03:06:05.866028Z"
    }
   },
   "outputs": [
    {
     "data": {
      "text/plain": [
       "{1, 2, 3}"
      ]
     },
     "execution_count": 1,
     "metadata": {},
     "output_type": "execute_result"
    }
   ],
   "source": [
    "# Se definen como los diccionarios pero sin hacerlos 'clave:valor', solamente una seguidilla de elementos\n",
    "{1, 2, 2, 3}"
   ]
  },
  {
   "cell_type": "code",
   "execution_count": 72,
   "id": "0b46ba9c",
   "metadata": {
    "execution": {
     "iopub.execute_input": "2021-06-10T03:06:05.870489Z",
     "iopub.status.busy": "2021-06-10T03:06:05.869951Z",
     "iopub.status.idle": "2021-06-10T03:06:05.871856Z",
     "shell.execute_reply": "2021-06-10T03:06:05.872314Z"
    }
   },
   "outputs": [
    {
     "data": {
      "text/plain": [
       "{1, 2, 3}"
      ]
     },
     "execution_count": 1,
     "metadata": {},
     "output_type": "execute_result"
    }
   ],
   "source": [
    "set([1, 2, 2, 3])"
   ]
  },
  {
   "cell_type": "markdown",
   "id": "cb6612e7",
   "metadata": {},
   "source": [
    "## Condicionales (if...elif...else)\n",
    "\n",
    "```python\n",
    "if <condición_1>:\n",
    "    <hacer algo_1 si se da la condición_1>\n",
    "elif <condición_2>:\n",
    "    <hacer algo_2 si se da la condición_2>\n",
    "...\n",
    "elif <condición_n>:\n",
    "    <hacer algo_n si se da la condición_n>\n",
    "else:\n",
    "    <hacer otra cosa si no dan las anteriores>\n",
    "```\n",
    "\n",
    "Algo importante para notar es que los bloques se definen por **niveles de identacion**."
   ]
  },
  {
   "cell_type": "code",
   "execution_count": 73,
   "id": "02489a3d",
   "metadata": {
    "execution": {
     "iopub.execute_input": "2021-06-10T03:06:05.876904Z",
     "iopub.status.busy": "2021-06-10T03:06:05.876342Z",
     "iopub.status.idle": "2021-06-10T03:06:05.878201Z",
     "shell.execute_reply": "2021-06-10T03:06:05.878651Z"
    }
   },
   "outputs": [
    {
     "name": "stdout",
     "output_type": "stream",
     "text": [
      "uno\n"
     ]
    }
   ],
   "source": [
    "v = 1\n",
    "if v == 1:\n",
    "    print(\"uno\")\n",
    "elif v == 2:\n",
    "    print(\"dos\")\n",
    "else:\n",
    "    print(\"ni idea\")\n",
    "    print(v)"
   ]
  },
  {
   "cell_type": "markdown",
   "id": "b80fd6a6",
   "metadata": {},
   "source": [
    "## Iteraciones\n",
    "\n",
    "```python\n",
    "while cond:\n",
    "    <codigo>\n",
    "```\n",
    "\n",
    "```python\n",
    "for elemento in iterable:\n",
    "    <codigo>\n",
    "```\n",
    "\n",
    "Para iterar sobre un rango de valores, usamos `range`"
   ]
  },
  {
   "cell_type": "code",
   "execution_count": 74,
   "id": "e5808aa7",
   "metadata": {
    "execution": {
     "iopub.execute_input": "2021-06-10T03:06:05.883145Z",
     "iopub.status.busy": "2021-06-10T03:06:05.882659Z",
     "iopub.status.idle": "2021-06-10T03:06:05.885321Z",
     "shell.execute_reply": "2021-06-10T03:06:05.884859Z"
    }
   },
   "outputs": [
    {
     "name": "stdout",
     "output_type": "stream",
     "text": [
      "1\n"
     ]
    },
    {
     "name": "stdout",
     "output_type": "stream",
     "text": [
      "4\n",
      "7\n",
      "10\n"
     ]
    }
   ],
   "source": [
    "for i in range(1, 11, 3):\n",
    "    print(i)"
   ]
  },
  {
   "cell_type": "markdown",
   "id": "b4c56d43",
   "metadata": {},
   "source": [
    "## Operadores logicos\n",
    "\n",
    "`not`, `or`, `and`"
   ]
  },
  {
   "cell_type": "code",
   "execution_count": 75,
   "id": "3d7202a1",
   "metadata": {
    "execution": {
     "iopub.execute_input": "2021-06-10T03:06:05.888929Z",
     "iopub.status.busy": "2021-06-10T03:06:05.888410Z",
     "iopub.status.idle": "2021-06-10T03:06:05.890215Z",
     "shell.execute_reply": "2021-06-10T03:06:05.890610Z"
    }
   },
   "outputs": [
    {
     "name": "stdout",
     "output_type": "stream",
     "text": [
      "yay\n"
     ]
    }
   ],
   "source": [
    "if True or False:\n",
    "    print(\"yay\")"
   ]
  },
  {
   "cell_type": "code",
   "execution_count": 76,
   "id": "f9b251c8",
   "metadata": {
    "execution": {
     "iopub.execute_input": "2021-06-10T03:06:05.894528Z",
     "iopub.status.busy": "2021-06-10T03:06:05.893950Z",
     "iopub.status.idle": "2021-06-10T03:06:05.895926Z",
     "shell.execute_reply": "2021-06-10T03:06:05.896392Z"
    }
   },
   "outputs": [
    {
     "data": {
      "text/plain": [
       "False"
      ]
     },
     "execution_count": 1,
     "metadata": {},
     "output_type": "execute_result"
    }
   ],
   "source": [
    "1 == 2"
   ]
  },
  {
   "cell_type": "code",
   "execution_count": 77,
   "id": "6a679fe9",
   "metadata": {
    "execution": {
     "iopub.execute_input": "2021-06-10T03:06:05.901561Z",
     "iopub.status.busy": "2021-06-10T03:06:05.901019Z",
     "iopub.status.idle": "2021-06-10T03:06:05.904418Z",
     "shell.execute_reply": "2021-06-10T03:06:05.903920Z"
    }
   },
   "outputs": [
    {
     "data": {
      "text/plain": [
       "True"
      ]
     },
     "execution_count": 1,
     "metadata": {},
     "output_type": "execute_result"
    }
   ],
   "source": [
    "1 != 2"
   ]
  },
  {
   "cell_type": "markdown",
   "id": "e57bdac3",
   "metadata": {
    "slideshow": {
     "slide_type": "slide"
    }
   },
   "source": [
    "## Funciones en Python"
   ]
  },
  {
   "cell_type": "code",
   "execution_count": 78,
   "id": "3787b2fa",
   "metadata": {
    "execution": {
     "iopub.execute_input": "2021-06-10T03:06:05.912280Z",
     "iopub.status.busy": "2021-06-10T03:06:05.911064Z",
     "iopub.status.idle": "2021-06-10T03:06:05.914105Z",
     "shell.execute_reply": "2021-06-10T03:06:05.913605Z"
    },
    "slideshow": {
     "slide_type": "slide"
    }
   },
   "outputs": [
    {
     "name": "stdout",
     "output_type": "stream",
     "text": [
      "True\n",
      "False\n"
     ]
    }
   ],
   "source": [
    "def busqueda_binaria(lista, elemento):\n",
    "    if not lista:\n",
    "        return False\n",
    "    elif len(lista) == 1:\n",
    "        return lista[0] == elemento\n",
    "    mitad = len(lista) // 2  # // es la operación división entera\n",
    "    if lista[mitad] == elemento:\n",
    "        return True\n",
    "    if lista[mitad] > elemento:\n",
    "        return busqueda_binaria(lista[:mitad], elemento)\n",
    "    if lista[mitad] < elemento:\n",
    "        return busqueda_binaria(lista[mitad:], elemento)\n",
    "\n",
    "\n",
    "print(busqueda_binaria([1, 2, 3, 4, 5], 4))\n",
    "print(busqueda_binaria([1, 4, 6, 7, 9, 10], 2))"
   ]
  },
  {
   "cell_type": "code",
   "execution_count": 79,
   "id": "2ed791b8",
   "metadata": {
    "execution": {
     "iopub.execute_input": "2021-06-10T03:06:05.919941Z",
     "iopub.status.busy": "2021-06-10T03:06:05.918637Z",
     "iopub.status.idle": "2021-06-10T03:06:05.921786Z",
     "shell.execute_reply": "2021-06-10T03:06:05.921284Z"
    }
   },
   "outputs": [
    {
     "name": "stdout",
     "output_type": "stream",
     "text": [
      "(3, 3, 3)\n"
     ]
    }
   ],
   "source": [
    "def a(b):\n",
    "    if a == 1:\n",
    "        print(a)\n",
    "    return (b, b, b)\n",
    "\n",
    "\n",
    "print(a(3))"
   ]
  },
  {
   "cell_type": "code",
   "execution_count": 80,
   "id": "15f54528",
   "metadata": {
    "execution": {
     "iopub.execute_input": "2021-06-10T03:06:05.926370Z",
     "iopub.status.busy": "2021-06-10T03:06:05.925794Z",
     "iopub.status.idle": "2021-06-10T03:06:05.935307Z",
     "shell.execute_reply": "2021-06-10T03:06:05.935837Z"
    },
    "lines_to_next_cell": 2,
    "slideshow": {
     "slide_type": "slide"
    },
    "tags": [
     "raises-exception"
    ]
   },
   "outputs": [
    {
     "name": "stdout",
     "output_type": "stream",
     "text": [
      "3\n",
      "3.0\n",
      "3.0\n",
      "hola como te va\n",
      "[1, 2, 3, 4, 5]\n"
     ]
    },
    {
     "ename": "TypeError",
     "evalue": "can only concatenate str (not \"int\") to str",
     "output_type": "error",
     "traceback": [
      "\u001b[0;31m---------------------------------------------------------------------------\u001b[0m",
      "\u001b[0;31mTypeError\u001b[0m                                 Traceback (most recent call last)",
      "\u001b[0;32m<ipython-input-1-c2a6a99a90c7>\u001b[0m in \u001b[0;36m<module>\u001b[0;34m\u001b[0m\n\u001b[1;32m      8\u001b[0m \u001b[0mprint\u001b[0m\u001b[0;34m(\u001b[0m\u001b[0msuma\u001b[0m\u001b[0;34m(\u001b[0m\u001b[0;34m\"hola \"\u001b[0m\u001b[0;34m,\u001b[0m \u001b[0;34m\"como te va\"\u001b[0m\u001b[0;34m)\u001b[0m\u001b[0;34m)\u001b[0m\u001b[0;34m\u001b[0m\u001b[0;34m\u001b[0m\u001b[0m\n\u001b[1;32m      9\u001b[0m \u001b[0mprint\u001b[0m\u001b[0;34m(\u001b[0m\u001b[0msuma\u001b[0m\u001b[0;34m(\u001b[0m\u001b[0;34m[\u001b[0m\u001b[0;36m1\u001b[0m\u001b[0;34m,\u001b[0m \u001b[0;36m2\u001b[0m\u001b[0;34m,\u001b[0m \u001b[0;36m3\u001b[0m\u001b[0;34m]\u001b[0m\u001b[0;34m,\u001b[0m \u001b[0;34m[\u001b[0m\u001b[0;36m4\u001b[0m\u001b[0;34m,\u001b[0m \u001b[0;36m5\u001b[0m\u001b[0;34m]\u001b[0m\u001b[0;34m)\u001b[0m\u001b[0;34m)\u001b[0m\u001b[0;34m\u001b[0m\u001b[0;34m\u001b[0m\u001b[0m\n\u001b[0;32m---> 10\u001b[0;31m \u001b[0mprint\u001b[0m\u001b[0;34m(\u001b[0m\u001b[0msuma\u001b[0m\u001b[0;34m(\u001b[0m\u001b[0;34m\"1\"\u001b[0m\u001b[0;34m,\u001b[0m \u001b[0;36m3\u001b[0m\u001b[0;34m)\u001b[0m\u001b[0;34m)\u001b[0m  \u001b[0;31m# Falla\u001b[0m\u001b[0;34m\u001b[0m\u001b[0;34m\u001b[0m\u001b[0m\n\u001b[0m",
      "\u001b[0;32m<ipython-input-1-c2a6a99a90c7>\u001b[0m in \u001b[0;36msuma\u001b[0;34m(a, b)\u001b[0m\n\u001b[1;32m      1\u001b[0m \u001b[0;32mdef\u001b[0m \u001b[0msuma\u001b[0m\u001b[0;34m(\u001b[0m\u001b[0ma\u001b[0m\u001b[0;34m,\u001b[0m \u001b[0mb\u001b[0m\u001b[0;34m)\u001b[0m\u001b[0;34m:\u001b[0m\u001b[0;34m\u001b[0m\u001b[0;34m\u001b[0m\u001b[0m\n\u001b[0;32m----> 2\u001b[0;31m     \u001b[0;32mreturn\u001b[0m \u001b[0ma\u001b[0m \u001b[0;34m+\u001b[0m \u001b[0mb\u001b[0m\u001b[0;34m\u001b[0m\u001b[0;34m\u001b[0m\u001b[0m\n\u001b[0m\u001b[1;32m      3\u001b[0m \u001b[0;34m\u001b[0m\u001b[0m\n\u001b[1;32m      4\u001b[0m \u001b[0;34m\u001b[0m\u001b[0m\n\u001b[1;32m      5\u001b[0m \u001b[0mprint\u001b[0m\u001b[0;34m(\u001b[0m\u001b[0msuma\u001b[0m\u001b[0;34m(\u001b[0m\u001b[0;36m1\u001b[0m\u001b[0;34m,\u001b[0m \u001b[0;36m2\u001b[0m\u001b[0;34m)\u001b[0m\u001b[0;34m)\u001b[0m\u001b[0;34m\u001b[0m\u001b[0;34m\u001b[0m\u001b[0m\n",
      "\u001b[0;31mTypeError\u001b[0m: can only concatenate str (not \"int\") to str"
     ]
    }
   ],
   "source": [
    "def suma(a, b):\n",
    "    return a + b\n",
    "\n",
    "\n",
    "print(suma(1, 2))\n",
    "print(suma(1.0, 2.0))\n",
    "print(suma(1.0, 2))\n",
    "print(suma(\"hola \", \"como te va\"))\n",
    "print(suma([1, 2, 3], [4, 5]))\n",
    "print(suma(\"1\", 3))  # Falla"
   ]
  },
  {
   "cell_type": "code",
   "execution_count": 81,
   "id": "c3b55ba8",
   "metadata": {
    "execution": {
     "iopub.execute_input": "2021-06-10T03:06:05.940702Z",
     "iopub.status.busy": "2021-06-10T03:06:05.940129Z",
     "iopub.status.idle": "2021-06-10T03:06:05.944478Z",
     "shell.execute_reply": "2021-06-10T03:06:05.944002Z"
    }
   },
   "outputs": [
    {
     "name": "stdout",
     "output_type": "stream",
     "text": [
      "2.0\n"
     ]
    }
   ],
   "source": [
    "# El valor por default de divisor es 1\n",
    "\n",
    "\n",
    "def division(dividendo, divisor=2):\n",
    "    return dividendo / divisor\n",
    "\n",
    "\n",
    "print(division(4))  # Usa el valor por default"
   ]
  },
  {
   "cell_type": "code",
   "execution_count": 82,
   "id": "9d9227de",
   "metadata": {
    "execution": {
     "iopub.execute_input": "2021-06-10T03:06:05.948352Z",
     "iopub.status.busy": "2021-06-10T03:06:05.947816Z",
     "iopub.status.idle": "2021-06-10T03:06:05.954125Z",
     "shell.execute_reply": "2021-06-10T03:06:05.954591Z"
    },
    "tags": [
     "raises-exception"
    ]
   },
   "outputs": [
    {
     "name": "stdout",
     "output_type": "stream",
     "text": [
      "0.5\n",
      "0.5\n"
     ]
    },
    {
     "ename": "TypeError",
     "evalue": "division() missing 1 required positional argument: 'dividendo'",
     "output_type": "error",
     "traceback": [
      "\u001b[0;31m---------------------------------------------------------------------------\u001b[0m",
      "\u001b[0;31mTypeError\u001b[0m                                 Traceback (most recent call last)",
      "\u001b[0;32m<ipython-input-1-34eff3833138>\u001b[0m in \u001b[0;36m<module>\u001b[0;34m\u001b[0m\n\u001b[1;32m      1\u001b[0m \u001b[0mprint\u001b[0m\u001b[0;34m(\u001b[0m\u001b[0mdivision\u001b[0m\u001b[0;34m(\u001b[0m\u001b[0;36m1\u001b[0m\u001b[0;34m,\u001b[0m \u001b[0;36m2\u001b[0m\u001b[0;34m)\u001b[0m\u001b[0;34m)\u001b[0m  \u001b[0;31m# Parámetros por orden\u001b[0m\u001b[0;34m\u001b[0m\u001b[0;34m\u001b[0m\u001b[0m\n\u001b[1;32m      2\u001b[0m \u001b[0mprint\u001b[0m\u001b[0;34m(\u001b[0m\u001b[0mdivision\u001b[0m\u001b[0;34m(\u001b[0m\u001b[0mdividendo\u001b[0m\u001b[0;34m=\u001b[0m\u001b[0;36m1\u001b[0m\u001b[0;34m,\u001b[0m \u001b[0mdivisor\u001b[0m\u001b[0;34m=\u001b[0m\u001b[0;36m2\u001b[0m\u001b[0;34m)\u001b[0m\u001b[0;34m)\u001b[0m  \u001b[0;31m# Parámetros por nombre\u001b[0m\u001b[0;34m\u001b[0m\u001b[0;34m\u001b[0m\u001b[0m\n\u001b[0;32m----> 3\u001b[0;31m \u001b[0mprint\u001b[0m\u001b[0;34m(\u001b[0m\u001b[0mdivision\u001b[0m\u001b[0;34m(\u001b[0m\u001b[0mdivisor\u001b[0m\u001b[0;34m=\u001b[0m\u001b[0;36m2\u001b[0m\u001b[0;34m)\u001b[0m\u001b[0;34m)\u001b[0m\u001b[0;34m\u001b[0m\u001b[0;34m\u001b[0m\u001b[0m\n\u001b[0m",
      "\u001b[0;31mTypeError\u001b[0m: division() missing 1 required positional argument: 'dividendo'"
     ]
    }
   ],
   "source": [
    "print(division(1, 2))  # Parámetros por orden\n",
    "print(division(dividendo=1, divisor=2))  # Parámetros por nombre\n",
    "print(division(divisor=2))"
   ]
  },
  {
   "cell_type": "code",
   "execution_count": 83,
   "id": "d7498999",
   "metadata": {
    "execution": {
     "iopub.execute_input": "2021-06-10T03:06:05.959713Z",
     "iopub.status.busy": "2021-06-10T03:06:05.958497Z",
     "iopub.status.idle": "2021-06-10T03:06:05.961444Z",
     "shell.execute_reply": "2021-06-10T03:06:05.960989Z"
    }
   },
   "outputs": [
    {
     "name": "stdout",
     "output_type": "stream",
     "text": [
      "0.5\n"
     ]
    }
   ],
   "source": [
    "print(division(divisor=2, dividendo=1))"
   ]
  },
  {
   "cell_type": "code",
   "execution_count": 84,
   "id": "abda938f",
   "metadata": {
    "execution": {
     "iopub.execute_input": "2021-06-10T03:06:05.967556Z",
     "iopub.status.busy": "2021-06-10T03:06:05.966298Z",
     "iopub.status.idle": "2021-06-10T03:06:05.969334Z",
     "shell.execute_reply": "2021-06-10T03:06:05.968876Z"
    }
   },
   "outputs": [
    {
     "name": "stdout",
     "output_type": "stream",
     "text": [
      "['a', 'b', 'c']\n",
      "[1, 2, 3]\n",
      "['hola', ' don', ' pepito']\n",
      "hola -  don -  pepito\n"
     ]
    }
   ],
   "source": [
    "# Funciones básicas ya en el lenguaje\n",
    "# Hechas para funcionar para distintos tipos\n",
    "\n",
    "string_ordenado = sorted('bca')\n",
    "print(string_ordenado)\n",
    "\n",
    "lista_ordenada = sorted([1, 3, 2])\n",
    "print(lista_ordenada)\n",
    "\n",
    "separadas = \"hola, don, pepito\".split(\",\")\n",
    "print(separadas)\n",
    "unidas = \" - \".join(separadas)\n",
    "print(unidas)"
   ]
  },
  {
   "cell_type": "markdown",
   "id": "aab79dc6",
   "metadata": {},
   "source": [
    "## Módulos\n",
    "\n",
    "Para incluir alguna biblioteca de funciones se usa `import`. Pueden ser cosas ya predefinidas en Python (`math`, `random`, etc), nombres de archivos en nuestro directorio (por ejemplo, para `mimodulo.py` ponemos `import mimodulo`) o bibliotecas instaladas por el usuario"
   ]
  },
  {
   "cell_type": "code",
   "execution_count": 85,
   "id": "22685fb5",
   "metadata": {
    "execution": {
     "iopub.execute_input": "2021-06-10T03:06:05.974095Z",
     "iopub.status.busy": "2021-06-10T03:06:05.972941Z",
     "iopub.status.idle": "2021-06-10T03:06:05.975841Z",
     "shell.execute_reply": "2021-06-10T03:06:05.975360Z"
    }
   },
   "outputs": [
    {
     "name": "stdout",
     "output_type": "stream",
     "text": [
      "3.141592653589793\n"
     ]
    }
   ],
   "source": [
    "import math\n",
    "\n",
    "print(math.pi)"
   ]
  },
  {
   "cell_type": "code",
   "execution_count": 86,
   "id": "44c5dfde",
   "metadata": {
    "execution": {
     "iopub.execute_input": "2021-06-10T03:06:05.980783Z",
     "iopub.status.busy": "2021-06-10T03:06:05.979644Z",
     "iopub.status.idle": "2021-06-10T03:06:05.982579Z",
     "shell.execute_reply": "2021-06-10T03:06:05.982107Z"
    }
   },
   "outputs": [
    {
     "name": "stdout",
     "output_type": "stream",
     "text": [
      "3.141592653589793 2.718281828459045\n"
     ]
    }
   ],
   "source": [
    "from math import pi, e\n",
    "\n",
    "print(pi, e)"
   ]
  },
  {
   "cell_type": "code",
   "execution_count": 87,
   "id": "8c328964",
   "metadata": {
    "execution": {
     "iopub.execute_input": "2021-06-10T03:06:05.986918Z",
     "iopub.status.busy": "2021-06-10T03:06:05.986379Z",
     "iopub.status.idle": "2021-06-10T03:06:05.989068Z",
     "shell.execute_reply": "2021-06-10T03:06:05.989499Z"
    }
   },
   "outputs": [
    {
     "data": {
      "text/plain": [
       "2"
      ]
     },
     "execution_count": 1,
     "metadata": {},
     "output_type": "execute_result"
    }
   ],
   "source": [
    "math.gcd(56, 78)"
   ]
  },
  {
   "cell_type": "markdown",
   "id": "1035b008",
   "metadata": {},
   "source": [
    "## Manejo de excepciones\n",
    "\n",
    "Se pueden encapsular errores esperados en un bloque 'try/except' para evitar cortar el flujo del programa"
   ]
  },
  {
   "cell_type": "code",
   "execution_count": 88,
   "id": "f8b1d4fb",
   "metadata": {
    "execution": {
     "iopub.execute_input": "2021-06-10T03:06:05.997176Z",
     "iopub.status.busy": "2021-06-10T03:06:05.992235Z",
     "iopub.status.idle": "2021-06-10T03:06:05.999860Z",
     "shell.execute_reply": "2021-06-10T03:06:05.999335Z"
    },
    "tags": [
     "raises-exception"
    ]
   },
   "outputs": [
    {
     "ename": "ZeroDivisionError",
     "evalue": "division by zero",
     "output_type": "error",
     "traceback": [
      "\u001b[0;31m---------------------------------------------------------------------------\u001b[0m",
      "\u001b[0;31mZeroDivisionError\u001b[0m                         Traceback (most recent call last)",
      "\u001b[0;32m<ipython-input-1-f031f77b1a55>\u001b[0m in \u001b[0;36m<module>\u001b[0;34m\u001b[0m\n\u001b[0;32m----> 1\u001b[0;31m \u001b[0mdivision\u001b[0m\u001b[0;34m(\u001b[0m\u001b[0;36m1\u001b[0m\u001b[0;34m,\u001b[0m \u001b[0;36m0\u001b[0m\u001b[0;34m)\u001b[0m  \u001b[0;31m# No se puede dividir por cero\u001b[0m\u001b[0;34m\u001b[0m\u001b[0;34m\u001b[0m\u001b[0m\n\u001b[0m",
      "\u001b[0;32m<ipython-input-1-0d991d7de762>\u001b[0m in \u001b[0;36mdivision\u001b[0;34m(dividendo, divisor)\u001b[0m\n\u001b[1;32m      3\u001b[0m \u001b[0;34m\u001b[0m\u001b[0m\n\u001b[1;32m      4\u001b[0m \u001b[0;32mdef\u001b[0m \u001b[0mdivision\u001b[0m\u001b[0;34m(\u001b[0m\u001b[0mdividendo\u001b[0m\u001b[0;34m,\u001b[0m \u001b[0mdivisor\u001b[0m\u001b[0;34m=\u001b[0m\u001b[0;36m2\u001b[0m\u001b[0;34m)\u001b[0m\u001b[0;34m:\u001b[0m\u001b[0;34m\u001b[0m\u001b[0;34m\u001b[0m\u001b[0m\n\u001b[0;32m----> 5\u001b[0;31m     \u001b[0;32mreturn\u001b[0m \u001b[0mdividendo\u001b[0m \u001b[0;34m/\u001b[0m \u001b[0mdivisor\u001b[0m\u001b[0;34m\u001b[0m\u001b[0;34m\u001b[0m\u001b[0m\n\u001b[0m\u001b[1;32m      6\u001b[0m \u001b[0;34m\u001b[0m\u001b[0m\n\u001b[1;32m      7\u001b[0m \u001b[0;34m\u001b[0m\u001b[0m\n",
      "\u001b[0;31mZeroDivisionError\u001b[0m: division by zero"
     ]
    }
   ],
   "source": [
    "division(1, 0)  # No se puede dividir por cero"
   ]
  },
  {
   "cell_type": "code",
   "execution_count": 89,
   "id": "87c6e0b5",
   "metadata": {
    "execution": {
     "iopub.execute_input": "2021-06-10T03:06:06.005193Z",
     "iopub.status.busy": "2021-06-10T03:06:06.004255Z",
     "iopub.status.idle": "2021-06-10T03:06:06.006771Z",
     "shell.execute_reply": "2021-06-10T03:06:06.007193Z"
    }
   },
   "outputs": [
    {
     "name": "stdout",
     "output_type": "stream",
     "text": [
      "No se puede dividir por cero, ojo! division by zero\n",
      "1\n"
     ]
    }
   ],
   "source": [
    "try:\n",
    "    division(1, 0)\n",
    "except (ZeroDivisionError, TypeError) as e:\n",
    "    print('No se puede dividir por cero, ojo!', e)\n",
    "finally:\n",
    "    print(1)"
   ]
  },
  {
   "cell_type": "markdown",
   "id": "04e9285d",
   "metadata": {
    "slideshow": {
     "slide_type": "slide"
    }
   },
   "source": [
    "## Lectura y escritura de archivos"
   ]
  },
  {
   "cell_type": "code",
   "execution_count": 90,
   "id": "bf3f9cf7",
   "metadata": {
    "execution": {
     "iopub.execute_input": "2021-06-10T03:06:06.016852Z",
     "iopub.status.busy": "2021-06-10T03:06:06.015329Z",
     "iopub.status.idle": "2021-06-10T03:06:06.020720Z",
     "shell.execute_reply": "2021-06-10T03:06:06.020252Z"
    },
    "slideshow": {
     "slide_type": "slide"
    }
   },
   "outputs": [
    {
     "name": "stdout",
     "output_type": "stream",
     "text": [
      "<_io.TextIOWrapper name='archivo.csv' mode='w' encoding='UTF-8'>\n"
     ]
    }
   ],
   "source": [
    "import random\n",
    "\n",
    "with open(\n",
    "    'archivo.csv', 'w'\n",
    ") as archivo:  # Al usar esta sintaxis no es necesario hacer close\n",
    "    archivo.write(\"Alumno, nota\\n\")\n",
    "    # Tambien de forma similar al fprintf se puede hacer:\n",
    "    # print(\"Alumno, nota\\n\", file=archivo)\n",
    "    for i in range(0, 10):\n",
    "        archivo.write(f\"{i},{random.randrange(0,10)}\\n\")\n",
    "\n",
    "print(archivo)  # Comentario aclaratorio:\n",
    "# Las variables definidas en un determinado scope siguen existiendo por fuera del mismo.\n",
    "# Se debe tener cuidado con esto, ya que nada garantiza que por fuera el valor sea el esperado."
   ]
  },
  {
   "cell_type": "code",
   "execution_count": 91,
   "id": "c60c369f",
   "metadata": {
    "execution": {
     "iopub.execute_input": "2021-06-10T03:06:06.026474Z",
     "iopub.status.busy": "2021-06-10T03:06:06.025483Z",
     "iopub.status.idle": "2021-06-10T03:06:06.028123Z",
     "shell.execute_reply": "2021-06-10T03:06:06.028589Z"
    },
    "slideshow": {
     "slide_type": "slide"
    }
   },
   "outputs": [
    {
     "name": "stdout",
     "output_type": "stream",
     "text": [
      "Alumno, nota\n",
      "0,1\n",
      "1,5\n",
      "2,1\n",
      "3,5\n",
      "4,3\n",
      "5,6\n",
      "6,3\n",
      "7,7\n",
      "8,3\n",
      "9,5\n"
     ]
    }
   ],
   "source": [
    "with open('archivo.csv', 'r') as f:\n",
    "    for linea in f:\n",
    "        print(linea.strip())"
   ]
  },
  {
   "cell_type": "code",
   "execution_count": 92,
   "id": "5d23a330",
   "metadata": {
    "execution": {
     "iopub.execute_input": "2021-06-10T03:06:06.033609Z",
     "iopub.status.busy": "2021-06-10T03:06:06.032401Z",
     "iopub.status.idle": "2021-06-10T03:06:06.035488Z",
     "shell.execute_reply": "2021-06-10T03:06:06.034995Z"
    }
   },
   "outputs": [
    {
     "name": "stdout",
     "output_type": "stream",
     "text": [
      "Alumno, nota\n",
      "0,1\n",
      "1,5\n",
      "2,1\n",
      "3,5\n",
      "4,3\n",
      "5,6\n",
      "6,3\n",
      "7,7\n",
      "8,3\n",
      "9,5\n",
      "\n"
     ]
    }
   ],
   "source": [
    "with open('archivo.csv', 'r') as f:\n",
    "    print(f.read())"
   ]
  },
  {
   "cell_type": "code",
   "execution_count": 93,
   "id": "bced219d",
   "metadata": {
    "execution": {
     "iopub.execute_input": "2021-06-10T03:06:06.039507Z",
     "iopub.status.busy": "2021-06-10T03:06:06.038924Z",
     "iopub.status.idle": "2021-06-10T03:06:06.041104Z",
     "shell.execute_reply": "2021-06-10T03:06:06.041518Z"
    }
   },
   "outputs": [],
   "source": [
    "f = open('archivo.csv', 'w')\n",
    "f.write(\"algo, algo\")\n",
    "f.close()"
   ]
  },
  {
   "cell_type": "markdown",
   "id": "eaaabfd7",
   "metadata": {
    "slideshow": {
     "slide_type": "slide"
    }
   },
   "source": [
    "## Objetos\n",
    "\n",
    "Los objetos tienen metodos y atributos:\n",
    "- Atributos: equivalentes a variables.\n",
    "- Métodos: equivalentes a las primitivas."
   ]
  },
  {
   "cell_type": "markdown",
   "id": "7f2b1e38",
   "metadata": {
    "slideshow": {
     "slide_type": "slide"
    }
   },
   "source": [
    "### Cómo creo una clase"
   ]
  },
  {
   "cell_type": "code",
   "execution_count": 94,
   "id": "e0f6811d",
   "metadata": {
    "execution": {
     "iopub.execute_input": "2021-06-10T03:06:06.048027Z",
     "iopub.status.busy": "2021-06-10T03:06:06.046751Z",
     "iopub.status.idle": "2021-06-10T03:06:06.048676Z",
     "shell.execute_reply": "2021-06-10T03:06:06.049127Z"
    },
    "slideshow": {
     "slide_type": "slide"
    }
   },
   "outputs": [],
   "source": [
    "class Nodo(object):\n",
    "    def __init__(self, dato, siguiente=None):\n",
    "        self._dato = dato\n",
    "        self._siguiente = siguiente\n",
    "\n",
    "    @property\n",
    "    def dato(self):\n",
    "        return self._dato\n",
    "\n",
    "    @property\n",
    "    def proximo(self):\n",
    "        return self._siguiente\n",
    "\n",
    "    @proximo.setter\n",
    "    def proximo(self, siguiente):\n",
    "        self._siguiente = siguiente\n",
    "\n",
    "    def __repr__(self):\n",
    "        return str(self.dato)\n",
    "\n",
    "    def __str__(self):\n",
    "        return str(self.dato)"
   ]
  },
  {
   "cell_type": "code",
   "execution_count": 95,
   "id": "505735b9",
   "metadata": {
    "execution": {
     "iopub.execute_input": "2021-06-10T03:06:06.053985Z",
     "iopub.status.busy": "2021-06-10T03:06:06.052755Z",
     "iopub.status.idle": "2021-06-10T03:06:06.055745Z",
     "shell.execute_reply": "2021-06-10T03:06:06.055285Z"
    },
    "slideshow": {
     "slide_type": "slide"
    }
   },
   "outputs": [
    {
     "name": "stdout",
     "output_type": "stream",
     "text": [
      "hola\n"
     ]
    }
   ],
   "source": [
    "nodo = Nodo(\"hola\")\n",
    "print(nodo)"
   ]
  },
  {
   "cell_type": "code",
   "execution_count": 96,
   "id": "eac47ee2",
   "metadata": {
    "execution": {
     "iopub.execute_input": "2021-06-10T03:06:06.060766Z",
     "iopub.status.busy": "2021-06-10T03:06:06.059497Z",
     "iopub.status.idle": "2021-06-10T03:06:06.062622Z",
     "shell.execute_reply": "2021-06-10T03:06:06.062125Z"
    },
    "slideshow": {
     "slide_type": "slide"
    }
   },
   "outputs": [
    {
     "name": "stdout",
     "output_type": "stream",
     "text": [
      "[hola, lala]\n"
     ]
    }
   ],
   "source": [
    "nodo2 = Nodo(\"lala\")\n",
    "print([nodo, nodo2])"
   ]
  },
  {
   "cell_type": "code",
   "execution_count": 97,
   "id": "54384bf4",
   "metadata": {
    "execution": {
     "iopub.execute_input": "2021-06-10T03:06:06.067395Z",
     "iopub.status.busy": "2021-06-10T03:06:06.066144Z",
     "iopub.status.idle": "2021-06-10T03:06:06.069278Z",
     "shell.execute_reply": "2021-06-10T03:06:06.068795Z"
    },
    "slideshow": {
     "slide_type": "slide"
    }
   },
   "outputs": [
    {
     "name": "stdout",
     "output_type": "stream",
     "text": [
      "hola\n"
     ]
    }
   ],
   "source": [
    "nodo3 = nodo.dato\n",
    "print(nodo3)"
   ]
  },
  {
   "cell_type": "markdown",
   "id": "af874436",
   "metadata": {
    "slideshow": {
     "slide_type": "slide"
    }
   },
   "source": [
    "### Ejemplo: Lista Enlazada"
   ]
  },
  {
   "cell_type": "code",
   "execution_count": 98,
   "id": "93476f8d",
   "metadata": {
    "execution": {
     "iopub.execute_input": "2021-06-10T03:06:06.079051Z",
     "iopub.status.busy": "2021-06-10T03:06:06.078178Z",
     "iopub.status.idle": "2021-06-10T03:06:06.080991Z",
     "shell.execute_reply": "2021-06-10T03:06:06.080388Z"
    },
    "slideshow": {
     "slide_type": "slide"
    }
   },
   "outputs": [],
   "source": [
    "class ListaEnlazada(object):\n",
    "    def __init__(self):\n",
    "        self._primero = None\n",
    "        self._ultimo = None\n",
    "        self._largo = 0\n",
    "\n",
    "    def __len__(self):\n",
    "        return self._largo\n",
    "\n",
    "    def insertar_al_principio(self, dato):\n",
    "        nodo = Nodo(dato, self._primero)\n",
    "        self._primero = nodo\n",
    "        self._largo += 1\n",
    "        if self._largo == 1:\n",
    "            self._ultimo = nodo\n",
    "\n",
    "    def insertar_al_final(self, dato):\n",
    "        if self._largo != 0:\n",
    "            nodo = Nodo(dato)\n",
    "            nodo_anterior = self._ultimo\n",
    "            nodo_anterior._siguiente = nodo\n",
    "            self._ultimo = nodo\n",
    "            self._largo += 1\n",
    "        else:\n",
    "            self.insertar_al_principio(dato)\n",
    "\n",
    "    @property\n",
    "    def primero(self):\n",
    "        return self._primero.dato\n",
    "\n",
    "    def borrar_primero(self):\n",
    "        dato = self.primero.dato\n",
    "        self._primero = self.primero.siguiente\n",
    "        self._largo -= 1\n",
    "        if self._largo == 0:\n",
    "            self._ultimo = None\n",
    "        return dato\n",
    "\n",
    "    def __str__(self):\n",
    "        datos = []\n",
    "        nodo_actual = self._primero\n",
    "        while nodo_actual:\n",
    "            datos.append(nodo_actual.dato)\n",
    "            nodo_actual = nodo_actual.proximo\n",
    "        return \" -> \".join(datos)\n",
    "\n",
    "    def __repr__(self):\n",
    "        return self.__str__()"
   ]
  },
  {
   "cell_type": "code",
   "execution_count": 99,
   "id": "50abc7fd",
   "metadata": {
    "execution": {
     "iopub.execute_input": "2021-06-10T03:06:06.085223Z",
     "iopub.status.busy": "2021-06-10T03:06:06.082981Z",
     "iopub.status.idle": "2021-06-10T03:06:06.087593Z",
     "shell.execute_reply": "2021-06-10T03:06:06.088053Z"
    },
    "slideshow": {
     "slide_type": "slide"
    }
   },
   "outputs": [
    {
     "data": {
      "text/plain": [
       "2"
      ]
     },
     "execution_count": 1,
     "metadata": {},
     "output_type": "execute_result"
    }
   ],
   "source": [
    "lista = ListaEnlazada()\n",
    "lista.insertar_al_principio(\"Primer Dato\")\n",
    "lista.insertar_al_principio(\"Primer primer Dato\")\n",
    "len(lista)"
   ]
  },
  {
   "cell_type": "code",
   "execution_count": 100,
   "id": "de080db8",
   "metadata": {
    "execution": {
     "iopub.execute_input": "2021-06-10T03:06:06.092763Z",
     "iopub.status.busy": "2021-06-10T03:06:06.091993Z",
     "iopub.status.idle": "2021-06-10T03:06:06.094618Z",
     "shell.execute_reply": "2021-06-10T03:06:06.095044Z"
    }
   },
   "outputs": [
    {
     "data": {
      "text/plain": [
       "Primer primer Dato -> Primer Dato"
      ]
     },
     "execution_count": 1,
     "metadata": {},
     "output_type": "execute_result"
    }
   ],
   "source": [
    "lista"
   ]
  },
  {
   "cell_type": "code",
   "execution_count": 101,
   "id": "730830fd",
   "metadata": {
    "execution": {
     "iopub.execute_input": "2021-06-10T03:06:06.099702Z",
     "iopub.status.busy": "2021-06-10T03:06:06.098589Z",
     "iopub.status.idle": "2021-06-10T03:06:06.101547Z",
     "shell.execute_reply": "2021-06-10T03:06:06.101092Z"
    },
    "slideshow": {
     "slide_type": "slide"
    }
   },
   "outputs": [
    {
     "name": "stdout",
     "output_type": "stream",
     "text": [
      "Primer primer Dato\n"
     ]
    }
   ],
   "source": [
    "elemento = lista.primero\n",
    "print(elemento)"
   ]
  },
  {
   "cell_type": "markdown",
   "id": "d2c7dc5b",
   "metadata": {},
   "source": [
    "## Recursos\n",
    "\n",
    "* [Taller de Python de Algoritmos II](https://github.com/algoritmos-rw/algo2_apuntes)\n",
    "\n",
    "* [Documentación de Python 3](https://docs.python.org/3/tutorial/)\n",
    "\n",
    "* [Apunte de Algoritmos y Programación I](https://algoritmos1rw.ddns.net/material)\n",
    "\n",
    "* [Automate the Boring Stuff with Python](http://automatetheboringstuff.com/)\n",
    "\n",
    "* [Curso Python](https://pythoncurso.github.io)\n",
    "\n",
    "* [Python Tutor](http://pythontutor.com/)\n",
    "\n",
    "* [Learn Python3 in Y minutes](https://learnxinyminutes.com/docs/python3/)\n",
    "\n",
    "* [Bibliografía de Algoritmos y Programación I](https://algoritmos1rw.ddns.net/bibliografia)"
   ]
  }
 ],
 "metadata": {
  "jupytext": {
   "encoding": "# -*- coding: utf-8 -*-",
   "formats": "ipynb,py:light"
  },
  "kernelspec": {
   "display_name": "Python 3 (venv)",
   "language": "python",
   "name": "python3"
  },
  "language_info": {
   "codemirror_mode": {
    "name": "ipython",
    "version": 3
   },
   "file_extension": ".py",
   "mimetype": "text/x-python",
   "name": "python",
   "nbconvert_exporter": "python",
   "pygments_lexer": "ipython3",
   "version": "3.7.10"
  }
 },
 "nbformat": 4,
 "nbformat_minor": 5
}
