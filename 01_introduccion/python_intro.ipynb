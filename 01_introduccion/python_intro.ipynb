{
 "cells": [
  {
   "cell_type": "markdown",
   "id": "4598cd3b",
   "metadata": {},
   "source": [
    "# Python"
   ]
  },
  {
   "cell_type": "markdown",
   "id": "9e7b3784",
   "metadata": {
    "slideshow": {
     "slide_type": "slide"
    }
   },
   "source": [
    "## Un poco de Historia"
   ]
  },
  {
   "cell_type": "markdown",
   "id": "d7efb6fc",
   "metadata": {
    "slideshow": {
     "slide_type": "subslide"
    }
   },
   "source": [
    "Python fue creado a finales de los años 80 por un programador holandés llamado **Guido van Rossum**,\n",
    "quien sigue siendo aún hoy el líder del desarrollo del lenguaje.\n",
    "\n",
    "(Edit julio 2018: [ya no más](https://www.mail-archive.com/python-committers@python.org/msg05628.html))"
   ]
  },
  {
   "cell_type": "markdown",
   "id": "ff348d46",
   "metadata": {
    "slideshow": {
     "slide_type": "subslide"
    }
   },
   "source": [
    "El nombre del lenguaje proviene de los humoristas británicos Monty Python.\n",
    "\n",
    ">*\"I chose Python as a working title for the project, being in a slightly irreverent mood (and a big fan of Monty Python's Flying Circus).\"*"
   ]
  },
  {
   "cell_type": "markdown",
   "id": "abda4efe",
   "metadata": {
    "slideshow": {
     "slide_type": "slide"
    }
   },
   "source": [
    "## Caracteristicas\n",
    "\n",
    "- Interpretado\n",
    "- Tipado dinamico\n",
    "- Multiparadigma\n",
    "- Alto nivel\n",
    "- Tiene un recolector de basura (no hay malloc, free, realloc, etc)"
   ]
  },
  {
   "cell_type": "markdown",
   "id": "6e9ab3f1",
   "metadata": {},
   "source": [
    "## ¿Cómo empezar?\n",
    "\n",
    "* Al ser un lenguaje *interpretado*, se puede ir escribiendo a medida que se ejecuta, sin necesidad de compilar de antemano! Solamente hace falta escribir `python` o `python3` en una terminal para empezar\n",
    "\n",
    "* También, permite escribir archivos y correrlos. Crear un archivo con extensión `.py` y luego correr `python miarchivo.py` en laterminal"
   ]
  },
  {
   "cell_type": "markdown",
   "id": "32f2e3ed",
   "metadata": {
    "slideshow": {
     "slide_type": "slide"
    }
   },
   "source": [
    "## El Zen de Python"
   ]
  },
  {
   "cell_type": "code",
   "execution_count": 1,
   "id": "6d4a17f6",
   "metadata": {
    "execution": {
     "iopub.execute_input": "2021-09-16T21:31:18.756464Z",
     "iopub.status.busy": "2021-09-16T21:31:18.755722Z",
     "iopub.status.idle": "2021-09-16T21:31:18.783639Z",
     "shell.execute_reply": "2021-09-16T21:31:18.784266Z"
    },
    "slideshow": {
     "slide_type": "slide"
    }
   },
   "outputs": [
    {
     "name": "stdout",
     "output_type": "stream",
     "text": [
      "The Zen of Python, by Tim Peters\n",
      "\n",
      "Beautiful is better than ugly.\n",
      "Explicit is better than implicit.\n",
      "Simple is better than complex.\n",
      "Complex is better than complicated.\n",
      "Flat is better than nested.\n",
      "Sparse is better than dense.\n",
      "Readability counts.\n",
      "Special cases aren't special enough to break the rules.\n",
      "Although practicality beats purity.\n",
      "Errors should never pass silently.\n",
      "Unless explicitly silenced.\n",
      "In the face of ambiguity, refuse the temptation to guess.\n",
      "There should be one-- and preferably only one --obvious way to do it.\n",
      "Although that way may not be obvious at first unless you're Dutch.\n",
      "Now is better than never.\n",
      "Although never is often better than *right* now.\n",
      "If the implementation is hard to explain, it's a bad idea.\n",
      "If the implementation is easy to explain, it may be a good idea.\n",
      "Namespaces are one honking great idea -- let's do more of those!\n"
     ]
    }
   ],
   "source": [
    "import this"
   ]
  },
  {
   "cell_type": "markdown",
   "id": "cbae1efc",
   "metadata": {
    "slideshow": {
     "slide_type": "slide"
    }
   },
   "source": [
    "## Conocimientos Básicos de Python: Variables y Tipos"
   ]
  },
  {
   "cell_type": "code",
   "execution_count": 2,
   "id": "2a0b3fb5",
   "metadata": {
    "execution": {
     "iopub.execute_input": "2021-09-16T21:31:18.790698Z",
     "iopub.status.busy": "2021-09-16T21:31:18.789616Z",
     "iopub.status.idle": "2021-09-16T21:31:18.792454Z",
     "shell.execute_reply": "2021-09-16T21:31:18.792008Z"
    },
    "slideshow": {
     "slide_type": "slide"
    }
   },
   "outputs": [
    {
     "name": "stdout",
     "output_type": "stream",
     "text": [
      "Hello World!\n"
     ]
    }
   ],
   "source": [
    "# Este es un comentario\n",
    "\n",
    "print(\"Hello World!\")"
   ]
  },
  {
   "cell_type": "markdown",
   "id": "200145d9",
   "metadata": {},
   "source": [
    "Los strings en python puden escribirse tanto con comillas simples (`'`) como comillas dobles (`\"`). Normalmente vemos texto entre comillas triples para escribir _docstrings_, segun la guia de estilo de Python, el PEP8."
   ]
  },
  {
   "cell_type": "code",
   "execution_count": 3,
   "id": "67bf6ff7",
   "metadata": {
    "execution": {
     "iopub.execute_input": "2021-09-16T21:31:18.803329Z",
     "iopub.status.busy": "2021-09-16T21:31:18.797888Z",
     "iopub.status.idle": "2021-09-16T21:31:18.805421Z",
     "shell.execute_reply": "2021-09-16T21:31:18.805852Z"
    }
   },
   "outputs": [
    {
     "data": {
      "text/plain": [
       "'Esto es un docstring.\\n'"
      ]
     },
     "execution_count": 3,
     "metadata": {},
     "output_type": "execute_result"
    }
   ],
   "source": [
    "\"\"\"Esto es un docstring.\n",
    "\"\"\""
   ]
  },
  {
   "cell_type": "markdown",
   "id": "883a53e1",
   "metadata": {},
   "source": [
    "### Declaracion de variables"
   ]
  },
  {
   "cell_type": "code",
   "execution_count": 4,
   "id": "073dec20",
   "metadata": {
    "execution": {
     "iopub.execute_input": "2021-09-16T21:31:18.810046Z",
     "iopub.status.busy": "2021-09-16T21:31:18.808161Z",
     "iopub.status.idle": "2021-09-16T21:31:18.811965Z",
     "shell.execute_reply": "2021-09-16T21:31:18.812378Z"
    }
   },
   "outputs": [
    {
     "name": "stdout",
     "output_type": "stream",
     "text": [
      "Hola\n"
     ]
    }
   ],
   "source": [
    "string = 'Hola'\n",
    "print(string)"
   ]
  },
  {
   "cell_type": "code",
   "execution_count": 5,
   "id": "57d9bf31",
   "metadata": {
    "execution": {
     "iopub.execute_input": "2021-09-16T21:31:18.816232Z",
     "iopub.status.busy": "2021-09-16T21:31:18.815724Z",
     "iopub.status.idle": "2021-09-16T21:31:18.817855Z",
     "shell.execute_reply": "2021-09-16T21:31:18.818299Z"
    }
   },
   "outputs": [
    {
     "name": "stdout",
     "output_type": "stream",
     "text": [
      "1\n"
     ]
    }
   ],
   "source": [
    "entero = 1\n",
    "print(entero)"
   ]
  },
  {
   "cell_type": "code",
   "execution_count": 6,
   "id": "2ec19e08",
   "metadata": {
    "execution": {
     "iopub.execute_input": "2021-09-16T21:31:18.822190Z",
     "iopub.status.busy": "2021-09-16T21:31:18.821683Z",
     "iopub.status.idle": "2021-09-16T21:31:18.825854Z",
     "shell.execute_reply": "2021-09-16T21:31:18.825380Z"
    }
   },
   "outputs": [
    {
     "name": "stdout",
     "output_type": "stream",
     "text": [
      "1.0\n"
     ]
    }
   ],
   "source": [
    "flotante = 1.0\n",
    "print(flotante)"
   ]
  },
  {
   "cell_type": "code",
   "execution_count": 7,
   "id": "4f7ae3f3",
   "metadata": {
    "execution": {
     "iopub.execute_input": "2021-09-16T21:31:18.829612Z",
     "iopub.status.busy": "2021-09-16T21:31:18.829041Z",
     "iopub.status.idle": "2021-09-16T21:31:18.833416Z",
     "shell.execute_reply": "2021-09-16T21:31:18.832930Z"
    }
   },
   "outputs": [
    {
     "name": "stdout",
     "output_type": "stream",
     "text": [
      "(1, 1.0)\n"
     ]
    }
   ],
   "source": [
    "tupla = (entero, flotante)\n",
    "print(tupla)"
   ]
  },
  {
   "cell_type": "code",
   "execution_count": 8,
   "id": "ff1add1b",
   "metadata": {
    "execution": {
     "iopub.execute_input": "2021-09-16T21:31:18.836962Z",
     "iopub.status.busy": "2021-09-16T21:31:18.836453Z",
     "iopub.status.idle": "2021-09-16T21:31:18.839336Z",
     "shell.execute_reply": "2021-09-16T21:31:18.838803Z"
    }
   },
   "outputs": [
    {
     "name": "stdout",
     "output_type": "stream",
     "text": [
      "(1, 1.0, 'Hola')\n"
     ]
    }
   ],
   "source": [
    "nupla = (entero, flotante, string)\n",
    "print(nupla)"
   ]
  },
  {
   "cell_type": "code",
   "execution_count": 9,
   "id": "6ce31a4a",
   "metadata": {
    "execution": {
     "iopub.execute_input": "2021-09-16T21:31:18.842949Z",
     "iopub.status.busy": "2021-09-16T21:31:18.842441Z",
     "iopub.status.idle": "2021-09-16T21:31:18.844937Z",
     "shell.execute_reply": "2021-09-16T21:31:18.844500Z"
    }
   },
   "outputs": [
    {
     "name": "stdout",
     "output_type": "stream",
     "text": [
      "[1, 1.0, 'Hola']\n"
     ]
    }
   ],
   "source": [
    "lista = [entero, flotante, string]\n",
    "print(lista)"
   ]
  },
  {
   "cell_type": "code",
   "execution_count": 10,
   "id": "2cc14712",
   "metadata": {
    "execution": {
     "iopub.execute_input": "2021-09-16T21:31:18.848768Z",
     "iopub.status.busy": "2021-09-16T21:31:18.848208Z",
     "iopub.status.idle": "2021-09-16T21:31:18.850893Z",
     "shell.execute_reply": "2021-09-16T21:31:18.850454Z"
    }
   },
   "outputs": [
    {
     "name": "stdout",
     "output_type": "stream",
     "text": [
      "{'1': (1, 1.0), 50: (1, 1.0, 'Hola'), '3': 1}\n"
     ]
    }
   ],
   "source": [
    "diccionario = {'1': tupla, 50: nupla, '3': entero}\n",
    "print(diccionario)"
   ]
  },
  {
   "cell_type": "code",
   "execution_count": 11,
   "id": "5a59eb91",
   "metadata": {
    "execution": {
     "iopub.execute_input": "2021-09-16T21:31:18.854597Z",
     "iopub.status.busy": "2021-09-16T21:31:18.854051Z",
     "iopub.status.idle": "2021-09-16T21:31:18.856238Z",
     "shell.execute_reply": "2021-09-16T21:31:18.856689Z"
    }
   },
   "outputs": [
    {
     "name": "stdout",
     "output_type": "stream",
     "text": [
      "{1, 2}\n"
     ]
    }
   ],
   "source": [
    "conjunto = set([1, 2])\n",
    "print(conjunto)"
   ]
  },
  {
   "cell_type": "code",
   "execution_count": 12,
   "id": "223fdb53",
   "metadata": {
    "execution": {
     "iopub.execute_input": "2021-09-16T21:31:18.860444Z",
     "iopub.status.busy": "2021-09-16T21:31:18.859932Z",
     "iopub.status.idle": "2021-09-16T21:31:18.862478Z",
     "shell.execute_reply": "2021-09-16T21:31:18.862038Z"
    }
   },
   "outputs": [
    {
     "name": "stdout",
     "output_type": "stream",
     "text": [
      "True\n"
     ]
    }
   ],
   "source": [
    "booleano = True\n",
    "print(booleano)"
   ]
  },
  {
   "cell_type": "code",
   "execution_count": 13,
   "id": "5a5e3be5",
   "metadata": {
    "execution": {
     "iopub.execute_input": "2021-09-16T21:31:18.866035Z",
     "iopub.status.busy": "2021-09-16T21:31:18.865526Z",
     "iopub.status.idle": "2021-09-16T21:31:18.868186Z",
     "shell.execute_reply": "2021-09-16T21:31:18.867693Z"
    }
   },
   "outputs": [
    {
     "name": "stdout",
     "output_type": "stream",
     "text": [
      "None\n"
     ]
    }
   ],
   "source": [
    "nada = None\n",
    "print(nada)"
   ]
  },
  {
   "cell_type": "markdown",
   "id": "84cf02ab",
   "metadata": {},
   "source": [
    "Ojo que las variables pueden cambiar de tipo!"
   ]
  },
  {
   "cell_type": "code",
   "execution_count": 14,
   "id": "9946dcd7",
   "metadata": {
    "execution": {
     "iopub.execute_input": "2021-09-16T21:31:18.872766Z",
     "iopub.status.busy": "2021-09-16T21:31:18.872212Z",
     "iopub.status.idle": "2021-09-16T21:31:18.874034Z",
     "shell.execute_reply": "2021-09-16T21:31:18.874455Z"
    }
   },
   "outputs": [
    {
     "name": "stdout",
     "output_type": "stream",
     "text": [
      "1\n",
      "<class 'int'>\n"
     ]
    }
   ],
   "source": [
    "elemento = 1\n",
    "print(elemento)\n",
    "print(type(elemento))"
   ]
  },
  {
   "cell_type": "code",
   "execution_count": 15,
   "id": "67b380d7",
   "metadata": {
    "execution": {
     "iopub.execute_input": "2021-09-16T21:31:18.878440Z",
     "iopub.status.busy": "2021-09-16T21:31:18.877765Z",
     "iopub.status.idle": "2021-09-16T21:31:18.882255Z",
     "shell.execute_reply": "2021-09-16T21:31:18.881708Z"
    }
   },
   "outputs": [
    {
     "name": "stdout",
     "output_type": "stream",
     "text": [
      "1\n",
      "<class 'str'>\n"
     ]
    }
   ],
   "source": [
    "elemento = str(1)\n",
    "print(elemento)\n",
    "print(type(elemento))"
   ]
  },
  {
   "cell_type": "code",
   "execution_count": 16,
   "id": "9bf14276",
   "metadata": {
    "execution": {
     "iopub.execute_input": "2021-09-16T21:31:18.886236Z",
     "iopub.status.busy": "2021-09-16T21:31:18.885727Z",
     "iopub.status.idle": "2021-09-16T21:31:18.889959Z",
     "shell.execute_reply": "2021-09-16T21:31:18.889394Z"
    }
   },
   "outputs": [
    {
     "name": "stdout",
     "output_type": "stream",
     "text": [
      "[2]\n",
      "<class 'list'>\n"
     ]
    }
   ],
   "source": [
    "elemento = [2]\n",
    "\n",
    "print(elemento)\n",
    "print(type(elemento))"
   ]
  },
  {
   "cell_type": "markdown",
   "id": "2a2acdff",
   "metadata": {},
   "source": [
    "### Tipos basicos"
   ]
  },
  {
   "cell_type": "markdown",
   "id": "deaa323f",
   "metadata": {
    "slideshow": {
     "slide_type": "slide"
    }
   },
   "source": [
    "#### Listas de Python"
   ]
  },
  {
   "cell_type": "code",
   "execution_count": 17,
   "id": "0a736d00",
   "metadata": {
    "execution": {
     "iopub.execute_input": "2021-09-16T21:31:18.894225Z",
     "iopub.status.busy": "2021-09-16T21:31:18.893701Z",
     "iopub.status.idle": "2021-09-16T21:31:18.896418Z",
     "shell.execute_reply": "2021-09-16T21:31:18.895930Z"
    }
   },
   "outputs": [
    {
     "data": {
      "text/plain": [
       "[]"
      ]
     },
     "execution_count": 17,
     "metadata": {},
     "output_type": "execute_result"
    }
   ],
   "source": [
    "lista = list()\n",
    "lista"
   ]
  },
  {
   "cell_type": "code",
   "execution_count": 18,
   "id": "b9833f55",
   "metadata": {
    "execution": {
     "iopub.execute_input": "2021-09-16T21:31:18.900701Z",
     "iopub.status.busy": "2021-09-16T21:31:18.900047Z",
     "iopub.status.idle": "2021-09-16T21:31:18.902735Z",
     "shell.execute_reply": "2021-09-16T21:31:18.902213Z"
    },
    "slideshow": {
     "slide_type": "slide"
    }
   },
   "outputs": [
    {
     "data": {
      "text/plain": [
       "[]"
      ]
     },
     "execution_count": 18,
     "metadata": {},
     "output_type": "execute_result"
    }
   ],
   "source": [
    "lista = []\n",
    "lista"
   ]
  },
  {
   "cell_type": "code",
   "execution_count": 19,
   "id": "01fde611",
   "metadata": {
    "execution": {
     "iopub.execute_input": "2021-09-16T21:31:18.906901Z",
     "iopub.status.busy": "2021-09-16T21:31:18.906392Z",
     "iopub.status.idle": "2021-09-16T21:31:18.910977Z",
     "shell.execute_reply": "2021-09-16T21:31:18.911401Z"
    },
    "slideshow": {
     "slide_type": "slide"
    }
   },
   "outputs": [
    {
     "data": {
      "text/plain": [
       "[1, 2, 3, 4]"
      ]
     },
     "execution_count": 19,
     "metadata": {},
     "output_type": "execute_result"
    }
   ],
   "source": [
    "lista = [1, 2, 3, 4]\n",
    "lista"
   ]
  },
  {
   "cell_type": "code",
   "execution_count": 20,
   "id": "2e19f985",
   "metadata": {
    "execution": {
     "iopub.execute_input": "2021-09-16T21:31:18.915528Z",
     "iopub.status.busy": "2021-09-16T21:31:18.913650Z",
     "iopub.status.idle": "2021-09-16T21:31:18.919861Z",
     "shell.execute_reply": "2021-09-16T21:31:18.919340Z"
    },
    "slideshow": {
     "slide_type": "slide"
    }
   },
   "outputs": [
    {
     "data": {
      "text/plain": [
       "[1, 2, 3, 4, 1, 'dos', 3.0]"
      ]
     },
     "execution_count": 20,
     "metadata": {},
     "output_type": "execute_result"
    }
   ],
   "source": [
    "lista.append(1)  # Inserto un 1 al final\n",
    "lista.append(\"dos\")  # Inserto un \"dos\" al final\n",
    "lista.append(3.0)  # Inserto un 3.0 al final\n",
    "lista"
   ]
  },
  {
   "cell_type": "code",
   "execution_count": 21,
   "id": "53c6ec79",
   "metadata": {
    "execution": {
     "iopub.execute_input": "2021-09-16T21:31:18.923399Z",
     "iopub.status.busy": "2021-09-16T21:31:18.922886Z",
     "iopub.status.idle": "2021-09-16T21:31:18.925054Z",
     "shell.execute_reply": "2021-09-16T21:31:18.925501Z"
    }
   },
   "outputs": [
    {
     "name": "stdout",
     "output_type": "stream",
     "text": [
      "[1, 2, 10, 3, 4, 1, 'dos', 3.0]\n"
     ]
    }
   ],
   "source": [
    "lista.insert(2, 10)  # Inserto en posicion 2 un 10\n",
    "print(lista)"
   ]
  },
  {
   "cell_type": "code",
   "execution_count": 22,
   "id": "10df37d8",
   "metadata": {
    "execution": {
     "iopub.execute_input": "2021-09-16T21:31:18.929995Z",
     "iopub.status.busy": "2021-09-16T21:31:18.929412Z",
     "iopub.status.idle": "2021-09-16T21:31:18.931863Z",
     "shell.execute_reply": "2021-09-16T21:31:18.931319Z"
    }
   },
   "outputs": [
    {
     "data": {
      "text/plain": [
       "8"
      ]
     },
     "execution_count": 22,
     "metadata": {},
     "output_type": "execute_result"
    }
   ],
   "source": [
    "len(lista)"
   ]
  },
  {
   "cell_type": "code",
   "execution_count": 23,
   "id": "6c157ede",
   "metadata": {
    "execution": {
     "iopub.execute_input": "2021-09-16T21:31:18.938913Z",
     "iopub.status.busy": "2021-09-16T21:31:18.936604Z",
     "iopub.status.idle": "2021-09-16T21:31:18.941847Z",
     "shell.execute_reply": "2021-09-16T21:31:18.942310Z"
    }
   },
   "outputs": [
    {
     "data": {
      "text/plain": [
       "3.0"
      ]
     },
     "execution_count": 23,
     "metadata": {},
     "output_type": "execute_result"
    }
   ],
   "source": [
    "lista.pop()"
   ]
  },
  {
   "cell_type": "code",
   "execution_count": 24,
   "id": "64575b7d",
   "metadata": {
    "execution": {
     "iopub.execute_input": "2021-09-16T21:31:18.946354Z",
     "iopub.status.busy": "2021-09-16T21:31:18.945844Z",
     "iopub.status.idle": "2021-09-16T21:31:18.951424Z",
     "shell.execute_reply": "2021-09-16T21:31:18.950953Z"
    }
   },
   "outputs": [
    {
     "data": {
      "text/plain": [
       "[1, 2, 10, 3, 4, 1, 'dos']"
      ]
     },
     "execution_count": 24,
     "metadata": {},
     "output_type": "execute_result"
    }
   ],
   "source": [
    "lista"
   ]
  },
  {
   "cell_type": "code",
   "execution_count": 25,
   "id": "d9770ea8",
   "metadata": {
    "execution": {
     "iopub.execute_input": "2021-09-16T21:31:18.955720Z",
     "iopub.status.busy": "2021-09-16T21:31:18.955171Z",
     "iopub.status.idle": "2021-09-16T21:31:18.959925Z",
     "shell.execute_reply": "2021-09-16T21:31:18.959358Z"
    }
   },
   "outputs": [
    {
     "data": {
      "text/plain": [
       "2"
      ]
     },
     "execution_count": 25,
     "metadata": {},
     "output_type": "execute_result"
    }
   ],
   "source": [
    "lista.index(10)"
   ]
  },
  {
   "cell_type": "code",
   "execution_count": 26,
   "id": "fe470423",
   "metadata": {
    "execution": {
     "iopub.execute_input": "2021-09-16T21:31:18.964064Z",
     "iopub.status.busy": "2021-09-16T21:31:18.963503Z",
     "iopub.status.idle": "2021-09-16T21:31:18.968249Z",
     "shell.execute_reply": "2021-09-16T21:31:18.968679Z"
    }
   },
   "outputs": [
    {
     "data": {
      "text/plain": [
       "[1, 2, 3, 4, 1, 'dos']"
      ]
     },
     "execution_count": 26,
     "metadata": {},
     "output_type": "execute_result"
    }
   ],
   "source": [
    "lista.remove(10)\n",
    "lista"
   ]
  },
  {
   "cell_type": "code",
   "execution_count": 27,
   "id": "e5076fbf",
   "metadata": {
    "execution": {
     "iopub.execute_input": "2021-09-16T21:31:18.972874Z",
     "iopub.status.busy": "2021-09-16T21:31:18.972331Z",
     "iopub.status.idle": "2021-09-16T21:31:19.044113Z",
     "shell.execute_reply": "2021-09-16T21:31:19.043538Z"
    },
    "tags": [
     "raises-exception"
    ]
   },
   "outputs": [
    {
     "name": "stdout",
     "output_type": "stream",
     "text": [
      "1\n",
      "2\n",
      "2\n",
      "3\n",
      "3\n",
      "4\n",
      "4\n",
      "5\n",
      "1\n",
      "2\n",
      "dos\n"
     ]
    },
    {
     "ename": "TypeError",
     "evalue": "can only concatenate str (not \"int\") to str",
     "output_type": "error",
     "traceback": [
      "\u001b[0;31m---------------------------------------------------------------------------\u001b[0m",
      "\u001b[0;31mTypeError\u001b[0m                                 Traceback (most recent call last)",
      "\u001b[0;32m/tmp/ipykernel_1955/1783555086.py\u001b[0m in \u001b[0;36m<module>\u001b[0;34m\u001b[0m\n\u001b[1;32m      1\u001b[0m \u001b[0;32mfor\u001b[0m \u001b[0melemento\u001b[0m \u001b[0;32min\u001b[0m \u001b[0mlista\u001b[0m\u001b[0;34m:\u001b[0m\u001b[0;34m\u001b[0m\u001b[0;34m\u001b[0m\u001b[0m\n\u001b[1;32m      2\u001b[0m     \u001b[0mprint\u001b[0m\u001b[0;34m(\u001b[0m\u001b[0melemento\u001b[0m\u001b[0;34m)\u001b[0m\u001b[0;34m\u001b[0m\u001b[0;34m\u001b[0m\u001b[0m\n\u001b[0;32m----> 3\u001b[0;31m     \u001b[0mprint\u001b[0m\u001b[0;34m(\u001b[0m\u001b[0melemento\u001b[0m \u001b[0;34m+\u001b[0m \u001b[0;36m1\u001b[0m\u001b[0;34m)\u001b[0m\u001b[0;34m\u001b[0m\u001b[0;34m\u001b[0m\u001b[0m\n\u001b[0m",
      "\u001b[0;31mTypeError\u001b[0m: can only concatenate str (not \"int\") to str"
     ]
    }
   ],
   "source": [
    "for elemento in lista:\n",
    "    print(elemento)\n",
    "    print(elemento + 1)"
   ]
  },
  {
   "cell_type": "code",
   "execution_count": 28,
   "id": "4ee84cc8",
   "metadata": {
    "execution": {
     "iopub.execute_input": "2021-09-16T21:31:19.049487Z",
     "iopub.status.busy": "2021-09-16T21:31:19.048469Z",
     "iopub.status.idle": "2021-09-16T21:31:19.053207Z",
     "shell.execute_reply": "2021-09-16T21:31:19.053664Z"
    }
   },
   "outputs": [
    {
     "data": {
      "text/plain": [
       "[1, 2, 3, 4, 1, 'dos']"
      ]
     },
     "execution_count": 28,
     "metadata": {},
     "output_type": "execute_result"
    }
   ],
   "source": [
    "lista"
   ]
  },
  {
   "cell_type": "code",
   "execution_count": 29,
   "id": "dd437028",
   "metadata": {
    "execution": {
     "iopub.execute_input": "2021-09-16T21:31:19.058980Z",
     "iopub.status.busy": "2021-09-16T21:31:19.058008Z",
     "iopub.status.idle": "2021-09-16T21:31:19.062411Z",
     "shell.execute_reply": "2021-09-16T21:31:19.062808Z"
    }
   },
   "outputs": [
    {
     "name": "stdout",
     "output_type": "stream",
     "text": [
      "0-ésimo elemento: 1\n",
      "1-ésimo elemento: 2\n",
      "2-ésimo elemento: 3\n",
      "3-ésimo elemento: 4\n",
      "4-ésimo elemento: 1\n",
      "5-ésimo elemento: dos\n"
     ]
    }
   ],
   "source": [
    "for i, elemento in enumerate(lista):\n",
    "    print(f\"{i}-ésimo elemento: {elemento}\")"
   ]
  },
  {
   "cell_type": "code",
   "execution_count": 30,
   "id": "44b4eb3d",
   "metadata": {
    "execution": {
     "iopub.execute_input": "2021-09-16T21:31:19.069091Z",
     "iopub.status.busy": "2021-09-16T21:31:19.068514Z",
     "iopub.status.idle": "2021-09-16T21:31:19.073565Z",
     "shell.execute_reply": "2021-09-16T21:31:19.073047Z"
    },
    "tags": [
     "raises-exception"
    ]
   },
   "outputs": [
    {
     "ename": "TypeError",
     "evalue": "'<' not supported between instances of 'str' and 'int'",
     "output_type": "error",
     "traceback": [
      "\u001b[0;31m---------------------------------------------------------------------------\u001b[0m",
      "\u001b[0;31mTypeError\u001b[0m                                 Traceback (most recent call last)",
      "\u001b[0;32m/tmp/ipykernel_1955/2266425520.py\u001b[0m in \u001b[0;36m<module>\u001b[0;34m\u001b[0m\n\u001b[0;32m----> 1\u001b[0;31m \u001b[0msorted\u001b[0m\u001b[0;34m(\u001b[0m\u001b[0mlista\u001b[0m\u001b[0;34m)\u001b[0m\u001b[0;34m\u001b[0m\u001b[0;34m\u001b[0m\u001b[0m\n\u001b[0m",
      "\u001b[0;31mTypeError\u001b[0m: '<' not supported between instances of 'str' and 'int'"
     ]
    }
   ],
   "source": [
    "sorted(lista)"
   ]
  },
  {
   "cell_type": "code",
   "execution_count": 31,
   "id": "cc955d7c",
   "metadata": {
    "execution": {
     "iopub.execute_input": "2021-09-16T21:31:19.077339Z",
     "iopub.status.busy": "2021-09-16T21:31:19.076803Z",
     "iopub.status.idle": "2021-09-16T21:31:19.079701Z",
     "shell.execute_reply": "2021-09-16T21:31:19.079257Z"
    }
   },
   "outputs": [],
   "source": [
    "lista.remove(\"dos\")"
   ]
  },
  {
   "cell_type": "code",
   "execution_count": 32,
   "id": "3f4da9d2",
   "metadata": {
    "execution": {
     "iopub.execute_input": "2021-09-16T21:31:19.084064Z",
     "iopub.status.busy": "2021-09-16T21:31:19.083468Z",
     "iopub.status.idle": "2021-09-16T21:31:19.086080Z",
     "shell.execute_reply": "2021-09-16T21:31:19.085561Z"
    }
   },
   "outputs": [
    {
     "data": {
      "text/plain": [
       "[1, 1, 2, 3, 4]"
      ]
     },
     "execution_count": 32,
     "metadata": {},
     "output_type": "execute_result"
    }
   ],
   "source": [
    "sorted(lista)"
   ]
  },
  {
   "cell_type": "code",
   "execution_count": 33,
   "id": "539be55c",
   "metadata": {
    "execution": {
     "iopub.execute_input": "2021-09-16T21:31:19.090153Z",
     "iopub.status.busy": "2021-09-16T21:31:19.089647Z",
     "iopub.status.idle": "2021-09-16T21:31:19.094819Z",
     "shell.execute_reply": "2021-09-16T21:31:19.094371Z"
    }
   },
   "outputs": [
    {
     "data": {
      "text/plain": [
       "[1, 1, 2, 3, 4]"
      ]
     },
     "execution_count": 33,
     "metadata": {},
     "output_type": "execute_result"
    }
   ],
   "source": [
    "lista.sort()\n",
    "lista"
   ]
  },
  {
   "cell_type": "markdown",
   "id": "342ef222",
   "metadata": {
    "slideshow": {
     "slide_type": "slide"
    }
   },
   "source": [
    "#### Tuplas de Python\n",
    "\n",
    "Las tuplas son inmutables. No se pueden agregar elementos luego de creadas."
   ]
  },
  {
   "cell_type": "code",
   "execution_count": 34,
   "id": "8bb4239d",
   "metadata": {
    "execution": {
     "iopub.execute_input": "2021-09-16T21:31:19.102425Z",
     "iopub.status.busy": "2021-09-16T21:31:19.101845Z",
     "iopub.status.idle": "2021-09-16T21:31:19.108082Z",
     "shell.execute_reply": "2021-09-16T21:31:19.107367Z"
    },
    "slideshow": {
     "slide_type": "slide"
    },
    "tags": [
     "raises-exception"
    ]
   },
   "outputs": [
    {
     "name": "stdout",
     "output_type": "stream",
     "text": [
      "(1, 2)\n",
      "1\n",
      "2\n"
     ]
    },
    {
     "ename": "TypeError",
     "evalue": "'tuple' object does not support item assignment",
     "output_type": "error",
     "traceback": [
      "\u001b[0;31m---------------------------------------------------------------------------\u001b[0m",
      "\u001b[0;31mTypeError\u001b[0m                                 Traceback (most recent call last)",
      "\u001b[0;32m/tmp/ipykernel_1955/3644040918.py\u001b[0m in \u001b[0;36m<module>\u001b[0;34m\u001b[0m\n\u001b[1;32m      5\u001b[0m \u001b[0mprint\u001b[0m\u001b[0;34m(\u001b[0m\u001b[0mtupla\u001b[0m\u001b[0;34m[\u001b[0m\u001b[0;36m1\u001b[0m\u001b[0;34m]\u001b[0m\u001b[0;34m)\u001b[0m\u001b[0;34m\u001b[0m\u001b[0;34m\u001b[0m\u001b[0m\n\u001b[1;32m      6\u001b[0m \u001b[0;34m\u001b[0m\u001b[0m\n\u001b[0;32m----> 7\u001b[0;31m \u001b[0mtupla\u001b[0m\u001b[0;34m[\u001b[0m\u001b[0;36m1\u001b[0m\u001b[0;34m]\u001b[0m \u001b[0;34m=\u001b[0m \u001b[0;36m3\u001b[0m  \u001b[0;31m# Falla. No se puede mutar\u001b[0m\u001b[0;34m\u001b[0m\u001b[0;34m\u001b[0m\u001b[0m\n\u001b[0m",
      "\u001b[0;31mTypeError\u001b[0m: 'tuple' object does not support item assignment"
     ]
    }
   ],
   "source": [
    "tupla = (1, 2)\n",
    "\n",
    "print(tupla)\n",
    "print(tupla[0])\n",
    "print(tupla[1])\n",
    "\n",
    "tupla[1] = 3  # Falla. No se puede mutar"
   ]
  },
  {
   "cell_type": "code",
   "execution_count": 35,
   "id": "1bbd1b7a",
   "metadata": {
    "execution": {
     "iopub.execute_input": "2021-09-16T21:31:19.112359Z",
     "iopub.status.busy": "2021-09-16T21:31:19.111701Z",
     "iopub.status.idle": "2021-09-16T21:31:19.116764Z",
     "shell.execute_reply": "2021-09-16T21:31:19.116311Z"
    }
   },
   "outputs": [
    {
     "data": {
      "text/plain": [
       "[1, 2]"
      ]
     },
     "execution_count": 35,
     "metadata": {},
     "output_type": "execute_result"
    }
   ],
   "source": [
    "l = [1, 2]\n",
    "l"
   ]
  },
  {
   "cell_type": "code",
   "execution_count": 36,
   "id": "2602cbc7",
   "metadata": {
    "execution": {
     "iopub.execute_input": "2021-09-16T21:31:19.120987Z",
     "iopub.status.busy": "2021-09-16T21:31:19.120353Z",
     "iopub.status.idle": "2021-09-16T21:31:19.123335Z",
     "shell.execute_reply": "2021-09-16T21:31:19.122867Z"
    }
   },
   "outputs": [
    {
     "data": {
      "text/plain": [
       "[1, 3]"
      ]
     },
     "execution_count": 36,
     "metadata": {},
     "output_type": "execute_result"
    }
   ],
   "source": [
    "l[1] = 3\n",
    "l"
   ]
  },
  {
   "cell_type": "markdown",
   "id": "993865ea",
   "metadata": {
    "slideshow": {
     "slide_type": "slide"
    }
   },
   "source": [
    "#### Diferencia entre lista y tupla\n",
    "Las listas se caracterizan por ser mutables, es decir, se puede cambiar su contenido en tiempo de ejecución, mientras que las tuplas son inmutables ya que no es posible modificar el contenido una vez creada."
   ]
  },
  {
   "cell_type": "markdown",
   "id": "8f0fea39",
   "metadata": {},
   "source": [
    "#### Slices\n",
    "\n",
    "**Valen para listas, tuplas o strings (_segmentos_)**"
   ]
  },
  {
   "cell_type": "code",
   "execution_count": 37,
   "id": "1b8bf37c",
   "metadata": {
    "execution": {
     "iopub.execute_input": "2021-09-16T21:31:19.127110Z",
     "iopub.status.busy": "2021-09-16T21:31:19.126599Z",
     "iopub.status.idle": "2021-09-16T21:31:19.130018Z",
     "shell.execute_reply": "2021-09-16T21:31:19.129537Z"
    }
   },
   "outputs": [],
   "source": [
    "numeros = [0, 1, 2, 3, 4, 5, 6, 7, 8, 9, 10]"
   ]
  },
  {
   "cell_type": "code",
   "execution_count": 38,
   "id": "2e17f4aa",
   "metadata": {
    "execution": {
     "iopub.execute_input": "2021-09-16T21:31:19.137298Z",
     "iopub.status.busy": "2021-09-16T21:31:19.136133Z",
     "iopub.status.idle": "2021-09-16T21:31:19.138975Z",
     "shell.execute_reply": "2021-09-16T21:31:19.138529Z"
    }
   },
   "outputs": [
    {
     "name": "stdout",
     "output_type": "stream",
     "text": [
      "[0, 1, 2, 3, 4, 5, 6, 7, 8, 9, 10]\n"
     ]
    }
   ],
   "source": [
    "print(numeros)"
   ]
  },
  {
   "cell_type": "code",
   "execution_count": 39,
   "id": "255249d1",
   "metadata": {
    "execution": {
     "iopub.execute_input": "2021-09-16T21:31:19.143545Z",
     "iopub.status.busy": "2021-09-16T21:31:19.142996Z",
     "iopub.status.idle": "2021-09-16T21:31:19.146556Z",
     "shell.execute_reply": "2021-09-16T21:31:19.146952Z"
    }
   },
   "outputs": [
    {
     "name": "stdout",
     "output_type": "stream",
     "text": [
      "2\n"
     ]
    }
   ],
   "source": [
    "print(numeros[2])  # Imprimo elemento en la posición 2"
   ]
  },
  {
   "cell_type": "code",
   "execution_count": 40,
   "id": "9fe804d8",
   "metadata": {
    "execution": {
     "iopub.execute_input": "2021-09-16T21:31:19.153132Z",
     "iopub.status.busy": "2021-09-16T21:31:19.151993Z",
     "iopub.status.idle": "2021-09-16T21:31:19.154785Z",
     "shell.execute_reply": "2021-09-16T21:31:19.155226Z"
    }
   },
   "outputs": [
    {
     "data": {
      "text/plain": [
       "10"
      ]
     },
     "execution_count": 40,
     "metadata": {},
     "output_type": "execute_result"
    }
   ],
   "source": [
    "numeros[len(numeros) - 1]"
   ]
  },
  {
   "cell_type": "code",
   "execution_count": 41,
   "id": "d693bd9f",
   "metadata": {
    "execution": {
     "iopub.execute_input": "2021-09-16T21:31:19.160394Z",
     "iopub.status.busy": "2021-09-16T21:31:19.159149Z",
     "iopub.status.idle": "2021-09-16T21:31:19.162191Z",
     "shell.execute_reply": "2021-09-16T21:31:19.161739Z"
    },
    "lines_to_next_cell": 2
   },
   "outputs": [
    {
     "name": "stdout",
     "output_type": "stream",
     "text": [
      "10\n"
     ]
    }
   ],
   "source": [
    "print(numeros[-1])  # # Imprimo elemento en la última posición"
   ]
  },
  {
   "cell_type": "code",
   "execution_count": 42,
   "id": "de52e0c7",
   "metadata": {
    "execution": {
     "iopub.execute_input": "2021-09-16T21:31:19.167876Z",
     "iopub.status.busy": "2021-09-16T21:31:19.166656Z",
     "iopub.status.idle": "2021-09-16T21:31:19.169750Z",
     "shell.execute_reply": "2021-09-16T21:31:19.169252Z"
    },
    "lines_to_next_cell": 2
   },
   "outputs": [
    {
     "data": {
      "text/plain": [
       "9"
      ]
     },
     "execution_count": 42,
     "metadata": {},
     "output_type": "execute_result"
    }
   ],
   "source": [
    "numeros[-2]"
   ]
  },
  {
   "cell_type": "code",
   "execution_count": 43,
   "id": "f2c24891",
   "metadata": {
    "execution": {
     "iopub.execute_input": "2021-09-16T21:31:19.175058Z",
     "iopub.status.busy": "2021-09-16T21:31:19.173747Z",
     "iopub.status.idle": "2021-09-16T21:31:19.176824Z",
     "shell.execute_reply": "2021-09-16T21:31:19.176345Z"
    }
   },
   "outputs": [
    {
     "name": "stdout",
     "output_type": "stream",
     "text": [
      "[0, 1, 2]\n"
     ]
    }
   ],
   "source": [
    "print(numeros[0:3])  # Imprimo de la pos 0 a la pos 2"
   ]
  },
  {
   "cell_type": "code",
   "execution_count": 44,
   "id": "a62c77ea",
   "metadata": {
    "execution": {
     "iopub.execute_input": "2021-09-16T21:31:19.181938Z",
     "iopub.status.busy": "2021-09-16T21:31:19.180712Z",
     "iopub.status.idle": "2021-09-16T21:31:19.183859Z",
     "shell.execute_reply": "2021-09-16T21:31:19.183374Z"
    }
   },
   "outputs": [
    {
     "name": "stdout",
     "output_type": "stream",
     "text": [
      "[7, 8]\n"
     ]
    }
   ],
   "source": [
    "print(numeros[-4:-2])"
   ]
  },
  {
   "cell_type": "code",
   "execution_count": 45,
   "id": "33846ef4",
   "metadata": {
    "execution": {
     "iopub.execute_input": "2021-09-16T21:31:19.188974Z",
     "iopub.status.busy": "2021-09-16T21:31:19.187833Z",
     "iopub.status.idle": "2021-09-16T21:31:19.190656Z",
     "shell.execute_reply": "2021-09-16T21:31:19.190214Z"
    }
   },
   "outputs": [
    {
     "name": "stdout",
     "output_type": "stream",
     "text": [
      "[0, 1, 2, 3, 4, 5, 6, 7, 8, 9, 10]\n"
     ]
    }
   ],
   "source": [
    "print(numeros[0:80])"
   ]
  },
  {
   "cell_type": "code",
   "execution_count": 46,
   "id": "623fa6c4",
   "metadata": {
    "execution": {
     "iopub.execute_input": "2021-09-16T21:31:19.195417Z",
     "iopub.status.busy": "2021-09-16T21:31:19.194874Z",
     "iopub.status.idle": "2021-09-16T21:31:19.196655Z",
     "shell.execute_reply": "2021-09-16T21:31:19.197118Z"
    }
   },
   "outputs": [
    {
     "name": "stdout",
     "output_type": "stream",
     "text": [
      "[0, 1, 2]\n"
     ]
    }
   ],
   "source": [
    "print(numeros[:3])"
   ]
  },
  {
   "cell_type": "code",
   "execution_count": 47,
   "id": "90f4964a",
   "metadata": {
    "execution": {
     "iopub.execute_input": "2021-09-16T21:31:19.200705Z",
     "iopub.status.busy": "2021-09-16T21:31:19.200197Z",
     "iopub.status.idle": "2021-09-16T21:31:19.202804Z",
     "shell.execute_reply": "2021-09-16T21:31:19.202356Z"
    }
   },
   "outputs": [
    {
     "name": "stdout",
     "output_type": "stream",
     "text": [
      "[3, 4, 5, 6, 7, 8, 9, 10]\n"
     ]
    }
   ],
   "source": [
    "print(numeros[3:])"
   ]
  },
  {
   "cell_type": "code",
   "execution_count": 48,
   "id": "8168aca2",
   "metadata": {
    "execution": {
     "iopub.execute_input": "2021-09-16T21:31:19.207113Z",
     "iopub.status.busy": "2021-09-16T21:31:19.206580Z",
     "iopub.status.idle": "2021-09-16T21:31:19.208398Z",
     "shell.execute_reply": "2021-09-16T21:31:19.208827Z"
    }
   },
   "outputs": [
    {
     "name": "stdout",
     "output_type": "stream",
     "text": [
      "[0, 2, 4, 6, 8]\n"
     ]
    }
   ],
   "source": [
    "print(numeros[0:10:2])"
   ]
  },
  {
   "cell_type": "markdown",
   "id": "6c5d6201",
   "metadata": {},
   "source": [
    "```python\n",
    "lista[<inicio>:<final>:<step>]\n",
    "```"
   ]
  },
  {
   "cell_type": "code",
   "execution_count": 49,
   "id": "4526e6ee",
   "metadata": {
    "execution": {
     "iopub.execute_input": "2021-09-16T21:31:19.214032Z",
     "iopub.status.busy": "2021-09-16T21:31:19.213454Z",
     "iopub.status.idle": "2021-09-16T21:31:19.215529Z",
     "shell.execute_reply": "2021-09-16T21:31:19.215976Z"
    },
    "lines_to_next_cell": 2
   },
   "outputs": [
    {
     "data": {
      "text/plain": [
       "[1, 2, 3, 4]"
      ]
     },
     "execution_count": 49,
     "metadata": {},
     "output_type": "execute_result"
    }
   ],
   "source": [
    "l1 = [1, 2]\n",
    "l2 = [3, 4]\n",
    "l1 + l2"
   ]
  },
  {
   "cell_type": "code",
   "execution_count": 50,
   "id": "d0c3e48d",
   "metadata": {
    "execution": {
     "iopub.execute_input": "2021-09-16T21:31:19.219972Z",
     "iopub.status.busy": "2021-09-16T21:31:19.219457Z",
     "iopub.status.idle": "2021-09-16T21:31:19.221364Z",
     "shell.execute_reply": "2021-09-16T21:31:19.221786Z"
    }
   },
   "outputs": [
    {
     "name": "stdout",
     "output_type": "stream",
     "text": [
      "[0, 1, 2, 3, 4, 5, 6, 'siete', 8, 9, 10]\n"
     ]
    }
   ],
   "source": [
    "numeros[7] = 'siete'  # Las listas se pueden mutar\n",
    "print(numeros)"
   ]
  },
  {
   "cell_type": "code",
   "execution_count": 51,
   "id": "f1688fd7",
   "metadata": {
    "execution": {
     "iopub.execute_input": "2021-09-16T21:31:19.225860Z",
     "iopub.status.busy": "2021-09-16T21:31:19.225342Z",
     "iopub.status.idle": "2021-09-16T21:31:19.227213Z",
     "shell.execute_reply": "2021-09-16T21:31:19.227630Z"
    }
   },
   "outputs": [
    {
     "name": "stdout",
     "output_type": "stream",
     "text": [
      "[10, 9, 8, 'siete', 6, 5, 4, 3, 2, 1, 0]\n"
     ]
    }
   ],
   "source": [
    "numeros = numeros[::-1]\n",
    "print(numeros)"
   ]
  },
  {
   "cell_type": "code",
   "execution_count": 52,
   "id": "107f8940",
   "metadata": {
    "execution": {
     "iopub.execute_input": "2021-09-16T21:31:19.234212Z",
     "iopub.status.busy": "2021-09-16T21:31:19.233652Z",
     "iopub.status.idle": "2021-09-16T21:31:19.236817Z",
     "shell.execute_reply": "2021-09-16T21:31:19.236371Z"
    },
    "tags": [
     "raises-exception"
    ]
   },
   "outputs": [
    {
     "ename": "IndexError",
     "evalue": "list index out of range",
     "output_type": "error",
     "traceback": [
      "\u001b[0;31m---------------------------------------------------------------------------\u001b[0m",
      "\u001b[0;31mIndexError\u001b[0m                                Traceback (most recent call last)",
      "\u001b[0;32m/tmp/ipykernel_1955/1255736182.py\u001b[0m in \u001b[0;36m<module>\u001b[0;34m\u001b[0m\n\u001b[0;32m----> 1\u001b[0;31m \u001b[0mprint\u001b[0m\u001b[0;34m(\u001b[0m\u001b[0mnumeros\u001b[0m\u001b[0;34m[\u001b[0m\u001b[0;36m15\u001b[0m\u001b[0;34m]\u001b[0m\u001b[0;34m)\u001b[0m  \u001b[0;31m# Falla. No se puede acceder a una posición inexistente\u001b[0m\u001b[0;34m\u001b[0m\u001b[0;34m\u001b[0m\u001b[0m\n\u001b[0m",
      "\u001b[0;31mIndexError\u001b[0m: list index out of range"
     ]
    }
   ],
   "source": [
    "print(numeros[15])  # Falla. No se puede acceder a una posición inexistente"
   ]
  },
  {
   "cell_type": "code",
   "execution_count": 53,
   "id": "02e7ad21",
   "metadata": {
    "execution": {
     "iopub.execute_input": "2021-09-16T21:31:19.241252Z",
     "iopub.status.busy": "2021-09-16T21:31:19.240492Z",
     "iopub.status.idle": "2021-09-16T21:31:19.243343Z",
     "shell.execute_reply": "2021-09-16T21:31:19.242820Z"
    }
   },
   "outputs": [
    {
     "name": "stdout",
     "output_type": "stream",
     "text": [
      "palabra\n",
      "a\n",
      "pal\n",
      "abra\n"
     ]
    }
   ],
   "source": [
    "palabra = 'palabra'\n",
    "print(palabra)\n",
    "print(palabra[3])\n",
    "print(palabra[:3])\n",
    "print(palabra[3:])"
   ]
  },
  {
   "cell_type": "code",
   "execution_count": 54,
   "id": "69467162",
   "metadata": {
    "execution": {
     "iopub.execute_input": "2021-09-16T21:31:19.246212Z",
     "iopub.status.busy": "2021-09-16T21:31:19.245703Z",
     "iopub.status.idle": "2021-09-16T21:31:19.249667Z",
     "shell.execute_reply": "2021-09-16T21:31:19.250063Z"
    }
   },
   "outputs": [
    {
     "name": "stdout",
     "output_type": "stream",
     "text": [
      "(0, 1, 2, 3, 4)\n",
      "(0, 1)\n",
      "(2, 3, 4)\n"
     ]
    }
   ],
   "source": [
    "tupla = (0, 1, 2, 3, 4)\n",
    "\n",
    "print(tupla)\n",
    "print(tupla[:2])\n",
    "print(tupla[2:])"
   ]
  },
  {
   "cell_type": "markdown",
   "id": "d7b46480",
   "metadata": {
    "slideshow": {
     "slide_type": "slide"
    }
   },
   "source": [
    "#### Diccionarios de Python\n",
    "\n",
    "Son como hashmaps, las claves deben ser inmutables para que no pierda sentido el diccionario. Si se pudieran modificar, se podrían cambiar las claves y generaría conflictos.\n",
    "\n",
    "Tipos mutables:\n",
    "- Listas\n",
    "- Diccionarios\n",
    "- Sets\n",
    "\n",
    "Tipos inmutables:\n",
    "- Int\n",
    "- Float\n",
    "- String\n",
    "- Tuplas\n"
   ]
  },
  {
   "cell_type": "code",
   "execution_count": 55,
   "id": "e2c211de",
   "metadata": {
    "execution": {
     "iopub.execute_input": "2021-09-16T21:31:19.258191Z",
     "iopub.status.busy": "2021-09-16T21:31:19.257288Z",
     "iopub.status.idle": "2021-09-16T21:31:19.259806Z",
     "shell.execute_reply": "2021-09-16T21:31:19.260245Z"
    },
    "slideshow": {
     "slide_type": "slide"
    }
   },
   "outputs": [
    {
     "data": {
      "text/plain": [
       "{}"
      ]
     },
     "execution_count": 55,
     "metadata": {},
     "output_type": "execute_result"
    }
   ],
   "source": [
    "diccionario = {}\n",
    "diccionario"
   ]
  },
  {
   "cell_type": "code",
   "execution_count": 56,
   "id": "a64d322b",
   "metadata": {
    "execution": {
     "iopub.execute_input": "2021-09-16T21:31:19.265336Z",
     "iopub.status.busy": "2021-09-16T21:31:19.264761Z",
     "iopub.status.idle": "2021-09-16T21:31:19.266682Z",
     "shell.execute_reply": "2021-09-16T21:31:19.267176Z"
    }
   },
   "outputs": [
    {
     "data": {
      "text/plain": [
       "{}"
      ]
     },
     "execution_count": 56,
     "metadata": {},
     "output_type": "execute_result"
    }
   ],
   "source": [
    "diccionario = dict()\n",
    "diccionario"
   ]
  },
  {
   "cell_type": "code",
   "execution_count": 57,
   "id": "b6857698",
   "metadata": {
    "execution": {
     "iopub.execute_input": "2021-09-16T21:31:19.272720Z",
     "iopub.status.busy": "2021-09-16T21:31:19.271512Z",
     "iopub.status.idle": "2021-09-16T21:31:19.274585Z",
     "shell.execute_reply": "2021-09-16T21:31:19.274087Z"
    },
    "slideshow": {
     "slide_type": "slide"
    }
   },
   "outputs": [
    {
     "name": "stdout",
     "output_type": "stream",
     "text": [
      "{'clave1': 'valor1', 2: 'valor2', 'clave3': 3}\n"
     ]
    }
   ],
   "source": [
    "# Cómo agregar cosas al diccionario\n",
    "diccionario['clave1'] = 'valor1'\n",
    "diccionario[2] = 'valor2'\n",
    "diccionario['clave3'] = 3\n",
    "print(diccionario)"
   ]
  },
  {
   "cell_type": "markdown",
   "id": "bbe548e8",
   "metadata": {},
   "source": [
    "Hay dos formas de obtener valores de un diccionario:\n",
    "\n",
    "```python\n",
    "diccionario[clave]\n",
    "```\n",
    "\n",
    "El cual devuelve el valor si existe la clave suministrada o bien lanza `KeyError` si no existe."
   ]
  },
  {
   "cell_type": "code",
   "execution_count": 58,
   "id": "66350d63",
   "metadata": {
    "execution": {
     "iopub.execute_input": "2021-09-16T21:31:19.279094Z",
     "iopub.status.busy": "2021-09-16T21:31:19.278547Z",
     "iopub.status.idle": "2021-09-16T21:31:19.281558Z",
     "shell.execute_reply": "2021-09-16T21:31:19.281109Z"
    }
   },
   "outputs": [
    {
     "data": {
      "text/plain": [
       "'valor1'"
      ]
     },
     "execution_count": 58,
     "metadata": {},
     "output_type": "execute_result"
    }
   ],
   "source": [
    "diccionario['clave1']"
   ]
  },
  {
   "cell_type": "code",
   "execution_count": 59,
   "id": "2125c1c6",
   "metadata": {
    "execution": {
     "iopub.execute_input": "2021-09-16T21:31:19.285044Z",
     "iopub.status.busy": "2021-09-16T21:31:19.284498Z",
     "iopub.status.idle": "2021-09-16T21:31:19.290896Z",
     "shell.execute_reply": "2021-09-16T21:31:19.290438Z"
    },
    "tags": [
     "raises-exception"
    ]
   },
   "outputs": [
    {
     "ename": "KeyError",
     "evalue": "'clave1000'",
     "output_type": "error",
     "traceback": [
      "\u001b[0;31m---------------------------------------------------------------------------\u001b[0m",
      "\u001b[0;31mKeyError\u001b[0m                                  Traceback (most recent call last)",
      "\u001b[0;32m/tmp/ipykernel_1955/3541524662.py\u001b[0m in \u001b[0;36m<module>\u001b[0;34m\u001b[0m\n\u001b[0;32m----> 1\u001b[0;31m \u001b[0mdiccionario\u001b[0m\u001b[0;34m[\u001b[0m\u001b[0;34m'clave1000'\u001b[0m\u001b[0;34m]\u001b[0m\u001b[0;34m\u001b[0m\u001b[0;34m\u001b[0m\u001b[0m\n\u001b[0m",
      "\u001b[0;31mKeyError\u001b[0m: 'clave1000'"
     ]
    }
   ],
   "source": [
    "diccionario['clave1000']"
   ]
  },
  {
   "cell_type": "markdown",
   "id": "ff2a729d",
   "metadata": {},
   "source": [
    "La segunda forma es con `get`:"
   ]
  },
  {
   "cell_type": "code",
   "execution_count": 60,
   "id": "5ebd1b1f",
   "metadata": {
    "execution": {
     "iopub.execute_input": "2021-09-16T21:31:19.303594Z",
     "iopub.status.busy": "2021-09-16T21:31:19.293662Z",
     "iopub.status.idle": "2021-09-16T21:31:19.356090Z",
     "shell.execute_reply": "2021-09-16T21:31:19.355182Z"
    }
   },
   "outputs": [],
   "source": [
    "diccionario.get?"
   ]
  },
  {
   "cell_type": "code",
   "execution_count": 61,
   "id": "d1723af7",
   "metadata": {
    "execution": {
     "iopub.execute_input": "2021-09-16T21:31:19.362225Z",
     "iopub.status.busy": "2021-09-16T21:31:19.360961Z",
     "iopub.status.idle": "2021-09-16T21:31:19.363992Z",
     "shell.execute_reply": "2021-09-16T21:31:19.363500Z"
    }
   },
   "outputs": [
    {
     "name": "stdout",
     "output_type": "stream",
     "text": [
      "Help on built-in function get:\n",
      "\n",
      "get(key, default=None, /) method of builtins.dict instance\n",
      "    Return the value for key if key is in the dictionary, else default.\n",
      "\n"
     ]
    }
   ],
   "source": [
    "help(diccionario.get)"
   ]
  },
  {
   "cell_type": "code",
   "execution_count": 62,
   "id": "533621c5",
   "metadata": {
    "execution": {
     "iopub.execute_input": "2021-09-16T21:31:19.369274Z",
     "iopub.status.busy": "2021-09-16T21:31:19.368029Z",
     "iopub.status.idle": "2021-09-16T21:31:19.371025Z",
     "shell.execute_reply": "2021-09-16T21:31:19.370584Z"
    },
    "slideshow": {
     "slide_type": "slide"
    }
   },
   "outputs": [
    {
     "name": "stdout",
     "output_type": "stream",
     "text": [
      "None\n"
     ]
    }
   ],
   "source": [
    "print(diccionario.get('clave1000'))"
   ]
  },
  {
   "cell_type": "code",
   "execution_count": 63,
   "id": "afc80186",
   "metadata": {
    "execution": {
     "iopub.execute_input": "2021-09-16T21:31:19.376219Z",
     "iopub.status.busy": "2021-09-16T21:31:19.374845Z",
     "iopub.status.idle": "2021-09-16T21:31:19.378041Z",
     "shell.execute_reply": "2021-09-16T21:31:19.377565Z"
    },
    "slideshow": {
     "slide_type": "slide"
    }
   },
   "outputs": [
    {
     "name": "stdout",
     "output_type": "stream",
     "text": [
      "True\n"
     ]
    }
   ],
   "source": [
    "print('clave1' in diccionario)  # Verifico si la clave está en el diccionario"
   ]
  },
  {
   "cell_type": "code",
   "execution_count": 64,
   "id": "477148c2",
   "metadata": {
    "execution": {
     "iopub.execute_input": "2021-09-16T21:31:19.383621Z",
     "iopub.status.busy": "2021-09-16T21:31:19.382621Z",
     "iopub.status.idle": "2021-09-16T21:31:19.385315Z",
     "shell.execute_reply": "2021-09-16T21:31:19.385886Z"
    }
   },
   "outputs": [
    {
     "data": {
      "text/plain": [
       "True"
      ]
     },
     "execution_count": 64,
     "metadata": {},
     "output_type": "execute_result"
    }
   ],
   "source": [
    "l = [1, 2, 3, 4]\n",
    "2 in l"
   ]
  },
  {
   "cell_type": "code",
   "execution_count": 65,
   "id": "351cfa34",
   "metadata": {
    "execution": {
     "iopub.execute_input": "2021-09-16T21:31:19.390702Z",
     "iopub.status.busy": "2021-09-16T21:31:19.388240Z",
     "iopub.status.idle": "2021-09-16T21:31:19.392652Z",
     "shell.execute_reply": "2021-09-16T21:31:19.393067Z"
    }
   },
   "outputs": [
    {
     "name": "stdout",
     "output_type": "stream",
     "text": [
      "la clave es clave1 y el valor es valor1\n",
      "la clave es 2 y el valor es valor2\n",
      "la clave es clave3 y el valor es 3\n"
     ]
    }
   ],
   "source": [
    "for clave, valor in diccionario.items():\n",
    "    print(\"la clave es %s y el valor es %s\" % (clave, valor))"
   ]
  },
  {
   "cell_type": "code",
   "execution_count": 66,
   "id": "8a67a19b",
   "metadata": {
    "execution": {
     "iopub.execute_input": "2021-09-16T21:31:19.397552Z",
     "iopub.status.busy": "2021-09-16T21:31:19.396973Z",
     "iopub.status.idle": "2021-09-16T21:31:19.398942Z",
     "shell.execute_reply": "2021-09-16T21:31:19.399357Z"
    }
   },
   "outputs": [
    {
     "name": "stdout",
     "output_type": "stream",
     "text": [
      "la clave es clave1 y el valor es valor1\n",
      "la clave es 2 y el valor es valor2\n",
      "la clave es clave3 y el valor es 3\n"
     ]
    }
   ],
   "source": [
    "for clave, valor in diccionario.items():\n",
    "    print(\"la clave es {} y el valor es {}\".format(clave, valor))"
   ]
  },
  {
   "cell_type": "code",
   "execution_count": 67,
   "id": "dab63d8d",
   "metadata": {
    "execution": {
     "iopub.execute_input": "2021-09-16T21:31:19.403849Z",
     "iopub.status.busy": "2021-09-16T21:31:19.403282Z",
     "iopub.status.idle": "2021-09-16T21:31:19.407822Z",
     "shell.execute_reply": "2021-09-16T21:31:19.407362Z"
    },
    "slideshow": {
     "slide_type": "slide"
    }
   },
   "outputs": [
    {
     "name": "stdout",
     "output_type": "stream",
     "text": [
      "la clave es clave1 y el valor es valor1\n",
      "la clave es 2 y el valor es valor2\n",
      "la clave es clave3 y el valor es 3\n"
     ]
    }
   ],
   "source": [
    "# Cómo iterar un diccionario elemento por elemento\n",
    "for (\n",
    "    clave,\n",
    "    valor,\n",
    ") in (\n",
    "    diccionario.items()\n",
    "):  # diccionario.items() va devolviendo tuplas con el formato (clave,valor)\n",
    "    print(\n",
    "        f\"la clave es {clave} y el valor es {valor}\"\n",
    "    )  # con esta sintaxis se desempaquetan en clave y valor (similar a enumerate)"
   ]
  },
  {
   "cell_type": "code",
   "execution_count": 68,
   "id": "0cdd3726",
   "metadata": {
    "execution": {
     "iopub.execute_input": "2021-09-16T21:31:19.413288Z",
     "iopub.status.busy": "2021-09-16T21:31:19.412029Z",
     "iopub.status.idle": "2021-09-16T21:31:19.414932Z",
     "shell.execute_reply": "2021-09-16T21:31:19.414489Z"
    },
    "slideshow": {
     "slide_type": "slide"
    }
   },
   "outputs": [
    {
     "name": "stdout",
     "output_type": "stream",
     "text": [
      "clave1\n",
      "2\n",
      "clave3\n"
     ]
    }
   ],
   "source": [
    "for clave in diccionario.keys():\n",
    "    print(clave)"
   ]
  },
  {
   "cell_type": "code",
   "execution_count": 69,
   "id": "19be2c9a",
   "metadata": {
    "execution": {
     "iopub.execute_input": "2021-09-16T21:31:19.420454Z",
     "iopub.status.busy": "2021-09-16T21:31:19.419222Z",
     "iopub.status.idle": "2021-09-16T21:31:19.422135Z",
     "shell.execute_reply": "2021-09-16T21:31:19.421691Z"
    },
    "slideshow": {
     "slide_type": "slide"
    }
   },
   "outputs": [
    {
     "name": "stdout",
     "output_type": "stream",
     "text": [
      "valor1\n",
      "valor2\n",
      "3\n"
     ]
    }
   ],
   "source": [
    "for valor in diccionario.values():\n",
    "    print(valor)"
   ]
  },
  {
   "cell_type": "markdown",
   "id": "b6b3cd3f",
   "metadata": {},
   "source": [
    "#### Sets\n",
    "\n",
    "Son similares a los diccionarios (en eficiencia) pero se almacenan solo claves, y tienen algunas operaciones particulares.\n",
    "\n",
    "En particular, no pueden tener elementos iguales (pensar que son conjuntos)"
   ]
  },
  {
   "cell_type": "code",
   "execution_count": 70,
   "id": "be7a4746",
   "metadata": {
    "execution": {
     "iopub.execute_input": "2021-09-16T21:31:19.426125Z",
     "iopub.status.busy": "2021-09-16T21:31:19.425484Z",
     "iopub.status.idle": "2021-09-16T21:31:19.429335Z",
     "shell.execute_reply": "2021-09-16T21:31:19.429817Z"
    }
   },
   "outputs": [],
   "source": [
    "set??"
   ]
  },
  {
   "cell_type": "code",
   "execution_count": 71,
   "id": "38e22c0c",
   "metadata": {
    "execution": {
     "iopub.execute_input": "2021-09-16T21:31:19.435545Z",
     "iopub.status.busy": "2021-09-16T21:31:19.434419Z",
     "iopub.status.idle": "2021-09-16T21:31:19.437812Z",
     "shell.execute_reply": "2021-09-16T21:31:19.437317Z"
    }
   },
   "outputs": [
    {
     "data": {
      "text/plain": [
       "{1, 2, 3}"
      ]
     },
     "execution_count": 71,
     "metadata": {},
     "output_type": "execute_result"
    }
   ],
   "source": [
    "# Se definen como los diccionarios pero sin hacerlos 'clave:valor', solamente una seguidilla de elementos\n",
    "{1, 2, 2, 3}"
   ]
  },
  {
   "cell_type": "code",
   "execution_count": 72,
   "id": "1be0c317",
   "metadata": {
    "execution": {
     "iopub.execute_input": "2021-09-16T21:31:19.443499Z",
     "iopub.status.busy": "2021-09-16T21:31:19.442495Z",
     "iopub.status.idle": "2021-09-16T21:31:19.445195Z",
     "shell.execute_reply": "2021-09-16T21:31:19.445652Z"
    }
   },
   "outputs": [
    {
     "data": {
      "text/plain": [
       "{1, 2, 3}"
      ]
     },
     "execution_count": 72,
     "metadata": {},
     "output_type": "execute_result"
    }
   ],
   "source": [
    "set([1, 2, 2, 3])"
   ]
  },
  {
   "cell_type": "markdown",
   "id": "7d004dfb",
   "metadata": {},
   "source": [
    "## Condicionales (if...elif...else)\n",
    "\n",
    "```python\n",
    "if <condición_1>:\n",
    "    <hacer algo_1 si se da la condición_1>\n",
    "elif <condición_2>:\n",
    "    <hacer algo_2 si se da la condición_2>\n",
    "...\n",
    "elif <condición_n>:\n",
    "    <hacer algo_n si se da la condición_n>\n",
    "else:\n",
    "    <hacer otra cosa si no dan las anteriores>\n",
    "```\n",
    "\n",
    "Algo importante para notar es que los bloques se definen por **niveles de identacion**."
   ]
  },
  {
   "cell_type": "code",
   "execution_count": 73,
   "id": "e0a14688",
   "metadata": {
    "execution": {
     "iopub.execute_input": "2021-09-16T21:31:19.450349Z",
     "iopub.status.busy": "2021-09-16T21:31:19.449777Z",
     "iopub.status.idle": "2021-09-16T21:31:19.454346Z",
     "shell.execute_reply": "2021-09-16T21:31:19.453862Z"
    }
   },
   "outputs": [
    {
     "name": "stdout",
     "output_type": "stream",
     "text": [
      "uno\n"
     ]
    }
   ],
   "source": [
    "v = 1\n",
    "if v == 1:\n",
    "    print(\"uno\")\n",
    "elif v == 2:\n",
    "    print(\"dos\")\n",
    "else:\n",
    "    print(\"ni idea\")\n",
    "    print(v)"
   ]
  },
  {
   "cell_type": "markdown",
   "id": "947afb4b",
   "metadata": {},
   "source": [
    "## Iteraciones\n",
    "\n",
    "```python\n",
    "while cond:\n",
    "    <codigo>\n",
    "```\n",
    "\n",
    "```python\n",
    "for elemento in iterable:\n",
    "    <codigo>\n",
    "```\n",
    "\n",
    "Para iterar sobre un rango de valores, usamos `range`"
   ]
  },
  {
   "cell_type": "code",
   "execution_count": 74,
   "id": "2d496e98",
   "metadata": {
    "execution": {
     "iopub.execute_input": "2021-09-16T21:31:19.458687Z",
     "iopub.status.busy": "2021-09-16T21:31:19.458119Z",
     "iopub.status.idle": "2021-09-16T21:31:19.462479Z",
     "shell.execute_reply": "2021-09-16T21:31:19.461989Z"
    }
   },
   "outputs": [
    {
     "name": "stdout",
     "output_type": "stream",
     "text": [
      "1\n",
      "4\n",
      "7\n",
      "10\n"
     ]
    }
   ],
   "source": [
    "for i in range(1, 11, 3):\n",
    "    print(i)"
   ]
  },
  {
   "cell_type": "markdown",
   "id": "93d9701c",
   "metadata": {},
   "source": [
    "## Operadores logicos\n",
    "\n",
    "`not`, `or`, `and`"
   ]
  },
  {
   "cell_type": "code",
   "execution_count": 75,
   "id": "2163eb8b",
   "metadata": {
    "execution": {
     "iopub.execute_input": "2021-09-16T21:31:19.466623Z",
     "iopub.status.busy": "2021-09-16T21:31:19.465986Z",
     "iopub.status.idle": "2021-09-16T21:31:19.470620Z",
     "shell.execute_reply": "2021-09-16T21:31:19.470138Z"
    }
   },
   "outputs": [
    {
     "name": "stdout",
     "output_type": "stream",
     "text": [
      "yay\n"
     ]
    }
   ],
   "source": [
    "if True or False:\n",
    "    print(\"yay\")"
   ]
  },
  {
   "cell_type": "code",
   "execution_count": 76,
   "id": "89716cf5",
   "metadata": {
    "execution": {
     "iopub.execute_input": "2021-09-16T21:31:19.474652Z",
     "iopub.status.busy": "2021-09-16T21:31:19.474099Z",
     "iopub.status.idle": "2021-09-16T21:31:19.478081Z",
     "shell.execute_reply": "2021-09-16T21:31:19.478538Z"
    }
   },
   "outputs": [
    {
     "data": {
      "text/plain": [
       "False"
      ]
     },
     "execution_count": 76,
     "metadata": {},
     "output_type": "execute_result"
    }
   ],
   "source": [
    "1 == 2"
   ]
  },
  {
   "cell_type": "code",
   "execution_count": 77,
   "id": "19e6dc59",
   "metadata": {
    "execution": {
     "iopub.execute_input": "2021-09-16T21:31:19.482870Z",
     "iopub.status.busy": "2021-09-16T21:31:19.482351Z",
     "iopub.status.idle": "2021-09-16T21:31:19.489414Z",
     "shell.execute_reply": "2021-09-16T21:31:19.489877Z"
    }
   },
   "outputs": [
    {
     "data": {
      "text/plain": [
       "True"
      ]
     },
     "execution_count": 77,
     "metadata": {},
     "output_type": "execute_result"
    }
   ],
   "source": [
    "1 != 2"
   ]
  },
  {
   "cell_type": "markdown",
   "id": "8b751f0f",
   "metadata": {
    "slideshow": {
     "slide_type": "slide"
    }
   },
   "source": [
    "## Funciones en Python"
   ]
  },
  {
   "cell_type": "code",
   "execution_count": 78,
   "id": "d52467e2",
   "metadata": {
    "execution": {
     "iopub.execute_input": "2021-09-16T21:31:19.496871Z",
     "iopub.status.busy": "2021-09-16T21:31:19.496184Z",
     "iopub.status.idle": "2021-09-16T21:31:19.499941Z",
     "shell.execute_reply": "2021-09-16T21:31:19.499459Z"
    },
    "slideshow": {
     "slide_type": "slide"
    }
   },
   "outputs": [
    {
     "name": "stdout",
     "output_type": "stream",
     "text": [
      "True\n",
      "False\n"
     ]
    }
   ],
   "source": [
    "def busqueda_binaria(lista, elemento):\n",
    "    if not lista:\n",
    "        return False\n",
    "    elif len(lista) == 1:\n",
    "        return lista[0] == elemento\n",
    "    mitad = len(lista) // 2  # // es la operación división entera\n",
    "    if lista[mitad] == elemento:\n",
    "        return True\n",
    "    if lista[mitad] > elemento:\n",
    "        return busqueda_binaria(lista[:mitad], elemento)\n",
    "    if lista[mitad] < elemento:\n",
    "        return busqueda_binaria(lista[mitad:], elemento)\n",
    "\n",
    "\n",
    "print(busqueda_binaria([1, 2, 3, 4, 5], 4))\n",
    "print(busqueda_binaria([1, 4, 6, 7, 9, 10], 2))"
   ]
  },
  {
   "cell_type": "code",
   "execution_count": 79,
   "id": "bcc42629",
   "metadata": {
    "execution": {
     "iopub.execute_input": "2021-09-16T21:31:19.504596Z",
     "iopub.status.busy": "2021-09-16T21:31:19.504041Z",
     "iopub.status.idle": "2021-09-16T21:31:19.508013Z",
     "shell.execute_reply": "2021-09-16T21:31:19.507536Z"
    }
   },
   "outputs": [
    {
     "name": "stdout",
     "output_type": "stream",
     "text": [
      "(3, 3, 3)\n"
     ]
    }
   ],
   "source": [
    "def a(b):\n",
    "    if a == 1:\n",
    "        print(a)\n",
    "    return (b, b, b)\n",
    "\n",
    "\n",
    "print(a(3))"
   ]
  },
  {
   "cell_type": "code",
   "execution_count": 80,
   "id": "66b18d9c",
   "metadata": {
    "execution": {
     "iopub.execute_input": "2021-09-16T21:31:19.513954Z",
     "iopub.status.busy": "2021-09-16T21:31:19.512211Z",
     "iopub.status.idle": "2021-09-16T21:31:19.523360Z",
     "shell.execute_reply": "2021-09-16T21:31:19.523813Z"
    },
    "lines_to_next_cell": 2,
    "slideshow": {
     "slide_type": "slide"
    },
    "tags": [
     "raises-exception"
    ]
   },
   "outputs": [
    {
     "name": "stdout",
     "output_type": "stream",
     "text": [
      "3\n",
      "3.0\n",
      "3.0\n",
      "hola como te va\n",
      "[1, 2, 3, 4, 5]\n"
     ]
    },
    {
     "ename": "TypeError",
     "evalue": "can only concatenate str (not \"int\") to str",
     "output_type": "error",
     "traceback": [
      "\u001b[0;31m---------------------------------------------------------------------------\u001b[0m",
      "\u001b[0;31mTypeError\u001b[0m                                 Traceback (most recent call last)",
      "\u001b[0;32m/tmp/ipykernel_1955/1000948441.py\u001b[0m in \u001b[0;36m<module>\u001b[0;34m\u001b[0m\n\u001b[1;32m      8\u001b[0m \u001b[0mprint\u001b[0m\u001b[0;34m(\u001b[0m\u001b[0msuma\u001b[0m\u001b[0;34m(\u001b[0m\u001b[0;34m\"hola \"\u001b[0m\u001b[0;34m,\u001b[0m \u001b[0;34m\"como te va\"\u001b[0m\u001b[0;34m)\u001b[0m\u001b[0;34m)\u001b[0m\u001b[0;34m\u001b[0m\u001b[0;34m\u001b[0m\u001b[0m\n\u001b[1;32m      9\u001b[0m \u001b[0mprint\u001b[0m\u001b[0;34m(\u001b[0m\u001b[0msuma\u001b[0m\u001b[0;34m(\u001b[0m\u001b[0;34m[\u001b[0m\u001b[0;36m1\u001b[0m\u001b[0;34m,\u001b[0m \u001b[0;36m2\u001b[0m\u001b[0;34m,\u001b[0m \u001b[0;36m3\u001b[0m\u001b[0;34m]\u001b[0m\u001b[0;34m,\u001b[0m \u001b[0;34m[\u001b[0m\u001b[0;36m4\u001b[0m\u001b[0;34m,\u001b[0m \u001b[0;36m5\u001b[0m\u001b[0;34m]\u001b[0m\u001b[0;34m)\u001b[0m\u001b[0;34m)\u001b[0m\u001b[0;34m\u001b[0m\u001b[0;34m\u001b[0m\u001b[0m\n\u001b[0;32m---> 10\u001b[0;31m \u001b[0mprint\u001b[0m\u001b[0;34m(\u001b[0m\u001b[0msuma\u001b[0m\u001b[0;34m(\u001b[0m\u001b[0;34m\"1\"\u001b[0m\u001b[0;34m,\u001b[0m \u001b[0;36m3\u001b[0m\u001b[0;34m)\u001b[0m\u001b[0;34m)\u001b[0m  \u001b[0;31m# Falla\u001b[0m\u001b[0;34m\u001b[0m\u001b[0;34m\u001b[0m\u001b[0m\n\u001b[0m",
      "\u001b[0;32m/tmp/ipykernel_1955/1000948441.py\u001b[0m in \u001b[0;36msuma\u001b[0;34m(a, b)\u001b[0m\n\u001b[1;32m      1\u001b[0m \u001b[0;32mdef\u001b[0m \u001b[0msuma\u001b[0m\u001b[0;34m(\u001b[0m\u001b[0ma\u001b[0m\u001b[0;34m,\u001b[0m \u001b[0mb\u001b[0m\u001b[0;34m)\u001b[0m\u001b[0;34m:\u001b[0m\u001b[0;34m\u001b[0m\u001b[0;34m\u001b[0m\u001b[0m\n\u001b[0;32m----> 2\u001b[0;31m     \u001b[0;32mreturn\u001b[0m \u001b[0ma\u001b[0m \u001b[0;34m+\u001b[0m \u001b[0mb\u001b[0m\u001b[0;34m\u001b[0m\u001b[0;34m\u001b[0m\u001b[0m\n\u001b[0m\u001b[1;32m      3\u001b[0m \u001b[0;34m\u001b[0m\u001b[0m\n\u001b[1;32m      4\u001b[0m \u001b[0;34m\u001b[0m\u001b[0m\n\u001b[1;32m      5\u001b[0m \u001b[0mprint\u001b[0m\u001b[0;34m(\u001b[0m\u001b[0msuma\u001b[0m\u001b[0;34m(\u001b[0m\u001b[0;36m1\u001b[0m\u001b[0;34m,\u001b[0m \u001b[0;36m2\u001b[0m\u001b[0;34m)\u001b[0m\u001b[0;34m)\u001b[0m\u001b[0;34m\u001b[0m\u001b[0;34m\u001b[0m\u001b[0m\n",
      "\u001b[0;31mTypeError\u001b[0m: can only concatenate str (not \"int\") to str"
     ]
    }
   ],
   "source": [
    "def suma(a, b):\n",
    "    return a + b\n",
    "\n",
    "\n",
    "print(suma(1, 2))\n",
    "print(suma(1.0, 2.0))\n",
    "print(suma(1.0, 2))\n",
    "print(suma(\"hola \", \"como te va\"))\n",
    "print(suma([1, 2, 3], [4, 5]))\n",
    "print(suma(\"1\", 3))  # Falla"
   ]
  },
  {
   "cell_type": "code",
   "execution_count": 81,
   "id": "b58bc994",
   "metadata": {
    "execution": {
     "iopub.execute_input": "2021-09-16T21:31:19.528528Z",
     "iopub.status.busy": "2021-09-16T21:31:19.527959Z",
     "iopub.status.idle": "2021-09-16T21:31:19.532196Z",
     "shell.execute_reply": "2021-09-16T21:31:19.531746Z"
    }
   },
   "outputs": [
    {
     "name": "stdout",
     "output_type": "stream",
     "text": [
      "2.0\n"
     ]
    }
   ],
   "source": [
    "# El valor por default de divisor es 1\n",
    "\n",
    "\n",
    "def division(dividendo, divisor=2):\n",
    "    return dividendo / divisor\n",
    "\n",
    "\n",
    "print(division(4))  # Usa el valor por default"
   ]
  },
  {
   "cell_type": "code",
   "execution_count": 82,
   "id": "9f28a765",
   "metadata": {
    "execution": {
     "iopub.execute_input": "2021-09-16T21:31:19.539154Z",
     "iopub.status.busy": "2021-09-16T21:31:19.534288Z",
     "iopub.status.idle": "2021-09-16T21:31:19.544122Z",
     "shell.execute_reply": "2021-09-16T21:31:19.544588Z"
    },
    "tags": [
     "raises-exception"
    ]
   },
   "outputs": [
    {
     "name": "stdout",
     "output_type": "stream",
     "text": [
      "0.5\n",
      "0.5\n"
     ]
    },
    {
     "ename": "TypeError",
     "evalue": "division() missing 1 required positional argument: 'dividendo'",
     "output_type": "error",
     "traceback": [
      "\u001b[0;31m---------------------------------------------------------------------------\u001b[0m",
      "\u001b[0;31mTypeError\u001b[0m                                 Traceback (most recent call last)",
      "\u001b[0;32m/tmp/ipykernel_1955/1004518412.py\u001b[0m in \u001b[0;36m<module>\u001b[0;34m\u001b[0m\n\u001b[1;32m      1\u001b[0m \u001b[0mprint\u001b[0m\u001b[0;34m(\u001b[0m\u001b[0mdivision\u001b[0m\u001b[0;34m(\u001b[0m\u001b[0;36m1\u001b[0m\u001b[0;34m,\u001b[0m \u001b[0;36m2\u001b[0m\u001b[0;34m)\u001b[0m\u001b[0;34m)\u001b[0m  \u001b[0;31m# Parámetros por orden\u001b[0m\u001b[0;34m\u001b[0m\u001b[0;34m\u001b[0m\u001b[0m\n\u001b[1;32m      2\u001b[0m \u001b[0mprint\u001b[0m\u001b[0;34m(\u001b[0m\u001b[0mdivision\u001b[0m\u001b[0;34m(\u001b[0m\u001b[0mdividendo\u001b[0m\u001b[0;34m=\u001b[0m\u001b[0;36m1\u001b[0m\u001b[0;34m,\u001b[0m \u001b[0mdivisor\u001b[0m\u001b[0;34m=\u001b[0m\u001b[0;36m2\u001b[0m\u001b[0;34m)\u001b[0m\u001b[0;34m)\u001b[0m  \u001b[0;31m# Parámetros por nombre\u001b[0m\u001b[0;34m\u001b[0m\u001b[0;34m\u001b[0m\u001b[0m\n\u001b[0;32m----> 3\u001b[0;31m \u001b[0mprint\u001b[0m\u001b[0;34m(\u001b[0m\u001b[0mdivision\u001b[0m\u001b[0;34m(\u001b[0m\u001b[0mdivisor\u001b[0m\u001b[0;34m=\u001b[0m\u001b[0;36m2\u001b[0m\u001b[0;34m)\u001b[0m\u001b[0;34m)\u001b[0m\u001b[0;34m\u001b[0m\u001b[0;34m\u001b[0m\u001b[0m\n\u001b[0m",
      "\u001b[0;31mTypeError\u001b[0m: division() missing 1 required positional argument: 'dividendo'"
     ]
    }
   ],
   "source": [
    "print(division(1, 2))  # Parámetros por orden\n",
    "print(division(dividendo=1, divisor=2))  # Parámetros por nombre\n",
    "print(division(divisor=2))"
   ]
  },
  {
   "cell_type": "code",
   "execution_count": 83,
   "id": "f019ae53",
   "metadata": {
    "execution": {
     "iopub.execute_input": "2021-09-16T21:31:19.549769Z",
     "iopub.status.busy": "2021-09-16T21:31:19.548588Z",
     "iopub.status.idle": "2021-09-16T21:31:19.551464Z",
     "shell.execute_reply": "2021-09-16T21:31:19.550984Z"
    }
   },
   "outputs": [
    {
     "name": "stdout",
     "output_type": "stream",
     "text": [
      "0.5\n"
     ]
    }
   ],
   "source": [
    "print(division(divisor=2, dividendo=1))"
   ]
  },
  {
   "cell_type": "code",
   "execution_count": 84,
   "id": "84ce4a20",
   "metadata": {
    "execution": {
     "iopub.execute_input": "2021-09-16T21:31:19.556649Z",
     "iopub.status.busy": "2021-09-16T21:31:19.553550Z",
     "iopub.status.idle": "2021-09-16T21:31:19.558794Z",
     "shell.execute_reply": "2021-09-16T21:31:19.559256Z"
    }
   },
   "outputs": [
    {
     "name": "stdout",
     "output_type": "stream",
     "text": [
      "['a', 'b', 'c']\n",
      "[1, 2, 3]\n",
      "['hola', ' don', ' pepito']\n",
      "hola -  don -  pepito\n"
     ]
    }
   ],
   "source": [
    "# Funciones básicas ya en el lenguaje\n",
    "# Hechas para funcionar para distintos tipos\n",
    "\n",
    "string_ordenado = sorted('bca')\n",
    "print(string_ordenado)\n",
    "\n",
    "lista_ordenada = sorted([1, 3, 2])\n",
    "print(lista_ordenada)\n",
    "\n",
    "separadas = \"hola, don, pepito\".split(\",\")\n",
    "print(separadas)\n",
    "unidas = \" - \".join(separadas)\n",
    "print(unidas)"
   ]
  },
  {
   "cell_type": "markdown",
   "id": "6f0b4dd6",
   "metadata": {},
   "source": [
    "## Módulos\n",
    "\n",
    "Para incluir alguna biblioteca de funciones se usa `import`. Pueden ser cosas ya predefinidas en Python (`math`, `random`, etc), nombres de archivos en nuestro directorio (por ejemplo, para `mimodulo.py` ponemos `import mimodulo`) o bibliotecas instaladas por el usuario"
   ]
  },
  {
   "cell_type": "code",
   "execution_count": 85,
   "id": "85f624ad",
   "metadata": {
    "execution": {
     "iopub.execute_input": "2021-09-16T21:31:19.562667Z",
     "iopub.status.busy": "2021-09-16T21:31:19.561701Z",
     "iopub.status.idle": "2021-09-16T21:31:19.565595Z",
     "shell.execute_reply": "2021-09-16T21:31:19.565101Z"
    }
   },
   "outputs": [
    {
     "name": "stdout",
     "output_type": "stream",
     "text": [
      "3.141592653589793\n"
     ]
    }
   ],
   "source": [
    "import math\n",
    "\n",
    "print(math.pi)"
   ]
  },
  {
   "cell_type": "code",
   "execution_count": 86,
   "id": "efc5eb87",
   "metadata": {
    "execution": {
     "iopub.execute_input": "2021-09-16T21:31:19.570044Z",
     "iopub.status.busy": "2021-09-16T21:31:19.569493Z",
     "iopub.status.idle": "2021-09-16T21:31:19.571454Z",
     "shell.execute_reply": "2021-09-16T21:31:19.571870Z"
    }
   },
   "outputs": [
    {
     "name": "stdout",
     "output_type": "stream",
     "text": [
      "3.141592653589793 2.718281828459045\n"
     ]
    }
   ],
   "source": [
    "from math import pi, e\n",
    "\n",
    "print(pi, e)"
   ]
  },
  {
   "cell_type": "code",
   "execution_count": 87,
   "id": "9a1eda69",
   "metadata": {
    "execution": {
     "iopub.execute_input": "2021-09-16T21:31:19.576200Z",
     "iopub.status.busy": "2021-09-16T21:31:19.575547Z",
     "iopub.status.idle": "2021-09-16T21:31:19.578778Z",
     "shell.execute_reply": "2021-09-16T21:31:19.578290Z"
    }
   },
   "outputs": [
    {
     "data": {
      "text/plain": [
       "2"
      ]
     },
     "execution_count": 87,
     "metadata": {},
     "output_type": "execute_result"
    }
   ],
   "source": [
    "math.gcd(56, 78)"
   ]
  },
  {
   "cell_type": "markdown",
   "id": "9c808f22",
   "metadata": {},
   "source": [
    "## Manejo de excepciones\n",
    "\n",
    "Se pueden encapsular errores esperados en un bloque 'try/except' para evitar cortar el flujo del programa"
   ]
  },
  {
   "cell_type": "code",
   "execution_count": 88,
   "id": "45166f50",
   "metadata": {
    "execution": {
     "iopub.execute_input": "2021-09-16T21:31:19.587248Z",
     "iopub.status.busy": "2021-09-16T21:31:19.585766Z",
     "iopub.status.idle": "2021-09-16T21:31:19.589366Z",
     "shell.execute_reply": "2021-09-16T21:31:19.589877Z"
    },
    "tags": [
     "raises-exception"
    ]
   },
   "outputs": [
    {
     "ename": "ZeroDivisionError",
     "evalue": "division by zero",
     "output_type": "error",
     "traceback": [
      "\u001b[0;31m---------------------------------------------------------------------------\u001b[0m",
      "\u001b[0;31mZeroDivisionError\u001b[0m                         Traceback (most recent call last)",
      "\u001b[0;32m/tmp/ipykernel_1955/1165346582.py\u001b[0m in \u001b[0;36m<module>\u001b[0;34m\u001b[0m\n\u001b[0;32m----> 1\u001b[0;31m \u001b[0mdivision\u001b[0m\u001b[0;34m(\u001b[0m\u001b[0;36m1\u001b[0m\u001b[0;34m,\u001b[0m \u001b[0;36m0\u001b[0m\u001b[0;34m)\u001b[0m  \u001b[0;31m# No se puede dividir por cero\u001b[0m\u001b[0;34m\u001b[0m\u001b[0;34m\u001b[0m\u001b[0m\n\u001b[0m",
      "\u001b[0;32m/tmp/ipykernel_1955/2607187721.py\u001b[0m in \u001b[0;36mdivision\u001b[0;34m(dividendo, divisor)\u001b[0m\n\u001b[1;32m      3\u001b[0m \u001b[0;34m\u001b[0m\u001b[0m\n\u001b[1;32m      4\u001b[0m \u001b[0;32mdef\u001b[0m \u001b[0mdivision\u001b[0m\u001b[0;34m(\u001b[0m\u001b[0mdividendo\u001b[0m\u001b[0;34m,\u001b[0m \u001b[0mdivisor\u001b[0m\u001b[0;34m=\u001b[0m\u001b[0;36m2\u001b[0m\u001b[0;34m)\u001b[0m\u001b[0;34m:\u001b[0m\u001b[0;34m\u001b[0m\u001b[0;34m\u001b[0m\u001b[0m\n\u001b[0;32m----> 5\u001b[0;31m     \u001b[0;32mreturn\u001b[0m \u001b[0mdividendo\u001b[0m \u001b[0;34m/\u001b[0m \u001b[0mdivisor\u001b[0m\u001b[0;34m\u001b[0m\u001b[0;34m\u001b[0m\u001b[0m\n\u001b[0m\u001b[1;32m      6\u001b[0m \u001b[0;34m\u001b[0m\u001b[0m\n\u001b[1;32m      7\u001b[0m \u001b[0;34m\u001b[0m\u001b[0m\n",
      "\u001b[0;31mZeroDivisionError\u001b[0m: division by zero"
     ]
    }
   ],
   "source": [
    "division(1, 0)  # No se puede dividir por cero"
   ]
  },
  {
   "cell_type": "code",
   "execution_count": 89,
   "id": "9c9dfe87",
   "metadata": {
    "execution": {
     "iopub.execute_input": "2021-09-16T21:31:19.594257Z",
     "iopub.status.busy": "2021-09-16T21:31:19.593464Z",
     "iopub.status.idle": "2021-09-16T21:31:19.598398Z",
     "shell.execute_reply": "2021-09-16T21:31:19.597388Z"
    }
   },
   "outputs": [
    {
     "name": "stdout",
     "output_type": "stream",
     "text": [
      "No se puede dividir por cero, ojo! division by zero\n",
      "1\n"
     ]
    }
   ],
   "source": [
    "try:\n",
    "    division(1, 0)\n",
    "except (ZeroDivisionError, TypeError) as e:\n",
    "    print('No se puede dividir por cero, ojo!', e)\n",
    "finally:\n",
    "    print(1)"
   ]
  },
  {
   "cell_type": "markdown",
   "id": "e900c9c9",
   "metadata": {
    "slideshow": {
     "slide_type": "slide"
    }
   },
   "source": [
    "## Lectura y escritura de archivos"
   ]
  },
  {
   "cell_type": "code",
   "execution_count": 90,
   "id": "d7423c7f",
   "metadata": {
    "execution": {
     "iopub.execute_input": "2021-09-16T21:31:19.604077Z",
     "iopub.status.busy": "2021-09-16T21:31:19.603521Z",
     "iopub.status.idle": "2021-09-16T21:31:19.607740Z",
     "shell.execute_reply": "2021-09-16T21:31:19.607286Z"
    },
    "slideshow": {
     "slide_type": "slide"
    }
   },
   "outputs": [
    {
     "name": "stdout",
     "output_type": "stream",
     "text": [
      "<_io.TextIOWrapper name='archivo.csv' mode='w' encoding='UTF-8'>\n"
     ]
    }
   ],
   "source": [
    "import random\n",
    "\n",
    "with open(\n",
    "    'archivo.csv', 'w'\n",
    ") as archivo:  # Al usar esta sintaxis no es necesario hacer close\n",
    "    archivo.write(\"Alumno, nota\\n\")\n",
    "    # Tambien de forma similar al fprintf se puede hacer:\n",
    "    # print(\"Alumno, nota\\n\", file=archivo)\n",
    "    for i in range(0, 10):\n",
    "        archivo.write(f\"{i},{random.randrange(0,10)}\\n\")\n",
    "\n",
    "print(archivo)  # Comentario aclaratorio:\n",
    "# Las variables definidas en un determinado scope siguen existiendo por fuera del mismo.\n",
    "# Se debe tener cuidado con esto, ya que nada garantiza que por fuera el valor sea el esperado."
   ]
  },
  {
   "cell_type": "code",
   "execution_count": 91,
   "id": "fde319fe",
   "metadata": {
    "execution": {
     "iopub.execute_input": "2021-09-16T21:31:19.611621Z",
     "iopub.status.busy": "2021-09-16T21:31:19.611063Z",
     "iopub.status.idle": "2021-09-16T21:31:19.618229Z",
     "shell.execute_reply": "2021-09-16T21:31:19.617674Z"
    },
    "slideshow": {
     "slide_type": "slide"
    }
   },
   "outputs": [
    {
     "name": "stdout",
     "output_type": "stream",
     "text": [
      "Alumno, nota"
     ]
    },
    {
     "name": "stdout",
     "output_type": "stream",
     "text": [
      "\n",
      "0,6\n",
      "1,1\n",
      "2,9\n",
      "3,8\n",
      "4,1\n",
      "5,9\n",
      "6,9\n",
      "7,3\n",
      "8,4\n",
      "9,7\n"
     ]
    }
   ],
   "source": [
    "with open('archivo.csv', 'r') as f:\n",
    "    for linea in f:\n",
    "        print(linea.strip())"
   ]
  },
  {
   "cell_type": "code",
   "execution_count": 92,
   "id": "98207ddc",
   "metadata": {
    "execution": {
     "iopub.execute_input": "2021-09-16T21:31:19.622053Z",
     "iopub.status.busy": "2021-09-16T21:31:19.621527Z",
     "iopub.status.idle": "2021-09-16T21:31:19.625867Z",
     "shell.execute_reply": "2021-09-16T21:31:19.625413Z"
    }
   },
   "outputs": [
    {
     "name": "stdout",
     "output_type": "stream",
     "text": [
      "Alumno, nota\n",
      "0,6\n",
      "1,1\n",
      "2,9\n",
      "3,8\n",
      "4,1\n",
      "5,9\n",
      "6,9\n",
      "7,3\n",
      "8,4\n",
      "9,7\n",
      "\n"
     ]
    }
   ],
   "source": [
    "with open('archivo.csv', 'r') as f:\n",
    "    print(f.read())"
   ]
  },
  {
   "cell_type": "code",
   "execution_count": 93,
   "id": "07bdfa51",
   "metadata": {
    "execution": {
     "iopub.execute_input": "2021-09-16T21:31:19.629656Z",
     "iopub.status.busy": "2021-09-16T21:31:19.629096Z",
     "iopub.status.idle": "2021-09-16T21:31:19.633046Z",
     "shell.execute_reply": "2021-09-16T21:31:19.632579Z"
    }
   },
   "outputs": [],
   "source": [
    "f = open('archivo.csv', 'w')\n",
    "f.write(\"algo, algo\")\n",
    "f.close()"
   ]
  },
  {
   "cell_type": "markdown",
   "id": "b4e3eddf",
   "metadata": {
    "slideshow": {
     "slide_type": "slide"
    }
   },
   "source": [
    "## Objetos\n",
    "\n",
    "Los objetos tienen metodos y atributos:\n",
    "- Atributos: equivalentes a variables.\n",
    "- Métodos: equivalentes a las primitivas."
   ]
  },
  {
   "cell_type": "markdown",
   "id": "502c83a6",
   "metadata": {
    "slideshow": {
     "slide_type": "slide"
    }
   },
   "source": [
    "### Cómo creo una clase"
   ]
  },
  {
   "cell_type": "code",
   "execution_count": 94,
   "id": "6683ca59",
   "metadata": {
    "execution": {
     "iopub.execute_input": "2021-09-16T21:31:19.640258Z",
     "iopub.status.busy": "2021-09-16T21:31:19.639740Z",
     "iopub.status.idle": "2021-09-16T21:31:19.642171Z",
     "shell.execute_reply": "2021-09-16T21:31:19.642572Z"
    },
    "slideshow": {
     "slide_type": "slide"
    }
   },
   "outputs": [],
   "source": [
    "class Nodo(object):\n",
    "    def __init__(self, dato, siguiente=None):\n",
    "        self._dato = dato\n",
    "        self._siguiente = siguiente\n",
    "\n",
    "    @property\n",
    "    def dato(self):\n",
    "        return self._dato\n",
    "\n",
    "    @property\n",
    "    def proximo(self):\n",
    "        return self._siguiente\n",
    "\n",
    "    @proximo.setter\n",
    "    def proximo(self, siguiente):\n",
    "        self._siguiente = siguiente\n",
    "\n",
    "    def __repr__(self):\n",
    "        return str(self.dato)\n",
    "\n",
    "    def __str__(self):\n",
    "        return str(self.dato)"
   ]
  },
  {
   "cell_type": "code",
   "execution_count": 95,
   "id": "2969fd6b",
   "metadata": {
    "execution": {
     "iopub.execute_input": "2021-09-16T21:31:19.646567Z",
     "iopub.status.busy": "2021-09-16T21:31:19.646014Z",
     "iopub.status.idle": "2021-09-16T21:31:19.650455Z",
     "shell.execute_reply": "2021-09-16T21:31:19.649933Z"
    },
    "slideshow": {
     "slide_type": "slide"
    }
   },
   "outputs": [
    {
     "name": "stdout",
     "output_type": "stream",
     "text": [
      "hola\n"
     ]
    }
   ],
   "source": [
    "nodo = Nodo(\"hola\")\n",
    "print(nodo)"
   ]
  },
  {
   "cell_type": "code",
   "execution_count": 96,
   "id": "7e751aef",
   "metadata": {
    "execution": {
     "iopub.execute_input": "2021-09-16T21:31:19.654585Z",
     "iopub.status.busy": "2021-09-16T21:31:19.654068Z",
     "iopub.status.idle": "2021-09-16T21:31:19.657220Z",
     "shell.execute_reply": "2021-09-16T21:31:19.657628Z"
    },
    "slideshow": {
     "slide_type": "slide"
    }
   },
   "outputs": [
    {
     "name": "stdout",
     "output_type": "stream",
     "text": [
      "[hola, lala]\n"
     ]
    }
   ],
   "source": [
    "nodo2 = Nodo(\"lala\")\n",
    "print([nodo, nodo2])"
   ]
  },
  {
   "cell_type": "code",
   "execution_count": 97,
   "id": "2da64178",
   "metadata": {
    "execution": {
     "iopub.execute_input": "2021-09-16T21:31:19.661528Z",
     "iopub.status.busy": "2021-09-16T21:31:19.660939Z",
     "iopub.status.idle": "2021-09-16T21:31:19.664266Z",
     "shell.execute_reply": "2021-09-16T21:31:19.664694Z"
    },
    "slideshow": {
     "slide_type": "slide"
    }
   },
   "outputs": [
    {
     "name": "stdout",
     "output_type": "stream",
     "text": [
      "hola\n"
     ]
    }
   ],
   "source": [
    "nodo3 = nodo.dato\n",
    "print(nodo3)"
   ]
  },
  {
   "cell_type": "markdown",
   "id": "fde44034",
   "metadata": {
    "slideshow": {
     "slide_type": "slide"
    }
   },
   "source": [
    "### Ejemplo: Lista Enlazada"
   ]
  },
  {
   "cell_type": "code",
   "execution_count": 98,
   "id": "9842629d",
   "metadata": {
    "execution": {
     "iopub.execute_input": "2021-09-16T21:31:19.676807Z",
     "iopub.status.busy": "2021-09-16T21:31:19.669717Z",
     "iopub.status.idle": "2021-09-16T21:31:19.677951Z",
     "shell.execute_reply": "2021-09-16T21:31:19.678935Z"
    },
    "slideshow": {
     "slide_type": "slide"
    }
   },
   "outputs": [],
   "source": [
    "class ListaEnlazada(object):\n",
    "    def __init__(self):\n",
    "        self._primero = None\n",
    "        self._ultimo = None\n",
    "        self._largo = 0\n",
    "\n",
    "    def __len__(self):\n",
    "        return self._largo\n",
    "\n",
    "    def insertar_al_principio(self, dato):\n",
    "        nodo = Nodo(dato, self._primero)\n",
    "        self._primero = nodo\n",
    "        self._largo += 1\n",
    "        if self._largo == 1:\n",
    "            self._ultimo = nodo\n",
    "\n",
    "    def insertar_al_final(self, dato):\n",
    "        if self._largo != 0:\n",
    "            nodo = Nodo(dato)\n",
    "            nodo_anterior = self._ultimo\n",
    "            nodo_anterior._siguiente = nodo\n",
    "            self._ultimo = nodo\n",
    "            self._largo += 1\n",
    "        else:\n",
    "            self.insertar_al_principio(dato)\n",
    "\n",
    "    @property\n",
    "    def primero(self):\n",
    "        return self._primero.dato\n",
    "\n",
    "    def borrar_primero(self):\n",
    "        dato = self.primero.dato\n",
    "        self._primero = self.primero.siguiente\n",
    "        self._largo -= 1\n",
    "        if self._largo == 0:\n",
    "            self._ultimo = None\n",
    "        return dato\n",
    "\n",
    "    def __str__(self):\n",
    "        datos = []\n",
    "        nodo_actual = self._primero\n",
    "        while nodo_actual:\n",
    "            datos.append(nodo_actual.dato)\n",
    "            nodo_actual = nodo_actual.proximo\n",
    "        return \" -> \".join(datos)\n",
    "\n",
    "    def __repr__(self):\n",
    "        return self.__str__()"
   ]
  },
  {
   "cell_type": "code",
   "execution_count": 99,
   "id": "c0e05b31",
   "metadata": {
    "execution": {
     "iopub.execute_input": "2021-09-16T21:31:19.684632Z",
     "iopub.status.busy": "2021-09-16T21:31:19.683511Z",
     "iopub.status.idle": "2021-09-16T21:31:19.686768Z",
     "shell.execute_reply": "2021-09-16T21:31:19.687185Z"
    },
    "slideshow": {
     "slide_type": "slide"
    }
   },
   "outputs": [
    {
     "data": {
      "text/plain": [
       "2"
      ]
     },
     "execution_count": 99,
     "metadata": {},
     "output_type": "execute_result"
    }
   ],
   "source": [
    "lista = ListaEnlazada()\n",
    "lista.insertar_al_principio(\"Primer Dato\")\n",
    "lista.insertar_al_principio(\"Primer primer Dato\")\n",
    "len(lista)"
   ]
  },
  {
   "cell_type": "code",
   "execution_count": 100,
   "id": "b1491e57",
   "metadata": {
    "execution": {
     "iopub.execute_input": "2021-09-16T21:31:19.692548Z",
     "iopub.status.busy": "2021-09-16T21:31:19.691514Z",
     "iopub.status.idle": "2021-09-16T21:31:19.694643Z",
     "shell.execute_reply": "2021-09-16T21:31:19.694207Z"
    }
   },
   "outputs": [
    {
     "data": {
      "text/plain": [
       "Primer primer Dato -> Primer Dato"
      ]
     },
     "execution_count": 100,
     "metadata": {},
     "output_type": "execute_result"
    }
   ],
   "source": [
    "lista"
   ]
  },
  {
   "cell_type": "code",
   "execution_count": 101,
   "id": "bc55f285",
   "metadata": {
    "execution": {
     "iopub.execute_input": "2021-09-16T21:31:19.699650Z",
     "iopub.status.busy": "2021-09-16T21:31:19.698261Z",
     "iopub.status.idle": "2021-09-16T21:31:19.701502Z",
     "shell.execute_reply": "2021-09-16T21:31:19.700987Z"
    },
    "slideshow": {
     "slide_type": "slide"
    }
   },
   "outputs": [
    {
     "name": "stdout",
     "output_type": "stream",
     "text": [
      "Primer primer Dato\n"
     ]
    }
   ],
   "source": [
    "elemento = lista.primero\n",
    "print(elemento)"
   ]
  },
  {
   "cell_type": "markdown",
   "id": "b1351be3",
   "metadata": {},
   "source": [
    "## Recursos\n",
    "\n",
    "* [Taller de Python de Algoritmos II](https://github.com/algoritmos-rw/algo2_apuntes)\n",
    "\n",
    "* [Documentación de Python 3](https://docs.python.org/3/tutorial/)\n",
    "\n",
    "* [Apunte de Algoritmos y Programación I](https://algoritmos1rw.ddns.net/material)\n",
    "\n",
    "* [Automate the Boring Stuff with Python](http://automatetheboringstuff.com/)\n",
    "\n",
    "* [Curso Python](https://pythoncurso.github.io)\n",
    "\n",
    "* [Python Tutor](http://pythontutor.com/)\n",
    "\n",
    "* [Learn Python3 in Y minutes](https://learnxinyminutes.com/docs/python3/)\n",
    "\n",
    "* [Bibliografía de Algoritmos y Programación I](https://algoritmos1rw.ddns.net/bibliografia)"
   ]
  }
 ],
 "metadata": {
  "jupytext": {
   "encoding": "# -*- coding: utf-8 -*-",
   "formats": "ipynb,py:light"
  },
  "kernelspec": {
   "display_name": "Python 3 (venv)",
   "language": "python",
   "name": "python3"
  },
  "language_info": {
   "codemirror_mode": {
    "name": "ipython",
    "version": 3
   },
   "file_extension": ".py",
   "mimetype": "text/x-python",
   "name": "python",
   "nbconvert_exporter": "python",
   "pygments_lexer": "ipython3",
   "version": "3.7.12"
  }
 },
 "nbformat": 4,
 "nbformat_minor": 5
}
