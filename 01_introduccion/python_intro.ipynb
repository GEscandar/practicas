{
 "cells": [
  {
   "cell_type": "markdown",
   "id": "automotive-tuner",
   "metadata": {},
   "source": [
    "# Python"
   ]
  },
  {
   "cell_type": "markdown",
   "id": "periodic-surge",
   "metadata": {
    "slideshow": {
     "slide_type": "slide"
    }
   },
   "source": [
    "## Un poco de Historia"
   ]
  },
  {
   "cell_type": "markdown",
   "id": "finnish-gather",
   "metadata": {
    "slideshow": {
     "slide_type": "subslide"
    }
   },
   "source": [
    "Python fue creado a finales de los años 80 por un programador holandés llamado **Guido van Rossum**,\n",
    "quien sigue siendo aún hoy el líder del desarrollo del lenguaje.\n",
    "\n",
    "(Edit julio 2018: [ya no más](https://www.mail-archive.com/python-committers@python.org/msg05628.html))"
   ]
  },
  {
   "cell_type": "markdown",
   "id": "senior-mirror",
   "metadata": {
    "slideshow": {
     "slide_type": "subslide"
    }
   },
   "source": [
    "El nombre del lenguaje proviene de los humoristas británicos Monty Python.\n",
    "\n",
    ">*\"I chose Python as a working title for the project, being in a slightly irreverent mood (and a big fan of Monty Python's Flying Circus).\"*"
   ]
  },
  {
   "cell_type": "markdown",
   "id": "fluid-dimension",
   "metadata": {
    "slideshow": {
     "slide_type": "slide"
    }
   },
   "source": [
    "## Caracteristicas\n",
    "\n",
    "- Interpretado\n",
    "- Tipado dinamico\n",
    "- Multiparadigma\n",
    "- Alto nivel\n",
    "- Tiene un recolector de basura (no hay malloc, free, realloc, etc)"
   ]
  },
  {
   "cell_type": "markdown",
   "id": "interested-albert",
   "metadata": {},
   "source": [
    "## ¿Cómo empezar?\n",
    "\n",
    "* Al ser un lenguaje *interpretado*, se puede ir escribiendo a medida que se ejecuta, sin necesidad de compilar de antemano! Solamente hace falta escribir `python` o `python3` en una terminal para empezar\n",
    "\n",
    "* También, permite escribir archivos y correrlos. Crear un archivo con extensión `.py` y luego correr `python miarchivo.py` en laterminal"
   ]
  },
  {
   "cell_type": "markdown",
   "id": "diverse-intelligence",
   "metadata": {
    "slideshow": {
     "slide_type": "slide"
    }
   },
   "source": [
    "## El Zen de Python"
   ]
  },
  {
   "cell_type": "code",
   "execution_count": 1,
   "id": "other-relative",
   "metadata": {
    "execution": {
     "iopub.execute_input": "2021-01-22T01:11:43.570785Z",
     "iopub.status.busy": "2021-01-22T01:11:43.570321Z",
     "iopub.status.idle": "2021-01-22T01:11:43.602985Z",
     "shell.execute_reply": "2021-01-22T01:11:43.602436Z"
    },
    "slideshow": {
     "slide_type": "slide"
    }
   },
   "outputs": [
    {
     "name": "stdout",
     "output_type": "stream",
     "text": [
      "The Zen of Python, by Tim Peters\n",
      "\n",
      "Beautiful is better than ugly.\n",
      "Explicit is better than implicit.\n",
      "Simple is better than complex.\n",
      "Complex is better than complicated.\n",
      "Flat is better than nested.\n",
      "Sparse is better than dense.\n",
      "Readability counts.\n",
      "Special cases aren't special enough to break the rules.\n",
      "Although practicality beats purity.\n",
      "Errors should never pass silently.\n",
      "Unless explicitly silenced.\n",
      "In the face of ambiguity, refuse the temptation to guess.\n",
      "There should be one-- and preferably only one --obvious way to do it.\n",
      "Although that way may not be obvious at first unless you're Dutch.\n",
      "Now is better than never.\n",
      "Although never is often better than *right* now.\n",
      "If the implementation is hard to explain, it's a bad idea.\n",
      "If the implementation is easy to explain, it may be a good idea.\n",
      "Namespaces are one honking great idea -- let's do more of those!\n"
     ]
    }
   ],
   "source": [
    "import this"
   ]
  },
  {
   "cell_type": "markdown",
   "id": "plain-excess",
   "metadata": {
    "slideshow": {
     "slide_type": "slide"
    }
   },
   "source": [
    "## Conocimientos Básicos de Python: Variables y Tipos"
   ]
  },
  {
   "cell_type": "code",
   "execution_count": 2,
   "id": "korean-samba",
   "metadata": {
    "execution": {
     "iopub.execute_input": "2021-01-22T01:11:43.607776Z",
     "iopub.status.busy": "2021-01-22T01:11:43.606541Z",
     "iopub.status.idle": "2021-01-22T01:11:43.609462Z",
     "shell.execute_reply": "2021-01-22T01:11:43.609048Z"
    },
    "slideshow": {
     "slide_type": "slide"
    }
   },
   "outputs": [
    {
     "name": "stdout",
     "output_type": "stream",
     "text": [
      "Hello World!\n"
     ]
    }
   ],
   "source": [
    "# Este es un comentario\n",
    "\n",
    "print(\"Hello World!\")"
   ]
  },
  {
   "cell_type": "markdown",
   "id": "hungry-rebel",
   "metadata": {},
   "source": [
    "Los strings en python puden escribirse tanto con comillas simples (`'`) como comillas dobles (`\"`). Normalmente vemos texto entre comillas triples para escribir _docstrings_, segun la guia de estilo de Python, el PEP8."
   ]
  },
  {
   "cell_type": "code",
   "execution_count": 3,
   "id": "advisory-clear",
   "metadata": {
    "execution": {
     "iopub.execute_input": "2021-01-22T01:11:43.618596Z",
     "iopub.status.busy": "2021-01-22T01:11:43.618101Z",
     "iopub.status.idle": "2021-01-22T01:11:43.620538Z",
     "shell.execute_reply": "2021-01-22T01:11:43.620927Z"
    }
   },
   "outputs": [
    {
     "data": {
      "text/plain": [
       "'Esto es un docstring.\\n'"
      ]
     },
     "execution_count": 1,
     "metadata": {},
     "output_type": "execute_result"
    }
   ],
   "source": [
    "\"\"\"Esto es un docstring.\n",
    "\"\"\""
   ]
  },
  {
   "cell_type": "markdown",
   "id": "universal-society",
   "metadata": {},
   "source": [
    "### Declaracion de variables"
   ]
  },
  {
   "cell_type": "code",
   "execution_count": 4,
   "id": "hawaiian-moses",
   "metadata": {
    "execution": {
     "iopub.execute_input": "2021-01-22T01:11:43.625167Z",
     "iopub.status.busy": "2021-01-22T01:11:43.624097Z",
     "iopub.status.idle": "2021-01-22T01:11:43.626734Z",
     "shell.execute_reply": "2021-01-22T01:11:43.626318Z"
    }
   },
   "outputs": [
    {
     "name": "stdout",
     "output_type": "stream",
     "text": [
      "Hola\n"
     ]
    }
   ],
   "source": [
    "string = 'Hola'\n",
    "print(string)"
   ]
  },
  {
   "cell_type": "code",
   "execution_count": 5,
   "id": "polish-heater",
   "metadata": {
    "execution": {
     "iopub.execute_input": "2021-01-22T01:11:43.630876Z",
     "iopub.status.busy": "2021-01-22T01:11:43.629804Z",
     "iopub.status.idle": "2021-01-22T01:11:43.632531Z",
     "shell.execute_reply": "2021-01-22T01:11:43.632118Z"
    }
   },
   "outputs": [
    {
     "name": "stdout",
     "output_type": "stream",
     "text": [
      "1\n"
     ]
    }
   ],
   "source": [
    "entero = 1\n",
    "print(entero)"
   ]
  },
  {
   "cell_type": "code",
   "execution_count": 6,
   "id": "liable-participation",
   "metadata": {
    "execution": {
     "iopub.execute_input": "2021-01-22T01:11:43.636636Z",
     "iopub.status.busy": "2021-01-22T01:11:43.635645Z",
     "iopub.status.idle": "2021-01-22T01:11:43.638269Z",
     "shell.execute_reply": "2021-01-22T01:11:43.637857Z"
    }
   },
   "outputs": [
    {
     "name": "stdout",
     "output_type": "stream",
     "text": [
      "1.0\n"
     ]
    }
   ],
   "source": [
    "flotante = 1.0\n",
    "print(flotante)"
   ]
  },
  {
   "cell_type": "code",
   "execution_count": 7,
   "id": "gross-speed",
   "metadata": {
    "execution": {
     "iopub.execute_input": "2021-01-22T01:11:43.641500Z",
     "iopub.status.busy": "2021-01-22T01:11:43.641029Z",
     "iopub.status.idle": "2021-01-22T01:11:43.642846Z",
     "shell.execute_reply": "2021-01-22T01:11:43.643255Z"
    }
   },
   "outputs": [
    {
     "name": "stdout",
     "output_type": "stream",
     "text": [
      "(1, 1.0)\n"
     ]
    }
   ],
   "source": [
    "tupla = (entero, flotante)\n",
    "print(tupla)"
   ]
  },
  {
   "cell_type": "code",
   "execution_count": 8,
   "id": "concrete-mailman",
   "metadata": {
    "execution": {
     "iopub.execute_input": "2021-01-22T01:11:43.646508Z",
     "iopub.status.busy": "2021-01-22T01:11:43.646021Z",
     "iopub.status.idle": "2021-01-22T01:11:43.647684Z",
     "shell.execute_reply": "2021-01-22T01:11:43.648144Z"
    }
   },
   "outputs": [
    {
     "name": "stdout",
     "output_type": "stream",
     "text": [
      "(1, 1.0, 'Hola')\n"
     ]
    }
   ],
   "source": [
    "nupla = (entero, flotante, string)\n",
    "print(nupla)"
   ]
  },
  {
   "cell_type": "code",
   "execution_count": 9,
   "id": "abroad-compact",
   "metadata": {
    "execution": {
     "iopub.execute_input": "2021-01-22T01:11:43.651327Z",
     "iopub.status.busy": "2021-01-22T01:11:43.650834Z",
     "iopub.status.idle": "2021-01-22T01:11:43.652424Z",
     "shell.execute_reply": "2021-01-22T01:11:43.652875Z"
    }
   },
   "outputs": [
    {
     "name": "stdout",
     "output_type": "stream",
     "text": [
      "[1, 1.0, 'Hola']\n"
     ]
    }
   ],
   "source": [
    "lista = [entero, flotante, string]\n",
    "print(lista)"
   ]
  },
  {
   "cell_type": "code",
   "execution_count": 10,
   "id": "suited-amber",
   "metadata": {
    "execution": {
     "iopub.execute_input": "2021-01-22T01:11:43.656200Z",
     "iopub.status.busy": "2021-01-22T01:11:43.655718Z",
     "iopub.status.idle": "2021-01-22T01:11:43.657293Z",
     "shell.execute_reply": "2021-01-22T01:11:43.657738Z"
    }
   },
   "outputs": [
    {
     "name": "stdout",
     "output_type": "stream",
     "text": [
      "{'1': (1, 1.0), 50: (1, 1.0, 'Hola'), '3': 1}\n"
     ]
    }
   ],
   "source": [
    "diccionario = {'1': tupla, 50: nupla, '3': entero}\n",
    "print(diccionario)"
   ]
  },
  {
   "cell_type": "code",
   "execution_count": 11,
   "id": "complimentary-handbook",
   "metadata": {
    "execution": {
     "iopub.execute_input": "2021-01-22T01:11:43.661264Z",
     "iopub.status.busy": "2021-01-22T01:11:43.660788Z",
     "iopub.status.idle": "2021-01-22T01:11:43.662369Z",
     "shell.execute_reply": "2021-01-22T01:11:43.662751Z"
    }
   },
   "outputs": [
    {
     "name": "stdout",
     "output_type": "stream",
     "text": [
      "{1, 2}\n"
     ]
    }
   ],
   "source": [
    "conjunto = set([1, 2])\n",
    "print(conjunto)"
   ]
  },
  {
   "cell_type": "code",
   "execution_count": 12,
   "id": "included-victor",
   "metadata": {
    "execution": {
     "iopub.execute_input": "2021-01-22T01:11:43.665924Z",
     "iopub.status.busy": "2021-01-22T01:11:43.665454Z",
     "iopub.status.idle": "2021-01-22T01:11:43.667028Z",
     "shell.execute_reply": "2021-01-22T01:11:43.667517Z"
    }
   },
   "outputs": [
    {
     "name": "stdout",
     "output_type": "stream",
     "text": [
      "True\n"
     ]
    }
   ],
   "source": [
    "booleano = True\n",
    "print(booleano)"
   ]
  },
  {
   "cell_type": "code",
   "execution_count": 13,
   "id": "generous-label",
   "metadata": {
    "execution": {
     "iopub.execute_input": "2021-01-22T01:11:43.670554Z",
     "iopub.status.busy": "2021-01-22T01:11:43.670084Z",
     "iopub.status.idle": "2021-01-22T01:11:43.671680Z",
     "shell.execute_reply": "2021-01-22T01:11:43.672139Z"
    }
   },
   "outputs": [
    {
     "name": "stdout",
     "output_type": "stream",
     "text": [
      "None\n"
     ]
    }
   ],
   "source": [
    "nada = None\n",
    "print(nada)"
   ]
  },
  {
   "cell_type": "markdown",
   "id": "motivated-paper",
   "metadata": {},
   "source": [
    "Ojo que las variables pueden cambiar de tipo!"
   ]
  },
  {
   "cell_type": "code",
   "execution_count": 14,
   "id": "adjacent-spray",
   "metadata": {
    "execution": {
     "iopub.execute_input": "2021-01-22T01:11:43.675404Z",
     "iopub.status.busy": "2021-01-22T01:11:43.674904Z",
     "iopub.status.idle": "2021-01-22T01:11:43.676545Z",
     "shell.execute_reply": "2021-01-22T01:11:43.677006Z"
    }
   },
   "outputs": [
    {
     "name": "stdout",
     "output_type": "stream",
     "text": [
      "1\n",
      "<class 'int'>\n"
     ]
    }
   ],
   "source": [
    "elemento = 1\n",
    "print(elemento)\n",
    "print(type(elemento))"
   ]
  },
  {
   "cell_type": "code",
   "execution_count": 15,
   "id": "latter-default",
   "metadata": {
    "execution": {
     "iopub.execute_input": "2021-01-22T01:11:43.680400Z",
     "iopub.status.busy": "2021-01-22T01:11:43.679905Z",
     "iopub.status.idle": "2021-01-22T01:11:43.681965Z",
     "shell.execute_reply": "2021-01-22T01:11:43.681530Z"
    }
   },
   "outputs": [
    {
     "name": "stdout",
     "output_type": "stream",
     "text": [
      "1\n",
      "<class 'str'>\n"
     ]
    }
   ],
   "source": [
    "elemento = str(1)\n",
    "print(elemento)\n",
    "print(type(elemento))"
   ]
  },
  {
   "cell_type": "code",
   "execution_count": 16,
   "id": "functioning-sweden",
   "metadata": {
    "execution": {
     "iopub.execute_input": "2021-01-22T01:11:43.685170Z",
     "iopub.status.busy": "2021-01-22T01:11:43.684696Z",
     "iopub.status.idle": "2021-01-22T01:11:43.686737Z",
     "shell.execute_reply": "2021-01-22T01:11:43.686271Z"
    }
   },
   "outputs": [
    {
     "name": "stdout",
     "output_type": "stream",
     "text": [
      "[2]\n",
      "<class 'list'>\n"
     ]
    }
   ],
   "source": [
    "elemento = [2]\n",
    "\n",
    "print(elemento)\n",
    "print(type(elemento))"
   ]
  },
  {
   "cell_type": "markdown",
   "id": "according-conditions",
   "metadata": {},
   "source": [
    "### Tipos basicos"
   ]
  },
  {
   "cell_type": "markdown",
   "id": "acknowledged-circuit",
   "metadata": {
    "slideshow": {
     "slide_type": "slide"
    }
   },
   "source": [
    "#### Listas de Python"
   ]
  },
  {
   "cell_type": "code",
   "execution_count": 17,
   "id": "wired-thinking",
   "metadata": {
    "execution": {
     "iopub.execute_input": "2021-01-22T01:11:43.689865Z",
     "iopub.status.busy": "2021-01-22T01:11:43.689391Z",
     "iopub.status.idle": "2021-01-22T01:11:43.691913Z",
     "shell.execute_reply": "2021-01-22T01:11:43.691498Z"
    }
   },
   "outputs": [
    {
     "data": {
      "text/plain": [
       "[]"
      ]
     },
     "execution_count": 1,
     "metadata": {},
     "output_type": "execute_result"
    }
   ],
   "source": [
    "lista = list()\n",
    "lista"
   ]
  },
  {
   "cell_type": "code",
   "execution_count": 18,
   "id": "military-reconstruction",
   "metadata": {
    "execution": {
     "iopub.execute_input": "2021-01-22T01:11:43.694897Z",
     "iopub.status.busy": "2021-01-22T01:11:43.694429Z",
     "iopub.status.idle": "2021-01-22T01:11:43.696555Z",
     "shell.execute_reply": "2021-01-22T01:11:43.696917Z"
    },
    "slideshow": {
     "slide_type": "slide"
    }
   },
   "outputs": [
    {
     "data": {
      "text/plain": [
       "[]"
      ]
     },
     "execution_count": 1,
     "metadata": {},
     "output_type": "execute_result"
    }
   ],
   "source": [
    "lista = []\n",
    "lista"
   ]
  },
  {
   "cell_type": "code",
   "execution_count": 19,
   "id": "together-england",
   "metadata": {
    "execution": {
     "iopub.execute_input": "2021-01-22T01:11:43.700124Z",
     "iopub.status.busy": "2021-01-22T01:11:43.699629Z",
     "iopub.status.idle": "2021-01-22T01:11:43.701748Z",
     "shell.execute_reply": "2021-01-22T01:11:43.702111Z"
    },
    "slideshow": {
     "slide_type": "slide"
    }
   },
   "outputs": [
    {
     "data": {
      "text/plain": [
       "[1, 2, 3, 4]"
      ]
     },
     "execution_count": 1,
     "metadata": {},
     "output_type": "execute_result"
    }
   ],
   "source": [
    "lista = [1, 2, 3, 4]\n",
    "lista"
   ]
  },
  {
   "cell_type": "code",
   "execution_count": 20,
   "id": "voluntary-purple",
   "metadata": {
    "execution": {
     "iopub.execute_input": "2021-01-22T01:11:43.705618Z",
     "iopub.status.busy": "2021-01-22T01:11:43.705146Z",
     "iopub.status.idle": "2021-01-22T01:11:43.707285Z",
     "shell.execute_reply": "2021-01-22T01:11:43.707654Z"
    },
    "slideshow": {
     "slide_type": "slide"
    }
   },
   "outputs": [
    {
     "data": {
      "text/plain": [
       "[1, 2, 3, 4, 1, 'dos', 3.0]"
      ]
     },
     "execution_count": 1,
     "metadata": {},
     "output_type": "execute_result"
    }
   ],
   "source": [
    "lista.append(1)  # Inserto un 1 al final\n",
    "lista.append(\"dos\")  # Inserto un \"dos\" al final\n",
    "lista.append(3.0)  # Inserto un 3.0 al final\n",
    "lista"
   ]
  },
  {
   "cell_type": "code",
   "execution_count": 21,
   "id": "palestinian-wiring",
   "metadata": {
    "execution": {
     "iopub.execute_input": "2021-01-22T01:11:43.710765Z",
     "iopub.status.busy": "2021-01-22T01:11:43.710275Z",
     "iopub.status.idle": "2021-01-22T01:11:43.712323Z",
     "shell.execute_reply": "2021-01-22T01:11:43.711918Z"
    }
   },
   "outputs": [
    {
     "name": "stdout",
     "output_type": "stream",
     "text": [
      "[1, 2, 10, 3, 4, 1, 'dos', 3.0]\n"
     ]
    }
   ],
   "source": [
    "lista.insert(2, 10)  # Inserto en posicion 2 un 10\n",
    "print(lista)"
   ]
  },
  {
   "cell_type": "code",
   "execution_count": 22,
   "id": "sticky-ideal",
   "metadata": {
    "execution": {
     "iopub.execute_input": "2021-01-22T01:11:43.715365Z",
     "iopub.status.busy": "2021-01-22T01:11:43.714873Z",
     "iopub.status.idle": "2021-01-22T01:11:43.716979Z",
     "shell.execute_reply": "2021-01-22T01:11:43.717370Z"
    }
   },
   "outputs": [
    {
     "data": {
      "text/plain": [
       "8"
      ]
     },
     "execution_count": 1,
     "metadata": {},
     "output_type": "execute_result"
    }
   ],
   "source": [
    "len(lista)"
   ]
  },
  {
   "cell_type": "code",
   "execution_count": 23,
   "id": "adverse-questionnaire",
   "metadata": {
    "execution": {
     "iopub.execute_input": "2021-01-22T01:11:43.720308Z",
     "iopub.status.busy": "2021-01-22T01:11:43.719834Z",
     "iopub.status.idle": "2021-01-22T01:11:43.722603Z",
     "shell.execute_reply": "2021-01-22T01:11:43.722181Z"
    }
   },
   "outputs": [
    {
     "data": {
      "text/plain": [
       "3.0"
      ]
     },
     "execution_count": 1,
     "metadata": {},
     "output_type": "execute_result"
    }
   ],
   "source": [
    "lista.pop()"
   ]
  },
  {
   "cell_type": "code",
   "execution_count": 24,
   "id": "center-issue",
   "metadata": {
    "execution": {
     "iopub.execute_input": "2021-01-22T01:11:43.725671Z",
     "iopub.status.busy": "2021-01-22T01:11:43.725204Z",
     "iopub.status.idle": "2021-01-22T01:11:43.727343Z",
     "shell.execute_reply": "2021-01-22T01:11:43.727711Z"
    }
   },
   "outputs": [
    {
     "data": {
      "text/plain": [
       "[1, 2, 10, 3, 4, 1, 'dos']"
      ]
     },
     "execution_count": 1,
     "metadata": {},
     "output_type": "execute_result"
    }
   ],
   "source": [
    "lista"
   ]
  },
  {
   "cell_type": "code",
   "execution_count": 25,
   "id": "capital-following",
   "metadata": {
    "execution": {
     "iopub.execute_input": "2021-01-22T01:11:43.730640Z",
     "iopub.status.busy": "2021-01-22T01:11:43.730174Z",
     "iopub.status.idle": "2021-01-22T01:11:43.732665Z",
     "shell.execute_reply": "2021-01-22T01:11:43.732181Z"
    }
   },
   "outputs": [
    {
     "data": {
      "text/plain": [
       "2"
      ]
     },
     "execution_count": 1,
     "metadata": {},
     "output_type": "execute_result"
    }
   ],
   "source": [
    "lista.index(10)"
   ]
  },
  {
   "cell_type": "code",
   "execution_count": 26,
   "id": "ultimate-company",
   "metadata": {
    "execution": {
     "iopub.execute_input": "2021-01-22T01:11:43.735824Z",
     "iopub.status.busy": "2021-01-22T01:11:43.735351Z",
     "iopub.status.idle": "2021-01-22T01:11:43.737471Z",
     "shell.execute_reply": "2021-01-22T01:11:43.737864Z"
    }
   },
   "outputs": [
    {
     "data": {
      "text/plain": [
       "[1, 2, 3, 4, 1, 'dos']"
      ]
     },
     "execution_count": 1,
     "metadata": {},
     "output_type": "execute_result"
    }
   ],
   "source": [
    "lista.remove(10)\n",
    "lista"
   ]
  },
  {
   "cell_type": "code",
   "execution_count": 27,
   "id": "twelve-mandate",
   "metadata": {
    "execution": {
     "iopub.execute_input": "2021-01-22T01:11:43.748703Z",
     "iopub.status.busy": "2021-01-22T01:11:43.740337Z",
     "iopub.status.idle": "2021-01-22T01:11:43.790470Z",
     "shell.execute_reply": "2021-01-22T01:11:43.789961Z"
    },
    "tags": [
     "raises-exception"
    ]
   },
   "outputs": [
    {
     "name": "stdout",
     "output_type": "stream",
     "text": [
      "1\n",
      "2\n",
      "2\n",
      "3\n",
      "3\n",
      "4\n",
      "4\n",
      "5\n",
      "1\n",
      "2\n",
      "dos\n"
     ]
    },
    {
     "ename": "TypeError",
     "evalue": "can only concatenate str (not \"int\") to str",
     "output_type": "error",
     "traceback": [
      "\u001b[0;31m---------------------------------------------------------------------------\u001b[0m",
      "\u001b[0;31mTypeError\u001b[0m                                 Traceback (most recent call last)",
      "\u001b[0;32m<ipython-input-1-41b56d5cf080>\u001b[0m in \u001b[0;36m<module>\u001b[0;34m\u001b[0m\n\u001b[1;32m      1\u001b[0m \u001b[0;32mfor\u001b[0m \u001b[0melemento\u001b[0m \u001b[0;32min\u001b[0m \u001b[0mlista\u001b[0m\u001b[0;34m:\u001b[0m\u001b[0;34m\u001b[0m\u001b[0;34m\u001b[0m\u001b[0m\n\u001b[1;32m      2\u001b[0m     \u001b[0mprint\u001b[0m\u001b[0;34m(\u001b[0m\u001b[0melemento\u001b[0m\u001b[0;34m)\u001b[0m\u001b[0;34m\u001b[0m\u001b[0;34m\u001b[0m\u001b[0m\n\u001b[0;32m----> 3\u001b[0;31m     \u001b[0mprint\u001b[0m\u001b[0;34m(\u001b[0m\u001b[0melemento\u001b[0m \u001b[0;34m+\u001b[0m \u001b[0;36m1\u001b[0m\u001b[0;34m)\u001b[0m\u001b[0;34m\u001b[0m\u001b[0;34m\u001b[0m\u001b[0m\n\u001b[0m",
      "\u001b[0;31mTypeError\u001b[0m: can only concatenate str (not \"int\") to str"
     ]
    }
   ],
   "source": [
    "for elemento in lista:\n",
    "    print(elemento)\n",
    "    print(elemento + 1)"
   ]
  },
  {
   "cell_type": "code",
   "execution_count": 28,
   "id": "tight-continuity",
   "metadata": {
    "execution": {
     "iopub.execute_input": "2021-01-22T01:11:43.893263Z",
     "iopub.status.busy": "2021-01-22T01:11:43.892706Z",
     "iopub.status.idle": "2021-01-22T01:11:43.896200Z",
     "shell.execute_reply": "2021-01-22T01:11:43.895776Z"
    }
   },
   "outputs": [
    {
     "data": {
      "text/plain": [
       "[1, 2, 3, 4, 1, 'dos']"
      ]
     },
     "execution_count": 1,
     "metadata": {},
     "output_type": "execute_result"
    }
   ],
   "source": [
    "lista"
   ]
  },
  {
   "cell_type": "code",
   "execution_count": 29,
   "id": "distinguished-community",
   "metadata": {
    "execution": {
     "iopub.execute_input": "2021-01-22T01:11:43.901020Z",
     "iopub.status.busy": "2021-01-22T01:11:43.900189Z",
     "iopub.status.idle": "2021-01-22T01:11:43.902558Z",
     "shell.execute_reply": "2021-01-22T01:11:43.902148Z"
    }
   },
   "outputs": [
    {
     "name": "stdout",
     "output_type": "stream",
     "text": [
      "0-ésimo elemento: 1\n",
      "1-ésimo elemento: 2\n",
      "2-ésimo elemento: 3\n",
      "3-ésimo elemento: 4\n",
      "4-ésimo elemento: 1\n",
      "5-ésimo elemento: dos\n"
     ]
    }
   ],
   "source": [
    "for i, elemento in enumerate(lista):\n",
    "    print(f\"{i}-ésimo elemento: {elemento}\")"
   ]
  },
  {
   "cell_type": "code",
   "execution_count": 30,
   "id": "published-charity",
   "metadata": {
    "execution": {
     "iopub.execute_input": "2021-01-22T01:11:43.907297Z",
     "iopub.status.busy": "2021-01-22T01:11:43.906803Z",
     "iopub.status.idle": "2021-01-22T01:11:43.909223Z",
     "shell.execute_reply": "2021-01-22T01:11:43.908713Z"
    },
    "tags": [
     "raises-exception"
    ]
   },
   "outputs": [
    {
     "ename": "TypeError",
     "evalue": "'<' not supported between instances of 'str' and 'int'",
     "output_type": "error",
     "traceback": [
      "\u001b[0;31m---------------------------------------------------------------------------\u001b[0m",
      "\u001b[0;31mTypeError\u001b[0m                                 Traceback (most recent call last)",
      "\u001b[0;32m<ipython-input-1-06c3f264dc7a>\u001b[0m in \u001b[0;36m<module>\u001b[0;34m\u001b[0m\n\u001b[0;32m----> 1\u001b[0;31m \u001b[0msorted\u001b[0m\u001b[0;34m(\u001b[0m\u001b[0mlista\u001b[0m\u001b[0;34m)\u001b[0m\u001b[0;34m\u001b[0m\u001b[0;34m\u001b[0m\u001b[0m\n\u001b[0m",
      "\u001b[0;31mTypeError\u001b[0m: '<' not supported between instances of 'str' and 'int'"
     ]
    }
   ],
   "source": [
    "sorted(lista)"
   ]
  },
  {
   "cell_type": "code",
   "execution_count": 31,
   "id": "adjacent-theology",
   "metadata": {
    "execution": {
     "iopub.execute_input": "2021-01-22T01:11:44.013130Z",
     "iopub.status.busy": "2021-01-22T01:11:44.012567Z",
     "iopub.status.idle": "2021-01-22T01:11:44.014328Z",
     "shell.execute_reply": "2021-01-22T01:11:44.014753Z"
    }
   },
   "outputs": [],
   "source": [
    "lista.remove(\"dos\")"
   ]
  },
  {
   "cell_type": "code",
   "execution_count": 32,
   "id": "choice-beaver",
   "metadata": {
    "execution": {
     "iopub.execute_input": "2021-01-22T01:11:44.018699Z",
     "iopub.status.busy": "2021-01-22T01:11:44.018210Z",
     "iopub.status.idle": "2021-01-22T01:11:44.020516Z",
     "shell.execute_reply": "2021-01-22T01:11:44.020903Z"
    }
   },
   "outputs": [
    {
     "data": {
      "text/plain": [
       "[1, 1, 2, 3, 4]"
      ]
     },
     "execution_count": 1,
     "metadata": {},
     "output_type": "execute_result"
    }
   ],
   "source": [
    "sorted(lista)"
   ]
  },
  {
   "cell_type": "code",
   "execution_count": 33,
   "id": "sunset-qatar",
   "metadata": {
    "execution": {
     "iopub.execute_input": "2021-01-22T01:11:44.024788Z",
     "iopub.status.busy": "2021-01-22T01:11:44.024290Z",
     "iopub.status.idle": "2021-01-22T01:11:44.026574Z",
     "shell.execute_reply": "2021-01-22T01:11:44.026968Z"
    }
   },
   "outputs": [
    {
     "data": {
      "text/plain": [
       "[1, 1, 2, 3, 4]"
      ]
     },
     "execution_count": 1,
     "metadata": {},
     "output_type": "execute_result"
    }
   ],
   "source": [
    "lista.sort()\n",
    "lista"
   ]
  },
  {
   "cell_type": "markdown",
   "id": "random-paraguay",
   "metadata": {
    "slideshow": {
     "slide_type": "slide"
    }
   },
   "source": [
    "#### Tuplas de Python\n",
    "\n",
    "Las tuplas son inmutables. No se pueden agregar elementos luego de creadas."
   ]
  },
  {
   "cell_type": "code",
   "execution_count": 34,
   "id": "formal-activation",
   "metadata": {
    "execution": {
     "iopub.execute_input": "2021-01-22T01:11:44.033490Z",
     "iopub.status.busy": "2021-01-22T01:11:44.033009Z",
     "iopub.status.idle": "2021-01-22T01:11:44.035836Z",
     "shell.execute_reply": "2021-01-22T01:11:44.035406Z"
    },
    "slideshow": {
     "slide_type": "slide"
    },
    "tags": [
     "raises-exception"
    ]
   },
   "outputs": [
    {
     "name": "stdout",
     "output_type": "stream",
     "text": [
      "(1, 2)\n",
      "1\n",
      "2\n"
     ]
    },
    {
     "ename": "TypeError",
     "evalue": "'tuple' object does not support item assignment",
     "output_type": "error",
     "traceback": [
      "\u001b[0;31m---------------------------------------------------------------------------\u001b[0m",
      "\u001b[0;31mTypeError\u001b[0m                                 Traceback (most recent call last)",
      "\u001b[0;32m<ipython-input-1-80ca8b547dd6>\u001b[0m in \u001b[0;36m<module>\u001b[0;34m\u001b[0m\n\u001b[1;32m      5\u001b[0m \u001b[0mprint\u001b[0m\u001b[0;34m(\u001b[0m\u001b[0mtupla\u001b[0m\u001b[0;34m[\u001b[0m\u001b[0;36m1\u001b[0m\u001b[0;34m]\u001b[0m\u001b[0;34m)\u001b[0m\u001b[0;34m\u001b[0m\u001b[0;34m\u001b[0m\u001b[0m\n\u001b[1;32m      6\u001b[0m \u001b[0;34m\u001b[0m\u001b[0m\n\u001b[0;32m----> 7\u001b[0;31m \u001b[0mtupla\u001b[0m\u001b[0;34m[\u001b[0m\u001b[0;36m1\u001b[0m\u001b[0;34m]\u001b[0m \u001b[0;34m=\u001b[0m \u001b[0;36m3\u001b[0m  \u001b[0;31m# Falla. No se puede mutar\u001b[0m\u001b[0;34m\u001b[0m\u001b[0;34m\u001b[0m\u001b[0m\n\u001b[0m",
      "\u001b[0;31mTypeError\u001b[0m: 'tuple' object does not support item assignment"
     ]
    }
   ],
   "source": [
    "tupla = (1, 2)\n",
    "\n",
    "print(tupla)\n",
    "print(tupla[0])\n",
    "print(tupla[1])\n",
    "\n",
    "tupla[1] = 3  # Falla. No se puede mutar"
   ]
  },
  {
   "cell_type": "code",
   "execution_count": 35,
   "id": "spatial-potter",
   "metadata": {
    "execution": {
     "iopub.execute_input": "2021-01-22T01:11:44.140904Z",
     "iopub.status.busy": "2021-01-22T01:11:44.139655Z",
     "iopub.status.idle": "2021-01-22T01:11:44.142869Z",
     "shell.execute_reply": "2021-01-22T01:11:44.142370Z"
    }
   },
   "outputs": [
    {
     "data": {
      "text/plain": [
       "[1, 2]"
      ]
     },
     "execution_count": 1,
     "metadata": {},
     "output_type": "execute_result"
    }
   ],
   "source": [
    "l = [1, 2]\n",
    "l"
   ]
  },
  {
   "cell_type": "code",
   "execution_count": 36,
   "id": "soviet-supervision",
   "metadata": {
    "execution": {
     "iopub.execute_input": "2021-01-22T01:11:44.147241Z",
     "iopub.status.busy": "2021-01-22T01:11:44.146732Z",
     "iopub.status.idle": "2021-01-22T01:11:44.149037Z",
     "shell.execute_reply": "2021-01-22T01:11:44.149422Z"
    }
   },
   "outputs": [
    {
     "data": {
      "text/plain": [
       "[1, 3]"
      ]
     },
     "execution_count": 1,
     "metadata": {},
     "output_type": "execute_result"
    }
   ],
   "source": [
    "l[1] = 3\n",
    "l"
   ]
  },
  {
   "cell_type": "markdown",
   "id": "dominican-timer",
   "metadata": {
    "slideshow": {
     "slide_type": "slide"
    }
   },
   "source": [
    "#### Diferencia entre lista y tupla\n",
    "Las listas se caracterizan por ser mutables, es decir, se puede cambiar su contenido en tiempo de ejecución, mientras que las tuplas son inmutables ya que no es posible modificar el contenido una vez creada."
   ]
  },
  {
   "cell_type": "markdown",
   "id": "grand-marine",
   "metadata": {},
   "source": [
    "#### Slices\n",
    "\n",
    "**Valen para listas, tuplas o strings (_segmentos_)**"
   ]
  },
  {
   "cell_type": "code",
   "execution_count": 37,
   "id": "false-separate",
   "metadata": {
    "execution": {
     "iopub.execute_input": "2021-01-22T01:11:44.153024Z",
     "iopub.status.busy": "2021-01-22T01:11:44.152535Z",
     "iopub.status.idle": "2021-01-22T01:11:44.154352Z",
     "shell.execute_reply": "2021-01-22T01:11:44.153870Z"
    }
   },
   "outputs": [],
   "source": [
    "numeros = [0, 1, 2, 3, 4, 5, 6, 7, 8, 9, 10]"
   ]
  },
  {
   "cell_type": "code",
   "execution_count": 38,
   "id": "comprehensive-aluminum",
   "metadata": {
    "execution": {
     "iopub.execute_input": "2021-01-22T01:11:44.157464Z",
     "iopub.status.busy": "2021-01-22T01:11:44.156987Z",
     "iopub.status.idle": "2021-01-22T01:11:44.158560Z",
     "shell.execute_reply": "2021-01-22T01:11:44.159005Z"
    }
   },
   "outputs": [
    {
     "name": "stdout",
     "output_type": "stream",
     "text": [
      "[0, 1, 2, 3, 4, 5, 6, 7, 8, 9, 10]\n"
     ]
    }
   ],
   "source": [
    "print(numeros)"
   ]
  },
  {
   "cell_type": "code",
   "execution_count": 39,
   "id": "vocational-performer",
   "metadata": {
    "execution": {
     "iopub.execute_input": "2021-01-22T01:11:44.161814Z",
     "iopub.status.busy": "2021-01-22T01:11:44.161295Z",
     "iopub.status.idle": "2021-01-22T01:11:44.163946Z",
     "shell.execute_reply": "2021-01-22T01:11:44.163532Z"
    }
   },
   "outputs": [
    {
     "name": "stdout",
     "output_type": "stream",
     "text": [
      "2\n"
     ]
    }
   ],
   "source": [
    "print(numeros[2])  # Imprimo elemento en la posición 2"
   ]
  },
  {
   "cell_type": "code",
   "execution_count": 40,
   "id": "overall-conducting",
   "metadata": {
    "execution": {
     "iopub.execute_input": "2021-01-22T01:11:44.167542Z",
     "iopub.status.busy": "2021-01-22T01:11:44.167043Z",
     "iopub.status.idle": "2021-01-22T01:11:44.169483Z",
     "shell.execute_reply": "2021-01-22T01:11:44.169068Z"
    }
   },
   "outputs": [
    {
     "data": {
      "text/plain": [
       "10"
      ]
     },
     "execution_count": 1,
     "metadata": {},
     "output_type": "execute_result"
    }
   ],
   "source": [
    "numeros[len(numeros) - 1]"
   ]
  },
  {
   "cell_type": "code",
   "execution_count": 41,
   "id": "radical-robinson",
   "metadata": {
    "execution": {
     "iopub.execute_input": "2021-01-22T01:11:44.172844Z",
     "iopub.status.busy": "2021-01-22T01:11:44.172372Z",
     "iopub.status.idle": "2021-01-22T01:11:44.173950Z",
     "shell.execute_reply": "2021-01-22T01:11:44.174334Z"
    },
    "lines_to_next_cell": 2
   },
   "outputs": [
    {
     "name": "stdout",
     "output_type": "stream",
     "text": [
      "10\n"
     ]
    }
   ],
   "source": [
    "print(numeros[-1])  # # Imprimo elemento en la última posición"
   ]
  },
  {
   "cell_type": "code",
   "execution_count": 42,
   "id": "trying-traffic",
   "metadata": {
    "execution": {
     "iopub.execute_input": "2021-01-22T01:11:44.177543Z",
     "iopub.status.busy": "2021-01-22T01:11:44.177070Z",
     "iopub.status.idle": "2021-01-22T01:11:44.179311Z",
     "shell.execute_reply": "2021-01-22T01:11:44.179702Z"
    },
    "lines_to_next_cell": 2
   },
   "outputs": [
    {
     "data": {
      "text/plain": [
       "9"
      ]
     },
     "execution_count": 1,
     "metadata": {},
     "output_type": "execute_result"
    }
   ],
   "source": [
    "numeros[-2]"
   ]
  },
  {
   "cell_type": "code",
   "execution_count": 43,
   "id": "spare-format",
   "metadata": {
    "execution": {
     "iopub.execute_input": "2021-01-22T01:11:44.182795Z",
     "iopub.status.busy": "2021-01-22T01:11:44.182329Z",
     "iopub.status.idle": "2021-01-22T01:11:44.184206Z",
     "shell.execute_reply": "2021-01-22T01:11:44.184593Z"
    }
   },
   "outputs": [
    {
     "name": "stdout",
     "output_type": "stream",
     "text": [
      "[0, 1, 2]\n"
     ]
    }
   ],
   "source": [
    "print(numeros[0:3])  # Imprimo de la pos 0 a la pos 2"
   ]
  },
  {
   "cell_type": "code",
   "execution_count": 44,
   "id": "proper-prophet",
   "metadata": {
    "execution": {
     "iopub.execute_input": "2021-01-22T01:11:44.187873Z",
     "iopub.status.busy": "2021-01-22T01:11:44.187399Z",
     "iopub.status.idle": "2021-01-22T01:11:44.188961Z",
     "shell.execute_reply": "2021-01-22T01:11:44.189418Z"
    }
   },
   "outputs": [
    {
     "name": "stdout",
     "output_type": "stream",
     "text": [
      "[7, 8]\n"
     ]
    }
   ],
   "source": [
    "print(numeros[-4:-2])"
   ]
  },
  {
   "cell_type": "code",
   "execution_count": 45,
   "id": "protected-admission",
   "metadata": {
    "execution": {
     "iopub.execute_input": "2021-01-22T01:11:44.192515Z",
     "iopub.status.busy": "2021-01-22T01:11:44.192044Z",
     "iopub.status.idle": "2021-01-22T01:11:44.193714Z",
     "shell.execute_reply": "2021-01-22T01:11:44.194128Z"
    }
   },
   "outputs": [
    {
     "name": "stdout",
     "output_type": "stream",
     "text": [
      "[0, 1, 2, 3, 4, 5, 6, 7, 8, 9, 10]\n"
     ]
    }
   ],
   "source": [
    "print(numeros[0:80])"
   ]
  },
  {
   "cell_type": "code",
   "execution_count": 46,
   "id": "canadian-kuwait",
   "metadata": {
    "execution": {
     "iopub.execute_input": "2021-01-22T01:11:44.197202Z",
     "iopub.status.busy": "2021-01-22T01:11:44.196732Z",
     "iopub.status.idle": "2021-01-22T01:11:44.198352Z",
     "shell.execute_reply": "2021-01-22T01:11:44.198802Z"
    }
   },
   "outputs": [
    {
     "name": "stdout",
     "output_type": "stream",
     "text": [
      "[0, 1, 2]\n"
     ]
    }
   ],
   "source": [
    "print(numeros[:3])"
   ]
  },
  {
   "cell_type": "code",
   "execution_count": 47,
   "id": "wound-england",
   "metadata": {
    "execution": {
     "iopub.execute_input": "2021-01-22T01:11:44.201888Z",
     "iopub.status.busy": "2021-01-22T01:11:44.201419Z",
     "iopub.status.idle": "2021-01-22T01:11:44.202981Z",
     "shell.execute_reply": "2021-01-22T01:11:44.203464Z"
    }
   },
   "outputs": [
    {
     "name": "stdout",
     "output_type": "stream",
     "text": [
      "[3, 4, 5, 6, 7, 8, 9, 10]\n"
     ]
    }
   ],
   "source": [
    "print(numeros[3:])"
   ]
  },
  {
   "cell_type": "code",
   "execution_count": 48,
   "id": "advanced-triple",
   "metadata": {
    "execution": {
     "iopub.execute_input": "2021-01-22T01:11:44.206559Z",
     "iopub.status.busy": "2021-01-22T01:11:44.206084Z",
     "iopub.status.idle": "2021-01-22T01:11:44.207697Z",
     "shell.execute_reply": "2021-01-22T01:11:44.208158Z"
    }
   },
   "outputs": [
    {
     "name": "stdout",
     "output_type": "stream",
     "text": [
      "[0, 2, 4, 6, 8]\n"
     ]
    }
   ],
   "source": [
    "print(numeros[0:10:2])"
   ]
  },
  {
   "cell_type": "markdown",
   "id": "southern-climate",
   "metadata": {},
   "source": [
    "```python\n",
    "lista[<inicio>:<final>:<step>]\n",
    "```"
   ]
  },
  {
   "cell_type": "code",
   "execution_count": 49,
   "id": "joint-yeast",
   "metadata": {
    "execution": {
     "iopub.execute_input": "2021-01-22T01:11:44.211544Z",
     "iopub.status.busy": "2021-01-22T01:11:44.211046Z",
     "iopub.status.idle": "2021-01-22T01:11:44.213656Z",
     "shell.execute_reply": "2021-01-22T01:11:44.213243Z"
    },
    "lines_to_next_cell": 2
   },
   "outputs": [
    {
     "data": {
      "text/plain": [
       "[1, 2, 3, 4]"
      ]
     },
     "execution_count": 1,
     "metadata": {},
     "output_type": "execute_result"
    }
   ],
   "source": [
    "l1 = [1, 2]\n",
    "l2 = [3, 4]\n",
    "l1 + l2"
   ]
  },
  {
   "cell_type": "code",
   "execution_count": 50,
   "id": "major-leisure",
   "metadata": {
    "execution": {
     "iopub.execute_input": "2021-01-22T01:11:44.216766Z",
     "iopub.status.busy": "2021-01-22T01:11:44.216294Z",
     "iopub.status.idle": "2021-01-22T01:11:44.217856Z",
     "shell.execute_reply": "2021-01-22T01:11:44.218316Z"
    }
   },
   "outputs": [
    {
     "name": "stdout",
     "output_type": "stream",
     "text": [
      "[0, 1, 2, 3, 4, 5, 6, 'siete', 8, 9, 10]\n"
     ]
    }
   ],
   "source": [
    "numeros[7] = 'siete'  # Las listas se pueden mutar\n",
    "print(numeros)"
   ]
  },
  {
   "cell_type": "code",
   "execution_count": 51,
   "id": "trained-consequence",
   "metadata": {
    "execution": {
     "iopub.execute_input": "2021-01-22T01:11:44.221422Z",
     "iopub.status.busy": "2021-01-22T01:11:44.220952Z",
     "iopub.status.idle": "2021-01-22T01:11:44.222514Z",
     "shell.execute_reply": "2021-01-22T01:11:44.222972Z"
    }
   },
   "outputs": [
    {
     "name": "stdout",
     "output_type": "stream",
     "text": [
      "[10, 9, 8, 'siete', 6, 5, 4, 3, 2, 1, 0]\n"
     ]
    }
   ],
   "source": [
    "numeros = numeros[::-1]\n",
    "print(numeros)"
   ]
  },
  {
   "cell_type": "code",
   "execution_count": 52,
   "id": "built-mason",
   "metadata": {
    "execution": {
     "iopub.execute_input": "2021-01-22T01:11:44.225882Z",
     "iopub.status.busy": "2021-01-22T01:11:44.225414Z",
     "iopub.status.idle": "2021-01-22T01:11:44.230017Z",
     "shell.execute_reply": "2021-01-22T01:11:44.229480Z"
    },
    "tags": [
     "raises-exception"
    ]
   },
   "outputs": [
    {
     "ename": "IndexError",
     "evalue": "list index out of range",
     "output_type": "error",
     "traceback": [
      "\u001b[0;31m---------------------------------------------------------------------------\u001b[0m",
      "\u001b[0;31mIndexError\u001b[0m                                Traceback (most recent call last)",
      "\u001b[0;32m<ipython-input-1-0ef91dd29a9b>\u001b[0m in \u001b[0;36m<module>\u001b[0;34m\u001b[0m\n\u001b[0;32m----> 1\u001b[0;31m \u001b[0mprint\u001b[0m\u001b[0;34m(\u001b[0m\u001b[0mnumeros\u001b[0m\u001b[0;34m[\u001b[0m\u001b[0;36m15\u001b[0m\u001b[0;34m]\u001b[0m\u001b[0;34m)\u001b[0m  \u001b[0;31m# Falla. No se puede acceder a una posición inexistente\u001b[0m\u001b[0;34m\u001b[0m\u001b[0;34m\u001b[0m\u001b[0m\n\u001b[0m",
      "\u001b[0;31mIndexError\u001b[0m: list index out of range"
     ]
    }
   ],
   "source": [
    "print(numeros[15])  # Falla. No se puede acceder a una posición inexistente"
   ]
  },
  {
   "cell_type": "code",
   "execution_count": 53,
   "id": "artistic-jefferson",
   "metadata": {
    "execution": {
     "iopub.execute_input": "2021-01-22T01:11:44.334741Z",
     "iopub.status.busy": "2021-01-22T01:11:44.334168Z",
     "iopub.status.idle": "2021-01-22T01:11:44.336336Z",
     "shell.execute_reply": "2021-01-22T01:11:44.336784Z"
    }
   },
   "outputs": [
    {
     "name": "stdout",
     "output_type": "stream",
     "text": [
      "palabra\n",
      "a\n",
      "pal\n",
      "abra\n"
     ]
    }
   ],
   "source": [
    "palabra = 'palabra'\n",
    "print(palabra)\n",
    "print(palabra[3])\n",
    "print(palabra[:3])\n",
    "print(palabra[3:])"
   ]
  },
  {
   "cell_type": "code",
   "execution_count": 54,
   "id": "boxed-kitty",
   "metadata": {
    "execution": {
     "iopub.execute_input": "2021-01-22T01:11:44.341304Z",
     "iopub.status.busy": "2021-01-22T01:11:44.340828Z",
     "iopub.status.idle": "2021-01-22T01:11:44.342427Z",
     "shell.execute_reply": "2021-01-22T01:11:44.342813Z"
    }
   },
   "outputs": [
    {
     "name": "stdout",
     "output_type": "stream",
     "text": [
      "(0, 1, 2, 3, 4)\n",
      "(0, 1)\n",
      "(2, 3, 4)\n"
     ]
    }
   ],
   "source": [
    "tupla = (0, 1, 2, 3, 4)\n",
    "\n",
    "print(tupla)\n",
    "print(tupla[:2])\n",
    "print(tupla[2:])"
   ]
  },
  {
   "cell_type": "markdown",
   "id": "bronze-leader",
   "metadata": {
    "slideshow": {
     "slide_type": "slide"
    }
   },
   "source": [
    "#### Diccionarios de Python\n",
    "\n",
    "Son como hashmaps, las claves deben ser inmutables para que no pierda sentido el diccionario. Si se pudieran modificar, se podrían cambiar las claves y generaría conflictos.\n",
    "\n",
    "Tipos mutables:\n",
    "- Listas\n",
    "- Diccionarios\n",
    "- Sets\n",
    "\n",
    "Tipos inmutables:\n",
    "- Int\n",
    "- Float\n",
    "- String\n",
    "- Tuplas\n"
   ]
  },
  {
   "cell_type": "code",
   "execution_count": 55,
   "id": "victorian-stanford",
   "metadata": {
    "execution": {
     "iopub.execute_input": "2021-01-22T01:11:44.345957Z",
     "iopub.status.busy": "2021-01-22T01:11:44.345487Z",
     "iopub.status.idle": "2021-01-22T01:11:44.347844Z",
     "shell.execute_reply": "2021-01-22T01:11:44.348240Z"
    },
    "slideshow": {
     "slide_type": "slide"
    }
   },
   "outputs": [
    {
     "data": {
      "text/plain": [
       "{}"
      ]
     },
     "execution_count": 1,
     "metadata": {},
     "output_type": "execute_result"
    }
   ],
   "source": [
    "diccionario = {}\n",
    "diccionario"
   ]
  },
  {
   "cell_type": "code",
   "execution_count": 56,
   "id": "horizontal-lewis",
   "metadata": {
    "execution": {
     "iopub.execute_input": "2021-01-22T01:11:44.351309Z",
     "iopub.status.busy": "2021-01-22T01:11:44.350810Z",
     "iopub.status.idle": "2021-01-22T01:11:44.352931Z",
     "shell.execute_reply": "2021-01-22T01:11:44.353298Z"
    }
   },
   "outputs": [
    {
     "data": {
      "text/plain": [
       "{}"
      ]
     },
     "execution_count": 1,
     "metadata": {},
     "output_type": "execute_result"
    }
   ],
   "source": [
    "diccionario = dict()\n",
    "diccionario"
   ]
  },
  {
   "cell_type": "code",
   "execution_count": 57,
   "id": "formal-uganda",
   "metadata": {
    "execution": {
     "iopub.execute_input": "2021-01-22T01:11:44.356644Z",
     "iopub.status.busy": "2021-01-22T01:11:44.356169Z",
     "iopub.status.idle": "2021-01-22T01:11:44.357890Z",
     "shell.execute_reply": "2021-01-22T01:11:44.358277Z"
    },
    "slideshow": {
     "slide_type": "slide"
    }
   },
   "outputs": [
    {
     "name": "stdout",
     "output_type": "stream",
     "text": [
      "{'clave1': 'valor1', 2: 'valor2', 'clave3': 3}\n"
     ]
    }
   ],
   "source": [
    "# Cómo agregar cosas al diccionario\n",
    "diccionario['clave1'] = 'valor1'\n",
    "diccionario[2] = 'valor2'\n",
    "diccionario['clave3'] = 3\n",
    "print(diccionario)"
   ]
  },
  {
   "cell_type": "markdown",
   "id": "modern-toolbox",
   "metadata": {},
   "source": [
    "Hay dos formas de obtener valores de un diccionario:\n",
    "\n",
    "```python\n",
    "diccionario[clave]\n",
    "```\n",
    "\n",
    "El cual devuelve el valor si existe la clave suministrada o bien lanza `KeyError` si no existe."
   ]
  },
  {
   "cell_type": "code",
   "execution_count": 58,
   "id": "italic-train",
   "metadata": {
    "execution": {
     "iopub.execute_input": "2021-01-22T01:11:44.361567Z",
     "iopub.status.busy": "2021-01-22T01:11:44.361085Z",
     "iopub.status.idle": "2021-01-22T01:11:44.363724Z",
     "shell.execute_reply": "2021-01-22T01:11:44.363300Z"
    }
   },
   "outputs": [
    {
     "data": {
      "text/plain": [
       "'valor1'"
      ]
     },
     "execution_count": 1,
     "metadata": {},
     "output_type": "execute_result"
    }
   ],
   "source": [
    "diccionario['clave1']"
   ]
  },
  {
   "cell_type": "code",
   "execution_count": 59,
   "id": "emerging-nurse",
   "metadata": {
    "execution": {
     "iopub.execute_input": "2021-01-22T01:11:44.366529Z",
     "iopub.status.busy": "2021-01-22T01:11:44.366056Z",
     "iopub.status.idle": "2021-01-22T01:11:44.370632Z",
     "shell.execute_reply": "2021-01-22T01:11:44.370126Z"
    },
    "tags": [
     "raises-exception"
    ]
   },
   "outputs": [
    {
     "ename": "KeyError",
     "evalue": "'clave1000'",
     "output_type": "error",
     "traceback": [
      "\u001b[0;31m---------------------------------------------------------------------------\u001b[0m",
      "\u001b[0;31mKeyError\u001b[0m                                  Traceback (most recent call last)",
      "\u001b[0;32m<ipython-input-1-41aae9a2e5ed>\u001b[0m in \u001b[0;36m<module>\u001b[0;34m\u001b[0m\n\u001b[0;32m----> 1\u001b[0;31m \u001b[0mdiccionario\u001b[0m\u001b[0;34m[\u001b[0m\u001b[0;34m'clave1000'\u001b[0m\u001b[0;34m]\u001b[0m\u001b[0;34m\u001b[0m\u001b[0;34m\u001b[0m\u001b[0m\n\u001b[0m",
      "\u001b[0;31mKeyError\u001b[0m: 'clave1000'"
     ]
    }
   ],
   "source": [
    "diccionario['clave1000']"
   ]
  },
  {
   "cell_type": "markdown",
   "id": "polyphonic-quarterly",
   "metadata": {},
   "source": [
    "La segunda forma es con `get`:"
   ]
  },
  {
   "cell_type": "code",
   "execution_count": 60,
   "id": "divine-cabinet",
   "metadata": {
    "execution": {
     "iopub.execute_input": "2021-01-22T01:11:44.498090Z",
     "iopub.status.busy": "2021-01-22T01:11:44.482725Z",
     "iopub.status.idle": "2021-01-22T01:11:44.519942Z",
     "shell.execute_reply": "2021-01-22T01:11:44.519403Z"
    }
   },
   "outputs": [],
   "source": [
    "diccionario.get?"
   ]
  },
  {
   "cell_type": "code",
   "execution_count": 61,
   "id": "lyric-knitting",
   "metadata": {
    "execution": {
     "iopub.execute_input": "2021-01-22T01:11:44.524610Z",
     "iopub.status.busy": "2021-01-22T01:11:44.523568Z",
     "iopub.status.idle": "2021-01-22T01:11:44.526212Z",
     "shell.execute_reply": "2021-01-22T01:11:44.525795Z"
    }
   },
   "outputs": [
    {
     "name": "stdout",
     "output_type": "stream",
     "text": [
      "Help on built-in function get:\n",
      "\n",
      "get(key, default=None, /) method of builtins.dict instance\n",
      "    Return the value for key if key is in the dictionary, else default.\n",
      "\n"
     ]
    }
   ],
   "source": [
    "help(diccionario.get)"
   ]
  },
  {
   "cell_type": "code",
   "execution_count": 62,
   "id": "broken-reservation",
   "metadata": {
    "execution": {
     "iopub.execute_input": "2021-01-22T01:11:44.530254Z",
     "iopub.status.busy": "2021-01-22T01:11:44.529230Z",
     "iopub.status.idle": "2021-01-22T01:11:44.531880Z",
     "shell.execute_reply": "2021-01-22T01:11:44.531458Z"
    },
    "slideshow": {
     "slide_type": "slide"
    }
   },
   "outputs": [
    {
     "name": "stdout",
     "output_type": "stream",
     "text": [
      "None\n"
     ]
    }
   ],
   "source": [
    "print(diccionario.get('clave1000'))"
   ]
  },
  {
   "cell_type": "code",
   "execution_count": 63,
   "id": "million-manitoba",
   "metadata": {
    "execution": {
     "iopub.execute_input": "2021-01-22T01:11:44.535966Z",
     "iopub.status.busy": "2021-01-22T01:11:44.534856Z",
     "iopub.status.idle": "2021-01-22T01:11:44.537531Z",
     "shell.execute_reply": "2021-01-22T01:11:44.537116Z"
    },
    "slideshow": {
     "slide_type": "slide"
    }
   },
   "outputs": [
    {
     "name": "stdout",
     "output_type": "stream",
     "text": [
      "True\n"
     ]
    }
   ],
   "source": [
    "print('clave1' in diccionario)  # Verifico si la clave está en el diccionario"
   ]
  },
  {
   "cell_type": "code",
   "execution_count": 64,
   "id": "medical-intro",
   "metadata": {
    "execution": {
     "iopub.execute_input": "2021-01-22T01:11:44.541325Z",
     "iopub.status.busy": "2021-01-22T01:11:44.540830Z",
     "iopub.status.idle": "2021-01-22T01:11:44.543209Z",
     "shell.execute_reply": "2021-01-22T01:11:44.543608Z"
    }
   },
   "outputs": [
    {
     "data": {
      "text/plain": [
       "True"
      ]
     },
     "execution_count": 1,
     "metadata": {},
     "output_type": "execute_result"
    }
   ],
   "source": [
    "l = [1, 2, 3, 4]\n",
    "2 in l"
   ]
  },
  {
   "cell_type": "code",
   "execution_count": 65,
   "id": "random-disorder",
   "metadata": {
    "execution": {
     "iopub.execute_input": "2021-01-22T01:11:44.548048Z",
     "iopub.status.busy": "2021-01-22T01:11:44.546939Z",
     "iopub.status.idle": "2021-01-22T01:11:44.549610Z",
     "shell.execute_reply": "2021-01-22T01:11:44.549195Z"
    }
   },
   "outputs": [
    {
     "name": "stdout",
     "output_type": "stream",
     "text": [
      "la clave es clave1 y el valor es valor1\n",
      "la clave es 2 y el valor es valor2\n",
      "la clave es clave3 y el valor es 3\n"
     ]
    }
   ],
   "source": [
    "for clave, valor in diccionario.items():\n",
    "    print(\"la clave es %s y el valor es %s\" % (clave, valor))"
   ]
  },
  {
   "cell_type": "code",
   "execution_count": 66,
   "id": "under-sound",
   "metadata": {
    "execution": {
     "iopub.execute_input": "2021-01-22T01:11:44.554024Z",
     "iopub.status.busy": "2021-01-22T01:11:44.552946Z",
     "iopub.status.idle": "2021-01-22T01:11:44.555681Z",
     "shell.execute_reply": "2021-01-22T01:11:44.555260Z"
    }
   },
   "outputs": [
    {
     "name": "stdout",
     "output_type": "stream",
     "text": [
      "la clave es clave1 y el valor es valor1\n",
      "la clave es 2 y el valor es valor2\n",
      "la clave es clave3 y el valor es 3\n"
     ]
    }
   ],
   "source": [
    "for clave, valor in diccionario.items():\n",
    "    print(\"la clave es {} y el valor es {}\".format(clave, valor))"
   ]
  },
  {
   "cell_type": "code",
   "execution_count": 67,
   "id": "statistical-corporation",
   "metadata": {
    "execution": {
     "iopub.execute_input": "2021-01-22T01:11:44.560321Z",
     "iopub.status.busy": "2021-01-22T01:11:44.559242Z",
     "iopub.status.idle": "2021-01-22T01:11:44.561991Z",
     "shell.execute_reply": "2021-01-22T01:11:44.561574Z"
    },
    "slideshow": {
     "slide_type": "slide"
    }
   },
   "outputs": [
    {
     "name": "stdout",
     "output_type": "stream",
     "text": [
      "la clave es clave1 y el valor es valor1\n",
      "la clave es 2 y el valor es valor2\n",
      "la clave es clave3 y el valor es 3\n"
     ]
    }
   ],
   "source": [
    "# Cómo iterar un diccionario elemento por elemento\n",
    "for (\n",
    "    clave,\n",
    "    valor,\n",
    ") in (\n",
    "    diccionario.items()\n",
    "):  # diccionario.items() va devolviendo tuplas con el formato (clave,valor)\n",
    "    print(\n",
    "        f\"la clave es {clave} y el valor es {valor}\"\n",
    "    )  # con esta sintaxis se desempaquetan en clave y valor (similar a enumerate)"
   ]
  },
  {
   "cell_type": "code",
   "execution_count": 68,
   "id": "searching-treatment",
   "metadata": {
    "execution": {
     "iopub.execute_input": "2021-01-22T01:11:44.565996Z",
     "iopub.status.busy": "2021-01-22T01:11:44.565157Z",
     "iopub.status.idle": "2021-01-22T01:11:44.567779Z",
     "shell.execute_reply": "2021-01-22T01:11:44.567377Z"
    },
    "slideshow": {
     "slide_type": "slide"
    }
   },
   "outputs": [
    {
     "name": "stdout",
     "output_type": "stream",
     "text": [
      "clave1\n",
      "2\n",
      "clave3\n"
     ]
    }
   ],
   "source": [
    "for clave in diccionario.keys():\n",
    "    print(clave)"
   ]
  },
  {
   "cell_type": "code",
   "execution_count": 69,
   "id": "considerable-alcohol",
   "metadata": {
    "execution": {
     "iopub.execute_input": "2021-01-22T01:11:44.572010Z",
     "iopub.status.busy": "2021-01-22T01:11:44.570966Z",
     "iopub.status.idle": "2021-01-22T01:11:44.573567Z",
     "shell.execute_reply": "2021-01-22T01:11:44.573153Z"
    },
    "slideshow": {
     "slide_type": "slide"
    }
   },
   "outputs": [
    {
     "name": "stdout",
     "output_type": "stream",
     "text": [
      "valor1\n",
      "valor2\n",
      "3\n"
     ]
    }
   ],
   "source": [
    "for valor in diccionario.values():\n",
    "    print(valor)"
   ]
  },
  {
   "cell_type": "markdown",
   "id": "amended-maple",
   "metadata": {},
   "source": [
    "#### Sets\n",
    "\n",
    "Son similares a los diccionarios (en eficiencia) pero se almacenan solo claves, y tienen algunas operaciones particulares.\n",
    "\n",
    "En particular, no pueden tener elementos iguales (pensar que son conjuntos)"
   ]
  },
  {
   "cell_type": "code",
   "execution_count": 70,
   "id": "anticipated-preserve",
   "metadata": {
    "execution": {
     "iopub.execute_input": "2021-01-22T01:11:44.576730Z",
     "iopub.status.busy": "2021-01-22T01:11:44.576261Z",
     "iopub.status.idle": "2021-01-22T01:11:44.579947Z",
     "shell.execute_reply": "2021-01-22T01:11:44.579527Z"
    }
   },
   "outputs": [],
   "source": [
    "set??"
   ]
  },
  {
   "cell_type": "code",
   "execution_count": 71,
   "id": "shared-preservation",
   "metadata": {
    "execution": {
     "iopub.execute_input": "2021-01-22T01:11:44.583645Z",
     "iopub.status.busy": "2021-01-22T01:11:44.583146Z",
     "iopub.status.idle": "2021-01-22T01:11:44.585408Z",
     "shell.execute_reply": "2021-01-22T01:11:44.585793Z"
    }
   },
   "outputs": [
    {
     "data": {
      "text/plain": [
       "{1, 2, 3}"
      ]
     },
     "execution_count": 1,
     "metadata": {},
     "output_type": "execute_result"
    }
   ],
   "source": [
    "# Se definen como los diccionarios pero sin hacerlos 'clave:valor', solamente una seguidilla de elementos\n",
    "{1, 2, 2, 3}"
   ]
  },
  {
   "cell_type": "code",
   "execution_count": 72,
   "id": "historical-canadian",
   "metadata": {
    "execution": {
     "iopub.execute_input": "2021-01-22T01:11:44.589590Z",
     "iopub.status.busy": "2021-01-22T01:11:44.589098Z",
     "iopub.status.idle": "2021-01-22T01:11:44.591382Z",
     "shell.execute_reply": "2021-01-22T01:11:44.591773Z"
    }
   },
   "outputs": [
    {
     "data": {
      "text/plain": [
       "{1, 2, 3}"
      ]
     },
     "execution_count": 1,
     "metadata": {},
     "output_type": "execute_result"
    }
   ],
   "source": [
    "set([1, 2, 2, 3])"
   ]
  },
  {
   "cell_type": "markdown",
   "id": "fatal-polish",
   "metadata": {},
   "source": [
    "## Condicionales (if...elif...else)\n",
    "\n",
    "```python\n",
    "if <condición_1>:\n",
    "    <hacer algo_1 si se da la condición_1>\n",
    "elif <condición_2>:\n",
    "    <hacer algo_2 si se da la condición_2>\n",
    "...\n",
    "elif <condición_n>:\n",
    "    <hacer algo_n si se da la condición_n>\n",
    "else:\n",
    "    <hacer otra cosa si no dan las anteriores>\n",
    "```\n",
    "\n",
    "Algo importante para notar es que los bloques se definen por **niveles de identacion**."
   ]
  },
  {
   "cell_type": "code",
   "execution_count": 73,
   "id": "ceramic-address",
   "metadata": {
    "execution": {
     "iopub.execute_input": "2021-01-22T01:11:44.596291Z",
     "iopub.status.busy": "2021-01-22T01:11:44.595249Z",
     "iopub.status.idle": "2021-01-22T01:11:44.597851Z",
     "shell.execute_reply": "2021-01-22T01:11:44.597438Z"
    }
   },
   "outputs": [
    {
     "name": "stdout",
     "output_type": "stream",
     "text": [
      "uno\n"
     ]
    }
   ],
   "source": [
    "v = 1\n",
    "if v == 1:\n",
    "    print(\"uno\")\n",
    "elif v == 2:\n",
    "    print(\"dos\")\n",
    "else:\n",
    "    print(\"ni idea\")\n",
    "    print(v)"
   ]
  },
  {
   "cell_type": "markdown",
   "id": "joined-buffalo",
   "metadata": {},
   "source": [
    "## Iteraciones\n",
    "\n",
    "```python\n",
    "while cond:\n",
    "    <codigo>\n",
    "```\n",
    "\n",
    "```python\n",
    "for elemento in iterable:\n",
    "    <codigo>\n",
    "```\n",
    "\n",
    "Para iterar sobre un rango de valores, usamos `range`"
   ]
  },
  {
   "cell_type": "code",
   "execution_count": 74,
   "id": "coral-landscape",
   "metadata": {
    "execution": {
     "iopub.execute_input": "2021-01-22T01:11:44.601714Z",
     "iopub.status.busy": "2021-01-22T01:11:44.601212Z",
     "iopub.status.idle": "2021-01-22T01:11:44.602830Z",
     "shell.execute_reply": "2021-01-22T01:11:44.603236Z"
    }
   },
   "outputs": [
    {
     "name": "stdout",
     "output_type": "stream",
     "text": [
      "1\n",
      "4\n",
      "7\n",
      "10\n"
     ]
    }
   ],
   "source": [
    "for i in range(1, 11, 3):\n",
    "    print(i)"
   ]
  },
  {
   "cell_type": "markdown",
   "id": "incredible-ozone",
   "metadata": {},
   "source": [
    "## Operadores logicos\n",
    "\n",
    "`not`, `or`, `and`"
   ]
  },
  {
   "cell_type": "code",
   "execution_count": 75,
   "id": "latter-lunch",
   "metadata": {
    "execution": {
     "iopub.execute_input": "2021-01-22T01:11:44.606335Z",
     "iopub.status.busy": "2021-01-22T01:11:44.605860Z",
     "iopub.status.idle": "2021-01-22T01:11:44.607460Z",
     "shell.execute_reply": "2021-01-22T01:11:44.607907Z"
    }
   },
   "outputs": [
    {
     "name": "stdout",
     "output_type": "stream",
     "text": [
      "yay\n"
     ]
    }
   ],
   "source": [
    "if True or False:\n",
    "    print(\"yay\")"
   ]
  },
  {
   "cell_type": "code",
   "execution_count": 76,
   "id": "stylish-sleep",
   "metadata": {
    "execution": {
     "iopub.execute_input": "2021-01-22T01:11:44.610896Z",
     "iopub.status.busy": "2021-01-22T01:11:44.610423Z",
     "iopub.status.idle": "2021-01-22T01:11:44.612558Z",
     "shell.execute_reply": "2021-01-22T01:11:44.612948Z"
    }
   },
   "outputs": [
    {
     "data": {
      "text/plain": [
       "False"
      ]
     },
     "execution_count": 1,
     "metadata": {},
     "output_type": "execute_result"
    }
   ],
   "source": [
    "1 == 2"
   ]
  },
  {
   "cell_type": "code",
   "execution_count": 77,
   "id": "impressed-brooklyn",
   "metadata": {
    "execution": {
     "iopub.execute_input": "2021-01-22T01:11:44.616512Z",
     "iopub.status.busy": "2021-01-22T01:11:44.616022Z",
     "iopub.status.idle": "2021-01-22T01:11:44.617698Z",
     "shell.execute_reply": "2021-01-22T01:11:44.618082Z"
    }
   },
   "outputs": [
    {
     "data": {
      "text/plain": [
       "True"
      ]
     },
     "execution_count": 1,
     "metadata": {},
     "output_type": "execute_result"
    }
   ],
   "source": [
    "1 != 2"
   ]
  },
  {
   "cell_type": "markdown",
   "id": "dutch-raleigh",
   "metadata": {
    "slideshow": {
     "slide_type": "slide"
    }
   },
   "source": [
    "## Funciones en Python"
   ]
  },
  {
   "cell_type": "code",
   "execution_count": 78,
   "id": "super-battlefield",
   "metadata": {
    "execution": {
     "iopub.execute_input": "2021-01-22T01:11:44.624052Z",
     "iopub.status.busy": "2021-01-22T01:11:44.623355Z",
     "iopub.status.idle": "2021-01-22T01:11:44.625217Z",
     "shell.execute_reply": "2021-01-22T01:11:44.625602Z"
    },
    "slideshow": {
     "slide_type": "slide"
    }
   },
   "outputs": [
    {
     "name": "stdout",
     "output_type": "stream",
     "text": [
      "True\n",
      "False\n"
     ]
    }
   ],
   "source": [
    "def busqueda_binaria(lista, elemento):\n",
    "    if not lista:\n",
    "        return False\n",
    "    elif len(lista) == 1:\n",
    "        return lista[0] == elemento\n",
    "    mitad = len(lista) // 2  # // es la operación división entera\n",
    "    if lista[mitad] == elemento:\n",
    "        return True\n",
    "    if lista[mitad] > elemento:\n",
    "        return busqueda_binaria(lista[:mitad], elemento)\n",
    "    if lista[mitad] < elemento:\n",
    "        return busqueda_binaria(lista[mitad:], elemento)\n",
    "\n",
    "\n",
    "print(busqueda_binaria([1, 2, 3, 4, 5], 4))\n",
    "print(busqueda_binaria([1, 4, 6, 7, 9, 10], 2))"
   ]
  },
  {
   "cell_type": "code",
   "execution_count": 79,
   "id": "analyzed-cover",
   "metadata": {
    "execution": {
     "iopub.execute_input": "2021-01-22T01:11:44.629690Z",
     "iopub.status.busy": "2021-01-22T01:11:44.628995Z",
     "iopub.status.idle": "2021-01-22T01:11:44.630829Z",
     "shell.execute_reply": "2021-01-22T01:11:44.631235Z"
    }
   },
   "outputs": [
    {
     "name": "stdout",
     "output_type": "stream",
     "text": [
      "(3, 3, 3)\n"
     ]
    }
   ],
   "source": [
    "def a(b):\n",
    "    if a == 1:\n",
    "        print(a)\n",
    "    return (b, b, b)\n",
    "\n",
    "\n",
    "print(a(3))"
   ]
  },
  {
   "cell_type": "code",
   "execution_count": 80,
   "id": "distinguished-wayne",
   "metadata": {
    "execution": {
     "iopub.execute_input": "2021-01-22T01:11:44.635030Z",
     "iopub.status.busy": "2021-01-22T01:11:44.634549Z",
     "iopub.status.idle": "2021-01-22T01:11:44.642136Z",
     "shell.execute_reply": "2021-01-22T01:11:44.641611Z"
    },
    "lines_to_next_cell": 2,
    "slideshow": {
     "slide_type": "slide"
    },
    "tags": [
     "raises-exception"
    ]
   },
   "outputs": [
    {
     "name": "stdout",
     "output_type": "stream",
     "text": [
      "3\n",
      "3.0\n",
      "3.0\n",
      "hola como te va\n",
      "[1, 2, 3, 4, 5]\n"
     ]
    },
    {
     "ename": "TypeError",
     "evalue": "can only concatenate str (not \"int\") to str",
     "output_type": "error",
     "traceback": [
      "\u001b[0;31m---------------------------------------------------------------------------\u001b[0m",
      "\u001b[0;31mTypeError\u001b[0m                                 Traceback (most recent call last)",
      "\u001b[0;32m<ipython-input-1-c2a6a99a90c7>\u001b[0m in \u001b[0;36m<module>\u001b[0;34m\u001b[0m\n\u001b[1;32m      8\u001b[0m \u001b[0mprint\u001b[0m\u001b[0;34m(\u001b[0m\u001b[0msuma\u001b[0m\u001b[0;34m(\u001b[0m\u001b[0;34m\"hola \"\u001b[0m\u001b[0;34m,\u001b[0m \u001b[0;34m\"como te va\"\u001b[0m\u001b[0;34m)\u001b[0m\u001b[0;34m)\u001b[0m\u001b[0;34m\u001b[0m\u001b[0;34m\u001b[0m\u001b[0m\n\u001b[1;32m      9\u001b[0m \u001b[0mprint\u001b[0m\u001b[0;34m(\u001b[0m\u001b[0msuma\u001b[0m\u001b[0;34m(\u001b[0m\u001b[0;34m[\u001b[0m\u001b[0;36m1\u001b[0m\u001b[0;34m,\u001b[0m \u001b[0;36m2\u001b[0m\u001b[0;34m,\u001b[0m \u001b[0;36m3\u001b[0m\u001b[0;34m]\u001b[0m\u001b[0;34m,\u001b[0m \u001b[0;34m[\u001b[0m\u001b[0;36m4\u001b[0m\u001b[0;34m,\u001b[0m \u001b[0;36m5\u001b[0m\u001b[0;34m]\u001b[0m\u001b[0;34m)\u001b[0m\u001b[0;34m)\u001b[0m\u001b[0;34m\u001b[0m\u001b[0;34m\u001b[0m\u001b[0m\n\u001b[0;32m---> 10\u001b[0;31m \u001b[0mprint\u001b[0m\u001b[0;34m(\u001b[0m\u001b[0msuma\u001b[0m\u001b[0;34m(\u001b[0m\u001b[0;34m\"1\"\u001b[0m\u001b[0;34m,\u001b[0m \u001b[0;36m3\u001b[0m\u001b[0;34m)\u001b[0m\u001b[0;34m)\u001b[0m  \u001b[0;31m# Falla\u001b[0m\u001b[0;34m\u001b[0m\u001b[0;34m\u001b[0m\u001b[0m\n\u001b[0m",
      "\u001b[0;32m<ipython-input-1-c2a6a99a90c7>\u001b[0m in \u001b[0;36msuma\u001b[0;34m(a, b)\u001b[0m\n\u001b[1;32m      1\u001b[0m \u001b[0;32mdef\u001b[0m \u001b[0msuma\u001b[0m\u001b[0;34m(\u001b[0m\u001b[0ma\u001b[0m\u001b[0;34m,\u001b[0m \u001b[0mb\u001b[0m\u001b[0;34m)\u001b[0m\u001b[0;34m:\u001b[0m\u001b[0;34m\u001b[0m\u001b[0;34m\u001b[0m\u001b[0m\n\u001b[0;32m----> 2\u001b[0;31m     \u001b[0;32mreturn\u001b[0m \u001b[0ma\u001b[0m \u001b[0;34m+\u001b[0m \u001b[0mb\u001b[0m\u001b[0;34m\u001b[0m\u001b[0;34m\u001b[0m\u001b[0m\n\u001b[0m\u001b[1;32m      3\u001b[0m \u001b[0;34m\u001b[0m\u001b[0m\n\u001b[1;32m      4\u001b[0m \u001b[0;34m\u001b[0m\u001b[0m\n\u001b[1;32m      5\u001b[0m \u001b[0mprint\u001b[0m\u001b[0;34m(\u001b[0m\u001b[0msuma\u001b[0m\u001b[0;34m(\u001b[0m\u001b[0;36m1\u001b[0m\u001b[0;34m,\u001b[0m \u001b[0;36m2\u001b[0m\u001b[0;34m)\u001b[0m\u001b[0;34m)\u001b[0m\u001b[0;34m\u001b[0m\u001b[0;34m\u001b[0m\u001b[0m\n",
      "\u001b[0;31mTypeError\u001b[0m: can only concatenate str (not \"int\") to str"
     ]
    }
   ],
   "source": [
    "def suma(a, b):\n",
    "    return a + b\n",
    "\n",
    "\n",
    "print(suma(1, 2))\n",
    "print(suma(1.0, 2.0))\n",
    "print(suma(1.0, 2))\n",
    "print(suma(\"hola \", \"como te va\"))\n",
    "print(suma([1, 2, 3], [4, 5]))\n",
    "print(suma(\"1\", 3))  # Falla"
   ]
  },
  {
   "cell_type": "code",
   "execution_count": 81,
   "id": "human-eating",
   "metadata": {
    "execution": {
     "iopub.execute_input": "2021-01-22T01:11:44.746559Z",
     "iopub.status.busy": "2021-01-22T01:11:44.745991Z",
     "iopub.status.idle": "2021-01-22T01:11:44.748010Z",
     "shell.execute_reply": "2021-01-22T01:11:44.748454Z"
    }
   },
   "outputs": [
    {
     "name": "stdout",
     "output_type": "stream",
     "text": [
      "2.0\n"
     ]
    }
   ],
   "source": [
    "# El valor por default de divisor es 1\n",
    "\n",
    "\n",
    "def division(dividendo, divisor=2):\n",
    "    return dividendo / divisor\n",
    "\n",
    "\n",
    "print(division(4))  # Usa el valor por default"
   ]
  },
  {
   "cell_type": "code",
   "execution_count": 82,
   "id": "suburban-uncertainty",
   "metadata": {
    "execution": {
     "iopub.execute_input": "2021-01-22T01:11:44.755575Z",
     "iopub.status.busy": "2021-01-22T01:11:44.751804Z",
     "iopub.status.idle": "2021-01-22T01:11:44.758417Z",
     "shell.execute_reply": "2021-01-22T01:11:44.757964Z"
    },
    "tags": [
     "raises-exception"
    ]
   },
   "outputs": [
    {
     "name": "stdout",
     "output_type": "stream",
     "text": [
      "0.5\n",
      "0.5\n"
     ]
    },
    {
     "ename": "TypeError",
     "evalue": "division() missing 1 required positional argument: 'dividendo'",
     "output_type": "error",
     "traceback": [
      "\u001b[0;31m---------------------------------------------------------------------------\u001b[0m",
      "\u001b[0;31mTypeError\u001b[0m                                 Traceback (most recent call last)",
      "\u001b[0;32m<ipython-input-1-34eff3833138>\u001b[0m in \u001b[0;36m<module>\u001b[0;34m\u001b[0m\n\u001b[1;32m      1\u001b[0m \u001b[0mprint\u001b[0m\u001b[0;34m(\u001b[0m\u001b[0mdivision\u001b[0m\u001b[0;34m(\u001b[0m\u001b[0;36m1\u001b[0m\u001b[0;34m,\u001b[0m \u001b[0;36m2\u001b[0m\u001b[0;34m)\u001b[0m\u001b[0;34m)\u001b[0m  \u001b[0;31m# Parámetros por orden\u001b[0m\u001b[0;34m\u001b[0m\u001b[0;34m\u001b[0m\u001b[0m\n\u001b[1;32m      2\u001b[0m \u001b[0mprint\u001b[0m\u001b[0;34m(\u001b[0m\u001b[0mdivision\u001b[0m\u001b[0;34m(\u001b[0m\u001b[0mdividendo\u001b[0m\u001b[0;34m=\u001b[0m\u001b[0;36m1\u001b[0m\u001b[0;34m,\u001b[0m \u001b[0mdivisor\u001b[0m\u001b[0;34m=\u001b[0m\u001b[0;36m2\u001b[0m\u001b[0;34m)\u001b[0m\u001b[0;34m)\u001b[0m  \u001b[0;31m# Parámetros por nombre\u001b[0m\u001b[0;34m\u001b[0m\u001b[0;34m\u001b[0m\u001b[0m\n\u001b[0;32m----> 3\u001b[0;31m \u001b[0mprint\u001b[0m\u001b[0;34m(\u001b[0m\u001b[0mdivision\u001b[0m\u001b[0;34m(\u001b[0m\u001b[0mdivisor\u001b[0m\u001b[0;34m=\u001b[0m\u001b[0;36m2\u001b[0m\u001b[0;34m)\u001b[0m\u001b[0;34m)\u001b[0m\u001b[0;34m\u001b[0m\u001b[0;34m\u001b[0m\u001b[0m\n\u001b[0m",
      "\u001b[0;31mTypeError\u001b[0m: division() missing 1 required positional argument: 'dividendo'"
     ]
    }
   ],
   "source": [
    "print(division(1, 2))  # Parámetros por orden\n",
    "print(division(dividendo=1, divisor=2))  # Parámetros por nombre\n",
    "print(division(divisor=2))"
   ]
  },
  {
   "cell_type": "code",
   "execution_count": 83,
   "id": "outside-remedy",
   "metadata": {
    "execution": {
     "iopub.execute_input": "2021-01-22T01:11:44.861252Z",
     "iopub.status.busy": "2021-01-22T01:11:44.860686Z",
     "iopub.status.idle": "2021-01-22T01:11:44.864988Z",
     "shell.execute_reply": "2021-01-22T01:11:44.864515Z"
    }
   },
   "outputs": [
    {
     "name": "stdout",
     "output_type": "stream",
     "text": [
      "0.5\n"
     ]
    }
   ],
   "source": [
    "print(division(divisor=2, dividendo=1))"
   ]
  },
  {
   "cell_type": "code",
   "execution_count": 84,
   "id": "overall-communication",
   "metadata": {
    "execution": {
     "iopub.execute_input": "2021-01-22T01:11:44.870392Z",
     "iopub.status.busy": "2021-01-22T01:11:44.869358Z",
     "iopub.status.idle": "2021-01-22T01:11:44.871977Z",
     "shell.execute_reply": "2021-01-22T01:11:44.871561Z"
    }
   },
   "outputs": [
    {
     "name": "stdout",
     "output_type": "stream",
     "text": [
      "['a', 'b', 'c']\n",
      "[1, 2, 3]\n",
      "['hola', ' don', ' pepito']\n",
      "hola -  don -  pepito\n"
     ]
    }
   ],
   "source": [
    "# Funciones básicas ya en el lenguaje\n",
    "# Hechas para funcionar para distintos tipos\n",
    "\n",
    "string_ordenado = sorted('bca')\n",
    "print(string_ordenado)\n",
    "\n",
    "lista_ordenada = sorted([1, 3, 2])\n",
    "print(lista_ordenada)\n",
    "\n",
    "separadas = \"hola, don, pepito\".split(\",\")\n",
    "print(separadas)\n",
    "unidas = \" - \".join(separadas)\n",
    "print(unidas)"
   ]
  },
  {
   "cell_type": "markdown",
   "id": "vietnamese-contents",
   "metadata": {},
   "source": [
    "## Módulos\n",
    "\n",
    "Para incluir alguna biblioteca de funciones se usa `import`. Pueden ser cosas ya predefinidas en Python (`math`, `random`, etc), nombres de archivos en nuestro directorio (por ejemplo, para `mimodulo.py` ponemos `import mimodulo`) o bibliotecas instaladas por el usuario"
   ]
  },
  {
   "cell_type": "code",
   "execution_count": 85,
   "id": "available-deposit",
   "metadata": {
    "execution": {
     "iopub.execute_input": "2021-01-22T01:11:44.876175Z",
     "iopub.status.busy": "2021-01-22T01:11:44.875134Z",
     "iopub.status.idle": "2021-01-22T01:11:44.877743Z",
     "shell.execute_reply": "2021-01-22T01:11:44.877316Z"
    }
   },
   "outputs": [
    {
     "name": "stdout",
     "output_type": "stream",
     "text": [
      "3.141592653589793\n"
     ]
    }
   ],
   "source": [
    "import math\n",
    "\n",
    "print(math.pi)"
   ]
  },
  {
   "cell_type": "code",
   "execution_count": 86,
   "id": "corporate-excellence",
   "metadata": {
    "execution": {
     "iopub.execute_input": "2021-01-22T01:11:44.881457Z",
     "iopub.status.busy": "2021-01-22T01:11:44.880964Z",
     "iopub.status.idle": "2021-01-22T01:11:44.882579Z",
     "shell.execute_reply": "2021-01-22T01:11:44.882961Z"
    }
   },
   "outputs": [
    {
     "name": "stdout",
     "output_type": "stream",
     "text": [
      "3.141592653589793 2.718281828459045\n"
     ]
    }
   ],
   "source": [
    "from math import pi, e\n",
    "\n",
    "print(pi, e)"
   ]
  },
  {
   "cell_type": "code",
   "execution_count": 87,
   "id": "statistical-excitement",
   "metadata": {
    "execution": {
     "iopub.execute_input": "2021-01-22T01:11:44.886131Z",
     "iopub.status.busy": "2021-01-22T01:11:44.885655Z",
     "iopub.status.idle": "2021-01-22T01:11:44.888342Z",
     "shell.execute_reply": "2021-01-22T01:11:44.887926Z"
    }
   },
   "outputs": [
    {
     "data": {
      "text/plain": [
       "2"
      ]
     },
     "execution_count": 1,
     "metadata": {},
     "output_type": "execute_result"
    }
   ],
   "source": [
    "math.gcd(56, 78)"
   ]
  },
  {
   "cell_type": "markdown",
   "id": "respected-france",
   "metadata": {},
   "source": [
    "## Manejo de excepciones\n",
    "\n",
    "Se pueden encapsular errores esperados en un bloque 'try/except' para evitar cortar el flujo del programa"
   ]
  },
  {
   "cell_type": "code",
   "execution_count": 88,
   "id": "stopped-verse",
   "metadata": {
    "execution": {
     "iopub.execute_input": "2021-01-22T01:11:44.891243Z",
     "iopub.status.busy": "2021-01-22T01:11:44.890751Z",
     "iopub.status.idle": "2021-01-22T01:11:44.897313Z",
     "shell.execute_reply": "2021-01-22T01:11:44.896795Z"
    },
    "tags": [
     "raises-exception"
    ]
   },
   "outputs": [
    {
     "ename": "ZeroDivisionError",
     "evalue": "division by zero",
     "output_type": "error",
     "traceback": [
      "\u001b[0;31m---------------------------------------------------------------------------\u001b[0m",
      "\u001b[0;31mZeroDivisionError\u001b[0m                         Traceback (most recent call last)",
      "\u001b[0;32m<ipython-input-1-f031f77b1a55>\u001b[0m in \u001b[0;36m<module>\u001b[0;34m\u001b[0m\n\u001b[0;32m----> 1\u001b[0;31m \u001b[0mdivision\u001b[0m\u001b[0;34m(\u001b[0m\u001b[0;36m1\u001b[0m\u001b[0;34m,\u001b[0m \u001b[0;36m0\u001b[0m\u001b[0;34m)\u001b[0m  \u001b[0;31m# No se puede dividir por cero\u001b[0m\u001b[0;34m\u001b[0m\u001b[0;34m\u001b[0m\u001b[0m\n\u001b[0m",
      "\u001b[0;32m<ipython-input-1-0d991d7de762>\u001b[0m in \u001b[0;36mdivision\u001b[0;34m(dividendo, divisor)\u001b[0m\n\u001b[1;32m      3\u001b[0m \u001b[0;34m\u001b[0m\u001b[0m\n\u001b[1;32m      4\u001b[0m \u001b[0;32mdef\u001b[0m \u001b[0mdivision\u001b[0m\u001b[0;34m(\u001b[0m\u001b[0mdividendo\u001b[0m\u001b[0;34m,\u001b[0m \u001b[0mdivisor\u001b[0m\u001b[0;34m=\u001b[0m\u001b[0;36m2\u001b[0m\u001b[0;34m)\u001b[0m\u001b[0;34m:\u001b[0m\u001b[0;34m\u001b[0m\u001b[0;34m\u001b[0m\u001b[0m\n\u001b[0;32m----> 5\u001b[0;31m     \u001b[0;32mreturn\u001b[0m \u001b[0mdividendo\u001b[0m \u001b[0;34m/\u001b[0m \u001b[0mdivisor\u001b[0m\u001b[0;34m\u001b[0m\u001b[0;34m\u001b[0m\u001b[0m\n\u001b[0m\u001b[1;32m      6\u001b[0m \u001b[0;34m\u001b[0m\u001b[0m\n\u001b[1;32m      7\u001b[0m \u001b[0;34m\u001b[0m\u001b[0m\n",
      "\u001b[0;31mZeroDivisionError\u001b[0m: division by zero"
     ]
    }
   ],
   "source": [
    "division(1, 0)  # No se puede dividir por cero"
   ]
  },
  {
   "cell_type": "code",
   "execution_count": 89,
   "id": "structural-homework",
   "metadata": {
    "execution": {
     "iopub.execute_input": "2021-01-22T01:11:45.001940Z",
     "iopub.status.busy": "2021-01-22T01:11:45.000732Z",
     "iopub.status.idle": "2021-01-22T01:11:45.003774Z",
     "shell.execute_reply": "2021-01-22T01:11:45.003284Z"
    }
   },
   "outputs": [
    {
     "name": "stdout",
     "output_type": "stream",
     "text": [
      "No se puede dividir por cero, ojo! division by zero\n",
      "1\n"
     ]
    }
   ],
   "source": [
    "try:\n",
    "    division(1, 0)\n",
    "except (ZeroDivisionError, TypeError) as e:\n",
    "    print('No se puede dividir por cero, ojo!', e)\n",
    "finally:\n",
    "    print(1)"
   ]
  },
  {
   "cell_type": "markdown",
   "id": "immune-candle",
   "metadata": {
    "slideshow": {
     "slide_type": "slide"
    }
   },
   "source": [
    "## Lectura y escritura de archivos"
   ]
  },
  {
   "cell_type": "code",
   "execution_count": 90,
   "id": "generic-qualification",
   "metadata": {
    "execution": {
     "iopub.execute_input": "2021-01-22T01:11:45.009413Z",
     "iopub.status.busy": "2021-01-22T01:11:45.008368Z",
     "iopub.status.idle": "2021-01-22T01:11:45.010976Z",
     "shell.execute_reply": "2021-01-22T01:11:45.010557Z"
    },
    "slideshow": {
     "slide_type": "slide"
    }
   },
   "outputs": [
    {
     "name": "stdout",
     "output_type": "stream",
     "text": [
      "<_io.TextIOWrapper name='archivo.csv' mode='w' encoding='UTF-8'>\n"
     ]
    }
   ],
   "source": [
    "import random\n",
    "\n",
    "with open(\n",
    "    'archivo.csv', 'w'\n",
    ") as archivo:  # Al usar esta sintaxis no es necesario hacer close\n",
    "    archivo.write(\"Alumno, nota\\n\")\n",
    "    # Tambien de forma similar al fprintf se puede hacer:\n",
    "    # print(\"Alumno, nota\\n\", file=archivo)\n",
    "    for i in range(0, 10):\n",
    "        archivo.write(f\"{i},{random.randrange(0,10)}\\n\")\n",
    "\n",
    "print(archivo)  # Comentario aclaratorio:\n",
    "# Las variables definidas en un determinado scope siguen existiendo por fuera del mismo.\n",
    "# Se debe tener cuidado con esto, ya que nada garantiza que por fuera el valor sea el esperado."
   ]
  },
  {
   "cell_type": "code",
   "execution_count": 91,
   "id": "empty-meditation",
   "metadata": {
    "execution": {
     "iopub.execute_input": "2021-01-22T01:11:45.015678Z",
     "iopub.status.busy": "2021-01-22T01:11:45.015181Z",
     "iopub.status.idle": "2021-01-22T01:11:45.017451Z",
     "shell.execute_reply": "2021-01-22T01:11:45.017839Z"
    },
    "slideshow": {
     "slide_type": "slide"
    }
   },
   "outputs": [
    {
     "name": "stdout",
     "output_type": "stream",
     "text": [
      "Alumno, nota\n",
      "0,8\n",
      "1,8\n",
      "2,3\n",
      "3,0\n",
      "4,4\n",
      "5,1\n",
      "6,4\n",
      "7,1\n",
      "8,1\n",
      "9,9\n"
     ]
    }
   ],
   "source": [
    "with open('archivo.csv', 'r') as f:\n",
    "    for linea in f:\n",
    "        print(linea.strip())"
   ]
  },
  {
   "cell_type": "code",
   "execution_count": 92,
   "id": "sunset-street",
   "metadata": {
    "execution": {
     "iopub.execute_input": "2021-01-22T01:11:45.020907Z",
     "iopub.status.busy": "2021-01-22T01:11:45.020388Z",
     "iopub.status.idle": "2021-01-22T01:11:45.023178Z",
     "shell.execute_reply": "2021-01-22T01:11:45.022670Z"
    }
   },
   "outputs": [
    {
     "name": "stdout",
     "output_type": "stream",
     "text": [
      "Alumno, nota\n",
      "0,8\n",
      "1,8\n",
      "2,3\n",
      "3,0\n",
      "4,4\n",
      "5,1\n",
      "6,4\n",
      "7,1\n",
      "8,1\n",
      "9,9\n",
      "\n"
     ]
    }
   ],
   "source": [
    "with open('archivo.csv', 'r') as f:\n",
    "    print(f.read())"
   ]
  },
  {
   "cell_type": "code",
   "execution_count": 93,
   "id": "magnetic-bernard",
   "metadata": {
    "execution": {
     "iopub.execute_input": "2021-01-22T01:11:45.026176Z",
     "iopub.status.busy": "2021-01-22T01:11:45.025661Z",
     "iopub.status.idle": "2021-01-22T01:11:45.027978Z",
     "shell.execute_reply": "2021-01-22T01:11:45.027561Z"
    }
   },
   "outputs": [],
   "source": [
    "f = open('archivo.csv', 'w')\n",
    "f.write(\"algo, algo\")\n",
    "f.close()"
   ]
  },
  {
   "cell_type": "markdown",
   "id": "extreme-controversy",
   "metadata": {
    "slideshow": {
     "slide_type": "slide"
    }
   },
   "source": [
    "## Objetos\n",
    "\n",
    "Los objetos tienen metodos y atributos:\n",
    "- Atributos: equivalentes a variables.\n",
    "- Métodos: equivalentes a las primitivas."
   ]
  },
  {
   "cell_type": "markdown",
   "id": "weekly-cardiff",
   "metadata": {
    "slideshow": {
     "slide_type": "slide"
    }
   },
   "source": [
    "### Cómo creo una clase"
   ]
  },
  {
   "cell_type": "code",
   "execution_count": 94,
   "id": "devoted-promise",
   "metadata": {
    "execution": {
     "iopub.execute_input": "2021-01-22T01:11:45.033495Z",
     "iopub.status.busy": "2021-01-22T01:11:45.032440Z",
     "iopub.status.idle": "2021-01-22T01:11:45.034046Z",
     "shell.execute_reply": "2021-01-22T01:11:45.034441Z"
    },
    "slideshow": {
     "slide_type": "slide"
    }
   },
   "outputs": [],
   "source": [
    "class Nodo(object):\n",
    "    def __init__(self, dato, siguiente=None):\n",
    "        self._dato = dato\n",
    "        self._siguiente = siguiente\n",
    "\n",
    "    @property\n",
    "    def dato(self):\n",
    "        return self._dato\n",
    "\n",
    "    @property\n",
    "    def proximo(self):\n",
    "        return self._siguiente\n",
    "\n",
    "    @proximo.setter\n",
    "    def proximo(self, siguiente):\n",
    "        self._siguiente = siguiente\n",
    "\n",
    "    def __repr__(self):\n",
    "        return str(self.dato)\n",
    "\n",
    "    def __str__(self):\n",
    "        return str(self.dato)"
   ]
  },
  {
   "cell_type": "code",
   "execution_count": 95,
   "id": "built-intermediate",
   "metadata": {
    "execution": {
     "iopub.execute_input": "2021-01-22T01:11:45.038039Z",
     "iopub.status.busy": "2021-01-22T01:11:45.037564Z",
     "iopub.status.idle": "2021-01-22T01:11:45.039167Z",
     "shell.execute_reply": "2021-01-22T01:11:45.039558Z"
    },
    "slideshow": {
     "slide_type": "slide"
    }
   },
   "outputs": [
    {
     "name": "stdout",
     "output_type": "stream",
     "text": [
      "hola\n"
     ]
    }
   ],
   "source": [
    "nodo = Nodo(\"hola\")\n",
    "print(nodo)"
   ]
  },
  {
   "cell_type": "code",
   "execution_count": 96,
   "id": "south-country",
   "metadata": {
    "execution": {
     "iopub.execute_input": "2021-01-22T01:11:45.042695Z",
     "iopub.status.busy": "2021-01-22T01:11:45.042223Z",
     "iopub.status.idle": "2021-01-22T01:11:45.043835Z",
     "shell.execute_reply": "2021-01-22T01:11:45.044282Z"
    },
    "slideshow": {
     "slide_type": "slide"
    }
   },
   "outputs": [
    {
     "name": "stdout",
     "output_type": "stream",
     "text": [
      "[hola, lala]\n"
     ]
    }
   ],
   "source": [
    "nodo2 = Nodo(\"lala\")\n",
    "print([nodo, nodo2])"
   ]
  },
  {
   "cell_type": "code",
   "execution_count": 97,
   "id": "hawaiian-combine",
   "metadata": {
    "execution": {
     "iopub.execute_input": "2021-01-22T01:11:45.047394Z",
     "iopub.status.busy": "2021-01-22T01:11:45.046898Z",
     "iopub.status.idle": "2021-01-22T01:11:45.048515Z",
     "shell.execute_reply": "2021-01-22T01:11:45.048927Z"
    },
    "slideshow": {
     "slide_type": "slide"
    }
   },
   "outputs": [
    {
     "name": "stdout",
     "output_type": "stream",
     "text": [
      "hola\n"
     ]
    }
   ],
   "source": [
    "nodo3 = nodo.dato\n",
    "print(nodo3)"
   ]
  },
  {
   "cell_type": "markdown",
   "id": "desirable-humor",
   "metadata": {
    "slideshow": {
     "slide_type": "slide"
    }
   },
   "source": [
    "### Ejemplo: Lista Enlazada"
   ]
  },
  {
   "cell_type": "code",
   "execution_count": 98,
   "id": "institutional-synthesis",
   "metadata": {
    "execution": {
     "iopub.execute_input": "2021-01-22T01:11:45.056890Z",
     "iopub.status.busy": "2021-01-22T01:11:45.055870Z",
     "iopub.status.idle": "2021-01-22T01:11:45.057442Z",
     "shell.execute_reply": "2021-01-22T01:11:45.057831Z"
    },
    "slideshow": {
     "slide_type": "slide"
    }
   },
   "outputs": [],
   "source": [
    "class ListaEnlazada(object):\n",
    "    def __init__(self):\n",
    "        self._primero = None\n",
    "        self._ultimo = None\n",
    "        self._largo = 0\n",
    "\n",
    "    def __len__(self):\n",
    "        return self._largo\n",
    "\n",
    "    def insertar_al_principio(self, dato):\n",
    "        nodo = Nodo(dato, self._primero)\n",
    "        self._primero = nodo\n",
    "        self._largo += 1\n",
    "        if self._largo == 1:\n",
    "            self._ultimo = nodo\n",
    "\n",
    "    def insertar_al_final(self, dato):\n",
    "        if self._largo != 0:\n",
    "            nodo = Nodo(dato)\n",
    "            nodo_anterior = self._ultimo\n",
    "            nodo_anterior._siguiente = nodo\n",
    "            self._ultimo = nodo\n",
    "            self._largo += 1\n",
    "        else:\n",
    "            self.insertar_al_principio(dato)\n",
    "\n",
    "    @property\n",
    "    def primero(self):\n",
    "        return self._primero.dato\n",
    "\n",
    "    def borrar_primero(self):\n",
    "        dato = self.primero.dato\n",
    "        self._primero = self.primero.siguiente\n",
    "        self._largo -= 1\n",
    "        if self._largo == 0:\n",
    "            self._ultimo = None\n",
    "        return dato\n",
    "\n",
    "    def __str__(self):\n",
    "        datos = []\n",
    "        nodo_actual = self._primero\n",
    "        while nodo_actual:\n",
    "            datos.append(nodo_actual.dato)\n",
    "            nodo_actual = nodo_actual.proximo\n",
    "        return \" -> \".join(datos)\n",
    "\n",
    "    def __repr__(self):\n",
    "        return self.__str__()"
   ]
  },
  {
   "cell_type": "code",
   "execution_count": 99,
   "id": "equipped-league",
   "metadata": {
    "execution": {
     "iopub.execute_input": "2021-01-22T01:11:45.061811Z",
     "iopub.status.busy": "2021-01-22T01:11:45.061322Z",
     "iopub.status.idle": "2021-01-22T01:11:45.063538Z",
     "shell.execute_reply": "2021-01-22T01:11:45.063926Z"
    },
    "slideshow": {
     "slide_type": "slide"
    }
   },
   "outputs": [
    {
     "data": {
      "text/plain": [
       "2"
      ]
     },
     "execution_count": 1,
     "metadata": {},
     "output_type": "execute_result"
    }
   ],
   "source": [
    "lista = ListaEnlazada()\n",
    "lista.insertar_al_principio(\"Primer Dato\")\n",
    "lista.insertar_al_principio(\"Primer primer Dato\")\n",
    "len(lista)"
   ]
  },
  {
   "cell_type": "code",
   "execution_count": 100,
   "id": "authentic-contact",
   "metadata": {
    "execution": {
     "iopub.execute_input": "2021-01-22T01:11:45.066941Z",
     "iopub.status.busy": "2021-01-22T01:11:45.066471Z",
     "iopub.status.idle": "2021-01-22T01:11:45.068795Z",
     "shell.execute_reply": "2021-01-22T01:11:45.069216Z"
    }
   },
   "outputs": [
    {
     "data": {
      "text/plain": [
       "Primer primer Dato -> Primer Dato"
      ]
     },
     "execution_count": 1,
     "metadata": {},
     "output_type": "execute_result"
    }
   ],
   "source": [
    "lista"
   ]
  },
  {
   "cell_type": "code",
   "execution_count": 101,
   "id": "certified-hamburg",
   "metadata": {
    "execution": {
     "iopub.execute_input": "2021-01-22T01:11:45.072696Z",
     "iopub.status.busy": "2021-01-22T01:11:45.072187Z",
     "iopub.status.idle": "2021-01-22T01:11:45.073813Z",
     "shell.execute_reply": "2021-01-22T01:11:45.074199Z"
    },
    "slideshow": {
     "slide_type": "slide"
    }
   },
   "outputs": [
    {
     "name": "stdout",
     "output_type": "stream",
     "text": [
      "Primer primer Dato\n"
     ]
    }
   ],
   "source": [
    "elemento = lista.primero\n",
    "print(elemento)"
   ]
  },
  {
   "cell_type": "markdown",
   "id": "norwegian-booking",
   "metadata": {},
   "source": [
    "## Recursos\n",
    "\n",
    "* [Taller de Python de Algoritmos II](https://github.com/algoritmos-rw/algo2_apuntes)\n",
    "\n",
    "* [Documentación de Python 3](https://docs.python.org/3/tutorial/)\n",
    "\n",
    "* [Apunte de Algoritmos y Programación I](https://algoritmos1rw.ddns.net/material)\n",
    "\n",
    "* [Automate the Boring Stuff with Python](http://automatetheboringstuff.com/)\n",
    "\n",
    "* [Curso Python](https://pythoncurso.github.io)\n",
    "\n",
    "* [Python Tutor](http://pythontutor.com/)\n",
    "\n",
    "* [Learn Python3 in Y minutes](https://learnxinyminutes.com/docs/python3/)\n",
    "\n",
    "* [Bibliografía de Algoritmos y Programación I](https://algoritmos1rw.ddns.net/bibliografia)"
   ]
  }
 ],
 "metadata": {
  "jupytext": {
   "encoding": "# -*- coding: utf-8 -*-",
   "formats": "ipynb,py:light"
  },
  "kernelspec": {
   "display_name": "Python 3 (venv)",
   "language": "python",
   "name": "python3"
  },
  "language_info": {
   "codemirror_mode": {
    "name": "ipython",
    "version": 3
   },
   "file_extension": ".py",
   "mimetype": "text/x-python",
   "name": "python",
   "nbconvert_exporter": "python",
   "pygments_lexer": "ipython3",
   "version": "3.7.9"
  }
 },
 "nbformat": 4,
 "nbformat_minor": 5
}
