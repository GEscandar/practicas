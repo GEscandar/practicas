{
 "cells": [
  {
   "cell_type": "markdown",
   "id": "48dddb34",
   "metadata": {},
   "source": [
    "# Python"
   ]
  },
  {
   "cell_type": "markdown",
   "id": "655919be",
   "metadata": {
    "slideshow": {
     "slide_type": "slide"
    }
   },
   "source": [
    "## Un poco de Historia"
   ]
  },
  {
   "cell_type": "markdown",
   "id": "abcdb43e",
   "metadata": {
    "slideshow": {
     "slide_type": "subslide"
    }
   },
   "source": [
    "Python fue creado a finales de los años 80 por un programador holandés llamado **Guido van Rossum**,\n",
    "quien sigue siendo aún hoy el líder del desarrollo del lenguaje.\n",
    "\n",
    "(Edit julio 2018: [ya no más](https://www.mail-archive.com/python-committers@python.org/msg05628.html))"
   ]
  },
  {
   "cell_type": "markdown",
   "id": "26bdf387",
   "metadata": {
    "slideshow": {
     "slide_type": "subslide"
    }
   },
   "source": [
    "El nombre del lenguaje proviene de los humoristas británicos Monty Python.\n",
    "\n",
    ">*\"I chose Python as a working title for the project, being in a slightly irreverent mood (and a big fan of Monty Python's Flying Circus).\"*"
   ]
  },
  {
   "cell_type": "markdown",
   "id": "87e02ec4",
   "metadata": {
    "slideshow": {
     "slide_type": "slide"
    }
   },
   "source": [
    "## Caracteristicas\n",
    "\n",
    "- Interpretado\n",
    "- Tipado dinamico\n",
    "- Multiparadigma\n",
    "- Alto nivel\n",
    "- Tiene un recolector de basura (no hay malloc, free, realloc, etc)"
   ]
  },
  {
   "cell_type": "markdown",
   "id": "dd36ec60",
   "metadata": {},
   "source": [
    "## ¿Cómo empezar?\n",
    "\n",
    "* Al ser un lenguaje *interpretado*, se puede ir escribiendo a medida que se ejecuta, sin necesidad de compilar de antemano! Solamente hace falta escribir `python` o `python3` en una terminal para empezar\n",
    "\n",
    "* También, permite escribir archivos y correrlos. Crear un archivo con extensión `.py` y luego correr `python miarchivo.py` en laterminal"
   ]
  },
  {
   "cell_type": "markdown",
   "id": "85ab2877",
   "metadata": {
    "slideshow": {
     "slide_type": "slide"
    }
   },
   "source": [
    "## El Zen de Python"
   ]
  },
  {
   "cell_type": "code",
   "execution_count": 1,
   "id": "d01aed41",
   "metadata": {
    "execution": {
     "iopub.execute_input": "2021-05-20T03:49:05.435739Z",
     "iopub.status.busy": "2021-05-20T03:49:05.435168Z",
     "iopub.status.idle": "2021-05-20T03:49:05.476188Z",
     "shell.execute_reply": "2021-05-20T03:49:05.476683Z"
    },
    "slideshow": {
     "slide_type": "slide"
    }
   },
   "outputs": [
    {
     "name": "stdout",
     "output_type": "stream",
     "text": [
      "The Zen of Python, by Tim Peters\n",
      "\n",
      "Beautiful is better than ugly.\n",
      "Explicit is better than implicit.\n",
      "Simple is better than complex.\n",
      "Complex is better than complicated.\n",
      "Flat is better than nested.\n",
      "Sparse is better than dense.\n",
      "Readability counts.\n",
      "Special cases aren't special enough to break the rules.\n",
      "Although practicality beats purity.\n",
      "Errors should never pass silently.\n",
      "Unless explicitly silenced.\n",
      "In the face of ambiguity, refuse the temptation to guess.\n",
      "There should be one-- and preferably only one --obvious way to do it.\n",
      "Although that way may not be obvious at first unless you're Dutch.\n",
      "Now is better than never.\n",
      "Although never is often better than *right* now.\n",
      "If the implementation is hard to explain, it's a bad idea.\n",
      "If the implementation is easy to explain, it may be a good idea.\n",
      "Namespaces are one honking great idea -- let's do more of those!\n"
     ]
    }
   ],
   "source": [
    "import this"
   ]
  },
  {
   "cell_type": "markdown",
   "id": "c239b2fa",
   "metadata": {
    "slideshow": {
     "slide_type": "slide"
    }
   },
   "source": [
    "## Conocimientos Básicos de Python: Variables y Tipos"
   ]
  },
  {
   "cell_type": "code",
   "execution_count": 2,
   "id": "88896d7e",
   "metadata": {
    "execution": {
     "iopub.execute_input": "2021-05-20T03:49:05.481927Z",
     "iopub.status.busy": "2021-05-20T03:49:05.480357Z",
     "iopub.status.idle": "2021-05-20T03:49:05.483799Z",
     "shell.execute_reply": "2021-05-20T03:49:05.483296Z"
    },
    "slideshow": {
     "slide_type": "slide"
    }
   },
   "outputs": [
    {
     "name": "stdout",
     "output_type": "stream",
     "text": [
      "Hello World!\n"
     ]
    }
   ],
   "source": [
    "# Este es un comentario\n",
    "\n",
    "print(\"Hello World!\")"
   ]
  },
  {
   "cell_type": "markdown",
   "id": "277460b8",
   "metadata": {},
   "source": [
    "Los strings en python puden escribirse tanto con comillas simples (`'`) como comillas dobles (`\"`). Normalmente vemos texto entre comillas triples para escribir _docstrings_, segun la guia de estilo de Python, el PEP8."
   ]
  },
  {
   "cell_type": "code",
   "execution_count": 3,
   "id": "e07a8157",
   "metadata": {
    "execution": {
     "iopub.execute_input": "2021-05-20T03:49:05.494353Z",
     "iopub.status.busy": "2021-05-20T03:49:05.493529Z",
     "iopub.status.idle": "2021-05-20T03:49:05.496421Z",
     "shell.execute_reply": "2021-05-20T03:49:05.496892Z"
    }
   },
   "outputs": [
    {
     "data": {
      "text/plain": [
       "'Esto es un docstring.\\n'"
      ]
     },
     "execution_count": 1,
     "metadata": {},
     "output_type": "execute_result"
    }
   ],
   "source": [
    "\"\"\"Esto es un docstring.\n",
    "\"\"\""
   ]
  },
  {
   "cell_type": "markdown",
   "id": "db3b45b0",
   "metadata": {},
   "source": [
    "### Declaracion de variables"
   ]
  },
  {
   "cell_type": "code",
   "execution_count": 4,
   "id": "dc0183cb",
   "metadata": {
    "execution": {
     "iopub.execute_input": "2021-05-20T03:49:05.502151Z",
     "iopub.status.busy": "2021-05-20T03:49:05.500541Z",
     "iopub.status.idle": "2021-05-20T03:49:05.504045Z",
     "shell.execute_reply": "2021-05-20T03:49:05.503541Z"
    }
   },
   "outputs": [
    {
     "name": "stdout",
     "output_type": "stream",
     "text": [
      "Hola\n"
     ]
    }
   ],
   "source": [
    "string = 'Hola'\n",
    "print(string)"
   ]
  },
  {
   "cell_type": "code",
   "execution_count": 5,
   "id": "9fdaca61",
   "metadata": {
    "execution": {
     "iopub.execute_input": "2021-05-20T03:49:05.508957Z",
     "iopub.status.busy": "2021-05-20T03:49:05.507655Z",
     "iopub.status.idle": "2021-05-20T03:49:05.510763Z",
     "shell.execute_reply": "2021-05-20T03:49:05.510265Z"
    }
   },
   "outputs": [
    {
     "name": "stdout",
     "output_type": "stream",
     "text": [
      "1\n"
     ]
    }
   ],
   "source": [
    "entero = 1\n",
    "print(entero)"
   ]
  },
  {
   "cell_type": "code",
   "execution_count": 6,
   "id": "6de8785a",
   "metadata": {
    "execution": {
     "iopub.execute_input": "2021-05-20T03:49:05.515910Z",
     "iopub.status.busy": "2021-05-20T03:49:05.514578Z",
     "iopub.status.idle": "2021-05-20T03:49:05.517727Z",
     "shell.execute_reply": "2021-05-20T03:49:05.517227Z"
    }
   },
   "outputs": [
    {
     "name": "stdout",
     "output_type": "stream",
     "text": [
      "1.0\n"
     ]
    }
   ],
   "source": [
    "flotante = 1.0\n",
    "print(flotante)"
   ]
  },
  {
   "cell_type": "code",
   "execution_count": 7,
   "id": "19b13e7c",
   "metadata": {
    "execution": {
     "iopub.execute_input": "2021-05-20T03:49:05.522482Z",
     "iopub.status.busy": "2021-05-20T03:49:05.521874Z",
     "iopub.status.idle": "2021-05-20T03:49:05.524190Z",
     "shell.execute_reply": "2021-05-20T03:49:05.524659Z"
    }
   },
   "outputs": [
    {
     "name": "stdout",
     "output_type": "stream",
     "text": [
      "(1, 1.0)\n"
     ]
    }
   ],
   "source": [
    "tupla = (entero, flotante)\n",
    "print(tupla)"
   ]
  },
  {
   "cell_type": "code",
   "execution_count": 8,
   "id": "905b15ba",
   "metadata": {
    "execution": {
     "iopub.execute_input": "2021-05-20T03:49:05.528686Z",
     "iopub.status.busy": "2021-05-20T03:49:05.528120Z",
     "iopub.status.idle": "2021-05-20T03:49:05.530380Z",
     "shell.execute_reply": "2021-05-20T03:49:05.530875Z"
    }
   },
   "outputs": [
    {
     "name": "stdout",
     "output_type": "stream",
     "text": [
      "(1, 1.0, 'Hola')\n"
     ]
    }
   ],
   "source": [
    "nupla = (entero, flotante, string)\n",
    "print(nupla)"
   ]
  },
  {
   "cell_type": "code",
   "execution_count": 9,
   "id": "944ecdc0",
   "metadata": {
    "execution": {
     "iopub.execute_input": "2021-05-20T03:49:05.534635Z",
     "iopub.status.busy": "2021-05-20T03:49:05.534067Z",
     "iopub.status.idle": "2021-05-20T03:49:05.536217Z",
     "shell.execute_reply": "2021-05-20T03:49:05.536688Z"
    }
   },
   "outputs": [
    {
     "name": "stdout",
     "output_type": "stream",
     "text": [
      "[1, 1.0, 'Hola']\n"
     ]
    }
   ],
   "source": [
    "lista = [entero, flotante, string]\n",
    "print(lista)"
   ]
  },
  {
   "cell_type": "code",
   "execution_count": 10,
   "id": "d16cac06",
   "metadata": {
    "execution": {
     "iopub.execute_input": "2021-05-20T03:49:05.540491Z",
     "iopub.status.busy": "2021-05-20T03:49:05.539925Z",
     "iopub.status.idle": "2021-05-20T03:49:05.542347Z",
     "shell.execute_reply": "2021-05-20T03:49:05.542880Z"
    }
   },
   "outputs": [
    {
     "name": "stdout",
     "output_type": "stream",
     "text": [
      "{'1': (1, 1.0), 50: (1, 1.0, 'Hola'), '3': 1}\n"
     ]
    }
   ],
   "source": [
    "diccionario = {'1': tupla, 50: nupla, '3': entero}\n",
    "print(diccionario)"
   ]
  },
  {
   "cell_type": "code",
   "execution_count": 11,
   "id": "0fbf7d5b",
   "metadata": {
    "execution": {
     "iopub.execute_input": "2021-05-20T03:49:05.546555Z",
     "iopub.status.busy": "2021-05-20T03:49:05.545989Z",
     "iopub.status.idle": "2021-05-20T03:49:05.548127Z",
     "shell.execute_reply": "2021-05-20T03:49:05.548600Z"
    }
   },
   "outputs": [
    {
     "name": "stdout",
     "output_type": "stream",
     "text": [
      "{1, 2}\n"
     ]
    }
   ],
   "source": [
    "conjunto = set([1, 2])\n",
    "print(conjunto)"
   ]
  },
  {
   "cell_type": "code",
   "execution_count": 12,
   "id": "a98e54cd",
   "metadata": {
    "execution": {
     "iopub.execute_input": "2021-05-20T03:49:05.552436Z",
     "iopub.status.busy": "2021-05-20T03:49:05.551806Z",
     "iopub.status.idle": "2021-05-20T03:49:05.553717Z",
     "shell.execute_reply": "2021-05-20T03:49:05.554271Z"
    }
   },
   "outputs": [
    {
     "name": "stdout",
     "output_type": "stream",
     "text": [
      "True\n"
     ]
    }
   ],
   "source": [
    "booleano = True\n",
    "print(booleano)"
   ]
  },
  {
   "cell_type": "code",
   "execution_count": 13,
   "id": "d25a6c42",
   "metadata": {
    "execution": {
     "iopub.execute_input": "2021-05-20T03:49:05.557810Z",
     "iopub.status.busy": "2021-05-20T03:49:05.557247Z",
     "iopub.status.idle": "2021-05-20T03:49:05.559376Z",
     "shell.execute_reply": "2021-05-20T03:49:05.559849Z"
    }
   },
   "outputs": [
    {
     "name": "stdout",
     "output_type": "stream",
     "text": [
      "None\n"
     ]
    }
   ],
   "source": [
    "nada = None\n",
    "print(nada)"
   ]
  },
  {
   "cell_type": "markdown",
   "id": "3f6d50f5",
   "metadata": {},
   "source": [
    "Ojo que las variables pueden cambiar de tipo!"
   ]
  },
  {
   "cell_type": "code",
   "execution_count": 14,
   "id": "3c846eba",
   "metadata": {
    "execution": {
     "iopub.execute_input": "2021-05-20T03:49:05.563956Z",
     "iopub.status.busy": "2021-05-20T03:49:05.563389Z",
     "iopub.status.idle": "2021-05-20T03:49:05.565555Z",
     "shell.execute_reply": "2021-05-20T03:49:05.566029Z"
    }
   },
   "outputs": [
    {
     "name": "stdout",
     "output_type": "stream",
     "text": [
      "1\n",
      "<class 'int'>\n"
     ]
    }
   ],
   "source": [
    "elemento = 1\n",
    "print(elemento)\n",
    "print(type(elemento))"
   ]
  },
  {
   "cell_type": "code",
   "execution_count": 15,
   "id": "1b1005a2",
   "metadata": {
    "execution": {
     "iopub.execute_input": "2021-05-20T03:49:05.569934Z",
     "iopub.status.busy": "2021-05-20T03:49:05.569372Z",
     "iopub.status.idle": "2021-05-20T03:49:05.572037Z",
     "shell.execute_reply": "2021-05-20T03:49:05.571413Z"
    }
   },
   "outputs": [
    {
     "name": "stdout",
     "output_type": "stream",
     "text": [
      "1\n",
      "<class 'str'>\n"
     ]
    }
   ],
   "source": [
    "elemento = str(1)\n",
    "print(elemento)\n",
    "print(type(elemento))"
   ]
  },
  {
   "cell_type": "code",
   "execution_count": 16,
   "id": "420c9987",
   "metadata": {
    "execution": {
     "iopub.execute_input": "2021-05-20T03:49:05.575785Z",
     "iopub.status.busy": "2021-05-20T03:49:05.575222Z",
     "iopub.status.idle": "2021-05-20T03:49:05.577772Z",
     "shell.execute_reply": "2021-05-20T03:49:05.577248Z"
    }
   },
   "outputs": [
    {
     "name": "stdout",
     "output_type": "stream",
     "text": [
      "[2]\n",
      "<class 'list'>\n"
     ]
    }
   ],
   "source": [
    "elemento = [2]\n",
    "\n",
    "print(elemento)\n",
    "print(type(elemento))"
   ]
  },
  {
   "cell_type": "markdown",
   "id": "859b8c1d",
   "metadata": {},
   "source": [
    "### Tipos basicos"
   ]
  },
  {
   "cell_type": "markdown",
   "id": "e00e98ec",
   "metadata": {
    "slideshow": {
     "slide_type": "slide"
    }
   },
   "source": [
    "#### Listas de Python"
   ]
  },
  {
   "cell_type": "code",
   "execution_count": 17,
   "id": "5be011da",
   "metadata": {
    "execution": {
     "iopub.execute_input": "2021-05-20T03:49:05.581438Z",
     "iopub.status.busy": "2021-05-20T03:49:05.580880Z",
     "iopub.status.idle": "2021-05-20T03:49:05.584118Z",
     "shell.execute_reply": "2021-05-20T03:49:05.583612Z"
    }
   },
   "outputs": [
    {
     "data": {
      "text/plain": [
       "[]"
      ]
     },
     "execution_count": 1,
     "metadata": {},
     "output_type": "execute_result"
    }
   ],
   "source": [
    "lista = list()\n",
    "lista"
   ]
  },
  {
   "cell_type": "code",
   "execution_count": 18,
   "id": "da8ff37a",
   "metadata": {
    "execution": {
     "iopub.execute_input": "2021-05-20T03:49:05.587581Z",
     "iopub.status.busy": "2021-05-20T03:49:05.587016Z",
     "iopub.status.idle": "2021-05-20T03:49:05.590107Z",
     "shell.execute_reply": "2021-05-20T03:49:05.589601Z"
    },
    "slideshow": {
     "slide_type": "slide"
    }
   },
   "outputs": [
    {
     "data": {
      "text/plain": [
       "[]"
      ]
     },
     "execution_count": 1,
     "metadata": {},
     "output_type": "execute_result"
    }
   ],
   "source": [
    "lista = []\n",
    "lista"
   ]
  },
  {
   "cell_type": "code",
   "execution_count": 19,
   "id": "fd068fcd",
   "metadata": {
    "execution": {
     "iopub.execute_input": "2021-05-20T03:49:05.593886Z",
     "iopub.status.busy": "2021-05-20T03:49:05.593318Z",
     "iopub.status.idle": "2021-05-20T03:49:05.595937Z",
     "shell.execute_reply": "2021-05-20T03:49:05.596384Z"
    },
    "slideshow": {
     "slide_type": "slide"
    }
   },
   "outputs": [
    {
     "data": {
      "text/plain": [
       "[1, 2, 3, 4]"
      ]
     },
     "execution_count": 1,
     "metadata": {},
     "output_type": "execute_result"
    }
   ],
   "source": [
    "lista = [1, 2, 3, 4]\n",
    "lista"
   ]
  },
  {
   "cell_type": "code",
   "execution_count": 20,
   "id": "15cf316a",
   "metadata": {
    "execution": {
     "iopub.execute_input": "2021-05-20T03:49:05.601110Z",
     "iopub.status.busy": "2021-05-20T03:49:05.600536Z",
     "iopub.status.idle": "2021-05-20T03:49:05.602703Z",
     "shell.execute_reply": "2021-05-20T03:49:05.603199Z"
    },
    "slideshow": {
     "slide_type": "slide"
    }
   },
   "outputs": [
    {
     "data": {
      "text/plain": [
       "[1, 2, 3, 4, 1, 'dos', 3.0]"
      ]
     },
     "execution_count": 1,
     "metadata": {},
     "output_type": "execute_result"
    }
   ],
   "source": [
    "lista.append(1)  # Inserto un 1 al final\n",
    "lista.append(\"dos\")  # Inserto un \"dos\" al final\n",
    "lista.append(3.0)  # Inserto un 3.0 al final\n",
    "lista"
   ]
  },
  {
   "cell_type": "code",
   "execution_count": 21,
   "id": "90f0ee63",
   "metadata": {
    "execution": {
     "iopub.execute_input": "2021-05-20T03:49:05.607032Z",
     "iopub.status.busy": "2021-05-20T03:49:05.606435Z",
     "iopub.status.idle": "2021-05-20T03:49:05.608913Z",
     "shell.execute_reply": "2021-05-20T03:49:05.608419Z"
    }
   },
   "outputs": [
    {
     "name": "stdout",
     "output_type": "stream",
     "text": [
      "[1, 2, 10, 3, 4, 1, 'dos', 3.0]\n"
     ]
    }
   ],
   "source": [
    "lista.insert(2, 10)  # Inserto en posicion 2 un 10\n",
    "print(lista)"
   ]
  },
  {
   "cell_type": "code",
   "execution_count": 22,
   "id": "dd0655d3",
   "metadata": {
    "execution": {
     "iopub.execute_input": "2021-05-20T03:49:05.612321Z",
     "iopub.status.busy": "2021-05-20T03:49:05.611641Z",
     "iopub.status.idle": "2021-05-20T03:49:05.614211Z",
     "shell.execute_reply": "2021-05-20T03:49:05.614683Z"
    }
   },
   "outputs": [
    {
     "data": {
      "text/plain": [
       "8"
      ]
     },
     "execution_count": 1,
     "metadata": {},
     "output_type": "execute_result"
    }
   ],
   "source": [
    "len(lista)"
   ]
  },
  {
   "cell_type": "code",
   "execution_count": 23,
   "id": "52ede389",
   "metadata": {
    "execution": {
     "iopub.execute_input": "2021-05-20T03:49:05.618148Z",
     "iopub.status.busy": "2021-05-20T03:49:05.617591Z",
     "iopub.status.idle": "2021-05-20T03:49:05.620651Z",
     "shell.execute_reply": "2021-05-20T03:49:05.620075Z"
    }
   },
   "outputs": [
    {
     "data": {
      "text/plain": [
       "3.0"
      ]
     },
     "execution_count": 1,
     "metadata": {},
     "output_type": "execute_result"
    }
   ],
   "source": [
    "lista.pop()"
   ]
  },
  {
   "cell_type": "code",
   "execution_count": 24,
   "id": "6081d31f",
   "metadata": {
    "execution": {
     "iopub.execute_input": "2021-05-20T03:49:05.624391Z",
     "iopub.status.busy": "2021-05-20T03:49:05.623830Z",
     "iopub.status.idle": "2021-05-20T03:49:05.628187Z",
     "shell.execute_reply": "2021-05-20T03:49:05.627689Z"
    }
   },
   "outputs": [
    {
     "data": {
      "text/plain": [
       "[1, 2, 10, 3, 4, 1, 'dos']"
      ]
     },
     "execution_count": 1,
     "metadata": {},
     "output_type": "execute_result"
    }
   ],
   "source": [
    "lista"
   ]
  },
  {
   "cell_type": "code",
   "execution_count": 25,
   "id": "dbab0cdf",
   "metadata": {
    "execution": {
     "iopub.execute_input": "2021-05-20T03:49:05.631519Z",
     "iopub.status.busy": "2021-05-20T03:49:05.630953Z",
     "iopub.status.idle": "2021-05-20T03:49:05.634291Z",
     "shell.execute_reply": "2021-05-20T03:49:05.633795Z"
    }
   },
   "outputs": [
    {
     "data": {
      "text/plain": [
       "2"
      ]
     },
     "execution_count": 1,
     "metadata": {},
     "output_type": "execute_result"
    }
   ],
   "source": [
    "lista.index(10)"
   ]
  },
  {
   "cell_type": "code",
   "execution_count": 26,
   "id": "085faf81",
   "metadata": {
    "execution": {
     "iopub.execute_input": "2021-05-20T03:49:05.637896Z",
     "iopub.status.busy": "2021-05-20T03:49:05.637325Z",
     "iopub.status.idle": "2021-05-20T03:49:05.639971Z",
     "shell.execute_reply": "2021-05-20T03:49:05.640446Z"
    }
   },
   "outputs": [
    {
     "data": {
      "text/plain": [
       "[1, 2, 3, 4, 1, 'dos']"
      ]
     },
     "execution_count": 1,
     "metadata": {},
     "output_type": "execute_result"
    }
   ],
   "source": [
    "lista.remove(10)\n",
    "lista"
   ]
  },
  {
   "cell_type": "code",
   "execution_count": 27,
   "id": "afa049e0",
   "metadata": {
    "execution": {
     "iopub.execute_input": "2021-05-20T03:49:05.644056Z",
     "iopub.status.busy": "2021-05-20T03:49:05.643450Z",
     "iopub.status.idle": "2021-05-20T03:49:05.699213Z",
     "shell.execute_reply": "2021-05-20T03:49:05.699675Z"
    },
    "tags": [
     "raises-exception"
    ]
   },
   "outputs": [
    {
     "name": "stdout",
     "output_type": "stream",
     "text": [
      "1\n",
      "2\n",
      "2\n",
      "3\n",
      "3\n",
      "4\n",
      "4\n",
      "5\n",
      "1\n",
      "2\n",
      "dos\n"
     ]
    },
    {
     "ename": "TypeError",
     "evalue": "can only concatenate str (not \"int\") to str",
     "output_type": "error",
     "traceback": [
      "\u001b[0;31m---------------------------------------------------------------------------\u001b[0m",
      "\u001b[0;31mTypeError\u001b[0m                                 Traceback (most recent call last)",
      "\u001b[0;32m<ipython-input-1-41b56d5cf080>\u001b[0m in \u001b[0;36m<module>\u001b[0;34m\u001b[0m\n\u001b[1;32m      1\u001b[0m \u001b[0;32mfor\u001b[0m \u001b[0melemento\u001b[0m \u001b[0;32min\u001b[0m \u001b[0mlista\u001b[0m\u001b[0;34m:\u001b[0m\u001b[0;34m\u001b[0m\u001b[0;34m\u001b[0m\u001b[0m\n\u001b[1;32m      2\u001b[0m     \u001b[0mprint\u001b[0m\u001b[0;34m(\u001b[0m\u001b[0melemento\u001b[0m\u001b[0;34m)\u001b[0m\u001b[0;34m\u001b[0m\u001b[0;34m\u001b[0m\u001b[0m\n\u001b[0;32m----> 3\u001b[0;31m     \u001b[0mprint\u001b[0m\u001b[0;34m(\u001b[0m\u001b[0melemento\u001b[0m \u001b[0;34m+\u001b[0m \u001b[0;36m1\u001b[0m\u001b[0;34m)\u001b[0m\u001b[0;34m\u001b[0m\u001b[0;34m\u001b[0m\u001b[0m\n\u001b[0m",
      "\u001b[0;31mTypeError\u001b[0m: can only concatenate str (not \"int\") to str"
     ]
    }
   ],
   "source": [
    "for elemento in lista:\n",
    "    print(elemento)\n",
    "    print(elemento + 1)"
   ]
  },
  {
   "cell_type": "code",
   "execution_count": 28,
   "id": "89bed583",
   "metadata": {
    "execution": {
     "iopub.execute_input": "2021-05-20T03:49:05.703916Z",
     "iopub.status.busy": "2021-05-20T03:49:05.702871Z",
     "iopub.status.idle": "2021-05-20T03:49:05.707029Z",
     "shell.execute_reply": "2021-05-20T03:49:05.706184Z"
    }
   },
   "outputs": [
    {
     "data": {
      "text/plain": [
       "[1, 2, 3, 4, 1, 'dos']"
      ]
     },
     "execution_count": 1,
     "metadata": {},
     "output_type": "execute_result"
    }
   ],
   "source": [
    "lista"
   ]
  },
  {
   "cell_type": "code",
   "execution_count": 29,
   "id": "ba9a2836",
   "metadata": {
    "execution": {
     "iopub.execute_input": "2021-05-20T03:49:05.710858Z",
     "iopub.status.busy": "2021-05-20T03:49:05.710262Z",
     "iopub.status.idle": "2021-05-20T03:49:05.713898Z",
     "shell.execute_reply": "2021-05-20T03:49:05.713271Z"
    }
   },
   "outputs": [
    {
     "name": "stdout",
     "output_type": "stream",
     "text": [
      "0-ésimo elemento: 1\n",
      "1-ésimo elemento: 2\n",
      "2-ésimo elemento: 3\n",
      "3-ésimo elemento: 4\n",
      "4-ésimo elemento: 1\n",
      "5-ésimo elemento: dos\n"
     ]
    }
   ],
   "source": [
    "for i, elemento in enumerate(lista):\n",
    "    print(f\"{i}-ésimo elemento: {elemento}\")"
   ]
  },
  {
   "cell_type": "code",
   "execution_count": 30,
   "id": "dac2c056",
   "metadata": {
    "execution": {
     "iopub.execute_input": "2021-05-20T03:49:05.719668Z",
     "iopub.status.busy": "2021-05-20T03:49:05.719093Z",
     "iopub.status.idle": "2021-05-20T03:49:05.724201Z",
     "shell.execute_reply": "2021-05-20T03:49:05.723638Z"
    },
    "tags": [
     "raises-exception"
    ]
   },
   "outputs": [
    {
     "ename": "TypeError",
     "evalue": "'<' not supported between instances of 'str' and 'int'",
     "output_type": "error",
     "traceback": [
      "\u001b[0;31m---------------------------------------------------------------------------\u001b[0m",
      "\u001b[0;31mTypeError\u001b[0m                                 Traceback (most recent call last)",
      "\u001b[0;32m<ipython-input-1-06c3f264dc7a>\u001b[0m in \u001b[0;36m<module>\u001b[0;34m\u001b[0m\n\u001b[0;32m----> 1\u001b[0;31m \u001b[0msorted\u001b[0m\u001b[0;34m(\u001b[0m\u001b[0mlista\u001b[0m\u001b[0;34m)\u001b[0m\u001b[0;34m\u001b[0m\u001b[0;34m\u001b[0m\u001b[0m\n\u001b[0m",
      "\u001b[0;31mTypeError\u001b[0m: '<' not supported between instances of 'str' and 'int'"
     ]
    }
   ],
   "source": [
    "sorted(lista)"
   ]
  },
  {
   "cell_type": "code",
   "execution_count": 31,
   "id": "36f41856",
   "metadata": {
    "execution": {
     "iopub.execute_input": "2021-05-20T03:49:05.727635Z",
     "iopub.status.busy": "2021-05-20T03:49:05.727053Z",
     "iopub.status.idle": "2021-05-20T03:49:05.730347Z",
     "shell.execute_reply": "2021-05-20T03:49:05.730813Z"
    }
   },
   "outputs": [],
   "source": [
    "lista.remove(\"dos\")"
   ]
  },
  {
   "cell_type": "code",
   "execution_count": 32,
   "id": "e3fe964b",
   "metadata": {
    "execution": {
     "iopub.execute_input": "2021-05-20T03:49:05.735810Z",
     "iopub.status.busy": "2021-05-20T03:49:05.734772Z",
     "iopub.status.idle": "2021-05-20T03:49:05.738150Z",
     "shell.execute_reply": "2021-05-20T03:49:05.737651Z"
    }
   },
   "outputs": [
    {
     "data": {
      "text/plain": [
       "[1, 1, 2, 3, 4]"
      ]
     },
     "execution_count": 1,
     "metadata": {},
     "output_type": "execute_result"
    }
   ],
   "source": [
    "sorted(lista)"
   ]
  },
  {
   "cell_type": "code",
   "execution_count": 33,
   "id": "eab61186",
   "metadata": {
    "execution": {
     "iopub.execute_input": "2021-05-20T03:49:05.742986Z",
     "iopub.status.busy": "2021-05-20T03:49:05.741936Z",
     "iopub.status.idle": "2021-05-20T03:49:05.744976Z",
     "shell.execute_reply": "2021-05-20T03:49:05.745447Z"
    }
   },
   "outputs": [
    {
     "data": {
      "text/plain": [
       "[1, 1, 2, 3, 4]"
      ]
     },
     "execution_count": 1,
     "metadata": {},
     "output_type": "execute_result"
    }
   ],
   "source": [
    "lista.sort()\n",
    "lista"
   ]
  },
  {
   "cell_type": "markdown",
   "id": "aa82f1c7",
   "metadata": {
    "slideshow": {
     "slide_type": "slide"
    }
   },
   "source": [
    "#### Tuplas de Python\n",
    "\n",
    "Las tuplas son inmutables. No se pueden agregar elementos luego de creadas."
   ]
  },
  {
   "cell_type": "code",
   "execution_count": 34,
   "id": "77c0bbf4",
   "metadata": {
    "execution": {
     "iopub.execute_input": "2021-05-20T03:49:05.752997Z",
     "iopub.status.busy": "2021-05-20T03:49:05.752424Z",
     "iopub.status.idle": "2021-05-20T03:49:05.756436Z",
     "shell.execute_reply": "2021-05-20T03:49:05.755933Z"
    },
    "slideshow": {
     "slide_type": "slide"
    },
    "tags": [
     "raises-exception"
    ]
   },
   "outputs": [
    {
     "name": "stdout",
     "output_type": "stream",
     "text": [
      "(1, 2)\n",
      "1\n",
      "2\n"
     ]
    },
    {
     "ename": "TypeError",
     "evalue": "'tuple' object does not support item assignment",
     "output_type": "error",
     "traceback": [
      "\u001b[0;31m---------------------------------------------------------------------------\u001b[0m",
      "\u001b[0;31mTypeError\u001b[0m                                 Traceback (most recent call last)",
      "\u001b[0;32m<ipython-input-1-80ca8b547dd6>\u001b[0m in \u001b[0;36m<module>\u001b[0;34m\u001b[0m\n\u001b[1;32m      5\u001b[0m \u001b[0mprint\u001b[0m\u001b[0;34m(\u001b[0m\u001b[0mtupla\u001b[0m\u001b[0;34m[\u001b[0m\u001b[0;36m1\u001b[0m\u001b[0;34m]\u001b[0m\u001b[0;34m)\u001b[0m\u001b[0;34m\u001b[0m\u001b[0;34m\u001b[0m\u001b[0m\n\u001b[1;32m      6\u001b[0m \u001b[0;34m\u001b[0m\u001b[0m\n\u001b[0;32m----> 7\u001b[0;31m \u001b[0mtupla\u001b[0m\u001b[0;34m[\u001b[0m\u001b[0;36m1\u001b[0m\u001b[0;34m]\u001b[0m \u001b[0;34m=\u001b[0m \u001b[0;36m3\u001b[0m  \u001b[0;31m# Falla. No se puede mutar\u001b[0m\u001b[0;34m\u001b[0m\u001b[0;34m\u001b[0m\u001b[0m\n\u001b[0m",
      "\u001b[0;31mTypeError\u001b[0m: 'tuple' object does not support item assignment"
     ]
    }
   ],
   "source": [
    "tupla = (1, 2)\n",
    "\n",
    "print(tupla)\n",
    "print(tupla[0])\n",
    "print(tupla[1])\n",
    "\n",
    "tupla[1] = 3  # Falla. No se puede mutar"
   ]
  },
  {
   "cell_type": "code",
   "execution_count": 35,
   "id": "3ab73aaf",
   "metadata": {
    "execution": {
     "iopub.execute_input": "2021-05-20T03:49:05.760324Z",
     "iopub.status.busy": "2021-05-20T03:49:05.758269Z",
     "iopub.status.idle": "2021-05-20T03:49:05.762523Z",
     "shell.execute_reply": "2021-05-20T03:49:05.763019Z"
    }
   },
   "outputs": [
    {
     "data": {
      "text/plain": [
       "[1, 2]"
      ]
     },
     "execution_count": 1,
     "metadata": {},
     "output_type": "execute_result"
    }
   ],
   "source": [
    "l = [1, 2]\n",
    "l"
   ]
  },
  {
   "cell_type": "code",
   "execution_count": 36,
   "id": "b1dd344d",
   "metadata": {
    "execution": {
     "iopub.execute_input": "2021-05-20T03:49:05.770697Z",
     "iopub.status.busy": "2021-05-20T03:49:05.769679Z",
     "iopub.status.idle": "2021-05-20T03:49:05.772482Z",
     "shell.execute_reply": "2021-05-20T03:49:05.772950Z"
    }
   },
   "outputs": [
    {
     "data": {
      "text/plain": [
       "[1, 3]"
      ]
     },
     "execution_count": 1,
     "metadata": {},
     "output_type": "execute_result"
    }
   ],
   "source": [
    "l[1] = 3\n",
    "l"
   ]
  },
  {
   "cell_type": "markdown",
   "id": "a9ae5304",
   "metadata": {
    "slideshow": {
     "slide_type": "slide"
    }
   },
   "source": [
    "#### Diferencia entre lista y tupla\n",
    "Las listas se caracterizan por ser mutables, es decir, se puede cambiar su contenido en tiempo de ejecución, mientras que las tuplas son inmutables ya que no es posible modificar el contenido una vez creada."
   ]
  },
  {
   "cell_type": "markdown",
   "id": "24e3d020",
   "metadata": {},
   "source": [
    "#### Slices\n",
    "\n",
    "**Valen para listas, tuplas o strings (_segmentos_)**"
   ]
  },
  {
   "cell_type": "code",
   "execution_count": 37,
   "id": "cc6d1631",
   "metadata": {
    "execution": {
     "iopub.execute_input": "2021-05-20T03:49:05.778059Z",
     "iopub.status.busy": "2021-05-20T03:49:05.776748Z",
     "iopub.status.idle": "2021-05-20T03:49:05.778683Z",
     "shell.execute_reply": "2021-05-20T03:49:05.779177Z"
    }
   },
   "outputs": [],
   "source": [
    "numeros = [0, 1, 2, 3, 4, 5, 6, 7, 8, 9, 10]"
   ]
  },
  {
   "cell_type": "code",
   "execution_count": 38,
   "id": "51987c70",
   "metadata": {
    "execution": {
     "iopub.execute_input": "2021-05-20T03:49:05.783904Z",
     "iopub.status.busy": "2021-05-20T03:49:05.782596Z",
     "iopub.status.idle": "2021-05-20T03:49:05.786436Z",
     "shell.execute_reply": "2021-05-20T03:49:05.785906Z"
    }
   },
   "outputs": [
    {
     "name": "stdout",
     "output_type": "stream",
     "text": [
      "[0, 1, 2, 3, 4, 5, 6, 7, 8, 9, 10]\n"
     ]
    }
   ],
   "source": [
    "print(numeros)"
   ]
  },
  {
   "cell_type": "code",
   "execution_count": 39,
   "id": "bc424fba",
   "metadata": {
    "execution": {
     "iopub.execute_input": "2021-05-20T03:49:05.791509Z",
     "iopub.status.busy": "2021-05-20T03:49:05.790136Z",
     "iopub.status.idle": "2021-05-20T03:49:05.793413Z",
     "shell.execute_reply": "2021-05-20T03:49:05.792882Z"
    }
   },
   "outputs": [
    {
     "name": "stdout",
     "output_type": "stream",
     "text": [
      "2\n"
     ]
    }
   ],
   "source": [
    "print(numeros[2])  # Imprimo elemento en la posición 2"
   ]
  },
  {
   "cell_type": "code",
   "execution_count": 40,
   "id": "65f9dd55",
   "metadata": {
    "execution": {
     "iopub.execute_input": "2021-05-20T03:49:05.798756Z",
     "iopub.status.busy": "2021-05-20T03:49:05.797695Z",
     "iopub.status.idle": "2021-05-20T03:49:05.800978Z",
     "shell.execute_reply": "2021-05-20T03:49:05.800490Z"
    }
   },
   "outputs": [
    {
     "data": {
      "text/plain": [
       "10"
      ]
     },
     "execution_count": 1,
     "metadata": {},
     "output_type": "execute_result"
    }
   ],
   "source": [
    "numeros[len(numeros) - 1]"
   ]
  },
  {
   "cell_type": "code",
   "execution_count": 41,
   "id": "4cfd5699",
   "metadata": {
    "execution": {
     "iopub.execute_input": "2021-05-20T03:49:05.806166Z",
     "iopub.status.busy": "2021-05-20T03:49:05.804870Z",
     "iopub.status.idle": "2021-05-20T03:49:05.807975Z",
     "shell.execute_reply": "2021-05-20T03:49:05.807479Z"
    },
    "lines_to_next_cell": 2
   },
   "outputs": [
    {
     "name": "stdout",
     "output_type": "stream",
     "text": [
      "10\n"
     ]
    }
   ],
   "source": [
    "print(numeros[-1])  # # Imprimo elemento en la última posición"
   ]
  },
  {
   "cell_type": "code",
   "execution_count": 42,
   "id": "ee0ed2f4",
   "metadata": {
    "execution": {
     "iopub.execute_input": "2021-05-20T03:49:05.812687Z",
     "iopub.status.busy": "2021-05-20T03:49:05.811671Z",
     "iopub.status.idle": "2021-05-20T03:49:05.815221Z",
     "shell.execute_reply": "2021-05-20T03:49:05.814677Z"
    },
    "lines_to_next_cell": 2
   },
   "outputs": [
    {
     "data": {
      "text/plain": [
       "9"
      ]
     },
     "execution_count": 1,
     "metadata": {},
     "output_type": "execute_result"
    }
   ],
   "source": [
    "numeros[-2]"
   ]
  },
  {
   "cell_type": "code",
   "execution_count": 43,
   "id": "836f77b1",
   "metadata": {
    "execution": {
     "iopub.execute_input": "2021-05-20T03:49:05.820070Z",
     "iopub.status.busy": "2021-05-20T03:49:05.818734Z",
     "iopub.status.idle": "2021-05-20T03:49:05.821894Z",
     "shell.execute_reply": "2021-05-20T03:49:05.821393Z"
    }
   },
   "outputs": [
    {
     "name": "stdout",
     "output_type": "stream",
     "text": [
      "[0, 1, 2]\n"
     ]
    }
   ],
   "source": [
    "print(numeros[0:3])  # Imprimo de la pos 0 a la pos 2"
   ]
  },
  {
   "cell_type": "code",
   "execution_count": 44,
   "id": "2bcc1ded",
   "metadata": {
    "execution": {
     "iopub.execute_input": "2021-05-20T03:49:05.827250Z",
     "iopub.status.busy": "2021-05-20T03:49:05.825836Z",
     "iopub.status.idle": "2021-05-20T03:49:05.829049Z",
     "shell.execute_reply": "2021-05-20T03:49:05.828549Z"
    }
   },
   "outputs": [
    {
     "name": "stdout",
     "output_type": "stream",
     "text": [
      "[7, 8]\n"
     ]
    }
   ],
   "source": [
    "print(numeros[-4:-2])"
   ]
  },
  {
   "cell_type": "code",
   "execution_count": 45,
   "id": "bf270260",
   "metadata": {
    "execution": {
     "iopub.execute_input": "2021-05-20T03:49:05.833840Z",
     "iopub.status.busy": "2021-05-20T03:49:05.832549Z",
     "iopub.status.idle": "2021-05-20T03:49:05.835838Z",
     "shell.execute_reply": "2021-05-20T03:49:05.835333Z"
    }
   },
   "outputs": [
    {
     "name": "stdout",
     "output_type": "stream",
     "text": [
      "[0, 1, 2, 3, 4, 5, 6, 7, 8, 9, 10]\n"
     ]
    }
   ],
   "source": [
    "print(numeros[0:80])"
   ]
  },
  {
   "cell_type": "code",
   "execution_count": 46,
   "id": "1cb63388",
   "metadata": {
    "execution": {
     "iopub.execute_input": "2021-05-20T03:49:05.840614Z",
     "iopub.status.busy": "2021-05-20T03:49:05.839326Z",
     "iopub.status.idle": "2021-05-20T03:49:05.842415Z",
     "shell.execute_reply": "2021-05-20T03:49:05.841914Z"
    }
   },
   "outputs": [
    {
     "name": "stdout",
     "output_type": "stream",
     "text": [
      "[0, 1, 2]\n"
     ]
    }
   ],
   "source": [
    "print(numeros[:3])"
   ]
  },
  {
   "cell_type": "code",
   "execution_count": 47,
   "id": "2bd8b259",
   "metadata": {
    "execution": {
     "iopub.execute_input": "2021-05-20T03:49:05.847555Z",
     "iopub.status.busy": "2021-05-20T03:49:05.846208Z",
     "iopub.status.idle": "2021-05-20T03:49:05.849362Z",
     "shell.execute_reply": "2021-05-20T03:49:05.848861Z"
    }
   },
   "outputs": [
    {
     "name": "stdout",
     "output_type": "stream",
     "text": [
      "[3, 4, 5, 6, 7, 8, 9, 10]\n"
     ]
    }
   ],
   "source": [
    "print(numeros[3:])"
   ]
  },
  {
   "cell_type": "code",
   "execution_count": 48,
   "id": "8d5498eb",
   "metadata": {
    "execution": {
     "iopub.execute_input": "2021-05-20T03:49:05.854206Z",
     "iopub.status.busy": "2021-05-20T03:49:05.852890Z",
     "iopub.status.idle": "2021-05-20T03:49:05.856169Z",
     "shell.execute_reply": "2021-05-20T03:49:05.855665Z"
    }
   },
   "outputs": [
    {
     "name": "stdout",
     "output_type": "stream",
     "text": [
      "[0, 2, 4, 6, 8]\n"
     ]
    }
   ],
   "source": [
    "print(numeros[0:10:2])"
   ]
  },
  {
   "cell_type": "markdown",
   "id": "61a57a28",
   "metadata": {},
   "source": [
    "```python\n",
    "lista[<inicio>:<final>:<step>]\n",
    "```"
   ]
  },
  {
   "cell_type": "code",
   "execution_count": 49,
   "id": "5e9d7d5e",
   "metadata": {
    "execution": {
     "iopub.execute_input": "2021-05-20T03:49:05.861226Z",
     "iopub.status.busy": "2021-05-20T03:49:05.860201Z",
     "iopub.status.idle": "2021-05-20T03:49:05.862913Z",
     "shell.execute_reply": "2021-05-20T03:49:05.863389Z"
    },
    "lines_to_next_cell": 2
   },
   "outputs": [
    {
     "data": {
      "text/plain": [
       "[1, 2, 3, 4]"
      ]
     },
     "execution_count": 1,
     "metadata": {},
     "output_type": "execute_result"
    }
   ],
   "source": [
    "l1 = [1, 2]\n",
    "l2 = [3, 4]\n",
    "l1 + l2"
   ]
  },
  {
   "cell_type": "code",
   "execution_count": 50,
   "id": "7bee2ae1",
   "metadata": {
    "execution": {
     "iopub.execute_input": "2021-05-20T03:49:05.868450Z",
     "iopub.status.busy": "2021-05-20T03:49:05.867166Z",
     "iopub.status.idle": "2021-05-20T03:49:05.870269Z",
     "shell.execute_reply": "2021-05-20T03:49:05.869762Z"
    }
   },
   "outputs": [
    {
     "name": "stdout",
     "output_type": "stream",
     "text": [
      "[0, 1, 2, 3, 4, 5, 6, 'siete', 8, 9, 10]\n"
     ]
    }
   ],
   "source": [
    "numeros[7] = 'siete'  # Las listas se pueden mutar\n",
    "print(numeros)"
   ]
  },
  {
   "cell_type": "code",
   "execution_count": 51,
   "id": "d522f6e5",
   "metadata": {
    "execution": {
     "iopub.execute_input": "2021-05-20T03:49:05.875215Z",
     "iopub.status.busy": "2021-05-20T03:49:05.873779Z",
     "iopub.status.idle": "2021-05-20T03:49:05.877095Z",
     "shell.execute_reply": "2021-05-20T03:49:05.876593Z"
    }
   },
   "outputs": [
    {
     "name": "stdout",
     "output_type": "stream",
     "text": [
      "[10, 9, 8, 'siete', 6, 5, 4, 3, 2, 1, 0]\n"
     ]
    }
   ],
   "source": [
    "numeros = numeros[::-1]\n",
    "print(numeros)"
   ]
  },
  {
   "cell_type": "code",
   "execution_count": 52,
   "id": "7bf69f63",
   "metadata": {
    "execution": {
     "iopub.execute_input": "2021-05-20T03:49:05.883176Z",
     "iopub.status.busy": "2021-05-20T03:49:05.882579Z",
     "iopub.status.idle": "2021-05-20T03:49:05.885410Z",
     "shell.execute_reply": "2021-05-20T03:49:05.885988Z"
    },
    "tags": [
     "raises-exception"
    ]
   },
   "outputs": [
    {
     "ename": "IndexError",
     "evalue": "list index out of range",
     "output_type": "error",
     "traceback": [
      "\u001b[0;31m---------------------------------------------------------------------------\u001b[0m",
      "\u001b[0;31mIndexError\u001b[0m                                Traceback (most recent call last)",
      "\u001b[0;32m<ipython-input-1-0ef91dd29a9b>\u001b[0m in \u001b[0;36m<module>\u001b[0;34m\u001b[0m\n\u001b[0;32m----> 1\u001b[0;31m \u001b[0mprint\u001b[0m\u001b[0;34m(\u001b[0m\u001b[0mnumeros\u001b[0m\u001b[0;34m[\u001b[0m\u001b[0;36m15\u001b[0m\u001b[0;34m]\u001b[0m\u001b[0;34m)\u001b[0m  \u001b[0;31m# Falla. No se puede acceder a una posición inexistente\u001b[0m\u001b[0;34m\u001b[0m\u001b[0;34m\u001b[0m\u001b[0m\n\u001b[0m",
      "\u001b[0;31mIndexError\u001b[0m: list index out of range"
     ]
    }
   ],
   "source": [
    "print(numeros[15])  # Falla. No se puede acceder a una posición inexistente"
   ]
  },
  {
   "cell_type": "code",
   "execution_count": 53,
   "id": "bd86a99e",
   "metadata": {
    "execution": {
     "iopub.execute_input": "2021-05-20T03:49:05.891664Z",
     "iopub.status.busy": "2021-05-20T03:49:05.890367Z",
     "iopub.status.idle": "2021-05-20T03:49:05.893465Z",
     "shell.execute_reply": "2021-05-20T03:49:05.892967Z"
    }
   },
   "outputs": [
    {
     "name": "stdout",
     "output_type": "stream",
     "text": [
      "palabra\n",
      "a\n",
      "pal\n",
      "abra\n"
     ]
    }
   ],
   "source": [
    "palabra = 'palabra'\n",
    "print(palabra)\n",
    "print(palabra[3])\n",
    "print(palabra[:3])\n",
    "print(palabra[3:])"
   ]
  },
  {
   "cell_type": "code",
   "execution_count": 54,
   "id": "601069c1",
   "metadata": {
    "execution": {
     "iopub.execute_input": "2021-05-20T03:49:05.899072Z",
     "iopub.status.busy": "2021-05-20T03:49:05.897776Z",
     "iopub.status.idle": "2021-05-20T03:49:05.900870Z",
     "shell.execute_reply": "2021-05-20T03:49:05.900372Z"
    }
   },
   "outputs": [
    {
     "name": "stdout",
     "output_type": "stream",
     "text": [
      "(0, 1, 2, 3, 4)\n",
      "(0, 1)\n",
      "(2, 3, 4)\n"
     ]
    }
   ],
   "source": [
    "tupla = (0, 1, 2, 3, 4)\n",
    "\n",
    "print(tupla)\n",
    "print(tupla[:2])\n",
    "print(tupla[2:])"
   ]
  },
  {
   "cell_type": "markdown",
   "id": "a14c497b",
   "metadata": {
    "slideshow": {
     "slide_type": "slide"
    }
   },
   "source": [
    "#### Diccionarios de Python\n",
    "\n",
    "Son como hashmaps, las claves deben ser inmutables para que no pierda sentido el diccionario. Si se pudieran modificar, se podrían cambiar las claves y generaría conflictos.\n",
    "\n",
    "Tipos mutables:\n",
    "- Listas\n",
    "- Diccionarios\n",
    "- Sets\n",
    "\n",
    "Tipos inmutables:\n",
    "- Int\n",
    "- Float\n",
    "- String\n",
    "- Tuplas\n"
   ]
  },
  {
   "cell_type": "code",
   "execution_count": 55,
   "id": "8e7b394c",
   "metadata": {
    "execution": {
     "iopub.execute_input": "2021-05-20T03:49:05.905735Z",
     "iopub.status.busy": "2021-05-20T03:49:05.904567Z",
     "iopub.status.idle": "2021-05-20T03:49:05.907508Z",
     "shell.execute_reply": "2021-05-20T03:49:05.907988Z"
    },
    "slideshow": {
     "slide_type": "slide"
    }
   },
   "outputs": [
    {
     "data": {
      "text/plain": [
       "{}"
      ]
     },
     "execution_count": 1,
     "metadata": {},
     "output_type": "execute_result"
    }
   ],
   "source": [
    "diccionario = {}\n",
    "diccionario"
   ]
  },
  {
   "cell_type": "code",
   "execution_count": 56,
   "id": "d4775ab4",
   "metadata": {
    "execution": {
     "iopub.execute_input": "2021-05-20T03:49:05.912700Z",
     "iopub.status.busy": "2021-05-20T03:49:05.911691Z",
     "iopub.status.idle": "2021-05-20T03:49:05.914385Z",
     "shell.execute_reply": "2021-05-20T03:49:05.914877Z"
    }
   },
   "outputs": [
    {
     "data": {
      "text/plain": [
       "{}"
      ]
     },
     "execution_count": 1,
     "metadata": {},
     "output_type": "execute_result"
    }
   ],
   "source": [
    "diccionario = dict()\n",
    "diccionario"
   ]
  },
  {
   "cell_type": "code",
   "execution_count": 57,
   "id": "a824b1a3",
   "metadata": {
    "execution": {
     "iopub.execute_input": "2021-05-20T03:49:05.920099Z",
     "iopub.status.busy": "2021-05-20T03:49:05.918779Z",
     "iopub.status.idle": "2021-05-20T03:49:05.921902Z",
     "shell.execute_reply": "2021-05-20T03:49:05.921402Z"
    },
    "slideshow": {
     "slide_type": "slide"
    }
   },
   "outputs": [
    {
     "name": "stdout",
     "output_type": "stream",
     "text": [
      "{'clave1': 'valor1', 2: 'valor2', 'clave3': 3}\n"
     ]
    }
   ],
   "source": [
    "# Cómo agregar cosas al diccionario\n",
    "diccionario['clave1'] = 'valor1'\n",
    "diccionario[2] = 'valor2'\n",
    "diccionario['clave3'] = 3\n",
    "print(diccionario)"
   ]
  },
  {
   "cell_type": "markdown",
   "id": "a6f0496f",
   "metadata": {},
   "source": [
    "Hay dos formas de obtener valores de un diccionario:\n",
    "\n",
    "```python\n",
    "diccionario[clave]\n",
    "```\n",
    "\n",
    "El cual devuelve el valor si existe la clave suministrada o bien lanza `KeyError` si no existe."
   ]
  },
  {
   "cell_type": "code",
   "execution_count": 58,
   "id": "f6b1b3ae",
   "metadata": {
    "execution": {
     "iopub.execute_input": "2021-05-20T03:49:05.927174Z",
     "iopub.status.busy": "2021-05-20T03:49:05.925822Z",
     "iopub.status.idle": "2021-05-20T03:49:05.929056Z",
     "shell.execute_reply": "2021-05-20T03:49:05.928551Z"
    }
   },
   "outputs": [
    {
     "data": {
      "text/plain": [
       "'valor1'"
      ]
     },
     "execution_count": 1,
     "metadata": {},
     "output_type": "execute_result"
    }
   ],
   "source": [
    "diccionario['clave1']"
   ]
  },
  {
   "cell_type": "code",
   "execution_count": 59,
   "id": "ff2e1597",
   "metadata": {
    "execution": {
     "iopub.execute_input": "2021-05-20T03:49:05.935377Z",
     "iopub.status.busy": "2021-05-20T03:49:05.934787Z",
     "iopub.status.idle": "2021-05-20T03:49:05.937597Z",
     "shell.execute_reply": "2021-05-20T03:49:05.938081Z"
    },
    "tags": [
     "raises-exception"
    ]
   },
   "outputs": [
    {
     "ename": "KeyError",
     "evalue": "'clave1000'",
     "output_type": "error",
     "traceback": [
      "\u001b[0;31m---------------------------------------------------------------------------\u001b[0m",
      "\u001b[0;31mKeyError\u001b[0m                                  Traceback (most recent call last)",
      "\u001b[0;32m<ipython-input-1-41aae9a2e5ed>\u001b[0m in \u001b[0;36m<module>\u001b[0;34m\u001b[0m\n\u001b[0;32m----> 1\u001b[0;31m \u001b[0mdiccionario\u001b[0m\u001b[0;34m[\u001b[0m\u001b[0;34m'clave1000'\u001b[0m\u001b[0;34m]\u001b[0m\u001b[0;34m\u001b[0m\u001b[0;34m\u001b[0m\u001b[0m\n\u001b[0m",
      "\u001b[0;31mKeyError\u001b[0m: 'clave1000'"
     ]
    }
   ],
   "source": [
    "diccionario['clave1000']"
   ]
  },
  {
   "cell_type": "markdown",
   "id": "e6e29bc6",
   "metadata": {},
   "source": [
    "La segunda forma es con `get`:"
   ]
  },
  {
   "cell_type": "code",
   "execution_count": 60,
   "id": "193eeb61",
   "metadata": {
    "execution": {
     "iopub.execute_input": "2021-05-20T03:49:05.976067Z",
     "iopub.status.busy": "2021-05-20T03:49:05.955535Z",
     "iopub.status.idle": "2021-05-20T03:49:05.992216Z",
     "shell.execute_reply": "2021-05-20T03:49:05.991641Z"
    }
   },
   "outputs": [],
   "source": [
    "diccionario.get?"
   ]
  },
  {
   "cell_type": "code",
   "execution_count": 61,
   "id": "9392fa37",
   "metadata": {
    "execution": {
     "iopub.execute_input": "2021-05-20T03:49:05.997818Z",
     "iopub.status.busy": "2021-05-20T03:49:05.996164Z",
     "iopub.status.idle": "2021-05-20T03:49:05.999613Z",
     "shell.execute_reply": "2021-05-20T03:49:05.999124Z"
    }
   },
   "outputs": [
    {
     "name": "stdout",
     "output_type": "stream",
     "text": [
      "Help on built-in function get:\n",
      "\n",
      "get(key, default=None, /) method of builtins.dict instance\n",
      "    Return the value for key if key is in the dictionary, else default.\n",
      "\n"
     ]
    }
   ],
   "source": [
    "help(diccionario.get)"
   ]
  },
  {
   "cell_type": "code",
   "execution_count": 62,
   "id": "c4dce6f8",
   "metadata": {
    "execution": {
     "iopub.execute_input": "2021-05-20T03:49:06.004331Z",
     "iopub.status.busy": "2021-05-20T03:49:06.003089Z",
     "iopub.status.idle": "2021-05-20T03:49:06.006111Z",
     "shell.execute_reply": "2021-05-20T03:49:06.005618Z"
    },
    "slideshow": {
     "slide_type": "slide"
    }
   },
   "outputs": [
    {
     "name": "stdout",
     "output_type": "stream",
     "text": [
      "None\n"
     ]
    }
   ],
   "source": [
    "print(diccionario.get('clave1000'))"
   ]
  },
  {
   "cell_type": "code",
   "execution_count": 63,
   "id": "324a3133",
   "metadata": {
    "execution": {
     "iopub.execute_input": "2021-05-20T03:49:06.011227Z",
     "iopub.status.busy": "2021-05-20T03:49:06.009959Z",
     "iopub.status.idle": "2021-05-20T03:49:06.013102Z",
     "shell.execute_reply": "2021-05-20T03:49:06.012612Z"
    },
    "slideshow": {
     "slide_type": "slide"
    }
   },
   "outputs": [
    {
     "name": "stdout",
     "output_type": "stream",
     "text": [
      "True\n"
     ]
    }
   ],
   "source": [
    "print('clave1' in diccionario)  # Verifico si la clave está en el diccionario"
   ]
  },
  {
   "cell_type": "code",
   "execution_count": 64,
   "id": "58e2d1ab",
   "metadata": {
    "execution": {
     "iopub.execute_input": "2021-05-20T03:49:06.018278Z",
     "iopub.status.busy": "2021-05-20T03:49:06.016981Z",
     "iopub.status.idle": "2021-05-20T03:49:06.020233Z",
     "shell.execute_reply": "2021-05-20T03:49:06.019669Z"
    }
   },
   "outputs": [
    {
     "data": {
      "text/plain": [
       "True"
      ]
     },
     "execution_count": 1,
     "metadata": {},
     "output_type": "execute_result"
    }
   ],
   "source": [
    "l = [1, 2, 3, 4]\n",
    "2 in l"
   ]
  },
  {
   "cell_type": "code",
   "execution_count": 65,
   "id": "36894095",
   "metadata": {
    "execution": {
     "iopub.execute_input": "2021-05-20T03:49:06.025471Z",
     "iopub.status.busy": "2021-05-20T03:49:06.024145Z",
     "iopub.status.idle": "2021-05-20T03:49:06.027488Z",
     "shell.execute_reply": "2021-05-20T03:49:06.026945Z"
    }
   },
   "outputs": [
    {
     "name": "stdout",
     "output_type": "stream",
     "text": [
      "la clave es clave1 y el valor es valor1\n",
      "la clave es 2 y el valor es valor2\n",
      "la clave es clave3 y el valor es 3\n"
     ]
    }
   ],
   "source": [
    "for clave, valor in diccionario.items():\n",
    "    print(\"la clave es %s y el valor es %s\" % (clave, valor))"
   ]
  },
  {
   "cell_type": "code",
   "execution_count": 66,
   "id": "5bd686ea",
   "metadata": {
    "execution": {
     "iopub.execute_input": "2021-05-20T03:49:06.032821Z",
     "iopub.status.busy": "2021-05-20T03:49:06.031535Z",
     "iopub.status.idle": "2021-05-20T03:49:06.034598Z",
     "shell.execute_reply": "2021-05-20T03:49:06.034107Z"
    }
   },
   "outputs": [
    {
     "name": "stdout",
     "output_type": "stream",
     "text": [
      "la clave es clave1 y el valor es valor1\n",
      "la clave es 2 y el valor es valor2\n",
      "la clave es clave3 y el valor es 3\n"
     ]
    }
   ],
   "source": [
    "for clave, valor in diccionario.items():\n",
    "    print(\"la clave es {} y el valor es {}\".format(clave, valor))"
   ]
  },
  {
   "cell_type": "code",
   "execution_count": 67,
   "id": "c9f13485",
   "metadata": {
    "execution": {
     "iopub.execute_input": "2021-05-20T03:49:06.040113Z",
     "iopub.status.busy": "2021-05-20T03:49:06.038826Z",
     "iopub.status.idle": "2021-05-20T03:49:06.041891Z",
     "shell.execute_reply": "2021-05-20T03:49:06.041393Z"
    },
    "slideshow": {
     "slide_type": "slide"
    }
   },
   "outputs": [
    {
     "name": "stdout",
     "output_type": "stream",
     "text": [
      "la clave es clave1 y el valor es valor1\n",
      "la clave es 2 y el valor es valor2\n",
      "la clave es clave3 y el valor es 3\n"
     ]
    }
   ],
   "source": [
    "# Cómo iterar un diccionario elemento por elemento\n",
    "for (\n",
    "    clave,\n",
    "    valor,\n",
    ") in (\n",
    "    diccionario.items()\n",
    "):  # diccionario.items() va devolviendo tuplas con el formato (clave,valor)\n",
    "    print(\n",
    "        f\"la clave es {clave} y el valor es {valor}\"\n",
    "    )  # con esta sintaxis se desempaquetan en clave y valor (similar a enumerate)"
   ]
  },
  {
   "cell_type": "code",
   "execution_count": 68,
   "id": "8eb5388f",
   "metadata": {
    "execution": {
     "iopub.execute_input": "2021-05-20T03:49:06.047370Z",
     "iopub.status.busy": "2021-05-20T03:49:06.045808Z",
     "iopub.status.idle": "2021-05-20T03:49:06.049146Z",
     "shell.execute_reply": "2021-05-20T03:49:06.048656Z"
    },
    "slideshow": {
     "slide_type": "slide"
    }
   },
   "outputs": [
    {
     "name": "stdout",
     "output_type": "stream",
     "text": [
      "clave1\n",
      "2\n",
      "clave3\n"
     ]
    }
   ],
   "source": [
    "for clave in diccionario.keys():\n",
    "    print(clave)"
   ]
  },
  {
   "cell_type": "code",
   "execution_count": 69,
   "id": "289e9e89",
   "metadata": {
    "execution": {
     "iopub.execute_input": "2021-05-20T03:49:06.054062Z",
     "iopub.status.busy": "2021-05-20T03:49:06.052823Z",
     "iopub.status.idle": "2021-05-20T03:49:06.055875Z",
     "shell.execute_reply": "2021-05-20T03:49:06.055381Z"
    },
    "slideshow": {
     "slide_type": "slide"
    }
   },
   "outputs": [
    {
     "name": "stdout",
     "output_type": "stream",
     "text": [
      "valor1\n",
      "valor2\n",
      "3\n"
     ]
    }
   ],
   "source": [
    "for valor in diccionario.values():\n",
    "    print(valor)"
   ]
  },
  {
   "cell_type": "markdown",
   "id": "07ffc24a",
   "metadata": {},
   "source": [
    "#### Sets\n",
    "\n",
    "Son similares a los diccionarios (en eficiencia) pero se almacenan solo claves, y tienen algunas operaciones particulares.\n",
    "\n",
    "En particular, no pueden tener elementos iguales (pensar que son conjuntos)"
   ]
  },
  {
   "cell_type": "code",
   "execution_count": 70,
   "id": "e74a911d",
   "metadata": {
    "execution": {
     "iopub.execute_input": "2021-05-20T03:49:06.059628Z",
     "iopub.status.busy": "2021-05-20T03:49:06.059060Z",
     "iopub.status.idle": "2021-05-20T03:49:06.062918Z",
     "shell.execute_reply": "2021-05-20T03:49:06.063374Z"
    }
   },
   "outputs": [],
   "source": [
    "set??"
   ]
  },
  {
   "cell_type": "code",
   "execution_count": 71,
   "id": "195d0d8b",
   "metadata": {
    "execution": {
     "iopub.execute_input": "2021-05-20T03:49:06.068748Z",
     "iopub.status.busy": "2021-05-20T03:49:06.067762Z",
     "iopub.status.idle": "2021-05-20T03:49:06.070385Z",
     "shell.execute_reply": "2021-05-20T03:49:06.070870Z"
    }
   },
   "outputs": [
    {
     "data": {
      "text/plain": [
       "{1, 2, 3}"
      ]
     },
     "execution_count": 1,
     "metadata": {},
     "output_type": "execute_result"
    }
   ],
   "source": [
    "# Se definen como los diccionarios pero sin hacerlos 'clave:valor', solamente una seguidilla de elementos\n",
    "{1, 2, 2, 3}"
   ]
  },
  {
   "cell_type": "code",
   "execution_count": 72,
   "id": "242d582b",
   "metadata": {
    "execution": {
     "iopub.execute_input": "2021-05-20T03:49:06.075639Z",
     "iopub.status.busy": "2021-05-20T03:49:06.074642Z",
     "iopub.status.idle": "2021-05-20T03:49:06.077727Z",
     "shell.execute_reply": "2021-05-20T03:49:06.078204Z"
    }
   },
   "outputs": [
    {
     "data": {
      "text/plain": [
       "{1, 2, 3}"
      ]
     },
     "execution_count": 1,
     "metadata": {},
     "output_type": "execute_result"
    }
   ],
   "source": [
    "set([1, 2, 2, 3])"
   ]
  },
  {
   "cell_type": "markdown",
   "id": "2b71d1d8",
   "metadata": {},
   "source": [
    "## Condicionales (if...elif...else)\n",
    "\n",
    "```python\n",
    "if <condición_1>:\n",
    "    <hacer algo_1 si se da la condición_1>\n",
    "elif <condición_2>:\n",
    "    <hacer algo_2 si se da la condición_2>\n",
    "...\n",
    "elif <condición_n>:\n",
    "    <hacer algo_n si se da la condición_n>\n",
    "else:\n",
    "    <hacer otra cosa si no dan las anteriores>\n",
    "```\n",
    "\n",
    "Algo importante para notar es que los bloques se definen por **niveles de identacion**."
   ]
  },
  {
   "cell_type": "code",
   "execution_count": 73,
   "id": "31b8686e",
   "metadata": {
    "execution": {
     "iopub.execute_input": "2021-05-20T03:49:06.083455Z",
     "iopub.status.busy": "2021-05-20T03:49:06.082191Z",
     "iopub.status.idle": "2021-05-20T03:49:06.085232Z",
     "shell.execute_reply": "2021-05-20T03:49:06.084737Z"
    }
   },
   "outputs": [
    {
     "name": "stdout",
     "output_type": "stream",
     "text": [
      "uno\n"
     ]
    }
   ],
   "source": [
    "v = 1\n",
    "if v == 1:\n",
    "    print(\"uno\")\n",
    "elif v == 2:\n",
    "    print(\"dos\")\n",
    "else:\n",
    "    print(\"ni idea\")\n",
    "    print(v)"
   ]
  },
  {
   "cell_type": "markdown",
   "id": "16fa7d73",
   "metadata": {},
   "source": [
    "## Iteraciones\n",
    "\n",
    "```python\n",
    "while cond:\n",
    "    <codigo>\n",
    "```\n",
    "\n",
    "```python\n",
    "for elemento in iterable:\n",
    "    <codigo>\n",
    "```\n",
    "\n",
    "Para iterar sobre un rango de valores, usamos `range`"
   ]
  },
  {
   "cell_type": "code",
   "execution_count": 74,
   "id": "5cb8961c",
   "metadata": {
    "execution": {
     "iopub.execute_input": "2021-05-20T03:49:06.090471Z",
     "iopub.status.busy": "2021-05-20T03:49:06.089476Z",
     "iopub.status.idle": "2021-05-20T03:49:06.092544Z",
     "shell.execute_reply": "2021-05-20T03:49:06.092070Z"
    }
   },
   "outputs": [
    {
     "name": "stdout",
     "output_type": "stream",
     "text": [
      "1\n",
      "4\n",
      "7\n",
      "10\n"
     ]
    }
   ],
   "source": [
    "for i in range(1, 11, 3):\n",
    "    print(i)"
   ]
  },
  {
   "cell_type": "markdown",
   "id": "3b8c4bff",
   "metadata": {},
   "source": [
    "## Operadores logicos\n",
    "\n",
    "`not`, `or`, `and`"
   ]
  },
  {
   "cell_type": "code",
   "execution_count": 75,
   "id": "5a875865",
   "metadata": {
    "execution": {
     "iopub.execute_input": "2021-05-20T03:49:06.097330Z",
     "iopub.status.busy": "2021-05-20T03:49:06.096005Z",
     "iopub.status.idle": "2021-05-20T03:49:06.099165Z",
     "shell.execute_reply": "2021-05-20T03:49:06.098656Z"
    }
   },
   "outputs": [
    {
     "name": "stdout",
     "output_type": "stream",
     "text": [
      "yay\n"
     ]
    }
   ],
   "source": [
    "if True or False:\n",
    "    print(\"yay\")"
   ]
  },
  {
   "cell_type": "code",
   "execution_count": 76,
   "id": "5cb6ed7f",
   "metadata": {
    "execution": {
     "iopub.execute_input": "2021-05-20T03:49:06.103740Z",
     "iopub.status.busy": "2021-05-20T03:49:06.102731Z",
     "iopub.status.idle": "2021-05-20T03:49:06.105413Z",
     "shell.execute_reply": "2021-05-20T03:49:06.105876Z"
    }
   },
   "outputs": [
    {
     "data": {
      "text/plain": [
       "False"
      ]
     },
     "execution_count": 1,
     "metadata": {},
     "output_type": "execute_result"
    }
   ],
   "source": [
    "1 == 2"
   ]
  },
  {
   "cell_type": "code",
   "execution_count": 77,
   "id": "2e1f60f8",
   "metadata": {
    "execution": {
     "iopub.execute_input": "2021-05-20T03:49:06.110464Z",
     "iopub.status.busy": "2021-05-20T03:49:06.109690Z",
     "iopub.status.idle": "2021-05-20T03:49:06.112313Z",
     "shell.execute_reply": "2021-05-20T03:49:06.112773Z"
    }
   },
   "outputs": [
    {
     "data": {
      "text/plain": [
       "True"
      ]
     },
     "execution_count": 1,
     "metadata": {},
     "output_type": "execute_result"
    }
   ],
   "source": [
    "1 != 2"
   ]
  },
  {
   "cell_type": "markdown",
   "id": "b9dc2cec",
   "metadata": {
    "slideshow": {
     "slide_type": "slide"
    }
   },
   "source": [
    "## Funciones en Python"
   ]
  },
  {
   "cell_type": "code",
   "execution_count": 78,
   "id": "5ede4dc8",
   "metadata": {
    "execution": {
     "iopub.execute_input": "2021-05-20T03:49:06.120089Z",
     "iopub.status.busy": "2021-05-20T03:49:06.118843Z",
     "iopub.status.idle": "2021-05-20T03:49:06.121872Z",
     "shell.execute_reply": "2021-05-20T03:49:06.121376Z"
    },
    "slideshow": {
     "slide_type": "slide"
    }
   },
   "outputs": [
    {
     "name": "stdout",
     "output_type": "stream",
     "text": [
      "True\n",
      "False\n"
     ]
    }
   ],
   "source": [
    "def busqueda_binaria(lista, elemento):\n",
    "    if not lista:\n",
    "        return False\n",
    "    elif len(lista) == 1:\n",
    "        return lista[0] == elemento\n",
    "    mitad = len(lista) // 2  # // es la operación división entera\n",
    "    if lista[mitad] == elemento:\n",
    "        return True\n",
    "    if lista[mitad] > elemento:\n",
    "        return busqueda_binaria(lista[:mitad], elemento)\n",
    "    if lista[mitad] < elemento:\n",
    "        return busqueda_binaria(lista[mitad:], elemento)\n",
    "\n",
    "\n",
    "print(busqueda_binaria([1, 2, 3, 4, 5], 4))\n",
    "print(busqueda_binaria([1, 4, 6, 7, 9, 10], 2))"
   ]
  },
  {
   "cell_type": "code",
   "execution_count": 79,
   "id": "76d2f199",
   "metadata": {
    "execution": {
     "iopub.execute_input": "2021-05-20T03:49:06.126983Z",
     "iopub.status.busy": "2021-05-20T03:49:06.125711Z",
     "iopub.status.idle": "2021-05-20T03:49:06.129005Z",
     "shell.execute_reply": "2021-05-20T03:49:06.128500Z"
    }
   },
   "outputs": [
    {
     "name": "stdout",
     "output_type": "stream",
     "text": [
      "(3, 3, 3)\n"
     ]
    }
   ],
   "source": [
    "def a(b):\n",
    "    if a == 1:\n",
    "        print(a)\n",
    "    return (b, b, b)\n",
    "\n",
    "\n",
    "print(a(3))"
   ]
  },
  {
   "cell_type": "code",
   "execution_count": 80,
   "id": "6dba16c0",
   "metadata": {
    "execution": {
     "iopub.execute_input": "2021-05-20T03:49:06.133936Z",
     "iopub.status.busy": "2021-05-20T03:49:06.132756Z",
     "iopub.status.idle": "2021-05-20T03:49:06.141714Z",
     "shell.execute_reply": "2021-05-20T03:49:06.142221Z"
    },
    "lines_to_next_cell": 2,
    "slideshow": {
     "slide_type": "slide"
    },
    "tags": [
     "raises-exception"
    ]
   },
   "outputs": [
    {
     "name": "stdout",
     "output_type": "stream",
     "text": [
      "3\n",
      "3.0\n",
      "3.0\n",
      "hola como te va\n",
      "[1, 2, 3, 4, 5]\n"
     ]
    },
    {
     "ename": "TypeError",
     "evalue": "can only concatenate str (not \"int\") to str",
     "output_type": "error",
     "traceback": [
      "\u001b[0;31m---------------------------------------------------------------------------\u001b[0m",
      "\u001b[0;31mTypeError\u001b[0m                                 Traceback (most recent call last)",
      "\u001b[0;32m<ipython-input-1-c2a6a99a90c7>\u001b[0m in \u001b[0;36m<module>\u001b[0;34m\u001b[0m\n\u001b[1;32m      8\u001b[0m \u001b[0mprint\u001b[0m\u001b[0;34m(\u001b[0m\u001b[0msuma\u001b[0m\u001b[0;34m(\u001b[0m\u001b[0;34m\"hola \"\u001b[0m\u001b[0;34m,\u001b[0m \u001b[0;34m\"como te va\"\u001b[0m\u001b[0;34m)\u001b[0m\u001b[0;34m)\u001b[0m\u001b[0;34m\u001b[0m\u001b[0;34m\u001b[0m\u001b[0m\n\u001b[1;32m      9\u001b[0m \u001b[0mprint\u001b[0m\u001b[0;34m(\u001b[0m\u001b[0msuma\u001b[0m\u001b[0;34m(\u001b[0m\u001b[0;34m[\u001b[0m\u001b[0;36m1\u001b[0m\u001b[0;34m,\u001b[0m \u001b[0;36m2\u001b[0m\u001b[0;34m,\u001b[0m \u001b[0;36m3\u001b[0m\u001b[0;34m]\u001b[0m\u001b[0;34m,\u001b[0m \u001b[0;34m[\u001b[0m\u001b[0;36m4\u001b[0m\u001b[0;34m,\u001b[0m \u001b[0;36m5\u001b[0m\u001b[0;34m]\u001b[0m\u001b[0;34m)\u001b[0m\u001b[0;34m)\u001b[0m\u001b[0;34m\u001b[0m\u001b[0;34m\u001b[0m\u001b[0m\n\u001b[0;32m---> 10\u001b[0;31m \u001b[0mprint\u001b[0m\u001b[0;34m(\u001b[0m\u001b[0msuma\u001b[0m\u001b[0;34m(\u001b[0m\u001b[0;34m\"1\"\u001b[0m\u001b[0;34m,\u001b[0m \u001b[0;36m3\u001b[0m\u001b[0;34m)\u001b[0m\u001b[0;34m)\u001b[0m  \u001b[0;31m# Falla\u001b[0m\u001b[0;34m\u001b[0m\u001b[0;34m\u001b[0m\u001b[0m\n\u001b[0m",
      "\u001b[0;32m<ipython-input-1-c2a6a99a90c7>\u001b[0m in \u001b[0;36msuma\u001b[0;34m(a, b)\u001b[0m\n\u001b[1;32m      1\u001b[0m \u001b[0;32mdef\u001b[0m \u001b[0msuma\u001b[0m\u001b[0;34m(\u001b[0m\u001b[0ma\u001b[0m\u001b[0;34m,\u001b[0m \u001b[0mb\u001b[0m\u001b[0;34m)\u001b[0m\u001b[0;34m:\u001b[0m\u001b[0;34m\u001b[0m\u001b[0;34m\u001b[0m\u001b[0m\n\u001b[0;32m----> 2\u001b[0;31m     \u001b[0;32mreturn\u001b[0m \u001b[0ma\u001b[0m \u001b[0;34m+\u001b[0m \u001b[0mb\u001b[0m\u001b[0;34m\u001b[0m\u001b[0;34m\u001b[0m\u001b[0m\n\u001b[0m\u001b[1;32m      3\u001b[0m \u001b[0;34m\u001b[0m\u001b[0m\n\u001b[1;32m      4\u001b[0m \u001b[0;34m\u001b[0m\u001b[0m\n\u001b[1;32m      5\u001b[0m \u001b[0mprint\u001b[0m\u001b[0;34m(\u001b[0m\u001b[0msuma\u001b[0m\u001b[0;34m(\u001b[0m\u001b[0;36m1\u001b[0m\u001b[0;34m,\u001b[0m \u001b[0;36m2\u001b[0m\u001b[0;34m)\u001b[0m\u001b[0;34m)\u001b[0m\u001b[0;34m\u001b[0m\u001b[0;34m\u001b[0m\u001b[0m\n",
      "\u001b[0;31mTypeError\u001b[0m: can only concatenate str (not \"int\") to str"
     ]
    }
   ],
   "source": [
    "def suma(a, b):\n",
    "    return a + b\n",
    "\n",
    "\n",
    "print(suma(1, 2))\n",
    "print(suma(1.0, 2.0))\n",
    "print(suma(1.0, 2))\n",
    "print(suma(\"hola \", \"como te va\"))\n",
    "print(suma([1, 2, 3], [4, 5]))\n",
    "print(suma(\"1\", 3))  # Falla"
   ]
  },
  {
   "cell_type": "code",
   "execution_count": 81,
   "id": "a70e1a97",
   "metadata": {
    "execution": {
     "iopub.execute_input": "2021-05-20T03:49:06.147246Z",
     "iopub.status.busy": "2021-05-20T03:49:06.145962Z",
     "iopub.status.idle": "2021-05-20T03:49:06.149385Z",
     "shell.execute_reply": "2021-05-20T03:49:06.148879Z"
    }
   },
   "outputs": [
    {
     "name": "stdout",
     "output_type": "stream",
     "text": [
      "2.0\n"
     ]
    }
   ],
   "source": [
    "# El valor por default de divisor es 1\n",
    "\n",
    "\n",
    "def division(dividendo, divisor=2):\n",
    "    return dividendo / divisor\n",
    "\n",
    "\n",
    "print(division(4))  # Usa el valor por default"
   ]
  },
  {
   "cell_type": "code",
   "execution_count": 82,
   "id": "f8ad5622",
   "metadata": {
    "execution": {
     "iopub.execute_input": "2021-05-20T03:49:06.157416Z",
     "iopub.status.busy": "2021-05-20T03:49:06.156817Z",
     "iopub.status.idle": "2021-05-20T03:49:06.161040Z",
     "shell.execute_reply": "2021-05-20T03:49:06.160512Z"
    },
    "tags": [
     "raises-exception"
    ]
   },
   "outputs": [
    {
     "name": "stdout",
     "output_type": "stream",
     "text": [
      "0.5\n",
      "0.5\n"
     ]
    },
    {
     "ename": "TypeError",
     "evalue": "division() missing 1 required positional argument: 'dividendo'",
     "output_type": "error",
     "traceback": [
      "\u001b[0;31m---------------------------------------------------------------------------\u001b[0m",
      "\u001b[0;31mTypeError\u001b[0m                                 Traceback (most recent call last)",
      "\u001b[0;32m<ipython-input-1-34eff3833138>\u001b[0m in \u001b[0;36m<module>\u001b[0;34m\u001b[0m\n\u001b[1;32m      1\u001b[0m \u001b[0mprint\u001b[0m\u001b[0;34m(\u001b[0m\u001b[0mdivision\u001b[0m\u001b[0;34m(\u001b[0m\u001b[0;36m1\u001b[0m\u001b[0;34m,\u001b[0m \u001b[0;36m2\u001b[0m\u001b[0;34m)\u001b[0m\u001b[0;34m)\u001b[0m  \u001b[0;31m# Parámetros por orden\u001b[0m\u001b[0;34m\u001b[0m\u001b[0;34m\u001b[0m\u001b[0m\n\u001b[1;32m      2\u001b[0m \u001b[0mprint\u001b[0m\u001b[0;34m(\u001b[0m\u001b[0mdivision\u001b[0m\u001b[0;34m(\u001b[0m\u001b[0mdividendo\u001b[0m\u001b[0;34m=\u001b[0m\u001b[0;36m1\u001b[0m\u001b[0;34m,\u001b[0m \u001b[0mdivisor\u001b[0m\u001b[0;34m=\u001b[0m\u001b[0;36m2\u001b[0m\u001b[0;34m)\u001b[0m\u001b[0;34m)\u001b[0m  \u001b[0;31m# Parámetros por nombre\u001b[0m\u001b[0;34m\u001b[0m\u001b[0;34m\u001b[0m\u001b[0m\n\u001b[0;32m----> 3\u001b[0;31m \u001b[0mprint\u001b[0m\u001b[0;34m(\u001b[0m\u001b[0mdivision\u001b[0m\u001b[0;34m(\u001b[0m\u001b[0mdivisor\u001b[0m\u001b[0;34m=\u001b[0m\u001b[0;36m2\u001b[0m\u001b[0;34m)\u001b[0m\u001b[0;34m)\u001b[0m\u001b[0;34m\u001b[0m\u001b[0;34m\u001b[0m\u001b[0m\n\u001b[0m",
      "\u001b[0;31mTypeError\u001b[0m: division() missing 1 required positional argument: 'dividendo'"
     ]
    }
   ],
   "source": [
    "print(division(1, 2))  # Parámetros por orden\n",
    "print(division(dividendo=1, divisor=2))  # Parámetros por nombre\n",
    "print(division(divisor=2))"
   ]
  },
  {
   "cell_type": "code",
   "execution_count": 83,
   "id": "e55fefd3",
   "metadata": {
    "execution": {
     "iopub.execute_input": "2021-05-20T03:49:06.165748Z",
     "iopub.status.busy": "2021-05-20T03:49:06.165174Z",
     "iopub.status.idle": "2021-05-20T03:49:06.168865Z",
     "shell.execute_reply": "2021-05-20T03:49:06.169393Z"
    }
   },
   "outputs": [
    {
     "name": "stdout",
     "output_type": "stream",
     "text": [
      "0.5\n"
     ]
    }
   ],
   "source": [
    "print(division(divisor=2, dividendo=1))"
   ]
  },
  {
   "cell_type": "code",
   "execution_count": 84,
   "id": "47a541e4",
   "metadata": {
    "execution": {
     "iopub.execute_input": "2021-05-20T03:49:06.175694Z",
     "iopub.status.busy": "2021-05-20T03:49:06.174401Z",
     "iopub.status.idle": "2021-05-20T03:49:06.177478Z",
     "shell.execute_reply": "2021-05-20T03:49:06.176984Z"
    }
   },
   "outputs": [
    {
     "name": "stdout",
     "output_type": "stream",
     "text": [
      "['a', 'b', 'c']\n",
      "[1, 2, 3]\n",
      "['hola', ' don', ' pepito']\n",
      "hola -  don -  pepito\n"
     ]
    }
   ],
   "source": [
    "# Funciones básicas ya en el lenguaje\n",
    "# Hechas para funcionar para distintos tipos\n",
    "\n",
    "string_ordenado = sorted('bca')\n",
    "print(string_ordenado)\n",
    "\n",
    "lista_ordenada = sorted([1, 3, 2])\n",
    "print(lista_ordenada)\n",
    "\n",
    "separadas = \"hola, don, pepito\".split(\",\")\n",
    "print(separadas)\n",
    "unidas = \" - \".join(separadas)\n",
    "print(unidas)"
   ]
  },
  {
   "cell_type": "markdown",
   "id": "6107515e",
   "metadata": {},
   "source": [
    "## Módulos\n",
    "\n",
    "Para incluir alguna biblioteca de funciones se usa `import`. Pueden ser cosas ya predefinidas en Python (`math`, `random`, etc), nombres de archivos en nuestro directorio (por ejemplo, para `mimodulo.py` ponemos `import mimodulo`) o bibliotecas instaladas por el usuario"
   ]
  },
  {
   "cell_type": "code",
   "execution_count": 85,
   "id": "9024d0f0",
   "metadata": {
    "execution": {
     "iopub.execute_input": "2021-05-20T03:49:06.182339Z",
     "iopub.status.busy": "2021-05-20T03:49:06.181100Z",
     "iopub.status.idle": "2021-05-20T03:49:06.184150Z",
     "shell.execute_reply": "2021-05-20T03:49:06.183658Z"
    }
   },
   "outputs": [
    {
     "name": "stdout",
     "output_type": "stream",
     "text": [
      "3.141592653589793\n"
     ]
    }
   ],
   "source": [
    "import math\n",
    "\n",
    "print(math.pi)"
   ]
  },
  {
   "cell_type": "code",
   "execution_count": 86,
   "id": "7d613cdc",
   "metadata": {
    "execution": {
     "iopub.execute_input": "2021-05-20T03:49:06.189189Z",
     "iopub.status.busy": "2021-05-20T03:49:06.187763Z",
     "iopub.status.idle": "2021-05-20T03:49:06.191140Z",
     "shell.execute_reply": "2021-05-20T03:49:06.190632Z"
    }
   },
   "outputs": [
    {
     "name": "stdout",
     "output_type": "stream",
     "text": [
      "3.141592653589793 2.718281828459045\n"
     ]
    }
   ],
   "source": [
    "from math import pi, e\n",
    "\n",
    "print(pi, e)"
   ]
  },
  {
   "cell_type": "code",
   "execution_count": 87,
   "id": "f4bf0c1a",
   "metadata": {
    "execution": {
     "iopub.execute_input": "2021-05-20T03:49:06.195974Z",
     "iopub.status.busy": "2021-05-20T03:49:06.194975Z",
     "iopub.status.idle": "2021-05-20T03:49:06.197649Z",
     "shell.execute_reply": "2021-05-20T03:49:06.198115Z"
    }
   },
   "outputs": [
    {
     "data": {
      "text/plain": [
       "2"
      ]
     },
     "execution_count": 1,
     "metadata": {},
     "output_type": "execute_result"
    }
   ],
   "source": [
    "math.gcd(56, 78)"
   ]
  },
  {
   "cell_type": "markdown",
   "id": "a1a62e61",
   "metadata": {},
   "source": [
    "## Manejo de excepciones\n",
    "\n",
    "Se pueden encapsular errores esperados en un bloque 'try/except' para evitar cortar el flujo del programa"
   ]
  },
  {
   "cell_type": "code",
   "execution_count": 88,
   "id": "08b2aa32",
   "metadata": {
    "execution": {
     "iopub.execute_input": "2021-05-20T03:49:06.206235Z",
     "iopub.status.busy": "2021-05-20T03:49:06.205673Z",
     "iopub.status.idle": "2021-05-20T03:49:06.208258Z",
     "shell.execute_reply": "2021-05-20T03:49:06.208930Z"
    },
    "tags": [
     "raises-exception"
    ]
   },
   "outputs": [
    {
     "ename": "ZeroDivisionError",
     "evalue": "division by zero",
     "output_type": "error",
     "traceback": [
      "\u001b[0;31m---------------------------------------------------------------------------\u001b[0m",
      "\u001b[0;31mZeroDivisionError\u001b[0m                         Traceback (most recent call last)",
      "\u001b[0;32m<ipython-input-1-f031f77b1a55>\u001b[0m in \u001b[0;36m<module>\u001b[0;34m\u001b[0m\n\u001b[0;32m----> 1\u001b[0;31m \u001b[0mdivision\u001b[0m\u001b[0;34m(\u001b[0m\u001b[0;36m1\u001b[0m\u001b[0;34m,\u001b[0m \u001b[0;36m0\u001b[0m\u001b[0;34m)\u001b[0m  \u001b[0;31m# No se puede dividir por cero\u001b[0m\u001b[0;34m\u001b[0m\u001b[0;34m\u001b[0m\u001b[0m\n\u001b[0m",
      "\u001b[0;32m<ipython-input-1-0d991d7de762>\u001b[0m in \u001b[0;36mdivision\u001b[0;34m(dividendo, divisor)\u001b[0m\n\u001b[1;32m      3\u001b[0m \u001b[0;34m\u001b[0m\u001b[0m\n\u001b[1;32m      4\u001b[0m \u001b[0;32mdef\u001b[0m \u001b[0mdivision\u001b[0m\u001b[0;34m(\u001b[0m\u001b[0mdividendo\u001b[0m\u001b[0;34m,\u001b[0m \u001b[0mdivisor\u001b[0m\u001b[0;34m=\u001b[0m\u001b[0;36m2\u001b[0m\u001b[0;34m)\u001b[0m\u001b[0;34m:\u001b[0m\u001b[0;34m\u001b[0m\u001b[0;34m\u001b[0m\u001b[0m\n\u001b[0;32m----> 5\u001b[0;31m     \u001b[0;32mreturn\u001b[0m \u001b[0mdividendo\u001b[0m \u001b[0;34m/\u001b[0m \u001b[0mdivisor\u001b[0m\u001b[0;34m\u001b[0m\u001b[0;34m\u001b[0m\u001b[0m\n\u001b[0m\u001b[1;32m      6\u001b[0m \u001b[0;34m\u001b[0m\u001b[0m\n\u001b[1;32m      7\u001b[0m \u001b[0;34m\u001b[0m\u001b[0m\n",
      "\u001b[0;31mZeroDivisionError\u001b[0m: division by zero"
     ]
    }
   ],
   "source": [
    "division(1, 0)  # No se puede dividir por cero"
   ]
  },
  {
   "cell_type": "code",
   "execution_count": 89,
   "id": "7c218f47",
   "metadata": {
    "execution": {
     "iopub.execute_input": "2021-05-20T03:49:06.214262Z",
     "iopub.status.busy": "2021-05-20T03:49:06.213020Z",
     "iopub.status.idle": "2021-05-20T03:49:06.216063Z",
     "shell.execute_reply": "2021-05-20T03:49:06.215572Z"
    }
   },
   "outputs": [
    {
     "name": "stdout",
     "output_type": "stream",
     "text": [
      "No se puede dividir por cero, ojo! division by zero\n",
      "1\n"
     ]
    }
   ],
   "source": [
    "try:\n",
    "    division(1, 0)\n",
    "except (ZeroDivisionError, TypeError) as e:\n",
    "    print('No se puede dividir por cero, ojo!', e)\n",
    "finally:\n",
    "    print(1)"
   ]
  },
  {
   "cell_type": "markdown",
   "id": "8d86fe52",
   "metadata": {
    "slideshow": {
     "slide_type": "slide"
    }
   },
   "source": [
    "## Lectura y escritura de archivos"
   ]
  },
  {
   "cell_type": "code",
   "execution_count": 90,
   "id": "c64e39cd",
   "metadata": {
    "execution": {
     "iopub.execute_input": "2021-05-20T03:49:06.221550Z",
     "iopub.status.busy": "2021-05-20T03:49:06.220560Z",
     "iopub.status.idle": "2021-05-20T03:49:06.223605Z",
     "shell.execute_reply": "2021-05-20T03:49:06.223129Z"
    },
    "slideshow": {
     "slide_type": "slide"
    }
   },
   "outputs": [
    {
     "name": "stdout",
     "output_type": "stream",
     "text": [
      "<_io.TextIOWrapper name='archivo.csv' mode='w' encoding='UTF-8'>\n"
     ]
    }
   ],
   "source": [
    "import random\n",
    "\n",
    "with open(\n",
    "    'archivo.csv', 'w'\n",
    ") as archivo:  # Al usar esta sintaxis no es necesario hacer close\n",
    "    archivo.write(\"Alumno, nota\\n\")\n",
    "    # Tambien de forma similar al fprintf se puede hacer:\n",
    "    # print(\"Alumno, nota\\n\", file=archivo)\n",
    "    for i in range(0, 10):\n",
    "        archivo.write(f\"{i},{random.randrange(0,10)}\\n\")\n",
    "\n",
    "print(archivo)  # Comentario aclaratorio:\n",
    "# Las variables definidas en un determinado scope siguen existiendo por fuera del mismo.\n",
    "# Se debe tener cuidado con esto, ya que nada garantiza que por fuera el valor sea el esperado."
   ]
  },
  {
   "cell_type": "code",
   "execution_count": 91,
   "id": "438c548b",
   "metadata": {
    "execution": {
     "iopub.execute_input": "2021-05-20T03:49:06.229540Z",
     "iopub.status.busy": "2021-05-20T03:49:06.228339Z",
     "iopub.status.idle": "2021-05-20T03:49:06.231631Z",
     "shell.execute_reply": "2021-05-20T03:49:06.231155Z"
    },
    "slideshow": {
     "slide_type": "slide"
    }
   },
   "outputs": [
    {
     "name": "stdout",
     "output_type": "stream",
     "text": [
      "Alumno, nota\n",
      "0,2\n",
      "1,5\n",
      "2,5\n",
      "3,9\n",
      "4,5\n",
      "5,1\n",
      "6,5\n",
      "7,8\n",
      "8,1\n",
      "9,8\n"
     ]
    }
   ],
   "source": [
    "with open('archivo.csv', 'r') as f:\n",
    "    for linea in f:\n",
    "        print(linea.strip())"
   ]
  },
  {
   "cell_type": "code",
   "execution_count": 92,
   "id": "ed400cf5",
   "metadata": {
    "execution": {
     "iopub.execute_input": "2021-05-20T03:49:06.236198Z",
     "iopub.status.busy": "2021-05-20T03:49:06.235216Z",
     "iopub.status.idle": "2021-05-20T03:49:06.237844Z",
     "shell.execute_reply": "2021-05-20T03:49:06.238310Z"
    }
   },
   "outputs": [
    {
     "name": "stdout",
     "output_type": "stream",
     "text": [
      "Alumno, nota\n",
      "0,2\n",
      "1,5\n",
      "2,5\n",
      "3,9\n",
      "4,5\n",
      "5,1\n",
      "6,5\n",
      "7,8\n",
      "8,1\n",
      "9,8\n",
      "\n"
     ]
    }
   ],
   "source": [
    "with open('archivo.csv', 'r') as f:\n",
    "    print(f.read())"
   ]
  },
  {
   "cell_type": "code",
   "execution_count": 93,
   "id": "ba40cb03",
   "metadata": {
    "execution": {
     "iopub.execute_input": "2021-05-20T03:49:06.242398Z",
     "iopub.status.busy": "2021-05-20T03:49:06.241837Z",
     "iopub.status.idle": "2021-05-20T03:49:06.244434Z",
     "shell.execute_reply": "2021-05-20T03:49:06.243925Z"
    }
   },
   "outputs": [],
   "source": [
    "f = open('archivo.csv', 'w')\n",
    "f.write(\"algo, algo\")\n",
    "f.close()"
   ]
  },
  {
   "cell_type": "markdown",
   "id": "914c9184",
   "metadata": {
    "slideshow": {
     "slide_type": "slide"
    }
   },
   "source": [
    "## Objetos\n",
    "\n",
    "Los objetos tienen metodos y atributos:\n",
    "- Atributos: equivalentes a variables.\n",
    "- Métodos: equivalentes a las primitivas."
   ]
  },
  {
   "cell_type": "markdown",
   "id": "de82c0f8",
   "metadata": {
    "slideshow": {
     "slide_type": "slide"
    }
   },
   "source": [
    "### Cómo creo una clase"
   ]
  },
  {
   "cell_type": "code",
   "execution_count": 94,
   "id": "8a62df2a",
   "metadata": {
    "execution": {
     "iopub.execute_input": "2021-05-20T03:49:06.251146Z",
     "iopub.status.busy": "2021-05-20T03:49:06.249751Z",
     "iopub.status.idle": "2021-05-20T03:49:06.251881Z",
     "shell.execute_reply": "2021-05-20T03:49:06.252339Z"
    },
    "slideshow": {
     "slide_type": "slide"
    }
   },
   "outputs": [],
   "source": [
    "class Nodo(object):\n",
    "    def __init__(self, dato, siguiente=None):\n",
    "        self._dato = dato\n",
    "        self._siguiente = siguiente\n",
    "\n",
    "    @property\n",
    "    def dato(self):\n",
    "        return self._dato\n",
    "\n",
    "    @property\n",
    "    def proximo(self):\n",
    "        return self._siguiente\n",
    "\n",
    "    @proximo.setter\n",
    "    def proximo(self, siguiente):\n",
    "        self._siguiente = siguiente\n",
    "\n",
    "    def __repr__(self):\n",
    "        return str(self.dato)\n",
    "\n",
    "    def __str__(self):\n",
    "        return str(self.dato)"
   ]
  },
  {
   "cell_type": "code",
   "execution_count": 95,
   "id": "1e7edf89",
   "metadata": {
    "execution": {
     "iopub.execute_input": "2021-05-20T03:49:06.257024Z",
     "iopub.status.busy": "2021-05-20T03:49:06.255811Z",
     "iopub.status.idle": "2021-05-20T03:49:06.259050Z",
     "shell.execute_reply": "2021-05-20T03:49:06.258441Z"
    },
    "slideshow": {
     "slide_type": "slide"
    }
   },
   "outputs": [
    {
     "name": "stdout",
     "output_type": "stream",
     "text": [
      "hola\n"
     ]
    }
   ],
   "source": [
    "nodo = Nodo(\"hola\")\n",
    "print(nodo)"
   ]
  },
  {
   "cell_type": "code",
   "execution_count": 96,
   "id": "598fe354",
   "metadata": {
    "execution": {
     "iopub.execute_input": "2021-05-20T03:49:06.264144Z",
     "iopub.status.busy": "2021-05-20T03:49:06.262912Z",
     "iopub.status.idle": "2021-05-20T03:49:06.265936Z",
     "shell.execute_reply": "2021-05-20T03:49:06.265430Z"
    },
    "slideshow": {
     "slide_type": "slide"
    }
   },
   "outputs": [
    {
     "name": "stdout",
     "output_type": "stream",
     "text": [
      "[hola, lala]\n"
     ]
    }
   ],
   "source": [
    "nodo2 = Nodo(\"lala\")\n",
    "print([nodo, nodo2])"
   ]
  },
  {
   "cell_type": "code",
   "execution_count": 97,
   "id": "e1b96088",
   "metadata": {
    "execution": {
     "iopub.execute_input": "2021-05-20T03:49:06.270241Z",
     "iopub.status.busy": "2021-05-20T03:49:06.269576Z",
     "iopub.status.idle": "2021-05-20T03:49:06.273496Z",
     "shell.execute_reply": "2021-05-20T03:49:06.273010Z"
    },
    "slideshow": {
     "slide_type": "slide"
    }
   },
   "outputs": [
    {
     "name": "stdout",
     "output_type": "stream",
     "text": [
      "hola\n"
     ]
    }
   ],
   "source": [
    "nodo3 = nodo.dato\n",
    "print(nodo3)"
   ]
  },
  {
   "cell_type": "markdown",
   "id": "a52c1ea7",
   "metadata": {
    "slideshow": {
     "slide_type": "slide"
    }
   },
   "source": [
    "### Ejemplo: Lista Enlazada"
   ]
  },
  {
   "cell_type": "code",
   "execution_count": 98,
   "id": "75cd83d8",
   "metadata": {
    "execution": {
     "iopub.execute_input": "2021-05-20T03:49:06.283213Z",
     "iopub.status.busy": "2021-05-20T03:49:06.281932Z",
     "iopub.status.idle": "2021-05-20T03:49:06.283822Z",
     "shell.execute_reply": "2021-05-20T03:49:06.284285Z"
    },
    "slideshow": {
     "slide_type": "slide"
    }
   },
   "outputs": [],
   "source": [
    "class ListaEnlazada(object):\n",
    "    def __init__(self):\n",
    "        self._primero = None\n",
    "        self._ultimo = None\n",
    "        self._largo = 0\n",
    "\n",
    "    def __len__(self):\n",
    "        return self._largo\n",
    "\n",
    "    def insertar_al_principio(self, dato):\n",
    "        nodo = Nodo(dato, self._primero)\n",
    "        self._primero = nodo\n",
    "        self._largo += 1\n",
    "        if self._largo == 1:\n",
    "            self._ultimo = nodo\n",
    "\n",
    "    def insertar_al_final(self, dato):\n",
    "        if self._largo != 0:\n",
    "            nodo = Nodo(dato)\n",
    "            nodo_anterior = self._ultimo\n",
    "            nodo_anterior._siguiente = nodo\n",
    "            self._ultimo = nodo\n",
    "            self._largo += 1\n",
    "        else:\n",
    "            self.insertar_al_principio(dato)\n",
    "\n",
    "    @property\n",
    "    def primero(self):\n",
    "        return self._primero.dato\n",
    "\n",
    "    def borrar_primero(self):\n",
    "        dato = self.primero.dato\n",
    "        self._primero = self.primero.siguiente\n",
    "        self._largo -= 1\n",
    "        if self._largo == 0:\n",
    "            self._ultimo = None\n",
    "        return dato\n",
    "\n",
    "    def __str__(self):\n",
    "        datos = []\n",
    "        nodo_actual = self._primero\n",
    "        while nodo_actual:\n",
    "            datos.append(nodo_actual.dato)\n",
    "            nodo_actual = nodo_actual.proximo\n",
    "        return \" -> \".join(datos)\n",
    "\n",
    "    def __repr__(self):\n",
    "        return self.__str__()"
   ]
  },
  {
   "cell_type": "code",
   "execution_count": 99,
   "id": "d19310a9",
   "metadata": {
    "execution": {
     "iopub.execute_input": "2021-05-20T03:49:06.289493Z",
     "iopub.status.busy": "2021-05-20T03:49:06.288274Z",
     "iopub.status.idle": "2021-05-20T03:49:06.291495Z",
     "shell.execute_reply": "2021-05-20T03:49:06.291955Z"
    },
    "slideshow": {
     "slide_type": "slide"
    }
   },
   "outputs": [
    {
     "data": {
      "text/plain": [
       "2"
      ]
     },
     "execution_count": 1,
     "metadata": {},
     "output_type": "execute_result"
    }
   ],
   "source": [
    "lista = ListaEnlazada()\n",
    "lista.insertar_al_principio(\"Primer Dato\")\n",
    "lista.insertar_al_principio(\"Primer primer Dato\")\n",
    "len(lista)"
   ]
  },
  {
   "cell_type": "code",
   "execution_count": 100,
   "id": "fbb7342d",
   "metadata": {
    "execution": {
     "iopub.execute_input": "2021-05-20T03:49:06.296329Z",
     "iopub.status.busy": "2021-05-20T03:49:06.295550Z",
     "iopub.status.idle": "2021-05-20T03:49:06.298170Z",
     "shell.execute_reply": "2021-05-20T03:49:06.298629Z"
    }
   },
   "outputs": [
    {
     "data": {
      "text/plain": [
       "Primer primer Dato -> Primer Dato"
      ]
     },
     "execution_count": 1,
     "metadata": {},
     "output_type": "execute_result"
    }
   ],
   "source": [
    "lista"
   ]
  },
  {
   "cell_type": "code",
   "execution_count": 101,
   "id": "6fec4d34",
   "metadata": {
    "execution": {
     "iopub.execute_input": "2021-05-20T03:49:06.303501Z",
     "iopub.status.busy": "2021-05-20T03:49:06.302231Z",
     "iopub.status.idle": "2021-05-20T03:49:06.305280Z",
     "shell.execute_reply": "2021-05-20T03:49:06.304787Z"
    },
    "slideshow": {
     "slide_type": "slide"
    }
   },
   "outputs": [
    {
     "name": "stdout",
     "output_type": "stream",
     "text": [
      "Primer primer Dato\n"
     ]
    }
   ],
   "source": [
    "elemento = lista.primero\n",
    "print(elemento)"
   ]
  },
  {
   "cell_type": "markdown",
   "id": "3ebb5932",
   "metadata": {},
   "source": [
    "## Recursos\n",
    "\n",
    "* [Taller de Python de Algoritmos II](https://github.com/algoritmos-rw/algo2_apuntes)\n",
    "\n",
    "* [Documentación de Python 3](https://docs.python.org/3/tutorial/)\n",
    "\n",
    "* [Apunte de Algoritmos y Programación I](https://algoritmos1rw.ddns.net/material)\n",
    "\n",
    "* [Automate the Boring Stuff with Python](http://automatetheboringstuff.com/)\n",
    "\n",
    "* [Curso Python](https://pythoncurso.github.io)\n",
    "\n",
    "* [Python Tutor](http://pythontutor.com/)\n",
    "\n",
    "* [Learn Python3 in Y minutes](https://learnxinyminutes.com/docs/python3/)\n",
    "\n",
    "* [Bibliografía de Algoritmos y Programación I](https://algoritmos1rw.ddns.net/bibliografia)"
   ]
  }
 ],
 "metadata": {
  "jupytext": {
   "encoding": "# -*- coding: utf-8 -*-",
   "formats": "ipynb,py:light"
  },
  "kernelspec": {
   "display_name": "Python 3 (venv)",
   "language": "python",
   "name": "python3"
  },
  "language_info": {
   "codemirror_mode": {
    "name": "ipython",
    "version": 3
   },
   "file_extension": ".py",
   "mimetype": "text/x-python",
   "name": "python",
   "nbconvert_exporter": "python",
   "pygments_lexer": "ipython3",
   "version": "3.7.10"
  }
 },
 "nbformat": 4,
 "nbformat_minor": 5
}
