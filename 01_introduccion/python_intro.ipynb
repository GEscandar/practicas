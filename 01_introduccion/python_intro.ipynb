{
 "cells": [
  {
   "cell_type": "markdown",
   "id": "30e070de",
   "metadata": {},
   "source": [
    "# Python"
   ]
  },
  {
   "cell_type": "markdown",
   "id": "c661d6ab",
   "metadata": {
    "slideshow": {
     "slide_type": "slide"
    }
   },
   "source": [
    "## Un poco de Historia"
   ]
  },
  {
   "cell_type": "markdown",
   "id": "cfe85416",
   "metadata": {
    "slideshow": {
     "slide_type": "subslide"
    }
   },
   "source": [
    "Python fue creado a finales de los años 80 por un programador holandés llamado **Guido van Rossum**,\n",
    "quien sigue siendo aún hoy el líder del desarrollo del lenguaje.\n",
    "\n",
    "(Edit julio 2018: [ya no más](https://www.mail-archive.com/python-committers@python.org/msg05628.html))"
   ]
  },
  {
   "cell_type": "markdown",
   "id": "b0a5bb93",
   "metadata": {
    "slideshow": {
     "slide_type": "subslide"
    }
   },
   "source": [
    "El nombre del lenguaje proviene de los humoristas británicos Monty Python.\n",
    "\n",
    ">*\"I chose Python as a working title for the project, being in a slightly irreverent mood (and a big fan of Monty Python's Flying Circus).\"*"
   ]
  },
  {
   "cell_type": "markdown",
   "id": "1c4ba35b",
   "metadata": {
    "slideshow": {
     "slide_type": "slide"
    }
   },
   "source": [
    "## Caracteristicas\n",
    "\n",
    "- Interpretado\n",
    "- Tipado dinamico\n",
    "- Multiparadigma\n",
    "- Alto nivel\n",
    "- Tiene un recolector de basura (no hay malloc, free, realloc, etc)"
   ]
  },
  {
   "cell_type": "markdown",
   "id": "7f1f233e",
   "metadata": {},
   "source": [
    "## ¿Cómo empezar?\n",
    "\n",
    "* Al ser un lenguaje *interpretado*, se puede ir escribiendo a medida que se ejecuta, sin necesidad de compilar de antemano! Solamente hace falta escribir `python` o `python3` en una terminal para empezar\n",
    "\n",
    "* También, permite escribir archivos y correrlos. Crear un archivo con extensión `.py` y luego correr `python miarchivo.py` en laterminal"
   ]
  },
  {
   "cell_type": "markdown",
   "id": "bff0ebf1",
   "metadata": {
    "slideshow": {
     "slide_type": "slide"
    }
   },
   "source": [
    "## El Zen de Python"
   ]
  },
  {
   "cell_type": "code",
   "execution_count": 1,
   "id": "467b1b0a",
   "metadata": {
    "execution": {
     "iopub.execute_input": "2021-09-19T04:30:16.944691Z",
     "iopub.status.busy": "2021-09-19T04:30:16.944125Z",
     "iopub.status.idle": "2021-09-19T04:30:17.045773Z",
     "shell.execute_reply": "2021-09-19T04:30:17.045233Z"
    },
    "slideshow": {
     "slide_type": "slide"
    }
   },
   "outputs": [
    {
     "name": "stdout",
     "output_type": "stream",
     "text": [
      "The Zen of Python, by Tim Peters\n",
      "\n",
      "Beautiful is better than ugly.\n",
      "Explicit is better than implicit.\n",
      "Simple is better than complex.\n",
      "Complex is better than complicated.\n",
      "Flat is better than nested.\n",
      "Sparse is better than dense.\n",
      "Readability counts.\n",
      "Special cases aren't special enough to break the rules.\n",
      "Although practicality beats purity.\n",
      "Errors should never pass silently.\n",
      "Unless explicitly silenced.\n",
      "In the face of ambiguity, refuse the temptation to guess.\n",
      "There should be one-- and preferably only one --obvious way to do it.\n",
      "Although that way may not be obvious at first unless you're Dutch.\n",
      "Now is better than never.\n",
      "Although never is often better than *right* now.\n",
      "If the implementation is hard to explain, it's a bad idea.\n",
      "If the implementation is easy to explain, it may be a good idea.\n",
      "Namespaces are one honking great idea -- let's do more of those!\n"
     ]
    }
   ],
   "source": [
    "import this"
   ]
  },
  {
   "cell_type": "markdown",
   "id": "0e8ea3ab",
   "metadata": {
    "slideshow": {
     "slide_type": "slide"
    }
   },
   "source": [
    "## Conocimientos Básicos de Python: Variables y Tipos"
   ]
  },
  {
   "cell_type": "code",
   "execution_count": 2,
   "id": "8a90f85e",
   "metadata": {
    "execution": {
     "iopub.execute_input": "2021-09-19T04:30:17.049736Z",
     "iopub.status.busy": "2021-09-19T04:30:17.049204Z",
     "iopub.status.idle": "2021-09-19T04:30:17.052429Z",
     "shell.execute_reply": "2021-09-19T04:30:17.052851Z"
    },
    "slideshow": {
     "slide_type": "slide"
    }
   },
   "outputs": [
    {
     "name": "stdout",
     "output_type": "stream",
     "text": [
      "Hello World!\n"
     ]
    }
   ],
   "source": [
    "# Este es un comentario\n",
    "\n",
    "print(\"Hello World!\")"
   ]
  },
  {
   "cell_type": "markdown",
   "id": "35fe5254",
   "metadata": {},
   "source": [
    "Los strings en python puden escribirse tanto con comillas simples (`'`) como comillas dobles (`\"`). Normalmente vemos texto entre comillas triples para escribir _docstrings_, segun la guia de estilo de Python, el PEP8."
   ]
  },
  {
   "cell_type": "code",
   "execution_count": 3,
   "id": "3e243c40",
   "metadata": {
    "execution": {
     "iopub.execute_input": "2021-09-19T04:30:17.063392Z",
     "iopub.status.busy": "2021-09-19T04:30:17.062845Z",
     "iopub.status.idle": "2021-09-19T04:30:17.065940Z",
     "shell.execute_reply": "2021-09-19T04:30:17.066369Z"
    }
   },
   "outputs": [
    {
     "data": {
      "text/plain": [
       "'Esto es un docstring.\\n'"
      ]
     },
     "execution_count": 3,
     "metadata": {},
     "output_type": "execute_result"
    }
   ],
   "source": [
    "\"\"\"Esto es un docstring.\n",
    "\"\"\""
   ]
  },
  {
   "cell_type": "markdown",
   "id": "3e6fec68",
   "metadata": {},
   "source": [
    "### Declaracion de variables"
   ]
  },
  {
   "cell_type": "code",
   "execution_count": 4,
   "id": "aa7c0256",
   "metadata": {
    "execution": {
     "iopub.execute_input": "2021-09-19T04:30:17.070319Z",
     "iopub.status.busy": "2021-09-19T04:30:17.068497Z",
     "iopub.status.idle": "2021-09-19T04:30:17.072273Z",
     "shell.execute_reply": "2021-09-19T04:30:17.072687Z"
    }
   },
   "outputs": [
    {
     "name": "stdout",
     "output_type": "stream",
     "text": [
      "Hola\n"
     ]
    }
   ],
   "source": [
    "string = 'Hola'\n",
    "print(string)"
   ]
  },
  {
   "cell_type": "code",
   "execution_count": 5,
   "id": "8b91a7a1",
   "metadata": {
    "execution": {
     "iopub.execute_input": "2021-09-19T04:30:17.077310Z",
     "iopub.status.busy": "2021-09-19T04:30:17.076437Z",
     "iopub.status.idle": "2021-09-19T04:30:17.079094Z",
     "shell.execute_reply": "2021-09-19T04:30:17.078645Z"
    }
   },
   "outputs": [
    {
     "name": "stdout",
     "output_type": "stream",
     "text": [
      "1\n"
     ]
    }
   ],
   "source": [
    "entero = 1\n",
    "print(entero)"
   ]
  },
  {
   "cell_type": "code",
   "execution_count": 6,
   "id": "c6326276",
   "metadata": {
    "execution": {
     "iopub.execute_input": "2021-09-19T04:30:17.083057Z",
     "iopub.status.busy": "2021-09-19T04:30:17.082549Z",
     "iopub.status.idle": "2021-09-19T04:30:17.086300Z",
     "shell.execute_reply": "2021-09-19T04:30:17.086945Z"
    }
   },
   "outputs": [
    {
     "name": "stdout",
     "output_type": "stream",
     "text": [
      "1.0\n"
     ]
    }
   ],
   "source": [
    "flotante = 1.0\n",
    "print(flotante)"
   ]
  },
  {
   "cell_type": "code",
   "execution_count": 7,
   "id": "d5c14cbd",
   "metadata": {
    "execution": {
     "iopub.execute_input": "2021-09-19T04:30:17.090760Z",
     "iopub.status.busy": "2021-09-19T04:30:17.090200Z",
     "iopub.status.idle": "2021-09-19T04:30:17.094652Z",
     "shell.execute_reply": "2021-09-19T04:30:17.095084Z"
    }
   },
   "outputs": [
    {
     "name": "stdout",
     "output_type": "stream",
     "text": [
      "(1, 1.0)\n"
     ]
    }
   ],
   "source": [
    "tupla = (entero, flotante)\n",
    "print(tupla)"
   ]
  },
  {
   "cell_type": "code",
   "execution_count": 8,
   "id": "76167a8e",
   "metadata": {
    "execution": {
     "iopub.execute_input": "2021-09-19T04:30:17.099120Z",
     "iopub.status.busy": "2021-09-19T04:30:17.098538Z",
     "iopub.status.idle": "2021-09-19T04:30:17.100381Z",
     "shell.execute_reply": "2021-09-19T04:30:17.100893Z"
    }
   },
   "outputs": [
    {
     "name": "stdout",
     "output_type": "stream",
     "text": [
      "(1, 1.0, 'Hola')\n"
     ]
    }
   ],
   "source": [
    "nupla = (entero, flotante, string)\n",
    "print(nupla)"
   ]
  },
  {
   "cell_type": "code",
   "execution_count": 9,
   "id": "c42502f6",
   "metadata": {
    "execution": {
     "iopub.execute_input": "2021-09-19T04:30:17.104979Z",
     "iopub.status.busy": "2021-09-19T04:30:17.104424Z",
     "iopub.status.idle": "2021-09-19T04:30:17.107564Z",
     "shell.execute_reply": "2021-09-19T04:30:17.107068Z"
    }
   },
   "outputs": [
    {
     "name": "stdout",
     "output_type": "stream",
     "text": [
      "[1, 1.0, 'Hola']\n"
     ]
    }
   ],
   "source": [
    "lista = [entero, flotante, string]\n",
    "print(lista)"
   ]
  },
  {
   "cell_type": "code",
   "execution_count": 10,
   "id": "c47e2d0c",
   "metadata": {
    "execution": {
     "iopub.execute_input": "2021-09-19T04:30:17.112130Z",
     "iopub.status.busy": "2021-09-19T04:30:17.111500Z",
     "iopub.status.idle": "2021-09-19T04:30:17.114162Z",
     "shell.execute_reply": "2021-09-19T04:30:17.114714Z"
    }
   },
   "outputs": [
    {
     "name": "stdout",
     "output_type": "stream",
     "text": [
      "{'1': (1, 1.0), 50: (1, 1.0, 'Hola'), '3': 1}\n"
     ]
    }
   ],
   "source": [
    "diccionario = {'1': tupla, 50: nupla, '3': entero}\n",
    "print(diccionario)"
   ]
  },
  {
   "cell_type": "code",
   "execution_count": 11,
   "id": "777e282e",
   "metadata": {
    "execution": {
     "iopub.execute_input": "2021-09-19T04:30:17.119025Z",
     "iopub.status.busy": "2021-09-19T04:30:17.118477Z",
     "iopub.status.idle": "2021-09-19T04:30:17.122235Z",
     "shell.execute_reply": "2021-09-19T04:30:17.122646Z"
    }
   },
   "outputs": [
    {
     "name": "stdout",
     "output_type": "stream",
     "text": [
      "{1, 2}\n"
     ]
    }
   ],
   "source": [
    "conjunto = set([1, 2])\n",
    "print(conjunto)"
   ]
  },
  {
   "cell_type": "code",
   "execution_count": 12,
   "id": "5a029920",
   "metadata": {
    "execution": {
     "iopub.execute_input": "2021-09-19T04:30:17.127210Z",
     "iopub.status.busy": "2021-09-19T04:30:17.126661Z",
     "iopub.status.idle": "2021-09-19T04:30:17.130764Z",
     "shell.execute_reply": "2021-09-19T04:30:17.130247Z"
    }
   },
   "outputs": [
    {
     "name": "stdout",
     "output_type": "stream",
     "text": [
      "True\n"
     ]
    }
   ],
   "source": [
    "booleano = True\n",
    "print(booleano)"
   ]
  },
  {
   "cell_type": "code",
   "execution_count": 13,
   "id": "13a2d06f",
   "metadata": {
    "execution": {
     "iopub.execute_input": "2021-09-19T04:30:17.134359Z",
     "iopub.status.busy": "2021-09-19T04:30:17.133901Z",
     "iopub.status.idle": "2021-09-19T04:30:17.136184Z",
     "shell.execute_reply": "2021-09-19T04:30:17.136555Z"
    }
   },
   "outputs": [
    {
     "name": "stdout",
     "output_type": "stream",
     "text": [
      "None\n"
     ]
    }
   ],
   "source": [
    "nada = None\n",
    "print(nada)"
   ]
  },
  {
   "cell_type": "markdown",
   "id": "0b637668",
   "metadata": {},
   "source": [
    "Ojo que las variables pueden cambiar de tipo!"
   ]
  },
  {
   "cell_type": "code",
   "execution_count": 14,
   "id": "b946a532",
   "metadata": {
    "execution": {
     "iopub.execute_input": "2021-09-19T04:30:17.140748Z",
     "iopub.status.busy": "2021-09-19T04:30:17.140200Z",
     "iopub.status.idle": "2021-09-19T04:30:17.143138Z",
     "shell.execute_reply": "2021-09-19T04:30:17.142546Z"
    }
   },
   "outputs": [
    {
     "name": "stdout",
     "output_type": "stream",
     "text": [
      "1\n",
      "<class 'int'>\n"
     ]
    }
   ],
   "source": [
    "elemento = 1\n",
    "print(elemento)\n",
    "print(type(elemento))"
   ]
  },
  {
   "cell_type": "code",
   "execution_count": 15,
   "id": "b7c0e7ae",
   "metadata": {
    "execution": {
     "iopub.execute_input": "2021-09-19T04:30:17.148248Z",
     "iopub.status.busy": "2021-09-19T04:30:17.147695Z",
     "iopub.status.idle": "2021-09-19T04:30:17.151887Z",
     "shell.execute_reply": "2021-09-19T04:30:17.151321Z"
    }
   },
   "outputs": [
    {
     "name": "stdout",
     "output_type": "stream",
     "text": [
      "1\n",
      "<class 'str'>\n"
     ]
    }
   ],
   "source": [
    "elemento = str(1)\n",
    "print(elemento)\n",
    "print(type(elemento))"
   ]
  },
  {
   "cell_type": "code",
   "execution_count": 16,
   "id": "8b462c02",
   "metadata": {
    "execution": {
     "iopub.execute_input": "2021-09-19T04:30:17.155977Z",
     "iopub.status.busy": "2021-09-19T04:30:17.155409Z",
     "iopub.status.idle": "2021-09-19T04:30:17.159575Z",
     "shell.execute_reply": "2021-09-19T04:30:17.160013Z"
    }
   },
   "outputs": [
    {
     "name": "stdout",
     "output_type": "stream",
     "text": [
      "[2]\n",
      "<class 'list'>\n"
     ]
    }
   ],
   "source": [
    "elemento = [2]\n",
    "\n",
    "print(elemento)\n",
    "print(type(elemento))"
   ]
  },
  {
   "cell_type": "markdown",
   "id": "5911bbc3",
   "metadata": {},
   "source": [
    "### Tipos basicos"
   ]
  },
  {
   "cell_type": "markdown",
   "id": "032b950a",
   "metadata": {
    "slideshow": {
     "slide_type": "slide"
    }
   },
   "source": [
    "#### Listas de Python"
   ]
  },
  {
   "cell_type": "code",
   "execution_count": 17,
   "id": "d9fee53d",
   "metadata": {
    "execution": {
     "iopub.execute_input": "2021-09-19T04:30:17.163926Z",
     "iopub.status.busy": "2021-09-19T04:30:17.162476Z",
     "iopub.status.idle": "2021-09-19T04:30:17.168862Z",
     "shell.execute_reply": "2021-09-19T04:30:17.168365Z"
    }
   },
   "outputs": [
    {
     "data": {
      "text/plain": [
       "[]"
      ]
     },
     "execution_count": 17,
     "metadata": {},
     "output_type": "execute_result"
    }
   ],
   "source": [
    "lista = list()\n",
    "lista"
   ]
  },
  {
   "cell_type": "code",
   "execution_count": 18,
   "id": "8d243428",
   "metadata": {
    "execution": {
     "iopub.execute_input": "2021-09-19T04:30:17.174401Z",
     "iopub.status.busy": "2021-09-19T04:30:17.173381Z",
     "iopub.status.idle": "2021-09-19T04:30:17.176553Z",
     "shell.execute_reply": "2021-09-19T04:30:17.176089Z"
    },
    "slideshow": {
     "slide_type": "slide"
    }
   },
   "outputs": [
    {
     "data": {
      "text/plain": [
       "[]"
      ]
     },
     "execution_count": 18,
     "metadata": {},
     "output_type": "execute_result"
    }
   ],
   "source": [
    "lista = []\n",
    "lista"
   ]
  },
  {
   "cell_type": "code",
   "execution_count": 19,
   "id": "74a92761",
   "metadata": {
    "execution": {
     "iopub.execute_input": "2021-09-19T04:30:17.182353Z",
     "iopub.status.busy": "2021-09-19T04:30:17.181301Z",
     "iopub.status.idle": "2021-09-19T04:30:17.184050Z",
     "shell.execute_reply": "2021-09-19T04:30:17.184500Z"
    },
    "slideshow": {
     "slide_type": "slide"
    }
   },
   "outputs": [
    {
     "data": {
      "text/plain": [
       "[1, 2, 3, 4]"
      ]
     },
     "execution_count": 19,
     "metadata": {},
     "output_type": "execute_result"
    }
   ],
   "source": [
    "lista = [1, 2, 3, 4]\n",
    "lista"
   ]
  },
  {
   "cell_type": "code",
   "execution_count": 20,
   "id": "e14c8366",
   "metadata": {
    "execution": {
     "iopub.execute_input": "2021-09-19T04:30:17.191115Z",
     "iopub.status.busy": "2021-09-19T04:30:17.190113Z",
     "iopub.status.idle": "2021-09-19T04:30:17.192802Z",
     "shell.execute_reply": "2021-09-19T04:30:17.193263Z"
    },
    "slideshow": {
     "slide_type": "slide"
    }
   },
   "outputs": [
    {
     "data": {
      "text/plain": [
       "[1, 2, 3, 4, 1, 'dos', 3.0]"
      ]
     },
     "execution_count": 20,
     "metadata": {},
     "output_type": "execute_result"
    }
   ],
   "source": [
    "lista.append(1)  # Inserto un 1 al final\n",
    "lista.append(\"dos\")  # Inserto un \"dos\" al final\n",
    "lista.append(3.0)  # Inserto un 3.0 al final\n",
    "lista"
   ]
  },
  {
   "cell_type": "code",
   "execution_count": 21,
   "id": "0319e05d",
   "metadata": {
    "execution": {
     "iopub.execute_input": "2021-09-19T04:30:17.198743Z",
     "iopub.status.busy": "2021-09-19T04:30:17.197436Z",
     "iopub.status.idle": "2021-09-19T04:30:17.200601Z",
     "shell.execute_reply": "2021-09-19T04:30:17.200123Z"
    }
   },
   "outputs": [
    {
     "name": "stdout",
     "output_type": "stream",
     "text": [
      "[1, 2, 10, 3, 4, 1, 'dos', 3.0]\n"
     ]
    }
   ],
   "source": [
    "lista.insert(2, 10)  # Inserto en posicion 2 un 10\n",
    "print(lista)"
   ]
  },
  {
   "cell_type": "code",
   "execution_count": 22,
   "id": "07214ce4",
   "metadata": {
    "execution": {
     "iopub.execute_input": "2021-09-19T04:30:17.204964Z",
     "iopub.status.busy": "2021-09-19T04:30:17.204388Z",
     "iopub.status.idle": "2021-09-19T04:30:17.206731Z",
     "shell.execute_reply": "2021-09-19T04:30:17.207186Z"
    }
   },
   "outputs": [
    {
     "data": {
      "text/plain": [
       "8"
      ]
     },
     "execution_count": 22,
     "metadata": {},
     "output_type": "execute_result"
    }
   ],
   "source": [
    "len(lista)"
   ]
  },
  {
   "cell_type": "code",
   "execution_count": 23,
   "id": "daf4a5f2",
   "metadata": {
    "execution": {
     "iopub.execute_input": "2021-09-19T04:30:17.212028Z",
     "iopub.status.busy": "2021-09-19T04:30:17.211414Z",
     "iopub.status.idle": "2021-09-19T04:30:17.213376Z",
     "shell.execute_reply": "2021-09-19T04:30:17.213793Z"
    }
   },
   "outputs": [
    {
     "data": {
      "text/plain": [
       "3.0"
      ]
     },
     "execution_count": 23,
     "metadata": {},
     "output_type": "execute_result"
    }
   ],
   "source": [
    "lista.pop()"
   ]
  },
  {
   "cell_type": "code",
   "execution_count": 24,
   "id": "9673e3dc",
   "metadata": {
    "execution": {
     "iopub.execute_input": "2021-09-19T04:30:17.218420Z",
     "iopub.status.busy": "2021-09-19T04:30:17.217858Z",
     "iopub.status.idle": "2021-09-19T04:30:17.219999Z",
     "shell.execute_reply": "2021-09-19T04:30:17.220466Z"
    }
   },
   "outputs": [
    {
     "data": {
      "text/plain": [
       "[1, 2, 10, 3, 4, 1, 'dos']"
      ]
     },
     "execution_count": 24,
     "metadata": {},
     "output_type": "execute_result"
    }
   ],
   "source": [
    "lista"
   ]
  },
  {
   "cell_type": "code",
   "execution_count": 25,
   "id": "ab821ac0",
   "metadata": {
    "execution": {
     "iopub.execute_input": "2021-09-19T04:30:17.225053Z",
     "iopub.status.busy": "2021-09-19T04:30:17.224526Z",
     "iopub.status.idle": "2021-09-19T04:30:17.226736Z",
     "shell.execute_reply": "2021-09-19T04:30:17.227169Z"
    }
   },
   "outputs": [
    {
     "data": {
      "text/plain": [
       "2"
      ]
     },
     "execution_count": 25,
     "metadata": {},
     "output_type": "execute_result"
    }
   ],
   "source": [
    "lista.index(10)"
   ]
  },
  {
   "cell_type": "code",
   "execution_count": 26,
   "id": "95c2d7e3",
   "metadata": {
    "execution": {
     "iopub.execute_input": "2021-09-19T04:30:17.231833Z",
     "iopub.status.busy": "2021-09-19T04:30:17.231263Z",
     "iopub.status.idle": "2021-09-19T04:30:17.233273Z",
     "shell.execute_reply": "2021-09-19T04:30:17.233693Z"
    }
   },
   "outputs": [
    {
     "data": {
      "text/plain": [
       "[1, 2, 3, 4, 1, 'dos']"
      ]
     },
     "execution_count": 26,
     "metadata": {},
     "output_type": "execute_result"
    }
   ],
   "source": [
    "lista.remove(10)\n",
    "lista"
   ]
  },
  {
   "cell_type": "code",
   "execution_count": 27,
   "id": "1577be43",
   "metadata": {
    "execution": {
     "iopub.execute_input": "2021-09-19T04:30:17.238019Z",
     "iopub.status.busy": "2021-09-19T04:30:17.237312Z",
     "iopub.status.idle": "2021-09-19T04:30:17.311139Z",
     "shell.execute_reply": "2021-09-19T04:30:17.311632Z"
    },
    "tags": [
     "raises-exception"
    ]
   },
   "outputs": [
    {
     "name": "stdout",
     "output_type": "stream",
     "text": [
      "1\n",
      "2\n",
      "2\n",
      "3\n",
      "3\n",
      "4\n",
      "4\n",
      "5\n",
      "1\n",
      "2\n",
      "dos\n"
     ]
    },
    {
     "ename": "TypeError",
     "evalue": "can only concatenate str (not \"int\") to str",
     "output_type": "error",
     "traceback": [
      "\u001b[0;31m---------------------------------------------------------------------------\u001b[0m",
      "\u001b[0;31mTypeError\u001b[0m                                 Traceback (most recent call last)",
      "\u001b[0;32m/tmp/ipykernel_1978/1783555086.py\u001b[0m in \u001b[0;36m<module>\u001b[0;34m\u001b[0m\n\u001b[1;32m      1\u001b[0m \u001b[0;32mfor\u001b[0m \u001b[0melemento\u001b[0m \u001b[0;32min\u001b[0m \u001b[0mlista\u001b[0m\u001b[0;34m:\u001b[0m\u001b[0;34m\u001b[0m\u001b[0;34m\u001b[0m\u001b[0m\n\u001b[1;32m      2\u001b[0m     \u001b[0mprint\u001b[0m\u001b[0;34m(\u001b[0m\u001b[0melemento\u001b[0m\u001b[0;34m)\u001b[0m\u001b[0;34m\u001b[0m\u001b[0;34m\u001b[0m\u001b[0m\n\u001b[0;32m----> 3\u001b[0;31m     \u001b[0mprint\u001b[0m\u001b[0;34m(\u001b[0m\u001b[0melemento\u001b[0m \u001b[0;34m+\u001b[0m \u001b[0;36m1\u001b[0m\u001b[0;34m)\u001b[0m\u001b[0;34m\u001b[0m\u001b[0;34m\u001b[0m\u001b[0m\n\u001b[0m",
      "\u001b[0;31mTypeError\u001b[0m: can only concatenate str (not \"int\") to str"
     ]
    }
   ],
   "source": [
    "for elemento in lista:\n",
    "    print(elemento)\n",
    "    print(elemento + 1)"
   ]
  },
  {
   "cell_type": "code",
   "execution_count": 28,
   "id": "dda5ee23",
   "metadata": {
    "execution": {
     "iopub.execute_input": "2021-09-19T04:30:17.316488Z",
     "iopub.status.busy": "2021-09-19T04:30:17.314536Z",
     "iopub.status.idle": "2021-09-19T04:30:17.318804Z",
     "shell.execute_reply": "2021-09-19T04:30:17.319265Z"
    }
   },
   "outputs": [
    {
     "data": {
      "text/plain": [
       "[1, 2, 3, 4, 1, 'dos']"
      ]
     },
     "execution_count": 28,
     "metadata": {},
     "output_type": "execute_result"
    }
   ],
   "source": [
    "lista"
   ]
  },
  {
   "cell_type": "code",
   "execution_count": 29,
   "id": "697ff14f",
   "metadata": {
    "execution": {
     "iopub.execute_input": "2021-09-19T04:30:17.324648Z",
     "iopub.status.busy": "2021-09-19T04:30:17.323597Z",
     "iopub.status.idle": "2021-09-19T04:30:17.326523Z",
     "shell.execute_reply": "2021-09-19T04:30:17.326064Z"
    }
   },
   "outputs": [
    {
     "name": "stdout",
     "output_type": "stream",
     "text": [
      "0-ésimo elemento: 1\n",
      "1-ésimo elemento: 2\n",
      "2-ésimo elemento: 3\n",
      "3-ésimo elemento: 4\n",
      "4-ésimo elemento: 1\n",
      "5-ésimo elemento: dos\n"
     ]
    }
   ],
   "source": [
    "for i, elemento in enumerate(lista):\n",
    "    print(f\"{i}-ésimo elemento: {elemento}\")"
   ]
  },
  {
   "cell_type": "code",
   "execution_count": 30,
   "id": "b3690791",
   "metadata": {
    "execution": {
     "iopub.execute_input": "2021-09-19T04:30:17.330109Z",
     "iopub.status.busy": "2021-09-19T04:30:17.329530Z",
     "iopub.status.idle": "2021-09-19T04:30:17.335710Z",
     "shell.execute_reply": "2021-09-19T04:30:17.335135Z"
    },
    "tags": [
     "raises-exception"
    ]
   },
   "outputs": [
    {
     "ename": "TypeError",
     "evalue": "'<' not supported between instances of 'str' and 'int'",
     "output_type": "error",
     "traceback": [
      "\u001b[0;31m---------------------------------------------------------------------------\u001b[0m",
      "\u001b[0;31mTypeError\u001b[0m                                 Traceback (most recent call last)",
      "\u001b[0;32m/tmp/ipykernel_1978/2266425520.py\u001b[0m in \u001b[0;36m<module>\u001b[0;34m\u001b[0m\n\u001b[0;32m----> 1\u001b[0;31m \u001b[0msorted\u001b[0m\u001b[0;34m(\u001b[0m\u001b[0mlista\u001b[0m\u001b[0;34m)\u001b[0m\u001b[0;34m\u001b[0m\u001b[0;34m\u001b[0m\u001b[0m\n\u001b[0m",
      "\u001b[0;31mTypeError\u001b[0m: '<' not supported between instances of 'str' and 'int'"
     ]
    }
   ],
   "source": [
    "sorted(lista)"
   ]
  },
  {
   "cell_type": "code",
   "execution_count": 31,
   "id": "8c04e4d3",
   "metadata": {
    "execution": {
     "iopub.execute_input": "2021-09-19T04:30:17.339386Z",
     "iopub.status.busy": "2021-09-19T04:30:17.337844Z",
     "iopub.status.idle": "2021-09-19T04:30:17.341620Z",
     "shell.execute_reply": "2021-09-19T04:30:17.341110Z"
    }
   },
   "outputs": [],
   "source": [
    "lista.remove(\"dos\")"
   ]
  },
  {
   "cell_type": "code",
   "execution_count": 32,
   "id": "e5a85ecc",
   "metadata": {
    "execution": {
     "iopub.execute_input": "2021-09-19T04:30:17.347083Z",
     "iopub.status.busy": "2021-09-19T04:30:17.346076Z",
     "iopub.status.idle": "2021-09-19T04:30:17.349774Z",
     "shell.execute_reply": "2021-09-19T04:30:17.349265Z"
    }
   },
   "outputs": [
    {
     "data": {
      "text/plain": [
       "[1, 1, 2, 3, 4]"
      ]
     },
     "execution_count": 32,
     "metadata": {},
     "output_type": "execute_result"
    }
   ],
   "source": [
    "sorted(lista)"
   ]
  },
  {
   "cell_type": "code",
   "execution_count": 33,
   "id": "37619e80",
   "metadata": {
    "execution": {
     "iopub.execute_input": "2021-09-19T04:30:17.355220Z",
     "iopub.status.busy": "2021-09-19T04:30:17.354185Z",
     "iopub.status.idle": "2021-09-19T04:30:17.357302Z",
     "shell.execute_reply": "2021-09-19T04:30:17.356836Z"
    }
   },
   "outputs": [
    {
     "data": {
      "text/plain": [
       "[1, 1, 2, 3, 4]"
      ]
     },
     "execution_count": 33,
     "metadata": {},
     "output_type": "execute_result"
    }
   ],
   "source": [
    "lista.sort()\n",
    "lista"
   ]
  },
  {
   "cell_type": "markdown",
   "id": "7b37c7ee",
   "metadata": {
    "slideshow": {
     "slide_type": "slide"
    }
   },
   "source": [
    "#### Tuplas de Python\n",
    "\n",
    "Las tuplas son inmutables. No se pueden agregar elementos luego de creadas."
   ]
  },
  {
   "cell_type": "code",
   "execution_count": 34,
   "id": "24592f83",
   "metadata": {
    "execution": {
     "iopub.execute_input": "2021-09-19T04:30:17.361718Z",
     "iopub.status.busy": "2021-09-19T04:30:17.361129Z",
     "iopub.status.idle": "2021-09-19T04:30:17.367805Z",
     "shell.execute_reply": "2021-09-19T04:30:17.368295Z"
    },
    "slideshow": {
     "slide_type": "slide"
    },
    "tags": [
     "raises-exception"
    ]
   },
   "outputs": [
    {
     "name": "stdout",
     "output_type": "stream",
     "text": [
      "(1, 2)\n",
      "1\n",
      "2\n"
     ]
    },
    {
     "ename": "TypeError",
     "evalue": "'tuple' object does not support item assignment",
     "output_type": "error",
     "traceback": [
      "\u001b[0;31m---------------------------------------------------------------------------\u001b[0m",
      "\u001b[0;31mTypeError\u001b[0m                                 Traceback (most recent call last)",
      "\u001b[0;32m/tmp/ipykernel_1978/3644040918.py\u001b[0m in \u001b[0;36m<module>\u001b[0;34m\u001b[0m\n\u001b[1;32m      5\u001b[0m \u001b[0mprint\u001b[0m\u001b[0;34m(\u001b[0m\u001b[0mtupla\u001b[0m\u001b[0;34m[\u001b[0m\u001b[0;36m1\u001b[0m\u001b[0;34m]\u001b[0m\u001b[0;34m)\u001b[0m\u001b[0;34m\u001b[0m\u001b[0;34m\u001b[0m\u001b[0m\n\u001b[1;32m      6\u001b[0m \u001b[0;34m\u001b[0m\u001b[0m\n\u001b[0;32m----> 7\u001b[0;31m \u001b[0mtupla\u001b[0m\u001b[0;34m[\u001b[0m\u001b[0;36m1\u001b[0m\u001b[0;34m]\u001b[0m \u001b[0;34m=\u001b[0m \u001b[0;36m3\u001b[0m  \u001b[0;31m# Falla. No se puede mutar\u001b[0m\u001b[0;34m\u001b[0m\u001b[0;34m\u001b[0m\u001b[0m\n\u001b[0m",
      "\u001b[0;31mTypeError\u001b[0m: 'tuple' object does not support item assignment"
     ]
    }
   ],
   "source": [
    "tupla = (1, 2)\n",
    "\n",
    "print(tupla)\n",
    "print(tupla[0])\n",
    "print(tupla[1])\n",
    "\n",
    "tupla[1] = 3  # Falla. No se puede mutar"
   ]
  },
  {
   "cell_type": "code",
   "execution_count": 35,
   "id": "adc9385d",
   "metadata": {
    "execution": {
     "iopub.execute_input": "2021-09-19T04:30:17.373164Z",
     "iopub.status.busy": "2021-09-19T04:30:17.372484Z",
     "iopub.status.idle": "2021-09-19T04:30:17.375707Z",
     "shell.execute_reply": "2021-09-19T04:30:17.375115Z"
    }
   },
   "outputs": [
    {
     "data": {
      "text/plain": [
       "[1, 2]"
      ]
     },
     "execution_count": 35,
     "metadata": {},
     "output_type": "execute_result"
    }
   ],
   "source": [
    "l = [1, 2]\n",
    "l"
   ]
  },
  {
   "cell_type": "code",
   "execution_count": 36,
   "id": "f5086f48",
   "metadata": {
    "execution": {
     "iopub.execute_input": "2021-09-19T04:30:17.381305Z",
     "iopub.status.busy": "2021-09-19T04:30:17.380308Z",
     "iopub.status.idle": "2021-09-19T04:30:17.383022Z",
     "shell.execute_reply": "2021-09-19T04:30:17.383478Z"
    }
   },
   "outputs": [
    {
     "data": {
      "text/plain": [
       "[1, 3]"
      ]
     },
     "execution_count": 36,
     "metadata": {},
     "output_type": "execute_result"
    }
   ],
   "source": [
    "l[1] = 3\n",
    "l"
   ]
  },
  {
   "cell_type": "markdown",
   "id": "efd531e5",
   "metadata": {
    "slideshow": {
     "slide_type": "slide"
    }
   },
   "source": [
    "#### Diferencia entre lista y tupla\n",
    "Las listas se caracterizan por ser mutables, es decir, se puede cambiar su contenido en tiempo de ejecución, mientras que las tuplas son inmutables ya que no es posible modificar el contenido una vez creada."
   ]
  },
  {
   "cell_type": "markdown",
   "id": "b514638f",
   "metadata": {},
   "source": [
    "#### Slices\n",
    "\n",
    "**Valen para listas, tuplas o strings (_segmentos_)**"
   ]
  },
  {
   "cell_type": "code",
   "execution_count": 37,
   "id": "1efe9d83",
   "metadata": {
    "execution": {
     "iopub.execute_input": "2021-09-19T04:30:17.388575Z",
     "iopub.status.busy": "2021-09-19T04:30:17.387366Z",
     "iopub.status.idle": "2021-09-19T04:30:17.389163Z",
     "shell.execute_reply": "2021-09-19T04:30:17.390229Z"
    }
   },
   "outputs": [],
   "source": [
    "numeros = [0, 1, 2, 3, 4, 5, 6, 7, 8, 9, 10]"
   ]
  },
  {
   "cell_type": "code",
   "execution_count": 38,
   "id": "2ae1e124",
   "metadata": {
    "execution": {
     "iopub.execute_input": "2021-09-19T04:30:17.395340Z",
     "iopub.status.busy": "2021-09-19T04:30:17.394088Z",
     "iopub.status.idle": "2021-09-19T04:30:17.397175Z",
     "shell.execute_reply": "2021-09-19T04:30:17.396686Z"
    }
   },
   "outputs": [
    {
     "name": "stdout",
     "output_type": "stream",
     "text": [
      "[0, 1, 2, 3, 4, 5, 6, 7, 8, 9, 10]\n"
     ]
    }
   ],
   "source": [
    "print(numeros)"
   ]
  },
  {
   "cell_type": "code",
   "execution_count": 39,
   "id": "9405d639",
   "metadata": {
    "execution": {
     "iopub.execute_input": "2021-09-19T04:30:17.400978Z",
     "iopub.status.busy": "2021-09-19T04:30:17.400422Z",
     "iopub.status.idle": "2021-09-19T04:30:17.402655Z",
     "shell.execute_reply": "2021-09-19T04:30:17.403114Z"
    }
   },
   "outputs": [
    {
     "name": "stdout",
     "output_type": "stream",
     "text": [
      "2\n"
     ]
    }
   ],
   "source": [
    "print(numeros[2])  # Imprimo elemento en la posición 2"
   ]
  },
  {
   "cell_type": "code",
   "execution_count": 40,
   "id": "e1b2b95c",
   "metadata": {
    "execution": {
     "iopub.execute_input": "2021-09-19T04:30:17.407961Z",
     "iopub.status.busy": "2021-09-19T04:30:17.407391Z",
     "iopub.status.idle": "2021-09-19T04:30:17.409336Z",
     "shell.execute_reply": "2021-09-19T04:30:17.409966Z"
    }
   },
   "outputs": [
    {
     "data": {
      "text/plain": [
       "10"
      ]
     },
     "execution_count": 40,
     "metadata": {},
     "output_type": "execute_result"
    }
   ],
   "source": [
    "numeros[len(numeros) - 1]"
   ]
  },
  {
   "cell_type": "code",
   "execution_count": 41,
   "id": "f3111d77",
   "metadata": {
    "execution": {
     "iopub.execute_input": "2021-09-19T04:30:17.413243Z",
     "iopub.status.busy": "2021-09-19T04:30:17.412366Z",
     "iopub.status.idle": "2021-09-19T04:30:17.416339Z",
     "shell.execute_reply": "2021-09-19T04:30:17.415853Z"
    },
    "lines_to_next_cell": 2
   },
   "outputs": [
    {
     "name": "stdout",
     "output_type": "stream",
     "text": [
      "10\n"
     ]
    }
   ],
   "source": [
    "print(numeros[-1])  # # Imprimo elemento en la última posición"
   ]
  },
  {
   "cell_type": "code",
   "execution_count": 42,
   "id": "338df26d",
   "metadata": {
    "execution": {
     "iopub.execute_input": "2021-09-19T04:30:17.421208Z",
     "iopub.status.busy": "2021-09-19T04:30:17.420617Z",
     "iopub.status.idle": "2021-09-19T04:30:17.424334Z",
     "shell.execute_reply": "2021-09-19T04:30:17.424764Z"
    },
    "lines_to_next_cell": 2
   },
   "outputs": [
    {
     "data": {
      "text/plain": [
       "9"
      ]
     },
     "execution_count": 42,
     "metadata": {},
     "output_type": "execute_result"
    }
   ],
   "source": [
    "numeros[-2]"
   ]
  },
  {
   "cell_type": "code",
   "execution_count": 43,
   "id": "52b17e2d",
   "metadata": {
    "execution": {
     "iopub.execute_input": "2021-09-19T04:30:17.430001Z",
     "iopub.status.busy": "2021-09-19T04:30:17.428732Z",
     "iopub.status.idle": "2021-09-19T04:30:17.431843Z",
     "shell.execute_reply": "2021-09-19T04:30:17.431331Z"
    }
   },
   "outputs": [
    {
     "name": "stdout",
     "output_type": "stream",
     "text": [
      "[0, 1, 2]\n"
     ]
    }
   ],
   "source": [
    "print(numeros[0:3])  # Imprimo de la pos 0 a la pos 2"
   ]
  },
  {
   "cell_type": "code",
   "execution_count": 44,
   "id": "a4056eed",
   "metadata": {
    "execution": {
     "iopub.execute_input": "2021-09-19T04:30:17.435947Z",
     "iopub.status.busy": "2021-09-19T04:30:17.435395Z",
     "iopub.status.idle": "2021-09-19T04:30:17.437216Z",
     "shell.execute_reply": "2021-09-19T04:30:17.437711Z"
    }
   },
   "outputs": [
    {
     "name": "stdout",
     "output_type": "stream",
     "text": [
      "[7, 8]\n"
     ]
    }
   ],
   "source": [
    "print(numeros[-4:-2])"
   ]
  },
  {
   "cell_type": "code",
   "execution_count": 45,
   "id": "73c0b158",
   "metadata": {
    "execution": {
     "iopub.execute_input": "2021-09-19T04:30:17.441724Z",
     "iopub.status.busy": "2021-09-19T04:30:17.441238Z",
     "iopub.status.idle": "2021-09-19T04:30:17.442943Z",
     "shell.execute_reply": "2021-09-19T04:30:17.443376Z"
    }
   },
   "outputs": [
    {
     "name": "stdout",
     "output_type": "stream",
     "text": [
      "[0, 1, 2, 3, 4, 5, 6, 7, 8, 9, 10]\n"
     ]
    }
   ],
   "source": [
    "print(numeros[0:80])"
   ]
  },
  {
   "cell_type": "code",
   "execution_count": 46,
   "id": "db1eefe7",
   "metadata": {
    "execution": {
     "iopub.execute_input": "2021-09-19T04:30:17.447448Z",
     "iopub.status.busy": "2021-09-19T04:30:17.446943Z",
     "iopub.status.idle": "2021-09-19T04:30:17.448765Z",
     "shell.execute_reply": "2021-09-19T04:30:17.449161Z"
    }
   },
   "outputs": [
    {
     "name": "stdout",
     "output_type": "stream",
     "text": [
      "[0, 1, 2]\n"
     ]
    }
   ],
   "source": [
    "print(numeros[:3])"
   ]
  },
  {
   "cell_type": "code",
   "execution_count": 47,
   "id": "90d166d7",
   "metadata": {
    "execution": {
     "iopub.execute_input": "2021-09-19T04:30:17.453338Z",
     "iopub.status.busy": "2021-09-19T04:30:17.452828Z",
     "iopub.status.idle": "2021-09-19T04:30:17.454726Z",
     "shell.execute_reply": "2021-09-19T04:30:17.455120Z"
    }
   },
   "outputs": [
    {
     "name": "stdout",
     "output_type": "stream",
     "text": [
      "[3, 4, 5, 6, 7, 8, 9, 10]\n"
     ]
    }
   ],
   "source": [
    "print(numeros[3:])"
   ]
  },
  {
   "cell_type": "code",
   "execution_count": 48,
   "id": "9b9f2009",
   "metadata": {
    "execution": {
     "iopub.execute_input": "2021-09-19T04:30:17.458976Z",
     "iopub.status.busy": "2021-09-19T04:30:17.458413Z",
     "iopub.status.idle": "2021-09-19T04:30:17.460225Z",
     "shell.execute_reply": "2021-09-19T04:30:17.460705Z"
    }
   },
   "outputs": [
    {
     "name": "stdout",
     "output_type": "stream",
     "text": [
      "[0, 2, 4, 6, 8]\n"
     ]
    }
   ],
   "source": [
    "print(numeros[0:10:2])"
   ]
  },
  {
   "cell_type": "markdown",
   "id": "78e61398",
   "metadata": {},
   "source": [
    "```python\n",
    "lista[<inicio>:<final>:<step>]\n",
    "```"
   ]
  },
  {
   "cell_type": "code",
   "execution_count": 49,
   "id": "719075d6",
   "metadata": {
    "execution": {
     "iopub.execute_input": "2021-09-19T04:30:17.465412Z",
     "iopub.status.busy": "2021-09-19T04:30:17.464889Z",
     "iopub.status.idle": "2021-09-19T04:30:17.467300Z",
     "shell.execute_reply": "2021-09-19T04:30:17.466931Z"
    },
    "lines_to_next_cell": 2
   },
   "outputs": [
    {
     "data": {
      "text/plain": [
       "[1, 2, 3, 4]"
      ]
     },
     "execution_count": 49,
     "metadata": {},
     "output_type": "execute_result"
    }
   ],
   "source": [
    "l1 = [1, 2]\n",
    "l2 = [3, 4]\n",
    "l1 + l2"
   ]
  },
  {
   "cell_type": "code",
   "execution_count": 50,
   "id": "e4f6b68a",
   "metadata": {
    "execution": {
     "iopub.execute_input": "2021-09-19T04:30:17.471080Z",
     "iopub.status.busy": "2021-09-19T04:30:17.470520Z",
     "iopub.status.idle": "2021-09-19T04:30:17.472546Z",
     "shell.execute_reply": "2021-09-19T04:30:17.472963Z"
    }
   },
   "outputs": [
    {
     "name": "stdout",
     "output_type": "stream",
     "text": [
      "[0, 1, 2, 3, 4, 5, 6, 'siete', 8, 9, 10]\n"
     ]
    }
   ],
   "source": [
    "numeros[7] = 'siete'  # Las listas se pueden mutar\n",
    "print(numeros)"
   ]
  },
  {
   "cell_type": "code",
   "execution_count": 51,
   "id": "10f98fe1",
   "metadata": {
    "execution": {
     "iopub.execute_input": "2021-09-19T04:30:17.476823Z",
     "iopub.status.busy": "2021-09-19T04:30:17.476271Z",
     "iopub.status.idle": "2021-09-19T04:30:17.478235Z",
     "shell.execute_reply": "2021-09-19T04:30:17.478664Z"
    }
   },
   "outputs": [
    {
     "name": "stdout",
     "output_type": "stream",
     "text": [
      "[10, 9, 8, 'siete', 6, 5, 4, 3, 2, 1, 0]\n"
     ]
    }
   ],
   "source": [
    "numeros = numeros[::-1]\n",
    "print(numeros)"
   ]
  },
  {
   "cell_type": "code",
   "execution_count": 52,
   "id": "c18c1360",
   "metadata": {
    "execution": {
     "iopub.execute_input": "2021-09-19T04:30:17.482631Z",
     "iopub.status.busy": "2021-09-19T04:30:17.482066Z",
     "iopub.status.idle": "2021-09-19T04:30:17.488045Z",
     "shell.execute_reply": "2021-09-19T04:30:17.487598Z"
    },
    "tags": [
     "raises-exception"
    ]
   },
   "outputs": [
    {
     "ename": "IndexError",
     "evalue": "list index out of range",
     "output_type": "error",
     "traceback": [
      "\u001b[0;31m---------------------------------------------------------------------------\u001b[0m",
      "\u001b[0;31mIndexError\u001b[0m                                Traceback (most recent call last)",
      "\u001b[0;32m/tmp/ipykernel_1978/1255736182.py\u001b[0m in \u001b[0;36m<module>\u001b[0;34m\u001b[0m\n\u001b[0;32m----> 1\u001b[0;31m \u001b[0mprint\u001b[0m\u001b[0;34m(\u001b[0m\u001b[0mnumeros\u001b[0m\u001b[0;34m[\u001b[0m\u001b[0;36m15\u001b[0m\u001b[0;34m]\u001b[0m\u001b[0;34m)\u001b[0m  \u001b[0;31m# Falla. No se puede acceder a una posición inexistente\u001b[0m\u001b[0;34m\u001b[0m\u001b[0;34m\u001b[0m\u001b[0m\n\u001b[0m",
      "\u001b[0;31mIndexError\u001b[0m: list index out of range"
     ]
    }
   ],
   "source": [
    "print(numeros[15])  # Falla. No se puede acceder a una posición inexistente"
   ]
  },
  {
   "cell_type": "code",
   "execution_count": 53,
   "id": "d9ae33d3",
   "metadata": {
    "execution": {
     "iopub.execute_input": "2021-09-19T04:30:17.492498Z",
     "iopub.status.busy": "2021-09-19T04:30:17.491604Z",
     "iopub.status.idle": "2021-09-19T04:30:17.495822Z",
     "shell.execute_reply": "2021-09-19T04:30:17.496249Z"
    }
   },
   "outputs": [
    {
     "name": "stdout",
     "output_type": "stream",
     "text": [
      "palabra\n",
      "a\n",
      "pal\n",
      "abra\n"
     ]
    }
   ],
   "source": [
    "palabra = 'palabra'\n",
    "print(palabra)\n",
    "print(palabra[3])\n",
    "print(palabra[:3])\n",
    "print(palabra[3:])"
   ]
  },
  {
   "cell_type": "code",
   "execution_count": 54,
   "id": "ca6d39d6",
   "metadata": {
    "execution": {
     "iopub.execute_input": "2021-09-19T04:30:17.500579Z",
     "iopub.status.busy": "2021-09-19T04:30:17.500026Z",
     "iopub.status.idle": "2021-09-19T04:30:17.504347Z",
     "shell.execute_reply": "2021-09-19T04:30:17.503889Z"
    }
   },
   "outputs": [
    {
     "name": "stdout",
     "output_type": "stream",
     "text": [
      "(0, 1, 2, 3, 4)\n",
      "(0, 1)\n",
      "(2, 3, 4)\n"
     ]
    }
   ],
   "source": [
    "tupla = (0, 1, 2, 3, 4)\n",
    "\n",
    "print(tupla)\n",
    "print(tupla[:2])\n",
    "print(tupla[2:])"
   ]
  },
  {
   "cell_type": "markdown",
   "id": "68b92602",
   "metadata": {
    "slideshow": {
     "slide_type": "slide"
    }
   },
   "source": [
    "#### Diccionarios de Python\n",
    "\n",
    "Son como hashmaps, las claves deben ser inmutables para que no pierda sentido el diccionario. Si se pudieran modificar, se podrían cambiar las claves y generaría conflictos.\n",
    "\n",
    "Tipos mutables:\n",
    "- Listas\n",
    "- Diccionarios\n",
    "- Sets\n",
    "\n",
    "Tipos inmutables:\n",
    "- Int\n",
    "- Float\n",
    "- String\n",
    "- Tuplas\n"
   ]
  },
  {
   "cell_type": "code",
   "execution_count": 55,
   "id": "798080ba",
   "metadata": {
    "execution": {
     "iopub.execute_input": "2021-09-19T04:30:17.508549Z",
     "iopub.status.busy": "2021-09-19T04:30:17.507997Z",
     "iopub.status.idle": "2021-09-19T04:30:17.511364Z",
     "shell.execute_reply": "2021-09-19T04:30:17.511798Z"
    },
    "slideshow": {
     "slide_type": "slide"
    }
   },
   "outputs": [
    {
     "data": {
      "text/plain": [
       "{}"
      ]
     },
     "execution_count": 55,
     "metadata": {},
     "output_type": "execute_result"
    }
   ],
   "source": [
    "diccionario = {}\n",
    "diccionario"
   ]
  },
  {
   "cell_type": "code",
   "execution_count": 56,
   "id": "ff0bc5b0",
   "metadata": {
    "execution": {
     "iopub.execute_input": "2021-09-19T04:30:17.518226Z",
     "iopub.status.busy": "2021-09-19T04:30:17.517085Z",
     "iopub.status.idle": "2021-09-19T04:30:17.520267Z",
     "shell.execute_reply": "2021-09-19T04:30:17.520814Z"
    }
   },
   "outputs": [
    {
     "data": {
      "text/plain": [
       "{}"
      ]
     },
     "execution_count": 56,
     "metadata": {},
     "output_type": "execute_result"
    }
   ],
   "source": [
    "diccionario = dict()\n",
    "diccionario"
   ]
  },
  {
   "cell_type": "code",
   "execution_count": 57,
   "id": "fbdbac1a",
   "metadata": {
    "execution": {
     "iopub.execute_input": "2021-09-19T04:30:17.524894Z",
     "iopub.status.busy": "2021-09-19T04:30:17.524361Z",
     "iopub.status.idle": "2021-09-19T04:30:17.526399Z",
     "shell.execute_reply": "2021-09-19T04:30:17.526797Z"
    },
    "slideshow": {
     "slide_type": "slide"
    }
   },
   "outputs": [
    {
     "name": "stdout",
     "output_type": "stream",
     "text": [
      "{'clave1': 'valor1', 2: 'valor2', 'clave3': 3}\n"
     ]
    }
   ],
   "source": [
    "# Cómo agregar cosas al diccionario\n",
    "diccionario['clave1'] = 'valor1'\n",
    "diccionario[2] = 'valor2'\n",
    "diccionario['clave3'] = 3\n",
    "print(diccionario)"
   ]
  },
  {
   "cell_type": "markdown",
   "id": "8fefce4c",
   "metadata": {},
   "source": [
    "Hay dos formas de obtener valores de un diccionario:\n",
    "\n",
    "```python\n",
    "diccionario[clave]\n",
    "```\n",
    "\n",
    "El cual devuelve el valor si existe la clave suministrada o bien lanza `KeyError` si no existe."
   ]
  },
  {
   "cell_type": "code",
   "execution_count": 58,
   "id": "21eb7743",
   "metadata": {
    "execution": {
     "iopub.execute_input": "2021-09-19T04:30:17.530902Z",
     "iopub.status.busy": "2021-09-19T04:30:17.530464Z",
     "iopub.status.idle": "2021-09-19T04:30:17.535577Z",
     "shell.execute_reply": "2021-09-19T04:30:17.535092Z"
    }
   },
   "outputs": [
    {
     "data": {
      "text/plain": [
       "'valor1'"
      ]
     },
     "execution_count": 58,
     "metadata": {},
     "output_type": "execute_result"
    }
   ],
   "source": [
    "diccionario['clave1']"
   ]
  },
  {
   "cell_type": "code",
   "execution_count": 59,
   "id": "5796227a",
   "metadata": {
    "execution": {
     "iopub.execute_input": "2021-09-19T04:30:17.541871Z",
     "iopub.status.busy": "2021-09-19T04:30:17.541330Z",
     "iopub.status.idle": "2021-09-19T04:30:17.546292Z",
     "shell.execute_reply": "2021-09-19T04:30:17.545843Z"
    },
    "tags": [
     "raises-exception"
    ]
   },
   "outputs": [
    {
     "ename": "KeyError",
     "evalue": "'clave1000'",
     "output_type": "error",
     "traceback": [
      "\u001b[0;31m---------------------------------------------------------------------------\u001b[0m",
      "\u001b[0;31mKeyError\u001b[0m                                  Traceback (most recent call last)",
      "\u001b[0;32m/tmp/ipykernel_1978/3541524662.py\u001b[0m in \u001b[0;36m<module>\u001b[0;34m\u001b[0m\n\u001b[0;32m----> 1\u001b[0;31m \u001b[0mdiccionario\u001b[0m\u001b[0;34m[\u001b[0m\u001b[0;34m'clave1000'\u001b[0m\u001b[0;34m]\u001b[0m\u001b[0;34m\u001b[0m\u001b[0;34m\u001b[0m\u001b[0m\n\u001b[0m",
      "\u001b[0;31mKeyError\u001b[0m: 'clave1000'"
     ]
    }
   ],
   "source": [
    "diccionario['clave1000']"
   ]
  },
  {
   "cell_type": "markdown",
   "id": "2191f08c",
   "metadata": {},
   "source": [
    "La segunda forma es con `get`:"
   ]
  },
  {
   "cell_type": "code",
   "execution_count": 60,
   "id": "06b138fb",
   "metadata": {
    "execution": {
     "iopub.execute_input": "2021-09-19T04:30:17.558737Z",
     "iopub.status.busy": "2021-09-19T04:30:17.553470Z",
     "iopub.status.idle": "2021-09-19T04:30:17.604992Z",
     "shell.execute_reply": "2021-09-19T04:30:17.604478Z"
    }
   },
   "outputs": [],
   "source": [
    "diccionario.get?"
   ]
  },
  {
   "cell_type": "code",
   "execution_count": 61,
   "id": "2c140fd5",
   "metadata": {
    "execution": {
     "iopub.execute_input": "2021-09-19T04:30:17.609560Z",
     "iopub.status.busy": "2021-09-19T04:30:17.609033Z",
     "iopub.status.idle": "2021-09-19T04:30:17.615256Z",
     "shell.execute_reply": "2021-09-19T04:30:17.614776Z"
    }
   },
   "outputs": [
    {
     "name": "stdout",
     "output_type": "stream",
     "text": [
      "Help on built-in function get:\n",
      "\n",
      "get(key, default=None, /) method of builtins.dict instance\n",
      "    Return the value for key if key is in the dictionary, else default.\n",
      "\n"
     ]
    }
   ],
   "source": [
    "help(diccionario.get)"
   ]
  },
  {
   "cell_type": "code",
   "execution_count": 62,
   "id": "09a3701c",
   "metadata": {
    "execution": {
     "iopub.execute_input": "2021-09-19T04:30:17.618925Z",
     "iopub.status.busy": "2021-09-19T04:30:17.618463Z",
     "iopub.status.idle": "2021-09-19T04:30:17.622622Z",
     "shell.execute_reply": "2021-09-19T04:30:17.622158Z"
    },
    "slideshow": {
     "slide_type": "slide"
    }
   },
   "outputs": [
    {
     "name": "stdout",
     "output_type": "stream",
     "text": [
      "None\n"
     ]
    }
   ],
   "source": [
    "print(diccionario.get('clave1000'))"
   ]
  },
  {
   "cell_type": "code",
   "execution_count": 63,
   "id": "97c724b6",
   "metadata": {
    "execution": {
     "iopub.execute_input": "2021-09-19T04:30:17.626535Z",
     "iopub.status.busy": "2021-09-19T04:30:17.625967Z",
     "iopub.status.idle": "2021-09-19T04:30:17.628081Z",
     "shell.execute_reply": "2021-09-19T04:30:17.627564Z"
    },
    "slideshow": {
     "slide_type": "slide"
    }
   },
   "outputs": [
    {
     "name": "stdout",
     "output_type": "stream",
     "text": [
      "True\n"
     ]
    }
   ],
   "source": [
    "print('clave1' in diccionario)  # Verifico si la clave está en el diccionario"
   ]
  },
  {
   "cell_type": "code",
   "execution_count": 64,
   "id": "21e3df3f",
   "metadata": {
    "execution": {
     "iopub.execute_input": "2021-09-19T04:30:17.631892Z",
     "iopub.status.busy": "2021-09-19T04:30:17.631496Z",
     "iopub.status.idle": "2021-09-19T04:30:17.635737Z",
     "shell.execute_reply": "2021-09-19T04:30:17.636159Z"
    }
   },
   "outputs": [
    {
     "data": {
      "text/plain": [
       "True"
      ]
     },
     "execution_count": 64,
     "metadata": {},
     "output_type": "execute_result"
    }
   ],
   "source": [
    "l = [1, 2, 3, 4]\n",
    "2 in l"
   ]
  },
  {
   "cell_type": "code",
   "execution_count": 65,
   "id": "11d5a8cc",
   "metadata": {
    "execution": {
     "iopub.execute_input": "2021-09-19T04:30:17.639591Z",
     "iopub.status.busy": "2021-09-19T04:30:17.638193Z",
     "iopub.status.idle": "2021-09-19T04:30:17.643836Z",
     "shell.execute_reply": "2021-09-19T04:30:17.643268Z"
    }
   },
   "outputs": [
    {
     "name": "stdout",
     "output_type": "stream",
     "text": [
      "la clave es clave1 y el valor es valor1\n",
      "la clave es 2 y el valor es valor2\n",
      "la clave es clave3 y el valor es 3\n"
     ]
    }
   ],
   "source": [
    "for clave, valor in diccionario.items():\n",
    "    print(\"la clave es %s y el valor es %s\" % (clave, valor))"
   ]
  },
  {
   "cell_type": "code",
   "execution_count": 66,
   "id": "919e3c59",
   "metadata": {
    "execution": {
     "iopub.execute_input": "2021-09-19T04:30:17.647543Z",
     "iopub.status.busy": "2021-09-19T04:30:17.647073Z",
     "iopub.status.idle": "2021-09-19T04:30:17.651510Z",
     "shell.execute_reply": "2021-09-19T04:30:17.651049Z"
    }
   },
   "outputs": [
    {
     "name": "stdout",
     "output_type": "stream",
     "text": [
      "la clave es clave1 y el valor es valor1\n",
      "la clave es 2 y el valor es valor2\n"
     ]
    },
    {
     "name": "stdout",
     "output_type": "stream",
     "text": [
      "la clave es clave3 y el valor es 3\n"
     ]
    }
   ],
   "source": [
    "for clave, valor in diccionario.items():\n",
    "    print(\"la clave es {} y el valor es {}\".format(clave, valor))"
   ]
  },
  {
   "cell_type": "code",
   "execution_count": 67,
   "id": "fe71fcfa",
   "metadata": {
    "execution": {
     "iopub.execute_input": "2021-09-19T04:30:17.655602Z",
     "iopub.status.busy": "2021-09-19T04:30:17.654532Z",
     "iopub.status.idle": "2021-09-19T04:30:17.659908Z",
     "shell.execute_reply": "2021-09-19T04:30:17.659422Z"
    },
    "slideshow": {
     "slide_type": "slide"
    }
   },
   "outputs": [
    {
     "name": "stdout",
     "output_type": "stream",
     "text": [
      "la clave es clave1 y el valor es valor1\n",
      "la clave es 2 y el valor es valor2\n",
      "la clave es clave3 y el valor es 3\n"
     ]
    }
   ],
   "source": [
    "# Cómo iterar un diccionario elemento por elemento\n",
    "for (\n",
    "    clave,\n",
    "    valor,\n",
    ") in (\n",
    "    diccionario.items()\n",
    "):  # diccionario.items() va devolviendo tuplas con el formato (clave,valor)\n",
    "    print(\n",
    "        f\"la clave es {clave} y el valor es {valor}\"\n",
    "    )  # con esta sintaxis se desempaquetan en clave y valor (similar a enumerate)"
   ]
  },
  {
   "cell_type": "code",
   "execution_count": 68,
   "id": "6e3d2422",
   "metadata": {
    "execution": {
     "iopub.execute_input": "2021-09-19T04:30:17.663338Z",
     "iopub.status.busy": "2021-09-19T04:30:17.662852Z",
     "iopub.status.idle": "2021-09-19T04:30:17.666634Z",
     "shell.execute_reply": "2021-09-19T04:30:17.666268Z"
    },
    "slideshow": {
     "slide_type": "slide"
    }
   },
   "outputs": [
    {
     "name": "stdout",
     "output_type": "stream",
     "text": [
      "clave1\n",
      "2\n",
      "clave3\n"
     ]
    }
   ],
   "source": [
    "for clave in diccionario.keys():\n",
    "    print(clave)"
   ]
  },
  {
   "cell_type": "code",
   "execution_count": 69,
   "id": "fc678a8b",
   "metadata": {
    "execution": {
     "iopub.execute_input": "2021-09-19T04:30:17.669851Z",
     "iopub.status.busy": "2021-09-19T04:30:17.669289Z",
     "iopub.status.idle": "2021-09-19T04:30:17.672567Z",
     "shell.execute_reply": "2021-09-19T04:30:17.672107Z"
    },
    "slideshow": {
     "slide_type": "slide"
    }
   },
   "outputs": [
    {
     "name": "stdout",
     "output_type": "stream",
     "text": [
      "valor1\n",
      "valor2\n",
      "3\n"
     ]
    }
   ],
   "source": [
    "for valor in diccionario.values():\n",
    "    print(valor)"
   ]
  },
  {
   "cell_type": "markdown",
   "id": "9fd08db2",
   "metadata": {},
   "source": [
    "#### Sets\n",
    "\n",
    "Son similares a los diccionarios (en eficiencia) pero se almacenan solo claves, y tienen algunas operaciones particulares.\n",
    "\n",
    "En particular, no pueden tener elementos iguales (pensar que son conjuntos)"
   ]
  },
  {
   "cell_type": "code",
   "execution_count": 70,
   "id": "290a47b4",
   "metadata": {
    "execution": {
     "iopub.execute_input": "2021-09-19T04:30:17.677533Z",
     "iopub.status.busy": "2021-09-19T04:30:17.675830Z",
     "iopub.status.idle": "2021-09-19T04:30:17.680622Z",
     "shell.execute_reply": "2021-09-19T04:30:17.680229Z"
    }
   },
   "outputs": [],
   "source": [
    "set??"
   ]
  },
  {
   "cell_type": "code",
   "execution_count": 71,
   "id": "4ce23874",
   "metadata": {
    "execution": {
     "iopub.execute_input": "2021-09-19T04:30:17.685169Z",
     "iopub.status.busy": "2021-09-19T04:30:17.684094Z",
     "iopub.status.idle": "2021-09-19T04:30:17.688619Z",
     "shell.execute_reply": "2021-09-19T04:30:17.688277Z"
    }
   },
   "outputs": [
    {
     "data": {
      "text/plain": [
       "{1, 2, 3}"
      ]
     },
     "execution_count": 71,
     "metadata": {},
     "output_type": "execute_result"
    }
   ],
   "source": [
    "# Se definen como los diccionarios pero sin hacerlos 'clave:valor', solamente una seguidilla de elementos\n",
    "{1, 2, 2, 3}"
   ]
  },
  {
   "cell_type": "code",
   "execution_count": 72,
   "id": "4e114d5c",
   "metadata": {
    "execution": {
     "iopub.execute_input": "2021-09-19T04:30:17.693388Z",
     "iopub.status.busy": "2021-09-19T04:30:17.692918Z",
     "iopub.status.idle": "2021-09-19T04:30:17.697220Z",
     "shell.execute_reply": "2021-09-19T04:30:17.697641Z"
    }
   },
   "outputs": [
    {
     "data": {
      "text/plain": [
       "{1, 2, 3}"
      ]
     },
     "execution_count": 72,
     "metadata": {},
     "output_type": "execute_result"
    }
   ],
   "source": [
    "set([1, 2, 2, 3])"
   ]
  },
  {
   "cell_type": "markdown",
   "id": "7a82d0d8",
   "metadata": {},
   "source": [
    "## Condicionales (if...elif...else)\n",
    "\n",
    "```python\n",
    "if <condición_1>:\n",
    "    <hacer algo_1 si se da la condición_1>\n",
    "elif <condición_2>:\n",
    "    <hacer algo_2 si se da la condición_2>\n",
    "...\n",
    "elif <condición_n>:\n",
    "    <hacer algo_n si se da la condición_n>\n",
    "else:\n",
    "    <hacer otra cosa si no dan las anteriores>\n",
    "```\n",
    "\n",
    "Algo importante para notar es que los bloques se definen por **niveles de identacion**."
   ]
  },
  {
   "cell_type": "code",
   "execution_count": 73,
   "id": "79fe046c",
   "metadata": {
    "execution": {
     "iopub.execute_input": "2021-09-19T04:30:17.702978Z",
     "iopub.status.busy": "2021-09-19T04:30:17.701823Z",
     "iopub.status.idle": "2021-09-19T04:30:17.704744Z",
     "shell.execute_reply": "2021-09-19T04:30:17.704202Z"
    }
   },
   "outputs": [
    {
     "name": "stdout",
     "output_type": "stream",
     "text": [
      "uno\n"
     ]
    }
   ],
   "source": [
    "v = 1\n",
    "if v == 1:\n",
    "    print(\"uno\")\n",
    "elif v == 2:\n",
    "    print(\"dos\")\n",
    "else:\n",
    "    print(\"ni idea\")\n",
    "    print(v)"
   ]
  },
  {
   "cell_type": "markdown",
   "id": "b059659a",
   "metadata": {},
   "source": [
    "## Iteraciones\n",
    "\n",
    "```python\n",
    "while cond:\n",
    "    <codigo>\n",
    "```\n",
    "\n",
    "```python\n",
    "for elemento in iterable:\n",
    "    <codigo>\n",
    "```\n",
    "\n",
    "Para iterar sobre un rango de valores, usamos `range`"
   ]
  },
  {
   "cell_type": "code",
   "execution_count": 74,
   "id": "5f99e995",
   "metadata": {
    "execution": {
     "iopub.execute_input": "2021-09-19T04:30:17.709754Z",
     "iopub.status.busy": "2021-09-19T04:30:17.708784Z",
     "iopub.status.idle": "2021-09-19T04:30:17.711285Z",
     "shell.execute_reply": "2021-09-19T04:30:17.710893Z"
    }
   },
   "outputs": [
    {
     "name": "stdout",
     "output_type": "stream",
     "text": [
      "1\n",
      "4\n",
      "7\n",
      "10\n"
     ]
    }
   ],
   "source": [
    "for i in range(1, 11, 3):\n",
    "    print(i)"
   ]
  },
  {
   "cell_type": "markdown",
   "id": "9f0d3b98",
   "metadata": {},
   "source": [
    "## Operadores logicos\n",
    "\n",
    "`not`, `or`, `and`"
   ]
  },
  {
   "cell_type": "code",
   "execution_count": 75,
   "id": "06c2b593",
   "metadata": {
    "execution": {
     "iopub.execute_input": "2021-09-19T04:30:17.716758Z",
     "iopub.status.busy": "2021-09-19T04:30:17.714887Z",
     "iopub.status.idle": "2021-09-19T04:30:17.718671Z",
     "shell.execute_reply": "2021-09-19T04:30:17.718181Z"
    }
   },
   "outputs": [
    {
     "name": "stdout",
     "output_type": "stream",
     "text": [
      "yay\n"
     ]
    }
   ],
   "source": [
    "if True or False:\n",
    "    print(\"yay\")"
   ]
  },
  {
   "cell_type": "code",
   "execution_count": 76,
   "id": "2d1d9eb9",
   "metadata": {
    "execution": {
     "iopub.execute_input": "2021-09-19T04:30:17.722887Z",
     "iopub.status.busy": "2021-09-19T04:30:17.722443Z",
     "iopub.status.idle": "2021-09-19T04:30:17.724823Z",
     "shell.execute_reply": "2021-09-19T04:30:17.725342Z"
    }
   },
   "outputs": [
    {
     "data": {
      "text/plain": [
       "False"
      ]
     },
     "execution_count": 76,
     "metadata": {},
     "output_type": "execute_result"
    }
   ],
   "source": [
    "1 == 2"
   ]
  },
  {
   "cell_type": "code",
   "execution_count": 77,
   "id": "4db5b044",
   "metadata": {
    "execution": {
     "iopub.execute_input": "2021-09-19T04:30:17.729197Z",
     "iopub.status.busy": "2021-09-19T04:30:17.728660Z",
     "iopub.status.idle": "2021-09-19T04:30:17.731159Z",
     "shell.execute_reply": "2021-09-19T04:30:17.731571Z"
    }
   },
   "outputs": [
    {
     "data": {
      "text/plain": [
       "True"
      ]
     },
     "execution_count": 77,
     "metadata": {},
     "output_type": "execute_result"
    }
   ],
   "source": [
    "1 != 2"
   ]
  },
  {
   "cell_type": "markdown",
   "id": "4d05d9e6",
   "metadata": {
    "slideshow": {
     "slide_type": "slide"
    }
   },
   "source": [
    "## Funciones en Python"
   ]
  },
  {
   "cell_type": "code",
   "execution_count": 78,
   "id": "92480852",
   "metadata": {
    "execution": {
     "iopub.execute_input": "2021-09-19T04:30:17.739125Z",
     "iopub.status.busy": "2021-09-19T04:30:17.738670Z",
     "iopub.status.idle": "2021-09-19T04:30:17.742565Z",
     "shell.execute_reply": "2021-09-19T04:30:17.742110Z"
    },
    "slideshow": {
     "slide_type": "slide"
    }
   },
   "outputs": [
    {
     "name": "stdout",
     "output_type": "stream",
     "text": [
      "True\n",
      "False\n"
     ]
    }
   ],
   "source": [
    "def busqueda_binaria(lista, elemento):\n",
    "    if not lista:\n",
    "        return False\n",
    "    elif len(lista) == 1:\n",
    "        return lista[0] == elemento\n",
    "    mitad = len(lista) // 2  # // es la operación división entera\n",
    "    if lista[mitad] == elemento:\n",
    "        return True\n",
    "    if lista[mitad] > elemento:\n",
    "        return busqueda_binaria(lista[:mitad], elemento)\n",
    "    if lista[mitad] < elemento:\n",
    "        return busqueda_binaria(lista[mitad:], elemento)\n",
    "\n",
    "\n",
    "print(busqueda_binaria([1, 2, 3, 4, 5], 4))\n",
    "print(busqueda_binaria([1, 4, 6, 7, 9, 10], 2))"
   ]
  },
  {
   "cell_type": "code",
   "execution_count": 79,
   "id": "605dd89d",
   "metadata": {
    "execution": {
     "iopub.execute_input": "2021-09-19T04:30:17.747334Z",
     "iopub.status.busy": "2021-09-19T04:30:17.746803Z",
     "iopub.status.idle": "2021-09-19T04:30:17.750214Z",
     "shell.execute_reply": "2021-09-19T04:30:17.750610Z"
    }
   },
   "outputs": [
    {
     "name": "stdout",
     "output_type": "stream",
     "text": [
      "(3, 3, 3)\n"
     ]
    }
   ],
   "source": [
    "def a(b):\n",
    "    if a == 1:\n",
    "        print(a)\n",
    "    return (b, b, b)\n",
    "\n",
    "\n",
    "print(a(3))"
   ]
  },
  {
   "cell_type": "code",
   "execution_count": 80,
   "id": "ec9e3476",
   "metadata": {
    "execution": {
     "iopub.execute_input": "2021-09-19T04:30:17.756642Z",
     "iopub.status.busy": "2021-09-19T04:30:17.754371Z",
     "iopub.status.idle": "2021-09-19T04:30:17.763299Z",
     "shell.execute_reply": "2021-09-19T04:30:17.763741Z"
    },
    "lines_to_next_cell": 2,
    "slideshow": {
     "slide_type": "slide"
    },
    "tags": [
     "raises-exception"
    ]
   },
   "outputs": [
    {
     "name": "stdout",
     "output_type": "stream",
     "text": [
      "3\n",
      "3.0\n",
      "3.0\n",
      "hola como te va\n",
      "[1, 2, 3, 4, 5]\n"
     ]
    },
    {
     "ename": "TypeError",
     "evalue": "can only concatenate str (not \"int\") to str",
     "output_type": "error",
     "traceback": [
      "\u001b[0;31m---------------------------------------------------------------------------\u001b[0m",
      "\u001b[0;31mTypeError\u001b[0m                                 Traceback (most recent call last)",
      "\u001b[0;32m/tmp/ipykernel_1978/1000948441.py\u001b[0m in \u001b[0;36m<module>\u001b[0;34m\u001b[0m\n\u001b[1;32m      8\u001b[0m \u001b[0mprint\u001b[0m\u001b[0;34m(\u001b[0m\u001b[0msuma\u001b[0m\u001b[0;34m(\u001b[0m\u001b[0;34m\"hola \"\u001b[0m\u001b[0;34m,\u001b[0m \u001b[0;34m\"como te va\"\u001b[0m\u001b[0;34m)\u001b[0m\u001b[0;34m)\u001b[0m\u001b[0;34m\u001b[0m\u001b[0;34m\u001b[0m\u001b[0m\n\u001b[1;32m      9\u001b[0m \u001b[0mprint\u001b[0m\u001b[0;34m(\u001b[0m\u001b[0msuma\u001b[0m\u001b[0;34m(\u001b[0m\u001b[0;34m[\u001b[0m\u001b[0;36m1\u001b[0m\u001b[0;34m,\u001b[0m \u001b[0;36m2\u001b[0m\u001b[0;34m,\u001b[0m \u001b[0;36m3\u001b[0m\u001b[0;34m]\u001b[0m\u001b[0;34m,\u001b[0m \u001b[0;34m[\u001b[0m\u001b[0;36m4\u001b[0m\u001b[0;34m,\u001b[0m \u001b[0;36m5\u001b[0m\u001b[0;34m]\u001b[0m\u001b[0;34m)\u001b[0m\u001b[0;34m)\u001b[0m\u001b[0;34m\u001b[0m\u001b[0;34m\u001b[0m\u001b[0m\n\u001b[0;32m---> 10\u001b[0;31m \u001b[0mprint\u001b[0m\u001b[0;34m(\u001b[0m\u001b[0msuma\u001b[0m\u001b[0;34m(\u001b[0m\u001b[0;34m\"1\"\u001b[0m\u001b[0;34m,\u001b[0m \u001b[0;36m3\u001b[0m\u001b[0;34m)\u001b[0m\u001b[0;34m)\u001b[0m  \u001b[0;31m# Falla\u001b[0m\u001b[0;34m\u001b[0m\u001b[0;34m\u001b[0m\u001b[0m\n\u001b[0m",
      "\u001b[0;32m/tmp/ipykernel_1978/1000948441.py\u001b[0m in \u001b[0;36msuma\u001b[0;34m(a, b)\u001b[0m\n\u001b[1;32m      1\u001b[0m \u001b[0;32mdef\u001b[0m \u001b[0msuma\u001b[0m\u001b[0;34m(\u001b[0m\u001b[0ma\u001b[0m\u001b[0;34m,\u001b[0m \u001b[0mb\u001b[0m\u001b[0;34m)\u001b[0m\u001b[0;34m:\u001b[0m\u001b[0;34m\u001b[0m\u001b[0;34m\u001b[0m\u001b[0m\n\u001b[0;32m----> 2\u001b[0;31m     \u001b[0;32mreturn\u001b[0m \u001b[0ma\u001b[0m \u001b[0;34m+\u001b[0m \u001b[0mb\u001b[0m\u001b[0;34m\u001b[0m\u001b[0;34m\u001b[0m\u001b[0m\n\u001b[0m\u001b[1;32m      3\u001b[0m \u001b[0;34m\u001b[0m\u001b[0m\n\u001b[1;32m      4\u001b[0m \u001b[0;34m\u001b[0m\u001b[0m\n\u001b[1;32m      5\u001b[0m \u001b[0mprint\u001b[0m\u001b[0;34m(\u001b[0m\u001b[0msuma\u001b[0m\u001b[0;34m(\u001b[0m\u001b[0;36m1\u001b[0m\u001b[0;34m,\u001b[0m \u001b[0;36m2\u001b[0m\u001b[0;34m)\u001b[0m\u001b[0;34m)\u001b[0m\u001b[0;34m\u001b[0m\u001b[0;34m\u001b[0m\u001b[0m\n",
      "\u001b[0;31mTypeError\u001b[0m: can only concatenate str (not \"int\") to str"
     ]
    }
   ],
   "source": [
    "def suma(a, b):\n",
    "    return a + b\n",
    "\n",
    "\n",
    "print(suma(1, 2))\n",
    "print(suma(1.0, 2.0))\n",
    "print(suma(1.0, 2))\n",
    "print(suma(\"hola \", \"como te va\"))\n",
    "print(suma([1, 2, 3], [4, 5]))\n",
    "print(suma(\"1\", 3))  # Falla"
   ]
  },
  {
   "cell_type": "code",
   "execution_count": 81,
   "id": "85c17dce",
   "metadata": {
    "execution": {
     "iopub.execute_input": "2021-09-19T04:30:17.768782Z",
     "iopub.status.busy": "2021-09-19T04:30:17.767708Z",
     "iopub.status.idle": "2021-09-19T04:30:17.770241Z",
     "shell.execute_reply": "2021-09-19T04:30:17.770607Z"
    }
   },
   "outputs": [
    {
     "name": "stdout",
     "output_type": "stream",
     "text": [
      "2.0\n"
     ]
    }
   ],
   "source": [
    "# El valor por default de divisor es 1\n",
    "\n",
    "\n",
    "def division(dividendo, divisor=2):\n",
    "    return dividendo / divisor\n",
    "\n",
    "\n",
    "print(division(4))  # Usa el valor por default"
   ]
  },
  {
   "cell_type": "code",
   "execution_count": 82,
   "id": "8dc24ba5",
   "metadata": {
    "execution": {
     "iopub.execute_input": "2021-09-19T04:30:17.778781Z",
     "iopub.status.busy": "2021-09-19T04:30:17.778244Z",
     "iopub.status.idle": "2021-09-19T04:30:17.781620Z",
     "shell.execute_reply": "2021-09-19T04:30:17.781224Z"
    },
    "tags": [
     "raises-exception"
    ]
   },
   "outputs": [
    {
     "name": "stdout",
     "output_type": "stream",
     "text": [
      "0.5\n",
      "0.5\n"
     ]
    },
    {
     "ename": "TypeError",
     "evalue": "division() missing 1 required positional argument: 'dividendo'",
     "output_type": "error",
     "traceback": [
      "\u001b[0;31m---------------------------------------------------------------------------\u001b[0m",
      "\u001b[0;31mTypeError\u001b[0m                                 Traceback (most recent call last)",
      "\u001b[0;32m/tmp/ipykernel_1978/1004518412.py\u001b[0m in \u001b[0;36m<module>\u001b[0;34m\u001b[0m\n\u001b[1;32m      1\u001b[0m \u001b[0mprint\u001b[0m\u001b[0;34m(\u001b[0m\u001b[0mdivision\u001b[0m\u001b[0;34m(\u001b[0m\u001b[0;36m1\u001b[0m\u001b[0;34m,\u001b[0m \u001b[0;36m2\u001b[0m\u001b[0;34m)\u001b[0m\u001b[0;34m)\u001b[0m  \u001b[0;31m# Parámetros por orden\u001b[0m\u001b[0;34m\u001b[0m\u001b[0;34m\u001b[0m\u001b[0m\n\u001b[1;32m      2\u001b[0m \u001b[0mprint\u001b[0m\u001b[0;34m(\u001b[0m\u001b[0mdivision\u001b[0m\u001b[0;34m(\u001b[0m\u001b[0mdividendo\u001b[0m\u001b[0;34m=\u001b[0m\u001b[0;36m1\u001b[0m\u001b[0;34m,\u001b[0m \u001b[0mdivisor\u001b[0m\u001b[0;34m=\u001b[0m\u001b[0;36m2\u001b[0m\u001b[0;34m)\u001b[0m\u001b[0;34m)\u001b[0m  \u001b[0;31m# Parámetros por nombre\u001b[0m\u001b[0;34m\u001b[0m\u001b[0;34m\u001b[0m\u001b[0m\n\u001b[0;32m----> 3\u001b[0;31m \u001b[0mprint\u001b[0m\u001b[0;34m(\u001b[0m\u001b[0mdivision\u001b[0m\u001b[0;34m(\u001b[0m\u001b[0mdivisor\u001b[0m\u001b[0;34m=\u001b[0m\u001b[0;36m2\u001b[0m\u001b[0;34m)\u001b[0m\u001b[0;34m)\u001b[0m\u001b[0;34m\u001b[0m\u001b[0;34m\u001b[0m\u001b[0m\n\u001b[0m",
      "\u001b[0;31mTypeError\u001b[0m: division() missing 1 required positional argument: 'dividendo'"
     ]
    }
   ],
   "source": [
    "print(division(1, 2))  # Parámetros por orden\n",
    "print(division(dividendo=1, divisor=2))  # Parámetros por nombre\n",
    "print(division(divisor=2))"
   ]
  },
  {
   "cell_type": "code",
   "execution_count": 83,
   "id": "036f054d",
   "metadata": {
    "execution": {
     "iopub.execute_input": "2021-09-19T04:30:17.785222Z",
     "iopub.status.busy": "2021-09-19T04:30:17.783376Z",
     "iopub.status.idle": "2021-09-19T04:30:17.787231Z",
     "shell.execute_reply": "2021-09-19T04:30:17.787650Z"
    }
   },
   "outputs": [
    {
     "name": "stdout",
     "output_type": "stream",
     "text": [
      "0.5\n"
     ]
    }
   ],
   "source": [
    "print(division(divisor=2, dividendo=1))"
   ]
  },
  {
   "cell_type": "code",
   "execution_count": 84,
   "id": "9424d6b8",
   "metadata": {
    "execution": {
     "iopub.execute_input": "2021-09-19T04:30:17.793360Z",
     "iopub.status.busy": "2021-09-19T04:30:17.792552Z",
     "iopub.status.idle": "2021-09-19T04:30:17.794708Z",
     "shell.execute_reply": "2021-09-19T04:30:17.795141Z"
    }
   },
   "outputs": [
    {
     "name": "stdout",
     "output_type": "stream",
     "text": [
      "['a', 'b', 'c']\n",
      "[1, 2, 3]\n",
      "['hola', ' don', ' pepito']\n",
      "hola -  don -  pepito\n"
     ]
    }
   ],
   "source": [
    "# Funciones básicas ya en el lenguaje\n",
    "# Hechas para funcionar para distintos tipos\n",
    "\n",
    "string_ordenado = sorted('bca')\n",
    "print(string_ordenado)\n",
    "\n",
    "lista_ordenada = sorted([1, 3, 2])\n",
    "print(lista_ordenada)\n",
    "\n",
    "separadas = \"hola, don, pepito\".split(\",\")\n",
    "print(separadas)\n",
    "unidas = \" - \".join(separadas)\n",
    "print(unidas)"
   ]
  },
  {
   "cell_type": "markdown",
   "id": "9a73a3b4",
   "metadata": {},
   "source": [
    "## Módulos\n",
    "\n",
    "Para incluir alguna biblioteca de funciones se usa `import`. Pueden ser cosas ya predefinidas en Python (`math`, `random`, etc), nombres de archivos en nuestro directorio (por ejemplo, para `mimodulo.py` ponemos `import mimodulo`) o bibliotecas instaladas por el usuario"
   ]
  },
  {
   "cell_type": "code",
   "execution_count": 85,
   "id": "7361dbf8",
   "metadata": {
    "execution": {
     "iopub.execute_input": "2021-09-19T04:30:17.799023Z",
     "iopub.status.busy": "2021-09-19T04:30:17.798507Z",
     "iopub.status.idle": "2021-09-19T04:30:17.802423Z",
     "shell.execute_reply": "2021-09-19T04:30:17.802810Z"
    }
   },
   "outputs": [
    {
     "name": "stdout",
     "output_type": "stream",
     "text": [
      "3.141592653589793\n"
     ]
    }
   ],
   "source": [
    "import math\n",
    "\n",
    "print(math.pi)"
   ]
  },
  {
   "cell_type": "code",
   "execution_count": 86,
   "id": "549aeeff",
   "metadata": {
    "execution": {
     "iopub.execute_input": "2021-09-19T04:30:17.806107Z",
     "iopub.status.busy": "2021-09-19T04:30:17.805542Z",
     "iopub.status.idle": "2021-09-19T04:30:17.807729Z",
     "shell.execute_reply": "2021-09-19T04:30:17.808099Z"
    }
   },
   "outputs": [
    {
     "name": "stdout",
     "output_type": "stream",
     "text": [
      "3.141592653589793 2.718281828459045\n"
     ]
    }
   ],
   "source": [
    "from math import pi, e\n",
    "\n",
    "print(pi, e)"
   ]
  },
  {
   "cell_type": "code",
   "execution_count": 87,
   "id": "8ced47c2",
   "metadata": {
    "execution": {
     "iopub.execute_input": "2021-09-19T04:30:17.812426Z",
     "iopub.status.busy": "2021-09-19T04:30:17.811687Z",
     "iopub.status.idle": "2021-09-19T04:30:17.814247Z",
     "shell.execute_reply": "2021-09-19T04:30:17.814716Z"
    }
   },
   "outputs": [
    {
     "data": {
      "text/plain": [
       "2"
      ]
     },
     "execution_count": 87,
     "metadata": {},
     "output_type": "execute_result"
    }
   ],
   "source": [
    "math.gcd(56, 78)"
   ]
  },
  {
   "cell_type": "markdown",
   "id": "63c5b48e",
   "metadata": {},
   "source": [
    "## Manejo de excepciones\n",
    "\n",
    "Se pueden encapsular errores esperados en un bloque 'try/except' para evitar cortar el flujo del programa"
   ]
  },
  {
   "cell_type": "code",
   "execution_count": 88,
   "id": "b35f2cc1",
   "metadata": {
    "execution": {
     "iopub.execute_input": "2021-09-19T04:30:17.818213Z",
     "iopub.status.busy": "2021-09-19T04:30:17.817618Z",
     "iopub.status.idle": "2021-09-19T04:30:17.825659Z",
     "shell.execute_reply": "2021-09-19T04:30:17.826116Z"
    },
    "tags": [
     "raises-exception"
    ]
   },
   "outputs": [
    {
     "ename": "ZeroDivisionError",
     "evalue": "division by zero",
     "output_type": "error",
     "traceback": [
      "\u001b[0;31m---------------------------------------------------------------------------\u001b[0m",
      "\u001b[0;31mZeroDivisionError\u001b[0m                         Traceback (most recent call last)",
      "\u001b[0;32m/tmp/ipykernel_1978/1165346582.py\u001b[0m in \u001b[0;36m<module>\u001b[0;34m\u001b[0m\n\u001b[0;32m----> 1\u001b[0;31m \u001b[0mdivision\u001b[0m\u001b[0;34m(\u001b[0m\u001b[0;36m1\u001b[0m\u001b[0;34m,\u001b[0m \u001b[0;36m0\u001b[0m\u001b[0;34m)\u001b[0m  \u001b[0;31m# No se puede dividir por cero\u001b[0m\u001b[0;34m\u001b[0m\u001b[0;34m\u001b[0m\u001b[0m\n\u001b[0m",
      "\u001b[0;32m/tmp/ipykernel_1978/2607187721.py\u001b[0m in \u001b[0;36mdivision\u001b[0;34m(dividendo, divisor)\u001b[0m\n\u001b[1;32m      3\u001b[0m \u001b[0;34m\u001b[0m\u001b[0m\n\u001b[1;32m      4\u001b[0m \u001b[0;32mdef\u001b[0m \u001b[0mdivision\u001b[0m\u001b[0;34m(\u001b[0m\u001b[0mdividendo\u001b[0m\u001b[0;34m,\u001b[0m \u001b[0mdivisor\u001b[0m\u001b[0;34m=\u001b[0m\u001b[0;36m2\u001b[0m\u001b[0;34m)\u001b[0m\u001b[0;34m:\u001b[0m\u001b[0;34m\u001b[0m\u001b[0;34m\u001b[0m\u001b[0m\n\u001b[0;32m----> 5\u001b[0;31m     \u001b[0;32mreturn\u001b[0m \u001b[0mdividendo\u001b[0m \u001b[0;34m/\u001b[0m \u001b[0mdivisor\u001b[0m\u001b[0;34m\u001b[0m\u001b[0;34m\u001b[0m\u001b[0m\n\u001b[0m\u001b[1;32m      6\u001b[0m \u001b[0;34m\u001b[0m\u001b[0m\n\u001b[1;32m      7\u001b[0m \u001b[0;34m\u001b[0m\u001b[0m\n",
      "\u001b[0;31mZeroDivisionError\u001b[0m: division by zero"
     ]
    }
   ],
   "source": [
    "division(1, 0)  # No se puede dividir por cero"
   ]
  },
  {
   "cell_type": "code",
   "execution_count": 89,
   "id": "35510050",
   "metadata": {
    "execution": {
     "iopub.execute_input": "2021-09-19T04:30:17.828950Z",
     "iopub.status.busy": "2021-09-19T04:30:17.828445Z",
     "iopub.status.idle": "2021-09-19T04:30:17.832623Z",
     "shell.execute_reply": "2021-09-19T04:30:17.833053Z"
    }
   },
   "outputs": [
    {
     "name": "stdout",
     "output_type": "stream",
     "text": [
      "No se puede dividir por cero, ojo! division by zero\n",
      "1\n"
     ]
    }
   ],
   "source": [
    "try:\n",
    "    division(1, 0)\n",
    "except (ZeroDivisionError, TypeError) as e:\n",
    "    print('No se puede dividir por cero, ojo!', e)\n",
    "finally:\n",
    "    print(1)"
   ]
  },
  {
   "cell_type": "markdown",
   "id": "3b05f870",
   "metadata": {
    "slideshow": {
     "slide_type": "slide"
    }
   },
   "source": [
    "## Lectura y escritura de archivos"
   ]
  },
  {
   "cell_type": "code",
   "execution_count": 90,
   "id": "b798a60e",
   "metadata": {
    "execution": {
     "iopub.execute_input": "2021-09-19T04:30:17.838820Z",
     "iopub.status.busy": "2021-09-19T04:30:17.838238Z",
     "iopub.status.idle": "2021-09-19T04:30:17.840745Z",
     "shell.execute_reply": "2021-09-19T04:30:17.841180Z"
    },
    "slideshow": {
     "slide_type": "slide"
    }
   },
   "outputs": [
    {
     "name": "stdout",
     "output_type": "stream",
     "text": [
      "<_io.TextIOWrapper name='archivo.csv' mode='w' encoding='UTF-8'>\n"
     ]
    }
   ],
   "source": [
    "import random\n",
    "\n",
    "with open(\n",
    "    'archivo.csv', 'w'\n",
    ") as archivo:  # Al usar esta sintaxis no es necesario hacer close\n",
    "    archivo.write(\"Alumno, nota\\n\")\n",
    "    # Tambien de forma similar al fprintf se puede hacer:\n",
    "    # print(\"Alumno, nota\\n\", file=archivo)\n",
    "    for i in range(0, 10):\n",
    "        archivo.write(f\"{i},{random.randrange(0,10)}\\n\")\n",
    "\n",
    "print(archivo)  # Comentario aclaratorio:\n",
    "# Las variables definidas en un determinado scope siguen existiendo por fuera del mismo.\n",
    "# Se debe tener cuidado con esto, ya que nada garantiza que por fuera el valor sea el esperado."
   ]
  },
  {
   "cell_type": "code",
   "execution_count": 91,
   "id": "adee055c",
   "metadata": {
    "execution": {
     "iopub.execute_input": "2021-09-19T04:30:17.845009Z",
     "iopub.status.busy": "2021-09-19T04:30:17.844412Z",
     "iopub.status.idle": "2021-09-19T04:30:17.848963Z",
     "shell.execute_reply": "2021-09-19T04:30:17.848310Z"
    },
    "slideshow": {
     "slide_type": "slide"
    }
   },
   "outputs": [
    {
     "name": "stdout",
     "output_type": "stream",
     "text": [
      "Alumno, nota\n",
      "0,9\n",
      "1,1\n",
      "2,7\n",
      "3,6\n",
      "4,5\n",
      "5,6\n",
      "6,3\n",
      "7,6\n",
      "8,5\n",
      "9,7\n"
     ]
    }
   ],
   "source": [
    "with open('archivo.csv', 'r') as f:\n",
    "    for linea in f:\n",
    "        print(linea.strip())"
   ]
  },
  {
   "cell_type": "code",
   "execution_count": 92,
   "id": "75827c69",
   "metadata": {
    "execution": {
     "iopub.execute_input": "2021-09-19T04:30:17.854518Z",
     "iopub.status.busy": "2021-09-19T04:30:17.853258Z",
     "iopub.status.idle": "2021-09-19T04:30:17.856410Z",
     "shell.execute_reply": "2021-09-19T04:30:17.855897Z"
    }
   },
   "outputs": [
    {
     "name": "stdout",
     "output_type": "stream",
     "text": [
      "Alumno, nota\n",
      "0,9\n",
      "1,1\n",
      "2,7\n",
      "3,6\n",
      "4,5\n",
      "5,6\n",
      "6,3\n",
      "7,6\n",
      "8,5\n",
      "9,7\n",
      "\n"
     ]
    }
   ],
   "source": [
    "with open('archivo.csv', 'r') as f:\n",
    "    print(f.read())"
   ]
  },
  {
   "cell_type": "code",
   "execution_count": 93,
   "id": "89d08135",
   "metadata": {
    "execution": {
     "iopub.execute_input": "2021-09-19T04:30:17.862183Z",
     "iopub.status.busy": "2021-09-19T04:30:17.861569Z",
     "iopub.status.idle": "2021-09-19T04:30:17.863936Z",
     "shell.execute_reply": "2021-09-19T04:30:17.863461Z"
    }
   },
   "outputs": [],
   "source": [
    "f = open('archivo.csv', 'w')\n",
    "f.write(\"algo, algo\")\n",
    "f.close()"
   ]
  },
  {
   "cell_type": "markdown",
   "id": "2802f0df",
   "metadata": {
    "slideshow": {
     "slide_type": "slide"
    }
   },
   "source": [
    "## Objetos\n",
    "\n",
    "Los objetos tienen metodos y atributos:\n",
    "- Atributos: equivalentes a variables.\n",
    "- Métodos: equivalentes a las primitivas."
   ]
  },
  {
   "cell_type": "markdown",
   "id": "84b31bbc",
   "metadata": {
    "slideshow": {
     "slide_type": "slide"
    }
   },
   "source": [
    "### Cómo creo una clase"
   ]
  },
  {
   "cell_type": "code",
   "execution_count": 94,
   "id": "3737c8f0",
   "metadata": {
    "execution": {
     "iopub.execute_input": "2021-09-19T04:30:17.871415Z",
     "iopub.status.busy": "2021-09-19T04:30:17.869968Z",
     "iopub.status.idle": "2021-09-19T04:30:17.872041Z",
     "shell.execute_reply": "2021-09-19T04:30:17.872493Z"
    },
    "slideshow": {
     "slide_type": "slide"
    }
   },
   "outputs": [],
   "source": [
    "class Nodo(object):\n",
    "    def __init__(self, dato, siguiente=None):\n",
    "        self._dato = dato\n",
    "        self._siguiente = siguiente\n",
    "\n",
    "    @property\n",
    "    def dato(self):\n",
    "        return self._dato\n",
    "\n",
    "    @property\n",
    "    def proximo(self):\n",
    "        return self._siguiente\n",
    "\n",
    "    @proximo.setter\n",
    "    def proximo(self, siguiente):\n",
    "        self._siguiente = siguiente\n",
    "\n",
    "    def __repr__(self):\n",
    "        return str(self.dato)\n",
    "\n",
    "    def __str__(self):\n",
    "        return str(self.dato)"
   ]
  },
  {
   "cell_type": "code",
   "execution_count": 95,
   "id": "b25f3085",
   "metadata": {
    "execution": {
     "iopub.execute_input": "2021-09-19T04:30:17.877649Z",
     "iopub.status.busy": "2021-09-19T04:30:17.876315Z",
     "iopub.status.idle": "2021-09-19T04:30:17.879497Z",
     "shell.execute_reply": "2021-09-19T04:30:17.879021Z"
    },
    "slideshow": {
     "slide_type": "slide"
    }
   },
   "outputs": [
    {
     "name": "stdout",
     "output_type": "stream",
     "text": [
      "hola\n"
     ]
    }
   ],
   "source": [
    "nodo = Nodo(\"hola\")\n",
    "print(nodo)"
   ]
  },
  {
   "cell_type": "code",
   "execution_count": 96,
   "id": "a356563c",
   "metadata": {
    "execution": {
     "iopub.execute_input": "2021-09-19T04:30:17.884850Z",
     "iopub.status.busy": "2021-09-19T04:30:17.883626Z",
     "iopub.status.idle": "2021-09-19T04:30:17.886694Z",
     "shell.execute_reply": "2021-09-19T04:30:17.886212Z"
    },
    "slideshow": {
     "slide_type": "slide"
    }
   },
   "outputs": [
    {
     "name": "stdout",
     "output_type": "stream",
     "text": [
      "[hola, lala]\n"
     ]
    }
   ],
   "source": [
    "nodo2 = Nodo(\"lala\")\n",
    "print([nodo, nodo2])"
   ]
  },
  {
   "cell_type": "code",
   "execution_count": 97,
   "id": "85aa1232",
   "metadata": {
    "execution": {
     "iopub.execute_input": "2021-09-19T04:30:17.891193Z",
     "iopub.status.busy": "2021-09-19T04:30:17.890642Z",
     "iopub.status.idle": "2021-09-19T04:30:17.894237Z",
     "shell.execute_reply": "2021-09-19T04:30:17.894704Z"
    },
    "slideshow": {
     "slide_type": "slide"
    }
   },
   "outputs": [
    {
     "name": "stdout",
     "output_type": "stream",
     "text": [
      "hola\n"
     ]
    }
   ],
   "source": [
    "nodo3 = nodo.dato\n",
    "print(nodo3)"
   ]
  },
  {
   "cell_type": "markdown",
   "id": "7f1ba163",
   "metadata": {
    "slideshow": {
     "slide_type": "slide"
    }
   },
   "source": [
    "### Ejemplo: Lista Enlazada"
   ]
  },
  {
   "cell_type": "code",
   "execution_count": 98,
   "id": "ad5e32b5",
   "metadata": {
    "execution": {
     "iopub.execute_input": "2021-09-19T04:30:17.904623Z",
     "iopub.status.busy": "2021-09-19T04:30:17.904052Z",
     "iopub.status.idle": "2021-09-19T04:30:17.907028Z",
     "shell.execute_reply": "2021-09-19T04:30:17.907451Z"
    },
    "slideshow": {
     "slide_type": "slide"
    }
   },
   "outputs": [],
   "source": [
    "class ListaEnlazada(object):\n",
    "    def __init__(self):\n",
    "        self._primero = None\n",
    "        self._ultimo = None\n",
    "        self._largo = 0\n",
    "\n",
    "    def __len__(self):\n",
    "        return self._largo\n",
    "\n",
    "    def insertar_al_principio(self, dato):\n",
    "        nodo = Nodo(dato, self._primero)\n",
    "        self._primero = nodo\n",
    "        self._largo += 1\n",
    "        if self._largo == 1:\n",
    "            self._ultimo = nodo\n",
    "\n",
    "    def insertar_al_final(self, dato):\n",
    "        if self._largo != 0:\n",
    "            nodo = Nodo(dato)\n",
    "            nodo_anterior = self._ultimo\n",
    "            nodo_anterior._siguiente = nodo\n",
    "            self._ultimo = nodo\n",
    "            self._largo += 1\n",
    "        else:\n",
    "            self.insertar_al_principio(dato)\n",
    "\n",
    "    @property\n",
    "    def primero(self):\n",
    "        return self._primero.dato\n",
    "\n",
    "    def borrar_primero(self):\n",
    "        dato = self.primero.dato\n",
    "        self._primero = self.primero.siguiente\n",
    "        self._largo -= 1\n",
    "        if self._largo == 0:\n",
    "            self._ultimo = None\n",
    "        return dato\n",
    "\n",
    "    def __str__(self):\n",
    "        datos = []\n",
    "        nodo_actual = self._primero\n",
    "        while nodo_actual:\n",
    "            datos.append(nodo_actual.dato)\n",
    "            nodo_actual = nodo_actual.proximo\n",
    "        return \" -> \".join(datos)\n",
    "\n",
    "    def __repr__(self):\n",
    "        return self.__str__()"
   ]
  },
  {
   "cell_type": "code",
   "execution_count": 99,
   "id": "27635438",
   "metadata": {
    "execution": {
     "iopub.execute_input": "2021-09-19T04:30:17.912662Z",
     "iopub.status.busy": "2021-09-19T04:30:17.911948Z",
     "iopub.status.idle": "2021-09-19T04:30:17.916180Z",
     "shell.execute_reply": "2021-09-19T04:30:17.915628Z"
    },
    "slideshow": {
     "slide_type": "slide"
    }
   },
   "outputs": [
    {
     "data": {
      "text/plain": [
       "2"
      ]
     },
     "execution_count": 99,
     "metadata": {},
     "output_type": "execute_result"
    }
   ],
   "source": [
    "lista = ListaEnlazada()\n",
    "lista.insertar_al_principio(\"Primer Dato\")\n",
    "lista.insertar_al_principio(\"Primer primer Dato\")\n",
    "len(lista)"
   ]
  },
  {
   "cell_type": "code",
   "execution_count": 100,
   "id": "0c644bcb",
   "metadata": {
    "execution": {
     "iopub.execute_input": "2021-09-19T04:30:17.919771Z",
     "iopub.status.busy": "2021-09-19T04:30:17.919204Z",
     "iopub.status.idle": "2021-09-19T04:30:17.924679Z",
     "shell.execute_reply": "2021-09-19T04:30:17.924197Z"
    }
   },
   "outputs": [
    {
     "data": {
      "text/plain": [
       "Primer primer Dato -> Primer Dato"
      ]
     },
     "execution_count": 100,
     "metadata": {},
     "output_type": "execute_result"
    }
   ],
   "source": [
    "lista"
   ]
  },
  {
   "cell_type": "code",
   "execution_count": 101,
   "id": "b3cdd82e",
   "metadata": {
    "execution": {
     "iopub.execute_input": "2021-09-19T04:30:17.930012Z",
     "iopub.status.busy": "2021-09-19T04:30:17.928733Z",
     "iopub.status.idle": "2021-09-19T04:30:17.931782Z",
     "shell.execute_reply": "2021-09-19T04:30:17.931335Z"
    },
    "slideshow": {
     "slide_type": "slide"
    }
   },
   "outputs": [
    {
     "name": "stdout",
     "output_type": "stream",
     "text": [
      "Primer primer Dato\n"
     ]
    }
   ],
   "source": [
    "elemento = lista.primero\n",
    "print(elemento)"
   ]
  },
  {
   "cell_type": "markdown",
   "id": "395ff11f",
   "metadata": {},
   "source": [
    "## Recursos\n",
    "\n",
    "* [Taller de Python de Algoritmos II](https://github.com/algoritmos-rw/algo2_apuntes)\n",
    "\n",
    "* [Documentación de Python 3](https://docs.python.org/3/tutorial/)\n",
    "\n",
    "* [Apunte de Algoritmos y Programación I](https://algoritmos1rw.ddns.net/material)\n",
    "\n",
    "* [Automate the Boring Stuff with Python](http://automatetheboringstuff.com/)\n",
    "\n",
    "* [Curso Python](https://pythoncurso.github.io)\n",
    "\n",
    "* [Python Tutor](http://pythontutor.com/)\n",
    "\n",
    "* [Learn Python3 in Y minutes](https://learnxinyminutes.com/docs/python3/)\n",
    "\n",
    "* [Bibliografía de Algoritmos y Programación I](https://algoritmos1rw.ddns.net/bibliografia)"
   ]
  }
 ],
 "metadata": {
  "jupytext": {
   "encoding": "# -*- coding: utf-8 -*-",
   "formats": "ipynb,py:light"
  },
  "kernelspec": {
   "display_name": "Python 3 (venv)",
   "language": "python",
   "name": "python3"
  },
  "language_info": {
   "codemirror_mode": {
    "name": "ipython",
    "version": 3
   },
   "file_extension": ".py",
   "mimetype": "text/x-python",
   "name": "python",
   "nbconvert_exporter": "python",
   "pygments_lexer": "ipython3",
   "version": "3.7.12"
  }
 },
 "nbformat": 4,
 "nbformat_minor": 5
}
