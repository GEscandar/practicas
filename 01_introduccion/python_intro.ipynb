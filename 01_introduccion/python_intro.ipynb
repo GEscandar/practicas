{
 "cells": [
  {
   "cell_type": "markdown",
   "metadata": {},
   "source": [
    "# Python"
   ]
  },
  {
   "cell_type": "markdown",
   "metadata": {
    "slideshow": {
     "slide_type": "slide"
    }
   },
   "source": [
    "## Un poco de Historia"
   ]
  },
  {
   "cell_type": "markdown",
   "metadata": {
    "slideshow": {
     "slide_type": "subslide"
    }
   },
   "source": [
    "Python fue creado a finales de los años 80 por un programador holandés llamado **Guido van Rossum**,\n",
    "quien sigue siendo aún hoy el líder del desarrollo del lenguaje.\n",
    "\n",
    "(Edit julio 2018: [ya no más](https://www.mail-archive.com/python-committers@python.org/msg05628.html))"
   ]
  },
  {
   "cell_type": "markdown",
   "metadata": {
    "slideshow": {
     "slide_type": "subslide"
    }
   },
   "source": [
    "El nombre del lenguaje proviene de los humoristas británicos Monty Python.\n",
    "\n",
    ">*\"I chose Python as a working title for the project, being in a slightly irreverent mood (and a big fan of Monty Python's Flying Circus).\"*"
   ]
  },
  {
   "cell_type": "markdown",
   "metadata": {
    "slideshow": {
     "slide_type": "slide"
    }
   },
   "source": [
    "## Caracteristicas\n",
    "\n",
    "- Interpretado\n",
    "- Tipado dinamico\n",
    "- Multiparadigma\n",
    "- Alto nivel\n",
    "- Tiene un recolector de basura (no hay malloc, free, realloc, etc)"
   ]
  },
  {
   "cell_type": "markdown",
   "metadata": {},
   "source": [
    "## ¿Cómo empezar?\n",
    "\n",
    "* Al ser un lenguaje *interpretado*, se puede ir escribiendo a medida que se ejecuta, sin necesidad de compilar de antemano! Solamente hace falta escribir `python` o `python3` en una terminal para empezar\n",
    "\n",
    "* También, permite escribir archivos y correrlos. Crear un archivo con extensión `.py` y luego correr `python miarchivo.py` en laterminal"
   ]
  },
  {
   "cell_type": "markdown",
   "metadata": {
    "slideshow": {
     "slide_type": "slide"
    }
   },
   "source": [
    "## El Zen de Python"
   ]
  },
  {
   "cell_type": "code",
   "execution_count": 1,
   "metadata": {
    "execution": {
     "iopub.execute_input": "2020-11-09T20:46:08.865030Z",
     "iopub.status.busy": "2020-11-09T20:46:08.864440Z",
     "iopub.status.idle": "2020-11-09T20:46:09.342457Z",
     "shell.execute_reply": "2020-11-09T20:46:09.341851Z"
    },
    "slideshow": {
     "slide_type": "slide"
    }
   },
   "outputs": [
    {
     "name": "stdout",
     "output_type": "stream",
     "text": [
      "The Zen of Python, by Tim Peters\n",
      "\n",
      "Beautiful is better than ugly.\n",
      "Explicit is better than implicit.\n",
      "Simple is better than complex.\n",
      "Complex is better than complicated.\n",
      "Flat is better than nested.\n",
      "Sparse is better than dense.\n",
      "Readability counts.\n",
      "Special cases aren't special enough to break the rules.\n",
      "Although practicality beats purity.\n",
      "Errors should never pass silently.\n",
      "Unless explicitly silenced.\n",
      "In the face of ambiguity, refuse the temptation to guess.\n",
      "There should be one-- and preferably only one --obvious way to do it.\n",
      "Although that way may not be obvious at first unless you're Dutch.\n",
      "Now is better than never.\n",
      "Although never is often better than *right* now.\n",
      "If the implementation is hard to explain, it's a bad idea.\n",
      "If the implementation is easy to explain, it may be a good idea.\n",
      "Namespaces are one honking great idea -- let's do more of those!\n"
     ]
    }
   ],
   "source": [
    "import this"
   ]
  },
  {
   "cell_type": "markdown",
   "metadata": {
    "slideshow": {
     "slide_type": "slide"
    }
   },
   "source": [
    "## Conocimientos Básicos de Python: Variables y Tipos"
   ]
  },
  {
   "cell_type": "code",
   "execution_count": 2,
   "metadata": {
    "execution": {
     "iopub.execute_input": "2020-11-09T20:46:09.347396Z",
     "iopub.status.busy": "2020-11-09T20:46:09.346816Z",
     "iopub.status.idle": "2020-11-09T20:46:09.348803Z",
     "shell.execute_reply": "2020-11-09T20:46:09.349385Z"
    },
    "slideshow": {
     "slide_type": "slide"
    }
   },
   "outputs": [
    {
     "name": "stdout",
     "output_type": "stream",
     "text": [
      "Hello World!\n"
     ]
    }
   ],
   "source": [
    "# Este es un comentario\n",
    "\n",
    "print(\"Hello World!\")"
   ]
  },
  {
   "cell_type": "markdown",
   "metadata": {},
   "source": [
    "Los strings en python puden escribirse tanto con comillas simples (`'`) como comillas dobles (`\"`). Normalmente vemos texto entre comillas triples para escribir _docstrings_, segun la guia de estilo de Python, el PEP8."
   ]
  },
  {
   "cell_type": "code",
   "execution_count": 3,
   "metadata": {
    "execution": {
     "iopub.execute_input": "2020-11-09T20:46:09.360768Z",
     "iopub.status.busy": "2020-11-09T20:46:09.360147Z",
     "iopub.status.idle": "2020-11-09T20:46:09.363113Z",
     "shell.execute_reply": "2020-11-09T20:46:09.363591Z"
    }
   },
   "outputs": [
    {
     "data": {
      "text/plain": [
       "'Esto es un docstring.\\n'"
      ]
     },
     "execution_count": 1,
     "metadata": {},
     "output_type": "execute_result"
    }
   ],
   "source": [
    "\"\"\"Esto es un docstring.\n",
    "\"\"\""
   ]
  },
  {
   "cell_type": "markdown",
   "metadata": {},
   "source": [
    "### Declaracion de variables"
   ]
  },
  {
   "cell_type": "code",
   "execution_count": 4,
   "metadata": {
    "execution": {
     "iopub.execute_input": "2020-11-09T20:46:09.368933Z",
     "iopub.status.busy": "2020-11-09T20:46:09.367550Z",
     "iopub.status.idle": "2020-11-09T20:46:09.370817Z",
     "shell.execute_reply": "2020-11-09T20:46:09.370319Z"
    }
   },
   "outputs": [
    {
     "name": "stdout",
     "output_type": "stream",
     "text": [
      "Hola\n"
     ]
    }
   ],
   "source": [
    "string = 'Hola'\n",
    "print(string)"
   ]
  },
  {
   "cell_type": "code",
   "execution_count": 5,
   "metadata": {
    "execution": {
     "iopub.execute_input": "2020-11-09T20:46:09.375384Z",
     "iopub.status.busy": "2020-11-09T20:46:09.374825Z",
     "iopub.status.idle": "2020-11-09T20:46:09.376766Z",
     "shell.execute_reply": "2020-11-09T20:46:09.377229Z"
    }
   },
   "outputs": [
    {
     "name": "stdout",
     "output_type": "stream",
     "text": [
      "1\n"
     ]
    }
   ],
   "source": [
    "entero = 1\n",
    "print(entero)"
   ]
  },
  {
   "cell_type": "code",
   "execution_count": 6,
   "metadata": {
    "execution": {
     "iopub.execute_input": "2020-11-09T20:46:09.381436Z",
     "iopub.status.busy": "2020-11-09T20:46:09.380868Z",
     "iopub.status.idle": "2020-11-09T20:46:09.383867Z",
     "shell.execute_reply": "2020-11-09T20:46:09.383336Z"
    }
   },
   "outputs": [
    {
     "name": "stdout",
     "output_type": "stream",
     "text": [
      "1.0\n"
     ]
    }
   ],
   "source": [
    "flotante = 1.0\n",
    "print(flotante)"
   ]
  },
  {
   "cell_type": "code",
   "execution_count": 7,
   "metadata": {
    "execution": {
     "iopub.execute_input": "2020-11-09T20:46:09.388847Z",
     "iopub.status.busy": "2020-11-09T20:46:09.387555Z",
     "iopub.status.idle": "2020-11-09T20:46:09.390832Z",
     "shell.execute_reply": "2020-11-09T20:46:09.390311Z"
    }
   },
   "outputs": [
    {
     "name": "stdout",
     "output_type": "stream",
     "text": [
      "(1, 1.0)\n"
     ]
    }
   ],
   "source": [
    "tupla = (entero, flotante)\n",
    "print(tupla)"
   ]
  },
  {
   "cell_type": "code",
   "execution_count": 8,
   "metadata": {
    "execution": {
     "iopub.execute_input": "2020-11-09T20:46:09.395598Z",
     "iopub.status.busy": "2020-11-09T20:46:09.394752Z",
     "iopub.status.idle": "2020-11-09T20:46:09.397012Z",
     "shell.execute_reply": "2020-11-09T20:46:09.397473Z"
    }
   },
   "outputs": [
    {
     "name": "stdout",
     "output_type": "stream",
     "text": [
      "(1, 1.0, 'Hola')\n"
     ]
    }
   ],
   "source": [
    "nupla = (entero, flotante, string)\n",
    "print(nupla)"
   ]
  },
  {
   "cell_type": "code",
   "execution_count": 9,
   "metadata": {
    "execution": {
     "iopub.execute_input": "2020-11-09T20:46:09.402362Z",
     "iopub.status.busy": "2020-11-09T20:46:09.401780Z",
     "iopub.status.idle": "2020-11-09T20:46:09.405597Z",
     "shell.execute_reply": "2020-11-09T20:46:09.405083Z"
    }
   },
   "outputs": [
    {
     "name": "stdout",
     "output_type": "stream",
     "text": [
      "[1, 1.0, 'Hola']\n"
     ]
    }
   ],
   "source": [
    "lista = [entero, flotante, string]\n",
    "print(lista)"
   ]
  },
  {
   "cell_type": "code",
   "execution_count": 10,
   "metadata": {
    "execution": {
     "iopub.execute_input": "2020-11-09T20:46:09.410121Z",
     "iopub.status.busy": "2020-11-09T20:46:09.409554Z",
     "iopub.status.idle": "2020-11-09T20:46:09.411473Z",
     "shell.execute_reply": "2020-11-09T20:46:09.411973Z"
    }
   },
   "outputs": [
    {
     "name": "stdout",
     "output_type": "stream",
     "text": [
      "{'1': (1, 1.0), 50: (1, 1.0, 'Hola'), '3': 1}\n"
     ]
    }
   ],
   "source": [
    "diccionario = {'1': tupla, 50: nupla, '3': entero}\n",
    "print(diccionario)"
   ]
  },
  {
   "cell_type": "code",
   "execution_count": 11,
   "metadata": {
    "execution": {
     "iopub.execute_input": "2020-11-09T20:46:09.416474Z",
     "iopub.status.busy": "2020-11-09T20:46:09.415896Z",
     "iopub.status.idle": "2020-11-09T20:46:09.417823Z",
     "shell.execute_reply": "2020-11-09T20:46:09.418287Z"
    }
   },
   "outputs": [
    {
     "name": "stdout",
     "output_type": "stream",
     "text": [
      "{1, 2}\n"
     ]
    }
   ],
   "source": [
    "conjunto = set([1, 2])\n",
    "print(conjunto)"
   ]
  },
  {
   "cell_type": "code",
   "execution_count": 12,
   "metadata": {
    "execution": {
     "iopub.execute_input": "2020-11-09T20:46:09.422150Z",
     "iopub.status.busy": "2020-11-09T20:46:09.421580Z",
     "iopub.status.idle": "2020-11-09T20:46:09.423495Z",
     "shell.execute_reply": "2020-11-09T20:46:09.423993Z"
    }
   },
   "outputs": [
    {
     "name": "stdout",
     "output_type": "stream",
     "text": [
      "True\n"
     ]
    }
   ],
   "source": [
    "booleano = True\n",
    "print(booleano)"
   ]
  },
  {
   "cell_type": "code",
   "execution_count": 13,
   "metadata": {
    "execution": {
     "iopub.execute_input": "2020-11-09T20:46:09.427883Z",
     "iopub.status.busy": "2020-11-09T20:46:09.427289Z",
     "iopub.status.idle": "2020-11-09T20:46:09.429237Z",
     "shell.execute_reply": "2020-11-09T20:46:09.429702Z"
    }
   },
   "outputs": [
    {
     "name": "stdout",
     "output_type": "stream",
     "text": [
      "None\n"
     ]
    }
   ],
   "source": [
    "nada = None\n",
    "print(nada)"
   ]
  },
  {
   "cell_type": "markdown",
   "metadata": {},
   "source": [
    "Ojo que las variables pueden cambiar de tipo!"
   ]
  },
  {
   "cell_type": "code",
   "execution_count": 14,
   "metadata": {
    "execution": {
     "iopub.execute_input": "2020-11-09T20:46:09.433310Z",
     "iopub.status.busy": "2020-11-09T20:46:09.432729Z",
     "iopub.status.idle": "2020-11-09T20:46:09.437072Z",
     "shell.execute_reply": "2020-11-09T20:46:09.436558Z"
    }
   },
   "outputs": [
    {
     "name": "stdout",
     "output_type": "stream",
     "text": [
      "1\n",
      "<class 'int'>\n"
     ]
    }
   ],
   "source": [
    "elemento = 1\n",
    "print(elemento)\n",
    "print(type(elemento))"
   ]
  },
  {
   "cell_type": "code",
   "execution_count": 15,
   "metadata": {
    "execution": {
     "iopub.execute_input": "2020-11-09T20:46:09.440691Z",
     "iopub.status.busy": "2020-11-09T20:46:09.440119Z",
     "iopub.status.idle": "2020-11-09T20:46:09.443249Z",
     "shell.execute_reply": "2020-11-09T20:46:09.442751Z"
    }
   },
   "outputs": [
    {
     "name": "stdout",
     "output_type": "stream",
     "text": [
      "1\n",
      "<class 'str'>\n"
     ]
    }
   ],
   "source": [
    "elemento = str(1)\n",
    "print(elemento)\n",
    "print(type(elemento))"
   ]
  },
  {
   "cell_type": "code",
   "execution_count": 16,
   "metadata": {
    "execution": {
     "iopub.execute_input": "2020-11-09T20:46:09.447334Z",
     "iopub.status.busy": "2020-11-09T20:46:09.446769Z",
     "iopub.status.idle": "2020-11-09T20:46:09.448692Z",
     "shell.execute_reply": "2020-11-09T20:46:09.449182Z"
    }
   },
   "outputs": [
    {
     "name": "stdout",
     "output_type": "stream",
     "text": [
      "[2]\n",
      "<class 'list'>\n"
     ]
    }
   ],
   "source": [
    "elemento = [2]\n",
    "\n",
    "print(elemento)\n",
    "print(type(elemento))"
   ]
  },
  {
   "cell_type": "markdown",
   "metadata": {},
   "source": [
    "### Tipos basicos"
   ]
  },
  {
   "cell_type": "markdown",
   "metadata": {
    "slideshow": {
     "slide_type": "slide"
    }
   },
   "source": [
    "#### Listas de Python"
   ]
  },
  {
   "cell_type": "code",
   "execution_count": 17,
   "metadata": {
    "execution": {
     "iopub.execute_input": "2020-11-09T20:46:09.453127Z",
     "iopub.status.busy": "2020-11-09T20:46:09.452562Z",
     "iopub.status.idle": "2020-11-09T20:46:09.455062Z",
     "shell.execute_reply": "2020-11-09T20:46:09.455534Z"
    }
   },
   "outputs": [
    {
     "data": {
      "text/plain": [
       "[]"
      ]
     },
     "execution_count": 1,
     "metadata": {},
     "output_type": "execute_result"
    }
   ],
   "source": [
    "lista = list()\n",
    "lista"
   ]
  },
  {
   "cell_type": "code",
   "execution_count": 18,
   "metadata": {
    "execution": {
     "iopub.execute_input": "2020-11-09T20:46:09.459354Z",
     "iopub.status.busy": "2020-11-09T20:46:09.458788Z",
     "iopub.status.idle": "2020-11-09T20:46:09.461772Z",
     "shell.execute_reply": "2020-11-09T20:46:09.461263Z"
    },
    "slideshow": {
     "slide_type": "slide"
    }
   },
   "outputs": [
    {
     "data": {
      "text/plain": [
       "[]"
      ]
     },
     "execution_count": 1,
     "metadata": {},
     "output_type": "execute_result"
    }
   ],
   "source": [
    "lista = []\n",
    "lista"
   ]
  },
  {
   "cell_type": "code",
   "execution_count": 19,
   "metadata": {
    "execution": {
     "iopub.execute_input": "2020-11-09T20:46:09.465848Z",
     "iopub.status.busy": "2020-11-09T20:46:09.465281Z",
     "iopub.status.idle": "2020-11-09T20:46:09.468405Z",
     "shell.execute_reply": "2020-11-09T20:46:09.467893Z"
    },
    "slideshow": {
     "slide_type": "slide"
    }
   },
   "outputs": [
    {
     "data": {
      "text/plain": [
       "[1, 2, 3, 4]"
      ]
     },
     "execution_count": 1,
     "metadata": {},
     "output_type": "execute_result"
    }
   ],
   "source": [
    "lista = [1, 2, 3, 4]\n",
    "lista"
   ]
  },
  {
   "cell_type": "code",
   "execution_count": 20,
   "metadata": {
    "execution": {
     "iopub.execute_input": "2020-11-09T20:46:09.472865Z",
     "iopub.status.busy": "2020-11-09T20:46:09.472293Z",
     "iopub.status.idle": "2020-11-09T20:46:09.475226Z",
     "shell.execute_reply": "2020-11-09T20:46:09.474724Z"
    },
    "slideshow": {
     "slide_type": "slide"
    }
   },
   "outputs": [
    {
     "data": {
      "text/plain": [
       "[1, 2, 3, 4, 1, 'dos', 3.0]"
      ]
     },
     "execution_count": 1,
     "metadata": {},
     "output_type": "execute_result"
    }
   ],
   "source": [
    "lista.append(1)  # Inserto un 1 al final\n",
    "lista.append(\"dos\")  # Inserto un \"dos\" al final\n",
    "lista.append(3.0)  # Inserto un 3.0 al final\n",
    "lista"
   ]
  },
  {
   "cell_type": "code",
   "execution_count": 21,
   "metadata": {
    "execution": {
     "iopub.execute_input": "2020-11-09T20:46:09.479199Z",
     "iopub.status.busy": "2020-11-09T20:46:09.478629Z",
     "iopub.status.idle": "2020-11-09T20:46:09.480587Z",
     "shell.execute_reply": "2020-11-09T20:46:09.481047Z"
    }
   },
   "outputs": [
    {
     "name": "stdout",
     "output_type": "stream",
     "text": [
      "[1, 2, 10, 3, 4, 1, 'dos', 3.0]\n"
     ]
    }
   ],
   "source": [
    "lista.insert(2, 10)  # Inserto en posicion 2 un 10\n",
    "print(lista)"
   ]
  },
  {
   "cell_type": "code",
   "execution_count": 22,
   "metadata": {
    "execution": {
     "iopub.execute_input": "2020-11-09T20:46:09.485780Z",
     "iopub.status.busy": "2020-11-09T20:46:09.485214Z",
     "iopub.status.idle": "2020-11-09T20:46:09.487461Z",
     "shell.execute_reply": "2020-11-09T20:46:09.487932Z"
    }
   },
   "outputs": [
    {
     "data": {
      "text/plain": [
       "8"
      ]
     },
     "execution_count": 1,
     "metadata": {},
     "output_type": "execute_result"
    }
   ],
   "source": [
    "len(lista)"
   ]
  },
  {
   "cell_type": "code",
   "execution_count": 23,
   "metadata": {
    "execution": {
     "iopub.execute_input": "2020-11-09T20:46:09.491658Z",
     "iopub.status.busy": "2020-11-09T20:46:09.491097Z",
     "iopub.status.idle": "2020-11-09T20:46:09.494026Z",
     "shell.execute_reply": "2020-11-09T20:46:09.493556Z"
    }
   },
   "outputs": [
    {
     "data": {
      "text/plain": [
       "3.0"
      ]
     },
     "execution_count": 1,
     "metadata": {},
     "output_type": "execute_result"
    }
   ],
   "source": [
    "lista.pop()"
   ]
  },
  {
   "cell_type": "code",
   "execution_count": 24,
   "metadata": {
    "execution": {
     "iopub.execute_input": "2020-11-09T20:46:09.498566Z",
     "iopub.status.busy": "2020-11-09T20:46:09.497979Z",
     "iopub.status.idle": "2020-11-09T20:46:09.500031Z",
     "shell.execute_reply": "2020-11-09T20:46:09.500498Z"
    }
   },
   "outputs": [
    {
     "data": {
      "text/plain": [
       "[1, 2, 10, 3, 4, 1, 'dos']"
      ]
     },
     "execution_count": 1,
     "metadata": {},
     "output_type": "execute_result"
    }
   ],
   "source": [
    "lista"
   ]
  },
  {
   "cell_type": "code",
   "execution_count": 25,
   "metadata": {
    "execution": {
     "iopub.execute_input": "2020-11-09T20:46:09.504363Z",
     "iopub.status.busy": "2020-11-09T20:46:09.503777Z",
     "iopub.status.idle": "2020-11-09T20:46:09.506786Z",
     "shell.execute_reply": "2020-11-09T20:46:09.506285Z"
    }
   },
   "outputs": [
    {
     "data": {
      "text/plain": [
       "2"
      ]
     },
     "execution_count": 1,
     "metadata": {},
     "output_type": "execute_result"
    }
   ],
   "source": [
    "lista.index(10)"
   ]
  },
  {
   "cell_type": "code",
   "execution_count": 26,
   "metadata": {
    "execution": {
     "iopub.execute_input": "2020-11-09T20:46:09.511312Z",
     "iopub.status.busy": "2020-11-09T20:46:09.510422Z",
     "iopub.status.idle": "2020-11-09T20:46:09.512708Z",
     "shell.execute_reply": "2020-11-09T20:46:09.513266Z"
    }
   },
   "outputs": [
    {
     "data": {
      "text/plain": [
       "[1, 2, 3, 4, 1, 'dos']"
      ]
     },
     "execution_count": 1,
     "metadata": {},
     "output_type": "execute_result"
    }
   ],
   "source": [
    "lista.remove(10)\n",
    "lista"
   ]
  },
  {
   "cell_type": "code",
   "execution_count": 27,
   "metadata": {
    "execution": {
     "iopub.execute_input": "2020-11-09T20:46:09.518171Z",
     "iopub.status.busy": "2020-11-09T20:46:09.517597Z",
     "iopub.status.idle": "2020-11-09T20:46:09.586604Z",
     "shell.execute_reply": "2020-11-09T20:46:09.585961Z"
    },
    "tags": [
     "raises-exception"
    ]
   },
   "outputs": [
    {
     "name": "stdout",
     "output_type": "stream",
     "text": [
      "1\n",
      "2\n",
      "2\n",
      "3\n",
      "3\n",
      "4\n",
      "4\n",
      "5\n",
      "1\n",
      "2\n",
      "dos\n"
     ]
    },
    {
     "ename": "TypeError",
     "evalue": "can only concatenate str (not \"int\") to str",
     "output_type": "error",
     "traceback": [
      "\u001b[0;31m---------------------------------------------------------------------------\u001b[0m",
      "\u001b[0;31mTypeError\u001b[0m                                 Traceback (most recent call last)",
      "\u001b[0;32m<ipython-input-1-41b56d5cf080>\u001b[0m in \u001b[0;36m<module>\u001b[0;34m\u001b[0m\n\u001b[1;32m      1\u001b[0m \u001b[0;32mfor\u001b[0m \u001b[0melemento\u001b[0m \u001b[0;32min\u001b[0m \u001b[0mlista\u001b[0m\u001b[0;34m:\u001b[0m\u001b[0;34m\u001b[0m\u001b[0;34m\u001b[0m\u001b[0m\n\u001b[1;32m      2\u001b[0m     \u001b[0mprint\u001b[0m\u001b[0;34m(\u001b[0m\u001b[0melemento\u001b[0m\u001b[0;34m)\u001b[0m\u001b[0;34m\u001b[0m\u001b[0;34m\u001b[0m\u001b[0m\n\u001b[0;32m----> 3\u001b[0;31m     \u001b[0mprint\u001b[0m\u001b[0;34m(\u001b[0m\u001b[0melemento\u001b[0m \u001b[0;34m+\u001b[0m \u001b[0;36m1\u001b[0m\u001b[0;34m)\u001b[0m\u001b[0;34m\u001b[0m\u001b[0;34m\u001b[0m\u001b[0m\n\u001b[0m",
      "\u001b[0;31mTypeError\u001b[0m: can only concatenate str (not \"int\") to str"
     ]
    }
   ],
   "source": [
    "for elemento in lista:\n",
    "    print(elemento)\n",
    "    print(elemento + 1)"
   ]
  },
  {
   "cell_type": "code",
   "execution_count": 28,
   "metadata": {
    "execution": {
     "iopub.execute_input": "2020-11-09T20:46:09.690906Z",
     "iopub.status.busy": "2020-11-09T20:46:09.688473Z",
     "iopub.status.idle": "2020-11-09T20:46:09.693025Z",
     "shell.execute_reply": "2020-11-09T20:46:09.692503Z"
    }
   },
   "outputs": [
    {
     "data": {
      "text/plain": [
       "[1, 2, 3, 4, 1, 'dos']"
      ]
     },
     "execution_count": 1,
     "metadata": {},
     "output_type": "execute_result"
    }
   ],
   "source": [
    "lista"
   ]
  },
  {
   "cell_type": "code",
   "execution_count": 29,
   "metadata": {
    "execution": {
     "iopub.execute_input": "2020-11-09T20:46:09.698705Z",
     "iopub.status.busy": "2020-11-09T20:46:09.697691Z",
     "iopub.status.idle": "2020-11-09T20:46:09.700828Z",
     "shell.execute_reply": "2020-11-09T20:46:09.700315Z"
    }
   },
   "outputs": [
    {
     "name": "stdout",
     "output_type": "stream",
     "text": [
      "0-ésimo elemento: 1\n",
      "1-ésimo elemento: 2\n",
      "2-ésimo elemento: 3\n",
      "3-ésimo elemento: 4\n",
      "4-ésimo elemento: 1\n",
      "5-ésimo elemento: dos\n"
     ]
    }
   ],
   "source": [
    "for i, elemento in enumerate(lista):\n",
    "    print(f\"{i}-ésimo elemento: {elemento}\")"
   ]
  },
  {
   "cell_type": "code",
   "execution_count": 30,
   "metadata": {
    "execution": {
     "iopub.execute_input": "2020-11-09T20:46:09.707406Z",
     "iopub.status.busy": "2020-11-09T20:46:09.705537Z",
     "iopub.status.idle": "2020-11-09T20:46:09.710194Z",
     "shell.execute_reply": "2020-11-09T20:46:09.709557Z"
    },
    "tags": [
     "raises-exception"
    ]
   },
   "outputs": [
    {
     "ename": "TypeError",
     "evalue": "'<' not supported between instances of 'str' and 'int'",
     "output_type": "error",
     "traceback": [
      "\u001b[0;31m---------------------------------------------------------------------------\u001b[0m",
      "\u001b[0;31mTypeError\u001b[0m                                 Traceback (most recent call last)",
      "\u001b[0;32m<ipython-input-1-06c3f264dc7a>\u001b[0m in \u001b[0;36m<module>\u001b[0;34m\u001b[0m\n\u001b[0;32m----> 1\u001b[0;31m \u001b[0msorted\u001b[0m\u001b[0;34m(\u001b[0m\u001b[0mlista\u001b[0m\u001b[0;34m)\u001b[0m\u001b[0;34m\u001b[0m\u001b[0;34m\u001b[0m\u001b[0m\n\u001b[0m",
      "\u001b[0;31mTypeError\u001b[0m: '<' not supported between instances of 'str' and 'int'"
     ]
    }
   ],
   "source": [
    "sorted(lista)"
   ]
  },
  {
   "cell_type": "code",
   "execution_count": 31,
   "metadata": {
    "execution": {
     "iopub.execute_input": "2020-11-09T20:46:09.815172Z",
     "iopub.status.busy": "2020-11-09T20:46:09.814543Z",
     "iopub.status.idle": "2020-11-09T20:46:09.817853Z",
     "shell.execute_reply": "2020-11-09T20:46:09.817323Z"
    }
   },
   "outputs": [],
   "source": [
    "lista.remove(\"dos\")"
   ]
  },
  {
   "cell_type": "code",
   "execution_count": 32,
   "metadata": {
    "execution": {
     "iopub.execute_input": "2020-11-09T20:46:09.824239Z",
     "iopub.status.busy": "2020-11-09T20:46:09.823081Z",
     "iopub.status.idle": "2020-11-09T20:46:09.826538Z",
     "shell.execute_reply": "2020-11-09T20:46:09.827026Z"
    }
   },
   "outputs": [
    {
     "data": {
      "text/plain": [
       "[1, 1, 2, 3, 4]"
      ]
     },
     "execution_count": 1,
     "metadata": {},
     "output_type": "execute_result"
    }
   ],
   "source": [
    "sorted(lista)"
   ]
  },
  {
   "cell_type": "code",
   "execution_count": 33,
   "metadata": {
    "execution": {
     "iopub.execute_input": "2020-11-09T20:46:09.832241Z",
     "iopub.status.busy": "2020-11-09T20:46:09.831216Z",
     "iopub.status.idle": "2020-11-09T20:46:09.834614Z",
     "shell.execute_reply": "2020-11-09T20:46:09.834129Z"
    }
   },
   "outputs": [
    {
     "data": {
      "text/plain": [
       "[1, 1, 2, 3, 4]"
      ]
     },
     "execution_count": 1,
     "metadata": {},
     "output_type": "execute_result"
    }
   ],
   "source": [
    "lista.sort()\n",
    "lista"
   ]
  },
  {
   "cell_type": "markdown",
   "metadata": {
    "slideshow": {
     "slide_type": "slide"
    }
   },
   "source": [
    "#### Tuplas de Python\n",
    "\n",
    "Las tuplas son inmutables. No se pueden agregar elementos luego de creadas."
   ]
  },
  {
   "cell_type": "code",
   "execution_count": 34,
   "metadata": {
    "execution": {
     "iopub.execute_input": "2020-11-09T20:46:09.843261Z",
     "iopub.status.busy": "2020-11-09T20:46:09.842637Z",
     "iopub.status.idle": "2020-11-09T20:46:09.846691Z",
     "shell.execute_reply": "2020-11-09T20:46:09.845396Z"
    },
    "slideshow": {
     "slide_type": "slide"
    },
    "tags": [
     "raises-exception"
    ]
   },
   "outputs": [
    {
     "name": "stdout",
     "output_type": "stream",
     "text": [
      "(1, 2)\n",
      "1\n",
      "2\n"
     ]
    },
    {
     "ename": "TypeError",
     "evalue": "'tuple' object does not support item assignment",
     "output_type": "error",
     "traceback": [
      "\u001b[0;31m---------------------------------------------------------------------------\u001b[0m",
      "\u001b[0;31mTypeError\u001b[0m                                 Traceback (most recent call last)",
      "\u001b[0;32m<ipython-input-1-80ca8b547dd6>\u001b[0m in \u001b[0;36m<module>\u001b[0;34m\u001b[0m\n\u001b[1;32m      5\u001b[0m \u001b[0mprint\u001b[0m\u001b[0;34m(\u001b[0m\u001b[0mtupla\u001b[0m\u001b[0;34m[\u001b[0m\u001b[0;36m1\u001b[0m\u001b[0;34m]\u001b[0m\u001b[0;34m)\u001b[0m\u001b[0;34m\u001b[0m\u001b[0;34m\u001b[0m\u001b[0m\n\u001b[1;32m      6\u001b[0m \u001b[0;34m\u001b[0m\u001b[0m\n\u001b[0;32m----> 7\u001b[0;31m \u001b[0mtupla\u001b[0m\u001b[0;34m[\u001b[0m\u001b[0;36m1\u001b[0m\u001b[0;34m]\u001b[0m \u001b[0;34m=\u001b[0m \u001b[0;36m3\u001b[0m  \u001b[0;31m# Falla. No se puede mutar\u001b[0m\u001b[0;34m\u001b[0m\u001b[0;34m\u001b[0m\u001b[0m\n\u001b[0m",
      "\u001b[0;31mTypeError\u001b[0m: 'tuple' object does not support item assignment"
     ]
    }
   ],
   "source": [
    "tupla = (1, 2)\n",
    "\n",
    "print(tupla)\n",
    "print(tupla[0])\n",
    "print(tupla[1])\n",
    "\n",
    "tupla[1] = 3  # Falla. No se puede mutar"
   ]
  },
  {
   "cell_type": "code",
   "execution_count": 35,
   "metadata": {
    "execution": {
     "iopub.execute_input": "2020-11-09T20:46:09.951421Z",
     "iopub.status.busy": "2020-11-09T20:46:09.950352Z",
     "iopub.status.idle": "2020-11-09T20:46:09.954023Z",
     "shell.execute_reply": "2020-11-09T20:46:09.954760Z"
    }
   },
   "outputs": [
    {
     "data": {
      "text/plain": [
       "[1, 2]"
      ]
     },
     "execution_count": 1,
     "metadata": {},
     "output_type": "execute_result"
    }
   ],
   "source": [
    "l = [1, 2]\n",
    "l"
   ]
  },
  {
   "cell_type": "code",
   "execution_count": 36,
   "metadata": {
    "execution": {
     "iopub.execute_input": "2020-11-09T20:46:09.958903Z",
     "iopub.status.busy": "2020-11-09T20:46:09.958323Z",
     "iopub.status.idle": "2020-11-09T20:46:09.961382Z",
     "shell.execute_reply": "2020-11-09T20:46:09.960865Z"
    }
   },
   "outputs": [
    {
     "data": {
      "text/plain": [
       "[1, 3]"
      ]
     },
     "execution_count": 1,
     "metadata": {},
     "output_type": "execute_result"
    }
   ],
   "source": [
    "l[1] = 3\n",
    "l"
   ]
  },
  {
   "cell_type": "markdown",
   "metadata": {
    "slideshow": {
     "slide_type": "slide"
    }
   },
   "source": [
    "#### Diferencia entre lista y tupla\n",
    "Las listas se caracterizan por ser mutables, es decir, se puede cambiar su contenido en tiempo de ejecución, mientras que las tuplas son inmutables ya que no es posible modificar el contenido una vez creada."
   ]
  },
  {
   "cell_type": "markdown",
   "metadata": {},
   "source": [
    "#### Slices\n",
    "\n",
    "**Valen para listas, tuplas o strings (_segmentos_)**"
   ]
  },
  {
   "cell_type": "code",
   "execution_count": 37,
   "metadata": {
    "execution": {
     "iopub.execute_input": "2020-11-09T20:46:09.965687Z",
     "iopub.status.busy": "2020-11-09T20:46:09.964895Z",
     "iopub.status.idle": "2020-11-09T20:46:09.966601Z",
     "shell.execute_reply": "2020-11-09T20:46:09.967070Z"
    }
   },
   "outputs": [],
   "source": [
    "numeros = [0, 1, 2, 3, 4, 5, 6, 7, 8, 9, 10]"
   ]
  },
  {
   "cell_type": "code",
   "execution_count": 38,
   "metadata": {
    "execution": {
     "iopub.execute_input": "2020-11-09T20:46:09.971009Z",
     "iopub.status.busy": "2020-11-09T20:46:09.970449Z",
     "iopub.status.idle": "2020-11-09T20:46:09.972372Z",
     "shell.execute_reply": "2020-11-09T20:46:09.972863Z"
    }
   },
   "outputs": [
    {
     "name": "stdout",
     "output_type": "stream",
     "text": [
      "[0, 1, 2, 3, 4, 5, 6, 7, 8, 9, 10]\n"
     ]
    }
   ],
   "source": [
    "print(numeros)"
   ]
  },
  {
   "cell_type": "code",
   "execution_count": 39,
   "metadata": {
    "execution": {
     "iopub.execute_input": "2020-11-09T20:46:09.976793Z",
     "iopub.status.busy": "2020-11-09T20:46:09.976223Z",
     "iopub.status.idle": "2020-11-09T20:46:09.978073Z",
     "shell.execute_reply": "2020-11-09T20:46:09.978623Z"
    }
   },
   "outputs": [
    {
     "name": "stdout",
     "output_type": "stream",
     "text": [
      "2\n"
     ]
    }
   ],
   "source": [
    "print(numeros[2])  # Imprimo elemento en la posición 2"
   ]
  },
  {
   "cell_type": "code",
   "execution_count": 40,
   "metadata": {
    "execution": {
     "iopub.execute_input": "2020-11-09T20:46:09.982601Z",
     "iopub.status.busy": "2020-11-09T20:46:09.982044Z",
     "iopub.status.idle": "2020-11-09T20:46:09.984979Z",
     "shell.execute_reply": "2020-11-09T20:46:09.984518Z"
    }
   },
   "outputs": [
    {
     "data": {
      "text/plain": [
       "10"
      ]
     },
     "execution_count": 1,
     "metadata": {},
     "output_type": "execute_result"
    }
   ],
   "source": [
    "numeros[len(numeros) - 1]"
   ]
  },
  {
   "cell_type": "code",
   "execution_count": 41,
   "metadata": {
    "execution": {
     "iopub.execute_input": "2020-11-09T20:46:09.988900Z",
     "iopub.status.busy": "2020-11-09T20:46:09.988334Z",
     "iopub.status.idle": "2020-11-09T20:46:09.990236Z",
     "shell.execute_reply": "2020-11-09T20:46:09.990695Z"
    },
    "lines_to_next_cell": 2
   },
   "outputs": [
    {
     "name": "stdout",
     "output_type": "stream",
     "text": [
      "10\n"
     ]
    }
   ],
   "source": [
    "print(numeros[-1])  # # Imprimo elemento en la última posición"
   ]
  },
  {
   "cell_type": "code",
   "execution_count": 42,
   "metadata": {
    "execution": {
     "iopub.execute_input": "2020-11-09T20:46:09.994463Z",
     "iopub.status.busy": "2020-11-09T20:46:09.993891Z",
     "iopub.status.idle": "2020-11-09T20:46:09.996131Z",
     "shell.execute_reply": "2020-11-09T20:46:09.996652Z"
    },
    "lines_to_next_cell": 2
   },
   "outputs": [
    {
     "data": {
      "text/plain": [
       "9"
      ]
     },
     "execution_count": 1,
     "metadata": {},
     "output_type": "execute_result"
    }
   ],
   "source": [
    "numeros[-2]"
   ]
  },
  {
   "cell_type": "code",
   "execution_count": 43,
   "metadata": {
    "execution": {
     "iopub.execute_input": "2020-11-09T20:46:10.000580Z",
     "iopub.status.busy": "2020-11-09T20:46:10.000011Z",
     "iopub.status.idle": "2020-11-09T20:46:10.001865Z",
     "shell.execute_reply": "2020-11-09T20:46:10.002398Z"
    }
   },
   "outputs": [
    {
     "name": "stdout",
     "output_type": "stream",
     "text": [
      "[0, 1, 2]\n"
     ]
    }
   ],
   "source": [
    "print(numeros[0:3])  # Imprimo de la pos 0 a la pos 2"
   ]
  },
  {
   "cell_type": "code",
   "execution_count": 44,
   "metadata": {
    "execution": {
     "iopub.execute_input": "2020-11-09T20:46:10.006585Z",
     "iopub.status.busy": "2020-11-09T20:46:10.006045Z",
     "iopub.status.idle": "2020-11-09T20:46:10.009525Z",
     "shell.execute_reply": "2020-11-09T20:46:10.009993Z"
    }
   },
   "outputs": [
    {
     "name": "stdout",
     "output_type": "stream",
     "text": [
      "[7, 8]\n"
     ]
    }
   ],
   "source": [
    "print(numeros[-4:-2])"
   ]
  },
  {
   "cell_type": "code",
   "execution_count": 45,
   "metadata": {
    "execution": {
     "iopub.execute_input": "2020-11-09T20:46:10.013893Z",
     "iopub.status.busy": "2020-11-09T20:46:10.013329Z",
     "iopub.status.idle": "2020-11-09T20:46:10.015218Z",
     "shell.execute_reply": "2020-11-09T20:46:10.015731Z"
    }
   },
   "outputs": [
    {
     "name": "stdout",
     "output_type": "stream",
     "text": [
      "[0, 1, 2, 3, 4, 5, 6, 7, 8, 9, 10]\n"
     ]
    }
   ],
   "source": [
    "print(numeros[0:80])"
   ]
  },
  {
   "cell_type": "code",
   "execution_count": 46,
   "metadata": {
    "execution": {
     "iopub.execute_input": "2020-11-09T20:46:10.019398Z",
     "iopub.status.busy": "2020-11-09T20:46:10.018833Z",
     "iopub.status.idle": "2020-11-09T20:46:10.020703Z",
     "shell.execute_reply": "2020-11-09T20:46:10.021241Z"
    }
   },
   "outputs": [
    {
     "name": "stdout",
     "output_type": "stream",
     "text": [
      "[0, 1, 2]\n"
     ]
    }
   ],
   "source": [
    "print(numeros[:3])"
   ]
  },
  {
   "cell_type": "code",
   "execution_count": 47,
   "metadata": {
    "execution": {
     "iopub.execute_input": "2020-11-09T20:46:10.024969Z",
     "iopub.status.busy": "2020-11-09T20:46:10.024401Z",
     "iopub.status.idle": "2020-11-09T20:46:10.026284Z",
     "shell.execute_reply": "2020-11-09T20:46:10.026778Z"
    }
   },
   "outputs": [
    {
     "name": "stdout",
     "output_type": "stream",
     "text": [
      "[3, 4, 5, 6, 7, 8, 9, 10]\n"
     ]
    }
   ],
   "source": [
    "print(numeros[3:])"
   ]
  },
  {
   "cell_type": "code",
   "execution_count": 48,
   "metadata": {
    "execution": {
     "iopub.execute_input": "2020-11-09T20:46:10.030590Z",
     "iopub.status.busy": "2020-11-09T20:46:10.030029Z",
     "iopub.status.idle": "2020-11-09T20:46:10.031937Z",
     "shell.execute_reply": "2020-11-09T20:46:10.032440Z"
    }
   },
   "outputs": [
    {
     "name": "stdout",
     "output_type": "stream",
     "text": [
      "[0, 2, 4, 6, 8]\n"
     ]
    }
   ],
   "source": [
    "print(numeros[0:10:2])"
   ]
  },
  {
   "cell_type": "markdown",
   "metadata": {},
   "source": [
    "```python\n",
    "lista[<inicio>:<final>:<step>]\n",
    "```"
   ]
  },
  {
   "cell_type": "code",
   "execution_count": 49,
   "metadata": {
    "execution": {
     "iopub.execute_input": "2020-11-09T20:46:10.036572Z",
     "iopub.status.busy": "2020-11-09T20:46:10.036001Z",
     "iopub.status.idle": "2020-11-09T20:46:10.038497Z",
     "shell.execute_reply": "2020-11-09T20:46:10.038936Z"
    },
    "lines_to_next_cell": 2
   },
   "outputs": [
    {
     "data": {
      "text/plain": [
       "[1, 2, 3, 4]"
      ]
     },
     "execution_count": 1,
     "metadata": {},
     "output_type": "execute_result"
    }
   ],
   "source": [
    "l1 = [1, 2]\n",
    "l2 = [3, 4]\n",
    "l1 + l2"
   ]
  },
  {
   "cell_type": "code",
   "execution_count": 50,
   "metadata": {
    "execution": {
     "iopub.execute_input": "2020-11-09T20:46:10.042890Z",
     "iopub.status.busy": "2020-11-09T20:46:10.042196Z",
     "iopub.status.idle": "2020-11-09T20:46:10.044568Z",
     "shell.execute_reply": "2020-11-09T20:46:10.045037Z"
    }
   },
   "outputs": [
    {
     "name": "stdout",
     "output_type": "stream",
     "text": [
      "[0, 1, 2, 3, 4, 5, 6, 'siete', 8, 9, 10]\n"
     ]
    }
   ],
   "source": [
    "numeros[7] = 'siete'  # Las listas se pueden mutar\n",
    "print(numeros)"
   ]
  },
  {
   "cell_type": "code",
   "execution_count": 51,
   "metadata": {
    "execution": {
     "iopub.execute_input": "2020-11-09T20:46:10.048831Z",
     "iopub.status.busy": "2020-11-09T20:46:10.048262Z",
     "iopub.status.idle": "2020-11-09T20:46:10.050661Z",
     "shell.execute_reply": "2020-11-09T20:46:10.050199Z"
    }
   },
   "outputs": [
    {
     "name": "stdout",
     "output_type": "stream",
     "text": [
      "[10, 9, 8, 'siete', 6, 5, 4, 3, 2, 1, 0]\n"
     ]
    }
   ],
   "source": [
    "numeros = numeros[::-1]\n",
    "print(numeros)"
   ]
  },
  {
   "cell_type": "code",
   "execution_count": 52,
   "metadata": {
    "execution": {
     "iopub.execute_input": "2020-11-09T20:46:10.056263Z",
     "iopub.status.busy": "2020-11-09T20:46:10.053609Z",
     "iopub.status.idle": "2020-11-09T20:46:10.058830Z",
     "shell.execute_reply": "2020-11-09T20:46:10.058218Z"
    },
    "tags": [
     "raises-exception"
    ]
   },
   "outputs": [
    {
     "ename": "IndexError",
     "evalue": "list index out of range",
     "output_type": "error",
     "traceback": [
      "\u001b[0;31m---------------------------------------------------------------------------\u001b[0m",
      "\u001b[0;31mIndexError\u001b[0m                                Traceback (most recent call last)",
      "\u001b[0;32m<ipython-input-1-0ef91dd29a9b>\u001b[0m in \u001b[0;36m<module>\u001b[0;34m\u001b[0m\n\u001b[0;32m----> 1\u001b[0;31m \u001b[0mprint\u001b[0m\u001b[0;34m(\u001b[0m\u001b[0mnumeros\u001b[0m\u001b[0;34m[\u001b[0m\u001b[0;36m15\u001b[0m\u001b[0;34m]\u001b[0m\u001b[0;34m)\u001b[0m  \u001b[0;31m# Falla. No se puede acceder a una posición inexistente\u001b[0m\u001b[0;34m\u001b[0m\u001b[0;34m\u001b[0m\u001b[0m\n\u001b[0m",
      "\u001b[0;31mIndexError\u001b[0m: list index out of range"
     ]
    }
   ],
   "source": [
    "print(numeros[15])  # Falla. No se puede acceder a una posición inexistente"
   ]
  },
  {
   "cell_type": "code",
   "execution_count": 53,
   "metadata": {
    "execution": {
     "iopub.execute_input": "2020-11-09T20:46:10.166012Z",
     "iopub.status.busy": "2020-11-09T20:46:10.164966Z",
     "iopub.status.idle": "2020-11-09T20:46:10.170648Z",
     "shell.execute_reply": "2020-11-09T20:46:10.170116Z"
    }
   },
   "outputs": [
    {
     "name": "stdout",
     "output_type": "stream",
     "text": [
      "palabra\n",
      "a\n",
      "pal\n",
      "abra\n"
     ]
    }
   ],
   "source": [
    "palabra = 'palabra'\n",
    "print(palabra)\n",
    "print(palabra[3])\n",
    "print(palabra[:3])\n",
    "print(palabra[3:])"
   ]
  },
  {
   "cell_type": "code",
   "execution_count": 54,
   "metadata": {
    "execution": {
     "iopub.execute_input": "2020-11-09T20:46:10.175053Z",
     "iopub.status.busy": "2020-11-09T20:46:10.174484Z",
     "iopub.status.idle": "2020-11-09T20:46:10.178957Z",
     "shell.execute_reply": "2020-11-09T20:46:10.178444Z"
    }
   },
   "outputs": [
    {
     "name": "stdout",
     "output_type": "stream",
     "text": [
      "(0, 1, 2, 3, 4)\n",
      "(0, 1)\n",
      "(2, 3, 4)\n"
     ]
    }
   ],
   "source": [
    "tupla = (0, 1, 2, 3, 4)\n",
    "\n",
    "print(tupla)\n",
    "print(tupla[:2])\n",
    "print(tupla[2:])"
   ]
  },
  {
   "cell_type": "markdown",
   "metadata": {
    "slideshow": {
     "slide_type": "slide"
    }
   },
   "source": [
    "#### Diccionarios de Python\n",
    "\n",
    "Son como hashmaps, las claves deben ser inmutables para que no pierda sentido el diccionario. Si se pudieran modificar, se podrían cambiar las claves y generaría conflictos.\n",
    "\n",
    "Tipos mutables:\n",
    "- Listas\n",
    "- Diccionarios\n",
    "- Sets\n",
    "\n",
    "Tipos inmutables:\n",
    "- Int\n",
    "- Float\n",
    "- String\n",
    "- Tuplas\n"
   ]
  },
  {
   "cell_type": "code",
   "execution_count": 55,
   "metadata": {
    "execution": {
     "iopub.execute_input": "2020-11-09T20:46:10.183006Z",
     "iopub.status.busy": "2020-11-09T20:46:10.182435Z",
     "iopub.status.idle": "2020-11-09T20:46:10.185527Z",
     "shell.execute_reply": "2020-11-09T20:46:10.184918Z"
    },
    "slideshow": {
     "slide_type": "slide"
    }
   },
   "outputs": [
    {
     "data": {
      "text/plain": [
       "{}"
      ]
     },
     "execution_count": 1,
     "metadata": {},
     "output_type": "execute_result"
    }
   ],
   "source": [
    "diccionario = {}\n",
    "diccionario"
   ]
  },
  {
   "cell_type": "code",
   "execution_count": 56,
   "metadata": {
    "execution": {
     "iopub.execute_input": "2020-11-09T20:46:10.189610Z",
     "iopub.status.busy": "2020-11-09T20:46:10.189084Z",
     "iopub.status.idle": "2020-11-09T20:46:10.193436Z",
     "shell.execute_reply": "2020-11-09T20:46:10.192932Z"
    }
   },
   "outputs": [
    {
     "data": {
      "text/plain": [
       "{}"
      ]
     },
     "execution_count": 1,
     "metadata": {},
     "output_type": "execute_result"
    }
   ],
   "source": [
    "diccionario = dict()\n",
    "diccionario"
   ]
  },
  {
   "cell_type": "code",
   "execution_count": 57,
   "metadata": {
    "execution": {
     "iopub.execute_input": "2020-11-09T20:46:10.198186Z",
     "iopub.status.busy": "2020-11-09T20:46:10.197599Z",
     "iopub.status.idle": "2020-11-09T20:46:10.199597Z",
     "shell.execute_reply": "2020-11-09T20:46:10.200094Z"
    },
    "slideshow": {
     "slide_type": "slide"
    }
   },
   "outputs": [
    {
     "name": "stdout",
     "output_type": "stream",
     "text": [
      "{'clave1': 'valor1', 2: 'valor2', 'clave3': 3}\n"
     ]
    }
   ],
   "source": [
    "# Cómo agregar cosas al diccionario\n",
    "diccionario['clave1'] = 'valor1'\n",
    "diccionario[2] = 'valor2'\n",
    "diccionario['clave3'] = 3\n",
    "print(diccionario)"
   ]
  },
  {
   "cell_type": "markdown",
   "metadata": {},
   "source": [
    "Hay dos formas de obtener valores de un diccionario:\n",
    "\n",
    "```python\n",
    "diccionario[clave]\n",
    "```\n",
    "\n",
    "El cual devuelve el valor si existe la clave suministrada o bien lanza `KeyError` si no existe."
   ]
  },
  {
   "cell_type": "code",
   "execution_count": 58,
   "metadata": {
    "execution": {
     "iopub.execute_input": "2020-11-09T20:46:10.203811Z",
     "iopub.status.busy": "2020-11-09T20:46:10.203222Z",
     "iopub.status.idle": "2020-11-09T20:46:10.205788Z",
     "shell.execute_reply": "2020-11-09T20:46:10.206297Z"
    }
   },
   "outputs": [
    {
     "data": {
      "text/plain": [
       "'valor1'"
      ]
     },
     "execution_count": 1,
     "metadata": {},
     "output_type": "execute_result"
    }
   ],
   "source": [
    "diccionario['clave1']"
   ]
  },
  {
   "cell_type": "code",
   "execution_count": 59,
   "metadata": {
    "execution": {
     "iopub.execute_input": "2020-11-09T20:46:10.213187Z",
     "iopub.status.busy": "2020-11-09T20:46:10.212595Z",
     "iopub.status.idle": "2020-11-09T20:46:10.215896Z",
     "shell.execute_reply": "2020-11-09T20:46:10.215363Z"
    },
    "tags": [
     "raises-exception"
    ]
   },
   "outputs": [
    {
     "ename": "KeyError",
     "evalue": "'clave1000'",
     "output_type": "error",
     "traceback": [
      "\u001b[0;31m---------------------------------------------------------------------------\u001b[0m",
      "\u001b[0;31mKeyError\u001b[0m                                  Traceback (most recent call last)",
      "\u001b[0;32m<ipython-input-1-41aae9a2e5ed>\u001b[0m in \u001b[0;36m<module>\u001b[0;34m\u001b[0m\n\u001b[0;32m----> 1\u001b[0;31m \u001b[0mdiccionario\u001b[0m\u001b[0;34m[\u001b[0m\u001b[0;34m'clave1000'\u001b[0m\u001b[0;34m]\u001b[0m\u001b[0;34m\u001b[0m\u001b[0;34m\u001b[0m\u001b[0m\n\u001b[0m",
      "\u001b[0;31mKeyError\u001b[0m: 'clave1000'"
     ]
    }
   ],
   "source": [
    "diccionario['clave1000']"
   ]
  },
  {
   "cell_type": "markdown",
   "metadata": {},
   "source": [
    "La segunda forma es con `get`:"
   ]
  },
  {
   "cell_type": "code",
   "execution_count": 60,
   "metadata": {
    "execution": {
     "iopub.execute_input": "2020-11-09T20:46:10.372394Z",
     "iopub.status.busy": "2020-11-09T20:46:10.354961Z",
     "iopub.status.idle": "2020-11-09T20:46:10.377154Z",
     "shell.execute_reply": "2020-11-09T20:46:10.376427Z"
    }
   },
   "outputs": [],
   "source": [
    "diccionario.get?"
   ]
  },
  {
   "cell_type": "code",
   "execution_count": 61,
   "metadata": {
    "execution": {
     "iopub.execute_input": "2020-11-09T20:46:10.383695Z",
     "iopub.status.busy": "2020-11-09T20:46:10.382278Z",
     "iopub.status.idle": "2020-11-09T20:46:10.385705Z",
     "shell.execute_reply": "2020-11-09T20:46:10.385194Z"
    }
   },
   "outputs": [
    {
     "name": "stdout",
     "output_type": "stream",
     "text": [
      "Help on built-in function get:\n",
      "\n",
      "get(key, default=None, /) method of builtins.dict instance\n",
      "    Return the value for key if key is in the dictionary, else default.\n",
      "\n"
     ]
    }
   ],
   "source": [
    "help(diccionario.get)"
   ]
  },
  {
   "cell_type": "code",
   "execution_count": 62,
   "metadata": {
    "execution": {
     "iopub.execute_input": "2020-11-09T20:46:10.391144Z",
     "iopub.status.busy": "2020-11-09T20:46:10.389880Z",
     "iopub.status.idle": "2020-11-09T20:46:10.393130Z",
     "shell.execute_reply": "2020-11-09T20:46:10.392614Z"
    },
    "slideshow": {
     "slide_type": "slide"
    }
   },
   "outputs": [
    {
     "name": "stdout",
     "output_type": "stream",
     "text": [
      "None\n"
     ]
    }
   ],
   "source": [
    "print(diccionario.get('clave1000'))"
   ]
  },
  {
   "cell_type": "code",
   "execution_count": 63,
   "metadata": {
    "execution": {
     "iopub.execute_input": "2020-11-09T20:46:10.398398Z",
     "iopub.status.busy": "2020-11-09T20:46:10.397019Z",
     "iopub.status.idle": "2020-11-09T20:46:10.400376Z",
     "shell.execute_reply": "2020-11-09T20:46:10.399856Z"
    },
    "slideshow": {
     "slide_type": "slide"
    }
   },
   "outputs": [
    {
     "name": "stdout",
     "output_type": "stream",
     "text": [
      "True\n"
     ]
    }
   ],
   "source": [
    "print('clave1' in diccionario)  # Verifico si la clave está en el diccionario"
   ]
  },
  {
   "cell_type": "code",
   "execution_count": 64,
   "metadata": {
    "execution": {
     "iopub.execute_input": "2020-11-09T20:46:10.405361Z",
     "iopub.status.busy": "2020-11-09T20:46:10.404201Z",
     "iopub.status.idle": "2020-11-09T20:46:10.414865Z",
     "shell.execute_reply": "2020-11-09T20:46:10.414364Z"
    }
   },
   "outputs": [
    {
     "data": {
      "text/plain": [
       "True"
      ]
     },
     "execution_count": 1,
     "metadata": {},
     "output_type": "execute_result"
    }
   ],
   "source": [
    "l = [1, 2, 3, 4]\n",
    "2 in l"
   ]
  },
  {
   "cell_type": "code",
   "execution_count": 65,
   "metadata": {
    "execution": {
     "iopub.execute_input": "2020-11-09T20:46:10.422227Z",
     "iopub.status.busy": "2020-11-09T20:46:10.421642Z",
     "iopub.status.idle": "2020-11-09T20:46:10.433599Z",
     "shell.execute_reply": "2020-11-09T20:46:10.433091Z"
    }
   },
   "outputs": [
    {
     "name": "stdout",
     "output_type": "stream",
     "text": [
      "la clave es clave1 y el valor es valor1\n",
      "la clave es 2 y el valor es valor2\n",
      "la clave es clave3 y el valor es 3\n"
     ]
    }
   ],
   "source": [
    "for clave, valor in diccionario.items():\n",
    "    print(\"la clave es %s y el valor es %s\" % (clave, valor))"
   ]
  },
  {
   "cell_type": "code",
   "execution_count": 66,
   "metadata": {
    "execution": {
     "iopub.execute_input": "2020-11-09T20:46:10.439399Z",
     "iopub.status.busy": "2020-11-09T20:46:10.437984Z",
     "iopub.status.idle": "2020-11-09T20:46:10.441360Z",
     "shell.execute_reply": "2020-11-09T20:46:10.440847Z"
    }
   },
   "outputs": [
    {
     "name": "stdout",
     "output_type": "stream",
     "text": [
      "la clave es clave1 y el valor es valor1\n",
      "la clave es 2 y el valor es valor2\n",
      "la clave es clave3 y el valor es 3\n"
     ]
    }
   ],
   "source": [
    "for clave, valor in diccionario.items():\n",
    "    print(\"la clave es {} y el valor es {}\".format(clave, valor))"
   ]
  },
  {
   "cell_type": "code",
   "execution_count": 67,
   "metadata": {
    "execution": {
     "iopub.execute_input": "2020-11-09T20:46:10.447205Z",
     "iopub.status.busy": "2020-11-09T20:46:10.445810Z",
     "iopub.status.idle": "2020-11-09T20:46:10.449165Z",
     "shell.execute_reply": "2020-11-09T20:46:10.448659Z"
    },
    "slideshow": {
     "slide_type": "slide"
    }
   },
   "outputs": [
    {
     "name": "stdout",
     "output_type": "stream",
     "text": [
      "la clave es clave1 y el valor es valor1\n",
      "la clave es 2 y el valor es valor2\n",
      "la clave es clave3 y el valor es 3\n"
     ]
    }
   ],
   "source": [
    "# Cómo iterar un diccionario elemento por elemento\n",
    "for (\n",
    "    clave,\n",
    "    valor,\n",
    ") in (\n",
    "    diccionario.items()\n",
    "):  # diccionario.items() va devolviendo tuplas con el formato (clave,valor)\n",
    "    print(\n",
    "        f\"la clave es {clave} y el valor es {valor}\"\n",
    "    )  # con esta sintaxis se desempaquetan en clave y valor (similar a enumerate)"
   ]
  },
  {
   "cell_type": "code",
   "execution_count": 68,
   "metadata": {
    "execution": {
     "iopub.execute_input": "2020-11-09T20:46:10.463453Z",
     "iopub.status.busy": "2020-11-09T20:46:10.462864Z",
     "iopub.status.idle": "2020-11-09T20:46:10.466822Z",
     "shell.execute_reply": "2020-11-09T20:46:10.467301Z"
    },
    "slideshow": {
     "slide_type": "slide"
    }
   },
   "outputs": [
    {
     "name": "stdout",
     "output_type": "stream",
     "text": [
      "clave1\n",
      "2\n",
      "clave3\n"
     ]
    }
   ],
   "source": [
    "for clave in diccionario.keys():\n",
    "    print(clave)"
   ]
  },
  {
   "cell_type": "code",
   "execution_count": 69,
   "metadata": {
    "execution": {
     "iopub.execute_input": "2020-11-09T20:46:10.471973Z",
     "iopub.status.busy": "2020-11-09T20:46:10.471356Z",
     "iopub.status.idle": "2020-11-09T20:46:10.473379Z",
     "shell.execute_reply": "2020-11-09T20:46:10.473844Z"
    },
    "slideshow": {
     "slide_type": "slide"
    }
   },
   "outputs": [
    {
     "name": "stdout",
     "output_type": "stream",
     "text": [
      "valor1\n",
      "valor2\n",
      "3\n"
     ]
    }
   ],
   "source": [
    "for valor in diccionario.values():\n",
    "    print(valor)"
   ]
  },
  {
   "cell_type": "markdown",
   "metadata": {},
   "source": [
    "#### Sets\n",
    "\n",
    "Son similares a los diccionarios (en eficiencia) pero se almacenan solo claves, y tienen algunas operaciones particulares.\n",
    "\n",
    "En particular, no pueden tener elementos iguales (pensar que son conjuntos)"
   ]
  },
  {
   "cell_type": "code",
   "execution_count": 70,
   "metadata": {
    "execution": {
     "iopub.execute_input": "2020-11-09T20:46:10.485518Z",
     "iopub.status.busy": "2020-11-09T20:46:10.484445Z",
     "iopub.status.idle": "2020-11-09T20:46:10.486067Z",
     "shell.execute_reply": "2020-11-09T20:46:10.484965Z"
    }
   },
   "outputs": [],
   "source": [
    "set??"
   ]
  },
  {
   "cell_type": "code",
   "execution_count": 71,
   "metadata": {
    "execution": {
     "iopub.execute_input": "2020-11-09T20:46:10.488636Z",
     "iopub.status.busy": "2020-11-09T20:46:10.488064Z",
     "iopub.status.idle": "2020-11-09T20:46:10.491889Z",
     "shell.execute_reply": "2020-11-09T20:46:10.492403Z"
    }
   },
   "outputs": [
    {
     "data": {
      "text/plain": [
       "{1, 2, 3}"
      ]
     },
     "execution_count": 1,
     "metadata": {},
     "output_type": "execute_result"
    }
   ],
   "source": [
    "# Se definen como los diccionarios pero sin hacerlos 'clave:valor', solamente una seguidilla de elementos\n",
    "{1, 2, 2, 3}"
   ]
  },
  {
   "cell_type": "code",
   "execution_count": 72,
   "metadata": {
    "execution": {
     "iopub.execute_input": "2020-11-09T20:46:10.494901Z",
     "iopub.status.busy": "2020-11-09T20:46:10.494328Z",
     "iopub.status.idle": "2020-11-09T20:46:10.498532Z",
     "shell.execute_reply": "2020-11-09T20:46:10.498977Z"
    }
   },
   "outputs": [
    {
     "data": {
      "text/plain": [
       "{1, 2, 3}"
      ]
     },
     "execution_count": 1,
     "metadata": {},
     "output_type": "execute_result"
    }
   ],
   "source": [
    "set([1, 2, 2, 3])"
   ]
  },
  {
   "cell_type": "markdown",
   "metadata": {},
   "source": [
    "## Condicionales (if...elif...else)\n",
    "\n",
    "```python\n",
    "if <condición_1>:\n",
    "    <hacer algo_1 si se da la condición_1>\n",
    "elif <condición_2>:\n",
    "    <hacer algo_2 si se da la condición_2>\n",
    "...\n",
    "elif <condición_n>:\n",
    "    <hacer algo_n si se da la condición_n>\n",
    "else:\n",
    "    <hacer otra cosa si no dan las anteriores>\n",
    "```\n",
    "\n",
    "Algo importante para notar es que los bloques se definen por **niveles de identacion**."
   ]
  },
  {
   "cell_type": "code",
   "execution_count": 73,
   "metadata": {
    "execution": {
     "iopub.execute_input": "2020-11-09T20:46:10.502365Z",
     "iopub.status.busy": "2020-11-09T20:46:10.501254Z",
     "iopub.status.idle": "2020-11-09T20:46:10.507586Z",
     "shell.execute_reply": "2020-11-09T20:46:10.508609Z"
    }
   },
   "outputs": [
    {
     "name": "stdout",
     "output_type": "stream",
     "text": [
      "uno\n"
     ]
    }
   ],
   "source": [
    "v = 1\n",
    "if v == 1:\n",
    "    print(\"uno\")\n",
    "elif v == 2:\n",
    "    print(\"dos\")\n",
    "else:\n",
    "    print(\"ni idea\")\n",
    "    print(v)"
   ]
  },
  {
   "cell_type": "markdown",
   "metadata": {},
   "source": [
    "## Iteraciones\n",
    "\n",
    "```python\n",
    "while cond:\n",
    "    <codigo>\n",
    "```\n",
    "\n",
    "```python\n",
    "for elemento in iterable:\n",
    "    <codigo>\n",
    "```\n",
    "\n",
    "Para iterar sobre un rango de valores, usamos `range`"
   ]
  },
  {
   "cell_type": "code",
   "execution_count": 74,
   "metadata": {
    "execution": {
     "iopub.execute_input": "2020-11-09T20:46:10.512651Z",
     "iopub.status.busy": "2020-11-09T20:46:10.511977Z",
     "iopub.status.idle": "2020-11-09T20:46:10.516812Z",
     "shell.execute_reply": "2020-11-09T20:46:10.517253Z"
    }
   },
   "outputs": [
    {
     "name": "stdout",
     "output_type": "stream",
     "text": [
      "1\n",
      "4\n",
      "7\n",
      "10\n"
     ]
    }
   ],
   "source": [
    "for i in range(1, 11, 3):\n",
    "    print(i)"
   ]
  },
  {
   "cell_type": "markdown",
   "metadata": {},
   "source": [
    "## Operadores logicos\n",
    "\n",
    "`not`, `or`, `and`"
   ]
  },
  {
   "cell_type": "code",
   "execution_count": 75,
   "metadata": {
    "execution": {
     "iopub.execute_input": "2020-11-09T20:46:10.521950Z",
     "iopub.status.busy": "2020-11-09T20:46:10.521383Z",
     "iopub.status.idle": "2020-11-09T20:46:10.524618Z",
     "shell.execute_reply": "2020-11-09T20:46:10.525255Z"
    }
   },
   "outputs": [
    {
     "name": "stdout",
     "output_type": "stream",
     "text": [
      "yay\n"
     ]
    }
   ],
   "source": [
    "if True or False:\n",
    "    print(\"yay\")"
   ]
  },
  {
   "cell_type": "code",
   "execution_count": 76,
   "metadata": {
    "execution": {
     "iopub.execute_input": "2020-11-09T20:46:10.528586Z",
     "iopub.status.busy": "2020-11-09T20:46:10.528019Z",
     "iopub.status.idle": "2020-11-09T20:46:10.532031Z",
     "shell.execute_reply": "2020-11-09T20:46:10.531409Z"
    }
   },
   "outputs": [
    {
     "data": {
      "text/plain": [
       "False"
      ]
     },
     "execution_count": 1,
     "metadata": {},
     "output_type": "execute_result"
    }
   ],
   "source": [
    "1 == 2"
   ]
  },
  {
   "cell_type": "code",
   "execution_count": 77,
   "metadata": {
    "execution": {
     "iopub.execute_input": "2020-11-09T20:46:10.535802Z",
     "iopub.status.busy": "2020-11-09T20:46:10.535214Z",
     "iopub.status.idle": "2020-11-09T20:46:10.538090Z",
     "shell.execute_reply": "2020-11-09T20:46:10.538597Z"
    }
   },
   "outputs": [
    {
     "data": {
      "text/plain": [
       "True"
      ]
     },
     "execution_count": 1,
     "metadata": {},
     "output_type": "execute_result"
    }
   ],
   "source": [
    "1 != 2"
   ]
  },
  {
   "cell_type": "markdown",
   "metadata": {
    "slideshow": {
     "slide_type": "slide"
    }
   },
   "source": [
    "## Funciones en Python"
   ]
  },
  {
   "cell_type": "code",
   "execution_count": 78,
   "metadata": {
    "execution": {
     "iopub.execute_input": "2020-11-09T20:46:10.545343Z",
     "iopub.status.busy": "2020-11-09T20:46:10.544762Z",
     "iopub.status.idle": "2020-11-09T20:46:10.546677Z",
     "shell.execute_reply": "2020-11-09T20:46:10.547171Z"
    },
    "slideshow": {
     "slide_type": "slide"
    }
   },
   "outputs": [
    {
     "name": "stdout",
     "output_type": "stream",
     "text": [
      "True\n",
      "False\n"
     ]
    }
   ],
   "source": [
    "def busqueda_binaria(lista, elemento):\n",
    "    if not lista:\n",
    "        return False\n",
    "    elif len(lista) == 1:\n",
    "        return lista[0] == elemento\n",
    "    mitad = len(lista) // 2  # // es la operación división entera\n",
    "    if lista[mitad] == elemento:\n",
    "        return True\n",
    "    if lista[mitad] > elemento:\n",
    "        return busqueda_binaria(lista[:mitad], elemento)\n",
    "    if lista[mitad] < elemento:\n",
    "        return busqueda_binaria(lista[mitad:], elemento)\n",
    "\n",
    "\n",
    "print(busqueda_binaria([1, 2, 3, 4, 5], 4))\n",
    "print(busqueda_binaria([1, 4, 6, 7, 9, 10], 2))"
   ]
  },
  {
   "cell_type": "code",
   "execution_count": 79,
   "metadata": {
    "execution": {
     "iopub.execute_input": "2020-11-09T20:46:10.551617Z",
     "iopub.status.busy": "2020-11-09T20:46:10.551036Z",
     "iopub.status.idle": "2020-11-09T20:46:10.553000Z",
     "shell.execute_reply": "2020-11-09T20:46:10.553464Z"
    }
   },
   "outputs": [
    {
     "name": "stdout",
     "output_type": "stream",
     "text": [
      "(3, 3, 3)\n"
     ]
    }
   ],
   "source": [
    "def a(b):\n",
    "    if a == 1:\n",
    "        print(a)\n",
    "    return (b, b, b)\n",
    "\n",
    "\n",
    "print(a(3))"
   ]
  },
  {
   "cell_type": "code",
   "execution_count": 80,
   "metadata": {
    "execution": {
     "iopub.execute_input": "2020-11-09T20:46:10.558158Z",
     "iopub.status.busy": "2020-11-09T20:46:10.557585Z",
     "iopub.status.idle": "2020-11-09T20:46:10.566703Z",
     "shell.execute_reply": "2020-11-09T20:46:10.566105Z"
    },
    "lines_to_next_cell": 2,
    "slideshow": {
     "slide_type": "slide"
    },
    "tags": [
     "raises-exception"
    ]
   },
   "outputs": [
    {
     "name": "stdout",
     "output_type": "stream",
     "text": [
      "3\n",
      "3.0\n",
      "3.0\n",
      "hola como te va\n",
      "[1, 2, 3, 4, 5]\n"
     ]
    },
    {
     "ename": "TypeError",
     "evalue": "can only concatenate str (not \"int\") to str",
     "output_type": "error",
     "traceback": [
      "\u001b[0;31m---------------------------------------------------------------------------\u001b[0m",
      "\u001b[0;31mTypeError\u001b[0m                                 Traceback (most recent call last)",
      "\u001b[0;32m<ipython-input-1-c2a6a99a90c7>\u001b[0m in \u001b[0;36m<module>\u001b[0;34m\u001b[0m\n\u001b[1;32m      8\u001b[0m \u001b[0mprint\u001b[0m\u001b[0;34m(\u001b[0m\u001b[0msuma\u001b[0m\u001b[0;34m(\u001b[0m\u001b[0;34m\"hola \"\u001b[0m\u001b[0;34m,\u001b[0m \u001b[0;34m\"como te va\"\u001b[0m\u001b[0;34m)\u001b[0m\u001b[0;34m)\u001b[0m\u001b[0;34m\u001b[0m\u001b[0;34m\u001b[0m\u001b[0m\n\u001b[1;32m      9\u001b[0m \u001b[0mprint\u001b[0m\u001b[0;34m(\u001b[0m\u001b[0msuma\u001b[0m\u001b[0;34m(\u001b[0m\u001b[0;34m[\u001b[0m\u001b[0;36m1\u001b[0m\u001b[0;34m,\u001b[0m \u001b[0;36m2\u001b[0m\u001b[0;34m,\u001b[0m \u001b[0;36m3\u001b[0m\u001b[0;34m]\u001b[0m\u001b[0;34m,\u001b[0m \u001b[0;34m[\u001b[0m\u001b[0;36m4\u001b[0m\u001b[0;34m,\u001b[0m \u001b[0;36m5\u001b[0m\u001b[0;34m]\u001b[0m\u001b[0;34m)\u001b[0m\u001b[0;34m)\u001b[0m\u001b[0;34m\u001b[0m\u001b[0;34m\u001b[0m\u001b[0m\n\u001b[0;32m---> 10\u001b[0;31m \u001b[0mprint\u001b[0m\u001b[0;34m(\u001b[0m\u001b[0msuma\u001b[0m\u001b[0;34m(\u001b[0m\u001b[0;34m\"1\"\u001b[0m\u001b[0;34m,\u001b[0m \u001b[0;36m3\u001b[0m\u001b[0;34m)\u001b[0m\u001b[0;34m)\u001b[0m  \u001b[0;31m# Falla\u001b[0m\u001b[0;34m\u001b[0m\u001b[0;34m\u001b[0m\u001b[0m\n\u001b[0m",
      "\u001b[0;32m<ipython-input-1-c2a6a99a90c7>\u001b[0m in \u001b[0;36msuma\u001b[0;34m(a, b)\u001b[0m\n\u001b[1;32m      1\u001b[0m \u001b[0;32mdef\u001b[0m \u001b[0msuma\u001b[0m\u001b[0;34m(\u001b[0m\u001b[0ma\u001b[0m\u001b[0;34m,\u001b[0m \u001b[0mb\u001b[0m\u001b[0;34m)\u001b[0m\u001b[0;34m:\u001b[0m\u001b[0;34m\u001b[0m\u001b[0;34m\u001b[0m\u001b[0m\n\u001b[0;32m----> 2\u001b[0;31m     \u001b[0;32mreturn\u001b[0m \u001b[0ma\u001b[0m \u001b[0;34m+\u001b[0m \u001b[0mb\u001b[0m\u001b[0;34m\u001b[0m\u001b[0;34m\u001b[0m\u001b[0m\n\u001b[0m\u001b[1;32m      3\u001b[0m \u001b[0;34m\u001b[0m\u001b[0m\n\u001b[1;32m      4\u001b[0m \u001b[0;34m\u001b[0m\u001b[0m\n\u001b[1;32m      5\u001b[0m \u001b[0mprint\u001b[0m\u001b[0;34m(\u001b[0m\u001b[0msuma\u001b[0m\u001b[0;34m(\u001b[0m\u001b[0;36m1\u001b[0m\u001b[0;34m,\u001b[0m \u001b[0;36m2\u001b[0m\u001b[0;34m)\u001b[0m\u001b[0;34m)\u001b[0m\u001b[0;34m\u001b[0m\u001b[0;34m\u001b[0m\u001b[0m\n",
      "\u001b[0;31mTypeError\u001b[0m: can only concatenate str (not \"int\") to str"
     ]
    }
   ],
   "source": [
    "def suma(a, b):\n",
    "    return a + b\n",
    "\n",
    "\n",
    "print(suma(1, 2))\n",
    "print(suma(1.0, 2.0))\n",
    "print(suma(1.0, 2))\n",
    "print(suma(\"hola \", \"como te va\"))\n",
    "print(suma([1, 2, 3], [4, 5]))\n",
    "print(suma(\"1\", 3))  # Falla"
   ]
  },
  {
   "cell_type": "code",
   "execution_count": 81,
   "metadata": {
    "execution": {
     "iopub.execute_input": "2020-11-09T20:46:10.673521Z",
     "iopub.status.busy": "2020-11-09T20:46:10.672402Z",
     "iopub.status.idle": "2020-11-09T20:46:10.676465Z",
     "shell.execute_reply": "2020-11-09T20:46:10.675194Z"
    }
   },
   "outputs": [
    {
     "name": "stdout",
     "output_type": "stream",
     "text": [
      "2.0"
     ]
    },
    {
     "name": "stdout",
     "output_type": "stream",
     "text": [
      "\n"
     ]
    }
   ],
   "source": [
    "# El valor por default de divisor es 1\n",
    "\n",
    "\n",
    "def division(dividendo, divisor=2):\n",
    "    return dividendo / divisor\n",
    "\n",
    "\n",
    "print(division(4))  # Usa el valor por default"
   ]
  },
  {
   "cell_type": "code",
   "execution_count": 82,
   "metadata": {
    "execution": {
     "iopub.execute_input": "2020-11-09T20:46:10.683816Z",
     "iopub.status.busy": "2020-11-09T20:46:10.683181Z",
     "iopub.status.idle": "2020-11-09T20:46:10.689716Z",
     "shell.execute_reply": "2020-11-09T20:46:10.689089Z"
    },
    "tags": [
     "raises-exception"
    ]
   },
   "outputs": [
    {
     "name": "stdout",
     "output_type": "stream",
     "text": [
      "0.5\n",
      "0.5\n"
     ]
    },
    {
     "ename": "TypeError",
     "evalue": "division() missing 1 required positional argument: 'dividendo'",
     "output_type": "error",
     "traceback": [
      "\u001b[0;31m---------------------------------------------------------------------------\u001b[0m",
      "\u001b[0;31mTypeError\u001b[0m                                 Traceback (most recent call last)",
      "\u001b[0;32m<ipython-input-1-34eff3833138>\u001b[0m in \u001b[0;36m<module>\u001b[0;34m\u001b[0m\n\u001b[1;32m      1\u001b[0m \u001b[0mprint\u001b[0m\u001b[0;34m(\u001b[0m\u001b[0mdivision\u001b[0m\u001b[0;34m(\u001b[0m\u001b[0;36m1\u001b[0m\u001b[0;34m,\u001b[0m \u001b[0;36m2\u001b[0m\u001b[0;34m)\u001b[0m\u001b[0;34m)\u001b[0m  \u001b[0;31m# Parámetros por orden\u001b[0m\u001b[0;34m\u001b[0m\u001b[0;34m\u001b[0m\u001b[0m\n\u001b[1;32m      2\u001b[0m \u001b[0mprint\u001b[0m\u001b[0;34m(\u001b[0m\u001b[0mdivision\u001b[0m\u001b[0;34m(\u001b[0m\u001b[0mdividendo\u001b[0m\u001b[0;34m=\u001b[0m\u001b[0;36m1\u001b[0m\u001b[0;34m,\u001b[0m \u001b[0mdivisor\u001b[0m\u001b[0;34m=\u001b[0m\u001b[0;36m2\u001b[0m\u001b[0;34m)\u001b[0m\u001b[0;34m)\u001b[0m  \u001b[0;31m# Parámetros por nombre\u001b[0m\u001b[0;34m\u001b[0m\u001b[0;34m\u001b[0m\u001b[0m\n\u001b[0;32m----> 3\u001b[0;31m \u001b[0mprint\u001b[0m\u001b[0;34m(\u001b[0m\u001b[0mdivision\u001b[0m\u001b[0;34m(\u001b[0m\u001b[0mdivisor\u001b[0m\u001b[0;34m=\u001b[0m\u001b[0;36m2\u001b[0m\u001b[0;34m)\u001b[0m\u001b[0;34m)\u001b[0m\u001b[0;34m\u001b[0m\u001b[0;34m\u001b[0m\u001b[0m\n\u001b[0m",
      "\u001b[0;31mTypeError\u001b[0m: division() missing 1 required positional argument: 'dividendo'"
     ]
    }
   ],
   "source": [
    "print(division(1, 2))  # Parámetros por orden\n",
    "print(division(dividendo=1, divisor=2))  # Parámetros por nombre\n",
    "print(division(divisor=2))"
   ]
  },
  {
   "cell_type": "code",
   "execution_count": 83,
   "metadata": {
    "execution": {
     "iopub.execute_input": "2020-11-09T20:46:10.794465Z",
     "iopub.status.busy": "2020-11-09T20:46:10.793682Z",
     "iopub.status.idle": "2020-11-09T20:46:10.796218Z",
     "shell.execute_reply": "2020-11-09T20:46:10.796751Z"
    }
   },
   "outputs": [
    {
     "name": "stdout",
     "output_type": "stream",
     "text": [
      "0.5\n"
     ]
    }
   ],
   "source": [
    "print(division(divisor=2, dividendo=1))"
   ]
  },
  {
   "cell_type": "code",
   "execution_count": 84,
   "metadata": {
    "execution": {
     "iopub.execute_input": "2020-11-09T20:46:10.802021Z",
     "iopub.status.busy": "2020-11-09T20:46:10.801412Z",
     "iopub.status.idle": "2020-11-09T20:46:10.803600Z",
     "shell.execute_reply": "2020-11-09T20:46:10.804119Z"
    }
   },
   "outputs": [
    {
     "name": "stdout",
     "output_type": "stream",
     "text": [
      "['a', 'b', 'c']\n",
      "[1, 2, 3]\n",
      "['hola', ' don', ' pepito']\n",
      "hola -  don -  pepito\n"
     ]
    }
   ],
   "source": [
    "# Funciones básicas ya en el lenguaje\n",
    "# Hechas para funcionar para distintos tipos\n",
    "\n",
    "string_ordenado = sorted('bca')\n",
    "print(string_ordenado)\n",
    "\n",
    "lista_ordenada = sorted([1, 3, 2])\n",
    "print(lista_ordenada)\n",
    "\n",
    "separadas = \"hola, don, pepito\".split(\",\")\n",
    "print(separadas)\n",
    "unidas = \" - \".join(separadas)\n",
    "print(unidas)"
   ]
  },
  {
   "cell_type": "markdown",
   "metadata": {},
   "source": [
    "## Módulos\n",
    "\n",
    "Para incluir alguna biblioteca de funciones se usa `import`. Pueden ser cosas ya predefinidas en Python (`math`, `random`, etc), nombres de archivos en nuestro directorio (por ejemplo, para `mimodulo.py` ponemos `import mimodulo`) o bibliotecas instaladas por el usuario"
   ]
  },
  {
   "cell_type": "code",
   "execution_count": 85,
   "metadata": {
    "execution": {
     "iopub.execute_input": "2020-11-09T20:46:10.809423Z",
     "iopub.status.busy": "2020-11-09T20:46:10.808133Z",
     "iopub.status.idle": "2020-11-09T20:46:10.811385Z",
     "shell.execute_reply": "2020-11-09T20:46:10.810866Z"
    }
   },
   "outputs": [
    {
     "name": "stdout",
     "output_type": "stream",
     "text": [
      "3.141592653589793\n"
     ]
    }
   ],
   "source": [
    "import math\n",
    "\n",
    "print(math.pi)"
   ]
  },
  {
   "cell_type": "code",
   "execution_count": 86,
   "metadata": {
    "execution": {
     "iopub.execute_input": "2020-11-09T20:46:10.816589Z",
     "iopub.status.busy": "2020-11-09T20:46:10.815344Z",
     "iopub.status.idle": "2020-11-09T20:46:10.818625Z",
     "shell.execute_reply": "2020-11-09T20:46:10.818118Z"
    }
   },
   "outputs": [
    {
     "name": "stdout",
     "output_type": "stream",
     "text": [
      "3.141592653589793 2.718281828459045\n"
     ]
    }
   ],
   "source": [
    "from math import pi, e\n",
    "\n",
    "print(pi, e)"
   ]
  },
  {
   "cell_type": "code",
   "execution_count": 87,
   "metadata": {
    "execution": {
     "iopub.execute_input": "2020-11-09T20:46:10.823769Z",
     "iopub.status.busy": "2020-11-09T20:46:10.822741Z",
     "iopub.status.idle": "2020-11-09T20:46:10.825549Z",
     "shell.execute_reply": "2020-11-09T20:46:10.826014Z"
    }
   },
   "outputs": [
    {
     "data": {
      "text/plain": [
       "2"
      ]
     },
     "execution_count": 1,
     "metadata": {},
     "output_type": "execute_result"
    }
   ],
   "source": [
    "math.gcd(56, 78)"
   ]
  },
  {
   "cell_type": "markdown",
   "metadata": {},
   "source": [
    "## Manejo de excepciones\n",
    "\n",
    "Se pueden encapsular errores esperados en un bloque 'try/except' para evitar cortar el flujo del programa"
   ]
  },
  {
   "cell_type": "code",
   "execution_count": 88,
   "metadata": {
    "execution": {
     "iopub.execute_input": "2020-11-09T20:46:10.831551Z",
     "iopub.status.busy": "2020-11-09T20:46:10.830939Z",
     "iopub.status.idle": "2020-11-09T20:46:10.837379Z",
     "shell.execute_reply": "2020-11-09T20:46:10.836741Z"
    },
    "tags": [
     "raises-exception"
    ]
   },
   "outputs": [
    {
     "ename": "ZeroDivisionError",
     "evalue": "division by zero",
     "output_type": "error",
     "traceback": [
      "\u001b[0;31m---------------------------------------------------------------------------\u001b[0m",
      "\u001b[0;31mZeroDivisionError\u001b[0m                         Traceback (most recent call last)",
      "\u001b[0;32m<ipython-input-1-f031f77b1a55>\u001b[0m in \u001b[0;36m<module>\u001b[0;34m\u001b[0m\n\u001b[0;32m----> 1\u001b[0;31m \u001b[0mdivision\u001b[0m\u001b[0;34m(\u001b[0m\u001b[0;36m1\u001b[0m\u001b[0;34m,\u001b[0m \u001b[0;36m0\u001b[0m\u001b[0;34m)\u001b[0m  \u001b[0;31m# No se puede dividir por cero\u001b[0m\u001b[0;34m\u001b[0m\u001b[0;34m\u001b[0m\u001b[0m\n\u001b[0m",
      "\u001b[0;32m<ipython-input-1-0d991d7de762>\u001b[0m in \u001b[0;36mdivision\u001b[0;34m(dividendo, divisor)\u001b[0m\n\u001b[1;32m      3\u001b[0m \u001b[0;34m\u001b[0m\u001b[0m\n\u001b[1;32m      4\u001b[0m \u001b[0;32mdef\u001b[0m \u001b[0mdivision\u001b[0m\u001b[0;34m(\u001b[0m\u001b[0mdividendo\u001b[0m\u001b[0;34m,\u001b[0m \u001b[0mdivisor\u001b[0m\u001b[0;34m=\u001b[0m\u001b[0;36m2\u001b[0m\u001b[0;34m)\u001b[0m\u001b[0;34m:\u001b[0m\u001b[0;34m\u001b[0m\u001b[0;34m\u001b[0m\u001b[0m\n\u001b[0;32m----> 5\u001b[0;31m     \u001b[0;32mreturn\u001b[0m \u001b[0mdividendo\u001b[0m \u001b[0;34m/\u001b[0m \u001b[0mdivisor\u001b[0m\u001b[0;34m\u001b[0m\u001b[0;34m\u001b[0m\u001b[0m\n\u001b[0m\u001b[1;32m      6\u001b[0m \u001b[0;34m\u001b[0m\u001b[0m\n\u001b[1;32m      7\u001b[0m \u001b[0;34m\u001b[0m\u001b[0m\n",
      "\u001b[0;31mZeroDivisionError\u001b[0m: division by zero"
     ]
    }
   ],
   "source": [
    "division(1, 0)  # No se puede dividir por cero"
   ]
  },
  {
   "cell_type": "code",
   "execution_count": 89,
   "metadata": {
    "execution": {
     "iopub.execute_input": "2020-11-09T20:46:10.944373Z",
     "iopub.status.busy": "2020-11-09T20:46:10.943281Z",
     "iopub.status.idle": "2020-11-09T20:46:10.946783Z",
     "shell.execute_reply": "2020-11-09T20:46:10.947603Z"
    }
   },
   "outputs": [
    {
     "name": "stdout",
     "output_type": "stream",
     "text": [
      "No se puede dividir por cero, ojo! division by zero\n",
      "1\n"
     ]
    }
   ],
   "source": [
    "try:\n",
    "    division(1, 0)\n",
    "except (ZeroDivisionError, TypeError) as e:\n",
    "    print('No se puede dividir por cero, ojo!', e)\n",
    "finally:\n",
    "    print(1)"
   ]
  },
  {
   "cell_type": "markdown",
   "metadata": {
    "slideshow": {
     "slide_type": "slide"
    }
   },
   "source": [
    "## Lectura y escritura de archivos"
   ]
  },
  {
   "cell_type": "code",
   "execution_count": 90,
   "metadata": {
    "execution": {
     "iopub.execute_input": "2020-11-09T20:46:10.953258Z",
     "iopub.status.busy": "2020-11-09T20:46:10.952670Z",
     "iopub.status.idle": "2020-11-09T20:46:10.954636Z",
     "shell.execute_reply": "2020-11-09T20:46:10.955145Z"
    },
    "slideshow": {
     "slide_type": "slide"
    }
   },
   "outputs": [
    {
     "name": "stdout",
     "output_type": "stream",
     "text": [
      "<_io.TextIOWrapper name='archivo.csv' mode='w' encoding='UTF-8'>\n"
     ]
    }
   ],
   "source": [
    "import random\n",
    "\n",
    "with open(\n",
    "    'archivo.csv', 'w'\n",
    ") as archivo:  # Al usar esta sintaxis no es necesario hacer close\n",
    "    archivo.write(\"Alumno, nota\\n\")\n",
    "    # Tambien de forma similar al fprintf se puede hacer:\n",
    "    # print(\"Alumno, nota\\n\", file=archivo)\n",
    "    for i in range(0, 10):\n",
    "        archivo.write(f\"{i},{random.randrange(0,10)}\\n\")\n",
    "\n",
    "print(archivo)  # Comentario aclaratorio:\n",
    "# Las variables definidas en un determinado scope siguen existiendo por fuera del mismo.\n",
    "# Se debe tener cuidado con esto, ya que nada garantiza que por fuera el valor sea el esperado."
   ]
  },
  {
   "cell_type": "code",
   "execution_count": 91,
   "metadata": {
    "execution": {
     "iopub.execute_input": "2020-11-09T20:46:10.962049Z",
     "iopub.status.busy": "2020-11-09T20:46:10.960807Z",
     "iopub.status.idle": "2020-11-09T20:46:10.963994Z",
     "shell.execute_reply": "2020-11-09T20:46:10.963457Z"
    },
    "slideshow": {
     "slide_type": "slide"
    }
   },
   "outputs": [
    {
     "name": "stdout",
     "output_type": "stream",
     "text": [
      "Alumno, nota\n",
      "0,1\n",
      "1,6\n",
      "2,9\n",
      "3,4\n",
      "4,2\n",
      "5,0\n",
      "6,3\n",
      "7,5\n",
      "8,1\n",
      "9,0\n"
     ]
    }
   ],
   "source": [
    "with open('archivo.csv', 'r') as f:\n",
    "    for linea in f:\n",
    "        print(linea.strip())"
   ]
  },
  {
   "cell_type": "code",
   "execution_count": 92,
   "metadata": {
    "execution": {
     "iopub.execute_input": "2020-11-09T20:46:10.969834Z",
     "iopub.status.busy": "2020-11-09T20:46:10.968588Z",
     "iopub.status.idle": "2020-11-09T20:46:10.971853Z",
     "shell.execute_reply": "2020-11-09T20:46:10.971319Z"
    }
   },
   "outputs": [
    {
     "name": "stdout",
     "output_type": "stream",
     "text": [
      "Alumno, nota\n",
      "0,1\n",
      "1,6\n",
      "2,9\n",
      "3,4\n",
      "4,2\n",
      "5,0\n",
      "6,3\n",
      "7,5\n",
      "8,1\n",
      "9,0\n",
      "\n"
     ]
    }
   ],
   "source": [
    "with open('archivo.csv', 'r') as f:\n",
    "    print(f.read())"
   ]
  },
  {
   "cell_type": "code",
   "execution_count": 93,
   "metadata": {
    "execution": {
     "iopub.execute_input": "2020-11-09T20:46:10.975364Z",
     "iopub.status.busy": "2020-11-09T20:46:10.974799Z",
     "iopub.status.idle": "2020-11-09T20:46:10.977623Z",
     "shell.execute_reply": "2020-11-09T20:46:10.977119Z"
    }
   },
   "outputs": [],
   "source": [
    "f = open('archivo.csv', 'w')\n",
    "f.write(\"algo, algo\")\n",
    "f.close()"
   ]
  },
  {
   "cell_type": "markdown",
   "metadata": {
    "slideshow": {
     "slide_type": "slide"
    }
   },
   "source": [
    "## Objetos\n",
    "\n",
    "Los objetos tienen metodos y atributos:\n",
    "- Atributos: equivalentes a variables.\n",
    "- Métodos: equivalentes a las primitivas."
   ]
  },
  {
   "cell_type": "markdown",
   "metadata": {
    "slideshow": {
     "slide_type": "slide"
    }
   },
   "source": [
    "### Cómo creo una clase"
   ]
  },
  {
   "cell_type": "code",
   "execution_count": 94,
   "metadata": {
    "execution": {
     "iopub.execute_input": "2020-11-09T20:46:10.984015Z",
     "iopub.status.busy": "2020-11-09T20:46:10.983147Z",
     "iopub.status.idle": "2020-11-09T20:46:10.984655Z",
     "shell.execute_reply": "2020-11-09T20:46:10.985198Z"
    },
    "slideshow": {
     "slide_type": "slide"
    }
   },
   "outputs": [],
   "source": [
    "class Nodo(object):\n",
    "    def __init__(self, dato, siguiente=None):\n",
    "        self._dato = dato\n",
    "        self._siguiente = siguiente\n",
    "\n",
    "    @property\n",
    "    def dato(self):\n",
    "        return self._dato\n",
    "\n",
    "    @property\n",
    "    def proximo(self):\n",
    "        return self._siguiente\n",
    "\n",
    "    @proximo.setter\n",
    "    def proximo(self, siguiente):\n",
    "        self._siguiente = siguiente\n",
    "\n",
    "    def __repr__(self):\n",
    "        return str(self.dato)\n",
    "\n",
    "    def __str__(self):\n",
    "        return str(self.dato)"
   ]
  },
  {
   "cell_type": "code",
   "execution_count": 95,
   "metadata": {
    "execution": {
     "iopub.execute_input": "2020-11-09T20:46:10.989483Z",
     "iopub.status.busy": "2020-11-09T20:46:10.988887Z",
     "iopub.status.idle": "2020-11-09T20:46:10.990841Z",
     "shell.execute_reply": "2020-11-09T20:46:10.991304Z"
    },
    "slideshow": {
     "slide_type": "slide"
    }
   },
   "outputs": [
    {
     "name": "stdout",
     "output_type": "stream",
     "text": [
      "hola\n"
     ]
    }
   ],
   "source": [
    "nodo = Nodo(\"hola\")\n",
    "print(nodo)"
   ]
  },
  {
   "cell_type": "code",
   "execution_count": 96,
   "metadata": {
    "execution": {
     "iopub.execute_input": "2020-11-09T20:46:10.995487Z",
     "iopub.status.busy": "2020-11-09T20:46:10.994904Z",
     "iopub.status.idle": "2020-11-09T20:46:10.996872Z",
     "shell.execute_reply": "2020-11-09T20:46:10.997335Z"
    },
    "slideshow": {
     "slide_type": "slide"
    }
   },
   "outputs": [
    {
     "name": "stdout",
     "output_type": "stream",
     "text": [
      "[hola, lala]\n"
     ]
    }
   ],
   "source": [
    "nodo2 = Nodo(\"lala\")\n",
    "print([nodo, nodo2])"
   ]
  },
  {
   "cell_type": "code",
   "execution_count": 97,
   "metadata": {
    "execution": {
     "iopub.execute_input": "2020-11-09T20:46:11.001635Z",
     "iopub.status.busy": "2020-11-09T20:46:11.001068Z",
     "iopub.status.idle": "2020-11-09T20:46:11.003011Z",
     "shell.execute_reply": "2020-11-09T20:46:11.003472Z"
    },
    "slideshow": {
     "slide_type": "slide"
    }
   },
   "outputs": [
    {
     "name": "stdout",
     "output_type": "stream",
     "text": [
      "hola\n"
     ]
    }
   ],
   "source": [
    "nodo3 = nodo.dato\n",
    "print(nodo3)"
   ]
  },
  {
   "cell_type": "markdown",
   "metadata": {
    "slideshow": {
     "slide_type": "slide"
    }
   },
   "source": [
    "### Ejemplo: Lista Enlazada"
   ]
  },
  {
   "cell_type": "code",
   "execution_count": 98,
   "metadata": {
    "execution": {
     "iopub.execute_input": "2020-11-09T20:46:11.013455Z",
     "iopub.status.busy": "2020-11-09T20:46:11.012186Z",
     "iopub.status.idle": "2020-11-09T20:46:11.014214Z",
     "shell.execute_reply": "2020-11-09T20:46:11.014711Z"
    },
    "slideshow": {
     "slide_type": "slide"
    }
   },
   "outputs": [],
   "source": [
    "class ListaEnlazada(object):\n",
    "    def __init__(self):\n",
    "        self._primero = None\n",
    "        self._ultimo = None\n",
    "        self._largo = 0\n",
    "\n",
    "    def __len__(self):\n",
    "        return self._largo\n",
    "\n",
    "    def insertar_al_principio(self, dato):\n",
    "        nodo = Nodo(dato, self._primero)\n",
    "        self._primero = nodo\n",
    "        self._largo += 1\n",
    "        if self._largo == 1:\n",
    "            self._ultimo = nodo\n",
    "\n",
    "    def insertar_al_final(self, dato):\n",
    "        if self._largo != 0:\n",
    "            nodo = Nodo(dato)\n",
    "            nodo_anterior = self._ultimo\n",
    "            nodo_anterior._siguiente = nodo\n",
    "            self._ultimo = nodo\n",
    "            self._largo += 1\n",
    "        else:\n",
    "            self.insertar_al_principio(dato)\n",
    "\n",
    "    @property\n",
    "    def primero(self):\n",
    "        return self._primero.dato\n",
    "\n",
    "    def borrar_primero(self):\n",
    "        dato = self.primero.dato\n",
    "        self._primero = self.primero.siguiente\n",
    "        self._largo -= 1\n",
    "        if self._largo == 0:\n",
    "            self._ultimo = None\n",
    "        return dato\n",
    "\n",
    "    def __str__(self):\n",
    "        datos = []\n",
    "        nodo_actual = self._primero\n",
    "        while nodo_actual:\n",
    "            datos.append(nodo_actual.dato)\n",
    "            nodo_actual = nodo_actual.proximo\n",
    "        return \" -> \".join(datos)\n",
    "\n",
    "    def __repr__(self):\n",
    "        return self.__str__()"
   ]
  },
  {
   "cell_type": "code",
   "execution_count": 99,
   "metadata": {
    "execution": {
     "iopub.execute_input": "2020-11-09T20:46:11.019584Z",
     "iopub.status.busy": "2020-11-09T20:46:11.018956Z",
     "iopub.status.idle": "2020-11-09T20:46:11.021075Z",
     "shell.execute_reply": "2020-11-09T20:46:11.021567Z"
    },
    "slideshow": {
     "slide_type": "slide"
    }
   },
   "outputs": [
    {
     "data": {
      "text/plain": [
       "2"
      ]
     },
     "execution_count": 1,
     "metadata": {},
     "output_type": "execute_result"
    }
   ],
   "source": [
    "lista = ListaEnlazada()\n",
    "lista.insertar_al_principio(\"Primer Dato\")\n",
    "lista.insertar_al_principio(\"Primer primer Dato\")\n",
    "len(lista)"
   ]
  },
  {
   "cell_type": "code",
   "execution_count": 100,
   "metadata": {
    "execution": {
     "iopub.execute_input": "2020-11-09T20:46:11.026808Z",
     "iopub.status.busy": "2020-11-09T20:46:11.025995Z",
     "iopub.status.idle": "2020-11-09T20:46:11.029526Z",
     "shell.execute_reply": "2020-11-09T20:46:11.029016Z"
    }
   },
   "outputs": [
    {
     "data": {
      "text/plain": [
       "Primer primer Dato -> Primer Dato"
      ]
     },
     "execution_count": 1,
     "metadata": {},
     "output_type": "execute_result"
    }
   ],
   "source": [
    "lista"
   ]
  },
  {
   "cell_type": "code",
   "execution_count": 101,
   "metadata": {
    "execution": {
     "iopub.execute_input": "2020-11-09T20:46:11.033945Z",
     "iopub.status.busy": "2020-11-09T20:46:11.033330Z",
     "iopub.status.idle": "2020-11-09T20:46:11.035604Z",
     "shell.execute_reply": "2020-11-09T20:46:11.036070Z"
    },
    "slideshow": {
     "slide_type": "slide"
    }
   },
   "outputs": [
    {
     "name": "stdout",
     "output_type": "stream",
     "text": [
      "Primer primer Dato\n"
     ]
    }
   ],
   "source": [
    "elemento = lista.primero\n",
    "print(elemento)"
   ]
  },
  {
   "cell_type": "markdown",
   "metadata": {},
   "source": [
    "## Recursos\n",
    "\n",
    "* [Taller de Python de Algoritmos II](https://github.com/algoritmos-rw/algo2_apuntes)\n",
    "\n",
    "* [Documentación de Python 3](https://docs.python.org/3/tutorial/)\n",
    "\n",
    "* [Apunte de Algoritmos y Programación I](https://algoritmos1rw.ddns.net/material)\n",
    "\n",
    "* [Automate the Boring Stuff with Python](http://automatetheboringstuff.com/)\n",
    "\n",
    "* [Curso Python](https://pythoncurso.github.io)\n",
    "\n",
    "* [Python Tutor](http://pythontutor.com/)\n",
    "\n",
    "* [Learn Python3 in Y minutes](https://learnxinyminutes.com/docs/python3/)\n",
    "\n",
    "* [Bibliografía de Algoritmos y Programación I](https://algoritmos1rw.ddns.net/bibliografia)"
   ]
  }
 ],
 "metadata": {
  "jupytext": {
   "encoding": "# -*- coding: utf-8 -*-",
   "formats": "ipynb,py:light"
  },
  "kernelspec": {
   "display_name": "Python 3 (venv)",
   "language": "python",
   "name": "python3"
  },
  "language_info": {
   "codemirror_mode": {
    "name": "ipython",
    "version": 3
   },
   "file_extension": ".py",
   "mimetype": "text/x-python",
   "name": "python",
   "nbconvert_exporter": "python",
   "pygments_lexer": "ipython3",
   "version": "3.7.9"
  }
 },
 "nbformat": 4,
 "nbformat_minor": 4
}
