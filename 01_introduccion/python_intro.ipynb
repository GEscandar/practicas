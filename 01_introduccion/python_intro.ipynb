{
 "cells": [
  {
   "cell_type": "markdown",
   "id": "0f0f3bb9",
   "metadata": {},
   "source": [
    "# Python"
   ]
  },
  {
   "cell_type": "markdown",
   "id": "61c834fd",
   "metadata": {
    "slideshow": {
     "slide_type": "slide"
    }
   },
   "source": [
    "## Un poco de Historia"
   ]
  },
  {
   "cell_type": "markdown",
   "id": "8ecfddee",
   "metadata": {
    "slideshow": {
     "slide_type": "subslide"
    }
   },
   "source": [
    "Python fue creado a finales de los años 80 por un programador holandés llamado **Guido van Rossum**,\n",
    "quien sigue siendo aún hoy el líder del desarrollo del lenguaje.\n",
    "\n",
    "(Edit julio 2018: [ya no más](https://www.mail-archive.com/python-committers@python.org/msg05628.html))"
   ]
  },
  {
   "cell_type": "markdown",
   "id": "3266e24c",
   "metadata": {
    "slideshow": {
     "slide_type": "subslide"
    }
   },
   "source": [
    "El nombre del lenguaje proviene de los humoristas británicos Monty Python.\n",
    "\n",
    ">*\"I chose Python as a working title for the project, being in a slightly irreverent mood (and a big fan of Monty Python's Flying Circus).\"*"
   ]
  },
  {
   "cell_type": "markdown",
   "id": "9dce325f",
   "metadata": {
    "slideshow": {
     "slide_type": "slide"
    }
   },
   "source": [
    "## Caracteristicas\n",
    "\n",
    "- Interpretado\n",
    "- Tipado dinamico\n",
    "- Multiparadigma\n",
    "- Alto nivel\n",
    "- Tiene un recolector de basura (no hay malloc, free, realloc, etc)"
   ]
  },
  {
   "cell_type": "markdown",
   "id": "3814d765",
   "metadata": {},
   "source": [
    "## ¿Cómo empezar?\n",
    "\n",
    "* Al ser un lenguaje *interpretado*, se puede ir escribiendo a medida que se ejecuta, sin necesidad de compilar de antemano! Solamente hace falta escribir `python` o `python3` en una terminal para empezar\n",
    "\n",
    "* También, permite escribir archivos y correrlos. Crear un archivo con extensión `.py` y luego correr `python miarchivo.py` en laterminal"
   ]
  },
  {
   "cell_type": "markdown",
   "id": "b160fedf",
   "metadata": {
    "slideshow": {
     "slide_type": "slide"
    }
   },
   "source": [
    "## El Zen de Python"
   ]
  },
  {
   "cell_type": "code",
   "execution_count": 1,
   "id": "679398a0",
   "metadata": {
    "execution": {
     "iopub.execute_input": "2021-09-09T20:04:05.713356Z",
     "iopub.status.busy": "2021-09-09T20:04:05.712795Z",
     "iopub.status.idle": "2021-09-09T20:04:05.730973Z",
     "shell.execute_reply": "2021-09-09T20:04:05.730399Z"
    },
    "slideshow": {
     "slide_type": "slide"
    }
   },
   "outputs": [
    {
     "name": "stdout",
     "output_type": "stream",
     "text": [
      "The Zen of Python, by Tim Peters\n",
      "\n",
      "Beautiful is better than ugly.\n",
      "Explicit is better than implicit.\n",
      "Simple is better than complex.\n",
      "Complex is better than complicated.\n",
      "Flat is better than nested.\n",
      "Sparse is better than dense.\n",
      "Readability counts.\n",
      "Special cases aren't special enough to break the rules.\n",
      "Although practicality beats purity.\n",
      "Errors should never pass silently.\n",
      "Unless explicitly silenced.\n",
      "In the face of ambiguity, refuse the temptation to guess.\n",
      "There should be one-- and preferably only one --obvious way to do it.\n",
      "Although that way may not be obvious at first unless you're Dutch.\n",
      "Now is better than never.\n",
      "Although never is often better than *right* now.\n",
      "If the implementation is hard to explain, it's a bad idea.\n",
      "If the implementation is easy to explain, it may be a good idea.\n",
      "Namespaces are one honking great idea -- let's do more of those!\n"
     ]
    }
   ],
   "source": [
    "import this"
   ]
  },
  {
   "cell_type": "markdown",
   "id": "ed6a4f0d",
   "metadata": {
    "slideshow": {
     "slide_type": "slide"
    }
   },
   "source": [
    "## Conocimientos Básicos de Python: Variables y Tipos"
   ]
  },
  {
   "cell_type": "code",
   "execution_count": 2,
   "id": "a18a38b4",
   "metadata": {
    "execution": {
     "iopub.execute_input": "2021-09-09T20:04:05.736547Z",
     "iopub.status.busy": "2021-09-09T20:04:05.735317Z",
     "iopub.status.idle": "2021-09-09T20:04:05.738255Z",
     "shell.execute_reply": "2021-09-09T20:04:05.737822Z"
    },
    "slideshow": {
     "slide_type": "slide"
    }
   },
   "outputs": [
    {
     "name": "stdout",
     "output_type": "stream",
     "text": [
      "Hello World!\n"
     ]
    }
   ],
   "source": [
    "# Este es un comentario\n",
    "\n",
    "print(\"Hello World!\")"
   ]
  },
  {
   "cell_type": "markdown",
   "id": "9eb02634",
   "metadata": {},
   "source": [
    "Los strings en python puden escribirse tanto con comillas simples (`'`) como comillas dobles (`\"`). Normalmente vemos texto entre comillas triples para escribir _docstrings_, segun la guia de estilo de Python, el PEP8."
   ]
  },
  {
   "cell_type": "code",
   "execution_count": 3,
   "id": "d7d09996",
   "metadata": {
    "execution": {
     "iopub.execute_input": "2021-09-09T20:04:05.750204Z",
     "iopub.status.busy": "2021-09-09T20:04:05.748880Z",
     "iopub.status.idle": "2021-09-09T20:04:05.752125Z",
     "shell.execute_reply": "2021-09-09T20:04:05.751681Z"
    }
   },
   "outputs": [
    {
     "data": {
      "text/plain": [
       "'Esto es un docstring.\\n'"
      ]
     },
     "execution_count": 3,
     "metadata": {},
     "output_type": "execute_result"
    }
   ],
   "source": [
    "\"\"\"Esto es un docstring.\n",
    "\"\"\""
   ]
  },
  {
   "cell_type": "markdown",
   "id": "f6090b7c",
   "metadata": {},
   "source": [
    "### Declaracion de variables"
   ]
  },
  {
   "cell_type": "code",
   "execution_count": 4,
   "id": "c86cb09e",
   "metadata": {
    "execution": {
     "iopub.execute_input": "2021-09-09T20:04:05.757574Z",
     "iopub.status.busy": "2021-09-09T20:04:05.756366Z",
     "iopub.status.idle": "2021-09-09T20:04:05.759392Z",
     "shell.execute_reply": "2021-09-09T20:04:05.758956Z"
    }
   },
   "outputs": [
    {
     "name": "stdout",
     "output_type": "stream",
     "text": [
      "Hola\n"
     ]
    }
   ],
   "source": [
    "string = 'Hola'\n",
    "print(string)"
   ]
  },
  {
   "cell_type": "code",
   "execution_count": 5,
   "id": "79c10a68",
   "metadata": {
    "execution": {
     "iopub.execute_input": "2021-09-09T20:04:05.764657Z",
     "iopub.status.busy": "2021-09-09T20:04:05.763448Z",
     "iopub.status.idle": "2021-09-09T20:04:05.766367Z",
     "shell.execute_reply": "2021-09-09T20:04:05.765933Z"
    }
   },
   "outputs": [
    {
     "name": "stdout",
     "output_type": "stream",
     "text": [
      "1\n"
     ]
    }
   ],
   "source": [
    "entero = 1\n",
    "print(entero)"
   ]
  },
  {
   "cell_type": "code",
   "execution_count": 6,
   "id": "17980d9a",
   "metadata": {
    "execution": {
     "iopub.execute_input": "2021-09-09T20:04:05.771511Z",
     "iopub.status.busy": "2021-09-09T20:04:05.770376Z",
     "iopub.status.idle": "2021-09-09T20:04:05.773250Z",
     "shell.execute_reply": "2021-09-09T20:04:05.772821Z"
    }
   },
   "outputs": [
    {
     "name": "stdout",
     "output_type": "stream",
     "text": [
      "1.0\n"
     ]
    }
   ],
   "source": [
    "flotante = 1.0\n",
    "print(flotante)"
   ]
  },
  {
   "cell_type": "code",
   "execution_count": 7,
   "id": "16722dab",
   "metadata": {
    "execution": {
     "iopub.execute_input": "2021-09-09T20:04:05.777329Z",
     "iopub.status.busy": "2021-09-09T20:04:05.776836Z",
     "iopub.status.idle": "2021-09-09T20:04:05.781004Z",
     "shell.execute_reply": "2021-09-09T20:04:05.780591Z"
    }
   },
   "outputs": [
    {
     "name": "stdout",
     "output_type": "stream",
     "text": [
      "(1, 1.0)\n"
     ]
    }
   ],
   "source": [
    "tupla = (entero, flotante)\n",
    "print(tupla)"
   ]
  },
  {
   "cell_type": "code",
   "execution_count": 8,
   "id": "7eabd28a",
   "metadata": {
    "execution": {
     "iopub.execute_input": "2021-09-09T20:04:05.785343Z",
     "iopub.status.busy": "2021-09-09T20:04:05.784849Z",
     "iopub.status.idle": "2021-09-09T20:04:05.788468Z",
     "shell.execute_reply": "2021-09-09T20:04:05.788855Z"
    }
   },
   "outputs": [
    {
     "name": "stdout",
     "output_type": "stream",
     "text": [
      "(1, 1.0, 'Hola')\n"
     ]
    }
   ],
   "source": [
    "nupla = (entero, flotante, string)\n",
    "print(nupla)"
   ]
  },
  {
   "cell_type": "code",
   "execution_count": 9,
   "id": "f8e659d5",
   "metadata": {
    "execution": {
     "iopub.execute_input": "2021-09-09T20:04:05.792830Z",
     "iopub.status.busy": "2021-09-09T20:04:05.792324Z",
     "iopub.status.idle": "2021-09-09T20:04:05.796072Z",
     "shell.execute_reply": "2021-09-09T20:04:05.796478Z"
    }
   },
   "outputs": [
    {
     "name": "stdout",
     "output_type": "stream",
     "text": [
      "[1, 1.0, 'Hola']\n"
     ]
    }
   ],
   "source": [
    "lista = [entero, flotante, string]\n",
    "print(lista)"
   ]
  },
  {
   "cell_type": "code",
   "execution_count": 10,
   "id": "69a69eba",
   "metadata": {
    "execution": {
     "iopub.execute_input": "2021-09-09T20:04:05.800347Z",
     "iopub.status.busy": "2021-09-09T20:04:05.798606Z",
     "iopub.status.idle": "2021-09-09T20:04:05.803102Z",
     "shell.execute_reply": "2021-09-09T20:04:05.802662Z"
    }
   },
   "outputs": [
    {
     "name": "stdout",
     "output_type": "stream",
     "text": [
      "{'1': (1, 1.0), 50: (1, 1.0, 'Hola'), '3': 1}\n"
     ]
    }
   ],
   "source": [
    "diccionario = {'1': tupla, 50: nupla, '3': entero}\n",
    "print(diccionario)"
   ]
  },
  {
   "cell_type": "code",
   "execution_count": 11,
   "id": "842f9273",
   "metadata": {
    "execution": {
     "iopub.execute_input": "2021-09-09T20:04:05.807267Z",
     "iopub.status.busy": "2021-09-09T20:04:05.806773Z",
     "iopub.status.idle": "2021-09-09T20:04:05.810705Z",
     "shell.execute_reply": "2021-09-09T20:04:05.811089Z"
    }
   },
   "outputs": [
    {
     "name": "stdout",
     "output_type": "stream",
     "text": [
      "{1, 2}\n"
     ]
    }
   ],
   "source": [
    "conjunto = set([1, 2])\n",
    "print(conjunto)"
   ]
  },
  {
   "cell_type": "code",
   "execution_count": 12,
   "id": "9cbc152b",
   "metadata": {
    "execution": {
     "iopub.execute_input": "2021-09-09T20:04:05.816196Z",
     "iopub.status.busy": "2021-09-09T20:04:05.815081Z",
     "iopub.status.idle": "2021-09-09T20:04:05.817908Z",
     "shell.execute_reply": "2021-09-09T20:04:05.817481Z"
    }
   },
   "outputs": [
    {
     "name": "stdout",
     "output_type": "stream",
     "text": [
      "True\n"
     ]
    }
   ],
   "source": [
    "booleano = True\n",
    "print(booleano)"
   ]
  },
  {
   "cell_type": "code",
   "execution_count": 13,
   "id": "cead7808",
   "metadata": {
    "execution": {
     "iopub.execute_input": "2021-09-09T20:04:05.822900Z",
     "iopub.status.busy": "2021-09-09T20:04:05.821732Z",
     "iopub.status.idle": "2021-09-09T20:04:05.824626Z",
     "shell.execute_reply": "2021-09-09T20:04:05.824159Z"
    }
   },
   "outputs": [
    {
     "name": "stdout",
     "output_type": "stream",
     "text": [
      "None\n"
     ]
    }
   ],
   "source": [
    "nada = None\n",
    "print(nada)"
   ]
  },
  {
   "cell_type": "markdown",
   "id": "0af01a72",
   "metadata": {},
   "source": [
    "Ojo que las variables pueden cambiar de tipo!"
   ]
  },
  {
   "cell_type": "code",
   "execution_count": 14,
   "id": "223e7759",
   "metadata": {
    "execution": {
     "iopub.execute_input": "2021-09-09T20:04:05.830102Z",
     "iopub.status.busy": "2021-09-09T20:04:05.828980Z",
     "iopub.status.idle": "2021-09-09T20:04:05.831804Z",
     "shell.execute_reply": "2021-09-09T20:04:05.831368Z"
    }
   },
   "outputs": [
    {
     "name": "stdout",
     "output_type": "stream",
     "text": [
      "1\n",
      "<class 'int'>\n"
     ]
    }
   ],
   "source": [
    "elemento = 1\n",
    "print(elemento)\n",
    "print(type(elemento))"
   ]
  },
  {
   "cell_type": "code",
   "execution_count": 15,
   "id": "f9366904",
   "metadata": {
    "execution": {
     "iopub.execute_input": "2021-09-09T20:04:05.835792Z",
     "iopub.status.busy": "2021-09-09T20:04:05.835235Z",
     "iopub.status.idle": "2021-09-09T20:04:05.838436Z",
     "shell.execute_reply": "2021-09-09T20:04:05.838000Z"
    }
   },
   "outputs": [
    {
     "name": "stdout",
     "output_type": "stream",
     "text": [
      "1\n",
      "<class 'str'>\n"
     ]
    }
   ],
   "source": [
    "elemento = str(1)\n",
    "print(elemento)\n",
    "print(type(elemento))"
   ]
  },
  {
   "cell_type": "code",
   "execution_count": 16,
   "id": "5c01be6d",
   "metadata": {
    "execution": {
     "iopub.execute_input": "2021-09-09T20:04:05.843026Z",
     "iopub.status.busy": "2021-09-09T20:04:05.842527Z",
     "iopub.status.idle": "2021-09-09T20:04:05.844300Z",
     "shell.execute_reply": "2021-09-09T20:04:05.844715Z"
    }
   },
   "outputs": [
    {
     "name": "stdout",
     "output_type": "stream",
     "text": [
      "[2]\n",
      "<class 'list'>\n"
     ]
    }
   ],
   "source": [
    "elemento = [2]\n",
    "\n",
    "print(elemento)\n",
    "print(type(elemento))"
   ]
  },
  {
   "cell_type": "markdown",
   "id": "1949c106",
   "metadata": {},
   "source": [
    "### Tipos basicos"
   ]
  },
  {
   "cell_type": "markdown",
   "id": "e0f36692",
   "metadata": {
    "slideshow": {
     "slide_type": "slide"
    }
   },
   "source": [
    "#### Listas de Python"
   ]
  },
  {
   "cell_type": "code",
   "execution_count": 17,
   "id": "8c283f24",
   "metadata": {
    "execution": {
     "iopub.execute_input": "2021-09-09T20:04:05.849108Z",
     "iopub.status.busy": "2021-09-09T20:04:05.848612Z",
     "iopub.status.idle": "2021-09-09T20:04:05.851328Z",
     "shell.execute_reply": "2021-09-09T20:04:05.850817Z"
    }
   },
   "outputs": [
    {
     "data": {
      "text/plain": [
       "[]"
      ]
     },
     "execution_count": 17,
     "metadata": {},
     "output_type": "execute_result"
    }
   ],
   "source": [
    "lista = list()\n",
    "lista"
   ]
  },
  {
   "cell_type": "code",
   "execution_count": 18,
   "id": "0a3b7167",
   "metadata": {
    "execution": {
     "iopub.execute_input": "2021-09-09T20:04:05.855725Z",
     "iopub.status.busy": "2021-09-09T20:04:05.855214Z",
     "iopub.status.idle": "2021-09-09T20:04:05.857256Z",
     "shell.execute_reply": "2021-09-09T20:04:05.857637Z"
    },
    "slideshow": {
     "slide_type": "slide"
    }
   },
   "outputs": [
    {
     "data": {
      "text/plain": [
       "[]"
      ]
     },
     "execution_count": 18,
     "metadata": {},
     "output_type": "execute_result"
    }
   ],
   "source": [
    "lista = []\n",
    "lista"
   ]
  },
  {
   "cell_type": "code",
   "execution_count": 19,
   "id": "656912d9",
   "metadata": {
    "execution": {
     "iopub.execute_input": "2021-09-09T20:04:05.863318Z",
     "iopub.status.busy": "2021-09-09T20:04:05.862426Z",
     "iopub.status.idle": "2021-09-09T20:04:05.865005Z",
     "shell.execute_reply": "2021-09-09T20:04:05.865402Z"
    },
    "slideshow": {
     "slide_type": "slide"
    }
   },
   "outputs": [
    {
     "data": {
      "text/plain": [
       "[1, 2, 3, 4]"
      ]
     },
     "execution_count": 19,
     "metadata": {},
     "output_type": "execute_result"
    }
   ],
   "source": [
    "lista = [1, 2, 3, 4]\n",
    "lista"
   ]
  },
  {
   "cell_type": "code",
   "execution_count": 20,
   "id": "133cace3",
   "metadata": {
    "execution": {
     "iopub.execute_input": "2021-09-09T20:04:05.870488Z",
     "iopub.status.busy": "2021-09-09T20:04:05.869949Z",
     "iopub.status.idle": "2021-09-09T20:04:05.872104Z",
     "shell.execute_reply": "2021-09-09T20:04:05.872553Z"
    },
    "slideshow": {
     "slide_type": "slide"
    }
   },
   "outputs": [
    {
     "data": {
      "text/plain": [
       "[1, 2, 3, 4, 1, 'dos', 3.0]"
      ]
     },
     "execution_count": 20,
     "metadata": {},
     "output_type": "execute_result"
    }
   ],
   "source": [
    "lista.append(1)  # Inserto un 1 al final\n",
    "lista.append(\"dos\")  # Inserto un \"dos\" al final\n",
    "lista.append(3.0)  # Inserto un 3.0 al final\n",
    "lista"
   ]
  },
  {
   "cell_type": "code",
   "execution_count": 21,
   "id": "63780515",
   "metadata": {
    "execution": {
     "iopub.execute_input": "2021-09-09T20:04:05.876940Z",
     "iopub.status.busy": "2021-09-09T20:04:05.876431Z",
     "iopub.status.idle": "2021-09-09T20:04:05.878107Z",
     "shell.execute_reply": "2021-09-09T20:04:05.878593Z"
    }
   },
   "outputs": [
    {
     "name": "stdout",
     "output_type": "stream",
     "text": [
      "[1, 2, 10, 3, 4, 1, 'dos', 3.0]\n"
     ]
    }
   ],
   "source": [
    "lista.insert(2, 10)  # Inserto en posicion 2 un 10\n",
    "print(lista)"
   ]
  },
  {
   "cell_type": "code",
   "execution_count": 22,
   "id": "3e6eb99e",
   "metadata": {
    "execution": {
     "iopub.execute_input": "2021-09-09T20:04:05.882996Z",
     "iopub.status.busy": "2021-09-09T20:04:05.882502Z",
     "iopub.status.idle": "2021-09-09T20:04:05.884911Z",
     "shell.execute_reply": "2021-09-09T20:04:05.885319Z"
    }
   },
   "outputs": [
    {
     "data": {
      "text/plain": [
       "8"
      ]
     },
     "execution_count": 22,
     "metadata": {},
     "output_type": "execute_result"
    }
   ],
   "source": [
    "len(lista)"
   ]
  },
  {
   "cell_type": "code",
   "execution_count": 23,
   "id": "b7c5f95c",
   "metadata": {
    "execution": {
     "iopub.execute_input": "2021-09-09T20:04:05.889621Z",
     "iopub.status.busy": "2021-09-09T20:04:05.889125Z",
     "iopub.status.idle": "2021-09-09T20:04:05.891539Z",
     "shell.execute_reply": "2021-09-09T20:04:05.891956Z"
    }
   },
   "outputs": [
    {
     "data": {
      "text/plain": [
       "3.0"
      ]
     },
     "execution_count": 23,
     "metadata": {},
     "output_type": "execute_result"
    }
   ],
   "source": [
    "lista.pop()"
   ]
  },
  {
   "cell_type": "code",
   "execution_count": 24,
   "id": "1a0708a8",
   "metadata": {
    "execution": {
     "iopub.execute_input": "2021-09-09T20:04:05.896373Z",
     "iopub.status.busy": "2021-09-09T20:04:05.895848Z",
     "iopub.status.idle": "2021-09-09T20:04:05.898069Z",
     "shell.execute_reply": "2021-09-09T20:04:05.898470Z"
    }
   },
   "outputs": [
    {
     "data": {
      "text/plain": [
       "[1, 2, 10, 3, 4, 1, 'dos']"
      ]
     },
     "execution_count": 24,
     "metadata": {},
     "output_type": "execute_result"
    }
   ],
   "source": [
    "lista"
   ]
  },
  {
   "cell_type": "code",
   "execution_count": 25,
   "id": "0ff4706e",
   "metadata": {
    "execution": {
     "iopub.execute_input": "2021-09-09T20:04:05.903087Z",
     "iopub.status.busy": "2021-09-09T20:04:05.900827Z",
     "iopub.status.idle": "2021-09-09T20:04:05.905199Z",
     "shell.execute_reply": "2021-09-09T20:04:05.905615Z"
    }
   },
   "outputs": [
    {
     "data": {
      "text/plain": [
       "2"
      ]
     },
     "execution_count": 25,
     "metadata": {},
     "output_type": "execute_result"
    }
   ],
   "source": [
    "lista.index(10)"
   ]
  },
  {
   "cell_type": "code",
   "execution_count": 26,
   "id": "138eb5eb",
   "metadata": {
    "execution": {
     "iopub.execute_input": "2021-09-09T20:04:05.910995Z",
     "iopub.status.busy": "2021-09-09T20:04:05.910458Z",
     "iopub.status.idle": "2021-09-09T20:04:05.913046Z",
     "shell.execute_reply": "2021-09-09T20:04:05.913457Z"
    }
   },
   "outputs": [
    {
     "data": {
      "text/plain": [
       "[1, 2, 3, 4, 1, 'dos']"
      ]
     },
     "execution_count": 26,
     "metadata": {},
     "output_type": "execute_result"
    }
   ],
   "source": [
    "lista.remove(10)\n",
    "lista"
   ]
  },
  {
   "cell_type": "code",
   "execution_count": 27,
   "id": "7df99902",
   "metadata": {
    "execution": {
     "iopub.execute_input": "2021-09-09T20:04:05.918649Z",
     "iopub.status.busy": "2021-09-09T20:04:05.918122Z",
     "iopub.status.idle": "2021-09-09T20:04:05.983766Z",
     "shell.execute_reply": "2021-09-09T20:04:05.984270Z"
    },
    "tags": [
     "raises-exception"
    ]
   },
   "outputs": [
    {
     "name": "stdout",
     "output_type": "stream",
     "text": [
      "1\n",
      "2\n",
      "2\n",
      "3\n",
      "3\n",
      "4\n",
      "4\n",
      "5\n",
      "1\n",
      "2\n",
      "dos\n"
     ]
    },
    {
     "ename": "TypeError",
     "evalue": "can only concatenate str (not \"int\") to str",
     "output_type": "error",
     "traceback": [
      "\u001b[0;31m---------------------------------------------------------------------------\u001b[0m",
      "\u001b[0;31mTypeError\u001b[0m                                 Traceback (most recent call last)",
      "\u001b[0;32m/tmp/ipykernel_1915/1783555086.py\u001b[0m in \u001b[0;36m<module>\u001b[0;34m\u001b[0m\n\u001b[1;32m      1\u001b[0m \u001b[0;32mfor\u001b[0m \u001b[0melemento\u001b[0m \u001b[0;32min\u001b[0m \u001b[0mlista\u001b[0m\u001b[0;34m:\u001b[0m\u001b[0;34m\u001b[0m\u001b[0;34m\u001b[0m\u001b[0m\n\u001b[1;32m      2\u001b[0m     \u001b[0mprint\u001b[0m\u001b[0;34m(\u001b[0m\u001b[0melemento\u001b[0m\u001b[0;34m)\u001b[0m\u001b[0;34m\u001b[0m\u001b[0;34m\u001b[0m\u001b[0m\n\u001b[0;32m----> 3\u001b[0;31m     \u001b[0mprint\u001b[0m\u001b[0;34m(\u001b[0m\u001b[0melemento\u001b[0m \u001b[0;34m+\u001b[0m \u001b[0;36m1\u001b[0m\u001b[0;34m)\u001b[0m\u001b[0;34m\u001b[0m\u001b[0;34m\u001b[0m\u001b[0m\n\u001b[0m",
      "\u001b[0;31mTypeError\u001b[0m: can only concatenate str (not \"int\") to str"
     ]
    }
   ],
   "source": [
    "for elemento in lista:\n",
    "    print(elemento)\n",
    "    print(elemento + 1)"
   ]
  },
  {
   "cell_type": "code",
   "execution_count": 28,
   "id": "2e43eeab",
   "metadata": {
    "execution": {
     "iopub.execute_input": "2021-09-09T20:04:05.990772Z",
     "iopub.status.busy": "2021-09-09T20:04:05.989658Z",
     "iopub.status.idle": "2021-09-09T20:04:05.992900Z",
     "shell.execute_reply": "2021-09-09T20:04:05.992426Z"
    }
   },
   "outputs": [
    {
     "data": {
      "text/plain": [
       "[1, 2, 3, 4, 1, 'dos']"
      ]
     },
     "execution_count": 28,
     "metadata": {},
     "output_type": "execute_result"
    }
   ],
   "source": [
    "lista"
   ]
  },
  {
   "cell_type": "code",
   "execution_count": 29,
   "id": "30098151",
   "metadata": {
    "execution": {
     "iopub.execute_input": "2021-09-09T20:04:05.999341Z",
     "iopub.status.busy": "2021-09-09T20:04:05.998041Z",
     "iopub.status.idle": "2021-09-09T20:04:06.001173Z",
     "shell.execute_reply": "2021-09-09T20:04:06.000718Z"
    }
   },
   "outputs": [
    {
     "name": "stdout",
     "output_type": "stream",
     "text": [
      "0-ésimo elemento: 1\n",
      "1-ésimo elemento: 2\n",
      "2-ésimo elemento: 3\n",
      "3-ésimo elemento: 4\n",
      "4-ésimo elemento: 1\n",
      "5-ésimo elemento: dos\n"
     ]
    }
   ],
   "source": [
    "for i, elemento in enumerate(lista):\n",
    "    print(f\"{i}-ésimo elemento: {elemento}\")"
   ]
  },
  {
   "cell_type": "code",
   "execution_count": 30,
   "id": "e0c51773",
   "metadata": {
    "execution": {
     "iopub.execute_input": "2021-09-09T20:04:06.010077Z",
     "iopub.status.busy": "2021-09-09T20:04:06.008767Z",
     "iopub.status.idle": "2021-09-09T20:04:06.011949Z",
     "shell.execute_reply": "2021-09-09T20:04:06.011502Z"
    },
    "tags": [
     "raises-exception"
    ]
   },
   "outputs": [
    {
     "ename": "TypeError",
     "evalue": "'<' not supported between instances of 'str' and 'int'",
     "output_type": "error",
     "traceback": [
      "\u001b[0;31m---------------------------------------------------------------------------\u001b[0m",
      "\u001b[0;31mTypeError\u001b[0m                                 Traceback (most recent call last)",
      "\u001b[0;32m/tmp/ipykernel_1915/2266425520.py\u001b[0m in \u001b[0;36m<module>\u001b[0;34m\u001b[0m\n\u001b[0;32m----> 1\u001b[0;31m \u001b[0msorted\u001b[0m\u001b[0;34m(\u001b[0m\u001b[0mlista\u001b[0m\u001b[0;34m)\u001b[0m\u001b[0;34m\u001b[0m\u001b[0;34m\u001b[0m\u001b[0m\n\u001b[0m",
      "\u001b[0;31mTypeError\u001b[0m: '<' not supported between instances of 'str' and 'int'"
     ]
    }
   ],
   "source": [
    "sorted(lista)"
   ]
  },
  {
   "cell_type": "code",
   "execution_count": 31,
   "id": "bcca78dd",
   "metadata": {
    "execution": {
     "iopub.execute_input": "2021-09-09T20:04:06.016572Z",
     "iopub.status.busy": "2021-09-09T20:04:06.015678Z",
     "iopub.status.idle": "2021-09-09T20:04:06.018329Z",
     "shell.execute_reply": "2021-09-09T20:04:06.017906Z"
    }
   },
   "outputs": [],
   "source": [
    "lista.remove(\"dos\")"
   ]
  },
  {
   "cell_type": "code",
   "execution_count": 32,
   "id": "fe61dcde",
   "metadata": {
    "execution": {
     "iopub.execute_input": "2021-09-09T20:04:06.023047Z",
     "iopub.status.busy": "2021-09-09T20:04:06.022557Z",
     "iopub.status.idle": "2021-09-09T20:04:06.026956Z",
     "shell.execute_reply": "2021-09-09T20:04:06.027357Z"
    }
   },
   "outputs": [
    {
     "data": {
      "text/plain": [
       "[1, 1, 2, 3, 4]"
      ]
     },
     "execution_count": 32,
     "metadata": {},
     "output_type": "execute_result"
    }
   ],
   "source": [
    "sorted(lista)"
   ]
  },
  {
   "cell_type": "code",
   "execution_count": 33,
   "id": "40a5788e",
   "metadata": {
    "execution": {
     "iopub.execute_input": "2021-09-09T20:04:06.032166Z",
     "iopub.status.busy": "2021-09-09T20:04:06.031678Z",
     "iopub.status.idle": "2021-09-09T20:04:06.035354Z",
     "shell.execute_reply": "2021-09-09T20:04:06.035730Z"
    }
   },
   "outputs": [
    {
     "data": {
      "text/plain": [
       "[1, 1, 2, 3, 4]"
      ]
     },
     "execution_count": 33,
     "metadata": {},
     "output_type": "execute_result"
    }
   ],
   "source": [
    "lista.sort()\n",
    "lista"
   ]
  },
  {
   "cell_type": "markdown",
   "id": "d726f2bc",
   "metadata": {
    "slideshow": {
     "slide_type": "slide"
    }
   },
   "source": [
    "#### Tuplas de Python\n",
    "\n",
    "Las tuplas son inmutables. No se pueden agregar elementos luego de creadas."
   ]
  },
  {
   "cell_type": "code",
   "execution_count": 34,
   "id": "77ff3fe3",
   "metadata": {
    "execution": {
     "iopub.execute_input": "2021-09-09T20:04:06.041897Z",
     "iopub.status.busy": "2021-09-09T20:04:06.039515Z",
     "iopub.status.idle": "2021-09-09T20:04:06.046647Z",
     "shell.execute_reply": "2021-09-09T20:04:06.047076Z"
    },
    "slideshow": {
     "slide_type": "slide"
    },
    "tags": [
     "raises-exception"
    ]
   },
   "outputs": [
    {
     "name": "stdout",
     "output_type": "stream",
     "text": [
      "(1, 2)\n",
      "1\n",
      "2\n"
     ]
    },
    {
     "ename": "TypeError",
     "evalue": "'tuple' object does not support item assignment",
     "output_type": "error",
     "traceback": [
      "\u001b[0;31m---------------------------------------------------------------------------\u001b[0m",
      "\u001b[0;31mTypeError\u001b[0m                                 Traceback (most recent call last)",
      "\u001b[0;32m/tmp/ipykernel_1915/3644040918.py\u001b[0m in \u001b[0;36m<module>\u001b[0;34m\u001b[0m\n\u001b[1;32m      5\u001b[0m \u001b[0mprint\u001b[0m\u001b[0;34m(\u001b[0m\u001b[0mtupla\u001b[0m\u001b[0;34m[\u001b[0m\u001b[0;36m1\u001b[0m\u001b[0;34m]\u001b[0m\u001b[0;34m)\u001b[0m\u001b[0;34m\u001b[0m\u001b[0;34m\u001b[0m\u001b[0m\n\u001b[1;32m      6\u001b[0m \u001b[0;34m\u001b[0m\u001b[0m\n\u001b[0;32m----> 7\u001b[0;31m \u001b[0mtupla\u001b[0m\u001b[0;34m[\u001b[0m\u001b[0;36m1\u001b[0m\u001b[0;34m]\u001b[0m \u001b[0;34m=\u001b[0m \u001b[0;36m3\u001b[0m  \u001b[0;31m# Falla. No se puede mutar\u001b[0m\u001b[0;34m\u001b[0m\u001b[0;34m\u001b[0m\u001b[0m\n\u001b[0m",
      "\u001b[0;31mTypeError\u001b[0m: 'tuple' object does not support item assignment"
     ]
    }
   ],
   "source": [
    "tupla = (1, 2)\n",
    "\n",
    "print(tupla)\n",
    "print(tupla[0])\n",
    "print(tupla[1])\n",
    "\n",
    "tupla[1] = 3  # Falla. No se puede mutar"
   ]
  },
  {
   "cell_type": "code",
   "execution_count": 35,
   "id": "43fd77d7",
   "metadata": {
    "execution": {
     "iopub.execute_input": "2021-09-09T20:04:06.052641Z",
     "iopub.status.busy": "2021-09-09T20:04:06.051868Z",
     "iopub.status.idle": "2021-09-09T20:04:06.054444Z",
     "shell.execute_reply": "2021-09-09T20:04:06.054851Z"
    }
   },
   "outputs": [
    {
     "data": {
      "text/plain": [
       "[1, 2]"
      ]
     },
     "execution_count": 35,
     "metadata": {},
     "output_type": "execute_result"
    }
   ],
   "source": [
    "l = [1, 2]\n",
    "l"
   ]
  },
  {
   "cell_type": "code",
   "execution_count": 36,
   "id": "272e0cf1",
   "metadata": {
    "execution": {
     "iopub.execute_input": "2021-09-09T20:04:06.060813Z",
     "iopub.status.busy": "2021-09-09T20:04:06.059803Z",
     "iopub.status.idle": "2021-09-09T20:04:06.062525Z",
     "shell.execute_reply": "2021-09-09T20:04:06.062904Z"
    }
   },
   "outputs": [
    {
     "data": {
      "text/plain": [
       "[1, 3]"
      ]
     },
     "execution_count": 36,
     "metadata": {},
     "output_type": "execute_result"
    }
   ],
   "source": [
    "l[1] = 3\n",
    "l"
   ]
  },
  {
   "cell_type": "markdown",
   "id": "318a5e8d",
   "metadata": {
    "slideshow": {
     "slide_type": "slide"
    }
   },
   "source": [
    "#### Diferencia entre lista y tupla\n",
    "Las listas se caracterizan por ser mutables, es decir, se puede cambiar su contenido en tiempo de ejecución, mientras que las tuplas son inmutables ya que no es posible modificar el contenido una vez creada."
   ]
  },
  {
   "cell_type": "markdown",
   "id": "646d86f4",
   "metadata": {},
   "source": [
    "#### Slices\n",
    "\n",
    "**Valen para listas, tuplas o strings (_segmentos_)**"
   ]
  },
  {
   "cell_type": "code",
   "execution_count": 37,
   "id": "d8709e7d",
   "metadata": {
    "execution": {
     "iopub.execute_input": "2021-09-09T20:04:06.068235Z",
     "iopub.status.busy": "2021-09-09T20:04:06.067093Z",
     "iopub.status.idle": "2021-09-09T20:04:06.068833Z",
     "shell.execute_reply": "2021-09-09T20:04:06.069225Z"
    }
   },
   "outputs": [],
   "source": [
    "numeros = [0, 1, 2, 3, 4, 5, 6, 7, 8, 9, 10]"
   ]
  },
  {
   "cell_type": "code",
   "execution_count": 38,
   "id": "05795040",
   "metadata": {
    "execution": {
     "iopub.execute_input": "2021-09-09T20:04:06.073439Z",
     "iopub.status.busy": "2021-09-09T20:04:06.071487Z",
     "iopub.status.idle": "2021-09-09T20:04:06.075364Z",
     "shell.execute_reply": "2021-09-09T20:04:06.075765Z"
    }
   },
   "outputs": [
    {
     "name": "stdout",
     "output_type": "stream",
     "text": [
      "[0, 1, 2, 3, 4, 5, 6, 7, 8, 9, 10]\n"
     ]
    }
   ],
   "source": [
    "print(numeros)"
   ]
  },
  {
   "cell_type": "code",
   "execution_count": 39,
   "id": "eabcf802",
   "metadata": {
    "execution": {
     "iopub.execute_input": "2021-09-09T20:04:06.080989Z",
     "iopub.status.busy": "2021-09-09T20:04:06.079841Z",
     "iopub.status.idle": "2021-09-09T20:04:06.082705Z",
     "shell.execute_reply": "2021-09-09T20:04:06.082274Z"
    }
   },
   "outputs": [
    {
     "name": "stdout",
     "output_type": "stream",
     "text": [
      "2\n"
     ]
    }
   ],
   "source": [
    "print(numeros[2])  # Imprimo elemento en la posición 2"
   ]
  },
  {
   "cell_type": "code",
   "execution_count": 40,
   "id": "a6480f1e",
   "metadata": {
    "execution": {
     "iopub.execute_input": "2021-09-09T20:04:06.087990Z",
     "iopub.status.busy": "2021-09-09T20:04:06.087483Z",
     "iopub.status.idle": "2021-09-09T20:04:06.089942Z",
     "shell.execute_reply": "2021-09-09T20:04:06.090345Z"
    }
   },
   "outputs": [
    {
     "data": {
      "text/plain": [
       "10"
      ]
     },
     "execution_count": 40,
     "metadata": {},
     "output_type": "execute_result"
    }
   ],
   "source": [
    "numeros[len(numeros) - 1]"
   ]
  },
  {
   "cell_type": "code",
   "execution_count": 41,
   "id": "8131e17c",
   "metadata": {
    "execution": {
     "iopub.execute_input": "2021-09-09T20:04:06.095388Z",
     "iopub.status.busy": "2021-09-09T20:04:06.094490Z",
     "iopub.status.idle": "2021-09-09T20:04:06.096838Z",
     "shell.execute_reply": "2021-09-09T20:04:06.097233Z"
    },
    "lines_to_next_cell": 2
   },
   "outputs": [
    {
     "name": "stdout",
     "output_type": "stream",
     "text": [
      "10\n"
     ]
    }
   ],
   "source": [
    "print(numeros[-1])  # # Imprimo elemento en la última posición"
   ]
  },
  {
   "cell_type": "code",
   "execution_count": 42,
   "id": "dd3aa8b7",
   "metadata": {
    "execution": {
     "iopub.execute_input": "2021-09-09T20:04:06.102136Z",
     "iopub.status.busy": "2021-09-09T20:04:06.101650Z",
     "iopub.status.idle": "2021-09-09T20:04:06.105558Z",
     "shell.execute_reply": "2021-09-09T20:04:06.105109Z"
    },
    "lines_to_next_cell": 2
   },
   "outputs": [
    {
     "data": {
      "text/plain": [
       "9"
      ]
     },
     "execution_count": 42,
     "metadata": {},
     "output_type": "execute_result"
    }
   ],
   "source": [
    "numeros[-2]"
   ]
  },
  {
   "cell_type": "code",
   "execution_count": 43,
   "id": "ed251c81",
   "metadata": {
    "execution": {
     "iopub.execute_input": "2021-09-09T20:04:06.110616Z",
     "iopub.status.busy": "2021-09-09T20:04:06.109694Z",
     "iopub.status.idle": "2021-09-09T20:04:06.112145Z",
     "shell.execute_reply": "2021-09-09T20:04:06.112579Z"
    }
   },
   "outputs": [
    {
     "name": "stdout",
     "output_type": "stream",
     "text": [
      "[0, 1, 2]\n"
     ]
    }
   ],
   "source": [
    "print(numeros[0:3])  # Imprimo de la pos 0 a la pos 2"
   ]
  },
  {
   "cell_type": "code",
   "execution_count": 44,
   "id": "91c16a21",
   "metadata": {
    "execution": {
     "iopub.execute_input": "2021-09-09T20:04:06.117713Z",
     "iopub.status.busy": "2021-09-09T20:04:06.116768Z",
     "iopub.status.idle": "2021-09-09T20:04:06.119602Z",
     "shell.execute_reply": "2021-09-09T20:04:06.119181Z"
    }
   },
   "outputs": [
    {
     "name": "stdout",
     "output_type": "stream",
     "text": [
      "[7, 8]\n"
     ]
    }
   ],
   "source": [
    "print(numeros[-4:-2])"
   ]
  },
  {
   "cell_type": "code",
   "execution_count": 45,
   "id": "335e0cc1",
   "metadata": {
    "execution": {
     "iopub.execute_input": "2021-09-09T20:04:06.123480Z",
     "iopub.status.busy": "2021-09-09T20:04:06.122986Z",
     "iopub.status.idle": "2021-09-09T20:04:06.124853Z",
     "shell.execute_reply": "2021-09-09T20:04:06.125246Z"
    }
   },
   "outputs": [
    {
     "name": "stdout",
     "output_type": "stream",
     "text": [
      "[0, 1, 2, 3, 4, 5, 6, 7, 8, 9, 10]\n"
     ]
    }
   ],
   "source": [
    "print(numeros[0:80])"
   ]
  },
  {
   "cell_type": "code",
   "execution_count": 46,
   "id": "0faf193f",
   "metadata": {
    "execution": {
     "iopub.execute_input": "2021-09-09T20:04:06.129214Z",
     "iopub.status.busy": "2021-09-09T20:04:06.128713Z",
     "iopub.status.idle": "2021-09-09T20:04:06.130647Z",
     "shell.execute_reply": "2021-09-09T20:04:06.131045Z"
    }
   },
   "outputs": [
    {
     "name": "stdout",
     "output_type": "stream",
     "text": [
      "[0, 1, 2]\n"
     ]
    }
   ],
   "source": [
    "print(numeros[:3])"
   ]
  },
  {
   "cell_type": "code",
   "execution_count": 47,
   "id": "075ef4ed",
   "metadata": {
    "execution": {
     "iopub.execute_input": "2021-09-09T20:04:06.135018Z",
     "iopub.status.busy": "2021-09-09T20:04:06.134513Z",
     "iopub.status.idle": "2021-09-09T20:04:06.136871Z",
     "shell.execute_reply": "2021-09-09T20:04:06.136456Z"
    }
   },
   "outputs": [
    {
     "name": "stdout",
     "output_type": "stream",
     "text": [
      "[3, 4, 5, 6, 7, 8, 9, 10]\n"
     ]
    }
   ],
   "source": [
    "print(numeros[3:])"
   ]
  },
  {
   "cell_type": "code",
   "execution_count": 48,
   "id": "28e9424e",
   "metadata": {
    "execution": {
     "iopub.execute_input": "2021-09-09T20:04:06.141011Z",
     "iopub.status.busy": "2021-09-09T20:04:06.140506Z",
     "iopub.status.idle": "2021-09-09T20:04:06.142195Z",
     "shell.execute_reply": "2021-09-09T20:04:06.142666Z"
    }
   },
   "outputs": [
    {
     "name": "stdout",
     "output_type": "stream",
     "text": [
      "[0, 2, 4, 6, 8]\n"
     ]
    }
   ],
   "source": [
    "print(numeros[0:10:2])"
   ]
  },
  {
   "cell_type": "markdown",
   "id": "50d39754",
   "metadata": {},
   "source": [
    "```python\n",
    "lista[<inicio>:<final>:<step>]\n",
    "```"
   ]
  },
  {
   "cell_type": "code",
   "execution_count": 49,
   "id": "362c8236",
   "metadata": {
    "execution": {
     "iopub.execute_input": "2021-09-09T20:04:06.147348Z",
     "iopub.status.busy": "2021-09-09T20:04:06.146859Z",
     "iopub.status.idle": "2021-09-09T20:04:06.151777Z",
     "shell.execute_reply": "2021-09-09T20:04:06.151338Z"
    },
    "lines_to_next_cell": 2
   },
   "outputs": [
    {
     "data": {
      "text/plain": [
       "[1, 2, 3, 4]"
      ]
     },
     "execution_count": 49,
     "metadata": {},
     "output_type": "execute_result"
    }
   ],
   "source": [
    "l1 = [1, 2]\n",
    "l2 = [3, 4]\n",
    "l1 + l2"
   ]
  },
  {
   "cell_type": "code",
   "execution_count": 50,
   "id": "57e6a04b",
   "metadata": {
    "execution": {
     "iopub.execute_input": "2021-09-09T20:04:06.156326Z",
     "iopub.status.busy": "2021-09-09T20:04:06.155800Z",
     "iopub.status.idle": "2021-09-09T20:04:06.158971Z",
     "shell.execute_reply": "2021-09-09T20:04:06.158524Z"
    }
   },
   "outputs": [
    {
     "name": "stdout",
     "output_type": "stream",
     "text": [
      "[0, 1, 2, 3, 4, 5, 6, 'siete', 8, 9, 10]\n"
     ]
    }
   ],
   "source": [
    "numeros[7] = 'siete'  # Las listas se pueden mutar\n",
    "print(numeros)"
   ]
  },
  {
   "cell_type": "code",
   "execution_count": 51,
   "id": "27c2861a",
   "metadata": {
    "execution": {
     "iopub.execute_input": "2021-09-09T20:04:06.163512Z",
     "iopub.status.busy": "2021-09-09T20:04:06.163024Z",
     "iopub.status.idle": "2021-09-09T20:04:06.164756Z",
     "shell.execute_reply": "2021-09-09T20:04:06.165147Z"
    }
   },
   "outputs": [
    {
     "name": "stdout",
     "output_type": "stream",
     "text": [
      "[10, 9, 8, 'siete', 6, 5, 4, 3, 2, 1, 0]\n"
     ]
    }
   ],
   "source": [
    "numeros = numeros[::-1]\n",
    "print(numeros)"
   ]
  },
  {
   "cell_type": "code",
   "execution_count": 52,
   "id": "1202ea54",
   "metadata": {
    "execution": {
     "iopub.execute_input": "2021-09-09T20:04:06.168935Z",
     "iopub.status.busy": "2021-09-09T20:04:06.168442Z",
     "iopub.status.idle": "2021-09-09T20:04:06.174589Z",
     "shell.execute_reply": "2021-09-09T20:04:06.174148Z"
    },
    "tags": [
     "raises-exception"
    ]
   },
   "outputs": [
    {
     "ename": "IndexError",
     "evalue": "list index out of range",
     "output_type": "error",
     "traceback": [
      "\u001b[0;31m---------------------------------------------------------------------------\u001b[0m",
      "\u001b[0;31mIndexError\u001b[0m                                Traceback (most recent call last)",
      "\u001b[0;32m/tmp/ipykernel_1915/1255736182.py\u001b[0m in \u001b[0;36m<module>\u001b[0;34m\u001b[0m\n\u001b[0;32m----> 1\u001b[0;31m \u001b[0mprint\u001b[0m\u001b[0;34m(\u001b[0m\u001b[0mnumeros\u001b[0m\u001b[0;34m[\u001b[0m\u001b[0;36m15\u001b[0m\u001b[0;34m]\u001b[0m\u001b[0;34m)\u001b[0m  \u001b[0;31m# Falla. No se puede acceder a una posición inexistente\u001b[0m\u001b[0;34m\u001b[0m\u001b[0;34m\u001b[0m\u001b[0m\n\u001b[0m",
      "\u001b[0;31mIndexError\u001b[0m: list index out of range"
     ]
    }
   ],
   "source": [
    "print(numeros[15])  # Falla. No se puede acceder a una posición inexistente"
   ]
  },
  {
   "cell_type": "code",
   "execution_count": 53,
   "id": "30192dc0",
   "metadata": {
    "execution": {
     "iopub.execute_input": "2021-09-09T20:04:06.178631Z",
     "iopub.status.busy": "2021-09-09T20:04:06.178146Z",
     "iopub.status.idle": "2021-09-09T20:04:06.182559Z",
     "shell.execute_reply": "2021-09-09T20:04:06.182934Z"
    }
   },
   "outputs": [
    {
     "name": "stdout",
     "output_type": "stream",
     "text": [
      "palabra\n",
      "a\n",
      "pal\n",
      "abra\n"
     ]
    }
   ],
   "source": [
    "palabra = 'palabra'\n",
    "print(palabra)\n",
    "print(palabra[3])\n",
    "print(palabra[:3])\n",
    "print(palabra[3:])"
   ]
  },
  {
   "cell_type": "code",
   "execution_count": 54,
   "id": "376037e8",
   "metadata": {
    "execution": {
     "iopub.execute_input": "2021-09-09T20:04:06.185529Z",
     "iopub.status.busy": "2021-09-09T20:04:06.185047Z",
     "iopub.status.idle": "2021-09-09T20:04:06.189419Z",
     "shell.execute_reply": "2021-09-09T20:04:06.189804Z"
    }
   },
   "outputs": [
    {
     "name": "stdout",
     "output_type": "stream",
     "text": [
      "(0, 1, 2, 3, 4)\n",
      "(0, 1)\n",
      "(2, 3, 4)\n"
     ]
    }
   ],
   "source": [
    "tupla = (0, 1, 2, 3, 4)\n",
    "\n",
    "print(tupla)\n",
    "print(tupla[:2])\n",
    "print(tupla[2:])"
   ]
  },
  {
   "cell_type": "markdown",
   "id": "60c9620f",
   "metadata": {
    "slideshow": {
     "slide_type": "slide"
    }
   },
   "source": [
    "#### Diccionarios de Python\n",
    "\n",
    "Son como hashmaps, las claves deben ser inmutables para que no pierda sentido el diccionario. Si se pudieran modificar, se podrían cambiar las claves y generaría conflictos.\n",
    "\n",
    "Tipos mutables:\n",
    "- Listas\n",
    "- Diccionarios\n",
    "- Sets\n",
    "\n",
    "Tipos inmutables:\n",
    "- Int\n",
    "- Float\n",
    "- String\n",
    "- Tuplas\n"
   ]
  },
  {
   "cell_type": "code",
   "execution_count": 55,
   "id": "c80d0700",
   "metadata": {
    "execution": {
     "iopub.execute_input": "2021-09-09T20:04:06.192806Z",
     "iopub.status.busy": "2021-09-09T20:04:06.192297Z",
     "iopub.status.idle": "2021-09-09T20:04:06.198725Z",
     "shell.execute_reply": "2021-09-09T20:04:06.198311Z"
    },
    "slideshow": {
     "slide_type": "slide"
    }
   },
   "outputs": [
    {
     "data": {
      "text/plain": [
       "{}"
      ]
     },
     "execution_count": 55,
     "metadata": {},
     "output_type": "execute_result"
    }
   ],
   "source": [
    "diccionario = {}\n",
    "diccionario"
   ]
  },
  {
   "cell_type": "code",
   "execution_count": 56,
   "id": "8f11332a",
   "metadata": {
    "execution": {
     "iopub.execute_input": "2021-09-09T20:04:06.203444Z",
     "iopub.status.busy": "2021-09-09T20:04:06.202925Z",
     "iopub.status.idle": "2021-09-09T20:04:06.207657Z",
     "shell.execute_reply": "2021-09-09T20:04:06.208059Z"
    }
   },
   "outputs": [
    {
     "data": {
      "text/plain": [
       "{}"
      ]
     },
     "execution_count": 56,
     "metadata": {},
     "output_type": "execute_result"
    }
   ],
   "source": [
    "diccionario = dict()\n",
    "diccionario"
   ]
  },
  {
   "cell_type": "code",
   "execution_count": 57,
   "id": "7bc030f9",
   "metadata": {
    "execution": {
     "iopub.execute_input": "2021-09-09T20:04:06.212295Z",
     "iopub.status.busy": "2021-09-09T20:04:06.211777Z",
     "iopub.status.idle": "2021-09-09T20:04:06.216540Z",
     "shell.execute_reply": "2021-09-09T20:04:06.216925Z"
    },
    "slideshow": {
     "slide_type": "slide"
    }
   },
   "outputs": [
    {
     "name": "stdout",
     "output_type": "stream",
     "text": [
      "{'clave1': 'valor1', 2: 'valor2', 'clave3': 3}\n"
     ]
    }
   ],
   "source": [
    "# Cómo agregar cosas al diccionario\n",
    "diccionario['clave1'] = 'valor1'\n",
    "diccionario[2] = 'valor2'\n",
    "diccionario['clave3'] = 3\n",
    "print(diccionario)"
   ]
  },
  {
   "cell_type": "markdown",
   "id": "0cd10e5a",
   "metadata": {},
   "source": [
    "Hay dos formas de obtener valores de un diccionario:\n",
    "\n",
    "```python\n",
    "diccionario[clave]\n",
    "```\n",
    "\n",
    "El cual devuelve el valor si existe la clave suministrada o bien lanza `KeyError` si no existe."
   ]
  },
  {
   "cell_type": "code",
   "execution_count": 58,
   "id": "8914a065",
   "metadata": {
    "execution": {
     "iopub.execute_input": "2021-09-09T20:04:06.221556Z",
     "iopub.status.busy": "2021-09-09T20:04:06.221055Z",
     "iopub.status.idle": "2021-09-09T20:04:06.226338Z",
     "shell.execute_reply": "2021-09-09T20:04:06.225908Z"
    }
   },
   "outputs": [
    {
     "data": {
      "text/plain": [
       "'valor1'"
      ]
     },
     "execution_count": 58,
     "metadata": {},
     "output_type": "execute_result"
    }
   ],
   "source": [
    "diccionario['clave1']"
   ]
  },
  {
   "cell_type": "code",
   "execution_count": 59,
   "id": "92150480",
   "metadata": {
    "execution": {
     "iopub.execute_input": "2021-09-09T20:04:06.233470Z",
     "iopub.status.busy": "2021-09-09T20:04:06.232936Z",
     "iopub.status.idle": "2021-09-09T20:04:06.238867Z",
     "shell.execute_reply": "2021-09-09T20:04:06.237847Z"
    },
    "tags": [
     "raises-exception"
    ]
   },
   "outputs": [
    {
     "ename": "KeyError",
     "evalue": "'clave1000'",
     "output_type": "error",
     "traceback": [
      "\u001b[0;31m---------------------------------------------------------------------------\u001b[0m",
      "\u001b[0;31mKeyError\u001b[0m                                  Traceback (most recent call last)",
      "\u001b[0;32m/tmp/ipykernel_1915/3541524662.py\u001b[0m in \u001b[0;36m<module>\u001b[0;34m\u001b[0m\n\u001b[0;32m----> 1\u001b[0;31m \u001b[0mdiccionario\u001b[0m\u001b[0;34m[\u001b[0m\u001b[0;34m'clave1000'\u001b[0m\u001b[0;34m]\u001b[0m\u001b[0;34m\u001b[0m\u001b[0;34m\u001b[0m\u001b[0m\n\u001b[0m",
      "\u001b[0;31mKeyError\u001b[0m: 'clave1000'"
     ]
    }
   ],
   "source": [
    "diccionario['clave1000']"
   ]
  },
  {
   "cell_type": "markdown",
   "id": "f95bf6bc",
   "metadata": {},
   "source": [
    "La segunda forma es con `get`:"
   ]
  },
  {
   "cell_type": "code",
   "execution_count": 60,
   "id": "c694991f",
   "metadata": {
    "execution": {
     "iopub.execute_input": "2021-09-09T20:04:06.289955Z",
     "iopub.status.busy": "2021-09-09T20:04:06.278710Z",
     "iopub.status.idle": "2021-09-09T20:04:06.293533Z",
     "shell.execute_reply": "2021-09-09T20:04:06.294005Z"
    }
   },
   "outputs": [],
   "source": [
    "diccionario.get?"
   ]
  },
  {
   "cell_type": "code",
   "execution_count": 61,
   "id": "a7a9183d",
   "metadata": {
    "execution": {
     "iopub.execute_input": "2021-09-09T20:04:06.299138Z",
     "iopub.status.busy": "2021-09-09T20:04:06.298610Z",
     "iopub.status.idle": "2021-09-09T20:04:06.303241Z",
     "shell.execute_reply": "2021-09-09T20:04:06.302814Z"
    }
   },
   "outputs": [
    {
     "name": "stdout",
     "output_type": "stream",
     "text": [
      "Help on built-in function get:\n",
      "\n",
      "get(key, default=None, /) method of builtins.dict instance\n",
      "    Return the value for key if key is in the dictionary, else default.\n",
      "\n"
     ]
    }
   ],
   "source": [
    "help(diccionario.get)"
   ]
  },
  {
   "cell_type": "code",
   "execution_count": 62,
   "id": "52b03efe",
   "metadata": {
    "execution": {
     "iopub.execute_input": "2021-09-09T20:04:06.307520Z",
     "iopub.status.busy": "2021-09-09T20:04:06.307028Z",
     "iopub.status.idle": "2021-09-09T20:04:06.310694Z",
     "shell.execute_reply": "2021-09-09T20:04:06.310258Z"
    },
    "slideshow": {
     "slide_type": "slide"
    }
   },
   "outputs": [
    {
     "name": "stdout",
     "output_type": "stream",
     "text": [
      "None\n"
     ]
    }
   ],
   "source": [
    "print(diccionario.get('clave1000'))"
   ]
  },
  {
   "cell_type": "code",
   "execution_count": 63,
   "id": "8229f772",
   "metadata": {
    "execution": {
     "iopub.execute_input": "2021-09-09T20:04:06.314915Z",
     "iopub.status.busy": "2021-09-09T20:04:06.313920Z",
     "iopub.status.idle": "2021-09-09T20:04:06.317542Z",
     "shell.execute_reply": "2021-09-09T20:04:06.317091Z"
    },
    "slideshow": {
     "slide_type": "slide"
    }
   },
   "outputs": [
    {
     "name": "stdout",
     "output_type": "stream",
     "text": [
      "True\n"
     ]
    }
   ],
   "source": [
    "print('clave1' in diccionario)  # Verifico si la clave está en el diccionario"
   ]
  },
  {
   "cell_type": "code",
   "execution_count": 64,
   "id": "67505b07",
   "metadata": {
    "execution": {
     "iopub.execute_input": "2021-09-09T20:04:06.322461Z",
     "iopub.status.busy": "2021-09-09T20:04:06.321950Z",
     "iopub.status.idle": "2021-09-09T20:04:06.326742Z",
     "shell.execute_reply": "2021-09-09T20:04:06.327167Z"
    }
   },
   "outputs": [
    {
     "data": {
      "text/plain": [
       "True"
      ]
     },
     "execution_count": 64,
     "metadata": {},
     "output_type": "execute_result"
    }
   ],
   "source": [
    "l = [1, 2, 3, 4]\n",
    "2 in l"
   ]
  },
  {
   "cell_type": "code",
   "execution_count": 65,
   "id": "955c990f",
   "metadata": {
    "execution": {
     "iopub.execute_input": "2021-09-09T20:04:06.331990Z",
     "iopub.status.busy": "2021-09-09T20:04:06.331447Z",
     "iopub.status.idle": "2021-09-09T20:04:06.335304Z",
     "shell.execute_reply": "2021-09-09T20:04:06.334869Z"
    }
   },
   "outputs": [
    {
     "name": "stdout",
     "output_type": "stream",
     "text": [
      "la clave es clave1 y el valor es valor1"
     ]
    },
    {
     "name": "stdout",
     "output_type": "stream",
     "text": [
      "\n",
      "la clave es 2 y el valor es valor2\n",
      "la clave es clave3 y el valor es 3\n"
     ]
    }
   ],
   "source": [
    "for clave, valor in diccionario.items():\n",
    "    print(\"la clave es %s y el valor es %s\" % (clave, valor))"
   ]
  },
  {
   "cell_type": "code",
   "execution_count": 66,
   "id": "7b07437f",
   "metadata": {
    "execution": {
     "iopub.execute_input": "2021-09-09T20:04:06.339868Z",
     "iopub.status.busy": "2021-09-09T20:04:06.339352Z",
     "iopub.status.idle": "2021-09-09T20:04:06.343128Z",
     "shell.execute_reply": "2021-09-09T20:04:06.342705Z"
    }
   },
   "outputs": [
    {
     "name": "stdout",
     "output_type": "stream",
     "text": [
      "la clave es clave1 y el valor es valor1\n",
      "la clave es 2 y el valor es valor2\n",
      "la clave es clave3 y el valor es 3\n"
     ]
    }
   ],
   "source": [
    "for clave, valor in diccionario.items():\n",
    "    print(\"la clave es {} y el valor es {}\".format(clave, valor))"
   ]
  },
  {
   "cell_type": "code",
   "execution_count": 67,
   "id": "db88f6ea",
   "metadata": {
    "execution": {
     "iopub.execute_input": "2021-09-09T20:04:06.347942Z",
     "iopub.status.busy": "2021-09-09T20:04:06.346988Z",
     "iopub.status.idle": "2021-09-09T20:04:06.350588Z",
     "shell.execute_reply": "2021-09-09T20:04:06.350159Z"
    },
    "slideshow": {
     "slide_type": "slide"
    }
   },
   "outputs": [
    {
     "name": "stdout",
     "output_type": "stream",
     "text": [
      "la clave es clave1 y el valor es valor1\n",
      "la clave es 2 y el valor es valor2\n",
      "la clave es clave3 y el valor es 3\n"
     ]
    }
   ],
   "source": [
    "# Cómo iterar un diccionario elemento por elemento\n",
    "for (\n",
    "    clave,\n",
    "    valor,\n",
    ") in (\n",
    "    diccionario.items()\n",
    "):  # diccionario.items() va devolviendo tuplas con el formato (clave,valor)\n",
    "    print(\n",
    "        f\"la clave es {clave} y el valor es {valor}\"\n",
    "    )  # con esta sintaxis se desempaquetan en clave y valor (similar a enumerate)"
   ]
  },
  {
   "cell_type": "code",
   "execution_count": 68,
   "id": "705bed0c",
   "metadata": {
    "execution": {
     "iopub.execute_input": "2021-09-09T20:04:06.354921Z",
     "iopub.status.busy": "2021-09-09T20:04:06.353837Z",
     "iopub.status.idle": "2021-09-09T20:04:06.357783Z",
     "shell.execute_reply": "2021-09-09T20:04:06.358163Z"
    },
    "slideshow": {
     "slide_type": "slide"
    }
   },
   "outputs": [
    {
     "name": "stdout",
     "output_type": "stream",
     "text": [
      "clave1\n",
      "2\n",
      "clave3\n"
     ]
    }
   ],
   "source": [
    "for clave in diccionario.keys():\n",
    "    print(clave)"
   ]
  },
  {
   "cell_type": "code",
   "execution_count": 69,
   "id": "05966c21",
   "metadata": {
    "execution": {
     "iopub.execute_input": "2021-09-09T20:04:06.362080Z",
     "iopub.status.busy": "2021-09-09T20:04:06.361585Z",
     "iopub.status.idle": "2021-09-09T20:04:06.363962Z",
     "shell.execute_reply": "2021-09-09T20:04:06.363451Z"
    },
    "slideshow": {
     "slide_type": "slide"
    }
   },
   "outputs": [
    {
     "name": "stdout",
     "output_type": "stream",
     "text": [
      "valor1\n",
      "valor2\n",
      "3\n"
     ]
    }
   ],
   "source": [
    "for valor in diccionario.values():\n",
    "    print(valor)"
   ]
  },
  {
   "cell_type": "markdown",
   "id": "2782a75c",
   "metadata": {},
   "source": [
    "#### Sets\n",
    "\n",
    "Son similares a los diccionarios (en eficiencia) pero se almacenan solo claves, y tienen algunas operaciones particulares.\n",
    "\n",
    "En particular, no pueden tener elementos iguales (pensar que son conjuntos)"
   ]
  },
  {
   "cell_type": "code",
   "execution_count": 70,
   "id": "cd9c6aa6",
   "metadata": {
    "execution": {
     "iopub.execute_input": "2021-09-09T20:04:06.368018Z",
     "iopub.status.busy": "2021-09-09T20:04:06.367531Z",
     "iopub.status.idle": "2021-09-09T20:04:06.371726Z",
     "shell.execute_reply": "2021-09-09T20:04:06.371192Z"
    }
   },
   "outputs": [],
   "source": [
    "set??"
   ]
  },
  {
   "cell_type": "code",
   "execution_count": 71,
   "id": "78b3b5df",
   "metadata": {
    "execution": {
     "iopub.execute_input": "2021-09-09T20:04:06.376989Z",
     "iopub.status.busy": "2021-09-09T20:04:06.376055Z",
     "iopub.status.idle": "2021-09-09T20:04:06.378654Z",
     "shell.execute_reply": "2021-09-09T20:04:06.379055Z"
    }
   },
   "outputs": [
    {
     "data": {
      "text/plain": [
       "{1, 2, 3}"
      ]
     },
     "execution_count": 71,
     "metadata": {},
     "output_type": "execute_result"
    }
   ],
   "source": [
    "# Se definen como los diccionarios pero sin hacerlos 'clave:valor', solamente una seguidilla de elementos\n",
    "{1, 2, 2, 3}"
   ]
  },
  {
   "cell_type": "code",
   "execution_count": 72,
   "id": "a208264a",
   "metadata": {
    "execution": {
     "iopub.execute_input": "2021-09-09T20:04:06.383257Z",
     "iopub.status.busy": "2021-09-09T20:04:06.382768Z",
     "iopub.status.idle": "2021-09-09T20:04:06.385828Z",
     "shell.execute_reply": "2021-09-09T20:04:06.385379Z"
    }
   },
   "outputs": [
    {
     "data": {
      "text/plain": [
       "{1, 2, 3}"
      ]
     },
     "execution_count": 72,
     "metadata": {},
     "output_type": "execute_result"
    }
   ],
   "source": [
    "set([1, 2, 2, 3])"
   ]
  },
  {
   "cell_type": "markdown",
   "id": "0136fc24",
   "metadata": {},
   "source": [
    "## Condicionales (if...elif...else)\n",
    "\n",
    "```python\n",
    "if <condición_1>:\n",
    "    <hacer algo_1 si se da la condición_1>\n",
    "elif <condición_2>:\n",
    "    <hacer algo_2 si se da la condición_2>\n",
    "...\n",
    "elif <condición_n>:\n",
    "    <hacer algo_n si se da la condición_n>\n",
    "else:\n",
    "    <hacer otra cosa si no dan las anteriores>\n",
    "```\n",
    "\n",
    "Algo importante para notar es que los bloques se definen por **niveles de identacion**."
   ]
  },
  {
   "cell_type": "code",
   "execution_count": 73,
   "id": "2b443bd7",
   "metadata": {
    "execution": {
     "iopub.execute_input": "2021-09-09T20:04:06.391332Z",
     "iopub.status.busy": "2021-09-09T20:04:06.390210Z",
     "iopub.status.idle": "2021-09-09T20:04:06.393076Z",
     "shell.execute_reply": "2021-09-09T20:04:06.392641Z"
    }
   },
   "outputs": [
    {
     "name": "stdout",
     "output_type": "stream",
     "text": [
      "uno\n"
     ]
    }
   ],
   "source": [
    "v = 1\n",
    "if v == 1:\n",
    "    print(\"uno\")\n",
    "elif v == 2:\n",
    "    print(\"dos\")\n",
    "else:\n",
    "    print(\"ni idea\")\n",
    "    print(v)"
   ]
  },
  {
   "cell_type": "markdown",
   "id": "ca8175a2",
   "metadata": {},
   "source": [
    "## Iteraciones\n",
    "\n",
    "```python\n",
    "while cond:\n",
    "    <codigo>\n",
    "```\n",
    "\n",
    "```python\n",
    "for elemento in iterable:\n",
    "    <codigo>\n",
    "```\n",
    "\n",
    "Para iterar sobre un rango de valores, usamos `range`"
   ]
  },
  {
   "cell_type": "code",
   "execution_count": 74,
   "id": "7743558a",
   "metadata": {
    "execution": {
     "iopub.execute_input": "2021-09-09T20:04:06.398259Z",
     "iopub.status.busy": "2021-09-09T20:04:06.397323Z",
     "iopub.status.idle": "2021-09-09T20:04:06.400215Z",
     "shell.execute_reply": "2021-09-09T20:04:06.399798Z"
    }
   },
   "outputs": [
    {
     "name": "stdout",
     "output_type": "stream",
     "text": [
      "1\n",
      "4\n",
      "7\n",
      "10\n"
     ]
    }
   ],
   "source": [
    "for i in range(1, 11, 3):\n",
    "    print(i)"
   ]
  },
  {
   "cell_type": "markdown",
   "id": "1d1cd131",
   "metadata": {},
   "source": [
    "## Operadores logicos\n",
    "\n",
    "`not`, `or`, `and`"
   ]
  },
  {
   "cell_type": "code",
   "execution_count": 75,
   "id": "a781a153",
   "metadata": {
    "execution": {
     "iopub.execute_input": "2021-09-09T20:04:06.403986Z",
     "iopub.status.busy": "2021-09-09T20:04:06.403479Z",
     "iopub.status.idle": "2021-09-09T20:04:06.405392Z",
     "shell.execute_reply": "2021-09-09T20:04:06.405787Z"
    }
   },
   "outputs": [
    {
     "name": "stdout",
     "output_type": "stream",
     "text": [
      "yay\n"
     ]
    }
   ],
   "source": [
    "if True or False:\n",
    "    print(\"yay\")"
   ]
  },
  {
   "cell_type": "code",
   "execution_count": 76,
   "id": "89eb1185",
   "metadata": {
    "execution": {
     "iopub.execute_input": "2021-09-09T20:04:06.409862Z",
     "iopub.status.busy": "2021-09-09T20:04:06.409358Z",
     "iopub.status.idle": "2021-09-09T20:04:06.414337Z",
     "shell.execute_reply": "2021-09-09T20:04:06.413906Z"
    }
   },
   "outputs": [
    {
     "data": {
      "text/plain": [
       "False"
      ]
     },
     "execution_count": 76,
     "metadata": {},
     "output_type": "execute_result"
    }
   ],
   "source": [
    "1 == 2"
   ]
  },
  {
   "cell_type": "code",
   "execution_count": 77,
   "id": "bb9b4e12",
   "metadata": {
    "execution": {
     "iopub.execute_input": "2021-09-09T20:04:06.418692Z",
     "iopub.status.busy": "2021-09-09T20:04:06.418204Z",
     "iopub.status.idle": "2021-09-09T20:04:06.422157Z",
     "shell.execute_reply": "2021-09-09T20:04:06.421724Z"
    }
   },
   "outputs": [
    {
     "data": {
      "text/plain": [
       "True"
      ]
     },
     "execution_count": 77,
     "metadata": {},
     "output_type": "execute_result"
    }
   ],
   "source": [
    "1 != 2"
   ]
  },
  {
   "cell_type": "markdown",
   "id": "5a5b67df",
   "metadata": {
    "slideshow": {
     "slide_type": "slide"
    }
   },
   "source": [
    "## Funciones en Python"
   ]
  },
  {
   "cell_type": "code",
   "execution_count": 78,
   "id": "31cf183d",
   "metadata": {
    "execution": {
     "iopub.execute_input": "2021-09-09T20:04:06.430084Z",
     "iopub.status.busy": "2021-09-09T20:04:06.428878Z",
     "iopub.status.idle": "2021-09-09T20:04:06.431761Z",
     "shell.execute_reply": "2021-09-09T20:04:06.431333Z"
    },
    "slideshow": {
     "slide_type": "slide"
    }
   },
   "outputs": [
    {
     "name": "stdout",
     "output_type": "stream",
     "text": [
      "True\n",
      "False\n"
     ]
    }
   ],
   "source": [
    "def busqueda_binaria(lista, elemento):\n",
    "    if not lista:\n",
    "        return False\n",
    "    elif len(lista) == 1:\n",
    "        return lista[0] == elemento\n",
    "    mitad = len(lista) // 2  # // es la operación división entera\n",
    "    if lista[mitad] == elemento:\n",
    "        return True\n",
    "    if lista[mitad] > elemento:\n",
    "        return busqueda_binaria(lista[:mitad], elemento)\n",
    "    if lista[mitad] < elemento:\n",
    "        return busqueda_binaria(lista[mitad:], elemento)\n",
    "\n",
    "\n",
    "print(busqueda_binaria([1, 2, 3, 4, 5], 4))\n",
    "print(busqueda_binaria([1, 4, 6, 7, 9, 10], 2))"
   ]
  },
  {
   "cell_type": "code",
   "execution_count": 79,
   "id": "98e73060",
   "metadata": {
    "execution": {
     "iopub.execute_input": "2021-09-09T20:04:06.437316Z",
     "iopub.status.busy": "2021-09-09T20:04:06.436031Z",
     "iopub.status.idle": "2021-09-09T20:04:06.439000Z",
     "shell.execute_reply": "2021-09-09T20:04:06.438573Z"
    }
   },
   "outputs": [
    {
     "name": "stdout",
     "output_type": "stream",
     "text": [
      "(3, 3, 3)\n"
     ]
    }
   ],
   "source": [
    "def a(b):\n",
    "    if a == 1:\n",
    "        print(a)\n",
    "    return (b, b, b)\n",
    "\n",
    "\n",
    "print(a(3))"
   ]
  },
  {
   "cell_type": "code",
   "execution_count": 80,
   "id": "9e9f8331",
   "metadata": {
    "execution": {
     "iopub.execute_input": "2021-09-09T20:04:06.444290Z",
     "iopub.status.busy": "2021-09-09T20:04:06.443745Z",
     "iopub.status.idle": "2021-09-09T20:04:06.452910Z",
     "shell.execute_reply": "2021-09-09T20:04:06.453364Z"
    },
    "lines_to_next_cell": 2,
    "slideshow": {
     "slide_type": "slide"
    },
    "tags": [
     "raises-exception"
    ]
   },
   "outputs": [
    {
     "name": "stdout",
     "output_type": "stream",
     "text": [
      "3\n",
      "3.0\n",
      "3.0\n",
      "hola como te va\n",
      "[1, 2, 3, 4, 5]\n"
     ]
    },
    {
     "ename": "TypeError",
     "evalue": "can only concatenate str (not \"int\") to str",
     "output_type": "error",
     "traceback": [
      "\u001b[0;31m---------------------------------------------------------------------------\u001b[0m",
      "\u001b[0;31mTypeError\u001b[0m                                 Traceback (most recent call last)",
      "\u001b[0;32m/tmp/ipykernel_1915/1000948441.py\u001b[0m in \u001b[0;36m<module>\u001b[0;34m\u001b[0m\n\u001b[1;32m      8\u001b[0m \u001b[0mprint\u001b[0m\u001b[0;34m(\u001b[0m\u001b[0msuma\u001b[0m\u001b[0;34m(\u001b[0m\u001b[0;34m\"hola \"\u001b[0m\u001b[0;34m,\u001b[0m \u001b[0;34m\"como te va\"\u001b[0m\u001b[0;34m)\u001b[0m\u001b[0;34m)\u001b[0m\u001b[0;34m\u001b[0m\u001b[0;34m\u001b[0m\u001b[0m\n\u001b[1;32m      9\u001b[0m \u001b[0mprint\u001b[0m\u001b[0;34m(\u001b[0m\u001b[0msuma\u001b[0m\u001b[0;34m(\u001b[0m\u001b[0;34m[\u001b[0m\u001b[0;36m1\u001b[0m\u001b[0;34m,\u001b[0m \u001b[0;36m2\u001b[0m\u001b[0;34m,\u001b[0m \u001b[0;36m3\u001b[0m\u001b[0;34m]\u001b[0m\u001b[0;34m,\u001b[0m \u001b[0;34m[\u001b[0m\u001b[0;36m4\u001b[0m\u001b[0;34m,\u001b[0m \u001b[0;36m5\u001b[0m\u001b[0;34m]\u001b[0m\u001b[0;34m)\u001b[0m\u001b[0;34m)\u001b[0m\u001b[0;34m\u001b[0m\u001b[0;34m\u001b[0m\u001b[0m\n\u001b[0;32m---> 10\u001b[0;31m \u001b[0mprint\u001b[0m\u001b[0;34m(\u001b[0m\u001b[0msuma\u001b[0m\u001b[0;34m(\u001b[0m\u001b[0;34m\"1\"\u001b[0m\u001b[0;34m,\u001b[0m \u001b[0;36m3\u001b[0m\u001b[0;34m)\u001b[0m\u001b[0;34m)\u001b[0m  \u001b[0;31m# Falla\u001b[0m\u001b[0;34m\u001b[0m\u001b[0;34m\u001b[0m\u001b[0m\n\u001b[0m",
      "\u001b[0;32m/tmp/ipykernel_1915/1000948441.py\u001b[0m in \u001b[0;36msuma\u001b[0;34m(a, b)\u001b[0m\n\u001b[1;32m      1\u001b[0m \u001b[0;32mdef\u001b[0m \u001b[0msuma\u001b[0m\u001b[0;34m(\u001b[0m\u001b[0ma\u001b[0m\u001b[0;34m,\u001b[0m \u001b[0mb\u001b[0m\u001b[0;34m)\u001b[0m\u001b[0;34m:\u001b[0m\u001b[0;34m\u001b[0m\u001b[0;34m\u001b[0m\u001b[0m\n\u001b[0;32m----> 2\u001b[0;31m     \u001b[0;32mreturn\u001b[0m \u001b[0ma\u001b[0m \u001b[0;34m+\u001b[0m \u001b[0mb\u001b[0m\u001b[0;34m\u001b[0m\u001b[0;34m\u001b[0m\u001b[0m\n\u001b[0m\u001b[1;32m      3\u001b[0m \u001b[0;34m\u001b[0m\u001b[0m\n\u001b[1;32m      4\u001b[0m \u001b[0;34m\u001b[0m\u001b[0m\n\u001b[1;32m      5\u001b[0m \u001b[0mprint\u001b[0m\u001b[0;34m(\u001b[0m\u001b[0msuma\u001b[0m\u001b[0;34m(\u001b[0m\u001b[0;36m1\u001b[0m\u001b[0;34m,\u001b[0m \u001b[0;36m2\u001b[0m\u001b[0;34m)\u001b[0m\u001b[0;34m)\u001b[0m\u001b[0;34m\u001b[0m\u001b[0;34m\u001b[0m\u001b[0m\n",
      "\u001b[0;31mTypeError\u001b[0m: can only concatenate str (not \"int\") to str"
     ]
    }
   ],
   "source": [
    "def suma(a, b):\n",
    "    return a + b\n",
    "\n",
    "\n",
    "print(suma(1, 2))\n",
    "print(suma(1.0, 2.0))\n",
    "print(suma(1.0, 2))\n",
    "print(suma(\"hola \", \"como te va\"))\n",
    "print(suma([1, 2, 3], [4, 5]))\n",
    "print(suma(\"1\", 3))  # Falla"
   ]
  },
  {
   "cell_type": "code",
   "execution_count": 81,
   "id": "a42eed62",
   "metadata": {
    "execution": {
     "iopub.execute_input": "2021-09-09T20:04:06.458910Z",
     "iopub.status.busy": "2021-09-09T20:04:06.457746Z",
     "iopub.status.idle": "2021-09-09T20:04:06.460660Z",
     "shell.execute_reply": "2021-09-09T20:04:06.460183Z"
    }
   },
   "outputs": [
    {
     "name": "stdout",
     "output_type": "stream",
     "text": [
      "2.0\n"
     ]
    }
   ],
   "source": [
    "# El valor por default de divisor es 1\n",
    "\n",
    "\n",
    "def division(dividendo, divisor=2):\n",
    "    return dividendo / divisor\n",
    "\n",
    "\n",
    "print(division(4))  # Usa el valor por default"
   ]
  },
  {
   "cell_type": "code",
   "execution_count": 82,
   "id": "16fdc2d6",
   "metadata": {
    "execution": {
     "iopub.execute_input": "2021-09-09T20:04:06.468214Z",
     "iopub.status.busy": "2021-09-09T20:04:06.464313Z",
     "iopub.status.idle": "2021-09-09T20:04:06.471241Z",
     "shell.execute_reply": "2021-09-09T20:04:06.470762Z"
    },
    "tags": [
     "raises-exception"
    ]
   },
   "outputs": [
    {
     "name": "stdout",
     "output_type": "stream",
     "text": [
      "0.5\n",
      "0.5\n"
     ]
    },
    {
     "ename": "TypeError",
     "evalue": "division() missing 1 required positional argument: 'dividendo'",
     "output_type": "error",
     "traceback": [
      "\u001b[0;31m---------------------------------------------------------------------------\u001b[0m",
      "\u001b[0;31mTypeError\u001b[0m                                 Traceback (most recent call last)",
      "\u001b[0;32m/tmp/ipykernel_1915/1004518412.py\u001b[0m in \u001b[0;36m<module>\u001b[0;34m\u001b[0m\n\u001b[1;32m      1\u001b[0m \u001b[0mprint\u001b[0m\u001b[0;34m(\u001b[0m\u001b[0mdivision\u001b[0m\u001b[0;34m(\u001b[0m\u001b[0;36m1\u001b[0m\u001b[0;34m,\u001b[0m \u001b[0;36m2\u001b[0m\u001b[0;34m)\u001b[0m\u001b[0;34m)\u001b[0m  \u001b[0;31m# Parámetros por orden\u001b[0m\u001b[0;34m\u001b[0m\u001b[0;34m\u001b[0m\u001b[0m\n\u001b[1;32m      2\u001b[0m \u001b[0mprint\u001b[0m\u001b[0;34m(\u001b[0m\u001b[0mdivision\u001b[0m\u001b[0;34m(\u001b[0m\u001b[0mdividendo\u001b[0m\u001b[0;34m=\u001b[0m\u001b[0;36m1\u001b[0m\u001b[0;34m,\u001b[0m \u001b[0mdivisor\u001b[0m\u001b[0;34m=\u001b[0m\u001b[0;36m2\u001b[0m\u001b[0;34m)\u001b[0m\u001b[0;34m)\u001b[0m  \u001b[0;31m# Parámetros por nombre\u001b[0m\u001b[0;34m\u001b[0m\u001b[0;34m\u001b[0m\u001b[0m\n\u001b[0;32m----> 3\u001b[0;31m \u001b[0mprint\u001b[0m\u001b[0;34m(\u001b[0m\u001b[0mdivision\u001b[0m\u001b[0;34m(\u001b[0m\u001b[0mdivisor\u001b[0m\u001b[0;34m=\u001b[0m\u001b[0;36m2\u001b[0m\u001b[0;34m)\u001b[0m\u001b[0;34m)\u001b[0m\u001b[0;34m\u001b[0m\u001b[0;34m\u001b[0m\u001b[0m\n\u001b[0m",
      "\u001b[0;31mTypeError\u001b[0m: division() missing 1 required positional argument: 'dividendo'"
     ]
    }
   ],
   "source": [
    "print(division(1, 2))  # Parámetros por orden\n",
    "print(division(dividendo=1, divisor=2))  # Parámetros por nombre\n",
    "print(division(divisor=2))"
   ]
  },
  {
   "cell_type": "code",
   "execution_count": 83,
   "id": "ba8b5885",
   "metadata": {
    "execution": {
     "iopub.execute_input": "2021-09-09T20:04:06.476486Z",
     "iopub.status.busy": "2021-09-09T20:04:06.475270Z",
     "iopub.status.idle": "2021-09-09T20:04:06.478202Z",
     "shell.execute_reply": "2021-09-09T20:04:06.477767Z"
    }
   },
   "outputs": [
    {
     "name": "stdout",
     "output_type": "stream",
     "text": [
      "0.5\n"
     ]
    }
   ],
   "source": [
    "print(division(divisor=2, dividendo=1))"
   ]
  },
  {
   "cell_type": "code",
   "execution_count": 84,
   "id": "50d8280d",
   "metadata": {
    "execution": {
     "iopub.execute_input": "2021-09-09T20:04:06.483811Z",
     "iopub.status.busy": "2021-09-09T20:04:06.480409Z",
     "iopub.status.idle": "2021-09-09T20:04:06.485806Z",
     "shell.execute_reply": "2021-09-09T20:04:06.486208Z"
    }
   },
   "outputs": [
    {
     "name": "stdout",
     "output_type": "stream",
     "text": [
      "['a', 'b', 'c']\n",
      "[1, 2, 3]\n",
      "['hola', ' don', ' pepito']\n",
      "hola -  don -  pepito\n"
     ]
    }
   ],
   "source": [
    "# Funciones básicas ya en el lenguaje\n",
    "# Hechas para funcionar para distintos tipos\n",
    "\n",
    "string_ordenado = sorted('bca')\n",
    "print(string_ordenado)\n",
    "\n",
    "lista_ordenada = sorted([1, 3, 2])\n",
    "print(lista_ordenada)\n",
    "\n",
    "separadas = \"hola, don, pepito\".split(\",\")\n",
    "print(separadas)\n",
    "unidas = \" - \".join(separadas)\n",
    "print(unidas)"
   ]
  },
  {
   "cell_type": "markdown",
   "id": "0b3392af",
   "metadata": {},
   "source": [
    "## Módulos\n",
    "\n",
    "Para incluir alguna biblioteca de funciones se usa `import`. Pueden ser cosas ya predefinidas en Python (`math`, `random`, etc), nombres de archivos en nuestro directorio (por ejemplo, para `mimodulo.py` ponemos `import mimodulo`) o bibliotecas instaladas por el usuario"
   ]
  },
  {
   "cell_type": "code",
   "execution_count": 85,
   "id": "7b0250e8",
   "metadata": {
    "execution": {
     "iopub.execute_input": "2021-09-09T20:04:06.490088Z",
     "iopub.status.busy": "2021-09-09T20:04:06.489575Z",
     "iopub.status.idle": "2021-09-09T20:04:06.491479Z",
     "shell.execute_reply": "2021-09-09T20:04:06.491882Z"
    }
   },
   "outputs": [
    {
     "name": "stdout",
     "output_type": "stream",
     "text": [
      "3.141592653589793\n"
     ]
    }
   ],
   "source": [
    "import math\n",
    "\n",
    "print(math.pi)"
   ]
  },
  {
   "cell_type": "code",
   "execution_count": 86,
   "id": "1feb706a",
   "metadata": {
    "execution": {
     "iopub.execute_input": "2021-09-09T20:04:06.495906Z",
     "iopub.status.busy": "2021-09-09T20:04:06.495292Z",
     "iopub.status.idle": "2021-09-09T20:04:06.498026Z",
     "shell.execute_reply": "2021-09-09T20:04:06.497598Z"
    }
   },
   "outputs": [
    {
     "name": "stdout",
     "output_type": "stream",
     "text": [
      "3.141592653589793 2.718281828459045\n"
     ]
    }
   ],
   "source": [
    "from math import pi, e\n",
    "\n",
    "print(pi, e)"
   ]
  },
  {
   "cell_type": "code",
   "execution_count": 87,
   "id": "d75a22fe",
   "metadata": {
    "execution": {
     "iopub.execute_input": "2021-09-09T20:04:06.502555Z",
     "iopub.status.busy": "2021-09-09T20:04:06.500816Z",
     "iopub.status.idle": "2021-09-09T20:04:06.504545Z",
     "shell.execute_reply": "2021-09-09T20:04:06.504948Z"
    }
   },
   "outputs": [
    {
     "data": {
      "text/plain": [
       "2"
      ]
     },
     "execution_count": 87,
     "metadata": {},
     "output_type": "execute_result"
    }
   ],
   "source": [
    "math.gcd(56, 78)"
   ]
  },
  {
   "cell_type": "markdown",
   "id": "4b3fe656",
   "metadata": {},
   "source": [
    "## Manejo de excepciones\n",
    "\n",
    "Se pueden encapsular errores esperados en un bloque 'try/except' para evitar cortar el flujo del programa"
   ]
  },
  {
   "cell_type": "code",
   "execution_count": 88,
   "id": "c7010f8f",
   "metadata": {
    "execution": {
     "iopub.execute_input": "2021-09-09T20:04:06.513341Z",
     "iopub.status.busy": "2021-09-09T20:04:06.512854Z",
     "iopub.status.idle": "2021-09-09T20:04:06.517265Z",
     "shell.execute_reply": "2021-09-09T20:04:06.517676Z"
    },
    "tags": [
     "raises-exception"
    ]
   },
   "outputs": [
    {
     "ename": "ZeroDivisionError",
     "evalue": "division by zero",
     "output_type": "error",
     "traceback": [
      "\u001b[0;31m---------------------------------------------------------------------------\u001b[0m",
      "\u001b[0;31mZeroDivisionError\u001b[0m                         Traceback (most recent call last)",
      "\u001b[0;32m/tmp/ipykernel_1915/1165346582.py\u001b[0m in \u001b[0;36m<module>\u001b[0;34m\u001b[0m\n\u001b[0;32m----> 1\u001b[0;31m \u001b[0mdivision\u001b[0m\u001b[0;34m(\u001b[0m\u001b[0;36m1\u001b[0m\u001b[0;34m,\u001b[0m \u001b[0;36m0\u001b[0m\u001b[0;34m)\u001b[0m  \u001b[0;31m# No se puede dividir por cero\u001b[0m\u001b[0;34m\u001b[0m\u001b[0;34m\u001b[0m\u001b[0m\n\u001b[0m",
      "\u001b[0;32m/tmp/ipykernel_1915/2607187721.py\u001b[0m in \u001b[0;36mdivision\u001b[0;34m(dividendo, divisor)\u001b[0m\n\u001b[1;32m      3\u001b[0m \u001b[0;34m\u001b[0m\u001b[0m\n\u001b[1;32m      4\u001b[0m \u001b[0;32mdef\u001b[0m \u001b[0mdivision\u001b[0m\u001b[0;34m(\u001b[0m\u001b[0mdividendo\u001b[0m\u001b[0;34m,\u001b[0m \u001b[0mdivisor\u001b[0m\u001b[0;34m=\u001b[0m\u001b[0;36m2\u001b[0m\u001b[0;34m)\u001b[0m\u001b[0;34m:\u001b[0m\u001b[0;34m\u001b[0m\u001b[0;34m\u001b[0m\u001b[0m\n\u001b[0;32m----> 5\u001b[0;31m     \u001b[0;32mreturn\u001b[0m \u001b[0mdividendo\u001b[0m \u001b[0;34m/\u001b[0m \u001b[0mdivisor\u001b[0m\u001b[0;34m\u001b[0m\u001b[0;34m\u001b[0m\u001b[0m\n\u001b[0m\u001b[1;32m      6\u001b[0m \u001b[0;34m\u001b[0m\u001b[0m\n\u001b[1;32m      7\u001b[0m \u001b[0;34m\u001b[0m\u001b[0m\n",
      "\u001b[0;31mZeroDivisionError\u001b[0m: division by zero"
     ]
    }
   ],
   "source": [
    "division(1, 0)  # No se puede dividir por cero"
   ]
  },
  {
   "cell_type": "code",
   "execution_count": 89,
   "id": "433f6983",
   "metadata": {
    "execution": {
     "iopub.execute_input": "2021-09-09T20:04:06.523270Z",
     "iopub.status.busy": "2021-09-09T20:04:06.522122Z",
     "iopub.status.idle": "2021-09-09T20:04:06.524979Z",
     "shell.execute_reply": "2021-09-09T20:04:06.524541Z"
    }
   },
   "outputs": [
    {
     "name": "stdout",
     "output_type": "stream",
     "text": [
      "No se puede dividir por cero, ojo! division by zero\n",
      "1\n"
     ]
    }
   ],
   "source": [
    "try:\n",
    "    division(1, 0)\n",
    "except (ZeroDivisionError, TypeError) as e:\n",
    "    print('No se puede dividir por cero, ojo!', e)\n",
    "finally:\n",
    "    print(1)"
   ]
  },
  {
   "cell_type": "markdown",
   "id": "25b33237",
   "metadata": {
    "slideshow": {
     "slide_type": "slide"
    }
   },
   "source": [
    "## Lectura y escritura de archivos"
   ]
  },
  {
   "cell_type": "code",
   "execution_count": 90,
   "id": "5da75996",
   "metadata": {
    "execution": {
     "iopub.execute_input": "2021-09-09T20:04:06.530229Z",
     "iopub.status.busy": "2021-09-09T20:04:06.529703Z",
     "iopub.status.idle": "2021-09-09T20:04:06.532165Z",
     "shell.execute_reply": "2021-09-09T20:04:06.532586Z"
    },
    "slideshow": {
     "slide_type": "slide"
    }
   },
   "outputs": [
    {
     "name": "stdout",
     "output_type": "stream",
     "text": [
      "<_io.TextIOWrapper name='archivo.csv' mode='w' encoding='UTF-8'>\n"
     ]
    }
   ],
   "source": [
    "import random\n",
    "\n",
    "with open(\n",
    "    'archivo.csv', 'w'\n",
    ") as archivo:  # Al usar esta sintaxis no es necesario hacer close\n",
    "    archivo.write(\"Alumno, nota\\n\")\n",
    "    # Tambien de forma similar al fprintf se puede hacer:\n",
    "    # print(\"Alumno, nota\\n\", file=archivo)\n",
    "    for i in range(0, 10):\n",
    "        archivo.write(f\"{i},{random.randrange(0,10)}\\n\")\n",
    "\n",
    "print(archivo)  # Comentario aclaratorio:\n",
    "# Las variables definidas en un determinado scope siguen existiendo por fuera del mismo.\n",
    "# Se debe tener cuidado con esto, ya que nada garantiza que por fuera el valor sea el esperado."
   ]
  },
  {
   "cell_type": "code",
   "execution_count": 91,
   "id": "5c8851c6",
   "metadata": {
    "execution": {
     "iopub.execute_input": "2021-09-09T20:04:06.538065Z",
     "iopub.status.busy": "2021-09-09T20:04:06.537544Z",
     "iopub.status.idle": "2021-09-09T20:04:06.539987Z",
     "shell.execute_reply": "2021-09-09T20:04:06.540414Z"
    },
    "slideshow": {
     "slide_type": "slide"
    }
   },
   "outputs": [
    {
     "name": "stdout",
     "output_type": "stream",
     "text": [
      "Alumno, nota\n",
      "0,7\n",
      "1,4\n",
      "2,4\n",
      "3,1\n",
      "4,7\n",
      "5,1\n",
      "6,6\n",
      "7,0\n",
      "8,8\n",
      "9,2\n"
     ]
    }
   ],
   "source": [
    "with open('archivo.csv', 'r') as f:\n",
    "    for linea in f:\n",
    "        print(linea.strip())"
   ]
  },
  {
   "cell_type": "code",
   "execution_count": 92,
   "id": "b15711bb",
   "metadata": {
    "execution": {
     "iopub.execute_input": "2021-09-09T20:04:06.543979Z",
     "iopub.status.busy": "2021-09-09T20:04:06.543488Z",
     "iopub.status.idle": "2021-09-09T20:04:06.546646Z",
     "shell.execute_reply": "2021-09-09T20:04:06.546209Z"
    }
   },
   "outputs": [
    {
     "name": "stdout",
     "output_type": "stream",
     "text": [
      "Alumno, nota\n",
      "0,7\n",
      "1,4\n",
      "2,4\n",
      "3,1\n",
      "4,7\n",
      "5,1\n",
      "6,6\n",
      "7,0\n",
      "8,8\n",
      "9,2\n",
      "\n"
     ]
    }
   ],
   "source": [
    "with open('archivo.csv', 'r') as f:\n",
    "    print(f.read())"
   ]
  },
  {
   "cell_type": "code",
   "execution_count": 93,
   "id": "6b6724de",
   "metadata": {
    "execution": {
     "iopub.execute_input": "2021-09-09T20:04:06.550651Z",
     "iopub.status.busy": "2021-09-09T20:04:06.550127Z",
     "iopub.status.idle": "2021-09-09T20:04:06.552224Z",
     "shell.execute_reply": "2021-09-09T20:04:06.552651Z"
    }
   },
   "outputs": [],
   "source": [
    "f = open('archivo.csv', 'w')\n",
    "f.write(\"algo, algo\")\n",
    "f.close()"
   ]
  },
  {
   "cell_type": "markdown",
   "id": "9ddd90fc",
   "metadata": {
    "slideshow": {
     "slide_type": "slide"
    }
   },
   "source": [
    "## Objetos\n",
    "\n",
    "Los objetos tienen metodos y atributos:\n",
    "- Atributos: equivalentes a variables.\n",
    "- Métodos: equivalentes a las primitivas."
   ]
  },
  {
   "cell_type": "markdown",
   "id": "78e0b5eb",
   "metadata": {
    "slideshow": {
     "slide_type": "slide"
    }
   },
   "source": [
    "### Cómo creo una clase"
   ]
  },
  {
   "cell_type": "code",
   "execution_count": 94,
   "id": "c2637346",
   "metadata": {
    "execution": {
     "iopub.execute_input": "2021-09-09T20:04:06.559361Z",
     "iopub.status.busy": "2021-09-09T20:04:06.558178Z",
     "iopub.status.idle": "2021-09-09T20:04:06.559939Z",
     "shell.execute_reply": "2021-09-09T20:04:06.560373Z"
    },
    "slideshow": {
     "slide_type": "slide"
    }
   },
   "outputs": [],
   "source": [
    "class Nodo(object):\n",
    "    def __init__(self, dato, siguiente=None):\n",
    "        self._dato = dato\n",
    "        self._siguiente = siguiente\n",
    "\n",
    "    @property\n",
    "    def dato(self):\n",
    "        return self._dato\n",
    "\n",
    "    @property\n",
    "    def proximo(self):\n",
    "        return self._siguiente\n",
    "\n",
    "    @proximo.setter\n",
    "    def proximo(self, siguiente):\n",
    "        self._siguiente = siguiente\n",
    "\n",
    "    def __repr__(self):\n",
    "        return str(self.dato)\n",
    "\n",
    "    def __str__(self):\n",
    "        return str(self.dato)"
   ]
  },
  {
   "cell_type": "code",
   "execution_count": 95,
   "id": "da8a6711",
   "metadata": {
    "execution": {
     "iopub.execute_input": "2021-09-09T20:04:06.565611Z",
     "iopub.status.busy": "2021-09-09T20:04:06.564426Z",
     "iopub.status.idle": "2021-09-09T20:04:06.567309Z",
     "shell.execute_reply": "2021-09-09T20:04:06.566866Z"
    },
    "slideshow": {
     "slide_type": "slide"
    }
   },
   "outputs": [
    {
     "name": "stdout",
     "output_type": "stream",
     "text": [
      "hola\n"
     ]
    }
   ],
   "source": [
    "nodo = Nodo(\"hola\")\n",
    "print(nodo)"
   ]
  },
  {
   "cell_type": "code",
   "execution_count": 96,
   "id": "45a43abc",
   "metadata": {
    "execution": {
     "iopub.execute_input": "2021-09-09T20:04:06.572448Z",
     "iopub.status.busy": "2021-09-09T20:04:06.571265Z",
     "iopub.status.idle": "2021-09-09T20:04:06.574155Z",
     "shell.execute_reply": "2021-09-09T20:04:06.573716Z"
    },
    "slideshow": {
     "slide_type": "slide"
    }
   },
   "outputs": [
    {
     "name": "stdout",
     "output_type": "stream",
     "text": [
      "[hola, lala]\n"
     ]
    }
   ],
   "source": [
    "nodo2 = Nodo(\"lala\")\n",
    "print([nodo, nodo2])"
   ]
  },
  {
   "cell_type": "code",
   "execution_count": 97,
   "id": "89551171",
   "metadata": {
    "execution": {
     "iopub.execute_input": "2021-09-09T20:04:06.578616Z",
     "iopub.status.busy": "2021-09-09T20:04:06.578111Z",
     "iopub.status.idle": "2021-09-09T20:04:06.579850Z",
     "shell.execute_reply": "2021-09-09T20:04:06.580241Z"
    },
    "slideshow": {
     "slide_type": "slide"
    }
   },
   "outputs": [
    {
     "name": "stdout",
     "output_type": "stream",
     "text": [
      "hola\n"
     ]
    }
   ],
   "source": [
    "nodo3 = nodo.dato\n",
    "print(nodo3)"
   ]
  },
  {
   "cell_type": "markdown",
   "id": "6571577f",
   "metadata": {
    "slideshow": {
     "slide_type": "slide"
    }
   },
   "source": [
    "### Ejemplo: Lista Enlazada"
   ]
  },
  {
   "cell_type": "code",
   "execution_count": 98,
   "id": "84e39db4",
   "metadata": {
    "execution": {
     "iopub.execute_input": "2021-09-09T20:04:06.589134Z",
     "iopub.status.busy": "2021-09-09T20:04:06.588612Z",
     "iopub.status.idle": "2021-09-09T20:04:06.592573Z",
     "shell.execute_reply": "2021-09-09T20:04:06.591659Z"
    },
    "slideshow": {
     "slide_type": "slide"
    }
   },
   "outputs": [],
   "source": [
    "class ListaEnlazada(object):\n",
    "    def __init__(self):\n",
    "        self._primero = None\n",
    "        self._ultimo = None\n",
    "        self._largo = 0\n",
    "\n",
    "    def __len__(self):\n",
    "        return self._largo\n",
    "\n",
    "    def insertar_al_principio(self, dato):\n",
    "        nodo = Nodo(dato, self._primero)\n",
    "        self._primero = nodo\n",
    "        self._largo += 1\n",
    "        if self._largo == 1:\n",
    "            self._ultimo = nodo\n",
    "\n",
    "    def insertar_al_final(self, dato):\n",
    "        if self._largo != 0:\n",
    "            nodo = Nodo(dato)\n",
    "            nodo_anterior = self._ultimo\n",
    "            nodo_anterior._siguiente = nodo\n",
    "            self._ultimo = nodo\n",
    "            self._largo += 1\n",
    "        else:\n",
    "            self.insertar_al_principio(dato)\n",
    "\n",
    "    @property\n",
    "    def primero(self):\n",
    "        return self._primero.dato\n",
    "\n",
    "    def borrar_primero(self):\n",
    "        dato = self.primero.dato\n",
    "        self._primero = self.primero.siguiente\n",
    "        self._largo -= 1\n",
    "        if self._largo == 0:\n",
    "            self._ultimo = None\n",
    "        return dato\n",
    "\n",
    "    def __str__(self):\n",
    "        datos = []\n",
    "        nodo_actual = self._primero\n",
    "        while nodo_actual:\n",
    "            datos.append(nodo_actual.dato)\n",
    "            nodo_actual = nodo_actual.proximo\n",
    "        return \" -> \".join(datos)\n",
    "\n",
    "    def __repr__(self):\n",
    "        return self.__str__()"
   ]
  },
  {
   "cell_type": "code",
   "execution_count": 99,
   "id": "d9053046",
   "metadata": {
    "execution": {
     "iopub.execute_input": "2021-09-09T20:04:06.597273Z",
     "iopub.status.busy": "2021-09-09T20:04:06.596787Z",
     "iopub.status.idle": "2021-09-09T20:04:06.601579Z",
     "shell.execute_reply": "2021-09-09T20:04:06.601151Z"
    },
    "slideshow": {
     "slide_type": "slide"
    }
   },
   "outputs": [
    {
     "data": {
      "text/plain": [
       "2"
      ]
     },
     "execution_count": 99,
     "metadata": {},
     "output_type": "execute_result"
    }
   ],
   "source": [
    "lista = ListaEnlazada()\n",
    "lista.insertar_al_principio(\"Primer Dato\")\n",
    "lista.insertar_al_principio(\"Primer primer Dato\")\n",
    "len(lista)"
   ]
  },
  {
   "cell_type": "code",
   "execution_count": 100,
   "id": "5da303f3",
   "metadata": {
    "execution": {
     "iopub.execute_input": "2021-09-09T20:04:06.605664Z",
     "iopub.status.busy": "2021-09-09T20:04:06.605174Z",
     "iopub.status.idle": "2021-09-09T20:04:06.610329Z",
     "shell.execute_reply": "2021-09-09T20:04:06.609532Z"
    }
   },
   "outputs": [
    {
     "data": {
      "text/plain": [
       "Primer primer Dato -> Primer Dato"
      ]
     },
     "execution_count": 100,
     "metadata": {},
     "output_type": "execute_result"
    }
   ],
   "source": [
    "lista"
   ]
  },
  {
   "cell_type": "code",
   "execution_count": 101,
   "id": "4c91c87a",
   "metadata": {
    "execution": {
     "iopub.execute_input": "2021-09-09T20:04:06.614148Z",
     "iopub.status.busy": "2021-09-09T20:04:06.613452Z",
     "iopub.status.idle": "2021-09-09T20:04:06.617188Z",
     "shell.execute_reply": "2021-09-09T20:04:06.617588Z"
    },
    "slideshow": {
     "slide_type": "slide"
    }
   },
   "outputs": [
    {
     "name": "stdout",
     "output_type": "stream",
     "text": [
      "Primer primer Dato\n"
     ]
    }
   ],
   "source": [
    "elemento = lista.primero\n",
    "print(elemento)"
   ]
  },
  {
   "cell_type": "markdown",
   "id": "a85367d7",
   "metadata": {},
   "source": [
    "## Recursos\n",
    "\n",
    "* [Taller de Python de Algoritmos II](https://github.com/algoritmos-rw/algo2_apuntes)\n",
    "\n",
    "* [Documentación de Python 3](https://docs.python.org/3/tutorial/)\n",
    "\n",
    "* [Apunte de Algoritmos y Programación I](https://algoritmos1rw.ddns.net/material)\n",
    "\n",
    "* [Automate the Boring Stuff with Python](http://automatetheboringstuff.com/)\n",
    "\n",
    "* [Curso Python](https://pythoncurso.github.io)\n",
    "\n",
    "* [Python Tutor](http://pythontutor.com/)\n",
    "\n",
    "* [Learn Python3 in Y minutes](https://learnxinyminutes.com/docs/python3/)\n",
    "\n",
    "* [Bibliografía de Algoritmos y Programación I](https://algoritmos1rw.ddns.net/bibliografia)"
   ]
  }
 ],
 "metadata": {
  "jupytext": {
   "encoding": "# -*- coding: utf-8 -*-",
   "formats": "ipynb,py:light"
  },
  "kernelspec": {
   "display_name": "Python 3 (venv)",
   "language": "python",
   "name": "python3"
  },
  "language_info": {
   "codemirror_mode": {
    "name": "ipython",
    "version": 3
   },
   "file_extension": ".py",
   "mimetype": "text/x-python",
   "name": "python",
   "nbconvert_exporter": "python",
   "pygments_lexer": "ipython3",
   "version": "3.7.11"
  }
 },
 "nbformat": 4,
 "nbformat_minor": 5
}
