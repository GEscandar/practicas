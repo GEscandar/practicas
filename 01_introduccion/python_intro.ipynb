{
 "cells": [
  {
   "cell_type": "markdown",
   "id": "2440c450",
   "metadata": {},
   "source": [
    "# Python"
   ]
  },
  {
   "cell_type": "markdown",
   "id": "a44215f8",
   "metadata": {
    "slideshow": {
     "slide_type": "slide"
    }
   },
   "source": [
    "## Un poco de Historia"
   ]
  },
  {
   "cell_type": "markdown",
   "id": "55977633",
   "metadata": {
    "slideshow": {
     "slide_type": "subslide"
    }
   },
   "source": [
    "Python fue creado a finales de los años 80 por un programador holandés llamado **Guido van Rossum**,\n",
    "quien sigue siendo aún hoy el líder del desarrollo del lenguaje.\n",
    "\n",
    "(Edit julio 2018: [ya no más](https://www.mail-archive.com/python-committers@python.org/msg05628.html))"
   ]
  },
  {
   "cell_type": "markdown",
   "id": "a2b99e03",
   "metadata": {
    "slideshow": {
     "slide_type": "subslide"
    }
   },
   "source": [
    "El nombre del lenguaje proviene de los humoristas británicos Monty Python.\n",
    "\n",
    ">*\"I chose Python as a working title for the project, being in a slightly irreverent mood (and a big fan of Monty Python's Flying Circus).\"*"
   ]
  },
  {
   "cell_type": "markdown",
   "id": "e88fa649",
   "metadata": {
    "slideshow": {
     "slide_type": "slide"
    }
   },
   "source": [
    "## Caracteristicas\n",
    "\n",
    "- Interpretado\n",
    "- Tipado dinamico\n",
    "- Multiparadigma\n",
    "- Alto nivel\n",
    "- Tiene un recolector de basura (no hay malloc, free, realloc, etc)"
   ]
  },
  {
   "cell_type": "markdown",
   "id": "b62313fc",
   "metadata": {},
   "source": [
    "## ¿Cómo empezar?\n",
    "\n",
    "* Al ser un lenguaje *interpretado*, se puede ir escribiendo a medida que se ejecuta, sin necesidad de compilar de antemano! Solamente hace falta escribir `python` o `python3` en una terminal para empezar\n",
    "\n",
    "* También, permite escribir archivos y correrlos. Crear un archivo con extensión `.py` y luego correr `python miarchivo.py` en laterminal"
   ]
  },
  {
   "cell_type": "markdown",
   "id": "502d526e",
   "metadata": {
    "slideshow": {
     "slide_type": "slide"
    }
   },
   "source": [
    "## El Zen de Python"
   ]
  },
  {
   "cell_type": "code",
   "execution_count": 1,
   "id": "0efad1b6",
   "metadata": {
    "execution": {
     "iopub.execute_input": "2021-04-15T23:25:42.861831Z",
     "iopub.status.busy": "2021-04-15T23:25:42.861172Z",
     "iopub.status.idle": "2021-04-15T23:25:42.889443Z",
     "shell.execute_reply": "2021-04-15T23:25:42.888817Z"
    },
    "slideshow": {
     "slide_type": "slide"
    }
   },
   "outputs": [
    {
     "name": "stdout",
     "output_type": "stream",
     "text": [
      "The Zen of Python, by Tim Peters\n",
      "\n",
      "Beautiful is better than ugly.\n",
      "Explicit is better than implicit.\n",
      "Simple is better than complex.\n",
      "Complex is better than complicated.\n",
      "Flat is better than nested.\n",
      "Sparse is better than dense.\n",
      "Readability counts.\n",
      "Special cases aren't special enough to break the rules.\n",
      "Although practicality beats purity.\n",
      "Errors should never pass silently.\n",
      "Unless explicitly silenced.\n",
      "In the face of ambiguity, refuse the temptation to guess.\n",
      "There should be one-- and preferably only one --obvious way to do it.\n",
      "Although that way may not be obvious at first unless you're Dutch.\n",
      "Now is better than never.\n",
      "Although never is often better than *right* now.\n",
      "If the implementation is hard to explain, it's a bad idea.\n",
      "If the implementation is easy to explain, it may be a good idea.\n",
      "Namespaces are one honking great idea -- let's do more of those!\n"
     ]
    }
   ],
   "source": [
    "import this"
   ]
  },
  {
   "cell_type": "markdown",
   "id": "0c72141e",
   "metadata": {
    "slideshow": {
     "slide_type": "slide"
    }
   },
   "source": [
    "## Conocimientos Básicos de Python: Variables y Tipos"
   ]
  },
  {
   "cell_type": "code",
   "execution_count": 2,
   "id": "418d01c8",
   "metadata": {
    "execution": {
     "iopub.execute_input": "2021-04-15T23:25:42.894583Z",
     "iopub.status.busy": "2021-04-15T23:25:42.893485Z",
     "iopub.status.idle": "2021-04-15T23:25:42.896351Z",
     "shell.execute_reply": "2021-04-15T23:25:42.895935Z"
    },
    "slideshow": {
     "slide_type": "slide"
    }
   },
   "outputs": [
    {
     "name": "stdout",
     "output_type": "stream",
     "text": [
      "Hello World!\n"
     ]
    }
   ],
   "source": [
    "# Este es un comentario\n",
    "\n",
    "print(\"Hello World!\")"
   ]
  },
  {
   "cell_type": "markdown",
   "id": "6ad6ca70",
   "metadata": {},
   "source": [
    "Los strings en python puden escribirse tanto con comillas simples (`'`) como comillas dobles (`\"`). Normalmente vemos texto entre comillas triples para escribir _docstrings_, segun la guia de estilo de Python, el PEP8."
   ]
  },
  {
   "cell_type": "code",
   "execution_count": 3,
   "id": "2e6529e6",
   "metadata": {
    "execution": {
     "iopub.execute_input": "2021-04-15T23:25:42.907968Z",
     "iopub.status.busy": "2021-04-15T23:25:42.903732Z",
     "iopub.status.idle": "2021-04-15T23:25:42.910216Z",
     "shell.execute_reply": "2021-04-15T23:25:42.910625Z"
    }
   },
   "outputs": [
    {
     "data": {
      "text/plain": [
       "'Esto es un docstring.\\n'"
      ]
     },
     "execution_count": 1,
     "metadata": {},
     "output_type": "execute_result"
    }
   ],
   "source": [
    "\"\"\"Esto es un docstring.\n",
    "\"\"\""
   ]
  },
  {
   "cell_type": "markdown",
   "id": "d1a71bda",
   "metadata": {},
   "source": [
    "### Declaracion de variables"
   ]
  },
  {
   "cell_type": "code",
   "execution_count": 4,
   "id": "f79cf9e8",
   "metadata": {
    "execution": {
     "iopub.execute_input": "2021-04-15T23:25:42.921512Z",
     "iopub.status.busy": "2021-04-15T23:25:42.920636Z",
     "iopub.status.idle": "2021-04-15T23:25:42.923364Z",
     "shell.execute_reply": "2021-04-15T23:25:42.922122Z"
    }
   },
   "outputs": [
    {
     "name": "stdout",
     "output_type": "stream",
     "text": [
      "Hola\n"
     ]
    }
   ],
   "source": [
    "string = 'Hola'\n",
    "print(string)"
   ]
  },
  {
   "cell_type": "code",
   "execution_count": 5,
   "id": "2a9af170",
   "metadata": {
    "execution": {
     "iopub.execute_input": "2021-04-15T23:25:42.928654Z",
     "iopub.status.busy": "2021-04-15T23:25:42.927268Z",
     "iopub.status.idle": "2021-04-15T23:25:42.930535Z",
     "shell.execute_reply": "2021-04-15T23:25:42.930002Z"
    }
   },
   "outputs": [
    {
     "name": "stdout",
     "output_type": "stream",
     "text": [
      "1\n"
     ]
    }
   ],
   "source": [
    "entero = 1\n",
    "print(entero)"
   ]
  },
  {
   "cell_type": "code",
   "execution_count": 6,
   "id": "b2a66394",
   "metadata": {
    "execution": {
     "iopub.execute_input": "2021-04-15T23:25:42.934977Z",
     "iopub.status.busy": "2021-04-15T23:25:42.934413Z",
     "iopub.status.idle": "2021-04-15T23:25:42.936303Z",
     "shell.execute_reply": "2021-04-15T23:25:42.936730Z"
    }
   },
   "outputs": [
    {
     "name": "stdout",
     "output_type": "stream",
     "text": [
      "1.0\n"
     ]
    }
   ],
   "source": [
    "flotante = 1.0\n",
    "print(flotante)"
   ]
  },
  {
   "cell_type": "code",
   "execution_count": 7,
   "id": "d3a722a6",
   "metadata": {
    "execution": {
     "iopub.execute_input": "2021-04-15T23:25:42.940843Z",
     "iopub.status.busy": "2021-04-15T23:25:42.940267Z",
     "iopub.status.idle": "2021-04-15T23:25:42.942284Z",
     "shell.execute_reply": "2021-04-15T23:25:42.942807Z"
    }
   },
   "outputs": [
    {
     "name": "stdout",
     "output_type": "stream",
     "text": [
      "(1, 1.0)\n"
     ]
    }
   ],
   "source": [
    "tupla = (entero, flotante)\n",
    "print(tupla)"
   ]
  },
  {
   "cell_type": "code",
   "execution_count": 8,
   "id": "b881f949",
   "metadata": {
    "execution": {
     "iopub.execute_input": "2021-04-15T23:25:42.947537Z",
     "iopub.status.busy": "2021-04-15T23:25:42.946898Z",
     "iopub.status.idle": "2021-04-15T23:25:42.948993Z",
     "shell.execute_reply": "2021-04-15T23:25:42.949402Z"
    }
   },
   "outputs": [
    {
     "name": "stdout",
     "output_type": "stream",
     "text": [
      "(1, 1.0, 'Hola')\n"
     ]
    }
   ],
   "source": [
    "nupla = (entero, flotante, string)\n",
    "print(nupla)"
   ]
  },
  {
   "cell_type": "code",
   "execution_count": 9,
   "id": "d1bce925",
   "metadata": {
    "execution": {
     "iopub.execute_input": "2021-04-15T23:25:42.953076Z",
     "iopub.status.busy": "2021-04-15T23:25:42.952481Z",
     "iopub.status.idle": "2021-04-15T23:25:42.955281Z",
     "shell.execute_reply": "2021-04-15T23:25:42.954766Z"
    }
   },
   "outputs": [
    {
     "name": "stdout",
     "output_type": "stream",
     "text": [
      "[1, 1.0, 'Hola']\n"
     ]
    }
   ],
   "source": [
    "lista = [entero, flotante, string]\n",
    "print(lista)"
   ]
  },
  {
   "cell_type": "code",
   "execution_count": 10,
   "id": "d5fdde6f",
   "metadata": {
    "execution": {
     "iopub.execute_input": "2021-04-15T23:25:42.959655Z",
     "iopub.status.busy": "2021-04-15T23:25:42.959126Z",
     "iopub.status.idle": "2021-04-15T23:25:42.960907Z",
     "shell.execute_reply": "2021-04-15T23:25:42.961695Z"
    }
   },
   "outputs": [
    {
     "name": "stdout",
     "output_type": "stream",
     "text": [
      "{'1': (1, 1.0), 50: (1, 1.0, 'Hola'), '3': 1}\n"
     ]
    }
   ],
   "source": [
    "diccionario = {'1': tupla, 50: nupla, '3': entero}\n",
    "print(diccionario)"
   ]
  },
  {
   "cell_type": "code",
   "execution_count": 11,
   "id": "00acf315",
   "metadata": {
    "execution": {
     "iopub.execute_input": "2021-04-15T23:25:42.966163Z",
     "iopub.status.busy": "2021-04-15T23:25:42.965532Z",
     "iopub.status.idle": "2021-04-15T23:25:42.969488Z",
     "shell.execute_reply": "2021-04-15T23:25:42.969015Z"
    }
   },
   "outputs": [
    {
     "name": "stdout",
     "output_type": "stream",
     "text": [
      "{1, 2}\n"
     ]
    }
   ],
   "source": [
    "conjunto = set([1, 2])\n",
    "print(conjunto)"
   ]
  },
  {
   "cell_type": "code",
   "execution_count": 12,
   "id": "f0840749",
   "metadata": {
    "execution": {
     "iopub.execute_input": "2021-04-15T23:25:42.973774Z",
     "iopub.status.busy": "2021-04-15T23:25:42.973145Z",
     "iopub.status.idle": "2021-04-15T23:25:42.975515Z",
     "shell.execute_reply": "2021-04-15T23:25:42.974969Z"
    }
   },
   "outputs": [
    {
     "name": "stdout",
     "output_type": "stream",
     "text": [
      "True\n"
     ]
    }
   ],
   "source": [
    "booleano = True\n",
    "print(booleano)"
   ]
  },
  {
   "cell_type": "code",
   "execution_count": 13,
   "id": "041956e2",
   "metadata": {
    "execution": {
     "iopub.execute_input": "2021-04-15T23:25:42.979000Z",
     "iopub.status.busy": "2021-04-15T23:25:42.978469Z",
     "iopub.status.idle": "2021-04-15T23:25:42.982018Z",
     "shell.execute_reply": "2021-04-15T23:25:42.981264Z"
    }
   },
   "outputs": [
    {
     "name": "stdout",
     "output_type": "stream",
     "text": [
      "None\n"
     ]
    }
   ],
   "source": [
    "nada = None\n",
    "print(nada)"
   ]
  },
  {
   "cell_type": "markdown",
   "id": "c7ea6557",
   "metadata": {},
   "source": [
    "Ojo que las variables pueden cambiar de tipo!"
   ]
  },
  {
   "cell_type": "code",
   "execution_count": 14,
   "id": "a9fcaede",
   "metadata": {
    "execution": {
     "iopub.execute_input": "2021-04-15T23:25:42.986288Z",
     "iopub.status.busy": "2021-04-15T23:25:42.985617Z",
     "iopub.status.idle": "2021-04-15T23:25:42.989961Z",
     "shell.execute_reply": "2021-04-15T23:25:42.989496Z"
    }
   },
   "outputs": [
    {
     "name": "stdout",
     "output_type": "stream",
     "text": [
      "1\n",
      "<class 'int'>\n"
     ]
    }
   ],
   "source": [
    "elemento = 1\n",
    "print(elemento)\n",
    "print(type(elemento))"
   ]
  },
  {
   "cell_type": "code",
   "execution_count": 15,
   "id": "e110ccb9",
   "metadata": {
    "execution": {
     "iopub.execute_input": "2021-04-15T23:25:42.995106Z",
     "iopub.status.busy": "2021-04-15T23:25:42.994548Z",
     "iopub.status.idle": "2021-04-15T23:25:42.996321Z",
     "shell.execute_reply": "2021-04-15T23:25:42.996846Z"
    }
   },
   "outputs": [
    {
     "name": "stdout",
     "output_type": "stream",
     "text": [
      "1\n",
      "<class 'str'>\n"
     ]
    }
   ],
   "source": [
    "elemento = str(1)\n",
    "print(elemento)\n",
    "print(type(elemento))"
   ]
  },
  {
   "cell_type": "code",
   "execution_count": 16,
   "id": "f9141d47",
   "metadata": {
    "execution": {
     "iopub.execute_input": "2021-04-15T23:25:43.002632Z",
     "iopub.status.busy": "2021-04-15T23:25:43.001241Z",
     "iopub.status.idle": "2021-04-15T23:25:43.004492Z",
     "shell.execute_reply": "2021-04-15T23:25:43.003868Z"
    }
   },
   "outputs": [
    {
     "name": "stdout",
     "output_type": "stream",
     "text": [
      "[2]\n",
      "<class 'list'>\n"
     ]
    }
   ],
   "source": [
    "elemento = [2]\n",
    "\n",
    "print(elemento)\n",
    "print(type(elemento))"
   ]
  },
  {
   "cell_type": "markdown",
   "id": "f80418b9",
   "metadata": {},
   "source": [
    "### Tipos basicos"
   ]
  },
  {
   "cell_type": "markdown",
   "id": "d73f3496",
   "metadata": {
    "slideshow": {
     "slide_type": "slide"
    }
   },
   "source": [
    "#### Listas de Python"
   ]
  },
  {
   "cell_type": "code",
   "execution_count": 17,
   "id": "36f8e2ae",
   "metadata": {
    "execution": {
     "iopub.execute_input": "2021-04-15T23:25:43.012054Z",
     "iopub.status.busy": "2021-04-15T23:25:43.010786Z",
     "iopub.status.idle": "2021-04-15T23:25:43.014332Z",
     "shell.execute_reply": "2021-04-15T23:25:43.013776Z"
    }
   },
   "outputs": [
    {
     "data": {
      "text/plain": [
       "[]"
      ]
     },
     "execution_count": 1,
     "metadata": {},
     "output_type": "execute_result"
    }
   ],
   "source": [
    "lista = list()\n",
    "lista"
   ]
  },
  {
   "cell_type": "code",
   "execution_count": 18,
   "id": "1d5f9af7",
   "metadata": {
    "execution": {
     "iopub.execute_input": "2021-04-15T23:25:43.018818Z",
     "iopub.status.busy": "2021-04-15T23:25:43.018256Z",
     "iopub.status.idle": "2021-04-15T23:25:43.020999Z",
     "shell.execute_reply": "2021-04-15T23:25:43.021446Z"
    },
    "slideshow": {
     "slide_type": "slide"
    }
   },
   "outputs": [
    {
     "data": {
      "text/plain": [
       "[]"
      ]
     },
     "execution_count": 1,
     "metadata": {},
     "output_type": "execute_result"
    }
   ],
   "source": [
    "lista = []\n",
    "lista"
   ]
  },
  {
   "cell_type": "code",
   "execution_count": 19,
   "id": "d2c1f62a",
   "metadata": {
    "execution": {
     "iopub.execute_input": "2021-04-15T23:25:43.032868Z",
     "iopub.status.busy": "2021-04-15T23:25:43.031634Z",
     "iopub.status.idle": "2021-04-15T23:25:43.035458Z",
     "shell.execute_reply": "2021-04-15T23:25:43.034946Z"
    },
    "slideshow": {
     "slide_type": "slide"
    }
   },
   "outputs": [
    {
     "data": {
      "text/plain": [
       "[1, 2, 3, 4]"
      ]
     },
     "execution_count": 1,
     "metadata": {},
     "output_type": "execute_result"
    }
   ],
   "source": [
    "lista = [1, 2, 3, 4]\n",
    "lista"
   ]
  },
  {
   "cell_type": "code",
   "execution_count": 20,
   "id": "a8d25b63",
   "metadata": {
    "execution": {
     "iopub.execute_input": "2021-04-15T23:25:43.044070Z",
     "iopub.status.busy": "2021-04-15T23:25:43.042652Z",
     "iopub.status.idle": "2021-04-15T23:25:43.046258Z",
     "shell.execute_reply": "2021-04-15T23:25:43.045733Z"
    },
    "slideshow": {
     "slide_type": "slide"
    }
   },
   "outputs": [
    {
     "data": {
      "text/plain": [
       "[1, 2, 3, 4, 1, 'dos', 3.0]"
      ]
     },
     "execution_count": 1,
     "metadata": {},
     "output_type": "execute_result"
    }
   ],
   "source": [
    "lista.append(1)  # Inserto un 1 al final\n",
    "lista.append(\"dos\")  # Inserto un \"dos\" al final\n",
    "lista.append(3.0)  # Inserto un 3.0 al final\n",
    "lista"
   ]
  },
  {
   "cell_type": "code",
   "execution_count": 21,
   "id": "1df5a952",
   "metadata": {
    "execution": {
     "iopub.execute_input": "2021-04-15T23:25:43.051677Z",
     "iopub.status.busy": "2021-04-15T23:25:43.050268Z",
     "iopub.status.idle": "2021-04-15T23:25:43.053923Z",
     "shell.execute_reply": "2021-04-15T23:25:43.053335Z"
    }
   },
   "outputs": [
    {
     "name": "stdout",
     "output_type": "stream",
     "text": [
      "[1, 2, 10, 3, 4, 1, 'dos', 3.0]\n"
     ]
    }
   ],
   "source": [
    "lista.insert(2, 10)  # Inserto en posicion 2 un 10\n",
    "print(lista)"
   ]
  },
  {
   "cell_type": "code",
   "execution_count": 22,
   "id": "3272b7e1",
   "metadata": {
    "execution": {
     "iopub.execute_input": "2021-04-15T23:25:43.061439Z",
     "iopub.status.busy": "2021-04-15T23:25:43.060068Z",
     "iopub.status.idle": "2021-04-15T23:25:43.063459Z",
     "shell.execute_reply": "2021-04-15T23:25:43.064053Z"
    }
   },
   "outputs": [
    {
     "data": {
      "text/plain": [
       "8"
      ]
     },
     "execution_count": 1,
     "metadata": {},
     "output_type": "execute_result"
    }
   ],
   "source": [
    "len(lista)"
   ]
  },
  {
   "cell_type": "code",
   "execution_count": 23,
   "id": "95a7c9de",
   "metadata": {
    "execution": {
     "iopub.execute_input": "2021-04-15T23:25:43.069455Z",
     "iopub.status.busy": "2021-04-15T23:25:43.068303Z",
     "iopub.status.idle": "2021-04-15T23:25:43.071533Z",
     "shell.execute_reply": "2021-04-15T23:25:43.072059Z"
    }
   },
   "outputs": [
    {
     "data": {
      "text/plain": [
       "3.0"
      ]
     },
     "execution_count": 1,
     "metadata": {},
     "output_type": "execute_result"
    }
   ],
   "source": [
    "lista.pop()"
   ]
  },
  {
   "cell_type": "code",
   "execution_count": 24,
   "id": "501b8863",
   "metadata": {
    "execution": {
     "iopub.execute_input": "2021-04-15T23:25:43.077492Z",
     "iopub.status.busy": "2021-04-15T23:25:43.076438Z",
     "iopub.status.idle": "2021-04-15T23:25:43.079608Z",
     "shell.execute_reply": "2021-04-15T23:25:43.080163Z"
    }
   },
   "outputs": [
    {
     "data": {
      "text/plain": [
       "[1, 2, 10, 3, 4, 1, 'dos']"
      ]
     },
     "execution_count": 1,
     "metadata": {},
     "output_type": "execute_result"
    }
   ],
   "source": [
    "lista"
   ]
  },
  {
   "cell_type": "code",
   "execution_count": 25,
   "id": "93bfac48",
   "metadata": {
    "execution": {
     "iopub.execute_input": "2021-04-15T23:25:43.084086Z",
     "iopub.status.busy": "2021-04-15T23:25:43.083527Z",
     "iopub.status.idle": "2021-04-15T23:25:43.086658Z",
     "shell.execute_reply": "2021-04-15T23:25:43.085912Z"
    }
   },
   "outputs": [
    {
     "data": {
      "text/plain": [
       "2"
      ]
     },
     "execution_count": 1,
     "metadata": {},
     "output_type": "execute_result"
    }
   ],
   "source": [
    "lista.index(10)"
   ]
  },
  {
   "cell_type": "code",
   "execution_count": 26,
   "id": "2d5da7ee",
   "metadata": {
    "execution": {
     "iopub.execute_input": "2021-04-15T23:25:43.091369Z",
     "iopub.status.busy": "2021-04-15T23:25:43.090760Z",
     "iopub.status.idle": "2021-04-15T23:25:43.092798Z",
     "shell.execute_reply": "2021-04-15T23:25:43.093366Z"
    }
   },
   "outputs": [
    {
     "data": {
      "text/plain": [
       "[1, 2, 3, 4, 1, 'dos']"
      ]
     },
     "execution_count": 1,
     "metadata": {},
     "output_type": "execute_result"
    }
   ],
   "source": [
    "lista.remove(10)\n",
    "lista"
   ]
  },
  {
   "cell_type": "code",
   "execution_count": 27,
   "id": "778949e5",
   "metadata": {
    "execution": {
     "iopub.execute_input": "2021-04-15T23:25:43.097244Z",
     "iopub.status.busy": "2021-04-15T23:25:43.096515Z",
     "iopub.status.idle": "2021-04-15T23:25:43.158126Z",
     "shell.execute_reply": "2021-04-15T23:25:43.158641Z"
    },
    "tags": [
     "raises-exception"
    ]
   },
   "outputs": [
    {
     "name": "stdout",
     "output_type": "stream",
     "text": [
      "1\n",
      "2\n",
      "2\n",
      "3\n",
      "3\n",
      "4\n",
      "4\n",
      "5\n",
      "1\n",
      "2\n",
      "dos\n"
     ]
    },
    {
     "ename": "TypeError",
     "evalue": "can only concatenate str (not \"int\") to str",
     "output_type": "error",
     "traceback": [
      "\u001b[0;31m---------------------------------------------------------------------------\u001b[0m",
      "\u001b[0;31mTypeError\u001b[0m                                 Traceback (most recent call last)",
      "\u001b[0;32m<ipython-input-1-41b56d5cf080>\u001b[0m in \u001b[0;36m<module>\u001b[0;34m\u001b[0m\n\u001b[1;32m      1\u001b[0m \u001b[0;32mfor\u001b[0m \u001b[0melemento\u001b[0m \u001b[0;32min\u001b[0m \u001b[0mlista\u001b[0m\u001b[0;34m:\u001b[0m\u001b[0;34m\u001b[0m\u001b[0;34m\u001b[0m\u001b[0m\n\u001b[1;32m      2\u001b[0m     \u001b[0mprint\u001b[0m\u001b[0;34m(\u001b[0m\u001b[0melemento\u001b[0m\u001b[0;34m)\u001b[0m\u001b[0;34m\u001b[0m\u001b[0;34m\u001b[0m\u001b[0m\n\u001b[0;32m----> 3\u001b[0;31m     \u001b[0mprint\u001b[0m\u001b[0;34m(\u001b[0m\u001b[0melemento\u001b[0m \u001b[0;34m+\u001b[0m \u001b[0;36m1\u001b[0m\u001b[0;34m)\u001b[0m\u001b[0;34m\u001b[0m\u001b[0;34m\u001b[0m\u001b[0m\n\u001b[0m",
      "\u001b[0;31mTypeError\u001b[0m: can only concatenate str (not \"int\") to str"
     ]
    }
   ],
   "source": [
    "for elemento in lista:\n",
    "    print(elemento)\n",
    "    print(elemento + 1)"
   ]
  },
  {
   "cell_type": "code",
   "execution_count": 28,
   "id": "4c1b55c0",
   "metadata": {
    "execution": {
     "iopub.execute_input": "2021-04-15T23:25:43.164163Z",
     "iopub.status.busy": "2021-04-15T23:25:43.163052Z",
     "iopub.status.idle": "2021-04-15T23:25:43.166764Z",
     "shell.execute_reply": "2021-04-15T23:25:43.167337Z"
    }
   },
   "outputs": [
    {
     "data": {
      "text/plain": [
       "[1, 2, 3, 4, 1, 'dos']"
      ]
     },
     "execution_count": 1,
     "metadata": {},
     "output_type": "execute_result"
    }
   ],
   "source": [
    "lista"
   ]
  },
  {
   "cell_type": "code",
   "execution_count": 29,
   "id": "f3d66ea5",
   "metadata": {
    "execution": {
     "iopub.execute_input": "2021-04-15T23:25:43.173580Z",
     "iopub.status.busy": "2021-04-15T23:25:43.171975Z",
     "iopub.status.idle": "2021-04-15T23:25:43.175407Z",
     "shell.execute_reply": "2021-04-15T23:25:43.174915Z"
    }
   },
   "outputs": [
    {
     "name": "stdout",
     "output_type": "stream",
     "text": [
      "0-ésimo elemento: 1\n",
      "1-ésimo elemento: 2\n",
      "2-ésimo elemento: 3\n",
      "3-ésimo elemento: 4\n",
      "4-ésimo elemento: 1\n",
      "5-ésimo elemento: dos\n"
     ]
    }
   ],
   "source": [
    "for i, elemento in enumerate(lista):\n",
    "    print(f\"{i}-ésimo elemento: {elemento}\")"
   ]
  },
  {
   "cell_type": "code",
   "execution_count": 30,
   "id": "94ee36c8",
   "metadata": {
    "execution": {
     "iopub.execute_input": "2021-04-15T23:25:43.182195Z",
     "iopub.status.busy": "2021-04-15T23:25:43.181653Z",
     "iopub.status.idle": "2021-04-15T23:25:43.184365Z",
     "shell.execute_reply": "2021-04-15T23:25:43.184858Z"
    },
    "tags": [
     "raises-exception"
    ]
   },
   "outputs": [
    {
     "ename": "TypeError",
     "evalue": "'<' not supported between instances of 'str' and 'int'",
     "output_type": "error",
     "traceback": [
      "\u001b[0;31m---------------------------------------------------------------------------\u001b[0m",
      "\u001b[0;31mTypeError\u001b[0m                                 Traceback (most recent call last)",
      "\u001b[0;32m<ipython-input-1-06c3f264dc7a>\u001b[0m in \u001b[0;36m<module>\u001b[0;34m\u001b[0m\n\u001b[0;32m----> 1\u001b[0;31m \u001b[0msorted\u001b[0m\u001b[0;34m(\u001b[0m\u001b[0mlista\u001b[0m\u001b[0;34m)\u001b[0m\u001b[0;34m\u001b[0m\u001b[0;34m\u001b[0m\u001b[0m\n\u001b[0m",
      "\u001b[0;31mTypeError\u001b[0m: '<' not supported between instances of 'str' and 'int'"
     ]
    }
   ],
   "source": [
    "sorted(lista)"
   ]
  },
  {
   "cell_type": "code",
   "execution_count": 31,
   "id": "2a6d84e8",
   "metadata": {
    "execution": {
     "iopub.execute_input": "2021-04-15T23:25:43.189287Z",
     "iopub.status.busy": "2021-04-15T23:25:43.187988Z",
     "iopub.status.idle": "2021-04-15T23:25:43.189911Z",
     "shell.execute_reply": "2021-04-15T23:25:43.190374Z"
    }
   },
   "outputs": [],
   "source": [
    "lista.remove(\"dos\")"
   ]
  },
  {
   "cell_type": "code",
   "execution_count": 32,
   "id": "de595cd2",
   "metadata": {
    "execution": {
     "iopub.execute_input": "2021-04-15T23:25:43.195035Z",
     "iopub.status.busy": "2021-04-15T23:25:43.194434Z",
     "iopub.status.idle": "2021-04-15T23:25:43.197595Z",
     "shell.execute_reply": "2021-04-15T23:25:43.198033Z"
    }
   },
   "outputs": [
    {
     "data": {
      "text/plain": [
       "[1, 1, 2, 3, 4]"
      ]
     },
     "execution_count": 1,
     "metadata": {},
     "output_type": "execute_result"
    }
   ],
   "source": [
    "sorted(lista)"
   ]
  },
  {
   "cell_type": "code",
   "execution_count": 33,
   "id": "e561abd7",
   "metadata": {
    "execution": {
     "iopub.execute_input": "2021-04-15T23:25:43.202850Z",
     "iopub.status.busy": "2021-04-15T23:25:43.202056Z",
     "iopub.status.idle": "2021-04-15T23:25:43.204741Z",
     "shell.execute_reply": "2021-04-15T23:25:43.205184Z"
    }
   },
   "outputs": [
    {
     "data": {
      "text/plain": [
       "[1, 1, 2, 3, 4]"
      ]
     },
     "execution_count": 1,
     "metadata": {},
     "output_type": "execute_result"
    }
   ],
   "source": [
    "lista.sort()\n",
    "lista"
   ]
  },
  {
   "cell_type": "markdown",
   "id": "fa16f551",
   "metadata": {
    "slideshow": {
     "slide_type": "slide"
    }
   },
   "source": [
    "#### Tuplas de Python\n",
    "\n",
    "Las tuplas son inmutables. No se pueden agregar elementos luego de creadas."
   ]
  },
  {
   "cell_type": "code",
   "execution_count": 34,
   "id": "31c5c224",
   "metadata": {
    "execution": {
     "iopub.execute_input": "2021-04-15T23:25:43.211379Z",
     "iopub.status.busy": "2021-04-15T23:25:43.208648Z",
     "iopub.status.idle": "2021-04-15T23:25:43.215252Z",
     "shell.execute_reply": "2021-04-15T23:25:43.215686Z"
    },
    "slideshow": {
     "slide_type": "slide"
    },
    "tags": [
     "raises-exception"
    ]
   },
   "outputs": [
    {
     "name": "stdout",
     "output_type": "stream",
     "text": [
      "(1, 2)\n",
      "1\n",
      "2\n"
     ]
    },
    {
     "ename": "TypeError",
     "evalue": "'tuple' object does not support item assignment",
     "output_type": "error",
     "traceback": [
      "\u001b[0;31m---------------------------------------------------------------------------\u001b[0m",
      "\u001b[0;31mTypeError\u001b[0m                                 Traceback (most recent call last)",
      "\u001b[0;32m<ipython-input-1-80ca8b547dd6>\u001b[0m in \u001b[0;36m<module>\u001b[0;34m\u001b[0m\n\u001b[1;32m      5\u001b[0m \u001b[0mprint\u001b[0m\u001b[0;34m(\u001b[0m\u001b[0mtupla\u001b[0m\u001b[0;34m[\u001b[0m\u001b[0;36m1\u001b[0m\u001b[0;34m]\u001b[0m\u001b[0;34m)\u001b[0m\u001b[0;34m\u001b[0m\u001b[0;34m\u001b[0m\u001b[0m\n\u001b[1;32m      6\u001b[0m \u001b[0;34m\u001b[0m\u001b[0m\n\u001b[0;32m----> 7\u001b[0;31m \u001b[0mtupla\u001b[0m\u001b[0;34m[\u001b[0m\u001b[0;36m1\u001b[0m\u001b[0;34m]\u001b[0m \u001b[0;34m=\u001b[0m \u001b[0;36m3\u001b[0m  \u001b[0;31m# Falla. No se puede mutar\u001b[0m\u001b[0;34m\u001b[0m\u001b[0;34m\u001b[0m\u001b[0m\n\u001b[0m",
      "\u001b[0;31mTypeError\u001b[0m: 'tuple' object does not support item assignment"
     ]
    }
   ],
   "source": [
    "tupla = (1, 2)\n",
    "\n",
    "print(tupla)\n",
    "print(tupla[0])\n",
    "print(tupla[1])\n",
    "\n",
    "tupla[1] = 3  # Falla. No se puede mutar"
   ]
  },
  {
   "cell_type": "code",
   "execution_count": 35,
   "id": "d707e302",
   "metadata": {
    "execution": {
     "iopub.execute_input": "2021-04-15T23:25:43.220219Z",
     "iopub.status.busy": "2021-04-15T23:25:43.219682Z",
     "iopub.status.idle": "2021-04-15T23:25:43.222202Z",
     "shell.execute_reply": "2021-04-15T23:25:43.222660Z"
    }
   },
   "outputs": [
    {
     "data": {
      "text/plain": [
       "[1, 2]"
      ]
     },
     "execution_count": 1,
     "metadata": {},
     "output_type": "execute_result"
    }
   ],
   "source": [
    "l = [1, 2]\n",
    "l"
   ]
  },
  {
   "cell_type": "code",
   "execution_count": 36,
   "id": "3b5b65f9",
   "metadata": {
    "execution": {
     "iopub.execute_input": "2021-04-15T23:25:43.227125Z",
     "iopub.status.busy": "2021-04-15T23:25:43.226357Z",
     "iopub.status.idle": "2021-04-15T23:25:43.229719Z",
     "shell.execute_reply": "2021-04-15T23:25:43.230211Z"
    }
   },
   "outputs": [
    {
     "data": {
      "text/plain": [
       "[1, 3]"
      ]
     },
     "execution_count": 1,
     "metadata": {},
     "output_type": "execute_result"
    }
   ],
   "source": [
    "l[1] = 3\n",
    "l"
   ]
  },
  {
   "cell_type": "markdown",
   "id": "a21f67ef",
   "metadata": {
    "slideshow": {
     "slide_type": "slide"
    }
   },
   "source": [
    "#### Diferencia entre lista y tupla\n",
    "Las listas se caracterizan por ser mutables, es decir, se puede cambiar su contenido en tiempo de ejecución, mientras que las tuplas son inmutables ya que no es posible modificar el contenido una vez creada."
   ]
  },
  {
   "cell_type": "markdown",
   "id": "2ca77be1",
   "metadata": {},
   "source": [
    "#### Slices\n",
    "\n",
    "**Valen para listas, tuplas o strings (_segmentos_)**"
   ]
  },
  {
   "cell_type": "code",
   "execution_count": 37,
   "id": "774408ab",
   "metadata": {
    "execution": {
     "iopub.execute_input": "2021-04-15T23:25:43.235082Z",
     "iopub.status.busy": "2021-04-15T23:25:43.233771Z",
     "iopub.status.idle": "2021-04-15T23:25:43.235713Z",
     "shell.execute_reply": "2021-04-15T23:25:43.236180Z"
    }
   },
   "outputs": [],
   "source": [
    "numeros = [0, 1, 2, 3, 4, 5, 6, 7, 8, 9, 10]"
   ]
  },
  {
   "cell_type": "code",
   "execution_count": 38,
   "id": "2d7951a9",
   "metadata": {
    "execution": {
     "iopub.execute_input": "2021-04-15T23:25:43.240974Z",
     "iopub.status.busy": "2021-04-15T23:25:43.239814Z",
     "iopub.status.idle": "2021-04-15T23:25:43.244065Z",
     "shell.execute_reply": "2021-04-15T23:25:43.243476Z"
    }
   },
   "outputs": [
    {
     "name": "stdout",
     "output_type": "stream",
     "text": [
      "[0, 1, 2, 3, 4, 5, 6, 7, 8, 9, 10]\n"
     ]
    }
   ],
   "source": [
    "print(numeros)"
   ]
  },
  {
   "cell_type": "code",
   "execution_count": 39,
   "id": "d23d5154",
   "metadata": {
    "execution": {
     "iopub.execute_input": "2021-04-15T23:25:43.248771Z",
     "iopub.status.busy": "2021-04-15T23:25:43.248166Z",
     "iopub.status.idle": "2021-04-15T23:25:43.250147Z",
     "shell.execute_reply": "2021-04-15T23:25:43.250608Z"
    }
   },
   "outputs": [
    {
     "name": "stdout",
     "output_type": "stream",
     "text": [
      "2\n"
     ]
    }
   ],
   "source": [
    "print(numeros[2])  # Imprimo elemento en la posición 2"
   ]
  },
  {
   "cell_type": "code",
   "execution_count": 40,
   "id": "d9cb1867",
   "metadata": {
    "execution": {
     "iopub.execute_input": "2021-04-15T23:25:43.254368Z",
     "iopub.status.busy": "2021-04-15T23:25:43.253840Z",
     "iopub.status.idle": "2021-04-15T23:25:43.256573Z",
     "shell.execute_reply": "2021-04-15T23:25:43.257035Z"
    }
   },
   "outputs": [
    {
     "data": {
      "text/plain": [
       "10"
      ]
     },
     "execution_count": 1,
     "metadata": {},
     "output_type": "execute_result"
    }
   ],
   "source": [
    "numeros[len(numeros) - 1]"
   ]
  },
  {
   "cell_type": "code",
   "execution_count": 41,
   "id": "20943fa6",
   "metadata": {
    "execution": {
     "iopub.execute_input": "2021-04-15T23:25:43.262371Z",
     "iopub.status.busy": "2021-04-15T23:25:43.261526Z",
     "iopub.status.idle": "2021-04-15T23:25:43.263679Z",
     "shell.execute_reply": "2021-04-15T23:25:43.264163Z"
    },
    "lines_to_next_cell": 2
   },
   "outputs": [
    {
     "name": "stdout",
     "output_type": "stream",
     "text": [
      "10\n"
     ]
    }
   ],
   "source": [
    "print(numeros[-1])  # # Imprimo elemento en la última posición"
   ]
  },
  {
   "cell_type": "code",
   "execution_count": 42,
   "id": "828deaed",
   "metadata": {
    "execution": {
     "iopub.execute_input": "2021-04-15T23:25:43.267767Z",
     "iopub.status.busy": "2021-04-15T23:25:43.267231Z",
     "iopub.status.idle": "2021-04-15T23:25:43.269701Z",
     "shell.execute_reply": "2021-04-15T23:25:43.270249Z"
    },
    "lines_to_next_cell": 2
   },
   "outputs": [
    {
     "data": {
      "text/plain": [
       "9"
      ]
     },
     "execution_count": 1,
     "metadata": {},
     "output_type": "execute_result"
    }
   ],
   "source": [
    "numeros[-2]"
   ]
  },
  {
   "cell_type": "code",
   "execution_count": 43,
   "id": "ccdf920f",
   "metadata": {
    "execution": {
     "iopub.execute_input": "2021-04-15T23:25:43.276014Z",
     "iopub.status.busy": "2021-04-15T23:25:43.273291Z",
     "iopub.status.idle": "2021-04-15T23:25:43.277903Z",
     "shell.execute_reply": "2021-04-15T23:25:43.277428Z"
    }
   },
   "outputs": [
    {
     "name": "stdout",
     "output_type": "stream",
     "text": [
      "[0, 1, 2]\n"
     ]
    }
   ],
   "source": [
    "print(numeros[0:3])  # Imprimo de la pos 0 a la pos 2"
   ]
  },
  {
   "cell_type": "code",
   "execution_count": 44,
   "id": "b4adf7de",
   "metadata": {
    "execution": {
     "iopub.execute_input": "2021-04-15T23:25:43.281753Z",
     "iopub.status.busy": "2021-04-15T23:25:43.281176Z",
     "iopub.status.idle": "2021-04-15T23:25:43.283468Z",
     "shell.execute_reply": "2021-04-15T23:25:43.283996Z"
    }
   },
   "outputs": [
    {
     "name": "stdout",
     "output_type": "stream",
     "text": [
      "[7, 8]\n"
     ]
    }
   ],
   "source": [
    "print(numeros[-4:-2])"
   ]
  },
  {
   "cell_type": "code",
   "execution_count": 45,
   "id": "100f6f1d",
   "metadata": {
    "execution": {
     "iopub.execute_input": "2021-04-15T23:25:43.287821Z",
     "iopub.status.busy": "2021-04-15T23:25:43.287236Z",
     "iopub.status.idle": "2021-04-15T23:25:43.289581Z",
     "shell.execute_reply": "2021-04-15T23:25:43.290201Z"
    }
   },
   "outputs": [
    {
     "name": "stdout",
     "output_type": "stream",
     "text": [
      "[0, 1, 2, 3, 4, 5, 6, 7, 8, 9, 10]\n"
     ]
    }
   ],
   "source": [
    "print(numeros[0:80])"
   ]
  },
  {
   "cell_type": "code",
   "execution_count": 46,
   "id": "b352f418",
   "metadata": {
    "execution": {
     "iopub.execute_input": "2021-04-15T23:25:43.294134Z",
     "iopub.status.busy": "2021-04-15T23:25:43.293599Z",
     "iopub.status.idle": "2021-04-15T23:25:43.295878Z",
     "shell.execute_reply": "2021-04-15T23:25:43.296427Z"
    }
   },
   "outputs": [
    {
     "name": "stdout",
     "output_type": "stream",
     "text": [
      "[0, 1, 2]\n"
     ]
    }
   ],
   "source": [
    "print(numeros[:3])"
   ]
  },
  {
   "cell_type": "code",
   "execution_count": 47,
   "id": "4a300bdd",
   "metadata": {
    "execution": {
     "iopub.execute_input": "2021-04-15T23:25:43.300163Z",
     "iopub.status.busy": "2021-04-15T23:25:43.299620Z",
     "iopub.status.idle": "2021-04-15T23:25:43.301706Z",
     "shell.execute_reply": "2021-04-15T23:25:43.302151Z"
    }
   },
   "outputs": [
    {
     "name": "stdout",
     "output_type": "stream",
     "text": [
      "[3, 4, 5, 6, 7, 8, 9, 10]\n"
     ]
    }
   ],
   "source": [
    "print(numeros[3:])"
   ]
  },
  {
   "cell_type": "code",
   "execution_count": 48,
   "id": "c7cc535c",
   "metadata": {
    "execution": {
     "iopub.execute_input": "2021-04-15T23:25:43.305962Z",
     "iopub.status.busy": "2021-04-15T23:25:43.305391Z",
     "iopub.status.idle": "2021-04-15T23:25:43.308336Z",
     "shell.execute_reply": "2021-04-15T23:25:43.307789Z"
    }
   },
   "outputs": [
    {
     "name": "stdout",
     "output_type": "stream",
     "text": [
      "[0, 2, 4, 6, 8]\n"
     ]
    }
   ],
   "source": [
    "print(numeros[0:10:2])"
   ]
  },
  {
   "cell_type": "markdown",
   "id": "975fb391",
   "metadata": {},
   "source": [
    "```python\n",
    "lista[<inicio>:<final>:<step>]\n",
    "```"
   ]
  },
  {
   "cell_type": "code",
   "execution_count": 49,
   "id": "44088ef6",
   "metadata": {
    "execution": {
     "iopub.execute_input": "2021-04-15T23:25:43.312160Z",
     "iopub.status.busy": "2021-04-15T23:25:43.311599Z",
     "iopub.status.idle": "2021-04-15T23:25:43.314487Z",
     "shell.execute_reply": "2021-04-15T23:25:43.315037Z"
    },
    "lines_to_next_cell": 2
   },
   "outputs": [
    {
     "data": {
      "text/plain": [
       "[1, 2, 3, 4]"
      ]
     },
     "execution_count": 1,
     "metadata": {},
     "output_type": "execute_result"
    }
   ],
   "source": [
    "l1 = [1, 2]\n",
    "l2 = [3, 4]\n",
    "l1 + l2"
   ]
  },
  {
   "cell_type": "code",
   "execution_count": 50,
   "id": "8e0947ec",
   "metadata": {
    "execution": {
     "iopub.execute_input": "2021-04-15T23:25:43.319036Z",
     "iopub.status.busy": "2021-04-15T23:25:43.318462Z",
     "iopub.status.idle": "2021-04-15T23:25:43.322579Z",
     "shell.execute_reply": "2021-04-15T23:25:43.323068Z"
    }
   },
   "outputs": [
    {
     "name": "stdout",
     "output_type": "stream",
     "text": [
      "[0, 1, 2, 3, 4, 5, 6, 'siete', 8, 9, 10]\n"
     ]
    }
   ],
   "source": [
    "numeros[7] = 'siete'  # Las listas se pueden mutar\n",
    "print(numeros)"
   ]
  },
  {
   "cell_type": "code",
   "execution_count": 51,
   "id": "f1da3f99",
   "metadata": {
    "execution": {
     "iopub.execute_input": "2021-04-15T23:25:43.327550Z",
     "iopub.status.busy": "2021-04-15T23:25:43.326974Z",
     "iopub.status.idle": "2021-04-15T23:25:43.328835Z",
     "shell.execute_reply": "2021-04-15T23:25:43.329277Z"
    }
   },
   "outputs": [
    {
     "name": "stdout",
     "output_type": "stream",
     "text": [
      "[10, 9, 8, 'siete', 6, 5, 4, 3, 2, 1, 0]\n"
     ]
    }
   ],
   "source": [
    "numeros = numeros[::-1]\n",
    "print(numeros)"
   ]
  },
  {
   "cell_type": "code",
   "execution_count": 52,
   "id": "7df5b859",
   "metadata": {
    "execution": {
     "iopub.execute_input": "2021-04-15T23:25:43.332427Z",
     "iopub.status.busy": "2021-04-15T23:25:43.331898Z",
     "iopub.status.idle": "2021-04-15T23:25:43.338005Z",
     "shell.execute_reply": "2021-04-15T23:25:43.338450Z"
    },
    "tags": [
     "raises-exception"
    ]
   },
   "outputs": [
    {
     "ename": "IndexError",
     "evalue": "list index out of range",
     "output_type": "error",
     "traceback": [
      "\u001b[0;31m---------------------------------------------------------------------------\u001b[0m",
      "\u001b[0;31mIndexError\u001b[0m                                Traceback (most recent call last)",
      "\u001b[0;32m<ipython-input-1-0ef91dd29a9b>\u001b[0m in \u001b[0;36m<module>\u001b[0;34m\u001b[0m\n\u001b[0;32m----> 1\u001b[0;31m \u001b[0mprint\u001b[0m\u001b[0;34m(\u001b[0m\u001b[0mnumeros\u001b[0m\u001b[0;34m[\u001b[0m\u001b[0;36m15\u001b[0m\u001b[0;34m]\u001b[0m\u001b[0;34m)\u001b[0m  \u001b[0;31m# Falla. No se puede acceder a una posición inexistente\u001b[0m\u001b[0;34m\u001b[0m\u001b[0;34m\u001b[0m\u001b[0m\n\u001b[0m",
      "\u001b[0;31mIndexError\u001b[0m: list index out of range"
     ]
    }
   ],
   "source": [
    "print(numeros[15])  # Falla. No se puede acceder a una posición inexistente"
   ]
  },
  {
   "cell_type": "code",
   "execution_count": 53,
   "id": "f362d812",
   "metadata": {
    "execution": {
     "iopub.execute_input": "2021-04-15T23:25:43.345561Z",
     "iopub.status.busy": "2021-04-15T23:25:43.344119Z",
     "iopub.status.idle": "2021-04-15T23:25:43.347406Z",
     "shell.execute_reply": "2021-04-15T23:25:43.348200Z"
    }
   },
   "outputs": [
    {
     "name": "stdout",
     "output_type": "stream",
     "text": [
      "palabra\n",
      "a\n",
      "pal\n",
      "abra\n"
     ]
    }
   ],
   "source": [
    "palabra = 'palabra'\n",
    "print(palabra)\n",
    "print(palabra[3])\n",
    "print(palabra[:3])\n",
    "print(palabra[3:])"
   ]
  },
  {
   "cell_type": "code",
   "execution_count": 54,
   "id": "97c54360",
   "metadata": {
    "execution": {
     "iopub.execute_input": "2021-04-15T23:25:43.354668Z",
     "iopub.status.busy": "2021-04-15T23:25:43.353983Z",
     "iopub.status.idle": "2021-04-15T23:25:43.356419Z",
     "shell.execute_reply": "2021-04-15T23:25:43.355251Z"
    }
   },
   "outputs": [
    {
     "name": "stdout",
     "output_type": "stream",
     "text": [
      "(0, 1, 2, 3, 4)\n",
      "(0, 1)\n",
      "(2, 3, 4)\n"
     ]
    }
   ],
   "source": [
    "tupla = (0, 1, 2, 3, 4)\n",
    "\n",
    "print(tupla)\n",
    "print(tupla[:2])\n",
    "print(tupla[2:])"
   ]
  },
  {
   "cell_type": "markdown",
   "id": "cc79e0d7",
   "metadata": {
    "slideshow": {
     "slide_type": "slide"
    }
   },
   "source": [
    "#### Diccionarios de Python\n",
    "\n",
    "Son como hashmaps, las claves deben ser inmutables para que no pierda sentido el diccionario. Si se pudieran modificar, se podrían cambiar las claves y generaría conflictos.\n",
    "\n",
    "Tipos mutables:\n",
    "- Listas\n",
    "- Diccionarios\n",
    "- Sets\n",
    "\n",
    "Tipos inmutables:\n",
    "- Int\n",
    "- Float\n",
    "- String\n",
    "- Tuplas\n"
   ]
  },
  {
   "cell_type": "code",
   "execution_count": 55,
   "id": "a9b7fbff",
   "metadata": {
    "execution": {
     "iopub.execute_input": "2021-04-15T23:25:43.360052Z",
     "iopub.status.busy": "2021-04-15T23:25:43.359535Z",
     "iopub.status.idle": "2021-04-15T23:25:43.362623Z",
     "shell.execute_reply": "2021-04-15T23:25:43.362163Z"
    },
    "slideshow": {
     "slide_type": "slide"
    }
   },
   "outputs": [
    {
     "data": {
      "text/plain": [
       "{}"
      ]
     },
     "execution_count": 1,
     "metadata": {},
     "output_type": "execute_result"
    }
   ],
   "source": [
    "diccionario = {}\n",
    "diccionario"
   ]
  },
  {
   "cell_type": "code",
   "execution_count": 56,
   "id": "442a8cdf",
   "metadata": {
    "execution": {
     "iopub.execute_input": "2021-04-15T23:25:43.366368Z",
     "iopub.status.busy": "2021-04-15T23:25:43.365827Z",
     "iopub.status.idle": "2021-04-15T23:25:43.368817Z",
     "shell.execute_reply": "2021-04-15T23:25:43.369253Z"
    }
   },
   "outputs": [
    {
     "data": {
      "text/plain": [
       "{}"
      ]
     },
     "execution_count": 1,
     "metadata": {},
     "output_type": "execute_result"
    }
   ],
   "source": [
    "diccionario = dict()\n",
    "diccionario"
   ]
  },
  {
   "cell_type": "code",
   "execution_count": 57,
   "id": "4fffcd4a",
   "metadata": {
    "execution": {
     "iopub.execute_input": "2021-04-15T23:25:43.371819Z",
     "iopub.status.busy": "2021-04-15T23:25:43.371297Z",
     "iopub.status.idle": "2021-04-15T23:25:43.375839Z",
     "shell.execute_reply": "2021-04-15T23:25:43.375378Z"
    },
    "slideshow": {
     "slide_type": "slide"
    }
   },
   "outputs": [
    {
     "name": "stdout",
     "output_type": "stream",
     "text": [
      "{'clave1': 'valor1', 2: 'valor2', 'clave3': 3}\n"
     ]
    }
   ],
   "source": [
    "# Cómo agregar cosas al diccionario\n",
    "diccionario['clave1'] = 'valor1'\n",
    "diccionario[2] = 'valor2'\n",
    "diccionario['clave3'] = 3\n",
    "print(diccionario)"
   ]
  },
  {
   "cell_type": "markdown",
   "id": "f154161a",
   "metadata": {},
   "source": [
    "Hay dos formas de obtener valores de un diccionario:\n",
    "\n",
    "```python\n",
    "diccionario[clave]\n",
    "```\n",
    "\n",
    "El cual devuelve el valor si existe la clave suministrada o bien lanza `KeyError` si no existe."
   ]
  },
  {
   "cell_type": "code",
   "execution_count": 58,
   "id": "363dea18",
   "metadata": {
    "execution": {
     "iopub.execute_input": "2021-04-15T23:25:43.379348Z",
     "iopub.status.busy": "2021-04-15T23:25:43.378809Z",
     "iopub.status.idle": "2021-04-15T23:25:43.381504Z",
     "shell.execute_reply": "2021-04-15T23:25:43.382012Z"
    }
   },
   "outputs": [
    {
     "data": {
      "text/plain": [
       "'valor1'"
      ]
     },
     "execution_count": 1,
     "metadata": {},
     "output_type": "execute_result"
    }
   ],
   "source": [
    "diccionario['clave1']"
   ]
  },
  {
   "cell_type": "code",
   "execution_count": 59,
   "id": "33c2fcd4",
   "metadata": {
    "execution": {
     "iopub.execute_input": "2021-04-15T23:25:43.385784Z",
     "iopub.status.busy": "2021-04-15T23:25:43.385233Z",
     "iopub.status.idle": "2021-04-15T23:25:43.392549Z",
     "shell.execute_reply": "2021-04-15T23:25:43.392085Z"
    },
    "tags": [
     "raises-exception"
    ]
   },
   "outputs": [
    {
     "ename": "KeyError",
     "evalue": "'clave1000'",
     "output_type": "error",
     "traceback": [
      "\u001b[0;31m---------------------------------------------------------------------------\u001b[0m",
      "\u001b[0;31mKeyError\u001b[0m                                  Traceback (most recent call last)",
      "\u001b[0;32m<ipython-input-1-41aae9a2e5ed>\u001b[0m in \u001b[0;36m<module>\u001b[0;34m\u001b[0m\n\u001b[0;32m----> 1\u001b[0;31m \u001b[0mdiccionario\u001b[0m\u001b[0;34m[\u001b[0m\u001b[0;34m'clave1000'\u001b[0m\u001b[0;34m]\u001b[0m\u001b[0;34m\u001b[0m\u001b[0;34m\u001b[0m\u001b[0m\n\u001b[0m",
      "\u001b[0;31mKeyError\u001b[0m: 'clave1000'"
     ]
    }
   ],
   "source": [
    "diccionario['clave1000']"
   ]
  },
  {
   "cell_type": "markdown",
   "id": "4c5bf68f",
   "metadata": {},
   "source": [
    "La segunda forma es con `get`:"
   ]
  },
  {
   "cell_type": "code",
   "execution_count": 60,
   "id": "e1b060bb",
   "metadata": {
    "execution": {
     "iopub.execute_input": "2021-04-15T23:25:43.405040Z",
     "iopub.status.busy": "2021-04-15T23:25:43.400106Z",
     "iopub.status.idle": "2021-04-15T23:25:43.445292Z",
     "shell.execute_reply": "2021-04-15T23:25:43.445990Z"
    }
   },
   "outputs": [],
   "source": [
    "diccionario.get?"
   ]
  },
  {
   "cell_type": "code",
   "execution_count": 61,
   "id": "e5425464",
   "metadata": {
    "execution": {
     "iopub.execute_input": "2021-04-15T23:25:43.451322Z",
     "iopub.status.busy": "2021-04-15T23:25:43.450441Z",
     "iopub.status.idle": "2021-04-15T23:25:43.454724Z",
     "shell.execute_reply": "2021-04-15T23:25:43.455198Z"
    }
   },
   "outputs": [
    {
     "name": "stdout",
     "output_type": "stream",
     "text": [
      "Help on built-in function get:\n",
      "\n",
      "get(key, default=None, /) method of builtins.dict instance\n",
      "    Return the value for key if key is in the dictionary, else default.\n",
      "\n"
     ]
    }
   ],
   "source": [
    "help(diccionario.get)"
   ]
  },
  {
   "cell_type": "code",
   "execution_count": 62,
   "id": "aadea00b",
   "metadata": {
    "execution": {
     "iopub.execute_input": "2021-04-15T23:25:43.458652Z",
     "iopub.status.busy": "2021-04-15T23:25:43.458130Z",
     "iopub.status.idle": "2021-04-15T23:25:43.463724Z",
     "shell.execute_reply": "2021-04-15T23:25:43.464251Z"
    },
    "slideshow": {
     "slide_type": "slide"
    }
   },
   "outputs": [
    {
     "name": "stdout",
     "output_type": "stream",
     "text": [
      "None\n"
     ]
    }
   ],
   "source": [
    "print(diccionario.get('clave1000'))"
   ]
  },
  {
   "cell_type": "code",
   "execution_count": 63,
   "id": "2be8941a",
   "metadata": {
    "execution": {
     "iopub.execute_input": "2021-04-15T23:25:43.467938Z",
     "iopub.status.busy": "2021-04-15T23:25:43.467406Z",
     "iopub.status.idle": "2021-04-15T23:25:43.472255Z",
     "shell.execute_reply": "2021-04-15T23:25:43.471816Z"
    },
    "slideshow": {
     "slide_type": "slide"
    }
   },
   "outputs": [
    {
     "name": "stdout",
     "output_type": "stream",
     "text": [
      "True\n"
     ]
    }
   ],
   "source": [
    "print('clave1' in diccionario)  # Verifico si la clave está en el diccionario"
   ]
  },
  {
   "cell_type": "code",
   "execution_count": 64,
   "id": "17bccba4",
   "metadata": {
    "execution": {
     "iopub.execute_input": "2021-04-15T23:25:43.476241Z",
     "iopub.status.busy": "2021-04-15T23:25:43.475722Z",
     "iopub.status.idle": "2021-04-15T23:25:43.481419Z",
     "shell.execute_reply": "2021-04-15T23:25:43.480936Z"
    }
   },
   "outputs": [
    {
     "data": {
      "text/plain": [
       "True"
      ]
     },
     "execution_count": 1,
     "metadata": {},
     "output_type": "execute_result"
    }
   ],
   "source": [
    "l = [1, 2, 3, 4]\n",
    "2 in l"
   ]
  },
  {
   "cell_type": "code",
   "execution_count": 65,
   "id": "d2cf2c19",
   "metadata": {
    "execution": {
     "iopub.execute_input": "2021-04-15T23:25:43.485216Z",
     "iopub.status.busy": "2021-04-15T23:25:43.484646Z",
     "iopub.status.idle": "2021-04-15T23:25:43.488921Z",
     "shell.execute_reply": "2021-04-15T23:25:43.489340Z"
    }
   },
   "outputs": [
    {
     "name": "stdout",
     "output_type": "stream",
     "text": [
      "la clave es clave1 y el valor es valor1\n",
      "la clave es 2 y el valor es valor2\n",
      "la clave es clave3 y el valor es 3\n"
     ]
    }
   ],
   "source": [
    "for clave, valor in diccionario.items():\n",
    "    print(\"la clave es %s y el valor es %s\" % (clave, valor))"
   ]
  },
  {
   "cell_type": "code",
   "execution_count": 66,
   "id": "6320b169",
   "metadata": {
    "execution": {
     "iopub.execute_input": "2021-04-15T23:25:43.493278Z",
     "iopub.status.busy": "2021-04-15T23:25:43.492727Z",
     "iopub.status.idle": "2021-04-15T23:25:43.496497Z",
     "shell.execute_reply": "2021-04-15T23:25:43.496944Z"
    }
   },
   "outputs": [
    {
     "name": "stdout",
     "output_type": "stream",
     "text": [
      "la clave es clave1 y el valor es valor1\n",
      "la clave es 2 y el valor es valor2\n",
      "la clave es clave3 y el valor es 3\n"
     ]
    }
   ],
   "source": [
    "for clave, valor in diccionario.items():\n",
    "    print(\"la clave es {} y el valor es {}\".format(clave, valor))"
   ]
  },
  {
   "cell_type": "code",
   "execution_count": 67,
   "id": "04ca59a1",
   "metadata": {
    "execution": {
     "iopub.execute_input": "2021-04-15T23:25:43.502252Z",
     "iopub.status.busy": "2021-04-15T23:25:43.501039Z",
     "iopub.status.idle": "2021-04-15T23:25:43.504030Z",
     "shell.execute_reply": "2021-04-15T23:25:43.503588Z"
    },
    "slideshow": {
     "slide_type": "slide"
    }
   },
   "outputs": [
    {
     "name": "stdout",
     "output_type": "stream",
     "text": [
      "la clave es clave1 y el valor es valor1\n",
      "la clave es 2 y el valor es valor2\n",
      "la clave es clave3 y el valor es 3\n"
     ]
    }
   ],
   "source": [
    "# Cómo iterar un diccionario elemento por elemento\n",
    "for (\n",
    "    clave,\n",
    "    valor,\n",
    ") in (\n",
    "    diccionario.items()\n",
    "):  # diccionario.items() va devolviendo tuplas con el formato (clave,valor)\n",
    "    print(\n",
    "        f\"la clave es {clave} y el valor es {valor}\"\n",
    "    )  # con esta sintaxis se desempaquetan en clave y valor (similar a enumerate)"
   ]
  },
  {
   "cell_type": "code",
   "execution_count": 68,
   "id": "bb11ea75",
   "metadata": {
    "execution": {
     "iopub.execute_input": "2021-04-15T23:25:43.509287Z",
     "iopub.status.busy": "2021-04-15T23:25:43.507875Z",
     "iopub.status.idle": "2021-04-15T23:25:43.511060Z",
     "shell.execute_reply": "2021-04-15T23:25:43.510532Z"
    },
    "slideshow": {
     "slide_type": "slide"
    }
   },
   "outputs": [
    {
     "name": "stdout",
     "output_type": "stream",
     "text": [
      "clave1\n",
      "2\n",
      "clave3\n"
     ]
    }
   ],
   "source": [
    "for clave in diccionario.keys():\n",
    "    print(clave)"
   ]
  },
  {
   "cell_type": "code",
   "execution_count": 69,
   "id": "3b12624b",
   "metadata": {
    "execution": {
     "iopub.execute_input": "2021-04-15T23:25:43.516133Z",
     "iopub.status.busy": "2021-04-15T23:25:43.514928Z",
     "iopub.status.idle": "2021-04-15T23:25:43.517943Z",
     "shell.execute_reply": "2021-04-15T23:25:43.517512Z"
    },
    "slideshow": {
     "slide_type": "slide"
    }
   },
   "outputs": [
    {
     "name": "stdout",
     "output_type": "stream",
     "text": [
      "valor1\n",
      "valor2\n",
      "3\n"
     ]
    }
   ],
   "source": [
    "for valor in diccionario.values():\n",
    "    print(valor)"
   ]
  },
  {
   "cell_type": "markdown",
   "id": "fc6f66c5",
   "metadata": {},
   "source": [
    "#### Sets\n",
    "\n",
    "Son similares a los diccionarios (en eficiencia) pero se almacenan solo claves, y tienen algunas operaciones particulares.\n",
    "\n",
    "En particular, no pueden tener elementos iguales (pensar que son conjuntos)"
   ]
  },
  {
   "cell_type": "code",
   "execution_count": 70,
   "id": "6d35e1cf",
   "metadata": {
    "execution": {
     "iopub.execute_input": "2021-04-15T23:25:43.521777Z",
     "iopub.status.busy": "2021-04-15T23:25:43.521257Z",
     "iopub.status.idle": "2021-04-15T23:25:43.526004Z",
     "shell.execute_reply": "2021-04-15T23:25:43.525550Z"
    }
   },
   "outputs": [],
   "source": [
    "set??"
   ]
  },
  {
   "cell_type": "code",
   "execution_count": 71,
   "id": "a63f6f52",
   "metadata": {
    "execution": {
     "iopub.execute_input": "2021-04-15T23:25:43.530498Z",
     "iopub.status.busy": "2021-04-15T23:25:43.529941Z",
     "iopub.status.idle": "2021-04-15T23:25:43.532598Z",
     "shell.execute_reply": "2021-04-15T23:25:43.533085Z"
    }
   },
   "outputs": [
    {
     "data": {
      "text/plain": [
       "{1, 2, 3}"
      ]
     },
     "execution_count": 1,
     "metadata": {},
     "output_type": "execute_result"
    }
   ],
   "source": [
    "# Se definen como los diccionarios pero sin hacerlos 'clave:valor', solamente una seguidilla de elementos\n",
    "{1, 2, 2, 3}"
   ]
  },
  {
   "cell_type": "code",
   "execution_count": 72,
   "id": "3b6ae640",
   "metadata": {
    "execution": {
     "iopub.execute_input": "2021-04-15T23:25:43.537513Z",
     "iopub.status.busy": "2021-04-15T23:25:43.536970Z",
     "iopub.status.idle": "2021-04-15T23:25:43.539800Z",
     "shell.execute_reply": "2021-04-15T23:25:43.540233Z"
    }
   },
   "outputs": [
    {
     "data": {
      "text/plain": [
       "{1, 2, 3}"
      ]
     },
     "execution_count": 1,
     "metadata": {},
     "output_type": "execute_result"
    }
   ],
   "source": [
    "set([1, 2, 2, 3])"
   ]
  },
  {
   "cell_type": "markdown",
   "id": "c5508299",
   "metadata": {},
   "source": [
    "## Condicionales (if...elif...else)\n",
    "\n",
    "```python\n",
    "if <condición_1>:\n",
    "    <hacer algo_1 si se da la condición_1>\n",
    "elif <condición_2>:\n",
    "    <hacer algo_2 si se da la condición_2>\n",
    "...\n",
    "elif <condición_n>:\n",
    "    <hacer algo_n si se da la condición_n>\n",
    "else:\n",
    "    <hacer otra cosa si no dan las anteriores>\n",
    "```\n",
    "\n",
    "Algo importante para notar es que los bloques se definen por **niveles de identacion**."
   ]
  },
  {
   "cell_type": "code",
   "execution_count": 73,
   "id": "a50986fd",
   "metadata": {
    "execution": {
     "iopub.execute_input": "2021-04-15T23:25:43.545566Z",
     "iopub.status.busy": "2021-04-15T23:25:43.544342Z",
     "iopub.status.idle": "2021-04-15T23:25:43.547355Z",
     "shell.execute_reply": "2021-04-15T23:25:43.546899Z"
    }
   },
   "outputs": [
    {
     "name": "stdout",
     "output_type": "stream",
     "text": [
      "uno\n"
     ]
    }
   ],
   "source": [
    "v = 1\n",
    "if v == 1:\n",
    "    print(\"uno\")\n",
    "elif v == 2:\n",
    "    print(\"dos\")\n",
    "else:\n",
    "    print(\"ni idea\")\n",
    "    print(v)"
   ]
  },
  {
   "cell_type": "markdown",
   "id": "0cf423ee",
   "metadata": {},
   "source": [
    "## Iteraciones\n",
    "\n",
    "```python\n",
    "while cond:\n",
    "    <codigo>\n",
    "```\n",
    "\n",
    "```python\n",
    "for elemento in iterable:\n",
    "    <codigo>\n",
    "```\n",
    "\n",
    "Para iterar sobre un rango de valores, usamos `range`"
   ]
  },
  {
   "cell_type": "code",
   "execution_count": 74,
   "id": "207a1c4a",
   "metadata": {
    "execution": {
     "iopub.execute_input": "2021-04-15T23:25:43.552697Z",
     "iopub.status.busy": "2021-04-15T23:25:43.551413Z",
     "iopub.status.idle": "2021-04-15T23:25:43.554403Z",
     "shell.execute_reply": "2021-04-15T23:25:43.553961Z"
    }
   },
   "outputs": [
    {
     "name": "stdout",
     "output_type": "stream",
     "text": [
      "1\n",
      "4\n",
      "7\n",
      "10\n"
     ]
    }
   ],
   "source": [
    "for i in range(1, 11, 3):\n",
    "    print(i)"
   ]
  },
  {
   "cell_type": "markdown",
   "id": "c25df163",
   "metadata": {},
   "source": [
    "## Operadores logicos\n",
    "\n",
    "`not`, `or`, `and`"
   ]
  },
  {
   "cell_type": "code",
   "execution_count": 75,
   "id": "eeff5edc",
   "metadata": {
    "execution": {
     "iopub.execute_input": "2021-04-15T23:25:43.559484Z",
     "iopub.status.busy": "2021-04-15T23:25:43.558177Z",
     "iopub.status.idle": "2021-04-15T23:25:43.561157Z",
     "shell.execute_reply": "2021-04-15T23:25:43.560709Z"
    }
   },
   "outputs": [
    {
     "name": "stdout",
     "output_type": "stream",
     "text": [
      "yay\n"
     ]
    }
   ],
   "source": [
    "if True or False:\n",
    "    print(\"yay\")"
   ]
  },
  {
   "cell_type": "code",
   "execution_count": 76,
   "id": "c22da770",
   "metadata": {
    "execution": {
     "iopub.execute_input": "2021-04-15T23:25:43.565357Z",
     "iopub.status.busy": "2021-04-15T23:25:43.564816Z",
     "iopub.status.idle": "2021-04-15T23:25:43.566698Z",
     "shell.execute_reply": "2021-04-15T23:25:43.567155Z"
    }
   },
   "outputs": [
    {
     "data": {
      "text/plain": [
       "False"
      ]
     },
     "execution_count": 1,
     "metadata": {},
     "output_type": "execute_result"
    }
   ],
   "source": [
    "1 == 2"
   ]
  },
  {
   "cell_type": "code",
   "execution_count": 77,
   "id": "47a0ea17",
   "metadata": {
    "execution": {
     "iopub.execute_input": "2021-04-15T23:25:43.570762Z",
     "iopub.status.busy": "2021-04-15T23:25:43.570050Z",
     "iopub.status.idle": "2021-04-15T23:25:43.573856Z",
     "shell.execute_reply": "2021-04-15T23:25:43.573272Z"
    }
   },
   "outputs": [
    {
     "data": {
      "text/plain": [
       "True"
      ]
     },
     "execution_count": 1,
     "metadata": {},
     "output_type": "execute_result"
    }
   ],
   "source": [
    "1 != 2"
   ]
  },
  {
   "cell_type": "markdown",
   "id": "fe59be33",
   "metadata": {
    "slideshow": {
     "slide_type": "slide"
    }
   },
   "source": [
    "## Funciones en Python"
   ]
  },
  {
   "cell_type": "code",
   "execution_count": 78,
   "id": "72538593",
   "metadata": {
    "execution": {
     "iopub.execute_input": "2021-04-15T23:25:43.581602Z",
     "iopub.status.busy": "2021-04-15T23:25:43.580558Z",
     "iopub.status.idle": "2021-04-15T23:25:43.583150Z",
     "shell.execute_reply": "2021-04-15T23:25:43.583561Z"
    },
    "slideshow": {
     "slide_type": "slide"
    }
   },
   "outputs": [
    {
     "name": "stdout",
     "output_type": "stream",
     "text": [
      "True\n",
      "False\n"
     ]
    }
   ],
   "source": [
    "def busqueda_binaria(lista, elemento):\n",
    "    if not lista:\n",
    "        return False\n",
    "    elif len(lista) == 1:\n",
    "        return lista[0] == elemento\n",
    "    mitad = len(lista) // 2  # // es la operación división entera\n",
    "    if lista[mitad] == elemento:\n",
    "        return True\n",
    "    if lista[mitad] > elemento:\n",
    "        return busqueda_binaria(lista[:mitad], elemento)\n",
    "    if lista[mitad] < elemento:\n",
    "        return busqueda_binaria(lista[mitad:], elemento)\n",
    "\n",
    "\n",
    "print(busqueda_binaria([1, 2, 3, 4, 5], 4))\n",
    "print(busqueda_binaria([1, 4, 6, 7, 9, 10], 2))"
   ]
  },
  {
   "cell_type": "code",
   "execution_count": 79,
   "id": "49a4b22a",
   "metadata": {
    "execution": {
     "iopub.execute_input": "2021-04-15T23:25:43.588503Z",
     "iopub.status.busy": "2021-04-15T23:25:43.587703Z",
     "iopub.status.idle": "2021-04-15T23:25:43.590153Z",
     "shell.execute_reply": "2021-04-15T23:25:43.590576Z"
    }
   },
   "outputs": [
    {
     "name": "stdout",
     "output_type": "stream",
     "text": [
      "(3, 3, 3)\n"
     ]
    }
   ],
   "source": [
    "def a(b):\n",
    "    if a == 1:\n",
    "        print(a)\n",
    "    return (b, b, b)\n",
    "\n",
    "\n",
    "print(a(3))"
   ]
  },
  {
   "cell_type": "code",
   "execution_count": 80,
   "id": "83a601d9",
   "metadata": {
    "execution": {
     "iopub.execute_input": "2021-04-15T23:25:43.595304Z",
     "iopub.status.busy": "2021-04-15T23:25:43.594746Z",
     "iopub.status.idle": "2021-04-15T23:25:43.603746Z",
     "shell.execute_reply": "2021-04-15T23:25:43.604223Z"
    },
    "lines_to_next_cell": 2,
    "slideshow": {
     "slide_type": "slide"
    },
    "tags": [
     "raises-exception"
    ]
   },
   "outputs": [
    {
     "name": "stdout",
     "output_type": "stream",
     "text": [
      "3\n",
      "3.0\n",
      "3.0\n",
      "hola como te va\n",
      "[1, 2, 3, 4, 5]\n"
     ]
    },
    {
     "ename": "TypeError",
     "evalue": "can only concatenate str (not \"int\") to str",
     "output_type": "error",
     "traceback": [
      "\u001b[0;31m---------------------------------------------------------------------------\u001b[0m",
      "\u001b[0;31mTypeError\u001b[0m                                 Traceback (most recent call last)",
      "\u001b[0;32m<ipython-input-1-c2a6a99a90c7>\u001b[0m in \u001b[0;36m<module>\u001b[0;34m\u001b[0m\n\u001b[1;32m      8\u001b[0m \u001b[0mprint\u001b[0m\u001b[0;34m(\u001b[0m\u001b[0msuma\u001b[0m\u001b[0;34m(\u001b[0m\u001b[0;34m\"hola \"\u001b[0m\u001b[0;34m,\u001b[0m \u001b[0;34m\"como te va\"\u001b[0m\u001b[0;34m)\u001b[0m\u001b[0;34m)\u001b[0m\u001b[0;34m\u001b[0m\u001b[0;34m\u001b[0m\u001b[0m\n\u001b[1;32m      9\u001b[0m \u001b[0mprint\u001b[0m\u001b[0;34m(\u001b[0m\u001b[0msuma\u001b[0m\u001b[0;34m(\u001b[0m\u001b[0;34m[\u001b[0m\u001b[0;36m1\u001b[0m\u001b[0;34m,\u001b[0m \u001b[0;36m2\u001b[0m\u001b[0;34m,\u001b[0m \u001b[0;36m3\u001b[0m\u001b[0;34m]\u001b[0m\u001b[0;34m,\u001b[0m \u001b[0;34m[\u001b[0m\u001b[0;36m4\u001b[0m\u001b[0;34m,\u001b[0m \u001b[0;36m5\u001b[0m\u001b[0;34m]\u001b[0m\u001b[0;34m)\u001b[0m\u001b[0;34m)\u001b[0m\u001b[0;34m\u001b[0m\u001b[0;34m\u001b[0m\u001b[0m\n\u001b[0;32m---> 10\u001b[0;31m \u001b[0mprint\u001b[0m\u001b[0;34m(\u001b[0m\u001b[0msuma\u001b[0m\u001b[0;34m(\u001b[0m\u001b[0;34m\"1\"\u001b[0m\u001b[0;34m,\u001b[0m \u001b[0;36m3\u001b[0m\u001b[0;34m)\u001b[0m\u001b[0;34m)\u001b[0m  \u001b[0;31m# Falla\u001b[0m\u001b[0;34m\u001b[0m\u001b[0;34m\u001b[0m\u001b[0m\n\u001b[0m",
      "\u001b[0;32m<ipython-input-1-c2a6a99a90c7>\u001b[0m in \u001b[0;36msuma\u001b[0;34m(a, b)\u001b[0m\n\u001b[1;32m      1\u001b[0m \u001b[0;32mdef\u001b[0m \u001b[0msuma\u001b[0m\u001b[0;34m(\u001b[0m\u001b[0ma\u001b[0m\u001b[0;34m,\u001b[0m \u001b[0mb\u001b[0m\u001b[0;34m)\u001b[0m\u001b[0;34m:\u001b[0m\u001b[0;34m\u001b[0m\u001b[0;34m\u001b[0m\u001b[0m\n\u001b[0;32m----> 2\u001b[0;31m     \u001b[0;32mreturn\u001b[0m \u001b[0ma\u001b[0m \u001b[0;34m+\u001b[0m \u001b[0mb\u001b[0m\u001b[0;34m\u001b[0m\u001b[0;34m\u001b[0m\u001b[0m\n\u001b[0m\u001b[1;32m      3\u001b[0m \u001b[0;34m\u001b[0m\u001b[0m\n\u001b[1;32m      4\u001b[0m \u001b[0;34m\u001b[0m\u001b[0m\n\u001b[1;32m      5\u001b[0m \u001b[0mprint\u001b[0m\u001b[0;34m(\u001b[0m\u001b[0msuma\u001b[0m\u001b[0;34m(\u001b[0m\u001b[0;36m1\u001b[0m\u001b[0;34m,\u001b[0m \u001b[0;36m2\u001b[0m\u001b[0;34m)\u001b[0m\u001b[0;34m)\u001b[0m\u001b[0;34m\u001b[0m\u001b[0;34m\u001b[0m\u001b[0m\n",
      "\u001b[0;31mTypeError\u001b[0m: can only concatenate str (not \"int\") to str"
     ]
    }
   ],
   "source": [
    "def suma(a, b):\n",
    "    return a + b\n",
    "\n",
    "\n",
    "print(suma(1, 2))\n",
    "print(suma(1.0, 2.0))\n",
    "print(suma(1.0, 2))\n",
    "print(suma(\"hola \", \"como te va\"))\n",
    "print(suma([1, 2, 3], [4, 5]))\n",
    "print(suma(\"1\", 3))  # Falla"
   ]
  },
  {
   "cell_type": "code",
   "execution_count": 81,
   "id": "0112605e",
   "metadata": {
    "execution": {
     "iopub.execute_input": "2021-04-15T23:25:43.609835Z",
     "iopub.status.busy": "2021-04-15T23:25:43.608533Z",
     "iopub.status.idle": "2021-04-15T23:25:43.611543Z",
     "shell.execute_reply": "2021-04-15T23:25:43.611081Z"
    }
   },
   "outputs": [
    {
     "name": "stdout",
     "output_type": "stream",
     "text": [
      "2.0\n"
     ]
    }
   ],
   "source": [
    "# El valor por default de divisor es 1\n",
    "\n",
    "\n",
    "def division(dividendo, divisor=2):\n",
    "    return dividendo / divisor\n",
    "\n",
    "\n",
    "print(division(4))  # Usa el valor por default"
   ]
  },
  {
   "cell_type": "code",
   "execution_count": 82,
   "id": "092569ee",
   "metadata": {
    "execution": {
     "iopub.execute_input": "2021-04-15T23:25:43.618898Z",
     "iopub.status.busy": "2021-04-15T23:25:43.615844Z",
     "iopub.status.idle": "2021-04-15T23:25:43.621929Z",
     "shell.execute_reply": "2021-04-15T23:25:43.622417Z"
    },
    "tags": [
     "raises-exception"
    ]
   },
   "outputs": [
    {
     "name": "stdout",
     "output_type": "stream",
     "text": [
      "0.5\n",
      "0.5\n"
     ]
    },
    {
     "ename": "TypeError",
     "evalue": "division() missing 1 required positional argument: 'dividendo'",
     "output_type": "error",
     "traceback": [
      "\u001b[0;31m---------------------------------------------------------------------------\u001b[0m",
      "\u001b[0;31mTypeError\u001b[0m                                 Traceback (most recent call last)",
      "\u001b[0;32m<ipython-input-1-34eff3833138>\u001b[0m in \u001b[0;36m<module>\u001b[0;34m\u001b[0m\n\u001b[1;32m      1\u001b[0m \u001b[0mprint\u001b[0m\u001b[0;34m(\u001b[0m\u001b[0mdivision\u001b[0m\u001b[0;34m(\u001b[0m\u001b[0;36m1\u001b[0m\u001b[0;34m,\u001b[0m \u001b[0;36m2\u001b[0m\u001b[0;34m)\u001b[0m\u001b[0;34m)\u001b[0m  \u001b[0;31m# Parámetros por orden\u001b[0m\u001b[0;34m\u001b[0m\u001b[0;34m\u001b[0m\u001b[0m\n\u001b[1;32m      2\u001b[0m \u001b[0mprint\u001b[0m\u001b[0;34m(\u001b[0m\u001b[0mdivision\u001b[0m\u001b[0;34m(\u001b[0m\u001b[0mdividendo\u001b[0m\u001b[0;34m=\u001b[0m\u001b[0;36m1\u001b[0m\u001b[0;34m,\u001b[0m \u001b[0mdivisor\u001b[0m\u001b[0;34m=\u001b[0m\u001b[0;36m2\u001b[0m\u001b[0;34m)\u001b[0m\u001b[0;34m)\u001b[0m  \u001b[0;31m# Parámetros por nombre\u001b[0m\u001b[0;34m\u001b[0m\u001b[0;34m\u001b[0m\u001b[0m\n\u001b[0;32m----> 3\u001b[0;31m \u001b[0mprint\u001b[0m\u001b[0;34m(\u001b[0m\u001b[0mdivision\u001b[0m\u001b[0;34m(\u001b[0m\u001b[0mdivisor\u001b[0m\u001b[0;34m=\u001b[0m\u001b[0;36m2\u001b[0m\u001b[0;34m)\u001b[0m\u001b[0;34m)\u001b[0m\u001b[0;34m\u001b[0m\u001b[0;34m\u001b[0m\u001b[0m\n\u001b[0m",
      "\u001b[0;31mTypeError\u001b[0m: division() missing 1 required positional argument: 'dividendo'"
     ]
    }
   ],
   "source": [
    "print(division(1, 2))  # Parámetros por orden\n",
    "print(division(dividendo=1, divisor=2))  # Parámetros por nombre\n",
    "print(division(divisor=2))"
   ]
  },
  {
   "cell_type": "code",
   "execution_count": 83,
   "id": "22913bf3",
   "metadata": {
    "execution": {
     "iopub.execute_input": "2021-04-15T23:25:43.627673Z",
     "iopub.status.busy": "2021-04-15T23:25:43.626389Z",
     "iopub.status.idle": "2021-04-15T23:25:43.629460Z",
     "shell.execute_reply": "2021-04-15T23:25:43.628986Z"
    }
   },
   "outputs": [
    {
     "name": "stdout",
     "output_type": "stream",
     "text": [
      "0.5\n"
     ]
    }
   ],
   "source": [
    "print(division(divisor=2, dividendo=1))"
   ]
  },
  {
   "cell_type": "code",
   "execution_count": 84,
   "id": "d9f643e4",
   "metadata": {
    "execution": {
     "iopub.execute_input": "2021-04-15T23:25:43.635889Z",
     "iopub.status.busy": "2021-04-15T23:25:43.634596Z",
     "iopub.status.idle": "2021-04-15T23:25:43.637825Z",
     "shell.execute_reply": "2021-04-15T23:25:43.637343Z"
    }
   },
   "outputs": [
    {
     "name": "stdout",
     "output_type": "stream",
     "text": [
      "['a', 'b', 'c']\n",
      "[1, 2, 3]\n",
      "['hola', ' don', ' pepito']\n",
      "hola -  don -  pepito\n"
     ]
    }
   ],
   "source": [
    "# Funciones básicas ya en el lenguaje\n",
    "# Hechas para funcionar para distintos tipos\n",
    "\n",
    "string_ordenado = sorted('bca')\n",
    "print(string_ordenado)\n",
    "\n",
    "lista_ordenada = sorted([1, 3, 2])\n",
    "print(lista_ordenada)\n",
    "\n",
    "separadas = \"hola, don, pepito\".split(\",\")\n",
    "print(separadas)\n",
    "unidas = \" - \".join(separadas)\n",
    "print(unidas)"
   ]
  },
  {
   "cell_type": "markdown",
   "id": "abade845",
   "metadata": {},
   "source": [
    "## Módulos\n",
    "\n",
    "Para incluir alguna biblioteca de funciones se usa `import`. Pueden ser cosas ya predefinidas en Python (`math`, `random`, etc), nombres de archivos en nuestro directorio (por ejemplo, para `mimodulo.py` ponemos `import mimodulo`) o bibliotecas instaladas por el usuario"
   ]
  },
  {
   "cell_type": "code",
   "execution_count": 85,
   "id": "8feb8212",
   "metadata": {
    "execution": {
     "iopub.execute_input": "2021-04-15T23:25:43.642732Z",
     "iopub.status.busy": "2021-04-15T23:25:43.641413Z",
     "iopub.status.idle": "2021-04-15T23:25:43.644487Z",
     "shell.execute_reply": "2021-04-15T23:25:43.644016Z"
    }
   },
   "outputs": [
    {
     "name": "stdout",
     "output_type": "stream",
     "text": [
      "3.141592653589793\n"
     ]
    }
   ],
   "source": [
    "import math\n",
    "\n",
    "print(math.pi)"
   ]
  },
  {
   "cell_type": "code",
   "execution_count": 86,
   "id": "da9241bc",
   "metadata": {
    "execution": {
     "iopub.execute_input": "2021-04-15T23:25:43.649694Z",
     "iopub.status.busy": "2021-04-15T23:25:43.648240Z",
     "iopub.status.idle": "2021-04-15T23:25:43.651472Z",
     "shell.execute_reply": "2021-04-15T23:25:43.650980Z"
    }
   },
   "outputs": [
    {
     "name": "stdout",
     "output_type": "stream",
     "text": [
      "3.141592653589793 2.718281828459045\n"
     ]
    }
   ],
   "source": [
    "from math import pi, e\n",
    "\n",
    "print(pi, e)"
   ]
  },
  {
   "cell_type": "code",
   "execution_count": 87,
   "id": "2ab9e165",
   "metadata": {
    "execution": {
     "iopub.execute_input": "2021-04-15T23:25:43.655215Z",
     "iopub.status.busy": "2021-04-15T23:25:43.654647Z",
     "iopub.status.idle": "2021-04-15T23:25:43.658152Z",
     "shell.execute_reply": "2021-04-15T23:25:43.657518Z"
    }
   },
   "outputs": [
    {
     "data": {
      "text/plain": [
       "2"
      ]
     },
     "execution_count": 1,
     "metadata": {},
     "output_type": "execute_result"
    }
   ],
   "source": [
    "math.gcd(56, 78)"
   ]
  },
  {
   "cell_type": "markdown",
   "id": "f7488ea6",
   "metadata": {},
   "source": [
    "## Manejo de excepciones\n",
    "\n",
    "Se pueden encapsular errores esperados en un bloque 'try/except' para evitar cortar el flujo del programa"
   ]
  },
  {
   "cell_type": "code",
   "execution_count": 88,
   "id": "dac8041a",
   "metadata": {
    "execution": {
     "iopub.execute_input": "2021-04-15T23:25:43.666980Z",
     "iopub.status.busy": "2021-04-15T23:25:43.661203Z",
     "iopub.status.idle": "2021-04-15T23:25:43.669244Z",
     "shell.execute_reply": "2021-04-15T23:25:43.669710Z"
    },
    "tags": [
     "raises-exception"
    ]
   },
   "outputs": [
    {
     "ename": "ZeroDivisionError",
     "evalue": "division by zero",
     "output_type": "error",
     "traceback": [
      "\u001b[0;31m---------------------------------------------------------------------------\u001b[0m",
      "\u001b[0;31mZeroDivisionError\u001b[0m                         Traceback (most recent call last)",
      "\u001b[0;32m<ipython-input-1-f031f77b1a55>\u001b[0m in \u001b[0;36m<module>\u001b[0;34m\u001b[0m\n\u001b[0;32m----> 1\u001b[0;31m \u001b[0mdivision\u001b[0m\u001b[0;34m(\u001b[0m\u001b[0;36m1\u001b[0m\u001b[0;34m,\u001b[0m \u001b[0;36m0\u001b[0m\u001b[0;34m)\u001b[0m  \u001b[0;31m# No se puede dividir por cero\u001b[0m\u001b[0;34m\u001b[0m\u001b[0;34m\u001b[0m\u001b[0m\n\u001b[0m",
      "\u001b[0;32m<ipython-input-1-0d991d7de762>\u001b[0m in \u001b[0;36mdivision\u001b[0;34m(dividendo, divisor)\u001b[0m\n\u001b[1;32m      3\u001b[0m \u001b[0;34m\u001b[0m\u001b[0m\n\u001b[1;32m      4\u001b[0m \u001b[0;32mdef\u001b[0m \u001b[0mdivision\u001b[0m\u001b[0;34m(\u001b[0m\u001b[0mdividendo\u001b[0m\u001b[0;34m,\u001b[0m \u001b[0mdivisor\u001b[0m\u001b[0;34m=\u001b[0m\u001b[0;36m2\u001b[0m\u001b[0;34m)\u001b[0m\u001b[0;34m:\u001b[0m\u001b[0;34m\u001b[0m\u001b[0;34m\u001b[0m\u001b[0m\n\u001b[0;32m----> 5\u001b[0;31m     \u001b[0;32mreturn\u001b[0m \u001b[0mdividendo\u001b[0m \u001b[0;34m/\u001b[0m \u001b[0mdivisor\u001b[0m\u001b[0;34m\u001b[0m\u001b[0;34m\u001b[0m\u001b[0m\n\u001b[0m\u001b[1;32m      6\u001b[0m \u001b[0;34m\u001b[0m\u001b[0m\n\u001b[1;32m      7\u001b[0m \u001b[0;34m\u001b[0m\u001b[0m\n",
      "\u001b[0;31mZeroDivisionError\u001b[0m: division by zero"
     ]
    }
   ],
   "source": [
    "division(1, 0)  # No se puede dividir por cero"
   ]
  },
  {
   "cell_type": "code",
   "execution_count": 89,
   "id": "3ec0522e",
   "metadata": {
    "execution": {
     "iopub.execute_input": "2021-04-15T23:25:43.675413Z",
     "iopub.status.busy": "2021-04-15T23:25:43.674061Z",
     "iopub.status.idle": "2021-04-15T23:25:43.677214Z",
     "shell.execute_reply": "2021-04-15T23:25:43.676736Z"
    }
   },
   "outputs": [
    {
     "name": "stdout",
     "output_type": "stream",
     "text": [
      "No se puede dividir por cero, ojo! division by zero\n",
      "1\n"
     ]
    }
   ],
   "source": [
    "try:\n",
    "    division(1, 0)\n",
    "except (ZeroDivisionError, TypeError) as e:\n",
    "    print('No se puede dividir por cero, ojo!', e)\n",
    "finally:\n",
    "    print(1)"
   ]
  },
  {
   "cell_type": "markdown",
   "id": "fa3561eb",
   "metadata": {
    "slideshow": {
     "slide_type": "slide"
    }
   },
   "source": [
    "## Lectura y escritura de archivos"
   ]
  },
  {
   "cell_type": "code",
   "execution_count": 90,
   "id": "95ebb13f",
   "metadata": {
    "execution": {
     "iopub.execute_input": "2021-04-15T23:25:43.684443Z",
     "iopub.status.busy": "2021-04-15T23:25:43.683360Z",
     "iopub.status.idle": "2021-04-15T23:25:43.686155Z",
     "shell.execute_reply": "2021-04-15T23:25:43.686620Z"
    },
    "slideshow": {
     "slide_type": "slide"
    }
   },
   "outputs": [
    {
     "name": "stdout",
     "output_type": "stream",
     "text": [
      "<_io.TextIOWrapper name='archivo.csv' mode='w' encoding='UTF-8'>\n"
     ]
    }
   ],
   "source": [
    "import random\n",
    "\n",
    "with open(\n",
    "    'archivo.csv', 'w'\n",
    ") as archivo:  # Al usar esta sintaxis no es necesario hacer close\n",
    "    archivo.write(\"Alumno, nota\\n\")\n",
    "    # Tambien de forma similar al fprintf se puede hacer:\n",
    "    # print(\"Alumno, nota\\n\", file=archivo)\n",
    "    for i in range(0, 10):\n",
    "        archivo.write(f\"{i},{random.randrange(0,10)}\\n\")\n",
    "\n",
    "print(archivo)  # Comentario aclaratorio:\n",
    "# Las variables definidas en un determinado scope siguen existiendo por fuera del mismo.\n",
    "# Se debe tener cuidado con esto, ya que nada garantiza que por fuera el valor sea el esperado."
   ]
  },
  {
   "cell_type": "code",
   "execution_count": 91,
   "id": "8aa54dd8",
   "metadata": {
    "execution": {
     "iopub.execute_input": "2021-04-15T23:25:43.692751Z",
     "iopub.status.busy": "2021-04-15T23:25:43.691897Z",
     "iopub.status.idle": "2021-04-15T23:25:43.694631Z",
     "shell.execute_reply": "2021-04-15T23:25:43.695091Z"
    },
    "slideshow": {
     "slide_type": "slide"
    }
   },
   "outputs": [
    {
     "name": "stdout",
     "output_type": "stream",
     "text": [
      "Alumno, nota\n",
      "0,0\n",
      "1,6\n",
      "2,5\n",
      "3,3\n",
      "4,2\n",
      "5,5\n",
      "6,6\n",
      "7,0\n",
      "8,1\n",
      "9,7\n"
     ]
    }
   ],
   "source": [
    "with open('archivo.csv', 'r') as f:\n",
    "    for linea in f:\n",
    "        print(linea.strip())"
   ]
  },
  {
   "cell_type": "code",
   "execution_count": 92,
   "id": "4f72bed2",
   "metadata": {
    "execution": {
     "iopub.execute_input": "2021-04-15T23:25:43.700292Z",
     "iopub.status.busy": "2021-04-15T23:25:43.699241Z",
     "iopub.status.idle": "2021-04-15T23:25:43.702478Z",
     "shell.execute_reply": "2021-04-15T23:25:43.701996Z"
    }
   },
   "outputs": [
    {
     "name": "stdout",
     "output_type": "stream",
     "text": [
      "Alumno, nota\n",
      "0,0\n",
      "1,6\n",
      "2,5\n",
      "3,3\n",
      "4,2\n",
      "5,5\n",
      "6,6\n",
      "7,0\n",
      "8,1\n",
      "9,7\n",
      "\n"
     ]
    }
   ],
   "source": [
    "with open('archivo.csv', 'r') as f:\n",
    "    print(f.read())"
   ]
  },
  {
   "cell_type": "code",
   "execution_count": 93,
   "id": "33553572",
   "metadata": {
    "execution": {
     "iopub.execute_input": "2021-04-15T23:25:43.706585Z",
     "iopub.status.busy": "2021-04-15T23:25:43.706024Z",
     "iopub.status.idle": "2021-04-15T23:25:43.708834Z",
     "shell.execute_reply": "2021-04-15T23:25:43.708201Z"
    }
   },
   "outputs": [],
   "source": [
    "f = open('archivo.csv', 'w')\n",
    "f.write(\"algo, algo\")\n",
    "f.close()"
   ]
  },
  {
   "cell_type": "markdown",
   "id": "77823816",
   "metadata": {
    "slideshow": {
     "slide_type": "slide"
    }
   },
   "source": [
    "## Objetos\n",
    "\n",
    "Los objetos tienen metodos y atributos:\n",
    "- Atributos: equivalentes a variables.\n",
    "- Métodos: equivalentes a las primitivas."
   ]
  },
  {
   "cell_type": "markdown",
   "id": "380901fb",
   "metadata": {
    "slideshow": {
     "slide_type": "slide"
    }
   },
   "source": [
    "### Cómo creo una clase"
   ]
  },
  {
   "cell_type": "code",
   "execution_count": 94,
   "id": "4f92fe18",
   "metadata": {
    "execution": {
     "iopub.execute_input": "2021-04-15T23:25:43.715738Z",
     "iopub.status.busy": "2021-04-15T23:25:43.714365Z",
     "iopub.status.idle": "2021-04-15T23:25:43.716341Z",
     "shell.execute_reply": "2021-04-15T23:25:43.716818Z"
    },
    "slideshow": {
     "slide_type": "slide"
    }
   },
   "outputs": [],
   "source": [
    "class Nodo(object):\n",
    "    def __init__(self, dato, siguiente=None):\n",
    "        self._dato = dato\n",
    "        self._siguiente = siguiente\n",
    "\n",
    "    @property\n",
    "    def dato(self):\n",
    "        return self._dato\n",
    "\n",
    "    @property\n",
    "    def proximo(self):\n",
    "        return self._siguiente\n",
    "\n",
    "    @proximo.setter\n",
    "    def proximo(self, siguiente):\n",
    "        self._siguiente = siguiente\n",
    "\n",
    "    def __repr__(self):\n",
    "        return str(self.dato)\n",
    "\n",
    "    def __str__(self):\n",
    "        return str(self.dato)"
   ]
  },
  {
   "cell_type": "code",
   "execution_count": 95,
   "id": "72a96300",
   "metadata": {
    "execution": {
     "iopub.execute_input": "2021-04-15T23:25:43.721791Z",
     "iopub.status.busy": "2021-04-15T23:25:43.720497Z",
     "iopub.status.idle": "2021-04-15T23:25:43.723762Z",
     "shell.execute_reply": "2021-04-15T23:25:43.723256Z"
    },
    "slideshow": {
     "slide_type": "slide"
    }
   },
   "outputs": [
    {
     "name": "stdout",
     "output_type": "stream",
     "text": [
      "hola\n"
     ]
    }
   ],
   "source": [
    "nodo = Nodo(\"hola\")\n",
    "print(nodo)"
   ]
  },
  {
   "cell_type": "code",
   "execution_count": 96,
   "id": "562fa5de",
   "metadata": {
    "execution": {
     "iopub.execute_input": "2021-04-15T23:25:43.728308Z",
     "iopub.status.busy": "2021-04-15T23:25:43.727736Z",
     "iopub.status.idle": "2021-04-15T23:25:43.729618Z",
     "shell.execute_reply": "2021-04-15T23:25:43.730192Z"
    },
    "slideshow": {
     "slide_type": "slide"
    }
   },
   "outputs": [
    {
     "name": "stdout",
     "output_type": "stream",
     "text": [
      "[hola, lala]\n"
     ]
    }
   ],
   "source": [
    "nodo2 = Nodo(\"lala\")\n",
    "print([nodo, nodo2])"
   ]
  },
  {
   "cell_type": "code",
   "execution_count": 97,
   "id": "751d1db1",
   "metadata": {
    "execution": {
     "iopub.execute_input": "2021-04-15T23:25:43.733709Z",
     "iopub.status.busy": "2021-04-15T23:25:43.733169Z",
     "iopub.status.idle": "2021-04-15T23:25:43.735383Z",
     "shell.execute_reply": "2021-04-15T23:25:43.735824Z"
    },
    "slideshow": {
     "slide_type": "slide"
    }
   },
   "outputs": [
    {
     "name": "stdout",
     "output_type": "stream",
     "text": [
      "hola\n"
     ]
    }
   ],
   "source": [
    "nodo3 = nodo.dato\n",
    "print(nodo3)"
   ]
  },
  {
   "cell_type": "markdown",
   "id": "43d36224",
   "metadata": {
    "slideshow": {
     "slide_type": "slide"
    }
   },
   "source": [
    "### Ejemplo: Lista Enlazada"
   ]
  },
  {
   "cell_type": "code",
   "execution_count": 98,
   "id": "f2d1e786",
   "metadata": {
    "execution": {
     "iopub.execute_input": "2021-04-15T23:25:43.745852Z",
     "iopub.status.busy": "2021-04-15T23:25:43.744053Z",
     "iopub.status.idle": "2021-04-15T23:25:43.746486Z",
     "shell.execute_reply": "2021-04-15T23:25:43.746952Z"
    },
    "slideshow": {
     "slide_type": "slide"
    }
   },
   "outputs": [],
   "source": [
    "class ListaEnlazada(object):\n",
    "    def __init__(self):\n",
    "        self._primero = None\n",
    "        self._ultimo = None\n",
    "        self._largo = 0\n",
    "\n",
    "    def __len__(self):\n",
    "        return self._largo\n",
    "\n",
    "    def insertar_al_principio(self, dato):\n",
    "        nodo = Nodo(dato, self._primero)\n",
    "        self._primero = nodo\n",
    "        self._largo += 1\n",
    "        if self._largo == 1:\n",
    "            self._ultimo = nodo\n",
    "\n",
    "    def insertar_al_final(self, dato):\n",
    "        if self._largo != 0:\n",
    "            nodo = Nodo(dato)\n",
    "            nodo_anterior = self._ultimo\n",
    "            nodo_anterior._siguiente = nodo\n",
    "            self._ultimo = nodo\n",
    "            self._largo += 1\n",
    "        else:\n",
    "            self.insertar_al_principio(dato)\n",
    "\n",
    "    @property\n",
    "    def primero(self):\n",
    "        return self._primero.dato\n",
    "\n",
    "    def borrar_primero(self):\n",
    "        dato = self.primero.dato\n",
    "        self._primero = self.primero.siguiente\n",
    "        self._largo -= 1\n",
    "        if self._largo == 0:\n",
    "            self._ultimo = None\n",
    "        return dato\n",
    "\n",
    "    def __str__(self):\n",
    "        datos = []\n",
    "        nodo_actual = self._primero\n",
    "        while nodo_actual:\n",
    "            datos.append(nodo_actual.dato)\n",
    "            nodo_actual = nodo_actual.proximo\n",
    "        return \" -> \".join(datos)\n",
    "\n",
    "    def __repr__(self):\n",
    "        return self.__str__()"
   ]
  },
  {
   "cell_type": "code",
   "execution_count": 99,
   "id": "1109de5a",
   "metadata": {
    "execution": {
     "iopub.execute_input": "2021-04-15T23:25:43.751990Z",
     "iopub.status.busy": "2021-04-15T23:25:43.751162Z",
     "iopub.status.idle": "2021-04-15T23:25:43.753871Z",
     "shell.execute_reply": "2021-04-15T23:25:43.754320Z"
    },
    "slideshow": {
     "slide_type": "slide"
    }
   },
   "outputs": [
    {
     "data": {
      "text/plain": [
       "2"
      ]
     },
     "execution_count": 1,
     "metadata": {},
     "output_type": "execute_result"
    }
   ],
   "source": [
    "lista = ListaEnlazada()\n",
    "lista.insertar_al_principio(\"Primer Dato\")\n",
    "lista.insertar_al_principio(\"Primer primer Dato\")\n",
    "len(lista)"
   ]
  },
  {
   "cell_type": "code",
   "execution_count": 100,
   "id": "e3a071c6",
   "metadata": {
    "execution": {
     "iopub.execute_input": "2021-04-15T23:25:43.759273Z",
     "iopub.status.busy": "2021-04-15T23:25:43.758420Z",
     "iopub.status.idle": "2021-04-15T23:25:43.760828Z",
     "shell.execute_reply": "2021-04-15T23:25:43.761489Z"
    }
   },
   "outputs": [
    {
     "data": {
      "text/plain": [
       "Primer primer Dato -> Primer Dato"
      ]
     },
     "execution_count": 1,
     "metadata": {},
     "output_type": "execute_result"
    }
   ],
   "source": [
    "lista"
   ]
  },
  {
   "cell_type": "code",
   "execution_count": 101,
   "id": "7f8a6a51",
   "metadata": {
    "execution": {
     "iopub.execute_input": "2021-04-15T23:25:43.765401Z",
     "iopub.status.busy": "2021-04-15T23:25:43.764811Z",
     "iopub.status.idle": "2021-04-15T23:25:43.767091Z",
     "shell.execute_reply": "2021-04-15T23:25:43.767528Z"
    },
    "slideshow": {
     "slide_type": "slide"
    }
   },
   "outputs": [
    {
     "name": "stdout",
     "output_type": "stream",
     "text": [
      "Primer primer Dato\n"
     ]
    }
   ],
   "source": [
    "elemento = lista.primero\n",
    "print(elemento)"
   ]
  },
  {
   "cell_type": "markdown",
   "id": "d3c12a54",
   "metadata": {},
   "source": [
    "## Recursos\n",
    "\n",
    "* [Taller de Python de Algoritmos II](https://github.com/algoritmos-rw/algo2_apuntes)\n",
    "\n",
    "* [Documentación de Python 3](https://docs.python.org/3/tutorial/)\n",
    "\n",
    "* [Apunte de Algoritmos y Programación I](https://algoritmos1rw.ddns.net/material)\n",
    "\n",
    "* [Automate the Boring Stuff with Python](http://automatetheboringstuff.com/)\n",
    "\n",
    "* [Curso Python](https://pythoncurso.github.io)\n",
    "\n",
    "* [Python Tutor](http://pythontutor.com/)\n",
    "\n",
    "* [Learn Python3 in Y minutes](https://learnxinyminutes.com/docs/python3/)\n",
    "\n",
    "* [Bibliografía de Algoritmos y Programación I](https://algoritmos1rw.ddns.net/bibliografia)"
   ]
  }
 ],
 "metadata": {
  "jupytext": {
   "encoding": "# -*- coding: utf-8 -*-",
   "formats": "ipynb,py:light"
  },
  "kernelspec": {
   "display_name": "Python 3 (venv)",
   "language": "python",
   "name": "python3"
  },
  "language_info": {
   "codemirror_mode": {
    "name": "ipython",
    "version": 3
   },
   "file_extension": ".py",
   "mimetype": "text/x-python",
   "name": "python",
   "nbconvert_exporter": "python",
   "pygments_lexer": "ipython3",
   "version": "3.7.10"
  }
 },
 "nbformat": 4,
 "nbformat_minor": 5
}
