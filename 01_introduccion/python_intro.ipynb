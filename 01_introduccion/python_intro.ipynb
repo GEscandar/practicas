{
 "cells": [
  {
   "cell_type": "markdown",
   "id": "c984df9e",
   "metadata": {},
   "source": [
    "# Python"
   ]
  },
  {
   "cell_type": "markdown",
   "id": "fb833679",
   "metadata": {
    "slideshow": {
     "slide_type": "slide"
    }
   },
   "source": [
    "## Un poco de Historia"
   ]
  },
  {
   "cell_type": "markdown",
   "id": "cae28882",
   "metadata": {
    "slideshow": {
     "slide_type": "subslide"
    }
   },
   "source": [
    "Python fue creado a finales de los años 80 por un programador holandés llamado **Guido van Rossum**,\n",
    "quien sigue siendo aún hoy el líder del desarrollo del lenguaje.\n",
    "\n",
    "(Edit julio 2018: [ya no más](https://www.mail-archive.com/python-committers@python.org/msg05628.html))"
   ]
  },
  {
   "cell_type": "markdown",
   "id": "df85a456",
   "metadata": {
    "slideshow": {
     "slide_type": "subslide"
    }
   },
   "source": [
    "El nombre del lenguaje proviene de los humoristas británicos Monty Python.\n",
    "\n",
    ">*\"I chose Python as a working title for the project, being in a slightly irreverent mood (and a big fan of Monty Python's Flying Circus).\"*"
   ]
  },
  {
   "cell_type": "markdown",
   "id": "3292ee0d",
   "metadata": {
    "slideshow": {
     "slide_type": "slide"
    }
   },
   "source": [
    "## Caracteristicas\n",
    "\n",
    "- Interpretado\n",
    "- Tipado dinamico\n",
    "- Multiparadigma\n",
    "- Alto nivel\n",
    "- Tiene un recolector de basura (no hay malloc, free, realloc, etc)"
   ]
  },
  {
   "cell_type": "markdown",
   "id": "89173b8f",
   "metadata": {},
   "source": [
    "## ¿Cómo empezar?\n",
    "\n",
    "* Al ser un lenguaje *interpretado*, se puede ir escribiendo a medida que se ejecuta, sin necesidad de compilar de antemano! Solamente hace falta escribir `python` o `python3` en una terminal para empezar\n",
    "\n",
    "* También, permite escribir archivos y correrlos. Crear un archivo con extensión `.py` y luego correr `python miarchivo.py` en laterminal"
   ]
  },
  {
   "cell_type": "markdown",
   "id": "ac8eb2c1",
   "metadata": {
    "slideshow": {
     "slide_type": "slide"
    }
   },
   "source": [
    "## El Zen de Python"
   ]
  },
  {
   "cell_type": "code",
   "execution_count": 1,
   "id": "d20eaee1",
   "metadata": {
    "execution": {
     "iopub.execute_input": "2021-09-19T15:41:08.120906Z",
     "iopub.status.busy": "2021-09-19T15:41:08.120200Z",
     "iopub.status.idle": "2021-09-19T15:41:08.174870Z",
     "shell.execute_reply": "2021-09-19T15:41:08.175374Z"
    },
    "slideshow": {
     "slide_type": "slide"
    }
   },
   "outputs": [
    {
     "name": "stdout",
     "output_type": "stream",
     "text": [
      "The Zen of Python, by Tim Peters\n",
      "\n",
      "Beautiful is better than ugly.\n",
      "Explicit is better than implicit.\n",
      "Simple is better than complex.\n",
      "Complex is better than complicated.\n",
      "Flat is better than nested.\n",
      "Sparse is better than dense.\n",
      "Readability counts.\n",
      "Special cases aren't special enough to break the rules.\n",
      "Although practicality beats purity.\n",
      "Errors should never pass silently.\n",
      "Unless explicitly silenced.\n",
      "In the face of ambiguity, refuse the temptation to guess.\n",
      "There should be one-- and preferably only one --obvious way to do it.\n",
      "Although that way may not be obvious at first unless you're Dutch.\n",
      "Now is better than never.\n",
      "Although never is often better than *right* now.\n",
      "If the implementation is hard to explain, it's a bad idea.\n",
      "If the implementation is easy to explain, it may be a good idea.\n",
      "Namespaces are one honking great idea -- let's do more of those!\n"
     ]
    }
   ],
   "source": [
    "import this"
   ]
  },
  {
   "cell_type": "markdown",
   "id": "5758fca9",
   "metadata": {
    "slideshow": {
     "slide_type": "slide"
    }
   },
   "source": [
    "## Conocimientos Básicos de Python: Variables y Tipos"
   ]
  },
  {
   "cell_type": "code",
   "execution_count": 2,
   "id": "a88986a4",
   "metadata": {
    "execution": {
     "iopub.execute_input": "2021-09-19T15:41:08.179759Z",
     "iopub.status.busy": "2021-09-19T15:41:08.179119Z",
     "iopub.status.idle": "2021-09-19T15:41:08.182305Z",
     "shell.execute_reply": "2021-09-19T15:41:08.182863Z"
    },
    "slideshow": {
     "slide_type": "slide"
    }
   },
   "outputs": [
    {
     "name": "stdout",
     "output_type": "stream",
     "text": [
      "Hello World!\n"
     ]
    }
   ],
   "source": [
    "# Este es un comentario\n",
    "\n",
    "print(\"Hello World!\")"
   ]
  },
  {
   "cell_type": "markdown",
   "id": "52409367",
   "metadata": {},
   "source": [
    "Los strings en python puden escribirse tanto con comillas simples (`'`) como comillas dobles (`\"`). Normalmente vemos texto entre comillas triples para escribir _docstrings_, segun la guia de estilo de Python, el PEP8."
   ]
  },
  {
   "cell_type": "code",
   "execution_count": 3,
   "id": "16b706b7",
   "metadata": {
    "execution": {
     "iopub.execute_input": "2021-09-19T15:41:08.190977Z",
     "iopub.status.busy": "2021-09-19T15:41:08.185556Z",
     "iopub.status.idle": "2021-09-19T15:41:08.197817Z",
     "shell.execute_reply": "2021-09-19T15:41:08.198380Z"
    }
   },
   "outputs": [
    {
     "data": {
      "text/plain": [
       "'Esto es un docstring.\\n'"
      ]
     },
     "execution_count": 3,
     "metadata": {},
     "output_type": "execute_result"
    }
   ],
   "source": [
    "\"\"\"Esto es un docstring.\n",
    "\"\"\""
   ]
  },
  {
   "cell_type": "markdown",
   "id": "18fabe9e",
   "metadata": {},
   "source": [
    "### Declaracion de variables"
   ]
  },
  {
   "cell_type": "code",
   "execution_count": 4,
   "id": "b3744f76",
   "metadata": {
    "execution": {
     "iopub.execute_input": "2021-09-19T15:41:08.203294Z",
     "iopub.status.busy": "2021-09-19T15:41:08.202617Z",
     "iopub.status.idle": "2021-09-19T15:41:08.205107Z",
     "shell.execute_reply": "2021-09-19T15:41:08.205655Z"
    }
   },
   "outputs": [
    {
     "name": "stdout",
     "output_type": "stream",
     "text": [
      "Hola\n"
     ]
    }
   ],
   "source": [
    "string = 'Hola'\n",
    "print(string)"
   ]
  },
  {
   "cell_type": "code",
   "execution_count": 5,
   "id": "5b7a7c86",
   "metadata": {
    "execution": {
     "iopub.execute_input": "2021-09-19T15:41:08.209945Z",
     "iopub.status.busy": "2021-09-19T15:41:08.209217Z",
     "iopub.status.idle": "2021-09-19T15:41:08.214508Z",
     "shell.execute_reply": "2021-09-19T15:41:08.215032Z"
    }
   },
   "outputs": [
    {
     "name": "stdout",
     "output_type": "stream",
     "text": [
      "1\n"
     ]
    }
   ],
   "source": [
    "entero = 1\n",
    "print(entero)"
   ]
  },
  {
   "cell_type": "code",
   "execution_count": 6,
   "id": "b3b44057",
   "metadata": {
    "execution": {
     "iopub.execute_input": "2021-09-19T15:41:08.219425Z",
     "iopub.status.busy": "2021-09-19T15:41:08.218759Z",
     "iopub.status.idle": "2021-09-19T15:41:08.223787Z",
     "shell.execute_reply": "2021-09-19T15:41:08.223119Z"
    }
   },
   "outputs": [
    {
     "name": "stdout",
     "output_type": "stream",
     "text": [
      "1.0\n"
     ]
    }
   ],
   "source": [
    "flotante = 1.0\n",
    "print(flotante)"
   ]
  },
  {
   "cell_type": "code",
   "execution_count": 7,
   "id": "8b39a97f",
   "metadata": {
    "execution": {
     "iopub.execute_input": "2021-09-19T15:41:08.227580Z",
     "iopub.status.busy": "2021-09-19T15:41:08.225959Z",
     "iopub.status.idle": "2021-09-19T15:41:08.230737Z",
     "shell.execute_reply": "2021-09-19T15:41:08.230163Z"
    }
   },
   "outputs": [
    {
     "name": "stdout",
     "output_type": "stream",
     "text": [
      "(1, 1.0)\n"
     ]
    }
   ],
   "source": [
    "tupla = (entero, flotante)\n",
    "print(tupla)"
   ]
  },
  {
   "cell_type": "code",
   "execution_count": 8,
   "id": "09bc5597",
   "metadata": {
    "execution": {
     "iopub.execute_input": "2021-09-19T15:41:08.235337Z",
     "iopub.status.busy": "2021-09-19T15:41:08.234689Z",
     "iopub.status.idle": "2021-09-19T15:41:08.236841Z",
     "shell.execute_reply": "2021-09-19T15:41:08.237461Z"
    }
   },
   "outputs": [
    {
     "name": "stdout",
     "output_type": "stream",
     "text": [
      "(1, 1.0, 'Hola')\n"
     ]
    }
   ],
   "source": [
    "nupla = (entero, flotante, string)\n",
    "print(nupla)"
   ]
  },
  {
   "cell_type": "code",
   "execution_count": 9,
   "id": "feaa8519",
   "metadata": {
    "execution": {
     "iopub.execute_input": "2021-09-19T15:41:08.242280Z",
     "iopub.status.busy": "2021-09-19T15:41:08.241425Z",
     "iopub.status.idle": "2021-09-19T15:41:08.243811Z",
     "shell.execute_reply": "2021-09-19T15:41:08.244379Z"
    }
   },
   "outputs": [
    {
     "name": "stdout",
     "output_type": "stream",
     "text": [
      "[1, 1.0, 'Hola']\n"
     ]
    }
   ],
   "source": [
    "lista = [entero, flotante, string]\n",
    "print(lista)"
   ]
  },
  {
   "cell_type": "code",
   "execution_count": 10,
   "id": "d77a0978",
   "metadata": {
    "execution": {
     "iopub.execute_input": "2021-09-19T15:41:08.249303Z",
     "iopub.status.busy": "2021-09-19T15:41:08.248623Z",
     "iopub.status.idle": "2021-09-19T15:41:08.250804Z",
     "shell.execute_reply": "2021-09-19T15:41:08.251499Z"
    }
   },
   "outputs": [
    {
     "name": "stdout",
     "output_type": "stream",
     "text": [
      "{'1': (1, 1.0), 50: (1, 1.0, 'Hola'), '3': 1}\n"
     ]
    }
   ],
   "source": [
    "diccionario = {'1': tupla, 50: nupla, '3': entero}\n",
    "print(diccionario)"
   ]
  },
  {
   "cell_type": "code",
   "execution_count": 11,
   "id": "041ee5c6",
   "metadata": {
    "execution": {
     "iopub.execute_input": "2021-09-19T15:41:08.256256Z",
     "iopub.status.busy": "2021-09-19T15:41:08.255600Z",
     "iopub.status.idle": "2021-09-19T15:41:08.258539Z",
     "shell.execute_reply": "2021-09-19T15:41:08.259042Z"
    }
   },
   "outputs": [
    {
     "name": "stdout",
     "output_type": "stream",
     "text": [
      "{1, 2}\n"
     ]
    }
   ],
   "source": [
    "conjunto = set([1, 2])\n",
    "print(conjunto)"
   ]
  },
  {
   "cell_type": "code",
   "execution_count": 12,
   "id": "c74286ef",
   "metadata": {
    "execution": {
     "iopub.execute_input": "2021-09-19T15:41:08.263573Z",
     "iopub.status.busy": "2021-09-19T15:41:08.262924Z",
     "iopub.status.idle": "2021-09-19T15:41:08.265694Z",
     "shell.execute_reply": "2021-09-19T15:41:08.265032Z"
    }
   },
   "outputs": [
    {
     "name": "stdout",
     "output_type": "stream",
     "text": [
      "True\n"
     ]
    }
   ],
   "source": [
    "booleano = True\n",
    "print(booleano)"
   ]
  },
  {
   "cell_type": "code",
   "execution_count": 13,
   "id": "0ab581e5",
   "metadata": {
    "execution": {
     "iopub.execute_input": "2021-09-19T15:41:08.269959Z",
     "iopub.status.busy": "2021-09-19T15:41:08.269307Z",
     "iopub.status.idle": "2021-09-19T15:41:08.271384Z",
     "shell.execute_reply": "2021-09-19T15:41:08.272084Z"
    }
   },
   "outputs": [
    {
     "name": "stdout",
     "output_type": "stream",
     "text": [
      "None\n"
     ]
    }
   ],
   "source": [
    "nada = None\n",
    "print(nada)"
   ]
  },
  {
   "cell_type": "markdown",
   "id": "99f85e74",
   "metadata": {},
   "source": [
    "Ojo que las variables pueden cambiar de tipo!"
   ]
  },
  {
   "cell_type": "code",
   "execution_count": 14,
   "id": "f4dbdd09",
   "metadata": {
    "execution": {
     "iopub.execute_input": "2021-09-19T15:41:08.276511Z",
     "iopub.status.busy": "2021-09-19T15:41:08.275837Z",
     "iopub.status.idle": "2021-09-19T15:41:08.279311Z",
     "shell.execute_reply": "2021-09-19T15:41:08.278773Z"
    }
   },
   "outputs": [
    {
     "name": "stdout",
     "output_type": "stream",
     "text": [
      "1\n",
      "<class 'int'>\n"
     ]
    }
   ],
   "source": [
    "elemento = 1\n",
    "print(elemento)\n",
    "print(type(elemento))"
   ]
  },
  {
   "cell_type": "code",
   "execution_count": 15,
   "id": "8f1d0bdb",
   "metadata": {
    "execution": {
     "iopub.execute_input": "2021-09-19T15:41:08.284528Z",
     "iopub.status.busy": "2021-09-19T15:41:08.283834Z",
     "iopub.status.idle": "2021-09-19T15:41:08.286643Z",
     "shell.execute_reply": "2021-09-19T15:41:08.286110Z"
    }
   },
   "outputs": [
    {
     "name": "stdout",
     "output_type": "stream",
     "text": [
      "1\n",
      "<class 'str'>\n"
     ]
    }
   ],
   "source": [
    "elemento = str(1)\n",
    "print(elemento)\n",
    "print(type(elemento))"
   ]
  },
  {
   "cell_type": "code",
   "execution_count": 16,
   "id": "61687db2",
   "metadata": {
    "execution": {
     "iopub.execute_input": "2021-09-19T15:41:08.290605Z",
     "iopub.status.busy": "2021-09-19T15:41:08.288836Z",
     "iopub.status.idle": "2021-09-19T15:41:08.293469Z",
     "shell.execute_reply": "2021-09-19T15:41:08.294024Z"
    }
   },
   "outputs": [
    {
     "name": "stdout",
     "output_type": "stream",
     "text": [
      "[2]\n",
      "<class 'list'>\n"
     ]
    }
   ],
   "source": [
    "elemento = [2]\n",
    "\n",
    "print(elemento)\n",
    "print(type(elemento))"
   ]
  },
  {
   "cell_type": "markdown",
   "id": "baa8110e",
   "metadata": {},
   "source": [
    "### Tipos basicos"
   ]
  },
  {
   "cell_type": "markdown",
   "id": "ed121cd9",
   "metadata": {
    "slideshow": {
     "slide_type": "slide"
    }
   },
   "source": [
    "#### Listas de Python"
   ]
  },
  {
   "cell_type": "code",
   "execution_count": 17,
   "id": "b9705122",
   "metadata": {
    "execution": {
     "iopub.execute_input": "2021-09-19T15:41:08.299082Z",
     "iopub.status.busy": "2021-09-19T15:41:08.298443Z",
     "iopub.status.idle": "2021-09-19T15:41:08.301693Z",
     "shell.execute_reply": "2021-09-19T15:41:08.301053Z"
    }
   },
   "outputs": [
    {
     "data": {
      "text/plain": [
       "[]"
      ]
     },
     "execution_count": 17,
     "metadata": {},
     "output_type": "execute_result"
    }
   ],
   "source": [
    "lista = list()\n",
    "lista"
   ]
  },
  {
   "cell_type": "code",
   "execution_count": 18,
   "id": "770a5dd2",
   "metadata": {
    "execution": {
     "iopub.execute_input": "2021-09-19T15:41:08.307599Z",
     "iopub.status.busy": "2021-09-19T15:41:08.304345Z",
     "iopub.status.idle": "2021-09-19T15:41:08.309553Z",
     "shell.execute_reply": "2021-09-19T15:41:08.310100Z"
    },
    "slideshow": {
     "slide_type": "slide"
    }
   },
   "outputs": [
    {
     "data": {
      "text/plain": [
       "[]"
      ]
     },
     "execution_count": 18,
     "metadata": {},
     "output_type": "execute_result"
    }
   ],
   "source": [
    "lista = []\n",
    "lista"
   ]
  },
  {
   "cell_type": "code",
   "execution_count": 19,
   "id": "a551d6bf",
   "metadata": {
    "execution": {
     "iopub.execute_input": "2021-09-19T15:41:08.316474Z",
     "iopub.status.busy": "2021-09-19T15:41:08.315106Z",
     "iopub.status.idle": "2021-09-19T15:41:08.318688Z",
     "shell.execute_reply": "2021-09-19T15:41:08.318148Z"
    },
    "slideshow": {
     "slide_type": "slide"
    }
   },
   "outputs": [
    {
     "data": {
      "text/plain": [
       "[1, 2, 3, 4]"
      ]
     },
     "execution_count": 19,
     "metadata": {},
     "output_type": "execute_result"
    }
   ],
   "source": [
    "lista = [1, 2, 3, 4]\n",
    "lista"
   ]
  },
  {
   "cell_type": "code",
   "execution_count": 20,
   "id": "7e2bb266",
   "metadata": {
    "execution": {
     "iopub.execute_input": "2021-09-19T15:41:08.324912Z",
     "iopub.status.busy": "2021-09-19T15:41:08.324238Z",
     "iopub.status.idle": "2021-09-19T15:41:08.327297Z",
     "shell.execute_reply": "2021-09-19T15:41:08.327831Z"
    },
    "slideshow": {
     "slide_type": "slide"
    }
   },
   "outputs": [
    {
     "data": {
      "text/plain": [
       "[1, 2, 3, 4, 1, 'dos', 3.0]"
      ]
     },
     "execution_count": 20,
     "metadata": {},
     "output_type": "execute_result"
    }
   ],
   "source": [
    "lista.append(1)  # Inserto un 1 al final\n",
    "lista.append(\"dos\")  # Inserto un \"dos\" al final\n",
    "lista.append(3.0)  # Inserto un 3.0 al final\n",
    "lista"
   ]
  },
  {
   "cell_type": "code",
   "execution_count": 21,
   "id": "e3b173b7",
   "metadata": {
    "execution": {
     "iopub.execute_input": "2021-09-19T15:41:08.333005Z",
     "iopub.status.busy": "2021-09-19T15:41:08.332349Z",
     "iopub.status.idle": "2021-09-19T15:41:08.334471Z",
     "shell.execute_reply": "2021-09-19T15:41:08.335007Z"
    }
   },
   "outputs": [
    {
     "name": "stdout",
     "output_type": "stream",
     "text": [
      "[1, 2, 10, 3, 4, 1, 'dos', 3.0]\n"
     ]
    }
   ],
   "source": [
    "lista.insert(2, 10)  # Inserto en posicion 2 un 10\n",
    "print(lista)"
   ]
  },
  {
   "cell_type": "code",
   "execution_count": 22,
   "id": "b6764531",
   "metadata": {
    "execution": {
     "iopub.execute_input": "2021-09-19T15:41:08.339297Z",
     "iopub.status.busy": "2021-09-19T15:41:08.337213Z",
     "iopub.status.idle": "2021-09-19T15:41:08.342868Z",
     "shell.execute_reply": "2021-09-19T15:41:08.343401Z"
    }
   },
   "outputs": [
    {
     "data": {
      "text/plain": [
       "8"
      ]
     },
     "execution_count": 22,
     "metadata": {},
     "output_type": "execute_result"
    }
   ],
   "source": [
    "len(lista)"
   ]
  },
  {
   "cell_type": "code",
   "execution_count": 23,
   "id": "559d3ce4",
   "metadata": {
    "execution": {
     "iopub.execute_input": "2021-09-19T15:41:08.348173Z",
     "iopub.status.busy": "2021-09-19T15:41:08.347538Z",
     "iopub.status.idle": "2021-09-19T15:41:08.350834Z",
     "shell.execute_reply": "2021-09-19T15:41:08.350195Z"
    }
   },
   "outputs": [
    {
     "data": {
      "text/plain": [
       "3.0"
      ]
     },
     "execution_count": 23,
     "metadata": {},
     "output_type": "execute_result"
    }
   ],
   "source": [
    "lista.pop()"
   ]
  },
  {
   "cell_type": "code",
   "execution_count": 24,
   "id": "27b61117",
   "metadata": {
    "execution": {
     "iopub.execute_input": "2021-09-19T15:41:08.356107Z",
     "iopub.status.busy": "2021-09-19T15:41:08.355494Z",
     "iopub.status.idle": "2021-09-19T15:41:08.357959Z",
     "shell.execute_reply": "2021-09-19T15:41:08.358479Z"
    }
   },
   "outputs": [
    {
     "data": {
      "text/plain": [
       "[1, 2, 10, 3, 4, 1, 'dos']"
      ]
     },
     "execution_count": 24,
     "metadata": {},
     "output_type": "execute_result"
    }
   ],
   "source": [
    "lista"
   ]
  },
  {
   "cell_type": "code",
   "execution_count": 25,
   "id": "ba877b4b",
   "metadata": {
    "execution": {
     "iopub.execute_input": "2021-09-19T15:41:08.364393Z",
     "iopub.status.busy": "2021-09-19T15:41:08.363196Z",
     "iopub.status.idle": "2021-09-19T15:41:08.366263Z",
     "shell.execute_reply": "2021-09-19T15:41:08.366741Z"
    }
   },
   "outputs": [
    {
     "data": {
      "text/plain": [
       "2"
      ]
     },
     "execution_count": 25,
     "metadata": {},
     "output_type": "execute_result"
    }
   ],
   "source": [
    "lista.index(10)"
   ]
  },
  {
   "cell_type": "code",
   "execution_count": 26,
   "id": "82e22a1d",
   "metadata": {
    "execution": {
     "iopub.execute_input": "2021-09-19T15:41:08.371417Z",
     "iopub.status.busy": "2021-09-19T15:41:08.370807Z",
     "iopub.status.idle": "2021-09-19T15:41:08.374062Z",
     "shell.execute_reply": "2021-09-19T15:41:08.373412Z"
    }
   },
   "outputs": [
    {
     "data": {
      "text/plain": [
       "[1, 2, 3, 4, 1, 'dos']"
      ]
     },
     "execution_count": 26,
     "metadata": {},
     "output_type": "execute_result"
    }
   ],
   "source": [
    "lista.remove(10)\n",
    "lista"
   ]
  },
  {
   "cell_type": "code",
   "execution_count": 27,
   "id": "33a3c2ae",
   "metadata": {
    "execution": {
     "iopub.execute_input": "2021-09-19T15:41:08.379953Z",
     "iopub.status.busy": "2021-09-19T15:41:08.379354Z",
     "iopub.status.idle": "2021-09-19T15:41:08.461448Z",
     "shell.execute_reply": "2021-09-19T15:41:08.462014Z"
    },
    "tags": [
     "raises-exception"
    ]
   },
   "outputs": [
    {
     "name": "stdout",
     "output_type": "stream",
     "text": [
      "1\n",
      "2\n",
      "2\n",
      "3\n",
      "3\n",
      "4\n",
      "4\n",
      "5\n",
      "1\n",
      "2\n",
      "dos\n"
     ]
    },
    {
     "ename": "TypeError",
     "evalue": "can only concatenate str (not \"int\") to str",
     "output_type": "error",
     "traceback": [
      "\u001b[0;31m---------------------------------------------------------------------------\u001b[0m",
      "\u001b[0;31mTypeError\u001b[0m                                 Traceback (most recent call last)",
      "\u001b[0;32m/tmp/ipykernel_2097/1783555086.py\u001b[0m in \u001b[0;36m<module>\u001b[0;34m\u001b[0m\n\u001b[1;32m      1\u001b[0m \u001b[0;32mfor\u001b[0m \u001b[0melemento\u001b[0m \u001b[0;32min\u001b[0m \u001b[0mlista\u001b[0m\u001b[0;34m:\u001b[0m\u001b[0;34m\u001b[0m\u001b[0;34m\u001b[0m\u001b[0m\n\u001b[1;32m      2\u001b[0m     \u001b[0mprint\u001b[0m\u001b[0;34m(\u001b[0m\u001b[0melemento\u001b[0m\u001b[0;34m)\u001b[0m\u001b[0;34m\u001b[0m\u001b[0;34m\u001b[0m\u001b[0m\n\u001b[0;32m----> 3\u001b[0;31m     \u001b[0mprint\u001b[0m\u001b[0;34m(\u001b[0m\u001b[0melemento\u001b[0m \u001b[0;34m+\u001b[0m \u001b[0;36m1\u001b[0m\u001b[0;34m)\u001b[0m\u001b[0;34m\u001b[0m\u001b[0;34m\u001b[0m\u001b[0m\n\u001b[0m",
      "\u001b[0;31mTypeError\u001b[0m: can only concatenate str (not \"int\") to str"
     ]
    }
   ],
   "source": [
    "for elemento in lista:\n",
    "    print(elemento)\n",
    "    print(elemento + 1)"
   ]
  },
  {
   "cell_type": "code",
   "execution_count": 28,
   "id": "8ffd30b3",
   "metadata": {
    "execution": {
     "iopub.execute_input": "2021-09-19T15:41:08.468432Z",
     "iopub.status.busy": "2021-09-19T15:41:08.467269Z",
     "iopub.status.idle": "2021-09-19T15:41:08.470319Z",
     "shell.execute_reply": "2021-09-19T15:41:08.470842Z"
    }
   },
   "outputs": [
    {
     "data": {
      "text/plain": [
       "[1, 2, 3, 4, 1, 'dos']"
      ]
     },
     "execution_count": 28,
     "metadata": {},
     "output_type": "execute_result"
    }
   ],
   "source": [
    "lista"
   ]
  },
  {
   "cell_type": "code",
   "execution_count": 29,
   "id": "882c0a08",
   "metadata": {
    "execution": {
     "iopub.execute_input": "2021-09-19T15:41:08.475734Z",
     "iopub.status.busy": "2021-09-19T15:41:08.474509Z",
     "iopub.status.idle": "2021-09-19T15:41:08.477572Z",
     "shell.execute_reply": "2021-09-19T15:41:08.478106Z"
    }
   },
   "outputs": [
    {
     "name": "stdout",
     "output_type": "stream",
     "text": [
      "0-ésimo elemento: 1\n",
      "1-ésimo elemento: 2\n",
      "2-ésimo elemento: 3\n",
      "3-ésimo elemento: 4\n",
      "4-ésimo elemento: 1\n",
      "5-ésimo elemento: dos\n"
     ]
    }
   ],
   "source": [
    "for i, elemento in enumerate(lista):\n",
    "    print(f\"{i}-ésimo elemento: {elemento}\")"
   ]
  },
  {
   "cell_type": "code",
   "execution_count": 30,
   "id": "de67c13b",
   "metadata": {
    "execution": {
     "iopub.execute_input": "2021-09-19T15:41:08.481059Z",
     "iopub.status.busy": "2021-09-19T15:41:08.480417Z",
     "iopub.status.idle": "2021-09-19T15:41:08.519616Z",
     "shell.execute_reply": "2021-09-19T15:41:08.524378Z"
    },
    "tags": [
     "raises-exception"
    ]
   },
   "outputs": [
    {
     "ename": "TypeError",
     "evalue": "'<' not supported between instances of 'str' and 'int'",
     "output_type": "error",
     "traceback": [
      "\u001b[0;31m---------------------------------------------------------------------------\u001b[0m",
      "\u001b[0;31mTypeError\u001b[0m                                 Traceback (most recent call last)",
      "\u001b[0;32m/tmp/ipykernel_2097/2266425520.py\u001b[0m in \u001b[0;36m<module>\u001b[0;34m\u001b[0m\n\u001b[0;32m----> 1\u001b[0;31m \u001b[0msorted\u001b[0m\u001b[0;34m(\u001b[0m\u001b[0mlista\u001b[0m\u001b[0;34m)\u001b[0m\u001b[0;34m\u001b[0m\u001b[0;34m\u001b[0m\u001b[0m\n\u001b[0m",
      "\u001b[0;31mTypeError\u001b[0m: '<' not supported between instances of 'str' and 'int'"
     ]
    }
   ],
   "source": [
    "sorted(lista)"
   ]
  },
  {
   "cell_type": "code",
   "execution_count": 31,
   "id": "ef2d4af8",
   "metadata": {
    "execution": {
     "iopub.execute_input": "2021-09-19T15:41:08.529273Z",
     "iopub.status.busy": "2021-09-19T15:41:08.528627Z",
     "iopub.status.idle": "2021-09-19T15:41:08.531601Z",
     "shell.execute_reply": "2021-09-19T15:41:08.530676Z"
    }
   },
   "outputs": [],
   "source": [
    "lista.remove(\"dos\")"
   ]
  },
  {
   "cell_type": "code",
   "execution_count": 32,
   "id": "a81f543a",
   "metadata": {
    "execution": {
     "iopub.execute_input": "2021-09-19T15:41:08.536608Z",
     "iopub.status.busy": "2021-09-19T15:41:08.535915Z",
     "iopub.status.idle": "2021-09-19T15:41:08.539744Z",
     "shell.execute_reply": "2021-09-19T15:41:08.540242Z"
    }
   },
   "outputs": [
    {
     "data": {
      "text/plain": [
       "[1, 1, 2, 3, 4]"
      ]
     },
     "execution_count": 32,
     "metadata": {},
     "output_type": "execute_result"
    }
   ],
   "source": [
    "sorted(lista)"
   ]
  },
  {
   "cell_type": "code",
   "execution_count": 33,
   "id": "364b095f",
   "metadata": {
    "execution": {
     "iopub.execute_input": "2021-09-19T15:41:08.546504Z",
     "iopub.status.busy": "2021-09-19T15:41:08.545855Z",
     "iopub.status.idle": "2021-09-19T15:41:08.548549Z",
     "shell.execute_reply": "2021-09-19T15:41:08.549070Z"
    }
   },
   "outputs": [
    {
     "data": {
      "text/plain": [
       "[1, 1, 2, 3, 4]"
      ]
     },
     "execution_count": 33,
     "metadata": {},
     "output_type": "execute_result"
    }
   ],
   "source": [
    "lista.sort()\n",
    "lista"
   ]
  },
  {
   "cell_type": "markdown",
   "id": "b0362e7d",
   "metadata": {
    "slideshow": {
     "slide_type": "slide"
    }
   },
   "source": [
    "#### Tuplas de Python\n",
    "\n",
    "Las tuplas son inmutables. No se pueden agregar elementos luego de creadas."
   ]
  },
  {
   "cell_type": "code",
   "execution_count": 34,
   "id": "38e21d2c",
   "metadata": {
    "execution": {
     "iopub.execute_input": "2021-09-19T15:41:08.556066Z",
     "iopub.status.busy": "2021-09-19T15:41:08.553305Z",
     "iopub.status.idle": "2021-09-19T15:41:08.561885Z",
     "shell.execute_reply": "2021-09-19T15:41:08.561336Z"
    },
    "slideshow": {
     "slide_type": "slide"
    },
    "tags": [
     "raises-exception"
    ]
   },
   "outputs": [
    {
     "name": "stdout",
     "output_type": "stream",
     "text": [
      "(1, 2)\n",
      "1\n",
      "2\n"
     ]
    },
    {
     "ename": "TypeError",
     "evalue": "'tuple' object does not support item assignment",
     "output_type": "error",
     "traceback": [
      "\u001b[0;31m---------------------------------------------------------------------------\u001b[0m",
      "\u001b[0;31mTypeError\u001b[0m                                 Traceback (most recent call last)",
      "\u001b[0;32m/tmp/ipykernel_2097/3644040918.py\u001b[0m in \u001b[0;36m<module>\u001b[0;34m\u001b[0m\n\u001b[1;32m      5\u001b[0m \u001b[0mprint\u001b[0m\u001b[0;34m(\u001b[0m\u001b[0mtupla\u001b[0m\u001b[0;34m[\u001b[0m\u001b[0;36m1\u001b[0m\u001b[0;34m]\u001b[0m\u001b[0;34m)\u001b[0m\u001b[0;34m\u001b[0m\u001b[0;34m\u001b[0m\u001b[0m\n\u001b[1;32m      6\u001b[0m \u001b[0;34m\u001b[0m\u001b[0m\n\u001b[0;32m----> 7\u001b[0;31m \u001b[0mtupla\u001b[0m\u001b[0;34m[\u001b[0m\u001b[0;36m1\u001b[0m\u001b[0;34m]\u001b[0m \u001b[0;34m=\u001b[0m \u001b[0;36m3\u001b[0m  \u001b[0;31m# Falla. No se puede mutar\u001b[0m\u001b[0;34m\u001b[0m\u001b[0;34m\u001b[0m\u001b[0m\n\u001b[0m",
      "\u001b[0;31mTypeError\u001b[0m: 'tuple' object does not support item assignment"
     ]
    }
   ],
   "source": [
    "tupla = (1, 2)\n",
    "\n",
    "print(tupla)\n",
    "print(tupla[0])\n",
    "print(tupla[1])\n",
    "\n",
    "tupla[1] = 3  # Falla. No se puede mutar"
   ]
  },
  {
   "cell_type": "code",
   "execution_count": 35,
   "id": "10ffcf29",
   "metadata": {
    "execution": {
     "iopub.execute_input": "2021-09-19T15:41:08.566760Z",
     "iopub.status.busy": "2021-09-19T15:41:08.566113Z",
     "iopub.status.idle": "2021-09-19T15:41:08.568934Z",
     "shell.execute_reply": "2021-09-19T15:41:08.569449Z"
    }
   },
   "outputs": [
    {
     "data": {
      "text/plain": [
       "[1, 2]"
      ]
     },
     "execution_count": 35,
     "metadata": {},
     "output_type": "execute_result"
    }
   ],
   "source": [
    "l = [1, 2]\n",
    "l"
   ]
  },
  {
   "cell_type": "code",
   "execution_count": 36,
   "id": "6cda891d",
   "metadata": {
    "execution": {
     "iopub.execute_input": "2021-09-19T15:41:08.575388Z",
     "iopub.status.busy": "2021-09-19T15:41:08.574261Z",
     "iopub.status.idle": "2021-09-19T15:41:08.577149Z",
     "shell.execute_reply": "2021-09-19T15:41:08.577706Z"
    }
   },
   "outputs": [
    {
     "data": {
      "text/plain": [
       "[1, 3]"
      ]
     },
     "execution_count": 36,
     "metadata": {},
     "output_type": "execute_result"
    }
   ],
   "source": [
    "l[1] = 3\n",
    "l"
   ]
  },
  {
   "cell_type": "markdown",
   "id": "b82995de",
   "metadata": {
    "slideshow": {
     "slide_type": "slide"
    }
   },
   "source": [
    "#### Diferencia entre lista y tupla\n",
    "Las listas se caracterizan por ser mutables, es decir, se puede cambiar su contenido en tiempo de ejecución, mientras que las tuplas son inmutables ya que no es posible modificar el contenido una vez creada."
   ]
  },
  {
   "cell_type": "markdown",
   "id": "35558d83",
   "metadata": {},
   "source": [
    "#### Slices\n",
    "\n",
    "**Valen para listas, tuplas o strings (_segmentos_)**"
   ]
  },
  {
   "cell_type": "code",
   "execution_count": 37,
   "id": "f72279e7",
   "metadata": {
    "execution": {
     "iopub.execute_input": "2021-09-19T15:41:08.580561Z",
     "iopub.status.busy": "2021-09-19T15:41:08.579919Z",
     "iopub.status.idle": "2021-09-19T15:41:08.585775Z",
     "shell.execute_reply": "2021-09-19T15:41:08.585098Z"
    }
   },
   "outputs": [],
   "source": [
    "numeros = [0, 1, 2, 3, 4, 5, 6, 7, 8, 9, 10]"
   ]
  },
  {
   "cell_type": "code",
   "execution_count": 38,
   "id": "e780f4ac",
   "metadata": {
    "execution": {
     "iopub.execute_input": "2021-09-19T15:41:08.590050Z",
     "iopub.status.busy": "2021-09-19T15:41:08.589420Z",
     "iopub.status.idle": "2021-09-19T15:41:08.591845Z",
     "shell.execute_reply": "2021-09-19T15:41:08.592387Z"
    }
   },
   "outputs": [
    {
     "name": "stdout",
     "output_type": "stream",
     "text": [
      "[0, 1, 2, 3, 4, 5, 6, 7, 8, 9, 10]\n"
     ]
    }
   ],
   "source": [
    "print(numeros)"
   ]
  },
  {
   "cell_type": "code",
   "execution_count": 39,
   "id": "1e6d18eb",
   "metadata": {
    "execution": {
     "iopub.execute_input": "2021-09-19T15:41:08.596893Z",
     "iopub.status.busy": "2021-09-19T15:41:08.596188Z",
     "iopub.status.idle": "2021-09-19T15:41:08.598623Z",
     "shell.execute_reply": "2021-09-19T15:41:08.599139Z"
    }
   },
   "outputs": [
    {
     "name": "stdout",
     "output_type": "stream",
     "text": [
      "2\n"
     ]
    }
   ],
   "source": [
    "print(numeros[2])  # Imprimo elemento en la posición 2"
   ]
  },
  {
   "cell_type": "code",
   "execution_count": 40,
   "id": "4685934c",
   "metadata": {
    "execution": {
     "iopub.execute_input": "2021-09-19T15:41:08.603781Z",
     "iopub.status.busy": "2021-09-19T15:41:08.603080Z",
     "iopub.status.idle": "2021-09-19T15:41:08.606569Z",
     "shell.execute_reply": "2021-09-19T15:41:08.606027Z"
    }
   },
   "outputs": [
    {
     "data": {
      "text/plain": [
       "10"
      ]
     },
     "execution_count": 40,
     "metadata": {},
     "output_type": "execute_result"
    }
   ],
   "source": [
    "numeros[len(numeros) - 1]"
   ]
  },
  {
   "cell_type": "code",
   "execution_count": 41,
   "id": "554263cd",
   "metadata": {
    "execution": {
     "iopub.execute_input": "2021-09-19T15:41:08.612948Z",
     "iopub.status.busy": "2021-09-19T15:41:08.611507Z",
     "iopub.status.idle": "2021-09-19T15:41:08.614977Z",
     "shell.execute_reply": "2021-09-19T15:41:08.614435Z"
    },
    "lines_to_next_cell": 2
   },
   "outputs": [
    {
     "name": "stdout",
     "output_type": "stream",
     "text": [
      "10\n"
     ]
    }
   ],
   "source": [
    "print(numeros[-1])  # # Imprimo elemento en la última posición"
   ]
  },
  {
   "cell_type": "code",
   "execution_count": 42,
   "id": "8df56baa",
   "metadata": {
    "execution": {
     "iopub.execute_input": "2021-09-19T15:41:08.621847Z",
     "iopub.status.busy": "2021-09-19T15:41:08.620146Z",
     "iopub.status.idle": "2021-09-19T15:41:08.623942Z",
     "shell.execute_reply": "2021-09-19T15:41:08.623402Z"
    },
    "lines_to_next_cell": 2
   },
   "outputs": [
    {
     "data": {
      "text/plain": [
       "9"
      ]
     },
     "execution_count": 42,
     "metadata": {},
     "output_type": "execute_result"
    }
   ],
   "source": [
    "numeros[-2]"
   ]
  },
  {
   "cell_type": "code",
   "execution_count": 43,
   "id": "70c1bc4b",
   "metadata": {
    "execution": {
     "iopub.execute_input": "2021-09-19T15:41:08.629187Z",
     "iopub.status.busy": "2021-09-19T15:41:08.628257Z",
     "iopub.status.idle": "2021-09-19T15:41:08.630692Z",
     "shell.execute_reply": "2021-09-19T15:41:08.631222Z"
    }
   },
   "outputs": [
    {
     "name": "stdout",
     "output_type": "stream",
     "text": [
      "[0, 1, 2]\n"
     ]
    }
   ],
   "source": [
    "print(numeros[0:3])  # Imprimo de la pos 0 a la pos 2"
   ]
  },
  {
   "cell_type": "code",
   "execution_count": 44,
   "id": "89c965f2",
   "metadata": {
    "execution": {
     "iopub.execute_input": "2021-09-19T15:41:08.635458Z",
     "iopub.status.busy": "2021-09-19T15:41:08.634829Z",
     "iopub.status.idle": "2021-09-19T15:41:08.637935Z",
     "shell.execute_reply": "2021-09-19T15:41:08.637390Z"
    }
   },
   "outputs": [
    {
     "name": "stdout",
     "output_type": "stream",
     "text": [
      "[7, 8]\n"
     ]
    }
   ],
   "source": [
    "print(numeros[-4:-2])"
   ]
  },
  {
   "cell_type": "code",
   "execution_count": 45,
   "id": "ff921cf3",
   "metadata": {
    "execution": {
     "iopub.execute_input": "2021-09-19T15:41:08.642449Z",
     "iopub.status.busy": "2021-09-19T15:41:08.641828Z",
     "iopub.status.idle": "2021-09-19T15:41:08.644069Z",
     "shell.execute_reply": "2021-09-19T15:41:08.644702Z"
    }
   },
   "outputs": [
    {
     "name": "stdout",
     "output_type": "stream",
     "text": [
      "[0, 1, 2, 3, 4, 5, 6, 7, 8, 9, 10]\n"
     ]
    }
   ],
   "source": [
    "print(numeros[0:80])"
   ]
  },
  {
   "cell_type": "code",
   "execution_count": 46,
   "id": "9bd175e2",
   "metadata": {
    "execution": {
     "iopub.execute_input": "2021-09-19T15:41:08.648817Z",
     "iopub.status.busy": "2021-09-19T15:41:08.648163Z",
     "iopub.status.idle": "2021-09-19T15:41:08.650572Z",
     "shell.execute_reply": "2021-09-19T15:41:08.651107Z"
    }
   },
   "outputs": [
    {
     "name": "stdout",
     "output_type": "stream",
     "text": [
      "[0, 1, 2]\n"
     ]
    }
   ],
   "source": [
    "print(numeros[:3])"
   ]
  },
  {
   "cell_type": "code",
   "execution_count": 47,
   "id": "4a988034",
   "metadata": {
    "execution": {
     "iopub.execute_input": "2021-09-19T15:41:08.656353Z",
     "iopub.status.busy": "2021-09-19T15:41:08.655705Z",
     "iopub.status.idle": "2021-09-19T15:41:08.657957Z",
     "shell.execute_reply": "2021-09-19T15:41:08.658473Z"
    }
   },
   "outputs": [
    {
     "name": "stdout",
     "output_type": "stream",
     "text": [
      "[3, 4, 5, 6, 7, 8, 9, 10]\n"
     ]
    }
   ],
   "source": [
    "print(numeros[3:])"
   ]
  },
  {
   "cell_type": "code",
   "execution_count": 48,
   "id": "2289af84",
   "metadata": {
    "execution": {
     "iopub.execute_input": "2021-09-19T15:41:08.662890Z",
     "iopub.status.busy": "2021-09-19T15:41:08.660975Z",
     "iopub.status.idle": "2021-09-19T15:41:08.665356Z",
     "shell.execute_reply": "2021-09-19T15:41:08.665881Z"
    }
   },
   "outputs": [
    {
     "name": "stdout",
     "output_type": "stream",
     "text": [
      "[0, 2, 4, 6, 8]\n"
     ]
    }
   ],
   "source": [
    "print(numeros[0:10:2])"
   ]
  },
  {
   "cell_type": "markdown",
   "id": "2bb1a33a",
   "metadata": {},
   "source": [
    "```python\n",
    "lista[<inicio>:<final>:<step>]\n",
    "```"
   ]
  },
  {
   "cell_type": "code",
   "execution_count": 49,
   "id": "86fe5a23",
   "metadata": {
    "execution": {
     "iopub.execute_input": "2021-09-19T15:41:08.671254Z",
     "iopub.status.busy": "2021-09-19T15:41:08.670630Z",
     "iopub.status.idle": "2021-09-19T15:41:08.673532Z",
     "shell.execute_reply": "2021-09-19T15:41:08.674104Z"
    },
    "lines_to_next_cell": 2
   },
   "outputs": [
    {
     "data": {
      "text/plain": [
       "[1, 2, 3, 4]"
      ]
     },
     "execution_count": 49,
     "metadata": {},
     "output_type": "execute_result"
    }
   ],
   "source": [
    "l1 = [1, 2]\n",
    "l2 = [3, 4]\n",
    "l1 + l2"
   ]
  },
  {
   "cell_type": "code",
   "execution_count": 50,
   "id": "c8a75292",
   "metadata": {
    "execution": {
     "iopub.execute_input": "2021-09-19T15:41:08.679118Z",
     "iopub.status.busy": "2021-09-19T15:41:08.678490Z",
     "iopub.status.idle": "2021-09-19T15:41:08.680588Z",
     "shell.execute_reply": "2021-09-19T15:41:08.681117Z"
    }
   },
   "outputs": [
    {
     "name": "stdout",
     "output_type": "stream",
     "text": [
      "[0, 1, 2, 3, 4, 5, 6, 'siete', 8, 9, 10]\n"
     ]
    }
   ],
   "source": [
    "numeros[7] = 'siete'  # Las listas se pueden mutar\n",
    "print(numeros)"
   ]
  },
  {
   "cell_type": "code",
   "execution_count": 51,
   "id": "4295fb68",
   "metadata": {
    "execution": {
     "iopub.execute_input": "2021-09-19T15:41:08.686706Z",
     "iopub.status.busy": "2021-09-19T15:41:08.686060Z",
     "iopub.status.idle": "2021-09-19T15:41:08.689650Z",
     "shell.execute_reply": "2021-09-19T15:41:08.689015Z"
    }
   },
   "outputs": [
    {
     "name": "stdout",
     "output_type": "stream",
     "text": [
      "[10, 9, 8, 'siete', 6, 5, 4, 3, 2, 1, 0]\n"
     ]
    }
   ],
   "source": [
    "numeros = numeros[::-1]\n",
    "print(numeros)"
   ]
  },
  {
   "cell_type": "code",
   "execution_count": 52,
   "id": "36a0753f",
   "metadata": {
    "execution": {
     "iopub.execute_input": "2021-09-19T15:41:08.697093Z",
     "iopub.status.busy": "2021-09-19T15:41:08.696170Z",
     "iopub.status.idle": "2021-09-19T15:41:08.699680Z",
     "shell.execute_reply": "2021-09-19T15:41:08.699125Z"
    },
    "tags": [
     "raises-exception"
    ]
   },
   "outputs": [
    {
     "ename": "IndexError",
     "evalue": "list index out of range",
     "output_type": "error",
     "traceback": [
      "\u001b[0;31m---------------------------------------------------------------------------\u001b[0m",
      "\u001b[0;31mIndexError\u001b[0m                                Traceback (most recent call last)",
      "\u001b[0;32m/tmp/ipykernel_2097/1255736182.py\u001b[0m in \u001b[0;36m<module>\u001b[0;34m\u001b[0m\n\u001b[0;32m----> 1\u001b[0;31m \u001b[0mprint\u001b[0m\u001b[0;34m(\u001b[0m\u001b[0mnumeros\u001b[0m\u001b[0;34m[\u001b[0m\u001b[0;36m15\u001b[0m\u001b[0;34m]\u001b[0m\u001b[0;34m)\u001b[0m  \u001b[0;31m# Falla. No se puede acceder a una posición inexistente\u001b[0m\u001b[0;34m\u001b[0m\u001b[0;34m\u001b[0m\u001b[0m\n\u001b[0m",
      "\u001b[0;31mIndexError\u001b[0m: list index out of range"
     ]
    }
   ],
   "source": [
    "print(numeros[15])  # Falla. No se puede acceder a una posición inexistente"
   ]
  },
  {
   "cell_type": "code",
   "execution_count": 53,
   "id": "2770f492",
   "metadata": {
    "execution": {
     "iopub.execute_input": "2021-09-19T15:41:08.705746Z",
     "iopub.status.busy": "2021-09-19T15:41:08.703535Z",
     "iopub.status.idle": "2021-09-19T15:41:08.709347Z",
     "shell.execute_reply": "2021-09-19T15:41:08.709868Z"
    }
   },
   "outputs": [
    {
     "name": "stdout",
     "output_type": "stream",
     "text": [
      "palabra\n",
      "a\n",
      "pal\n",
      "abra\n"
     ]
    }
   ],
   "source": [
    "palabra = 'palabra'\n",
    "print(palabra)\n",
    "print(palabra[3])\n",
    "print(palabra[:3])\n",
    "print(palabra[3:])"
   ]
  },
  {
   "cell_type": "code",
   "execution_count": 54,
   "id": "69c1a077",
   "metadata": {
    "execution": {
     "iopub.execute_input": "2021-09-19T15:41:08.714770Z",
     "iopub.status.busy": "2021-09-19T15:41:08.714092Z",
     "iopub.status.idle": "2021-09-19T15:41:08.718824Z",
     "shell.execute_reply": "2021-09-19T15:41:08.718196Z"
    }
   },
   "outputs": [
    {
     "name": "stdout",
     "output_type": "stream",
     "text": [
      "(0, 1, 2, 3, 4)\n",
      "(0, 1)\n",
      "(2, 3, 4)\n"
     ]
    }
   ],
   "source": [
    "tupla = (0, 1, 2, 3, 4)\n",
    "\n",
    "print(tupla)\n",
    "print(tupla[:2])\n",
    "print(tupla[2:])"
   ]
  },
  {
   "cell_type": "markdown",
   "id": "c302a316",
   "metadata": {
    "slideshow": {
     "slide_type": "slide"
    }
   },
   "source": [
    "#### Diccionarios de Python\n",
    "\n",
    "Son como hashmaps, las claves deben ser inmutables para que no pierda sentido el diccionario. Si se pudieran modificar, se podrían cambiar las claves y generaría conflictos.\n",
    "\n",
    "Tipos mutables:\n",
    "- Listas\n",
    "- Diccionarios\n",
    "- Sets\n",
    "\n",
    "Tipos inmutables:\n",
    "- Int\n",
    "- Float\n",
    "- String\n",
    "- Tuplas\n"
   ]
  },
  {
   "cell_type": "code",
   "execution_count": 55,
   "id": "57e1b885",
   "metadata": {
    "execution": {
     "iopub.execute_input": "2021-09-19T15:41:08.723694Z",
     "iopub.status.busy": "2021-09-19T15:41:08.723086Z",
     "iopub.status.idle": "2021-09-19T15:41:08.729185Z",
     "shell.execute_reply": "2021-09-19T15:41:08.728644Z"
    },
    "slideshow": {
     "slide_type": "slide"
    }
   },
   "outputs": [
    {
     "data": {
      "text/plain": [
       "{}"
      ]
     },
     "execution_count": 55,
     "metadata": {},
     "output_type": "execute_result"
    }
   ],
   "source": [
    "diccionario = {}\n",
    "diccionario"
   ]
  },
  {
   "cell_type": "code",
   "execution_count": 56,
   "id": "fc81c34c",
   "metadata": {
    "execution": {
     "iopub.execute_input": "2021-09-19T15:41:08.733668Z",
     "iopub.status.busy": "2021-09-19T15:41:08.733079Z",
     "iopub.status.idle": "2021-09-19T15:41:08.738800Z",
     "shell.execute_reply": "2021-09-19T15:41:08.738227Z"
    }
   },
   "outputs": [
    {
     "data": {
      "text/plain": [
       "{}"
      ]
     },
     "execution_count": 56,
     "metadata": {},
     "output_type": "execute_result"
    }
   ],
   "source": [
    "diccionario = dict()\n",
    "diccionario"
   ]
  },
  {
   "cell_type": "code",
   "execution_count": 57,
   "id": "e7e3a63c",
   "metadata": {
    "execution": {
     "iopub.execute_input": "2021-09-19T15:41:08.743535Z",
     "iopub.status.busy": "2021-09-19T15:41:08.742911Z",
     "iopub.status.idle": "2021-09-19T15:41:08.747642Z",
     "shell.execute_reply": "2021-09-19T15:41:08.747056Z"
    },
    "slideshow": {
     "slide_type": "slide"
    }
   },
   "outputs": [
    {
     "name": "stdout",
     "output_type": "stream",
     "text": [
      "{'clave1': 'valor1', 2: 'valor2', 'clave3': 3}\n"
     ]
    }
   ],
   "source": [
    "# Cómo agregar cosas al diccionario\n",
    "diccionario['clave1'] = 'valor1'\n",
    "diccionario[2] = 'valor2'\n",
    "diccionario['clave3'] = 3\n",
    "print(diccionario)"
   ]
  },
  {
   "cell_type": "markdown",
   "id": "aa3c655c",
   "metadata": {},
   "source": [
    "Hay dos formas de obtener valores de un diccionario:\n",
    "\n",
    "```python\n",
    "diccionario[clave]\n",
    "```\n",
    "\n",
    "El cual devuelve el valor si existe la clave suministrada o bien lanza `KeyError` si no existe."
   ]
  },
  {
   "cell_type": "code",
   "execution_count": 58,
   "id": "8f8e7747",
   "metadata": {
    "execution": {
     "iopub.execute_input": "2021-09-19T15:41:08.752123Z",
     "iopub.status.busy": "2021-09-19T15:41:08.751484Z",
     "iopub.status.idle": "2021-09-19T15:41:08.754689Z",
     "shell.execute_reply": "2021-09-19T15:41:08.755702Z"
    }
   },
   "outputs": [
    {
     "data": {
      "text/plain": [
       "'valor1'"
      ]
     },
     "execution_count": 58,
     "metadata": {},
     "output_type": "execute_result"
    }
   ],
   "source": [
    "diccionario['clave1']"
   ]
  },
  {
   "cell_type": "code",
   "execution_count": 59,
   "id": "e1ad8c82",
   "metadata": {
    "execution": {
     "iopub.execute_input": "2021-09-19T15:41:08.761778Z",
     "iopub.status.busy": "2021-09-19T15:41:08.759044Z",
     "iopub.status.idle": "2021-09-19T15:41:08.767083Z",
     "shell.execute_reply": "2021-09-19T15:41:08.766517Z"
    },
    "tags": [
     "raises-exception"
    ]
   },
   "outputs": [
    {
     "ename": "KeyError",
     "evalue": "'clave1000'",
     "output_type": "error",
     "traceback": [
      "\u001b[0;31m---------------------------------------------------------------------------\u001b[0m",
      "\u001b[0;31mKeyError\u001b[0m                                  Traceback (most recent call last)",
      "\u001b[0;32m/tmp/ipykernel_2097/3541524662.py\u001b[0m in \u001b[0;36m<module>\u001b[0;34m\u001b[0m\n\u001b[0;32m----> 1\u001b[0;31m \u001b[0mdiccionario\u001b[0m\u001b[0;34m[\u001b[0m\u001b[0;34m'clave1000'\u001b[0m\u001b[0;34m]\u001b[0m\u001b[0;34m\u001b[0m\u001b[0;34m\u001b[0m\u001b[0m\n\u001b[0m",
      "\u001b[0;31mKeyError\u001b[0m: 'clave1000'"
     ]
    }
   ],
   "source": [
    "diccionario['clave1000']"
   ]
  },
  {
   "cell_type": "markdown",
   "id": "8f305e99",
   "metadata": {},
   "source": [
    "La segunda forma es con `get`:"
   ]
  },
  {
   "cell_type": "code",
   "execution_count": 60,
   "id": "ceb992bf",
   "metadata": {
    "execution": {
     "iopub.execute_input": "2021-09-19T15:41:08.780524Z",
     "iopub.status.busy": "2021-09-19T15:41:08.779601Z",
     "iopub.status.idle": "2021-09-19T15:41:08.831233Z",
     "shell.execute_reply": "2021-09-19T15:41:08.830363Z"
    }
   },
   "outputs": [],
   "source": [
    "diccionario.get?"
   ]
  },
  {
   "cell_type": "code",
   "execution_count": 61,
   "id": "df1ef58a",
   "metadata": {
    "execution": {
     "iopub.execute_input": "2021-09-19T15:41:08.836523Z",
     "iopub.status.busy": "2021-09-19T15:41:08.835803Z",
     "iopub.status.idle": "2021-09-19T15:41:08.840187Z",
     "shell.execute_reply": "2021-09-19T15:41:08.839646Z"
    }
   },
   "outputs": [
    {
     "name": "stdout",
     "output_type": "stream",
     "text": [
      "Help on built-in function get:\n",
      "\n",
      "get(key, default=None, /) method of builtins.dict instance\n",
      "    Return the value for key if key is in the dictionary, else default.\n",
      "\n"
     ]
    }
   ],
   "source": [
    "help(diccionario.get)"
   ]
  },
  {
   "cell_type": "code",
   "execution_count": 62,
   "id": "a141368b",
   "metadata": {
    "execution": {
     "iopub.execute_input": "2021-09-19T15:41:08.844353Z",
     "iopub.status.busy": "2021-09-19T15:41:08.843749Z",
     "iopub.status.idle": "2021-09-19T15:41:08.846419Z",
     "shell.execute_reply": "2021-09-19T15:41:08.846922Z"
    },
    "slideshow": {
     "slide_type": "slide"
    }
   },
   "outputs": [
    {
     "name": "stdout",
     "output_type": "stream",
     "text": [
      "None\n"
     ]
    }
   ],
   "source": [
    "print(diccionario.get('clave1000'))"
   ]
  },
  {
   "cell_type": "code",
   "execution_count": 63,
   "id": "276eeda8",
   "metadata": {
    "execution": {
     "iopub.execute_input": "2021-09-19T15:41:08.852901Z",
     "iopub.status.busy": "2021-09-19T15:41:08.851365Z",
     "iopub.status.idle": "2021-09-19T15:41:08.854856Z",
     "shell.execute_reply": "2021-09-19T15:41:08.854286Z"
    },
    "slideshow": {
     "slide_type": "slide"
    }
   },
   "outputs": [
    {
     "name": "stdout",
     "output_type": "stream",
     "text": [
      "True\n"
     ]
    }
   ],
   "source": [
    "print('clave1' in diccionario)  # Verifico si la clave está en el diccionario"
   ]
  },
  {
   "cell_type": "code",
   "execution_count": 64,
   "id": "194eddb4",
   "metadata": {
    "execution": {
     "iopub.execute_input": "2021-09-19T15:41:08.860562Z",
     "iopub.status.busy": "2021-09-19T15:41:08.857651Z",
     "iopub.status.idle": "2021-09-19T15:41:08.862814Z",
     "shell.execute_reply": "2021-09-19T15:41:08.863319Z"
    }
   },
   "outputs": [
    {
     "data": {
      "text/plain": [
       "True"
      ]
     },
     "execution_count": 64,
     "metadata": {},
     "output_type": "execute_result"
    }
   ],
   "source": [
    "l = [1, 2, 3, 4]\n",
    "2 in l"
   ]
  },
  {
   "cell_type": "code",
   "execution_count": 65,
   "id": "bb018b7b",
   "metadata": {
    "execution": {
     "iopub.execute_input": "2021-09-19T15:41:08.867971Z",
     "iopub.status.busy": "2021-09-19T15:41:08.867308Z",
     "iopub.status.idle": "2021-09-19T15:41:08.869731Z",
     "shell.execute_reply": "2021-09-19T15:41:08.870210Z"
    }
   },
   "outputs": [
    {
     "name": "stdout",
     "output_type": "stream",
     "text": [
      "la clave es clave1 y el valor es valor1\n",
      "la clave es 2 y el valor es valor2\n",
      "la clave es clave3 y el valor es 3\n"
     ]
    }
   ],
   "source": [
    "for clave, valor in diccionario.items():\n",
    "    print(\"la clave es %s y el valor es %s\" % (clave, valor))"
   ]
  },
  {
   "cell_type": "code",
   "execution_count": 66,
   "id": "b4c40d20",
   "metadata": {
    "execution": {
     "iopub.execute_input": "2021-09-19T15:41:08.875158Z",
     "iopub.status.busy": "2021-09-19T15:41:08.872519Z",
     "iopub.status.idle": "2021-09-19T15:41:08.877593Z",
     "shell.execute_reply": "2021-09-19T15:41:08.878087Z"
    }
   },
   "outputs": [
    {
     "name": "stdout",
     "output_type": "stream",
     "text": [
      "la clave es clave1 y el valor es valor1\n",
      "la clave es 2 y el valor es valor2\n",
      "la clave es clave3 y el valor es 3\n"
     ]
    }
   ],
   "source": [
    "for clave, valor in diccionario.items():\n",
    "    print(\"la clave es {} y el valor es {}\".format(clave, valor))"
   ]
  },
  {
   "cell_type": "code",
   "execution_count": 67,
   "id": "cd69e797",
   "metadata": {
    "execution": {
     "iopub.execute_input": "2021-09-19T15:41:08.883301Z",
     "iopub.status.busy": "2021-09-19T15:41:08.880330Z",
     "iopub.status.idle": "2021-09-19T15:41:08.885623Z",
     "shell.execute_reply": "2021-09-19T15:41:08.886946Z"
    },
    "slideshow": {
     "slide_type": "slide"
    }
   },
   "outputs": [
    {
     "name": "stdout",
     "output_type": "stream",
     "text": [
      "la clave es clave1 y el valor es valor1\n",
      "la clave es 2 y el valor es valor2\n",
      "la clave es clave3 y el valor es 3\n"
     ]
    }
   ],
   "source": [
    "# Cómo iterar un diccionario elemento por elemento\n",
    "for (\n",
    "    clave,\n",
    "    valor,\n",
    ") in (\n",
    "    diccionario.items()\n",
    "):  # diccionario.items() va devolviendo tuplas con el formato (clave,valor)\n",
    "    print(\n",
    "        f\"la clave es {clave} y el valor es {valor}\"\n",
    "    )  # con esta sintaxis se desempaquetan en clave y valor (similar a enumerate)"
   ]
  },
  {
   "cell_type": "code",
   "execution_count": 68,
   "id": "5ee30d64",
   "metadata": {
    "execution": {
     "iopub.execute_input": "2021-09-19T15:41:08.892069Z",
     "iopub.status.busy": "2021-09-19T15:41:08.891424Z",
     "iopub.status.idle": "2021-09-19T15:41:08.894335Z",
     "shell.execute_reply": "2021-09-19T15:41:08.894822Z"
    },
    "slideshow": {
     "slide_type": "slide"
    }
   },
   "outputs": [
    {
     "name": "stdout",
     "output_type": "stream",
     "text": [
      "clave1\n",
      "2\n",
      "clave3\n"
     ]
    }
   ],
   "source": [
    "for clave in diccionario.keys():\n",
    "    print(clave)"
   ]
  },
  {
   "cell_type": "code",
   "execution_count": 69,
   "id": "323100c6",
   "metadata": {
    "execution": {
     "iopub.execute_input": "2021-09-19T15:41:08.900408Z",
     "iopub.status.busy": "2021-09-19T15:41:08.899707Z",
     "iopub.status.idle": "2021-09-19T15:41:08.901929Z",
     "shell.execute_reply": "2021-09-19T15:41:08.902434Z"
    },
    "slideshow": {
     "slide_type": "slide"
    }
   },
   "outputs": [
    {
     "name": "stdout",
     "output_type": "stream",
     "text": [
      "valor1\n",
      "valor2\n",
      "3\n"
     ]
    }
   ],
   "source": [
    "for valor in diccionario.values():\n",
    "    print(valor)"
   ]
  },
  {
   "cell_type": "markdown",
   "id": "c41f56a6",
   "metadata": {},
   "source": [
    "#### Sets\n",
    "\n",
    "Son similares a los diccionarios (en eficiencia) pero se almacenan solo claves, y tienen algunas operaciones particulares.\n",
    "\n",
    "En particular, no pueden tener elementos iguales (pensar que son conjuntos)"
   ]
  },
  {
   "cell_type": "code",
   "execution_count": 70,
   "id": "bdaeab7f",
   "metadata": {
    "execution": {
     "iopub.execute_input": "2021-09-19T15:41:08.907348Z",
     "iopub.status.busy": "2021-09-19T15:41:08.906695Z",
     "iopub.status.idle": "2021-09-19T15:41:08.911364Z",
     "shell.execute_reply": "2021-09-19T15:41:08.911886Z"
    }
   },
   "outputs": [],
   "source": [
    "set??"
   ]
  },
  {
   "cell_type": "code",
   "execution_count": 71,
   "id": "be8c6622",
   "metadata": {
    "execution": {
     "iopub.execute_input": "2021-09-19T15:41:08.916853Z",
     "iopub.status.busy": "2021-09-19T15:41:08.916193Z",
     "iopub.status.idle": "2021-09-19T15:41:08.920950Z",
     "shell.execute_reply": "2021-09-19T15:41:08.920257Z"
    }
   },
   "outputs": [
    {
     "data": {
      "text/plain": [
       "{1, 2, 3}"
      ]
     },
     "execution_count": 71,
     "metadata": {},
     "output_type": "execute_result"
    }
   ],
   "source": [
    "# Se definen como los diccionarios pero sin hacerlos 'clave:valor', solamente una seguidilla de elementos\n",
    "{1, 2, 2, 3}"
   ]
  },
  {
   "cell_type": "code",
   "execution_count": 72,
   "id": "6e596d01",
   "metadata": {
    "execution": {
     "iopub.execute_input": "2021-09-19T15:41:08.927580Z",
     "iopub.status.busy": "2021-09-19T15:41:08.925999Z",
     "iopub.status.idle": "2021-09-19T15:41:08.929786Z",
     "shell.execute_reply": "2021-09-19T15:41:08.929219Z"
    }
   },
   "outputs": [
    {
     "data": {
      "text/plain": [
       "{1, 2, 3}"
      ]
     },
     "execution_count": 72,
     "metadata": {},
     "output_type": "execute_result"
    }
   ],
   "source": [
    "set([1, 2, 2, 3])"
   ]
  },
  {
   "cell_type": "markdown",
   "id": "0a9099c6",
   "metadata": {},
   "source": [
    "## Condicionales (if...elif...else)\n",
    "\n",
    "```python\n",
    "if <condición_1>:\n",
    "    <hacer algo_1 si se da la condición_1>\n",
    "elif <condición_2>:\n",
    "    <hacer algo_2 si se da la condición_2>\n",
    "...\n",
    "elif <condición_n>:\n",
    "    <hacer algo_n si se da la condición_n>\n",
    "else:\n",
    "    <hacer otra cosa si no dan las anteriores>\n",
    "```\n",
    "\n",
    "Algo importante para notar es que los bloques se definen por **niveles de identacion**."
   ]
  },
  {
   "cell_type": "code",
   "execution_count": 73,
   "id": "0511a8ed",
   "metadata": {
    "execution": {
     "iopub.execute_input": "2021-09-19T15:41:08.935274Z",
     "iopub.status.busy": "2021-09-19T15:41:08.934630Z",
     "iopub.status.idle": "2021-09-19T15:41:08.936855Z",
     "shell.execute_reply": "2021-09-19T15:41:08.937370Z"
    }
   },
   "outputs": [
    {
     "name": "stdout",
     "output_type": "stream",
     "text": [
      "uno\n"
     ]
    }
   ],
   "source": [
    "v = 1\n",
    "if v == 1:\n",
    "    print(\"uno\")\n",
    "elif v == 2:\n",
    "    print(\"dos\")\n",
    "else:\n",
    "    print(\"ni idea\")\n",
    "    print(v)"
   ]
  },
  {
   "cell_type": "markdown",
   "id": "2c7b2201",
   "metadata": {},
   "source": [
    "## Iteraciones\n",
    "\n",
    "```python\n",
    "while cond:\n",
    "    <codigo>\n",
    "```\n",
    "\n",
    "```python\n",
    "for elemento in iterable:\n",
    "    <codigo>\n",
    "```\n",
    "\n",
    "Para iterar sobre un rango de valores, usamos `range`"
   ]
  },
  {
   "cell_type": "code",
   "execution_count": 74,
   "id": "ee118447",
   "metadata": {
    "execution": {
     "iopub.execute_input": "2021-09-19T15:41:08.942194Z",
     "iopub.status.busy": "2021-09-19T15:41:08.941550Z",
     "iopub.status.idle": "2021-09-19T15:41:08.945541Z",
     "shell.execute_reply": "2021-09-19T15:41:08.946081Z"
    }
   },
   "outputs": [
    {
     "name": "stdout",
     "output_type": "stream",
     "text": [
      "1\n",
      "4\n",
      "7\n",
      "10\n"
     ]
    }
   ],
   "source": [
    "for i in range(1, 11, 3):\n",
    "    print(i)"
   ]
  },
  {
   "cell_type": "markdown",
   "id": "a9ae4388",
   "metadata": {},
   "source": [
    "## Operadores logicos\n",
    "\n",
    "`not`, `or`, `and`"
   ]
  },
  {
   "cell_type": "code",
   "execution_count": 75,
   "id": "6885c8f7",
   "metadata": {
    "execution": {
     "iopub.execute_input": "2021-09-19T15:41:08.951172Z",
     "iopub.status.busy": "2021-09-19T15:41:08.950555Z",
     "iopub.status.idle": "2021-09-19T15:41:08.952583Z",
     "shell.execute_reply": "2021-09-19T15:41:08.953154Z"
    }
   },
   "outputs": [
    {
     "name": "stdout",
     "output_type": "stream",
     "text": [
      "yay\n"
     ]
    }
   ],
   "source": [
    "if True or False:\n",
    "    print(\"yay\")"
   ]
  },
  {
   "cell_type": "code",
   "execution_count": 76,
   "id": "8be28258",
   "metadata": {
    "execution": {
     "iopub.execute_input": "2021-09-19T15:41:08.957362Z",
     "iopub.status.busy": "2021-09-19T15:41:08.956748Z",
     "iopub.status.idle": "2021-09-19T15:41:08.959813Z",
     "shell.execute_reply": "2021-09-19T15:41:08.960347Z"
    }
   },
   "outputs": [
    {
     "data": {
      "text/plain": [
       "False"
      ]
     },
     "execution_count": 76,
     "metadata": {},
     "output_type": "execute_result"
    }
   ],
   "source": [
    "1 == 2"
   ]
  },
  {
   "cell_type": "code",
   "execution_count": 77,
   "id": "7afd92a8",
   "metadata": {
    "execution": {
     "iopub.execute_input": "2021-09-19T15:41:08.964862Z",
     "iopub.status.busy": "2021-09-19T15:41:08.964199Z",
     "iopub.status.idle": "2021-09-19T15:41:08.966948Z",
     "shell.execute_reply": "2021-09-19T15:41:08.967472Z"
    }
   },
   "outputs": [
    {
     "data": {
      "text/plain": [
       "True"
      ]
     },
     "execution_count": 77,
     "metadata": {},
     "output_type": "execute_result"
    }
   ],
   "source": [
    "1 != 2"
   ]
  },
  {
   "cell_type": "markdown",
   "id": "267dfd19",
   "metadata": {
    "slideshow": {
     "slide_type": "slide"
    }
   },
   "source": [
    "## Funciones en Python"
   ]
  },
  {
   "cell_type": "code",
   "execution_count": 78,
   "id": "39d65951",
   "metadata": {
    "execution": {
     "iopub.execute_input": "2021-09-19T15:41:08.976198Z",
     "iopub.status.busy": "2021-09-19T15:41:08.974839Z",
     "iopub.status.idle": "2021-09-19T15:41:08.978284Z",
     "shell.execute_reply": "2021-09-19T15:41:08.977734Z"
    },
    "slideshow": {
     "slide_type": "slide"
    }
   },
   "outputs": [
    {
     "name": "stdout",
     "output_type": "stream",
     "text": [
      "True\n",
      "False\n"
     ]
    }
   ],
   "source": [
    "def busqueda_binaria(lista, elemento):\n",
    "    if not lista:\n",
    "        return False\n",
    "    elif len(lista) == 1:\n",
    "        return lista[0] == elemento\n",
    "    mitad = len(lista) // 2  # // es la operación división entera\n",
    "    if lista[mitad] == elemento:\n",
    "        return True\n",
    "    if lista[mitad] > elemento:\n",
    "        return busqueda_binaria(lista[:mitad], elemento)\n",
    "    if lista[mitad] < elemento:\n",
    "        return busqueda_binaria(lista[mitad:], elemento)\n",
    "\n",
    "\n",
    "print(busqueda_binaria([1, 2, 3, 4, 5], 4))\n",
    "print(busqueda_binaria([1, 4, 6, 7, 9, 10], 2))"
   ]
  },
  {
   "cell_type": "code",
   "execution_count": 79,
   "id": "09556382",
   "metadata": {
    "execution": {
     "iopub.execute_input": "2021-09-19T15:41:08.984528Z",
     "iopub.status.busy": "2021-09-19T15:41:08.983117Z",
     "iopub.status.idle": "2021-09-19T15:41:08.987514Z",
     "shell.execute_reply": "2021-09-19T15:41:08.986028Z"
    }
   },
   "outputs": [
    {
     "name": "stdout",
     "output_type": "stream",
     "text": [
      "(3, 3, 3)\n"
     ]
    }
   ],
   "source": [
    "def a(b):\n",
    "    if a == 1:\n",
    "        print(a)\n",
    "    return (b, b, b)\n",
    "\n",
    "\n",
    "print(a(3))"
   ]
  },
  {
   "cell_type": "code",
   "execution_count": 80,
   "id": "70c02d62",
   "metadata": {
    "execution": {
     "iopub.execute_input": "2021-09-19T15:41:08.995015Z",
     "iopub.status.busy": "2021-09-19T15:41:08.994373Z",
     "iopub.status.idle": "2021-09-19T15:41:09.007316Z",
     "shell.execute_reply": "2021-09-19T15:41:09.007892Z"
    },
    "lines_to_next_cell": 2,
    "slideshow": {
     "slide_type": "slide"
    },
    "tags": [
     "raises-exception"
    ]
   },
   "outputs": [
    {
     "name": "stdout",
     "output_type": "stream",
     "text": [
      "3\n",
      "3.0\n",
      "3.0\n",
      "hola como te va\n",
      "[1, 2, 3, 4, 5]\n"
     ]
    },
    {
     "ename": "TypeError",
     "evalue": "can only concatenate str (not \"int\") to str",
     "output_type": "error",
     "traceback": [
      "\u001b[0;31m---------------------------------------------------------------------------\u001b[0m",
      "\u001b[0;31mTypeError\u001b[0m                                 Traceback (most recent call last)",
      "\u001b[0;32m/tmp/ipykernel_2097/1000948441.py\u001b[0m in \u001b[0;36m<module>\u001b[0;34m\u001b[0m\n\u001b[1;32m      8\u001b[0m \u001b[0mprint\u001b[0m\u001b[0;34m(\u001b[0m\u001b[0msuma\u001b[0m\u001b[0;34m(\u001b[0m\u001b[0;34m\"hola \"\u001b[0m\u001b[0;34m,\u001b[0m \u001b[0;34m\"como te va\"\u001b[0m\u001b[0;34m)\u001b[0m\u001b[0;34m)\u001b[0m\u001b[0;34m\u001b[0m\u001b[0;34m\u001b[0m\u001b[0m\n\u001b[1;32m      9\u001b[0m \u001b[0mprint\u001b[0m\u001b[0;34m(\u001b[0m\u001b[0msuma\u001b[0m\u001b[0;34m(\u001b[0m\u001b[0;34m[\u001b[0m\u001b[0;36m1\u001b[0m\u001b[0;34m,\u001b[0m \u001b[0;36m2\u001b[0m\u001b[0;34m,\u001b[0m \u001b[0;36m3\u001b[0m\u001b[0;34m]\u001b[0m\u001b[0;34m,\u001b[0m \u001b[0;34m[\u001b[0m\u001b[0;36m4\u001b[0m\u001b[0;34m,\u001b[0m \u001b[0;36m5\u001b[0m\u001b[0;34m]\u001b[0m\u001b[0;34m)\u001b[0m\u001b[0;34m)\u001b[0m\u001b[0;34m\u001b[0m\u001b[0;34m\u001b[0m\u001b[0m\n\u001b[0;32m---> 10\u001b[0;31m \u001b[0mprint\u001b[0m\u001b[0;34m(\u001b[0m\u001b[0msuma\u001b[0m\u001b[0;34m(\u001b[0m\u001b[0;34m\"1\"\u001b[0m\u001b[0;34m,\u001b[0m \u001b[0;36m3\u001b[0m\u001b[0;34m)\u001b[0m\u001b[0;34m)\u001b[0m  \u001b[0;31m# Falla\u001b[0m\u001b[0;34m\u001b[0m\u001b[0;34m\u001b[0m\u001b[0m\n\u001b[0m",
      "\u001b[0;32m/tmp/ipykernel_2097/1000948441.py\u001b[0m in \u001b[0;36msuma\u001b[0;34m(a, b)\u001b[0m\n\u001b[1;32m      1\u001b[0m \u001b[0;32mdef\u001b[0m \u001b[0msuma\u001b[0m\u001b[0;34m(\u001b[0m\u001b[0ma\u001b[0m\u001b[0;34m,\u001b[0m \u001b[0mb\u001b[0m\u001b[0;34m)\u001b[0m\u001b[0;34m:\u001b[0m\u001b[0;34m\u001b[0m\u001b[0;34m\u001b[0m\u001b[0m\n\u001b[0;32m----> 2\u001b[0;31m     \u001b[0;32mreturn\u001b[0m \u001b[0ma\u001b[0m \u001b[0;34m+\u001b[0m \u001b[0mb\u001b[0m\u001b[0;34m\u001b[0m\u001b[0;34m\u001b[0m\u001b[0m\n\u001b[0m\u001b[1;32m      3\u001b[0m \u001b[0;34m\u001b[0m\u001b[0m\n\u001b[1;32m      4\u001b[0m \u001b[0;34m\u001b[0m\u001b[0m\n\u001b[1;32m      5\u001b[0m \u001b[0mprint\u001b[0m\u001b[0;34m(\u001b[0m\u001b[0msuma\u001b[0m\u001b[0;34m(\u001b[0m\u001b[0;36m1\u001b[0m\u001b[0;34m,\u001b[0m \u001b[0;36m2\u001b[0m\u001b[0;34m)\u001b[0m\u001b[0;34m)\u001b[0m\u001b[0;34m\u001b[0m\u001b[0;34m\u001b[0m\u001b[0m\n",
      "\u001b[0;31mTypeError\u001b[0m: can only concatenate str (not \"int\") to str"
     ]
    }
   ],
   "source": [
    "def suma(a, b):\n",
    "    return a + b\n",
    "\n",
    "\n",
    "print(suma(1, 2))\n",
    "print(suma(1.0, 2.0))\n",
    "print(suma(1.0, 2))\n",
    "print(suma(\"hola \", \"como te va\"))\n",
    "print(suma([1, 2, 3], [4, 5]))\n",
    "print(suma(\"1\", 3))  # Falla"
   ]
  },
  {
   "cell_type": "code",
   "execution_count": 81,
   "id": "e1939c0f",
   "metadata": {
    "execution": {
     "iopub.execute_input": "2021-09-19T15:41:09.014272Z",
     "iopub.status.busy": "2021-09-19T15:41:09.012841Z",
     "iopub.status.idle": "2021-09-19T15:41:09.016335Z",
     "shell.execute_reply": "2021-09-19T15:41:09.015747Z"
    }
   },
   "outputs": [
    {
     "name": "stdout",
     "output_type": "stream",
     "text": [
      "2.0\n"
     ]
    }
   ],
   "source": [
    "# El valor por default de divisor es 1\n",
    "\n",
    "\n",
    "def division(dividendo, divisor=2):\n",
    "    return dividendo / divisor\n",
    "\n",
    "\n",
    "print(division(4))  # Usa el valor por default"
   ]
  },
  {
   "cell_type": "code",
   "execution_count": 82,
   "id": "5fb57e34",
   "metadata": {
    "execution": {
     "iopub.execute_input": "2021-09-19T15:41:09.025106Z",
     "iopub.status.busy": "2021-09-19T15:41:09.020967Z",
     "iopub.status.idle": "2021-09-19T15:41:09.028985Z",
     "shell.execute_reply": "2021-09-19T15:41:09.028426Z"
    },
    "tags": [
     "raises-exception"
    ]
   },
   "outputs": [
    {
     "name": "stdout",
     "output_type": "stream",
     "text": [
      "0.5\n",
      "0.5\n"
     ]
    },
    {
     "ename": "TypeError",
     "evalue": "division() missing 1 required positional argument: 'dividendo'",
     "output_type": "error",
     "traceback": [
      "\u001b[0;31m---------------------------------------------------------------------------\u001b[0m",
      "\u001b[0;31mTypeError\u001b[0m                                 Traceback (most recent call last)",
      "\u001b[0;32m/tmp/ipykernel_2097/1004518412.py\u001b[0m in \u001b[0;36m<module>\u001b[0;34m\u001b[0m\n\u001b[1;32m      1\u001b[0m \u001b[0mprint\u001b[0m\u001b[0;34m(\u001b[0m\u001b[0mdivision\u001b[0m\u001b[0;34m(\u001b[0m\u001b[0;36m1\u001b[0m\u001b[0;34m,\u001b[0m \u001b[0;36m2\u001b[0m\u001b[0;34m)\u001b[0m\u001b[0;34m)\u001b[0m  \u001b[0;31m# Parámetros por orden\u001b[0m\u001b[0;34m\u001b[0m\u001b[0;34m\u001b[0m\u001b[0m\n\u001b[1;32m      2\u001b[0m \u001b[0mprint\u001b[0m\u001b[0;34m(\u001b[0m\u001b[0mdivision\u001b[0m\u001b[0;34m(\u001b[0m\u001b[0mdividendo\u001b[0m\u001b[0;34m=\u001b[0m\u001b[0;36m1\u001b[0m\u001b[0;34m,\u001b[0m \u001b[0mdivisor\u001b[0m\u001b[0;34m=\u001b[0m\u001b[0;36m2\u001b[0m\u001b[0;34m)\u001b[0m\u001b[0;34m)\u001b[0m  \u001b[0;31m# Parámetros por nombre\u001b[0m\u001b[0;34m\u001b[0m\u001b[0;34m\u001b[0m\u001b[0m\n\u001b[0;32m----> 3\u001b[0;31m \u001b[0mprint\u001b[0m\u001b[0;34m(\u001b[0m\u001b[0mdivision\u001b[0m\u001b[0;34m(\u001b[0m\u001b[0mdivisor\u001b[0m\u001b[0;34m=\u001b[0m\u001b[0;36m2\u001b[0m\u001b[0;34m)\u001b[0m\u001b[0;34m)\u001b[0m\u001b[0;34m\u001b[0m\u001b[0;34m\u001b[0m\u001b[0m\n\u001b[0m",
      "\u001b[0;31mTypeError\u001b[0m: division() missing 1 required positional argument: 'dividendo'"
     ]
    }
   ],
   "source": [
    "print(division(1, 2))  # Parámetros por orden\n",
    "print(division(dividendo=1, divisor=2))  # Parámetros por nombre\n",
    "print(division(divisor=2))"
   ]
  },
  {
   "cell_type": "code",
   "execution_count": 83,
   "id": "82d71577",
   "metadata": {
    "execution": {
     "iopub.execute_input": "2021-09-19T15:41:09.034918Z",
     "iopub.status.busy": "2021-09-19T15:41:09.033436Z",
     "iopub.status.idle": "2021-09-19T15:41:09.036989Z",
     "shell.execute_reply": "2021-09-19T15:41:09.036400Z"
    }
   },
   "outputs": [
    {
     "name": "stdout",
     "output_type": "stream",
     "text": [
      "0.5\n"
     ]
    }
   ],
   "source": [
    "print(division(divisor=2, dividendo=1))"
   ]
  },
  {
   "cell_type": "code",
   "execution_count": 84,
   "id": "80349563",
   "metadata": {
    "execution": {
     "iopub.execute_input": "2021-09-19T15:41:09.043030Z",
     "iopub.status.busy": "2021-09-19T15:41:09.039170Z",
     "iopub.status.idle": "2021-09-19T15:41:09.045046Z",
     "shell.execute_reply": "2021-09-19T15:41:09.045604Z"
    }
   },
   "outputs": [
    {
     "name": "stdout",
     "output_type": "stream",
     "text": [
      "['a', 'b', 'c']\n",
      "[1, 2, 3]\n",
      "['hola', ' don', ' pepito']\n",
      "hola -  don -  pepito\n"
     ]
    }
   ],
   "source": [
    "# Funciones básicas ya en el lenguaje\n",
    "# Hechas para funcionar para distintos tipos\n",
    "\n",
    "string_ordenado = sorted('bca')\n",
    "print(string_ordenado)\n",
    "\n",
    "lista_ordenada = sorted([1, 3, 2])\n",
    "print(lista_ordenada)\n",
    "\n",
    "separadas = \"hola, don, pepito\".split(\",\")\n",
    "print(separadas)\n",
    "unidas = \" - \".join(separadas)\n",
    "print(unidas)"
   ]
  },
  {
   "cell_type": "markdown",
   "id": "6313c73c",
   "metadata": {},
   "source": [
    "## Módulos\n",
    "\n",
    "Para incluir alguna biblioteca de funciones se usa `import`. Pueden ser cosas ya predefinidas en Python (`math`, `random`, etc), nombres de archivos en nuestro directorio (por ejemplo, para `mimodulo.py` ponemos `import mimodulo`) o bibliotecas instaladas por el usuario"
   ]
  },
  {
   "cell_type": "code",
   "execution_count": 85,
   "id": "f62e8c86",
   "metadata": {
    "execution": {
     "iopub.execute_input": "2021-09-19T15:41:09.051838Z",
     "iopub.status.busy": "2021-09-19T15:41:09.050451Z",
     "iopub.status.idle": "2021-09-19T15:41:09.053844Z",
     "shell.execute_reply": "2021-09-19T15:41:09.053328Z"
    }
   },
   "outputs": [
    {
     "name": "stdout",
     "output_type": "stream",
     "text": [
      "3.141592653589793\n"
     ]
    }
   ],
   "source": [
    "import math\n",
    "\n",
    "print(math.pi)"
   ]
  },
  {
   "cell_type": "code",
   "execution_count": 86,
   "id": "dbae32fc",
   "metadata": {
    "execution": {
     "iopub.execute_input": "2021-09-19T15:41:09.058057Z",
     "iopub.status.busy": "2021-09-19T15:41:09.057262Z",
     "iopub.status.idle": "2021-09-19T15:41:09.060535Z",
     "shell.execute_reply": "2021-09-19T15:41:09.059892Z"
    }
   },
   "outputs": [
    {
     "name": "stdout",
     "output_type": "stream",
     "text": [
      "3.141592653589793 2.718281828459045\n"
     ]
    }
   ],
   "source": [
    "from math import pi, e\n",
    "\n",
    "print(pi, e)"
   ]
  },
  {
   "cell_type": "code",
   "execution_count": 87,
   "id": "b3744f4d",
   "metadata": {
    "execution": {
     "iopub.execute_input": "2021-09-19T15:41:09.064766Z",
     "iopub.status.busy": "2021-09-19T15:41:09.064130Z",
     "iopub.status.idle": "2021-09-19T15:41:09.067882Z",
     "shell.execute_reply": "2021-09-19T15:41:09.067257Z"
    }
   },
   "outputs": [
    {
     "data": {
      "text/plain": [
       "2"
      ]
     },
     "execution_count": 87,
     "metadata": {},
     "output_type": "execute_result"
    }
   ],
   "source": [
    "math.gcd(56, 78)"
   ]
  },
  {
   "cell_type": "markdown",
   "id": "0b99b5c0",
   "metadata": {},
   "source": [
    "## Manejo de excepciones\n",
    "\n",
    "Se pueden encapsular errores esperados en un bloque 'try/except' para evitar cortar el flujo del programa"
   ]
  },
  {
   "cell_type": "code",
   "execution_count": 88,
   "id": "f00910a0",
   "metadata": {
    "execution": {
     "iopub.execute_input": "2021-09-19T15:41:09.071598Z",
     "iopub.status.busy": "2021-09-19T15:41:09.070990Z",
     "iopub.status.idle": "2021-09-19T15:41:09.079177Z",
     "shell.execute_reply": "2021-09-19T15:41:09.079697Z"
    },
    "tags": [
     "raises-exception"
    ]
   },
   "outputs": [
    {
     "ename": "ZeroDivisionError",
     "evalue": "division by zero",
     "output_type": "error",
     "traceback": [
      "\u001b[0;31m---------------------------------------------------------------------------\u001b[0m",
      "\u001b[0;31mZeroDivisionError\u001b[0m                         Traceback (most recent call last)",
      "\u001b[0;32m/tmp/ipykernel_2097/1165346582.py\u001b[0m in \u001b[0;36m<module>\u001b[0;34m\u001b[0m\n\u001b[0;32m----> 1\u001b[0;31m \u001b[0mdivision\u001b[0m\u001b[0;34m(\u001b[0m\u001b[0;36m1\u001b[0m\u001b[0;34m,\u001b[0m \u001b[0;36m0\u001b[0m\u001b[0;34m)\u001b[0m  \u001b[0;31m# No se puede dividir por cero\u001b[0m\u001b[0;34m\u001b[0m\u001b[0;34m\u001b[0m\u001b[0m\n\u001b[0m",
      "\u001b[0;32m/tmp/ipykernel_2097/2607187721.py\u001b[0m in \u001b[0;36mdivision\u001b[0;34m(dividendo, divisor)\u001b[0m\n\u001b[1;32m      3\u001b[0m \u001b[0;34m\u001b[0m\u001b[0m\n\u001b[1;32m      4\u001b[0m \u001b[0;32mdef\u001b[0m \u001b[0mdivision\u001b[0m\u001b[0;34m(\u001b[0m\u001b[0mdividendo\u001b[0m\u001b[0;34m,\u001b[0m \u001b[0mdivisor\u001b[0m\u001b[0;34m=\u001b[0m\u001b[0;36m2\u001b[0m\u001b[0;34m)\u001b[0m\u001b[0;34m:\u001b[0m\u001b[0;34m\u001b[0m\u001b[0;34m\u001b[0m\u001b[0m\n\u001b[0;32m----> 5\u001b[0;31m     \u001b[0;32mreturn\u001b[0m \u001b[0mdividendo\u001b[0m \u001b[0;34m/\u001b[0m \u001b[0mdivisor\u001b[0m\u001b[0;34m\u001b[0m\u001b[0;34m\u001b[0m\u001b[0m\n\u001b[0m\u001b[1;32m      6\u001b[0m \u001b[0;34m\u001b[0m\u001b[0m\n\u001b[1;32m      7\u001b[0m \u001b[0;34m\u001b[0m\u001b[0m\n",
      "\u001b[0;31mZeroDivisionError\u001b[0m: division by zero"
     ]
    }
   ],
   "source": [
    "division(1, 0)  # No se puede dividir por cero"
   ]
  },
  {
   "cell_type": "code",
   "execution_count": 89,
   "id": "f0a7e45f",
   "metadata": {
    "execution": {
     "iopub.execute_input": "2021-09-19T15:41:09.085982Z",
     "iopub.status.busy": "2021-09-19T15:41:09.084599Z",
     "iopub.status.idle": "2021-09-19T15:41:09.088636Z",
     "shell.execute_reply": "2021-09-19T15:41:09.087834Z"
    }
   },
   "outputs": [
    {
     "name": "stdout",
     "output_type": "stream",
     "text": [
      "No se puede dividir por cero, ojo! division by zero\n",
      "1\n"
     ]
    }
   ],
   "source": [
    "try:\n",
    "    division(1, 0)\n",
    "except (ZeroDivisionError, TypeError) as e:\n",
    "    print('No se puede dividir por cero, ojo!', e)\n",
    "finally:\n",
    "    print(1)"
   ]
  },
  {
   "cell_type": "markdown",
   "id": "fa9bfa08",
   "metadata": {
    "slideshow": {
     "slide_type": "slide"
    }
   },
   "source": [
    "## Lectura y escritura de archivos"
   ]
  },
  {
   "cell_type": "code",
   "execution_count": 90,
   "id": "40060fc3",
   "metadata": {
    "execution": {
     "iopub.execute_input": "2021-09-19T15:41:09.095492Z",
     "iopub.status.busy": "2021-09-19T15:41:09.094851Z",
     "iopub.status.idle": "2021-09-19T15:41:09.096999Z",
     "shell.execute_reply": "2021-09-19T15:41:09.097921Z"
    },
    "slideshow": {
     "slide_type": "slide"
    }
   },
   "outputs": [
    {
     "name": "stdout",
     "output_type": "stream",
     "text": [
      "<_io.TextIOWrapper name='archivo.csv' mode='w' encoding='UTF-8'>\n"
     ]
    }
   ],
   "source": [
    "import random\n",
    "\n",
    "with open(\n",
    "    'archivo.csv', 'w'\n",
    ") as archivo:  # Al usar esta sintaxis no es necesario hacer close\n",
    "    archivo.write(\"Alumno, nota\\n\")\n",
    "    # Tambien de forma similar al fprintf se puede hacer:\n",
    "    # print(\"Alumno, nota\\n\", file=archivo)\n",
    "    for i in range(0, 10):\n",
    "        archivo.write(f\"{i},{random.randrange(0,10)}\\n\")\n",
    "\n",
    "print(archivo)  # Comentario aclaratorio:\n",
    "# Las variables definidas en un determinado scope siguen existiendo por fuera del mismo.\n",
    "# Se debe tener cuidado con esto, ya que nada garantiza que por fuera el valor sea el esperado."
   ]
  },
  {
   "cell_type": "code",
   "execution_count": 91,
   "id": "768ad7d1",
   "metadata": {
    "execution": {
     "iopub.execute_input": "2021-09-19T15:41:09.102160Z",
     "iopub.status.busy": "2021-09-19T15:41:09.101531Z",
     "iopub.status.idle": "2021-09-19T15:41:09.106852Z",
     "shell.execute_reply": "2021-09-19T15:41:09.106287Z"
    },
    "slideshow": {
     "slide_type": "slide"
    }
   },
   "outputs": [
    {
     "name": "stdout",
     "output_type": "stream",
     "text": [
      "Alumno, nota\n",
      "0,5\n",
      "1,8\n",
      "2,2\n",
      "3,4\n",
      "4,2\n",
      "5,4\n",
      "6,7\n",
      "7,6\n",
      "8,1\n",
      "9,2\n"
     ]
    }
   ],
   "source": [
    "with open('archivo.csv', 'r') as f:\n",
    "    for linea in f:\n",
    "        print(linea.strip())"
   ]
  },
  {
   "cell_type": "code",
   "execution_count": 92,
   "id": "0ca27100",
   "metadata": {
    "execution": {
     "iopub.execute_input": "2021-09-19T15:41:09.111181Z",
     "iopub.status.busy": "2021-09-19T15:41:09.110507Z",
     "iopub.status.idle": "2021-09-19T15:41:09.114197Z",
     "shell.execute_reply": "2021-09-19T15:41:09.113684Z"
    }
   },
   "outputs": [
    {
     "name": "stdout",
     "output_type": "stream",
     "text": [
      "Alumno, nota\n",
      "0,5\n",
      "1,8\n",
      "2,2\n",
      "3,4\n",
      "4,2\n",
      "5,4\n",
      "6,7\n",
      "7,6\n",
      "8,1\n",
      "9,2\n",
      "\n"
     ]
    }
   ],
   "source": [
    "with open('archivo.csv', 'r') as f:\n",
    "    print(f.read())"
   ]
  },
  {
   "cell_type": "code",
   "execution_count": 93,
   "id": "fb1a5437",
   "metadata": {
    "execution": {
     "iopub.execute_input": "2021-09-19T15:41:09.118724Z",
     "iopub.status.busy": "2021-09-19T15:41:09.118063Z",
     "iopub.status.idle": "2021-09-19T15:41:09.120839Z",
     "shell.execute_reply": "2021-09-19T15:41:09.121401Z"
    }
   },
   "outputs": [],
   "source": [
    "f = open('archivo.csv', 'w')\n",
    "f.write(\"algo, algo\")\n",
    "f.close()"
   ]
  },
  {
   "cell_type": "markdown",
   "id": "c57e0bbd",
   "metadata": {
    "slideshow": {
     "slide_type": "slide"
    }
   },
   "source": [
    "## Objetos\n",
    "\n",
    "Los objetos tienen metodos y atributos:\n",
    "- Atributos: equivalentes a variables.\n",
    "- Métodos: equivalentes a las primitivas."
   ]
  },
  {
   "cell_type": "markdown",
   "id": "380179c5",
   "metadata": {
    "slideshow": {
     "slide_type": "slide"
    }
   },
   "source": [
    "### Cómo creo una clase"
   ]
  },
  {
   "cell_type": "code",
   "execution_count": 94,
   "id": "b092c75e",
   "metadata": {
    "execution": {
     "iopub.execute_input": "2021-09-19T15:41:09.127846Z",
     "iopub.status.busy": "2021-09-19T15:41:09.127025Z",
     "iopub.status.idle": "2021-09-19T15:41:09.131677Z",
     "shell.execute_reply": "2021-09-19T15:41:09.130643Z"
    },
    "slideshow": {
     "slide_type": "slide"
    }
   },
   "outputs": [],
   "source": [
    "class Nodo(object):\n",
    "    def __init__(self, dato, siguiente=None):\n",
    "        self._dato = dato\n",
    "        self._siguiente = siguiente\n",
    "\n",
    "    @property\n",
    "    def dato(self):\n",
    "        return self._dato\n",
    "\n",
    "    @property\n",
    "    def proximo(self):\n",
    "        return self._siguiente\n",
    "\n",
    "    @proximo.setter\n",
    "    def proximo(self, siguiente):\n",
    "        self._siguiente = siguiente\n",
    "\n",
    "    def __repr__(self):\n",
    "        return str(self.dato)\n",
    "\n",
    "    def __str__(self):\n",
    "        return str(self.dato)"
   ]
  },
  {
   "cell_type": "code",
   "execution_count": 95,
   "id": "b3f5c90c",
   "metadata": {
    "execution": {
     "iopub.execute_input": "2021-09-19T15:41:09.135867Z",
     "iopub.status.busy": "2021-09-19T15:41:09.135144Z",
     "iopub.status.idle": "2021-09-19T15:41:09.137982Z",
     "shell.execute_reply": "2021-09-19T15:41:09.138474Z"
    },
    "slideshow": {
     "slide_type": "slide"
    }
   },
   "outputs": [
    {
     "name": "stdout",
     "output_type": "stream",
     "text": [
      "hola\n"
     ]
    }
   ],
   "source": [
    "nodo = Nodo(\"hola\")\n",
    "print(nodo)"
   ]
  },
  {
   "cell_type": "code",
   "execution_count": 96,
   "id": "6f0094b0",
   "metadata": {
    "execution": {
     "iopub.execute_input": "2021-09-19T15:41:09.143289Z",
     "iopub.status.busy": "2021-09-19T15:41:09.142613Z",
     "iopub.status.idle": "2021-09-19T15:41:09.144713Z",
     "shell.execute_reply": "2021-09-19T15:41:09.145357Z"
    },
    "slideshow": {
     "slide_type": "slide"
    }
   },
   "outputs": [
    {
     "name": "stdout",
     "output_type": "stream",
     "text": [
      "[hola, lala]\n"
     ]
    }
   ],
   "source": [
    "nodo2 = Nodo(\"lala\")\n",
    "print([nodo, nodo2])"
   ]
  },
  {
   "cell_type": "code",
   "execution_count": 97,
   "id": "2149ba7d",
   "metadata": {
    "execution": {
     "iopub.execute_input": "2021-09-19T15:41:09.151141Z",
     "iopub.status.busy": "2021-09-19T15:41:09.150517Z",
     "iopub.status.idle": "2021-09-19T15:41:09.152884Z",
     "shell.execute_reply": "2021-09-19T15:41:09.153393Z"
    },
    "slideshow": {
     "slide_type": "slide"
    }
   },
   "outputs": [
    {
     "name": "stdout",
     "output_type": "stream",
     "text": [
      "hola\n"
     ]
    }
   ],
   "source": [
    "nodo3 = nodo.dato\n",
    "print(nodo3)"
   ]
  },
  {
   "cell_type": "markdown",
   "id": "733b86f9",
   "metadata": {
    "slideshow": {
     "slide_type": "slide"
    }
   },
   "source": [
    "### Ejemplo: Lista Enlazada"
   ]
  },
  {
   "cell_type": "code",
   "execution_count": 98,
   "id": "bac0a5a1",
   "metadata": {
    "execution": {
     "iopub.execute_input": "2021-09-19T15:41:09.163154Z",
     "iopub.status.busy": "2021-09-19T15:41:09.157014Z",
     "iopub.status.idle": "2021-09-19T15:41:09.164956Z",
     "shell.execute_reply": "2021-09-19T15:41:09.165489Z"
    },
    "slideshow": {
     "slide_type": "slide"
    }
   },
   "outputs": [],
   "source": [
    "class ListaEnlazada(object):\n",
    "    def __init__(self):\n",
    "        self._primero = None\n",
    "        self._ultimo = None\n",
    "        self._largo = 0\n",
    "\n",
    "    def __len__(self):\n",
    "        return self._largo\n",
    "\n",
    "    def insertar_al_principio(self, dato):\n",
    "        nodo = Nodo(dato, self._primero)\n",
    "        self._primero = nodo\n",
    "        self._largo += 1\n",
    "        if self._largo == 1:\n",
    "            self._ultimo = nodo\n",
    "\n",
    "    def insertar_al_final(self, dato):\n",
    "        if self._largo != 0:\n",
    "            nodo = Nodo(dato)\n",
    "            nodo_anterior = self._ultimo\n",
    "            nodo_anterior._siguiente = nodo\n",
    "            self._ultimo = nodo\n",
    "            self._largo += 1\n",
    "        else:\n",
    "            self.insertar_al_principio(dato)\n",
    "\n",
    "    @property\n",
    "    def primero(self):\n",
    "        return self._primero.dato\n",
    "\n",
    "    def borrar_primero(self):\n",
    "        dato = self.primero.dato\n",
    "        self._primero = self.primero.siguiente\n",
    "        self._largo -= 1\n",
    "        if self._largo == 0:\n",
    "            self._ultimo = None\n",
    "        return dato\n",
    "\n",
    "    def __str__(self):\n",
    "        datos = []\n",
    "        nodo_actual = self._primero\n",
    "        while nodo_actual:\n",
    "            datos.append(nodo_actual.dato)\n",
    "            nodo_actual = nodo_actual.proximo\n",
    "        return \" -> \".join(datos)\n",
    "\n",
    "    def __repr__(self):\n",
    "        return self.__str__()"
   ]
  },
  {
   "cell_type": "code",
   "execution_count": 99,
   "id": "341d04d3",
   "metadata": {
    "execution": {
     "iopub.execute_input": "2021-09-19T15:41:09.172677Z",
     "iopub.status.busy": "2021-09-19T15:41:09.171358Z",
     "iopub.status.idle": "2021-09-19T15:41:09.174981Z",
     "shell.execute_reply": "2021-09-19T15:41:09.174424Z"
    },
    "slideshow": {
     "slide_type": "slide"
    }
   },
   "outputs": [
    {
     "data": {
      "text/plain": [
       "2"
      ]
     },
     "execution_count": 99,
     "metadata": {},
     "output_type": "execute_result"
    }
   ],
   "source": [
    "lista = ListaEnlazada()\n",
    "lista.insertar_al_principio(\"Primer Dato\")\n",
    "lista.insertar_al_principio(\"Primer primer Dato\")\n",
    "len(lista)"
   ]
  },
  {
   "cell_type": "code",
   "execution_count": 100,
   "id": "6d476dc6",
   "metadata": {
    "execution": {
     "iopub.execute_input": "2021-09-19T15:41:09.179702Z",
     "iopub.status.busy": "2021-09-19T15:41:09.179083Z",
     "iopub.status.idle": "2021-09-19T15:41:09.183607Z",
     "shell.execute_reply": "2021-09-19T15:41:09.183062Z"
    }
   },
   "outputs": [
    {
     "data": {
      "text/plain": [
       "Primer primer Dato -> Primer Dato"
      ]
     },
     "execution_count": 100,
     "metadata": {},
     "output_type": "execute_result"
    }
   ],
   "source": [
    "lista"
   ]
  },
  {
   "cell_type": "code",
   "execution_count": 101,
   "id": "665a3d7b",
   "metadata": {
    "execution": {
     "iopub.execute_input": "2021-09-19T15:41:09.189483Z",
     "iopub.status.busy": "2021-09-19T15:41:09.187756Z",
     "iopub.status.idle": "2021-09-19T15:41:09.191680Z",
     "shell.execute_reply": "2021-09-19T15:41:09.191097Z"
    },
    "slideshow": {
     "slide_type": "slide"
    }
   },
   "outputs": [
    {
     "name": "stdout",
     "output_type": "stream",
     "text": [
      "Primer primer Dato\n"
     ]
    }
   ],
   "source": [
    "elemento = lista.primero\n",
    "print(elemento)"
   ]
  },
  {
   "cell_type": "markdown",
   "id": "ef0ec6c4",
   "metadata": {},
   "source": [
    "## Recursos\n",
    "\n",
    "* [Taller de Python de Algoritmos II](https://github.com/algoritmos-rw/algo2_apuntes)\n",
    "\n",
    "* [Documentación de Python 3](https://docs.python.org/3/tutorial/)\n",
    "\n",
    "* [Apunte de Algoritmos y Programación I](https://algoritmos1rw.ddns.net/material)\n",
    "\n",
    "* [Automate the Boring Stuff with Python](http://automatetheboringstuff.com/)\n",
    "\n",
    "* [Curso Python](https://pythoncurso.github.io)\n",
    "\n",
    "* [Python Tutor](http://pythontutor.com/)\n",
    "\n",
    "* [Learn Python3 in Y minutes](https://learnxinyminutes.com/docs/python3/)\n",
    "\n",
    "* [Bibliografía de Algoritmos y Programación I](https://algoritmos1rw.ddns.net/bibliografia)"
   ]
  }
 ],
 "metadata": {
  "jupytext": {
   "encoding": "# -*- coding: utf-8 -*-",
   "formats": "ipynb,py:light"
  },
  "kernelspec": {
   "display_name": "Python 3 (venv)",
   "language": "python",
   "name": "python3"
  },
  "language_info": {
   "codemirror_mode": {
    "name": "ipython",
    "version": 3
   },
   "file_extension": ".py",
   "mimetype": "text/x-python",
   "name": "python",
   "nbconvert_exporter": "python",
   "pygments_lexer": "ipython3",
   "version": "3.7.12"
  }
 },
 "nbformat": 4,
 "nbformat_minor": 5
}
