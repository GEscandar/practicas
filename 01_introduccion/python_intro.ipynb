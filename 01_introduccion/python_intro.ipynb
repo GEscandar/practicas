{
 "cells": [
  {
   "cell_type": "markdown",
   "id": "accepting-nursery",
   "metadata": {},
   "source": [
    "# Python"
   ]
  },
  {
   "cell_type": "markdown",
   "id": "former-hearts",
   "metadata": {
    "slideshow": {
     "slide_type": "slide"
    }
   },
   "source": [
    "## Un poco de Historia"
   ]
  },
  {
   "cell_type": "markdown",
   "id": "connected-chick",
   "metadata": {
    "slideshow": {
     "slide_type": "subslide"
    }
   },
   "source": [
    "Python fue creado a finales de los años 80 por un programador holandés llamado **Guido van Rossum**,\n",
    "quien sigue siendo aún hoy el líder del desarrollo del lenguaje.\n",
    "\n",
    "(Edit julio 2018: [ya no más](https://www.mail-archive.com/python-committers@python.org/msg05628.html))"
   ]
  },
  {
   "cell_type": "markdown",
   "id": "owned-venice",
   "metadata": {
    "slideshow": {
     "slide_type": "subslide"
    }
   },
   "source": [
    "El nombre del lenguaje proviene de los humoristas británicos Monty Python.\n",
    "\n",
    ">*\"I chose Python as a working title for the project, being in a slightly irreverent mood (and a big fan of Monty Python's Flying Circus).\"*"
   ]
  },
  {
   "cell_type": "markdown",
   "id": "processed-aging",
   "metadata": {
    "slideshow": {
     "slide_type": "slide"
    }
   },
   "source": [
    "## Caracteristicas\n",
    "\n",
    "- Interpretado\n",
    "- Tipado dinamico\n",
    "- Multiparadigma\n",
    "- Alto nivel\n",
    "- Tiene un recolector de basura (no hay malloc, free, realloc, etc)"
   ]
  },
  {
   "cell_type": "markdown",
   "id": "improved-scott",
   "metadata": {},
   "source": [
    "## ¿Cómo empezar?\n",
    "\n",
    "* Al ser un lenguaje *interpretado*, se puede ir escribiendo a medida que se ejecuta, sin necesidad de compilar de antemano! Solamente hace falta escribir `python` o `python3` en una terminal para empezar\n",
    "\n",
    "* También, permite escribir archivos y correrlos. Crear un archivo con extensión `.py` y luego correr `python miarchivo.py` en laterminal"
   ]
  },
  {
   "cell_type": "markdown",
   "id": "provincial-baking",
   "metadata": {
    "slideshow": {
     "slide_type": "slide"
    }
   },
   "source": [
    "## El Zen de Python"
   ]
  },
  {
   "cell_type": "code",
   "execution_count": 1,
   "id": "stuck-gates",
   "metadata": {
    "execution": {
     "iopub.execute_input": "2021-02-09T23:58:30.566573Z",
     "iopub.status.busy": "2021-02-09T23:58:30.565889Z",
     "iopub.status.idle": "2021-02-09T23:58:30.612936Z",
     "shell.execute_reply": "2021-02-09T23:58:30.612213Z"
    },
    "slideshow": {
     "slide_type": "slide"
    }
   },
   "outputs": [
    {
     "name": "stdout",
     "output_type": "stream",
     "text": [
      "The Zen of Python, by Tim Peters\n",
      "\n",
      "Beautiful is better than ugly.\n",
      "Explicit is better than implicit.\n",
      "Simple is better than complex.\n",
      "Complex is better than complicated.\n",
      "Flat is better than nested.\n",
      "Sparse is better than dense.\n",
      "Readability counts.\n",
      "Special cases aren't special enough to break the rules.\n",
      "Although practicality beats purity.\n",
      "Errors should never pass silently.\n",
      "Unless explicitly silenced.\n",
      "In the face of ambiguity, refuse the temptation to guess.\n",
      "There should be one-- and preferably only one --obvious way to do it.\n",
      "Although that way may not be obvious at first unless you're Dutch.\n",
      "Now is better than never.\n",
      "Although never is often better than *right* now.\n",
      "If the implementation is hard to explain, it's a bad idea.\n",
      "If the implementation is easy to explain, it may be a good idea.\n",
      "Namespaces are one honking great idea -- let's do more of those!\n"
     ]
    }
   ],
   "source": [
    "import this"
   ]
  },
  {
   "cell_type": "markdown",
   "id": "super-macro",
   "metadata": {
    "slideshow": {
     "slide_type": "slide"
    }
   },
   "source": [
    "## Conocimientos Básicos de Python: Variables y Tipos"
   ]
  },
  {
   "cell_type": "code",
   "execution_count": 2,
   "id": "distinguished-crack",
   "metadata": {
    "execution": {
     "iopub.execute_input": "2021-02-09T23:58:30.617542Z",
     "iopub.status.busy": "2021-02-09T23:58:30.616879Z",
     "iopub.status.idle": "2021-02-09T23:58:30.623179Z",
     "shell.execute_reply": "2021-02-09T23:58:30.622587Z"
    },
    "slideshow": {
     "slide_type": "slide"
    }
   },
   "outputs": [
    {
     "name": "stdout",
     "output_type": "stream",
     "text": [
      "Hello World!\n"
     ]
    }
   ],
   "source": [
    "# Este es un comentario\n",
    "\n",
    "print(\"Hello World!\")"
   ]
  },
  {
   "cell_type": "markdown",
   "id": "recovered-receptor",
   "metadata": {},
   "source": [
    "Los strings en python puden escribirse tanto con comillas simples (`'`) como comillas dobles (`\"`). Normalmente vemos texto entre comillas triples para escribir _docstrings_, segun la guia de estilo de Python, el PEP8."
   ]
  },
  {
   "cell_type": "code",
   "execution_count": 3,
   "id": "alien-science",
   "metadata": {
    "execution": {
     "iopub.execute_input": "2021-02-09T23:58:30.637390Z",
     "iopub.status.busy": "2021-02-09T23:58:30.636728Z",
     "iopub.status.idle": "2021-02-09T23:58:30.642942Z",
     "shell.execute_reply": "2021-02-09T23:58:30.642386Z"
    }
   },
   "outputs": [
    {
     "data": {
      "text/plain": [
       "'Esto es un docstring.\\n'"
      ]
     },
     "execution_count": 1,
     "metadata": {},
     "output_type": "execute_result"
    }
   ],
   "source": [
    "\"\"\"Esto es un docstring.\n",
    "\"\"\""
   ]
  },
  {
   "cell_type": "markdown",
   "id": "great-xerox",
   "metadata": {},
   "source": [
    "### Declaracion de variables"
   ]
  },
  {
   "cell_type": "code",
   "execution_count": 4,
   "id": "dramatic-surgery",
   "metadata": {
    "execution": {
     "iopub.execute_input": "2021-02-09T23:58:30.649409Z",
     "iopub.status.busy": "2021-02-09T23:58:30.647952Z",
     "iopub.status.idle": "2021-02-09T23:58:30.651602Z",
     "shell.execute_reply": "2021-02-09T23:58:30.651011Z"
    }
   },
   "outputs": [
    {
     "name": "stdout",
     "output_type": "stream",
     "text": [
      "Hola\n"
     ]
    }
   ],
   "source": [
    "string = 'Hola'\n",
    "print(string)"
   ]
  },
  {
   "cell_type": "code",
   "execution_count": 5,
   "id": "bronze-beijing",
   "metadata": {
    "execution": {
     "iopub.execute_input": "2021-02-09T23:58:30.657465Z",
     "iopub.status.busy": "2021-02-09T23:58:30.655964Z",
     "iopub.status.idle": "2021-02-09T23:58:30.659812Z",
     "shell.execute_reply": "2021-02-09T23:58:30.659157Z"
    }
   },
   "outputs": [
    {
     "name": "stdout",
     "output_type": "stream",
     "text": [
      "1\n"
     ]
    }
   ],
   "source": [
    "entero = 1\n",
    "print(entero)"
   ]
  },
  {
   "cell_type": "code",
   "execution_count": 6,
   "id": "matched-listening",
   "metadata": {
    "execution": {
     "iopub.execute_input": "2021-02-09T23:58:30.665669Z",
     "iopub.status.busy": "2021-02-09T23:58:30.664221Z",
     "iopub.status.idle": "2021-02-09T23:58:30.667893Z",
     "shell.execute_reply": "2021-02-09T23:58:30.667272Z"
    }
   },
   "outputs": [
    {
     "name": "stdout",
     "output_type": "stream",
     "text": [
      "1.0\n"
     ]
    }
   ],
   "source": [
    "flotante = 1.0\n",
    "print(flotante)"
   ]
  },
  {
   "cell_type": "code",
   "execution_count": 7,
   "id": "going-rocket",
   "metadata": {
    "execution": {
     "iopub.execute_input": "2021-02-09T23:58:30.673565Z",
     "iopub.status.busy": "2021-02-09T23:58:30.672128Z",
     "iopub.status.idle": "2021-02-09T23:58:30.676995Z",
     "shell.execute_reply": "2021-02-09T23:58:30.676408Z"
    }
   },
   "outputs": [
    {
     "name": "stdout",
     "output_type": "stream",
     "text": [
      "(1, 1.0)\n"
     ]
    }
   ],
   "source": [
    "tupla = (entero, flotante)\n",
    "print(tupla)"
   ]
  },
  {
   "cell_type": "code",
   "execution_count": 8,
   "id": "looking-canon",
   "metadata": {
    "execution": {
     "iopub.execute_input": "2021-02-09T23:58:30.681307Z",
     "iopub.status.busy": "2021-02-09T23:58:30.680658Z",
     "iopub.status.idle": "2021-02-09T23:58:30.685199Z",
     "shell.execute_reply": "2021-02-09T23:58:30.685707Z"
    }
   },
   "outputs": [
    {
     "name": "stdout",
     "output_type": "stream",
     "text": [
      "(1, 1.0, 'Hola')\n"
     ]
    }
   ],
   "source": [
    "nupla = (entero, flotante, string)\n",
    "print(nupla)"
   ]
  },
  {
   "cell_type": "code",
   "execution_count": 9,
   "id": "military-house",
   "metadata": {
    "execution": {
     "iopub.execute_input": "2021-02-09T23:58:30.690568Z",
     "iopub.status.busy": "2021-02-09T23:58:30.689763Z",
     "iopub.status.idle": "2021-02-09T23:58:30.694853Z",
     "shell.execute_reply": "2021-02-09T23:58:30.694248Z"
    }
   },
   "outputs": [
    {
     "name": "stdout",
     "output_type": "stream",
     "text": [
      "[1, 1.0, 'Hola']\n"
     ]
    }
   ],
   "source": [
    "lista = [entero, flotante, string]\n",
    "print(lista)"
   ]
  },
  {
   "cell_type": "code",
   "execution_count": 10,
   "id": "angry-fraction",
   "metadata": {
    "execution": {
     "iopub.execute_input": "2021-02-09T23:58:30.699735Z",
     "iopub.status.busy": "2021-02-09T23:58:30.698899Z",
     "iopub.status.idle": "2021-02-09T23:58:30.701984Z",
     "shell.execute_reply": "2021-02-09T23:58:30.701333Z"
    }
   },
   "outputs": [
    {
     "name": "stdout",
     "output_type": "stream",
     "text": [
      "{'1': (1, 1.0), 50: (1, 1.0, 'Hola'), '3': 1}\n"
     ]
    }
   ],
   "source": [
    "diccionario = {'1': tupla, 50: nupla, '3': entero}\n",
    "print(diccionario)"
   ]
  },
  {
   "cell_type": "code",
   "execution_count": 11,
   "id": "selective-geography",
   "metadata": {
    "execution": {
     "iopub.execute_input": "2021-02-09T23:58:30.706708Z",
     "iopub.status.busy": "2021-02-09T23:58:30.706033Z",
     "iopub.status.idle": "2021-02-09T23:58:30.708403Z",
     "shell.execute_reply": "2021-02-09T23:58:30.709012Z"
    }
   },
   "outputs": [
    {
     "name": "stdout",
     "output_type": "stream",
     "text": [
      "{1, 2}\n"
     ]
    }
   ],
   "source": [
    "conjunto = set([1, 2])\n",
    "print(conjunto)"
   ]
  },
  {
   "cell_type": "code",
   "execution_count": 12,
   "id": "durable-staff",
   "metadata": {
    "execution": {
     "iopub.execute_input": "2021-02-09T23:58:30.713635Z",
     "iopub.status.busy": "2021-02-09T23:58:30.712990Z",
     "iopub.status.idle": "2021-02-09T23:58:30.715852Z",
     "shell.execute_reply": "2021-02-09T23:58:30.715200Z"
    }
   },
   "outputs": [
    {
     "name": "stdout",
     "output_type": "stream",
     "text": [
      "True\n"
     ]
    }
   ],
   "source": [
    "booleano = True\n",
    "print(booleano)"
   ]
  },
  {
   "cell_type": "code",
   "execution_count": 13,
   "id": "green-relationship",
   "metadata": {
    "execution": {
     "iopub.execute_input": "2021-02-09T23:58:30.720389Z",
     "iopub.status.busy": "2021-02-09T23:58:30.719719Z",
     "iopub.status.idle": "2021-02-09T23:58:30.722922Z",
     "shell.execute_reply": "2021-02-09T23:58:30.722233Z"
    }
   },
   "outputs": [
    {
     "name": "stdout",
     "output_type": "stream",
     "text": [
      "None\n"
     ]
    }
   ],
   "source": [
    "nada = None\n",
    "print(nada)"
   ]
  },
  {
   "cell_type": "markdown",
   "id": "protecting-criterion",
   "metadata": {},
   "source": [
    "Ojo que las variables pueden cambiar de tipo!"
   ]
  },
  {
   "cell_type": "code",
   "execution_count": 14,
   "id": "reliable-boundary",
   "metadata": {
    "execution": {
     "iopub.execute_input": "2021-02-09T23:58:30.727752Z",
     "iopub.status.busy": "2021-02-09T23:58:30.727098Z",
     "iopub.status.idle": "2021-02-09T23:58:30.730148Z",
     "shell.execute_reply": "2021-02-09T23:58:30.729471Z"
    }
   },
   "outputs": [
    {
     "name": "stdout",
     "output_type": "stream",
     "text": [
      "1\n",
      "<class 'int'>\n"
     ]
    }
   ],
   "source": [
    "elemento = 1\n",
    "print(elemento)\n",
    "print(type(elemento))"
   ]
  },
  {
   "cell_type": "code",
   "execution_count": 15,
   "id": "turkish-oliver",
   "metadata": {
    "execution": {
     "iopub.execute_input": "2021-02-09T23:58:30.735205Z",
     "iopub.status.busy": "2021-02-09T23:58:30.734532Z",
     "iopub.status.idle": "2021-02-09T23:58:30.737583Z",
     "shell.execute_reply": "2021-02-09T23:58:30.736875Z"
    }
   },
   "outputs": [
    {
     "name": "stdout",
     "output_type": "stream",
     "text": [
      "1\n",
      "<class 'str'>\n"
     ]
    }
   ],
   "source": [
    "elemento = str(1)\n",
    "print(elemento)\n",
    "print(type(elemento))"
   ]
  },
  {
   "cell_type": "code",
   "execution_count": 16,
   "id": "fourth-rugby",
   "metadata": {
    "execution": {
     "iopub.execute_input": "2021-02-09T23:58:30.742610Z",
     "iopub.status.busy": "2021-02-09T23:58:30.741962Z",
     "iopub.status.idle": "2021-02-09T23:58:30.744901Z",
     "shell.execute_reply": "2021-02-09T23:58:30.744228Z"
    }
   },
   "outputs": [
    {
     "name": "stdout",
     "output_type": "stream",
     "text": [
      "[2]\n",
      "<class 'list'>\n"
     ]
    }
   ],
   "source": [
    "elemento = [2]\n",
    "\n",
    "print(elemento)\n",
    "print(type(elemento))"
   ]
  },
  {
   "cell_type": "markdown",
   "id": "incorrect-digest",
   "metadata": {},
   "source": [
    "### Tipos basicos"
   ]
  },
  {
   "cell_type": "markdown",
   "id": "ruled-vision",
   "metadata": {
    "slideshow": {
     "slide_type": "slide"
    }
   },
   "source": [
    "#### Listas de Python"
   ]
  },
  {
   "cell_type": "code",
   "execution_count": 17,
   "id": "united-forestry",
   "metadata": {
    "execution": {
     "iopub.execute_input": "2021-02-09T23:58:30.749268Z",
     "iopub.status.busy": "2021-02-09T23:58:30.748626Z",
     "iopub.status.idle": "2021-02-09T23:58:30.751446Z",
     "shell.execute_reply": "2021-02-09T23:58:30.752038Z"
    }
   },
   "outputs": [
    {
     "data": {
      "text/plain": [
       "[]"
      ]
     },
     "execution_count": 1,
     "metadata": {},
     "output_type": "execute_result"
    }
   ],
   "source": [
    "lista = list()\n",
    "lista"
   ]
  },
  {
   "cell_type": "code",
   "execution_count": 18,
   "id": "pediatric-knowing",
   "metadata": {
    "execution": {
     "iopub.execute_input": "2021-02-09T23:58:30.756569Z",
     "iopub.status.busy": "2021-02-09T23:58:30.755893Z",
     "iopub.status.idle": "2021-02-09T23:58:30.758747Z",
     "shell.execute_reply": "2021-02-09T23:58:30.759302Z"
    },
    "slideshow": {
     "slide_type": "slide"
    }
   },
   "outputs": [
    {
     "data": {
      "text/plain": [
       "[]"
      ]
     },
     "execution_count": 1,
     "metadata": {},
     "output_type": "execute_result"
    }
   ],
   "source": [
    "lista = []\n",
    "lista"
   ]
  },
  {
   "cell_type": "code",
   "execution_count": 19,
   "id": "defined-korean",
   "metadata": {
    "execution": {
     "iopub.execute_input": "2021-02-09T23:58:30.763949Z",
     "iopub.status.busy": "2021-02-09T23:58:30.763239Z",
     "iopub.status.idle": "2021-02-09T23:58:30.766243Z",
     "shell.execute_reply": "2021-02-09T23:58:30.766774Z"
    },
    "slideshow": {
     "slide_type": "slide"
    }
   },
   "outputs": [
    {
     "data": {
      "text/plain": [
       "[1, 2, 3, 4]"
      ]
     },
     "execution_count": 1,
     "metadata": {},
     "output_type": "execute_result"
    }
   ],
   "source": [
    "lista = [1, 2, 3, 4]\n",
    "lista"
   ]
  },
  {
   "cell_type": "code",
   "execution_count": 20,
   "id": "sexual-group",
   "metadata": {
    "execution": {
     "iopub.execute_input": "2021-02-09T23:58:30.771963Z",
     "iopub.status.busy": "2021-02-09T23:58:30.771295Z",
     "iopub.status.idle": "2021-02-09T23:58:30.774055Z",
     "shell.execute_reply": "2021-02-09T23:58:30.774560Z"
    },
    "slideshow": {
     "slide_type": "slide"
    }
   },
   "outputs": [
    {
     "data": {
      "text/plain": [
       "[1, 2, 3, 4, 1, 'dos', 3.0]"
      ]
     },
     "execution_count": 1,
     "metadata": {},
     "output_type": "execute_result"
    }
   ],
   "source": [
    "lista.append(1)  # Inserto un 1 al final\n",
    "lista.append(\"dos\")  # Inserto un \"dos\" al final\n",
    "lista.append(3.0)  # Inserto un 3.0 al final\n",
    "lista"
   ]
  },
  {
   "cell_type": "code",
   "execution_count": 21,
   "id": "cross-sudan",
   "metadata": {
    "execution": {
     "iopub.execute_input": "2021-02-09T23:58:30.778977Z",
     "iopub.status.busy": "2021-02-09T23:58:30.778334Z",
     "iopub.status.idle": "2021-02-09T23:58:30.780535Z",
     "shell.execute_reply": "2021-02-09T23:58:30.781074Z"
    }
   },
   "outputs": [
    {
     "name": "stdout",
     "output_type": "stream",
     "text": [
      "[1, 2, 10, 3, 4, 1, 'dos', 3.0]\n"
     ]
    }
   ],
   "source": [
    "lista.insert(2, 10)  # Inserto en posicion 2 un 10\n",
    "print(lista)"
   ]
  },
  {
   "cell_type": "code",
   "execution_count": 22,
   "id": "spoken-richards",
   "metadata": {
    "execution": {
     "iopub.execute_input": "2021-02-09T23:58:30.785769Z",
     "iopub.status.busy": "2021-02-09T23:58:30.785041Z",
     "iopub.status.idle": "2021-02-09T23:58:30.788290Z",
     "shell.execute_reply": "2021-02-09T23:58:30.787658Z"
    }
   },
   "outputs": [
    {
     "data": {
      "text/plain": [
       "8"
      ]
     },
     "execution_count": 1,
     "metadata": {},
     "output_type": "execute_result"
    }
   ],
   "source": [
    "len(lista)"
   ]
  },
  {
   "cell_type": "code",
   "execution_count": 23,
   "id": "efficient-kitchen",
   "metadata": {
    "execution": {
     "iopub.execute_input": "2021-02-09T23:58:30.792695Z",
     "iopub.status.busy": "2021-02-09T23:58:30.792056Z",
     "iopub.status.idle": "2021-02-09T23:58:30.795303Z",
     "shell.execute_reply": "2021-02-09T23:58:30.794633Z"
    }
   },
   "outputs": [
    {
     "data": {
      "text/plain": [
       "3.0"
      ]
     },
     "execution_count": 1,
     "metadata": {},
     "output_type": "execute_result"
    }
   ],
   "source": [
    "lista.pop()"
   ]
  },
  {
   "cell_type": "code",
   "execution_count": 24,
   "id": "laden-graham",
   "metadata": {
    "execution": {
     "iopub.execute_input": "2021-02-09T23:58:30.799735Z",
     "iopub.status.busy": "2021-02-09T23:58:30.798999Z",
     "iopub.status.idle": "2021-02-09T23:58:30.802524Z",
     "shell.execute_reply": "2021-02-09T23:58:30.801956Z"
    }
   },
   "outputs": [
    {
     "data": {
      "text/plain": [
       "[1, 2, 10, 3, 4, 1, 'dos']"
      ]
     },
     "execution_count": 1,
     "metadata": {},
     "output_type": "execute_result"
    }
   ],
   "source": [
    "lista"
   ]
  },
  {
   "cell_type": "code",
   "execution_count": 25,
   "id": "numerous-butterfly",
   "metadata": {
    "execution": {
     "iopub.execute_input": "2021-02-09T23:58:30.806835Z",
     "iopub.status.busy": "2021-02-09T23:58:30.806182Z",
     "iopub.status.idle": "2021-02-09T23:58:30.809458Z",
     "shell.execute_reply": "2021-02-09T23:58:30.808866Z"
    }
   },
   "outputs": [
    {
     "data": {
      "text/plain": [
       "2"
      ]
     },
     "execution_count": 1,
     "metadata": {},
     "output_type": "execute_result"
    }
   ],
   "source": [
    "lista.index(10)"
   ]
  },
  {
   "cell_type": "code",
   "execution_count": 26,
   "id": "sticky-frederick",
   "metadata": {
    "execution": {
     "iopub.execute_input": "2021-02-09T23:58:30.813864Z",
     "iopub.status.busy": "2021-02-09T23:58:30.813229Z",
     "iopub.status.idle": "2021-02-09T23:58:30.816731Z",
     "shell.execute_reply": "2021-02-09T23:58:30.816041Z"
    }
   },
   "outputs": [
    {
     "data": {
      "text/plain": [
       "[1, 2, 3, 4, 1, 'dos']"
      ]
     },
     "execution_count": 1,
     "metadata": {},
     "output_type": "execute_result"
    }
   ],
   "source": [
    "lista.remove(10)\n",
    "lista"
   ]
  },
  {
   "cell_type": "code",
   "execution_count": 27,
   "id": "western-italy",
   "metadata": {
    "execution": {
     "iopub.execute_input": "2021-02-09T23:58:30.828591Z",
     "iopub.status.busy": "2021-02-09T23:58:30.820228Z",
     "iopub.status.idle": "2021-02-09T23:58:30.891219Z",
     "shell.execute_reply": "2021-02-09T23:58:30.889178Z"
    },
    "tags": [
     "raises-exception"
    ]
   },
   "outputs": [
    {
     "name": "stdout",
     "output_type": "stream",
     "text": [
      "1\n",
      "2\n",
      "2\n",
      "3\n",
      "3\n",
      "4\n",
      "4\n",
      "5\n",
      "1\n",
      "2\n",
      "dos\n"
     ]
    },
    {
     "ename": "TypeError",
     "evalue": "can only concatenate str (not \"int\") to str",
     "output_type": "error",
     "traceback": [
      "\u001b[0;31m---------------------------------------------------------------------------\u001b[0m",
      "\u001b[0;31mTypeError\u001b[0m                                 Traceback (most recent call last)",
      "\u001b[0;32m<ipython-input-1-41b56d5cf080>\u001b[0m in \u001b[0;36m<module>\u001b[0;34m\u001b[0m\n\u001b[1;32m      1\u001b[0m \u001b[0;32mfor\u001b[0m \u001b[0melemento\u001b[0m \u001b[0;32min\u001b[0m \u001b[0mlista\u001b[0m\u001b[0;34m:\u001b[0m\u001b[0;34m\u001b[0m\u001b[0;34m\u001b[0m\u001b[0m\n\u001b[1;32m      2\u001b[0m     \u001b[0mprint\u001b[0m\u001b[0;34m(\u001b[0m\u001b[0melemento\u001b[0m\u001b[0;34m)\u001b[0m\u001b[0;34m\u001b[0m\u001b[0;34m\u001b[0m\u001b[0m\n\u001b[0;32m----> 3\u001b[0;31m     \u001b[0mprint\u001b[0m\u001b[0;34m(\u001b[0m\u001b[0melemento\u001b[0m \u001b[0;34m+\u001b[0m \u001b[0;36m1\u001b[0m\u001b[0;34m)\u001b[0m\u001b[0;34m\u001b[0m\u001b[0;34m\u001b[0m\u001b[0m\n\u001b[0m",
      "\u001b[0;31mTypeError\u001b[0m: can only concatenate str (not \"int\") to str"
     ]
    }
   ],
   "source": [
    "for elemento in lista:\n",
    "    print(elemento)\n",
    "    print(elemento + 1)"
   ]
  },
  {
   "cell_type": "code",
   "execution_count": 28,
   "id": "recent-evanescence",
   "metadata": {
    "execution": {
     "iopub.execute_input": "2021-02-09T23:58:30.995366Z",
     "iopub.status.busy": "2021-02-09T23:58:30.994680Z",
     "iopub.status.idle": "2021-02-09T23:58:31.000853Z",
     "shell.execute_reply": "2021-02-09T23:58:31.001369Z"
    }
   },
   "outputs": [
    {
     "data": {
      "text/plain": [
       "[1, 2, 3, 4, 1, 'dos']"
      ]
     },
     "execution_count": 1,
     "metadata": {},
     "output_type": "execute_result"
    }
   ],
   "source": [
    "lista"
   ]
  },
  {
   "cell_type": "code",
   "execution_count": 29,
   "id": "vietnamese-connectivity",
   "metadata": {
    "execution": {
     "iopub.execute_input": "2021-02-09T23:58:31.006398Z",
     "iopub.status.busy": "2021-02-09T23:58:31.005745Z",
     "iopub.status.idle": "2021-02-09T23:58:31.011056Z",
     "shell.execute_reply": "2021-02-09T23:58:31.010365Z"
    }
   },
   "outputs": [
    {
     "name": "stdout",
     "output_type": "stream",
     "text": [
      "0-ésimo elemento: 1\n",
      "1-ésimo elemento: 2\n",
      "2-ésimo elemento: 3\n",
      "3-ésimo elemento: 4\n",
      "4-ésimo elemento: 1\n",
      "5-ésimo elemento: dos\n"
     ]
    }
   ],
   "source": [
    "for i, elemento in enumerate(lista):\n",
    "    print(f\"{i}-ésimo elemento: {elemento}\")"
   ]
  },
  {
   "cell_type": "code",
   "execution_count": 30,
   "id": "operating-limit",
   "metadata": {
    "execution": {
     "iopub.execute_input": "2021-02-09T23:58:31.018697Z",
     "iopub.status.busy": "2021-02-09T23:58:31.017869Z",
     "iopub.status.idle": "2021-02-09T23:58:31.025232Z",
     "shell.execute_reply": "2021-02-09T23:58:31.023129Z"
    },
    "tags": [
     "raises-exception"
    ]
   },
   "outputs": [
    {
     "ename": "TypeError",
     "evalue": "'<' not supported between instances of 'str' and 'int'",
     "output_type": "error",
     "traceback": [
      "\u001b[0;31m---------------------------------------------------------------------------\u001b[0m",
      "\u001b[0;31mTypeError\u001b[0m                                 Traceback (most recent call last)",
      "\u001b[0;32m<ipython-input-1-06c3f264dc7a>\u001b[0m in \u001b[0;36m<module>\u001b[0;34m\u001b[0m\n\u001b[0;32m----> 1\u001b[0;31m \u001b[0msorted\u001b[0m\u001b[0;34m(\u001b[0m\u001b[0mlista\u001b[0m\u001b[0;34m)\u001b[0m\u001b[0;34m\u001b[0m\u001b[0;34m\u001b[0m\u001b[0m\n\u001b[0m",
      "\u001b[0;31mTypeError\u001b[0m: '<' not supported between instances of 'str' and 'int'"
     ]
    }
   ],
   "source": [
    "sorted(lista)"
   ]
  },
  {
   "cell_type": "code",
   "execution_count": 31,
   "id": "lasting-nation",
   "metadata": {
    "execution": {
     "iopub.execute_input": "2021-02-09T23:58:31.129334Z",
     "iopub.status.busy": "2021-02-09T23:58:31.128612Z",
     "iopub.status.idle": "2021-02-09T23:58:31.132299Z",
     "shell.execute_reply": "2021-02-09T23:58:31.131713Z"
    }
   },
   "outputs": [],
   "source": [
    "lista.remove(\"dos\")"
   ]
  },
  {
   "cell_type": "code",
   "execution_count": 32,
   "id": "elect-backing",
   "metadata": {
    "execution": {
     "iopub.execute_input": "2021-02-09T23:58:31.136985Z",
     "iopub.status.busy": "2021-02-09T23:58:31.136334Z",
     "iopub.status.idle": "2021-02-09T23:58:31.142490Z",
     "shell.execute_reply": "2021-02-09T23:58:31.141914Z"
    }
   },
   "outputs": [
    {
     "data": {
      "text/plain": [
       "[1, 1, 2, 3, 4]"
      ]
     },
     "execution_count": 1,
     "metadata": {},
     "output_type": "execute_result"
    }
   ],
   "source": [
    "sorted(lista)"
   ]
  },
  {
   "cell_type": "code",
   "execution_count": 33,
   "id": "radical-throat",
   "metadata": {
    "execution": {
     "iopub.execute_input": "2021-02-09T23:58:31.148487Z",
     "iopub.status.busy": "2021-02-09T23:58:31.147303Z",
     "iopub.status.idle": "2021-02-09T23:58:31.150551Z",
     "shell.execute_reply": "2021-02-09T23:58:31.151082Z"
    }
   },
   "outputs": [
    {
     "data": {
      "text/plain": [
       "[1, 1, 2, 3, 4]"
      ]
     },
     "execution_count": 1,
     "metadata": {},
     "output_type": "execute_result"
    }
   ],
   "source": [
    "lista.sort()\n",
    "lista"
   ]
  },
  {
   "cell_type": "markdown",
   "id": "intended-westminster",
   "metadata": {
    "slideshow": {
     "slide_type": "slide"
    }
   },
   "source": [
    "#### Tuplas de Python\n",
    "\n",
    "Las tuplas son inmutables. No se pueden agregar elementos luego de creadas."
   ]
  },
  {
   "cell_type": "code",
   "execution_count": 34,
   "id": "theoretical-planning",
   "metadata": {
    "execution": {
     "iopub.execute_input": "2021-02-09T23:58:31.159973Z",
     "iopub.status.busy": "2021-02-09T23:58:31.155516Z",
     "iopub.status.idle": "2021-02-09T23:58:31.164014Z",
     "shell.execute_reply": "2021-02-09T23:58:31.164579Z"
    },
    "slideshow": {
     "slide_type": "slide"
    },
    "tags": [
     "raises-exception"
    ]
   },
   "outputs": [
    {
     "name": "stdout",
     "output_type": "stream",
     "text": [
      "(1, 2)\n",
      "1\n",
      "2\n"
     ]
    },
    {
     "ename": "TypeError",
     "evalue": "'tuple' object does not support item assignment",
     "output_type": "error",
     "traceback": [
      "\u001b[0;31m---------------------------------------------------------------------------\u001b[0m",
      "\u001b[0;31mTypeError\u001b[0m                                 Traceback (most recent call last)",
      "\u001b[0;32m<ipython-input-1-80ca8b547dd6>\u001b[0m in \u001b[0;36m<module>\u001b[0;34m\u001b[0m\n\u001b[1;32m      5\u001b[0m \u001b[0mprint\u001b[0m\u001b[0;34m(\u001b[0m\u001b[0mtupla\u001b[0m\u001b[0;34m[\u001b[0m\u001b[0;36m1\u001b[0m\u001b[0;34m]\u001b[0m\u001b[0;34m)\u001b[0m\u001b[0;34m\u001b[0m\u001b[0;34m\u001b[0m\u001b[0m\n\u001b[1;32m      6\u001b[0m \u001b[0;34m\u001b[0m\u001b[0m\n\u001b[0;32m----> 7\u001b[0;31m \u001b[0mtupla\u001b[0m\u001b[0;34m[\u001b[0m\u001b[0;36m1\u001b[0m\u001b[0;34m]\u001b[0m \u001b[0;34m=\u001b[0m \u001b[0;36m3\u001b[0m  \u001b[0;31m# Falla. No se puede mutar\u001b[0m\u001b[0;34m\u001b[0m\u001b[0;34m\u001b[0m\u001b[0m\n\u001b[0m",
      "\u001b[0;31mTypeError\u001b[0m: 'tuple' object does not support item assignment"
     ]
    }
   ],
   "source": [
    "tupla = (1, 2)\n",
    "\n",
    "print(tupla)\n",
    "print(tupla[0])\n",
    "print(tupla[1])\n",
    "\n",
    "tupla[1] = 3  # Falla. No se puede mutar"
   ]
  },
  {
   "cell_type": "code",
   "execution_count": 35,
   "id": "conscious-field",
   "metadata": {
    "execution": {
     "iopub.execute_input": "2021-02-09T23:58:31.268492Z",
     "iopub.status.busy": "2021-02-09T23:58:31.267450Z",
     "iopub.status.idle": "2021-02-09T23:58:31.275063Z",
     "shell.execute_reply": "2021-02-09T23:58:31.274416Z"
    }
   },
   "outputs": [
    {
     "data": {
      "text/plain": [
       "[1, 2]"
      ]
     },
     "execution_count": 1,
     "metadata": {},
     "output_type": "execute_result"
    }
   ],
   "source": [
    "l = [1, 2]\n",
    "l"
   ]
  },
  {
   "cell_type": "code",
   "execution_count": 36,
   "id": "invalid-whale",
   "metadata": {
    "execution": {
     "iopub.execute_input": "2021-02-09T23:58:31.279553Z",
     "iopub.status.busy": "2021-02-09T23:58:31.278916Z",
     "iopub.status.idle": "2021-02-09T23:58:31.284247Z",
     "shell.execute_reply": "2021-02-09T23:58:31.284788Z"
    }
   },
   "outputs": [
    {
     "data": {
      "text/plain": [
       "[1, 3]"
      ]
     },
     "execution_count": 1,
     "metadata": {},
     "output_type": "execute_result"
    }
   ],
   "source": [
    "l[1] = 3\n",
    "l"
   ]
  },
  {
   "cell_type": "markdown",
   "id": "worse-merchant",
   "metadata": {
    "slideshow": {
     "slide_type": "slide"
    }
   },
   "source": [
    "#### Diferencia entre lista y tupla\n",
    "Las listas se caracterizan por ser mutables, es decir, se puede cambiar su contenido en tiempo de ejecución, mientras que las tuplas son inmutables ya que no es posible modificar el contenido una vez creada."
   ]
  },
  {
   "cell_type": "markdown",
   "id": "circular-sucking",
   "metadata": {},
   "source": [
    "#### Slices\n",
    "\n",
    "**Valen para listas, tuplas o strings (_segmentos_)**"
   ]
  },
  {
   "cell_type": "code",
   "execution_count": 37,
   "id": "current-highway",
   "metadata": {
    "execution": {
     "iopub.execute_input": "2021-02-09T23:58:31.290127Z",
     "iopub.status.busy": "2021-02-09T23:58:31.289439Z",
     "iopub.status.idle": "2021-02-09T23:58:31.292353Z",
     "shell.execute_reply": "2021-02-09T23:58:31.291778Z"
    }
   },
   "outputs": [],
   "source": [
    "numeros = [0, 1, 2, 3, 4, 5, 6, 7, 8, 9, 10]"
   ]
  },
  {
   "cell_type": "code",
   "execution_count": 38,
   "id": "unlikely-money",
   "metadata": {
    "execution": {
     "iopub.execute_input": "2021-02-09T23:58:31.296221Z",
     "iopub.status.busy": "2021-02-09T23:58:31.295522Z",
     "iopub.status.idle": "2021-02-09T23:58:31.300390Z",
     "shell.execute_reply": "2021-02-09T23:58:31.300944Z"
    }
   },
   "outputs": [
    {
     "name": "stdout",
     "output_type": "stream",
     "text": [
      "[0, 1, 2, 3, 4, 5, 6, 7, 8, 9, 10]\n"
     ]
    }
   ],
   "source": [
    "print(numeros)"
   ]
  },
  {
   "cell_type": "code",
   "execution_count": 39,
   "id": "sudden-major",
   "metadata": {
    "execution": {
     "iopub.execute_input": "2021-02-09T23:58:31.306026Z",
     "iopub.status.busy": "2021-02-09T23:58:31.305379Z",
     "iopub.status.idle": "2021-02-09T23:58:31.310113Z",
     "shell.execute_reply": "2021-02-09T23:58:31.310621Z"
    }
   },
   "outputs": [
    {
     "name": "stdout",
     "output_type": "stream",
     "text": [
      "2\n"
     ]
    }
   ],
   "source": [
    "print(numeros[2])  # Imprimo elemento en la posición 2"
   ]
  },
  {
   "cell_type": "code",
   "execution_count": 40,
   "id": "cardiovascular-youth",
   "metadata": {
    "execution": {
     "iopub.execute_input": "2021-02-09T23:58:31.315250Z",
     "iopub.status.busy": "2021-02-09T23:58:31.314476Z",
     "iopub.status.idle": "2021-02-09T23:58:31.320304Z",
     "shell.execute_reply": "2021-02-09T23:58:31.319639Z"
    }
   },
   "outputs": [
    {
     "data": {
      "text/plain": [
       "10"
      ]
     },
     "execution_count": 1,
     "metadata": {},
     "output_type": "execute_result"
    }
   ],
   "source": [
    "numeros[len(numeros) - 1]"
   ]
  },
  {
   "cell_type": "code",
   "execution_count": 41,
   "id": "wrong-indonesia",
   "metadata": {
    "execution": {
     "iopub.execute_input": "2021-02-09T23:58:31.326398Z",
     "iopub.status.busy": "2021-02-09T23:58:31.324929Z",
     "iopub.status.idle": "2021-02-09T23:58:31.328544Z",
     "shell.execute_reply": "2021-02-09T23:58:31.327971Z"
    },
    "lines_to_next_cell": 2
   },
   "outputs": [
    {
     "name": "stdout",
     "output_type": "stream",
     "text": [
      "10\n"
     ]
    }
   ],
   "source": [
    "print(numeros[-1])  # # Imprimo elemento en la última posición"
   ]
  },
  {
   "cell_type": "code",
   "execution_count": 42,
   "id": "driving-austin",
   "metadata": {
    "execution": {
     "iopub.execute_input": "2021-02-09T23:58:31.334476Z",
     "iopub.status.busy": "2021-02-09T23:58:31.333329Z",
     "iopub.status.idle": "2021-02-09T23:58:31.336499Z",
     "shell.execute_reply": "2021-02-09T23:58:31.337031Z"
    },
    "lines_to_next_cell": 2
   },
   "outputs": [
    {
     "data": {
      "text/plain": [
       "9"
      ]
     },
     "execution_count": 1,
     "metadata": {},
     "output_type": "execute_result"
    }
   ],
   "source": [
    "numeros[-2]"
   ]
  },
  {
   "cell_type": "code",
   "execution_count": 43,
   "id": "adaptive-target",
   "metadata": {
    "execution": {
     "iopub.execute_input": "2021-02-09T23:58:31.343085Z",
     "iopub.status.busy": "2021-02-09T23:58:31.341649Z",
     "iopub.status.idle": "2021-02-09T23:58:31.345531Z",
     "shell.execute_reply": "2021-02-09T23:58:31.344956Z"
    }
   },
   "outputs": [
    {
     "name": "stdout",
     "output_type": "stream",
     "text": [
      "[0, 1, 2]\n"
     ]
    }
   ],
   "source": [
    "print(numeros[0:3])  # Imprimo de la pos 0 a la pos 2"
   ]
  },
  {
   "cell_type": "code",
   "execution_count": 44,
   "id": "improving-theme",
   "metadata": {
    "execution": {
     "iopub.execute_input": "2021-02-09T23:58:31.351549Z",
     "iopub.status.busy": "2021-02-09T23:58:31.350099Z",
     "iopub.status.idle": "2021-02-09T23:58:31.353659Z",
     "shell.execute_reply": "2021-02-09T23:58:31.353089Z"
    }
   },
   "outputs": [
    {
     "name": "stdout",
     "output_type": "stream",
     "text": [
      "[7, 8]\n"
     ]
    }
   ],
   "source": [
    "print(numeros[-4:-2])"
   ]
  },
  {
   "cell_type": "code",
   "execution_count": 45,
   "id": "danish-sponsorship",
   "metadata": {
    "execution": {
     "iopub.execute_input": "2021-02-09T23:58:31.358638Z",
     "iopub.status.busy": "2021-02-09T23:58:31.356393Z",
     "iopub.status.idle": "2021-02-09T23:58:31.361591Z",
     "shell.execute_reply": "2021-02-09T23:58:31.362304Z"
    }
   },
   "outputs": [
    {
     "name": "stdout",
     "output_type": "stream",
     "text": [
      "[0, 1, 2, 3, 4, 5, 6, 7, 8, 9, 10]\n"
     ]
    }
   ],
   "source": [
    "print(numeros[0:80])"
   ]
  },
  {
   "cell_type": "code",
   "execution_count": 46,
   "id": "expanded-bottle",
   "metadata": {
    "execution": {
     "iopub.execute_input": "2021-02-09T23:58:31.367494Z",
     "iopub.status.busy": "2021-02-09T23:58:31.366824Z",
     "iopub.status.idle": "2021-02-09T23:58:31.369238Z",
     "shell.execute_reply": "2021-02-09T23:58:31.369844Z"
    }
   },
   "outputs": [
    {
     "name": "stdout",
     "output_type": "stream",
     "text": [
      "[0, 1, 2]\n"
     ]
    }
   ],
   "source": [
    "print(numeros[:3])"
   ]
  },
  {
   "cell_type": "code",
   "execution_count": 47,
   "id": "hungry-crack",
   "metadata": {
    "execution": {
     "iopub.execute_input": "2021-02-09T23:58:31.374751Z",
     "iopub.status.busy": "2021-02-09T23:58:31.374112Z",
     "iopub.status.idle": "2021-02-09T23:58:31.376275Z",
     "shell.execute_reply": "2021-02-09T23:58:31.376813Z"
    }
   },
   "outputs": [
    {
     "name": "stdout",
     "output_type": "stream",
     "text": [
      "[3, 4, 5, 6, 7, 8, 9, 10]\n"
     ]
    }
   ],
   "source": [
    "print(numeros[3:])"
   ]
  },
  {
   "cell_type": "code",
   "execution_count": 48,
   "id": "bibliographic-breakfast",
   "metadata": {
    "execution": {
     "iopub.execute_input": "2021-02-09T23:58:31.381362Z",
     "iopub.status.busy": "2021-02-09T23:58:31.380713Z",
     "iopub.status.idle": "2021-02-09T23:58:31.382969Z",
     "shell.execute_reply": "2021-02-09T23:58:31.383597Z"
    }
   },
   "outputs": [
    {
     "name": "stdout",
     "output_type": "stream",
     "text": [
      "[0, 2, 4, 6, 8]\n"
     ]
    }
   ],
   "source": [
    "print(numeros[0:10:2])"
   ]
  },
  {
   "cell_type": "markdown",
   "id": "infectious-tuning",
   "metadata": {},
   "source": [
    "```python\n",
    "lista[<inicio>:<final>:<step>]\n",
    "```"
   ]
  },
  {
   "cell_type": "code",
   "execution_count": 49,
   "id": "peaceful-supplier",
   "metadata": {
    "execution": {
     "iopub.execute_input": "2021-02-09T23:58:31.388307Z",
     "iopub.status.busy": "2021-02-09T23:58:31.387641Z",
     "iopub.status.idle": "2021-02-09T23:58:31.391237Z",
     "shell.execute_reply": "2021-02-09T23:58:31.390653Z"
    },
    "lines_to_next_cell": 2
   },
   "outputs": [
    {
     "data": {
      "text/plain": [
       "[1, 2, 3, 4]"
      ]
     },
     "execution_count": 1,
     "metadata": {},
     "output_type": "execute_result"
    }
   ],
   "source": [
    "l1 = [1, 2]\n",
    "l2 = [3, 4]\n",
    "l1 + l2"
   ]
  },
  {
   "cell_type": "code",
   "execution_count": 50,
   "id": "educational-organic",
   "metadata": {
    "execution": {
     "iopub.execute_input": "2021-02-09T23:58:31.398093Z",
     "iopub.status.busy": "2021-02-09T23:58:31.397434Z",
     "iopub.status.idle": "2021-02-09T23:58:31.399521Z",
     "shell.execute_reply": "2021-02-09T23:58:31.400183Z"
    }
   },
   "outputs": [
    {
     "name": "stdout",
     "output_type": "stream",
     "text": [
      "[0, 1, 2, 3, 4, 5, 6, 'siete', 8, 9, 10]\n"
     ]
    }
   ],
   "source": [
    "numeros[7] = 'siete'  # Las listas se pueden mutar\n",
    "print(numeros)"
   ]
  },
  {
   "cell_type": "code",
   "execution_count": 51,
   "id": "exact-factory",
   "metadata": {
    "execution": {
     "iopub.execute_input": "2021-02-09T23:58:31.404467Z",
     "iopub.status.busy": "2021-02-09T23:58:31.403797Z",
     "iopub.status.idle": "2021-02-09T23:58:31.405886Z",
     "shell.execute_reply": "2021-02-09T23:58:31.406507Z"
    }
   },
   "outputs": [
    {
     "name": "stdout",
     "output_type": "stream",
     "text": [
      "[10, 9, 8, 'siete', 6, 5, 4, 3, 2, 1, 0]\n"
     ]
    }
   ],
   "source": [
    "numeros = numeros[::-1]\n",
    "print(numeros)"
   ]
  },
  {
   "cell_type": "code",
   "execution_count": 52,
   "id": "ethical-liberia",
   "metadata": {
    "execution": {
     "iopub.execute_input": "2021-02-09T23:58:31.414356Z",
     "iopub.status.busy": "2021-02-09T23:58:31.413655Z",
     "iopub.status.idle": "2021-02-09T23:58:31.417307Z",
     "shell.execute_reply": "2021-02-09T23:58:31.416751Z"
    },
    "tags": [
     "raises-exception"
    ]
   },
   "outputs": [
    {
     "ename": "IndexError",
     "evalue": "list index out of range",
     "output_type": "error",
     "traceback": [
      "\u001b[0;31m---------------------------------------------------------------------------\u001b[0m",
      "\u001b[0;31mIndexError\u001b[0m                                Traceback (most recent call last)",
      "\u001b[0;32m<ipython-input-1-0ef91dd29a9b>\u001b[0m in \u001b[0;36m<module>\u001b[0;34m\u001b[0m\n\u001b[0;32m----> 1\u001b[0;31m \u001b[0mprint\u001b[0m\u001b[0;34m(\u001b[0m\u001b[0mnumeros\u001b[0m\u001b[0;34m[\u001b[0m\u001b[0;36m15\u001b[0m\u001b[0;34m]\u001b[0m\u001b[0;34m)\u001b[0m  \u001b[0;31m# Falla. No se puede acceder a una posición inexistente\u001b[0m\u001b[0;34m\u001b[0m\u001b[0;34m\u001b[0m\u001b[0m\n\u001b[0m",
      "\u001b[0;31mIndexError\u001b[0m: list index out of range"
     ]
    }
   ],
   "source": [
    "print(numeros[15])  # Falla. No se puede acceder a una posición inexistente"
   ]
  },
  {
   "cell_type": "code",
   "execution_count": 53,
   "id": "challenging-support",
   "metadata": {
    "execution": {
     "iopub.execute_input": "2021-02-09T23:58:31.522357Z",
     "iopub.status.busy": "2021-02-09T23:58:31.521330Z",
     "iopub.status.idle": "2021-02-09T23:58:31.527897Z",
     "shell.execute_reply": "2021-02-09T23:58:31.527181Z"
    }
   },
   "outputs": [
    {
     "name": "stdout",
     "output_type": "stream",
     "text": [
      "palabra\n",
      "a\n",
      "pal\n",
      "abra\n"
     ]
    }
   ],
   "source": [
    "palabra = 'palabra'\n",
    "print(palabra)\n",
    "print(palabra[3])\n",
    "print(palabra[:3])\n",
    "print(palabra[3:])"
   ]
  },
  {
   "cell_type": "code",
   "execution_count": 54,
   "id": "agricultural-german",
   "metadata": {
    "execution": {
     "iopub.execute_input": "2021-02-09T23:58:31.533079Z",
     "iopub.status.busy": "2021-02-09T23:58:31.532424Z",
     "iopub.status.idle": "2021-02-09T23:58:31.536283Z",
     "shell.execute_reply": "2021-02-09T23:58:31.535641Z"
    }
   },
   "outputs": [
    {
     "name": "stdout",
     "output_type": "stream",
     "text": [
      "(0, 1, 2, 3, 4)\n",
      "(0, 1)\n",
      "(2, 3, 4)\n"
     ]
    }
   ],
   "source": [
    "tupla = (0, 1, 2, 3, 4)\n",
    "\n",
    "print(tupla)\n",
    "print(tupla[:2])\n",
    "print(tupla[2:])"
   ]
  },
  {
   "cell_type": "markdown",
   "id": "traditional-holder",
   "metadata": {
    "slideshow": {
     "slide_type": "slide"
    }
   },
   "source": [
    "#### Diccionarios de Python\n",
    "\n",
    "Son como hashmaps, las claves deben ser inmutables para que no pierda sentido el diccionario. Si se pudieran modificar, se podrían cambiar las claves y generaría conflictos.\n",
    "\n",
    "Tipos mutables:\n",
    "- Listas\n",
    "- Diccionarios\n",
    "- Sets\n",
    "\n",
    "Tipos inmutables:\n",
    "- Int\n",
    "- Float\n",
    "- String\n",
    "- Tuplas\n"
   ]
  },
  {
   "cell_type": "code",
   "execution_count": 55,
   "id": "resistant-skiing",
   "metadata": {
    "execution": {
     "iopub.execute_input": "2021-02-09T23:58:31.541472Z",
     "iopub.status.busy": "2021-02-09T23:58:31.540780Z",
     "iopub.status.idle": "2021-02-09T23:58:31.547415Z",
     "shell.execute_reply": "2021-02-09T23:58:31.546777Z"
    },
    "slideshow": {
     "slide_type": "slide"
    }
   },
   "outputs": [
    {
     "data": {
      "text/plain": [
       "{}"
      ]
     },
     "execution_count": 1,
     "metadata": {},
     "output_type": "execute_result"
    }
   ],
   "source": [
    "diccionario = {}\n",
    "diccionario"
   ]
  },
  {
   "cell_type": "code",
   "execution_count": 56,
   "id": "advised-indication",
   "metadata": {
    "execution": {
     "iopub.execute_input": "2021-02-09T23:58:31.553614Z",
     "iopub.status.busy": "2021-02-09T23:58:31.552389Z",
     "iopub.status.idle": "2021-02-09T23:58:31.555636Z",
     "shell.execute_reply": "2021-02-09T23:58:31.556235Z"
    }
   },
   "outputs": [
    {
     "data": {
      "text/plain": [
       "{}"
      ]
     },
     "execution_count": 1,
     "metadata": {},
     "output_type": "execute_result"
    }
   ],
   "source": [
    "diccionario = dict()\n",
    "diccionario"
   ]
  },
  {
   "cell_type": "code",
   "execution_count": 57,
   "id": "cathedral-description",
   "metadata": {
    "execution": {
     "iopub.execute_input": "2021-02-09T23:58:31.562755Z",
     "iopub.status.busy": "2021-02-09T23:58:31.561256Z",
     "iopub.status.idle": "2021-02-09T23:58:31.565060Z",
     "shell.execute_reply": "2021-02-09T23:58:31.564333Z"
    },
    "slideshow": {
     "slide_type": "slide"
    }
   },
   "outputs": [
    {
     "name": "stdout",
     "output_type": "stream",
     "text": [
      "{'clave1': 'valor1', 2: 'valor2', 'clave3': 3}\n"
     ]
    }
   ],
   "source": [
    "# Cómo agregar cosas al diccionario\n",
    "diccionario['clave1'] = 'valor1'\n",
    "diccionario[2] = 'valor2'\n",
    "diccionario['clave3'] = 3\n",
    "print(diccionario)"
   ]
  },
  {
   "cell_type": "markdown",
   "id": "fatty-funds",
   "metadata": {},
   "source": [
    "Hay dos formas de obtener valores de un diccionario:\n",
    "\n",
    "```python\n",
    "diccionario[clave]\n",
    "```\n",
    "\n",
    "El cual devuelve el valor si existe la clave suministrada o bien lanza `KeyError` si no existe."
   ]
  },
  {
   "cell_type": "code",
   "execution_count": 58,
   "id": "tight-arrangement",
   "metadata": {
    "execution": {
     "iopub.execute_input": "2021-02-09T23:58:31.569986Z",
     "iopub.status.busy": "2021-02-09T23:58:31.567617Z",
     "iopub.status.idle": "2021-02-09T23:58:31.572489Z",
     "shell.execute_reply": "2021-02-09T23:58:31.573071Z"
    }
   },
   "outputs": [
    {
     "data": {
      "text/plain": [
       "'valor1'"
      ]
     },
     "execution_count": 1,
     "metadata": {},
     "output_type": "execute_result"
    }
   ],
   "source": [
    "diccionario['clave1']"
   ]
  },
  {
   "cell_type": "code",
   "execution_count": 59,
   "id": "raising-wallace",
   "metadata": {
    "execution": {
     "iopub.execute_input": "2021-02-09T23:58:31.581158Z",
     "iopub.status.busy": "2021-02-09T23:58:31.580380Z",
     "iopub.status.idle": "2021-02-09T23:58:31.584411Z",
     "shell.execute_reply": "2021-02-09T23:58:31.583793Z"
    },
    "tags": [
     "raises-exception"
    ]
   },
   "outputs": [
    {
     "ename": "KeyError",
     "evalue": "'clave1000'",
     "output_type": "error",
     "traceback": [
      "\u001b[0;31m---------------------------------------------------------------------------\u001b[0m",
      "\u001b[0;31mKeyError\u001b[0m                                  Traceback (most recent call last)",
      "\u001b[0;32m<ipython-input-1-41aae9a2e5ed>\u001b[0m in \u001b[0;36m<module>\u001b[0;34m\u001b[0m\n\u001b[0;32m----> 1\u001b[0;31m \u001b[0mdiccionario\u001b[0m\u001b[0;34m[\u001b[0m\u001b[0;34m'clave1000'\u001b[0m\u001b[0;34m]\u001b[0m\u001b[0;34m\u001b[0m\u001b[0;34m\u001b[0m\u001b[0m\n\u001b[0m",
      "\u001b[0;31mKeyError\u001b[0m: 'clave1000'"
     ]
    }
   ],
   "source": [
    "diccionario['clave1000']"
   ]
  },
  {
   "cell_type": "markdown",
   "id": "young-inventory",
   "metadata": {},
   "source": [
    "La segunda forma es con `get`:"
   ]
  },
  {
   "cell_type": "code",
   "execution_count": 60,
   "id": "iraqi-mechanics",
   "metadata": {
    "execution": {
     "iopub.execute_input": "2021-02-09T23:58:31.710848Z",
     "iopub.status.busy": "2021-02-09T23:58:31.700565Z",
     "iopub.status.idle": "2021-02-09T23:58:31.747886Z",
     "shell.execute_reply": "2021-02-09T23:58:31.747289Z"
    }
   },
   "outputs": [],
   "source": [
    "diccionario.get?"
   ]
  },
  {
   "cell_type": "code",
   "execution_count": 61,
   "id": "pediatric-intro",
   "metadata": {
    "execution": {
     "iopub.execute_input": "2021-02-09T23:58:31.754376Z",
     "iopub.status.busy": "2021-02-09T23:58:31.753193Z",
     "iopub.status.idle": "2021-02-09T23:58:31.756870Z",
     "shell.execute_reply": "2021-02-09T23:58:31.756303Z"
    }
   },
   "outputs": [
    {
     "name": "stdout",
     "output_type": "stream",
     "text": [
      "Help on built-in function get:\n",
      "\n",
      "get(key, default=None, /) method of builtins.dict instance\n",
      "    Return the value for key if key is in the dictionary, else default.\n",
      "\n"
     ]
    }
   ],
   "source": [
    "help(diccionario.get)"
   ]
  },
  {
   "cell_type": "code",
   "execution_count": 62,
   "id": "absolute-passage",
   "metadata": {
    "execution": {
     "iopub.execute_input": "2021-02-09T23:58:31.762514Z",
     "iopub.status.busy": "2021-02-09T23:58:31.761108Z",
     "iopub.status.idle": "2021-02-09T23:58:31.764684Z",
     "shell.execute_reply": "2021-02-09T23:58:31.764109Z"
    },
    "slideshow": {
     "slide_type": "slide"
    }
   },
   "outputs": [
    {
     "name": "stdout",
     "output_type": "stream",
     "text": [
      "None\n"
     ]
    }
   ],
   "source": [
    "print(diccionario.get('clave1000'))"
   ]
  },
  {
   "cell_type": "code",
   "execution_count": 63,
   "id": "roman-charity",
   "metadata": {
    "execution": {
     "iopub.execute_input": "2021-02-09T23:58:31.770496Z",
     "iopub.status.busy": "2021-02-09T23:58:31.769074Z",
     "iopub.status.idle": "2021-02-09T23:58:31.772625Z",
     "shell.execute_reply": "2021-02-09T23:58:31.772037Z"
    },
    "slideshow": {
     "slide_type": "slide"
    }
   },
   "outputs": [
    {
     "name": "stdout",
     "output_type": "stream",
     "text": [
      "True\n"
     ]
    }
   ],
   "source": [
    "print('clave1' in diccionario)  # Verifico si la clave está en el diccionario"
   ]
  },
  {
   "cell_type": "code",
   "execution_count": 64,
   "id": "outdoor-philadelphia",
   "metadata": {
    "execution": {
     "iopub.execute_input": "2021-02-09T23:58:31.778376Z",
     "iopub.status.busy": "2021-02-09T23:58:31.777209Z",
     "iopub.status.idle": "2021-02-09T23:58:31.780372Z",
     "shell.execute_reply": "2021-02-09T23:58:31.780908Z"
    }
   },
   "outputs": [
    {
     "data": {
      "text/plain": [
       "True"
      ]
     },
     "execution_count": 1,
     "metadata": {},
     "output_type": "execute_result"
    }
   ],
   "source": [
    "l = [1, 2, 3, 4]\n",
    "2 in l"
   ]
  },
  {
   "cell_type": "code",
   "execution_count": 65,
   "id": "amino-cutting",
   "metadata": {
    "execution": {
     "iopub.execute_input": "2021-02-09T23:58:31.787567Z",
     "iopub.status.busy": "2021-02-09T23:58:31.785923Z",
     "iopub.status.idle": "2021-02-09T23:58:31.789740Z",
     "shell.execute_reply": "2021-02-09T23:58:31.789129Z"
    }
   },
   "outputs": [
    {
     "name": "stdout",
     "output_type": "stream",
     "text": [
      "la clave es clave1 y el valor es valor1\n",
      "la clave es 2 y el valor es valor2\n",
      "la clave es clave3 y el valor es 3\n"
     ]
    }
   ],
   "source": [
    "for clave, valor in diccionario.items():\n",
    "    print(\"la clave es %s y el valor es %s\" % (clave, valor))"
   ]
  },
  {
   "cell_type": "code",
   "execution_count": 66,
   "id": "republican-alaska",
   "metadata": {
    "execution": {
     "iopub.execute_input": "2021-02-09T23:58:31.795844Z",
     "iopub.status.busy": "2021-02-09T23:58:31.794343Z",
     "iopub.status.idle": "2021-02-09T23:58:31.797950Z",
     "shell.execute_reply": "2021-02-09T23:58:31.797382Z"
    }
   },
   "outputs": [
    {
     "name": "stdout",
     "output_type": "stream",
     "text": [
      "la clave es clave1 y el valor es valor1\n",
      "la clave es 2 y el valor es valor2\n",
      "la clave es clave3 y el valor es 3\n"
     ]
    }
   ],
   "source": [
    "for clave, valor in diccionario.items():\n",
    "    print(\"la clave es {} y el valor es {}\".format(clave, valor))"
   ]
  },
  {
   "cell_type": "code",
   "execution_count": 67,
   "id": "fluid-writing",
   "metadata": {
    "execution": {
     "iopub.execute_input": "2021-02-09T23:58:31.804585Z",
     "iopub.status.busy": "2021-02-09T23:58:31.803058Z",
     "iopub.status.idle": "2021-02-09T23:58:31.806679Z",
     "shell.execute_reply": "2021-02-09T23:58:31.806110Z"
    },
    "slideshow": {
     "slide_type": "slide"
    }
   },
   "outputs": [
    {
     "name": "stdout",
     "output_type": "stream",
     "text": [
      "la clave es clave1 y el valor es valor1\n",
      "la clave es 2 y el valor es valor2\n",
      "la clave es clave3 y el valor es 3\n"
     ]
    }
   ],
   "source": [
    "# Cómo iterar un diccionario elemento por elemento\n",
    "for (\n",
    "    clave,\n",
    "    valor,\n",
    ") in (\n",
    "    diccionario.items()\n",
    "):  # diccionario.items() va devolviendo tuplas con el formato (clave,valor)\n",
    "    print(\n",
    "        f\"la clave es {clave} y el valor es {valor}\"\n",
    "    )  # con esta sintaxis se desempaquetan en clave y valor (similar a enumerate)"
   ]
  },
  {
   "cell_type": "code",
   "execution_count": 68,
   "id": "standing-reconstruction",
   "metadata": {
    "execution": {
     "iopub.execute_input": "2021-02-09T23:58:31.812564Z",
     "iopub.status.busy": "2021-02-09T23:58:31.811084Z",
     "iopub.status.idle": "2021-02-09T23:58:31.814700Z",
     "shell.execute_reply": "2021-02-09T23:58:31.814095Z"
    },
    "slideshow": {
     "slide_type": "slide"
    }
   },
   "outputs": [
    {
     "name": "stdout",
     "output_type": "stream",
     "text": [
      "clave1\n",
      "2\n",
      "clave3\n"
     ]
    }
   ],
   "source": [
    "for clave in diccionario.keys():\n",
    "    print(clave)"
   ]
  },
  {
   "cell_type": "code",
   "execution_count": 69,
   "id": "dynamic-prophet",
   "metadata": {
    "execution": {
     "iopub.execute_input": "2021-02-09T23:58:31.820724Z",
     "iopub.status.busy": "2021-02-09T23:58:31.819187Z",
     "iopub.status.idle": "2021-02-09T23:58:31.822873Z",
     "shell.execute_reply": "2021-02-09T23:58:31.822269Z"
    },
    "slideshow": {
     "slide_type": "slide"
    }
   },
   "outputs": [
    {
     "name": "stdout",
     "output_type": "stream",
     "text": [
      "valor1\n",
      "valor2\n",
      "3\n"
     ]
    }
   ],
   "source": [
    "for valor in diccionario.values():\n",
    "    print(valor)"
   ]
  },
  {
   "cell_type": "markdown",
   "id": "friendly-america",
   "metadata": {},
   "source": [
    "#### Sets\n",
    "\n",
    "Son similares a los diccionarios (en eficiencia) pero se almacenan solo claves, y tienen algunas operaciones particulares.\n",
    "\n",
    "En particular, no pueden tener elementos iguales (pensar que son conjuntos)"
   ]
  },
  {
   "cell_type": "code",
   "execution_count": 70,
   "id": "guilty-application",
   "metadata": {
    "execution": {
     "iopub.execute_input": "2021-02-09T23:58:31.827189Z",
     "iopub.status.busy": "2021-02-09T23:58:31.826547Z",
     "iopub.status.idle": "2021-02-09T23:58:31.831883Z",
     "shell.execute_reply": "2021-02-09T23:58:31.831307Z"
    }
   },
   "outputs": [],
   "source": [
    "set??"
   ]
  },
  {
   "cell_type": "code",
   "execution_count": 71,
   "id": "tight-directory",
   "metadata": {
    "execution": {
     "iopub.execute_input": "2021-02-09T23:58:31.837521Z",
     "iopub.status.busy": "2021-02-09T23:58:31.836331Z",
     "iopub.status.idle": "2021-02-09T23:58:31.839502Z",
     "shell.execute_reply": "2021-02-09T23:58:31.840027Z"
    }
   },
   "outputs": [
    {
     "data": {
      "text/plain": [
       "{1, 2, 3}"
      ]
     },
     "execution_count": 1,
     "metadata": {},
     "output_type": "execute_result"
    }
   ],
   "source": [
    "# Se definen como los diccionarios pero sin hacerlos 'clave:valor', solamente una seguidilla de elementos\n",
    "{1, 2, 2, 3}"
   ]
  },
  {
   "cell_type": "code",
   "execution_count": 72,
   "id": "continent-english",
   "metadata": {
    "execution": {
     "iopub.execute_input": "2021-02-09T23:58:31.845754Z",
     "iopub.status.busy": "2021-02-09T23:58:31.844592Z",
     "iopub.status.idle": "2021-02-09T23:58:31.849368Z",
     "shell.execute_reply": "2021-02-09T23:58:31.849909Z"
    }
   },
   "outputs": [
    {
     "data": {
      "text/plain": [
       "{1, 2, 3}"
      ]
     },
     "execution_count": 1,
     "metadata": {},
     "output_type": "execute_result"
    }
   ],
   "source": [
    "set([1, 2, 2, 3])"
   ]
  },
  {
   "cell_type": "markdown",
   "id": "moral-vatican",
   "metadata": {},
   "source": [
    "## Condicionales (if...elif...else)\n",
    "\n",
    "```python\n",
    "if <condición_1>:\n",
    "    <hacer algo_1 si se da la condición_1>\n",
    "elif <condición_2>:\n",
    "    <hacer algo_2 si se da la condición_2>\n",
    "...\n",
    "elif <condición_n>:\n",
    "    <hacer algo_n si se da la condición_n>\n",
    "else:\n",
    "    <hacer otra cosa si no dan las anteriores>\n",
    "```\n",
    "\n",
    "Algo importante para notar es que los bloques se definen por **niveles de identacion**."
   ]
  },
  {
   "cell_type": "code",
   "execution_count": 73,
   "id": "actual-platform",
   "metadata": {
    "execution": {
     "iopub.execute_input": "2021-02-09T23:58:31.856567Z",
     "iopub.status.busy": "2021-02-09T23:58:31.855074Z",
     "iopub.status.idle": "2021-02-09T23:58:31.858750Z",
     "shell.execute_reply": "2021-02-09T23:58:31.858176Z"
    }
   },
   "outputs": [
    {
     "name": "stdout",
     "output_type": "stream",
     "text": [
      "uno\n"
     ]
    }
   ],
   "source": [
    "v = 1\n",
    "if v == 1:\n",
    "    print(\"uno\")\n",
    "elif v == 2:\n",
    "    print(\"dos\")\n",
    "else:\n",
    "    print(\"ni idea\")\n",
    "    print(v)"
   ]
  },
  {
   "cell_type": "markdown",
   "id": "critical-female",
   "metadata": {},
   "source": [
    "## Iteraciones\n",
    "\n",
    "```python\n",
    "while cond:\n",
    "    <codigo>\n",
    "```\n",
    "\n",
    "```python\n",
    "for elemento in iterable:\n",
    "    <codigo>\n",
    "```\n",
    "\n",
    "Para iterar sobre un rango de valores, usamos `range`"
   ]
  },
  {
   "cell_type": "code",
   "execution_count": 74,
   "id": "sporting-country",
   "metadata": {
    "execution": {
     "iopub.execute_input": "2021-02-09T23:58:31.864889Z",
     "iopub.status.busy": "2021-02-09T23:58:31.863493Z",
     "iopub.status.idle": "2021-02-09T23:58:31.867027Z",
     "shell.execute_reply": "2021-02-09T23:58:31.866460Z"
    }
   },
   "outputs": [
    {
     "name": "stdout",
     "output_type": "stream",
     "text": [
      "1\n",
      "4\n",
      "7\n",
      "10\n"
     ]
    }
   ],
   "source": [
    "for i in range(1, 11, 3):\n",
    "    print(i)"
   ]
  },
  {
   "cell_type": "markdown",
   "id": "innocent-edition",
   "metadata": {},
   "source": [
    "## Operadores logicos\n",
    "\n",
    "`not`, `or`, `and`"
   ]
  },
  {
   "cell_type": "code",
   "execution_count": 75,
   "id": "supported-pasta",
   "metadata": {
    "execution": {
     "iopub.execute_input": "2021-02-09T23:58:31.872538Z",
     "iopub.status.busy": "2021-02-09T23:58:31.871064Z",
     "iopub.status.idle": "2021-02-09T23:58:31.874596Z",
     "shell.execute_reply": "2021-02-09T23:58:31.874032Z"
    }
   },
   "outputs": [
    {
     "name": "stdout",
     "output_type": "stream",
     "text": [
      "yay\n"
     ]
    }
   ],
   "source": [
    "if True or False:\n",
    "    print(\"yay\")"
   ]
  },
  {
   "cell_type": "code",
   "execution_count": 76,
   "id": "hearing-retailer",
   "metadata": {
    "execution": {
     "iopub.execute_input": "2021-02-09T23:58:31.882174Z",
     "iopub.status.busy": "2021-02-09T23:58:31.881228Z",
     "iopub.status.idle": "2021-02-09T23:58:31.884362Z",
     "shell.execute_reply": "2021-02-09T23:58:31.883759Z"
    }
   },
   "outputs": [
    {
     "data": {
      "text/plain": [
       "False"
      ]
     },
     "execution_count": 1,
     "metadata": {},
     "output_type": "execute_result"
    }
   ],
   "source": [
    "1 == 2"
   ]
  },
  {
   "cell_type": "code",
   "execution_count": 77,
   "id": "million-justice",
   "metadata": {
    "execution": {
     "iopub.execute_input": "2021-02-09T23:58:31.894461Z",
     "iopub.status.busy": "2021-02-09T23:58:31.889986Z",
     "iopub.status.idle": "2021-02-09T23:58:31.897215Z",
     "shell.execute_reply": "2021-02-09T23:58:31.895372Z"
    }
   },
   "outputs": [
    {
     "data": {
      "text/plain": [
       "True"
      ]
     },
     "execution_count": 1,
     "metadata": {},
     "output_type": "execute_result"
    }
   ],
   "source": [
    "1 != 2"
   ]
  },
  {
   "cell_type": "markdown",
   "id": "strong-trash",
   "metadata": {
    "slideshow": {
     "slide_type": "slide"
    }
   },
   "source": [
    "## Funciones en Python"
   ]
  },
  {
   "cell_type": "code",
   "execution_count": 78,
   "id": "amended-calculator",
   "metadata": {
    "execution": {
     "iopub.execute_input": "2021-02-09T23:58:31.904561Z",
     "iopub.status.busy": "2021-02-09T23:58:31.903793Z",
     "iopub.status.idle": "2021-02-09T23:58:31.906263Z",
     "shell.execute_reply": "2021-02-09T23:58:31.906827Z"
    },
    "slideshow": {
     "slide_type": "slide"
    }
   },
   "outputs": [
    {
     "name": "stdout",
     "output_type": "stream",
     "text": [
      "True\n",
      "False\n"
     ]
    }
   ],
   "source": [
    "def busqueda_binaria(lista, elemento):\n",
    "    if not lista:\n",
    "        return False\n",
    "    elif len(lista) == 1:\n",
    "        return lista[0] == elemento\n",
    "    mitad = len(lista) // 2  # // es la operación división entera\n",
    "    if lista[mitad] == elemento:\n",
    "        return True\n",
    "    if lista[mitad] > elemento:\n",
    "        return busqueda_binaria(lista[:mitad], elemento)\n",
    "    if lista[mitad] < elemento:\n",
    "        return busqueda_binaria(lista[mitad:], elemento)\n",
    "\n",
    "\n",
    "print(busqueda_binaria([1, 2, 3, 4, 5], 4))\n",
    "print(busqueda_binaria([1, 4, 6, 7, 9, 10], 2))"
   ]
  },
  {
   "cell_type": "code",
   "execution_count": 79,
   "id": "perceived-worse",
   "metadata": {
    "execution": {
     "iopub.execute_input": "2021-02-09T23:58:31.913501Z",
     "iopub.status.busy": "2021-02-09T23:58:31.912039Z",
     "iopub.status.idle": "2021-02-09T23:58:31.915559Z",
     "shell.execute_reply": "2021-02-09T23:58:31.914994Z"
    }
   },
   "outputs": [
    {
     "name": "stdout",
     "output_type": "stream",
     "text": [
      "(3, 3, 3)\n"
     ]
    }
   ],
   "source": [
    "def a(b):\n",
    "    if a == 1:\n",
    "        print(a)\n",
    "    return (b, b, b)\n",
    "\n",
    "\n",
    "print(a(3))"
   ]
  },
  {
   "cell_type": "code",
   "execution_count": 80,
   "id": "artificial-steps",
   "metadata": {
    "execution": {
     "iopub.execute_input": "2021-02-09T23:58:31.924967Z",
     "iopub.status.busy": "2021-02-09T23:58:31.923055Z",
     "iopub.status.idle": "2021-02-09T23:58:31.935945Z",
     "shell.execute_reply": "2021-02-09T23:58:31.935188Z"
    },
    "lines_to_next_cell": 2,
    "slideshow": {
     "slide_type": "slide"
    },
    "tags": [
     "raises-exception"
    ]
   },
   "outputs": [
    {
     "name": "stdout",
     "output_type": "stream",
     "text": [
      "3\n",
      "3.0\n",
      "3.0\n",
      "hola como te va\n",
      "[1, 2, 3, 4, 5]\n"
     ]
    },
    {
     "ename": "TypeError",
     "evalue": "can only concatenate str (not \"int\") to str",
     "output_type": "error",
     "traceback": [
      "\u001b[0;31m---------------------------------------------------------------------------\u001b[0m",
      "\u001b[0;31mTypeError\u001b[0m                                 Traceback (most recent call last)",
      "\u001b[0;32m<ipython-input-1-c2a6a99a90c7>\u001b[0m in \u001b[0;36m<module>\u001b[0;34m\u001b[0m\n\u001b[1;32m      8\u001b[0m \u001b[0mprint\u001b[0m\u001b[0;34m(\u001b[0m\u001b[0msuma\u001b[0m\u001b[0;34m(\u001b[0m\u001b[0;34m\"hola \"\u001b[0m\u001b[0;34m,\u001b[0m \u001b[0;34m\"como te va\"\u001b[0m\u001b[0;34m)\u001b[0m\u001b[0;34m)\u001b[0m\u001b[0;34m\u001b[0m\u001b[0;34m\u001b[0m\u001b[0m\n\u001b[1;32m      9\u001b[0m \u001b[0mprint\u001b[0m\u001b[0;34m(\u001b[0m\u001b[0msuma\u001b[0m\u001b[0;34m(\u001b[0m\u001b[0;34m[\u001b[0m\u001b[0;36m1\u001b[0m\u001b[0;34m,\u001b[0m \u001b[0;36m2\u001b[0m\u001b[0;34m,\u001b[0m \u001b[0;36m3\u001b[0m\u001b[0;34m]\u001b[0m\u001b[0;34m,\u001b[0m \u001b[0;34m[\u001b[0m\u001b[0;36m4\u001b[0m\u001b[0;34m,\u001b[0m \u001b[0;36m5\u001b[0m\u001b[0;34m]\u001b[0m\u001b[0;34m)\u001b[0m\u001b[0;34m)\u001b[0m\u001b[0;34m\u001b[0m\u001b[0;34m\u001b[0m\u001b[0m\n\u001b[0;32m---> 10\u001b[0;31m \u001b[0mprint\u001b[0m\u001b[0;34m(\u001b[0m\u001b[0msuma\u001b[0m\u001b[0;34m(\u001b[0m\u001b[0;34m\"1\"\u001b[0m\u001b[0;34m,\u001b[0m \u001b[0;36m3\u001b[0m\u001b[0;34m)\u001b[0m\u001b[0;34m)\u001b[0m  \u001b[0;31m# Falla\u001b[0m\u001b[0;34m\u001b[0m\u001b[0;34m\u001b[0m\u001b[0m\n\u001b[0m",
      "\u001b[0;32m<ipython-input-1-c2a6a99a90c7>\u001b[0m in \u001b[0;36msuma\u001b[0;34m(a, b)\u001b[0m\n\u001b[1;32m      1\u001b[0m \u001b[0;32mdef\u001b[0m \u001b[0msuma\u001b[0m\u001b[0;34m(\u001b[0m\u001b[0ma\u001b[0m\u001b[0;34m,\u001b[0m \u001b[0mb\u001b[0m\u001b[0;34m)\u001b[0m\u001b[0;34m:\u001b[0m\u001b[0;34m\u001b[0m\u001b[0;34m\u001b[0m\u001b[0m\n\u001b[0;32m----> 2\u001b[0;31m     \u001b[0;32mreturn\u001b[0m \u001b[0ma\u001b[0m \u001b[0;34m+\u001b[0m \u001b[0mb\u001b[0m\u001b[0;34m\u001b[0m\u001b[0;34m\u001b[0m\u001b[0m\n\u001b[0m\u001b[1;32m      3\u001b[0m \u001b[0;34m\u001b[0m\u001b[0m\n\u001b[1;32m      4\u001b[0m \u001b[0;34m\u001b[0m\u001b[0m\n\u001b[1;32m      5\u001b[0m \u001b[0mprint\u001b[0m\u001b[0;34m(\u001b[0m\u001b[0msuma\u001b[0m\u001b[0;34m(\u001b[0m\u001b[0;36m1\u001b[0m\u001b[0;34m,\u001b[0m \u001b[0;36m2\u001b[0m\u001b[0;34m)\u001b[0m\u001b[0;34m)\u001b[0m\u001b[0;34m\u001b[0m\u001b[0;34m\u001b[0m\u001b[0m\n",
      "\u001b[0;31mTypeError\u001b[0m: can only concatenate str (not \"int\") to str"
     ]
    }
   ],
   "source": [
    "def suma(a, b):\n",
    "    return a + b\n",
    "\n",
    "\n",
    "print(suma(1, 2))\n",
    "print(suma(1.0, 2.0))\n",
    "print(suma(1.0, 2))\n",
    "print(suma(\"hola \", \"como te va\"))\n",
    "print(suma([1, 2, 3], [4, 5]))\n",
    "print(suma(\"1\", 3))  # Falla"
   ]
  },
  {
   "cell_type": "code",
   "execution_count": 81,
   "id": "forced-membership",
   "metadata": {
    "execution": {
     "iopub.execute_input": "2021-02-09T23:58:32.039979Z",
     "iopub.status.busy": "2021-02-09T23:58:32.039233Z",
     "iopub.status.idle": "2021-02-09T23:58:32.044188Z",
     "shell.execute_reply": "2021-02-09T23:58:32.044713Z"
    }
   },
   "outputs": [
    {
     "name": "stdout",
     "output_type": "stream",
     "text": [
      "2.0\n"
     ]
    }
   ],
   "source": [
    "# El valor por default de divisor es 1\n",
    "\n",
    "\n",
    "def division(dividendo, divisor=2):\n",
    "    return dividendo / divisor\n",
    "\n",
    "\n",
    "print(division(4))  # Usa el valor por default"
   ]
  },
  {
   "cell_type": "code",
   "execution_count": 82,
   "id": "united-person",
   "metadata": {
    "execution": {
     "iopub.execute_input": "2021-02-09T23:58:32.054899Z",
     "iopub.status.busy": "2021-02-09T23:58:32.054223Z",
     "iopub.status.idle": "2021-02-09T23:58:32.058818Z",
     "shell.execute_reply": "2021-02-09T23:58:32.057404Z"
    },
    "tags": [
     "raises-exception"
    ]
   },
   "outputs": [
    {
     "name": "stdout",
     "output_type": "stream",
     "text": [
      "0.5\n",
      "0.5\n"
     ]
    },
    {
     "ename": "TypeError",
     "evalue": "division() missing 1 required positional argument: 'dividendo'",
     "output_type": "error",
     "traceback": [
      "\u001b[0;31m---------------------------------------------------------------------------\u001b[0m",
      "\u001b[0;31mTypeError\u001b[0m                                 Traceback (most recent call last)",
      "\u001b[0;32m<ipython-input-1-34eff3833138>\u001b[0m in \u001b[0;36m<module>\u001b[0;34m\u001b[0m\n\u001b[1;32m      1\u001b[0m \u001b[0mprint\u001b[0m\u001b[0;34m(\u001b[0m\u001b[0mdivision\u001b[0m\u001b[0;34m(\u001b[0m\u001b[0;36m1\u001b[0m\u001b[0;34m,\u001b[0m \u001b[0;36m2\u001b[0m\u001b[0;34m)\u001b[0m\u001b[0;34m)\u001b[0m  \u001b[0;31m# Parámetros por orden\u001b[0m\u001b[0;34m\u001b[0m\u001b[0;34m\u001b[0m\u001b[0m\n\u001b[1;32m      2\u001b[0m \u001b[0mprint\u001b[0m\u001b[0;34m(\u001b[0m\u001b[0mdivision\u001b[0m\u001b[0;34m(\u001b[0m\u001b[0mdividendo\u001b[0m\u001b[0;34m=\u001b[0m\u001b[0;36m1\u001b[0m\u001b[0;34m,\u001b[0m \u001b[0mdivisor\u001b[0m\u001b[0;34m=\u001b[0m\u001b[0;36m2\u001b[0m\u001b[0;34m)\u001b[0m\u001b[0;34m)\u001b[0m  \u001b[0;31m# Parámetros por nombre\u001b[0m\u001b[0;34m\u001b[0m\u001b[0;34m\u001b[0m\u001b[0m\n\u001b[0;32m----> 3\u001b[0;31m \u001b[0mprint\u001b[0m\u001b[0;34m(\u001b[0m\u001b[0mdivision\u001b[0m\u001b[0;34m(\u001b[0m\u001b[0mdivisor\u001b[0m\u001b[0;34m=\u001b[0m\u001b[0;36m2\u001b[0m\u001b[0;34m)\u001b[0m\u001b[0;34m)\u001b[0m\u001b[0;34m\u001b[0m\u001b[0;34m\u001b[0m\u001b[0m\n\u001b[0m",
      "\u001b[0;31mTypeError\u001b[0m: division() missing 1 required positional argument: 'dividendo'"
     ]
    }
   ],
   "source": [
    "print(division(1, 2))  # Parámetros por orden\n",
    "print(division(dividendo=1, divisor=2))  # Parámetros por nombre\n",
    "print(division(divisor=2))"
   ]
  },
  {
   "cell_type": "code",
   "execution_count": 83,
   "id": "smoking-blame",
   "metadata": {
    "execution": {
     "iopub.execute_input": "2021-02-09T23:58:32.161404Z",
     "iopub.status.busy": "2021-02-09T23:58:32.160719Z",
     "iopub.status.idle": "2021-02-09T23:58:32.162963Z",
     "shell.execute_reply": "2021-02-09T23:58:32.163575Z"
    }
   },
   "outputs": [
    {
     "name": "stdout",
     "output_type": "stream",
     "text": [
      "0.5\n"
     ]
    }
   ],
   "source": [
    "print(division(divisor=2, dividendo=1))"
   ]
  },
  {
   "cell_type": "code",
   "execution_count": 84,
   "id": "attempted-lying",
   "metadata": {
    "execution": {
     "iopub.execute_input": "2021-02-09T23:58:32.169294Z",
     "iopub.status.busy": "2021-02-09T23:58:32.168623Z",
     "iopub.status.idle": "2021-02-09T23:58:32.174355Z",
     "shell.execute_reply": "2021-02-09T23:58:32.173638Z"
    }
   },
   "outputs": [
    {
     "name": "stdout",
     "output_type": "stream",
     "text": [
      "['a', 'b', 'c']\n",
      "[1, 2, 3]\n",
      "['hola', ' don', ' pepito']\n",
      "hola -  don -  pepito\n"
     ]
    }
   ],
   "source": [
    "# Funciones básicas ya en el lenguaje\n",
    "# Hechas para funcionar para distintos tipos\n",
    "\n",
    "string_ordenado = sorted('bca')\n",
    "print(string_ordenado)\n",
    "\n",
    "lista_ordenada = sorted([1, 3, 2])\n",
    "print(lista_ordenada)\n",
    "\n",
    "separadas = \"hola, don, pepito\".split(\",\")\n",
    "print(separadas)\n",
    "unidas = \" - \".join(separadas)\n",
    "print(unidas)"
   ]
  },
  {
   "cell_type": "markdown",
   "id": "communist-viewer",
   "metadata": {},
   "source": [
    "## Módulos\n",
    "\n",
    "Para incluir alguna biblioteca de funciones se usa `import`. Pueden ser cosas ya predefinidas en Python (`math`, `random`, etc), nombres de archivos en nuestro directorio (por ejemplo, para `mimodulo.py` ponemos `import mimodulo`) o bibliotecas instaladas por el usuario"
   ]
  },
  {
   "cell_type": "code",
   "execution_count": 85,
   "id": "mental-worthy",
   "metadata": {
    "execution": {
     "iopub.execute_input": "2021-02-09T23:58:32.180531Z",
     "iopub.status.busy": "2021-02-09T23:58:32.178955Z",
     "iopub.status.idle": "2021-02-09T23:58:32.182787Z",
     "shell.execute_reply": "2021-02-09T23:58:32.182200Z"
    }
   },
   "outputs": [
    {
     "name": "stdout",
     "output_type": "stream",
     "text": [
      "3.141592653589793\n"
     ]
    }
   ],
   "source": [
    "import math\n",
    "\n",
    "print(math.pi)"
   ]
  },
  {
   "cell_type": "code",
   "execution_count": 86,
   "id": "bearing-nirvana",
   "metadata": {
    "execution": {
     "iopub.execute_input": "2021-02-09T23:58:32.188806Z",
     "iopub.status.busy": "2021-02-09T23:58:32.187249Z",
     "iopub.status.idle": "2021-02-09T23:58:32.191176Z",
     "shell.execute_reply": "2021-02-09T23:58:32.190540Z"
    }
   },
   "outputs": [
    {
     "name": "stdout",
     "output_type": "stream",
     "text": [
      "3.141592653589793 2.718281828459045\n"
     ]
    }
   ],
   "source": [
    "from math import pi, e\n",
    "\n",
    "print(pi, e)"
   ]
  },
  {
   "cell_type": "code",
   "execution_count": 87,
   "id": "competent-enterprise",
   "metadata": {
    "execution": {
     "iopub.execute_input": "2021-02-09T23:58:32.197198Z",
     "iopub.status.busy": "2021-02-09T23:58:32.195785Z",
     "iopub.status.idle": "2021-02-09T23:58:32.199100Z",
     "shell.execute_reply": "2021-02-09T23:58:32.199601Z"
    }
   },
   "outputs": [
    {
     "data": {
      "text/plain": [
       "2"
      ]
     },
     "execution_count": 1,
     "metadata": {},
     "output_type": "execute_result"
    }
   ],
   "source": [
    "math.gcd(56, 78)"
   ]
  },
  {
   "cell_type": "markdown",
   "id": "recovered-porcelain",
   "metadata": {},
   "source": [
    "## Manejo de excepciones\n",
    "\n",
    "Se pueden encapsular errores esperados en un bloque 'try/except' para evitar cortar el flujo del programa"
   ]
  },
  {
   "cell_type": "code",
   "execution_count": 88,
   "id": "reflected-profit",
   "metadata": {
    "execution": {
     "iopub.execute_input": "2021-02-09T23:58:32.209719Z",
     "iopub.status.busy": "2021-02-09T23:58:32.203208Z",
     "iopub.status.idle": "2021-02-09T23:58:32.212994Z",
     "shell.execute_reply": "2021-02-09T23:58:32.212235Z"
    },
    "tags": [
     "raises-exception"
    ]
   },
   "outputs": [
    {
     "ename": "ZeroDivisionError",
     "evalue": "division by zero",
     "output_type": "error",
     "traceback": [
      "\u001b[0;31m---------------------------------------------------------------------------\u001b[0m",
      "\u001b[0;31mZeroDivisionError\u001b[0m                         Traceback (most recent call last)",
      "\u001b[0;32m<ipython-input-1-f031f77b1a55>\u001b[0m in \u001b[0;36m<module>\u001b[0;34m\u001b[0m\n\u001b[0;32m----> 1\u001b[0;31m \u001b[0mdivision\u001b[0m\u001b[0;34m(\u001b[0m\u001b[0;36m1\u001b[0m\u001b[0;34m,\u001b[0m \u001b[0;36m0\u001b[0m\u001b[0;34m)\u001b[0m  \u001b[0;31m# No se puede dividir por cero\u001b[0m\u001b[0;34m\u001b[0m\u001b[0;34m\u001b[0m\u001b[0m\n\u001b[0m",
      "\u001b[0;32m<ipython-input-1-0d991d7de762>\u001b[0m in \u001b[0;36mdivision\u001b[0;34m(dividendo, divisor)\u001b[0m\n\u001b[1;32m      3\u001b[0m \u001b[0;34m\u001b[0m\u001b[0m\n\u001b[1;32m      4\u001b[0m \u001b[0;32mdef\u001b[0m \u001b[0mdivision\u001b[0m\u001b[0;34m(\u001b[0m\u001b[0mdividendo\u001b[0m\u001b[0;34m,\u001b[0m \u001b[0mdivisor\u001b[0m\u001b[0;34m=\u001b[0m\u001b[0;36m2\u001b[0m\u001b[0;34m)\u001b[0m\u001b[0;34m:\u001b[0m\u001b[0;34m\u001b[0m\u001b[0;34m\u001b[0m\u001b[0m\n\u001b[0;32m----> 5\u001b[0;31m     \u001b[0;32mreturn\u001b[0m \u001b[0mdividendo\u001b[0m \u001b[0;34m/\u001b[0m \u001b[0mdivisor\u001b[0m\u001b[0;34m\u001b[0m\u001b[0;34m\u001b[0m\u001b[0m\n\u001b[0m\u001b[1;32m      6\u001b[0m \u001b[0;34m\u001b[0m\u001b[0m\n\u001b[1;32m      7\u001b[0m \u001b[0;34m\u001b[0m\u001b[0m\n",
      "\u001b[0;31mZeroDivisionError\u001b[0m: division by zero"
     ]
    }
   ],
   "source": [
    "division(1, 0)  # No se puede dividir por cero"
   ]
  },
  {
   "cell_type": "code",
   "execution_count": 89,
   "id": "exempt-exception",
   "metadata": {
    "execution": {
     "iopub.execute_input": "2021-02-09T23:58:32.317060Z",
     "iopub.status.busy": "2021-02-09T23:58:32.316363Z",
     "iopub.status.idle": "2021-02-09T23:58:32.322212Z",
     "shell.execute_reply": "2021-02-09T23:58:32.321620Z"
    }
   },
   "outputs": [
    {
     "name": "stdout",
     "output_type": "stream",
     "text": [
      "No se puede dividir por cero, ojo! division by zero\n",
      "1\n"
     ]
    }
   ],
   "source": [
    "try:\n",
    "    division(1, 0)\n",
    "except (ZeroDivisionError, TypeError) as e:\n",
    "    print('No se puede dividir por cero, ojo!', e)\n",
    "finally:\n",
    "    print(1)"
   ]
  },
  {
   "cell_type": "markdown",
   "id": "accredited-delicious",
   "metadata": {
    "slideshow": {
     "slide_type": "slide"
    }
   },
   "source": [
    "## Lectura y escritura de archivos"
   ]
  },
  {
   "cell_type": "code",
   "execution_count": 90,
   "id": "alpha-spray",
   "metadata": {
    "execution": {
     "iopub.execute_input": "2021-02-09T23:58:32.327340Z",
     "iopub.status.busy": "2021-02-09T23:58:32.326648Z",
     "iopub.status.idle": "2021-02-09T23:58:32.332226Z",
     "shell.execute_reply": "2021-02-09T23:58:32.331529Z"
    },
    "slideshow": {
     "slide_type": "slide"
    }
   },
   "outputs": [
    {
     "name": "stdout",
     "output_type": "stream",
     "text": [
      "<_io.TextIOWrapper name='archivo.csv' mode='w' encoding='UTF-8'>\n"
     ]
    }
   ],
   "source": [
    "import random\n",
    "\n",
    "with open(\n",
    "    'archivo.csv', 'w'\n",
    ") as archivo:  # Al usar esta sintaxis no es necesario hacer close\n",
    "    archivo.write(\"Alumno, nota\\n\")\n",
    "    # Tambien de forma similar al fprintf se puede hacer:\n",
    "    # print(\"Alumno, nota\\n\", file=archivo)\n",
    "    for i in range(0, 10):\n",
    "        archivo.write(f\"{i},{random.randrange(0,10)}\\n\")\n",
    "\n",
    "print(archivo)  # Comentario aclaratorio:\n",
    "# Las variables definidas en un determinado scope siguen existiendo por fuera del mismo.\n",
    "# Se debe tener cuidado con esto, ya que nada garantiza que por fuera el valor sea el esperado."
   ]
  },
  {
   "cell_type": "code",
   "execution_count": 91,
   "id": "injured-combination",
   "metadata": {
    "execution": {
     "iopub.execute_input": "2021-02-09T23:58:32.339205Z",
     "iopub.status.busy": "2021-02-09T23:58:32.338060Z",
     "iopub.status.idle": "2021-02-09T23:58:32.341111Z",
     "shell.execute_reply": "2021-02-09T23:58:32.341644Z"
    },
    "slideshow": {
     "slide_type": "slide"
    }
   },
   "outputs": [
    {
     "name": "stdout",
     "output_type": "stream",
     "text": [
      "Alumno, nota\n",
      "0,3\n",
      "1,6\n",
      "2,6\n",
      "3,1\n",
      "4,4\n",
      "5,9\n",
      "6,3\n",
      "7,0\n",
      "8,1\n",
      "9,0\n"
     ]
    }
   ],
   "source": [
    "with open('archivo.csv', 'r') as f:\n",
    "    for linea in f:\n",
    "        print(linea.strip())"
   ]
  },
  {
   "cell_type": "code",
   "execution_count": 92,
   "id": "after-meter",
   "metadata": {
    "execution": {
     "iopub.execute_input": "2021-02-09T23:58:32.347814Z",
     "iopub.status.busy": "2021-02-09T23:58:32.346322Z",
     "iopub.status.idle": "2021-02-09T23:58:32.349982Z",
     "shell.execute_reply": "2021-02-09T23:58:32.349378Z"
    }
   },
   "outputs": [
    {
     "name": "stdout",
     "output_type": "stream",
     "text": [
      "Alumno, nota\n",
      "0,3\n",
      "1,6\n",
      "2,6\n",
      "3,1\n",
      "4,4\n",
      "5,9\n",
      "6,3\n",
      "7,0\n",
      "8,1\n",
      "9,0\n",
      "\n"
     ]
    }
   ],
   "source": [
    "with open('archivo.csv', 'r') as f:\n",
    "    print(f.read())"
   ]
  },
  {
   "cell_type": "code",
   "execution_count": 93,
   "id": "operating-assignment",
   "metadata": {
    "execution": {
     "iopub.execute_input": "2021-02-09T23:58:32.354672Z",
     "iopub.status.busy": "2021-02-09T23:58:32.353758Z",
     "iopub.status.idle": "2021-02-09T23:58:32.356734Z",
     "shell.execute_reply": "2021-02-09T23:58:32.356075Z"
    }
   },
   "outputs": [],
   "source": [
    "f = open('archivo.csv', 'w')\n",
    "f.write(\"algo, algo\")\n",
    "f.close()"
   ]
  },
  {
   "cell_type": "markdown",
   "id": "critical-tuning",
   "metadata": {
    "slideshow": {
     "slide_type": "slide"
    }
   },
   "source": [
    "## Objetos\n",
    "\n",
    "Los objetos tienen metodos y atributos:\n",
    "- Atributos: equivalentes a variables.\n",
    "- Métodos: equivalentes a las primitivas."
   ]
  },
  {
   "cell_type": "markdown",
   "id": "reduced-repair",
   "metadata": {
    "slideshow": {
     "slide_type": "slide"
    }
   },
   "source": [
    "### Cómo creo una clase"
   ]
  },
  {
   "cell_type": "code",
   "execution_count": 94,
   "id": "right-ecuador",
   "metadata": {
    "execution": {
     "iopub.execute_input": "2021-02-09T23:58:32.366417Z",
     "iopub.status.busy": "2021-02-09T23:58:32.365245Z",
     "iopub.status.idle": "2021-02-09T23:58:32.367294Z",
     "shell.execute_reply": "2021-02-09T23:58:32.367945Z"
    },
    "slideshow": {
     "slide_type": "slide"
    }
   },
   "outputs": [],
   "source": [
    "class Nodo(object):\n",
    "    def __init__(self, dato, siguiente=None):\n",
    "        self._dato = dato\n",
    "        self._siguiente = siguiente\n",
    "\n",
    "    @property\n",
    "    def dato(self):\n",
    "        return self._dato\n",
    "\n",
    "    @property\n",
    "    def proximo(self):\n",
    "        return self._siguiente\n",
    "\n",
    "    @proximo.setter\n",
    "    def proximo(self, siguiente):\n",
    "        self._siguiente = siguiente\n",
    "\n",
    "    def __repr__(self):\n",
    "        return str(self.dato)\n",
    "\n",
    "    def __str__(self):\n",
    "        return str(self.dato)"
   ]
  },
  {
   "cell_type": "code",
   "execution_count": 95,
   "id": "generous-college",
   "metadata": {
    "execution": {
     "iopub.execute_input": "2021-02-09T23:58:32.373561Z",
     "iopub.status.busy": "2021-02-09T23:58:32.372205Z",
     "iopub.status.idle": "2021-02-09T23:58:32.375785Z",
     "shell.execute_reply": "2021-02-09T23:58:32.375209Z"
    },
    "slideshow": {
     "slide_type": "slide"
    }
   },
   "outputs": [
    {
     "name": "stdout",
     "output_type": "stream",
     "text": [
      "hola\n"
     ]
    }
   ],
   "source": [
    "nodo = Nodo(\"hola\")\n",
    "print(nodo)"
   ]
  },
  {
   "cell_type": "code",
   "execution_count": 96,
   "id": "stainless-exchange",
   "metadata": {
    "execution": {
     "iopub.execute_input": "2021-02-09T23:58:32.381632Z",
     "iopub.status.busy": "2021-02-09T23:58:32.380148Z",
     "iopub.status.idle": "2021-02-09T23:58:32.383737Z",
     "shell.execute_reply": "2021-02-09T23:58:32.383166Z"
    },
    "slideshow": {
     "slide_type": "slide"
    }
   },
   "outputs": [
    {
     "name": "stdout",
     "output_type": "stream",
     "text": [
      "[hola, lala]\n"
     ]
    }
   ],
   "source": [
    "nodo2 = Nodo(\"lala\")\n",
    "print([nodo, nodo2])"
   ]
  },
  {
   "cell_type": "code",
   "execution_count": 97,
   "id": "complex-arthritis",
   "metadata": {
    "execution": {
     "iopub.execute_input": "2021-02-09T23:58:32.388968Z",
     "iopub.status.busy": "2021-02-09T23:58:32.387786Z",
     "iopub.status.idle": "2021-02-09T23:58:32.390856Z",
     "shell.execute_reply": "2021-02-09T23:58:32.391388Z"
    },
    "slideshow": {
     "slide_type": "slide"
    }
   },
   "outputs": [
    {
     "name": "stdout",
     "output_type": "stream",
     "text": [
      "hola\n"
     ]
    }
   ],
   "source": [
    "nodo3 = nodo.dato\n",
    "print(nodo3)"
   ]
  },
  {
   "cell_type": "markdown",
   "id": "complimentary-interstate",
   "metadata": {
    "slideshow": {
     "slide_type": "slide"
    }
   },
   "source": [
    "### Ejemplo: Lista Enlazada"
   ]
  },
  {
   "cell_type": "code",
   "execution_count": 98,
   "id": "invalid-monster",
   "metadata": {
    "execution": {
     "iopub.execute_input": "2021-02-09T23:58:32.402398Z",
     "iopub.status.busy": "2021-02-09T23:58:32.400931Z",
     "iopub.status.idle": "2021-02-09T23:58:32.403116Z",
     "shell.execute_reply": "2021-02-09T23:58:32.403646Z"
    },
    "slideshow": {
     "slide_type": "slide"
    }
   },
   "outputs": [],
   "source": [
    "class ListaEnlazada(object):\n",
    "    def __init__(self):\n",
    "        self._primero = None\n",
    "        self._ultimo = None\n",
    "        self._largo = 0\n",
    "\n",
    "    def __len__(self):\n",
    "        return self._largo\n",
    "\n",
    "    def insertar_al_principio(self, dato):\n",
    "        nodo = Nodo(dato, self._primero)\n",
    "        self._primero = nodo\n",
    "        self._largo += 1\n",
    "        if self._largo == 1:\n",
    "            self._ultimo = nodo\n",
    "\n",
    "    def insertar_al_final(self, dato):\n",
    "        if self._largo != 0:\n",
    "            nodo = Nodo(dato)\n",
    "            nodo_anterior = self._ultimo\n",
    "            nodo_anterior._siguiente = nodo\n",
    "            self._ultimo = nodo\n",
    "            self._largo += 1\n",
    "        else:\n",
    "            self.insertar_al_principio(dato)\n",
    "\n",
    "    @property\n",
    "    def primero(self):\n",
    "        return self._primero.dato\n",
    "\n",
    "    def borrar_primero(self):\n",
    "        dato = self.primero.dato\n",
    "        self._primero = self.primero.siguiente\n",
    "        self._largo -= 1\n",
    "        if self._largo == 0:\n",
    "            self._ultimo = None\n",
    "        return dato\n",
    "\n",
    "    def __str__(self):\n",
    "        datos = []\n",
    "        nodo_actual = self._primero\n",
    "        while nodo_actual:\n",
    "            datos.append(nodo_actual.dato)\n",
    "            nodo_actual = nodo_actual.proximo\n",
    "        return \" -> \".join(datos)\n",
    "\n",
    "    def __repr__(self):\n",
    "        return self.__str__()"
   ]
  },
  {
   "cell_type": "code",
   "execution_count": 99,
   "id": "thorough-killer",
   "metadata": {
    "execution": {
     "iopub.execute_input": "2021-02-09T23:58:32.410202Z",
     "iopub.status.busy": "2021-02-09T23:58:32.408537Z",
     "iopub.status.idle": "2021-02-09T23:58:32.412469Z",
     "shell.execute_reply": "2021-02-09T23:58:32.411864Z"
    },
    "slideshow": {
     "slide_type": "slide"
    }
   },
   "outputs": [
    {
     "data": {
      "text/plain": [
       "2"
      ]
     },
     "execution_count": 1,
     "metadata": {},
     "output_type": "execute_result"
    }
   ],
   "source": [
    "lista = ListaEnlazada()\n",
    "lista.insertar_al_principio(\"Primer Dato\")\n",
    "lista.insertar_al_principio(\"Primer primer Dato\")\n",
    "len(lista)"
   ]
  },
  {
   "cell_type": "code",
   "execution_count": 100,
   "id": "previous-adolescent",
   "metadata": {
    "execution": {
     "iopub.execute_input": "2021-02-09T23:58:32.418908Z",
     "iopub.status.busy": "2021-02-09T23:58:32.416683Z",
     "iopub.status.idle": "2021-02-09T23:58:32.421058Z",
     "shell.execute_reply": "2021-02-09T23:58:32.419515Z"
    }
   },
   "outputs": [
    {
     "data": {
      "text/plain": [
       "Primer primer Dato -> Primer Dato"
      ]
     },
     "execution_count": 1,
     "metadata": {},
     "output_type": "execute_result"
    }
   ],
   "source": [
    "lista"
   ]
  },
  {
   "cell_type": "code",
   "execution_count": 101,
   "id": "composed-geography",
   "metadata": {
    "execution": {
     "iopub.execute_input": "2021-02-09T23:58:32.426965Z",
     "iopub.status.busy": "2021-02-09T23:58:32.425498Z",
     "iopub.status.idle": "2021-02-09T23:58:32.429249Z",
     "shell.execute_reply": "2021-02-09T23:58:32.428679Z"
    },
    "slideshow": {
     "slide_type": "slide"
    }
   },
   "outputs": [
    {
     "name": "stdout",
     "output_type": "stream",
     "text": [
      "Primer primer Dato\n"
     ]
    }
   ],
   "source": [
    "elemento = lista.primero\n",
    "print(elemento)"
   ]
  },
  {
   "cell_type": "markdown",
   "id": "packed-piano",
   "metadata": {},
   "source": [
    "## Recursos\n",
    "\n",
    "* [Taller de Python de Algoritmos II](https://github.com/algoritmos-rw/algo2_apuntes)\n",
    "\n",
    "* [Documentación de Python 3](https://docs.python.org/3/tutorial/)\n",
    "\n",
    "* [Apunte de Algoritmos y Programación I](https://algoritmos1rw.ddns.net/material)\n",
    "\n",
    "* [Automate the Boring Stuff with Python](http://automatetheboringstuff.com/)\n",
    "\n",
    "* [Curso Python](https://pythoncurso.github.io)\n",
    "\n",
    "* [Python Tutor](http://pythontutor.com/)\n",
    "\n",
    "* [Learn Python3 in Y minutes](https://learnxinyminutes.com/docs/python3/)\n",
    "\n",
    "* [Bibliografía de Algoritmos y Programación I](https://algoritmos1rw.ddns.net/bibliografia)"
   ]
  }
 ],
 "metadata": {
  "jupytext": {
   "encoding": "# -*- coding: utf-8 -*-",
   "formats": "ipynb,py:light"
  },
  "kernelspec": {
   "display_name": "Python 3 (venv)",
   "language": "python",
   "name": "python3"
  },
  "language_info": {
   "codemirror_mode": {
    "name": "ipython",
    "version": 3
   },
   "file_extension": ".py",
   "mimetype": "text/x-python",
   "name": "python",
   "nbconvert_exporter": "python",
   "pygments_lexer": "ipython3",
   "version": "3.7.9"
  }
 },
 "nbformat": 4,
 "nbformat_minor": 5
}
