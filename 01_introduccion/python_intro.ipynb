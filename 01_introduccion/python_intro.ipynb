{
 "cells": [
  {
   "cell_type": "markdown",
   "id": "89700525",
   "metadata": {},
   "source": [
    "# Python"
   ]
  },
  {
   "cell_type": "markdown",
   "id": "1ec4b6f3",
   "metadata": {
    "slideshow": {
     "slide_type": "slide"
    }
   },
   "source": [
    "## Un poco de Historia"
   ]
  },
  {
   "cell_type": "markdown",
   "id": "d4371a87",
   "metadata": {
    "slideshow": {
     "slide_type": "subslide"
    }
   },
   "source": [
    "Python fue creado a finales de los años 80 por un programador holandés llamado **Guido van Rossum**,\n",
    "quien sigue siendo aún hoy el líder del desarrollo del lenguaje.\n",
    "\n",
    "(Edit julio 2018: [ya no más](https://www.mail-archive.com/python-committers@python.org/msg05628.html))"
   ]
  },
  {
   "cell_type": "markdown",
   "id": "0d6eb98c",
   "metadata": {
    "slideshow": {
     "slide_type": "subslide"
    }
   },
   "source": [
    "El nombre del lenguaje proviene de los humoristas británicos Monty Python.\n",
    "\n",
    ">*\"I chose Python as a working title for the project, being in a slightly irreverent mood (and a big fan of Monty Python's Flying Circus).\"*"
   ]
  },
  {
   "cell_type": "markdown",
   "id": "02458985",
   "metadata": {
    "slideshow": {
     "slide_type": "slide"
    }
   },
   "source": [
    "## Caracteristicas\n",
    "\n",
    "- Interpretado\n",
    "- Tipado dinamico\n",
    "- Multiparadigma\n",
    "- Alto nivel\n",
    "- Tiene un recolector de basura (no hay malloc, free, realloc, etc)"
   ]
  },
  {
   "cell_type": "markdown",
   "id": "ecd75a56",
   "metadata": {},
   "source": [
    "## ¿Cómo empezar?\n",
    "\n",
    "* Al ser un lenguaje *interpretado*, se puede ir escribiendo a medida que se ejecuta, sin necesidad de compilar de antemano! Solamente hace falta escribir `python` o `python3` en una terminal para empezar\n",
    "\n",
    "* También, permite escribir archivos y correrlos. Crear un archivo con extensión `.py` y luego correr `python miarchivo.py` en laterminal"
   ]
  },
  {
   "cell_type": "markdown",
   "id": "45f37d4b",
   "metadata": {
    "slideshow": {
     "slide_type": "slide"
    }
   },
   "source": [
    "## El Zen de Python"
   ]
  },
  {
   "cell_type": "code",
   "execution_count": 1,
   "id": "4e33d628",
   "metadata": {
    "execution": {
     "iopub.execute_input": "2021-05-19T17:26:53.056247Z",
     "iopub.status.busy": "2021-05-19T17:26:53.055319Z",
     "iopub.status.idle": "2021-05-19T17:26:53.122920Z",
     "shell.execute_reply": "2021-05-19T17:26:53.123340Z"
    },
    "slideshow": {
     "slide_type": "slide"
    }
   },
   "outputs": [
    {
     "name": "stdout",
     "output_type": "stream",
     "text": [
      "The Zen of Python, by Tim Peters\n",
      "\n",
      "Beautiful is better than ugly.\n",
      "Explicit is better than implicit.\n",
      "Simple is better than complex.\n",
      "Complex is better than complicated.\n",
      "Flat is better than nested.\n",
      "Sparse is better than dense.\n",
      "Readability counts.\n",
      "Special cases aren't special enough to break the rules.\n",
      "Although practicality beats purity.\n",
      "Errors should never pass silently.\n",
      "Unless explicitly silenced.\n",
      "In the face of ambiguity, refuse the temptation to guess.\n",
      "There should be one-- and preferably only one --obvious way to do it.\n",
      "Although that way may not be obvious at first unless you're Dutch.\n",
      "Now is better than never.\n",
      "Although never is often better than *right* now.\n",
      "If the implementation is hard to explain, it's a bad idea.\n",
      "If the implementation is easy to explain, it may be a good idea.\n",
      "Namespaces are one honking great idea -- let's do more of those!\n"
     ]
    }
   ],
   "source": [
    "import this"
   ]
  },
  {
   "cell_type": "markdown",
   "id": "2fe6e1ce",
   "metadata": {
    "slideshow": {
     "slide_type": "slide"
    }
   },
   "source": [
    "## Conocimientos Básicos de Python: Variables y Tipos"
   ]
  },
  {
   "cell_type": "code",
   "execution_count": 2,
   "id": "0d9f61ba",
   "metadata": {
    "execution": {
     "iopub.execute_input": "2021-05-19T17:26:53.127643Z",
     "iopub.status.busy": "2021-05-19T17:26:53.127119Z",
     "iopub.status.idle": "2021-05-19T17:26:53.130989Z",
     "shell.execute_reply": "2021-05-19T17:26:53.131387Z"
    },
    "slideshow": {
     "slide_type": "slide"
    }
   },
   "outputs": [
    {
     "name": "stdout",
     "output_type": "stream",
     "text": [
      "Hello World!\n"
     ]
    }
   ],
   "source": [
    "# Este es un comentario\n",
    "\n",
    "print(\"Hello World!\")"
   ]
  },
  {
   "cell_type": "markdown",
   "id": "51ef609c",
   "metadata": {},
   "source": [
    "Los strings en python puden escribirse tanto con comillas simples (`'`) como comillas dobles (`\"`). Normalmente vemos texto entre comillas triples para escribir _docstrings_, segun la guia de estilo de Python, el PEP8."
   ]
  },
  {
   "cell_type": "code",
   "execution_count": 3,
   "id": "2084760e",
   "metadata": {
    "execution": {
     "iopub.execute_input": "2021-05-19T17:26:53.141296Z",
     "iopub.status.busy": "2021-05-19T17:26:53.140774Z",
     "iopub.status.idle": "2021-05-19T17:26:53.146036Z",
     "shell.execute_reply": "2021-05-19T17:26:53.145542Z"
    }
   },
   "outputs": [
    {
     "data": {
      "text/plain": [
       "'Esto es un docstring.\\n'"
      ]
     },
     "execution_count": 1,
     "metadata": {},
     "output_type": "execute_result"
    }
   ],
   "source": [
    "\"\"\"Esto es un docstring.\n",
    "\"\"\""
   ]
  },
  {
   "cell_type": "markdown",
   "id": "cb40a3e4",
   "metadata": {},
   "source": [
    "### Declaracion de variables"
   ]
  },
  {
   "cell_type": "code",
   "execution_count": 4,
   "id": "b7b39131",
   "metadata": {
    "execution": {
     "iopub.execute_input": "2021-05-19T17:26:53.150966Z",
     "iopub.status.busy": "2021-05-19T17:26:53.149671Z",
     "iopub.status.idle": "2021-05-19T17:26:53.152672Z",
     "shell.execute_reply": "2021-05-19T17:26:53.152220Z"
    }
   },
   "outputs": [
    {
     "name": "stdout",
     "output_type": "stream",
     "text": [
      "Hola\n"
     ]
    }
   ],
   "source": [
    "string = 'Hola'\n",
    "print(string)"
   ]
  },
  {
   "cell_type": "code",
   "execution_count": 5,
   "id": "2bbcb655",
   "metadata": {
    "execution": {
     "iopub.execute_input": "2021-05-19T17:26:53.157497Z",
     "iopub.status.busy": "2021-05-19T17:26:53.156305Z",
     "iopub.status.idle": "2021-05-19T17:26:53.159207Z",
     "shell.execute_reply": "2021-05-19T17:26:53.158758Z"
    }
   },
   "outputs": [
    {
     "name": "stdout",
     "output_type": "stream",
     "text": [
      "1\n"
     ]
    }
   ],
   "source": [
    "entero = 1\n",
    "print(entero)"
   ]
  },
  {
   "cell_type": "code",
   "execution_count": 6,
   "id": "80c43146",
   "metadata": {
    "execution": {
     "iopub.execute_input": "2021-05-19T17:26:53.164042Z",
     "iopub.status.busy": "2021-05-19T17:26:53.162895Z",
     "iopub.status.idle": "2021-05-19T17:26:53.165670Z",
     "shell.execute_reply": "2021-05-19T17:26:53.165252Z"
    }
   },
   "outputs": [
    {
     "name": "stdout",
     "output_type": "stream",
     "text": [
      "1.0\n"
     ]
    }
   ],
   "source": [
    "flotante = 1.0\n",
    "print(flotante)"
   ]
  },
  {
   "cell_type": "code",
   "execution_count": 7,
   "id": "7895e7a0",
   "metadata": {
    "execution": {
     "iopub.execute_input": "2021-05-19T17:26:53.170529Z",
     "iopub.status.busy": "2021-05-19T17:26:53.169367Z",
     "iopub.status.idle": "2021-05-19T17:26:53.172447Z",
     "shell.execute_reply": "2021-05-19T17:26:53.172029Z"
    }
   },
   "outputs": [
    {
     "name": "stdout",
     "output_type": "stream",
     "text": [
      "(1, 1.0)\n"
     ]
    }
   ],
   "source": [
    "tupla = (entero, flotante)\n",
    "print(tupla)"
   ]
  },
  {
   "cell_type": "code",
   "execution_count": 8,
   "id": "dd4c7adc",
   "metadata": {
    "execution": {
     "iopub.execute_input": "2021-05-19T17:26:53.177389Z",
     "iopub.status.busy": "2021-05-19T17:26:53.176168Z",
     "iopub.status.idle": "2021-05-19T17:26:53.179164Z",
     "shell.execute_reply": "2021-05-19T17:26:53.178717Z"
    }
   },
   "outputs": [
    {
     "name": "stdout",
     "output_type": "stream",
     "text": [
      "(1, 1.0, 'Hola')\n"
     ]
    }
   ],
   "source": [
    "nupla = (entero, flotante, string)\n",
    "print(nupla)"
   ]
  },
  {
   "cell_type": "code",
   "execution_count": 9,
   "id": "748a1e91",
   "metadata": {
    "execution": {
     "iopub.execute_input": "2021-05-19T17:26:53.184157Z",
     "iopub.status.busy": "2021-05-19T17:26:53.182899Z",
     "iopub.status.idle": "2021-05-19T17:26:53.185872Z",
     "shell.execute_reply": "2021-05-19T17:26:53.185425Z"
    }
   },
   "outputs": [
    {
     "name": "stdout",
     "output_type": "stream",
     "text": [
      "[1, 1.0, 'Hola']\n"
     ]
    }
   ],
   "source": [
    "lista = [entero, flotante, string]\n",
    "print(lista)"
   ]
  },
  {
   "cell_type": "code",
   "execution_count": 10,
   "id": "0ca73cfd",
   "metadata": {
    "execution": {
     "iopub.execute_input": "2021-05-19T17:26:53.190729Z",
     "iopub.status.busy": "2021-05-19T17:26:53.189578Z",
     "iopub.status.idle": "2021-05-19T17:26:53.192513Z",
     "shell.execute_reply": "2021-05-19T17:26:53.192038Z"
    }
   },
   "outputs": [
    {
     "name": "stdout",
     "output_type": "stream",
     "text": [
      "{'1': (1, 1.0), 50: (1, 1.0, 'Hola'), '3': 1}\n"
     ]
    }
   ],
   "source": [
    "diccionario = {'1': tupla, 50: nupla, '3': entero}\n",
    "print(diccionario)"
   ]
  },
  {
   "cell_type": "code",
   "execution_count": 11,
   "id": "477254d9",
   "metadata": {
    "execution": {
     "iopub.execute_input": "2021-05-19T17:26:53.197319Z",
     "iopub.status.busy": "2021-05-19T17:26:53.196123Z",
     "iopub.status.idle": "2021-05-19T17:26:53.199090Z",
     "shell.execute_reply": "2021-05-19T17:26:53.198645Z"
    }
   },
   "outputs": [
    {
     "name": "stdout",
     "output_type": "stream",
     "text": [
      "{1, 2}\n"
     ]
    }
   ],
   "source": [
    "conjunto = set([1, 2])\n",
    "print(conjunto)"
   ]
  },
  {
   "cell_type": "code",
   "execution_count": 12,
   "id": "9d84fb71",
   "metadata": {
    "execution": {
     "iopub.execute_input": "2021-05-19T17:26:53.203481Z",
     "iopub.status.busy": "2021-05-19T17:26:53.202676Z",
     "iopub.status.idle": "2021-05-19T17:26:53.204777Z",
     "shell.execute_reply": "2021-05-19T17:26:53.205186Z"
    }
   },
   "outputs": [
    {
     "name": "stdout",
     "output_type": "stream",
     "text": [
      "True\n"
     ]
    }
   ],
   "source": [
    "booleano = True\n",
    "print(booleano)"
   ]
  },
  {
   "cell_type": "code",
   "execution_count": 13,
   "id": "17e1e7cb",
   "metadata": {
    "execution": {
     "iopub.execute_input": "2021-05-19T17:26:53.208909Z",
     "iopub.status.busy": "2021-05-19T17:26:53.208364Z",
     "iopub.status.idle": "2021-05-19T17:26:53.210207Z",
     "shell.execute_reply": "2021-05-19T17:26:53.210688Z"
    }
   },
   "outputs": [
    {
     "name": "stdout",
     "output_type": "stream",
     "text": [
      "None\n"
     ]
    }
   ],
   "source": [
    "nada = None\n",
    "print(nada)"
   ]
  },
  {
   "cell_type": "markdown",
   "id": "7fbf6128",
   "metadata": {},
   "source": [
    "Ojo que las variables pueden cambiar de tipo!"
   ]
  },
  {
   "cell_type": "code",
   "execution_count": 14,
   "id": "392f9345",
   "metadata": {
    "execution": {
     "iopub.execute_input": "2021-05-19T17:26:53.214720Z",
     "iopub.status.busy": "2021-05-19T17:26:53.214168Z",
     "iopub.status.idle": "2021-05-19T17:26:53.216059Z",
     "shell.execute_reply": "2021-05-19T17:26:53.216592Z"
    }
   },
   "outputs": [
    {
     "name": "stdout",
     "output_type": "stream",
     "text": [
      "1\n",
      "<class 'int'>\n"
     ]
    }
   ],
   "source": [
    "elemento = 1\n",
    "print(elemento)\n",
    "print(type(elemento))"
   ]
  },
  {
   "cell_type": "code",
   "execution_count": 15,
   "id": "74570d83",
   "metadata": {
    "execution": {
     "iopub.execute_input": "2021-05-19T17:26:53.220936Z",
     "iopub.status.busy": "2021-05-19T17:26:53.220356Z",
     "iopub.status.idle": "2021-05-19T17:26:53.222259Z",
     "shell.execute_reply": "2021-05-19T17:26:53.222720Z"
    }
   },
   "outputs": [
    {
     "name": "stdout",
     "output_type": "stream",
     "text": [
      "1\n",
      "<class 'str'>\n"
     ]
    }
   ],
   "source": [
    "elemento = str(1)\n",
    "print(elemento)\n",
    "print(type(elemento))"
   ]
  },
  {
   "cell_type": "code",
   "execution_count": 16,
   "id": "a006c515",
   "metadata": {
    "execution": {
     "iopub.execute_input": "2021-05-19T17:26:53.226816Z",
     "iopub.status.busy": "2021-05-19T17:26:53.226253Z",
     "iopub.status.idle": "2021-05-19T17:26:53.228088Z",
     "shell.execute_reply": "2021-05-19T17:26:53.228621Z"
    }
   },
   "outputs": [
    {
     "name": "stdout",
     "output_type": "stream",
     "text": [
      "[2]\n",
      "<class 'list'>\n"
     ]
    }
   ],
   "source": [
    "elemento = [2]\n",
    "\n",
    "print(elemento)\n",
    "print(type(elemento))"
   ]
  },
  {
   "cell_type": "markdown",
   "id": "6997ac8a",
   "metadata": {},
   "source": [
    "### Tipos basicos"
   ]
  },
  {
   "cell_type": "markdown",
   "id": "feb71e5b",
   "metadata": {
    "slideshow": {
     "slide_type": "slide"
    }
   },
   "source": [
    "#### Listas de Python"
   ]
  },
  {
   "cell_type": "code",
   "execution_count": 17,
   "id": "e60fffe9",
   "metadata": {
    "execution": {
     "iopub.execute_input": "2021-05-19T17:26:53.232472Z",
     "iopub.status.busy": "2021-05-19T17:26:53.231969Z",
     "iopub.status.idle": "2021-05-19T17:26:53.234731Z",
     "shell.execute_reply": "2021-05-19T17:26:53.234269Z"
    }
   },
   "outputs": [
    {
     "data": {
      "text/plain": [
       "[]"
      ]
     },
     "execution_count": 1,
     "metadata": {},
     "output_type": "execute_result"
    }
   ],
   "source": [
    "lista = list()\n",
    "lista"
   ]
  },
  {
   "cell_type": "code",
   "execution_count": 18,
   "id": "1d0d7b9b",
   "metadata": {
    "execution": {
     "iopub.execute_input": "2021-05-19T17:26:53.238248Z",
     "iopub.status.busy": "2021-05-19T17:26:53.237680Z",
     "iopub.status.idle": "2021-05-19T17:26:53.240037Z",
     "shell.execute_reply": "2021-05-19T17:26:53.240481Z"
    },
    "slideshow": {
     "slide_type": "slide"
    }
   },
   "outputs": [
    {
     "data": {
      "text/plain": [
       "[]"
      ]
     },
     "execution_count": 1,
     "metadata": {},
     "output_type": "execute_result"
    }
   ],
   "source": [
    "lista = []\n",
    "lista"
   ]
  },
  {
   "cell_type": "code",
   "execution_count": 19,
   "id": "a6f43897",
   "metadata": {
    "execution": {
     "iopub.execute_input": "2021-05-19T17:26:53.244623Z",
     "iopub.status.busy": "2021-05-19T17:26:53.244078Z",
     "iopub.status.idle": "2021-05-19T17:26:53.245908Z",
     "shell.execute_reply": "2021-05-19T17:26:53.246346Z"
    },
    "slideshow": {
     "slide_type": "slide"
    }
   },
   "outputs": [
    {
     "data": {
      "text/plain": [
       "[1, 2, 3, 4]"
      ]
     },
     "execution_count": 1,
     "metadata": {},
     "output_type": "execute_result"
    }
   ],
   "source": [
    "lista = [1, 2, 3, 4]\n",
    "lista"
   ]
  },
  {
   "cell_type": "code",
   "execution_count": 20,
   "id": "3e27b311",
   "metadata": {
    "execution": {
     "iopub.execute_input": "2021-05-19T17:26:53.250518Z",
     "iopub.status.busy": "2021-05-19T17:26:53.249942Z",
     "iopub.status.idle": "2021-05-19T17:26:53.252255Z",
     "shell.execute_reply": "2021-05-19T17:26:53.252704Z"
    },
    "slideshow": {
     "slide_type": "slide"
    }
   },
   "outputs": [
    {
     "data": {
      "text/plain": [
       "[1, 2, 3, 4, 1, 'dos', 3.0]"
      ]
     },
     "execution_count": 1,
     "metadata": {},
     "output_type": "execute_result"
    }
   ],
   "source": [
    "lista.append(1)  # Inserto un 1 al final\n",
    "lista.append(\"dos\")  # Inserto un \"dos\" al final\n",
    "lista.append(3.0)  # Inserto un 3.0 al final\n",
    "lista"
   ]
  },
  {
   "cell_type": "code",
   "execution_count": 21,
   "id": "e3686fcd",
   "metadata": {
    "execution": {
     "iopub.execute_input": "2021-05-19T17:26:53.256272Z",
     "iopub.status.busy": "2021-05-19T17:26:53.255759Z",
     "iopub.status.idle": "2021-05-19T17:26:53.257527Z",
     "shell.execute_reply": "2021-05-19T17:26:53.258080Z"
    }
   },
   "outputs": [
    {
     "name": "stdout",
     "output_type": "stream",
     "text": [
      "[1, 2, 10, 3, 4, 1, 'dos', 3.0]\n"
     ]
    }
   ],
   "source": [
    "lista.insert(2, 10)  # Inserto en posicion 2 un 10\n",
    "print(lista)"
   ]
  },
  {
   "cell_type": "code",
   "execution_count": 22,
   "id": "0b60164b",
   "metadata": {
    "execution": {
     "iopub.execute_input": "2021-05-19T17:26:53.261703Z",
     "iopub.status.busy": "2021-05-19T17:26:53.261150Z",
     "iopub.status.idle": "2021-05-19T17:26:53.263958Z",
     "shell.execute_reply": "2021-05-19T17:26:53.263513Z"
    }
   },
   "outputs": [
    {
     "data": {
      "text/plain": [
       "8"
      ]
     },
     "execution_count": 1,
     "metadata": {},
     "output_type": "execute_result"
    }
   ],
   "source": [
    "len(lista)"
   ]
  },
  {
   "cell_type": "code",
   "execution_count": 23,
   "id": "4ac68bcb",
   "metadata": {
    "execution": {
     "iopub.execute_input": "2021-05-19T17:26:53.267401Z",
     "iopub.status.busy": "2021-05-19T17:26:53.266898Z",
     "iopub.status.idle": "2021-05-19T17:26:53.269818Z",
     "shell.execute_reply": "2021-05-19T17:26:53.269327Z"
    }
   },
   "outputs": [
    {
     "data": {
      "text/plain": [
       "3.0"
      ]
     },
     "execution_count": 1,
     "metadata": {},
     "output_type": "execute_result"
    }
   ],
   "source": [
    "lista.pop()"
   ]
  },
  {
   "cell_type": "code",
   "execution_count": 24,
   "id": "7e3facd0",
   "metadata": {
    "execution": {
     "iopub.execute_input": "2021-05-19T17:26:53.273309Z",
     "iopub.status.busy": "2021-05-19T17:26:53.272805Z",
     "iopub.status.idle": "2021-05-19T17:26:53.275733Z",
     "shell.execute_reply": "2021-05-19T17:26:53.275266Z"
    }
   },
   "outputs": [
    {
     "data": {
      "text/plain": [
       "[1, 2, 10, 3, 4, 1, 'dos']"
      ]
     },
     "execution_count": 1,
     "metadata": {},
     "output_type": "execute_result"
    }
   ],
   "source": [
    "lista"
   ]
  },
  {
   "cell_type": "code",
   "execution_count": 25,
   "id": "9db5316a",
   "metadata": {
    "execution": {
     "iopub.execute_input": "2021-05-19T17:26:53.279955Z",
     "iopub.status.busy": "2021-05-19T17:26:53.279431Z",
     "iopub.status.idle": "2021-05-19T17:26:53.281463Z",
     "shell.execute_reply": "2021-05-19T17:26:53.281877Z"
    }
   },
   "outputs": [
    {
     "data": {
      "text/plain": [
       "2"
      ]
     },
     "execution_count": 1,
     "metadata": {},
     "output_type": "execute_result"
    }
   ],
   "source": [
    "lista.index(10)"
   ]
  },
  {
   "cell_type": "code",
   "execution_count": 26,
   "id": "0d81cc46",
   "metadata": {
    "execution": {
     "iopub.execute_input": "2021-05-19T17:26:53.285182Z",
     "iopub.status.busy": "2021-05-19T17:26:53.284675Z",
     "iopub.status.idle": "2021-05-19T17:26:53.287430Z",
     "shell.execute_reply": "2021-05-19T17:26:53.286999Z"
    }
   },
   "outputs": [
    {
     "data": {
      "text/plain": [
       "[1, 2, 3, 4, 1, 'dos']"
      ]
     },
     "execution_count": 1,
     "metadata": {},
     "output_type": "execute_result"
    }
   ],
   "source": [
    "lista.remove(10)\n",
    "lista"
   ]
  },
  {
   "cell_type": "code",
   "execution_count": 27,
   "id": "05281fb2",
   "metadata": {
    "execution": {
     "iopub.execute_input": "2021-05-19T17:26:53.290788Z",
     "iopub.status.busy": "2021-05-19T17:26:53.290232Z",
     "iopub.status.idle": "2021-05-19T17:26:53.346132Z",
     "shell.execute_reply": "2021-05-19T17:26:53.346510Z"
    },
    "tags": [
     "raises-exception"
    ]
   },
   "outputs": [
    {
     "name": "stdout",
     "output_type": "stream",
     "text": [
      "1\n",
      "2\n",
      "2\n",
      "3\n",
      "3\n",
      "4\n",
      "4\n",
      "5\n",
      "1\n",
      "2\n",
      "dos\n"
     ]
    },
    {
     "ename": "TypeError",
     "evalue": "can only concatenate str (not \"int\") to str",
     "output_type": "error",
     "traceback": [
      "\u001b[0;31m---------------------------------------------------------------------------\u001b[0m",
      "\u001b[0;31mTypeError\u001b[0m                                 Traceback (most recent call last)",
      "\u001b[0;32m<ipython-input-1-41b56d5cf080>\u001b[0m in \u001b[0;36m<module>\u001b[0;34m\u001b[0m\n\u001b[1;32m      1\u001b[0m \u001b[0;32mfor\u001b[0m \u001b[0melemento\u001b[0m \u001b[0;32min\u001b[0m \u001b[0mlista\u001b[0m\u001b[0;34m:\u001b[0m\u001b[0;34m\u001b[0m\u001b[0;34m\u001b[0m\u001b[0m\n\u001b[1;32m      2\u001b[0m     \u001b[0mprint\u001b[0m\u001b[0;34m(\u001b[0m\u001b[0melemento\u001b[0m\u001b[0;34m)\u001b[0m\u001b[0;34m\u001b[0m\u001b[0;34m\u001b[0m\u001b[0m\n\u001b[0;32m----> 3\u001b[0;31m     \u001b[0mprint\u001b[0m\u001b[0;34m(\u001b[0m\u001b[0melemento\u001b[0m \u001b[0;34m+\u001b[0m \u001b[0;36m1\u001b[0m\u001b[0;34m)\u001b[0m\u001b[0;34m\u001b[0m\u001b[0;34m\u001b[0m\u001b[0m\n\u001b[0m",
      "\u001b[0;31mTypeError\u001b[0m: can only concatenate str (not \"int\") to str"
     ]
    }
   ],
   "source": [
    "for elemento in lista:\n",
    "    print(elemento)\n",
    "    print(elemento + 1)"
   ]
  },
  {
   "cell_type": "code",
   "execution_count": 28,
   "id": "6f16c8b0",
   "metadata": {
    "execution": {
     "iopub.execute_input": "2021-05-19T17:26:53.350062Z",
     "iopub.status.busy": "2021-05-19T17:26:53.349447Z",
     "iopub.status.idle": "2021-05-19T17:26:53.354736Z",
     "shell.execute_reply": "2021-05-19T17:26:53.354331Z"
    }
   },
   "outputs": [
    {
     "data": {
      "text/plain": [
       "[1, 2, 3, 4, 1, 'dos']"
      ]
     },
     "execution_count": 1,
     "metadata": {},
     "output_type": "execute_result"
    }
   ],
   "source": [
    "lista"
   ]
  },
  {
   "cell_type": "code",
   "execution_count": 29,
   "id": "798084f4",
   "metadata": {
    "execution": {
     "iopub.execute_input": "2021-05-19T17:26:53.358137Z",
     "iopub.status.busy": "2021-05-19T17:26:53.357480Z",
     "iopub.status.idle": "2021-05-19T17:26:53.361597Z",
     "shell.execute_reply": "2021-05-19T17:26:53.361199Z"
    }
   },
   "outputs": [
    {
     "name": "stdout",
     "output_type": "stream",
     "text": [
      "0-ésimo elemento: 1\n",
      "1-ésimo elemento: 2\n",
      "2-ésimo elemento: 3\n",
      "3-ésimo elemento: 4\n",
      "4-ésimo elemento: 1\n",
      "5-ésimo elemento: dos\n"
     ]
    }
   ],
   "source": [
    "for i, elemento in enumerate(lista):\n",
    "    print(f\"{i}-ésimo elemento: {elemento}\")"
   ]
  },
  {
   "cell_type": "code",
   "execution_count": 30,
   "id": "213ffe30",
   "metadata": {
    "execution": {
     "iopub.execute_input": "2021-05-19T17:26:53.364543Z",
     "iopub.status.busy": "2021-05-19T17:26:53.364105Z",
     "iopub.status.idle": "2021-05-19T17:26:53.371026Z",
     "shell.execute_reply": "2021-05-19T17:26:53.370509Z"
    },
    "tags": [
     "raises-exception"
    ]
   },
   "outputs": [
    {
     "ename": "TypeError",
     "evalue": "'<' not supported between instances of 'str' and 'int'",
     "output_type": "error",
     "traceback": [
      "\u001b[0;31m---------------------------------------------------------------------------\u001b[0m",
      "\u001b[0;31mTypeError\u001b[0m                                 Traceback (most recent call last)",
      "\u001b[0;32m<ipython-input-1-06c3f264dc7a>\u001b[0m in \u001b[0;36m<module>\u001b[0;34m\u001b[0m\n\u001b[0;32m----> 1\u001b[0;31m \u001b[0msorted\u001b[0m\u001b[0;34m(\u001b[0m\u001b[0mlista\u001b[0m\u001b[0;34m)\u001b[0m\u001b[0;34m\u001b[0m\u001b[0;34m\u001b[0m\u001b[0m\n\u001b[0m",
      "\u001b[0;31mTypeError\u001b[0m: '<' not supported between instances of 'str' and 'int'"
     ]
    }
   ],
   "source": [
    "sorted(lista)"
   ]
  },
  {
   "cell_type": "code",
   "execution_count": 31,
   "id": "33153ce6",
   "metadata": {
    "execution": {
     "iopub.execute_input": "2021-05-19T17:26:53.374543Z",
     "iopub.status.busy": "2021-05-19T17:26:53.374024Z",
     "iopub.status.idle": "2021-05-19T17:26:53.376809Z",
     "shell.execute_reply": "2021-05-19T17:26:53.376377Z"
    }
   },
   "outputs": [],
   "source": [
    "lista.remove(\"dos\")"
   ]
  },
  {
   "cell_type": "code",
   "execution_count": 32,
   "id": "7e7f75be",
   "metadata": {
    "execution": {
     "iopub.execute_input": "2021-05-19T17:26:53.380565Z",
     "iopub.status.busy": "2021-05-19T17:26:53.380004Z",
     "iopub.status.idle": "2021-05-19T17:26:53.383905Z",
     "shell.execute_reply": "2021-05-19T17:26:53.383514Z"
    }
   },
   "outputs": [
    {
     "data": {
      "text/plain": [
       "[1, 1, 2, 3, 4]"
      ]
     },
     "execution_count": 1,
     "metadata": {},
     "output_type": "execute_result"
    }
   ],
   "source": [
    "sorted(lista)"
   ]
  },
  {
   "cell_type": "code",
   "execution_count": 33,
   "id": "a2099da8",
   "metadata": {
    "execution": {
     "iopub.execute_input": "2021-05-19T17:26:53.387829Z",
     "iopub.status.busy": "2021-05-19T17:26:53.387301Z",
     "iopub.status.idle": "2021-05-19T17:26:53.389737Z",
     "shell.execute_reply": "2021-05-19T17:26:53.390119Z"
    }
   },
   "outputs": [
    {
     "data": {
      "text/plain": [
       "[1, 1, 2, 3, 4]"
      ]
     },
     "execution_count": 1,
     "metadata": {},
     "output_type": "execute_result"
    }
   ],
   "source": [
    "lista.sort()\n",
    "lista"
   ]
  },
  {
   "cell_type": "markdown",
   "id": "539bbff4",
   "metadata": {
    "slideshow": {
     "slide_type": "slide"
    }
   },
   "source": [
    "#### Tuplas de Python\n",
    "\n",
    "Las tuplas son inmutables. No se pueden agregar elementos luego de creadas."
   ]
  },
  {
   "cell_type": "code",
   "execution_count": 34,
   "id": "f1f371dd",
   "metadata": {
    "execution": {
     "iopub.execute_input": "2021-05-19T17:26:53.394345Z",
     "iopub.status.busy": "2021-05-19T17:26:53.393470Z",
     "iopub.status.idle": "2021-05-19T17:26:53.399226Z",
     "shell.execute_reply": "2021-05-19T17:26:53.398772Z"
    },
    "slideshow": {
     "slide_type": "slide"
    },
    "tags": [
     "raises-exception"
    ]
   },
   "outputs": [
    {
     "name": "stdout",
     "output_type": "stream",
     "text": [
      "(1, 2)\n",
      "1\n",
      "2\n"
     ]
    },
    {
     "ename": "TypeError",
     "evalue": "'tuple' object does not support item assignment",
     "output_type": "error",
     "traceback": [
      "\u001b[0;31m---------------------------------------------------------------------------\u001b[0m",
      "\u001b[0;31mTypeError\u001b[0m                                 Traceback (most recent call last)",
      "\u001b[0;32m<ipython-input-1-80ca8b547dd6>\u001b[0m in \u001b[0;36m<module>\u001b[0;34m\u001b[0m\n\u001b[1;32m      5\u001b[0m \u001b[0mprint\u001b[0m\u001b[0;34m(\u001b[0m\u001b[0mtupla\u001b[0m\u001b[0;34m[\u001b[0m\u001b[0;36m1\u001b[0m\u001b[0;34m]\u001b[0m\u001b[0;34m)\u001b[0m\u001b[0;34m\u001b[0m\u001b[0;34m\u001b[0m\u001b[0m\n\u001b[1;32m      6\u001b[0m \u001b[0;34m\u001b[0m\u001b[0m\n\u001b[0;32m----> 7\u001b[0;31m \u001b[0mtupla\u001b[0m\u001b[0;34m[\u001b[0m\u001b[0;36m1\u001b[0m\u001b[0;34m]\u001b[0m \u001b[0;34m=\u001b[0m \u001b[0;36m3\u001b[0m  \u001b[0;31m# Falla. No se puede mutar\u001b[0m\u001b[0;34m\u001b[0m\u001b[0;34m\u001b[0m\u001b[0m\n\u001b[0m",
      "\u001b[0;31mTypeError\u001b[0m: 'tuple' object does not support item assignment"
     ]
    }
   ],
   "source": [
    "tupla = (1, 2)\n",
    "\n",
    "print(tupla)\n",
    "print(tupla[0])\n",
    "print(tupla[1])\n",
    "\n",
    "tupla[1] = 3  # Falla. No se puede mutar"
   ]
  },
  {
   "cell_type": "code",
   "execution_count": 35,
   "id": "f0f56646",
   "metadata": {
    "execution": {
     "iopub.execute_input": "2021-05-19T17:26:53.403285Z",
     "iopub.status.busy": "2021-05-19T17:26:53.402817Z",
     "iopub.status.idle": "2021-05-19T17:26:53.404464Z",
     "shell.execute_reply": "2021-05-19T17:26:53.404879Z"
    }
   },
   "outputs": [
    {
     "data": {
      "text/plain": [
       "[1, 2]"
      ]
     },
     "execution_count": 1,
     "metadata": {},
     "output_type": "execute_result"
    }
   ],
   "source": [
    "l = [1, 2]\n",
    "l"
   ]
  },
  {
   "cell_type": "code",
   "execution_count": 36,
   "id": "1a69d20a",
   "metadata": {
    "execution": {
     "iopub.execute_input": "2021-05-19T17:26:53.408565Z",
     "iopub.status.busy": "2021-05-19T17:26:53.408100Z",
     "iopub.status.idle": "2021-05-19T17:26:53.409690Z",
     "shell.execute_reply": "2021-05-19T17:26:53.410073Z"
    }
   },
   "outputs": [
    {
     "data": {
      "text/plain": [
       "[1, 3]"
      ]
     },
     "execution_count": 1,
     "metadata": {},
     "output_type": "execute_result"
    }
   ],
   "source": [
    "l[1] = 3\n",
    "l"
   ]
  },
  {
   "cell_type": "markdown",
   "id": "7574f923",
   "metadata": {
    "slideshow": {
     "slide_type": "slide"
    }
   },
   "source": [
    "#### Diferencia entre lista y tupla\n",
    "Las listas se caracterizan por ser mutables, es decir, se puede cambiar su contenido en tiempo de ejecución, mientras que las tuplas son inmutables ya que no es posible modificar el contenido una vez creada."
   ]
  },
  {
   "cell_type": "markdown",
   "id": "1d9fe086",
   "metadata": {},
   "source": [
    "#### Slices\n",
    "\n",
    "**Valen para listas, tuplas o strings (_segmentos_)**"
   ]
  },
  {
   "cell_type": "code",
   "execution_count": 37,
   "id": "3746044c",
   "metadata": {
    "execution": {
     "iopub.execute_input": "2021-05-19T17:26:53.413597Z",
     "iopub.status.busy": "2021-05-19T17:26:53.413151Z",
     "iopub.status.idle": "2021-05-19T17:26:53.415338Z",
     "shell.execute_reply": "2021-05-19T17:26:53.414863Z"
    }
   },
   "outputs": [],
   "source": [
    "numeros = [0, 1, 2, 3, 4, 5, 6, 7, 8, 9, 10]"
   ]
  },
  {
   "cell_type": "code",
   "execution_count": 38,
   "id": "ea8c8fea",
   "metadata": {
    "execution": {
     "iopub.execute_input": "2021-05-19T17:26:53.418242Z",
     "iopub.status.busy": "2021-05-19T17:26:53.417773Z",
     "iopub.status.idle": "2021-05-19T17:26:53.419574Z",
     "shell.execute_reply": "2021-05-19T17:26:53.419957Z"
    }
   },
   "outputs": [
    {
     "name": "stdout",
     "output_type": "stream",
     "text": [
      "[0, 1, 2, 3, 4, 5, 6, 7, 8, 9, 10]\n"
     ]
    }
   ],
   "source": [
    "print(numeros)"
   ]
  },
  {
   "cell_type": "code",
   "execution_count": 39,
   "id": "6a9b293f",
   "metadata": {
    "execution": {
     "iopub.execute_input": "2021-05-19T17:26:53.423422Z",
     "iopub.status.busy": "2021-05-19T17:26:53.422919Z",
     "iopub.status.idle": "2021-05-19T17:26:53.424655Z",
     "shell.execute_reply": "2021-05-19T17:26:53.425123Z"
    }
   },
   "outputs": [
    {
     "name": "stdout",
     "output_type": "stream",
     "text": [
      "2\n"
     ]
    }
   ],
   "source": [
    "print(numeros[2])  # Imprimo elemento en la posición 2"
   ]
  },
  {
   "cell_type": "code",
   "execution_count": 40,
   "id": "48497981",
   "metadata": {
    "execution": {
     "iopub.execute_input": "2021-05-19T17:26:53.428435Z",
     "iopub.status.busy": "2021-05-19T17:26:53.427991Z",
     "iopub.status.idle": "2021-05-19T17:26:53.430816Z",
     "shell.execute_reply": "2021-05-19T17:26:53.430362Z"
    }
   },
   "outputs": [
    {
     "data": {
      "text/plain": [
       "10"
      ]
     },
     "execution_count": 1,
     "metadata": {},
     "output_type": "execute_result"
    }
   ],
   "source": [
    "numeros[len(numeros) - 1]"
   ]
  },
  {
   "cell_type": "code",
   "execution_count": 41,
   "id": "cf4d94d4",
   "metadata": {
    "execution": {
     "iopub.execute_input": "2021-05-19T17:26:53.434363Z",
     "iopub.status.busy": "2021-05-19T17:26:53.433809Z",
     "iopub.status.idle": "2021-05-19T17:26:53.435542Z",
     "shell.execute_reply": "2021-05-19T17:26:53.436018Z"
    },
    "lines_to_next_cell": 2
   },
   "outputs": [
    {
     "name": "stdout",
     "output_type": "stream",
     "text": [
      "10\n"
     ]
    }
   ],
   "source": [
    "print(numeros[-1])  # # Imprimo elemento en la última posición"
   ]
  },
  {
   "cell_type": "code",
   "execution_count": 42,
   "id": "b542895b",
   "metadata": {
    "execution": {
     "iopub.execute_input": "2021-05-19T17:26:53.439361Z",
     "iopub.status.busy": "2021-05-19T17:26:53.438919Z",
     "iopub.status.idle": "2021-05-19T17:26:53.441646Z",
     "shell.execute_reply": "2021-05-19T17:26:53.441074Z"
    },
    "lines_to_next_cell": 2
   },
   "outputs": [
    {
     "data": {
      "text/plain": [
       "9"
      ]
     },
     "execution_count": 1,
     "metadata": {},
     "output_type": "execute_result"
    }
   ],
   "source": [
    "numeros[-2]"
   ]
  },
  {
   "cell_type": "code",
   "execution_count": 43,
   "id": "6caa4b8d",
   "metadata": {
    "execution": {
     "iopub.execute_input": "2021-05-19T17:26:53.444784Z",
     "iopub.status.busy": "2021-05-19T17:26:53.444335Z",
     "iopub.status.idle": "2021-05-19T17:26:53.446094Z",
     "shell.execute_reply": "2021-05-19T17:26:53.446468Z"
    }
   },
   "outputs": [
    {
     "name": "stdout",
     "output_type": "stream",
     "text": [
      "[0, 1, 2]\n"
     ]
    }
   ],
   "source": [
    "print(numeros[0:3])  # Imprimo de la pos 0 a la pos 2"
   ]
  },
  {
   "cell_type": "code",
   "execution_count": 44,
   "id": "532f2584",
   "metadata": {
    "execution": {
     "iopub.execute_input": "2021-05-19T17:26:53.449724Z",
     "iopub.status.busy": "2021-05-19T17:26:53.449274Z",
     "iopub.status.idle": "2021-05-19T17:26:53.450963Z",
     "shell.execute_reply": "2021-05-19T17:26:53.451431Z"
    }
   },
   "outputs": [
    {
     "name": "stdout",
     "output_type": "stream",
     "text": [
      "[7, 8]\n"
     ]
    }
   ],
   "source": [
    "print(numeros[-4:-2])"
   ]
  },
  {
   "cell_type": "code",
   "execution_count": 45,
   "id": "631d59a0",
   "metadata": {
    "execution": {
     "iopub.execute_input": "2021-05-19T17:26:53.454768Z",
     "iopub.status.busy": "2021-05-19T17:26:53.454307Z",
     "iopub.status.idle": "2021-05-19T17:26:53.455921Z",
     "shell.execute_reply": "2021-05-19T17:26:53.456347Z"
    }
   },
   "outputs": [
    {
     "name": "stdout",
     "output_type": "stream",
     "text": [
      "[0, 1, 2, 3, 4, 5, 6, 7, 8, 9, 10]\n"
     ]
    }
   ],
   "source": [
    "print(numeros[0:80])"
   ]
  },
  {
   "cell_type": "code",
   "execution_count": 46,
   "id": "2f5f44e7",
   "metadata": {
    "execution": {
     "iopub.execute_input": "2021-05-19T17:26:53.459462Z",
     "iopub.status.busy": "2021-05-19T17:26:53.459013Z",
     "iopub.status.idle": "2021-05-19T17:26:53.460655Z",
     "shell.execute_reply": "2021-05-19T17:26:53.461046Z"
    }
   },
   "outputs": [
    {
     "name": "stdout",
     "output_type": "stream",
     "text": [
      "[0, 1, 2]\n"
     ]
    }
   ],
   "source": [
    "print(numeros[:3])"
   ]
  },
  {
   "cell_type": "code",
   "execution_count": 47,
   "id": "b255e716",
   "metadata": {
    "execution": {
     "iopub.execute_input": "2021-05-19T17:26:53.464592Z",
     "iopub.status.busy": "2021-05-19T17:26:53.464084Z",
     "iopub.status.idle": "2021-05-19T17:26:53.465804Z",
     "shell.execute_reply": "2021-05-19T17:26:53.466336Z"
    }
   },
   "outputs": [
    {
     "name": "stdout",
     "output_type": "stream",
     "text": [
      "[3, 4, 5, 6, 7, 8, 9, 10]\n"
     ]
    }
   ],
   "source": [
    "print(numeros[3:])"
   ]
  },
  {
   "cell_type": "code",
   "execution_count": 48,
   "id": "1a31fc05",
   "metadata": {
    "execution": {
     "iopub.execute_input": "2021-05-19T17:26:53.469550Z",
     "iopub.status.busy": "2021-05-19T17:26:53.469065Z",
     "iopub.status.idle": "2021-05-19T17:26:53.470784Z",
     "shell.execute_reply": "2021-05-19T17:26:53.471224Z"
    }
   },
   "outputs": [
    {
     "name": "stdout",
     "output_type": "stream",
     "text": [
      "[0, 2, 4, 6, 8]\n"
     ]
    }
   ],
   "source": [
    "print(numeros[0:10:2])"
   ]
  },
  {
   "cell_type": "markdown",
   "id": "b32c25bb",
   "metadata": {},
   "source": [
    "```python\n",
    "lista[<inicio>:<final>:<step>]\n",
    "```"
   ]
  },
  {
   "cell_type": "code",
   "execution_count": 49,
   "id": "ad682271",
   "metadata": {
    "execution": {
     "iopub.execute_input": "2021-05-19T17:26:53.475114Z",
     "iopub.status.busy": "2021-05-19T17:26:53.474604Z",
     "iopub.status.idle": "2021-05-19T17:26:53.477449Z",
     "shell.execute_reply": "2021-05-19T17:26:53.476997Z"
    },
    "lines_to_next_cell": 2
   },
   "outputs": [
    {
     "data": {
      "text/plain": [
       "[1, 2, 3, 4]"
      ]
     },
     "execution_count": 1,
     "metadata": {},
     "output_type": "execute_result"
    }
   ],
   "source": [
    "l1 = [1, 2]\n",
    "l2 = [3, 4]\n",
    "l1 + l2"
   ]
  },
  {
   "cell_type": "code",
   "execution_count": 50,
   "id": "bfa652e1",
   "metadata": {
    "execution": {
     "iopub.execute_input": "2021-05-19T17:26:53.480766Z",
     "iopub.status.busy": "2021-05-19T17:26:53.480321Z",
     "iopub.status.idle": "2021-05-19T17:26:53.482173Z",
     "shell.execute_reply": "2021-05-19T17:26:53.482598Z"
    }
   },
   "outputs": [
    {
     "name": "stdout",
     "output_type": "stream",
     "text": [
      "[0, 1, 2, 3, 4, 5, 6, 'siete', 8, 9, 10]\n"
     ]
    }
   ],
   "source": [
    "numeros[7] = 'siete'  # Las listas se pueden mutar\n",
    "print(numeros)"
   ]
  },
  {
   "cell_type": "code",
   "execution_count": 51,
   "id": "fb0e9ac3",
   "metadata": {
    "execution": {
     "iopub.execute_input": "2021-05-19T17:26:53.485808Z",
     "iopub.status.busy": "2021-05-19T17:26:53.485331Z",
     "iopub.status.idle": "2021-05-19T17:26:53.486995Z",
     "shell.execute_reply": "2021-05-19T17:26:53.487476Z"
    }
   },
   "outputs": [
    {
     "name": "stdout",
     "output_type": "stream",
     "text": [
      "[10, 9, 8, 'siete', 6, 5, 4, 3, 2, 1, 0]\n"
     ]
    }
   ],
   "source": [
    "numeros = numeros[::-1]\n",
    "print(numeros)"
   ]
  },
  {
   "cell_type": "code",
   "execution_count": 52,
   "id": "19a24b4c",
   "metadata": {
    "execution": {
     "iopub.execute_input": "2021-05-19T17:26:53.490650Z",
     "iopub.status.busy": "2021-05-19T17:26:53.490111Z",
     "iopub.status.idle": "2021-05-19T17:26:53.495331Z",
     "shell.execute_reply": "2021-05-19T17:26:53.494982Z"
    },
    "tags": [
     "raises-exception"
    ]
   },
   "outputs": [
    {
     "ename": "IndexError",
     "evalue": "list index out of range",
     "output_type": "error",
     "traceback": [
      "\u001b[0;31m---------------------------------------------------------------------------\u001b[0m",
      "\u001b[0;31mIndexError\u001b[0m                                Traceback (most recent call last)",
      "\u001b[0;32m<ipython-input-1-0ef91dd29a9b>\u001b[0m in \u001b[0;36m<module>\u001b[0;34m\u001b[0m\n\u001b[0;32m----> 1\u001b[0;31m \u001b[0mprint\u001b[0m\u001b[0;34m(\u001b[0m\u001b[0mnumeros\u001b[0m\u001b[0;34m[\u001b[0m\u001b[0;36m15\u001b[0m\u001b[0;34m]\u001b[0m\u001b[0;34m)\u001b[0m  \u001b[0;31m# Falla. No se puede acceder a una posición inexistente\u001b[0m\u001b[0;34m\u001b[0m\u001b[0;34m\u001b[0m\u001b[0m\n\u001b[0m",
      "\u001b[0;31mIndexError\u001b[0m: list index out of range"
     ]
    }
   ],
   "source": [
    "print(numeros[15])  # Falla. No se puede acceder a una posición inexistente"
   ]
  },
  {
   "cell_type": "code",
   "execution_count": 53,
   "id": "58d253db",
   "metadata": {
    "execution": {
     "iopub.execute_input": "2021-05-19T17:26:53.498250Z",
     "iopub.status.busy": "2021-05-19T17:26:53.497780Z",
     "iopub.status.idle": "2021-05-19T17:26:53.501098Z",
     "shell.execute_reply": "2021-05-19T17:26:53.500599Z"
    }
   },
   "outputs": [
    {
     "name": "stdout",
     "output_type": "stream",
     "text": [
      "palabra\n",
      "a\n",
      "pal\n",
      "abra\n"
     ]
    }
   ],
   "source": [
    "palabra = 'palabra'\n",
    "print(palabra)\n",
    "print(palabra[3])\n",
    "print(palabra[:3])\n",
    "print(palabra[3:])"
   ]
  },
  {
   "cell_type": "code",
   "execution_count": 54,
   "id": "11eac7eb",
   "metadata": {
    "execution": {
     "iopub.execute_input": "2021-05-19T17:26:53.504986Z",
     "iopub.status.busy": "2021-05-19T17:26:53.504539Z",
     "iopub.status.idle": "2021-05-19T17:26:53.506292Z",
     "shell.execute_reply": "2021-05-19T17:26:53.506666Z"
    }
   },
   "outputs": [
    {
     "name": "stdout",
     "output_type": "stream",
     "text": [
      "(0, 1, 2, 3, 4)\n",
      "(0, 1)\n",
      "(2, 3, 4)\n"
     ]
    }
   ],
   "source": [
    "tupla = (0, 1, 2, 3, 4)\n",
    "\n",
    "print(tupla)\n",
    "print(tupla[:2])\n",
    "print(tupla[2:])"
   ]
  },
  {
   "cell_type": "markdown",
   "id": "5bda0e8d",
   "metadata": {
    "slideshow": {
     "slide_type": "slide"
    }
   },
   "source": [
    "#### Diccionarios de Python\n",
    "\n",
    "Son como hashmaps, las claves deben ser inmutables para que no pierda sentido el diccionario. Si se pudieran modificar, se podrían cambiar las claves y generaría conflictos.\n",
    "\n",
    "Tipos mutables:\n",
    "- Listas\n",
    "- Diccionarios\n",
    "- Sets\n",
    "\n",
    "Tipos inmutables:\n",
    "- Int\n",
    "- Float\n",
    "- String\n",
    "- Tuplas\n"
   ]
  },
  {
   "cell_type": "code",
   "execution_count": 55,
   "id": "4de1f16f",
   "metadata": {
    "execution": {
     "iopub.execute_input": "2021-05-19T17:26:53.509754Z",
     "iopub.status.busy": "2021-05-19T17:26:53.509244Z",
     "iopub.status.idle": "2021-05-19T17:26:53.511906Z",
     "shell.execute_reply": "2021-05-19T17:26:53.511440Z"
    },
    "slideshow": {
     "slide_type": "slide"
    }
   },
   "outputs": [
    {
     "data": {
      "text/plain": [
       "{}"
      ]
     },
     "execution_count": 1,
     "metadata": {},
     "output_type": "execute_result"
    }
   ],
   "source": [
    "diccionario = {}\n",
    "diccionario"
   ]
  },
  {
   "cell_type": "code",
   "execution_count": 56,
   "id": "c34fe11d",
   "metadata": {
    "execution": {
     "iopub.execute_input": "2021-05-19T17:26:53.515063Z",
     "iopub.status.busy": "2021-05-19T17:26:53.514614Z",
     "iopub.status.idle": "2021-05-19T17:26:53.517299Z",
     "shell.execute_reply": "2021-05-19T17:26:53.516903Z"
    }
   },
   "outputs": [
    {
     "data": {
      "text/plain": [
       "{}"
      ]
     },
     "execution_count": 1,
     "metadata": {},
     "output_type": "execute_result"
    }
   ],
   "source": [
    "diccionario = dict()\n",
    "diccionario"
   ]
  },
  {
   "cell_type": "code",
   "execution_count": 57,
   "id": "1e23759f",
   "metadata": {
    "execution": {
     "iopub.execute_input": "2021-05-19T17:26:53.520786Z",
     "iopub.status.busy": "2021-05-19T17:26:53.520279Z",
     "iopub.status.idle": "2021-05-19T17:26:53.521933Z",
     "shell.execute_reply": "2021-05-19T17:26:53.522512Z"
    },
    "slideshow": {
     "slide_type": "slide"
    }
   },
   "outputs": [
    {
     "name": "stdout",
     "output_type": "stream",
     "text": [
      "{'clave1': 'valor1', 2: 'valor2', 'clave3': 3}\n"
     ]
    }
   ],
   "source": [
    "# Cómo agregar cosas al diccionario\n",
    "diccionario['clave1'] = 'valor1'\n",
    "diccionario[2] = 'valor2'\n",
    "diccionario['clave3'] = 3\n",
    "print(diccionario)"
   ]
  },
  {
   "cell_type": "markdown",
   "id": "25550fff",
   "metadata": {},
   "source": [
    "Hay dos formas de obtener valores de un diccionario:\n",
    "\n",
    "```python\n",
    "diccionario[clave]\n",
    "```\n",
    "\n",
    "El cual devuelve el valor si existe la clave suministrada o bien lanza `KeyError` si no existe."
   ]
  },
  {
   "cell_type": "code",
   "execution_count": 58,
   "id": "64dbe65c",
   "metadata": {
    "execution": {
     "iopub.execute_input": "2021-05-19T17:26:53.525926Z",
     "iopub.status.busy": "2021-05-19T17:26:53.525421Z",
     "iopub.status.idle": "2021-05-19T17:26:53.528257Z",
     "shell.execute_reply": "2021-05-19T17:26:53.527771Z"
    }
   },
   "outputs": [
    {
     "data": {
      "text/plain": [
       "'valor1'"
      ]
     },
     "execution_count": 1,
     "metadata": {},
     "output_type": "execute_result"
    }
   ],
   "source": [
    "diccionario['clave1']"
   ]
  },
  {
   "cell_type": "code",
   "execution_count": 59,
   "id": "3fcecb75",
   "metadata": {
    "execution": {
     "iopub.execute_input": "2021-05-19T17:26:53.531327Z",
     "iopub.status.busy": "2021-05-19T17:26:53.530820Z",
     "iopub.status.idle": "2021-05-19T17:26:53.536343Z",
     "shell.execute_reply": "2021-05-19T17:26:53.535860Z"
    },
    "tags": [
     "raises-exception"
    ]
   },
   "outputs": [
    {
     "ename": "KeyError",
     "evalue": "'clave1000'",
     "output_type": "error",
     "traceback": [
      "\u001b[0;31m---------------------------------------------------------------------------\u001b[0m",
      "\u001b[0;31mKeyError\u001b[0m                                  Traceback (most recent call last)",
      "\u001b[0;32m<ipython-input-1-41aae9a2e5ed>\u001b[0m in \u001b[0;36m<module>\u001b[0;34m\u001b[0m\n\u001b[0;32m----> 1\u001b[0;31m \u001b[0mdiccionario\u001b[0m\u001b[0;34m[\u001b[0m\u001b[0;34m'clave1000'\u001b[0m\u001b[0;34m]\u001b[0m\u001b[0;34m\u001b[0m\u001b[0;34m\u001b[0m\u001b[0m\n\u001b[0m",
      "\u001b[0;31mKeyError\u001b[0m: 'clave1000'"
     ]
    }
   ],
   "source": [
    "diccionario['clave1000']"
   ]
  },
  {
   "cell_type": "markdown",
   "id": "ee81d0d3",
   "metadata": {},
   "source": [
    "La segunda forma es con `get`:"
   ]
  },
  {
   "cell_type": "code",
   "execution_count": 60,
   "id": "2f9255ca",
   "metadata": {
    "execution": {
     "iopub.execute_input": "2021-05-19T17:26:53.569047Z",
     "iopub.status.busy": "2021-05-19T17:26:53.553701Z",
     "iopub.status.idle": "2021-05-19T17:26:53.593903Z",
     "shell.execute_reply": "2021-05-19T17:26:53.593254Z"
    }
   },
   "outputs": [],
   "source": [
    "diccionario.get?"
   ]
  },
  {
   "cell_type": "code",
   "execution_count": 61,
   "id": "272259d8",
   "metadata": {
    "execution": {
     "iopub.execute_input": "2021-05-19T17:26:53.599785Z",
     "iopub.status.busy": "2021-05-19T17:26:53.598480Z",
     "iopub.status.idle": "2021-05-19T17:26:53.601636Z",
     "shell.execute_reply": "2021-05-19T17:26:53.601147Z"
    }
   },
   "outputs": [
    {
     "name": "stdout",
     "output_type": "stream",
     "text": [
      "Help on built-in function get:\n",
      "\n",
      "get(key, default=None, /) method of builtins.dict instance\n",
      "    Return the value for key if key is in the dictionary, else default.\n",
      "\n"
     ]
    }
   ],
   "source": [
    "help(diccionario.get)"
   ]
  },
  {
   "cell_type": "code",
   "execution_count": 62,
   "id": "d0a4f2ae",
   "metadata": {
    "execution": {
     "iopub.execute_input": "2021-05-19T17:26:53.606939Z",
     "iopub.status.busy": "2021-05-19T17:26:53.605845Z",
     "iopub.status.idle": "2021-05-19T17:26:53.608718Z",
     "shell.execute_reply": "2021-05-19T17:26:53.608255Z"
    },
    "slideshow": {
     "slide_type": "slide"
    }
   },
   "outputs": [
    {
     "name": "stdout",
     "output_type": "stream",
     "text": [
      "None\n"
     ]
    }
   ],
   "source": [
    "print(diccionario.get('clave1000'))"
   ]
  },
  {
   "cell_type": "code",
   "execution_count": 63,
   "id": "f0b2bff3",
   "metadata": {
    "execution": {
     "iopub.execute_input": "2021-05-19T17:26:53.613681Z",
     "iopub.status.busy": "2021-05-19T17:26:53.612276Z",
     "iopub.status.idle": "2021-05-19T17:26:53.615619Z",
     "shell.execute_reply": "2021-05-19T17:26:53.615127Z"
    },
    "slideshow": {
     "slide_type": "slide"
    }
   },
   "outputs": [
    {
     "name": "stdout",
     "output_type": "stream",
     "text": [
      "True\n"
     ]
    }
   ],
   "source": [
    "print('clave1' in diccionario)  # Verifico si la clave está en el diccionario"
   ]
  },
  {
   "cell_type": "code",
   "execution_count": 64,
   "id": "caad2993",
   "metadata": {
    "execution": {
     "iopub.execute_input": "2021-05-19T17:26:53.620424Z",
     "iopub.status.busy": "2021-05-19T17:26:53.619618Z",
     "iopub.status.idle": "2021-05-19T17:26:53.622515Z",
     "shell.execute_reply": "2021-05-19T17:26:53.622975Z"
    }
   },
   "outputs": [
    {
     "data": {
      "text/plain": [
       "True"
      ]
     },
     "execution_count": 1,
     "metadata": {},
     "output_type": "execute_result"
    }
   ],
   "source": [
    "l = [1, 2, 3, 4]\n",
    "2 in l"
   ]
  },
  {
   "cell_type": "code",
   "execution_count": 65,
   "id": "7dfd22f1",
   "metadata": {
    "execution": {
     "iopub.execute_input": "2021-05-19T17:26:53.628540Z",
     "iopub.status.busy": "2021-05-19T17:26:53.627171Z",
     "iopub.status.idle": "2021-05-19T17:26:53.630345Z",
     "shell.execute_reply": "2021-05-19T17:26:53.629859Z"
    }
   },
   "outputs": [
    {
     "name": "stdout",
     "output_type": "stream",
     "text": [
      "la clave es clave1 y el valor es valor1\n",
      "la clave es 2 y el valor es valor2\n",
      "la clave es clave3 y el valor es 3\n"
     ]
    }
   ],
   "source": [
    "for clave, valor in diccionario.items():\n",
    "    print(\"la clave es %s y el valor es %s\" % (clave, valor))"
   ]
  },
  {
   "cell_type": "code",
   "execution_count": 66,
   "id": "1cfdae00",
   "metadata": {
    "execution": {
     "iopub.execute_input": "2021-05-19T17:26:53.635778Z",
     "iopub.status.busy": "2021-05-19T17:26:53.634413Z",
     "iopub.status.idle": "2021-05-19T17:26:53.637557Z",
     "shell.execute_reply": "2021-05-19T17:26:53.637100Z"
    }
   },
   "outputs": [
    {
     "name": "stdout",
     "output_type": "stream",
     "text": [
      "la clave es clave1 y el valor es valor1\n",
      "la clave es 2 y el valor es valor2\n",
      "la clave es clave3 y el valor es 3\n"
     ]
    }
   ],
   "source": [
    "for clave, valor in diccionario.items():\n",
    "    print(\"la clave es {} y el valor es {}\".format(clave, valor))"
   ]
  },
  {
   "cell_type": "code",
   "execution_count": 67,
   "id": "9cfbdab1",
   "metadata": {
    "execution": {
     "iopub.execute_input": "2021-05-19T17:26:53.642972Z",
     "iopub.status.busy": "2021-05-19T17:26:53.641709Z",
     "iopub.status.idle": "2021-05-19T17:26:53.644854Z",
     "shell.execute_reply": "2021-05-19T17:26:53.644362Z"
    },
    "slideshow": {
     "slide_type": "slide"
    }
   },
   "outputs": [
    {
     "name": "stdout",
     "output_type": "stream",
     "text": [
      "la clave es clave1 y el valor es valor1\n",
      "la clave es 2 y el valor es valor2\n",
      "la clave es clave3 y el valor es 3\n"
     ]
    }
   ],
   "source": [
    "# Cómo iterar un diccionario elemento por elemento\n",
    "for (\n",
    "    clave,\n",
    "    valor,\n",
    ") in (\n",
    "    diccionario.items()\n",
    "):  # diccionario.items() va devolviendo tuplas con el formato (clave,valor)\n",
    "    print(\n",
    "        f\"la clave es {clave} y el valor es {valor}\"\n",
    "    )  # con esta sintaxis se desempaquetan en clave y valor (similar a enumerate)"
   ]
  },
  {
   "cell_type": "code",
   "execution_count": 68,
   "id": "acbe47fe",
   "metadata": {
    "execution": {
     "iopub.execute_input": "2021-05-19T17:26:53.649986Z",
     "iopub.status.busy": "2021-05-19T17:26:53.648785Z",
     "iopub.status.idle": "2021-05-19T17:26:53.651768Z",
     "shell.execute_reply": "2021-05-19T17:26:53.651273Z"
    },
    "slideshow": {
     "slide_type": "slide"
    }
   },
   "outputs": [
    {
     "name": "stdout",
     "output_type": "stream",
     "text": [
      "clave1\n",
      "2\n",
      "clave3\n"
     ]
    }
   ],
   "source": [
    "for clave in diccionario.keys():\n",
    "    print(clave)"
   ]
  },
  {
   "cell_type": "code",
   "execution_count": 69,
   "id": "314f071b",
   "metadata": {
    "execution": {
     "iopub.execute_input": "2021-05-19T17:26:53.656915Z",
     "iopub.status.busy": "2021-05-19T17:26:53.655681Z",
     "iopub.status.idle": "2021-05-19T17:26:53.658802Z",
     "shell.execute_reply": "2021-05-19T17:26:53.658299Z"
    },
    "slideshow": {
     "slide_type": "slide"
    }
   },
   "outputs": [
    {
     "name": "stdout",
     "output_type": "stream",
     "text": [
      "valor1\n",
      "valor2\n",
      "3\n"
     ]
    }
   ],
   "source": [
    "for valor in diccionario.values():\n",
    "    print(valor)"
   ]
  },
  {
   "cell_type": "markdown",
   "id": "1f7c5ed8",
   "metadata": {},
   "source": [
    "#### Sets\n",
    "\n",
    "Son similares a los diccionarios (en eficiencia) pero se almacenan solo claves, y tienen algunas operaciones particulares.\n",
    "\n",
    "En particular, no pueden tener elementos iguales (pensar que son conjuntos)"
   ]
  },
  {
   "cell_type": "code",
   "execution_count": 70,
   "id": "70adbf4a",
   "metadata": {
    "execution": {
     "iopub.execute_input": "2021-05-19T17:26:53.662597Z",
     "iopub.status.busy": "2021-05-19T17:26:53.662035Z",
     "iopub.status.idle": "2021-05-19T17:26:53.666534Z",
     "shell.execute_reply": "2021-05-19T17:26:53.666026Z"
    }
   },
   "outputs": [],
   "source": [
    "set??"
   ]
  },
  {
   "cell_type": "code",
   "execution_count": 71,
   "id": "988046e6",
   "metadata": {
    "execution": {
     "iopub.execute_input": "2021-05-19T17:26:53.671331Z",
     "iopub.status.busy": "2021-05-19T17:26:53.670521Z",
     "iopub.status.idle": "2021-05-19T17:26:53.673251Z",
     "shell.execute_reply": "2021-05-19T17:26:53.673705Z"
    }
   },
   "outputs": [
    {
     "data": {
      "text/plain": [
       "{1, 2, 3}"
      ]
     },
     "execution_count": 1,
     "metadata": {},
     "output_type": "execute_result"
    }
   ],
   "source": [
    "# Se definen como los diccionarios pero sin hacerlos 'clave:valor', solamente una seguidilla de elementos\n",
    "{1, 2, 2, 3}"
   ]
  },
  {
   "cell_type": "code",
   "execution_count": 72,
   "id": "424241b3",
   "metadata": {
    "execution": {
     "iopub.execute_input": "2021-05-19T17:26:53.678958Z",
     "iopub.status.busy": "2021-05-19T17:26:53.677947Z",
     "iopub.status.idle": "2021-05-19T17:26:53.680770Z",
     "shell.execute_reply": "2021-05-19T17:26:53.681233Z"
    }
   },
   "outputs": [
    {
     "data": {
      "text/plain": [
       "{1, 2, 3}"
      ]
     },
     "execution_count": 1,
     "metadata": {},
     "output_type": "execute_result"
    }
   ],
   "source": [
    "set([1, 2, 2, 3])"
   ]
  },
  {
   "cell_type": "markdown",
   "id": "8eaebc08",
   "metadata": {},
   "source": [
    "## Condicionales (if...elif...else)\n",
    "\n",
    "```python\n",
    "if <condición_1>:\n",
    "    <hacer algo_1 si se da la condición_1>\n",
    "elif <condición_2>:\n",
    "    <hacer algo_2 si se da la condición_2>\n",
    "...\n",
    "elif <condición_n>:\n",
    "    <hacer algo_n si se da la condición_n>\n",
    "else:\n",
    "    <hacer otra cosa si no dan las anteriores>\n",
    "```\n",
    "\n",
    "Algo importante para notar es que los bloques se definen por **niveles de identacion**."
   ]
  },
  {
   "cell_type": "code",
   "execution_count": 73,
   "id": "529bba4e",
   "metadata": {
    "execution": {
     "iopub.execute_input": "2021-05-19T17:26:53.686890Z",
     "iopub.status.busy": "2021-05-19T17:26:53.685620Z",
     "iopub.status.idle": "2021-05-19T17:26:53.688766Z",
     "shell.execute_reply": "2021-05-19T17:26:53.688272Z"
    }
   },
   "outputs": [
    {
     "name": "stdout",
     "output_type": "stream",
     "text": [
      "uno\n"
     ]
    }
   ],
   "source": [
    "v = 1\n",
    "if v == 1:\n",
    "    print(\"uno\")\n",
    "elif v == 2:\n",
    "    print(\"dos\")\n",
    "else:\n",
    "    print(\"ni idea\")\n",
    "    print(v)"
   ]
  },
  {
   "cell_type": "markdown",
   "id": "aa9ab140",
   "metadata": {},
   "source": [
    "## Iteraciones\n",
    "\n",
    "```python\n",
    "while cond:\n",
    "    <codigo>\n",
    "```\n",
    "\n",
    "```python\n",
    "for elemento in iterable:\n",
    "    <codigo>\n",
    "```\n",
    "\n",
    "Para iterar sobre un rango de valores, usamos `range`"
   ]
  },
  {
   "cell_type": "code",
   "execution_count": 74,
   "id": "9216d3dc",
   "metadata": {
    "execution": {
     "iopub.execute_input": "2021-05-19T17:26:53.693892Z",
     "iopub.status.busy": "2021-05-19T17:26:53.692870Z",
     "iopub.status.idle": "2021-05-19T17:26:53.696037Z",
     "shell.execute_reply": "2021-05-19T17:26:53.695566Z"
    }
   },
   "outputs": [
    {
     "name": "stdout",
     "output_type": "stream",
     "text": [
      "1\n",
      "4\n",
      "7\n",
      "10\n"
     ]
    }
   ],
   "source": [
    "for i in range(1, 11, 3):\n",
    "    print(i)"
   ]
  },
  {
   "cell_type": "markdown",
   "id": "4d9d5d3c",
   "metadata": {},
   "source": [
    "## Operadores logicos\n",
    "\n",
    "`not`, `or`, `and`"
   ]
  },
  {
   "cell_type": "code",
   "execution_count": 75,
   "id": "b3800db8",
   "metadata": {
    "execution": {
     "iopub.execute_input": "2021-05-19T17:26:53.700943Z",
     "iopub.status.busy": "2021-05-19T17:26:53.699710Z",
     "iopub.status.idle": "2021-05-19T17:26:53.702724Z",
     "shell.execute_reply": "2021-05-19T17:26:53.702268Z"
    }
   },
   "outputs": [
    {
     "name": "stdout",
     "output_type": "stream",
     "text": [
      "yay\n"
     ]
    }
   ],
   "source": [
    "if True or False:\n",
    "    print(\"yay\")"
   ]
  },
  {
   "cell_type": "code",
   "execution_count": 76,
   "id": "cdc623c3",
   "metadata": {
    "execution": {
     "iopub.execute_input": "2021-05-19T17:26:53.706933Z",
     "iopub.status.busy": "2021-05-19T17:26:53.706399Z",
     "iopub.status.idle": "2021-05-19T17:26:53.708995Z",
     "shell.execute_reply": "2021-05-19T17:26:53.709413Z"
    }
   },
   "outputs": [
    {
     "data": {
      "text/plain": [
       "False"
      ]
     },
     "execution_count": 1,
     "metadata": {},
     "output_type": "execute_result"
    }
   ],
   "source": [
    "1 == 2"
   ]
  },
  {
   "cell_type": "code",
   "execution_count": 77,
   "id": "fecc8f86",
   "metadata": {
    "execution": {
     "iopub.execute_input": "2021-05-19T17:26:53.713545Z",
     "iopub.status.busy": "2021-05-19T17:26:53.713010Z",
     "iopub.status.idle": "2021-05-19T17:26:53.715708Z",
     "shell.execute_reply": "2021-05-19T17:26:53.716152Z"
    }
   },
   "outputs": [
    {
     "data": {
      "text/plain": [
       "True"
      ]
     },
     "execution_count": 1,
     "metadata": {},
     "output_type": "execute_result"
    }
   ],
   "source": [
    "1 != 2"
   ]
  },
  {
   "cell_type": "markdown",
   "id": "04413850",
   "metadata": {
    "slideshow": {
     "slide_type": "slide"
    }
   },
   "source": [
    "## Funciones en Python"
   ]
  },
  {
   "cell_type": "code",
   "execution_count": 78,
   "id": "51898a4d",
   "metadata": {
    "execution": {
     "iopub.execute_input": "2021-05-19T17:26:53.723630Z",
     "iopub.status.busy": "2021-05-19T17:26:53.722430Z",
     "iopub.status.idle": "2021-05-19T17:26:53.726119Z",
     "shell.execute_reply": "2021-05-19T17:26:53.724930Z"
    },
    "slideshow": {
     "slide_type": "slide"
    }
   },
   "outputs": [
    {
     "name": "stdout",
     "output_type": "stream",
     "text": [
      "True\n"
     ]
    },
    {
     "name": "stdout",
     "output_type": "stream",
     "text": [
      "False\n"
     ]
    }
   ],
   "source": [
    "def busqueda_binaria(lista, elemento):\n",
    "    if not lista:\n",
    "        return False\n",
    "    elif len(lista) == 1:\n",
    "        return lista[0] == elemento\n",
    "    mitad = len(lista) // 2  # // es la operación división entera\n",
    "    if lista[mitad] == elemento:\n",
    "        return True\n",
    "    if lista[mitad] > elemento:\n",
    "        return busqueda_binaria(lista[:mitad], elemento)\n",
    "    if lista[mitad] < elemento:\n",
    "        return busqueda_binaria(lista[mitad:], elemento)\n",
    "\n",
    "\n",
    "print(busqueda_binaria([1, 2, 3, 4, 5], 4))\n",
    "print(busqueda_binaria([1, 4, 6, 7, 9, 10], 2))"
   ]
  },
  {
   "cell_type": "code",
   "execution_count": 79,
   "id": "4ad405d4",
   "metadata": {
    "execution": {
     "iopub.execute_input": "2021-05-19T17:26:53.731155Z",
     "iopub.status.busy": "2021-05-19T17:26:53.729992Z",
     "iopub.status.idle": "2021-05-19T17:26:53.732946Z",
     "shell.execute_reply": "2021-05-19T17:26:53.732493Z"
    }
   },
   "outputs": [
    {
     "name": "stdout",
     "output_type": "stream",
     "text": [
      "(3, 3, 3)\n"
     ]
    }
   ],
   "source": [
    "def a(b):\n",
    "    if a == 1:\n",
    "        print(a)\n",
    "    return (b, b, b)\n",
    "\n",
    "\n",
    "print(a(3))"
   ]
  },
  {
   "cell_type": "code",
   "execution_count": 80,
   "id": "6aa76bd2",
   "metadata": {
    "execution": {
     "iopub.execute_input": "2021-05-19T17:26:53.738189Z",
     "iopub.status.busy": "2021-05-19T17:26:53.737631Z",
     "iopub.status.idle": "2021-05-19T17:26:53.746335Z",
     "shell.execute_reply": "2021-05-19T17:26:53.746803Z"
    },
    "lines_to_next_cell": 2,
    "slideshow": {
     "slide_type": "slide"
    },
    "tags": [
     "raises-exception"
    ]
   },
   "outputs": [
    {
     "name": "stdout",
     "output_type": "stream",
     "text": [
      "3\n",
      "3.0\n",
      "3.0\n",
      "hola como te va\n",
      "[1, 2, 3, 4, 5]\n"
     ]
    },
    {
     "ename": "TypeError",
     "evalue": "can only concatenate str (not \"int\") to str",
     "output_type": "error",
     "traceback": [
      "\u001b[0;31m---------------------------------------------------------------------------\u001b[0m",
      "\u001b[0;31mTypeError\u001b[0m                                 Traceback (most recent call last)",
      "\u001b[0;32m<ipython-input-1-c2a6a99a90c7>\u001b[0m in \u001b[0;36m<module>\u001b[0;34m\u001b[0m\n\u001b[1;32m      8\u001b[0m \u001b[0mprint\u001b[0m\u001b[0;34m(\u001b[0m\u001b[0msuma\u001b[0m\u001b[0;34m(\u001b[0m\u001b[0;34m\"hola \"\u001b[0m\u001b[0;34m,\u001b[0m \u001b[0;34m\"como te va\"\u001b[0m\u001b[0;34m)\u001b[0m\u001b[0;34m)\u001b[0m\u001b[0;34m\u001b[0m\u001b[0;34m\u001b[0m\u001b[0m\n\u001b[1;32m      9\u001b[0m \u001b[0mprint\u001b[0m\u001b[0;34m(\u001b[0m\u001b[0msuma\u001b[0m\u001b[0;34m(\u001b[0m\u001b[0;34m[\u001b[0m\u001b[0;36m1\u001b[0m\u001b[0;34m,\u001b[0m \u001b[0;36m2\u001b[0m\u001b[0;34m,\u001b[0m \u001b[0;36m3\u001b[0m\u001b[0;34m]\u001b[0m\u001b[0;34m,\u001b[0m \u001b[0;34m[\u001b[0m\u001b[0;36m4\u001b[0m\u001b[0;34m,\u001b[0m \u001b[0;36m5\u001b[0m\u001b[0;34m]\u001b[0m\u001b[0;34m)\u001b[0m\u001b[0;34m)\u001b[0m\u001b[0;34m\u001b[0m\u001b[0;34m\u001b[0m\u001b[0m\n\u001b[0;32m---> 10\u001b[0;31m \u001b[0mprint\u001b[0m\u001b[0;34m(\u001b[0m\u001b[0msuma\u001b[0m\u001b[0;34m(\u001b[0m\u001b[0;34m\"1\"\u001b[0m\u001b[0;34m,\u001b[0m \u001b[0;36m3\u001b[0m\u001b[0;34m)\u001b[0m\u001b[0;34m)\u001b[0m  \u001b[0;31m# Falla\u001b[0m\u001b[0;34m\u001b[0m\u001b[0;34m\u001b[0m\u001b[0m\n\u001b[0m",
      "\u001b[0;32m<ipython-input-1-c2a6a99a90c7>\u001b[0m in \u001b[0;36msuma\u001b[0;34m(a, b)\u001b[0m\n\u001b[1;32m      1\u001b[0m \u001b[0;32mdef\u001b[0m \u001b[0msuma\u001b[0m\u001b[0;34m(\u001b[0m\u001b[0ma\u001b[0m\u001b[0;34m,\u001b[0m \u001b[0mb\u001b[0m\u001b[0;34m)\u001b[0m\u001b[0;34m:\u001b[0m\u001b[0;34m\u001b[0m\u001b[0;34m\u001b[0m\u001b[0m\n\u001b[0;32m----> 2\u001b[0;31m     \u001b[0;32mreturn\u001b[0m \u001b[0ma\u001b[0m \u001b[0;34m+\u001b[0m \u001b[0mb\u001b[0m\u001b[0;34m\u001b[0m\u001b[0;34m\u001b[0m\u001b[0m\n\u001b[0m\u001b[1;32m      3\u001b[0m \u001b[0;34m\u001b[0m\u001b[0m\n\u001b[1;32m      4\u001b[0m \u001b[0;34m\u001b[0m\u001b[0m\n\u001b[1;32m      5\u001b[0m \u001b[0mprint\u001b[0m\u001b[0;34m(\u001b[0m\u001b[0msuma\u001b[0m\u001b[0;34m(\u001b[0m\u001b[0;36m1\u001b[0m\u001b[0;34m,\u001b[0m \u001b[0;36m2\u001b[0m\u001b[0;34m)\u001b[0m\u001b[0;34m)\u001b[0m\u001b[0;34m\u001b[0m\u001b[0;34m\u001b[0m\u001b[0m\n",
      "\u001b[0;31mTypeError\u001b[0m: can only concatenate str (not \"int\") to str"
     ]
    }
   ],
   "source": [
    "def suma(a, b):\n",
    "    return a + b\n",
    "\n",
    "\n",
    "print(suma(1, 2))\n",
    "print(suma(1.0, 2.0))\n",
    "print(suma(1.0, 2))\n",
    "print(suma(\"hola \", \"como te va\"))\n",
    "print(suma([1, 2, 3], [4, 5]))\n",
    "print(suma(\"1\", 3))  # Falla"
   ]
  },
  {
   "cell_type": "code",
   "execution_count": 81,
   "id": "b34e6904",
   "metadata": {
    "execution": {
     "iopub.execute_input": "2021-05-19T17:26:53.751696Z",
     "iopub.status.busy": "2021-05-19T17:26:53.750538Z",
     "iopub.status.idle": "2021-05-19T17:26:53.753419Z",
     "shell.execute_reply": "2021-05-19T17:26:53.753024Z"
    }
   },
   "outputs": [
    {
     "name": "stdout",
     "output_type": "stream",
     "text": [
      "2.0\n"
     ]
    }
   ],
   "source": [
    "# El valor por default de divisor es 1\n",
    "\n",
    "\n",
    "def division(dividendo, divisor=2):\n",
    "    return dividendo / divisor\n",
    "\n",
    "\n",
    "print(division(4))  # Usa el valor por default"
   ]
  },
  {
   "cell_type": "code",
   "execution_count": 82,
   "id": "45f29a73",
   "metadata": {
    "execution": {
     "iopub.execute_input": "2021-05-19T17:26:53.757470Z",
     "iopub.status.busy": "2021-05-19T17:26:53.756582Z",
     "iopub.status.idle": "2021-05-19T17:26:53.762752Z",
     "shell.execute_reply": "2021-05-19T17:26:53.763245Z"
    },
    "tags": [
     "raises-exception"
    ]
   },
   "outputs": [
    {
     "name": "stdout",
     "output_type": "stream",
     "text": [
      "0.5\n",
      "0.5\n"
     ]
    },
    {
     "ename": "TypeError",
     "evalue": "division() missing 1 required positional argument: 'dividendo'",
     "output_type": "error",
     "traceback": [
      "\u001b[0;31m---------------------------------------------------------------------------\u001b[0m",
      "\u001b[0;31mTypeError\u001b[0m                                 Traceback (most recent call last)",
      "\u001b[0;32m<ipython-input-1-34eff3833138>\u001b[0m in \u001b[0;36m<module>\u001b[0;34m\u001b[0m\n\u001b[1;32m      1\u001b[0m \u001b[0mprint\u001b[0m\u001b[0;34m(\u001b[0m\u001b[0mdivision\u001b[0m\u001b[0;34m(\u001b[0m\u001b[0;36m1\u001b[0m\u001b[0;34m,\u001b[0m \u001b[0;36m2\u001b[0m\u001b[0;34m)\u001b[0m\u001b[0;34m)\u001b[0m  \u001b[0;31m# Parámetros por orden\u001b[0m\u001b[0;34m\u001b[0m\u001b[0;34m\u001b[0m\u001b[0m\n\u001b[1;32m      2\u001b[0m \u001b[0mprint\u001b[0m\u001b[0;34m(\u001b[0m\u001b[0mdivision\u001b[0m\u001b[0;34m(\u001b[0m\u001b[0mdividendo\u001b[0m\u001b[0;34m=\u001b[0m\u001b[0;36m1\u001b[0m\u001b[0;34m,\u001b[0m \u001b[0mdivisor\u001b[0m\u001b[0;34m=\u001b[0m\u001b[0;36m2\u001b[0m\u001b[0;34m)\u001b[0m\u001b[0;34m)\u001b[0m  \u001b[0;31m# Parámetros por nombre\u001b[0m\u001b[0;34m\u001b[0m\u001b[0;34m\u001b[0m\u001b[0m\n\u001b[0;32m----> 3\u001b[0;31m \u001b[0mprint\u001b[0m\u001b[0;34m(\u001b[0m\u001b[0mdivision\u001b[0m\u001b[0;34m(\u001b[0m\u001b[0mdivisor\u001b[0m\u001b[0;34m=\u001b[0m\u001b[0;36m2\u001b[0m\u001b[0;34m)\u001b[0m\u001b[0;34m)\u001b[0m\u001b[0;34m\u001b[0m\u001b[0;34m\u001b[0m\u001b[0m\n\u001b[0m",
      "\u001b[0;31mTypeError\u001b[0m: division() missing 1 required positional argument: 'dividendo'"
     ]
    }
   ],
   "source": [
    "print(division(1, 2))  # Parámetros por orden\n",
    "print(division(dividendo=1, divisor=2))  # Parámetros por nombre\n",
    "print(division(divisor=2))"
   ]
  },
  {
   "cell_type": "code",
   "execution_count": 83,
   "id": "7d53e595",
   "metadata": {
    "execution": {
     "iopub.execute_input": "2021-05-19T17:26:53.768165Z",
     "iopub.status.busy": "2021-05-19T17:26:53.766912Z",
     "iopub.status.idle": "2021-05-19T17:26:53.770019Z",
     "shell.execute_reply": "2021-05-19T17:26:53.769499Z"
    }
   },
   "outputs": [
    {
     "name": "stdout",
     "output_type": "stream",
     "text": [
      "0.5\n"
     ]
    }
   ],
   "source": [
    "print(division(divisor=2, dividendo=1))"
   ]
  },
  {
   "cell_type": "code",
   "execution_count": 84,
   "id": "d139bf85",
   "metadata": {
    "execution": {
     "iopub.execute_input": "2021-05-19T17:26:53.776162Z",
     "iopub.status.busy": "2021-05-19T17:26:53.774890Z",
     "iopub.status.idle": "2021-05-19T17:26:53.778023Z",
     "shell.execute_reply": "2021-05-19T17:26:53.777512Z"
    }
   },
   "outputs": [
    {
     "name": "stdout",
     "output_type": "stream",
     "text": [
      "['a', 'b', 'c']\n",
      "[1, 2, 3]\n",
      "['hola', ' don', ' pepito']\n",
      "hola -  don -  pepito\n"
     ]
    }
   ],
   "source": [
    "# Funciones básicas ya en el lenguaje\n",
    "# Hechas para funcionar para distintos tipos\n",
    "\n",
    "string_ordenado = sorted('bca')\n",
    "print(string_ordenado)\n",
    "\n",
    "lista_ordenada = sorted([1, 3, 2])\n",
    "print(lista_ordenada)\n",
    "\n",
    "separadas = \"hola, don, pepito\".split(\",\")\n",
    "print(separadas)\n",
    "unidas = \" - \".join(separadas)\n",
    "print(unidas)"
   ]
  },
  {
   "cell_type": "markdown",
   "id": "9f1d9ffa",
   "metadata": {},
   "source": [
    "## Módulos\n",
    "\n",
    "Para incluir alguna biblioteca de funciones se usa `import`. Pueden ser cosas ya predefinidas en Python (`math`, `random`, etc), nombres de archivos en nuestro directorio (por ejemplo, para `mimodulo.py` ponemos `import mimodulo`) o bibliotecas instaladas por el usuario"
   ]
  },
  {
   "cell_type": "code",
   "execution_count": 85,
   "id": "d8f32092",
   "metadata": {
    "execution": {
     "iopub.execute_input": "2021-05-19T17:26:53.782905Z",
     "iopub.status.busy": "2021-05-19T17:26:53.781622Z",
     "iopub.status.idle": "2021-05-19T17:26:53.784731Z",
     "shell.execute_reply": "2021-05-19T17:26:53.784244Z"
    }
   },
   "outputs": [
    {
     "name": "stdout",
     "output_type": "stream",
     "text": [
      "3.141592653589793\n"
     ]
    }
   ],
   "source": [
    "import math\n",
    "\n",
    "print(math.pi)"
   ]
  },
  {
   "cell_type": "code",
   "execution_count": 86,
   "id": "fc9881cc",
   "metadata": {
    "execution": {
     "iopub.execute_input": "2021-05-19T17:26:53.790137Z",
     "iopub.status.busy": "2021-05-19T17:26:53.789183Z",
     "iopub.status.idle": "2021-05-19T17:26:53.791753Z",
     "shell.execute_reply": "2021-05-19T17:26:53.792205Z"
    }
   },
   "outputs": [
    {
     "name": "stdout",
     "output_type": "stream",
     "text": [
      "3.141592653589793 2.718281828459045\n"
     ]
    }
   ],
   "source": [
    "from math import pi, e\n",
    "\n",
    "print(pi, e)"
   ]
  },
  {
   "cell_type": "code",
   "execution_count": 87,
   "id": "5bd8f25f",
   "metadata": {
    "execution": {
     "iopub.execute_input": "2021-05-19T17:26:53.797085Z",
     "iopub.status.busy": "2021-05-19T17:26:53.796505Z",
     "iopub.status.idle": "2021-05-19T17:26:53.799214Z",
     "shell.execute_reply": "2021-05-19T17:26:53.799666Z"
    }
   },
   "outputs": [
    {
     "data": {
      "text/plain": [
       "2"
      ]
     },
     "execution_count": 1,
     "metadata": {},
     "output_type": "execute_result"
    }
   ],
   "source": [
    "math.gcd(56, 78)"
   ]
  },
  {
   "cell_type": "markdown",
   "id": "608bdc1f",
   "metadata": {},
   "source": [
    "## Manejo de excepciones\n",
    "\n",
    "Se pueden encapsular errores esperados en un bloque 'try/except' para evitar cortar el flujo del programa"
   ]
  },
  {
   "cell_type": "code",
   "execution_count": 88,
   "id": "21f9393d",
   "metadata": {
    "execution": {
     "iopub.execute_input": "2021-05-19T17:26:53.808475Z",
     "iopub.status.busy": "2021-05-19T17:26:53.807890Z",
     "iopub.status.idle": "2021-05-19T17:26:53.810442Z",
     "shell.execute_reply": "2021-05-19T17:26:53.810899Z"
    },
    "tags": [
     "raises-exception"
    ]
   },
   "outputs": [
    {
     "ename": "ZeroDivisionError",
     "evalue": "division by zero",
     "output_type": "error",
     "traceback": [
      "\u001b[0;31m---------------------------------------------------------------------------\u001b[0m",
      "\u001b[0;31mZeroDivisionError\u001b[0m                         Traceback (most recent call last)",
      "\u001b[0;32m<ipython-input-1-f031f77b1a55>\u001b[0m in \u001b[0;36m<module>\u001b[0;34m\u001b[0m\n\u001b[0;32m----> 1\u001b[0;31m \u001b[0mdivision\u001b[0m\u001b[0;34m(\u001b[0m\u001b[0;36m1\u001b[0m\u001b[0;34m,\u001b[0m \u001b[0;36m0\u001b[0m\u001b[0;34m)\u001b[0m  \u001b[0;31m# No se puede dividir por cero\u001b[0m\u001b[0;34m\u001b[0m\u001b[0;34m\u001b[0m\u001b[0m\n\u001b[0m",
      "\u001b[0;32m<ipython-input-1-0d991d7de762>\u001b[0m in \u001b[0;36mdivision\u001b[0;34m(dividendo, divisor)\u001b[0m\n\u001b[1;32m      3\u001b[0m \u001b[0;34m\u001b[0m\u001b[0m\n\u001b[1;32m      4\u001b[0m \u001b[0;32mdef\u001b[0m \u001b[0mdivision\u001b[0m\u001b[0;34m(\u001b[0m\u001b[0mdividendo\u001b[0m\u001b[0;34m,\u001b[0m \u001b[0mdivisor\u001b[0m\u001b[0;34m=\u001b[0m\u001b[0;36m2\u001b[0m\u001b[0;34m)\u001b[0m\u001b[0;34m:\u001b[0m\u001b[0;34m\u001b[0m\u001b[0;34m\u001b[0m\u001b[0m\n\u001b[0;32m----> 5\u001b[0;31m     \u001b[0;32mreturn\u001b[0m \u001b[0mdividendo\u001b[0m \u001b[0;34m/\u001b[0m \u001b[0mdivisor\u001b[0m\u001b[0;34m\u001b[0m\u001b[0;34m\u001b[0m\u001b[0m\n\u001b[0m\u001b[1;32m      6\u001b[0m \u001b[0;34m\u001b[0m\u001b[0m\n\u001b[1;32m      7\u001b[0m \u001b[0;34m\u001b[0m\u001b[0m\n",
      "\u001b[0;31mZeroDivisionError\u001b[0m: division by zero"
     ]
    }
   ],
   "source": [
    "division(1, 0)  # No se puede dividir por cero"
   ]
  },
  {
   "cell_type": "code",
   "execution_count": 89,
   "id": "803e369b",
   "metadata": {
    "execution": {
     "iopub.execute_input": "2021-05-19T17:26:53.816201Z",
     "iopub.status.busy": "2021-05-19T17:26:53.815205Z",
     "iopub.status.idle": "2021-05-19T17:26:53.818300Z",
     "shell.execute_reply": "2021-05-19T17:26:53.817818Z"
    }
   },
   "outputs": [
    {
     "name": "stdout",
     "output_type": "stream",
     "text": [
      "No se puede dividir por cero, ojo! division by zero\n",
      "1\n"
     ]
    }
   ],
   "source": [
    "try:\n",
    "    division(1, 0)\n",
    "except (ZeroDivisionError, TypeError) as e:\n",
    "    print('No se puede dividir por cero, ojo!', e)\n",
    "finally:\n",
    "    print(1)"
   ]
  },
  {
   "cell_type": "markdown",
   "id": "47379362",
   "metadata": {
    "slideshow": {
     "slide_type": "slide"
    }
   },
   "source": [
    "## Lectura y escritura de archivos"
   ]
  },
  {
   "cell_type": "code",
   "execution_count": 90,
   "id": "0be5b79a",
   "metadata": {
    "execution": {
     "iopub.execute_input": "2021-05-19T17:26:53.824064Z",
     "iopub.status.busy": "2021-05-19T17:26:53.823119Z",
     "iopub.status.idle": "2021-05-19T17:26:53.825606Z",
     "shell.execute_reply": "2021-05-19T17:26:53.826073Z"
    },
    "slideshow": {
     "slide_type": "slide"
    }
   },
   "outputs": [
    {
     "name": "stdout",
     "output_type": "stream",
     "text": [
      "<_io.TextIOWrapper name='archivo.csv' mode='w' encoding='UTF-8'>\n"
     ]
    }
   ],
   "source": [
    "import random\n",
    "\n",
    "with open(\n",
    "    'archivo.csv', 'w'\n",
    ") as archivo:  # Al usar esta sintaxis no es necesario hacer close\n",
    "    archivo.write(\"Alumno, nota\\n\")\n",
    "    # Tambien de forma similar al fprintf se puede hacer:\n",
    "    # print(\"Alumno, nota\\n\", file=archivo)\n",
    "    for i in range(0, 10):\n",
    "        archivo.write(f\"{i},{random.randrange(0,10)}\\n\")\n",
    "\n",
    "print(archivo)  # Comentario aclaratorio:\n",
    "# Las variables definidas en un determinado scope siguen existiendo por fuera del mismo.\n",
    "# Se debe tener cuidado con esto, ya que nada garantiza que por fuera el valor sea el esperado."
   ]
  },
  {
   "cell_type": "code",
   "execution_count": 91,
   "id": "69295a01",
   "metadata": {
    "execution": {
     "iopub.execute_input": "2021-05-19T17:26:53.831573Z",
     "iopub.status.busy": "2021-05-19T17:26:53.831044Z",
     "iopub.status.idle": "2021-05-19T17:26:53.833597Z",
     "shell.execute_reply": "2021-05-19T17:26:53.834036Z"
    },
    "slideshow": {
     "slide_type": "slide"
    }
   },
   "outputs": [
    {
     "name": "stdout",
     "output_type": "stream",
     "text": [
      "Alumno, nota\n",
      "0,0\n",
      "1,4\n",
      "2,9\n",
      "3,7\n",
      "4,0\n",
      "5,2\n",
      "6,0\n",
      "7,6\n",
      "8,1\n",
      "9,5\n"
     ]
    }
   ],
   "source": [
    "with open('archivo.csv', 'r') as f:\n",
    "    for linea in f:\n",
    "        print(linea.strip())"
   ]
  },
  {
   "cell_type": "code",
   "execution_count": 92,
   "id": "0c7fc27f",
   "metadata": {
    "execution": {
     "iopub.execute_input": "2021-05-19T17:26:53.838727Z",
     "iopub.status.busy": "2021-05-19T17:26:53.837705Z",
     "iopub.status.idle": "2021-05-19T17:26:53.840445Z",
     "shell.execute_reply": "2021-05-19T17:26:53.840870Z"
    }
   },
   "outputs": [
    {
     "name": "stdout",
     "output_type": "stream",
     "text": [
      "Alumno, nota\n",
      "0,0\n",
      "1,4\n",
      "2,9\n",
      "3,7\n",
      "4,0\n",
      "5,2\n",
      "6,0\n",
      "7,6\n",
      "8,1\n",
      "9,5\n",
      "\n"
     ]
    }
   ],
   "source": [
    "with open('archivo.csv', 'r') as f:\n",
    "    print(f.read())"
   ]
  },
  {
   "cell_type": "code",
   "execution_count": 93,
   "id": "9b172632",
   "metadata": {
    "execution": {
     "iopub.execute_input": "2021-05-19T17:26:53.844747Z",
     "iopub.status.busy": "2021-05-19T17:26:53.844179Z",
     "iopub.status.idle": "2021-05-19T17:26:53.846357Z",
     "shell.execute_reply": "2021-05-19T17:26:53.846785Z"
    }
   },
   "outputs": [],
   "source": [
    "f = open('archivo.csv', 'w')\n",
    "f.write(\"algo, algo\")\n",
    "f.close()"
   ]
  },
  {
   "cell_type": "markdown",
   "id": "bbdf64b9",
   "metadata": {
    "slideshow": {
     "slide_type": "slide"
    }
   },
   "source": [
    "## Objetos\n",
    "\n",
    "Los objetos tienen metodos y atributos:\n",
    "- Atributos: equivalentes a variables.\n",
    "- Métodos: equivalentes a las primitivas."
   ]
  },
  {
   "cell_type": "markdown",
   "id": "be69f8b7",
   "metadata": {
    "slideshow": {
     "slide_type": "slide"
    }
   },
   "source": [
    "### Cómo creo una clase"
   ]
  },
  {
   "cell_type": "code",
   "execution_count": 94,
   "id": "3d4ef651",
   "metadata": {
    "execution": {
     "iopub.execute_input": "2021-05-19T17:26:53.852314Z",
     "iopub.status.busy": "2021-05-19T17:26:53.848956Z",
     "iopub.status.idle": "2021-05-19T17:26:53.854532Z",
     "shell.execute_reply": "2021-05-19T17:26:53.854038Z"
    },
    "slideshow": {
     "slide_type": "slide"
    }
   },
   "outputs": [],
   "source": [
    "class Nodo(object):\n",
    "    def __init__(self, dato, siguiente=None):\n",
    "        self._dato = dato\n",
    "        self._siguiente = siguiente\n",
    "\n",
    "    @property\n",
    "    def dato(self):\n",
    "        return self._dato\n",
    "\n",
    "    @property\n",
    "    def proximo(self):\n",
    "        return self._siguiente\n",
    "\n",
    "    @proximo.setter\n",
    "    def proximo(self, siguiente):\n",
    "        self._siguiente = siguiente\n",
    "\n",
    "    def __repr__(self):\n",
    "        return str(self.dato)\n",
    "\n",
    "    def __str__(self):\n",
    "        return str(self.dato)"
   ]
  },
  {
   "cell_type": "code",
   "execution_count": 95,
   "id": "38e9ad01",
   "metadata": {
    "execution": {
     "iopub.execute_input": "2021-05-19T17:26:53.859222Z",
     "iopub.status.busy": "2021-05-19T17:26:53.858051Z",
     "iopub.status.idle": "2021-05-19T17:26:53.861182Z",
     "shell.execute_reply": "2021-05-19T17:26:53.860696Z"
    },
    "slideshow": {
     "slide_type": "slide"
    }
   },
   "outputs": [
    {
     "name": "stdout",
     "output_type": "stream",
     "text": [
      "hola\n"
     ]
    }
   ],
   "source": [
    "nodo = Nodo(\"hola\")\n",
    "print(nodo)"
   ]
  },
  {
   "cell_type": "code",
   "execution_count": 96,
   "id": "753349eb",
   "metadata": {
    "execution": {
     "iopub.execute_input": "2021-05-19T17:26:53.866189Z",
     "iopub.status.busy": "2021-05-19T17:26:53.864940Z",
     "iopub.status.idle": "2021-05-19T17:26:53.868008Z",
     "shell.execute_reply": "2021-05-19T17:26:53.867520Z"
    },
    "slideshow": {
     "slide_type": "slide"
    }
   },
   "outputs": [
    {
     "name": "stdout",
     "output_type": "stream",
     "text": [
      "[hola, lala]\n"
     ]
    }
   ],
   "source": [
    "nodo2 = Nodo(\"lala\")\n",
    "print([nodo, nodo2])"
   ]
  },
  {
   "cell_type": "code",
   "execution_count": 97,
   "id": "3fe80790",
   "metadata": {
    "execution": {
     "iopub.execute_input": "2021-05-19T17:26:53.872855Z",
     "iopub.status.busy": "2021-05-19T17:26:53.871670Z",
     "iopub.status.idle": "2021-05-19T17:26:53.874770Z",
     "shell.execute_reply": "2021-05-19T17:26:53.874319Z"
    },
    "slideshow": {
     "slide_type": "slide"
    }
   },
   "outputs": [
    {
     "name": "stdout",
     "output_type": "stream",
     "text": [
      "hola\n"
     ]
    }
   ],
   "source": [
    "nodo3 = nodo.dato\n",
    "print(nodo3)"
   ]
  },
  {
   "cell_type": "markdown",
   "id": "8ace9685",
   "metadata": {
    "slideshow": {
     "slide_type": "slide"
    }
   },
   "source": [
    "### Ejemplo: Lista Enlazada"
   ]
  },
  {
   "cell_type": "code",
   "execution_count": 98,
   "id": "98203567",
   "metadata": {
    "execution": {
     "iopub.execute_input": "2021-05-19T17:26:53.885273Z",
     "iopub.status.busy": "2021-05-19T17:26:53.883986Z",
     "iopub.status.idle": "2021-05-19T17:26:53.885906Z",
     "shell.execute_reply": "2021-05-19T17:26:53.886380Z"
    },
    "slideshow": {
     "slide_type": "slide"
    }
   },
   "outputs": [],
   "source": [
    "class ListaEnlazada(object):\n",
    "    def __init__(self):\n",
    "        self._primero = None\n",
    "        self._ultimo = None\n",
    "        self._largo = 0\n",
    "\n",
    "    def __len__(self):\n",
    "        return self._largo\n",
    "\n",
    "    def insertar_al_principio(self, dato):\n",
    "        nodo = Nodo(dato, self._primero)\n",
    "        self._primero = nodo\n",
    "        self._largo += 1\n",
    "        if self._largo == 1:\n",
    "            self._ultimo = nodo\n",
    "\n",
    "    def insertar_al_final(self, dato):\n",
    "        if self._largo != 0:\n",
    "            nodo = Nodo(dato)\n",
    "            nodo_anterior = self._ultimo\n",
    "            nodo_anterior._siguiente = nodo\n",
    "            self._ultimo = nodo\n",
    "            self._largo += 1\n",
    "        else:\n",
    "            self.insertar_al_principio(dato)\n",
    "\n",
    "    @property\n",
    "    def primero(self):\n",
    "        return self._primero.dato\n",
    "\n",
    "    def borrar_primero(self):\n",
    "        dato = self.primero.dato\n",
    "        self._primero = self.primero.siguiente\n",
    "        self._largo -= 1\n",
    "        if self._largo == 0:\n",
    "            self._ultimo = None\n",
    "        return dato\n",
    "\n",
    "    def __str__(self):\n",
    "        datos = []\n",
    "        nodo_actual = self._primero\n",
    "        while nodo_actual:\n",
    "            datos.append(nodo_actual.dato)\n",
    "            nodo_actual = nodo_actual.proximo\n",
    "        return \" -> \".join(datos)\n",
    "\n",
    "    def __repr__(self):\n",
    "        return self.__str__()"
   ]
  },
  {
   "cell_type": "code",
   "execution_count": 99,
   "id": "6f5aba40",
   "metadata": {
    "execution": {
     "iopub.execute_input": "2021-05-19T17:26:53.891618Z",
     "iopub.status.busy": "2021-05-19T17:26:53.890820Z",
     "iopub.status.idle": "2021-05-19T17:26:53.893873Z",
     "shell.execute_reply": "2021-05-19T17:26:53.894365Z"
    },
    "slideshow": {
     "slide_type": "slide"
    }
   },
   "outputs": [
    {
     "data": {
      "text/plain": [
       "2"
      ]
     },
     "execution_count": 1,
     "metadata": {},
     "output_type": "execute_result"
    }
   ],
   "source": [
    "lista = ListaEnlazada()\n",
    "lista.insertar_al_principio(\"Primer Dato\")\n",
    "lista.insertar_al_principio(\"Primer primer Dato\")\n",
    "len(lista)"
   ]
  },
  {
   "cell_type": "code",
   "execution_count": 100,
   "id": "b7d79089",
   "metadata": {
    "execution": {
     "iopub.execute_input": "2021-05-19T17:26:53.898931Z",
     "iopub.status.busy": "2021-05-19T17:26:53.898164Z",
     "iopub.status.idle": "2021-05-19T17:26:53.900820Z",
     "shell.execute_reply": "2021-05-19T17:26:53.901238Z"
    }
   },
   "outputs": [
    {
     "data": {
      "text/plain": [
       "Primer primer Dato -> Primer Dato"
      ]
     },
     "execution_count": 1,
     "metadata": {},
     "output_type": "execute_result"
    }
   ],
   "source": [
    "lista"
   ]
  },
  {
   "cell_type": "code",
   "execution_count": 101,
   "id": "dcd5315b",
   "metadata": {
    "execution": {
     "iopub.execute_input": "2021-05-19T17:26:53.905880Z",
     "iopub.status.busy": "2021-05-19T17:26:53.904709Z",
     "iopub.status.idle": "2021-05-19T17:26:53.907715Z",
     "shell.execute_reply": "2021-05-19T17:26:53.907229Z"
    },
    "slideshow": {
     "slide_type": "slide"
    }
   },
   "outputs": [
    {
     "name": "stdout",
     "output_type": "stream",
     "text": [
      "Primer primer Dato\n"
     ]
    }
   ],
   "source": [
    "elemento = lista.primero\n",
    "print(elemento)"
   ]
  },
  {
   "cell_type": "markdown",
   "id": "f9654c33",
   "metadata": {},
   "source": [
    "## Recursos\n",
    "\n",
    "* [Taller de Python de Algoritmos II](https://github.com/algoritmos-rw/algo2_apuntes)\n",
    "\n",
    "* [Documentación de Python 3](https://docs.python.org/3/tutorial/)\n",
    "\n",
    "* [Apunte de Algoritmos y Programación I](https://algoritmos1rw.ddns.net/material)\n",
    "\n",
    "* [Automate the Boring Stuff with Python](http://automatetheboringstuff.com/)\n",
    "\n",
    "* [Curso Python](https://pythoncurso.github.io)\n",
    "\n",
    "* [Python Tutor](http://pythontutor.com/)\n",
    "\n",
    "* [Learn Python3 in Y minutes](https://learnxinyminutes.com/docs/python3/)\n",
    "\n",
    "* [Bibliografía de Algoritmos y Programación I](https://algoritmos1rw.ddns.net/bibliografia)"
   ]
  }
 ],
 "metadata": {
  "jupytext": {
   "encoding": "# -*- coding: utf-8 -*-",
   "formats": "ipynb,py:light"
  },
  "kernelspec": {
   "display_name": "Python 3 (venv)",
   "language": "python",
   "name": "python3"
  },
  "language_info": {
   "codemirror_mode": {
    "name": "ipython",
    "version": 3
   },
   "file_extension": ".py",
   "mimetype": "text/x-python",
   "name": "python",
   "nbconvert_exporter": "python",
   "pygments_lexer": "ipython3",
   "version": "3.7.10"
  }
 },
 "nbformat": 4,
 "nbformat_minor": 5
}
