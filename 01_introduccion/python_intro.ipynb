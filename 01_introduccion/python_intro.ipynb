{
 "cells": [
  {
   "cell_type": "markdown",
   "id": "cd26d36d",
   "metadata": {},
   "source": [
    "# Python"
   ]
  },
  {
   "cell_type": "markdown",
   "id": "b8c49b20",
   "metadata": {
    "slideshow": {
     "slide_type": "slide"
    }
   },
   "source": [
    "## Un poco de Historia"
   ]
  },
  {
   "cell_type": "markdown",
   "id": "d8deef31",
   "metadata": {
    "slideshow": {
     "slide_type": "subslide"
    }
   },
   "source": [
    "Python fue creado a finales de los años 80 por un programador holandés llamado **Guido van Rossum**,\n",
    "quien sigue siendo aún hoy el líder del desarrollo del lenguaje.\n",
    "\n",
    "(Edit julio 2018: [ya no más](https://www.mail-archive.com/python-committers@python.org/msg05628.html))"
   ]
  },
  {
   "cell_type": "markdown",
   "id": "4b244f41",
   "metadata": {
    "slideshow": {
     "slide_type": "subslide"
    }
   },
   "source": [
    "El nombre del lenguaje proviene de los humoristas británicos Monty Python.\n",
    "\n",
    ">*\"I chose Python as a working title for the project, being in a slightly irreverent mood (and a big fan of Monty Python's Flying Circus).\"*"
   ]
  },
  {
   "cell_type": "markdown",
   "id": "c511c98d",
   "metadata": {
    "slideshow": {
     "slide_type": "slide"
    }
   },
   "source": [
    "## Caracteristicas\n",
    "\n",
    "- Interpretado\n",
    "- Tipado dinamico\n",
    "- Multiparadigma\n",
    "- Alto nivel\n",
    "- Tiene un recolector de basura (no hay malloc, free, realloc, etc)"
   ]
  },
  {
   "cell_type": "markdown",
   "id": "e7333b99",
   "metadata": {},
   "source": [
    "## ¿Cómo empezar?\n",
    "\n",
    "* Al ser un lenguaje *interpretado*, se puede ir escribiendo a medida que se ejecuta, sin necesidad de compilar de antemano! Solamente hace falta escribir `python` o `python3` en una terminal para empezar\n",
    "\n",
    "* También, permite escribir archivos y correrlos. Crear un archivo con extensión `.py` y luego correr `python miarchivo.py` en laterminal"
   ]
  },
  {
   "cell_type": "markdown",
   "id": "167a0cb5",
   "metadata": {
    "slideshow": {
     "slide_type": "slide"
    }
   },
   "source": [
    "## El Zen de Python"
   ]
  },
  {
   "cell_type": "code",
   "execution_count": 1,
   "id": "38d4e1a9",
   "metadata": {
    "execution": {
     "iopub.execute_input": "2021-09-20T13:37:38.583317Z",
     "iopub.status.busy": "2021-09-20T13:37:38.582370Z",
     "iopub.status.idle": "2021-09-20T13:37:38.638105Z",
     "shell.execute_reply": "2021-09-20T13:37:38.637130Z"
    },
    "slideshow": {
     "slide_type": "slide"
    }
   },
   "outputs": [
    {
     "name": "stdout",
     "output_type": "stream",
     "text": [
      "The Zen of Python, by Tim Peters\n",
      "\n",
      "Beautiful is better than ugly.\n",
      "Explicit is better than implicit.\n",
      "Simple is better than complex.\n",
      "Complex is better than complicated.\n",
      "Flat is better than nested.\n",
      "Sparse is better than dense.\n",
      "Readability counts.\n",
      "Special cases aren't special enough to break the rules.\n",
      "Although practicality beats purity.\n",
      "Errors should never pass silently.\n",
      "Unless explicitly silenced.\n",
      "In the face of ambiguity, refuse the temptation to guess.\n",
      "There should be one-- and preferably only one --obvious way to do it.\n",
      "Although that way may not be obvious at first unless you're Dutch.\n",
      "Now is better than never.\n",
      "Although never is often better than *right* now.\n",
      "If the implementation is hard to explain, it's a bad idea.\n",
      "If the implementation is easy to explain, it may be a good idea.\n",
      "Namespaces are one honking great idea -- let's do more of those!\n"
     ]
    }
   ],
   "source": [
    "import this"
   ]
  },
  {
   "cell_type": "markdown",
   "id": "5bbe5633",
   "metadata": {
    "slideshow": {
     "slide_type": "slide"
    }
   },
   "source": [
    "## Conocimientos Básicos de Python: Variables y Tipos"
   ]
  },
  {
   "cell_type": "code",
   "execution_count": 2,
   "id": "029af896",
   "metadata": {
    "execution": {
     "iopub.execute_input": "2021-09-20T13:37:38.644435Z",
     "iopub.status.busy": "2021-09-20T13:37:38.643160Z",
     "iopub.status.idle": "2021-09-20T13:37:38.646267Z",
     "shell.execute_reply": "2021-09-20T13:37:38.645789Z"
    },
    "slideshow": {
     "slide_type": "slide"
    }
   },
   "outputs": [
    {
     "name": "stdout",
     "output_type": "stream",
     "text": [
      "Hello World!\n"
     ]
    }
   ],
   "source": [
    "# Este es un comentario\n",
    "\n",
    "print(\"Hello World!\")"
   ]
  },
  {
   "cell_type": "markdown",
   "id": "20da5715",
   "metadata": {},
   "source": [
    "Los strings en python puden escribirse tanto con comillas simples (`'`) como comillas dobles (`\"`). Normalmente vemos texto entre comillas triples para escribir _docstrings_, segun la guia de estilo de Python, el PEP8."
   ]
  },
  {
   "cell_type": "code",
   "execution_count": 3,
   "id": "855af27b",
   "metadata": {
    "execution": {
     "iopub.execute_input": "2021-09-20T13:37:38.656601Z",
     "iopub.status.busy": "2021-09-20T13:37:38.653519Z",
     "iopub.status.idle": "2021-09-20T13:37:38.659523Z",
     "shell.execute_reply": "2021-09-20T13:37:38.659041Z"
    }
   },
   "outputs": [
    {
     "data": {
      "text/plain": [
       "'Esto es un docstring.\\n'"
      ]
     },
     "execution_count": 3,
     "metadata": {},
     "output_type": "execute_result"
    }
   ],
   "source": [
    "\"\"\"Esto es un docstring.\n",
    "\"\"\""
   ]
  },
  {
   "cell_type": "markdown",
   "id": "ed353f01",
   "metadata": {},
   "source": [
    "### Declaracion de variables"
   ]
  },
  {
   "cell_type": "code",
   "execution_count": 4,
   "id": "a5a45d94",
   "metadata": {
    "execution": {
     "iopub.execute_input": "2021-09-20T13:37:38.663571Z",
     "iopub.status.busy": "2021-09-20T13:37:38.661667Z",
     "iopub.status.idle": "2021-09-20T13:37:38.665725Z",
     "shell.execute_reply": "2021-09-20T13:37:38.666170Z"
    }
   },
   "outputs": [
    {
     "name": "stdout",
     "output_type": "stream",
     "text": [
      "Hola\n"
     ]
    }
   ],
   "source": [
    "string = 'Hola'\n",
    "print(string)"
   ]
  },
  {
   "cell_type": "code",
   "execution_count": 5,
   "id": "f53d07d4",
   "metadata": {
    "execution": {
     "iopub.execute_input": "2021-09-20T13:37:38.671275Z",
     "iopub.status.busy": "2021-09-20T13:37:38.670013Z",
     "iopub.status.idle": "2021-09-20T13:37:38.673102Z",
     "shell.execute_reply": "2021-09-20T13:37:38.672626Z"
    }
   },
   "outputs": [
    {
     "name": "stdout",
     "output_type": "stream",
     "text": [
      "1\n"
     ]
    }
   ],
   "source": [
    "entero = 1\n",
    "print(entero)"
   ]
  },
  {
   "cell_type": "code",
   "execution_count": 6,
   "id": "f44e928b",
   "metadata": {
    "execution": {
     "iopub.execute_input": "2021-09-20T13:37:38.678052Z",
     "iopub.status.busy": "2021-09-20T13:37:38.676906Z",
     "iopub.status.idle": "2021-09-20T13:37:38.679838Z",
     "shell.execute_reply": "2021-09-20T13:37:38.679333Z"
    }
   },
   "outputs": [
    {
     "name": "stdout",
     "output_type": "stream",
     "text": [
      "1.0\n"
     ]
    }
   ],
   "source": [
    "flotante = 1.0\n",
    "print(flotante)"
   ]
  },
  {
   "cell_type": "code",
   "execution_count": 7,
   "id": "caeb9d7b",
   "metadata": {
    "execution": {
     "iopub.execute_input": "2021-09-20T13:37:38.684684Z",
     "iopub.status.busy": "2021-09-20T13:37:38.683569Z",
     "iopub.status.idle": "2021-09-20T13:37:38.686475Z",
     "shell.execute_reply": "2021-09-20T13:37:38.685990Z"
    }
   },
   "outputs": [
    {
     "name": "stdout",
     "output_type": "stream",
     "text": [
      "(1, 1.0)\n"
     ]
    }
   ],
   "source": [
    "tupla = (entero, flotante)\n",
    "print(tupla)"
   ]
  },
  {
   "cell_type": "code",
   "execution_count": 8,
   "id": "62cb0b10",
   "metadata": {
    "execution": {
     "iopub.execute_input": "2021-09-20T13:37:38.689984Z",
     "iopub.status.busy": "2021-09-20T13:37:38.689479Z",
     "iopub.status.idle": "2021-09-20T13:37:38.691614Z",
     "shell.execute_reply": "2021-09-20T13:37:38.692063Z"
    }
   },
   "outputs": [
    {
     "name": "stdout",
     "output_type": "stream",
     "text": [
      "(1, 1.0, 'Hola')\n"
     ]
    }
   ],
   "source": [
    "nupla = (entero, flotante, string)\n",
    "print(nupla)"
   ]
  },
  {
   "cell_type": "code",
   "execution_count": 9,
   "id": "bc1f3a25",
   "metadata": {
    "execution": {
     "iopub.execute_input": "2021-09-20T13:37:38.696553Z",
     "iopub.status.busy": "2021-09-20T13:37:38.695966Z",
     "iopub.status.idle": "2021-09-20T13:37:38.697830Z",
     "shell.execute_reply": "2021-09-20T13:37:38.698268Z"
    }
   },
   "outputs": [
    {
     "name": "stdout",
     "output_type": "stream",
     "text": [
      "[1, 1.0, 'Hola']\n"
     ]
    }
   ],
   "source": [
    "lista = [entero, flotante, string]\n",
    "print(lista)"
   ]
  },
  {
   "cell_type": "code",
   "execution_count": 10,
   "id": "e71491af",
   "metadata": {
    "execution": {
     "iopub.execute_input": "2021-09-20T13:37:38.702361Z",
     "iopub.status.busy": "2021-09-20T13:37:38.701857Z",
     "iopub.status.idle": "2021-09-20T13:37:38.703718Z",
     "shell.execute_reply": "2021-09-20T13:37:38.704141Z"
    }
   },
   "outputs": [
    {
     "name": "stdout",
     "output_type": "stream",
     "text": [
      "{'1': (1, 1.0), 50: (1, 1.0, 'Hola'), '3': 1}\n"
     ]
    }
   ],
   "source": [
    "diccionario = {'1': tupla, 50: nupla, '3': entero}\n",
    "print(diccionario)"
   ]
  },
  {
   "cell_type": "code",
   "execution_count": 11,
   "id": "359ed936",
   "metadata": {
    "execution": {
     "iopub.execute_input": "2021-09-20T13:37:38.708851Z",
     "iopub.status.busy": "2021-09-20T13:37:38.708054Z",
     "iopub.status.idle": "2021-09-20T13:37:38.710177Z",
     "shell.execute_reply": "2021-09-20T13:37:38.710630Z"
    }
   },
   "outputs": [
    {
     "name": "stdout",
     "output_type": "stream",
     "text": [
      "{1, 2}\n"
     ]
    }
   ],
   "source": [
    "conjunto = set([1, 2])\n",
    "print(conjunto)"
   ]
  },
  {
   "cell_type": "code",
   "execution_count": 12,
   "id": "c8783847",
   "metadata": {
    "execution": {
     "iopub.execute_input": "2021-09-20T13:37:38.714494Z",
     "iopub.status.busy": "2021-09-20T13:37:38.713954Z",
     "iopub.status.idle": "2021-09-20T13:37:38.715744Z",
     "shell.execute_reply": "2021-09-20T13:37:38.716270Z"
    }
   },
   "outputs": [
    {
     "name": "stdout",
     "output_type": "stream",
     "text": [
      "True\n"
     ]
    }
   ],
   "source": [
    "booleano = True\n",
    "print(booleano)"
   ]
  },
  {
   "cell_type": "code",
   "execution_count": 13,
   "id": "778266cc",
   "metadata": {
    "execution": {
     "iopub.execute_input": "2021-09-20T13:37:38.719877Z",
     "iopub.status.busy": "2021-09-20T13:37:38.718520Z",
     "iopub.status.idle": "2021-09-20T13:37:38.721882Z",
     "shell.execute_reply": "2021-09-20T13:37:38.722306Z"
    }
   },
   "outputs": [
    {
     "name": "stdout",
     "output_type": "stream",
     "text": [
      "None\n"
     ]
    }
   ],
   "source": [
    "nada = None\n",
    "print(nada)"
   ]
  },
  {
   "cell_type": "markdown",
   "id": "d7015e87",
   "metadata": {},
   "source": [
    "Ojo que las variables pueden cambiar de tipo!"
   ]
  },
  {
   "cell_type": "code",
   "execution_count": 14,
   "id": "7a6880f0",
   "metadata": {
    "execution": {
     "iopub.execute_input": "2021-09-20T13:37:38.726164Z",
     "iopub.status.busy": "2021-09-20T13:37:38.725656Z",
     "iopub.status.idle": "2021-09-20T13:37:38.727617Z",
     "shell.execute_reply": "2021-09-20T13:37:38.728105Z"
    }
   },
   "outputs": [
    {
     "name": "stdout",
     "output_type": "stream",
     "text": [
      "1\n",
      "<class 'int'>\n"
     ]
    }
   ],
   "source": [
    "elemento = 1\n",
    "print(elemento)\n",
    "print(type(elemento))"
   ]
  },
  {
   "cell_type": "code",
   "execution_count": 15,
   "id": "c171b9f3",
   "metadata": {
    "execution": {
     "iopub.execute_input": "2021-09-20T13:37:38.732388Z",
     "iopub.status.busy": "2021-09-20T13:37:38.731873Z",
     "iopub.status.idle": "2021-09-20T13:37:38.733737Z",
     "shell.execute_reply": "2021-09-20T13:37:38.734154Z"
    }
   },
   "outputs": [
    {
     "name": "stdout",
     "output_type": "stream",
     "text": [
      "1\n",
      "<class 'str'>\n"
     ]
    }
   ],
   "source": [
    "elemento = str(1)\n",
    "print(elemento)\n",
    "print(type(elemento))"
   ]
  },
  {
   "cell_type": "code",
   "execution_count": 16,
   "id": "6272237a",
   "metadata": {
    "execution": {
     "iopub.execute_input": "2021-09-20T13:37:38.739217Z",
     "iopub.status.busy": "2021-09-20T13:37:38.738065Z",
     "iopub.status.idle": "2021-09-20T13:37:38.740901Z",
     "shell.execute_reply": "2021-09-20T13:37:38.740452Z"
    }
   },
   "outputs": [
    {
     "name": "stdout",
     "output_type": "stream",
     "text": [
      "[2]\n",
      "<class 'list'>\n"
     ]
    }
   ],
   "source": [
    "elemento = [2]\n",
    "\n",
    "print(elemento)\n",
    "print(type(elemento))"
   ]
  },
  {
   "cell_type": "markdown",
   "id": "9ead37e4",
   "metadata": {},
   "source": [
    "### Tipos basicos"
   ]
  },
  {
   "cell_type": "markdown",
   "id": "2b6af45d",
   "metadata": {
    "slideshow": {
     "slide_type": "slide"
    }
   },
   "source": [
    "#### Listas de Python"
   ]
  },
  {
   "cell_type": "code",
   "execution_count": 17,
   "id": "55c45a24",
   "metadata": {
    "execution": {
     "iopub.execute_input": "2021-09-20T13:37:38.745178Z",
     "iopub.status.busy": "2021-09-20T13:37:38.744659Z",
     "iopub.status.idle": "2021-09-20T13:37:38.746626Z",
     "shell.execute_reply": "2021-09-20T13:37:38.747078Z"
    }
   },
   "outputs": [
    {
     "data": {
      "text/plain": [
       "[]"
      ]
     },
     "execution_count": 17,
     "metadata": {},
     "output_type": "execute_result"
    }
   ],
   "source": [
    "lista = list()\n",
    "lista"
   ]
  },
  {
   "cell_type": "code",
   "execution_count": 18,
   "id": "896a287c",
   "metadata": {
    "execution": {
     "iopub.execute_input": "2021-09-20T13:37:38.751194Z",
     "iopub.status.busy": "2021-09-20T13:37:38.750671Z",
     "iopub.status.idle": "2021-09-20T13:37:38.752648Z",
     "shell.execute_reply": "2021-09-20T13:37:38.753064Z"
    },
    "slideshow": {
     "slide_type": "slide"
    }
   },
   "outputs": [
    {
     "data": {
      "text/plain": [
       "[]"
      ]
     },
     "execution_count": 18,
     "metadata": {},
     "output_type": "execute_result"
    }
   ],
   "source": [
    "lista = []\n",
    "lista"
   ]
  },
  {
   "cell_type": "code",
   "execution_count": 19,
   "id": "d2b66a33",
   "metadata": {
    "execution": {
     "iopub.execute_input": "2021-09-20T13:37:38.757651Z",
     "iopub.status.busy": "2021-09-20T13:37:38.756765Z",
     "iopub.status.idle": "2021-09-20T13:37:38.759249Z",
     "shell.execute_reply": "2021-09-20T13:37:38.759720Z"
    },
    "slideshow": {
     "slide_type": "slide"
    }
   },
   "outputs": [
    {
     "data": {
      "text/plain": [
       "[1, 2, 3, 4]"
      ]
     },
     "execution_count": 19,
     "metadata": {},
     "output_type": "execute_result"
    }
   ],
   "source": [
    "lista = [1, 2, 3, 4]\n",
    "lista"
   ]
  },
  {
   "cell_type": "code",
   "execution_count": 20,
   "id": "c622ba47",
   "metadata": {
    "execution": {
     "iopub.execute_input": "2021-09-20T13:37:38.764271Z",
     "iopub.status.busy": "2021-09-20T13:37:38.763756Z",
     "iopub.status.idle": "2021-09-20T13:37:38.766050Z",
     "shell.execute_reply": "2021-09-20T13:37:38.766474Z"
    },
    "slideshow": {
     "slide_type": "slide"
    }
   },
   "outputs": [
    {
     "data": {
      "text/plain": [
       "[1, 2, 3, 4, 1, 'dos', 3.0]"
      ]
     },
     "execution_count": 20,
     "metadata": {},
     "output_type": "execute_result"
    }
   ],
   "source": [
    "lista.append(1)  # Inserto un 1 al final\n",
    "lista.append(\"dos\")  # Inserto un \"dos\" al final\n",
    "lista.append(3.0)  # Inserto un 3.0 al final\n",
    "lista"
   ]
  },
  {
   "cell_type": "code",
   "execution_count": 21,
   "id": "bfd4c600",
   "metadata": {
    "execution": {
     "iopub.execute_input": "2021-09-20T13:37:38.770128Z",
     "iopub.status.busy": "2021-09-20T13:37:38.769581Z",
     "iopub.status.idle": "2021-09-20T13:37:38.771814Z",
     "shell.execute_reply": "2021-09-20T13:37:38.772300Z"
    }
   },
   "outputs": [
    {
     "name": "stdout",
     "output_type": "stream",
     "text": [
      "[1, 2, 10, 3, 4, 1, 'dos', 3.0]\n"
     ]
    }
   ],
   "source": [
    "lista.insert(2, 10)  # Inserto en posicion 2 un 10\n",
    "print(lista)"
   ]
  },
  {
   "cell_type": "code",
   "execution_count": 22,
   "id": "27d045ac",
   "metadata": {
    "execution": {
     "iopub.execute_input": "2021-09-20T13:37:38.776231Z",
     "iopub.status.busy": "2021-09-20T13:37:38.775682Z",
     "iopub.status.idle": "2021-09-20T13:37:38.778196Z",
     "shell.execute_reply": "2021-09-20T13:37:38.778679Z"
    }
   },
   "outputs": [
    {
     "data": {
      "text/plain": [
       "8"
      ]
     },
     "execution_count": 22,
     "metadata": {},
     "output_type": "execute_result"
    }
   ],
   "source": [
    "len(lista)"
   ]
  },
  {
   "cell_type": "code",
   "execution_count": 23,
   "id": "4b1903e3",
   "metadata": {
    "execution": {
     "iopub.execute_input": "2021-09-20T13:37:38.782842Z",
     "iopub.status.busy": "2021-09-20T13:37:38.782324Z",
     "iopub.status.idle": "2021-09-20T13:37:38.784337Z",
     "shell.execute_reply": "2021-09-20T13:37:38.784757Z"
    }
   },
   "outputs": [
    {
     "data": {
      "text/plain": [
       "3.0"
      ]
     },
     "execution_count": 23,
     "metadata": {},
     "output_type": "execute_result"
    }
   ],
   "source": [
    "lista.pop()"
   ]
  },
  {
   "cell_type": "code",
   "execution_count": 24,
   "id": "762b8f3d",
   "metadata": {
    "execution": {
     "iopub.execute_input": "2021-09-20T13:37:38.788928Z",
     "iopub.status.busy": "2021-09-20T13:37:38.788373Z",
     "iopub.status.idle": "2021-09-20T13:37:38.790432Z",
     "shell.execute_reply": "2021-09-20T13:37:38.790849Z"
    }
   },
   "outputs": [
    {
     "data": {
      "text/plain": [
       "[1, 2, 10, 3, 4, 1, 'dos']"
      ]
     },
     "execution_count": 24,
     "metadata": {},
     "output_type": "execute_result"
    }
   ],
   "source": [
    "lista"
   ]
  },
  {
   "cell_type": "code",
   "execution_count": 25,
   "id": "8a910e83",
   "metadata": {
    "execution": {
     "iopub.execute_input": "2021-09-20T13:37:38.794858Z",
     "iopub.status.busy": "2021-09-20T13:37:38.794338Z",
     "iopub.status.idle": "2021-09-20T13:37:38.796328Z",
     "shell.execute_reply": "2021-09-20T13:37:38.796727Z"
    }
   },
   "outputs": [
    {
     "data": {
      "text/plain": [
       "2"
      ]
     },
     "execution_count": 25,
     "metadata": {},
     "output_type": "execute_result"
    }
   ],
   "source": [
    "lista.index(10)"
   ]
  },
  {
   "cell_type": "code",
   "execution_count": 26,
   "id": "2f7b797f",
   "metadata": {
    "execution": {
     "iopub.execute_input": "2021-09-20T13:37:38.800903Z",
     "iopub.status.busy": "2021-09-20T13:37:38.800372Z",
     "iopub.status.idle": "2021-09-20T13:37:38.802630Z",
     "shell.execute_reply": "2021-09-20T13:37:38.803052Z"
    }
   },
   "outputs": [
    {
     "data": {
      "text/plain": [
       "[1, 2, 3, 4, 1, 'dos']"
      ]
     },
     "execution_count": 26,
     "metadata": {},
     "output_type": "execute_result"
    }
   ],
   "source": [
    "lista.remove(10)\n",
    "lista"
   ]
  },
  {
   "cell_type": "code",
   "execution_count": 27,
   "id": "76e97e0b",
   "metadata": {
    "execution": {
     "iopub.execute_input": "2021-09-20T13:37:38.806408Z",
     "iopub.status.busy": "2021-09-20T13:37:38.805900Z",
     "iopub.status.idle": "2021-09-20T13:37:38.878742Z",
     "shell.execute_reply": "2021-09-20T13:37:38.879599Z"
    },
    "tags": [
     "raises-exception"
    ]
   },
   "outputs": [
    {
     "name": "stdout",
     "output_type": "stream",
     "text": [
      "1\n",
      "2\n",
      "2\n",
      "3\n",
      "3\n",
      "4\n",
      "4\n",
      "5\n",
      "1\n",
      "2\n",
      "dos\n"
     ]
    },
    {
     "ename": "TypeError",
     "evalue": "can only concatenate str (not \"int\") to str",
     "output_type": "error",
     "traceback": [
      "\u001b[0;31m---------------------------------------------------------------------------\u001b[0m",
      "\u001b[0;31mTypeError\u001b[0m                                 Traceback (most recent call last)",
      "\u001b[0;32m/tmp/ipykernel_1965/1783555086.py\u001b[0m in \u001b[0;36m<module>\u001b[0;34m\u001b[0m\n\u001b[1;32m      1\u001b[0m \u001b[0;32mfor\u001b[0m \u001b[0melemento\u001b[0m \u001b[0;32min\u001b[0m \u001b[0mlista\u001b[0m\u001b[0;34m:\u001b[0m\u001b[0;34m\u001b[0m\u001b[0;34m\u001b[0m\u001b[0m\n\u001b[1;32m      2\u001b[0m     \u001b[0mprint\u001b[0m\u001b[0;34m(\u001b[0m\u001b[0melemento\u001b[0m\u001b[0;34m)\u001b[0m\u001b[0;34m\u001b[0m\u001b[0;34m\u001b[0m\u001b[0m\n\u001b[0;32m----> 3\u001b[0;31m     \u001b[0mprint\u001b[0m\u001b[0;34m(\u001b[0m\u001b[0melemento\u001b[0m \u001b[0;34m+\u001b[0m \u001b[0;36m1\u001b[0m\u001b[0;34m)\u001b[0m\u001b[0;34m\u001b[0m\u001b[0;34m\u001b[0m\u001b[0m\n\u001b[0m",
      "\u001b[0;31mTypeError\u001b[0m: can only concatenate str (not \"int\") to str"
     ]
    }
   ],
   "source": [
    "for elemento in lista:\n",
    "    print(elemento)\n",
    "    print(elemento + 1)"
   ]
  },
  {
   "cell_type": "code",
   "execution_count": 28,
   "id": "b7e2693a",
   "metadata": {
    "execution": {
     "iopub.execute_input": "2021-09-20T13:37:38.885890Z",
     "iopub.status.busy": "2021-09-20T13:37:38.884975Z",
     "iopub.status.idle": "2021-09-20T13:37:38.887469Z",
     "shell.execute_reply": "2021-09-20T13:37:38.887906Z"
    }
   },
   "outputs": [
    {
     "data": {
      "text/plain": [
       "[1, 2, 3, 4, 1, 'dos']"
      ]
     },
     "execution_count": 28,
     "metadata": {},
     "output_type": "execute_result"
    }
   ],
   "source": [
    "lista"
   ]
  },
  {
   "cell_type": "code",
   "execution_count": 29,
   "id": "8769b83e",
   "metadata": {
    "execution": {
     "iopub.execute_input": "2021-09-20T13:37:38.893843Z",
     "iopub.status.busy": "2021-09-20T13:37:38.892620Z",
     "iopub.status.idle": "2021-09-20T13:37:38.896437Z",
     "shell.execute_reply": "2021-09-20T13:37:38.895217Z"
    }
   },
   "outputs": [
    {
     "name": "stdout",
     "output_type": "stream",
     "text": [
      "0-ésimo elemento: 1\n",
      "1-ésimo elemento: 2\n"
     ]
    },
    {
     "name": "stdout",
     "output_type": "stream",
     "text": [
      "2-ésimo elemento: 3\n",
      "3-ésimo elemento: 4\n",
      "4-ésimo elemento: 1\n",
      "5-ésimo elemento: dos\n"
     ]
    }
   ],
   "source": [
    "for i, elemento in enumerate(lista):\n",
    "    print(f\"{i}-ésimo elemento: {elemento}\")"
   ]
  },
  {
   "cell_type": "code",
   "execution_count": 30,
   "id": "3cd086df",
   "metadata": {
    "execution": {
     "iopub.execute_input": "2021-09-20T13:37:38.903236Z",
     "iopub.status.busy": "2021-09-20T13:37:38.900306Z",
     "iopub.status.idle": "2021-09-20T13:37:38.905339Z",
     "shell.execute_reply": "2021-09-20T13:37:38.905836Z"
    },
    "tags": [
     "raises-exception"
    ]
   },
   "outputs": [
    {
     "ename": "TypeError",
     "evalue": "'<' not supported between instances of 'str' and 'int'",
     "output_type": "error",
     "traceback": [
      "\u001b[0;31m---------------------------------------------------------------------------\u001b[0m",
      "\u001b[0;31mTypeError\u001b[0m                                 Traceback (most recent call last)",
      "\u001b[0;32m/tmp/ipykernel_1965/2266425520.py\u001b[0m in \u001b[0;36m<module>\u001b[0;34m\u001b[0m\n\u001b[0;32m----> 1\u001b[0;31m \u001b[0msorted\u001b[0m\u001b[0;34m(\u001b[0m\u001b[0mlista\u001b[0m\u001b[0;34m)\u001b[0m\u001b[0;34m\u001b[0m\u001b[0;34m\u001b[0m\u001b[0m\n\u001b[0m",
      "\u001b[0;31mTypeError\u001b[0m: '<' not supported between instances of 'str' and 'int'"
     ]
    }
   ],
   "source": [
    "sorted(lista)"
   ]
  },
  {
   "cell_type": "code",
   "execution_count": 31,
   "id": "74c1b5d4",
   "metadata": {
    "execution": {
     "iopub.execute_input": "2021-09-20T13:37:38.910581Z",
     "iopub.status.busy": "2021-09-20T13:37:38.909357Z",
     "iopub.status.idle": "2021-09-20T13:37:38.911212Z",
     "shell.execute_reply": "2021-09-20T13:37:38.911693Z"
    }
   },
   "outputs": [],
   "source": [
    "lista.remove(\"dos\")"
   ]
  },
  {
   "cell_type": "code",
   "execution_count": 32,
   "id": "284e6504",
   "metadata": {
    "execution": {
     "iopub.execute_input": "2021-09-20T13:37:38.916298Z",
     "iopub.status.busy": "2021-09-20T13:37:38.913805Z",
     "iopub.status.idle": "2021-09-20T13:37:38.918437Z",
     "shell.execute_reply": "2021-09-20T13:37:38.918886Z"
    }
   },
   "outputs": [
    {
     "data": {
      "text/plain": [
       "[1, 1, 2, 3, 4]"
      ]
     },
     "execution_count": 32,
     "metadata": {},
     "output_type": "execute_result"
    }
   ],
   "source": [
    "sorted(lista)"
   ]
  },
  {
   "cell_type": "code",
   "execution_count": 33,
   "id": "bffee95a",
   "metadata": {
    "execution": {
     "iopub.execute_input": "2021-09-20T13:37:38.923652Z",
     "iopub.status.busy": "2021-09-20T13:37:38.923088Z",
     "iopub.status.idle": "2021-09-20T13:37:38.925224Z",
     "shell.execute_reply": "2021-09-20T13:37:38.925677Z"
    }
   },
   "outputs": [
    {
     "data": {
      "text/plain": [
       "[1, 1, 2, 3, 4]"
      ]
     },
     "execution_count": 33,
     "metadata": {},
     "output_type": "execute_result"
    }
   ],
   "source": [
    "lista.sort()\n",
    "lista"
   ]
  },
  {
   "cell_type": "markdown",
   "id": "c28e0b62",
   "metadata": {
    "slideshow": {
     "slide_type": "slide"
    }
   },
   "source": [
    "#### Tuplas de Python\n",
    "\n",
    "Las tuplas son inmutables. No se pueden agregar elementos luego de creadas."
   ]
  },
  {
   "cell_type": "code",
   "execution_count": 34,
   "id": "ae1a3d43",
   "metadata": {
    "execution": {
     "iopub.execute_input": "2021-09-20T13:37:38.933573Z",
     "iopub.status.busy": "2021-09-20T13:37:38.929094Z",
     "iopub.status.idle": "2021-09-20T13:37:38.936796Z",
     "shell.execute_reply": "2021-09-20T13:37:38.936309Z"
    },
    "slideshow": {
     "slide_type": "slide"
    },
    "tags": [
     "raises-exception"
    ]
   },
   "outputs": [
    {
     "name": "stdout",
     "output_type": "stream",
     "text": [
      "(1, 2)\n",
      "1\n",
      "2\n"
     ]
    },
    {
     "ename": "TypeError",
     "evalue": "'tuple' object does not support item assignment",
     "output_type": "error",
     "traceback": [
      "\u001b[0;31m---------------------------------------------------------------------------\u001b[0m",
      "\u001b[0;31mTypeError\u001b[0m                                 Traceback (most recent call last)",
      "\u001b[0;32m/tmp/ipykernel_1965/3644040918.py\u001b[0m in \u001b[0;36m<module>\u001b[0;34m\u001b[0m\n\u001b[1;32m      5\u001b[0m \u001b[0mprint\u001b[0m\u001b[0;34m(\u001b[0m\u001b[0mtupla\u001b[0m\u001b[0;34m[\u001b[0m\u001b[0;36m1\u001b[0m\u001b[0;34m]\u001b[0m\u001b[0;34m)\u001b[0m\u001b[0;34m\u001b[0m\u001b[0;34m\u001b[0m\u001b[0m\n\u001b[1;32m      6\u001b[0m \u001b[0;34m\u001b[0m\u001b[0m\n\u001b[0;32m----> 7\u001b[0;31m \u001b[0mtupla\u001b[0m\u001b[0;34m[\u001b[0m\u001b[0;36m1\u001b[0m\u001b[0;34m]\u001b[0m \u001b[0;34m=\u001b[0m \u001b[0;36m3\u001b[0m  \u001b[0;31m# Falla. No se puede mutar\u001b[0m\u001b[0;34m\u001b[0m\u001b[0;34m\u001b[0m\u001b[0m\n\u001b[0m",
      "\u001b[0;31mTypeError\u001b[0m: 'tuple' object does not support item assignment"
     ]
    }
   ],
   "source": [
    "tupla = (1, 2)\n",
    "\n",
    "print(tupla)\n",
    "print(tupla[0])\n",
    "print(tupla[1])\n",
    "\n",
    "tupla[1] = 3  # Falla. No se puede mutar"
   ]
  },
  {
   "cell_type": "code",
   "execution_count": 35,
   "id": "e773770e",
   "metadata": {
    "execution": {
     "iopub.execute_input": "2021-09-20T13:37:38.941170Z",
     "iopub.status.busy": "2021-09-20T13:37:38.940627Z",
     "iopub.status.idle": "2021-09-20T13:37:38.945441Z",
     "shell.execute_reply": "2021-09-20T13:37:38.944961Z"
    }
   },
   "outputs": [
    {
     "data": {
      "text/plain": [
       "[1, 2]"
      ]
     },
     "execution_count": 35,
     "metadata": {},
     "output_type": "execute_result"
    }
   ],
   "source": [
    "l = [1, 2]\n",
    "l"
   ]
  },
  {
   "cell_type": "code",
   "execution_count": 36,
   "id": "ced4ff20",
   "metadata": {
    "execution": {
     "iopub.execute_input": "2021-09-20T13:37:38.949895Z",
     "iopub.status.busy": "2021-09-20T13:37:38.948241Z",
     "iopub.status.idle": "2021-09-20T13:37:38.952003Z",
     "shell.execute_reply": "2021-09-20T13:37:38.952463Z"
    }
   },
   "outputs": [
    {
     "data": {
      "text/plain": [
       "[1, 3]"
      ]
     },
     "execution_count": 36,
     "metadata": {},
     "output_type": "execute_result"
    }
   ],
   "source": [
    "l[1] = 3\n",
    "l"
   ]
  },
  {
   "cell_type": "markdown",
   "id": "8e563635",
   "metadata": {
    "slideshow": {
     "slide_type": "slide"
    }
   },
   "source": [
    "#### Diferencia entre lista y tupla\n",
    "Las listas se caracterizan por ser mutables, es decir, se puede cambiar su contenido en tiempo de ejecución, mientras que las tuplas son inmutables ya que no es posible modificar el contenido una vez creada."
   ]
  },
  {
   "cell_type": "markdown",
   "id": "2a828f41",
   "metadata": {},
   "source": [
    "#### Slices\n",
    "\n",
    "**Valen para listas, tuplas o strings (_segmentos_)**"
   ]
  },
  {
   "cell_type": "code",
   "execution_count": 37,
   "id": "fefc3553",
   "metadata": {
    "execution": {
     "iopub.execute_input": "2021-09-20T13:37:38.957208Z",
     "iopub.status.busy": "2021-09-20T13:37:38.956067Z",
     "iopub.status.idle": "2021-09-20T13:37:38.957787Z",
     "shell.execute_reply": "2021-09-20T13:37:38.958201Z"
    }
   },
   "outputs": [],
   "source": [
    "numeros = [0, 1, 2, 3, 4, 5, 6, 7, 8, 9, 10]"
   ]
  },
  {
   "cell_type": "code",
   "execution_count": 38,
   "id": "336aea6c",
   "metadata": {
    "execution": {
     "iopub.execute_input": "2021-09-20T13:37:38.961936Z",
     "iopub.status.busy": "2021-09-20T13:37:38.960123Z",
     "iopub.status.idle": "2021-09-20T13:37:38.963827Z",
     "shell.execute_reply": "2021-09-20T13:37:38.964253Z"
    }
   },
   "outputs": [
    {
     "name": "stdout",
     "output_type": "stream",
     "text": [
      "[0, 1, 2, 3, 4, 5, 6, 7, 8, 9, 10]\n"
     ]
    }
   ],
   "source": [
    "print(numeros)"
   ]
  },
  {
   "cell_type": "code",
   "execution_count": 39,
   "id": "6c70b8dd",
   "metadata": {
    "execution": {
     "iopub.execute_input": "2021-09-20T13:37:38.967934Z",
     "iopub.status.busy": "2021-09-20T13:37:38.966125Z",
     "iopub.status.idle": "2021-09-20T13:37:38.969832Z",
     "shell.execute_reply": "2021-09-20T13:37:38.970271Z"
    }
   },
   "outputs": [
    {
     "name": "stdout",
     "output_type": "stream",
     "text": [
      "2\n"
     ]
    }
   ],
   "source": [
    "print(numeros[2])  # Imprimo elemento en la posición 2"
   ]
  },
  {
   "cell_type": "code",
   "execution_count": 40,
   "id": "9436e823",
   "metadata": {
    "execution": {
     "iopub.execute_input": "2021-09-20T13:37:38.974414Z",
     "iopub.status.busy": "2021-09-20T13:37:38.973868Z",
     "iopub.status.idle": "2021-09-20T13:37:38.977060Z",
     "shell.execute_reply": "2021-09-20T13:37:38.976576Z"
    }
   },
   "outputs": [
    {
     "data": {
      "text/plain": [
       "10"
      ]
     },
     "execution_count": 40,
     "metadata": {},
     "output_type": "execute_result"
    }
   ],
   "source": [
    "numeros[len(numeros) - 1]"
   ]
  },
  {
   "cell_type": "code",
   "execution_count": 41,
   "id": "9bea0fba",
   "metadata": {
    "execution": {
     "iopub.execute_input": "2021-09-20T13:37:38.980948Z",
     "iopub.status.busy": "2021-09-20T13:37:38.980386Z",
     "iopub.status.idle": "2021-09-20T13:37:38.982389Z",
     "shell.execute_reply": "2021-09-20T13:37:38.982839Z"
    },
    "lines_to_next_cell": 2
   },
   "outputs": [
    {
     "name": "stdout",
     "output_type": "stream",
     "text": [
      "10\n"
     ]
    }
   ],
   "source": [
    "print(numeros[-1])  # # Imprimo elemento en la última posición"
   ]
  },
  {
   "cell_type": "code",
   "execution_count": 42,
   "id": "2b957afb",
   "metadata": {
    "execution": {
     "iopub.execute_input": "2021-09-20T13:37:38.987424Z",
     "iopub.status.busy": "2021-09-20T13:37:38.986901Z",
     "iopub.status.idle": "2021-09-20T13:37:38.988895Z",
     "shell.execute_reply": "2021-09-20T13:37:38.989314Z"
    },
    "lines_to_next_cell": 2
   },
   "outputs": [
    {
     "data": {
      "text/plain": [
       "9"
      ]
     },
     "execution_count": 42,
     "metadata": {},
     "output_type": "execute_result"
    }
   ],
   "source": [
    "numeros[-2]"
   ]
  },
  {
   "cell_type": "code",
   "execution_count": 43,
   "id": "b5fb28eb",
   "metadata": {
    "execution": {
     "iopub.execute_input": "2021-09-20T13:37:38.994009Z",
     "iopub.status.busy": "2021-09-20T13:37:38.993205Z",
     "iopub.status.idle": "2021-09-20T13:37:38.995331Z",
     "shell.execute_reply": "2021-09-20T13:37:38.995803Z"
    }
   },
   "outputs": [
    {
     "name": "stdout",
     "output_type": "stream",
     "text": [
      "[0, 1, 2]\n"
     ]
    }
   ],
   "source": [
    "print(numeros[0:3])  # Imprimo de la pos 0 a la pos 2"
   ]
  },
  {
   "cell_type": "code",
   "execution_count": 44,
   "id": "7a14cd5a",
   "metadata": {
    "execution": {
     "iopub.execute_input": "2021-09-20T13:37:38.999233Z",
     "iopub.status.busy": "2021-09-20T13:37:38.998687Z",
     "iopub.status.idle": "2021-09-20T13:37:39.001323Z",
     "shell.execute_reply": "2021-09-20T13:37:39.001782Z"
    }
   },
   "outputs": [
    {
     "name": "stdout",
     "output_type": "stream",
     "text": [
      "[7, 8]\n"
     ]
    }
   ],
   "source": [
    "print(numeros[-4:-2])"
   ]
  },
  {
   "cell_type": "code",
   "execution_count": 45,
   "id": "68d3f58b",
   "metadata": {
    "execution": {
     "iopub.execute_input": "2021-09-20T13:37:39.005876Z",
     "iopub.status.busy": "2021-09-20T13:37:39.005326Z",
     "iopub.status.idle": "2021-09-20T13:37:39.007312Z",
     "shell.execute_reply": "2021-09-20T13:37:39.007787Z"
    }
   },
   "outputs": [
    {
     "name": "stdout",
     "output_type": "stream",
     "text": [
      "[0, 1, 2, 3, 4, 5, 6, 7, 8, 9, 10]\n"
     ]
    }
   ],
   "source": [
    "print(numeros[0:80])"
   ]
  },
  {
   "cell_type": "code",
   "execution_count": 46,
   "id": "1d5b06da",
   "metadata": {
    "execution": {
     "iopub.execute_input": "2021-09-20T13:37:39.011367Z",
     "iopub.status.busy": "2021-09-20T13:37:39.010701Z",
     "iopub.status.idle": "2021-09-20T13:37:39.012949Z",
     "shell.execute_reply": "2021-09-20T13:37:39.013373Z"
    }
   },
   "outputs": [
    {
     "name": "stdout",
     "output_type": "stream",
     "text": [
      "[0, 1, 2]\n"
     ]
    }
   ],
   "source": [
    "print(numeros[:3])"
   ]
  },
  {
   "cell_type": "code",
   "execution_count": 47,
   "id": "1cffa9c6",
   "metadata": {
    "execution": {
     "iopub.execute_input": "2021-09-20T13:37:39.017138Z",
     "iopub.status.busy": "2021-09-20T13:37:39.016618Z",
     "iopub.status.idle": "2021-09-20T13:37:39.020822Z",
     "shell.execute_reply": "2021-09-20T13:37:39.020338Z"
    }
   },
   "outputs": [
    {
     "name": "stdout",
     "output_type": "stream",
     "text": [
      "[3, 4, 5, 6, 7, 8, 9, 10]\n"
     ]
    }
   ],
   "source": [
    "print(numeros[3:])"
   ]
  },
  {
   "cell_type": "code",
   "execution_count": 48,
   "id": "98aa4e50",
   "metadata": {
    "execution": {
     "iopub.execute_input": "2021-09-20T13:37:39.024873Z",
     "iopub.status.busy": "2021-09-20T13:37:39.024327Z",
     "iopub.status.idle": "2021-09-20T13:37:39.026325Z",
     "shell.execute_reply": "2021-09-20T13:37:39.026774Z"
    }
   },
   "outputs": [
    {
     "name": "stdout",
     "output_type": "stream",
     "text": [
      "[0, 2, 4, 6, 8]\n"
     ]
    }
   ],
   "source": [
    "print(numeros[0:10:2])"
   ]
  },
  {
   "cell_type": "markdown",
   "id": "19bd7893",
   "metadata": {},
   "source": [
    "```python\n",
    "lista[<inicio>:<final>:<step>]\n",
    "```"
   ]
  },
  {
   "cell_type": "code",
   "execution_count": 49,
   "id": "9b75a016",
   "metadata": {
    "execution": {
     "iopub.execute_input": "2021-09-20T13:37:39.031598Z",
     "iopub.status.busy": "2021-09-20T13:37:39.031039Z",
     "iopub.status.idle": "2021-09-20T13:37:39.033174Z",
     "shell.execute_reply": "2021-09-20T13:37:39.033627Z"
    },
    "lines_to_next_cell": 2
   },
   "outputs": [
    {
     "data": {
      "text/plain": [
       "[1, 2, 3, 4]"
      ]
     },
     "execution_count": 49,
     "metadata": {},
     "output_type": "execute_result"
    }
   ],
   "source": [
    "l1 = [1, 2]\n",
    "l2 = [3, 4]\n",
    "l1 + l2"
   ]
  },
  {
   "cell_type": "code",
   "execution_count": 50,
   "id": "77e766df",
   "metadata": {
    "execution": {
     "iopub.execute_input": "2021-09-20T13:37:39.037848Z",
     "iopub.status.busy": "2021-09-20T13:37:39.037257Z",
     "iopub.status.idle": "2021-09-20T13:37:39.040451Z",
     "shell.execute_reply": "2021-09-20T13:37:39.040909Z"
    }
   },
   "outputs": [
    {
     "name": "stdout",
     "output_type": "stream",
     "text": [
      "[0, 1, 2, 3, 4, 5, 6, 'siete', 8, 9, 10]\n"
     ]
    }
   ],
   "source": [
    "numeros[7] = 'siete'  # Las listas se pueden mutar\n",
    "print(numeros)"
   ]
  },
  {
   "cell_type": "code",
   "execution_count": 51,
   "id": "d1f4f763",
   "metadata": {
    "execution": {
     "iopub.execute_input": "2021-09-20T13:37:39.044475Z",
     "iopub.status.busy": "2021-09-20T13:37:39.043837Z",
     "iopub.status.idle": "2021-09-20T13:37:39.046226Z",
     "shell.execute_reply": "2021-09-20T13:37:39.048524Z"
    }
   },
   "outputs": [
    {
     "name": "stdout",
     "output_type": "stream",
     "text": [
      "[10, 9, 8, 'siete', 6, 5, 4, 3, 2, 1, 0]\n"
     ]
    }
   ],
   "source": [
    "numeros = numeros[::-1]\n",
    "print(numeros)"
   ]
  },
  {
   "cell_type": "code",
   "execution_count": 52,
   "id": "141c0cdd",
   "metadata": {
    "execution": {
     "iopub.execute_input": "2021-09-20T13:37:39.051174Z",
     "iopub.status.busy": "2021-09-20T13:37:39.050600Z",
     "iopub.status.idle": "2021-09-20T13:37:39.057019Z",
     "shell.execute_reply": "2021-09-20T13:37:39.057498Z"
    },
    "tags": [
     "raises-exception"
    ]
   },
   "outputs": [
    {
     "ename": "IndexError",
     "evalue": "list index out of range",
     "output_type": "error",
     "traceback": [
      "\u001b[0;31m---------------------------------------------------------------------------\u001b[0m",
      "\u001b[0;31mIndexError\u001b[0m                                Traceback (most recent call last)",
      "\u001b[0;32m/tmp/ipykernel_1965/1255736182.py\u001b[0m in \u001b[0;36m<module>\u001b[0;34m\u001b[0m\n\u001b[0;32m----> 1\u001b[0;31m \u001b[0mprint\u001b[0m\u001b[0;34m(\u001b[0m\u001b[0mnumeros\u001b[0m\u001b[0;34m[\u001b[0m\u001b[0;36m15\u001b[0m\u001b[0;34m]\u001b[0m\u001b[0;34m)\u001b[0m  \u001b[0;31m# Falla. No se puede acceder a una posición inexistente\u001b[0m\u001b[0;34m\u001b[0m\u001b[0;34m\u001b[0m\u001b[0m\n\u001b[0m",
      "\u001b[0;31mIndexError\u001b[0m: list index out of range"
     ]
    }
   ],
   "source": [
    "print(numeros[15])  # Falla. No se puede acceder a una posición inexistente"
   ]
  },
  {
   "cell_type": "code",
   "execution_count": 53,
   "id": "1218e4eb",
   "metadata": {
    "execution": {
     "iopub.execute_input": "2021-09-20T13:37:39.065339Z",
     "iopub.status.busy": "2021-09-20T13:37:39.064343Z",
     "iopub.status.idle": "2021-09-20T13:37:39.066589Z",
     "shell.execute_reply": "2021-09-20T13:37:39.064818Z"
    }
   },
   "outputs": [
    {
     "name": "stdout",
     "output_type": "stream",
     "text": [
      "palabra\n",
      "a\n",
      "pal\n",
      "abra\n"
     ]
    }
   ],
   "source": [
    "palabra = 'palabra'\n",
    "print(palabra)\n",
    "print(palabra[3])\n",
    "print(palabra[:3])\n",
    "print(palabra[3:])"
   ]
  },
  {
   "cell_type": "code",
   "execution_count": 54,
   "id": "2857d992",
   "metadata": {
    "execution": {
     "iopub.execute_input": "2021-09-20T13:37:39.069106Z",
     "iopub.status.busy": "2021-09-20T13:37:39.068557Z",
     "iopub.status.idle": "2021-09-20T13:37:39.072715Z",
     "shell.execute_reply": "2021-09-20T13:37:39.073201Z"
    }
   },
   "outputs": [
    {
     "name": "stdout",
     "output_type": "stream",
     "text": [
      "(0, 1, 2, 3, 4)\n",
      "(0, 1)\n",
      "(2, 3, 4)\n"
     ]
    }
   ],
   "source": [
    "tupla = (0, 1, 2, 3, 4)\n",
    "\n",
    "print(tupla)\n",
    "print(tupla[:2])\n",
    "print(tupla[2:])"
   ]
  },
  {
   "cell_type": "markdown",
   "id": "42692d05",
   "metadata": {
    "slideshow": {
     "slide_type": "slide"
    }
   },
   "source": [
    "#### Diccionarios de Python\n",
    "\n",
    "Son como hashmaps, las claves deben ser inmutables para que no pierda sentido el diccionario. Si se pudieran modificar, se podrían cambiar las claves y generaría conflictos.\n",
    "\n",
    "Tipos mutables:\n",
    "- Listas\n",
    "- Diccionarios\n",
    "- Sets\n",
    "\n",
    "Tipos inmutables:\n",
    "- Int\n",
    "- Float\n",
    "- String\n",
    "- Tuplas\n"
   ]
  },
  {
   "cell_type": "code",
   "execution_count": 55,
   "id": "19f47ae7",
   "metadata": {
    "execution": {
     "iopub.execute_input": "2021-09-20T13:37:39.075810Z",
     "iopub.status.busy": "2021-09-20T13:37:39.075243Z",
     "iopub.status.idle": "2021-09-20T13:37:39.079127Z",
     "shell.execute_reply": "2021-09-20T13:37:39.079614Z"
    },
    "slideshow": {
     "slide_type": "slide"
    }
   },
   "outputs": [
    {
     "data": {
      "text/plain": [
       "{}"
      ]
     },
     "execution_count": 55,
     "metadata": {},
     "output_type": "execute_result"
    }
   ],
   "source": [
    "diccionario = {}\n",
    "diccionario"
   ]
  },
  {
   "cell_type": "code",
   "execution_count": 56,
   "id": "44792331",
   "metadata": {
    "execution": {
     "iopub.execute_input": "2021-09-20T13:37:39.089358Z",
     "iopub.status.busy": "2021-09-20T13:37:39.088361Z",
     "iopub.status.idle": "2021-09-20T13:37:39.090689Z",
     "shell.execute_reply": "2021-09-20T13:37:39.088840Z"
    }
   },
   "outputs": [
    {
     "data": {
      "text/plain": [
       "{}"
      ]
     },
     "execution_count": 56,
     "metadata": {},
     "output_type": "execute_result"
    }
   ],
   "source": [
    "diccionario = dict()\n",
    "diccionario"
   ]
  },
  {
   "cell_type": "code",
   "execution_count": 57,
   "id": "805f85e3",
   "metadata": {
    "execution": {
     "iopub.execute_input": "2021-09-20T13:37:39.096316Z",
     "iopub.status.busy": "2021-09-20T13:37:39.095114Z",
     "iopub.status.idle": "2021-09-20T13:37:39.098236Z",
     "shell.execute_reply": "2021-09-20T13:37:39.097756Z"
    },
    "slideshow": {
     "slide_type": "slide"
    }
   },
   "outputs": [
    {
     "name": "stdout",
     "output_type": "stream",
     "text": [
      "{'clave1': 'valor1', 2: 'valor2', 'clave3': 3}\n"
     ]
    }
   ],
   "source": [
    "# Cómo agregar cosas al diccionario\n",
    "diccionario['clave1'] = 'valor1'\n",
    "diccionario[2] = 'valor2'\n",
    "diccionario['clave3'] = 3\n",
    "print(diccionario)"
   ]
  },
  {
   "cell_type": "markdown",
   "id": "bc5d8417",
   "metadata": {},
   "source": [
    "Hay dos formas de obtener valores de un diccionario:\n",
    "\n",
    "```python\n",
    "diccionario[clave]\n",
    "```\n",
    "\n",
    "El cual devuelve el valor si existe la clave suministrada o bien lanza `KeyError` si no existe."
   ]
  },
  {
   "cell_type": "code",
   "execution_count": 58,
   "id": "218cd20c",
   "metadata": {
    "execution": {
     "iopub.execute_input": "2021-09-20T13:37:39.103154Z",
     "iopub.status.busy": "2021-09-20T13:37:39.102591Z",
     "iopub.status.idle": "2021-09-20T13:37:39.105217Z",
     "shell.execute_reply": "2021-09-20T13:37:39.105665Z"
    }
   },
   "outputs": [
    {
     "data": {
      "text/plain": [
       "'valor1'"
      ]
     },
     "execution_count": 58,
     "metadata": {},
     "output_type": "execute_result"
    }
   ],
   "source": [
    "diccionario['clave1']"
   ]
  },
  {
   "cell_type": "code",
   "execution_count": 59,
   "id": "620023f2",
   "metadata": {
    "execution": {
     "iopub.execute_input": "2021-09-20T13:37:39.113018Z",
     "iopub.status.busy": "2021-09-20T13:37:39.112423Z",
     "iopub.status.idle": "2021-09-20T13:37:39.115003Z",
     "shell.execute_reply": "2021-09-20T13:37:39.115472Z"
    },
    "tags": [
     "raises-exception"
    ]
   },
   "outputs": [
    {
     "ename": "KeyError",
     "evalue": "'clave1000'",
     "output_type": "error",
     "traceback": [
      "\u001b[0;31m---------------------------------------------------------------------------\u001b[0m",
      "\u001b[0;31mKeyError\u001b[0m                                  Traceback (most recent call last)",
      "\u001b[0;32m/tmp/ipykernel_1965/3541524662.py\u001b[0m in \u001b[0;36m<module>\u001b[0;34m\u001b[0m\n\u001b[0;32m----> 1\u001b[0;31m \u001b[0mdiccionario\u001b[0m\u001b[0;34m[\u001b[0m\u001b[0;34m'clave1000'\u001b[0m\u001b[0;34m]\u001b[0m\u001b[0;34m\u001b[0m\u001b[0;34m\u001b[0m\u001b[0m\n\u001b[0m",
      "\u001b[0;31mKeyError\u001b[0m: 'clave1000'"
     ]
    }
   ],
   "source": [
    "diccionario['clave1000']"
   ]
  },
  {
   "cell_type": "markdown",
   "id": "8a89cd25",
   "metadata": {},
   "source": [
    "La segunda forma es con `get`:"
   ]
  },
  {
   "cell_type": "code",
   "execution_count": 60,
   "id": "ed129405",
   "metadata": {
    "execution": {
     "iopub.execute_input": "2021-09-20T13:37:39.128161Z",
     "iopub.status.busy": "2021-09-20T13:37:39.117584Z",
     "iopub.status.idle": "2021-09-20T13:37:39.176230Z",
     "shell.execute_reply": "2021-09-20T13:37:39.177131Z"
    }
   },
   "outputs": [],
   "source": [
    "diccionario.get?"
   ]
  },
  {
   "cell_type": "code",
   "execution_count": 61,
   "id": "e710c294",
   "metadata": {
    "execution": {
     "iopub.execute_input": "2021-09-20T13:37:39.182445Z",
     "iopub.status.busy": "2021-09-20T13:37:39.181882Z",
     "iopub.status.idle": "2021-09-20T13:37:39.183829Z",
     "shell.execute_reply": "2021-09-20T13:37:39.184289Z"
    }
   },
   "outputs": [
    {
     "name": "stdout",
     "output_type": "stream",
     "text": [
      "Help on built-in function get:\n",
      "\n",
      "get(key, default=None, /) method of builtins.dict instance\n",
      "    Return the value for key if key is in the dictionary, else default.\n",
      "\n"
     ]
    }
   ],
   "source": [
    "help(diccionario.get)"
   ]
  },
  {
   "cell_type": "code",
   "execution_count": 62,
   "id": "3c6dabb2",
   "metadata": {
    "execution": {
     "iopub.execute_input": "2021-09-20T13:37:39.189616Z",
     "iopub.status.busy": "2021-09-20T13:37:39.188409Z",
     "iopub.status.idle": "2021-09-20T13:37:39.191446Z",
     "shell.execute_reply": "2021-09-20T13:37:39.190961Z"
    },
    "slideshow": {
     "slide_type": "slide"
    }
   },
   "outputs": [
    {
     "name": "stdout",
     "output_type": "stream",
     "text": [
      "None\n"
     ]
    }
   ],
   "source": [
    "print(diccionario.get('clave1000'))"
   ]
  },
  {
   "cell_type": "code",
   "execution_count": 63,
   "id": "d0b9c348",
   "metadata": {
    "execution": {
     "iopub.execute_input": "2021-09-20T13:37:39.195287Z",
     "iopub.status.busy": "2021-09-20T13:37:39.194736Z",
     "iopub.status.idle": "2021-09-20T13:37:39.197526Z",
     "shell.execute_reply": "2021-09-20T13:37:39.197026Z"
    },
    "slideshow": {
     "slide_type": "slide"
    }
   },
   "outputs": [
    {
     "name": "stdout",
     "output_type": "stream",
     "text": [
      "True\n"
     ]
    }
   ],
   "source": [
    "print('clave1' in diccionario)  # Verifico si la clave está en el diccionario"
   ]
  },
  {
   "cell_type": "code",
   "execution_count": 64,
   "id": "5bd981a7",
   "metadata": {
    "execution": {
     "iopub.execute_input": "2021-09-20T13:37:39.202327Z",
     "iopub.status.busy": "2021-09-20T13:37:39.201780Z",
     "iopub.status.idle": "2021-09-20T13:37:39.206460Z",
     "shell.execute_reply": "2021-09-20T13:37:39.206001Z"
    }
   },
   "outputs": [
    {
     "data": {
      "text/plain": [
       "True"
      ]
     },
     "execution_count": 64,
     "metadata": {},
     "output_type": "execute_result"
    }
   ],
   "source": [
    "l = [1, 2, 3, 4]\n",
    "2 in l"
   ]
  },
  {
   "cell_type": "code",
   "execution_count": 65,
   "id": "10a11de0",
   "metadata": {
    "execution": {
     "iopub.execute_input": "2021-09-20T13:37:39.211192Z",
     "iopub.status.busy": "2021-09-20T13:37:39.210629Z",
     "iopub.status.idle": "2021-09-20T13:37:39.212511Z",
     "shell.execute_reply": "2021-09-20T13:37:39.212981Z"
    }
   },
   "outputs": [
    {
     "name": "stdout",
     "output_type": "stream",
     "text": [
      "la clave es clave1 y el valor es valor1\n",
      "la clave es 2 y el valor es valor2\n",
      "la clave es clave3 y el valor es 3\n"
     ]
    }
   ],
   "source": [
    "for clave, valor in diccionario.items():\n",
    "    print(\"la clave es %s y el valor es %s\" % (clave, valor))"
   ]
  },
  {
   "cell_type": "code",
   "execution_count": 66,
   "id": "2fba1d20",
   "metadata": {
    "execution": {
     "iopub.execute_input": "2021-09-20T13:37:39.216839Z",
     "iopub.status.busy": "2021-09-20T13:37:39.216238Z",
     "iopub.status.idle": "2021-09-20T13:37:39.220597Z",
     "shell.execute_reply": "2021-09-20T13:37:39.221023Z"
    }
   },
   "outputs": [
    {
     "name": "stdout",
     "output_type": "stream",
     "text": [
      "la clave es clave1 y el valor es valor1\n",
      "la clave es 2 y el valor es valor2\n",
      "la clave es clave3 y el valor es 3\n"
     ]
    }
   ],
   "source": [
    "for clave, valor in diccionario.items():\n",
    "    print(\"la clave es {} y el valor es {}\".format(clave, valor))"
   ]
  },
  {
   "cell_type": "code",
   "execution_count": 67,
   "id": "b217bca7",
   "metadata": {
    "execution": {
     "iopub.execute_input": "2021-09-20T13:37:39.225541Z",
     "iopub.status.busy": "2021-09-20T13:37:39.224986Z",
     "iopub.status.idle": "2021-09-20T13:37:39.230001Z",
     "shell.execute_reply": "2021-09-20T13:37:39.229539Z"
    },
    "slideshow": {
     "slide_type": "slide"
    }
   },
   "outputs": [
    {
     "name": "stdout",
     "output_type": "stream",
     "text": [
      "la clave es clave1 y el valor es valor1\n",
      "la clave es 2 y el valor es valor2"
     ]
    },
    {
     "name": "stdout",
     "output_type": "stream",
     "text": [
      "\n",
      "la clave es clave3 y el valor es 3\n"
     ]
    }
   ],
   "source": [
    "# Cómo iterar un diccionario elemento por elemento\n",
    "for (\n",
    "    clave,\n",
    "    valor,\n",
    ") in (\n",
    "    diccionario.items()\n",
    "):  # diccionario.items() va devolviendo tuplas con el formato (clave,valor)\n",
    "    print(\n",
    "        f\"la clave es {clave} y el valor es {valor}\"\n",
    "    )  # con esta sintaxis se desempaquetan en clave y valor (similar a enumerate)"
   ]
  },
  {
   "cell_type": "code",
   "execution_count": 68,
   "id": "ffee77b3",
   "metadata": {
    "execution": {
     "iopub.execute_input": "2021-09-20T13:37:39.233768Z",
     "iopub.status.busy": "2021-09-20T13:37:39.233218Z",
     "iopub.status.idle": "2021-09-20T13:37:39.236874Z",
     "shell.execute_reply": "2021-09-20T13:37:39.237306Z"
    },
    "slideshow": {
     "slide_type": "slide"
    }
   },
   "outputs": [
    {
     "name": "stdout",
     "output_type": "stream",
     "text": [
      "clave1\n",
      "2\n",
      "clave3\n"
     ]
    }
   ],
   "source": [
    "for clave in diccionario.keys():\n",
    "    print(clave)"
   ]
  },
  {
   "cell_type": "code",
   "execution_count": 69,
   "id": "cffce299",
   "metadata": {
    "execution": {
     "iopub.execute_input": "2021-09-20T13:37:39.241290Z",
     "iopub.status.busy": "2021-09-20T13:37:39.240300Z",
     "iopub.status.idle": "2021-09-20T13:37:39.244903Z",
     "shell.execute_reply": "2021-09-20T13:37:39.244424Z"
    },
    "slideshow": {
     "slide_type": "slide"
    }
   },
   "outputs": [
    {
     "name": "stdout",
     "output_type": "stream",
     "text": [
      "valor1\n",
      "valor2\n",
      "3\n"
     ]
    }
   ],
   "source": [
    "for valor in diccionario.values():\n",
    "    print(valor)"
   ]
  },
  {
   "cell_type": "markdown",
   "id": "409c1d08",
   "metadata": {},
   "source": [
    "#### Sets\n",
    "\n",
    "Son similares a los diccionarios (en eficiencia) pero se almacenan solo claves, y tienen algunas operaciones particulares.\n",
    "\n",
    "En particular, no pueden tener elementos iguales (pensar que son conjuntos)"
   ]
  },
  {
   "cell_type": "code",
   "execution_count": 70,
   "id": "a070ba02",
   "metadata": {
    "execution": {
     "iopub.execute_input": "2021-09-20T13:37:39.250422Z",
     "iopub.status.busy": "2021-09-20T13:37:39.248293Z",
     "iopub.status.idle": "2021-09-20T13:37:39.252698Z",
     "shell.execute_reply": "2021-09-20T13:37:39.252241Z"
    }
   },
   "outputs": [],
   "source": [
    "set??"
   ]
  },
  {
   "cell_type": "code",
   "execution_count": 71,
   "id": "bf9e66ff",
   "metadata": {
    "execution": {
     "iopub.execute_input": "2021-09-20T13:37:39.256935Z",
     "iopub.status.busy": "2021-09-20T13:37:39.256387Z",
     "iopub.status.idle": "2021-09-20T13:37:39.260359Z",
     "shell.execute_reply": "2021-09-20T13:37:39.260782Z"
    }
   },
   "outputs": [
    {
     "data": {
      "text/plain": [
       "{1, 2, 3}"
      ]
     },
     "execution_count": 71,
     "metadata": {},
     "output_type": "execute_result"
    }
   ],
   "source": [
    "# Se definen como los diccionarios pero sin hacerlos 'clave:valor', solamente una seguidilla de elementos\n",
    "{1, 2, 2, 3}"
   ]
  },
  {
   "cell_type": "code",
   "execution_count": 72,
   "id": "b0a7214b",
   "metadata": {
    "execution": {
     "iopub.execute_input": "2021-09-20T13:37:39.265950Z",
     "iopub.status.busy": "2021-09-20T13:37:39.265340Z",
     "iopub.status.idle": "2021-09-20T13:37:39.268120Z",
     "shell.execute_reply": "2021-09-20T13:37:39.268536Z"
    }
   },
   "outputs": [
    {
     "data": {
      "text/plain": [
       "{1, 2, 3}"
      ]
     },
     "execution_count": 72,
     "metadata": {},
     "output_type": "execute_result"
    }
   ],
   "source": [
    "set([1, 2, 2, 3])"
   ]
  },
  {
   "cell_type": "markdown",
   "id": "e4cc877f",
   "metadata": {},
   "source": [
    "## Condicionales (if...elif...else)\n",
    "\n",
    "```python\n",
    "if <condición_1>:\n",
    "    <hacer algo_1 si se da la condición_1>\n",
    "elif <condición_2>:\n",
    "    <hacer algo_2 si se da la condición_2>\n",
    "...\n",
    "elif <condición_n>:\n",
    "    <hacer algo_n si se da la condición_n>\n",
    "else:\n",
    "    <hacer otra cosa si no dan las anteriores>\n",
    "```\n",
    "\n",
    "Algo importante para notar es que los bloques se definen por **niveles de identacion**."
   ]
  },
  {
   "cell_type": "code",
   "execution_count": 73,
   "id": "7ca04445",
   "metadata": {
    "execution": {
     "iopub.execute_input": "2021-09-20T13:37:39.272915Z",
     "iopub.status.busy": "2021-09-20T13:37:39.272356Z",
     "iopub.status.idle": "2021-09-20T13:37:39.276507Z",
     "shell.execute_reply": "2021-09-20T13:37:39.276082Z"
    }
   },
   "outputs": [
    {
     "name": "stdout",
     "output_type": "stream",
     "text": [
      "uno\n"
     ]
    }
   ],
   "source": [
    "v = 1\n",
    "if v == 1:\n",
    "    print(\"uno\")\n",
    "elif v == 2:\n",
    "    print(\"dos\")\n",
    "else:\n",
    "    print(\"ni idea\")\n",
    "    print(v)"
   ]
  },
  {
   "cell_type": "markdown",
   "id": "92400aa8",
   "metadata": {},
   "source": [
    "## Iteraciones\n",
    "\n",
    "```python\n",
    "while cond:\n",
    "    <codigo>\n",
    "```\n",
    "\n",
    "```python\n",
    "for elemento in iterable:\n",
    "    <codigo>\n",
    "```\n",
    "\n",
    "Para iterar sobre un rango de valores, usamos `range`"
   ]
  },
  {
   "cell_type": "code",
   "execution_count": 74,
   "id": "175988db",
   "metadata": {
    "execution": {
     "iopub.execute_input": "2021-09-20T13:37:39.280464Z",
     "iopub.status.busy": "2021-09-20T13:37:39.279907Z",
     "iopub.status.idle": "2021-09-20T13:37:39.284001Z",
     "shell.execute_reply": "2021-09-20T13:37:39.283550Z"
    }
   },
   "outputs": [
    {
     "name": "stdout",
     "output_type": "stream",
     "text": [
      "1\n",
      "4\n",
      "7\n",
      "10\n"
     ]
    }
   ],
   "source": [
    "for i in range(1, 11, 3):\n",
    "    print(i)"
   ]
  },
  {
   "cell_type": "markdown",
   "id": "70de9974",
   "metadata": {},
   "source": [
    "## Operadores logicos\n",
    "\n",
    "`not`, `or`, `and`"
   ]
  },
  {
   "cell_type": "code",
   "execution_count": 75,
   "id": "9e241d95",
   "metadata": {
    "execution": {
     "iopub.execute_input": "2021-09-20T13:37:39.287840Z",
     "iopub.status.busy": "2021-09-20T13:37:39.287230Z",
     "iopub.status.idle": "2021-09-20T13:37:39.289321Z",
     "shell.execute_reply": "2021-09-20T13:37:39.289765Z"
    }
   },
   "outputs": [
    {
     "name": "stdout",
     "output_type": "stream",
     "text": [
      "yay\n"
     ]
    }
   ],
   "source": [
    "if True or False:\n",
    "    print(\"yay\")"
   ]
  },
  {
   "cell_type": "code",
   "execution_count": 76,
   "id": "ed04791f",
   "metadata": {
    "execution": {
     "iopub.execute_input": "2021-09-20T13:37:39.293675Z",
     "iopub.status.busy": "2021-09-20T13:37:39.293171Z",
     "iopub.status.idle": "2021-09-20T13:37:39.297553Z",
     "shell.execute_reply": "2021-09-20T13:37:39.297985Z"
    }
   },
   "outputs": [
    {
     "data": {
      "text/plain": [
       "False"
      ]
     },
     "execution_count": 76,
     "metadata": {},
     "output_type": "execute_result"
    }
   ],
   "source": [
    "1 == 2"
   ]
  },
  {
   "cell_type": "code",
   "execution_count": 77,
   "id": "fdc00c13",
   "metadata": {
    "execution": {
     "iopub.execute_input": "2021-09-20T13:37:39.302658Z",
     "iopub.status.busy": "2021-09-20T13:37:39.301921Z",
     "iopub.status.idle": "2021-09-20T13:37:39.304433Z",
     "shell.execute_reply": "2021-09-20T13:37:39.304878Z"
    }
   },
   "outputs": [
    {
     "data": {
      "text/plain": [
       "True"
      ]
     },
     "execution_count": 77,
     "metadata": {},
     "output_type": "execute_result"
    }
   ],
   "source": [
    "1 != 2"
   ]
  },
  {
   "cell_type": "markdown",
   "id": "a4545ff8",
   "metadata": {
    "slideshow": {
     "slide_type": "slide"
    }
   },
   "source": [
    "## Funciones en Python"
   ]
  },
  {
   "cell_type": "code",
   "execution_count": 78,
   "id": "6e082873",
   "metadata": {
    "execution": {
     "iopub.execute_input": "2021-09-20T13:37:39.312849Z",
     "iopub.status.busy": "2021-09-20T13:37:39.311640Z",
     "iopub.status.idle": "2021-09-20T13:37:39.314638Z",
     "shell.execute_reply": "2021-09-20T13:37:39.314166Z"
    },
    "slideshow": {
     "slide_type": "slide"
    }
   },
   "outputs": [
    {
     "name": "stdout",
     "output_type": "stream",
     "text": [
      "True\n",
      "False\n"
     ]
    }
   ],
   "source": [
    "def busqueda_binaria(lista, elemento):\n",
    "    if not lista:\n",
    "        return False\n",
    "    elif len(lista) == 1:\n",
    "        return lista[0] == elemento\n",
    "    mitad = len(lista) // 2  # // es la operación división entera\n",
    "    if lista[mitad] == elemento:\n",
    "        return True\n",
    "    if lista[mitad] > elemento:\n",
    "        return busqueda_binaria(lista[:mitad], elemento)\n",
    "    if lista[mitad] < elemento:\n",
    "        return busqueda_binaria(lista[mitad:], elemento)\n",
    "\n",
    "\n",
    "print(busqueda_binaria([1, 2, 3, 4, 5], 4))\n",
    "print(busqueda_binaria([1, 4, 6, 7, 9, 10], 2))"
   ]
  },
  {
   "cell_type": "code",
   "execution_count": 79,
   "id": "c6fed06b",
   "metadata": {
    "execution": {
     "iopub.execute_input": "2021-09-20T13:37:39.319883Z",
     "iopub.status.busy": "2021-09-20T13:37:39.318898Z",
     "iopub.status.idle": "2021-09-20T13:37:39.321928Z",
     "shell.execute_reply": "2021-09-20T13:37:39.321464Z"
    }
   },
   "outputs": [
    {
     "name": "stdout",
     "output_type": "stream",
     "text": [
      "(3, 3, 3)\n"
     ]
    }
   ],
   "source": [
    "def a(b):\n",
    "    if a == 1:\n",
    "        print(a)\n",
    "    return (b, b, b)\n",
    "\n",
    "\n",
    "print(a(3))"
   ]
  },
  {
   "cell_type": "code",
   "execution_count": 80,
   "id": "44a9cd7b",
   "metadata": {
    "execution": {
     "iopub.execute_input": "2021-09-20T13:37:39.328450Z",
     "iopub.status.busy": "2021-09-20T13:37:39.326302Z",
     "iopub.status.idle": "2021-09-20T13:37:39.336075Z",
     "shell.execute_reply": "2021-09-20T13:37:39.336584Z"
    },
    "lines_to_next_cell": 2,
    "slideshow": {
     "slide_type": "slide"
    },
    "tags": [
     "raises-exception"
    ]
   },
   "outputs": [
    {
     "name": "stdout",
     "output_type": "stream",
     "text": [
      "3\n",
      "3.0\n",
      "3.0\n",
      "hola como te va\n",
      "[1, 2, 3, 4, 5]\n"
     ]
    },
    {
     "ename": "TypeError",
     "evalue": "can only concatenate str (not \"int\") to str",
     "output_type": "error",
     "traceback": [
      "\u001b[0;31m---------------------------------------------------------------------------\u001b[0m",
      "\u001b[0;31mTypeError\u001b[0m                                 Traceback (most recent call last)",
      "\u001b[0;32m/tmp/ipykernel_1965/1000948441.py\u001b[0m in \u001b[0;36m<module>\u001b[0;34m\u001b[0m\n\u001b[1;32m      8\u001b[0m \u001b[0mprint\u001b[0m\u001b[0;34m(\u001b[0m\u001b[0msuma\u001b[0m\u001b[0;34m(\u001b[0m\u001b[0;34m\"hola \"\u001b[0m\u001b[0;34m,\u001b[0m \u001b[0;34m\"como te va\"\u001b[0m\u001b[0;34m)\u001b[0m\u001b[0;34m)\u001b[0m\u001b[0;34m\u001b[0m\u001b[0;34m\u001b[0m\u001b[0m\n\u001b[1;32m      9\u001b[0m \u001b[0mprint\u001b[0m\u001b[0;34m(\u001b[0m\u001b[0msuma\u001b[0m\u001b[0;34m(\u001b[0m\u001b[0;34m[\u001b[0m\u001b[0;36m1\u001b[0m\u001b[0;34m,\u001b[0m \u001b[0;36m2\u001b[0m\u001b[0;34m,\u001b[0m \u001b[0;36m3\u001b[0m\u001b[0;34m]\u001b[0m\u001b[0;34m,\u001b[0m \u001b[0;34m[\u001b[0m\u001b[0;36m4\u001b[0m\u001b[0;34m,\u001b[0m \u001b[0;36m5\u001b[0m\u001b[0;34m]\u001b[0m\u001b[0;34m)\u001b[0m\u001b[0;34m)\u001b[0m\u001b[0;34m\u001b[0m\u001b[0;34m\u001b[0m\u001b[0m\n\u001b[0;32m---> 10\u001b[0;31m \u001b[0mprint\u001b[0m\u001b[0;34m(\u001b[0m\u001b[0msuma\u001b[0m\u001b[0;34m(\u001b[0m\u001b[0;34m\"1\"\u001b[0m\u001b[0;34m,\u001b[0m \u001b[0;36m3\u001b[0m\u001b[0;34m)\u001b[0m\u001b[0;34m)\u001b[0m  \u001b[0;31m# Falla\u001b[0m\u001b[0;34m\u001b[0m\u001b[0;34m\u001b[0m\u001b[0m\n\u001b[0m",
      "\u001b[0;32m/tmp/ipykernel_1965/1000948441.py\u001b[0m in \u001b[0;36msuma\u001b[0;34m(a, b)\u001b[0m\n\u001b[1;32m      1\u001b[0m \u001b[0;32mdef\u001b[0m \u001b[0msuma\u001b[0m\u001b[0;34m(\u001b[0m\u001b[0ma\u001b[0m\u001b[0;34m,\u001b[0m \u001b[0mb\u001b[0m\u001b[0;34m)\u001b[0m\u001b[0;34m:\u001b[0m\u001b[0;34m\u001b[0m\u001b[0;34m\u001b[0m\u001b[0m\n\u001b[0;32m----> 2\u001b[0;31m     \u001b[0;32mreturn\u001b[0m \u001b[0ma\u001b[0m \u001b[0;34m+\u001b[0m \u001b[0mb\u001b[0m\u001b[0;34m\u001b[0m\u001b[0;34m\u001b[0m\u001b[0m\n\u001b[0m\u001b[1;32m      3\u001b[0m \u001b[0;34m\u001b[0m\u001b[0m\n\u001b[1;32m      4\u001b[0m \u001b[0;34m\u001b[0m\u001b[0m\n\u001b[1;32m      5\u001b[0m \u001b[0mprint\u001b[0m\u001b[0;34m(\u001b[0m\u001b[0msuma\u001b[0m\u001b[0;34m(\u001b[0m\u001b[0;36m1\u001b[0m\u001b[0;34m,\u001b[0m \u001b[0;36m2\u001b[0m\u001b[0;34m)\u001b[0m\u001b[0;34m)\u001b[0m\u001b[0;34m\u001b[0m\u001b[0;34m\u001b[0m\u001b[0m\n",
      "\u001b[0;31mTypeError\u001b[0m: can only concatenate str (not \"int\") to str"
     ]
    }
   ],
   "source": [
    "def suma(a, b):\n",
    "    return a + b\n",
    "\n",
    "\n",
    "print(suma(1, 2))\n",
    "print(suma(1.0, 2.0))\n",
    "print(suma(1.0, 2))\n",
    "print(suma(\"hola \", \"como te va\"))\n",
    "print(suma([1, 2, 3], [4, 5]))\n",
    "print(suma(\"1\", 3))  # Falla"
   ]
  },
  {
   "cell_type": "code",
   "execution_count": 81,
   "id": "993d1abb",
   "metadata": {
    "execution": {
     "iopub.execute_input": "2021-09-20T13:37:39.341866Z",
     "iopub.status.busy": "2021-09-20T13:37:39.340788Z",
     "iopub.status.idle": "2021-09-20T13:37:39.343757Z",
     "shell.execute_reply": "2021-09-20T13:37:39.343256Z"
    }
   },
   "outputs": [
    {
     "name": "stdout",
     "output_type": "stream",
     "text": [
      "2.0\n"
     ]
    }
   ],
   "source": [
    "# El valor por default de divisor es 1\n",
    "\n",
    "\n",
    "def division(dividendo, divisor=2):\n",
    "    return dividendo / divisor\n",
    "\n",
    "\n",
    "print(division(4))  # Usa el valor por default"
   ]
  },
  {
   "cell_type": "code",
   "execution_count": 82,
   "id": "82756894",
   "metadata": {
    "execution": {
     "iopub.execute_input": "2021-09-20T13:37:39.351344Z",
     "iopub.status.busy": "2021-09-20T13:37:39.347079Z",
     "iopub.status.idle": "2021-09-20T13:37:39.353970Z",
     "shell.execute_reply": "2021-09-20T13:37:39.354417Z"
    },
    "tags": [
     "raises-exception"
    ]
   },
   "outputs": [
    {
     "name": "stdout",
     "output_type": "stream",
     "text": [
      "0.5\n",
      "0.5\n"
     ]
    },
    {
     "ename": "TypeError",
     "evalue": "division() missing 1 required positional argument: 'dividendo'",
     "output_type": "error",
     "traceback": [
      "\u001b[0;31m---------------------------------------------------------------------------\u001b[0m",
      "\u001b[0;31mTypeError\u001b[0m                                 Traceback (most recent call last)",
      "\u001b[0;32m/tmp/ipykernel_1965/1004518412.py\u001b[0m in \u001b[0;36m<module>\u001b[0;34m\u001b[0m\n\u001b[1;32m      1\u001b[0m \u001b[0mprint\u001b[0m\u001b[0;34m(\u001b[0m\u001b[0mdivision\u001b[0m\u001b[0;34m(\u001b[0m\u001b[0;36m1\u001b[0m\u001b[0;34m,\u001b[0m \u001b[0;36m2\u001b[0m\u001b[0;34m)\u001b[0m\u001b[0;34m)\u001b[0m  \u001b[0;31m# Parámetros por orden\u001b[0m\u001b[0;34m\u001b[0m\u001b[0;34m\u001b[0m\u001b[0m\n\u001b[1;32m      2\u001b[0m \u001b[0mprint\u001b[0m\u001b[0;34m(\u001b[0m\u001b[0mdivision\u001b[0m\u001b[0;34m(\u001b[0m\u001b[0mdividendo\u001b[0m\u001b[0;34m=\u001b[0m\u001b[0;36m1\u001b[0m\u001b[0;34m,\u001b[0m \u001b[0mdivisor\u001b[0m\u001b[0;34m=\u001b[0m\u001b[0;36m2\u001b[0m\u001b[0;34m)\u001b[0m\u001b[0;34m)\u001b[0m  \u001b[0;31m# Parámetros por nombre\u001b[0m\u001b[0;34m\u001b[0m\u001b[0;34m\u001b[0m\u001b[0m\n\u001b[0;32m----> 3\u001b[0;31m \u001b[0mprint\u001b[0m\u001b[0;34m(\u001b[0m\u001b[0mdivision\u001b[0m\u001b[0;34m(\u001b[0m\u001b[0mdivisor\u001b[0m\u001b[0;34m=\u001b[0m\u001b[0;36m2\u001b[0m\u001b[0;34m)\u001b[0m\u001b[0;34m)\u001b[0m\u001b[0;34m\u001b[0m\u001b[0;34m\u001b[0m\u001b[0m\n\u001b[0m",
      "\u001b[0;31mTypeError\u001b[0m: division() missing 1 required positional argument: 'dividendo'"
     ]
    }
   ],
   "source": [
    "print(division(1, 2))  # Parámetros por orden\n",
    "print(division(dividendo=1, divisor=2))  # Parámetros por nombre\n",
    "print(division(divisor=2))"
   ]
  },
  {
   "cell_type": "code",
   "execution_count": 83,
   "id": "6fde3fec",
   "metadata": {
    "execution": {
     "iopub.execute_input": "2021-09-20T13:37:39.358616Z",
     "iopub.status.busy": "2021-09-20T13:37:39.358069Z",
     "iopub.status.idle": "2021-09-20T13:37:39.360047Z",
     "shell.execute_reply": "2021-09-20T13:37:39.360510Z"
    }
   },
   "outputs": [
    {
     "name": "stdout",
     "output_type": "stream",
     "text": [
      "0.5\n"
     ]
    }
   ],
   "source": [
    "print(division(divisor=2, dividendo=1))"
   ]
  },
  {
   "cell_type": "code",
   "execution_count": 84,
   "id": "90ddcdb9",
   "metadata": {
    "execution": {
     "iopub.execute_input": "2021-09-20T13:37:39.365991Z",
     "iopub.status.busy": "2021-09-20T13:37:39.365445Z",
     "iopub.status.idle": "2021-09-20T13:37:39.368023Z",
     "shell.execute_reply": "2021-09-20T13:37:39.368478Z"
    }
   },
   "outputs": [
    {
     "name": "stdout",
     "output_type": "stream",
     "text": [
      "['a', 'b', 'c']\n",
      "[1, 2, 3]\n",
      "['hola', ' don', ' pepito']\n",
      "hola -  don -  pepito\n"
     ]
    }
   ],
   "source": [
    "# Funciones básicas ya en el lenguaje\n",
    "# Hechas para funcionar para distintos tipos\n",
    "\n",
    "string_ordenado = sorted('bca')\n",
    "print(string_ordenado)\n",
    "\n",
    "lista_ordenada = sorted([1, 3, 2])\n",
    "print(lista_ordenada)\n",
    "\n",
    "separadas = \"hola, don, pepito\".split(\",\")\n",
    "print(separadas)\n",
    "unidas = \" - \".join(separadas)\n",
    "print(unidas)"
   ]
  },
  {
   "cell_type": "markdown",
   "id": "af0429d2",
   "metadata": {},
   "source": [
    "## Módulos\n",
    "\n",
    "Para incluir alguna biblioteca de funciones se usa `import`. Pueden ser cosas ya predefinidas en Python (`math`, `random`, etc), nombres de archivos en nuestro directorio (por ejemplo, para `mimodulo.py` ponemos `import mimodulo`) o bibliotecas instaladas por el usuario"
   ]
  },
  {
   "cell_type": "code",
   "execution_count": 85,
   "id": "abfd1984",
   "metadata": {
    "execution": {
     "iopub.execute_input": "2021-09-20T13:37:39.372514Z",
     "iopub.status.busy": "2021-09-20T13:37:39.371965Z",
     "iopub.status.idle": "2021-09-20T13:37:39.373724Z",
     "shell.execute_reply": "2021-09-20T13:37:39.374141Z"
    }
   },
   "outputs": [
    {
     "name": "stdout",
     "output_type": "stream",
     "text": [
      "3.141592653589793\n"
     ]
    }
   ],
   "source": [
    "import math\n",
    "\n",
    "print(math.pi)"
   ]
  },
  {
   "cell_type": "code",
   "execution_count": 86,
   "id": "ffaba354",
   "metadata": {
    "execution": {
     "iopub.execute_input": "2021-09-20T13:37:39.377708Z",
     "iopub.status.busy": "2021-09-20T13:37:39.376265Z",
     "iopub.status.idle": "2021-09-20T13:37:39.380231Z",
     "shell.execute_reply": "2021-09-20T13:37:39.379778Z"
    }
   },
   "outputs": [
    {
     "name": "stdout",
     "output_type": "stream",
     "text": [
      "3.141592653589793 2.718281828459045\n"
     ]
    }
   ],
   "source": [
    "from math import pi, e\n",
    "\n",
    "print(pi, e)"
   ]
  },
  {
   "cell_type": "code",
   "execution_count": 87,
   "id": "06b873e4",
   "metadata": {
    "execution": {
     "iopub.execute_input": "2021-09-20T13:37:39.382756Z",
     "iopub.status.busy": "2021-09-20T13:37:39.382193Z",
     "iopub.status.idle": "2021-09-20T13:37:39.387062Z",
     "shell.execute_reply": "2021-09-20T13:37:39.386501Z"
    }
   },
   "outputs": [
    {
     "data": {
      "text/plain": [
       "2"
      ]
     },
     "execution_count": 87,
     "metadata": {},
     "output_type": "execute_result"
    }
   ],
   "source": [
    "math.gcd(56, 78)"
   ]
  },
  {
   "cell_type": "markdown",
   "id": "a71b81e4",
   "metadata": {},
   "source": [
    "## Manejo de excepciones\n",
    "\n",
    "Se pueden encapsular errores esperados en un bloque 'try/except' para evitar cortar el flujo del programa"
   ]
  },
  {
   "cell_type": "code",
   "execution_count": 88,
   "id": "9e15ff6a",
   "metadata": {
    "execution": {
     "iopub.execute_input": "2021-09-20T13:37:39.390538Z",
     "iopub.status.busy": "2021-09-20T13:37:39.389993Z",
     "iopub.status.idle": "2021-09-20T13:37:39.398121Z",
     "shell.execute_reply": "2021-09-20T13:37:39.397629Z"
    },
    "tags": [
     "raises-exception"
    ]
   },
   "outputs": [
    {
     "ename": "ZeroDivisionError",
     "evalue": "division by zero",
     "output_type": "error",
     "traceback": [
      "\u001b[0;31m---------------------------------------------------------------------------\u001b[0m",
      "\u001b[0;31mZeroDivisionError\u001b[0m                         Traceback (most recent call last)",
      "\u001b[0;32m/tmp/ipykernel_1965/1165346582.py\u001b[0m in \u001b[0;36m<module>\u001b[0;34m\u001b[0m\n\u001b[0;32m----> 1\u001b[0;31m \u001b[0mdivision\u001b[0m\u001b[0;34m(\u001b[0m\u001b[0;36m1\u001b[0m\u001b[0;34m,\u001b[0m \u001b[0;36m0\u001b[0m\u001b[0;34m)\u001b[0m  \u001b[0;31m# No se puede dividir por cero\u001b[0m\u001b[0;34m\u001b[0m\u001b[0;34m\u001b[0m\u001b[0m\n\u001b[0m",
      "\u001b[0;32m/tmp/ipykernel_1965/2607187721.py\u001b[0m in \u001b[0;36mdivision\u001b[0;34m(dividendo, divisor)\u001b[0m\n\u001b[1;32m      3\u001b[0m \u001b[0;34m\u001b[0m\u001b[0m\n\u001b[1;32m      4\u001b[0m \u001b[0;32mdef\u001b[0m \u001b[0mdivision\u001b[0m\u001b[0;34m(\u001b[0m\u001b[0mdividendo\u001b[0m\u001b[0;34m,\u001b[0m \u001b[0mdivisor\u001b[0m\u001b[0;34m=\u001b[0m\u001b[0;36m2\u001b[0m\u001b[0;34m)\u001b[0m\u001b[0;34m:\u001b[0m\u001b[0;34m\u001b[0m\u001b[0;34m\u001b[0m\u001b[0m\n\u001b[0;32m----> 5\u001b[0;31m     \u001b[0;32mreturn\u001b[0m \u001b[0mdividendo\u001b[0m \u001b[0;34m/\u001b[0m \u001b[0mdivisor\u001b[0m\u001b[0;34m\u001b[0m\u001b[0;34m\u001b[0m\u001b[0m\n\u001b[0m\u001b[1;32m      6\u001b[0m \u001b[0;34m\u001b[0m\u001b[0m\n\u001b[1;32m      7\u001b[0m \u001b[0;34m\u001b[0m\u001b[0m\n",
      "\u001b[0;31mZeroDivisionError\u001b[0m: division by zero"
     ]
    }
   ],
   "source": [
    "division(1, 0)  # No se puede dividir por cero"
   ]
  },
  {
   "cell_type": "code",
   "execution_count": 89,
   "id": "fb924efd",
   "metadata": {
    "execution": {
     "iopub.execute_input": "2021-09-20T13:37:39.403650Z",
     "iopub.status.busy": "2021-09-20T13:37:39.402429Z",
     "iopub.status.idle": "2021-09-20T13:37:39.405369Z",
     "shell.execute_reply": "2021-09-20T13:37:39.404927Z"
    }
   },
   "outputs": [
    {
     "name": "stdout",
     "output_type": "stream",
     "text": [
      "No se puede dividir por cero, ojo! division by zero\n",
      "1\n"
     ]
    }
   ],
   "source": [
    "try:\n",
    "    division(1, 0)\n",
    "except (ZeroDivisionError, TypeError) as e:\n",
    "    print('No se puede dividir por cero, ojo!', e)\n",
    "finally:\n",
    "    print(1)"
   ]
  },
  {
   "cell_type": "markdown",
   "id": "7bc3b16d",
   "metadata": {
    "slideshow": {
     "slide_type": "slide"
    }
   },
   "source": [
    "## Lectura y escritura de archivos"
   ]
  },
  {
   "cell_type": "code",
   "execution_count": 90,
   "id": "bff4ccfd",
   "metadata": {
    "execution": {
     "iopub.execute_input": "2021-09-20T13:37:39.410503Z",
     "iopub.status.busy": "2021-09-20T13:37:39.409920Z",
     "iopub.status.idle": "2021-09-20T13:37:39.412054Z",
     "shell.execute_reply": "2021-09-20T13:37:39.412513Z"
    },
    "slideshow": {
     "slide_type": "slide"
    }
   },
   "outputs": [
    {
     "name": "stdout",
     "output_type": "stream",
     "text": [
      "<_io.TextIOWrapper name='archivo.csv' mode='w' encoding='UTF-8'>\n"
     ]
    }
   ],
   "source": [
    "import random\n",
    "\n",
    "with open(\n",
    "    'archivo.csv', 'w'\n",
    ") as archivo:  # Al usar esta sintaxis no es necesario hacer close\n",
    "    archivo.write(\"Alumno, nota\\n\")\n",
    "    # Tambien de forma similar al fprintf se puede hacer:\n",
    "    # print(\"Alumno, nota\\n\", file=archivo)\n",
    "    for i in range(0, 10):\n",
    "        archivo.write(f\"{i},{random.randrange(0,10)}\\n\")\n",
    "\n",
    "print(archivo)  # Comentario aclaratorio:\n",
    "# Las variables definidas en un determinado scope siguen existiendo por fuera del mismo.\n",
    "# Se debe tener cuidado con esto, ya que nada garantiza que por fuera el valor sea el esperado."
   ]
  },
  {
   "cell_type": "code",
   "execution_count": 91,
   "id": "db836ba3",
   "metadata": {
    "execution": {
     "iopub.execute_input": "2021-09-20T13:37:39.416466Z",
     "iopub.status.busy": "2021-09-20T13:37:39.415862Z",
     "iopub.status.idle": "2021-09-20T13:37:39.420457Z",
     "shell.execute_reply": "2021-09-20T13:37:39.419971Z"
    },
    "slideshow": {
     "slide_type": "slide"
    }
   },
   "outputs": [
    {
     "name": "stdout",
     "output_type": "stream",
     "text": [
      "Alumno, nota\n",
      "0,5\n",
      "1,9"
     ]
    },
    {
     "name": "stdout",
     "output_type": "stream",
     "text": [
      "\n",
      "2,8\n",
      "3,3\n",
      "4,3\n",
      "5,4\n",
      "6,6\n",
      "7,2\n",
      "8,8\n",
      "9,6\n"
     ]
    }
   ],
   "source": [
    "with open('archivo.csv', 'r') as f:\n",
    "    for linea in f:\n",
    "        print(linea.strip())"
   ]
  },
  {
   "cell_type": "code",
   "execution_count": 92,
   "id": "9c52afb6",
   "metadata": {
    "execution": {
     "iopub.execute_input": "2021-09-20T13:37:39.424124Z",
     "iopub.status.busy": "2021-09-20T13:37:39.423497Z",
     "iopub.status.idle": "2021-09-20T13:37:39.426369Z",
     "shell.execute_reply": "2021-09-20T13:37:39.425889Z"
    }
   },
   "outputs": [
    {
     "name": "stdout",
     "output_type": "stream",
     "text": [
      "Alumno, nota\n",
      "0,5\n",
      "1,9\n",
      "2,8\n",
      "3,3\n",
      "4,3\n",
      "5,4\n",
      "6,6\n",
      "7,2\n",
      "8,8\n",
      "9,6\n",
      "\n"
     ]
    }
   ],
   "source": [
    "with open('archivo.csv', 'r') as f:\n",
    "    print(f.read())"
   ]
  },
  {
   "cell_type": "code",
   "execution_count": 93,
   "id": "7f880382",
   "metadata": {
    "execution": {
     "iopub.execute_input": "2021-09-20T13:37:39.430236Z",
     "iopub.status.busy": "2021-09-20T13:37:39.429649Z",
     "iopub.status.idle": "2021-09-20T13:37:39.432253Z",
     "shell.execute_reply": "2021-09-20T13:37:39.431793Z"
    }
   },
   "outputs": [],
   "source": [
    "f = open('archivo.csv', 'w')\n",
    "f.write(\"algo, algo\")\n",
    "f.close()"
   ]
  },
  {
   "cell_type": "markdown",
   "id": "d43da11b",
   "metadata": {
    "slideshow": {
     "slide_type": "slide"
    }
   },
   "source": [
    "## Objetos\n",
    "\n",
    "Los objetos tienen metodos y atributos:\n",
    "- Atributos: equivalentes a variables.\n",
    "- Métodos: equivalentes a las primitivas."
   ]
  },
  {
   "cell_type": "markdown",
   "id": "991e07c0",
   "metadata": {
    "slideshow": {
     "slide_type": "slide"
    }
   },
   "source": [
    "### Cómo creo una clase"
   ]
  },
  {
   "cell_type": "code",
   "execution_count": 94,
   "id": "2d57f1a0",
   "metadata": {
    "execution": {
     "iopub.execute_input": "2021-09-20T13:37:39.438405Z",
     "iopub.status.busy": "2021-09-20T13:37:39.437851Z",
     "iopub.status.idle": "2021-09-20T13:37:39.441342Z",
     "shell.execute_reply": "2021-09-20T13:37:39.440859Z"
    },
    "slideshow": {
     "slide_type": "slide"
    }
   },
   "outputs": [],
   "source": [
    "class Nodo(object):\n",
    "    def __init__(self, dato, siguiente=None):\n",
    "        self._dato = dato\n",
    "        self._siguiente = siguiente\n",
    "\n",
    "    @property\n",
    "    def dato(self):\n",
    "        return self._dato\n",
    "\n",
    "    @property\n",
    "    def proximo(self):\n",
    "        return self._siguiente\n",
    "\n",
    "    @proximo.setter\n",
    "    def proximo(self, siguiente):\n",
    "        self._siguiente = siguiente\n",
    "\n",
    "    def __repr__(self):\n",
    "        return str(self.dato)\n",
    "\n",
    "    def __str__(self):\n",
    "        return str(self.dato)"
   ]
  },
  {
   "cell_type": "code",
   "execution_count": 95,
   "id": "85e1f0e0",
   "metadata": {
    "execution": {
     "iopub.execute_input": "2021-09-20T13:37:39.445574Z",
     "iopub.status.busy": "2021-09-20T13:37:39.445026Z",
     "iopub.status.idle": "2021-09-20T13:37:39.448999Z",
     "shell.execute_reply": "2021-09-20T13:37:39.448256Z"
    },
    "slideshow": {
     "slide_type": "slide"
    }
   },
   "outputs": [
    {
     "name": "stdout",
     "output_type": "stream",
     "text": [
      "hola\n"
     ]
    }
   ],
   "source": [
    "nodo = Nodo(\"hola\")\n",
    "print(nodo)"
   ]
  },
  {
   "cell_type": "code",
   "execution_count": 96,
   "id": "a3e257b7",
   "metadata": {
    "execution": {
     "iopub.execute_input": "2021-09-20T13:37:39.453001Z",
     "iopub.status.busy": "2021-09-20T13:37:39.450998Z",
     "iopub.status.idle": "2021-09-20T13:37:39.455028Z",
     "shell.execute_reply": "2021-09-20T13:37:39.455486Z"
    },
    "slideshow": {
     "slide_type": "slide"
    }
   },
   "outputs": [
    {
     "name": "stdout",
     "output_type": "stream",
     "text": [
      "[hola, lala]\n"
     ]
    }
   ],
   "source": [
    "nodo2 = Nodo(\"lala\")\n",
    "print([nodo, nodo2])"
   ]
  },
  {
   "cell_type": "code",
   "execution_count": 97,
   "id": "c94ce9d6",
   "metadata": {
    "execution": {
     "iopub.execute_input": "2021-09-20T13:37:39.460562Z",
     "iopub.status.busy": "2021-09-20T13:37:39.459307Z",
     "iopub.status.idle": "2021-09-20T13:37:39.462369Z",
     "shell.execute_reply": "2021-09-20T13:37:39.461891Z"
    },
    "slideshow": {
     "slide_type": "slide"
    }
   },
   "outputs": [
    {
     "name": "stdout",
     "output_type": "stream",
     "text": [
      "hola\n"
     ]
    }
   ],
   "source": [
    "nodo3 = nodo.dato\n",
    "print(nodo3)"
   ]
  },
  {
   "cell_type": "markdown",
   "id": "a004499c",
   "metadata": {
    "slideshow": {
     "slide_type": "slide"
    }
   },
   "source": [
    "### Ejemplo: Lista Enlazada"
   ]
  },
  {
   "cell_type": "code",
   "execution_count": 98,
   "id": "d8fc4470",
   "metadata": {
    "execution": {
     "iopub.execute_input": "2021-09-20T13:37:39.471724Z",
     "iopub.status.busy": "2021-09-20T13:37:39.468293Z",
     "iopub.status.idle": "2021-09-20T13:37:39.473880Z",
     "shell.execute_reply": "2021-09-20T13:37:39.473392Z"
    },
    "slideshow": {
     "slide_type": "slide"
    }
   },
   "outputs": [],
   "source": [
    "class ListaEnlazada(object):\n",
    "    def __init__(self):\n",
    "        self._primero = None\n",
    "        self._ultimo = None\n",
    "        self._largo = 0\n",
    "\n",
    "    def __len__(self):\n",
    "        return self._largo\n",
    "\n",
    "    def insertar_al_principio(self, dato):\n",
    "        nodo = Nodo(dato, self._primero)\n",
    "        self._primero = nodo\n",
    "        self._largo += 1\n",
    "        if self._largo == 1:\n",
    "            self._ultimo = nodo\n",
    "\n",
    "    def insertar_al_final(self, dato):\n",
    "        if self._largo != 0:\n",
    "            nodo = Nodo(dato)\n",
    "            nodo_anterior = self._ultimo\n",
    "            nodo_anterior._siguiente = nodo\n",
    "            self._ultimo = nodo\n",
    "            self._largo += 1\n",
    "        else:\n",
    "            self.insertar_al_principio(dato)\n",
    "\n",
    "    @property\n",
    "    def primero(self):\n",
    "        return self._primero.dato\n",
    "\n",
    "    def borrar_primero(self):\n",
    "        dato = self.primero.dato\n",
    "        self._primero = self.primero.siguiente\n",
    "        self._largo -= 1\n",
    "        if self._largo == 0:\n",
    "            self._ultimo = None\n",
    "        return dato\n",
    "\n",
    "    def __str__(self):\n",
    "        datos = []\n",
    "        nodo_actual = self._primero\n",
    "        while nodo_actual:\n",
    "            datos.append(nodo_actual.dato)\n",
    "            nodo_actual = nodo_actual.proximo\n",
    "        return \" -> \".join(datos)\n",
    "\n",
    "    def __repr__(self):\n",
    "        return self.__str__()"
   ]
  },
  {
   "cell_type": "code",
   "execution_count": 99,
   "id": "6416c496",
   "metadata": {
    "execution": {
     "iopub.execute_input": "2021-09-20T13:37:39.479855Z",
     "iopub.status.busy": "2021-09-20T13:37:39.478829Z",
     "iopub.status.idle": "2021-09-20T13:37:39.482109Z",
     "shell.execute_reply": "2021-09-20T13:37:39.481634Z"
    },
    "slideshow": {
     "slide_type": "slide"
    }
   },
   "outputs": [
    {
     "data": {
      "text/plain": [
       "2"
      ]
     },
     "execution_count": 99,
     "metadata": {},
     "output_type": "execute_result"
    }
   ],
   "source": [
    "lista = ListaEnlazada()\n",
    "lista.insertar_al_principio(\"Primer Dato\")\n",
    "lista.insertar_al_principio(\"Primer primer Dato\")\n",
    "len(lista)"
   ]
  },
  {
   "cell_type": "code",
   "execution_count": 100,
   "id": "704e49d3",
   "metadata": {
    "execution": {
     "iopub.execute_input": "2021-09-20T13:37:39.486462Z",
     "iopub.status.busy": "2021-09-20T13:37:39.484164Z",
     "iopub.status.idle": "2021-09-20T13:37:39.488568Z",
     "shell.execute_reply": "2021-09-20T13:37:39.489022Z"
    }
   },
   "outputs": [
    {
     "data": {
      "text/plain": [
       "Primer primer Dato -> Primer Dato"
      ]
     },
     "execution_count": 100,
     "metadata": {},
     "output_type": "execute_result"
    }
   ],
   "source": [
    "lista"
   ]
  },
  {
   "cell_type": "code",
   "execution_count": 101,
   "id": "20fb64a5",
   "metadata": {
    "execution": {
     "iopub.execute_input": "2021-09-20T13:37:39.492978Z",
     "iopub.status.busy": "2021-09-20T13:37:39.491073Z",
     "iopub.status.idle": "2021-09-20T13:37:39.495001Z",
     "shell.execute_reply": "2021-09-20T13:37:39.495448Z"
    },
    "slideshow": {
     "slide_type": "slide"
    }
   },
   "outputs": [
    {
     "name": "stdout",
     "output_type": "stream",
     "text": [
      "Primer primer Dato\n"
     ]
    }
   ],
   "source": [
    "elemento = lista.primero\n",
    "print(elemento)"
   ]
  },
  {
   "cell_type": "markdown",
   "id": "3d415ed0",
   "metadata": {},
   "source": [
    "## Recursos\n",
    "\n",
    "* [Taller de Python de Algoritmos II](https://github.com/algoritmos-rw/algo2_apuntes)\n",
    "\n",
    "* [Documentación de Python 3](https://docs.python.org/3/tutorial/)\n",
    "\n",
    "* [Apunte de Algoritmos y Programación I](https://algoritmos1rw.ddns.net/material)\n",
    "\n",
    "* [Automate the Boring Stuff with Python](http://automatetheboringstuff.com/)\n",
    "\n",
    "* [Curso Python](https://pythoncurso.github.io)\n",
    "\n",
    "* [Python Tutor](http://pythontutor.com/)\n",
    "\n",
    "* [Learn Python3 in Y minutes](https://learnxinyminutes.com/docs/python3/)\n",
    "\n",
    "* [Bibliografía de Algoritmos y Programación I](https://algoritmos1rw.ddns.net/bibliografia)"
   ]
  }
 ],
 "metadata": {
  "jupytext": {
   "encoding": "# -*- coding: utf-8 -*-",
   "formats": "ipynb,py:light"
  },
  "kernelspec": {
   "display_name": "Python 3 (venv)",
   "language": "python",
   "name": "python3"
  },
  "language_info": {
   "codemirror_mode": {
    "name": "ipython",
    "version": 3
   },
   "file_extension": ".py",
   "mimetype": "text/x-python",
   "name": "python",
   "nbconvert_exporter": "python",
   "pygments_lexer": "ipython3",
   "version": "3.7.12"
  }
 },
 "nbformat": 4,
 "nbformat_minor": 5
}
