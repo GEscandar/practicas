{
 "cells": [
  {
   "cell_type": "markdown",
   "id": "c93c0a8c",
   "metadata": {},
   "source": [
    "# Python"
   ]
  },
  {
   "cell_type": "markdown",
   "id": "d31b2b3c",
   "metadata": {
    "slideshow": {
     "slide_type": "slide"
    }
   },
   "source": [
    "## Un poco de Historia"
   ]
  },
  {
   "cell_type": "markdown",
   "id": "17a5d9c1",
   "metadata": {
    "slideshow": {
     "slide_type": "subslide"
    }
   },
   "source": [
    "Python fue creado a finales de los años 80 por un programador holandés llamado **Guido van Rossum**,\n",
    "quien sigue siendo aún hoy el líder del desarrollo del lenguaje.\n",
    "\n",
    "(Edit julio 2018: [ya no más](https://www.mail-archive.com/python-committers@python.org/msg05628.html))"
   ]
  },
  {
   "cell_type": "markdown",
   "id": "4ab6393e",
   "metadata": {
    "slideshow": {
     "slide_type": "subslide"
    }
   },
   "source": [
    "El nombre del lenguaje proviene de los humoristas británicos Monty Python.\n",
    "\n",
    ">*\"I chose Python as a working title for the project, being in a slightly irreverent mood (and a big fan of Monty Python's Flying Circus).\"*"
   ]
  },
  {
   "cell_type": "markdown",
   "id": "fa4ae5bf",
   "metadata": {
    "slideshow": {
     "slide_type": "slide"
    }
   },
   "source": [
    "## Caracteristicas\n",
    "\n",
    "- Interpretado\n",
    "- Tipado dinamico\n",
    "- Multiparadigma\n",
    "- Alto nivel\n",
    "- Tiene un recolector de basura (no hay malloc, free, realloc, etc)"
   ]
  },
  {
   "cell_type": "markdown",
   "id": "9d125b5b",
   "metadata": {},
   "source": [
    "## ¿Cómo empezar?\n",
    "\n",
    "* Al ser un lenguaje *interpretado*, se puede ir escribiendo a medida que se ejecuta, sin necesidad de compilar de antemano! Solamente hace falta escribir `python` o `python3` en una terminal para empezar\n",
    "\n",
    "* También, permite escribir archivos y correrlos. Crear un archivo con extensión `.py` y luego correr `python miarchivo.py` en laterminal"
   ]
  },
  {
   "cell_type": "markdown",
   "id": "f6ed6a24",
   "metadata": {
    "slideshow": {
     "slide_type": "slide"
    }
   },
   "source": [
    "## El Zen de Python"
   ]
  },
  {
   "cell_type": "code",
   "execution_count": 1,
   "id": "54badeaa",
   "metadata": {
    "execution": {
     "iopub.execute_input": "2021-11-02T16:32:42.514259Z",
     "iopub.status.busy": "2021-11-02T16:32:42.513672Z",
     "iopub.status.idle": "2021-11-02T16:32:42.529399Z",
     "shell.execute_reply": "2021-11-02T16:32:42.529877Z"
    },
    "slideshow": {
     "slide_type": "slide"
    }
   },
   "outputs": [
    {
     "name": "stdout",
     "output_type": "stream",
     "text": [
      "The Zen of Python, by Tim Peters\n",
      "\n",
      "Beautiful is better than ugly.\n",
      "Explicit is better than implicit.\n",
      "Simple is better than complex.\n",
      "Complex is better than complicated.\n",
      "Flat is better than nested.\n",
      "Sparse is better than dense.\n",
      "Readability counts.\n",
      "Special cases aren't special enough to break the rules.\n",
      "Although practicality beats purity.\n",
      "Errors should never pass silently.\n",
      "Unless explicitly silenced.\n",
      "In the face of ambiguity, refuse the temptation to guess.\n",
      "There should be one-- and preferably only one --obvious way to do it.\n",
      "Although that way may not be obvious at first unless you're Dutch.\n",
      "Now is better than never.\n",
      "Although never is often better than *right* now.\n",
      "If the implementation is hard to explain, it's a bad idea.\n",
      "If the implementation is easy to explain, it may be a good idea.\n",
      "Namespaces are one honking great idea -- let's do more of those!\n"
     ]
    }
   ],
   "source": [
    "import this"
   ]
  },
  {
   "cell_type": "markdown",
   "id": "63afe4fb",
   "metadata": {
    "slideshow": {
     "slide_type": "slide"
    }
   },
   "source": [
    "## Conocimientos Básicos de Python: Variables y Tipos"
   ]
  },
  {
   "cell_type": "code",
   "execution_count": 2,
   "id": "15e4ec75",
   "metadata": {
    "execution": {
     "iopub.execute_input": "2021-11-02T16:32:42.535833Z",
     "iopub.status.busy": "2021-11-02T16:32:42.534480Z",
     "iopub.status.idle": "2021-11-02T16:32:42.538051Z",
     "shell.execute_reply": "2021-11-02T16:32:42.537556Z"
    },
    "slideshow": {
     "slide_type": "slide"
    }
   },
   "outputs": [
    {
     "name": "stdout",
     "output_type": "stream",
     "text": [
      "Hello World!\n"
     ]
    }
   ],
   "source": [
    "# Este es un comentario\n",
    "\n",
    "print(\"Hello World!\")"
   ]
  },
  {
   "cell_type": "markdown",
   "id": "8a3c95d0",
   "metadata": {},
   "source": [
    "Los strings en python puden escribirse tanto con comillas simples (`'`) como comillas dobles (`\"`). Normalmente vemos texto entre comillas triples para escribir _docstrings_, segun la guia de estilo de Python, el PEP8."
   ]
  },
  {
   "cell_type": "code",
   "execution_count": 3,
   "id": "fa249098",
   "metadata": {
    "execution": {
     "iopub.execute_input": "2021-11-02T16:32:42.550387Z",
     "iopub.status.busy": "2021-11-02T16:32:42.549343Z",
     "iopub.status.idle": "2021-11-02T16:32:42.553464Z",
     "shell.execute_reply": "2021-11-02T16:32:42.552967Z"
    }
   },
   "outputs": [
    {
     "data": {
      "text/plain": [
       "'Esto es un docstring.\\n'"
      ]
     },
     "execution_count": 3,
     "metadata": {},
     "output_type": "execute_result"
    }
   ],
   "source": [
    "\"\"\"Esto es un docstring.\n",
    "\"\"\""
   ]
  },
  {
   "cell_type": "markdown",
   "id": "bcfb153b",
   "metadata": {},
   "source": [
    "### Declaracion de variables"
   ]
  },
  {
   "cell_type": "code",
   "execution_count": 4,
   "id": "4093f2d6",
   "metadata": {
    "execution": {
     "iopub.execute_input": "2021-11-02T16:32:42.559103Z",
     "iopub.status.busy": "2021-11-02T16:32:42.557755Z",
     "iopub.status.idle": "2021-11-02T16:32:42.561358Z",
     "shell.execute_reply": "2021-11-02T16:32:42.560859Z"
    }
   },
   "outputs": [
    {
     "name": "stdout",
     "output_type": "stream",
     "text": [
      "Hola\n"
     ]
    }
   ],
   "source": [
    "string = 'Hola'\n",
    "print(string)"
   ]
  },
  {
   "cell_type": "code",
   "execution_count": 5,
   "id": "6e018556",
   "metadata": {
    "execution": {
     "iopub.execute_input": "2021-11-02T16:32:42.566162Z",
     "iopub.status.busy": "2021-11-02T16:32:42.565575Z",
     "iopub.status.idle": "2021-11-02T16:32:42.567992Z",
     "shell.execute_reply": "2021-11-02T16:32:42.568503Z"
    }
   },
   "outputs": [
    {
     "name": "stdout",
     "output_type": "stream",
     "text": [
      "1\n"
     ]
    }
   ],
   "source": [
    "entero = 1\n",
    "print(entero)"
   ]
  },
  {
   "cell_type": "code",
   "execution_count": 6,
   "id": "6070fc04",
   "metadata": {
    "execution": {
     "iopub.execute_input": "2021-11-02T16:32:42.572599Z",
     "iopub.status.busy": "2021-11-02T16:32:42.571993Z",
     "iopub.status.idle": "2021-11-02T16:32:42.574189Z",
     "shell.execute_reply": "2021-11-02T16:32:42.574734Z"
    }
   },
   "outputs": [
    {
     "name": "stdout",
     "output_type": "stream",
     "text": [
      "1.0\n"
     ]
    }
   ],
   "source": [
    "flotante = 1.0\n",
    "print(flotante)"
   ]
  },
  {
   "cell_type": "code",
   "execution_count": 7,
   "id": "38565419",
   "metadata": {
    "execution": {
     "iopub.execute_input": "2021-11-02T16:32:42.579220Z",
     "iopub.status.busy": "2021-11-02T16:32:42.578663Z",
     "iopub.status.idle": "2021-11-02T16:32:42.580867Z",
     "shell.execute_reply": "2021-11-02T16:32:42.581323Z"
    }
   },
   "outputs": [
    {
     "name": "stdout",
     "output_type": "stream",
     "text": [
      "(1, 1.0)\n"
     ]
    }
   ],
   "source": [
    "tupla = (entero, flotante)\n",
    "print(tupla)"
   ]
  },
  {
   "cell_type": "code",
   "execution_count": 8,
   "id": "5c60caeb",
   "metadata": {
    "execution": {
     "iopub.execute_input": "2021-11-02T16:32:42.585655Z",
     "iopub.status.busy": "2021-11-02T16:32:42.585093Z",
     "iopub.status.idle": "2021-11-02T16:32:42.587261Z",
     "shell.execute_reply": "2021-11-02T16:32:42.587718Z"
    }
   },
   "outputs": [
    {
     "name": "stdout",
     "output_type": "stream",
     "text": [
      "(1, 1.0, 'Hola')\n"
     ]
    }
   ],
   "source": [
    "nupla = (entero, flotante, string)\n",
    "print(nupla)"
   ]
  },
  {
   "cell_type": "code",
   "execution_count": 9,
   "id": "3a16882c",
   "metadata": {
    "execution": {
     "iopub.execute_input": "2021-11-02T16:32:42.592312Z",
     "iopub.status.busy": "2021-11-02T16:32:42.591723Z",
     "iopub.status.idle": "2021-11-02T16:32:42.593919Z",
     "shell.execute_reply": "2021-11-02T16:32:42.594372Z"
    }
   },
   "outputs": [
    {
     "name": "stdout",
     "output_type": "stream",
     "text": [
      "[1, 1.0, 'Hola']\n"
     ]
    }
   ],
   "source": [
    "lista = [entero, flotante, string]\n",
    "print(lista)"
   ]
  },
  {
   "cell_type": "code",
   "execution_count": 10,
   "id": "932241af",
   "metadata": {
    "execution": {
     "iopub.execute_input": "2021-11-02T16:32:42.598661Z",
     "iopub.status.busy": "2021-11-02T16:32:42.598098Z",
     "iopub.status.idle": "2021-11-02T16:32:42.600304Z",
     "shell.execute_reply": "2021-11-02T16:32:42.600777Z"
    }
   },
   "outputs": [
    {
     "name": "stdout",
     "output_type": "stream",
     "text": [
      "{'1': (1, 1.0), 50: (1, 1.0, 'Hola'), '3': 1}\n"
     ]
    }
   ],
   "source": [
    "diccionario = {'1': tupla, 50: nupla, '3': entero}\n",
    "print(diccionario)"
   ]
  },
  {
   "cell_type": "code",
   "execution_count": 11,
   "id": "7efb4d47",
   "metadata": {
    "execution": {
     "iopub.execute_input": "2021-11-02T16:32:42.605169Z",
     "iopub.status.busy": "2021-11-02T16:32:42.604611Z",
     "iopub.status.idle": "2021-11-02T16:32:42.606784Z",
     "shell.execute_reply": "2021-11-02T16:32:42.607241Z"
    }
   },
   "outputs": [
    {
     "name": "stdout",
     "output_type": "stream",
     "text": [
      "{1, 2}\n"
     ]
    }
   ],
   "source": [
    "conjunto = set([1, 2])\n",
    "print(conjunto)"
   ]
  },
  {
   "cell_type": "code",
   "execution_count": 12,
   "id": "5be20091",
   "metadata": {
    "execution": {
     "iopub.execute_input": "2021-11-02T16:32:42.611662Z",
     "iopub.status.busy": "2021-11-02T16:32:42.611098Z",
     "iopub.status.idle": "2021-11-02T16:32:42.613297Z",
     "shell.execute_reply": "2021-11-02T16:32:42.613757Z"
    }
   },
   "outputs": [
    {
     "name": "stdout",
     "output_type": "stream",
     "text": [
      "True\n"
     ]
    }
   ],
   "source": [
    "booleano = True\n",
    "print(booleano)"
   ]
  },
  {
   "cell_type": "code",
   "execution_count": 13,
   "id": "b10d36ba",
   "metadata": {
    "execution": {
     "iopub.execute_input": "2021-11-02T16:32:42.618557Z",
     "iopub.status.busy": "2021-11-02T16:32:42.617994Z",
     "iopub.status.idle": "2021-11-02T16:32:42.620193Z",
     "shell.execute_reply": "2021-11-02T16:32:42.620666Z"
    }
   },
   "outputs": [
    {
     "name": "stdout",
     "output_type": "stream",
     "text": [
      "None\n"
     ]
    }
   ],
   "source": [
    "nada = None\n",
    "print(nada)"
   ]
  },
  {
   "cell_type": "markdown",
   "id": "6e9f774e",
   "metadata": {},
   "source": [
    "Ojo que las variables pueden cambiar de tipo!"
   ]
  },
  {
   "cell_type": "code",
   "execution_count": 14,
   "id": "d37b1728",
   "metadata": {
    "execution": {
     "iopub.execute_input": "2021-11-02T16:32:42.625320Z",
     "iopub.status.busy": "2021-11-02T16:32:42.624757Z",
     "iopub.status.idle": "2021-11-02T16:32:42.626949Z",
     "shell.execute_reply": "2021-11-02T16:32:42.627419Z"
    }
   },
   "outputs": [
    {
     "name": "stdout",
     "output_type": "stream",
     "text": [
      "1\n",
      "<class 'int'>\n"
     ]
    }
   ],
   "source": [
    "elemento = 1\n",
    "print(elemento)\n",
    "print(type(elemento))"
   ]
  },
  {
   "cell_type": "code",
   "execution_count": 15,
   "id": "cbef6046",
   "metadata": {
    "execution": {
     "iopub.execute_input": "2021-11-02T16:32:42.632261Z",
     "iopub.status.busy": "2021-11-02T16:32:42.631681Z",
     "iopub.status.idle": "2021-11-02T16:32:42.633884Z",
     "shell.execute_reply": "2021-11-02T16:32:42.634340Z"
    }
   },
   "outputs": [
    {
     "name": "stdout",
     "output_type": "stream",
     "text": [
      "1\n",
      "<class 'str'>\n"
     ]
    }
   ],
   "source": [
    "elemento = str(1)\n",
    "print(elemento)\n",
    "print(type(elemento))"
   ]
  },
  {
   "cell_type": "code",
   "execution_count": 16,
   "id": "c7c13758",
   "metadata": {
    "execution": {
     "iopub.execute_input": "2021-11-02T16:32:42.638996Z",
     "iopub.status.busy": "2021-11-02T16:32:42.638428Z",
     "iopub.status.idle": "2021-11-02T16:32:42.640830Z",
     "shell.execute_reply": "2021-11-02T16:32:42.641289Z"
    }
   },
   "outputs": [
    {
     "name": "stdout",
     "output_type": "stream",
     "text": [
      "[2]\n",
      "<class 'list'>\n"
     ]
    }
   ],
   "source": [
    "elemento = [2]\n",
    "\n",
    "print(elemento)\n",
    "print(type(elemento))"
   ]
  },
  {
   "cell_type": "markdown",
   "id": "6ec8cb27",
   "metadata": {},
   "source": [
    "### Tipos basicos"
   ]
  },
  {
   "cell_type": "markdown",
   "id": "79dbf9c9",
   "metadata": {
    "slideshow": {
     "slide_type": "slide"
    }
   },
   "source": [
    "#### Listas de Python"
   ]
  },
  {
   "cell_type": "code",
   "execution_count": 17,
   "id": "d2f0e7a8",
   "metadata": {
    "execution": {
     "iopub.execute_input": "2021-11-02T16:32:42.646222Z",
     "iopub.status.busy": "2021-11-02T16:32:42.645641Z",
     "iopub.status.idle": "2021-11-02T16:32:42.648385Z",
     "shell.execute_reply": "2021-11-02T16:32:42.648850Z"
    }
   },
   "outputs": [
    {
     "data": {
      "text/plain": [
       "[]"
      ]
     },
     "execution_count": 17,
     "metadata": {},
     "output_type": "execute_result"
    }
   ],
   "source": [
    "lista = list()\n",
    "lista"
   ]
  },
  {
   "cell_type": "code",
   "execution_count": 18,
   "id": "ce4a551c",
   "metadata": {
    "execution": {
     "iopub.execute_input": "2021-11-02T16:32:42.653443Z",
     "iopub.status.busy": "2021-11-02T16:32:42.652754Z",
     "iopub.status.idle": "2021-11-02T16:32:42.655596Z",
     "shell.execute_reply": "2021-11-02T16:32:42.656058Z"
    },
    "slideshow": {
     "slide_type": "slide"
    }
   },
   "outputs": [
    {
     "data": {
      "text/plain": [
       "[]"
      ]
     },
     "execution_count": 18,
     "metadata": {},
     "output_type": "execute_result"
    }
   ],
   "source": [
    "lista = []\n",
    "lista"
   ]
  },
  {
   "cell_type": "code",
   "execution_count": 19,
   "id": "f9366ffa",
   "metadata": {
    "execution": {
     "iopub.execute_input": "2021-11-02T16:32:42.660631Z",
     "iopub.status.busy": "2021-11-02T16:32:42.660029Z",
     "iopub.status.idle": "2021-11-02T16:32:42.662694Z",
     "shell.execute_reply": "2021-11-02T16:32:42.663259Z"
    },
    "slideshow": {
     "slide_type": "slide"
    }
   },
   "outputs": [
    {
     "data": {
      "text/plain": [
       "[1, 2, 3, 4]"
      ]
     },
     "execution_count": 19,
     "metadata": {},
     "output_type": "execute_result"
    }
   ],
   "source": [
    "lista = [1, 2, 3, 4]\n",
    "lista"
   ]
  },
  {
   "cell_type": "code",
   "execution_count": 20,
   "id": "9c4d667b",
   "metadata": {
    "execution": {
     "iopub.execute_input": "2021-11-02T16:32:42.668837Z",
     "iopub.status.busy": "2021-11-02T16:32:42.668252Z",
     "iopub.status.idle": "2021-11-02T16:32:42.671037Z",
     "shell.execute_reply": "2021-11-02T16:32:42.671503Z"
    },
    "slideshow": {
     "slide_type": "slide"
    }
   },
   "outputs": [
    {
     "data": {
      "text/plain": [
       "[1, 2, 3, 4, 1, 'dos', 3.0]"
      ]
     },
     "execution_count": 20,
     "metadata": {},
     "output_type": "execute_result"
    }
   ],
   "source": [
    "lista.append(1)  # Inserto un 1 al final\n",
    "lista.append(\"dos\")  # Inserto un \"dos\" al final\n",
    "lista.append(3.0)  # Inserto un 3.0 al final\n",
    "lista"
   ]
  },
  {
   "cell_type": "code",
   "execution_count": 21,
   "id": "a103632e",
   "metadata": {
    "execution": {
     "iopub.execute_input": "2021-11-02T16:32:42.676219Z",
     "iopub.status.busy": "2021-11-02T16:32:42.675628Z",
     "iopub.status.idle": "2021-11-02T16:32:42.678073Z",
     "shell.execute_reply": "2021-11-02T16:32:42.678536Z"
    }
   },
   "outputs": [
    {
     "name": "stdout",
     "output_type": "stream",
     "text": [
      "[1, 2, 10, 3, 4, 1, 'dos', 3.0]\n"
     ]
    }
   ],
   "source": [
    "lista.insert(2, 10)  # Inserto en posicion 2 un 10\n",
    "print(lista)"
   ]
  },
  {
   "cell_type": "code",
   "execution_count": 22,
   "id": "f9424091",
   "metadata": {
    "execution": {
     "iopub.execute_input": "2021-11-02T16:32:42.681386Z",
     "iopub.status.busy": "2021-11-02T16:32:42.680830Z",
     "iopub.status.idle": "2021-11-02T16:32:42.685180Z",
     "shell.execute_reply": "2021-11-02T16:32:42.685673Z"
    }
   },
   "outputs": [
    {
     "data": {
      "text/plain": [
       "8"
      ]
     },
     "execution_count": 22,
     "metadata": {},
     "output_type": "execute_result"
    }
   ],
   "source": [
    "len(lista)"
   ]
  },
  {
   "cell_type": "code",
   "execution_count": 23,
   "id": "9beab9fb",
   "metadata": {
    "execution": {
     "iopub.execute_input": "2021-11-02T16:32:42.690572Z",
     "iopub.status.busy": "2021-11-02T16:32:42.688779Z",
     "iopub.status.idle": "2021-11-02T16:32:42.693367Z",
     "shell.execute_reply": "2021-11-02T16:32:42.693838Z"
    }
   },
   "outputs": [
    {
     "data": {
      "text/plain": [
       "3.0"
      ]
     },
     "execution_count": 23,
     "metadata": {},
     "output_type": "execute_result"
    }
   ],
   "source": [
    "lista.pop()"
   ]
  },
  {
   "cell_type": "code",
   "execution_count": 24,
   "id": "d3a8dbec",
   "metadata": {
    "execution": {
     "iopub.execute_input": "2021-11-02T16:32:42.699275Z",
     "iopub.status.busy": "2021-11-02T16:32:42.698681Z",
     "iopub.status.idle": "2021-11-02T16:32:42.701309Z",
     "shell.execute_reply": "2021-11-02T16:32:42.701770Z"
    }
   },
   "outputs": [
    {
     "data": {
      "text/plain": [
       "[1, 2, 10, 3, 4, 1, 'dos']"
      ]
     },
     "execution_count": 24,
     "metadata": {},
     "output_type": "execute_result"
    }
   ],
   "source": [
    "lista"
   ]
  },
  {
   "cell_type": "code",
   "execution_count": 25,
   "id": "a2d0253c",
   "metadata": {
    "execution": {
     "iopub.execute_input": "2021-11-02T16:32:42.706252Z",
     "iopub.status.busy": "2021-11-02T16:32:42.705689Z",
     "iopub.status.idle": "2021-11-02T16:32:42.708273Z",
     "shell.execute_reply": "2021-11-02T16:32:42.708742Z"
    }
   },
   "outputs": [
    {
     "data": {
      "text/plain": [
       "2"
      ]
     },
     "execution_count": 25,
     "metadata": {},
     "output_type": "execute_result"
    }
   ],
   "source": [
    "lista.index(10)"
   ]
  },
  {
   "cell_type": "code",
   "execution_count": 26,
   "id": "c8ddc2c3",
   "metadata": {
    "execution": {
     "iopub.execute_input": "2021-11-02T16:32:42.713222Z",
     "iopub.status.busy": "2021-11-02T16:32:42.712658Z",
     "iopub.status.idle": "2021-11-02T16:32:42.715206Z",
     "shell.execute_reply": "2021-11-02T16:32:42.715698Z"
    }
   },
   "outputs": [
    {
     "data": {
      "text/plain": [
       "[1, 2, 3, 4, 1, 'dos']"
      ]
     },
     "execution_count": 26,
     "metadata": {},
     "output_type": "execute_result"
    }
   ],
   "source": [
    "lista.remove(10)\n",
    "lista"
   ]
  },
  {
   "cell_type": "code",
   "execution_count": 27,
   "id": "75d710de",
   "metadata": {
    "execution": {
     "iopub.execute_input": "2021-11-02T16:32:42.719634Z",
     "iopub.status.busy": "2021-11-02T16:32:42.719063Z",
     "iopub.status.idle": "2021-11-02T16:32:42.795612Z",
     "shell.execute_reply": "2021-11-02T16:32:42.796113Z"
    },
    "tags": [
     "raises-exception"
    ]
   },
   "outputs": [
    {
     "name": "stdout",
     "output_type": "stream",
     "text": [
      "1\n",
      "2\n",
      "2\n",
      "3\n",
      "3\n",
      "4\n",
      "4\n",
      "5\n",
      "1\n",
      "2\n",
      "dos\n"
     ]
    },
    {
     "ename": "TypeError",
     "evalue": "can only concatenate str (not \"int\") to str",
     "output_type": "error",
     "traceback": [
      "\u001b[0;31m---------------------------------------------------------------------------\u001b[0m",
      "\u001b[0;31mTypeError\u001b[0m                                 Traceback (most recent call last)",
      "\u001b[0;32m/tmp/ipykernel_2536/1783555086.py\u001b[0m in \u001b[0;36m<module>\u001b[0;34m\u001b[0m\n\u001b[1;32m      1\u001b[0m \u001b[0;32mfor\u001b[0m \u001b[0melemento\u001b[0m \u001b[0;32min\u001b[0m \u001b[0mlista\u001b[0m\u001b[0;34m:\u001b[0m\u001b[0;34m\u001b[0m\u001b[0;34m\u001b[0m\u001b[0m\n\u001b[1;32m      2\u001b[0m     \u001b[0mprint\u001b[0m\u001b[0;34m(\u001b[0m\u001b[0melemento\u001b[0m\u001b[0;34m)\u001b[0m\u001b[0;34m\u001b[0m\u001b[0;34m\u001b[0m\u001b[0m\n\u001b[0;32m----> 3\u001b[0;31m     \u001b[0mprint\u001b[0m\u001b[0;34m(\u001b[0m\u001b[0melemento\u001b[0m \u001b[0;34m+\u001b[0m \u001b[0;36m1\u001b[0m\u001b[0;34m)\u001b[0m\u001b[0;34m\u001b[0m\u001b[0;34m\u001b[0m\u001b[0m\n\u001b[0m",
      "\u001b[0;31mTypeError\u001b[0m: can only concatenate str (not \"int\") to str"
     ]
    }
   ],
   "source": [
    "for elemento in lista:\n",
    "    print(elemento)\n",
    "    print(elemento + 1)"
   ]
  },
  {
   "cell_type": "code",
   "execution_count": 28,
   "id": "ed4b956a",
   "metadata": {
    "execution": {
     "iopub.execute_input": "2021-11-02T16:32:42.802421Z",
     "iopub.status.busy": "2021-11-02T16:32:42.801349Z",
     "iopub.status.idle": "2021-11-02T16:32:42.804784Z",
     "shell.execute_reply": "2021-11-02T16:32:42.805224Z"
    }
   },
   "outputs": [
    {
     "data": {
      "text/plain": [
       "[1, 2, 3, 4, 1, 'dos']"
      ]
     },
     "execution_count": 28,
     "metadata": {},
     "output_type": "execute_result"
    }
   ],
   "source": [
    "lista"
   ]
  },
  {
   "cell_type": "code",
   "execution_count": 29,
   "id": "3df8d2c3",
   "metadata": {
    "execution": {
     "iopub.execute_input": "2021-11-02T16:32:42.811006Z",
     "iopub.status.busy": "2021-11-02T16:32:42.809499Z",
     "iopub.status.idle": "2021-11-02T16:32:42.815104Z",
     "shell.execute_reply": "2021-11-02T16:32:42.814599Z"
    }
   },
   "outputs": [
    {
     "name": "stdout",
     "output_type": "stream",
     "text": [
      "0-ésimo elemento: 1\n",
      "1-ésimo elemento: 2\n",
      "2-ésimo elemento: 3\n",
      "3-ésimo elemento: 4\n",
      "4-ésimo elemento: 1\n",
      "5-ésimo elemento: dos\n"
     ]
    }
   ],
   "source": [
    "for i, elemento in enumerate(lista):\n",
    "    print(f\"{i}-ésimo elemento: {elemento}\")"
   ]
  },
  {
   "cell_type": "code",
   "execution_count": 30,
   "id": "f7c5d24a",
   "metadata": {
    "execution": {
     "iopub.execute_input": "2021-11-02T16:32:42.823873Z",
     "iopub.status.busy": "2021-11-02T16:32:42.823007Z",
     "iopub.status.idle": "2021-11-02T16:32:42.825980Z",
     "shell.execute_reply": "2021-11-02T16:32:42.826456Z"
    },
    "tags": [
     "raises-exception"
    ]
   },
   "outputs": [
    {
     "ename": "TypeError",
     "evalue": "'<' not supported between instances of 'str' and 'int'",
     "output_type": "error",
     "traceback": [
      "\u001b[0;31m---------------------------------------------------------------------------\u001b[0m",
      "\u001b[0;31mTypeError\u001b[0m                                 Traceback (most recent call last)",
      "\u001b[0;32m/tmp/ipykernel_2536/2266425520.py\u001b[0m in \u001b[0;36m<module>\u001b[0;34m\u001b[0m\n\u001b[0;32m----> 1\u001b[0;31m \u001b[0msorted\u001b[0m\u001b[0;34m(\u001b[0m\u001b[0mlista\u001b[0m\u001b[0;34m)\u001b[0m\u001b[0;34m\u001b[0m\u001b[0;34m\u001b[0m\u001b[0m\n\u001b[0m",
      "\u001b[0;31mTypeError\u001b[0m: '<' not supported between instances of 'str' and 'int'"
     ]
    }
   ],
   "source": [
    "sorted(lista)"
   ]
  },
  {
   "cell_type": "code",
   "execution_count": 31,
   "id": "e60eb3b9",
   "metadata": {
    "execution": {
     "iopub.execute_input": "2021-11-02T16:32:42.831398Z",
     "iopub.status.busy": "2021-11-02T16:32:42.830080Z",
     "iopub.status.idle": "2021-11-02T16:32:42.832046Z",
     "shell.execute_reply": "2021-11-02T16:32:42.832541Z"
    }
   },
   "outputs": [],
   "source": [
    "lista.remove(\"dos\")"
   ]
  },
  {
   "cell_type": "code",
   "execution_count": 32,
   "id": "ca0bf8eb",
   "metadata": {
    "execution": {
     "iopub.execute_input": "2021-11-02T16:32:42.838633Z",
     "iopub.status.busy": "2021-11-02T16:32:42.837419Z",
     "iopub.status.idle": "2021-11-02T16:32:42.841460Z",
     "shell.execute_reply": "2021-11-02T16:32:42.840957Z"
    }
   },
   "outputs": [
    {
     "data": {
      "text/plain": [
       "[1, 1, 2, 3, 4]"
      ]
     },
     "execution_count": 32,
     "metadata": {},
     "output_type": "execute_result"
    }
   ],
   "source": [
    "sorted(lista)"
   ]
  },
  {
   "cell_type": "code",
   "execution_count": 33,
   "id": "94a0f90f",
   "metadata": {
    "execution": {
     "iopub.execute_input": "2021-11-02T16:32:42.847473Z",
     "iopub.status.busy": "2021-11-02T16:32:42.846191Z",
     "iopub.status.idle": "2021-11-02T16:32:42.850044Z",
     "shell.execute_reply": "2021-11-02T16:32:42.849548Z"
    }
   },
   "outputs": [
    {
     "data": {
      "text/plain": [
       "[1, 1, 2, 3, 4]"
      ]
     },
     "execution_count": 33,
     "metadata": {},
     "output_type": "execute_result"
    }
   ],
   "source": [
    "lista.sort()\n",
    "lista"
   ]
  },
  {
   "cell_type": "markdown",
   "id": "3fae4799",
   "metadata": {
    "slideshow": {
     "slide_type": "slide"
    }
   },
   "source": [
    "#### Tuplas de Python\n",
    "\n",
    "Las tuplas son inmutables. No se pueden agregar elementos luego de creadas."
   ]
  },
  {
   "cell_type": "code",
   "execution_count": 34,
   "id": "5c0d95c6",
   "metadata": {
    "execution": {
     "iopub.execute_input": "2021-11-02T16:32:42.856717Z",
     "iopub.status.busy": "2021-11-02T16:32:42.856143Z",
     "iopub.status.idle": "2021-11-02T16:32:42.861794Z",
     "shell.execute_reply": "2021-11-02T16:32:42.862279Z"
    },
    "slideshow": {
     "slide_type": "slide"
    },
    "tags": [
     "raises-exception"
    ]
   },
   "outputs": [
    {
     "name": "stdout",
     "output_type": "stream",
     "text": [
      "(1, 2)\n",
      "1\n",
      "2\n"
     ]
    },
    {
     "ename": "TypeError",
     "evalue": "'tuple' object does not support item assignment",
     "output_type": "error",
     "traceback": [
      "\u001b[0;31m---------------------------------------------------------------------------\u001b[0m",
      "\u001b[0;31mTypeError\u001b[0m                                 Traceback (most recent call last)",
      "\u001b[0;32m/tmp/ipykernel_2536/3644040918.py\u001b[0m in \u001b[0;36m<module>\u001b[0;34m\u001b[0m\n\u001b[1;32m      5\u001b[0m \u001b[0mprint\u001b[0m\u001b[0;34m(\u001b[0m\u001b[0mtupla\u001b[0m\u001b[0;34m[\u001b[0m\u001b[0;36m1\u001b[0m\u001b[0;34m]\u001b[0m\u001b[0;34m)\u001b[0m\u001b[0;34m\u001b[0m\u001b[0;34m\u001b[0m\u001b[0m\n\u001b[1;32m      6\u001b[0m \u001b[0;34m\u001b[0m\u001b[0m\n\u001b[0;32m----> 7\u001b[0;31m \u001b[0mtupla\u001b[0m\u001b[0;34m[\u001b[0m\u001b[0;36m1\u001b[0m\u001b[0;34m]\u001b[0m \u001b[0;34m=\u001b[0m \u001b[0;36m3\u001b[0m  \u001b[0;31m# Falla. No se puede mutar\u001b[0m\u001b[0;34m\u001b[0m\u001b[0;34m\u001b[0m\u001b[0m\n\u001b[0m",
      "\u001b[0;31mTypeError\u001b[0m: 'tuple' object does not support item assignment"
     ]
    }
   ],
   "source": [
    "tupla = (1, 2)\n",
    "\n",
    "print(tupla)\n",
    "print(tupla[0])\n",
    "print(tupla[1])\n",
    "\n",
    "tupla[1] = 3  # Falla. No se puede mutar"
   ]
  },
  {
   "cell_type": "code",
   "execution_count": 35,
   "id": "5c31fdc2",
   "metadata": {
    "execution": {
     "iopub.execute_input": "2021-11-02T16:32:42.868049Z",
     "iopub.status.busy": "2021-11-02T16:32:42.867012Z",
     "iopub.status.idle": "2021-11-02T16:32:42.870485Z",
     "shell.execute_reply": "2021-11-02T16:32:42.870917Z"
    }
   },
   "outputs": [
    {
     "data": {
      "text/plain": [
       "[1, 2]"
      ]
     },
     "execution_count": 35,
     "metadata": {},
     "output_type": "execute_result"
    }
   ],
   "source": [
    "l = [1, 2]\n",
    "l"
   ]
  },
  {
   "cell_type": "code",
   "execution_count": 36,
   "id": "f0eeed8a",
   "metadata": {
    "execution": {
     "iopub.execute_input": "2021-11-02T16:32:42.875438Z",
     "iopub.status.busy": "2021-11-02T16:32:42.874852Z",
     "iopub.status.idle": "2021-11-02T16:32:42.877611Z",
     "shell.execute_reply": "2021-11-02T16:32:42.878071Z"
    }
   },
   "outputs": [
    {
     "data": {
      "text/plain": [
       "[1, 3]"
      ]
     },
     "execution_count": 36,
     "metadata": {},
     "output_type": "execute_result"
    }
   ],
   "source": [
    "l[1] = 3\n",
    "l"
   ]
  },
  {
   "cell_type": "markdown",
   "id": "4e2e7db8",
   "metadata": {
    "slideshow": {
     "slide_type": "slide"
    }
   },
   "source": [
    "#### Diferencia entre lista y tupla\n",
    "Las listas se caracterizan por ser mutables, es decir, se puede cambiar su contenido en tiempo de ejecución, mientras que las tuplas son inmutables ya que no es posible modificar el contenido una vez creada."
   ]
  },
  {
   "cell_type": "markdown",
   "id": "99ab3e9c",
   "metadata": {},
   "source": [
    "#### Slices\n",
    "\n",
    "**Valen para listas, tuplas o strings (_segmentos_)**"
   ]
  },
  {
   "cell_type": "code",
   "execution_count": 37,
   "id": "f61c6428",
   "metadata": {
    "execution": {
     "iopub.execute_input": "2021-11-02T16:32:42.882220Z",
     "iopub.status.busy": "2021-11-02T16:32:42.880769Z",
     "iopub.status.idle": "2021-11-02T16:32:42.884424Z",
     "shell.execute_reply": "2021-11-02T16:32:42.883900Z"
    }
   },
   "outputs": [],
   "source": [
    "numeros = [0, 1, 2, 3, 4, 5, 6, 7, 8, 9, 10]"
   ]
  },
  {
   "cell_type": "code",
   "execution_count": 38,
   "id": "a13bc87b",
   "metadata": {
    "execution": {
     "iopub.execute_input": "2021-11-02T16:32:42.889823Z",
     "iopub.status.busy": "2021-11-02T16:32:42.888494Z",
     "iopub.status.idle": "2021-11-02T16:32:42.891988Z",
     "shell.execute_reply": "2021-11-02T16:32:42.891495Z"
    }
   },
   "outputs": [
    {
     "name": "stdout",
     "output_type": "stream",
     "text": [
      "[0, 1, 2, 3, 4, 5, 6, 7, 8, 9, 10]\n"
     ]
    }
   ],
   "source": [
    "print(numeros)"
   ]
  },
  {
   "cell_type": "code",
   "execution_count": 39,
   "id": "b39e7b93",
   "metadata": {
    "execution": {
     "iopub.execute_input": "2021-11-02T16:32:42.897402Z",
     "iopub.status.busy": "2021-11-02T16:32:42.896094Z",
     "iopub.status.idle": "2021-11-02T16:32:42.899575Z",
     "shell.execute_reply": "2021-11-02T16:32:42.899057Z"
    }
   },
   "outputs": [
    {
     "name": "stdout",
     "output_type": "stream",
     "text": [
      "2\n"
     ]
    }
   ],
   "source": [
    "print(numeros[2])  # Imprimo elemento en la posición 2"
   ]
  },
  {
   "cell_type": "code",
   "execution_count": 40,
   "id": "fa4c1da2",
   "metadata": {
    "execution": {
     "iopub.execute_input": "2021-11-02T16:32:42.904372Z",
     "iopub.status.busy": "2021-11-02T16:32:42.903764Z",
     "iopub.status.idle": "2021-11-02T16:32:42.906512Z",
     "shell.execute_reply": "2021-11-02T16:32:42.906970Z"
    }
   },
   "outputs": [
    {
     "data": {
      "text/plain": [
       "10"
      ]
     },
     "execution_count": 40,
     "metadata": {},
     "output_type": "execute_result"
    }
   ],
   "source": [
    "numeros[len(numeros) - 1]"
   ]
  },
  {
   "cell_type": "code",
   "execution_count": 41,
   "id": "daa0054b",
   "metadata": {
    "execution": {
     "iopub.execute_input": "2021-11-02T16:32:42.911384Z",
     "iopub.status.busy": "2021-11-02T16:32:42.910819Z",
     "iopub.status.idle": "2021-11-02T16:32:42.913225Z",
     "shell.execute_reply": "2021-11-02T16:32:42.913685Z"
    },
    "lines_to_next_cell": 2
   },
   "outputs": [
    {
     "name": "stdout",
     "output_type": "stream",
     "text": [
      "10\n"
     ]
    }
   ],
   "source": [
    "print(numeros[-1])  # # Imprimo elemento en la última posición"
   ]
  },
  {
   "cell_type": "code",
   "execution_count": 42,
   "id": "c789ed1c",
   "metadata": {
    "execution": {
     "iopub.execute_input": "2021-11-02T16:32:42.918636Z",
     "iopub.status.busy": "2021-11-02T16:32:42.918054Z",
     "iopub.status.idle": "2021-11-02T16:32:42.920800Z",
     "shell.execute_reply": "2021-11-02T16:32:42.921263Z"
    },
    "lines_to_next_cell": 2
   },
   "outputs": [
    {
     "data": {
      "text/plain": [
       "9"
      ]
     },
     "execution_count": 42,
     "metadata": {},
     "output_type": "execute_result"
    }
   ],
   "source": [
    "numeros[-2]"
   ]
  },
  {
   "cell_type": "code",
   "execution_count": 43,
   "id": "5722f77d",
   "metadata": {
    "execution": {
     "iopub.execute_input": "2021-11-02T16:32:42.925473Z",
     "iopub.status.busy": "2021-11-02T16:32:42.924899Z",
     "iopub.status.idle": "2021-11-02T16:32:42.927273Z",
     "shell.execute_reply": "2021-11-02T16:32:42.927733Z"
    }
   },
   "outputs": [
    {
     "name": "stdout",
     "output_type": "stream",
     "text": [
      "[0, 1, 2]\n"
     ]
    }
   ],
   "source": [
    "print(numeros[0:3])  # Imprimo de la pos 0 a la pos 2"
   ]
  },
  {
   "cell_type": "code",
   "execution_count": 44,
   "id": "32b9e452",
   "metadata": {
    "execution": {
     "iopub.execute_input": "2021-11-02T16:32:42.932049Z",
     "iopub.status.busy": "2021-11-02T16:32:42.931489Z",
     "iopub.status.idle": "2021-11-02T16:32:42.933895Z",
     "shell.execute_reply": "2021-11-02T16:32:42.934361Z"
    }
   },
   "outputs": [
    {
     "name": "stdout",
     "output_type": "stream",
     "text": [
      "[7, 8]\n"
     ]
    }
   ],
   "source": [
    "print(numeros[-4:-2])"
   ]
  },
  {
   "cell_type": "code",
   "execution_count": 45,
   "id": "3b1a302b",
   "metadata": {
    "execution": {
     "iopub.execute_input": "2021-11-02T16:32:42.938684Z",
     "iopub.status.busy": "2021-11-02T16:32:42.938125Z",
     "iopub.status.idle": "2021-11-02T16:32:42.942655Z",
     "shell.execute_reply": "2021-11-02T16:32:42.942188Z"
    }
   },
   "outputs": [
    {
     "name": "stdout",
     "output_type": "stream",
     "text": [
      "[0, 1, 2, 3, 4, 5, 6, 7, 8, 9, 10]\n"
     ]
    }
   ],
   "source": [
    "print(numeros[0:80])"
   ]
  },
  {
   "cell_type": "code",
   "execution_count": 46,
   "id": "16f9831c",
   "metadata": {
    "execution": {
     "iopub.execute_input": "2021-11-02T16:32:42.946562Z",
     "iopub.status.busy": "2021-11-02T16:32:42.945999Z",
     "iopub.status.idle": "2021-11-02T16:32:42.948174Z",
     "shell.execute_reply": "2021-11-02T16:32:42.948675Z"
    }
   },
   "outputs": [
    {
     "name": "stdout",
     "output_type": "stream",
     "text": [
      "[0, 1, 2]\n"
     ]
    }
   ],
   "source": [
    "print(numeros[:3])"
   ]
  },
  {
   "cell_type": "code",
   "execution_count": 47,
   "id": "b1424157",
   "metadata": {
    "execution": {
     "iopub.execute_input": "2021-11-02T16:32:42.952464Z",
     "iopub.status.busy": "2021-11-02T16:32:42.951875Z",
     "iopub.status.idle": "2021-11-02T16:32:42.954079Z",
     "shell.execute_reply": "2021-11-02T16:32:42.954537Z"
    }
   },
   "outputs": [
    {
     "name": "stdout",
     "output_type": "stream",
     "text": [
      "[3, 4, 5, 6, 7, 8, 9, 10]\n"
     ]
    }
   ],
   "source": [
    "print(numeros[3:])"
   ]
  },
  {
   "cell_type": "code",
   "execution_count": 48,
   "id": "2e51e6f8",
   "metadata": {
    "execution": {
     "iopub.execute_input": "2021-11-02T16:32:42.958849Z",
     "iopub.status.busy": "2021-11-02T16:32:42.958286Z",
     "iopub.status.idle": "2021-11-02T16:32:42.960678Z",
     "shell.execute_reply": "2021-11-02T16:32:42.961135Z"
    }
   },
   "outputs": [
    {
     "name": "stdout",
     "output_type": "stream",
     "text": [
      "[0, 2, 4, 6, 8]\n"
     ]
    }
   ],
   "source": [
    "print(numeros[0:10:2])"
   ]
  },
  {
   "cell_type": "markdown",
   "id": "7dce28b5",
   "metadata": {},
   "source": [
    "```python\n",
    "lista[<inicio>:<final>:<step>]\n",
    "```"
   ]
  },
  {
   "cell_type": "code",
   "execution_count": 49,
   "id": "c77d9b25",
   "metadata": {
    "execution": {
     "iopub.execute_input": "2021-11-02T16:32:42.966198Z",
     "iopub.status.busy": "2021-11-02T16:32:42.965619Z",
     "iopub.status.idle": "2021-11-02T16:32:42.968368Z",
     "shell.execute_reply": "2021-11-02T16:32:42.968833Z"
    },
    "lines_to_next_cell": 2
   },
   "outputs": [
    {
     "data": {
      "text/plain": [
       "[1, 2, 3, 4]"
      ]
     },
     "execution_count": 49,
     "metadata": {},
     "output_type": "execute_result"
    }
   ],
   "source": [
    "l1 = [1, 2]\n",
    "l2 = [3, 4]\n",
    "l1 + l2"
   ]
  },
  {
   "cell_type": "code",
   "execution_count": 50,
   "id": "cb58a287",
   "metadata": {
    "execution": {
     "iopub.execute_input": "2021-11-02T16:32:42.973202Z",
     "iopub.status.busy": "2021-11-02T16:32:42.972639Z",
     "iopub.status.idle": "2021-11-02T16:32:42.975013Z",
     "shell.execute_reply": "2021-11-02T16:32:42.975471Z"
    }
   },
   "outputs": [
    {
     "name": "stdout",
     "output_type": "stream",
     "text": [
      "[0, 1, 2, 3, 4, 5, 6, 'siete', 8, 9, 10]\n"
     ]
    }
   ],
   "source": [
    "numeros[7] = 'siete'  # Las listas se pueden mutar\n",
    "print(numeros)"
   ]
  },
  {
   "cell_type": "code",
   "execution_count": 51,
   "id": "64fe029c",
   "metadata": {
    "execution": {
     "iopub.execute_input": "2021-11-02T16:32:42.979337Z",
     "iopub.status.busy": "2021-11-02T16:32:42.978764Z",
     "iopub.status.idle": "2021-11-02T16:32:42.980927Z",
     "shell.execute_reply": "2021-11-02T16:32:42.981488Z"
    }
   },
   "outputs": [
    {
     "name": "stdout",
     "output_type": "stream",
     "text": [
      "[10, 9, 8, 'siete', 6, 5, 4, 3, 2, 1, 0]\n"
     ]
    }
   ],
   "source": [
    "numeros = numeros[::-1]\n",
    "print(numeros)"
   ]
  },
  {
   "cell_type": "code",
   "execution_count": 52,
   "id": "d62225bf",
   "metadata": {
    "execution": {
     "iopub.execute_input": "2021-11-02T16:32:42.985254Z",
     "iopub.status.busy": "2021-11-02T16:32:42.984693Z",
     "iopub.status.idle": "2021-11-02T16:32:42.991527Z",
     "shell.execute_reply": "2021-11-02T16:32:42.991021Z"
    },
    "tags": [
     "raises-exception"
    ]
   },
   "outputs": [
    {
     "ename": "IndexError",
     "evalue": "list index out of range",
     "output_type": "error",
     "traceback": [
      "\u001b[0;31m---------------------------------------------------------------------------\u001b[0m",
      "\u001b[0;31mIndexError\u001b[0m                                Traceback (most recent call last)",
      "\u001b[0;32m/tmp/ipykernel_2536/1255736182.py\u001b[0m in \u001b[0;36m<module>\u001b[0;34m\u001b[0m\n\u001b[0;32m----> 1\u001b[0;31m \u001b[0mprint\u001b[0m\u001b[0;34m(\u001b[0m\u001b[0mnumeros\u001b[0m\u001b[0;34m[\u001b[0m\u001b[0;36m15\u001b[0m\u001b[0;34m]\u001b[0m\u001b[0;34m)\u001b[0m  \u001b[0;31m# Falla. No se puede acceder a una posición inexistente\u001b[0m\u001b[0;34m\u001b[0m\u001b[0;34m\u001b[0m\u001b[0m\n\u001b[0m",
      "\u001b[0;31mIndexError\u001b[0m: list index out of range"
     ]
    }
   ],
   "source": [
    "print(numeros[15])  # Falla. No se puede acceder a una posición inexistente"
   ]
  },
  {
   "cell_type": "code",
   "execution_count": 53,
   "id": "deb3c4b9",
   "metadata": {
    "execution": {
     "iopub.execute_input": "2021-11-02T16:32:42.995738Z",
     "iopub.status.busy": "2021-11-02T16:32:42.995175Z",
     "iopub.status.idle": "2021-11-02T16:32:42.997985Z",
     "shell.execute_reply": "2021-11-02T16:32:42.998448Z"
    }
   },
   "outputs": [
    {
     "name": "stdout",
     "output_type": "stream",
     "text": [
      "palabra\n",
      "a\n",
      "pal\n",
      "abra\n"
     ]
    }
   ],
   "source": [
    "palabra = 'palabra'\n",
    "print(palabra)\n",
    "print(palabra[3])\n",
    "print(palabra[:3])\n",
    "print(palabra[3:])"
   ]
  },
  {
   "cell_type": "code",
   "execution_count": 54,
   "id": "8553848d",
   "metadata": {
    "execution": {
     "iopub.execute_input": "2021-11-02T16:32:43.002403Z",
     "iopub.status.busy": "2021-11-02T16:32:43.000781Z",
     "iopub.status.idle": "2021-11-02T16:32:43.005390Z",
     "shell.execute_reply": "2021-11-02T16:32:43.004891Z"
    }
   },
   "outputs": [
    {
     "name": "stdout",
     "output_type": "stream",
     "text": [
      "(0, 1, 2, 3, 4)\n",
      "(0, 1)\n",
      "(2, 3, 4)\n"
     ]
    }
   ],
   "source": [
    "tupla = (0, 1, 2, 3, 4)\n",
    "\n",
    "print(tupla)\n",
    "print(tupla[:2])\n",
    "print(tupla[2:])"
   ]
  },
  {
   "cell_type": "markdown",
   "id": "feb02dcc",
   "metadata": {
    "slideshow": {
     "slide_type": "slide"
    }
   },
   "source": [
    "#### Diccionarios de Python\n",
    "\n",
    "Son como hashmaps, las claves deben ser inmutables para que no pierda sentido el diccionario. Si se pudieran modificar, se podrían cambiar las claves y generaría conflictos.\n",
    "\n",
    "Tipos mutables:\n",
    "- Listas\n",
    "- Diccionarios\n",
    "- Sets\n",
    "\n",
    "Tipos inmutables:\n",
    "- Int\n",
    "- Float\n",
    "- String\n",
    "- Tuplas\n"
   ]
  },
  {
   "cell_type": "code",
   "execution_count": 55,
   "id": "22680020",
   "metadata": {
    "execution": {
     "iopub.execute_input": "2021-11-02T16:32:43.009903Z",
     "iopub.status.busy": "2021-11-02T16:32:43.009347Z",
     "iopub.status.idle": "2021-11-02T16:32:43.011866Z",
     "shell.execute_reply": "2021-11-02T16:32:43.012353Z"
    },
    "slideshow": {
     "slide_type": "slide"
    }
   },
   "outputs": [
    {
     "data": {
      "text/plain": [
       "{}"
      ]
     },
     "execution_count": 55,
     "metadata": {},
     "output_type": "execute_result"
    }
   ],
   "source": [
    "diccionario = {}\n",
    "diccionario"
   ]
  },
  {
   "cell_type": "code",
   "execution_count": 56,
   "id": "1f1713de",
   "metadata": {
    "execution": {
     "iopub.execute_input": "2021-11-02T16:32:43.016932Z",
     "iopub.status.busy": "2021-11-02T16:32:43.016345Z",
     "iopub.status.idle": "2021-11-02T16:32:43.019063Z",
     "shell.execute_reply": "2021-11-02T16:32:43.019521Z"
    }
   },
   "outputs": [
    {
     "data": {
      "text/plain": [
       "{}"
      ]
     },
     "execution_count": 56,
     "metadata": {},
     "output_type": "execute_result"
    }
   ],
   "source": [
    "diccionario = dict()\n",
    "diccionario"
   ]
  },
  {
   "cell_type": "code",
   "execution_count": 57,
   "id": "dec509b7",
   "metadata": {
    "execution": {
     "iopub.execute_input": "2021-11-02T16:32:43.023894Z",
     "iopub.status.busy": "2021-11-02T16:32:43.023328Z",
     "iopub.status.idle": "2021-11-02T16:32:43.025543Z",
     "shell.execute_reply": "2021-11-02T16:32:43.026002Z"
    },
    "slideshow": {
     "slide_type": "slide"
    }
   },
   "outputs": [
    {
     "name": "stdout",
     "output_type": "stream",
     "text": [
      "{'clave1': 'valor1', 2: 'valor2', 'clave3': 3}\n"
     ]
    }
   ],
   "source": [
    "# Cómo agregar cosas al diccionario\n",
    "diccionario['clave1'] = 'valor1'\n",
    "diccionario[2] = 'valor2'\n",
    "diccionario['clave3'] = 3\n",
    "print(diccionario)"
   ]
  },
  {
   "cell_type": "markdown",
   "id": "23dd220c",
   "metadata": {},
   "source": [
    "Hay dos formas de obtener valores de un diccionario:\n",
    "\n",
    "```python\n",
    "diccionario[clave]\n",
    "```\n",
    "\n",
    "El cual devuelve el valor si existe la clave suministrada o bien lanza `KeyError` si no existe."
   ]
  },
  {
   "cell_type": "code",
   "execution_count": 58,
   "id": "38a5b097",
   "metadata": {
    "execution": {
     "iopub.execute_input": "2021-11-02T16:32:43.030687Z",
     "iopub.status.busy": "2021-11-02T16:32:43.028773Z",
     "iopub.status.idle": "2021-11-02T16:32:43.033480Z",
     "shell.execute_reply": "2021-11-02T16:32:43.033945Z"
    }
   },
   "outputs": [
    {
     "data": {
      "text/plain": [
       "'valor1'"
      ]
     },
     "execution_count": 58,
     "metadata": {},
     "output_type": "execute_result"
    }
   ],
   "source": [
    "diccionario['clave1']"
   ]
  },
  {
   "cell_type": "code",
   "execution_count": 59,
   "id": "391061c3",
   "metadata": {
    "execution": {
     "iopub.execute_input": "2021-11-02T16:32:43.042399Z",
     "iopub.status.busy": "2021-11-02T16:32:43.041344Z",
     "iopub.status.idle": "2021-11-02T16:32:43.044311Z",
     "shell.execute_reply": "2021-11-02T16:32:43.044799Z"
    },
    "tags": [
     "raises-exception"
    ]
   },
   "outputs": [
    {
     "ename": "KeyError",
     "evalue": "'clave1000'",
     "output_type": "error",
     "traceback": [
      "\u001b[0;31m---------------------------------------------------------------------------\u001b[0m",
      "\u001b[0;31mKeyError\u001b[0m                                  Traceback (most recent call last)",
      "\u001b[0;32m/tmp/ipykernel_2536/3541524662.py\u001b[0m in \u001b[0;36m<module>\u001b[0;34m\u001b[0m\n\u001b[0;32m----> 1\u001b[0;31m \u001b[0mdiccionario\u001b[0m\u001b[0;34m[\u001b[0m\u001b[0;34m'clave1000'\u001b[0m\u001b[0;34m]\u001b[0m\u001b[0;34m\u001b[0m\u001b[0;34m\u001b[0m\u001b[0m\n\u001b[0m",
      "\u001b[0;31mKeyError\u001b[0m: 'clave1000'"
     ]
    }
   ],
   "source": [
    "diccionario['clave1000']"
   ]
  },
  {
   "cell_type": "markdown",
   "id": "34525e7b",
   "metadata": {},
   "source": [
    "La segunda forma es con `get`:"
   ]
  },
  {
   "cell_type": "code",
   "execution_count": 60,
   "id": "0c2032cd",
   "metadata": {
    "execution": {
     "iopub.execute_input": "2021-11-02T16:32:43.057666Z",
     "iopub.status.busy": "2021-11-02T16:32:43.047020Z",
     "iopub.status.idle": "2021-11-02T16:32:43.107389Z",
     "shell.execute_reply": "2021-11-02T16:32:43.106758Z"
    }
   },
   "outputs": [],
   "source": [
    "diccionario.get?"
   ]
  },
  {
   "cell_type": "code",
   "execution_count": 61,
   "id": "395b5ec3",
   "metadata": {
    "execution": {
     "iopub.execute_input": "2021-11-02T16:32:43.114146Z",
     "iopub.status.busy": "2021-11-02T16:32:43.112785Z",
     "iopub.status.idle": "2021-11-02T16:32:43.116486Z",
     "shell.execute_reply": "2021-11-02T16:32:43.115937Z"
    }
   },
   "outputs": [
    {
     "name": "stdout",
     "output_type": "stream",
     "text": [
      "Help on built-in function get:\n",
      "\n",
      "get(key, default=None, /) method of builtins.dict instance\n",
      "    Return the value for key if key is in the dictionary, else default.\n",
      "\n"
     ]
    }
   ],
   "source": [
    "help(diccionario.get)"
   ]
  },
  {
   "cell_type": "code",
   "execution_count": 62,
   "id": "94b7e9e5",
   "metadata": {
    "execution": {
     "iopub.execute_input": "2021-11-02T16:32:43.122026Z",
     "iopub.status.busy": "2021-11-02T16:32:43.120709Z",
     "iopub.status.idle": "2021-11-02T16:32:43.124315Z",
     "shell.execute_reply": "2021-11-02T16:32:43.123784Z"
    },
    "slideshow": {
     "slide_type": "slide"
    }
   },
   "outputs": [
    {
     "name": "stdout",
     "output_type": "stream",
     "text": [
      "None\n"
     ]
    }
   ],
   "source": [
    "print(diccionario.get('clave1000'))"
   ]
  },
  {
   "cell_type": "code",
   "execution_count": 63,
   "id": "aa18e45d",
   "metadata": {
    "execution": {
     "iopub.execute_input": "2021-11-02T16:32:43.130077Z",
     "iopub.status.busy": "2021-11-02T16:32:43.128690Z",
     "iopub.status.idle": "2021-11-02T16:32:43.132389Z",
     "shell.execute_reply": "2021-11-02T16:32:43.131860Z"
    },
    "slideshow": {
     "slide_type": "slide"
    }
   },
   "outputs": [
    {
     "name": "stdout",
     "output_type": "stream",
     "text": [
      "True\n"
     ]
    }
   ],
   "source": [
    "print('clave1' in diccionario)  # Verifico si la clave está en el diccionario"
   ]
  },
  {
   "cell_type": "code",
   "execution_count": 64,
   "id": "daa294bc",
   "metadata": {
    "execution": {
     "iopub.execute_input": "2021-11-02T16:32:43.137115Z",
     "iopub.status.busy": "2021-11-02T16:32:43.136548Z",
     "iopub.status.idle": "2021-11-02T16:32:43.139131Z",
     "shell.execute_reply": "2021-11-02T16:32:43.139595Z"
    }
   },
   "outputs": [
    {
     "data": {
      "text/plain": [
       "True"
      ]
     },
     "execution_count": 64,
     "metadata": {},
     "output_type": "execute_result"
    }
   ],
   "source": [
    "l = [1, 2, 3, 4]\n",
    "2 in l"
   ]
  },
  {
   "cell_type": "code",
   "execution_count": 65,
   "id": "73ff742f",
   "metadata": {
    "execution": {
     "iopub.execute_input": "2021-11-02T16:32:43.143616Z",
     "iopub.status.busy": "2021-11-02T16:32:43.143039Z",
     "iopub.status.idle": "2021-11-02T16:32:43.146237Z",
     "shell.execute_reply": "2021-11-02T16:32:43.146679Z"
    }
   },
   "outputs": [
    {
     "name": "stdout",
     "output_type": "stream",
     "text": [
      "la clave es clave1 y el valor es valor1\n",
      "la clave es 2 y el valor es valor2\n",
      "la clave es clave3 y el valor es 3\n"
     ]
    }
   ],
   "source": [
    "for clave, valor in diccionario.items():\n",
    "    print(\"la clave es %s y el valor es %s\" % (clave, valor))"
   ]
  },
  {
   "cell_type": "code",
   "execution_count": 66,
   "id": "82cc8693",
   "metadata": {
    "execution": {
     "iopub.execute_input": "2021-11-02T16:32:43.152566Z",
     "iopub.status.busy": "2021-11-02T16:32:43.151204Z",
     "iopub.status.idle": "2021-11-02T16:32:43.154738Z",
     "shell.execute_reply": "2021-11-02T16:32:43.154245Z"
    }
   },
   "outputs": [
    {
     "name": "stdout",
     "output_type": "stream",
     "text": [
      "la clave es clave1 y el valor es valor1\n",
      "la clave es 2 y el valor es valor2\n",
      "la clave es clave3 y el valor es 3\n"
     ]
    }
   ],
   "source": [
    "for clave, valor in diccionario.items():\n",
    "    print(\"la clave es {} y el valor es {}\".format(clave, valor))"
   ]
  },
  {
   "cell_type": "code",
   "execution_count": 67,
   "id": "586aa6b4",
   "metadata": {
    "execution": {
     "iopub.execute_input": "2021-11-02T16:32:43.161016Z",
     "iopub.status.busy": "2021-11-02T16:32:43.159688Z",
     "iopub.status.idle": "2021-11-02T16:32:43.163199Z",
     "shell.execute_reply": "2021-11-02T16:32:43.162704Z"
    },
    "slideshow": {
     "slide_type": "slide"
    }
   },
   "outputs": [
    {
     "name": "stdout",
     "output_type": "stream",
     "text": [
      "la clave es clave1 y el valor es valor1\n",
      "la clave es 2 y el valor es valor2\n",
      "la clave es clave3 y el valor es 3\n"
     ]
    }
   ],
   "source": [
    "# Cómo iterar un diccionario elemento por elemento\n",
    "for (\n",
    "    clave,\n",
    "    valor,\n",
    ") in (\n",
    "    diccionario.items()\n",
    "):  # diccionario.items() va devolviendo tuplas con el formato (clave,valor)\n",
    "    print(\n",
    "        f\"la clave es {clave} y el valor es {valor}\"\n",
    "    )  # con esta sintaxis se desempaquetan en clave y valor (similar a enumerate)"
   ]
  },
  {
   "cell_type": "code",
   "execution_count": 68,
   "id": "98eef9c1",
   "metadata": {
    "execution": {
     "iopub.execute_input": "2021-11-02T16:32:43.168923Z",
     "iopub.status.busy": "2021-11-02T16:32:43.167570Z",
     "iopub.status.idle": "2021-11-02T16:32:43.171101Z",
     "shell.execute_reply": "2021-11-02T16:32:43.170606Z"
    },
    "slideshow": {
     "slide_type": "slide"
    }
   },
   "outputs": [
    {
     "name": "stdout",
     "output_type": "stream",
     "text": [
      "clave1\n",
      "2\n",
      "clave3\n"
     ]
    }
   ],
   "source": [
    "for clave in diccionario.keys():\n",
    "    print(clave)"
   ]
  },
  {
   "cell_type": "code",
   "execution_count": 69,
   "id": "01485adb",
   "metadata": {
    "execution": {
     "iopub.execute_input": "2021-11-02T16:32:43.175541Z",
     "iopub.status.busy": "2021-11-02T16:32:43.173280Z",
     "iopub.status.idle": "2021-11-02T16:32:43.177233Z",
     "shell.execute_reply": "2021-11-02T16:32:43.177689Z"
    },
    "slideshow": {
     "slide_type": "slide"
    }
   },
   "outputs": [
    {
     "name": "stdout",
     "output_type": "stream",
     "text": [
      "valor1\n",
      "valor2\n",
      "3\n"
     ]
    }
   ],
   "source": [
    "for valor in diccionario.values():\n",
    "    print(valor)"
   ]
  },
  {
   "cell_type": "markdown",
   "id": "d810ef28",
   "metadata": {},
   "source": [
    "#### Sets\n",
    "\n",
    "Son similares a los diccionarios (en eficiencia) pero se almacenan solo claves, y tienen algunas operaciones particulares.\n",
    "\n",
    "En particular, no pueden tener elementos iguales (pensar que son conjuntos)"
   ]
  },
  {
   "cell_type": "code",
   "execution_count": 70,
   "id": "5a361850",
   "metadata": {
    "execution": {
     "iopub.execute_input": "2021-11-02T16:32:43.181943Z",
     "iopub.status.busy": "2021-11-02T16:32:43.181377Z",
     "iopub.status.idle": "2021-11-02T16:32:43.185943Z",
     "shell.execute_reply": "2021-11-02T16:32:43.185433Z"
    }
   },
   "outputs": [],
   "source": [
    "set??"
   ]
  },
  {
   "cell_type": "code",
   "execution_count": 71,
   "id": "6e730aae",
   "metadata": {
    "execution": {
     "iopub.execute_input": "2021-11-02T16:32:43.191739Z",
     "iopub.status.busy": "2021-11-02T16:32:43.190695Z",
     "iopub.status.idle": "2021-11-02T16:32:43.194127Z",
     "shell.execute_reply": "2021-11-02T16:32:43.194594Z"
    }
   },
   "outputs": [
    {
     "data": {
      "text/plain": [
       "{1, 2, 3}"
      ]
     },
     "execution_count": 71,
     "metadata": {},
     "output_type": "execute_result"
    }
   ],
   "source": [
    "# Se definen como los diccionarios pero sin hacerlos 'clave:valor', solamente una seguidilla de elementos\n",
    "{1, 2, 2, 3}"
   ]
  },
  {
   "cell_type": "code",
   "execution_count": 72,
   "id": "9327d663",
   "metadata": {
    "execution": {
     "iopub.execute_input": "2021-11-02T16:32:43.200602Z",
     "iopub.status.busy": "2021-11-02T16:32:43.199522Z",
     "iopub.status.idle": "2021-11-02T16:32:43.203433Z",
     "shell.execute_reply": "2021-11-02T16:32:43.202953Z"
    }
   },
   "outputs": [
    {
     "data": {
      "text/plain": [
       "{1, 2, 3}"
      ]
     },
     "execution_count": 72,
     "metadata": {},
     "output_type": "execute_result"
    }
   ],
   "source": [
    "set([1, 2, 2, 3])"
   ]
  },
  {
   "cell_type": "markdown",
   "id": "dc72b2bf",
   "metadata": {},
   "source": [
    "## Condicionales (if...elif...else)\n",
    "\n",
    "```python\n",
    "if <condición_1>:\n",
    "    <hacer algo_1 si se da la condición_1>\n",
    "elif <condición_2>:\n",
    "    <hacer algo_2 si se da la condición_2>\n",
    "...\n",
    "elif <condición_n>:\n",
    "    <hacer algo_n si se da la condición_n>\n",
    "else:\n",
    "    <hacer otra cosa si no dan las anteriores>\n",
    "```\n",
    "\n",
    "Algo importante para notar es que los bloques se definen por **niveles de identacion**."
   ]
  },
  {
   "cell_type": "code",
   "execution_count": 73,
   "id": "869fbabb",
   "metadata": {
    "execution": {
     "iopub.execute_input": "2021-11-02T16:32:43.208474Z",
     "iopub.status.busy": "2021-11-02T16:32:43.207874Z",
     "iopub.status.idle": "2021-11-02T16:32:43.210313Z",
     "shell.execute_reply": "2021-11-02T16:32:43.210773Z"
    }
   },
   "outputs": [
    {
     "name": "stdout",
     "output_type": "stream",
     "text": [
      "uno\n"
     ]
    }
   ],
   "source": [
    "v = 1\n",
    "if v == 1:\n",
    "    print(\"uno\")\n",
    "elif v == 2:\n",
    "    print(\"dos\")\n",
    "else:\n",
    "    print(\"ni idea\")\n",
    "    print(v)"
   ]
  },
  {
   "cell_type": "markdown",
   "id": "2c3b02ad",
   "metadata": {},
   "source": [
    "## Iteraciones\n",
    "\n",
    "```python\n",
    "while cond:\n",
    "    <codigo>\n",
    "```\n",
    "\n",
    "```python\n",
    "for elemento in iterable:\n",
    "    <codigo>\n",
    "```\n",
    "\n",
    "Para iterar sobre un rango de valores, usamos `range`"
   ]
  },
  {
   "cell_type": "code",
   "execution_count": 74,
   "id": "643bba53",
   "metadata": {
    "execution": {
     "iopub.execute_input": "2021-11-02T16:32:43.215341Z",
     "iopub.status.busy": "2021-11-02T16:32:43.214781Z",
     "iopub.status.idle": "2021-11-02T16:32:43.217156Z",
     "shell.execute_reply": "2021-11-02T16:32:43.217614Z"
    }
   },
   "outputs": [
    {
     "name": "stdout",
     "output_type": "stream",
     "text": [
      "1\n",
      "4\n",
      "7\n",
      "10\n"
     ]
    }
   ],
   "source": [
    "for i in range(1, 11, 3):\n",
    "    print(i)"
   ]
  },
  {
   "cell_type": "markdown",
   "id": "abd6f38e",
   "metadata": {},
   "source": [
    "## Operadores logicos\n",
    "\n",
    "`not`, `or`, `and`"
   ]
  },
  {
   "cell_type": "code",
   "execution_count": 75,
   "id": "6bd25248",
   "metadata": {
    "execution": {
     "iopub.execute_input": "2021-11-02T16:32:43.221578Z",
     "iopub.status.busy": "2021-11-02T16:32:43.221003Z",
     "iopub.status.idle": "2021-11-02T16:32:43.223481Z",
     "shell.execute_reply": "2021-11-02T16:32:43.223917Z"
    }
   },
   "outputs": [
    {
     "name": "stdout",
     "output_type": "stream",
     "text": [
      "yay\n"
     ]
    }
   ],
   "source": [
    "if True or False:\n",
    "    print(\"yay\")"
   ]
  },
  {
   "cell_type": "code",
   "execution_count": 76,
   "id": "8c6c5d8d",
   "metadata": {
    "execution": {
     "iopub.execute_input": "2021-11-02T16:32:43.228462Z",
     "iopub.status.busy": "2021-11-02T16:32:43.227846Z",
     "iopub.status.idle": "2021-11-02T16:32:43.230621Z",
     "shell.execute_reply": "2021-11-02T16:32:43.231081Z"
    }
   },
   "outputs": [
    {
     "data": {
      "text/plain": [
       "False"
      ]
     },
     "execution_count": 76,
     "metadata": {},
     "output_type": "execute_result"
    }
   ],
   "source": [
    "1 == 2"
   ]
  },
  {
   "cell_type": "code",
   "execution_count": 77,
   "id": "0e944fba",
   "metadata": {
    "execution": {
     "iopub.execute_input": "2021-11-02T16:32:43.235294Z",
     "iopub.status.busy": "2021-11-02T16:32:43.234728Z",
     "iopub.status.idle": "2021-11-02T16:32:43.237519Z",
     "shell.execute_reply": "2021-11-02T16:32:43.237985Z"
    }
   },
   "outputs": [
    {
     "data": {
      "text/plain": [
       "True"
      ]
     },
     "execution_count": 77,
     "metadata": {},
     "output_type": "execute_result"
    }
   ],
   "source": [
    "1 != 2"
   ]
  },
  {
   "cell_type": "markdown",
   "id": "ff174e0c",
   "metadata": {
    "slideshow": {
     "slide_type": "slide"
    }
   },
   "source": [
    "## Funciones en Python"
   ]
  },
  {
   "cell_type": "code",
   "execution_count": 78,
   "id": "1d39e7e3",
   "metadata": {
    "execution": {
     "iopub.execute_input": "2021-11-02T16:32:43.246589Z",
     "iopub.status.busy": "2021-11-02T16:32:43.245282Z",
     "iopub.status.idle": "2021-11-02T16:32:43.248808Z",
     "shell.execute_reply": "2021-11-02T16:32:43.248299Z"
    },
    "slideshow": {
     "slide_type": "slide"
    }
   },
   "outputs": [
    {
     "name": "stdout",
     "output_type": "stream",
     "text": [
      "True\n",
      "False\n"
     ]
    }
   ],
   "source": [
    "def busqueda_binaria(lista, elemento):\n",
    "    if not lista:\n",
    "        return False\n",
    "    elif len(lista) == 1:\n",
    "        return lista[0] == elemento\n",
    "    mitad = len(lista) // 2  # // es la operación división entera\n",
    "    if lista[mitad] == elemento:\n",
    "        return True\n",
    "    if lista[mitad] > elemento:\n",
    "        return busqueda_binaria(lista[:mitad], elemento)\n",
    "    if lista[mitad] < elemento:\n",
    "        return busqueda_binaria(lista[mitad:], elemento)\n",
    "\n",
    "\n",
    "print(busqueda_binaria([1, 2, 3, 4, 5], 4))\n",
    "print(busqueda_binaria([1, 4, 6, 7, 9, 10], 2))"
   ]
  },
  {
   "cell_type": "code",
   "execution_count": 79,
   "id": "45087a17",
   "metadata": {
    "execution": {
     "iopub.execute_input": "2021-11-02T16:32:43.253349Z",
     "iopub.status.busy": "2021-11-02T16:32:43.252766Z",
     "iopub.status.idle": "2021-11-02T16:32:43.255155Z",
     "shell.execute_reply": "2021-11-02T16:32:43.255616Z"
    }
   },
   "outputs": [
    {
     "name": "stdout",
     "output_type": "stream",
     "text": [
      "(3, 3, 3)\n"
     ]
    }
   ],
   "source": [
    "def a(b):\n",
    "    if a == 1:\n",
    "        print(a)\n",
    "    return (b, b, b)\n",
    "\n",
    "\n",
    "print(a(3))"
   ]
  },
  {
   "cell_type": "code",
   "execution_count": 80,
   "id": "cf032c3b",
   "metadata": {
    "execution": {
     "iopub.execute_input": "2021-11-02T16:32:43.260981Z",
     "iopub.status.busy": "2021-11-02T16:32:43.260159Z",
     "iopub.status.idle": "2021-11-02T16:32:43.271057Z",
     "shell.execute_reply": "2021-11-02T16:32:43.271582Z"
    },
    "lines_to_next_cell": 2,
    "slideshow": {
     "slide_type": "slide"
    },
    "tags": [
     "raises-exception"
    ]
   },
   "outputs": [
    {
     "name": "stdout",
     "output_type": "stream",
     "text": [
      "3\n",
      "3.0\n",
      "3.0\n",
      "hola como te va\n",
      "[1, 2, 3, 4, 5]\n"
     ]
    },
    {
     "ename": "TypeError",
     "evalue": "can only concatenate str (not \"int\") to str",
     "output_type": "error",
     "traceback": [
      "\u001b[0;31m---------------------------------------------------------------------------\u001b[0m",
      "\u001b[0;31mTypeError\u001b[0m                                 Traceback (most recent call last)",
      "\u001b[0;32m/tmp/ipykernel_2536/1000948441.py\u001b[0m in \u001b[0;36m<module>\u001b[0;34m\u001b[0m\n\u001b[1;32m      8\u001b[0m \u001b[0mprint\u001b[0m\u001b[0;34m(\u001b[0m\u001b[0msuma\u001b[0m\u001b[0;34m(\u001b[0m\u001b[0;34m\"hola \"\u001b[0m\u001b[0;34m,\u001b[0m \u001b[0;34m\"como te va\"\u001b[0m\u001b[0;34m)\u001b[0m\u001b[0;34m)\u001b[0m\u001b[0;34m\u001b[0m\u001b[0;34m\u001b[0m\u001b[0m\n\u001b[1;32m      9\u001b[0m \u001b[0mprint\u001b[0m\u001b[0;34m(\u001b[0m\u001b[0msuma\u001b[0m\u001b[0;34m(\u001b[0m\u001b[0;34m[\u001b[0m\u001b[0;36m1\u001b[0m\u001b[0;34m,\u001b[0m \u001b[0;36m2\u001b[0m\u001b[0;34m,\u001b[0m \u001b[0;36m3\u001b[0m\u001b[0;34m]\u001b[0m\u001b[0;34m,\u001b[0m \u001b[0;34m[\u001b[0m\u001b[0;36m4\u001b[0m\u001b[0;34m,\u001b[0m \u001b[0;36m5\u001b[0m\u001b[0;34m]\u001b[0m\u001b[0;34m)\u001b[0m\u001b[0;34m)\u001b[0m\u001b[0;34m\u001b[0m\u001b[0;34m\u001b[0m\u001b[0m\n\u001b[0;32m---> 10\u001b[0;31m \u001b[0mprint\u001b[0m\u001b[0;34m(\u001b[0m\u001b[0msuma\u001b[0m\u001b[0;34m(\u001b[0m\u001b[0;34m\"1\"\u001b[0m\u001b[0;34m,\u001b[0m \u001b[0;36m3\u001b[0m\u001b[0;34m)\u001b[0m\u001b[0;34m)\u001b[0m  \u001b[0;31m# Falla\u001b[0m\u001b[0;34m\u001b[0m\u001b[0;34m\u001b[0m\u001b[0m\n\u001b[0m",
      "\u001b[0;32m/tmp/ipykernel_2536/1000948441.py\u001b[0m in \u001b[0;36msuma\u001b[0;34m(a, b)\u001b[0m\n\u001b[1;32m      1\u001b[0m \u001b[0;32mdef\u001b[0m \u001b[0msuma\u001b[0m\u001b[0;34m(\u001b[0m\u001b[0ma\u001b[0m\u001b[0;34m,\u001b[0m \u001b[0mb\u001b[0m\u001b[0;34m)\u001b[0m\u001b[0;34m:\u001b[0m\u001b[0;34m\u001b[0m\u001b[0;34m\u001b[0m\u001b[0m\n\u001b[0;32m----> 2\u001b[0;31m     \u001b[0;32mreturn\u001b[0m \u001b[0ma\u001b[0m \u001b[0;34m+\u001b[0m \u001b[0mb\u001b[0m\u001b[0;34m\u001b[0m\u001b[0;34m\u001b[0m\u001b[0m\n\u001b[0m\u001b[1;32m      3\u001b[0m \u001b[0;34m\u001b[0m\u001b[0m\n\u001b[1;32m      4\u001b[0m \u001b[0;34m\u001b[0m\u001b[0m\n\u001b[1;32m      5\u001b[0m \u001b[0mprint\u001b[0m\u001b[0;34m(\u001b[0m\u001b[0msuma\u001b[0m\u001b[0;34m(\u001b[0m\u001b[0;36m1\u001b[0m\u001b[0;34m,\u001b[0m \u001b[0;36m2\u001b[0m\u001b[0;34m)\u001b[0m\u001b[0;34m)\u001b[0m\u001b[0;34m\u001b[0m\u001b[0;34m\u001b[0m\u001b[0m\n",
      "\u001b[0;31mTypeError\u001b[0m: can only concatenate str (not \"int\") to str"
     ]
    }
   ],
   "source": [
    "def suma(a, b):\n",
    "    return a + b\n",
    "\n",
    "\n",
    "print(suma(1, 2))\n",
    "print(suma(1.0, 2.0))\n",
    "print(suma(1.0, 2))\n",
    "print(suma(\"hola \", \"como te va\"))\n",
    "print(suma([1, 2, 3], [4, 5]))\n",
    "print(suma(\"1\", 3))  # Falla"
   ]
  },
  {
   "cell_type": "code",
   "execution_count": 81,
   "id": "02dc8bfd",
   "metadata": {
    "execution": {
     "iopub.execute_input": "2021-11-02T16:32:43.276141Z",
     "iopub.status.busy": "2021-11-02T16:32:43.275427Z",
     "iopub.status.idle": "2021-11-02T16:32:43.277970Z",
     "shell.execute_reply": "2021-11-02T16:32:43.278435Z"
    }
   },
   "outputs": [
    {
     "name": "stdout",
     "output_type": "stream",
     "text": [
      "2.0\n"
     ]
    }
   ],
   "source": [
    "# El valor por default de divisor es 1\n",
    "\n",
    "\n",
    "def division(dividendo, divisor=2):\n",
    "    return dividendo / divisor\n",
    "\n",
    "\n",
    "print(division(4))  # Usa el valor por default"
   ]
  },
  {
   "cell_type": "code",
   "execution_count": 82,
   "id": "150e8ba8",
   "metadata": {
    "execution": {
     "iopub.execute_input": "2021-11-02T16:32:43.286295Z",
     "iopub.status.busy": "2021-11-02T16:32:43.284775Z",
     "iopub.status.idle": "2021-11-02T16:32:43.289042Z",
     "shell.execute_reply": "2021-11-02T16:32:43.289553Z"
    },
    "tags": [
     "raises-exception"
    ]
   },
   "outputs": [
    {
     "name": "stdout",
     "output_type": "stream",
     "text": [
      "0.5\n",
      "0.5\n"
     ]
    },
    {
     "ename": "TypeError",
     "evalue": "division() missing 1 required positional argument: 'dividendo'",
     "output_type": "error",
     "traceback": [
      "\u001b[0;31m---------------------------------------------------------------------------\u001b[0m",
      "\u001b[0;31mTypeError\u001b[0m                                 Traceback (most recent call last)",
      "\u001b[0;32m/tmp/ipykernel_2536/1004518412.py\u001b[0m in \u001b[0;36m<module>\u001b[0;34m\u001b[0m\n\u001b[1;32m      1\u001b[0m \u001b[0mprint\u001b[0m\u001b[0;34m(\u001b[0m\u001b[0mdivision\u001b[0m\u001b[0;34m(\u001b[0m\u001b[0;36m1\u001b[0m\u001b[0;34m,\u001b[0m \u001b[0;36m2\u001b[0m\u001b[0;34m)\u001b[0m\u001b[0;34m)\u001b[0m  \u001b[0;31m# Parámetros por orden\u001b[0m\u001b[0;34m\u001b[0m\u001b[0;34m\u001b[0m\u001b[0m\n\u001b[1;32m      2\u001b[0m \u001b[0mprint\u001b[0m\u001b[0;34m(\u001b[0m\u001b[0mdivision\u001b[0m\u001b[0;34m(\u001b[0m\u001b[0mdividendo\u001b[0m\u001b[0;34m=\u001b[0m\u001b[0;36m1\u001b[0m\u001b[0;34m,\u001b[0m \u001b[0mdivisor\u001b[0m\u001b[0;34m=\u001b[0m\u001b[0;36m2\u001b[0m\u001b[0;34m)\u001b[0m\u001b[0;34m)\u001b[0m  \u001b[0;31m# Parámetros por nombre\u001b[0m\u001b[0;34m\u001b[0m\u001b[0;34m\u001b[0m\u001b[0m\n\u001b[0;32m----> 3\u001b[0;31m \u001b[0mprint\u001b[0m\u001b[0;34m(\u001b[0m\u001b[0mdivision\u001b[0m\u001b[0;34m(\u001b[0m\u001b[0mdivisor\u001b[0m\u001b[0;34m=\u001b[0m\u001b[0;36m2\u001b[0m\u001b[0;34m)\u001b[0m\u001b[0;34m)\u001b[0m\u001b[0;34m\u001b[0m\u001b[0;34m\u001b[0m\u001b[0m\n\u001b[0m",
      "\u001b[0;31mTypeError\u001b[0m: division() missing 1 required positional argument: 'dividendo'"
     ]
    }
   ],
   "source": [
    "print(division(1, 2))  # Parámetros por orden\n",
    "print(division(dividendo=1, divisor=2))  # Parámetros por nombre\n",
    "print(division(divisor=2))"
   ]
  },
  {
   "cell_type": "code",
   "execution_count": 83,
   "id": "c055590e",
   "metadata": {
    "execution": {
     "iopub.execute_input": "2021-11-02T16:32:43.295030Z",
     "iopub.status.busy": "2021-11-02T16:32:43.293784Z",
     "iopub.status.idle": "2021-11-02T16:32:43.297345Z",
     "shell.execute_reply": "2021-11-02T16:32:43.296845Z"
    }
   },
   "outputs": [
    {
     "name": "stdout",
     "output_type": "stream",
     "text": [
      "0.5\n"
     ]
    }
   ],
   "source": [
    "print(division(divisor=2, dividendo=1))"
   ]
  },
  {
   "cell_type": "code",
   "execution_count": 84,
   "id": "e0b16899",
   "metadata": {
    "execution": {
     "iopub.execute_input": "2021-11-02T16:32:43.304254Z",
     "iopub.status.busy": "2021-11-02T16:32:43.302953Z",
     "iopub.status.idle": "2021-11-02T16:32:43.306423Z",
     "shell.execute_reply": "2021-11-02T16:32:43.305926Z"
    }
   },
   "outputs": [
    {
     "name": "stdout",
     "output_type": "stream",
     "text": [
      "['a', 'b', 'c']\n",
      "[1, 2, 3]\n",
      "['hola', ' don', ' pepito']\n",
      "hola -  don -  pepito\n"
     ]
    }
   ],
   "source": [
    "# Funciones básicas ya en el lenguaje\n",
    "# Hechas para funcionar para distintos tipos\n",
    "\n",
    "string_ordenado = sorted('bca')\n",
    "print(string_ordenado)\n",
    "\n",
    "lista_ordenada = sorted([1, 3, 2])\n",
    "print(lista_ordenada)\n",
    "\n",
    "separadas = \"hola, don, pepito\".split(\",\")\n",
    "print(separadas)\n",
    "unidas = \" - \".join(separadas)\n",
    "print(unidas)"
   ]
  },
  {
   "cell_type": "markdown",
   "id": "e621f015",
   "metadata": {},
   "source": [
    "## Módulos\n",
    "\n",
    "Para incluir alguna biblioteca de funciones se usa `import`. Pueden ser cosas ya predefinidas en Python (`math`, `random`, etc), nombres de archivos en nuestro directorio (por ejemplo, para `mimodulo.py` ponemos `import mimodulo`) o bibliotecas instaladas por el usuario"
   ]
  },
  {
   "cell_type": "code",
   "execution_count": 85,
   "id": "56156fa6",
   "metadata": {
    "execution": {
     "iopub.execute_input": "2021-11-02T16:32:43.311865Z",
     "iopub.status.busy": "2021-11-02T16:32:43.310570Z",
     "iopub.status.idle": "2021-11-02T16:32:43.314044Z",
     "shell.execute_reply": "2021-11-02T16:32:43.313548Z"
    }
   },
   "outputs": [
    {
     "name": "stdout",
     "output_type": "stream",
     "text": [
      "3.141592653589793\n"
     ]
    }
   ],
   "source": [
    "import math\n",
    "\n",
    "print(math.pi)"
   ]
  },
  {
   "cell_type": "code",
   "execution_count": 86,
   "id": "22f2166a",
   "metadata": {
    "execution": {
     "iopub.execute_input": "2021-11-02T16:32:43.318131Z",
     "iopub.status.busy": "2021-11-02T16:32:43.317521Z",
     "iopub.status.idle": "2021-11-02T16:32:43.319991Z",
     "shell.execute_reply": "2021-11-02T16:32:43.320489Z"
    }
   },
   "outputs": [
    {
     "name": "stdout",
     "output_type": "stream",
     "text": [
      "3.141592653589793 2.718281828459045\n"
     ]
    }
   ],
   "source": [
    "from math import pi, e\n",
    "\n",
    "print(pi, e)"
   ]
  },
  {
   "cell_type": "code",
   "execution_count": 87,
   "id": "ceb90539",
   "metadata": {
    "execution": {
     "iopub.execute_input": "2021-11-02T16:32:43.325030Z",
     "iopub.status.busy": "2021-11-02T16:32:43.324457Z",
     "iopub.status.idle": "2021-11-02T16:32:43.326998Z",
     "shell.execute_reply": "2021-11-02T16:32:43.327457Z"
    }
   },
   "outputs": [
    {
     "data": {
      "text/plain": [
       "2"
      ]
     },
     "execution_count": 87,
     "metadata": {},
     "output_type": "execute_result"
    }
   ],
   "source": [
    "math.gcd(56, 78)"
   ]
  },
  {
   "cell_type": "markdown",
   "id": "5857f067",
   "metadata": {},
   "source": [
    "## Manejo de excepciones\n",
    "\n",
    "Se pueden encapsular errores esperados en un bloque 'try/except' para evitar cortar el flujo del programa"
   ]
  },
  {
   "cell_type": "code",
   "execution_count": 88,
   "id": "2e9bd3e2",
   "metadata": {
    "execution": {
     "iopub.execute_input": "2021-11-02T16:32:43.330215Z",
     "iopub.status.busy": "2021-11-02T16:32:43.329657Z",
     "iopub.status.idle": "2021-11-02T16:32:43.339179Z",
     "shell.execute_reply": "2021-11-02T16:32:43.339680Z"
    },
    "tags": [
     "raises-exception"
    ]
   },
   "outputs": [
    {
     "ename": "ZeroDivisionError",
     "evalue": "division by zero",
     "output_type": "error",
     "traceback": [
      "\u001b[0;31m---------------------------------------------------------------------------\u001b[0m",
      "\u001b[0;31mZeroDivisionError\u001b[0m                         Traceback (most recent call last)",
      "\u001b[0;32m/tmp/ipykernel_2536/1165346582.py\u001b[0m in \u001b[0;36m<module>\u001b[0;34m\u001b[0m\n\u001b[0;32m----> 1\u001b[0;31m \u001b[0mdivision\u001b[0m\u001b[0;34m(\u001b[0m\u001b[0;36m1\u001b[0m\u001b[0;34m,\u001b[0m \u001b[0;36m0\u001b[0m\u001b[0;34m)\u001b[0m  \u001b[0;31m# No se puede dividir por cero\u001b[0m\u001b[0;34m\u001b[0m\u001b[0;34m\u001b[0m\u001b[0m\n\u001b[0m",
      "\u001b[0;32m/tmp/ipykernel_2536/2607187721.py\u001b[0m in \u001b[0;36mdivision\u001b[0;34m(dividendo, divisor)\u001b[0m\n\u001b[1;32m      3\u001b[0m \u001b[0;34m\u001b[0m\u001b[0m\n\u001b[1;32m      4\u001b[0m \u001b[0;32mdef\u001b[0m \u001b[0mdivision\u001b[0m\u001b[0;34m(\u001b[0m\u001b[0mdividendo\u001b[0m\u001b[0;34m,\u001b[0m \u001b[0mdivisor\u001b[0m\u001b[0;34m=\u001b[0m\u001b[0;36m2\u001b[0m\u001b[0;34m)\u001b[0m\u001b[0;34m:\u001b[0m\u001b[0;34m\u001b[0m\u001b[0;34m\u001b[0m\u001b[0m\n\u001b[0;32m----> 5\u001b[0;31m     \u001b[0;32mreturn\u001b[0m \u001b[0mdividendo\u001b[0m \u001b[0;34m/\u001b[0m \u001b[0mdivisor\u001b[0m\u001b[0;34m\u001b[0m\u001b[0;34m\u001b[0m\u001b[0m\n\u001b[0m\u001b[1;32m      6\u001b[0m \u001b[0;34m\u001b[0m\u001b[0m\n\u001b[1;32m      7\u001b[0m \u001b[0;34m\u001b[0m\u001b[0m\n",
      "\u001b[0;31mZeroDivisionError\u001b[0m: division by zero"
     ]
    }
   ],
   "source": [
    "division(1, 0)  # No se puede dividir por cero"
   ]
  },
  {
   "cell_type": "code",
   "execution_count": 89,
   "id": "37152bc3",
   "metadata": {
    "execution": {
     "iopub.execute_input": "2021-11-02T16:32:43.345905Z",
     "iopub.status.busy": "2021-11-02T16:32:43.344593Z",
     "iopub.status.idle": "2021-11-02T16:32:43.348077Z",
     "shell.execute_reply": "2021-11-02T16:32:43.347579Z"
    }
   },
   "outputs": [
    {
     "name": "stdout",
     "output_type": "stream",
     "text": [
      "No se puede dividir por cero, ojo! division by zero\n",
      "1\n"
     ]
    }
   ],
   "source": [
    "try:\n",
    "    division(1, 0)\n",
    "except (ZeroDivisionError, TypeError) as e:\n",
    "    print('No se puede dividir por cero, ojo!', e)\n",
    "finally:\n",
    "    print(1)"
   ]
  },
  {
   "cell_type": "markdown",
   "id": "2237e9ad",
   "metadata": {
    "slideshow": {
     "slide_type": "slide"
    }
   },
   "source": [
    "## Lectura y escritura de archivos"
   ]
  },
  {
   "cell_type": "code",
   "execution_count": 90,
   "id": "1cc285ad",
   "metadata": {
    "execution": {
     "iopub.execute_input": "2021-11-02T16:32:43.353805Z",
     "iopub.status.busy": "2021-11-02T16:32:43.352759Z",
     "iopub.status.idle": "2021-11-02T16:32:43.358182Z",
     "shell.execute_reply": "2021-11-02T16:32:43.357650Z"
    },
    "slideshow": {
     "slide_type": "slide"
    }
   },
   "outputs": [
    {
     "name": "stdout",
     "output_type": "stream",
     "text": [
      "<_io.TextIOWrapper name='archivo.csv' mode='w' encoding='UTF-8'>\n"
     ]
    }
   ],
   "source": [
    "import random\n",
    "\n",
    "with open(\n",
    "    'archivo.csv', 'w'\n",
    ") as archivo:  # Al usar esta sintaxis no es necesario hacer close\n",
    "    archivo.write(\"Alumno, nota\\n\")\n",
    "    # Tambien de forma similar al fprintf se puede hacer:\n",
    "    # print(\"Alumno, nota\\n\", file=archivo)\n",
    "    for i in range(0, 10):\n",
    "        archivo.write(f\"{i},{random.randrange(0,10)}\\n\")\n",
    "\n",
    "print(archivo)  # Comentario aclaratorio:\n",
    "# Las variables definidas en un determinado scope siguen existiendo por fuera del mismo.\n",
    "# Se debe tener cuidado con esto, ya que nada garantiza que por fuera el valor sea el esperado."
   ]
  },
  {
   "cell_type": "code",
   "execution_count": 91,
   "id": "bcc6f898",
   "metadata": {
    "execution": {
     "iopub.execute_input": "2021-11-02T16:32:43.362468Z",
     "iopub.status.busy": "2021-11-02T16:32:43.361905Z",
     "iopub.status.idle": "2021-11-02T16:32:43.368372Z",
     "shell.execute_reply": "2021-11-02T16:32:43.367867Z"
    },
    "slideshow": {
     "slide_type": "slide"
    }
   },
   "outputs": [
    {
     "name": "stdout",
     "output_type": "stream",
     "text": [
      "Alumno, nota\n",
      "0,6\n",
      "1,2\n",
      "2,2\n",
      "3,9\n",
      "4,7\n",
      "5,2\n",
      "6,5\n",
      "7,0\n",
      "8,7\n",
      "9,5\n"
     ]
    }
   ],
   "source": [
    "with open('archivo.csv', 'r') as f:\n",
    "    for linea in f:\n",
    "        print(linea.strip())"
   ]
  },
  {
   "cell_type": "code",
   "execution_count": 92,
   "id": "19da7165",
   "metadata": {
    "execution": {
     "iopub.execute_input": "2021-11-02T16:32:43.372510Z",
     "iopub.status.busy": "2021-11-02T16:32:43.371899Z",
     "iopub.status.idle": "2021-11-02T16:32:43.374874Z",
     "shell.execute_reply": "2021-11-02T16:32:43.374346Z"
    }
   },
   "outputs": [
    {
     "name": "stdout",
     "output_type": "stream",
     "text": [
      "Alumno, nota\n",
      "0,6\n",
      "1,2\n",
      "2,2\n",
      "3,9\n",
      "4,7\n",
      "5,2\n",
      "6,5\n",
      "7,0\n",
      "8,7\n",
      "9,5\n",
      "\n"
     ]
    }
   ],
   "source": [
    "with open('archivo.csv', 'r') as f:\n",
    "    print(f.read())"
   ]
  },
  {
   "cell_type": "code",
   "execution_count": 93,
   "id": "f28fe58d",
   "metadata": {
    "execution": {
     "iopub.execute_input": "2021-11-02T16:32:43.378795Z",
     "iopub.status.busy": "2021-11-02T16:32:43.378236Z",
     "iopub.status.idle": "2021-11-02T16:32:43.380719Z",
     "shell.execute_reply": "2021-11-02T16:32:43.381153Z"
    }
   },
   "outputs": [],
   "source": [
    "f = open('archivo.csv', 'w')\n",
    "f.write(\"algo, algo\")\n",
    "f.close()"
   ]
  },
  {
   "cell_type": "markdown",
   "id": "988e9f0e",
   "metadata": {
    "slideshow": {
     "slide_type": "slide"
    }
   },
   "source": [
    "## Objetos\n",
    "\n",
    "Los objetos tienen metodos y atributos:\n",
    "- Atributos: equivalentes a variables.\n",
    "- Métodos: equivalentes a las primitivas."
   ]
  },
  {
   "cell_type": "markdown",
   "id": "221ac2ea",
   "metadata": {
    "slideshow": {
     "slide_type": "slide"
    }
   },
   "source": [
    "### Cómo creo una clase"
   ]
  },
  {
   "cell_type": "code",
   "execution_count": 94,
   "id": "2cb1cc79",
   "metadata": {
    "execution": {
     "iopub.execute_input": "2021-11-02T16:32:43.387566Z",
     "iopub.status.busy": "2021-11-02T16:32:43.386627Z",
     "iopub.status.idle": "2021-11-02T16:32:43.390693Z",
     "shell.execute_reply": "2021-11-02T16:32:43.390197Z"
    },
    "slideshow": {
     "slide_type": "slide"
    }
   },
   "outputs": [],
   "source": [
    "class Nodo(object):\n",
    "    def __init__(self, dato, siguiente=None):\n",
    "        self._dato = dato\n",
    "        self._siguiente = siguiente\n",
    "\n",
    "    @property\n",
    "    def dato(self):\n",
    "        return self._dato\n",
    "\n",
    "    @property\n",
    "    def proximo(self):\n",
    "        return self._siguiente\n",
    "\n",
    "    @proximo.setter\n",
    "    def proximo(self, siguiente):\n",
    "        self._siguiente = siguiente\n",
    "\n",
    "    def __repr__(self):\n",
    "        return str(self.dato)\n",
    "\n",
    "    def __str__(self):\n",
    "        return str(self.dato)"
   ]
  },
  {
   "cell_type": "code",
   "execution_count": 95,
   "id": "dc5b20ab",
   "metadata": {
    "execution": {
     "iopub.execute_input": "2021-11-02T16:32:43.396004Z",
     "iopub.status.busy": "2021-11-02T16:32:43.394732Z",
     "iopub.status.idle": "2021-11-02T16:32:43.398258Z",
     "shell.execute_reply": "2021-11-02T16:32:43.397763Z"
    },
    "slideshow": {
     "slide_type": "slide"
    }
   },
   "outputs": [
    {
     "name": "stdout",
     "output_type": "stream",
     "text": [
      "hola\n"
     ]
    }
   ],
   "source": [
    "nodo = Nodo(\"hola\")\n",
    "print(nodo)"
   ]
  },
  {
   "cell_type": "code",
   "execution_count": 96,
   "id": "95b89263",
   "metadata": {
    "execution": {
     "iopub.execute_input": "2021-11-02T16:32:43.402511Z",
     "iopub.status.busy": "2021-11-02T16:32:43.400430Z",
     "iopub.status.idle": "2021-11-02T16:32:43.404232Z",
     "shell.execute_reply": "2021-11-02T16:32:43.404702Z"
    },
    "slideshow": {
     "slide_type": "slide"
    }
   },
   "outputs": [
    {
     "name": "stdout",
     "output_type": "stream",
     "text": [
      "[hola, lala]\n"
     ]
    }
   ],
   "source": [
    "nodo2 = Nodo(\"lala\")\n",
    "print([nodo, nodo2])"
   ]
  },
  {
   "cell_type": "code",
   "execution_count": 97,
   "id": "6eacd498",
   "metadata": {
    "execution": {
     "iopub.execute_input": "2021-11-02T16:32:43.407350Z",
     "iopub.status.busy": "2021-11-02T16:32:43.406789Z",
     "iopub.status.idle": "2021-11-02T16:32:43.410838Z",
     "shell.execute_reply": "2021-11-02T16:32:43.411301Z"
    },
    "slideshow": {
     "slide_type": "slide"
    }
   },
   "outputs": [
    {
     "name": "stdout",
     "output_type": "stream",
     "text": [
      "hola"
     ]
    },
    {
     "name": "stdout",
     "output_type": "stream",
     "text": [
      "\n"
     ]
    }
   ],
   "source": [
    "nodo3 = nodo.dato\n",
    "print(nodo3)"
   ]
  },
  {
   "cell_type": "markdown",
   "id": "1ea1f864",
   "metadata": {
    "slideshow": {
     "slide_type": "slide"
    }
   },
   "source": [
    "### Ejemplo: Lista Enlazada"
   ]
  },
  {
   "cell_type": "code",
   "execution_count": 98,
   "id": "a135748b",
   "metadata": {
    "execution": {
     "iopub.execute_input": "2021-11-02T16:32:43.421237Z",
     "iopub.status.busy": "2021-11-02T16:32:43.420654Z",
     "iopub.status.idle": "2021-11-02T16:32:43.424338Z",
     "shell.execute_reply": "2021-11-02T16:32:43.423553Z"
    },
    "slideshow": {
     "slide_type": "slide"
    }
   },
   "outputs": [],
   "source": [
    "class ListaEnlazada(object):\n",
    "    def __init__(self):\n",
    "        self._primero = None\n",
    "        self._ultimo = None\n",
    "        self._largo = 0\n",
    "\n",
    "    def __len__(self):\n",
    "        return self._largo\n",
    "\n",
    "    def insertar_al_principio(self, dato):\n",
    "        nodo = Nodo(dato, self._primero)\n",
    "        self._primero = nodo\n",
    "        self._largo += 1\n",
    "        if self._largo == 1:\n",
    "            self._ultimo = nodo\n",
    "\n",
    "    def insertar_al_final(self, dato):\n",
    "        if self._largo != 0:\n",
    "            nodo = Nodo(dato)\n",
    "            nodo_anterior = self._ultimo\n",
    "            nodo_anterior._siguiente = nodo\n",
    "            self._ultimo = nodo\n",
    "            self._largo += 1\n",
    "        else:\n",
    "            self.insertar_al_principio(dato)\n",
    "\n",
    "    @property\n",
    "    def primero(self):\n",
    "        return self._primero.dato\n",
    "\n",
    "    def borrar_primero(self):\n",
    "        dato = self.primero.dato\n",
    "        self._primero = self.primero.siguiente\n",
    "        self._largo -= 1\n",
    "        if self._largo == 0:\n",
    "            self._ultimo = None\n",
    "        return dato\n",
    "\n",
    "    def __str__(self):\n",
    "        datos = []\n",
    "        nodo_actual = self._primero\n",
    "        while nodo_actual:\n",
    "            datos.append(nodo_actual.dato)\n",
    "            nodo_actual = nodo_actual.proximo\n",
    "        return \" -> \".join(datos)\n",
    "\n",
    "    def __repr__(self):\n",
    "        return self.__str__()"
   ]
  },
  {
   "cell_type": "code",
   "execution_count": 99,
   "id": "c59a1c3f",
   "metadata": {
    "execution": {
     "iopub.execute_input": "2021-11-02T16:32:43.429673Z",
     "iopub.status.busy": "2021-11-02T16:32:43.428605Z",
     "iopub.status.idle": "2021-11-02T16:32:43.434721Z",
     "shell.execute_reply": "2021-11-02T16:32:43.434225Z"
    },
    "slideshow": {
     "slide_type": "slide"
    }
   },
   "outputs": [
    {
     "data": {
      "text/plain": [
       "2"
      ]
     },
     "execution_count": 99,
     "metadata": {},
     "output_type": "execute_result"
    }
   ],
   "source": [
    "lista = ListaEnlazada()\n",
    "lista.insertar_al_principio(\"Primer Dato\")\n",
    "lista.insertar_al_principio(\"Primer primer Dato\")\n",
    "len(lista)"
   ]
  },
  {
   "cell_type": "code",
   "execution_count": 100,
   "id": "238a4903",
   "metadata": {
    "execution": {
     "iopub.execute_input": "2021-11-02T16:32:43.439087Z",
     "iopub.status.busy": "2021-11-02T16:32:43.438529Z",
     "iopub.status.idle": "2021-11-02T16:32:43.444413Z",
     "shell.execute_reply": "2021-11-02T16:32:43.443878Z"
    }
   },
   "outputs": [
    {
     "data": {
      "text/plain": [
       "Primer primer Dato -> Primer Dato"
      ]
     },
     "execution_count": 100,
     "metadata": {},
     "output_type": "execute_result"
    }
   ],
   "source": [
    "lista"
   ]
  },
  {
   "cell_type": "code",
   "execution_count": 101,
   "id": "686f9a81",
   "metadata": {
    "execution": {
     "iopub.execute_input": "2021-11-02T16:32:43.448230Z",
     "iopub.status.busy": "2021-11-02T16:32:43.447641Z",
     "iopub.status.idle": "2021-11-02T16:32:43.449830Z",
     "shell.execute_reply": "2021-11-02T16:32:43.450364Z"
    },
    "slideshow": {
     "slide_type": "slide"
    }
   },
   "outputs": [
    {
     "name": "stdout",
     "output_type": "stream",
     "text": [
      "Primer primer Dato\n"
     ]
    }
   ],
   "source": [
    "elemento = lista.primero\n",
    "print(elemento)"
   ]
  },
  {
   "cell_type": "markdown",
   "id": "7524bf2e",
   "metadata": {},
   "source": [
    "## Recursos\n",
    "\n",
    "* [Taller de Python de Algoritmos II](https://github.com/algoritmos-rw/algo2_apuntes)\n",
    "\n",
    "* [Documentación de Python 3](https://docs.python.org/3/tutorial/)\n",
    "\n",
    "* [Apunte de Algoritmos y Programación I](https://algoritmos1rw.ddns.net/material)\n",
    "\n",
    "* [Automate the Boring Stuff with Python](http://automatetheboringstuff.com/)\n",
    "\n",
    "* [Curso Python](https://pythoncurso.github.io)\n",
    "\n",
    "* [Python Tutor](http://pythontutor.com/)\n",
    "\n",
    "* [Learn Python3 in Y minutes](https://learnxinyminutes.com/docs/python3/)\n",
    "\n",
    "* [Bibliografía de Algoritmos y Programación I](https://algoritmos1rw.ddns.net/bibliografia)"
   ]
  }
 ],
 "metadata": {
  "jupytext": {
   "encoding": "# -*- coding: utf-8 -*-",
   "formats": "ipynb,py:light"
  },
  "kernelspec": {
   "display_name": "Python 3 (venv)",
   "language": "python",
   "name": "python3"
  },
  "language_info": {
   "codemirror_mode": {
    "name": "ipython",
    "version": 3
   },
   "file_extension": ".py",
   "mimetype": "text/x-python",
   "name": "python",
   "nbconvert_exporter": "python",
   "pygments_lexer": "ipython3",
   "version": "3.7.12"
  }
 },
 "nbformat": 4,
 "nbformat_minor": 5
}
