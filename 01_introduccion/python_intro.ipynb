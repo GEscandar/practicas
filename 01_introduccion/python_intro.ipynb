{
 "cells": [
  {
   "cell_type": "markdown",
   "id": "detected-setup",
   "metadata": {},
   "source": [
    "# Python"
   ]
  },
  {
   "cell_type": "markdown",
   "id": "natural-aluminum",
   "metadata": {
    "slideshow": {
     "slide_type": "slide"
    }
   },
   "source": [
    "## Un poco de Historia"
   ]
  },
  {
   "cell_type": "markdown",
   "id": "finnish-north",
   "metadata": {
    "slideshow": {
     "slide_type": "subslide"
    }
   },
   "source": [
    "Python fue creado a finales de los años 80 por un programador holandés llamado **Guido van Rossum**,\n",
    "quien sigue siendo aún hoy el líder del desarrollo del lenguaje.\n",
    "\n",
    "(Edit julio 2018: [ya no más](https://www.mail-archive.com/python-committers@python.org/msg05628.html))"
   ]
  },
  {
   "cell_type": "markdown",
   "id": "accredited-sullivan",
   "metadata": {
    "slideshow": {
     "slide_type": "subslide"
    }
   },
   "source": [
    "El nombre del lenguaje proviene de los humoristas británicos Monty Python.\n",
    "\n",
    ">*\"I chose Python as a working title for the project, being in a slightly irreverent mood (and a big fan of Monty Python's Flying Circus).\"*"
   ]
  },
  {
   "cell_type": "markdown",
   "id": "average-bedroom",
   "metadata": {
    "slideshow": {
     "slide_type": "slide"
    }
   },
   "source": [
    "## Caracteristicas\n",
    "\n",
    "- Interpretado\n",
    "- Tipado dinamico\n",
    "- Multiparadigma\n",
    "- Alto nivel\n",
    "- Tiene un recolector de basura (no hay malloc, free, realloc, etc)"
   ]
  },
  {
   "cell_type": "markdown",
   "id": "rocky-technical",
   "metadata": {},
   "source": [
    "## ¿Cómo empezar?\n",
    "\n",
    "* Al ser un lenguaje *interpretado*, se puede ir escribiendo a medida que se ejecuta, sin necesidad de compilar de antemano! Solamente hace falta escribir `python` o `python3` en una terminal para empezar\n",
    "\n",
    "* También, permite escribir archivos y correrlos. Crear un archivo con extensión `.py` y luego correr `python miarchivo.py` en laterminal"
   ]
  },
  {
   "cell_type": "markdown",
   "id": "dynamic-indianapolis",
   "metadata": {
    "slideshow": {
     "slide_type": "slide"
    }
   },
   "source": [
    "## El Zen de Python"
   ]
  },
  {
   "cell_type": "code",
   "execution_count": 1,
   "id": "posted-complement",
   "metadata": {
    "execution": {
     "iopub.execute_input": "2021-02-03T23:10:41.919950Z",
     "iopub.status.busy": "2021-02-03T23:10:41.919289Z",
     "iopub.status.idle": "2021-02-03T23:10:41.950758Z",
     "shell.execute_reply": "2021-02-03T23:10:41.949986Z"
    },
    "slideshow": {
     "slide_type": "slide"
    }
   },
   "outputs": [
    {
     "name": "stdout",
     "output_type": "stream",
     "text": [
      "The Zen of Python, by Tim Peters\n",
      "\n",
      "Beautiful is better than ugly.\n",
      "Explicit is better than implicit.\n",
      "Simple is better than complex.\n",
      "Complex is better than complicated.\n",
      "Flat is better than nested.\n",
      "Sparse is better than dense.\n",
      "Readability counts.\n",
      "Special cases aren't special enough to break the rules.\n",
      "Although practicality beats purity.\n",
      "Errors should never pass silently.\n",
      "Unless explicitly silenced.\n",
      "In the face of ambiguity, refuse the temptation to guess.\n",
      "There should be one-- and preferably only one --obvious way to do it.\n",
      "Although that way may not be obvious at first unless you're Dutch.\n",
      "Now is better than never.\n",
      "Although never is often better than *right* now.\n",
      "If the implementation is hard to explain, it's a bad idea.\n",
      "If the implementation is easy to explain, it may be a good idea.\n",
      "Namespaces are one honking great idea -- let's do more of those!\n"
     ]
    }
   ],
   "source": [
    "import this"
   ]
  },
  {
   "cell_type": "markdown",
   "id": "prospective-airfare",
   "metadata": {
    "slideshow": {
     "slide_type": "slide"
    }
   },
   "source": [
    "## Conocimientos Básicos de Python: Variables y Tipos"
   ]
  },
  {
   "cell_type": "code",
   "execution_count": 2,
   "id": "purple-sleeping",
   "metadata": {
    "execution": {
     "iopub.execute_input": "2021-02-03T23:10:41.956175Z",
     "iopub.status.busy": "2021-02-03T23:10:41.954941Z",
     "iopub.status.idle": "2021-02-03T23:10:41.958013Z",
     "shell.execute_reply": "2021-02-03T23:10:41.957552Z"
    },
    "slideshow": {
     "slide_type": "slide"
    }
   },
   "outputs": [
    {
     "name": "stdout",
     "output_type": "stream",
     "text": [
      "Hello World!\n"
     ]
    }
   ],
   "source": [
    "# Este es un comentario\n",
    "\n",
    "print(\"Hello World!\")"
   ]
  },
  {
   "cell_type": "markdown",
   "id": "rubber-equilibrium",
   "metadata": {},
   "source": [
    "Los strings en python puden escribirse tanto con comillas simples (`'`) como comillas dobles (`\"`). Normalmente vemos texto entre comillas triples para escribir _docstrings_, segun la guia de estilo de Python, el PEP8."
   ]
  },
  {
   "cell_type": "code",
   "execution_count": 3,
   "id": "applied-detroit",
   "metadata": {
    "execution": {
     "iopub.execute_input": "2021-02-03T23:10:41.969480Z",
     "iopub.status.busy": "2021-02-03T23:10:41.965800Z",
     "iopub.status.idle": "2021-02-03T23:10:41.972306Z",
     "shell.execute_reply": "2021-02-03T23:10:41.972756Z"
    }
   },
   "outputs": [
    {
     "data": {
      "text/plain": [
       "'Esto es un docstring.\\n'"
      ]
     },
     "execution_count": 1,
     "metadata": {},
     "output_type": "execute_result"
    }
   ],
   "source": [
    "\"\"\"Esto es un docstring.\n",
    "\"\"\""
   ]
  },
  {
   "cell_type": "markdown",
   "id": "exempt-specific",
   "metadata": {},
   "source": [
    "### Declaracion de variables"
   ]
  },
  {
   "cell_type": "code",
   "execution_count": 4,
   "id": "welcome-dayton",
   "metadata": {
    "execution": {
     "iopub.execute_input": "2021-02-03T23:10:41.978362Z",
     "iopub.status.busy": "2021-02-03T23:10:41.977133Z",
     "iopub.status.idle": "2021-02-03T23:10:41.980332Z",
     "shell.execute_reply": "2021-02-03T23:10:41.979850Z"
    }
   },
   "outputs": [
    {
     "name": "stdout",
     "output_type": "stream",
     "text": [
      "Hola\n"
     ]
    }
   ],
   "source": [
    "string = 'Hola'\n",
    "print(string)"
   ]
  },
  {
   "cell_type": "code",
   "execution_count": 5,
   "id": "wound-party",
   "metadata": {
    "execution": {
     "iopub.execute_input": "2021-02-03T23:10:41.985474Z",
     "iopub.status.busy": "2021-02-03T23:10:41.984200Z",
     "iopub.status.idle": "2021-02-03T23:10:41.987600Z",
     "shell.execute_reply": "2021-02-03T23:10:41.987115Z"
    }
   },
   "outputs": [
    {
     "name": "stdout",
     "output_type": "stream",
     "text": [
      "1\n"
     ]
    }
   ],
   "source": [
    "entero = 1\n",
    "print(entero)"
   ]
  },
  {
   "cell_type": "code",
   "execution_count": 6,
   "id": "parallel-resident",
   "metadata": {
    "execution": {
     "iopub.execute_input": "2021-02-03T23:10:41.992631Z",
     "iopub.status.busy": "2021-02-03T23:10:41.991956Z",
     "iopub.status.idle": "2021-02-03T23:10:41.994161Z",
     "shell.execute_reply": "2021-02-03T23:10:41.994648Z"
    }
   },
   "outputs": [
    {
     "name": "stdout",
     "output_type": "stream",
     "text": [
      "1.0\n"
     ]
    }
   ],
   "source": [
    "flotante = 1.0\n",
    "print(flotante)"
   ]
  },
  {
   "cell_type": "code",
   "execution_count": 7,
   "id": "separated-beads",
   "metadata": {
    "execution": {
     "iopub.execute_input": "2021-02-03T23:10:41.999764Z",
     "iopub.status.busy": "2021-02-03T23:10:41.998411Z",
     "iopub.status.idle": "2021-02-03T23:10:42.001791Z",
     "shell.execute_reply": "2021-02-03T23:10:42.001280Z"
    }
   },
   "outputs": [
    {
     "name": "stdout",
     "output_type": "stream",
     "text": [
      "(1, 1.0)\n"
     ]
    }
   ],
   "source": [
    "tupla = (entero, flotante)\n",
    "print(tupla)"
   ]
  },
  {
   "cell_type": "code",
   "execution_count": 8,
   "id": "advisory-column",
   "metadata": {
    "execution": {
     "iopub.execute_input": "2021-02-03T23:10:42.006696Z",
     "iopub.status.busy": "2021-02-03T23:10:42.005863Z",
     "iopub.status.idle": "2021-02-03T23:10:42.008520Z",
     "shell.execute_reply": "2021-02-03T23:10:42.009002Z"
    }
   },
   "outputs": [
    {
     "name": "stdout",
     "output_type": "stream",
     "text": [
      "(1, 1.0, 'Hola')\n"
     ]
    }
   ],
   "source": [
    "nupla = (entero, flotante, string)\n",
    "print(nupla)"
   ]
  },
  {
   "cell_type": "code",
   "execution_count": 9,
   "id": "banned-instrument",
   "metadata": {
    "execution": {
     "iopub.execute_input": "2021-02-03T23:10:42.013183Z",
     "iopub.status.busy": "2021-02-03T23:10:42.012605Z",
     "iopub.status.idle": "2021-02-03T23:10:42.014922Z",
     "shell.execute_reply": "2021-02-03T23:10:42.015408Z"
    }
   },
   "outputs": [
    {
     "name": "stdout",
     "output_type": "stream",
     "text": [
      "[1, 1.0, 'Hola']\n"
     ]
    }
   ],
   "source": [
    "lista = [entero, flotante, string]\n",
    "print(lista)"
   ]
  },
  {
   "cell_type": "code",
   "execution_count": 10,
   "id": "responsible-worse",
   "metadata": {
    "execution": {
     "iopub.execute_input": "2021-02-03T23:10:42.019777Z",
     "iopub.status.busy": "2021-02-03T23:10:42.019197Z",
     "iopub.status.idle": "2021-02-03T23:10:42.021392Z",
     "shell.execute_reply": "2021-02-03T23:10:42.021849Z"
    }
   },
   "outputs": [
    {
     "name": "stdout",
     "output_type": "stream",
     "text": [
      "{'1': (1, 1.0), 50: (1, 1.0, 'Hola'), '3': 1}\n"
     ]
    }
   ],
   "source": [
    "diccionario = {'1': tupla, 50: nupla, '3': entero}\n",
    "print(diccionario)"
   ]
  },
  {
   "cell_type": "code",
   "execution_count": 11,
   "id": "linear-ministry",
   "metadata": {
    "execution": {
     "iopub.execute_input": "2021-02-03T23:10:42.026288Z",
     "iopub.status.busy": "2021-02-03T23:10:42.025704Z",
     "iopub.status.idle": "2021-02-03T23:10:42.027989Z",
     "shell.execute_reply": "2021-02-03T23:10:42.028511Z"
    }
   },
   "outputs": [
    {
     "name": "stdout",
     "output_type": "stream",
     "text": [
      "{1, 2}\n"
     ]
    }
   ],
   "source": [
    "conjunto = set([1, 2])\n",
    "print(conjunto)"
   ]
  },
  {
   "cell_type": "code",
   "execution_count": 12,
   "id": "historic-victory",
   "metadata": {
    "execution": {
     "iopub.execute_input": "2021-02-03T23:10:42.032455Z",
     "iopub.status.busy": "2021-02-03T23:10:42.031810Z",
     "iopub.status.idle": "2021-02-03T23:10:42.034691Z",
     "shell.execute_reply": "2021-02-03T23:10:42.035243Z"
    }
   },
   "outputs": [
    {
     "name": "stdout",
     "output_type": "stream",
     "text": [
      "True\n"
     ]
    }
   ],
   "source": [
    "booleano = True\n",
    "print(booleano)"
   ]
  },
  {
   "cell_type": "code",
   "execution_count": 13,
   "id": "involved-sitting",
   "metadata": {
    "execution": {
     "iopub.execute_input": "2021-02-03T23:10:42.040445Z",
     "iopub.status.busy": "2021-02-03T23:10:42.039862Z",
     "iopub.status.idle": "2021-02-03T23:10:42.041824Z",
     "shell.execute_reply": "2021-02-03T23:10:42.042291Z"
    }
   },
   "outputs": [
    {
     "name": "stdout",
     "output_type": "stream",
     "text": [
      "None\n"
     ]
    }
   ],
   "source": [
    "nada = None\n",
    "print(nada)"
   ]
  },
  {
   "cell_type": "markdown",
   "id": "urban-working",
   "metadata": {},
   "source": [
    "Ojo que las variables pueden cambiar de tipo!"
   ]
  },
  {
   "cell_type": "code",
   "execution_count": 14,
   "id": "green-schedule",
   "metadata": {
    "execution": {
     "iopub.execute_input": "2021-02-03T23:10:42.046305Z",
     "iopub.status.busy": "2021-02-03T23:10:42.045740Z",
     "iopub.status.idle": "2021-02-03T23:10:42.048284Z",
     "shell.execute_reply": "2021-02-03T23:10:42.048785Z"
    }
   },
   "outputs": [
    {
     "name": "stdout",
     "output_type": "stream",
     "text": [
      "1\n",
      "<class 'int'>\n"
     ]
    }
   ],
   "source": [
    "elemento = 1\n",
    "print(elemento)\n",
    "print(type(elemento))"
   ]
  },
  {
   "cell_type": "code",
   "execution_count": 15,
   "id": "municipal-wrapping",
   "metadata": {
    "execution": {
     "iopub.execute_input": "2021-02-03T23:10:42.053324Z",
     "iopub.status.busy": "2021-02-03T23:10:42.052645Z",
     "iopub.status.idle": "2021-02-03T23:10:42.056707Z",
     "shell.execute_reply": "2021-02-03T23:10:42.056135Z"
    }
   },
   "outputs": [
    {
     "name": "stdout",
     "output_type": "stream",
     "text": [
      "1\n",
      "<class 'str'>\n"
     ]
    }
   ],
   "source": [
    "elemento = str(1)\n",
    "print(elemento)\n",
    "print(type(elemento))"
   ]
  },
  {
   "cell_type": "code",
   "execution_count": 16,
   "id": "nutritional-cancellation",
   "metadata": {
    "execution": {
     "iopub.execute_input": "2021-02-03T23:10:42.060620Z",
     "iopub.status.busy": "2021-02-03T23:10:42.060052Z",
     "iopub.status.idle": "2021-02-03T23:10:42.062227Z",
     "shell.execute_reply": "2021-02-03T23:10:42.062700Z"
    }
   },
   "outputs": [
    {
     "name": "stdout",
     "output_type": "stream",
     "text": [
      "[2]\n",
      "<class 'list'>\n"
     ]
    }
   ],
   "source": [
    "elemento = [2]\n",
    "\n",
    "print(elemento)\n",
    "print(type(elemento))"
   ]
  },
  {
   "cell_type": "markdown",
   "id": "controlled-pittsburgh",
   "metadata": {},
   "source": [
    "### Tipos basicos"
   ]
  },
  {
   "cell_type": "markdown",
   "id": "interested-final",
   "metadata": {
    "slideshow": {
     "slide_type": "slide"
    }
   },
   "source": [
    "#### Listas de Python"
   ]
  },
  {
   "cell_type": "code",
   "execution_count": 17,
   "id": "aggregate-separate",
   "metadata": {
    "execution": {
     "iopub.execute_input": "2021-02-03T23:10:42.067078Z",
     "iopub.status.busy": "2021-02-03T23:10:42.066336Z",
     "iopub.status.idle": "2021-02-03T23:10:42.070257Z",
     "shell.execute_reply": "2021-02-03T23:10:42.069738Z"
    }
   },
   "outputs": [
    {
     "data": {
      "text/plain": [
       "[]"
      ]
     },
     "execution_count": 1,
     "metadata": {},
     "output_type": "execute_result"
    }
   ],
   "source": [
    "lista = list()\n",
    "lista"
   ]
  },
  {
   "cell_type": "code",
   "execution_count": 18,
   "id": "operating-springfield",
   "metadata": {
    "execution": {
     "iopub.execute_input": "2021-02-03T23:10:42.074212Z",
     "iopub.status.busy": "2021-02-03T23:10:42.073559Z",
     "iopub.status.idle": "2021-02-03T23:10:42.077223Z",
     "shell.execute_reply": "2021-02-03T23:10:42.076578Z"
    },
    "slideshow": {
     "slide_type": "slide"
    }
   },
   "outputs": [
    {
     "data": {
      "text/plain": [
       "[]"
      ]
     },
     "execution_count": 1,
     "metadata": {},
     "output_type": "execute_result"
    }
   ],
   "source": [
    "lista = []\n",
    "lista"
   ]
  },
  {
   "cell_type": "code",
   "execution_count": 19,
   "id": "white-monday",
   "metadata": {
    "execution": {
     "iopub.execute_input": "2021-02-03T23:10:42.081371Z",
     "iopub.status.busy": "2021-02-03T23:10:42.080796Z",
     "iopub.status.idle": "2021-02-03T23:10:42.083686Z",
     "shell.execute_reply": "2021-02-03T23:10:42.084140Z"
    },
    "slideshow": {
     "slide_type": "slide"
    }
   },
   "outputs": [
    {
     "data": {
      "text/plain": [
       "[1, 2, 3, 4]"
      ]
     },
     "execution_count": 1,
     "metadata": {},
     "output_type": "execute_result"
    }
   ],
   "source": [
    "lista = [1, 2, 3, 4]\n",
    "lista"
   ]
  },
  {
   "cell_type": "code",
   "execution_count": 20,
   "id": "fixed-fireplace",
   "metadata": {
    "execution": {
     "iopub.execute_input": "2021-02-03T23:10:42.089650Z",
     "iopub.status.busy": "2021-02-03T23:10:42.089073Z",
     "iopub.status.idle": "2021-02-03T23:10:42.091780Z",
     "shell.execute_reply": "2021-02-03T23:10:42.092289Z"
    },
    "slideshow": {
     "slide_type": "slide"
    }
   },
   "outputs": [
    {
     "data": {
      "text/plain": [
       "[1, 2, 3, 4, 1, 'dos', 3.0]"
      ]
     },
     "execution_count": 1,
     "metadata": {},
     "output_type": "execute_result"
    }
   ],
   "source": [
    "lista.append(1)  # Inserto un 1 al final\n",
    "lista.append(\"dos\")  # Inserto un \"dos\" al final\n",
    "lista.append(3.0)  # Inserto un 3.0 al final\n",
    "lista"
   ]
  },
  {
   "cell_type": "code",
   "execution_count": 21,
   "id": "australian-caribbean",
   "metadata": {
    "execution": {
     "iopub.execute_input": "2021-02-03T23:10:42.097035Z",
     "iopub.status.busy": "2021-02-03T23:10:42.096453Z",
     "iopub.status.idle": "2021-02-03T23:10:42.098765Z",
     "shell.execute_reply": "2021-02-03T23:10:42.099234Z"
    }
   },
   "outputs": [
    {
     "name": "stdout",
     "output_type": "stream",
     "text": [
      "[1, 2, 10, 3, 4, 1, 'dos', 3.0]\n"
     ]
    }
   ],
   "source": [
    "lista.insert(2, 10)  # Inserto en posicion 2 un 10\n",
    "print(lista)"
   ]
  },
  {
   "cell_type": "code",
   "execution_count": 22,
   "id": "registered-boards",
   "metadata": {
    "execution": {
     "iopub.execute_input": "2021-02-03T23:10:42.104232Z",
     "iopub.status.busy": "2021-02-03T23:10:42.103655Z",
     "iopub.status.idle": "2021-02-03T23:10:42.106639Z",
     "shell.execute_reply": "2021-02-03T23:10:42.106005Z"
    }
   },
   "outputs": [
    {
     "data": {
      "text/plain": [
       "8"
      ]
     },
     "execution_count": 1,
     "metadata": {},
     "output_type": "execute_result"
    }
   ],
   "source": [
    "len(lista)"
   ]
  },
  {
   "cell_type": "code",
   "execution_count": 23,
   "id": "adolescent-shock",
   "metadata": {
    "execution": {
     "iopub.execute_input": "2021-02-03T23:10:42.110759Z",
     "iopub.status.busy": "2021-02-03T23:10:42.110131Z",
     "iopub.status.idle": "2021-02-03T23:10:42.113695Z",
     "shell.execute_reply": "2021-02-03T23:10:42.113195Z"
    }
   },
   "outputs": [
    {
     "data": {
      "text/plain": [
       "3.0"
      ]
     },
     "execution_count": 1,
     "metadata": {},
     "output_type": "execute_result"
    }
   ],
   "source": [
    "lista.pop()"
   ]
  },
  {
   "cell_type": "code",
   "execution_count": 24,
   "id": "first-trustee",
   "metadata": {
    "execution": {
     "iopub.execute_input": "2021-02-03T23:10:42.119046Z",
     "iopub.status.busy": "2021-02-03T23:10:42.118500Z",
     "iopub.status.idle": "2021-02-03T23:10:42.121618Z",
     "shell.execute_reply": "2021-02-03T23:10:42.121036Z"
    }
   },
   "outputs": [
    {
     "data": {
      "text/plain": [
       "[1, 2, 10, 3, 4, 1, 'dos']"
      ]
     },
     "execution_count": 1,
     "metadata": {},
     "output_type": "execute_result"
    }
   ],
   "source": [
    "lista"
   ]
  },
  {
   "cell_type": "code",
   "execution_count": 25,
   "id": "light-copying",
   "metadata": {
    "execution": {
     "iopub.execute_input": "2021-02-03T23:10:42.125440Z",
     "iopub.status.busy": "2021-02-03T23:10:42.124902Z",
     "iopub.status.idle": "2021-02-03T23:10:42.127532Z",
     "shell.execute_reply": "2021-02-03T23:10:42.128124Z"
    }
   },
   "outputs": [
    {
     "data": {
      "text/plain": [
       "2"
      ]
     },
     "execution_count": 1,
     "metadata": {},
     "output_type": "execute_result"
    }
   ],
   "source": [
    "lista.index(10)"
   ]
  },
  {
   "cell_type": "code",
   "execution_count": 26,
   "id": "intimate-reason",
   "metadata": {
    "execution": {
     "iopub.execute_input": "2021-02-03T23:10:42.133057Z",
     "iopub.status.busy": "2021-02-03T23:10:42.132443Z",
     "iopub.status.idle": "2021-02-03T23:10:42.135335Z",
     "shell.execute_reply": "2021-02-03T23:10:42.135807Z"
    }
   },
   "outputs": [
    {
     "data": {
      "text/plain": [
       "[1, 2, 3, 4, 1, 'dos']"
      ]
     },
     "execution_count": 1,
     "metadata": {},
     "output_type": "execute_result"
    }
   ],
   "source": [
    "lista.remove(10)\n",
    "lista"
   ]
  },
  {
   "cell_type": "code",
   "execution_count": 27,
   "id": "viral-charleston",
   "metadata": {
    "execution": {
     "iopub.execute_input": "2021-02-03T23:10:42.140884Z",
     "iopub.status.busy": "2021-02-03T23:10:42.140255Z",
     "iopub.status.idle": "2021-02-03T23:10:42.199140Z",
     "shell.execute_reply": "2021-02-03T23:10:42.198332Z"
    },
    "tags": [
     "raises-exception"
    ]
   },
   "outputs": [
    {
     "name": "stdout",
     "output_type": "stream",
     "text": [
      "1\n",
      "2\n",
      "2\n",
      "3\n",
      "3\n",
      "4\n",
      "4\n",
      "5\n",
      "1\n",
      "2\n",
      "dos\n"
     ]
    },
    {
     "ename": "TypeError",
     "evalue": "can only concatenate str (not \"int\") to str",
     "output_type": "error",
     "traceback": [
      "\u001b[0;31m---------------------------------------------------------------------------\u001b[0m",
      "\u001b[0;31mTypeError\u001b[0m                                 Traceback (most recent call last)",
      "\u001b[0;32m<ipython-input-1-41b56d5cf080>\u001b[0m in \u001b[0;36m<module>\u001b[0;34m\u001b[0m\n\u001b[1;32m      1\u001b[0m \u001b[0;32mfor\u001b[0m \u001b[0melemento\u001b[0m \u001b[0;32min\u001b[0m \u001b[0mlista\u001b[0m\u001b[0;34m:\u001b[0m\u001b[0;34m\u001b[0m\u001b[0;34m\u001b[0m\u001b[0m\n\u001b[1;32m      2\u001b[0m     \u001b[0mprint\u001b[0m\u001b[0;34m(\u001b[0m\u001b[0melemento\u001b[0m\u001b[0;34m)\u001b[0m\u001b[0;34m\u001b[0m\u001b[0;34m\u001b[0m\u001b[0m\n\u001b[0;32m----> 3\u001b[0;31m     \u001b[0mprint\u001b[0m\u001b[0;34m(\u001b[0m\u001b[0melemento\u001b[0m \u001b[0;34m+\u001b[0m \u001b[0;36m1\u001b[0m\u001b[0;34m)\u001b[0m\u001b[0;34m\u001b[0m\u001b[0;34m\u001b[0m\u001b[0m\n\u001b[0m",
      "\u001b[0;31mTypeError\u001b[0m: can only concatenate str (not \"int\") to str"
     ]
    }
   ],
   "source": [
    "for elemento in lista:\n",
    "    print(elemento)\n",
    "    print(elemento + 1)"
   ]
  },
  {
   "cell_type": "code",
   "execution_count": 28,
   "id": "atmospheric-biotechnology",
   "metadata": {
    "execution": {
     "iopub.execute_input": "2021-02-03T23:10:42.303928Z",
     "iopub.status.busy": "2021-02-03T23:10:42.302876Z",
     "iopub.status.idle": "2021-02-03T23:10:42.307809Z",
     "shell.execute_reply": "2021-02-03T23:10:42.308244Z"
    }
   },
   "outputs": [
    {
     "data": {
      "text/plain": [
       "[1, 2, 3, 4, 1, 'dos']"
      ]
     },
     "execution_count": 1,
     "metadata": {},
     "output_type": "execute_result"
    }
   ],
   "source": [
    "lista"
   ]
  },
  {
   "cell_type": "code",
   "execution_count": 29,
   "id": "hearing-beach",
   "metadata": {
    "execution": {
     "iopub.execute_input": "2021-02-03T23:10:42.311035Z",
     "iopub.status.busy": "2021-02-03T23:10:42.310398Z",
     "iopub.status.idle": "2021-02-03T23:10:42.315247Z",
     "shell.execute_reply": "2021-02-03T23:10:42.315731Z"
    }
   },
   "outputs": [
    {
     "name": "stdout",
     "output_type": "stream",
     "text": [
      "0-ésimo elemento: 1\n",
      "1-ésimo elemento: 2\n",
      "2-ésimo elemento: 3\n",
      "3-ésimo elemento: 4\n",
      "4-ésimo elemento: 1\n",
      "5-ésimo elemento: dos\n"
     ]
    }
   ],
   "source": [
    "for i, elemento in enumerate(lista):\n",
    "    print(f\"{i}-ésimo elemento: {elemento}\")"
   ]
  },
  {
   "cell_type": "code",
   "execution_count": 30,
   "id": "under-drunk",
   "metadata": {
    "execution": {
     "iopub.execute_input": "2021-02-03T23:10:42.323402Z",
     "iopub.status.busy": "2021-02-03T23:10:42.322604Z",
     "iopub.status.idle": "2021-02-03T23:10:42.329647Z",
     "shell.execute_reply": "2021-02-03T23:10:42.327061Z"
    },
    "tags": [
     "raises-exception"
    ]
   },
   "outputs": [
    {
     "ename": "TypeError",
     "evalue": "'<' not supported between instances of 'str' and 'int'",
     "output_type": "error",
     "traceback": [
      "\u001b[0;31m---------------------------------------------------------------------------\u001b[0m",
      "\u001b[0;31mTypeError\u001b[0m                                 Traceback (most recent call last)",
      "\u001b[0;32m<ipython-input-1-06c3f264dc7a>\u001b[0m in \u001b[0;36m<module>\u001b[0;34m\u001b[0m\n\u001b[0;32m----> 1\u001b[0;31m \u001b[0msorted\u001b[0m\u001b[0;34m(\u001b[0m\u001b[0mlista\u001b[0m\u001b[0;34m)\u001b[0m\u001b[0;34m\u001b[0m\u001b[0;34m\u001b[0m\u001b[0m\n\u001b[0m",
      "\u001b[0;31mTypeError\u001b[0m: '<' not supported between instances of 'str' and 'int'"
     ]
    }
   ],
   "source": [
    "sorted(lista)"
   ]
  },
  {
   "cell_type": "code",
   "execution_count": 31,
   "id": "detected-lincoln",
   "metadata": {
    "execution": {
     "iopub.execute_input": "2021-02-03T23:10:42.433917Z",
     "iopub.status.busy": "2021-02-03T23:10:42.432382Z",
     "iopub.status.idle": "2021-02-03T23:10:42.434543Z",
     "shell.execute_reply": "2021-02-03T23:10:42.435027Z"
    }
   },
   "outputs": [],
   "source": [
    "lista.remove(\"dos\")"
   ]
  },
  {
   "cell_type": "code",
   "execution_count": 32,
   "id": "atomic-international",
   "metadata": {
    "execution": {
     "iopub.execute_input": "2021-02-03T23:10:42.442788Z",
     "iopub.status.busy": "2021-02-03T23:10:42.439938Z",
     "iopub.status.idle": "2021-02-03T23:10:42.446127Z",
     "shell.execute_reply": "2021-02-03T23:10:42.446658Z"
    }
   },
   "outputs": [
    {
     "data": {
      "text/plain": [
       "[1, 1, 2, 3, 4]"
      ]
     },
     "execution_count": 1,
     "metadata": {},
     "output_type": "execute_result"
    }
   ],
   "source": [
    "sorted(lista)"
   ]
  },
  {
   "cell_type": "code",
   "execution_count": 33,
   "id": "derived-driving",
   "metadata": {
    "execution": {
     "iopub.execute_input": "2021-02-03T23:10:42.451019Z",
     "iopub.status.busy": "2021-02-03T23:10:42.450455Z",
     "iopub.status.idle": "2021-02-03T23:10:42.455623Z",
     "shell.execute_reply": "2021-02-03T23:10:42.456053Z"
    }
   },
   "outputs": [
    {
     "data": {
      "text/plain": [
       "[1, 1, 2, 3, 4]"
      ]
     },
     "execution_count": 1,
     "metadata": {},
     "output_type": "execute_result"
    }
   ],
   "source": [
    "lista.sort()\n",
    "lista"
   ]
  },
  {
   "cell_type": "markdown",
   "id": "major-blowing",
   "metadata": {
    "slideshow": {
     "slide_type": "slide"
    }
   },
   "source": [
    "#### Tuplas de Python\n",
    "\n",
    "Las tuplas son inmutables. No se pueden agregar elementos luego de creadas."
   ]
  },
  {
   "cell_type": "code",
   "execution_count": 34,
   "id": "crucial-bronze",
   "metadata": {
    "execution": {
     "iopub.execute_input": "2021-02-03T23:10:42.460485Z",
     "iopub.status.busy": "2021-02-03T23:10:42.459842Z",
     "iopub.status.idle": "2021-02-03T23:10:42.469608Z",
     "shell.execute_reply": "2021-02-03T23:10:42.468029Z"
    },
    "slideshow": {
     "slide_type": "slide"
    },
    "tags": [
     "raises-exception"
    ]
   },
   "outputs": [
    {
     "name": "stdout",
     "output_type": "stream",
     "text": [
      "(1, 2)\n",
      "1\n",
      "2\n"
     ]
    },
    {
     "ename": "TypeError",
     "evalue": "'tuple' object does not support item assignment",
     "output_type": "error",
     "traceback": [
      "\u001b[0;31m---------------------------------------------------------------------------\u001b[0m",
      "\u001b[0;31mTypeError\u001b[0m                                 Traceback (most recent call last)",
      "\u001b[0;32m<ipython-input-1-80ca8b547dd6>\u001b[0m in \u001b[0;36m<module>\u001b[0;34m\u001b[0m\n\u001b[1;32m      5\u001b[0m \u001b[0mprint\u001b[0m\u001b[0;34m(\u001b[0m\u001b[0mtupla\u001b[0m\u001b[0;34m[\u001b[0m\u001b[0;36m1\u001b[0m\u001b[0;34m]\u001b[0m\u001b[0;34m)\u001b[0m\u001b[0;34m\u001b[0m\u001b[0;34m\u001b[0m\u001b[0m\n\u001b[1;32m      6\u001b[0m \u001b[0;34m\u001b[0m\u001b[0m\n\u001b[0;32m----> 7\u001b[0;31m \u001b[0mtupla\u001b[0m\u001b[0;34m[\u001b[0m\u001b[0;36m1\u001b[0m\u001b[0;34m]\u001b[0m \u001b[0;34m=\u001b[0m \u001b[0;36m3\u001b[0m  \u001b[0;31m# Falla. No se puede mutar\u001b[0m\u001b[0;34m\u001b[0m\u001b[0;34m\u001b[0m\u001b[0m\n\u001b[0m",
      "\u001b[0;31mTypeError\u001b[0m: 'tuple' object does not support item assignment"
     ]
    }
   ],
   "source": [
    "tupla = (1, 2)\n",
    "\n",
    "print(tupla)\n",
    "print(tupla[0])\n",
    "print(tupla[1])\n",
    "\n",
    "tupla[1] = 3  # Falla. No se puede mutar"
   ]
  },
  {
   "cell_type": "code",
   "execution_count": 35,
   "id": "missing-journey",
   "metadata": {
    "execution": {
     "iopub.execute_input": "2021-02-03T23:10:42.573151Z",
     "iopub.status.busy": "2021-02-03T23:10:42.572573Z",
     "iopub.status.idle": "2021-02-03T23:10:42.578372Z",
     "shell.execute_reply": "2021-02-03T23:10:42.577850Z"
    }
   },
   "outputs": [
    {
     "data": {
      "text/plain": [
       "[1, 2]"
      ]
     },
     "execution_count": 1,
     "metadata": {},
     "output_type": "execute_result"
    }
   ],
   "source": [
    "l = [1, 2]\n",
    "l"
   ]
  },
  {
   "cell_type": "code",
   "execution_count": 36,
   "id": "molecular-violation",
   "metadata": {
    "execution": {
     "iopub.execute_input": "2021-02-03T23:10:42.582864Z",
     "iopub.status.busy": "2021-02-03T23:10:42.582246Z",
     "iopub.status.idle": "2021-02-03T23:10:42.588089Z",
     "shell.execute_reply": "2021-02-03T23:10:42.587598Z"
    }
   },
   "outputs": [
    {
     "data": {
      "text/plain": [
       "[1, 3]"
      ]
     },
     "execution_count": 1,
     "metadata": {},
     "output_type": "execute_result"
    }
   ],
   "source": [
    "l[1] = 3\n",
    "l"
   ]
  },
  {
   "cell_type": "markdown",
   "id": "hired-politics",
   "metadata": {
    "slideshow": {
     "slide_type": "slide"
    }
   },
   "source": [
    "#### Diferencia entre lista y tupla\n",
    "Las listas se caracterizan por ser mutables, es decir, se puede cambiar su contenido en tiempo de ejecución, mientras que las tuplas son inmutables ya que no es posible modificar el contenido una vez creada."
   ]
  },
  {
   "cell_type": "markdown",
   "id": "young-issue",
   "metadata": {},
   "source": [
    "#### Slices\n",
    "\n",
    "**Valen para listas, tuplas o strings (_segmentos_)**"
   ]
  },
  {
   "cell_type": "code",
   "execution_count": 37,
   "id": "contrary-label",
   "metadata": {
    "execution": {
     "iopub.execute_input": "2021-02-03T23:10:42.593123Z",
     "iopub.status.busy": "2021-02-03T23:10:42.591756Z",
     "iopub.status.idle": "2021-02-03T23:10:42.593808Z",
     "shell.execute_reply": "2021-02-03T23:10:42.594428Z"
    }
   },
   "outputs": [],
   "source": [
    "numeros = [0, 1, 2, 3, 4, 5, 6, 7, 8, 9, 10]"
   ]
  },
  {
   "cell_type": "code",
   "execution_count": 38,
   "id": "latin-georgia",
   "metadata": {
    "execution": {
     "iopub.execute_input": "2021-02-03T23:10:42.599748Z",
     "iopub.status.busy": "2021-02-03T23:10:42.598402Z",
     "iopub.status.idle": "2021-02-03T23:10:42.601762Z",
     "shell.execute_reply": "2021-02-03T23:10:42.601267Z"
    }
   },
   "outputs": [
    {
     "name": "stdout",
     "output_type": "stream",
     "text": [
      "[0, 1, 2, 3, 4, 5, 6, 7, 8, 9, 10]\n"
     ]
    }
   ],
   "source": [
    "print(numeros)"
   ]
  },
  {
   "cell_type": "code",
   "execution_count": 39,
   "id": "sound-chapter",
   "metadata": {
    "execution": {
     "iopub.execute_input": "2021-02-03T23:10:42.606937Z",
     "iopub.status.busy": "2021-02-03T23:10:42.605578Z",
     "iopub.status.idle": "2021-02-03T23:10:42.608739Z",
     "shell.execute_reply": "2021-02-03T23:10:42.608251Z"
    }
   },
   "outputs": [
    {
     "name": "stdout",
     "output_type": "stream",
     "text": [
      "2\n"
     ]
    }
   ],
   "source": [
    "print(numeros[2])  # Imprimo elemento en la posición 2"
   ]
  },
  {
   "cell_type": "code",
   "execution_count": 40,
   "id": "curious-conservation",
   "metadata": {
    "execution": {
     "iopub.execute_input": "2021-02-03T23:10:42.613416Z",
     "iopub.status.busy": "2021-02-03T23:10:42.612854Z",
     "iopub.status.idle": "2021-02-03T23:10:42.614883Z",
     "shell.execute_reply": "2021-02-03T23:10:42.615329Z"
    }
   },
   "outputs": [
    {
     "data": {
      "text/plain": [
       "10"
      ]
     },
     "execution_count": 1,
     "metadata": {},
     "output_type": "execute_result"
    }
   ],
   "source": [
    "numeros[len(numeros) - 1]"
   ]
  },
  {
   "cell_type": "code",
   "execution_count": 41,
   "id": "younger-invention",
   "metadata": {
    "execution": {
     "iopub.execute_input": "2021-02-03T23:10:42.619589Z",
     "iopub.status.busy": "2021-02-03T23:10:42.618976Z",
     "iopub.status.idle": "2021-02-03T23:10:42.621275Z",
     "shell.execute_reply": "2021-02-03T23:10:42.621884Z"
    },
    "lines_to_next_cell": 2
   },
   "outputs": [
    {
     "name": "stdout",
     "output_type": "stream",
     "text": [
      "10\n"
     ]
    }
   ],
   "source": [
    "print(numeros[-1])  # # Imprimo elemento en la última posición"
   ]
  },
  {
   "cell_type": "code",
   "execution_count": 42,
   "id": "surprised-array",
   "metadata": {
    "execution": {
     "iopub.execute_input": "2021-02-03T23:10:42.626317Z",
     "iopub.status.busy": "2021-02-03T23:10:42.625601Z",
     "iopub.status.idle": "2021-02-03T23:10:42.628972Z",
     "shell.execute_reply": "2021-02-03T23:10:42.629559Z"
    },
    "lines_to_next_cell": 2
   },
   "outputs": [
    {
     "data": {
      "text/plain": [
       "9"
      ]
     },
     "execution_count": 1,
     "metadata": {},
     "output_type": "execute_result"
    }
   ],
   "source": [
    "numeros[-2]"
   ]
  },
  {
   "cell_type": "code",
   "execution_count": 43,
   "id": "protective-finance",
   "metadata": {
    "execution": {
     "iopub.execute_input": "2021-02-03T23:10:42.633764Z",
     "iopub.status.busy": "2021-02-03T23:10:42.633188Z",
     "iopub.status.idle": "2021-02-03T23:10:42.635461Z",
     "shell.execute_reply": "2021-02-03T23:10:42.635999Z"
    }
   },
   "outputs": [
    {
     "name": "stdout",
     "output_type": "stream",
     "text": [
      "[0, 1, 2]\n"
     ]
    }
   ],
   "source": [
    "print(numeros[0:3])  # Imprimo de la pos 0 a la pos 2"
   ]
  },
  {
   "cell_type": "code",
   "execution_count": 44,
   "id": "flexible-movement",
   "metadata": {
    "execution": {
     "iopub.execute_input": "2021-02-03T23:10:42.640067Z",
     "iopub.status.busy": "2021-02-03T23:10:42.639378Z",
     "iopub.status.idle": "2021-02-03T23:10:42.641377Z",
     "shell.execute_reply": "2021-02-03T23:10:42.642015Z"
    }
   },
   "outputs": [
    {
     "name": "stdout",
     "output_type": "stream",
     "text": [
      "[7, 8]\n"
     ]
    }
   ],
   "source": [
    "print(numeros[-4:-2])"
   ]
  },
  {
   "cell_type": "code",
   "execution_count": 45,
   "id": "virtual-discrimination",
   "metadata": {
    "execution": {
     "iopub.execute_input": "2021-02-03T23:10:42.646226Z",
     "iopub.status.busy": "2021-02-03T23:10:42.645481Z",
     "iopub.status.idle": "2021-02-03T23:10:42.648309Z",
     "shell.execute_reply": "2021-02-03T23:10:42.647884Z"
    }
   },
   "outputs": [
    {
     "name": "stdout",
     "output_type": "stream",
     "text": [
      "[0, 1, 2, 3, 4, 5, 6, 7, 8, 9, 10]\n"
     ]
    }
   ],
   "source": [
    "print(numeros[0:80])"
   ]
  },
  {
   "cell_type": "code",
   "execution_count": 46,
   "id": "steady-technical",
   "metadata": {
    "execution": {
     "iopub.execute_input": "2021-02-03T23:10:42.652581Z",
     "iopub.status.busy": "2021-02-03T23:10:42.651998Z",
     "iopub.status.idle": "2021-02-03T23:10:42.653971Z",
     "shell.execute_reply": "2021-02-03T23:10:42.654423Z"
    }
   },
   "outputs": [
    {
     "name": "stdout",
     "output_type": "stream",
     "text": [
      "[0, 1, 2]\n"
     ]
    }
   ],
   "source": [
    "print(numeros[:3])"
   ]
  },
  {
   "cell_type": "code",
   "execution_count": 47,
   "id": "rotary-chester",
   "metadata": {
    "execution": {
     "iopub.execute_input": "2021-02-03T23:10:42.658570Z",
     "iopub.status.busy": "2021-02-03T23:10:42.657778Z",
     "iopub.status.idle": "2021-02-03T23:10:42.660723Z",
     "shell.execute_reply": "2021-02-03T23:10:42.660219Z"
    }
   },
   "outputs": [
    {
     "name": "stdout",
     "output_type": "stream",
     "text": [
      "[3, 4, 5, 6, 7, 8, 9, 10]\n"
     ]
    }
   ],
   "source": [
    "print(numeros[3:])"
   ]
  },
  {
   "cell_type": "code",
   "execution_count": 48,
   "id": "korean-therapist",
   "metadata": {
    "execution": {
     "iopub.execute_input": "2021-02-03T23:10:42.666111Z",
     "iopub.status.busy": "2021-02-03T23:10:42.665397Z",
     "iopub.status.idle": "2021-02-03T23:10:42.667953Z",
     "shell.execute_reply": "2021-02-03T23:10:42.667435Z"
    }
   },
   "outputs": [
    {
     "name": "stdout",
     "output_type": "stream",
     "text": [
      "[0, 2, 4, 6, 8]\n"
     ]
    }
   ],
   "source": [
    "print(numeros[0:10:2])"
   ]
  },
  {
   "cell_type": "markdown",
   "id": "magnetic-agency",
   "metadata": {},
   "source": [
    "```python\n",
    "lista[<inicio>:<final>:<step>]\n",
    "```"
   ]
  },
  {
   "cell_type": "code",
   "execution_count": 49,
   "id": "vietnamese-level",
   "metadata": {
    "execution": {
     "iopub.execute_input": "2021-02-03T23:10:42.672045Z",
     "iopub.status.busy": "2021-02-03T23:10:42.671417Z",
     "iopub.status.idle": "2021-02-03T23:10:42.674443Z",
     "shell.execute_reply": "2021-02-03T23:10:42.674991Z"
    },
    "lines_to_next_cell": 2
   },
   "outputs": [
    {
     "data": {
      "text/plain": [
       "[1, 2, 3, 4]"
      ]
     },
     "execution_count": 1,
     "metadata": {},
     "output_type": "execute_result"
    }
   ],
   "source": [
    "l1 = [1, 2]\n",
    "l2 = [3, 4]\n",
    "l1 + l2"
   ]
  },
  {
   "cell_type": "code",
   "execution_count": 50,
   "id": "split-sheffield",
   "metadata": {
    "execution": {
     "iopub.execute_input": "2021-02-03T23:10:42.679306Z",
     "iopub.status.busy": "2021-02-03T23:10:42.678626Z",
     "iopub.status.idle": "2021-02-03T23:10:42.682501Z",
     "shell.execute_reply": "2021-02-03T23:10:42.683022Z"
    }
   },
   "outputs": [
    {
     "name": "stdout",
     "output_type": "stream",
     "text": [
      "[0, 1, 2, 3, 4, 5, 6, 'siete', 8, 9, 10]\n"
     ]
    }
   ],
   "source": [
    "numeros[7] = 'siete'  # Las listas se pueden mutar\n",
    "print(numeros)"
   ]
  },
  {
   "cell_type": "code",
   "execution_count": 51,
   "id": "viral-train",
   "metadata": {
    "execution": {
     "iopub.execute_input": "2021-02-03T23:10:42.687244Z",
     "iopub.status.busy": "2021-02-03T23:10:42.686678Z",
     "iopub.status.idle": "2021-02-03T23:10:42.691340Z",
     "shell.execute_reply": "2021-02-03T23:10:42.690803Z"
    }
   },
   "outputs": [
    {
     "name": "stdout",
     "output_type": "stream",
     "text": [
      "[10, 9, 8, 'siete', 6, 5, 4, 3, 2, 1, 0]\n"
     ]
    }
   ],
   "source": [
    "numeros = numeros[::-1]\n",
    "print(numeros)"
   ]
  },
  {
   "cell_type": "code",
   "execution_count": 52,
   "id": "radio-avatar",
   "metadata": {
    "execution": {
     "iopub.execute_input": "2021-02-03T23:10:42.696894Z",
     "iopub.status.busy": "2021-02-03T23:10:42.694542Z",
     "iopub.status.idle": "2021-02-03T23:10:42.699546Z",
     "shell.execute_reply": "2021-02-03T23:10:42.698837Z"
    },
    "tags": [
     "raises-exception"
    ]
   },
   "outputs": [
    {
     "ename": "IndexError",
     "evalue": "list index out of range",
     "output_type": "error",
     "traceback": [
      "\u001b[0;31m---------------------------------------------------------------------------\u001b[0m",
      "\u001b[0;31mIndexError\u001b[0m                                Traceback (most recent call last)",
      "\u001b[0;32m<ipython-input-1-0ef91dd29a9b>\u001b[0m in \u001b[0;36m<module>\u001b[0;34m\u001b[0m\n\u001b[0;32m----> 1\u001b[0;31m \u001b[0mprint\u001b[0m\u001b[0;34m(\u001b[0m\u001b[0mnumeros\u001b[0m\u001b[0;34m[\u001b[0m\u001b[0;36m15\u001b[0m\u001b[0;34m]\u001b[0m\u001b[0;34m)\u001b[0m  \u001b[0;31m# Falla. No se puede acceder a una posición inexistente\u001b[0m\u001b[0;34m\u001b[0m\u001b[0;34m\u001b[0m\u001b[0m\n\u001b[0m",
      "\u001b[0;31mIndexError\u001b[0m: list index out of range"
     ]
    }
   ],
   "source": [
    "print(numeros[15])  # Falla. No se puede acceder a una posición inexistente"
   ]
  },
  {
   "cell_type": "code",
   "execution_count": 53,
   "id": "respected-ecuador",
   "metadata": {
    "execution": {
     "iopub.execute_input": "2021-02-03T23:10:42.804478Z",
     "iopub.status.busy": "2021-02-03T23:10:42.803930Z",
     "iopub.status.idle": "2021-02-03T23:10:42.806528Z",
     "shell.execute_reply": "2021-02-03T23:10:42.806962Z"
    }
   },
   "outputs": [
    {
     "name": "stdout",
     "output_type": "stream",
     "text": [
      "palabra\n",
      "a\n",
      "pal\n",
      "abra\n"
     ]
    }
   ],
   "source": [
    "palabra = 'palabra'\n",
    "print(palabra)\n",
    "print(palabra[3])\n",
    "print(palabra[:3])\n",
    "print(palabra[3:])"
   ]
  },
  {
   "cell_type": "code",
   "execution_count": 54,
   "id": "understood-boards",
   "metadata": {
    "execution": {
     "iopub.execute_input": "2021-02-03T23:10:42.812391Z",
     "iopub.status.busy": "2021-02-03T23:10:42.811185Z",
     "iopub.status.idle": "2021-02-03T23:10:42.814239Z",
     "shell.execute_reply": "2021-02-03T23:10:42.813642Z"
    }
   },
   "outputs": [
    {
     "name": "stdout",
     "output_type": "stream",
     "text": [
      "(0, 1, 2, 3, 4)\n",
      "(0, 1)\n",
      "(2, 3, 4)\n"
     ]
    }
   ],
   "source": [
    "tupla = (0, 1, 2, 3, 4)\n",
    "\n",
    "print(tupla)\n",
    "print(tupla[:2])\n",
    "print(tupla[2:])"
   ]
  },
  {
   "cell_type": "markdown",
   "id": "brilliant-japan",
   "metadata": {
    "slideshow": {
     "slide_type": "slide"
    }
   },
   "source": [
    "#### Diccionarios de Python\n",
    "\n",
    "Son como hashmaps, las claves deben ser inmutables para que no pierda sentido el diccionario. Si se pudieran modificar, se podrían cambiar las claves y generaría conflictos.\n",
    "\n",
    "Tipos mutables:\n",
    "- Listas\n",
    "- Diccionarios\n",
    "- Sets\n",
    "\n",
    "Tipos inmutables:\n",
    "- Int\n",
    "- Float\n",
    "- String\n",
    "- Tuplas\n"
   ]
  },
  {
   "cell_type": "code",
   "execution_count": 55,
   "id": "needed-promise",
   "metadata": {
    "execution": {
     "iopub.execute_input": "2021-02-03T23:10:42.818695Z",
     "iopub.status.busy": "2021-02-03T23:10:42.818172Z",
     "iopub.status.idle": "2021-02-03T23:10:42.821928Z",
     "shell.execute_reply": "2021-02-03T23:10:42.822373Z"
    },
    "slideshow": {
     "slide_type": "slide"
    }
   },
   "outputs": [
    {
     "data": {
      "text/plain": [
       "{}"
      ]
     },
     "execution_count": 1,
     "metadata": {},
     "output_type": "execute_result"
    }
   ],
   "source": [
    "diccionario = {}\n",
    "diccionario"
   ]
  },
  {
   "cell_type": "code",
   "execution_count": 56,
   "id": "voluntary-tobacco",
   "metadata": {
    "execution": {
     "iopub.execute_input": "2021-02-03T23:10:42.828731Z",
     "iopub.status.busy": "2021-02-03T23:10:42.827094Z",
     "iopub.status.idle": "2021-02-03T23:10:42.830272Z",
     "shell.execute_reply": "2021-02-03T23:10:42.830737Z"
    }
   },
   "outputs": [
    {
     "data": {
      "text/plain": [
       "{}"
      ]
     },
     "execution_count": 1,
     "metadata": {},
     "output_type": "execute_result"
    }
   ],
   "source": [
    "diccionario = dict()\n",
    "diccionario"
   ]
  },
  {
   "cell_type": "code",
   "execution_count": 57,
   "id": "fourth-overall",
   "metadata": {
    "execution": {
     "iopub.execute_input": "2021-02-03T23:10:42.835898Z",
     "iopub.status.busy": "2021-02-03T23:10:42.835346Z",
     "iopub.status.idle": "2021-02-03T23:10:42.837170Z",
     "shell.execute_reply": "2021-02-03T23:10:42.837627Z"
    },
    "slideshow": {
     "slide_type": "slide"
    }
   },
   "outputs": [
    {
     "name": "stdout",
     "output_type": "stream",
     "text": [
      "{'clave1': 'valor1', 2: 'valor2', 'clave3': 3}\n"
     ]
    }
   ],
   "source": [
    "# Cómo agregar cosas al diccionario\n",
    "diccionario['clave1'] = 'valor1'\n",
    "diccionario[2] = 'valor2'\n",
    "diccionario['clave3'] = 3\n",
    "print(diccionario)"
   ]
  },
  {
   "cell_type": "markdown",
   "id": "following-headquarters",
   "metadata": {},
   "source": [
    "Hay dos formas de obtener valores de un diccionario:\n",
    "\n",
    "```python\n",
    "diccionario[clave]\n",
    "```\n",
    "\n",
    "El cual devuelve el valor si existe la clave suministrada o bien lanza `KeyError` si no existe."
   ]
  },
  {
   "cell_type": "code",
   "execution_count": 58,
   "id": "quantitative-treat",
   "metadata": {
    "execution": {
     "iopub.execute_input": "2021-02-03T23:10:42.841452Z",
     "iopub.status.busy": "2021-02-03T23:10:42.840848Z",
     "iopub.status.idle": "2021-02-03T23:10:42.843759Z",
     "shell.execute_reply": "2021-02-03T23:10:42.844221Z"
    }
   },
   "outputs": [
    {
     "data": {
      "text/plain": [
       "'valor1'"
      ]
     },
     "execution_count": 1,
     "metadata": {},
     "output_type": "execute_result"
    }
   ],
   "source": [
    "diccionario['clave1']"
   ]
  },
  {
   "cell_type": "code",
   "execution_count": 59,
   "id": "specific-spencer",
   "metadata": {
    "execution": {
     "iopub.execute_input": "2021-02-03T23:10:42.848017Z",
     "iopub.status.busy": "2021-02-03T23:10:42.847413Z",
     "iopub.status.idle": "2021-02-03T23:10:42.854031Z",
     "shell.execute_reply": "2021-02-03T23:10:42.853114Z"
    },
    "tags": [
     "raises-exception"
    ]
   },
   "outputs": [
    {
     "ename": "KeyError",
     "evalue": "'clave1000'",
     "output_type": "error",
     "traceback": [
      "\u001b[0;31m---------------------------------------------------------------------------\u001b[0m",
      "\u001b[0;31mKeyError\u001b[0m                                  Traceback (most recent call last)",
      "\u001b[0;32m<ipython-input-1-41aae9a2e5ed>\u001b[0m in \u001b[0;36m<module>\u001b[0;34m\u001b[0m\n\u001b[0;32m----> 1\u001b[0;31m \u001b[0mdiccionario\u001b[0m\u001b[0;34m[\u001b[0m\u001b[0;34m'clave1000'\u001b[0m\u001b[0;34m]\u001b[0m\u001b[0;34m\u001b[0m\u001b[0;34m\u001b[0m\u001b[0m\n\u001b[0m",
      "\u001b[0;31mKeyError\u001b[0m: 'clave1000'"
     ]
    }
   ],
   "source": [
    "diccionario['clave1000']"
   ]
  },
  {
   "cell_type": "markdown",
   "id": "sharing-wrist",
   "metadata": {},
   "source": [
    "La segunda forma es con `get`:"
   ]
  },
  {
   "cell_type": "code",
   "execution_count": 60,
   "id": "suburban-framing",
   "metadata": {
    "execution": {
     "iopub.execute_input": "2021-02-03T23:10:42.977035Z",
     "iopub.status.busy": "2021-02-03T23:10:42.971366Z",
     "iopub.status.idle": "2021-02-03T23:10:43.006247Z",
     "shell.execute_reply": "2021-02-03T23:10:43.005674Z"
    }
   },
   "outputs": [],
   "source": [
    "diccionario.get?"
   ]
  },
  {
   "cell_type": "code",
   "execution_count": 61,
   "id": "developing-quick",
   "metadata": {
    "execution": {
     "iopub.execute_input": "2021-02-03T23:10:43.012073Z",
     "iopub.status.busy": "2021-02-03T23:10:43.010655Z",
     "iopub.status.idle": "2021-02-03T23:10:43.013922Z",
     "shell.execute_reply": "2021-02-03T23:10:43.013383Z"
    }
   },
   "outputs": [
    {
     "name": "stdout",
     "output_type": "stream",
     "text": [
      "Help on built-in function get:\n",
      "\n",
      "get(key, default=None, /) method of builtins.dict instance\n",
      "    Return the value for key if key is in the dictionary, else default.\n",
      "\n"
     ]
    }
   ],
   "source": [
    "help(diccionario.get)"
   ]
  },
  {
   "cell_type": "code",
   "execution_count": 62,
   "id": "multiple-coupon",
   "metadata": {
    "execution": {
     "iopub.execute_input": "2021-02-03T23:10:43.019246Z",
     "iopub.status.busy": "2021-02-03T23:10:43.017823Z",
     "iopub.status.idle": "2021-02-03T23:10:43.021044Z",
     "shell.execute_reply": "2021-02-03T23:10:43.020536Z"
    },
    "slideshow": {
     "slide_type": "slide"
    }
   },
   "outputs": [
    {
     "name": "stdout",
     "output_type": "stream",
     "text": [
      "None\n"
     ]
    }
   ],
   "source": [
    "print(diccionario.get('clave1000'))"
   ]
  },
  {
   "cell_type": "code",
   "execution_count": 63,
   "id": "cognitive-fields",
   "metadata": {
    "execution": {
     "iopub.execute_input": "2021-02-03T23:10:43.026648Z",
     "iopub.status.busy": "2021-02-03T23:10:43.025245Z",
     "iopub.status.idle": "2021-02-03T23:10:43.028382Z",
     "shell.execute_reply": "2021-02-03T23:10:43.027930Z"
    },
    "slideshow": {
     "slide_type": "slide"
    }
   },
   "outputs": [
    {
     "name": "stdout",
     "output_type": "stream",
     "text": [
      "True\n"
     ]
    }
   ],
   "source": [
    "print('clave1' in diccionario)  # Verifico si la clave está en el diccionario"
   ]
  },
  {
   "cell_type": "code",
   "execution_count": 64,
   "id": "related-joint",
   "metadata": {
    "execution": {
     "iopub.execute_input": "2021-02-03T23:10:43.033408Z",
     "iopub.status.busy": "2021-02-03T23:10:43.032289Z",
     "iopub.status.idle": "2021-02-03T23:10:43.035700Z",
     "shell.execute_reply": "2021-02-03T23:10:43.035224Z"
    }
   },
   "outputs": [
    {
     "data": {
      "text/plain": [
       "True"
      ]
     },
     "execution_count": 1,
     "metadata": {},
     "output_type": "execute_result"
    }
   ],
   "source": [
    "l = [1, 2, 3, 4]\n",
    "2 in l"
   ]
  },
  {
   "cell_type": "code",
   "execution_count": 65,
   "id": "second-submission",
   "metadata": {
    "execution": {
     "iopub.execute_input": "2021-02-03T23:10:43.041412Z",
     "iopub.status.busy": "2021-02-03T23:10:43.040141Z",
     "iopub.status.idle": "2021-02-03T23:10:43.043380Z",
     "shell.execute_reply": "2021-02-03T23:10:43.042802Z"
    }
   },
   "outputs": [
    {
     "name": "stdout",
     "output_type": "stream",
     "text": [
      "la clave es clave1 y el valor es valor1\n",
      "la clave es 2 y el valor es valor2\n",
      "la clave es clave3 y el valor es 3\n"
     ]
    }
   ],
   "source": [
    "for clave, valor in diccionario.items():\n",
    "    print(\"la clave es %s y el valor es %s\" % (clave, valor))"
   ]
  },
  {
   "cell_type": "code",
   "execution_count": 66,
   "id": "legislative-lodging",
   "metadata": {
    "execution": {
     "iopub.execute_input": "2021-02-03T23:10:43.048990Z",
     "iopub.status.busy": "2021-02-03T23:10:43.047559Z",
     "iopub.status.idle": "2021-02-03T23:10:43.050933Z",
     "shell.execute_reply": "2021-02-03T23:10:43.050422Z"
    }
   },
   "outputs": [
    {
     "name": "stdout",
     "output_type": "stream",
     "text": [
      "la clave es clave1 y el valor es valor1\n",
      "la clave es 2 y el valor es valor2\n",
      "la clave es clave3 y el valor es 3\n"
     ]
    }
   ],
   "source": [
    "for clave, valor in diccionario.items():\n",
    "    print(\"la clave es {} y el valor es {}\".format(clave, valor))"
   ]
  },
  {
   "cell_type": "code",
   "execution_count": 67,
   "id": "distinguished-techno",
   "metadata": {
    "execution": {
     "iopub.execute_input": "2021-02-03T23:10:43.057527Z",
     "iopub.status.busy": "2021-02-03T23:10:43.055864Z",
     "iopub.status.idle": "2021-02-03T23:10:43.059737Z",
     "shell.execute_reply": "2021-02-03T23:10:43.059241Z"
    },
    "slideshow": {
     "slide_type": "slide"
    }
   },
   "outputs": [
    {
     "name": "stdout",
     "output_type": "stream",
     "text": [
      "la clave es clave1 y el valor es valor1\n",
      "la clave es 2 y el valor es valor2\n",
      "la clave es clave3 y el valor es 3\n"
     ]
    }
   ],
   "source": [
    "# Cómo iterar un diccionario elemento por elemento\n",
    "for (\n",
    "    clave,\n",
    "    valor,\n",
    ") in (\n",
    "    diccionario.items()\n",
    "):  # diccionario.items() va devolviendo tuplas con el formato (clave,valor)\n",
    "    print(\n",
    "        f\"la clave es {clave} y el valor es {valor}\"\n",
    "    )  # con esta sintaxis se desempaquetan en clave y valor (similar a enumerate)"
   ]
  },
  {
   "cell_type": "code",
   "execution_count": 68,
   "id": "posted-burke",
   "metadata": {
    "execution": {
     "iopub.execute_input": "2021-02-03T23:10:43.065123Z",
     "iopub.status.busy": "2021-02-03T23:10:43.063598Z",
     "iopub.status.idle": "2021-02-03T23:10:43.067151Z",
     "shell.execute_reply": "2021-02-03T23:10:43.066601Z"
    },
    "slideshow": {
     "slide_type": "slide"
    }
   },
   "outputs": [
    {
     "name": "stdout",
     "output_type": "stream",
     "text": [
      "clave1\n",
      "2\n",
      "clave3\n"
     ]
    }
   ],
   "source": [
    "for clave in diccionario.keys():\n",
    "    print(clave)"
   ]
  },
  {
   "cell_type": "code",
   "execution_count": 69,
   "id": "formed-malawi",
   "metadata": {
    "execution": {
     "iopub.execute_input": "2021-02-03T23:10:43.072633Z",
     "iopub.status.busy": "2021-02-03T23:10:43.071802Z",
     "iopub.status.idle": "2021-02-03T23:10:43.074085Z",
     "shell.execute_reply": "2021-02-03T23:10:43.074545Z"
    },
    "slideshow": {
     "slide_type": "slide"
    }
   },
   "outputs": [
    {
     "name": "stdout",
     "output_type": "stream",
     "text": [
      "valor1\n",
      "valor2\n",
      "3\n"
     ]
    }
   ],
   "source": [
    "for valor in diccionario.values():\n",
    "    print(valor)"
   ]
  },
  {
   "cell_type": "markdown",
   "id": "varying-defendant",
   "metadata": {},
   "source": [
    "#### Sets\n",
    "\n",
    "Son similares a los diccionarios (en eficiencia) pero se almacenan solo claves, y tienen algunas operaciones particulares.\n",
    "\n",
    "En particular, no pueden tener elementos iguales (pensar que son conjuntos)"
   ]
  },
  {
   "cell_type": "code",
   "execution_count": 70,
   "id": "imported-bachelor",
   "metadata": {
    "execution": {
     "iopub.execute_input": "2021-02-03T23:10:43.077985Z",
     "iopub.status.busy": "2021-02-03T23:10:43.077414Z",
     "iopub.status.idle": "2021-02-03T23:10:43.081681Z",
     "shell.execute_reply": "2021-02-03T23:10:43.082262Z"
    }
   },
   "outputs": [],
   "source": [
    "set??"
   ]
  },
  {
   "cell_type": "code",
   "execution_count": 71,
   "id": "running-spring",
   "metadata": {
    "execution": {
     "iopub.execute_input": "2021-02-03T23:10:43.086861Z",
     "iopub.status.busy": "2021-02-03T23:10:43.086239Z",
     "iopub.status.idle": "2021-02-03T23:10:43.089536Z",
     "shell.execute_reply": "2021-02-03T23:10:43.089027Z"
    }
   },
   "outputs": [
    {
     "data": {
      "text/plain": [
       "{1, 2, 3}"
      ]
     },
     "execution_count": 1,
     "metadata": {},
     "output_type": "execute_result"
    }
   ],
   "source": [
    "# Se definen como los diccionarios pero sin hacerlos 'clave:valor', solamente una seguidilla de elementos\n",
    "{1, 2, 2, 3}"
   ]
  },
  {
   "cell_type": "code",
   "execution_count": 72,
   "id": "worse-merchant",
   "metadata": {
    "execution": {
     "iopub.execute_input": "2021-02-03T23:10:43.093592Z",
     "iopub.status.busy": "2021-02-03T23:10:43.093027Z",
     "iopub.status.idle": "2021-02-03T23:10:43.096316Z",
     "shell.execute_reply": "2021-02-03T23:10:43.095653Z"
    }
   },
   "outputs": [
    {
     "data": {
      "text/plain": [
       "{1, 2, 3}"
      ]
     },
     "execution_count": 1,
     "metadata": {},
     "output_type": "execute_result"
    }
   ],
   "source": [
    "set([1, 2, 2, 3])"
   ]
  },
  {
   "cell_type": "markdown",
   "id": "nearby-saudi",
   "metadata": {},
   "source": [
    "## Condicionales (if...elif...else)\n",
    "\n",
    "```python\n",
    "if <condición_1>:\n",
    "    <hacer algo_1 si se da la condición_1>\n",
    "elif <condición_2>:\n",
    "    <hacer algo_2 si se da la condición_2>\n",
    "...\n",
    "elif <condición_n>:\n",
    "    <hacer algo_n si se da la condición_n>\n",
    "else:\n",
    "    <hacer otra cosa si no dan las anteriores>\n",
    "```\n",
    "\n",
    "Algo importante para notar es que los bloques se definen por **niveles de identacion**."
   ]
  },
  {
   "cell_type": "code",
   "execution_count": 73,
   "id": "parliamentary-milan",
   "metadata": {
    "execution": {
     "iopub.execute_input": "2021-02-03T23:10:43.107010Z",
     "iopub.status.busy": "2021-02-03T23:10:43.105530Z",
     "iopub.status.idle": "2021-02-03T23:10:43.108939Z",
     "shell.execute_reply": "2021-02-03T23:10:43.108411Z"
    }
   },
   "outputs": [
    {
     "name": "stdout",
     "output_type": "stream",
     "text": [
      "uno\n"
     ]
    }
   ],
   "source": [
    "v = 1\n",
    "if v == 1:\n",
    "    print(\"uno\")\n",
    "elif v == 2:\n",
    "    print(\"dos\")\n",
    "else:\n",
    "    print(\"ni idea\")\n",
    "    print(v)"
   ]
  },
  {
   "cell_type": "markdown",
   "id": "minor-panama",
   "metadata": {},
   "source": [
    "## Iteraciones\n",
    "\n",
    "```python\n",
    "while cond:\n",
    "    <codigo>\n",
    "```\n",
    "\n",
    "```python\n",
    "for elemento in iterable:\n",
    "    <codigo>\n",
    "```\n",
    "\n",
    "Para iterar sobre un rango de valores, usamos `range`"
   ]
  },
  {
   "cell_type": "code",
   "execution_count": 74,
   "id": "bored-source",
   "metadata": {
    "execution": {
     "iopub.execute_input": "2021-02-03T23:10:43.114399Z",
     "iopub.status.busy": "2021-02-03T23:10:43.113183Z",
     "iopub.status.idle": "2021-02-03T23:10:43.116714Z",
     "shell.execute_reply": "2021-02-03T23:10:43.116031Z"
    }
   },
   "outputs": [
    {
     "name": "stdout",
     "output_type": "stream",
     "text": [
      "1\n",
      "4\n",
      "7\n",
      "10\n"
     ]
    }
   ],
   "source": [
    "for i in range(1, 11, 3):\n",
    "    print(i)"
   ]
  },
  {
   "cell_type": "markdown",
   "id": "disabled-approach",
   "metadata": {},
   "source": [
    "## Operadores logicos\n",
    "\n",
    "`not`, `or`, `and`"
   ]
  },
  {
   "cell_type": "code",
   "execution_count": 75,
   "id": "deadly-cambodia",
   "metadata": {
    "execution": {
     "iopub.execute_input": "2021-02-03T23:10:43.123396Z",
     "iopub.status.busy": "2021-02-03T23:10:43.121851Z",
     "iopub.status.idle": "2021-02-03T23:10:43.125371Z",
     "shell.execute_reply": "2021-02-03T23:10:43.124774Z"
    }
   },
   "outputs": [
    {
     "name": "stdout",
     "output_type": "stream",
     "text": [
      "yay\n"
     ]
    }
   ],
   "source": [
    "if True or False:\n",
    "    print(\"yay\")"
   ]
  },
  {
   "cell_type": "code",
   "execution_count": 76,
   "id": "atomic-plane",
   "metadata": {
    "execution": {
     "iopub.execute_input": "2021-02-03T23:10:43.131595Z",
     "iopub.status.busy": "2021-02-03T23:10:43.130434Z",
     "iopub.status.idle": "2021-02-03T23:10:43.133814Z",
     "shell.execute_reply": "2021-02-03T23:10:43.134332Z"
    }
   },
   "outputs": [
    {
     "data": {
      "text/plain": [
       "False"
      ]
     },
     "execution_count": 1,
     "metadata": {},
     "output_type": "execute_result"
    }
   ],
   "source": [
    "1 == 2"
   ]
  },
  {
   "cell_type": "code",
   "execution_count": 77,
   "id": "printable-supplement",
   "metadata": {
    "execution": {
     "iopub.execute_input": "2021-02-03T23:10:43.138894Z",
     "iopub.status.busy": "2021-02-03T23:10:43.138300Z",
     "iopub.status.idle": "2021-02-03T23:10:43.141113Z",
     "shell.execute_reply": "2021-02-03T23:10:43.141615Z"
    }
   },
   "outputs": [
    {
     "data": {
      "text/plain": [
       "True"
      ]
     },
     "execution_count": 1,
     "metadata": {},
     "output_type": "execute_result"
    }
   ],
   "source": [
    "1 != 2"
   ]
  },
  {
   "cell_type": "markdown",
   "id": "significant-polyester",
   "metadata": {
    "slideshow": {
     "slide_type": "slide"
    }
   },
   "source": [
    "## Funciones en Python"
   ]
  },
  {
   "cell_type": "code",
   "execution_count": 78,
   "id": "lesbian-length",
   "metadata": {
    "execution": {
     "iopub.execute_input": "2021-02-03T23:10:43.150837Z",
     "iopub.status.busy": "2021-02-03T23:10:43.149204Z",
     "iopub.status.idle": "2021-02-03T23:10:43.152876Z",
     "shell.execute_reply": "2021-02-03T23:10:43.152242Z"
    },
    "slideshow": {
     "slide_type": "slide"
    }
   },
   "outputs": [
    {
     "name": "stdout",
     "output_type": "stream",
     "text": [
      "True\n",
      "False\n"
     ]
    }
   ],
   "source": [
    "def busqueda_binaria(lista, elemento):\n",
    "    if not lista:\n",
    "        return False\n",
    "    elif len(lista) == 1:\n",
    "        return lista[0] == elemento\n",
    "    mitad = len(lista) // 2  # // es la operación división entera\n",
    "    if lista[mitad] == elemento:\n",
    "        return True\n",
    "    if lista[mitad] > elemento:\n",
    "        return busqueda_binaria(lista[:mitad], elemento)\n",
    "    if lista[mitad] < elemento:\n",
    "        return busqueda_binaria(lista[mitad:], elemento)\n",
    "\n",
    "\n",
    "print(busqueda_binaria([1, 2, 3, 4, 5], 4))\n",
    "print(busqueda_binaria([1, 4, 6, 7, 9, 10], 2))"
   ]
  },
  {
   "cell_type": "code",
   "execution_count": 79,
   "id": "dominican-marsh",
   "metadata": {
    "execution": {
     "iopub.execute_input": "2021-02-03T23:10:43.158846Z",
     "iopub.status.busy": "2021-02-03T23:10:43.157311Z",
     "iopub.status.idle": "2021-02-03T23:10:43.160695Z",
     "shell.execute_reply": "2021-02-03T23:10:43.160139Z"
    }
   },
   "outputs": [
    {
     "name": "stdout",
     "output_type": "stream",
     "text": [
      "(3, 3, 3)\n"
     ]
    }
   ],
   "source": [
    "def a(b):\n",
    "    if a == 1:\n",
    "        print(a)\n",
    "    return (b, b, b)\n",
    "\n",
    "\n",
    "print(a(3))"
   ]
  },
  {
   "cell_type": "code",
   "execution_count": 80,
   "id": "incident-implementation",
   "metadata": {
    "execution": {
     "iopub.execute_input": "2021-02-03T23:10:43.166010Z",
     "iopub.status.busy": "2021-02-03T23:10:43.165320Z",
     "iopub.status.idle": "2021-02-03T23:10:43.175983Z",
     "shell.execute_reply": "2021-02-03T23:10:43.175394Z"
    },
    "lines_to_next_cell": 2,
    "slideshow": {
     "slide_type": "slide"
    },
    "tags": [
     "raises-exception"
    ]
   },
   "outputs": [
    {
     "name": "stdout",
     "output_type": "stream",
     "text": [
      "3\n",
      "3.0\n",
      "3.0\n",
      "hola como te va\n",
      "[1, 2, 3, 4, 5]\n"
     ]
    },
    {
     "ename": "TypeError",
     "evalue": "can only concatenate str (not \"int\") to str",
     "output_type": "error",
     "traceback": [
      "\u001b[0;31m---------------------------------------------------------------------------\u001b[0m",
      "\u001b[0;31mTypeError\u001b[0m                                 Traceback (most recent call last)",
      "\u001b[0;32m<ipython-input-1-c2a6a99a90c7>\u001b[0m in \u001b[0;36m<module>\u001b[0;34m\u001b[0m\n\u001b[1;32m      8\u001b[0m \u001b[0mprint\u001b[0m\u001b[0;34m(\u001b[0m\u001b[0msuma\u001b[0m\u001b[0;34m(\u001b[0m\u001b[0;34m\"hola \"\u001b[0m\u001b[0;34m,\u001b[0m \u001b[0;34m\"como te va\"\u001b[0m\u001b[0;34m)\u001b[0m\u001b[0;34m)\u001b[0m\u001b[0;34m\u001b[0m\u001b[0;34m\u001b[0m\u001b[0m\n\u001b[1;32m      9\u001b[0m \u001b[0mprint\u001b[0m\u001b[0;34m(\u001b[0m\u001b[0msuma\u001b[0m\u001b[0;34m(\u001b[0m\u001b[0;34m[\u001b[0m\u001b[0;36m1\u001b[0m\u001b[0;34m,\u001b[0m \u001b[0;36m2\u001b[0m\u001b[0;34m,\u001b[0m \u001b[0;36m3\u001b[0m\u001b[0;34m]\u001b[0m\u001b[0;34m,\u001b[0m \u001b[0;34m[\u001b[0m\u001b[0;36m4\u001b[0m\u001b[0;34m,\u001b[0m \u001b[0;36m5\u001b[0m\u001b[0;34m]\u001b[0m\u001b[0;34m)\u001b[0m\u001b[0;34m)\u001b[0m\u001b[0;34m\u001b[0m\u001b[0;34m\u001b[0m\u001b[0m\n\u001b[0;32m---> 10\u001b[0;31m \u001b[0mprint\u001b[0m\u001b[0;34m(\u001b[0m\u001b[0msuma\u001b[0m\u001b[0;34m(\u001b[0m\u001b[0;34m\"1\"\u001b[0m\u001b[0;34m,\u001b[0m \u001b[0;36m3\u001b[0m\u001b[0;34m)\u001b[0m\u001b[0;34m)\u001b[0m  \u001b[0;31m# Falla\u001b[0m\u001b[0;34m\u001b[0m\u001b[0;34m\u001b[0m\u001b[0m\n\u001b[0m",
      "\u001b[0;32m<ipython-input-1-c2a6a99a90c7>\u001b[0m in \u001b[0;36msuma\u001b[0;34m(a, b)\u001b[0m\n\u001b[1;32m      1\u001b[0m \u001b[0;32mdef\u001b[0m \u001b[0msuma\u001b[0m\u001b[0;34m(\u001b[0m\u001b[0ma\u001b[0m\u001b[0;34m,\u001b[0m \u001b[0mb\u001b[0m\u001b[0;34m)\u001b[0m\u001b[0;34m:\u001b[0m\u001b[0;34m\u001b[0m\u001b[0;34m\u001b[0m\u001b[0m\n\u001b[0;32m----> 2\u001b[0;31m     \u001b[0;32mreturn\u001b[0m \u001b[0ma\u001b[0m \u001b[0;34m+\u001b[0m \u001b[0mb\u001b[0m\u001b[0;34m\u001b[0m\u001b[0;34m\u001b[0m\u001b[0m\n\u001b[0m\u001b[1;32m      3\u001b[0m \u001b[0;34m\u001b[0m\u001b[0m\n\u001b[1;32m      4\u001b[0m \u001b[0;34m\u001b[0m\u001b[0m\n\u001b[1;32m      5\u001b[0m \u001b[0mprint\u001b[0m\u001b[0;34m(\u001b[0m\u001b[0msuma\u001b[0m\u001b[0;34m(\u001b[0m\u001b[0;36m1\u001b[0m\u001b[0;34m,\u001b[0m \u001b[0;36m2\u001b[0m\u001b[0;34m)\u001b[0m\u001b[0;34m)\u001b[0m\u001b[0;34m\u001b[0m\u001b[0;34m\u001b[0m\u001b[0m\n",
      "\u001b[0;31mTypeError\u001b[0m: can only concatenate str (not \"int\") to str"
     ]
    }
   ],
   "source": [
    "def suma(a, b):\n",
    "    return a + b\n",
    "\n",
    "\n",
    "print(suma(1, 2))\n",
    "print(suma(1.0, 2.0))\n",
    "print(suma(1.0, 2))\n",
    "print(suma(\"hola \", \"como te va\"))\n",
    "print(suma([1, 2, 3], [4, 5]))\n",
    "print(suma(\"1\", 3))  # Falla"
   ]
  },
  {
   "cell_type": "code",
   "execution_count": 81,
   "id": "mechanical-wrong",
   "metadata": {
    "execution": {
     "iopub.execute_input": "2021-02-03T23:10:43.279859Z",
     "iopub.status.busy": "2021-02-03T23:10:43.279262Z",
     "iopub.status.idle": "2021-02-03T23:10:43.283688Z",
     "shell.execute_reply": "2021-02-03T23:10:43.284201Z"
    }
   },
   "outputs": [
    {
     "name": "stdout",
     "output_type": "stream",
     "text": [
      "2.0\n"
     ]
    }
   ],
   "source": [
    "# El valor por default de divisor es 1\n",
    "\n",
    "\n",
    "def division(dividendo, divisor=2):\n",
    "    return dividendo / divisor\n",
    "\n",
    "\n",
    "print(division(4))  # Usa el valor por default"
   ]
  },
  {
   "cell_type": "code",
   "execution_count": 82,
   "id": "focal-paper",
   "metadata": {
    "execution": {
     "iopub.execute_input": "2021-02-03T23:10:43.293184Z",
     "iopub.status.busy": "2021-02-03T23:10:43.288208Z",
     "iopub.status.idle": "2021-02-03T23:10:43.296899Z",
     "shell.execute_reply": "2021-02-03T23:10:43.296367Z"
    },
    "tags": [
     "raises-exception"
    ]
   },
   "outputs": [
    {
     "name": "stdout",
     "output_type": "stream",
     "text": [
      "0.5\n",
      "0.5\n"
     ]
    },
    {
     "ename": "TypeError",
     "evalue": "division() missing 1 required positional argument: 'dividendo'",
     "output_type": "error",
     "traceback": [
      "\u001b[0;31m---------------------------------------------------------------------------\u001b[0m",
      "\u001b[0;31mTypeError\u001b[0m                                 Traceback (most recent call last)",
      "\u001b[0;32m<ipython-input-1-34eff3833138>\u001b[0m in \u001b[0;36m<module>\u001b[0;34m\u001b[0m\n\u001b[1;32m      1\u001b[0m \u001b[0mprint\u001b[0m\u001b[0;34m(\u001b[0m\u001b[0mdivision\u001b[0m\u001b[0;34m(\u001b[0m\u001b[0;36m1\u001b[0m\u001b[0;34m,\u001b[0m \u001b[0;36m2\u001b[0m\u001b[0;34m)\u001b[0m\u001b[0;34m)\u001b[0m  \u001b[0;31m# Parámetros por orden\u001b[0m\u001b[0;34m\u001b[0m\u001b[0;34m\u001b[0m\u001b[0m\n\u001b[1;32m      2\u001b[0m \u001b[0mprint\u001b[0m\u001b[0;34m(\u001b[0m\u001b[0mdivision\u001b[0m\u001b[0;34m(\u001b[0m\u001b[0mdividendo\u001b[0m\u001b[0;34m=\u001b[0m\u001b[0;36m1\u001b[0m\u001b[0;34m,\u001b[0m \u001b[0mdivisor\u001b[0m\u001b[0;34m=\u001b[0m\u001b[0;36m2\u001b[0m\u001b[0;34m)\u001b[0m\u001b[0;34m)\u001b[0m  \u001b[0;31m# Parámetros por nombre\u001b[0m\u001b[0;34m\u001b[0m\u001b[0;34m\u001b[0m\u001b[0m\n\u001b[0;32m----> 3\u001b[0;31m \u001b[0mprint\u001b[0m\u001b[0;34m(\u001b[0m\u001b[0mdivision\u001b[0m\u001b[0;34m(\u001b[0m\u001b[0mdivisor\u001b[0m\u001b[0;34m=\u001b[0m\u001b[0;36m2\u001b[0m\u001b[0;34m)\u001b[0m\u001b[0;34m)\u001b[0m\u001b[0;34m\u001b[0m\u001b[0;34m\u001b[0m\u001b[0m\n\u001b[0m",
      "\u001b[0;31mTypeError\u001b[0m: division() missing 1 required positional argument: 'dividendo'"
     ]
    }
   ],
   "source": [
    "print(division(1, 2))  # Parámetros por orden\n",
    "print(division(dividendo=1, divisor=2))  # Parámetros por nombre\n",
    "print(division(divisor=2))"
   ]
  },
  {
   "cell_type": "code",
   "execution_count": 83,
   "id": "favorite-armor",
   "metadata": {
    "execution": {
     "iopub.execute_input": "2021-02-03T23:10:43.400203Z",
     "iopub.status.busy": "2021-02-03T23:10:43.399606Z",
     "iopub.status.idle": "2021-02-03T23:10:43.404386Z",
     "shell.execute_reply": "2021-02-03T23:10:43.403899Z"
    }
   },
   "outputs": [
    {
     "name": "stdout",
     "output_type": "stream",
     "text": [
      "0.5\n"
     ]
    }
   ],
   "source": [
    "print(division(divisor=2, dividendo=1))"
   ]
  },
  {
   "cell_type": "code",
   "execution_count": 84,
   "id": "intense-queen",
   "metadata": {
    "execution": {
     "iopub.execute_input": "2021-02-03T23:10:43.411479Z",
     "iopub.status.busy": "2021-02-03T23:10:43.410070Z",
     "iopub.status.idle": "2021-02-03T23:10:43.413621Z",
     "shell.execute_reply": "2021-02-03T23:10:43.413110Z"
    }
   },
   "outputs": [
    {
     "name": "stdout",
     "output_type": "stream",
     "text": [
      "['a', 'b', 'c']\n",
      "[1, 2, 3]\n",
      "['hola', ' don', ' pepito']\n",
      "hola -  don -  pepito\n"
     ]
    }
   ],
   "source": [
    "# Funciones básicas ya en el lenguaje\n",
    "# Hechas para funcionar para distintos tipos\n",
    "\n",
    "string_ordenado = sorted('bca')\n",
    "print(string_ordenado)\n",
    "\n",
    "lista_ordenada = sorted([1, 3, 2])\n",
    "print(lista_ordenada)\n",
    "\n",
    "separadas = \"hola, don, pepito\".split(\",\")\n",
    "print(separadas)\n",
    "unidas = \" - \".join(separadas)\n",
    "print(unidas)"
   ]
  },
  {
   "cell_type": "markdown",
   "id": "introductory-portrait",
   "metadata": {},
   "source": [
    "## Módulos\n",
    "\n",
    "Para incluir alguna biblioteca de funciones se usa `import`. Pueden ser cosas ya predefinidas en Python (`math`, `random`, etc), nombres de archivos en nuestro directorio (por ejemplo, para `mimodulo.py` ponemos `import mimodulo`) o bibliotecas instaladas por el usuario"
   ]
  },
  {
   "cell_type": "code",
   "execution_count": 85,
   "id": "prepared-investor",
   "metadata": {
    "execution": {
     "iopub.execute_input": "2021-02-03T23:10:43.419198Z",
     "iopub.status.busy": "2021-02-03T23:10:43.417575Z",
     "iopub.status.idle": "2021-02-03T23:10:43.421078Z",
     "shell.execute_reply": "2021-02-03T23:10:43.420529Z"
    }
   },
   "outputs": [
    {
     "name": "stdout",
     "output_type": "stream",
     "text": [
      "3.141592653589793\n"
     ]
    }
   ],
   "source": [
    "import math\n",
    "\n",
    "print(math.pi)"
   ]
  },
  {
   "cell_type": "code",
   "execution_count": 86,
   "id": "atlantic-williams",
   "metadata": {
    "execution": {
     "iopub.execute_input": "2021-02-03T23:10:43.426527Z",
     "iopub.status.busy": "2021-02-03T23:10:43.425155Z",
     "iopub.status.idle": "2021-02-03T23:10:43.429516Z",
     "shell.execute_reply": "2021-02-03T23:10:43.428113Z"
    }
   },
   "outputs": [
    {
     "name": "stdout",
     "output_type": "stream",
     "text": [
      "3.141592653589793 2.718281828459045\n"
     ]
    }
   ],
   "source": [
    "from math import pi, e\n",
    "\n",
    "print(pi, e)"
   ]
  },
  {
   "cell_type": "code",
   "execution_count": 87,
   "id": "hidden-brisbane",
   "metadata": {
    "execution": {
     "iopub.execute_input": "2021-02-03T23:10:43.435250Z",
     "iopub.status.busy": "2021-02-03T23:10:43.433869Z",
     "iopub.status.idle": "2021-02-03T23:10:43.437273Z",
     "shell.execute_reply": "2021-02-03T23:10:43.436765Z"
    }
   },
   "outputs": [
    {
     "data": {
      "text/plain": [
       "2"
      ]
     },
     "execution_count": 1,
     "metadata": {},
     "output_type": "execute_result"
    }
   ],
   "source": [
    "math.gcd(56, 78)"
   ]
  },
  {
   "cell_type": "markdown",
   "id": "heated-coffee",
   "metadata": {},
   "source": [
    "## Manejo de excepciones\n",
    "\n",
    "Se pueden encapsular errores esperados en un bloque 'try/except' para evitar cortar el flujo del programa"
   ]
  },
  {
   "cell_type": "code",
   "execution_count": 88,
   "id": "separated-distributor",
   "metadata": {
    "execution": {
     "iopub.execute_input": "2021-02-03T23:10:43.443511Z",
     "iopub.status.busy": "2021-02-03T23:10:43.440463Z",
     "iopub.status.idle": "2021-02-03T23:10:43.450507Z",
     "shell.execute_reply": "2021-02-03T23:10:43.450007Z"
    },
    "tags": [
     "raises-exception"
    ]
   },
   "outputs": [
    {
     "ename": "ZeroDivisionError",
     "evalue": "division by zero",
     "output_type": "error",
     "traceback": [
      "\u001b[0;31m---------------------------------------------------------------------------\u001b[0m",
      "\u001b[0;31mZeroDivisionError\u001b[0m                         Traceback (most recent call last)",
      "\u001b[0;32m<ipython-input-1-f031f77b1a55>\u001b[0m in \u001b[0;36m<module>\u001b[0;34m\u001b[0m\n\u001b[0;32m----> 1\u001b[0;31m \u001b[0mdivision\u001b[0m\u001b[0;34m(\u001b[0m\u001b[0;36m1\u001b[0m\u001b[0;34m,\u001b[0m \u001b[0;36m0\u001b[0m\u001b[0;34m)\u001b[0m  \u001b[0;31m# No se puede dividir por cero\u001b[0m\u001b[0;34m\u001b[0m\u001b[0;34m\u001b[0m\u001b[0m\n\u001b[0m",
      "\u001b[0;32m<ipython-input-1-0d991d7de762>\u001b[0m in \u001b[0;36mdivision\u001b[0;34m(dividendo, divisor)\u001b[0m\n\u001b[1;32m      3\u001b[0m \u001b[0;34m\u001b[0m\u001b[0m\n\u001b[1;32m      4\u001b[0m \u001b[0;32mdef\u001b[0m \u001b[0mdivision\u001b[0m\u001b[0;34m(\u001b[0m\u001b[0mdividendo\u001b[0m\u001b[0;34m,\u001b[0m \u001b[0mdivisor\u001b[0m\u001b[0;34m=\u001b[0m\u001b[0;36m2\u001b[0m\u001b[0;34m)\u001b[0m\u001b[0;34m:\u001b[0m\u001b[0;34m\u001b[0m\u001b[0;34m\u001b[0m\u001b[0m\n\u001b[0;32m----> 5\u001b[0;31m     \u001b[0;32mreturn\u001b[0m \u001b[0mdividendo\u001b[0m \u001b[0;34m/\u001b[0m \u001b[0mdivisor\u001b[0m\u001b[0;34m\u001b[0m\u001b[0;34m\u001b[0m\u001b[0m\n\u001b[0m\u001b[1;32m      6\u001b[0m \u001b[0;34m\u001b[0m\u001b[0m\n\u001b[1;32m      7\u001b[0m \u001b[0;34m\u001b[0m\u001b[0m\n",
      "\u001b[0;31mZeroDivisionError\u001b[0m: division by zero"
     ]
    }
   ],
   "source": [
    "division(1, 0)  # No se puede dividir por cero"
   ]
  },
  {
   "cell_type": "code",
   "execution_count": 89,
   "id": "constant-cannon",
   "metadata": {
    "execution": {
     "iopub.execute_input": "2021-02-03T23:10:43.553845Z",
     "iopub.status.busy": "2021-02-03T23:10:43.552946Z",
     "iopub.status.idle": "2021-02-03T23:10:43.558645Z",
     "shell.execute_reply": "2021-02-03T23:10:43.558172Z"
    }
   },
   "outputs": [
    {
     "name": "stdout",
     "output_type": "stream",
     "text": [
      "No se puede dividir por cero, ojo! division by zero\n",
      "1\n"
     ]
    }
   ],
   "source": [
    "try:\n",
    "    division(1, 0)\n",
    "except (ZeroDivisionError, TypeError) as e:\n",
    "    print('No se puede dividir por cero, ojo!', e)\n",
    "finally:\n",
    "    print(1)"
   ]
  },
  {
   "cell_type": "markdown",
   "id": "fiscal-winning",
   "metadata": {
    "slideshow": {
     "slide_type": "slide"
    }
   },
   "source": [
    "## Lectura y escritura de archivos"
   ]
  },
  {
   "cell_type": "code",
   "execution_count": 90,
   "id": "sporting-dallas",
   "metadata": {
    "execution": {
     "iopub.execute_input": "2021-02-03T23:10:43.563182Z",
     "iopub.status.busy": "2021-02-03T23:10:43.562463Z",
     "iopub.status.idle": "2021-02-03T23:10:43.567171Z",
     "shell.execute_reply": "2021-02-03T23:10:43.567681Z"
    },
    "slideshow": {
     "slide_type": "slide"
    }
   },
   "outputs": [
    {
     "name": "stdout",
     "output_type": "stream",
     "text": [
      "<_io.TextIOWrapper name='archivo.csv' mode='w' encoding='UTF-8'>\n"
     ]
    }
   ],
   "source": [
    "import random\n",
    "\n",
    "with open(\n",
    "    'archivo.csv', 'w'\n",
    ") as archivo:  # Al usar esta sintaxis no es necesario hacer close\n",
    "    archivo.write(\"Alumno, nota\\n\")\n",
    "    # Tambien de forma similar al fprintf se puede hacer:\n",
    "    # print(\"Alumno, nota\\n\", file=archivo)\n",
    "    for i in range(0, 10):\n",
    "        archivo.write(f\"{i},{random.randrange(0,10)}\\n\")\n",
    "\n",
    "print(archivo)  # Comentario aclaratorio:\n",
    "# Las variables definidas en un determinado scope siguen existiendo por fuera del mismo.\n",
    "# Se debe tener cuidado con esto, ya que nada garantiza que por fuera el valor sea el esperado."
   ]
  },
  {
   "cell_type": "code",
   "execution_count": 91,
   "id": "bottom-contemporary",
   "metadata": {
    "execution": {
     "iopub.execute_input": "2021-02-03T23:10:43.573865Z",
     "iopub.status.busy": "2021-02-03T23:10:43.573280Z",
     "iopub.status.idle": "2021-02-03T23:10:43.576308Z",
     "shell.execute_reply": "2021-02-03T23:10:43.576799Z"
    },
    "slideshow": {
     "slide_type": "slide"
    }
   },
   "outputs": [
    {
     "name": "stdout",
     "output_type": "stream",
     "text": [
      "Alumno, nota\n",
      "0,9\n",
      "1,5\n",
      "2,3\n",
      "3,0\n",
      "4,5\n",
      "5,4\n",
      "6,3\n",
      "7,4\n",
      "8,6\n",
      "9,1\n"
     ]
    }
   ],
   "source": [
    "with open('archivo.csv', 'r') as f:\n",
    "    for linea in f:\n",
    "        print(linea.strip())"
   ]
  },
  {
   "cell_type": "code",
   "execution_count": 92,
   "id": "comprehensive-biodiversity",
   "metadata": {
    "execution": {
     "iopub.execute_input": "2021-02-03T23:10:43.581791Z",
     "iopub.status.busy": "2021-02-03T23:10:43.580764Z",
     "iopub.status.idle": "2021-02-03T23:10:43.583456Z",
     "shell.execute_reply": "2021-02-03T23:10:43.583988Z"
    }
   },
   "outputs": [
    {
     "name": "stdout",
     "output_type": "stream",
     "text": [
      "Alumno, nota\n",
      "0,9\n",
      "1,5\n",
      "2,3\n",
      "3,0\n",
      "4,5\n",
      "5,4\n",
      "6,3\n",
      "7,4\n",
      "8,6\n",
      "9,1\n",
      "\n"
     ]
    }
   ],
   "source": [
    "with open('archivo.csv', 'r') as f:\n",
    "    print(f.read())"
   ]
  },
  {
   "cell_type": "code",
   "execution_count": 93,
   "id": "heavy-footwear",
   "metadata": {
    "execution": {
     "iopub.execute_input": "2021-02-03T23:10:43.589038Z",
     "iopub.status.busy": "2021-02-03T23:10:43.587894Z",
     "iopub.status.idle": "2021-02-03T23:10:43.590033Z",
     "shell.execute_reply": "2021-02-03T23:10:43.590553Z"
    }
   },
   "outputs": [],
   "source": [
    "f = open('archivo.csv', 'w')\n",
    "f.write(\"algo, algo\")\n",
    "f.close()"
   ]
  },
  {
   "cell_type": "markdown",
   "id": "cardiovascular-ladder",
   "metadata": {
    "slideshow": {
     "slide_type": "slide"
    }
   },
   "source": [
    "## Objetos\n",
    "\n",
    "Los objetos tienen metodos y atributos:\n",
    "- Atributos: equivalentes a variables.\n",
    "- Métodos: equivalentes a las primitivas."
   ]
  },
  {
   "cell_type": "markdown",
   "id": "running-pharmacology",
   "metadata": {
    "slideshow": {
     "slide_type": "slide"
    }
   },
   "source": [
    "### Cómo creo una clase"
   ]
  },
  {
   "cell_type": "code",
   "execution_count": 94,
   "id": "electronic-berlin",
   "metadata": {
    "execution": {
     "iopub.execute_input": "2021-02-03T23:10:43.597333Z",
     "iopub.status.busy": "2021-02-03T23:10:43.596010Z",
     "iopub.status.idle": "2021-02-03T23:10:43.598061Z",
     "shell.execute_reply": "2021-02-03T23:10:43.598498Z"
    },
    "slideshow": {
     "slide_type": "slide"
    }
   },
   "outputs": [],
   "source": [
    "class Nodo(object):\n",
    "    def __init__(self, dato, siguiente=None):\n",
    "        self._dato = dato\n",
    "        self._siguiente = siguiente\n",
    "\n",
    "    @property\n",
    "    def dato(self):\n",
    "        return self._dato\n",
    "\n",
    "    @property\n",
    "    def proximo(self):\n",
    "        return self._siguiente\n",
    "\n",
    "    @proximo.setter\n",
    "    def proximo(self, siguiente):\n",
    "        self._siguiente = siguiente\n",
    "\n",
    "    def __repr__(self):\n",
    "        return str(self.dato)\n",
    "\n",
    "    def __str__(self):\n",
    "        return str(self.dato)"
   ]
  },
  {
   "cell_type": "code",
   "execution_count": 95,
   "id": "pressing-hollow",
   "metadata": {
    "execution": {
     "iopub.execute_input": "2021-02-03T23:10:43.604258Z",
     "iopub.status.busy": "2021-02-03T23:10:43.602900Z",
     "iopub.status.idle": "2021-02-03T23:10:43.606185Z",
     "shell.execute_reply": "2021-02-03T23:10:43.605613Z"
    },
    "slideshow": {
     "slide_type": "slide"
    }
   },
   "outputs": [
    {
     "name": "stdout",
     "output_type": "stream",
     "text": [
      "hola\n"
     ]
    }
   ],
   "source": [
    "nodo = Nodo(\"hola\")\n",
    "print(nodo)"
   ]
  },
  {
   "cell_type": "code",
   "execution_count": 96,
   "id": "academic-payment",
   "metadata": {
    "execution": {
     "iopub.execute_input": "2021-02-03T23:10:43.611445Z",
     "iopub.status.busy": "2021-02-03T23:10:43.610150Z",
     "iopub.status.idle": "2021-02-03T23:10:43.613331Z",
     "shell.execute_reply": "2021-02-03T23:10:43.612803Z"
    },
    "slideshow": {
     "slide_type": "slide"
    }
   },
   "outputs": [
    {
     "name": "stdout",
     "output_type": "stream",
     "text": [
      "[hola, lala]\n"
     ]
    }
   ],
   "source": [
    "nodo2 = Nodo(\"lala\")\n",
    "print([nodo, nodo2])"
   ]
  },
  {
   "cell_type": "code",
   "execution_count": 97,
   "id": "endangered-might",
   "metadata": {
    "execution": {
     "iopub.execute_input": "2021-02-03T23:10:43.618830Z",
     "iopub.status.busy": "2021-02-03T23:10:43.617419Z",
     "iopub.status.idle": "2021-02-03T23:10:43.620560Z",
     "shell.execute_reply": "2021-02-03T23:10:43.620121Z"
    },
    "slideshow": {
     "slide_type": "slide"
    }
   },
   "outputs": [
    {
     "name": "stdout",
     "output_type": "stream",
     "text": [
      "hola\n"
     ]
    }
   ],
   "source": [
    "nodo3 = nodo.dato\n",
    "print(nodo3)"
   ]
  },
  {
   "cell_type": "markdown",
   "id": "marine-solid",
   "metadata": {
    "slideshow": {
     "slide_type": "slide"
    }
   },
   "source": [
    "### Ejemplo: Lista Enlazada"
   ]
  },
  {
   "cell_type": "code",
   "execution_count": 98,
   "id": "processed-reality",
   "metadata": {
    "execution": {
     "iopub.execute_input": "2021-02-03T23:10:43.629674Z",
     "iopub.status.busy": "2021-02-03T23:10:43.628666Z",
     "iopub.status.idle": "2021-02-03T23:10:43.630709Z",
     "shell.execute_reply": "2021-02-03T23:10:43.631218Z"
    },
    "slideshow": {
     "slide_type": "slide"
    }
   },
   "outputs": [],
   "source": [
    "class ListaEnlazada(object):\n",
    "    def __init__(self):\n",
    "        self._primero = None\n",
    "        self._ultimo = None\n",
    "        self._largo = 0\n",
    "\n",
    "    def __len__(self):\n",
    "        return self._largo\n",
    "\n",
    "    def insertar_al_principio(self, dato):\n",
    "        nodo = Nodo(dato, self._primero)\n",
    "        self._primero = nodo\n",
    "        self._largo += 1\n",
    "        if self._largo == 1:\n",
    "            self._ultimo = nodo\n",
    "\n",
    "    def insertar_al_final(self, dato):\n",
    "        if self._largo != 0:\n",
    "            nodo = Nodo(dato)\n",
    "            nodo_anterior = self._ultimo\n",
    "            nodo_anterior._siguiente = nodo\n",
    "            self._ultimo = nodo\n",
    "            self._largo += 1\n",
    "        else:\n",
    "            self.insertar_al_principio(dato)\n",
    "\n",
    "    @property\n",
    "    def primero(self):\n",
    "        return self._primero.dato\n",
    "\n",
    "    def borrar_primero(self):\n",
    "        dato = self.primero.dato\n",
    "        self._primero = self.primero.siguiente\n",
    "        self._largo -= 1\n",
    "        if self._largo == 0:\n",
    "            self._ultimo = None\n",
    "        return dato\n",
    "\n",
    "    def __str__(self):\n",
    "        datos = []\n",
    "        nodo_actual = self._primero\n",
    "        while nodo_actual:\n",
    "            datos.append(nodo_actual.dato)\n",
    "            nodo_actual = nodo_actual.proximo\n",
    "        return \" -> \".join(datos)\n",
    "\n",
    "    def __repr__(self):\n",
    "        return self.__str__()"
   ]
  },
  {
   "cell_type": "code",
   "execution_count": 99,
   "id": "victorian-boating",
   "metadata": {
    "execution": {
     "iopub.execute_input": "2021-02-03T23:10:43.636676Z",
     "iopub.status.busy": "2021-02-03T23:10:43.635846Z",
     "iopub.status.idle": "2021-02-03T23:10:43.639208Z",
     "shell.execute_reply": "2021-02-03T23:10:43.639697Z"
    },
    "slideshow": {
     "slide_type": "slide"
    }
   },
   "outputs": [
    {
     "data": {
      "text/plain": [
       "2"
      ]
     },
     "execution_count": 1,
     "metadata": {},
     "output_type": "execute_result"
    }
   ],
   "source": [
    "lista = ListaEnlazada()\n",
    "lista.insertar_al_principio(\"Primer Dato\")\n",
    "lista.insertar_al_principio(\"Primer primer Dato\")\n",
    "len(lista)"
   ]
  },
  {
   "cell_type": "code",
   "execution_count": 100,
   "id": "mounted-seattle",
   "metadata": {
    "execution": {
     "iopub.execute_input": "2021-02-03T23:10:43.644813Z",
     "iopub.status.busy": "2021-02-03T23:10:43.643739Z",
     "iopub.status.idle": "2021-02-03T23:10:43.646650Z",
     "shell.execute_reply": "2021-02-03T23:10:43.647311Z"
    }
   },
   "outputs": [
    {
     "data": {
      "text/plain": [
       "Primer primer Dato -> Primer Dato"
      ]
     },
     "execution_count": 1,
     "metadata": {},
     "output_type": "execute_result"
    }
   ],
   "source": [
    "lista"
   ]
  },
  {
   "cell_type": "code",
   "execution_count": 101,
   "id": "packed-implementation",
   "metadata": {
    "execution": {
     "iopub.execute_input": "2021-02-03T23:10:43.652651Z",
     "iopub.status.busy": "2021-02-03T23:10:43.651416Z",
     "iopub.status.idle": "2021-02-03T23:10:43.654666Z",
     "shell.execute_reply": "2021-02-03T23:10:43.654154Z"
    },
    "slideshow": {
     "slide_type": "slide"
    }
   },
   "outputs": [
    {
     "name": "stdout",
     "output_type": "stream",
     "text": [
      "Primer primer Dato\n"
     ]
    }
   ],
   "source": [
    "elemento = lista.primero\n",
    "print(elemento)"
   ]
  },
  {
   "cell_type": "markdown",
   "id": "earlier-housing",
   "metadata": {},
   "source": [
    "## Recursos\n",
    "\n",
    "* [Taller de Python de Algoritmos II](https://github.com/algoritmos-rw/algo2_apuntes)\n",
    "\n",
    "* [Documentación de Python 3](https://docs.python.org/3/tutorial/)\n",
    "\n",
    "* [Apunte de Algoritmos y Programación I](https://algoritmos1rw.ddns.net/material)\n",
    "\n",
    "* [Automate the Boring Stuff with Python](http://automatetheboringstuff.com/)\n",
    "\n",
    "* [Curso Python](https://pythoncurso.github.io)\n",
    "\n",
    "* [Python Tutor](http://pythontutor.com/)\n",
    "\n",
    "* [Learn Python3 in Y minutes](https://learnxinyminutes.com/docs/python3/)\n",
    "\n",
    "* [Bibliografía de Algoritmos y Programación I](https://algoritmos1rw.ddns.net/bibliografia)"
   ]
  }
 ],
 "metadata": {
  "jupytext": {
   "encoding": "# -*- coding: utf-8 -*-",
   "formats": "ipynb,py:light"
  },
  "kernelspec": {
   "display_name": "Python 3 (venv)",
   "language": "python",
   "name": "python3"
  },
  "language_info": {
   "codemirror_mode": {
    "name": "ipython",
    "version": 3
   },
   "file_extension": ".py",
   "mimetype": "text/x-python",
   "name": "python",
   "nbconvert_exporter": "python",
   "pygments_lexer": "ipython3",
   "version": "3.7.9"
  }
 },
 "nbformat": 4,
 "nbformat_minor": 5
}
