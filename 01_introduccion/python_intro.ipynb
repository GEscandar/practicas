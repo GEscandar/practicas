{
 "cells": [
  {
   "cell_type": "markdown",
   "id": "7210586d",
   "metadata": {},
   "source": [
    "# Python"
   ]
  },
  {
   "cell_type": "markdown",
   "id": "4e3f0035",
   "metadata": {
    "slideshow": {
     "slide_type": "slide"
    }
   },
   "source": [
    "## Un poco de Historia"
   ]
  },
  {
   "cell_type": "markdown",
   "id": "9eb14e77",
   "metadata": {
    "slideshow": {
     "slide_type": "subslide"
    }
   },
   "source": [
    "Python fue creado a finales de los años 80 por un programador holandés llamado **Guido van Rossum**,\n",
    "quien sigue siendo aún hoy el líder del desarrollo del lenguaje.\n",
    "\n",
    "(Edit julio 2018: [ya no más](https://www.mail-archive.com/python-committers@python.org/msg05628.html))"
   ]
  },
  {
   "cell_type": "markdown",
   "id": "c26c2476",
   "metadata": {
    "slideshow": {
     "slide_type": "subslide"
    }
   },
   "source": [
    "El nombre del lenguaje proviene de los humoristas británicos Monty Python.\n",
    "\n",
    ">*\"I chose Python as a working title for the project, being in a slightly irreverent mood (and a big fan of Monty Python's Flying Circus).\"*"
   ]
  },
  {
   "cell_type": "markdown",
   "id": "5e660844",
   "metadata": {
    "slideshow": {
     "slide_type": "slide"
    }
   },
   "source": [
    "## Caracteristicas\n",
    "\n",
    "- Interpretado\n",
    "- Tipado dinamico\n",
    "- Multiparadigma\n",
    "- Alto nivel\n",
    "- Tiene un recolector de basura (no hay malloc, free, realloc, etc)"
   ]
  },
  {
   "cell_type": "markdown",
   "id": "9de31e5c",
   "metadata": {},
   "source": [
    "## ¿Cómo empezar?\n",
    "\n",
    "* Al ser un lenguaje *interpretado*, se puede ir escribiendo a medida que se ejecuta, sin necesidad de compilar de antemano! Solamente hace falta escribir `python` o `python3` en una terminal para empezar\n",
    "\n",
    "* También, permite escribir archivos y correrlos. Crear un archivo con extensión `.py` y luego correr `python miarchivo.py` en laterminal"
   ]
  },
  {
   "cell_type": "markdown",
   "id": "b3f2de6f",
   "metadata": {
    "slideshow": {
     "slide_type": "slide"
    }
   },
   "source": [
    "## El Zen de Python"
   ]
  },
  {
   "cell_type": "code",
   "execution_count": 1,
   "id": "09c4d8e2",
   "metadata": {
    "execution": {
     "iopub.execute_input": "2021-05-20T16:09:28.789233Z",
     "iopub.status.busy": "2021-05-20T16:09:28.788742Z",
     "iopub.status.idle": "2021-05-20T16:09:28.812306Z",
     "shell.execute_reply": "2021-05-20T16:09:28.812762Z"
    },
    "slideshow": {
     "slide_type": "slide"
    }
   },
   "outputs": [
    {
     "name": "stdout",
     "output_type": "stream",
     "text": [
      "The Zen of Python, by Tim Peters\n",
      "\n",
      "Beautiful is better than ugly.\n",
      "Explicit is better than implicit.\n",
      "Simple is better than complex.\n",
      "Complex is better than complicated.\n",
      "Flat is better than nested.\n",
      "Sparse is better than dense.\n",
      "Readability counts.\n",
      "Special cases aren't special enough to break the rules.\n",
      "Although practicality beats purity.\n",
      "Errors should never pass silently.\n",
      "Unless explicitly silenced.\n",
      "In the face of ambiguity, refuse the temptation to guess.\n",
      "There should be one-- and preferably only one --obvious way to do it.\n",
      "Although that way may not be obvious at first unless you're Dutch.\n",
      "Now is better than never.\n",
      "Although never is often better than *right* now.\n",
      "If the implementation is hard to explain, it's a bad idea.\n",
      "If the implementation is easy to explain, it may be a good idea.\n",
      "Namespaces are one honking great idea -- let's do more of those!\n"
     ]
    }
   ],
   "source": [
    "import this"
   ]
  },
  {
   "cell_type": "markdown",
   "id": "10a672fb",
   "metadata": {
    "slideshow": {
     "slide_type": "slide"
    }
   },
   "source": [
    "## Conocimientos Básicos de Python: Variables y Tipos"
   ]
  },
  {
   "cell_type": "code",
   "execution_count": 2,
   "id": "3309fb8d",
   "metadata": {
    "execution": {
     "iopub.execute_input": "2021-05-20T16:09:28.817802Z",
     "iopub.status.busy": "2021-05-20T16:09:28.816531Z",
     "iopub.status.idle": "2021-05-20T16:09:28.819377Z",
     "shell.execute_reply": "2021-05-20T16:09:28.818958Z"
    },
    "slideshow": {
     "slide_type": "slide"
    }
   },
   "outputs": [
    {
     "name": "stdout",
     "output_type": "stream",
     "text": [
      "Hello World!\n"
     ]
    }
   ],
   "source": [
    "# Este es un comentario\n",
    "\n",
    "print(\"Hello World!\")"
   ]
  },
  {
   "cell_type": "markdown",
   "id": "400d49b1",
   "metadata": {},
   "source": [
    "Los strings en python puden escribirse tanto con comillas simples (`'`) como comillas dobles (`\"`). Normalmente vemos texto entre comillas triples para escribir _docstrings_, segun la guia de estilo de Python, el PEP8."
   ]
  },
  {
   "cell_type": "code",
   "execution_count": 3,
   "id": "b8d1e0d7",
   "metadata": {
    "execution": {
     "iopub.execute_input": "2021-05-20T16:09:28.828701Z",
     "iopub.status.busy": "2021-05-20T16:09:28.828201Z",
     "iopub.status.idle": "2021-05-20T16:09:28.830663Z",
     "shell.execute_reply": "2021-05-20T16:09:28.831043Z"
    }
   },
   "outputs": [
    {
     "data": {
      "text/plain": [
       "'Esto es un docstring.\\n'"
      ]
     },
     "execution_count": 1,
     "metadata": {},
     "output_type": "execute_result"
    }
   ],
   "source": [
    "\"\"\"Esto es un docstring.\n",
    "\"\"\""
   ]
  },
  {
   "cell_type": "markdown",
   "id": "8250ae9c",
   "metadata": {},
   "source": [
    "### Declaracion de variables"
   ]
  },
  {
   "cell_type": "code",
   "execution_count": 4,
   "id": "c6bc29b9",
   "metadata": {
    "execution": {
     "iopub.execute_input": "2021-05-20T16:09:28.835388Z",
     "iopub.status.busy": "2021-05-20T16:09:28.834327Z",
     "iopub.status.idle": "2021-05-20T16:09:28.837039Z",
     "shell.execute_reply": "2021-05-20T16:09:28.836605Z"
    }
   },
   "outputs": [
    {
     "name": "stdout",
     "output_type": "stream",
     "text": [
      "Hola\n"
     ]
    }
   ],
   "source": [
    "string = 'Hola'\n",
    "print(string)"
   ]
  },
  {
   "cell_type": "code",
   "execution_count": 5,
   "id": "158ba924",
   "metadata": {
    "execution": {
     "iopub.execute_input": "2021-05-20T16:09:28.841228Z",
     "iopub.status.busy": "2021-05-20T16:09:28.840286Z",
     "iopub.status.idle": "2021-05-20T16:09:28.842892Z",
     "shell.execute_reply": "2021-05-20T16:09:28.842483Z"
    }
   },
   "outputs": [
    {
     "name": "stdout",
     "output_type": "stream",
     "text": [
      "1\n"
     ]
    }
   ],
   "source": [
    "entero = 1\n",
    "print(entero)"
   ]
  },
  {
   "cell_type": "code",
   "execution_count": 6,
   "id": "582e07cc",
   "metadata": {
    "execution": {
     "iopub.execute_input": "2021-05-20T16:09:28.846771Z",
     "iopub.status.busy": "2021-05-20T16:09:28.846285Z",
     "iopub.status.idle": "2021-05-20T16:09:28.847882Z",
     "shell.execute_reply": "2021-05-20T16:09:28.848261Z"
    }
   },
   "outputs": [
    {
     "name": "stdout",
     "output_type": "stream",
     "text": [
      "1.0\n"
     ]
    }
   ],
   "source": [
    "flotante = 1.0\n",
    "print(flotante)"
   ]
  },
  {
   "cell_type": "code",
   "execution_count": 7,
   "id": "36c298ca",
   "metadata": {
    "execution": {
     "iopub.execute_input": "2021-05-20T16:09:28.851993Z",
     "iopub.status.busy": "2021-05-20T16:09:28.851505Z",
     "iopub.status.idle": "2021-05-20T16:09:28.853369Z",
     "shell.execute_reply": "2021-05-20T16:09:28.853751Z"
    }
   },
   "outputs": [
    {
     "name": "stdout",
     "output_type": "stream",
     "text": [
      "(1, 1.0)\n"
     ]
    }
   ],
   "source": [
    "tupla = (entero, flotante)\n",
    "print(tupla)"
   ]
  },
  {
   "cell_type": "code",
   "execution_count": 8,
   "id": "1ad42383",
   "metadata": {
    "execution": {
     "iopub.execute_input": "2021-05-20T16:09:28.857056Z",
     "iopub.status.busy": "2021-05-20T16:09:28.856569Z",
     "iopub.status.idle": "2021-05-20T16:09:28.858347Z",
     "shell.execute_reply": "2021-05-20T16:09:28.858729Z"
    }
   },
   "outputs": [
    {
     "name": "stdout",
     "output_type": "stream",
     "text": [
      "(1, 1.0, 'Hola')\n"
     ]
    }
   ],
   "source": [
    "nupla = (entero, flotante, string)\n",
    "print(nupla)"
   ]
  },
  {
   "cell_type": "code",
   "execution_count": 9,
   "id": "f950e40a",
   "metadata": {
    "execution": {
     "iopub.execute_input": "2021-05-20T16:09:28.861949Z",
     "iopub.status.busy": "2021-05-20T16:09:28.861477Z",
     "iopub.status.idle": "2021-05-20T16:09:28.863265Z",
     "shell.execute_reply": "2021-05-20T16:09:28.863625Z"
    }
   },
   "outputs": [
    {
     "name": "stdout",
     "output_type": "stream",
     "text": [
      "[1, 1.0, 'Hola']\n"
     ]
    }
   ],
   "source": [
    "lista = [entero, flotante, string]\n",
    "print(lista)"
   ]
  },
  {
   "cell_type": "code",
   "execution_count": 10,
   "id": "19b02500",
   "metadata": {
    "execution": {
     "iopub.execute_input": "2021-05-20T16:09:28.867112Z",
     "iopub.status.busy": "2021-05-20T16:09:28.866640Z",
     "iopub.status.idle": "2021-05-20T16:09:28.868438Z",
     "shell.execute_reply": "2021-05-20T16:09:28.868823Z"
    }
   },
   "outputs": [
    {
     "name": "stdout",
     "output_type": "stream",
     "text": [
      "{'1': (1, 1.0), 50: (1, 1.0, 'Hola'), '3': 1}\n"
     ]
    }
   ],
   "source": [
    "diccionario = {'1': tupla, 50: nupla, '3': entero}\n",
    "print(diccionario)"
   ]
  },
  {
   "cell_type": "code",
   "execution_count": 11,
   "id": "887afb56",
   "metadata": {
    "execution": {
     "iopub.execute_input": "2021-05-20T16:09:28.872158Z",
     "iopub.status.busy": "2021-05-20T16:09:28.871690Z",
     "iopub.status.idle": "2021-05-20T16:09:28.873481Z",
     "shell.execute_reply": "2021-05-20T16:09:28.873869Z"
    }
   },
   "outputs": [
    {
     "name": "stdout",
     "output_type": "stream",
     "text": [
      "{1, 2}\n"
     ]
    }
   ],
   "source": [
    "conjunto = set([1, 2])\n",
    "print(conjunto)"
   ]
  },
  {
   "cell_type": "code",
   "execution_count": 12,
   "id": "78adb23c",
   "metadata": {
    "execution": {
     "iopub.execute_input": "2021-05-20T16:09:28.877085Z",
     "iopub.status.busy": "2021-05-20T16:09:28.876598Z",
     "iopub.status.idle": "2021-05-20T16:09:28.878319Z",
     "shell.execute_reply": "2021-05-20T16:09:28.878729Z"
    }
   },
   "outputs": [
    {
     "name": "stdout",
     "output_type": "stream",
     "text": [
      "True\n"
     ]
    }
   ],
   "source": [
    "booleano = True\n",
    "print(booleano)"
   ]
  },
  {
   "cell_type": "code",
   "execution_count": 13,
   "id": "c4c52ee5",
   "metadata": {
    "execution": {
     "iopub.execute_input": "2021-05-20T16:09:28.881839Z",
     "iopub.status.busy": "2021-05-20T16:09:28.881372Z",
     "iopub.status.idle": "2021-05-20T16:09:28.883041Z",
     "shell.execute_reply": "2021-05-20T16:09:28.883487Z"
    }
   },
   "outputs": [
    {
     "name": "stdout",
     "output_type": "stream",
     "text": [
      "None\n"
     ]
    }
   ],
   "source": [
    "nada = None\n",
    "print(nada)"
   ]
  },
  {
   "cell_type": "markdown",
   "id": "8e814b95",
   "metadata": {},
   "source": [
    "Ojo que las variables pueden cambiar de tipo!"
   ]
  },
  {
   "cell_type": "code",
   "execution_count": 14,
   "id": "49749293",
   "metadata": {
    "execution": {
     "iopub.execute_input": "2021-05-20T16:09:28.886825Z",
     "iopub.status.busy": "2021-05-20T16:09:28.886354Z",
     "iopub.status.idle": "2021-05-20T16:09:28.888171Z",
     "shell.execute_reply": "2021-05-20T16:09:28.888565Z"
    }
   },
   "outputs": [
    {
     "name": "stdout",
     "output_type": "stream",
     "text": [
      "1\n",
      "<class 'int'>\n"
     ]
    }
   ],
   "source": [
    "elemento = 1\n",
    "print(elemento)\n",
    "print(type(elemento))"
   ]
  },
  {
   "cell_type": "code",
   "execution_count": 15,
   "id": "4728f6ab",
   "metadata": {
    "execution": {
     "iopub.execute_input": "2021-05-20T16:09:28.892018Z",
     "iopub.status.busy": "2021-05-20T16:09:28.891554Z",
     "iopub.status.idle": "2021-05-20T16:09:28.893372Z",
     "shell.execute_reply": "2021-05-20T16:09:28.893760Z"
    }
   },
   "outputs": [
    {
     "name": "stdout",
     "output_type": "stream",
     "text": [
      "1\n",
      "<class 'str'>\n"
     ]
    }
   ],
   "source": [
    "elemento = str(1)\n",
    "print(elemento)\n",
    "print(type(elemento))"
   ]
  },
  {
   "cell_type": "code",
   "execution_count": 16,
   "id": "3ab97874",
   "metadata": {
    "execution": {
     "iopub.execute_input": "2021-05-20T16:09:28.897339Z",
     "iopub.status.busy": "2021-05-20T16:09:28.896832Z",
     "iopub.status.idle": "2021-05-20T16:09:28.898940Z",
     "shell.execute_reply": "2021-05-20T16:09:28.898464Z"
    }
   },
   "outputs": [
    {
     "name": "stdout",
     "output_type": "stream",
     "text": [
      "[2]\n",
      "<class 'list'>\n"
     ]
    }
   ],
   "source": [
    "elemento = [2]\n",
    "\n",
    "print(elemento)\n",
    "print(type(elemento))"
   ]
  },
  {
   "cell_type": "markdown",
   "id": "2013da90",
   "metadata": {},
   "source": [
    "### Tipos basicos"
   ]
  },
  {
   "cell_type": "markdown",
   "id": "b765397b",
   "metadata": {
    "slideshow": {
     "slide_type": "slide"
    }
   },
   "source": [
    "#### Listas de Python"
   ]
  },
  {
   "cell_type": "code",
   "execution_count": 17,
   "id": "b222d765",
   "metadata": {
    "execution": {
     "iopub.execute_input": "2021-05-20T16:09:28.902175Z",
     "iopub.status.busy": "2021-05-20T16:09:28.901682Z",
     "iopub.status.idle": "2021-05-20T16:09:28.904388Z",
     "shell.execute_reply": "2021-05-20T16:09:28.903970Z"
    }
   },
   "outputs": [
    {
     "data": {
      "text/plain": [
       "[]"
      ]
     },
     "execution_count": 1,
     "metadata": {},
     "output_type": "execute_result"
    }
   ],
   "source": [
    "lista = list()\n",
    "lista"
   ]
  },
  {
   "cell_type": "code",
   "execution_count": 18,
   "id": "b523c78b",
   "metadata": {
    "execution": {
     "iopub.execute_input": "2021-05-20T16:09:28.907455Z",
     "iopub.status.busy": "2021-05-20T16:09:28.906990Z",
     "iopub.status.idle": "2021-05-20T16:09:28.909177Z",
     "shell.execute_reply": "2021-05-20T16:09:28.909542Z"
    },
    "slideshow": {
     "slide_type": "slide"
    }
   },
   "outputs": [
    {
     "data": {
      "text/plain": [
       "[]"
      ]
     },
     "execution_count": 1,
     "metadata": {},
     "output_type": "execute_result"
    }
   ],
   "source": [
    "lista = []\n",
    "lista"
   ]
  },
  {
   "cell_type": "code",
   "execution_count": 19,
   "id": "0f607303",
   "metadata": {
    "execution": {
     "iopub.execute_input": "2021-05-20T16:09:28.912788Z",
     "iopub.status.busy": "2021-05-20T16:09:28.912319Z",
     "iopub.status.idle": "2021-05-20T16:09:28.914504Z",
     "shell.execute_reply": "2021-05-20T16:09:28.914888Z"
    },
    "slideshow": {
     "slide_type": "slide"
    }
   },
   "outputs": [
    {
     "data": {
      "text/plain": [
       "[1, 2, 3, 4]"
      ]
     },
     "execution_count": 1,
     "metadata": {},
     "output_type": "execute_result"
    }
   ],
   "source": [
    "lista = [1, 2, 3, 4]\n",
    "lista"
   ]
  },
  {
   "cell_type": "code",
   "execution_count": 20,
   "id": "74cf7692",
   "metadata": {
    "execution": {
     "iopub.execute_input": "2021-05-20T16:09:28.918464Z",
     "iopub.status.busy": "2021-05-20T16:09:28.917996Z",
     "iopub.status.idle": "2021-05-20T16:09:28.920649Z",
     "shell.execute_reply": "2021-05-20T16:09:28.920234Z"
    },
    "slideshow": {
     "slide_type": "slide"
    }
   },
   "outputs": [
    {
     "data": {
      "text/plain": [
       "[1, 2, 3, 4, 1, 'dos', 3.0]"
      ]
     },
     "execution_count": 1,
     "metadata": {},
     "output_type": "execute_result"
    }
   ],
   "source": [
    "lista.append(1)  # Inserto un 1 al final\n",
    "lista.append(\"dos\")  # Inserto un \"dos\" al final\n",
    "lista.append(3.0)  # Inserto un 3.0 al final\n",
    "lista"
   ]
  },
  {
   "cell_type": "code",
   "execution_count": 21,
   "id": "d5091ead",
   "metadata": {
    "execution": {
     "iopub.execute_input": "2021-05-20T16:09:28.923940Z",
     "iopub.status.busy": "2021-05-20T16:09:28.923476Z",
     "iopub.status.idle": "2021-05-20T16:09:28.925539Z",
     "shell.execute_reply": "2021-05-20T16:09:28.925060Z"
    }
   },
   "outputs": [
    {
     "name": "stdout",
     "output_type": "stream",
     "text": [
      "[1, 2, 10, 3, 4, 1, 'dos', 3.0]\n"
     ]
    }
   ],
   "source": [
    "lista.insert(2, 10)  # Inserto en posicion 2 un 10\n",
    "print(lista)"
   ]
  },
  {
   "cell_type": "code",
   "execution_count": 22,
   "id": "df36f4fc",
   "metadata": {
    "execution": {
     "iopub.execute_input": "2021-05-20T16:09:28.928617Z",
     "iopub.status.busy": "2021-05-20T16:09:28.928149Z",
     "iopub.status.idle": "2021-05-20T16:09:28.930706Z",
     "shell.execute_reply": "2021-05-20T16:09:28.930298Z"
    }
   },
   "outputs": [
    {
     "data": {
      "text/plain": [
       "8"
      ]
     },
     "execution_count": 1,
     "metadata": {},
     "output_type": "execute_result"
    }
   ],
   "source": [
    "len(lista)"
   ]
  },
  {
   "cell_type": "code",
   "execution_count": 23,
   "id": "4e4346e1",
   "metadata": {
    "execution": {
     "iopub.execute_input": "2021-05-20T16:09:28.933792Z",
     "iopub.status.busy": "2021-05-20T16:09:28.933327Z",
     "iopub.status.idle": "2021-05-20T16:09:28.935673Z",
     "shell.execute_reply": "2021-05-20T16:09:28.936034Z"
    }
   },
   "outputs": [
    {
     "data": {
      "text/plain": [
       "3.0"
      ]
     },
     "execution_count": 1,
     "metadata": {},
     "output_type": "execute_result"
    }
   ],
   "source": [
    "lista.pop()"
   ]
  },
  {
   "cell_type": "code",
   "execution_count": 24,
   "id": "b1071036",
   "metadata": {
    "execution": {
     "iopub.execute_input": "2021-05-20T16:09:28.939205Z",
     "iopub.status.busy": "2021-05-20T16:09:28.938739Z",
     "iopub.status.idle": "2021-05-20T16:09:28.941519Z",
     "shell.execute_reply": "2021-05-20T16:09:28.941097Z"
    }
   },
   "outputs": [
    {
     "data": {
      "text/plain": [
       "[1, 2, 10, 3, 4, 1, 'dos']"
      ]
     },
     "execution_count": 1,
     "metadata": {},
     "output_type": "execute_result"
    }
   ],
   "source": [
    "lista"
   ]
  },
  {
   "cell_type": "code",
   "execution_count": 25,
   "id": "9cb8ea2c",
   "metadata": {
    "execution": {
     "iopub.execute_input": "2021-05-20T16:09:28.944660Z",
     "iopub.status.busy": "2021-05-20T16:09:28.944195Z",
     "iopub.status.idle": "2021-05-20T16:09:28.949040Z",
     "shell.execute_reply": "2021-05-20T16:09:28.948599Z"
    }
   },
   "outputs": [
    {
     "data": {
      "text/plain": [
       "2"
      ]
     },
     "execution_count": 1,
     "metadata": {},
     "output_type": "execute_result"
    }
   ],
   "source": [
    "lista.index(10)"
   ]
  },
  {
   "cell_type": "code",
   "execution_count": 26,
   "id": "b90a94e9",
   "metadata": {
    "execution": {
     "iopub.execute_input": "2021-05-20T16:09:28.952214Z",
     "iopub.status.busy": "2021-05-20T16:09:28.951747Z",
     "iopub.status.idle": "2021-05-20T16:09:28.954529Z",
     "shell.execute_reply": "2021-05-20T16:09:28.954116Z"
    }
   },
   "outputs": [
    {
     "data": {
      "text/plain": [
       "[1, 2, 3, 4, 1, 'dos']"
      ]
     },
     "execution_count": 1,
     "metadata": {},
     "output_type": "execute_result"
    }
   ],
   "source": [
    "lista.remove(10)\n",
    "lista"
   ]
  },
  {
   "cell_type": "code",
   "execution_count": 27,
   "id": "90bf9285",
   "metadata": {
    "execution": {
     "iopub.execute_input": "2021-05-20T16:09:28.962553Z",
     "iopub.status.busy": "2021-05-20T16:09:28.957024Z",
     "iopub.status.idle": "2021-05-20T16:09:29.010364Z",
     "shell.execute_reply": "2021-05-20T16:09:29.009639Z"
    },
    "tags": [
     "raises-exception"
    ]
   },
   "outputs": [
    {
     "name": "stdout",
     "output_type": "stream",
     "text": [
      "1\n",
      "2\n",
      "2\n",
      "3\n",
      "3\n",
      "4\n",
      "4\n",
      "5\n",
      "1\n",
      "2\n",
      "dos\n"
     ]
    },
    {
     "ename": "TypeError",
     "evalue": "can only concatenate str (not \"int\") to str",
     "output_type": "error",
     "traceback": [
      "\u001b[0;31m---------------------------------------------------------------------------\u001b[0m",
      "\u001b[0;31mTypeError\u001b[0m                                 Traceback (most recent call last)",
      "\u001b[0;32m<ipython-input-1-41b56d5cf080>\u001b[0m in \u001b[0;36m<module>\u001b[0;34m\u001b[0m\n\u001b[1;32m      1\u001b[0m \u001b[0;32mfor\u001b[0m \u001b[0melemento\u001b[0m \u001b[0;32min\u001b[0m \u001b[0mlista\u001b[0m\u001b[0;34m:\u001b[0m\u001b[0;34m\u001b[0m\u001b[0;34m\u001b[0m\u001b[0m\n\u001b[1;32m      2\u001b[0m     \u001b[0mprint\u001b[0m\u001b[0;34m(\u001b[0m\u001b[0melemento\u001b[0m\u001b[0;34m)\u001b[0m\u001b[0;34m\u001b[0m\u001b[0;34m\u001b[0m\u001b[0m\n\u001b[0;32m----> 3\u001b[0;31m     \u001b[0mprint\u001b[0m\u001b[0;34m(\u001b[0m\u001b[0melemento\u001b[0m \u001b[0;34m+\u001b[0m \u001b[0;36m1\u001b[0m\u001b[0;34m)\u001b[0m\u001b[0;34m\u001b[0m\u001b[0;34m\u001b[0m\u001b[0m\n\u001b[0m",
      "\u001b[0;31mTypeError\u001b[0m: can only concatenate str (not \"int\") to str"
     ]
    }
   ],
   "source": [
    "for elemento in lista:\n",
    "    print(elemento)\n",
    "    print(elemento + 1)"
   ]
  },
  {
   "cell_type": "code",
   "execution_count": 28,
   "id": "26ca3760",
   "metadata": {
    "execution": {
     "iopub.execute_input": "2021-05-20T16:09:29.014335Z",
     "iopub.status.busy": "2021-05-20T16:09:29.013850Z",
     "iopub.status.idle": "2021-05-20T16:09:29.017589Z",
     "shell.execute_reply": "2021-05-20T16:09:29.017195Z"
    }
   },
   "outputs": [
    {
     "data": {
      "text/plain": [
       "[1, 2, 3, 4, 1, 'dos']"
      ]
     },
     "execution_count": 1,
     "metadata": {},
     "output_type": "execute_result"
    }
   ],
   "source": [
    "lista"
   ]
  },
  {
   "cell_type": "code",
   "execution_count": 29,
   "id": "d4b7385f",
   "metadata": {
    "execution": {
     "iopub.execute_input": "2021-05-20T16:09:29.022280Z",
     "iopub.status.busy": "2021-05-20T16:09:29.021330Z",
     "iopub.status.idle": "2021-05-20T16:09:29.024056Z",
     "shell.execute_reply": "2021-05-20T16:09:29.023644Z"
    }
   },
   "outputs": [
    {
     "name": "stdout",
     "output_type": "stream",
     "text": [
      "0-ésimo elemento: 1\n",
      "1-ésimo elemento: 2\n",
      "2-ésimo elemento: 3\n",
      "3-ésimo elemento: 4\n",
      "4-ésimo elemento: 1\n",
      "5-ésimo elemento: dos\n"
     ]
    }
   ],
   "source": [
    "for i, elemento in enumerate(lista):\n",
    "    print(f\"{i}-ésimo elemento: {elemento}\")"
   ]
  },
  {
   "cell_type": "code",
   "execution_count": 30,
   "id": "3f59ba0c",
   "metadata": {
    "execution": {
     "iopub.execute_input": "2021-05-20T16:09:29.029261Z",
     "iopub.status.busy": "2021-05-20T16:09:29.026440Z",
     "iopub.status.idle": "2021-05-20T16:09:29.031519Z",
     "shell.execute_reply": "2021-05-20T16:09:29.031126Z"
    },
    "tags": [
     "raises-exception"
    ]
   },
   "outputs": [
    {
     "ename": "TypeError",
     "evalue": "'<' not supported between instances of 'str' and 'int'",
     "output_type": "error",
     "traceback": [
      "\u001b[0;31m---------------------------------------------------------------------------\u001b[0m",
      "\u001b[0;31mTypeError\u001b[0m                                 Traceback (most recent call last)",
      "\u001b[0;32m<ipython-input-1-06c3f264dc7a>\u001b[0m in \u001b[0;36m<module>\u001b[0;34m\u001b[0m\n\u001b[0;32m----> 1\u001b[0;31m \u001b[0msorted\u001b[0m\u001b[0;34m(\u001b[0m\u001b[0mlista\u001b[0m\u001b[0;34m)\u001b[0m\u001b[0;34m\u001b[0m\u001b[0;34m\u001b[0m\u001b[0m\n\u001b[0m",
      "\u001b[0;31mTypeError\u001b[0m: '<' not supported between instances of 'str' and 'int'"
     ]
    }
   ],
   "source": [
    "sorted(lista)"
   ]
  },
  {
   "cell_type": "code",
   "execution_count": 31,
   "id": "1256065e",
   "metadata": {
    "execution": {
     "iopub.execute_input": "2021-05-20T16:09:29.035269Z",
     "iopub.status.busy": "2021-05-20T16:09:29.034157Z",
     "iopub.status.idle": "2021-05-20T16:09:29.035833Z",
     "shell.execute_reply": "2021-05-20T16:09:29.036213Z"
    }
   },
   "outputs": [],
   "source": [
    "lista.remove(\"dos\")"
   ]
  },
  {
   "cell_type": "code",
   "execution_count": 32,
   "id": "3d2af8cf",
   "metadata": {
    "execution": {
     "iopub.execute_input": "2021-05-20T16:09:29.040045Z",
     "iopub.status.busy": "2021-05-20T16:09:29.039557Z",
     "iopub.status.idle": "2021-05-20T16:09:29.041948Z",
     "shell.execute_reply": "2021-05-20T16:09:29.042329Z"
    }
   },
   "outputs": [
    {
     "data": {
      "text/plain": [
       "[1, 1, 2, 3, 4]"
      ]
     },
     "execution_count": 1,
     "metadata": {},
     "output_type": "execute_result"
    }
   ],
   "source": [
    "sorted(lista)"
   ]
  },
  {
   "cell_type": "code",
   "execution_count": 33,
   "id": "bebbff8f",
   "metadata": {
    "execution": {
     "iopub.execute_input": "2021-05-20T16:09:29.046142Z",
     "iopub.status.busy": "2021-05-20T16:09:29.045653Z",
     "iopub.status.idle": "2021-05-20T16:09:29.047988Z",
     "shell.execute_reply": "2021-05-20T16:09:29.048369Z"
    }
   },
   "outputs": [
    {
     "data": {
      "text/plain": [
       "[1, 1, 2, 3, 4]"
      ]
     },
     "execution_count": 1,
     "metadata": {},
     "output_type": "execute_result"
    }
   ],
   "source": [
    "lista.sort()\n",
    "lista"
   ]
  },
  {
   "cell_type": "markdown",
   "id": "1c417b19",
   "metadata": {
    "slideshow": {
     "slide_type": "slide"
    }
   },
   "source": [
    "#### Tuplas de Python\n",
    "\n",
    "Las tuplas son inmutables. No se pueden agregar elementos luego de creadas."
   ]
  },
  {
   "cell_type": "code",
   "execution_count": 34,
   "id": "ea430049",
   "metadata": {
    "execution": {
     "iopub.execute_input": "2021-05-20T16:09:29.052390Z",
     "iopub.status.busy": "2021-05-20T16:09:29.051422Z",
     "iopub.status.idle": "2021-05-20T16:09:29.057203Z",
     "shell.execute_reply": "2021-05-20T16:09:29.056773Z"
    },
    "slideshow": {
     "slide_type": "slide"
    },
    "tags": [
     "raises-exception"
    ]
   },
   "outputs": [
    {
     "name": "stdout",
     "output_type": "stream",
     "text": [
      "(1, 2)\n",
      "1\n",
      "2\n"
     ]
    },
    {
     "ename": "TypeError",
     "evalue": "'tuple' object does not support item assignment",
     "output_type": "error",
     "traceback": [
      "\u001b[0;31m---------------------------------------------------------------------------\u001b[0m",
      "\u001b[0;31mTypeError\u001b[0m                                 Traceback (most recent call last)",
      "\u001b[0;32m<ipython-input-1-80ca8b547dd6>\u001b[0m in \u001b[0;36m<module>\u001b[0;34m\u001b[0m\n\u001b[1;32m      5\u001b[0m \u001b[0mprint\u001b[0m\u001b[0;34m(\u001b[0m\u001b[0mtupla\u001b[0m\u001b[0;34m[\u001b[0m\u001b[0;36m1\u001b[0m\u001b[0;34m]\u001b[0m\u001b[0;34m)\u001b[0m\u001b[0;34m\u001b[0m\u001b[0;34m\u001b[0m\u001b[0m\n\u001b[1;32m      6\u001b[0m \u001b[0;34m\u001b[0m\u001b[0m\n\u001b[0;32m----> 7\u001b[0;31m \u001b[0mtupla\u001b[0m\u001b[0;34m[\u001b[0m\u001b[0;36m1\u001b[0m\u001b[0;34m]\u001b[0m \u001b[0;34m=\u001b[0m \u001b[0;36m3\u001b[0m  \u001b[0;31m# Falla. No se puede mutar\u001b[0m\u001b[0;34m\u001b[0m\u001b[0;34m\u001b[0m\u001b[0m\n\u001b[0m",
      "\u001b[0;31mTypeError\u001b[0m: 'tuple' object does not support item assignment"
     ]
    }
   ],
   "source": [
    "tupla = (1, 2)\n",
    "\n",
    "print(tupla)\n",
    "print(tupla[0])\n",
    "print(tupla[1])\n",
    "\n",
    "tupla[1] = 3  # Falla. No se puede mutar"
   ]
  },
  {
   "cell_type": "code",
   "execution_count": 35,
   "id": "e811a93d",
   "metadata": {
    "execution": {
     "iopub.execute_input": "2021-05-20T16:09:29.060965Z",
     "iopub.status.busy": "2021-05-20T16:09:29.060460Z",
     "iopub.status.idle": "2021-05-20T16:09:29.062786Z",
     "shell.execute_reply": "2021-05-20T16:09:29.063171Z"
    }
   },
   "outputs": [
    {
     "data": {
      "text/plain": [
       "[1, 2]"
      ]
     },
     "execution_count": 1,
     "metadata": {},
     "output_type": "execute_result"
    }
   ],
   "source": [
    "l = [1, 2]\n",
    "l"
   ]
  },
  {
   "cell_type": "code",
   "execution_count": 36,
   "id": "0a92d37d",
   "metadata": {
    "execution": {
     "iopub.execute_input": "2021-05-20T16:09:29.066948Z",
     "iopub.status.busy": "2021-05-20T16:09:29.066457Z",
     "iopub.status.idle": "2021-05-20T16:09:29.068779Z",
     "shell.execute_reply": "2021-05-20T16:09:29.069184Z"
    }
   },
   "outputs": [
    {
     "data": {
      "text/plain": [
       "[1, 3]"
      ]
     },
     "execution_count": 1,
     "metadata": {},
     "output_type": "execute_result"
    }
   ],
   "source": [
    "l[1] = 3\n",
    "l"
   ]
  },
  {
   "cell_type": "markdown",
   "id": "6acf7abd",
   "metadata": {
    "slideshow": {
     "slide_type": "slide"
    }
   },
   "source": [
    "#### Diferencia entre lista y tupla\n",
    "Las listas se caracterizan por ser mutables, es decir, se puede cambiar su contenido en tiempo de ejecución, mientras que las tuplas son inmutables ya que no es posible modificar el contenido una vez creada."
   ]
  },
  {
   "cell_type": "markdown",
   "id": "c97272e5",
   "metadata": {},
   "source": [
    "#### Slices\n",
    "\n",
    "**Valen para listas, tuplas o strings (_segmentos_)**"
   ]
  },
  {
   "cell_type": "code",
   "execution_count": 37,
   "id": "5aa10e12",
   "metadata": {
    "execution": {
     "iopub.execute_input": "2021-05-20T16:09:29.073171Z",
     "iopub.status.busy": "2021-05-20T16:09:29.072139Z",
     "iopub.status.idle": "2021-05-20T16:09:29.073776Z",
     "shell.execute_reply": "2021-05-20T16:09:29.074157Z"
    }
   },
   "outputs": [],
   "source": [
    "numeros = [0, 1, 2, 3, 4, 5, 6, 7, 8, 9, 10]"
   ]
  },
  {
   "cell_type": "code",
   "execution_count": 38,
   "id": "87e134fb",
   "metadata": {
    "execution": {
     "iopub.execute_input": "2021-05-20T16:09:29.078366Z",
     "iopub.status.busy": "2021-05-20T16:09:29.077337Z",
     "iopub.status.idle": "2021-05-20T16:09:29.079925Z",
     "shell.execute_reply": "2021-05-20T16:09:29.079510Z"
    }
   },
   "outputs": [
    {
     "name": "stdout",
     "output_type": "stream",
     "text": [
      "[0, 1, 2, 3, 4, 5, 6, 7, 8, 9, 10]\n"
     ]
    }
   ],
   "source": [
    "print(numeros)"
   ]
  },
  {
   "cell_type": "code",
   "execution_count": 39,
   "id": "f9514464",
   "metadata": {
    "execution": {
     "iopub.execute_input": "2021-05-20T16:09:29.083937Z",
     "iopub.status.busy": "2021-05-20T16:09:29.082985Z",
     "iopub.status.idle": "2021-05-20T16:09:29.085893Z",
     "shell.execute_reply": "2021-05-20T16:09:29.085464Z"
    }
   },
   "outputs": [
    {
     "name": "stdout",
     "output_type": "stream",
     "text": [
      "2\n"
     ]
    }
   ],
   "source": [
    "print(numeros[2])  # Imprimo elemento en la posición 2"
   ]
  },
  {
   "cell_type": "code",
   "execution_count": 40,
   "id": "af978a64",
   "metadata": {
    "execution": {
     "iopub.execute_input": "2021-05-20T16:09:29.089760Z",
     "iopub.status.busy": "2021-05-20T16:09:29.089215Z",
     "iopub.status.idle": "2021-05-20T16:09:29.091570Z",
     "shell.execute_reply": "2021-05-20T16:09:29.091977Z"
    }
   },
   "outputs": [
    {
     "data": {
      "text/plain": [
       "10"
      ]
     },
     "execution_count": 1,
     "metadata": {},
     "output_type": "execute_result"
    }
   ],
   "source": [
    "numeros[len(numeros) - 1]"
   ]
  },
  {
   "cell_type": "code",
   "execution_count": 41,
   "id": "14d4e894",
   "metadata": {
    "execution": {
     "iopub.execute_input": "2021-05-20T16:09:29.096042Z",
     "iopub.status.busy": "2021-05-20T16:09:29.095196Z",
     "iopub.status.idle": "2021-05-20T16:09:29.097840Z",
     "shell.execute_reply": "2021-05-20T16:09:29.097424Z"
    },
    "lines_to_next_cell": 2
   },
   "outputs": [
    {
     "name": "stdout",
     "output_type": "stream",
     "text": [
      "10\n"
     ]
    }
   ],
   "source": [
    "print(numeros[-1])  # # Imprimo elemento en la última posición"
   ]
  },
  {
   "cell_type": "code",
   "execution_count": 42,
   "id": "2a59c44f",
   "metadata": {
    "execution": {
     "iopub.execute_input": "2021-05-20T16:09:29.101776Z",
     "iopub.status.busy": "2021-05-20T16:09:29.101288Z",
     "iopub.status.idle": "2021-05-20T16:09:29.103558Z",
     "shell.execute_reply": "2021-05-20T16:09:29.103940Z"
    },
    "lines_to_next_cell": 2
   },
   "outputs": [
    {
     "data": {
      "text/plain": [
       "9"
      ]
     },
     "execution_count": 1,
     "metadata": {},
     "output_type": "execute_result"
    }
   ],
   "source": [
    "numeros[-2]"
   ]
  },
  {
   "cell_type": "code",
   "execution_count": 43,
   "id": "a2549899",
   "metadata": {
    "execution": {
     "iopub.execute_input": "2021-05-20T16:09:29.108035Z",
     "iopub.status.busy": "2021-05-20T16:09:29.107028Z",
     "iopub.status.idle": "2021-05-20T16:09:29.110002Z",
     "shell.execute_reply": "2021-05-20T16:09:29.109583Z"
    }
   },
   "outputs": [
    {
     "name": "stdout",
     "output_type": "stream",
     "text": [
      "[0, 1, 2]\n"
     ]
    }
   ],
   "source": [
    "print(numeros[0:3])  # Imprimo de la pos 0 a la pos 2"
   ]
  },
  {
   "cell_type": "code",
   "execution_count": 44,
   "id": "b2f97c08",
   "metadata": {
    "execution": {
     "iopub.execute_input": "2021-05-20T16:09:29.114051Z",
     "iopub.status.busy": "2021-05-20T16:09:29.113067Z",
     "iopub.status.idle": "2021-05-20T16:09:29.115680Z",
     "shell.execute_reply": "2021-05-20T16:09:29.115267Z"
    }
   },
   "outputs": [
    {
     "name": "stdout",
     "output_type": "stream",
     "text": [
      "[7, 8]\n"
     ]
    }
   ],
   "source": [
    "print(numeros[-4:-2])"
   ]
  },
  {
   "cell_type": "code",
   "execution_count": 45,
   "id": "67c932b4",
   "metadata": {
    "execution": {
     "iopub.execute_input": "2021-05-20T16:09:29.119738Z",
     "iopub.status.busy": "2021-05-20T16:09:29.118737Z",
     "iopub.status.idle": "2021-05-20T16:09:29.121397Z",
     "shell.execute_reply": "2021-05-20T16:09:29.120967Z"
    }
   },
   "outputs": [
    {
     "name": "stdout",
     "output_type": "stream",
     "text": [
      "[0, 1, 2, 3, 4, 5, 6, 7, 8, 9, 10]\n"
     ]
    }
   ],
   "source": [
    "print(numeros[0:80])"
   ]
  },
  {
   "cell_type": "code",
   "execution_count": 46,
   "id": "1093b96b",
   "metadata": {
    "execution": {
     "iopub.execute_input": "2021-05-20T16:09:29.125619Z",
     "iopub.status.busy": "2021-05-20T16:09:29.124570Z",
     "iopub.status.idle": "2021-05-20T16:09:29.127179Z",
     "shell.execute_reply": "2021-05-20T16:09:29.126767Z"
    }
   },
   "outputs": [
    {
     "name": "stdout",
     "output_type": "stream",
     "text": [
      "[0, 1, 2]\n"
     ]
    }
   ],
   "source": [
    "print(numeros[:3])"
   ]
  },
  {
   "cell_type": "code",
   "execution_count": 47,
   "id": "e2206240",
   "metadata": {
    "execution": {
     "iopub.execute_input": "2021-05-20T16:09:29.131205Z",
     "iopub.status.busy": "2021-05-20T16:09:29.130186Z",
     "iopub.status.idle": "2021-05-20T16:09:29.132823Z",
     "shell.execute_reply": "2021-05-20T16:09:29.132408Z"
    }
   },
   "outputs": [
    {
     "name": "stdout",
     "output_type": "stream",
     "text": [
      "[3, 4, 5, 6, 7, 8, 9, 10]\n"
     ]
    }
   ],
   "source": [
    "print(numeros[3:])"
   ]
  },
  {
   "cell_type": "code",
   "execution_count": 48,
   "id": "870cda70",
   "metadata": {
    "execution": {
     "iopub.execute_input": "2021-05-20T16:09:29.136887Z",
     "iopub.status.busy": "2021-05-20T16:09:29.135882Z",
     "iopub.status.idle": "2021-05-20T16:09:29.138516Z",
     "shell.execute_reply": "2021-05-20T16:09:29.138107Z"
    }
   },
   "outputs": [
    {
     "name": "stdout",
     "output_type": "stream",
     "text": [
      "[0, 2, 4, 6, 8]\n"
     ]
    }
   ],
   "source": [
    "print(numeros[0:10:2])"
   ]
  },
  {
   "cell_type": "markdown",
   "id": "14e9eb2a",
   "metadata": {},
   "source": [
    "```python\n",
    "lista[<inicio>:<final>:<step>]\n",
    "```"
   ]
  },
  {
   "cell_type": "code",
   "execution_count": 49,
   "id": "19b43882",
   "metadata": {
    "execution": {
     "iopub.execute_input": "2021-05-20T16:09:29.142541Z",
     "iopub.status.busy": "2021-05-20T16:09:29.142048Z",
     "iopub.status.idle": "2021-05-20T16:09:29.144344Z",
     "shell.execute_reply": "2021-05-20T16:09:29.144728Z"
    },
    "lines_to_next_cell": 2
   },
   "outputs": [
    {
     "data": {
      "text/plain": [
       "[1, 2, 3, 4]"
      ]
     },
     "execution_count": 1,
     "metadata": {},
     "output_type": "execute_result"
    }
   ],
   "source": [
    "l1 = [1, 2]\n",
    "l2 = [3, 4]\n",
    "l1 + l2"
   ]
  },
  {
   "cell_type": "code",
   "execution_count": 50,
   "id": "c0fccb90",
   "metadata": {
    "execution": {
     "iopub.execute_input": "2021-05-20T16:09:29.148807Z",
     "iopub.status.busy": "2021-05-20T16:09:29.147789Z",
     "iopub.status.idle": "2021-05-20T16:09:29.150397Z",
     "shell.execute_reply": "2021-05-20T16:09:29.149984Z"
    }
   },
   "outputs": [
    {
     "name": "stdout",
     "output_type": "stream",
     "text": [
      "[0, 1, 2, 3, 4, 5, 6, 'siete', 8, 9, 10]\n"
     ]
    }
   ],
   "source": [
    "numeros[7] = 'siete'  # Las listas se pueden mutar\n",
    "print(numeros)"
   ]
  },
  {
   "cell_type": "code",
   "execution_count": 51,
   "id": "3ec46f1e",
   "metadata": {
    "execution": {
     "iopub.execute_input": "2021-05-20T16:09:29.154486Z",
     "iopub.status.busy": "2021-05-20T16:09:29.153471Z",
     "iopub.status.idle": "2021-05-20T16:09:29.156100Z",
     "shell.execute_reply": "2021-05-20T16:09:29.155688Z"
    }
   },
   "outputs": [
    {
     "name": "stdout",
     "output_type": "stream",
     "text": [
      "[10, 9, 8, 'siete', 6, 5, 4, 3, 2, 1, 0]\n"
     ]
    }
   ],
   "source": [
    "numeros = numeros[::-1]\n",
    "print(numeros)"
   ]
  },
  {
   "cell_type": "code",
   "execution_count": 52,
   "id": "f1678b7d",
   "metadata": {
    "execution": {
     "iopub.execute_input": "2021-05-20T16:09:29.162074Z",
     "iopub.status.busy": "2021-05-20T16:09:29.161582Z",
     "iopub.status.idle": "2021-05-20T16:09:29.163845Z",
     "shell.execute_reply": "2021-05-20T16:09:29.164251Z"
    },
    "tags": [
     "raises-exception"
    ]
   },
   "outputs": [
    {
     "ename": "IndexError",
     "evalue": "list index out of range",
     "output_type": "error",
     "traceback": [
      "\u001b[0;31m---------------------------------------------------------------------------\u001b[0m",
      "\u001b[0;31mIndexError\u001b[0m                                Traceback (most recent call last)",
      "\u001b[0;32m<ipython-input-1-0ef91dd29a9b>\u001b[0m in \u001b[0;36m<module>\u001b[0;34m\u001b[0m\n\u001b[0;32m----> 1\u001b[0;31m \u001b[0mprint\u001b[0m\u001b[0;34m(\u001b[0m\u001b[0mnumeros\u001b[0m\u001b[0;34m[\u001b[0m\u001b[0;36m15\u001b[0m\u001b[0;34m]\u001b[0m\u001b[0;34m)\u001b[0m  \u001b[0;31m# Falla. No se puede acceder a una posición inexistente\u001b[0m\u001b[0;34m\u001b[0m\u001b[0;34m\u001b[0m\u001b[0m\n\u001b[0m",
      "\u001b[0;31mIndexError\u001b[0m: list index out of range"
     ]
    }
   ],
   "source": [
    "print(numeros[15])  # Falla. No se puede acceder a una posición inexistente"
   ]
  },
  {
   "cell_type": "code",
   "execution_count": 53,
   "id": "e38c71a0",
   "metadata": {
    "execution": {
     "iopub.execute_input": "2021-05-20T16:09:29.169016Z",
     "iopub.status.busy": "2021-05-20T16:09:29.168051Z",
     "iopub.status.idle": "2021-05-20T16:09:29.170675Z",
     "shell.execute_reply": "2021-05-20T16:09:29.170261Z"
    }
   },
   "outputs": [
    {
     "name": "stdout",
     "output_type": "stream",
     "text": [
      "palabra\n",
      "a\n",
      "pal\n",
      "abra\n"
     ]
    }
   ],
   "source": [
    "palabra = 'palabra'\n",
    "print(palabra)\n",
    "print(palabra[3])\n",
    "print(palabra[:3])\n",
    "print(palabra[3:])"
   ]
  },
  {
   "cell_type": "code",
   "execution_count": 54,
   "id": "342d0a98",
   "metadata": {
    "execution": {
     "iopub.execute_input": "2021-05-20T16:09:29.175306Z",
     "iopub.status.busy": "2021-05-20T16:09:29.174308Z",
     "iopub.status.idle": "2021-05-20T16:09:29.176950Z",
     "shell.execute_reply": "2021-05-20T16:09:29.176515Z"
    }
   },
   "outputs": [
    {
     "name": "stdout",
     "output_type": "stream",
     "text": [
      "(0, 1, 2, 3, 4)\n",
      "(0, 1)\n",
      "(2, 3, 4)\n"
     ]
    }
   ],
   "source": [
    "tupla = (0, 1, 2, 3, 4)\n",
    "\n",
    "print(tupla)\n",
    "print(tupla[:2])\n",
    "print(tupla[2:])"
   ]
  },
  {
   "cell_type": "markdown",
   "id": "c0ea8de0",
   "metadata": {
    "slideshow": {
     "slide_type": "slide"
    }
   },
   "source": [
    "#### Diccionarios de Python\n",
    "\n",
    "Son como hashmaps, las claves deben ser inmutables para que no pierda sentido el diccionario. Si se pudieran modificar, se podrían cambiar las claves y generaría conflictos.\n",
    "\n",
    "Tipos mutables:\n",
    "- Listas\n",
    "- Diccionarios\n",
    "- Sets\n",
    "\n",
    "Tipos inmutables:\n",
    "- Int\n",
    "- Float\n",
    "- String\n",
    "- Tuplas\n"
   ]
  },
  {
   "cell_type": "code",
   "execution_count": 55,
   "id": "77dd8fa6",
   "metadata": {
    "execution": {
     "iopub.execute_input": "2021-05-20T16:09:29.180688Z",
     "iopub.status.busy": "2021-05-20T16:09:29.180198Z",
     "iopub.status.idle": "2021-05-20T16:09:29.182520Z",
     "shell.execute_reply": "2021-05-20T16:09:29.182902Z"
    },
    "slideshow": {
     "slide_type": "slide"
    }
   },
   "outputs": [
    {
     "data": {
      "text/plain": [
       "{}"
      ]
     },
     "execution_count": 1,
     "metadata": {},
     "output_type": "execute_result"
    }
   ],
   "source": [
    "diccionario = {}\n",
    "diccionario"
   ]
  },
  {
   "cell_type": "code",
   "execution_count": 56,
   "id": "1c1e2dc2",
   "metadata": {
    "execution": {
     "iopub.execute_input": "2021-05-20T16:09:29.186572Z",
     "iopub.status.busy": "2021-05-20T16:09:29.186080Z",
     "iopub.status.idle": "2021-05-20T16:09:29.188382Z",
     "shell.execute_reply": "2021-05-20T16:09:29.188763Z"
    }
   },
   "outputs": [
    {
     "data": {
      "text/plain": [
       "{}"
      ]
     },
     "execution_count": 1,
     "metadata": {},
     "output_type": "execute_result"
    }
   ],
   "source": [
    "diccionario = dict()\n",
    "diccionario"
   ]
  },
  {
   "cell_type": "code",
   "execution_count": 57,
   "id": "6e3b8f68",
   "metadata": {
    "execution": {
     "iopub.execute_input": "2021-05-20T16:09:29.193125Z",
     "iopub.status.busy": "2021-05-20T16:09:29.192103Z",
     "iopub.status.idle": "2021-05-20T16:09:29.194730Z",
     "shell.execute_reply": "2021-05-20T16:09:29.194319Z"
    },
    "slideshow": {
     "slide_type": "slide"
    }
   },
   "outputs": [
    {
     "name": "stdout",
     "output_type": "stream",
     "text": [
      "{'clave1': 'valor1', 2: 'valor2', 'clave3': 3}\n"
     ]
    }
   ],
   "source": [
    "# Cómo agregar cosas al diccionario\n",
    "diccionario['clave1'] = 'valor1'\n",
    "diccionario[2] = 'valor2'\n",
    "diccionario['clave3'] = 3\n",
    "print(diccionario)"
   ]
  },
  {
   "cell_type": "markdown",
   "id": "297fa181",
   "metadata": {},
   "source": [
    "Hay dos formas de obtener valores de un diccionario:\n",
    "\n",
    "```python\n",
    "diccionario[clave]\n",
    "```\n",
    "\n",
    "El cual devuelve el valor si existe la clave suministrada o bien lanza `KeyError` si no existe."
   ]
  },
  {
   "cell_type": "code",
   "execution_count": 58,
   "id": "54a67dc7",
   "metadata": {
    "execution": {
     "iopub.execute_input": "2021-05-20T16:09:29.198452Z",
     "iopub.status.busy": "2021-05-20T16:09:29.197963Z",
     "iopub.status.idle": "2021-05-20T16:09:29.200231Z",
     "shell.execute_reply": "2021-05-20T16:09:29.200613Z"
    }
   },
   "outputs": [
    {
     "data": {
      "text/plain": [
       "'valor1'"
      ]
     },
     "execution_count": 1,
     "metadata": {},
     "output_type": "execute_result"
    }
   ],
   "source": [
    "diccionario['clave1']"
   ]
  },
  {
   "cell_type": "code",
   "execution_count": 59,
   "id": "204eadd0",
   "metadata": {
    "execution": {
     "iopub.execute_input": "2021-05-20T16:09:29.206294Z",
     "iopub.status.busy": "2021-05-20T16:09:29.205807Z",
     "iopub.status.idle": "2021-05-20T16:09:29.208023Z",
     "shell.execute_reply": "2021-05-20T16:09:29.208418Z"
    },
    "tags": [
     "raises-exception"
    ]
   },
   "outputs": [
    {
     "ename": "KeyError",
     "evalue": "'clave1000'",
     "output_type": "error",
     "traceback": [
      "\u001b[0;31m---------------------------------------------------------------------------\u001b[0m",
      "\u001b[0;31mKeyError\u001b[0m                                  Traceback (most recent call last)",
      "\u001b[0;32m<ipython-input-1-41aae9a2e5ed>\u001b[0m in \u001b[0;36m<module>\u001b[0;34m\u001b[0m\n\u001b[0;32m----> 1\u001b[0;31m \u001b[0mdiccionario\u001b[0m\u001b[0;34m[\u001b[0m\u001b[0;34m'clave1000'\u001b[0m\u001b[0;34m]\u001b[0m\u001b[0;34m\u001b[0m\u001b[0;34m\u001b[0m\u001b[0m\n\u001b[0m",
      "\u001b[0;31mKeyError\u001b[0m: 'clave1000'"
     ]
    }
   ],
   "source": [
    "diccionario['clave1000']"
   ]
  },
  {
   "cell_type": "markdown",
   "id": "e6ed1951",
   "metadata": {},
   "source": [
    "La segunda forma es con `get`:"
   ]
  },
  {
   "cell_type": "code",
   "execution_count": 60,
   "id": "b31504af",
   "metadata": {
    "execution": {
     "iopub.execute_input": "2021-05-20T16:09:29.230694Z",
     "iopub.status.busy": "2021-05-20T16:09:29.220423Z",
     "iopub.status.idle": "2021-05-20T16:09:29.258180Z",
     "shell.execute_reply": "2021-05-20T16:09:29.257661Z"
    }
   },
   "outputs": [],
   "source": [
    "diccionario.get?"
   ]
  },
  {
   "cell_type": "code",
   "execution_count": 61,
   "id": "cfb7515c",
   "metadata": {
    "execution": {
     "iopub.execute_input": "2021-05-20T16:09:29.263301Z",
     "iopub.status.busy": "2021-05-20T16:09:29.262110Z",
     "iopub.status.idle": "2021-05-20T16:09:29.264894Z",
     "shell.execute_reply": "2021-05-20T16:09:29.264480Z"
    }
   },
   "outputs": [
    {
     "name": "stdout",
     "output_type": "stream",
     "text": [
      "Help on built-in function get:\n",
      "\n",
      "get(key, default=None, /) method of builtins.dict instance\n",
      "    Return the value for key if key is in the dictionary, else default.\n",
      "\n"
     ]
    }
   ],
   "source": [
    "help(diccionario.get)"
   ]
  },
  {
   "cell_type": "code",
   "execution_count": 62,
   "id": "1a37b0c7",
   "metadata": {
    "execution": {
     "iopub.execute_input": "2021-05-20T16:09:29.269401Z",
     "iopub.status.busy": "2021-05-20T16:09:29.268036Z",
     "iopub.status.idle": "2021-05-20T16:09:29.270953Z",
     "shell.execute_reply": "2021-05-20T16:09:29.270541Z"
    },
    "slideshow": {
     "slide_type": "slide"
    }
   },
   "outputs": [
    {
     "name": "stdout",
     "output_type": "stream",
     "text": [
      "None\n"
     ]
    }
   ],
   "source": [
    "print(diccionario.get('clave1000'))"
   ]
  },
  {
   "cell_type": "code",
   "execution_count": 63,
   "id": "e87e75d1",
   "metadata": {
    "execution": {
     "iopub.execute_input": "2021-05-20T16:09:29.275011Z",
     "iopub.status.busy": "2021-05-20T16:09:29.274009Z",
     "iopub.status.idle": "2021-05-20T16:09:29.276637Z",
     "shell.execute_reply": "2021-05-20T16:09:29.276226Z"
    },
    "slideshow": {
     "slide_type": "slide"
    }
   },
   "outputs": [
    {
     "name": "stdout",
     "output_type": "stream",
     "text": [
      "True\n"
     ]
    }
   ],
   "source": [
    "print('clave1' in diccionario)  # Verifico si la clave está en el diccionario"
   ]
  },
  {
   "cell_type": "code",
   "execution_count": 64,
   "id": "51268771",
   "metadata": {
    "execution": {
     "iopub.execute_input": "2021-05-20T16:09:29.280523Z",
     "iopub.status.busy": "2021-05-20T16:09:29.280031Z",
     "iopub.status.idle": "2021-05-20T16:09:29.282376Z",
     "shell.execute_reply": "2021-05-20T16:09:29.282788Z"
    }
   },
   "outputs": [
    {
     "data": {
      "text/plain": [
       "True"
      ]
     },
     "execution_count": 1,
     "metadata": {},
     "output_type": "execute_result"
    }
   ],
   "source": [
    "l = [1, 2, 3, 4]\n",
    "2 in l"
   ]
  },
  {
   "cell_type": "code",
   "execution_count": 65,
   "id": "db47593b",
   "metadata": {
    "execution": {
     "iopub.execute_input": "2021-05-20T16:09:29.287230Z",
     "iopub.status.busy": "2021-05-20T16:09:29.286243Z",
     "iopub.status.idle": "2021-05-20T16:09:29.288856Z",
     "shell.execute_reply": "2021-05-20T16:09:29.288447Z"
    }
   },
   "outputs": [
    {
     "name": "stdout",
     "output_type": "stream",
     "text": [
      "la clave es clave1 y el valor es valor1\n",
      "la clave es 2 y el valor es valor2\n",
      "la clave es clave3 y el valor es 3\n"
     ]
    }
   ],
   "source": [
    "for clave, valor in diccionario.items():\n",
    "    print(\"la clave es %s y el valor es %s\" % (clave, valor))"
   ]
  },
  {
   "cell_type": "code",
   "execution_count": 66,
   "id": "4beb06f6",
   "metadata": {
    "execution": {
     "iopub.execute_input": "2021-05-20T16:09:29.293289Z",
     "iopub.status.busy": "2021-05-20T16:09:29.292312Z",
     "iopub.status.idle": "2021-05-20T16:09:29.294970Z",
     "shell.execute_reply": "2021-05-20T16:09:29.294553Z"
    }
   },
   "outputs": [
    {
     "name": "stdout",
     "output_type": "stream",
     "text": [
      "la clave es clave1 y el valor es valor1\n",
      "la clave es 2 y el valor es valor2\n",
      "la clave es clave3 y el valor es 3\n"
     ]
    }
   ],
   "source": [
    "for clave, valor in diccionario.items():\n",
    "    print(\"la clave es {} y el valor es {}\".format(clave, valor))"
   ]
  },
  {
   "cell_type": "code",
   "execution_count": 67,
   "id": "8015ef6c",
   "metadata": {
    "execution": {
     "iopub.execute_input": "2021-05-20T16:09:29.299587Z",
     "iopub.status.busy": "2021-05-20T16:09:29.298547Z",
     "iopub.status.idle": "2021-05-20T16:09:29.301193Z",
     "shell.execute_reply": "2021-05-20T16:09:29.300737Z"
    },
    "slideshow": {
     "slide_type": "slide"
    }
   },
   "outputs": [
    {
     "name": "stdout",
     "output_type": "stream",
     "text": [
      "la clave es clave1 y el valor es valor1\n",
      "la clave es 2 y el valor es valor2\n",
      "la clave es clave3 y el valor es 3\n"
     ]
    }
   ],
   "source": [
    "# Cómo iterar un diccionario elemento por elemento\n",
    "for (\n",
    "    clave,\n",
    "    valor,\n",
    ") in (\n",
    "    diccionario.items()\n",
    "):  # diccionario.items() va devolviendo tuplas con el formato (clave,valor)\n",
    "    print(\n",
    "        f\"la clave es {clave} y el valor es {valor}\"\n",
    "    )  # con esta sintaxis se desempaquetan en clave y valor (similar a enumerate)"
   ]
  },
  {
   "cell_type": "code",
   "execution_count": 68,
   "id": "3d6d1c11",
   "metadata": {
    "execution": {
     "iopub.execute_input": "2021-05-20T16:09:29.305456Z",
     "iopub.status.busy": "2021-05-20T16:09:29.304477Z",
     "iopub.status.idle": "2021-05-20T16:09:29.307115Z",
     "shell.execute_reply": "2021-05-20T16:09:29.306698Z"
    },
    "slideshow": {
     "slide_type": "slide"
    }
   },
   "outputs": [
    {
     "name": "stdout",
     "output_type": "stream",
     "text": [
      "clave1\n",
      "2\n",
      "clave3\n"
     ]
    }
   ],
   "source": [
    "for clave in diccionario.keys():\n",
    "    print(clave)"
   ]
  },
  {
   "cell_type": "code",
   "execution_count": 69,
   "id": "15a78102",
   "metadata": {
    "execution": {
     "iopub.execute_input": "2021-05-20T16:09:29.311372Z",
     "iopub.status.busy": "2021-05-20T16:09:29.310382Z",
     "iopub.status.idle": "2021-05-20T16:09:29.313041Z",
     "shell.execute_reply": "2021-05-20T16:09:29.312604Z"
    },
    "slideshow": {
     "slide_type": "slide"
    }
   },
   "outputs": [
    {
     "name": "stdout",
     "output_type": "stream",
     "text": [
      "valor1\n",
      "valor2\n",
      "3\n"
     ]
    }
   ],
   "source": [
    "for valor in diccionario.values():\n",
    "    print(valor)"
   ]
  },
  {
   "cell_type": "markdown",
   "id": "c9b6f1a1",
   "metadata": {},
   "source": [
    "#### Sets\n",
    "\n",
    "Son similares a los diccionarios (en eficiencia) pero se almacenan solo claves, y tienen algunas operaciones particulares.\n",
    "\n",
    "En particular, no pueden tener elementos iguales (pensar que son conjuntos)"
   ]
  },
  {
   "cell_type": "code",
   "execution_count": 70,
   "id": "2d5b113c",
   "metadata": {
    "execution": {
     "iopub.execute_input": "2021-05-20T16:09:29.316151Z",
     "iopub.status.busy": "2021-05-20T16:09:29.315686Z",
     "iopub.status.idle": "2021-05-20T16:09:29.319577Z",
     "shell.execute_reply": "2021-05-20T16:09:29.319157Z"
    }
   },
   "outputs": [],
   "source": [
    "set??"
   ]
  },
  {
   "cell_type": "code",
   "execution_count": 71,
   "id": "69600cea",
   "metadata": {
    "execution": {
     "iopub.execute_input": "2021-05-20T16:09:29.323419Z",
     "iopub.status.busy": "2021-05-20T16:09:29.322932Z",
     "iopub.status.idle": "2021-05-20T16:09:29.325258Z",
     "shell.execute_reply": "2021-05-20T16:09:29.325643Z"
    }
   },
   "outputs": [
    {
     "data": {
      "text/plain": [
       "{1, 2, 3}"
      ]
     },
     "execution_count": 1,
     "metadata": {},
     "output_type": "execute_result"
    }
   ],
   "source": [
    "# Se definen como los diccionarios pero sin hacerlos 'clave:valor', solamente una seguidilla de elementos\n",
    "{1, 2, 2, 3}"
   ]
  },
  {
   "cell_type": "code",
   "execution_count": 72,
   "id": "a854d8c2",
   "metadata": {
    "execution": {
     "iopub.execute_input": "2021-05-20T16:09:29.329591Z",
     "iopub.status.busy": "2021-05-20T16:09:29.329104Z",
     "iopub.status.idle": "2021-05-20T16:09:29.331392Z",
     "shell.execute_reply": "2021-05-20T16:09:29.331776Z"
    }
   },
   "outputs": [
    {
     "data": {
      "text/plain": [
       "{1, 2, 3}"
      ]
     },
     "execution_count": 1,
     "metadata": {},
     "output_type": "execute_result"
    }
   ],
   "source": [
    "set([1, 2, 2, 3])"
   ]
  },
  {
   "cell_type": "markdown",
   "id": "be305456",
   "metadata": {},
   "source": [
    "## Condicionales (if...elif...else)\n",
    "\n",
    "```python\n",
    "if <condición_1>:\n",
    "    <hacer algo_1 si se da la condición_1>\n",
    "elif <condición_2>:\n",
    "    <hacer algo_2 si se da la condición_2>\n",
    "...\n",
    "elif <condición_n>:\n",
    "    <hacer algo_n si se da la condición_n>\n",
    "else:\n",
    "    <hacer otra cosa si no dan las anteriores>\n",
    "```\n",
    "\n",
    "Algo importante para notar es que los bloques se definen por **niveles de identacion**."
   ]
  },
  {
   "cell_type": "code",
   "execution_count": 73,
   "id": "59847572",
   "metadata": {
    "execution": {
     "iopub.execute_input": "2021-05-20T16:09:29.336364Z",
     "iopub.status.busy": "2021-05-20T16:09:29.335415Z",
     "iopub.status.idle": "2021-05-20T16:09:29.338113Z",
     "shell.execute_reply": "2021-05-20T16:09:29.337696Z"
    }
   },
   "outputs": [
    {
     "name": "stdout",
     "output_type": "stream",
     "text": [
      "uno\n"
     ]
    }
   ],
   "source": [
    "v = 1\n",
    "if v == 1:\n",
    "    print(\"uno\")\n",
    "elif v == 2:\n",
    "    print(\"dos\")\n",
    "else:\n",
    "    print(\"ni idea\")\n",
    "    print(v)"
   ]
  },
  {
   "cell_type": "markdown",
   "id": "5a9151d3",
   "metadata": {},
   "source": [
    "## Iteraciones\n",
    "\n",
    "```python\n",
    "while cond:\n",
    "    <codigo>\n",
    "```\n",
    "\n",
    "```python\n",
    "for elemento in iterable:\n",
    "    <codigo>\n",
    "```\n",
    "\n",
    "Para iterar sobre un rango de valores, usamos `range`"
   ]
  },
  {
   "cell_type": "code",
   "execution_count": 74,
   "id": "75ee6eaa",
   "metadata": {
    "execution": {
     "iopub.execute_input": "2021-05-20T16:09:29.342607Z",
     "iopub.status.busy": "2021-05-20T16:09:29.341580Z",
     "iopub.status.idle": "2021-05-20T16:09:29.344167Z",
     "shell.execute_reply": "2021-05-20T16:09:29.343754Z"
    }
   },
   "outputs": [
    {
     "name": "stdout",
     "output_type": "stream",
     "text": [
      "1\n",
      "4\n",
      "7\n",
      "10\n"
     ]
    }
   ],
   "source": [
    "for i in range(1, 11, 3):\n",
    "    print(i)"
   ]
  },
  {
   "cell_type": "markdown",
   "id": "145bd534",
   "metadata": {},
   "source": [
    "## Operadores logicos\n",
    "\n",
    "`not`, `or`, `and`"
   ]
  },
  {
   "cell_type": "code",
   "execution_count": 75,
   "id": "75486184",
   "metadata": {
    "execution": {
     "iopub.execute_input": "2021-05-20T16:09:29.348270Z",
     "iopub.status.busy": "2021-05-20T16:09:29.347267Z",
     "iopub.status.idle": "2021-05-20T16:09:29.349904Z",
     "shell.execute_reply": "2021-05-20T16:09:29.349491Z"
    }
   },
   "outputs": [
    {
     "name": "stdout",
     "output_type": "stream",
     "text": [
      "yay\n"
     ]
    }
   ],
   "source": [
    "if True or False:\n",
    "    print(\"yay\")"
   ]
  },
  {
   "cell_type": "code",
   "execution_count": 76,
   "id": "5cd468fb",
   "metadata": {
    "execution": {
     "iopub.execute_input": "2021-05-20T16:09:29.353580Z",
     "iopub.status.busy": "2021-05-20T16:09:29.353092Z",
     "iopub.status.idle": "2021-05-20T16:09:29.355366Z",
     "shell.execute_reply": "2021-05-20T16:09:29.355746Z"
    }
   },
   "outputs": [
    {
     "data": {
      "text/plain": [
       "False"
      ]
     },
     "execution_count": 1,
     "metadata": {},
     "output_type": "execute_result"
    }
   ],
   "source": [
    "1 == 2"
   ]
  },
  {
   "cell_type": "code",
   "execution_count": 77,
   "id": "ed684c6a",
   "metadata": {
    "execution": {
     "iopub.execute_input": "2021-05-20T16:09:29.359449Z",
     "iopub.status.busy": "2021-05-20T16:09:29.358960Z",
     "iopub.status.idle": "2021-05-20T16:09:29.361254Z",
     "shell.execute_reply": "2021-05-20T16:09:29.361636Z"
    }
   },
   "outputs": [
    {
     "data": {
      "text/plain": [
       "True"
      ]
     },
     "execution_count": 1,
     "metadata": {},
     "output_type": "execute_result"
    }
   ],
   "source": [
    "1 != 2"
   ]
  },
  {
   "cell_type": "markdown",
   "id": "32e964a3",
   "metadata": {
    "slideshow": {
     "slide_type": "slide"
    }
   },
   "source": [
    "## Funciones en Python"
   ]
  },
  {
   "cell_type": "code",
   "execution_count": 78,
   "id": "318b7fd7",
   "metadata": {
    "execution": {
     "iopub.execute_input": "2021-05-20T16:09:29.368244Z",
     "iopub.status.busy": "2021-05-20T16:09:29.367241Z",
     "iopub.status.idle": "2021-05-20T16:09:29.369880Z",
     "shell.execute_reply": "2021-05-20T16:09:29.369466Z"
    },
    "slideshow": {
     "slide_type": "slide"
    }
   },
   "outputs": [
    {
     "name": "stdout",
     "output_type": "stream",
     "text": [
      "True\n",
      "False\n"
     ]
    }
   ],
   "source": [
    "def busqueda_binaria(lista, elemento):\n",
    "    if not lista:\n",
    "        return False\n",
    "    elif len(lista) == 1:\n",
    "        return lista[0] == elemento\n",
    "    mitad = len(lista) // 2  # // es la operación división entera\n",
    "    if lista[mitad] == elemento:\n",
    "        return True\n",
    "    if lista[mitad] > elemento:\n",
    "        return busqueda_binaria(lista[:mitad], elemento)\n",
    "    if lista[mitad] < elemento:\n",
    "        return busqueda_binaria(lista[mitad:], elemento)\n",
    "\n",
    "\n",
    "print(busqueda_binaria([1, 2, 3, 4, 5], 4))\n",
    "print(busqueda_binaria([1, 4, 6, 7, 9, 10], 2))"
   ]
  },
  {
   "cell_type": "code",
   "execution_count": 79,
   "id": "16e1cfe2",
   "metadata": {
    "execution": {
     "iopub.execute_input": "2021-05-20T16:09:29.374364Z",
     "iopub.status.busy": "2021-05-20T16:09:29.373320Z",
     "iopub.status.idle": "2021-05-20T16:09:29.375920Z",
     "shell.execute_reply": "2021-05-20T16:09:29.375504Z"
    }
   },
   "outputs": [
    {
     "name": "stdout",
     "output_type": "stream",
     "text": [
      "(3, 3, 3)\n"
     ]
    }
   ],
   "source": [
    "def a(b):\n",
    "    if a == 1:\n",
    "        print(a)\n",
    "    return (b, b, b)\n",
    "\n",
    "\n",
    "print(a(3))"
   ]
  },
  {
   "cell_type": "code",
   "execution_count": 80,
   "id": "f1b08335",
   "metadata": {
    "execution": {
     "iopub.execute_input": "2021-05-20T16:09:29.380587Z",
     "iopub.status.busy": "2021-05-20T16:09:29.380099Z",
     "iopub.status.idle": "2021-05-20T16:09:29.387719Z",
     "shell.execute_reply": "2021-05-20T16:09:29.388156Z"
    },
    "lines_to_next_cell": 2,
    "slideshow": {
     "slide_type": "slide"
    },
    "tags": [
     "raises-exception"
    ]
   },
   "outputs": [
    {
     "name": "stdout",
     "output_type": "stream",
     "text": [
      "3\n",
      "3.0\n",
      "3.0\n",
      "hola como te va\n",
      "[1, 2, 3, 4, 5]\n"
     ]
    },
    {
     "ename": "TypeError",
     "evalue": "can only concatenate str (not \"int\") to str",
     "output_type": "error",
     "traceback": [
      "\u001b[0;31m---------------------------------------------------------------------------\u001b[0m",
      "\u001b[0;31mTypeError\u001b[0m                                 Traceback (most recent call last)",
      "\u001b[0;32m<ipython-input-1-c2a6a99a90c7>\u001b[0m in \u001b[0;36m<module>\u001b[0;34m\u001b[0m\n\u001b[1;32m      8\u001b[0m \u001b[0mprint\u001b[0m\u001b[0;34m(\u001b[0m\u001b[0msuma\u001b[0m\u001b[0;34m(\u001b[0m\u001b[0;34m\"hola \"\u001b[0m\u001b[0;34m,\u001b[0m \u001b[0;34m\"como te va\"\u001b[0m\u001b[0;34m)\u001b[0m\u001b[0;34m)\u001b[0m\u001b[0;34m\u001b[0m\u001b[0;34m\u001b[0m\u001b[0m\n\u001b[1;32m      9\u001b[0m \u001b[0mprint\u001b[0m\u001b[0;34m(\u001b[0m\u001b[0msuma\u001b[0m\u001b[0;34m(\u001b[0m\u001b[0;34m[\u001b[0m\u001b[0;36m1\u001b[0m\u001b[0;34m,\u001b[0m \u001b[0;36m2\u001b[0m\u001b[0;34m,\u001b[0m \u001b[0;36m3\u001b[0m\u001b[0;34m]\u001b[0m\u001b[0;34m,\u001b[0m \u001b[0;34m[\u001b[0m\u001b[0;36m4\u001b[0m\u001b[0;34m,\u001b[0m \u001b[0;36m5\u001b[0m\u001b[0;34m]\u001b[0m\u001b[0;34m)\u001b[0m\u001b[0;34m)\u001b[0m\u001b[0;34m\u001b[0m\u001b[0;34m\u001b[0m\u001b[0m\n\u001b[0;32m---> 10\u001b[0;31m \u001b[0mprint\u001b[0m\u001b[0;34m(\u001b[0m\u001b[0msuma\u001b[0m\u001b[0;34m(\u001b[0m\u001b[0;34m\"1\"\u001b[0m\u001b[0;34m,\u001b[0m \u001b[0;36m3\u001b[0m\u001b[0;34m)\u001b[0m\u001b[0;34m)\u001b[0m  \u001b[0;31m# Falla\u001b[0m\u001b[0;34m\u001b[0m\u001b[0;34m\u001b[0m\u001b[0m\n\u001b[0m",
      "\u001b[0;32m<ipython-input-1-c2a6a99a90c7>\u001b[0m in \u001b[0;36msuma\u001b[0;34m(a, b)\u001b[0m\n\u001b[1;32m      1\u001b[0m \u001b[0;32mdef\u001b[0m \u001b[0msuma\u001b[0m\u001b[0;34m(\u001b[0m\u001b[0ma\u001b[0m\u001b[0;34m,\u001b[0m \u001b[0mb\u001b[0m\u001b[0;34m)\u001b[0m\u001b[0;34m:\u001b[0m\u001b[0;34m\u001b[0m\u001b[0;34m\u001b[0m\u001b[0m\n\u001b[0;32m----> 2\u001b[0;31m     \u001b[0;32mreturn\u001b[0m \u001b[0ma\u001b[0m \u001b[0;34m+\u001b[0m \u001b[0mb\u001b[0m\u001b[0;34m\u001b[0m\u001b[0;34m\u001b[0m\u001b[0m\n\u001b[0m\u001b[1;32m      3\u001b[0m \u001b[0;34m\u001b[0m\u001b[0m\n\u001b[1;32m      4\u001b[0m \u001b[0;34m\u001b[0m\u001b[0m\n\u001b[1;32m      5\u001b[0m \u001b[0mprint\u001b[0m\u001b[0;34m(\u001b[0m\u001b[0msuma\u001b[0m\u001b[0;34m(\u001b[0m\u001b[0;36m1\u001b[0m\u001b[0;34m,\u001b[0m \u001b[0;36m2\u001b[0m\u001b[0;34m)\u001b[0m\u001b[0;34m)\u001b[0m\u001b[0;34m\u001b[0m\u001b[0;34m\u001b[0m\u001b[0m\n",
      "\u001b[0;31mTypeError\u001b[0m: can only concatenate str (not \"int\") to str"
     ]
    }
   ],
   "source": [
    "def suma(a, b):\n",
    "    return a + b\n",
    "\n",
    "\n",
    "print(suma(1, 2))\n",
    "print(suma(1.0, 2.0))\n",
    "print(suma(1.0, 2))\n",
    "print(suma(\"hola \", \"como te va\"))\n",
    "print(suma([1, 2, 3], [4, 5]))\n",
    "print(suma(\"1\", 3))  # Falla"
   ]
  },
  {
   "cell_type": "code",
   "execution_count": 81,
   "id": "25d8cc33",
   "metadata": {
    "execution": {
     "iopub.execute_input": "2021-05-20T16:09:29.392881Z",
     "iopub.status.busy": "2021-05-20T16:09:29.391540Z",
     "iopub.status.idle": "2021-05-20T16:09:29.394457Z",
     "shell.execute_reply": "2021-05-20T16:09:29.394042Z"
    }
   },
   "outputs": [
    {
     "name": "stdout",
     "output_type": "stream",
     "text": [
      "2.0\n"
     ]
    }
   ],
   "source": [
    "# El valor por default de divisor es 1\n",
    "\n",
    "\n",
    "def division(dividendo, divisor=2):\n",
    "    return dividendo / divisor\n",
    "\n",
    "\n",
    "print(division(4))  # Usa el valor por default"
   ]
  },
  {
   "cell_type": "code",
   "execution_count": 82,
   "id": "be4f260c",
   "metadata": {
    "execution": {
     "iopub.execute_input": "2021-05-20T16:09:29.400869Z",
     "iopub.status.busy": "2021-05-20T16:09:29.397306Z",
     "iopub.status.idle": "2021-05-20T16:09:29.403266Z",
     "shell.execute_reply": "2021-05-20T16:09:29.403682Z"
    },
    "tags": [
     "raises-exception"
    ]
   },
   "outputs": [
    {
     "name": "stdout",
     "output_type": "stream",
     "text": [
      "0.5\n",
      "0.5\n"
     ]
    },
    {
     "ename": "TypeError",
     "evalue": "division() missing 1 required positional argument: 'dividendo'",
     "output_type": "error",
     "traceback": [
      "\u001b[0;31m---------------------------------------------------------------------------\u001b[0m",
      "\u001b[0;31mTypeError\u001b[0m                                 Traceback (most recent call last)",
      "\u001b[0;32m<ipython-input-1-34eff3833138>\u001b[0m in \u001b[0;36m<module>\u001b[0;34m\u001b[0m\n\u001b[1;32m      1\u001b[0m \u001b[0mprint\u001b[0m\u001b[0;34m(\u001b[0m\u001b[0mdivision\u001b[0m\u001b[0;34m(\u001b[0m\u001b[0;36m1\u001b[0m\u001b[0;34m,\u001b[0m \u001b[0;36m2\u001b[0m\u001b[0;34m)\u001b[0m\u001b[0;34m)\u001b[0m  \u001b[0;31m# Parámetros por orden\u001b[0m\u001b[0;34m\u001b[0m\u001b[0;34m\u001b[0m\u001b[0m\n\u001b[1;32m      2\u001b[0m \u001b[0mprint\u001b[0m\u001b[0;34m(\u001b[0m\u001b[0mdivision\u001b[0m\u001b[0;34m(\u001b[0m\u001b[0mdividendo\u001b[0m\u001b[0;34m=\u001b[0m\u001b[0;36m1\u001b[0m\u001b[0;34m,\u001b[0m \u001b[0mdivisor\u001b[0m\u001b[0;34m=\u001b[0m\u001b[0;36m2\u001b[0m\u001b[0;34m)\u001b[0m\u001b[0;34m)\u001b[0m  \u001b[0;31m# Parámetros por nombre\u001b[0m\u001b[0;34m\u001b[0m\u001b[0;34m\u001b[0m\u001b[0m\n\u001b[0;32m----> 3\u001b[0;31m \u001b[0mprint\u001b[0m\u001b[0;34m(\u001b[0m\u001b[0mdivision\u001b[0m\u001b[0;34m(\u001b[0m\u001b[0mdivisor\u001b[0m\u001b[0;34m=\u001b[0m\u001b[0;36m2\u001b[0m\u001b[0;34m)\u001b[0m\u001b[0;34m)\u001b[0m\u001b[0;34m\u001b[0m\u001b[0;34m\u001b[0m\u001b[0m\n\u001b[0m",
      "\u001b[0;31mTypeError\u001b[0m: division() missing 1 required positional argument: 'dividendo'"
     ]
    }
   ],
   "source": [
    "print(division(1, 2))  # Parámetros por orden\n",
    "print(division(dividendo=1, divisor=2))  # Parámetros por nombre\n",
    "print(division(divisor=2))"
   ]
  },
  {
   "cell_type": "code",
   "execution_count": 83,
   "id": "0d2c260a",
   "metadata": {
    "execution": {
     "iopub.execute_input": "2021-05-20T16:09:29.407859Z",
     "iopub.status.busy": "2021-05-20T16:09:29.406842Z",
     "iopub.status.idle": "2021-05-20T16:09:29.409453Z",
     "shell.execute_reply": "2021-05-20T16:09:29.409027Z"
    }
   },
   "outputs": [
    {
     "name": "stdout",
     "output_type": "stream",
     "text": [
      "0.5\n"
     ]
    }
   ],
   "source": [
    "print(division(divisor=2, dividendo=1))"
   ]
  },
  {
   "cell_type": "code",
   "execution_count": 84,
   "id": "c744c306",
   "metadata": {
    "execution": {
     "iopub.execute_input": "2021-05-20T16:09:29.414714Z",
     "iopub.status.busy": "2021-05-20T16:09:29.413687Z",
     "iopub.status.idle": "2021-05-20T16:09:29.416279Z",
     "shell.execute_reply": "2021-05-20T16:09:29.415867Z"
    }
   },
   "outputs": [
    {
     "name": "stdout",
     "output_type": "stream",
     "text": [
      "['a', 'b', 'c']\n",
      "[1, 2, 3]\n",
      "['hola', ' don', ' pepito']\n",
      "hola -  don -  pepito\n"
     ]
    }
   ],
   "source": [
    "# Funciones básicas ya en el lenguaje\n",
    "# Hechas para funcionar para distintos tipos\n",
    "\n",
    "string_ordenado = sorted('bca')\n",
    "print(string_ordenado)\n",
    "\n",
    "lista_ordenada = sorted([1, 3, 2])\n",
    "print(lista_ordenada)\n",
    "\n",
    "separadas = \"hola, don, pepito\".split(\",\")\n",
    "print(separadas)\n",
    "unidas = \" - \".join(separadas)\n",
    "print(unidas)"
   ]
  },
  {
   "cell_type": "markdown",
   "id": "ba0c3800",
   "metadata": {},
   "source": [
    "## Módulos\n",
    "\n",
    "Para incluir alguna biblioteca de funciones se usa `import`. Pueden ser cosas ya predefinidas en Python (`math`, `random`, etc), nombres de archivos en nuestro directorio (por ejemplo, para `mimodulo.py` ponemos `import mimodulo`) o bibliotecas instaladas por el usuario"
   ]
  },
  {
   "cell_type": "code",
   "execution_count": 85,
   "id": "4059e9cf",
   "metadata": {
    "execution": {
     "iopub.execute_input": "2021-05-20T16:09:29.420396Z",
     "iopub.status.busy": "2021-05-20T16:09:29.419357Z",
     "iopub.status.idle": "2021-05-20T16:09:29.421987Z",
     "shell.execute_reply": "2021-05-20T16:09:29.421573Z"
    }
   },
   "outputs": [
    {
     "name": "stdout",
     "output_type": "stream",
     "text": [
      "3.141592653589793\n"
     ]
    }
   ],
   "source": [
    "import math\n",
    "\n",
    "print(math.pi)"
   ]
  },
  {
   "cell_type": "code",
   "execution_count": 86,
   "id": "66f5f213",
   "metadata": {
    "execution": {
     "iopub.execute_input": "2021-05-20T16:09:29.426158Z",
     "iopub.status.busy": "2021-05-20T16:09:29.425163Z",
     "iopub.status.idle": "2021-05-20T16:09:29.427346Z",
     "shell.execute_reply": "2021-05-20T16:09:29.427707Z"
    }
   },
   "outputs": [
    {
     "name": "stdout",
     "output_type": "stream",
     "text": [
      "3.141592653589793 2.718281828459045\n"
     ]
    }
   ],
   "source": [
    "from math import pi, e\n",
    "\n",
    "print(pi, e)"
   ]
  },
  {
   "cell_type": "code",
   "execution_count": 87,
   "id": "94383472",
   "metadata": {
    "execution": {
     "iopub.execute_input": "2021-05-20T16:09:29.431524Z",
     "iopub.status.busy": "2021-05-20T16:09:29.431032Z",
     "iopub.status.idle": "2021-05-20T16:09:29.433368Z",
     "shell.execute_reply": "2021-05-20T16:09:29.433751Z"
    }
   },
   "outputs": [
    {
     "data": {
      "text/plain": [
       "2"
      ]
     },
     "execution_count": 1,
     "metadata": {},
     "output_type": "execute_result"
    }
   ],
   "source": [
    "math.gcd(56, 78)"
   ]
  },
  {
   "cell_type": "markdown",
   "id": "ce77ad96",
   "metadata": {},
   "source": [
    "## Manejo de excepciones\n",
    "\n",
    "Se pueden encapsular errores esperados en un bloque 'try/except' para evitar cortar el flujo del programa"
   ]
  },
  {
   "cell_type": "code",
   "execution_count": 88,
   "id": "6b1c4e79",
   "metadata": {
    "execution": {
     "iopub.execute_input": "2021-05-20T16:09:29.440828Z",
     "iopub.status.busy": "2021-05-20T16:09:29.436200Z",
     "iopub.status.idle": "2021-05-20T16:09:29.443169Z",
     "shell.execute_reply": "2021-05-20T16:09:29.442751Z"
    },
    "tags": [
     "raises-exception"
    ]
   },
   "outputs": [
    {
     "ename": "ZeroDivisionError",
     "evalue": "division by zero",
     "output_type": "error",
     "traceback": [
      "\u001b[0;31m---------------------------------------------------------------------------\u001b[0m",
      "\u001b[0;31mZeroDivisionError\u001b[0m                         Traceback (most recent call last)",
      "\u001b[0;32m<ipython-input-1-f031f77b1a55>\u001b[0m in \u001b[0;36m<module>\u001b[0;34m\u001b[0m\n\u001b[0;32m----> 1\u001b[0;31m \u001b[0mdivision\u001b[0m\u001b[0;34m(\u001b[0m\u001b[0;36m1\u001b[0m\u001b[0;34m,\u001b[0m \u001b[0;36m0\u001b[0m\u001b[0;34m)\u001b[0m  \u001b[0;31m# No se puede dividir por cero\u001b[0m\u001b[0;34m\u001b[0m\u001b[0;34m\u001b[0m\u001b[0m\n\u001b[0m",
      "\u001b[0;32m<ipython-input-1-0d991d7de762>\u001b[0m in \u001b[0;36mdivision\u001b[0;34m(dividendo, divisor)\u001b[0m\n\u001b[1;32m      3\u001b[0m \u001b[0;34m\u001b[0m\u001b[0m\n\u001b[1;32m      4\u001b[0m \u001b[0;32mdef\u001b[0m \u001b[0mdivision\u001b[0m\u001b[0;34m(\u001b[0m\u001b[0mdividendo\u001b[0m\u001b[0;34m,\u001b[0m \u001b[0mdivisor\u001b[0m\u001b[0;34m=\u001b[0m\u001b[0;36m2\u001b[0m\u001b[0;34m)\u001b[0m\u001b[0;34m:\u001b[0m\u001b[0;34m\u001b[0m\u001b[0;34m\u001b[0m\u001b[0m\n\u001b[0;32m----> 5\u001b[0;31m     \u001b[0;32mreturn\u001b[0m \u001b[0mdividendo\u001b[0m \u001b[0;34m/\u001b[0m \u001b[0mdivisor\u001b[0m\u001b[0;34m\u001b[0m\u001b[0;34m\u001b[0m\u001b[0m\n\u001b[0m\u001b[1;32m      6\u001b[0m \u001b[0;34m\u001b[0m\u001b[0m\n\u001b[1;32m      7\u001b[0m \u001b[0;34m\u001b[0m\u001b[0m\n",
      "\u001b[0;31mZeroDivisionError\u001b[0m: division by zero"
     ]
    }
   ],
   "source": [
    "division(1, 0)  # No se puede dividir por cero"
   ]
  },
  {
   "cell_type": "code",
   "execution_count": 89,
   "id": "5f73e9ad",
   "metadata": {
    "execution": {
     "iopub.execute_input": "2021-05-20T16:09:29.447838Z",
     "iopub.status.busy": "2021-05-20T16:09:29.446819Z",
     "iopub.status.idle": "2021-05-20T16:09:29.449440Z",
     "shell.execute_reply": "2021-05-20T16:09:29.449020Z"
    }
   },
   "outputs": [
    {
     "name": "stdout",
     "output_type": "stream",
     "text": [
      "No se puede dividir por cero, ojo! division by zero\n",
      "1\n"
     ]
    }
   ],
   "source": [
    "try:\n",
    "    division(1, 0)\n",
    "except (ZeroDivisionError, TypeError) as e:\n",
    "    print('No se puede dividir por cero, ojo!', e)\n",
    "finally:\n",
    "    print(1)"
   ]
  },
  {
   "cell_type": "markdown",
   "id": "8d0aba5a",
   "metadata": {
    "slideshow": {
     "slide_type": "slide"
    }
   },
   "source": [
    "## Lectura y escritura de archivos"
   ]
  },
  {
   "cell_type": "code",
   "execution_count": 90,
   "id": "773eb887",
   "metadata": {
    "execution": {
     "iopub.execute_input": "2021-05-20T16:09:29.453911Z",
     "iopub.status.busy": "2021-05-20T16:09:29.453413Z",
     "iopub.status.idle": "2021-05-20T16:09:29.455649Z",
     "shell.execute_reply": "2021-05-20T16:09:29.456030Z"
    },
    "slideshow": {
     "slide_type": "slide"
    }
   },
   "outputs": [
    {
     "name": "stdout",
     "output_type": "stream",
     "text": [
      "<_io.TextIOWrapper name='archivo.csv' mode='w' encoding='UTF-8'>\n"
     ]
    }
   ],
   "source": [
    "import random\n",
    "\n",
    "with open(\n",
    "    'archivo.csv', 'w'\n",
    ") as archivo:  # Al usar esta sintaxis no es necesario hacer close\n",
    "    archivo.write(\"Alumno, nota\\n\")\n",
    "    # Tambien de forma similar al fprintf se puede hacer:\n",
    "    # print(\"Alumno, nota\\n\", file=archivo)\n",
    "    for i in range(0, 10):\n",
    "        archivo.write(f\"{i},{random.randrange(0,10)}\\n\")\n",
    "\n",
    "print(archivo)  # Comentario aclaratorio:\n",
    "# Las variables definidas en un determinado scope siguen existiendo por fuera del mismo.\n",
    "# Se debe tener cuidado con esto, ya que nada garantiza que por fuera el valor sea el esperado."
   ]
  },
  {
   "cell_type": "code",
   "execution_count": 91,
   "id": "3f3d8838",
   "metadata": {
    "execution": {
     "iopub.execute_input": "2021-05-20T16:09:29.460758Z",
     "iopub.status.busy": "2021-05-20T16:09:29.460270Z",
     "iopub.status.idle": "2021-05-20T16:09:29.462562Z",
     "shell.execute_reply": "2021-05-20T16:09:29.462944Z"
    },
    "slideshow": {
     "slide_type": "slide"
    }
   },
   "outputs": [
    {
     "name": "stdout",
     "output_type": "stream",
     "text": [
      "Alumno, nota\n",
      "0,1\n",
      "1,8\n",
      "2,6\n",
      "3,0\n",
      "4,4\n",
      "5,3\n",
      "6,5\n",
      "7,4\n",
      "8,8\n",
      "9,1\n"
     ]
    }
   ],
   "source": [
    "with open('archivo.csv', 'r') as f:\n",
    "    for linea in f:\n",
    "        print(linea.strip())"
   ]
  },
  {
   "cell_type": "code",
   "execution_count": 92,
   "id": "476b7b31",
   "metadata": {
    "execution": {
     "iopub.execute_input": "2021-05-20T16:09:29.466652Z",
     "iopub.status.busy": "2021-05-20T16:09:29.466156Z",
     "iopub.status.idle": "2021-05-20T16:09:29.468390Z",
     "shell.execute_reply": "2021-05-20T16:09:29.468771Z"
    }
   },
   "outputs": [
    {
     "name": "stdout",
     "output_type": "stream",
     "text": [
      "Alumno, nota\n",
      "0,1\n",
      "1,8\n",
      "2,6\n",
      "3,0\n",
      "4,4\n",
      "5,3\n",
      "6,5\n",
      "7,4\n",
      "8,8\n",
      "9,1\n",
      "\n"
     ]
    }
   ],
   "source": [
    "with open('archivo.csv', 'r') as f:\n",
    "    print(f.read())"
   ]
  },
  {
   "cell_type": "code",
   "execution_count": 93,
   "id": "c9593874",
   "metadata": {
    "execution": {
     "iopub.execute_input": "2021-05-20T16:09:29.472043Z",
     "iopub.status.busy": "2021-05-20T16:09:29.471554Z",
     "iopub.status.idle": "2021-05-20T16:09:29.473796Z",
     "shell.execute_reply": "2021-05-20T16:09:29.473385Z"
    }
   },
   "outputs": [],
   "source": [
    "f = open('archivo.csv', 'w')\n",
    "f.write(\"algo, algo\")\n",
    "f.close()"
   ]
  },
  {
   "cell_type": "markdown",
   "id": "38f1af44",
   "metadata": {
    "slideshow": {
     "slide_type": "slide"
    }
   },
   "source": [
    "## Objetos\n",
    "\n",
    "Los objetos tienen metodos y atributos:\n",
    "- Atributos: equivalentes a variables.\n",
    "- Métodos: equivalentes a las primitivas."
   ]
  },
  {
   "cell_type": "markdown",
   "id": "952c3966",
   "metadata": {
    "slideshow": {
     "slide_type": "slide"
    }
   },
   "source": [
    "### Cómo creo una clase"
   ]
  },
  {
   "cell_type": "code",
   "execution_count": 94,
   "id": "ba5bb5c9",
   "metadata": {
    "execution": {
     "iopub.execute_input": "2021-05-20T16:09:29.479323Z",
     "iopub.status.busy": "2021-05-20T16:09:29.478316Z",
     "iopub.status.idle": "2021-05-20T16:09:29.479942Z",
     "shell.execute_reply": "2021-05-20T16:09:29.480326Z"
    },
    "slideshow": {
     "slide_type": "slide"
    }
   },
   "outputs": [],
   "source": [
    "class Nodo(object):\n",
    "    def __init__(self, dato, siguiente=None):\n",
    "        self._dato = dato\n",
    "        self._siguiente = siguiente\n",
    "\n",
    "    @property\n",
    "    def dato(self):\n",
    "        return self._dato\n",
    "\n",
    "    @property\n",
    "    def proximo(self):\n",
    "        return self._siguiente\n",
    "\n",
    "    @proximo.setter\n",
    "    def proximo(self, siguiente):\n",
    "        self._siguiente = siguiente\n",
    "\n",
    "    def __repr__(self):\n",
    "        return str(self.dato)\n",
    "\n",
    "    def __str__(self):\n",
    "        return str(self.dato)"
   ]
  },
  {
   "cell_type": "code",
   "execution_count": 95,
   "id": "c9a33b9a",
   "metadata": {
    "execution": {
     "iopub.execute_input": "2021-05-20T16:09:29.484388Z",
     "iopub.status.busy": "2021-05-20T16:09:29.483382Z",
     "iopub.status.idle": "2021-05-20T16:09:29.486092Z",
     "shell.execute_reply": "2021-05-20T16:09:29.485653Z"
    },
    "slideshow": {
     "slide_type": "slide"
    }
   },
   "outputs": [
    {
     "name": "stdout",
     "output_type": "stream",
     "text": [
      "hola\n"
     ]
    }
   ],
   "source": [
    "nodo = Nodo(\"hola\")\n",
    "print(nodo)"
   ]
  },
  {
   "cell_type": "code",
   "execution_count": 96,
   "id": "df7987ca",
   "metadata": {
    "execution": {
     "iopub.execute_input": "2021-05-20T16:09:29.490274Z",
     "iopub.status.busy": "2021-05-20T16:09:29.489206Z",
     "iopub.status.idle": "2021-05-20T16:09:29.491846Z",
     "shell.execute_reply": "2021-05-20T16:09:29.491431Z"
    },
    "slideshow": {
     "slide_type": "slide"
    }
   },
   "outputs": [
    {
     "name": "stdout",
     "output_type": "stream",
     "text": [
      "[hola, lala]\n"
     ]
    }
   ],
   "source": [
    "nodo2 = Nodo(\"lala\")\n",
    "print([nodo, nodo2])"
   ]
  },
  {
   "cell_type": "code",
   "execution_count": 97,
   "id": "e933df44",
   "metadata": {
    "execution": {
     "iopub.execute_input": "2021-05-20T16:09:29.495857Z",
     "iopub.status.busy": "2021-05-20T16:09:29.494867Z",
     "iopub.status.idle": "2021-05-20T16:09:29.497507Z",
     "shell.execute_reply": "2021-05-20T16:09:29.497105Z"
    },
    "slideshow": {
     "slide_type": "slide"
    }
   },
   "outputs": [
    {
     "name": "stdout",
     "output_type": "stream",
     "text": [
      "hola\n"
     ]
    }
   ],
   "source": [
    "nodo3 = nodo.dato\n",
    "print(nodo3)"
   ]
  },
  {
   "cell_type": "markdown",
   "id": "1f169547",
   "metadata": {
    "slideshow": {
     "slide_type": "slide"
    }
   },
   "source": [
    "### Ejemplo: Lista Enlazada"
   ]
  },
  {
   "cell_type": "code",
   "execution_count": 98,
   "id": "ddc93dac",
   "metadata": {
    "execution": {
     "iopub.execute_input": "2021-05-20T16:09:29.506329Z",
     "iopub.status.busy": "2021-05-20T16:09:29.505838Z",
     "iopub.status.idle": "2021-05-20T16:09:29.509185Z",
     "shell.execute_reply": "2021-05-20T16:09:29.508679Z"
    },
    "slideshow": {
     "slide_type": "slide"
    }
   },
   "outputs": [],
   "source": [
    "class ListaEnlazada(object):\n",
    "    def __init__(self):\n",
    "        self._primero = None\n",
    "        self._ultimo = None\n",
    "        self._largo = 0\n",
    "\n",
    "    def __len__(self):\n",
    "        return self._largo\n",
    "\n",
    "    def insertar_al_principio(self, dato):\n",
    "        nodo = Nodo(dato, self._primero)\n",
    "        self._primero = nodo\n",
    "        self._largo += 1\n",
    "        if self._largo == 1:\n",
    "            self._ultimo = nodo\n",
    "\n",
    "    def insertar_al_final(self, dato):\n",
    "        if self._largo != 0:\n",
    "            nodo = Nodo(dato)\n",
    "            nodo_anterior = self._ultimo\n",
    "            nodo_anterior._siguiente = nodo\n",
    "            self._ultimo = nodo\n",
    "            self._largo += 1\n",
    "        else:\n",
    "            self.insertar_al_principio(dato)\n",
    "\n",
    "    @property\n",
    "    def primero(self):\n",
    "        return self._primero.dato\n",
    "\n",
    "    def borrar_primero(self):\n",
    "        dato = self.primero.dato\n",
    "        self._primero = self.primero.siguiente\n",
    "        self._largo -= 1\n",
    "        if self._largo == 0:\n",
    "            self._ultimo = None\n",
    "        return dato\n",
    "\n",
    "    def __str__(self):\n",
    "        datos = []\n",
    "        nodo_actual = self._primero\n",
    "        while nodo_actual:\n",
    "            datos.append(nodo_actual.dato)\n",
    "            nodo_actual = nodo_actual.proximo\n",
    "        return \" -> \".join(datos)\n",
    "\n",
    "    def __repr__(self):\n",
    "        return self.__str__()"
   ]
  },
  {
   "cell_type": "code",
   "execution_count": 99,
   "id": "83841446",
   "metadata": {
    "execution": {
     "iopub.execute_input": "2021-05-20T16:09:29.512911Z",
     "iopub.status.busy": "2021-05-20T16:09:29.512440Z",
     "iopub.status.idle": "2021-05-20T16:09:29.515781Z",
     "shell.execute_reply": "2021-05-20T16:09:29.516146Z"
    },
    "slideshow": {
     "slide_type": "slide"
    }
   },
   "outputs": [
    {
     "data": {
      "text/plain": [
       "2"
      ]
     },
     "execution_count": 1,
     "metadata": {},
     "output_type": "execute_result"
    }
   ],
   "source": [
    "lista = ListaEnlazada()\n",
    "lista.insertar_al_principio(\"Primer Dato\")\n",
    "lista.insertar_al_principio(\"Primer primer Dato\")\n",
    "len(lista)"
   ]
  },
  {
   "cell_type": "code",
   "execution_count": 100,
   "id": "1ebe7ff6",
   "metadata": {
    "execution": {
     "iopub.execute_input": "2021-05-20T16:09:29.520052Z",
     "iopub.status.busy": "2021-05-20T16:09:29.519119Z",
     "iopub.status.idle": "2021-05-20T16:09:29.522159Z",
     "shell.execute_reply": "2021-05-20T16:09:29.522542Z"
    }
   },
   "outputs": [
    {
     "data": {
      "text/plain": [
       "Primer primer Dato -> Primer Dato"
      ]
     },
     "execution_count": 1,
     "metadata": {},
     "output_type": "execute_result"
    }
   ],
   "source": [
    "lista"
   ]
  },
  {
   "cell_type": "code",
   "execution_count": 101,
   "id": "d5a2d8b1",
   "metadata": {
    "execution": {
     "iopub.execute_input": "2021-05-20T16:09:29.528263Z",
     "iopub.status.busy": "2021-05-20T16:09:29.525687Z",
     "iopub.status.idle": "2021-05-20T16:09:29.529875Z",
     "shell.execute_reply": "2021-05-20T16:09:29.529457Z"
    },
    "slideshow": {
     "slide_type": "slide"
    }
   },
   "outputs": [
    {
     "name": "stdout",
     "output_type": "stream",
     "text": [
      "Primer primer Dato\n"
     ]
    }
   ],
   "source": [
    "elemento = lista.primero\n",
    "print(elemento)"
   ]
  },
  {
   "cell_type": "markdown",
   "id": "16c1085a",
   "metadata": {},
   "source": [
    "## Recursos\n",
    "\n",
    "* [Taller de Python de Algoritmos II](https://github.com/algoritmos-rw/algo2_apuntes)\n",
    "\n",
    "* [Documentación de Python 3](https://docs.python.org/3/tutorial/)\n",
    "\n",
    "* [Apunte de Algoritmos y Programación I](https://algoritmos1rw.ddns.net/material)\n",
    "\n",
    "* [Automate the Boring Stuff with Python](http://automatetheboringstuff.com/)\n",
    "\n",
    "* [Curso Python](https://pythoncurso.github.io)\n",
    "\n",
    "* [Python Tutor](http://pythontutor.com/)\n",
    "\n",
    "* [Learn Python3 in Y minutes](https://learnxinyminutes.com/docs/python3/)\n",
    "\n",
    "* [Bibliografía de Algoritmos y Programación I](https://algoritmos1rw.ddns.net/bibliografia)"
   ]
  }
 ],
 "metadata": {
  "jupytext": {
   "encoding": "# -*- coding: utf-8 -*-",
   "formats": "ipynb,py:light"
  },
  "kernelspec": {
   "display_name": "Python 3 (venv)",
   "language": "python",
   "name": "python3"
  },
  "language_info": {
   "codemirror_mode": {
    "name": "ipython",
    "version": 3
   },
   "file_extension": ".py",
   "mimetype": "text/x-python",
   "name": "python",
   "nbconvert_exporter": "python",
   "pygments_lexer": "ipython3",
   "version": "3.7.10"
  }
 },
 "nbformat": 4,
 "nbformat_minor": 5
}
