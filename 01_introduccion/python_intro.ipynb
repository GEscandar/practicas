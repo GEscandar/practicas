{
 "cells": [
  {
   "cell_type": "markdown",
   "id": "center-hartford",
   "metadata": {},
   "source": [
    "# Python"
   ]
  },
  {
   "cell_type": "markdown",
   "id": "signed-friendly",
   "metadata": {
    "slideshow": {
     "slide_type": "slide"
    }
   },
   "source": [
    "## Un poco de Historia"
   ]
  },
  {
   "cell_type": "markdown",
   "id": "joint-registrar",
   "metadata": {
    "slideshow": {
     "slide_type": "subslide"
    }
   },
   "source": [
    "Python fue creado a finales de los años 80 por un programador holandés llamado **Guido van Rossum**,\n",
    "quien sigue siendo aún hoy el líder del desarrollo del lenguaje.\n",
    "\n",
    "(Edit julio 2018: [ya no más](https://www.mail-archive.com/python-committers@python.org/msg05628.html))"
   ]
  },
  {
   "cell_type": "markdown",
   "id": "protected-italian",
   "metadata": {
    "slideshow": {
     "slide_type": "subslide"
    }
   },
   "source": [
    "El nombre del lenguaje proviene de los humoristas británicos Monty Python.\n",
    "\n",
    ">*\"I chose Python as a working title for the project, being in a slightly irreverent mood (and a big fan of Monty Python's Flying Circus).\"*"
   ]
  },
  {
   "cell_type": "markdown",
   "id": "czech-senate",
   "metadata": {
    "slideshow": {
     "slide_type": "slide"
    }
   },
   "source": [
    "## Caracteristicas\n",
    "\n",
    "- Interpretado\n",
    "- Tipado dinamico\n",
    "- Multiparadigma\n",
    "- Alto nivel\n",
    "- Tiene un recolector de basura (no hay malloc, free, realloc, etc)"
   ]
  },
  {
   "cell_type": "markdown",
   "id": "precise-constraint",
   "metadata": {},
   "source": [
    "## ¿Cómo empezar?\n",
    "\n",
    "* Al ser un lenguaje *interpretado*, se puede ir escribiendo a medida que se ejecuta, sin necesidad de compilar de antemano! Solamente hace falta escribir `python` o `python3` en una terminal para empezar\n",
    "\n",
    "* También, permite escribir archivos y correrlos. Crear un archivo con extensión `.py` y luego correr `python miarchivo.py` en laterminal"
   ]
  },
  {
   "cell_type": "markdown",
   "id": "dutch-miniature",
   "metadata": {
    "slideshow": {
     "slide_type": "slide"
    }
   },
   "source": [
    "## El Zen de Python"
   ]
  },
  {
   "cell_type": "code",
   "execution_count": 1,
   "id": "broadband-nerve",
   "metadata": {
    "execution": {
     "iopub.execute_input": "2021-02-08T22:11:54.420683Z",
     "iopub.status.busy": "2021-02-08T22:11:54.419919Z",
     "iopub.status.idle": "2021-02-08T22:11:54.482514Z",
     "shell.execute_reply": "2021-02-08T22:11:54.481769Z"
    },
    "slideshow": {
     "slide_type": "slide"
    }
   },
   "outputs": [
    {
     "name": "stdout",
     "output_type": "stream",
     "text": [
      "The Zen of Python, by Tim Peters\n",
      "\n",
      "Beautiful is better than ugly.\n",
      "Explicit is better than implicit.\n",
      "Simple is better than complex.\n",
      "Complex is better than complicated.\n",
      "Flat is better than nested.\n",
      "Sparse is better than dense.\n",
      "Readability counts.\n",
      "Special cases aren't special enough to break the rules.\n",
      "Although practicality beats purity.\n",
      "Errors should never pass silently.\n",
      "Unless explicitly silenced.\n",
      "In the face of ambiguity, refuse the temptation to guess.\n",
      "There should be one-- and preferably only one --obvious way to do it.\n",
      "Although that way may not be obvious at first unless you're Dutch.\n",
      "Now is better than never.\n",
      "Although never is often better than *right* now.\n",
      "If the implementation is hard to explain, it's a bad idea.\n",
      "If the implementation is easy to explain, it may be a good idea.\n",
      "Namespaces are one honking great idea -- let's do more of those!\n"
     ]
    }
   ],
   "source": [
    "import this"
   ]
  },
  {
   "cell_type": "markdown",
   "id": "underlying-charlotte",
   "metadata": {
    "slideshow": {
     "slide_type": "slide"
    }
   },
   "source": [
    "## Conocimientos Básicos de Python: Variables y Tipos"
   ]
  },
  {
   "cell_type": "code",
   "execution_count": 2,
   "id": "logical-chambers",
   "metadata": {
    "execution": {
     "iopub.execute_input": "2021-02-08T22:11:54.488684Z",
     "iopub.status.busy": "2021-02-08T22:11:54.487334Z",
     "iopub.status.idle": "2021-02-08T22:11:54.490564Z",
     "shell.execute_reply": "2021-02-08T22:11:54.490076Z"
    },
    "slideshow": {
     "slide_type": "slide"
    }
   },
   "outputs": [
    {
     "name": "stdout",
     "output_type": "stream",
     "text": [
      "Hello World!\n"
     ]
    }
   ],
   "source": [
    "# Este es un comentario\n",
    "\n",
    "print(\"Hello World!\")"
   ]
  },
  {
   "cell_type": "markdown",
   "id": "revolutionary-cliff",
   "metadata": {},
   "source": [
    "Los strings en python puden escribirse tanto con comillas simples (`'`) como comillas dobles (`\"`). Normalmente vemos texto entre comillas triples para escribir _docstrings_, segun la guia de estilo de Python, el PEP8."
   ]
  },
  {
   "cell_type": "code",
   "execution_count": 3,
   "id": "sweet-brand",
   "metadata": {
    "execution": {
     "iopub.execute_input": "2021-02-08T22:11:54.503438Z",
     "iopub.status.busy": "2021-02-08T22:11:54.501918Z",
     "iopub.status.idle": "2021-02-08T22:11:54.505541Z",
     "shell.execute_reply": "2021-02-08T22:11:54.505004Z"
    }
   },
   "outputs": [
    {
     "data": {
      "text/plain": [
       "'Esto es un docstring.\\n'"
      ]
     },
     "execution_count": 1,
     "metadata": {},
     "output_type": "execute_result"
    }
   ],
   "source": [
    "\"\"\"Esto es un docstring.\n",
    "\"\"\""
   ]
  },
  {
   "cell_type": "markdown",
   "id": "joint-stock",
   "metadata": {},
   "source": [
    "### Declaracion de variables"
   ]
  },
  {
   "cell_type": "code",
   "execution_count": 4,
   "id": "authorized-manchester",
   "metadata": {
    "execution": {
     "iopub.execute_input": "2021-02-08T22:11:54.511082Z",
     "iopub.status.busy": "2021-02-08T22:11:54.509855Z",
     "iopub.status.idle": "2021-02-08T22:11:54.512979Z",
     "shell.execute_reply": "2021-02-08T22:11:54.512475Z"
    }
   },
   "outputs": [
    {
     "name": "stdout",
     "output_type": "stream",
     "text": [
      "Hola\n"
     ]
    }
   ],
   "source": [
    "string = 'Hola'\n",
    "print(string)"
   ]
  },
  {
   "cell_type": "code",
   "execution_count": 5,
   "id": "swedish-tulsa",
   "metadata": {
    "execution": {
     "iopub.execute_input": "2021-02-08T22:11:54.518779Z",
     "iopub.status.busy": "2021-02-08T22:11:54.517887Z",
     "iopub.status.idle": "2021-02-08T22:11:54.520690Z",
     "shell.execute_reply": "2021-02-08T22:11:54.520189Z"
    }
   },
   "outputs": [
    {
     "name": "stdout",
     "output_type": "stream",
     "text": [
      "1\n"
     ]
    }
   ],
   "source": [
    "entero = 1\n",
    "print(entero)"
   ]
  },
  {
   "cell_type": "code",
   "execution_count": 6,
   "id": "cardiac-brief",
   "metadata": {
    "execution": {
     "iopub.execute_input": "2021-02-08T22:11:54.525399Z",
     "iopub.status.busy": "2021-02-08T22:11:54.524830Z",
     "iopub.status.idle": "2021-02-08T22:11:54.526718Z",
     "shell.execute_reply": "2021-02-08T22:11:54.527161Z"
    }
   },
   "outputs": [
    {
     "name": "stdout",
     "output_type": "stream",
     "text": [
      "1.0\n"
     ]
    }
   ],
   "source": [
    "flotante = 1.0\n",
    "print(flotante)"
   ]
  },
  {
   "cell_type": "code",
   "execution_count": 7,
   "id": "operating-kitchen",
   "metadata": {
    "execution": {
     "iopub.execute_input": "2021-02-08T22:11:54.531519Z",
     "iopub.status.busy": "2021-02-08T22:11:54.530971Z",
     "iopub.status.idle": "2021-02-08T22:11:54.534118Z",
     "shell.execute_reply": "2021-02-08T22:11:54.534571Z"
    }
   },
   "outputs": [
    {
     "name": "stdout",
     "output_type": "stream",
     "text": [
      "(1, 1.0)\n"
     ]
    }
   ],
   "source": [
    "tupla = (entero, flotante)\n",
    "print(tupla)"
   ]
  },
  {
   "cell_type": "code",
   "execution_count": 8,
   "id": "polished-saturday",
   "metadata": {
    "execution": {
     "iopub.execute_input": "2021-02-08T22:11:54.538992Z",
     "iopub.status.busy": "2021-02-08T22:11:54.538441Z",
     "iopub.status.idle": "2021-02-08T22:11:54.540296Z",
     "shell.execute_reply": "2021-02-08T22:11:54.540741Z"
    }
   },
   "outputs": [
    {
     "name": "stdout",
     "output_type": "stream",
     "text": [
      "(1, 1.0, 'Hola')\n"
     ]
    }
   ],
   "source": [
    "nupla = (entero, flotante, string)\n",
    "print(nupla)"
   ]
  },
  {
   "cell_type": "code",
   "execution_count": 9,
   "id": "endless-marsh",
   "metadata": {
    "execution": {
     "iopub.execute_input": "2021-02-08T22:11:54.544685Z",
     "iopub.status.busy": "2021-02-08T22:11:54.544140Z",
     "iopub.status.idle": "2021-02-08T22:11:54.545940Z",
     "shell.execute_reply": "2021-02-08T22:11:54.546479Z"
    }
   },
   "outputs": [
    {
     "name": "stdout",
     "output_type": "stream",
     "text": [
      "[1, 1.0, 'Hola']\n"
     ]
    }
   ],
   "source": [
    "lista = [entero, flotante, string]\n",
    "print(lista)"
   ]
  },
  {
   "cell_type": "code",
   "execution_count": 10,
   "id": "known-statement",
   "metadata": {
    "execution": {
     "iopub.execute_input": "2021-02-08T22:11:54.550872Z",
     "iopub.status.busy": "2021-02-08T22:11:54.550146Z",
     "iopub.status.idle": "2021-02-08T22:11:54.552439Z",
     "shell.execute_reply": "2021-02-08T22:11:54.552899Z"
    }
   },
   "outputs": [
    {
     "name": "stdout",
     "output_type": "stream",
     "text": [
      "{'1': (1, 1.0), 50: (1, 1.0, 'Hola'), '3': 1}\n"
     ]
    }
   ],
   "source": [
    "diccionario = {'1': tupla, 50: nupla, '3': entero}\n",
    "print(diccionario)"
   ]
  },
  {
   "cell_type": "code",
   "execution_count": 11,
   "id": "fitting-diagram",
   "metadata": {
    "execution": {
     "iopub.execute_input": "2021-02-08T22:11:54.556928Z",
     "iopub.status.busy": "2021-02-08T22:11:54.556382Z",
     "iopub.status.idle": "2021-02-08T22:11:54.558761Z",
     "shell.execute_reply": "2021-02-08T22:11:54.558286Z"
    }
   },
   "outputs": [
    {
     "name": "stdout",
     "output_type": "stream",
     "text": [
      "{1, 2}\n"
     ]
    }
   ],
   "source": [
    "conjunto = set([1, 2])\n",
    "print(conjunto)"
   ]
  },
  {
   "cell_type": "code",
   "execution_count": 12,
   "id": "serial-beads",
   "metadata": {
    "execution": {
     "iopub.execute_input": "2021-02-08T22:11:54.562629Z",
     "iopub.status.busy": "2021-02-08T22:11:54.562084Z",
     "iopub.status.idle": "2021-02-08T22:11:54.564534Z",
     "shell.execute_reply": "2021-02-08T22:11:54.564038Z"
    }
   },
   "outputs": [
    {
     "name": "stdout",
     "output_type": "stream",
     "text": [
      "True\n"
     ]
    }
   ],
   "source": [
    "booleano = True\n",
    "print(booleano)"
   ]
  },
  {
   "cell_type": "code",
   "execution_count": 13,
   "id": "hydraulic-jason",
   "metadata": {
    "execution": {
     "iopub.execute_input": "2021-02-08T22:11:54.568414Z",
     "iopub.status.busy": "2021-02-08T22:11:54.567825Z",
     "iopub.status.idle": "2021-02-08T22:11:54.569763Z",
     "shell.execute_reply": "2021-02-08T22:11:54.570210Z"
    }
   },
   "outputs": [
    {
     "name": "stdout",
     "output_type": "stream",
     "text": [
      "None\n"
     ]
    }
   ],
   "source": [
    "nada = None\n",
    "print(nada)"
   ]
  },
  {
   "cell_type": "markdown",
   "id": "soviet-designer",
   "metadata": {},
   "source": [
    "Ojo que las variables pueden cambiar de tipo!"
   ]
  },
  {
   "cell_type": "code",
   "execution_count": 14,
   "id": "sexual-increase",
   "metadata": {
    "execution": {
     "iopub.execute_input": "2021-02-08T22:11:54.574408Z",
     "iopub.status.busy": "2021-02-08T22:11:54.573854Z",
     "iopub.status.idle": "2021-02-08T22:11:54.576226Z",
     "shell.execute_reply": "2021-02-08T22:11:54.575742Z"
    }
   },
   "outputs": [
    {
     "name": "stdout",
     "output_type": "stream",
     "text": [
      "1\n",
      "<class 'int'>\n"
     ]
    }
   ],
   "source": [
    "elemento = 1\n",
    "print(elemento)\n",
    "print(type(elemento))"
   ]
  },
  {
   "cell_type": "code",
   "execution_count": 15,
   "id": "hairy-masters",
   "metadata": {
    "execution": {
     "iopub.execute_input": "2021-02-08T22:11:54.580323Z",
     "iopub.status.busy": "2021-02-08T22:11:54.579776Z",
     "iopub.status.idle": "2021-02-08T22:11:54.582151Z",
     "shell.execute_reply": "2021-02-08T22:11:54.581667Z"
    }
   },
   "outputs": [
    {
     "name": "stdout",
     "output_type": "stream",
     "text": [
      "1\n",
      "<class 'str'>\n"
     ]
    }
   ],
   "source": [
    "elemento = str(1)\n",
    "print(elemento)\n",
    "print(type(elemento))"
   ]
  },
  {
   "cell_type": "code",
   "execution_count": 16,
   "id": "pleasant-olympus",
   "metadata": {
    "execution": {
     "iopub.execute_input": "2021-02-08T22:11:54.586446Z",
     "iopub.status.busy": "2021-02-08T22:11:54.585898Z",
     "iopub.status.idle": "2021-02-08T22:11:54.588284Z",
     "shell.execute_reply": "2021-02-08T22:11:54.587722Z"
    }
   },
   "outputs": [
    {
     "name": "stdout",
     "output_type": "stream",
     "text": [
      "[2]\n",
      "<class 'list'>\n"
     ]
    }
   ],
   "source": [
    "elemento = [2]\n",
    "\n",
    "print(elemento)\n",
    "print(type(elemento))"
   ]
  },
  {
   "cell_type": "markdown",
   "id": "mature-hostel",
   "metadata": {},
   "source": [
    "### Tipos basicos"
   ]
  },
  {
   "cell_type": "markdown",
   "id": "scenic-musical",
   "metadata": {
    "slideshow": {
     "slide_type": "slide"
    }
   },
   "source": [
    "#### Listas de Python"
   ]
  },
  {
   "cell_type": "code",
   "execution_count": 17,
   "id": "optical-journal",
   "metadata": {
    "execution": {
     "iopub.execute_input": "2021-02-08T22:11:54.592267Z",
     "iopub.status.busy": "2021-02-08T22:11:54.591712Z",
     "iopub.status.idle": "2021-02-08T22:11:54.594159Z",
     "shell.execute_reply": "2021-02-08T22:11:54.594611Z"
    }
   },
   "outputs": [
    {
     "data": {
      "text/plain": [
       "[]"
      ]
     },
     "execution_count": 1,
     "metadata": {},
     "output_type": "execute_result"
    }
   ],
   "source": [
    "lista = list()\n",
    "lista"
   ]
  },
  {
   "cell_type": "code",
   "execution_count": 18,
   "id": "contemporary-belfast",
   "metadata": {
    "execution": {
     "iopub.execute_input": "2021-02-08T22:11:54.598490Z",
     "iopub.status.busy": "2021-02-08T22:11:54.597937Z",
     "iopub.status.idle": "2021-02-08T22:11:54.600457Z",
     "shell.execute_reply": "2021-02-08T22:11:54.600913Z"
    },
    "slideshow": {
     "slide_type": "slide"
    }
   },
   "outputs": [
    {
     "data": {
      "text/plain": [
       "[]"
      ]
     },
     "execution_count": 1,
     "metadata": {},
     "output_type": "execute_result"
    }
   ],
   "source": [
    "lista = []\n",
    "lista"
   ]
  },
  {
   "cell_type": "code",
   "execution_count": 19,
   "id": "undefined-blank",
   "metadata": {
    "execution": {
     "iopub.execute_input": "2021-02-08T22:11:54.604968Z",
     "iopub.status.busy": "2021-02-08T22:11:54.604418Z",
     "iopub.status.idle": "2021-02-08T22:11:54.606860Z",
     "shell.execute_reply": "2021-02-08T22:11:54.607316Z"
    },
    "slideshow": {
     "slide_type": "slide"
    }
   },
   "outputs": [
    {
     "data": {
      "text/plain": [
       "[1, 2, 3, 4]"
      ]
     },
     "execution_count": 1,
     "metadata": {},
     "output_type": "execute_result"
    }
   ],
   "source": [
    "lista = [1, 2, 3, 4]\n",
    "lista"
   ]
  },
  {
   "cell_type": "code",
   "execution_count": 20,
   "id": "featured-garden",
   "metadata": {
    "execution": {
     "iopub.execute_input": "2021-02-08T22:11:54.611763Z",
     "iopub.status.busy": "2021-02-08T22:11:54.611202Z",
     "iopub.status.idle": "2021-02-08T22:11:54.613682Z",
     "shell.execute_reply": "2021-02-08T22:11:54.614139Z"
    },
    "slideshow": {
     "slide_type": "slide"
    }
   },
   "outputs": [
    {
     "data": {
      "text/plain": [
       "[1, 2, 3, 4, 1, 'dos', 3.0]"
      ]
     },
     "execution_count": 1,
     "metadata": {},
     "output_type": "execute_result"
    }
   ],
   "source": [
    "lista.append(1)  # Inserto un 1 al final\n",
    "lista.append(\"dos\")  # Inserto un \"dos\" al final\n",
    "lista.append(3.0)  # Inserto un 3.0 al final\n",
    "lista"
   ]
  },
  {
   "cell_type": "code",
   "execution_count": 21,
   "id": "invalid-planning",
   "metadata": {
    "execution": {
     "iopub.execute_input": "2021-02-08T22:11:54.617947Z",
     "iopub.status.busy": "2021-02-08T22:11:54.617387Z",
     "iopub.status.idle": "2021-02-08T22:11:54.619253Z",
     "shell.execute_reply": "2021-02-08T22:11:54.619697Z"
    }
   },
   "outputs": [
    {
     "name": "stdout",
     "output_type": "stream",
     "text": [
      "[1, 2, 10, 3, 4, 1, 'dos', 3.0]\n"
     ]
    }
   ],
   "source": [
    "lista.insert(2, 10)  # Inserto en posicion 2 un 10\n",
    "print(lista)"
   ]
  },
  {
   "cell_type": "code",
   "execution_count": 22,
   "id": "fewer-mining",
   "metadata": {
    "execution": {
     "iopub.execute_input": "2021-02-08T22:11:54.623437Z",
     "iopub.status.busy": "2021-02-08T22:11:54.622886Z",
     "iopub.status.idle": "2021-02-08T22:11:54.625333Z",
     "shell.execute_reply": "2021-02-08T22:11:54.625796Z"
    }
   },
   "outputs": [
    {
     "data": {
      "text/plain": [
       "8"
      ]
     },
     "execution_count": 1,
     "metadata": {},
     "output_type": "execute_result"
    }
   ],
   "source": [
    "len(lista)"
   ]
  },
  {
   "cell_type": "code",
   "execution_count": 23,
   "id": "parental-nickname",
   "metadata": {
    "execution": {
     "iopub.execute_input": "2021-02-08T22:11:54.630125Z",
     "iopub.status.busy": "2021-02-08T22:11:54.629569Z",
     "iopub.status.idle": "2021-02-08T22:11:54.632264Z",
     "shell.execute_reply": "2021-02-08T22:11:54.632734Z"
    }
   },
   "outputs": [
    {
     "data": {
      "text/plain": [
       "3.0"
      ]
     },
     "execution_count": 1,
     "metadata": {},
     "output_type": "execute_result"
    }
   ],
   "source": [
    "lista.pop()"
   ]
  },
  {
   "cell_type": "code",
   "execution_count": 24,
   "id": "analyzed-terrorism",
   "metadata": {
    "execution": {
     "iopub.execute_input": "2021-02-08T22:11:54.636631Z",
     "iopub.status.busy": "2021-02-08T22:11:54.636073Z",
     "iopub.status.idle": "2021-02-08T22:11:54.639011Z",
     "shell.execute_reply": "2021-02-08T22:11:54.639439Z"
    }
   },
   "outputs": [
    {
     "data": {
      "text/plain": [
       "[1, 2, 10, 3, 4, 1, 'dos']"
      ]
     },
     "execution_count": 1,
     "metadata": {},
     "output_type": "execute_result"
    }
   ],
   "source": [
    "lista"
   ]
  },
  {
   "cell_type": "code",
   "execution_count": 25,
   "id": "confirmed-italian",
   "metadata": {
    "execution": {
     "iopub.execute_input": "2021-02-08T22:11:54.647057Z",
     "iopub.status.busy": "2021-02-08T22:11:54.646484Z",
     "iopub.status.idle": "2021-02-08T22:11:54.651786Z",
     "shell.execute_reply": "2021-02-08T22:11:54.652219Z"
    }
   },
   "outputs": [
    {
     "data": {
      "text/plain": [
       "2"
      ]
     },
     "execution_count": 1,
     "metadata": {},
     "output_type": "execute_result"
    }
   ],
   "source": [
    "lista.index(10)"
   ]
  },
  {
   "cell_type": "code",
   "execution_count": 26,
   "id": "extended-symphony",
   "metadata": {
    "execution": {
     "iopub.execute_input": "2021-02-08T22:11:54.657000Z",
     "iopub.status.busy": "2021-02-08T22:11:54.656427Z",
     "iopub.status.idle": "2021-02-08T22:11:54.659329Z",
     "shell.execute_reply": "2021-02-08T22:11:54.659780Z"
    }
   },
   "outputs": [
    {
     "data": {
      "text/plain": [
       "[1, 2, 3, 4, 1, 'dos']"
      ]
     },
     "execution_count": 1,
     "metadata": {},
     "output_type": "execute_result"
    }
   ],
   "source": [
    "lista.remove(10)\n",
    "lista"
   ]
  },
  {
   "cell_type": "code",
   "execution_count": 27,
   "id": "tough-natural",
   "metadata": {
    "execution": {
     "iopub.execute_input": "2021-02-08T22:11:54.664734Z",
     "iopub.status.busy": "2021-02-08T22:11:54.664163Z",
     "iopub.status.idle": "2021-02-08T22:11:54.728206Z",
     "shell.execute_reply": "2021-02-08T22:11:54.727582Z"
    },
    "tags": [
     "raises-exception"
    ]
   },
   "outputs": [
    {
     "name": "stdout",
     "output_type": "stream",
     "text": [
      "1\n",
      "2\n",
      "2\n",
      "3\n",
      "3\n",
      "4\n",
      "4\n",
      "5\n",
      "1\n",
      "2\n",
      "dos\n"
     ]
    },
    {
     "ename": "TypeError",
     "evalue": "can only concatenate str (not \"int\") to str",
     "output_type": "error",
     "traceback": [
      "\u001b[0;31m---------------------------------------------------------------------------\u001b[0m",
      "\u001b[0;31mTypeError\u001b[0m                                 Traceback (most recent call last)",
      "\u001b[0;32m<ipython-input-1-41b56d5cf080>\u001b[0m in \u001b[0;36m<module>\u001b[0;34m\u001b[0m\n\u001b[1;32m      1\u001b[0m \u001b[0;32mfor\u001b[0m \u001b[0melemento\u001b[0m \u001b[0;32min\u001b[0m \u001b[0mlista\u001b[0m\u001b[0;34m:\u001b[0m\u001b[0;34m\u001b[0m\u001b[0;34m\u001b[0m\u001b[0m\n\u001b[1;32m      2\u001b[0m     \u001b[0mprint\u001b[0m\u001b[0;34m(\u001b[0m\u001b[0melemento\u001b[0m\u001b[0;34m)\u001b[0m\u001b[0;34m\u001b[0m\u001b[0;34m\u001b[0m\u001b[0m\n\u001b[0;32m----> 3\u001b[0;31m     \u001b[0mprint\u001b[0m\u001b[0;34m(\u001b[0m\u001b[0melemento\u001b[0m \u001b[0;34m+\u001b[0m \u001b[0;36m1\u001b[0m\u001b[0;34m)\u001b[0m\u001b[0;34m\u001b[0m\u001b[0;34m\u001b[0m\u001b[0m\n\u001b[0m",
      "\u001b[0;31mTypeError\u001b[0m: can only concatenate str (not \"int\") to str"
     ]
    }
   ],
   "source": [
    "for elemento in lista:\n",
    "    print(elemento)\n",
    "    print(elemento + 1)"
   ]
  },
  {
   "cell_type": "code",
   "execution_count": 28,
   "id": "resistant-perry",
   "metadata": {
    "execution": {
     "iopub.execute_input": "2021-02-08T22:11:54.833828Z",
     "iopub.status.busy": "2021-02-08T22:11:54.833185Z",
     "iopub.status.idle": "2021-02-08T22:11:54.837539Z",
     "shell.execute_reply": "2021-02-08T22:11:54.838013Z"
    }
   },
   "outputs": [
    {
     "data": {
      "text/plain": [
       "[1, 2, 3, 4, 1, 'dos']"
      ]
     },
     "execution_count": 1,
     "metadata": {},
     "output_type": "execute_result"
    }
   ],
   "source": [
    "lista"
   ]
  },
  {
   "cell_type": "code",
   "execution_count": 29,
   "id": "tracked-think",
   "metadata": {
    "execution": {
     "iopub.execute_input": "2021-02-08T22:11:54.846712Z",
     "iopub.status.busy": "2021-02-08T22:11:54.844138Z",
     "iopub.status.idle": "2021-02-08T22:11:54.848656Z",
     "shell.execute_reply": "2021-02-08T22:11:54.848156Z"
    }
   },
   "outputs": [
    {
     "name": "stdout",
     "output_type": "stream",
     "text": [
      "0-ésimo elemento: 1\n",
      "1-ésimo elemento: 2\n",
      "2-ésimo elemento: 3\n",
      "3-ésimo elemento: 4\n",
      "4-ésimo elemento: 1\n",
      "5-ésimo elemento: dos\n"
     ]
    }
   ],
   "source": [
    "for i, elemento in enumerate(lista):\n",
    "    print(f\"{i}-ésimo elemento: {elemento}\")"
   ]
  },
  {
   "cell_type": "code",
   "execution_count": 30,
   "id": "divided-invasion",
   "metadata": {
    "execution": {
     "iopub.execute_input": "2021-02-08T22:11:54.852998Z",
     "iopub.status.busy": "2021-02-08T22:11:54.851785Z",
     "iopub.status.idle": "2021-02-08T22:11:54.857791Z",
     "shell.execute_reply": "2021-02-08T22:11:54.857170Z"
    },
    "tags": [
     "raises-exception"
    ]
   },
   "outputs": [
    {
     "ename": "TypeError",
     "evalue": "'<' not supported between instances of 'str' and 'int'",
     "output_type": "error",
     "traceback": [
      "\u001b[0;31m---------------------------------------------------------------------------\u001b[0m",
      "\u001b[0;31mTypeError\u001b[0m                                 Traceback (most recent call last)",
      "\u001b[0;32m<ipython-input-1-06c3f264dc7a>\u001b[0m in \u001b[0;36m<module>\u001b[0;34m\u001b[0m\n\u001b[0;32m----> 1\u001b[0;31m \u001b[0msorted\u001b[0m\u001b[0;34m(\u001b[0m\u001b[0mlista\u001b[0m\u001b[0;34m)\u001b[0m\u001b[0;34m\u001b[0m\u001b[0;34m\u001b[0m\u001b[0m\n\u001b[0m",
      "\u001b[0;31mTypeError\u001b[0m: '<' not supported between instances of 'str' and 'int'"
     ]
    }
   ],
   "source": [
    "sorted(lista)"
   ]
  },
  {
   "cell_type": "code",
   "execution_count": 31,
   "id": "animated-paper",
   "metadata": {
    "execution": {
     "iopub.execute_input": "2021-02-08T22:11:54.963170Z",
     "iopub.status.busy": "2021-02-08T22:11:54.962073Z",
     "iopub.status.idle": "2021-02-08T22:11:54.964271Z",
     "shell.execute_reply": "2021-02-08T22:11:54.964705Z"
    }
   },
   "outputs": [],
   "source": [
    "lista.remove(\"dos\")"
   ]
  },
  {
   "cell_type": "code",
   "execution_count": 32,
   "id": "proof-tutorial",
   "metadata": {
    "execution": {
     "iopub.execute_input": "2021-02-08T22:11:54.971615Z",
     "iopub.status.busy": "2021-02-08T22:11:54.969084Z",
     "iopub.status.idle": "2021-02-08T22:11:54.973429Z",
     "shell.execute_reply": "2021-02-08T22:11:54.973892Z"
    }
   },
   "outputs": [
    {
     "data": {
      "text/plain": [
       "[1, 1, 2, 3, 4]"
      ]
     },
     "execution_count": 1,
     "metadata": {},
     "output_type": "execute_result"
    }
   ],
   "source": [
    "sorted(lista)"
   ]
  },
  {
   "cell_type": "code",
   "execution_count": 33,
   "id": "buried-falls",
   "metadata": {
    "execution": {
     "iopub.execute_input": "2021-02-08T22:11:54.979116Z",
     "iopub.status.busy": "2021-02-08T22:11:54.978317Z",
     "iopub.status.idle": "2021-02-08T22:11:54.981009Z",
     "shell.execute_reply": "2021-02-08T22:11:54.981485Z"
    }
   },
   "outputs": [
    {
     "data": {
      "text/plain": [
       "[1, 1, 2, 3, 4]"
      ]
     },
     "execution_count": 1,
     "metadata": {},
     "output_type": "execute_result"
    }
   ],
   "source": [
    "lista.sort()\n",
    "lista"
   ]
  },
  {
   "cell_type": "markdown",
   "id": "touched-stable",
   "metadata": {
    "slideshow": {
     "slide_type": "slide"
    }
   },
   "source": [
    "#### Tuplas de Python\n",
    "\n",
    "Las tuplas son inmutables. No se pueden agregar elementos luego de creadas."
   ]
  },
  {
   "cell_type": "code",
   "execution_count": 34,
   "id": "afraid-plain",
   "metadata": {
    "execution": {
     "iopub.execute_input": "2021-02-08T22:11:54.989984Z",
     "iopub.status.busy": "2021-02-08T22:11:54.986468Z",
     "iopub.status.idle": "2021-02-08T22:11:54.995461Z",
     "shell.execute_reply": "2021-02-08T22:11:54.994955Z"
    },
    "slideshow": {
     "slide_type": "slide"
    },
    "tags": [
     "raises-exception"
    ]
   },
   "outputs": [
    {
     "name": "stdout",
     "output_type": "stream",
     "text": [
      "(1, 2)\n",
      "1\n",
      "2\n"
     ]
    },
    {
     "ename": "TypeError",
     "evalue": "'tuple' object does not support item assignment",
     "output_type": "error",
     "traceback": [
      "\u001b[0;31m---------------------------------------------------------------------------\u001b[0m",
      "\u001b[0;31mTypeError\u001b[0m                                 Traceback (most recent call last)",
      "\u001b[0;32m<ipython-input-1-80ca8b547dd6>\u001b[0m in \u001b[0;36m<module>\u001b[0;34m\u001b[0m\n\u001b[1;32m      5\u001b[0m \u001b[0mprint\u001b[0m\u001b[0;34m(\u001b[0m\u001b[0mtupla\u001b[0m\u001b[0;34m[\u001b[0m\u001b[0;36m1\u001b[0m\u001b[0;34m]\u001b[0m\u001b[0;34m)\u001b[0m\u001b[0;34m\u001b[0m\u001b[0;34m\u001b[0m\u001b[0m\n\u001b[1;32m      6\u001b[0m \u001b[0;34m\u001b[0m\u001b[0m\n\u001b[0;32m----> 7\u001b[0;31m \u001b[0mtupla\u001b[0m\u001b[0;34m[\u001b[0m\u001b[0;36m1\u001b[0m\u001b[0;34m]\u001b[0m \u001b[0;34m=\u001b[0m \u001b[0;36m3\u001b[0m  \u001b[0;31m# Falla. No se puede mutar\u001b[0m\u001b[0;34m\u001b[0m\u001b[0;34m\u001b[0m\u001b[0m\n\u001b[0m",
      "\u001b[0;31mTypeError\u001b[0m: 'tuple' object does not support item assignment"
     ]
    }
   ],
   "source": [
    "tupla = (1, 2)\n",
    "\n",
    "print(tupla)\n",
    "print(tupla[0])\n",
    "print(tupla[1])\n",
    "\n",
    "tupla[1] = 3  # Falla. No se puede mutar"
   ]
  },
  {
   "cell_type": "code",
   "execution_count": 35,
   "id": "interior-gossip",
   "metadata": {
    "execution": {
     "iopub.execute_input": "2021-02-08T22:11:55.098814Z",
     "iopub.status.busy": "2021-02-08T22:11:55.098207Z",
     "iopub.status.idle": "2021-02-08T22:11:55.104017Z",
     "shell.execute_reply": "2021-02-08T22:11:55.104455Z"
    }
   },
   "outputs": [
    {
     "data": {
      "text/plain": [
       "[1, 2]"
      ]
     },
     "execution_count": 1,
     "metadata": {},
     "output_type": "execute_result"
    }
   ],
   "source": [
    "l = [1, 2]\n",
    "l"
   ]
  },
  {
   "cell_type": "code",
   "execution_count": 36,
   "id": "decent-jesus",
   "metadata": {
    "execution": {
     "iopub.execute_input": "2021-02-08T22:11:55.108542Z",
     "iopub.status.busy": "2021-02-08T22:11:55.107990Z",
     "iopub.status.idle": "2021-02-08T22:11:55.113556Z",
     "shell.execute_reply": "2021-02-08T22:11:55.113993Z"
    }
   },
   "outputs": [
    {
     "data": {
      "text/plain": [
       "[1, 3]"
      ]
     },
     "execution_count": 1,
     "metadata": {},
     "output_type": "execute_result"
    }
   ],
   "source": [
    "l[1] = 3\n",
    "l"
   ]
  },
  {
   "cell_type": "markdown",
   "id": "speaking-monster",
   "metadata": {
    "slideshow": {
     "slide_type": "slide"
    }
   },
   "source": [
    "#### Diferencia entre lista y tupla\n",
    "Las listas se caracterizan por ser mutables, es decir, se puede cambiar su contenido en tiempo de ejecución, mientras que las tuplas son inmutables ya que no es posible modificar el contenido una vez creada."
   ]
  },
  {
   "cell_type": "markdown",
   "id": "sonic-indication",
   "metadata": {},
   "source": [
    "#### Slices\n",
    "\n",
    "**Valen para listas, tuplas o strings (_segmentos_)**"
   ]
  },
  {
   "cell_type": "code",
   "execution_count": 37,
   "id": "industrial-layout",
   "metadata": {
    "execution": {
     "iopub.execute_input": "2021-02-08T22:11:55.118367Z",
     "iopub.status.busy": "2021-02-08T22:11:55.117780Z",
     "iopub.status.idle": "2021-02-08T22:11:55.121575Z",
     "shell.execute_reply": "2021-02-08T22:11:55.121012Z"
    }
   },
   "outputs": [],
   "source": [
    "numeros = [0, 1, 2, 3, 4, 5, 6, 7, 8, 9, 10]"
   ]
  },
  {
   "cell_type": "code",
   "execution_count": 38,
   "id": "afraid-thunder",
   "metadata": {
    "execution": {
     "iopub.execute_input": "2021-02-08T22:11:55.125595Z",
     "iopub.status.busy": "2021-02-08T22:11:55.124950Z",
     "iopub.status.idle": "2021-02-08T22:11:55.129342Z",
     "shell.execute_reply": "2021-02-08T22:11:55.129779Z"
    }
   },
   "outputs": [
    {
     "name": "stdout",
     "output_type": "stream",
     "text": [
      "[0, 1, 2, 3, 4, 5, 6, 7, 8, 9, 10]\n"
     ]
    }
   ],
   "source": [
    "print(numeros)"
   ]
  },
  {
   "cell_type": "code",
   "execution_count": 39,
   "id": "educated-allen",
   "metadata": {
    "execution": {
     "iopub.execute_input": "2021-02-08T22:11:55.133882Z",
     "iopub.status.busy": "2021-02-08T22:11:55.133157Z",
     "iopub.status.idle": "2021-02-08T22:11:55.135783Z",
     "shell.execute_reply": "2021-02-08T22:11:55.135227Z"
    }
   },
   "outputs": [
    {
     "name": "stdout",
     "output_type": "stream",
     "text": [
      "2\n"
     ]
    }
   ],
   "source": [
    "print(numeros[2])  # Imprimo elemento en la posición 2"
   ]
  },
  {
   "cell_type": "code",
   "execution_count": 40,
   "id": "prescribed-potter",
   "metadata": {
    "execution": {
     "iopub.execute_input": "2021-02-08T22:11:55.139937Z",
     "iopub.status.busy": "2021-02-08T22:11:55.139387Z",
     "iopub.status.idle": "2021-02-08T22:11:55.144361Z",
     "shell.execute_reply": "2021-02-08T22:11:55.144798Z"
    }
   },
   "outputs": [
    {
     "data": {
      "text/plain": [
       "10"
      ]
     },
     "execution_count": 1,
     "metadata": {},
     "output_type": "execute_result"
    }
   ],
   "source": [
    "numeros[len(numeros) - 1]"
   ]
  },
  {
   "cell_type": "code",
   "execution_count": 41,
   "id": "civil-sugar",
   "metadata": {
    "execution": {
     "iopub.execute_input": "2021-02-08T22:11:55.148867Z",
     "iopub.status.busy": "2021-02-08T22:11:55.148323Z",
     "iopub.status.idle": "2021-02-08T22:11:55.152229Z",
     "shell.execute_reply": "2021-02-08T22:11:55.151724Z"
    },
    "lines_to_next_cell": 2
   },
   "outputs": [
    {
     "name": "stdout",
     "output_type": "stream",
     "text": [
      "10\n"
     ]
    }
   ],
   "source": [
    "print(numeros[-1])  # # Imprimo elemento en la última posición"
   ]
  },
  {
   "cell_type": "code",
   "execution_count": 42,
   "id": "efficient-rapid",
   "metadata": {
    "execution": {
     "iopub.execute_input": "2021-02-08T22:11:55.156824Z",
     "iopub.status.busy": "2021-02-08T22:11:55.156260Z",
     "iopub.status.idle": "2021-02-08T22:11:55.160500Z",
     "shell.execute_reply": "2021-02-08T22:11:55.161294Z"
    },
    "lines_to_next_cell": 2
   },
   "outputs": [
    {
     "data": {
      "text/plain": [
       "9"
      ]
     },
     "execution_count": 1,
     "metadata": {},
     "output_type": "execute_result"
    }
   ],
   "source": [
    "numeros[-2]"
   ]
  },
  {
   "cell_type": "code",
   "execution_count": 43,
   "id": "loaded-mystery",
   "metadata": {
    "execution": {
     "iopub.execute_input": "2021-02-08T22:11:55.167701Z",
     "iopub.status.busy": "2021-02-08T22:11:55.166464Z",
     "iopub.status.idle": "2021-02-08T22:11:55.169921Z",
     "shell.execute_reply": "2021-02-08T22:11:55.169417Z"
    }
   },
   "outputs": [
    {
     "name": "stdout",
     "output_type": "stream",
     "text": [
      "[0, 1, 2]\n"
     ]
    }
   ],
   "source": [
    "print(numeros[0:3])  # Imprimo de la pos 0 a la pos 2"
   ]
  },
  {
   "cell_type": "code",
   "execution_count": 44,
   "id": "innocent-movie",
   "metadata": {
    "execution": {
     "iopub.execute_input": "2021-02-08T22:11:55.174375Z",
     "iopub.status.busy": "2021-02-08T22:11:55.173811Z",
     "iopub.status.idle": "2021-02-08T22:11:55.180829Z",
     "shell.execute_reply": "2021-02-08T22:11:55.180355Z"
    }
   },
   "outputs": [
    {
     "name": "stdout",
     "output_type": "stream",
     "text": [
      "[7, 8]\n"
     ]
    }
   ],
   "source": [
    "print(numeros[-4:-2])"
   ]
  },
  {
   "cell_type": "code",
   "execution_count": 45,
   "id": "suited-video",
   "metadata": {
    "execution": {
     "iopub.execute_input": "2021-02-08T22:11:55.184996Z",
     "iopub.status.busy": "2021-02-08T22:11:55.184450Z",
     "iopub.status.idle": "2021-02-08T22:11:55.189393Z",
     "shell.execute_reply": "2021-02-08T22:11:55.188324Z"
    }
   },
   "outputs": [
    {
     "name": "stdout",
     "output_type": "stream",
     "text": [
      "[0, 1, 2, 3, 4, 5, 6, 7, 8, 9, 10]\n"
     ]
    }
   ],
   "source": [
    "print(numeros[0:80])"
   ]
  },
  {
   "cell_type": "code",
   "execution_count": 46,
   "id": "personal-argument",
   "metadata": {
    "execution": {
     "iopub.execute_input": "2021-02-08T22:11:55.192995Z",
     "iopub.status.busy": "2021-02-08T22:11:55.192449Z",
     "iopub.status.idle": "2021-02-08T22:11:55.196975Z",
     "shell.execute_reply": "2021-02-08T22:11:55.196454Z"
    }
   },
   "outputs": [
    {
     "name": "stdout",
     "output_type": "stream",
     "text": [
      "[0, 1, 2]\n"
     ]
    }
   ],
   "source": [
    "print(numeros[:3])"
   ]
  },
  {
   "cell_type": "code",
   "execution_count": 47,
   "id": "shaped-affect",
   "metadata": {
    "execution": {
     "iopub.execute_input": "2021-02-08T22:11:55.200984Z",
     "iopub.status.busy": "2021-02-08T22:11:55.200301Z",
     "iopub.status.idle": "2021-02-08T22:11:55.205346Z",
     "shell.execute_reply": "2021-02-08T22:11:55.203861Z"
    }
   },
   "outputs": [
    {
     "name": "stdout",
     "output_type": "stream",
     "text": [
      "[3, 4, 5, 6, 7, 8, 9, 10]\n"
     ]
    }
   ],
   "source": [
    "print(numeros[3:])"
   ]
  },
  {
   "cell_type": "code",
   "execution_count": 48,
   "id": "perfect-yemen",
   "metadata": {
    "execution": {
     "iopub.execute_input": "2021-02-08T22:11:55.210004Z",
     "iopub.status.busy": "2021-02-08T22:11:55.209436Z",
     "iopub.status.idle": "2021-02-08T22:11:55.213931Z",
     "shell.execute_reply": "2021-02-08T22:11:55.213431Z"
    }
   },
   "outputs": [
    {
     "name": "stdout",
     "output_type": "stream",
     "text": [
      "[0, 2, 4, 6, 8]\n"
     ]
    }
   ],
   "source": [
    "print(numeros[0:10:2])"
   ]
  },
  {
   "cell_type": "markdown",
   "id": "charitable-routine",
   "metadata": {},
   "source": [
    "```python\n",
    "lista[<inicio>:<final>:<step>]\n",
    "```"
   ]
  },
  {
   "cell_type": "code",
   "execution_count": 49,
   "id": "available-payment",
   "metadata": {
    "execution": {
     "iopub.execute_input": "2021-02-08T22:11:55.219172Z",
     "iopub.status.busy": "2021-02-08T22:11:55.218375Z",
     "iopub.status.idle": "2021-02-08T22:11:55.221187Z",
     "shell.execute_reply": "2021-02-08T22:11:55.221667Z"
    },
    "lines_to_next_cell": 2
   },
   "outputs": [
    {
     "data": {
      "text/plain": [
       "[1, 2, 3, 4]"
      ]
     },
     "execution_count": 1,
     "metadata": {},
     "output_type": "execute_result"
    }
   ],
   "source": [
    "l1 = [1, 2]\n",
    "l2 = [3, 4]\n",
    "l1 + l2"
   ]
  },
  {
   "cell_type": "code",
   "execution_count": 50,
   "id": "outer-nothing",
   "metadata": {
    "execution": {
     "iopub.execute_input": "2021-02-08T22:11:55.226776Z",
     "iopub.status.busy": "2021-02-08T22:11:55.225557Z",
     "iopub.status.idle": "2021-02-08T22:11:55.228599Z",
     "shell.execute_reply": "2021-02-08T22:11:55.228114Z"
    }
   },
   "outputs": [
    {
     "name": "stdout",
     "output_type": "stream",
     "text": [
      "[0, 1, 2, 3, 4, 5, 6, 'siete', 8, 9, 10]\n"
     ]
    }
   ],
   "source": [
    "numeros[7] = 'siete'  # Las listas se pueden mutar\n",
    "print(numeros)"
   ]
  },
  {
   "cell_type": "code",
   "execution_count": 51,
   "id": "alpha-runner",
   "metadata": {
    "execution": {
     "iopub.execute_input": "2021-02-08T22:11:55.233664Z",
     "iopub.status.busy": "2021-02-08T22:11:55.232406Z",
     "iopub.status.idle": "2021-02-08T22:11:55.235480Z",
     "shell.execute_reply": "2021-02-08T22:11:55.234998Z"
    }
   },
   "outputs": [
    {
     "name": "stdout",
     "output_type": "stream",
     "text": [
      "[10, 9, 8, 'siete', 6, 5, 4, 3, 2, 1, 0]\n"
     ]
    }
   ],
   "source": [
    "numeros = numeros[::-1]\n",
    "print(numeros)"
   ]
  },
  {
   "cell_type": "code",
   "execution_count": 52,
   "id": "removed-malpractice",
   "metadata": {
    "execution": {
     "iopub.execute_input": "2021-02-08T22:11:55.243459Z",
     "iopub.status.busy": "2021-02-08T22:11:55.242885Z",
     "iopub.status.idle": "2021-02-08T22:11:55.245488Z",
     "shell.execute_reply": "2021-02-08T22:11:55.245965Z"
    },
    "tags": [
     "raises-exception"
    ]
   },
   "outputs": [
    {
     "ename": "IndexError",
     "evalue": "list index out of range",
     "output_type": "error",
     "traceback": [
      "\u001b[0;31m---------------------------------------------------------------------------\u001b[0m",
      "\u001b[0;31mIndexError\u001b[0m                                Traceback (most recent call last)",
      "\u001b[0;32m<ipython-input-1-0ef91dd29a9b>\u001b[0m in \u001b[0;36m<module>\u001b[0;34m\u001b[0m\n\u001b[0;32m----> 1\u001b[0;31m \u001b[0mprint\u001b[0m\u001b[0;34m(\u001b[0m\u001b[0mnumeros\u001b[0m\u001b[0;34m[\u001b[0m\u001b[0;36m15\u001b[0m\u001b[0;34m]\u001b[0m\u001b[0;34m)\u001b[0m  \u001b[0;31m# Falla. No se puede acceder a una posición inexistente\u001b[0m\u001b[0;34m\u001b[0m\u001b[0;34m\u001b[0m\u001b[0m\n\u001b[0m",
      "\u001b[0;31mIndexError\u001b[0m: list index out of range"
     ]
    }
   ],
   "source": [
    "print(numeros[15])  # Falla. No se puede acceder a una posición inexistente"
   ]
  },
  {
   "cell_type": "code",
   "execution_count": 53,
   "id": "artistic-contractor",
   "metadata": {
    "execution": {
     "iopub.execute_input": "2021-02-08T22:11:55.352596Z",
     "iopub.status.busy": "2021-02-08T22:11:55.351508Z",
     "iopub.status.idle": "2021-02-08T22:11:55.359625Z",
     "shell.execute_reply": "2021-02-08T22:11:55.358898Z"
    }
   },
   "outputs": [
    {
     "name": "stdout",
     "output_type": "stream",
     "text": [
      "palabra\n",
      "a\n",
      "pal\n"
     ]
    },
    {
     "name": "stdout",
     "output_type": "stream",
     "text": [
      "abra\n"
     ]
    }
   ],
   "source": [
    "palabra = 'palabra'\n",
    "print(palabra)\n",
    "print(palabra[3])\n",
    "print(palabra[:3])\n",
    "print(palabra[3:])"
   ]
  },
  {
   "cell_type": "code",
   "execution_count": 54,
   "id": "conditional-decline",
   "metadata": {
    "execution": {
     "iopub.execute_input": "2021-02-08T22:11:55.368504Z",
     "iopub.status.busy": "2021-02-08T22:11:55.367881Z",
     "iopub.status.idle": "2021-02-08T22:11:55.370657Z",
     "shell.execute_reply": "2021-02-08T22:11:55.369010Z"
    }
   },
   "outputs": [
    {
     "name": "stdout",
     "output_type": "stream",
     "text": [
      "(0, 1, 2, 3, 4)\n",
      "(0, 1)\n",
      "(2, 3, 4)\n"
     ]
    }
   ],
   "source": [
    "tupla = (0, 1, 2, 3, 4)\n",
    "\n",
    "print(tupla)\n",
    "print(tupla[:2])\n",
    "print(tupla[2:])"
   ]
  },
  {
   "cell_type": "markdown",
   "id": "minimal-saudi",
   "metadata": {
    "slideshow": {
     "slide_type": "slide"
    }
   },
   "source": [
    "#### Diccionarios de Python\n",
    "\n",
    "Son como hashmaps, las claves deben ser inmutables para que no pierda sentido el diccionario. Si se pudieran modificar, se podrían cambiar las claves y generaría conflictos.\n",
    "\n",
    "Tipos mutables:\n",
    "- Listas\n",
    "- Diccionarios\n",
    "- Sets\n",
    "\n",
    "Tipos inmutables:\n",
    "- Int\n",
    "- Float\n",
    "- String\n",
    "- Tuplas\n"
   ]
  },
  {
   "cell_type": "code",
   "execution_count": 55,
   "id": "joint-customer",
   "metadata": {
    "execution": {
     "iopub.execute_input": "2021-02-08T22:11:55.375261Z",
     "iopub.status.busy": "2021-02-08T22:11:55.374686Z",
     "iopub.status.idle": "2021-02-08T22:11:55.380310Z",
     "shell.execute_reply": "2021-02-08T22:11:55.379812Z"
    },
    "slideshow": {
     "slide_type": "slide"
    }
   },
   "outputs": [
    {
     "data": {
      "text/plain": [
       "{}"
      ]
     },
     "execution_count": 1,
     "metadata": {},
     "output_type": "execute_result"
    }
   ],
   "source": [
    "diccionario = {}\n",
    "diccionario"
   ]
  },
  {
   "cell_type": "code",
   "execution_count": 56,
   "id": "contained-architecture",
   "metadata": {
    "execution": {
     "iopub.execute_input": "2021-02-08T22:11:55.385919Z",
     "iopub.status.busy": "2021-02-08T22:11:55.384505Z",
     "iopub.status.idle": "2021-02-08T22:11:55.387851Z",
     "shell.execute_reply": "2021-02-08T22:11:55.387359Z"
    }
   },
   "outputs": [
    {
     "data": {
      "text/plain": [
       "{}"
      ]
     },
     "execution_count": 1,
     "metadata": {},
     "output_type": "execute_result"
    }
   ],
   "source": [
    "diccionario = dict()\n",
    "diccionario"
   ]
  },
  {
   "cell_type": "code",
   "execution_count": 57,
   "id": "appreciated-variety",
   "metadata": {
    "execution": {
     "iopub.execute_input": "2021-02-08T22:11:55.393503Z",
     "iopub.status.busy": "2021-02-08T22:11:55.392214Z",
     "iopub.status.idle": "2021-02-08T22:11:55.395337Z",
     "shell.execute_reply": "2021-02-08T22:11:55.394843Z"
    },
    "slideshow": {
     "slide_type": "slide"
    }
   },
   "outputs": [
    {
     "name": "stdout",
     "output_type": "stream",
     "text": [
      "{'clave1': 'valor1', 2: 'valor2', 'clave3': 3}\n"
     ]
    }
   ],
   "source": [
    "# Cómo agregar cosas al diccionario\n",
    "diccionario['clave1'] = 'valor1'\n",
    "diccionario[2] = 'valor2'\n",
    "diccionario['clave3'] = 3\n",
    "print(diccionario)"
   ]
  },
  {
   "cell_type": "markdown",
   "id": "loaded-herald",
   "metadata": {},
   "source": [
    "Hay dos formas de obtener valores de un diccionario:\n",
    "\n",
    "```python\n",
    "diccionario[clave]\n",
    "```\n",
    "\n",
    "El cual devuelve el valor si existe la clave suministrada o bien lanza `KeyError` si no existe."
   ]
  },
  {
   "cell_type": "code",
   "execution_count": 58,
   "id": "electrical-holmes",
   "metadata": {
    "execution": {
     "iopub.execute_input": "2021-02-08T22:11:55.400062Z",
     "iopub.status.busy": "2021-02-08T22:11:55.399495Z",
     "iopub.status.idle": "2021-02-08T22:11:55.402198Z",
     "shell.execute_reply": "2021-02-08T22:11:55.402652Z"
    }
   },
   "outputs": [
    {
     "data": {
      "text/plain": [
       "'valor1'"
      ]
     },
     "execution_count": 1,
     "metadata": {},
     "output_type": "execute_result"
    }
   ],
   "source": [
    "diccionario['clave1']"
   ]
  },
  {
   "cell_type": "code",
   "execution_count": 59,
   "id": "modified-hobby",
   "metadata": {
    "execution": {
     "iopub.execute_input": "2021-02-08T22:11:55.410331Z",
     "iopub.status.busy": "2021-02-08T22:11:55.405793Z",
     "iopub.status.idle": "2021-02-08T22:11:55.413097Z",
     "shell.execute_reply": "2021-02-08T22:11:55.412474Z"
    },
    "tags": [
     "raises-exception"
    ]
   },
   "outputs": [
    {
     "ename": "KeyError",
     "evalue": "'clave1000'",
     "output_type": "error",
     "traceback": [
      "\u001b[0;31m---------------------------------------------------------------------------\u001b[0m",
      "\u001b[0;31mKeyError\u001b[0m                                  Traceback (most recent call last)",
      "\u001b[0;32m<ipython-input-1-41aae9a2e5ed>\u001b[0m in \u001b[0;36m<module>\u001b[0;34m\u001b[0m\n\u001b[0;32m----> 1\u001b[0;31m \u001b[0mdiccionario\u001b[0m\u001b[0;34m[\u001b[0m\u001b[0;34m'clave1000'\u001b[0m\u001b[0;34m]\u001b[0m\u001b[0;34m\u001b[0m\u001b[0;34m\u001b[0m\u001b[0m\n\u001b[0m",
      "\u001b[0;31mKeyError\u001b[0m: 'clave1000'"
     ]
    }
   ],
   "source": [
    "diccionario['clave1000']"
   ]
  },
  {
   "cell_type": "markdown",
   "id": "opening-elizabeth",
   "metadata": {},
   "source": [
    "La segunda forma es con `get`:"
   ]
  },
  {
   "cell_type": "code",
   "execution_count": 60,
   "id": "proof-writer",
   "metadata": {
    "execution": {
     "iopub.execute_input": "2021-02-08T22:11:55.547399Z",
     "iopub.status.busy": "2021-02-08T22:11:55.531793Z",
     "iopub.status.idle": "2021-02-08T22:11:55.575767Z",
     "shell.execute_reply": "2021-02-08T22:11:55.574993Z"
    }
   },
   "outputs": [],
   "source": [
    "diccionario.get?"
   ]
  },
  {
   "cell_type": "code",
   "execution_count": 61,
   "id": "connected-draft",
   "metadata": {
    "execution": {
     "iopub.execute_input": "2021-02-08T22:11:55.582370Z",
     "iopub.status.busy": "2021-02-08T22:11:55.580869Z",
     "iopub.status.idle": "2021-02-08T22:11:55.584708Z",
     "shell.execute_reply": "2021-02-08T22:11:55.584102Z"
    }
   },
   "outputs": [
    {
     "name": "stdout",
     "output_type": "stream",
     "text": [
      "Help on built-in function get:\n",
      "\n",
      "get(key, default=None, /) method of builtins.dict instance\n",
      "    Return the value for key if key is in the dictionary, else default.\n",
      "\n"
     ]
    }
   ],
   "source": [
    "help(diccionario.get)"
   ]
  },
  {
   "cell_type": "code",
   "execution_count": 62,
   "id": "apart-rendering",
   "metadata": {
    "execution": {
     "iopub.execute_input": "2021-02-08T22:11:55.590461Z",
     "iopub.status.busy": "2021-02-08T22:11:55.588907Z",
     "iopub.status.idle": "2021-02-08T22:11:55.592858Z",
     "shell.execute_reply": "2021-02-08T22:11:55.592172Z"
    },
    "slideshow": {
     "slide_type": "slide"
    }
   },
   "outputs": [
    {
     "name": "stdout",
     "output_type": "stream",
     "text": [
      "None\n"
     ]
    }
   ],
   "source": [
    "print(diccionario.get('clave1000'))"
   ]
  },
  {
   "cell_type": "code",
   "execution_count": 63,
   "id": "opposed-duration",
   "metadata": {
    "execution": {
     "iopub.execute_input": "2021-02-08T22:11:55.598758Z",
     "iopub.status.busy": "2021-02-08T22:11:55.597205Z",
     "iopub.status.idle": "2021-02-08T22:11:55.600933Z",
     "shell.execute_reply": "2021-02-08T22:11:55.600321Z"
    },
    "slideshow": {
     "slide_type": "slide"
    }
   },
   "outputs": [
    {
     "name": "stdout",
     "output_type": "stream",
     "text": [
      "True\n"
     ]
    }
   ],
   "source": [
    "print('clave1' in diccionario)  # Verifico si la clave está en el diccionario"
   ]
  },
  {
   "cell_type": "code",
   "execution_count": 64,
   "id": "magnetic-coach",
   "metadata": {
    "execution": {
     "iopub.execute_input": "2021-02-08T22:11:55.606487Z",
     "iopub.status.busy": "2021-02-08T22:11:55.605122Z",
     "iopub.status.idle": "2021-02-08T22:11:55.608880Z",
     "shell.execute_reply": "2021-02-08T22:11:55.608315Z"
    }
   },
   "outputs": [
    {
     "data": {
      "text/plain": [
       "True"
      ]
     },
     "execution_count": 1,
     "metadata": {},
     "output_type": "execute_result"
    }
   ],
   "source": [
    "l = [1, 2, 3, 4]\n",
    "2 in l"
   ]
  },
  {
   "cell_type": "code",
   "execution_count": 65,
   "id": "harmful-subscriber",
   "metadata": {
    "execution": {
     "iopub.execute_input": "2021-02-08T22:11:55.614967Z",
     "iopub.status.busy": "2021-02-08T22:11:55.613562Z",
     "iopub.status.idle": "2021-02-08T22:11:55.617089Z",
     "shell.execute_reply": "2021-02-08T22:11:55.616477Z"
    }
   },
   "outputs": [
    {
     "name": "stdout",
     "output_type": "stream",
     "text": [
      "la clave es clave1 y el valor es valor1\n",
      "la clave es 2 y el valor es valor2\n",
      "la clave es clave3 y el valor es 3\n"
     ]
    }
   ],
   "source": [
    "for clave, valor in diccionario.items():\n",
    "    print(\"la clave es %s y el valor es %s\" % (clave, valor))"
   ]
  },
  {
   "cell_type": "code",
   "execution_count": 66,
   "id": "outer-substance",
   "metadata": {
    "execution": {
     "iopub.execute_input": "2021-02-08T22:11:55.622792Z",
     "iopub.status.busy": "2021-02-08T22:11:55.621470Z",
     "iopub.status.idle": "2021-02-08T22:11:55.624974Z",
     "shell.execute_reply": "2021-02-08T22:11:55.624407Z"
    }
   },
   "outputs": [
    {
     "name": "stdout",
     "output_type": "stream",
     "text": [
      "la clave es clave1 y el valor es valor1\n",
      "la clave es 2 y el valor es valor2\n",
      "la clave es clave3 y el valor es 3\n"
     ]
    }
   ],
   "source": [
    "for clave, valor in diccionario.items():\n",
    "    print(\"la clave es {} y el valor es {}\".format(clave, valor))"
   ]
  },
  {
   "cell_type": "code",
   "execution_count": 67,
   "id": "optional-debut",
   "metadata": {
    "execution": {
     "iopub.execute_input": "2021-02-08T22:11:55.631384Z",
     "iopub.status.busy": "2021-02-08T22:11:55.630187Z",
     "iopub.status.idle": "2021-02-08T22:11:55.633419Z",
     "shell.execute_reply": "2021-02-08T22:11:55.633987Z"
    },
    "slideshow": {
     "slide_type": "slide"
    }
   },
   "outputs": [
    {
     "name": "stdout",
     "output_type": "stream",
     "text": [
      "la clave es clave1 y el valor es valor1\n",
      "la clave es 2 y el valor es valor2\n",
      "la clave es clave3 y el valor es 3\n"
     ]
    }
   ],
   "source": [
    "# Cómo iterar un diccionario elemento por elemento\n",
    "for (\n",
    "    clave,\n",
    "    valor,\n",
    ") in (\n",
    "    diccionario.items()\n",
    "):  # diccionario.items() va devolviendo tuplas con el formato (clave,valor)\n",
    "    print(\n",
    "        f\"la clave es {clave} y el valor es {valor}\"\n",
    "    )  # con esta sintaxis se desempaquetan en clave y valor (similar a enumerate)"
   ]
  },
  {
   "cell_type": "code",
   "execution_count": 68,
   "id": "framed-emerald",
   "metadata": {
    "execution": {
     "iopub.execute_input": "2021-02-08T22:11:55.640804Z",
     "iopub.status.busy": "2021-02-08T22:11:55.639692Z",
     "iopub.status.idle": "2021-02-08T22:11:55.642770Z",
     "shell.execute_reply": "2021-02-08T22:11:55.643253Z"
    },
    "slideshow": {
     "slide_type": "slide"
    }
   },
   "outputs": [
    {
     "name": "stdout",
     "output_type": "stream",
     "text": [
      "clave1\n",
      "2\n",
      "clave3\n"
     ]
    }
   ],
   "source": [
    "for clave in diccionario.keys():\n",
    "    print(clave)"
   ]
  },
  {
   "cell_type": "code",
   "execution_count": 69,
   "id": "congressional-syria",
   "metadata": {
    "execution": {
     "iopub.execute_input": "2021-02-08T22:11:55.649070Z",
     "iopub.status.busy": "2021-02-08T22:11:55.647665Z",
     "iopub.status.idle": "2021-02-08T22:11:55.651251Z",
     "shell.execute_reply": "2021-02-08T22:11:55.650685Z"
    },
    "slideshow": {
     "slide_type": "slide"
    }
   },
   "outputs": [
    {
     "name": "stdout",
     "output_type": "stream",
     "text": [
      "valor1\n",
      "valor2\n",
      "3\n"
     ]
    }
   ],
   "source": [
    "for valor in diccionario.values():\n",
    "    print(valor)"
   ]
  },
  {
   "cell_type": "markdown",
   "id": "certified-queensland",
   "metadata": {},
   "source": [
    "#### Sets\n",
    "\n",
    "Son similares a los diccionarios (en eficiencia) pero se almacenan solo claves, y tienen algunas operaciones particulares.\n",
    "\n",
    "En particular, no pueden tener elementos iguales (pensar que son conjuntos)"
   ]
  },
  {
   "cell_type": "code",
   "execution_count": 70,
   "id": "restricted-support",
   "metadata": {
    "execution": {
     "iopub.execute_input": "2021-02-08T22:11:55.655510Z",
     "iopub.status.busy": "2021-02-08T22:11:55.654875Z",
     "iopub.status.idle": "2021-02-08T22:11:55.659577Z",
     "shell.execute_reply": "2021-02-08T22:11:55.658957Z"
    }
   },
   "outputs": [],
   "source": [
    "set??"
   ]
  },
  {
   "cell_type": "code",
   "execution_count": 71,
   "id": "third-arthur",
   "metadata": {
    "execution": {
     "iopub.execute_input": "2021-02-08T22:11:55.665459Z",
     "iopub.status.busy": "2021-02-08T22:11:55.664101Z",
     "iopub.status.idle": "2021-02-08T22:11:55.667995Z",
     "shell.execute_reply": "2021-02-08T22:11:55.667346Z"
    }
   },
   "outputs": [
    {
     "data": {
      "text/plain": [
       "{1, 2, 3}"
      ]
     },
     "execution_count": 1,
     "metadata": {},
     "output_type": "execute_result"
    }
   ],
   "source": [
    "# Se definen como los diccionarios pero sin hacerlos 'clave:valor', solamente una seguidilla de elementos\n",
    "{1, 2, 2, 3}"
   ]
  },
  {
   "cell_type": "code",
   "execution_count": 72,
   "id": "arctic-machine",
   "metadata": {
    "execution": {
     "iopub.execute_input": "2021-02-08T22:11:55.677807Z",
     "iopub.status.busy": "2021-02-08T22:11:55.676155Z",
     "iopub.status.idle": "2021-02-08T22:11:55.680216Z",
     "shell.execute_reply": "2021-02-08T22:11:55.679622Z"
    }
   },
   "outputs": [
    {
     "data": {
      "text/plain": [
       "{1, 2, 3}"
      ]
     },
     "execution_count": 1,
     "metadata": {},
     "output_type": "execute_result"
    }
   ],
   "source": [
    "set([1, 2, 2, 3])"
   ]
  },
  {
   "cell_type": "markdown",
   "id": "continued-documentary",
   "metadata": {},
   "source": [
    "## Condicionales (if...elif...else)\n",
    "\n",
    "```python\n",
    "if <condición_1>:\n",
    "    <hacer algo_1 si se da la condición_1>\n",
    "elif <condición_2>:\n",
    "    <hacer algo_2 si se da la condición_2>\n",
    "...\n",
    "elif <condición_n>:\n",
    "    <hacer algo_n si se da la condición_n>\n",
    "else:\n",
    "    <hacer otra cosa si no dan las anteriores>\n",
    "```\n",
    "\n",
    "Algo importante para notar es que los bloques se definen por **niveles de identacion**."
   ]
  },
  {
   "cell_type": "code",
   "execution_count": 73,
   "id": "innocent-poker",
   "metadata": {
    "execution": {
     "iopub.execute_input": "2021-02-08T22:11:55.686570Z",
     "iopub.status.busy": "2021-02-08T22:11:55.685087Z",
     "iopub.status.idle": "2021-02-08T22:11:55.688827Z",
     "shell.execute_reply": "2021-02-08T22:11:55.688301Z"
    }
   },
   "outputs": [
    {
     "name": "stdout",
     "output_type": "stream",
     "text": [
      "uno\n"
     ]
    }
   ],
   "source": [
    "v = 1\n",
    "if v == 1:\n",
    "    print(\"uno\")\n",
    "elif v == 2:\n",
    "    print(\"dos\")\n",
    "else:\n",
    "    print(\"ni idea\")\n",
    "    print(v)"
   ]
  },
  {
   "cell_type": "markdown",
   "id": "authentic-fever",
   "metadata": {},
   "source": [
    "## Iteraciones\n",
    "\n",
    "```python\n",
    "while cond:\n",
    "    <codigo>\n",
    "```\n",
    "\n",
    "```python\n",
    "for elemento in iterable:\n",
    "    <codigo>\n",
    "```\n",
    "\n",
    "Para iterar sobre un rango de valores, usamos `range`"
   ]
  },
  {
   "cell_type": "code",
   "execution_count": 74,
   "id": "august-squad",
   "metadata": {
    "execution": {
     "iopub.execute_input": "2021-02-08T22:11:55.695227Z",
     "iopub.status.busy": "2021-02-08T22:11:55.693788Z",
     "iopub.status.idle": "2021-02-08T22:11:55.697536Z",
     "shell.execute_reply": "2021-02-08T22:11:55.696952Z"
    }
   },
   "outputs": [
    {
     "name": "stdout",
     "output_type": "stream",
     "text": [
      "1\n",
      "4\n",
      "7\n",
      "10\n"
     ]
    }
   ],
   "source": [
    "for i in range(1, 11, 3):\n",
    "    print(i)"
   ]
  },
  {
   "cell_type": "markdown",
   "id": "royal-trail",
   "metadata": {},
   "source": [
    "## Operadores logicos\n",
    "\n",
    "`not`, `or`, `and`"
   ]
  },
  {
   "cell_type": "code",
   "execution_count": 75,
   "id": "legendary-manual",
   "metadata": {
    "execution": {
     "iopub.execute_input": "2021-02-08T22:11:55.703286Z",
     "iopub.status.busy": "2021-02-08T22:11:55.701700Z",
     "iopub.status.idle": "2021-02-08T22:11:55.705461Z",
     "shell.execute_reply": "2021-02-08T22:11:55.704807Z"
    }
   },
   "outputs": [
    {
     "name": "stdout",
     "output_type": "stream",
     "text": [
      "yay\n"
     ]
    }
   ],
   "source": [
    "if True or False:\n",
    "    print(\"yay\")"
   ]
  },
  {
   "cell_type": "code",
   "execution_count": 76,
   "id": "concerned-locator",
   "metadata": {
    "execution": {
     "iopub.execute_input": "2021-02-08T22:11:55.710990Z",
     "iopub.status.busy": "2021-02-08T22:11:55.709608Z",
     "iopub.status.idle": "2021-02-08T22:11:55.713189Z",
     "shell.execute_reply": "2021-02-08T22:11:55.712608Z"
    }
   },
   "outputs": [
    {
     "data": {
      "text/plain": [
       "False"
      ]
     },
     "execution_count": 1,
     "metadata": {},
     "output_type": "execute_result"
    }
   ],
   "source": [
    "1 == 2"
   ]
  },
  {
   "cell_type": "code",
   "execution_count": 77,
   "id": "adult-asthma",
   "metadata": {
    "execution": {
     "iopub.execute_input": "2021-02-08T22:11:55.718438Z",
     "iopub.status.busy": "2021-02-08T22:11:55.717356Z",
     "iopub.status.idle": "2021-02-08T22:11:55.720373Z",
     "shell.execute_reply": "2021-02-08T22:11:55.720846Z"
    }
   },
   "outputs": [
    {
     "data": {
      "text/plain": [
       "True"
      ]
     },
     "execution_count": 1,
     "metadata": {},
     "output_type": "execute_result"
    }
   ],
   "source": [
    "1 != 2"
   ]
  },
  {
   "cell_type": "markdown",
   "id": "interior-catch",
   "metadata": {
    "slideshow": {
     "slide_type": "slide"
    }
   },
   "source": [
    "## Funciones en Python"
   ]
  },
  {
   "cell_type": "code",
   "execution_count": 78,
   "id": "suited-poetry",
   "metadata": {
    "execution": {
     "iopub.execute_input": "2021-02-08T22:11:55.728901Z",
     "iopub.status.busy": "2021-02-08T22:11:55.727647Z",
     "iopub.status.idle": "2021-02-08T22:11:55.730790Z",
     "shell.execute_reply": "2021-02-08T22:11:55.730294Z"
    },
    "slideshow": {
     "slide_type": "slide"
    }
   },
   "outputs": [
    {
     "name": "stdout",
     "output_type": "stream",
     "text": [
      "True\n",
      "False\n"
     ]
    }
   ],
   "source": [
    "def busqueda_binaria(lista, elemento):\n",
    "    if not lista:\n",
    "        return False\n",
    "    elif len(lista) == 1:\n",
    "        return lista[0] == elemento\n",
    "    mitad = len(lista) // 2  # // es la operación división entera\n",
    "    if lista[mitad] == elemento:\n",
    "        return True\n",
    "    if lista[mitad] > elemento:\n",
    "        return busqueda_binaria(lista[:mitad], elemento)\n",
    "    if lista[mitad] < elemento:\n",
    "        return busqueda_binaria(lista[mitad:], elemento)\n",
    "\n",
    "\n",
    "print(busqueda_binaria([1, 2, 3, 4, 5], 4))\n",
    "print(busqueda_binaria([1, 4, 6, 7, 9, 10], 2))"
   ]
  },
  {
   "cell_type": "code",
   "execution_count": 79,
   "id": "facial-weather",
   "metadata": {
    "execution": {
     "iopub.execute_input": "2021-02-08T22:11:55.735903Z",
     "iopub.status.busy": "2021-02-08T22:11:55.735073Z",
     "iopub.status.idle": "2021-02-08T22:11:55.737813Z",
     "shell.execute_reply": "2021-02-08T22:11:55.738264Z"
    }
   },
   "outputs": [
    {
     "name": "stdout",
     "output_type": "stream",
     "text": [
      "(3, 3, 3)\n"
     ]
    }
   ],
   "source": [
    "def a(b):\n",
    "    if a == 1:\n",
    "        print(a)\n",
    "    return (b, b, b)\n",
    "\n",
    "\n",
    "print(a(3))"
   ]
  },
  {
   "cell_type": "code",
   "execution_count": 80,
   "id": "straight-frequency",
   "metadata": {
    "execution": {
     "iopub.execute_input": "2021-02-08T22:11:55.744194Z",
     "iopub.status.busy": "2021-02-08T22:11:55.743469Z",
     "iopub.status.idle": "2021-02-08T22:11:55.760747Z",
     "shell.execute_reply": "2021-02-08T22:11:55.755999Z"
    },
    "lines_to_next_cell": 2,
    "slideshow": {
     "slide_type": "slide"
    },
    "tags": [
     "raises-exception"
    ]
   },
   "outputs": [
    {
     "name": "stdout",
     "output_type": "stream",
     "text": [
      "3\n",
      "3.0\n",
      "3.0\n",
      "hola como te va\n",
      "[1, 2, 3, 4, 5]\n"
     ]
    },
    {
     "ename": "TypeError",
     "evalue": "can only concatenate str (not \"int\") to str",
     "output_type": "error",
     "traceback": [
      "\u001b[0;31m---------------------------------------------------------------------------\u001b[0m",
      "\u001b[0;31mTypeError\u001b[0m                                 Traceback (most recent call last)",
      "\u001b[0;32m<ipython-input-1-c2a6a99a90c7>\u001b[0m in \u001b[0;36m<module>\u001b[0;34m\u001b[0m\n\u001b[1;32m      8\u001b[0m \u001b[0mprint\u001b[0m\u001b[0;34m(\u001b[0m\u001b[0msuma\u001b[0m\u001b[0;34m(\u001b[0m\u001b[0;34m\"hola \"\u001b[0m\u001b[0;34m,\u001b[0m \u001b[0;34m\"como te va\"\u001b[0m\u001b[0;34m)\u001b[0m\u001b[0;34m)\u001b[0m\u001b[0;34m\u001b[0m\u001b[0;34m\u001b[0m\u001b[0m\n\u001b[1;32m      9\u001b[0m \u001b[0mprint\u001b[0m\u001b[0;34m(\u001b[0m\u001b[0msuma\u001b[0m\u001b[0;34m(\u001b[0m\u001b[0;34m[\u001b[0m\u001b[0;36m1\u001b[0m\u001b[0;34m,\u001b[0m \u001b[0;36m2\u001b[0m\u001b[0;34m,\u001b[0m \u001b[0;36m3\u001b[0m\u001b[0;34m]\u001b[0m\u001b[0;34m,\u001b[0m \u001b[0;34m[\u001b[0m\u001b[0;36m4\u001b[0m\u001b[0;34m,\u001b[0m \u001b[0;36m5\u001b[0m\u001b[0;34m]\u001b[0m\u001b[0;34m)\u001b[0m\u001b[0;34m)\u001b[0m\u001b[0;34m\u001b[0m\u001b[0;34m\u001b[0m\u001b[0m\n\u001b[0;32m---> 10\u001b[0;31m \u001b[0mprint\u001b[0m\u001b[0;34m(\u001b[0m\u001b[0msuma\u001b[0m\u001b[0;34m(\u001b[0m\u001b[0;34m\"1\"\u001b[0m\u001b[0;34m,\u001b[0m \u001b[0;36m3\u001b[0m\u001b[0;34m)\u001b[0m\u001b[0;34m)\u001b[0m  \u001b[0;31m# Falla\u001b[0m\u001b[0;34m\u001b[0m\u001b[0;34m\u001b[0m\u001b[0m\n\u001b[0m",
      "\u001b[0;32m<ipython-input-1-c2a6a99a90c7>\u001b[0m in \u001b[0;36msuma\u001b[0;34m(a, b)\u001b[0m\n\u001b[1;32m      1\u001b[0m \u001b[0;32mdef\u001b[0m \u001b[0msuma\u001b[0m\u001b[0;34m(\u001b[0m\u001b[0ma\u001b[0m\u001b[0;34m,\u001b[0m \u001b[0mb\u001b[0m\u001b[0;34m)\u001b[0m\u001b[0;34m:\u001b[0m\u001b[0;34m\u001b[0m\u001b[0;34m\u001b[0m\u001b[0m\n\u001b[0;32m----> 2\u001b[0;31m     \u001b[0;32mreturn\u001b[0m \u001b[0ma\u001b[0m \u001b[0;34m+\u001b[0m \u001b[0mb\u001b[0m\u001b[0;34m\u001b[0m\u001b[0;34m\u001b[0m\u001b[0m\n\u001b[0m\u001b[1;32m      3\u001b[0m \u001b[0;34m\u001b[0m\u001b[0m\n\u001b[1;32m      4\u001b[0m \u001b[0;34m\u001b[0m\u001b[0m\n\u001b[1;32m      5\u001b[0m \u001b[0mprint\u001b[0m\u001b[0;34m(\u001b[0m\u001b[0msuma\u001b[0m\u001b[0;34m(\u001b[0m\u001b[0;36m1\u001b[0m\u001b[0;34m,\u001b[0m \u001b[0;36m2\u001b[0m\u001b[0;34m)\u001b[0m\u001b[0;34m)\u001b[0m\u001b[0;34m\u001b[0m\u001b[0;34m\u001b[0m\u001b[0m\n",
      "\u001b[0;31mTypeError\u001b[0m: can only concatenate str (not \"int\") to str"
     ]
    }
   ],
   "source": [
    "def suma(a, b):\n",
    "    return a + b\n",
    "\n",
    "\n",
    "print(suma(1, 2))\n",
    "print(suma(1.0, 2.0))\n",
    "print(suma(1.0, 2))\n",
    "print(suma(\"hola \", \"como te va\"))\n",
    "print(suma([1, 2, 3], [4, 5]))\n",
    "print(suma(\"1\", 3))  # Falla"
   ]
  },
  {
   "cell_type": "code",
   "execution_count": 81,
   "id": "fewer-portable",
   "metadata": {
    "execution": {
     "iopub.execute_input": "2021-02-08T22:11:55.867034Z",
     "iopub.status.busy": "2021-02-08T22:11:55.866246Z",
     "iopub.status.idle": "2021-02-08T22:11:55.868598Z",
     "shell.execute_reply": "2021-02-08T22:11:55.869058Z"
    }
   },
   "outputs": [
    {
     "name": "stdout",
     "output_type": "stream",
     "text": [
      "2.0\n"
     ]
    }
   ],
   "source": [
    "# El valor por default de divisor es 1\n",
    "\n",
    "\n",
    "def division(dividendo, divisor=2):\n",
    "    return dividendo / divisor\n",
    "\n",
    "\n",
    "print(division(4))  # Usa el valor por default"
   ]
  },
  {
   "cell_type": "code",
   "execution_count": 82,
   "id": "korean-eight",
   "metadata": {
    "execution": {
     "iopub.execute_input": "2021-02-08T22:11:55.877627Z",
     "iopub.status.busy": "2021-02-08T22:11:55.873028Z",
     "iopub.status.idle": "2021-02-08T22:11:55.881092Z",
     "shell.execute_reply": "2021-02-08T22:11:55.880574Z"
    },
    "tags": [
     "raises-exception"
    ]
   },
   "outputs": [
    {
     "name": "stdout",
     "output_type": "stream",
     "text": [
      "0.5\n",
      "0.5\n"
     ]
    },
    {
     "ename": "TypeError",
     "evalue": "division() missing 1 required positional argument: 'dividendo'",
     "output_type": "error",
     "traceback": [
      "\u001b[0;31m---------------------------------------------------------------------------\u001b[0m",
      "\u001b[0;31mTypeError\u001b[0m                                 Traceback (most recent call last)",
      "\u001b[0;32m<ipython-input-1-34eff3833138>\u001b[0m in \u001b[0;36m<module>\u001b[0;34m\u001b[0m\n\u001b[1;32m      1\u001b[0m \u001b[0mprint\u001b[0m\u001b[0;34m(\u001b[0m\u001b[0mdivision\u001b[0m\u001b[0;34m(\u001b[0m\u001b[0;36m1\u001b[0m\u001b[0;34m,\u001b[0m \u001b[0;36m2\u001b[0m\u001b[0;34m)\u001b[0m\u001b[0;34m)\u001b[0m  \u001b[0;31m# Parámetros por orden\u001b[0m\u001b[0;34m\u001b[0m\u001b[0;34m\u001b[0m\u001b[0m\n\u001b[1;32m      2\u001b[0m \u001b[0mprint\u001b[0m\u001b[0;34m(\u001b[0m\u001b[0mdivision\u001b[0m\u001b[0;34m(\u001b[0m\u001b[0mdividendo\u001b[0m\u001b[0;34m=\u001b[0m\u001b[0;36m1\u001b[0m\u001b[0;34m,\u001b[0m \u001b[0mdivisor\u001b[0m\u001b[0;34m=\u001b[0m\u001b[0;36m2\u001b[0m\u001b[0;34m)\u001b[0m\u001b[0;34m)\u001b[0m  \u001b[0;31m# Parámetros por nombre\u001b[0m\u001b[0;34m\u001b[0m\u001b[0;34m\u001b[0m\u001b[0m\n\u001b[0;32m----> 3\u001b[0;31m \u001b[0mprint\u001b[0m\u001b[0;34m(\u001b[0m\u001b[0mdivision\u001b[0m\u001b[0;34m(\u001b[0m\u001b[0mdivisor\u001b[0m\u001b[0;34m=\u001b[0m\u001b[0;36m2\u001b[0m\u001b[0;34m)\u001b[0m\u001b[0;34m)\u001b[0m\u001b[0;34m\u001b[0m\u001b[0;34m\u001b[0m\u001b[0m\n\u001b[0m",
      "\u001b[0;31mTypeError\u001b[0m: division() missing 1 required positional argument: 'dividendo'"
     ]
    }
   ],
   "source": [
    "print(division(1, 2))  # Parámetros por orden\n",
    "print(division(dividendo=1, divisor=2))  # Parámetros por nombre\n",
    "print(division(divisor=2))"
   ]
  },
  {
   "cell_type": "code",
   "execution_count": 83,
   "id": "dried-andrews",
   "metadata": {
    "execution": {
     "iopub.execute_input": "2021-02-08T22:11:55.987149Z",
     "iopub.status.busy": "2021-02-08T22:11:55.986039Z",
     "iopub.status.idle": "2021-02-08T22:11:55.991208Z",
     "shell.execute_reply": "2021-02-08T22:11:55.991646Z"
    }
   },
   "outputs": [
    {
     "name": "stdout",
     "output_type": "stream",
     "text": [
      "0.5\n"
     ]
    }
   ],
   "source": [
    "print(division(divisor=2, dividendo=1))"
   ]
  },
  {
   "cell_type": "code",
   "execution_count": 84,
   "id": "compound-irish",
   "metadata": {
    "execution": {
     "iopub.execute_input": "2021-02-08T22:11:55.996555Z",
     "iopub.status.busy": "2021-02-08T22:11:55.995983Z",
     "iopub.status.idle": "2021-02-08T22:11:56.000638Z",
     "shell.execute_reply": "2021-02-08T22:11:56.000161Z"
    }
   },
   "outputs": [
    {
     "name": "stdout",
     "output_type": "stream",
     "text": [
      "['a', 'b', 'c']\n",
      "[1, 2, 3]\n",
      "['hola', ' don', ' pepito']\n",
      "hola -  don -  pepito\n"
     ]
    }
   ],
   "source": [
    "# Funciones básicas ya en el lenguaje\n",
    "# Hechas para funcionar para distintos tipos\n",
    "\n",
    "string_ordenado = sorted('bca')\n",
    "print(string_ordenado)\n",
    "\n",
    "lista_ordenada = sorted([1, 3, 2])\n",
    "print(lista_ordenada)\n",
    "\n",
    "separadas = \"hola, don, pepito\".split(\",\")\n",
    "print(separadas)\n",
    "unidas = \" - \".join(separadas)\n",
    "print(unidas)"
   ]
  },
  {
   "cell_type": "markdown",
   "id": "varying-marking",
   "metadata": {},
   "source": [
    "## Módulos\n",
    "\n",
    "Para incluir alguna biblioteca de funciones se usa `import`. Pueden ser cosas ya predefinidas en Python (`math`, `random`, etc), nombres de archivos en nuestro directorio (por ejemplo, para `mimodulo.py` ponemos `import mimodulo`) o bibliotecas instaladas por el usuario"
   ]
  },
  {
   "cell_type": "code",
   "execution_count": 85,
   "id": "oriented-founder",
   "metadata": {
    "execution": {
     "iopub.execute_input": "2021-02-08T22:11:56.009593Z",
     "iopub.status.busy": "2021-02-08T22:11:56.009003Z",
     "iopub.status.idle": "2021-02-08T22:11:56.023042Z",
     "shell.execute_reply": "2021-02-08T22:11:56.021984Z"
    }
   },
   "outputs": [
    {
     "name": "stdout",
     "output_type": "stream",
     "text": [
      "3.141592653589793\n"
     ]
    }
   ],
   "source": [
    "import math\n",
    "\n",
    "print(math.pi)"
   ]
  },
  {
   "cell_type": "code",
   "execution_count": 86,
   "id": "organizational-roads",
   "metadata": {
    "execution": {
     "iopub.execute_input": "2021-02-08T22:11:56.027996Z",
     "iopub.status.busy": "2021-02-08T22:11:56.027189Z",
     "iopub.status.idle": "2021-02-08T22:11:56.032904Z",
     "shell.execute_reply": "2021-02-08T22:11:56.032183Z"
    }
   },
   "outputs": [
    {
     "name": "stdout",
     "output_type": "stream",
     "text": [
      "3.141592653589793 2.718281828459045\n"
     ]
    }
   ],
   "source": [
    "from math import pi, e\n",
    "\n",
    "print(pi, e)"
   ]
  },
  {
   "cell_type": "code",
   "execution_count": 87,
   "id": "worthy-gentleman",
   "metadata": {
    "execution": {
     "iopub.execute_input": "2021-02-08T22:11:56.037689Z",
     "iopub.status.busy": "2021-02-08T22:11:56.037105Z",
     "iopub.status.idle": "2021-02-08T22:11:56.042616Z",
     "shell.execute_reply": "2021-02-08T22:11:56.042090Z"
    }
   },
   "outputs": [
    {
     "data": {
      "text/plain": [
       "2"
      ]
     },
     "execution_count": 1,
     "metadata": {},
     "output_type": "execute_result"
    }
   ],
   "source": [
    "math.gcd(56, 78)"
   ]
  },
  {
   "cell_type": "markdown",
   "id": "talented-bedroom",
   "metadata": {},
   "source": [
    "## Manejo de excepciones\n",
    "\n",
    "Se pueden encapsular errores esperados en un bloque 'try/except' para evitar cortar el flujo del programa"
   ]
  },
  {
   "cell_type": "code",
   "execution_count": 88,
   "id": "enclosed-sharp",
   "metadata": {
    "execution": {
     "iopub.execute_input": "2021-02-08T22:11:56.051631Z",
     "iopub.status.busy": "2021-02-08T22:11:56.046094Z",
     "iopub.status.idle": "2021-02-08T22:11:56.057374Z",
     "shell.execute_reply": "2021-02-08T22:11:56.055447Z"
    },
    "tags": [
     "raises-exception"
    ]
   },
   "outputs": [
    {
     "ename": "ZeroDivisionError",
     "evalue": "division by zero",
     "output_type": "error",
     "traceback": [
      "\u001b[0;31m---------------------------------------------------------------------------\u001b[0m",
      "\u001b[0;31mZeroDivisionError\u001b[0m                         Traceback (most recent call last)",
      "\u001b[0;32m<ipython-input-1-f031f77b1a55>\u001b[0m in \u001b[0;36m<module>\u001b[0;34m\u001b[0m\n\u001b[0;32m----> 1\u001b[0;31m \u001b[0mdivision\u001b[0m\u001b[0;34m(\u001b[0m\u001b[0;36m1\u001b[0m\u001b[0;34m,\u001b[0m \u001b[0;36m0\u001b[0m\u001b[0;34m)\u001b[0m  \u001b[0;31m# No se puede dividir por cero\u001b[0m\u001b[0;34m\u001b[0m\u001b[0;34m\u001b[0m\u001b[0m\n\u001b[0m",
      "\u001b[0;32m<ipython-input-1-0d991d7de762>\u001b[0m in \u001b[0;36mdivision\u001b[0;34m(dividendo, divisor)\u001b[0m\n\u001b[1;32m      3\u001b[0m \u001b[0;34m\u001b[0m\u001b[0m\n\u001b[1;32m      4\u001b[0m \u001b[0;32mdef\u001b[0m \u001b[0mdivision\u001b[0m\u001b[0;34m(\u001b[0m\u001b[0mdividendo\u001b[0m\u001b[0;34m,\u001b[0m \u001b[0mdivisor\u001b[0m\u001b[0;34m=\u001b[0m\u001b[0;36m2\u001b[0m\u001b[0;34m)\u001b[0m\u001b[0;34m:\u001b[0m\u001b[0;34m\u001b[0m\u001b[0;34m\u001b[0m\u001b[0m\n\u001b[0;32m----> 5\u001b[0;31m     \u001b[0;32mreturn\u001b[0m \u001b[0mdividendo\u001b[0m \u001b[0;34m/\u001b[0m \u001b[0mdivisor\u001b[0m\u001b[0;34m\u001b[0m\u001b[0;34m\u001b[0m\u001b[0m\n\u001b[0m\u001b[1;32m      6\u001b[0m \u001b[0;34m\u001b[0m\u001b[0m\n\u001b[1;32m      7\u001b[0m \u001b[0;34m\u001b[0m\u001b[0m\n",
      "\u001b[0;31mZeroDivisionError\u001b[0m: division by zero"
     ]
    }
   ],
   "source": [
    "division(1, 0)  # No se puede dividir por cero"
   ]
  },
  {
   "cell_type": "code",
   "execution_count": 89,
   "id": "narrow-absence",
   "metadata": {
    "execution": {
     "iopub.execute_input": "2021-02-08T22:11:56.161909Z",
     "iopub.status.busy": "2021-02-08T22:11:56.161237Z",
     "iopub.status.idle": "2021-02-08T22:11:56.163918Z",
     "shell.execute_reply": "2021-02-08T22:11:56.163334Z"
    }
   },
   "outputs": [
    {
     "name": "stdout",
     "output_type": "stream",
     "text": [
      "No se puede dividir por cero, ojo! division by zero\n",
      "1\n"
     ]
    }
   ],
   "source": [
    "try:\n",
    "    division(1, 0)\n",
    "except (ZeroDivisionError, TypeError) as e:\n",
    "    print('No se puede dividir por cero, ojo!', e)\n",
    "finally:\n",
    "    print(1)"
   ]
  },
  {
   "cell_type": "markdown",
   "id": "seasonal-bandwidth",
   "metadata": {
    "slideshow": {
     "slide_type": "slide"
    }
   },
   "source": [
    "## Lectura y escritura de archivos"
   ]
  },
  {
   "cell_type": "code",
   "execution_count": 90,
   "id": "alleged-career",
   "metadata": {
    "execution": {
     "iopub.execute_input": "2021-02-08T22:11:56.170277Z",
     "iopub.status.busy": "2021-02-08T22:11:56.169596Z",
     "iopub.status.idle": "2021-02-08T22:11:56.174028Z",
     "shell.execute_reply": "2021-02-08T22:11:56.172601Z"
    },
    "slideshow": {
     "slide_type": "slide"
    }
   },
   "outputs": [
    {
     "name": "stdout",
     "output_type": "stream",
     "text": [
      "<_io.TextIOWrapper name='archivo.csv' mode='w' encoding='UTF-8'>\n"
     ]
    }
   ],
   "source": [
    "import random\n",
    "\n",
    "with open(\n",
    "    'archivo.csv', 'w'\n",
    ") as archivo:  # Al usar esta sintaxis no es necesario hacer close\n",
    "    archivo.write(\"Alumno, nota\\n\")\n",
    "    # Tambien de forma similar al fprintf se puede hacer:\n",
    "    # print(\"Alumno, nota\\n\", file=archivo)\n",
    "    for i in range(0, 10):\n",
    "        archivo.write(f\"{i},{random.randrange(0,10)}\\n\")\n",
    "\n",
    "print(archivo)  # Comentario aclaratorio:\n",
    "# Las variables definidas en un determinado scope siguen existiendo por fuera del mismo.\n",
    "# Se debe tener cuidado con esto, ya que nada garantiza que por fuera el valor sea el esperado."
   ]
  },
  {
   "cell_type": "code",
   "execution_count": 91,
   "id": "constitutional-globe",
   "metadata": {
    "execution": {
     "iopub.execute_input": "2021-02-08T22:11:56.180137Z",
     "iopub.status.busy": "2021-02-08T22:11:56.179561Z",
     "iopub.status.idle": "2021-02-08T22:11:56.183244Z",
     "shell.execute_reply": "2021-02-08T22:11:56.183671Z"
    },
    "slideshow": {
     "slide_type": "slide"
    }
   },
   "outputs": [
    {
     "name": "stdout",
     "output_type": "stream",
     "text": [
      "Alumno, nota\n",
      "0,4\n",
      "1,9\n",
      "2,3\n",
      "3,7\n",
      "4,4\n",
      "5,5\n",
      "6,6\n",
      "7,5\n",
      "8,0\n",
      "9,7\n"
     ]
    }
   ],
   "source": [
    "with open('archivo.csv', 'r') as f:\n",
    "    for linea in f:\n",
    "        print(linea.strip())"
   ]
  },
  {
   "cell_type": "code",
   "execution_count": 92,
   "id": "accredited-milton",
   "metadata": {
    "execution": {
     "iopub.execute_input": "2021-02-08T22:11:56.188836Z",
     "iopub.status.busy": "2021-02-08T22:11:56.187747Z",
     "iopub.status.idle": "2021-02-08T22:11:56.190531Z",
     "shell.execute_reply": "2021-02-08T22:11:56.191005Z"
    }
   },
   "outputs": [
    {
     "name": "stdout",
     "output_type": "stream",
     "text": [
      "Alumno, nota\n",
      "0,4\n",
      "1,9\n",
      "2,3\n",
      "3,7\n",
      "4,4\n",
      "5,5\n",
      "6,6\n",
      "7,5\n",
      "8,0\n",
      "9,7\n",
      "\n"
     ]
    }
   ],
   "source": [
    "with open('archivo.csv', 'r') as f:\n",
    "    print(f.read())"
   ]
  },
  {
   "cell_type": "code",
   "execution_count": 93,
   "id": "mobile-medicare",
   "metadata": {
    "execution": {
     "iopub.execute_input": "2021-02-08T22:11:56.195209Z",
     "iopub.status.busy": "2021-02-08T22:11:56.194618Z",
     "iopub.status.idle": "2021-02-08T22:11:56.197192Z",
     "shell.execute_reply": "2021-02-08T22:11:56.196724Z"
    }
   },
   "outputs": [],
   "source": [
    "f = open('archivo.csv', 'w')\n",
    "f.write(\"algo, algo\")\n",
    "f.close()"
   ]
  },
  {
   "cell_type": "markdown",
   "id": "worse-optics",
   "metadata": {
    "slideshow": {
     "slide_type": "slide"
    }
   },
   "source": [
    "## Objetos\n",
    "\n",
    "Los objetos tienen metodos y atributos:\n",
    "- Atributos: equivalentes a variables.\n",
    "- Métodos: equivalentes a las primitivas."
   ]
  },
  {
   "cell_type": "markdown",
   "id": "dynamic-longer",
   "metadata": {
    "slideshow": {
     "slide_type": "slide"
    }
   },
   "source": [
    "### Cómo creo una clase"
   ]
  },
  {
   "cell_type": "code",
   "execution_count": 94,
   "id": "temporal-romance",
   "metadata": {
    "execution": {
     "iopub.execute_input": "2021-02-08T22:11:56.202799Z",
     "iopub.status.busy": "2021-02-08T22:11:56.202238Z",
     "iopub.status.idle": "2021-02-08T22:11:56.221805Z",
     "shell.execute_reply": "2021-02-08T22:11:56.211911Z"
    },
    "slideshow": {
     "slide_type": "slide"
    }
   },
   "outputs": [],
   "source": [
    "class Nodo(object):\n",
    "    def __init__(self, dato, siguiente=None):\n",
    "        self._dato = dato\n",
    "        self._siguiente = siguiente\n",
    "\n",
    "    @property\n",
    "    def dato(self):\n",
    "        return self._dato\n",
    "\n",
    "    @property\n",
    "    def proximo(self):\n",
    "        return self._siguiente\n",
    "\n",
    "    @proximo.setter\n",
    "    def proximo(self, siguiente):\n",
    "        self._siguiente = siguiente\n",
    "\n",
    "    def __repr__(self):\n",
    "        return str(self.dato)\n",
    "\n",
    "    def __str__(self):\n",
    "        return str(self.dato)"
   ]
  },
  {
   "cell_type": "code",
   "execution_count": 95,
   "id": "determined-factor",
   "metadata": {
    "execution": {
     "iopub.execute_input": "2021-02-08T22:11:56.226031Z",
     "iopub.status.busy": "2021-02-08T22:11:56.225236Z",
     "iopub.status.idle": "2021-02-08T22:11:56.230363Z",
     "shell.execute_reply": "2021-02-08T22:11:56.229780Z"
    },
    "slideshow": {
     "slide_type": "slide"
    }
   },
   "outputs": [
    {
     "name": "stdout",
     "output_type": "stream",
     "text": [
      "hola\n"
     ]
    }
   ],
   "source": [
    "nodo = Nodo(\"hola\")\n",
    "print(nodo)"
   ]
  },
  {
   "cell_type": "code",
   "execution_count": 96,
   "id": "sound-gardening",
   "metadata": {
    "execution": {
     "iopub.execute_input": "2021-02-08T22:11:56.234811Z",
     "iopub.status.busy": "2021-02-08T22:11:56.234250Z",
     "iopub.status.idle": "2021-02-08T22:11:56.239495Z",
     "shell.execute_reply": "2021-02-08T22:11:56.238998Z"
    },
    "slideshow": {
     "slide_type": "slide"
    }
   },
   "outputs": [
    {
     "name": "stdout",
     "output_type": "stream",
     "text": [
      "[hola, lala]\n"
     ]
    }
   ],
   "source": [
    "nodo2 = Nodo(\"lala\")\n",
    "print([nodo, nodo2])"
   ]
  },
  {
   "cell_type": "code",
   "execution_count": 97,
   "id": "hindu-opposition",
   "metadata": {
    "execution": {
     "iopub.execute_input": "2021-02-08T22:11:56.243487Z",
     "iopub.status.busy": "2021-02-08T22:11:56.242740Z",
     "iopub.status.idle": "2021-02-08T22:11:56.245677Z",
     "shell.execute_reply": "2021-02-08T22:11:56.245080Z"
    },
    "slideshow": {
     "slide_type": "slide"
    }
   },
   "outputs": [
    {
     "name": "stdout",
     "output_type": "stream",
     "text": [
      "hola\n"
     ]
    }
   ],
   "source": [
    "nodo3 = nodo.dato\n",
    "print(nodo3)"
   ]
  },
  {
   "cell_type": "markdown",
   "id": "committed-thought",
   "metadata": {
    "slideshow": {
     "slide_type": "slide"
    }
   },
   "source": [
    "### Ejemplo: Lista Enlazada"
   ]
  },
  {
   "cell_type": "code",
   "execution_count": 98,
   "id": "reduced-recipe",
   "metadata": {
    "execution": {
     "iopub.execute_input": "2021-02-08T22:11:56.254955Z",
     "iopub.status.busy": "2021-02-08T22:11:56.254351Z",
     "iopub.status.idle": "2021-02-08T22:11:56.258127Z",
     "shell.execute_reply": "2021-02-08T22:11:56.257640Z"
    },
    "slideshow": {
     "slide_type": "slide"
    }
   },
   "outputs": [],
   "source": [
    "class ListaEnlazada(object):\n",
    "    def __init__(self):\n",
    "        self._primero = None\n",
    "        self._ultimo = None\n",
    "        self._largo = 0\n",
    "\n",
    "    def __len__(self):\n",
    "        return self._largo\n",
    "\n",
    "    def insertar_al_principio(self, dato):\n",
    "        nodo = Nodo(dato, self._primero)\n",
    "        self._primero = nodo\n",
    "        self._largo += 1\n",
    "        if self._largo == 1:\n",
    "            self._ultimo = nodo\n",
    "\n",
    "    def insertar_al_final(self, dato):\n",
    "        if self._largo != 0:\n",
    "            nodo = Nodo(dato)\n",
    "            nodo_anterior = self._ultimo\n",
    "            nodo_anterior._siguiente = nodo\n",
    "            self._ultimo = nodo\n",
    "            self._largo += 1\n",
    "        else:\n",
    "            self.insertar_al_principio(dato)\n",
    "\n",
    "    @property\n",
    "    def primero(self):\n",
    "        return self._primero.dato\n",
    "\n",
    "    def borrar_primero(self):\n",
    "        dato = self.primero.dato\n",
    "        self._primero = self.primero.siguiente\n",
    "        self._largo -= 1\n",
    "        if self._largo == 0:\n",
    "            self._ultimo = None\n",
    "        return dato\n",
    "\n",
    "    def __str__(self):\n",
    "        datos = []\n",
    "        nodo_actual = self._primero\n",
    "        while nodo_actual:\n",
    "            datos.append(nodo_actual.dato)\n",
    "            nodo_actual = nodo_actual.proximo\n",
    "        return \" -> \".join(datos)\n",
    "\n",
    "    def __repr__(self):\n",
    "        return self.__str__()"
   ]
  },
  {
   "cell_type": "code",
   "execution_count": 99,
   "id": "pleased-characteristic",
   "metadata": {
    "execution": {
     "iopub.execute_input": "2021-02-08T22:11:56.262404Z",
     "iopub.status.busy": "2021-02-08T22:11:56.261855Z",
     "iopub.status.idle": "2021-02-08T22:11:56.266291Z",
     "shell.execute_reply": "2021-02-08T22:11:56.266747Z"
    },
    "slideshow": {
     "slide_type": "slide"
    }
   },
   "outputs": [
    {
     "data": {
      "text/plain": [
       "2"
      ]
     },
     "execution_count": 1,
     "metadata": {},
     "output_type": "execute_result"
    }
   ],
   "source": [
    "lista = ListaEnlazada()\n",
    "lista.insertar_al_principio(\"Primer Dato\")\n",
    "lista.insertar_al_principio(\"Primer primer Dato\")\n",
    "len(lista)"
   ]
  },
  {
   "cell_type": "code",
   "execution_count": 100,
   "id": "identical-playback",
   "metadata": {
    "execution": {
     "iopub.execute_input": "2021-02-08T22:11:56.271702Z",
     "iopub.status.busy": "2021-02-08T22:11:56.270901Z",
     "iopub.status.idle": "2021-02-08T22:11:56.273605Z",
     "shell.execute_reply": "2021-02-08T22:11:56.274063Z"
    }
   },
   "outputs": [
    {
     "data": {
      "text/plain": [
       "Primer primer Dato -> Primer Dato"
      ]
     },
     "execution_count": 1,
     "metadata": {},
     "output_type": "execute_result"
    }
   ],
   "source": [
    "lista"
   ]
  },
  {
   "cell_type": "code",
   "execution_count": 101,
   "id": "chubby-reasoning",
   "metadata": {
    "execution": {
     "iopub.execute_input": "2021-02-08T22:11:56.279452Z",
     "iopub.status.busy": "2021-02-08T22:11:56.278034Z",
     "iopub.status.idle": "2021-02-08T22:11:56.281753Z",
     "shell.execute_reply": "2021-02-08T22:11:56.281053Z"
    },
    "slideshow": {
     "slide_type": "slide"
    }
   },
   "outputs": [
    {
     "name": "stdout",
     "output_type": "stream",
     "text": [
      "Primer primer Dato\n"
     ]
    }
   ],
   "source": [
    "elemento = lista.primero\n",
    "print(elemento)"
   ]
  },
  {
   "cell_type": "markdown",
   "id": "changed-demonstration",
   "metadata": {},
   "source": [
    "## Recursos\n",
    "\n",
    "* [Taller de Python de Algoritmos II](https://github.com/algoritmos-rw/algo2_apuntes)\n",
    "\n",
    "* [Documentación de Python 3](https://docs.python.org/3/tutorial/)\n",
    "\n",
    "* [Apunte de Algoritmos y Programación I](https://algoritmos1rw.ddns.net/material)\n",
    "\n",
    "* [Automate the Boring Stuff with Python](http://automatetheboringstuff.com/)\n",
    "\n",
    "* [Curso Python](https://pythoncurso.github.io)\n",
    "\n",
    "* [Python Tutor](http://pythontutor.com/)\n",
    "\n",
    "* [Learn Python3 in Y minutes](https://learnxinyminutes.com/docs/python3/)\n",
    "\n",
    "* [Bibliografía de Algoritmos y Programación I](https://algoritmos1rw.ddns.net/bibliografia)"
   ]
  }
 ],
 "metadata": {
  "jupytext": {
   "encoding": "# -*- coding: utf-8 -*-",
   "formats": "ipynb,py:light"
  },
  "kernelspec": {
   "display_name": "Python 3 (venv)",
   "language": "python",
   "name": "python3"
  },
  "language_info": {
   "codemirror_mode": {
    "name": "ipython",
    "version": 3
   },
   "file_extension": ".py",
   "mimetype": "text/x-python",
   "name": "python",
   "nbconvert_exporter": "python",
   "pygments_lexer": "ipython3",
   "version": "3.7.9"
  }
 },
 "nbformat": 4,
 "nbformat_minor": 5
}
