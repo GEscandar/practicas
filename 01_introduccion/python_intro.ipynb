{
 "cells": [
  {
   "cell_type": "markdown",
   "id": "6572779d",
   "metadata": {},
   "source": [
    "# Python"
   ]
  },
  {
   "cell_type": "markdown",
   "id": "699b9bb8",
   "metadata": {
    "slideshow": {
     "slide_type": "slide"
    }
   },
   "source": [
    "## Un poco de Historia"
   ]
  },
  {
   "cell_type": "markdown",
   "id": "042b5036",
   "metadata": {
    "slideshow": {
     "slide_type": "subslide"
    }
   },
   "source": [
    "Python fue creado a finales de los años 80 por un programador holandés llamado **Guido van Rossum**,\n",
    "quien sigue siendo aún hoy el líder del desarrollo del lenguaje.\n",
    "\n",
    "(Edit julio 2018: [ya no más](https://www.mail-archive.com/python-committers@python.org/msg05628.html))"
   ]
  },
  {
   "cell_type": "markdown",
   "id": "94420f73",
   "metadata": {
    "slideshow": {
     "slide_type": "subslide"
    }
   },
   "source": [
    "El nombre del lenguaje proviene de los humoristas británicos Monty Python.\n",
    "\n",
    ">*\"I chose Python as a working title for the project, being in a slightly irreverent mood (and a big fan of Monty Python's Flying Circus).\"*"
   ]
  },
  {
   "cell_type": "markdown",
   "id": "68c9f4ea",
   "metadata": {
    "slideshow": {
     "slide_type": "slide"
    }
   },
   "source": [
    "## Caracteristicas\n",
    "\n",
    "- Interpretado\n",
    "- Tipado dinamico\n",
    "- Multiparadigma\n",
    "- Alto nivel\n",
    "- Tiene un recolector de basura (no hay malloc, free, realloc, etc)"
   ]
  },
  {
   "cell_type": "markdown",
   "id": "d2a0ca34",
   "metadata": {},
   "source": [
    "## ¿Cómo empezar?\n",
    "\n",
    "* Al ser un lenguaje *interpretado*, se puede ir escribiendo a medida que se ejecuta, sin necesidad de compilar de antemano! Solamente hace falta escribir `python` o `python3` en una terminal para empezar\n",
    "\n",
    "* También, permite escribir archivos y correrlos. Crear un archivo con extensión `.py` y luego correr `python miarchivo.py` en laterminal"
   ]
  },
  {
   "cell_type": "markdown",
   "id": "b71b06e1",
   "metadata": {
    "slideshow": {
     "slide_type": "slide"
    }
   },
   "source": [
    "## El Zen de Python"
   ]
  },
  {
   "cell_type": "code",
   "execution_count": 1,
   "id": "3e89a91a",
   "metadata": {
    "execution": {
     "iopub.execute_input": "2021-04-13T03:39:10.128060Z",
     "iopub.status.busy": "2021-04-13T03:39:10.127424Z",
     "iopub.status.idle": "2021-04-13T03:39:10.176318Z",
     "shell.execute_reply": "2021-04-13T03:39:10.176801Z"
    },
    "slideshow": {
     "slide_type": "slide"
    }
   },
   "outputs": [
    {
     "name": "stdout",
     "output_type": "stream",
     "text": [
      "The Zen of Python, by Tim Peters\n",
      "\n",
      "Beautiful is better than ugly.\n",
      "Explicit is better than implicit.\n",
      "Simple is better than complex.\n",
      "Complex is better than complicated.\n",
      "Flat is better than nested.\n",
      "Sparse is better than dense.\n",
      "Readability counts.\n",
      "Special cases aren't special enough to break the rules.\n",
      "Although practicality beats purity.\n",
      "Errors should never pass silently.\n",
      "Unless explicitly silenced.\n",
      "In the face of ambiguity, refuse the temptation to guess.\n",
      "There should be one-- and preferably only one --obvious way to do it.\n",
      "Although that way may not be obvious at first unless you're Dutch.\n",
      "Now is better than never.\n",
      "Although never is often better than *right* now.\n",
      "If the implementation is hard to explain, it's a bad idea.\n",
      "If the implementation is easy to explain, it may be a good idea.\n",
      "Namespaces are one honking great idea -- let's do more of those!\n"
     ]
    }
   ],
   "source": [
    "import this"
   ]
  },
  {
   "cell_type": "markdown",
   "id": "a0459b30",
   "metadata": {
    "slideshow": {
     "slide_type": "slide"
    }
   },
   "source": [
    "## Conocimientos Básicos de Python: Variables y Tipos"
   ]
  },
  {
   "cell_type": "code",
   "execution_count": 2,
   "id": "bfc31a72",
   "metadata": {
    "execution": {
     "iopub.execute_input": "2021-04-13T03:39:10.182911Z",
     "iopub.status.busy": "2021-04-13T03:39:10.181526Z",
     "iopub.status.idle": "2021-04-13T03:39:10.184954Z",
     "shell.execute_reply": "2021-04-13T03:39:10.184405Z"
    },
    "slideshow": {
     "slide_type": "slide"
    }
   },
   "outputs": [
    {
     "name": "stdout",
     "output_type": "stream",
     "text": [
      "Hello World!\n"
     ]
    }
   ],
   "source": [
    "# Este es un comentario\n",
    "\n",
    "print(\"Hello World!\")"
   ]
  },
  {
   "cell_type": "markdown",
   "id": "077c3259",
   "metadata": {},
   "source": [
    "Los strings en python puden escribirse tanto con comillas simples (`'`) como comillas dobles (`\"`). Normalmente vemos texto entre comillas triples para escribir _docstrings_, segun la guia de estilo de Python, el PEP8."
   ]
  },
  {
   "cell_type": "code",
   "execution_count": 3,
   "id": "2c58b4dd",
   "metadata": {
    "execution": {
     "iopub.execute_input": "2021-04-13T03:39:10.197120Z",
     "iopub.status.busy": "2021-04-13T03:39:10.195994Z",
     "iopub.status.idle": "2021-04-13T03:39:10.199743Z",
     "shell.execute_reply": "2021-04-13T03:39:10.199143Z"
    }
   },
   "outputs": [
    {
     "data": {
      "text/plain": [
       "'Esto es un docstring.\\n'"
      ]
     },
     "execution_count": 1,
     "metadata": {},
     "output_type": "execute_result"
    }
   ],
   "source": [
    "\"\"\"Esto es un docstring.\n",
    "\"\"\""
   ]
  },
  {
   "cell_type": "markdown",
   "id": "33109b32",
   "metadata": {},
   "source": [
    "### Declaracion de variables"
   ]
  },
  {
   "cell_type": "code",
   "execution_count": 4,
   "id": "9658a740",
   "metadata": {
    "execution": {
     "iopub.execute_input": "2021-04-13T03:39:10.205375Z",
     "iopub.status.busy": "2021-04-13T03:39:10.203924Z",
     "iopub.status.idle": "2021-04-13T03:39:10.207528Z",
     "shell.execute_reply": "2021-04-13T03:39:10.206969Z"
    }
   },
   "outputs": [
    {
     "name": "stdout",
     "output_type": "stream",
     "text": [
      "Hola\n"
     ]
    }
   ],
   "source": [
    "string = 'Hola'\n",
    "print(string)"
   ]
  },
  {
   "cell_type": "code",
   "execution_count": 5,
   "id": "8905c5bb",
   "metadata": {
    "execution": {
     "iopub.execute_input": "2021-04-13T03:39:10.211527Z",
     "iopub.status.busy": "2021-04-13T03:39:10.210889Z",
     "iopub.status.idle": "2021-04-13T03:39:10.214061Z",
     "shell.execute_reply": "2021-04-13T03:39:10.213426Z"
    }
   },
   "outputs": [
    {
     "name": "stdout",
     "output_type": "stream",
     "text": [
      "1\n"
     ]
    }
   ],
   "source": [
    "entero = 1\n",
    "print(entero)"
   ]
  },
  {
   "cell_type": "code",
   "execution_count": 6,
   "id": "46e475ad",
   "metadata": {
    "execution": {
     "iopub.execute_input": "2021-04-13T03:39:10.218702Z",
     "iopub.status.busy": "2021-04-13T03:39:10.218080Z",
     "iopub.status.idle": "2021-04-13T03:39:10.220179Z",
     "shell.execute_reply": "2021-04-13T03:39:10.220676Z"
    }
   },
   "outputs": [
    {
     "name": "stdout",
     "output_type": "stream",
     "text": [
      "1.0\n"
     ]
    }
   ],
   "source": [
    "flotante = 1.0\n",
    "print(flotante)"
   ]
  },
  {
   "cell_type": "code",
   "execution_count": 7,
   "id": "2560f0fa",
   "metadata": {
    "execution": {
     "iopub.execute_input": "2021-04-13T03:39:10.224785Z",
     "iopub.status.busy": "2021-04-13T03:39:10.224166Z",
     "iopub.status.idle": "2021-04-13T03:39:10.226558Z",
     "shell.execute_reply": "2021-04-13T03:39:10.227073Z"
    }
   },
   "outputs": [
    {
     "name": "stdout",
     "output_type": "stream",
     "text": [
      "(1, 1.0)\n"
     ]
    }
   ],
   "source": [
    "tupla = (entero, flotante)\n",
    "print(tupla)"
   ]
  },
  {
   "cell_type": "code",
   "execution_count": 8,
   "id": "92fc275b",
   "metadata": {
    "execution": {
     "iopub.execute_input": "2021-04-13T03:39:10.231136Z",
     "iopub.status.busy": "2021-04-13T03:39:10.230511Z",
     "iopub.status.idle": "2021-04-13T03:39:10.232589Z",
     "shell.execute_reply": "2021-04-13T03:39:10.233196Z"
    }
   },
   "outputs": [
    {
     "name": "stdout",
     "output_type": "stream",
     "text": [
      "(1, 1.0, 'Hola')\n"
     ]
    }
   ],
   "source": [
    "nupla = (entero, flotante, string)\n",
    "print(nupla)"
   ]
  },
  {
   "cell_type": "code",
   "execution_count": 9,
   "id": "afa2dcbd",
   "metadata": {
    "execution": {
     "iopub.execute_input": "2021-04-13T03:39:10.237609Z",
     "iopub.status.busy": "2021-04-13T03:39:10.236983Z",
     "iopub.status.idle": "2021-04-13T03:39:10.239402Z",
     "shell.execute_reply": "2021-04-13T03:39:10.239944Z"
    }
   },
   "outputs": [
    {
     "name": "stdout",
     "output_type": "stream",
     "text": [
      "[1, 1.0, 'Hola']\n"
     ]
    }
   ],
   "source": [
    "lista = [entero, flotante, string]\n",
    "print(lista)"
   ]
  },
  {
   "cell_type": "code",
   "execution_count": 10,
   "id": "2d02249c",
   "metadata": {
    "execution": {
     "iopub.execute_input": "2021-04-13T03:39:10.244656Z",
     "iopub.status.busy": "2021-04-13T03:39:10.244022Z",
     "iopub.status.idle": "2021-04-13T03:39:10.246718Z",
     "shell.execute_reply": "2021-04-13T03:39:10.246167Z"
    }
   },
   "outputs": [
    {
     "name": "stdout",
     "output_type": "stream",
     "text": [
      "{'1': (1, 1.0), 50: (1, 1.0, 'Hola'), '3': 1}\n"
     ]
    }
   ],
   "source": [
    "diccionario = {'1': tupla, 50: nupla, '3': entero}\n",
    "print(diccionario)"
   ]
  },
  {
   "cell_type": "code",
   "execution_count": 11,
   "id": "d419e3c4",
   "metadata": {
    "execution": {
     "iopub.execute_input": "2021-04-13T03:39:10.250921Z",
     "iopub.status.busy": "2021-04-13T03:39:10.250251Z",
     "iopub.status.idle": "2021-04-13T03:39:10.252990Z",
     "shell.execute_reply": "2021-04-13T03:39:10.252439Z"
    }
   },
   "outputs": [
    {
     "name": "stdout",
     "output_type": "stream",
     "text": [
      "{1, 2}\n"
     ]
    }
   ],
   "source": [
    "conjunto = set([1, 2])\n",
    "print(conjunto)"
   ]
  },
  {
   "cell_type": "code",
   "execution_count": 12,
   "id": "f153a8e9",
   "metadata": {
    "execution": {
     "iopub.execute_input": "2021-04-13T03:39:10.258905Z",
     "iopub.status.busy": "2021-04-13T03:39:10.256568Z",
     "iopub.status.idle": "2021-04-13T03:39:10.260852Z",
     "shell.execute_reply": "2021-04-13T03:39:10.259496Z"
    }
   },
   "outputs": [
    {
     "name": "stdout",
     "output_type": "stream",
     "text": [
      "True\n"
     ]
    }
   ],
   "source": [
    "booleano = True\n",
    "print(booleano)"
   ]
  },
  {
   "cell_type": "code",
   "execution_count": 13,
   "id": "46dc9ac8",
   "metadata": {
    "execution": {
     "iopub.execute_input": "2021-04-13T03:39:10.265238Z",
     "iopub.status.busy": "2021-04-13T03:39:10.264632Z",
     "iopub.status.idle": "2021-04-13T03:39:10.267211Z",
     "shell.execute_reply": "2021-04-13T03:39:10.266653Z"
    }
   },
   "outputs": [
    {
     "name": "stdout",
     "output_type": "stream",
     "text": [
      "None\n"
     ]
    }
   ],
   "source": [
    "nada = None\n",
    "print(nada)"
   ]
  },
  {
   "cell_type": "markdown",
   "id": "c34a3495",
   "metadata": {},
   "source": [
    "Ojo que las variables pueden cambiar de tipo!"
   ]
  },
  {
   "cell_type": "code",
   "execution_count": 14,
   "id": "f59d117e",
   "metadata": {
    "execution": {
     "iopub.execute_input": "2021-04-13T03:39:10.271366Z",
     "iopub.status.busy": "2021-04-13T03:39:10.270687Z",
     "iopub.status.idle": "2021-04-13T03:39:10.273929Z",
     "shell.execute_reply": "2021-04-13T03:39:10.273194Z"
    }
   },
   "outputs": [
    {
     "name": "stdout",
     "output_type": "stream",
     "text": [
      "1\n",
      "<class 'int'>\n"
     ]
    }
   ],
   "source": [
    "elemento = 1\n",
    "print(elemento)\n",
    "print(type(elemento))"
   ]
  },
  {
   "cell_type": "code",
   "execution_count": 15,
   "id": "29fbb524",
   "metadata": {
    "execution": {
     "iopub.execute_input": "2021-04-13T03:39:10.278241Z",
     "iopub.status.busy": "2021-04-13T03:39:10.277645Z",
     "iopub.status.idle": "2021-04-13T03:39:10.280399Z",
     "shell.execute_reply": "2021-04-13T03:39:10.279716Z"
    }
   },
   "outputs": [
    {
     "name": "stdout",
     "output_type": "stream",
     "text": [
      "1\n",
      "<class 'str'>\n"
     ]
    }
   ],
   "source": [
    "elemento = str(1)\n",
    "print(elemento)\n",
    "print(type(elemento))"
   ]
  },
  {
   "cell_type": "code",
   "execution_count": 16,
   "id": "5bec5c95",
   "metadata": {
    "execution": {
     "iopub.execute_input": "2021-04-13T03:39:10.284422Z",
     "iopub.status.busy": "2021-04-13T03:39:10.283812Z",
     "iopub.status.idle": "2021-04-13T03:39:10.286418Z",
     "shell.execute_reply": "2021-04-13T03:39:10.285798Z"
    }
   },
   "outputs": [
    {
     "name": "stdout",
     "output_type": "stream",
     "text": [
      "[2]\n",
      "<class 'list'>\n"
     ]
    }
   ],
   "source": [
    "elemento = [2]\n",
    "\n",
    "print(elemento)\n",
    "print(type(elemento))"
   ]
  },
  {
   "cell_type": "markdown",
   "id": "a0e5aa5b",
   "metadata": {},
   "source": [
    "### Tipos basicos"
   ]
  },
  {
   "cell_type": "markdown",
   "id": "e7607d90",
   "metadata": {
    "slideshow": {
     "slide_type": "slide"
    }
   },
   "source": [
    "#### Listas de Python"
   ]
  },
  {
   "cell_type": "code",
   "execution_count": 17,
   "id": "0745c2e7",
   "metadata": {
    "execution": {
     "iopub.execute_input": "2021-04-13T03:39:10.290616Z",
     "iopub.status.busy": "2021-04-13T03:39:10.289979Z",
     "iopub.status.idle": "2021-04-13T03:39:10.292713Z",
     "shell.execute_reply": "2021-04-13T03:39:10.293183Z"
    }
   },
   "outputs": [
    {
     "data": {
      "text/plain": [
       "[]"
      ]
     },
     "execution_count": 1,
     "metadata": {},
     "output_type": "execute_result"
    }
   ],
   "source": [
    "lista = list()\n",
    "lista"
   ]
  },
  {
   "cell_type": "code",
   "execution_count": 18,
   "id": "2a64ac44",
   "metadata": {
    "execution": {
     "iopub.execute_input": "2021-04-13T03:39:10.297035Z",
     "iopub.status.busy": "2021-04-13T03:39:10.296428Z",
     "iopub.status.idle": "2021-04-13T03:39:10.299601Z",
     "shell.execute_reply": "2021-04-13T03:39:10.299069Z"
    },
    "slideshow": {
     "slide_type": "slide"
    }
   },
   "outputs": [
    {
     "data": {
      "text/plain": [
       "[]"
      ]
     },
     "execution_count": 1,
     "metadata": {},
     "output_type": "execute_result"
    }
   ],
   "source": [
    "lista = []\n",
    "lista"
   ]
  },
  {
   "cell_type": "code",
   "execution_count": 19,
   "id": "2ca5d3ab",
   "metadata": {
    "execution": {
     "iopub.execute_input": "2021-04-13T03:39:10.303775Z",
     "iopub.status.busy": "2021-04-13T03:39:10.303001Z",
     "iopub.status.idle": "2021-04-13T03:39:10.305712Z",
     "shell.execute_reply": "2021-04-13T03:39:10.306215Z"
    },
    "slideshow": {
     "slide_type": "slide"
    }
   },
   "outputs": [
    {
     "data": {
      "text/plain": [
       "[1, 2, 3, 4]"
      ]
     },
     "execution_count": 1,
     "metadata": {},
     "output_type": "execute_result"
    }
   ],
   "source": [
    "lista = [1, 2, 3, 4]\n",
    "lista"
   ]
  },
  {
   "cell_type": "code",
   "execution_count": 20,
   "id": "12d12629",
   "metadata": {
    "execution": {
     "iopub.execute_input": "2021-04-13T03:39:10.310858Z",
     "iopub.status.busy": "2021-04-13T03:39:10.310205Z",
     "iopub.status.idle": "2021-04-13T03:39:10.313063Z",
     "shell.execute_reply": "2021-04-13T03:39:10.313602Z"
    },
    "slideshow": {
     "slide_type": "slide"
    }
   },
   "outputs": [
    {
     "data": {
      "text/plain": [
       "[1, 2, 3, 4, 1, 'dos', 3.0]"
      ]
     },
     "execution_count": 1,
     "metadata": {},
     "output_type": "execute_result"
    }
   ],
   "source": [
    "lista.append(1)  # Inserto un 1 al final\n",
    "lista.append(\"dos\")  # Inserto un \"dos\" al final\n",
    "lista.append(3.0)  # Inserto un 3.0 al final\n",
    "lista"
   ]
  },
  {
   "cell_type": "code",
   "execution_count": 21,
   "id": "ec8b0ee2",
   "metadata": {
    "execution": {
     "iopub.execute_input": "2021-04-13T03:39:10.317653Z",
     "iopub.status.busy": "2021-04-13T03:39:10.317049Z",
     "iopub.status.idle": "2021-04-13T03:39:10.319943Z",
     "shell.execute_reply": "2021-04-13T03:39:10.319077Z"
    }
   },
   "outputs": [
    {
     "name": "stdout",
     "output_type": "stream",
     "text": [
      "[1, 2, 10, 3, 4, 1, 'dos', 3.0]\n"
     ]
    }
   ],
   "source": [
    "lista.insert(2, 10)  # Inserto en posicion 2 un 10\n",
    "print(lista)"
   ]
  },
  {
   "cell_type": "code",
   "execution_count": 22,
   "id": "aa9d32d8",
   "metadata": {
    "execution": {
     "iopub.execute_input": "2021-04-13T03:39:10.324128Z",
     "iopub.status.busy": "2021-04-13T03:39:10.323473Z",
     "iopub.status.idle": "2021-04-13T03:39:10.326499Z",
     "shell.execute_reply": "2021-04-13T03:39:10.327009Z"
    }
   },
   "outputs": [
    {
     "data": {
      "text/plain": [
       "8"
      ]
     },
     "execution_count": 1,
     "metadata": {},
     "output_type": "execute_result"
    }
   ],
   "source": [
    "len(lista)"
   ]
  },
  {
   "cell_type": "code",
   "execution_count": 23,
   "id": "7f34e452",
   "metadata": {
    "execution": {
     "iopub.execute_input": "2021-04-13T03:39:10.330861Z",
     "iopub.status.busy": "2021-04-13T03:39:10.330253Z",
     "iopub.status.idle": "2021-04-13T03:39:10.333362Z",
     "shell.execute_reply": "2021-04-13T03:39:10.332836Z"
    }
   },
   "outputs": [
    {
     "data": {
      "text/plain": [
       "3.0"
      ]
     },
     "execution_count": 1,
     "metadata": {},
     "output_type": "execute_result"
    }
   ],
   "source": [
    "lista.pop()"
   ]
  },
  {
   "cell_type": "code",
   "execution_count": 24,
   "id": "85b86cdf",
   "metadata": {
    "execution": {
     "iopub.execute_input": "2021-04-13T03:39:10.338124Z",
     "iopub.status.busy": "2021-04-13T03:39:10.337502Z",
     "iopub.status.idle": "2021-04-13T03:39:10.340918Z",
     "shell.execute_reply": "2021-04-13T03:39:10.340412Z"
    }
   },
   "outputs": [
    {
     "data": {
      "text/plain": [
       "[1, 2, 10, 3, 4, 1, 'dos']"
      ]
     },
     "execution_count": 1,
     "metadata": {},
     "output_type": "execute_result"
    }
   ],
   "source": [
    "lista"
   ]
  },
  {
   "cell_type": "code",
   "execution_count": 25,
   "id": "a9ef0f96",
   "metadata": {
    "execution": {
     "iopub.execute_input": "2021-04-13T03:39:10.344869Z",
     "iopub.status.busy": "2021-04-13T03:39:10.344255Z",
     "iopub.status.idle": "2021-04-13T03:39:10.346969Z",
     "shell.execute_reply": "2021-04-13T03:39:10.347485Z"
    }
   },
   "outputs": [
    {
     "data": {
      "text/plain": [
       "2"
      ]
     },
     "execution_count": 1,
     "metadata": {},
     "output_type": "execute_result"
    }
   ],
   "source": [
    "lista.index(10)"
   ]
  },
  {
   "cell_type": "code",
   "execution_count": 26,
   "id": "fde93225",
   "metadata": {
    "execution": {
     "iopub.execute_input": "2021-04-13T03:39:10.352572Z",
     "iopub.status.busy": "2021-04-13T03:39:10.351890Z",
     "iopub.status.idle": "2021-04-13T03:39:10.362992Z",
     "shell.execute_reply": "2021-04-13T03:39:10.362433Z"
    }
   },
   "outputs": [
    {
     "data": {
      "text/plain": [
       "[1, 2, 3, 4, 1, 'dos']"
      ]
     },
     "execution_count": 1,
     "metadata": {},
     "output_type": "execute_result"
    }
   ],
   "source": [
    "lista.remove(10)\n",
    "lista"
   ]
  },
  {
   "cell_type": "code",
   "execution_count": 27,
   "id": "72a45f71",
   "metadata": {
    "execution": {
     "iopub.execute_input": "2021-04-13T03:39:10.367475Z",
     "iopub.status.busy": "2021-04-13T03:39:10.366852Z",
     "iopub.status.idle": "2021-04-13T03:39:10.434762Z",
     "shell.execute_reply": "2021-04-13T03:39:10.435285Z"
    },
    "tags": [
     "raises-exception"
    ]
   },
   "outputs": [
    {
     "name": "stdout",
     "output_type": "stream",
     "text": [
      "1\n",
      "2\n",
      "2\n",
      "3\n",
      "3\n",
      "4\n",
      "4\n",
      "5\n",
      "1\n",
      "2\n",
      "dos\n"
     ]
    },
    {
     "ename": "TypeError",
     "evalue": "can only concatenate str (not \"int\") to str",
     "output_type": "error",
     "traceback": [
      "\u001b[0;31m---------------------------------------------------------------------------\u001b[0m",
      "\u001b[0;31mTypeError\u001b[0m                                 Traceback (most recent call last)",
      "\u001b[0;32m<ipython-input-1-41b56d5cf080>\u001b[0m in \u001b[0;36m<module>\u001b[0;34m\u001b[0m\n\u001b[1;32m      1\u001b[0m \u001b[0;32mfor\u001b[0m \u001b[0melemento\u001b[0m \u001b[0;32min\u001b[0m \u001b[0mlista\u001b[0m\u001b[0;34m:\u001b[0m\u001b[0;34m\u001b[0m\u001b[0;34m\u001b[0m\u001b[0m\n\u001b[1;32m      2\u001b[0m     \u001b[0mprint\u001b[0m\u001b[0;34m(\u001b[0m\u001b[0melemento\u001b[0m\u001b[0;34m)\u001b[0m\u001b[0;34m\u001b[0m\u001b[0;34m\u001b[0m\u001b[0m\n\u001b[0;32m----> 3\u001b[0;31m     \u001b[0mprint\u001b[0m\u001b[0;34m(\u001b[0m\u001b[0melemento\u001b[0m \u001b[0;34m+\u001b[0m \u001b[0;36m1\u001b[0m\u001b[0;34m)\u001b[0m\u001b[0;34m\u001b[0m\u001b[0;34m\u001b[0m\u001b[0m\n\u001b[0m",
      "\u001b[0;31mTypeError\u001b[0m: can only concatenate str (not \"int\") to str"
     ]
    }
   ],
   "source": [
    "for elemento in lista:\n",
    "    print(elemento)\n",
    "    print(elemento + 1)"
   ]
  },
  {
   "cell_type": "code",
   "execution_count": 28,
   "id": "e62d73e9",
   "metadata": {
    "execution": {
     "iopub.execute_input": "2021-04-13T03:39:10.440164Z",
     "iopub.status.busy": "2021-04-13T03:39:10.439504Z",
     "iopub.status.idle": "2021-04-13T03:39:10.445820Z",
     "shell.execute_reply": "2021-04-13T03:39:10.445224Z"
    }
   },
   "outputs": [
    {
     "data": {
      "text/plain": [
       "[1, 2, 3, 4, 1, 'dos']"
      ]
     },
     "execution_count": 1,
     "metadata": {},
     "output_type": "execute_result"
    }
   ],
   "source": [
    "lista"
   ]
  },
  {
   "cell_type": "code",
   "execution_count": 29,
   "id": "bf3dbd5f",
   "metadata": {
    "execution": {
     "iopub.execute_input": "2021-04-13T03:39:10.451935Z",
     "iopub.status.busy": "2021-04-13T03:39:10.451260Z",
     "iopub.status.idle": "2021-04-13T03:39:10.455022Z",
     "shell.execute_reply": "2021-04-13T03:39:10.454474Z"
    }
   },
   "outputs": [
    {
     "name": "stdout",
     "output_type": "stream",
     "text": [
      "0-ésimo elemento: 1\n",
      "1-ésimo elemento: 2\n",
      "2-ésimo elemento: 3\n",
      "3-ésimo elemento: 4\n",
      "4-ésimo elemento: 1\n",
      "5-ésimo elemento: dos\n"
     ]
    }
   ],
   "source": [
    "for i, elemento in enumerate(lista):\n",
    "    print(f\"{i}-ésimo elemento: {elemento}\")"
   ]
  },
  {
   "cell_type": "code",
   "execution_count": 30,
   "id": "ad1a44d8",
   "metadata": {
    "execution": {
     "iopub.execute_input": "2021-04-13T03:39:10.465326Z",
     "iopub.status.busy": "2021-04-13T03:39:10.464662Z",
     "iopub.status.idle": "2021-04-13T03:39:10.467754Z",
     "shell.execute_reply": "2021-04-13T03:39:10.468294Z"
    },
    "tags": [
     "raises-exception"
    ]
   },
   "outputs": [
    {
     "ename": "TypeError",
     "evalue": "'<' not supported between instances of 'str' and 'int'",
     "output_type": "error",
     "traceback": [
      "\u001b[0;31m---------------------------------------------------------------------------\u001b[0m",
      "\u001b[0;31mTypeError\u001b[0m                                 Traceback (most recent call last)",
      "\u001b[0;32m<ipython-input-1-06c3f264dc7a>\u001b[0m in \u001b[0;36m<module>\u001b[0;34m\u001b[0m\n\u001b[0;32m----> 1\u001b[0;31m \u001b[0msorted\u001b[0m\u001b[0;34m(\u001b[0m\u001b[0mlista\u001b[0m\u001b[0;34m)\u001b[0m\u001b[0;34m\u001b[0m\u001b[0;34m\u001b[0m\u001b[0m\n\u001b[0m",
      "\u001b[0;31mTypeError\u001b[0m: '<' not supported between instances of 'str' and 'int'"
     ]
    }
   ],
   "source": [
    "sorted(lista)"
   ]
  },
  {
   "cell_type": "code",
   "execution_count": 31,
   "id": "2d128833",
   "metadata": {
    "execution": {
     "iopub.execute_input": "2021-04-13T03:39:10.473489Z",
     "iopub.status.busy": "2021-04-13T03:39:10.472021Z",
     "iopub.status.idle": "2021-04-13T03:39:10.474158Z",
     "shell.execute_reply": "2021-04-13T03:39:10.474667Z"
    }
   },
   "outputs": [],
   "source": [
    "lista.remove(\"dos\")"
   ]
  },
  {
   "cell_type": "code",
   "execution_count": 32,
   "id": "8ca161ef",
   "metadata": {
    "execution": {
     "iopub.execute_input": "2021-04-13T03:39:10.480275Z",
     "iopub.status.busy": "2021-04-13T03:39:10.479136Z",
     "iopub.status.idle": "2021-04-13T03:39:10.482230Z",
     "shell.execute_reply": "2021-04-13T03:39:10.482754Z"
    }
   },
   "outputs": [
    {
     "data": {
      "text/plain": [
       "[1, 1, 2, 3, 4]"
      ]
     },
     "execution_count": 1,
     "metadata": {},
     "output_type": "execute_result"
    }
   ],
   "source": [
    "sorted(lista)"
   ]
  },
  {
   "cell_type": "code",
   "execution_count": 33,
   "id": "7f7939ba",
   "metadata": {
    "execution": {
     "iopub.execute_input": "2021-04-13T03:39:10.488440Z",
     "iopub.status.busy": "2021-04-13T03:39:10.487286Z",
     "iopub.status.idle": "2021-04-13T03:39:10.490872Z",
     "shell.execute_reply": "2021-04-13T03:39:10.490337Z"
    }
   },
   "outputs": [
    {
     "data": {
      "text/plain": [
       "[1, 1, 2, 3, 4]"
      ]
     },
     "execution_count": 1,
     "metadata": {},
     "output_type": "execute_result"
    }
   ],
   "source": [
    "lista.sort()\n",
    "lista"
   ]
  },
  {
   "cell_type": "markdown",
   "id": "88765e7d",
   "metadata": {
    "slideshow": {
     "slide_type": "slide"
    }
   },
   "source": [
    "#### Tuplas de Python\n",
    "\n",
    "Las tuplas son inmutables. No se pueden agregar elementos luego de creadas."
   ]
  },
  {
   "cell_type": "code",
   "execution_count": 34,
   "id": "ccd8736d",
   "metadata": {
    "execution": {
     "iopub.execute_input": "2021-04-13T03:39:10.495800Z",
     "iopub.status.busy": "2021-04-13T03:39:10.495115Z",
     "iopub.status.idle": "2021-04-13T03:39:10.502123Z",
     "shell.execute_reply": "2021-04-13T03:39:10.502668Z"
    },
    "slideshow": {
     "slide_type": "slide"
    },
    "tags": [
     "raises-exception"
    ]
   },
   "outputs": [
    {
     "name": "stdout",
     "output_type": "stream",
     "text": [
      "(1, 2)\n",
      "1\n",
      "2\n"
     ]
    },
    {
     "ename": "TypeError",
     "evalue": "'tuple' object does not support item assignment",
     "output_type": "error",
     "traceback": [
      "\u001b[0;31m---------------------------------------------------------------------------\u001b[0m",
      "\u001b[0;31mTypeError\u001b[0m                                 Traceback (most recent call last)",
      "\u001b[0;32m<ipython-input-1-80ca8b547dd6>\u001b[0m in \u001b[0;36m<module>\u001b[0;34m\u001b[0m\n\u001b[1;32m      5\u001b[0m \u001b[0mprint\u001b[0m\u001b[0;34m(\u001b[0m\u001b[0mtupla\u001b[0m\u001b[0;34m[\u001b[0m\u001b[0;36m1\u001b[0m\u001b[0;34m]\u001b[0m\u001b[0;34m)\u001b[0m\u001b[0;34m\u001b[0m\u001b[0;34m\u001b[0m\u001b[0m\n\u001b[1;32m      6\u001b[0m \u001b[0;34m\u001b[0m\u001b[0m\n\u001b[0;32m----> 7\u001b[0;31m \u001b[0mtupla\u001b[0m\u001b[0;34m[\u001b[0m\u001b[0;36m1\u001b[0m\u001b[0;34m]\u001b[0m \u001b[0;34m=\u001b[0m \u001b[0;36m3\u001b[0m  \u001b[0;31m# Falla. No se puede mutar\u001b[0m\u001b[0;34m\u001b[0m\u001b[0;34m\u001b[0m\u001b[0m\n\u001b[0m",
      "\u001b[0;31mTypeError\u001b[0m: 'tuple' object does not support item assignment"
     ]
    }
   ],
   "source": [
    "tupla = (1, 2)\n",
    "\n",
    "print(tupla)\n",
    "print(tupla[0])\n",
    "print(tupla[1])\n",
    "\n",
    "tupla[1] = 3  # Falla. No se puede mutar"
   ]
  },
  {
   "cell_type": "code",
   "execution_count": 35,
   "id": "86a411a8",
   "metadata": {
    "execution": {
     "iopub.execute_input": "2021-04-13T03:39:10.507811Z",
     "iopub.status.busy": "2021-04-13T03:39:10.507134Z",
     "iopub.status.idle": "2021-04-13T03:39:10.510138Z",
     "shell.execute_reply": "2021-04-13T03:39:10.510638Z"
    }
   },
   "outputs": [
    {
     "data": {
      "text/plain": [
       "[1, 2]"
      ]
     },
     "execution_count": 1,
     "metadata": {},
     "output_type": "execute_result"
    }
   ],
   "source": [
    "l = [1, 2]\n",
    "l"
   ]
  },
  {
   "cell_type": "code",
   "execution_count": 36,
   "id": "bef58f4f",
   "metadata": {
    "execution": {
     "iopub.execute_input": "2021-04-13T03:39:10.516096Z",
     "iopub.status.busy": "2021-04-13T03:39:10.514971Z",
     "iopub.status.idle": "2021-04-13T03:39:10.517986Z",
     "shell.execute_reply": "2021-04-13T03:39:10.518487Z"
    }
   },
   "outputs": [
    {
     "data": {
      "text/plain": [
       "[1, 3]"
      ]
     },
     "execution_count": 1,
     "metadata": {},
     "output_type": "execute_result"
    }
   ],
   "source": [
    "l[1] = 3\n",
    "l"
   ]
  },
  {
   "cell_type": "markdown",
   "id": "2b2806b2",
   "metadata": {
    "slideshow": {
     "slide_type": "slide"
    }
   },
   "source": [
    "#### Diferencia entre lista y tupla\n",
    "Las listas se caracterizan por ser mutables, es decir, se puede cambiar su contenido en tiempo de ejecución, mientras que las tuplas son inmutables ya que no es posible modificar el contenido una vez creada."
   ]
  },
  {
   "cell_type": "markdown",
   "id": "26f0e951",
   "metadata": {},
   "source": [
    "#### Slices\n",
    "\n",
    "**Valen para listas, tuplas o strings (_segmentos_)**"
   ]
  },
  {
   "cell_type": "code",
   "execution_count": 37,
   "id": "666500fd",
   "metadata": {
    "execution": {
     "iopub.execute_input": "2021-04-13T03:39:10.523870Z",
     "iopub.status.busy": "2021-04-13T03:39:10.522486Z",
     "iopub.status.idle": "2021-04-13T03:39:10.524537Z",
     "shell.execute_reply": "2021-04-13T03:39:10.525055Z"
    }
   },
   "outputs": [],
   "source": [
    "numeros = [0, 1, 2, 3, 4, 5, 6, 7, 8, 9, 10]"
   ]
  },
  {
   "cell_type": "code",
   "execution_count": 38,
   "id": "8dcdab4b",
   "metadata": {
    "execution": {
     "iopub.execute_input": "2021-04-13T03:39:10.530334Z",
     "iopub.status.busy": "2021-04-13T03:39:10.528999Z",
     "iopub.status.idle": "2021-04-13T03:39:10.532402Z",
     "shell.execute_reply": "2021-04-13T03:39:10.531817Z"
    }
   },
   "outputs": [
    {
     "name": "stdout",
     "output_type": "stream",
     "text": [
      "[0, 1, 2, 3, 4, 5, 6, 7, 8, 9, 10]\n"
     ]
    }
   ],
   "source": [
    "print(numeros)"
   ]
  },
  {
   "cell_type": "code",
   "execution_count": 39,
   "id": "dacef292",
   "metadata": {
    "execution": {
     "iopub.execute_input": "2021-04-13T03:39:10.538028Z",
     "iopub.status.busy": "2021-04-13T03:39:10.536541Z",
     "iopub.status.idle": "2021-04-13T03:39:10.540213Z",
     "shell.execute_reply": "2021-04-13T03:39:10.539635Z"
    }
   },
   "outputs": [
    {
     "name": "stdout",
     "output_type": "stream",
     "text": [
      "2\n"
     ]
    }
   ],
   "source": [
    "print(numeros[2])  # Imprimo elemento en la posición 2"
   ]
  },
  {
   "cell_type": "code",
   "execution_count": 40,
   "id": "d7ce94de",
   "metadata": {
    "execution": {
     "iopub.execute_input": "2021-04-13T03:39:10.546373Z",
     "iopub.status.busy": "2021-04-13T03:39:10.545281Z",
     "iopub.status.idle": "2021-04-13T03:39:10.548190Z",
     "shell.execute_reply": "2021-04-13T03:39:10.548678Z"
    }
   },
   "outputs": [
    {
     "data": {
      "text/plain": [
       "10"
      ]
     },
     "execution_count": 1,
     "metadata": {},
     "output_type": "execute_result"
    }
   ],
   "source": [
    "numeros[len(numeros) - 1]"
   ]
  },
  {
   "cell_type": "code",
   "execution_count": 41,
   "id": "bbcf93c0",
   "metadata": {
    "execution": {
     "iopub.execute_input": "2021-04-13T03:39:10.554561Z",
     "iopub.status.busy": "2021-04-13T03:39:10.553067Z",
     "iopub.status.idle": "2021-04-13T03:39:10.556507Z",
     "shell.execute_reply": "2021-04-13T03:39:10.555980Z"
    },
    "lines_to_next_cell": 2
   },
   "outputs": [
    {
     "name": "stdout",
     "output_type": "stream",
     "text": [
      "10\n"
     ]
    }
   ],
   "source": [
    "print(numeros[-1])  # # Imprimo elemento en la última posición"
   ]
  },
  {
   "cell_type": "code",
   "execution_count": 42,
   "id": "26fea4a8",
   "metadata": {
    "execution": {
     "iopub.execute_input": "2021-04-13T03:39:10.561472Z",
     "iopub.status.busy": "2021-04-13T03:39:10.560822Z",
     "iopub.status.idle": "2021-04-13T03:39:10.563672Z",
     "shell.execute_reply": "2021-04-13T03:39:10.564177Z"
    },
    "lines_to_next_cell": 2
   },
   "outputs": [
    {
     "data": {
      "text/plain": [
       "9"
      ]
     },
     "execution_count": 1,
     "metadata": {},
     "output_type": "execute_result"
    }
   ],
   "source": [
    "numeros[-2]"
   ]
  },
  {
   "cell_type": "code",
   "execution_count": 43,
   "id": "24f8927f",
   "metadata": {
    "execution": {
     "iopub.execute_input": "2021-04-13T03:39:10.568316Z",
     "iopub.status.busy": "2021-04-13T03:39:10.567671Z",
     "iopub.status.idle": "2021-04-13T03:39:10.570385Z",
     "shell.execute_reply": "2021-04-13T03:39:10.570908Z"
    }
   },
   "outputs": [
    {
     "name": "stdout",
     "output_type": "stream",
     "text": [
      "[0, 1, 2]\n"
     ]
    }
   ],
   "source": [
    "print(numeros[0:3])  # Imprimo de la pos 0 a la pos 2"
   ]
  },
  {
   "cell_type": "code",
   "execution_count": 44,
   "id": "d22aa15f",
   "metadata": {
    "execution": {
     "iopub.execute_input": "2021-04-13T03:39:10.575161Z",
     "iopub.status.busy": "2021-04-13T03:39:10.574495Z",
     "iopub.status.idle": "2021-04-13T03:39:10.576787Z",
     "shell.execute_reply": "2021-04-13T03:39:10.577401Z"
    }
   },
   "outputs": [
    {
     "name": "stdout",
     "output_type": "stream",
     "text": [
      "[7, 8]\n"
     ]
    }
   ],
   "source": [
    "print(numeros[-4:-2])"
   ]
  },
  {
   "cell_type": "code",
   "execution_count": 45,
   "id": "e5d9f7c3",
   "metadata": {
    "execution": {
     "iopub.execute_input": "2021-04-13T03:39:10.581489Z",
     "iopub.status.busy": "2021-04-13T03:39:10.580852Z",
     "iopub.status.idle": "2021-04-13T03:39:10.583154Z",
     "shell.execute_reply": "2021-04-13T03:39:10.583707Z"
    }
   },
   "outputs": [
    {
     "name": "stdout",
     "output_type": "stream",
     "text": [
      "[0, 1, 2, 3, 4, 5, 6, 7, 8, 9, 10]\n"
     ]
    }
   ],
   "source": [
    "print(numeros[0:80])"
   ]
  },
  {
   "cell_type": "code",
   "execution_count": 46,
   "id": "ec2ef9ff",
   "metadata": {
    "execution": {
     "iopub.execute_input": "2021-04-13T03:39:10.590216Z",
     "iopub.status.busy": "2021-04-13T03:39:10.589551Z",
     "iopub.status.idle": "2021-04-13T03:39:10.591783Z",
     "shell.execute_reply": "2021-04-13T03:39:10.592336Z"
    }
   },
   "outputs": [
    {
     "name": "stdout",
     "output_type": "stream",
     "text": [
      "[0, 1, 2]\n"
     ]
    }
   ],
   "source": [
    "print(numeros[:3])"
   ]
  },
  {
   "cell_type": "code",
   "execution_count": 47,
   "id": "b707c1ee",
   "metadata": {
    "execution": {
     "iopub.execute_input": "2021-04-13T03:39:10.596263Z",
     "iopub.status.busy": "2021-04-13T03:39:10.595640Z",
     "iopub.status.idle": "2021-04-13T03:39:10.597702Z",
     "shell.execute_reply": "2021-04-13T03:39:10.598295Z"
    }
   },
   "outputs": [
    {
     "name": "stdout",
     "output_type": "stream",
     "text": [
      "[3, 4, 5, 6, 7, 8, 9, 10]\n"
     ]
    }
   ],
   "source": [
    "print(numeros[3:])"
   ]
  },
  {
   "cell_type": "code",
   "execution_count": 48,
   "id": "1c68ea0a",
   "metadata": {
    "execution": {
     "iopub.execute_input": "2021-04-13T03:39:10.602349Z",
     "iopub.status.busy": "2021-04-13T03:39:10.601745Z",
     "iopub.status.idle": "2021-04-13T03:39:10.604359Z",
     "shell.execute_reply": "2021-04-13T03:39:10.603755Z"
    }
   },
   "outputs": [
    {
     "name": "stdout",
     "output_type": "stream",
     "text": [
      "[0, 2, 4, 6, 8]\n"
     ]
    }
   ],
   "source": [
    "print(numeros[0:10:2])"
   ]
  },
  {
   "cell_type": "markdown",
   "id": "9d5475d6",
   "metadata": {},
   "source": [
    "```python\n",
    "lista[<inicio>:<final>:<step>]\n",
    "```"
   ]
  },
  {
   "cell_type": "code",
   "execution_count": 49,
   "id": "2c280fce",
   "metadata": {
    "execution": {
     "iopub.execute_input": "2021-04-13T03:39:10.608651Z",
     "iopub.status.busy": "2021-04-13T03:39:10.608040Z",
     "iopub.status.idle": "2021-04-13T03:39:10.611153Z",
     "shell.execute_reply": "2021-04-13T03:39:10.610621Z"
    },
    "lines_to_next_cell": 2
   },
   "outputs": [
    {
     "data": {
      "text/plain": [
       "[1, 2, 3, 4]"
      ]
     },
     "execution_count": 1,
     "metadata": {},
     "output_type": "execute_result"
    }
   ],
   "source": [
    "l1 = [1, 2]\n",
    "l2 = [3, 4]\n",
    "l1 + l2"
   ]
  },
  {
   "cell_type": "code",
   "execution_count": 50,
   "id": "a62974b3",
   "metadata": {
    "execution": {
     "iopub.execute_input": "2021-04-13T03:39:10.614971Z",
     "iopub.status.busy": "2021-04-13T03:39:10.614368Z",
     "iopub.status.idle": "2021-04-13T03:39:10.617395Z",
     "shell.execute_reply": "2021-04-13T03:39:10.616812Z"
    }
   },
   "outputs": [
    {
     "name": "stdout",
     "output_type": "stream",
     "text": [
      "[0, 1, 2, 3, 4, 5, 6, 'siete', 8, 9, 10]\n"
     ]
    }
   ],
   "source": [
    "numeros[7] = 'siete'  # Las listas se pueden mutar\n",
    "print(numeros)"
   ]
  },
  {
   "cell_type": "code",
   "execution_count": 51,
   "id": "c3ab6519",
   "metadata": {
    "execution": {
     "iopub.execute_input": "2021-04-13T03:39:10.621429Z",
     "iopub.status.busy": "2021-04-13T03:39:10.620807Z",
     "iopub.status.idle": "2021-04-13T03:39:10.623511Z",
     "shell.execute_reply": "2021-04-13T03:39:10.622864Z"
    }
   },
   "outputs": [
    {
     "name": "stdout",
     "output_type": "stream",
     "text": [
      "[10, 9, 8, 'siete', 6, 5, 4, 3, 2, 1, 0]\n"
     ]
    }
   ],
   "source": [
    "numeros = numeros[::-1]\n",
    "print(numeros)"
   ]
  },
  {
   "cell_type": "code",
   "execution_count": 52,
   "id": "a345398b",
   "metadata": {
    "execution": {
     "iopub.execute_input": "2021-04-13T03:39:10.632078Z",
     "iopub.status.busy": "2021-04-13T03:39:10.629306Z",
     "iopub.status.idle": "2021-04-13T03:39:10.639919Z",
     "shell.execute_reply": "2021-04-13T03:39:10.640450Z"
    },
    "tags": [
     "raises-exception"
    ]
   },
   "outputs": [
    {
     "ename": "IndexError",
     "evalue": "list index out of range",
     "output_type": "error",
     "traceback": [
      "\u001b[0;31m---------------------------------------------------------------------------\u001b[0m",
      "\u001b[0;31mIndexError\u001b[0m                                Traceback (most recent call last)",
      "\u001b[0;32m<ipython-input-1-0ef91dd29a9b>\u001b[0m in \u001b[0;36m<module>\u001b[0;34m\u001b[0m\n\u001b[0;32m----> 1\u001b[0;31m \u001b[0mprint\u001b[0m\u001b[0;34m(\u001b[0m\u001b[0mnumeros\u001b[0m\u001b[0;34m[\u001b[0m\u001b[0;36m15\u001b[0m\u001b[0;34m]\u001b[0m\u001b[0;34m)\u001b[0m  \u001b[0;31m# Falla. No se puede acceder a una posición inexistente\u001b[0m\u001b[0;34m\u001b[0m\u001b[0;34m\u001b[0m\u001b[0m\n\u001b[0m",
      "\u001b[0;31mIndexError\u001b[0m: list index out of range"
     ]
    }
   ],
   "source": [
    "print(numeros[15])  # Falla. No se puede acceder a una posición inexistente"
   ]
  },
  {
   "cell_type": "code",
   "execution_count": 53,
   "id": "85d994d2",
   "metadata": {
    "execution": {
     "iopub.execute_input": "2021-04-13T03:39:10.645811Z",
     "iopub.status.busy": "2021-04-13T03:39:10.645177Z",
     "iopub.status.idle": "2021-04-13T03:39:10.649883Z",
     "shell.execute_reply": "2021-04-13T03:39:10.649296Z"
    }
   },
   "outputs": [
    {
     "name": "stdout",
     "output_type": "stream",
     "text": [
      "palabra\n",
      "a\n",
      "pal\n",
      "abra\n"
     ]
    }
   ],
   "source": [
    "palabra = 'palabra'\n",
    "print(palabra)\n",
    "print(palabra[3])\n",
    "print(palabra[:3])\n",
    "print(palabra[3:])"
   ]
  },
  {
   "cell_type": "code",
   "execution_count": 54,
   "id": "27546546",
   "metadata": {
    "execution": {
     "iopub.execute_input": "2021-04-13T03:39:10.655401Z",
     "iopub.status.busy": "2021-04-13T03:39:10.654796Z",
     "iopub.status.idle": "2021-04-13T03:39:10.657069Z",
     "shell.execute_reply": "2021-04-13T03:39:10.657597Z"
    }
   },
   "outputs": [
    {
     "name": "stdout",
     "output_type": "stream",
     "text": [
      "(0, 1, 2, 3, 4)\n",
      "(0, 1)\n",
      "(2, 3, 4)\n"
     ]
    }
   ],
   "source": [
    "tupla = (0, 1, 2, 3, 4)\n",
    "\n",
    "print(tupla)\n",
    "print(tupla[:2])\n",
    "print(tupla[2:])"
   ]
  },
  {
   "cell_type": "markdown",
   "id": "f57cecfd",
   "metadata": {
    "slideshow": {
     "slide_type": "slide"
    }
   },
   "source": [
    "#### Diccionarios de Python\n",
    "\n",
    "Son como hashmaps, las claves deben ser inmutables para que no pierda sentido el diccionario. Si se pudieran modificar, se podrían cambiar las claves y generaría conflictos.\n",
    "\n",
    "Tipos mutables:\n",
    "- Listas\n",
    "- Diccionarios\n",
    "- Sets\n",
    "\n",
    "Tipos inmutables:\n",
    "- Int\n",
    "- Float\n",
    "- String\n",
    "- Tuplas\n"
   ]
  },
  {
   "cell_type": "code",
   "execution_count": 55,
   "id": "a7739e2a",
   "metadata": {
    "execution": {
     "iopub.execute_input": "2021-04-13T03:39:10.661670Z",
     "iopub.status.busy": "2021-04-13T03:39:10.661053Z",
     "iopub.status.idle": "2021-04-13T03:39:10.664802Z",
     "shell.execute_reply": "2021-04-13T03:39:10.663908Z"
    },
    "slideshow": {
     "slide_type": "slide"
    }
   },
   "outputs": [
    {
     "data": {
      "text/plain": [
       "{}"
      ]
     },
     "execution_count": 1,
     "metadata": {},
     "output_type": "execute_result"
    }
   ],
   "source": [
    "diccionario = {}\n",
    "diccionario"
   ]
  },
  {
   "cell_type": "code",
   "execution_count": 56,
   "id": "e6cd0a8f",
   "metadata": {
    "execution": {
     "iopub.execute_input": "2021-04-13T03:39:10.669395Z",
     "iopub.status.busy": "2021-04-13T03:39:10.668768Z",
     "iopub.status.idle": "2021-04-13T03:39:10.670928Z",
     "shell.execute_reply": "2021-04-13T03:39:10.671489Z"
    }
   },
   "outputs": [
    {
     "data": {
      "text/plain": [
       "{}"
      ]
     },
     "execution_count": 1,
     "metadata": {},
     "output_type": "execute_result"
    }
   ],
   "source": [
    "diccionario = dict()\n",
    "diccionario"
   ]
  },
  {
   "cell_type": "code",
   "execution_count": 57,
   "id": "44dab13a",
   "metadata": {
    "execution": {
     "iopub.execute_input": "2021-04-13T03:39:10.676030Z",
     "iopub.status.busy": "2021-04-13T03:39:10.675350Z",
     "iopub.status.idle": "2021-04-13T03:39:10.677518Z",
     "shell.execute_reply": "2021-04-13T03:39:10.678033Z"
    },
    "slideshow": {
     "slide_type": "slide"
    }
   },
   "outputs": [
    {
     "name": "stdout",
     "output_type": "stream",
     "text": [
      "{'clave1': 'valor1', 2: 'valor2', 'clave3': 3}\n"
     ]
    }
   ],
   "source": [
    "# Cómo agregar cosas al diccionario\n",
    "diccionario['clave1'] = 'valor1'\n",
    "diccionario[2] = 'valor2'\n",
    "diccionario['clave3'] = 3\n",
    "print(diccionario)"
   ]
  },
  {
   "cell_type": "markdown",
   "id": "e32ff350",
   "metadata": {},
   "source": [
    "Hay dos formas de obtener valores de un diccionario:\n",
    "\n",
    "```python\n",
    "diccionario[clave]\n",
    "```\n",
    "\n",
    "El cual devuelve el valor si existe la clave suministrada o bien lanza `KeyError` si no existe."
   ]
  },
  {
   "cell_type": "code",
   "execution_count": 58,
   "id": "b6a0db49",
   "metadata": {
    "execution": {
     "iopub.execute_input": "2021-04-13T03:39:10.682354Z",
     "iopub.status.busy": "2021-04-13T03:39:10.681728Z",
     "iopub.status.idle": "2021-04-13T03:39:10.685011Z",
     "shell.execute_reply": "2021-04-13T03:39:10.684453Z"
    }
   },
   "outputs": [
    {
     "data": {
      "text/plain": [
       "'valor1'"
      ]
     },
     "execution_count": 1,
     "metadata": {},
     "output_type": "execute_result"
    }
   ],
   "source": [
    "diccionario['clave1']"
   ]
  },
  {
   "cell_type": "code",
   "execution_count": 59,
   "id": "6bd0d5ec",
   "metadata": {
    "execution": {
     "iopub.execute_input": "2021-04-13T03:39:10.688684Z",
     "iopub.status.busy": "2021-04-13T03:39:10.688067Z",
     "iopub.status.idle": "2021-04-13T03:39:10.695679Z",
     "shell.execute_reply": "2021-04-13T03:39:10.695097Z"
    },
    "tags": [
     "raises-exception"
    ]
   },
   "outputs": [
    {
     "ename": "KeyError",
     "evalue": "'clave1000'",
     "output_type": "error",
     "traceback": [
      "\u001b[0;31m---------------------------------------------------------------------------\u001b[0m",
      "\u001b[0;31mKeyError\u001b[0m                                  Traceback (most recent call last)",
      "\u001b[0;32m<ipython-input-1-41aae9a2e5ed>\u001b[0m in \u001b[0;36m<module>\u001b[0;34m\u001b[0m\n\u001b[0;32m----> 1\u001b[0;31m \u001b[0mdiccionario\u001b[0m\u001b[0;34m[\u001b[0m\u001b[0;34m'clave1000'\u001b[0m\u001b[0;34m]\u001b[0m\u001b[0;34m\u001b[0m\u001b[0;34m\u001b[0m\u001b[0m\n\u001b[0m",
      "\u001b[0;31mKeyError\u001b[0m: 'clave1000'"
     ]
    }
   ],
   "source": [
    "diccionario['clave1000']"
   ]
  },
  {
   "cell_type": "markdown",
   "id": "81883660",
   "metadata": {},
   "source": [
    "La segunda forma es con `get`:"
   ]
  },
  {
   "cell_type": "code",
   "execution_count": 60,
   "id": "ef618f41",
   "metadata": {
    "execution": {
     "iopub.execute_input": "2021-04-13T03:39:10.716389Z",
     "iopub.status.busy": "2021-04-13T03:39:10.708394Z",
     "iopub.status.idle": "2021-04-13T03:39:10.756482Z",
     "shell.execute_reply": "2021-04-13T03:39:10.755889Z"
    }
   },
   "outputs": [],
   "source": [
    "diccionario.get?"
   ]
  },
  {
   "cell_type": "code",
   "execution_count": 61,
   "id": "d13a8de8",
   "metadata": {
    "execution": {
     "iopub.execute_input": "2021-04-13T03:39:10.762760Z",
     "iopub.status.busy": "2021-04-13T03:39:10.761389Z",
     "iopub.status.idle": "2021-04-13T03:39:10.764845Z",
     "shell.execute_reply": "2021-04-13T03:39:10.764283Z"
    }
   },
   "outputs": [
    {
     "name": "stdout",
     "output_type": "stream",
     "text": [
      "Help on built-in function get:\n",
      "\n",
      "get(key, default=None, /) method of builtins.dict instance\n",
      "    Return the value for key if key is in the dictionary, else default.\n",
      "\n"
     ]
    }
   ],
   "source": [
    "help(diccionario.get)"
   ]
  },
  {
   "cell_type": "code",
   "execution_count": 62,
   "id": "85d200d6",
   "metadata": {
    "execution": {
     "iopub.execute_input": "2021-04-13T03:39:10.770276Z",
     "iopub.status.busy": "2021-04-13T03:39:10.768724Z",
     "iopub.status.idle": "2021-04-13T03:39:10.772414Z",
     "shell.execute_reply": "2021-04-13T03:39:10.771776Z"
    },
    "slideshow": {
     "slide_type": "slide"
    }
   },
   "outputs": [
    {
     "name": "stdout",
     "output_type": "stream",
     "text": [
      "None\n"
     ]
    }
   ],
   "source": [
    "print(diccionario.get('clave1000'))"
   ]
  },
  {
   "cell_type": "code",
   "execution_count": 63,
   "id": "d40884a2",
   "metadata": {
    "execution": {
     "iopub.execute_input": "2021-04-13T03:39:10.777823Z",
     "iopub.status.busy": "2021-04-13T03:39:10.776409Z",
     "iopub.status.idle": "2021-04-13T03:39:10.779790Z",
     "shell.execute_reply": "2021-04-13T03:39:10.779225Z"
    },
    "slideshow": {
     "slide_type": "slide"
    }
   },
   "outputs": [
    {
     "name": "stdout",
     "output_type": "stream",
     "text": [
      "True\n"
     ]
    }
   ],
   "source": [
    "print('clave1' in diccionario)  # Verifico si la clave está en el diccionario"
   ]
  },
  {
   "cell_type": "code",
   "execution_count": 64,
   "id": "3c638dd0",
   "metadata": {
    "execution": {
     "iopub.execute_input": "2021-04-13T03:39:10.785156Z",
     "iopub.status.busy": "2021-04-13T03:39:10.784077Z",
     "iopub.status.idle": "2021-04-13T03:39:10.787040Z",
     "shell.execute_reply": "2021-04-13T03:39:10.787562Z"
    }
   },
   "outputs": [
    {
     "data": {
      "text/plain": [
       "True"
      ]
     },
     "execution_count": 1,
     "metadata": {},
     "output_type": "execute_result"
    }
   ],
   "source": [
    "l = [1, 2, 3, 4]\n",
    "2 in l"
   ]
  },
  {
   "cell_type": "code",
   "execution_count": 65,
   "id": "ba9be34e",
   "metadata": {
    "execution": {
     "iopub.execute_input": "2021-04-13T03:39:10.793995Z",
     "iopub.status.busy": "2021-04-13T03:39:10.792593Z",
     "iopub.status.idle": "2021-04-13T03:39:10.796085Z",
     "shell.execute_reply": "2021-04-13T03:39:10.795505Z"
    }
   },
   "outputs": [
    {
     "name": "stdout",
     "output_type": "stream",
     "text": [
      "la clave es clave1 y el valor es valor1\n",
      "la clave es 2 y el valor es valor2\n",
      "la clave es clave3 y el valor es 3\n"
     ]
    }
   ],
   "source": [
    "for clave, valor in diccionario.items():\n",
    "    print(\"la clave es %s y el valor es %s\" % (clave, valor))"
   ]
  },
  {
   "cell_type": "code",
   "execution_count": 66,
   "id": "89569b2a",
   "metadata": {
    "execution": {
     "iopub.execute_input": "2021-04-13T03:39:10.801959Z",
     "iopub.status.busy": "2021-04-13T03:39:10.800555Z",
     "iopub.status.idle": "2021-04-13T03:39:10.804102Z",
     "shell.execute_reply": "2021-04-13T03:39:10.803387Z"
    }
   },
   "outputs": [
    {
     "name": "stdout",
     "output_type": "stream",
     "text": [
      "la clave es clave1 y el valor es valor1\n",
      "la clave es 2 y el valor es valor2\n",
      "la clave es clave3 y el valor es 3\n"
     ]
    }
   ],
   "source": [
    "for clave, valor in diccionario.items():\n",
    "    print(\"la clave es {} y el valor es {}\".format(clave, valor))"
   ]
  },
  {
   "cell_type": "code",
   "execution_count": 67,
   "id": "0e063eac",
   "metadata": {
    "execution": {
     "iopub.execute_input": "2021-04-13T03:39:10.810053Z",
     "iopub.status.busy": "2021-04-13T03:39:10.808675Z",
     "iopub.status.idle": "2021-04-13T03:39:10.812044Z",
     "shell.execute_reply": "2021-04-13T03:39:10.811488Z"
    },
    "slideshow": {
     "slide_type": "slide"
    }
   },
   "outputs": [
    {
     "name": "stdout",
     "output_type": "stream",
     "text": [
      "la clave es clave1 y el valor es valor1\n",
      "la clave es 2 y el valor es valor2\n",
      "la clave es clave3 y el valor es 3\n"
     ]
    }
   ],
   "source": [
    "# Cómo iterar un diccionario elemento por elemento\n",
    "for (\n",
    "    clave,\n",
    "    valor,\n",
    ") in (\n",
    "    diccionario.items()\n",
    "):  # diccionario.items() va devolviendo tuplas con el formato (clave,valor)\n",
    "    print(\n",
    "        f\"la clave es {clave} y el valor es {valor}\"\n",
    "    )  # con esta sintaxis se desempaquetan en clave y valor (similar a enumerate)"
   ]
  },
  {
   "cell_type": "code",
   "execution_count": 68,
   "id": "631a46b9",
   "metadata": {
    "execution": {
     "iopub.execute_input": "2021-04-13T03:39:10.817666Z",
     "iopub.status.busy": "2021-04-13T03:39:10.816280Z",
     "iopub.status.idle": "2021-04-13T03:39:10.820082Z",
     "shell.execute_reply": "2021-04-13T03:39:10.819264Z"
    },
    "slideshow": {
     "slide_type": "slide"
    }
   },
   "outputs": [
    {
     "name": "stdout",
     "output_type": "stream",
     "text": [
      "clave1\n",
      "2\n",
      "clave3\n"
     ]
    }
   ],
   "source": [
    "for clave in diccionario.keys():\n",
    "    print(clave)"
   ]
  },
  {
   "cell_type": "code",
   "execution_count": 69,
   "id": "916de65b",
   "metadata": {
    "execution": {
     "iopub.execute_input": "2021-04-13T03:39:10.825096Z",
     "iopub.status.busy": "2021-04-13T03:39:10.824401Z",
     "iopub.status.idle": "2021-04-13T03:39:10.826534Z",
     "shell.execute_reply": "2021-04-13T03:39:10.827036Z"
    },
    "slideshow": {
     "slide_type": "slide"
    }
   },
   "outputs": [
    {
     "name": "stdout",
     "output_type": "stream",
     "text": [
      "valor1\n",
      "valor2\n",
      "3\n"
     ]
    }
   ],
   "source": [
    "for valor in diccionario.values():\n",
    "    print(valor)"
   ]
  },
  {
   "cell_type": "markdown",
   "id": "e3fc9322",
   "metadata": {},
   "source": [
    "#### Sets\n",
    "\n",
    "Son similares a los diccionarios (en eficiencia) pero se almacenan solo claves, y tienen algunas operaciones particulares.\n",
    "\n",
    "En particular, no pueden tener elementos iguales (pensar que son conjuntos)"
   ]
  },
  {
   "cell_type": "code",
   "execution_count": 70,
   "id": "0d7dacb6",
   "metadata": {
    "execution": {
     "iopub.execute_input": "2021-04-13T03:39:10.831935Z",
     "iopub.status.busy": "2021-04-13T03:39:10.831025Z",
     "iopub.status.idle": "2021-04-13T03:39:10.838103Z",
     "shell.execute_reply": "2021-04-13T03:39:10.838638Z"
    }
   },
   "outputs": [],
   "source": [
    "set??"
   ]
  },
  {
   "cell_type": "code",
   "execution_count": 71,
   "id": "b8accede",
   "metadata": {
    "execution": {
     "iopub.execute_input": "2021-04-13T03:39:10.843621Z",
     "iopub.status.busy": "2021-04-13T03:39:10.842963Z",
     "iopub.status.idle": "2021-04-13T03:39:10.845278Z",
     "shell.execute_reply": "2021-04-13T03:39:10.845887Z"
    }
   },
   "outputs": [
    {
     "data": {
      "text/plain": [
       "{1, 2, 3}"
      ]
     },
     "execution_count": 1,
     "metadata": {},
     "output_type": "execute_result"
    }
   ],
   "source": [
    "# Se definen como los diccionarios pero sin hacerlos 'clave:valor', solamente una seguidilla de elementos\n",
    "{1, 2, 2, 3}"
   ]
  },
  {
   "cell_type": "code",
   "execution_count": 72,
   "id": "a417dd99",
   "metadata": {
    "execution": {
     "iopub.execute_input": "2021-04-13T03:39:10.850139Z",
     "iopub.status.busy": "2021-04-13T03:39:10.849519Z",
     "iopub.status.idle": "2021-04-13T03:39:10.852432Z",
     "shell.execute_reply": "2021-04-13T03:39:10.852951Z"
    }
   },
   "outputs": [
    {
     "data": {
      "text/plain": [
       "{1, 2, 3}"
      ]
     },
     "execution_count": 1,
     "metadata": {},
     "output_type": "execute_result"
    }
   ],
   "source": [
    "set([1, 2, 2, 3])"
   ]
  },
  {
   "cell_type": "markdown",
   "id": "344427c6",
   "metadata": {},
   "source": [
    "## Condicionales (if...elif...else)\n",
    "\n",
    "```python\n",
    "if <condición_1>:\n",
    "    <hacer algo_1 si se da la condición_1>\n",
    "elif <condición_2>:\n",
    "    <hacer algo_2 si se da la condición_2>\n",
    "...\n",
    "elif <condición_n>:\n",
    "    <hacer algo_n si se da la condición_n>\n",
    "else:\n",
    "    <hacer otra cosa si no dan las anteriores>\n",
    "```\n",
    "\n",
    "Algo importante para notar es que los bloques se definen por **niveles de identacion**."
   ]
  },
  {
   "cell_type": "code",
   "execution_count": 73,
   "id": "8ccd7b43",
   "metadata": {
    "execution": {
     "iopub.execute_input": "2021-04-13T03:39:10.858452Z",
     "iopub.status.busy": "2021-04-13T03:39:10.857816Z",
     "iopub.status.idle": "2021-04-13T03:39:10.859965Z",
     "shell.execute_reply": "2021-04-13T03:39:10.860482Z"
    }
   },
   "outputs": [
    {
     "name": "stdout",
     "output_type": "stream",
     "text": [
      "uno\n"
     ]
    }
   ],
   "source": [
    "v = 1\n",
    "if v == 1:\n",
    "    print(\"uno\")\n",
    "elif v == 2:\n",
    "    print(\"dos\")\n",
    "else:\n",
    "    print(\"ni idea\")\n",
    "    print(v)"
   ]
  },
  {
   "cell_type": "markdown",
   "id": "f8c06a5f",
   "metadata": {},
   "source": [
    "## Iteraciones\n",
    "\n",
    "```python\n",
    "while cond:\n",
    "    <codigo>\n",
    "```\n",
    "\n",
    "```python\n",
    "for elemento in iterable:\n",
    "    <codigo>\n",
    "```\n",
    "\n",
    "Para iterar sobre un rango de valores, usamos `range`"
   ]
  },
  {
   "cell_type": "code",
   "execution_count": 74,
   "id": "03a7e511",
   "metadata": {
    "execution": {
     "iopub.execute_input": "2021-04-13T03:39:10.864079Z",
     "iopub.status.busy": "2021-04-13T03:39:10.863365Z",
     "iopub.status.idle": "2021-04-13T03:39:10.869468Z",
     "shell.execute_reply": "2021-04-13T03:39:10.870120Z"
    }
   },
   "outputs": [
    {
     "name": "stdout",
     "output_type": "stream",
     "text": [
      "1\n",
      "4\n",
      "7\n",
      "10\n"
     ]
    }
   ],
   "source": [
    "for i in range(1, 11, 3):\n",
    "    print(i)"
   ]
  },
  {
   "cell_type": "markdown",
   "id": "415698db",
   "metadata": {},
   "source": [
    "## Operadores logicos\n",
    "\n",
    "`not`, `or`, `and`"
   ]
  },
  {
   "cell_type": "code",
   "execution_count": 75,
   "id": "e9e25664",
   "metadata": {
    "execution": {
     "iopub.execute_input": "2021-04-13T03:39:10.875314Z",
     "iopub.status.busy": "2021-04-13T03:39:10.874497Z",
     "iopub.status.idle": "2021-04-13T03:39:10.876759Z",
     "shell.execute_reply": "2021-04-13T03:39:10.877398Z"
    }
   },
   "outputs": [
    {
     "name": "stdout",
     "output_type": "stream",
     "text": [
      "yay\n"
     ]
    }
   ],
   "source": [
    "if True or False:\n",
    "    print(\"yay\")"
   ]
  },
  {
   "cell_type": "code",
   "execution_count": 76,
   "id": "5ee238fb",
   "metadata": {
    "execution": {
     "iopub.execute_input": "2021-04-13T03:39:10.882808Z",
     "iopub.status.busy": "2021-04-13T03:39:10.882117Z",
     "iopub.status.idle": "2021-04-13T03:39:10.885354Z",
     "shell.execute_reply": "2021-04-13T03:39:10.884692Z"
    }
   },
   "outputs": [
    {
     "data": {
      "text/plain": [
       "False"
      ]
     },
     "execution_count": 1,
     "metadata": {},
     "output_type": "execute_result"
    }
   ],
   "source": [
    "1 == 2"
   ]
  },
  {
   "cell_type": "code",
   "execution_count": 77,
   "id": "79ec5cb3",
   "metadata": {
    "execution": {
     "iopub.execute_input": "2021-04-13T03:39:10.890602Z",
     "iopub.status.busy": "2021-04-13T03:39:10.889489Z",
     "iopub.status.idle": "2021-04-13T03:39:10.892358Z",
     "shell.execute_reply": "2021-04-13T03:39:10.892898Z"
    }
   },
   "outputs": [
    {
     "data": {
      "text/plain": [
       "True"
      ]
     },
     "execution_count": 1,
     "metadata": {},
     "output_type": "execute_result"
    }
   ],
   "source": [
    "1 != 2"
   ]
  },
  {
   "cell_type": "markdown",
   "id": "bda778ad",
   "metadata": {
    "slideshow": {
     "slide_type": "slide"
    }
   },
   "source": [
    "## Funciones en Python"
   ]
  },
  {
   "cell_type": "code",
   "execution_count": 78,
   "id": "995da817",
   "metadata": {
    "execution": {
     "iopub.execute_input": "2021-04-13T03:39:10.900889Z",
     "iopub.status.busy": "2021-04-13T03:39:10.900210Z",
     "iopub.status.idle": "2021-04-13T03:39:10.902401Z",
     "shell.execute_reply": "2021-04-13T03:39:10.902936Z"
    },
    "slideshow": {
     "slide_type": "slide"
    }
   },
   "outputs": [
    {
     "name": "stdout",
     "output_type": "stream",
     "text": [
      "True\n",
      "False\n"
     ]
    }
   ],
   "source": [
    "def busqueda_binaria(lista, elemento):\n",
    "    if not lista:\n",
    "        return False\n",
    "    elif len(lista) == 1:\n",
    "        return lista[0] == elemento\n",
    "    mitad = len(lista) // 2  # // es la operación división entera\n",
    "    if lista[mitad] == elemento:\n",
    "        return True\n",
    "    if lista[mitad] > elemento:\n",
    "        return busqueda_binaria(lista[:mitad], elemento)\n",
    "    if lista[mitad] < elemento:\n",
    "        return busqueda_binaria(lista[mitad:], elemento)\n",
    "\n",
    "\n",
    "print(busqueda_binaria([1, 2, 3, 4, 5], 4))\n",
    "print(busqueda_binaria([1, 4, 6, 7, 9, 10], 2))"
   ]
  },
  {
   "cell_type": "code",
   "execution_count": 79,
   "id": "f39efe0b",
   "metadata": {
    "execution": {
     "iopub.execute_input": "2021-04-13T03:39:10.907586Z",
     "iopub.status.busy": "2021-04-13T03:39:10.906960Z",
     "iopub.status.idle": "2021-04-13T03:39:10.909249Z",
     "shell.execute_reply": "2021-04-13T03:39:10.909818Z"
    }
   },
   "outputs": [
    {
     "name": "stdout",
     "output_type": "stream",
     "text": [
      "(3, 3, 3)\n"
     ]
    }
   ],
   "source": [
    "def a(b):\n",
    "    if a == 1:\n",
    "        print(a)\n",
    "    return (b, b, b)\n",
    "\n",
    "\n",
    "print(a(3))"
   ]
  },
  {
   "cell_type": "code",
   "execution_count": 80,
   "id": "3ce345eb",
   "metadata": {
    "execution": {
     "iopub.execute_input": "2021-04-13T03:39:10.923306Z",
     "iopub.status.busy": "2021-04-13T03:39:10.915349Z",
     "iopub.status.idle": "2021-04-13T03:39:10.928052Z",
     "shell.execute_reply": "2021-04-13T03:39:10.928737Z"
    },
    "lines_to_next_cell": 2,
    "slideshow": {
     "slide_type": "slide"
    },
    "tags": [
     "raises-exception"
    ]
   },
   "outputs": [
    {
     "name": "stdout",
     "output_type": "stream",
     "text": [
      "3\n",
      "3.0\n",
      "3.0\n",
      "hola como te va\n",
      "[1, 2, 3, 4, 5]\n"
     ]
    },
    {
     "ename": "TypeError",
     "evalue": "can only concatenate str (not \"int\") to str",
     "output_type": "error",
     "traceback": [
      "\u001b[0;31m---------------------------------------------------------------------------\u001b[0m",
      "\u001b[0;31mTypeError\u001b[0m                                 Traceback (most recent call last)",
      "\u001b[0;32m<ipython-input-1-c2a6a99a90c7>\u001b[0m in \u001b[0;36m<module>\u001b[0;34m\u001b[0m\n\u001b[1;32m      8\u001b[0m \u001b[0mprint\u001b[0m\u001b[0;34m(\u001b[0m\u001b[0msuma\u001b[0m\u001b[0;34m(\u001b[0m\u001b[0;34m\"hola \"\u001b[0m\u001b[0;34m,\u001b[0m \u001b[0;34m\"como te va\"\u001b[0m\u001b[0;34m)\u001b[0m\u001b[0;34m)\u001b[0m\u001b[0;34m\u001b[0m\u001b[0;34m\u001b[0m\u001b[0m\n\u001b[1;32m      9\u001b[0m \u001b[0mprint\u001b[0m\u001b[0;34m(\u001b[0m\u001b[0msuma\u001b[0m\u001b[0;34m(\u001b[0m\u001b[0;34m[\u001b[0m\u001b[0;36m1\u001b[0m\u001b[0;34m,\u001b[0m \u001b[0;36m2\u001b[0m\u001b[0;34m,\u001b[0m \u001b[0;36m3\u001b[0m\u001b[0;34m]\u001b[0m\u001b[0;34m,\u001b[0m \u001b[0;34m[\u001b[0m\u001b[0;36m4\u001b[0m\u001b[0;34m,\u001b[0m \u001b[0;36m5\u001b[0m\u001b[0;34m]\u001b[0m\u001b[0;34m)\u001b[0m\u001b[0;34m)\u001b[0m\u001b[0;34m\u001b[0m\u001b[0;34m\u001b[0m\u001b[0m\n\u001b[0;32m---> 10\u001b[0;31m \u001b[0mprint\u001b[0m\u001b[0;34m(\u001b[0m\u001b[0msuma\u001b[0m\u001b[0;34m(\u001b[0m\u001b[0;34m\"1\"\u001b[0m\u001b[0;34m,\u001b[0m \u001b[0;36m3\u001b[0m\u001b[0;34m)\u001b[0m\u001b[0;34m)\u001b[0m  \u001b[0;31m# Falla\u001b[0m\u001b[0;34m\u001b[0m\u001b[0;34m\u001b[0m\u001b[0m\n\u001b[0m",
      "\u001b[0;32m<ipython-input-1-c2a6a99a90c7>\u001b[0m in \u001b[0;36msuma\u001b[0;34m(a, b)\u001b[0m\n\u001b[1;32m      1\u001b[0m \u001b[0;32mdef\u001b[0m \u001b[0msuma\u001b[0m\u001b[0;34m(\u001b[0m\u001b[0ma\u001b[0m\u001b[0;34m,\u001b[0m \u001b[0mb\u001b[0m\u001b[0;34m)\u001b[0m\u001b[0;34m:\u001b[0m\u001b[0;34m\u001b[0m\u001b[0;34m\u001b[0m\u001b[0m\n\u001b[0;32m----> 2\u001b[0;31m     \u001b[0;32mreturn\u001b[0m \u001b[0ma\u001b[0m \u001b[0;34m+\u001b[0m \u001b[0mb\u001b[0m\u001b[0;34m\u001b[0m\u001b[0;34m\u001b[0m\u001b[0m\n\u001b[0m\u001b[1;32m      3\u001b[0m \u001b[0;34m\u001b[0m\u001b[0m\n\u001b[1;32m      4\u001b[0m \u001b[0;34m\u001b[0m\u001b[0m\n\u001b[1;32m      5\u001b[0m \u001b[0mprint\u001b[0m\u001b[0;34m(\u001b[0m\u001b[0msuma\u001b[0m\u001b[0;34m(\u001b[0m\u001b[0;36m1\u001b[0m\u001b[0;34m,\u001b[0m \u001b[0;36m2\u001b[0m\u001b[0;34m)\u001b[0m\u001b[0;34m)\u001b[0m\u001b[0;34m\u001b[0m\u001b[0;34m\u001b[0m\u001b[0m\n",
      "\u001b[0;31mTypeError\u001b[0m: can only concatenate str (not \"int\") to str"
     ]
    }
   ],
   "source": [
    "def suma(a, b):\n",
    "    return a + b\n",
    "\n",
    "\n",
    "print(suma(1, 2))\n",
    "print(suma(1.0, 2.0))\n",
    "print(suma(1.0, 2))\n",
    "print(suma(\"hola \", \"como te va\"))\n",
    "print(suma([1, 2, 3], [4, 5]))\n",
    "print(suma(\"1\", 3))  # Falla"
   ]
  },
  {
   "cell_type": "code",
   "execution_count": 81,
   "id": "3f22aaed",
   "metadata": {
    "execution": {
     "iopub.execute_input": "2021-04-13T03:39:10.934827Z",
     "iopub.status.busy": "2021-04-13T03:39:10.933429Z",
     "iopub.status.idle": "2021-04-13T03:39:10.936865Z",
     "shell.execute_reply": "2021-04-13T03:39:10.936306Z"
    }
   },
   "outputs": [
    {
     "name": "stdout",
     "output_type": "stream",
     "text": [
      "2.0\n"
     ]
    }
   ],
   "source": [
    "# El valor por default de divisor es 1\n",
    "\n",
    "\n",
    "def division(dividendo, divisor=2):\n",
    "    return dividendo / divisor\n",
    "\n",
    "\n",
    "print(division(4))  # Usa el valor por default"
   ]
  },
  {
   "cell_type": "code",
   "execution_count": 82,
   "id": "5dbccc7f",
   "metadata": {
    "execution": {
     "iopub.execute_input": "2021-04-13T03:39:10.941257Z",
     "iopub.status.busy": "2021-04-13T03:39:10.940575Z",
     "iopub.status.idle": "2021-04-13T03:39:10.948873Z",
     "shell.execute_reply": "2021-04-13T03:39:10.949430Z"
    },
    "tags": [
     "raises-exception"
    ]
   },
   "outputs": [
    {
     "name": "stdout",
     "output_type": "stream",
     "text": [
      "0.5\n",
      "0.5\n"
     ]
    },
    {
     "ename": "TypeError",
     "evalue": "division() missing 1 required positional argument: 'dividendo'",
     "output_type": "error",
     "traceback": [
      "\u001b[0;31m---------------------------------------------------------------------------\u001b[0m",
      "\u001b[0;31mTypeError\u001b[0m                                 Traceback (most recent call last)",
      "\u001b[0;32m<ipython-input-1-34eff3833138>\u001b[0m in \u001b[0;36m<module>\u001b[0;34m\u001b[0m\n\u001b[1;32m      1\u001b[0m \u001b[0mprint\u001b[0m\u001b[0;34m(\u001b[0m\u001b[0mdivision\u001b[0m\u001b[0;34m(\u001b[0m\u001b[0;36m1\u001b[0m\u001b[0;34m,\u001b[0m \u001b[0;36m2\u001b[0m\u001b[0;34m)\u001b[0m\u001b[0;34m)\u001b[0m  \u001b[0;31m# Parámetros por orden\u001b[0m\u001b[0;34m\u001b[0m\u001b[0;34m\u001b[0m\u001b[0m\n\u001b[1;32m      2\u001b[0m \u001b[0mprint\u001b[0m\u001b[0;34m(\u001b[0m\u001b[0mdivision\u001b[0m\u001b[0;34m(\u001b[0m\u001b[0mdividendo\u001b[0m\u001b[0;34m=\u001b[0m\u001b[0;36m1\u001b[0m\u001b[0;34m,\u001b[0m \u001b[0mdivisor\u001b[0m\u001b[0;34m=\u001b[0m\u001b[0;36m2\u001b[0m\u001b[0;34m)\u001b[0m\u001b[0;34m)\u001b[0m  \u001b[0;31m# Parámetros por nombre\u001b[0m\u001b[0;34m\u001b[0m\u001b[0;34m\u001b[0m\u001b[0m\n\u001b[0;32m----> 3\u001b[0;31m \u001b[0mprint\u001b[0m\u001b[0;34m(\u001b[0m\u001b[0mdivision\u001b[0m\u001b[0;34m(\u001b[0m\u001b[0mdivisor\u001b[0m\u001b[0;34m=\u001b[0m\u001b[0;36m2\u001b[0m\u001b[0;34m)\u001b[0m\u001b[0;34m)\u001b[0m\u001b[0;34m\u001b[0m\u001b[0;34m\u001b[0m\u001b[0m\n\u001b[0m",
      "\u001b[0;31mTypeError\u001b[0m: division() missing 1 required positional argument: 'dividendo'"
     ]
    }
   ],
   "source": [
    "print(division(1, 2))  # Parámetros por orden\n",
    "print(division(dividendo=1, divisor=2))  # Parámetros por nombre\n",
    "print(division(divisor=2))"
   ]
  },
  {
   "cell_type": "code",
   "execution_count": 83,
   "id": "31309b72",
   "metadata": {
    "execution": {
     "iopub.execute_input": "2021-04-13T03:39:10.955087Z",
     "iopub.status.busy": "2021-04-13T03:39:10.953706Z",
     "iopub.status.idle": "2021-04-13T03:39:10.957106Z",
     "shell.execute_reply": "2021-04-13T03:39:10.956561Z"
    }
   },
   "outputs": [
    {
     "name": "stdout",
     "output_type": "stream",
     "text": [
      "0.5\n"
     ]
    }
   ],
   "source": [
    "print(division(divisor=2, dividendo=1))"
   ]
  },
  {
   "cell_type": "code",
   "execution_count": 84,
   "id": "4b7dde42",
   "metadata": {
    "execution": {
     "iopub.execute_input": "2021-04-13T03:39:10.964116Z",
     "iopub.status.busy": "2021-04-13T03:39:10.962703Z",
     "iopub.status.idle": "2021-04-13T03:39:10.966069Z",
     "shell.execute_reply": "2021-04-13T03:39:10.965548Z"
    }
   },
   "outputs": [
    {
     "name": "stdout",
     "output_type": "stream",
     "text": [
      "['a', 'b', 'c']\n",
      "[1, 2, 3]\n",
      "['hola', ' don', ' pepito']\n",
      "hola -  don -  pepito\n"
     ]
    }
   ],
   "source": [
    "# Funciones básicas ya en el lenguaje\n",
    "# Hechas para funcionar para distintos tipos\n",
    "\n",
    "string_ordenado = sorted('bca')\n",
    "print(string_ordenado)\n",
    "\n",
    "lista_ordenada = sorted([1, 3, 2])\n",
    "print(lista_ordenada)\n",
    "\n",
    "separadas = \"hola, don, pepito\".split(\",\")\n",
    "print(separadas)\n",
    "unidas = \" - \".join(separadas)\n",
    "print(unidas)"
   ]
  },
  {
   "cell_type": "markdown",
   "id": "95a1ab46",
   "metadata": {},
   "source": [
    "## Módulos\n",
    "\n",
    "Para incluir alguna biblioteca de funciones se usa `import`. Pueden ser cosas ya predefinidas en Python (`math`, `random`, etc), nombres de archivos en nuestro directorio (por ejemplo, para `mimodulo.py` ponemos `import mimodulo`) o bibliotecas instaladas por el usuario"
   ]
  },
  {
   "cell_type": "code",
   "execution_count": 85,
   "id": "ad6ab6ef",
   "metadata": {
    "execution": {
     "iopub.execute_input": "2021-04-13T03:39:10.971444Z",
     "iopub.status.busy": "2021-04-13T03:39:10.970028Z",
     "iopub.status.idle": "2021-04-13T03:39:10.973433Z",
     "shell.execute_reply": "2021-04-13T03:39:10.972880Z"
    }
   },
   "outputs": [
    {
     "name": "stdout",
     "output_type": "stream",
     "text": [
      "3.141592653589793\n"
     ]
    }
   ],
   "source": [
    "import math\n",
    "\n",
    "print(math.pi)"
   ]
  },
  {
   "cell_type": "code",
   "execution_count": 86,
   "id": "c2ec4e71",
   "metadata": {
    "execution": {
     "iopub.execute_input": "2021-04-13T03:39:10.980167Z",
     "iopub.status.busy": "2021-04-13T03:39:10.978635Z",
     "iopub.status.idle": "2021-04-13T03:39:10.982074Z",
     "shell.execute_reply": "2021-04-13T03:39:10.981556Z"
    }
   },
   "outputs": [
    {
     "name": "stdout",
     "output_type": "stream",
     "text": [
      "3.141592653589793 2.718281828459045\n"
     ]
    }
   ],
   "source": [
    "from math import pi, e\n",
    "\n",
    "print(pi, e)"
   ]
  },
  {
   "cell_type": "code",
   "execution_count": 87,
   "id": "74bf24fb",
   "metadata": {
    "execution": {
     "iopub.execute_input": "2021-04-13T03:39:10.987314Z",
     "iopub.status.busy": "2021-04-13T03:39:10.986203Z",
     "iopub.status.idle": "2021-04-13T03:39:10.989172Z",
     "shell.execute_reply": "2021-04-13T03:39:10.989675Z"
    }
   },
   "outputs": [
    {
     "data": {
      "text/plain": [
       "2"
      ]
     },
     "execution_count": 1,
     "metadata": {},
     "output_type": "execute_result"
    }
   ],
   "source": [
    "math.gcd(56, 78)"
   ]
  },
  {
   "cell_type": "markdown",
   "id": "e9b43819",
   "metadata": {},
   "source": [
    "## Manejo de excepciones\n",
    "\n",
    "Se pueden encapsular errores esperados en un bloque 'try/except' para evitar cortar el flujo del programa"
   ]
  },
  {
   "cell_type": "code",
   "execution_count": 88,
   "id": "3ef32f5e",
   "metadata": {
    "execution": {
     "iopub.execute_input": "2021-04-13T03:39:10.993665Z",
     "iopub.status.busy": "2021-04-13T03:39:10.993054Z",
     "iopub.status.idle": "2021-04-13T03:39:11.001042Z",
     "shell.execute_reply": "2021-04-13T03:39:11.001598Z"
    },
    "tags": [
     "raises-exception"
    ]
   },
   "outputs": [
    {
     "ename": "ZeroDivisionError",
     "evalue": "division by zero",
     "output_type": "error",
     "traceback": [
      "\u001b[0;31m---------------------------------------------------------------------------\u001b[0m",
      "\u001b[0;31mZeroDivisionError\u001b[0m                         Traceback (most recent call last)",
      "\u001b[0;32m<ipython-input-1-f031f77b1a55>\u001b[0m in \u001b[0;36m<module>\u001b[0;34m\u001b[0m\n\u001b[0;32m----> 1\u001b[0;31m \u001b[0mdivision\u001b[0m\u001b[0;34m(\u001b[0m\u001b[0;36m1\u001b[0m\u001b[0;34m,\u001b[0m \u001b[0;36m0\u001b[0m\u001b[0;34m)\u001b[0m  \u001b[0;31m# No se puede dividir por cero\u001b[0m\u001b[0;34m\u001b[0m\u001b[0;34m\u001b[0m\u001b[0m\n\u001b[0m",
      "\u001b[0;32m<ipython-input-1-0d991d7de762>\u001b[0m in \u001b[0;36mdivision\u001b[0;34m(dividendo, divisor)\u001b[0m\n\u001b[1;32m      3\u001b[0m \u001b[0;34m\u001b[0m\u001b[0m\n\u001b[1;32m      4\u001b[0m \u001b[0;32mdef\u001b[0m \u001b[0mdivision\u001b[0m\u001b[0;34m(\u001b[0m\u001b[0mdividendo\u001b[0m\u001b[0;34m,\u001b[0m \u001b[0mdivisor\u001b[0m\u001b[0;34m=\u001b[0m\u001b[0;36m2\u001b[0m\u001b[0;34m)\u001b[0m\u001b[0;34m:\u001b[0m\u001b[0;34m\u001b[0m\u001b[0;34m\u001b[0m\u001b[0m\n\u001b[0;32m----> 5\u001b[0;31m     \u001b[0;32mreturn\u001b[0m \u001b[0mdividendo\u001b[0m \u001b[0;34m/\u001b[0m \u001b[0mdivisor\u001b[0m\u001b[0;34m\u001b[0m\u001b[0;34m\u001b[0m\u001b[0m\n\u001b[0m\u001b[1;32m      6\u001b[0m \u001b[0;34m\u001b[0m\u001b[0m\n\u001b[1;32m      7\u001b[0m \u001b[0;34m\u001b[0m\u001b[0m\n",
      "\u001b[0;31mZeroDivisionError\u001b[0m: division by zero"
     ]
    }
   ],
   "source": [
    "division(1, 0)  # No se puede dividir por cero"
   ]
  },
  {
   "cell_type": "code",
   "execution_count": 89,
   "id": "35b45250",
   "metadata": {
    "execution": {
     "iopub.execute_input": "2021-04-13T03:39:11.007722Z",
     "iopub.status.busy": "2021-04-13T03:39:11.006215Z",
     "iopub.status.idle": "2021-04-13T03:39:11.009541Z",
     "shell.execute_reply": "2021-04-13T03:39:11.010028Z"
    }
   },
   "outputs": [
    {
     "name": "stdout",
     "output_type": "stream",
     "text": [
      "No se puede dividir por cero, ojo! division by zero\n",
      "1\n"
     ]
    }
   ],
   "source": [
    "try:\n",
    "    division(1, 0)\n",
    "except (ZeroDivisionError, TypeError) as e:\n",
    "    print('No se puede dividir por cero, ojo!', e)\n",
    "finally:\n",
    "    print(1)"
   ]
  },
  {
   "cell_type": "markdown",
   "id": "8122d89b",
   "metadata": {
    "slideshow": {
     "slide_type": "slide"
    }
   },
   "source": [
    "## Lectura y escritura de archivos"
   ]
  },
  {
   "cell_type": "code",
   "execution_count": 90,
   "id": "bf5379b9",
   "metadata": {
    "execution": {
     "iopub.execute_input": "2021-04-13T03:39:11.016549Z",
     "iopub.status.busy": "2021-04-13T03:39:11.015313Z",
     "iopub.status.idle": "2021-04-13T03:39:11.018336Z",
     "shell.execute_reply": "2021-04-13T03:39:11.018797Z"
    },
    "slideshow": {
     "slide_type": "slide"
    }
   },
   "outputs": [
    {
     "name": "stdout",
     "output_type": "stream",
     "text": [
      "<_io.TextIOWrapper name='archivo.csv' mode='w' encoding='UTF-8'>\n"
     ]
    }
   ],
   "source": [
    "import random\n",
    "\n",
    "with open(\n",
    "    'archivo.csv', 'w'\n",
    ") as archivo:  # Al usar esta sintaxis no es necesario hacer close\n",
    "    archivo.write(\"Alumno, nota\\n\")\n",
    "    # Tambien de forma similar al fprintf se puede hacer:\n",
    "    # print(\"Alumno, nota\\n\", file=archivo)\n",
    "    for i in range(0, 10):\n",
    "        archivo.write(f\"{i},{random.randrange(0,10)}\\n\")\n",
    "\n",
    "print(archivo)  # Comentario aclaratorio:\n",
    "# Las variables definidas en un determinado scope siguen existiendo por fuera del mismo.\n",
    "# Se debe tener cuidado con esto, ya que nada garantiza que por fuera el valor sea el esperado."
   ]
  },
  {
   "cell_type": "code",
   "execution_count": 91,
   "id": "160a5054",
   "metadata": {
    "execution": {
     "iopub.execute_input": "2021-04-13T03:39:11.025451Z",
     "iopub.status.busy": "2021-04-13T03:39:11.024605Z",
     "iopub.status.idle": "2021-04-13T03:39:11.027490Z",
     "shell.execute_reply": "2021-04-13T03:39:11.028043Z"
    },
    "slideshow": {
     "slide_type": "slide"
    }
   },
   "outputs": [
    {
     "name": "stdout",
     "output_type": "stream",
     "text": [
      "Alumno, nota\n",
      "0,6\n",
      "1,3\n",
      "2,7\n",
      "3,7\n",
      "4,5\n",
      "5,2\n",
      "6,5\n",
      "7,6\n",
      "8,1\n",
      "9,0\n"
     ]
    }
   ],
   "source": [
    "with open('archivo.csv', 'r') as f:\n",
    "    for linea in f:\n",
    "        print(linea.strip())"
   ]
  },
  {
   "cell_type": "code",
   "execution_count": 92,
   "id": "6c3c16c1",
   "metadata": {
    "execution": {
     "iopub.execute_input": "2021-04-13T03:39:11.033858Z",
     "iopub.status.busy": "2021-04-13T03:39:11.032444Z",
     "iopub.status.idle": "2021-04-13T03:39:11.035944Z",
     "shell.execute_reply": "2021-04-13T03:39:11.035356Z"
    }
   },
   "outputs": [
    {
     "name": "stdout",
     "output_type": "stream",
     "text": [
      "Alumno, nota\n",
      "0,6\n",
      "1,3\n",
      "2,7\n",
      "3,7\n",
      "4,5\n",
      "5,2\n",
      "6,5\n",
      "7,6\n",
      "8,1\n",
      "9,0\n",
      "\n"
     ]
    }
   ],
   "source": [
    "with open('archivo.csv', 'r') as f:\n",
    "    print(f.read())"
   ]
  },
  {
   "cell_type": "code",
   "execution_count": 93,
   "id": "f94d3e20",
   "metadata": {
    "execution": {
     "iopub.execute_input": "2021-04-13T03:39:11.041144Z",
     "iopub.status.busy": "2021-04-13T03:39:11.039976Z",
     "iopub.status.idle": "2021-04-13T03:39:11.042098Z",
     "shell.execute_reply": "2021-04-13T03:39:11.042718Z"
    }
   },
   "outputs": [],
   "source": [
    "f = open('archivo.csv', 'w')\n",
    "f.write(\"algo, algo\")\n",
    "f.close()"
   ]
  },
  {
   "cell_type": "markdown",
   "id": "bbb7cf02",
   "metadata": {
    "slideshow": {
     "slide_type": "slide"
    }
   },
   "source": [
    "## Objetos\n",
    "\n",
    "Los objetos tienen metodos y atributos:\n",
    "- Atributos: equivalentes a variables.\n",
    "- Métodos: equivalentes a las primitivas."
   ]
  },
  {
   "cell_type": "markdown",
   "id": "8341e630",
   "metadata": {
    "slideshow": {
     "slide_type": "slide"
    }
   },
   "source": [
    "### Cómo creo una clase"
   ]
  },
  {
   "cell_type": "code",
   "execution_count": 94,
   "id": "ef699cf9",
   "metadata": {
    "execution": {
     "iopub.execute_input": "2021-04-13T03:39:11.049705Z",
     "iopub.status.busy": "2021-04-13T03:39:11.048278Z",
     "iopub.status.idle": "2021-04-13T03:39:11.050430Z",
     "shell.execute_reply": "2021-04-13T03:39:11.050932Z"
    },
    "slideshow": {
     "slide_type": "slide"
    }
   },
   "outputs": [],
   "source": [
    "class Nodo(object):\n",
    "    def __init__(self, dato, siguiente=None):\n",
    "        self._dato = dato\n",
    "        self._siguiente = siguiente\n",
    "\n",
    "    @property\n",
    "    def dato(self):\n",
    "        return self._dato\n",
    "\n",
    "    @property\n",
    "    def proximo(self):\n",
    "        return self._siguiente\n",
    "\n",
    "    @proximo.setter\n",
    "    def proximo(self, siguiente):\n",
    "        self._siguiente = siguiente\n",
    "\n",
    "    def __repr__(self):\n",
    "        return str(self.dato)\n",
    "\n",
    "    def __str__(self):\n",
    "        return str(self.dato)"
   ]
  },
  {
   "cell_type": "code",
   "execution_count": 95,
   "id": "6991e00b",
   "metadata": {
    "execution": {
     "iopub.execute_input": "2021-04-13T03:39:11.057172Z",
     "iopub.status.busy": "2021-04-13T03:39:11.055757Z",
     "iopub.status.idle": "2021-04-13T03:39:11.059165Z",
     "shell.execute_reply": "2021-04-13T03:39:11.058638Z"
    },
    "slideshow": {
     "slide_type": "slide"
    }
   },
   "outputs": [
    {
     "name": "stdout",
     "output_type": "stream",
     "text": [
      "hola\n"
     ]
    }
   ],
   "source": [
    "nodo = Nodo(\"hola\")\n",
    "print(nodo)"
   ]
  },
  {
   "cell_type": "code",
   "execution_count": 96,
   "id": "dc1bd07f",
   "metadata": {
    "execution": {
     "iopub.execute_input": "2021-04-13T03:39:11.064348Z",
     "iopub.status.busy": "2021-04-13T03:39:11.062998Z",
     "iopub.status.idle": "2021-04-13T03:39:11.066162Z",
     "shell.execute_reply": "2021-04-13T03:39:11.065670Z"
    },
    "slideshow": {
     "slide_type": "slide"
    }
   },
   "outputs": [
    {
     "name": "stdout",
     "output_type": "stream",
     "text": [
      "[hola, lala]\n"
     ]
    }
   ],
   "source": [
    "nodo2 = Nodo(\"lala\")\n",
    "print([nodo, nodo2])"
   ]
  },
  {
   "cell_type": "code",
   "execution_count": 97,
   "id": "3dd02cdc",
   "metadata": {
    "execution": {
     "iopub.execute_input": "2021-04-13T03:39:11.072584Z",
     "iopub.status.busy": "2021-04-13T03:39:11.071492Z",
     "iopub.status.idle": "2021-04-13T03:39:11.074962Z",
     "shell.execute_reply": "2021-04-13T03:39:11.074405Z"
    },
    "slideshow": {
     "slide_type": "slide"
    }
   },
   "outputs": [
    {
     "name": "stdout",
     "output_type": "stream",
     "text": [
      "hola\n"
     ]
    }
   ],
   "source": [
    "nodo3 = nodo.dato\n",
    "print(nodo3)"
   ]
  },
  {
   "cell_type": "markdown",
   "id": "a3873467",
   "metadata": {
    "slideshow": {
     "slide_type": "slide"
    }
   },
   "source": [
    "### Ejemplo: Lista Enlazada"
   ]
  },
  {
   "cell_type": "code",
   "execution_count": 98,
   "id": "9845b742",
   "metadata": {
    "execution": {
     "iopub.execute_input": "2021-04-13T03:39:11.085317Z",
     "iopub.status.busy": "2021-04-13T03:39:11.083269Z",
     "iopub.status.idle": "2021-04-13T03:39:11.092814Z",
     "shell.execute_reply": "2021-04-13T03:39:11.092132Z"
    },
    "slideshow": {
     "slide_type": "slide"
    }
   },
   "outputs": [],
   "source": [
    "class ListaEnlazada(object):\n",
    "    def __init__(self):\n",
    "        self._primero = None\n",
    "        self._ultimo = None\n",
    "        self._largo = 0\n",
    "\n",
    "    def __len__(self):\n",
    "        return self._largo\n",
    "\n",
    "    def insertar_al_principio(self, dato):\n",
    "        nodo = Nodo(dato, self._primero)\n",
    "        self._primero = nodo\n",
    "        self._largo += 1\n",
    "        if self._largo == 1:\n",
    "            self._ultimo = nodo\n",
    "\n",
    "    def insertar_al_final(self, dato):\n",
    "        if self._largo != 0:\n",
    "            nodo = Nodo(dato)\n",
    "            nodo_anterior = self._ultimo\n",
    "            nodo_anterior._siguiente = nodo\n",
    "            self._ultimo = nodo\n",
    "            self._largo += 1\n",
    "        else:\n",
    "            self.insertar_al_principio(dato)\n",
    "\n",
    "    @property\n",
    "    def primero(self):\n",
    "        return self._primero.dato\n",
    "\n",
    "    def borrar_primero(self):\n",
    "        dato = self.primero.dato\n",
    "        self._primero = self.primero.siguiente\n",
    "        self._largo -= 1\n",
    "        if self._largo == 0:\n",
    "            self._ultimo = None\n",
    "        return dato\n",
    "\n",
    "    def __str__(self):\n",
    "        datos = []\n",
    "        nodo_actual = self._primero\n",
    "        while nodo_actual:\n",
    "            datos.append(nodo_actual.dato)\n",
    "            nodo_actual = nodo_actual.proximo\n",
    "        return \" -> \".join(datos)\n",
    "\n",
    "    def __repr__(self):\n",
    "        return self.__str__()"
   ]
  },
  {
   "cell_type": "code",
   "execution_count": 99,
   "id": "b914f549",
   "metadata": {
    "execution": {
     "iopub.execute_input": "2021-04-13T03:39:11.098461Z",
     "iopub.status.busy": "2021-04-13T03:39:11.097568Z",
     "iopub.status.idle": "2021-04-13T03:39:11.101784Z",
     "shell.execute_reply": "2021-04-13T03:39:11.101151Z"
    },
    "slideshow": {
     "slide_type": "slide"
    }
   },
   "outputs": [
    {
     "data": {
      "text/plain": [
       "2"
      ]
     },
     "execution_count": 1,
     "metadata": {},
     "output_type": "execute_result"
    }
   ],
   "source": [
    "lista = ListaEnlazada()\n",
    "lista.insertar_al_principio(\"Primer Dato\")\n",
    "lista.insertar_al_principio(\"Primer primer Dato\")\n",
    "len(lista)"
   ]
  },
  {
   "cell_type": "code",
   "execution_count": 100,
   "id": "fb6397d8",
   "metadata": {
    "execution": {
     "iopub.execute_input": "2021-04-13T03:39:11.107195Z",
     "iopub.status.busy": "2021-04-13T03:39:11.106020Z",
     "iopub.status.idle": "2021-04-13T03:39:11.109890Z",
     "shell.execute_reply": "2021-04-13T03:39:11.110433Z"
    }
   },
   "outputs": [
    {
     "data": {
      "text/plain": [
       "Primer primer Dato -> Primer Dato"
      ]
     },
     "execution_count": 1,
     "metadata": {},
     "output_type": "execute_result"
    }
   ],
   "source": [
    "lista"
   ]
  },
  {
   "cell_type": "code",
   "execution_count": 101,
   "id": "7b31c8b5",
   "metadata": {
    "execution": {
     "iopub.execute_input": "2021-04-13T03:39:11.114480Z",
     "iopub.status.busy": "2021-04-13T03:39:11.113798Z",
     "iopub.status.idle": "2021-04-13T03:39:11.120677Z",
     "shell.execute_reply": "2021-04-13T03:39:11.120046Z"
    },
    "slideshow": {
     "slide_type": "slide"
    }
   },
   "outputs": [
    {
     "name": "stdout",
     "output_type": "stream",
     "text": [
      "Primer primer Dato\n"
     ]
    }
   ],
   "source": [
    "elemento = lista.primero\n",
    "print(elemento)"
   ]
  },
  {
   "cell_type": "markdown",
   "id": "b6c44987",
   "metadata": {},
   "source": [
    "## Recursos\n",
    "\n",
    "* [Taller de Python de Algoritmos II](https://github.com/algoritmos-rw/algo2_apuntes)\n",
    "\n",
    "* [Documentación de Python 3](https://docs.python.org/3/tutorial/)\n",
    "\n",
    "* [Apunte de Algoritmos y Programación I](https://algoritmos1rw.ddns.net/material)\n",
    "\n",
    "* [Automate the Boring Stuff with Python](http://automatetheboringstuff.com/)\n",
    "\n",
    "* [Curso Python](https://pythoncurso.github.io)\n",
    "\n",
    "* [Python Tutor](http://pythontutor.com/)\n",
    "\n",
    "* [Learn Python3 in Y minutes](https://learnxinyminutes.com/docs/python3/)\n",
    "\n",
    "* [Bibliografía de Algoritmos y Programación I](https://algoritmos1rw.ddns.net/bibliografia)"
   ]
  }
 ],
 "metadata": {
  "jupytext": {
   "encoding": "# -*- coding: utf-8 -*-",
   "formats": "ipynb,py:light"
  },
  "kernelspec": {
   "display_name": "Python 3 (venv)",
   "language": "python",
   "name": "python3"
  },
  "language_info": {
   "codemirror_mode": {
    "name": "ipython",
    "version": 3
   },
   "file_extension": ".py",
   "mimetype": "text/x-python",
   "name": "python",
   "nbconvert_exporter": "python",
   "pygments_lexer": "ipython3",
   "version": "3.7.10"
  }
 },
 "nbformat": 4,
 "nbformat_minor": 5
}
