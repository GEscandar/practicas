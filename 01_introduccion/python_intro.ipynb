{
 "cells": [
  {
   "cell_type": "markdown",
   "id": "egyptian-letter",
   "metadata": {},
   "source": [
    "# Python"
   ]
  },
  {
   "cell_type": "markdown",
   "id": "abstract-senior",
   "metadata": {
    "slideshow": {
     "slide_type": "slide"
    }
   },
   "source": [
    "## Un poco de Historia"
   ]
  },
  {
   "cell_type": "markdown",
   "id": "soviet-extent",
   "metadata": {
    "slideshow": {
     "slide_type": "subslide"
    }
   },
   "source": [
    "Python fue creado a finales de los años 80 por un programador holandés llamado **Guido van Rossum**,\n",
    "quien sigue siendo aún hoy el líder del desarrollo del lenguaje.\n",
    "\n",
    "(Edit julio 2018: [ya no más](https://www.mail-archive.com/python-committers@python.org/msg05628.html))"
   ]
  },
  {
   "cell_type": "markdown",
   "id": "danish-detection",
   "metadata": {
    "slideshow": {
     "slide_type": "subslide"
    }
   },
   "source": [
    "El nombre del lenguaje proviene de los humoristas británicos Monty Python.\n",
    "\n",
    ">*\"I chose Python as a working title for the project, being in a slightly irreverent mood (and a big fan of Monty Python's Flying Circus).\"*"
   ]
  },
  {
   "cell_type": "markdown",
   "id": "final-tolerance",
   "metadata": {
    "slideshow": {
     "slide_type": "slide"
    }
   },
   "source": [
    "## Caracteristicas\n",
    "\n",
    "- Interpretado\n",
    "- Tipado dinamico\n",
    "- Multiparadigma\n",
    "- Alto nivel\n",
    "- Tiene un recolector de basura (no hay malloc, free, realloc, etc)"
   ]
  },
  {
   "cell_type": "markdown",
   "id": "naval-contrast",
   "metadata": {},
   "source": [
    "## ¿Cómo empezar?\n",
    "\n",
    "* Al ser un lenguaje *interpretado*, se puede ir escribiendo a medida que se ejecuta, sin necesidad de compilar de antemano! Solamente hace falta escribir `python` o `python3` en una terminal para empezar\n",
    "\n",
    "* También, permite escribir archivos y correrlos. Crear un archivo con extensión `.py` y luego correr `python miarchivo.py` en laterminal"
   ]
  },
  {
   "cell_type": "markdown",
   "id": "unknown-project",
   "metadata": {
    "slideshow": {
     "slide_type": "slide"
    }
   },
   "source": [
    "## El Zen de Python"
   ]
  },
  {
   "cell_type": "code",
   "execution_count": 1,
   "id": "human-think",
   "metadata": {
    "execution": {
     "iopub.execute_input": "2021-02-03T23:03:25.317252Z",
     "iopub.status.busy": "2021-02-03T23:03:25.316768Z",
     "iopub.status.idle": "2021-02-03T23:03:25.337512Z",
     "shell.execute_reply": "2021-02-03T23:03:25.337041Z"
    },
    "slideshow": {
     "slide_type": "slide"
    }
   },
   "outputs": [
    {
     "name": "stdout",
     "output_type": "stream",
     "text": [
      "The Zen of Python, by Tim Peters\n",
      "\n",
      "Beautiful is better than ugly.\n",
      "Explicit is better than implicit.\n",
      "Simple is better than complex.\n",
      "Complex is better than complicated.\n",
      "Flat is better than nested.\n",
      "Sparse is better than dense.\n",
      "Readability counts.\n",
      "Special cases aren't special enough to break the rules.\n",
      "Although practicality beats purity.\n",
      "Errors should never pass silently.\n",
      "Unless explicitly silenced.\n",
      "In the face of ambiguity, refuse the temptation to guess.\n",
      "There should be one-- and preferably only one --obvious way to do it.\n",
      "Although that way may not be obvious at first unless you're Dutch.\n",
      "Now is better than never.\n",
      "Although never is often better than *right* now.\n",
      "If the implementation is hard to explain, it's a bad idea.\n",
      "If the implementation is easy to explain, it may be a good idea.\n",
      "Namespaces are one honking great idea -- let's do more of those!\n"
     ]
    }
   ],
   "source": [
    "import this"
   ]
  },
  {
   "cell_type": "markdown",
   "id": "working-tracker",
   "metadata": {
    "slideshow": {
     "slide_type": "slide"
    }
   },
   "source": [
    "## Conocimientos Básicos de Python: Variables y Tipos"
   ]
  },
  {
   "cell_type": "code",
   "execution_count": 2,
   "id": "together-median",
   "metadata": {
    "execution": {
     "iopub.execute_input": "2021-02-03T23:03:25.341922Z",
     "iopub.status.busy": "2021-02-03T23:03:25.340878Z",
     "iopub.status.idle": "2021-02-03T23:03:25.343521Z",
     "shell.execute_reply": "2021-02-03T23:03:25.343105Z"
    },
    "slideshow": {
     "slide_type": "slide"
    }
   },
   "outputs": [
    {
     "name": "stdout",
     "output_type": "stream",
     "text": [
      "Hello World!\n"
     ]
    }
   ],
   "source": [
    "# Este es un comentario\n",
    "\n",
    "print(\"Hello World!\")"
   ]
  },
  {
   "cell_type": "markdown",
   "id": "abandoned-malaysia",
   "metadata": {},
   "source": [
    "Los strings en python puden escribirse tanto con comillas simples (`'`) como comillas dobles (`\"`). Normalmente vemos texto entre comillas triples para escribir _docstrings_, segun la guia de estilo de Python, el PEP8."
   ]
  },
  {
   "cell_type": "code",
   "execution_count": 3,
   "id": "returning-dryer",
   "metadata": {
    "execution": {
     "iopub.execute_input": "2021-02-03T23:03:25.352352Z",
     "iopub.status.busy": "2021-02-03T23:03:25.350668Z",
     "iopub.status.idle": "2021-02-03T23:03:25.354329Z",
     "shell.execute_reply": "2021-02-03T23:03:25.354721Z"
    }
   },
   "outputs": [
    {
     "data": {
      "text/plain": [
       "'Esto es un docstring.\\n'"
      ]
     },
     "execution_count": 1,
     "metadata": {},
     "output_type": "execute_result"
    }
   ],
   "source": [
    "\"\"\"Esto es un docstring.\n",
    "\"\"\""
   ]
  },
  {
   "cell_type": "markdown",
   "id": "south-recovery",
   "metadata": {},
   "source": [
    "### Declaracion de variables"
   ]
  },
  {
   "cell_type": "code",
   "execution_count": 4,
   "id": "connected-black",
   "metadata": {
    "execution": {
     "iopub.execute_input": "2021-02-03T23:03:25.359176Z",
     "iopub.status.busy": "2021-02-03T23:03:25.357962Z",
     "iopub.status.idle": "2021-02-03T23:03:25.360742Z",
     "shell.execute_reply": "2021-02-03T23:03:25.360301Z"
    }
   },
   "outputs": [
    {
     "name": "stdout",
     "output_type": "stream",
     "text": [
      "Hola\n"
     ]
    }
   ],
   "source": [
    "string = 'Hola'\n",
    "print(string)"
   ]
  },
  {
   "cell_type": "code",
   "execution_count": 5,
   "id": "higher-davis",
   "metadata": {
    "execution": {
     "iopub.execute_input": "2021-02-03T23:03:25.364801Z",
     "iopub.status.busy": "2021-02-03T23:03:25.363787Z",
     "iopub.status.idle": "2021-02-03T23:03:25.366448Z",
     "shell.execute_reply": "2021-02-03T23:03:25.366032Z"
    }
   },
   "outputs": [
    {
     "name": "stdout",
     "output_type": "stream",
     "text": [
      "1\n"
     ]
    }
   ],
   "source": [
    "entero = 1\n",
    "print(entero)"
   ]
  },
  {
   "cell_type": "code",
   "execution_count": 6,
   "id": "preceding-emission",
   "metadata": {
    "execution": {
     "iopub.execute_input": "2021-02-03T23:03:25.370596Z",
     "iopub.status.busy": "2021-02-03T23:03:25.369599Z",
     "iopub.status.idle": "2021-02-03T23:03:25.372274Z",
     "shell.execute_reply": "2021-02-03T23:03:25.371851Z"
    }
   },
   "outputs": [
    {
     "name": "stdout",
     "output_type": "stream",
     "text": [
      "1.0\n"
     ]
    }
   ],
   "source": [
    "flotante = 1.0\n",
    "print(flotante)"
   ]
  },
  {
   "cell_type": "code",
   "execution_count": 7,
   "id": "choice-treasure",
   "metadata": {
    "execution": {
     "iopub.execute_input": "2021-02-03T23:03:25.375864Z",
     "iopub.status.busy": "2021-02-03T23:03:25.375392Z",
     "iopub.status.idle": "2021-02-03T23:03:25.377244Z",
     "shell.execute_reply": "2021-02-03T23:03:25.377629Z"
    }
   },
   "outputs": [
    {
     "name": "stdout",
     "output_type": "stream",
     "text": [
      "(1, 1.0)\n"
     ]
    }
   ],
   "source": [
    "tupla = (entero, flotante)\n",
    "print(tupla)"
   ]
  },
  {
   "cell_type": "code",
   "execution_count": 8,
   "id": "through-indiana",
   "metadata": {
    "execution": {
     "iopub.execute_input": "2021-02-03T23:03:25.380954Z",
     "iopub.status.busy": "2021-02-03T23:03:25.380470Z",
     "iopub.status.idle": "2021-02-03T23:03:25.382074Z",
     "shell.execute_reply": "2021-02-03T23:03:25.382534Z"
    }
   },
   "outputs": [
    {
     "name": "stdout",
     "output_type": "stream",
     "text": [
      "(1, 1.0, 'Hola')\n"
     ]
    }
   ],
   "source": [
    "nupla = (entero, flotante, string)\n",
    "print(nupla)"
   ]
  },
  {
   "cell_type": "code",
   "execution_count": 9,
   "id": "royal-albany",
   "metadata": {
    "execution": {
     "iopub.execute_input": "2021-02-03T23:03:25.385708Z",
     "iopub.status.busy": "2021-02-03T23:03:25.385233Z",
     "iopub.status.idle": "2021-02-03T23:03:25.386995Z",
     "shell.execute_reply": "2021-02-03T23:03:25.387363Z"
    }
   },
   "outputs": [
    {
     "name": "stdout",
     "output_type": "stream",
     "text": [
      "[1, 1.0, 'Hola']\n"
     ]
    }
   ],
   "source": [
    "lista = [entero, flotante, string]\n",
    "print(lista)"
   ]
  },
  {
   "cell_type": "code",
   "execution_count": 10,
   "id": "acquired-nightmare",
   "metadata": {
    "execution": {
     "iopub.execute_input": "2021-02-03T23:03:25.390820Z",
     "iopub.status.busy": "2021-02-03T23:03:25.390350Z",
     "iopub.status.idle": "2021-02-03T23:03:25.392103Z",
     "shell.execute_reply": "2021-02-03T23:03:25.392487Z"
    }
   },
   "outputs": [
    {
     "name": "stdout",
     "output_type": "stream",
     "text": [
      "{'1': (1, 1.0), 50: (1, 1.0, 'Hola'), '3': 1}\n"
     ]
    }
   ],
   "source": [
    "diccionario = {'1': tupla, 50: nupla, '3': entero}\n",
    "print(diccionario)"
   ]
  },
  {
   "cell_type": "code",
   "execution_count": 11,
   "id": "likely-fifth",
   "metadata": {
    "execution": {
     "iopub.execute_input": "2021-02-03T23:03:25.395819Z",
     "iopub.status.busy": "2021-02-03T23:03:25.395348Z",
     "iopub.status.idle": "2021-02-03T23:03:25.396985Z",
     "shell.execute_reply": "2021-02-03T23:03:25.397454Z"
    }
   },
   "outputs": [
    {
     "name": "stdout",
     "output_type": "stream",
     "text": [
      "{1, 2}\n"
     ]
    }
   ],
   "source": [
    "conjunto = set([1, 2])\n",
    "print(conjunto)"
   ]
  },
  {
   "cell_type": "code",
   "execution_count": 12,
   "id": "necessary-princeton",
   "metadata": {
    "execution": {
     "iopub.execute_input": "2021-02-03T23:03:25.400574Z",
     "iopub.status.busy": "2021-02-03T23:03:25.400079Z",
     "iopub.status.idle": "2021-02-03T23:03:25.401695Z",
     "shell.execute_reply": "2021-02-03T23:03:25.402154Z"
    }
   },
   "outputs": [
    {
     "name": "stdout",
     "output_type": "stream",
     "text": [
      "True\n"
     ]
    }
   ],
   "source": [
    "booleano = True\n",
    "print(booleano)"
   ]
  },
  {
   "cell_type": "code",
   "execution_count": 13,
   "id": "bound-impression",
   "metadata": {
    "execution": {
     "iopub.execute_input": "2021-02-03T23:03:25.405267Z",
     "iopub.status.busy": "2021-02-03T23:03:25.404800Z",
     "iopub.status.idle": "2021-02-03T23:03:25.406401Z",
     "shell.execute_reply": "2021-02-03T23:03:25.406858Z"
    }
   },
   "outputs": [
    {
     "name": "stdout",
     "output_type": "stream",
     "text": [
      "None\n"
     ]
    }
   ],
   "source": [
    "nada = None\n",
    "print(nada)"
   ]
  },
  {
   "cell_type": "markdown",
   "id": "spiritual-missouri",
   "metadata": {},
   "source": [
    "Ojo que las variables pueden cambiar de tipo!"
   ]
  },
  {
   "cell_type": "code",
   "execution_count": 14,
   "id": "everyday-greeting",
   "metadata": {
    "execution": {
     "iopub.execute_input": "2021-02-03T23:03:25.410956Z",
     "iopub.status.busy": "2021-02-03T23:03:25.410473Z",
     "iopub.status.idle": "2021-02-03T23:03:25.412647Z",
     "shell.execute_reply": "2021-02-03T23:03:25.412131Z"
    }
   },
   "outputs": [
    {
     "name": "stdout",
     "output_type": "stream",
     "text": [
      "1\n",
      "<class 'int'>\n"
     ]
    }
   ],
   "source": [
    "elemento = 1\n",
    "print(elemento)\n",
    "print(type(elemento))"
   ]
  },
  {
   "cell_type": "code",
   "execution_count": 15,
   "id": "false-calendar",
   "metadata": {
    "execution": {
     "iopub.execute_input": "2021-02-03T23:03:25.415939Z",
     "iopub.status.busy": "2021-02-03T23:03:25.415466Z",
     "iopub.status.idle": "2021-02-03T23:03:25.417556Z",
     "shell.execute_reply": "2021-02-03T23:03:25.417067Z"
    }
   },
   "outputs": [
    {
     "name": "stdout",
     "output_type": "stream",
     "text": [
      "1\n",
      "<class 'str'>\n"
     ]
    }
   ],
   "source": [
    "elemento = str(1)\n",
    "print(elemento)\n",
    "print(type(elemento))"
   ]
  },
  {
   "cell_type": "code",
   "execution_count": 16,
   "id": "amateur-gallery",
   "metadata": {
    "execution": {
     "iopub.execute_input": "2021-02-03T23:03:25.420961Z",
     "iopub.status.busy": "2021-02-03T23:03:25.420485Z",
     "iopub.status.idle": "2021-02-03T23:03:25.422584Z",
     "shell.execute_reply": "2021-02-03T23:03:25.422102Z"
    }
   },
   "outputs": [
    {
     "name": "stdout",
     "output_type": "stream",
     "text": [
      "[2]\n",
      "<class 'list'>\n"
     ]
    }
   ],
   "source": [
    "elemento = [2]\n",
    "\n",
    "print(elemento)\n",
    "print(type(elemento))"
   ]
  },
  {
   "cell_type": "markdown",
   "id": "numeric-rebound",
   "metadata": {},
   "source": [
    "### Tipos basicos"
   ]
  },
  {
   "cell_type": "markdown",
   "id": "lyric-horse",
   "metadata": {
    "slideshow": {
     "slide_type": "slide"
    }
   },
   "source": [
    "#### Listas de Python"
   ]
  },
  {
   "cell_type": "code",
   "execution_count": 17,
   "id": "hired-saver",
   "metadata": {
    "execution": {
     "iopub.execute_input": "2021-02-03T23:03:25.426242Z",
     "iopub.status.busy": "2021-02-03T23:03:25.425763Z",
     "iopub.status.idle": "2021-02-03T23:03:25.428548Z",
     "shell.execute_reply": "2021-02-03T23:03:25.428122Z"
    }
   },
   "outputs": [
    {
     "data": {
      "text/plain": [
       "[]"
      ]
     },
     "execution_count": 1,
     "metadata": {},
     "output_type": "execute_result"
    }
   ],
   "source": [
    "lista = list()\n",
    "lista"
   ]
  },
  {
   "cell_type": "code",
   "execution_count": 18,
   "id": "intended-measurement",
   "metadata": {
    "execution": {
     "iopub.execute_input": "2021-02-03T23:03:25.431990Z",
     "iopub.status.busy": "2021-02-03T23:03:25.431424Z",
     "iopub.status.idle": "2021-02-03T23:03:25.433583Z",
     "shell.execute_reply": "2021-02-03T23:03:25.433949Z"
    },
    "slideshow": {
     "slide_type": "slide"
    }
   },
   "outputs": [
    {
     "data": {
      "text/plain": [
       "[]"
      ]
     },
     "execution_count": 1,
     "metadata": {},
     "output_type": "execute_result"
    }
   ],
   "source": [
    "lista = []\n",
    "lista"
   ]
  },
  {
   "cell_type": "code",
   "execution_count": 19,
   "id": "approximate-carol",
   "metadata": {
    "execution": {
     "iopub.execute_input": "2021-02-03T23:03:25.437437Z",
     "iopub.status.busy": "2021-02-03T23:03:25.436965Z",
     "iopub.status.idle": "2021-02-03T23:03:25.439758Z",
     "shell.execute_reply": "2021-02-03T23:03:25.439340Z"
    },
    "slideshow": {
     "slide_type": "slide"
    }
   },
   "outputs": [
    {
     "data": {
      "text/plain": [
       "[1, 2, 3, 4]"
      ]
     },
     "execution_count": 1,
     "metadata": {},
     "output_type": "execute_result"
    }
   ],
   "source": [
    "lista = [1, 2, 3, 4]\n",
    "lista"
   ]
  },
  {
   "cell_type": "code",
   "execution_count": 20,
   "id": "modified-veteran",
   "metadata": {
    "execution": {
     "iopub.execute_input": "2021-02-03T23:03:25.443318Z",
     "iopub.status.busy": "2021-02-03T23:03:25.442847Z",
     "iopub.status.idle": "2021-02-03T23:03:25.445477Z",
     "shell.execute_reply": "2021-02-03T23:03:25.445059Z"
    },
    "slideshow": {
     "slide_type": "slide"
    }
   },
   "outputs": [
    {
     "data": {
      "text/plain": [
       "[1, 2, 3, 4, 1, 'dos', 3.0]"
      ]
     },
     "execution_count": 1,
     "metadata": {},
     "output_type": "execute_result"
    }
   ],
   "source": [
    "lista.append(1)  # Inserto un 1 al final\n",
    "lista.append(\"dos\")  # Inserto un \"dos\" al final\n",
    "lista.append(3.0)  # Inserto un 3.0 al final\n",
    "lista"
   ]
  },
  {
   "cell_type": "code",
   "execution_count": 21,
   "id": "insured-music",
   "metadata": {
    "execution": {
     "iopub.execute_input": "2021-02-03T23:03:25.448668Z",
     "iopub.status.busy": "2021-02-03T23:03:25.448166Z",
     "iopub.status.idle": "2021-02-03T23:03:25.451610Z",
     "shell.execute_reply": "2021-02-03T23:03:25.451186Z"
    }
   },
   "outputs": [
    {
     "name": "stdout",
     "output_type": "stream",
     "text": [
      "[1, 2, 10, 3, 4, 1, 'dos', 3.0]\n"
     ]
    }
   ],
   "source": [
    "lista.insert(2, 10)  # Inserto en posicion 2 un 10\n",
    "print(lista)"
   ]
  },
  {
   "cell_type": "code",
   "execution_count": 22,
   "id": "fifth-exercise",
   "metadata": {
    "execution": {
     "iopub.execute_input": "2021-02-03T23:03:25.454794Z",
     "iopub.status.busy": "2021-02-03T23:03:25.454327Z",
     "iopub.status.idle": "2021-02-03T23:03:25.457358Z",
     "shell.execute_reply": "2021-02-03T23:03:25.456940Z"
    }
   },
   "outputs": [
    {
     "data": {
      "text/plain": [
       "8"
      ]
     },
     "execution_count": 1,
     "metadata": {},
     "output_type": "execute_result"
    }
   ],
   "source": [
    "len(lista)"
   ]
  },
  {
   "cell_type": "code",
   "execution_count": 23,
   "id": "knowing-knight",
   "metadata": {
    "execution": {
     "iopub.execute_input": "2021-02-03T23:03:25.460458Z",
     "iopub.status.busy": "2021-02-03T23:03:25.459971Z",
     "iopub.status.idle": "2021-02-03T23:03:25.462631Z",
     "shell.execute_reply": "2021-02-03T23:03:25.462213Z"
    }
   },
   "outputs": [
    {
     "data": {
      "text/plain": [
       "3.0"
      ]
     },
     "execution_count": 1,
     "metadata": {},
     "output_type": "execute_result"
    }
   ],
   "source": [
    "lista.pop()"
   ]
  },
  {
   "cell_type": "code",
   "execution_count": 24,
   "id": "united-shakespeare",
   "metadata": {
    "execution": {
     "iopub.execute_input": "2021-02-03T23:03:25.465779Z",
     "iopub.status.busy": "2021-02-03T23:03:25.465306Z",
     "iopub.status.idle": "2021-02-03T23:03:25.467955Z",
     "shell.execute_reply": "2021-02-03T23:03:25.467537Z"
    }
   },
   "outputs": [
    {
     "data": {
      "text/plain": [
       "[1, 2, 10, 3, 4, 1, 'dos']"
      ]
     },
     "execution_count": 1,
     "metadata": {},
     "output_type": "execute_result"
    }
   ],
   "source": [
    "lista"
   ]
  },
  {
   "cell_type": "code",
   "execution_count": 25,
   "id": "protecting-norman",
   "metadata": {
    "execution": {
     "iopub.execute_input": "2021-02-03T23:03:25.471301Z",
     "iopub.status.busy": "2021-02-03T23:03:25.470594Z",
     "iopub.status.idle": "2021-02-03T23:03:25.472595Z",
     "shell.execute_reply": "2021-02-03T23:03:25.473117Z"
    }
   },
   "outputs": [
    {
     "data": {
      "text/plain": [
       "2"
      ]
     },
     "execution_count": 1,
     "metadata": {},
     "output_type": "execute_result"
    }
   ],
   "source": [
    "lista.index(10)"
   ]
  },
  {
   "cell_type": "code",
   "execution_count": 26,
   "id": "sticky-session",
   "metadata": {
    "execution": {
     "iopub.execute_input": "2021-02-03T23:03:25.476281Z",
     "iopub.status.busy": "2021-02-03T23:03:25.475812Z",
     "iopub.status.idle": "2021-02-03T23:03:25.478482Z",
     "shell.execute_reply": "2021-02-03T23:03:25.478063Z"
    }
   },
   "outputs": [
    {
     "data": {
      "text/plain": [
       "[1, 2, 3, 4, 1, 'dos']"
      ]
     },
     "execution_count": 1,
     "metadata": {},
     "output_type": "execute_result"
    }
   ],
   "source": [
    "lista.remove(10)\n",
    "lista"
   ]
  },
  {
   "cell_type": "code",
   "execution_count": 27,
   "id": "primary-marks",
   "metadata": {
    "execution": {
     "iopub.execute_input": "2021-02-03T23:03:25.481974Z",
     "iopub.status.busy": "2021-02-03T23:03:25.481242Z",
     "iopub.status.idle": "2021-02-03T23:03:25.530619Z",
     "shell.execute_reply": "2021-02-03T23:03:25.530192Z"
    },
    "tags": [
     "raises-exception"
    ]
   },
   "outputs": [
    {
     "name": "stdout",
     "output_type": "stream",
     "text": [
      "1\n",
      "2\n",
      "2\n",
      "3\n",
      "3\n",
      "4\n",
      "4\n",
      "5\n",
      "1\n",
      "2\n",
      "dos\n"
     ]
    },
    {
     "ename": "TypeError",
     "evalue": "can only concatenate str (not \"int\") to str",
     "output_type": "error",
     "traceback": [
      "\u001b[0;31m---------------------------------------------------------------------------\u001b[0m",
      "\u001b[0;31mTypeError\u001b[0m                                 Traceback (most recent call last)",
      "\u001b[0;32m<ipython-input-1-41b56d5cf080>\u001b[0m in \u001b[0;36m<module>\u001b[0;34m\u001b[0m\n\u001b[1;32m      1\u001b[0m \u001b[0;32mfor\u001b[0m \u001b[0melemento\u001b[0m \u001b[0;32min\u001b[0m \u001b[0mlista\u001b[0m\u001b[0;34m:\u001b[0m\u001b[0;34m\u001b[0m\u001b[0;34m\u001b[0m\u001b[0m\n\u001b[1;32m      2\u001b[0m     \u001b[0mprint\u001b[0m\u001b[0;34m(\u001b[0m\u001b[0melemento\u001b[0m\u001b[0;34m)\u001b[0m\u001b[0;34m\u001b[0m\u001b[0;34m\u001b[0m\u001b[0m\n\u001b[0;32m----> 3\u001b[0;31m     \u001b[0mprint\u001b[0m\u001b[0;34m(\u001b[0m\u001b[0melemento\u001b[0m \u001b[0;34m+\u001b[0m \u001b[0;36m1\u001b[0m\u001b[0;34m)\u001b[0m\u001b[0;34m\u001b[0m\u001b[0;34m\u001b[0m\u001b[0m\n\u001b[0m",
      "\u001b[0;31mTypeError\u001b[0m: can only concatenate str (not \"int\") to str"
     ]
    }
   ],
   "source": [
    "for elemento in lista:\n",
    "    print(elemento)\n",
    "    print(elemento + 1)"
   ]
  },
  {
   "cell_type": "code",
   "execution_count": 28,
   "id": "jewish-martin",
   "metadata": {
    "execution": {
     "iopub.execute_input": "2021-02-03T23:03:25.634011Z",
     "iopub.status.busy": "2021-02-03T23:03:25.633472Z",
     "iopub.status.idle": "2021-02-03T23:03:25.637431Z",
     "shell.execute_reply": "2021-02-03T23:03:25.637808Z"
    }
   },
   "outputs": [
    {
     "data": {
      "text/plain": [
       "[1, 2, 3, 4, 1, 'dos']"
      ]
     },
     "execution_count": 1,
     "metadata": {},
     "output_type": "execute_result"
    }
   ],
   "source": [
    "lista"
   ]
  },
  {
   "cell_type": "code",
   "execution_count": 29,
   "id": "altered-transport",
   "metadata": {
    "execution": {
     "iopub.execute_input": "2021-02-03T23:03:25.643366Z",
     "iopub.status.busy": "2021-02-03T23:03:25.642119Z",
     "iopub.status.idle": "2021-02-03T23:03:25.645185Z",
     "shell.execute_reply": "2021-02-03T23:03:25.644767Z"
    }
   },
   "outputs": [
    {
     "name": "stdout",
     "output_type": "stream",
     "text": [
      "0-ésimo elemento: 1\n",
      "1-ésimo elemento: 2\n",
      "2-ésimo elemento: 3\n",
      "3-ésimo elemento: 4\n",
      "4-ésimo elemento: 1\n",
      "5-ésimo elemento: dos\n"
     ]
    }
   ],
   "source": [
    "for i, elemento in enumerate(lista):\n",
    "    print(f\"{i}-ésimo elemento: {elemento}\")"
   ]
  },
  {
   "cell_type": "code",
   "execution_count": 30,
   "id": "upper-aerospace",
   "metadata": {
    "execution": {
     "iopub.execute_input": "2021-02-03T23:03:25.651219Z",
     "iopub.status.busy": "2021-02-03T23:03:25.649526Z",
     "iopub.status.idle": "2021-02-03T23:03:25.653508Z",
     "shell.execute_reply": "2021-02-03T23:03:25.652985Z"
    },
    "tags": [
     "raises-exception"
    ]
   },
   "outputs": [
    {
     "ename": "TypeError",
     "evalue": "'<' not supported between instances of 'str' and 'int'",
     "output_type": "error",
     "traceback": [
      "\u001b[0;31m---------------------------------------------------------------------------\u001b[0m",
      "\u001b[0;31mTypeError\u001b[0m                                 Traceback (most recent call last)",
      "\u001b[0;32m<ipython-input-1-06c3f264dc7a>\u001b[0m in \u001b[0;36m<module>\u001b[0;34m\u001b[0m\n\u001b[0;32m----> 1\u001b[0;31m \u001b[0msorted\u001b[0m\u001b[0;34m(\u001b[0m\u001b[0mlista\u001b[0m\u001b[0;34m)\u001b[0m\u001b[0;34m\u001b[0m\u001b[0;34m\u001b[0m\u001b[0m\n\u001b[0m",
      "\u001b[0;31mTypeError\u001b[0m: '<' not supported between instances of 'str' and 'int'"
     ]
    }
   ],
   "source": [
    "sorted(lista)"
   ]
  },
  {
   "cell_type": "code",
   "execution_count": 31,
   "id": "tracked-stress",
   "metadata": {
    "execution": {
     "iopub.execute_input": "2021-02-03T23:03:25.756927Z",
     "iopub.status.busy": "2021-02-03T23:03:25.756292Z",
     "iopub.status.idle": "2021-02-03T23:03:25.758730Z",
     "shell.execute_reply": "2021-02-03T23:03:25.758244Z"
    }
   },
   "outputs": [],
   "source": [
    "lista.remove(\"dos\")"
   ]
  },
  {
   "cell_type": "code",
   "execution_count": 32,
   "id": "arabic-hands",
   "metadata": {
    "execution": {
     "iopub.execute_input": "2021-02-03T23:03:25.763739Z",
     "iopub.status.busy": "2021-02-03T23:03:25.763233Z",
     "iopub.status.idle": "2021-02-03T23:03:25.765774Z",
     "shell.execute_reply": "2021-02-03T23:03:25.766167Z"
    }
   },
   "outputs": [
    {
     "data": {
      "text/plain": [
       "[1, 1, 2, 3, 4]"
      ]
     },
     "execution_count": 1,
     "metadata": {},
     "output_type": "execute_result"
    }
   ],
   "source": [
    "sorted(lista)"
   ]
  },
  {
   "cell_type": "code",
   "execution_count": 33,
   "id": "middle-spirituality",
   "metadata": {
    "execution": {
     "iopub.execute_input": "2021-02-03T23:03:25.770226Z",
     "iopub.status.busy": "2021-02-03T23:03:25.769710Z",
     "iopub.status.idle": "2021-02-03T23:03:25.772225Z",
     "shell.execute_reply": "2021-02-03T23:03:25.772638Z"
    }
   },
   "outputs": [
    {
     "data": {
      "text/plain": [
       "[1, 1, 2, 3, 4]"
      ]
     },
     "execution_count": 1,
     "metadata": {},
     "output_type": "execute_result"
    }
   ],
   "source": [
    "lista.sort()\n",
    "lista"
   ]
  },
  {
   "cell_type": "markdown",
   "id": "opponent-source",
   "metadata": {
    "slideshow": {
     "slide_type": "slide"
    }
   },
   "source": [
    "#### Tuplas de Python\n",
    "\n",
    "Las tuplas son inmutables. No se pueden agregar elementos luego de creadas."
   ]
  },
  {
   "cell_type": "code",
   "execution_count": 34,
   "id": "theoretical-compensation",
   "metadata": {
    "execution": {
     "iopub.execute_input": "2021-02-03T23:03:25.779563Z",
     "iopub.status.busy": "2021-02-03T23:03:25.777265Z",
     "iopub.status.idle": "2021-02-03T23:03:25.781852Z",
     "shell.execute_reply": "2021-02-03T23:03:25.781421Z"
    },
    "slideshow": {
     "slide_type": "slide"
    },
    "tags": [
     "raises-exception"
    ]
   },
   "outputs": [
    {
     "name": "stdout",
     "output_type": "stream",
     "text": [
      "(1, 2)\n",
      "1\n",
      "2\n"
     ]
    },
    {
     "ename": "TypeError",
     "evalue": "'tuple' object does not support item assignment",
     "output_type": "error",
     "traceback": [
      "\u001b[0;31m---------------------------------------------------------------------------\u001b[0m",
      "\u001b[0;31mTypeError\u001b[0m                                 Traceback (most recent call last)",
      "\u001b[0;32m<ipython-input-1-80ca8b547dd6>\u001b[0m in \u001b[0;36m<module>\u001b[0;34m\u001b[0m\n\u001b[1;32m      5\u001b[0m \u001b[0mprint\u001b[0m\u001b[0;34m(\u001b[0m\u001b[0mtupla\u001b[0m\u001b[0;34m[\u001b[0m\u001b[0;36m1\u001b[0m\u001b[0;34m]\u001b[0m\u001b[0;34m)\u001b[0m\u001b[0;34m\u001b[0m\u001b[0;34m\u001b[0m\u001b[0m\n\u001b[1;32m      6\u001b[0m \u001b[0;34m\u001b[0m\u001b[0m\n\u001b[0;32m----> 7\u001b[0;31m \u001b[0mtupla\u001b[0m\u001b[0;34m[\u001b[0m\u001b[0;36m1\u001b[0m\u001b[0;34m]\u001b[0m \u001b[0;34m=\u001b[0m \u001b[0;36m3\u001b[0m  \u001b[0;31m# Falla. No se puede mutar\u001b[0m\u001b[0;34m\u001b[0m\u001b[0;34m\u001b[0m\u001b[0m\n\u001b[0m",
      "\u001b[0;31mTypeError\u001b[0m: 'tuple' object does not support item assignment"
     ]
    }
   ],
   "source": [
    "tupla = (1, 2)\n",
    "\n",
    "print(tupla)\n",
    "print(tupla[0])\n",
    "print(tupla[1])\n",
    "\n",
    "tupla[1] = 3  # Falla. No se puede mutar"
   ]
  },
  {
   "cell_type": "code",
   "execution_count": 35,
   "id": "behind-detroit",
   "metadata": {
    "execution": {
     "iopub.execute_input": "2021-02-03T23:03:25.886608Z",
     "iopub.status.busy": "2021-02-03T23:03:25.885284Z",
     "iopub.status.idle": "2021-02-03T23:03:25.888639Z",
     "shell.execute_reply": "2021-02-03T23:03:25.888128Z"
    }
   },
   "outputs": [
    {
     "data": {
      "text/plain": [
       "[1, 2]"
      ]
     },
     "execution_count": 1,
     "metadata": {},
     "output_type": "execute_result"
    }
   ],
   "source": [
    "l = [1, 2]\n",
    "l"
   ]
  },
  {
   "cell_type": "code",
   "execution_count": 36,
   "id": "settled-producer",
   "metadata": {
    "execution": {
     "iopub.execute_input": "2021-02-03T23:03:25.893769Z",
     "iopub.status.busy": "2021-02-03T23:03:25.892253Z",
     "iopub.status.idle": "2021-02-03T23:03:25.895665Z",
     "shell.execute_reply": "2021-02-03T23:03:25.895239Z"
    }
   },
   "outputs": [
    {
     "data": {
      "text/plain": [
       "[1, 3]"
      ]
     },
     "execution_count": 1,
     "metadata": {},
     "output_type": "execute_result"
    }
   ],
   "source": [
    "l[1] = 3\n",
    "l"
   ]
  },
  {
   "cell_type": "markdown",
   "id": "valuable-leadership",
   "metadata": {
    "slideshow": {
     "slide_type": "slide"
    }
   },
   "source": [
    "#### Diferencia entre lista y tupla\n",
    "Las listas se caracterizan por ser mutables, es decir, se puede cambiar su contenido en tiempo de ejecución, mientras que las tuplas son inmutables ya que no es posible modificar el contenido una vez creada."
   ]
  },
  {
   "cell_type": "markdown",
   "id": "sharing-subdivision",
   "metadata": {},
   "source": [
    "#### Slices\n",
    "\n",
    "**Valen para listas, tuplas o strings (_segmentos_)**"
   ]
  },
  {
   "cell_type": "code",
   "execution_count": 37,
   "id": "cellular-helena",
   "metadata": {
    "execution": {
     "iopub.execute_input": "2021-02-03T23:03:25.899264Z",
     "iopub.status.busy": "2021-02-03T23:03:25.898771Z",
     "iopub.status.idle": "2021-02-03T23:03:25.900718Z",
     "shell.execute_reply": "2021-02-03T23:03:25.900272Z"
    }
   },
   "outputs": [],
   "source": [
    "numeros = [0, 1, 2, 3, 4, 5, 6, 7, 8, 9, 10]"
   ]
  },
  {
   "cell_type": "code",
   "execution_count": 38,
   "id": "alive-problem",
   "metadata": {
    "execution": {
     "iopub.execute_input": "2021-02-03T23:03:25.904577Z",
     "iopub.status.busy": "2021-02-03T23:03:25.903849Z",
     "iopub.status.idle": "2021-02-03T23:03:25.905737Z",
     "shell.execute_reply": "2021-02-03T23:03:25.906123Z"
    }
   },
   "outputs": [
    {
     "name": "stdout",
     "output_type": "stream",
     "text": [
      "[0, 1, 2, 3, 4, 5, 6, 7, 8, 9, 10]\n"
     ]
    }
   ],
   "source": [
    "print(numeros)"
   ]
  },
  {
   "cell_type": "code",
   "execution_count": 39,
   "id": "gorgeous-vietnam",
   "metadata": {
    "execution": {
     "iopub.execute_input": "2021-02-03T23:03:25.909582Z",
     "iopub.status.busy": "2021-02-03T23:03:25.909097Z",
     "iopub.status.idle": "2021-02-03T23:03:25.910703Z",
     "shell.execute_reply": "2021-02-03T23:03:25.911089Z"
    }
   },
   "outputs": [
    {
     "name": "stdout",
     "output_type": "stream",
     "text": [
      "2\n"
     ]
    }
   ],
   "source": [
    "print(numeros[2])  # Imprimo elemento en la posición 2"
   ]
  },
  {
   "cell_type": "code",
   "execution_count": 40,
   "id": "single-couple",
   "metadata": {
    "execution": {
     "iopub.execute_input": "2021-02-03T23:03:25.914301Z",
     "iopub.status.busy": "2021-02-03T23:03:25.913829Z",
     "iopub.status.idle": "2021-02-03T23:03:25.916101Z",
     "shell.execute_reply": "2021-02-03T23:03:25.916490Z"
    }
   },
   "outputs": [
    {
     "data": {
      "text/plain": [
       "10"
      ]
     },
     "execution_count": 1,
     "metadata": {},
     "output_type": "execute_result"
    }
   ],
   "source": [
    "numeros[len(numeros) - 1]"
   ]
  },
  {
   "cell_type": "code",
   "execution_count": 41,
   "id": "published-compatibility",
   "metadata": {
    "execution": {
     "iopub.execute_input": "2021-02-03T23:03:25.919882Z",
     "iopub.status.busy": "2021-02-03T23:03:25.919405Z",
     "iopub.status.idle": "2021-02-03T23:03:25.921165Z",
     "shell.execute_reply": "2021-02-03T23:03:25.921556Z"
    },
    "lines_to_next_cell": 2
   },
   "outputs": [
    {
     "name": "stdout",
     "output_type": "stream",
     "text": [
      "10\n"
     ]
    }
   ],
   "source": [
    "print(numeros[-1])  # # Imprimo elemento en la última posición"
   ]
  },
  {
   "cell_type": "code",
   "execution_count": 42,
   "id": "white-petroleum",
   "metadata": {
    "execution": {
     "iopub.execute_input": "2021-02-03T23:03:25.925077Z",
     "iopub.status.busy": "2021-02-03T23:03:25.924600Z",
     "iopub.status.idle": "2021-02-03T23:03:25.926813Z",
     "shell.execute_reply": "2021-02-03T23:03:25.927207Z"
    },
    "lines_to_next_cell": 2
   },
   "outputs": [
    {
     "data": {
      "text/plain": [
       "9"
      ]
     },
     "execution_count": 1,
     "metadata": {},
     "output_type": "execute_result"
    }
   ],
   "source": [
    "numeros[-2]"
   ]
  },
  {
   "cell_type": "code",
   "execution_count": 43,
   "id": "progressive-gather",
   "metadata": {
    "execution": {
     "iopub.execute_input": "2021-02-03T23:03:25.930541Z",
     "iopub.status.busy": "2021-02-03T23:03:25.930060Z",
     "iopub.status.idle": "2021-02-03T23:03:25.931925Z",
     "shell.execute_reply": "2021-02-03T23:03:25.932316Z"
    }
   },
   "outputs": [
    {
     "name": "stdout",
     "output_type": "stream",
     "text": [
      "[0, 1, 2]\n"
     ]
    }
   ],
   "source": [
    "print(numeros[0:3])  # Imprimo de la pos 0 a la pos 2"
   ]
  },
  {
   "cell_type": "code",
   "execution_count": 44,
   "id": "arabic-kelly",
   "metadata": {
    "execution": {
     "iopub.execute_input": "2021-02-03T23:03:25.935614Z",
     "iopub.status.busy": "2021-02-03T23:03:25.935138Z",
     "iopub.status.idle": "2021-02-03T23:03:25.936781Z",
     "shell.execute_reply": "2021-02-03T23:03:25.937248Z"
    }
   },
   "outputs": [
    {
     "name": "stdout",
     "output_type": "stream",
     "text": [
      "[7, 8]\n"
     ]
    }
   ],
   "source": [
    "print(numeros[-4:-2])"
   ]
  },
  {
   "cell_type": "code",
   "execution_count": 45,
   "id": "light-intro",
   "metadata": {
    "execution": {
     "iopub.execute_input": "2021-02-03T23:03:25.940757Z",
     "iopub.status.busy": "2021-02-03T23:03:25.940266Z",
     "iopub.status.idle": "2021-02-03T23:03:25.941923Z",
     "shell.execute_reply": "2021-02-03T23:03:25.942310Z"
    }
   },
   "outputs": [
    {
     "name": "stdout",
     "output_type": "stream",
     "text": [
      "[0, 1, 2, 3, 4, 5, 6, 7, 8, 9, 10]\n"
     ]
    }
   ],
   "source": [
    "print(numeros[0:80])"
   ]
  },
  {
   "cell_type": "code",
   "execution_count": 46,
   "id": "helpful-suspension",
   "metadata": {
    "execution": {
     "iopub.execute_input": "2021-02-03T23:03:25.945546Z",
     "iopub.status.busy": "2021-02-03T23:03:25.945071Z",
     "iopub.status.idle": "2021-02-03T23:03:25.946776Z",
     "shell.execute_reply": "2021-02-03T23:03:25.947194Z"
    }
   },
   "outputs": [
    {
     "name": "stdout",
     "output_type": "stream",
     "text": [
      "[0, 1, 2]\n"
     ]
    }
   ],
   "source": [
    "print(numeros[:3])"
   ]
  },
  {
   "cell_type": "code",
   "execution_count": 47,
   "id": "physical-shadow",
   "metadata": {
    "execution": {
     "iopub.execute_input": "2021-02-03T23:03:25.950341Z",
     "iopub.status.busy": "2021-02-03T23:03:25.949865Z",
     "iopub.status.idle": "2021-02-03T23:03:25.951500Z",
     "shell.execute_reply": "2021-02-03T23:03:25.951970Z"
    }
   },
   "outputs": [
    {
     "name": "stdout",
     "output_type": "stream",
     "text": [
      "[3, 4, 5, 6, 7, 8, 9, 10]\n"
     ]
    }
   ],
   "source": [
    "print(numeros[3:])"
   ]
  },
  {
   "cell_type": "code",
   "execution_count": 48,
   "id": "breeding-madagascar",
   "metadata": {
    "execution": {
     "iopub.execute_input": "2021-02-03T23:03:25.955146Z",
     "iopub.status.busy": "2021-02-03T23:03:25.954668Z",
     "iopub.status.idle": "2021-02-03T23:03:25.961354Z",
     "shell.execute_reply": "2021-02-03T23:03:25.961749Z"
    }
   },
   "outputs": [
    {
     "name": "stdout",
     "output_type": "stream",
     "text": [
      "[0, 2, 4, 6, 8]\n"
     ]
    }
   ],
   "source": [
    "print(numeros[0:10:2])"
   ]
  },
  {
   "cell_type": "markdown",
   "id": "correct-scholarship",
   "metadata": {},
   "source": [
    "```python\n",
    "lista[<inicio>:<final>:<step>]\n",
    "```"
   ]
  },
  {
   "cell_type": "code",
   "execution_count": 49,
   "id": "indie-singer",
   "metadata": {
    "execution": {
     "iopub.execute_input": "2021-02-03T23:03:25.965254Z",
     "iopub.status.busy": "2021-02-03T23:03:25.964772Z",
     "iopub.status.idle": "2021-02-03T23:03:25.967753Z",
     "shell.execute_reply": "2021-02-03T23:03:25.967330Z"
    },
    "lines_to_next_cell": 2
   },
   "outputs": [
    {
     "data": {
      "text/plain": [
       "[1, 2, 3, 4]"
      ]
     },
     "execution_count": 1,
     "metadata": {},
     "output_type": "execute_result"
    }
   ],
   "source": [
    "l1 = [1, 2]\n",
    "l2 = [3, 4]\n",
    "l1 + l2"
   ]
  },
  {
   "cell_type": "code",
   "execution_count": 50,
   "id": "empty-olive",
   "metadata": {
    "execution": {
     "iopub.execute_input": "2021-02-03T23:03:25.970900Z",
     "iopub.status.busy": "2021-02-03T23:03:25.970425Z",
     "iopub.status.idle": "2021-02-03T23:03:25.972709Z",
     "shell.execute_reply": "2021-02-03T23:03:25.972198Z"
    }
   },
   "outputs": [
    {
     "name": "stdout",
     "output_type": "stream",
     "text": [
      "[0, 1, 2, 3, 4, 5, 6, 'siete', 8, 9, 10]\n"
     ]
    }
   ],
   "source": [
    "numeros[7] = 'siete'  # Las listas se pueden mutar\n",
    "print(numeros)"
   ]
  },
  {
   "cell_type": "code",
   "execution_count": 51,
   "id": "chubby-verification",
   "metadata": {
    "execution": {
     "iopub.execute_input": "2021-02-03T23:03:25.975943Z",
     "iopub.status.busy": "2021-02-03T23:03:25.975453Z",
     "iopub.status.idle": "2021-02-03T23:03:25.977505Z",
     "shell.execute_reply": "2021-02-03T23:03:25.977097Z"
    }
   },
   "outputs": [
    {
     "name": "stdout",
     "output_type": "stream",
     "text": [
      "[10, 9, 8, 'siete', 6, 5, 4, 3, 2, 1, 0]\n"
     ]
    }
   ],
   "source": [
    "numeros = numeros[::-1]\n",
    "print(numeros)"
   ]
  },
  {
   "cell_type": "code",
   "execution_count": 52,
   "id": "engaged-antique",
   "metadata": {
    "execution": {
     "iopub.execute_input": "2021-02-03T23:03:25.982496Z",
     "iopub.status.busy": "2021-02-03T23:03:25.981407Z",
     "iopub.status.idle": "2021-02-03T23:03:25.984982Z",
     "shell.execute_reply": "2021-02-03T23:03:25.984253Z"
    },
    "tags": [
     "raises-exception"
    ]
   },
   "outputs": [
    {
     "ename": "IndexError",
     "evalue": "list index out of range",
     "output_type": "error",
     "traceback": [
      "\u001b[0;31m---------------------------------------------------------------------------\u001b[0m",
      "\u001b[0;31mIndexError\u001b[0m                                Traceback (most recent call last)",
      "\u001b[0;32m<ipython-input-1-0ef91dd29a9b>\u001b[0m in \u001b[0;36m<module>\u001b[0;34m\u001b[0m\n\u001b[0;32m----> 1\u001b[0;31m \u001b[0mprint\u001b[0m\u001b[0;34m(\u001b[0m\u001b[0mnumeros\u001b[0m\u001b[0;34m[\u001b[0m\u001b[0;36m15\u001b[0m\u001b[0;34m]\u001b[0m\u001b[0;34m)\u001b[0m  \u001b[0;31m# Falla. No se puede acceder a una posición inexistente\u001b[0m\u001b[0;34m\u001b[0m\u001b[0;34m\u001b[0m\u001b[0m\n\u001b[0m",
      "\u001b[0;31mIndexError\u001b[0m: list index out of range"
     ]
    }
   ],
   "source": [
    "print(numeros[15])  # Falla. No se puede acceder a una posición inexistente"
   ]
  },
  {
   "cell_type": "code",
   "execution_count": 53,
   "id": "pursuant-aurora",
   "metadata": {
    "execution": {
     "iopub.execute_input": "2021-02-03T23:03:26.088982Z",
     "iopub.status.busy": "2021-02-03T23:03:26.088424Z",
     "iopub.status.idle": "2021-02-03T23:03:26.092501Z",
     "shell.execute_reply": "2021-02-03T23:03:26.092886Z"
    }
   },
   "outputs": [
    {
     "name": "stdout",
     "output_type": "stream",
     "text": [
      "palabra\n",
      "a\n",
      "pal\n",
      "abra\n"
     ]
    }
   ],
   "source": [
    "palabra = 'palabra'\n",
    "print(palabra)\n",
    "print(palabra[3])\n",
    "print(palabra[:3])\n",
    "print(palabra[3:])"
   ]
  },
  {
   "cell_type": "code",
   "execution_count": 54,
   "id": "occasional-simple",
   "metadata": {
    "execution": {
     "iopub.execute_input": "2021-02-03T23:03:26.096744Z",
     "iopub.status.busy": "2021-02-03T23:03:26.095899Z",
     "iopub.status.idle": "2021-02-03T23:03:26.100711Z",
     "shell.execute_reply": "2021-02-03T23:03:26.101088Z"
    }
   },
   "outputs": [
    {
     "name": "stdout",
     "output_type": "stream",
     "text": [
      "(0, 1, 2, 3, 4)\n",
      "(0, 1)\n",
      "(2, 3, 4)\n"
     ]
    }
   ],
   "source": [
    "tupla = (0, 1, 2, 3, 4)\n",
    "\n",
    "print(tupla)\n",
    "print(tupla[:2])\n",
    "print(tupla[2:])"
   ]
  },
  {
   "cell_type": "markdown",
   "id": "crude-assault",
   "metadata": {
    "slideshow": {
     "slide_type": "slide"
    }
   },
   "source": [
    "#### Diccionarios de Python\n",
    "\n",
    "Son como hashmaps, las claves deben ser inmutables para que no pierda sentido el diccionario. Si se pudieran modificar, se podrían cambiar las claves y generaría conflictos.\n",
    "\n",
    "Tipos mutables:\n",
    "- Listas\n",
    "- Diccionarios\n",
    "- Sets\n",
    "\n",
    "Tipos inmutables:\n",
    "- Int\n",
    "- Float\n",
    "- String\n",
    "- Tuplas\n"
   ]
  },
  {
   "cell_type": "code",
   "execution_count": 55,
   "id": "forward-friendship",
   "metadata": {
    "execution": {
     "iopub.execute_input": "2021-02-03T23:03:26.104593Z",
     "iopub.status.busy": "2021-02-03T23:03:26.104094Z",
     "iopub.status.idle": "2021-02-03T23:03:26.108001Z",
     "shell.execute_reply": "2021-02-03T23:03:26.107571Z"
    },
    "slideshow": {
     "slide_type": "slide"
    }
   },
   "outputs": [
    {
     "data": {
      "text/plain": [
       "{}"
      ]
     },
     "execution_count": 1,
     "metadata": {},
     "output_type": "execute_result"
    }
   ],
   "source": [
    "diccionario = {}\n",
    "diccionario"
   ]
  },
  {
   "cell_type": "code",
   "execution_count": 56,
   "id": "incident-sharing",
   "metadata": {
    "execution": {
     "iopub.execute_input": "2021-02-03T23:03:26.111118Z",
     "iopub.status.busy": "2021-02-03T23:03:26.110645Z",
     "iopub.status.idle": "2021-02-03T23:03:26.115488Z",
     "shell.execute_reply": "2021-02-03T23:03:26.115055Z"
    }
   },
   "outputs": [
    {
     "data": {
      "text/plain": [
       "{}"
      ]
     },
     "execution_count": 1,
     "metadata": {},
     "output_type": "execute_result"
    }
   ],
   "source": [
    "diccionario = dict()\n",
    "diccionario"
   ]
  },
  {
   "cell_type": "code",
   "execution_count": 57,
   "id": "compound-cocktail",
   "metadata": {
    "execution": {
     "iopub.execute_input": "2021-02-03T23:03:26.119671Z",
     "iopub.status.busy": "2021-02-03T23:03:26.118959Z",
     "iopub.status.idle": "2021-02-03T23:03:26.120855Z",
     "shell.execute_reply": "2021-02-03T23:03:26.121243Z"
    },
    "slideshow": {
     "slide_type": "slide"
    }
   },
   "outputs": [
    {
     "name": "stdout",
     "output_type": "stream",
     "text": [
      "{'clave1': 'valor1', 2: 'valor2', 'clave3': 3}\n"
     ]
    }
   ],
   "source": [
    "# Cómo agregar cosas al diccionario\n",
    "diccionario['clave1'] = 'valor1'\n",
    "diccionario[2] = 'valor2'\n",
    "diccionario['clave3'] = 3\n",
    "print(diccionario)"
   ]
  },
  {
   "cell_type": "markdown",
   "id": "cutting-syndicate",
   "metadata": {},
   "source": [
    "Hay dos formas de obtener valores de un diccionario:\n",
    "\n",
    "```python\n",
    "diccionario[clave]\n",
    "```\n",
    "\n",
    "El cual devuelve el valor si existe la clave suministrada o bien lanza `KeyError` si no existe."
   ]
  },
  {
   "cell_type": "code",
   "execution_count": 58,
   "id": "intelligent-microphone",
   "metadata": {
    "execution": {
     "iopub.execute_input": "2021-02-03T23:03:26.124574Z",
     "iopub.status.busy": "2021-02-03T23:03:26.124079Z",
     "iopub.status.idle": "2021-02-03T23:03:26.126760Z",
     "shell.execute_reply": "2021-02-03T23:03:26.126336Z"
    }
   },
   "outputs": [
    {
     "data": {
      "text/plain": [
       "'valor1'"
      ]
     },
     "execution_count": 1,
     "metadata": {},
     "output_type": "execute_result"
    }
   ],
   "source": [
    "diccionario['clave1']"
   ]
  },
  {
   "cell_type": "code",
   "execution_count": 59,
   "id": "narrative-completion",
   "metadata": {
    "execution": {
     "iopub.execute_input": "2021-02-03T23:03:26.133043Z",
     "iopub.status.busy": "2021-02-03T23:03:26.132463Z",
     "iopub.status.idle": "2021-02-03T23:03:26.135579Z",
     "shell.execute_reply": "2021-02-03T23:03:26.135062Z"
    },
    "tags": [
     "raises-exception"
    ]
   },
   "outputs": [
    {
     "ename": "KeyError",
     "evalue": "'clave1000'",
     "output_type": "error",
     "traceback": [
      "\u001b[0;31m---------------------------------------------------------------------------\u001b[0m",
      "\u001b[0;31mKeyError\u001b[0m                                  Traceback (most recent call last)",
      "\u001b[0;32m<ipython-input-1-41aae9a2e5ed>\u001b[0m in \u001b[0;36m<module>\u001b[0;34m\u001b[0m\n\u001b[0;32m----> 1\u001b[0;31m \u001b[0mdiccionario\u001b[0m\u001b[0;34m[\u001b[0m\u001b[0;34m'clave1000'\u001b[0m\u001b[0;34m]\u001b[0m\u001b[0;34m\u001b[0m\u001b[0;34m\u001b[0m\u001b[0m\n\u001b[0m",
      "\u001b[0;31mKeyError\u001b[0m: 'clave1000'"
     ]
    }
   ],
   "source": [
    "diccionario['clave1000']"
   ]
  },
  {
   "cell_type": "markdown",
   "id": "occupational-boards",
   "metadata": {},
   "source": [
    "La segunda forma es con `get`:"
   ]
  },
  {
   "cell_type": "code",
   "execution_count": 60,
   "id": "generic-brunswick",
   "metadata": {
    "execution": {
     "iopub.execute_input": "2021-02-03T23:03:26.272978Z",
     "iopub.status.busy": "2021-02-03T23:03:26.252193Z",
     "iopub.status.idle": "2021-02-03T23:03:26.287084Z",
     "shell.execute_reply": "2021-02-03T23:03:26.286630Z"
    }
   },
   "outputs": [],
   "source": [
    "diccionario.get?"
   ]
  },
  {
   "cell_type": "code",
   "execution_count": 61,
   "id": "typical-spencer",
   "metadata": {
    "execution": {
     "iopub.execute_input": "2021-02-03T23:03:26.292217Z",
     "iopub.status.busy": "2021-02-03T23:03:26.291095Z",
     "iopub.status.idle": "2021-02-03T23:03:26.293957Z",
     "shell.execute_reply": "2021-02-03T23:03:26.293532Z"
    }
   },
   "outputs": [
    {
     "name": "stdout",
     "output_type": "stream",
     "text": [
      "Help on built-in function get:\n",
      "\n",
      "get(key, default=None, /) method of builtins.dict instance\n",
      "    Return the value for key if key is in the dictionary, else default.\n",
      "\n"
     ]
    }
   ],
   "source": [
    "help(diccionario.get)"
   ]
  },
  {
   "cell_type": "code",
   "execution_count": 62,
   "id": "center-cisco",
   "metadata": {
    "execution": {
     "iopub.execute_input": "2021-02-03T23:03:26.298631Z",
     "iopub.status.busy": "2021-02-03T23:03:26.297457Z",
     "iopub.status.idle": "2021-02-03T23:03:26.300232Z",
     "shell.execute_reply": "2021-02-03T23:03:26.299810Z"
    },
    "slideshow": {
     "slide_type": "slide"
    }
   },
   "outputs": [
    {
     "name": "stdout",
     "output_type": "stream",
     "text": [
      "None\n"
     ]
    }
   ],
   "source": [
    "print(diccionario.get('clave1000'))"
   ]
  },
  {
   "cell_type": "code",
   "execution_count": 63,
   "id": "sensitive-psychiatry",
   "metadata": {
    "execution": {
     "iopub.execute_input": "2021-02-03T23:03:26.304628Z",
     "iopub.status.busy": "2021-02-03T23:03:26.303571Z",
     "iopub.status.idle": "2021-02-03T23:03:26.306225Z",
     "shell.execute_reply": "2021-02-03T23:03:26.305809Z"
    },
    "slideshow": {
     "slide_type": "slide"
    }
   },
   "outputs": [
    {
     "name": "stdout",
     "output_type": "stream",
     "text": [
      "True\n"
     ]
    }
   ],
   "source": [
    "print('clave1' in diccionario)  # Verifico si la clave está en el diccionario"
   ]
  },
  {
   "cell_type": "code",
   "execution_count": 64,
   "id": "antique-command",
   "metadata": {
    "execution": {
     "iopub.execute_input": "2021-02-03T23:03:26.311036Z",
     "iopub.status.busy": "2021-02-03T23:03:26.310190Z",
     "iopub.status.idle": "2021-02-03T23:03:26.312683Z",
     "shell.execute_reply": "2021-02-03T23:03:26.313080Z"
    }
   },
   "outputs": [
    {
     "data": {
      "text/plain": [
       "True"
      ]
     },
     "execution_count": 1,
     "metadata": {},
     "output_type": "execute_result"
    }
   ],
   "source": [
    "l = [1, 2, 3, 4]\n",
    "2 in l"
   ]
  },
  {
   "cell_type": "code",
   "execution_count": 65,
   "id": "after-determination",
   "metadata": {
    "execution": {
     "iopub.execute_input": "2021-02-03T23:03:26.318177Z",
     "iopub.status.busy": "2021-02-03T23:03:26.317324Z",
     "iopub.status.idle": "2021-02-03T23:03:26.320087Z",
     "shell.execute_reply": "2021-02-03T23:03:26.319684Z"
    }
   },
   "outputs": [
    {
     "name": "stdout",
     "output_type": "stream",
     "text": [
      "la clave es clave1 y el valor es valor1\n",
      "la clave es 2 y el valor es valor2\n",
      "la clave es clave3 y el valor es 3\n"
     ]
    }
   ],
   "source": [
    "for clave, valor in diccionario.items():\n",
    "    print(\"la clave es %s y el valor es %s\" % (clave, valor))"
   ]
  },
  {
   "cell_type": "code",
   "execution_count": 66,
   "id": "novel-party",
   "metadata": {
    "execution": {
     "iopub.execute_input": "2021-02-03T23:03:26.324955Z",
     "iopub.status.busy": "2021-02-03T23:03:26.323837Z",
     "iopub.status.idle": "2021-02-03T23:03:26.326639Z",
     "shell.execute_reply": "2021-02-03T23:03:26.326221Z"
    }
   },
   "outputs": [
    {
     "name": "stdout",
     "output_type": "stream",
     "text": [
      "la clave es clave1 y el valor es valor1\n",
      "la clave es 2 y el valor es valor2\n",
      "la clave es clave3 y el valor es 3\n"
     ]
    }
   ],
   "source": [
    "for clave, valor in diccionario.items():\n",
    "    print(\"la clave es {} y el valor es {}\".format(clave, valor))"
   ]
  },
  {
   "cell_type": "code",
   "execution_count": 67,
   "id": "exceptional-brief",
   "metadata": {
    "execution": {
     "iopub.execute_input": "2021-02-03T23:03:26.331245Z",
     "iopub.status.busy": "2021-02-03T23:03:26.330291Z",
     "iopub.status.idle": "2021-02-03T23:03:26.333044Z",
     "shell.execute_reply": "2021-02-03T23:03:26.332620Z"
    },
    "slideshow": {
     "slide_type": "slide"
    }
   },
   "outputs": [
    {
     "name": "stdout",
     "output_type": "stream",
     "text": [
      "la clave es clave1 y el valor es valor1\n",
      "la clave es 2 y el valor es valor2\n",
      "la clave es clave3 y el valor es 3\n"
     ]
    }
   ],
   "source": [
    "# Cómo iterar un diccionario elemento por elemento\n",
    "for (\n",
    "    clave,\n",
    "    valor,\n",
    ") in (\n",
    "    diccionario.items()\n",
    "):  # diccionario.items() va devolviendo tuplas con el formato (clave,valor)\n",
    "    print(\n",
    "        f\"la clave es {clave} y el valor es {valor}\"\n",
    "    )  # con esta sintaxis se desempaquetan en clave y valor (similar a enumerate)"
   ]
  },
  {
   "cell_type": "code",
   "execution_count": 68,
   "id": "delayed-mileage",
   "metadata": {
    "execution": {
     "iopub.execute_input": "2021-02-03T23:03:26.337537Z",
     "iopub.status.busy": "2021-02-03T23:03:26.336468Z",
     "iopub.status.idle": "2021-02-03T23:03:26.339204Z",
     "shell.execute_reply": "2021-02-03T23:03:26.338786Z"
    },
    "slideshow": {
     "slide_type": "slide"
    }
   },
   "outputs": [
    {
     "name": "stdout",
     "output_type": "stream",
     "text": [
      "clave1\n",
      "2\n",
      "clave3\n"
     ]
    }
   ],
   "source": [
    "for clave in diccionario.keys():\n",
    "    print(clave)"
   ]
  },
  {
   "cell_type": "code",
   "execution_count": 69,
   "id": "anonymous-headquarters",
   "metadata": {
    "execution": {
     "iopub.execute_input": "2021-02-03T23:03:26.343475Z",
     "iopub.status.busy": "2021-02-03T23:03:26.342479Z",
     "iopub.status.idle": "2021-02-03T23:03:26.345162Z",
     "shell.execute_reply": "2021-02-03T23:03:26.344724Z"
    },
    "slideshow": {
     "slide_type": "slide"
    }
   },
   "outputs": [
    {
     "name": "stdout",
     "output_type": "stream",
     "text": [
      "valor1\n",
      "valor2\n",
      "3\n"
     ]
    }
   ],
   "source": [
    "for valor in diccionario.values():\n",
    "    print(valor)"
   ]
  },
  {
   "cell_type": "markdown",
   "id": "cognitive-polyester",
   "metadata": {},
   "source": [
    "#### Sets\n",
    "\n",
    "Son similares a los diccionarios (en eficiencia) pero se almacenan solo claves, y tienen algunas operaciones particulares.\n",
    "\n",
    "En particular, no pueden tener elementos iguales (pensar que son conjuntos)"
   ]
  },
  {
   "cell_type": "code",
   "execution_count": 70,
   "id": "heavy-tuning",
   "metadata": {
    "execution": {
     "iopub.execute_input": "2021-02-03T23:03:26.348468Z",
     "iopub.status.busy": "2021-02-03T23:03:26.347978Z",
     "iopub.status.idle": "2021-02-03T23:03:26.351837Z",
     "shell.execute_reply": "2021-02-03T23:03:26.351399Z"
    }
   },
   "outputs": [],
   "source": [
    "set??"
   ]
  },
  {
   "cell_type": "code",
   "execution_count": 71,
   "id": "racial-emperor",
   "metadata": {
    "execution": {
     "iopub.execute_input": "2021-02-03T23:03:26.355645Z",
     "iopub.status.busy": "2021-02-03T23:03:26.355151Z",
     "iopub.status.idle": "2021-02-03T23:03:26.357474Z",
     "shell.execute_reply": "2021-02-03T23:03:26.357863Z"
    }
   },
   "outputs": [
    {
     "data": {
      "text/plain": [
       "{1, 2, 3}"
      ]
     },
     "execution_count": 1,
     "metadata": {},
     "output_type": "execute_result"
    }
   ],
   "source": [
    "# Se definen como los diccionarios pero sin hacerlos 'clave:valor', solamente una seguidilla de elementos\n",
    "{1, 2, 2, 3}"
   ]
  },
  {
   "cell_type": "code",
   "execution_count": 72,
   "id": "cleared-recognition",
   "metadata": {
    "execution": {
     "iopub.execute_input": "2021-02-03T23:03:26.361777Z",
     "iopub.status.busy": "2021-02-03T23:03:26.361284Z",
     "iopub.status.idle": "2021-02-03T23:03:26.363601Z",
     "shell.execute_reply": "2021-02-03T23:03:26.363992Z"
    }
   },
   "outputs": [
    {
     "data": {
      "text/plain": [
       "{1, 2, 3}"
      ]
     },
     "execution_count": 1,
     "metadata": {},
     "output_type": "execute_result"
    }
   ],
   "source": [
    "set([1, 2, 2, 3])"
   ]
  },
  {
   "cell_type": "markdown",
   "id": "spiritual-makeup",
   "metadata": {},
   "source": [
    "## Condicionales (if...elif...else)\n",
    "\n",
    "```python\n",
    "if <condición_1>:\n",
    "    <hacer algo_1 si se da la condición_1>\n",
    "elif <condición_2>:\n",
    "    <hacer algo_2 si se da la condición_2>\n",
    "...\n",
    "elif <condición_n>:\n",
    "    <hacer algo_n si se da la condición_n>\n",
    "else:\n",
    "    <hacer otra cosa si no dan las anteriores>\n",
    "```\n",
    "\n",
    "Algo importante para notar es que los bloques se definen por **niveles de identacion**."
   ]
  },
  {
   "cell_type": "code",
   "execution_count": 73,
   "id": "tracked-metadata",
   "metadata": {
    "execution": {
     "iopub.execute_input": "2021-02-03T23:03:26.368557Z",
     "iopub.status.busy": "2021-02-03T23:03:26.367586Z",
     "iopub.status.idle": "2021-02-03T23:03:26.370227Z",
     "shell.execute_reply": "2021-02-03T23:03:26.369806Z"
    }
   },
   "outputs": [
    {
     "name": "stdout",
     "output_type": "stream",
     "text": [
      "uno\n"
     ]
    }
   ],
   "source": [
    "v = 1\n",
    "if v == 1:\n",
    "    print(\"uno\")\n",
    "elif v == 2:\n",
    "    print(\"dos\")\n",
    "else:\n",
    "    print(\"ni idea\")\n",
    "    print(v)"
   ]
  },
  {
   "cell_type": "markdown",
   "id": "circular-print",
   "metadata": {},
   "source": [
    "## Iteraciones\n",
    "\n",
    "```python\n",
    "while cond:\n",
    "    <codigo>\n",
    "```\n",
    "\n",
    "```python\n",
    "for elemento in iterable:\n",
    "    <codigo>\n",
    "```\n",
    "\n",
    "Para iterar sobre un rango de valores, usamos `range`"
   ]
  },
  {
   "cell_type": "code",
   "execution_count": 74,
   "id": "thousand-credit",
   "metadata": {
    "execution": {
     "iopub.execute_input": "2021-02-03T23:03:26.374575Z",
     "iopub.status.busy": "2021-02-03T23:03:26.373721Z",
     "iopub.status.idle": "2021-02-03T23:03:26.375986Z",
     "shell.execute_reply": "2021-02-03T23:03:26.376371Z"
    }
   },
   "outputs": [
    {
     "name": "stdout",
     "output_type": "stream",
     "text": [
      "1\n",
      "4\n",
      "7\n",
      "10\n"
     ]
    }
   ],
   "source": [
    "for i in range(1, 11, 3):\n",
    "    print(i)"
   ]
  },
  {
   "cell_type": "markdown",
   "id": "binding-accident",
   "metadata": {},
   "source": [
    "## Operadores logicos\n",
    "\n",
    "`not`, `or`, `and`"
   ]
  },
  {
   "cell_type": "code",
   "execution_count": 75,
   "id": "virtual-blackberry",
   "metadata": {
    "execution": {
     "iopub.execute_input": "2021-02-03T23:03:26.380810Z",
     "iopub.status.busy": "2021-02-03T23:03:26.379741Z",
     "iopub.status.idle": "2021-02-03T23:03:26.382386Z",
     "shell.execute_reply": "2021-02-03T23:03:26.381967Z"
    }
   },
   "outputs": [
    {
     "name": "stdout",
     "output_type": "stream",
     "text": [
      "yay\n"
     ]
    }
   ],
   "source": [
    "if True or False:\n",
    "    print(\"yay\")"
   ]
  },
  {
   "cell_type": "code",
   "execution_count": 76,
   "id": "dying-plastic",
   "metadata": {
    "execution": {
     "iopub.execute_input": "2021-02-03T23:03:26.386039Z",
     "iopub.status.busy": "2021-02-03T23:03:26.385547Z",
     "iopub.status.idle": "2021-02-03T23:03:26.387864Z",
     "shell.execute_reply": "2021-02-03T23:03:26.388255Z"
    }
   },
   "outputs": [
    {
     "data": {
      "text/plain": [
       "False"
      ]
     },
     "execution_count": 1,
     "metadata": {},
     "output_type": "execute_result"
    }
   ],
   "source": [
    "1 == 2"
   ]
  },
  {
   "cell_type": "code",
   "execution_count": 77,
   "id": "entitled-basin",
   "metadata": {
    "execution": {
     "iopub.execute_input": "2021-02-03T23:03:26.391917Z",
     "iopub.status.busy": "2021-02-03T23:03:26.391430Z",
     "iopub.status.idle": "2021-02-03T23:03:26.393722Z",
     "shell.execute_reply": "2021-02-03T23:03:26.394111Z"
    }
   },
   "outputs": [
    {
     "data": {
      "text/plain": [
       "True"
      ]
     },
     "execution_count": 1,
     "metadata": {},
     "output_type": "execute_result"
    }
   ],
   "source": [
    "1 != 2"
   ]
  },
  {
   "cell_type": "markdown",
   "id": "dense-vision",
   "metadata": {
    "slideshow": {
     "slide_type": "slide"
    }
   },
   "source": [
    "## Funciones en Python"
   ]
  },
  {
   "cell_type": "code",
   "execution_count": 78,
   "id": "uniform-absolute",
   "metadata": {
    "execution": {
     "iopub.execute_input": "2021-02-03T23:03:26.400760Z",
     "iopub.status.busy": "2021-02-03T23:03:26.399703Z",
     "iopub.status.idle": "2021-02-03T23:03:26.402342Z",
     "shell.execute_reply": "2021-02-03T23:03:26.401914Z"
    },
    "slideshow": {
     "slide_type": "slide"
    }
   },
   "outputs": [
    {
     "name": "stdout",
     "output_type": "stream",
     "text": [
      "True\n",
      "False\n"
     ]
    }
   ],
   "source": [
    "def busqueda_binaria(lista, elemento):\n",
    "    if not lista:\n",
    "        return False\n",
    "    elif len(lista) == 1:\n",
    "        return lista[0] == elemento\n",
    "    mitad = len(lista) // 2  # // es la operación división entera\n",
    "    if lista[mitad] == elemento:\n",
    "        return True\n",
    "    if lista[mitad] > elemento:\n",
    "        return busqueda_binaria(lista[:mitad], elemento)\n",
    "    if lista[mitad] < elemento:\n",
    "        return busqueda_binaria(lista[mitad:], elemento)\n",
    "\n",
    "\n",
    "print(busqueda_binaria([1, 2, 3, 4, 5], 4))\n",
    "print(busqueda_binaria([1, 4, 6, 7, 9, 10], 2))"
   ]
  },
  {
   "cell_type": "code",
   "execution_count": 79,
   "id": "editorial-bunch",
   "metadata": {
    "execution": {
     "iopub.execute_input": "2021-02-03T23:03:26.406828Z",
     "iopub.status.busy": "2021-02-03T23:03:26.405789Z",
     "iopub.status.idle": "2021-02-03T23:03:26.408397Z",
     "shell.execute_reply": "2021-02-03T23:03:26.407976Z"
    }
   },
   "outputs": [
    {
     "name": "stdout",
     "output_type": "stream",
     "text": [
      "(3, 3, 3)\n"
     ]
    }
   ],
   "source": [
    "def a(b):\n",
    "    if a == 1:\n",
    "        print(a)\n",
    "    return (b, b, b)\n",
    "\n",
    "\n",
    "print(a(3))"
   ]
  },
  {
   "cell_type": "code",
   "execution_count": 80,
   "id": "future-newfoundland",
   "metadata": {
    "execution": {
     "iopub.execute_input": "2021-02-03T23:03:26.413713Z",
     "iopub.status.busy": "2021-02-03T23:03:26.412183Z",
     "iopub.status.idle": "2021-02-03T23:03:26.420819Z",
     "shell.execute_reply": "2021-02-03T23:03:26.420285Z"
    },
    "lines_to_next_cell": 2,
    "slideshow": {
     "slide_type": "slide"
    },
    "tags": [
     "raises-exception"
    ]
   },
   "outputs": [
    {
     "name": "stdout",
     "output_type": "stream",
     "text": [
      "3\n",
      "3.0\n",
      "3.0\n",
      "hola como te va\n",
      "[1, 2, 3, 4, 5]\n"
     ]
    },
    {
     "ename": "TypeError",
     "evalue": "can only concatenate str (not \"int\") to str",
     "output_type": "error",
     "traceback": [
      "\u001b[0;31m---------------------------------------------------------------------------\u001b[0m",
      "\u001b[0;31mTypeError\u001b[0m                                 Traceback (most recent call last)",
      "\u001b[0;32m<ipython-input-1-c2a6a99a90c7>\u001b[0m in \u001b[0;36m<module>\u001b[0;34m\u001b[0m\n\u001b[1;32m      8\u001b[0m \u001b[0mprint\u001b[0m\u001b[0;34m(\u001b[0m\u001b[0msuma\u001b[0m\u001b[0;34m(\u001b[0m\u001b[0;34m\"hola \"\u001b[0m\u001b[0;34m,\u001b[0m \u001b[0;34m\"como te va\"\u001b[0m\u001b[0;34m)\u001b[0m\u001b[0;34m)\u001b[0m\u001b[0;34m\u001b[0m\u001b[0;34m\u001b[0m\u001b[0m\n\u001b[1;32m      9\u001b[0m \u001b[0mprint\u001b[0m\u001b[0;34m(\u001b[0m\u001b[0msuma\u001b[0m\u001b[0;34m(\u001b[0m\u001b[0;34m[\u001b[0m\u001b[0;36m1\u001b[0m\u001b[0;34m,\u001b[0m \u001b[0;36m2\u001b[0m\u001b[0;34m,\u001b[0m \u001b[0;36m3\u001b[0m\u001b[0;34m]\u001b[0m\u001b[0;34m,\u001b[0m \u001b[0;34m[\u001b[0m\u001b[0;36m4\u001b[0m\u001b[0;34m,\u001b[0m \u001b[0;36m5\u001b[0m\u001b[0;34m]\u001b[0m\u001b[0;34m)\u001b[0m\u001b[0;34m)\u001b[0m\u001b[0;34m\u001b[0m\u001b[0;34m\u001b[0m\u001b[0m\n\u001b[0;32m---> 10\u001b[0;31m \u001b[0mprint\u001b[0m\u001b[0;34m(\u001b[0m\u001b[0msuma\u001b[0m\u001b[0;34m(\u001b[0m\u001b[0;34m\"1\"\u001b[0m\u001b[0;34m,\u001b[0m \u001b[0;36m3\u001b[0m\u001b[0;34m)\u001b[0m\u001b[0;34m)\u001b[0m  \u001b[0;31m# Falla\u001b[0m\u001b[0;34m\u001b[0m\u001b[0;34m\u001b[0m\u001b[0m\n\u001b[0m",
      "\u001b[0;32m<ipython-input-1-c2a6a99a90c7>\u001b[0m in \u001b[0;36msuma\u001b[0;34m(a, b)\u001b[0m\n\u001b[1;32m      1\u001b[0m \u001b[0;32mdef\u001b[0m \u001b[0msuma\u001b[0m\u001b[0;34m(\u001b[0m\u001b[0ma\u001b[0m\u001b[0;34m,\u001b[0m \u001b[0mb\u001b[0m\u001b[0;34m)\u001b[0m\u001b[0;34m:\u001b[0m\u001b[0;34m\u001b[0m\u001b[0;34m\u001b[0m\u001b[0m\n\u001b[0;32m----> 2\u001b[0;31m     \u001b[0;32mreturn\u001b[0m \u001b[0ma\u001b[0m \u001b[0;34m+\u001b[0m \u001b[0mb\u001b[0m\u001b[0;34m\u001b[0m\u001b[0;34m\u001b[0m\u001b[0m\n\u001b[0m\u001b[1;32m      3\u001b[0m \u001b[0;34m\u001b[0m\u001b[0m\n\u001b[1;32m      4\u001b[0m \u001b[0;34m\u001b[0m\u001b[0m\n\u001b[1;32m      5\u001b[0m \u001b[0mprint\u001b[0m\u001b[0;34m(\u001b[0m\u001b[0msuma\u001b[0m\u001b[0;34m(\u001b[0m\u001b[0;36m1\u001b[0m\u001b[0;34m,\u001b[0m \u001b[0;36m2\u001b[0m\u001b[0;34m)\u001b[0m\u001b[0;34m)\u001b[0m\u001b[0;34m\u001b[0m\u001b[0;34m\u001b[0m\u001b[0m\n",
      "\u001b[0;31mTypeError\u001b[0m: can only concatenate str (not \"int\") to str"
     ]
    }
   ],
   "source": [
    "def suma(a, b):\n",
    "    return a + b\n",
    "\n",
    "\n",
    "print(suma(1, 2))\n",
    "print(suma(1.0, 2.0))\n",
    "print(suma(1.0, 2))\n",
    "print(suma(\"hola \", \"como te va\"))\n",
    "print(suma([1, 2, 3], [4, 5]))\n",
    "print(suma(\"1\", 3))  # Falla"
   ]
  },
  {
   "cell_type": "code",
   "execution_count": 81,
   "id": "superior-tobacco",
   "metadata": {
    "execution": {
     "iopub.execute_input": "2021-02-03T23:03:26.524281Z",
     "iopub.status.busy": "2021-02-03T23:03:26.523743Z",
     "iopub.status.idle": "2021-02-03T23:03:26.527178Z",
     "shell.execute_reply": "2021-02-03T23:03:26.526723Z"
    }
   },
   "outputs": [
    {
     "name": "stdout",
     "output_type": "stream",
     "text": [
      "2.0\n"
     ]
    }
   ],
   "source": [
    "# El valor por default de divisor es 1\n",
    "\n",
    "\n",
    "def division(dividendo, divisor=2):\n",
    "    return dividendo / divisor\n",
    "\n",
    "\n",
    "print(division(4))  # Usa el valor por default"
   ]
  },
  {
   "cell_type": "code",
   "execution_count": 82,
   "id": "gross-keeping",
   "metadata": {
    "execution": {
     "iopub.execute_input": "2021-02-03T23:03:26.534577Z",
     "iopub.status.busy": "2021-02-03T23:03:26.534120Z",
     "iopub.status.idle": "2021-02-03T23:03:26.537208Z",
     "shell.execute_reply": "2021-02-03T23:03:26.536815Z"
    },
    "tags": [
     "raises-exception"
    ]
   },
   "outputs": [
    {
     "name": "stdout",
     "output_type": "stream",
     "text": [
      "0.5\n",
      "0.5\n"
     ]
    },
    {
     "ename": "TypeError",
     "evalue": "division() missing 1 required positional argument: 'dividendo'",
     "output_type": "error",
     "traceback": [
      "\u001b[0;31m---------------------------------------------------------------------------\u001b[0m",
      "\u001b[0;31mTypeError\u001b[0m                                 Traceback (most recent call last)",
      "\u001b[0;32m<ipython-input-1-34eff3833138>\u001b[0m in \u001b[0;36m<module>\u001b[0;34m\u001b[0m\n\u001b[1;32m      1\u001b[0m \u001b[0mprint\u001b[0m\u001b[0;34m(\u001b[0m\u001b[0mdivision\u001b[0m\u001b[0;34m(\u001b[0m\u001b[0;36m1\u001b[0m\u001b[0;34m,\u001b[0m \u001b[0;36m2\u001b[0m\u001b[0;34m)\u001b[0m\u001b[0;34m)\u001b[0m  \u001b[0;31m# Parámetros por orden\u001b[0m\u001b[0;34m\u001b[0m\u001b[0;34m\u001b[0m\u001b[0m\n\u001b[1;32m      2\u001b[0m \u001b[0mprint\u001b[0m\u001b[0;34m(\u001b[0m\u001b[0mdivision\u001b[0m\u001b[0;34m(\u001b[0m\u001b[0mdividendo\u001b[0m\u001b[0;34m=\u001b[0m\u001b[0;36m1\u001b[0m\u001b[0;34m,\u001b[0m \u001b[0mdivisor\u001b[0m\u001b[0;34m=\u001b[0m\u001b[0;36m2\u001b[0m\u001b[0;34m)\u001b[0m\u001b[0;34m)\u001b[0m  \u001b[0;31m# Parámetros por nombre\u001b[0m\u001b[0;34m\u001b[0m\u001b[0;34m\u001b[0m\u001b[0m\n\u001b[0;32m----> 3\u001b[0;31m \u001b[0mprint\u001b[0m\u001b[0;34m(\u001b[0m\u001b[0mdivision\u001b[0m\u001b[0;34m(\u001b[0m\u001b[0mdivisor\u001b[0m\u001b[0;34m=\u001b[0m\u001b[0;36m2\u001b[0m\u001b[0;34m)\u001b[0m\u001b[0;34m)\u001b[0m\u001b[0;34m\u001b[0m\u001b[0;34m\u001b[0m\u001b[0m\n\u001b[0m",
      "\u001b[0;31mTypeError\u001b[0m: division() missing 1 required positional argument: 'dividendo'"
     ]
    }
   ],
   "source": [
    "print(division(1, 2))  # Parámetros por orden\n",
    "print(division(dividendo=1, divisor=2))  # Parámetros por nombre\n",
    "print(division(divisor=2))"
   ]
  },
  {
   "cell_type": "code",
   "execution_count": 83,
   "id": "attached-boundary",
   "metadata": {
    "execution": {
     "iopub.execute_input": "2021-02-03T23:03:26.639778Z",
     "iopub.status.busy": "2021-02-03T23:03:26.639226Z",
     "iopub.status.idle": "2021-02-03T23:03:26.645494Z",
     "shell.execute_reply": "2021-02-03T23:03:26.644694Z"
    }
   },
   "outputs": [
    {
     "name": "stdout",
     "output_type": "stream",
     "text": [
      "0.5\n"
     ]
    }
   ],
   "source": [
    "print(division(divisor=2, dividendo=1))"
   ]
  },
  {
   "cell_type": "code",
   "execution_count": 84,
   "id": "raising-sensitivity",
   "metadata": {
    "execution": {
     "iopub.execute_input": "2021-02-03T23:03:26.651929Z",
     "iopub.status.busy": "2021-02-03T23:03:26.650944Z",
     "iopub.status.idle": "2021-02-03T23:03:26.653327Z",
     "shell.execute_reply": "2021-02-03T23:03:26.653699Z"
    }
   },
   "outputs": [
    {
     "name": "stdout",
     "output_type": "stream",
     "text": [
      "['a', 'b', 'c']\n",
      "[1, 2, 3]\n",
      "['hola', ' don', ' pepito']\n",
      "hola -  don -  pepito\n"
     ]
    }
   ],
   "source": [
    "# Funciones básicas ya en el lenguaje\n",
    "# Hechas para funcionar para distintos tipos\n",
    "\n",
    "string_ordenado = sorted('bca')\n",
    "print(string_ordenado)\n",
    "\n",
    "lista_ordenada = sorted([1, 3, 2])\n",
    "print(lista_ordenada)\n",
    "\n",
    "separadas = \"hola, don, pepito\".split(\",\")\n",
    "print(separadas)\n",
    "unidas = \" - \".join(separadas)\n",
    "print(unidas)"
   ]
  },
  {
   "cell_type": "markdown",
   "id": "applicable-papua",
   "metadata": {},
   "source": [
    "## Módulos\n",
    "\n",
    "Para incluir alguna biblioteca de funciones se usa `import`. Pueden ser cosas ya predefinidas en Python (`math`, `random`, etc), nombres de archivos en nuestro directorio (por ejemplo, para `mimodulo.py` ponemos `import mimodulo`) o bibliotecas instaladas por el usuario"
   ]
  },
  {
   "cell_type": "code",
   "execution_count": 85,
   "id": "romantic-scottish",
   "metadata": {
    "execution": {
     "iopub.execute_input": "2021-02-03T23:03:26.658303Z",
     "iopub.status.busy": "2021-02-03T23:03:26.657289Z",
     "iopub.status.idle": "2021-02-03T23:03:26.660168Z",
     "shell.execute_reply": "2021-02-03T23:03:26.659738Z"
    }
   },
   "outputs": [
    {
     "name": "stdout",
     "output_type": "stream",
     "text": [
      "3.141592653589793\n"
     ]
    }
   ],
   "source": [
    "import math\n",
    "\n",
    "print(math.pi)"
   ]
  },
  {
   "cell_type": "code",
   "execution_count": 86,
   "id": "urban-helena",
   "metadata": {
    "execution": {
     "iopub.execute_input": "2021-02-03T23:03:26.664644Z",
     "iopub.status.busy": "2021-02-03T23:03:26.663607Z",
     "iopub.status.idle": "2021-02-03T23:03:26.666300Z",
     "shell.execute_reply": "2021-02-03T23:03:26.665880Z"
    }
   },
   "outputs": [
    {
     "name": "stdout",
     "output_type": "stream",
     "text": [
      "3.141592653589793 2.718281828459045\n"
     ]
    }
   ],
   "source": [
    "from math import pi, e\n",
    "\n",
    "print(pi, e)"
   ]
  },
  {
   "cell_type": "code",
   "execution_count": 87,
   "id": "creative-plumbing",
   "metadata": {
    "execution": {
     "iopub.execute_input": "2021-02-03T23:03:26.670334Z",
     "iopub.status.busy": "2021-02-03T23:03:26.669837Z",
     "iopub.status.idle": "2021-02-03T23:03:26.672196Z",
     "shell.execute_reply": "2021-02-03T23:03:26.672613Z"
    }
   },
   "outputs": [
    {
     "data": {
      "text/plain": [
       "2"
      ]
     },
     "execution_count": 1,
     "metadata": {},
     "output_type": "execute_result"
    }
   ],
   "source": [
    "math.gcd(56, 78)"
   ]
  },
  {
   "cell_type": "markdown",
   "id": "standard-radar",
   "metadata": {},
   "source": [
    "## Manejo de excepciones\n",
    "\n",
    "Se pueden encapsular errores esperados en un bloque 'try/except' para evitar cortar el flujo del programa"
   ]
  },
  {
   "cell_type": "code",
   "execution_count": 88,
   "id": "dressed-bridges",
   "metadata": {
    "execution": {
     "iopub.execute_input": "2021-02-03T23:03:26.680336Z",
     "iopub.status.busy": "2021-02-03T23:03:26.676863Z",
     "iopub.status.idle": "2021-02-03T23:03:26.682706Z",
     "shell.execute_reply": "2021-02-03T23:03:26.682181Z"
    },
    "tags": [
     "raises-exception"
    ]
   },
   "outputs": [
    {
     "ename": "ZeroDivisionError",
     "evalue": "division by zero",
     "output_type": "error",
     "traceback": [
      "\u001b[0;31m---------------------------------------------------------------------------\u001b[0m",
      "\u001b[0;31mZeroDivisionError\u001b[0m                         Traceback (most recent call last)",
      "\u001b[0;32m<ipython-input-1-f031f77b1a55>\u001b[0m in \u001b[0;36m<module>\u001b[0;34m\u001b[0m\n\u001b[0;32m----> 1\u001b[0;31m \u001b[0mdivision\u001b[0m\u001b[0;34m(\u001b[0m\u001b[0;36m1\u001b[0m\u001b[0;34m,\u001b[0m \u001b[0;36m0\u001b[0m\u001b[0;34m)\u001b[0m  \u001b[0;31m# No se puede dividir por cero\u001b[0m\u001b[0;34m\u001b[0m\u001b[0;34m\u001b[0m\u001b[0m\n\u001b[0m",
      "\u001b[0;32m<ipython-input-1-0d991d7de762>\u001b[0m in \u001b[0;36mdivision\u001b[0;34m(dividendo, divisor)\u001b[0m\n\u001b[1;32m      3\u001b[0m \u001b[0;34m\u001b[0m\u001b[0m\n\u001b[1;32m      4\u001b[0m \u001b[0;32mdef\u001b[0m \u001b[0mdivision\u001b[0m\u001b[0;34m(\u001b[0m\u001b[0mdividendo\u001b[0m\u001b[0;34m,\u001b[0m \u001b[0mdivisor\u001b[0m\u001b[0;34m=\u001b[0m\u001b[0;36m2\u001b[0m\u001b[0;34m)\u001b[0m\u001b[0;34m:\u001b[0m\u001b[0;34m\u001b[0m\u001b[0;34m\u001b[0m\u001b[0m\n\u001b[0;32m----> 5\u001b[0;31m     \u001b[0;32mreturn\u001b[0m \u001b[0mdividendo\u001b[0m \u001b[0;34m/\u001b[0m \u001b[0mdivisor\u001b[0m\u001b[0;34m\u001b[0m\u001b[0;34m\u001b[0m\u001b[0m\n\u001b[0m\u001b[1;32m      6\u001b[0m \u001b[0;34m\u001b[0m\u001b[0m\n\u001b[1;32m      7\u001b[0m \u001b[0;34m\u001b[0m\u001b[0m\n",
      "\u001b[0;31mZeroDivisionError\u001b[0m: division by zero"
     ]
    }
   ],
   "source": [
    "division(1, 0)  # No se puede dividir por cero"
   ]
  },
  {
   "cell_type": "code",
   "execution_count": 89,
   "id": "confirmed-beaver",
   "metadata": {
    "execution": {
     "iopub.execute_input": "2021-02-03T23:03:26.786503Z",
     "iopub.status.busy": "2021-02-03T23:03:26.785963Z",
     "iopub.status.idle": "2021-02-03T23:03:26.790089Z",
     "shell.execute_reply": "2021-02-03T23:03:26.790485Z"
    }
   },
   "outputs": [
    {
     "name": "stdout",
     "output_type": "stream",
     "text": [
      "No se puede dividir por cero, ojo! division by zero\n",
      "1\n"
     ]
    }
   ],
   "source": [
    "try:\n",
    "    division(1, 0)\n",
    "except (ZeroDivisionError, TypeError) as e:\n",
    "    print('No se puede dividir por cero, ojo!', e)\n",
    "finally:\n",
    "    print(1)"
   ]
  },
  {
   "cell_type": "markdown",
   "id": "associate-assessment",
   "metadata": {
    "slideshow": {
     "slide_type": "slide"
    }
   },
   "source": [
    "## Lectura y escritura de archivos"
   ]
  },
  {
   "cell_type": "code",
   "execution_count": 90,
   "id": "generous-friendship",
   "metadata": {
    "execution": {
     "iopub.execute_input": "2021-02-03T23:03:26.794412Z",
     "iopub.status.busy": "2021-02-03T23:03:26.793922Z",
     "iopub.status.idle": "2021-02-03T23:03:26.798861Z",
     "shell.execute_reply": "2021-02-03T23:03:26.798437Z"
    },
    "slideshow": {
     "slide_type": "slide"
    }
   },
   "outputs": [
    {
     "name": "stdout",
     "output_type": "stream",
     "text": [
      "<_io.TextIOWrapper name='archivo.csv' mode='w' encoding='UTF-8'>\n"
     ]
    }
   ],
   "source": [
    "import random\n",
    "\n",
    "with open(\n",
    "    'archivo.csv', 'w'\n",
    ") as archivo:  # Al usar esta sintaxis no es necesario hacer close\n",
    "    archivo.write(\"Alumno, nota\\n\")\n",
    "    # Tambien de forma similar al fprintf se puede hacer:\n",
    "    # print(\"Alumno, nota\\n\", file=archivo)\n",
    "    for i in range(0, 10):\n",
    "        archivo.write(f\"{i},{random.randrange(0,10)}\\n\")\n",
    "\n",
    "print(archivo)  # Comentario aclaratorio:\n",
    "# Las variables definidas en un determinado scope siguen existiendo por fuera del mismo.\n",
    "# Se debe tener cuidado con esto, ya que nada garantiza que por fuera el valor sea el esperado."
   ]
  },
  {
   "cell_type": "code",
   "execution_count": 91,
   "id": "chinese-florence",
   "metadata": {
    "execution": {
     "iopub.execute_input": "2021-02-03T23:03:26.802049Z",
     "iopub.status.busy": "2021-02-03T23:03:26.801555Z",
     "iopub.status.idle": "2021-02-03T23:03:26.806531Z",
     "shell.execute_reply": "2021-02-03T23:03:26.806106Z"
    },
    "slideshow": {
     "slide_type": "slide"
    }
   },
   "outputs": [
    {
     "name": "stdout",
     "output_type": "stream",
     "text": [
      "Alumno, nota\n",
      "0,1\n",
      "1,6\n",
      "2,0\n",
      "3,2\n",
      "4,9\n",
      "5,1\n",
      "6,8\n",
      "7,5\n",
      "8,5\n",
      "9,6\n"
     ]
    }
   ],
   "source": [
    "with open('archivo.csv', 'r') as f:\n",
    "    for linea in f:\n",
    "        print(linea.strip())"
   ]
  },
  {
   "cell_type": "code",
   "execution_count": 92,
   "id": "united-ireland",
   "metadata": {
    "execution": {
     "iopub.execute_input": "2021-02-03T23:03:26.809431Z",
     "iopub.status.busy": "2021-02-03T23:03:26.808957Z",
     "iopub.status.idle": "2021-02-03T23:03:26.812564Z",
     "shell.execute_reply": "2021-02-03T23:03:26.812965Z"
    }
   },
   "outputs": [
    {
     "name": "stdout",
     "output_type": "stream",
     "text": [
      "Alumno, nota\n",
      "0,1\n",
      "1,6\n",
      "2,0\n",
      "3,2\n",
      "4,9\n",
      "5,1\n",
      "6,8\n",
      "7,5\n",
      "8,5\n",
      "9,6\n",
      "\n"
     ]
    }
   ],
   "source": [
    "with open('archivo.csv', 'r') as f:\n",
    "    print(f.read())"
   ]
  },
  {
   "cell_type": "code",
   "execution_count": 93,
   "id": "minus-hughes",
   "metadata": {
    "execution": {
     "iopub.execute_input": "2021-02-03T23:03:26.817633Z",
     "iopub.status.busy": "2021-02-03T23:03:26.817153Z",
     "iopub.status.idle": "2021-02-03T23:03:26.820483Z",
     "shell.execute_reply": "2021-02-03T23:03:26.820056Z"
    }
   },
   "outputs": [],
   "source": [
    "f = open('archivo.csv', 'w')\n",
    "f.write(\"algo, algo\")\n",
    "f.close()"
   ]
  },
  {
   "cell_type": "markdown",
   "id": "closed-aircraft",
   "metadata": {
    "slideshow": {
     "slide_type": "slide"
    }
   },
   "source": [
    "## Objetos\n",
    "\n",
    "Los objetos tienen metodos y atributos:\n",
    "- Atributos: equivalentes a variables.\n",
    "- Métodos: equivalentes a las primitivas."
   ]
  },
  {
   "cell_type": "markdown",
   "id": "confidential-grass",
   "metadata": {
    "slideshow": {
     "slide_type": "slide"
    }
   },
   "source": [
    "### Cómo creo una clase"
   ]
  },
  {
   "cell_type": "code",
   "execution_count": 94,
   "id": "communist-vacation",
   "metadata": {
    "execution": {
     "iopub.execute_input": "2021-02-03T23:03:26.826174Z",
     "iopub.status.busy": "2021-02-03T23:03:26.825161Z",
     "iopub.status.idle": "2021-02-03T23:03:26.826796Z",
     "shell.execute_reply": "2021-02-03T23:03:26.827184Z"
    },
    "slideshow": {
     "slide_type": "slide"
    }
   },
   "outputs": [],
   "source": [
    "class Nodo(object):\n",
    "    def __init__(self, dato, siguiente=None):\n",
    "        self._dato = dato\n",
    "        self._siguiente = siguiente\n",
    "\n",
    "    @property\n",
    "    def dato(self):\n",
    "        return self._dato\n",
    "\n",
    "    @property\n",
    "    def proximo(self):\n",
    "        return self._siguiente\n",
    "\n",
    "    @proximo.setter\n",
    "    def proximo(self, siguiente):\n",
    "        self._siguiente = siguiente\n",
    "\n",
    "    def __repr__(self):\n",
    "        return str(self.dato)\n",
    "\n",
    "    def __str__(self):\n",
    "        return str(self.dato)"
   ]
  },
  {
   "cell_type": "code",
   "execution_count": 95,
   "id": "single-siemens",
   "metadata": {
    "execution": {
     "iopub.execute_input": "2021-02-03T23:03:26.830789Z",
     "iopub.status.busy": "2021-02-03T23:03:26.830309Z",
     "iopub.status.idle": "2021-02-03T23:03:26.833837Z",
     "shell.execute_reply": "2021-02-03T23:03:26.834205Z"
    },
    "slideshow": {
     "slide_type": "slide"
    }
   },
   "outputs": [
    {
     "name": "stdout",
     "output_type": "stream",
     "text": [
      "hola\n"
     ]
    }
   ],
   "source": [
    "nodo = Nodo(\"hola\")\n",
    "print(nodo)"
   ]
  },
  {
   "cell_type": "code",
   "execution_count": 96,
   "id": "clear-going",
   "metadata": {
    "execution": {
     "iopub.execute_input": "2021-02-03T23:03:26.838451Z",
     "iopub.status.busy": "2021-02-03T23:03:26.837593Z",
     "iopub.status.idle": "2021-02-03T23:03:26.839874Z",
     "shell.execute_reply": "2021-02-03T23:03:26.840259Z"
    },
    "slideshow": {
     "slide_type": "slide"
    }
   },
   "outputs": [
    {
     "name": "stdout",
     "output_type": "stream",
     "text": [
      "[hola, lala]\n"
     ]
    }
   ],
   "source": [
    "nodo2 = Nodo(\"lala\")\n",
    "print([nodo, nodo2])"
   ]
  },
  {
   "cell_type": "code",
   "execution_count": 97,
   "id": "complimentary-surgery",
   "metadata": {
    "execution": {
     "iopub.execute_input": "2021-02-03T23:03:26.843880Z",
     "iopub.status.busy": "2021-02-03T23:03:26.843404Z",
     "iopub.status.idle": "2021-02-03T23:03:26.845644Z",
     "shell.execute_reply": "2021-02-03T23:03:26.846033Z"
    },
    "slideshow": {
     "slide_type": "slide"
    }
   },
   "outputs": [
    {
     "name": "stdout",
     "output_type": "stream",
     "text": [
      "hola\n"
     ]
    }
   ],
   "source": [
    "nodo3 = nodo.dato\n",
    "print(nodo3)"
   ]
  },
  {
   "cell_type": "markdown",
   "id": "stuck-elite",
   "metadata": {
    "slideshow": {
     "slide_type": "slide"
    }
   },
   "source": [
    "### Ejemplo: Lista Enlazada"
   ]
  },
  {
   "cell_type": "code",
   "execution_count": 98,
   "id": "automated-apparatus",
   "metadata": {
    "execution": {
     "iopub.execute_input": "2021-02-03T23:03:26.854377Z",
     "iopub.status.busy": "2021-02-03T23:03:26.853313Z",
     "iopub.status.idle": "2021-02-03T23:03:26.854936Z",
     "shell.execute_reply": "2021-02-03T23:03:26.855321Z"
    },
    "slideshow": {
     "slide_type": "slide"
    }
   },
   "outputs": [],
   "source": [
    "class ListaEnlazada(object):\n",
    "    def __init__(self):\n",
    "        self._primero = None\n",
    "        self._ultimo = None\n",
    "        self._largo = 0\n",
    "\n",
    "    def __len__(self):\n",
    "        return self._largo\n",
    "\n",
    "    def insertar_al_principio(self, dato):\n",
    "        nodo = Nodo(dato, self._primero)\n",
    "        self._primero = nodo\n",
    "        self._largo += 1\n",
    "        if self._largo == 1:\n",
    "            self._ultimo = nodo\n",
    "\n",
    "    def insertar_al_final(self, dato):\n",
    "        if self._largo != 0:\n",
    "            nodo = Nodo(dato)\n",
    "            nodo_anterior = self._ultimo\n",
    "            nodo_anterior._siguiente = nodo\n",
    "            self._ultimo = nodo\n",
    "            self._largo += 1\n",
    "        else:\n",
    "            self.insertar_al_principio(dato)\n",
    "\n",
    "    @property\n",
    "    def primero(self):\n",
    "        return self._primero.dato\n",
    "\n",
    "    def borrar_primero(self):\n",
    "        dato = self.primero.dato\n",
    "        self._primero = self.primero.siguiente\n",
    "        self._largo -= 1\n",
    "        if self._largo == 0:\n",
    "            self._ultimo = None\n",
    "        return dato\n",
    "\n",
    "    def __str__(self):\n",
    "        datos = []\n",
    "        nodo_actual = self._primero\n",
    "        while nodo_actual:\n",
    "            datos.append(nodo_actual.dato)\n",
    "            nodo_actual = nodo_actual.proximo\n",
    "        return \" -> \".join(datos)\n",
    "\n",
    "    def __repr__(self):\n",
    "        return self.__str__()"
   ]
  },
  {
   "cell_type": "code",
   "execution_count": 99,
   "id": "three-wilson",
   "metadata": {
    "execution": {
     "iopub.execute_input": "2021-02-03T23:03:26.859549Z",
     "iopub.status.busy": "2021-02-03T23:03:26.859057Z",
     "iopub.status.idle": "2021-02-03T23:03:26.861431Z",
     "shell.execute_reply": "2021-02-03T23:03:26.861825Z"
    },
    "slideshow": {
     "slide_type": "slide"
    }
   },
   "outputs": [
    {
     "data": {
      "text/plain": [
       "2"
      ]
     },
     "execution_count": 1,
     "metadata": {},
     "output_type": "execute_result"
    }
   ],
   "source": [
    "lista = ListaEnlazada()\n",
    "lista.insertar_al_principio(\"Primer Dato\")\n",
    "lista.insertar_al_principio(\"Primer primer Dato\")\n",
    "len(lista)"
   ]
  },
  {
   "cell_type": "code",
   "execution_count": 100,
   "id": "respective-sheffield",
   "metadata": {
    "execution": {
     "iopub.execute_input": "2021-02-03T23:03:26.865652Z",
     "iopub.status.busy": "2021-02-03T23:03:26.865159Z",
     "iopub.status.idle": "2021-02-03T23:03:26.868530Z",
     "shell.execute_reply": "2021-02-03T23:03:26.868091Z"
    }
   },
   "outputs": [
    {
     "data": {
      "text/plain": [
       "Primer primer Dato -> Primer Dato"
      ]
     },
     "execution_count": 1,
     "metadata": {},
     "output_type": "execute_result"
    }
   ],
   "source": [
    "lista"
   ]
  },
  {
   "cell_type": "code",
   "execution_count": 101,
   "id": "clinical-preliminary",
   "metadata": {
    "execution": {
     "iopub.execute_input": "2021-02-03T23:03:26.872736Z",
     "iopub.status.busy": "2021-02-03T23:03:26.871676Z",
     "iopub.status.idle": "2021-02-03T23:03:26.874325Z",
     "shell.execute_reply": "2021-02-03T23:03:26.873905Z"
    },
    "slideshow": {
     "slide_type": "slide"
    }
   },
   "outputs": [
    {
     "name": "stdout",
     "output_type": "stream",
     "text": [
      "Primer primer Dato\n"
     ]
    }
   ],
   "source": [
    "elemento = lista.primero\n",
    "print(elemento)"
   ]
  },
  {
   "cell_type": "markdown",
   "id": "standard-elements",
   "metadata": {},
   "source": [
    "## Recursos\n",
    "\n",
    "* [Taller de Python de Algoritmos II](https://github.com/algoritmos-rw/algo2_apuntes)\n",
    "\n",
    "* [Documentación de Python 3](https://docs.python.org/3/tutorial/)\n",
    "\n",
    "* [Apunte de Algoritmos y Programación I](https://algoritmos1rw.ddns.net/material)\n",
    "\n",
    "* [Automate the Boring Stuff with Python](http://automatetheboringstuff.com/)\n",
    "\n",
    "* [Curso Python](https://pythoncurso.github.io)\n",
    "\n",
    "* [Python Tutor](http://pythontutor.com/)\n",
    "\n",
    "* [Learn Python3 in Y minutes](https://learnxinyminutes.com/docs/python3/)\n",
    "\n",
    "* [Bibliografía de Algoritmos y Programación I](https://algoritmos1rw.ddns.net/bibliografia)"
   ]
  }
 ],
 "metadata": {
  "jupytext": {
   "encoding": "# -*- coding: utf-8 -*-",
   "formats": "ipynb,py:light"
  },
  "kernelspec": {
   "display_name": "Python 3 (venv)",
   "language": "python",
   "name": "python3"
  },
  "language_info": {
   "codemirror_mode": {
    "name": "ipython",
    "version": 3
   },
   "file_extension": ".py",
   "mimetype": "text/x-python",
   "name": "python",
   "nbconvert_exporter": "python",
   "pygments_lexer": "ipython3",
   "version": "3.7.9"
  }
 },
 "nbformat": 4,
 "nbformat_minor": 5
}
