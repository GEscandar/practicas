{
 "cells": [
  {
   "cell_type": "markdown",
   "metadata": {},
   "source": [
    "# Python"
   ]
  },
  {
   "cell_type": "markdown",
   "metadata": {
    "slideshow": {
     "slide_type": "slide"
    }
   },
   "source": [
    "## Un poco de Historia"
   ]
  },
  {
   "cell_type": "markdown",
   "metadata": {
    "slideshow": {
     "slide_type": "subslide"
    }
   },
   "source": [
    "Python fue creado a finales de los años 80 por un programador holandés llamado **Guido van Rossum**,\n",
    "quien sigue siendo aún hoy el líder del desarrollo del lenguaje.\n",
    "\n",
    "(Edit julio 2018: [ya no más](https://www.mail-archive.com/python-committers@python.org/msg05628.html))"
   ]
  },
  {
   "cell_type": "markdown",
   "metadata": {
    "slideshow": {
     "slide_type": "subslide"
    }
   },
   "source": [
    "El nombre del lenguaje proviene de los humoristas británicos Monty Python.\n",
    "\n",
    ">*\"I chose Python as a working title for the project, being in a slightly irreverent mood (and a big fan of Monty Python's Flying Circus).\"*"
   ]
  },
  {
   "cell_type": "markdown",
   "metadata": {
    "slideshow": {
     "slide_type": "slide"
    }
   },
   "source": [
    "## Caracteristicas\n",
    "\n",
    "- Interpretado\n",
    "- Tipado dinamico\n",
    "- Multiparadigma\n",
    "- Alto nivel\n",
    "- Tiene un recolector de basura (no hay malloc, free, realloc, etc)"
   ]
  },
  {
   "cell_type": "markdown",
   "metadata": {},
   "source": [
    "## ¿Cómo empezar?\n",
    "\n",
    "* Al ser un lenguaje *interpretado*, se puede ir escribiendo a medida que se ejecuta, sin necesidad de compilar de antemano! Solamente hace falta escribir `python` o `python3` en una terminal para empezar\n",
    "\n",
    "* También, permite escribir archivos y correrlos. Crear un archivo con extensión `.py` y luego correr `python miarchivo.py` en laterminal"
   ]
  },
  {
   "cell_type": "markdown",
   "metadata": {
    "slideshow": {
     "slide_type": "slide"
    }
   },
   "source": [
    "## El Zen de Python"
   ]
  },
  {
   "cell_type": "code",
   "execution_count": 1,
   "metadata": {
    "execution": {
     "iopub.execute_input": "2020-10-22T03:13:23.888666Z",
     "iopub.status.busy": "2020-10-22T03:13:23.887681Z",
     "iopub.status.idle": "2020-10-22T03:13:23.893028Z",
     "shell.execute_reply": "2020-10-22T03:13:23.892425Z"
    },
    "slideshow": {
     "slide_type": "slide"
    }
   },
   "outputs": [
    {
     "name": "stdout",
     "output_type": "stream",
     "text": [
      "The Zen of Python, by Tim Peters\n",
      "\n",
      "Beautiful is better than ugly.\n",
      "Explicit is better than implicit.\n",
      "Simple is better than complex.\n",
      "Complex is better than complicated.\n",
      "Flat is better than nested.\n",
      "Sparse is better than dense.\n",
      "Readability counts.\n",
      "Special cases aren't special enough to break the rules.\n",
      "Although practicality beats purity.\n",
      "Errors should never pass silently.\n",
      "Unless explicitly silenced.\n",
      "In the face of ambiguity, refuse the temptation to guess.\n",
      "There should be one-- and preferably only one --obvious way to do it.\n",
      "Although that way may not be obvious at first unless you're Dutch.\n",
      "Now is better than never.\n",
      "Although never is often better than *right* now.\n",
      "If the implementation is hard to explain, it's a bad idea.\n",
      "If the implementation is easy to explain, it may be a good idea.\n",
      "Namespaces are one honking great idea -- let's do more of those!\n"
     ]
    }
   ],
   "source": [
    "import this"
   ]
  },
  {
   "cell_type": "markdown",
   "metadata": {
    "slideshow": {
     "slide_type": "slide"
    }
   },
   "source": [
    "## Conocimientos Básicos de Python: Variables y Tipos"
   ]
  },
  {
   "cell_type": "code",
   "execution_count": 2,
   "metadata": {
    "execution": {
     "iopub.execute_input": "2020-10-22T03:13:23.898930Z",
     "iopub.status.busy": "2020-10-22T03:13:23.897306Z",
     "iopub.status.idle": "2020-10-22T03:13:23.901007Z",
     "shell.execute_reply": "2020-10-22T03:13:23.900391Z"
    },
    "slideshow": {
     "slide_type": "slide"
    }
   },
   "outputs": [
    {
     "name": "stdout",
     "output_type": "stream",
     "text": [
      "Hello World!\n"
     ]
    }
   ],
   "source": [
    "# Este es un comentario\n",
    "\n",
    "print(\"Hello World!\")"
   ]
  },
  {
   "cell_type": "markdown",
   "metadata": {},
   "source": [
    "Los strings en python puden escribirse tanto con comillas simples (`'`) como comillas dobles (`\"`). Normalmente vemos texto entre comillas triples para escribir _docstrings_, segun la guia de estilo de Python, el PEP8."
   ]
  },
  {
   "cell_type": "code",
   "execution_count": 3,
   "metadata": {
    "execution": {
     "iopub.execute_input": "2020-10-22T03:13:23.913624Z",
     "iopub.status.busy": "2020-10-22T03:13:23.912371Z",
     "iopub.status.idle": "2020-10-22T03:13:23.916236Z",
     "shell.execute_reply": "2020-10-22T03:13:23.915718Z"
    }
   },
   "outputs": [
    {
     "data": {
      "text/plain": [
       "'Esto es un docstring.\\n'"
      ]
     },
     "execution_count": 1,
     "metadata": {},
     "output_type": "execute_result"
    }
   ],
   "source": [
    "\"\"\"Esto es un docstring.\n",
    "\"\"\""
   ]
  },
  {
   "cell_type": "markdown",
   "metadata": {},
   "source": [
    "### Declaracion de variables"
   ]
  },
  {
   "cell_type": "code",
   "execution_count": 4,
   "metadata": {
    "execution": {
     "iopub.execute_input": "2020-10-22T03:13:23.923039Z",
     "iopub.status.busy": "2020-10-22T03:13:23.921458Z",
     "iopub.status.idle": "2020-10-22T03:13:23.925261Z",
     "shell.execute_reply": "2020-10-22T03:13:23.924703Z"
    }
   },
   "outputs": [
    {
     "name": "stdout",
     "output_type": "stream",
     "text": [
      "Hola\n"
     ]
    }
   ],
   "source": [
    "string = 'Hola'\n",
    "print(string)"
   ]
  },
  {
   "cell_type": "code",
   "execution_count": 5,
   "metadata": {
    "execution": {
     "iopub.execute_input": "2020-10-22T03:13:23.930745Z",
     "iopub.status.busy": "2020-10-22T03:13:23.929231Z",
     "iopub.status.idle": "2020-10-22T03:13:23.932836Z",
     "shell.execute_reply": "2020-10-22T03:13:23.932314Z"
    }
   },
   "outputs": [
    {
     "name": "stdout",
     "output_type": "stream",
     "text": [
      "1\n"
     ]
    }
   ],
   "source": [
    "entero = 1\n",
    "print(entero)"
   ]
  },
  {
   "cell_type": "code",
   "execution_count": 6,
   "metadata": {
    "execution": {
     "iopub.execute_input": "2020-10-22T03:13:23.939202Z",
     "iopub.status.busy": "2020-10-22T03:13:23.937637Z",
     "iopub.status.idle": "2020-10-22T03:13:23.941157Z",
     "shell.execute_reply": "2020-10-22T03:13:23.940636Z"
    }
   },
   "outputs": [
    {
     "name": "stdout",
     "output_type": "stream",
     "text": [
      "1.0\n"
     ]
    }
   ],
   "source": [
    "flotante = 1.0\n",
    "print(flotante)"
   ]
  },
  {
   "cell_type": "code",
   "execution_count": 7,
   "metadata": {
    "execution": {
     "iopub.execute_input": "2020-10-22T03:13:23.945561Z",
     "iopub.status.busy": "2020-10-22T03:13:23.944771Z",
     "iopub.status.idle": "2020-10-22T03:13:23.946922Z",
     "shell.execute_reply": "2020-10-22T03:13:23.947636Z"
    }
   },
   "outputs": [
    {
     "name": "stdout",
     "output_type": "stream",
     "text": [
      "(1, 1.0)\n"
     ]
    }
   ],
   "source": [
    "tupla = (entero, flotante)\n",
    "print(tupla)"
   ]
  },
  {
   "cell_type": "code",
   "execution_count": 8,
   "metadata": {
    "execution": {
     "iopub.execute_input": "2020-10-22T03:13:23.952719Z",
     "iopub.status.busy": "2020-10-22T03:13:23.951738Z",
     "iopub.status.idle": "2020-10-22T03:13:23.954149Z",
     "shell.execute_reply": "2020-10-22T03:13:23.954706Z"
    }
   },
   "outputs": [
    {
     "name": "stdout",
     "output_type": "stream",
     "text": [
      "(1, 1.0, 'Hola')\n"
     ]
    }
   ],
   "source": [
    "nupla = (entero, flotante, string)\n",
    "print(nupla)"
   ]
  },
  {
   "cell_type": "code",
   "execution_count": 9,
   "metadata": {
    "execution": {
     "iopub.execute_input": "2020-10-22T03:13:23.958878Z",
     "iopub.status.busy": "2020-10-22T03:13:23.958245Z",
     "iopub.status.idle": "2020-10-22T03:13:23.960448Z",
     "shell.execute_reply": "2020-10-22T03:13:23.961043Z"
    }
   },
   "outputs": [
    {
     "name": "stdout",
     "output_type": "stream",
     "text": [
      "[1, 1.0, 'Hola']\n"
     ]
    }
   ],
   "source": [
    "lista = [entero, flotante, string]\n",
    "print(lista)"
   ]
  },
  {
   "cell_type": "code",
   "execution_count": 10,
   "metadata": {
    "execution": {
     "iopub.execute_input": "2020-10-22T03:13:23.965440Z",
     "iopub.status.busy": "2020-10-22T03:13:23.964820Z",
     "iopub.status.idle": "2020-10-22T03:13:23.966864Z",
     "shell.execute_reply": "2020-10-22T03:13:23.967511Z"
    }
   },
   "outputs": [
    {
     "name": "stdout",
     "output_type": "stream",
     "text": [
      "{'1': (1, 1.0), 50: (1, 1.0, 'Hola'), '3': 1}\n"
     ]
    }
   ],
   "source": [
    "diccionario = {'1': tupla, 50: nupla, '3': entero}\n",
    "print(diccionario)"
   ]
  },
  {
   "cell_type": "code",
   "execution_count": 11,
   "metadata": {
    "execution": {
     "iopub.execute_input": "2020-10-22T03:13:23.971810Z",
     "iopub.status.busy": "2020-10-22T03:13:23.971162Z",
     "iopub.status.idle": "2020-10-22T03:13:23.973324Z",
     "shell.execute_reply": "2020-10-22T03:13:23.973911Z"
    }
   },
   "outputs": [
    {
     "name": "stdout",
     "output_type": "stream",
     "text": [
      "{1, 2}\n"
     ]
    }
   ],
   "source": [
    "conjunto = set([1, 2])\n",
    "print(conjunto)"
   ]
  },
  {
   "cell_type": "code",
   "execution_count": 12,
   "metadata": {
    "execution": {
     "iopub.execute_input": "2020-10-22T03:13:23.978014Z",
     "iopub.status.busy": "2020-10-22T03:13:23.977393Z",
     "iopub.status.idle": "2020-10-22T03:13:23.979504Z",
     "shell.execute_reply": "2020-10-22T03:13:23.980458Z"
    }
   },
   "outputs": [
    {
     "name": "stdout",
     "output_type": "stream",
     "text": [
      "True\n"
     ]
    }
   ],
   "source": [
    "booleano = True\n",
    "print(booleano)"
   ]
  },
  {
   "cell_type": "code",
   "execution_count": 13,
   "metadata": {
    "execution": {
     "iopub.execute_input": "2020-10-22T03:13:23.984544Z",
     "iopub.status.busy": "2020-10-22T03:13:23.983901Z",
     "iopub.status.idle": "2020-10-22T03:13:23.986056Z",
     "shell.execute_reply": "2020-10-22T03:13:23.986625Z"
    }
   },
   "outputs": [
    {
     "name": "stdout",
     "output_type": "stream",
     "text": [
      "None\n"
     ]
    }
   ],
   "source": [
    "nada = None\n",
    "print(nada)"
   ]
  },
  {
   "cell_type": "markdown",
   "metadata": {},
   "source": [
    "Ojo que las variables pueden cambiar de tipo!"
   ]
  },
  {
   "cell_type": "code",
   "execution_count": 14,
   "metadata": {
    "execution": {
     "iopub.execute_input": "2020-10-22T03:13:23.991021Z",
     "iopub.status.busy": "2020-10-22T03:13:23.990389Z",
     "iopub.status.idle": "2020-10-22T03:13:23.993261Z",
     "shell.execute_reply": "2020-10-22T03:13:23.993765Z"
    }
   },
   "outputs": [
    {
     "name": "stdout",
     "output_type": "stream",
     "text": [
      "1\n",
      "<class 'int'>\n"
     ]
    }
   ],
   "source": [
    "elemento = 1\n",
    "print(elemento)\n",
    "print(type(elemento))"
   ]
  },
  {
   "cell_type": "code",
   "execution_count": 15,
   "metadata": {
    "execution": {
     "iopub.execute_input": "2020-10-22T03:13:23.998536Z",
     "iopub.status.busy": "2020-10-22T03:13:23.997908Z",
     "iopub.status.idle": "2020-10-22T03:13:24.000750Z",
     "shell.execute_reply": "2020-10-22T03:13:24.000175Z"
    }
   },
   "outputs": [
    {
     "name": "stdout",
     "output_type": "stream",
     "text": [
      "1\n",
      "<class 'str'>\n"
     ]
    }
   ],
   "source": [
    "elemento = str(1)\n",
    "print(elemento)\n",
    "print(type(elemento))"
   ]
  },
  {
   "cell_type": "code",
   "execution_count": 16,
   "metadata": {
    "execution": {
     "iopub.execute_input": "2020-10-22T03:13:24.005492Z",
     "iopub.status.busy": "2020-10-22T03:13:24.004705Z",
     "iopub.status.idle": "2020-10-22T03:13:24.007822Z",
     "shell.execute_reply": "2020-10-22T03:13:24.007011Z"
    }
   },
   "outputs": [
    {
     "name": "stdout",
     "output_type": "stream",
     "text": [
      "[2]\n",
      "<class 'list'>\n"
     ]
    }
   ],
   "source": [
    "elemento = [2]\n",
    "\n",
    "print(elemento)\n",
    "print(type(elemento))"
   ]
  },
  {
   "cell_type": "markdown",
   "metadata": {},
   "source": [
    "### Tipos basicos"
   ]
  },
  {
   "cell_type": "markdown",
   "metadata": {
    "slideshow": {
     "slide_type": "slide"
    }
   },
   "source": [
    "#### Listas de Python"
   ]
  },
  {
   "cell_type": "code",
   "execution_count": 17,
   "metadata": {
    "execution": {
     "iopub.execute_input": "2020-10-22T03:13:24.012489Z",
     "iopub.status.busy": "2020-10-22T03:13:24.011846Z",
     "iopub.status.idle": "2020-10-22T03:13:24.015071Z",
     "shell.execute_reply": "2020-10-22T03:13:24.014462Z"
    }
   },
   "outputs": [
    {
     "data": {
      "text/plain": [
       "[]"
      ]
     },
     "execution_count": 1,
     "metadata": {},
     "output_type": "execute_result"
    }
   ],
   "source": [
    "lista = list()\n",
    "lista"
   ]
  },
  {
   "cell_type": "code",
   "execution_count": 18,
   "metadata": {
    "execution": {
     "iopub.execute_input": "2020-10-22T03:13:24.019139Z",
     "iopub.status.busy": "2020-10-22T03:13:24.018523Z",
     "iopub.status.idle": "2020-10-22T03:13:24.023676Z",
     "shell.execute_reply": "2020-10-22T03:13:24.022971Z"
    },
    "slideshow": {
     "slide_type": "slide"
    }
   },
   "outputs": [
    {
     "data": {
      "text/plain": [
       "[]"
      ]
     },
     "execution_count": 1,
     "metadata": {},
     "output_type": "execute_result"
    }
   ],
   "source": [
    "lista = []\n",
    "lista"
   ]
  },
  {
   "cell_type": "code",
   "execution_count": 19,
   "metadata": {
    "execution": {
     "iopub.execute_input": "2020-10-22T03:13:24.028246Z",
     "iopub.status.busy": "2020-10-22T03:13:24.027594Z",
     "iopub.status.idle": "2020-10-22T03:13:24.030338Z",
     "shell.execute_reply": "2020-10-22T03:13:24.030873Z"
    },
    "slideshow": {
     "slide_type": "slide"
    }
   },
   "outputs": [
    {
     "data": {
      "text/plain": [
       "[1, 2, 3, 4]"
      ]
     },
     "execution_count": 1,
     "metadata": {},
     "output_type": "execute_result"
    }
   ],
   "source": [
    "lista = [1, 2, 3, 4]\n",
    "lista"
   ]
  },
  {
   "cell_type": "code",
   "execution_count": 20,
   "metadata": {
    "execution": {
     "iopub.execute_input": "2020-10-22T03:13:24.035415Z",
     "iopub.status.busy": "2020-10-22T03:13:24.034691Z",
     "iopub.status.idle": "2020-10-22T03:13:24.038220Z",
     "shell.execute_reply": "2020-10-22T03:13:24.037639Z"
    },
    "slideshow": {
     "slide_type": "slide"
    }
   },
   "outputs": [
    {
     "data": {
      "text/plain": [
       "[1, 2, 3, 4, 1, 'dos', 3.0]"
      ]
     },
     "execution_count": 1,
     "metadata": {},
     "output_type": "execute_result"
    }
   ],
   "source": [
    "lista.append(1)  # Inserto un 1 al final\n",
    "lista.append(\"dos\")  # Inserto un \"dos\" al final\n",
    "lista.append(3.0)  # Inserto un 3.0 al final\n",
    "lista"
   ]
  },
  {
   "cell_type": "code",
   "execution_count": 21,
   "metadata": {
    "execution": {
     "iopub.execute_input": "2020-10-22T03:13:24.042776Z",
     "iopub.status.busy": "2020-10-22T03:13:24.041909Z",
     "iopub.status.idle": "2020-10-22T03:13:24.044238Z",
     "shell.execute_reply": "2020-10-22T03:13:24.044813Z"
    }
   },
   "outputs": [
    {
     "name": "stdout",
     "output_type": "stream",
     "text": [
      "[1, 2, 10, 3, 4, 1, 'dos', 3.0]\n"
     ]
    }
   ],
   "source": [
    "lista.insert(2, 10)  # Inserto en posicion 2 un 10\n",
    "print(lista)"
   ]
  },
  {
   "cell_type": "code",
   "execution_count": 22,
   "metadata": {
    "execution": {
     "iopub.execute_input": "2020-10-22T03:13:24.048768Z",
     "iopub.status.busy": "2020-10-22T03:13:24.048107Z",
     "iopub.status.idle": "2020-10-22T03:13:24.051051Z",
     "shell.execute_reply": "2020-10-22T03:13:24.051557Z"
    }
   },
   "outputs": [
    {
     "data": {
      "text/plain": [
       "8"
      ]
     },
     "execution_count": 1,
     "metadata": {},
     "output_type": "execute_result"
    }
   ],
   "source": [
    "len(lista)"
   ]
  },
  {
   "cell_type": "code",
   "execution_count": 23,
   "metadata": {
    "execution": {
     "iopub.execute_input": "2020-10-22T03:13:24.055559Z",
     "iopub.status.busy": "2020-10-22T03:13:24.054935Z",
     "iopub.status.idle": "2020-10-22T03:13:24.058305Z",
     "shell.execute_reply": "2020-10-22T03:13:24.057630Z"
    }
   },
   "outputs": [
    {
     "data": {
      "text/plain": [
       "3.0"
      ]
     },
     "execution_count": 1,
     "metadata": {},
     "output_type": "execute_result"
    }
   ],
   "source": [
    "lista.pop()"
   ]
  },
  {
   "cell_type": "code",
   "execution_count": 24,
   "metadata": {
    "execution": {
     "iopub.execute_input": "2020-10-22T03:13:24.062717Z",
     "iopub.status.busy": "2020-10-22T03:13:24.061999Z",
     "iopub.status.idle": "2020-10-22T03:13:24.064826Z",
     "shell.execute_reply": "2020-10-22T03:13:24.065330Z"
    }
   },
   "outputs": [
    {
     "data": {
      "text/plain": [
       "[1, 2, 10, 3, 4, 1, 'dos']"
      ]
     },
     "execution_count": 1,
     "metadata": {},
     "output_type": "execute_result"
    }
   ],
   "source": [
    "lista"
   ]
  },
  {
   "cell_type": "code",
   "execution_count": 25,
   "metadata": {
    "execution": {
     "iopub.execute_input": "2020-10-22T03:13:24.069385Z",
     "iopub.status.busy": "2020-10-22T03:13:24.068800Z",
     "iopub.status.idle": "2020-10-22T03:13:24.072026Z",
     "shell.execute_reply": "2020-10-22T03:13:24.071515Z"
    }
   },
   "outputs": [
    {
     "data": {
      "text/plain": [
       "2"
      ]
     },
     "execution_count": 1,
     "metadata": {},
     "output_type": "execute_result"
    }
   ],
   "source": [
    "lista.index(10)"
   ]
  },
  {
   "cell_type": "code",
   "execution_count": 26,
   "metadata": {
    "execution": {
     "iopub.execute_input": "2020-10-22T03:13:24.077023Z",
     "iopub.status.busy": "2020-10-22T03:13:24.076021Z",
     "iopub.status.idle": "2020-10-22T03:13:24.078581Z",
     "shell.execute_reply": "2020-10-22T03:13:24.079126Z"
    }
   },
   "outputs": [
    {
     "data": {
      "text/plain": [
       "[1, 2, 3, 4, 1, 'dos']"
      ]
     },
     "execution_count": 1,
     "metadata": {},
     "output_type": "execute_result"
    }
   ],
   "source": [
    "lista.remove(10)\n",
    "lista"
   ]
  },
  {
   "cell_type": "code",
   "execution_count": 27,
   "metadata": {
    "execution": {
     "iopub.execute_input": "2020-10-22T03:13:24.086278Z",
     "iopub.status.busy": "2020-10-22T03:13:24.082127Z",
     "iopub.status.idle": "2020-10-22T03:13:24.143447Z",
     "shell.execute_reply": "2020-10-22T03:13:24.142760Z"
    },
    "tags": [
     "raises-exception"
    ]
   },
   "outputs": [
    {
     "name": "stdout",
     "output_type": "stream",
     "text": [
      "1\n",
      "2\n",
      "2\n",
      "3\n",
      "3\n",
      "4\n",
      "4\n",
      "5\n",
      "1\n",
      "2\n",
      "dos\n"
     ]
    },
    {
     "ename": "TypeError",
     "evalue": "can only concatenate str (not \"int\") to str",
     "output_type": "error",
     "traceback": [
      "\u001b[0;31m---------------------------------------------------------------------------\u001b[0m",
      "\u001b[0;31mTypeError\u001b[0m                                 Traceback (most recent call last)",
      "\u001b[0;32m<ipython-input-1-41b56d5cf080>\u001b[0m in \u001b[0;36m<module>\u001b[0;34m\u001b[0m\n\u001b[1;32m      1\u001b[0m \u001b[0;32mfor\u001b[0m \u001b[0melemento\u001b[0m \u001b[0;32min\u001b[0m \u001b[0mlista\u001b[0m\u001b[0;34m:\u001b[0m\u001b[0;34m\u001b[0m\u001b[0;34m\u001b[0m\u001b[0m\n\u001b[1;32m      2\u001b[0m     \u001b[0mprint\u001b[0m\u001b[0;34m(\u001b[0m\u001b[0melemento\u001b[0m\u001b[0;34m)\u001b[0m\u001b[0;34m\u001b[0m\u001b[0;34m\u001b[0m\u001b[0m\n\u001b[0;32m----> 3\u001b[0;31m     \u001b[0mprint\u001b[0m\u001b[0;34m(\u001b[0m\u001b[0melemento\u001b[0m \u001b[0;34m+\u001b[0m \u001b[0;36m1\u001b[0m\u001b[0;34m)\u001b[0m\u001b[0;34m\u001b[0m\u001b[0;34m\u001b[0m\u001b[0m\n\u001b[0m",
      "\u001b[0;31mTypeError\u001b[0m: can only concatenate str (not \"int\") to str"
     ]
    }
   ],
   "source": [
    "for elemento in lista:\n",
    "    print(elemento)\n",
    "    print(elemento + 1)"
   ]
  },
  {
   "cell_type": "code",
   "execution_count": 28,
   "metadata": {
    "execution": {
     "iopub.execute_input": "2020-10-22T03:13:24.246698Z",
     "iopub.status.busy": "2020-10-22T03:13:24.245988Z",
     "iopub.status.idle": "2020-10-22T03:13:24.251120Z",
     "shell.execute_reply": "2020-10-22T03:13:24.251613Z"
    }
   },
   "outputs": [
    {
     "data": {
      "text/plain": [
       "[1, 2, 3, 4, 1, 'dos']"
      ]
     },
     "execution_count": 1,
     "metadata": {},
     "output_type": "execute_result"
    }
   ],
   "source": [
    "lista"
   ]
  },
  {
   "cell_type": "code",
   "execution_count": 29,
   "metadata": {
    "execution": {
     "iopub.execute_input": "2020-10-22T03:13:24.257616Z",
     "iopub.status.busy": "2020-10-22T03:13:24.256891Z",
     "iopub.status.idle": "2020-10-22T03:13:24.260110Z",
     "shell.execute_reply": "2020-10-22T03:13:24.260583Z"
    }
   },
   "outputs": [
    {
     "name": "stdout",
     "output_type": "stream",
     "text": [
      "0-ésimo elemento: 1\n",
      "1-ésimo elemento: 2\n",
      "2-ésimo elemento: 3\n",
      "3-ésimo elemento: 4\n",
      "4-ésimo elemento: 1\n",
      "5-ésimo elemento: dos\n"
     ]
    }
   ],
   "source": [
    "for i, elemento in enumerate(lista):\n",
    "    print(f\"{i}-ésimo elemento: {elemento}\")"
   ]
  },
  {
   "cell_type": "code",
   "execution_count": 30,
   "metadata": {
    "execution": {
     "iopub.execute_input": "2020-10-22T03:13:24.265180Z",
     "iopub.status.busy": "2020-10-22T03:13:24.263944Z",
     "iopub.status.idle": "2020-10-22T03:13:24.270952Z",
     "shell.execute_reply": "2020-10-22T03:13:24.270319Z"
    },
    "tags": [
     "raises-exception"
    ]
   },
   "outputs": [
    {
     "ename": "TypeError",
     "evalue": "'<' not supported between instances of 'str' and 'int'",
     "output_type": "error",
     "traceback": [
      "\u001b[0;31m---------------------------------------------------------------------------\u001b[0m",
      "\u001b[0;31mTypeError\u001b[0m                                 Traceback (most recent call last)",
      "\u001b[0;32m<ipython-input-1-06c3f264dc7a>\u001b[0m in \u001b[0;36m<module>\u001b[0;34m\u001b[0m\n\u001b[0;32m----> 1\u001b[0;31m \u001b[0msorted\u001b[0m\u001b[0;34m(\u001b[0m\u001b[0mlista\u001b[0m\u001b[0;34m)\u001b[0m\u001b[0;34m\u001b[0m\u001b[0;34m\u001b[0m\u001b[0m\n\u001b[0m",
      "\u001b[0;31mTypeError\u001b[0m: '<' not supported between instances of 'str' and 'int'"
     ]
    }
   ],
   "source": [
    "sorted(lista)"
   ]
  },
  {
   "cell_type": "code",
   "execution_count": 31,
   "metadata": {
    "execution": {
     "iopub.execute_input": "2020-10-22T03:13:24.375008Z",
     "iopub.status.busy": "2020-10-22T03:13:24.374391Z",
     "iopub.status.idle": "2020-10-22T03:13:24.377256Z",
     "shell.execute_reply": "2020-10-22T03:13:24.376654Z"
    }
   },
   "outputs": [],
   "source": [
    "lista.remove(\"dos\")"
   ]
  },
  {
   "cell_type": "code",
   "execution_count": 32,
   "metadata": {
    "execution": {
     "iopub.execute_input": "2020-10-22T03:13:24.381795Z",
     "iopub.status.busy": "2020-10-22T03:13:24.381075Z",
     "iopub.status.idle": "2020-10-22T03:13:24.384250Z",
     "shell.execute_reply": "2020-10-22T03:13:24.384705Z"
    }
   },
   "outputs": [
    {
     "data": {
      "text/plain": [
       "[1, 1, 2, 3, 4]"
      ]
     },
     "execution_count": 1,
     "metadata": {},
     "output_type": "execute_result"
    }
   ],
   "source": [
    "sorted(lista)"
   ]
  },
  {
   "cell_type": "code",
   "execution_count": 33,
   "metadata": {
    "execution": {
     "iopub.execute_input": "2020-10-22T03:13:24.392272Z",
     "iopub.status.busy": "2020-10-22T03:13:24.391144Z",
     "iopub.status.idle": "2020-10-22T03:13:24.395188Z",
     "shell.execute_reply": "2020-10-22T03:13:24.395949Z"
    }
   },
   "outputs": [
    {
     "data": {
      "text/plain": [
       "[1, 1, 2, 3, 4]"
      ]
     },
     "execution_count": 1,
     "metadata": {},
     "output_type": "execute_result"
    }
   ],
   "source": [
    "lista.sort()\n",
    "lista"
   ]
  },
  {
   "cell_type": "markdown",
   "metadata": {
    "slideshow": {
     "slide_type": "slide"
    }
   },
   "source": [
    "#### Tuplas de Python\n",
    "\n",
    "Las tuplas son inmutables. No se pueden agregar elementos luego de creadas."
   ]
  },
  {
   "cell_type": "code",
   "execution_count": 34,
   "metadata": {
    "execution": {
     "iopub.execute_input": "2020-10-22T03:13:24.400861Z",
     "iopub.status.busy": "2020-10-22T03:13:24.400166Z",
     "iopub.status.idle": "2020-10-22T03:13:24.407211Z",
     "shell.execute_reply": "2020-10-22T03:13:24.406577Z"
    },
    "slideshow": {
     "slide_type": "slide"
    },
    "tags": [
     "raises-exception"
    ]
   },
   "outputs": [
    {
     "name": "stdout",
     "output_type": "stream",
     "text": [
      "(1, 2)\n",
      "1\n",
      "2\n"
     ]
    },
    {
     "ename": "TypeError",
     "evalue": "'tuple' object does not support item assignment",
     "output_type": "error",
     "traceback": [
      "\u001b[0;31m---------------------------------------------------------------------------\u001b[0m",
      "\u001b[0;31mTypeError\u001b[0m                                 Traceback (most recent call last)",
      "\u001b[0;32m<ipython-input-1-80ca8b547dd6>\u001b[0m in \u001b[0;36m<module>\u001b[0;34m\u001b[0m\n\u001b[1;32m      5\u001b[0m \u001b[0mprint\u001b[0m\u001b[0;34m(\u001b[0m\u001b[0mtupla\u001b[0m\u001b[0;34m[\u001b[0m\u001b[0;36m1\u001b[0m\u001b[0;34m]\u001b[0m\u001b[0;34m)\u001b[0m\u001b[0;34m\u001b[0m\u001b[0;34m\u001b[0m\u001b[0m\n\u001b[1;32m      6\u001b[0m \u001b[0;34m\u001b[0m\u001b[0m\n\u001b[0;32m----> 7\u001b[0;31m \u001b[0mtupla\u001b[0m\u001b[0;34m[\u001b[0m\u001b[0;36m1\u001b[0m\u001b[0;34m]\u001b[0m \u001b[0;34m=\u001b[0m \u001b[0;36m3\u001b[0m  \u001b[0;31m# Falla. No se puede mutar\u001b[0m\u001b[0;34m\u001b[0m\u001b[0;34m\u001b[0m\u001b[0m\n\u001b[0m",
      "\u001b[0;31mTypeError\u001b[0m: 'tuple' object does not support item assignment"
     ]
    }
   ],
   "source": [
    "tupla = (1, 2)\n",
    "\n",
    "print(tupla)\n",
    "print(tupla[0])\n",
    "print(tupla[1])\n",
    "\n",
    "tupla[1] = 3  # Falla. No se puede mutar"
   ]
  },
  {
   "cell_type": "code",
   "execution_count": 35,
   "metadata": {
    "execution": {
     "iopub.execute_input": "2020-10-22T03:13:24.511691Z",
     "iopub.status.busy": "2020-10-22T03:13:24.510821Z",
     "iopub.status.idle": "2020-10-22T03:13:24.516085Z",
     "shell.execute_reply": "2020-10-22T03:13:24.516541Z"
    }
   },
   "outputs": [
    {
     "data": {
      "text/plain": [
       "[1, 2]"
      ]
     },
     "execution_count": 1,
     "metadata": {},
     "output_type": "execute_result"
    }
   ],
   "source": [
    "l = [1, 2]\n",
    "l"
   ]
  },
  {
   "cell_type": "code",
   "execution_count": 36,
   "metadata": {
    "execution": {
     "iopub.execute_input": "2020-10-22T03:13:24.521918Z",
     "iopub.status.busy": "2020-10-22T03:13:24.521307Z",
     "iopub.status.idle": "2020-10-22T03:13:24.524572Z",
     "shell.execute_reply": "2020-10-22T03:13:24.525074Z"
    }
   },
   "outputs": [
    {
     "data": {
      "text/plain": [
       "[1, 3]"
      ]
     },
     "execution_count": 1,
     "metadata": {},
     "output_type": "execute_result"
    }
   ],
   "source": [
    "l[1] = 3\n",
    "l"
   ]
  },
  {
   "cell_type": "markdown",
   "metadata": {
    "slideshow": {
     "slide_type": "slide"
    }
   },
   "source": [
    "#### Diferencia entre lista y tupla\n",
    "Las listas se caracterizan por ser mutables, es decir, se puede cambiar su contenido en tiempo de ejecución, mientras que las tuplas son inmutables ya que no es posible modificar el contenido una vez creada."
   ]
  },
  {
   "cell_type": "markdown",
   "metadata": {},
   "source": [
    "#### Slices\n",
    "\n",
    "**Valen para listas, tuplas o strings (_segmentos_)**"
   ]
  },
  {
   "cell_type": "code",
   "execution_count": 37,
   "metadata": {
    "execution": {
     "iopub.execute_input": "2020-10-22T03:13:24.530721Z",
     "iopub.status.busy": "2020-10-22T03:13:24.529337Z",
     "iopub.status.idle": "2020-10-22T03:13:24.531428Z",
     "shell.execute_reply": "2020-10-22T03:13:24.531887Z"
    }
   },
   "outputs": [],
   "source": [
    "numeros = [0, 1, 2, 3, 4, 5, 6, 7, 8, 9, 10]"
   ]
  },
  {
   "cell_type": "code",
   "execution_count": 38,
   "metadata": {
    "execution": {
     "iopub.execute_input": "2020-10-22T03:13:24.537481Z",
     "iopub.status.busy": "2020-10-22T03:13:24.535980Z",
     "iopub.status.idle": "2020-10-22T03:13:24.539412Z",
     "shell.execute_reply": "2020-10-22T03:13:24.538925Z"
    }
   },
   "outputs": [
    {
     "name": "stdout",
     "output_type": "stream",
     "text": [
      "[0, 1, 2, 3, 4, 5, 6, 7, 8, 9, 10]\n"
     ]
    }
   ],
   "source": [
    "print(numeros)"
   ]
  },
  {
   "cell_type": "code",
   "execution_count": 39,
   "metadata": {
    "execution": {
     "iopub.execute_input": "2020-10-22T03:13:24.544423Z",
     "iopub.status.busy": "2020-10-22T03:13:24.543732Z",
     "iopub.status.idle": "2020-10-22T03:13:24.546184Z",
     "shell.execute_reply": "2020-10-22T03:13:24.546681Z"
    }
   },
   "outputs": [
    {
     "name": "stdout",
     "output_type": "stream",
     "text": [
      "2\n"
     ]
    }
   ],
   "source": [
    "print(numeros[2])  # Imprimo elemento en la posición 2"
   ]
  },
  {
   "cell_type": "code",
   "execution_count": 40,
   "metadata": {
    "execution": {
     "iopub.execute_input": "2020-10-22T03:13:24.551427Z",
     "iopub.status.busy": "2020-10-22T03:13:24.550618Z",
     "iopub.status.idle": "2020-10-22T03:13:24.554354Z",
     "shell.execute_reply": "2020-10-22T03:13:24.553870Z"
    }
   },
   "outputs": [
    {
     "data": {
      "text/plain": [
       "10"
      ]
     },
     "execution_count": 1,
     "metadata": {},
     "output_type": "execute_result"
    }
   ],
   "source": [
    "numeros[len(numeros) - 1]"
   ]
  },
  {
   "cell_type": "code",
   "execution_count": 41,
   "metadata": {
    "execution": {
     "iopub.execute_input": "2020-10-22T03:13:24.559317Z",
     "iopub.status.busy": "2020-10-22T03:13:24.558721Z",
     "iopub.status.idle": "2020-10-22T03:13:24.560712Z",
     "shell.execute_reply": "2020-10-22T03:13:24.561204Z"
    },
    "lines_to_next_cell": 2
   },
   "outputs": [
    {
     "name": "stdout",
     "output_type": "stream",
     "text": [
      "10\n"
     ]
    }
   ],
   "source": [
    "print(numeros[-1])  # # Imprimo elemento en la última posición"
   ]
  },
  {
   "cell_type": "code",
   "execution_count": 42,
   "metadata": {
    "execution": {
     "iopub.execute_input": "2020-10-22T03:13:24.565567Z",
     "iopub.status.busy": "2020-10-22T03:13:24.564821Z",
     "iopub.status.idle": "2020-10-22T03:13:24.568098Z",
     "shell.execute_reply": "2020-10-22T03:13:24.568660Z"
    },
    "lines_to_next_cell": 2
   },
   "outputs": [
    {
     "data": {
      "text/plain": [
       "9"
      ]
     },
     "execution_count": 1,
     "metadata": {},
     "output_type": "execute_result"
    }
   ],
   "source": [
    "numeros[-2]"
   ]
  },
  {
   "cell_type": "code",
   "execution_count": 43,
   "metadata": {
    "execution": {
     "iopub.execute_input": "2020-10-22T03:13:24.572827Z",
     "iopub.status.busy": "2020-10-22T03:13:24.572142Z",
     "iopub.status.idle": "2020-10-22T03:13:24.575074Z",
     "shell.execute_reply": "2020-10-22T03:13:24.574508Z"
    }
   },
   "outputs": [
    {
     "name": "stdout",
     "output_type": "stream",
     "text": [
      "[0, 1, 2]\n"
     ]
    }
   ],
   "source": [
    "print(numeros[0:3])  # Imprimo de la pos 0 a la pos 2"
   ]
  },
  {
   "cell_type": "code",
   "execution_count": 44,
   "metadata": {
    "execution": {
     "iopub.execute_input": "2020-10-22T03:13:24.579092Z",
     "iopub.status.busy": "2020-10-22T03:13:24.578400Z",
     "iopub.status.idle": "2020-10-22T03:13:24.582068Z",
     "shell.execute_reply": "2020-10-22T03:13:24.582569Z"
    }
   },
   "outputs": [
    {
     "name": "stdout",
     "output_type": "stream",
     "text": [
      "[7, 8]\n"
     ]
    }
   ],
   "source": [
    "print(numeros[-4:-2])"
   ]
  },
  {
   "cell_type": "code",
   "execution_count": 45,
   "metadata": {
    "execution": {
     "iopub.execute_input": "2020-10-22T03:13:24.586605Z",
     "iopub.status.busy": "2020-10-22T03:13:24.586041Z",
     "iopub.status.idle": "2020-10-22T03:13:24.589621Z",
     "shell.execute_reply": "2020-10-22T03:13:24.590170Z"
    }
   },
   "outputs": [
    {
     "name": "stdout",
     "output_type": "stream",
     "text": [
      "[0, 1, 2, 3, 4, 5, 6, 7, 8, 9, 10]\n"
     ]
    }
   ],
   "source": [
    "print(numeros[0:80])"
   ]
  },
  {
   "cell_type": "code",
   "execution_count": 46,
   "metadata": {
    "execution": {
     "iopub.execute_input": "2020-10-22T03:13:24.594566Z",
     "iopub.status.busy": "2020-10-22T03:13:24.593960Z",
     "iopub.status.idle": "2020-10-22T03:13:24.597184Z",
     "shell.execute_reply": "2020-10-22T03:13:24.596362Z"
    }
   },
   "outputs": [
    {
     "name": "stdout",
     "output_type": "stream",
     "text": [
      "[0, 1, 2]\n"
     ]
    }
   ],
   "source": [
    "print(numeros[:3])"
   ]
  },
  {
   "cell_type": "code",
   "execution_count": 47,
   "metadata": {
    "execution": {
     "iopub.execute_input": "2020-10-22T03:13:24.601293Z",
     "iopub.status.busy": "2020-10-22T03:13:24.600641Z",
     "iopub.status.idle": "2020-10-22T03:13:24.604751Z",
     "shell.execute_reply": "2020-10-22T03:13:24.603825Z"
    }
   },
   "outputs": [
    {
     "name": "stdout",
     "output_type": "stream",
     "text": [
      "[3, 4, 5, 6, 7, 8, 9, 10]\n"
     ]
    }
   ],
   "source": [
    "print(numeros[3:])"
   ]
  },
  {
   "cell_type": "code",
   "execution_count": 48,
   "metadata": {
    "execution": {
     "iopub.execute_input": "2020-10-22T03:13:24.609165Z",
     "iopub.status.busy": "2020-10-22T03:13:24.608569Z",
     "iopub.status.idle": "2020-10-22T03:13:24.612509Z",
     "shell.execute_reply": "2020-10-22T03:13:24.613011Z"
    }
   },
   "outputs": [
    {
     "name": "stdout",
     "output_type": "stream",
     "text": [
      "[0, 2, 4, 6, 8]\n"
     ]
    }
   ],
   "source": [
    "print(numeros[0:10:2])"
   ]
  },
  {
   "cell_type": "markdown",
   "metadata": {},
   "source": [
    "```python\n",
    "lista[<inicio>:<final>:<step>]\n",
    "```"
   ]
  },
  {
   "cell_type": "code",
   "execution_count": 49,
   "metadata": {
    "execution": {
     "iopub.execute_input": "2020-10-22T03:13:24.617480Z",
     "iopub.status.busy": "2020-10-22T03:13:24.616759Z",
     "iopub.status.idle": "2020-10-22T03:13:24.619702Z",
     "shell.execute_reply": "2020-10-22T03:13:24.620231Z"
    },
    "lines_to_next_cell": 2
   },
   "outputs": [
    {
     "data": {
      "text/plain": [
       "[1, 2, 3, 4]"
      ]
     },
     "execution_count": 1,
     "metadata": {},
     "output_type": "execute_result"
    }
   ],
   "source": [
    "l1 = [1, 2]\n",
    "l2 = [3, 4]\n",
    "l1 + l2"
   ]
  },
  {
   "cell_type": "code",
   "execution_count": 50,
   "metadata": {
    "execution": {
     "iopub.execute_input": "2020-10-22T03:13:24.624870Z",
     "iopub.status.busy": "2020-10-22T03:13:24.624074Z",
     "iopub.status.idle": "2020-10-22T03:13:24.626590Z",
     "shell.execute_reply": "2020-10-22T03:13:24.627163Z"
    }
   },
   "outputs": [
    {
     "name": "stdout",
     "output_type": "stream",
     "text": [
      "[0, 1, 2, 3, 4, 5, 6, 'siete', 8, 9, 10]\n"
     ]
    }
   ],
   "source": [
    "numeros[7] = 'siete'  # Las listas se pueden mutar\n",
    "print(numeros)"
   ]
  },
  {
   "cell_type": "code",
   "execution_count": 51,
   "metadata": {
    "execution": {
     "iopub.execute_input": "2020-10-22T03:13:24.631275Z",
     "iopub.status.busy": "2020-10-22T03:13:24.630461Z",
     "iopub.status.idle": "2020-10-22T03:13:24.633302Z",
     "shell.execute_reply": "2020-10-22T03:13:24.632663Z"
    }
   },
   "outputs": [
    {
     "name": "stdout",
     "output_type": "stream",
     "text": [
      "[10, 9, 8, 'siete', 6, 5, 4, 3, 2, 1, 0]\n"
     ]
    }
   ],
   "source": [
    "numeros = numeros[::-1]\n",
    "print(numeros)"
   ]
  },
  {
   "cell_type": "code",
   "execution_count": 52,
   "metadata": {
    "execution": {
     "iopub.execute_input": "2020-10-22T03:13:24.639489Z",
     "iopub.status.busy": "2020-10-22T03:13:24.636454Z",
     "iopub.status.idle": "2020-10-22T03:13:24.642656Z",
     "shell.execute_reply": "2020-10-22T03:13:24.641919Z"
    },
    "tags": [
     "raises-exception"
    ]
   },
   "outputs": [
    {
     "ename": "IndexError",
     "evalue": "list index out of range",
     "output_type": "error",
     "traceback": [
      "\u001b[0;31m---------------------------------------------------------------------------\u001b[0m",
      "\u001b[0;31mIndexError\u001b[0m                                Traceback (most recent call last)",
      "\u001b[0;32m<ipython-input-1-0ef91dd29a9b>\u001b[0m in \u001b[0;36m<module>\u001b[0;34m\u001b[0m\n\u001b[0;32m----> 1\u001b[0;31m \u001b[0mprint\u001b[0m\u001b[0;34m(\u001b[0m\u001b[0mnumeros\u001b[0m\u001b[0;34m[\u001b[0m\u001b[0;36m15\u001b[0m\u001b[0;34m]\u001b[0m\u001b[0;34m)\u001b[0m  \u001b[0;31m# Falla. No se puede acceder a una posición inexistente\u001b[0m\u001b[0;34m\u001b[0m\u001b[0;34m\u001b[0m\u001b[0m\n\u001b[0m",
      "\u001b[0;31mIndexError\u001b[0m: list index out of range"
     ]
    }
   ],
   "source": [
    "print(numeros[15])  # Falla. No se puede acceder a una posición inexistente"
   ]
  },
  {
   "cell_type": "code",
   "execution_count": 53,
   "metadata": {
    "execution": {
     "iopub.execute_input": "2020-10-22T03:13:24.746825Z",
     "iopub.status.busy": "2020-10-22T03:13:24.746076Z",
     "iopub.status.idle": "2020-10-22T03:13:24.750779Z",
     "shell.execute_reply": "2020-10-22T03:13:24.751302Z"
    }
   },
   "outputs": [
    {
     "name": "stdout",
     "output_type": "stream",
     "text": [
      "palabra\n",
      "a\n",
      "pal\n",
      "abra\n"
     ]
    }
   ],
   "source": [
    "palabra = 'palabra'\n",
    "print(palabra)\n",
    "print(palabra[3])\n",
    "print(palabra[:3])\n",
    "print(palabra[3:])"
   ]
  },
  {
   "cell_type": "code",
   "execution_count": 54,
   "metadata": {
    "execution": {
     "iopub.execute_input": "2020-10-22T03:13:24.756101Z",
     "iopub.status.busy": "2020-10-22T03:13:24.755428Z",
     "iopub.status.idle": "2020-10-22T03:13:24.759939Z",
     "shell.execute_reply": "2020-10-22T03:13:24.760367Z"
    }
   },
   "outputs": [
    {
     "name": "stdout",
     "output_type": "stream",
     "text": [
      "(0, 1, 2, 3, 4)\n",
      "(0, 1)\n",
      "(2, 3, 4)\n"
     ]
    }
   ],
   "source": [
    "tupla = (0, 1, 2, 3, 4)\n",
    "\n",
    "print(tupla)\n",
    "print(tupla[:2])\n",
    "print(tupla[2:])"
   ]
  },
  {
   "cell_type": "markdown",
   "metadata": {
    "slideshow": {
     "slide_type": "slide"
    }
   },
   "source": [
    "#### Diccionarios de Python\n",
    "\n",
    "Son como hashmaps, las claves deben ser inmutables para que no pierda sentido el diccionario. Si se pudieran modificar, se podrían cambiar las claves y generaría conflictos.\n",
    "\n",
    "Tipos mutables:\n",
    "- Listas\n",
    "- Diccionarios\n",
    "- Sets\n",
    "\n",
    "Tipos inmutables:\n",
    "- Int\n",
    "- Float\n",
    "- String\n",
    "- Tuplas\n"
   ]
  },
  {
   "cell_type": "code",
   "execution_count": 55,
   "metadata": {
    "execution": {
     "iopub.execute_input": "2020-10-22T03:13:24.766531Z",
     "iopub.status.busy": "2020-10-22T03:13:24.765980Z",
     "iopub.status.idle": "2020-10-22T03:13:24.771917Z",
     "shell.execute_reply": "2020-10-22T03:13:24.771070Z"
    },
    "slideshow": {
     "slide_type": "slide"
    }
   },
   "outputs": [
    {
     "data": {
      "text/plain": [
       "{}"
      ]
     },
     "execution_count": 1,
     "metadata": {},
     "output_type": "execute_result"
    }
   ],
   "source": [
    "diccionario = {}\n",
    "diccionario"
   ]
  },
  {
   "cell_type": "code",
   "execution_count": 56,
   "metadata": {
    "execution": {
     "iopub.execute_input": "2020-10-22T03:13:24.775825Z",
     "iopub.status.busy": "2020-10-22T03:13:24.775223Z",
     "iopub.status.idle": "2020-10-22T03:13:24.781409Z",
     "shell.execute_reply": "2020-10-22T03:13:24.780756Z"
    }
   },
   "outputs": [
    {
     "data": {
      "text/plain": [
       "{}"
      ]
     },
     "execution_count": 1,
     "metadata": {},
     "output_type": "execute_result"
    }
   ],
   "source": [
    "diccionario = dict()\n",
    "diccionario"
   ]
  },
  {
   "cell_type": "code",
   "execution_count": 57,
   "metadata": {
    "execution": {
     "iopub.execute_input": "2020-10-22T03:13:24.787151Z",
     "iopub.status.busy": "2020-10-22T03:13:24.785563Z",
     "iopub.status.idle": "2020-10-22T03:13:24.789528Z",
     "shell.execute_reply": "2020-10-22T03:13:24.788774Z"
    },
    "slideshow": {
     "slide_type": "slide"
    }
   },
   "outputs": [
    {
     "name": "stdout",
     "output_type": "stream",
     "text": [
      "{'clave1': 'valor1', 2: 'valor2', 'clave3': 3}\n"
     ]
    }
   ],
   "source": [
    "# Cómo agregar cosas al diccionario\n",
    "diccionario['clave1'] = 'valor1'\n",
    "diccionario[2] = 'valor2'\n",
    "diccionario['clave3'] = 3\n",
    "print(diccionario)"
   ]
  },
  {
   "cell_type": "markdown",
   "metadata": {},
   "source": [
    "Hay dos formas de obtener valores de un diccionario:\n",
    "\n",
    "```python\n",
    "diccionario[clave]\n",
    "```\n",
    "\n",
    "El cual devuelve el valor si existe la clave suministrada o bien lanza `KeyError` si no existe."
   ]
  },
  {
   "cell_type": "code",
   "execution_count": 58,
   "metadata": {
    "execution": {
     "iopub.execute_input": "2020-10-22T03:13:24.795591Z",
     "iopub.status.busy": "2020-10-22T03:13:24.794735Z",
     "iopub.status.idle": "2020-10-22T03:13:24.797731Z",
     "shell.execute_reply": "2020-10-22T03:13:24.798248Z"
    }
   },
   "outputs": [
    {
     "data": {
      "text/plain": [
       "'valor1'"
      ]
     },
     "execution_count": 1,
     "metadata": {},
     "output_type": "execute_result"
    }
   ],
   "source": [
    "diccionario['clave1']"
   ]
  },
  {
   "cell_type": "code",
   "execution_count": 59,
   "metadata": {
    "execution": {
     "iopub.execute_input": "2020-10-22T03:13:24.805209Z",
     "iopub.status.busy": "2020-10-22T03:13:24.801407Z",
     "iopub.status.idle": "2020-10-22T03:13:24.808490Z",
     "shell.execute_reply": "2020-10-22T03:13:24.807576Z"
    },
    "tags": [
     "raises-exception"
    ]
   },
   "outputs": [
    {
     "ename": "KeyError",
     "evalue": "'clave1000'",
     "output_type": "error",
     "traceback": [
      "\u001b[0;31m---------------------------------------------------------------------------\u001b[0m",
      "\u001b[0;31mKeyError\u001b[0m                                  Traceback (most recent call last)",
      "\u001b[0;32m<ipython-input-1-41aae9a2e5ed>\u001b[0m in \u001b[0;36m<module>\u001b[0;34m\u001b[0m\n\u001b[0;32m----> 1\u001b[0;31m \u001b[0mdiccionario\u001b[0m\u001b[0;34m[\u001b[0m\u001b[0;34m'clave1000'\u001b[0m\u001b[0;34m]\u001b[0m\u001b[0;34m\u001b[0m\u001b[0;34m\u001b[0m\u001b[0m\n\u001b[0m",
      "\u001b[0;31mKeyError\u001b[0m: 'clave1000'"
     ]
    }
   ],
   "source": [
    "diccionario['clave1000']"
   ]
  },
  {
   "cell_type": "markdown",
   "metadata": {},
   "source": [
    "La segunda forma es con `get`:"
   ]
  },
  {
   "cell_type": "code",
   "execution_count": 60,
   "metadata": {
    "execution": {
     "iopub.execute_input": "2020-10-22T03:13:24.945564Z",
     "iopub.status.busy": "2020-10-22T03:13:24.930110Z",
     "iopub.status.idle": "2020-10-22T03:13:24.956370Z",
     "shell.execute_reply": "2020-10-22T03:13:24.956858Z"
    }
   },
   "outputs": [],
   "source": [
    "diccionario.get?"
   ]
  },
  {
   "cell_type": "code",
   "execution_count": 61,
   "metadata": {
    "execution": {
     "iopub.execute_input": "2020-10-22T03:13:24.963296Z",
     "iopub.status.busy": "2020-10-22T03:13:24.961763Z",
     "iopub.status.idle": "2020-10-22T03:13:24.965491Z",
     "shell.execute_reply": "2020-10-22T03:13:24.964932Z"
    }
   },
   "outputs": [
    {
     "name": "stdout",
     "output_type": "stream",
     "text": [
      "Help on built-in function get:\n",
      "\n",
      "get(key, default=None, /) method of builtins.dict instance\n",
      "    Return the value for key if key is in the dictionary, else default.\n",
      "\n"
     ]
    }
   ],
   "source": [
    "help(diccionario.get)"
   ]
  },
  {
   "cell_type": "code",
   "execution_count": 62,
   "metadata": {
    "execution": {
     "iopub.execute_input": "2020-10-22T03:13:24.970970Z",
     "iopub.status.busy": "2020-10-22T03:13:24.969427Z",
     "iopub.status.idle": "2020-10-22T03:13:24.972946Z",
     "shell.execute_reply": "2020-10-22T03:13:24.972372Z"
    },
    "slideshow": {
     "slide_type": "slide"
    }
   },
   "outputs": [
    {
     "name": "stdout",
     "output_type": "stream",
     "text": [
      "None\n"
     ]
    }
   ],
   "source": [
    "print(diccionario.get('clave1000'))"
   ]
  },
  {
   "cell_type": "code",
   "execution_count": 63,
   "metadata": {
    "execution": {
     "iopub.execute_input": "2020-10-22T03:13:24.978987Z",
     "iopub.status.busy": "2020-10-22T03:13:24.976868Z",
     "iopub.status.idle": "2020-10-22T03:13:24.981053Z",
     "shell.execute_reply": "2020-10-22T03:13:24.979616Z"
    },
    "slideshow": {
     "slide_type": "slide"
    }
   },
   "outputs": [
    {
     "name": "stdout",
     "output_type": "stream",
     "text": [
      "True\n"
     ]
    }
   ],
   "source": [
    "print('clave1' in diccionario)  # Verifico si la clave está en el diccionario"
   ]
  },
  {
   "cell_type": "code",
   "execution_count": 64,
   "metadata": {
    "execution": {
     "iopub.execute_input": "2020-10-22T03:13:24.985512Z",
     "iopub.status.busy": "2020-10-22T03:13:24.983634Z",
     "iopub.status.idle": "2020-10-22T03:13:24.988094Z",
     "shell.execute_reply": "2020-10-22T03:13:24.988567Z"
    }
   },
   "outputs": [
    {
     "data": {
      "text/plain": [
       "True"
      ]
     },
     "execution_count": 1,
     "metadata": {},
     "output_type": "execute_result"
    }
   ],
   "source": [
    "l = [1, 2, 3, 4]\n",
    "2 in l"
   ]
  },
  {
   "cell_type": "code",
   "execution_count": 65,
   "metadata": {
    "execution": {
     "iopub.execute_input": "2020-10-22T03:13:24.994659Z",
     "iopub.status.busy": "2020-10-22T03:13:24.993144Z",
     "iopub.status.idle": "2020-10-22T03:13:24.996814Z",
     "shell.execute_reply": "2020-10-22T03:13:24.996245Z"
    }
   },
   "outputs": [
    {
     "name": "stdout",
     "output_type": "stream",
     "text": [
      "la clave es clave1 y el valor es valor1\n",
      "la clave es 2 y el valor es valor2\n",
      "la clave es clave3 y el valor es 3\n"
     ]
    }
   ],
   "source": [
    "for clave, valor in diccionario.items():\n",
    "    print(\"la clave es %s y el valor es %s\" % (clave, valor))"
   ]
  },
  {
   "cell_type": "code",
   "execution_count": 66,
   "metadata": {
    "execution": {
     "iopub.execute_input": "2020-10-22T03:13:25.002705Z",
     "iopub.status.busy": "2020-10-22T03:13:25.001192Z",
     "iopub.status.idle": "2020-10-22T03:13:25.004757Z",
     "shell.execute_reply": "2020-10-22T03:13:25.004210Z"
    }
   },
   "outputs": [
    {
     "name": "stdout",
     "output_type": "stream",
     "text": [
      "la clave es clave1 y el valor es valor1\n",
      "la clave es 2 y el valor es valor2\n",
      "la clave es clave3 y el valor es 3\n"
     ]
    }
   ],
   "source": [
    "for clave, valor in diccionario.items():\n",
    "    print(\"la clave es {} y el valor es {}\".format(clave, valor))"
   ]
  },
  {
   "cell_type": "code",
   "execution_count": 67,
   "metadata": {
    "execution": {
     "iopub.execute_input": "2020-10-22T03:13:25.010752Z",
     "iopub.status.busy": "2020-10-22T03:13:25.009810Z",
     "iopub.status.idle": "2020-10-22T03:13:25.012974Z",
     "shell.execute_reply": "2020-10-22T03:13:25.012433Z"
    },
    "slideshow": {
     "slide_type": "slide"
    }
   },
   "outputs": [
    {
     "name": "stdout",
     "output_type": "stream",
     "text": [
      "la clave es clave1 y el valor es valor1\n",
      "la clave es 2 y el valor es valor2\n",
      "la clave es clave3 y el valor es 3\n"
     ]
    }
   ],
   "source": [
    "# Cómo iterar un diccionario elemento por elemento\n",
    "for (\n",
    "    clave,\n",
    "    valor,\n",
    ") in (\n",
    "    diccionario.items()\n",
    "):  # diccionario.items() va devolviendo tuplas con el formato (clave,valor)\n",
    "    print(\n",
    "        f\"la clave es {clave} y el valor es {valor}\"\n",
    "    )  # con esta sintaxis se desempaquetan en clave y valor (similar a enumerate)"
   ]
  },
  {
   "cell_type": "code",
   "execution_count": 68,
   "metadata": {
    "execution": {
     "iopub.execute_input": "2020-10-22T03:13:25.018710Z",
     "iopub.status.busy": "2020-10-22T03:13:25.017300Z",
     "iopub.status.idle": "2020-10-22T03:13:25.020527Z",
     "shell.execute_reply": "2020-10-22T03:13:25.020009Z"
    },
    "slideshow": {
     "slide_type": "slide"
    }
   },
   "outputs": [
    {
     "name": "stdout",
     "output_type": "stream",
     "text": [
      "clave1\n",
      "2\n",
      "clave3\n"
     ]
    }
   ],
   "source": [
    "for clave in diccionario.keys():\n",
    "    print(clave)"
   ]
  },
  {
   "cell_type": "code",
   "execution_count": 69,
   "metadata": {
    "execution": {
     "iopub.execute_input": "2020-10-22T03:13:25.025611Z",
     "iopub.status.busy": "2020-10-22T03:13:25.025004Z",
     "iopub.status.idle": "2020-10-22T03:13:25.033570Z",
     "shell.execute_reply": "2020-10-22T03:13:25.034005Z"
    },
    "slideshow": {
     "slide_type": "slide"
    }
   },
   "outputs": [
    {
     "name": "stdout",
     "output_type": "stream",
     "text": [
      "valor1\n",
      "valor2\n",
      "3\n"
     ]
    }
   ],
   "source": [
    "for valor in diccionario.values():\n",
    "    print(valor)"
   ]
  },
  {
   "cell_type": "markdown",
   "metadata": {},
   "source": [
    "#### Sets\n",
    "\n",
    "Son similares a los diccionarios (en eficiencia) pero se almacenan solo claves, y tienen algunas operaciones particulares.\n",
    "\n",
    "En particular, no pueden tener elementos iguales (pensar que son conjuntos)"
   ]
  },
  {
   "cell_type": "code",
   "execution_count": 70,
   "metadata": {
    "execution": {
     "iopub.execute_input": "2020-10-22T03:13:25.037971Z",
     "iopub.status.busy": "2020-10-22T03:13:25.037416Z",
     "iopub.status.idle": "2020-10-22T03:13:25.041909Z",
     "shell.execute_reply": "2020-10-22T03:13:25.041415Z"
    }
   },
   "outputs": [],
   "source": [
    "set??"
   ]
  },
  {
   "cell_type": "code",
   "execution_count": 71,
   "metadata": {
    "execution": {
     "iopub.execute_input": "2020-10-22T03:13:25.047184Z",
     "iopub.status.busy": "2020-10-22T03:13:25.046301Z",
     "iopub.status.idle": "2020-10-22T03:13:25.049278Z",
     "shell.execute_reply": "2020-10-22T03:13:25.049761Z"
    }
   },
   "outputs": [
    {
     "data": {
      "text/plain": [
       "{1, 2, 3}"
      ]
     },
     "execution_count": 1,
     "metadata": {},
     "output_type": "execute_result"
    }
   ],
   "source": [
    "# Se definen como los diccionarios pero sin hacerlos 'clave:valor', solamente una seguidilla de elementos\n",
    "{1, 2, 2, 3}"
   ]
  },
  {
   "cell_type": "code",
   "execution_count": 72,
   "metadata": {
    "execution": {
     "iopub.execute_input": "2020-10-22T03:13:25.054774Z",
     "iopub.status.busy": "2020-10-22T03:13:25.054184Z",
     "iopub.status.idle": "2020-10-22T03:13:25.057119Z",
     "shell.execute_reply": "2020-10-22T03:13:25.057642Z"
    }
   },
   "outputs": [
    {
     "data": {
      "text/plain": [
       "{1, 2, 3}"
      ]
     },
     "execution_count": 1,
     "metadata": {},
     "output_type": "execute_result"
    }
   ],
   "source": [
    "set([1, 2, 2, 3])"
   ]
  },
  {
   "cell_type": "markdown",
   "metadata": {},
   "source": [
    "## Condicionales (if...elif...else)\n",
    "\n",
    "```python\n",
    "if <condición_1>:\n",
    "    <hacer algo_1 si se da la condición_1>\n",
    "elif <condición_2>:\n",
    "    <hacer algo_2 si se da la condición_2>\n",
    "...\n",
    "elif <condición_n>:\n",
    "    <hacer algo_n si se da la condición_n>\n",
    "else:\n",
    "    <hacer otra cosa si no dan las anteriores>\n",
    "```\n",
    "\n",
    "Algo importante para notar es que los bloques se definen por **niveles de identacion**."
   ]
  },
  {
   "cell_type": "code",
   "execution_count": 73,
   "metadata": {
    "execution": {
     "iopub.execute_input": "2020-10-22T03:13:25.064329Z",
     "iopub.status.busy": "2020-10-22T03:13:25.062626Z",
     "iopub.status.idle": "2020-10-22T03:13:25.066244Z",
     "shell.execute_reply": "2020-10-22T03:13:25.065723Z"
    }
   },
   "outputs": [
    {
     "name": "stdout",
     "output_type": "stream",
     "text": [
      "uno\n"
     ]
    }
   ],
   "source": [
    "v = 1\n",
    "if v == 1:\n",
    "    print(\"uno\")\n",
    "elif v == 2:\n",
    "    print(\"dos\")\n",
    "else:\n",
    "    print(\"ni idea\")\n",
    "    print(v)"
   ]
  },
  {
   "cell_type": "markdown",
   "metadata": {},
   "source": [
    "## Iteraciones\n",
    "\n",
    "```python\n",
    "while cond:\n",
    "    <codigo>\n",
    "```\n",
    "\n",
    "```python\n",
    "for elemento in iterable:\n",
    "    <codigo>\n",
    "```\n",
    "\n",
    "Para iterar sobre un rango de valores, usamos `range`"
   ]
  },
  {
   "cell_type": "code",
   "execution_count": 74,
   "metadata": {
    "execution": {
     "iopub.execute_input": "2020-10-22T03:13:25.071841Z",
     "iopub.status.busy": "2020-10-22T03:13:25.070541Z",
     "iopub.status.idle": "2020-10-22T03:13:25.074691Z",
     "shell.execute_reply": "2020-10-22T03:13:25.073438Z"
    }
   },
   "outputs": [
    {
     "name": "stdout",
     "output_type": "stream",
     "text": [
      "1\n",
      "4\n",
      "7\n",
      "10\n"
     ]
    }
   ],
   "source": [
    "for i in range(1, 11, 3):\n",
    "    print(i)"
   ]
  },
  {
   "cell_type": "markdown",
   "metadata": {},
   "source": [
    "## Operadores logicos\n",
    "\n",
    "`not`, `or`, `and`"
   ]
  },
  {
   "cell_type": "code",
   "execution_count": 75,
   "metadata": {
    "execution": {
     "iopub.execute_input": "2020-10-22T03:13:25.081590Z",
     "iopub.status.busy": "2020-10-22T03:13:25.080609Z",
     "iopub.status.idle": "2020-10-22T03:13:25.087361Z",
     "shell.execute_reply": "2020-10-22T03:13:25.086871Z"
    }
   },
   "outputs": [
    {
     "name": "stdout",
     "output_type": "stream",
     "text": [
      "yay\n"
     ]
    }
   ],
   "source": [
    "if True or False:\n",
    "    print(\"yay\")"
   ]
  },
  {
   "cell_type": "code",
   "execution_count": 76,
   "metadata": {
    "execution": {
     "iopub.execute_input": "2020-10-22T03:13:25.093188Z",
     "iopub.status.busy": "2020-10-22T03:13:25.092022Z",
     "iopub.status.idle": "2020-10-22T03:13:25.095100Z",
     "shell.execute_reply": "2020-10-22T03:13:25.095566Z"
    }
   },
   "outputs": [
    {
     "data": {
      "text/plain": [
       "False"
      ]
     },
     "execution_count": 1,
     "metadata": {},
     "output_type": "execute_result"
    }
   ],
   "source": [
    "1 == 2"
   ]
  },
  {
   "cell_type": "code",
   "execution_count": 77,
   "metadata": {
    "execution": {
     "iopub.execute_input": "2020-10-22T03:13:25.100093Z",
     "iopub.status.busy": "2020-10-22T03:13:25.099499Z",
     "iopub.status.idle": "2020-10-22T03:13:25.102482Z",
     "shell.execute_reply": "2020-10-22T03:13:25.102916Z"
    }
   },
   "outputs": [
    {
     "data": {
      "text/plain": [
       "True"
      ]
     },
     "execution_count": 1,
     "metadata": {},
     "output_type": "execute_result"
    }
   ],
   "source": [
    "1 != 2"
   ]
  },
  {
   "cell_type": "markdown",
   "metadata": {
    "slideshow": {
     "slide_type": "slide"
    }
   },
   "source": [
    "## Funciones en Python"
   ]
  },
  {
   "cell_type": "code",
   "execution_count": 78,
   "metadata": {
    "execution": {
     "iopub.execute_input": "2020-10-22T03:13:25.112148Z",
     "iopub.status.busy": "2020-10-22T03:13:25.110653Z",
     "iopub.status.idle": "2020-10-22T03:13:25.114042Z",
     "shell.execute_reply": "2020-10-22T03:13:25.113558Z"
    },
    "slideshow": {
     "slide_type": "slide"
    }
   },
   "outputs": [
    {
     "name": "stdout",
     "output_type": "stream",
     "text": [
      "True\n",
      "False\n"
     ]
    }
   ],
   "source": [
    "def busqueda_binaria(lista, elemento):\n",
    "    if not lista:\n",
    "        return False\n",
    "    elif len(lista) == 1:\n",
    "        return lista[0] == elemento\n",
    "    mitad = len(lista) // 2  # // es la operación división entera\n",
    "    if lista[mitad] == elemento:\n",
    "        return True\n",
    "    if lista[mitad] > elemento:\n",
    "        return busqueda_binaria(lista[:mitad], elemento)\n",
    "    if lista[mitad] < elemento:\n",
    "        return busqueda_binaria(lista[mitad:], elemento)\n",
    "\n",
    "\n",
    "print(busqueda_binaria([1, 2, 3, 4, 5], 4))\n",
    "print(busqueda_binaria([1, 4, 6, 7, 9, 10], 2))"
   ]
  },
  {
   "cell_type": "code",
   "execution_count": 79,
   "metadata": {
    "execution": {
     "iopub.execute_input": "2020-10-22T03:13:25.119902Z",
     "iopub.status.busy": "2020-10-22T03:13:25.118353Z",
     "iopub.status.idle": "2020-10-22T03:13:25.122298Z",
     "shell.execute_reply": "2020-10-22T03:13:25.121709Z"
    }
   },
   "outputs": [
    {
     "name": "stdout",
     "output_type": "stream",
     "text": [
      "(3, 3, 3)\n"
     ]
    }
   ],
   "source": [
    "def a(b):\n",
    "    if a == 1:\n",
    "        print(a)\n",
    "    return (b, b, b)\n",
    "\n",
    "\n",
    "print(a(3))"
   ]
  },
  {
   "cell_type": "code",
   "execution_count": 80,
   "metadata": {
    "execution": {
     "iopub.execute_input": "2020-10-22T03:13:25.132043Z",
     "iopub.status.busy": "2020-10-22T03:13:25.131467Z",
     "iopub.status.idle": "2020-10-22T03:13:25.140141Z",
     "shell.execute_reply": "2020-10-22T03:13:25.139589Z"
    },
    "lines_to_next_cell": 2,
    "slideshow": {
     "slide_type": "slide"
    },
    "tags": [
     "raises-exception"
    ]
   },
   "outputs": [
    {
     "name": "stdout",
     "output_type": "stream",
     "text": [
      "3\n",
      "3.0\n",
      "3.0\n",
      "hola como te va\n",
      "[1, 2, 3, 4, 5]\n"
     ]
    },
    {
     "ename": "TypeError",
     "evalue": "can only concatenate str (not \"int\") to str",
     "output_type": "error",
     "traceback": [
      "\u001b[0;31m---------------------------------------------------------------------------\u001b[0m",
      "\u001b[0;31mTypeError\u001b[0m                                 Traceback (most recent call last)",
      "\u001b[0;32m<ipython-input-1-c2a6a99a90c7>\u001b[0m in \u001b[0;36m<module>\u001b[0;34m\u001b[0m\n\u001b[1;32m      8\u001b[0m \u001b[0mprint\u001b[0m\u001b[0;34m(\u001b[0m\u001b[0msuma\u001b[0m\u001b[0;34m(\u001b[0m\u001b[0;34m\"hola \"\u001b[0m\u001b[0;34m,\u001b[0m \u001b[0;34m\"como te va\"\u001b[0m\u001b[0;34m)\u001b[0m\u001b[0;34m)\u001b[0m\u001b[0;34m\u001b[0m\u001b[0;34m\u001b[0m\u001b[0m\n\u001b[1;32m      9\u001b[0m \u001b[0mprint\u001b[0m\u001b[0;34m(\u001b[0m\u001b[0msuma\u001b[0m\u001b[0;34m(\u001b[0m\u001b[0;34m[\u001b[0m\u001b[0;36m1\u001b[0m\u001b[0;34m,\u001b[0m \u001b[0;36m2\u001b[0m\u001b[0;34m,\u001b[0m \u001b[0;36m3\u001b[0m\u001b[0;34m]\u001b[0m\u001b[0;34m,\u001b[0m \u001b[0;34m[\u001b[0m\u001b[0;36m4\u001b[0m\u001b[0;34m,\u001b[0m \u001b[0;36m5\u001b[0m\u001b[0;34m]\u001b[0m\u001b[0;34m)\u001b[0m\u001b[0;34m)\u001b[0m\u001b[0;34m\u001b[0m\u001b[0;34m\u001b[0m\u001b[0m\n\u001b[0;32m---> 10\u001b[0;31m \u001b[0mprint\u001b[0m\u001b[0;34m(\u001b[0m\u001b[0msuma\u001b[0m\u001b[0;34m(\u001b[0m\u001b[0;34m\"1\"\u001b[0m\u001b[0;34m,\u001b[0m \u001b[0;36m3\u001b[0m\u001b[0;34m)\u001b[0m\u001b[0;34m)\u001b[0m  \u001b[0;31m# Falla\u001b[0m\u001b[0;34m\u001b[0m\u001b[0;34m\u001b[0m\u001b[0m\n\u001b[0m",
      "\u001b[0;32m<ipython-input-1-c2a6a99a90c7>\u001b[0m in \u001b[0;36msuma\u001b[0;34m(a, b)\u001b[0m\n\u001b[1;32m      1\u001b[0m \u001b[0;32mdef\u001b[0m \u001b[0msuma\u001b[0m\u001b[0;34m(\u001b[0m\u001b[0ma\u001b[0m\u001b[0;34m,\u001b[0m \u001b[0mb\u001b[0m\u001b[0;34m)\u001b[0m\u001b[0;34m:\u001b[0m\u001b[0;34m\u001b[0m\u001b[0;34m\u001b[0m\u001b[0m\n\u001b[0;32m----> 2\u001b[0;31m     \u001b[0;32mreturn\u001b[0m \u001b[0ma\u001b[0m \u001b[0;34m+\u001b[0m \u001b[0mb\u001b[0m\u001b[0;34m\u001b[0m\u001b[0;34m\u001b[0m\u001b[0m\n\u001b[0m\u001b[1;32m      3\u001b[0m \u001b[0;34m\u001b[0m\u001b[0m\n\u001b[1;32m      4\u001b[0m \u001b[0;34m\u001b[0m\u001b[0m\n\u001b[1;32m      5\u001b[0m \u001b[0mprint\u001b[0m\u001b[0;34m(\u001b[0m\u001b[0msuma\u001b[0m\u001b[0;34m(\u001b[0m\u001b[0;36m1\u001b[0m\u001b[0;34m,\u001b[0m \u001b[0;36m2\u001b[0m\u001b[0;34m)\u001b[0m\u001b[0;34m)\u001b[0m\u001b[0;34m\u001b[0m\u001b[0;34m\u001b[0m\u001b[0m\n",
      "\u001b[0;31mTypeError\u001b[0m: can only concatenate str (not \"int\") to str"
     ]
    }
   ],
   "source": [
    "def suma(a, b):\n",
    "    return a + b\n",
    "\n",
    "\n",
    "print(suma(1, 2))\n",
    "print(suma(1.0, 2.0))\n",
    "print(suma(1.0, 2))\n",
    "print(suma(\"hola \", \"como te va\"))\n",
    "print(suma([1, 2, 3], [4, 5]))\n",
    "print(suma(\"1\", 3))  # Falla"
   ]
  },
  {
   "cell_type": "code",
   "execution_count": 81,
   "metadata": {
    "execution": {
     "iopub.execute_input": "2020-10-22T03:13:25.243289Z",
     "iopub.status.busy": "2020-10-22T03:13:25.242315Z",
     "iopub.status.idle": "2020-10-22T03:13:25.247628Z",
     "shell.execute_reply": "2020-10-22T03:13:25.247130Z"
    }
   },
   "outputs": [
    {
     "name": "stdout",
     "output_type": "stream",
     "text": [
      "2.0\n"
     ]
    }
   ],
   "source": [
    "# El valor por default de divisor es 1\n",
    "\n",
    "\n",
    "def division(dividendo, divisor=2):\n",
    "    return dividendo / divisor\n",
    "\n",
    "\n",
    "print(division(4))  # Usa el valor por default"
   ]
  },
  {
   "cell_type": "code",
   "execution_count": 82,
   "metadata": {
    "execution": {
     "iopub.execute_input": "2020-10-22T03:13:25.261885Z",
     "iopub.status.busy": "2020-10-22T03:13:25.260951Z",
     "iopub.status.idle": "2020-10-22T03:13:25.264454Z",
     "shell.execute_reply": "2020-10-22T03:13:25.262482Z"
    },
    "tags": [
     "raises-exception"
    ]
   },
   "outputs": [
    {
     "name": "stdout",
     "output_type": "stream",
     "text": [
      "0.5\n",
      "0.5\n"
     ]
    },
    {
     "ename": "TypeError",
     "evalue": "division() missing 1 required positional argument: 'dividendo'",
     "output_type": "error",
     "traceback": [
      "\u001b[0;31m---------------------------------------------------------------------------\u001b[0m",
      "\u001b[0;31mTypeError\u001b[0m                                 Traceback (most recent call last)",
      "\u001b[0;32m<ipython-input-1-34eff3833138>\u001b[0m in \u001b[0;36m<module>\u001b[0;34m\u001b[0m\n\u001b[1;32m      1\u001b[0m \u001b[0mprint\u001b[0m\u001b[0;34m(\u001b[0m\u001b[0mdivision\u001b[0m\u001b[0;34m(\u001b[0m\u001b[0;36m1\u001b[0m\u001b[0;34m,\u001b[0m \u001b[0;36m2\u001b[0m\u001b[0;34m)\u001b[0m\u001b[0;34m)\u001b[0m  \u001b[0;31m# Parámetros por orden\u001b[0m\u001b[0;34m\u001b[0m\u001b[0;34m\u001b[0m\u001b[0m\n\u001b[1;32m      2\u001b[0m \u001b[0mprint\u001b[0m\u001b[0;34m(\u001b[0m\u001b[0mdivision\u001b[0m\u001b[0;34m(\u001b[0m\u001b[0mdividendo\u001b[0m\u001b[0;34m=\u001b[0m\u001b[0;36m1\u001b[0m\u001b[0;34m,\u001b[0m \u001b[0mdivisor\u001b[0m\u001b[0;34m=\u001b[0m\u001b[0;36m2\u001b[0m\u001b[0;34m)\u001b[0m\u001b[0;34m)\u001b[0m  \u001b[0;31m# Parámetros por nombre\u001b[0m\u001b[0;34m\u001b[0m\u001b[0;34m\u001b[0m\u001b[0m\n\u001b[0;32m----> 3\u001b[0;31m \u001b[0mprint\u001b[0m\u001b[0;34m(\u001b[0m\u001b[0mdivision\u001b[0m\u001b[0;34m(\u001b[0m\u001b[0mdivisor\u001b[0m\u001b[0;34m=\u001b[0m\u001b[0;36m2\u001b[0m\u001b[0;34m)\u001b[0m\u001b[0;34m)\u001b[0m\u001b[0;34m\u001b[0m\u001b[0;34m\u001b[0m\u001b[0m\n\u001b[0m",
      "\u001b[0;31mTypeError\u001b[0m: division() missing 1 required positional argument: 'dividendo'"
     ]
    }
   ],
   "source": [
    "print(division(1, 2))  # Parámetros por orden\n",
    "print(division(dividendo=1, divisor=2))  # Parámetros por nombre\n",
    "print(division(divisor=2))"
   ]
  },
  {
   "cell_type": "code",
   "execution_count": 83,
   "metadata": {
    "execution": {
     "iopub.execute_input": "2020-10-22T03:13:25.364353Z",
     "iopub.status.busy": "2020-10-22T03:13:25.363830Z",
     "iopub.status.idle": "2020-10-22T03:13:25.368266Z",
     "shell.execute_reply": "2020-10-22T03:13:25.367753Z"
    }
   },
   "outputs": [
    {
     "name": "stdout",
     "output_type": "stream",
     "text": [
      "0.5\n"
     ]
    }
   ],
   "source": [
    "print(division(divisor=2, dividendo=1))"
   ]
  },
  {
   "cell_type": "code",
   "execution_count": 84,
   "metadata": {
    "execution": {
     "iopub.execute_input": "2020-10-22T03:13:25.375475Z",
     "iopub.status.busy": "2020-10-22T03:13:25.374492Z",
     "iopub.status.idle": "2020-10-22T03:13:25.377162Z",
     "shell.execute_reply": "2020-10-22T03:13:25.377984Z"
    }
   },
   "outputs": [
    {
     "name": "stdout",
     "output_type": "stream",
     "text": [
      "['a', 'b', 'c']\n",
      "[1, 2, 3]\n",
      "['hola', ' don', ' pepito']\n",
      "hola -  don -  pepito\n"
     ]
    }
   ],
   "source": [
    "# Funciones básicas ya en el lenguaje\n",
    "# Hechas para funcionar para distintos tipos\n",
    "\n",
    "string_ordenado = sorted('bca')\n",
    "print(string_ordenado)\n",
    "\n",
    "lista_ordenada = sorted([1, 3, 2])\n",
    "print(lista_ordenada)\n",
    "\n",
    "separadas = \"hola, don, pepito\".split(\",\")\n",
    "print(separadas)\n",
    "unidas = \" - \".join(separadas)\n",
    "print(unidas)"
   ]
  },
  {
   "cell_type": "markdown",
   "metadata": {},
   "source": [
    "## Módulos\n",
    "\n",
    "Para incluir alguna biblioteca de funciones se usa `import`. Pueden ser cosas ya predefinidas en Python (`math`, `random`, etc), nombres de archivos en nuestro directorio (por ejemplo, para `mimodulo.py` ponemos `import mimodulo`) o bibliotecas instaladas por el usuario"
   ]
  },
  {
   "cell_type": "code",
   "execution_count": 85,
   "metadata": {
    "execution": {
     "iopub.execute_input": "2020-10-22T03:13:25.382975Z",
     "iopub.status.busy": "2020-10-22T03:13:25.382361Z",
     "iopub.status.idle": "2020-10-22T03:13:25.385083Z",
     "shell.execute_reply": "2020-10-22T03:13:25.384426Z"
    }
   },
   "outputs": [
    {
     "name": "stdout",
     "output_type": "stream",
     "text": [
      "3.141592653589793\n"
     ]
    }
   ],
   "source": [
    "import math\n",
    "\n",
    "print(math.pi)"
   ]
  },
  {
   "cell_type": "code",
   "execution_count": 86,
   "metadata": {
    "execution": {
     "iopub.execute_input": "2020-10-22T03:13:25.389909Z",
     "iopub.status.busy": "2020-10-22T03:13:25.389292Z",
     "iopub.status.idle": "2020-10-22T03:13:25.391866Z",
     "shell.execute_reply": "2020-10-22T03:13:25.391250Z"
    }
   },
   "outputs": [
    {
     "name": "stdout",
     "output_type": "stream",
     "text": [
      "3.141592653589793 2.718281828459045\n"
     ]
    }
   ],
   "source": [
    "from math import pi, e\n",
    "\n",
    "print(pi, e)"
   ]
  },
  {
   "cell_type": "code",
   "execution_count": 87,
   "metadata": {
    "execution": {
     "iopub.execute_input": "2020-10-22T03:13:25.396018Z",
     "iopub.status.busy": "2020-10-22T03:13:25.395360Z",
     "iopub.status.idle": "2020-10-22T03:13:25.398543Z",
     "shell.execute_reply": "2020-10-22T03:13:25.397965Z"
    }
   },
   "outputs": [
    {
     "data": {
      "text/plain": [
       "2"
      ]
     },
     "execution_count": 1,
     "metadata": {},
     "output_type": "execute_result"
    }
   ],
   "source": [
    "math.gcd(56, 78)"
   ]
  },
  {
   "cell_type": "markdown",
   "metadata": {},
   "source": [
    "## Manejo de excepciones\n",
    "\n",
    "Se pueden encapsular errores esperados en un bloque 'try/except' para evitar cortar el flujo del programa"
   ]
  },
  {
   "cell_type": "code",
   "execution_count": 88,
   "metadata": {
    "execution": {
     "iopub.execute_input": "2020-10-22T03:13:25.407605Z",
     "iopub.status.busy": "2020-10-22T03:13:25.406819Z",
     "iopub.status.idle": "2020-10-22T03:13:25.411085Z",
     "shell.execute_reply": "2020-10-22T03:13:25.410267Z"
    },
    "tags": [
     "raises-exception"
    ]
   },
   "outputs": [
    {
     "ename": "ZeroDivisionError",
     "evalue": "division by zero",
     "output_type": "error",
     "traceback": [
      "\u001b[0;31m---------------------------------------------------------------------------\u001b[0m",
      "\u001b[0;31mZeroDivisionError\u001b[0m                         Traceback (most recent call last)",
      "\u001b[0;32m<ipython-input-1-f031f77b1a55>\u001b[0m in \u001b[0;36m<module>\u001b[0;34m\u001b[0m\n\u001b[0;32m----> 1\u001b[0;31m \u001b[0mdivision\u001b[0m\u001b[0;34m(\u001b[0m\u001b[0;36m1\u001b[0m\u001b[0;34m,\u001b[0m \u001b[0;36m0\u001b[0m\u001b[0;34m)\u001b[0m  \u001b[0;31m# No se puede dividir por cero\u001b[0m\u001b[0;34m\u001b[0m\u001b[0;34m\u001b[0m\u001b[0m\n\u001b[0m",
      "\u001b[0;32m<ipython-input-1-0d991d7de762>\u001b[0m in \u001b[0;36mdivision\u001b[0;34m(dividendo, divisor)\u001b[0m\n\u001b[1;32m      3\u001b[0m \u001b[0;34m\u001b[0m\u001b[0m\n\u001b[1;32m      4\u001b[0m \u001b[0;32mdef\u001b[0m \u001b[0mdivision\u001b[0m\u001b[0;34m(\u001b[0m\u001b[0mdividendo\u001b[0m\u001b[0;34m,\u001b[0m \u001b[0mdivisor\u001b[0m\u001b[0;34m=\u001b[0m\u001b[0;36m2\u001b[0m\u001b[0;34m)\u001b[0m\u001b[0;34m:\u001b[0m\u001b[0;34m\u001b[0m\u001b[0;34m\u001b[0m\u001b[0m\n\u001b[0;32m----> 5\u001b[0;31m     \u001b[0;32mreturn\u001b[0m \u001b[0mdividendo\u001b[0m \u001b[0;34m/\u001b[0m \u001b[0mdivisor\u001b[0m\u001b[0;34m\u001b[0m\u001b[0;34m\u001b[0m\u001b[0m\n\u001b[0m\u001b[1;32m      6\u001b[0m \u001b[0;34m\u001b[0m\u001b[0m\n\u001b[1;32m      7\u001b[0m \u001b[0;34m\u001b[0m\u001b[0m\n",
      "\u001b[0;31mZeroDivisionError\u001b[0m: division by zero"
     ]
    }
   ],
   "source": [
    "division(1, 0)  # No se puede dividir por cero"
   ]
  },
  {
   "cell_type": "code",
   "execution_count": 89,
   "metadata": {
    "execution": {
     "iopub.execute_input": "2020-10-22T03:13:25.515293Z",
     "iopub.status.busy": "2020-10-22T03:13:25.514663Z",
     "iopub.status.idle": "2020-10-22T03:13:25.519818Z",
     "shell.execute_reply": "2020-10-22T03:13:25.519300Z"
    }
   },
   "outputs": [
    {
     "name": "stdout",
     "output_type": "stream",
     "text": [
      "No se puede dividir por cero, ojo! division by zero\n",
      "1\n"
     ]
    }
   ],
   "source": [
    "try:\n",
    "    division(1, 0)\n",
    "except (ZeroDivisionError, TypeError) as e:\n",
    "    print('No se puede dividir por cero, ojo!', e)\n",
    "finally:\n",
    "    print(1)"
   ]
  },
  {
   "cell_type": "markdown",
   "metadata": {
    "slideshow": {
     "slide_type": "slide"
    }
   },
   "source": [
    "## Lectura y escritura de archivos"
   ]
  },
  {
   "cell_type": "code",
   "execution_count": 90,
   "metadata": {
    "execution": {
     "iopub.execute_input": "2020-10-22T03:13:25.524470Z",
     "iopub.status.busy": "2020-10-22T03:13:25.523858Z",
     "iopub.status.idle": "2020-10-22T03:13:25.531256Z",
     "shell.execute_reply": "2020-10-22T03:13:25.530683Z"
    },
    "slideshow": {
     "slide_type": "slide"
    }
   },
   "outputs": [
    {
     "name": "stdout",
     "output_type": "stream",
     "text": [
      "<_io.TextIOWrapper name='archivo.csv' mode='w' encoding='UTF-8'>\n"
     ]
    }
   ],
   "source": [
    "import random\n",
    "\n",
    "with open(\n",
    "    'archivo.csv', 'w'\n",
    ") as archivo:  # Al usar esta sintaxis no es necesario hacer close\n",
    "    archivo.write(\"Alumno, nota\\n\")\n",
    "    # Tambien de forma similar al fprintf se puede hacer:\n",
    "    # print(\"Alumno, nota\\n\", file=archivo)\n",
    "    for i in range(0, 10):\n",
    "        archivo.write(f\"{i},{random.randrange(0,10)}\\n\")\n",
    "\n",
    "print(archivo)  # Comentario aclaratorio:\n",
    "# Las variables definidas en un determinado scope siguen existiendo por fuera del mismo.\n",
    "# Se debe tener cuidado con esto, ya que nada garantiza que por fuera el valor sea el esperado."
   ]
  },
  {
   "cell_type": "code",
   "execution_count": 91,
   "metadata": {
    "execution": {
     "iopub.execute_input": "2020-10-22T03:13:25.537044Z",
     "iopub.status.busy": "2020-10-22T03:13:25.534506Z",
     "iopub.status.idle": "2020-10-22T03:13:25.540991Z",
     "shell.execute_reply": "2020-10-22T03:13:25.541467Z"
    },
    "slideshow": {
     "slide_type": "slide"
    }
   },
   "outputs": [
    {
     "name": "stdout",
     "output_type": "stream",
     "text": [
      "Alumno, nota\n",
      "0,5\n",
      "1,8\n",
      "2,0\n",
      "3,0\n",
      "4,1\n",
      "5,4\n",
      "6,2\n",
      "7,3\n",
      "8,5\n",
      "9,1\n"
     ]
    }
   ],
   "source": [
    "with open('archivo.csv', 'r') as f:\n",
    "    for linea in f:\n",
    "        print(linea.strip())"
   ]
  },
  {
   "cell_type": "code",
   "execution_count": 92,
   "metadata": {
    "execution": {
     "iopub.execute_input": "2020-10-22T03:13:25.550148Z",
     "iopub.status.busy": "2020-10-22T03:13:25.549570Z",
     "iopub.status.idle": "2020-10-22T03:13:25.554070Z",
     "shell.execute_reply": "2020-10-22T03:13:25.554490Z"
    }
   },
   "outputs": [
    {
     "name": "stdout",
     "output_type": "stream",
     "text": [
      "Alumno, nota\n",
      "0,5\n",
      "1,8\n",
      "2,0\n",
      "3,0\n",
      "4,1\n",
      "5,4\n",
      "6,2\n",
      "7,3\n",
      "8,5\n",
      "9,1\n",
      "\n"
     ]
    }
   ],
   "source": [
    "with open('archivo.csv', 'r') as f:\n",
    "    print(f.read())"
   ]
  },
  {
   "cell_type": "code",
   "execution_count": 93,
   "metadata": {
    "execution": {
     "iopub.execute_input": "2020-10-22T03:13:25.559085Z",
     "iopub.status.busy": "2020-10-22T03:13:25.557671Z",
     "iopub.status.idle": "2020-10-22T03:13:25.625617Z",
     "shell.execute_reply": "2020-10-22T03:13:25.625069Z"
    }
   },
   "outputs": [],
   "source": [
    "f = open('archivo.csv', 'w')\n",
    "f.write(\"algo, algo\")\n",
    "f.close()"
   ]
  },
  {
   "cell_type": "markdown",
   "metadata": {
    "slideshow": {
     "slide_type": "slide"
    }
   },
   "source": [
    "## Objetos\n",
    "\n",
    "Los objetos tienen metodos y atributos:\n",
    "- Atributos: equivalentes a variables.\n",
    "- Métodos: equivalentes a las primitivas."
   ]
  },
  {
   "cell_type": "markdown",
   "metadata": {
    "slideshow": {
     "slide_type": "slide"
    }
   },
   "source": [
    "### Cómo creo una clase"
   ]
  },
  {
   "cell_type": "code",
   "execution_count": 94,
   "metadata": {
    "execution": {
     "iopub.execute_input": "2020-10-22T03:13:25.631408Z",
     "iopub.status.busy": "2020-10-22T03:13:25.630773Z",
     "iopub.status.idle": "2020-10-22T03:13:25.633688Z",
     "shell.execute_reply": "2020-10-22T03:13:25.633151Z"
    },
    "slideshow": {
     "slide_type": "slide"
    }
   },
   "outputs": [],
   "source": [
    "class Nodo(object):\n",
    "    def __init__(self, dato, siguiente=None):\n",
    "        self._dato = dato\n",
    "        self._siguiente = siguiente\n",
    "\n",
    "    @property\n",
    "    def dato(self):\n",
    "        return self._dato\n",
    "\n",
    "    @property\n",
    "    def proximo(self):\n",
    "        return self._siguiente\n",
    "\n",
    "    @proximo.setter\n",
    "    def proximo(self, siguiente):\n",
    "        self._siguiente = siguiente\n",
    "\n",
    "    def __repr__(self):\n",
    "        return str(self.dato)\n",
    "\n",
    "    def __str__(self):\n",
    "        return str(self.dato)"
   ]
  },
  {
   "cell_type": "code",
   "execution_count": 95,
   "metadata": {
    "execution": {
     "iopub.execute_input": "2020-10-22T03:13:25.639465Z",
     "iopub.status.busy": "2020-10-22T03:13:25.637934Z",
     "iopub.status.idle": "2020-10-22T03:13:25.641557Z",
     "shell.execute_reply": "2020-10-22T03:13:25.641026Z"
    },
    "slideshow": {
     "slide_type": "slide"
    }
   },
   "outputs": [
    {
     "name": "stdout",
     "output_type": "stream",
     "text": [
      "hola\n"
     ]
    }
   ],
   "source": [
    "nodo = Nodo(\"hola\")\n",
    "print(nodo)"
   ]
  },
  {
   "cell_type": "code",
   "execution_count": 96,
   "metadata": {
    "execution": {
     "iopub.execute_input": "2020-10-22T03:13:25.647078Z",
     "iopub.status.busy": "2020-10-22T03:13:25.645595Z",
     "iopub.status.idle": "2020-10-22T03:13:25.648945Z",
     "shell.execute_reply": "2020-10-22T03:13:25.648450Z"
    },
    "slideshow": {
     "slide_type": "slide"
    }
   },
   "outputs": [
    {
     "name": "stdout",
     "output_type": "stream",
     "text": [
      "[hola, lala]\n"
     ]
    }
   ],
   "source": [
    "nodo2 = Nodo(\"lala\")\n",
    "print([nodo, nodo2])"
   ]
  },
  {
   "cell_type": "code",
   "execution_count": 97,
   "metadata": {
    "execution": {
     "iopub.execute_input": "2020-10-22T03:13:25.654554Z",
     "iopub.status.busy": "2020-10-22T03:13:25.653110Z",
     "iopub.status.idle": "2020-10-22T03:13:25.656493Z",
     "shell.execute_reply": "2020-10-22T03:13:25.656026Z"
    },
    "slideshow": {
     "slide_type": "slide"
    }
   },
   "outputs": [
    {
     "name": "stdout",
     "output_type": "stream",
     "text": [
      "hola\n"
     ]
    }
   ],
   "source": [
    "nodo3 = nodo.dato\n",
    "print(nodo3)"
   ]
  },
  {
   "cell_type": "markdown",
   "metadata": {
    "slideshow": {
     "slide_type": "slide"
    }
   },
   "source": [
    "### Ejemplo: Lista Enlazada"
   ]
  },
  {
   "cell_type": "code",
   "execution_count": 98,
   "metadata": {
    "execution": {
     "iopub.execute_input": "2020-10-22T03:13:25.665650Z",
     "iopub.status.busy": "2020-10-22T03:13:25.664188Z",
     "iopub.status.idle": "2020-10-22T03:13:25.666303Z",
     "shell.execute_reply": "2020-10-22T03:13:25.666722Z"
    },
    "slideshow": {
     "slide_type": "slide"
    }
   },
   "outputs": [],
   "source": [
    "class ListaEnlazada(object):\n",
    "    def __init__(self):\n",
    "        self._primero = None\n",
    "        self._ultimo = None\n",
    "        self._largo = 0\n",
    "\n",
    "    def __len__(self):\n",
    "        return self._largo\n",
    "\n",
    "    def insertar_al_principio(self, dato):\n",
    "        nodo = Nodo(dato, self._primero)\n",
    "        self._primero = nodo\n",
    "        self._largo += 1\n",
    "        if self._largo == 1:\n",
    "            self._ultimo = nodo\n",
    "\n",
    "    def insertar_al_final(self, dato):\n",
    "        if self._largo != 0:\n",
    "            nodo = Nodo(dato)\n",
    "            nodo_anterior = self._ultimo\n",
    "            nodo_anterior._siguiente = nodo\n",
    "            self._ultimo = nodo\n",
    "            self._largo += 1\n",
    "        else:\n",
    "            self.insertar_al_principio(dato)\n",
    "\n",
    "    @property\n",
    "    def primero(self):\n",
    "        return self._primero.dato\n",
    "\n",
    "    def borrar_primero(self):\n",
    "        dato = self.primero.dato\n",
    "        self._primero = self.primero.siguiente\n",
    "        self._largo -= 1\n",
    "        if self._largo == 0:\n",
    "            self._ultimo = None\n",
    "        return dato\n",
    "\n",
    "    def __str__(self):\n",
    "        datos = []\n",
    "        nodo_actual = self._primero\n",
    "        while nodo_actual:\n",
    "            datos.append(nodo_actual.dato)\n",
    "            nodo_actual = nodo_actual.proximo\n",
    "        return \" -> \".join(datos)\n",
    "\n",
    "    def __repr__(self):\n",
    "        return self.__str__()"
   ]
  },
  {
   "cell_type": "code",
   "execution_count": 99,
   "metadata": {
    "execution": {
     "iopub.execute_input": "2020-10-22T03:13:25.671980Z",
     "iopub.status.busy": "2020-10-22T03:13:25.671353Z",
     "iopub.status.idle": "2020-10-22T03:13:25.674241Z",
     "shell.execute_reply": "2020-10-22T03:13:25.674661Z"
    },
    "slideshow": {
     "slide_type": "slide"
    }
   },
   "outputs": [
    {
     "data": {
      "text/plain": [
       "2"
      ]
     },
     "execution_count": 1,
     "metadata": {},
     "output_type": "execute_result"
    }
   ],
   "source": [
    "lista = ListaEnlazada()\n",
    "lista.insertar_al_principio(\"Primer Dato\")\n",
    "lista.insertar_al_principio(\"Primer primer Dato\")\n",
    "len(lista)"
   ]
  },
  {
   "cell_type": "code",
   "execution_count": 100,
   "metadata": {
    "execution": {
     "iopub.execute_input": "2020-10-22T03:13:25.679503Z",
     "iopub.status.busy": "2020-10-22T03:13:25.678660Z",
     "iopub.status.idle": "2020-10-22T03:13:25.681738Z",
     "shell.execute_reply": "2020-10-22T03:13:25.682160Z"
    }
   },
   "outputs": [
    {
     "data": {
      "text/plain": [
       "Primer primer Dato -> Primer Dato"
      ]
     },
     "execution_count": 1,
     "metadata": {},
     "output_type": "execute_result"
    }
   ],
   "source": [
    "lista"
   ]
  },
  {
   "cell_type": "code",
   "execution_count": 101,
   "metadata": {
    "execution": {
     "iopub.execute_input": "2020-10-22T03:13:25.689084Z",
     "iopub.status.busy": "2020-10-22T03:13:25.686589Z",
     "iopub.status.idle": "2020-10-22T03:13:25.691009Z",
     "shell.execute_reply": "2020-10-22T03:13:25.690529Z"
    },
    "slideshow": {
     "slide_type": "slide"
    }
   },
   "outputs": [
    {
     "name": "stdout",
     "output_type": "stream",
     "text": [
      "Primer primer Dato\n"
     ]
    }
   ],
   "source": [
    "elemento = lista.primero\n",
    "print(elemento)"
   ]
  },
  {
   "cell_type": "markdown",
   "metadata": {},
   "source": [
    "## Recursos\n",
    "\n",
    "* [Taller de Python de Algoritmos II](https://github.com/algoritmos-rw/algo2_apuntes)\n",
    "\n",
    "* [Documentación de Python 3](https://docs.python.org/3/tutorial/)\n",
    "\n",
    "* [Apunte de Algoritmos y Programación I](https://algoritmos1rw.ddns.net/material)\n",
    "\n",
    "* [Automate the Boring Stuff with Python](http://automatetheboringstuff.com/)\n",
    "\n",
    "* [Curso Python](https://pythoncurso.github.io)\n",
    "\n",
    "* [Python Tutor](http://pythontutor.com/)\n",
    "\n",
    "* [Learn Python3 in Y minutes](https://learnxinyminutes.com/docs/python3/)\n",
    "\n",
    "* [Bibliografía de Algoritmos y Programación I](https://algoritmos1rw.ddns.net/bibliografia)"
   ]
  }
 ],
 "metadata": {
  "jupytext": {
   "encoding": "# -*- coding: utf-8 -*-",
   "formats": "ipynb,py:light"
  },
  "kernelspec": {
   "display_name": "Python 3 (venv)",
   "language": "python",
   "name": "python3"
  },
  "language_info": {
   "codemirror_mode": {
    "name": "ipython",
    "version": 3
   },
   "file_extension": ".py",
   "mimetype": "text/x-python",
   "name": "python",
   "nbconvert_exporter": "python",
   "pygments_lexer": "ipython3",
   "version": "3.7.9"
  }
 },
 "nbformat": 4,
 "nbformat_minor": 4
}
