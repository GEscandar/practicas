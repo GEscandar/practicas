{
 "cells": [
  {
   "cell_type": "markdown",
   "id": "ef0918f8",
   "metadata": {},
   "source": [
    "# Python"
   ]
  },
  {
   "cell_type": "markdown",
   "id": "6c28d3cf",
   "metadata": {
    "slideshow": {
     "slide_type": "slide"
    }
   },
   "source": [
    "## Un poco de Historia"
   ]
  },
  {
   "cell_type": "markdown",
   "id": "cb4e4f8f",
   "metadata": {
    "slideshow": {
     "slide_type": "subslide"
    }
   },
   "source": [
    "Python fue creado a finales de los años 80 por un programador holandés llamado **Guido van Rossum**,\n",
    "quien sigue siendo aún hoy el líder del desarrollo del lenguaje.\n",
    "\n",
    "(Edit julio 2018: [ya no más](https://www.mail-archive.com/python-committers@python.org/msg05628.html))"
   ]
  },
  {
   "cell_type": "markdown",
   "id": "d58c7413",
   "metadata": {
    "slideshow": {
     "slide_type": "subslide"
    }
   },
   "source": [
    "El nombre del lenguaje proviene de los humoristas británicos Monty Python.\n",
    "\n",
    ">*\"I chose Python as a working title for the project, being in a slightly irreverent mood (and a big fan of Monty Python's Flying Circus).\"*"
   ]
  },
  {
   "cell_type": "markdown",
   "id": "13ec3f36",
   "metadata": {
    "slideshow": {
     "slide_type": "slide"
    }
   },
   "source": [
    "## Caracteristicas\n",
    "\n",
    "- Interpretado\n",
    "- Tipado dinamico\n",
    "- Multiparadigma\n",
    "- Alto nivel\n",
    "- Tiene un recolector de basura (no hay malloc, free, realloc, etc)"
   ]
  },
  {
   "cell_type": "markdown",
   "id": "be6df1ae",
   "metadata": {},
   "source": [
    "## ¿Cómo empezar?\n",
    "\n",
    "* Al ser un lenguaje *interpretado*, se puede ir escribiendo a medida que se ejecuta, sin necesidad de compilar de antemano! Solamente hace falta escribir `python` o `python3` en una terminal para empezar\n",
    "\n",
    "* También, permite escribir archivos y correrlos. Crear un archivo con extensión `.py` y luego correr `python miarchivo.py` en laterminal"
   ]
  },
  {
   "cell_type": "markdown",
   "id": "6d328619",
   "metadata": {
    "slideshow": {
     "slide_type": "slide"
    }
   },
   "source": [
    "## El Zen de Python"
   ]
  },
  {
   "cell_type": "code",
   "execution_count": 1,
   "id": "53766791",
   "metadata": {
    "execution": {
     "iopub.execute_input": "2021-11-02T15:29:30.783066Z",
     "iopub.status.busy": "2021-11-02T15:29:30.782121Z",
     "iopub.status.idle": "2021-11-02T15:29:30.804442Z",
     "shell.execute_reply": "2021-11-02T15:29:30.804971Z"
    },
    "slideshow": {
     "slide_type": "slide"
    }
   },
   "outputs": [
    {
     "name": "stdout",
     "output_type": "stream",
     "text": [
      "The Zen of Python, by Tim Peters\n",
      "\n",
      "Beautiful is better than ugly.\n",
      "Explicit is better than implicit.\n",
      "Simple is better than complex.\n",
      "Complex is better than complicated.\n",
      "Flat is better than nested.\n",
      "Sparse is better than dense.\n",
      "Readability counts.\n",
      "Special cases aren't special enough to break the rules.\n",
      "Although practicality beats purity.\n",
      "Errors should never pass silently.\n",
      "Unless explicitly silenced.\n",
      "In the face of ambiguity, refuse the temptation to guess.\n",
      "There should be one-- and preferably only one --obvious way to do it.\n",
      "Although that way may not be obvious at first unless you're Dutch.\n",
      "Now is better than never.\n",
      "Although never is often better than *right* now.\n",
      "If the implementation is hard to explain, it's a bad idea.\n",
      "If the implementation is easy to explain, it may be a good idea.\n",
      "Namespaces are one honking great idea -- let's do more of those!\n"
     ]
    }
   ],
   "source": [
    "import this"
   ]
  },
  {
   "cell_type": "markdown",
   "id": "067daded",
   "metadata": {
    "slideshow": {
     "slide_type": "slide"
    }
   },
   "source": [
    "## Conocimientos Básicos de Python: Variables y Tipos"
   ]
  },
  {
   "cell_type": "code",
   "execution_count": 2,
   "id": "1de5bf7a",
   "metadata": {
    "execution": {
     "iopub.execute_input": "2021-11-02T15:29:30.810427Z",
     "iopub.status.busy": "2021-11-02T15:29:30.809704Z",
     "iopub.status.idle": "2021-11-02T15:29:30.812104Z",
     "shell.execute_reply": "2021-11-02T15:29:30.812619Z"
    },
    "slideshow": {
     "slide_type": "slide"
    }
   },
   "outputs": [
    {
     "name": "stdout",
     "output_type": "stream",
     "text": [
      "Hello World!\n"
     ]
    }
   ],
   "source": [
    "# Este es un comentario\n",
    "\n",
    "print(\"Hello World!\")"
   ]
  },
  {
   "cell_type": "markdown",
   "id": "662fdd9d",
   "metadata": {},
   "source": [
    "Los strings en python puden escribirse tanto con comillas simples (`'`) como comillas dobles (`\"`). Normalmente vemos texto entre comillas triples para escribir _docstrings_, segun la guia de estilo de Python, el PEP8."
   ]
  },
  {
   "cell_type": "code",
   "execution_count": 3,
   "id": "198f3ae1",
   "metadata": {
    "execution": {
     "iopub.execute_input": "2021-11-02T15:29:30.827249Z",
     "iopub.status.busy": "2021-11-02T15:29:30.825907Z",
     "iopub.status.idle": "2021-11-02T15:29:30.830497Z",
     "shell.execute_reply": "2021-11-02T15:29:30.829879Z"
    }
   },
   "outputs": [
    {
     "data": {
      "text/plain": [
       "'Esto es un docstring.\\n'"
      ]
     },
     "execution_count": 3,
     "metadata": {},
     "output_type": "execute_result"
    }
   ],
   "source": [
    "\"\"\"Esto es un docstring.\n",
    "\"\"\""
   ]
  },
  {
   "cell_type": "markdown",
   "id": "cbd94195",
   "metadata": {},
   "source": [
    "### Declaracion de variables"
   ]
  },
  {
   "cell_type": "code",
   "execution_count": 4,
   "id": "cc8eeae2",
   "metadata": {
    "execution": {
     "iopub.execute_input": "2021-11-02T15:29:30.836932Z",
     "iopub.status.busy": "2021-11-02T15:29:30.835460Z",
     "iopub.status.idle": "2021-11-02T15:29:30.839078Z",
     "shell.execute_reply": "2021-11-02T15:29:30.838556Z"
    }
   },
   "outputs": [
    {
     "name": "stdout",
     "output_type": "stream",
     "text": [
      "Hola\n"
     ]
    }
   ],
   "source": [
    "string = 'Hola'\n",
    "print(string)"
   ]
  },
  {
   "cell_type": "code",
   "execution_count": 5,
   "id": "23c09dcc",
   "metadata": {
    "execution": {
     "iopub.execute_input": "2021-11-02T15:29:30.843856Z",
     "iopub.status.busy": "2021-11-02T15:29:30.842905Z",
     "iopub.status.idle": "2021-11-02T15:29:30.848633Z",
     "shell.execute_reply": "2021-11-02T15:29:30.848024Z"
    }
   },
   "outputs": [
    {
     "name": "stdout",
     "output_type": "stream",
     "text": [
      "1\n"
     ]
    }
   ],
   "source": [
    "entero = 1\n",
    "print(entero)"
   ]
  },
  {
   "cell_type": "code",
   "execution_count": 6,
   "id": "8fcea8fa",
   "metadata": {
    "execution": {
     "iopub.execute_input": "2021-11-02T15:29:30.853198Z",
     "iopub.status.busy": "2021-11-02T15:29:30.852515Z",
     "iopub.status.idle": "2021-11-02T15:29:30.858501Z",
     "shell.execute_reply": "2021-11-02T15:29:30.857894Z"
    }
   },
   "outputs": [
    {
     "name": "stdout",
     "output_type": "stream",
     "text": [
      "1.0\n"
     ]
    }
   ],
   "source": [
    "flotante = 1.0\n",
    "print(flotante)"
   ]
  },
  {
   "cell_type": "code",
   "execution_count": 7,
   "id": "9bea0a0c",
   "metadata": {
    "execution": {
     "iopub.execute_input": "2021-11-02T15:29:30.863139Z",
     "iopub.status.busy": "2021-11-02T15:29:30.862369Z",
     "iopub.status.idle": "2021-11-02T15:29:30.868908Z",
     "shell.execute_reply": "2021-11-02T15:29:30.868189Z"
    }
   },
   "outputs": [
    {
     "name": "stdout",
     "output_type": "stream",
     "text": [
      "(1, 1.0)\n"
     ]
    }
   ],
   "source": [
    "tupla = (entero, flotante)\n",
    "print(tupla)"
   ]
  },
  {
   "cell_type": "code",
   "execution_count": 8,
   "id": "2a1da2fb",
   "metadata": {
    "execution": {
     "iopub.execute_input": "2021-11-02T15:29:30.874321Z",
     "iopub.status.busy": "2021-11-02T15:29:30.872914Z",
     "iopub.status.idle": "2021-11-02T15:29:30.877123Z",
     "shell.execute_reply": "2021-11-02T15:29:30.876576Z"
    }
   },
   "outputs": [
    {
     "name": "stdout",
     "output_type": "stream",
     "text": [
      "(1, 1.0, 'Hola')\n"
     ]
    }
   ],
   "source": [
    "nupla = (entero, flotante, string)\n",
    "print(nupla)"
   ]
  },
  {
   "cell_type": "code",
   "execution_count": 9,
   "id": "5deade8a",
   "metadata": {
    "execution": {
     "iopub.execute_input": "2021-11-02T15:29:30.881440Z",
     "iopub.status.busy": "2021-11-02T15:29:30.880845Z",
     "iopub.status.idle": "2021-11-02T15:29:30.884055Z",
     "shell.execute_reply": "2021-11-02T15:29:30.884658Z"
    }
   },
   "outputs": [
    {
     "name": "stdout",
     "output_type": "stream",
     "text": [
      "[1, 1.0, 'Hola']\n"
     ]
    }
   ],
   "source": [
    "lista = [entero, flotante, string]\n",
    "print(lista)"
   ]
  },
  {
   "cell_type": "code",
   "execution_count": 10,
   "id": "b1394c8e",
   "metadata": {
    "execution": {
     "iopub.execute_input": "2021-11-02T15:29:30.889521Z",
     "iopub.status.busy": "2021-11-02T15:29:30.888813Z",
     "iopub.status.idle": "2021-11-02T15:29:30.891473Z",
     "shell.execute_reply": "2021-11-02T15:29:30.891962Z"
    }
   },
   "outputs": [
    {
     "name": "stdout",
     "output_type": "stream",
     "text": [
      "{'1': (1, 1.0), 50: (1, 1.0, 'Hola'), '3': 1}\n"
     ]
    }
   ],
   "source": [
    "diccionario = {'1': tupla, 50: nupla, '3': entero}\n",
    "print(diccionario)"
   ]
  },
  {
   "cell_type": "code",
   "execution_count": 11,
   "id": "a199d1b4",
   "metadata": {
    "execution": {
     "iopub.execute_input": "2021-11-02T15:29:30.896675Z",
     "iopub.status.busy": "2021-11-02T15:29:30.896005Z",
     "iopub.status.idle": "2021-11-02T15:29:30.898504Z",
     "shell.execute_reply": "2021-11-02T15:29:30.899056Z"
    }
   },
   "outputs": [
    {
     "name": "stdout",
     "output_type": "stream",
     "text": [
      "{1, 2}\n"
     ]
    }
   ],
   "source": [
    "conjunto = set([1, 2])\n",
    "print(conjunto)"
   ]
  },
  {
   "cell_type": "code",
   "execution_count": 12,
   "id": "240cdc55",
   "metadata": {
    "execution": {
     "iopub.execute_input": "2021-11-02T15:29:30.903772Z",
     "iopub.status.busy": "2021-11-02T15:29:30.903135Z",
     "iopub.status.idle": "2021-11-02T15:29:30.906214Z",
     "shell.execute_reply": "2021-11-02T15:29:30.906815Z"
    }
   },
   "outputs": [
    {
     "name": "stdout",
     "output_type": "stream",
     "text": [
      "True\n"
     ]
    }
   ],
   "source": [
    "booleano = True\n",
    "print(booleano)"
   ]
  },
  {
   "cell_type": "code",
   "execution_count": 13,
   "id": "f375c7de",
   "metadata": {
    "execution": {
     "iopub.execute_input": "2021-11-02T15:29:30.912821Z",
     "iopub.status.busy": "2021-11-02T15:29:30.912106Z",
     "iopub.status.idle": "2021-11-02T15:29:30.917448Z",
     "shell.execute_reply": "2021-11-02T15:29:30.916928Z"
    }
   },
   "outputs": [
    {
     "name": "stdout",
     "output_type": "stream",
     "text": [
      "None\n"
     ]
    }
   ],
   "source": [
    "nada = None\n",
    "print(nada)"
   ]
  },
  {
   "cell_type": "markdown",
   "id": "e376a990",
   "metadata": {},
   "source": [
    "Ojo que las variables pueden cambiar de tipo!"
   ]
  },
  {
   "cell_type": "code",
   "execution_count": 14,
   "id": "bfd03b09",
   "metadata": {
    "execution": {
     "iopub.execute_input": "2021-11-02T15:29:30.922545Z",
     "iopub.status.busy": "2021-11-02T15:29:30.921926Z",
     "iopub.status.idle": "2021-11-02T15:29:30.924449Z",
     "shell.execute_reply": "2021-11-02T15:29:30.925195Z"
    }
   },
   "outputs": [
    {
     "name": "stdout",
     "output_type": "stream",
     "text": [
      "1\n",
      "<class 'int'>\n"
     ]
    }
   ],
   "source": [
    "elemento = 1\n",
    "print(elemento)\n",
    "print(type(elemento))"
   ]
  },
  {
   "cell_type": "code",
   "execution_count": 15,
   "id": "6d348b08",
   "metadata": {
    "execution": {
     "iopub.execute_input": "2021-11-02T15:29:30.929800Z",
     "iopub.status.busy": "2021-11-02T15:29:30.929034Z",
     "iopub.status.idle": "2021-11-02T15:29:30.932849Z",
     "shell.execute_reply": "2021-11-02T15:29:30.933593Z"
    }
   },
   "outputs": [
    {
     "name": "stdout",
     "output_type": "stream",
     "text": [
      "1\n",
      "<class 'str'>\n"
     ]
    }
   ],
   "source": [
    "elemento = str(1)\n",
    "print(elemento)\n",
    "print(type(elemento))"
   ]
  },
  {
   "cell_type": "code",
   "execution_count": 16,
   "id": "7777bcd3",
   "metadata": {
    "execution": {
     "iopub.execute_input": "2021-11-02T15:29:30.938256Z",
     "iopub.status.busy": "2021-11-02T15:29:30.937589Z",
     "iopub.status.idle": "2021-11-02T15:29:30.939936Z",
     "shell.execute_reply": "2021-11-02T15:29:30.940421Z"
    }
   },
   "outputs": [
    {
     "name": "stdout",
     "output_type": "stream",
     "text": [
      "[2]\n",
      "<class 'list'>\n"
     ]
    }
   ],
   "source": [
    "elemento = [2]\n",
    "\n",
    "print(elemento)\n",
    "print(type(elemento))"
   ]
  },
  {
   "cell_type": "markdown",
   "id": "fc19e23c",
   "metadata": {},
   "source": [
    "### Tipos basicos"
   ]
  },
  {
   "cell_type": "markdown",
   "id": "18b2bfdc",
   "metadata": {
    "slideshow": {
     "slide_type": "slide"
    }
   },
   "source": [
    "#### Listas de Python"
   ]
  },
  {
   "cell_type": "code",
   "execution_count": 17,
   "id": "f8bde2e0",
   "metadata": {
    "execution": {
     "iopub.execute_input": "2021-11-02T15:29:30.946184Z",
     "iopub.status.busy": "2021-11-02T15:29:30.945486Z",
     "iopub.status.idle": "2021-11-02T15:29:30.949805Z",
     "shell.execute_reply": "2021-11-02T15:29:30.949329Z"
    }
   },
   "outputs": [
    {
     "data": {
      "text/plain": [
       "[]"
      ]
     },
     "execution_count": 17,
     "metadata": {},
     "output_type": "execute_result"
    }
   ],
   "source": [
    "lista = list()\n",
    "lista"
   ]
  },
  {
   "cell_type": "code",
   "execution_count": 18,
   "id": "3ed8479d",
   "metadata": {
    "execution": {
     "iopub.execute_input": "2021-11-02T15:29:30.953083Z",
     "iopub.status.busy": "2021-11-02T15:29:30.952442Z",
     "iopub.status.idle": "2021-11-02T15:29:30.958857Z",
     "shell.execute_reply": "2021-11-02T15:29:30.959570Z"
    },
    "slideshow": {
     "slide_type": "slide"
    }
   },
   "outputs": [
    {
     "data": {
      "text/plain": [
       "[]"
      ]
     },
     "execution_count": 18,
     "metadata": {},
     "output_type": "execute_result"
    }
   ],
   "source": [
    "lista = []\n",
    "lista"
   ]
  },
  {
   "cell_type": "code",
   "execution_count": 19,
   "id": "af0c2bf5",
   "metadata": {
    "execution": {
     "iopub.execute_input": "2021-11-02T15:29:30.969490Z",
     "iopub.status.busy": "2021-11-02T15:29:30.967563Z",
     "iopub.status.idle": "2021-11-02T15:29:30.976411Z",
     "shell.execute_reply": "2021-11-02T15:29:30.976913Z"
    },
    "slideshow": {
     "slide_type": "slide"
    }
   },
   "outputs": [
    {
     "data": {
      "text/plain": [
       "[1, 2, 3, 4]"
      ]
     },
     "execution_count": 19,
     "metadata": {},
     "output_type": "execute_result"
    }
   ],
   "source": [
    "lista = [1, 2, 3, 4]\n",
    "lista"
   ]
  },
  {
   "cell_type": "code",
   "execution_count": 20,
   "id": "ba7a5625",
   "metadata": {
    "execution": {
     "iopub.execute_input": "2021-11-02T15:29:30.982090Z",
     "iopub.status.busy": "2021-11-02T15:29:30.981411Z",
     "iopub.status.idle": "2021-11-02T15:29:30.984461Z",
     "shell.execute_reply": "2021-11-02T15:29:30.985283Z"
    },
    "slideshow": {
     "slide_type": "slide"
    }
   },
   "outputs": [
    {
     "data": {
      "text/plain": [
       "[1, 2, 3, 4, 1, 'dos', 3.0]"
      ]
     },
     "execution_count": 20,
     "metadata": {},
     "output_type": "execute_result"
    }
   ],
   "source": [
    "lista.append(1)  # Inserto un 1 al final\n",
    "lista.append(\"dos\")  # Inserto un \"dos\" al final\n",
    "lista.append(3.0)  # Inserto un 3.0 al final\n",
    "lista"
   ]
  },
  {
   "cell_type": "code",
   "execution_count": 21,
   "id": "29047a4c",
   "metadata": {
    "execution": {
     "iopub.execute_input": "2021-11-02T15:29:30.989774Z",
     "iopub.status.busy": "2021-11-02T15:29:30.989152Z",
     "iopub.status.idle": "2021-11-02T15:29:30.991561Z",
     "shell.execute_reply": "2021-11-02T15:29:30.992107Z"
    }
   },
   "outputs": [
    {
     "name": "stdout",
     "output_type": "stream",
     "text": [
      "[1, 2, 10, 3, 4, 1, 'dos', 3.0]\n"
     ]
    }
   ],
   "source": [
    "lista.insert(2, 10)  # Inserto en posicion 2 un 10\n",
    "print(lista)"
   ]
  },
  {
   "cell_type": "code",
   "execution_count": 22,
   "id": "7daf0923",
   "metadata": {
    "execution": {
     "iopub.execute_input": "2021-11-02T15:29:30.997944Z",
     "iopub.status.busy": "2021-11-02T15:29:30.997331Z",
     "iopub.status.idle": "2021-11-02T15:29:31.000369Z",
     "shell.execute_reply": "2021-11-02T15:29:31.001148Z"
    }
   },
   "outputs": [
    {
     "data": {
      "text/plain": [
       "8"
      ]
     },
     "execution_count": 22,
     "metadata": {},
     "output_type": "execute_result"
    }
   ],
   "source": [
    "len(lista)"
   ]
  },
  {
   "cell_type": "code",
   "execution_count": 23,
   "id": "47ce5a9d",
   "metadata": {
    "execution": {
     "iopub.execute_input": "2021-11-02T15:29:31.005710Z",
     "iopub.status.busy": "2021-11-02T15:29:31.005049Z",
     "iopub.status.idle": "2021-11-02T15:29:31.007933Z",
     "shell.execute_reply": "2021-11-02T15:29:31.008564Z"
    }
   },
   "outputs": [
    {
     "data": {
      "text/plain": [
       "3.0"
      ]
     },
     "execution_count": 23,
     "metadata": {},
     "output_type": "execute_result"
    }
   ],
   "source": [
    "lista.pop()"
   ]
  },
  {
   "cell_type": "code",
   "execution_count": 24,
   "id": "ee3cda48",
   "metadata": {
    "execution": {
     "iopub.execute_input": "2021-11-02T15:29:31.013284Z",
     "iopub.status.busy": "2021-11-02T15:29:31.012714Z",
     "iopub.status.idle": "2021-11-02T15:29:31.015496Z",
     "shell.execute_reply": "2021-11-02T15:29:31.016060Z"
    }
   },
   "outputs": [
    {
     "data": {
      "text/plain": [
       "[1, 2, 10, 3, 4, 1, 'dos']"
      ]
     },
     "execution_count": 24,
     "metadata": {},
     "output_type": "execute_result"
    }
   ],
   "source": [
    "lista"
   ]
  },
  {
   "cell_type": "code",
   "execution_count": 25,
   "id": "1ca0bd74",
   "metadata": {
    "execution": {
     "iopub.execute_input": "2021-11-02T15:29:31.021069Z",
     "iopub.status.busy": "2021-11-02T15:29:31.020474Z",
     "iopub.status.idle": "2021-11-02T15:29:31.023207Z",
     "shell.execute_reply": "2021-11-02T15:29:31.023712Z"
    }
   },
   "outputs": [
    {
     "data": {
      "text/plain": [
       "2"
      ]
     },
     "execution_count": 25,
     "metadata": {},
     "output_type": "execute_result"
    }
   ],
   "source": [
    "lista.index(10)"
   ]
  },
  {
   "cell_type": "code",
   "execution_count": 26,
   "id": "1d88576d",
   "metadata": {
    "execution": {
     "iopub.execute_input": "2021-11-02T15:29:31.028502Z",
     "iopub.status.busy": "2021-11-02T15:29:31.027890Z",
     "iopub.status.idle": "2021-11-02T15:29:31.030761Z",
     "shell.execute_reply": "2021-11-02T15:29:31.031322Z"
    }
   },
   "outputs": [
    {
     "data": {
      "text/plain": [
       "[1, 2, 3, 4, 1, 'dos']"
      ]
     },
     "execution_count": 26,
     "metadata": {},
     "output_type": "execute_result"
    }
   ],
   "source": [
    "lista.remove(10)\n",
    "lista"
   ]
  },
  {
   "cell_type": "code",
   "execution_count": 27,
   "id": "fbf26db6",
   "metadata": {
    "execution": {
     "iopub.execute_input": "2021-11-02T15:29:31.036585Z",
     "iopub.status.busy": "2021-11-02T15:29:31.035333Z",
     "iopub.status.idle": "2021-11-02T15:29:31.118616Z",
     "shell.execute_reply": "2021-11-02T15:29:31.119209Z"
    },
    "tags": [
     "raises-exception"
    ]
   },
   "outputs": [
    {
     "name": "stdout",
     "output_type": "stream",
     "text": [
      "1\n",
      "2\n",
      "2\n",
      "3\n",
      "3\n",
      "4\n",
      "4\n",
      "5\n",
      "1\n",
      "2\n",
      "dos\n"
     ]
    },
    {
     "ename": "TypeError",
     "evalue": "can only concatenate str (not \"int\") to str",
     "output_type": "error",
     "traceback": [
      "\u001b[0;31m---------------------------------------------------------------------------\u001b[0m",
      "\u001b[0;31mTypeError\u001b[0m                                 Traceback (most recent call last)",
      "\u001b[0;32m/tmp/ipykernel_2562/1783555086.py\u001b[0m in \u001b[0;36m<module>\u001b[0;34m\u001b[0m\n\u001b[1;32m      1\u001b[0m \u001b[0;32mfor\u001b[0m \u001b[0melemento\u001b[0m \u001b[0;32min\u001b[0m \u001b[0mlista\u001b[0m\u001b[0;34m:\u001b[0m\u001b[0;34m\u001b[0m\u001b[0;34m\u001b[0m\u001b[0m\n\u001b[1;32m      2\u001b[0m     \u001b[0mprint\u001b[0m\u001b[0;34m(\u001b[0m\u001b[0melemento\u001b[0m\u001b[0;34m)\u001b[0m\u001b[0;34m\u001b[0m\u001b[0;34m\u001b[0m\u001b[0m\n\u001b[0;32m----> 3\u001b[0;31m     \u001b[0mprint\u001b[0m\u001b[0;34m(\u001b[0m\u001b[0melemento\u001b[0m \u001b[0;34m+\u001b[0m \u001b[0;36m1\u001b[0m\u001b[0;34m)\u001b[0m\u001b[0;34m\u001b[0m\u001b[0;34m\u001b[0m\u001b[0m\n\u001b[0m",
      "\u001b[0;31mTypeError\u001b[0m: can only concatenate str (not \"int\") to str"
     ]
    }
   ],
   "source": [
    "for elemento in lista:\n",
    "    print(elemento)\n",
    "    print(elemento + 1)"
   ]
  },
  {
   "cell_type": "code",
   "execution_count": 28,
   "id": "98266a05",
   "metadata": {
    "execution": {
     "iopub.execute_input": "2021-11-02T15:29:31.124877Z",
     "iopub.status.busy": "2021-11-02T15:29:31.123952Z",
     "iopub.status.idle": "2021-11-02T15:29:31.127370Z",
     "shell.execute_reply": "2021-11-02T15:29:31.127880Z"
    }
   },
   "outputs": [
    {
     "data": {
      "text/plain": [
       "[1, 2, 3, 4, 1, 'dos']"
      ]
     },
     "execution_count": 28,
     "metadata": {},
     "output_type": "execute_result"
    }
   ],
   "source": [
    "lista"
   ]
  },
  {
   "cell_type": "code",
   "execution_count": 29,
   "id": "cce59809",
   "metadata": {
    "execution": {
     "iopub.execute_input": "2021-11-02T15:29:31.135835Z",
     "iopub.status.busy": "2021-11-02T15:29:31.131622Z",
     "iopub.status.idle": "2021-11-02T15:29:31.139027Z",
     "shell.execute_reply": "2021-11-02T15:29:31.138141Z"
    }
   },
   "outputs": [
    {
     "name": "stdout",
     "output_type": "stream",
     "text": [
      "0-ésimo elemento: 1\n",
      "1-ésimo elemento: 2\n",
      "2-ésimo elemento: 3\n",
      "3-ésimo elemento: 4\n",
      "4-ésimo elemento: 1\n",
      "5-ésimo elemento: dos\n"
     ]
    }
   ],
   "source": [
    "for i, elemento in enumerate(lista):\n",
    "    print(f\"{i}-ésimo elemento: {elemento}\")"
   ]
  },
  {
   "cell_type": "code",
   "execution_count": 30,
   "id": "11325897",
   "metadata": {
    "execution": {
     "iopub.execute_input": "2021-11-02T15:29:31.148039Z",
     "iopub.status.busy": "2021-11-02T15:29:31.147124Z",
     "iopub.status.idle": "2021-11-02T15:29:31.153168Z",
     "shell.execute_reply": "2021-11-02T15:29:31.153787Z"
    },
    "tags": [
     "raises-exception"
    ]
   },
   "outputs": [
    {
     "ename": "TypeError",
     "evalue": "'<' not supported between instances of 'str' and 'int'",
     "output_type": "error",
     "traceback": [
      "\u001b[0;31m---------------------------------------------------------------------------\u001b[0m",
      "\u001b[0;31mTypeError\u001b[0m                                 Traceback (most recent call last)",
      "\u001b[0;32m/tmp/ipykernel_2562/2266425520.py\u001b[0m in \u001b[0;36m<module>\u001b[0;34m\u001b[0m\n\u001b[0;32m----> 1\u001b[0;31m \u001b[0msorted\u001b[0m\u001b[0;34m(\u001b[0m\u001b[0mlista\u001b[0m\u001b[0;34m)\u001b[0m\u001b[0;34m\u001b[0m\u001b[0;34m\u001b[0m\u001b[0m\n\u001b[0m",
      "\u001b[0;31mTypeError\u001b[0m: '<' not supported between instances of 'str' and 'int'"
     ]
    }
   ],
   "source": [
    "sorted(lista)"
   ]
  },
  {
   "cell_type": "code",
   "execution_count": 31,
   "id": "4e04e3a9",
   "metadata": {
    "execution": {
     "iopub.execute_input": "2021-11-02T15:29:31.158539Z",
     "iopub.status.busy": "2021-11-02T15:29:31.157892Z",
     "iopub.status.idle": "2021-11-02T15:29:31.162518Z",
     "shell.execute_reply": "2021-11-02T15:29:31.161487Z"
    }
   },
   "outputs": [],
   "source": [
    "lista.remove(\"dos\")"
   ]
  },
  {
   "cell_type": "code",
   "execution_count": 32,
   "id": "a3809120",
   "metadata": {
    "execution": {
     "iopub.execute_input": "2021-11-02T15:29:31.168932Z",
     "iopub.status.busy": "2021-11-02T15:29:31.167522Z",
     "iopub.status.idle": "2021-11-02T15:29:31.173207Z",
     "shell.execute_reply": "2021-11-02T15:29:31.173703Z"
    }
   },
   "outputs": [
    {
     "data": {
      "text/plain": [
       "[1, 1, 2, 3, 4]"
      ]
     },
     "execution_count": 32,
     "metadata": {},
     "output_type": "execute_result"
    }
   ],
   "source": [
    "sorted(lista)"
   ]
  },
  {
   "cell_type": "code",
   "execution_count": 33,
   "id": "35ae8b6e",
   "metadata": {
    "execution": {
     "iopub.execute_input": "2021-11-02T15:29:31.179111Z",
     "iopub.status.busy": "2021-11-02T15:29:31.178338Z",
     "iopub.status.idle": "2021-11-02T15:29:31.181596Z",
     "shell.execute_reply": "2021-11-02T15:29:31.182101Z"
    }
   },
   "outputs": [
    {
     "data": {
      "text/plain": [
       "[1, 1, 2, 3, 4]"
      ]
     },
     "execution_count": 33,
     "metadata": {},
     "output_type": "execute_result"
    }
   ],
   "source": [
    "lista.sort()\n",
    "lista"
   ]
  },
  {
   "cell_type": "markdown",
   "id": "4b780336",
   "metadata": {
    "slideshow": {
     "slide_type": "slide"
    }
   },
   "source": [
    "#### Tuplas de Python\n",
    "\n",
    "Las tuplas son inmutables. No se pueden agregar elementos luego de creadas."
   ]
  },
  {
   "cell_type": "code",
   "execution_count": 34,
   "id": "20609d6b",
   "metadata": {
    "execution": {
     "iopub.execute_input": "2021-11-02T15:29:31.187582Z",
     "iopub.status.busy": "2021-11-02T15:29:31.186791Z",
     "iopub.status.idle": "2021-11-02T15:29:31.195720Z",
     "shell.execute_reply": "2021-11-02T15:29:31.196274Z"
    },
    "slideshow": {
     "slide_type": "slide"
    },
    "tags": [
     "raises-exception"
    ]
   },
   "outputs": [
    {
     "name": "stdout",
     "output_type": "stream",
     "text": [
      "(1, 2)\n",
      "1\n",
      "2\n"
     ]
    },
    {
     "ename": "TypeError",
     "evalue": "'tuple' object does not support item assignment",
     "output_type": "error",
     "traceback": [
      "\u001b[0;31m---------------------------------------------------------------------------\u001b[0m",
      "\u001b[0;31mTypeError\u001b[0m                                 Traceback (most recent call last)",
      "\u001b[0;32m/tmp/ipykernel_2562/3644040918.py\u001b[0m in \u001b[0;36m<module>\u001b[0;34m\u001b[0m\n\u001b[1;32m      5\u001b[0m \u001b[0mprint\u001b[0m\u001b[0;34m(\u001b[0m\u001b[0mtupla\u001b[0m\u001b[0;34m[\u001b[0m\u001b[0;36m1\u001b[0m\u001b[0;34m]\u001b[0m\u001b[0;34m)\u001b[0m\u001b[0;34m\u001b[0m\u001b[0;34m\u001b[0m\u001b[0m\n\u001b[1;32m      6\u001b[0m \u001b[0;34m\u001b[0m\u001b[0m\n\u001b[0;32m----> 7\u001b[0;31m \u001b[0mtupla\u001b[0m\u001b[0;34m[\u001b[0m\u001b[0;36m1\u001b[0m\u001b[0;34m]\u001b[0m \u001b[0;34m=\u001b[0m \u001b[0;36m3\u001b[0m  \u001b[0;31m# Falla. No se puede mutar\u001b[0m\u001b[0;34m\u001b[0m\u001b[0;34m\u001b[0m\u001b[0m\n\u001b[0m",
      "\u001b[0;31mTypeError\u001b[0m: 'tuple' object does not support item assignment"
     ]
    }
   ],
   "source": [
    "tupla = (1, 2)\n",
    "\n",
    "print(tupla)\n",
    "print(tupla[0])\n",
    "print(tupla[1])\n",
    "\n",
    "tupla[1] = 3  # Falla. No se puede mutar"
   ]
  },
  {
   "cell_type": "code",
   "execution_count": 35,
   "id": "2abbf6bb",
   "metadata": {
    "execution": {
     "iopub.execute_input": "2021-11-02T15:29:31.203704Z",
     "iopub.status.busy": "2021-11-02T15:29:31.202101Z",
     "iopub.status.idle": "2021-11-02T15:29:31.207024Z",
     "shell.execute_reply": "2021-11-02T15:29:31.206325Z"
    }
   },
   "outputs": [
    {
     "data": {
      "text/plain": [
       "[1, 2]"
      ]
     },
     "execution_count": 35,
     "metadata": {},
     "output_type": "execute_result"
    }
   ],
   "source": [
    "l = [1, 2]\n",
    "l"
   ]
  },
  {
   "cell_type": "code",
   "execution_count": 36,
   "id": "fd65641a",
   "metadata": {
    "execution": {
     "iopub.execute_input": "2021-11-02T15:29:31.212361Z",
     "iopub.status.busy": "2021-11-02T15:29:31.211721Z",
     "iopub.status.idle": "2021-11-02T15:29:31.217577Z",
     "shell.execute_reply": "2021-11-02T15:29:31.216854Z"
    }
   },
   "outputs": [
    {
     "data": {
      "text/plain": [
       "[1, 3]"
      ]
     },
     "execution_count": 36,
     "metadata": {},
     "output_type": "execute_result"
    }
   ],
   "source": [
    "l[1] = 3\n",
    "l"
   ]
  },
  {
   "cell_type": "markdown",
   "id": "0279e2c3",
   "metadata": {
    "slideshow": {
     "slide_type": "slide"
    }
   },
   "source": [
    "#### Diferencia entre lista y tupla\n",
    "Las listas se caracterizan por ser mutables, es decir, se puede cambiar su contenido en tiempo de ejecución, mientras que las tuplas son inmutables ya que no es posible modificar el contenido una vez creada."
   ]
  },
  {
   "cell_type": "markdown",
   "id": "c953d7d6",
   "metadata": {},
   "source": [
    "#### Slices\n",
    "\n",
    "**Valen para listas, tuplas o strings (_segmentos_)**"
   ]
  },
  {
   "cell_type": "code",
   "execution_count": 37,
   "id": "775ecd3c",
   "metadata": {
    "execution": {
     "iopub.execute_input": "2021-11-02T15:29:31.223459Z",
     "iopub.status.busy": "2021-11-02T15:29:31.222023Z",
     "iopub.status.idle": "2021-11-02T15:29:31.224103Z",
     "shell.execute_reply": "2021-11-02T15:29:31.224577Z"
    }
   },
   "outputs": [],
   "source": [
    "numeros = [0, 1, 2, 3, 4, 5, 6, 7, 8, 9, 10]"
   ]
  },
  {
   "cell_type": "code",
   "execution_count": 38,
   "id": "cca0e6f1",
   "metadata": {
    "execution": {
     "iopub.execute_input": "2021-11-02T15:29:31.231600Z",
     "iopub.status.busy": "2021-11-02T15:29:31.229518Z",
     "iopub.status.idle": "2021-11-02T15:29:31.234348Z",
     "shell.execute_reply": "2021-11-02T15:29:31.233759Z"
    }
   },
   "outputs": [
    {
     "name": "stdout",
     "output_type": "stream",
     "text": [
      "[0, 1, 2, 3, 4, 5, 6, 7, 8, 9, 10]\n"
     ]
    }
   ],
   "source": [
    "print(numeros)"
   ]
  },
  {
   "cell_type": "code",
   "execution_count": 39,
   "id": "99789801",
   "metadata": {
    "execution": {
     "iopub.execute_input": "2021-11-02T15:29:31.241102Z",
     "iopub.status.busy": "2021-11-02T15:29:31.239612Z",
     "iopub.status.idle": "2021-11-02T15:29:31.243350Z",
     "shell.execute_reply": "2021-11-02T15:29:31.242764Z"
    }
   },
   "outputs": [
    {
     "name": "stdout",
     "output_type": "stream",
     "text": [
      "2\n"
     ]
    }
   ],
   "source": [
    "print(numeros[2])  # Imprimo elemento en la posición 2"
   ]
  },
  {
   "cell_type": "code",
   "execution_count": 40,
   "id": "cb4fb29a",
   "metadata": {
    "execution": {
     "iopub.execute_input": "2021-11-02T15:29:31.249677Z",
     "iopub.status.busy": "2021-11-02T15:29:31.249091Z",
     "iopub.status.idle": "2021-11-02T15:29:31.251929Z",
     "shell.execute_reply": "2021-11-02T15:29:31.252516Z"
    }
   },
   "outputs": [
    {
     "data": {
      "text/plain": [
       "10"
      ]
     },
     "execution_count": 40,
     "metadata": {},
     "output_type": "execute_result"
    }
   ],
   "source": [
    "numeros[len(numeros) - 1]"
   ]
  },
  {
   "cell_type": "code",
   "execution_count": 41,
   "id": "a9d2bb74",
   "metadata": {
    "execution": {
     "iopub.execute_input": "2021-11-02T15:29:31.257474Z",
     "iopub.status.busy": "2021-11-02T15:29:31.256775Z",
     "iopub.status.idle": "2021-11-02T15:29:31.259963Z",
     "shell.execute_reply": "2021-11-02T15:29:31.260476Z"
    },
    "lines_to_next_cell": 2
   },
   "outputs": [
    {
     "name": "stdout",
     "output_type": "stream",
     "text": [
      "10\n"
     ]
    }
   ],
   "source": [
    "print(numeros[-1])  # # Imprimo elemento en la última posición"
   ]
  },
  {
   "cell_type": "code",
   "execution_count": 42,
   "id": "30ff7125",
   "metadata": {
    "execution": {
     "iopub.execute_input": "2021-11-02T15:29:31.271415Z",
     "iopub.status.busy": "2021-11-02T15:29:31.266981Z",
     "iopub.status.idle": "2021-11-02T15:29:31.274381Z",
     "shell.execute_reply": "2021-11-02T15:29:31.275091Z"
    },
    "lines_to_next_cell": 2
   },
   "outputs": [
    {
     "data": {
      "text/plain": [
       "9"
      ]
     },
     "execution_count": 42,
     "metadata": {},
     "output_type": "execute_result"
    }
   ],
   "source": [
    "numeros[-2]"
   ]
  },
  {
   "cell_type": "code",
   "execution_count": 43,
   "id": "b341e82b",
   "metadata": {
    "execution": {
     "iopub.execute_input": "2021-11-02T15:29:31.279852Z",
     "iopub.status.busy": "2021-11-02T15:29:31.279259Z",
     "iopub.status.idle": "2021-11-02T15:29:31.281937Z",
     "shell.execute_reply": "2021-11-02T15:29:31.282490Z"
    }
   },
   "outputs": [
    {
     "name": "stdout",
     "output_type": "stream",
     "text": [
      "[0, 1, 2]\n"
     ]
    }
   ],
   "source": [
    "print(numeros[0:3])  # Imprimo de la pos 0 a la pos 2"
   ]
  },
  {
   "cell_type": "code",
   "execution_count": 44,
   "id": "05720d2e",
   "metadata": {
    "execution": {
     "iopub.execute_input": "2021-11-02T15:29:31.287111Z",
     "iopub.status.busy": "2021-11-02T15:29:31.286479Z",
     "iopub.status.idle": "2021-11-02T15:29:31.288870Z",
     "shell.execute_reply": "2021-11-02T15:29:31.289356Z"
    }
   },
   "outputs": [
    {
     "name": "stdout",
     "output_type": "stream",
     "text": [
      "[7, 8]\n"
     ]
    }
   ],
   "source": [
    "print(numeros[-4:-2])"
   ]
  },
  {
   "cell_type": "code",
   "execution_count": 45,
   "id": "25179126",
   "metadata": {
    "execution": {
     "iopub.execute_input": "2021-11-02T15:29:31.293212Z",
     "iopub.status.busy": "2021-11-02T15:29:31.291378Z",
     "iopub.status.idle": "2021-11-02T15:29:31.296550Z",
     "shell.execute_reply": "2021-11-02T15:29:31.295898Z"
    }
   },
   "outputs": [
    {
     "name": "stdout",
     "output_type": "stream",
     "text": [
      "[0, 1, 2, 3, 4, 5, 6, 7, 8, 9, 10]\n"
     ]
    }
   ],
   "source": [
    "print(numeros[0:80])"
   ]
  },
  {
   "cell_type": "code",
   "execution_count": 46,
   "id": "950fa7c4",
   "metadata": {
    "execution": {
     "iopub.execute_input": "2021-11-02T15:29:31.299481Z",
     "iopub.status.busy": "2021-11-02T15:29:31.298874Z",
     "iopub.status.idle": "2021-11-02T15:29:31.303047Z",
     "shell.execute_reply": "2021-11-02T15:29:31.303773Z"
    }
   },
   "outputs": [
    {
     "name": "stdout",
     "output_type": "stream",
     "text": [
      "[0, 1, 2]\n"
     ]
    }
   ],
   "source": [
    "print(numeros[:3])"
   ]
  },
  {
   "cell_type": "code",
   "execution_count": 47,
   "id": "4a8b78a1",
   "metadata": {
    "execution": {
     "iopub.execute_input": "2021-11-02T15:29:31.308460Z",
     "iopub.status.busy": "2021-11-02T15:29:31.305931Z",
     "iopub.status.idle": "2021-11-02T15:29:31.311242Z",
     "shell.execute_reply": "2021-11-02T15:29:31.312065Z"
    }
   },
   "outputs": [
    {
     "name": "stdout",
     "output_type": "stream",
     "text": [
      "[3, 4, 5, 6, 7, 8, 9, 10]\n"
     ]
    }
   ],
   "source": [
    "print(numeros[3:])"
   ]
  },
  {
   "cell_type": "code",
   "execution_count": 48,
   "id": "da027262",
   "metadata": {
    "execution": {
     "iopub.execute_input": "2021-11-02T15:29:31.316904Z",
     "iopub.status.busy": "2021-11-02T15:29:31.316269Z",
     "iopub.status.idle": "2021-11-02T15:29:31.318745Z",
     "shell.execute_reply": "2021-11-02T15:29:31.319245Z"
    }
   },
   "outputs": [
    {
     "name": "stdout",
     "output_type": "stream",
     "text": [
      "[0, 2, 4, 6, 8]\n"
     ]
    }
   ],
   "source": [
    "print(numeros[0:10:2])"
   ]
  },
  {
   "cell_type": "markdown",
   "id": "544d07ef",
   "metadata": {},
   "source": [
    "```python\n",
    "lista[<inicio>:<final>:<step>]\n",
    "```"
   ]
  },
  {
   "cell_type": "code",
   "execution_count": 49,
   "id": "398eb30c",
   "metadata": {
    "execution": {
     "iopub.execute_input": "2021-11-02T15:29:31.324497Z",
     "iopub.status.busy": "2021-11-02T15:29:31.323879Z",
     "iopub.status.idle": "2021-11-02T15:29:31.326607Z",
     "shell.execute_reply": "2021-11-02T15:29:31.327205Z"
    },
    "lines_to_next_cell": 2
   },
   "outputs": [
    {
     "data": {
      "text/plain": [
       "[1, 2, 3, 4]"
      ]
     },
     "execution_count": 49,
     "metadata": {},
     "output_type": "execute_result"
    }
   ],
   "source": [
    "l1 = [1, 2]\n",
    "l2 = [3, 4]\n",
    "l1 + l2"
   ]
  },
  {
   "cell_type": "code",
   "execution_count": 50,
   "id": "79d6f362",
   "metadata": {
    "execution": {
     "iopub.execute_input": "2021-11-02T15:29:31.331771Z",
     "iopub.status.busy": "2021-11-02T15:29:31.331186Z",
     "iopub.status.idle": "2021-11-02T15:29:31.333741Z",
     "shell.execute_reply": "2021-11-02T15:29:31.334328Z"
    }
   },
   "outputs": [
    {
     "name": "stdout",
     "output_type": "stream",
     "text": [
      "[0, 1, 2, 3, 4, 5, 6, 'siete', 8, 9, 10]\n"
     ]
    }
   ],
   "source": [
    "numeros[7] = 'siete'  # Las listas se pueden mutar\n",
    "print(numeros)"
   ]
  },
  {
   "cell_type": "code",
   "execution_count": 51,
   "id": "bca0fe49",
   "metadata": {
    "execution": {
     "iopub.execute_input": "2021-11-02T15:29:31.339033Z",
     "iopub.status.busy": "2021-11-02T15:29:31.338408Z",
     "iopub.status.idle": "2021-11-02T15:29:31.340734Z",
     "shell.execute_reply": "2021-11-02T15:29:31.341215Z"
    }
   },
   "outputs": [
    {
     "name": "stdout",
     "output_type": "stream",
     "text": [
      "[10, 9, 8, 'siete', 6, 5, 4, 3, 2, 1, 0]\n"
     ]
    }
   ],
   "source": [
    "numeros = numeros[::-1]\n",
    "print(numeros)"
   ]
  },
  {
   "cell_type": "code",
   "execution_count": 52,
   "id": "96d30f65",
   "metadata": {
    "execution": {
     "iopub.execute_input": "2021-11-02T15:29:31.347606Z",
     "iopub.status.busy": "2021-11-02T15:29:31.347002Z",
     "iopub.status.idle": "2021-11-02T15:29:31.351947Z",
     "shell.execute_reply": "2021-11-02T15:29:31.351433Z"
    },
    "tags": [
     "raises-exception"
    ]
   },
   "outputs": [
    {
     "ename": "IndexError",
     "evalue": "list index out of range",
     "output_type": "error",
     "traceback": [
      "\u001b[0;31m---------------------------------------------------------------------------\u001b[0m",
      "\u001b[0;31mIndexError\u001b[0m                                Traceback (most recent call last)",
      "\u001b[0;32m/tmp/ipykernel_2562/1255736182.py\u001b[0m in \u001b[0;36m<module>\u001b[0;34m\u001b[0m\n\u001b[0;32m----> 1\u001b[0;31m \u001b[0mprint\u001b[0m\u001b[0;34m(\u001b[0m\u001b[0mnumeros\u001b[0m\u001b[0;34m[\u001b[0m\u001b[0;36m15\u001b[0m\u001b[0;34m]\u001b[0m\u001b[0;34m)\u001b[0m  \u001b[0;31m# Falla. No se puede acceder a una posición inexistente\u001b[0m\u001b[0;34m\u001b[0m\u001b[0;34m\u001b[0m\u001b[0m\n\u001b[0m",
      "\u001b[0;31mIndexError\u001b[0m: list index out of range"
     ]
    }
   ],
   "source": [
    "print(numeros[15])  # Falla. No se puede acceder a una posición inexistente"
   ]
  },
  {
   "cell_type": "code",
   "execution_count": 53,
   "id": "433ce578",
   "metadata": {
    "execution": {
     "iopub.execute_input": "2021-11-02T15:29:31.357944Z",
     "iopub.status.busy": "2021-11-02T15:29:31.357329Z",
     "iopub.status.idle": "2021-11-02T15:29:31.359984Z",
     "shell.execute_reply": "2021-11-02T15:29:31.360587Z"
    }
   },
   "outputs": [
    {
     "name": "stdout",
     "output_type": "stream",
     "text": [
      "palabra\n",
      "a\n",
      "pal\n",
      "abra\n"
     ]
    }
   ],
   "source": [
    "palabra = 'palabra'\n",
    "print(palabra)\n",
    "print(palabra[3])\n",
    "print(palabra[:3])\n",
    "print(palabra[3:])"
   ]
  },
  {
   "cell_type": "code",
   "execution_count": 54,
   "id": "bfecfb42",
   "metadata": {
    "execution": {
     "iopub.execute_input": "2021-11-02T15:29:31.365554Z",
     "iopub.status.busy": "2021-11-02T15:29:31.364896Z",
     "iopub.status.idle": "2021-11-02T15:29:31.367368Z",
     "shell.execute_reply": "2021-11-02T15:29:31.367866Z"
    }
   },
   "outputs": [
    {
     "name": "stdout",
     "output_type": "stream",
     "text": [
      "(0, 1, 2, 3, 4)\n",
      "(0, 1)\n",
      "(2, 3, 4)\n"
     ]
    }
   ],
   "source": [
    "tupla = (0, 1, 2, 3, 4)\n",
    "\n",
    "print(tupla)\n",
    "print(tupla[:2])\n",
    "print(tupla[2:])"
   ]
  },
  {
   "cell_type": "markdown",
   "id": "ab8e329b",
   "metadata": {
    "slideshow": {
     "slide_type": "slide"
    }
   },
   "source": [
    "#### Diccionarios de Python\n",
    "\n",
    "Son como hashmaps, las claves deben ser inmutables para que no pierda sentido el diccionario. Si se pudieran modificar, se podrían cambiar las claves y generaría conflictos.\n",
    "\n",
    "Tipos mutables:\n",
    "- Listas\n",
    "- Diccionarios\n",
    "- Sets\n",
    "\n",
    "Tipos inmutables:\n",
    "- Int\n",
    "- Float\n",
    "- String\n",
    "- Tuplas\n"
   ]
  },
  {
   "cell_type": "code",
   "execution_count": 55,
   "id": "18c0a55e",
   "metadata": {
    "execution": {
     "iopub.execute_input": "2021-11-02T15:29:31.371421Z",
     "iopub.status.busy": "2021-11-02T15:29:31.370646Z",
     "iopub.status.idle": "2021-11-02T15:29:31.375129Z",
     "shell.execute_reply": "2021-11-02T15:29:31.375647Z"
    },
    "slideshow": {
     "slide_type": "slide"
    }
   },
   "outputs": [
    {
     "data": {
      "text/plain": [
       "{}"
      ]
     },
     "execution_count": 55,
     "metadata": {},
     "output_type": "execute_result"
    }
   ],
   "source": [
    "diccionario = {}\n",
    "diccionario"
   ]
  },
  {
   "cell_type": "code",
   "execution_count": 56,
   "id": "8badd3c0",
   "metadata": {
    "execution": {
     "iopub.execute_input": "2021-11-02T15:29:31.378939Z",
     "iopub.status.busy": "2021-11-02T15:29:31.378167Z",
     "iopub.status.idle": "2021-11-02T15:29:31.383874Z",
     "shell.execute_reply": "2021-11-02T15:29:31.383235Z"
    }
   },
   "outputs": [
    {
     "data": {
      "text/plain": [
       "{}"
      ]
     },
     "execution_count": 56,
     "metadata": {},
     "output_type": "execute_result"
    }
   ],
   "source": [
    "diccionario = dict()\n",
    "diccionario"
   ]
  },
  {
   "cell_type": "code",
   "execution_count": 57,
   "id": "1eecadaa",
   "metadata": {
    "execution": {
     "iopub.execute_input": "2021-11-02T15:29:31.389572Z",
     "iopub.status.busy": "2021-11-02T15:29:31.388898Z",
     "iopub.status.idle": "2021-11-02T15:29:31.392874Z",
     "shell.execute_reply": "2021-11-02T15:29:31.392281Z"
    },
    "slideshow": {
     "slide_type": "slide"
    }
   },
   "outputs": [
    {
     "name": "stdout",
     "output_type": "stream",
     "text": [
      "{'clave1': 'valor1', 2: 'valor2', 'clave3': 3}"
     ]
    },
    {
     "name": "stdout",
     "output_type": "stream",
     "text": [
      "\n"
     ]
    }
   ],
   "source": [
    "# Cómo agregar cosas al diccionario\n",
    "diccionario['clave1'] = 'valor1'\n",
    "diccionario[2] = 'valor2'\n",
    "diccionario['clave3'] = 3\n",
    "print(diccionario)"
   ]
  },
  {
   "cell_type": "markdown",
   "id": "ed01013e",
   "metadata": {},
   "source": [
    "Hay dos formas de obtener valores de un diccionario:\n",
    "\n",
    "```python\n",
    "diccionario[clave]\n",
    "```\n",
    "\n",
    "El cual devuelve el valor si existe la clave suministrada o bien lanza `KeyError` si no existe."
   ]
  },
  {
   "cell_type": "code",
   "execution_count": 58,
   "id": "122df431",
   "metadata": {
    "execution": {
     "iopub.execute_input": "2021-11-02T15:29:31.397335Z",
     "iopub.status.busy": "2021-11-02T15:29:31.396563Z",
     "iopub.status.idle": "2021-11-02T15:29:31.400913Z",
     "shell.execute_reply": "2021-11-02T15:29:31.400231Z"
    }
   },
   "outputs": [
    {
     "data": {
      "text/plain": [
       "'valor1'"
      ]
     },
     "execution_count": 58,
     "metadata": {},
     "output_type": "execute_result"
    }
   ],
   "source": [
    "diccionario['clave1']"
   ]
  },
  {
   "cell_type": "code",
   "execution_count": 59,
   "id": "ca23069e",
   "metadata": {
    "execution": {
     "iopub.execute_input": "2021-11-02T15:29:31.404744Z",
     "iopub.status.busy": "2021-11-02T15:29:31.404099Z",
     "iopub.status.idle": "2021-11-02T15:29:31.411124Z",
     "shell.execute_reply": "2021-11-02T15:29:31.411839Z"
    },
    "tags": [
     "raises-exception"
    ]
   },
   "outputs": [
    {
     "ename": "KeyError",
     "evalue": "'clave1000'",
     "output_type": "error",
     "traceback": [
      "\u001b[0;31m---------------------------------------------------------------------------\u001b[0m",
      "\u001b[0;31mKeyError\u001b[0m                                  Traceback (most recent call last)",
      "\u001b[0;32m/tmp/ipykernel_2562/3541524662.py\u001b[0m in \u001b[0;36m<module>\u001b[0;34m\u001b[0m\n\u001b[0;32m----> 1\u001b[0;31m \u001b[0mdiccionario\u001b[0m\u001b[0;34m[\u001b[0m\u001b[0;34m'clave1000'\u001b[0m\u001b[0;34m]\u001b[0m\u001b[0;34m\u001b[0m\u001b[0;34m\u001b[0m\u001b[0m\n\u001b[0m",
      "\u001b[0;31mKeyError\u001b[0m: 'clave1000'"
     ]
    }
   ],
   "source": [
    "diccionario['clave1000']"
   ]
  },
  {
   "cell_type": "markdown",
   "id": "734f05c3",
   "metadata": {},
   "source": [
    "La segunda forma es con `get`:"
   ]
  },
  {
   "cell_type": "code",
   "execution_count": 60,
   "id": "c6c62606",
   "metadata": {
    "execution": {
     "iopub.execute_input": "2021-11-02T15:29:31.425604Z",
     "iopub.status.busy": "2021-11-02T15:29:31.420139Z",
     "iopub.status.idle": "2021-11-02T15:29:31.493784Z",
     "shell.execute_reply": "2021-11-02T15:29:31.493103Z"
    }
   },
   "outputs": [],
   "source": [
    "diccionario.get?"
   ]
  },
  {
   "cell_type": "code",
   "execution_count": 61,
   "id": "5bfab634",
   "metadata": {
    "execution": {
     "iopub.execute_input": "2021-11-02T15:29:31.500199Z",
     "iopub.status.busy": "2021-11-02T15:29:31.498551Z",
     "iopub.status.idle": "2021-11-02T15:29:31.505379Z",
     "shell.execute_reply": "2021-11-02T15:29:31.504831Z"
    }
   },
   "outputs": [
    {
     "name": "stdout",
     "output_type": "stream",
     "text": [
      "Help on built-in function get:\n",
      "\n",
      "get(key, default=None, /) method of builtins.dict instance\n",
      "    Return the value for key if key is in the dictionary, else default.\n",
      "\n"
     ]
    }
   ],
   "source": [
    "help(diccionario.get)"
   ]
  },
  {
   "cell_type": "code",
   "execution_count": 62,
   "id": "1ec39cf3",
   "metadata": {
    "execution": {
     "iopub.execute_input": "2021-11-02T15:29:31.510199Z",
     "iopub.status.busy": "2021-11-02T15:29:31.509402Z",
     "iopub.status.idle": "2021-11-02T15:29:31.513632Z",
     "shell.execute_reply": "2021-11-02T15:29:31.513074Z"
    },
    "slideshow": {
     "slide_type": "slide"
    }
   },
   "outputs": [
    {
     "name": "stdout",
     "output_type": "stream",
     "text": [
      "None\n"
     ]
    }
   ],
   "source": [
    "print(diccionario.get('clave1000'))"
   ]
  },
  {
   "cell_type": "code",
   "execution_count": 63,
   "id": "0fa238b2",
   "metadata": {
    "execution": {
     "iopub.execute_input": "2021-11-02T15:29:31.518554Z",
     "iopub.status.busy": "2021-11-02T15:29:31.517896Z",
     "iopub.status.idle": "2021-11-02T15:29:31.542708Z",
     "shell.execute_reply": "2021-11-02T15:29:31.542048Z"
    },
    "slideshow": {
     "slide_type": "slide"
    }
   },
   "outputs": [
    {
     "name": "stdout",
     "output_type": "stream",
     "text": [
      "True\n"
     ]
    }
   ],
   "source": [
    "print('clave1' in diccionario)  # Verifico si la clave está en el diccionario"
   ]
  },
  {
   "cell_type": "code",
   "execution_count": 64,
   "id": "df2e664f",
   "metadata": {
    "execution": {
     "iopub.execute_input": "2021-11-02T15:29:31.547767Z",
     "iopub.status.busy": "2021-11-02T15:29:31.547093Z",
     "iopub.status.idle": "2021-11-02T15:29:31.553174Z",
     "shell.execute_reply": "2021-11-02T15:29:31.553683Z"
    }
   },
   "outputs": [
    {
     "data": {
      "text/plain": [
       "True"
      ]
     },
     "execution_count": 64,
     "metadata": {},
     "output_type": "execute_result"
    }
   ],
   "source": [
    "l = [1, 2, 3, 4]\n",
    "2 in l"
   ]
  },
  {
   "cell_type": "code",
   "execution_count": 65,
   "id": "33dc6557",
   "metadata": {
    "execution": {
     "iopub.execute_input": "2021-11-02T15:29:31.559102Z",
     "iopub.status.busy": "2021-11-02T15:29:31.558372Z",
     "iopub.status.idle": "2021-11-02T15:29:31.562334Z",
     "shell.execute_reply": "2021-11-02T15:29:31.562918Z"
    }
   },
   "outputs": [
    {
     "name": "stdout",
     "output_type": "stream",
     "text": [
      "la clave es clave1 y el valor es valor1\n",
      "la clave es 2 y el valor es valor2"
     ]
    },
    {
     "name": "stdout",
     "output_type": "stream",
     "text": [
      "\n",
      "la clave es clave3 y el valor es 3\n"
     ]
    }
   ],
   "source": [
    "for clave, valor in diccionario.items():\n",
    "    print(\"la clave es %s y el valor es %s\" % (clave, valor))"
   ]
  },
  {
   "cell_type": "code",
   "execution_count": 66,
   "id": "2c629eaf",
   "metadata": {
    "execution": {
     "iopub.execute_input": "2021-11-02T15:29:31.567737Z",
     "iopub.status.busy": "2021-11-02T15:29:31.567089Z",
     "iopub.status.idle": "2021-11-02T15:29:31.573414Z",
     "shell.execute_reply": "2021-11-02T15:29:31.573892Z"
    }
   },
   "outputs": [
    {
     "name": "stdout",
     "output_type": "stream",
     "text": [
      "la clave es clave1 y el valor es valor1\n",
      "la clave es 2 y el valor es valor2\n"
     ]
    },
    {
     "name": "stdout",
     "output_type": "stream",
     "text": [
      "la clave es clave3 y el valor es 3\n"
     ]
    }
   ],
   "source": [
    "for clave, valor in diccionario.items():\n",
    "    print(\"la clave es {} y el valor es {}\".format(clave, valor))"
   ]
  },
  {
   "cell_type": "code",
   "execution_count": 67,
   "id": "38c9058c",
   "metadata": {
    "execution": {
     "iopub.execute_input": "2021-11-02T15:29:31.578948Z",
     "iopub.status.busy": "2021-11-02T15:29:31.578318Z",
     "iopub.status.idle": "2021-11-02T15:29:31.583988Z",
     "shell.execute_reply": "2021-11-02T15:29:31.583459Z"
    },
    "slideshow": {
     "slide_type": "slide"
    }
   },
   "outputs": [
    {
     "name": "stdout",
     "output_type": "stream",
     "text": [
      "la clave es clave1 y el valor es valor1\n",
      "la clave es 2 y el valor es valor2\n",
      "la clave es clave3 y el valor es 3\n"
     ]
    }
   ],
   "source": [
    "# Cómo iterar un diccionario elemento por elemento\n",
    "for (\n",
    "    clave,\n",
    "    valor,\n",
    ") in (\n",
    "    diccionario.items()\n",
    "):  # diccionario.items() va devolviendo tuplas con el formato (clave,valor)\n",
    "    print(\n",
    "        f\"la clave es {clave} y el valor es {valor}\"\n",
    "    )  # con esta sintaxis se desempaquetan en clave y valor (similar a enumerate)"
   ]
  },
  {
   "cell_type": "code",
   "execution_count": 68,
   "id": "f1dd5d51",
   "metadata": {
    "execution": {
     "iopub.execute_input": "2021-11-02T15:29:31.588758Z",
     "iopub.status.busy": "2021-11-02T15:29:31.588073Z",
     "iopub.status.idle": "2021-11-02T15:29:31.591035Z",
     "shell.execute_reply": "2021-11-02T15:29:31.591642Z"
    },
    "slideshow": {
     "slide_type": "slide"
    }
   },
   "outputs": [
    {
     "name": "stdout",
     "output_type": "stream",
     "text": [
      "clave1\n",
      "2\n",
      "clave3\n"
     ]
    }
   ],
   "source": [
    "for clave in diccionario.keys():\n",
    "    print(clave)"
   ]
  },
  {
   "cell_type": "code",
   "execution_count": 69,
   "id": "06a65233",
   "metadata": {
    "execution": {
     "iopub.execute_input": "2021-11-02T15:29:31.596119Z",
     "iopub.status.busy": "2021-11-02T15:29:31.595510Z",
     "iopub.status.idle": "2021-11-02T15:29:31.598716Z",
     "shell.execute_reply": "2021-11-02T15:29:31.598153Z"
    },
    "slideshow": {
     "slide_type": "slide"
    }
   },
   "outputs": [
    {
     "name": "stdout",
     "output_type": "stream",
     "text": [
      "valor1\n",
      "valor2\n",
      "3\n"
     ]
    }
   ],
   "source": [
    "for valor in diccionario.values():\n",
    "    print(valor)"
   ]
  },
  {
   "cell_type": "markdown",
   "id": "54114bd3",
   "metadata": {},
   "source": [
    "#### Sets\n",
    "\n",
    "Son similares a los diccionarios (en eficiencia) pero se almacenan solo claves, y tienen algunas operaciones particulares.\n",
    "\n",
    "En particular, no pueden tener elementos iguales (pensar que son conjuntos)"
   ]
  },
  {
   "cell_type": "code",
   "execution_count": 70,
   "id": "d7c1cf81",
   "metadata": {
    "execution": {
     "iopub.execute_input": "2021-11-02T15:29:31.603581Z",
     "iopub.status.busy": "2021-11-02T15:29:31.602972Z",
     "iopub.status.idle": "2021-11-02T15:29:31.608840Z",
     "shell.execute_reply": "2021-11-02T15:29:31.609337Z"
    }
   },
   "outputs": [],
   "source": [
    "set??"
   ]
  },
  {
   "cell_type": "code",
   "execution_count": 71,
   "id": "7dcd29c2",
   "metadata": {
    "execution": {
     "iopub.execute_input": "2021-11-02T15:29:31.614388Z",
     "iopub.status.busy": "2021-11-02T15:29:31.613726Z",
     "iopub.status.idle": "2021-11-02T15:29:31.619792Z",
     "shell.execute_reply": "2021-11-02T15:29:31.620296Z"
    }
   },
   "outputs": [
    {
     "data": {
      "text/plain": [
       "{1, 2, 3}"
      ]
     },
     "execution_count": 71,
     "metadata": {},
     "output_type": "execute_result"
    }
   ],
   "source": [
    "# Se definen como los diccionarios pero sin hacerlos 'clave:valor', solamente una seguidilla de elementos\n",
    "{1, 2, 2, 3}"
   ]
  },
  {
   "cell_type": "code",
   "execution_count": 72,
   "id": "1154d23b",
   "metadata": {
    "execution": {
     "iopub.execute_input": "2021-11-02T15:29:31.625189Z",
     "iopub.status.busy": "2021-11-02T15:29:31.624585Z",
     "iopub.status.idle": "2021-11-02T15:29:31.631845Z",
     "shell.execute_reply": "2021-11-02T15:29:31.631084Z"
    }
   },
   "outputs": [
    {
     "data": {
      "text/plain": [
       "{1, 2, 3}"
      ]
     },
     "execution_count": 72,
     "metadata": {},
     "output_type": "execute_result"
    }
   ],
   "source": [
    "set([1, 2, 2, 3])"
   ]
  },
  {
   "cell_type": "markdown",
   "id": "46ab727f",
   "metadata": {},
   "source": [
    "## Condicionales (if...elif...else)\n",
    "\n",
    "```python\n",
    "if <condición_1>:\n",
    "    <hacer algo_1 si se da la condición_1>\n",
    "elif <condición_2>:\n",
    "    <hacer algo_2 si se da la condición_2>\n",
    "...\n",
    "elif <condición_n>:\n",
    "    <hacer algo_n si se da la condición_n>\n",
    "else:\n",
    "    <hacer otra cosa si no dan las anteriores>\n",
    "```\n",
    "\n",
    "Algo importante para notar es que los bloques se definen por **niveles de identacion**."
   ]
  },
  {
   "cell_type": "code",
   "execution_count": 73,
   "id": "aa0b9769",
   "metadata": {
    "execution": {
     "iopub.execute_input": "2021-11-02T15:29:31.636840Z",
     "iopub.status.busy": "2021-11-02T15:29:31.636223Z",
     "iopub.status.idle": "2021-11-02T15:29:31.641298Z",
     "shell.execute_reply": "2021-11-02T15:29:31.641836Z"
    }
   },
   "outputs": [
    {
     "name": "stdout",
     "output_type": "stream",
     "text": [
      "uno\n"
     ]
    }
   ],
   "source": [
    "v = 1\n",
    "if v == 1:\n",
    "    print(\"uno\")\n",
    "elif v == 2:\n",
    "    print(\"dos\")\n",
    "else:\n",
    "    print(\"ni idea\")\n",
    "    print(v)"
   ]
  },
  {
   "cell_type": "markdown",
   "id": "1f9f162b",
   "metadata": {},
   "source": [
    "## Iteraciones\n",
    "\n",
    "```python\n",
    "while cond:\n",
    "    <codigo>\n",
    "```\n",
    "\n",
    "```python\n",
    "for elemento in iterable:\n",
    "    <codigo>\n",
    "```\n",
    "\n",
    "Para iterar sobre un rango de valores, usamos `range`"
   ]
  },
  {
   "cell_type": "code",
   "execution_count": 74,
   "id": "af62333f",
   "metadata": {
    "execution": {
     "iopub.execute_input": "2021-11-02T15:29:31.646741Z",
     "iopub.status.busy": "2021-11-02T15:29:31.646080Z",
     "iopub.status.idle": "2021-11-02T15:29:31.651227Z",
     "shell.execute_reply": "2021-11-02T15:29:31.650677Z"
    }
   },
   "outputs": [
    {
     "name": "stdout",
     "output_type": "stream",
     "text": [
      "1\n",
      "4\n",
      "7\n",
      "10\n"
     ]
    }
   ],
   "source": [
    "for i in range(1, 11, 3):\n",
    "    print(i)"
   ]
  },
  {
   "cell_type": "markdown",
   "id": "b8af6621",
   "metadata": {},
   "source": [
    "## Operadores logicos\n",
    "\n",
    "`not`, `or`, `and`"
   ]
  },
  {
   "cell_type": "code",
   "execution_count": 75,
   "id": "58e96023",
   "metadata": {
    "execution": {
     "iopub.execute_input": "2021-11-02T15:29:31.656290Z",
     "iopub.status.busy": "2021-11-02T15:29:31.655696Z",
     "iopub.status.idle": "2021-11-02T15:29:31.661310Z",
     "shell.execute_reply": "2021-11-02T15:29:31.660586Z"
    }
   },
   "outputs": [
    {
     "name": "stdout",
     "output_type": "stream",
     "text": [
      "yay\n"
     ]
    }
   ],
   "source": [
    "if True or False:\n",
    "    print(\"yay\")"
   ]
  },
  {
   "cell_type": "code",
   "execution_count": 76,
   "id": "2b17ffdb",
   "metadata": {
    "execution": {
     "iopub.execute_input": "2021-11-02T15:29:31.667699Z",
     "iopub.status.busy": "2021-11-02T15:29:31.666591Z",
     "iopub.status.idle": "2021-11-02T15:29:31.670036Z",
     "shell.execute_reply": "2021-11-02T15:29:31.670707Z"
    }
   },
   "outputs": [
    {
     "data": {
      "text/plain": [
       "False"
      ]
     },
     "execution_count": 76,
     "metadata": {},
     "output_type": "execute_result"
    }
   ],
   "source": [
    "1 == 2"
   ]
  },
  {
   "cell_type": "code",
   "execution_count": 77,
   "id": "fea42c2a",
   "metadata": {
    "execution": {
     "iopub.execute_input": "2021-11-02T15:29:31.677602Z",
     "iopub.status.busy": "2021-11-02T15:29:31.676141Z",
     "iopub.status.idle": "2021-11-02T15:29:31.680154Z",
     "shell.execute_reply": "2021-11-02T15:29:31.679641Z"
    }
   },
   "outputs": [
    {
     "data": {
      "text/plain": [
       "True"
      ]
     },
     "execution_count": 77,
     "metadata": {},
     "output_type": "execute_result"
    }
   ],
   "source": [
    "1 != 2"
   ]
  },
  {
   "cell_type": "markdown",
   "id": "b8ef8d65",
   "metadata": {
    "slideshow": {
     "slide_type": "slide"
    }
   },
   "source": [
    "## Funciones en Python"
   ]
  },
  {
   "cell_type": "code",
   "execution_count": 78,
   "id": "2ba61ad1",
   "metadata": {
    "execution": {
     "iopub.execute_input": "2021-11-02T15:29:31.689634Z",
     "iopub.status.busy": "2021-11-02T15:29:31.688207Z",
     "iopub.status.idle": "2021-11-02T15:29:31.692264Z",
     "shell.execute_reply": "2021-11-02T15:29:31.691516Z"
    },
    "slideshow": {
     "slide_type": "slide"
    }
   },
   "outputs": [
    {
     "name": "stdout",
     "output_type": "stream",
     "text": [
      "True\n",
      "False\n"
     ]
    }
   ],
   "source": [
    "def busqueda_binaria(lista, elemento):\n",
    "    if not lista:\n",
    "        return False\n",
    "    elif len(lista) == 1:\n",
    "        return lista[0] == elemento\n",
    "    mitad = len(lista) // 2  # // es la operación división entera\n",
    "    if lista[mitad] == elemento:\n",
    "        return True\n",
    "    if lista[mitad] > elemento:\n",
    "        return busqueda_binaria(lista[:mitad], elemento)\n",
    "    if lista[mitad] < elemento:\n",
    "        return busqueda_binaria(lista[mitad:], elemento)\n",
    "\n",
    "\n",
    "print(busqueda_binaria([1, 2, 3, 4, 5], 4))\n",
    "print(busqueda_binaria([1, 4, 6, 7, 9, 10], 2))"
   ]
  },
  {
   "cell_type": "code",
   "execution_count": 79,
   "id": "1e2a9662",
   "metadata": {
    "execution": {
     "iopub.execute_input": "2021-11-02T15:29:31.699266Z",
     "iopub.status.busy": "2021-11-02T15:29:31.697563Z",
     "iopub.status.idle": "2021-11-02T15:29:31.701691Z",
     "shell.execute_reply": "2021-11-02T15:29:31.701128Z"
    }
   },
   "outputs": [
    {
     "name": "stdout",
     "output_type": "stream",
     "text": [
      "(3, 3, 3)\n"
     ]
    }
   ],
   "source": [
    "def a(b):\n",
    "    if a == 1:\n",
    "        print(a)\n",
    "    return (b, b, b)\n",
    "\n",
    "\n",
    "print(a(3))"
   ]
  },
  {
   "cell_type": "code",
   "execution_count": 80,
   "id": "91065e83",
   "metadata": {
    "execution": {
     "iopub.execute_input": "2021-11-02T15:29:31.707197Z",
     "iopub.status.busy": "2021-11-02T15:29:31.706492Z",
     "iopub.status.idle": "2021-11-02T15:29:31.719332Z",
     "shell.execute_reply": "2021-11-02T15:29:31.719878Z"
    },
    "lines_to_next_cell": 2,
    "slideshow": {
     "slide_type": "slide"
    },
    "tags": [
     "raises-exception"
    ]
   },
   "outputs": [
    {
     "name": "stdout",
     "output_type": "stream",
     "text": [
      "3\n",
      "3.0\n",
      "3.0\n",
      "hola como te va\n",
      "[1, 2, 3, 4, 5]\n"
     ]
    },
    {
     "ename": "TypeError",
     "evalue": "can only concatenate str (not \"int\") to str",
     "output_type": "error",
     "traceback": [
      "\u001b[0;31m---------------------------------------------------------------------------\u001b[0m",
      "\u001b[0;31mTypeError\u001b[0m                                 Traceback (most recent call last)",
      "\u001b[0;32m/tmp/ipykernel_2562/1000948441.py\u001b[0m in \u001b[0;36m<module>\u001b[0;34m\u001b[0m\n\u001b[1;32m      8\u001b[0m \u001b[0mprint\u001b[0m\u001b[0;34m(\u001b[0m\u001b[0msuma\u001b[0m\u001b[0;34m(\u001b[0m\u001b[0;34m\"hola \"\u001b[0m\u001b[0;34m,\u001b[0m \u001b[0;34m\"como te va\"\u001b[0m\u001b[0;34m)\u001b[0m\u001b[0;34m)\u001b[0m\u001b[0;34m\u001b[0m\u001b[0;34m\u001b[0m\u001b[0m\n\u001b[1;32m      9\u001b[0m \u001b[0mprint\u001b[0m\u001b[0;34m(\u001b[0m\u001b[0msuma\u001b[0m\u001b[0;34m(\u001b[0m\u001b[0;34m[\u001b[0m\u001b[0;36m1\u001b[0m\u001b[0;34m,\u001b[0m \u001b[0;36m2\u001b[0m\u001b[0;34m,\u001b[0m \u001b[0;36m3\u001b[0m\u001b[0;34m]\u001b[0m\u001b[0;34m,\u001b[0m \u001b[0;34m[\u001b[0m\u001b[0;36m4\u001b[0m\u001b[0;34m,\u001b[0m \u001b[0;36m5\u001b[0m\u001b[0;34m]\u001b[0m\u001b[0;34m)\u001b[0m\u001b[0;34m)\u001b[0m\u001b[0;34m\u001b[0m\u001b[0;34m\u001b[0m\u001b[0m\n\u001b[0;32m---> 10\u001b[0;31m \u001b[0mprint\u001b[0m\u001b[0;34m(\u001b[0m\u001b[0msuma\u001b[0m\u001b[0;34m(\u001b[0m\u001b[0;34m\"1\"\u001b[0m\u001b[0;34m,\u001b[0m \u001b[0;36m3\u001b[0m\u001b[0;34m)\u001b[0m\u001b[0;34m)\u001b[0m  \u001b[0;31m# Falla\u001b[0m\u001b[0;34m\u001b[0m\u001b[0;34m\u001b[0m\u001b[0m\n\u001b[0m",
      "\u001b[0;32m/tmp/ipykernel_2562/1000948441.py\u001b[0m in \u001b[0;36msuma\u001b[0;34m(a, b)\u001b[0m\n\u001b[1;32m      1\u001b[0m \u001b[0;32mdef\u001b[0m \u001b[0msuma\u001b[0m\u001b[0;34m(\u001b[0m\u001b[0ma\u001b[0m\u001b[0;34m,\u001b[0m \u001b[0mb\u001b[0m\u001b[0;34m)\u001b[0m\u001b[0;34m:\u001b[0m\u001b[0;34m\u001b[0m\u001b[0;34m\u001b[0m\u001b[0m\n\u001b[0;32m----> 2\u001b[0;31m     \u001b[0;32mreturn\u001b[0m \u001b[0ma\u001b[0m \u001b[0;34m+\u001b[0m \u001b[0mb\u001b[0m\u001b[0;34m\u001b[0m\u001b[0;34m\u001b[0m\u001b[0m\n\u001b[0m\u001b[1;32m      3\u001b[0m \u001b[0;34m\u001b[0m\u001b[0m\n\u001b[1;32m      4\u001b[0m \u001b[0;34m\u001b[0m\u001b[0m\n\u001b[1;32m      5\u001b[0m \u001b[0mprint\u001b[0m\u001b[0;34m(\u001b[0m\u001b[0msuma\u001b[0m\u001b[0;34m(\u001b[0m\u001b[0;36m1\u001b[0m\u001b[0;34m,\u001b[0m \u001b[0;36m2\u001b[0m\u001b[0;34m)\u001b[0m\u001b[0;34m)\u001b[0m\u001b[0;34m\u001b[0m\u001b[0;34m\u001b[0m\u001b[0m\n",
      "\u001b[0;31mTypeError\u001b[0m: can only concatenate str (not \"int\") to str"
     ]
    }
   ],
   "source": [
    "def suma(a, b):\n",
    "    return a + b\n",
    "\n",
    "\n",
    "print(suma(1, 2))\n",
    "print(suma(1.0, 2.0))\n",
    "print(suma(1.0, 2))\n",
    "print(suma(\"hola \", \"como te va\"))\n",
    "print(suma([1, 2, 3], [4, 5]))\n",
    "print(suma(\"1\", 3))  # Falla"
   ]
  },
  {
   "cell_type": "code",
   "execution_count": 81,
   "id": "9708a3bc",
   "metadata": {
    "execution": {
     "iopub.execute_input": "2021-11-02T15:29:31.726936Z",
     "iopub.status.busy": "2021-11-02T15:29:31.725215Z",
     "iopub.status.idle": "2021-11-02T15:29:31.729552Z",
     "shell.execute_reply": "2021-11-02T15:29:31.728929Z"
    }
   },
   "outputs": [
    {
     "name": "stdout",
     "output_type": "stream",
     "text": [
      "2.0\n"
     ]
    }
   ],
   "source": [
    "# El valor por default de divisor es 1\n",
    "\n",
    "\n",
    "def division(dividendo, divisor=2):\n",
    "    return dividendo / divisor\n",
    "\n",
    "\n",
    "print(division(4))  # Usa el valor por default"
   ]
  },
  {
   "cell_type": "code",
   "execution_count": 82,
   "id": "99445016",
   "metadata": {
    "execution": {
     "iopub.execute_input": "2021-11-02T15:29:31.737994Z",
     "iopub.status.busy": "2021-11-02T15:29:31.737282Z",
     "iopub.status.idle": "2021-11-02T15:29:31.741123Z",
     "shell.execute_reply": "2021-11-02T15:29:31.741696Z"
    },
    "tags": [
     "raises-exception"
    ]
   },
   "outputs": [
    {
     "name": "stdout",
     "output_type": "stream",
     "text": [
      "0.5\n",
      "0.5\n"
     ]
    },
    {
     "ename": "TypeError",
     "evalue": "division() missing 1 required positional argument: 'dividendo'",
     "output_type": "error",
     "traceback": [
      "\u001b[0;31m---------------------------------------------------------------------------\u001b[0m",
      "\u001b[0;31mTypeError\u001b[0m                                 Traceback (most recent call last)",
      "\u001b[0;32m/tmp/ipykernel_2562/1004518412.py\u001b[0m in \u001b[0;36m<module>\u001b[0;34m\u001b[0m\n\u001b[1;32m      1\u001b[0m \u001b[0mprint\u001b[0m\u001b[0;34m(\u001b[0m\u001b[0mdivision\u001b[0m\u001b[0;34m(\u001b[0m\u001b[0;36m1\u001b[0m\u001b[0;34m,\u001b[0m \u001b[0;36m2\u001b[0m\u001b[0;34m)\u001b[0m\u001b[0;34m)\u001b[0m  \u001b[0;31m# Parámetros por orden\u001b[0m\u001b[0;34m\u001b[0m\u001b[0;34m\u001b[0m\u001b[0m\n\u001b[1;32m      2\u001b[0m \u001b[0mprint\u001b[0m\u001b[0;34m(\u001b[0m\u001b[0mdivision\u001b[0m\u001b[0;34m(\u001b[0m\u001b[0mdividendo\u001b[0m\u001b[0;34m=\u001b[0m\u001b[0;36m1\u001b[0m\u001b[0;34m,\u001b[0m \u001b[0mdivisor\u001b[0m\u001b[0;34m=\u001b[0m\u001b[0;36m2\u001b[0m\u001b[0;34m)\u001b[0m\u001b[0;34m)\u001b[0m  \u001b[0;31m# Parámetros por nombre\u001b[0m\u001b[0;34m\u001b[0m\u001b[0;34m\u001b[0m\u001b[0m\n\u001b[0;32m----> 3\u001b[0;31m \u001b[0mprint\u001b[0m\u001b[0;34m(\u001b[0m\u001b[0mdivision\u001b[0m\u001b[0;34m(\u001b[0m\u001b[0mdivisor\u001b[0m\u001b[0;34m=\u001b[0m\u001b[0;36m2\u001b[0m\u001b[0;34m)\u001b[0m\u001b[0;34m)\u001b[0m\u001b[0;34m\u001b[0m\u001b[0;34m\u001b[0m\u001b[0m\n\u001b[0m",
      "\u001b[0;31mTypeError\u001b[0m: division() missing 1 required positional argument: 'dividendo'"
     ]
    }
   ],
   "source": [
    "print(division(1, 2))  # Parámetros por orden\n",
    "print(division(dividendo=1, divisor=2))  # Parámetros por nombre\n",
    "print(division(divisor=2))"
   ]
  },
  {
   "cell_type": "code",
   "execution_count": 83,
   "id": "71500888",
   "metadata": {
    "execution": {
     "iopub.execute_input": "2021-11-02T15:29:31.746435Z",
     "iopub.status.busy": "2021-11-02T15:29:31.745739Z",
     "iopub.status.idle": "2021-11-02T15:29:31.748644Z",
     "shell.execute_reply": "2021-11-02T15:29:31.749231Z"
    }
   },
   "outputs": [
    {
     "name": "stdout",
     "output_type": "stream",
     "text": [
      "0.5\n"
     ]
    }
   ],
   "source": [
    "print(division(divisor=2, dividendo=1))"
   ]
  },
  {
   "cell_type": "code",
   "execution_count": 84,
   "id": "bb9e9aaf",
   "metadata": {
    "execution": {
     "iopub.execute_input": "2021-11-02T15:29:31.755819Z",
     "iopub.status.busy": "2021-11-02T15:29:31.755141Z",
     "iopub.status.idle": "2021-11-02T15:29:31.760635Z",
     "shell.execute_reply": "2021-11-02T15:29:31.760033Z"
    }
   },
   "outputs": [
    {
     "name": "stdout",
     "output_type": "stream",
     "text": [
      "['a', 'b', 'c']\n",
      "[1, 2, 3]\n",
      "['hola', ' don', ' pepito']\n",
      "hola -  don -  pepito\n"
     ]
    }
   ],
   "source": [
    "# Funciones básicas ya en el lenguaje\n",
    "# Hechas para funcionar para distintos tipos\n",
    "\n",
    "string_ordenado = sorted('bca')\n",
    "print(string_ordenado)\n",
    "\n",
    "lista_ordenada = sorted([1, 3, 2])\n",
    "print(lista_ordenada)\n",
    "\n",
    "separadas = \"hola, don, pepito\".split(\",\")\n",
    "print(separadas)\n",
    "unidas = \" - \".join(separadas)\n",
    "print(unidas)"
   ]
  },
  {
   "cell_type": "markdown",
   "id": "83bc2343",
   "metadata": {},
   "source": [
    "## Módulos\n",
    "\n",
    "Para incluir alguna biblioteca de funciones se usa `import`. Pueden ser cosas ya predefinidas en Python (`math`, `random`, etc), nombres de archivos en nuestro directorio (por ejemplo, para `mimodulo.py` ponemos `import mimodulo`) o bibliotecas instaladas por el usuario"
   ]
  },
  {
   "cell_type": "code",
   "execution_count": 85,
   "id": "f968dcf3",
   "metadata": {
    "execution": {
     "iopub.execute_input": "2021-11-02T15:29:31.765983Z",
     "iopub.status.busy": "2021-11-02T15:29:31.763566Z",
     "iopub.status.idle": "2021-11-02T15:29:31.768997Z",
     "shell.execute_reply": "2021-11-02T15:29:31.769564Z"
    }
   },
   "outputs": [
    {
     "name": "stdout",
     "output_type": "stream",
     "text": [
      "3.141592653589793\n"
     ]
    }
   ],
   "source": [
    "import math\n",
    "\n",
    "print(math.pi)"
   ]
  },
  {
   "cell_type": "code",
   "execution_count": 86,
   "id": "757d8280",
   "metadata": {
    "execution": {
     "iopub.execute_input": "2021-11-02T15:29:31.776508Z",
     "iopub.status.busy": "2021-11-02T15:29:31.775472Z",
     "iopub.status.idle": "2021-11-02T15:29:31.779032Z",
     "shell.execute_reply": "2021-11-02T15:29:31.778434Z"
    }
   },
   "outputs": [
    {
     "name": "stdout",
     "output_type": "stream",
     "text": [
      "3.141592653589793 2.718281828459045\n"
     ]
    }
   ],
   "source": [
    "from math import pi, e\n",
    "\n",
    "print(pi, e)"
   ]
  },
  {
   "cell_type": "code",
   "execution_count": 87,
   "id": "bc5f78e4",
   "metadata": {
    "execution": {
     "iopub.execute_input": "2021-11-02T15:29:31.783947Z",
     "iopub.status.busy": "2021-11-02T15:29:31.783348Z",
     "iopub.status.idle": "2021-11-02T15:29:31.786274Z",
     "shell.execute_reply": "2021-11-02T15:29:31.786781Z"
    }
   },
   "outputs": [
    {
     "data": {
      "text/plain": [
       "2"
      ]
     },
     "execution_count": 87,
     "metadata": {},
     "output_type": "execute_result"
    }
   ],
   "source": [
    "math.gcd(56, 78)"
   ]
  },
  {
   "cell_type": "markdown",
   "id": "319e1073",
   "metadata": {},
   "source": [
    "## Manejo de excepciones\n",
    "\n",
    "Se pueden encapsular errores esperados en un bloque 'try/except' para evitar cortar el flujo del programa"
   ]
  },
  {
   "cell_type": "code",
   "execution_count": 88,
   "id": "7145e7c8",
   "metadata": {
    "execution": {
     "iopub.execute_input": "2021-11-02T15:29:31.790989Z",
     "iopub.status.busy": "2021-11-02T15:29:31.790401Z",
     "iopub.status.idle": "2021-11-02T15:29:31.799088Z",
     "shell.execute_reply": "2021-11-02T15:29:31.799578Z"
    },
    "tags": [
     "raises-exception"
    ]
   },
   "outputs": [
    {
     "ename": "ZeroDivisionError",
     "evalue": "division by zero",
     "output_type": "error",
     "traceback": [
      "\u001b[0;31m---------------------------------------------------------------------------\u001b[0m",
      "\u001b[0;31mZeroDivisionError\u001b[0m                         Traceback (most recent call last)",
      "\u001b[0;32m/tmp/ipykernel_2562/1165346582.py\u001b[0m in \u001b[0;36m<module>\u001b[0;34m\u001b[0m\n\u001b[0;32m----> 1\u001b[0;31m \u001b[0mdivision\u001b[0m\u001b[0;34m(\u001b[0m\u001b[0;36m1\u001b[0m\u001b[0;34m,\u001b[0m \u001b[0;36m0\u001b[0m\u001b[0;34m)\u001b[0m  \u001b[0;31m# No se puede dividir por cero\u001b[0m\u001b[0;34m\u001b[0m\u001b[0;34m\u001b[0m\u001b[0m\n\u001b[0m",
      "\u001b[0;32m/tmp/ipykernel_2562/2607187721.py\u001b[0m in \u001b[0;36mdivision\u001b[0;34m(dividendo, divisor)\u001b[0m\n\u001b[1;32m      3\u001b[0m \u001b[0;34m\u001b[0m\u001b[0m\n\u001b[1;32m      4\u001b[0m \u001b[0;32mdef\u001b[0m \u001b[0mdivision\u001b[0m\u001b[0;34m(\u001b[0m\u001b[0mdividendo\u001b[0m\u001b[0;34m,\u001b[0m \u001b[0mdivisor\u001b[0m\u001b[0;34m=\u001b[0m\u001b[0;36m2\u001b[0m\u001b[0;34m)\u001b[0m\u001b[0;34m:\u001b[0m\u001b[0;34m\u001b[0m\u001b[0;34m\u001b[0m\u001b[0m\n\u001b[0;32m----> 5\u001b[0;31m     \u001b[0;32mreturn\u001b[0m \u001b[0mdividendo\u001b[0m \u001b[0;34m/\u001b[0m \u001b[0mdivisor\u001b[0m\u001b[0;34m\u001b[0m\u001b[0;34m\u001b[0m\u001b[0m\n\u001b[0m\u001b[1;32m      6\u001b[0m \u001b[0;34m\u001b[0m\u001b[0m\n\u001b[1;32m      7\u001b[0m \u001b[0;34m\u001b[0m\u001b[0m\n",
      "\u001b[0;31mZeroDivisionError\u001b[0m: division by zero"
     ]
    }
   ],
   "source": [
    "division(1, 0)  # No se puede dividir por cero"
   ]
  },
  {
   "cell_type": "code",
   "execution_count": 89,
   "id": "9175eec9",
   "metadata": {
    "execution": {
     "iopub.execute_input": "2021-11-02T15:29:31.807487Z",
     "iopub.status.busy": "2021-11-02T15:29:31.805256Z",
     "iopub.status.idle": "2021-11-02T15:29:31.810036Z",
     "shell.execute_reply": "2021-11-02T15:29:31.809198Z"
    }
   },
   "outputs": [
    {
     "name": "stdout",
     "output_type": "stream",
     "text": [
      "No se puede dividir por cero, ojo! division by zero\n",
      "1\n"
     ]
    }
   ],
   "source": [
    "try:\n",
    "    division(1, 0)\n",
    "except (ZeroDivisionError, TypeError) as e:\n",
    "    print('No se puede dividir por cero, ojo!', e)\n",
    "finally:\n",
    "    print(1)"
   ]
  },
  {
   "cell_type": "markdown",
   "id": "f818e7c0",
   "metadata": {
    "slideshow": {
     "slide_type": "slide"
    }
   },
   "source": [
    "## Lectura y escritura de archivos"
   ]
  },
  {
   "cell_type": "code",
   "execution_count": 90,
   "id": "2b06f680",
   "metadata": {
    "execution": {
     "iopub.execute_input": "2021-11-02T15:29:31.816800Z",
     "iopub.status.busy": "2021-11-02T15:29:31.816152Z",
     "iopub.status.idle": "2021-11-02T15:29:31.819314Z",
     "shell.execute_reply": "2021-11-02T15:29:31.819812Z"
    },
    "slideshow": {
     "slide_type": "slide"
    }
   },
   "outputs": [
    {
     "name": "stdout",
     "output_type": "stream",
     "text": [
      "<_io.TextIOWrapper name='archivo.csv' mode='w' encoding='UTF-8'>\n"
     ]
    }
   ],
   "source": [
    "import random\n",
    "\n",
    "with open(\n",
    "    'archivo.csv', 'w'\n",
    ") as archivo:  # Al usar esta sintaxis no es necesario hacer close\n",
    "    archivo.write(\"Alumno, nota\\n\")\n",
    "    # Tambien de forma similar al fprintf se puede hacer:\n",
    "    # print(\"Alumno, nota\\n\", file=archivo)\n",
    "    for i in range(0, 10):\n",
    "        archivo.write(f\"{i},{random.randrange(0,10)}\\n\")\n",
    "\n",
    "print(archivo)  # Comentario aclaratorio:\n",
    "# Las variables definidas en un determinado scope siguen existiendo por fuera del mismo.\n",
    "# Se debe tener cuidado con esto, ya que nada garantiza que por fuera el valor sea el esperado."
   ]
  },
  {
   "cell_type": "code",
   "execution_count": 91,
   "id": "b79c4969",
   "metadata": {
    "execution": {
     "iopub.execute_input": "2021-11-02T15:29:31.823992Z",
     "iopub.status.busy": "2021-11-02T15:29:31.823419Z",
     "iopub.status.idle": "2021-11-02T15:29:31.829149Z",
     "shell.execute_reply": "2021-11-02T15:29:31.828587Z"
    },
    "slideshow": {
     "slide_type": "slide"
    }
   },
   "outputs": [
    {
     "name": "stdout",
     "output_type": "stream",
     "text": [
      "Alumno, nota\n",
      "0,0\n",
      "1,6\n",
      "2,8\n",
      "3,7\n",
      "4,9\n",
      "5,1\n",
      "6,5\n",
      "7,9\n",
      "8,8\n",
      "9,9\n"
     ]
    }
   ],
   "source": [
    "with open('archivo.csv', 'r') as f:\n",
    "    for linea in f:\n",
    "        print(linea.strip())"
   ]
  },
  {
   "cell_type": "code",
   "execution_count": 92,
   "id": "52f979bf",
   "metadata": {
    "execution": {
     "iopub.execute_input": "2021-11-02T15:29:31.835369Z",
     "iopub.status.busy": "2021-11-02T15:29:31.833676Z",
     "iopub.status.idle": "2021-11-02T15:29:31.837890Z",
     "shell.execute_reply": "2021-11-02T15:29:31.837158Z"
    }
   },
   "outputs": [
    {
     "name": "stdout",
     "output_type": "stream",
     "text": [
      "Alumno, nota\n",
      "0,0\n",
      "1,6\n",
      "2,8\n",
      "3,7\n",
      "4,9\n",
      "5,1\n",
      "6,5\n",
      "7,9\n",
      "8,8\n",
      "9,9\n",
      "\n"
     ]
    }
   ],
   "source": [
    "with open('archivo.csv', 'r') as f:\n",
    "    print(f.read())"
   ]
  },
  {
   "cell_type": "code",
   "execution_count": 93,
   "id": "dcf81279",
   "metadata": {
    "execution": {
     "iopub.execute_input": "2021-11-02T15:29:31.841949Z",
     "iopub.status.busy": "2021-11-02T15:29:31.841381Z",
     "iopub.status.idle": "2021-11-02T15:29:31.843822Z",
     "shell.execute_reply": "2021-11-02T15:29:31.844484Z"
    }
   },
   "outputs": [],
   "source": [
    "f = open('archivo.csv', 'w')\n",
    "f.write(\"algo, algo\")\n",
    "f.close()"
   ]
  },
  {
   "cell_type": "markdown",
   "id": "ac2b0ebb",
   "metadata": {
    "slideshow": {
     "slide_type": "slide"
    }
   },
   "source": [
    "## Objetos\n",
    "\n",
    "Los objetos tienen metodos y atributos:\n",
    "- Atributos: equivalentes a variables.\n",
    "- Métodos: equivalentes a las primitivas."
   ]
  },
  {
   "cell_type": "markdown",
   "id": "5c927dc3",
   "metadata": {
    "slideshow": {
     "slide_type": "slide"
    }
   },
   "source": [
    "### Cómo creo una clase"
   ]
  },
  {
   "cell_type": "code",
   "execution_count": 94,
   "id": "8c1fb018",
   "metadata": {
    "execution": {
     "iopub.execute_input": "2021-11-02T15:29:31.851997Z",
     "iopub.status.busy": "2021-11-02T15:29:31.850514Z",
     "iopub.status.idle": "2021-11-02T15:29:31.852706Z",
     "shell.execute_reply": "2021-11-02T15:29:31.853321Z"
    },
    "slideshow": {
     "slide_type": "slide"
    }
   },
   "outputs": [],
   "source": [
    "class Nodo(object):\n",
    "    def __init__(self, dato, siguiente=None):\n",
    "        self._dato = dato\n",
    "        self._siguiente = siguiente\n",
    "\n",
    "    @property\n",
    "    def dato(self):\n",
    "        return self._dato\n",
    "\n",
    "    @property\n",
    "    def proximo(self):\n",
    "        return self._siguiente\n",
    "\n",
    "    @proximo.setter\n",
    "    def proximo(self, siguiente):\n",
    "        self._siguiente = siguiente\n",
    "\n",
    "    def __repr__(self):\n",
    "        return str(self.dato)\n",
    "\n",
    "    def __str__(self):\n",
    "        return str(self.dato)"
   ]
  },
  {
   "cell_type": "code",
   "execution_count": 95,
   "id": "71ccd129",
   "metadata": {
    "execution": {
     "iopub.execute_input": "2021-11-02T15:29:31.859207Z",
     "iopub.status.busy": "2021-11-02T15:29:31.857569Z",
     "iopub.status.idle": "2021-11-02T15:29:31.861651Z",
     "shell.execute_reply": "2021-11-02T15:29:31.861040Z"
    },
    "slideshow": {
     "slide_type": "slide"
    }
   },
   "outputs": [
    {
     "name": "stdout",
     "output_type": "stream",
     "text": [
      "hola\n"
     ]
    }
   ],
   "source": [
    "nodo = Nodo(\"hola\")\n",
    "print(nodo)"
   ]
  },
  {
   "cell_type": "code",
   "execution_count": 96,
   "id": "0e1172d2",
   "metadata": {
    "execution": {
     "iopub.execute_input": "2021-11-02T15:29:31.867652Z",
     "iopub.status.busy": "2021-11-02T15:29:31.866168Z",
     "iopub.status.idle": "2021-11-02T15:29:31.870064Z",
     "shell.execute_reply": "2021-11-02T15:29:31.869497Z"
    },
    "slideshow": {
     "slide_type": "slide"
    }
   },
   "outputs": [
    {
     "name": "stdout",
     "output_type": "stream",
     "text": [
      "[hola, lala]\n"
     ]
    }
   ],
   "source": [
    "nodo2 = Nodo(\"lala\")\n",
    "print([nodo, nodo2])"
   ]
  },
  {
   "cell_type": "code",
   "execution_count": 97,
   "id": "8667c95c",
   "metadata": {
    "execution": {
     "iopub.execute_input": "2021-11-02T15:29:31.874947Z",
     "iopub.status.busy": "2021-11-02T15:29:31.874379Z",
     "iopub.status.idle": "2021-11-02T15:29:31.876673Z",
     "shell.execute_reply": "2021-11-02T15:29:31.877217Z"
    },
    "slideshow": {
     "slide_type": "slide"
    }
   },
   "outputs": [
    {
     "name": "stdout",
     "output_type": "stream",
     "text": [
      "hola\n"
     ]
    }
   ],
   "source": [
    "nodo3 = nodo.dato\n",
    "print(nodo3)"
   ]
  },
  {
   "cell_type": "markdown",
   "id": "bc7bd5d1",
   "metadata": {
    "slideshow": {
     "slide_type": "slide"
    }
   },
   "source": [
    "### Ejemplo: Lista Enlazada"
   ]
  },
  {
   "cell_type": "code",
   "execution_count": 98,
   "id": "a7cd9d06",
   "metadata": {
    "execution": {
     "iopub.execute_input": "2021-11-02T15:29:31.887577Z",
     "iopub.status.busy": "2021-11-02T15:29:31.885160Z",
     "iopub.status.idle": "2021-11-02T15:29:31.890000Z",
     "shell.execute_reply": "2021-11-02T15:29:31.889487Z"
    },
    "slideshow": {
     "slide_type": "slide"
    }
   },
   "outputs": [],
   "source": [
    "class ListaEnlazada(object):\n",
    "    def __init__(self):\n",
    "        self._primero = None\n",
    "        self._ultimo = None\n",
    "        self._largo = 0\n",
    "\n",
    "    def __len__(self):\n",
    "        return self._largo\n",
    "\n",
    "    def insertar_al_principio(self, dato):\n",
    "        nodo = Nodo(dato, self._primero)\n",
    "        self._primero = nodo\n",
    "        self._largo += 1\n",
    "        if self._largo == 1:\n",
    "            self._ultimo = nodo\n",
    "\n",
    "    def insertar_al_final(self, dato):\n",
    "        if self._largo != 0:\n",
    "            nodo = Nodo(dato)\n",
    "            nodo_anterior = self._ultimo\n",
    "            nodo_anterior._siguiente = nodo\n",
    "            self._ultimo = nodo\n",
    "            self._largo += 1\n",
    "        else:\n",
    "            self.insertar_al_principio(dato)\n",
    "\n",
    "    @property\n",
    "    def primero(self):\n",
    "        return self._primero.dato\n",
    "\n",
    "    def borrar_primero(self):\n",
    "        dato = self.primero.dato\n",
    "        self._primero = self.primero.siguiente\n",
    "        self._largo -= 1\n",
    "        if self._largo == 0:\n",
    "            self._ultimo = None\n",
    "        return dato\n",
    "\n",
    "    def __str__(self):\n",
    "        datos = []\n",
    "        nodo_actual = self._primero\n",
    "        while nodo_actual:\n",
    "            datos.append(nodo_actual.dato)\n",
    "            nodo_actual = nodo_actual.proximo\n",
    "        return \" -> \".join(datos)\n",
    "\n",
    "    def __repr__(self):\n",
    "        return self.__str__()"
   ]
  },
  {
   "cell_type": "code",
   "execution_count": 99,
   "id": "089632e5",
   "metadata": {
    "execution": {
     "iopub.execute_input": "2021-11-02T15:29:31.896350Z",
     "iopub.status.busy": "2021-11-02T15:29:31.895719Z",
     "iopub.status.idle": "2021-11-02T15:29:31.899697Z",
     "shell.execute_reply": "2021-11-02T15:29:31.900211Z"
    },
    "slideshow": {
     "slide_type": "slide"
    }
   },
   "outputs": [
    {
     "data": {
      "text/plain": [
       "2"
      ]
     },
     "execution_count": 99,
     "metadata": {},
     "output_type": "execute_result"
    }
   ],
   "source": [
    "lista = ListaEnlazada()\n",
    "lista.insertar_al_principio(\"Primer Dato\")\n",
    "lista.insertar_al_principio(\"Primer primer Dato\")\n",
    "len(lista)"
   ]
  },
  {
   "cell_type": "code",
   "execution_count": 100,
   "id": "0bc25ffd",
   "metadata": {
    "execution": {
     "iopub.execute_input": "2021-11-02T15:29:31.907100Z",
     "iopub.status.busy": "2021-11-02T15:29:31.905761Z",
     "iopub.status.idle": "2021-11-02T15:29:31.910186Z",
     "shell.execute_reply": "2021-11-02T15:29:31.909595Z"
    }
   },
   "outputs": [
    {
     "data": {
      "text/plain": [
       "Primer primer Dato -> Primer Dato"
      ]
     },
     "execution_count": 100,
     "metadata": {},
     "output_type": "execute_result"
    }
   ],
   "source": [
    "lista"
   ]
  },
  {
   "cell_type": "code",
   "execution_count": 101,
   "id": "3025091f",
   "metadata": {
    "execution": {
     "iopub.execute_input": "2021-11-02T15:29:31.915573Z",
     "iopub.status.busy": "2021-11-02T15:29:31.914903Z",
     "iopub.status.idle": "2021-11-02T15:29:31.917290Z",
     "shell.execute_reply": "2021-11-02T15:29:31.917797Z"
    },
    "slideshow": {
     "slide_type": "slide"
    }
   },
   "outputs": [
    {
     "name": "stdout",
     "output_type": "stream",
     "text": [
      "Primer primer Dato\n"
     ]
    }
   ],
   "source": [
    "elemento = lista.primero\n",
    "print(elemento)"
   ]
  },
  {
   "cell_type": "markdown",
   "id": "aae2b842",
   "metadata": {},
   "source": [
    "## Recursos\n",
    "\n",
    "* [Taller de Python de Algoritmos II](https://github.com/algoritmos-rw/algo2_apuntes)\n",
    "\n",
    "* [Documentación de Python 3](https://docs.python.org/3/tutorial/)\n",
    "\n",
    "* [Apunte de Algoritmos y Programación I](https://algoritmos1rw.ddns.net/material)\n",
    "\n",
    "* [Automate the Boring Stuff with Python](http://automatetheboringstuff.com/)\n",
    "\n",
    "* [Curso Python](https://pythoncurso.github.io)\n",
    "\n",
    "* [Python Tutor](http://pythontutor.com/)\n",
    "\n",
    "* [Learn Python3 in Y minutes](https://learnxinyminutes.com/docs/python3/)\n",
    "\n",
    "* [Bibliografía de Algoritmos y Programación I](https://algoritmos1rw.ddns.net/bibliografia)"
   ]
  }
 ],
 "metadata": {
  "jupytext": {
   "encoding": "# -*- coding: utf-8 -*-",
   "formats": "ipynb,py:light"
  },
  "kernelspec": {
   "display_name": "Python 3 (venv)",
   "language": "python",
   "name": "python3"
  },
  "language_info": {
   "codemirror_mode": {
    "name": "ipython",
    "version": 3
   },
   "file_extension": ".py",
   "mimetype": "text/x-python",
   "name": "python",
   "nbconvert_exporter": "python",
   "pygments_lexer": "ipython3",
   "version": "3.7.12"
  }
 },
 "nbformat": 4,
 "nbformat_minor": 5
}
