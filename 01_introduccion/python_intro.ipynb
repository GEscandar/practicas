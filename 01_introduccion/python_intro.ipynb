{
 "cells": [
  {
   "cell_type": "markdown",
   "id": "dbc4b412",
   "metadata": {},
   "source": [
    "# Python"
   ]
  },
  {
   "cell_type": "markdown",
   "id": "0c0b8e8b",
   "metadata": {
    "slideshow": {
     "slide_type": "slide"
    }
   },
   "source": [
    "## Un poco de Historia"
   ]
  },
  {
   "cell_type": "markdown",
   "id": "21be7b41",
   "metadata": {
    "slideshow": {
     "slide_type": "subslide"
    }
   },
   "source": [
    "Python fue creado a finales de los años 80 por un programador holandés llamado **Guido van Rossum**,\n",
    "quien sigue siendo aún hoy el líder del desarrollo del lenguaje.\n",
    "\n",
    "(Edit julio 2018: [ya no más](https://www.mail-archive.com/python-committers@python.org/msg05628.html))"
   ]
  },
  {
   "cell_type": "markdown",
   "id": "baa90bcf",
   "metadata": {
    "slideshow": {
     "slide_type": "subslide"
    }
   },
   "source": [
    "El nombre del lenguaje proviene de los humoristas británicos Monty Python.\n",
    "\n",
    ">*\"I chose Python as a working title for the project, being in a slightly irreverent mood (and a big fan of Monty Python's Flying Circus).\"*"
   ]
  },
  {
   "cell_type": "markdown",
   "id": "de92f691",
   "metadata": {
    "slideshow": {
     "slide_type": "slide"
    }
   },
   "source": [
    "## Caracteristicas\n",
    "\n",
    "- Interpretado\n",
    "- Tipado dinamico\n",
    "- Multiparadigma\n",
    "- Alto nivel\n",
    "- Tiene un recolector de basura (no hay malloc, free, realloc, etc)"
   ]
  },
  {
   "cell_type": "markdown",
   "id": "08a5dbbf",
   "metadata": {},
   "source": [
    "## ¿Cómo empezar?\n",
    "\n",
    "* Al ser un lenguaje *interpretado*, se puede ir escribiendo a medida que se ejecuta, sin necesidad de compilar de antemano! Solamente hace falta escribir `python` o `python3` en una terminal para empezar\n",
    "\n",
    "* También, permite escribir archivos y correrlos. Crear un archivo con extensión `.py` y luego correr `python miarchivo.py` en laterminal"
   ]
  },
  {
   "cell_type": "markdown",
   "id": "2a4536f5",
   "metadata": {
    "slideshow": {
     "slide_type": "slide"
    }
   },
   "source": [
    "## El Zen de Python"
   ]
  },
  {
   "cell_type": "code",
   "execution_count": 1,
   "id": "3c2dc54c",
   "metadata": {
    "execution": {
     "iopub.execute_input": "2021-04-20T20:12:09.344746Z",
     "iopub.status.busy": "2021-04-20T20:12:09.343651Z",
     "iopub.status.idle": "2021-04-20T20:12:09.392107Z",
     "shell.execute_reply": "2021-04-20T20:12:09.391327Z"
    },
    "slideshow": {
     "slide_type": "slide"
    }
   },
   "outputs": [
    {
     "name": "stdout",
     "output_type": "stream",
     "text": [
      "The Zen of Python, by Tim Peters\n",
      "\n",
      "Beautiful is better than ugly.\n",
      "Explicit is better than implicit.\n",
      "Simple is better than complex.\n",
      "Complex is better than complicated.\n",
      "Flat is better than nested.\n",
      "Sparse is better than dense.\n",
      "Readability counts.\n",
      "Special cases aren't special enough to break the rules.\n",
      "Although practicality beats purity.\n",
      "Errors should never pass silently.\n",
      "Unless explicitly silenced.\n",
      "In the face of ambiguity, refuse the temptation to guess.\n",
      "There should be one-- and preferably only one --obvious way to do it.\n",
      "Although that way may not be obvious at first unless you're Dutch.\n",
      "Now is better than never.\n",
      "Although never is often better than *right* now.\n",
      "If the implementation is hard to explain, it's a bad idea.\n",
      "If the implementation is easy to explain, it may be a good idea.\n",
      "Namespaces are one honking great idea -- let's do more of those!\n"
     ]
    }
   ],
   "source": [
    "import this"
   ]
  },
  {
   "cell_type": "markdown",
   "id": "ae3d9d92",
   "metadata": {
    "slideshow": {
     "slide_type": "slide"
    }
   },
   "source": [
    "## Conocimientos Básicos de Python: Variables y Tipos"
   ]
  },
  {
   "cell_type": "code",
   "execution_count": 2,
   "id": "a6671f78",
   "metadata": {
    "execution": {
     "iopub.execute_input": "2021-04-20T20:12:09.397559Z",
     "iopub.status.busy": "2021-04-20T20:12:09.396817Z",
     "iopub.status.idle": "2021-04-20T20:12:09.399085Z",
     "shell.execute_reply": "2021-04-20T20:12:09.399589Z"
    },
    "slideshow": {
     "slide_type": "slide"
    }
   },
   "outputs": [
    {
     "name": "stdout",
     "output_type": "stream",
     "text": [
      "Hello World!\n"
     ]
    }
   ],
   "source": [
    "# Este es un comentario\n",
    "\n",
    "print(\"Hello World!\")"
   ]
  },
  {
   "cell_type": "markdown",
   "id": "0420aa29",
   "metadata": {},
   "source": [
    "Los strings en python puden escribirse tanto con comillas simples (`'`) como comillas dobles (`\"`). Normalmente vemos texto entre comillas triples para escribir _docstrings_, segun la guia de estilo de Python, el PEP8."
   ]
  },
  {
   "cell_type": "code",
   "execution_count": 3,
   "id": "6844840c",
   "metadata": {
    "execution": {
     "iopub.execute_input": "2021-04-20T20:12:09.413086Z",
     "iopub.status.busy": "2021-04-20T20:12:09.411789Z",
     "iopub.status.idle": "2021-04-20T20:12:09.416001Z",
     "shell.execute_reply": "2021-04-20T20:12:09.415356Z"
    }
   },
   "outputs": [
    {
     "data": {
      "text/plain": [
       "'Esto es un docstring.\\n'"
      ]
     },
     "execution_count": 1,
     "metadata": {},
     "output_type": "execute_result"
    }
   ],
   "source": [
    "\"\"\"Esto es un docstring.\n",
    "\"\"\""
   ]
  },
  {
   "cell_type": "markdown",
   "id": "13e6accc",
   "metadata": {},
   "source": [
    "### Declaracion de variables"
   ]
  },
  {
   "cell_type": "code",
   "execution_count": 4,
   "id": "148ec414",
   "metadata": {
    "execution": {
     "iopub.execute_input": "2021-04-20T20:12:09.420264Z",
     "iopub.status.busy": "2021-04-20T20:12:09.419545Z",
     "iopub.status.idle": "2021-04-20T20:12:09.423286Z",
     "shell.execute_reply": "2021-04-20T20:12:09.423899Z"
    }
   },
   "outputs": [
    {
     "name": "stdout",
     "output_type": "stream",
     "text": [
      "Hola\n"
     ]
    }
   ],
   "source": [
    "string = 'Hola'\n",
    "print(string)"
   ]
  },
  {
   "cell_type": "code",
   "execution_count": 5,
   "id": "dded9b13",
   "metadata": {
    "execution": {
     "iopub.execute_input": "2021-04-20T20:12:09.430398Z",
     "iopub.status.busy": "2021-04-20T20:12:09.428802Z",
     "iopub.status.idle": "2021-04-20T20:12:09.432753Z",
     "shell.execute_reply": "2021-04-20T20:12:09.432122Z"
    }
   },
   "outputs": [
    {
     "name": "stdout",
     "output_type": "stream",
     "text": [
      "1\n"
     ]
    }
   ],
   "source": [
    "entero = 1\n",
    "print(entero)"
   ]
  },
  {
   "cell_type": "code",
   "execution_count": 6,
   "id": "7b17ef32",
   "metadata": {
    "execution": {
     "iopub.execute_input": "2021-04-20T20:12:09.437305Z",
     "iopub.status.busy": "2021-04-20T20:12:09.436619Z",
     "iopub.status.idle": "2021-04-20T20:12:09.438842Z",
     "shell.execute_reply": "2021-04-20T20:12:09.439481Z"
    }
   },
   "outputs": [
    {
     "name": "stdout",
     "output_type": "stream",
     "text": [
      "1.0\n"
     ]
    }
   ],
   "source": [
    "flotante = 1.0\n",
    "print(flotante)"
   ]
  },
  {
   "cell_type": "code",
   "execution_count": 7,
   "id": "49ca3fd7",
   "metadata": {
    "execution": {
     "iopub.execute_input": "2021-04-20T20:12:09.444691Z",
     "iopub.status.busy": "2021-04-20T20:12:09.444003Z",
     "iopub.status.idle": "2021-04-20T20:12:09.446528Z",
     "shell.execute_reply": "2021-04-20T20:12:09.447109Z"
    }
   },
   "outputs": [
    {
     "name": "stdout",
     "output_type": "stream",
     "text": [
      "(1, 1.0)\n"
     ]
    }
   ],
   "source": [
    "tupla = (entero, flotante)\n",
    "print(tupla)"
   ]
  },
  {
   "cell_type": "code",
   "execution_count": 8,
   "id": "11b8d7bd",
   "metadata": {
    "execution": {
     "iopub.execute_input": "2021-04-20T20:12:09.451872Z",
     "iopub.status.busy": "2021-04-20T20:12:09.451243Z",
     "iopub.status.idle": "2021-04-20T20:12:09.454158Z",
     "shell.execute_reply": "2021-04-20T20:12:09.453586Z"
    }
   },
   "outputs": [
    {
     "name": "stdout",
     "output_type": "stream",
     "text": [
      "(1, 1.0, 'Hola')\n"
     ]
    }
   ],
   "source": [
    "nupla = (entero, flotante, string)\n",
    "print(nupla)"
   ]
  },
  {
   "cell_type": "code",
   "execution_count": 9,
   "id": "8a145c14",
   "metadata": {
    "execution": {
     "iopub.execute_input": "2021-04-20T20:12:09.458892Z",
     "iopub.status.busy": "2021-04-20T20:12:09.458174Z",
     "iopub.status.idle": "2021-04-20T20:12:09.463415Z",
     "shell.execute_reply": "2021-04-20T20:12:09.462847Z"
    }
   },
   "outputs": [
    {
     "name": "stdout",
     "output_type": "stream",
     "text": [
      "[1, 1.0, 'Hola']\n"
     ]
    }
   ],
   "source": [
    "lista = [entero, flotante, string]\n",
    "print(lista)"
   ]
  },
  {
   "cell_type": "code",
   "execution_count": 10,
   "id": "b4fde681",
   "metadata": {
    "execution": {
     "iopub.execute_input": "2021-04-20T20:12:09.469257Z",
     "iopub.status.busy": "2021-04-20T20:12:09.467689Z",
     "iopub.status.idle": "2021-04-20T20:12:09.471524Z",
     "shell.execute_reply": "2021-04-20T20:12:09.470910Z"
    }
   },
   "outputs": [
    {
     "name": "stdout",
     "output_type": "stream",
     "text": [
      "{'1': (1, 1.0), 50: (1, 1.0, 'Hola'), '3': 1}\n"
     ]
    }
   ],
   "source": [
    "diccionario = {'1': tupla, 50: nupla, '3': entero}\n",
    "print(diccionario)"
   ]
  },
  {
   "cell_type": "code",
   "execution_count": 11,
   "id": "9e47dc16",
   "metadata": {
    "execution": {
     "iopub.execute_input": "2021-04-20T20:12:09.477301Z",
     "iopub.status.busy": "2021-04-20T20:12:09.475795Z",
     "iopub.status.idle": "2021-04-20T20:12:09.479462Z",
     "shell.execute_reply": "2021-04-20T20:12:09.478926Z"
    }
   },
   "outputs": [
    {
     "name": "stdout",
     "output_type": "stream",
     "text": [
      "{1, 2}\n"
     ]
    }
   ],
   "source": [
    "conjunto = set([1, 2])\n",
    "print(conjunto)"
   ]
  },
  {
   "cell_type": "code",
   "execution_count": 12,
   "id": "92a7380e",
   "metadata": {
    "execution": {
     "iopub.execute_input": "2021-04-20T20:12:09.485394Z",
     "iopub.status.busy": "2021-04-20T20:12:09.483907Z",
     "iopub.status.idle": "2021-04-20T20:12:09.487407Z",
     "shell.execute_reply": "2021-04-20T20:12:09.486846Z"
    }
   },
   "outputs": [
    {
     "name": "stdout",
     "output_type": "stream",
     "text": [
      "True\n"
     ]
    }
   ],
   "source": [
    "booleano = True\n",
    "print(booleano)"
   ]
  },
  {
   "cell_type": "code",
   "execution_count": 13,
   "id": "5d8540ee",
   "metadata": {
    "execution": {
     "iopub.execute_input": "2021-04-20T20:12:09.493014Z",
     "iopub.status.busy": "2021-04-20T20:12:09.491501Z",
     "iopub.status.idle": "2021-04-20T20:12:09.495076Z",
     "shell.execute_reply": "2021-04-20T20:12:09.494506Z"
    }
   },
   "outputs": [
    {
     "name": "stdout",
     "output_type": "stream",
     "text": [
      "None\n"
     ]
    }
   ],
   "source": [
    "nada = None\n",
    "print(nada)"
   ]
  },
  {
   "cell_type": "markdown",
   "id": "feaba111",
   "metadata": {},
   "source": [
    "Ojo que las variables pueden cambiar de tipo!"
   ]
  },
  {
   "cell_type": "code",
   "execution_count": 14,
   "id": "7e75d9da",
   "metadata": {
    "execution": {
     "iopub.execute_input": "2021-04-20T20:12:09.501086Z",
     "iopub.status.busy": "2021-04-20T20:12:09.499551Z",
     "iopub.status.idle": "2021-04-20T20:12:09.503432Z",
     "shell.execute_reply": "2021-04-20T20:12:09.502641Z"
    }
   },
   "outputs": [
    {
     "name": "stdout",
     "output_type": "stream",
     "text": [
      "1\n",
      "<class 'int'>\n"
     ]
    }
   ],
   "source": [
    "elemento = 1\n",
    "print(elemento)\n",
    "print(type(elemento))"
   ]
  },
  {
   "cell_type": "code",
   "execution_count": 15,
   "id": "39aa3a6b",
   "metadata": {
    "execution": {
     "iopub.execute_input": "2021-04-20T20:12:09.509766Z",
     "iopub.status.busy": "2021-04-20T20:12:09.508139Z",
     "iopub.status.idle": "2021-04-20T20:12:09.512227Z",
     "shell.execute_reply": "2021-04-20T20:12:09.511499Z"
    }
   },
   "outputs": [
    {
     "name": "stdout",
     "output_type": "stream",
     "text": [
      "1\n",
      "<class 'str'>\n"
     ]
    }
   ],
   "source": [
    "elemento = str(1)\n",
    "print(elemento)\n",
    "print(type(elemento))"
   ]
  },
  {
   "cell_type": "code",
   "execution_count": 16,
   "id": "5b9a5698",
   "metadata": {
    "execution": {
     "iopub.execute_input": "2021-04-20T20:12:09.518590Z",
     "iopub.status.busy": "2021-04-20T20:12:09.517064Z",
     "iopub.status.idle": "2021-04-20T20:12:09.520903Z",
     "shell.execute_reply": "2021-04-20T20:12:09.520326Z"
    }
   },
   "outputs": [
    {
     "name": "stdout",
     "output_type": "stream",
     "text": [
      "[2]\n",
      "<class 'list'>\n"
     ]
    }
   ],
   "source": [
    "elemento = [2]\n",
    "\n",
    "print(elemento)\n",
    "print(type(elemento))"
   ]
  },
  {
   "cell_type": "markdown",
   "id": "6805d5a5",
   "metadata": {},
   "source": [
    "### Tipos basicos"
   ]
  },
  {
   "cell_type": "markdown",
   "id": "0ca806cf",
   "metadata": {
    "slideshow": {
     "slide_type": "slide"
    }
   },
   "source": [
    "#### Listas de Python"
   ]
  },
  {
   "cell_type": "code",
   "execution_count": 17,
   "id": "817702ec",
   "metadata": {
    "execution": {
     "iopub.execute_input": "2021-04-20T20:12:09.528407Z",
     "iopub.status.busy": "2021-04-20T20:12:09.527082Z",
     "iopub.status.idle": "2021-04-20T20:12:09.531159Z",
     "shell.execute_reply": "2021-04-20T20:12:09.530529Z"
    }
   },
   "outputs": [
    {
     "data": {
      "text/plain": [
       "[]"
      ]
     },
     "execution_count": 1,
     "metadata": {},
     "output_type": "execute_result"
    }
   ],
   "source": [
    "lista = list()\n",
    "lista"
   ]
  },
  {
   "cell_type": "code",
   "execution_count": 18,
   "id": "edc329d7",
   "metadata": {
    "execution": {
     "iopub.execute_input": "2021-04-20T20:12:09.536048Z",
     "iopub.status.busy": "2021-04-20T20:12:09.535303Z",
     "iopub.status.idle": "2021-04-20T20:12:09.538027Z",
     "shell.execute_reply": "2021-04-20T20:12:09.538634Z"
    },
    "slideshow": {
     "slide_type": "slide"
    }
   },
   "outputs": [
    {
     "data": {
      "text/plain": [
       "[]"
      ]
     },
     "execution_count": 1,
     "metadata": {},
     "output_type": "execute_result"
    }
   ],
   "source": [
    "lista = []\n",
    "lista"
   ]
  },
  {
   "cell_type": "code",
   "execution_count": 19,
   "id": "c73a4a67",
   "metadata": {
    "execution": {
     "iopub.execute_input": "2021-04-20T20:12:09.543268Z",
     "iopub.status.busy": "2021-04-20T20:12:09.542488Z",
     "iopub.status.idle": "2021-04-20T20:12:09.545726Z",
     "shell.execute_reply": "2021-04-20T20:12:09.546298Z"
    },
    "slideshow": {
     "slide_type": "slide"
    }
   },
   "outputs": [
    {
     "data": {
      "text/plain": [
       "[1, 2, 3, 4]"
      ]
     },
     "execution_count": 1,
     "metadata": {},
     "output_type": "execute_result"
    }
   ],
   "source": [
    "lista = [1, 2, 3, 4]\n",
    "lista"
   ]
  },
  {
   "cell_type": "code",
   "execution_count": 20,
   "id": "fac79ee1",
   "metadata": {
    "execution": {
     "iopub.execute_input": "2021-04-20T20:12:09.551372Z",
     "iopub.status.busy": "2021-04-20T20:12:09.550695Z",
     "iopub.status.idle": "2021-04-20T20:12:09.553899Z",
     "shell.execute_reply": "2021-04-20T20:12:09.554450Z"
    },
    "slideshow": {
     "slide_type": "slide"
    }
   },
   "outputs": [
    {
     "data": {
      "text/plain": [
       "[1, 2, 3, 4, 1, 'dos', 3.0]"
      ]
     },
     "execution_count": 1,
     "metadata": {},
     "output_type": "execute_result"
    }
   ],
   "source": [
    "lista.append(1)  # Inserto un 1 al final\n",
    "lista.append(\"dos\")  # Inserto un \"dos\" al final\n",
    "lista.append(3.0)  # Inserto un 3.0 al final\n",
    "lista"
   ]
  },
  {
   "cell_type": "code",
   "execution_count": 21,
   "id": "d372c376",
   "metadata": {
    "execution": {
     "iopub.execute_input": "2021-04-20T20:12:09.559087Z",
     "iopub.status.busy": "2021-04-20T20:12:09.558375Z",
     "iopub.status.idle": "2021-04-20T20:12:09.562115Z",
     "shell.execute_reply": "2021-04-20T20:12:09.561572Z"
    }
   },
   "outputs": [
    {
     "name": "stdout",
     "output_type": "stream",
     "text": [
      "[1, 2, 10, 3, 4, 1, 'dos', 3.0]\n"
     ]
    }
   ],
   "source": [
    "lista.insert(2, 10)  # Inserto en posicion 2 un 10\n",
    "print(lista)"
   ]
  },
  {
   "cell_type": "code",
   "execution_count": 22,
   "id": "78fd228e",
   "metadata": {
    "execution": {
     "iopub.execute_input": "2021-04-20T20:12:09.568405Z",
     "iopub.status.busy": "2021-04-20T20:12:09.567245Z",
     "iopub.status.idle": "2021-04-20T20:12:09.570239Z",
     "shell.execute_reply": "2021-04-20T20:12:09.570775Z"
    }
   },
   "outputs": [
    {
     "data": {
      "text/plain": [
       "8"
      ]
     },
     "execution_count": 1,
     "metadata": {},
     "output_type": "execute_result"
    }
   ],
   "source": [
    "len(lista)"
   ]
  },
  {
   "cell_type": "code",
   "execution_count": 23,
   "id": "09e92be2",
   "metadata": {
    "execution": {
     "iopub.execute_input": "2021-04-20T20:12:09.575757Z",
     "iopub.status.busy": "2021-04-20T20:12:09.575127Z",
     "iopub.status.idle": "2021-04-20T20:12:09.577327Z",
     "shell.execute_reply": "2021-04-20T20:12:09.577808Z"
    }
   },
   "outputs": [
    {
     "data": {
      "text/plain": [
       "3.0"
      ]
     },
     "execution_count": 1,
     "metadata": {},
     "output_type": "execute_result"
    }
   ],
   "source": [
    "lista.pop()"
   ]
  },
  {
   "cell_type": "code",
   "execution_count": 24,
   "id": "278bb0d6",
   "metadata": {
    "execution": {
     "iopub.execute_input": "2021-04-20T20:12:09.581839Z",
     "iopub.status.busy": "2021-04-20T20:12:09.581138Z",
     "iopub.status.idle": "2021-04-20T20:12:09.584474Z",
     "shell.execute_reply": "2021-04-20T20:12:09.584959Z"
    }
   },
   "outputs": [
    {
     "data": {
      "text/plain": [
       "[1, 2, 10, 3, 4, 1, 'dos']"
      ]
     },
     "execution_count": 1,
     "metadata": {},
     "output_type": "execute_result"
    }
   ],
   "source": [
    "lista"
   ]
  },
  {
   "cell_type": "code",
   "execution_count": 25,
   "id": "0802d92a",
   "metadata": {
    "execution": {
     "iopub.execute_input": "2021-04-20T20:12:09.590407Z",
     "iopub.status.busy": "2021-04-20T20:12:09.589243Z",
     "iopub.status.idle": "2021-04-20T20:12:09.592428Z",
     "shell.execute_reply": "2021-04-20T20:12:09.592921Z"
    }
   },
   "outputs": [
    {
     "data": {
      "text/plain": [
       "2"
      ]
     },
     "execution_count": 1,
     "metadata": {},
     "output_type": "execute_result"
    }
   ],
   "source": [
    "lista.index(10)"
   ]
  },
  {
   "cell_type": "code",
   "execution_count": 26,
   "id": "cf9ab566",
   "metadata": {
    "execution": {
     "iopub.execute_input": "2021-04-20T20:12:09.599113Z",
     "iopub.status.busy": "2021-04-20T20:12:09.597895Z",
     "iopub.status.idle": "2021-04-20T20:12:09.601181Z",
     "shell.execute_reply": "2021-04-20T20:12:09.601737Z"
    }
   },
   "outputs": [
    {
     "data": {
      "text/plain": [
       "[1, 2, 3, 4, 1, 'dos']"
      ]
     },
     "execution_count": 1,
     "metadata": {},
     "output_type": "execute_result"
    }
   ],
   "source": [
    "lista.remove(10)\n",
    "lista"
   ]
  },
  {
   "cell_type": "code",
   "execution_count": 27,
   "id": "08502997",
   "metadata": {
    "execution": {
     "iopub.execute_input": "2021-04-20T20:12:09.608077Z",
     "iopub.status.busy": "2021-04-20T20:12:09.607379Z",
     "iopub.status.idle": "2021-04-20T20:12:09.675151Z",
     "shell.execute_reply": "2021-04-20T20:12:09.674419Z"
    },
    "tags": [
     "raises-exception"
    ]
   },
   "outputs": [
    {
     "name": "stdout",
     "output_type": "stream",
     "text": [
      "1\n",
      "2\n",
      "2\n",
      "3\n",
      "3\n",
      "4\n",
      "4\n",
      "5\n",
      "1\n",
      "2\n",
      "dos\n"
     ]
    },
    {
     "ename": "TypeError",
     "evalue": "can only concatenate str (not \"int\") to str",
     "output_type": "error",
     "traceback": [
      "\u001b[0;31m---------------------------------------------------------------------------\u001b[0m",
      "\u001b[0;31mTypeError\u001b[0m                                 Traceback (most recent call last)",
      "\u001b[0;32m<ipython-input-1-41b56d5cf080>\u001b[0m in \u001b[0;36m<module>\u001b[0;34m\u001b[0m\n\u001b[1;32m      1\u001b[0m \u001b[0;32mfor\u001b[0m \u001b[0melemento\u001b[0m \u001b[0;32min\u001b[0m \u001b[0mlista\u001b[0m\u001b[0;34m:\u001b[0m\u001b[0;34m\u001b[0m\u001b[0;34m\u001b[0m\u001b[0m\n\u001b[1;32m      2\u001b[0m     \u001b[0mprint\u001b[0m\u001b[0;34m(\u001b[0m\u001b[0melemento\u001b[0m\u001b[0;34m)\u001b[0m\u001b[0;34m\u001b[0m\u001b[0;34m\u001b[0m\u001b[0m\n\u001b[0;32m----> 3\u001b[0;31m     \u001b[0mprint\u001b[0m\u001b[0;34m(\u001b[0m\u001b[0melemento\u001b[0m \u001b[0;34m+\u001b[0m \u001b[0;36m1\u001b[0m\u001b[0;34m)\u001b[0m\u001b[0;34m\u001b[0m\u001b[0;34m\u001b[0m\u001b[0m\n\u001b[0m",
      "\u001b[0;31mTypeError\u001b[0m: can only concatenate str (not \"int\") to str"
     ]
    }
   ],
   "source": [
    "for elemento in lista:\n",
    "    print(elemento)\n",
    "    print(elemento + 1)"
   ]
  },
  {
   "cell_type": "code",
   "execution_count": 28,
   "id": "7e952806",
   "metadata": {
    "execution": {
     "iopub.execute_input": "2021-04-20T20:12:09.681239Z",
     "iopub.status.busy": "2021-04-20T20:12:09.679962Z",
     "iopub.status.idle": "2021-04-20T20:12:09.683982Z",
     "shell.execute_reply": "2021-04-20T20:12:09.683450Z"
    }
   },
   "outputs": [
    {
     "data": {
      "text/plain": [
       "[1, 2, 3, 4, 1, 'dos']"
      ]
     },
     "execution_count": 1,
     "metadata": {},
     "output_type": "execute_result"
    }
   ],
   "source": [
    "lista"
   ]
  },
  {
   "cell_type": "code",
   "execution_count": 29,
   "id": "1a0e4d17",
   "metadata": {
    "execution": {
     "iopub.execute_input": "2021-04-20T20:12:09.691167Z",
     "iopub.status.busy": "2021-04-20T20:12:09.689613Z",
     "iopub.status.idle": "2021-04-20T20:12:09.693460Z",
     "shell.execute_reply": "2021-04-20T20:12:09.692897Z"
    }
   },
   "outputs": [
    {
     "name": "stdout",
     "output_type": "stream",
     "text": [
      "0-ésimo elemento: 1\n",
      "1-ésimo elemento: 2\n",
      "2-ésimo elemento: 3\n",
      "3-ésimo elemento: 4\n",
      "4-ésimo elemento: 1\n",
      "5-ésimo elemento: dos\n"
     ]
    }
   ],
   "source": [
    "for i, elemento in enumerate(lista):\n",
    "    print(f\"{i}-ésimo elemento: {elemento}\")"
   ]
  },
  {
   "cell_type": "code",
   "execution_count": 30,
   "id": "8042ab4f",
   "metadata": {
    "execution": {
     "iopub.execute_input": "2021-04-20T20:12:09.701384Z",
     "iopub.status.busy": "2021-04-20T20:12:09.700718Z",
     "iopub.status.idle": "2021-04-20T20:12:09.703772Z",
     "shell.execute_reply": "2021-04-20T20:12:09.704321Z"
    },
    "tags": [
     "raises-exception"
    ]
   },
   "outputs": [
    {
     "ename": "TypeError",
     "evalue": "'<' not supported between instances of 'str' and 'int'",
     "output_type": "error",
     "traceback": [
      "\u001b[0;31m---------------------------------------------------------------------------\u001b[0m",
      "\u001b[0;31mTypeError\u001b[0m                                 Traceback (most recent call last)",
      "\u001b[0;32m<ipython-input-1-06c3f264dc7a>\u001b[0m in \u001b[0;36m<module>\u001b[0;34m\u001b[0m\n\u001b[0;32m----> 1\u001b[0;31m \u001b[0msorted\u001b[0m\u001b[0;34m(\u001b[0m\u001b[0mlista\u001b[0m\u001b[0;34m)\u001b[0m\u001b[0;34m\u001b[0m\u001b[0;34m\u001b[0m\u001b[0m\n\u001b[0m",
      "\u001b[0;31mTypeError\u001b[0m: '<' not supported between instances of 'str' and 'int'"
     ]
    }
   ],
   "source": [
    "sorted(lista)"
   ]
  },
  {
   "cell_type": "code",
   "execution_count": 31,
   "id": "76e8ad36",
   "metadata": {
    "execution": {
     "iopub.execute_input": "2021-04-20T20:12:09.710168Z",
     "iopub.status.busy": "2021-04-20T20:12:09.708524Z",
     "iopub.status.idle": "2021-04-20T20:12:09.710915Z",
     "shell.execute_reply": "2021-04-20T20:12:09.711502Z"
    }
   },
   "outputs": [],
   "source": [
    "lista.remove(\"dos\")"
   ]
  },
  {
   "cell_type": "code",
   "execution_count": 32,
   "id": "a836a965",
   "metadata": {
    "execution": {
     "iopub.execute_input": "2021-04-20T20:12:09.717619Z",
     "iopub.status.busy": "2021-04-20T20:12:09.716275Z",
     "iopub.status.idle": "2021-04-20T20:12:09.720162Z",
     "shell.execute_reply": "2021-04-20T20:12:09.719578Z"
    }
   },
   "outputs": [
    {
     "data": {
      "text/plain": [
       "[1, 1, 2, 3, 4]"
      ]
     },
     "execution_count": 1,
     "metadata": {},
     "output_type": "execute_result"
    }
   ],
   "source": [
    "sorted(lista)"
   ]
  },
  {
   "cell_type": "code",
   "execution_count": 33,
   "id": "9bdf2668",
   "metadata": {
    "execution": {
     "iopub.execute_input": "2021-04-20T20:12:09.726506Z",
     "iopub.status.busy": "2021-04-20T20:12:09.724709Z",
     "iopub.status.idle": "2021-04-20T20:12:09.729295Z",
     "shell.execute_reply": "2021-04-20T20:12:09.729890Z"
    }
   },
   "outputs": [
    {
     "data": {
      "text/plain": [
       "[1, 1, 2, 3, 4]"
      ]
     },
     "execution_count": 1,
     "metadata": {},
     "output_type": "execute_result"
    }
   ],
   "source": [
    "lista.sort()\n",
    "lista"
   ]
  },
  {
   "cell_type": "markdown",
   "id": "71389048",
   "metadata": {
    "slideshow": {
     "slide_type": "slide"
    }
   },
   "source": [
    "#### Tuplas de Python\n",
    "\n",
    "Las tuplas son inmutables. No se pueden agregar elementos luego de creadas."
   ]
  },
  {
   "cell_type": "code",
   "execution_count": 34,
   "id": "c7b8eba8",
   "metadata": {
    "execution": {
     "iopub.execute_input": "2021-04-20T20:12:09.740304Z",
     "iopub.status.busy": "2021-04-20T20:12:09.739647Z",
     "iopub.status.idle": "2021-04-20T20:12:09.743994Z",
     "shell.execute_reply": "2021-04-20T20:12:09.743432Z"
    },
    "slideshow": {
     "slide_type": "slide"
    },
    "tags": [
     "raises-exception"
    ]
   },
   "outputs": [
    {
     "name": "stdout",
     "output_type": "stream",
     "text": [
      "(1, 2)\n",
      "1\n",
      "2\n"
     ]
    },
    {
     "ename": "TypeError",
     "evalue": "'tuple' object does not support item assignment",
     "output_type": "error",
     "traceback": [
      "\u001b[0;31m---------------------------------------------------------------------------\u001b[0m",
      "\u001b[0;31mTypeError\u001b[0m                                 Traceback (most recent call last)",
      "\u001b[0;32m<ipython-input-1-80ca8b547dd6>\u001b[0m in \u001b[0;36m<module>\u001b[0;34m\u001b[0m\n\u001b[1;32m      5\u001b[0m \u001b[0mprint\u001b[0m\u001b[0;34m(\u001b[0m\u001b[0mtupla\u001b[0m\u001b[0;34m[\u001b[0m\u001b[0;36m1\u001b[0m\u001b[0;34m]\u001b[0m\u001b[0;34m)\u001b[0m\u001b[0;34m\u001b[0m\u001b[0;34m\u001b[0m\u001b[0m\n\u001b[1;32m      6\u001b[0m \u001b[0;34m\u001b[0m\u001b[0m\n\u001b[0;32m----> 7\u001b[0;31m \u001b[0mtupla\u001b[0m\u001b[0;34m[\u001b[0m\u001b[0;36m1\u001b[0m\u001b[0;34m]\u001b[0m \u001b[0;34m=\u001b[0m \u001b[0;36m3\u001b[0m  \u001b[0;31m# Falla. No se puede mutar\u001b[0m\u001b[0;34m\u001b[0m\u001b[0;34m\u001b[0m\u001b[0m\n\u001b[0m",
      "\u001b[0;31mTypeError\u001b[0m: 'tuple' object does not support item assignment"
     ]
    }
   ],
   "source": [
    "tupla = (1, 2)\n",
    "\n",
    "print(tupla)\n",
    "print(tupla[0])\n",
    "print(tupla[1])\n",
    "\n",
    "tupla[1] = 3  # Falla. No se puede mutar"
   ]
  },
  {
   "cell_type": "code",
   "execution_count": 35,
   "id": "04efa09b",
   "metadata": {
    "execution": {
     "iopub.execute_input": "2021-04-20T20:12:09.749931Z",
     "iopub.status.busy": "2021-04-20T20:12:09.748758Z",
     "iopub.status.idle": "2021-04-20T20:12:09.751890Z",
     "shell.execute_reply": "2021-04-20T20:12:09.752430Z"
    }
   },
   "outputs": [
    {
     "data": {
      "text/plain": [
       "[1, 2]"
      ]
     },
     "execution_count": 1,
     "metadata": {},
     "output_type": "execute_result"
    }
   ],
   "source": [
    "l = [1, 2]\n",
    "l"
   ]
  },
  {
   "cell_type": "code",
   "execution_count": 36,
   "id": "1925d9cc",
   "metadata": {
    "execution": {
     "iopub.execute_input": "2021-04-20T20:12:09.757985Z",
     "iopub.status.busy": "2021-04-20T20:12:09.756849Z",
     "iopub.status.idle": "2021-04-20T20:12:09.759856Z",
     "shell.execute_reply": "2021-04-20T20:12:09.760390Z"
    }
   },
   "outputs": [
    {
     "data": {
      "text/plain": [
       "[1, 3]"
      ]
     },
     "execution_count": 1,
     "metadata": {},
     "output_type": "execute_result"
    }
   ],
   "source": [
    "l[1] = 3\n",
    "l"
   ]
  },
  {
   "cell_type": "markdown",
   "id": "0a6e8a9b",
   "metadata": {
    "slideshow": {
     "slide_type": "slide"
    }
   },
   "source": [
    "#### Diferencia entre lista y tupla\n",
    "Las listas se caracterizan por ser mutables, es decir, se puede cambiar su contenido en tiempo de ejecución, mientras que las tuplas son inmutables ya que no es posible modificar el contenido una vez creada."
   ]
  },
  {
   "cell_type": "markdown",
   "id": "a2fed439",
   "metadata": {},
   "source": [
    "#### Slices\n",
    "\n",
    "**Valen para listas, tuplas o strings (_segmentos_)**"
   ]
  },
  {
   "cell_type": "code",
   "execution_count": 37,
   "id": "1125fa0e",
   "metadata": {
    "execution": {
     "iopub.execute_input": "2021-04-20T20:12:09.765936Z",
     "iopub.status.busy": "2021-04-20T20:12:09.764331Z",
     "iopub.status.idle": "2021-04-20T20:12:09.766734Z",
     "shell.execute_reply": "2021-04-20T20:12:09.767237Z"
    }
   },
   "outputs": [],
   "source": [
    "numeros = [0, 1, 2, 3, 4, 5, 6, 7, 8, 9, 10]"
   ]
  },
  {
   "cell_type": "code",
   "execution_count": 38,
   "id": "9dd05843",
   "metadata": {
    "execution": {
     "iopub.execute_input": "2021-04-20T20:12:09.773140Z",
     "iopub.status.busy": "2021-04-20T20:12:09.771555Z",
     "iopub.status.idle": "2021-04-20T20:12:09.775272Z",
     "shell.execute_reply": "2021-04-20T20:12:09.774653Z"
    }
   },
   "outputs": [
    {
     "name": "stdout",
     "output_type": "stream",
     "text": [
      "[0, 1, 2, 3, 4, 5, 6, 7, 8, 9, 10]\n"
     ]
    }
   ],
   "source": [
    "print(numeros)"
   ]
  },
  {
   "cell_type": "code",
   "execution_count": 39,
   "id": "0d718700",
   "metadata": {
    "execution": {
     "iopub.execute_input": "2021-04-20T20:12:09.780791Z",
     "iopub.status.busy": "2021-04-20T20:12:09.779372Z",
     "iopub.status.idle": "2021-04-20T20:12:09.782842Z",
     "shell.execute_reply": "2021-04-20T20:12:09.782171Z"
    }
   },
   "outputs": [
    {
     "name": "stdout",
     "output_type": "stream",
     "text": [
      "2\n"
     ]
    }
   ],
   "source": [
    "print(numeros[2])  # Imprimo elemento en la posición 2"
   ]
  },
  {
   "cell_type": "code",
   "execution_count": 40,
   "id": "9db8d9c6",
   "metadata": {
    "execution": {
     "iopub.execute_input": "2021-04-20T20:12:09.788089Z",
     "iopub.status.busy": "2021-04-20T20:12:09.787467Z",
     "iopub.status.idle": "2021-04-20T20:12:09.789806Z",
     "shell.execute_reply": "2021-04-20T20:12:09.790300Z"
    }
   },
   "outputs": [
    {
     "data": {
      "text/plain": [
       "10"
      ]
     },
     "execution_count": 1,
     "metadata": {},
     "output_type": "execute_result"
    }
   ],
   "source": [
    "numeros[len(numeros) - 1]"
   ]
  },
  {
   "cell_type": "code",
   "execution_count": 41,
   "id": "84ccbd8f",
   "metadata": {
    "execution": {
     "iopub.execute_input": "2021-04-20T20:12:09.794464Z",
     "iopub.status.busy": "2021-04-20T20:12:09.793811Z",
     "iopub.status.idle": "2021-04-20T20:12:09.796191Z",
     "shell.execute_reply": "2021-04-20T20:12:09.796725Z"
    },
    "lines_to_next_cell": 2
   },
   "outputs": [
    {
     "name": "stdout",
     "output_type": "stream",
     "text": [
      "10\n"
     ]
    }
   ],
   "source": [
    "print(numeros[-1])  # # Imprimo elemento en la última posición"
   ]
  },
  {
   "cell_type": "code",
   "execution_count": 42,
   "id": "ca7afe50",
   "metadata": {
    "execution": {
     "iopub.execute_input": "2021-04-20T20:12:09.801356Z",
     "iopub.status.busy": "2021-04-20T20:12:09.800618Z",
     "iopub.status.idle": "2021-04-20T20:12:09.803736Z",
     "shell.execute_reply": "2021-04-20T20:12:09.804356Z"
    },
    "lines_to_next_cell": 2
   },
   "outputs": [
    {
     "data": {
      "text/plain": [
       "9"
      ]
     },
     "execution_count": 1,
     "metadata": {},
     "output_type": "execute_result"
    }
   ],
   "source": [
    "numeros[-2]"
   ]
  },
  {
   "cell_type": "code",
   "execution_count": 43,
   "id": "a0ca0777",
   "metadata": {
    "execution": {
     "iopub.execute_input": "2021-04-20T20:12:09.808963Z",
     "iopub.status.busy": "2021-04-20T20:12:09.808366Z",
     "iopub.status.idle": "2021-04-20T20:12:09.810429Z",
     "shell.execute_reply": "2021-04-20T20:12:09.811099Z"
    }
   },
   "outputs": [
    {
     "name": "stdout",
     "output_type": "stream",
     "text": [
      "[0, 1, 2]\n"
     ]
    }
   ],
   "source": [
    "print(numeros[0:3])  # Imprimo de la pos 0 a la pos 2"
   ]
  },
  {
   "cell_type": "code",
   "execution_count": 44,
   "id": "34382b8f",
   "metadata": {
    "execution": {
     "iopub.execute_input": "2021-04-20T20:12:09.815196Z",
     "iopub.status.busy": "2021-04-20T20:12:09.814505Z",
     "iopub.status.idle": "2021-04-20T20:12:09.816812Z",
     "shell.execute_reply": "2021-04-20T20:12:09.817353Z"
    }
   },
   "outputs": [
    {
     "name": "stdout",
     "output_type": "stream",
     "text": [
      "[7, 8]\n"
     ]
    }
   ],
   "source": [
    "print(numeros[-4:-2])"
   ]
  },
  {
   "cell_type": "code",
   "execution_count": 45,
   "id": "c66e58d7",
   "metadata": {
    "execution": {
     "iopub.execute_input": "2021-04-20T20:12:09.821226Z",
     "iopub.status.busy": "2021-04-20T20:12:09.820645Z",
     "iopub.status.idle": "2021-04-20T20:12:09.822585Z",
     "shell.execute_reply": "2021-04-20T20:12:09.823198Z"
    }
   },
   "outputs": [
    {
     "name": "stdout",
     "output_type": "stream",
     "text": [
      "[0, 1, 2, 3, 4, 5, 6, 7, 8, 9, 10]\n"
     ]
    }
   ],
   "source": [
    "print(numeros[0:80])"
   ]
  },
  {
   "cell_type": "code",
   "execution_count": 46,
   "id": "342953d8",
   "metadata": {
    "execution": {
     "iopub.execute_input": "2021-04-20T20:12:09.829105Z",
     "iopub.status.busy": "2021-04-20T20:12:09.828431Z",
     "iopub.status.idle": "2021-04-20T20:12:09.830643Z",
     "shell.execute_reply": "2021-04-20T20:12:09.831178Z"
    }
   },
   "outputs": [
    {
     "name": "stdout",
     "output_type": "stream",
     "text": [
      "[0, 1, 2]\n"
     ]
    }
   ],
   "source": [
    "print(numeros[:3])"
   ]
  },
  {
   "cell_type": "code",
   "execution_count": 47,
   "id": "a83a0511",
   "metadata": {
    "execution": {
     "iopub.execute_input": "2021-04-20T20:12:09.836444Z",
     "iopub.status.busy": "2021-04-20T20:12:09.835645Z",
     "iopub.status.idle": "2021-04-20T20:12:09.838555Z",
     "shell.execute_reply": "2021-04-20T20:12:09.837915Z"
    }
   },
   "outputs": [
    {
     "name": "stdout",
     "output_type": "stream",
     "text": [
      "[3, 4, 5, 6, 7, 8, 9, 10]\n"
     ]
    }
   ],
   "source": [
    "print(numeros[3:])"
   ]
  },
  {
   "cell_type": "code",
   "execution_count": 48,
   "id": "7a668788",
   "metadata": {
    "execution": {
     "iopub.execute_input": "2021-04-20T20:12:09.842806Z",
     "iopub.status.busy": "2021-04-20T20:12:09.842166Z",
     "iopub.status.idle": "2021-04-20T20:12:09.844824Z",
     "shell.execute_reply": "2021-04-20T20:12:09.844174Z"
    }
   },
   "outputs": [
    {
     "name": "stdout",
     "output_type": "stream",
     "text": [
      "[0, 2, 4, 6, 8]\n"
     ]
    }
   ],
   "source": [
    "print(numeros[0:10:2])"
   ]
  },
  {
   "cell_type": "markdown",
   "id": "3fb24a48",
   "metadata": {},
   "source": [
    "```python\n",
    "lista[<inicio>:<final>:<step>]\n",
    "```"
   ]
  },
  {
   "cell_type": "code",
   "execution_count": 49,
   "id": "01077ecf",
   "metadata": {
    "execution": {
     "iopub.execute_input": "2021-04-20T20:12:09.850562Z",
     "iopub.status.busy": "2021-04-20T20:12:09.849930Z",
     "iopub.status.idle": "2021-04-20T20:12:09.853301Z",
     "shell.execute_reply": "2021-04-20T20:12:09.852795Z"
    },
    "lines_to_next_cell": 2
   },
   "outputs": [
    {
     "data": {
      "text/plain": [
       "[1, 2, 3, 4]"
      ]
     },
     "execution_count": 1,
     "metadata": {},
     "output_type": "execute_result"
    }
   ],
   "source": [
    "l1 = [1, 2]\n",
    "l2 = [3, 4]\n",
    "l1 + l2"
   ]
  },
  {
   "cell_type": "code",
   "execution_count": 50,
   "id": "1830a0b5",
   "metadata": {
    "execution": {
     "iopub.execute_input": "2021-04-20T20:12:09.858157Z",
     "iopub.status.busy": "2021-04-20T20:12:09.857509Z",
     "iopub.status.idle": "2021-04-20T20:12:09.860223Z",
     "shell.execute_reply": "2021-04-20T20:12:09.859634Z"
    }
   },
   "outputs": [
    {
     "name": "stdout",
     "output_type": "stream",
     "text": [
      "[0, 1, 2, 3, 4, 5, 6, 'siete', 8, 9, 10]\n"
     ]
    }
   ],
   "source": [
    "numeros[7] = 'siete'  # Las listas se pueden mutar\n",
    "print(numeros)"
   ]
  },
  {
   "cell_type": "code",
   "execution_count": 51,
   "id": "d4338239",
   "metadata": {
    "execution": {
     "iopub.execute_input": "2021-04-20T20:12:09.864529Z",
     "iopub.status.busy": "2021-04-20T20:12:09.863815Z",
     "iopub.status.idle": "2021-04-20T20:12:09.866910Z",
     "shell.execute_reply": "2021-04-20T20:12:09.866306Z"
    }
   },
   "outputs": [
    {
     "name": "stdout",
     "output_type": "stream",
     "text": [
      "[10, 9, 8, 'siete', 6, 5, 4, 3, 2, 1, 0]\n"
     ]
    }
   ],
   "source": [
    "numeros = numeros[::-1]\n",
    "print(numeros)"
   ]
  },
  {
   "cell_type": "code",
   "execution_count": 52,
   "id": "a8b4c41a",
   "metadata": {
    "execution": {
     "iopub.execute_input": "2021-04-20T20:12:09.873766Z",
     "iopub.status.busy": "2021-04-20T20:12:09.873126Z",
     "iopub.status.idle": "2021-04-20T20:12:09.876826Z",
     "shell.execute_reply": "2021-04-20T20:12:09.876213Z"
    },
    "tags": [
     "raises-exception"
    ]
   },
   "outputs": [
    {
     "ename": "IndexError",
     "evalue": "list index out of range",
     "output_type": "error",
     "traceback": [
      "\u001b[0;31m---------------------------------------------------------------------------\u001b[0m",
      "\u001b[0;31mIndexError\u001b[0m                                Traceback (most recent call last)",
      "\u001b[0;32m<ipython-input-1-0ef91dd29a9b>\u001b[0m in \u001b[0;36m<module>\u001b[0;34m\u001b[0m\n\u001b[0;32m----> 1\u001b[0;31m \u001b[0mprint\u001b[0m\u001b[0;34m(\u001b[0m\u001b[0mnumeros\u001b[0m\u001b[0;34m[\u001b[0m\u001b[0;36m15\u001b[0m\u001b[0;34m]\u001b[0m\u001b[0;34m)\u001b[0m  \u001b[0;31m# Falla. No se puede acceder a una posición inexistente\u001b[0m\u001b[0;34m\u001b[0m\u001b[0;34m\u001b[0m\u001b[0m\n\u001b[0m",
      "\u001b[0;31mIndexError\u001b[0m: list index out of range"
     ]
    }
   ],
   "source": [
    "print(numeros[15])  # Falla. No se puede acceder a una posición inexistente"
   ]
  },
  {
   "cell_type": "code",
   "execution_count": 53,
   "id": "084b0f29",
   "metadata": {
    "execution": {
     "iopub.execute_input": "2021-04-20T20:12:09.881843Z",
     "iopub.status.busy": "2021-04-20T20:12:09.881091Z",
     "iopub.status.idle": "2021-04-20T20:12:09.883929Z",
     "shell.execute_reply": "2021-04-20T20:12:09.883243Z"
    }
   },
   "outputs": [
    {
     "name": "stdout",
     "output_type": "stream",
     "text": [
      "palabra\n",
      "a\n",
      "pal\n",
      "abra\n"
     ]
    }
   ],
   "source": [
    "palabra = 'palabra'\n",
    "print(palabra)\n",
    "print(palabra[3])\n",
    "print(palabra[:3])\n",
    "print(palabra[3:])"
   ]
  },
  {
   "cell_type": "code",
   "execution_count": 54,
   "id": "ae9be46e",
   "metadata": {
    "execution": {
     "iopub.execute_input": "2021-04-20T20:12:09.889710Z",
     "iopub.status.busy": "2021-04-20T20:12:09.888225Z",
     "iopub.status.idle": "2021-04-20T20:12:09.893900Z",
     "shell.execute_reply": "2021-04-20T20:12:09.893341Z"
    }
   },
   "outputs": [
    {
     "name": "stdout",
     "output_type": "stream",
     "text": [
      "(0, 1, 2, 3, 4)\n",
      "(0, 1)\n",
      "(2, 3, 4)\n"
     ]
    }
   ],
   "source": [
    "tupla = (0, 1, 2, 3, 4)\n",
    "\n",
    "print(tupla)\n",
    "print(tupla[:2])\n",
    "print(tupla[2:])"
   ]
  },
  {
   "cell_type": "markdown",
   "id": "81aee552",
   "metadata": {
    "slideshow": {
     "slide_type": "slide"
    }
   },
   "source": [
    "#### Diccionarios de Python\n",
    "\n",
    "Son como hashmaps, las claves deben ser inmutables para que no pierda sentido el diccionario. Si se pudieran modificar, se podrían cambiar las claves y generaría conflictos.\n",
    "\n",
    "Tipos mutables:\n",
    "- Listas\n",
    "- Diccionarios\n",
    "- Sets\n",
    "\n",
    "Tipos inmutables:\n",
    "- Int\n",
    "- Float\n",
    "- String\n",
    "- Tuplas\n"
   ]
  },
  {
   "cell_type": "code",
   "execution_count": 55,
   "id": "6db01e11",
   "metadata": {
    "execution": {
     "iopub.execute_input": "2021-04-20T20:12:09.899456Z",
     "iopub.status.busy": "2021-04-20T20:12:09.898305Z",
     "iopub.status.idle": "2021-04-20T20:12:09.901504Z",
     "shell.execute_reply": "2021-04-20T20:12:09.902019Z"
    },
    "slideshow": {
     "slide_type": "slide"
    }
   },
   "outputs": [
    {
     "data": {
      "text/plain": [
       "{}"
      ]
     },
     "execution_count": 1,
     "metadata": {},
     "output_type": "execute_result"
    }
   ],
   "source": [
    "diccionario = {}\n",
    "diccionario"
   ]
  },
  {
   "cell_type": "code",
   "execution_count": 56,
   "id": "1083b033",
   "metadata": {
    "execution": {
     "iopub.execute_input": "2021-04-20T20:12:09.907624Z",
     "iopub.status.busy": "2021-04-20T20:12:09.906145Z",
     "iopub.status.idle": "2021-04-20T20:12:09.909846Z",
     "shell.execute_reply": "2021-04-20T20:12:09.910428Z"
    }
   },
   "outputs": [
    {
     "data": {
      "text/plain": [
       "{}"
      ]
     },
     "execution_count": 1,
     "metadata": {},
     "output_type": "execute_result"
    }
   ],
   "source": [
    "diccionario = dict()\n",
    "diccionario"
   ]
  },
  {
   "cell_type": "code",
   "execution_count": 57,
   "id": "d4026244",
   "metadata": {
    "execution": {
     "iopub.execute_input": "2021-04-20T20:12:09.916014Z",
     "iopub.status.busy": "2021-04-20T20:12:09.915301Z",
     "iopub.status.idle": "2021-04-20T20:12:09.917727Z",
     "shell.execute_reply": "2021-04-20T20:12:09.918264Z"
    },
    "slideshow": {
     "slide_type": "slide"
    }
   },
   "outputs": [
    {
     "name": "stdout",
     "output_type": "stream",
     "text": [
      "{'clave1': 'valor1', 2: 'valor2', 'clave3': 3}\n"
     ]
    }
   ],
   "source": [
    "# Cómo agregar cosas al diccionario\n",
    "diccionario['clave1'] = 'valor1'\n",
    "diccionario[2] = 'valor2'\n",
    "diccionario['clave3'] = 3\n",
    "print(diccionario)"
   ]
  },
  {
   "cell_type": "markdown",
   "id": "d1e4c959",
   "metadata": {},
   "source": [
    "Hay dos formas de obtener valores de un diccionario:\n",
    "\n",
    "```python\n",
    "diccionario[clave]\n",
    "```\n",
    "\n",
    "El cual devuelve el valor si existe la clave suministrada o bien lanza `KeyError` si no existe."
   ]
  },
  {
   "cell_type": "code",
   "execution_count": 58,
   "id": "ff801d02",
   "metadata": {
    "execution": {
     "iopub.execute_input": "2021-04-20T20:12:09.922704Z",
     "iopub.status.busy": "2021-04-20T20:12:09.921939Z",
     "iopub.status.idle": "2021-04-20T20:12:09.924853Z",
     "shell.execute_reply": "2021-04-20T20:12:09.925411Z"
    }
   },
   "outputs": [
    {
     "data": {
      "text/plain": [
       "'valor1'"
      ]
     },
     "execution_count": 1,
     "metadata": {},
     "output_type": "execute_result"
    }
   ],
   "source": [
    "diccionario['clave1']"
   ]
  },
  {
   "cell_type": "code",
   "execution_count": 59,
   "id": "3a5b1b3c",
   "metadata": {
    "execution": {
     "iopub.execute_input": "2021-04-20T20:12:09.936600Z",
     "iopub.status.busy": "2021-04-20T20:12:09.935005Z",
     "iopub.status.idle": "2021-04-20T20:12:09.939051Z",
     "shell.execute_reply": "2021-04-20T20:12:09.938280Z"
    },
    "tags": [
     "raises-exception"
    ]
   },
   "outputs": [
    {
     "ename": "KeyError",
     "evalue": "'clave1000'",
     "output_type": "error",
     "traceback": [
      "\u001b[0;31m---------------------------------------------------------------------------\u001b[0m",
      "\u001b[0;31mKeyError\u001b[0m                                  Traceback (most recent call last)",
      "\u001b[0;32m<ipython-input-1-41aae9a2e5ed>\u001b[0m in \u001b[0;36m<module>\u001b[0;34m\u001b[0m\n\u001b[0;32m----> 1\u001b[0;31m \u001b[0mdiccionario\u001b[0m\u001b[0;34m[\u001b[0m\u001b[0;34m'clave1000'\u001b[0m\u001b[0;34m]\u001b[0m\u001b[0;34m\u001b[0m\u001b[0;34m\u001b[0m\u001b[0m\n\u001b[0m",
      "\u001b[0;31mKeyError\u001b[0m: 'clave1000'"
     ]
    }
   ],
   "source": [
    "diccionario['clave1000']"
   ]
  },
  {
   "cell_type": "markdown",
   "id": "0d5b02ef",
   "metadata": {},
   "source": [
    "La segunda forma es con `get`:"
   ]
  },
  {
   "cell_type": "code",
   "execution_count": 60,
   "id": "7bd77a90",
   "metadata": {
    "execution": {
     "iopub.execute_input": "2021-04-20T20:12:09.962794Z",
     "iopub.status.busy": "2021-04-20T20:12:09.957556Z",
     "iopub.status.idle": "2021-04-20T20:12:10.030091Z",
     "shell.execute_reply": "2021-04-20T20:12:10.029484Z"
    }
   },
   "outputs": [],
   "source": [
    "diccionario.get?"
   ]
  },
  {
   "cell_type": "code",
   "execution_count": 61,
   "id": "757febcf",
   "metadata": {
    "execution": {
     "iopub.execute_input": "2021-04-20T20:12:10.039177Z",
     "iopub.status.busy": "2021-04-20T20:12:10.037419Z",
     "iopub.status.idle": "2021-04-20T20:12:10.041537Z",
     "shell.execute_reply": "2021-04-20T20:12:10.040885Z"
    }
   },
   "outputs": [
    {
     "name": "stdout",
     "output_type": "stream",
     "text": [
      "Help on built-in function get:\n",
      "\n",
      "get(key, default=None, /) method of builtins.dict instance\n",
      "    Return the value for key if key is in the dictionary, else default.\n",
      "\n"
     ]
    }
   ],
   "source": [
    "help(diccionario.get)"
   ]
  },
  {
   "cell_type": "code",
   "execution_count": 62,
   "id": "7d9dc937",
   "metadata": {
    "execution": {
     "iopub.execute_input": "2021-04-20T20:12:10.047471Z",
     "iopub.status.busy": "2021-04-20T20:12:10.045867Z",
     "iopub.status.idle": "2021-04-20T20:12:10.049646Z",
     "shell.execute_reply": "2021-04-20T20:12:10.049017Z"
    },
    "slideshow": {
     "slide_type": "slide"
    }
   },
   "outputs": [
    {
     "name": "stdout",
     "output_type": "stream",
     "text": [
      "None\n"
     ]
    }
   ],
   "source": [
    "print(diccionario.get('clave1000'))"
   ]
  },
  {
   "cell_type": "code",
   "execution_count": 63,
   "id": "fe16807d",
   "metadata": {
    "execution": {
     "iopub.execute_input": "2021-04-20T20:12:10.056448Z",
     "iopub.status.busy": "2021-04-20T20:12:10.055740Z",
     "iopub.status.idle": "2021-04-20T20:12:10.075278Z",
     "shell.execute_reply": "2021-04-20T20:12:10.079691Z"
    },
    "slideshow": {
     "slide_type": "slide"
    }
   },
   "outputs": [
    {
     "name": "stdout",
     "output_type": "stream",
     "text": [
      "True\n"
     ]
    }
   ],
   "source": [
    "print('clave1' in diccionario)  # Verifico si la clave está en el diccionario"
   ]
  },
  {
   "cell_type": "code",
   "execution_count": 64,
   "id": "21a537c6",
   "metadata": {
    "execution": {
     "iopub.execute_input": "2021-04-20T20:12:10.086180Z",
     "iopub.status.busy": "2021-04-20T20:12:10.084966Z",
     "iopub.status.idle": "2021-04-20T20:12:10.088778Z",
     "shell.execute_reply": "2021-04-20T20:12:10.088201Z"
    }
   },
   "outputs": [
    {
     "data": {
      "text/plain": [
       "True"
      ]
     },
     "execution_count": 1,
     "metadata": {},
     "output_type": "execute_result"
    }
   ],
   "source": [
    "l = [1, 2, 3, 4]\n",
    "2 in l"
   ]
  },
  {
   "cell_type": "code",
   "execution_count": 65,
   "id": "e1621392",
   "metadata": {
    "execution": {
     "iopub.execute_input": "2021-04-20T20:12:10.095848Z",
     "iopub.status.busy": "2021-04-20T20:12:10.094302Z",
     "iopub.status.idle": "2021-04-20T20:12:10.098031Z",
     "shell.execute_reply": "2021-04-20T20:12:10.097375Z"
    }
   },
   "outputs": [
    {
     "name": "stdout",
     "output_type": "stream",
     "text": [
      "la clave es clave1 y el valor es valor1\n",
      "la clave es 2 y el valor es valor2\n",
      "la clave es clave3 y el valor es 3\n"
     ]
    }
   ],
   "source": [
    "for clave, valor in diccionario.items():\n",
    "    print(\"la clave es %s y el valor es %s\" % (clave, valor))"
   ]
  },
  {
   "cell_type": "code",
   "execution_count": 66,
   "id": "ecab92e4",
   "metadata": {
    "execution": {
     "iopub.execute_input": "2021-04-20T20:12:10.103388Z",
     "iopub.status.busy": "2021-04-20T20:12:10.102588Z",
     "iopub.status.idle": "2021-04-20T20:12:10.106791Z",
     "shell.execute_reply": "2021-04-20T20:12:10.106148Z"
    }
   },
   "outputs": [
    {
     "name": "stdout",
     "output_type": "stream",
     "text": [
      "la clave es clave1 y el valor es valor1\n",
      "la clave es 2 y el valor es valor2\n",
      "la clave es clave3 y el valor es 3\n"
     ]
    }
   ],
   "source": [
    "for clave, valor in diccionario.items():\n",
    "    print(\"la clave es {} y el valor es {}\".format(clave, valor))"
   ]
  },
  {
   "cell_type": "code",
   "execution_count": 67,
   "id": "66910a65",
   "metadata": {
    "execution": {
     "iopub.execute_input": "2021-04-20T20:12:10.113734Z",
     "iopub.status.busy": "2021-04-20T20:12:10.112149Z",
     "iopub.status.idle": "2021-04-20T20:12:10.115923Z",
     "shell.execute_reply": "2021-04-20T20:12:10.115326Z"
    },
    "slideshow": {
     "slide_type": "slide"
    }
   },
   "outputs": [
    {
     "name": "stdout",
     "output_type": "stream",
     "text": [
      "la clave es clave1 y el valor es valor1\n",
      "la clave es 2 y el valor es valor2\n",
      "la clave es clave3 y el valor es 3\n"
     ]
    }
   ],
   "source": [
    "# Cómo iterar un diccionario elemento por elemento\n",
    "for (\n",
    "    clave,\n",
    "    valor,\n",
    ") in (\n",
    "    diccionario.items()\n",
    "):  # diccionario.items() va devolviendo tuplas con el formato (clave,valor)\n",
    "    print(\n",
    "        f\"la clave es {clave} y el valor es {valor}\"\n",
    "    )  # con esta sintaxis se desempaquetan en clave y valor (similar a enumerate)"
   ]
  },
  {
   "cell_type": "code",
   "execution_count": 68,
   "id": "8e5657e5",
   "metadata": {
    "execution": {
     "iopub.execute_input": "2021-04-20T20:12:10.122181Z",
     "iopub.status.busy": "2021-04-20T20:12:10.120501Z",
     "iopub.status.idle": "2021-04-20T20:12:10.124394Z",
     "shell.execute_reply": "2021-04-20T20:12:10.123847Z"
    },
    "slideshow": {
     "slide_type": "slide"
    }
   },
   "outputs": [
    {
     "name": "stdout",
     "output_type": "stream",
     "text": [
      "clave1\n",
      "2\n",
      "clave3\n"
     ]
    }
   ],
   "source": [
    "for clave in diccionario.keys():\n",
    "    print(clave)"
   ]
  },
  {
   "cell_type": "code",
   "execution_count": 69,
   "id": "bc58bc54",
   "metadata": {
    "execution": {
     "iopub.execute_input": "2021-04-20T20:12:10.130375Z",
     "iopub.status.busy": "2021-04-20T20:12:10.128897Z",
     "iopub.status.idle": "2021-04-20T20:12:10.133668Z",
     "shell.execute_reply": "2021-04-20T20:12:10.133023Z"
    },
    "slideshow": {
     "slide_type": "slide"
    }
   },
   "outputs": [
    {
     "name": "stdout",
     "output_type": "stream",
     "text": [
      "valor1\n",
      "valor2\n",
      "3\n"
     ]
    }
   ],
   "source": [
    "for valor in diccionario.values():\n",
    "    print(valor)"
   ]
  },
  {
   "cell_type": "markdown",
   "id": "88fe3798",
   "metadata": {},
   "source": [
    "#### Sets\n",
    "\n",
    "Son similares a los diccionarios (en eficiencia) pero se almacenan solo claves, y tienen algunas operaciones particulares.\n",
    "\n",
    "En particular, no pueden tener elementos iguales (pensar que son conjuntos)"
   ]
  },
  {
   "cell_type": "code",
   "execution_count": 70,
   "id": "6c2da31f",
   "metadata": {
    "execution": {
     "iopub.execute_input": "2021-04-20T20:12:10.138899Z",
     "iopub.status.busy": "2021-04-20T20:12:10.138216Z",
     "iopub.status.idle": "2021-04-20T20:12:10.143692Z",
     "shell.execute_reply": "2021-04-20T20:12:10.143108Z"
    }
   },
   "outputs": [],
   "source": [
    "set??"
   ]
  },
  {
   "cell_type": "code",
   "execution_count": 71,
   "id": "bf11c721",
   "metadata": {
    "execution": {
     "iopub.execute_input": "2021-04-20T20:12:10.149978Z",
     "iopub.status.busy": "2021-04-20T20:12:10.148629Z",
     "iopub.status.idle": "2021-04-20T20:12:10.152856Z",
     "shell.execute_reply": "2021-04-20T20:12:10.152181Z"
    }
   },
   "outputs": [
    {
     "data": {
      "text/plain": [
       "{1, 2, 3}"
      ]
     },
     "execution_count": 1,
     "metadata": {},
     "output_type": "execute_result"
    }
   ],
   "source": [
    "# Se definen como los diccionarios pero sin hacerlos 'clave:valor', solamente una seguidilla de elementos\n",
    "{1, 2, 2, 3}"
   ]
  },
  {
   "cell_type": "code",
   "execution_count": 72,
   "id": "5fa8cff6",
   "metadata": {
    "execution": {
     "iopub.execute_input": "2021-04-20T20:12:10.158308Z",
     "iopub.status.busy": "2021-04-20T20:12:10.157663Z",
     "iopub.status.idle": "2021-04-20T20:12:10.159981Z",
     "shell.execute_reply": "2021-04-20T20:12:10.160556Z"
    }
   },
   "outputs": [
    {
     "data": {
      "text/plain": [
       "{1, 2, 3}"
      ]
     },
     "execution_count": 1,
     "metadata": {},
     "output_type": "execute_result"
    }
   ],
   "source": [
    "set([1, 2, 2, 3])"
   ]
  },
  {
   "cell_type": "markdown",
   "id": "2742f07c",
   "metadata": {},
   "source": [
    "## Condicionales (if...elif...else)\n",
    "\n",
    "```python\n",
    "if <condición_1>:\n",
    "    <hacer algo_1 si se da la condición_1>\n",
    "elif <condición_2>:\n",
    "    <hacer algo_2 si se da la condición_2>\n",
    "...\n",
    "elif <condición_n>:\n",
    "    <hacer algo_n si se da la condición_n>\n",
    "else:\n",
    "    <hacer otra cosa si no dan las anteriores>\n",
    "```\n",
    "\n",
    "Algo importante para notar es que los bloques se definen por **niveles de identacion**."
   ]
  },
  {
   "cell_type": "code",
   "execution_count": 73,
   "id": "418d16c4",
   "metadata": {
    "execution": {
     "iopub.execute_input": "2021-04-20T20:12:10.173616Z",
     "iopub.status.busy": "2021-04-20T20:12:10.171840Z",
     "iopub.status.idle": "2021-04-20T20:12:10.175205Z",
     "shell.execute_reply": "2021-04-20T20:12:10.172964Z"
    }
   },
   "outputs": [
    {
     "name": "stdout",
     "output_type": "stream",
     "text": [
      "uno\n"
     ]
    }
   ],
   "source": [
    "v = 1\n",
    "if v == 1:\n",
    "    print(\"uno\")\n",
    "elif v == 2:\n",
    "    print(\"dos\")\n",
    "else:\n",
    "    print(\"ni idea\")\n",
    "    print(v)"
   ]
  },
  {
   "cell_type": "markdown",
   "id": "cabd1e4f",
   "metadata": {},
   "source": [
    "## Iteraciones\n",
    "\n",
    "```python\n",
    "while cond:\n",
    "    <codigo>\n",
    "```\n",
    "\n",
    "```python\n",
    "for elemento in iterable:\n",
    "    <codigo>\n",
    "```\n",
    "\n",
    "Para iterar sobre un rango de valores, usamos `range`"
   ]
  },
  {
   "cell_type": "code",
   "execution_count": 74,
   "id": "94cfb5d9",
   "metadata": {
    "execution": {
     "iopub.execute_input": "2021-04-20T20:12:10.179680Z",
     "iopub.status.busy": "2021-04-20T20:12:10.179005Z",
     "iopub.status.idle": "2021-04-20T20:12:10.182554Z",
     "shell.execute_reply": "2021-04-20T20:12:10.181889Z"
    }
   },
   "outputs": [
    {
     "name": "stdout",
     "output_type": "stream",
     "text": [
      "1\n",
      "4\n",
      "7\n",
      "10\n"
     ]
    }
   ],
   "source": [
    "for i in range(1, 11, 3):\n",
    "    print(i)"
   ]
  },
  {
   "cell_type": "markdown",
   "id": "8062ffdf",
   "metadata": {},
   "source": [
    "## Operadores logicos\n",
    "\n",
    "`not`, `or`, `and`"
   ]
  },
  {
   "cell_type": "code",
   "execution_count": 75,
   "id": "be30f260",
   "metadata": {
    "execution": {
     "iopub.execute_input": "2021-04-20T20:12:10.194291Z",
     "iopub.status.busy": "2021-04-20T20:12:10.190989Z",
     "iopub.status.idle": "2021-04-20T20:12:10.196353Z",
     "shell.execute_reply": "2021-04-20T20:12:10.195820Z"
    }
   },
   "outputs": [
    {
     "name": "stdout",
     "output_type": "stream",
     "text": [
      "yay\n"
     ]
    }
   ],
   "source": [
    "if True or False:\n",
    "    print(\"yay\")"
   ]
  },
  {
   "cell_type": "code",
   "execution_count": 76,
   "id": "82a7a97b",
   "metadata": {
    "execution": {
     "iopub.execute_input": "2021-04-20T20:12:10.201920Z",
     "iopub.status.busy": "2021-04-20T20:12:10.200645Z",
     "iopub.status.idle": "2021-04-20T20:12:10.203994Z",
     "shell.execute_reply": "2021-04-20T20:12:10.204518Z"
    }
   },
   "outputs": [
    {
     "data": {
      "text/plain": [
       "False"
      ]
     },
     "execution_count": 1,
     "metadata": {},
     "output_type": "execute_result"
    }
   ],
   "source": [
    "1 == 2"
   ]
  },
  {
   "cell_type": "code",
   "execution_count": 77,
   "id": "85caf287",
   "metadata": {
    "execution": {
     "iopub.execute_input": "2021-04-20T20:12:10.209067Z",
     "iopub.status.busy": "2021-04-20T20:12:10.208369Z",
     "iopub.status.idle": "2021-04-20T20:12:10.211622Z",
     "shell.execute_reply": "2021-04-20T20:12:10.211082Z"
    }
   },
   "outputs": [
    {
     "data": {
      "text/plain": [
       "True"
      ]
     },
     "execution_count": 1,
     "metadata": {},
     "output_type": "execute_result"
    }
   ],
   "source": [
    "1 != 2"
   ]
  },
  {
   "cell_type": "markdown",
   "id": "b9d84797",
   "metadata": {
    "slideshow": {
     "slide_type": "slide"
    }
   },
   "source": [
    "## Funciones en Python"
   ]
  },
  {
   "cell_type": "code",
   "execution_count": 78,
   "id": "c8af1455",
   "metadata": {
    "execution": {
     "iopub.execute_input": "2021-04-20T20:12:10.221910Z",
     "iopub.status.busy": "2021-04-20T20:12:10.220426Z",
     "iopub.status.idle": "2021-04-20T20:12:10.223714Z",
     "shell.execute_reply": "2021-04-20T20:12:10.224225Z"
    },
    "slideshow": {
     "slide_type": "slide"
    }
   },
   "outputs": [
    {
     "name": "stdout",
     "output_type": "stream",
     "text": [
      "True\n",
      "False\n"
     ]
    }
   ],
   "source": [
    "def busqueda_binaria(lista, elemento):\n",
    "    if not lista:\n",
    "        return False\n",
    "    elif len(lista) == 1:\n",
    "        return lista[0] == elemento\n",
    "    mitad = len(lista) // 2  # // es la operación división entera\n",
    "    if lista[mitad] == elemento:\n",
    "        return True\n",
    "    if lista[mitad] > elemento:\n",
    "        return busqueda_binaria(lista[:mitad], elemento)\n",
    "    if lista[mitad] < elemento:\n",
    "        return busqueda_binaria(lista[mitad:], elemento)\n",
    "\n",
    "\n",
    "print(busqueda_binaria([1, 2, 3, 4, 5], 4))\n",
    "print(busqueda_binaria([1, 4, 6, 7, 9, 10], 2))"
   ]
  },
  {
   "cell_type": "code",
   "execution_count": 79,
   "id": "ea45fd53",
   "metadata": {
    "execution": {
     "iopub.execute_input": "2021-04-20T20:12:10.230810Z",
     "iopub.status.busy": "2021-04-20T20:12:10.229193Z",
     "iopub.status.idle": "2021-04-20T20:12:10.234544Z",
     "shell.execute_reply": "2021-04-20T20:12:10.232312Z"
    }
   },
   "outputs": [
    {
     "name": "stdout",
     "output_type": "stream",
     "text": [
      "(3, 3, 3)\n"
     ]
    }
   ],
   "source": [
    "def a(b):\n",
    "    if a == 1:\n",
    "        print(a)\n",
    "    return (b, b, b)\n",
    "\n",
    "\n",
    "print(a(3))"
   ]
  },
  {
   "cell_type": "code",
   "execution_count": 80,
   "id": "a7cbae87",
   "metadata": {
    "execution": {
     "iopub.execute_input": "2021-04-20T20:12:10.248031Z",
     "iopub.status.busy": "2021-04-20T20:12:10.240241Z",
     "iopub.status.idle": "2021-04-20T20:12:10.251264Z",
     "shell.execute_reply": "2021-04-20T20:12:10.251985Z"
    },
    "lines_to_next_cell": 2,
    "slideshow": {
     "slide_type": "slide"
    },
    "tags": [
     "raises-exception"
    ]
   },
   "outputs": [
    {
     "name": "stdout",
     "output_type": "stream",
     "text": [
      "3\n",
      "3.0\n",
      "3.0\n",
      "hola como te va\n",
      "[1, 2, 3, 4, 5]\n"
     ]
    },
    {
     "ename": "TypeError",
     "evalue": "can only concatenate str (not \"int\") to str",
     "output_type": "error",
     "traceback": [
      "\u001b[0;31m---------------------------------------------------------------------------\u001b[0m",
      "\u001b[0;31mTypeError\u001b[0m                                 Traceback (most recent call last)",
      "\u001b[0;32m<ipython-input-1-c2a6a99a90c7>\u001b[0m in \u001b[0;36m<module>\u001b[0;34m\u001b[0m\n\u001b[1;32m      8\u001b[0m \u001b[0mprint\u001b[0m\u001b[0;34m(\u001b[0m\u001b[0msuma\u001b[0m\u001b[0;34m(\u001b[0m\u001b[0;34m\"hola \"\u001b[0m\u001b[0;34m,\u001b[0m \u001b[0;34m\"como te va\"\u001b[0m\u001b[0;34m)\u001b[0m\u001b[0;34m)\u001b[0m\u001b[0;34m\u001b[0m\u001b[0;34m\u001b[0m\u001b[0m\n\u001b[1;32m      9\u001b[0m \u001b[0mprint\u001b[0m\u001b[0;34m(\u001b[0m\u001b[0msuma\u001b[0m\u001b[0;34m(\u001b[0m\u001b[0;34m[\u001b[0m\u001b[0;36m1\u001b[0m\u001b[0;34m,\u001b[0m \u001b[0;36m2\u001b[0m\u001b[0;34m,\u001b[0m \u001b[0;36m3\u001b[0m\u001b[0;34m]\u001b[0m\u001b[0;34m,\u001b[0m \u001b[0;34m[\u001b[0m\u001b[0;36m4\u001b[0m\u001b[0;34m,\u001b[0m \u001b[0;36m5\u001b[0m\u001b[0;34m]\u001b[0m\u001b[0;34m)\u001b[0m\u001b[0;34m)\u001b[0m\u001b[0;34m\u001b[0m\u001b[0;34m\u001b[0m\u001b[0m\n\u001b[0;32m---> 10\u001b[0;31m \u001b[0mprint\u001b[0m\u001b[0;34m(\u001b[0m\u001b[0msuma\u001b[0m\u001b[0;34m(\u001b[0m\u001b[0;34m\"1\"\u001b[0m\u001b[0;34m,\u001b[0m \u001b[0;36m3\u001b[0m\u001b[0;34m)\u001b[0m\u001b[0;34m)\u001b[0m  \u001b[0;31m# Falla\u001b[0m\u001b[0;34m\u001b[0m\u001b[0;34m\u001b[0m\u001b[0m\n\u001b[0m",
      "\u001b[0;32m<ipython-input-1-c2a6a99a90c7>\u001b[0m in \u001b[0;36msuma\u001b[0;34m(a, b)\u001b[0m\n\u001b[1;32m      1\u001b[0m \u001b[0;32mdef\u001b[0m \u001b[0msuma\u001b[0m\u001b[0;34m(\u001b[0m\u001b[0ma\u001b[0m\u001b[0;34m,\u001b[0m \u001b[0mb\u001b[0m\u001b[0;34m)\u001b[0m\u001b[0;34m:\u001b[0m\u001b[0;34m\u001b[0m\u001b[0;34m\u001b[0m\u001b[0m\n\u001b[0;32m----> 2\u001b[0;31m     \u001b[0;32mreturn\u001b[0m \u001b[0ma\u001b[0m \u001b[0;34m+\u001b[0m \u001b[0mb\u001b[0m\u001b[0;34m\u001b[0m\u001b[0;34m\u001b[0m\u001b[0m\n\u001b[0m\u001b[1;32m      3\u001b[0m \u001b[0;34m\u001b[0m\u001b[0m\n\u001b[1;32m      4\u001b[0m \u001b[0;34m\u001b[0m\u001b[0m\n\u001b[1;32m      5\u001b[0m \u001b[0mprint\u001b[0m\u001b[0;34m(\u001b[0m\u001b[0msuma\u001b[0m\u001b[0;34m(\u001b[0m\u001b[0;36m1\u001b[0m\u001b[0;34m,\u001b[0m \u001b[0;36m2\u001b[0m\u001b[0;34m)\u001b[0m\u001b[0;34m)\u001b[0m\u001b[0;34m\u001b[0m\u001b[0;34m\u001b[0m\u001b[0m\n",
      "\u001b[0;31mTypeError\u001b[0m: can only concatenate str (not \"int\") to str"
     ]
    }
   ],
   "source": [
    "def suma(a, b):\n",
    "    return a + b\n",
    "\n",
    "\n",
    "print(suma(1, 2))\n",
    "print(suma(1.0, 2.0))\n",
    "print(suma(1.0, 2))\n",
    "print(suma(\"hola \", \"como te va\"))\n",
    "print(suma([1, 2, 3], [4, 5]))\n",
    "print(suma(\"1\", 3))  # Falla"
   ]
  },
  {
   "cell_type": "code",
   "execution_count": 81,
   "id": "21c44c7e",
   "metadata": {
    "execution": {
     "iopub.execute_input": "2021-04-20T20:12:10.258853Z",
     "iopub.status.busy": "2021-04-20T20:12:10.257308Z",
     "iopub.status.idle": "2021-04-20T20:12:10.261659Z",
     "shell.execute_reply": "2021-04-20T20:12:10.260328Z"
    }
   },
   "outputs": [
    {
     "name": "stdout",
     "output_type": "stream",
     "text": [
      "2.0"
     ]
    },
    {
     "name": "stdout",
     "output_type": "stream",
     "text": [
      "\n"
     ]
    }
   ],
   "source": [
    "# El valor por default de divisor es 1\n",
    "\n",
    "\n",
    "def division(dividendo, divisor=2):\n",
    "    return dividendo / divisor\n",
    "\n",
    "\n",
    "print(division(4))  # Usa el valor por default"
   ]
  },
  {
   "cell_type": "code",
   "execution_count": 82,
   "id": "7b13de14",
   "metadata": {
    "execution": {
     "iopub.execute_input": "2021-04-20T20:12:10.271026Z",
     "iopub.status.busy": "2021-04-20T20:12:10.270303Z",
     "iopub.status.idle": "2021-04-20T20:12:10.275136Z",
     "shell.execute_reply": "2021-04-20T20:12:10.274478Z"
    },
    "tags": [
     "raises-exception"
    ]
   },
   "outputs": [
    {
     "name": "stdout",
     "output_type": "stream",
     "text": [
      "0.5\n",
      "0.5\n"
     ]
    },
    {
     "ename": "TypeError",
     "evalue": "division() missing 1 required positional argument: 'dividendo'",
     "output_type": "error",
     "traceback": [
      "\u001b[0;31m---------------------------------------------------------------------------\u001b[0m",
      "\u001b[0;31mTypeError\u001b[0m                                 Traceback (most recent call last)",
      "\u001b[0;32m<ipython-input-1-34eff3833138>\u001b[0m in \u001b[0;36m<module>\u001b[0;34m\u001b[0m\n\u001b[1;32m      1\u001b[0m \u001b[0mprint\u001b[0m\u001b[0;34m(\u001b[0m\u001b[0mdivision\u001b[0m\u001b[0;34m(\u001b[0m\u001b[0;36m1\u001b[0m\u001b[0;34m,\u001b[0m \u001b[0;36m2\u001b[0m\u001b[0;34m)\u001b[0m\u001b[0;34m)\u001b[0m  \u001b[0;31m# Parámetros por orden\u001b[0m\u001b[0;34m\u001b[0m\u001b[0;34m\u001b[0m\u001b[0m\n\u001b[1;32m      2\u001b[0m \u001b[0mprint\u001b[0m\u001b[0;34m(\u001b[0m\u001b[0mdivision\u001b[0m\u001b[0;34m(\u001b[0m\u001b[0mdividendo\u001b[0m\u001b[0;34m=\u001b[0m\u001b[0;36m1\u001b[0m\u001b[0;34m,\u001b[0m \u001b[0mdivisor\u001b[0m\u001b[0;34m=\u001b[0m\u001b[0;36m2\u001b[0m\u001b[0;34m)\u001b[0m\u001b[0;34m)\u001b[0m  \u001b[0;31m# Parámetros por nombre\u001b[0m\u001b[0;34m\u001b[0m\u001b[0;34m\u001b[0m\u001b[0m\n\u001b[0;32m----> 3\u001b[0;31m \u001b[0mprint\u001b[0m\u001b[0;34m(\u001b[0m\u001b[0mdivision\u001b[0m\u001b[0;34m(\u001b[0m\u001b[0mdivisor\u001b[0m\u001b[0;34m=\u001b[0m\u001b[0;36m2\u001b[0m\u001b[0;34m)\u001b[0m\u001b[0;34m)\u001b[0m\u001b[0;34m\u001b[0m\u001b[0;34m\u001b[0m\u001b[0m\n\u001b[0m",
      "\u001b[0;31mTypeError\u001b[0m: division() missing 1 required positional argument: 'dividendo'"
     ]
    }
   ],
   "source": [
    "print(division(1, 2))  # Parámetros por orden\n",
    "print(division(dividendo=1, divisor=2))  # Parámetros por nombre\n",
    "print(division(divisor=2))"
   ]
  },
  {
   "cell_type": "code",
   "execution_count": 83,
   "id": "e752c98f",
   "metadata": {
    "execution": {
     "iopub.execute_input": "2021-04-20T20:12:10.281045Z",
     "iopub.status.busy": "2021-04-20T20:12:10.279450Z",
     "iopub.status.idle": "2021-04-20T20:12:10.283280Z",
     "shell.execute_reply": "2021-04-20T20:12:10.282714Z"
    }
   },
   "outputs": [
    {
     "name": "stdout",
     "output_type": "stream",
     "text": [
      "0.5\n"
     ]
    }
   ],
   "source": [
    "print(division(divisor=2, dividendo=1))"
   ]
  },
  {
   "cell_type": "code",
   "execution_count": 84,
   "id": "40d9bcfb",
   "metadata": {
    "execution": {
     "iopub.execute_input": "2021-04-20T20:12:10.289965Z",
     "iopub.status.busy": "2021-04-20T20:12:10.289333Z",
     "iopub.status.idle": "2021-04-20T20:12:10.291520Z",
     "shell.execute_reply": "2021-04-20T20:12:10.292096Z"
    }
   },
   "outputs": [
    {
     "name": "stdout",
     "output_type": "stream",
     "text": [
      "['a', 'b', 'c']\n",
      "[1, 2, 3]\n",
      "['hola', ' don', ' pepito']\n",
      "hola -  don -  pepito\n"
     ]
    }
   ],
   "source": [
    "# Funciones básicas ya en el lenguaje\n",
    "# Hechas para funcionar para distintos tipos\n",
    "\n",
    "string_ordenado = sorted('bca')\n",
    "print(string_ordenado)\n",
    "\n",
    "lista_ordenada = sorted([1, 3, 2])\n",
    "print(lista_ordenada)\n",
    "\n",
    "separadas = \"hola, don, pepito\".split(\",\")\n",
    "print(separadas)\n",
    "unidas = \" - \".join(separadas)\n",
    "print(unidas)"
   ]
  },
  {
   "cell_type": "markdown",
   "id": "aad1e7ad",
   "metadata": {},
   "source": [
    "## Módulos\n",
    "\n",
    "Para incluir alguna biblioteca de funciones se usa `import`. Pueden ser cosas ya predefinidas en Python (`math`, `random`, etc), nombres de archivos en nuestro directorio (por ejemplo, para `mimodulo.py` ponemos `import mimodulo`) o bibliotecas instaladas por el usuario"
   ]
  },
  {
   "cell_type": "code",
   "execution_count": 85,
   "id": "1218fb2f",
   "metadata": {
    "execution": {
     "iopub.execute_input": "2021-04-20T20:12:10.295606Z",
     "iopub.status.busy": "2021-04-20T20:12:10.294865Z",
     "iopub.status.idle": "2021-04-20T20:12:10.299294Z",
     "shell.execute_reply": "2021-04-20T20:12:10.298709Z"
    }
   },
   "outputs": [
    {
     "name": "stdout",
     "output_type": "stream",
     "text": [
      "3.141592653589793\n"
     ]
    }
   ],
   "source": [
    "import math\n",
    "\n",
    "print(math.pi)"
   ]
  },
  {
   "cell_type": "code",
   "execution_count": 86,
   "id": "352cb6b6",
   "metadata": {
    "execution": {
     "iopub.execute_input": "2021-04-20T20:12:10.304416Z",
     "iopub.status.busy": "2021-04-20T20:12:10.303567Z",
     "iopub.status.idle": "2021-04-20T20:12:10.305817Z",
     "shell.execute_reply": "2021-04-20T20:12:10.306307Z"
    }
   },
   "outputs": [
    {
     "name": "stdout",
     "output_type": "stream",
     "text": [
      "3.141592653589793 2.718281828459045\n"
     ]
    }
   ],
   "source": [
    "from math import pi, e\n",
    "\n",
    "print(pi, e)"
   ]
  },
  {
   "cell_type": "code",
   "execution_count": 87,
   "id": "7ab8b9f2",
   "metadata": {
    "execution": {
     "iopub.execute_input": "2021-04-20T20:12:10.310633Z",
     "iopub.status.busy": "2021-04-20T20:12:10.309982Z",
     "iopub.status.idle": "2021-04-20T20:12:10.312736Z",
     "shell.execute_reply": "2021-04-20T20:12:10.313217Z"
    }
   },
   "outputs": [
    {
     "data": {
      "text/plain": [
       "2"
      ]
     },
     "execution_count": 1,
     "metadata": {},
     "output_type": "execute_result"
    }
   ],
   "source": [
    "math.gcd(56, 78)"
   ]
  },
  {
   "cell_type": "markdown",
   "id": "e0a87a28",
   "metadata": {},
   "source": [
    "## Manejo de excepciones\n",
    "\n",
    "Se pueden encapsular errores esperados en un bloque 'try/except' para evitar cortar el flujo del programa"
   ]
  },
  {
   "cell_type": "code",
   "execution_count": 88,
   "id": "389062c1",
   "metadata": {
    "execution": {
     "iopub.execute_input": "2021-04-20T20:12:10.319637Z",
     "iopub.status.busy": "2021-04-20T20:12:10.318931Z",
     "iopub.status.idle": "2021-04-20T20:12:10.326728Z",
     "shell.execute_reply": "2021-04-20T20:12:10.326131Z"
    },
    "tags": [
     "raises-exception"
    ]
   },
   "outputs": [
    {
     "ename": "ZeroDivisionError",
     "evalue": "division by zero",
     "output_type": "error",
     "traceback": [
      "\u001b[0;31m---------------------------------------------------------------------------\u001b[0m",
      "\u001b[0;31mZeroDivisionError\u001b[0m                         Traceback (most recent call last)",
      "\u001b[0;32m<ipython-input-1-f031f77b1a55>\u001b[0m in \u001b[0;36m<module>\u001b[0;34m\u001b[0m\n\u001b[0;32m----> 1\u001b[0;31m \u001b[0mdivision\u001b[0m\u001b[0;34m(\u001b[0m\u001b[0;36m1\u001b[0m\u001b[0;34m,\u001b[0m \u001b[0;36m0\u001b[0m\u001b[0;34m)\u001b[0m  \u001b[0;31m# No se puede dividir por cero\u001b[0m\u001b[0;34m\u001b[0m\u001b[0;34m\u001b[0m\u001b[0m\n\u001b[0m",
      "\u001b[0;32m<ipython-input-1-0d991d7de762>\u001b[0m in \u001b[0;36mdivision\u001b[0;34m(dividendo, divisor)\u001b[0m\n\u001b[1;32m      3\u001b[0m \u001b[0;34m\u001b[0m\u001b[0m\n\u001b[1;32m      4\u001b[0m \u001b[0;32mdef\u001b[0m \u001b[0mdivision\u001b[0m\u001b[0;34m(\u001b[0m\u001b[0mdividendo\u001b[0m\u001b[0;34m,\u001b[0m \u001b[0mdivisor\u001b[0m\u001b[0;34m=\u001b[0m\u001b[0;36m2\u001b[0m\u001b[0;34m)\u001b[0m\u001b[0;34m:\u001b[0m\u001b[0;34m\u001b[0m\u001b[0;34m\u001b[0m\u001b[0m\n\u001b[0;32m----> 5\u001b[0;31m     \u001b[0;32mreturn\u001b[0m \u001b[0mdividendo\u001b[0m \u001b[0;34m/\u001b[0m \u001b[0mdivisor\u001b[0m\u001b[0;34m\u001b[0m\u001b[0;34m\u001b[0m\u001b[0m\n\u001b[0m\u001b[1;32m      6\u001b[0m \u001b[0;34m\u001b[0m\u001b[0m\n\u001b[1;32m      7\u001b[0m \u001b[0;34m\u001b[0m\u001b[0m\n",
      "\u001b[0;31mZeroDivisionError\u001b[0m: division by zero"
     ]
    }
   ],
   "source": [
    "division(1, 0)  # No se puede dividir por cero"
   ]
  },
  {
   "cell_type": "code",
   "execution_count": 89,
   "id": "367bc0af",
   "metadata": {
    "execution": {
     "iopub.execute_input": "2021-04-20T20:12:10.333547Z",
     "iopub.status.busy": "2021-04-20T20:12:10.332018Z",
     "iopub.status.idle": "2021-04-20T20:12:10.337958Z",
     "shell.execute_reply": "2021-04-20T20:12:10.337352Z"
    }
   },
   "outputs": [
    {
     "name": "stdout",
     "output_type": "stream",
     "text": [
      "No se puede dividir por cero, ojo! division by zero\n",
      "1\n"
     ]
    }
   ],
   "source": [
    "try:\n",
    "    division(1, 0)\n",
    "except (ZeroDivisionError, TypeError) as e:\n",
    "    print('No se puede dividir por cero, ojo!', e)\n",
    "finally:\n",
    "    print(1)"
   ]
  },
  {
   "cell_type": "markdown",
   "id": "b44c44b9",
   "metadata": {
    "slideshow": {
     "slide_type": "slide"
    }
   },
   "source": [
    "## Lectura y escritura de archivos"
   ]
  },
  {
   "cell_type": "code",
   "execution_count": 90,
   "id": "4b68524e",
   "metadata": {
    "execution": {
     "iopub.execute_input": "2021-04-20T20:12:10.344873Z",
     "iopub.status.busy": "2021-04-20T20:12:10.344187Z",
     "iopub.status.idle": "2021-04-20T20:12:10.346478Z",
     "shell.execute_reply": "2021-04-20T20:12:10.347026Z"
    },
    "slideshow": {
     "slide_type": "slide"
    }
   },
   "outputs": [
    {
     "name": "stdout",
     "output_type": "stream",
     "text": [
      "<_io.TextIOWrapper name='archivo.csv' mode='w' encoding='UTF-8'>\n"
     ]
    }
   ],
   "source": [
    "import random\n",
    "\n",
    "with open(\n",
    "    'archivo.csv', 'w'\n",
    ") as archivo:  # Al usar esta sintaxis no es necesario hacer close\n",
    "    archivo.write(\"Alumno, nota\\n\")\n",
    "    # Tambien de forma similar al fprintf se puede hacer:\n",
    "    # print(\"Alumno, nota\\n\", file=archivo)\n",
    "    for i in range(0, 10):\n",
    "        archivo.write(f\"{i},{random.randrange(0,10)}\\n\")\n",
    "\n",
    "print(archivo)  # Comentario aclaratorio:\n",
    "# Las variables definidas en un determinado scope siguen existiendo por fuera del mismo.\n",
    "# Se debe tener cuidado con esto, ya que nada garantiza que por fuera el valor sea el esperado."
   ]
  },
  {
   "cell_type": "code",
   "execution_count": 91,
   "id": "da41eaf5",
   "metadata": {
    "execution": {
     "iopub.execute_input": "2021-04-20T20:12:10.350740Z",
     "iopub.status.busy": "2021-04-20T20:12:10.350133Z",
     "iopub.status.idle": "2021-04-20T20:12:10.356008Z",
     "shell.execute_reply": "2021-04-20T20:12:10.355285Z"
    },
    "slideshow": {
     "slide_type": "slide"
    }
   },
   "outputs": [
    {
     "name": "stdout",
     "output_type": "stream",
     "text": [
      "Alumno, nota\n",
      "0,0\n",
      "1,9\n",
      "2,9\n",
      "3,1\n",
      "4,0\n",
      "5,6\n",
      "6,3\n",
      "7,3\n",
      "8,9\n",
      "9,3\n"
     ]
    }
   ],
   "source": [
    "with open('archivo.csv', 'r') as f:\n",
    "    for linea in f:\n",
    "        print(linea.strip())"
   ]
  },
  {
   "cell_type": "code",
   "execution_count": 92,
   "id": "6c441cda",
   "metadata": {
    "execution": {
     "iopub.execute_input": "2021-04-20T20:12:10.360534Z",
     "iopub.status.busy": "2021-04-20T20:12:10.359968Z",
     "iopub.status.idle": "2021-04-20T20:12:10.361962Z",
     "shell.execute_reply": "2021-04-20T20:12:10.362674Z"
    }
   },
   "outputs": [
    {
     "name": "stdout",
     "output_type": "stream",
     "text": [
      "Alumno, nota\n",
      "0,0\n",
      "1,9\n",
      "2,9\n",
      "3,1\n",
      "4,0\n",
      "5,6\n",
      "6,3\n",
      "7,3\n",
      "8,9\n",
      "9,3\n",
      "\n"
     ]
    }
   ],
   "source": [
    "with open('archivo.csv', 'r') as f:\n",
    "    print(f.read())"
   ]
  },
  {
   "cell_type": "code",
   "execution_count": 93,
   "id": "9038ab02",
   "metadata": {
    "execution": {
     "iopub.execute_input": "2021-04-20T20:12:10.367052Z",
     "iopub.status.busy": "2021-04-20T20:12:10.366177Z",
     "iopub.status.idle": "2021-04-20T20:12:10.369613Z",
     "shell.execute_reply": "2021-04-20T20:12:10.369090Z"
    }
   },
   "outputs": [],
   "source": [
    "f = open('archivo.csv', 'w')\n",
    "f.write(\"algo, algo\")\n",
    "f.close()"
   ]
  },
  {
   "cell_type": "markdown",
   "id": "4403a45f",
   "metadata": {
    "slideshow": {
     "slide_type": "slide"
    }
   },
   "source": [
    "## Objetos\n",
    "\n",
    "Los objetos tienen metodos y atributos:\n",
    "- Atributos: equivalentes a variables.\n",
    "- Métodos: equivalentes a las primitivas."
   ]
  },
  {
   "cell_type": "markdown",
   "id": "79485029",
   "metadata": {
    "slideshow": {
     "slide_type": "slide"
    }
   },
   "source": [
    "### Cómo creo una clase"
   ]
  },
  {
   "cell_type": "code",
   "execution_count": 94,
   "id": "c3a9a5d7",
   "metadata": {
    "execution": {
     "iopub.execute_input": "2021-04-20T20:12:10.376876Z",
     "iopub.status.busy": "2021-04-20T20:12:10.375719Z",
     "iopub.status.idle": "2021-04-20T20:12:10.377518Z",
     "shell.execute_reply": "2021-04-20T20:12:10.378144Z"
    },
    "slideshow": {
     "slide_type": "slide"
    }
   },
   "outputs": [],
   "source": [
    "class Nodo(object):\n",
    "    def __init__(self, dato, siguiente=None):\n",
    "        self._dato = dato\n",
    "        self._siguiente = siguiente\n",
    "\n",
    "    @property\n",
    "    def dato(self):\n",
    "        return self._dato\n",
    "\n",
    "    @property\n",
    "    def proximo(self):\n",
    "        return self._siguiente\n",
    "\n",
    "    @proximo.setter\n",
    "    def proximo(self, siguiente):\n",
    "        self._siguiente = siguiente\n",
    "\n",
    "    def __repr__(self):\n",
    "        return str(self.dato)\n",
    "\n",
    "    def __str__(self):\n",
    "        return str(self.dato)"
   ]
  },
  {
   "cell_type": "code",
   "execution_count": 95,
   "id": "60ac3fd9",
   "metadata": {
    "execution": {
     "iopub.execute_input": "2021-04-20T20:12:10.382432Z",
     "iopub.status.busy": "2021-04-20T20:12:10.381783Z",
     "iopub.status.idle": "2021-04-20T20:12:10.383901Z",
     "shell.execute_reply": "2021-04-20T20:12:10.384510Z"
    },
    "slideshow": {
     "slide_type": "slide"
    }
   },
   "outputs": [
    {
     "name": "stdout",
     "output_type": "stream",
     "text": [
      "hola\n"
     ]
    }
   ],
   "source": [
    "nodo = Nodo(\"hola\")\n",
    "print(nodo)"
   ]
  },
  {
   "cell_type": "code",
   "execution_count": 96,
   "id": "b47d6431",
   "metadata": {
    "execution": {
     "iopub.execute_input": "2021-04-20T20:12:10.389216Z",
     "iopub.status.busy": "2021-04-20T20:12:10.388603Z",
     "iopub.status.idle": "2021-04-20T20:12:10.390678Z",
     "shell.execute_reply": "2021-04-20T20:12:10.391161Z"
    },
    "slideshow": {
     "slide_type": "slide"
    }
   },
   "outputs": [
    {
     "name": "stdout",
     "output_type": "stream",
     "text": [
      "[hola, lala]\n"
     ]
    }
   ],
   "source": [
    "nodo2 = Nodo(\"lala\")\n",
    "print([nodo, nodo2])"
   ]
  },
  {
   "cell_type": "code",
   "execution_count": 97,
   "id": "61afa5db",
   "metadata": {
    "execution": {
     "iopub.execute_input": "2021-04-20T20:12:10.395522Z",
     "iopub.status.busy": "2021-04-20T20:12:10.394424Z",
     "iopub.status.idle": "2021-04-20T20:12:10.396925Z",
     "shell.execute_reply": "2021-04-20T20:12:10.397420Z"
    },
    "slideshow": {
     "slide_type": "slide"
    }
   },
   "outputs": [
    {
     "name": "stdout",
     "output_type": "stream",
     "text": [
      "hola\n"
     ]
    }
   ],
   "source": [
    "nodo3 = nodo.dato\n",
    "print(nodo3)"
   ]
  },
  {
   "cell_type": "markdown",
   "id": "81f53232",
   "metadata": {
    "slideshow": {
     "slide_type": "slide"
    }
   },
   "source": [
    "### Ejemplo: Lista Enlazada"
   ]
  },
  {
   "cell_type": "code",
   "execution_count": 98,
   "id": "4d76ae0b",
   "metadata": {
    "execution": {
     "iopub.execute_input": "2021-04-20T20:12:10.409785Z",
     "iopub.status.busy": "2021-04-20T20:12:10.408188Z",
     "iopub.status.idle": "2021-04-20T20:12:10.410560Z",
     "shell.execute_reply": "2021-04-20T20:12:10.411132Z"
    },
    "slideshow": {
     "slide_type": "slide"
    }
   },
   "outputs": [],
   "source": [
    "class ListaEnlazada(object):\n",
    "    def __init__(self):\n",
    "        self._primero = None\n",
    "        self._ultimo = None\n",
    "        self._largo = 0\n",
    "\n",
    "    def __len__(self):\n",
    "        return self._largo\n",
    "\n",
    "    def insertar_al_principio(self, dato):\n",
    "        nodo = Nodo(dato, self._primero)\n",
    "        self._primero = nodo\n",
    "        self._largo += 1\n",
    "        if self._largo == 1:\n",
    "            self._ultimo = nodo\n",
    "\n",
    "    def insertar_al_final(self, dato):\n",
    "        if self._largo != 0:\n",
    "            nodo = Nodo(dato)\n",
    "            nodo_anterior = self._ultimo\n",
    "            nodo_anterior._siguiente = nodo\n",
    "            self._ultimo = nodo\n",
    "            self._largo += 1\n",
    "        else:\n",
    "            self.insertar_al_principio(dato)\n",
    "\n",
    "    @property\n",
    "    def primero(self):\n",
    "        return self._primero.dato\n",
    "\n",
    "    def borrar_primero(self):\n",
    "        dato = self.primero.dato\n",
    "        self._primero = self.primero.siguiente\n",
    "        self._largo -= 1\n",
    "        if self._largo == 0:\n",
    "            self._ultimo = None\n",
    "        return dato\n",
    "\n",
    "    def __str__(self):\n",
    "        datos = []\n",
    "        nodo_actual = self._primero\n",
    "        while nodo_actual:\n",
    "            datos.append(nodo_actual.dato)\n",
    "            nodo_actual = nodo_actual.proximo\n",
    "        return \" -> \".join(datos)\n",
    "\n",
    "    def __repr__(self):\n",
    "        return self.__str__()"
   ]
  },
  {
   "cell_type": "code",
   "execution_count": 99,
   "id": "e0999b22",
   "metadata": {
    "execution": {
     "iopub.execute_input": "2021-04-20T20:12:10.416923Z",
     "iopub.status.busy": "2021-04-20T20:12:10.415797Z",
     "iopub.status.idle": "2021-04-20T20:12:10.420256Z",
     "shell.execute_reply": "2021-04-20T20:12:10.419609Z"
    },
    "slideshow": {
     "slide_type": "slide"
    }
   },
   "outputs": [
    {
     "data": {
      "text/plain": [
       "2"
      ]
     },
     "execution_count": 1,
     "metadata": {},
     "output_type": "execute_result"
    }
   ],
   "source": [
    "lista = ListaEnlazada()\n",
    "lista.insertar_al_principio(\"Primer Dato\")\n",
    "lista.insertar_al_principio(\"Primer primer Dato\")\n",
    "len(lista)"
   ]
  },
  {
   "cell_type": "code",
   "execution_count": 100,
   "id": "879f9ebd",
   "metadata": {
    "execution": {
     "iopub.execute_input": "2021-04-20T20:12:10.425489Z",
     "iopub.status.busy": "2021-04-20T20:12:10.424737Z",
     "iopub.status.idle": "2021-04-20T20:12:10.427168Z",
     "shell.execute_reply": "2021-04-20T20:12:10.427712Z"
    }
   },
   "outputs": [
    {
     "data": {
      "text/plain": [
       "Primer primer Dato -> Primer Dato"
      ]
     },
     "execution_count": 1,
     "metadata": {},
     "output_type": "execute_result"
    }
   ],
   "source": [
    "lista"
   ]
  },
  {
   "cell_type": "code",
   "execution_count": 101,
   "id": "edd45f17",
   "metadata": {
    "execution": {
     "iopub.execute_input": "2021-04-20T20:12:10.431681Z",
     "iopub.status.busy": "2021-04-20T20:12:10.431099Z",
     "iopub.status.idle": "2021-04-20T20:12:10.433306Z",
     "shell.execute_reply": "2021-04-20T20:12:10.433942Z"
    },
    "slideshow": {
     "slide_type": "slide"
    }
   },
   "outputs": [
    {
     "name": "stdout",
     "output_type": "stream",
     "text": [
      "Primer primer Dato\n"
     ]
    }
   ],
   "source": [
    "elemento = lista.primero\n",
    "print(elemento)"
   ]
  },
  {
   "cell_type": "markdown",
   "id": "c8256b00",
   "metadata": {},
   "source": [
    "## Recursos\n",
    "\n",
    "* [Taller de Python de Algoritmos II](https://github.com/algoritmos-rw/algo2_apuntes)\n",
    "\n",
    "* [Documentación de Python 3](https://docs.python.org/3/tutorial/)\n",
    "\n",
    "* [Apunte de Algoritmos y Programación I](https://algoritmos1rw.ddns.net/material)\n",
    "\n",
    "* [Automate the Boring Stuff with Python](http://automatetheboringstuff.com/)\n",
    "\n",
    "* [Curso Python](https://pythoncurso.github.io)\n",
    "\n",
    "* [Python Tutor](http://pythontutor.com/)\n",
    "\n",
    "* [Learn Python3 in Y minutes](https://learnxinyminutes.com/docs/python3/)\n",
    "\n",
    "* [Bibliografía de Algoritmos y Programación I](https://algoritmos1rw.ddns.net/bibliografia)"
   ]
  }
 ],
 "metadata": {
  "jupytext": {
   "encoding": "# -*- coding: utf-8 -*-",
   "formats": "ipynb,py:light"
  },
  "kernelspec": {
   "display_name": "Python 3 (venv)",
   "language": "python",
   "name": "python3"
  },
  "language_info": {
   "codemirror_mode": {
    "name": "ipython",
    "version": 3
   },
   "file_extension": ".py",
   "mimetype": "text/x-python",
   "name": "python",
   "nbconvert_exporter": "python",
   "pygments_lexer": "ipython3",
   "version": "3.7.10"
  }
 },
 "nbformat": 4,
 "nbformat_minor": 5
}
