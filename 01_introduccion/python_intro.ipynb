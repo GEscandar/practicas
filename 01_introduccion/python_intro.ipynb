{
 "cells": [
  {
   "cell_type": "markdown",
   "id": "2ea47b94",
   "metadata": {},
   "source": [
    "# Python"
   ]
  },
  {
   "cell_type": "markdown",
   "id": "043a7746",
   "metadata": {
    "slideshow": {
     "slide_type": "slide"
    }
   },
   "source": [
    "## Un poco de Historia"
   ]
  },
  {
   "cell_type": "markdown",
   "id": "f302cc2b",
   "metadata": {
    "slideshow": {
     "slide_type": "subslide"
    }
   },
   "source": [
    "Python fue creado a finales de los años 80 por un programador holandés llamado **Guido van Rossum**,\n",
    "quien sigue siendo aún hoy el líder del desarrollo del lenguaje.\n",
    "\n",
    "(Edit julio 2018: [ya no más](https://www.mail-archive.com/python-committers@python.org/msg05628.html))"
   ]
  },
  {
   "cell_type": "markdown",
   "id": "ea6cd3a6",
   "metadata": {
    "slideshow": {
     "slide_type": "subslide"
    }
   },
   "source": [
    "El nombre del lenguaje proviene de los humoristas británicos Monty Python.\n",
    "\n",
    ">*\"I chose Python as a working title for the project, being in a slightly irreverent mood (and a big fan of Monty Python's Flying Circus).\"*"
   ]
  },
  {
   "cell_type": "markdown",
   "id": "aa969759",
   "metadata": {
    "slideshow": {
     "slide_type": "slide"
    }
   },
   "source": [
    "## Caracteristicas\n",
    "\n",
    "- Interpretado\n",
    "- Tipado dinamico\n",
    "- Multiparadigma\n",
    "- Alto nivel\n",
    "- Tiene un recolector de basura (no hay malloc, free, realloc, etc)"
   ]
  },
  {
   "cell_type": "markdown",
   "id": "05d97f20",
   "metadata": {},
   "source": [
    "## ¿Cómo empezar?\n",
    "\n",
    "* Al ser un lenguaje *interpretado*, se puede ir escribiendo a medida que se ejecuta, sin necesidad de compilar de antemano! Solamente hace falta escribir `python` o `python3` en una terminal para empezar\n",
    "\n",
    "* También, permite escribir archivos y correrlos. Crear un archivo con extensión `.py` y luego correr `python miarchivo.py` en laterminal"
   ]
  },
  {
   "cell_type": "markdown",
   "id": "085c117c",
   "metadata": {
    "slideshow": {
     "slide_type": "slide"
    }
   },
   "source": [
    "## El Zen de Python"
   ]
  },
  {
   "cell_type": "code",
   "execution_count": 1,
   "id": "81ba0dca",
   "metadata": {
    "execution": {
     "iopub.execute_input": "2021-05-04T21:08:37.696742Z",
     "iopub.status.busy": "2021-05-04T21:08:37.696211Z",
     "iopub.status.idle": "2021-05-04T21:08:37.710046Z",
     "shell.execute_reply": "2021-05-04T21:08:37.710451Z"
    },
    "slideshow": {
     "slide_type": "slide"
    }
   },
   "outputs": [
    {
     "name": "stdout",
     "output_type": "stream",
     "text": [
      "The Zen of Python, by Tim Peters\n",
      "\n",
      "Beautiful is better than ugly.\n",
      "Explicit is better than implicit.\n",
      "Simple is better than complex.\n",
      "Complex is better than complicated.\n",
      "Flat is better than nested.\n",
      "Sparse is better than dense.\n",
      "Readability counts.\n",
      "Special cases aren't special enough to break the rules.\n",
      "Although practicality beats purity.\n",
      "Errors should never pass silently.\n",
      "Unless explicitly silenced.\n",
      "In the face of ambiguity, refuse the temptation to guess.\n",
      "There should be one-- and preferably only one --obvious way to do it.\n",
      "Although that way may not be obvious at first unless you're Dutch.\n",
      "Now is better than never.\n",
      "Although never is often better than *right* now.\n",
      "If the implementation is hard to explain, it's a bad idea.\n",
      "If the implementation is easy to explain, it may be a good idea.\n",
      "Namespaces are one honking great idea -- let's do more of those!\n"
     ]
    }
   ],
   "source": [
    "import this"
   ]
  },
  {
   "cell_type": "markdown",
   "id": "aa437e25",
   "metadata": {
    "slideshow": {
     "slide_type": "slide"
    }
   },
   "source": [
    "## Conocimientos Básicos de Python: Variables y Tipos"
   ]
  },
  {
   "cell_type": "code",
   "execution_count": 2,
   "id": "bbc1de72",
   "metadata": {
    "execution": {
     "iopub.execute_input": "2021-05-04T21:08:37.714863Z",
     "iopub.status.busy": "2021-05-04T21:08:37.714021Z",
     "iopub.status.idle": "2021-05-04T21:08:37.716341Z",
     "shell.execute_reply": "2021-05-04T21:08:37.716719Z"
    },
    "slideshow": {
     "slide_type": "slide"
    }
   },
   "outputs": [
    {
     "name": "stdout",
     "output_type": "stream",
     "text": [
      "Hello World!\n"
     ]
    }
   ],
   "source": [
    "# Este es un comentario\n",
    "\n",
    "print(\"Hello World!\")"
   ]
  },
  {
   "cell_type": "markdown",
   "id": "6842d902",
   "metadata": {},
   "source": [
    "Los strings en python puden escribirse tanto con comillas simples (`'`) como comillas dobles (`\"`). Normalmente vemos texto entre comillas triples para escribir _docstrings_, segun la guia de estilo de Python, el PEP8."
   ]
  },
  {
   "cell_type": "code",
   "execution_count": 3,
   "id": "ea50e87c",
   "metadata": {
    "execution": {
     "iopub.execute_input": "2021-05-04T21:08:37.725742Z",
     "iopub.status.busy": "2021-05-04T21:08:37.724006Z",
     "iopub.status.idle": "2021-05-04T21:08:37.727756Z",
     "shell.execute_reply": "2021-05-04T21:08:37.728144Z"
    }
   },
   "outputs": [
    {
     "data": {
      "text/plain": [
       "'Esto es un docstring.\\n'"
      ]
     },
     "execution_count": 1,
     "metadata": {},
     "output_type": "execute_result"
    }
   ],
   "source": [
    "\"\"\"Esto es un docstring.\n",
    "\"\"\""
   ]
  },
  {
   "cell_type": "markdown",
   "id": "f1a4b5ce",
   "metadata": {},
   "source": [
    "### Declaracion de variables"
   ]
  },
  {
   "cell_type": "code",
   "execution_count": 4,
   "id": "3b21072a",
   "metadata": {
    "execution": {
     "iopub.execute_input": "2021-05-04T21:08:37.732749Z",
     "iopub.status.busy": "2021-05-04T21:08:37.731571Z",
     "iopub.status.idle": "2021-05-04T21:08:37.734326Z",
     "shell.execute_reply": "2021-05-04T21:08:37.733911Z"
    }
   },
   "outputs": [
    {
     "name": "stdout",
     "output_type": "stream",
     "text": [
      "Hola\n"
     ]
    }
   ],
   "source": [
    "string = 'Hola'\n",
    "print(string)"
   ]
  },
  {
   "cell_type": "code",
   "execution_count": 5,
   "id": "712b5c08",
   "metadata": {
    "execution": {
     "iopub.execute_input": "2021-05-04T21:08:37.738711Z",
     "iopub.status.busy": "2021-05-04T21:08:37.737654Z",
     "iopub.status.idle": "2021-05-04T21:08:37.740323Z",
     "shell.execute_reply": "2021-05-04T21:08:37.739911Z"
    }
   },
   "outputs": [
    {
     "name": "stdout",
     "output_type": "stream",
     "text": [
      "1\n"
     ]
    }
   ],
   "source": [
    "entero = 1\n",
    "print(entero)"
   ]
  },
  {
   "cell_type": "code",
   "execution_count": 6,
   "id": "b0241b71",
   "metadata": {
    "execution": {
     "iopub.execute_input": "2021-05-04T21:08:37.744795Z",
     "iopub.status.busy": "2021-05-04T21:08:37.743763Z",
     "iopub.status.idle": "2021-05-04T21:08:37.746357Z",
     "shell.execute_reply": "2021-05-04T21:08:37.745950Z"
    }
   },
   "outputs": [
    {
     "name": "stdout",
     "output_type": "stream",
     "text": [
      "1.0\n"
     ]
    }
   ],
   "source": [
    "flotante = 1.0\n",
    "print(flotante)"
   ]
  },
  {
   "cell_type": "code",
   "execution_count": 7,
   "id": "b55b35a6",
   "metadata": {
    "execution": {
     "iopub.execute_input": "2021-05-04T21:08:37.750108Z",
     "iopub.status.busy": "2021-05-04T21:08:37.749622Z",
     "iopub.status.idle": "2021-05-04T21:08:37.751516Z",
     "shell.execute_reply": "2021-05-04T21:08:37.751903Z"
    }
   },
   "outputs": [
    {
     "name": "stdout",
     "output_type": "stream",
     "text": [
      "(1, 1.0)\n"
     ]
    }
   ],
   "source": [
    "tupla = (entero, flotante)\n",
    "print(tupla)"
   ]
  },
  {
   "cell_type": "code",
   "execution_count": 8,
   "id": "e498a9dc",
   "metadata": {
    "execution": {
     "iopub.execute_input": "2021-05-04T21:08:37.755093Z",
     "iopub.status.busy": "2021-05-04T21:08:37.754626Z",
     "iopub.status.idle": "2021-05-04T21:08:37.756416Z",
     "shell.execute_reply": "2021-05-04T21:08:37.756773Z"
    }
   },
   "outputs": [
    {
     "name": "stdout",
     "output_type": "stream",
     "text": [
      "(1, 1.0, 'Hola')\n"
     ]
    }
   ],
   "source": [
    "nupla = (entero, flotante, string)\n",
    "print(nupla)"
   ]
  },
  {
   "cell_type": "code",
   "execution_count": 9,
   "id": "f5ba1687",
   "metadata": {
    "execution": {
     "iopub.execute_input": "2021-05-04T21:08:37.760173Z",
     "iopub.status.busy": "2021-05-04T21:08:37.759708Z",
     "iopub.status.idle": "2021-05-04T21:08:37.761499Z",
     "shell.execute_reply": "2021-05-04T21:08:37.761882Z"
    }
   },
   "outputs": [
    {
     "name": "stdout",
     "output_type": "stream",
     "text": [
      "[1, 1.0, 'Hola']\n"
     ]
    }
   ],
   "source": [
    "lista = [entero, flotante, string]\n",
    "print(lista)"
   ]
  },
  {
   "cell_type": "code",
   "execution_count": 10,
   "id": "34fb9405",
   "metadata": {
    "execution": {
     "iopub.execute_input": "2021-05-04T21:08:37.765786Z",
     "iopub.status.busy": "2021-05-04T21:08:37.765297Z",
     "iopub.status.idle": "2021-05-04T21:08:37.766902Z",
     "shell.execute_reply": "2021-05-04T21:08:37.767279Z"
    }
   },
   "outputs": [
    {
     "name": "stdout",
     "output_type": "stream",
     "text": [
      "{'1': (1, 1.0), 50: (1, 1.0, 'Hola'), '3': 1}\n"
     ]
    }
   ],
   "source": [
    "diccionario = {'1': tupla, 50: nupla, '3': entero}\n",
    "print(diccionario)"
   ]
  },
  {
   "cell_type": "code",
   "execution_count": 11,
   "id": "f3f6ec2f",
   "metadata": {
    "execution": {
     "iopub.execute_input": "2021-05-04T21:08:37.770616Z",
     "iopub.status.busy": "2021-05-04T21:08:37.770147Z",
     "iopub.status.idle": "2021-05-04T21:08:37.772512Z",
     "shell.execute_reply": "2021-05-04T21:08:37.772102Z"
    }
   },
   "outputs": [
    {
     "name": "stdout",
     "output_type": "stream",
     "text": [
      "{1, 2}\n"
     ]
    }
   ],
   "source": [
    "conjunto = set([1, 2])\n",
    "print(conjunto)"
   ]
  },
  {
   "cell_type": "code",
   "execution_count": 12,
   "id": "02403385",
   "metadata": {
    "execution": {
     "iopub.execute_input": "2021-05-04T21:08:37.775622Z",
     "iopub.status.busy": "2021-05-04T21:08:37.775131Z",
     "iopub.status.idle": "2021-05-04T21:08:37.776892Z",
     "shell.execute_reply": "2021-05-04T21:08:37.777279Z"
    }
   },
   "outputs": [
    {
     "name": "stdout",
     "output_type": "stream",
     "text": [
      "True\n"
     ]
    }
   ],
   "source": [
    "booleano = True\n",
    "print(booleano)"
   ]
  },
  {
   "cell_type": "code",
   "execution_count": 13,
   "id": "abf98852",
   "metadata": {
    "execution": {
     "iopub.execute_input": "2021-05-04T21:08:37.780785Z",
     "iopub.status.busy": "2021-05-04T21:08:37.780298Z",
     "iopub.status.idle": "2021-05-04T21:08:37.781890Z",
     "shell.execute_reply": "2021-05-04T21:08:37.782268Z"
    }
   },
   "outputs": [
    {
     "name": "stdout",
     "output_type": "stream",
     "text": [
      "None\n"
     ]
    }
   ],
   "source": [
    "nada = None\n",
    "print(nada)"
   ]
  },
  {
   "cell_type": "markdown",
   "id": "64638dd4",
   "metadata": {},
   "source": [
    "Ojo que las variables pueden cambiar de tipo!"
   ]
  },
  {
   "cell_type": "code",
   "execution_count": 14,
   "id": "3fbf85ba",
   "metadata": {
    "execution": {
     "iopub.execute_input": "2021-05-04T21:08:37.785735Z",
     "iopub.status.busy": "2021-05-04T21:08:37.785266Z",
     "iopub.status.idle": "2021-05-04T21:08:37.787617Z",
     "shell.execute_reply": "2021-05-04T21:08:37.787179Z"
    }
   },
   "outputs": [
    {
     "name": "stdout",
     "output_type": "stream",
     "text": [
      "1\n",
      "<class 'int'>\n"
     ]
    }
   ],
   "source": [
    "elemento = 1\n",
    "print(elemento)\n",
    "print(type(elemento))"
   ]
  },
  {
   "cell_type": "code",
   "execution_count": 15,
   "id": "f5a1fe94",
   "metadata": {
    "execution": {
     "iopub.execute_input": "2021-05-04T21:08:37.790883Z",
     "iopub.status.busy": "2021-05-04T21:08:37.790419Z",
     "iopub.status.idle": "2021-05-04T21:08:37.792390Z",
     "shell.execute_reply": "2021-05-04T21:08:37.792773Z"
    }
   },
   "outputs": [
    {
     "name": "stdout",
     "output_type": "stream",
     "text": [
      "1\n",
      "<class 'str'>\n"
     ]
    }
   ],
   "source": [
    "elemento = str(1)\n",
    "print(elemento)\n",
    "print(type(elemento))"
   ]
  },
  {
   "cell_type": "code",
   "execution_count": 16,
   "id": "530127a1",
   "metadata": {
    "execution": {
     "iopub.execute_input": "2021-05-04T21:08:37.796289Z",
     "iopub.status.busy": "2021-05-04T21:08:37.795823Z",
     "iopub.status.idle": "2021-05-04T21:08:37.798132Z",
     "shell.execute_reply": "2021-05-04T21:08:37.797721Z"
    }
   },
   "outputs": [
    {
     "name": "stdout",
     "output_type": "stream",
     "text": [
      "[2]\n",
      "<class 'list'>\n"
     ]
    }
   ],
   "source": [
    "elemento = [2]\n",
    "\n",
    "print(elemento)\n",
    "print(type(elemento))"
   ]
  },
  {
   "cell_type": "markdown",
   "id": "92281ea6",
   "metadata": {},
   "source": [
    "### Tipos basicos"
   ]
  },
  {
   "cell_type": "markdown",
   "id": "ad6f57d4",
   "metadata": {
    "slideshow": {
     "slide_type": "slide"
    }
   },
   "source": [
    "#### Listas de Python"
   ]
  },
  {
   "cell_type": "code",
   "execution_count": 17,
   "id": "cf8dc0ae",
   "metadata": {
    "execution": {
     "iopub.execute_input": "2021-05-04T21:08:37.801536Z",
     "iopub.status.busy": "2021-05-04T21:08:37.801072Z",
     "iopub.status.idle": "2021-05-04T21:08:37.803770Z",
     "shell.execute_reply": "2021-05-04T21:08:37.803346Z"
    }
   },
   "outputs": [
    {
     "data": {
      "text/plain": [
       "[]"
      ]
     },
     "execution_count": 1,
     "metadata": {},
     "output_type": "execute_result"
    }
   ],
   "source": [
    "lista = list()\n",
    "lista"
   ]
  },
  {
   "cell_type": "code",
   "execution_count": 18,
   "id": "61ae39e3",
   "metadata": {
    "execution": {
     "iopub.execute_input": "2021-05-04T21:08:37.806815Z",
     "iopub.status.busy": "2021-05-04T21:08:37.806354Z",
     "iopub.status.idle": "2021-05-04T21:08:37.808668Z",
     "shell.execute_reply": "2021-05-04T21:08:37.809033Z"
    },
    "slideshow": {
     "slide_type": "slide"
    }
   },
   "outputs": [
    {
     "data": {
      "text/plain": [
       "[]"
      ]
     },
     "execution_count": 1,
     "metadata": {},
     "output_type": "execute_result"
    }
   ],
   "source": [
    "lista = []\n",
    "lista"
   ]
  },
  {
   "cell_type": "code",
   "execution_count": 19,
   "id": "35c78f32",
   "metadata": {
    "execution": {
     "iopub.execute_input": "2021-05-04T21:08:37.812322Z",
     "iopub.status.busy": "2021-05-04T21:08:37.811858Z",
     "iopub.status.idle": "2021-05-04T21:08:37.814540Z",
     "shell.execute_reply": "2021-05-04T21:08:37.814129Z"
    },
    "slideshow": {
     "slide_type": "slide"
    }
   },
   "outputs": [
    {
     "data": {
      "text/plain": [
       "[1, 2, 3, 4]"
      ]
     },
     "execution_count": 1,
     "metadata": {},
     "output_type": "execute_result"
    }
   ],
   "source": [
    "lista = [1, 2, 3, 4]\n",
    "lista"
   ]
  },
  {
   "cell_type": "code",
   "execution_count": 20,
   "id": "0dbaed92",
   "metadata": {
    "execution": {
     "iopub.execute_input": "2021-05-04T21:08:37.818168Z",
     "iopub.status.busy": "2021-05-04T21:08:37.817703Z",
     "iopub.status.idle": "2021-05-04T21:08:37.820418Z",
     "shell.execute_reply": "2021-05-04T21:08:37.820008Z"
    },
    "slideshow": {
     "slide_type": "slide"
    }
   },
   "outputs": [
    {
     "data": {
      "text/plain": [
       "[1, 2, 3, 4, 1, 'dos', 3.0]"
      ]
     },
     "execution_count": 1,
     "metadata": {},
     "output_type": "execute_result"
    }
   ],
   "source": [
    "lista.append(1)  # Inserto un 1 al final\n",
    "lista.append(\"dos\")  # Inserto un \"dos\" al final\n",
    "lista.append(3.0)  # Inserto un 3.0 al final\n",
    "lista"
   ]
  },
  {
   "cell_type": "code",
   "execution_count": 21,
   "id": "79eb8a8e",
   "metadata": {
    "execution": {
     "iopub.execute_input": "2021-05-04T21:08:37.823618Z",
     "iopub.status.busy": "2021-05-04T21:08:37.823115Z",
     "iopub.status.idle": "2021-05-04T21:08:37.824773Z",
     "shell.execute_reply": "2021-05-04T21:08:37.825226Z"
    }
   },
   "outputs": [
    {
     "name": "stdout",
     "output_type": "stream",
     "text": [
      "[1, 2, 10, 3, 4, 1, 'dos', 3.0]\n"
     ]
    }
   ],
   "source": [
    "lista.insert(2, 10)  # Inserto en posicion 2 un 10\n",
    "print(lista)"
   ]
  },
  {
   "cell_type": "code",
   "execution_count": 22,
   "id": "430f4933",
   "metadata": {
    "execution": {
     "iopub.execute_input": "2021-05-04T21:08:37.828359Z",
     "iopub.status.busy": "2021-05-04T21:08:37.827893Z",
     "iopub.status.idle": "2021-05-04T21:08:37.830607Z",
     "shell.execute_reply": "2021-05-04T21:08:37.830195Z"
    }
   },
   "outputs": [
    {
     "data": {
      "text/plain": [
       "8"
      ]
     },
     "execution_count": 1,
     "metadata": {},
     "output_type": "execute_result"
    }
   ],
   "source": [
    "len(lista)"
   ]
  },
  {
   "cell_type": "code",
   "execution_count": 23,
   "id": "4e87a65e",
   "metadata": {
    "execution": {
     "iopub.execute_input": "2021-05-04T21:08:37.833727Z",
     "iopub.status.busy": "2021-05-04T21:08:37.833250Z",
     "iopub.status.idle": "2021-05-04T21:08:37.835980Z",
     "shell.execute_reply": "2021-05-04T21:08:37.835568Z"
    }
   },
   "outputs": [
    {
     "data": {
      "text/plain": [
       "3.0"
      ]
     },
     "execution_count": 1,
     "metadata": {},
     "output_type": "execute_result"
    }
   ],
   "source": [
    "lista.pop()"
   ]
  },
  {
   "cell_type": "code",
   "execution_count": 24,
   "id": "51bfe5f4",
   "metadata": {
    "execution": {
     "iopub.execute_input": "2021-05-04T21:08:37.839126Z",
     "iopub.status.busy": "2021-05-04T21:08:37.838664Z",
     "iopub.status.idle": "2021-05-04T21:08:37.840768Z",
     "shell.execute_reply": "2021-05-04T21:08:37.841150Z"
    }
   },
   "outputs": [
    {
     "data": {
      "text/plain": [
       "[1, 2, 10, 3, 4, 1, 'dos']"
      ]
     },
     "execution_count": 1,
     "metadata": {},
     "output_type": "execute_result"
    }
   ],
   "source": [
    "lista"
   ]
  },
  {
   "cell_type": "code",
   "execution_count": 25,
   "id": "835cc49e",
   "metadata": {
    "execution": {
     "iopub.execute_input": "2021-05-04T21:08:37.844279Z",
     "iopub.status.busy": "2021-05-04T21:08:37.843814Z",
     "iopub.status.idle": "2021-05-04T21:08:37.846496Z",
     "shell.execute_reply": "2021-05-04T21:08:37.846077Z"
    }
   },
   "outputs": [
    {
     "data": {
      "text/plain": [
       "2"
      ]
     },
     "execution_count": 1,
     "metadata": {},
     "output_type": "execute_result"
    }
   ],
   "source": [
    "lista.index(10)"
   ]
  },
  {
   "cell_type": "code",
   "execution_count": 26,
   "id": "5b07f214",
   "metadata": {
    "execution": {
     "iopub.execute_input": "2021-05-04T21:08:37.849693Z",
     "iopub.status.busy": "2021-05-04T21:08:37.849227Z",
     "iopub.status.idle": "2021-05-04T21:08:37.851948Z",
     "shell.execute_reply": "2021-05-04T21:08:37.851529Z"
    }
   },
   "outputs": [
    {
     "data": {
      "text/plain": [
       "[1, 2, 3, 4, 1, 'dos']"
      ]
     },
     "execution_count": 1,
     "metadata": {},
     "output_type": "execute_result"
    }
   ],
   "source": [
    "lista.remove(10)\n",
    "lista"
   ]
  },
  {
   "cell_type": "code",
   "execution_count": 27,
   "id": "200663a1",
   "metadata": {
    "execution": {
     "iopub.execute_input": "2021-05-04T21:08:37.855087Z",
     "iopub.status.busy": "2021-05-04T21:08:37.854609Z",
     "iopub.status.idle": "2021-05-04T21:08:37.908895Z",
     "shell.execute_reply": "2021-05-04T21:08:37.909375Z"
    },
    "tags": [
     "raises-exception"
    ]
   },
   "outputs": [
    {
     "name": "stdout",
     "output_type": "stream",
     "text": [
      "1\n",
      "2\n",
      "2\n",
      "3\n",
      "3\n",
      "4\n",
      "4\n",
      "5\n",
      "1\n",
      "2\n",
      "dos\n"
     ]
    },
    {
     "ename": "TypeError",
     "evalue": "can only concatenate str (not \"int\") to str",
     "output_type": "error",
     "traceback": [
      "\u001b[0;31m---------------------------------------------------------------------------\u001b[0m",
      "\u001b[0;31mTypeError\u001b[0m                                 Traceback (most recent call last)",
      "\u001b[0;32m<ipython-input-1-41b56d5cf080>\u001b[0m in \u001b[0;36m<module>\u001b[0;34m\u001b[0m\n\u001b[1;32m      1\u001b[0m \u001b[0;32mfor\u001b[0m \u001b[0melemento\u001b[0m \u001b[0;32min\u001b[0m \u001b[0mlista\u001b[0m\u001b[0;34m:\u001b[0m\u001b[0;34m\u001b[0m\u001b[0;34m\u001b[0m\u001b[0m\n\u001b[1;32m      2\u001b[0m     \u001b[0mprint\u001b[0m\u001b[0;34m(\u001b[0m\u001b[0melemento\u001b[0m\u001b[0;34m)\u001b[0m\u001b[0;34m\u001b[0m\u001b[0;34m\u001b[0m\u001b[0m\n\u001b[0;32m----> 3\u001b[0;31m     \u001b[0mprint\u001b[0m\u001b[0;34m(\u001b[0m\u001b[0melemento\u001b[0m \u001b[0;34m+\u001b[0m \u001b[0;36m1\u001b[0m\u001b[0;34m)\u001b[0m\u001b[0;34m\u001b[0m\u001b[0;34m\u001b[0m\u001b[0m\n\u001b[0m",
      "\u001b[0;31mTypeError\u001b[0m: can only concatenate str (not \"int\") to str"
     ]
    }
   ],
   "source": [
    "for elemento in lista:\n",
    "    print(elemento)\n",
    "    print(elemento + 1)"
   ]
  },
  {
   "cell_type": "code",
   "execution_count": 28,
   "id": "99d12607",
   "metadata": {
    "execution": {
     "iopub.execute_input": "2021-05-04T21:08:37.914343Z",
     "iopub.status.busy": "2021-05-04T21:08:37.913423Z",
     "iopub.status.idle": "2021-05-04T21:08:37.916386Z",
     "shell.execute_reply": "2021-05-04T21:08:37.915964Z"
    }
   },
   "outputs": [
    {
     "data": {
      "text/plain": [
       "[1, 2, 3, 4, 1, 'dos']"
      ]
     },
     "execution_count": 1,
     "metadata": {},
     "output_type": "execute_result"
    }
   ],
   "source": [
    "lista"
   ]
  },
  {
   "cell_type": "code",
   "execution_count": 29,
   "id": "5a8d8134",
   "metadata": {
    "execution": {
     "iopub.execute_input": "2021-05-04T21:08:37.921278Z",
     "iopub.status.busy": "2021-05-04T21:08:37.920314Z",
     "iopub.status.idle": "2021-05-04T21:08:37.922976Z",
     "shell.execute_reply": "2021-05-04T21:08:37.922563Z"
    }
   },
   "outputs": [
    {
     "name": "stdout",
     "output_type": "stream",
     "text": [
      "0-ésimo elemento: 1\n",
      "1-ésimo elemento: 2\n",
      "2-ésimo elemento: 3\n",
      "3-ésimo elemento: 4\n",
      "4-ésimo elemento: 1\n",
      "5-ésimo elemento: dos\n"
     ]
    }
   ],
   "source": [
    "for i, elemento in enumerate(lista):\n",
    "    print(f\"{i}-ésimo elemento: {elemento}\")"
   ]
  },
  {
   "cell_type": "code",
   "execution_count": 30,
   "id": "e8ccd0c0",
   "metadata": {
    "execution": {
     "iopub.execute_input": "2021-05-04T21:08:37.928851Z",
     "iopub.status.busy": "2021-05-04T21:08:37.928364Z",
     "iopub.status.idle": "2021-05-04T21:08:37.930708Z",
     "shell.execute_reply": "2021-05-04T21:08:37.931126Z"
    },
    "tags": [
     "raises-exception"
    ]
   },
   "outputs": [
    {
     "ename": "TypeError",
     "evalue": "'<' not supported between instances of 'str' and 'int'",
     "output_type": "error",
     "traceback": [
      "\u001b[0;31m---------------------------------------------------------------------------\u001b[0m",
      "\u001b[0;31mTypeError\u001b[0m                                 Traceback (most recent call last)",
      "\u001b[0;32m<ipython-input-1-06c3f264dc7a>\u001b[0m in \u001b[0;36m<module>\u001b[0;34m\u001b[0m\n\u001b[0;32m----> 1\u001b[0;31m \u001b[0msorted\u001b[0m\u001b[0;34m(\u001b[0m\u001b[0mlista\u001b[0m\u001b[0;34m)\u001b[0m\u001b[0;34m\u001b[0m\u001b[0;34m\u001b[0m\u001b[0m\n\u001b[0m",
      "\u001b[0;31mTypeError\u001b[0m: '<' not supported between instances of 'str' and 'int'"
     ]
    }
   ],
   "source": [
    "sorted(lista)"
   ]
  },
  {
   "cell_type": "code",
   "execution_count": 31,
   "id": "56c5e73a",
   "metadata": {
    "execution": {
     "iopub.execute_input": "2021-05-04T21:08:37.934968Z",
     "iopub.status.busy": "2021-05-04T21:08:37.933887Z",
     "iopub.status.idle": "2021-05-04T21:08:37.935612Z",
     "shell.execute_reply": "2021-05-04T21:08:37.935995Z"
    }
   },
   "outputs": [],
   "source": [
    "lista.remove(\"dos\")"
   ]
  },
  {
   "cell_type": "code",
   "execution_count": 32,
   "id": "c239167b",
   "metadata": {
    "execution": {
     "iopub.execute_input": "2021-05-04T21:08:37.939934Z",
     "iopub.status.busy": "2021-05-04T21:08:37.939446Z",
     "iopub.status.idle": "2021-05-04T21:08:37.941839Z",
     "shell.execute_reply": "2021-05-04T21:08:37.942221Z"
    }
   },
   "outputs": [
    {
     "data": {
      "text/plain": [
       "[1, 1, 2, 3, 4]"
      ]
     },
     "execution_count": 1,
     "metadata": {},
     "output_type": "execute_result"
    }
   ],
   "source": [
    "sorted(lista)"
   ]
  },
  {
   "cell_type": "code",
   "execution_count": 33,
   "id": "ea5c637d",
   "metadata": {
    "execution": {
     "iopub.execute_input": "2021-05-04T21:08:37.946143Z",
     "iopub.status.busy": "2021-05-04T21:08:37.945659Z",
     "iopub.status.idle": "2021-05-04T21:08:37.948015Z",
     "shell.execute_reply": "2021-05-04T21:08:37.948400Z"
    }
   },
   "outputs": [
    {
     "data": {
      "text/plain": [
       "[1, 1, 2, 3, 4]"
      ]
     },
     "execution_count": 1,
     "metadata": {},
     "output_type": "execute_result"
    }
   ],
   "source": [
    "lista.sort()\n",
    "lista"
   ]
  },
  {
   "cell_type": "markdown",
   "id": "00bf5c2a",
   "metadata": {
    "slideshow": {
     "slide_type": "slide"
    }
   },
   "source": [
    "#### Tuplas de Python\n",
    "\n",
    "Las tuplas son inmutables. No se pueden agregar elementos luego de creadas."
   ]
  },
  {
   "cell_type": "code",
   "execution_count": 34,
   "id": "9b830056",
   "metadata": {
    "execution": {
     "iopub.execute_input": "2021-05-04T21:08:37.952159Z",
     "iopub.status.busy": "2021-05-04T21:08:37.951659Z",
     "iopub.status.idle": "2021-05-04T21:08:37.957189Z",
     "shell.execute_reply": "2021-05-04T21:08:37.957596Z"
    },
    "slideshow": {
     "slide_type": "slide"
    },
    "tags": [
     "raises-exception"
    ]
   },
   "outputs": [
    {
     "name": "stdout",
     "output_type": "stream",
     "text": [
      "(1, 2)\n",
      "1\n",
      "2\n"
     ]
    },
    {
     "ename": "TypeError",
     "evalue": "'tuple' object does not support item assignment",
     "output_type": "error",
     "traceback": [
      "\u001b[0;31m---------------------------------------------------------------------------\u001b[0m",
      "\u001b[0;31mTypeError\u001b[0m                                 Traceback (most recent call last)",
      "\u001b[0;32m<ipython-input-1-80ca8b547dd6>\u001b[0m in \u001b[0;36m<module>\u001b[0;34m\u001b[0m\n\u001b[1;32m      5\u001b[0m \u001b[0mprint\u001b[0m\u001b[0;34m(\u001b[0m\u001b[0mtupla\u001b[0m\u001b[0;34m[\u001b[0m\u001b[0;36m1\u001b[0m\u001b[0;34m]\u001b[0m\u001b[0;34m)\u001b[0m\u001b[0;34m\u001b[0m\u001b[0;34m\u001b[0m\u001b[0m\n\u001b[1;32m      6\u001b[0m \u001b[0;34m\u001b[0m\u001b[0m\n\u001b[0;32m----> 7\u001b[0;31m \u001b[0mtupla\u001b[0m\u001b[0;34m[\u001b[0m\u001b[0;36m1\u001b[0m\u001b[0;34m]\u001b[0m \u001b[0;34m=\u001b[0m \u001b[0;36m3\u001b[0m  \u001b[0;31m# Falla. No se puede mutar\u001b[0m\u001b[0;34m\u001b[0m\u001b[0;34m\u001b[0m\u001b[0m\n\u001b[0m",
      "\u001b[0;31mTypeError\u001b[0m: 'tuple' object does not support item assignment"
     ]
    }
   ],
   "source": [
    "tupla = (1, 2)\n",
    "\n",
    "print(tupla)\n",
    "print(tupla[0])\n",
    "print(tupla[1])\n",
    "\n",
    "tupla[1] = 3  # Falla. No se puede mutar"
   ]
  },
  {
   "cell_type": "code",
   "execution_count": 35,
   "id": "29034419",
   "metadata": {
    "execution": {
     "iopub.execute_input": "2021-05-04T21:08:37.961443Z",
     "iopub.status.busy": "2021-05-04T21:08:37.960941Z",
     "iopub.status.idle": "2021-05-04T21:08:37.963321Z",
     "shell.execute_reply": "2021-05-04T21:08:37.963715Z"
    }
   },
   "outputs": [
    {
     "data": {
      "text/plain": [
       "[1, 2]"
      ]
     },
     "execution_count": 1,
     "metadata": {},
     "output_type": "execute_result"
    }
   ],
   "source": [
    "l = [1, 2]\n",
    "l"
   ]
  },
  {
   "cell_type": "code",
   "execution_count": 36,
   "id": "174a718d",
   "metadata": {
    "execution": {
     "iopub.execute_input": "2021-05-04T21:08:37.967078Z",
     "iopub.status.busy": "2021-05-04T21:08:37.965363Z",
     "iopub.status.idle": "2021-05-04T21:08:37.968881Z",
     "shell.execute_reply": "2021-05-04T21:08:37.969289Z"
    }
   },
   "outputs": [
    {
     "data": {
      "text/plain": [
       "[1, 3]"
      ]
     },
     "execution_count": 1,
     "metadata": {},
     "output_type": "execute_result"
    }
   ],
   "source": [
    "l[1] = 3\n",
    "l"
   ]
  },
  {
   "cell_type": "markdown",
   "id": "15783f34",
   "metadata": {
    "slideshow": {
     "slide_type": "slide"
    }
   },
   "source": [
    "#### Diferencia entre lista y tupla\n",
    "Las listas se caracterizan por ser mutables, es decir, se puede cambiar su contenido en tiempo de ejecución, mientras que las tuplas son inmutables ya que no es posible modificar el contenido una vez creada."
   ]
  },
  {
   "cell_type": "markdown",
   "id": "01a07bb2",
   "metadata": {},
   "source": [
    "#### Slices\n",
    "\n",
    "**Valen para listas, tuplas o strings (_segmentos_)**"
   ]
  },
  {
   "cell_type": "code",
   "execution_count": 37,
   "id": "f5c665b2",
   "metadata": {
    "execution": {
     "iopub.execute_input": "2021-05-04T21:08:37.973271Z",
     "iopub.status.busy": "2021-05-04T21:08:37.972303Z",
     "iopub.status.idle": "2021-05-04T21:08:37.973988Z",
     "shell.execute_reply": "2021-05-04T21:08:37.974353Z"
    }
   },
   "outputs": [],
   "source": [
    "numeros = [0, 1, 2, 3, 4, 5, 6, 7, 8, 9, 10]"
   ]
  },
  {
   "cell_type": "code",
   "execution_count": 38,
   "id": "3caffc7d",
   "metadata": {
    "execution": {
     "iopub.execute_input": "2021-05-04T21:08:37.978352Z",
     "iopub.status.busy": "2021-05-04T21:08:37.977406Z",
     "iopub.status.idle": "2021-05-04T21:08:37.980043Z",
     "shell.execute_reply": "2021-05-04T21:08:37.979621Z"
    }
   },
   "outputs": [
    {
     "name": "stdout",
     "output_type": "stream",
     "text": [
      "[0, 1, 2, 3, 4, 5, 6, 7, 8, 9, 10]\n"
     ]
    }
   ],
   "source": [
    "print(numeros)"
   ]
  },
  {
   "cell_type": "code",
   "execution_count": 39,
   "id": "254e070c",
   "metadata": {
    "execution": {
     "iopub.execute_input": "2021-05-04T21:08:37.984209Z",
     "iopub.status.busy": "2021-05-04T21:08:37.983118Z",
     "iopub.status.idle": "2021-05-04T21:08:37.985802Z",
     "shell.execute_reply": "2021-05-04T21:08:37.985380Z"
    }
   },
   "outputs": [
    {
     "name": "stdout",
     "output_type": "stream",
     "text": [
      "2\n"
     ]
    }
   ],
   "source": [
    "print(numeros[2])  # Imprimo elemento en la posición 2"
   ]
  },
  {
   "cell_type": "code",
   "execution_count": 40,
   "id": "2f6a13f1",
   "metadata": {
    "execution": {
     "iopub.execute_input": "2021-05-04T21:08:37.989683Z",
     "iopub.status.busy": "2021-05-04T21:08:37.989199Z",
     "iopub.status.idle": "2021-05-04T21:08:37.991530Z",
     "shell.execute_reply": "2021-05-04T21:08:37.991916Z"
    }
   },
   "outputs": [
    {
     "data": {
      "text/plain": [
       "10"
      ]
     },
     "execution_count": 1,
     "metadata": {},
     "output_type": "execute_result"
    }
   ],
   "source": [
    "numeros[len(numeros) - 1]"
   ]
  },
  {
   "cell_type": "code",
   "execution_count": 41,
   "id": "04eb7af1",
   "metadata": {
    "execution": {
     "iopub.execute_input": "2021-05-04T21:08:37.996222Z",
     "iopub.status.busy": "2021-05-04T21:08:37.995166Z",
     "iopub.status.idle": "2021-05-04T21:08:37.997885Z",
     "shell.execute_reply": "2021-05-04T21:08:37.997478Z"
    },
    "lines_to_next_cell": 2
   },
   "outputs": [
    {
     "name": "stdout",
     "output_type": "stream",
     "text": [
      "10\n"
     ]
    }
   ],
   "source": [
    "print(numeros[-1])  # # Imprimo elemento en la última posición"
   ]
  },
  {
   "cell_type": "code",
   "execution_count": 42,
   "id": "820d2295",
   "metadata": {
    "execution": {
     "iopub.execute_input": "2021-05-04T21:08:38.002107Z",
     "iopub.status.busy": "2021-05-04T21:08:38.001619Z",
     "iopub.status.idle": "2021-05-04T21:08:38.004642Z",
     "shell.execute_reply": "2021-05-04T21:08:38.005027Z"
    },
    "lines_to_next_cell": 2
   },
   "outputs": [
    {
     "data": {
      "text/plain": [
       "9"
      ]
     },
     "execution_count": 1,
     "metadata": {},
     "output_type": "execute_result"
    }
   ],
   "source": [
    "numeros[-2]"
   ]
  },
  {
   "cell_type": "code",
   "execution_count": 43,
   "id": "05b4562b",
   "metadata": {
    "execution": {
     "iopub.execute_input": "2021-05-04T21:08:38.009085Z",
     "iopub.status.busy": "2021-05-04T21:08:38.008227Z",
     "iopub.status.idle": "2021-05-04T21:08:38.010864Z",
     "shell.execute_reply": "2021-05-04T21:08:38.010471Z"
    }
   },
   "outputs": [
    {
     "name": "stdout",
     "output_type": "stream",
     "text": [
      "[0, 1, 2]\n"
     ]
    }
   ],
   "source": [
    "print(numeros[0:3])  # Imprimo de la pos 0 a la pos 2"
   ]
  },
  {
   "cell_type": "code",
   "execution_count": 44,
   "id": "b9c700eb",
   "metadata": {
    "execution": {
     "iopub.execute_input": "2021-05-04T21:08:38.015014Z",
     "iopub.status.busy": "2021-05-04T21:08:38.013988Z",
     "iopub.status.idle": "2021-05-04T21:08:38.016598Z",
     "shell.execute_reply": "2021-05-04T21:08:38.016188Z"
    }
   },
   "outputs": [
    {
     "name": "stdout",
     "output_type": "stream",
     "text": [
      "[7, 8]\n"
     ]
    }
   ],
   "source": [
    "print(numeros[-4:-2])"
   ]
  },
  {
   "cell_type": "code",
   "execution_count": 45,
   "id": "0752ba93",
   "metadata": {
    "execution": {
     "iopub.execute_input": "2021-05-04T21:08:38.020734Z",
     "iopub.status.busy": "2021-05-04T21:08:38.019708Z",
     "iopub.status.idle": "2021-05-04T21:08:38.022290Z",
     "shell.execute_reply": "2021-05-04T21:08:38.021876Z"
    }
   },
   "outputs": [
    {
     "name": "stdout",
     "output_type": "stream",
     "text": [
      "[0, 1, 2, 3, 4, 5, 6, 7, 8, 9, 10]\n"
     ]
    }
   ],
   "source": [
    "print(numeros[0:80])"
   ]
  },
  {
   "cell_type": "code",
   "execution_count": 46,
   "id": "fc25d267",
   "metadata": {
    "execution": {
     "iopub.execute_input": "2021-05-04T21:08:38.026406Z",
     "iopub.status.busy": "2021-05-04T21:08:38.025458Z",
     "iopub.status.idle": "2021-05-04T21:08:38.028074Z",
     "shell.execute_reply": "2021-05-04T21:08:38.027662Z"
    }
   },
   "outputs": [
    {
     "name": "stdout",
     "output_type": "stream",
     "text": [
      "[0, 1, 2]\n"
     ]
    }
   ],
   "source": [
    "print(numeros[:3])"
   ]
  },
  {
   "cell_type": "code",
   "execution_count": 47,
   "id": "5b2e4a71",
   "metadata": {
    "execution": {
     "iopub.execute_input": "2021-05-04T21:08:38.032131Z",
     "iopub.status.busy": "2021-05-04T21:08:38.031112Z",
     "iopub.status.idle": "2021-05-04T21:08:38.033748Z",
     "shell.execute_reply": "2021-05-04T21:08:38.033336Z"
    }
   },
   "outputs": [
    {
     "name": "stdout",
     "output_type": "stream",
     "text": [
      "[3, 4, 5, 6, 7, 8, 9, 10]\n"
     ]
    }
   ],
   "source": [
    "print(numeros[3:])"
   ]
  },
  {
   "cell_type": "code",
   "execution_count": 48,
   "id": "9ee775a8",
   "metadata": {
    "execution": {
     "iopub.execute_input": "2021-05-04T21:08:38.037829Z",
     "iopub.status.busy": "2021-05-04T21:08:38.036876Z",
     "iopub.status.idle": "2021-05-04T21:08:38.039526Z",
     "shell.execute_reply": "2021-05-04T21:08:38.039089Z"
    }
   },
   "outputs": [
    {
     "name": "stdout",
     "output_type": "stream",
     "text": [
      "[0, 2, 4, 6, 8]\n"
     ]
    }
   ],
   "source": [
    "print(numeros[0:10:2])"
   ]
  },
  {
   "cell_type": "markdown",
   "id": "ecb91f56",
   "metadata": {},
   "source": [
    "```python\n",
    "lista[<inicio>:<final>:<step>]\n",
    "```"
   ]
  },
  {
   "cell_type": "code",
   "execution_count": 49,
   "id": "f2553518",
   "metadata": {
    "execution": {
     "iopub.execute_input": "2021-05-04T21:08:38.043713Z",
     "iopub.status.busy": "2021-05-04T21:08:38.043200Z",
     "iopub.status.idle": "2021-05-04T21:08:38.045531Z",
     "shell.execute_reply": "2021-05-04T21:08:38.045909Z"
    },
    "lines_to_next_cell": 2
   },
   "outputs": [
    {
     "data": {
      "text/plain": [
       "[1, 2, 3, 4]"
      ]
     },
     "execution_count": 1,
     "metadata": {},
     "output_type": "execute_result"
    }
   ],
   "source": [
    "l1 = [1, 2]\n",
    "l2 = [3, 4]\n",
    "l1 + l2"
   ]
  },
  {
   "cell_type": "code",
   "execution_count": 50,
   "id": "235dbf22",
   "metadata": {
    "execution": {
     "iopub.execute_input": "2021-05-04T21:08:38.050143Z",
     "iopub.status.busy": "2021-05-04T21:08:38.049101Z",
     "iopub.status.idle": "2021-05-04T21:08:38.051726Z",
     "shell.execute_reply": "2021-05-04T21:08:38.051284Z"
    }
   },
   "outputs": [
    {
     "name": "stdout",
     "output_type": "stream",
     "text": [
      "[0, 1, 2, 3, 4, 5, 6, 'siete', 8, 9, 10]\n"
     ]
    }
   ],
   "source": [
    "numeros[7] = 'siete'  # Las listas se pueden mutar\n",
    "print(numeros)"
   ]
  },
  {
   "cell_type": "code",
   "execution_count": 51,
   "id": "7302936c",
   "metadata": {
    "execution": {
     "iopub.execute_input": "2021-05-04T21:08:38.055811Z",
     "iopub.status.busy": "2021-05-04T21:08:38.054820Z",
     "iopub.status.idle": "2021-05-04T21:08:38.057422Z",
     "shell.execute_reply": "2021-05-04T21:08:38.057029Z"
    }
   },
   "outputs": [
    {
     "name": "stdout",
     "output_type": "stream",
     "text": [
      "[10, 9, 8, 'siete', 6, 5, 4, 3, 2, 1, 0]\n"
     ]
    }
   ],
   "source": [
    "numeros = numeros[::-1]\n",
    "print(numeros)"
   ]
  },
  {
   "cell_type": "code",
   "execution_count": 52,
   "id": "e776e6fa",
   "metadata": {
    "execution": {
     "iopub.execute_input": "2021-05-04T21:08:38.061490Z",
     "iopub.status.busy": "2021-05-04T21:08:38.059915Z",
     "iopub.status.idle": "2021-05-04T21:08:38.065372Z",
     "shell.execute_reply": "2021-05-04T21:08:38.064958Z"
    },
    "tags": [
     "raises-exception"
    ]
   },
   "outputs": [
    {
     "ename": "IndexError",
     "evalue": "list index out of range",
     "output_type": "error",
     "traceback": [
      "\u001b[0;31m---------------------------------------------------------------------------\u001b[0m",
      "\u001b[0;31mIndexError\u001b[0m                                Traceback (most recent call last)",
      "\u001b[0;32m<ipython-input-1-0ef91dd29a9b>\u001b[0m in \u001b[0;36m<module>\u001b[0;34m\u001b[0m\n\u001b[0;32m----> 1\u001b[0;31m \u001b[0mprint\u001b[0m\u001b[0;34m(\u001b[0m\u001b[0mnumeros\u001b[0m\u001b[0;34m[\u001b[0m\u001b[0;36m15\u001b[0m\u001b[0;34m]\u001b[0m\u001b[0;34m)\u001b[0m  \u001b[0;31m# Falla. No se puede acceder a una posición inexistente\u001b[0m\u001b[0;34m\u001b[0m\u001b[0;34m\u001b[0m\u001b[0m\n\u001b[0m",
      "\u001b[0;31mIndexError\u001b[0m: list index out of range"
     ]
    }
   ],
   "source": [
    "print(numeros[15])  # Falla. No se puede acceder a una posición inexistente"
   ]
  },
  {
   "cell_type": "code",
   "execution_count": 53,
   "id": "65d007b1",
   "metadata": {
    "execution": {
     "iopub.execute_input": "2021-05-04T21:08:38.070097Z",
     "iopub.status.busy": "2021-05-04T21:08:38.069151Z",
     "iopub.status.idle": "2021-05-04T21:08:38.071790Z",
     "shell.execute_reply": "2021-05-04T21:08:38.071378Z"
    }
   },
   "outputs": [
    {
     "name": "stdout",
     "output_type": "stream",
     "text": [
      "palabra\n",
      "a\n",
      "pal\n",
      "abra\n"
     ]
    }
   ],
   "source": [
    "palabra = 'palabra'\n",
    "print(palabra)\n",
    "print(palabra[3])\n",
    "print(palabra[:3])\n",
    "print(palabra[3:])"
   ]
  },
  {
   "cell_type": "code",
   "execution_count": 54,
   "id": "e5101b58",
   "metadata": {
    "execution": {
     "iopub.execute_input": "2021-05-04T21:08:38.076489Z",
     "iopub.status.busy": "2021-05-04T21:08:38.075453Z",
     "iopub.status.idle": "2021-05-04T21:08:38.078059Z",
     "shell.execute_reply": "2021-05-04T21:08:38.077650Z"
    }
   },
   "outputs": [
    {
     "name": "stdout",
     "output_type": "stream",
     "text": [
      "(0, 1, 2, 3, 4)\n",
      "(0, 1)\n",
      "(2, 3, 4)\n"
     ]
    }
   ],
   "source": [
    "tupla = (0, 1, 2, 3, 4)\n",
    "\n",
    "print(tupla)\n",
    "print(tupla[:2])\n",
    "print(tupla[2:])"
   ]
  },
  {
   "cell_type": "markdown",
   "id": "bca2f897",
   "metadata": {
    "slideshow": {
     "slide_type": "slide"
    }
   },
   "source": [
    "#### Diccionarios de Python\n",
    "\n",
    "Son como hashmaps, las claves deben ser inmutables para que no pierda sentido el diccionario. Si se pudieran modificar, se podrían cambiar las claves y generaría conflictos.\n",
    "\n",
    "Tipos mutables:\n",
    "- Listas\n",
    "- Diccionarios\n",
    "- Sets\n",
    "\n",
    "Tipos inmutables:\n",
    "- Int\n",
    "- Float\n",
    "- String\n",
    "- Tuplas\n"
   ]
  },
  {
   "cell_type": "code",
   "execution_count": 55,
   "id": "6873fb57",
   "metadata": {
    "execution": {
     "iopub.execute_input": "2021-05-04T21:08:38.081810Z",
     "iopub.status.busy": "2021-05-04T21:08:38.081326Z",
     "iopub.status.idle": "2021-05-04T21:08:38.083669Z",
     "shell.execute_reply": "2021-05-04T21:08:38.084049Z"
    },
    "slideshow": {
     "slide_type": "slide"
    }
   },
   "outputs": [
    {
     "data": {
      "text/plain": [
       "{}"
      ]
     },
     "execution_count": 1,
     "metadata": {},
     "output_type": "execute_result"
    }
   ],
   "source": [
    "diccionario = {}\n",
    "diccionario"
   ]
  },
  {
   "cell_type": "code",
   "execution_count": 56,
   "id": "80c1ecbb",
   "metadata": {
    "execution": {
     "iopub.execute_input": "2021-05-04T21:08:38.087763Z",
     "iopub.status.busy": "2021-05-04T21:08:38.087254Z",
     "iopub.status.idle": "2021-05-04T21:08:38.089588Z",
     "shell.execute_reply": "2021-05-04T21:08:38.089972Z"
    }
   },
   "outputs": [
    {
     "data": {
      "text/plain": [
       "{}"
      ]
     },
     "execution_count": 1,
     "metadata": {},
     "output_type": "execute_result"
    }
   ],
   "source": [
    "diccionario = dict()\n",
    "diccionario"
   ]
  },
  {
   "cell_type": "code",
   "execution_count": 57,
   "id": "eb44f0f0",
   "metadata": {
    "execution": {
     "iopub.execute_input": "2021-05-04T21:08:38.094279Z",
     "iopub.status.busy": "2021-05-04T21:08:38.093332Z",
     "iopub.status.idle": "2021-05-04T21:08:38.096006Z",
     "shell.execute_reply": "2021-05-04T21:08:38.095589Z"
    },
    "slideshow": {
     "slide_type": "slide"
    }
   },
   "outputs": [
    {
     "name": "stdout",
     "output_type": "stream",
     "text": [
      "{'clave1': 'valor1', 2: 'valor2', 'clave3': 3}\n"
     ]
    }
   ],
   "source": [
    "# Cómo agregar cosas al diccionario\n",
    "diccionario['clave1'] = 'valor1'\n",
    "diccionario[2] = 'valor2'\n",
    "diccionario['clave3'] = 3\n",
    "print(diccionario)"
   ]
  },
  {
   "cell_type": "markdown",
   "id": "a7442694",
   "metadata": {},
   "source": [
    "Hay dos formas de obtener valores de un diccionario:\n",
    "\n",
    "```python\n",
    "diccionario[clave]\n",
    "```\n",
    "\n",
    "El cual devuelve el valor si existe la clave suministrada o bien lanza `KeyError` si no existe."
   ]
  },
  {
   "cell_type": "code",
   "execution_count": 58,
   "id": "485b062f",
   "metadata": {
    "execution": {
     "iopub.execute_input": "2021-05-04T21:08:38.099847Z",
     "iopub.status.busy": "2021-05-04T21:08:38.099360Z",
     "iopub.status.idle": "2021-05-04T21:08:38.101691Z",
     "shell.execute_reply": "2021-05-04T21:08:38.102074Z"
    }
   },
   "outputs": [
    {
     "data": {
      "text/plain": [
       "'valor1'"
      ]
     },
     "execution_count": 1,
     "metadata": {},
     "output_type": "execute_result"
    }
   ],
   "source": [
    "diccionario['clave1']"
   ]
  },
  {
   "cell_type": "code",
   "execution_count": 59,
   "id": "94657ce6",
   "metadata": {
    "execution": {
     "iopub.execute_input": "2021-05-04T21:08:38.106075Z",
     "iopub.status.busy": "2021-05-04T21:08:38.104541Z",
     "iopub.status.idle": "2021-05-04T21:08:38.109915Z",
     "shell.execute_reply": "2021-05-04T21:08:38.109488Z"
    },
    "tags": [
     "raises-exception"
    ]
   },
   "outputs": [
    {
     "ename": "KeyError",
     "evalue": "'clave1000'",
     "output_type": "error",
     "traceback": [
      "\u001b[0;31m---------------------------------------------------------------------------\u001b[0m",
      "\u001b[0;31mKeyError\u001b[0m                                  Traceback (most recent call last)",
      "\u001b[0;32m<ipython-input-1-41aae9a2e5ed>\u001b[0m in \u001b[0;36m<module>\u001b[0;34m\u001b[0m\n\u001b[0;32m----> 1\u001b[0;31m \u001b[0mdiccionario\u001b[0m\u001b[0;34m[\u001b[0m\u001b[0;34m'clave1000'\u001b[0m\u001b[0;34m]\u001b[0m\u001b[0;34m\u001b[0m\u001b[0;34m\u001b[0m\u001b[0m\n\u001b[0m",
      "\u001b[0;31mKeyError\u001b[0m: 'clave1000'"
     ]
    }
   ],
   "source": [
    "diccionario['clave1000']"
   ]
  },
  {
   "cell_type": "markdown",
   "id": "a5dfc5aa",
   "metadata": {},
   "source": [
    "La segunda forma es con `get`:"
   ]
  },
  {
   "cell_type": "code",
   "execution_count": 60,
   "id": "66889b8d",
   "metadata": {
    "execution": {
     "iopub.execute_input": "2021-05-04T21:08:38.132219Z",
     "iopub.status.busy": "2021-05-04T21:08:38.116809Z",
     "iopub.status.idle": "2021-05-04T21:08:38.159381Z",
     "shell.execute_reply": "2021-05-04T21:08:38.159846Z"
    }
   },
   "outputs": [],
   "source": [
    "diccionario.get?"
   ]
  },
  {
   "cell_type": "code",
   "execution_count": 61,
   "id": "0cf0f0df",
   "metadata": {
    "execution": {
     "iopub.execute_input": "2021-05-04T21:08:38.165798Z",
     "iopub.status.busy": "2021-05-04T21:08:38.164136Z",
     "iopub.status.idle": "2021-05-04T21:08:38.167575Z",
     "shell.execute_reply": "2021-05-04T21:08:38.166343Z"
    }
   },
   "outputs": [
    {
     "name": "stdout",
     "output_type": "stream",
     "text": [
      "Help on built-in function get:\n",
      "\n",
      "get(key, default=None, /) method of builtins.dict instance\n",
      "    Return the value for key if key is in the dictionary, else default.\n",
      "\n"
     ]
    }
   ],
   "source": [
    "help(diccionario.get)"
   ]
  },
  {
   "cell_type": "code",
   "execution_count": 62,
   "id": "af123d42",
   "metadata": {
    "execution": {
     "iopub.execute_input": "2021-05-04T21:08:38.171816Z",
     "iopub.status.busy": "2021-05-04T21:08:38.170830Z",
     "iopub.status.idle": "2021-05-04T21:08:38.173469Z",
     "shell.execute_reply": "2021-05-04T21:08:38.173076Z"
    },
    "slideshow": {
     "slide_type": "slide"
    }
   },
   "outputs": [
    {
     "name": "stdout",
     "output_type": "stream",
     "text": [
      "None\n"
     ]
    }
   ],
   "source": [
    "print(diccionario.get('clave1000'))"
   ]
  },
  {
   "cell_type": "code",
   "execution_count": 63,
   "id": "b23dd353",
   "metadata": {
    "execution": {
     "iopub.execute_input": "2021-05-04T21:08:38.177649Z",
     "iopub.status.busy": "2021-05-04T21:08:38.176609Z",
     "iopub.status.idle": "2021-05-04T21:08:38.179276Z",
     "shell.execute_reply": "2021-05-04T21:08:38.178866Z"
    },
    "slideshow": {
     "slide_type": "slide"
    }
   },
   "outputs": [
    {
     "name": "stdout",
     "output_type": "stream",
     "text": [
      "True\n"
     ]
    }
   ],
   "source": [
    "print('clave1' in diccionario)  # Verifico si la clave está en el diccionario"
   ]
  },
  {
   "cell_type": "code",
   "execution_count": 64,
   "id": "ac7ece04",
   "metadata": {
    "execution": {
     "iopub.execute_input": "2021-05-04T21:08:38.183190Z",
     "iopub.status.busy": "2021-05-04T21:08:38.182702Z",
     "iopub.status.idle": "2021-05-04T21:08:38.185040Z",
     "shell.execute_reply": "2021-05-04T21:08:38.185421Z"
    }
   },
   "outputs": [
    {
     "data": {
      "text/plain": [
       "True"
      ]
     },
     "execution_count": 1,
     "metadata": {},
     "output_type": "execute_result"
    }
   ],
   "source": [
    "l = [1, 2, 3, 4]\n",
    "2 in l"
   ]
  },
  {
   "cell_type": "code",
   "execution_count": 65,
   "id": "e6bd8e2c",
   "metadata": {
    "execution": {
     "iopub.execute_input": "2021-05-04T21:08:38.189733Z",
     "iopub.status.busy": "2021-05-04T21:08:38.188876Z",
     "iopub.status.idle": "2021-05-04T21:08:38.191541Z",
     "shell.execute_reply": "2021-05-04T21:08:38.191102Z"
    }
   },
   "outputs": [
    {
     "name": "stdout",
     "output_type": "stream",
     "text": [
      "la clave es clave1 y el valor es valor1\n",
      "la clave es 2 y el valor es valor2\n",
      "la clave es clave3 y el valor es 3\n"
     ]
    }
   ],
   "source": [
    "for clave, valor in diccionario.items():\n",
    "    print(\"la clave es %s y el valor es %s\" % (clave, valor))"
   ]
  },
  {
   "cell_type": "code",
   "execution_count": 66,
   "id": "8fa5a099",
   "metadata": {
    "execution": {
     "iopub.execute_input": "2021-05-04T21:08:38.196010Z",
     "iopub.status.busy": "2021-05-04T21:08:38.194990Z",
     "iopub.status.idle": "2021-05-04T21:08:38.197650Z",
     "shell.execute_reply": "2021-05-04T21:08:38.197236Z"
    }
   },
   "outputs": [
    {
     "name": "stdout",
     "output_type": "stream",
     "text": [
      "la clave es clave1 y el valor es valor1\n",
      "la clave es 2 y el valor es valor2\n",
      "la clave es clave3 y el valor es 3\n"
     ]
    }
   ],
   "source": [
    "for clave, valor in diccionario.items():\n",
    "    print(\"la clave es {} y el valor es {}\".format(clave, valor))"
   ]
  },
  {
   "cell_type": "code",
   "execution_count": 67,
   "id": "3417fafc",
   "metadata": {
    "execution": {
     "iopub.execute_input": "2021-05-04T21:08:38.202372Z",
     "iopub.status.busy": "2021-05-04T21:08:38.201325Z",
     "iopub.status.idle": "2021-05-04T21:08:38.204010Z",
     "shell.execute_reply": "2021-05-04T21:08:38.203594Z"
    },
    "slideshow": {
     "slide_type": "slide"
    }
   },
   "outputs": [
    {
     "name": "stdout",
     "output_type": "stream",
     "text": [
      "la clave es clave1 y el valor es valor1\n",
      "la clave es 2 y el valor es valor2\n",
      "la clave es clave3 y el valor es 3\n"
     ]
    }
   ],
   "source": [
    "# Cómo iterar un diccionario elemento por elemento\n",
    "for (\n",
    "    clave,\n",
    "    valor,\n",
    ") in (\n",
    "    diccionario.items()\n",
    "):  # diccionario.items() va devolviendo tuplas con el formato (clave,valor)\n",
    "    print(\n",
    "        f\"la clave es {clave} y el valor es {valor}\"\n",
    "    )  # con esta sintaxis se desempaquetan en clave y valor (similar a enumerate)"
   ]
  },
  {
   "cell_type": "code",
   "execution_count": 68,
   "id": "ea472ea4",
   "metadata": {
    "execution": {
     "iopub.execute_input": "2021-05-04T21:08:38.208376Z",
     "iopub.status.busy": "2021-05-04T21:08:38.207315Z",
     "iopub.status.idle": "2021-05-04T21:08:38.209923Z",
     "shell.execute_reply": "2021-05-04T21:08:38.209512Z"
    },
    "slideshow": {
     "slide_type": "slide"
    }
   },
   "outputs": [
    {
     "name": "stdout",
     "output_type": "stream",
     "text": [
      "clave1\n",
      "2\n",
      "clave3\n"
     ]
    }
   ],
   "source": [
    "for clave in diccionario.keys():\n",
    "    print(clave)"
   ]
  },
  {
   "cell_type": "code",
   "execution_count": 69,
   "id": "76dcdbac",
   "metadata": {
    "execution": {
     "iopub.execute_input": "2021-05-04T21:08:38.214197Z",
     "iopub.status.busy": "2021-05-04T21:08:38.213214Z",
     "iopub.status.idle": "2021-05-04T21:08:38.215838Z",
     "shell.execute_reply": "2021-05-04T21:08:38.215420Z"
    },
    "slideshow": {
     "slide_type": "slide"
    }
   },
   "outputs": [
    {
     "name": "stdout",
     "output_type": "stream",
     "text": [
      "valor1\n",
      "valor2\n",
      "3\n"
     ]
    }
   ],
   "source": [
    "for valor in diccionario.values():\n",
    "    print(valor)"
   ]
  },
  {
   "cell_type": "markdown",
   "id": "3d7d25cf",
   "metadata": {},
   "source": [
    "#### Sets\n",
    "\n",
    "Son similares a los diccionarios (en eficiencia) pero se almacenan solo claves, y tienen algunas operaciones particulares.\n",
    "\n",
    "En particular, no pueden tener elementos iguales (pensar que son conjuntos)"
   ]
  },
  {
   "cell_type": "code",
   "execution_count": 70,
   "id": "ac7fae6f",
   "metadata": {
    "execution": {
     "iopub.execute_input": "2021-05-04T21:08:38.219120Z",
     "iopub.status.busy": "2021-05-04T21:08:38.218653Z",
     "iopub.status.idle": "2021-05-04T21:08:38.222613Z",
     "shell.execute_reply": "2021-05-04T21:08:38.222219Z"
    }
   },
   "outputs": [],
   "source": [
    "set??"
   ]
  },
  {
   "cell_type": "code",
   "execution_count": 71,
   "id": "7aa48ea4",
   "metadata": {
    "execution": {
     "iopub.execute_input": "2021-05-04T21:08:38.226438Z",
     "iopub.status.busy": "2021-05-04T21:08:38.225951Z",
     "iopub.status.idle": "2021-05-04T21:08:38.228275Z",
     "shell.execute_reply": "2021-05-04T21:08:38.228656Z"
    }
   },
   "outputs": [
    {
     "data": {
      "text/plain": [
       "{1, 2, 3}"
      ]
     },
     "execution_count": 1,
     "metadata": {},
     "output_type": "execute_result"
    }
   ],
   "source": [
    "# Se definen como los diccionarios pero sin hacerlos 'clave:valor', solamente una seguidilla de elementos\n",
    "{1, 2, 2, 3}"
   ]
  },
  {
   "cell_type": "code",
   "execution_count": 72,
   "id": "dd3e9a8b",
   "metadata": {
    "execution": {
     "iopub.execute_input": "2021-05-04T21:08:38.232576Z",
     "iopub.status.busy": "2021-05-04T21:08:38.232090Z",
     "iopub.status.idle": "2021-05-04T21:08:38.234370Z",
     "shell.execute_reply": "2021-05-04T21:08:38.234749Z"
    }
   },
   "outputs": [
    {
     "data": {
      "text/plain": [
       "{1, 2, 3}"
      ]
     },
     "execution_count": 1,
     "metadata": {},
     "output_type": "execute_result"
    }
   ],
   "source": [
    "set([1, 2, 2, 3])"
   ]
  },
  {
   "cell_type": "markdown",
   "id": "df46acb0",
   "metadata": {},
   "source": [
    "## Condicionales (if...elif...else)\n",
    "\n",
    "```python\n",
    "if <condición_1>:\n",
    "    <hacer algo_1 si se da la condición_1>\n",
    "elif <condición_2>:\n",
    "    <hacer algo_2 si se da la condición_2>\n",
    "...\n",
    "elif <condición_n>:\n",
    "    <hacer algo_n si se da la condición_n>\n",
    "else:\n",
    "    <hacer otra cosa si no dan las anteriores>\n",
    "```\n",
    "\n",
    "Algo importante para notar es que los bloques se definen por **niveles de identacion**."
   ]
  },
  {
   "cell_type": "code",
   "execution_count": 73,
   "id": "e40e6edd",
   "metadata": {
    "execution": {
     "iopub.execute_input": "2021-05-04T21:08:38.239207Z",
     "iopub.status.busy": "2021-05-04T21:08:38.238347Z",
     "iopub.status.idle": "2021-05-04T21:08:38.241004Z",
     "shell.execute_reply": "2021-05-04T21:08:38.240591Z"
    }
   },
   "outputs": [
    {
     "name": "stdout",
     "output_type": "stream",
     "text": [
      "uno\n"
     ]
    }
   ],
   "source": [
    "v = 1\n",
    "if v == 1:\n",
    "    print(\"uno\")\n",
    "elif v == 2:\n",
    "    print(\"dos\")\n",
    "else:\n",
    "    print(\"ni idea\")\n",
    "    print(v)"
   ]
  },
  {
   "cell_type": "markdown",
   "id": "fd7b2ea0",
   "metadata": {},
   "source": [
    "## Iteraciones\n",
    "\n",
    "```python\n",
    "while cond:\n",
    "    <codigo>\n",
    "```\n",
    "\n",
    "```python\n",
    "for elemento in iterable:\n",
    "    <codigo>\n",
    "```\n",
    "\n",
    "Para iterar sobre un rango de valores, usamos `range`"
   ]
  },
  {
   "cell_type": "code",
   "execution_count": 74,
   "id": "a2c47378",
   "metadata": {
    "execution": {
     "iopub.execute_input": "2021-05-04T21:08:38.245419Z",
     "iopub.status.busy": "2021-05-04T21:08:38.244482Z",
     "iopub.status.idle": "2021-05-04T21:08:38.247065Z",
     "shell.execute_reply": "2021-05-04T21:08:38.246676Z"
    }
   },
   "outputs": [
    {
     "name": "stdout",
     "output_type": "stream",
     "text": [
      "1\n",
      "4\n",
      "7\n",
      "10\n"
     ]
    }
   ],
   "source": [
    "for i in range(1, 11, 3):\n",
    "    print(i)"
   ]
  },
  {
   "cell_type": "markdown",
   "id": "4757046c",
   "metadata": {},
   "source": [
    "## Operadores logicos\n",
    "\n",
    "`not`, `or`, `and`"
   ]
  },
  {
   "cell_type": "code",
   "execution_count": 75,
   "id": "8ca1bb14",
   "metadata": {
    "execution": {
     "iopub.execute_input": "2021-05-04T21:08:38.251072Z",
     "iopub.status.busy": "2021-05-04T21:08:38.250127Z",
     "iopub.status.idle": "2021-05-04T21:08:38.252737Z",
     "shell.execute_reply": "2021-05-04T21:08:38.252326Z"
    }
   },
   "outputs": [
    {
     "name": "stdout",
     "output_type": "stream",
     "text": [
      "yay\n"
     ]
    }
   ],
   "source": [
    "if True or False:\n",
    "    print(\"yay\")"
   ]
  },
  {
   "cell_type": "code",
   "execution_count": 76,
   "id": "ad0e2fd8",
   "metadata": {
    "execution": {
     "iopub.execute_input": "2021-05-04T21:08:38.256391Z",
     "iopub.status.busy": "2021-05-04T21:08:38.255898Z",
     "iopub.status.idle": "2021-05-04T21:08:38.258202Z",
     "shell.execute_reply": "2021-05-04T21:08:38.258583Z"
    }
   },
   "outputs": [
    {
     "data": {
      "text/plain": [
       "False"
      ]
     },
     "execution_count": 1,
     "metadata": {},
     "output_type": "execute_result"
    }
   ],
   "source": [
    "1 == 2"
   ]
  },
  {
   "cell_type": "code",
   "execution_count": 77,
   "id": "1d849565",
   "metadata": {
    "execution": {
     "iopub.execute_input": "2021-05-04T21:08:38.262240Z",
     "iopub.status.busy": "2021-05-04T21:08:38.261757Z",
     "iopub.status.idle": "2021-05-04T21:08:38.264052Z",
     "shell.execute_reply": "2021-05-04T21:08:38.264430Z"
    }
   },
   "outputs": [
    {
     "data": {
      "text/plain": [
       "True"
      ]
     },
     "execution_count": 1,
     "metadata": {},
     "output_type": "execute_result"
    }
   ],
   "source": [
    "1 != 2"
   ]
  },
  {
   "cell_type": "markdown",
   "id": "003a03cd",
   "metadata": {
    "slideshow": {
     "slide_type": "slide"
    }
   },
   "source": [
    "## Funciones en Python"
   ]
  },
  {
   "cell_type": "code",
   "execution_count": 78,
   "id": "d4b175ac",
   "metadata": {
    "execution": {
     "iopub.execute_input": "2021-05-04T21:08:38.270609Z",
     "iopub.status.busy": "2021-05-04T21:08:38.270115Z",
     "iopub.status.idle": "2021-05-04T21:08:38.273370Z",
     "shell.execute_reply": "2021-05-04T21:08:38.272961Z"
    },
    "slideshow": {
     "slide_type": "slide"
    }
   },
   "outputs": [
    {
     "name": "stdout",
     "output_type": "stream",
     "text": [
      "True"
     ]
    },
    {
     "name": "stdout",
     "output_type": "stream",
     "text": [
      "\n",
      "False\n"
     ]
    }
   ],
   "source": [
    "def busqueda_binaria(lista, elemento):\n",
    "    if not lista:\n",
    "        return False\n",
    "    elif len(lista) == 1:\n",
    "        return lista[0] == elemento\n",
    "    mitad = len(lista) // 2  # // es la operación división entera\n",
    "    if lista[mitad] == elemento:\n",
    "        return True\n",
    "    if lista[mitad] > elemento:\n",
    "        return busqueda_binaria(lista[:mitad], elemento)\n",
    "    if lista[mitad] < elemento:\n",
    "        return busqueda_binaria(lista[mitad:], elemento)\n",
    "\n",
    "\n",
    "print(busqueda_binaria([1, 2, 3, 4, 5], 4))\n",
    "print(busqueda_binaria([1, 4, 6, 7, 9, 10], 2))"
   ]
  },
  {
   "cell_type": "code",
   "execution_count": 79,
   "id": "233af05a",
   "metadata": {
    "execution": {
     "iopub.execute_input": "2021-05-04T21:08:38.277779Z",
     "iopub.status.busy": "2021-05-04T21:08:38.276823Z",
     "iopub.status.idle": "2021-05-04T21:08:38.279429Z",
     "shell.execute_reply": "2021-05-04T21:08:38.278989Z"
    }
   },
   "outputs": [
    {
     "name": "stdout",
     "output_type": "stream",
     "text": [
      "(3, 3, 3)\n"
     ]
    }
   ],
   "source": [
    "def a(b):\n",
    "    if a == 1:\n",
    "        print(a)\n",
    "    return (b, b, b)\n",
    "\n",
    "\n",
    "print(a(3))"
   ]
  },
  {
   "cell_type": "code",
   "execution_count": 80,
   "id": "0f3c34f1",
   "metadata": {
    "execution": {
     "iopub.execute_input": "2021-05-04T21:08:38.284192Z",
     "iopub.status.busy": "2021-05-04T21:08:38.283708Z",
     "iopub.status.idle": "2021-05-04T21:08:38.291241Z",
     "shell.execute_reply": "2021-05-04T21:08:38.291704Z"
    },
    "lines_to_next_cell": 2,
    "slideshow": {
     "slide_type": "slide"
    },
    "tags": [
     "raises-exception"
    ]
   },
   "outputs": [
    {
     "name": "stdout",
     "output_type": "stream",
     "text": [
      "3\n",
      "3.0\n",
      "3.0\n",
      "hola como te va\n",
      "[1, 2, 3, 4, 5]\n"
     ]
    },
    {
     "ename": "TypeError",
     "evalue": "can only concatenate str (not \"int\") to str",
     "output_type": "error",
     "traceback": [
      "\u001b[0;31m---------------------------------------------------------------------------\u001b[0m",
      "\u001b[0;31mTypeError\u001b[0m                                 Traceback (most recent call last)",
      "\u001b[0;32m<ipython-input-1-c2a6a99a90c7>\u001b[0m in \u001b[0;36m<module>\u001b[0;34m\u001b[0m\n\u001b[1;32m      8\u001b[0m \u001b[0mprint\u001b[0m\u001b[0;34m(\u001b[0m\u001b[0msuma\u001b[0m\u001b[0;34m(\u001b[0m\u001b[0;34m\"hola \"\u001b[0m\u001b[0;34m,\u001b[0m \u001b[0;34m\"como te va\"\u001b[0m\u001b[0;34m)\u001b[0m\u001b[0;34m)\u001b[0m\u001b[0;34m\u001b[0m\u001b[0;34m\u001b[0m\u001b[0m\n\u001b[1;32m      9\u001b[0m \u001b[0mprint\u001b[0m\u001b[0;34m(\u001b[0m\u001b[0msuma\u001b[0m\u001b[0;34m(\u001b[0m\u001b[0;34m[\u001b[0m\u001b[0;36m1\u001b[0m\u001b[0;34m,\u001b[0m \u001b[0;36m2\u001b[0m\u001b[0;34m,\u001b[0m \u001b[0;36m3\u001b[0m\u001b[0;34m]\u001b[0m\u001b[0;34m,\u001b[0m \u001b[0;34m[\u001b[0m\u001b[0;36m4\u001b[0m\u001b[0;34m,\u001b[0m \u001b[0;36m5\u001b[0m\u001b[0;34m]\u001b[0m\u001b[0;34m)\u001b[0m\u001b[0;34m)\u001b[0m\u001b[0;34m\u001b[0m\u001b[0;34m\u001b[0m\u001b[0m\n\u001b[0;32m---> 10\u001b[0;31m \u001b[0mprint\u001b[0m\u001b[0;34m(\u001b[0m\u001b[0msuma\u001b[0m\u001b[0;34m(\u001b[0m\u001b[0;34m\"1\"\u001b[0m\u001b[0;34m,\u001b[0m \u001b[0;36m3\u001b[0m\u001b[0;34m)\u001b[0m\u001b[0;34m)\u001b[0m  \u001b[0;31m# Falla\u001b[0m\u001b[0;34m\u001b[0m\u001b[0;34m\u001b[0m\u001b[0m\n\u001b[0m",
      "\u001b[0;32m<ipython-input-1-c2a6a99a90c7>\u001b[0m in \u001b[0;36msuma\u001b[0;34m(a, b)\u001b[0m\n\u001b[1;32m      1\u001b[0m \u001b[0;32mdef\u001b[0m \u001b[0msuma\u001b[0m\u001b[0;34m(\u001b[0m\u001b[0ma\u001b[0m\u001b[0;34m,\u001b[0m \u001b[0mb\u001b[0m\u001b[0;34m)\u001b[0m\u001b[0;34m:\u001b[0m\u001b[0;34m\u001b[0m\u001b[0;34m\u001b[0m\u001b[0m\n\u001b[0;32m----> 2\u001b[0;31m     \u001b[0;32mreturn\u001b[0m \u001b[0ma\u001b[0m \u001b[0;34m+\u001b[0m \u001b[0mb\u001b[0m\u001b[0;34m\u001b[0m\u001b[0;34m\u001b[0m\u001b[0m\n\u001b[0m\u001b[1;32m      3\u001b[0m \u001b[0;34m\u001b[0m\u001b[0m\n\u001b[1;32m      4\u001b[0m \u001b[0;34m\u001b[0m\u001b[0m\n\u001b[1;32m      5\u001b[0m \u001b[0mprint\u001b[0m\u001b[0;34m(\u001b[0m\u001b[0msuma\u001b[0m\u001b[0;34m(\u001b[0m\u001b[0;36m1\u001b[0m\u001b[0;34m,\u001b[0m \u001b[0;36m2\u001b[0m\u001b[0;34m)\u001b[0m\u001b[0;34m)\u001b[0m\u001b[0;34m\u001b[0m\u001b[0;34m\u001b[0m\u001b[0m\n",
      "\u001b[0;31mTypeError\u001b[0m: can only concatenate str (not \"int\") to str"
     ]
    }
   ],
   "source": [
    "def suma(a, b):\n",
    "    return a + b\n",
    "\n",
    "\n",
    "print(suma(1, 2))\n",
    "print(suma(1.0, 2.0))\n",
    "print(suma(1.0, 2))\n",
    "print(suma(\"hola \", \"como te va\"))\n",
    "print(suma([1, 2, 3], [4, 5]))\n",
    "print(suma(\"1\", 3))  # Falla"
   ]
  },
  {
   "cell_type": "code",
   "execution_count": 81,
   "id": "94068380",
   "metadata": {
    "execution": {
     "iopub.execute_input": "2021-05-04T21:08:38.296043Z",
     "iopub.status.busy": "2021-05-04T21:08:38.295069Z",
     "iopub.status.idle": "2021-05-04T21:08:38.297738Z",
     "shell.execute_reply": "2021-05-04T21:08:38.297322Z"
    }
   },
   "outputs": [
    {
     "name": "stdout",
     "output_type": "stream",
     "text": [
      "2.0\n"
     ]
    }
   ],
   "source": [
    "# El valor por default de divisor es 1\n",
    "\n",
    "\n",
    "def division(dividendo, divisor=2):\n",
    "    return dividendo / divisor\n",
    "\n",
    "\n",
    "print(division(4))  # Usa el valor por default"
   ]
  },
  {
   "cell_type": "code",
   "execution_count": 82,
   "id": "6a3634f1",
   "metadata": {
    "execution": {
     "iopub.execute_input": "2021-05-04T21:08:38.304798Z",
     "iopub.status.busy": "2021-05-04T21:08:38.304303Z",
     "iopub.status.idle": "2021-05-04T21:08:38.307616Z",
     "shell.execute_reply": "2021-05-04T21:08:38.307177Z"
    },
    "tags": [
     "raises-exception"
    ]
   },
   "outputs": [
    {
     "name": "stdout",
     "output_type": "stream",
     "text": [
      "0.5\n",
      "0.5\n"
     ]
    },
    {
     "ename": "TypeError",
     "evalue": "division() missing 1 required positional argument: 'dividendo'",
     "output_type": "error",
     "traceback": [
      "\u001b[0;31m---------------------------------------------------------------------------\u001b[0m",
      "\u001b[0;31mTypeError\u001b[0m                                 Traceback (most recent call last)",
      "\u001b[0;32m<ipython-input-1-34eff3833138>\u001b[0m in \u001b[0;36m<module>\u001b[0;34m\u001b[0m\n\u001b[1;32m      1\u001b[0m \u001b[0mprint\u001b[0m\u001b[0;34m(\u001b[0m\u001b[0mdivision\u001b[0m\u001b[0;34m(\u001b[0m\u001b[0;36m1\u001b[0m\u001b[0;34m,\u001b[0m \u001b[0;36m2\u001b[0m\u001b[0;34m)\u001b[0m\u001b[0;34m)\u001b[0m  \u001b[0;31m# Parámetros por orden\u001b[0m\u001b[0;34m\u001b[0m\u001b[0;34m\u001b[0m\u001b[0m\n\u001b[1;32m      2\u001b[0m \u001b[0mprint\u001b[0m\u001b[0;34m(\u001b[0m\u001b[0mdivision\u001b[0m\u001b[0;34m(\u001b[0m\u001b[0mdividendo\u001b[0m\u001b[0;34m=\u001b[0m\u001b[0;36m1\u001b[0m\u001b[0;34m,\u001b[0m \u001b[0mdivisor\u001b[0m\u001b[0;34m=\u001b[0m\u001b[0;36m2\u001b[0m\u001b[0;34m)\u001b[0m\u001b[0;34m)\u001b[0m  \u001b[0;31m# Parámetros por nombre\u001b[0m\u001b[0;34m\u001b[0m\u001b[0;34m\u001b[0m\u001b[0m\n\u001b[0;32m----> 3\u001b[0;31m \u001b[0mprint\u001b[0m\u001b[0;34m(\u001b[0m\u001b[0mdivision\u001b[0m\u001b[0;34m(\u001b[0m\u001b[0mdivisor\u001b[0m\u001b[0;34m=\u001b[0m\u001b[0;36m2\u001b[0m\u001b[0;34m)\u001b[0m\u001b[0;34m)\u001b[0m\u001b[0;34m\u001b[0m\u001b[0;34m\u001b[0m\u001b[0m\n\u001b[0m",
      "\u001b[0;31mTypeError\u001b[0m: division() missing 1 required positional argument: 'dividendo'"
     ]
    }
   ],
   "source": [
    "print(division(1, 2))  # Parámetros por orden\n",
    "print(division(dividendo=1, divisor=2))  # Parámetros por nombre\n",
    "print(division(divisor=2))"
   ]
  },
  {
   "cell_type": "code",
   "execution_count": 83,
   "id": "7303720f",
   "metadata": {
    "execution": {
     "iopub.execute_input": "2021-05-04T21:08:38.311608Z",
     "iopub.status.busy": "2021-05-04T21:08:38.310761Z",
     "iopub.status.idle": "2021-05-04T21:08:38.312981Z",
     "shell.execute_reply": "2021-05-04T21:08:38.313339Z"
    }
   },
   "outputs": [
    {
     "name": "stdout",
     "output_type": "stream",
     "text": [
      "0.5\n"
     ]
    }
   ],
   "source": [
    "print(division(divisor=2, dividendo=1))"
   ]
  },
  {
   "cell_type": "code",
   "execution_count": 84,
   "id": "571eb4db",
   "metadata": {
    "execution": {
     "iopub.execute_input": "2021-05-04T21:08:38.318652Z",
     "iopub.status.busy": "2021-05-04T21:08:38.317645Z",
     "iopub.status.idle": "2021-05-04T21:08:38.320293Z",
     "shell.execute_reply": "2021-05-04T21:08:38.319879Z"
    }
   },
   "outputs": [
    {
     "name": "stdout",
     "output_type": "stream",
     "text": [
      "['a', 'b', 'c']\n",
      "[1, 2, 3]\n",
      "['hola', ' don', ' pepito']\n",
      "hola -  don -  pepito\n"
     ]
    }
   ],
   "source": [
    "# Funciones básicas ya en el lenguaje\n",
    "# Hechas para funcionar para distintos tipos\n",
    "\n",
    "string_ordenado = sorted('bca')\n",
    "print(string_ordenado)\n",
    "\n",
    "lista_ordenada = sorted([1, 3, 2])\n",
    "print(lista_ordenada)\n",
    "\n",
    "separadas = \"hola, don, pepito\".split(\",\")\n",
    "print(separadas)\n",
    "unidas = \" - \".join(separadas)\n",
    "print(unidas)"
   ]
  },
  {
   "cell_type": "markdown",
   "id": "0b99e59b",
   "metadata": {},
   "source": [
    "## Módulos\n",
    "\n",
    "Para incluir alguna biblioteca de funciones se usa `import`. Pueden ser cosas ya predefinidas en Python (`math`, `random`, etc), nombres de archivos en nuestro directorio (por ejemplo, para `mimodulo.py` ponemos `import mimodulo`) o bibliotecas instaladas por el usuario"
   ]
  },
  {
   "cell_type": "code",
   "execution_count": 85,
   "id": "7eed5508",
   "metadata": {
    "execution": {
     "iopub.execute_input": "2021-05-04T21:08:38.324390Z",
     "iopub.status.busy": "2021-05-04T21:08:38.323386Z",
     "iopub.status.idle": "2021-05-04T21:08:38.326005Z",
     "shell.execute_reply": "2021-05-04T21:08:38.325596Z"
    }
   },
   "outputs": [
    {
     "name": "stdout",
     "output_type": "stream",
     "text": [
      "3.141592653589793\n"
     ]
    }
   ],
   "source": [
    "import math\n",
    "\n",
    "print(math.pi)"
   ]
  },
  {
   "cell_type": "code",
   "execution_count": 86,
   "id": "f1dcd769",
   "metadata": {
    "execution": {
     "iopub.execute_input": "2021-05-04T21:08:38.330177Z",
     "iopub.status.busy": "2021-05-04T21:08:38.329232Z",
     "iopub.status.idle": "2021-05-04T21:08:38.331846Z",
     "shell.execute_reply": "2021-05-04T21:08:38.331432Z"
    }
   },
   "outputs": [
    {
     "name": "stdout",
     "output_type": "stream",
     "text": [
      "3.141592653589793 2.718281828459045\n"
     ]
    }
   ],
   "source": [
    "from math import pi, e\n",
    "\n",
    "print(pi, e)"
   ]
  },
  {
   "cell_type": "code",
   "execution_count": 87,
   "id": "750e4f80",
   "metadata": {
    "execution": {
     "iopub.execute_input": "2021-05-04T21:08:38.335647Z",
     "iopub.status.busy": "2021-05-04T21:08:38.335142Z",
     "iopub.status.idle": "2021-05-04T21:08:38.337461Z",
     "shell.execute_reply": "2021-05-04T21:08:38.337840Z"
    }
   },
   "outputs": [
    {
     "data": {
      "text/plain": [
       "2"
      ]
     },
     "execution_count": 1,
     "metadata": {},
     "output_type": "execute_result"
    }
   ],
   "source": [
    "math.gcd(56, 78)"
   ]
  },
  {
   "cell_type": "markdown",
   "id": "59bd9e03",
   "metadata": {},
   "source": [
    "## Manejo de excepciones\n",
    "\n",
    "Se pueden encapsular errores esperados en un bloque 'try/except' para evitar cortar el flujo del programa"
   ]
  },
  {
   "cell_type": "code",
   "execution_count": 88,
   "id": "aebe8b2f",
   "metadata": {
    "execution": {
     "iopub.execute_input": "2021-05-04T21:08:38.345290Z",
     "iopub.status.busy": "2021-05-04T21:08:38.344800Z",
     "iopub.status.idle": "2021-05-04T21:08:38.347032Z",
     "shell.execute_reply": "2021-05-04T21:08:38.347463Z"
    },
    "tags": [
     "raises-exception"
    ]
   },
   "outputs": [
    {
     "ename": "ZeroDivisionError",
     "evalue": "division by zero",
     "output_type": "error",
     "traceback": [
      "\u001b[0;31m---------------------------------------------------------------------------\u001b[0m",
      "\u001b[0;31mZeroDivisionError\u001b[0m                         Traceback (most recent call last)",
      "\u001b[0;32m<ipython-input-1-f031f77b1a55>\u001b[0m in \u001b[0;36m<module>\u001b[0;34m\u001b[0m\n\u001b[0;32m----> 1\u001b[0;31m \u001b[0mdivision\u001b[0m\u001b[0;34m(\u001b[0m\u001b[0;36m1\u001b[0m\u001b[0;34m,\u001b[0m \u001b[0;36m0\u001b[0m\u001b[0;34m)\u001b[0m  \u001b[0;31m# No se puede dividir por cero\u001b[0m\u001b[0;34m\u001b[0m\u001b[0;34m\u001b[0m\u001b[0m\n\u001b[0m",
      "\u001b[0;32m<ipython-input-1-0d991d7de762>\u001b[0m in \u001b[0;36mdivision\u001b[0;34m(dividendo, divisor)\u001b[0m\n\u001b[1;32m      3\u001b[0m \u001b[0;34m\u001b[0m\u001b[0m\n\u001b[1;32m      4\u001b[0m \u001b[0;32mdef\u001b[0m \u001b[0mdivision\u001b[0m\u001b[0;34m(\u001b[0m\u001b[0mdividendo\u001b[0m\u001b[0;34m,\u001b[0m \u001b[0mdivisor\u001b[0m\u001b[0;34m=\u001b[0m\u001b[0;36m2\u001b[0m\u001b[0;34m)\u001b[0m\u001b[0;34m:\u001b[0m\u001b[0;34m\u001b[0m\u001b[0;34m\u001b[0m\u001b[0m\n\u001b[0;32m----> 5\u001b[0;31m     \u001b[0;32mreturn\u001b[0m \u001b[0mdividendo\u001b[0m \u001b[0;34m/\u001b[0m \u001b[0mdivisor\u001b[0m\u001b[0;34m\u001b[0m\u001b[0;34m\u001b[0m\u001b[0m\n\u001b[0m\u001b[1;32m      6\u001b[0m \u001b[0;34m\u001b[0m\u001b[0m\n\u001b[1;32m      7\u001b[0m \u001b[0;34m\u001b[0m\u001b[0m\n",
      "\u001b[0;31mZeroDivisionError\u001b[0m: division by zero"
     ]
    }
   ],
   "source": [
    "division(1, 0)  # No se puede dividir por cero"
   ]
  },
  {
   "cell_type": "code",
   "execution_count": 89,
   "id": "0e4e6538",
   "metadata": {
    "execution": {
     "iopub.execute_input": "2021-05-04T21:08:38.352012Z",
     "iopub.status.busy": "2021-05-04T21:08:38.351157Z",
     "iopub.status.idle": "2021-05-04T21:08:38.353411Z",
     "shell.execute_reply": "2021-05-04T21:08:38.353790Z"
    }
   },
   "outputs": [
    {
     "name": "stdout",
     "output_type": "stream",
     "text": [
      "No se puede dividir por cero, ojo! division by zero\n",
      "1\n"
     ]
    }
   ],
   "source": [
    "try:\n",
    "    division(1, 0)\n",
    "except (ZeroDivisionError, TypeError) as e:\n",
    "    print('No se puede dividir por cero, ojo!', e)\n",
    "finally:\n",
    "    print(1)"
   ]
  },
  {
   "cell_type": "markdown",
   "id": "c004598d",
   "metadata": {
    "slideshow": {
     "slide_type": "slide"
    }
   },
   "source": [
    "## Lectura y escritura de archivos"
   ]
  },
  {
   "cell_type": "code",
   "execution_count": 90,
   "id": "1858754d",
   "metadata": {
    "execution": {
     "iopub.execute_input": "2021-05-04T21:08:38.358316Z",
     "iopub.status.busy": "2021-05-04T21:08:38.357820Z",
     "iopub.status.idle": "2021-05-04T21:08:38.360083Z",
     "shell.execute_reply": "2021-05-04T21:08:38.360462Z"
    },
    "slideshow": {
     "slide_type": "slide"
    }
   },
   "outputs": [
    {
     "name": "stdout",
     "output_type": "stream",
     "text": [
      "<_io.TextIOWrapper name='archivo.csv' mode='w' encoding='UTF-8'>\n"
     ]
    }
   ],
   "source": [
    "import random\n",
    "\n",
    "with open(\n",
    "    'archivo.csv', 'w'\n",
    ") as archivo:  # Al usar esta sintaxis no es necesario hacer close\n",
    "    archivo.write(\"Alumno, nota\\n\")\n",
    "    # Tambien de forma similar al fprintf se puede hacer:\n",
    "    # print(\"Alumno, nota\\n\", file=archivo)\n",
    "    for i in range(0, 10):\n",
    "        archivo.write(f\"{i},{random.randrange(0,10)}\\n\")\n",
    "\n",
    "print(archivo)  # Comentario aclaratorio:\n",
    "# Las variables definidas en un determinado scope siguen existiendo por fuera del mismo.\n",
    "# Se debe tener cuidado con esto, ya que nada garantiza que por fuera el valor sea el esperado."
   ]
  },
  {
   "cell_type": "code",
   "execution_count": 91,
   "id": "e8a9683e",
   "metadata": {
    "execution": {
     "iopub.execute_input": "2021-05-04T21:08:38.365294Z",
     "iopub.status.busy": "2021-05-04T21:08:38.364801Z",
     "iopub.status.idle": "2021-05-04T21:08:38.367020Z",
     "shell.execute_reply": "2021-05-04T21:08:38.367425Z"
    },
    "slideshow": {
     "slide_type": "slide"
    }
   },
   "outputs": [
    {
     "name": "stdout",
     "output_type": "stream",
     "text": [
      "Alumno, nota\n",
      "0,2\n",
      "1,8\n",
      "2,9\n",
      "3,6\n",
      "4,2\n",
      "5,3\n",
      "6,5\n",
      "7,1\n",
      "8,5\n",
      "9,9\n"
     ]
    }
   ],
   "source": [
    "with open('archivo.csv', 'r') as f:\n",
    "    for linea in f:\n",
    "        print(linea.strip())"
   ]
  },
  {
   "cell_type": "code",
   "execution_count": 92,
   "id": "13fe0712",
   "metadata": {
    "execution": {
     "iopub.execute_input": "2021-05-04T21:08:38.371213Z",
     "iopub.status.busy": "2021-05-04T21:08:38.370701Z",
     "iopub.status.idle": "2021-05-04T21:08:38.372991Z",
     "shell.execute_reply": "2021-05-04T21:08:38.373378Z"
    }
   },
   "outputs": [
    {
     "name": "stdout",
     "output_type": "stream",
     "text": [
      "Alumno, nota\n",
      "0,2\n",
      "1,8\n",
      "2,9\n",
      "3,6\n",
      "4,2\n",
      "5,3\n",
      "6,5\n",
      "7,1\n",
      "8,5\n",
      "9,9\n",
      "\n"
     ]
    }
   ],
   "source": [
    "with open('archivo.csv', 'r') as f:\n",
    "    print(f.read())"
   ]
  },
  {
   "cell_type": "code",
   "execution_count": 93,
   "id": "c14403c7",
   "metadata": {
    "execution": {
     "iopub.execute_input": "2021-05-04T21:08:38.376696Z",
     "iopub.status.busy": "2021-05-04T21:08:38.376203Z",
     "iopub.status.idle": "2021-05-04T21:08:38.378455Z",
     "shell.execute_reply": "2021-05-04T21:08:38.378038Z"
    }
   },
   "outputs": [],
   "source": [
    "f = open('archivo.csv', 'w')\n",
    "f.write(\"algo, algo\")\n",
    "f.close()"
   ]
  },
  {
   "cell_type": "markdown",
   "id": "581ddc5e",
   "metadata": {
    "slideshow": {
     "slide_type": "slide"
    }
   },
   "source": [
    "## Objetos\n",
    "\n",
    "Los objetos tienen metodos y atributos:\n",
    "- Atributos: equivalentes a variables.\n",
    "- Métodos: equivalentes a las primitivas."
   ]
  },
  {
   "cell_type": "markdown",
   "id": "5be22e44",
   "metadata": {
    "slideshow": {
     "slide_type": "slide"
    }
   },
   "source": [
    "### Cómo creo una clase"
   ]
  },
  {
   "cell_type": "code",
   "execution_count": 94,
   "id": "58e65b6e",
   "metadata": {
    "execution": {
     "iopub.execute_input": "2021-05-04T21:08:38.383984Z",
     "iopub.status.busy": "2021-05-04T21:08:38.382971Z",
     "iopub.status.idle": "2021-05-04T21:08:38.384642Z",
     "shell.execute_reply": "2021-05-04T21:08:38.385021Z"
    },
    "slideshow": {
     "slide_type": "slide"
    }
   },
   "outputs": [],
   "source": [
    "class Nodo(object):\n",
    "    def __init__(self, dato, siguiente=None):\n",
    "        self._dato = dato\n",
    "        self._siguiente = siguiente\n",
    "\n",
    "    @property\n",
    "    def dato(self):\n",
    "        return self._dato\n",
    "\n",
    "    @property\n",
    "    def proximo(self):\n",
    "        return self._siguiente\n",
    "\n",
    "    @proximo.setter\n",
    "    def proximo(self, siguiente):\n",
    "        self._siguiente = siguiente\n",
    "\n",
    "    def __repr__(self):\n",
    "        return str(self.dato)\n",
    "\n",
    "    def __str__(self):\n",
    "        return str(self.dato)"
   ]
  },
  {
   "cell_type": "code",
   "execution_count": 95,
   "id": "eca47f9b",
   "metadata": {
    "execution": {
     "iopub.execute_input": "2021-05-04T21:08:38.388615Z",
     "iopub.status.busy": "2021-05-04T21:08:38.388146Z",
     "iopub.status.idle": "2021-05-04T21:08:38.390350Z",
     "shell.execute_reply": "2021-05-04T21:08:38.390729Z"
    },
    "slideshow": {
     "slide_type": "slide"
    }
   },
   "outputs": [
    {
     "name": "stdout",
     "output_type": "stream",
     "text": [
      "hola\n"
     ]
    }
   ],
   "source": [
    "nodo = Nodo(\"hola\")\n",
    "print(nodo)"
   ]
  },
  {
   "cell_type": "code",
   "execution_count": 96,
   "id": "37810498",
   "metadata": {
    "execution": {
     "iopub.execute_input": "2021-05-04T21:08:38.394891Z",
     "iopub.status.busy": "2021-05-04T21:08:38.393877Z",
     "iopub.status.idle": "2021-05-04T21:08:38.396582Z",
     "shell.execute_reply": "2021-05-04T21:08:38.396166Z"
    },
    "slideshow": {
     "slide_type": "slide"
    }
   },
   "outputs": [
    {
     "name": "stdout",
     "output_type": "stream",
     "text": [
      "[hola, lala]\n"
     ]
    }
   ],
   "source": [
    "nodo2 = Nodo(\"lala\")\n",
    "print([nodo, nodo2])"
   ]
  },
  {
   "cell_type": "code",
   "execution_count": 97,
   "id": "c9ca598c",
   "metadata": {
    "execution": {
     "iopub.execute_input": "2021-05-04T21:08:38.400640Z",
     "iopub.status.busy": "2021-05-04T21:08:38.399632Z",
     "iopub.status.idle": "2021-05-04T21:08:38.402266Z",
     "shell.execute_reply": "2021-05-04T21:08:38.401856Z"
    },
    "slideshow": {
     "slide_type": "slide"
    }
   },
   "outputs": [
    {
     "name": "stdout",
     "output_type": "stream",
     "text": [
      "hola\n"
     ]
    }
   ],
   "source": [
    "nodo3 = nodo.dato\n",
    "print(nodo3)"
   ]
  },
  {
   "cell_type": "markdown",
   "id": "e8a13aba",
   "metadata": {
    "slideshow": {
     "slide_type": "slide"
    }
   },
   "source": [
    "### Ejemplo: Lista Enlazada"
   ]
  },
  {
   "cell_type": "code",
   "execution_count": 98,
   "id": "27911fbb",
   "metadata": {
    "execution": {
     "iopub.execute_input": "2021-05-04T21:08:38.411070Z",
     "iopub.status.busy": "2021-05-04T21:08:38.410041Z",
     "iopub.status.idle": "2021-05-04T21:08:38.411689Z",
     "shell.execute_reply": "2021-05-04T21:08:38.412068Z"
    },
    "slideshow": {
     "slide_type": "slide"
    }
   },
   "outputs": [],
   "source": [
    "class ListaEnlazada(object):\n",
    "    def __init__(self):\n",
    "        self._primero = None\n",
    "        self._ultimo = None\n",
    "        self._largo = 0\n",
    "\n",
    "    def __len__(self):\n",
    "        return self._largo\n",
    "\n",
    "    def insertar_al_principio(self, dato):\n",
    "        nodo = Nodo(dato, self._primero)\n",
    "        self._primero = nodo\n",
    "        self._largo += 1\n",
    "        if self._largo == 1:\n",
    "            self._ultimo = nodo\n",
    "\n",
    "    def insertar_al_final(self, dato):\n",
    "        if self._largo != 0:\n",
    "            nodo = Nodo(dato)\n",
    "            nodo_anterior = self._ultimo\n",
    "            nodo_anterior._siguiente = nodo\n",
    "            self._ultimo = nodo\n",
    "            self._largo += 1\n",
    "        else:\n",
    "            self.insertar_al_principio(dato)\n",
    "\n",
    "    @property\n",
    "    def primero(self):\n",
    "        return self._primero.dato\n",
    "\n",
    "    def borrar_primero(self):\n",
    "        dato = self.primero.dato\n",
    "        self._primero = self.primero.siguiente\n",
    "        self._largo -= 1\n",
    "        if self._largo == 0:\n",
    "            self._ultimo = None\n",
    "        return dato\n",
    "\n",
    "    def __str__(self):\n",
    "        datos = []\n",
    "        nodo_actual = self._primero\n",
    "        while nodo_actual:\n",
    "            datos.append(nodo_actual.dato)\n",
    "            nodo_actual = nodo_actual.proximo\n",
    "        return \" -> \".join(datos)\n",
    "\n",
    "    def __repr__(self):\n",
    "        return self.__str__()"
   ]
  },
  {
   "cell_type": "code",
   "execution_count": 99,
   "id": "e24e63af",
   "metadata": {
    "execution": {
     "iopub.execute_input": "2021-05-04T21:08:38.416257Z",
     "iopub.status.busy": "2021-05-04T21:08:38.415769Z",
     "iopub.status.idle": "2021-05-04T21:08:38.418394Z",
     "shell.execute_reply": "2021-05-04T21:08:38.418775Z"
    },
    "slideshow": {
     "slide_type": "slide"
    }
   },
   "outputs": [
    {
     "data": {
      "text/plain": [
       "2"
      ]
     },
     "execution_count": 1,
     "metadata": {},
     "output_type": "execute_result"
    }
   ],
   "source": [
    "lista = ListaEnlazada()\n",
    "lista.insertar_al_principio(\"Primer Dato\")\n",
    "lista.insertar_al_principio(\"Primer primer Dato\")\n",
    "len(lista)"
   ]
  },
  {
   "cell_type": "code",
   "execution_count": 100,
   "id": "aa56d6fd",
   "metadata": {
    "execution": {
     "iopub.execute_input": "2021-05-04T21:08:38.422466Z",
     "iopub.status.busy": "2021-05-04T21:08:38.421980Z",
     "iopub.status.idle": "2021-05-04T21:08:38.424306Z",
     "shell.execute_reply": "2021-05-04T21:08:38.424687Z"
    }
   },
   "outputs": [
    {
     "data": {
      "text/plain": [
       "Primer primer Dato -> Primer Dato"
      ]
     },
     "execution_count": 1,
     "metadata": {},
     "output_type": "execute_result"
    }
   ],
   "source": [
    "lista"
   ]
  },
  {
   "cell_type": "code",
   "execution_count": 101,
   "id": "75fd5269",
   "metadata": {
    "execution": {
     "iopub.execute_input": "2021-05-04T21:08:38.428730Z",
     "iopub.status.busy": "2021-05-04T21:08:38.427726Z",
     "iopub.status.idle": "2021-05-04T21:08:38.430334Z",
     "shell.execute_reply": "2021-05-04T21:08:38.429922Z"
    },
    "slideshow": {
     "slide_type": "slide"
    }
   },
   "outputs": [
    {
     "name": "stdout",
     "output_type": "stream",
     "text": [
      "Primer primer Dato\n"
     ]
    }
   ],
   "source": [
    "elemento = lista.primero\n",
    "print(elemento)"
   ]
  },
  {
   "cell_type": "markdown",
   "id": "d34363c7",
   "metadata": {},
   "source": [
    "## Recursos\n",
    "\n",
    "* [Taller de Python de Algoritmos II](https://github.com/algoritmos-rw/algo2_apuntes)\n",
    "\n",
    "* [Documentación de Python 3](https://docs.python.org/3/tutorial/)\n",
    "\n",
    "* [Apunte de Algoritmos y Programación I](https://algoritmos1rw.ddns.net/material)\n",
    "\n",
    "* [Automate the Boring Stuff with Python](http://automatetheboringstuff.com/)\n",
    "\n",
    "* [Curso Python](https://pythoncurso.github.io)\n",
    "\n",
    "* [Python Tutor](http://pythontutor.com/)\n",
    "\n",
    "* [Learn Python3 in Y minutes](https://learnxinyminutes.com/docs/python3/)\n",
    "\n",
    "* [Bibliografía de Algoritmos y Programación I](https://algoritmos1rw.ddns.net/bibliografia)"
   ]
  }
 ],
 "metadata": {
  "jupytext": {
   "encoding": "# -*- coding: utf-8 -*-",
   "formats": "ipynb,py:light"
  },
  "kernelspec": {
   "display_name": "Python 3 (venv)",
   "language": "python",
   "name": "python3"
  },
  "language_info": {
   "codemirror_mode": {
    "name": "ipython",
    "version": 3
   },
   "file_extension": ".py",
   "mimetype": "text/x-python",
   "name": "python",
   "nbconvert_exporter": "python",
   "pygments_lexer": "ipython3",
   "version": "3.7.10"
  }
 },
 "nbformat": 4,
 "nbformat_minor": 5
}
