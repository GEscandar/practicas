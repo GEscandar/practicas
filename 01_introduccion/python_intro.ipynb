{
 "cells": [
  {
   "cell_type": "markdown",
   "id": "9a5a8e3c",
   "metadata": {},
   "source": [
    "# Python"
   ]
  },
  {
   "cell_type": "markdown",
   "id": "e29596a7",
   "metadata": {
    "slideshow": {
     "slide_type": "slide"
    }
   },
   "source": [
    "## Un poco de Historia"
   ]
  },
  {
   "cell_type": "markdown",
   "id": "b9b99de1",
   "metadata": {
    "slideshow": {
     "slide_type": "subslide"
    }
   },
   "source": [
    "Python fue creado a finales de los años 80 por un programador holandés llamado **Guido van Rossum**,\n",
    "quien sigue siendo aún hoy el líder del desarrollo del lenguaje.\n",
    "\n",
    "(Edit julio 2018: [ya no más](https://www.mail-archive.com/python-committers@python.org/msg05628.html))"
   ]
  },
  {
   "cell_type": "markdown",
   "id": "52bcf516",
   "metadata": {
    "slideshow": {
     "slide_type": "subslide"
    }
   },
   "source": [
    "El nombre del lenguaje proviene de los humoristas británicos Monty Python.\n",
    "\n",
    ">*\"I chose Python as a working title for the project, being in a slightly irreverent mood (and a big fan of Monty Python's Flying Circus).\"*"
   ]
  },
  {
   "cell_type": "markdown",
   "id": "09c88b08",
   "metadata": {
    "slideshow": {
     "slide_type": "slide"
    }
   },
   "source": [
    "## Caracteristicas\n",
    "\n",
    "- Interpretado\n",
    "- Tipado dinamico\n",
    "- Multiparadigma\n",
    "- Alto nivel\n",
    "- Tiene un recolector de basura (no hay malloc, free, realloc, etc)"
   ]
  },
  {
   "cell_type": "markdown",
   "id": "6fbba532",
   "metadata": {},
   "source": [
    "## ¿Cómo empezar?\n",
    "\n",
    "* Al ser un lenguaje *interpretado*, se puede ir escribiendo a medida que se ejecuta, sin necesidad de compilar de antemano! Solamente hace falta escribir `python` o `python3` en una terminal para empezar\n",
    "\n",
    "* También, permite escribir archivos y correrlos. Crear un archivo con extensión `.py` y luego correr `python miarchivo.py` en laterminal"
   ]
  },
  {
   "cell_type": "markdown",
   "id": "1d5bff17",
   "metadata": {
    "slideshow": {
     "slide_type": "slide"
    }
   },
   "source": [
    "## El Zen de Python"
   ]
  },
  {
   "cell_type": "code",
   "execution_count": 1,
   "id": "d196b84f",
   "metadata": {
    "execution": {
     "iopub.execute_input": "2021-09-28T20:16:06.902206Z",
     "iopub.status.busy": "2021-09-28T20:16:06.901712Z",
     "iopub.status.idle": "2021-09-28T20:16:06.916661Z",
     "shell.execute_reply": "2021-09-28T20:16:06.917063Z"
    },
    "slideshow": {
     "slide_type": "slide"
    }
   },
   "outputs": [
    {
     "name": "stdout",
     "output_type": "stream",
     "text": [
      "The Zen of Python, by Tim Peters\n",
      "\n",
      "Beautiful is better than ugly.\n",
      "Explicit is better than implicit.\n",
      "Simple is better than complex.\n",
      "Complex is better than complicated.\n",
      "Flat is better than nested.\n",
      "Sparse is better than dense.\n",
      "Readability counts.\n",
      "Special cases aren't special enough to break the rules.\n",
      "Although practicality beats purity.\n",
      "Errors should never pass silently.\n",
      "Unless explicitly silenced.\n",
      "In the face of ambiguity, refuse the temptation to guess.\n",
      "There should be one-- and preferably only one --obvious way to do it.\n",
      "Although that way may not be obvious at first unless you're Dutch.\n",
      "Now is better than never.\n",
      "Although never is often better than *right* now.\n",
      "If the implementation is hard to explain, it's a bad idea.\n",
      "If the implementation is easy to explain, it may be a good idea.\n",
      "Namespaces are one honking great idea -- let's do more of those!\n"
     ]
    }
   ],
   "source": [
    "import this"
   ]
  },
  {
   "cell_type": "markdown",
   "id": "d1fe5a48",
   "metadata": {
    "slideshow": {
     "slide_type": "slide"
    }
   },
   "source": [
    "## Conocimientos Básicos de Python: Variables y Tipos"
   ]
  },
  {
   "cell_type": "code",
   "execution_count": 2,
   "id": "65ccbc14",
   "metadata": {
    "execution": {
     "iopub.execute_input": "2021-09-28T20:16:06.922169Z",
     "iopub.status.busy": "2021-09-28T20:16:06.921006Z",
     "iopub.status.idle": "2021-09-28T20:16:06.923844Z",
     "shell.execute_reply": "2021-09-28T20:16:06.923410Z"
    },
    "slideshow": {
     "slide_type": "slide"
    }
   },
   "outputs": [
    {
     "name": "stdout",
     "output_type": "stream",
     "text": [
      "Hello World!\n"
     ]
    }
   ],
   "source": [
    "# Este es un comentario\n",
    "\n",
    "print(\"Hello World!\")"
   ]
  },
  {
   "cell_type": "markdown",
   "id": "ec2a9b1f",
   "metadata": {},
   "source": [
    "Los strings en python puden escribirse tanto con comillas simples (`'`) como comillas dobles (`\"`). Normalmente vemos texto entre comillas triples para escribir _docstrings_, segun la guia de estilo de Python, el PEP8."
   ]
  },
  {
   "cell_type": "code",
   "execution_count": 3,
   "id": "78760372",
   "metadata": {
    "execution": {
     "iopub.execute_input": "2021-09-28T20:16:06.934965Z",
     "iopub.status.busy": "2021-09-28T20:16:06.933908Z",
     "iopub.status.idle": "2021-09-28T20:16:06.937039Z",
     "shell.execute_reply": "2021-09-28T20:16:06.936554Z"
    }
   },
   "outputs": [
    {
     "data": {
      "text/plain": [
       "'Esto es un docstring.\\n'"
      ]
     },
     "execution_count": 3,
     "metadata": {},
     "output_type": "execute_result"
    }
   ],
   "source": [
    "\"\"\"Esto es un docstring.\n",
    "\"\"\""
   ]
  },
  {
   "cell_type": "markdown",
   "id": "ec0b11a2",
   "metadata": {},
   "source": [
    "### Declaracion de variables"
   ]
  },
  {
   "cell_type": "code",
   "execution_count": 4,
   "id": "8e0474d8",
   "metadata": {
    "execution": {
     "iopub.execute_input": "2021-09-28T20:16:06.942104Z",
     "iopub.status.busy": "2021-09-28T20:16:06.940818Z",
     "iopub.status.idle": "2021-09-28T20:16:06.943795Z",
     "shell.execute_reply": "2021-09-28T20:16:06.943355Z"
    }
   },
   "outputs": [
    {
     "name": "stdout",
     "output_type": "stream",
     "text": [
      "Hola\n"
     ]
    }
   ],
   "source": [
    "string = 'Hola'\n",
    "print(string)"
   ]
  },
  {
   "cell_type": "code",
   "execution_count": 5,
   "id": "00024d3f",
   "metadata": {
    "execution": {
     "iopub.execute_input": "2021-09-28T20:16:06.948770Z",
     "iopub.status.busy": "2021-09-28T20:16:06.947596Z",
     "iopub.status.idle": "2021-09-28T20:16:06.950434Z",
     "shell.execute_reply": "2021-09-28T20:16:06.950002Z"
    }
   },
   "outputs": [
    {
     "name": "stdout",
     "output_type": "stream",
     "text": [
      "1\n"
     ]
    }
   ],
   "source": [
    "entero = 1\n",
    "print(entero)"
   ]
  },
  {
   "cell_type": "code",
   "execution_count": 6,
   "id": "f5fa7ba6",
   "metadata": {
    "execution": {
     "iopub.execute_input": "2021-09-28T20:16:06.954642Z",
     "iopub.status.busy": "2021-09-28T20:16:06.954151Z",
     "iopub.status.idle": "2021-09-28T20:16:06.955818Z",
     "shell.execute_reply": "2021-09-28T20:16:06.956208Z"
    }
   },
   "outputs": [
    {
     "name": "stdout",
     "output_type": "stream",
     "text": [
      "1.0\n"
     ]
    }
   ],
   "source": [
    "flotante = 1.0\n",
    "print(flotante)"
   ]
  },
  {
   "cell_type": "code",
   "execution_count": 7,
   "id": "0a562dab",
   "metadata": {
    "execution": {
     "iopub.execute_input": "2021-09-28T20:16:06.960016Z",
     "iopub.status.busy": "2021-09-28T20:16:06.959523Z",
     "iopub.status.idle": "2021-09-28T20:16:06.961168Z",
     "shell.execute_reply": "2021-09-28T20:16:06.961647Z"
    }
   },
   "outputs": [
    {
     "name": "stdout",
     "output_type": "stream",
     "text": [
      "(1, 1.0)\n"
     ]
    }
   ],
   "source": [
    "tupla = (entero, flotante)\n",
    "print(tupla)"
   ]
  },
  {
   "cell_type": "code",
   "execution_count": 8,
   "id": "e452f075",
   "metadata": {
    "execution": {
     "iopub.execute_input": "2021-09-28T20:16:06.965101Z",
     "iopub.status.busy": "2021-09-28T20:16:06.964580Z",
     "iopub.status.idle": "2021-09-28T20:16:06.966736Z",
     "shell.execute_reply": "2021-09-28T20:16:06.967139Z"
    }
   },
   "outputs": [
    {
     "name": "stdout",
     "output_type": "stream",
     "text": [
      "(1, 1.0, 'Hola')\n"
     ]
    }
   ],
   "source": [
    "nupla = (entero, flotante, string)\n",
    "print(nupla)"
   ]
  },
  {
   "cell_type": "code",
   "execution_count": 9,
   "id": "ca00bace",
   "metadata": {
    "execution": {
     "iopub.execute_input": "2021-09-28T20:16:06.971106Z",
     "iopub.status.busy": "2021-09-28T20:16:06.970616Z",
     "iopub.status.idle": "2021-09-28T20:16:06.972256Z",
     "shell.execute_reply": "2021-09-28T20:16:06.972703Z"
    }
   },
   "outputs": [
    {
     "name": "stdout",
     "output_type": "stream",
     "text": [
      "[1, 1.0, 'Hola']\n"
     ]
    }
   ],
   "source": [
    "lista = [entero, flotante, string]\n",
    "print(lista)"
   ]
  },
  {
   "cell_type": "code",
   "execution_count": 10,
   "id": "361b44af",
   "metadata": {
    "execution": {
     "iopub.execute_input": "2021-09-28T20:16:06.976484Z",
     "iopub.status.busy": "2021-09-28T20:16:06.975988Z",
     "iopub.status.idle": "2021-09-28T20:16:06.977665Z",
     "shell.execute_reply": "2021-09-28T20:16:06.978137Z"
    }
   },
   "outputs": [
    {
     "name": "stdout",
     "output_type": "stream",
     "text": [
      "{'1': (1, 1.0), 50: (1, 1.0, 'Hola'), '3': 1}\n"
     ]
    }
   ],
   "source": [
    "diccionario = {'1': tupla, 50: nupla, '3': entero}\n",
    "print(diccionario)"
   ]
  },
  {
   "cell_type": "code",
   "execution_count": 11,
   "id": "4486d475",
   "metadata": {
    "execution": {
     "iopub.execute_input": "2021-09-28T20:16:06.981540Z",
     "iopub.status.busy": "2021-09-28T20:16:06.981050Z",
     "iopub.status.idle": "2021-09-28T20:16:06.985135Z",
     "shell.execute_reply": "2021-09-28T20:16:06.984722Z"
    }
   },
   "outputs": [
    {
     "name": "stdout",
     "output_type": "stream",
     "text": [
      "{1, 2}\n"
     ]
    }
   ],
   "source": [
    "conjunto = set([1, 2])\n",
    "print(conjunto)"
   ]
  },
  {
   "cell_type": "code",
   "execution_count": 12,
   "id": "92f1176b",
   "metadata": {
    "execution": {
     "iopub.execute_input": "2021-09-28T20:16:06.988893Z",
     "iopub.status.busy": "2021-09-28T20:16:06.988354Z",
     "iopub.status.idle": "2021-09-28T20:16:06.991176Z",
     "shell.execute_reply": "2021-09-28T20:16:06.990742Z"
    }
   },
   "outputs": [
    {
     "name": "stdout",
     "output_type": "stream",
     "text": [
      "True\n"
     ]
    }
   ],
   "source": [
    "booleano = True\n",
    "print(booleano)"
   ]
  },
  {
   "cell_type": "code",
   "execution_count": 13,
   "id": "4a4b5281",
   "metadata": {
    "execution": {
     "iopub.execute_input": "2021-09-28T20:16:06.993821Z",
     "iopub.status.busy": "2021-09-28T20:16:06.993338Z",
     "iopub.status.idle": "2021-09-28T20:16:06.996708Z",
     "shell.execute_reply": "2021-09-28T20:16:06.996259Z"
    }
   },
   "outputs": [
    {
     "name": "stdout",
     "output_type": "stream",
     "text": [
      "None\n"
     ]
    }
   ],
   "source": [
    "nada = None\n",
    "print(nada)"
   ]
  },
  {
   "cell_type": "markdown",
   "id": "15243989",
   "metadata": {},
   "source": [
    "Ojo que las variables pueden cambiar de tipo!"
   ]
  },
  {
   "cell_type": "code",
   "execution_count": 14,
   "id": "00609b6f",
   "metadata": {
    "execution": {
     "iopub.execute_input": "2021-09-28T20:16:07.000443Z",
     "iopub.status.busy": "2021-09-28T20:16:06.999955Z",
     "iopub.status.idle": "2021-09-28T20:16:07.002089Z",
     "shell.execute_reply": "2021-09-28T20:16:07.002500Z"
    }
   },
   "outputs": [
    {
     "name": "stdout",
     "output_type": "stream",
     "text": [
      "1\n",
      "<class 'int'>\n"
     ]
    }
   ],
   "source": [
    "elemento = 1\n",
    "print(elemento)\n",
    "print(type(elemento))"
   ]
  },
  {
   "cell_type": "code",
   "execution_count": 15,
   "id": "3f78fe10",
   "metadata": {
    "execution": {
     "iopub.execute_input": "2021-09-28T20:16:07.006694Z",
     "iopub.status.busy": "2021-09-28T20:16:07.006177Z",
     "iopub.status.idle": "2021-09-28T20:16:07.008109Z",
     "shell.execute_reply": "2021-09-28T20:16:07.008499Z"
    }
   },
   "outputs": [
    {
     "name": "stdout",
     "output_type": "stream",
     "text": [
      "1\n",
      "<class 'str'>\n"
     ]
    }
   ],
   "source": [
    "elemento = str(1)\n",
    "print(elemento)\n",
    "print(type(elemento))"
   ]
  },
  {
   "cell_type": "code",
   "execution_count": 16,
   "id": "7097a7eb",
   "metadata": {
    "execution": {
     "iopub.execute_input": "2021-09-28T20:16:07.012511Z",
     "iopub.status.busy": "2021-09-28T20:16:07.012023Z",
     "iopub.status.idle": "2021-09-28T20:16:07.013687Z",
     "shell.execute_reply": "2021-09-28T20:16:07.014157Z"
    }
   },
   "outputs": [
    {
     "name": "stdout",
     "output_type": "stream",
     "text": [
      "[2]\n",
      "<class 'list'>\n"
     ]
    }
   ],
   "source": [
    "elemento = [2]\n",
    "\n",
    "print(elemento)\n",
    "print(type(elemento))"
   ]
  },
  {
   "cell_type": "markdown",
   "id": "29bebb0d",
   "metadata": {},
   "source": [
    "### Tipos basicos"
   ]
  },
  {
   "cell_type": "markdown",
   "id": "e702d063",
   "metadata": {
    "slideshow": {
     "slide_type": "slide"
    }
   },
   "source": [
    "#### Listas de Python"
   ]
  },
  {
   "cell_type": "code",
   "execution_count": 17,
   "id": "cfcb4dbd",
   "metadata": {
    "execution": {
     "iopub.execute_input": "2021-09-28T20:16:07.018260Z",
     "iopub.status.busy": "2021-09-28T20:16:07.017758Z",
     "iopub.status.idle": "2021-09-28T20:16:07.019702Z",
     "shell.execute_reply": "2021-09-28T20:16:07.020075Z"
    }
   },
   "outputs": [
    {
     "data": {
      "text/plain": [
       "[]"
      ]
     },
     "execution_count": 17,
     "metadata": {},
     "output_type": "execute_result"
    }
   ],
   "source": [
    "lista = list()\n",
    "lista"
   ]
  },
  {
   "cell_type": "code",
   "execution_count": 18,
   "id": "7cdc0fb1",
   "metadata": {
    "execution": {
     "iopub.execute_input": "2021-09-28T20:16:07.023741Z",
     "iopub.status.busy": "2021-09-28T20:16:07.023245Z",
     "iopub.status.idle": "2021-09-28T20:16:07.026134Z",
     "shell.execute_reply": "2021-09-28T20:16:07.025708Z"
    },
    "slideshow": {
     "slide_type": "slide"
    }
   },
   "outputs": [
    {
     "data": {
      "text/plain": [
       "[]"
      ]
     },
     "execution_count": 18,
     "metadata": {},
     "output_type": "execute_result"
    }
   ],
   "source": [
    "lista = []\n",
    "lista"
   ]
  },
  {
   "cell_type": "code",
   "execution_count": 19,
   "id": "d06fa37d",
   "metadata": {
    "execution": {
     "iopub.execute_input": "2021-09-28T20:16:07.030669Z",
     "iopub.status.busy": "2021-09-28T20:16:07.030133Z",
     "iopub.status.idle": "2021-09-28T20:16:07.031910Z",
     "shell.execute_reply": "2021-09-28T20:16:07.032331Z"
    },
    "slideshow": {
     "slide_type": "slide"
    }
   },
   "outputs": [
    {
     "data": {
      "text/plain": [
       "[1, 2, 3, 4]"
      ]
     },
     "execution_count": 19,
     "metadata": {},
     "output_type": "execute_result"
    }
   ],
   "source": [
    "lista = [1, 2, 3, 4]\n",
    "lista"
   ]
  },
  {
   "cell_type": "code",
   "execution_count": 20,
   "id": "05f481c9",
   "metadata": {
    "execution": {
     "iopub.execute_input": "2021-09-28T20:16:07.037017Z",
     "iopub.status.busy": "2021-09-28T20:16:07.036481Z",
     "iopub.status.idle": "2021-09-28T20:16:07.038422Z",
     "shell.execute_reply": "2021-09-28T20:16:07.038821Z"
    },
    "slideshow": {
     "slide_type": "slide"
    }
   },
   "outputs": [
    {
     "data": {
      "text/plain": [
       "[1, 2, 3, 4, 1, 'dos', 3.0]"
      ]
     },
     "execution_count": 20,
     "metadata": {},
     "output_type": "execute_result"
    }
   ],
   "source": [
    "lista.append(1)  # Inserto un 1 al final\n",
    "lista.append(\"dos\")  # Inserto un \"dos\" al final\n",
    "lista.append(3.0)  # Inserto un 3.0 al final\n",
    "lista"
   ]
  },
  {
   "cell_type": "code",
   "execution_count": 21,
   "id": "6733fb65",
   "metadata": {
    "execution": {
     "iopub.execute_input": "2021-09-28T20:16:07.042763Z",
     "iopub.status.busy": "2021-09-28T20:16:07.042271Z",
     "iopub.status.idle": "2021-09-28T20:16:07.046118Z",
     "shell.execute_reply": "2021-09-28T20:16:07.045708Z"
    }
   },
   "outputs": [
    {
     "name": "stdout",
     "output_type": "stream",
     "text": [
      "[1, 2, 10, 3, 4, 1, 'dos', 3.0]\n"
     ]
    }
   ],
   "source": [
    "lista.insert(2, 10)  # Inserto en posicion 2 un 10\n",
    "print(lista)"
   ]
  },
  {
   "cell_type": "code",
   "execution_count": 22,
   "id": "352a6d16",
   "metadata": {
    "execution": {
     "iopub.execute_input": "2021-09-28T20:16:07.050141Z",
     "iopub.status.busy": "2021-09-28T20:16:07.049650Z",
     "iopub.status.idle": "2021-09-28T20:16:07.053068Z",
     "shell.execute_reply": "2021-09-28T20:16:07.053473Z"
    }
   },
   "outputs": [
    {
     "data": {
      "text/plain": [
       "8"
      ]
     },
     "execution_count": 22,
     "metadata": {},
     "output_type": "execute_result"
    }
   ],
   "source": [
    "len(lista)"
   ]
  },
  {
   "cell_type": "code",
   "execution_count": 23,
   "id": "3d9f4063",
   "metadata": {
    "execution": {
     "iopub.execute_input": "2021-09-28T20:16:07.057282Z",
     "iopub.status.busy": "2021-09-28T20:16:07.056773Z",
     "iopub.status.idle": "2021-09-28T20:16:07.058783Z",
     "shell.execute_reply": "2021-09-28T20:16:07.059187Z"
    }
   },
   "outputs": [
    {
     "data": {
      "text/plain": [
       "3.0"
      ]
     },
     "execution_count": 23,
     "metadata": {},
     "output_type": "execute_result"
    }
   ],
   "source": [
    "lista.pop()"
   ]
  },
  {
   "cell_type": "code",
   "execution_count": 24,
   "id": "d4d213ee",
   "metadata": {
    "execution": {
     "iopub.execute_input": "2021-09-28T20:16:07.062951Z",
     "iopub.status.busy": "2021-09-28T20:16:07.062459Z",
     "iopub.status.idle": "2021-09-28T20:16:07.067171Z",
     "shell.execute_reply": "2021-09-28T20:16:07.066733Z"
    }
   },
   "outputs": [
    {
     "data": {
      "text/plain": [
       "[1, 2, 10, 3, 4, 1, 'dos']"
      ]
     },
     "execution_count": 24,
     "metadata": {},
     "output_type": "execute_result"
    }
   ],
   "source": [
    "lista"
   ]
  },
  {
   "cell_type": "code",
   "execution_count": 25,
   "id": "d2cbe159",
   "metadata": {
    "execution": {
     "iopub.execute_input": "2021-09-28T20:16:07.071702Z",
     "iopub.status.busy": "2021-09-28T20:16:07.071190Z",
     "iopub.status.idle": "2021-09-28T20:16:07.072994Z",
     "shell.execute_reply": "2021-09-28T20:16:07.073397Z"
    }
   },
   "outputs": [
    {
     "data": {
      "text/plain": [
       "2"
      ]
     },
     "execution_count": 25,
     "metadata": {},
     "output_type": "execute_result"
    }
   ],
   "source": [
    "lista.index(10)"
   ]
  },
  {
   "cell_type": "code",
   "execution_count": 26,
   "id": "9545c0b4",
   "metadata": {
    "execution": {
     "iopub.execute_input": "2021-09-28T20:16:07.077351Z",
     "iopub.status.busy": "2021-09-28T20:16:07.076851Z",
     "iopub.status.idle": "2021-09-28T20:16:07.079738Z",
     "shell.execute_reply": "2021-09-28T20:16:07.079304Z"
    }
   },
   "outputs": [
    {
     "data": {
      "text/plain": [
       "[1, 2, 3, 4, 1, 'dos']"
      ]
     },
     "execution_count": 26,
     "metadata": {},
     "output_type": "execute_result"
    }
   ],
   "source": [
    "lista.remove(10)\n",
    "lista"
   ]
  },
  {
   "cell_type": "code",
   "execution_count": 27,
   "id": "0bce38ce",
   "metadata": {
    "execution": {
     "iopub.execute_input": "2021-09-28T20:16:07.083056Z",
     "iopub.status.busy": "2021-09-28T20:16:07.082561Z",
     "iopub.status.idle": "2021-09-28T20:16:07.147590Z",
     "shell.execute_reply": "2021-09-28T20:16:07.148088Z"
    },
    "tags": [
     "raises-exception"
    ]
   },
   "outputs": [
    {
     "name": "stdout",
     "output_type": "stream",
     "text": [
      "1\n",
      "2\n",
      "2\n",
      "3\n",
      "3\n",
      "4\n",
      "4\n",
      "5\n",
      "1\n",
      "2\n",
      "dos\n"
     ]
    },
    {
     "ename": "TypeError",
     "evalue": "can only concatenate str (not \"int\") to str",
     "output_type": "error",
     "traceback": [
      "\u001b[0;31m---------------------------------------------------------------------------\u001b[0m",
      "\u001b[0;31mTypeError\u001b[0m                                 Traceback (most recent call last)",
      "\u001b[0;32m/tmp/ipykernel_1934/1783555086.py\u001b[0m in \u001b[0;36m<module>\u001b[0;34m\u001b[0m\n\u001b[1;32m      1\u001b[0m \u001b[0;32mfor\u001b[0m \u001b[0melemento\u001b[0m \u001b[0;32min\u001b[0m \u001b[0mlista\u001b[0m\u001b[0;34m:\u001b[0m\u001b[0;34m\u001b[0m\u001b[0;34m\u001b[0m\u001b[0m\n\u001b[1;32m      2\u001b[0m     \u001b[0mprint\u001b[0m\u001b[0;34m(\u001b[0m\u001b[0melemento\u001b[0m\u001b[0;34m)\u001b[0m\u001b[0;34m\u001b[0m\u001b[0;34m\u001b[0m\u001b[0m\n\u001b[0;32m----> 3\u001b[0;31m     \u001b[0mprint\u001b[0m\u001b[0;34m(\u001b[0m\u001b[0melemento\u001b[0m \u001b[0;34m+\u001b[0m \u001b[0;36m1\u001b[0m\u001b[0;34m)\u001b[0m\u001b[0;34m\u001b[0m\u001b[0;34m\u001b[0m\u001b[0m\n\u001b[0m",
      "\u001b[0;31mTypeError\u001b[0m: can only concatenate str (not \"int\") to str"
     ]
    }
   ],
   "source": [
    "for elemento in lista:\n",
    "    print(elemento)\n",
    "    print(elemento + 1)"
   ]
  },
  {
   "cell_type": "code",
   "execution_count": 28,
   "id": "dab37748",
   "metadata": {
    "execution": {
     "iopub.execute_input": "2021-09-28T20:16:07.153684Z",
     "iopub.status.busy": "2021-09-28T20:16:07.152751Z",
     "iopub.status.idle": "2021-09-28T20:16:07.155306Z",
     "shell.execute_reply": "2021-09-28T20:16:07.155677Z"
    }
   },
   "outputs": [
    {
     "data": {
      "text/plain": [
       "[1, 2, 3, 4, 1, 'dos']"
      ]
     },
     "execution_count": 28,
     "metadata": {},
     "output_type": "execute_result"
    }
   ],
   "source": [
    "lista"
   ]
  },
  {
   "cell_type": "code",
   "execution_count": 29,
   "id": "fcb4bc3f",
   "metadata": {
    "execution": {
     "iopub.execute_input": "2021-09-28T20:16:07.161444Z",
     "iopub.status.busy": "2021-09-28T20:16:07.160209Z",
     "iopub.status.idle": "2021-09-28T20:16:07.163154Z",
     "shell.execute_reply": "2021-09-28T20:16:07.162714Z"
    }
   },
   "outputs": [
    {
     "name": "stdout",
     "output_type": "stream",
     "text": [
      "0-ésimo elemento: 1\n",
      "1-ésimo elemento: 2\n",
      "2-ésimo elemento: 3\n",
      "3-ésimo elemento: 4\n",
      "4-ésimo elemento: 1\n",
      "5-ésimo elemento: dos\n"
     ]
    }
   ],
   "source": [
    "for i, elemento in enumerate(lista):\n",
    "    print(f\"{i}-ésimo elemento: {elemento}\")"
   ]
  },
  {
   "cell_type": "code",
   "execution_count": 30,
   "id": "5975f46c",
   "metadata": {
    "execution": {
     "iopub.execute_input": "2021-09-28T20:16:07.169889Z",
     "iopub.status.busy": "2021-09-28T20:16:07.166183Z",
     "iopub.status.idle": "2021-09-28T20:16:07.171836Z",
     "shell.execute_reply": "2021-09-28T20:16:07.172254Z"
    },
    "tags": [
     "raises-exception"
    ]
   },
   "outputs": [
    {
     "ename": "TypeError",
     "evalue": "'<' not supported between instances of 'str' and 'int'",
     "output_type": "error",
     "traceback": [
      "\u001b[0;31m---------------------------------------------------------------------------\u001b[0m",
      "\u001b[0;31mTypeError\u001b[0m                                 Traceback (most recent call last)",
      "\u001b[0;32m/tmp/ipykernel_1934/2266425520.py\u001b[0m in \u001b[0;36m<module>\u001b[0;34m\u001b[0m\n\u001b[0;32m----> 1\u001b[0;31m \u001b[0msorted\u001b[0m\u001b[0;34m(\u001b[0m\u001b[0mlista\u001b[0m\u001b[0;34m)\u001b[0m\u001b[0;34m\u001b[0m\u001b[0;34m\u001b[0m\u001b[0m\n\u001b[0m",
      "\u001b[0;31mTypeError\u001b[0m: '<' not supported between instances of 'str' and 'int'"
     ]
    }
   ],
   "source": [
    "sorted(lista)"
   ]
  },
  {
   "cell_type": "code",
   "execution_count": 31,
   "id": "420fb90e",
   "metadata": {
    "execution": {
     "iopub.execute_input": "2021-09-28T20:16:07.176755Z",
     "iopub.status.busy": "2021-09-28T20:16:07.175550Z",
     "iopub.status.idle": "2021-09-28T20:16:07.177336Z",
     "shell.execute_reply": "2021-09-28T20:16:07.177739Z"
    }
   },
   "outputs": [],
   "source": [
    "lista.remove(\"dos\")"
   ]
  },
  {
   "cell_type": "code",
   "execution_count": 32,
   "id": "f59c1b53",
   "metadata": {
    "execution": {
     "iopub.execute_input": "2021-09-28T20:16:07.182968Z",
     "iopub.status.busy": "2021-09-28T20:16:07.182080Z",
     "iopub.status.idle": "2021-09-28T20:16:07.184610Z",
     "shell.execute_reply": "2021-09-28T20:16:07.185043Z"
    }
   },
   "outputs": [
    {
     "data": {
      "text/plain": [
       "[1, 1, 2, 3, 4]"
      ]
     },
     "execution_count": 32,
     "metadata": {},
     "output_type": "execute_result"
    }
   ],
   "source": [
    "sorted(lista)"
   ]
  },
  {
   "cell_type": "code",
   "execution_count": 33,
   "id": "a4e3f2ee",
   "metadata": {
    "execution": {
     "iopub.execute_input": "2021-09-28T20:16:07.190300Z",
     "iopub.status.busy": "2021-09-28T20:16:07.189402Z",
     "iopub.status.idle": "2021-09-28T20:16:07.191886Z",
     "shell.execute_reply": "2021-09-28T20:16:07.192283Z"
    }
   },
   "outputs": [
    {
     "data": {
      "text/plain": [
       "[1, 1, 2, 3, 4]"
      ]
     },
     "execution_count": 33,
     "metadata": {},
     "output_type": "execute_result"
    }
   ],
   "source": [
    "lista.sort()\n",
    "lista"
   ]
  },
  {
   "cell_type": "markdown",
   "id": "eb12e18b",
   "metadata": {
    "slideshow": {
     "slide_type": "slide"
    }
   },
   "source": [
    "#### Tuplas de Python\n",
    "\n",
    "Las tuplas son inmutables. No se pueden agregar elementos luego de creadas."
   ]
  },
  {
   "cell_type": "code",
   "execution_count": 34,
   "id": "37f03cce",
   "metadata": {
    "execution": {
     "iopub.execute_input": "2021-09-28T20:16:07.200233Z",
     "iopub.status.busy": "2021-09-28T20:16:07.197788Z",
     "iopub.status.idle": "2021-09-28T20:16:07.203299Z",
     "shell.execute_reply": "2021-09-28T20:16:07.202849Z"
    },
    "slideshow": {
     "slide_type": "slide"
    },
    "tags": [
     "raises-exception"
    ]
   },
   "outputs": [
    {
     "name": "stdout",
     "output_type": "stream",
     "text": [
      "(1, 2)\n",
      "1\n",
      "2\n"
     ]
    },
    {
     "ename": "TypeError",
     "evalue": "'tuple' object does not support item assignment",
     "output_type": "error",
     "traceback": [
      "\u001b[0;31m---------------------------------------------------------------------------\u001b[0m",
      "\u001b[0;31mTypeError\u001b[0m                                 Traceback (most recent call last)",
      "\u001b[0;32m/tmp/ipykernel_1934/3644040918.py\u001b[0m in \u001b[0;36m<module>\u001b[0;34m\u001b[0m\n\u001b[1;32m      5\u001b[0m \u001b[0mprint\u001b[0m\u001b[0;34m(\u001b[0m\u001b[0mtupla\u001b[0m\u001b[0;34m[\u001b[0m\u001b[0;36m1\u001b[0m\u001b[0;34m]\u001b[0m\u001b[0;34m)\u001b[0m\u001b[0;34m\u001b[0m\u001b[0;34m\u001b[0m\u001b[0m\n\u001b[1;32m      6\u001b[0m \u001b[0;34m\u001b[0m\u001b[0m\n\u001b[0;32m----> 7\u001b[0;31m \u001b[0mtupla\u001b[0m\u001b[0;34m[\u001b[0m\u001b[0;36m1\u001b[0m\u001b[0;34m]\u001b[0m \u001b[0;34m=\u001b[0m \u001b[0;36m3\u001b[0m  \u001b[0;31m# Falla. No se puede mutar\u001b[0m\u001b[0;34m\u001b[0m\u001b[0;34m\u001b[0m\u001b[0m\n\u001b[0m",
      "\u001b[0;31mTypeError\u001b[0m: 'tuple' object does not support item assignment"
     ]
    }
   ],
   "source": [
    "tupla = (1, 2)\n",
    "\n",
    "print(tupla)\n",
    "print(tupla[0])\n",
    "print(tupla[1])\n",
    "\n",
    "tupla[1] = 3  # Falla. No se puede mutar"
   ]
  },
  {
   "cell_type": "code",
   "execution_count": 35,
   "id": "474b83e2",
   "metadata": {
    "execution": {
     "iopub.execute_input": "2021-09-28T20:16:07.208444Z",
     "iopub.status.busy": "2021-09-28T20:16:07.207538Z",
     "iopub.status.idle": "2021-09-28T20:16:07.210069Z",
     "shell.execute_reply": "2021-09-28T20:16:07.210467Z"
    }
   },
   "outputs": [
    {
     "data": {
      "text/plain": [
       "[1, 2]"
      ]
     },
     "execution_count": 35,
     "metadata": {},
     "output_type": "execute_result"
    }
   ],
   "source": [
    "l = [1, 2]\n",
    "l"
   ]
  },
  {
   "cell_type": "code",
   "execution_count": 36,
   "id": "8a524e00",
   "metadata": {
    "execution": {
     "iopub.execute_input": "2021-09-28T20:16:07.215512Z",
     "iopub.status.busy": "2021-09-28T20:16:07.214635Z",
     "iopub.status.idle": "2021-09-28T20:16:07.217120Z",
     "shell.execute_reply": "2021-09-28T20:16:07.217524Z"
    }
   },
   "outputs": [
    {
     "data": {
      "text/plain": [
       "[1, 3]"
      ]
     },
     "execution_count": 36,
     "metadata": {},
     "output_type": "execute_result"
    }
   ],
   "source": [
    "l[1] = 3\n",
    "l"
   ]
  },
  {
   "cell_type": "markdown",
   "id": "b66b2c09",
   "metadata": {
    "slideshow": {
     "slide_type": "slide"
    }
   },
   "source": [
    "#### Diferencia entre lista y tupla\n",
    "Las listas se caracterizan por ser mutables, es decir, se puede cambiar su contenido en tiempo de ejecución, mientras que las tuplas son inmutables ya que no es posible modificar el contenido una vez creada."
   ]
  },
  {
   "cell_type": "markdown",
   "id": "94bf2a3b",
   "metadata": {},
   "source": [
    "#### Slices\n",
    "\n",
    "**Valen para listas, tuplas o strings (_segmentos_)**"
   ]
  },
  {
   "cell_type": "code",
   "execution_count": 37,
   "id": "34d84de5",
   "metadata": {
    "execution": {
     "iopub.execute_input": "2021-09-28T20:16:07.222210Z",
     "iopub.status.busy": "2021-09-28T20:16:07.221044Z",
     "iopub.status.idle": "2021-09-28T20:16:07.222792Z",
     "shell.execute_reply": "2021-09-28T20:16:07.223198Z"
    }
   },
   "outputs": [],
   "source": [
    "numeros = [0, 1, 2, 3, 4, 5, 6, 7, 8, 9, 10]"
   ]
  },
  {
   "cell_type": "code",
   "execution_count": 38,
   "id": "89cf37f7",
   "metadata": {
    "execution": {
     "iopub.execute_input": "2021-09-28T20:16:07.227936Z",
     "iopub.status.busy": "2021-09-28T20:16:07.226794Z",
     "iopub.status.idle": "2021-09-28T20:16:07.229645Z",
     "shell.execute_reply": "2021-09-28T20:16:07.229211Z"
    }
   },
   "outputs": [
    {
     "name": "stdout",
     "output_type": "stream",
     "text": [
      "[0, 1, 2, 3, 4, 5, 6, 7, 8, 9, 10]\n"
     ]
    }
   ],
   "source": [
    "print(numeros)"
   ]
  },
  {
   "cell_type": "code",
   "execution_count": 39,
   "id": "a4b9e905",
   "metadata": {
    "execution": {
     "iopub.execute_input": "2021-09-28T20:16:07.234458Z",
     "iopub.status.busy": "2021-09-28T20:16:07.233337Z",
     "iopub.status.idle": "2021-09-28T20:16:07.236142Z",
     "shell.execute_reply": "2021-09-28T20:16:07.235705Z"
    }
   },
   "outputs": [
    {
     "name": "stdout",
     "output_type": "stream",
     "text": [
      "2\n"
     ]
    }
   ],
   "source": [
    "print(numeros[2])  # Imprimo elemento en la posición 2"
   ]
  },
  {
   "cell_type": "code",
   "execution_count": 40,
   "id": "9c046958",
   "metadata": {
    "execution": {
     "iopub.execute_input": "2021-09-28T20:16:07.240416Z",
     "iopub.status.busy": "2021-09-28T20:16:07.238087Z",
     "iopub.status.idle": "2021-09-28T20:16:07.242398Z",
     "shell.execute_reply": "2021-09-28T20:16:07.242799Z"
    }
   },
   "outputs": [
    {
     "data": {
      "text/plain": [
       "10"
      ]
     },
     "execution_count": 40,
     "metadata": {},
     "output_type": "execute_result"
    }
   ],
   "source": [
    "numeros[len(numeros) - 1]"
   ]
  },
  {
   "cell_type": "code",
   "execution_count": 41,
   "id": "e6bb2880",
   "metadata": {
    "execution": {
     "iopub.execute_input": "2021-09-28T20:16:07.247622Z",
     "iopub.status.busy": "2021-09-28T20:16:07.246473Z",
     "iopub.status.idle": "2021-09-28T20:16:07.249348Z",
     "shell.execute_reply": "2021-09-28T20:16:07.248904Z"
    },
    "lines_to_next_cell": 2
   },
   "outputs": [
    {
     "name": "stdout",
     "output_type": "stream",
     "text": [
      "10\n"
     ]
    }
   ],
   "source": [
    "print(numeros[-1])  # # Imprimo elemento en la última posición"
   ]
  },
  {
   "cell_type": "code",
   "execution_count": 42,
   "id": "eb5731b2",
   "metadata": {
    "execution": {
     "iopub.execute_input": "2021-09-28T20:16:07.254288Z",
     "iopub.status.busy": "2021-09-28T20:16:07.253401Z",
     "iopub.status.idle": "2021-09-28T20:16:07.255913Z",
     "shell.execute_reply": "2021-09-28T20:16:07.256318Z"
    },
    "lines_to_next_cell": 2
   },
   "outputs": [
    {
     "data": {
      "text/plain": [
       "9"
      ]
     },
     "execution_count": 42,
     "metadata": {},
     "output_type": "execute_result"
    }
   ],
   "source": [
    "numeros[-2]"
   ]
  },
  {
   "cell_type": "code",
   "execution_count": 43,
   "id": "591cb134",
   "metadata": {
    "execution": {
     "iopub.execute_input": "2021-09-28T20:16:07.261460Z",
     "iopub.status.busy": "2021-09-28T20:16:07.260314Z",
     "iopub.status.idle": "2021-09-28T20:16:07.263118Z",
     "shell.execute_reply": "2021-09-28T20:16:07.262690Z"
    }
   },
   "outputs": [
    {
     "name": "stdout",
     "output_type": "stream",
     "text": [
      "[0, 1, 2]\n"
     ]
    }
   ],
   "source": [
    "print(numeros[0:3])  # Imprimo de la pos 0 a la pos 2"
   ]
  },
  {
   "cell_type": "code",
   "execution_count": 44,
   "id": "fffe2e78",
   "metadata": {
    "execution": {
     "iopub.execute_input": "2021-09-28T20:16:07.266664Z",
     "iopub.status.busy": "2021-09-28T20:16:07.266169Z",
     "iopub.status.idle": "2021-09-28T20:16:07.268733Z",
     "shell.execute_reply": "2021-09-28T20:16:07.268271Z"
    }
   },
   "outputs": [
    {
     "name": "stdout",
     "output_type": "stream",
     "text": [
      "[7, 8]\n"
     ]
    }
   ],
   "source": [
    "print(numeros[-4:-2])"
   ]
  },
  {
   "cell_type": "code",
   "execution_count": 45,
   "id": "b501f348",
   "metadata": {
    "execution": {
     "iopub.execute_input": "2021-09-28T20:16:07.272358Z",
     "iopub.status.busy": "2021-09-28T20:16:07.271869Z",
     "iopub.status.idle": "2021-09-28T20:16:07.273506Z",
     "shell.execute_reply": "2021-09-28T20:16:07.273992Z"
    }
   },
   "outputs": [
    {
     "name": "stdout",
     "output_type": "stream",
     "text": [
      "[0, 1, 2, 3, 4, 5, 6, 7, 8, 9, 10]\n"
     ]
    }
   ],
   "source": [
    "print(numeros[0:80])"
   ]
  },
  {
   "cell_type": "code",
   "execution_count": 46,
   "id": "9bd241fb",
   "metadata": {
    "execution": {
     "iopub.execute_input": "2021-09-28T20:16:07.277786Z",
     "iopub.status.busy": "2021-09-28T20:16:07.277294Z",
     "iopub.status.idle": "2021-09-28T20:16:07.279138Z",
     "shell.execute_reply": "2021-09-28T20:16:07.279538Z"
    }
   },
   "outputs": [
    {
     "name": "stdout",
     "output_type": "stream",
     "text": [
      "[0, 1, 2]\n"
     ]
    }
   ],
   "source": [
    "print(numeros[:3])"
   ]
  },
  {
   "cell_type": "code",
   "execution_count": 47,
   "id": "7e561e63",
   "metadata": {
    "execution": {
     "iopub.execute_input": "2021-09-28T20:16:07.283336Z",
     "iopub.status.busy": "2021-09-28T20:16:07.282845Z",
     "iopub.status.idle": "2021-09-28T20:16:07.284690Z",
     "shell.execute_reply": "2021-09-28T20:16:07.285098Z"
    }
   },
   "outputs": [
    {
     "name": "stdout",
     "output_type": "stream",
     "text": [
      "[3, 4, 5, 6, 7, 8, 9, 10]\n"
     ]
    }
   ],
   "source": [
    "print(numeros[3:])"
   ]
  },
  {
   "cell_type": "code",
   "execution_count": 48,
   "id": "3cd74365",
   "metadata": {
    "execution": {
     "iopub.execute_input": "2021-09-28T20:16:07.288760Z",
     "iopub.status.busy": "2021-09-28T20:16:07.288240Z",
     "iopub.status.idle": "2021-09-28T20:16:07.289929Z",
     "shell.execute_reply": "2021-09-28T20:16:07.290352Z"
    }
   },
   "outputs": [
    {
     "name": "stdout",
     "output_type": "stream",
     "text": [
      "[0, 2, 4, 6, 8]\n"
     ]
    }
   ],
   "source": [
    "print(numeros[0:10:2])"
   ]
  },
  {
   "cell_type": "markdown",
   "id": "8244cc1e",
   "metadata": {},
   "source": [
    "```python\n",
    "lista[<inicio>:<final>:<step>]\n",
    "```"
   ]
  },
  {
   "cell_type": "code",
   "execution_count": 49,
   "id": "6408985a",
   "metadata": {
    "execution": {
     "iopub.execute_input": "2021-09-28T20:16:07.294519Z",
     "iopub.status.busy": "2021-09-28T20:16:07.294024Z",
     "iopub.status.idle": "2021-09-28T20:16:07.296282Z",
     "shell.execute_reply": "2021-09-28T20:16:07.296709Z"
    },
    "lines_to_next_cell": 2
   },
   "outputs": [
    {
     "data": {
      "text/plain": [
       "[1, 2, 3, 4]"
      ]
     },
     "execution_count": 49,
     "metadata": {},
     "output_type": "execute_result"
    }
   ],
   "source": [
    "l1 = [1, 2]\n",
    "l2 = [3, 4]\n",
    "l1 + l2"
   ]
  },
  {
   "cell_type": "code",
   "execution_count": 50,
   "id": "e57a85eb",
   "metadata": {
    "execution": {
     "iopub.execute_input": "2021-09-28T20:16:07.300058Z",
     "iopub.status.busy": "2021-09-28T20:16:07.299564Z",
     "iopub.status.idle": "2021-09-28T20:16:07.302116Z",
     "shell.execute_reply": "2021-09-28T20:16:07.301682Z"
    }
   },
   "outputs": [
    {
     "name": "stdout",
     "output_type": "stream",
     "text": [
      "[0, 1, 2, 3, 4, 5, 6, 'siete', 8, 9, 10]\n"
     ]
    }
   ],
   "source": [
    "numeros[7] = 'siete'  # Las listas se pueden mutar\n",
    "print(numeros)"
   ]
  },
  {
   "cell_type": "code",
   "execution_count": 51,
   "id": "ce2d8124",
   "metadata": {
    "execution": {
     "iopub.execute_input": "2021-09-28T20:16:07.305769Z",
     "iopub.status.busy": "2021-09-28T20:16:07.305275Z",
     "iopub.status.idle": "2021-09-28T20:16:07.307093Z",
     "shell.execute_reply": "2021-09-28T20:16:07.307494Z"
    }
   },
   "outputs": [
    {
     "name": "stdout",
     "output_type": "stream",
     "text": [
      "[10, 9, 8, 'siete', 6, 5, 4, 3, 2, 1, 0]\n"
     ]
    }
   ],
   "source": [
    "numeros = numeros[::-1]\n",
    "print(numeros)"
   ]
  },
  {
   "cell_type": "code",
   "execution_count": 52,
   "id": "cecaeaf6",
   "metadata": {
    "execution": {
     "iopub.execute_input": "2021-09-28T20:16:07.310946Z",
     "iopub.status.busy": "2021-09-28T20:16:07.310444Z",
     "iopub.status.idle": "2021-09-28T20:16:07.316232Z",
     "shell.execute_reply": "2021-09-28T20:16:07.315794Z"
    },
    "tags": [
     "raises-exception"
    ]
   },
   "outputs": [
    {
     "ename": "IndexError",
     "evalue": "list index out of range",
     "output_type": "error",
     "traceback": [
      "\u001b[0;31m---------------------------------------------------------------------------\u001b[0m",
      "\u001b[0;31mIndexError\u001b[0m                                Traceback (most recent call last)",
      "\u001b[0;32m/tmp/ipykernel_1934/1255736182.py\u001b[0m in \u001b[0;36m<module>\u001b[0;34m\u001b[0m\n\u001b[0;32m----> 1\u001b[0;31m \u001b[0mprint\u001b[0m\u001b[0;34m(\u001b[0m\u001b[0mnumeros\u001b[0m\u001b[0;34m[\u001b[0m\u001b[0;36m15\u001b[0m\u001b[0;34m]\u001b[0m\u001b[0;34m)\u001b[0m  \u001b[0;31m# Falla. No se puede acceder a una posición inexistente\u001b[0m\u001b[0;34m\u001b[0m\u001b[0;34m\u001b[0m\u001b[0m\n\u001b[0m",
      "\u001b[0;31mIndexError\u001b[0m: list index out of range"
     ]
    }
   ],
   "source": [
    "print(numeros[15])  # Falla. No se puede acceder a una posición inexistente"
   ]
  },
  {
   "cell_type": "code",
   "execution_count": 53,
   "id": "cdb7b5ff",
   "metadata": {
    "execution": {
     "iopub.execute_input": "2021-09-28T20:16:07.320352Z",
     "iopub.status.busy": "2021-09-28T20:16:07.319857Z",
     "iopub.status.idle": "2021-09-28T20:16:07.321812Z",
     "shell.execute_reply": "2021-09-28T20:16:07.322190Z"
    }
   },
   "outputs": [
    {
     "name": "stdout",
     "output_type": "stream",
     "text": [
      "palabra\n",
      "a\n",
      "pal\n",
      "abra\n"
     ]
    }
   ],
   "source": [
    "palabra = 'palabra'\n",
    "print(palabra)\n",
    "print(palabra[3])\n",
    "print(palabra[:3])\n",
    "print(palabra[3:])"
   ]
  },
  {
   "cell_type": "code",
   "execution_count": 54,
   "id": "0a38dc63",
   "metadata": {
    "execution": {
     "iopub.execute_input": "2021-09-28T20:16:07.326242Z",
     "iopub.status.busy": "2021-09-28T20:16:07.325748Z",
     "iopub.status.idle": "2021-09-28T20:16:07.327617Z",
     "shell.execute_reply": "2021-09-28T20:16:07.328024Z"
    }
   },
   "outputs": [
    {
     "name": "stdout",
     "output_type": "stream",
     "text": [
      "(0, 1, 2, 3, 4)\n",
      "(0, 1)\n",
      "(2, 3, 4)\n"
     ]
    }
   ],
   "source": [
    "tupla = (0, 1, 2, 3, 4)\n",
    "\n",
    "print(tupla)\n",
    "print(tupla[:2])\n",
    "print(tupla[2:])"
   ]
  },
  {
   "cell_type": "markdown",
   "id": "4367cfb8",
   "metadata": {
    "slideshow": {
     "slide_type": "slide"
    }
   },
   "source": [
    "#### Diccionarios de Python\n",
    "\n",
    "Son como hashmaps, las claves deben ser inmutables para que no pierda sentido el diccionario. Si se pudieran modificar, se podrían cambiar las claves y generaría conflictos.\n",
    "\n",
    "Tipos mutables:\n",
    "- Listas\n",
    "- Diccionarios\n",
    "- Sets\n",
    "\n",
    "Tipos inmutables:\n",
    "- Int\n",
    "- Float\n",
    "- String\n",
    "- Tuplas\n"
   ]
  },
  {
   "cell_type": "code",
   "execution_count": 55,
   "id": "ca8cc3b0",
   "metadata": {
    "execution": {
     "iopub.execute_input": "2021-09-28T20:16:07.331762Z",
     "iopub.status.busy": "2021-09-28T20:16:07.331268Z",
     "iopub.status.idle": "2021-09-28T20:16:07.334185Z",
     "shell.execute_reply": "2021-09-28T20:16:07.333753Z"
    },
    "slideshow": {
     "slide_type": "slide"
    }
   },
   "outputs": [
    {
     "data": {
      "text/plain": [
       "{}"
      ]
     },
     "execution_count": 55,
     "metadata": {},
     "output_type": "execute_result"
    }
   ],
   "source": [
    "diccionario = {}\n",
    "diccionario"
   ]
  },
  {
   "cell_type": "code",
   "execution_count": 56,
   "id": "569cacf4",
   "metadata": {
    "execution": {
     "iopub.execute_input": "2021-09-28T20:16:07.338983Z",
     "iopub.status.busy": "2021-09-28T20:16:07.338095Z",
     "iopub.status.idle": "2021-09-28T20:16:07.340312Z",
     "shell.execute_reply": "2021-09-28T20:16:07.340752Z"
    }
   },
   "outputs": [
    {
     "data": {
      "text/plain": [
       "{}"
      ]
     },
     "execution_count": 56,
     "metadata": {},
     "output_type": "execute_result"
    }
   ],
   "source": [
    "diccionario = dict()\n",
    "diccionario"
   ]
  },
  {
   "cell_type": "code",
   "execution_count": 57,
   "id": "ae9ff83e",
   "metadata": {
    "execution": {
     "iopub.execute_input": "2021-09-28T20:16:07.344506Z",
     "iopub.status.busy": "2021-09-28T20:16:07.344012Z",
     "iopub.status.idle": "2021-09-28T20:16:07.346543Z",
     "shell.execute_reply": "2021-09-28T20:16:07.346094Z"
    },
    "slideshow": {
     "slide_type": "slide"
    }
   },
   "outputs": [
    {
     "name": "stdout",
     "output_type": "stream",
     "text": [
      "{'clave1': 'valor1', 2: 'valor2', 'clave3': 3}\n"
     ]
    }
   ],
   "source": [
    "# Cómo agregar cosas al diccionario\n",
    "diccionario['clave1'] = 'valor1'\n",
    "diccionario[2] = 'valor2'\n",
    "diccionario['clave3'] = 3\n",
    "print(diccionario)"
   ]
  },
  {
   "cell_type": "markdown",
   "id": "a7230821",
   "metadata": {},
   "source": [
    "Hay dos formas de obtener valores de un diccionario:\n",
    "\n",
    "```python\n",
    "diccionario[clave]\n",
    "```\n",
    "\n",
    "El cual devuelve el valor si existe la clave suministrada o bien lanza `KeyError` si no existe."
   ]
  },
  {
   "cell_type": "code",
   "execution_count": 58,
   "id": "3db1dd26",
   "metadata": {
    "execution": {
     "iopub.execute_input": "2021-09-28T20:16:07.351418Z",
     "iopub.status.busy": "2021-09-28T20:16:07.350527Z",
     "iopub.status.idle": "2021-09-28T20:16:07.353047Z",
     "shell.execute_reply": "2021-09-28T20:16:07.353451Z"
    }
   },
   "outputs": [
    {
     "data": {
      "text/plain": [
       "'valor1'"
      ]
     },
     "execution_count": 58,
     "metadata": {},
     "output_type": "execute_result"
    }
   ],
   "source": [
    "diccionario['clave1']"
   ]
  },
  {
   "cell_type": "code",
   "execution_count": 59,
   "id": "eaae8e0b",
   "metadata": {
    "execution": {
     "iopub.execute_input": "2021-09-28T20:16:07.359468Z",
     "iopub.status.busy": "2021-09-28T20:16:07.358978Z",
     "iopub.status.idle": "2021-09-28T20:16:07.362573Z",
     "shell.execute_reply": "2021-09-28T20:16:07.363005Z"
    },
    "tags": [
     "raises-exception"
    ]
   },
   "outputs": [
    {
     "ename": "KeyError",
     "evalue": "'clave1000'",
     "output_type": "error",
     "traceback": [
      "\u001b[0;31m---------------------------------------------------------------------------\u001b[0m",
      "\u001b[0;31mKeyError\u001b[0m                                  Traceback (most recent call last)",
      "\u001b[0;32m/tmp/ipykernel_1934/3541524662.py\u001b[0m in \u001b[0;36m<module>\u001b[0;34m\u001b[0m\n\u001b[0;32m----> 1\u001b[0;31m \u001b[0mdiccionario\u001b[0m\u001b[0;34m[\u001b[0m\u001b[0;34m'clave1000'\u001b[0m\u001b[0;34m]\u001b[0m\u001b[0;34m\u001b[0m\u001b[0;34m\u001b[0m\u001b[0m\n\u001b[0m",
      "\u001b[0;31mKeyError\u001b[0m: 'clave1000'"
     ]
    }
   ],
   "source": [
    "diccionario['clave1000']"
   ]
  },
  {
   "cell_type": "markdown",
   "id": "8d1d82d1",
   "metadata": {},
   "source": [
    "La segunda forma es con `get`:"
   ]
  },
  {
   "cell_type": "code",
   "execution_count": 60,
   "id": "6f450389",
   "metadata": {
    "execution": {
     "iopub.execute_input": "2021-09-28T20:16:07.380379Z",
     "iopub.status.busy": "2021-09-28T20:16:07.370044Z",
     "iopub.status.idle": "2021-09-28T20:16:07.415670Z",
     "shell.execute_reply": "2021-09-28T20:16:07.415130Z"
    }
   },
   "outputs": [],
   "source": [
    "diccionario.get?"
   ]
  },
  {
   "cell_type": "code",
   "execution_count": 61,
   "id": "6c4fec7f",
   "metadata": {
    "execution": {
     "iopub.execute_input": "2021-09-28T20:16:07.421831Z",
     "iopub.status.busy": "2021-09-28T20:16:07.420447Z",
     "iopub.status.idle": "2021-09-28T20:16:07.423591Z",
     "shell.execute_reply": "2021-09-28T20:16:07.423151Z"
    }
   },
   "outputs": [
    {
     "name": "stdout",
     "output_type": "stream",
     "text": [
      "Help on built-in function get:\n",
      "\n",
      "get(key, default=None, /) method of builtins.dict instance\n",
      "    Return the value for key if key is in the dictionary, else default.\n",
      "\n"
     ]
    }
   ],
   "source": [
    "help(diccionario.get)"
   ]
  },
  {
   "cell_type": "code",
   "execution_count": 62,
   "id": "0b54c7f8",
   "metadata": {
    "execution": {
     "iopub.execute_input": "2021-09-28T20:16:07.429066Z",
     "iopub.status.busy": "2021-09-28T20:16:07.427791Z",
     "iopub.status.idle": "2021-09-28T20:16:07.431449Z",
     "shell.execute_reply": "2021-09-28T20:16:07.430344Z"
    },
    "slideshow": {
     "slide_type": "slide"
    }
   },
   "outputs": [
    {
     "name": "stdout",
     "output_type": "stream",
     "text": [
      "None"
     ]
    },
    {
     "name": "stdout",
     "output_type": "stream",
     "text": [
      "\n"
     ]
    }
   ],
   "source": [
    "print(diccionario.get('clave1000'))"
   ]
  },
  {
   "cell_type": "code",
   "execution_count": 63,
   "id": "950c6a90",
   "metadata": {
    "execution": {
     "iopub.execute_input": "2021-09-28T20:16:07.436569Z",
     "iopub.status.busy": "2021-09-28T20:16:07.435399Z",
     "iopub.status.idle": "2021-09-28T20:16:07.438277Z",
     "shell.execute_reply": "2021-09-28T20:16:07.437844Z"
    },
    "slideshow": {
     "slide_type": "slide"
    }
   },
   "outputs": [
    {
     "name": "stdout",
     "output_type": "stream",
     "text": [
      "True\n"
     ]
    }
   ],
   "source": [
    "print('clave1' in diccionario)  # Verifico si la clave está en el diccionario"
   ]
  },
  {
   "cell_type": "code",
   "execution_count": 64,
   "id": "5f3bb6ee",
   "metadata": {
    "execution": {
     "iopub.execute_input": "2021-09-28T20:16:07.443703Z",
     "iopub.status.busy": "2021-09-28T20:16:07.442811Z",
     "iopub.status.idle": "2021-09-28T20:16:07.445301Z",
     "shell.execute_reply": "2021-09-28T20:16:07.445702Z"
    }
   },
   "outputs": [
    {
     "data": {
      "text/plain": [
       "True"
      ]
     },
     "execution_count": 64,
     "metadata": {},
     "output_type": "execute_result"
    }
   ],
   "source": [
    "l = [1, 2, 3, 4]\n",
    "2 in l"
   ]
  },
  {
   "cell_type": "code",
   "execution_count": 65,
   "id": "76aacdee",
   "metadata": {
    "execution": {
     "iopub.execute_input": "2021-09-28T20:16:07.450029Z",
     "iopub.status.busy": "2021-09-28T20:16:07.449521Z",
     "iopub.status.idle": "2021-09-28T20:16:07.451199Z",
     "shell.execute_reply": "2021-09-28T20:16:07.451594Z"
    }
   },
   "outputs": [
    {
     "name": "stdout",
     "output_type": "stream",
     "text": [
      "la clave es clave1 y el valor es valor1\n",
      "la clave es 2 y el valor es valor2\n",
      "la clave es clave3 y el valor es 3\n"
     ]
    }
   ],
   "source": [
    "for clave, valor in diccionario.items():\n",
    "    print(\"la clave es %s y el valor es %s\" % (clave, valor))"
   ]
  },
  {
   "cell_type": "code",
   "execution_count": 66,
   "id": "58e838a8",
   "metadata": {
    "execution": {
     "iopub.execute_input": "2021-09-28T20:16:07.455382Z",
     "iopub.status.busy": "2021-09-28T20:16:07.454846Z",
     "iopub.status.idle": "2021-09-28T20:16:07.457457Z",
     "shell.execute_reply": "2021-09-28T20:16:07.457026Z"
    }
   },
   "outputs": [
    {
     "name": "stdout",
     "output_type": "stream",
     "text": [
      "la clave es clave1 y el valor es valor1\n",
      "la clave es 2 y el valor es valor2\n",
      "la clave es clave3 y el valor es 3\n"
     ]
    }
   ],
   "source": [
    "for clave, valor in diccionario.items():\n",
    "    print(\"la clave es {} y el valor es {}\".format(clave, valor))"
   ]
  },
  {
   "cell_type": "code",
   "execution_count": 67,
   "id": "3077a98d",
   "metadata": {
    "execution": {
     "iopub.execute_input": "2021-09-28T20:16:07.461497Z",
     "iopub.status.busy": "2021-09-28T20:16:07.460980Z",
     "iopub.status.idle": "2021-09-28T20:16:07.463464Z",
     "shell.execute_reply": "2021-09-28T20:16:07.463859Z"
    },
    "slideshow": {
     "slide_type": "slide"
    }
   },
   "outputs": [
    {
     "name": "stdout",
     "output_type": "stream",
     "text": [
      "la clave es clave1 y el valor es valor1\n",
      "la clave es 2 y el valor es valor2\n"
     ]
    },
    {
     "name": "stdout",
     "output_type": "stream",
     "text": [
      "la clave es clave3 y el valor es 3\n"
     ]
    }
   ],
   "source": [
    "# Cómo iterar un diccionario elemento por elemento\n",
    "for (\n",
    "    clave,\n",
    "    valor,\n",
    ") in (\n",
    "    diccionario.items()\n",
    "):  # diccionario.items() va devolviendo tuplas con el formato (clave,valor)\n",
    "    print(\n",
    "        f\"la clave es {clave} y el valor es {valor}\"\n",
    "    )  # con esta sintaxis se desempaquetan en clave y valor (similar a enumerate)"
   ]
  },
  {
   "cell_type": "code",
   "execution_count": 68,
   "id": "ef5479ec",
   "metadata": {
    "execution": {
     "iopub.execute_input": "2021-09-28T20:16:07.467772Z",
     "iopub.status.busy": "2021-09-28T20:16:07.467280Z",
     "iopub.status.idle": "2021-09-28T20:16:07.470652Z",
     "shell.execute_reply": "2021-09-28T20:16:07.471032Z"
    },
    "slideshow": {
     "slide_type": "slide"
    }
   },
   "outputs": [
    {
     "name": "stdout",
     "output_type": "stream",
     "text": [
      "clave1\n",
      "2\n",
      "clave3\n"
     ]
    }
   ],
   "source": [
    "for clave in diccionario.keys():\n",
    "    print(clave)"
   ]
  },
  {
   "cell_type": "code",
   "execution_count": 69,
   "id": "b851ba46",
   "metadata": {
    "execution": {
     "iopub.execute_input": "2021-09-28T20:16:07.474629Z",
     "iopub.status.busy": "2021-09-28T20:16:07.474139Z",
     "iopub.status.idle": "2021-09-28T20:16:07.477619Z",
     "shell.execute_reply": "2021-09-28T20:16:07.478003Z"
    },
    "slideshow": {
     "slide_type": "slide"
    }
   },
   "outputs": [
    {
     "name": "stdout",
     "output_type": "stream",
     "text": [
      "valor1\n",
      "valor2\n",
      "3\n"
     ]
    }
   ],
   "source": [
    "for valor in diccionario.values():\n",
    "    print(valor)"
   ]
  },
  {
   "cell_type": "markdown",
   "id": "fc0d67c7",
   "metadata": {},
   "source": [
    "#### Sets\n",
    "\n",
    "Son similares a los diccionarios (en eficiencia) pero se almacenan solo claves, y tienen algunas operaciones particulares.\n",
    "\n",
    "En particular, no pueden tener elementos iguales (pensar que son conjuntos)"
   ]
  },
  {
   "cell_type": "code",
   "execution_count": 70,
   "id": "0f84f51f",
   "metadata": {
    "execution": {
     "iopub.execute_input": "2021-09-28T20:16:07.481721Z",
     "iopub.status.busy": "2021-09-28T20:16:07.481231Z",
     "iopub.status.idle": "2021-09-28T20:16:07.485903Z",
     "shell.execute_reply": "2021-09-28T20:16:07.486300Z"
    }
   },
   "outputs": [],
   "source": [
    "set??"
   ]
  },
  {
   "cell_type": "code",
   "execution_count": 71,
   "id": "9c8f0f48",
   "metadata": {
    "execution": {
     "iopub.execute_input": "2021-09-28T20:16:07.490236Z",
     "iopub.status.busy": "2021-09-28T20:16:07.489741Z",
     "iopub.status.idle": "2021-09-28T20:16:07.494076Z",
     "shell.execute_reply": "2021-09-28T20:16:07.494486Z"
    }
   },
   "outputs": [
    {
     "data": {
      "text/plain": [
       "{1, 2, 3}"
      ]
     },
     "execution_count": 71,
     "metadata": {},
     "output_type": "execute_result"
    }
   ],
   "source": [
    "# Se definen como los diccionarios pero sin hacerlos 'clave:valor', solamente una seguidilla de elementos\n",
    "{1, 2, 2, 3}"
   ]
  },
  {
   "cell_type": "code",
   "execution_count": 72,
   "id": "69a46437",
   "metadata": {
    "execution": {
     "iopub.execute_input": "2021-09-28T20:16:07.498607Z",
     "iopub.status.busy": "2021-09-28T20:16:07.498116Z",
     "iopub.status.idle": "2021-09-28T20:16:07.502804Z",
     "shell.execute_reply": "2021-09-28T20:16:07.502372Z"
    }
   },
   "outputs": [
    {
     "data": {
      "text/plain": [
       "{1, 2, 3}"
      ]
     },
     "execution_count": 72,
     "metadata": {},
     "output_type": "execute_result"
    }
   ],
   "source": [
    "set([1, 2, 2, 3])"
   ]
  },
  {
   "cell_type": "markdown",
   "id": "c814112e",
   "metadata": {},
   "source": [
    "## Condicionales (if...elif...else)\n",
    "\n",
    "```python\n",
    "if <condición_1>:\n",
    "    <hacer algo_1 si se da la condición_1>\n",
    "elif <condición_2>:\n",
    "    <hacer algo_2 si se da la condición_2>\n",
    "...\n",
    "elif <condición_n>:\n",
    "    <hacer algo_n si se da la condición_n>\n",
    "else:\n",
    "    <hacer otra cosa si no dan las anteriores>\n",
    "```\n",
    "\n",
    "Algo importante para notar es que los bloques se definen por **niveles de identacion**."
   ]
  },
  {
   "cell_type": "code",
   "execution_count": 73,
   "id": "055af030",
   "metadata": {
    "execution": {
     "iopub.execute_input": "2021-09-28T20:16:07.506646Z",
     "iopub.status.busy": "2021-09-28T20:16:07.505187Z",
     "iopub.status.idle": "2021-09-28T20:16:07.509631Z",
     "shell.execute_reply": "2021-09-28T20:16:07.510039Z"
    }
   },
   "outputs": [
    {
     "name": "stdout",
     "output_type": "stream",
     "text": [
      "uno\n"
     ]
    }
   ],
   "source": [
    "v = 1\n",
    "if v == 1:\n",
    "    print(\"uno\")\n",
    "elif v == 2:\n",
    "    print(\"dos\")\n",
    "else:\n",
    "    print(\"ni idea\")\n",
    "    print(v)"
   ]
  },
  {
   "cell_type": "markdown",
   "id": "34099a51",
   "metadata": {},
   "source": [
    "## Iteraciones\n",
    "\n",
    "```python\n",
    "while cond:\n",
    "    <codigo>\n",
    "```\n",
    "\n",
    "```python\n",
    "for elemento in iterable:\n",
    "    <codigo>\n",
    "```\n",
    "\n",
    "Para iterar sobre un rango de valores, usamos `range`"
   ]
  },
  {
   "cell_type": "code",
   "execution_count": 74,
   "id": "152d5186",
   "metadata": {
    "execution": {
     "iopub.execute_input": "2021-09-28T20:16:07.513941Z",
     "iopub.status.busy": "2021-09-28T20:16:07.513430Z",
     "iopub.status.idle": "2021-09-28T20:16:07.517321Z",
     "shell.execute_reply": "2021-09-28T20:16:07.516883Z"
    }
   },
   "outputs": [
    {
     "name": "stdout",
     "output_type": "stream",
     "text": [
      "1\n",
      "4\n",
      "7\n",
      "10\n"
     ]
    }
   ],
   "source": [
    "for i in range(1, 11, 3):\n",
    "    print(i)"
   ]
  },
  {
   "cell_type": "markdown",
   "id": "c078571c",
   "metadata": {},
   "source": [
    "## Operadores logicos\n",
    "\n",
    "`not`, `or`, `and`"
   ]
  },
  {
   "cell_type": "code",
   "execution_count": 75,
   "id": "f4e1a7d7",
   "metadata": {
    "execution": {
     "iopub.execute_input": "2021-09-28T20:16:07.521025Z",
     "iopub.status.busy": "2021-09-28T20:16:07.520485Z",
     "iopub.status.idle": "2021-09-28T20:16:07.524261Z",
     "shell.execute_reply": "2021-09-28T20:16:07.524664Z"
    }
   },
   "outputs": [
    {
     "name": "stdout",
     "output_type": "stream",
     "text": [
      "yay\n"
     ]
    }
   ],
   "source": [
    "if True or False:\n",
    "    print(\"yay\")"
   ]
  },
  {
   "cell_type": "code",
   "execution_count": 76,
   "id": "350cd4c7",
   "metadata": {
    "execution": {
     "iopub.execute_input": "2021-09-28T20:16:07.528386Z",
     "iopub.status.busy": "2021-09-28T20:16:07.527898Z",
     "iopub.status.idle": "2021-09-28T20:16:07.532183Z",
     "shell.execute_reply": "2021-09-28T20:16:07.532567Z"
    }
   },
   "outputs": [
    {
     "data": {
      "text/plain": [
       "False"
      ]
     },
     "execution_count": 76,
     "metadata": {},
     "output_type": "execute_result"
    }
   ],
   "source": [
    "1 == 2"
   ]
  },
  {
   "cell_type": "code",
   "execution_count": 77,
   "id": "7ee552f7",
   "metadata": {
    "execution": {
     "iopub.execute_input": "2021-09-28T20:16:07.536201Z",
     "iopub.status.busy": "2021-09-28T20:16:07.535716Z",
     "iopub.status.idle": "2021-09-28T20:16:07.538183Z",
     "shell.execute_reply": "2021-09-28T20:16:07.538559Z"
    }
   },
   "outputs": [
    {
     "data": {
      "text/plain": [
       "True"
      ]
     },
     "execution_count": 77,
     "metadata": {},
     "output_type": "execute_result"
    }
   ],
   "source": [
    "1 != 2"
   ]
  },
  {
   "cell_type": "markdown",
   "id": "71151103",
   "metadata": {
    "slideshow": {
     "slide_type": "slide"
    }
   },
   "source": [
    "## Funciones en Python"
   ]
  },
  {
   "cell_type": "code",
   "execution_count": 78,
   "id": "8e88443e",
   "metadata": {
    "execution": {
     "iopub.execute_input": "2021-09-28T20:16:07.545017Z",
     "iopub.status.busy": "2021-09-28T20:16:07.544493Z",
     "iopub.status.idle": "2021-09-28T20:16:07.547657Z",
     "shell.execute_reply": "2021-09-28T20:16:07.548039Z"
    },
    "slideshow": {
     "slide_type": "slide"
    }
   },
   "outputs": [
    {
     "name": "stdout",
     "output_type": "stream",
     "text": [
      "True\n",
      "False\n"
     ]
    }
   ],
   "source": [
    "def busqueda_binaria(lista, elemento):\n",
    "    if not lista:\n",
    "        return False\n",
    "    elif len(lista) == 1:\n",
    "        return lista[0] == elemento\n",
    "    mitad = len(lista) // 2  # // es la operación división entera\n",
    "    if lista[mitad] == elemento:\n",
    "        return True\n",
    "    if lista[mitad] > elemento:\n",
    "        return busqueda_binaria(lista[:mitad], elemento)\n",
    "    if lista[mitad] < elemento:\n",
    "        return busqueda_binaria(lista[mitad:], elemento)\n",
    "\n",
    "\n",
    "print(busqueda_binaria([1, 2, 3, 4, 5], 4))\n",
    "print(busqueda_binaria([1, 4, 6, 7, 9, 10], 2))"
   ]
  },
  {
   "cell_type": "code",
   "execution_count": 79,
   "id": "81787ce1",
   "metadata": {
    "execution": {
     "iopub.execute_input": "2021-09-28T20:16:07.553248Z",
     "iopub.status.busy": "2021-09-28T20:16:07.552119Z",
     "iopub.status.idle": "2021-09-28T20:16:07.554904Z",
     "shell.execute_reply": "2021-09-28T20:16:07.554469Z"
    }
   },
   "outputs": [
    {
     "name": "stdout",
     "output_type": "stream",
     "text": [
      "(3, 3, 3)\n"
     ]
    }
   ],
   "source": [
    "def a(b):\n",
    "    if a == 1:\n",
    "        print(a)\n",
    "    return (b, b, b)\n",
    "\n",
    "\n",
    "print(a(3))"
   ]
  },
  {
   "cell_type": "code",
   "execution_count": 80,
   "id": "61f4cebc",
   "metadata": {
    "execution": {
     "iopub.execute_input": "2021-09-28T20:16:07.560850Z",
     "iopub.status.busy": "2021-09-28T20:16:07.560333Z",
     "iopub.status.idle": "2021-09-28T20:16:07.568273Z",
     "shell.execute_reply": "2021-09-28T20:16:07.568744Z"
    },
    "lines_to_next_cell": 2,
    "slideshow": {
     "slide_type": "slide"
    },
    "tags": [
     "raises-exception"
    ]
   },
   "outputs": [
    {
     "name": "stdout",
     "output_type": "stream",
     "text": [
      "3\n",
      "3.0\n",
      "3.0\n",
      "hola como te va\n",
      "[1, 2, 3, 4, 5]\n"
     ]
    },
    {
     "ename": "TypeError",
     "evalue": "can only concatenate str (not \"int\") to str",
     "output_type": "error",
     "traceback": [
      "\u001b[0;31m---------------------------------------------------------------------------\u001b[0m",
      "\u001b[0;31mTypeError\u001b[0m                                 Traceback (most recent call last)",
      "\u001b[0;32m/tmp/ipykernel_1934/1000948441.py\u001b[0m in \u001b[0;36m<module>\u001b[0;34m\u001b[0m\n\u001b[1;32m      8\u001b[0m \u001b[0mprint\u001b[0m\u001b[0;34m(\u001b[0m\u001b[0msuma\u001b[0m\u001b[0;34m(\u001b[0m\u001b[0;34m\"hola \"\u001b[0m\u001b[0;34m,\u001b[0m \u001b[0;34m\"como te va\"\u001b[0m\u001b[0;34m)\u001b[0m\u001b[0;34m)\u001b[0m\u001b[0;34m\u001b[0m\u001b[0;34m\u001b[0m\u001b[0m\n\u001b[1;32m      9\u001b[0m \u001b[0mprint\u001b[0m\u001b[0;34m(\u001b[0m\u001b[0msuma\u001b[0m\u001b[0;34m(\u001b[0m\u001b[0;34m[\u001b[0m\u001b[0;36m1\u001b[0m\u001b[0;34m,\u001b[0m \u001b[0;36m2\u001b[0m\u001b[0;34m,\u001b[0m \u001b[0;36m3\u001b[0m\u001b[0;34m]\u001b[0m\u001b[0;34m,\u001b[0m \u001b[0;34m[\u001b[0m\u001b[0;36m4\u001b[0m\u001b[0;34m,\u001b[0m \u001b[0;36m5\u001b[0m\u001b[0;34m]\u001b[0m\u001b[0;34m)\u001b[0m\u001b[0;34m)\u001b[0m\u001b[0;34m\u001b[0m\u001b[0;34m\u001b[0m\u001b[0m\n\u001b[0;32m---> 10\u001b[0;31m \u001b[0mprint\u001b[0m\u001b[0;34m(\u001b[0m\u001b[0msuma\u001b[0m\u001b[0;34m(\u001b[0m\u001b[0;34m\"1\"\u001b[0m\u001b[0;34m,\u001b[0m \u001b[0;36m3\u001b[0m\u001b[0;34m)\u001b[0m\u001b[0;34m)\u001b[0m  \u001b[0;31m# Falla\u001b[0m\u001b[0;34m\u001b[0m\u001b[0;34m\u001b[0m\u001b[0m\n\u001b[0m",
      "\u001b[0;32m/tmp/ipykernel_1934/1000948441.py\u001b[0m in \u001b[0;36msuma\u001b[0;34m(a, b)\u001b[0m\n\u001b[1;32m      1\u001b[0m \u001b[0;32mdef\u001b[0m \u001b[0msuma\u001b[0m\u001b[0;34m(\u001b[0m\u001b[0ma\u001b[0m\u001b[0;34m,\u001b[0m \u001b[0mb\u001b[0m\u001b[0;34m)\u001b[0m\u001b[0;34m:\u001b[0m\u001b[0;34m\u001b[0m\u001b[0;34m\u001b[0m\u001b[0m\n\u001b[0;32m----> 2\u001b[0;31m     \u001b[0;32mreturn\u001b[0m \u001b[0ma\u001b[0m \u001b[0;34m+\u001b[0m \u001b[0mb\u001b[0m\u001b[0;34m\u001b[0m\u001b[0;34m\u001b[0m\u001b[0m\n\u001b[0m\u001b[1;32m      3\u001b[0m \u001b[0;34m\u001b[0m\u001b[0m\n\u001b[1;32m      4\u001b[0m \u001b[0;34m\u001b[0m\u001b[0m\n\u001b[1;32m      5\u001b[0m \u001b[0mprint\u001b[0m\u001b[0;34m(\u001b[0m\u001b[0msuma\u001b[0m\u001b[0;34m(\u001b[0m\u001b[0;36m1\u001b[0m\u001b[0;34m,\u001b[0m \u001b[0;36m2\u001b[0m\u001b[0;34m)\u001b[0m\u001b[0;34m)\u001b[0m\u001b[0;34m\u001b[0m\u001b[0;34m\u001b[0m\u001b[0m\n",
      "\u001b[0;31mTypeError\u001b[0m: can only concatenate str (not \"int\") to str"
     ]
    }
   ],
   "source": [
    "def suma(a, b):\n",
    "    return a + b\n",
    "\n",
    "\n",
    "print(suma(1, 2))\n",
    "print(suma(1.0, 2.0))\n",
    "print(suma(1.0, 2))\n",
    "print(suma(\"hola \", \"como te va\"))\n",
    "print(suma([1, 2, 3], [4, 5]))\n",
    "print(suma(\"1\", 3))  # Falla"
   ]
  },
  {
   "cell_type": "code",
   "execution_count": 81,
   "id": "0f2f2499",
   "metadata": {
    "execution": {
     "iopub.execute_input": "2021-09-28T20:16:07.572600Z",
     "iopub.status.busy": "2021-09-28T20:16:07.572096Z",
     "iopub.status.idle": "2021-09-28T20:16:07.573939Z",
     "shell.execute_reply": "2021-09-28T20:16:07.574341Z"
    }
   },
   "outputs": [
    {
     "name": "stdout",
     "output_type": "stream",
     "text": [
      "2.0\n"
     ]
    }
   ],
   "source": [
    "# El valor por default de divisor es 1\n",
    "\n",
    "\n",
    "def division(dividendo, divisor=2):\n",
    "    return dividendo / divisor\n",
    "\n",
    "\n",
    "print(division(4))  # Usa el valor por default"
   ]
  },
  {
   "cell_type": "code",
   "execution_count": 82,
   "id": "c70933ad",
   "metadata": {
    "execution": {
     "iopub.execute_input": "2021-09-28T20:16:07.578353Z",
     "iopub.status.busy": "2021-09-28T20:16:07.577840Z",
     "iopub.status.idle": "2021-09-28T20:16:07.587008Z",
     "shell.execute_reply": "2021-09-28T20:16:07.586110Z"
    },
    "tags": [
     "raises-exception"
    ]
   },
   "outputs": [
    {
     "name": "stdout",
     "output_type": "stream",
     "text": [
      "0.5\n",
      "0.5\n"
     ]
    },
    {
     "ename": "TypeError",
     "evalue": "division() missing 1 required positional argument: 'dividendo'",
     "output_type": "error",
     "traceback": [
      "\u001b[0;31m---------------------------------------------------------------------------\u001b[0m",
      "\u001b[0;31mTypeError\u001b[0m                                 Traceback (most recent call last)",
      "\u001b[0;32m/tmp/ipykernel_1934/1004518412.py\u001b[0m in \u001b[0;36m<module>\u001b[0;34m\u001b[0m\n\u001b[1;32m      1\u001b[0m \u001b[0mprint\u001b[0m\u001b[0;34m(\u001b[0m\u001b[0mdivision\u001b[0m\u001b[0;34m(\u001b[0m\u001b[0;36m1\u001b[0m\u001b[0;34m,\u001b[0m \u001b[0;36m2\u001b[0m\u001b[0;34m)\u001b[0m\u001b[0;34m)\u001b[0m  \u001b[0;31m# Parámetros por orden\u001b[0m\u001b[0;34m\u001b[0m\u001b[0;34m\u001b[0m\u001b[0m\n\u001b[1;32m      2\u001b[0m \u001b[0mprint\u001b[0m\u001b[0;34m(\u001b[0m\u001b[0mdivision\u001b[0m\u001b[0;34m(\u001b[0m\u001b[0mdividendo\u001b[0m\u001b[0;34m=\u001b[0m\u001b[0;36m1\u001b[0m\u001b[0;34m,\u001b[0m \u001b[0mdivisor\u001b[0m\u001b[0;34m=\u001b[0m\u001b[0;36m2\u001b[0m\u001b[0;34m)\u001b[0m\u001b[0;34m)\u001b[0m  \u001b[0;31m# Parámetros por nombre\u001b[0m\u001b[0;34m\u001b[0m\u001b[0;34m\u001b[0m\u001b[0m\n\u001b[0;32m----> 3\u001b[0;31m \u001b[0mprint\u001b[0m\u001b[0;34m(\u001b[0m\u001b[0mdivision\u001b[0m\u001b[0;34m(\u001b[0m\u001b[0mdivisor\u001b[0m\u001b[0;34m=\u001b[0m\u001b[0;36m2\u001b[0m\u001b[0;34m)\u001b[0m\u001b[0;34m)\u001b[0m\u001b[0;34m\u001b[0m\u001b[0;34m\u001b[0m\u001b[0m\n\u001b[0m",
      "\u001b[0;31mTypeError\u001b[0m: division() missing 1 required positional argument: 'dividendo'"
     ]
    }
   ],
   "source": [
    "print(division(1, 2))  # Parámetros por orden\n",
    "print(division(dividendo=1, divisor=2))  # Parámetros por nombre\n",
    "print(division(divisor=2))"
   ]
  },
  {
   "cell_type": "code",
   "execution_count": 83,
   "id": "70b32cf9",
   "metadata": {
    "execution": {
     "iopub.execute_input": "2021-09-28T20:16:07.590908Z",
     "iopub.status.busy": "2021-09-28T20:16:07.590419Z",
     "iopub.status.idle": "2021-09-28T20:16:07.594504Z",
     "shell.execute_reply": "2021-09-28T20:16:07.594073Z"
    }
   },
   "outputs": [
    {
     "name": "stdout",
     "output_type": "stream",
     "text": [
      "0.5\n"
     ]
    }
   ],
   "source": [
    "print(division(divisor=2, dividendo=1))"
   ]
  },
  {
   "cell_type": "code",
   "execution_count": 84,
   "id": "0094db8f",
   "metadata": {
    "execution": {
     "iopub.execute_input": "2021-09-28T20:16:07.599532Z",
     "iopub.status.busy": "2021-09-28T20:16:07.599038Z",
     "iopub.status.idle": "2021-09-28T20:16:07.603254Z",
     "shell.execute_reply": "2021-09-28T20:16:07.602824Z"
    }
   },
   "outputs": [
    {
     "name": "stdout",
     "output_type": "stream",
     "text": [
      "['a', 'b', 'c']\n",
      "[1, 2, 3]\n",
      "['hola', ' don', ' pepito']\n",
      "hola -  don -  pepito\n"
     ]
    }
   ],
   "source": [
    "# Funciones básicas ya en el lenguaje\n",
    "# Hechas para funcionar para distintos tipos\n",
    "\n",
    "string_ordenado = sorted('bca')\n",
    "print(string_ordenado)\n",
    "\n",
    "lista_ordenada = sorted([1, 3, 2])\n",
    "print(lista_ordenada)\n",
    "\n",
    "separadas = \"hola, don, pepito\".split(\",\")\n",
    "print(separadas)\n",
    "unidas = \" - \".join(separadas)\n",
    "print(unidas)"
   ]
  },
  {
   "cell_type": "markdown",
   "id": "e1fe5f91",
   "metadata": {},
   "source": [
    "## Módulos\n",
    "\n",
    "Para incluir alguna biblioteca de funciones se usa `import`. Pueden ser cosas ya predefinidas en Python (`math`, `random`, etc), nombres de archivos en nuestro directorio (por ejemplo, para `mimodulo.py` ponemos `import mimodulo`) o bibliotecas instaladas por el usuario"
   ]
  },
  {
   "cell_type": "code",
   "execution_count": 85,
   "id": "74cb81ba",
   "metadata": {
    "execution": {
     "iopub.execute_input": "2021-09-28T20:16:07.606936Z",
     "iopub.status.busy": "2021-09-28T20:16:07.606443Z",
     "iopub.status.idle": "2021-09-28T20:16:07.610440Z",
     "shell.execute_reply": "2021-09-28T20:16:07.610010Z"
    }
   },
   "outputs": [
    {
     "name": "stdout",
     "output_type": "stream",
     "text": [
      "3.141592653589793\n"
     ]
    }
   ],
   "source": [
    "import math\n",
    "\n",
    "print(math.pi)"
   ]
  },
  {
   "cell_type": "code",
   "execution_count": 86,
   "id": "f2e1369a",
   "metadata": {
    "execution": {
     "iopub.execute_input": "2021-09-28T20:16:07.615342Z",
     "iopub.status.busy": "2021-09-28T20:16:07.614218Z",
     "iopub.status.idle": "2021-09-28T20:16:07.617003Z",
     "shell.execute_reply": "2021-09-28T20:16:07.616543Z"
    }
   },
   "outputs": [
    {
     "name": "stdout",
     "output_type": "stream",
     "text": [
      "3.141592653589793 2.718281828459045\n"
     ]
    }
   ],
   "source": [
    "from math import pi, e\n",
    "\n",
    "print(pi, e)"
   ]
  },
  {
   "cell_type": "code",
   "execution_count": 87,
   "id": "c9f8c31a",
   "metadata": {
    "execution": {
     "iopub.execute_input": "2021-09-28T20:16:07.622016Z",
     "iopub.status.busy": "2021-09-28T20:16:07.621136Z",
     "iopub.status.idle": "2021-09-28T20:16:07.623910Z",
     "shell.execute_reply": "2021-09-28T20:16:07.624306Z"
    }
   },
   "outputs": [
    {
     "data": {
      "text/plain": [
       "2"
      ]
     },
     "execution_count": 87,
     "metadata": {},
     "output_type": "execute_result"
    }
   ],
   "source": [
    "math.gcd(56, 78)"
   ]
  },
  {
   "cell_type": "markdown",
   "id": "b0875ed9",
   "metadata": {},
   "source": [
    "## Manejo de excepciones\n",
    "\n",
    "Se pueden encapsular errores esperados en un bloque 'try/except' para evitar cortar el flujo del programa"
   ]
  },
  {
   "cell_type": "code",
   "execution_count": 88,
   "id": "2526034f",
   "metadata": {
    "execution": {
     "iopub.execute_input": "2021-09-28T20:16:07.632668Z",
     "iopub.status.busy": "2021-09-28T20:16:07.630189Z",
     "iopub.status.idle": "2021-09-28T20:16:07.634534Z",
     "shell.execute_reply": "2021-09-28T20:16:07.634998Z"
    },
    "tags": [
     "raises-exception"
    ]
   },
   "outputs": [
    {
     "ename": "ZeroDivisionError",
     "evalue": "division by zero",
     "output_type": "error",
     "traceback": [
      "\u001b[0;31m---------------------------------------------------------------------------\u001b[0m",
      "\u001b[0;31mZeroDivisionError\u001b[0m                         Traceback (most recent call last)",
      "\u001b[0;32m/tmp/ipykernel_1934/1165346582.py\u001b[0m in \u001b[0;36m<module>\u001b[0;34m\u001b[0m\n\u001b[0;32m----> 1\u001b[0;31m \u001b[0mdivision\u001b[0m\u001b[0;34m(\u001b[0m\u001b[0;36m1\u001b[0m\u001b[0;34m,\u001b[0m \u001b[0;36m0\u001b[0m\u001b[0;34m)\u001b[0m  \u001b[0;31m# No se puede dividir por cero\u001b[0m\u001b[0;34m\u001b[0m\u001b[0;34m\u001b[0m\u001b[0m\n\u001b[0m",
      "\u001b[0;32m/tmp/ipykernel_1934/2607187721.py\u001b[0m in \u001b[0;36mdivision\u001b[0;34m(dividendo, divisor)\u001b[0m\n\u001b[1;32m      3\u001b[0m \u001b[0;34m\u001b[0m\u001b[0m\n\u001b[1;32m      4\u001b[0m \u001b[0;32mdef\u001b[0m \u001b[0mdivision\u001b[0m\u001b[0;34m(\u001b[0m\u001b[0mdividendo\u001b[0m\u001b[0;34m,\u001b[0m \u001b[0mdivisor\u001b[0m\u001b[0;34m=\u001b[0m\u001b[0;36m2\u001b[0m\u001b[0;34m)\u001b[0m\u001b[0;34m:\u001b[0m\u001b[0;34m\u001b[0m\u001b[0;34m\u001b[0m\u001b[0m\n\u001b[0;32m----> 5\u001b[0;31m     \u001b[0;32mreturn\u001b[0m \u001b[0mdividendo\u001b[0m \u001b[0;34m/\u001b[0m \u001b[0mdivisor\u001b[0m\u001b[0;34m\u001b[0m\u001b[0;34m\u001b[0m\u001b[0m\n\u001b[0m\u001b[1;32m      6\u001b[0m \u001b[0;34m\u001b[0m\u001b[0m\n\u001b[1;32m      7\u001b[0m \u001b[0;34m\u001b[0m\u001b[0m\n",
      "\u001b[0;31mZeroDivisionError\u001b[0m: division by zero"
     ]
    }
   ],
   "source": [
    "division(1, 0)  # No se puede dividir por cero"
   ]
  },
  {
   "cell_type": "code",
   "execution_count": 89,
   "id": "19c5a3c5",
   "metadata": {
    "execution": {
     "iopub.execute_input": "2021-09-28T20:16:07.639329Z",
     "iopub.status.busy": "2021-09-28T20:16:07.638833Z",
     "iopub.status.idle": "2021-09-28T20:16:07.642211Z",
     "shell.execute_reply": "2021-09-28T20:16:07.642617Z"
    }
   },
   "outputs": [
    {
     "name": "stdout",
     "output_type": "stream",
     "text": [
      "No se puede dividir por cero, ojo! division by zero\n",
      "1\n"
     ]
    }
   ],
   "source": [
    "try:\n",
    "    division(1, 0)\n",
    "except (ZeroDivisionError, TypeError) as e:\n",
    "    print('No se puede dividir por cero, ojo!', e)\n",
    "finally:\n",
    "    print(1)"
   ]
  },
  {
   "cell_type": "markdown",
   "id": "5d3559d2",
   "metadata": {
    "slideshow": {
     "slide_type": "slide"
    }
   },
   "source": [
    "## Lectura y escritura de archivos"
   ]
  },
  {
   "cell_type": "code",
   "execution_count": 90,
   "id": "ed9b0e4d",
   "metadata": {
    "execution": {
     "iopub.execute_input": "2021-09-28T20:16:07.647586Z",
     "iopub.status.busy": "2021-09-28T20:16:07.647090Z",
     "iopub.status.idle": "2021-09-28T20:16:07.650713Z",
     "shell.execute_reply": "2021-09-28T20:16:07.651090Z"
    },
    "slideshow": {
     "slide_type": "slide"
    }
   },
   "outputs": [
    {
     "name": "stdout",
     "output_type": "stream",
     "text": [
      "<_io.TextIOWrapper name='archivo.csv' mode='w' encoding='UTF-8'>\n"
     ]
    }
   ],
   "source": [
    "import random\n",
    "\n",
    "with open(\n",
    "    'archivo.csv', 'w'\n",
    ") as archivo:  # Al usar esta sintaxis no es necesario hacer close\n",
    "    archivo.write(\"Alumno, nota\\n\")\n",
    "    # Tambien de forma similar al fprintf se puede hacer:\n",
    "    # print(\"Alumno, nota\\n\", file=archivo)\n",
    "    for i in range(0, 10):\n",
    "        archivo.write(f\"{i},{random.randrange(0,10)}\\n\")\n",
    "\n",
    "print(archivo)  # Comentario aclaratorio:\n",
    "# Las variables definidas en un determinado scope siguen existiendo por fuera del mismo.\n",
    "# Se debe tener cuidado con esto, ya que nada garantiza que por fuera el valor sea el esperado."
   ]
  },
  {
   "cell_type": "code",
   "execution_count": 91,
   "id": "ecbc6743",
   "metadata": {
    "execution": {
     "iopub.execute_input": "2021-09-28T20:16:07.654893Z",
     "iopub.status.busy": "2021-09-28T20:16:07.654404Z",
     "iopub.status.idle": "2021-09-28T20:16:07.659034Z",
     "shell.execute_reply": "2021-09-28T20:16:07.658602Z"
    },
    "slideshow": {
     "slide_type": "slide"
    }
   },
   "outputs": [
    {
     "name": "stdout",
     "output_type": "stream",
     "text": [
      "Alumno, nota\n",
      "0,6\n",
      "1,0\n",
      "2,5\n",
      "3,1\n",
      "4,4\n",
      "5,3\n",
      "6,5\n",
      "7,2\n",
      "8,3\n",
      "9,1\n"
     ]
    }
   ],
   "source": [
    "with open('archivo.csv', 'r') as f:\n",
    "    for linea in f:\n",
    "        print(linea.strip())"
   ]
  },
  {
   "cell_type": "code",
   "execution_count": 92,
   "id": "ed96e794",
   "metadata": {
    "execution": {
     "iopub.execute_input": "2021-09-28T20:16:07.662799Z",
     "iopub.status.busy": "2021-09-28T20:16:07.662308Z",
     "iopub.status.idle": "2021-09-28T20:16:07.666185Z",
     "shell.execute_reply": "2021-09-28T20:16:07.665746Z"
    }
   },
   "outputs": [
    {
     "name": "stdout",
     "output_type": "stream",
     "text": [
      "Alumno, nota\n",
      "0,6\n",
      "1,0\n",
      "2,5\n",
      "3,1\n",
      "4,4\n",
      "5,3\n",
      "6,5\n",
      "7,2\n",
      "8,3\n",
      "9,1\n",
      "\n"
     ]
    }
   ],
   "source": [
    "with open('archivo.csv', 'r') as f:\n",
    "    print(f.read())"
   ]
  },
  {
   "cell_type": "code",
   "execution_count": 93,
   "id": "18743efb",
   "metadata": {
    "execution": {
     "iopub.execute_input": "2021-09-28T20:16:07.670113Z",
     "iopub.status.busy": "2021-09-28T20:16:07.669612Z",
     "iopub.status.idle": "2021-09-28T20:16:07.672607Z",
     "shell.execute_reply": "2021-09-28T20:16:07.673024Z"
    }
   },
   "outputs": [],
   "source": [
    "f = open('archivo.csv', 'w')\n",
    "f.write(\"algo, algo\")\n",
    "f.close()"
   ]
  },
  {
   "cell_type": "markdown",
   "id": "1be725f4",
   "metadata": {
    "slideshow": {
     "slide_type": "slide"
    }
   },
   "source": [
    "## Objetos\n",
    "\n",
    "Los objetos tienen metodos y atributos:\n",
    "- Atributos: equivalentes a variables.\n",
    "- Métodos: equivalentes a las primitivas."
   ]
  },
  {
   "cell_type": "markdown",
   "id": "147b68f8",
   "metadata": {
    "slideshow": {
     "slide_type": "slide"
    }
   },
   "source": [
    "### Cómo creo una clase"
   ]
  },
  {
   "cell_type": "code",
   "execution_count": 94,
   "id": "48e42f6b",
   "metadata": {
    "execution": {
     "iopub.execute_input": "2021-09-28T20:16:07.678513Z",
     "iopub.status.busy": "2021-09-28T20:16:07.678018Z",
     "iopub.status.idle": "2021-09-28T20:16:07.681250Z",
     "shell.execute_reply": "2021-09-28T20:16:07.680813Z"
    },
    "slideshow": {
     "slide_type": "slide"
    }
   },
   "outputs": [],
   "source": [
    "class Nodo(object):\n",
    "    def __init__(self, dato, siguiente=None):\n",
    "        self._dato = dato\n",
    "        self._siguiente = siguiente\n",
    "\n",
    "    @property\n",
    "    def dato(self):\n",
    "        return self._dato\n",
    "\n",
    "    @property\n",
    "    def proximo(self):\n",
    "        return self._siguiente\n",
    "\n",
    "    @proximo.setter\n",
    "    def proximo(self, siguiente):\n",
    "        self._siguiente = siguiente\n",
    "\n",
    "    def __repr__(self):\n",
    "        return str(self.dato)\n",
    "\n",
    "    def __str__(self):\n",
    "        return str(self.dato)"
   ]
  },
  {
   "cell_type": "code",
   "execution_count": 95,
   "id": "f813e100",
   "metadata": {
    "execution": {
     "iopub.execute_input": "2021-09-28T20:16:07.684869Z",
     "iopub.status.busy": "2021-09-28T20:16:07.684346Z",
     "iopub.status.idle": "2021-09-28T20:16:07.688419Z",
     "shell.execute_reply": "2021-09-28T20:16:07.687903Z"
    },
    "slideshow": {
     "slide_type": "slide"
    }
   },
   "outputs": [
    {
     "name": "stdout",
     "output_type": "stream",
     "text": [
      "hola\n"
     ]
    }
   ],
   "source": [
    "nodo = Nodo(\"hola\")\n",
    "print(nodo)"
   ]
  },
  {
   "cell_type": "code",
   "execution_count": 96,
   "id": "bd1be033",
   "metadata": {
    "execution": {
     "iopub.execute_input": "2021-09-28T20:16:07.693112Z",
     "iopub.status.busy": "2021-09-28T20:16:07.692479Z",
     "iopub.status.idle": "2021-09-28T20:16:07.694813Z",
     "shell.execute_reply": "2021-09-28T20:16:07.695373Z"
    },
    "slideshow": {
     "slide_type": "slide"
    }
   },
   "outputs": [
    {
     "name": "stdout",
     "output_type": "stream",
     "text": [
      "[hola, lala]\n"
     ]
    }
   ],
   "source": [
    "nodo2 = Nodo(\"lala\")\n",
    "print([nodo, nodo2])"
   ]
  },
  {
   "cell_type": "code",
   "execution_count": 97,
   "id": "f90fe023",
   "metadata": {
    "execution": {
     "iopub.execute_input": "2021-09-28T20:16:07.699941Z",
     "iopub.status.busy": "2021-09-28T20:16:07.699243Z",
     "iopub.status.idle": "2021-09-28T20:16:07.703424Z",
     "shell.execute_reply": "2021-09-28T20:16:07.703824Z"
    },
    "slideshow": {
     "slide_type": "slide"
    }
   },
   "outputs": [
    {
     "name": "stdout",
     "output_type": "stream",
     "text": [
      "hola\n"
     ]
    }
   ],
   "source": [
    "nodo3 = nodo.dato\n",
    "print(nodo3)"
   ]
  },
  {
   "cell_type": "markdown",
   "id": "edb635c0",
   "metadata": {
    "slideshow": {
     "slide_type": "slide"
    }
   },
   "source": [
    "### Ejemplo: Lista Enlazada"
   ]
  },
  {
   "cell_type": "code",
   "execution_count": 98,
   "id": "20d75670",
   "metadata": {
    "execution": {
     "iopub.execute_input": "2021-09-28T20:16:07.712222Z",
     "iopub.status.busy": "2021-09-28T20:16:07.711687Z",
     "iopub.status.idle": "2021-09-28T20:16:07.715153Z",
     "shell.execute_reply": "2021-09-28T20:16:07.714726Z"
    },
    "slideshow": {
     "slide_type": "slide"
    }
   },
   "outputs": [],
   "source": [
    "class ListaEnlazada(object):\n",
    "    def __init__(self):\n",
    "        self._primero = None\n",
    "        self._ultimo = None\n",
    "        self._largo = 0\n",
    "\n",
    "    def __len__(self):\n",
    "        return self._largo\n",
    "\n",
    "    def insertar_al_principio(self, dato):\n",
    "        nodo = Nodo(dato, self._primero)\n",
    "        self._primero = nodo\n",
    "        self._largo += 1\n",
    "        if self._largo == 1:\n",
    "            self._ultimo = nodo\n",
    "\n",
    "    def insertar_al_final(self, dato):\n",
    "        if self._largo != 0:\n",
    "            nodo = Nodo(dato)\n",
    "            nodo_anterior = self._ultimo\n",
    "            nodo_anterior._siguiente = nodo\n",
    "            self._ultimo = nodo\n",
    "            self._largo += 1\n",
    "        else:\n",
    "            self.insertar_al_principio(dato)\n",
    "\n",
    "    @property\n",
    "    def primero(self):\n",
    "        return self._primero.dato\n",
    "\n",
    "    def borrar_primero(self):\n",
    "        dato = self.primero.dato\n",
    "        self._primero = self.primero.siguiente\n",
    "        self._largo -= 1\n",
    "        if self._largo == 0:\n",
    "            self._ultimo = None\n",
    "        return dato\n",
    "\n",
    "    def __str__(self):\n",
    "        datos = []\n",
    "        nodo_actual = self._primero\n",
    "        while nodo_actual:\n",
    "            datos.append(nodo_actual.dato)\n",
    "            nodo_actual = nodo_actual.proximo\n",
    "        return \" -> \".join(datos)\n",
    "\n",
    "    def __repr__(self):\n",
    "        return self.__str__()"
   ]
  },
  {
   "cell_type": "code",
   "execution_count": 99,
   "id": "291c4d03",
   "metadata": {
    "execution": {
     "iopub.execute_input": "2021-09-28T20:16:07.719656Z",
     "iopub.status.busy": "2021-09-28T20:16:07.719163Z",
     "iopub.status.idle": "2021-09-28T20:16:07.724102Z",
     "shell.execute_reply": "2021-09-28T20:16:07.723699Z"
    },
    "slideshow": {
     "slide_type": "slide"
    }
   },
   "outputs": [
    {
     "data": {
      "text/plain": [
       "2"
      ]
     },
     "execution_count": 99,
     "metadata": {},
     "output_type": "execute_result"
    }
   ],
   "source": [
    "lista = ListaEnlazada()\n",
    "lista.insertar_al_principio(\"Primer Dato\")\n",
    "lista.insertar_al_principio(\"Primer primer Dato\")\n",
    "len(lista)"
   ]
  },
  {
   "cell_type": "code",
   "execution_count": 100,
   "id": "0eb72b2c",
   "metadata": {
    "execution": {
     "iopub.execute_input": "2021-09-28T20:16:07.727926Z",
     "iopub.status.busy": "2021-09-28T20:16:07.727440Z",
     "iopub.status.idle": "2021-09-28T20:16:07.732261Z",
     "shell.execute_reply": "2021-09-28T20:16:07.731854Z"
    }
   },
   "outputs": [
    {
     "data": {
      "text/plain": [
       "Primer primer Dato -> Primer Dato"
      ]
     },
     "execution_count": 100,
     "metadata": {},
     "output_type": "execute_result"
    }
   ],
   "source": [
    "lista"
   ]
  },
  {
   "cell_type": "code",
   "execution_count": 101,
   "id": "c9202568",
   "metadata": {
    "execution": {
     "iopub.execute_input": "2021-09-28T20:16:07.735925Z",
     "iopub.status.busy": "2021-09-28T20:16:07.735420Z",
     "iopub.status.idle": "2021-09-28T20:16:07.739484Z",
     "shell.execute_reply": "2021-09-28T20:16:07.739078Z"
    },
    "slideshow": {
     "slide_type": "slide"
    }
   },
   "outputs": [
    {
     "name": "stdout",
     "output_type": "stream",
     "text": [
      "Primer primer Dato\n"
     ]
    }
   ],
   "source": [
    "elemento = lista.primero\n",
    "print(elemento)"
   ]
  },
  {
   "cell_type": "markdown",
   "id": "5e3aeca7",
   "metadata": {},
   "source": [
    "## Recursos\n",
    "\n",
    "* [Taller de Python de Algoritmos II](https://github.com/algoritmos-rw/algo2_apuntes)\n",
    "\n",
    "* [Documentación de Python 3](https://docs.python.org/3/tutorial/)\n",
    "\n",
    "* [Apunte de Algoritmos y Programación I](https://algoritmos1rw.ddns.net/material)\n",
    "\n",
    "* [Automate the Boring Stuff with Python](http://automatetheboringstuff.com/)\n",
    "\n",
    "* [Curso Python](https://pythoncurso.github.io)\n",
    "\n",
    "* [Python Tutor](http://pythontutor.com/)\n",
    "\n",
    "* [Learn Python3 in Y minutes](https://learnxinyminutes.com/docs/python3/)\n",
    "\n",
    "* [Bibliografía de Algoritmos y Programación I](https://algoritmos1rw.ddns.net/bibliografia)"
   ]
  }
 ],
 "metadata": {
  "jupytext": {
   "encoding": "# -*- coding: utf-8 -*-",
   "formats": "ipynb,py:light"
  },
  "kernelspec": {
   "display_name": "Python 3 (venv)",
   "language": "python",
   "name": "python3"
  },
  "language_info": {
   "codemirror_mode": {
    "name": "ipython",
    "version": 3
   },
   "file_extension": ".py",
   "mimetype": "text/x-python",
   "name": "python",
   "nbconvert_exporter": "python",
   "pygments_lexer": "ipython3",
   "version": "3.7.12"
  }
 },
 "nbformat": 4,
 "nbformat_minor": 5
}
