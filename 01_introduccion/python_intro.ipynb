{
 "cells": [
  {
   "cell_type": "markdown",
   "id": "2ecf3597",
   "metadata": {},
   "source": [
    "# Python"
   ]
  },
  {
   "cell_type": "markdown",
   "id": "6671ecca",
   "metadata": {
    "slideshow": {
     "slide_type": "slide"
    }
   },
   "source": [
    "## Un poco de Historia"
   ]
  },
  {
   "cell_type": "markdown",
   "id": "b0b6bf82",
   "metadata": {
    "slideshow": {
     "slide_type": "subslide"
    }
   },
   "source": [
    "Python fue creado a finales de los años 80 por un programador holandés llamado **Guido van Rossum**,\n",
    "quien sigue siendo aún hoy el líder del desarrollo del lenguaje.\n",
    "\n",
    "(Edit julio 2018: [ya no más](https://www.mail-archive.com/python-committers@python.org/msg05628.html))"
   ]
  },
  {
   "cell_type": "markdown",
   "id": "652e5841",
   "metadata": {
    "slideshow": {
     "slide_type": "subslide"
    }
   },
   "source": [
    "El nombre del lenguaje proviene de los humoristas británicos Monty Python.\n",
    "\n",
    ">*\"I chose Python as a working title for the project, being in a slightly irreverent mood (and a big fan of Monty Python's Flying Circus).\"*"
   ]
  },
  {
   "cell_type": "markdown",
   "id": "d97aa5e3",
   "metadata": {
    "slideshow": {
     "slide_type": "slide"
    }
   },
   "source": [
    "## Caracteristicas\n",
    "\n",
    "- Interpretado\n",
    "- Tipado dinamico\n",
    "- Multiparadigma\n",
    "- Alto nivel\n",
    "- Tiene un recolector de basura (no hay malloc, free, realloc, etc)"
   ]
  },
  {
   "cell_type": "markdown",
   "id": "0b64453f",
   "metadata": {},
   "source": [
    "## ¿Cómo empezar?\n",
    "\n",
    "* Al ser un lenguaje *interpretado*, se puede ir escribiendo a medida que se ejecuta, sin necesidad de compilar de antemano! Solamente hace falta escribir `python` o `python3` en una terminal para empezar\n",
    "\n",
    "* También, permite escribir archivos y correrlos. Crear un archivo con extensión `.py` y luego correr `python miarchivo.py` en laterminal"
   ]
  },
  {
   "cell_type": "markdown",
   "id": "1b45c685",
   "metadata": {
    "slideshow": {
     "slide_type": "slide"
    }
   },
   "source": [
    "## El Zen de Python"
   ]
  },
  {
   "cell_type": "code",
   "execution_count": 1,
   "id": "ab9aa8ed",
   "metadata": {
    "execution": {
     "iopub.execute_input": "2021-11-02T17:50:39.958558Z",
     "iopub.status.busy": "2021-11-02T17:50:39.957974Z",
     "iopub.status.idle": "2021-11-02T17:50:40.004461Z",
     "shell.execute_reply": "2021-11-02T17:50:40.004921Z"
    },
    "slideshow": {
     "slide_type": "slide"
    }
   },
   "outputs": [
    {
     "name": "stdout",
     "output_type": "stream",
     "text": [
      "The Zen of Python, by Tim Peters\n",
      "\n",
      "Beautiful is better than ugly.\n",
      "Explicit is better than implicit.\n",
      "Simple is better than complex.\n",
      "Complex is better than complicated.\n",
      "Flat is better than nested.\n",
      "Sparse is better than dense.\n",
      "Readability counts.\n",
      "Special cases aren't special enough to break the rules.\n",
      "Although practicality beats purity.\n",
      "Errors should never pass silently.\n",
      "Unless explicitly silenced.\n",
      "In the face of ambiguity, refuse the temptation to guess.\n",
      "There should be one-- and preferably only one --obvious way to do it.\n",
      "Although that way may not be obvious at first unless you're Dutch.\n",
      "Now is better than never.\n",
      "Although never is often better than *right* now.\n",
      "If the implementation is hard to explain, it's a bad idea.\n",
      "If the implementation is easy to explain, it may be a good idea.\n",
      "Namespaces are one honking great idea -- let's do more of those!\n"
     ]
    }
   ],
   "source": [
    "import this"
   ]
  },
  {
   "cell_type": "markdown",
   "id": "cf0a0dbe",
   "metadata": {
    "slideshow": {
     "slide_type": "slide"
    }
   },
   "source": [
    "## Conocimientos Básicos de Python: Variables y Tipos"
   ]
  },
  {
   "cell_type": "code",
   "execution_count": 2,
   "id": "a1bc850a",
   "metadata": {
    "execution": {
     "iopub.execute_input": "2021-11-02T17:50:40.009155Z",
     "iopub.status.busy": "2021-11-02T17:50:40.008396Z",
     "iopub.status.idle": "2021-11-02T17:50:40.013257Z",
     "shell.execute_reply": "2021-11-02T17:50:40.012686Z"
    },
    "slideshow": {
     "slide_type": "slide"
    }
   },
   "outputs": [
    {
     "name": "stdout",
     "output_type": "stream",
     "text": [
      "Hello World!\n"
     ]
    }
   ],
   "source": [
    "# Este es un comentario\n",
    "\n",
    "print(\"Hello World!\")"
   ]
  },
  {
   "cell_type": "markdown",
   "id": "60b37c06",
   "metadata": {},
   "source": [
    "Los strings en python puden escribirse tanto con comillas simples (`'`) como comillas dobles (`\"`). Normalmente vemos texto entre comillas triples para escribir _docstrings_, segun la guia de estilo de Python, el PEP8."
   ]
  },
  {
   "cell_type": "code",
   "execution_count": 3,
   "id": "60f210aa",
   "metadata": {
    "execution": {
     "iopub.execute_input": "2021-11-02T17:50:40.024174Z",
     "iopub.status.busy": "2021-11-02T17:50:40.020902Z",
     "iopub.status.idle": "2021-11-02T17:50:40.029375Z",
     "shell.execute_reply": "2021-11-02T17:50:40.029840Z"
    }
   },
   "outputs": [
    {
     "data": {
      "text/plain": [
       "'Esto es un docstring.\\n'"
      ]
     },
     "execution_count": 3,
     "metadata": {},
     "output_type": "execute_result"
    }
   ],
   "source": [
    "\"\"\"Esto es un docstring.\n",
    "\"\"\""
   ]
  },
  {
   "cell_type": "markdown",
   "id": "54451c95",
   "metadata": {},
   "source": [
    "### Declaracion de variables"
   ]
  },
  {
   "cell_type": "code",
   "execution_count": 4,
   "id": "46100e5d",
   "metadata": {
    "execution": {
     "iopub.execute_input": "2021-11-02T17:50:40.034349Z",
     "iopub.status.busy": "2021-11-02T17:50:40.033766Z",
     "iopub.status.idle": "2021-11-02T17:50:40.038799Z",
     "shell.execute_reply": "2021-11-02T17:50:40.039413Z"
    }
   },
   "outputs": [
    {
     "name": "stdout",
     "output_type": "stream",
     "text": [
      "Hola\n"
     ]
    }
   ],
   "source": [
    "string = 'Hola'\n",
    "print(string)"
   ]
  },
  {
   "cell_type": "code",
   "execution_count": 5,
   "id": "59aa5826",
   "metadata": {
    "execution": {
     "iopub.execute_input": "2021-11-02T17:50:40.045171Z",
     "iopub.status.busy": "2021-11-02T17:50:40.044592Z",
     "iopub.status.idle": "2021-11-02T17:50:40.049266Z",
     "shell.execute_reply": "2021-11-02T17:50:40.049704Z"
    }
   },
   "outputs": [
    {
     "name": "stdout",
     "output_type": "stream",
     "text": [
      "1\n"
     ]
    }
   ],
   "source": [
    "entero = 1\n",
    "print(entero)"
   ]
  },
  {
   "cell_type": "code",
   "execution_count": 6,
   "id": "8b0cbb6f",
   "metadata": {
    "execution": {
     "iopub.execute_input": "2021-11-02T17:50:40.054457Z",
     "iopub.status.busy": "2021-11-02T17:50:40.053898Z",
     "iopub.status.idle": "2021-11-02T17:50:40.060565Z",
     "shell.execute_reply": "2021-11-02T17:50:40.061094Z"
    }
   },
   "outputs": [
    {
     "name": "stdout",
     "output_type": "stream",
     "text": [
      "1.0\n"
     ]
    }
   ],
   "source": [
    "flotante = 1.0\n",
    "print(flotante)"
   ]
  },
  {
   "cell_type": "code",
   "execution_count": 7,
   "id": "be4b31d5",
   "metadata": {
    "execution": {
     "iopub.execute_input": "2021-11-02T17:50:40.067990Z",
     "iopub.status.busy": "2021-11-02T17:50:40.067352Z",
     "iopub.status.idle": "2021-11-02T17:50:40.070194Z",
     "shell.execute_reply": "2021-11-02T17:50:40.070733Z"
    }
   },
   "outputs": [
    {
     "name": "stdout",
     "output_type": "stream",
     "text": [
      "(1, 1.0)\n"
     ]
    }
   ],
   "source": [
    "tupla = (entero, flotante)\n",
    "print(tupla)"
   ]
  },
  {
   "cell_type": "code",
   "execution_count": 8,
   "id": "f2a22291",
   "metadata": {
    "execution": {
     "iopub.execute_input": "2021-11-02T17:50:40.076116Z",
     "iopub.status.busy": "2021-11-02T17:50:40.075110Z",
     "iopub.status.idle": "2021-11-02T17:50:40.077718Z",
     "shell.execute_reply": "2021-11-02T17:50:40.078205Z"
    }
   },
   "outputs": [
    {
     "name": "stdout",
     "output_type": "stream",
     "text": [
      "(1, 1.0, 'Hola')\n"
     ]
    }
   ],
   "source": [
    "nupla = (entero, flotante, string)\n",
    "print(nupla)"
   ]
  },
  {
   "cell_type": "code",
   "execution_count": 9,
   "id": "79e8ba3b",
   "metadata": {
    "execution": {
     "iopub.execute_input": "2021-11-02T17:50:40.083205Z",
     "iopub.status.busy": "2021-11-02T17:50:40.082611Z",
     "iopub.status.idle": "2021-11-02T17:50:40.088536Z",
     "shell.execute_reply": "2021-11-02T17:50:40.089040Z"
    }
   },
   "outputs": [
    {
     "name": "stdout",
     "output_type": "stream",
     "text": [
      "[1, 1.0, 'Hola']\n"
     ]
    }
   ],
   "source": [
    "lista = [entero, flotante, string]\n",
    "print(lista)"
   ]
  },
  {
   "cell_type": "code",
   "execution_count": 10,
   "id": "6593b05a",
   "metadata": {
    "execution": {
     "iopub.execute_input": "2021-11-02T17:50:40.093400Z",
     "iopub.status.busy": "2021-11-02T17:50:40.092801Z",
     "iopub.status.idle": "2021-11-02T17:50:40.097995Z",
     "shell.execute_reply": "2021-11-02T17:50:40.097412Z"
    }
   },
   "outputs": [
    {
     "name": "stdout",
     "output_type": "stream",
     "text": [
      "{'1': (1, 1.0), 50: (1, 1.0, 'Hola'), '3': 1}\n"
     ]
    }
   ],
   "source": [
    "diccionario = {'1': tupla, 50: nupla, '3': entero}\n",
    "print(diccionario)"
   ]
  },
  {
   "cell_type": "code",
   "execution_count": 11,
   "id": "51e8b334",
   "metadata": {
    "execution": {
     "iopub.execute_input": "2021-11-02T17:50:40.102478Z",
     "iopub.status.busy": "2021-11-02T17:50:40.101922Z",
     "iopub.status.idle": "2021-11-02T17:50:40.106550Z",
     "shell.execute_reply": "2021-11-02T17:50:40.106067Z"
    }
   },
   "outputs": [
    {
     "name": "stdout",
     "output_type": "stream",
     "text": [
      "{1, 2}\n"
     ]
    }
   ],
   "source": [
    "conjunto = set([1, 2])\n",
    "print(conjunto)"
   ]
  },
  {
   "cell_type": "code",
   "execution_count": 12,
   "id": "71c24d1a",
   "metadata": {
    "execution": {
     "iopub.execute_input": "2021-11-02T17:50:40.110947Z",
     "iopub.status.busy": "2021-11-02T17:50:40.110363Z",
     "iopub.status.idle": "2021-11-02T17:50:40.114763Z",
     "shell.execute_reply": "2021-11-02T17:50:40.115353Z"
    }
   },
   "outputs": [
    {
     "name": "stdout",
     "output_type": "stream",
     "text": [
      "True\n"
     ]
    }
   ],
   "source": [
    "booleano = True\n",
    "print(booleano)"
   ]
  },
  {
   "cell_type": "code",
   "execution_count": 13,
   "id": "ac5e3541",
   "metadata": {
    "execution": {
     "iopub.execute_input": "2021-11-02T17:50:40.119838Z",
     "iopub.status.busy": "2021-11-02T17:50:40.119217Z",
     "iopub.status.idle": "2021-11-02T17:50:40.121953Z",
     "shell.execute_reply": "2021-11-02T17:50:40.121390Z"
    }
   },
   "outputs": [
    {
     "name": "stdout",
     "output_type": "stream",
     "text": [
      "None\n"
     ]
    }
   ],
   "source": [
    "nada = None\n",
    "print(nada)"
   ]
  },
  {
   "cell_type": "markdown",
   "id": "e1a88868",
   "metadata": {},
   "source": [
    "Ojo que las variables pueden cambiar de tipo!"
   ]
  },
  {
   "cell_type": "code",
   "execution_count": 14,
   "id": "780e83cb",
   "metadata": {
    "execution": {
     "iopub.execute_input": "2021-11-02T17:50:40.125659Z",
     "iopub.status.busy": "2021-11-02T17:50:40.124482Z",
     "iopub.status.idle": "2021-11-02T17:50:40.128875Z",
     "shell.execute_reply": "2021-11-02T17:50:40.128221Z"
    }
   },
   "outputs": [
    {
     "name": "stdout",
     "output_type": "stream",
     "text": [
      "1\n",
      "<class 'int'>\n"
     ]
    }
   ],
   "source": [
    "elemento = 1\n",
    "print(elemento)\n",
    "print(type(elemento))"
   ]
  },
  {
   "cell_type": "code",
   "execution_count": 15,
   "id": "c0451203",
   "metadata": {
    "execution": {
     "iopub.execute_input": "2021-11-02T17:50:40.132909Z",
     "iopub.status.busy": "2021-11-02T17:50:40.132267Z",
     "iopub.status.idle": "2021-11-02T17:50:40.135554Z",
     "shell.execute_reply": "2021-11-02T17:50:40.134993Z"
    }
   },
   "outputs": [
    {
     "name": "stdout",
     "output_type": "stream",
     "text": [
      "1\n",
      "<class 'str'>\n"
     ]
    }
   ],
   "source": [
    "elemento = str(1)\n",
    "print(elemento)\n",
    "print(type(elemento))"
   ]
  },
  {
   "cell_type": "code",
   "execution_count": 16,
   "id": "72ce62da",
   "metadata": {
    "execution": {
     "iopub.execute_input": "2021-11-02T17:50:40.140032Z",
     "iopub.status.busy": "2021-11-02T17:50:40.139252Z",
     "iopub.status.idle": "2021-11-02T17:50:40.142863Z",
     "shell.execute_reply": "2021-11-02T17:50:40.142401Z"
    }
   },
   "outputs": [
    {
     "name": "stdout",
     "output_type": "stream",
     "text": [
      "[2]\n",
      "<class 'list'>\n"
     ]
    }
   ],
   "source": [
    "elemento = [2]\n",
    "\n",
    "print(elemento)\n",
    "print(type(elemento))"
   ]
  },
  {
   "cell_type": "markdown",
   "id": "9ab26831",
   "metadata": {},
   "source": [
    "### Tipos basicos"
   ]
  },
  {
   "cell_type": "markdown",
   "id": "6000628d",
   "metadata": {
    "slideshow": {
     "slide_type": "slide"
    }
   },
   "source": [
    "#### Listas de Python"
   ]
  },
  {
   "cell_type": "code",
   "execution_count": 17,
   "id": "f5312889",
   "metadata": {
    "execution": {
     "iopub.execute_input": "2021-11-02T17:50:40.147332Z",
     "iopub.status.busy": "2021-11-02T17:50:40.146689Z",
     "iopub.status.idle": "2021-11-02T17:50:40.150183Z",
     "shell.execute_reply": "2021-11-02T17:50:40.149618Z"
    }
   },
   "outputs": [
    {
     "data": {
      "text/plain": [
       "[]"
      ]
     },
     "execution_count": 17,
     "metadata": {},
     "output_type": "execute_result"
    }
   ],
   "source": [
    "lista = list()\n",
    "lista"
   ]
  },
  {
   "cell_type": "code",
   "execution_count": 18,
   "id": "662582a9",
   "metadata": {
    "execution": {
     "iopub.execute_input": "2021-11-02T17:50:40.155170Z",
     "iopub.status.busy": "2021-11-02T17:50:40.154609Z",
     "iopub.status.idle": "2021-11-02T17:50:40.157888Z",
     "shell.execute_reply": "2021-11-02T17:50:40.158346Z"
    },
    "slideshow": {
     "slide_type": "slide"
    }
   },
   "outputs": [
    {
     "data": {
      "text/plain": [
       "[]"
      ]
     },
     "execution_count": 18,
     "metadata": {},
     "output_type": "execute_result"
    }
   ],
   "source": [
    "lista = []\n",
    "lista"
   ]
  },
  {
   "cell_type": "code",
   "execution_count": 19,
   "id": "5293a0d2",
   "metadata": {
    "execution": {
     "iopub.execute_input": "2021-11-02T17:50:40.161220Z",
     "iopub.status.busy": "2021-11-02T17:50:40.160659Z",
     "iopub.status.idle": "2021-11-02T17:50:40.165640Z",
     "shell.execute_reply": "2021-11-02T17:50:40.165155Z"
    },
    "slideshow": {
     "slide_type": "slide"
    }
   },
   "outputs": [
    {
     "data": {
      "text/plain": [
       "[1, 2, 3, 4]"
      ]
     },
     "execution_count": 19,
     "metadata": {},
     "output_type": "execute_result"
    }
   ],
   "source": [
    "lista = [1, 2, 3, 4]\n",
    "lista"
   ]
  },
  {
   "cell_type": "code",
   "execution_count": 20,
   "id": "49c83ff3",
   "metadata": {
    "execution": {
     "iopub.execute_input": "2021-11-02T17:50:40.170911Z",
     "iopub.status.busy": "2021-11-02T17:50:40.168513Z",
     "iopub.status.idle": "2021-11-02T17:50:40.173781Z",
     "shell.execute_reply": "2021-11-02T17:50:40.174260Z"
    },
    "slideshow": {
     "slide_type": "slide"
    }
   },
   "outputs": [
    {
     "data": {
      "text/plain": [
       "[1, 2, 3, 4, 1, 'dos', 3.0]"
      ]
     },
     "execution_count": 20,
     "metadata": {},
     "output_type": "execute_result"
    }
   ],
   "source": [
    "lista.append(1)  # Inserto un 1 al final\n",
    "lista.append(\"dos\")  # Inserto un \"dos\" al final\n",
    "lista.append(3.0)  # Inserto un 3.0 al final\n",
    "lista"
   ]
  },
  {
   "cell_type": "code",
   "execution_count": 21,
   "id": "f8e42994",
   "metadata": {
    "execution": {
     "iopub.execute_input": "2021-11-02T17:50:40.180027Z",
     "iopub.status.busy": "2021-11-02T17:50:40.178394Z",
     "iopub.status.idle": "2021-11-02T17:50:40.182238Z",
     "shell.execute_reply": "2021-11-02T17:50:40.181725Z"
    }
   },
   "outputs": [
    {
     "name": "stdout",
     "output_type": "stream",
     "text": [
      "[1, 2, 10, 3, 4, 1, 'dos', 3.0]\n"
     ]
    }
   ],
   "source": [
    "lista.insert(2, 10)  # Inserto en posicion 2 un 10\n",
    "print(lista)"
   ]
  },
  {
   "cell_type": "code",
   "execution_count": 22,
   "id": "705e142b",
   "metadata": {
    "execution": {
     "iopub.execute_input": "2021-11-02T17:50:40.188106Z",
     "iopub.status.busy": "2021-11-02T17:50:40.186689Z",
     "iopub.status.idle": "2021-11-02T17:50:40.190767Z",
     "shell.execute_reply": "2021-11-02T17:50:40.190263Z"
    }
   },
   "outputs": [
    {
     "data": {
      "text/plain": [
       "8"
      ]
     },
     "execution_count": 22,
     "metadata": {},
     "output_type": "execute_result"
    }
   ],
   "source": [
    "len(lista)"
   ]
  },
  {
   "cell_type": "code",
   "execution_count": 23,
   "id": "52be1dee",
   "metadata": {
    "execution": {
     "iopub.execute_input": "2021-11-02T17:50:40.196745Z",
     "iopub.status.busy": "2021-11-02T17:50:40.195238Z",
     "iopub.status.idle": "2021-11-02T17:50:40.199484Z",
     "shell.execute_reply": "2021-11-02T17:50:40.198819Z"
    }
   },
   "outputs": [
    {
     "data": {
      "text/plain": [
       "3.0"
      ]
     },
     "execution_count": 23,
     "metadata": {},
     "output_type": "execute_result"
    }
   ],
   "source": [
    "lista.pop()"
   ]
  },
  {
   "cell_type": "code",
   "execution_count": 24,
   "id": "a4ec7633",
   "metadata": {
    "execution": {
     "iopub.execute_input": "2021-11-02T17:50:40.203757Z",
     "iopub.status.busy": "2021-11-02T17:50:40.203067Z",
     "iopub.status.idle": "2021-11-02T17:50:40.205881Z",
     "shell.execute_reply": "2021-11-02T17:50:40.206358Z"
    }
   },
   "outputs": [
    {
     "data": {
      "text/plain": [
       "[1, 2, 10, 3, 4, 1, 'dos']"
      ]
     },
     "execution_count": 24,
     "metadata": {},
     "output_type": "execute_result"
    }
   ],
   "source": [
    "lista"
   ]
  },
  {
   "cell_type": "code",
   "execution_count": 25,
   "id": "ef6be022",
   "metadata": {
    "execution": {
     "iopub.execute_input": "2021-11-02T17:50:40.210685Z",
     "iopub.status.busy": "2021-11-02T17:50:40.210071Z",
     "iopub.status.idle": "2021-11-02T17:50:40.212686Z",
     "shell.execute_reply": "2021-11-02T17:50:40.213219Z"
    }
   },
   "outputs": [
    {
     "data": {
      "text/plain": [
       "2"
      ]
     },
     "execution_count": 25,
     "metadata": {},
     "output_type": "execute_result"
    }
   ],
   "source": [
    "lista.index(10)"
   ]
  },
  {
   "cell_type": "code",
   "execution_count": 26,
   "id": "64d5e263",
   "metadata": {
    "execution": {
     "iopub.execute_input": "2021-11-02T17:50:40.217652Z",
     "iopub.status.busy": "2021-11-02T17:50:40.217045Z",
     "iopub.status.idle": "2021-11-02T17:50:40.219794Z",
     "shell.execute_reply": "2021-11-02T17:50:40.220357Z"
    }
   },
   "outputs": [
    {
     "data": {
      "text/plain": [
       "[1, 2, 3, 4, 1, 'dos']"
      ]
     },
     "execution_count": 26,
     "metadata": {},
     "output_type": "execute_result"
    }
   ],
   "source": [
    "lista.remove(10)\n",
    "lista"
   ]
  },
  {
   "cell_type": "code",
   "execution_count": 27,
   "id": "83056465",
   "metadata": {
    "execution": {
     "iopub.execute_input": "2021-11-02T17:50:40.224912Z",
     "iopub.status.busy": "2021-11-02T17:50:40.223975Z",
     "iopub.status.idle": "2021-11-02T17:50:40.296312Z",
     "shell.execute_reply": "2021-11-02T17:50:40.296825Z"
    },
    "tags": [
     "raises-exception"
    ]
   },
   "outputs": [
    {
     "name": "stdout",
     "output_type": "stream",
     "text": [
      "1\n",
      "2\n",
      "2\n",
      "3\n",
      "3\n",
      "4\n",
      "4\n",
      "5\n",
      "1\n",
      "2\n",
      "dos\n"
     ]
    },
    {
     "ename": "TypeError",
     "evalue": "can only concatenate str (not \"int\") to str",
     "output_type": "error",
     "traceback": [
      "\u001b[0;31m---------------------------------------------------------------------------\u001b[0m",
      "\u001b[0;31mTypeError\u001b[0m                                 Traceback (most recent call last)",
      "\u001b[0;32m/tmp/ipykernel_2622/1783555086.py\u001b[0m in \u001b[0;36m<module>\u001b[0;34m\u001b[0m\n\u001b[1;32m      1\u001b[0m \u001b[0;32mfor\u001b[0m \u001b[0melemento\u001b[0m \u001b[0;32min\u001b[0m \u001b[0mlista\u001b[0m\u001b[0;34m:\u001b[0m\u001b[0;34m\u001b[0m\u001b[0;34m\u001b[0m\u001b[0m\n\u001b[1;32m      2\u001b[0m     \u001b[0mprint\u001b[0m\u001b[0;34m(\u001b[0m\u001b[0melemento\u001b[0m\u001b[0;34m)\u001b[0m\u001b[0;34m\u001b[0m\u001b[0;34m\u001b[0m\u001b[0m\n\u001b[0;32m----> 3\u001b[0;31m     \u001b[0mprint\u001b[0m\u001b[0;34m(\u001b[0m\u001b[0melemento\u001b[0m \u001b[0;34m+\u001b[0m \u001b[0;36m1\u001b[0m\u001b[0;34m)\u001b[0m\u001b[0;34m\u001b[0m\u001b[0;34m\u001b[0m\u001b[0m\n\u001b[0m",
      "\u001b[0;31mTypeError\u001b[0m: can only concatenate str (not \"int\") to str"
     ]
    }
   ],
   "source": [
    "for elemento in lista:\n",
    "    print(elemento)\n",
    "    print(elemento + 1)"
   ]
  },
  {
   "cell_type": "code",
   "execution_count": 28,
   "id": "760794a4",
   "metadata": {
    "execution": {
     "iopub.execute_input": "2021-11-02T17:50:40.302242Z",
     "iopub.status.busy": "2021-11-02T17:50:40.298969Z",
     "iopub.status.idle": "2021-11-02T17:50:40.304984Z",
     "shell.execute_reply": "2021-11-02T17:50:40.305472Z"
    }
   },
   "outputs": [
    {
     "data": {
      "text/plain": [
       "[1, 2, 3, 4, 1, 'dos']"
      ]
     },
     "execution_count": 28,
     "metadata": {},
     "output_type": "execute_result"
    }
   ],
   "source": [
    "lista"
   ]
  },
  {
   "cell_type": "code",
   "execution_count": 29,
   "id": "990bf853",
   "metadata": {
    "execution": {
     "iopub.execute_input": "2021-11-02T17:50:40.309911Z",
     "iopub.status.busy": "2021-11-02T17:50:40.309235Z",
     "iopub.status.idle": "2021-11-02T17:50:40.311591Z",
     "shell.execute_reply": "2021-11-02T17:50:40.312182Z"
    }
   },
   "outputs": [
    {
     "name": "stdout",
     "output_type": "stream",
     "text": [
      "0-ésimo elemento: 1\n",
      "1-ésimo elemento: 2\n",
      "2-ésimo elemento: 3\n",
      "3-ésimo elemento: 4\n",
      "4-ésimo elemento: 1\n",
      "5-ésimo elemento: dos\n"
     ]
    }
   ],
   "source": [
    "for i, elemento in enumerate(lista):\n",
    "    print(f\"{i}-ésimo elemento: {elemento}\")"
   ]
  },
  {
   "cell_type": "code",
   "execution_count": 30,
   "id": "0ebbfb72",
   "metadata": {
    "execution": {
     "iopub.execute_input": "2021-11-02T17:50:40.318520Z",
     "iopub.status.busy": "2021-11-02T17:50:40.314240Z",
     "iopub.status.idle": "2021-11-02T17:50:40.321118Z",
     "shell.execute_reply": "2021-11-02T17:50:40.321608Z"
    },
    "tags": [
     "raises-exception"
    ]
   },
   "outputs": [
    {
     "ename": "TypeError",
     "evalue": "'<' not supported between instances of 'str' and 'int'",
     "output_type": "error",
     "traceback": [
      "\u001b[0;31m---------------------------------------------------------------------------\u001b[0m",
      "\u001b[0;31mTypeError\u001b[0m                                 Traceback (most recent call last)",
      "\u001b[0;32m/tmp/ipykernel_2622/2266425520.py\u001b[0m in \u001b[0;36m<module>\u001b[0;34m\u001b[0m\n\u001b[0;32m----> 1\u001b[0;31m \u001b[0msorted\u001b[0m\u001b[0;34m(\u001b[0m\u001b[0mlista\u001b[0m\u001b[0;34m)\u001b[0m\u001b[0;34m\u001b[0m\u001b[0;34m\u001b[0m\u001b[0m\n\u001b[0m",
      "\u001b[0;31mTypeError\u001b[0m: '<' not supported between instances of 'str' and 'int'"
     ]
    }
   ],
   "source": [
    "sorted(lista)"
   ]
  },
  {
   "cell_type": "code",
   "execution_count": 31,
   "id": "4f95267d",
   "metadata": {
    "execution": {
     "iopub.execute_input": "2021-11-02T17:50:40.326523Z",
     "iopub.status.busy": "2021-11-02T17:50:40.325109Z",
     "iopub.status.idle": "2021-11-02T17:50:40.327165Z",
     "shell.execute_reply": "2021-11-02T17:50:40.327644Z"
    }
   },
   "outputs": [],
   "source": [
    "lista.remove(\"dos\")"
   ]
  },
  {
   "cell_type": "code",
   "execution_count": 32,
   "id": "967aa228",
   "metadata": {
    "execution": {
     "iopub.execute_input": "2021-11-02T17:50:40.333780Z",
     "iopub.status.busy": "2021-11-02T17:50:40.332490Z",
     "iopub.status.idle": "2021-11-02T17:50:40.336323Z",
     "shell.execute_reply": "2021-11-02T17:50:40.335792Z"
    }
   },
   "outputs": [
    {
     "data": {
      "text/plain": [
       "[1, 1, 2, 3, 4]"
      ]
     },
     "execution_count": 32,
     "metadata": {},
     "output_type": "execute_result"
    }
   ],
   "source": [
    "sorted(lista)"
   ]
  },
  {
   "cell_type": "code",
   "execution_count": 33,
   "id": "d9c8c534",
   "metadata": {
    "execution": {
     "iopub.execute_input": "2021-11-02T17:50:40.341752Z",
     "iopub.status.busy": "2021-11-02T17:50:40.340425Z",
     "iopub.status.idle": "2021-11-02T17:50:40.344555Z",
     "shell.execute_reply": "2021-11-02T17:50:40.345035Z"
    }
   },
   "outputs": [
    {
     "data": {
      "text/plain": [
       "[1, 1, 2, 3, 4]"
      ]
     },
     "execution_count": 33,
     "metadata": {},
     "output_type": "execute_result"
    }
   ],
   "source": [
    "lista.sort()\n",
    "lista"
   ]
  },
  {
   "cell_type": "markdown",
   "id": "82c1c01a",
   "metadata": {
    "slideshow": {
     "slide_type": "slide"
    }
   },
   "source": [
    "#### Tuplas de Python\n",
    "\n",
    "Las tuplas son inmutables. No se pueden agregar elementos luego de creadas."
   ]
  },
  {
   "cell_type": "code",
   "execution_count": 34,
   "id": "cc128a8a",
   "metadata": {
    "execution": {
     "iopub.execute_input": "2021-11-02T17:50:40.352056Z",
     "iopub.status.busy": "2021-11-02T17:50:40.348753Z",
     "iopub.status.idle": "2021-11-02T17:50:40.355283Z",
     "shell.execute_reply": "2021-11-02T17:50:40.355752Z"
    },
    "slideshow": {
     "slide_type": "slide"
    },
    "tags": [
     "raises-exception"
    ]
   },
   "outputs": [
    {
     "name": "stdout",
     "output_type": "stream",
     "text": [
      "(1, 2)\n",
      "1\n",
      "2\n"
     ]
    },
    {
     "ename": "TypeError",
     "evalue": "'tuple' object does not support item assignment",
     "output_type": "error",
     "traceback": [
      "\u001b[0;31m---------------------------------------------------------------------------\u001b[0m",
      "\u001b[0;31mTypeError\u001b[0m                                 Traceback (most recent call last)",
      "\u001b[0;32m/tmp/ipykernel_2622/3644040918.py\u001b[0m in \u001b[0;36m<module>\u001b[0;34m\u001b[0m\n\u001b[1;32m      5\u001b[0m \u001b[0mprint\u001b[0m\u001b[0;34m(\u001b[0m\u001b[0mtupla\u001b[0m\u001b[0;34m[\u001b[0m\u001b[0;36m1\u001b[0m\u001b[0;34m]\u001b[0m\u001b[0;34m)\u001b[0m\u001b[0;34m\u001b[0m\u001b[0;34m\u001b[0m\u001b[0m\n\u001b[1;32m      6\u001b[0m \u001b[0;34m\u001b[0m\u001b[0m\n\u001b[0;32m----> 7\u001b[0;31m \u001b[0mtupla\u001b[0m\u001b[0;34m[\u001b[0m\u001b[0;36m1\u001b[0m\u001b[0;34m]\u001b[0m \u001b[0;34m=\u001b[0m \u001b[0;36m3\u001b[0m  \u001b[0;31m# Falla. No se puede mutar\u001b[0m\u001b[0;34m\u001b[0m\u001b[0;34m\u001b[0m\u001b[0m\n\u001b[0m",
      "\u001b[0;31mTypeError\u001b[0m: 'tuple' object does not support item assignment"
     ]
    }
   ],
   "source": [
    "tupla = (1, 2)\n",
    "\n",
    "print(tupla)\n",
    "print(tupla[0])\n",
    "print(tupla[1])\n",
    "\n",
    "tupla[1] = 3  # Falla. No se puede mutar"
   ]
  },
  {
   "cell_type": "code",
   "execution_count": 35,
   "id": "f79f84cb",
   "metadata": {
    "execution": {
     "iopub.execute_input": "2021-11-02T17:50:40.362396Z",
     "iopub.status.busy": "2021-11-02T17:50:40.360637Z",
     "iopub.status.idle": "2021-11-02T17:50:40.365005Z",
     "shell.execute_reply": "2021-11-02T17:50:40.364502Z"
    }
   },
   "outputs": [
    {
     "data": {
      "text/plain": [
       "[1, 2]"
      ]
     },
     "execution_count": 35,
     "metadata": {},
     "output_type": "execute_result"
    }
   ],
   "source": [
    "l = [1, 2]\n",
    "l"
   ]
  },
  {
   "cell_type": "code",
   "execution_count": 36,
   "id": "cfba81e7",
   "metadata": {
    "execution": {
     "iopub.execute_input": "2021-11-02T17:50:40.368996Z",
     "iopub.status.busy": "2021-11-02T17:50:40.368433Z",
     "iopub.status.idle": "2021-11-02T17:50:40.372618Z",
     "shell.execute_reply": "2021-11-02T17:50:40.373053Z"
    }
   },
   "outputs": [
    {
     "data": {
      "text/plain": [
       "[1, 3]"
      ]
     },
     "execution_count": 36,
     "metadata": {},
     "output_type": "execute_result"
    }
   ],
   "source": [
    "l[1] = 3\n",
    "l"
   ]
  },
  {
   "cell_type": "markdown",
   "id": "650870e6",
   "metadata": {
    "slideshow": {
     "slide_type": "slide"
    }
   },
   "source": [
    "#### Diferencia entre lista y tupla\n",
    "Las listas se caracterizan por ser mutables, es decir, se puede cambiar su contenido en tiempo de ejecución, mientras que las tuplas son inmutables ya que no es posible modificar el contenido una vez creada."
   ]
  },
  {
   "cell_type": "markdown",
   "id": "fcb1257f",
   "metadata": {},
   "source": [
    "#### Slices\n",
    "\n",
    "**Valen para listas, tuplas o strings (_segmentos_)**"
   ]
  },
  {
   "cell_type": "code",
   "execution_count": 37,
   "id": "f0fc19be",
   "metadata": {
    "execution": {
     "iopub.execute_input": "2021-11-02T17:50:40.377628Z",
     "iopub.status.busy": "2021-11-02T17:50:40.377037Z",
     "iopub.status.idle": "2021-11-02T17:50:40.379370Z",
     "shell.execute_reply": "2021-11-02T17:50:40.378805Z"
    }
   },
   "outputs": [],
   "source": [
    "numeros = [0, 1, 2, 3, 4, 5, 6, 7, 8, 9, 10]"
   ]
  },
  {
   "cell_type": "code",
   "execution_count": 38,
   "id": "d61dcfe7",
   "metadata": {
    "execution": {
     "iopub.execute_input": "2021-11-02T17:50:40.385066Z",
     "iopub.status.busy": "2021-11-02T17:50:40.383712Z",
     "iopub.status.idle": "2021-11-02T17:50:40.387089Z",
     "shell.execute_reply": "2021-11-02T17:50:40.386601Z"
    }
   },
   "outputs": [
    {
     "name": "stdout",
     "output_type": "stream",
     "text": [
      "[0, 1, 2, 3, 4, 5, 6, 7, 8, 9, 10]\n"
     ]
    }
   ],
   "source": [
    "print(numeros)"
   ]
  },
  {
   "cell_type": "code",
   "execution_count": 39,
   "id": "a81a867d",
   "metadata": {
    "execution": {
     "iopub.execute_input": "2021-11-02T17:50:40.391501Z",
     "iopub.status.busy": "2021-11-02T17:50:40.390832Z",
     "iopub.status.idle": "2021-11-02T17:50:40.393230Z",
     "shell.execute_reply": "2021-11-02T17:50:40.393690Z"
    }
   },
   "outputs": [
    {
     "name": "stdout",
     "output_type": "stream",
     "text": [
      "2\n"
     ]
    }
   ],
   "source": [
    "print(numeros[2])  # Imprimo elemento en la posición 2"
   ]
  },
  {
   "cell_type": "code",
   "execution_count": 40,
   "id": "b6677d4c",
   "metadata": {
    "execution": {
     "iopub.execute_input": "2021-11-02T17:50:40.398745Z",
     "iopub.status.busy": "2021-11-02T17:50:40.398188Z",
     "iopub.status.idle": "2021-11-02T17:50:40.400877Z",
     "shell.execute_reply": "2021-11-02T17:50:40.401366Z"
    }
   },
   "outputs": [
    {
     "data": {
      "text/plain": [
       "10"
      ]
     },
     "execution_count": 40,
     "metadata": {},
     "output_type": "execute_result"
    }
   ],
   "source": [
    "numeros[len(numeros) - 1]"
   ]
  },
  {
   "cell_type": "code",
   "execution_count": 41,
   "id": "89673856",
   "metadata": {
    "execution": {
     "iopub.execute_input": "2021-11-02T17:50:40.405217Z",
     "iopub.status.busy": "2021-11-02T17:50:40.404536Z",
     "iopub.status.idle": "2021-11-02T17:50:40.407861Z",
     "shell.execute_reply": "2021-11-02T17:50:40.407273Z"
    },
    "lines_to_next_cell": 2
   },
   "outputs": [
    {
     "name": "stdout",
     "output_type": "stream",
     "text": [
      "10\n"
     ]
    }
   ],
   "source": [
    "print(numeros[-1])  # # Imprimo elemento en la última posición"
   ]
  },
  {
   "cell_type": "code",
   "execution_count": 42,
   "id": "9dd5cb1f",
   "metadata": {
    "execution": {
     "iopub.execute_input": "2021-11-02T17:50:40.412504Z",
     "iopub.status.busy": "2021-11-02T17:50:40.411943Z",
     "iopub.status.idle": "2021-11-02T17:50:40.414498Z",
     "shell.execute_reply": "2021-11-02T17:50:40.414961Z"
    },
    "lines_to_next_cell": 2
   },
   "outputs": [
    {
     "data": {
      "text/plain": [
       "9"
      ]
     },
     "execution_count": 42,
     "metadata": {},
     "output_type": "execute_result"
    }
   ],
   "source": [
    "numeros[-2]"
   ]
  },
  {
   "cell_type": "code",
   "execution_count": 43,
   "id": "7ac27408",
   "metadata": {
    "execution": {
     "iopub.execute_input": "2021-11-02T17:50:40.418927Z",
     "iopub.status.busy": "2021-11-02T17:50:40.418376Z",
     "iopub.status.idle": "2021-11-02T17:50:40.420666Z",
     "shell.execute_reply": "2021-11-02T17:50:40.421292Z"
    }
   },
   "outputs": [
    {
     "name": "stdout",
     "output_type": "stream",
     "text": [
      "[0, 1, 2]\n"
     ]
    }
   ],
   "source": [
    "print(numeros[0:3])  # Imprimo de la pos 0 a la pos 2"
   ]
  },
  {
   "cell_type": "code",
   "execution_count": 44,
   "id": "085ad5b0",
   "metadata": {
    "execution": {
     "iopub.execute_input": "2021-11-02T17:50:40.425627Z",
     "iopub.status.busy": "2021-11-02T17:50:40.425050Z",
     "iopub.status.idle": "2021-11-02T17:50:40.427345Z",
     "shell.execute_reply": "2021-11-02T17:50:40.427850Z"
    }
   },
   "outputs": [
    {
     "name": "stdout",
     "output_type": "stream",
     "text": [
      "[7, 8]\n"
     ]
    }
   ],
   "source": [
    "print(numeros[-4:-2])"
   ]
  },
  {
   "cell_type": "code",
   "execution_count": 45,
   "id": "1ff10578",
   "metadata": {
    "execution": {
     "iopub.execute_input": "2021-11-02T17:50:40.432155Z",
     "iopub.status.busy": "2021-11-02T17:50:40.431551Z",
     "iopub.status.idle": "2021-11-02T17:50:40.433740Z",
     "shell.execute_reply": "2021-11-02T17:50:40.434214Z"
    }
   },
   "outputs": [
    {
     "name": "stdout",
     "output_type": "stream",
     "text": [
      "[0, 1, 2, 3, 4, 5, 6, 7, 8, 9, 10]\n"
     ]
    }
   ],
   "source": [
    "print(numeros[0:80])"
   ]
  },
  {
   "cell_type": "code",
   "execution_count": 46,
   "id": "ce5976e2",
   "metadata": {
    "execution": {
     "iopub.execute_input": "2021-11-02T17:50:40.438149Z",
     "iopub.status.busy": "2021-11-02T17:50:40.437526Z",
     "iopub.status.idle": "2021-11-02T17:50:40.439770Z",
     "shell.execute_reply": "2021-11-02T17:50:40.440276Z"
    }
   },
   "outputs": [
    {
     "name": "stdout",
     "output_type": "stream",
     "text": [
      "[0, 1, 2]\n"
     ]
    }
   ],
   "source": [
    "print(numeros[:3])"
   ]
  },
  {
   "cell_type": "code",
   "execution_count": 47,
   "id": "dc7bd91d",
   "metadata": {
    "execution": {
     "iopub.execute_input": "2021-11-02T17:50:40.445237Z",
     "iopub.status.busy": "2021-11-02T17:50:40.444508Z",
     "iopub.status.idle": "2021-11-02T17:50:40.446949Z",
     "shell.execute_reply": "2021-11-02T17:50:40.447408Z"
    }
   },
   "outputs": [
    {
     "name": "stdout",
     "output_type": "stream",
     "text": [
      "[3, 4, 5, 6, 7, 8, 9, 10]\n"
     ]
    }
   ],
   "source": [
    "print(numeros[3:])"
   ]
  },
  {
   "cell_type": "code",
   "execution_count": 48,
   "id": "5be0630e",
   "metadata": {
    "execution": {
     "iopub.execute_input": "2021-11-02T17:50:40.451552Z",
     "iopub.status.busy": "2021-11-02T17:50:40.450997Z",
     "iopub.status.idle": "2021-11-02T17:50:40.453161Z",
     "shell.execute_reply": "2021-11-02T17:50:40.453746Z"
    }
   },
   "outputs": [
    {
     "name": "stdout",
     "output_type": "stream",
     "text": [
      "[0, 2, 4, 6, 8]\n"
     ]
    }
   ],
   "source": [
    "print(numeros[0:10:2])"
   ]
  },
  {
   "cell_type": "markdown",
   "id": "36f8a926",
   "metadata": {},
   "source": [
    "```python\n",
    "lista[<inicio>:<final>:<step>]\n",
    "```"
   ]
  },
  {
   "cell_type": "code",
   "execution_count": 49,
   "id": "ffe81d93",
   "metadata": {
    "execution": {
     "iopub.execute_input": "2021-11-02T17:50:40.458514Z",
     "iopub.status.busy": "2021-11-02T17:50:40.457953Z",
     "iopub.status.idle": "2021-11-02T17:50:40.460527Z",
     "shell.execute_reply": "2021-11-02T17:50:40.461165Z"
    },
    "lines_to_next_cell": 2
   },
   "outputs": [
    {
     "data": {
      "text/plain": [
       "[1, 2, 3, 4]"
      ]
     },
     "execution_count": 49,
     "metadata": {},
     "output_type": "execute_result"
    }
   ],
   "source": [
    "l1 = [1, 2]\n",
    "l2 = [3, 4]\n",
    "l1 + l2"
   ]
  },
  {
   "cell_type": "code",
   "execution_count": 50,
   "id": "6ad5622b",
   "metadata": {
    "execution": {
     "iopub.execute_input": "2021-11-02T17:50:40.465116Z",
     "iopub.status.busy": "2021-11-02T17:50:40.464411Z",
     "iopub.status.idle": "2021-11-02T17:50:40.466830Z",
     "shell.execute_reply": "2021-11-02T17:50:40.467293Z"
    }
   },
   "outputs": [
    {
     "name": "stdout",
     "output_type": "stream",
     "text": [
      "[0, 1, 2, 3, 4, 5, 6, 'siete', 8, 9, 10]\n"
     ]
    }
   ],
   "source": [
    "numeros[7] = 'siete'  # Las listas se pueden mutar\n",
    "print(numeros)"
   ]
  },
  {
   "cell_type": "code",
   "execution_count": 51,
   "id": "0b987abe",
   "metadata": {
    "execution": {
     "iopub.execute_input": "2021-11-02T17:50:40.471661Z",
     "iopub.status.busy": "2021-11-02T17:50:40.471106Z",
     "iopub.status.idle": "2021-11-02T17:50:40.473416Z",
     "shell.execute_reply": "2021-11-02T17:50:40.473877Z"
    }
   },
   "outputs": [
    {
     "name": "stdout",
     "output_type": "stream",
     "text": [
      "[10, 9, 8, 'siete', 6, 5, 4, 3, 2, 1, 0]\n"
     ]
    }
   ],
   "source": [
    "numeros = numeros[::-1]\n",
    "print(numeros)"
   ]
  },
  {
   "cell_type": "code",
   "execution_count": 52,
   "id": "b5b941e5",
   "metadata": {
    "execution": {
     "iopub.execute_input": "2021-11-02T17:50:40.480539Z",
     "iopub.status.busy": "2021-11-02T17:50:40.476543Z",
     "iopub.status.idle": "2021-11-02T17:50:40.483124Z",
     "shell.execute_reply": "2021-11-02T17:50:40.483616Z"
    },
    "tags": [
     "raises-exception"
    ]
   },
   "outputs": [
    {
     "ename": "IndexError",
     "evalue": "list index out of range",
     "output_type": "error",
     "traceback": [
      "\u001b[0;31m---------------------------------------------------------------------------\u001b[0m",
      "\u001b[0;31mIndexError\u001b[0m                                Traceback (most recent call last)",
      "\u001b[0;32m/tmp/ipykernel_2622/1255736182.py\u001b[0m in \u001b[0;36m<module>\u001b[0;34m\u001b[0m\n\u001b[0;32m----> 1\u001b[0;31m \u001b[0mprint\u001b[0m\u001b[0;34m(\u001b[0m\u001b[0mnumeros\u001b[0m\u001b[0;34m[\u001b[0m\u001b[0;36m15\u001b[0m\u001b[0;34m]\u001b[0m\u001b[0;34m)\u001b[0m  \u001b[0;31m# Falla. No se puede acceder a una posición inexistente\u001b[0m\u001b[0;34m\u001b[0m\u001b[0;34m\u001b[0m\u001b[0m\n\u001b[0m",
      "\u001b[0;31mIndexError\u001b[0m: list index out of range"
     ]
    }
   ],
   "source": [
    "print(numeros[15])  # Falla. No se puede acceder a una posición inexistente"
   ]
  },
  {
   "cell_type": "code",
   "execution_count": 53,
   "id": "8ea3a14a",
   "metadata": {
    "execution": {
     "iopub.execute_input": "2021-11-02T17:50:40.488228Z",
     "iopub.status.busy": "2021-11-02T17:50:40.487620Z",
     "iopub.status.idle": "2021-11-02T17:50:40.489768Z",
     "shell.execute_reply": "2021-11-02T17:50:40.490336Z"
    }
   },
   "outputs": [
    {
     "name": "stdout",
     "output_type": "stream",
     "text": [
      "palabra\n",
      "a\n",
      "pal\n",
      "abra\n"
     ]
    }
   ],
   "source": [
    "palabra = 'palabra'\n",
    "print(palabra)\n",
    "print(palabra[3])\n",
    "print(palabra[:3])\n",
    "print(palabra[3:])"
   ]
  },
  {
   "cell_type": "code",
   "execution_count": 54,
   "id": "fd0f8474",
   "metadata": {
    "execution": {
     "iopub.execute_input": "2021-11-02T17:50:40.494920Z",
     "iopub.status.busy": "2021-11-02T17:50:40.494344Z",
     "iopub.status.idle": "2021-11-02T17:50:40.496541Z",
     "shell.execute_reply": "2021-11-02T17:50:40.497020Z"
    }
   },
   "outputs": [
    {
     "name": "stdout",
     "output_type": "stream",
     "text": [
      "(0, 1, 2, 3, 4)\n",
      "(0, 1)\n",
      "(2, 3, 4)\n"
     ]
    }
   ],
   "source": [
    "tupla = (0, 1, 2, 3, 4)\n",
    "\n",
    "print(tupla)\n",
    "print(tupla[:2])\n",
    "print(tupla[2:])"
   ]
  },
  {
   "cell_type": "markdown",
   "id": "c015c471",
   "metadata": {
    "slideshow": {
     "slide_type": "slide"
    }
   },
   "source": [
    "#### Diccionarios de Python\n",
    "\n",
    "Son como hashmaps, las claves deben ser inmutables para que no pierda sentido el diccionario. Si se pudieran modificar, se podrían cambiar las claves y generaría conflictos.\n",
    "\n",
    "Tipos mutables:\n",
    "- Listas\n",
    "- Diccionarios\n",
    "- Sets\n",
    "\n",
    "Tipos inmutables:\n",
    "- Int\n",
    "- Float\n",
    "- String\n",
    "- Tuplas\n"
   ]
  },
  {
   "cell_type": "code",
   "execution_count": 55,
   "id": "0d2ae696",
   "metadata": {
    "execution": {
     "iopub.execute_input": "2021-11-02T17:50:40.502436Z",
     "iopub.status.busy": "2021-11-02T17:50:40.500457Z",
     "iopub.status.idle": "2021-11-02T17:50:40.504769Z",
     "shell.execute_reply": "2021-11-02T17:50:40.505369Z"
    },
    "slideshow": {
     "slide_type": "slide"
    }
   },
   "outputs": [
    {
     "data": {
      "text/plain": [
       "{}"
      ]
     },
     "execution_count": 55,
     "metadata": {},
     "output_type": "execute_result"
    }
   ],
   "source": [
    "diccionario = {}\n",
    "diccionario"
   ]
  },
  {
   "cell_type": "code",
   "execution_count": 56,
   "id": "86d53a38",
   "metadata": {
    "execution": {
     "iopub.execute_input": "2021-11-02T17:50:40.510333Z",
     "iopub.status.busy": "2021-11-02T17:50:40.509632Z",
     "iopub.status.idle": "2021-11-02T17:50:40.516650Z",
     "shell.execute_reply": "2021-11-02T17:50:40.516068Z"
    }
   },
   "outputs": [
    {
     "data": {
      "text/plain": [
       "{}"
      ]
     },
     "execution_count": 56,
     "metadata": {},
     "output_type": "execute_result"
    }
   ],
   "source": [
    "diccionario = dict()\n",
    "diccionario"
   ]
  },
  {
   "cell_type": "code",
   "execution_count": 57,
   "id": "87e5b9aa",
   "metadata": {
    "execution": {
     "iopub.execute_input": "2021-11-02T17:50:40.521906Z",
     "iopub.status.busy": "2021-11-02T17:50:40.520651Z",
     "iopub.status.idle": "2021-11-02T17:50:40.526244Z",
     "shell.execute_reply": "2021-11-02T17:50:40.525734Z"
    },
    "slideshow": {
     "slide_type": "slide"
    }
   },
   "outputs": [
    {
     "name": "stdout",
     "output_type": "stream",
     "text": [
      "{'clave1': 'valor1', 2: 'valor2', 'clave3': 3}\n"
     ]
    }
   ],
   "source": [
    "# Cómo agregar cosas al diccionario\n",
    "diccionario['clave1'] = 'valor1'\n",
    "diccionario[2] = 'valor2'\n",
    "diccionario['clave3'] = 3\n",
    "print(diccionario)"
   ]
  },
  {
   "cell_type": "markdown",
   "id": "dea30e98",
   "metadata": {},
   "source": [
    "Hay dos formas de obtener valores de un diccionario:\n",
    "\n",
    "```python\n",
    "diccionario[clave]\n",
    "```\n",
    "\n",
    "El cual devuelve el valor si existe la clave suministrada o bien lanza `KeyError` si no existe."
   ]
  },
  {
   "cell_type": "code",
   "execution_count": 58,
   "id": "80598d2b",
   "metadata": {
    "execution": {
     "iopub.execute_input": "2021-11-02T17:50:40.530650Z",
     "iopub.status.busy": "2021-11-02T17:50:40.530077Z",
     "iopub.status.idle": "2021-11-02T17:50:40.536505Z",
     "shell.execute_reply": "2021-11-02T17:50:40.536006Z"
    }
   },
   "outputs": [
    {
     "data": {
      "text/plain": [
       "'valor1'"
      ]
     },
     "execution_count": 58,
     "metadata": {},
     "output_type": "execute_result"
    }
   ],
   "source": [
    "diccionario['clave1']"
   ]
  },
  {
   "cell_type": "code",
   "execution_count": 59,
   "id": "d4f51f3d",
   "metadata": {
    "execution": {
     "iopub.execute_input": "2021-11-02T17:50:40.543720Z",
     "iopub.status.busy": "2021-11-02T17:50:40.542961Z",
     "iopub.status.idle": "2021-11-02T17:50:40.548617Z",
     "shell.execute_reply": "2021-11-02T17:50:40.549112Z"
    },
    "tags": [
     "raises-exception"
    ]
   },
   "outputs": [
    {
     "ename": "KeyError",
     "evalue": "'clave1000'",
     "output_type": "error",
     "traceback": [
      "\u001b[0;31m---------------------------------------------------------------------------\u001b[0m",
      "\u001b[0;31mKeyError\u001b[0m                                  Traceback (most recent call last)",
      "\u001b[0;32m/tmp/ipykernel_2622/3541524662.py\u001b[0m in \u001b[0;36m<module>\u001b[0;34m\u001b[0m\n\u001b[0;32m----> 1\u001b[0;31m \u001b[0mdiccionario\u001b[0m\u001b[0;34m[\u001b[0m\u001b[0;34m'clave1000'\u001b[0m\u001b[0;34m]\u001b[0m\u001b[0;34m\u001b[0m\u001b[0;34m\u001b[0m\u001b[0m\n\u001b[0m",
      "\u001b[0;31mKeyError\u001b[0m: 'clave1000'"
     ]
    }
   ],
   "source": [
    "diccionario['clave1000']"
   ]
  },
  {
   "cell_type": "markdown",
   "id": "6dea0269",
   "metadata": {},
   "source": [
    "La segunda forma es con `get`:"
   ]
  },
  {
   "cell_type": "code",
   "execution_count": 60,
   "id": "3fcb0755",
   "metadata": {
    "execution": {
     "iopub.execute_input": "2021-11-02T17:50:40.567284Z",
     "iopub.status.busy": "2021-11-02T17:50:40.556630Z",
     "iopub.status.idle": "2021-11-02T17:50:40.606299Z",
     "shell.execute_reply": "2021-11-02T17:50:40.605725Z"
    }
   },
   "outputs": [],
   "source": [
    "diccionario.get?"
   ]
  },
  {
   "cell_type": "code",
   "execution_count": 61,
   "id": "5ef19987",
   "metadata": {
    "execution": {
     "iopub.execute_input": "2021-11-02T17:50:40.610939Z",
     "iopub.status.busy": "2021-11-02T17:50:40.610356Z",
     "iopub.status.idle": "2021-11-02T17:50:40.615933Z",
     "shell.execute_reply": "2021-11-02T17:50:40.615310Z"
    }
   },
   "outputs": [
    {
     "name": "stdout",
     "output_type": "stream",
     "text": [
      "Help on built-in function get:\n",
      "\n",
      "get(key, default=None, /) method of builtins.dict instance\n",
      "    Return the value for key if key is in the dictionary, else default.\n",
      "\n"
     ]
    }
   ],
   "source": [
    "help(diccionario.get)"
   ]
  },
  {
   "cell_type": "code",
   "execution_count": 62,
   "id": "c4c9e9ea",
   "metadata": {
    "execution": {
     "iopub.execute_input": "2021-11-02T17:50:40.619637Z",
     "iopub.status.busy": "2021-11-02T17:50:40.619068Z",
     "iopub.status.idle": "2021-11-02T17:50:40.625276Z",
     "shell.execute_reply": "2021-11-02T17:50:40.624735Z"
    },
    "slideshow": {
     "slide_type": "slide"
    }
   },
   "outputs": [
    {
     "name": "stdout",
     "output_type": "stream",
     "text": [
      "None\n"
     ]
    }
   ],
   "source": [
    "print(diccionario.get('clave1000'))"
   ]
  },
  {
   "cell_type": "code",
   "execution_count": 63,
   "id": "7718cf76",
   "metadata": {
    "execution": {
     "iopub.execute_input": "2021-11-02T17:50:40.630484Z",
     "iopub.status.busy": "2021-11-02T17:50:40.629870Z",
     "iopub.status.idle": "2021-11-02T17:50:40.635119Z",
     "shell.execute_reply": "2021-11-02T17:50:40.635577Z"
    },
    "slideshow": {
     "slide_type": "slide"
    }
   },
   "outputs": [
    {
     "name": "stdout",
     "output_type": "stream",
     "text": [
      "True\n"
     ]
    }
   ],
   "source": [
    "print('clave1' in diccionario)  # Verifico si la clave está en el diccionario"
   ]
  },
  {
   "cell_type": "code",
   "execution_count": 64,
   "id": "d4b2719b",
   "metadata": {
    "execution": {
     "iopub.execute_input": "2021-11-02T17:50:40.639940Z",
     "iopub.status.busy": "2021-11-02T17:50:40.639326Z",
     "iopub.status.idle": "2021-11-02T17:50:40.646359Z",
     "shell.execute_reply": "2021-11-02T17:50:40.645853Z"
    }
   },
   "outputs": [
    {
     "data": {
      "text/plain": [
       "True"
      ]
     },
     "execution_count": 64,
     "metadata": {},
     "output_type": "execute_result"
    }
   ],
   "source": [
    "l = [1, 2, 3, 4]\n",
    "2 in l"
   ]
  },
  {
   "cell_type": "code",
   "execution_count": 65,
   "id": "c5621977",
   "metadata": {
    "execution": {
     "iopub.execute_input": "2021-11-02T17:50:40.651121Z",
     "iopub.status.busy": "2021-11-02T17:50:40.650548Z",
     "iopub.status.idle": "2021-11-02T17:50:40.655710Z",
     "shell.execute_reply": "2021-11-02T17:50:40.655208Z"
    }
   },
   "outputs": [
    {
     "name": "stdout",
     "output_type": "stream",
     "text": [
      "la clave es clave1 y el valor es valor1\n",
      "la clave es 2 y el valor es valor2\n",
      "la clave es clave3 y el valor es 3\n"
     ]
    }
   ],
   "source": [
    "for clave, valor in diccionario.items():\n",
    "    print(\"la clave es %s y el valor es %s\" % (clave, valor))"
   ]
  },
  {
   "cell_type": "code",
   "execution_count": 66,
   "id": "64c78ee2",
   "metadata": {
    "execution": {
     "iopub.execute_input": "2021-11-02T17:50:40.660428Z",
     "iopub.status.busy": "2021-11-02T17:50:40.659846Z",
     "iopub.status.idle": "2021-11-02T17:50:40.662941Z",
     "shell.execute_reply": "2021-11-02T17:50:40.662408Z"
    }
   },
   "outputs": [
    {
     "name": "stdout",
     "output_type": "stream",
     "text": [
      "la clave es clave1 y el valor es valor1\n",
      "la clave es 2 y el valor es valor2\n",
      "la clave es clave3 y el valor es 3\n"
     ]
    }
   ],
   "source": [
    "for clave, valor in diccionario.items():\n",
    "    print(\"la clave es {} y el valor es {}\".format(clave, valor))"
   ]
  },
  {
   "cell_type": "code",
   "execution_count": 67,
   "id": "c90bb0df",
   "metadata": {
    "execution": {
     "iopub.execute_input": "2021-11-02T17:50:40.667177Z",
     "iopub.status.busy": "2021-11-02T17:50:40.666598Z",
     "iopub.status.idle": "2021-11-02T17:50:40.669992Z",
     "shell.execute_reply": "2021-11-02T17:50:40.669494Z"
    },
    "slideshow": {
     "slide_type": "slide"
    }
   },
   "outputs": [
    {
     "name": "stdout",
     "output_type": "stream",
     "text": [
      "la clave es clave1 y el valor es valor1\n",
      "la clave es 2 y el valor es valor2\n",
      "la clave es clave3 y el valor es 3\n"
     ]
    }
   ],
   "source": [
    "# Cómo iterar un diccionario elemento por elemento\n",
    "for (\n",
    "    clave,\n",
    "    valor,\n",
    ") in (\n",
    "    diccionario.items()\n",
    "):  # diccionario.items() va devolviendo tuplas con el formato (clave,valor)\n",
    "    print(\n",
    "        f\"la clave es {clave} y el valor es {valor}\"\n",
    "    )  # con esta sintaxis se desempaquetan en clave y valor (similar a enumerate)"
   ]
  },
  {
   "cell_type": "code",
   "execution_count": 68,
   "id": "e4162971",
   "metadata": {
    "execution": {
     "iopub.execute_input": "2021-11-02T17:50:40.674271Z",
     "iopub.status.busy": "2021-11-02T17:50:40.673695Z",
     "iopub.status.idle": "2021-11-02T17:50:40.678651Z",
     "shell.execute_reply": "2021-11-02T17:50:40.678150Z"
    },
    "slideshow": {
     "slide_type": "slide"
    }
   },
   "outputs": [
    {
     "name": "stdout",
     "output_type": "stream",
     "text": [
      "clave1\n",
      "2\n",
      "clave3\n"
     ]
    }
   ],
   "source": [
    "for clave in diccionario.keys():\n",
    "    print(clave)"
   ]
  },
  {
   "cell_type": "code",
   "execution_count": 69,
   "id": "75bf8d9a",
   "metadata": {
    "execution": {
     "iopub.execute_input": "2021-11-02T17:50:40.683229Z",
     "iopub.status.busy": "2021-11-02T17:50:40.682536Z",
     "iopub.status.idle": "2021-11-02T17:50:40.687007Z",
     "shell.execute_reply": "2021-11-02T17:50:40.686508Z"
    },
    "slideshow": {
     "slide_type": "slide"
    }
   },
   "outputs": [
    {
     "name": "stdout",
     "output_type": "stream",
     "text": [
      "valor1\n",
      "valor2\n",
      "3\n"
     ]
    }
   ],
   "source": [
    "for valor in diccionario.values():\n",
    "    print(valor)"
   ]
  },
  {
   "cell_type": "markdown",
   "id": "227fa663",
   "metadata": {},
   "source": [
    "#### Sets\n",
    "\n",
    "Son similares a los diccionarios (en eficiencia) pero se almacenan solo claves, y tienen algunas operaciones particulares.\n",
    "\n",
    "En particular, no pueden tener elementos iguales (pensar que son conjuntos)"
   ]
  },
  {
   "cell_type": "code",
   "execution_count": 70,
   "id": "92abc7a0",
   "metadata": {
    "execution": {
     "iopub.execute_input": "2021-11-02T17:50:40.692731Z",
     "iopub.status.busy": "2021-11-02T17:50:40.690510Z",
     "iopub.status.idle": "2021-11-02T17:50:40.695608Z",
     "shell.execute_reply": "2021-11-02T17:50:40.696103Z"
    }
   },
   "outputs": [],
   "source": [
    "set??"
   ]
  },
  {
   "cell_type": "code",
   "execution_count": 71,
   "id": "2718bf79",
   "metadata": {
    "execution": {
     "iopub.execute_input": "2021-11-02T17:50:40.701787Z",
     "iopub.status.busy": "2021-11-02T17:50:40.700702Z",
     "iopub.status.idle": "2021-11-02T17:50:40.704432Z",
     "shell.execute_reply": "2021-11-02T17:50:40.704906Z"
    }
   },
   "outputs": [
    {
     "data": {
      "text/plain": [
       "{1, 2, 3}"
      ]
     },
     "execution_count": 71,
     "metadata": {},
     "output_type": "execute_result"
    }
   ],
   "source": [
    "# Se definen como los diccionarios pero sin hacerlos 'clave:valor', solamente una seguidilla de elementos\n",
    "{1, 2, 2, 3}"
   ]
  },
  {
   "cell_type": "code",
   "execution_count": 72,
   "id": "5da37eb7",
   "metadata": {
    "execution": {
     "iopub.execute_input": "2021-11-02T17:50:40.710754Z",
     "iopub.status.busy": "2021-11-02T17:50:40.709674Z",
     "iopub.status.idle": "2021-11-02T17:50:40.713143Z",
     "shell.execute_reply": "2021-11-02T17:50:40.713620Z"
    }
   },
   "outputs": [
    {
     "data": {
      "text/plain": [
       "{1, 2, 3}"
      ]
     },
     "execution_count": 72,
     "metadata": {},
     "output_type": "execute_result"
    }
   ],
   "source": [
    "set([1, 2, 2, 3])"
   ]
  },
  {
   "cell_type": "markdown",
   "id": "b0e55aa0",
   "metadata": {},
   "source": [
    "## Condicionales (if...elif...else)\n",
    "\n",
    "```python\n",
    "if <condición_1>:\n",
    "    <hacer algo_1 si se da la condición_1>\n",
    "elif <condición_2>:\n",
    "    <hacer algo_2 si se da la condición_2>\n",
    "...\n",
    "elif <condición_n>:\n",
    "    <hacer algo_n si se da la condición_n>\n",
    "else:\n",
    "    <hacer otra cosa si no dan las anteriores>\n",
    "```\n",
    "\n",
    "Algo importante para notar es que los bloques se definen por **niveles de identacion**."
   ]
  },
  {
   "cell_type": "code",
   "execution_count": 73,
   "id": "ad6670d7",
   "metadata": {
    "execution": {
     "iopub.execute_input": "2021-11-02T17:50:40.719751Z",
     "iopub.status.busy": "2021-11-02T17:50:40.718264Z",
     "iopub.status.idle": "2021-11-02T17:50:40.721899Z",
     "shell.execute_reply": "2021-11-02T17:50:40.721364Z"
    }
   },
   "outputs": [
    {
     "name": "stdout",
     "output_type": "stream",
     "text": [
      "uno\n"
     ]
    }
   ],
   "source": [
    "v = 1\n",
    "if v == 1:\n",
    "    print(\"uno\")\n",
    "elif v == 2:\n",
    "    print(\"dos\")\n",
    "else:\n",
    "    print(\"ni idea\")\n",
    "    print(v)"
   ]
  },
  {
   "cell_type": "markdown",
   "id": "1a07b47b",
   "metadata": {},
   "source": [
    "## Iteraciones\n",
    "\n",
    "```python\n",
    "while cond:\n",
    "    <codigo>\n",
    "```\n",
    "\n",
    "```python\n",
    "for elemento in iterable:\n",
    "    <codigo>\n",
    "```\n",
    "\n",
    "Para iterar sobre un rango de valores, usamos `range`"
   ]
  },
  {
   "cell_type": "code",
   "execution_count": 74,
   "id": "23ceb76e",
   "metadata": {
    "execution": {
     "iopub.execute_input": "2021-11-02T17:50:40.727422Z",
     "iopub.status.busy": "2021-11-02T17:50:40.726777Z",
     "iopub.status.idle": "2021-11-02T17:50:40.729045Z",
     "shell.execute_reply": "2021-11-02T17:50:40.729522Z"
    }
   },
   "outputs": [
    {
     "name": "stdout",
     "output_type": "stream",
     "text": [
      "1\n",
      "4\n",
      "7\n",
      "10\n"
     ]
    }
   ],
   "source": [
    "for i in range(1, 11, 3):\n",
    "    print(i)"
   ]
  },
  {
   "cell_type": "markdown",
   "id": "6f934eb6",
   "metadata": {},
   "source": [
    "## Operadores logicos\n",
    "\n",
    "`not`, `or`, `and`"
   ]
  },
  {
   "cell_type": "code",
   "execution_count": 75,
   "id": "28ee63b3",
   "metadata": {
    "execution": {
     "iopub.execute_input": "2021-11-02T17:50:40.733689Z",
     "iopub.status.busy": "2021-11-02T17:50:40.733114Z",
     "iopub.status.idle": "2021-11-02T17:50:40.735327Z",
     "shell.execute_reply": "2021-11-02T17:50:40.735868Z"
    }
   },
   "outputs": [
    {
     "name": "stdout",
     "output_type": "stream",
     "text": [
      "yay\n"
     ]
    }
   ],
   "source": [
    "if True or False:\n",
    "    print(\"yay\")"
   ]
  },
  {
   "cell_type": "code",
   "execution_count": 76,
   "id": "b868020b",
   "metadata": {
    "execution": {
     "iopub.execute_input": "2021-11-02T17:50:40.740010Z",
     "iopub.status.busy": "2021-11-02T17:50:40.739407Z",
     "iopub.status.idle": "2021-11-02T17:50:40.742057Z",
     "shell.execute_reply": "2021-11-02T17:50:40.743208Z"
    }
   },
   "outputs": [
    {
     "data": {
      "text/plain": [
       "False"
      ]
     },
     "execution_count": 76,
     "metadata": {},
     "output_type": "execute_result"
    }
   ],
   "source": [
    "1 == 2"
   ]
  },
  {
   "cell_type": "code",
   "execution_count": 77,
   "id": "e3596277",
   "metadata": {
    "execution": {
     "iopub.execute_input": "2021-11-02T17:50:40.747661Z",
     "iopub.status.busy": "2021-11-02T17:50:40.747089Z",
     "iopub.status.idle": "2021-11-02T17:50:40.749704Z",
     "shell.execute_reply": "2021-11-02T17:50:40.750272Z"
    }
   },
   "outputs": [
    {
     "data": {
      "text/plain": [
       "True"
      ]
     },
     "execution_count": 77,
     "metadata": {},
     "output_type": "execute_result"
    }
   ],
   "source": [
    "1 != 2"
   ]
  },
  {
   "cell_type": "markdown",
   "id": "e8fb7c5f",
   "metadata": {
    "slideshow": {
     "slide_type": "slide"
    }
   },
   "source": [
    "## Funciones en Python"
   ]
  },
  {
   "cell_type": "code",
   "execution_count": 78,
   "id": "d938e224",
   "metadata": {
    "execution": {
     "iopub.execute_input": "2021-11-02T17:50:40.757481Z",
     "iopub.status.busy": "2021-11-02T17:50:40.756878Z",
     "iopub.status.idle": "2021-11-02T17:50:40.759064Z",
     "shell.execute_reply": "2021-11-02T17:50:40.759569Z"
    },
    "slideshow": {
     "slide_type": "slide"
    }
   },
   "outputs": [
    {
     "name": "stdout",
     "output_type": "stream",
     "text": [
      "True\n",
      "False\n"
     ]
    }
   ],
   "source": [
    "def busqueda_binaria(lista, elemento):\n",
    "    if not lista:\n",
    "        return False\n",
    "    elif len(lista) == 1:\n",
    "        return lista[0] == elemento\n",
    "    mitad = len(lista) // 2  # // es la operación división entera\n",
    "    if lista[mitad] == elemento:\n",
    "        return True\n",
    "    if lista[mitad] > elemento:\n",
    "        return busqueda_binaria(lista[:mitad], elemento)\n",
    "    if lista[mitad] < elemento:\n",
    "        return busqueda_binaria(lista[mitad:], elemento)\n",
    "\n",
    "\n",
    "print(busqueda_binaria([1, 2, 3, 4, 5], 4))\n",
    "print(busqueda_binaria([1, 4, 6, 7, 9, 10], 2))"
   ]
  },
  {
   "cell_type": "code",
   "execution_count": 79,
   "id": "c9296176",
   "metadata": {
    "execution": {
     "iopub.execute_input": "2021-11-02T17:50:40.764310Z",
     "iopub.status.busy": "2021-11-02T17:50:40.763684Z",
     "iopub.status.idle": "2021-11-02T17:50:40.765965Z",
     "shell.execute_reply": "2021-11-02T17:50:40.766481Z"
    }
   },
   "outputs": [
    {
     "name": "stdout",
     "output_type": "stream",
     "text": [
      "(3, 3, 3)\n"
     ]
    }
   ],
   "source": [
    "def a(b):\n",
    "    if a == 1:\n",
    "        print(a)\n",
    "    return (b, b, b)\n",
    "\n",
    "\n",
    "print(a(3))"
   ]
  },
  {
   "cell_type": "code",
   "execution_count": 80,
   "id": "eac53461",
   "metadata": {
    "execution": {
     "iopub.execute_input": "2021-11-02T17:50:40.771918Z",
     "iopub.status.busy": "2021-11-02T17:50:40.771308Z",
     "iopub.status.idle": "2021-11-02T17:50:40.781798Z",
     "shell.execute_reply": "2021-11-02T17:50:40.781157Z"
    },
    "lines_to_next_cell": 2,
    "slideshow": {
     "slide_type": "slide"
    },
    "tags": [
     "raises-exception"
    ]
   },
   "outputs": [
    {
     "name": "stdout",
     "output_type": "stream",
     "text": [
      "3\n",
      "3.0\n",
      "3.0\n",
      "hola como te va\n",
      "[1, 2, 3, 4, 5]\n"
     ]
    },
    {
     "ename": "TypeError",
     "evalue": "can only concatenate str (not \"int\") to str",
     "output_type": "error",
     "traceback": [
      "\u001b[0;31m---------------------------------------------------------------------------\u001b[0m",
      "\u001b[0;31mTypeError\u001b[0m                                 Traceback (most recent call last)",
      "\u001b[0;32m/tmp/ipykernel_2622/1000948441.py\u001b[0m in \u001b[0;36m<module>\u001b[0;34m\u001b[0m\n\u001b[1;32m      8\u001b[0m \u001b[0mprint\u001b[0m\u001b[0;34m(\u001b[0m\u001b[0msuma\u001b[0m\u001b[0;34m(\u001b[0m\u001b[0;34m\"hola \"\u001b[0m\u001b[0;34m,\u001b[0m \u001b[0;34m\"como te va\"\u001b[0m\u001b[0;34m)\u001b[0m\u001b[0;34m)\u001b[0m\u001b[0;34m\u001b[0m\u001b[0;34m\u001b[0m\u001b[0m\n\u001b[1;32m      9\u001b[0m \u001b[0mprint\u001b[0m\u001b[0;34m(\u001b[0m\u001b[0msuma\u001b[0m\u001b[0;34m(\u001b[0m\u001b[0;34m[\u001b[0m\u001b[0;36m1\u001b[0m\u001b[0;34m,\u001b[0m \u001b[0;36m2\u001b[0m\u001b[0;34m,\u001b[0m \u001b[0;36m3\u001b[0m\u001b[0;34m]\u001b[0m\u001b[0;34m,\u001b[0m \u001b[0;34m[\u001b[0m\u001b[0;36m4\u001b[0m\u001b[0;34m,\u001b[0m \u001b[0;36m5\u001b[0m\u001b[0;34m]\u001b[0m\u001b[0;34m)\u001b[0m\u001b[0;34m)\u001b[0m\u001b[0;34m\u001b[0m\u001b[0;34m\u001b[0m\u001b[0m\n\u001b[0;32m---> 10\u001b[0;31m \u001b[0mprint\u001b[0m\u001b[0;34m(\u001b[0m\u001b[0msuma\u001b[0m\u001b[0;34m(\u001b[0m\u001b[0;34m\"1\"\u001b[0m\u001b[0;34m,\u001b[0m \u001b[0;36m3\u001b[0m\u001b[0;34m)\u001b[0m\u001b[0;34m)\u001b[0m  \u001b[0;31m# Falla\u001b[0m\u001b[0;34m\u001b[0m\u001b[0;34m\u001b[0m\u001b[0m\n\u001b[0m",
      "\u001b[0;32m/tmp/ipykernel_2622/1000948441.py\u001b[0m in \u001b[0;36msuma\u001b[0;34m(a, b)\u001b[0m\n\u001b[1;32m      1\u001b[0m \u001b[0;32mdef\u001b[0m \u001b[0msuma\u001b[0m\u001b[0;34m(\u001b[0m\u001b[0ma\u001b[0m\u001b[0;34m,\u001b[0m \u001b[0mb\u001b[0m\u001b[0;34m)\u001b[0m\u001b[0;34m:\u001b[0m\u001b[0;34m\u001b[0m\u001b[0;34m\u001b[0m\u001b[0m\n\u001b[0;32m----> 2\u001b[0;31m     \u001b[0;32mreturn\u001b[0m \u001b[0ma\u001b[0m \u001b[0;34m+\u001b[0m \u001b[0mb\u001b[0m\u001b[0;34m\u001b[0m\u001b[0;34m\u001b[0m\u001b[0m\n\u001b[0m\u001b[1;32m      3\u001b[0m \u001b[0;34m\u001b[0m\u001b[0m\n\u001b[1;32m      4\u001b[0m \u001b[0;34m\u001b[0m\u001b[0m\n\u001b[1;32m      5\u001b[0m \u001b[0mprint\u001b[0m\u001b[0;34m(\u001b[0m\u001b[0msuma\u001b[0m\u001b[0;34m(\u001b[0m\u001b[0;36m1\u001b[0m\u001b[0;34m,\u001b[0m \u001b[0;36m2\u001b[0m\u001b[0;34m)\u001b[0m\u001b[0;34m)\u001b[0m\u001b[0;34m\u001b[0m\u001b[0;34m\u001b[0m\u001b[0m\n",
      "\u001b[0;31mTypeError\u001b[0m: can only concatenate str (not \"int\") to str"
     ]
    }
   ],
   "source": [
    "def suma(a, b):\n",
    "    return a + b\n",
    "\n",
    "\n",
    "print(suma(1, 2))\n",
    "print(suma(1.0, 2.0))\n",
    "print(suma(1.0, 2))\n",
    "print(suma(\"hola \", \"como te va\"))\n",
    "print(suma([1, 2, 3], [4, 5]))\n",
    "print(suma(\"1\", 3))  # Falla"
   ]
  },
  {
   "cell_type": "code",
   "execution_count": 81,
   "id": "96bdf2e4",
   "metadata": {
    "execution": {
     "iopub.execute_input": "2021-11-02T17:50:40.788096Z",
     "iopub.status.busy": "2021-11-02T17:50:40.786643Z",
     "iopub.status.idle": "2021-11-02T17:50:40.790194Z",
     "shell.execute_reply": "2021-11-02T17:50:40.789693Z"
    }
   },
   "outputs": [
    {
     "name": "stdout",
     "output_type": "stream",
     "text": [
      "2.0\n"
     ]
    }
   ],
   "source": [
    "# El valor por default de divisor es 1\n",
    "\n",
    "\n",
    "def division(dividendo, divisor=2):\n",
    "    return dividendo / divisor\n",
    "\n",
    "\n",
    "print(division(4))  # Usa el valor por default"
   ]
  },
  {
   "cell_type": "code",
   "execution_count": 82,
   "id": "3047739a",
   "metadata": {
    "execution": {
     "iopub.execute_input": "2021-11-02T17:50:40.798852Z",
     "iopub.status.busy": "2021-11-02T17:50:40.798265Z",
     "iopub.status.idle": "2021-11-02T17:50:40.802633Z",
     "shell.execute_reply": "2021-11-02T17:50:40.802130Z"
    },
    "tags": [
     "raises-exception"
    ]
   },
   "outputs": [
    {
     "name": "stdout",
     "output_type": "stream",
     "text": [
      "0.5\n",
      "0.5\n"
     ]
    },
    {
     "ename": "TypeError",
     "evalue": "division() missing 1 required positional argument: 'dividendo'",
     "output_type": "error",
     "traceback": [
      "\u001b[0;31m---------------------------------------------------------------------------\u001b[0m",
      "\u001b[0;31mTypeError\u001b[0m                                 Traceback (most recent call last)",
      "\u001b[0;32m/tmp/ipykernel_2622/1004518412.py\u001b[0m in \u001b[0;36m<module>\u001b[0;34m\u001b[0m\n\u001b[1;32m      1\u001b[0m \u001b[0mprint\u001b[0m\u001b[0;34m(\u001b[0m\u001b[0mdivision\u001b[0m\u001b[0;34m(\u001b[0m\u001b[0;36m1\u001b[0m\u001b[0;34m,\u001b[0m \u001b[0;36m2\u001b[0m\u001b[0;34m)\u001b[0m\u001b[0;34m)\u001b[0m  \u001b[0;31m# Parámetros por orden\u001b[0m\u001b[0;34m\u001b[0m\u001b[0;34m\u001b[0m\u001b[0m\n\u001b[1;32m      2\u001b[0m \u001b[0mprint\u001b[0m\u001b[0;34m(\u001b[0m\u001b[0mdivision\u001b[0m\u001b[0;34m(\u001b[0m\u001b[0mdividendo\u001b[0m\u001b[0;34m=\u001b[0m\u001b[0;36m1\u001b[0m\u001b[0;34m,\u001b[0m \u001b[0mdivisor\u001b[0m\u001b[0;34m=\u001b[0m\u001b[0;36m2\u001b[0m\u001b[0;34m)\u001b[0m\u001b[0;34m)\u001b[0m  \u001b[0;31m# Parámetros por nombre\u001b[0m\u001b[0;34m\u001b[0m\u001b[0;34m\u001b[0m\u001b[0m\n\u001b[0;32m----> 3\u001b[0;31m \u001b[0mprint\u001b[0m\u001b[0;34m(\u001b[0m\u001b[0mdivision\u001b[0m\u001b[0;34m(\u001b[0m\u001b[0mdivisor\u001b[0m\u001b[0;34m=\u001b[0m\u001b[0;36m2\u001b[0m\u001b[0;34m)\u001b[0m\u001b[0;34m)\u001b[0m\u001b[0;34m\u001b[0m\u001b[0;34m\u001b[0m\u001b[0m\n\u001b[0m",
      "\u001b[0;31mTypeError\u001b[0m: division() missing 1 required positional argument: 'dividendo'"
     ]
    }
   ],
   "source": [
    "print(division(1, 2))  # Parámetros por orden\n",
    "print(division(dividendo=1, divisor=2))  # Parámetros por nombre\n",
    "print(division(divisor=2))"
   ]
  },
  {
   "cell_type": "code",
   "execution_count": 83,
   "id": "8489c9f6",
   "metadata": {
    "execution": {
     "iopub.execute_input": "2021-11-02T17:50:40.807997Z",
     "iopub.status.busy": "2021-11-02T17:50:40.807115Z",
     "iopub.status.idle": "2021-11-02T17:50:40.809627Z",
     "shell.execute_reply": "2021-11-02T17:50:40.810100Z"
    }
   },
   "outputs": [
    {
     "name": "stdout",
     "output_type": "stream",
     "text": [
      "0.5\n"
     ]
    }
   ],
   "source": [
    "print(division(divisor=2, dividendo=1))"
   ]
  },
  {
   "cell_type": "code",
   "execution_count": 84,
   "id": "1d688d0b",
   "metadata": {
    "execution": {
     "iopub.execute_input": "2021-11-02T17:50:40.816731Z",
     "iopub.status.busy": "2021-11-02T17:50:40.816101Z",
     "iopub.status.idle": "2021-11-02T17:50:40.818358Z",
     "shell.execute_reply": "2021-11-02T17:50:40.818834Z"
    }
   },
   "outputs": [
    {
     "name": "stdout",
     "output_type": "stream",
     "text": [
      "['a', 'b', 'c']\n",
      "[1, 2, 3]\n",
      "['hola', ' don', ' pepito']\n",
      "hola -  don -  pepito\n"
     ]
    }
   ],
   "source": [
    "# Funciones básicas ya en el lenguaje\n",
    "# Hechas para funcionar para distintos tipos\n",
    "\n",
    "string_ordenado = sorted('bca')\n",
    "print(string_ordenado)\n",
    "\n",
    "lista_ordenada = sorted([1, 3, 2])\n",
    "print(lista_ordenada)\n",
    "\n",
    "separadas = \"hola, don, pepito\".split(\",\")\n",
    "print(separadas)\n",
    "unidas = \" - \".join(separadas)\n",
    "print(unidas)"
   ]
  },
  {
   "cell_type": "markdown",
   "id": "5cb99c42",
   "metadata": {},
   "source": [
    "## Módulos\n",
    "\n",
    "Para incluir alguna biblioteca de funciones se usa `import`. Pueden ser cosas ya predefinidas en Python (`math`, `random`, etc), nombres de archivos en nuestro directorio (por ejemplo, para `mimodulo.py` ponemos `import mimodulo`) o bibliotecas instaladas por el usuario"
   ]
  },
  {
   "cell_type": "code",
   "execution_count": 85,
   "id": "e124f485",
   "metadata": {
    "execution": {
     "iopub.execute_input": "2021-11-02T17:50:40.822856Z",
     "iopub.status.busy": "2021-11-02T17:50:40.822284Z",
     "iopub.status.idle": "2021-11-02T17:50:40.824862Z",
     "shell.execute_reply": "2021-11-02T17:50:40.825338Z"
    }
   },
   "outputs": [
    {
     "name": "stdout",
     "output_type": "stream",
     "text": [
      "3.141592653589793\n"
     ]
    }
   ],
   "source": [
    "import math\n",
    "\n",
    "print(math.pi)"
   ]
  },
  {
   "cell_type": "code",
   "execution_count": 86,
   "id": "01bc9d57",
   "metadata": {
    "execution": {
     "iopub.execute_input": "2021-11-02T17:50:40.829526Z",
     "iopub.status.busy": "2021-11-02T17:50:40.828953Z",
     "iopub.status.idle": "2021-11-02T17:50:40.831101Z",
     "shell.execute_reply": "2021-11-02T17:50:40.831670Z"
    }
   },
   "outputs": [
    {
     "name": "stdout",
     "output_type": "stream",
     "text": [
      "3.141592653589793 2.718281828459045\n"
     ]
    }
   ],
   "source": [
    "from math import pi, e\n",
    "\n",
    "print(pi, e)"
   ]
  },
  {
   "cell_type": "code",
   "execution_count": 87,
   "id": "a6458e8d",
   "metadata": {
    "execution": {
     "iopub.execute_input": "2021-11-02T17:50:40.836603Z",
     "iopub.status.busy": "2021-11-02T17:50:40.835936Z",
     "iopub.status.idle": "2021-11-02T17:50:40.838725Z",
     "shell.execute_reply": "2021-11-02T17:50:40.839201Z"
    }
   },
   "outputs": [
    {
     "data": {
      "text/plain": [
       "2"
      ]
     },
     "execution_count": 87,
     "metadata": {},
     "output_type": "execute_result"
    }
   ],
   "source": [
    "math.gcd(56, 78)"
   ]
  },
  {
   "cell_type": "markdown",
   "id": "df654ec4",
   "metadata": {},
   "source": [
    "## Manejo de excepciones\n",
    "\n",
    "Se pueden encapsular errores esperados en un bloque 'try/except' para evitar cortar el flujo del programa"
   ]
  },
  {
   "cell_type": "code",
   "execution_count": 88,
   "id": "16143251",
   "metadata": {
    "execution": {
     "iopub.execute_input": "2021-11-02T17:50:40.843497Z",
     "iopub.status.busy": "2021-11-02T17:50:40.842573Z",
     "iopub.status.idle": "2021-11-02T17:50:40.851352Z",
     "shell.execute_reply": "2021-11-02T17:50:40.851930Z"
    },
    "tags": [
     "raises-exception"
    ]
   },
   "outputs": [
    {
     "ename": "ZeroDivisionError",
     "evalue": "division by zero",
     "output_type": "error",
     "traceback": [
      "\u001b[0;31m---------------------------------------------------------------------------\u001b[0m",
      "\u001b[0;31mZeroDivisionError\u001b[0m                         Traceback (most recent call last)",
      "\u001b[0;32m/tmp/ipykernel_2622/1165346582.py\u001b[0m in \u001b[0;36m<module>\u001b[0;34m\u001b[0m\n\u001b[0;32m----> 1\u001b[0;31m \u001b[0mdivision\u001b[0m\u001b[0;34m(\u001b[0m\u001b[0;36m1\u001b[0m\u001b[0;34m,\u001b[0m \u001b[0;36m0\u001b[0m\u001b[0;34m)\u001b[0m  \u001b[0;31m# No se puede dividir por cero\u001b[0m\u001b[0;34m\u001b[0m\u001b[0;34m\u001b[0m\u001b[0m\n\u001b[0m",
      "\u001b[0;32m/tmp/ipykernel_2622/2607187721.py\u001b[0m in \u001b[0;36mdivision\u001b[0;34m(dividendo, divisor)\u001b[0m\n\u001b[1;32m      3\u001b[0m \u001b[0;34m\u001b[0m\u001b[0m\n\u001b[1;32m      4\u001b[0m \u001b[0;32mdef\u001b[0m \u001b[0mdivision\u001b[0m\u001b[0;34m(\u001b[0m\u001b[0mdividendo\u001b[0m\u001b[0;34m,\u001b[0m \u001b[0mdivisor\u001b[0m\u001b[0;34m=\u001b[0m\u001b[0;36m2\u001b[0m\u001b[0;34m)\u001b[0m\u001b[0;34m:\u001b[0m\u001b[0;34m\u001b[0m\u001b[0;34m\u001b[0m\u001b[0m\n\u001b[0;32m----> 5\u001b[0;31m     \u001b[0;32mreturn\u001b[0m \u001b[0mdividendo\u001b[0m \u001b[0;34m/\u001b[0m \u001b[0mdivisor\u001b[0m\u001b[0;34m\u001b[0m\u001b[0;34m\u001b[0m\u001b[0m\n\u001b[0m\u001b[1;32m      6\u001b[0m \u001b[0;34m\u001b[0m\u001b[0m\n\u001b[1;32m      7\u001b[0m \u001b[0;34m\u001b[0m\u001b[0m\n",
      "\u001b[0;31mZeroDivisionError\u001b[0m: division by zero"
     ]
    }
   ],
   "source": [
    "division(1, 0)  # No se puede dividir por cero"
   ]
  },
  {
   "cell_type": "code",
   "execution_count": 89,
   "id": "53726cf3",
   "metadata": {
    "execution": {
     "iopub.execute_input": "2021-11-02T17:50:40.858374Z",
     "iopub.status.busy": "2021-11-02T17:50:40.856947Z",
     "iopub.status.idle": "2021-11-02T17:50:40.860621Z",
     "shell.execute_reply": "2021-11-02T17:50:40.860088Z"
    }
   },
   "outputs": [
    {
     "name": "stdout",
     "output_type": "stream",
     "text": [
      "No se puede dividir por cero, ojo! division by zero\n",
      "1\n"
     ]
    }
   ],
   "source": [
    "try:\n",
    "    division(1, 0)\n",
    "except (ZeroDivisionError, TypeError) as e:\n",
    "    print('No se puede dividir por cero, ojo!', e)\n",
    "finally:\n",
    "    print(1)"
   ]
  },
  {
   "cell_type": "markdown",
   "id": "290d2462",
   "metadata": {
    "slideshow": {
     "slide_type": "slide"
    }
   },
   "source": [
    "## Lectura y escritura de archivos"
   ]
  },
  {
   "cell_type": "code",
   "execution_count": 90,
   "id": "766ac0cf",
   "metadata": {
    "execution": {
     "iopub.execute_input": "2021-11-02T17:50:40.865830Z",
     "iopub.status.busy": "2021-11-02T17:50:40.865254Z",
     "iopub.status.idle": "2021-11-02T17:50:40.869117Z",
     "shell.execute_reply": "2021-11-02T17:50:40.869599Z"
    },
    "slideshow": {
     "slide_type": "slide"
    }
   },
   "outputs": [
    {
     "name": "stdout",
     "output_type": "stream",
     "text": [
      "<_io.TextIOWrapper name='archivo.csv' mode='w' encoding='UTF-8'>\n"
     ]
    }
   ],
   "source": [
    "import random\n",
    "\n",
    "with open(\n",
    "    'archivo.csv', 'w'\n",
    ") as archivo:  # Al usar esta sintaxis no es necesario hacer close\n",
    "    archivo.write(\"Alumno, nota\\n\")\n",
    "    # Tambien de forma similar al fprintf se puede hacer:\n",
    "    # print(\"Alumno, nota\\n\", file=archivo)\n",
    "    for i in range(0, 10):\n",
    "        archivo.write(f\"{i},{random.randrange(0,10)}\\n\")\n",
    "\n",
    "print(archivo)  # Comentario aclaratorio:\n",
    "# Las variables definidas en un determinado scope siguen existiendo por fuera del mismo.\n",
    "# Se debe tener cuidado con esto, ya que nada garantiza que por fuera el valor sea el esperado."
   ]
  },
  {
   "cell_type": "code",
   "execution_count": 91,
   "id": "8c6c3c8e",
   "metadata": {
    "execution": {
     "iopub.execute_input": "2021-11-02T17:50:40.877053Z",
     "iopub.status.busy": "2021-11-02T17:50:40.875562Z",
     "iopub.status.idle": "2021-11-02T17:50:40.879194Z",
     "shell.execute_reply": "2021-11-02T17:50:40.878690Z"
    },
    "slideshow": {
     "slide_type": "slide"
    }
   },
   "outputs": [
    {
     "name": "stdout",
     "output_type": "stream",
     "text": [
      "Alumno, nota\n",
      "0,5\n",
      "1,1\n",
      "2,7\n",
      "3,9\n",
      "4,8\n",
      "5,3\n",
      "6,8\n",
      "7,6\n",
      "8,6\n",
      "9,1\n"
     ]
    }
   ],
   "source": [
    "with open('archivo.csv', 'r') as f:\n",
    "    for linea in f:\n",
    "        print(linea.strip())"
   ]
  },
  {
   "cell_type": "code",
   "execution_count": 92,
   "id": "32fad319",
   "metadata": {
    "execution": {
     "iopub.execute_input": "2021-11-02T17:50:40.885276Z",
     "iopub.status.busy": "2021-11-02T17:50:40.883656Z",
     "iopub.status.idle": "2021-11-02T17:50:40.887389Z",
     "shell.execute_reply": "2021-11-02T17:50:40.886880Z"
    }
   },
   "outputs": [
    {
     "name": "stdout",
     "output_type": "stream",
     "text": [
      "Alumno, nota\n",
      "0,5\n",
      "1,1\n",
      "2,7\n",
      "3,9\n",
      "4,8\n",
      "5,3\n",
      "6,8\n",
      "7,6\n",
      "8,6\n",
      "9,1\n",
      "\n"
     ]
    }
   ],
   "source": [
    "with open('archivo.csv', 'r') as f:\n",
    "    print(f.read())"
   ]
  },
  {
   "cell_type": "code",
   "execution_count": 93,
   "id": "4072d486",
   "metadata": {
    "execution": {
     "iopub.execute_input": "2021-11-02T17:50:40.892078Z",
     "iopub.status.busy": "2021-11-02T17:50:40.891194Z",
     "iopub.status.idle": "2021-11-02T17:50:40.894014Z",
     "shell.execute_reply": "2021-11-02T17:50:40.893427Z"
    }
   },
   "outputs": [],
   "source": [
    "f = open('archivo.csv', 'w')\n",
    "f.write(\"algo, algo\")\n",
    "f.close()"
   ]
  },
  {
   "cell_type": "markdown",
   "id": "78de6a77",
   "metadata": {
    "slideshow": {
     "slide_type": "slide"
    }
   },
   "source": [
    "## Objetos\n",
    "\n",
    "Los objetos tienen metodos y atributos:\n",
    "- Atributos: equivalentes a variables.\n",
    "- Métodos: equivalentes a las primitivas."
   ]
  },
  {
   "cell_type": "markdown",
   "id": "7dd2bcb1",
   "metadata": {
    "slideshow": {
     "slide_type": "slide"
    }
   },
   "source": [
    "### Cómo creo una clase"
   ]
  },
  {
   "cell_type": "code",
   "execution_count": 94,
   "id": "4e2b1629",
   "metadata": {
    "execution": {
     "iopub.execute_input": "2021-11-02T17:50:40.899715Z",
     "iopub.status.busy": "2021-11-02T17:50:40.899128Z",
     "iopub.status.idle": "2021-11-02T17:50:40.901730Z",
     "shell.execute_reply": "2021-11-02T17:50:40.901259Z"
    },
    "slideshow": {
     "slide_type": "slide"
    }
   },
   "outputs": [],
   "source": [
    "class Nodo(object):\n",
    "    def __init__(self, dato, siguiente=None):\n",
    "        self._dato = dato\n",
    "        self._siguiente = siguiente\n",
    "\n",
    "    @property\n",
    "    def dato(self):\n",
    "        return self._dato\n",
    "\n",
    "    @property\n",
    "    def proximo(self):\n",
    "        return self._siguiente\n",
    "\n",
    "    @proximo.setter\n",
    "    def proximo(self, siguiente):\n",
    "        self._siguiente = siguiente\n",
    "\n",
    "    def __repr__(self):\n",
    "        return str(self.dato)\n",
    "\n",
    "    def __str__(self):\n",
    "        return str(self.dato)"
   ]
  },
  {
   "cell_type": "code",
   "execution_count": 95,
   "id": "b2385e5b",
   "metadata": {
    "execution": {
     "iopub.execute_input": "2021-11-02T17:50:40.909669Z",
     "iopub.status.busy": "2021-11-02T17:50:40.908228Z",
     "iopub.status.idle": "2021-11-02T17:50:40.911775Z",
     "shell.execute_reply": "2021-11-02T17:50:40.911271Z"
    },
    "slideshow": {
     "slide_type": "slide"
    }
   },
   "outputs": [
    {
     "name": "stdout",
     "output_type": "stream",
     "text": [
      "hola\n"
     ]
    }
   ],
   "source": [
    "nodo = Nodo(\"hola\")\n",
    "print(nodo)"
   ]
  },
  {
   "cell_type": "code",
   "execution_count": 96,
   "id": "9c3dedc1",
   "metadata": {
    "execution": {
     "iopub.execute_input": "2021-11-02T17:50:40.917555Z",
     "iopub.status.busy": "2021-11-02T17:50:40.916133Z",
     "iopub.status.idle": "2021-11-02T17:50:40.919646Z",
     "shell.execute_reply": "2021-11-02T17:50:40.919140Z"
    },
    "slideshow": {
     "slide_type": "slide"
    }
   },
   "outputs": [
    {
     "name": "stdout",
     "output_type": "stream",
     "text": [
      "[hola, lala]\n"
     ]
    }
   ],
   "source": [
    "nodo2 = Nodo(\"lala\")\n",
    "print([nodo, nodo2])"
   ]
  },
  {
   "cell_type": "code",
   "execution_count": 97,
   "id": "23d5501b",
   "metadata": {
    "execution": {
     "iopub.execute_input": "2021-11-02T17:50:40.924715Z",
     "iopub.status.busy": "2021-11-02T17:50:40.924073Z",
     "iopub.status.idle": "2021-11-02T17:50:40.926309Z",
     "shell.execute_reply": "2021-11-02T17:50:40.926787Z"
    },
    "slideshow": {
     "slide_type": "slide"
    }
   },
   "outputs": [
    {
     "name": "stdout",
     "output_type": "stream",
     "text": [
      "hola\n"
     ]
    }
   ],
   "source": [
    "nodo3 = nodo.dato\n",
    "print(nodo3)"
   ]
  },
  {
   "cell_type": "markdown",
   "id": "bd5a2869",
   "metadata": {
    "slideshow": {
     "slide_type": "slide"
    }
   },
   "source": [
    "### Ejemplo: Lista Enlazada"
   ]
  },
  {
   "cell_type": "code",
   "execution_count": 98,
   "id": "1647073a",
   "metadata": {
    "execution": {
     "iopub.execute_input": "2021-11-02T17:50:40.935595Z",
     "iopub.status.busy": "2021-11-02T17:50:40.934491Z",
     "iopub.status.idle": "2021-11-02T17:50:40.937625Z",
     "shell.execute_reply": "2021-11-02T17:50:40.938101Z"
    },
    "slideshow": {
     "slide_type": "slide"
    }
   },
   "outputs": [],
   "source": [
    "class ListaEnlazada(object):\n",
    "    def __init__(self):\n",
    "        self._primero = None\n",
    "        self._ultimo = None\n",
    "        self._largo = 0\n",
    "\n",
    "    def __len__(self):\n",
    "        return self._largo\n",
    "\n",
    "    def insertar_al_principio(self, dato):\n",
    "        nodo = Nodo(dato, self._primero)\n",
    "        self._primero = nodo\n",
    "        self._largo += 1\n",
    "        if self._largo == 1:\n",
    "            self._ultimo = nodo\n",
    "\n",
    "    def insertar_al_final(self, dato):\n",
    "        if self._largo != 0:\n",
    "            nodo = Nodo(dato)\n",
    "            nodo_anterior = self._ultimo\n",
    "            nodo_anterior._siguiente = nodo\n",
    "            self._ultimo = nodo\n",
    "            self._largo += 1\n",
    "        else:\n",
    "            self.insertar_al_principio(dato)\n",
    "\n",
    "    @property\n",
    "    def primero(self):\n",
    "        return self._primero.dato\n",
    "\n",
    "    def borrar_primero(self):\n",
    "        dato = self.primero.dato\n",
    "        self._primero = self.primero.siguiente\n",
    "        self._largo -= 1\n",
    "        if self._largo == 0:\n",
    "            self._ultimo = None\n",
    "        return dato\n",
    "\n",
    "    def __str__(self):\n",
    "        datos = []\n",
    "        nodo_actual = self._primero\n",
    "        while nodo_actual:\n",
    "            datos.append(nodo_actual.dato)\n",
    "            nodo_actual = nodo_actual.proximo\n",
    "        return \" -> \".join(datos)\n",
    "\n",
    "    def __repr__(self):\n",
    "        return self.__str__()"
   ]
  },
  {
   "cell_type": "code",
   "execution_count": 99,
   "id": "774995e1",
   "metadata": {
    "execution": {
     "iopub.execute_input": "2021-11-02T17:50:40.943693Z",
     "iopub.status.busy": "2021-11-02T17:50:40.943079Z",
     "iopub.status.idle": "2021-11-02T17:50:40.946221Z",
     "shell.execute_reply": "2021-11-02T17:50:40.946694Z"
    },
    "slideshow": {
     "slide_type": "slide"
    }
   },
   "outputs": [
    {
     "data": {
      "text/plain": [
       "2"
      ]
     },
     "execution_count": 99,
     "metadata": {},
     "output_type": "execute_result"
    }
   ],
   "source": [
    "lista = ListaEnlazada()\n",
    "lista.insertar_al_principio(\"Primer Dato\")\n",
    "lista.insertar_al_principio(\"Primer primer Dato\")\n",
    "len(lista)"
   ]
  },
  {
   "cell_type": "code",
   "execution_count": 100,
   "id": "71372e7b",
   "metadata": {
    "execution": {
     "iopub.execute_input": "2021-11-02T17:50:40.950855Z",
     "iopub.status.busy": "2021-11-02T17:50:40.950286Z",
     "iopub.status.idle": "2021-11-02T17:50:40.952972Z",
     "shell.execute_reply": "2021-11-02T17:50:40.953482Z"
    }
   },
   "outputs": [
    {
     "data": {
      "text/plain": [
       "Primer primer Dato -> Primer Dato"
      ]
     },
     "execution_count": 100,
     "metadata": {},
     "output_type": "execute_result"
    }
   ],
   "source": [
    "lista"
   ]
  },
  {
   "cell_type": "code",
   "execution_count": 101,
   "id": "1ac01aad",
   "metadata": {
    "execution": {
     "iopub.execute_input": "2021-11-02T17:50:40.958301Z",
     "iopub.status.busy": "2021-11-02T17:50:40.957727Z",
     "iopub.status.idle": "2021-11-02T17:50:40.960022Z",
     "shell.execute_reply": "2021-11-02T17:50:40.960502Z"
    },
    "slideshow": {
     "slide_type": "slide"
    }
   },
   "outputs": [
    {
     "name": "stdout",
     "output_type": "stream",
     "text": [
      "Primer primer Dato\n"
     ]
    }
   ],
   "source": [
    "elemento = lista.primero\n",
    "print(elemento)"
   ]
  },
  {
   "cell_type": "markdown",
   "id": "fb79e29b",
   "metadata": {},
   "source": [
    "## Recursos\n",
    "\n",
    "* [Taller de Python de Algoritmos II](https://github.com/algoritmos-rw/algo2_apuntes)\n",
    "\n",
    "* [Documentación de Python 3](https://docs.python.org/3/tutorial/)\n",
    "\n",
    "* [Apunte de Algoritmos y Programación I](https://algoritmos1rw.ddns.net/material)\n",
    "\n",
    "* [Automate the Boring Stuff with Python](http://automatetheboringstuff.com/)\n",
    "\n",
    "* [Curso Python](https://pythoncurso.github.io)\n",
    "\n",
    "* [Python Tutor](http://pythontutor.com/)\n",
    "\n",
    "* [Learn Python3 in Y minutes](https://learnxinyminutes.com/docs/python3/)\n",
    "\n",
    "* [Bibliografía de Algoritmos y Programación I](https://algoritmos1rw.ddns.net/bibliografia)"
   ]
  }
 ],
 "metadata": {
  "jupytext": {
   "encoding": "# -*- coding: utf-8 -*-",
   "formats": "ipynb,py:light"
  },
  "kernelspec": {
   "display_name": "Python 3 (venv)",
   "language": "python",
   "name": "python3"
  },
  "language_info": {
   "codemirror_mode": {
    "name": "ipython",
    "version": 3
   },
   "file_extension": ".py",
   "mimetype": "text/x-python",
   "name": "python",
   "nbconvert_exporter": "python",
   "pygments_lexer": "ipython3",
   "version": "3.7.12"
  }
 },
 "nbformat": 4,
 "nbformat_minor": 5
}
