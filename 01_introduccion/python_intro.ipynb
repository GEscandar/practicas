{
 "cells": [
  {
   "cell_type": "markdown",
   "id": "d1f1d8a7",
   "metadata": {},
   "source": [
    "# Python"
   ]
  },
  {
   "cell_type": "markdown",
   "id": "187730b8",
   "metadata": {
    "slideshow": {
     "slide_type": "slide"
    }
   },
   "source": [
    "## Un poco de Historia"
   ]
  },
  {
   "cell_type": "markdown",
   "id": "46f5bc6b",
   "metadata": {
    "slideshow": {
     "slide_type": "subslide"
    }
   },
   "source": [
    "Python fue creado a finales de los años 80 por un programador holandés llamado **Guido van Rossum**,\n",
    "quien sigue siendo aún hoy el líder del desarrollo del lenguaje.\n",
    "\n",
    "(Edit julio 2018: [ya no más](https://www.mail-archive.com/python-committers@python.org/msg05628.html))"
   ]
  },
  {
   "cell_type": "markdown",
   "id": "ca9ee4b2",
   "metadata": {
    "slideshow": {
     "slide_type": "subslide"
    }
   },
   "source": [
    "El nombre del lenguaje proviene de los humoristas británicos Monty Python.\n",
    "\n",
    ">*\"I chose Python as a working title for the project, being in a slightly irreverent mood (and a big fan of Monty Python's Flying Circus).\"*"
   ]
  },
  {
   "cell_type": "markdown",
   "id": "ffef5a54",
   "metadata": {
    "slideshow": {
     "slide_type": "slide"
    }
   },
   "source": [
    "## Caracteristicas\n",
    "\n",
    "- Interpretado\n",
    "- Tipado dinamico\n",
    "- Multiparadigma\n",
    "- Alto nivel\n",
    "- Tiene un recolector de basura (no hay malloc, free, realloc, etc)"
   ]
  },
  {
   "cell_type": "markdown",
   "id": "f419b868",
   "metadata": {},
   "source": [
    "## ¿Cómo empezar?\n",
    "\n",
    "* Al ser un lenguaje *interpretado*, se puede ir escribiendo a medida que se ejecuta, sin necesidad de compilar de antemano! Solamente hace falta escribir `python` o `python3` en una terminal para empezar\n",
    "\n",
    "* También, permite escribir archivos y correrlos. Crear un archivo con extensión `.py` y luego correr `python miarchivo.py` en laterminal"
   ]
  },
  {
   "cell_type": "markdown",
   "id": "2056db93",
   "metadata": {
    "slideshow": {
     "slide_type": "slide"
    }
   },
   "source": [
    "## El Zen de Python"
   ]
  },
  {
   "cell_type": "code",
   "execution_count": 1,
   "id": "2055c20a",
   "metadata": {
    "execution": {
     "iopub.execute_input": "2021-11-03T02:37:52.374936Z",
     "iopub.status.busy": "2021-11-03T02:37:52.374446Z",
     "iopub.status.idle": "2021-11-03T02:37:52.394737Z",
     "shell.execute_reply": "2021-11-03T02:37:52.395141Z"
    },
    "slideshow": {
     "slide_type": "slide"
    }
   },
   "outputs": [
    {
     "name": "stdout",
     "output_type": "stream",
     "text": [
      "The Zen of Python, by Tim Peters\n",
      "\n",
      "Beautiful is better than ugly.\n",
      "Explicit is better than implicit.\n",
      "Simple is better than complex.\n",
      "Complex is better than complicated.\n",
      "Flat is better than nested.\n",
      "Sparse is better than dense.\n",
      "Readability counts.\n",
      "Special cases aren't special enough to break the rules.\n",
      "Although practicality beats purity.\n",
      "Errors should never pass silently.\n",
      "Unless explicitly silenced.\n",
      "In the face of ambiguity, refuse the temptation to guess.\n",
      "There should be one-- and preferably only one --obvious way to do it.\n",
      "Although that way may not be obvious at first unless you're Dutch.\n",
      "Now is better than never.\n",
      "Although never is often better than *right* now.\n",
      "If the implementation is hard to explain, it's a bad idea.\n",
      "If the implementation is easy to explain, it may be a good idea.\n",
      "Namespaces are one honking great idea -- let's do more of those!\n"
     ]
    }
   ],
   "source": [
    "import this"
   ]
  },
  {
   "cell_type": "markdown",
   "id": "aa401e80",
   "metadata": {
    "slideshow": {
     "slide_type": "slide"
    }
   },
   "source": [
    "## Conocimientos Básicos de Python: Variables y Tipos"
   ]
  },
  {
   "cell_type": "code",
   "execution_count": 2,
   "id": "b274d56a",
   "metadata": {
    "execution": {
     "iopub.execute_input": "2021-11-03T02:37:52.400349Z",
     "iopub.status.busy": "2021-11-03T02:37:52.399068Z",
     "iopub.status.idle": "2021-11-03T02:37:52.402329Z",
     "shell.execute_reply": "2021-11-03T02:37:52.401882Z"
    },
    "slideshow": {
     "slide_type": "slide"
    }
   },
   "outputs": [
    {
     "name": "stdout",
     "output_type": "stream",
     "text": [
      "Hello World!\n"
     ]
    }
   ],
   "source": [
    "# Este es un comentario\n",
    "\n",
    "print(\"Hello World!\")"
   ]
  },
  {
   "cell_type": "markdown",
   "id": "2c45362c",
   "metadata": {},
   "source": [
    "Los strings en python puden escribirse tanto con comillas simples (`'`) como comillas dobles (`\"`). Normalmente vemos texto entre comillas triples para escribir _docstrings_, segun la guia de estilo de Python, el PEP8."
   ]
  },
  {
   "cell_type": "code",
   "execution_count": 3,
   "id": "90696c5b",
   "metadata": {
    "execution": {
     "iopub.execute_input": "2021-11-03T02:37:52.412116Z",
     "iopub.status.busy": "2021-11-03T02:37:52.409758Z",
     "iopub.status.idle": "2021-11-03T02:37:52.414740Z",
     "shell.execute_reply": "2021-11-03T02:37:52.415136Z"
    }
   },
   "outputs": [
    {
     "data": {
      "text/plain": [
       "'Esto es un docstring.\\n'"
      ]
     },
     "execution_count": 3,
     "metadata": {},
     "output_type": "execute_result"
    }
   ],
   "source": [
    "\"\"\"Esto es un docstring.\n",
    "\"\"\""
   ]
  },
  {
   "cell_type": "markdown",
   "id": "f5ceb51b",
   "metadata": {},
   "source": [
    "### Declaracion de variables"
   ]
  },
  {
   "cell_type": "code",
   "execution_count": 4,
   "id": "52a7884e",
   "metadata": {
    "execution": {
     "iopub.execute_input": "2021-11-03T02:37:52.420113Z",
     "iopub.status.busy": "2021-11-03T02:37:52.418920Z",
     "iopub.status.idle": "2021-11-03T02:37:52.422026Z",
     "shell.execute_reply": "2021-11-03T02:37:52.421599Z"
    }
   },
   "outputs": [
    {
     "name": "stdout",
     "output_type": "stream",
     "text": [
      "Hola\n"
     ]
    }
   ],
   "source": [
    "string = 'Hola'\n",
    "print(string)"
   ]
  },
  {
   "cell_type": "code",
   "execution_count": 5,
   "id": "35448e7a",
   "metadata": {
    "execution": {
     "iopub.execute_input": "2021-11-03T02:37:52.426743Z",
     "iopub.status.busy": "2021-11-03T02:37:52.425585Z",
     "iopub.status.idle": "2021-11-03T02:37:52.428652Z",
     "shell.execute_reply": "2021-11-03T02:37:52.428233Z"
    }
   },
   "outputs": [
    {
     "name": "stdout",
     "output_type": "stream",
     "text": [
      "1\n"
     ]
    }
   ],
   "source": [
    "entero = 1\n",
    "print(entero)"
   ]
  },
  {
   "cell_type": "code",
   "execution_count": 6,
   "id": "8d18b761",
   "metadata": {
    "execution": {
     "iopub.execute_input": "2021-11-03T02:37:52.432763Z",
     "iopub.status.busy": "2021-11-03T02:37:52.432281Z",
     "iopub.status.idle": "2021-11-03T02:37:52.434179Z",
     "shell.execute_reply": "2021-11-03T02:37:52.434602Z"
    }
   },
   "outputs": [
    {
     "name": "stdout",
     "output_type": "stream",
     "text": [
      "1.0\n"
     ]
    }
   ],
   "source": [
    "flotante = 1.0\n",
    "print(flotante)"
   ]
  },
  {
   "cell_type": "code",
   "execution_count": 7,
   "id": "30fa8dd4",
   "metadata": {
    "execution": {
     "iopub.execute_input": "2021-11-03T02:37:52.438284Z",
     "iopub.status.busy": "2021-11-03T02:37:52.436499Z",
     "iopub.status.idle": "2021-11-03T02:37:52.440363Z",
     "shell.execute_reply": "2021-11-03T02:37:52.440751Z"
    }
   },
   "outputs": [
    {
     "name": "stdout",
     "output_type": "stream",
     "text": [
      "(1, 1.0)\n"
     ]
    }
   ],
   "source": [
    "tupla = (entero, flotante)\n",
    "print(tupla)"
   ]
  },
  {
   "cell_type": "code",
   "execution_count": 8,
   "id": "36161c70",
   "metadata": {
    "execution": {
     "iopub.execute_input": "2021-11-03T02:37:52.444221Z",
     "iopub.status.busy": "2021-11-03T02:37:52.443743Z",
     "iopub.status.idle": "2021-11-03T02:37:52.445642Z",
     "shell.execute_reply": "2021-11-03T02:37:52.446109Z"
    }
   },
   "outputs": [
    {
     "name": "stdout",
     "output_type": "stream",
     "text": [
      "(1, 1.0, 'Hola')\n"
     ]
    }
   ],
   "source": [
    "nupla = (entero, flotante, string)\n",
    "print(nupla)"
   ]
  },
  {
   "cell_type": "code",
   "execution_count": 9,
   "id": "2c30a7bd",
   "metadata": {
    "execution": {
     "iopub.execute_input": "2021-11-03T02:37:52.449862Z",
     "iopub.status.busy": "2021-11-03T02:37:52.449382Z",
     "iopub.status.idle": "2021-11-03T02:37:52.451274Z",
     "shell.execute_reply": "2021-11-03T02:37:52.451659Z"
    }
   },
   "outputs": [
    {
     "name": "stdout",
     "output_type": "stream",
     "text": [
      "[1, 1.0, 'Hola']\n"
     ]
    }
   ],
   "source": [
    "lista = [entero, flotante, string]\n",
    "print(lista)"
   ]
  },
  {
   "cell_type": "code",
   "execution_count": 10,
   "id": "714a2c81",
   "metadata": {
    "execution": {
     "iopub.execute_input": "2021-11-03T02:37:52.455636Z",
     "iopub.status.busy": "2021-11-03T02:37:52.455150Z",
     "iopub.status.idle": "2021-11-03T02:37:52.458853Z",
     "shell.execute_reply": "2021-11-03T02:37:52.459225Z"
    }
   },
   "outputs": [
    {
     "name": "stdout",
     "output_type": "stream",
     "text": [
      "{'1': (1, 1.0), 50: (1, 1.0, 'Hola'), '3': 1}\n"
     ]
    }
   ],
   "source": [
    "diccionario = {'1': tupla, 50: nupla, '3': entero}\n",
    "print(diccionario)"
   ]
  },
  {
   "cell_type": "code",
   "execution_count": 11,
   "id": "1941e185",
   "metadata": {
    "execution": {
     "iopub.execute_input": "2021-11-03T02:37:52.463340Z",
     "iopub.status.busy": "2021-11-03T02:37:52.462861Z",
     "iopub.status.idle": "2021-11-03T02:37:52.464735Z",
     "shell.execute_reply": "2021-11-03T02:37:52.465123Z"
    }
   },
   "outputs": [
    {
     "name": "stdout",
     "output_type": "stream",
     "text": [
      "{1, 2}\n"
     ]
    }
   ],
   "source": [
    "conjunto = set([1, 2])\n",
    "print(conjunto)"
   ]
  },
  {
   "cell_type": "code",
   "execution_count": 12,
   "id": "596d08e5",
   "metadata": {
    "execution": {
     "iopub.execute_input": "2021-11-03T02:37:52.468952Z",
     "iopub.status.busy": "2021-11-03T02:37:52.468475Z",
     "iopub.status.idle": "2021-11-03T02:37:52.470347Z",
     "shell.execute_reply": "2021-11-03T02:37:52.470746Z"
    }
   },
   "outputs": [
    {
     "name": "stdout",
     "output_type": "stream",
     "text": [
      "True\n"
     ]
    }
   ],
   "source": [
    "booleano = True\n",
    "print(booleano)"
   ]
  },
  {
   "cell_type": "code",
   "execution_count": 13,
   "id": "0aef76f6",
   "metadata": {
    "execution": {
     "iopub.execute_input": "2021-11-03T02:37:52.474491Z",
     "iopub.status.busy": "2021-11-03T02:37:52.473936Z",
     "iopub.status.idle": "2021-11-03T02:37:52.476789Z",
     "shell.execute_reply": "2021-11-03T02:37:52.476402Z"
    }
   },
   "outputs": [
    {
     "name": "stdout",
     "output_type": "stream",
     "text": [
      "None\n"
     ]
    }
   ],
   "source": [
    "nada = None\n",
    "print(nada)"
   ]
  },
  {
   "cell_type": "markdown",
   "id": "6d5025bf",
   "metadata": {},
   "source": [
    "Ojo que las variables pueden cambiar de tipo!"
   ]
  },
  {
   "cell_type": "code",
   "execution_count": 14,
   "id": "bc46df22",
   "metadata": {
    "execution": {
     "iopub.execute_input": "2021-11-03T02:37:52.480686Z",
     "iopub.status.busy": "2021-11-03T02:37:52.478871Z",
     "iopub.status.idle": "2021-11-03T02:37:52.482757Z",
     "shell.execute_reply": "2021-11-03T02:37:52.483159Z"
    }
   },
   "outputs": [
    {
     "name": "stdout",
     "output_type": "stream",
     "text": [
      "1\n",
      "<class 'int'>\n"
     ]
    }
   ],
   "source": [
    "elemento = 1\n",
    "print(elemento)\n",
    "print(type(elemento))"
   ]
  },
  {
   "cell_type": "code",
   "execution_count": 15,
   "id": "9f2ebb51",
   "metadata": {
    "execution": {
     "iopub.execute_input": "2021-11-03T02:37:52.486975Z",
     "iopub.status.busy": "2021-11-03T02:37:52.486490Z",
     "iopub.status.idle": "2021-11-03T02:37:52.488358Z",
     "shell.execute_reply": "2021-11-03T02:37:52.488745Z"
    }
   },
   "outputs": [
    {
     "name": "stdout",
     "output_type": "stream",
     "text": [
      "1\n",
      "<class 'str'>\n"
     ]
    }
   ],
   "source": [
    "elemento = str(1)\n",
    "print(elemento)\n",
    "print(type(elemento))"
   ]
  },
  {
   "cell_type": "code",
   "execution_count": 16,
   "id": "b25b0a77",
   "metadata": {
    "execution": {
     "iopub.execute_input": "2021-11-03T02:37:52.492557Z",
     "iopub.status.busy": "2021-11-03T02:37:52.492075Z",
     "iopub.status.idle": "2021-11-03T02:37:52.496524Z",
     "shell.execute_reply": "2021-11-03T02:37:52.496130Z"
    }
   },
   "outputs": [
    {
     "name": "stdout",
     "output_type": "stream",
     "text": [
      "[2]\n",
      "<class 'list'>\n"
     ]
    }
   ],
   "source": [
    "elemento = [2]\n",
    "\n",
    "print(elemento)\n",
    "print(type(elemento))"
   ]
  },
  {
   "cell_type": "markdown",
   "id": "0a530e9a",
   "metadata": {},
   "source": [
    "### Tipos basicos"
   ]
  },
  {
   "cell_type": "markdown",
   "id": "4006fd81",
   "metadata": {
    "slideshow": {
     "slide_type": "slide"
    }
   },
   "source": [
    "#### Listas de Python"
   ]
  },
  {
   "cell_type": "code",
   "execution_count": 17,
   "id": "c2702bf5",
   "metadata": {
    "execution": {
     "iopub.execute_input": "2021-11-03T02:37:52.500969Z",
     "iopub.status.busy": "2021-11-03T02:37:52.500465Z",
     "iopub.status.idle": "2021-11-03T02:37:52.502673Z",
     "shell.execute_reply": "2021-11-03T02:37:52.503065Z"
    }
   },
   "outputs": [
    {
     "data": {
      "text/plain": [
       "[]"
      ]
     },
     "execution_count": 17,
     "metadata": {},
     "output_type": "execute_result"
    }
   ],
   "source": [
    "lista = list()\n",
    "lista"
   ]
  },
  {
   "cell_type": "code",
   "execution_count": 18,
   "id": "cf34a6d4",
   "metadata": {
    "execution": {
     "iopub.execute_input": "2021-11-03T02:37:52.506613Z",
     "iopub.status.busy": "2021-11-03T02:37:52.506110Z",
     "iopub.status.idle": "2021-11-03T02:37:52.508285Z",
     "shell.execute_reply": "2021-11-03T02:37:52.508752Z"
    },
    "slideshow": {
     "slide_type": "slide"
    }
   },
   "outputs": [
    {
     "data": {
      "text/plain": [
       "[]"
      ]
     },
     "execution_count": 18,
     "metadata": {},
     "output_type": "execute_result"
    }
   ],
   "source": [
    "lista = []\n",
    "lista"
   ]
  },
  {
   "cell_type": "code",
   "execution_count": 19,
   "id": "3a67671b",
   "metadata": {
    "execution": {
     "iopub.execute_input": "2021-11-03T02:37:52.512904Z",
     "iopub.status.busy": "2021-11-03T02:37:52.512400Z",
     "iopub.status.idle": "2021-11-03T02:37:52.514790Z",
     "shell.execute_reply": "2021-11-03T02:37:52.515184Z"
    },
    "slideshow": {
     "slide_type": "slide"
    }
   },
   "outputs": [
    {
     "data": {
      "text/plain": [
       "[1, 2, 3, 4]"
      ]
     },
     "execution_count": 19,
     "metadata": {},
     "output_type": "execute_result"
    }
   ],
   "source": [
    "lista = [1, 2, 3, 4]\n",
    "lista"
   ]
  },
  {
   "cell_type": "code",
   "execution_count": 20,
   "id": "f5c6c07a",
   "metadata": {
    "execution": {
     "iopub.execute_input": "2021-11-03T02:37:52.519654Z",
     "iopub.status.busy": "2021-11-03T02:37:52.519166Z",
     "iopub.status.idle": "2021-11-03T02:37:52.521323Z",
     "shell.execute_reply": "2021-11-03T02:37:52.521708Z"
    },
    "slideshow": {
     "slide_type": "slide"
    }
   },
   "outputs": [
    {
     "data": {
      "text/plain": [
       "[1, 2, 3, 4, 1, 'dos', 3.0]"
      ]
     },
     "execution_count": 20,
     "metadata": {},
     "output_type": "execute_result"
    }
   ],
   "source": [
    "lista.append(1)  # Inserto un 1 al final\n",
    "lista.append(\"dos\")  # Inserto un \"dos\" al final\n",
    "lista.append(3.0)  # Inserto un 3.0 al final\n",
    "lista"
   ]
  },
  {
   "cell_type": "code",
   "execution_count": 21,
   "id": "172ceccf",
   "metadata": {
    "execution": {
     "iopub.execute_input": "2021-11-03T02:37:52.525036Z",
     "iopub.status.busy": "2021-11-03T02:37:52.524553Z",
     "iopub.status.idle": "2021-11-03T02:37:52.526459Z",
     "shell.execute_reply": "2021-11-03T02:37:52.526945Z"
    }
   },
   "outputs": [
    {
     "name": "stdout",
     "output_type": "stream",
     "text": [
      "[1, 2, 10, 3, 4, 1, 'dos', 3.0]\n"
     ]
    }
   ],
   "source": [
    "lista.insert(2, 10)  # Inserto en posicion 2 un 10\n",
    "print(lista)"
   ]
  },
  {
   "cell_type": "code",
   "execution_count": 22,
   "id": "9024f686",
   "metadata": {
    "execution": {
     "iopub.execute_input": "2021-11-03T02:37:52.530718Z",
     "iopub.status.busy": "2021-11-03T02:37:52.530208Z",
     "iopub.status.idle": "2021-11-03T02:37:52.532590Z",
     "shell.execute_reply": "2021-11-03T02:37:52.532979Z"
    }
   },
   "outputs": [
    {
     "data": {
      "text/plain": [
       "8"
      ]
     },
     "execution_count": 22,
     "metadata": {},
     "output_type": "execute_result"
    }
   ],
   "source": [
    "len(lista)"
   ]
  },
  {
   "cell_type": "code",
   "execution_count": 23,
   "id": "1946c8e3",
   "metadata": {
    "execution": {
     "iopub.execute_input": "2021-11-03T02:37:52.536662Z",
     "iopub.status.busy": "2021-11-03T02:37:52.536182Z",
     "iopub.status.idle": "2021-11-03T02:37:52.539438Z",
     "shell.execute_reply": "2021-11-03T02:37:52.539807Z"
    }
   },
   "outputs": [
    {
     "data": {
      "text/plain": [
       "3.0"
      ]
     },
     "execution_count": 23,
     "metadata": {},
     "output_type": "execute_result"
    }
   ],
   "source": [
    "lista.pop()"
   ]
  },
  {
   "cell_type": "code",
   "execution_count": 24,
   "id": "a8b8fccb",
   "metadata": {
    "execution": {
     "iopub.execute_input": "2021-11-03T02:37:52.543739Z",
     "iopub.status.busy": "2021-11-03T02:37:52.543241Z",
     "iopub.status.idle": "2021-11-03T02:37:52.545561Z",
     "shell.execute_reply": "2021-11-03T02:37:52.545952Z"
    }
   },
   "outputs": [
    {
     "data": {
      "text/plain": [
       "[1, 2, 10, 3, 4, 1, 'dos']"
      ]
     },
     "execution_count": 24,
     "metadata": {},
     "output_type": "execute_result"
    }
   ],
   "source": [
    "lista"
   ]
  },
  {
   "cell_type": "code",
   "execution_count": 25,
   "id": "457577f3",
   "metadata": {
    "execution": {
     "iopub.execute_input": "2021-11-03T02:37:52.549579Z",
     "iopub.status.busy": "2021-11-03T02:37:52.549098Z",
     "iopub.status.idle": "2021-11-03T02:37:52.551279Z",
     "shell.execute_reply": "2021-11-03T02:37:52.551670Z"
    }
   },
   "outputs": [
    {
     "data": {
      "text/plain": [
       "2"
      ]
     },
     "execution_count": 25,
     "metadata": {},
     "output_type": "execute_result"
    }
   ],
   "source": [
    "lista.index(10)"
   ]
  },
  {
   "cell_type": "code",
   "execution_count": 26,
   "id": "ff6944a5",
   "metadata": {
    "execution": {
     "iopub.execute_input": "2021-11-03T02:37:52.555324Z",
     "iopub.status.busy": "2021-11-03T02:37:52.554844Z",
     "iopub.status.idle": "2021-11-03T02:37:52.557142Z",
     "shell.execute_reply": "2021-11-03T02:37:52.557563Z"
    }
   },
   "outputs": [
    {
     "data": {
      "text/plain": [
       "[1, 2, 3, 4, 1, 'dos']"
      ]
     },
     "execution_count": 26,
     "metadata": {},
     "output_type": "execute_result"
    }
   ],
   "source": [
    "lista.remove(10)\n",
    "lista"
   ]
  },
  {
   "cell_type": "code",
   "execution_count": 27,
   "id": "0e57400b",
   "metadata": {
    "execution": {
     "iopub.execute_input": "2021-11-03T02:37:52.561421Z",
     "iopub.status.busy": "2021-11-03T02:37:52.560660Z",
     "iopub.status.idle": "2021-11-03T02:37:52.625081Z",
     "shell.execute_reply": "2021-11-03T02:37:52.625598Z"
    },
    "tags": [
     "raises-exception"
    ]
   },
   "outputs": [
    {
     "name": "stdout",
     "output_type": "stream",
     "text": [
      "1\n",
      "2\n",
      "2\n",
      "3\n",
      "3\n",
      "4\n",
      "4\n",
      "5\n",
      "1\n",
      "2\n",
      "dos\n"
     ]
    },
    {
     "ename": "TypeError",
     "evalue": "can only concatenate str (not \"int\") to str",
     "output_type": "error",
     "traceback": [
      "\u001b[0;31m---------------------------------------------------------------------------\u001b[0m",
      "\u001b[0;31mTypeError\u001b[0m                                 Traceback (most recent call last)",
      "\u001b[0;32m/tmp/ipykernel_2525/1783555086.py\u001b[0m in \u001b[0;36m<module>\u001b[0;34m\u001b[0m\n\u001b[1;32m      1\u001b[0m \u001b[0;32mfor\u001b[0m \u001b[0melemento\u001b[0m \u001b[0;32min\u001b[0m \u001b[0mlista\u001b[0m\u001b[0;34m:\u001b[0m\u001b[0;34m\u001b[0m\u001b[0;34m\u001b[0m\u001b[0m\n\u001b[1;32m      2\u001b[0m     \u001b[0mprint\u001b[0m\u001b[0;34m(\u001b[0m\u001b[0melemento\u001b[0m\u001b[0;34m)\u001b[0m\u001b[0;34m\u001b[0m\u001b[0;34m\u001b[0m\u001b[0m\n\u001b[0;32m----> 3\u001b[0;31m     \u001b[0mprint\u001b[0m\u001b[0;34m(\u001b[0m\u001b[0melemento\u001b[0m \u001b[0;34m+\u001b[0m \u001b[0;36m1\u001b[0m\u001b[0;34m)\u001b[0m\u001b[0;34m\u001b[0m\u001b[0;34m\u001b[0m\u001b[0m\n\u001b[0m",
      "\u001b[0;31mTypeError\u001b[0m: can only concatenate str (not \"int\") to str"
     ]
    }
   ],
   "source": [
    "for elemento in lista:\n",
    "    print(elemento)\n",
    "    print(elemento + 1)"
   ]
  },
  {
   "cell_type": "code",
   "execution_count": 28,
   "id": "fe642dc3",
   "metadata": {
    "execution": {
     "iopub.execute_input": "2021-11-03T02:37:52.631491Z",
     "iopub.status.busy": "2021-11-03T02:37:52.630163Z",
     "iopub.status.idle": "2021-11-03T02:37:52.633820Z",
     "shell.execute_reply": "2021-11-03T02:37:52.633394Z"
    }
   },
   "outputs": [
    {
     "data": {
      "text/plain": [
       "[1, 2, 3, 4, 1, 'dos']"
      ]
     },
     "execution_count": 28,
     "metadata": {},
     "output_type": "execute_result"
    }
   ],
   "source": [
    "lista"
   ]
  },
  {
   "cell_type": "code",
   "execution_count": 29,
   "id": "feb4fce9",
   "metadata": {
    "execution": {
     "iopub.execute_input": "2021-11-03T02:37:52.639468Z",
     "iopub.status.busy": "2021-11-03T02:37:52.638314Z",
     "iopub.status.idle": "2021-11-03T02:37:52.641372Z",
     "shell.execute_reply": "2021-11-03T02:37:52.640949Z"
    }
   },
   "outputs": [
    {
     "name": "stdout",
     "output_type": "stream",
     "text": [
      "0-ésimo elemento: 1\n",
      "1-ésimo elemento: 2\n",
      "2-ésimo elemento: 3\n",
      "3-ésimo elemento: 4\n",
      "4-ésimo elemento: 1\n",
      "5-ésimo elemento: dos\n"
     ]
    }
   ],
   "source": [
    "for i, elemento in enumerate(lista):\n",
    "    print(f\"{i}-ésimo elemento: {elemento}\")"
   ]
  },
  {
   "cell_type": "code",
   "execution_count": 30,
   "id": "46dc42a4",
   "metadata": {
    "execution": {
     "iopub.execute_input": "2021-11-03T02:37:52.647246Z",
     "iopub.status.busy": "2021-11-03T02:37:52.646714Z",
     "iopub.status.idle": "2021-11-03T02:37:52.650011Z",
     "shell.execute_reply": "2021-11-03T02:37:52.649558Z"
    },
    "tags": [
     "raises-exception"
    ]
   },
   "outputs": [
    {
     "ename": "TypeError",
     "evalue": "'<' not supported between instances of 'str' and 'int'",
     "output_type": "error",
     "traceback": [
      "\u001b[0;31m---------------------------------------------------------------------------\u001b[0m",
      "\u001b[0;31mTypeError\u001b[0m                                 Traceback (most recent call last)",
      "\u001b[0;32m/tmp/ipykernel_2525/2266425520.py\u001b[0m in \u001b[0;36m<module>\u001b[0;34m\u001b[0m\n\u001b[0;32m----> 1\u001b[0;31m \u001b[0msorted\u001b[0m\u001b[0;34m(\u001b[0m\u001b[0mlista\u001b[0m\u001b[0;34m)\u001b[0m\u001b[0;34m\u001b[0m\u001b[0;34m\u001b[0m\u001b[0m\n\u001b[0m",
      "\u001b[0;31mTypeError\u001b[0m: '<' not supported between instances of 'str' and 'int'"
     ]
    }
   ],
   "source": [
    "sorted(lista)"
   ]
  },
  {
   "cell_type": "code",
   "execution_count": 31,
   "id": "4ee65d50",
   "metadata": {
    "execution": {
     "iopub.execute_input": "2021-11-03T02:37:52.654157Z",
     "iopub.status.busy": "2021-11-03T02:37:52.653048Z",
     "iopub.status.idle": "2021-11-03T02:37:52.654885Z",
     "shell.execute_reply": "2021-11-03T02:37:52.655280Z"
    }
   },
   "outputs": [],
   "source": [
    "lista.remove(\"dos\")"
   ]
  },
  {
   "cell_type": "code",
   "execution_count": 32,
   "id": "00314d6b",
   "metadata": {
    "execution": {
     "iopub.execute_input": "2021-11-03T02:37:52.660290Z",
     "iopub.status.busy": "2021-11-03T02:37:52.659395Z",
     "iopub.status.idle": "2021-11-03T02:37:52.662325Z",
     "shell.execute_reply": "2021-11-03T02:37:52.662727Z"
    }
   },
   "outputs": [
    {
     "data": {
      "text/plain": [
       "[1, 1, 2, 3, 4]"
      ]
     },
     "execution_count": 32,
     "metadata": {},
     "output_type": "execute_result"
    }
   ],
   "source": [
    "sorted(lista)"
   ]
  },
  {
   "cell_type": "code",
   "execution_count": 33,
   "id": "4275e003",
   "metadata": {
    "execution": {
     "iopub.execute_input": "2021-11-03T02:37:52.667738Z",
     "iopub.status.busy": "2021-11-03T02:37:52.666842Z",
     "iopub.status.idle": "2021-11-03T02:37:52.670117Z",
     "shell.execute_reply": "2021-11-03T02:37:52.669716Z"
    }
   },
   "outputs": [
    {
     "data": {
      "text/plain": [
       "[1, 1, 2, 3, 4]"
      ]
     },
     "execution_count": 33,
     "metadata": {},
     "output_type": "execute_result"
    }
   ],
   "source": [
    "lista.sort()\n",
    "lista"
   ]
  },
  {
   "cell_type": "markdown",
   "id": "01c574ec",
   "metadata": {
    "slideshow": {
     "slide_type": "slide"
    }
   },
   "source": [
    "#### Tuplas de Python\n",
    "\n",
    "Las tuplas son inmutables. No se pueden agregar elementos luego de creadas."
   ]
  },
  {
   "cell_type": "code",
   "execution_count": 34,
   "id": "a87e488b",
   "metadata": {
    "execution": {
     "iopub.execute_input": "2021-11-03T02:37:52.678040Z",
     "iopub.status.busy": "2021-11-03T02:37:52.677532Z",
     "iopub.status.idle": "2021-11-03T02:37:52.681383Z",
     "shell.execute_reply": "2021-11-03T02:37:52.680960Z"
    },
    "slideshow": {
     "slide_type": "slide"
    },
    "tags": [
     "raises-exception"
    ]
   },
   "outputs": [
    {
     "name": "stdout",
     "output_type": "stream",
     "text": [
      "(1, 2)\n",
      "1\n",
      "2\n"
     ]
    },
    {
     "ename": "TypeError",
     "evalue": "'tuple' object does not support item assignment",
     "output_type": "error",
     "traceback": [
      "\u001b[0;31m---------------------------------------------------------------------------\u001b[0m",
      "\u001b[0;31mTypeError\u001b[0m                                 Traceback (most recent call last)",
      "\u001b[0;32m/tmp/ipykernel_2525/3644040918.py\u001b[0m in \u001b[0;36m<module>\u001b[0;34m\u001b[0m\n\u001b[1;32m      5\u001b[0m \u001b[0mprint\u001b[0m\u001b[0;34m(\u001b[0m\u001b[0mtupla\u001b[0m\u001b[0;34m[\u001b[0m\u001b[0;36m1\u001b[0m\u001b[0;34m]\u001b[0m\u001b[0;34m)\u001b[0m\u001b[0;34m\u001b[0m\u001b[0;34m\u001b[0m\u001b[0m\n\u001b[1;32m      6\u001b[0m \u001b[0;34m\u001b[0m\u001b[0m\n\u001b[0;32m----> 7\u001b[0;31m \u001b[0mtupla\u001b[0m\u001b[0;34m[\u001b[0m\u001b[0;36m1\u001b[0m\u001b[0;34m]\u001b[0m \u001b[0;34m=\u001b[0m \u001b[0;36m3\u001b[0m  \u001b[0;31m# Falla. No se puede mutar\u001b[0m\u001b[0;34m\u001b[0m\u001b[0;34m\u001b[0m\u001b[0m\n\u001b[0m",
      "\u001b[0;31mTypeError\u001b[0m: 'tuple' object does not support item assignment"
     ]
    }
   ],
   "source": [
    "tupla = (1, 2)\n",
    "\n",
    "print(tupla)\n",
    "print(tupla[0])\n",
    "print(tupla[1])\n",
    "\n",
    "tupla[1] = 3  # Falla. No se puede mutar"
   ]
  },
  {
   "cell_type": "code",
   "execution_count": 35,
   "id": "04901aa2",
   "metadata": {
    "execution": {
     "iopub.execute_input": "2021-11-03T02:37:52.685081Z",
     "iopub.status.busy": "2021-11-03T02:37:52.684601Z",
     "iopub.status.idle": "2021-11-03T02:37:52.686927Z",
     "shell.execute_reply": "2021-11-03T02:37:52.687328Z"
    }
   },
   "outputs": [
    {
     "data": {
      "text/plain": [
       "[1, 2]"
      ]
     },
     "execution_count": 35,
     "metadata": {},
     "output_type": "execute_result"
    }
   ],
   "source": [
    "l = [1, 2]\n",
    "l"
   ]
  },
  {
   "cell_type": "code",
   "execution_count": 36,
   "id": "af498b8d",
   "metadata": {
    "execution": {
     "iopub.execute_input": "2021-11-03T02:37:52.691093Z",
     "iopub.status.busy": "2021-11-03T02:37:52.690609Z",
     "iopub.status.idle": "2021-11-03T02:37:52.692759Z",
     "shell.execute_reply": "2021-11-03T02:37:52.693225Z"
    }
   },
   "outputs": [
    {
     "data": {
      "text/plain": [
       "[1, 3]"
      ]
     },
     "execution_count": 36,
     "metadata": {},
     "output_type": "execute_result"
    }
   ],
   "source": [
    "l[1] = 3\n",
    "l"
   ]
  },
  {
   "cell_type": "markdown",
   "id": "7259b11a",
   "metadata": {
    "slideshow": {
     "slide_type": "slide"
    }
   },
   "source": [
    "#### Diferencia entre lista y tupla\n",
    "Las listas se caracterizan por ser mutables, es decir, se puede cambiar su contenido en tiempo de ejecución, mientras que las tuplas son inmutables ya que no es posible modificar el contenido una vez creada."
   ]
  },
  {
   "cell_type": "markdown",
   "id": "bb658398",
   "metadata": {},
   "source": [
    "#### Slices\n",
    "\n",
    "**Valen para listas, tuplas o strings (_segmentos_)**"
   ]
  },
  {
   "cell_type": "code",
   "execution_count": 37,
   "id": "ceb52c40",
   "metadata": {
    "execution": {
     "iopub.execute_input": "2021-11-03T02:37:52.696729Z",
     "iopub.status.busy": "2021-11-03T02:37:52.696241Z",
     "iopub.status.idle": "2021-11-03T02:37:52.698101Z",
     "shell.execute_reply": "2021-11-03T02:37:52.698502Z"
    }
   },
   "outputs": [],
   "source": [
    "numeros = [0, 1, 2, 3, 4, 5, 6, 7, 8, 9, 10]"
   ]
  },
  {
   "cell_type": "code",
   "execution_count": 38,
   "id": "21005165",
   "metadata": {
    "execution": {
     "iopub.execute_input": "2021-11-03T02:37:52.702992Z",
     "iopub.status.busy": "2021-11-03T02:37:52.701852Z",
     "iopub.status.idle": "2021-11-03T02:37:52.704842Z",
     "shell.execute_reply": "2021-11-03T02:37:52.704423Z"
    }
   },
   "outputs": [
    {
     "name": "stdout",
     "output_type": "stream",
     "text": [
      "[0, 1, 2, 3, 4, 5, 6, 7, 8, 9, 10]\n"
     ]
    }
   ],
   "source": [
    "print(numeros)"
   ]
  },
  {
   "cell_type": "code",
   "execution_count": 39,
   "id": "90564f41",
   "metadata": {
    "execution": {
     "iopub.execute_input": "2021-11-03T02:37:52.708179Z",
     "iopub.status.busy": "2021-11-03T02:37:52.707687Z",
     "iopub.status.idle": "2021-11-03T02:37:52.709722Z",
     "shell.execute_reply": "2021-11-03T02:37:52.710112Z"
    }
   },
   "outputs": [
    {
     "name": "stdout",
     "output_type": "stream",
     "text": [
      "2\n"
     ]
    }
   ],
   "source": [
    "print(numeros[2])  # Imprimo elemento en la posición 2"
   ]
  },
  {
   "cell_type": "code",
   "execution_count": 40,
   "id": "eb56f9f0",
   "metadata": {
    "execution": {
     "iopub.execute_input": "2021-11-03T02:37:52.714062Z",
     "iopub.status.busy": "2021-11-03T02:37:52.713553Z",
     "iopub.status.idle": "2021-11-03T02:37:52.715929Z",
     "shell.execute_reply": "2021-11-03T02:37:52.716321Z"
    }
   },
   "outputs": [
    {
     "data": {
      "text/plain": [
       "10"
      ]
     },
     "execution_count": 40,
     "metadata": {},
     "output_type": "execute_result"
    }
   ],
   "source": [
    "numeros[len(numeros) - 1]"
   ]
  },
  {
   "cell_type": "code",
   "execution_count": 41,
   "id": "235de658",
   "metadata": {
    "execution": {
     "iopub.execute_input": "2021-11-03T02:37:52.720825Z",
     "iopub.status.busy": "2021-11-03T02:37:52.719720Z",
     "iopub.status.idle": "2021-11-03T02:37:52.722720Z",
     "shell.execute_reply": "2021-11-03T02:37:52.722259Z"
    },
    "lines_to_next_cell": 2
   },
   "outputs": [
    {
     "name": "stdout",
     "output_type": "stream",
     "text": [
      "10\n"
     ]
    }
   ],
   "source": [
    "print(numeros[-1])  # # Imprimo elemento en la última posición"
   ]
  },
  {
   "cell_type": "code",
   "execution_count": 42,
   "id": "7de08e1f",
   "metadata": {
    "execution": {
     "iopub.execute_input": "2021-11-03T02:37:52.727615Z",
     "iopub.status.busy": "2021-11-03T02:37:52.726889Z",
     "iopub.status.idle": "2021-11-03T02:37:52.729764Z",
     "shell.execute_reply": "2021-11-03T02:37:52.730153Z"
    },
    "lines_to_next_cell": 2
   },
   "outputs": [
    {
     "data": {
      "text/plain": [
       "9"
      ]
     },
     "execution_count": 42,
     "metadata": {},
     "output_type": "execute_result"
    }
   ],
   "source": [
    "numeros[-2]"
   ]
  },
  {
   "cell_type": "code",
   "execution_count": 43,
   "id": "df20bffc",
   "metadata": {
    "execution": {
     "iopub.execute_input": "2021-11-03T02:37:52.733658Z",
     "iopub.status.busy": "2021-11-03T02:37:52.733177Z",
     "iopub.status.idle": "2021-11-03T02:37:52.735079Z",
     "shell.execute_reply": "2021-11-03T02:37:52.735470Z"
    }
   },
   "outputs": [
    {
     "name": "stdout",
     "output_type": "stream",
     "text": [
      "[0, 1, 2]\n"
     ]
    }
   ],
   "source": [
    "print(numeros[0:3])  # Imprimo de la pos 0 a la pos 2"
   ]
  },
  {
   "cell_type": "code",
   "execution_count": 44,
   "id": "4426f885",
   "metadata": {
    "execution": {
     "iopub.execute_input": "2021-11-03T02:37:52.739162Z",
     "iopub.status.busy": "2021-11-03T02:37:52.738675Z",
     "iopub.status.idle": "2021-11-03T02:37:52.740704Z",
     "shell.execute_reply": "2021-11-03T02:37:52.741097Z"
    }
   },
   "outputs": [
    {
     "name": "stdout",
     "output_type": "stream",
     "text": [
      "[7, 8]\n"
     ]
    }
   ],
   "source": [
    "print(numeros[-4:-2])"
   ]
  },
  {
   "cell_type": "code",
   "execution_count": 45,
   "id": "f6a96574",
   "metadata": {
    "execution": {
     "iopub.execute_input": "2021-11-03T02:37:52.744809Z",
     "iopub.status.busy": "2021-11-03T02:37:52.744326Z",
     "iopub.status.idle": "2021-11-03T02:37:52.746881Z",
     "shell.execute_reply": "2021-11-03T02:37:52.747273Z"
    }
   },
   "outputs": [
    {
     "name": "stdout",
     "output_type": "stream",
     "text": [
      "[0, 1, 2, 3, 4, 5, 6, 7, 8, 9, 10]\n"
     ]
    }
   ],
   "source": [
    "print(numeros[0:80])"
   ]
  },
  {
   "cell_type": "code",
   "execution_count": 46,
   "id": "907dab52",
   "metadata": {
    "execution": {
     "iopub.execute_input": "2021-11-03T02:37:52.750962Z",
     "iopub.status.busy": "2021-11-03T02:37:52.750471Z",
     "iopub.status.idle": "2021-11-03T02:37:52.752498Z",
     "shell.execute_reply": "2021-11-03T02:37:52.752889Z"
    }
   },
   "outputs": [
    {
     "name": "stdout",
     "output_type": "stream",
     "text": [
      "[0, 1, 2]\n"
     ]
    }
   ],
   "source": [
    "print(numeros[:3])"
   ]
  },
  {
   "cell_type": "code",
   "execution_count": 47,
   "id": "3c5587ab",
   "metadata": {
    "execution": {
     "iopub.execute_input": "2021-11-03T02:37:52.756547Z",
     "iopub.status.busy": "2021-11-03T02:37:52.756065Z",
     "iopub.status.idle": "2021-11-03T02:37:52.758090Z",
     "shell.execute_reply": "2021-11-03T02:37:52.758515Z"
    }
   },
   "outputs": [
    {
     "name": "stdout",
     "output_type": "stream",
     "text": [
      "[3, 4, 5, 6, 7, 8, 9, 10]\n"
     ]
    }
   ],
   "source": [
    "print(numeros[3:])"
   ]
  },
  {
   "cell_type": "code",
   "execution_count": 48,
   "id": "60e02e43",
   "metadata": {
    "execution": {
     "iopub.execute_input": "2021-11-03T02:37:52.762229Z",
     "iopub.status.busy": "2021-11-03T02:37:52.761748Z",
     "iopub.status.idle": "2021-11-03T02:37:52.763738Z",
     "shell.execute_reply": "2021-11-03T02:37:52.764128Z"
    }
   },
   "outputs": [
    {
     "name": "stdout",
     "output_type": "stream",
     "text": [
      "[0, 2, 4, 6, 8]\n"
     ]
    }
   ],
   "source": [
    "print(numeros[0:10:2])"
   ]
  },
  {
   "cell_type": "markdown",
   "id": "72806476",
   "metadata": {},
   "source": [
    "```python\n",
    "lista[<inicio>:<final>:<step>]\n",
    "```"
   ]
  },
  {
   "cell_type": "code",
   "execution_count": 49,
   "id": "e7a3a7aa",
   "metadata": {
    "execution": {
     "iopub.execute_input": "2021-11-03T02:37:52.768135Z",
     "iopub.status.busy": "2021-11-03T02:37:52.767650Z",
     "iopub.status.idle": "2021-11-03T02:37:52.769915Z",
     "shell.execute_reply": "2021-11-03T02:37:52.770329Z"
    },
    "lines_to_next_cell": 2
   },
   "outputs": [
    {
     "data": {
      "text/plain": [
       "[1, 2, 3, 4]"
      ]
     },
     "execution_count": 49,
     "metadata": {},
     "output_type": "execute_result"
    }
   ],
   "source": [
    "l1 = [1, 2]\n",
    "l2 = [3, 4]\n",
    "l1 + l2"
   ]
  },
  {
   "cell_type": "code",
   "execution_count": 50,
   "id": "128e9e7b",
   "metadata": {
    "execution": {
     "iopub.execute_input": "2021-11-03T02:37:52.773842Z",
     "iopub.status.busy": "2021-11-03T02:37:52.773357Z",
     "iopub.status.idle": "2021-11-03T02:37:52.775262Z",
     "shell.execute_reply": "2021-11-03T02:37:52.775646Z"
    }
   },
   "outputs": [
    {
     "name": "stdout",
     "output_type": "stream",
     "text": [
      "[0, 1, 2, 3, 4, 5, 6, 'siete', 8, 9, 10]\n"
     ]
    }
   ],
   "source": [
    "numeros[7] = 'siete'  # Las listas se pueden mutar\n",
    "print(numeros)"
   ]
  },
  {
   "cell_type": "code",
   "execution_count": 51,
   "id": "4e761619",
   "metadata": {
    "execution": {
     "iopub.execute_input": "2021-11-03T02:37:52.779356Z",
     "iopub.status.busy": "2021-11-03T02:37:52.778874Z",
     "iopub.status.idle": "2021-11-03T02:37:52.780911Z",
     "shell.execute_reply": "2021-11-03T02:37:52.781300Z"
    }
   },
   "outputs": [
    {
     "name": "stdout",
     "output_type": "stream",
     "text": [
      "[10, 9, 8, 'siete', 6, 5, 4, 3, 2, 1, 0]\n"
     ]
    }
   ],
   "source": [
    "numeros = numeros[::-1]\n",
    "print(numeros)"
   ]
  },
  {
   "cell_type": "code",
   "execution_count": 52,
   "id": "a91450dd",
   "metadata": {
    "execution": {
     "iopub.execute_input": "2021-11-03T02:37:52.784650Z",
     "iopub.status.busy": "2021-11-03T02:37:52.784167Z",
     "iopub.status.idle": "2021-11-03T02:37:52.790847Z",
     "shell.execute_reply": "2021-11-03T02:37:52.791266Z"
    },
    "tags": [
     "raises-exception"
    ]
   },
   "outputs": [
    {
     "ename": "IndexError",
     "evalue": "list index out of range",
     "output_type": "error",
     "traceback": [
      "\u001b[0;31m---------------------------------------------------------------------------\u001b[0m",
      "\u001b[0;31mIndexError\u001b[0m                                Traceback (most recent call last)",
      "\u001b[0;32m/tmp/ipykernel_2525/1255736182.py\u001b[0m in \u001b[0;36m<module>\u001b[0;34m\u001b[0m\n\u001b[0;32m----> 1\u001b[0;31m \u001b[0mprint\u001b[0m\u001b[0;34m(\u001b[0m\u001b[0mnumeros\u001b[0m\u001b[0;34m[\u001b[0m\u001b[0;36m15\u001b[0m\u001b[0;34m]\u001b[0m\u001b[0;34m)\u001b[0m  \u001b[0;31m# Falla. No se puede acceder a una posición inexistente\u001b[0m\u001b[0;34m\u001b[0m\u001b[0;34m\u001b[0m\u001b[0m\n\u001b[0m",
      "\u001b[0;31mIndexError\u001b[0m: list index out of range"
     ]
    }
   ],
   "source": [
    "print(numeros[15])  # Falla. No se puede acceder a una posición inexistente"
   ]
  },
  {
   "cell_type": "code",
   "execution_count": 53,
   "id": "615994ed",
   "metadata": {
    "execution": {
     "iopub.execute_input": "2021-11-03T02:37:52.794943Z",
     "iopub.status.busy": "2021-11-03T02:37:52.793048Z",
     "iopub.status.idle": "2021-11-03T02:37:52.798541Z",
     "shell.execute_reply": "2021-11-03T02:37:52.798094Z"
    }
   },
   "outputs": [
    {
     "name": "stdout",
     "output_type": "stream",
     "text": [
      "palabra\n",
      "a\n",
      "pal\n",
      "abra\n"
     ]
    }
   ],
   "source": [
    "palabra = 'palabra'\n",
    "print(palabra)\n",
    "print(palabra[3])\n",
    "print(palabra[:3])\n",
    "print(palabra[3:])"
   ]
  },
  {
   "cell_type": "code",
   "execution_count": 54,
   "id": "6d28c2ef",
   "metadata": {
    "execution": {
     "iopub.execute_input": "2021-11-03T02:37:52.802328Z",
     "iopub.status.busy": "2021-11-03T02:37:52.801813Z",
     "iopub.status.idle": "2021-11-03T02:37:52.803889Z",
     "shell.execute_reply": "2021-11-03T02:37:52.804281Z"
    }
   },
   "outputs": [
    {
     "name": "stdout",
     "output_type": "stream",
     "text": [
      "(0, 1, 2, 3, 4)\n",
      "(0, 1)\n",
      "(2, 3, 4)\n"
     ]
    }
   ],
   "source": [
    "tupla = (0, 1, 2, 3, 4)\n",
    "\n",
    "print(tupla)\n",
    "print(tupla[:2])\n",
    "print(tupla[2:])"
   ]
  },
  {
   "cell_type": "markdown",
   "id": "d69cd771",
   "metadata": {
    "slideshow": {
     "slide_type": "slide"
    }
   },
   "source": [
    "#### Diccionarios de Python\n",
    "\n",
    "Son como hashmaps, las claves deben ser inmutables para que no pierda sentido el diccionario. Si se pudieran modificar, se podrían cambiar las claves y generaría conflictos.\n",
    "\n",
    "Tipos mutables:\n",
    "- Listas\n",
    "- Diccionarios\n",
    "- Sets\n",
    "\n",
    "Tipos inmutables:\n",
    "- Int\n",
    "- Float\n",
    "- String\n",
    "- Tuplas\n"
   ]
  },
  {
   "cell_type": "code",
   "execution_count": 55,
   "id": "e8f41380",
   "metadata": {
    "execution": {
     "iopub.execute_input": "2021-11-03T02:37:52.808081Z",
     "iopub.status.busy": "2021-11-03T02:37:52.807569Z",
     "iopub.status.idle": "2021-11-03T02:37:52.809915Z",
     "shell.execute_reply": "2021-11-03T02:37:52.810334Z"
    },
    "slideshow": {
     "slide_type": "slide"
    }
   },
   "outputs": [
    {
     "data": {
      "text/plain": [
       "{}"
      ]
     },
     "execution_count": 55,
     "metadata": {},
     "output_type": "execute_result"
    }
   ],
   "source": [
    "diccionario = {}\n",
    "diccionario"
   ]
  },
  {
   "cell_type": "code",
   "execution_count": 56,
   "id": "cb157b0d",
   "metadata": {
    "execution": {
     "iopub.execute_input": "2021-11-03T02:37:52.814252Z",
     "iopub.status.busy": "2021-11-03T02:37:52.813759Z",
     "iopub.status.idle": "2021-11-03T02:37:52.816108Z",
     "shell.execute_reply": "2021-11-03T02:37:52.816499Z"
    }
   },
   "outputs": [
    {
     "data": {
      "text/plain": [
       "{}"
      ]
     },
     "execution_count": 56,
     "metadata": {},
     "output_type": "execute_result"
    }
   ],
   "source": [
    "diccionario = dict()\n",
    "diccionario"
   ]
  },
  {
   "cell_type": "code",
   "execution_count": 57,
   "id": "dd584643",
   "metadata": {
    "execution": {
     "iopub.execute_input": "2021-11-03T02:37:52.821336Z",
     "iopub.status.busy": "2021-11-03T02:37:52.820196Z",
     "iopub.status.idle": "2021-11-03T02:37:52.823216Z",
     "shell.execute_reply": "2021-11-03T02:37:52.822795Z"
    },
    "slideshow": {
     "slide_type": "slide"
    }
   },
   "outputs": [
    {
     "name": "stdout",
     "output_type": "stream",
     "text": [
      "{'clave1': 'valor1', 2: 'valor2', 'clave3': 3}\n"
     ]
    }
   ],
   "source": [
    "# Cómo agregar cosas al diccionario\n",
    "diccionario['clave1'] = 'valor1'\n",
    "diccionario[2] = 'valor2'\n",
    "diccionario['clave3'] = 3\n",
    "print(diccionario)"
   ]
  },
  {
   "cell_type": "markdown",
   "id": "0283a3a4",
   "metadata": {},
   "source": [
    "Hay dos formas de obtener valores de un diccionario:\n",
    "\n",
    "```python\n",
    "diccionario[clave]\n",
    "```\n",
    "\n",
    "El cual devuelve el valor si existe la clave suministrada o bien lanza `KeyError` si no existe."
   ]
  },
  {
   "cell_type": "code",
   "execution_count": 58,
   "id": "8d45054d",
   "metadata": {
    "execution": {
     "iopub.execute_input": "2021-11-03T02:37:52.826933Z",
     "iopub.status.busy": "2021-11-03T02:37:52.826447Z",
     "iopub.status.idle": "2021-11-03T02:37:52.828600Z",
     "shell.execute_reply": "2021-11-03T02:37:52.828986Z"
    }
   },
   "outputs": [
    {
     "data": {
      "text/plain": [
       "'valor1'"
      ]
     },
     "execution_count": 58,
     "metadata": {},
     "output_type": "execute_result"
    }
   ],
   "source": [
    "diccionario['clave1']"
   ]
  },
  {
   "cell_type": "code",
   "execution_count": 59,
   "id": "95efaac4",
   "metadata": {
    "execution": {
     "iopub.execute_input": "2021-11-03T02:37:52.834692Z",
     "iopub.status.busy": "2021-11-03T02:37:52.834171Z",
     "iopub.status.idle": "2021-11-03T02:37:52.837757Z",
     "shell.execute_reply": "2021-11-03T02:37:52.837334Z"
    },
    "tags": [
     "raises-exception"
    ]
   },
   "outputs": [
    {
     "ename": "KeyError",
     "evalue": "'clave1000'",
     "output_type": "error",
     "traceback": [
      "\u001b[0;31m---------------------------------------------------------------------------\u001b[0m",
      "\u001b[0;31mKeyError\u001b[0m                                  Traceback (most recent call last)",
      "\u001b[0;32m/tmp/ipykernel_2525/3541524662.py\u001b[0m in \u001b[0;36m<module>\u001b[0;34m\u001b[0m\n\u001b[0;32m----> 1\u001b[0;31m \u001b[0mdiccionario\u001b[0m\u001b[0;34m[\u001b[0m\u001b[0;34m'clave1000'\u001b[0m\u001b[0;34m]\u001b[0m\u001b[0;34m\u001b[0m\u001b[0;34m\u001b[0m\u001b[0m\n\u001b[0m",
      "\u001b[0;31mKeyError\u001b[0m: 'clave1000'"
     ]
    }
   ],
   "source": [
    "diccionario['clave1000']"
   ]
  },
  {
   "cell_type": "markdown",
   "id": "62eb0b3f",
   "metadata": {},
   "source": [
    "La segunda forma es con `get`:"
   ]
  },
  {
   "cell_type": "code",
   "execution_count": 60,
   "id": "1c0c0e06",
   "metadata": {
    "execution": {
     "iopub.execute_input": "2021-11-03T02:37:52.860429Z",
     "iopub.status.busy": "2021-11-03T02:37:52.842854Z",
     "iopub.status.idle": "2021-11-03T02:37:52.889412Z",
     "shell.execute_reply": "2021-11-03T02:37:52.888622Z"
    }
   },
   "outputs": [],
   "source": [
    "diccionario.get?"
   ]
  },
  {
   "cell_type": "code",
   "execution_count": 61,
   "id": "e2b36cd5",
   "metadata": {
    "execution": {
     "iopub.execute_input": "2021-11-03T02:37:52.893833Z",
     "iopub.status.busy": "2021-11-03T02:37:52.893346Z",
     "iopub.status.idle": "2021-11-03T02:37:52.897999Z",
     "shell.execute_reply": "2021-11-03T02:37:52.897579Z"
    }
   },
   "outputs": [
    {
     "name": "stdout",
     "output_type": "stream",
     "text": [
      "Help on built-in function get:\n",
      "\n",
      "get(key, default=None, /) method of builtins.dict instance\n",
      "    Return the value for key if key is in the dictionary, else default.\n",
      "\n"
     ]
    }
   ],
   "source": [
    "help(diccionario.get)"
   ]
  },
  {
   "cell_type": "code",
   "execution_count": 62,
   "id": "7432797d",
   "metadata": {
    "execution": {
     "iopub.execute_input": "2021-11-03T02:37:52.901797Z",
     "iopub.status.busy": "2021-11-03T02:37:52.901316Z",
     "iopub.status.idle": "2021-11-03T02:37:52.904985Z",
     "shell.execute_reply": "2021-11-03T02:37:52.904591Z"
    },
    "slideshow": {
     "slide_type": "slide"
    }
   },
   "outputs": [
    {
     "name": "stdout",
     "output_type": "stream",
     "text": [
      "None\n"
     ]
    }
   ],
   "source": [
    "print(diccionario.get('clave1000'))"
   ]
  },
  {
   "cell_type": "code",
   "execution_count": 63,
   "id": "152785a2",
   "metadata": {
    "execution": {
     "iopub.execute_input": "2021-11-03T02:37:52.908654Z",
     "iopub.status.busy": "2021-11-03T02:37:52.908173Z",
     "iopub.status.idle": "2021-11-03T02:37:52.911228Z",
     "shell.execute_reply": "2021-11-03T02:37:52.911620Z"
    },
    "slideshow": {
     "slide_type": "slide"
    }
   },
   "outputs": [
    {
     "name": "stdout",
     "output_type": "stream",
     "text": [
      "True\n"
     ]
    }
   ],
   "source": [
    "print('clave1' in diccionario)  # Verifico si la clave está en el diccionario"
   ]
  },
  {
   "cell_type": "code",
   "execution_count": 64,
   "id": "cc4ff870",
   "metadata": {
    "execution": {
     "iopub.execute_input": "2021-11-03T02:37:52.916587Z",
     "iopub.status.busy": "2021-11-03T02:37:52.915863Z",
     "iopub.status.idle": "2021-11-03T02:37:52.918736Z",
     "shell.execute_reply": "2021-11-03T02:37:52.919148Z"
    }
   },
   "outputs": [
    {
     "data": {
      "text/plain": [
       "True"
      ]
     },
     "execution_count": 64,
     "metadata": {},
     "output_type": "execute_result"
    }
   ],
   "source": [
    "l = [1, 2, 3, 4]\n",
    "2 in l"
   ]
  },
  {
   "cell_type": "code",
   "execution_count": 65,
   "id": "b800ee4b",
   "metadata": {
    "execution": {
     "iopub.execute_input": "2021-11-03T02:37:52.922914Z",
     "iopub.status.busy": "2021-11-03T02:37:52.922197Z",
     "iopub.status.idle": "2021-11-03T02:37:52.926573Z",
     "shell.execute_reply": "2021-11-03T02:37:52.926151Z"
    }
   },
   "outputs": [
    {
     "name": "stdout",
     "output_type": "stream",
     "text": [
      "la clave es clave1 y el valor es valor1\n",
      "la clave es 2 y el valor es valor2\n",
      "la clave es clave3 y el valor es 3\n"
     ]
    }
   ],
   "source": [
    "for clave, valor in diccionario.items():\n",
    "    print(\"la clave es %s y el valor es %s\" % (clave, valor))"
   ]
  },
  {
   "cell_type": "code",
   "execution_count": 66,
   "id": "6ef24ee7",
   "metadata": {
    "execution": {
     "iopub.execute_input": "2021-11-03T02:37:52.930544Z",
     "iopub.status.busy": "2021-11-03T02:37:52.930029Z",
     "iopub.status.idle": "2021-11-03T02:37:52.932207Z",
     "shell.execute_reply": "2021-11-03T02:37:52.932576Z"
    }
   },
   "outputs": [
    {
     "name": "stdout",
     "output_type": "stream",
     "text": [
      "la clave es clave1 y el valor es valor1\n",
      "la clave es 2 y el valor es valor2\n",
      "la clave es clave3 y el valor es 3\n"
     ]
    }
   ],
   "source": [
    "for clave, valor in diccionario.items():\n",
    "    print(\"la clave es {} y el valor es {}\".format(clave, valor))"
   ]
  },
  {
   "cell_type": "code",
   "execution_count": 67,
   "id": "0ec83fcf",
   "metadata": {
    "execution": {
     "iopub.execute_input": "2021-11-03T02:37:52.936775Z",
     "iopub.status.busy": "2021-11-03T02:37:52.936285Z",
     "iopub.status.idle": "2021-11-03T02:37:52.940209Z",
     "shell.execute_reply": "2021-11-03T02:37:52.939791Z"
    },
    "slideshow": {
     "slide_type": "slide"
    }
   },
   "outputs": [
    {
     "name": "stdout",
     "output_type": "stream",
     "text": [
      "la clave es clave1 y el valor es valor1\n",
      "la clave es 2 y el valor es valor2\n",
      "la clave es clave3 y el valor es 3\n"
     ]
    }
   ],
   "source": [
    "# Cómo iterar un diccionario elemento por elemento\n",
    "for (\n",
    "    clave,\n",
    "    valor,\n",
    ") in (\n",
    "    diccionario.items()\n",
    "):  # diccionario.items() va devolviendo tuplas con el formato (clave,valor)\n",
    "    print(\n",
    "        f\"la clave es {clave} y el valor es {valor}\"\n",
    "    )  # con esta sintaxis se desempaquetan en clave y valor (similar a enumerate)"
   ]
  },
  {
   "cell_type": "code",
   "execution_count": 68,
   "id": "68c326b5",
   "metadata": {
    "execution": {
     "iopub.execute_input": "2021-11-03T02:37:52.943936Z",
     "iopub.status.busy": "2021-11-03T02:37:52.943438Z",
     "iopub.status.idle": "2021-11-03T02:37:52.947887Z",
     "shell.execute_reply": "2021-11-03T02:37:52.948258Z"
    },
    "slideshow": {
     "slide_type": "slide"
    }
   },
   "outputs": [
    {
     "name": "stdout",
     "output_type": "stream",
     "text": [
      "clave1\n",
      "2\n",
      "clave3\n"
     ]
    }
   ],
   "source": [
    "for clave in diccionario.keys():\n",
    "    print(clave)"
   ]
  },
  {
   "cell_type": "code",
   "execution_count": 69,
   "id": "a5314ae6",
   "metadata": {
    "execution": {
     "iopub.execute_input": "2021-11-03T02:37:52.951511Z",
     "iopub.status.busy": "2021-11-03T02:37:52.951031Z",
     "iopub.status.idle": "2021-11-03T02:37:52.956848Z",
     "shell.execute_reply": "2021-11-03T02:37:52.957220Z"
    },
    "slideshow": {
     "slide_type": "slide"
    }
   },
   "outputs": [
    {
     "name": "stdout",
     "output_type": "stream",
     "text": [
      "valor1\n"
     ]
    },
    {
     "name": "stdout",
     "output_type": "stream",
     "text": [
      "valor2\n",
      "3\n"
     ]
    }
   ],
   "source": [
    "for valor in diccionario.values():\n",
    "    print(valor)"
   ]
  },
  {
   "cell_type": "markdown",
   "id": "6b0ae7b5",
   "metadata": {},
   "source": [
    "#### Sets\n",
    "\n",
    "Son similares a los diccionarios (en eficiencia) pero se almacenan solo claves, y tienen algunas operaciones particulares.\n",
    "\n",
    "En particular, no pueden tener elementos iguales (pensar que son conjuntos)"
   ]
  },
  {
   "cell_type": "code",
   "execution_count": 70,
   "id": "d6a2a749",
   "metadata": {
    "execution": {
     "iopub.execute_input": "2021-11-03T02:37:52.960995Z",
     "iopub.status.busy": "2021-11-03T02:37:52.960516Z",
     "iopub.status.idle": "2021-11-03T02:37:52.964543Z",
     "shell.execute_reply": "2021-11-03T02:37:52.964149Z"
    }
   },
   "outputs": [],
   "source": [
    "set??"
   ]
  },
  {
   "cell_type": "code",
   "execution_count": 71,
   "id": "64a5c042",
   "metadata": {
    "execution": {
     "iopub.execute_input": "2021-11-03T02:37:52.969476Z",
     "iopub.status.busy": "2021-11-03T02:37:52.968745Z",
     "iopub.status.idle": "2021-11-03T02:37:52.971619Z",
     "shell.execute_reply": "2021-11-03T02:37:52.972007Z"
    }
   },
   "outputs": [
    {
     "data": {
      "text/plain": [
       "{1, 2, 3}"
      ]
     },
     "execution_count": 71,
     "metadata": {},
     "output_type": "execute_result"
    }
   ],
   "source": [
    "# Se definen como los diccionarios pero sin hacerlos 'clave:valor', solamente una seguidilla de elementos\n",
    "{1, 2, 2, 3}"
   ]
  },
  {
   "cell_type": "code",
   "execution_count": 72,
   "id": "7c088b23",
   "metadata": {
    "execution": {
     "iopub.execute_input": "2021-11-03T02:37:52.976339Z",
     "iopub.status.busy": "2021-11-03T02:37:52.974858Z",
     "iopub.status.idle": "2021-11-03T02:37:52.978749Z",
     "shell.execute_reply": "2021-11-03T02:37:52.979151Z"
    }
   },
   "outputs": [
    {
     "data": {
      "text/plain": [
       "{1, 2, 3}"
      ]
     },
     "execution_count": 72,
     "metadata": {},
     "output_type": "execute_result"
    }
   ],
   "source": [
    "set([1, 2, 2, 3])"
   ]
  },
  {
   "cell_type": "markdown",
   "id": "f9c76f0b",
   "metadata": {},
   "source": [
    "## Condicionales (if...elif...else)\n",
    "\n",
    "```python\n",
    "if <condición_1>:\n",
    "    <hacer algo_1 si se da la condición_1>\n",
    "elif <condición_2>:\n",
    "    <hacer algo_2 si se da la condición_2>\n",
    "...\n",
    "elif <condición_n>:\n",
    "    <hacer algo_n si se da la condición_n>\n",
    "else:\n",
    "    <hacer otra cosa si no dan las anteriores>\n",
    "```\n",
    "\n",
    "Algo importante para notar es que los bloques se definen por **niveles de identacion**."
   ]
  },
  {
   "cell_type": "code",
   "execution_count": 73,
   "id": "02b689f1",
   "metadata": {
    "execution": {
     "iopub.execute_input": "2021-11-03T02:37:52.983155Z",
     "iopub.status.busy": "2021-11-03T02:37:52.982667Z",
     "iopub.status.idle": "2021-11-03T02:37:52.984537Z",
     "shell.execute_reply": "2021-11-03T02:37:52.984920Z"
    }
   },
   "outputs": [
    {
     "name": "stdout",
     "output_type": "stream",
     "text": [
      "uno\n"
     ]
    }
   ],
   "source": [
    "v = 1\n",
    "if v == 1:\n",
    "    print(\"uno\")\n",
    "elif v == 2:\n",
    "    print(\"dos\")\n",
    "else:\n",
    "    print(\"ni idea\")\n",
    "    print(v)"
   ]
  },
  {
   "cell_type": "markdown",
   "id": "e3c903c7",
   "metadata": {},
   "source": [
    "## Iteraciones\n",
    "\n",
    "```python\n",
    "while cond:\n",
    "    <codigo>\n",
    "```\n",
    "\n",
    "```python\n",
    "for elemento in iterable:\n",
    "    <codigo>\n",
    "```\n",
    "\n",
    "Para iterar sobre un rango de valores, usamos `range`"
   ]
  },
  {
   "cell_type": "code",
   "execution_count": 74,
   "id": "1495d079",
   "metadata": {
    "execution": {
     "iopub.execute_input": "2021-11-03T02:37:52.988364Z",
     "iopub.status.busy": "2021-11-03T02:37:52.987886Z",
     "iopub.status.idle": "2021-11-03T02:37:52.991664Z",
     "shell.execute_reply": "2021-11-03T02:37:52.991246Z"
    }
   },
   "outputs": [
    {
     "name": "stdout",
     "output_type": "stream",
     "text": [
      "1\n",
      "4\n",
      "7\n",
      "10\n"
     ]
    }
   ],
   "source": [
    "for i in range(1, 11, 3):\n",
    "    print(i)"
   ]
  },
  {
   "cell_type": "markdown",
   "id": "83eea6a6",
   "metadata": {},
   "source": [
    "## Operadores logicos\n",
    "\n",
    "`not`, `or`, `and`"
   ]
  },
  {
   "cell_type": "code",
   "execution_count": 75,
   "id": "3a46996c",
   "metadata": {
    "execution": {
     "iopub.execute_input": "2021-11-03T02:37:52.996221Z",
     "iopub.status.busy": "2021-11-03T02:37:52.995086Z",
     "iopub.status.idle": "2021-11-03T02:37:52.998065Z",
     "shell.execute_reply": "2021-11-03T02:37:52.997647Z"
    }
   },
   "outputs": [
    {
     "name": "stdout",
     "output_type": "stream",
     "text": [
      "yay\n"
     ]
    }
   ],
   "source": [
    "if True or False:\n",
    "    print(\"yay\")"
   ]
  },
  {
   "cell_type": "code",
   "execution_count": 76,
   "id": "b82574b8",
   "metadata": {
    "execution": {
     "iopub.execute_input": "2021-11-03T02:37:53.002484Z",
     "iopub.status.busy": "2021-11-03T02:37:53.001935Z",
     "iopub.status.idle": "2021-11-03T02:37:53.004805Z",
     "shell.execute_reply": "2021-11-03T02:37:53.005195Z"
    }
   },
   "outputs": [
    {
     "data": {
      "text/plain": [
       "False"
      ]
     },
     "execution_count": 76,
     "metadata": {},
     "output_type": "execute_result"
    }
   ],
   "source": [
    "1 == 2"
   ]
  },
  {
   "cell_type": "code",
   "execution_count": 77,
   "id": "3e0559cb",
   "metadata": {
    "execution": {
     "iopub.execute_input": "2021-11-03T02:37:53.008867Z",
     "iopub.status.busy": "2021-11-03T02:37:53.008368Z",
     "iopub.status.idle": "2021-11-03T02:37:53.010722Z",
     "shell.execute_reply": "2021-11-03T02:37:53.011113Z"
    }
   },
   "outputs": [
    {
     "data": {
      "text/plain": [
       "True"
      ]
     },
     "execution_count": 77,
     "metadata": {},
     "output_type": "execute_result"
    }
   ],
   "source": [
    "1 != 2"
   ]
  },
  {
   "cell_type": "markdown",
   "id": "392883cd",
   "metadata": {
    "slideshow": {
     "slide_type": "slide"
    }
   },
   "source": [
    "## Funciones en Python"
   ]
  },
  {
   "cell_type": "code",
   "execution_count": 78,
   "id": "b5e53269",
   "metadata": {
    "execution": {
     "iopub.execute_input": "2021-11-03T02:37:53.017515Z",
     "iopub.status.busy": "2021-11-03T02:37:53.017021Z",
     "iopub.status.idle": "2021-11-03T02:37:53.021374Z",
     "shell.execute_reply": "2021-11-03T02:37:53.020952Z"
    },
    "slideshow": {
     "slide_type": "slide"
    }
   },
   "outputs": [
    {
     "name": "stdout",
     "output_type": "stream",
     "text": [
      "True\n",
      "False\n"
     ]
    }
   ],
   "source": [
    "def busqueda_binaria(lista, elemento):\n",
    "    if not lista:\n",
    "        return False\n",
    "    elif len(lista) == 1:\n",
    "        return lista[0] == elemento\n",
    "    mitad = len(lista) // 2  # // es la operación división entera\n",
    "    if lista[mitad] == elemento:\n",
    "        return True\n",
    "    if lista[mitad] > elemento:\n",
    "        return busqueda_binaria(lista[:mitad], elemento)\n",
    "    if lista[mitad] < elemento:\n",
    "        return busqueda_binaria(lista[mitad:], elemento)\n",
    "\n",
    "\n",
    "print(busqueda_binaria([1, 2, 3, 4, 5], 4))\n",
    "print(busqueda_binaria([1, 4, 6, 7, 9, 10], 2))"
   ]
  },
  {
   "cell_type": "code",
   "execution_count": 79,
   "id": "d6906cc3",
   "metadata": {
    "execution": {
     "iopub.execute_input": "2021-11-03T02:37:53.025343Z",
     "iopub.status.busy": "2021-11-03T02:37:53.024857Z",
     "iopub.status.idle": "2021-11-03T02:37:53.026761Z",
     "shell.execute_reply": "2021-11-03T02:37:53.027151Z"
    }
   },
   "outputs": [
    {
     "name": "stdout",
     "output_type": "stream",
     "text": [
      "(3, 3, 3)\n"
     ]
    }
   ],
   "source": [
    "def a(b):\n",
    "    if a == 1:\n",
    "        print(a)\n",
    "    return (b, b, b)\n",
    "\n",
    "\n",
    "print(a(3))"
   ]
  },
  {
   "cell_type": "code",
   "execution_count": 80,
   "id": "5abd9610",
   "metadata": {
    "execution": {
     "iopub.execute_input": "2021-11-03T02:37:53.031717Z",
     "iopub.status.busy": "2021-11-03T02:37:53.031235Z",
     "iopub.status.idle": "2021-11-03T02:37:53.041549Z",
     "shell.execute_reply": "2021-11-03T02:37:53.041120Z"
    },
    "lines_to_next_cell": 2,
    "slideshow": {
     "slide_type": "slide"
    },
    "tags": [
     "raises-exception"
    ]
   },
   "outputs": [
    {
     "name": "stdout",
     "output_type": "stream",
     "text": [
      "3\n",
      "3.0\n",
      "3.0\n",
      "hola como te va\n",
      "[1, 2, 3, 4, 5]\n"
     ]
    },
    {
     "ename": "TypeError",
     "evalue": "can only concatenate str (not \"int\") to str",
     "output_type": "error",
     "traceback": [
      "\u001b[0;31m---------------------------------------------------------------------------\u001b[0m",
      "\u001b[0;31mTypeError\u001b[0m                                 Traceback (most recent call last)",
      "\u001b[0;32m/tmp/ipykernel_2525/1000948441.py\u001b[0m in \u001b[0;36m<module>\u001b[0;34m\u001b[0m\n\u001b[1;32m      8\u001b[0m \u001b[0mprint\u001b[0m\u001b[0;34m(\u001b[0m\u001b[0msuma\u001b[0m\u001b[0;34m(\u001b[0m\u001b[0;34m\"hola \"\u001b[0m\u001b[0;34m,\u001b[0m \u001b[0;34m\"como te va\"\u001b[0m\u001b[0;34m)\u001b[0m\u001b[0;34m)\u001b[0m\u001b[0;34m\u001b[0m\u001b[0;34m\u001b[0m\u001b[0m\n\u001b[1;32m      9\u001b[0m \u001b[0mprint\u001b[0m\u001b[0;34m(\u001b[0m\u001b[0msuma\u001b[0m\u001b[0;34m(\u001b[0m\u001b[0;34m[\u001b[0m\u001b[0;36m1\u001b[0m\u001b[0;34m,\u001b[0m \u001b[0;36m2\u001b[0m\u001b[0;34m,\u001b[0m \u001b[0;36m3\u001b[0m\u001b[0;34m]\u001b[0m\u001b[0;34m,\u001b[0m \u001b[0;34m[\u001b[0m\u001b[0;36m4\u001b[0m\u001b[0;34m,\u001b[0m \u001b[0;36m5\u001b[0m\u001b[0;34m]\u001b[0m\u001b[0;34m)\u001b[0m\u001b[0;34m)\u001b[0m\u001b[0;34m\u001b[0m\u001b[0;34m\u001b[0m\u001b[0m\n\u001b[0;32m---> 10\u001b[0;31m \u001b[0mprint\u001b[0m\u001b[0;34m(\u001b[0m\u001b[0msuma\u001b[0m\u001b[0;34m(\u001b[0m\u001b[0;34m\"1\"\u001b[0m\u001b[0;34m,\u001b[0m \u001b[0;36m3\u001b[0m\u001b[0;34m)\u001b[0m\u001b[0;34m)\u001b[0m  \u001b[0;31m# Falla\u001b[0m\u001b[0;34m\u001b[0m\u001b[0;34m\u001b[0m\u001b[0m\n\u001b[0m",
      "\u001b[0;32m/tmp/ipykernel_2525/1000948441.py\u001b[0m in \u001b[0;36msuma\u001b[0;34m(a, b)\u001b[0m\n\u001b[1;32m      1\u001b[0m \u001b[0;32mdef\u001b[0m \u001b[0msuma\u001b[0m\u001b[0;34m(\u001b[0m\u001b[0ma\u001b[0m\u001b[0;34m,\u001b[0m \u001b[0mb\u001b[0m\u001b[0;34m)\u001b[0m\u001b[0;34m:\u001b[0m\u001b[0;34m\u001b[0m\u001b[0;34m\u001b[0m\u001b[0m\n\u001b[0;32m----> 2\u001b[0;31m     \u001b[0;32mreturn\u001b[0m \u001b[0ma\u001b[0m \u001b[0;34m+\u001b[0m \u001b[0mb\u001b[0m\u001b[0;34m\u001b[0m\u001b[0;34m\u001b[0m\u001b[0m\n\u001b[0m\u001b[1;32m      3\u001b[0m \u001b[0;34m\u001b[0m\u001b[0m\n\u001b[1;32m      4\u001b[0m \u001b[0;34m\u001b[0m\u001b[0m\n\u001b[1;32m      5\u001b[0m \u001b[0mprint\u001b[0m\u001b[0;34m(\u001b[0m\u001b[0msuma\u001b[0m\u001b[0;34m(\u001b[0m\u001b[0;36m1\u001b[0m\u001b[0;34m,\u001b[0m \u001b[0;36m2\u001b[0m\u001b[0;34m)\u001b[0m\u001b[0;34m)\u001b[0m\u001b[0;34m\u001b[0m\u001b[0;34m\u001b[0m\u001b[0m\n",
      "\u001b[0;31mTypeError\u001b[0m: can only concatenate str (not \"int\") to str"
     ]
    }
   ],
   "source": [
    "def suma(a, b):\n",
    "    return a + b\n",
    "\n",
    "\n",
    "print(suma(1, 2))\n",
    "print(suma(1.0, 2.0))\n",
    "print(suma(1.0, 2))\n",
    "print(suma(\"hola \", \"como te va\"))\n",
    "print(suma([1, 2, 3], [4, 5]))\n",
    "print(suma(\"1\", 3))  # Falla"
   ]
  },
  {
   "cell_type": "code",
   "execution_count": 81,
   "id": "2d6084f3",
   "metadata": {
    "execution": {
     "iopub.execute_input": "2021-11-03T02:37:53.045308Z",
     "iopub.status.busy": "2021-11-03T02:37:53.044825Z",
     "iopub.status.idle": "2021-11-03T02:37:53.049053Z",
     "shell.execute_reply": "2021-11-03T02:37:53.048639Z"
    }
   },
   "outputs": [
    {
     "name": "stdout",
     "output_type": "stream",
     "text": [
      "2.0\n"
     ]
    }
   ],
   "source": [
    "# El valor por default de divisor es 1\n",
    "\n",
    "\n",
    "def division(dividendo, divisor=2):\n",
    "    return dividendo / divisor\n",
    "\n",
    "\n",
    "print(division(4))  # Usa el valor por default"
   ]
  },
  {
   "cell_type": "code",
   "execution_count": 82,
   "id": "e88d47b0",
   "metadata": {
    "execution": {
     "iopub.execute_input": "2021-11-03T02:37:53.055235Z",
     "iopub.status.busy": "2021-11-03T02:37:53.054753Z",
     "iopub.status.idle": "2021-11-03T02:37:53.060388Z",
     "shell.execute_reply": "2021-11-03T02:37:53.059964Z"
    },
    "tags": [
     "raises-exception"
    ]
   },
   "outputs": [
    {
     "name": "stdout",
     "output_type": "stream",
     "text": [
      "0.5\n",
      "0.5\n"
     ]
    },
    {
     "ename": "TypeError",
     "evalue": "division() missing 1 required positional argument: 'dividendo'",
     "output_type": "error",
     "traceback": [
      "\u001b[0;31m---------------------------------------------------------------------------\u001b[0m",
      "\u001b[0;31mTypeError\u001b[0m                                 Traceback (most recent call last)",
      "\u001b[0;32m/tmp/ipykernel_2525/1004518412.py\u001b[0m in \u001b[0;36m<module>\u001b[0;34m\u001b[0m\n\u001b[1;32m      1\u001b[0m \u001b[0mprint\u001b[0m\u001b[0;34m(\u001b[0m\u001b[0mdivision\u001b[0m\u001b[0;34m(\u001b[0m\u001b[0;36m1\u001b[0m\u001b[0;34m,\u001b[0m \u001b[0;36m2\u001b[0m\u001b[0;34m)\u001b[0m\u001b[0;34m)\u001b[0m  \u001b[0;31m# Parámetros por orden\u001b[0m\u001b[0;34m\u001b[0m\u001b[0;34m\u001b[0m\u001b[0m\n\u001b[1;32m      2\u001b[0m \u001b[0mprint\u001b[0m\u001b[0;34m(\u001b[0m\u001b[0mdivision\u001b[0m\u001b[0;34m(\u001b[0m\u001b[0mdividendo\u001b[0m\u001b[0;34m=\u001b[0m\u001b[0;36m1\u001b[0m\u001b[0;34m,\u001b[0m \u001b[0mdivisor\u001b[0m\u001b[0;34m=\u001b[0m\u001b[0;36m2\u001b[0m\u001b[0;34m)\u001b[0m\u001b[0;34m)\u001b[0m  \u001b[0;31m# Parámetros por nombre\u001b[0m\u001b[0;34m\u001b[0m\u001b[0;34m\u001b[0m\u001b[0m\n\u001b[0;32m----> 3\u001b[0;31m \u001b[0mprint\u001b[0m\u001b[0;34m(\u001b[0m\u001b[0mdivision\u001b[0m\u001b[0;34m(\u001b[0m\u001b[0mdivisor\u001b[0m\u001b[0;34m=\u001b[0m\u001b[0;36m2\u001b[0m\u001b[0;34m)\u001b[0m\u001b[0;34m)\u001b[0m\u001b[0;34m\u001b[0m\u001b[0;34m\u001b[0m\u001b[0m\n\u001b[0m",
      "\u001b[0;31mTypeError\u001b[0m: division() missing 1 required positional argument: 'dividendo'"
     ]
    }
   ],
   "source": [
    "print(division(1, 2))  # Parámetros por orden\n",
    "print(division(dividendo=1, divisor=2))  # Parámetros por nombre\n",
    "print(division(divisor=2))"
   ]
  },
  {
   "cell_type": "code",
   "execution_count": 83,
   "id": "63d1a9c7",
   "metadata": {
    "execution": {
     "iopub.execute_input": "2021-11-03T02:37:53.063905Z",
     "iopub.status.busy": "2021-11-03T02:37:53.062860Z",
     "iopub.status.idle": "2021-11-03T02:37:53.067052Z",
     "shell.execute_reply": "2021-11-03T02:37:53.066632Z"
    }
   },
   "outputs": [
    {
     "name": "stdout",
     "output_type": "stream",
     "text": [
      "0.5\n"
     ]
    }
   ],
   "source": [
    "print(division(divisor=2, dividendo=1))"
   ]
  },
  {
   "cell_type": "code",
   "execution_count": 84,
   "id": "e6c23316",
   "metadata": {
    "execution": {
     "iopub.execute_input": "2021-11-03T02:37:53.072915Z",
     "iopub.status.busy": "2021-11-03T02:37:53.071779Z",
     "iopub.status.idle": "2021-11-03T02:37:53.074780Z",
     "shell.execute_reply": "2021-11-03T02:37:53.074355Z"
    }
   },
   "outputs": [
    {
     "name": "stdout",
     "output_type": "stream",
     "text": [
      "['a', 'b', 'c']\n",
      "[1, 2, 3]\n",
      "['hola', ' don', ' pepito']\n",
      "hola -  don -  pepito\n"
     ]
    }
   ],
   "source": [
    "# Funciones básicas ya en el lenguaje\n",
    "# Hechas para funcionar para distintos tipos\n",
    "\n",
    "string_ordenado = sorted('bca')\n",
    "print(string_ordenado)\n",
    "\n",
    "lista_ordenada = sorted([1, 3, 2])\n",
    "print(lista_ordenada)\n",
    "\n",
    "separadas = \"hola, don, pepito\".split(\",\")\n",
    "print(separadas)\n",
    "unidas = \" - \".join(separadas)\n",
    "print(unidas)"
   ]
  },
  {
   "cell_type": "markdown",
   "id": "4edc2989",
   "metadata": {},
   "source": [
    "## Módulos\n",
    "\n",
    "Para incluir alguna biblioteca de funciones se usa `import`. Pueden ser cosas ya predefinidas en Python (`math`, `random`, etc), nombres de archivos en nuestro directorio (por ejemplo, para `mimodulo.py` ponemos `import mimodulo`) o bibliotecas instaladas por el usuario"
   ]
  },
  {
   "cell_type": "code",
   "execution_count": 85,
   "id": "faabbec8",
   "metadata": {
    "execution": {
     "iopub.execute_input": "2021-11-03T02:37:53.079339Z",
     "iopub.status.busy": "2021-11-03T02:37:53.078201Z",
     "iopub.status.idle": "2021-11-03T02:37:53.081170Z",
     "shell.execute_reply": "2021-11-03T02:37:53.080751Z"
    }
   },
   "outputs": [
    {
     "name": "stdout",
     "output_type": "stream",
     "text": [
      "3.141592653589793\n"
     ]
    }
   ],
   "source": [
    "import math\n",
    "\n",
    "print(math.pi)"
   ]
  },
  {
   "cell_type": "code",
   "execution_count": 86,
   "id": "05a2b577",
   "metadata": {
    "execution": {
     "iopub.execute_input": "2021-11-03T02:37:53.085567Z",
     "iopub.status.busy": "2021-11-03T02:37:53.084652Z",
     "iopub.status.idle": "2021-11-03T02:37:53.087728Z",
     "shell.execute_reply": "2021-11-03T02:37:53.087325Z"
    }
   },
   "outputs": [
    {
     "name": "stdout",
     "output_type": "stream",
     "text": [
      "3.141592653589793 2.718281828459045\n"
     ]
    }
   ],
   "source": [
    "from math import pi, e\n",
    "\n",
    "print(pi, e)"
   ]
  },
  {
   "cell_type": "code",
   "execution_count": 87,
   "id": "95712e35",
   "metadata": {
    "execution": {
     "iopub.execute_input": "2021-11-03T02:37:53.092600Z",
     "iopub.status.busy": "2021-11-03T02:37:53.091698Z",
     "iopub.status.idle": "2021-11-03T02:37:53.094626Z",
     "shell.execute_reply": "2021-11-03T02:37:53.095022Z"
    }
   },
   "outputs": [
    {
     "data": {
      "text/plain": [
       "2"
      ]
     },
     "execution_count": 87,
     "metadata": {},
     "output_type": "execute_result"
    }
   ],
   "source": [
    "math.gcd(56, 78)"
   ]
  },
  {
   "cell_type": "markdown",
   "id": "fd8829b4",
   "metadata": {},
   "source": [
    "## Manejo de excepciones\n",
    "\n",
    "Se pueden encapsular errores esperados en un bloque 'try/except' para evitar cortar el flujo del programa"
   ]
  },
  {
   "cell_type": "code",
   "execution_count": 88,
   "id": "baa3ad17",
   "metadata": {
    "execution": {
     "iopub.execute_input": "2021-11-03T02:37:53.102501Z",
     "iopub.status.busy": "2021-11-03T02:37:53.101993Z",
     "iopub.status.idle": "2021-11-03T02:37:53.105117Z",
     "shell.execute_reply": "2021-11-03T02:37:53.104681Z"
    },
    "tags": [
     "raises-exception"
    ]
   },
   "outputs": [
    {
     "ename": "ZeroDivisionError",
     "evalue": "division by zero",
     "output_type": "error",
     "traceback": [
      "\u001b[0;31m---------------------------------------------------------------------------\u001b[0m",
      "\u001b[0;31mZeroDivisionError\u001b[0m                         Traceback (most recent call last)",
      "\u001b[0;32m/tmp/ipykernel_2525/1165346582.py\u001b[0m in \u001b[0;36m<module>\u001b[0;34m\u001b[0m\n\u001b[0;32m----> 1\u001b[0;31m \u001b[0mdivision\u001b[0m\u001b[0;34m(\u001b[0m\u001b[0;36m1\u001b[0m\u001b[0;34m,\u001b[0m \u001b[0;36m0\u001b[0m\u001b[0;34m)\u001b[0m  \u001b[0;31m# No se puede dividir por cero\u001b[0m\u001b[0;34m\u001b[0m\u001b[0;34m\u001b[0m\u001b[0m\n\u001b[0m",
      "\u001b[0;32m/tmp/ipykernel_2525/2607187721.py\u001b[0m in \u001b[0;36mdivision\u001b[0;34m(dividendo, divisor)\u001b[0m\n\u001b[1;32m      3\u001b[0m \u001b[0;34m\u001b[0m\u001b[0m\n\u001b[1;32m      4\u001b[0m \u001b[0;32mdef\u001b[0m \u001b[0mdivision\u001b[0m\u001b[0;34m(\u001b[0m\u001b[0mdividendo\u001b[0m\u001b[0;34m,\u001b[0m \u001b[0mdivisor\u001b[0m\u001b[0;34m=\u001b[0m\u001b[0;36m2\u001b[0m\u001b[0;34m)\u001b[0m\u001b[0;34m:\u001b[0m\u001b[0;34m\u001b[0m\u001b[0;34m\u001b[0m\u001b[0m\n\u001b[0;32m----> 5\u001b[0;31m     \u001b[0;32mreturn\u001b[0m \u001b[0mdividendo\u001b[0m \u001b[0;34m/\u001b[0m \u001b[0mdivisor\u001b[0m\u001b[0;34m\u001b[0m\u001b[0;34m\u001b[0m\u001b[0m\n\u001b[0m\u001b[1;32m      6\u001b[0m \u001b[0;34m\u001b[0m\u001b[0m\n\u001b[1;32m      7\u001b[0m \u001b[0;34m\u001b[0m\u001b[0m\n",
      "\u001b[0;31mZeroDivisionError\u001b[0m: division by zero"
     ]
    }
   ],
   "source": [
    "division(1, 0)  # No se puede dividir por cero"
   ]
  },
  {
   "cell_type": "code",
   "execution_count": 89,
   "id": "820f1e50",
   "metadata": {
    "execution": {
     "iopub.execute_input": "2021-11-03T02:37:53.109137Z",
     "iopub.status.busy": "2021-11-03T02:37:53.108596Z",
     "iopub.status.idle": "2021-11-03T02:37:53.111962Z",
     "shell.execute_reply": "2021-11-03T02:37:53.111540Z"
    }
   },
   "outputs": [
    {
     "name": "stdout",
     "output_type": "stream",
     "text": [
      "No se puede dividir por cero, ojo!"
     ]
    },
    {
     "name": "stdout",
     "output_type": "stream",
     "text": [
      " division by zero\n",
      "1\n"
     ]
    }
   ],
   "source": [
    "try:\n",
    "    division(1, 0)\n",
    "except (ZeroDivisionError, TypeError) as e:\n",
    "    print('No se puede dividir por cero, ojo!', e)\n",
    "finally:\n",
    "    print(1)"
   ]
  },
  {
   "cell_type": "markdown",
   "id": "4d6c497e",
   "metadata": {
    "slideshow": {
     "slide_type": "slide"
    }
   },
   "source": [
    "## Lectura y escritura de archivos"
   ]
  },
  {
   "cell_type": "code",
   "execution_count": 90,
   "id": "d4422235",
   "metadata": {
    "execution": {
     "iopub.execute_input": "2021-11-03T02:37:53.116417Z",
     "iopub.status.busy": "2021-11-03T02:37:53.115918Z",
     "iopub.status.idle": "2021-11-03T02:37:53.119706Z",
     "shell.execute_reply": "2021-11-03T02:37:53.119285Z"
    },
    "slideshow": {
     "slide_type": "slide"
    }
   },
   "outputs": [
    {
     "name": "stdout",
     "output_type": "stream",
     "text": [
      "<_io.TextIOWrapper name='archivo.csv' mode='w' encoding='UTF-8'>\n"
     ]
    }
   ],
   "source": [
    "import random\n",
    "\n",
    "with open(\n",
    "    'archivo.csv', 'w'\n",
    ") as archivo:  # Al usar esta sintaxis no es necesario hacer close\n",
    "    archivo.write(\"Alumno, nota\\n\")\n",
    "    # Tambien de forma similar al fprintf se puede hacer:\n",
    "    # print(\"Alumno, nota\\n\", file=archivo)\n",
    "    for i in range(0, 10):\n",
    "        archivo.write(f\"{i},{random.randrange(0,10)}\\n\")\n",
    "\n",
    "print(archivo)  # Comentario aclaratorio:\n",
    "# Las variables definidas en un determinado scope siguen existiendo por fuera del mismo.\n",
    "# Se debe tener cuidado con esto, ya que nada garantiza que por fuera el valor sea el esperado."
   ]
  },
  {
   "cell_type": "code",
   "execution_count": 91,
   "id": "e8befd93",
   "metadata": {
    "execution": {
     "iopub.execute_input": "2021-11-03T02:37:53.125225Z",
     "iopub.status.busy": "2021-11-03T02:37:53.124350Z",
     "iopub.status.idle": "2021-11-03T02:37:53.126965Z",
     "shell.execute_reply": "2021-11-03T02:37:53.127354Z"
    },
    "slideshow": {
     "slide_type": "slide"
    }
   },
   "outputs": [
    {
     "name": "stdout",
     "output_type": "stream",
     "text": [
      "Alumno, nota\n",
      "0,0\n",
      "1,5\n",
      "2,9\n",
      "3,5\n",
      "4,8\n",
      "5,7\n",
      "6,0\n",
      "7,1\n",
      "8,8\n",
      "9,1\n"
     ]
    }
   ],
   "source": [
    "with open('archivo.csv', 'r') as f:\n",
    "    for linea in f:\n",
    "        print(linea.strip())"
   ]
  },
  {
   "cell_type": "code",
   "execution_count": 92,
   "id": "84ae42c0",
   "metadata": {
    "execution": {
     "iopub.execute_input": "2021-11-03T02:37:53.131716Z",
     "iopub.status.busy": "2021-11-03T02:37:53.130998Z",
     "iopub.status.idle": "2021-11-03T02:37:53.133647Z",
     "shell.execute_reply": "2021-11-03T02:37:53.134038Z"
    }
   },
   "outputs": [
    {
     "name": "stdout",
     "output_type": "stream",
     "text": [
      "Alumno, nota\n",
      "0,0\n",
      "1,5\n",
      "2,9\n",
      "3,5\n",
      "4,8\n",
      "5,7\n",
      "6,0\n",
      "7,1\n",
      "8,8\n",
      "9,1\n",
      "\n"
     ]
    }
   ],
   "source": [
    "with open('archivo.csv', 'r') as f:\n",
    "    print(f.read())"
   ]
  },
  {
   "cell_type": "code",
   "execution_count": 93,
   "id": "e9989a54",
   "metadata": {
    "execution": {
     "iopub.execute_input": "2021-11-03T02:37:53.138230Z",
     "iopub.status.busy": "2021-11-03T02:37:53.137348Z",
     "iopub.status.idle": "2021-11-03T02:37:53.139224Z",
     "shell.execute_reply": "2021-11-03T02:37:53.139593Z"
    }
   },
   "outputs": [],
   "source": [
    "f = open('archivo.csv', 'w')\n",
    "f.write(\"algo, algo\")\n",
    "f.close()"
   ]
  },
  {
   "cell_type": "markdown",
   "id": "3d7b6f4b",
   "metadata": {
    "slideshow": {
     "slide_type": "slide"
    }
   },
   "source": [
    "## Objetos\n",
    "\n",
    "Los objetos tienen metodos y atributos:\n",
    "- Atributos: equivalentes a variables.\n",
    "- Métodos: equivalentes a las primitivas."
   ]
  },
  {
   "cell_type": "markdown",
   "id": "5f22847d",
   "metadata": {
    "slideshow": {
     "slide_type": "slide"
    }
   },
   "source": [
    "### Cómo creo una clase"
   ]
  },
  {
   "cell_type": "code",
   "execution_count": 94,
   "id": "9771afcf",
   "metadata": {
    "execution": {
     "iopub.execute_input": "2021-11-03T02:37:53.145666Z",
     "iopub.status.busy": "2021-11-03T02:37:53.144539Z",
     "iopub.status.idle": "2021-11-03T02:37:53.146229Z",
     "shell.execute_reply": "2021-11-03T02:37:53.146654Z"
    },
    "slideshow": {
     "slide_type": "slide"
    }
   },
   "outputs": [],
   "source": [
    "class Nodo(object):\n",
    "    def __init__(self, dato, siguiente=None):\n",
    "        self._dato = dato\n",
    "        self._siguiente = siguiente\n",
    "\n",
    "    @property\n",
    "    def dato(self):\n",
    "        return self._dato\n",
    "\n",
    "    @property\n",
    "    def proximo(self):\n",
    "        return self._siguiente\n",
    "\n",
    "    @proximo.setter\n",
    "    def proximo(self, siguiente):\n",
    "        self._siguiente = siguiente\n",
    "\n",
    "    def __repr__(self):\n",
    "        return str(self.dato)\n",
    "\n",
    "    def __str__(self):\n",
    "        return str(self.dato)"
   ]
  },
  {
   "cell_type": "code",
   "execution_count": 95,
   "id": "bb5d0b1e",
   "metadata": {
    "execution": {
     "iopub.execute_input": "2021-11-03T02:37:53.151274Z",
     "iopub.status.busy": "2021-11-03T02:37:53.150101Z",
     "iopub.status.idle": "2021-11-03T02:37:53.153151Z",
     "shell.execute_reply": "2021-11-03T02:37:53.152699Z"
    },
    "slideshow": {
     "slide_type": "slide"
    }
   },
   "outputs": [
    {
     "name": "stdout",
     "output_type": "stream",
     "text": [
      "hola\n"
     ]
    }
   ],
   "source": [
    "nodo = Nodo(\"hola\")\n",
    "print(nodo)"
   ]
  },
  {
   "cell_type": "code",
   "execution_count": 96,
   "id": "f5ad1794",
   "metadata": {
    "execution": {
     "iopub.execute_input": "2021-11-03T02:37:53.157821Z",
     "iopub.status.busy": "2021-11-03T02:37:53.156728Z",
     "iopub.status.idle": "2021-11-03T02:37:53.159689Z",
     "shell.execute_reply": "2021-11-03T02:37:53.159271Z"
    },
    "slideshow": {
     "slide_type": "slide"
    }
   },
   "outputs": [
    {
     "name": "stdout",
     "output_type": "stream",
     "text": [
      "[hola, lala]\n"
     ]
    }
   ],
   "source": [
    "nodo2 = Nodo(\"lala\")\n",
    "print([nodo, nodo2])"
   ]
  },
  {
   "cell_type": "code",
   "execution_count": 97,
   "id": "2e74cc8a",
   "metadata": {
    "execution": {
     "iopub.execute_input": "2021-11-03T02:37:53.163169Z",
     "iopub.status.busy": "2021-11-03T02:37:53.162690Z",
     "iopub.status.idle": "2021-11-03T02:37:53.164549Z",
     "shell.execute_reply": "2021-11-03T02:37:53.164936Z"
    },
    "slideshow": {
     "slide_type": "slide"
    }
   },
   "outputs": [
    {
     "name": "stdout",
     "output_type": "stream",
     "text": [
      "hola\n"
     ]
    }
   ],
   "source": [
    "nodo3 = nodo.dato\n",
    "print(nodo3)"
   ]
  },
  {
   "cell_type": "markdown",
   "id": "10314e2a",
   "metadata": {
    "slideshow": {
     "slide_type": "slide"
    }
   },
   "source": [
    "### Ejemplo: Lista Enlazada"
   ]
  },
  {
   "cell_type": "code",
   "execution_count": 98,
   "id": "8261d705",
   "metadata": {
    "execution": {
     "iopub.execute_input": "2021-11-03T02:37:53.173408Z",
     "iopub.status.busy": "2021-11-03T02:37:53.172410Z",
     "iopub.status.idle": "2021-11-03T02:37:53.176157Z",
     "shell.execute_reply": "2021-11-03T02:37:53.175729Z"
    },
    "slideshow": {
     "slide_type": "slide"
    }
   },
   "outputs": [],
   "source": [
    "class ListaEnlazada(object):\n",
    "    def __init__(self):\n",
    "        self._primero = None\n",
    "        self._ultimo = None\n",
    "        self._largo = 0\n",
    "\n",
    "    def __len__(self):\n",
    "        return self._largo\n",
    "\n",
    "    def insertar_al_principio(self, dato):\n",
    "        nodo = Nodo(dato, self._primero)\n",
    "        self._primero = nodo\n",
    "        self._largo += 1\n",
    "        if self._largo == 1:\n",
    "            self._ultimo = nodo\n",
    "\n",
    "    def insertar_al_final(self, dato):\n",
    "        if self._largo != 0:\n",
    "            nodo = Nodo(dato)\n",
    "            nodo_anterior = self._ultimo\n",
    "            nodo_anterior._siguiente = nodo\n",
    "            self._ultimo = nodo\n",
    "            self._largo += 1\n",
    "        else:\n",
    "            self.insertar_al_principio(dato)\n",
    "\n",
    "    @property\n",
    "    def primero(self):\n",
    "        return self._primero.dato\n",
    "\n",
    "    def borrar_primero(self):\n",
    "        dato = self.primero.dato\n",
    "        self._primero = self.primero.siguiente\n",
    "        self._largo -= 1\n",
    "        if self._largo == 0:\n",
    "            self._ultimo = None\n",
    "        return dato\n",
    "\n",
    "    def __str__(self):\n",
    "        datos = []\n",
    "        nodo_actual = self._primero\n",
    "        while nodo_actual:\n",
    "            datos.append(nodo_actual.dato)\n",
    "            nodo_actual = nodo_actual.proximo\n",
    "        return \" -> \".join(datos)\n",
    "\n",
    "    def __repr__(self):\n",
    "        return self.__str__()"
   ]
  },
  {
   "cell_type": "code",
   "execution_count": 99,
   "id": "fd2f2b79",
   "metadata": {
    "execution": {
     "iopub.execute_input": "2021-11-03T02:37:53.180704Z",
     "iopub.status.busy": "2021-11-03T02:37:53.180220Z",
     "iopub.status.idle": "2021-11-03T02:37:53.184524Z",
     "shell.execute_reply": "2021-11-03T02:37:53.184923Z"
    },
    "slideshow": {
     "slide_type": "slide"
    }
   },
   "outputs": [
    {
     "data": {
      "text/plain": [
       "2"
      ]
     },
     "execution_count": 99,
     "metadata": {},
     "output_type": "execute_result"
    }
   ],
   "source": [
    "lista = ListaEnlazada()\n",
    "lista.insertar_al_principio(\"Primer Dato\")\n",
    "lista.insertar_al_principio(\"Primer primer Dato\")\n",
    "len(lista)"
   ]
  },
  {
   "cell_type": "code",
   "execution_count": 100,
   "id": "7905c2c1",
   "metadata": {
    "execution": {
     "iopub.execute_input": "2021-11-03T02:37:53.188711Z",
     "iopub.status.busy": "2021-11-03T02:37:53.188228Z",
     "iopub.status.idle": "2021-11-03T02:37:53.193433Z",
     "shell.execute_reply": "2021-11-03T02:37:53.193006Z"
    }
   },
   "outputs": [
    {
     "data": {
      "text/plain": [
       "Primer primer Dato -> Primer Dato"
      ]
     },
     "execution_count": 100,
     "metadata": {},
     "output_type": "execute_result"
    }
   ],
   "source": [
    "lista"
   ]
  },
  {
   "cell_type": "code",
   "execution_count": 101,
   "id": "357eaa14",
   "metadata": {
    "execution": {
     "iopub.execute_input": "2021-11-03T02:37:53.197421Z",
     "iopub.status.busy": "2021-11-03T02:37:53.196932Z",
     "iopub.status.idle": "2021-11-03T02:37:53.200389Z",
     "shell.execute_reply": "2021-11-03T02:37:53.200763Z"
    },
    "slideshow": {
     "slide_type": "slide"
    }
   },
   "outputs": [
    {
     "name": "stdout",
     "output_type": "stream",
     "text": [
      "Primer primer Dato\n"
     ]
    }
   ],
   "source": [
    "elemento = lista.primero\n",
    "print(elemento)"
   ]
  },
  {
   "cell_type": "markdown",
   "id": "b2ee186c",
   "metadata": {},
   "source": [
    "## Recursos\n",
    "\n",
    "* [Taller de Python de Algoritmos II](https://github.com/algoritmos-rw/algo2_apuntes)\n",
    "\n",
    "* [Documentación de Python 3](https://docs.python.org/3/tutorial/)\n",
    "\n",
    "* [Apunte de Algoritmos y Programación I](https://algoritmos1rw.ddns.net/material)\n",
    "\n",
    "* [Automate the Boring Stuff with Python](http://automatetheboringstuff.com/)\n",
    "\n",
    "* [Curso Python](https://pythoncurso.github.io)\n",
    "\n",
    "* [Python Tutor](http://pythontutor.com/)\n",
    "\n",
    "* [Learn Python3 in Y minutes](https://learnxinyminutes.com/docs/python3/)\n",
    "\n",
    "* [Bibliografía de Algoritmos y Programación I](https://algoritmos1rw.ddns.net/bibliografia)"
   ]
  }
 ],
 "metadata": {
  "jupytext": {
   "encoding": "# -*- coding: utf-8 -*-",
   "formats": "ipynb,py:light"
  },
  "kernelspec": {
   "display_name": "Python 3 (venv)",
   "language": "python",
   "name": "python3"
  },
  "language_info": {
   "codemirror_mode": {
    "name": "ipython",
    "version": 3
   },
   "file_extension": ".py",
   "mimetype": "text/x-python",
   "name": "python",
   "nbconvert_exporter": "python",
   "pygments_lexer": "ipython3",
   "version": "3.7.12"
  }
 },
 "nbformat": 4,
 "nbformat_minor": 5
}
