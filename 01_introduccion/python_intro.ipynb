{
 "cells": [
  {
   "cell_type": "markdown",
   "id": "e57a869d",
   "metadata": {},
   "source": [
    "# Python"
   ]
  },
  {
   "cell_type": "markdown",
   "id": "a0e760bc",
   "metadata": {
    "slideshow": {
     "slide_type": "slide"
    }
   },
   "source": [
    "## Un poco de Historia"
   ]
  },
  {
   "cell_type": "markdown",
   "id": "f0940046",
   "metadata": {
    "slideshow": {
     "slide_type": "subslide"
    }
   },
   "source": [
    "Python fue creado a finales de los años 80 por un programador holandés llamado **Guido van Rossum**,\n",
    "quien sigue siendo aún hoy el líder del desarrollo del lenguaje.\n",
    "\n",
    "(Edit julio 2018: [ya no más](https://www.mail-archive.com/python-committers@python.org/msg05628.html))"
   ]
  },
  {
   "cell_type": "markdown",
   "id": "6b740c72",
   "metadata": {
    "slideshow": {
     "slide_type": "subslide"
    }
   },
   "source": [
    "El nombre del lenguaje proviene de los humoristas británicos Monty Python.\n",
    "\n",
    ">*\"I chose Python as a working title for the project, being in a slightly irreverent mood (and a big fan of Monty Python's Flying Circus).\"*"
   ]
  },
  {
   "cell_type": "markdown",
   "id": "16bfdfed",
   "metadata": {
    "slideshow": {
     "slide_type": "slide"
    }
   },
   "source": [
    "## Caracteristicas\n",
    "\n",
    "- Interpretado\n",
    "- Tipado dinamico\n",
    "- Multiparadigma\n",
    "- Alto nivel\n",
    "- Tiene un recolector de basura (no hay malloc, free, realloc, etc)"
   ]
  },
  {
   "cell_type": "markdown",
   "id": "d5ef1ef3",
   "metadata": {},
   "source": [
    "## ¿Cómo empezar?\n",
    "\n",
    "* Al ser un lenguaje *interpretado*, se puede ir escribiendo a medida que se ejecuta, sin necesidad de compilar de antemano! Solamente hace falta escribir `python` o `python3` en una terminal para empezar\n",
    "\n",
    "* También, permite escribir archivos y correrlos. Crear un archivo con extensión `.py` y luego correr `python miarchivo.py` en laterminal"
   ]
  },
  {
   "cell_type": "markdown",
   "id": "916f8708",
   "metadata": {
    "slideshow": {
     "slide_type": "slide"
    }
   },
   "source": [
    "## El Zen de Python"
   ]
  },
  {
   "cell_type": "code",
   "execution_count": 1,
   "id": "2226e84d",
   "metadata": {
    "execution": {
     "iopub.execute_input": "2021-05-05T14:44:19.646278Z",
     "iopub.status.busy": "2021-05-05T14:44:19.645633Z",
     "iopub.status.idle": "2021-05-05T14:44:19.664547Z",
     "shell.execute_reply": "2021-05-05T14:44:19.663982Z"
    },
    "slideshow": {
     "slide_type": "slide"
    }
   },
   "outputs": [
    {
     "name": "stdout",
     "output_type": "stream",
     "text": [
      "The Zen of Python, by Tim Peters\n",
      "\n",
      "Beautiful is better than ugly.\n",
      "Explicit is better than implicit.\n",
      "Simple is better than complex.\n",
      "Complex is better than complicated.\n",
      "Flat is better than nested.\n",
      "Sparse is better than dense.\n",
      "Readability counts.\n",
      "Special cases aren't special enough to break the rules.\n",
      "Although practicality beats purity.\n",
      "Errors should never pass silently.\n",
      "Unless explicitly silenced.\n",
      "In the face of ambiguity, refuse the temptation to guess.\n",
      "There should be one-- and preferably only one --obvious way to do it.\n",
      "Although that way may not be obvious at first unless you're Dutch.\n",
      "Now is better than never.\n",
      "Although never is often better than *right* now.\n",
      "If the implementation is hard to explain, it's a bad idea.\n",
      "If the implementation is easy to explain, it may be a good idea.\n",
      "Namespaces are one honking great idea -- let's do more of those!\n"
     ]
    }
   ],
   "source": [
    "import this"
   ]
  },
  {
   "cell_type": "markdown",
   "id": "ba905f8e",
   "metadata": {
    "slideshow": {
     "slide_type": "slide"
    }
   },
   "source": [
    "## Conocimientos Básicos de Python: Variables y Tipos"
   ]
  },
  {
   "cell_type": "code",
   "execution_count": 2,
   "id": "7172cc99",
   "metadata": {
    "execution": {
     "iopub.execute_input": "2021-05-05T14:44:19.670933Z",
     "iopub.status.busy": "2021-05-05T14:44:19.669071Z",
     "iopub.status.idle": "2021-05-05T14:44:19.672900Z",
     "shell.execute_reply": "2021-05-05T14:44:19.672318Z"
    },
    "slideshow": {
     "slide_type": "slide"
    }
   },
   "outputs": [
    {
     "name": "stdout",
     "output_type": "stream",
     "text": [
      "Hello World!\n"
     ]
    }
   ],
   "source": [
    "# Este es un comentario\n",
    "\n",
    "print(\"Hello World!\")"
   ]
  },
  {
   "cell_type": "markdown",
   "id": "b39eec3b",
   "metadata": {},
   "source": [
    "Los strings en python puden escribirse tanto con comillas simples (`'`) como comillas dobles (`\"`). Normalmente vemos texto entre comillas triples para escribir _docstrings_, segun la guia de estilo de Python, el PEP8."
   ]
  },
  {
   "cell_type": "code",
   "execution_count": 3,
   "id": "f423f81f",
   "metadata": {
    "execution": {
     "iopub.execute_input": "2021-05-05T14:44:19.686013Z",
     "iopub.status.busy": "2021-05-05T14:44:19.684879Z",
     "iopub.status.idle": "2021-05-05T14:44:19.688707Z",
     "shell.execute_reply": "2021-05-05T14:44:19.688210Z"
    }
   },
   "outputs": [
    {
     "data": {
      "text/plain": [
       "'Esto es un docstring.\\n'"
      ]
     },
     "execution_count": 1,
     "metadata": {},
     "output_type": "execute_result"
    }
   ],
   "source": [
    "\"\"\"Esto es un docstring.\n",
    "\"\"\""
   ]
  },
  {
   "cell_type": "markdown",
   "id": "d670848f",
   "metadata": {},
   "source": [
    "### Declaracion de variables"
   ]
  },
  {
   "cell_type": "code",
   "execution_count": 4,
   "id": "c9421e3d",
   "metadata": {
    "execution": {
     "iopub.execute_input": "2021-05-05T14:44:19.694777Z",
     "iopub.status.busy": "2021-05-05T14:44:19.693301Z",
     "iopub.status.idle": "2021-05-05T14:44:19.696988Z",
     "shell.execute_reply": "2021-05-05T14:44:19.696244Z"
    }
   },
   "outputs": [
    {
     "name": "stdout",
     "output_type": "stream",
     "text": [
      "Hola\n"
     ]
    }
   ],
   "source": [
    "string = 'Hola'\n",
    "print(string)"
   ]
  },
  {
   "cell_type": "code",
   "execution_count": 5,
   "id": "936f3268",
   "metadata": {
    "execution": {
     "iopub.execute_input": "2021-05-05T14:44:19.703328Z",
     "iopub.status.busy": "2021-05-05T14:44:19.701789Z",
     "iopub.status.idle": "2021-05-05T14:44:19.705581Z",
     "shell.execute_reply": "2021-05-05T14:44:19.704077Z"
    }
   },
   "outputs": [
    {
     "name": "stdout",
     "output_type": "stream",
     "text": [
      "1\n"
     ]
    }
   ],
   "source": [
    "entero = 1\n",
    "print(entero)"
   ]
  },
  {
   "cell_type": "code",
   "execution_count": 6,
   "id": "ee73939c",
   "metadata": {
    "execution": {
     "iopub.execute_input": "2021-05-05T14:44:19.711521Z",
     "iopub.status.busy": "2021-05-05T14:44:19.709898Z",
     "iopub.status.idle": "2021-05-05T14:44:19.713749Z",
     "shell.execute_reply": "2021-05-05T14:44:19.712905Z"
    }
   },
   "outputs": [
    {
     "name": "stdout",
     "output_type": "stream",
     "text": [
      "1.0\n"
     ]
    }
   ],
   "source": [
    "flotante = 1.0\n",
    "print(flotante)"
   ]
  },
  {
   "cell_type": "code",
   "execution_count": 7,
   "id": "72886df1",
   "metadata": {
    "execution": {
     "iopub.execute_input": "2021-05-05T14:44:19.719112Z",
     "iopub.status.busy": "2021-05-05T14:44:19.718431Z",
     "iopub.status.idle": "2021-05-05T14:44:19.720772Z",
     "shell.execute_reply": "2021-05-05T14:44:19.721458Z"
    }
   },
   "outputs": [
    {
     "name": "stdout",
     "output_type": "stream",
     "text": [
      "(1, 1.0)\n"
     ]
    }
   ],
   "source": [
    "tupla = (entero, flotante)\n",
    "print(tupla)"
   ]
  },
  {
   "cell_type": "code",
   "execution_count": 8,
   "id": "d3df66bc",
   "metadata": {
    "execution": {
     "iopub.execute_input": "2021-05-05T14:44:19.726129Z",
     "iopub.status.busy": "2021-05-05T14:44:19.725493Z",
     "iopub.status.idle": "2021-05-05T14:44:19.727864Z",
     "shell.execute_reply": "2021-05-05T14:44:19.728343Z"
    }
   },
   "outputs": [
    {
     "name": "stdout",
     "output_type": "stream",
     "text": [
      "(1, 1.0, 'Hola')\n"
     ]
    }
   ],
   "source": [
    "nupla = (entero, flotante, string)\n",
    "print(nupla)"
   ]
  },
  {
   "cell_type": "code",
   "execution_count": 9,
   "id": "19cb158a",
   "metadata": {
    "execution": {
     "iopub.execute_input": "2021-05-05T14:44:19.732593Z",
     "iopub.status.busy": "2021-05-05T14:44:19.732012Z",
     "iopub.status.idle": "2021-05-05T14:44:19.734373Z",
     "shell.execute_reply": "2021-05-05T14:44:19.734865Z"
    }
   },
   "outputs": [
    {
     "name": "stdout",
     "output_type": "stream",
     "text": [
      "[1, 1.0, 'Hola']\n"
     ]
    }
   ],
   "source": [
    "lista = [entero, flotante, string]\n",
    "print(lista)"
   ]
  },
  {
   "cell_type": "code",
   "execution_count": 10,
   "id": "09ed6a51",
   "metadata": {
    "execution": {
     "iopub.execute_input": "2021-05-05T14:44:19.739044Z",
     "iopub.status.busy": "2021-05-05T14:44:19.738312Z",
     "iopub.status.idle": "2021-05-05T14:44:19.740520Z",
     "shell.execute_reply": "2021-05-05T14:44:19.741375Z"
    }
   },
   "outputs": [
    {
     "name": "stdout",
     "output_type": "stream",
     "text": [
      "{'1': (1, 1.0), 50: (1, 1.0, 'Hola'), '3': 1}\n"
     ]
    }
   ],
   "source": [
    "diccionario = {'1': tupla, 50: nupla, '3': entero}\n",
    "print(diccionario)"
   ]
  },
  {
   "cell_type": "code",
   "execution_count": 11,
   "id": "a0d9e958",
   "metadata": {
    "execution": {
     "iopub.execute_input": "2021-05-05T14:44:19.745601Z",
     "iopub.status.busy": "2021-05-05T14:44:19.744966Z",
     "iopub.status.idle": "2021-05-05T14:44:19.747162Z",
     "shell.execute_reply": "2021-05-05T14:44:19.747698Z"
    }
   },
   "outputs": [
    {
     "name": "stdout",
     "output_type": "stream",
     "text": [
      "{1, 2}\n"
     ]
    }
   ],
   "source": [
    "conjunto = set([1, 2])\n",
    "print(conjunto)"
   ]
  },
  {
   "cell_type": "code",
   "execution_count": 12,
   "id": "f006ae94",
   "metadata": {
    "execution": {
     "iopub.execute_input": "2021-05-05T14:44:19.751730Z",
     "iopub.status.busy": "2021-05-05T14:44:19.750935Z",
     "iopub.status.idle": "2021-05-05T14:44:19.753172Z",
     "shell.execute_reply": "2021-05-05T14:44:19.753726Z"
    }
   },
   "outputs": [
    {
     "name": "stdout",
     "output_type": "stream",
     "text": [
      "True\n"
     ]
    }
   ],
   "source": [
    "booleano = True\n",
    "print(booleano)"
   ]
  },
  {
   "cell_type": "code",
   "execution_count": 13,
   "id": "249a2090",
   "metadata": {
    "execution": {
     "iopub.execute_input": "2021-05-05T14:44:19.757540Z",
     "iopub.status.busy": "2021-05-05T14:44:19.756933Z",
     "iopub.status.idle": "2021-05-05T14:44:19.759178Z",
     "shell.execute_reply": "2021-05-05T14:44:19.759656Z"
    }
   },
   "outputs": [
    {
     "name": "stdout",
     "output_type": "stream",
     "text": [
      "None\n"
     ]
    }
   ],
   "source": [
    "nada = None\n",
    "print(nada)"
   ]
  },
  {
   "cell_type": "markdown",
   "id": "c1ba56fe",
   "metadata": {},
   "source": [
    "Ojo que las variables pueden cambiar de tipo!"
   ]
  },
  {
   "cell_type": "code",
   "execution_count": 14,
   "id": "e0d8a8e7",
   "metadata": {
    "execution": {
     "iopub.execute_input": "2021-05-05T14:44:19.764984Z",
     "iopub.status.busy": "2021-05-05T14:44:19.764303Z",
     "iopub.status.idle": "2021-05-05T14:44:19.768033Z",
     "shell.execute_reply": "2021-05-05T14:44:19.767517Z"
    }
   },
   "outputs": [
    {
     "name": "stdout",
     "output_type": "stream",
     "text": [
      "1\n",
      "<class 'int'>\n"
     ]
    }
   ],
   "source": [
    "elemento = 1\n",
    "print(elemento)\n",
    "print(type(elemento))"
   ]
  },
  {
   "cell_type": "code",
   "execution_count": 15,
   "id": "16282419",
   "metadata": {
    "execution": {
     "iopub.execute_input": "2021-05-05T14:44:19.772350Z",
     "iopub.status.busy": "2021-05-05T14:44:19.771693Z",
     "iopub.status.idle": "2021-05-05T14:44:19.774394Z",
     "shell.execute_reply": "2021-05-05T14:44:19.773783Z"
    }
   },
   "outputs": [
    {
     "name": "stdout",
     "output_type": "stream",
     "text": [
      "1\n",
      "<class 'str'>\n"
     ]
    }
   ],
   "source": [
    "elemento = str(1)\n",
    "print(elemento)\n",
    "print(type(elemento))"
   ]
  },
  {
   "cell_type": "code",
   "execution_count": 16,
   "id": "3bedfeeb",
   "metadata": {
    "execution": {
     "iopub.execute_input": "2021-05-05T14:44:19.778573Z",
     "iopub.status.busy": "2021-05-05T14:44:19.777885Z",
     "iopub.status.idle": "2021-05-05T14:44:19.780518Z",
     "shell.execute_reply": "2021-05-05T14:44:19.779936Z"
    }
   },
   "outputs": [
    {
     "name": "stdout",
     "output_type": "stream",
     "text": [
      "[2]\n",
      "<class 'list'>\n"
     ]
    }
   ],
   "source": [
    "elemento = [2]\n",
    "\n",
    "print(elemento)\n",
    "print(type(elemento))"
   ]
  },
  {
   "cell_type": "markdown",
   "id": "daa49715",
   "metadata": {},
   "source": [
    "### Tipos basicos"
   ]
  },
  {
   "cell_type": "markdown",
   "id": "285c5d23",
   "metadata": {
    "slideshow": {
     "slide_type": "slide"
    }
   },
   "source": [
    "#### Listas de Python"
   ]
  },
  {
   "cell_type": "code",
   "execution_count": 17,
   "id": "b1aeaaff",
   "metadata": {
    "execution": {
     "iopub.execute_input": "2021-05-05T14:44:19.785161Z",
     "iopub.status.busy": "2021-05-05T14:44:19.784496Z",
     "iopub.status.idle": "2021-05-05T14:44:19.787336Z",
     "shell.execute_reply": "2021-05-05T14:44:19.787797Z"
    }
   },
   "outputs": [
    {
     "data": {
      "text/plain": [
       "[]"
      ]
     },
     "execution_count": 1,
     "metadata": {},
     "output_type": "execute_result"
    }
   ],
   "source": [
    "lista = list()\n",
    "lista"
   ]
  },
  {
   "cell_type": "code",
   "execution_count": 18,
   "id": "8d01971b",
   "metadata": {
    "execution": {
     "iopub.execute_input": "2021-05-05T14:44:19.792265Z",
     "iopub.status.busy": "2021-05-05T14:44:19.791464Z",
     "iopub.status.idle": "2021-05-05T14:44:19.794645Z",
     "shell.execute_reply": "2021-05-05T14:44:19.795200Z"
    },
    "slideshow": {
     "slide_type": "slide"
    }
   },
   "outputs": [
    {
     "data": {
      "text/plain": [
       "[]"
      ]
     },
     "execution_count": 1,
     "metadata": {},
     "output_type": "execute_result"
    }
   ],
   "source": [
    "lista = []\n",
    "lista"
   ]
  },
  {
   "cell_type": "code",
   "execution_count": 19,
   "id": "cbce76c2",
   "metadata": {
    "execution": {
     "iopub.execute_input": "2021-05-05T14:44:19.800642Z",
     "iopub.status.busy": "2021-05-05T14:44:19.799805Z",
     "iopub.status.idle": "2021-05-05T14:44:19.802614Z",
     "shell.execute_reply": "2021-05-05T14:44:19.803610Z"
    },
    "slideshow": {
     "slide_type": "slide"
    }
   },
   "outputs": [
    {
     "data": {
      "text/plain": [
       "[1, 2, 3, 4]"
      ]
     },
     "execution_count": 1,
     "metadata": {},
     "output_type": "execute_result"
    }
   ],
   "source": [
    "lista = [1, 2, 3, 4]\n",
    "lista"
   ]
  },
  {
   "cell_type": "code",
   "execution_count": 20,
   "id": "647fb482",
   "metadata": {
    "execution": {
     "iopub.execute_input": "2021-05-05T14:44:19.808541Z",
     "iopub.status.busy": "2021-05-05T14:44:19.807795Z",
     "iopub.status.idle": "2021-05-05T14:44:19.810660Z",
     "shell.execute_reply": "2021-05-05T14:44:19.811372Z"
    },
    "slideshow": {
     "slide_type": "slide"
    }
   },
   "outputs": [
    {
     "data": {
      "text/plain": [
       "[1, 2, 3, 4, 1, 'dos', 3.0]"
      ]
     },
     "execution_count": 1,
     "metadata": {},
     "output_type": "execute_result"
    }
   ],
   "source": [
    "lista.append(1)  # Inserto un 1 al final\n",
    "lista.append(\"dos\")  # Inserto un \"dos\" al final\n",
    "lista.append(3.0)  # Inserto un 3.0 al final\n",
    "lista"
   ]
  },
  {
   "cell_type": "code",
   "execution_count": 21,
   "id": "87f02569",
   "metadata": {
    "execution": {
     "iopub.execute_input": "2021-05-05T14:44:19.816479Z",
     "iopub.status.busy": "2021-05-05T14:44:19.815648Z",
     "iopub.status.idle": "2021-05-05T14:44:19.818355Z",
     "shell.execute_reply": "2021-05-05T14:44:19.819045Z"
    }
   },
   "outputs": [
    {
     "name": "stdout",
     "output_type": "stream",
     "text": [
      "[1, 2, 10, 3, 4, 1, 'dos', 3.0]\n"
     ]
    }
   ],
   "source": [
    "lista.insert(2, 10)  # Inserto en posicion 2 un 10\n",
    "print(lista)"
   ]
  },
  {
   "cell_type": "code",
   "execution_count": 22,
   "id": "da34289d",
   "metadata": {
    "execution": {
     "iopub.execute_input": "2021-05-05T14:44:19.823572Z",
     "iopub.status.busy": "2021-05-05T14:44:19.822905Z",
     "iopub.status.idle": "2021-05-05T14:44:19.825771Z",
     "shell.execute_reply": "2021-05-05T14:44:19.826345Z"
    }
   },
   "outputs": [
    {
     "data": {
      "text/plain": [
       "8"
      ]
     },
     "execution_count": 1,
     "metadata": {},
     "output_type": "execute_result"
    }
   ],
   "source": [
    "len(lista)"
   ]
  },
  {
   "cell_type": "code",
   "execution_count": 23,
   "id": "ec07248b",
   "metadata": {
    "execution": {
     "iopub.execute_input": "2021-05-05T14:44:19.830680Z",
     "iopub.status.busy": "2021-05-05T14:44:19.829960Z",
     "iopub.status.idle": "2021-05-05T14:44:19.833832Z",
     "shell.execute_reply": "2021-05-05T14:44:19.833251Z"
    }
   },
   "outputs": [
    {
     "data": {
      "text/plain": [
       "3.0"
      ]
     },
     "execution_count": 1,
     "metadata": {},
     "output_type": "execute_result"
    }
   ],
   "source": [
    "lista.pop()"
   ]
  },
  {
   "cell_type": "code",
   "execution_count": 24,
   "id": "19d5cb3c",
   "metadata": {
    "execution": {
     "iopub.execute_input": "2021-05-05T14:44:19.838078Z",
     "iopub.status.busy": "2021-05-05T14:44:19.837421Z",
     "iopub.status.idle": "2021-05-05T14:44:19.841489Z",
     "shell.execute_reply": "2021-05-05T14:44:19.842372Z"
    }
   },
   "outputs": [
    {
     "data": {
      "text/plain": [
       "[1, 2, 10, 3, 4, 1, 'dos']"
      ]
     },
     "execution_count": 1,
     "metadata": {},
     "output_type": "execute_result"
    }
   ],
   "source": [
    "lista"
   ]
  },
  {
   "cell_type": "code",
   "execution_count": 25,
   "id": "305e2c51",
   "metadata": {
    "execution": {
     "iopub.execute_input": "2021-05-05T14:44:19.846798Z",
     "iopub.status.busy": "2021-05-05T14:44:19.846164Z",
     "iopub.status.idle": "2021-05-05T14:44:19.849303Z",
     "shell.execute_reply": "2021-05-05T14:44:19.849782Z"
    }
   },
   "outputs": [
    {
     "data": {
      "text/plain": [
       "2"
      ]
     },
     "execution_count": 1,
     "metadata": {},
     "output_type": "execute_result"
    }
   ],
   "source": [
    "lista.index(10)"
   ]
  },
  {
   "cell_type": "code",
   "execution_count": 26,
   "id": "c0fc9568",
   "metadata": {
    "execution": {
     "iopub.execute_input": "2021-05-05T14:44:19.854408Z",
     "iopub.status.busy": "2021-05-05T14:44:19.853700Z",
     "iopub.status.idle": "2021-05-05T14:44:19.859386Z",
     "shell.execute_reply": "2021-05-05T14:44:19.858847Z"
    }
   },
   "outputs": [
    {
     "data": {
      "text/plain": [
       "[1, 2, 3, 4, 1, 'dos']"
      ]
     },
     "execution_count": 1,
     "metadata": {},
     "output_type": "execute_result"
    }
   ],
   "source": [
    "lista.remove(10)\n",
    "lista"
   ]
  },
  {
   "cell_type": "code",
   "execution_count": 27,
   "id": "df417d7c",
   "metadata": {
    "execution": {
     "iopub.execute_input": "2021-05-05T14:44:19.867941Z",
     "iopub.status.busy": "2021-05-05T14:44:19.865116Z",
     "iopub.status.idle": "2021-05-05T14:44:19.933336Z",
     "shell.execute_reply": "2021-05-05T14:44:19.933968Z"
    },
    "tags": [
     "raises-exception"
    ]
   },
   "outputs": [
    {
     "name": "stdout",
     "output_type": "stream",
     "text": [
      "1\n",
      "2\n",
      "2\n",
      "3\n",
      "3\n",
      "4\n",
      "4\n",
      "5\n",
      "1\n",
      "2\n",
      "dos\n"
     ]
    },
    {
     "ename": "TypeError",
     "evalue": "can only concatenate str (not \"int\") to str",
     "output_type": "error",
     "traceback": [
      "\u001b[0;31m---------------------------------------------------------------------------\u001b[0m",
      "\u001b[0;31mTypeError\u001b[0m                                 Traceback (most recent call last)",
      "\u001b[0;32m<ipython-input-1-41b56d5cf080>\u001b[0m in \u001b[0;36m<module>\u001b[0;34m\u001b[0m\n\u001b[1;32m      1\u001b[0m \u001b[0;32mfor\u001b[0m \u001b[0melemento\u001b[0m \u001b[0;32min\u001b[0m \u001b[0mlista\u001b[0m\u001b[0;34m:\u001b[0m\u001b[0;34m\u001b[0m\u001b[0;34m\u001b[0m\u001b[0m\n\u001b[1;32m      2\u001b[0m     \u001b[0mprint\u001b[0m\u001b[0;34m(\u001b[0m\u001b[0melemento\u001b[0m\u001b[0;34m)\u001b[0m\u001b[0;34m\u001b[0m\u001b[0;34m\u001b[0m\u001b[0m\n\u001b[0;32m----> 3\u001b[0;31m     \u001b[0mprint\u001b[0m\u001b[0;34m(\u001b[0m\u001b[0melemento\u001b[0m \u001b[0;34m+\u001b[0m \u001b[0;36m1\u001b[0m\u001b[0;34m)\u001b[0m\u001b[0;34m\u001b[0m\u001b[0;34m\u001b[0m\u001b[0m\n\u001b[0m",
      "\u001b[0;31mTypeError\u001b[0m: can only concatenate str (not \"int\") to str"
     ]
    }
   ],
   "source": [
    "for elemento in lista:\n",
    "    print(elemento)\n",
    "    print(elemento + 1)"
   ]
  },
  {
   "cell_type": "code",
   "execution_count": 28,
   "id": "508b5bb9",
   "metadata": {
    "execution": {
     "iopub.execute_input": "2021-05-05T14:44:19.939062Z",
     "iopub.status.busy": "2021-05-05T14:44:19.938368Z",
     "iopub.status.idle": "2021-05-05T14:44:19.944393Z",
     "shell.execute_reply": "2021-05-05T14:44:19.944952Z"
    }
   },
   "outputs": [
    {
     "data": {
      "text/plain": [
       "[1, 2, 3, 4, 1, 'dos']"
      ]
     },
     "execution_count": 1,
     "metadata": {},
     "output_type": "execute_result"
    }
   ],
   "source": [
    "lista"
   ]
  },
  {
   "cell_type": "code",
   "execution_count": 29,
   "id": "0375978d",
   "metadata": {
    "execution": {
     "iopub.execute_input": "2021-05-05T14:44:19.951020Z",
     "iopub.status.busy": "2021-05-05T14:44:19.950349Z",
     "iopub.status.idle": "2021-05-05T14:44:19.954421Z",
     "shell.execute_reply": "2021-05-05T14:44:19.953850Z"
    }
   },
   "outputs": [
    {
     "name": "stdout",
     "output_type": "stream",
     "text": [
      "0-ésimo elemento: 1\n",
      "1-ésimo elemento: 2\n",
      "2-ésimo elemento: 3\n",
      "3-ésimo elemento: 4\n",
      "4-ésimo elemento: 1\n",
      "5-ésimo elemento: dos\n"
     ]
    }
   ],
   "source": [
    "for i, elemento in enumerate(lista):\n",
    "    print(f\"{i}-ésimo elemento: {elemento}\")"
   ]
  },
  {
   "cell_type": "code",
   "execution_count": 30,
   "id": "441c569e",
   "metadata": {
    "execution": {
     "iopub.execute_input": "2021-05-05T14:44:19.962520Z",
     "iopub.status.busy": "2021-05-05T14:44:19.961807Z",
     "iopub.status.idle": "2021-05-05T14:44:19.965927Z",
     "shell.execute_reply": "2021-05-05T14:44:19.966609Z"
    },
    "tags": [
     "raises-exception"
    ]
   },
   "outputs": [
    {
     "ename": "TypeError",
     "evalue": "'<' not supported between instances of 'str' and 'int'",
     "output_type": "error",
     "traceback": [
      "\u001b[0;31m---------------------------------------------------------------------------\u001b[0m",
      "\u001b[0;31mTypeError\u001b[0m                                 Traceback (most recent call last)",
      "\u001b[0;32m<ipython-input-1-06c3f264dc7a>\u001b[0m in \u001b[0;36m<module>\u001b[0;34m\u001b[0m\n\u001b[0;32m----> 1\u001b[0;31m \u001b[0msorted\u001b[0m\u001b[0;34m(\u001b[0m\u001b[0mlista\u001b[0m\u001b[0;34m)\u001b[0m\u001b[0;34m\u001b[0m\u001b[0;34m\u001b[0m\u001b[0m\n\u001b[0m",
      "\u001b[0;31mTypeError\u001b[0m: '<' not supported between instances of 'str' and 'int'"
     ]
    }
   ],
   "source": [
    "sorted(lista)"
   ]
  },
  {
   "cell_type": "code",
   "execution_count": 31,
   "id": "df8ed076",
   "metadata": {
    "execution": {
     "iopub.execute_input": "2021-05-05T14:44:19.972128Z",
     "iopub.status.busy": "2021-05-05T14:44:19.970513Z",
     "iopub.status.idle": "2021-05-05T14:44:19.972931Z",
     "shell.execute_reply": "2021-05-05T14:44:19.973679Z"
    }
   },
   "outputs": [],
   "source": [
    "lista.remove(\"dos\")"
   ]
  },
  {
   "cell_type": "code",
   "execution_count": 32,
   "id": "0d03cfce",
   "metadata": {
    "execution": {
     "iopub.execute_input": "2021-05-05T14:44:19.979877Z",
     "iopub.status.busy": "2021-05-05T14:44:19.978657Z",
     "iopub.status.idle": "2021-05-05T14:44:19.982519Z",
     "shell.execute_reply": "2021-05-05T14:44:19.981933Z"
    }
   },
   "outputs": [
    {
     "data": {
      "text/plain": [
       "[1, 1, 2, 3, 4]"
      ]
     },
     "execution_count": 1,
     "metadata": {},
     "output_type": "execute_result"
    }
   ],
   "source": [
    "sorted(lista)"
   ]
  },
  {
   "cell_type": "code",
   "execution_count": 33,
   "id": "d3eb0641",
   "metadata": {
    "execution": {
     "iopub.execute_input": "2021-05-05T14:44:19.988533Z",
     "iopub.status.busy": "2021-05-05T14:44:19.987332Z",
     "iopub.status.idle": "2021-05-05T14:44:19.990459Z",
     "shell.execute_reply": "2021-05-05T14:44:19.991086Z"
    }
   },
   "outputs": [
    {
     "data": {
      "text/plain": [
       "[1, 1, 2, 3, 4]"
      ]
     },
     "execution_count": 1,
     "metadata": {},
     "output_type": "execute_result"
    }
   ],
   "source": [
    "lista.sort()\n",
    "lista"
   ]
  },
  {
   "cell_type": "markdown",
   "id": "ccfb46c2",
   "metadata": {
    "slideshow": {
     "slide_type": "slide"
    }
   },
   "source": [
    "#### Tuplas de Python\n",
    "\n",
    "Las tuplas son inmutables. No se pueden agregar elementos luego de creadas."
   ]
  },
  {
   "cell_type": "code",
   "execution_count": 34,
   "id": "8eab8ebf",
   "metadata": {
    "execution": {
     "iopub.execute_input": "2021-05-05T14:44:19.996738Z",
     "iopub.status.busy": "2021-05-05T14:44:19.995940Z",
     "iopub.status.idle": "2021-05-05T14:44:20.003810Z",
     "shell.execute_reply": "2021-05-05T14:44:20.004516Z"
    },
    "slideshow": {
     "slide_type": "slide"
    },
    "tags": [
     "raises-exception"
    ]
   },
   "outputs": [
    {
     "name": "stdout",
     "output_type": "stream",
     "text": [
      "(1, 2)\n",
      "1\n",
      "2\n"
     ]
    },
    {
     "ename": "TypeError",
     "evalue": "'tuple' object does not support item assignment",
     "output_type": "error",
     "traceback": [
      "\u001b[0;31m---------------------------------------------------------------------------\u001b[0m",
      "\u001b[0;31mTypeError\u001b[0m                                 Traceback (most recent call last)",
      "\u001b[0;32m<ipython-input-1-80ca8b547dd6>\u001b[0m in \u001b[0;36m<module>\u001b[0;34m\u001b[0m\n\u001b[1;32m      5\u001b[0m \u001b[0mprint\u001b[0m\u001b[0;34m(\u001b[0m\u001b[0mtupla\u001b[0m\u001b[0;34m[\u001b[0m\u001b[0;36m1\u001b[0m\u001b[0;34m]\u001b[0m\u001b[0;34m)\u001b[0m\u001b[0;34m\u001b[0m\u001b[0;34m\u001b[0m\u001b[0m\n\u001b[1;32m      6\u001b[0m \u001b[0;34m\u001b[0m\u001b[0m\n\u001b[0;32m----> 7\u001b[0;31m \u001b[0mtupla\u001b[0m\u001b[0;34m[\u001b[0m\u001b[0;36m1\u001b[0m\u001b[0;34m]\u001b[0m \u001b[0;34m=\u001b[0m \u001b[0;36m3\u001b[0m  \u001b[0;31m# Falla. No se puede mutar\u001b[0m\u001b[0;34m\u001b[0m\u001b[0;34m\u001b[0m\u001b[0m\n\u001b[0m",
      "\u001b[0;31mTypeError\u001b[0m: 'tuple' object does not support item assignment"
     ]
    }
   ],
   "source": [
    "tupla = (1, 2)\n",
    "\n",
    "print(tupla)\n",
    "print(tupla[0])\n",
    "print(tupla[1])\n",
    "\n",
    "tupla[1] = 3  # Falla. No se puede mutar"
   ]
  },
  {
   "cell_type": "code",
   "execution_count": 35,
   "id": "3623c5d0",
   "metadata": {
    "execution": {
     "iopub.execute_input": "2021-05-05T14:44:20.009986Z",
     "iopub.status.busy": "2021-05-05T14:44:20.008859Z",
     "iopub.status.idle": "2021-05-05T14:44:20.012056Z",
     "shell.execute_reply": "2021-05-05T14:44:20.012621Z"
    }
   },
   "outputs": [
    {
     "data": {
      "text/plain": [
       "[1, 2]"
      ]
     },
     "execution_count": 1,
     "metadata": {},
     "output_type": "execute_result"
    }
   ],
   "source": [
    "l = [1, 2]\n",
    "l"
   ]
  },
  {
   "cell_type": "code",
   "execution_count": 36,
   "id": "48a856c7",
   "metadata": {
    "execution": {
     "iopub.execute_input": "2021-05-05T14:44:20.017746Z",
     "iopub.status.busy": "2021-05-05T14:44:20.016899Z",
     "iopub.status.idle": "2021-05-05T14:44:20.019883Z",
     "shell.execute_reply": "2021-05-05T14:44:20.020378Z"
    }
   },
   "outputs": [
    {
     "data": {
      "text/plain": [
       "[1, 3]"
      ]
     },
     "execution_count": 1,
     "metadata": {},
     "output_type": "execute_result"
    }
   ],
   "source": [
    "l[1] = 3\n",
    "l"
   ]
  },
  {
   "cell_type": "markdown",
   "id": "adc021dc",
   "metadata": {
    "slideshow": {
     "slide_type": "slide"
    }
   },
   "source": [
    "#### Diferencia entre lista y tupla\n",
    "Las listas se caracterizan por ser mutables, es decir, se puede cambiar su contenido en tiempo de ejecución, mientras que las tuplas son inmutables ya que no es posible modificar el contenido una vez creada."
   ]
  },
  {
   "cell_type": "markdown",
   "id": "8cf0c81b",
   "metadata": {},
   "source": [
    "#### Slices\n",
    "\n",
    "**Valen para listas, tuplas o strings (_segmentos_)**"
   ]
  },
  {
   "cell_type": "code",
   "execution_count": 37,
   "id": "e9a9f4ce",
   "metadata": {
    "execution": {
     "iopub.execute_input": "2021-05-05T14:44:20.025811Z",
     "iopub.status.busy": "2021-05-05T14:44:20.024333Z",
     "iopub.status.idle": "2021-05-05T14:44:20.026703Z",
     "shell.execute_reply": "2021-05-05T14:44:20.027260Z"
    }
   },
   "outputs": [],
   "source": [
    "numeros = [0, 1, 2, 3, 4, 5, 6, 7, 8, 9, 10]"
   ]
  },
  {
   "cell_type": "code",
   "execution_count": 38,
   "id": "162ccd50",
   "metadata": {
    "execution": {
     "iopub.execute_input": "2021-05-05T14:44:20.032783Z",
     "iopub.status.busy": "2021-05-05T14:44:20.031324Z",
     "iopub.status.idle": "2021-05-05T14:44:20.034856Z",
     "shell.execute_reply": "2021-05-05T14:44:20.034326Z"
    }
   },
   "outputs": [
    {
     "name": "stdout",
     "output_type": "stream",
     "text": [
      "[0, 1, 2, 3, 4, 5, 6, 7, 8, 9, 10]\n"
     ]
    }
   ],
   "source": [
    "print(numeros)"
   ]
  },
  {
   "cell_type": "code",
   "execution_count": 39,
   "id": "99e25d95",
   "metadata": {
    "execution": {
     "iopub.execute_input": "2021-05-05T14:44:20.039569Z",
     "iopub.status.busy": "2021-05-05T14:44:20.038938Z",
     "iopub.status.idle": "2021-05-05T14:44:20.041053Z",
     "shell.execute_reply": "2021-05-05T14:44:20.041559Z"
    }
   },
   "outputs": [
    {
     "name": "stdout",
     "output_type": "stream",
     "text": [
      "2\n"
     ]
    }
   ],
   "source": [
    "print(numeros[2])  # Imprimo elemento en la posición 2"
   ]
  },
  {
   "cell_type": "code",
   "execution_count": 40,
   "id": "379415bb",
   "metadata": {
    "execution": {
     "iopub.execute_input": "2021-05-05T14:44:20.046062Z",
     "iopub.status.busy": "2021-05-05T14:44:20.045482Z",
     "iopub.status.idle": "2021-05-05T14:44:20.048451Z",
     "shell.execute_reply": "2021-05-05T14:44:20.048924Z"
    }
   },
   "outputs": [
    {
     "data": {
      "text/plain": [
       "10"
      ]
     },
     "execution_count": 1,
     "metadata": {},
     "output_type": "execute_result"
    }
   ],
   "source": [
    "numeros[len(numeros) - 1]"
   ]
  },
  {
   "cell_type": "code",
   "execution_count": 41,
   "id": "2bca5dd4",
   "metadata": {
    "execution": {
     "iopub.execute_input": "2021-05-05T14:44:20.052917Z",
     "iopub.status.busy": "2021-05-05T14:44:20.052326Z",
     "iopub.status.idle": "2021-05-05T14:44:20.054815Z",
     "shell.execute_reply": "2021-05-05T14:44:20.055423Z"
    },
    "lines_to_next_cell": 2
   },
   "outputs": [
    {
     "name": "stdout",
     "output_type": "stream",
     "text": [
      "10\n"
     ]
    }
   ],
   "source": [
    "print(numeros[-1])  # # Imprimo elemento en la última posición"
   ]
  },
  {
   "cell_type": "code",
   "execution_count": 42,
   "id": "bf7899ff",
   "metadata": {
    "execution": {
     "iopub.execute_input": "2021-05-05T14:44:20.060193Z",
     "iopub.status.busy": "2021-05-05T14:44:20.059590Z",
     "iopub.status.idle": "2021-05-05T14:44:20.062418Z",
     "shell.execute_reply": "2021-05-05T14:44:20.063029Z"
    },
    "lines_to_next_cell": 2
   },
   "outputs": [
    {
     "data": {
      "text/plain": [
       "9"
      ]
     },
     "execution_count": 1,
     "metadata": {},
     "output_type": "execute_result"
    }
   ],
   "source": [
    "numeros[-2]"
   ]
  },
  {
   "cell_type": "code",
   "execution_count": 43,
   "id": "e0eec5ad",
   "metadata": {
    "execution": {
     "iopub.execute_input": "2021-05-05T14:44:20.068179Z",
     "iopub.status.busy": "2021-05-05T14:44:20.067528Z",
     "iopub.status.idle": "2021-05-05T14:44:20.069805Z",
     "shell.execute_reply": "2021-05-05T14:44:20.070382Z"
    }
   },
   "outputs": [
    {
     "name": "stdout",
     "output_type": "stream",
     "text": [
      "[0, 1, 2]\n"
     ]
    }
   ],
   "source": [
    "print(numeros[0:3])  # Imprimo de la pos 0 a la pos 2"
   ]
  },
  {
   "cell_type": "code",
   "execution_count": 44,
   "id": "f9f526c6",
   "metadata": {
    "execution": {
     "iopub.execute_input": "2021-05-05T14:44:20.074867Z",
     "iopub.status.busy": "2021-05-05T14:44:20.074105Z",
     "iopub.status.idle": "2021-05-05T14:44:20.076639Z",
     "shell.execute_reply": "2021-05-05T14:44:20.077166Z"
    }
   },
   "outputs": [
    {
     "name": "stdout",
     "output_type": "stream",
     "text": [
      "[7, 8]\n"
     ]
    }
   ],
   "source": [
    "print(numeros[-4:-2])"
   ]
  },
  {
   "cell_type": "code",
   "execution_count": 45,
   "id": "850e4ea9",
   "metadata": {
    "execution": {
     "iopub.execute_input": "2021-05-05T14:44:20.081301Z",
     "iopub.status.busy": "2021-05-05T14:44:20.080599Z",
     "iopub.status.idle": "2021-05-05T14:44:20.082689Z",
     "shell.execute_reply": "2021-05-05T14:44:20.083294Z"
    }
   },
   "outputs": [
    {
     "name": "stdout",
     "output_type": "stream",
     "text": [
      "[0, 1, 2, 3, 4, 5, 6, 7, 8, 9, 10]\n"
     ]
    }
   ],
   "source": [
    "print(numeros[0:80])"
   ]
  },
  {
   "cell_type": "code",
   "execution_count": 46,
   "id": "d4d48b21",
   "metadata": {
    "execution": {
     "iopub.execute_input": "2021-05-05T14:44:20.087955Z",
     "iopub.status.busy": "2021-05-05T14:44:20.087309Z",
     "iopub.status.idle": "2021-05-05T14:44:20.089624Z",
     "shell.execute_reply": "2021-05-05T14:44:20.090115Z"
    }
   },
   "outputs": [
    {
     "name": "stdout",
     "output_type": "stream",
     "text": [
      "[0, 1, 2]\n"
     ]
    }
   ],
   "source": [
    "print(numeros[:3])"
   ]
  },
  {
   "cell_type": "code",
   "execution_count": 47,
   "id": "8139dd9f",
   "metadata": {
    "execution": {
     "iopub.execute_input": "2021-05-05T14:44:20.094280Z",
     "iopub.status.busy": "2021-05-05T14:44:20.093670Z",
     "iopub.status.idle": "2021-05-05T14:44:20.096386Z",
     "shell.execute_reply": "2021-05-05T14:44:20.095879Z"
    }
   },
   "outputs": [
    {
     "name": "stdout",
     "output_type": "stream",
     "text": [
      "[3, 4, 5, 6, 7, 8, 9, 10]\n"
     ]
    }
   ],
   "source": [
    "print(numeros[3:])"
   ]
  },
  {
   "cell_type": "code",
   "execution_count": 48,
   "id": "62b43b2f",
   "metadata": {
    "execution": {
     "iopub.execute_input": "2021-05-05T14:44:20.100350Z",
     "iopub.status.busy": "2021-05-05T14:44:20.099698Z",
     "iopub.status.idle": "2021-05-05T14:44:20.101984Z",
     "shell.execute_reply": "2021-05-05T14:44:20.102490Z"
    }
   },
   "outputs": [
    {
     "name": "stdout",
     "output_type": "stream",
     "text": [
      "[0, 2, 4, 6, 8]\n"
     ]
    }
   ],
   "source": [
    "print(numeros[0:10:2])"
   ]
  },
  {
   "cell_type": "markdown",
   "id": "1c2c5c93",
   "metadata": {},
   "source": [
    "```python\n",
    "lista[<inicio>:<final>:<step>]\n",
    "```"
   ]
  },
  {
   "cell_type": "code",
   "execution_count": 49,
   "id": "0b027efe",
   "metadata": {
    "execution": {
     "iopub.execute_input": "2021-05-05T14:44:20.107032Z",
     "iopub.status.busy": "2021-05-05T14:44:20.106412Z",
     "iopub.status.idle": "2021-05-05T14:44:20.109204Z",
     "shell.execute_reply": "2021-05-05T14:44:20.109793Z"
    },
    "lines_to_next_cell": 2
   },
   "outputs": [
    {
     "data": {
      "text/plain": [
       "[1, 2, 3, 4]"
      ]
     },
     "execution_count": 1,
     "metadata": {},
     "output_type": "execute_result"
    }
   ],
   "source": [
    "l1 = [1, 2]\n",
    "l2 = [3, 4]\n",
    "l1 + l2"
   ]
  },
  {
   "cell_type": "code",
   "execution_count": 50,
   "id": "21136917",
   "metadata": {
    "execution": {
     "iopub.execute_input": "2021-05-05T14:44:20.114045Z",
     "iopub.status.busy": "2021-05-05T14:44:20.113433Z",
     "iopub.status.idle": "2021-05-05T14:44:20.116174Z",
     "shell.execute_reply": "2021-05-05T14:44:20.115577Z"
    }
   },
   "outputs": [
    {
     "name": "stdout",
     "output_type": "stream",
     "text": [
      "[0, 1, 2, 3, 4, 5, 6, 'siete', 8, 9, 10]\n"
     ]
    }
   ],
   "source": [
    "numeros[7] = 'siete'  # Las listas se pueden mutar\n",
    "print(numeros)"
   ]
  },
  {
   "cell_type": "code",
   "execution_count": 51,
   "id": "35d1ad95",
   "metadata": {
    "execution": {
     "iopub.execute_input": "2021-05-05T14:44:20.120222Z",
     "iopub.status.busy": "2021-05-05T14:44:20.119623Z",
     "iopub.status.idle": "2021-05-05T14:44:20.122562Z",
     "shell.execute_reply": "2021-05-05T14:44:20.121889Z"
    }
   },
   "outputs": [
    {
     "name": "stdout",
     "output_type": "stream",
     "text": [
      "[10, 9, 8, 'siete', 6, 5, 4, 3, 2, 1, 0]\n"
     ]
    }
   ],
   "source": [
    "numeros = numeros[::-1]\n",
    "print(numeros)"
   ]
  },
  {
   "cell_type": "code",
   "execution_count": 52,
   "id": "f4afdda8",
   "metadata": {
    "execution": {
     "iopub.execute_input": "2021-05-05T14:44:20.130436Z",
     "iopub.status.busy": "2021-05-05T14:44:20.129487Z",
     "iopub.status.idle": "2021-05-05T14:44:20.136114Z",
     "shell.execute_reply": "2021-05-05T14:44:20.136686Z"
    },
    "tags": [
     "raises-exception"
    ]
   },
   "outputs": [
    {
     "ename": "IndexError",
     "evalue": "list index out of range",
     "output_type": "error",
     "traceback": [
      "\u001b[0;31m---------------------------------------------------------------------------\u001b[0m",
      "\u001b[0;31mIndexError\u001b[0m                                Traceback (most recent call last)",
      "\u001b[0;32m<ipython-input-1-0ef91dd29a9b>\u001b[0m in \u001b[0;36m<module>\u001b[0;34m\u001b[0m\n\u001b[0;32m----> 1\u001b[0;31m \u001b[0mprint\u001b[0m\u001b[0;34m(\u001b[0m\u001b[0mnumeros\u001b[0m\u001b[0;34m[\u001b[0m\u001b[0;36m15\u001b[0m\u001b[0;34m]\u001b[0m\u001b[0;34m)\u001b[0m  \u001b[0;31m# Falla. No se puede acceder a una posición inexistente\u001b[0m\u001b[0;34m\u001b[0m\u001b[0;34m\u001b[0m\u001b[0m\n\u001b[0m",
      "\u001b[0;31mIndexError\u001b[0m: list index out of range"
     ]
    }
   ],
   "source": [
    "print(numeros[15])  # Falla. No se puede acceder a una posición inexistente"
   ]
  },
  {
   "cell_type": "code",
   "execution_count": 53,
   "id": "98e33dab",
   "metadata": {
    "execution": {
     "iopub.execute_input": "2021-05-05T14:44:20.142902Z",
     "iopub.status.busy": "2021-05-05T14:44:20.142186Z",
     "iopub.status.idle": "2021-05-05T14:44:20.148119Z",
     "shell.execute_reply": "2021-05-05T14:44:20.147444Z"
    }
   },
   "outputs": [
    {
     "name": "stdout",
     "output_type": "stream",
     "text": [
      "palabra\n",
      "a\n",
      "pal\n",
      "abra\n"
     ]
    }
   ],
   "source": [
    "palabra = 'palabra'\n",
    "print(palabra)\n",
    "print(palabra[3])\n",
    "print(palabra[:3])\n",
    "print(palabra[3:])"
   ]
  },
  {
   "cell_type": "code",
   "execution_count": 54,
   "id": "4610fa4b",
   "metadata": {
    "execution": {
     "iopub.execute_input": "2021-05-05T14:44:20.155145Z",
     "iopub.status.busy": "2021-05-05T14:44:20.153937Z",
     "iopub.status.idle": "2021-05-05T14:44:20.157749Z",
     "shell.execute_reply": "2021-05-05T14:44:20.158362Z"
    }
   },
   "outputs": [
    {
     "name": "stdout",
     "output_type": "stream",
     "text": [
      "(0, 1, 2, 3, 4)\n",
      "(0, 1)\n",
      "(2, 3, 4)\n"
     ]
    }
   ],
   "source": [
    "tupla = (0, 1, 2, 3, 4)\n",
    "\n",
    "print(tupla)\n",
    "print(tupla[:2])\n",
    "print(tupla[2:])"
   ]
  },
  {
   "cell_type": "markdown",
   "id": "18caeb70",
   "metadata": {
    "slideshow": {
     "slide_type": "slide"
    }
   },
   "source": [
    "#### Diccionarios de Python\n",
    "\n",
    "Son como hashmaps, las claves deben ser inmutables para que no pierda sentido el diccionario. Si se pudieran modificar, se podrían cambiar las claves y generaría conflictos.\n",
    "\n",
    "Tipos mutables:\n",
    "- Listas\n",
    "- Diccionarios\n",
    "- Sets\n",
    "\n",
    "Tipos inmutables:\n",
    "- Int\n",
    "- Float\n",
    "- String\n",
    "- Tuplas\n"
   ]
  },
  {
   "cell_type": "code",
   "execution_count": 55,
   "id": "d4978ba9",
   "metadata": {
    "execution": {
     "iopub.execute_input": "2021-05-05T14:44:20.164501Z",
     "iopub.status.busy": "2021-05-05T14:44:20.163354Z",
     "iopub.status.idle": "2021-05-05T14:44:20.168132Z",
     "shell.execute_reply": "2021-05-05T14:44:20.167395Z"
    },
    "slideshow": {
     "slide_type": "slide"
    }
   },
   "outputs": [
    {
     "data": {
      "text/plain": [
       "{}"
      ]
     },
     "execution_count": 1,
     "metadata": {},
     "output_type": "execute_result"
    }
   ],
   "source": [
    "diccionario = {}\n",
    "diccionario"
   ]
  },
  {
   "cell_type": "code",
   "execution_count": 56,
   "id": "49c573c7",
   "metadata": {
    "execution": {
     "iopub.execute_input": "2021-05-05T14:44:20.173251Z",
     "iopub.status.busy": "2021-05-05T14:44:20.172600Z",
     "iopub.status.idle": "2021-05-05T14:44:20.174895Z",
     "shell.execute_reply": "2021-05-05T14:44:20.175570Z"
    }
   },
   "outputs": [
    {
     "data": {
      "text/plain": [
       "{}"
      ]
     },
     "execution_count": 1,
     "metadata": {},
     "output_type": "execute_result"
    }
   ],
   "source": [
    "diccionario = dict()\n",
    "diccionario"
   ]
  },
  {
   "cell_type": "code",
   "execution_count": 57,
   "id": "b870e360",
   "metadata": {
    "execution": {
     "iopub.execute_input": "2021-05-05T14:44:20.180080Z",
     "iopub.status.busy": "2021-05-05T14:44:20.179451Z",
     "iopub.status.idle": "2021-05-05T14:44:20.181490Z",
     "shell.execute_reply": "2021-05-05T14:44:20.182089Z"
    },
    "slideshow": {
     "slide_type": "slide"
    }
   },
   "outputs": [
    {
     "name": "stdout",
     "output_type": "stream",
     "text": [
      "{'clave1': 'valor1', 2: 'valor2', 'clave3': 3}\n"
     ]
    }
   ],
   "source": [
    "# Cómo agregar cosas al diccionario\n",
    "diccionario['clave1'] = 'valor1'\n",
    "diccionario[2] = 'valor2'\n",
    "diccionario['clave3'] = 3\n",
    "print(diccionario)"
   ]
  },
  {
   "cell_type": "markdown",
   "id": "0fda4b9f",
   "metadata": {},
   "source": [
    "Hay dos formas de obtener valores de un diccionario:\n",
    "\n",
    "```python\n",
    "diccionario[clave]\n",
    "```\n",
    "\n",
    "El cual devuelve el valor si existe la clave suministrada o bien lanza `KeyError` si no existe."
   ]
  },
  {
   "cell_type": "code",
   "execution_count": 58,
   "id": "1523f45f",
   "metadata": {
    "execution": {
     "iopub.execute_input": "2021-05-05T14:44:20.186693Z",
     "iopub.status.busy": "2021-05-05T14:44:20.185688Z",
     "iopub.status.idle": "2021-05-05T14:44:20.189276Z",
     "shell.execute_reply": "2021-05-05T14:44:20.189869Z"
    }
   },
   "outputs": [
    {
     "data": {
      "text/plain": [
       "'valor1'"
      ]
     },
     "execution_count": 1,
     "metadata": {},
     "output_type": "execute_result"
    }
   ],
   "source": [
    "diccionario['clave1']"
   ]
  },
  {
   "cell_type": "code",
   "execution_count": 59,
   "id": "d8b6d474",
   "metadata": {
    "execution": {
     "iopub.execute_input": "2021-05-05T14:44:20.193415Z",
     "iopub.status.busy": "2021-05-05T14:44:20.192726Z",
     "iopub.status.idle": "2021-05-05T14:44:20.199043Z",
     "shell.execute_reply": "2021-05-05T14:44:20.199551Z"
    },
    "tags": [
     "raises-exception"
    ]
   },
   "outputs": [
    {
     "ename": "KeyError",
     "evalue": "'clave1000'",
     "output_type": "error",
     "traceback": [
      "\u001b[0;31m---------------------------------------------------------------------------\u001b[0m",
      "\u001b[0;31mKeyError\u001b[0m                                  Traceback (most recent call last)",
      "\u001b[0;32m<ipython-input-1-41aae9a2e5ed>\u001b[0m in \u001b[0;36m<module>\u001b[0;34m\u001b[0m\n\u001b[0;32m----> 1\u001b[0;31m \u001b[0mdiccionario\u001b[0m\u001b[0;34m[\u001b[0m\u001b[0;34m'clave1000'\u001b[0m\u001b[0;34m]\u001b[0m\u001b[0;34m\u001b[0m\u001b[0;34m\u001b[0m\u001b[0m\n\u001b[0m",
      "\u001b[0;31mKeyError\u001b[0m: 'clave1000'"
     ]
    }
   ],
   "source": [
    "diccionario['clave1000']"
   ]
  },
  {
   "cell_type": "markdown",
   "id": "908b1672",
   "metadata": {},
   "source": [
    "La segunda forma es con `get`:"
   ]
  },
  {
   "cell_type": "code",
   "execution_count": 60,
   "id": "00ca3ed1",
   "metadata": {
    "execution": {
     "iopub.execute_input": "2021-05-05T14:44:20.233139Z",
     "iopub.status.busy": "2021-05-05T14:44:20.228007Z",
     "iopub.status.idle": "2021-05-05T14:44:20.260869Z",
     "shell.execute_reply": "2021-05-05T14:44:20.260154Z"
    }
   },
   "outputs": [],
   "source": [
    "diccionario.get?"
   ]
  },
  {
   "cell_type": "code",
   "execution_count": 61,
   "id": "e61b8dd3",
   "metadata": {
    "execution": {
     "iopub.execute_input": "2021-05-05T14:44:20.268207Z",
     "iopub.status.busy": "2021-05-05T14:44:20.267504Z",
     "iopub.status.idle": "2021-05-05T14:44:20.270165Z",
     "shell.execute_reply": "2021-05-05T14:44:20.268776Z"
    }
   },
   "outputs": [
    {
     "name": "stdout",
     "output_type": "stream",
     "text": [
      "Help on built-in function get:\n",
      "\n",
      "get(key, default=None, /) method of builtins.dict instance\n",
      "    Return the value for key if key is in the dictionary, else default.\n",
      "\n"
     ]
    }
   ],
   "source": [
    "help(diccionario.get)"
   ]
  },
  {
   "cell_type": "code",
   "execution_count": 62,
   "id": "6de4a1b1",
   "metadata": {
    "execution": {
     "iopub.execute_input": "2021-05-05T14:44:20.275958Z",
     "iopub.status.busy": "2021-05-05T14:44:20.274255Z",
     "iopub.status.idle": "2021-05-05T14:44:20.278171Z",
     "shell.execute_reply": "2021-05-05T14:44:20.277540Z"
    },
    "slideshow": {
     "slide_type": "slide"
    }
   },
   "outputs": [
    {
     "name": "stdout",
     "output_type": "stream",
     "text": [
      "None\n"
     ]
    }
   ],
   "source": [
    "print(diccionario.get('clave1000'))"
   ]
  },
  {
   "cell_type": "code",
   "execution_count": 63,
   "id": "0d87d092",
   "metadata": {
    "execution": {
     "iopub.execute_input": "2021-05-05T14:44:20.284277Z",
     "iopub.status.busy": "2021-05-05T14:44:20.282472Z",
     "iopub.status.idle": "2021-05-05T14:44:20.286445Z",
     "shell.execute_reply": "2021-05-05T14:44:20.285886Z"
    },
    "slideshow": {
     "slide_type": "slide"
    }
   },
   "outputs": [
    {
     "name": "stdout",
     "output_type": "stream",
     "text": [
      "True\n"
     ]
    }
   ],
   "source": [
    "print('clave1' in diccionario)  # Verifico si la clave está en el diccionario"
   ]
  },
  {
   "cell_type": "code",
   "execution_count": 64,
   "id": "09b41f3b",
   "metadata": {
    "execution": {
     "iopub.execute_input": "2021-05-05T14:44:20.292442Z",
     "iopub.status.busy": "2021-05-05T14:44:20.291284Z",
     "iopub.status.idle": "2021-05-05T14:44:20.294694Z",
     "shell.execute_reply": "2021-05-05T14:44:20.295682Z"
    }
   },
   "outputs": [
    {
     "data": {
      "text/plain": [
       "True"
      ]
     },
     "execution_count": 1,
     "metadata": {},
     "output_type": "execute_result"
    }
   ],
   "source": [
    "l = [1, 2, 3, 4]\n",
    "2 in l"
   ]
  },
  {
   "cell_type": "code",
   "execution_count": 65,
   "id": "d75ce0ac",
   "metadata": {
    "execution": {
     "iopub.execute_input": "2021-05-05T14:44:20.302304Z",
     "iopub.status.busy": "2021-05-05T14:44:20.300806Z",
     "iopub.status.idle": "2021-05-05T14:44:20.304406Z",
     "shell.execute_reply": "2021-05-05T14:44:20.303893Z"
    }
   },
   "outputs": [
    {
     "name": "stdout",
     "output_type": "stream",
     "text": [
      "la clave es clave1 y el valor es valor1\n",
      "la clave es 2 y el valor es valor2\n",
      "la clave es clave3 y el valor es 3\n"
     ]
    }
   ],
   "source": [
    "for clave, valor in diccionario.items():\n",
    "    print(\"la clave es %s y el valor es %s\" % (clave, valor))"
   ]
  },
  {
   "cell_type": "code",
   "execution_count": 66,
   "id": "d6ec3166",
   "metadata": {
    "execution": {
     "iopub.execute_input": "2021-05-05T14:44:20.310548Z",
     "iopub.status.busy": "2021-05-05T14:44:20.309152Z",
     "iopub.status.idle": "2021-05-05T14:44:20.312648Z",
     "shell.execute_reply": "2021-05-05T14:44:20.312079Z"
    }
   },
   "outputs": [
    {
     "name": "stdout",
     "output_type": "stream",
     "text": [
      "la clave es clave1 y el valor es valor1\n",
      "la clave es 2 y el valor es valor2\n",
      "la clave es clave3 y el valor es 3\n"
     ]
    }
   ],
   "source": [
    "for clave, valor in diccionario.items():\n",
    "    print(\"la clave es {} y el valor es {}\".format(clave, valor))"
   ]
  },
  {
   "cell_type": "code",
   "execution_count": 67,
   "id": "49b993dc",
   "metadata": {
    "execution": {
     "iopub.execute_input": "2021-05-05T14:44:20.318231Z",
     "iopub.status.busy": "2021-05-05T14:44:20.317500Z",
     "iopub.status.idle": "2021-05-05T14:44:20.319901Z",
     "shell.execute_reply": "2021-05-05T14:44:20.320382Z"
    },
    "slideshow": {
     "slide_type": "slide"
    }
   },
   "outputs": [
    {
     "name": "stdout",
     "output_type": "stream",
     "text": [
      "la clave es clave1 y el valor es valor1\n",
      "la clave es 2 y el valor es valor2\n",
      "la clave es clave3 y el valor es 3\n"
     ]
    }
   ],
   "source": [
    "# Cómo iterar un diccionario elemento por elemento\n",
    "for (\n",
    "    clave,\n",
    "    valor,\n",
    ") in (\n",
    "    diccionario.items()\n",
    "):  # diccionario.items() va devolviendo tuplas con el formato (clave,valor)\n",
    "    print(\n",
    "        f\"la clave es {clave} y el valor es {valor}\"\n",
    "    )  # con esta sintaxis se desempaquetan en clave y valor (similar a enumerate)"
   ]
  },
  {
   "cell_type": "code",
   "execution_count": 68,
   "id": "473f709d",
   "metadata": {
    "execution": {
     "iopub.execute_input": "2021-05-05T14:44:20.324877Z",
     "iopub.status.busy": "2021-05-05T14:44:20.324256Z",
     "iopub.status.idle": "2021-05-05T14:44:20.326892Z",
     "shell.execute_reply": "2021-05-05T14:44:20.327387Z"
    },
    "slideshow": {
     "slide_type": "slide"
    }
   },
   "outputs": [
    {
     "name": "stdout",
     "output_type": "stream",
     "text": [
      "clave1\n",
      "2\n",
      "clave3\n"
     ]
    }
   ],
   "source": [
    "for clave in diccionario.keys():\n",
    "    print(clave)"
   ]
  },
  {
   "cell_type": "code",
   "execution_count": 69,
   "id": "8ecedee6",
   "metadata": {
    "execution": {
     "iopub.execute_input": "2021-05-05T14:44:20.332668Z",
     "iopub.status.busy": "2021-05-05T14:44:20.332005Z",
     "iopub.status.idle": "2021-05-05T14:44:20.334135Z",
     "shell.execute_reply": "2021-05-05T14:44:20.334659Z"
    },
    "slideshow": {
     "slide_type": "slide"
    }
   },
   "outputs": [
    {
     "name": "stdout",
     "output_type": "stream",
     "text": [
      "valor1\n",
      "valor2\n",
      "3\n"
     ]
    }
   ],
   "source": [
    "for valor in diccionario.values():\n",
    "    print(valor)"
   ]
  },
  {
   "cell_type": "markdown",
   "id": "9d1368ba",
   "metadata": {},
   "source": [
    "#### Sets\n",
    "\n",
    "Son similares a los diccionarios (en eficiencia) pero se almacenan solo claves, y tienen algunas operaciones particulares.\n",
    "\n",
    "En particular, no pueden tener elementos iguales (pensar que son conjuntos)"
   ]
  },
  {
   "cell_type": "code",
   "execution_count": 70,
   "id": "c8c7259b",
   "metadata": {
    "execution": {
     "iopub.execute_input": "2021-05-05T14:44:20.338997Z",
     "iopub.status.busy": "2021-05-05T14:44:20.338299Z",
     "iopub.status.idle": "2021-05-05T14:44:20.342752Z",
     "shell.execute_reply": "2021-05-05T14:44:20.343291Z"
    }
   },
   "outputs": [],
   "source": [
    "set??"
   ]
  },
  {
   "cell_type": "code",
   "execution_count": 71,
   "id": "70927170",
   "metadata": {
    "execution": {
     "iopub.execute_input": "2021-05-05T14:44:20.349432Z",
     "iopub.status.busy": "2021-05-05T14:44:20.348016Z",
     "iopub.status.idle": "2021-05-05T14:44:20.351615Z",
     "shell.execute_reply": "2021-05-05T14:44:20.351048Z"
    }
   },
   "outputs": [
    {
     "data": {
      "text/plain": [
       "{1, 2, 3}"
      ]
     },
     "execution_count": 1,
     "metadata": {},
     "output_type": "execute_result"
    }
   ],
   "source": [
    "# Se definen como los diccionarios pero sin hacerlos 'clave:valor', solamente una seguidilla de elementos\n",
    "{1, 2, 2, 3}"
   ]
  },
  {
   "cell_type": "code",
   "execution_count": 72,
   "id": "aa3ec346",
   "metadata": {
    "execution": {
     "iopub.execute_input": "2021-05-05T14:44:20.357338Z",
     "iopub.status.busy": "2021-05-05T14:44:20.354233Z",
     "iopub.status.idle": "2021-05-05T14:44:20.360121Z",
     "shell.execute_reply": "2021-05-05T14:44:20.360723Z"
    }
   },
   "outputs": [
    {
     "data": {
      "text/plain": [
       "{1, 2, 3}"
      ]
     },
     "execution_count": 1,
     "metadata": {},
     "output_type": "execute_result"
    }
   ],
   "source": [
    "set([1, 2, 2, 3])"
   ]
  },
  {
   "cell_type": "markdown",
   "id": "d8db6ce4",
   "metadata": {},
   "source": [
    "## Condicionales (if...elif...else)\n",
    "\n",
    "```python\n",
    "if <condición_1>:\n",
    "    <hacer algo_1 si se da la condición_1>\n",
    "elif <condición_2>:\n",
    "    <hacer algo_2 si se da la condición_2>\n",
    "...\n",
    "elif <condición_n>:\n",
    "    <hacer algo_n si se da la condición_n>\n",
    "else:\n",
    "    <hacer otra cosa si no dan las anteriores>\n",
    "```\n",
    "\n",
    "Algo importante para notar es que los bloques se definen por **niveles de identacion**."
   ]
  },
  {
   "cell_type": "code",
   "execution_count": 73,
   "id": "ae7deda0",
   "metadata": {
    "execution": {
     "iopub.execute_input": "2021-05-05T14:44:20.367180Z",
     "iopub.status.busy": "2021-05-05T14:44:20.365773Z",
     "iopub.status.idle": "2021-05-05T14:44:20.369396Z",
     "shell.execute_reply": "2021-05-05T14:44:20.368836Z"
    }
   },
   "outputs": [
    {
     "name": "stdout",
     "output_type": "stream",
     "text": [
      "uno\n"
     ]
    }
   ],
   "source": [
    "v = 1\n",
    "if v == 1:\n",
    "    print(\"uno\")\n",
    "elif v == 2:\n",
    "    print(\"dos\")\n",
    "else:\n",
    "    print(\"ni idea\")\n",
    "    print(v)"
   ]
  },
  {
   "cell_type": "markdown",
   "id": "fb27951a",
   "metadata": {},
   "source": [
    "## Iteraciones\n",
    "\n",
    "```python\n",
    "while cond:\n",
    "    <codigo>\n",
    "```\n",
    "\n",
    "```python\n",
    "for elemento in iterable:\n",
    "    <codigo>\n",
    "```\n",
    "\n",
    "Para iterar sobre un rango de valores, usamos `range`"
   ]
  },
  {
   "cell_type": "code",
   "execution_count": 74,
   "id": "b9f3ce05",
   "metadata": {
    "execution": {
     "iopub.execute_input": "2021-05-05T14:44:20.375559Z",
     "iopub.status.busy": "2021-05-05T14:44:20.374357Z",
     "iopub.status.idle": "2021-05-05T14:44:20.377429Z",
     "shell.execute_reply": "2021-05-05T14:44:20.377893Z"
    }
   },
   "outputs": [
    {
     "name": "stdout",
     "output_type": "stream",
     "text": [
      "1\n",
      "4\n",
      "7\n",
      "10\n"
     ]
    }
   ],
   "source": [
    "for i in range(1, 11, 3):\n",
    "    print(i)"
   ]
  },
  {
   "cell_type": "markdown",
   "id": "f7cb893e",
   "metadata": {},
   "source": [
    "## Operadores logicos\n",
    "\n",
    "`not`, `or`, `and`"
   ]
  },
  {
   "cell_type": "code",
   "execution_count": 75,
   "id": "cf29c789",
   "metadata": {
    "execution": {
     "iopub.execute_input": "2021-05-05T14:44:20.383875Z",
     "iopub.status.busy": "2021-05-05T14:44:20.382561Z",
     "iopub.status.idle": "2021-05-05T14:44:20.385956Z",
     "shell.execute_reply": "2021-05-05T14:44:20.385414Z"
    }
   },
   "outputs": [
    {
     "name": "stdout",
     "output_type": "stream",
     "text": [
      "yay\n"
     ]
    }
   ],
   "source": [
    "if True or False:\n",
    "    print(\"yay\")"
   ]
  },
  {
   "cell_type": "code",
   "execution_count": 76,
   "id": "a90c764e",
   "metadata": {
    "execution": {
     "iopub.execute_input": "2021-05-05T14:44:20.390947Z",
     "iopub.status.busy": "2021-05-05T14:44:20.390338Z",
     "iopub.status.idle": "2021-05-05T14:44:20.393435Z",
     "shell.execute_reply": "2021-05-05T14:44:20.393946Z"
    }
   },
   "outputs": [
    {
     "data": {
      "text/plain": [
       "False"
      ]
     },
     "execution_count": 1,
     "metadata": {},
     "output_type": "execute_result"
    }
   ],
   "source": [
    "1 == 2"
   ]
  },
  {
   "cell_type": "code",
   "execution_count": 77,
   "id": "d286fbeb",
   "metadata": {
    "execution": {
     "iopub.execute_input": "2021-05-05T14:44:20.398272Z",
     "iopub.status.busy": "2021-05-05T14:44:20.397569Z",
     "iopub.status.idle": "2021-05-05T14:44:20.400971Z",
     "shell.execute_reply": "2021-05-05T14:44:20.400452Z"
    }
   },
   "outputs": [
    {
     "data": {
      "text/plain": [
       "True"
      ]
     },
     "execution_count": 1,
     "metadata": {},
     "output_type": "execute_result"
    }
   ],
   "source": [
    "1 != 2"
   ]
  },
  {
   "cell_type": "markdown",
   "id": "4d1844a8",
   "metadata": {
    "slideshow": {
     "slide_type": "slide"
    }
   },
   "source": [
    "## Funciones en Python"
   ]
  },
  {
   "cell_type": "code",
   "execution_count": 78,
   "id": "10790ca4",
   "metadata": {
    "execution": {
     "iopub.execute_input": "2021-05-05T14:44:20.409224Z",
     "iopub.status.busy": "2021-05-05T14:44:20.408379Z",
     "iopub.status.idle": "2021-05-05T14:44:20.410715Z",
     "shell.execute_reply": "2021-05-05T14:44:20.411310Z"
    },
    "slideshow": {
     "slide_type": "slide"
    }
   },
   "outputs": [
    {
     "name": "stdout",
     "output_type": "stream",
     "text": [
      "True\n",
      "False\n"
     ]
    }
   ],
   "source": [
    "def busqueda_binaria(lista, elemento):\n",
    "    if not lista:\n",
    "        return False\n",
    "    elif len(lista) == 1:\n",
    "        return lista[0] == elemento\n",
    "    mitad = len(lista) // 2  # // es la operación división entera\n",
    "    if lista[mitad] == elemento:\n",
    "        return True\n",
    "    if lista[mitad] > elemento:\n",
    "        return busqueda_binaria(lista[:mitad], elemento)\n",
    "    if lista[mitad] < elemento:\n",
    "        return busqueda_binaria(lista[mitad:], elemento)\n",
    "\n",
    "\n",
    "print(busqueda_binaria([1, 2, 3, 4, 5], 4))\n",
    "print(busqueda_binaria([1, 4, 6, 7, 9, 10], 2))"
   ]
  },
  {
   "cell_type": "code",
   "execution_count": 79,
   "id": "5bb869a2",
   "metadata": {
    "execution": {
     "iopub.execute_input": "2021-05-05T14:44:20.415496Z",
     "iopub.status.busy": "2021-05-05T14:44:20.414784Z",
     "iopub.status.idle": "2021-05-05T14:44:20.417949Z",
     "shell.execute_reply": "2021-05-05T14:44:20.418578Z"
    }
   },
   "outputs": [
    {
     "name": "stdout",
     "output_type": "stream",
     "text": [
      "(3, 3, 3)\n"
     ]
    }
   ],
   "source": [
    "def a(b):\n",
    "    if a == 1:\n",
    "        print(a)\n",
    "    return (b, b, b)\n",
    "\n",
    "\n",
    "print(a(3))"
   ]
  },
  {
   "cell_type": "code",
   "execution_count": 80,
   "id": "4487ef9e",
   "metadata": {
    "execution": {
     "iopub.execute_input": "2021-05-05T14:44:20.425427Z",
     "iopub.status.busy": "2021-05-05T14:44:20.424439Z",
     "iopub.status.idle": "2021-05-05T14:44:20.434028Z",
     "shell.execute_reply": "2021-05-05T14:44:20.434615Z"
    },
    "lines_to_next_cell": 2,
    "slideshow": {
     "slide_type": "slide"
    },
    "tags": [
     "raises-exception"
    ]
   },
   "outputs": [
    {
     "name": "stdout",
     "output_type": "stream",
     "text": [
      "3\n",
      "3.0\n",
      "3.0\n",
      "hola como te va\n",
      "[1, 2, 3, 4, 5]\n"
     ]
    },
    {
     "ename": "TypeError",
     "evalue": "can only concatenate str (not \"int\") to str",
     "output_type": "error",
     "traceback": [
      "\u001b[0;31m---------------------------------------------------------------------------\u001b[0m",
      "\u001b[0;31mTypeError\u001b[0m                                 Traceback (most recent call last)",
      "\u001b[0;32m<ipython-input-1-c2a6a99a90c7>\u001b[0m in \u001b[0;36m<module>\u001b[0;34m\u001b[0m\n\u001b[1;32m      8\u001b[0m \u001b[0mprint\u001b[0m\u001b[0;34m(\u001b[0m\u001b[0msuma\u001b[0m\u001b[0;34m(\u001b[0m\u001b[0;34m\"hola \"\u001b[0m\u001b[0;34m,\u001b[0m \u001b[0;34m\"como te va\"\u001b[0m\u001b[0;34m)\u001b[0m\u001b[0;34m)\u001b[0m\u001b[0;34m\u001b[0m\u001b[0;34m\u001b[0m\u001b[0m\n\u001b[1;32m      9\u001b[0m \u001b[0mprint\u001b[0m\u001b[0;34m(\u001b[0m\u001b[0msuma\u001b[0m\u001b[0;34m(\u001b[0m\u001b[0;34m[\u001b[0m\u001b[0;36m1\u001b[0m\u001b[0;34m,\u001b[0m \u001b[0;36m2\u001b[0m\u001b[0;34m,\u001b[0m \u001b[0;36m3\u001b[0m\u001b[0;34m]\u001b[0m\u001b[0;34m,\u001b[0m \u001b[0;34m[\u001b[0m\u001b[0;36m4\u001b[0m\u001b[0;34m,\u001b[0m \u001b[0;36m5\u001b[0m\u001b[0;34m]\u001b[0m\u001b[0;34m)\u001b[0m\u001b[0;34m)\u001b[0m\u001b[0;34m\u001b[0m\u001b[0;34m\u001b[0m\u001b[0m\n\u001b[0;32m---> 10\u001b[0;31m \u001b[0mprint\u001b[0m\u001b[0;34m(\u001b[0m\u001b[0msuma\u001b[0m\u001b[0;34m(\u001b[0m\u001b[0;34m\"1\"\u001b[0m\u001b[0;34m,\u001b[0m \u001b[0;36m3\u001b[0m\u001b[0;34m)\u001b[0m\u001b[0;34m)\u001b[0m  \u001b[0;31m# Falla\u001b[0m\u001b[0;34m\u001b[0m\u001b[0;34m\u001b[0m\u001b[0m\n\u001b[0m",
      "\u001b[0;32m<ipython-input-1-c2a6a99a90c7>\u001b[0m in \u001b[0;36msuma\u001b[0;34m(a, b)\u001b[0m\n\u001b[1;32m      1\u001b[0m \u001b[0;32mdef\u001b[0m \u001b[0msuma\u001b[0m\u001b[0;34m(\u001b[0m\u001b[0ma\u001b[0m\u001b[0;34m,\u001b[0m \u001b[0mb\u001b[0m\u001b[0;34m)\u001b[0m\u001b[0;34m:\u001b[0m\u001b[0;34m\u001b[0m\u001b[0;34m\u001b[0m\u001b[0m\n\u001b[0;32m----> 2\u001b[0;31m     \u001b[0;32mreturn\u001b[0m \u001b[0ma\u001b[0m \u001b[0;34m+\u001b[0m \u001b[0mb\u001b[0m\u001b[0;34m\u001b[0m\u001b[0;34m\u001b[0m\u001b[0m\n\u001b[0m\u001b[1;32m      3\u001b[0m \u001b[0;34m\u001b[0m\u001b[0m\n\u001b[1;32m      4\u001b[0m \u001b[0;34m\u001b[0m\u001b[0m\n\u001b[1;32m      5\u001b[0m \u001b[0mprint\u001b[0m\u001b[0;34m(\u001b[0m\u001b[0msuma\u001b[0m\u001b[0;34m(\u001b[0m\u001b[0;36m1\u001b[0m\u001b[0;34m,\u001b[0m \u001b[0;36m2\u001b[0m\u001b[0;34m)\u001b[0m\u001b[0;34m)\u001b[0m\u001b[0;34m\u001b[0m\u001b[0;34m\u001b[0m\u001b[0m\n",
      "\u001b[0;31mTypeError\u001b[0m: can only concatenate str (not \"int\") to str"
     ]
    }
   ],
   "source": [
    "def suma(a, b):\n",
    "    return a + b\n",
    "\n",
    "\n",
    "print(suma(1, 2))\n",
    "print(suma(1.0, 2.0))\n",
    "print(suma(1.0, 2))\n",
    "print(suma(\"hola \", \"como te va\"))\n",
    "print(suma([1, 2, 3], [4, 5]))\n",
    "print(suma(\"1\", 3))  # Falla"
   ]
  },
  {
   "cell_type": "code",
   "execution_count": 81,
   "id": "3abef737",
   "metadata": {
    "execution": {
     "iopub.execute_input": "2021-05-05T14:44:20.440625Z",
     "iopub.status.busy": "2021-05-05T14:44:20.439176Z",
     "iopub.status.idle": "2021-05-05T14:44:20.442828Z",
     "shell.execute_reply": "2021-05-05T14:44:20.442241Z"
    }
   },
   "outputs": [
    {
     "name": "stdout",
     "output_type": "stream",
     "text": [
      "2.0\n"
     ]
    }
   ],
   "source": [
    "# El valor por default de divisor es 1\n",
    "\n",
    "\n",
    "def division(dividendo, divisor=2):\n",
    "    return dividendo / divisor\n",
    "\n",
    "\n",
    "print(division(4))  # Usa el valor por default"
   ]
  },
  {
   "cell_type": "code",
   "execution_count": 82,
   "id": "2e0685b4",
   "metadata": {
    "execution": {
     "iopub.execute_input": "2021-05-05T14:44:20.451068Z",
     "iopub.status.busy": "2021-05-05T14:44:20.446515Z",
     "iopub.status.idle": "2021-05-05T14:44:20.454317Z",
     "shell.execute_reply": "2021-05-05T14:44:20.454886Z"
    },
    "tags": [
     "raises-exception"
    ]
   },
   "outputs": [
    {
     "name": "stdout",
     "output_type": "stream",
     "text": [
      "0.5\n",
      "0.5\n"
     ]
    },
    {
     "ename": "TypeError",
     "evalue": "division() missing 1 required positional argument: 'dividendo'",
     "output_type": "error",
     "traceback": [
      "\u001b[0;31m---------------------------------------------------------------------------\u001b[0m",
      "\u001b[0;31mTypeError\u001b[0m                                 Traceback (most recent call last)",
      "\u001b[0;32m<ipython-input-1-34eff3833138>\u001b[0m in \u001b[0;36m<module>\u001b[0;34m\u001b[0m\n\u001b[1;32m      1\u001b[0m \u001b[0mprint\u001b[0m\u001b[0;34m(\u001b[0m\u001b[0mdivision\u001b[0m\u001b[0;34m(\u001b[0m\u001b[0;36m1\u001b[0m\u001b[0;34m,\u001b[0m \u001b[0;36m2\u001b[0m\u001b[0;34m)\u001b[0m\u001b[0;34m)\u001b[0m  \u001b[0;31m# Parámetros por orden\u001b[0m\u001b[0;34m\u001b[0m\u001b[0;34m\u001b[0m\u001b[0m\n\u001b[1;32m      2\u001b[0m \u001b[0mprint\u001b[0m\u001b[0;34m(\u001b[0m\u001b[0mdivision\u001b[0m\u001b[0;34m(\u001b[0m\u001b[0mdividendo\u001b[0m\u001b[0;34m=\u001b[0m\u001b[0;36m1\u001b[0m\u001b[0;34m,\u001b[0m \u001b[0mdivisor\u001b[0m\u001b[0;34m=\u001b[0m\u001b[0;36m2\u001b[0m\u001b[0;34m)\u001b[0m\u001b[0;34m)\u001b[0m  \u001b[0;31m# Parámetros por nombre\u001b[0m\u001b[0;34m\u001b[0m\u001b[0;34m\u001b[0m\u001b[0m\n\u001b[0;32m----> 3\u001b[0;31m \u001b[0mprint\u001b[0m\u001b[0;34m(\u001b[0m\u001b[0mdivision\u001b[0m\u001b[0;34m(\u001b[0m\u001b[0mdivisor\u001b[0m\u001b[0;34m=\u001b[0m\u001b[0;36m2\u001b[0m\u001b[0;34m)\u001b[0m\u001b[0;34m)\u001b[0m\u001b[0;34m\u001b[0m\u001b[0;34m\u001b[0m\u001b[0m\n\u001b[0m",
      "\u001b[0;31mTypeError\u001b[0m: division() missing 1 required positional argument: 'dividendo'"
     ]
    }
   ],
   "source": [
    "print(division(1, 2))  # Parámetros por orden\n",
    "print(division(dividendo=1, divisor=2))  # Parámetros por nombre\n",
    "print(division(divisor=2))"
   ]
  },
  {
   "cell_type": "code",
   "execution_count": 83,
   "id": "9387bbd2",
   "metadata": {
    "execution": {
     "iopub.execute_input": "2021-05-05T14:44:20.460611Z",
     "iopub.status.busy": "2021-05-05T14:44:20.459447Z",
     "iopub.status.idle": "2021-05-05T14:44:20.462643Z",
     "shell.execute_reply": "2021-05-05T14:44:20.463194Z"
    }
   },
   "outputs": [
    {
     "name": "stdout",
     "output_type": "stream",
     "text": [
      "0.5\n"
     ]
    }
   ],
   "source": [
    "print(division(divisor=2, dividendo=1))"
   ]
  },
  {
   "cell_type": "code",
   "execution_count": 84,
   "id": "cb021d47",
   "metadata": {
    "execution": {
     "iopub.execute_input": "2021-05-05T14:44:20.470737Z",
     "iopub.status.busy": "2021-05-05T14:44:20.469267Z",
     "iopub.status.idle": "2021-05-05T14:44:20.472725Z",
     "shell.execute_reply": "2021-05-05T14:44:20.472152Z"
    }
   },
   "outputs": [
    {
     "name": "stdout",
     "output_type": "stream",
     "text": [
      "['a', 'b', 'c']\n",
      "[1, 2, 3]\n",
      "['hola', ' don', ' pepito']\n",
      "hola -  don -  pepito\n"
     ]
    }
   ],
   "source": [
    "# Funciones básicas ya en el lenguaje\n",
    "# Hechas para funcionar para distintos tipos\n",
    "\n",
    "string_ordenado = sorted('bca')\n",
    "print(string_ordenado)\n",
    "\n",
    "lista_ordenada = sorted([1, 3, 2])\n",
    "print(lista_ordenada)\n",
    "\n",
    "separadas = \"hola, don, pepito\".split(\",\")\n",
    "print(separadas)\n",
    "unidas = \" - \".join(separadas)\n",
    "print(unidas)"
   ]
  },
  {
   "cell_type": "markdown",
   "id": "7fbc1481",
   "metadata": {},
   "source": [
    "## Módulos\n",
    "\n",
    "Para incluir alguna biblioteca de funciones se usa `import`. Pueden ser cosas ya predefinidas en Python (`math`, `random`, etc), nombres de archivos en nuestro directorio (por ejemplo, para `mimodulo.py` ponemos `import mimodulo`) o bibliotecas instaladas por el usuario"
   ]
  },
  {
   "cell_type": "code",
   "execution_count": 85,
   "id": "48b5cdc3",
   "metadata": {
    "execution": {
     "iopub.execute_input": "2021-05-05T14:44:20.477421Z",
     "iopub.status.busy": "2021-05-05T14:44:20.476675Z",
     "iopub.status.idle": "2021-05-05T14:44:20.479076Z",
     "shell.execute_reply": "2021-05-05T14:44:20.479647Z"
    }
   },
   "outputs": [
    {
     "name": "stdout",
     "output_type": "stream",
     "text": [
      "3.141592653589793\n"
     ]
    }
   ],
   "source": [
    "import math\n",
    "\n",
    "print(math.pi)"
   ]
  },
  {
   "cell_type": "code",
   "execution_count": 86,
   "id": "31014cc7",
   "metadata": {
    "execution": {
     "iopub.execute_input": "2021-05-05T14:44:20.484013Z",
     "iopub.status.busy": "2021-05-05T14:44:20.483359Z",
     "iopub.status.idle": "2021-05-05T14:44:20.485694Z",
     "shell.execute_reply": "2021-05-05T14:44:20.486190Z"
    }
   },
   "outputs": [
    {
     "name": "stdout",
     "output_type": "stream",
     "text": [
      "3.141592653589793 2.718281828459045\n"
     ]
    }
   ],
   "source": [
    "from math import pi, e\n",
    "\n",
    "print(pi, e)"
   ]
  },
  {
   "cell_type": "code",
   "execution_count": 87,
   "id": "3df3cd93",
   "metadata": {
    "execution": {
     "iopub.execute_input": "2021-05-05T14:44:20.491136Z",
     "iopub.status.busy": "2021-05-05T14:44:20.490456Z",
     "iopub.status.idle": "2021-05-05T14:44:20.494134Z",
     "shell.execute_reply": "2021-05-05T14:44:20.493528Z"
    }
   },
   "outputs": [
    {
     "data": {
      "text/plain": [
       "2"
      ]
     },
     "execution_count": 1,
     "metadata": {},
     "output_type": "execute_result"
    }
   ],
   "source": [
    "math.gcd(56, 78)"
   ]
  },
  {
   "cell_type": "markdown",
   "id": "53531dfe",
   "metadata": {},
   "source": [
    "## Manejo de excepciones\n",
    "\n",
    "Se pueden encapsular errores esperados en un bloque 'try/except' para evitar cortar el flujo del programa"
   ]
  },
  {
   "cell_type": "code",
   "execution_count": 88,
   "id": "633b0b37",
   "metadata": {
    "execution": {
     "iopub.execute_input": "2021-05-05T14:44:20.504020Z",
     "iopub.status.busy": "2021-05-05T14:44:20.503391Z",
     "iopub.status.idle": "2021-05-05T14:44:20.506426Z",
     "shell.execute_reply": "2021-05-05T14:44:20.506986Z"
    },
    "tags": [
     "raises-exception"
    ]
   },
   "outputs": [
    {
     "ename": "ZeroDivisionError",
     "evalue": "division by zero",
     "output_type": "error",
     "traceback": [
      "\u001b[0;31m---------------------------------------------------------------------------\u001b[0m",
      "\u001b[0;31mZeroDivisionError\u001b[0m                         Traceback (most recent call last)",
      "\u001b[0;32m<ipython-input-1-f031f77b1a55>\u001b[0m in \u001b[0;36m<module>\u001b[0;34m\u001b[0m\n\u001b[0;32m----> 1\u001b[0;31m \u001b[0mdivision\u001b[0m\u001b[0;34m(\u001b[0m\u001b[0;36m1\u001b[0m\u001b[0;34m,\u001b[0m \u001b[0;36m0\u001b[0m\u001b[0;34m)\u001b[0m  \u001b[0;31m# No se puede dividir por cero\u001b[0m\u001b[0;34m\u001b[0m\u001b[0;34m\u001b[0m\u001b[0m\n\u001b[0m",
      "\u001b[0;32m<ipython-input-1-0d991d7de762>\u001b[0m in \u001b[0;36mdivision\u001b[0;34m(dividendo, divisor)\u001b[0m\n\u001b[1;32m      3\u001b[0m \u001b[0;34m\u001b[0m\u001b[0m\n\u001b[1;32m      4\u001b[0m \u001b[0;32mdef\u001b[0m \u001b[0mdivision\u001b[0m\u001b[0;34m(\u001b[0m\u001b[0mdividendo\u001b[0m\u001b[0;34m,\u001b[0m \u001b[0mdivisor\u001b[0m\u001b[0;34m=\u001b[0m\u001b[0;36m2\u001b[0m\u001b[0;34m)\u001b[0m\u001b[0;34m:\u001b[0m\u001b[0;34m\u001b[0m\u001b[0;34m\u001b[0m\u001b[0m\n\u001b[0;32m----> 5\u001b[0;31m     \u001b[0;32mreturn\u001b[0m \u001b[0mdividendo\u001b[0m \u001b[0;34m/\u001b[0m \u001b[0mdivisor\u001b[0m\u001b[0;34m\u001b[0m\u001b[0;34m\u001b[0m\u001b[0m\n\u001b[0m\u001b[1;32m      6\u001b[0m \u001b[0;34m\u001b[0m\u001b[0m\n\u001b[1;32m      7\u001b[0m \u001b[0;34m\u001b[0m\u001b[0m\n",
      "\u001b[0;31mZeroDivisionError\u001b[0m: division by zero"
     ]
    }
   ],
   "source": [
    "division(1, 0)  # No se puede dividir por cero"
   ]
  },
  {
   "cell_type": "code",
   "execution_count": 89,
   "id": "3b60a04b",
   "metadata": {
    "execution": {
     "iopub.execute_input": "2021-05-05T14:44:20.512900Z",
     "iopub.status.busy": "2021-05-05T14:44:20.512252Z",
     "iopub.status.idle": "2021-05-05T14:44:20.514431Z",
     "shell.execute_reply": "2021-05-05T14:44:20.515001Z"
    }
   },
   "outputs": [
    {
     "name": "stdout",
     "output_type": "stream",
     "text": [
      "No se puede dividir por cero, ojo! division by zero\n",
      "1\n"
     ]
    }
   ],
   "source": [
    "try:\n",
    "    division(1, 0)\n",
    "except (ZeroDivisionError, TypeError) as e:\n",
    "    print('No se puede dividir por cero, ojo!', e)\n",
    "finally:\n",
    "    print(1)"
   ]
  },
  {
   "cell_type": "markdown",
   "id": "1776b6cf",
   "metadata": {
    "slideshow": {
     "slide_type": "slide"
    }
   },
   "source": [
    "## Lectura y escritura de archivos"
   ]
  },
  {
   "cell_type": "code",
   "execution_count": 90,
   "id": "653b5007",
   "metadata": {
    "execution": {
     "iopub.execute_input": "2021-05-05T14:44:20.520757Z",
     "iopub.status.busy": "2021-05-05T14:44:20.520078Z",
     "iopub.status.idle": "2021-05-05T14:44:20.522873Z",
     "shell.execute_reply": "2021-05-05T14:44:20.523424Z"
    },
    "slideshow": {
     "slide_type": "slide"
    }
   },
   "outputs": [
    {
     "name": "stdout",
     "output_type": "stream",
     "text": [
      "<_io.TextIOWrapper name='archivo.csv' mode='w' encoding='UTF-8'>\n"
     ]
    }
   ],
   "source": [
    "import random\n",
    "\n",
    "with open(\n",
    "    'archivo.csv', 'w'\n",
    ") as archivo:  # Al usar esta sintaxis no es necesario hacer close\n",
    "    archivo.write(\"Alumno, nota\\n\")\n",
    "    # Tambien de forma similar al fprintf se puede hacer:\n",
    "    # print(\"Alumno, nota\\n\", file=archivo)\n",
    "    for i in range(0, 10):\n",
    "        archivo.write(f\"{i},{random.randrange(0,10)}\\n\")\n",
    "\n",
    "print(archivo)  # Comentario aclaratorio:\n",
    "# Las variables definidas en un determinado scope siguen existiendo por fuera del mismo.\n",
    "# Se debe tener cuidado con esto, ya que nada garantiza que por fuera el valor sea el esperado."
   ]
  },
  {
   "cell_type": "code",
   "execution_count": 91,
   "id": "0235f7e4",
   "metadata": {
    "execution": {
     "iopub.execute_input": "2021-05-05T14:44:20.528331Z",
     "iopub.status.busy": "2021-05-05T14:44:20.527680Z",
     "iopub.status.idle": "2021-05-05T14:44:20.531651Z",
     "shell.execute_reply": "2021-05-05T14:44:20.531068Z"
    },
    "slideshow": {
     "slide_type": "slide"
    }
   },
   "outputs": [
    {
     "name": "stdout",
     "output_type": "stream",
     "text": [
      "Alumno, nota\n",
      "0,2\n",
      "1,1\n",
      "2,1\n",
      "3,6\n",
      "4,9\n",
      "5,6\n",
      "6,2\n",
      "7,0\n",
      "8,6\n",
      "9,4\n"
     ]
    }
   ],
   "source": [
    "with open('archivo.csv', 'r') as f:\n",
    "    for linea in f:\n",
    "        print(linea.strip())"
   ]
  },
  {
   "cell_type": "code",
   "execution_count": 92,
   "id": "878bbb0a",
   "metadata": {
    "execution": {
     "iopub.execute_input": "2021-05-05T14:44:20.535602Z",
     "iopub.status.busy": "2021-05-05T14:44:20.534966Z",
     "iopub.status.idle": "2021-05-05T14:44:20.538042Z",
     "shell.execute_reply": "2021-05-05T14:44:20.538576Z"
    }
   },
   "outputs": [
    {
     "name": "stdout",
     "output_type": "stream",
     "text": [
      "Alumno, nota\n",
      "0,2\n",
      "1,1\n",
      "2,1\n",
      "3,6\n",
      "4,9\n",
      "5,6\n",
      "6,2\n",
      "7,0\n",
      "8,6\n",
      "9,4\n",
      "\n"
     ]
    }
   ],
   "source": [
    "with open('archivo.csv', 'r') as f:\n",
    "    print(f.read())"
   ]
  },
  {
   "cell_type": "code",
   "execution_count": 93,
   "id": "be954e34",
   "metadata": {
    "execution": {
     "iopub.execute_input": "2021-05-05T14:44:20.543060Z",
     "iopub.status.busy": "2021-05-05T14:44:20.542422Z",
     "iopub.status.idle": "2021-05-05T14:44:20.544951Z",
     "shell.execute_reply": "2021-05-05T14:44:20.544384Z"
    }
   },
   "outputs": [],
   "source": [
    "f = open('archivo.csv', 'w')\n",
    "f.write(\"algo, algo\")\n",
    "f.close()"
   ]
  },
  {
   "cell_type": "markdown",
   "id": "d9cec771",
   "metadata": {
    "slideshow": {
     "slide_type": "slide"
    }
   },
   "source": [
    "## Objetos\n",
    "\n",
    "Los objetos tienen metodos y atributos:\n",
    "- Atributos: equivalentes a variables.\n",
    "- Métodos: equivalentes a las primitivas."
   ]
  },
  {
   "cell_type": "markdown",
   "id": "39291105",
   "metadata": {
    "slideshow": {
     "slide_type": "slide"
    }
   },
   "source": [
    "### Cómo creo una clase"
   ]
  },
  {
   "cell_type": "code",
   "execution_count": 94,
   "id": "f7a52141",
   "metadata": {
    "execution": {
     "iopub.execute_input": "2021-05-05T14:44:20.552354Z",
     "iopub.status.busy": "2021-05-05T14:44:20.550897Z",
     "iopub.status.idle": "2021-05-05T14:44:20.553085Z",
     "shell.execute_reply": "2021-05-05T14:44:20.553640Z"
    },
    "slideshow": {
     "slide_type": "slide"
    }
   },
   "outputs": [],
   "source": [
    "class Nodo(object):\n",
    "    def __init__(self, dato, siguiente=None):\n",
    "        self._dato = dato\n",
    "        self._siguiente = siguiente\n",
    "\n",
    "    @property\n",
    "    def dato(self):\n",
    "        return self._dato\n",
    "\n",
    "    @property\n",
    "    def proximo(self):\n",
    "        return self._siguiente\n",
    "\n",
    "    @proximo.setter\n",
    "    def proximo(self, siguiente):\n",
    "        self._siguiente = siguiente\n",
    "\n",
    "    def __repr__(self):\n",
    "        return str(self.dato)\n",
    "\n",
    "    def __str__(self):\n",
    "        return str(self.dato)"
   ]
  },
  {
   "cell_type": "code",
   "execution_count": 95,
   "id": "9ecc277a",
   "metadata": {
    "execution": {
     "iopub.execute_input": "2021-05-05T14:44:20.558389Z",
     "iopub.status.busy": "2021-05-05T14:44:20.557705Z",
     "iopub.status.idle": "2021-05-05T14:44:20.559957Z",
     "shell.execute_reply": "2021-05-05T14:44:20.560523Z"
    },
    "slideshow": {
     "slide_type": "slide"
    }
   },
   "outputs": [
    {
     "name": "stdout",
     "output_type": "stream",
     "text": [
      "hola\n"
     ]
    }
   ],
   "source": [
    "nodo = Nodo(\"hola\")\n",
    "print(nodo)"
   ]
  },
  {
   "cell_type": "code",
   "execution_count": 96,
   "id": "33e04917",
   "metadata": {
    "execution": {
     "iopub.execute_input": "2021-05-05T14:44:20.564974Z",
     "iopub.status.busy": "2021-05-05T14:44:20.564334Z",
     "iopub.status.idle": "2021-05-05T14:44:20.566558Z",
     "shell.execute_reply": "2021-05-05T14:44:20.567184Z"
    },
    "slideshow": {
     "slide_type": "slide"
    }
   },
   "outputs": [
    {
     "name": "stdout",
     "output_type": "stream",
     "text": [
      "[hola, lala]\n"
     ]
    }
   ],
   "source": [
    "nodo2 = Nodo(\"lala\")\n",
    "print([nodo, nodo2])"
   ]
  },
  {
   "cell_type": "code",
   "execution_count": 97,
   "id": "f602c3d3",
   "metadata": {
    "execution": {
     "iopub.execute_input": "2021-05-05T14:44:20.571918Z",
     "iopub.status.busy": "2021-05-05T14:44:20.571291Z",
     "iopub.status.idle": "2021-05-05T14:44:20.573387Z",
     "shell.execute_reply": "2021-05-05T14:44:20.573966Z"
    },
    "slideshow": {
     "slide_type": "slide"
    }
   },
   "outputs": [
    {
     "name": "stdout",
     "output_type": "stream",
     "text": [
      "hola\n"
     ]
    }
   ],
   "source": [
    "nodo3 = nodo.dato\n",
    "print(nodo3)"
   ]
  },
  {
   "cell_type": "markdown",
   "id": "498e8159",
   "metadata": {
    "slideshow": {
     "slide_type": "slide"
    }
   },
   "source": [
    "### Ejemplo: Lista Enlazada"
   ]
  },
  {
   "cell_type": "code",
   "execution_count": 98,
   "id": "110466cc",
   "metadata": {
    "execution": {
     "iopub.execute_input": "2021-05-05T14:44:20.584797Z",
     "iopub.status.busy": "2021-05-05T14:44:20.583407Z",
     "iopub.status.idle": "2021-05-05T14:44:20.585582Z",
     "shell.execute_reply": "2021-05-05T14:44:20.586132Z"
    },
    "slideshow": {
     "slide_type": "slide"
    }
   },
   "outputs": [],
   "source": [
    "class ListaEnlazada(object):\n",
    "    def __init__(self):\n",
    "        self._primero = None\n",
    "        self._ultimo = None\n",
    "        self._largo = 0\n",
    "\n",
    "    def __len__(self):\n",
    "        return self._largo\n",
    "\n",
    "    def insertar_al_principio(self, dato):\n",
    "        nodo = Nodo(dato, self._primero)\n",
    "        self._primero = nodo\n",
    "        self._largo += 1\n",
    "        if self._largo == 1:\n",
    "            self._ultimo = nodo\n",
    "\n",
    "    def insertar_al_final(self, dato):\n",
    "        if self._largo != 0:\n",
    "            nodo = Nodo(dato)\n",
    "            nodo_anterior = self._ultimo\n",
    "            nodo_anterior._siguiente = nodo\n",
    "            self._ultimo = nodo\n",
    "            self._largo += 1\n",
    "        else:\n",
    "            self.insertar_al_principio(dato)\n",
    "\n",
    "    @property\n",
    "    def primero(self):\n",
    "        return self._primero.dato\n",
    "\n",
    "    def borrar_primero(self):\n",
    "        dato = self.primero.dato\n",
    "        self._primero = self.primero.siguiente\n",
    "        self._largo -= 1\n",
    "        if self._largo == 0:\n",
    "            self._ultimo = None\n",
    "        return dato\n",
    "\n",
    "    def __str__(self):\n",
    "        datos = []\n",
    "        nodo_actual = self._primero\n",
    "        while nodo_actual:\n",
    "            datos.append(nodo_actual.dato)\n",
    "            nodo_actual = nodo_actual.proximo\n",
    "        return \" -> \".join(datos)\n",
    "\n",
    "    def __repr__(self):\n",
    "        return self.__str__()"
   ]
  },
  {
   "cell_type": "code",
   "execution_count": 99,
   "id": "913668d8",
   "metadata": {
    "execution": {
     "iopub.execute_input": "2021-05-05T14:44:20.593066Z",
     "iopub.status.busy": "2021-05-05T14:44:20.592393Z",
     "iopub.status.idle": "2021-05-05T14:44:20.604855Z",
     "shell.execute_reply": "2021-05-05T14:44:20.604274Z"
    },
    "slideshow": {
     "slide_type": "slide"
    }
   },
   "outputs": [
    {
     "data": {
      "text/plain": [
       "2"
      ]
     },
     "execution_count": 1,
     "metadata": {},
     "output_type": "execute_result"
    }
   ],
   "source": [
    "lista = ListaEnlazada()\n",
    "lista.insertar_al_principio(\"Primer Dato\")\n",
    "lista.insertar_al_principio(\"Primer primer Dato\")\n",
    "len(lista)"
   ]
  },
  {
   "cell_type": "code",
   "execution_count": 100,
   "id": "109da033",
   "metadata": {
    "execution": {
     "iopub.execute_input": "2021-05-05T14:44:20.610435Z",
     "iopub.status.busy": "2021-05-05T14:44:20.609099Z",
     "iopub.status.idle": "2021-05-05T14:44:20.613154Z",
     "shell.execute_reply": "2021-05-05T14:44:20.612450Z"
    }
   },
   "outputs": [
    {
     "data": {
      "text/plain": [
       "Primer primer Dato -> Primer Dato"
      ]
     },
     "execution_count": 1,
     "metadata": {},
     "output_type": "execute_result"
    }
   ],
   "source": [
    "lista"
   ]
  },
  {
   "cell_type": "code",
   "execution_count": 101,
   "id": "2c5b76b5",
   "metadata": {
    "execution": {
     "iopub.execute_input": "2021-05-05T14:44:20.619212Z",
     "iopub.status.busy": "2021-05-05T14:44:20.617578Z",
     "iopub.status.idle": "2021-05-05T14:44:20.621508Z",
     "shell.execute_reply": "2021-05-05T14:44:20.620911Z"
    },
    "slideshow": {
     "slide_type": "slide"
    }
   },
   "outputs": [
    {
     "name": "stdout",
     "output_type": "stream",
     "text": [
      "Primer primer Dato\n"
     ]
    }
   ],
   "source": [
    "elemento = lista.primero\n",
    "print(elemento)"
   ]
  },
  {
   "cell_type": "markdown",
   "id": "bda82a40",
   "metadata": {},
   "source": [
    "## Recursos\n",
    "\n",
    "* [Taller de Python de Algoritmos II](https://github.com/algoritmos-rw/algo2_apuntes)\n",
    "\n",
    "* [Documentación de Python 3](https://docs.python.org/3/tutorial/)\n",
    "\n",
    "* [Apunte de Algoritmos y Programación I](https://algoritmos1rw.ddns.net/material)\n",
    "\n",
    "* [Automate the Boring Stuff with Python](http://automatetheboringstuff.com/)\n",
    "\n",
    "* [Curso Python](https://pythoncurso.github.io)\n",
    "\n",
    "* [Python Tutor](http://pythontutor.com/)\n",
    "\n",
    "* [Learn Python3 in Y minutes](https://learnxinyminutes.com/docs/python3/)\n",
    "\n",
    "* [Bibliografía de Algoritmos y Programación I](https://algoritmos1rw.ddns.net/bibliografia)"
   ]
  }
 ],
 "metadata": {
  "jupytext": {
   "encoding": "# -*- coding: utf-8 -*-",
   "formats": "ipynb,py:light"
  },
  "kernelspec": {
   "display_name": "Python 3 (venv)",
   "language": "python",
   "name": "python3"
  },
  "language_info": {
   "codemirror_mode": {
    "name": "ipython",
    "version": 3
   },
   "file_extension": ".py",
   "mimetype": "text/x-python",
   "name": "python",
   "nbconvert_exporter": "python",
   "pygments_lexer": "ipython3",
   "version": "3.7.10"
  }
 },
 "nbformat": 4,
 "nbformat_minor": 5
}
