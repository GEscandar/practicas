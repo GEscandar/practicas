{
 "cells": [
  {
   "cell_type": "markdown",
   "id": "ebe2972e",
   "metadata": {},
   "source": [
    "# Python"
   ]
  },
  {
   "cell_type": "markdown",
   "id": "5fffc0e0",
   "metadata": {
    "slideshow": {
     "slide_type": "slide"
    }
   },
   "source": [
    "## Un poco de Historia"
   ]
  },
  {
   "cell_type": "markdown",
   "id": "e4301f18",
   "metadata": {
    "slideshow": {
     "slide_type": "subslide"
    }
   },
   "source": [
    "Python fue creado a finales de los años 80 por un programador holandés llamado **Guido van Rossum**,\n",
    "quien sigue siendo aún hoy el líder del desarrollo del lenguaje.\n",
    "\n",
    "(Edit julio 2018: [ya no más](https://www.mail-archive.com/python-committers@python.org/msg05628.html))"
   ]
  },
  {
   "cell_type": "markdown",
   "id": "7d97b9db",
   "metadata": {
    "slideshow": {
     "slide_type": "subslide"
    }
   },
   "source": [
    "El nombre del lenguaje proviene de los humoristas británicos Monty Python.\n",
    "\n",
    ">*\"I chose Python as a working title for the project, being in a slightly irreverent mood (and a big fan of Monty Python's Flying Circus).\"*"
   ]
  },
  {
   "cell_type": "markdown",
   "id": "3d058db2",
   "metadata": {
    "slideshow": {
     "slide_type": "slide"
    }
   },
   "source": [
    "## Caracteristicas\n",
    "\n",
    "- Interpretado\n",
    "- Tipado dinamico\n",
    "- Multiparadigma\n",
    "- Alto nivel\n",
    "- Tiene un recolector de basura (no hay malloc, free, realloc, etc)"
   ]
  },
  {
   "cell_type": "markdown",
   "id": "c24e90f1",
   "metadata": {},
   "source": [
    "## ¿Cómo empezar?\n",
    "\n",
    "* Al ser un lenguaje *interpretado*, se puede ir escribiendo a medida que se ejecuta, sin necesidad de compilar de antemano! Solamente hace falta escribir `python` o `python3` en una terminal para empezar\n",
    "\n",
    "* También, permite escribir archivos y correrlos. Crear un archivo con extensión `.py` y luego correr `python miarchivo.py` en laterminal"
   ]
  },
  {
   "cell_type": "markdown",
   "id": "8c114b1e",
   "metadata": {
    "slideshow": {
     "slide_type": "slide"
    }
   },
   "source": [
    "## El Zen de Python"
   ]
  },
  {
   "cell_type": "code",
   "execution_count": 1,
   "id": "b28676ab",
   "metadata": {
    "execution": {
     "iopub.execute_input": "2021-05-20T15:52:01.778185Z",
     "iopub.status.busy": "2021-05-20T15:52:01.777637Z",
     "iopub.status.idle": "2021-05-20T15:52:01.812665Z",
     "shell.execute_reply": "2021-05-20T15:52:01.813079Z"
    },
    "slideshow": {
     "slide_type": "slide"
    }
   },
   "outputs": [
    {
     "name": "stdout",
     "output_type": "stream",
     "text": [
      "The Zen of Python, by Tim Peters\n",
      "\n",
      "Beautiful is better than ugly.\n",
      "Explicit is better than implicit.\n",
      "Simple is better than complex.\n",
      "Complex is better than complicated.\n",
      "Flat is better than nested.\n",
      "Sparse is better than dense.\n",
      "Readability counts.\n",
      "Special cases aren't special enough to break the rules.\n",
      "Although practicality beats purity.\n",
      "Errors should never pass silently.\n",
      "Unless explicitly silenced.\n",
      "In the face of ambiguity, refuse the temptation to guess.\n",
      "There should be one-- and preferably only one --obvious way to do it.\n",
      "Although that way may not be obvious at first unless you're Dutch.\n",
      "Now is better than never.\n",
      "Although never is often better than *right* now.\n",
      "If the implementation is hard to explain, it's a bad idea.\n",
      "If the implementation is easy to explain, it may be a good idea.\n",
      "Namespaces are one honking great idea -- let's do more of those!\n"
     ]
    }
   ],
   "source": [
    "import this"
   ]
  },
  {
   "cell_type": "markdown",
   "id": "b79d8e8c",
   "metadata": {
    "slideshow": {
     "slide_type": "slide"
    }
   },
   "source": [
    "## Conocimientos Básicos de Python: Variables y Tipos"
   ]
  },
  {
   "cell_type": "code",
   "execution_count": 2,
   "id": "ea41c3e2",
   "metadata": {
    "execution": {
     "iopub.execute_input": "2021-05-20T15:52:01.818336Z",
     "iopub.status.busy": "2021-05-20T15:52:01.817405Z",
     "iopub.status.idle": "2021-05-20T15:52:01.820321Z",
     "shell.execute_reply": "2021-05-20T15:52:01.819885Z"
    },
    "slideshow": {
     "slide_type": "slide"
    }
   },
   "outputs": [
    {
     "name": "stdout",
     "output_type": "stream",
     "text": [
      "Hello World!\n"
     ]
    }
   ],
   "source": [
    "# Este es un comentario\n",
    "\n",
    "print(\"Hello World!\")"
   ]
  },
  {
   "cell_type": "markdown",
   "id": "b93fb1f4",
   "metadata": {},
   "source": [
    "Los strings en python puden escribirse tanto con comillas simples (`'`) como comillas dobles (`\"`). Normalmente vemos texto entre comillas triples para escribir _docstrings_, segun la guia de estilo de Python, el PEP8."
   ]
  },
  {
   "cell_type": "code",
   "execution_count": 3,
   "id": "01ee46ec",
   "metadata": {
    "execution": {
     "iopub.execute_input": "2021-05-20T15:52:01.830083Z",
     "iopub.status.busy": "2021-05-20T15:52:01.829154Z",
     "iopub.status.idle": "2021-05-20T15:52:01.832289Z",
     "shell.execute_reply": "2021-05-20T15:52:01.831844Z"
    }
   },
   "outputs": [
    {
     "data": {
      "text/plain": [
       "'Esto es un docstring.\\n'"
      ]
     },
     "execution_count": 1,
     "metadata": {},
     "output_type": "execute_result"
    }
   ],
   "source": [
    "\"\"\"Esto es un docstring.\n",
    "\"\"\""
   ]
  },
  {
   "cell_type": "markdown",
   "id": "f7f8a6ca",
   "metadata": {},
   "source": [
    "### Declaracion de variables"
   ]
  },
  {
   "cell_type": "code",
   "execution_count": 4,
   "id": "b933a088",
   "metadata": {
    "execution": {
     "iopub.execute_input": "2021-05-20T15:52:01.837090Z",
     "iopub.status.busy": "2021-05-20T15:52:01.836007Z",
     "iopub.status.idle": "2021-05-20T15:52:01.838852Z",
     "shell.execute_reply": "2021-05-20T15:52:01.838415Z"
    }
   },
   "outputs": [
    {
     "name": "stdout",
     "output_type": "stream",
     "text": [
      "Hola\n"
     ]
    }
   ],
   "source": [
    "string = 'Hola'\n",
    "print(string)"
   ]
  },
  {
   "cell_type": "code",
   "execution_count": 5,
   "id": "22555ed7",
   "metadata": {
    "execution": {
     "iopub.execute_input": "2021-05-20T15:52:01.842917Z",
     "iopub.status.busy": "2021-05-20T15:52:01.842424Z",
     "iopub.status.idle": "2021-05-20T15:52:01.844136Z",
     "shell.execute_reply": "2021-05-20T15:52:01.844523Z"
    }
   },
   "outputs": [
    {
     "name": "stdout",
     "output_type": "stream",
     "text": [
      "1\n"
     ]
    }
   ],
   "source": [
    "entero = 1\n",
    "print(entero)"
   ]
  },
  {
   "cell_type": "code",
   "execution_count": 6,
   "id": "92658331",
   "metadata": {
    "execution": {
     "iopub.execute_input": "2021-05-20T15:52:01.848977Z",
     "iopub.status.busy": "2021-05-20T15:52:01.848497Z",
     "iopub.status.idle": "2021-05-20T15:52:01.850150Z",
     "shell.execute_reply": "2021-05-20T15:52:01.850528Z"
    }
   },
   "outputs": [
    {
     "name": "stdout",
     "output_type": "stream",
     "text": [
      "1.0\n"
     ]
    }
   ],
   "source": [
    "flotante = 1.0\n",
    "print(flotante)"
   ]
  },
  {
   "cell_type": "code",
   "execution_count": 7,
   "id": "3867bcdd",
   "metadata": {
    "execution": {
     "iopub.execute_input": "2021-05-20T15:52:01.854210Z",
     "iopub.status.busy": "2021-05-20T15:52:01.853736Z",
     "iopub.status.idle": "2021-05-20T15:52:01.855686Z",
     "shell.execute_reply": "2021-05-20T15:52:01.856080Z"
    }
   },
   "outputs": [
    {
     "name": "stdout",
     "output_type": "stream",
     "text": [
      "(1, 1.0)\n"
     ]
    }
   ],
   "source": [
    "tupla = (entero, flotante)\n",
    "print(tupla)"
   ]
  },
  {
   "cell_type": "code",
   "execution_count": 8,
   "id": "c63a9920",
   "metadata": {
    "execution": {
     "iopub.execute_input": "2021-05-20T15:52:01.859549Z",
     "iopub.status.busy": "2021-05-20T15:52:01.859071Z",
     "iopub.status.idle": "2021-05-20T15:52:01.860725Z",
     "shell.execute_reply": "2021-05-20T15:52:01.861132Z"
    }
   },
   "outputs": [
    {
     "name": "stdout",
     "output_type": "stream",
     "text": [
      "(1, 1.0, 'Hola')\n"
     ]
    }
   ],
   "source": [
    "nupla = (entero, flotante, string)\n",
    "print(nupla)"
   ]
  },
  {
   "cell_type": "code",
   "execution_count": 9,
   "id": "960347aa",
   "metadata": {
    "execution": {
     "iopub.execute_input": "2021-05-20T15:52:01.864583Z",
     "iopub.status.busy": "2021-05-20T15:52:01.864111Z",
     "iopub.status.idle": "2021-05-20T15:52:01.865688Z",
     "shell.execute_reply": "2021-05-20T15:52:01.866136Z"
    }
   },
   "outputs": [
    {
     "name": "stdout",
     "output_type": "stream",
     "text": [
      "[1, 1.0, 'Hola']\n"
     ]
    }
   ],
   "source": [
    "lista = [entero, flotante, string]\n",
    "print(lista)"
   ]
  },
  {
   "cell_type": "code",
   "execution_count": 10,
   "id": "fb46af5d",
   "metadata": {
    "execution": {
     "iopub.execute_input": "2021-05-20T15:52:01.870004Z",
     "iopub.status.busy": "2021-05-20T15:52:01.869530Z",
     "iopub.status.idle": "2021-05-20T15:52:01.871162Z",
     "shell.execute_reply": "2021-05-20T15:52:01.871543Z"
    }
   },
   "outputs": [
    {
     "name": "stdout",
     "output_type": "stream",
     "text": [
      "{'1': (1, 1.0), 50: (1, 1.0, 'Hola'), '3': 1}\n"
     ]
    }
   ],
   "source": [
    "diccionario = {'1': tupla, 50: nupla, '3': entero}\n",
    "print(diccionario)"
   ]
  },
  {
   "cell_type": "code",
   "execution_count": 11,
   "id": "5e87fe06",
   "metadata": {
    "execution": {
     "iopub.execute_input": "2021-05-20T15:52:01.874886Z",
     "iopub.status.busy": "2021-05-20T15:52:01.874412Z",
     "iopub.status.idle": "2021-05-20T15:52:01.876026Z",
     "shell.execute_reply": "2021-05-20T15:52:01.876433Z"
    }
   },
   "outputs": [
    {
     "name": "stdout",
     "output_type": "stream",
     "text": [
      "{1, 2}\n"
     ]
    }
   ],
   "source": [
    "conjunto = set([1, 2])\n",
    "print(conjunto)"
   ]
  },
  {
   "cell_type": "code",
   "execution_count": 12,
   "id": "7cd9afca",
   "metadata": {
    "execution": {
     "iopub.execute_input": "2021-05-20T15:52:01.879591Z",
     "iopub.status.busy": "2021-05-20T15:52:01.879099Z",
     "iopub.status.idle": "2021-05-20T15:52:01.880661Z",
     "shell.execute_reply": "2021-05-20T15:52:01.881119Z"
    }
   },
   "outputs": [
    {
     "name": "stdout",
     "output_type": "stream",
     "text": [
      "True\n"
     ]
    }
   ],
   "source": [
    "booleano = True\n",
    "print(booleano)"
   ]
  },
  {
   "cell_type": "code",
   "execution_count": 13,
   "id": "ae9a34b3",
   "metadata": {
    "execution": {
     "iopub.execute_input": "2021-05-20T15:52:01.884316Z",
     "iopub.status.busy": "2021-05-20T15:52:01.883841Z",
     "iopub.status.idle": "2021-05-20T15:52:01.885419Z",
     "shell.execute_reply": "2021-05-20T15:52:01.885825Z"
    }
   },
   "outputs": [
    {
     "name": "stdout",
     "output_type": "stream",
     "text": [
      "None\n"
     ]
    }
   ],
   "source": [
    "nada = None\n",
    "print(nada)"
   ]
  },
  {
   "cell_type": "markdown",
   "id": "a5c55011",
   "metadata": {},
   "source": [
    "Ojo que las variables pueden cambiar de tipo!"
   ]
  },
  {
   "cell_type": "code",
   "execution_count": 14,
   "id": "3fde17d3",
   "metadata": {
    "execution": {
     "iopub.execute_input": "2021-05-20T15:52:01.889431Z",
     "iopub.status.busy": "2021-05-20T15:52:01.888931Z",
     "iopub.status.idle": "2021-05-20T15:52:01.890992Z",
     "shell.execute_reply": "2021-05-20T15:52:01.890577Z"
    }
   },
   "outputs": [
    {
     "name": "stdout",
     "output_type": "stream",
     "text": [
      "1\n",
      "<class 'int'>\n"
     ]
    }
   ],
   "source": [
    "elemento = 1\n",
    "print(elemento)\n",
    "print(type(elemento))"
   ]
  },
  {
   "cell_type": "code",
   "execution_count": 15,
   "id": "6329a6a9",
   "metadata": {
    "execution": {
     "iopub.execute_input": "2021-05-20T15:52:01.894249Z",
     "iopub.status.busy": "2021-05-20T15:52:01.893782Z",
     "iopub.status.idle": "2021-05-20T15:52:01.895803Z",
     "shell.execute_reply": "2021-05-20T15:52:01.895375Z"
    }
   },
   "outputs": [
    {
     "name": "stdout",
     "output_type": "stream",
     "text": [
      "1\n",
      "<class 'str'>\n"
     ]
    }
   ],
   "source": [
    "elemento = str(1)\n",
    "print(elemento)\n",
    "print(type(elemento))"
   ]
  },
  {
   "cell_type": "code",
   "execution_count": 16,
   "id": "e06d3548",
   "metadata": {
    "execution": {
     "iopub.execute_input": "2021-05-20T15:52:01.899265Z",
     "iopub.status.busy": "2021-05-20T15:52:01.898795Z",
     "iopub.status.idle": "2021-05-20T15:52:01.900836Z",
     "shell.execute_reply": "2021-05-20T15:52:01.900425Z"
    }
   },
   "outputs": [
    {
     "name": "stdout",
     "output_type": "stream",
     "text": [
      "[2]\n",
      "<class 'list'>\n"
     ]
    }
   ],
   "source": [
    "elemento = [2]\n",
    "\n",
    "print(elemento)\n",
    "print(type(elemento))"
   ]
  },
  {
   "cell_type": "markdown",
   "id": "bccb51bd",
   "metadata": {},
   "source": [
    "### Tipos basicos"
   ]
  },
  {
   "cell_type": "markdown",
   "id": "0c175a0d",
   "metadata": {
    "slideshow": {
     "slide_type": "slide"
    }
   },
   "source": [
    "#### Listas de Python"
   ]
  },
  {
   "cell_type": "code",
   "execution_count": 17,
   "id": "7c8e8f97",
   "metadata": {
    "execution": {
     "iopub.execute_input": "2021-05-20T15:52:01.904202Z",
     "iopub.status.busy": "2021-05-20T15:52:01.903736Z",
     "iopub.status.idle": "2021-05-20T15:52:01.905794Z",
     "shell.execute_reply": "2021-05-20T15:52:01.906156Z"
    }
   },
   "outputs": [
    {
     "data": {
      "text/plain": [
       "[]"
      ]
     },
     "execution_count": 1,
     "metadata": {},
     "output_type": "execute_result"
    }
   ],
   "source": [
    "lista = list()\n",
    "lista"
   ]
  },
  {
   "cell_type": "code",
   "execution_count": 18,
   "id": "9f213f45",
   "metadata": {
    "execution": {
     "iopub.execute_input": "2021-05-20T15:52:01.909208Z",
     "iopub.status.busy": "2021-05-20T15:52:01.908734Z",
     "iopub.status.idle": "2021-05-20T15:52:01.911326Z",
     "shell.execute_reply": "2021-05-20T15:52:01.910847Z"
    },
    "slideshow": {
     "slide_type": "slide"
    }
   },
   "outputs": [
    {
     "data": {
      "text/plain": [
       "[]"
      ]
     },
     "execution_count": 1,
     "metadata": {},
     "output_type": "execute_result"
    }
   ],
   "source": [
    "lista = []\n",
    "lista"
   ]
  },
  {
   "cell_type": "code",
   "execution_count": 19,
   "id": "5585862e",
   "metadata": {
    "execution": {
     "iopub.execute_input": "2021-05-20T15:52:01.914517Z",
     "iopub.status.busy": "2021-05-20T15:52:01.914049Z",
     "iopub.status.idle": "2021-05-20T15:52:01.916520Z",
     "shell.execute_reply": "2021-05-20T15:52:01.916105Z"
    },
    "slideshow": {
     "slide_type": "slide"
    }
   },
   "outputs": [
    {
     "data": {
      "text/plain": [
       "[1, 2, 3, 4]"
      ]
     },
     "execution_count": 1,
     "metadata": {},
     "output_type": "execute_result"
    }
   ],
   "source": [
    "lista = [1, 2, 3, 4]\n",
    "lista"
   ]
  },
  {
   "cell_type": "code",
   "execution_count": 20,
   "id": "0cd3b54a",
   "metadata": {
    "execution": {
     "iopub.execute_input": "2021-05-20T15:52:01.919954Z",
     "iopub.status.busy": "2021-05-20T15:52:01.919410Z",
     "iopub.status.idle": "2021-05-20T15:52:01.922011Z",
     "shell.execute_reply": "2021-05-20T15:52:01.921595Z"
    },
    "slideshow": {
     "slide_type": "slide"
    }
   },
   "outputs": [
    {
     "data": {
      "text/plain": [
       "[1, 2, 3, 4, 1, 'dos', 3.0]"
      ]
     },
     "execution_count": 1,
     "metadata": {},
     "output_type": "execute_result"
    }
   ],
   "source": [
    "lista.append(1)  # Inserto un 1 al final\n",
    "lista.append(\"dos\")  # Inserto un \"dos\" al final\n",
    "lista.append(3.0)  # Inserto un 3.0 al final\n",
    "lista"
   ]
  },
  {
   "cell_type": "code",
   "execution_count": 21,
   "id": "d1028db2",
   "metadata": {
    "execution": {
     "iopub.execute_input": "2021-05-20T15:52:01.925095Z",
     "iopub.status.busy": "2021-05-20T15:52:01.924617Z",
     "iopub.status.idle": "2021-05-20T15:52:01.926201Z",
     "shell.execute_reply": "2021-05-20T15:52:01.926579Z"
    }
   },
   "outputs": [
    {
     "name": "stdout",
     "output_type": "stream",
     "text": [
      "[1, 2, 10, 3, 4, 1, 'dos', 3.0]\n"
     ]
    }
   ],
   "source": [
    "lista.insert(2, 10)  # Inserto en posicion 2 un 10\n",
    "print(lista)"
   ]
  },
  {
   "cell_type": "code",
   "execution_count": 22,
   "id": "48681a72",
   "metadata": {
    "execution": {
     "iopub.execute_input": "2021-05-20T15:52:01.929488Z",
     "iopub.status.busy": "2021-05-20T15:52:01.929022Z",
     "iopub.status.idle": "2021-05-20T15:52:01.931518Z",
     "shell.execute_reply": "2021-05-20T15:52:01.931106Z"
    }
   },
   "outputs": [
    {
     "data": {
      "text/plain": [
       "8"
      ]
     },
     "execution_count": 1,
     "metadata": {},
     "output_type": "execute_result"
    }
   ],
   "source": [
    "len(lista)"
   ]
  },
  {
   "cell_type": "code",
   "execution_count": 23,
   "id": "4e0a430a",
   "metadata": {
    "execution": {
     "iopub.execute_input": "2021-05-20T15:52:01.934535Z",
     "iopub.status.busy": "2021-05-20T15:52:01.934071Z",
     "iopub.status.idle": "2021-05-20T15:52:01.936169Z",
     "shell.execute_reply": "2021-05-20T15:52:01.936552Z"
    }
   },
   "outputs": [
    {
     "data": {
      "text/plain": [
       "3.0"
      ]
     },
     "execution_count": 1,
     "metadata": {},
     "output_type": "execute_result"
    }
   ],
   "source": [
    "lista.pop()"
   ]
  },
  {
   "cell_type": "code",
   "execution_count": 24,
   "id": "9245d7b7",
   "metadata": {
    "execution": {
     "iopub.execute_input": "2021-05-20T15:52:01.939481Z",
     "iopub.status.busy": "2021-05-20T15:52:01.939012Z",
     "iopub.status.idle": "2021-05-20T15:52:01.940927Z",
     "shell.execute_reply": "2021-05-20T15:52:01.941382Z"
    }
   },
   "outputs": [
    {
     "data": {
      "text/plain": [
       "[1, 2, 10, 3, 4, 1, 'dos']"
      ]
     },
     "execution_count": 1,
     "metadata": {},
     "output_type": "execute_result"
    }
   ],
   "source": [
    "lista"
   ]
  },
  {
   "cell_type": "code",
   "execution_count": 25,
   "id": "87203c3e",
   "metadata": {
    "execution": {
     "iopub.execute_input": "2021-05-20T15:52:01.944275Z",
     "iopub.status.busy": "2021-05-20T15:52:01.943810Z",
     "iopub.status.idle": "2021-05-20T15:52:01.946411Z",
     "shell.execute_reply": "2021-05-20T15:52:01.945998Z"
    }
   },
   "outputs": [
    {
     "data": {
      "text/plain": [
       "2"
      ]
     },
     "execution_count": 1,
     "metadata": {},
     "output_type": "execute_result"
    }
   ],
   "source": [
    "lista.index(10)"
   ]
  },
  {
   "cell_type": "code",
   "execution_count": 26,
   "id": "326af911",
   "metadata": {
    "execution": {
     "iopub.execute_input": "2021-05-20T15:52:01.949476Z",
     "iopub.status.busy": "2021-05-20T15:52:01.949011Z",
     "iopub.status.idle": "2021-05-20T15:52:01.951057Z",
     "shell.execute_reply": "2021-05-20T15:52:01.951443Z"
    }
   },
   "outputs": [
    {
     "data": {
      "text/plain": [
       "[1, 2, 3, 4, 1, 'dos']"
      ]
     },
     "execution_count": 1,
     "metadata": {},
     "output_type": "execute_result"
    }
   ],
   "source": [
    "lista.remove(10)\n",
    "lista"
   ]
  },
  {
   "cell_type": "code",
   "execution_count": 27,
   "id": "02a16d53",
   "metadata": {
    "execution": {
     "iopub.execute_input": "2021-05-20T15:52:01.954351Z",
     "iopub.status.busy": "2021-05-20T15:52:01.953834Z",
     "iopub.status.idle": "2021-05-20T15:52:02.001628Z",
     "shell.execute_reply": "2021-05-20T15:52:02.002108Z"
    },
    "tags": [
     "raises-exception"
    ]
   },
   "outputs": [
    {
     "name": "stdout",
     "output_type": "stream",
     "text": [
      "1\n",
      "2\n",
      "2\n",
      "3\n",
      "3\n",
      "4\n",
      "4\n",
      "5\n",
      "1\n",
      "2\n",
      "dos\n"
     ]
    },
    {
     "ename": "TypeError",
     "evalue": "can only concatenate str (not \"int\") to str",
     "output_type": "error",
     "traceback": [
      "\u001b[0;31m---------------------------------------------------------------------------\u001b[0m",
      "\u001b[0;31mTypeError\u001b[0m                                 Traceback (most recent call last)",
      "\u001b[0;32m<ipython-input-1-41b56d5cf080>\u001b[0m in \u001b[0;36m<module>\u001b[0;34m\u001b[0m\n\u001b[1;32m      1\u001b[0m \u001b[0;32mfor\u001b[0m \u001b[0melemento\u001b[0m \u001b[0;32min\u001b[0m \u001b[0mlista\u001b[0m\u001b[0;34m:\u001b[0m\u001b[0;34m\u001b[0m\u001b[0;34m\u001b[0m\u001b[0m\n\u001b[1;32m      2\u001b[0m     \u001b[0mprint\u001b[0m\u001b[0;34m(\u001b[0m\u001b[0melemento\u001b[0m\u001b[0;34m)\u001b[0m\u001b[0;34m\u001b[0m\u001b[0;34m\u001b[0m\u001b[0m\n\u001b[0;32m----> 3\u001b[0;31m     \u001b[0mprint\u001b[0m\u001b[0;34m(\u001b[0m\u001b[0melemento\u001b[0m \u001b[0;34m+\u001b[0m \u001b[0;36m1\u001b[0m\u001b[0;34m)\u001b[0m\u001b[0;34m\u001b[0m\u001b[0;34m\u001b[0m\u001b[0m\n\u001b[0m",
      "\u001b[0;31mTypeError\u001b[0m: can only concatenate str (not \"int\") to str"
     ]
    }
   ],
   "source": [
    "for elemento in lista:\n",
    "    print(elemento)\n",
    "    print(elemento + 1)"
   ]
  },
  {
   "cell_type": "code",
   "execution_count": 28,
   "id": "2fbd5a7a",
   "metadata": {
    "execution": {
     "iopub.execute_input": "2021-05-20T15:52:02.006390Z",
     "iopub.status.busy": "2021-05-20T15:52:02.005901Z",
     "iopub.status.idle": "2021-05-20T15:52:02.008259Z",
     "shell.execute_reply": "2021-05-20T15:52:02.008650Z"
    }
   },
   "outputs": [
    {
     "data": {
      "text/plain": [
       "[1, 2, 3, 4, 1, 'dos']"
      ]
     },
     "execution_count": 1,
     "metadata": {},
     "output_type": "execute_result"
    }
   ],
   "source": [
    "lista"
   ]
  },
  {
   "cell_type": "code",
   "execution_count": 29,
   "id": "45f436cb",
   "metadata": {
    "execution": {
     "iopub.execute_input": "2021-05-20T15:52:02.013648Z",
     "iopub.status.busy": "2021-05-20T15:52:02.012487Z",
     "iopub.status.idle": "2021-05-20T15:52:02.015247Z",
     "shell.execute_reply": "2021-05-20T15:52:02.014824Z"
    }
   },
   "outputs": [
    {
     "name": "stdout",
     "output_type": "stream",
     "text": [
      "0-ésimo elemento: 1\n",
      "1-ésimo elemento: 2\n",
      "2-ésimo elemento: 3\n",
      "3-ésimo elemento: 4\n",
      "4-ésimo elemento: 1\n",
      "5-ésimo elemento: dos\n"
     ]
    }
   ],
   "source": [
    "for i, elemento in enumerate(lista):\n",
    "    print(f\"{i}-ésimo elemento: {elemento}\")"
   ]
  },
  {
   "cell_type": "code",
   "execution_count": 30,
   "id": "013b3d42",
   "metadata": {
    "execution": {
     "iopub.execute_input": "2021-05-20T15:52:02.021459Z",
     "iopub.status.busy": "2021-05-20T15:52:02.020949Z",
     "iopub.status.idle": "2021-05-20T15:52:02.023443Z",
     "shell.execute_reply": "2021-05-20T15:52:02.023885Z"
    },
    "tags": [
     "raises-exception"
    ]
   },
   "outputs": [
    {
     "ename": "TypeError",
     "evalue": "'<' not supported between instances of 'str' and 'int'",
     "output_type": "error",
     "traceback": [
      "\u001b[0;31m---------------------------------------------------------------------------\u001b[0m",
      "\u001b[0;31mTypeError\u001b[0m                                 Traceback (most recent call last)",
      "\u001b[0;32m<ipython-input-1-06c3f264dc7a>\u001b[0m in \u001b[0;36m<module>\u001b[0;34m\u001b[0m\n\u001b[0;32m----> 1\u001b[0;31m \u001b[0msorted\u001b[0m\u001b[0;34m(\u001b[0m\u001b[0mlista\u001b[0m\u001b[0;34m)\u001b[0m\u001b[0;34m\u001b[0m\u001b[0;34m\u001b[0m\u001b[0m\n\u001b[0m",
      "\u001b[0;31mTypeError\u001b[0m: '<' not supported between instances of 'str' and 'int'"
     ]
    }
   ],
   "source": [
    "sorted(lista)"
   ]
  },
  {
   "cell_type": "code",
   "execution_count": 31,
   "id": "1e0bbb17",
   "metadata": {
    "execution": {
     "iopub.execute_input": "2021-05-20T15:52:02.028079Z",
     "iopub.status.busy": "2021-05-20T15:52:02.026904Z",
     "iopub.status.idle": "2021-05-20T15:52:02.028640Z",
     "shell.execute_reply": "2021-05-20T15:52:02.029028Z"
    }
   },
   "outputs": [],
   "source": [
    "lista.remove(\"dos\")"
   ]
  },
  {
   "cell_type": "code",
   "execution_count": 32,
   "id": "e1ca5619",
   "metadata": {
    "execution": {
     "iopub.execute_input": "2021-05-20T15:52:02.033097Z",
     "iopub.status.busy": "2021-05-20T15:52:02.032607Z",
     "iopub.status.idle": "2021-05-20T15:52:02.035112Z",
     "shell.execute_reply": "2021-05-20T15:52:02.035501Z"
    }
   },
   "outputs": [
    {
     "data": {
      "text/plain": [
       "[1, 1, 2, 3, 4]"
      ]
     },
     "execution_count": 1,
     "metadata": {},
     "output_type": "execute_result"
    }
   ],
   "source": [
    "sorted(lista)"
   ]
  },
  {
   "cell_type": "code",
   "execution_count": 33,
   "id": "6dde40aa",
   "metadata": {
    "execution": {
     "iopub.execute_input": "2021-05-20T15:52:02.039522Z",
     "iopub.status.busy": "2021-05-20T15:52:02.039027Z",
     "iopub.status.idle": "2021-05-20T15:52:02.041545Z",
     "shell.execute_reply": "2021-05-20T15:52:02.041937Z"
    }
   },
   "outputs": [
    {
     "data": {
      "text/plain": [
       "[1, 1, 2, 3, 4]"
      ]
     },
     "execution_count": 1,
     "metadata": {},
     "output_type": "execute_result"
    }
   ],
   "source": [
    "lista.sort()\n",
    "lista"
   ]
  },
  {
   "cell_type": "markdown",
   "id": "43240ec1",
   "metadata": {
    "slideshow": {
     "slide_type": "slide"
    }
   },
   "source": [
    "#### Tuplas de Python\n",
    "\n",
    "Las tuplas son inmutables. No se pueden agregar elementos luego de creadas."
   ]
  },
  {
   "cell_type": "code",
   "execution_count": 34,
   "id": "71cbec48",
   "metadata": {
    "execution": {
     "iopub.execute_input": "2021-05-20T15:52:02.046644Z",
     "iopub.status.busy": "2021-05-20T15:52:02.045092Z",
     "iopub.status.idle": "2021-05-20T15:52:02.050843Z",
     "shell.execute_reply": "2021-05-20T15:52:02.051254Z"
    },
    "slideshow": {
     "slide_type": "slide"
    },
    "tags": [
     "raises-exception"
    ]
   },
   "outputs": [
    {
     "name": "stdout",
     "output_type": "stream",
     "text": [
      "(1, 2)\n",
      "1\n",
      "2\n"
     ]
    },
    {
     "ename": "TypeError",
     "evalue": "'tuple' object does not support item assignment",
     "output_type": "error",
     "traceback": [
      "\u001b[0;31m---------------------------------------------------------------------------\u001b[0m",
      "\u001b[0;31mTypeError\u001b[0m                                 Traceback (most recent call last)",
      "\u001b[0;32m<ipython-input-1-80ca8b547dd6>\u001b[0m in \u001b[0;36m<module>\u001b[0;34m\u001b[0m\n\u001b[1;32m      5\u001b[0m \u001b[0mprint\u001b[0m\u001b[0;34m(\u001b[0m\u001b[0mtupla\u001b[0m\u001b[0;34m[\u001b[0m\u001b[0;36m1\u001b[0m\u001b[0;34m]\u001b[0m\u001b[0;34m)\u001b[0m\u001b[0;34m\u001b[0m\u001b[0;34m\u001b[0m\u001b[0m\n\u001b[1;32m      6\u001b[0m \u001b[0;34m\u001b[0m\u001b[0m\n\u001b[0;32m----> 7\u001b[0;31m \u001b[0mtupla\u001b[0m\u001b[0;34m[\u001b[0m\u001b[0;36m1\u001b[0m\u001b[0;34m]\u001b[0m \u001b[0;34m=\u001b[0m \u001b[0;36m3\u001b[0m  \u001b[0;31m# Falla. No se puede mutar\u001b[0m\u001b[0;34m\u001b[0m\u001b[0;34m\u001b[0m\u001b[0m\n\u001b[0m",
      "\u001b[0;31mTypeError\u001b[0m: 'tuple' object does not support item assignment"
     ]
    }
   ],
   "source": [
    "tupla = (1, 2)\n",
    "\n",
    "print(tupla)\n",
    "print(tupla[0])\n",
    "print(tupla[1])\n",
    "\n",
    "tupla[1] = 3  # Falla. No se puede mutar"
   ]
  },
  {
   "cell_type": "code",
   "execution_count": 35,
   "id": "3c5c69af",
   "metadata": {
    "execution": {
     "iopub.execute_input": "2021-05-20T15:52:02.055097Z",
     "iopub.status.busy": "2021-05-20T15:52:02.054611Z",
     "iopub.status.idle": "2021-05-20T15:52:02.056957Z",
     "shell.execute_reply": "2021-05-20T15:52:02.057337Z"
    }
   },
   "outputs": [
    {
     "data": {
      "text/plain": [
       "[1, 2]"
      ]
     },
     "execution_count": 1,
     "metadata": {},
     "output_type": "execute_result"
    }
   ],
   "source": [
    "l = [1, 2]\n",
    "l"
   ]
  },
  {
   "cell_type": "code",
   "execution_count": 36,
   "id": "a8994ab8",
   "metadata": {
    "execution": {
     "iopub.execute_input": "2021-05-20T15:52:02.061121Z",
     "iopub.status.busy": "2021-05-20T15:52:02.060635Z",
     "iopub.status.idle": "2021-05-20T15:52:02.063025Z",
     "shell.execute_reply": "2021-05-20T15:52:02.063408Z"
    }
   },
   "outputs": [
    {
     "data": {
      "text/plain": [
       "[1, 3]"
      ]
     },
     "execution_count": 1,
     "metadata": {},
     "output_type": "execute_result"
    }
   ],
   "source": [
    "l[1] = 3\n",
    "l"
   ]
  },
  {
   "cell_type": "markdown",
   "id": "fe36283f",
   "metadata": {
    "slideshow": {
     "slide_type": "slide"
    }
   },
   "source": [
    "#### Diferencia entre lista y tupla\n",
    "Las listas se caracterizan por ser mutables, es decir, se puede cambiar su contenido en tiempo de ejecución, mientras que las tuplas son inmutables ya que no es posible modificar el contenido una vez creada."
   ]
  },
  {
   "cell_type": "markdown",
   "id": "65493d8c",
   "metadata": {},
   "source": [
    "#### Slices\n",
    "\n",
    "**Valen para listas, tuplas o strings (_segmentos_)**"
   ]
  },
  {
   "cell_type": "code",
   "execution_count": 37,
   "id": "ad911c57",
   "metadata": {
    "execution": {
     "iopub.execute_input": "2021-05-20T15:52:02.067382Z",
     "iopub.status.busy": "2021-05-20T15:52:02.066439Z",
     "iopub.status.idle": "2021-05-20T15:52:02.068130Z",
     "shell.execute_reply": "2021-05-20T15:52:02.068491Z"
    }
   },
   "outputs": [],
   "source": [
    "numeros = [0, 1, 2, 3, 4, 5, 6, 7, 8, 9, 10]"
   ]
  },
  {
   "cell_type": "code",
   "execution_count": 38,
   "id": "32a15342",
   "metadata": {
    "execution": {
     "iopub.execute_input": "2021-05-20T15:52:02.072573Z",
     "iopub.status.busy": "2021-05-20T15:52:02.071485Z",
     "iopub.status.idle": "2021-05-20T15:52:02.074142Z",
     "shell.execute_reply": "2021-05-20T15:52:02.073730Z"
    }
   },
   "outputs": [
    {
     "name": "stdout",
     "output_type": "stream",
     "text": [
      "[0, 1, 2, 3, 4, 5, 6, 7, 8, 9, 10]\n"
     ]
    }
   ],
   "source": [
    "print(numeros)"
   ]
  },
  {
   "cell_type": "code",
   "execution_count": 39,
   "id": "74ea03ed",
   "metadata": {
    "execution": {
     "iopub.execute_input": "2021-05-20T15:52:02.078268Z",
     "iopub.status.busy": "2021-05-20T15:52:02.077224Z",
     "iopub.status.idle": "2021-05-20T15:52:02.079886Z",
     "shell.execute_reply": "2021-05-20T15:52:02.079444Z"
    }
   },
   "outputs": [
    {
     "name": "stdout",
     "output_type": "stream",
     "text": [
      "2\n"
     ]
    }
   ],
   "source": [
    "print(numeros[2])  # Imprimo elemento en la posición 2"
   ]
  },
  {
   "cell_type": "code",
   "execution_count": 40,
   "id": "9ba1c5fc",
   "metadata": {
    "execution": {
     "iopub.execute_input": "2021-05-20T15:52:02.083683Z",
     "iopub.status.busy": "2021-05-20T15:52:02.083177Z",
     "iopub.status.idle": "2021-05-20T15:52:02.085504Z",
     "shell.execute_reply": "2021-05-20T15:52:02.085883Z"
    }
   },
   "outputs": [
    {
     "data": {
      "text/plain": [
       "10"
      ]
     },
     "execution_count": 1,
     "metadata": {},
     "output_type": "execute_result"
    }
   ],
   "source": [
    "numeros[len(numeros) - 1]"
   ]
  },
  {
   "cell_type": "code",
   "execution_count": 41,
   "id": "4c6a18e8",
   "metadata": {
    "execution": {
     "iopub.execute_input": "2021-05-20T15:52:02.089955Z",
     "iopub.status.busy": "2021-05-20T15:52:02.088980Z",
     "iopub.status.idle": "2021-05-20T15:52:02.091612Z",
     "shell.execute_reply": "2021-05-20T15:52:02.091175Z"
    },
    "lines_to_next_cell": 2
   },
   "outputs": [
    {
     "name": "stdout",
     "output_type": "stream",
     "text": [
      "10\n"
     ]
    }
   ],
   "source": [
    "print(numeros[-1])  # # Imprimo elemento en la última posición"
   ]
  },
  {
   "cell_type": "code",
   "execution_count": 42,
   "id": "fdef7cb4",
   "metadata": {
    "execution": {
     "iopub.execute_input": "2021-05-20T15:52:02.095594Z",
     "iopub.status.busy": "2021-05-20T15:52:02.095092Z",
     "iopub.status.idle": "2021-05-20T15:52:02.097711Z",
     "shell.execute_reply": "2021-05-20T15:52:02.098096Z"
    },
    "lines_to_next_cell": 2
   },
   "outputs": [
    {
     "data": {
      "text/plain": [
       "9"
      ]
     },
     "execution_count": 1,
     "metadata": {},
     "output_type": "execute_result"
    }
   ],
   "source": [
    "numeros[-2]"
   ]
  },
  {
   "cell_type": "code",
   "execution_count": 43,
   "id": "524f652c",
   "metadata": {
    "execution": {
     "iopub.execute_input": "2021-05-20T15:52:02.102239Z",
     "iopub.status.busy": "2021-05-20T15:52:02.101187Z",
     "iopub.status.idle": "2021-05-20T15:52:02.103848Z",
     "shell.execute_reply": "2021-05-20T15:52:02.103409Z"
    }
   },
   "outputs": [
    {
     "name": "stdout",
     "output_type": "stream",
     "text": [
      "[0, 1, 2]\n"
     ]
    }
   ],
   "source": [
    "print(numeros[0:3])  # Imprimo de la pos 0 a la pos 2"
   ]
  },
  {
   "cell_type": "code",
   "execution_count": 44,
   "id": "ddd18f78",
   "metadata": {
    "execution": {
     "iopub.execute_input": "2021-05-20T15:52:02.107901Z",
     "iopub.status.busy": "2021-05-20T15:52:02.106865Z",
     "iopub.status.idle": "2021-05-20T15:52:02.109579Z",
     "shell.execute_reply": "2021-05-20T15:52:02.109163Z"
    }
   },
   "outputs": [
    {
     "name": "stdout",
     "output_type": "stream",
     "text": [
      "[7, 8]\n"
     ]
    }
   ],
   "source": [
    "print(numeros[-4:-2])"
   ]
  },
  {
   "cell_type": "code",
   "execution_count": 45,
   "id": "e4d65dad",
   "metadata": {
    "execution": {
     "iopub.execute_input": "2021-05-20T15:52:02.113627Z",
     "iopub.status.busy": "2021-05-20T15:52:02.112600Z",
     "iopub.status.idle": "2021-05-20T15:52:02.115311Z",
     "shell.execute_reply": "2021-05-20T15:52:02.114892Z"
    }
   },
   "outputs": [
    {
     "name": "stdout",
     "output_type": "stream",
     "text": [
      "[0, 1, 2, 3, 4, 5, 6, 7, 8, 9, 10]\n"
     ]
    }
   ],
   "source": [
    "print(numeros[0:80])"
   ]
  },
  {
   "cell_type": "code",
   "execution_count": 46,
   "id": "6cddb9bb",
   "metadata": {
    "execution": {
     "iopub.execute_input": "2021-05-20T15:52:02.119315Z",
     "iopub.status.busy": "2021-05-20T15:52:02.118296Z",
     "iopub.status.idle": "2021-05-20T15:52:02.120979Z",
     "shell.execute_reply": "2021-05-20T15:52:02.120563Z"
    }
   },
   "outputs": [
    {
     "name": "stdout",
     "output_type": "stream",
     "text": [
      "[0, 1, 2]\n"
     ]
    }
   ],
   "source": [
    "print(numeros[:3])"
   ]
  },
  {
   "cell_type": "code",
   "execution_count": 47,
   "id": "e7a40ba5",
   "metadata": {
    "execution": {
     "iopub.execute_input": "2021-05-20T15:52:02.125004Z",
     "iopub.status.busy": "2021-05-20T15:52:02.123975Z",
     "iopub.status.idle": "2021-05-20T15:52:02.126577Z",
     "shell.execute_reply": "2021-05-20T15:52:02.126160Z"
    }
   },
   "outputs": [
    {
     "name": "stdout",
     "output_type": "stream",
     "text": [
      "[3, 4, 5, 6, 7, 8, 9, 10]\n"
     ]
    }
   ],
   "source": [
    "print(numeros[3:])"
   ]
  },
  {
   "cell_type": "code",
   "execution_count": 48,
   "id": "a9a7d75f",
   "metadata": {
    "execution": {
     "iopub.execute_input": "2021-05-20T15:52:02.130631Z",
     "iopub.status.busy": "2021-05-20T15:52:02.129627Z",
     "iopub.status.idle": "2021-05-20T15:52:02.132290Z",
     "shell.execute_reply": "2021-05-20T15:52:02.131867Z"
    }
   },
   "outputs": [
    {
     "name": "stdout",
     "output_type": "stream",
     "text": [
      "[0, 2, 4, 6, 8]\n"
     ]
    }
   ],
   "source": [
    "print(numeros[0:10:2])"
   ]
  },
  {
   "cell_type": "markdown",
   "id": "b35556f6",
   "metadata": {},
   "source": [
    "```python\n",
    "lista[<inicio>:<final>:<step>]\n",
    "```"
   ]
  },
  {
   "cell_type": "code",
   "execution_count": 49,
   "id": "31e04b2b",
   "metadata": {
    "execution": {
     "iopub.execute_input": "2021-05-20T15:52:02.136311Z",
     "iopub.status.busy": "2021-05-20T15:52:02.135815Z",
     "iopub.status.idle": "2021-05-20T15:52:02.138170Z",
     "shell.execute_reply": "2021-05-20T15:52:02.138556Z"
    },
    "lines_to_next_cell": 2
   },
   "outputs": [
    {
     "data": {
      "text/plain": [
       "[1, 2, 3, 4]"
      ]
     },
     "execution_count": 1,
     "metadata": {},
     "output_type": "execute_result"
    }
   ],
   "source": [
    "l1 = [1, 2]\n",
    "l2 = [3, 4]\n",
    "l1 + l2"
   ]
  },
  {
   "cell_type": "code",
   "execution_count": 50,
   "id": "236af43c",
   "metadata": {
    "execution": {
     "iopub.execute_input": "2021-05-20T15:52:02.142730Z",
     "iopub.status.busy": "2021-05-20T15:52:02.141704Z",
     "iopub.status.idle": "2021-05-20T15:52:02.144401Z",
     "shell.execute_reply": "2021-05-20T15:52:02.143980Z"
    }
   },
   "outputs": [
    {
     "name": "stdout",
     "output_type": "stream",
     "text": [
      "[0, 1, 2, 3, 4, 5, 6, 'siete', 8, 9, 10]\n"
     ]
    }
   ],
   "source": [
    "numeros[7] = 'siete'  # Las listas se pueden mutar\n",
    "print(numeros)"
   ]
  },
  {
   "cell_type": "code",
   "execution_count": 51,
   "id": "95f2b074",
   "metadata": {
    "execution": {
     "iopub.execute_input": "2021-05-20T15:52:02.148550Z",
     "iopub.status.busy": "2021-05-20T15:52:02.147462Z",
     "iopub.status.idle": "2021-05-20T15:52:02.150126Z",
     "shell.execute_reply": "2021-05-20T15:52:02.149705Z"
    }
   },
   "outputs": [
    {
     "name": "stdout",
     "output_type": "stream",
     "text": [
      "[10, 9, 8, 'siete', 6, 5, 4, 3, 2, 1, 0]\n"
     ]
    }
   ],
   "source": [
    "numeros = numeros[::-1]\n",
    "print(numeros)"
   ]
  },
  {
   "cell_type": "code",
   "execution_count": 52,
   "id": "56f2fa23",
   "metadata": {
    "execution": {
     "iopub.execute_input": "2021-05-20T15:52:02.153745Z",
     "iopub.status.busy": "2021-05-20T15:52:02.153269Z",
     "iopub.status.idle": "2021-05-20T15:52:02.160042Z",
     "shell.execute_reply": "2021-05-20T15:52:02.159625Z"
    },
    "tags": [
     "raises-exception"
    ]
   },
   "outputs": [
    {
     "ename": "IndexError",
     "evalue": "list index out of range",
     "output_type": "error",
     "traceback": [
      "\u001b[0;31m---------------------------------------------------------------------------\u001b[0m",
      "\u001b[0;31mIndexError\u001b[0m                                Traceback (most recent call last)",
      "\u001b[0;32m<ipython-input-1-0ef91dd29a9b>\u001b[0m in \u001b[0;36m<module>\u001b[0;34m\u001b[0m\n\u001b[0;32m----> 1\u001b[0;31m \u001b[0mprint\u001b[0m\u001b[0;34m(\u001b[0m\u001b[0mnumeros\u001b[0m\u001b[0;34m[\u001b[0m\u001b[0;36m15\u001b[0m\u001b[0;34m]\u001b[0m\u001b[0;34m)\u001b[0m  \u001b[0;31m# Falla. No se puede acceder a una posición inexistente\u001b[0m\u001b[0;34m\u001b[0m\u001b[0;34m\u001b[0m\u001b[0m\n\u001b[0m",
      "\u001b[0;31mIndexError\u001b[0m: list index out of range"
     ]
    }
   ],
   "source": [
    "print(numeros[15])  # Falla. No se puede acceder a una posición inexistente"
   ]
  },
  {
   "cell_type": "code",
   "execution_count": 53,
   "id": "66444bbe",
   "metadata": {
    "execution": {
     "iopub.execute_input": "2021-05-20T15:52:02.166508Z",
     "iopub.status.busy": "2021-05-20T15:52:02.166001Z",
     "iopub.status.idle": "2021-05-20T15:52:02.168305Z",
     "shell.execute_reply": "2021-05-20T15:52:02.168689Z"
    }
   },
   "outputs": [
    {
     "name": "stdout",
     "output_type": "stream",
     "text": [
      "palabra\n",
      "a\n",
      "pal\n",
      "abra\n"
     ]
    }
   ],
   "source": [
    "palabra = 'palabra'\n",
    "print(palabra)\n",
    "print(palabra[3])\n",
    "print(palabra[:3])\n",
    "print(palabra[3:])"
   ]
  },
  {
   "cell_type": "code",
   "execution_count": 54,
   "id": "72ee9882",
   "metadata": {
    "execution": {
     "iopub.execute_input": "2021-05-20T15:52:02.173376Z",
     "iopub.status.busy": "2021-05-20T15:52:02.172517Z",
     "iopub.status.idle": "2021-05-20T15:52:02.175212Z",
     "shell.execute_reply": "2021-05-20T15:52:02.174809Z"
    }
   },
   "outputs": [
    {
     "name": "stdout",
     "output_type": "stream",
     "text": [
      "(0, 1, 2, 3, 4)\n",
      "(0, 1)\n",
      "(2, 3, 4)\n"
     ]
    }
   ],
   "source": [
    "tupla = (0, 1, 2, 3, 4)\n",
    "\n",
    "print(tupla)\n",
    "print(tupla[:2])\n",
    "print(tupla[2:])"
   ]
  },
  {
   "cell_type": "markdown",
   "id": "793c0d7d",
   "metadata": {
    "slideshow": {
     "slide_type": "slide"
    }
   },
   "source": [
    "#### Diccionarios de Python\n",
    "\n",
    "Son como hashmaps, las claves deben ser inmutables para que no pierda sentido el diccionario. Si se pudieran modificar, se podrían cambiar las claves y generaría conflictos.\n",
    "\n",
    "Tipos mutables:\n",
    "- Listas\n",
    "- Diccionarios\n",
    "- Sets\n",
    "\n",
    "Tipos inmutables:\n",
    "- Int\n",
    "- Float\n",
    "- String\n",
    "- Tuplas\n"
   ]
  },
  {
   "cell_type": "code",
   "execution_count": 55,
   "id": "75d5ed7e",
   "metadata": {
    "execution": {
     "iopub.execute_input": "2021-05-20T15:52:02.179171Z",
     "iopub.status.busy": "2021-05-20T15:52:02.178664Z",
     "iopub.status.idle": "2021-05-20T15:52:02.181051Z",
     "shell.execute_reply": "2021-05-20T15:52:02.181435Z"
    },
    "slideshow": {
     "slide_type": "slide"
    }
   },
   "outputs": [
    {
     "data": {
      "text/plain": [
       "{}"
      ]
     },
     "execution_count": 1,
     "metadata": {},
     "output_type": "execute_result"
    }
   ],
   "source": [
    "diccionario = {}\n",
    "diccionario"
   ]
  },
  {
   "cell_type": "code",
   "execution_count": 56,
   "id": "27096e6e",
   "metadata": {
    "execution": {
     "iopub.execute_input": "2021-05-20T15:52:02.185357Z",
     "iopub.status.busy": "2021-05-20T15:52:02.184868Z",
     "iopub.status.idle": "2021-05-20T15:52:02.187244Z",
     "shell.execute_reply": "2021-05-20T15:52:02.187648Z"
    }
   },
   "outputs": [
    {
     "data": {
      "text/plain": [
       "{}"
      ]
     },
     "execution_count": 1,
     "metadata": {},
     "output_type": "execute_result"
    }
   ],
   "source": [
    "diccionario = dict()\n",
    "diccionario"
   ]
  },
  {
   "cell_type": "code",
   "execution_count": 57,
   "id": "93095885",
   "metadata": {
    "execution": {
     "iopub.execute_input": "2021-05-20T15:52:02.192192Z",
     "iopub.status.busy": "2021-05-20T15:52:02.191198Z",
     "iopub.status.idle": "2021-05-20T15:52:02.193463Z",
     "shell.execute_reply": "2021-05-20T15:52:02.193823Z"
    },
    "slideshow": {
     "slide_type": "slide"
    }
   },
   "outputs": [
    {
     "name": "stdout",
     "output_type": "stream",
     "text": [
      "{'clave1': 'valor1', 2: 'valor2', 'clave3': 3}\n"
     ]
    }
   ],
   "source": [
    "# Cómo agregar cosas al diccionario\n",
    "diccionario['clave1'] = 'valor1'\n",
    "diccionario[2] = 'valor2'\n",
    "diccionario['clave3'] = 3\n",
    "print(diccionario)"
   ]
  },
  {
   "cell_type": "markdown",
   "id": "df532152",
   "metadata": {},
   "source": [
    "Hay dos formas de obtener valores de un diccionario:\n",
    "\n",
    "```python\n",
    "diccionario[clave]\n",
    "```\n",
    "\n",
    "El cual devuelve el valor si existe la clave suministrada o bien lanza `KeyError` si no existe."
   ]
  },
  {
   "cell_type": "code",
   "execution_count": 58,
   "id": "79866ca9",
   "metadata": {
    "execution": {
     "iopub.execute_input": "2021-05-20T15:52:02.197890Z",
     "iopub.status.busy": "2021-05-20T15:52:02.197397Z",
     "iopub.status.idle": "2021-05-20T15:52:02.199778Z",
     "shell.execute_reply": "2021-05-20T15:52:02.200167Z"
    }
   },
   "outputs": [
    {
     "data": {
      "text/plain": [
       "'valor1'"
      ]
     },
     "execution_count": 1,
     "metadata": {},
     "output_type": "execute_result"
    }
   ],
   "source": [
    "diccionario['clave1']"
   ]
  },
  {
   "cell_type": "code",
   "execution_count": 59,
   "id": "b3f0c2d3",
   "metadata": {
    "execution": {
     "iopub.execute_input": "2021-05-20T15:52:02.204462Z",
     "iopub.status.busy": "2021-05-20T15:52:02.202790Z",
     "iopub.status.idle": "2021-05-20T15:52:02.208428Z",
     "shell.execute_reply": "2021-05-20T15:52:02.208023Z"
    },
    "tags": [
     "raises-exception"
    ]
   },
   "outputs": [
    {
     "ename": "KeyError",
     "evalue": "'clave1000'",
     "output_type": "error",
     "traceback": [
      "\u001b[0;31m---------------------------------------------------------------------------\u001b[0m",
      "\u001b[0;31mKeyError\u001b[0m                                  Traceback (most recent call last)",
      "\u001b[0;32m<ipython-input-1-41aae9a2e5ed>\u001b[0m in \u001b[0;36m<module>\u001b[0;34m\u001b[0m\n\u001b[0;32m----> 1\u001b[0;31m \u001b[0mdiccionario\u001b[0m\u001b[0;34m[\u001b[0m\u001b[0;34m'clave1000'\u001b[0m\u001b[0;34m]\u001b[0m\u001b[0;34m\u001b[0m\u001b[0;34m\u001b[0m\u001b[0m\n\u001b[0m",
      "\u001b[0;31mKeyError\u001b[0m: 'clave1000'"
     ]
    }
   ],
   "source": [
    "diccionario['clave1000']"
   ]
  },
  {
   "cell_type": "markdown",
   "id": "9cac82cf",
   "metadata": {},
   "source": [
    "La segunda forma es con `get`:"
   ]
  },
  {
   "cell_type": "code",
   "execution_count": 60,
   "id": "1818fbae",
   "metadata": {
    "execution": {
     "iopub.execute_input": "2021-05-20T15:52:02.236177Z",
     "iopub.status.busy": "2021-05-20T15:52:02.215492Z",
     "iopub.status.idle": "2021-05-20T15:52:02.259465Z",
     "shell.execute_reply": "2021-05-20T15:52:02.258974Z"
    }
   },
   "outputs": [],
   "source": [
    "diccionario.get?"
   ]
  },
  {
   "cell_type": "code",
   "execution_count": 61,
   "id": "1133a4e1",
   "metadata": {
    "execution": {
     "iopub.execute_input": "2021-05-20T15:52:02.265147Z",
     "iopub.status.busy": "2021-05-20T15:52:02.264414Z",
     "iopub.status.idle": "2021-05-20T15:52:02.266748Z",
     "shell.execute_reply": "2021-05-20T15:52:02.266328Z"
    }
   },
   "outputs": [
    {
     "name": "stdout",
     "output_type": "stream",
     "text": [
      "Help on built-in function get:\n",
      "\n",
      "get(key, default=None, /) method of builtins.dict instance\n",
      "    Return the value for key if key is in the dictionary, else default.\n",
      "\n"
     ]
    }
   ],
   "source": [
    "help(diccionario.get)"
   ]
  },
  {
   "cell_type": "code",
   "execution_count": 62,
   "id": "91ff04fa",
   "metadata": {
    "execution": {
     "iopub.execute_input": "2021-05-20T15:52:02.271060Z",
     "iopub.status.busy": "2021-05-20T15:52:02.270076Z",
     "iopub.status.idle": "2021-05-20T15:52:02.272751Z",
     "shell.execute_reply": "2021-05-20T15:52:02.272337Z"
    },
    "slideshow": {
     "slide_type": "slide"
    }
   },
   "outputs": [
    {
     "name": "stdout",
     "output_type": "stream",
     "text": [
      "None\n"
     ]
    }
   ],
   "source": [
    "print(diccionario.get('clave1000'))"
   ]
  },
  {
   "cell_type": "code",
   "execution_count": 63,
   "id": "31e14822",
   "metadata": {
    "execution": {
     "iopub.execute_input": "2021-05-20T15:52:02.277037Z",
     "iopub.status.busy": "2021-05-20T15:52:02.275984Z",
     "iopub.status.idle": "2021-05-20T15:52:02.278615Z",
     "shell.execute_reply": "2021-05-20T15:52:02.278204Z"
    },
    "slideshow": {
     "slide_type": "slide"
    }
   },
   "outputs": [
    {
     "name": "stdout",
     "output_type": "stream",
     "text": [
      "True\n"
     ]
    }
   ],
   "source": [
    "print('clave1' in diccionario)  # Verifico si la clave está en el diccionario"
   ]
  },
  {
   "cell_type": "code",
   "execution_count": 64,
   "id": "a5362ac5",
   "metadata": {
    "execution": {
     "iopub.execute_input": "2021-05-20T15:52:02.282562Z",
     "iopub.status.busy": "2021-05-20T15:52:02.282075Z",
     "iopub.status.idle": "2021-05-20T15:52:02.284415Z",
     "shell.execute_reply": "2021-05-20T15:52:02.284798Z"
    }
   },
   "outputs": [
    {
     "data": {
      "text/plain": [
       "True"
      ]
     },
     "execution_count": 1,
     "metadata": {},
     "output_type": "execute_result"
    }
   ],
   "source": [
    "l = [1, 2, 3, 4]\n",
    "2 in l"
   ]
  },
  {
   "cell_type": "code",
   "execution_count": 65,
   "id": "2a043ada",
   "metadata": {
    "execution": {
     "iopub.execute_input": "2021-05-20T15:52:02.289279Z",
     "iopub.status.busy": "2021-05-20T15:52:02.288281Z",
     "iopub.status.idle": "2021-05-20T15:52:02.290922Z",
     "shell.execute_reply": "2021-05-20T15:52:02.290511Z"
    }
   },
   "outputs": [
    {
     "name": "stdout",
     "output_type": "stream",
     "text": [
      "la clave es clave1 y el valor es valor1\n",
      "la clave es 2 y el valor es valor2\n",
      "la clave es clave3 y el valor es 3\n"
     ]
    }
   ],
   "source": [
    "for clave, valor in diccionario.items():\n",
    "    print(\"la clave es %s y el valor es %s\" % (clave, valor))"
   ]
  },
  {
   "cell_type": "code",
   "execution_count": 66,
   "id": "44ff979b",
   "metadata": {
    "execution": {
     "iopub.execute_input": "2021-05-20T15:52:02.295285Z",
     "iopub.status.busy": "2021-05-20T15:52:02.294323Z",
     "iopub.status.idle": "2021-05-20T15:52:02.296923Z",
     "shell.execute_reply": "2021-05-20T15:52:02.296532Z"
    }
   },
   "outputs": [
    {
     "name": "stdout",
     "output_type": "stream",
     "text": [
      "la clave es clave1 y el valor es valor1\n",
      "la clave es 2 y el valor es valor2\n",
      "la clave es clave3 y el valor es 3\n"
     ]
    }
   ],
   "source": [
    "for clave, valor in diccionario.items():\n",
    "    print(\"la clave es {} y el valor es {}\".format(clave, valor))"
   ]
  },
  {
   "cell_type": "code",
   "execution_count": 67,
   "id": "3bc0d034",
   "metadata": {
    "execution": {
     "iopub.execute_input": "2021-05-20T15:52:02.301485Z",
     "iopub.status.busy": "2021-05-20T15:52:02.300537Z",
     "iopub.status.idle": "2021-05-20T15:52:02.303154Z",
     "shell.execute_reply": "2021-05-20T15:52:02.302741Z"
    },
    "slideshow": {
     "slide_type": "slide"
    }
   },
   "outputs": [
    {
     "name": "stdout",
     "output_type": "stream",
     "text": [
      "la clave es clave1 y el valor es valor1\n",
      "la clave es 2 y el valor es valor2\n",
      "la clave es clave3 y el valor es 3\n"
     ]
    }
   ],
   "source": [
    "# Cómo iterar un diccionario elemento por elemento\n",
    "for (\n",
    "    clave,\n",
    "    valor,\n",
    ") in (\n",
    "    diccionario.items()\n",
    "):  # diccionario.items() va devolviendo tuplas con el formato (clave,valor)\n",
    "    print(\n",
    "        f\"la clave es {clave} y el valor es {valor}\"\n",
    "    )  # con esta sintaxis se desempaquetan en clave y valor (similar a enumerate)"
   ]
  },
  {
   "cell_type": "code",
   "execution_count": 68,
   "id": "a8a846d8",
   "metadata": {
    "execution": {
     "iopub.execute_input": "2021-05-20T15:52:02.307377Z",
     "iopub.status.busy": "2021-05-20T15:52:02.306420Z",
     "iopub.status.idle": "2021-05-20T15:52:02.309023Z",
     "shell.execute_reply": "2021-05-20T15:52:02.308612Z"
    },
    "slideshow": {
     "slide_type": "slide"
    }
   },
   "outputs": [
    {
     "name": "stdout",
     "output_type": "stream",
     "text": [
      "clave1\n",
      "2\n",
      "clave3\n"
     ]
    }
   ],
   "source": [
    "for clave in diccionario.keys():\n",
    "    print(clave)"
   ]
  },
  {
   "cell_type": "code",
   "execution_count": 69,
   "id": "ab10e06f",
   "metadata": {
    "execution": {
     "iopub.execute_input": "2021-05-20T15:52:02.313247Z",
     "iopub.status.busy": "2021-05-20T15:52:02.312578Z",
     "iopub.status.idle": "2021-05-20T15:52:02.314803Z",
     "shell.execute_reply": "2021-05-20T15:52:02.315186Z"
    },
    "slideshow": {
     "slide_type": "slide"
    }
   },
   "outputs": [
    {
     "name": "stdout",
     "output_type": "stream",
     "text": [
      "valor1\n",
      "valor2\n",
      "3\n"
     ]
    }
   ],
   "source": [
    "for valor in diccionario.values():\n",
    "    print(valor)"
   ]
  },
  {
   "cell_type": "markdown",
   "id": "4818ff74",
   "metadata": {},
   "source": [
    "#### Sets\n",
    "\n",
    "Son similares a los diccionarios (en eficiencia) pero se almacenan solo claves, y tienen algunas operaciones particulares.\n",
    "\n",
    "En particular, no pueden tener elementos iguales (pensar que son conjuntos)"
   ]
  },
  {
   "cell_type": "code",
   "execution_count": 70,
   "id": "e017e15a",
   "metadata": {
    "execution": {
     "iopub.execute_input": "2021-05-20T15:52:02.318425Z",
     "iopub.status.busy": "2021-05-20T15:52:02.317962Z",
     "iopub.status.idle": "2021-05-20T15:52:02.321541Z",
     "shell.execute_reply": "2021-05-20T15:52:02.321918Z"
    }
   },
   "outputs": [],
   "source": [
    "set??"
   ]
  },
  {
   "cell_type": "code",
   "execution_count": 71,
   "id": "2f3a0d49",
   "metadata": {
    "execution": {
     "iopub.execute_input": "2021-05-20T15:52:02.325795Z",
     "iopub.status.busy": "2021-05-20T15:52:02.325311Z",
     "iopub.status.idle": "2021-05-20T15:52:02.327635Z",
     "shell.execute_reply": "2021-05-20T15:52:02.328023Z"
    }
   },
   "outputs": [
    {
     "data": {
      "text/plain": [
       "{1, 2, 3}"
      ]
     },
     "execution_count": 1,
     "metadata": {},
     "output_type": "execute_result"
    }
   ],
   "source": [
    "# Se definen como los diccionarios pero sin hacerlos 'clave:valor', solamente una seguidilla de elementos\n",
    "{1, 2, 2, 3}"
   ]
  },
  {
   "cell_type": "code",
   "execution_count": 72,
   "id": "536cec52",
   "metadata": {
    "execution": {
     "iopub.execute_input": "2021-05-20T15:52:02.332149Z",
     "iopub.status.busy": "2021-05-20T15:52:02.331659Z",
     "iopub.status.idle": "2021-05-20T15:52:02.333990Z",
     "shell.execute_reply": "2021-05-20T15:52:02.334373Z"
    }
   },
   "outputs": [
    {
     "data": {
      "text/plain": [
       "{1, 2, 3}"
      ]
     },
     "execution_count": 1,
     "metadata": {},
     "output_type": "execute_result"
    }
   ],
   "source": [
    "set([1, 2, 2, 3])"
   ]
  },
  {
   "cell_type": "markdown",
   "id": "2dfe69f7",
   "metadata": {},
   "source": [
    "## Condicionales (if...elif...else)\n",
    "\n",
    "```python\n",
    "if <condición_1>:\n",
    "    <hacer algo_1 si se da la condición_1>\n",
    "elif <condición_2>:\n",
    "    <hacer algo_2 si se da la condición_2>\n",
    "...\n",
    "elif <condición_n>:\n",
    "    <hacer algo_n si se da la condición_n>\n",
    "else:\n",
    "    <hacer otra cosa si no dan las anteriores>\n",
    "```\n",
    "\n",
    "Algo importante para notar es que los bloques se definen por **niveles de identacion**."
   ]
  },
  {
   "cell_type": "code",
   "execution_count": 73,
   "id": "9cb7bcb7",
   "metadata": {
    "execution": {
     "iopub.execute_input": "2021-05-20T15:52:02.338753Z",
     "iopub.status.busy": "2021-05-20T15:52:02.338073Z",
     "iopub.status.idle": "2021-05-20T15:52:02.340368Z",
     "shell.execute_reply": "2021-05-20T15:52:02.340750Z"
    }
   },
   "outputs": [
    {
     "name": "stdout",
     "output_type": "stream",
     "text": [
      "uno\n"
     ]
    }
   ],
   "source": [
    "v = 1\n",
    "if v == 1:\n",
    "    print(\"uno\")\n",
    "elif v == 2:\n",
    "    print(\"dos\")\n",
    "else:\n",
    "    print(\"ni idea\")\n",
    "    print(v)"
   ]
  },
  {
   "cell_type": "markdown",
   "id": "856f5ded",
   "metadata": {},
   "source": [
    "## Iteraciones\n",
    "\n",
    "```python\n",
    "while cond:\n",
    "    <codigo>\n",
    "```\n",
    "\n",
    "```python\n",
    "for elemento in iterable:\n",
    "    <codigo>\n",
    "```\n",
    "\n",
    "Para iterar sobre un rango de valores, usamos `range`"
   ]
  },
  {
   "cell_type": "code",
   "execution_count": 74,
   "id": "9a5a09b4",
   "metadata": {
    "execution": {
     "iopub.execute_input": "2021-05-20T15:52:02.345217Z",
     "iopub.status.busy": "2021-05-20T15:52:02.344377Z",
     "iopub.status.idle": "2021-05-20T15:52:02.346641Z",
     "shell.execute_reply": "2021-05-20T15:52:02.347030Z"
    }
   },
   "outputs": [
    {
     "name": "stdout",
     "output_type": "stream",
     "text": [
      "1\n",
      "4\n",
      "7\n",
      "10\n"
     ]
    }
   ],
   "source": [
    "for i in range(1, 11, 3):\n",
    "    print(i)"
   ]
  },
  {
   "cell_type": "markdown",
   "id": "31221f35",
   "metadata": {},
   "source": [
    "## Operadores logicos\n",
    "\n",
    "`not`, `or`, `and`"
   ]
  },
  {
   "cell_type": "code",
   "execution_count": 75,
   "id": "c8eef61e",
   "metadata": {
    "execution": {
     "iopub.execute_input": "2021-05-20T15:52:02.351026Z",
     "iopub.status.busy": "2021-05-20T15:52:02.350174Z",
     "iopub.status.idle": "2021-05-20T15:52:02.352831Z",
     "shell.execute_reply": "2021-05-20T15:52:02.352436Z"
    }
   },
   "outputs": [
    {
     "name": "stdout",
     "output_type": "stream",
     "text": [
      "yay\n"
     ]
    }
   ],
   "source": [
    "if True or False:\n",
    "    print(\"yay\")"
   ]
  },
  {
   "cell_type": "code",
   "execution_count": 76,
   "id": "bd23cfcd",
   "metadata": {
    "execution": {
     "iopub.execute_input": "2021-05-20T15:52:02.356587Z",
     "iopub.status.busy": "2021-05-20T15:52:02.356097Z",
     "iopub.status.idle": "2021-05-20T15:52:02.358413Z",
     "shell.execute_reply": "2021-05-20T15:52:02.358790Z"
    }
   },
   "outputs": [
    {
     "data": {
      "text/plain": [
       "False"
      ]
     },
     "execution_count": 1,
     "metadata": {},
     "output_type": "execute_result"
    }
   ],
   "source": [
    "1 == 2"
   ]
  },
  {
   "cell_type": "code",
   "execution_count": 77,
   "id": "54e27ade",
   "metadata": {
    "execution": {
     "iopub.execute_input": "2021-05-20T15:52:02.362552Z",
     "iopub.status.busy": "2021-05-20T15:52:02.362068Z",
     "iopub.status.idle": "2021-05-20T15:52:02.364403Z",
     "shell.execute_reply": "2021-05-20T15:52:02.364781Z"
    }
   },
   "outputs": [
    {
     "data": {
      "text/plain": [
       "True"
      ]
     },
     "execution_count": 1,
     "metadata": {},
     "output_type": "execute_result"
    }
   ],
   "source": [
    "1 != 2"
   ]
  },
  {
   "cell_type": "markdown",
   "id": "9236dcef",
   "metadata": {
    "slideshow": {
     "slide_type": "slide"
    }
   },
   "source": [
    "## Funciones en Python"
   ]
  },
  {
   "cell_type": "code",
   "execution_count": 78,
   "id": "07c67d48",
   "metadata": {
    "execution": {
     "iopub.execute_input": "2021-05-20T15:52:02.370877Z",
     "iopub.status.busy": "2021-05-20T15:52:02.370378Z",
     "iopub.status.idle": "2021-05-20T15:52:02.372640Z",
     "shell.execute_reply": "2021-05-20T15:52:02.373023Z"
    },
    "slideshow": {
     "slide_type": "slide"
    }
   },
   "outputs": [
    {
     "name": "stdout",
     "output_type": "stream",
     "text": [
      "True\n",
      "False\n"
     ]
    }
   ],
   "source": [
    "def busqueda_binaria(lista, elemento):\n",
    "    if not lista:\n",
    "        return False\n",
    "    elif len(lista) == 1:\n",
    "        return lista[0] == elemento\n",
    "    mitad = len(lista) // 2  # // es la operación división entera\n",
    "    if lista[mitad] == elemento:\n",
    "        return True\n",
    "    if lista[mitad] > elemento:\n",
    "        return busqueda_binaria(lista[:mitad], elemento)\n",
    "    if lista[mitad] < elemento:\n",
    "        return busqueda_binaria(lista[mitad:], elemento)\n",
    "\n",
    "\n",
    "print(busqueda_binaria([1, 2, 3, 4, 5], 4))\n",
    "print(busqueda_binaria([1, 4, 6, 7, 9, 10], 2))"
   ]
  },
  {
   "cell_type": "code",
   "execution_count": 79,
   "id": "8ef0c148",
   "metadata": {
    "execution": {
     "iopub.execute_input": "2021-05-20T15:52:02.378204Z",
     "iopub.status.busy": "2021-05-20T15:52:02.377008Z",
     "iopub.status.idle": "2021-05-20T15:52:02.379924Z",
     "shell.execute_reply": "2021-05-20T15:52:02.379468Z"
    }
   },
   "outputs": [
    {
     "name": "stdout",
     "output_type": "stream",
     "text": [
      "(3, 3, 3)\n"
     ]
    }
   ],
   "source": [
    "def a(b):\n",
    "    if a == 1:\n",
    "        print(a)\n",
    "    return (b, b, b)\n",
    "\n",
    "\n",
    "print(a(3))"
   ]
  },
  {
   "cell_type": "code",
   "execution_count": 80,
   "id": "616b74b3",
   "metadata": {
    "execution": {
     "iopub.execute_input": "2021-05-20T15:52:02.385699Z",
     "iopub.status.busy": "2021-05-20T15:52:02.384819Z",
     "iopub.status.idle": "2021-05-20T15:52:02.392857Z",
     "shell.execute_reply": "2021-05-20T15:52:02.393298Z"
    },
    "lines_to_next_cell": 2,
    "slideshow": {
     "slide_type": "slide"
    },
    "tags": [
     "raises-exception"
    ]
   },
   "outputs": [
    {
     "name": "stdout",
     "output_type": "stream",
     "text": [
      "3\n",
      "3.0\n",
      "3.0\n",
      "hola como te va\n",
      "[1, 2, 3, 4, 5]\n"
     ]
    },
    {
     "ename": "TypeError",
     "evalue": "can only concatenate str (not \"int\") to str",
     "output_type": "error",
     "traceback": [
      "\u001b[0;31m---------------------------------------------------------------------------\u001b[0m",
      "\u001b[0;31mTypeError\u001b[0m                                 Traceback (most recent call last)",
      "\u001b[0;32m<ipython-input-1-c2a6a99a90c7>\u001b[0m in \u001b[0;36m<module>\u001b[0;34m\u001b[0m\n\u001b[1;32m      8\u001b[0m \u001b[0mprint\u001b[0m\u001b[0;34m(\u001b[0m\u001b[0msuma\u001b[0m\u001b[0;34m(\u001b[0m\u001b[0;34m\"hola \"\u001b[0m\u001b[0;34m,\u001b[0m \u001b[0;34m\"como te va\"\u001b[0m\u001b[0;34m)\u001b[0m\u001b[0;34m)\u001b[0m\u001b[0;34m\u001b[0m\u001b[0;34m\u001b[0m\u001b[0m\n\u001b[1;32m      9\u001b[0m \u001b[0mprint\u001b[0m\u001b[0;34m(\u001b[0m\u001b[0msuma\u001b[0m\u001b[0;34m(\u001b[0m\u001b[0;34m[\u001b[0m\u001b[0;36m1\u001b[0m\u001b[0;34m,\u001b[0m \u001b[0;36m2\u001b[0m\u001b[0;34m,\u001b[0m \u001b[0;36m3\u001b[0m\u001b[0;34m]\u001b[0m\u001b[0;34m,\u001b[0m \u001b[0;34m[\u001b[0m\u001b[0;36m4\u001b[0m\u001b[0;34m,\u001b[0m \u001b[0;36m5\u001b[0m\u001b[0;34m]\u001b[0m\u001b[0;34m)\u001b[0m\u001b[0;34m)\u001b[0m\u001b[0;34m\u001b[0m\u001b[0;34m\u001b[0m\u001b[0m\n\u001b[0;32m---> 10\u001b[0;31m \u001b[0mprint\u001b[0m\u001b[0;34m(\u001b[0m\u001b[0msuma\u001b[0m\u001b[0;34m(\u001b[0m\u001b[0;34m\"1\"\u001b[0m\u001b[0;34m,\u001b[0m \u001b[0;36m3\u001b[0m\u001b[0;34m)\u001b[0m\u001b[0;34m)\u001b[0m  \u001b[0;31m# Falla\u001b[0m\u001b[0;34m\u001b[0m\u001b[0;34m\u001b[0m\u001b[0m\n\u001b[0m",
      "\u001b[0;32m<ipython-input-1-c2a6a99a90c7>\u001b[0m in \u001b[0;36msuma\u001b[0;34m(a, b)\u001b[0m\n\u001b[1;32m      1\u001b[0m \u001b[0;32mdef\u001b[0m \u001b[0msuma\u001b[0m\u001b[0;34m(\u001b[0m\u001b[0ma\u001b[0m\u001b[0;34m,\u001b[0m \u001b[0mb\u001b[0m\u001b[0;34m)\u001b[0m\u001b[0;34m:\u001b[0m\u001b[0;34m\u001b[0m\u001b[0;34m\u001b[0m\u001b[0m\n\u001b[0;32m----> 2\u001b[0;31m     \u001b[0;32mreturn\u001b[0m \u001b[0ma\u001b[0m \u001b[0;34m+\u001b[0m \u001b[0mb\u001b[0m\u001b[0;34m\u001b[0m\u001b[0;34m\u001b[0m\u001b[0m\n\u001b[0m\u001b[1;32m      3\u001b[0m \u001b[0;34m\u001b[0m\u001b[0m\n\u001b[1;32m      4\u001b[0m \u001b[0;34m\u001b[0m\u001b[0m\n\u001b[1;32m      5\u001b[0m \u001b[0mprint\u001b[0m\u001b[0;34m(\u001b[0m\u001b[0msuma\u001b[0m\u001b[0;34m(\u001b[0m\u001b[0;36m1\u001b[0m\u001b[0;34m,\u001b[0m \u001b[0;36m2\u001b[0m\u001b[0;34m)\u001b[0m\u001b[0;34m)\u001b[0m\u001b[0;34m\u001b[0m\u001b[0;34m\u001b[0m\u001b[0m\n",
      "\u001b[0;31mTypeError\u001b[0m: can only concatenate str (not \"int\") to str"
     ]
    }
   ],
   "source": [
    "def suma(a, b):\n",
    "    return a + b\n",
    "\n",
    "\n",
    "print(suma(1, 2))\n",
    "print(suma(1.0, 2.0))\n",
    "print(suma(1.0, 2))\n",
    "print(suma(\"hola \", \"como te va\"))\n",
    "print(suma([1, 2, 3], [4, 5]))\n",
    "print(suma(\"1\", 3))  # Falla"
   ]
  },
  {
   "cell_type": "code",
   "execution_count": 81,
   "id": "a3c74ee6",
   "metadata": {
    "execution": {
     "iopub.execute_input": "2021-05-20T15:52:02.397907Z",
     "iopub.status.busy": "2021-05-20T15:52:02.396952Z",
     "iopub.status.idle": "2021-05-20T15:52:02.399646Z",
     "shell.execute_reply": "2021-05-20T15:52:02.399196Z"
    }
   },
   "outputs": [
    {
     "name": "stdout",
     "output_type": "stream",
     "text": [
      "2.0\n"
     ]
    }
   ],
   "source": [
    "# El valor por default de divisor es 1\n",
    "\n",
    "\n",
    "def division(dividendo, divisor=2):\n",
    "    return dividendo / divisor\n",
    "\n",
    "\n",
    "print(division(4))  # Usa el valor por default"
   ]
  },
  {
   "cell_type": "code",
   "execution_count": 82,
   "id": "b2f8f92a",
   "metadata": {
    "execution": {
     "iopub.execute_input": "2021-05-20T15:52:02.406795Z",
     "iopub.status.busy": "2021-05-20T15:52:02.404301Z",
     "iopub.status.idle": "2021-05-20T15:52:02.409275Z",
     "shell.execute_reply": "2021-05-20T15:52:02.409692Z"
    },
    "tags": [
     "raises-exception"
    ]
   },
   "outputs": [
    {
     "name": "stdout",
     "output_type": "stream",
     "text": [
      "0.5\n",
      "0.5\n"
     ]
    },
    {
     "ename": "TypeError",
     "evalue": "division() missing 1 required positional argument: 'dividendo'",
     "output_type": "error",
     "traceback": [
      "\u001b[0;31m---------------------------------------------------------------------------\u001b[0m",
      "\u001b[0;31mTypeError\u001b[0m                                 Traceback (most recent call last)",
      "\u001b[0;32m<ipython-input-1-34eff3833138>\u001b[0m in \u001b[0;36m<module>\u001b[0;34m\u001b[0m\n\u001b[1;32m      1\u001b[0m \u001b[0mprint\u001b[0m\u001b[0;34m(\u001b[0m\u001b[0mdivision\u001b[0m\u001b[0;34m(\u001b[0m\u001b[0;36m1\u001b[0m\u001b[0;34m,\u001b[0m \u001b[0;36m2\u001b[0m\u001b[0;34m)\u001b[0m\u001b[0;34m)\u001b[0m  \u001b[0;31m# Parámetros por orden\u001b[0m\u001b[0;34m\u001b[0m\u001b[0;34m\u001b[0m\u001b[0m\n\u001b[1;32m      2\u001b[0m \u001b[0mprint\u001b[0m\u001b[0;34m(\u001b[0m\u001b[0mdivision\u001b[0m\u001b[0;34m(\u001b[0m\u001b[0mdividendo\u001b[0m\u001b[0;34m=\u001b[0m\u001b[0;36m1\u001b[0m\u001b[0;34m,\u001b[0m \u001b[0mdivisor\u001b[0m\u001b[0;34m=\u001b[0m\u001b[0;36m2\u001b[0m\u001b[0;34m)\u001b[0m\u001b[0;34m)\u001b[0m  \u001b[0;31m# Parámetros por nombre\u001b[0m\u001b[0;34m\u001b[0m\u001b[0;34m\u001b[0m\u001b[0m\n\u001b[0;32m----> 3\u001b[0;31m \u001b[0mprint\u001b[0m\u001b[0;34m(\u001b[0m\u001b[0mdivision\u001b[0m\u001b[0;34m(\u001b[0m\u001b[0mdivisor\u001b[0m\u001b[0;34m=\u001b[0m\u001b[0;36m2\u001b[0m\u001b[0;34m)\u001b[0m\u001b[0;34m)\u001b[0m\u001b[0;34m\u001b[0m\u001b[0;34m\u001b[0m\u001b[0m\n\u001b[0m",
      "\u001b[0;31mTypeError\u001b[0m: division() missing 1 required positional argument: 'dividendo'"
     ]
    }
   ],
   "source": [
    "print(division(1, 2))  # Parámetros por orden\n",
    "print(division(dividendo=1, divisor=2))  # Parámetros por nombre\n",
    "print(division(divisor=2))"
   ]
  },
  {
   "cell_type": "code",
   "execution_count": 83,
   "id": "8651ab4d",
   "metadata": {
    "execution": {
     "iopub.execute_input": "2021-05-20T15:52:02.414090Z",
     "iopub.status.busy": "2021-05-20T15:52:02.413135Z",
     "iopub.status.idle": "2021-05-20T15:52:02.415814Z",
     "shell.execute_reply": "2021-05-20T15:52:02.415389Z"
    }
   },
   "outputs": [
    {
     "name": "stdout",
     "output_type": "stream",
     "text": [
      "0.5\n"
     ]
    }
   ],
   "source": [
    "print(division(divisor=2, dividendo=1))"
   ]
  },
  {
   "cell_type": "code",
   "execution_count": 84,
   "id": "73fc9232",
   "metadata": {
    "execution": {
     "iopub.execute_input": "2021-05-20T15:52:02.421365Z",
     "iopub.status.busy": "2021-05-20T15:52:02.420315Z",
     "iopub.status.idle": "2021-05-20T15:52:02.422976Z",
     "shell.execute_reply": "2021-05-20T15:52:02.422556Z"
    }
   },
   "outputs": [
    {
     "name": "stdout",
     "output_type": "stream",
     "text": [
      "['a', 'b', 'c']\n",
      "[1, 2, 3]\n",
      "['hola', ' don', ' pepito']\n",
      "hola -  don -  pepito\n"
     ]
    }
   ],
   "source": [
    "# Funciones básicas ya en el lenguaje\n",
    "# Hechas para funcionar para distintos tipos\n",
    "\n",
    "string_ordenado = sorted('bca')\n",
    "print(string_ordenado)\n",
    "\n",
    "lista_ordenada = sorted([1, 3, 2])\n",
    "print(lista_ordenada)\n",
    "\n",
    "separadas = \"hola, don, pepito\".split(\",\")\n",
    "print(separadas)\n",
    "unidas = \" - \".join(separadas)\n",
    "print(unidas)"
   ]
  },
  {
   "cell_type": "markdown",
   "id": "2b953eef",
   "metadata": {},
   "source": [
    "## Módulos\n",
    "\n",
    "Para incluir alguna biblioteca de funciones se usa `import`. Pueden ser cosas ya predefinidas en Python (`math`, `random`, etc), nombres de archivos en nuestro directorio (por ejemplo, para `mimodulo.py` ponemos `import mimodulo`) o bibliotecas instaladas por el usuario"
   ]
  },
  {
   "cell_type": "code",
   "execution_count": 85,
   "id": "242142dd",
   "metadata": {
    "execution": {
     "iopub.execute_input": "2021-05-20T15:52:02.427230Z",
     "iopub.status.busy": "2021-05-20T15:52:02.426234Z",
     "iopub.status.idle": "2021-05-20T15:52:02.428902Z",
     "shell.execute_reply": "2021-05-20T15:52:02.428484Z"
    }
   },
   "outputs": [
    {
     "name": "stdout",
     "output_type": "stream",
     "text": [
      "3.141592653589793\n"
     ]
    }
   ],
   "source": [
    "import math\n",
    "\n",
    "print(math.pi)"
   ]
  },
  {
   "cell_type": "code",
   "execution_count": 86,
   "id": "866215a6",
   "metadata": {
    "execution": {
     "iopub.execute_input": "2021-05-20T15:52:02.433229Z",
     "iopub.status.busy": "2021-05-20T15:52:02.432265Z",
     "iopub.status.idle": "2021-05-20T15:52:02.434905Z",
     "shell.execute_reply": "2021-05-20T15:52:02.434507Z"
    }
   },
   "outputs": [
    {
     "name": "stdout",
     "output_type": "stream",
     "text": [
      "3.141592653589793 2.718281828459045\n"
     ]
    }
   ],
   "source": [
    "from math import pi, e\n",
    "\n",
    "print(pi, e)"
   ]
  },
  {
   "cell_type": "code",
   "execution_count": 87,
   "id": "9921a274",
   "metadata": {
    "execution": {
     "iopub.execute_input": "2021-05-20T15:52:02.438940Z",
     "iopub.status.busy": "2021-05-20T15:52:02.438449Z",
     "iopub.status.idle": "2021-05-20T15:52:02.440831Z",
     "shell.execute_reply": "2021-05-20T15:52:02.441215Z"
    }
   },
   "outputs": [
    {
     "data": {
      "text/plain": [
       "2"
      ]
     },
     "execution_count": 1,
     "metadata": {},
     "output_type": "execute_result"
    }
   ],
   "source": [
    "math.gcd(56, 78)"
   ]
  },
  {
   "cell_type": "markdown",
   "id": "b06d50a9",
   "metadata": {},
   "source": [
    "## Manejo de excepciones\n",
    "\n",
    "Se pueden encapsular errores esperados en un bloque 'try/except' para evitar cortar el flujo del programa"
   ]
  },
  {
   "cell_type": "code",
   "execution_count": 88,
   "id": "c61d0218",
   "metadata": {
    "execution": {
     "iopub.execute_input": "2021-05-20T15:52:02.444417Z",
     "iopub.status.busy": "2021-05-20T15:52:02.443945Z",
     "iopub.status.idle": "2021-05-20T15:52:02.451322Z",
     "shell.execute_reply": "2021-05-20T15:52:02.450900Z"
    },
    "tags": [
     "raises-exception"
    ]
   },
   "outputs": [
    {
     "ename": "ZeroDivisionError",
     "evalue": "division by zero",
     "output_type": "error",
     "traceback": [
      "\u001b[0;31m---------------------------------------------------------------------------\u001b[0m",
      "\u001b[0;31mZeroDivisionError\u001b[0m                         Traceback (most recent call last)",
      "\u001b[0;32m<ipython-input-1-f031f77b1a55>\u001b[0m in \u001b[0;36m<module>\u001b[0;34m\u001b[0m\n\u001b[0;32m----> 1\u001b[0;31m \u001b[0mdivision\u001b[0m\u001b[0;34m(\u001b[0m\u001b[0;36m1\u001b[0m\u001b[0;34m,\u001b[0m \u001b[0;36m0\u001b[0m\u001b[0;34m)\u001b[0m  \u001b[0;31m# No se puede dividir por cero\u001b[0m\u001b[0;34m\u001b[0m\u001b[0;34m\u001b[0m\u001b[0m\n\u001b[0m",
      "\u001b[0;32m<ipython-input-1-0d991d7de762>\u001b[0m in \u001b[0;36mdivision\u001b[0;34m(dividendo, divisor)\u001b[0m\n\u001b[1;32m      3\u001b[0m \u001b[0;34m\u001b[0m\u001b[0m\n\u001b[1;32m      4\u001b[0m \u001b[0;32mdef\u001b[0m \u001b[0mdivision\u001b[0m\u001b[0;34m(\u001b[0m\u001b[0mdividendo\u001b[0m\u001b[0;34m,\u001b[0m \u001b[0mdivisor\u001b[0m\u001b[0;34m=\u001b[0m\u001b[0;36m2\u001b[0m\u001b[0;34m)\u001b[0m\u001b[0;34m:\u001b[0m\u001b[0;34m\u001b[0m\u001b[0;34m\u001b[0m\u001b[0m\n\u001b[0;32m----> 5\u001b[0;31m     \u001b[0;32mreturn\u001b[0m \u001b[0mdividendo\u001b[0m \u001b[0;34m/\u001b[0m \u001b[0mdivisor\u001b[0m\u001b[0;34m\u001b[0m\u001b[0;34m\u001b[0m\u001b[0m\n\u001b[0m\u001b[1;32m      6\u001b[0m \u001b[0;34m\u001b[0m\u001b[0m\n\u001b[1;32m      7\u001b[0m \u001b[0;34m\u001b[0m\u001b[0m\n",
      "\u001b[0;31mZeroDivisionError\u001b[0m: division by zero"
     ]
    }
   ],
   "source": [
    "division(1, 0)  # No se puede dividir por cero"
   ]
  },
  {
   "cell_type": "code",
   "execution_count": 89,
   "id": "3f4c4983",
   "metadata": {
    "execution": {
     "iopub.execute_input": "2021-05-20T15:52:02.456032Z",
     "iopub.status.busy": "2021-05-20T15:52:02.455040Z",
     "iopub.status.idle": "2021-05-20T15:52:02.457682Z",
     "shell.execute_reply": "2021-05-20T15:52:02.457278Z"
    }
   },
   "outputs": [
    {
     "name": "stdout",
     "output_type": "stream",
     "text": [
      "No se puede dividir por cero, ojo! division by zero\n",
      "1\n"
     ]
    }
   ],
   "source": [
    "try:\n",
    "    division(1, 0)\n",
    "except (ZeroDivisionError, TypeError) as e:\n",
    "    print('No se puede dividir por cero, ojo!', e)\n",
    "finally:\n",
    "    print(1)"
   ]
  },
  {
   "cell_type": "markdown",
   "id": "c81671a9",
   "metadata": {
    "slideshow": {
     "slide_type": "slide"
    }
   },
   "source": [
    "## Lectura y escritura de archivos"
   ]
  },
  {
   "cell_type": "code",
   "execution_count": 90,
   "id": "42654a9d",
   "metadata": {
    "execution": {
     "iopub.execute_input": "2021-05-20T15:52:02.462331Z",
     "iopub.status.busy": "2021-05-20T15:52:02.461832Z",
     "iopub.status.idle": "2021-05-20T15:52:02.464171Z",
     "shell.execute_reply": "2021-05-20T15:52:02.464555Z"
    },
    "slideshow": {
     "slide_type": "slide"
    }
   },
   "outputs": [
    {
     "name": "stdout",
     "output_type": "stream",
     "text": [
      "<_io.TextIOWrapper name='archivo.csv' mode='w' encoding='UTF-8'>\n"
     ]
    }
   ],
   "source": [
    "import random\n",
    "\n",
    "with open(\n",
    "    'archivo.csv', 'w'\n",
    ") as archivo:  # Al usar esta sintaxis no es necesario hacer close\n",
    "    archivo.write(\"Alumno, nota\\n\")\n",
    "    # Tambien de forma similar al fprintf se puede hacer:\n",
    "    # print(\"Alumno, nota\\n\", file=archivo)\n",
    "    for i in range(0, 10):\n",
    "        archivo.write(f\"{i},{random.randrange(0,10)}\\n\")\n",
    "\n",
    "print(archivo)  # Comentario aclaratorio:\n",
    "# Las variables definidas en un determinado scope siguen existiendo por fuera del mismo.\n",
    "# Se debe tener cuidado con esto, ya que nada garantiza que por fuera el valor sea el esperado."
   ]
  },
  {
   "cell_type": "code",
   "execution_count": 91,
   "id": "85c5a6dd",
   "metadata": {
    "execution": {
     "iopub.execute_input": "2021-05-20T15:52:02.469448Z",
     "iopub.status.busy": "2021-05-20T15:52:02.468951Z",
     "iopub.status.idle": "2021-05-20T15:52:02.471197Z",
     "shell.execute_reply": "2021-05-20T15:52:02.471596Z"
    },
    "slideshow": {
     "slide_type": "slide"
    }
   },
   "outputs": [
    {
     "name": "stdout",
     "output_type": "stream",
     "text": [
      "Alumno, nota\n",
      "0,9\n",
      "1,9\n",
      "2,8\n",
      "3,9\n",
      "4,3\n",
      "5,5\n",
      "6,9\n",
      "7,8\n",
      "8,4\n",
      "9,4\n"
     ]
    }
   ],
   "source": [
    "with open('archivo.csv', 'r') as f:\n",
    "    for linea in f:\n",
    "        print(linea.strip())"
   ]
  },
  {
   "cell_type": "code",
   "execution_count": 92,
   "id": "876c06be",
   "metadata": {
    "execution": {
     "iopub.execute_input": "2021-05-20T15:52:02.475400Z",
     "iopub.status.busy": "2021-05-20T15:52:02.474895Z",
     "iopub.status.idle": "2021-05-20T15:52:02.477162Z",
     "shell.execute_reply": "2021-05-20T15:52:02.477539Z"
    }
   },
   "outputs": [
    {
     "name": "stdout",
     "output_type": "stream",
     "text": [
      "Alumno, nota\n",
      "0,9\n",
      "1,9\n",
      "2,8\n",
      "3,9\n",
      "4,3\n",
      "5,5\n",
      "6,9\n",
      "7,8\n",
      "8,4\n",
      "9,4\n",
      "\n"
     ]
    }
   ],
   "source": [
    "with open('archivo.csv', 'r') as f:\n",
    "    print(f.read())"
   ]
  },
  {
   "cell_type": "code",
   "execution_count": 93,
   "id": "d320e760",
   "metadata": {
    "execution": {
     "iopub.execute_input": "2021-05-20T15:52:02.481012Z",
     "iopub.status.busy": "2021-05-20T15:52:02.480526Z",
     "iopub.status.idle": "2021-05-20T15:52:02.483015Z",
     "shell.execute_reply": "2021-05-20T15:52:02.483385Z"
    }
   },
   "outputs": [],
   "source": [
    "f = open('archivo.csv', 'w')\n",
    "f.write(\"algo, algo\")\n",
    "f.close()"
   ]
  },
  {
   "cell_type": "markdown",
   "id": "5dfdc4ae",
   "metadata": {
    "slideshow": {
     "slide_type": "slide"
    }
   },
   "source": [
    "## Objetos\n",
    "\n",
    "Los objetos tienen metodos y atributos:\n",
    "- Atributos: equivalentes a variables.\n",
    "- Métodos: equivalentes a las primitivas."
   ]
  },
  {
   "cell_type": "markdown",
   "id": "9d31ece9",
   "metadata": {
    "slideshow": {
     "slide_type": "slide"
    }
   },
   "source": [
    "### Cómo creo una clase"
   ]
  },
  {
   "cell_type": "code",
   "execution_count": 94,
   "id": "49d20a35",
   "metadata": {
    "execution": {
     "iopub.execute_input": "2021-05-20T15:52:02.490373Z",
     "iopub.status.busy": "2021-05-20T15:52:02.489407Z",
     "iopub.status.idle": "2021-05-20T15:52:02.491020Z",
     "shell.execute_reply": "2021-05-20T15:52:02.491402Z"
    },
    "slideshow": {
     "slide_type": "slide"
    }
   },
   "outputs": [],
   "source": [
    "class Nodo(object):\n",
    "    def __init__(self, dato, siguiente=None):\n",
    "        self._dato = dato\n",
    "        self._siguiente = siguiente\n",
    "\n",
    "    @property\n",
    "    def dato(self):\n",
    "        return self._dato\n",
    "\n",
    "    @property\n",
    "    def proximo(self):\n",
    "        return self._siguiente\n",
    "\n",
    "    @proximo.setter\n",
    "    def proximo(self, siguiente):\n",
    "        self._siguiente = siguiente\n",
    "\n",
    "    def __repr__(self):\n",
    "        return str(self.dato)\n",
    "\n",
    "    def __str__(self):\n",
    "        return str(self.dato)"
   ]
  },
  {
   "cell_type": "code",
   "execution_count": 95,
   "id": "c7d8a942",
   "metadata": {
    "execution": {
     "iopub.execute_input": "2021-05-20T15:52:02.495469Z",
     "iopub.status.busy": "2021-05-20T15:52:02.494609Z",
     "iopub.status.idle": "2021-05-20T15:52:02.496917Z",
     "shell.execute_reply": "2021-05-20T15:52:02.497299Z"
    },
    "slideshow": {
     "slide_type": "slide"
    }
   },
   "outputs": [
    {
     "name": "stdout",
     "output_type": "stream",
     "text": [
      "hola\n"
     ]
    }
   ],
   "source": [
    "nodo = Nodo(\"hola\")\n",
    "print(nodo)"
   ]
  },
  {
   "cell_type": "code",
   "execution_count": 96,
   "id": "1b82f4a0",
   "metadata": {
    "execution": {
     "iopub.execute_input": "2021-05-20T15:52:02.501560Z",
     "iopub.status.busy": "2021-05-20T15:52:02.500561Z",
     "iopub.status.idle": "2021-05-20T15:52:02.503243Z",
     "shell.execute_reply": "2021-05-20T15:52:02.502834Z"
    },
    "slideshow": {
     "slide_type": "slide"
    }
   },
   "outputs": [
    {
     "name": "stdout",
     "output_type": "stream",
     "text": [
      "[hola, lala]\n"
     ]
    }
   ],
   "source": [
    "nodo2 = Nodo(\"lala\")\n",
    "print([nodo, nodo2])"
   ]
  },
  {
   "cell_type": "code",
   "execution_count": 97,
   "id": "d1634a9d",
   "metadata": {
    "execution": {
     "iopub.execute_input": "2021-05-20T15:52:02.507309Z",
     "iopub.status.busy": "2021-05-20T15:52:02.506450Z",
     "iopub.status.idle": "2021-05-20T15:52:02.508747Z",
     "shell.execute_reply": "2021-05-20T15:52:02.509160Z"
    },
    "slideshow": {
     "slide_type": "slide"
    }
   },
   "outputs": [
    {
     "name": "stdout",
     "output_type": "stream",
     "text": [
      "hola\n"
     ]
    }
   ],
   "source": [
    "nodo3 = nodo.dato\n",
    "print(nodo3)"
   ]
  },
  {
   "cell_type": "markdown",
   "id": "8e3c3920",
   "metadata": {
    "slideshow": {
     "slide_type": "slide"
    }
   },
   "source": [
    "### Ejemplo: Lista Enlazada"
   ]
  },
  {
   "cell_type": "code",
   "execution_count": 98,
   "id": "45ef980f",
   "metadata": {
    "execution": {
     "iopub.execute_input": "2021-05-20T15:52:02.518399Z",
     "iopub.status.busy": "2021-05-20T15:52:02.517362Z",
     "iopub.status.idle": "2021-05-20T15:52:02.519005Z",
     "shell.execute_reply": "2021-05-20T15:52:02.519420Z"
    },
    "slideshow": {
     "slide_type": "slide"
    }
   },
   "outputs": [],
   "source": [
    "class ListaEnlazada(object):\n",
    "    def __init__(self):\n",
    "        self._primero = None\n",
    "        self._ultimo = None\n",
    "        self._largo = 0\n",
    "\n",
    "    def __len__(self):\n",
    "        return self._largo\n",
    "\n",
    "    def insertar_al_principio(self, dato):\n",
    "        nodo = Nodo(dato, self._primero)\n",
    "        self._primero = nodo\n",
    "        self._largo += 1\n",
    "        if self._largo == 1:\n",
    "            self._ultimo = nodo\n",
    "\n",
    "    def insertar_al_final(self, dato):\n",
    "        if self._largo != 0:\n",
    "            nodo = Nodo(dato)\n",
    "            nodo_anterior = self._ultimo\n",
    "            nodo_anterior._siguiente = nodo\n",
    "            self._ultimo = nodo\n",
    "            self._largo += 1\n",
    "        else:\n",
    "            self.insertar_al_principio(dato)\n",
    "\n",
    "    @property\n",
    "    def primero(self):\n",
    "        return self._primero.dato\n",
    "\n",
    "    def borrar_primero(self):\n",
    "        dato = self.primero.dato\n",
    "        self._primero = self.primero.siguiente\n",
    "        self._largo -= 1\n",
    "        if self._largo == 0:\n",
    "            self._ultimo = None\n",
    "        return dato\n",
    "\n",
    "    def __str__(self):\n",
    "        datos = []\n",
    "        nodo_actual = self._primero\n",
    "        while nodo_actual:\n",
    "            datos.append(nodo_actual.dato)\n",
    "            nodo_actual = nodo_actual.proximo\n",
    "        return \" -> \".join(datos)\n",
    "\n",
    "    def __repr__(self):\n",
    "        return self.__str__()"
   ]
  },
  {
   "cell_type": "code",
   "execution_count": 99,
   "id": "da19c8cb",
   "metadata": {
    "execution": {
     "iopub.execute_input": "2021-05-20T15:52:02.523839Z",
     "iopub.status.busy": "2021-05-20T15:52:02.523323Z",
     "iopub.status.idle": "2021-05-20T15:52:02.526084Z",
     "shell.execute_reply": "2021-05-20T15:52:02.526471Z"
    },
    "slideshow": {
     "slide_type": "slide"
    }
   },
   "outputs": [
    {
     "data": {
      "text/plain": [
       "2"
      ]
     },
     "execution_count": 1,
     "metadata": {},
     "output_type": "execute_result"
    }
   ],
   "source": [
    "lista = ListaEnlazada()\n",
    "lista.insertar_al_principio(\"Primer Dato\")\n",
    "lista.insertar_al_principio(\"Primer primer Dato\")\n",
    "len(lista)"
   ]
  },
  {
   "cell_type": "code",
   "execution_count": 100,
   "id": "37c8608f",
   "metadata": {
    "execution": {
     "iopub.execute_input": "2021-05-20T15:52:02.530433Z",
     "iopub.status.busy": "2021-05-20T15:52:02.529939Z",
     "iopub.status.idle": "2021-05-20T15:52:02.532344Z",
     "shell.execute_reply": "2021-05-20T15:52:02.532737Z"
    }
   },
   "outputs": [
    {
     "data": {
      "text/plain": [
       "Primer primer Dato -> Primer Dato"
      ]
     },
     "execution_count": 1,
     "metadata": {},
     "output_type": "execute_result"
    }
   ],
   "source": [
    "lista"
   ]
  },
  {
   "cell_type": "code",
   "execution_count": 101,
   "id": "cb3b0832",
   "metadata": {
    "execution": {
     "iopub.execute_input": "2021-05-20T15:52:02.537046Z",
     "iopub.status.busy": "2021-05-20T15:52:02.536019Z",
     "iopub.status.idle": "2021-05-20T15:52:02.538835Z",
     "shell.execute_reply": "2021-05-20T15:52:02.538416Z"
    },
    "slideshow": {
     "slide_type": "slide"
    }
   },
   "outputs": [
    {
     "name": "stdout",
     "output_type": "stream",
     "text": [
      "Primer primer Dato\n"
     ]
    }
   ],
   "source": [
    "elemento = lista.primero\n",
    "print(elemento)"
   ]
  },
  {
   "cell_type": "markdown",
   "id": "8a6cb503",
   "metadata": {},
   "source": [
    "## Recursos\n",
    "\n",
    "* [Taller de Python de Algoritmos II](https://github.com/algoritmos-rw/algo2_apuntes)\n",
    "\n",
    "* [Documentación de Python 3](https://docs.python.org/3/tutorial/)\n",
    "\n",
    "* [Apunte de Algoritmos y Programación I](https://algoritmos1rw.ddns.net/material)\n",
    "\n",
    "* [Automate the Boring Stuff with Python](http://automatetheboringstuff.com/)\n",
    "\n",
    "* [Curso Python](https://pythoncurso.github.io)\n",
    "\n",
    "* [Python Tutor](http://pythontutor.com/)\n",
    "\n",
    "* [Learn Python3 in Y minutes](https://learnxinyminutes.com/docs/python3/)\n",
    "\n",
    "* [Bibliografía de Algoritmos y Programación I](https://algoritmos1rw.ddns.net/bibliografia)"
   ]
  }
 ],
 "metadata": {
  "jupytext": {
   "encoding": "# -*- coding: utf-8 -*-",
   "formats": "ipynb,py:light"
  },
  "kernelspec": {
   "display_name": "Python 3 (venv)",
   "language": "python",
   "name": "python3"
  },
  "language_info": {
   "codemirror_mode": {
    "name": "ipython",
    "version": 3
   },
   "file_extension": ".py",
   "mimetype": "text/x-python",
   "name": "python",
   "nbconvert_exporter": "python",
   "pygments_lexer": "ipython3",
   "version": "3.7.10"
  }
 },
 "nbformat": 4,
 "nbformat_minor": 5
}
