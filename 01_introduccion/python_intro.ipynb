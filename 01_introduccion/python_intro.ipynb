{
 "cells": [
  {
   "cell_type": "markdown",
   "id": "89238022",
   "metadata": {},
   "source": [
    "# Python"
   ]
  },
  {
   "cell_type": "markdown",
   "id": "794dfa61",
   "metadata": {
    "slideshow": {
     "slide_type": "slide"
    }
   },
   "source": [
    "## Un poco de Historia"
   ]
  },
  {
   "cell_type": "markdown",
   "id": "5ce0743c",
   "metadata": {
    "slideshow": {
     "slide_type": "subslide"
    }
   },
   "source": [
    "Python fue creado a finales de los años 80 por un programador holandés llamado **Guido van Rossum**,\n",
    "quien sigue siendo aún hoy el líder del desarrollo del lenguaje.\n",
    "\n",
    "(Edit julio 2018: [ya no más](https://www.mail-archive.com/python-committers@python.org/msg05628.html))"
   ]
  },
  {
   "cell_type": "markdown",
   "id": "fe036d41",
   "metadata": {
    "slideshow": {
     "slide_type": "subslide"
    }
   },
   "source": [
    "El nombre del lenguaje proviene de los humoristas británicos Monty Python.\n",
    "\n",
    ">*\"I chose Python as a working title for the project, being in a slightly irreverent mood (and a big fan of Monty Python's Flying Circus).\"*"
   ]
  },
  {
   "cell_type": "markdown",
   "id": "24f2d625",
   "metadata": {
    "slideshow": {
     "slide_type": "slide"
    }
   },
   "source": [
    "## Caracteristicas\n",
    "\n",
    "- Interpretado\n",
    "- Tipado dinamico\n",
    "- Multiparadigma\n",
    "- Alto nivel\n",
    "- Tiene un recolector de basura (no hay malloc, free, realloc, etc)"
   ]
  },
  {
   "cell_type": "markdown",
   "id": "f8cceba1",
   "metadata": {},
   "source": [
    "## ¿Cómo empezar?\n",
    "\n",
    "* Al ser un lenguaje *interpretado*, se puede ir escribiendo a medida que se ejecuta, sin necesidad de compilar de antemano! Solamente hace falta escribir `python` o `python3` en una terminal para empezar\n",
    "\n",
    "* También, permite escribir archivos y correrlos. Crear un archivo con extensión `.py` y luego correr `python miarchivo.py` en laterminal"
   ]
  },
  {
   "cell_type": "markdown",
   "id": "65c56279",
   "metadata": {
    "slideshow": {
     "slide_type": "slide"
    }
   },
   "source": [
    "## El Zen de Python"
   ]
  },
  {
   "cell_type": "code",
   "execution_count": 1,
   "id": "c687ee3e",
   "metadata": {
    "execution": {
     "iopub.execute_input": "2021-04-28T21:19:41.855842Z",
     "iopub.status.busy": "2021-04-28T21:19:41.855260Z",
     "iopub.status.idle": "2021-04-28T21:19:41.890767Z",
     "shell.execute_reply": "2021-04-28T21:19:41.889747Z"
    },
    "slideshow": {
     "slide_type": "slide"
    }
   },
   "outputs": [
    {
     "name": "stdout",
     "output_type": "stream",
     "text": [
      "The Zen of Python, by Tim Peters\n",
      "\n",
      "Beautiful is better than ugly.\n",
      "Explicit is better than implicit.\n",
      "Simple is better than complex.\n",
      "Complex is better than complicated.\n",
      "Flat is better than nested.\n",
      "Sparse is better than dense.\n",
      "Readability counts.\n",
      "Special cases aren't special enough to break the rules.\n",
      "Although practicality beats purity.\n",
      "Errors should never pass silently.\n",
      "Unless explicitly silenced.\n",
      "In the face of ambiguity, refuse the temptation to guess.\n",
      "There should be one-- and preferably only one --obvious way to do it.\n",
      "Although that way may not be obvious at first unless you're Dutch.\n",
      "Now is better than never.\n",
      "Although never is often better than *right* now.\n",
      "If the implementation is hard to explain, it's a bad idea.\n",
      "If the implementation is easy to explain, it may be a good idea.\n",
      "Namespaces are one honking great idea -- let's do more of those!\n"
     ]
    }
   ],
   "source": [
    "import this"
   ]
  },
  {
   "cell_type": "markdown",
   "id": "317b80e0",
   "metadata": {
    "slideshow": {
     "slide_type": "slide"
    }
   },
   "source": [
    "## Conocimientos Básicos de Python: Variables y Tipos"
   ]
  },
  {
   "cell_type": "code",
   "execution_count": 2,
   "id": "65cd12eb",
   "metadata": {
    "execution": {
     "iopub.execute_input": "2021-04-28T21:19:41.895318Z",
     "iopub.status.busy": "2021-04-28T21:19:41.894741Z",
     "iopub.status.idle": "2021-04-28T21:19:41.898369Z",
     "shell.execute_reply": "2021-04-28T21:19:41.898808Z"
    },
    "slideshow": {
     "slide_type": "slide"
    }
   },
   "outputs": [
    {
     "name": "stdout",
     "output_type": "stream",
     "text": [
      "Hello World!\n"
     ]
    }
   ],
   "source": [
    "# Este es un comentario\n",
    "\n",
    "print(\"Hello World!\")"
   ]
  },
  {
   "cell_type": "markdown",
   "id": "81ce9797",
   "metadata": {},
   "source": [
    "Los strings en python puden escribirse tanto con comillas simples (`'`) como comillas dobles (`\"`). Normalmente vemos texto entre comillas triples para escribir _docstrings_, segun la guia de estilo de Python, el PEP8."
   ]
  },
  {
   "cell_type": "code",
   "execution_count": 3,
   "id": "c7b0cccf",
   "metadata": {
    "execution": {
     "iopub.execute_input": "2021-04-28T21:19:41.908738Z",
     "iopub.status.busy": "2021-04-28T21:19:41.906474Z",
     "iopub.status.idle": "2021-04-28T21:19:41.913509Z",
     "shell.execute_reply": "2021-04-28T21:19:41.913952Z"
    }
   },
   "outputs": [
    {
     "data": {
      "text/plain": [
       "'Esto es un docstring.\\n'"
      ]
     },
     "execution_count": 1,
     "metadata": {},
     "output_type": "execute_result"
    }
   ],
   "source": [
    "\"\"\"Esto es un docstring.\n",
    "\"\"\""
   ]
  },
  {
   "cell_type": "markdown",
   "id": "6ba0de1f",
   "metadata": {},
   "source": [
    "### Declaracion de variables"
   ]
  },
  {
   "cell_type": "code",
   "execution_count": 4,
   "id": "657c060e",
   "metadata": {
    "execution": {
     "iopub.execute_input": "2021-04-28T21:19:41.918774Z",
     "iopub.status.busy": "2021-04-28T21:19:41.918146Z",
     "iopub.status.idle": "2021-04-28T21:19:41.920402Z",
     "shell.execute_reply": "2021-04-28T21:19:41.920858Z"
    }
   },
   "outputs": [
    {
     "name": "stdout",
     "output_type": "stream",
     "text": [
      "Hola\n"
     ]
    }
   ],
   "source": [
    "string = 'Hola'\n",
    "print(string)"
   ]
  },
  {
   "cell_type": "code",
   "execution_count": 5,
   "id": "b9bfba30",
   "metadata": {
    "execution": {
     "iopub.execute_input": "2021-04-28T21:19:41.926158Z",
     "iopub.status.busy": "2021-04-28T21:19:41.924866Z",
     "iopub.status.idle": "2021-04-28T21:19:41.928085Z",
     "shell.execute_reply": "2021-04-28T21:19:41.927556Z"
    }
   },
   "outputs": [
    {
     "name": "stdout",
     "output_type": "stream",
     "text": [
      "1\n"
     ]
    }
   ],
   "source": [
    "entero = 1\n",
    "print(entero)"
   ]
  },
  {
   "cell_type": "code",
   "execution_count": 6,
   "id": "5a9496b7",
   "metadata": {
    "execution": {
     "iopub.execute_input": "2021-04-28T21:19:41.933278Z",
     "iopub.status.busy": "2021-04-28T21:19:41.931967Z",
     "iopub.status.idle": "2021-04-28T21:19:41.935178Z",
     "shell.execute_reply": "2021-04-28T21:19:41.934677Z"
    }
   },
   "outputs": [
    {
     "name": "stdout",
     "output_type": "stream",
     "text": [
      "1.0\n"
     ]
    }
   ],
   "source": [
    "flotante = 1.0\n",
    "print(flotante)"
   ]
  },
  {
   "cell_type": "code",
   "execution_count": 7,
   "id": "5772dad7",
   "metadata": {
    "execution": {
     "iopub.execute_input": "2021-04-28T21:19:41.942623Z",
     "iopub.status.busy": "2021-04-28T21:19:41.941353Z",
     "iopub.status.idle": "2021-04-28T21:19:41.944730Z",
     "shell.execute_reply": "2021-04-28T21:19:41.944216Z"
    }
   },
   "outputs": [
    {
     "name": "stdout",
     "output_type": "stream",
     "text": [
      "(1, 1.0)\n"
     ]
    }
   ],
   "source": [
    "tupla = (entero, flotante)\n",
    "print(tupla)"
   ]
  },
  {
   "cell_type": "code",
   "execution_count": 8,
   "id": "d95ddd71",
   "metadata": {
    "execution": {
     "iopub.execute_input": "2021-04-28T21:19:41.950077Z",
     "iopub.status.busy": "2021-04-28T21:19:41.948768Z",
     "iopub.status.idle": "2021-04-28T21:19:41.951991Z",
     "shell.execute_reply": "2021-04-28T21:19:41.951467Z"
    }
   },
   "outputs": [
    {
     "name": "stdout",
     "output_type": "stream",
     "text": [
      "(1, 1.0, 'Hola')\n"
     ]
    }
   ],
   "source": [
    "nupla = (entero, flotante, string)\n",
    "print(nupla)"
   ]
  },
  {
   "cell_type": "code",
   "execution_count": 9,
   "id": "4bbc1663",
   "metadata": {
    "execution": {
     "iopub.execute_input": "2021-04-28T21:19:41.957240Z",
     "iopub.status.busy": "2021-04-28T21:19:41.955914Z",
     "iopub.status.idle": "2021-04-28T21:19:41.959097Z",
     "shell.execute_reply": "2021-04-28T21:19:41.958607Z"
    }
   },
   "outputs": [
    {
     "name": "stdout",
     "output_type": "stream",
     "text": [
      "[1, 1.0, 'Hola']\n"
     ]
    }
   ],
   "source": [
    "lista = [entero, flotante, string]\n",
    "print(lista)"
   ]
  },
  {
   "cell_type": "code",
   "execution_count": 10,
   "id": "84be69fc",
   "metadata": {
    "execution": {
     "iopub.execute_input": "2021-04-28T21:19:41.964098Z",
     "iopub.status.busy": "2021-04-28T21:19:41.963226Z",
     "iopub.status.idle": "2021-04-28T21:19:41.965476Z",
     "shell.execute_reply": "2021-04-28T21:19:41.965918Z"
    }
   },
   "outputs": [
    {
     "name": "stdout",
     "output_type": "stream",
     "text": [
      "{'1': (1, 1.0), 50: (1, 1.0, 'Hola'), '3': 1}\n"
     ]
    }
   ],
   "source": [
    "diccionario = {'1': tupla, 50: nupla, '3': entero}\n",
    "print(diccionario)"
   ]
  },
  {
   "cell_type": "code",
   "execution_count": 11,
   "id": "af37a448",
   "metadata": {
    "execution": {
     "iopub.execute_input": "2021-04-28T21:19:41.973221Z",
     "iopub.status.busy": "2021-04-28T21:19:41.972659Z",
     "iopub.status.idle": "2021-04-28T21:19:41.975331Z",
     "shell.execute_reply": "2021-04-28T21:19:41.975765Z"
    }
   },
   "outputs": [
    {
     "name": "stdout",
     "output_type": "stream",
     "text": [
      "{1, 2}\n"
     ]
    }
   ],
   "source": [
    "conjunto = set([1, 2])\n",
    "print(conjunto)"
   ]
  },
  {
   "cell_type": "code",
   "execution_count": 12,
   "id": "de738886",
   "metadata": {
    "execution": {
     "iopub.execute_input": "2021-04-28T21:19:41.981986Z",
     "iopub.status.busy": "2021-04-28T21:19:41.980927Z",
     "iopub.status.idle": "2021-04-28T21:19:41.983793Z",
     "shell.execute_reply": "2021-04-28T21:19:41.984261Z"
    }
   },
   "outputs": [
    {
     "name": "stdout",
     "output_type": "stream",
     "text": [
      "True\n"
     ]
    }
   ],
   "source": [
    "booleano = True\n",
    "print(booleano)"
   ]
  },
  {
   "cell_type": "code",
   "execution_count": 13,
   "id": "e422e45b",
   "metadata": {
    "execution": {
     "iopub.execute_input": "2021-04-28T21:19:41.990017Z",
     "iopub.status.busy": "2021-04-28T21:19:41.988645Z",
     "iopub.status.idle": "2021-04-28T21:19:41.991951Z",
     "shell.execute_reply": "2021-04-28T21:19:41.991426Z"
    }
   },
   "outputs": [
    {
     "name": "stdout",
     "output_type": "stream",
     "text": [
      "None\n"
     ]
    }
   ],
   "source": [
    "nada = None\n",
    "print(nada)"
   ]
  },
  {
   "cell_type": "markdown",
   "id": "0256ba57",
   "metadata": {},
   "source": [
    "Ojo que las variables pueden cambiar de tipo!"
   ]
  },
  {
   "cell_type": "code",
   "execution_count": 14,
   "id": "b4818c1e",
   "metadata": {
    "execution": {
     "iopub.execute_input": "2021-04-28T21:19:41.997677Z",
     "iopub.status.busy": "2021-04-28T21:19:41.996334Z",
     "iopub.status.idle": "2021-04-28T21:19:41.999596Z",
     "shell.execute_reply": "2021-04-28T21:19:41.999092Z"
    }
   },
   "outputs": [
    {
     "name": "stdout",
     "output_type": "stream",
     "text": [
      "1\n",
      "<class 'int'>\n"
     ]
    }
   ],
   "source": [
    "elemento = 1\n",
    "print(elemento)\n",
    "print(type(elemento))"
   ]
  },
  {
   "cell_type": "code",
   "execution_count": 15,
   "id": "0b5671eb",
   "metadata": {
    "execution": {
     "iopub.execute_input": "2021-04-28T21:19:42.005165Z",
     "iopub.status.busy": "2021-04-28T21:19:42.003786Z",
     "iopub.status.idle": "2021-04-28T21:19:42.007046Z",
     "shell.execute_reply": "2021-04-28T21:19:42.006549Z"
    }
   },
   "outputs": [
    {
     "name": "stdout",
     "output_type": "stream",
     "text": [
      "1\n",
      "<class 'str'>\n"
     ]
    }
   ],
   "source": [
    "elemento = str(1)\n",
    "print(elemento)\n",
    "print(type(elemento))"
   ]
  },
  {
   "cell_type": "code",
   "execution_count": 16,
   "id": "19929042",
   "metadata": {
    "execution": {
     "iopub.execute_input": "2021-04-28T21:19:42.012042Z",
     "iopub.status.busy": "2021-04-28T21:19:42.011423Z",
     "iopub.status.idle": "2021-04-28T21:19:42.013410Z",
     "shell.execute_reply": "2021-04-28T21:19:42.013866Z"
    }
   },
   "outputs": [
    {
     "name": "stdout",
     "output_type": "stream",
     "text": [
      "[2]\n",
      "<class 'list'>\n"
     ]
    }
   ],
   "source": [
    "elemento = [2]\n",
    "\n",
    "print(elemento)\n",
    "print(type(elemento))"
   ]
  },
  {
   "cell_type": "markdown",
   "id": "6d643e0b",
   "metadata": {},
   "source": [
    "### Tipos basicos"
   ]
  },
  {
   "cell_type": "markdown",
   "id": "88e95652",
   "metadata": {
    "slideshow": {
     "slide_type": "slide"
    }
   },
   "source": [
    "#### Listas de Python"
   ]
  },
  {
   "cell_type": "code",
   "execution_count": 17,
   "id": "78e9d50d",
   "metadata": {
    "execution": {
     "iopub.execute_input": "2021-04-28T21:19:42.017969Z",
     "iopub.status.busy": "2021-04-28T21:19:42.017431Z",
     "iopub.status.idle": "2021-04-28T21:19:42.020644Z",
     "shell.execute_reply": "2021-04-28T21:19:42.020126Z"
    }
   },
   "outputs": [
    {
     "data": {
      "text/plain": [
       "[]"
      ]
     },
     "execution_count": 1,
     "metadata": {},
     "output_type": "execute_result"
    }
   ],
   "source": [
    "lista = list()\n",
    "lista"
   ]
  },
  {
   "cell_type": "code",
   "execution_count": 18,
   "id": "7b3a9f8b",
   "metadata": {
    "execution": {
     "iopub.execute_input": "2021-04-28T21:19:42.025281Z",
     "iopub.status.busy": "2021-04-28T21:19:42.024680Z",
     "iopub.status.idle": "2021-04-28T21:19:42.026726Z",
     "shell.execute_reply": "2021-04-28T21:19:42.027180Z"
    },
    "slideshow": {
     "slide_type": "slide"
    }
   },
   "outputs": [
    {
     "data": {
      "text/plain": [
       "[]"
      ]
     },
     "execution_count": 1,
     "metadata": {},
     "output_type": "execute_result"
    }
   ],
   "source": [
    "lista = []\n",
    "lista"
   ]
  },
  {
   "cell_type": "code",
   "execution_count": 19,
   "id": "3947b8e1",
   "metadata": {
    "execution": {
     "iopub.execute_input": "2021-04-28T21:19:42.031435Z",
     "iopub.status.busy": "2021-04-28T21:19:42.030874Z",
     "iopub.status.idle": "2021-04-28T21:19:42.033339Z",
     "shell.execute_reply": "2021-04-28T21:19:42.033812Z"
    },
    "slideshow": {
     "slide_type": "slide"
    }
   },
   "outputs": [
    {
     "data": {
      "text/plain": [
       "[1, 2, 3, 4]"
      ]
     },
     "execution_count": 1,
     "metadata": {},
     "output_type": "execute_result"
    }
   ],
   "source": [
    "lista = [1, 2, 3, 4]\n",
    "lista"
   ]
  },
  {
   "cell_type": "code",
   "execution_count": 20,
   "id": "dd88ac1d",
   "metadata": {
    "execution": {
     "iopub.execute_input": "2021-04-28T21:19:42.038529Z",
     "iopub.status.busy": "2021-04-28T21:19:42.037957Z",
     "iopub.status.idle": "2021-04-28T21:19:42.043701Z",
     "shell.execute_reply": "2021-04-28T21:19:42.043215Z"
    },
    "slideshow": {
     "slide_type": "slide"
    }
   },
   "outputs": [
    {
     "data": {
      "text/plain": [
       "[1, 2, 3, 4, 1, 'dos', 3.0]"
      ]
     },
     "execution_count": 1,
     "metadata": {},
     "output_type": "execute_result"
    }
   ],
   "source": [
    "lista.append(1)  # Inserto un 1 al final\n",
    "lista.append(\"dos\")  # Inserto un \"dos\" al final\n",
    "lista.append(3.0)  # Inserto un 3.0 al final\n",
    "lista"
   ]
  },
  {
   "cell_type": "code",
   "execution_count": 21,
   "id": "c0c11ffd",
   "metadata": {
    "execution": {
     "iopub.execute_input": "2021-04-28T21:19:42.048120Z",
     "iopub.status.busy": "2021-04-28T21:19:42.047520Z",
     "iopub.status.idle": "2021-04-28T21:19:42.050895Z",
     "shell.execute_reply": "2021-04-28T21:19:42.050388Z"
    }
   },
   "outputs": [
    {
     "name": "stdout",
     "output_type": "stream",
     "text": [
      "[1, 2, 10, 3, 4, 1, 'dos', 3.0]\n"
     ]
    }
   ],
   "source": [
    "lista.insert(2, 10)  # Inserto en posicion 2 un 10\n",
    "print(lista)"
   ]
  },
  {
   "cell_type": "code",
   "execution_count": 22,
   "id": "b3b53e87",
   "metadata": {
    "execution": {
     "iopub.execute_input": "2021-04-28T21:19:42.055676Z",
     "iopub.status.busy": "2021-04-28T21:19:42.055086Z",
     "iopub.status.idle": "2021-04-28T21:19:42.057176Z",
     "shell.execute_reply": "2021-04-28T21:19:42.057631Z"
    }
   },
   "outputs": [
    {
     "data": {
      "text/plain": [
       "8"
      ]
     },
     "execution_count": 1,
     "metadata": {},
     "output_type": "execute_result"
    }
   ],
   "source": [
    "len(lista)"
   ]
  },
  {
   "cell_type": "code",
   "execution_count": 23,
   "id": "908ec1b2",
   "metadata": {
    "execution": {
     "iopub.execute_input": "2021-04-28T21:19:42.062315Z",
     "iopub.status.busy": "2021-04-28T21:19:42.061728Z",
     "iopub.status.idle": "2021-04-28T21:19:42.063723Z",
     "shell.execute_reply": "2021-04-28T21:19:42.064293Z"
    }
   },
   "outputs": [
    {
     "data": {
      "text/plain": [
       "3.0"
      ]
     },
     "execution_count": 1,
     "metadata": {},
     "output_type": "execute_result"
    }
   ],
   "source": [
    "lista.pop()"
   ]
  },
  {
   "cell_type": "code",
   "execution_count": 24,
   "id": "747e7afd",
   "metadata": {
    "execution": {
     "iopub.execute_input": "2021-04-28T21:19:42.068210Z",
     "iopub.status.busy": "2021-04-28T21:19:42.067618Z",
     "iopub.status.idle": "2021-04-28T21:19:42.070911Z",
     "shell.execute_reply": "2021-04-28T21:19:42.070401Z"
    }
   },
   "outputs": [
    {
     "data": {
      "text/plain": [
       "[1, 2, 10, 3, 4, 1, 'dos']"
      ]
     },
     "execution_count": 1,
     "metadata": {},
     "output_type": "execute_result"
    }
   ],
   "source": [
    "lista"
   ]
  },
  {
   "cell_type": "code",
   "execution_count": 25,
   "id": "0c056740",
   "metadata": {
    "execution": {
     "iopub.execute_input": "2021-04-28T21:19:42.075513Z",
     "iopub.status.busy": "2021-04-28T21:19:42.074923Z",
     "iopub.status.idle": "2021-04-28T21:19:42.077021Z",
     "shell.execute_reply": "2021-04-28T21:19:42.077473Z"
    }
   },
   "outputs": [
    {
     "data": {
      "text/plain": [
       "2"
      ]
     },
     "execution_count": 1,
     "metadata": {},
     "output_type": "execute_result"
    }
   ],
   "source": [
    "lista.index(10)"
   ]
  },
  {
   "cell_type": "code",
   "execution_count": 26,
   "id": "376706f8",
   "metadata": {
    "execution": {
     "iopub.execute_input": "2021-04-28T21:19:42.082119Z",
     "iopub.status.busy": "2021-04-28T21:19:42.081513Z",
     "iopub.status.idle": "2021-04-28T21:19:42.085781Z",
     "shell.execute_reply": "2021-04-28T21:19:42.085320Z"
    }
   },
   "outputs": [
    {
     "data": {
      "text/plain": [
       "[1, 2, 3, 4, 1, 'dos']"
      ]
     },
     "execution_count": 1,
     "metadata": {},
     "output_type": "execute_result"
    }
   ],
   "source": [
    "lista.remove(10)\n",
    "lista"
   ]
  },
  {
   "cell_type": "code",
   "execution_count": 27,
   "id": "2dc21d8d",
   "metadata": {
    "execution": {
     "iopub.execute_input": "2021-04-28T21:19:42.089553Z",
     "iopub.status.busy": "2021-04-28T21:19:42.088976Z",
     "iopub.status.idle": "2021-04-28T21:19:42.152189Z",
     "shell.execute_reply": "2021-04-28T21:19:42.152854Z"
    },
    "tags": [
     "raises-exception"
    ]
   },
   "outputs": [
    {
     "name": "stdout",
     "output_type": "stream",
     "text": [
      "1\n",
      "2\n",
      "2\n",
      "3\n",
      "3\n",
      "4\n",
      "4\n",
      "5\n",
      "1\n",
      "2\n",
      "dos\n"
     ]
    },
    {
     "ename": "TypeError",
     "evalue": "can only concatenate str (not \"int\") to str",
     "output_type": "error",
     "traceback": [
      "\u001b[0;31m---------------------------------------------------------------------------\u001b[0m",
      "\u001b[0;31mTypeError\u001b[0m                                 Traceback (most recent call last)",
      "\u001b[0;32m<ipython-input-1-41b56d5cf080>\u001b[0m in \u001b[0;36m<module>\u001b[0;34m\u001b[0m\n\u001b[1;32m      1\u001b[0m \u001b[0;32mfor\u001b[0m \u001b[0melemento\u001b[0m \u001b[0;32min\u001b[0m \u001b[0mlista\u001b[0m\u001b[0;34m:\u001b[0m\u001b[0;34m\u001b[0m\u001b[0;34m\u001b[0m\u001b[0m\n\u001b[1;32m      2\u001b[0m     \u001b[0mprint\u001b[0m\u001b[0;34m(\u001b[0m\u001b[0melemento\u001b[0m\u001b[0;34m)\u001b[0m\u001b[0;34m\u001b[0m\u001b[0;34m\u001b[0m\u001b[0m\n\u001b[0;32m----> 3\u001b[0;31m     \u001b[0mprint\u001b[0m\u001b[0;34m(\u001b[0m\u001b[0melemento\u001b[0m \u001b[0;34m+\u001b[0m \u001b[0;36m1\u001b[0m\u001b[0;34m)\u001b[0m\u001b[0;34m\u001b[0m\u001b[0;34m\u001b[0m\u001b[0m\n\u001b[0m",
      "\u001b[0;31mTypeError\u001b[0m: can only concatenate str (not \"int\") to str"
     ]
    }
   ],
   "source": [
    "for elemento in lista:\n",
    "    print(elemento)\n",
    "    print(elemento + 1)"
   ]
  },
  {
   "cell_type": "code",
   "execution_count": 28,
   "id": "853602da",
   "metadata": {
    "execution": {
     "iopub.execute_input": "2021-04-28T21:19:42.158985Z",
     "iopub.status.busy": "2021-04-28T21:19:42.157932Z",
     "iopub.status.idle": "2021-04-28T21:19:42.161497Z",
     "shell.execute_reply": "2021-04-28T21:19:42.160990Z"
    }
   },
   "outputs": [
    {
     "data": {
      "text/plain": [
       "[1, 2, 3, 4, 1, 'dos']"
      ]
     },
     "execution_count": 1,
     "metadata": {},
     "output_type": "execute_result"
    }
   ],
   "source": [
    "lista"
   ]
  },
  {
   "cell_type": "code",
   "execution_count": 29,
   "id": "c5c91245",
   "metadata": {
    "execution": {
     "iopub.execute_input": "2021-04-28T21:19:42.169438Z",
     "iopub.status.busy": "2021-04-28T21:19:42.167975Z",
     "iopub.status.idle": "2021-04-28T21:19:42.171351Z",
     "shell.execute_reply": "2021-04-28T21:19:42.170850Z"
    }
   },
   "outputs": [
    {
     "name": "stdout",
     "output_type": "stream",
     "text": [
      "0-ésimo elemento: 1\n",
      "1-ésimo elemento: 2\n",
      "2-ésimo elemento: 3\n",
      "3-ésimo elemento: 4\n",
      "4-ésimo elemento: 1\n",
      "5-ésimo elemento: dos\n"
     ]
    }
   ],
   "source": [
    "for i, elemento in enumerate(lista):\n",
    "    print(f\"{i}-ésimo elemento: {elemento}\")"
   ]
  },
  {
   "cell_type": "code",
   "execution_count": 30,
   "id": "21d2b148",
   "metadata": {
    "execution": {
     "iopub.execute_input": "2021-04-28T21:19:42.179656Z",
     "iopub.status.busy": "2021-04-28T21:19:42.174993Z",
     "iopub.status.idle": "2021-04-28T21:19:42.182028Z",
     "shell.execute_reply": "2021-04-28T21:19:42.182515Z"
    },
    "tags": [
     "raises-exception"
    ]
   },
   "outputs": [
    {
     "ename": "TypeError",
     "evalue": "'<' not supported between instances of 'str' and 'int'",
     "output_type": "error",
     "traceback": [
      "\u001b[0;31m---------------------------------------------------------------------------\u001b[0m",
      "\u001b[0;31mTypeError\u001b[0m                                 Traceback (most recent call last)",
      "\u001b[0;32m<ipython-input-1-06c3f264dc7a>\u001b[0m in \u001b[0;36m<module>\u001b[0;34m\u001b[0m\n\u001b[0;32m----> 1\u001b[0;31m \u001b[0msorted\u001b[0m\u001b[0;34m(\u001b[0m\u001b[0mlista\u001b[0m\u001b[0;34m)\u001b[0m\u001b[0;34m\u001b[0m\u001b[0;34m\u001b[0m\u001b[0m\n\u001b[0m",
      "\u001b[0;31mTypeError\u001b[0m: '<' not supported between instances of 'str' and 'int'"
     ]
    }
   ],
   "source": [
    "sorted(lista)"
   ]
  },
  {
   "cell_type": "code",
   "execution_count": 31,
   "id": "e5612afb",
   "metadata": {
    "execution": {
     "iopub.execute_input": "2021-04-28T21:19:42.187943Z",
     "iopub.status.busy": "2021-04-28T21:19:42.186482Z",
     "iopub.status.idle": "2021-04-28T21:19:42.188608Z",
     "shell.execute_reply": "2021-04-28T21:19:42.189065Z"
    }
   },
   "outputs": [],
   "source": [
    "lista.remove(\"dos\")"
   ]
  },
  {
   "cell_type": "code",
   "execution_count": 32,
   "id": "cc2aec04",
   "metadata": {
    "execution": {
     "iopub.execute_input": "2021-04-28T21:19:42.194669Z",
     "iopub.status.busy": "2021-04-28T21:19:42.193602Z",
     "iopub.status.idle": "2021-04-28T21:19:42.197178Z",
     "shell.execute_reply": "2021-04-28T21:19:42.196673Z"
    }
   },
   "outputs": [
    {
     "data": {
      "text/plain": [
       "[1, 1, 2, 3, 4]"
      ]
     },
     "execution_count": 1,
     "metadata": {},
     "output_type": "execute_result"
    }
   ],
   "source": [
    "sorted(lista)"
   ]
  },
  {
   "cell_type": "code",
   "execution_count": 33,
   "id": "532384df",
   "metadata": {
    "execution": {
     "iopub.execute_input": "2021-04-28T21:19:42.202734Z",
     "iopub.status.busy": "2021-04-28T21:19:42.201695Z",
     "iopub.status.idle": "2021-04-28T21:19:42.205213Z",
     "shell.execute_reply": "2021-04-28T21:19:42.204726Z"
    }
   },
   "outputs": [
    {
     "data": {
      "text/plain": [
       "[1, 1, 2, 3, 4]"
      ]
     },
     "execution_count": 1,
     "metadata": {},
     "output_type": "execute_result"
    }
   ],
   "source": [
    "lista.sort()\n",
    "lista"
   ]
  },
  {
   "cell_type": "markdown",
   "id": "1eb97d02",
   "metadata": {
    "slideshow": {
     "slide_type": "slide"
    }
   },
   "source": [
    "#### Tuplas de Python\n",
    "\n",
    "Las tuplas son inmutables. No se pueden agregar elementos luego de creadas."
   ]
  },
  {
   "cell_type": "code",
   "execution_count": 34,
   "id": "87f470bf",
   "metadata": {
    "execution": {
     "iopub.execute_input": "2021-04-28T21:19:42.210792Z",
     "iopub.status.busy": "2021-04-28T21:19:42.208972Z",
     "iopub.status.idle": "2021-04-28T21:19:42.216026Z",
     "shell.execute_reply": "2021-04-28T21:19:42.216528Z"
    },
    "slideshow": {
     "slide_type": "slide"
    },
    "tags": [
     "raises-exception"
    ]
   },
   "outputs": [
    {
     "name": "stdout",
     "output_type": "stream",
     "text": [
      "(1, 2)\n",
      "1\n",
      "2\n"
     ]
    },
    {
     "ename": "TypeError",
     "evalue": "'tuple' object does not support item assignment",
     "output_type": "error",
     "traceback": [
      "\u001b[0;31m---------------------------------------------------------------------------\u001b[0m",
      "\u001b[0;31mTypeError\u001b[0m                                 Traceback (most recent call last)",
      "\u001b[0;32m<ipython-input-1-80ca8b547dd6>\u001b[0m in \u001b[0;36m<module>\u001b[0;34m\u001b[0m\n\u001b[1;32m      5\u001b[0m \u001b[0mprint\u001b[0m\u001b[0;34m(\u001b[0m\u001b[0mtupla\u001b[0m\u001b[0;34m[\u001b[0m\u001b[0;36m1\u001b[0m\u001b[0;34m]\u001b[0m\u001b[0;34m)\u001b[0m\u001b[0;34m\u001b[0m\u001b[0;34m\u001b[0m\u001b[0m\n\u001b[1;32m      6\u001b[0m \u001b[0;34m\u001b[0m\u001b[0m\n\u001b[0;32m----> 7\u001b[0;31m \u001b[0mtupla\u001b[0m\u001b[0;34m[\u001b[0m\u001b[0;36m1\u001b[0m\u001b[0;34m]\u001b[0m \u001b[0;34m=\u001b[0m \u001b[0;36m3\u001b[0m  \u001b[0;31m# Falla. No se puede mutar\u001b[0m\u001b[0;34m\u001b[0m\u001b[0;34m\u001b[0m\u001b[0m\n\u001b[0m",
      "\u001b[0;31mTypeError\u001b[0m: 'tuple' object does not support item assignment"
     ]
    }
   ],
   "source": [
    "tupla = (1, 2)\n",
    "\n",
    "print(tupla)\n",
    "print(tupla[0])\n",
    "print(tupla[1])\n",
    "\n",
    "tupla[1] = 3  # Falla. No se puede mutar"
   ]
  },
  {
   "cell_type": "code",
   "execution_count": 35,
   "id": "fb97e6cd",
   "metadata": {
    "execution": {
     "iopub.execute_input": "2021-04-28T21:19:42.222115Z",
     "iopub.status.busy": "2021-04-28T21:19:42.221490Z",
     "iopub.status.idle": "2021-04-28T21:19:42.224362Z",
     "shell.execute_reply": "2021-04-28T21:19:42.224820Z"
    }
   },
   "outputs": [
    {
     "data": {
      "text/plain": [
       "[1, 2]"
      ]
     },
     "execution_count": 1,
     "metadata": {},
     "output_type": "execute_result"
    }
   ],
   "source": [
    "l = [1, 2]\n",
    "l"
   ]
  },
  {
   "cell_type": "code",
   "execution_count": 36,
   "id": "df44cc38",
   "metadata": {
    "execution": {
     "iopub.execute_input": "2021-04-28T21:19:42.229976Z",
     "iopub.status.busy": "2021-04-28T21:19:42.228955Z",
     "iopub.status.idle": "2021-04-28T21:19:42.231777Z",
     "shell.execute_reply": "2021-04-28T21:19:42.232265Z"
    }
   },
   "outputs": [
    {
     "data": {
      "text/plain": [
       "[1, 3]"
      ]
     },
     "execution_count": 1,
     "metadata": {},
     "output_type": "execute_result"
    }
   ],
   "source": [
    "l[1] = 3\n",
    "l"
   ]
  },
  {
   "cell_type": "markdown",
   "id": "78131e71",
   "metadata": {
    "slideshow": {
     "slide_type": "slide"
    }
   },
   "source": [
    "#### Diferencia entre lista y tupla\n",
    "Las listas se caracterizan por ser mutables, es decir, se puede cambiar su contenido en tiempo de ejecución, mientras que las tuplas son inmutables ya que no es posible modificar el contenido una vez creada."
   ]
  },
  {
   "cell_type": "markdown",
   "id": "a75420a1",
   "metadata": {},
   "source": [
    "#### Slices\n",
    "\n",
    "**Valen para listas, tuplas o strings (_segmentos_)**"
   ]
  },
  {
   "cell_type": "code",
   "execution_count": 37,
   "id": "9c64597e",
   "metadata": {
    "execution": {
     "iopub.execute_input": "2021-04-28T21:19:42.237341Z",
     "iopub.status.busy": "2021-04-28T21:19:42.236012Z",
     "iopub.status.idle": "2021-04-28T21:19:42.237994Z",
     "shell.execute_reply": "2021-04-28T21:19:42.238443Z"
    }
   },
   "outputs": [],
   "source": [
    "numeros = [0, 1, 2, 3, 4, 5, 6, 7, 8, 9, 10]"
   ]
  },
  {
   "cell_type": "code",
   "execution_count": 38,
   "id": "d2dfeabb",
   "metadata": {
    "execution": {
     "iopub.execute_input": "2021-04-28T21:19:42.249705Z",
     "iopub.status.busy": "2021-04-28T21:19:42.248575Z",
     "iopub.status.idle": "2021-04-28T21:19:42.252083Z",
     "shell.execute_reply": "2021-04-28T21:19:42.251605Z"
    }
   },
   "outputs": [
    {
     "name": "stdout",
     "output_type": "stream",
     "text": [
      "[0, 1, 2, 3, 4, 5, 6, 7, 8, 9, 10]\n"
     ]
    }
   ],
   "source": [
    "print(numeros)"
   ]
  },
  {
   "cell_type": "code",
   "execution_count": 39,
   "id": "89b47fa1",
   "metadata": {
    "execution": {
     "iopub.execute_input": "2021-04-28T21:19:42.257435Z",
     "iopub.status.busy": "2021-04-28T21:19:42.256093Z",
     "iopub.status.idle": "2021-04-28T21:19:42.259341Z",
     "shell.execute_reply": "2021-04-28T21:19:42.258846Z"
    }
   },
   "outputs": [
    {
     "name": "stdout",
     "output_type": "stream",
     "text": [
      "2\n"
     ]
    }
   ],
   "source": [
    "print(numeros[2])  # Imprimo elemento en la posición 2"
   ]
  },
  {
   "cell_type": "code",
   "execution_count": 40,
   "id": "9c899955",
   "metadata": {
    "execution": {
     "iopub.execute_input": "2021-04-28T21:19:42.264621Z",
     "iopub.status.busy": "2021-04-28T21:19:42.263567Z",
     "iopub.status.idle": "2021-04-28T21:19:42.266451Z",
     "shell.execute_reply": "2021-04-28T21:19:42.266880Z"
    }
   },
   "outputs": [
    {
     "data": {
      "text/plain": [
       "10"
      ]
     },
     "execution_count": 1,
     "metadata": {},
     "output_type": "execute_result"
    }
   ],
   "source": [
    "numeros[len(numeros) - 1]"
   ]
  },
  {
   "cell_type": "code",
   "execution_count": 41,
   "id": "aef81438",
   "metadata": {
    "execution": {
     "iopub.execute_input": "2021-04-28T21:19:42.272347Z",
     "iopub.status.busy": "2021-04-28T21:19:42.270970Z",
     "iopub.status.idle": "2021-04-28T21:19:42.274290Z",
     "shell.execute_reply": "2021-04-28T21:19:42.273795Z"
    },
    "lines_to_next_cell": 2
   },
   "outputs": [
    {
     "name": "stdout",
     "output_type": "stream",
     "text": [
      "10\n"
     ]
    }
   ],
   "source": [
    "print(numeros[-1])  # # Imprimo elemento en la última posición"
   ]
  },
  {
   "cell_type": "code",
   "execution_count": 42,
   "id": "98241eb2",
   "metadata": {
    "execution": {
     "iopub.execute_input": "2021-04-28T21:19:42.279635Z",
     "iopub.status.busy": "2021-04-28T21:19:42.278803Z",
     "iopub.status.idle": "2021-04-28T21:19:42.281635Z",
     "shell.execute_reply": "2021-04-28T21:19:42.282091Z"
    },
    "lines_to_next_cell": 2
   },
   "outputs": [
    {
     "data": {
      "text/plain": [
       "9"
      ]
     },
     "execution_count": 1,
     "metadata": {},
     "output_type": "execute_result"
    }
   ],
   "source": [
    "numeros[-2]"
   ]
  },
  {
   "cell_type": "code",
   "execution_count": 43,
   "id": "1711e1ec",
   "metadata": {
    "execution": {
     "iopub.execute_input": "2021-04-28T21:19:42.287276Z",
     "iopub.status.busy": "2021-04-28T21:19:42.286088Z",
     "iopub.status.idle": "2021-04-28T21:19:42.289294Z",
     "shell.execute_reply": "2021-04-28T21:19:42.288799Z"
    }
   },
   "outputs": [
    {
     "name": "stdout",
     "output_type": "stream",
     "text": [
      "[0, 1, 2]\n"
     ]
    }
   ],
   "source": [
    "print(numeros[0:3])  # Imprimo de la pos 0 a la pos 2"
   ]
  },
  {
   "cell_type": "code",
   "execution_count": 44,
   "id": "e65b8ee6",
   "metadata": {
    "execution": {
     "iopub.execute_input": "2021-04-28T21:19:42.294563Z",
     "iopub.status.busy": "2021-04-28T21:19:42.293330Z",
     "iopub.status.idle": "2021-04-28T21:19:42.296884Z",
     "shell.execute_reply": "2021-04-28T21:19:42.296374Z"
    }
   },
   "outputs": [
    {
     "name": "stdout",
     "output_type": "stream",
     "text": [
      "[7, 8]\n"
     ]
    }
   ],
   "source": [
    "print(numeros[-4:-2])"
   ]
  },
  {
   "cell_type": "code",
   "execution_count": 45,
   "id": "0e64a93d",
   "metadata": {
    "execution": {
     "iopub.execute_input": "2021-04-28T21:19:42.300918Z",
     "iopub.status.busy": "2021-04-28T21:19:42.300155Z",
     "iopub.status.idle": "2021-04-28T21:19:42.303518Z",
     "shell.execute_reply": "2021-04-28T21:19:42.303015Z"
    }
   },
   "outputs": [
    {
     "name": "stdout",
     "output_type": "stream",
     "text": [
      "[0, 1, 2, 3, 4, 5, 6, 7, 8, 9, 10]\n"
     ]
    }
   ],
   "source": [
    "print(numeros[0:80])"
   ]
  },
  {
   "cell_type": "code",
   "execution_count": 46,
   "id": "957f2d57",
   "metadata": {
    "execution": {
     "iopub.execute_input": "2021-04-28T21:19:42.307390Z",
     "iopub.status.busy": "2021-04-28T21:19:42.306826Z",
     "iopub.status.idle": "2021-04-28T21:19:42.309282Z",
     "shell.execute_reply": "2021-04-28T21:19:42.309747Z"
    }
   },
   "outputs": [
    {
     "name": "stdout",
     "output_type": "stream",
     "text": [
      "[0, 1, 2]\n"
     ]
    }
   ],
   "source": [
    "print(numeros[:3])"
   ]
  },
  {
   "cell_type": "code",
   "execution_count": 47,
   "id": "d2f15768",
   "metadata": {
    "execution": {
     "iopub.execute_input": "2021-04-28T21:19:42.314681Z",
     "iopub.status.busy": "2021-04-28T21:19:42.313840Z",
     "iopub.status.idle": "2021-04-28T21:19:42.316095Z",
     "shell.execute_reply": "2021-04-28T21:19:42.316562Z"
    }
   },
   "outputs": [
    {
     "name": "stdout",
     "output_type": "stream",
     "text": [
      "[3, 4, 5, 6, 7, 8, 9, 10]\n"
     ]
    }
   ],
   "source": [
    "print(numeros[3:])"
   ]
  },
  {
   "cell_type": "code",
   "execution_count": 48,
   "id": "e1af0387",
   "metadata": {
    "execution": {
     "iopub.execute_input": "2021-04-28T21:19:42.320440Z",
     "iopub.status.busy": "2021-04-28T21:19:42.319834Z",
     "iopub.status.idle": "2021-04-28T21:19:42.322770Z",
     "shell.execute_reply": "2021-04-28T21:19:42.322271Z"
    }
   },
   "outputs": [
    {
     "name": "stdout",
     "output_type": "stream",
     "text": [
      "[0, 2, 4, 6, 8]\n"
     ]
    }
   ],
   "source": [
    "print(numeros[0:10:2])"
   ]
  },
  {
   "cell_type": "markdown",
   "id": "07d1739e",
   "metadata": {},
   "source": [
    "```python\n",
    "lista[<inicio>:<final>:<step>]\n",
    "```"
   ]
  },
  {
   "cell_type": "code",
   "execution_count": 49,
   "id": "0b8b5f13",
   "metadata": {
    "execution": {
     "iopub.execute_input": "2021-04-28T21:19:42.327517Z",
     "iopub.status.busy": "2021-04-28T21:19:42.326954Z",
     "iopub.status.idle": "2021-04-28T21:19:42.329733Z",
     "shell.execute_reply": "2021-04-28T21:19:42.330170Z"
    },
    "lines_to_next_cell": 2
   },
   "outputs": [
    {
     "data": {
      "text/plain": [
       "[1, 2, 3, 4]"
      ]
     },
     "execution_count": 1,
     "metadata": {},
     "output_type": "execute_result"
    }
   ],
   "source": [
    "l1 = [1, 2]\n",
    "l2 = [3, 4]\n",
    "l1 + l2"
   ]
  },
  {
   "cell_type": "code",
   "execution_count": 50,
   "id": "838ac9b2",
   "metadata": {
    "execution": {
     "iopub.execute_input": "2021-04-28T21:19:42.334549Z",
     "iopub.status.busy": "2021-04-28T21:19:42.333982Z",
     "iopub.status.idle": "2021-04-28T21:19:42.335905Z",
     "shell.execute_reply": "2021-04-28T21:19:42.336376Z"
    }
   },
   "outputs": [
    {
     "name": "stdout",
     "output_type": "stream",
     "text": [
      "[0, 1, 2, 3, 4, 5, 6, 'siete', 8, 9, 10]\n"
     ]
    }
   ],
   "source": [
    "numeros[7] = 'siete'  # Las listas se pueden mutar\n",
    "print(numeros)"
   ]
  },
  {
   "cell_type": "code",
   "execution_count": 51,
   "id": "839839d0",
   "metadata": {
    "execution": {
     "iopub.execute_input": "2021-04-28T21:19:42.340503Z",
     "iopub.status.busy": "2021-04-28T21:19:42.339878Z",
     "iopub.status.idle": "2021-04-28T21:19:42.350164Z",
     "shell.execute_reply": "2021-04-28T21:19:42.349684Z"
    }
   },
   "outputs": [
    {
     "name": "stdout",
     "output_type": "stream",
     "text": [
      "[10, 9, 8, 'siete', 6, 5, 4, 3, 2, 1, 0]\n"
     ]
    }
   ],
   "source": [
    "numeros = numeros[::-1]\n",
    "print(numeros)"
   ]
  },
  {
   "cell_type": "code",
   "execution_count": 52,
   "id": "43f1e4af",
   "metadata": {
    "execution": {
     "iopub.execute_input": "2021-04-28T21:19:42.357513Z",
     "iopub.status.busy": "2021-04-28T21:19:42.355386Z",
     "iopub.status.idle": "2021-04-28T21:19:42.359677Z",
     "shell.execute_reply": "2021-04-28T21:19:42.360221Z"
    },
    "tags": [
     "raises-exception"
    ]
   },
   "outputs": [
    {
     "ename": "IndexError",
     "evalue": "list index out of range",
     "output_type": "error",
     "traceback": [
      "\u001b[0;31m---------------------------------------------------------------------------\u001b[0m",
      "\u001b[0;31mIndexError\u001b[0m                                Traceback (most recent call last)",
      "\u001b[0;32m<ipython-input-1-0ef91dd29a9b>\u001b[0m in \u001b[0;36m<module>\u001b[0;34m\u001b[0m\n\u001b[0;32m----> 1\u001b[0;31m \u001b[0mprint\u001b[0m\u001b[0;34m(\u001b[0m\u001b[0mnumeros\u001b[0m\u001b[0;34m[\u001b[0m\u001b[0;36m15\u001b[0m\u001b[0;34m]\u001b[0m\u001b[0;34m)\u001b[0m  \u001b[0;31m# Falla. No se puede acceder a una posición inexistente\u001b[0m\u001b[0;34m\u001b[0m\u001b[0;34m\u001b[0m\u001b[0m\n\u001b[0m",
      "\u001b[0;31mIndexError\u001b[0m: list index out of range"
     ]
    }
   ],
   "source": [
    "print(numeros[15])  # Falla. No se puede acceder a una posición inexistente"
   ]
  },
  {
   "cell_type": "code",
   "execution_count": 53,
   "id": "8deadb39",
   "metadata": {
    "execution": {
     "iopub.execute_input": "2021-04-28T21:19:42.366870Z",
     "iopub.status.busy": "2021-04-28T21:19:42.365357Z",
     "iopub.status.idle": "2021-04-28T21:19:42.368791Z",
     "shell.execute_reply": "2021-04-28T21:19:42.368293Z"
    }
   },
   "outputs": [
    {
     "name": "stdout",
     "output_type": "stream",
     "text": [
      "palabra\n",
      "a\n",
      "pal\n",
      "abra\n"
     ]
    }
   ],
   "source": [
    "palabra = 'palabra'\n",
    "print(palabra)\n",
    "print(palabra[3])\n",
    "print(palabra[:3])\n",
    "print(palabra[3:])"
   ]
  },
  {
   "cell_type": "code",
   "execution_count": 54,
   "id": "0882cf4c",
   "metadata": {
    "execution": {
     "iopub.execute_input": "2021-04-28T21:19:42.374825Z",
     "iopub.status.busy": "2021-04-28T21:19:42.373501Z",
     "iopub.status.idle": "2021-04-28T21:19:42.376740Z",
     "shell.execute_reply": "2021-04-28T21:19:42.376237Z"
    }
   },
   "outputs": [
    {
     "name": "stdout",
     "output_type": "stream",
     "text": [
      "(0, 1, 2, 3, 4)\n",
      "(0, 1)\n",
      "(2, 3, 4)\n"
     ]
    }
   ],
   "source": [
    "tupla = (0, 1, 2, 3, 4)\n",
    "\n",
    "print(tupla)\n",
    "print(tupla[:2])\n",
    "print(tupla[2:])"
   ]
  },
  {
   "cell_type": "markdown",
   "id": "78b39a89",
   "metadata": {
    "slideshow": {
     "slide_type": "slide"
    }
   },
   "source": [
    "#### Diccionarios de Python\n",
    "\n",
    "Son como hashmaps, las claves deben ser inmutables para que no pierda sentido el diccionario. Si se pudieran modificar, se podrían cambiar las claves y generaría conflictos.\n",
    "\n",
    "Tipos mutables:\n",
    "- Listas\n",
    "- Diccionarios\n",
    "- Sets\n",
    "\n",
    "Tipos inmutables:\n",
    "- Int\n",
    "- Float\n",
    "- String\n",
    "- Tuplas\n"
   ]
  },
  {
   "cell_type": "code",
   "execution_count": 55,
   "id": "14386c30",
   "metadata": {
    "execution": {
     "iopub.execute_input": "2021-04-28T21:19:42.381512Z",
     "iopub.status.busy": "2021-04-28T21:19:42.380888Z",
     "iopub.status.idle": "2021-04-28T21:19:42.384186Z",
     "shell.execute_reply": "2021-04-28T21:19:42.384750Z"
    },
    "slideshow": {
     "slide_type": "slide"
    }
   },
   "outputs": [
    {
     "data": {
      "text/plain": [
       "{}"
      ]
     },
     "execution_count": 1,
     "metadata": {},
     "output_type": "execute_result"
    }
   ],
   "source": [
    "diccionario = {}\n",
    "diccionario"
   ]
  },
  {
   "cell_type": "code",
   "execution_count": 56,
   "id": "50070fe0",
   "metadata": {
    "execution": {
     "iopub.execute_input": "2021-04-28T21:19:42.390677Z",
     "iopub.status.busy": "2021-04-28T21:19:42.390063Z",
     "iopub.status.idle": "2021-04-28T21:19:42.393017Z",
     "shell.execute_reply": "2021-04-28T21:19:42.393476Z"
    }
   },
   "outputs": [
    {
     "data": {
      "text/plain": [
       "{}"
      ]
     },
     "execution_count": 1,
     "metadata": {},
     "output_type": "execute_result"
    }
   ],
   "source": [
    "diccionario = dict()\n",
    "diccionario"
   ]
  },
  {
   "cell_type": "code",
   "execution_count": 57,
   "id": "82bf9a6c",
   "metadata": {
    "execution": {
     "iopub.execute_input": "2021-04-28T21:19:42.398835Z",
     "iopub.status.busy": "2021-04-28T21:19:42.397781Z",
     "iopub.status.idle": "2021-04-28T21:19:42.400259Z",
     "shell.execute_reply": "2021-04-28T21:19:42.400724Z"
    },
    "slideshow": {
     "slide_type": "slide"
    }
   },
   "outputs": [
    {
     "name": "stdout",
     "output_type": "stream",
     "text": [
      "{'clave1': 'valor1', 2: 'valor2', 'clave3': 3}\n"
     ]
    }
   ],
   "source": [
    "# Cómo agregar cosas al diccionario\n",
    "diccionario['clave1'] = 'valor1'\n",
    "diccionario[2] = 'valor2'\n",
    "diccionario['clave3'] = 3\n",
    "print(diccionario)"
   ]
  },
  {
   "cell_type": "markdown",
   "id": "f21e8344",
   "metadata": {},
   "source": [
    "Hay dos formas de obtener valores de un diccionario:\n",
    "\n",
    "```python\n",
    "diccionario[clave]\n",
    "```\n",
    "\n",
    "El cual devuelve el valor si existe la clave suministrada o bien lanza `KeyError` si no existe."
   ]
  },
  {
   "cell_type": "code",
   "execution_count": 58,
   "id": "ac32528b",
   "metadata": {
    "execution": {
     "iopub.execute_input": "2021-04-28T21:19:42.405040Z",
     "iopub.status.busy": "2021-04-28T21:19:42.404477Z",
     "iopub.status.idle": "2021-04-28T21:19:42.410433Z",
     "shell.execute_reply": "2021-04-28T21:19:42.409956Z"
    }
   },
   "outputs": [
    {
     "data": {
      "text/plain": [
       "'valor1'"
      ]
     },
     "execution_count": 1,
     "metadata": {},
     "output_type": "execute_result"
    }
   ],
   "source": [
    "diccionario['clave1']"
   ]
  },
  {
   "cell_type": "code",
   "execution_count": 59,
   "id": "df278017",
   "metadata": {
    "execution": {
     "iopub.execute_input": "2021-04-28T21:19:42.417419Z",
     "iopub.status.busy": "2021-04-28T21:19:42.416603Z",
     "iopub.status.idle": "2021-04-28T21:19:42.422405Z",
     "shell.execute_reply": "2021-04-28T21:19:42.421901Z"
    },
    "tags": [
     "raises-exception"
    ]
   },
   "outputs": [
    {
     "ename": "KeyError",
     "evalue": "'clave1000'",
     "output_type": "error",
     "traceback": [
      "\u001b[0;31m---------------------------------------------------------------------------\u001b[0m",
      "\u001b[0;31mKeyError\u001b[0m                                  Traceback (most recent call last)",
      "\u001b[0;32m<ipython-input-1-41aae9a2e5ed>\u001b[0m in \u001b[0;36m<module>\u001b[0;34m\u001b[0m\n\u001b[0;32m----> 1\u001b[0;31m \u001b[0mdiccionario\u001b[0m\u001b[0;34m[\u001b[0m\u001b[0;34m'clave1000'\u001b[0m\u001b[0;34m]\u001b[0m\u001b[0;34m\u001b[0m\u001b[0;34m\u001b[0m\u001b[0m\n\u001b[0m",
      "\u001b[0;31mKeyError\u001b[0m: 'clave1000'"
     ]
    }
   ],
   "source": [
    "diccionario['clave1000']"
   ]
  },
  {
   "cell_type": "markdown",
   "id": "fcd95e0b",
   "metadata": {},
   "source": [
    "La segunda forma es con `get`:"
   ]
  },
  {
   "cell_type": "code",
   "execution_count": 60,
   "id": "7d44ba0e",
   "metadata": {
    "execution": {
     "iopub.execute_input": "2021-04-28T21:19:42.456528Z",
     "iopub.status.busy": "2021-04-28T21:19:42.440674Z",
     "iopub.status.idle": "2021-04-28T21:19:42.483874Z",
     "shell.execute_reply": "2021-04-28T21:19:42.483247Z"
    }
   },
   "outputs": [],
   "source": [
    "diccionario.get?"
   ]
  },
  {
   "cell_type": "code",
   "execution_count": 61,
   "id": "be8e09c2",
   "metadata": {
    "execution": {
     "iopub.execute_input": "2021-04-28T21:19:42.488393Z",
     "iopub.status.busy": "2021-04-28T21:19:42.486448Z",
     "iopub.status.idle": "2021-04-28T21:19:42.492828Z",
     "shell.execute_reply": "2021-04-28T21:19:42.493802Z"
    }
   },
   "outputs": [
    {
     "name": "stdout",
     "output_type": "stream",
     "text": [
      "Help on built-in function get:\n",
      "\n",
      "get(key, default=None, /) method of builtins.dict instance\n",
      "    Return the value for key if key is in the dictionary, else default.\n",
      "\n"
     ]
    }
   ],
   "source": [
    "help(diccionario.get)"
   ]
  },
  {
   "cell_type": "code",
   "execution_count": 62,
   "id": "db5532de",
   "metadata": {
    "execution": {
     "iopub.execute_input": "2021-04-28T21:19:42.500912Z",
     "iopub.status.busy": "2021-04-28T21:19:42.499278Z",
     "iopub.status.idle": "2021-04-28T21:19:42.503159Z",
     "shell.execute_reply": "2021-04-28T21:19:42.503611Z"
    },
    "slideshow": {
     "slide_type": "slide"
    }
   },
   "outputs": [
    {
     "name": "stdout",
     "output_type": "stream",
     "text": [
      "None\n"
     ]
    }
   ],
   "source": [
    "print(diccionario.get('clave1000'))"
   ]
  },
  {
   "cell_type": "code",
   "execution_count": 63,
   "id": "bdec1cbf",
   "metadata": {
    "execution": {
     "iopub.execute_input": "2021-04-28T21:19:42.507855Z",
     "iopub.status.busy": "2021-04-28T21:19:42.506899Z",
     "iopub.status.idle": "2021-04-28T21:19:42.510640Z",
     "shell.execute_reply": "2021-04-28T21:19:42.511112Z"
    },
    "slideshow": {
     "slide_type": "slide"
    }
   },
   "outputs": [
    {
     "name": "stdout",
     "output_type": "stream",
     "text": [
      "True\n"
     ]
    }
   ],
   "source": [
    "print('clave1' in diccionario)  # Verifico si la clave está en el diccionario"
   ]
  },
  {
   "cell_type": "code",
   "execution_count": 64,
   "id": "8acb5524",
   "metadata": {
    "execution": {
     "iopub.execute_input": "2021-04-28T21:19:42.515253Z",
     "iopub.status.busy": "2021-04-28T21:19:42.514686Z",
     "iopub.status.idle": "2021-04-28T21:19:42.519762Z",
     "shell.execute_reply": "2021-04-28T21:19:42.520264Z"
    }
   },
   "outputs": [
    {
     "data": {
      "text/plain": [
       "True"
      ]
     },
     "execution_count": 1,
     "metadata": {},
     "output_type": "execute_result"
    }
   ],
   "source": [
    "l = [1, 2, 3, 4]\n",
    "2 in l"
   ]
  },
  {
   "cell_type": "code",
   "execution_count": 65,
   "id": "14ee295b",
   "metadata": {
    "execution": {
     "iopub.execute_input": "2021-04-28T21:19:42.526148Z",
     "iopub.status.busy": "2021-04-28T21:19:42.524761Z",
     "iopub.status.idle": "2021-04-28T21:19:42.528082Z",
     "shell.execute_reply": "2021-04-28T21:19:42.527560Z"
    }
   },
   "outputs": [
    {
     "name": "stdout",
     "output_type": "stream",
     "text": [
      "la clave es clave1 y el valor es valor1\n",
      "la clave es 2 y el valor es valor2\n",
      "la clave es clave3 y el valor es 3\n"
     ]
    }
   ],
   "source": [
    "for clave, valor in diccionario.items():\n",
    "    print(\"la clave es %s y el valor es %s\" % (clave, valor))"
   ]
  },
  {
   "cell_type": "code",
   "execution_count": 66,
   "id": "f3d7e239",
   "metadata": {
    "execution": {
     "iopub.execute_input": "2021-04-28T21:19:42.533815Z",
     "iopub.status.busy": "2021-04-28T21:19:42.532445Z",
     "iopub.status.idle": "2021-04-28T21:19:42.535715Z",
     "shell.execute_reply": "2021-04-28T21:19:42.535220Z"
    }
   },
   "outputs": [
    {
     "name": "stdout",
     "output_type": "stream",
     "text": [
      "la clave es clave1 y el valor es valor1\n",
      "la clave es 2 y el valor es valor2\n",
      "la clave es clave3 y el valor es 3\n"
     ]
    }
   ],
   "source": [
    "for clave, valor in diccionario.items():\n",
    "    print(\"la clave es {} y el valor es {}\".format(clave, valor))"
   ]
  },
  {
   "cell_type": "code",
   "execution_count": 67,
   "id": "c38d38f1",
   "metadata": {
    "execution": {
     "iopub.execute_input": "2021-04-28T21:19:42.541619Z",
     "iopub.status.busy": "2021-04-28T21:19:42.540271Z",
     "iopub.status.idle": "2021-04-28T21:19:42.543501Z",
     "shell.execute_reply": "2021-04-28T21:19:42.543007Z"
    },
    "slideshow": {
     "slide_type": "slide"
    }
   },
   "outputs": [
    {
     "name": "stdout",
     "output_type": "stream",
     "text": [
      "la clave es clave1 y el valor es valor1\n",
      "la clave es 2 y el valor es valor2\n",
      "la clave es clave3 y el valor es 3\n"
     ]
    }
   ],
   "source": [
    "# Cómo iterar un diccionario elemento por elemento\n",
    "for (\n",
    "    clave,\n",
    "    valor,\n",
    ") in (\n",
    "    diccionario.items()\n",
    "):  # diccionario.items() va devolviendo tuplas con el formato (clave,valor)\n",
    "    print(\n",
    "        f\"la clave es {clave} y el valor es {valor}\"\n",
    "    )  # con esta sintaxis se desempaquetan en clave y valor (similar a enumerate)"
   ]
  },
  {
   "cell_type": "code",
   "execution_count": 68,
   "id": "045d558a",
   "metadata": {
    "execution": {
     "iopub.execute_input": "2021-04-28T21:19:42.549034Z",
     "iopub.status.busy": "2021-04-28T21:19:42.547675Z",
     "iopub.status.idle": "2021-04-28T21:19:42.550932Z",
     "shell.execute_reply": "2021-04-28T21:19:42.550435Z"
    },
    "slideshow": {
     "slide_type": "slide"
    }
   },
   "outputs": [
    {
     "name": "stdout",
     "output_type": "stream",
     "text": [
      "clave1\n",
      "2\n",
      "clave3\n"
     ]
    }
   ],
   "source": [
    "for clave in diccionario.keys():\n",
    "    print(clave)"
   ]
  },
  {
   "cell_type": "code",
   "execution_count": 69,
   "id": "6e4e2c77",
   "metadata": {
    "execution": {
     "iopub.execute_input": "2021-04-28T21:19:42.556317Z",
     "iopub.status.busy": "2021-04-28T21:19:42.554991Z",
     "iopub.status.idle": "2021-04-28T21:19:42.558185Z",
     "shell.execute_reply": "2021-04-28T21:19:42.557686Z"
    },
    "slideshow": {
     "slide_type": "slide"
    }
   },
   "outputs": [
    {
     "name": "stdout",
     "output_type": "stream",
     "text": [
      "valor1\n",
      "valor2\n",
      "3\n"
     ]
    }
   ],
   "source": [
    "for valor in diccionario.values():\n",
    "    print(valor)"
   ]
  },
  {
   "cell_type": "markdown",
   "id": "a5074e12",
   "metadata": {},
   "source": [
    "#### Sets\n",
    "\n",
    "Son similares a los diccionarios (en eficiencia) pero se almacenan solo claves, y tienen algunas operaciones particulares.\n",
    "\n",
    "En particular, no pueden tener elementos iguales (pensar que son conjuntos)"
   ]
  },
  {
   "cell_type": "code",
   "execution_count": 70,
   "id": "42083e42",
   "metadata": {
    "execution": {
     "iopub.execute_input": "2021-04-28T21:19:42.562333Z",
     "iopub.status.busy": "2021-04-28T21:19:42.561774Z",
     "iopub.status.idle": "2021-04-28T21:19:42.566358Z",
     "shell.execute_reply": "2021-04-28T21:19:42.565884Z"
    }
   },
   "outputs": [],
   "source": [
    "set??"
   ]
  },
  {
   "cell_type": "code",
   "execution_count": 71,
   "id": "b6c62952",
   "metadata": {
    "execution": {
     "iopub.execute_input": "2021-04-28T21:19:42.571472Z",
     "iopub.status.busy": "2021-04-28T21:19:42.570457Z",
     "iopub.status.idle": "2021-04-28T21:19:42.573337Z",
     "shell.execute_reply": "2021-04-28T21:19:42.573795Z"
    }
   },
   "outputs": [
    {
     "data": {
      "text/plain": [
       "{1, 2, 3}"
      ]
     },
     "execution_count": 1,
     "metadata": {},
     "output_type": "execute_result"
    }
   ],
   "source": [
    "# Se definen como los diccionarios pero sin hacerlos 'clave:valor', solamente una seguidilla de elementos\n",
    "{1, 2, 2, 3}"
   ]
  },
  {
   "cell_type": "code",
   "execution_count": 72,
   "id": "9f2c0c66",
   "metadata": {
    "execution": {
     "iopub.execute_input": "2021-04-28T21:19:42.578830Z",
     "iopub.status.busy": "2021-04-28T21:19:42.577977Z",
     "iopub.status.idle": "2021-04-28T21:19:42.580365Z",
     "shell.execute_reply": "2021-04-28T21:19:42.580821Z"
    }
   },
   "outputs": [
    {
     "data": {
      "text/plain": [
       "{1, 2, 3}"
      ]
     },
     "execution_count": 1,
     "metadata": {},
     "output_type": "execute_result"
    }
   ],
   "source": [
    "set([1, 2, 2, 3])"
   ]
  },
  {
   "cell_type": "markdown",
   "id": "3cb36ac9",
   "metadata": {},
   "source": [
    "## Condicionales (if...elif...else)\n",
    "\n",
    "```python\n",
    "if <condición_1>:\n",
    "    <hacer algo_1 si se da la condición_1>\n",
    "elif <condición_2>:\n",
    "    <hacer algo_2 si se da la condición_2>\n",
    "...\n",
    "elif <condición_n>:\n",
    "    <hacer algo_n si se da la condición_n>\n",
    "else:\n",
    "    <hacer otra cosa si no dan las anteriores>\n",
    "```\n",
    "\n",
    "Algo importante para notar es que los bloques se definen por **niveles de identacion**."
   ]
  },
  {
   "cell_type": "code",
   "execution_count": 73,
   "id": "620aab0e",
   "metadata": {
    "execution": {
     "iopub.execute_input": "2021-04-28T21:19:42.585746Z",
     "iopub.status.busy": "2021-04-28T21:19:42.585162Z",
     "iopub.status.idle": "2021-04-28T21:19:42.587037Z",
     "shell.execute_reply": "2021-04-28T21:19:42.587499Z"
    }
   },
   "outputs": [
    {
     "name": "stdout",
     "output_type": "stream",
     "text": [
      "uno\n"
     ]
    }
   ],
   "source": [
    "v = 1\n",
    "if v == 1:\n",
    "    print(\"uno\")\n",
    "elif v == 2:\n",
    "    print(\"dos\")\n",
    "else:\n",
    "    print(\"ni idea\")\n",
    "    print(v)"
   ]
  },
  {
   "cell_type": "markdown",
   "id": "37808e1d",
   "metadata": {},
   "source": [
    "## Iteraciones\n",
    "\n",
    "```python\n",
    "while cond:\n",
    "    <codigo>\n",
    "```\n",
    "\n",
    "```python\n",
    "for elemento in iterable:\n",
    "    <codigo>\n",
    "```\n",
    "\n",
    "Para iterar sobre un rango de valores, usamos `range`"
   ]
  },
  {
   "cell_type": "code",
   "execution_count": 74,
   "id": "55ad4e0c",
   "metadata": {
    "execution": {
     "iopub.execute_input": "2021-04-28T21:19:42.591385Z",
     "iopub.status.busy": "2021-04-28T21:19:42.590534Z",
     "iopub.status.idle": "2021-04-28T21:19:42.593912Z",
     "shell.execute_reply": "2021-04-28T21:19:42.593308Z"
    }
   },
   "outputs": [
    {
     "name": "stdout",
     "output_type": "stream",
     "text": [
      "1\n",
      "4\n",
      "7\n",
      "10\n"
     ]
    }
   ],
   "source": [
    "for i in range(1, 11, 3):\n",
    "    print(i)"
   ]
  },
  {
   "cell_type": "markdown",
   "id": "8a7f8c7c",
   "metadata": {},
   "source": [
    "## Operadores logicos\n",
    "\n",
    "`not`, `or`, `and`"
   ]
  },
  {
   "cell_type": "code",
   "execution_count": 75,
   "id": "bd2b7318",
   "metadata": {
    "execution": {
     "iopub.execute_input": "2021-04-28T21:19:42.597797Z",
     "iopub.status.busy": "2021-04-28T21:19:42.597232Z",
     "iopub.status.idle": "2021-04-28T21:19:42.599111Z",
     "shell.execute_reply": "2021-04-28T21:19:42.599656Z"
    }
   },
   "outputs": [
    {
     "name": "stdout",
     "output_type": "stream",
     "text": [
      "yay\n"
     ]
    }
   ],
   "source": [
    "if True or False:\n",
    "    print(\"yay\")"
   ]
  },
  {
   "cell_type": "code",
   "execution_count": 76,
   "id": "e8936f67",
   "metadata": {
    "execution": {
     "iopub.execute_input": "2021-04-28T21:19:42.602305Z",
     "iopub.status.busy": "2021-04-28T21:19:42.601732Z",
     "iopub.status.idle": "2021-04-28T21:19:42.606206Z",
     "shell.execute_reply": "2021-04-28T21:19:42.605705Z"
    }
   },
   "outputs": [
    {
     "data": {
      "text/plain": [
       "False"
      ]
     },
     "execution_count": 1,
     "metadata": {},
     "output_type": "execute_result"
    }
   ],
   "source": [
    "1 == 2"
   ]
  },
  {
   "cell_type": "code",
   "execution_count": 77,
   "id": "0f86b262",
   "metadata": {
    "execution": {
     "iopub.execute_input": "2021-04-28T21:19:42.611171Z",
     "iopub.status.busy": "2021-04-28T21:19:42.610138Z",
     "iopub.status.idle": "2021-04-28T21:19:42.613083Z",
     "shell.execute_reply": "2021-04-28T21:19:42.613542Z"
    }
   },
   "outputs": [
    {
     "data": {
      "text/plain": [
       "True"
      ]
     },
     "execution_count": 1,
     "metadata": {},
     "output_type": "execute_result"
    }
   ],
   "source": [
    "1 != 2"
   ]
  },
  {
   "cell_type": "markdown",
   "id": "ddc2bf62",
   "metadata": {
    "slideshow": {
     "slide_type": "slide"
    }
   },
   "source": [
    "## Funciones en Python"
   ]
  },
  {
   "cell_type": "code",
   "execution_count": 78,
   "id": "ebb98659",
   "metadata": {
    "execution": {
     "iopub.execute_input": "2021-04-28T21:19:42.621660Z",
     "iopub.status.busy": "2021-04-28T21:19:42.620352Z",
     "iopub.status.idle": "2021-04-28T21:19:42.623627Z",
     "shell.execute_reply": "2021-04-28T21:19:42.623133Z"
    },
    "slideshow": {
     "slide_type": "slide"
    }
   },
   "outputs": [
    {
     "name": "stdout",
     "output_type": "stream",
     "text": [
      "True\n",
      "False\n"
     ]
    }
   ],
   "source": [
    "def busqueda_binaria(lista, elemento):\n",
    "    if not lista:\n",
    "        return False\n",
    "    elif len(lista) == 1:\n",
    "        return lista[0] == elemento\n",
    "    mitad = len(lista) // 2  # // es la operación división entera\n",
    "    if lista[mitad] == elemento:\n",
    "        return True\n",
    "    if lista[mitad] > elemento:\n",
    "        return busqueda_binaria(lista[:mitad], elemento)\n",
    "    if lista[mitad] < elemento:\n",
    "        return busqueda_binaria(lista[mitad:], elemento)\n",
    "\n",
    "\n",
    "print(busqueda_binaria([1, 2, 3, 4, 5], 4))\n",
    "print(busqueda_binaria([1, 4, 6, 7, 9, 10], 2))"
   ]
  },
  {
   "cell_type": "code",
   "execution_count": 79,
   "id": "9c8fd898",
   "metadata": {
    "execution": {
     "iopub.execute_input": "2021-04-28T21:19:42.629174Z",
     "iopub.status.busy": "2021-04-28T21:19:42.627829Z",
     "iopub.status.idle": "2021-04-28T21:19:42.631036Z",
     "shell.execute_reply": "2021-04-28T21:19:42.630547Z"
    }
   },
   "outputs": [
    {
     "name": "stdout",
     "output_type": "stream",
     "text": [
      "(3, 3, 3)\n"
     ]
    }
   ],
   "source": [
    "def a(b):\n",
    "    if a == 1:\n",
    "        print(a)\n",
    "    return (b, b, b)\n",
    "\n",
    "\n",
    "print(a(3))"
   ]
  },
  {
   "cell_type": "code",
   "execution_count": 80,
   "id": "557a9a74",
   "metadata": {
    "execution": {
     "iopub.execute_input": "2021-04-28T21:19:42.636047Z",
     "iopub.status.busy": "2021-04-28T21:19:42.635424Z",
     "iopub.status.idle": "2021-04-28T21:19:42.645656Z",
     "shell.execute_reply": "2021-04-28T21:19:42.646186Z"
    },
    "lines_to_next_cell": 2,
    "slideshow": {
     "slide_type": "slide"
    },
    "tags": [
     "raises-exception"
    ]
   },
   "outputs": [
    {
     "name": "stdout",
     "output_type": "stream",
     "text": [
      "3\n",
      "3.0\n",
      "3.0\n",
      "hola como te va\n",
      "[1, 2, 3, 4, 5]\n"
     ]
    },
    {
     "ename": "TypeError",
     "evalue": "can only concatenate str (not \"int\") to str",
     "output_type": "error",
     "traceback": [
      "\u001b[0;31m---------------------------------------------------------------------------\u001b[0m",
      "\u001b[0;31mTypeError\u001b[0m                                 Traceback (most recent call last)",
      "\u001b[0;32m<ipython-input-1-c2a6a99a90c7>\u001b[0m in \u001b[0;36m<module>\u001b[0;34m\u001b[0m\n\u001b[1;32m      8\u001b[0m \u001b[0mprint\u001b[0m\u001b[0;34m(\u001b[0m\u001b[0msuma\u001b[0m\u001b[0;34m(\u001b[0m\u001b[0;34m\"hola \"\u001b[0m\u001b[0;34m,\u001b[0m \u001b[0;34m\"como te va\"\u001b[0m\u001b[0;34m)\u001b[0m\u001b[0;34m)\u001b[0m\u001b[0;34m\u001b[0m\u001b[0;34m\u001b[0m\u001b[0m\n\u001b[1;32m      9\u001b[0m \u001b[0mprint\u001b[0m\u001b[0;34m(\u001b[0m\u001b[0msuma\u001b[0m\u001b[0;34m(\u001b[0m\u001b[0;34m[\u001b[0m\u001b[0;36m1\u001b[0m\u001b[0;34m,\u001b[0m \u001b[0;36m2\u001b[0m\u001b[0;34m,\u001b[0m \u001b[0;36m3\u001b[0m\u001b[0;34m]\u001b[0m\u001b[0;34m,\u001b[0m \u001b[0;34m[\u001b[0m\u001b[0;36m4\u001b[0m\u001b[0;34m,\u001b[0m \u001b[0;36m5\u001b[0m\u001b[0;34m]\u001b[0m\u001b[0;34m)\u001b[0m\u001b[0;34m)\u001b[0m\u001b[0;34m\u001b[0m\u001b[0;34m\u001b[0m\u001b[0m\n\u001b[0;32m---> 10\u001b[0;31m \u001b[0mprint\u001b[0m\u001b[0;34m(\u001b[0m\u001b[0msuma\u001b[0m\u001b[0;34m(\u001b[0m\u001b[0;34m\"1\"\u001b[0m\u001b[0;34m,\u001b[0m \u001b[0;36m3\u001b[0m\u001b[0;34m)\u001b[0m\u001b[0;34m)\u001b[0m  \u001b[0;31m# Falla\u001b[0m\u001b[0;34m\u001b[0m\u001b[0;34m\u001b[0m\u001b[0m\n\u001b[0m",
      "\u001b[0;32m<ipython-input-1-c2a6a99a90c7>\u001b[0m in \u001b[0;36msuma\u001b[0;34m(a, b)\u001b[0m\n\u001b[1;32m      1\u001b[0m \u001b[0;32mdef\u001b[0m \u001b[0msuma\u001b[0m\u001b[0;34m(\u001b[0m\u001b[0ma\u001b[0m\u001b[0;34m,\u001b[0m \u001b[0mb\u001b[0m\u001b[0;34m)\u001b[0m\u001b[0;34m:\u001b[0m\u001b[0;34m\u001b[0m\u001b[0;34m\u001b[0m\u001b[0m\n\u001b[0;32m----> 2\u001b[0;31m     \u001b[0;32mreturn\u001b[0m \u001b[0ma\u001b[0m \u001b[0;34m+\u001b[0m \u001b[0mb\u001b[0m\u001b[0;34m\u001b[0m\u001b[0;34m\u001b[0m\u001b[0m\n\u001b[0m\u001b[1;32m      3\u001b[0m \u001b[0;34m\u001b[0m\u001b[0m\n\u001b[1;32m      4\u001b[0m \u001b[0;34m\u001b[0m\u001b[0m\n\u001b[1;32m      5\u001b[0m \u001b[0mprint\u001b[0m\u001b[0;34m(\u001b[0m\u001b[0msuma\u001b[0m\u001b[0;34m(\u001b[0m\u001b[0;36m1\u001b[0m\u001b[0;34m,\u001b[0m \u001b[0;36m2\u001b[0m\u001b[0;34m)\u001b[0m\u001b[0;34m)\u001b[0m\u001b[0;34m\u001b[0m\u001b[0;34m\u001b[0m\u001b[0m\n",
      "\u001b[0;31mTypeError\u001b[0m: can only concatenate str (not \"int\") to str"
     ]
    }
   ],
   "source": [
    "def suma(a, b):\n",
    "    return a + b\n",
    "\n",
    "\n",
    "print(suma(1, 2))\n",
    "print(suma(1.0, 2.0))\n",
    "print(suma(1.0, 2))\n",
    "print(suma(\"hola \", \"como te va\"))\n",
    "print(suma([1, 2, 3], [4, 5]))\n",
    "print(suma(\"1\", 3))  # Falla"
   ]
  },
  {
   "cell_type": "code",
   "execution_count": 81,
   "id": "0bbb95e2",
   "metadata": {
    "execution": {
     "iopub.execute_input": "2021-04-28T21:19:42.651829Z",
     "iopub.status.busy": "2021-04-28T21:19:42.650488Z",
     "iopub.status.idle": "2021-04-28T21:19:42.653732Z",
     "shell.execute_reply": "2021-04-28T21:19:42.653235Z"
    }
   },
   "outputs": [
    {
     "name": "stdout",
     "output_type": "stream",
     "text": [
      "2.0\n"
     ]
    }
   ],
   "source": [
    "# El valor por default de divisor es 1\n",
    "\n",
    "\n",
    "def division(dividendo, divisor=2):\n",
    "    return dividendo / divisor\n",
    "\n",
    "\n",
    "print(division(4))  # Usa el valor por default"
   ]
  },
  {
   "cell_type": "code",
   "execution_count": 82,
   "id": "cb7d61f2",
   "metadata": {
    "execution": {
     "iopub.execute_input": "2021-04-28T21:19:42.661810Z",
     "iopub.status.busy": "2021-04-28T21:19:42.658922Z",
     "iopub.status.idle": "2021-04-28T21:19:42.664776Z",
     "shell.execute_reply": "2021-04-28T21:19:42.665292Z"
    },
    "tags": [
     "raises-exception"
    ]
   },
   "outputs": [
    {
     "name": "stdout",
     "output_type": "stream",
     "text": [
      "0.5\n",
      "0.5\n"
     ]
    },
    {
     "ename": "TypeError",
     "evalue": "division() missing 1 required positional argument: 'dividendo'",
     "output_type": "error",
     "traceback": [
      "\u001b[0;31m---------------------------------------------------------------------------\u001b[0m",
      "\u001b[0;31mTypeError\u001b[0m                                 Traceback (most recent call last)",
      "\u001b[0;32m<ipython-input-1-34eff3833138>\u001b[0m in \u001b[0;36m<module>\u001b[0;34m\u001b[0m\n\u001b[1;32m      1\u001b[0m \u001b[0mprint\u001b[0m\u001b[0;34m(\u001b[0m\u001b[0mdivision\u001b[0m\u001b[0;34m(\u001b[0m\u001b[0;36m1\u001b[0m\u001b[0;34m,\u001b[0m \u001b[0;36m2\u001b[0m\u001b[0;34m)\u001b[0m\u001b[0;34m)\u001b[0m  \u001b[0;31m# Parámetros por orden\u001b[0m\u001b[0;34m\u001b[0m\u001b[0;34m\u001b[0m\u001b[0m\n\u001b[1;32m      2\u001b[0m \u001b[0mprint\u001b[0m\u001b[0;34m(\u001b[0m\u001b[0mdivision\u001b[0m\u001b[0;34m(\u001b[0m\u001b[0mdividendo\u001b[0m\u001b[0;34m=\u001b[0m\u001b[0;36m1\u001b[0m\u001b[0;34m,\u001b[0m \u001b[0mdivisor\u001b[0m\u001b[0;34m=\u001b[0m\u001b[0;36m2\u001b[0m\u001b[0;34m)\u001b[0m\u001b[0;34m)\u001b[0m  \u001b[0;31m# Parámetros por nombre\u001b[0m\u001b[0;34m\u001b[0m\u001b[0;34m\u001b[0m\u001b[0m\n\u001b[0;32m----> 3\u001b[0;31m \u001b[0mprint\u001b[0m\u001b[0;34m(\u001b[0m\u001b[0mdivision\u001b[0m\u001b[0;34m(\u001b[0m\u001b[0mdivisor\u001b[0m\u001b[0;34m=\u001b[0m\u001b[0;36m2\u001b[0m\u001b[0;34m)\u001b[0m\u001b[0;34m)\u001b[0m\u001b[0;34m\u001b[0m\u001b[0;34m\u001b[0m\u001b[0m\n\u001b[0m",
      "\u001b[0;31mTypeError\u001b[0m: division() missing 1 required positional argument: 'dividendo'"
     ]
    }
   ],
   "source": [
    "print(division(1, 2))  # Parámetros por orden\n",
    "print(division(dividendo=1, divisor=2))  # Parámetros por nombre\n",
    "print(division(divisor=2))"
   ]
  },
  {
   "cell_type": "code",
   "execution_count": 83,
   "id": "859bbbbc",
   "metadata": {
    "execution": {
     "iopub.execute_input": "2021-04-28T21:19:42.670514Z",
     "iopub.status.busy": "2021-04-28T21:19:42.669180Z",
     "iopub.status.idle": "2021-04-28T21:19:42.672440Z",
     "shell.execute_reply": "2021-04-28T21:19:42.671926Z"
    }
   },
   "outputs": [
    {
     "name": "stdout",
     "output_type": "stream",
     "text": [
      "0.5\n"
     ]
    }
   ],
   "source": [
    "print(division(divisor=2, dividendo=1))"
   ]
  },
  {
   "cell_type": "code",
   "execution_count": 84,
   "id": "3615ba5c",
   "metadata": {
    "execution": {
     "iopub.execute_input": "2021-04-28T21:19:42.678920Z",
     "iopub.status.busy": "2021-04-28T21:19:42.677583Z",
     "iopub.status.idle": "2021-04-28T21:19:42.680837Z",
     "shell.execute_reply": "2021-04-28T21:19:42.680336Z"
    }
   },
   "outputs": [
    {
     "name": "stdout",
     "output_type": "stream",
     "text": [
      "['a', 'b', 'c']\n",
      "[1, 2, 3]\n",
      "['hola', ' don', ' pepito']\n",
      "hola -  don -  pepito\n"
     ]
    }
   ],
   "source": [
    "# Funciones básicas ya en el lenguaje\n",
    "# Hechas para funcionar para distintos tipos\n",
    "\n",
    "string_ordenado = sorted('bca')\n",
    "print(string_ordenado)\n",
    "\n",
    "lista_ordenada = sorted([1, 3, 2])\n",
    "print(lista_ordenada)\n",
    "\n",
    "separadas = \"hola, don, pepito\".split(\",\")\n",
    "print(separadas)\n",
    "unidas = \" - \".join(separadas)\n",
    "print(unidas)"
   ]
  },
  {
   "cell_type": "markdown",
   "id": "8a480695",
   "metadata": {},
   "source": [
    "## Módulos\n",
    "\n",
    "Para incluir alguna biblioteca de funciones se usa `import`. Pueden ser cosas ya predefinidas en Python (`math`, `random`, etc), nombres de archivos en nuestro directorio (por ejemplo, para `mimodulo.py` ponemos `import mimodulo`) o bibliotecas instaladas por el usuario"
   ]
  },
  {
   "cell_type": "code",
   "execution_count": 85,
   "id": "2ed7fc76",
   "metadata": {
    "execution": {
     "iopub.execute_input": "2021-04-28T21:19:42.685930Z",
     "iopub.status.busy": "2021-04-28T21:19:42.684557Z",
     "iopub.status.idle": "2021-04-28T21:19:42.687801Z",
     "shell.execute_reply": "2021-04-28T21:19:42.687307Z"
    }
   },
   "outputs": [
    {
     "name": "stdout",
     "output_type": "stream",
     "text": [
      "3.141592653589793\n"
     ]
    }
   ],
   "source": [
    "import math\n",
    "\n",
    "print(math.pi)"
   ]
  },
  {
   "cell_type": "code",
   "execution_count": 86,
   "id": "d77758c2",
   "metadata": {
    "execution": {
     "iopub.execute_input": "2021-04-28T21:19:42.692951Z",
     "iopub.status.busy": "2021-04-28T21:19:42.691720Z",
     "iopub.status.idle": "2021-04-28T21:19:42.694951Z",
     "shell.execute_reply": "2021-04-28T21:19:42.694455Z"
    }
   },
   "outputs": [
    {
     "name": "stdout",
     "output_type": "stream",
     "text": [
      "3.141592653589793 2.718281828459045\n"
     ]
    }
   ],
   "source": [
    "from math import pi, e\n",
    "\n",
    "print(pi, e)"
   ]
  },
  {
   "cell_type": "code",
   "execution_count": 87,
   "id": "eeb5e499",
   "metadata": {
    "execution": {
     "iopub.execute_input": "2021-04-28T21:19:42.699842Z",
     "iopub.status.busy": "2021-04-28T21:19:42.698836Z",
     "iopub.status.idle": "2021-04-28T21:19:42.701734Z",
     "shell.execute_reply": "2021-04-28T21:19:42.702191Z"
    }
   },
   "outputs": [
    {
     "data": {
      "text/plain": [
       "2"
      ]
     },
     "execution_count": 1,
     "metadata": {},
     "output_type": "execute_result"
    }
   ],
   "source": [
    "math.gcd(56, 78)"
   ]
  },
  {
   "cell_type": "markdown",
   "id": "049388ce",
   "metadata": {},
   "source": [
    "## Manejo de excepciones\n",
    "\n",
    "Se pueden encapsular errores esperados en un bloque 'try/except' para evitar cortar el flujo del programa"
   ]
  },
  {
   "cell_type": "code",
   "execution_count": 88,
   "id": "eacff832",
   "metadata": {
    "execution": {
     "iopub.execute_input": "2021-04-28T21:19:42.710725Z",
     "iopub.status.busy": "2021-04-28T21:19:42.706567Z",
     "iopub.status.idle": "2021-04-28T21:19:42.713453Z",
     "shell.execute_reply": "2021-04-28T21:19:42.712934Z"
    },
    "tags": [
     "raises-exception"
    ]
   },
   "outputs": [
    {
     "ename": "ZeroDivisionError",
     "evalue": "division by zero",
     "output_type": "error",
     "traceback": [
      "\u001b[0;31m---------------------------------------------------------------------------\u001b[0m",
      "\u001b[0;31mZeroDivisionError\u001b[0m                         Traceback (most recent call last)",
      "\u001b[0;32m<ipython-input-1-f031f77b1a55>\u001b[0m in \u001b[0;36m<module>\u001b[0;34m\u001b[0m\n\u001b[0;32m----> 1\u001b[0;31m \u001b[0mdivision\u001b[0m\u001b[0;34m(\u001b[0m\u001b[0;36m1\u001b[0m\u001b[0;34m,\u001b[0m \u001b[0;36m0\u001b[0m\u001b[0;34m)\u001b[0m  \u001b[0;31m# No se puede dividir por cero\u001b[0m\u001b[0;34m\u001b[0m\u001b[0;34m\u001b[0m\u001b[0m\n\u001b[0m",
      "\u001b[0;32m<ipython-input-1-0d991d7de762>\u001b[0m in \u001b[0;36mdivision\u001b[0;34m(dividendo, divisor)\u001b[0m\n\u001b[1;32m      3\u001b[0m \u001b[0;34m\u001b[0m\u001b[0m\n\u001b[1;32m      4\u001b[0m \u001b[0;32mdef\u001b[0m \u001b[0mdivision\u001b[0m\u001b[0;34m(\u001b[0m\u001b[0mdividendo\u001b[0m\u001b[0;34m,\u001b[0m \u001b[0mdivisor\u001b[0m\u001b[0;34m=\u001b[0m\u001b[0;36m2\u001b[0m\u001b[0;34m)\u001b[0m\u001b[0;34m:\u001b[0m\u001b[0;34m\u001b[0m\u001b[0;34m\u001b[0m\u001b[0m\n\u001b[0;32m----> 5\u001b[0;31m     \u001b[0;32mreturn\u001b[0m \u001b[0mdividendo\u001b[0m \u001b[0;34m/\u001b[0m \u001b[0mdivisor\u001b[0m\u001b[0;34m\u001b[0m\u001b[0;34m\u001b[0m\u001b[0m\n\u001b[0m\u001b[1;32m      6\u001b[0m \u001b[0;34m\u001b[0m\u001b[0m\n\u001b[1;32m      7\u001b[0m \u001b[0;34m\u001b[0m\u001b[0m\n",
      "\u001b[0;31mZeroDivisionError\u001b[0m: division by zero"
     ]
    }
   ],
   "source": [
    "division(1, 0)  # No se puede dividir por cero"
   ]
  },
  {
   "cell_type": "code",
   "execution_count": 89,
   "id": "955623ba",
   "metadata": {
    "execution": {
     "iopub.execute_input": "2021-04-28T21:19:42.719041Z",
     "iopub.status.busy": "2021-04-28T21:19:42.717823Z",
     "iopub.status.idle": "2021-04-28T21:19:42.720908Z",
     "shell.execute_reply": "2021-04-28T21:19:42.720410Z"
    }
   },
   "outputs": [
    {
     "name": "stdout",
     "output_type": "stream",
     "text": [
      "No se puede dividir por cero, ojo! division by zero\n",
      "1\n"
     ]
    }
   ],
   "source": [
    "try:\n",
    "    division(1, 0)\n",
    "except (ZeroDivisionError, TypeError) as e:\n",
    "    print('No se puede dividir por cero, ojo!', e)\n",
    "finally:\n",
    "    print(1)"
   ]
  },
  {
   "cell_type": "markdown",
   "id": "7286cadd",
   "metadata": {
    "slideshow": {
     "slide_type": "slide"
    }
   },
   "source": [
    "## Lectura y escritura de archivos"
   ]
  },
  {
   "cell_type": "code",
   "execution_count": 90,
   "id": "4a09736b",
   "metadata": {
    "execution": {
     "iopub.execute_input": "2021-04-28T21:19:42.726298Z",
     "iopub.status.busy": "2021-04-28T21:19:42.725683Z",
     "iopub.status.idle": "2021-04-28T21:19:42.728434Z",
     "shell.execute_reply": "2021-04-28T21:19:42.728858Z"
    },
    "slideshow": {
     "slide_type": "slide"
    }
   },
   "outputs": [
    {
     "name": "stdout",
     "output_type": "stream",
     "text": [
      "<_io.TextIOWrapper name='archivo.csv' mode='w' encoding='UTF-8'>\n"
     ]
    }
   ],
   "source": [
    "import random\n",
    "\n",
    "with open(\n",
    "    'archivo.csv', 'w'\n",
    ") as archivo:  # Al usar esta sintaxis no es necesario hacer close\n",
    "    archivo.write(\"Alumno, nota\\n\")\n",
    "    # Tambien de forma similar al fprintf se puede hacer:\n",
    "    # print(\"Alumno, nota\\n\", file=archivo)\n",
    "    for i in range(0, 10):\n",
    "        archivo.write(f\"{i},{random.randrange(0,10)}\\n\")\n",
    "\n",
    "print(archivo)  # Comentario aclaratorio:\n",
    "# Las variables definidas en un determinado scope siguen existiendo por fuera del mismo.\n",
    "# Se debe tener cuidado con esto, ya que nada garantiza que por fuera el valor sea el esperado."
   ]
  },
  {
   "cell_type": "code",
   "execution_count": 91,
   "id": "d9931744",
   "metadata": {
    "execution": {
     "iopub.execute_input": "2021-04-28T21:19:42.735031Z",
     "iopub.status.busy": "2021-04-28T21:19:42.733953Z",
     "iopub.status.idle": "2021-04-28T21:19:42.737183Z",
     "shell.execute_reply": "2021-04-28T21:19:42.736723Z"
    },
    "slideshow": {
     "slide_type": "slide"
    }
   },
   "outputs": [
    {
     "name": "stdout",
     "output_type": "stream",
     "text": [
      "Alumno, nota\n",
      "0,3\n",
      "1,1\n",
      "2,0\n",
      "3,8\n",
      "4,4\n",
      "5,5\n",
      "6,7\n",
      "7,7\n",
      "8,9\n",
      "9,8\n"
     ]
    }
   ],
   "source": [
    "with open('archivo.csv', 'r') as f:\n",
    "    for linea in f:\n",
    "        print(linea.strip())"
   ]
  },
  {
   "cell_type": "code",
   "execution_count": 92,
   "id": "cdb63723",
   "metadata": {
    "execution": {
     "iopub.execute_input": "2021-04-28T21:19:42.742430Z",
     "iopub.status.busy": "2021-04-28T21:19:42.741179Z",
     "iopub.status.idle": "2021-04-28T21:19:42.744496Z",
     "shell.execute_reply": "2021-04-28T21:19:42.743961Z"
    }
   },
   "outputs": [
    {
     "name": "stdout",
     "output_type": "stream",
     "text": [
      "Alumno, nota\n",
      "0,3\n",
      "1,1\n",
      "2,0\n",
      "3,8\n",
      "4,4\n",
      "5,5\n",
      "6,7\n",
      "7,7\n",
      "8,9\n",
      "9,8\n",
      "\n"
     ]
    }
   ],
   "source": [
    "with open('archivo.csv', 'r') as f:\n",
    "    print(f.read())"
   ]
  },
  {
   "cell_type": "code",
   "execution_count": 93,
   "id": "dfb0543b",
   "metadata": {
    "execution": {
     "iopub.execute_input": "2021-04-28T21:19:42.749195Z",
     "iopub.status.busy": "2021-04-28T21:19:42.748155Z",
     "iopub.status.idle": "2021-04-28T21:19:42.750705Z",
     "shell.execute_reply": "2021-04-28T21:19:42.750233Z"
    }
   },
   "outputs": [],
   "source": [
    "f = open('archivo.csv', 'w')\n",
    "f.write(\"algo, algo\")\n",
    "f.close()"
   ]
  },
  {
   "cell_type": "markdown",
   "id": "8bb937d6",
   "metadata": {
    "slideshow": {
     "slide_type": "slide"
    }
   },
   "source": [
    "## Objetos\n",
    "\n",
    "Los objetos tienen metodos y atributos:\n",
    "- Atributos: equivalentes a variables.\n",
    "- Métodos: equivalentes a las primitivas."
   ]
  },
  {
   "cell_type": "markdown",
   "id": "8967cfa4",
   "metadata": {
    "slideshow": {
     "slide_type": "slide"
    }
   },
   "source": [
    "### Cómo creo una clase"
   ]
  },
  {
   "cell_type": "code",
   "execution_count": 94,
   "id": "8b729581",
   "metadata": {
    "execution": {
     "iopub.execute_input": "2021-04-28T21:19:42.757444Z",
     "iopub.status.busy": "2021-04-28T21:19:42.756136Z",
     "iopub.status.idle": "2021-04-28T21:19:42.758050Z",
     "shell.execute_reply": "2021-04-28T21:19:42.758469Z"
    },
    "slideshow": {
     "slide_type": "slide"
    }
   },
   "outputs": [],
   "source": [
    "class Nodo(object):\n",
    "    def __init__(self, dato, siguiente=None):\n",
    "        self._dato = dato\n",
    "        self._siguiente = siguiente\n",
    "\n",
    "    @property\n",
    "    def dato(self):\n",
    "        return self._dato\n",
    "\n",
    "    @property\n",
    "    def proximo(self):\n",
    "        return self._siguiente\n",
    "\n",
    "    @proximo.setter\n",
    "    def proximo(self, siguiente):\n",
    "        self._siguiente = siguiente\n",
    "\n",
    "    def __repr__(self):\n",
    "        return str(self.dato)\n",
    "\n",
    "    def __str__(self):\n",
    "        return str(self.dato)"
   ]
  },
  {
   "cell_type": "code",
   "execution_count": 95,
   "id": "082b842e",
   "metadata": {
    "execution": {
     "iopub.execute_input": "2021-04-28T21:19:42.763505Z",
     "iopub.status.busy": "2021-04-28T21:19:42.762164Z",
     "iopub.status.idle": "2021-04-28T21:19:42.765447Z",
     "shell.execute_reply": "2021-04-28T21:19:42.764949Z"
    },
    "slideshow": {
     "slide_type": "slide"
    }
   },
   "outputs": [
    {
     "name": "stdout",
     "output_type": "stream",
     "text": [
      "hola\n"
     ]
    }
   ],
   "source": [
    "nodo = Nodo(\"hola\")\n",
    "print(nodo)"
   ]
  },
  {
   "cell_type": "code",
   "execution_count": 96,
   "id": "c1189826",
   "metadata": {
    "execution": {
     "iopub.execute_input": "2021-04-28T21:19:42.770522Z",
     "iopub.status.busy": "2021-04-28T21:19:42.769233Z",
     "iopub.status.idle": "2021-04-28T21:19:42.772385Z",
     "shell.execute_reply": "2021-04-28T21:19:42.771912Z"
    },
    "slideshow": {
     "slide_type": "slide"
    }
   },
   "outputs": [
    {
     "name": "stdout",
     "output_type": "stream",
     "text": [
      "[hola, lala]\n"
     ]
    }
   ],
   "source": [
    "nodo2 = Nodo(\"lala\")\n",
    "print([nodo, nodo2])"
   ]
  },
  {
   "cell_type": "code",
   "execution_count": 97,
   "id": "0a6d1ddc",
   "metadata": {
    "execution": {
     "iopub.execute_input": "2021-04-28T21:19:42.777392Z",
     "iopub.status.busy": "2021-04-28T21:19:42.776060Z",
     "iopub.status.idle": "2021-04-28T21:19:42.779138Z",
     "shell.execute_reply": "2021-04-28T21:19:42.778677Z"
    },
    "slideshow": {
     "slide_type": "slide"
    }
   },
   "outputs": [
    {
     "name": "stdout",
     "output_type": "stream",
     "text": [
      "hola\n"
     ]
    }
   ],
   "source": [
    "nodo3 = nodo.dato\n",
    "print(nodo3)"
   ]
  },
  {
   "cell_type": "markdown",
   "id": "775bab44",
   "metadata": {
    "slideshow": {
     "slide_type": "slide"
    }
   },
   "source": [
    "### Ejemplo: Lista Enlazada"
   ]
  },
  {
   "cell_type": "code",
   "execution_count": 98,
   "id": "acfb3908",
   "metadata": {
    "execution": {
     "iopub.execute_input": "2021-04-28T21:19:42.789919Z",
     "iopub.status.busy": "2021-04-28T21:19:42.788550Z",
     "iopub.status.idle": "2021-04-28T21:19:42.790575Z",
     "shell.execute_reply": "2021-04-28T21:19:42.791046Z"
    },
    "slideshow": {
     "slide_type": "slide"
    }
   },
   "outputs": [],
   "source": [
    "class ListaEnlazada(object):\n",
    "    def __init__(self):\n",
    "        self._primero = None\n",
    "        self._ultimo = None\n",
    "        self._largo = 0\n",
    "\n",
    "    def __len__(self):\n",
    "        return self._largo\n",
    "\n",
    "    def insertar_al_principio(self, dato):\n",
    "        nodo = Nodo(dato, self._primero)\n",
    "        self._primero = nodo\n",
    "        self._largo += 1\n",
    "        if self._largo == 1:\n",
    "            self._ultimo = nodo\n",
    "\n",
    "    def insertar_al_final(self, dato):\n",
    "        if self._largo != 0:\n",
    "            nodo = Nodo(dato)\n",
    "            nodo_anterior = self._ultimo\n",
    "            nodo_anterior._siguiente = nodo\n",
    "            self._ultimo = nodo\n",
    "            self._largo += 1\n",
    "        else:\n",
    "            self.insertar_al_principio(dato)\n",
    "\n",
    "    @property\n",
    "    def primero(self):\n",
    "        return self._primero.dato\n",
    "\n",
    "    def borrar_primero(self):\n",
    "        dato = self.primero.dato\n",
    "        self._primero = self.primero.siguiente\n",
    "        self._largo -= 1\n",
    "        if self._largo == 0:\n",
    "            self._ultimo = None\n",
    "        return dato\n",
    "\n",
    "    def __str__(self):\n",
    "        datos = []\n",
    "        nodo_actual = self._primero\n",
    "        while nodo_actual:\n",
    "            datos.append(nodo_actual.dato)\n",
    "            nodo_actual = nodo_actual.proximo\n",
    "        return \" -> \".join(datos)\n",
    "\n",
    "    def __repr__(self):\n",
    "        return self.__str__()"
   ]
  },
  {
   "cell_type": "code",
   "execution_count": 99,
   "id": "25bdecaa",
   "metadata": {
    "execution": {
     "iopub.execute_input": "2021-04-28T21:19:42.795997Z",
     "iopub.status.busy": "2021-04-28T21:19:42.795353Z",
     "iopub.status.idle": "2021-04-28T21:19:42.798234Z",
     "shell.execute_reply": "2021-04-28T21:19:42.798727Z"
    },
    "slideshow": {
     "slide_type": "slide"
    }
   },
   "outputs": [
    {
     "data": {
      "text/plain": [
       "2"
      ]
     },
     "execution_count": 1,
     "metadata": {},
     "output_type": "execute_result"
    }
   ],
   "source": [
    "lista = ListaEnlazada()\n",
    "lista.insertar_al_principio(\"Primer Dato\")\n",
    "lista.insertar_al_principio(\"Primer primer Dato\")\n",
    "len(lista)"
   ]
  },
  {
   "cell_type": "code",
   "execution_count": 100,
   "id": "56b95222",
   "metadata": {
    "execution": {
     "iopub.execute_input": "2021-04-28T21:19:42.803861Z",
     "iopub.status.busy": "2021-04-28T21:19:42.802820Z",
     "iopub.status.idle": "2021-04-28T21:19:42.805974Z",
     "shell.execute_reply": "2021-04-28T21:19:42.806420Z"
    }
   },
   "outputs": [
    {
     "data": {
      "text/plain": [
       "Primer primer Dato -> Primer Dato"
      ]
     },
     "execution_count": 1,
     "metadata": {},
     "output_type": "execute_result"
    }
   ],
   "source": [
    "lista"
   ]
  },
  {
   "cell_type": "code",
   "execution_count": 101,
   "id": "ad3bd98c",
   "metadata": {
    "execution": {
     "iopub.execute_input": "2021-04-28T21:19:42.811410Z",
     "iopub.status.busy": "2021-04-28T21:19:42.810077Z",
     "iopub.status.idle": "2021-04-28T21:19:42.813325Z",
     "shell.execute_reply": "2021-04-28T21:19:42.812833Z"
    },
    "slideshow": {
     "slide_type": "slide"
    }
   },
   "outputs": [
    {
     "name": "stdout",
     "output_type": "stream",
     "text": [
      "Primer primer Dato\n"
     ]
    }
   ],
   "source": [
    "elemento = lista.primero\n",
    "print(elemento)"
   ]
  },
  {
   "cell_type": "markdown",
   "id": "f2cd457a",
   "metadata": {},
   "source": [
    "## Recursos\n",
    "\n",
    "* [Taller de Python de Algoritmos II](https://github.com/algoritmos-rw/algo2_apuntes)\n",
    "\n",
    "* [Documentación de Python 3](https://docs.python.org/3/tutorial/)\n",
    "\n",
    "* [Apunte de Algoritmos y Programación I](https://algoritmos1rw.ddns.net/material)\n",
    "\n",
    "* [Automate the Boring Stuff with Python](http://automatetheboringstuff.com/)\n",
    "\n",
    "* [Curso Python](https://pythoncurso.github.io)\n",
    "\n",
    "* [Python Tutor](http://pythontutor.com/)\n",
    "\n",
    "* [Learn Python3 in Y minutes](https://learnxinyminutes.com/docs/python3/)\n",
    "\n",
    "* [Bibliografía de Algoritmos y Programación I](https://algoritmos1rw.ddns.net/bibliografia)"
   ]
  }
 ],
 "metadata": {
  "jupytext": {
   "encoding": "# -*- coding: utf-8 -*-",
   "formats": "ipynb,py:light"
  },
  "kernelspec": {
   "display_name": "Python 3 (venv)",
   "language": "python",
   "name": "python3"
  },
  "language_info": {
   "codemirror_mode": {
    "name": "ipython",
    "version": 3
   },
   "file_extension": ".py",
   "mimetype": "text/x-python",
   "name": "python",
   "nbconvert_exporter": "python",
   "pygments_lexer": "ipython3",
   "version": "3.7.10"
  }
 },
 "nbformat": 4,
 "nbformat_minor": 5
}
