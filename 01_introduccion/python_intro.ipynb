{
 "cells": [
  {
   "cell_type": "markdown",
   "id": "f0582acd",
   "metadata": {},
   "source": [
    "# Python"
   ]
  },
  {
   "cell_type": "markdown",
   "id": "95b22e6c",
   "metadata": {
    "slideshow": {
     "slide_type": "slide"
    }
   },
   "source": [
    "## Un poco de Historia"
   ]
  },
  {
   "cell_type": "markdown",
   "id": "4dd42980",
   "metadata": {
    "slideshow": {
     "slide_type": "subslide"
    }
   },
   "source": [
    "Python fue creado a finales de los años 80 por un programador holandés llamado **Guido van Rossum**,\n",
    "quien sigue siendo aún hoy el líder del desarrollo del lenguaje.\n",
    "\n",
    "(Edit julio 2018: [ya no más](https://www.mail-archive.com/python-committers@python.org/msg05628.html))"
   ]
  },
  {
   "cell_type": "markdown",
   "id": "a545fdb4",
   "metadata": {
    "slideshow": {
     "slide_type": "subslide"
    }
   },
   "source": [
    "El nombre del lenguaje proviene de los humoristas británicos Monty Python.\n",
    "\n",
    ">*\"I chose Python as a working title for the project, being in a slightly irreverent mood (and a big fan of Monty Python's Flying Circus).\"*"
   ]
  },
  {
   "cell_type": "markdown",
   "id": "face6591",
   "metadata": {
    "slideshow": {
     "slide_type": "slide"
    }
   },
   "source": [
    "## Caracteristicas\n",
    "\n",
    "- Interpretado\n",
    "- Tipado dinamico\n",
    "- Multiparadigma\n",
    "- Alto nivel\n",
    "- Tiene un recolector de basura (no hay malloc, free, realloc, etc)"
   ]
  },
  {
   "cell_type": "markdown",
   "id": "23c97185",
   "metadata": {},
   "source": [
    "## ¿Cómo empezar?\n",
    "\n",
    "* Al ser un lenguaje *interpretado*, se puede ir escribiendo a medida que se ejecuta, sin necesidad de compilar de antemano! Solamente hace falta escribir `python` o `python3` en una terminal para empezar\n",
    "\n",
    "* También, permite escribir archivos y correrlos. Crear un archivo con extensión `.py` y luego correr `python miarchivo.py` en laterminal"
   ]
  },
  {
   "cell_type": "markdown",
   "id": "ce3e1b64",
   "metadata": {
    "slideshow": {
     "slide_type": "slide"
    }
   },
   "source": [
    "## El Zen de Python"
   ]
  },
  {
   "cell_type": "code",
   "execution_count": 1,
   "id": "e8762a98",
   "metadata": {
    "execution": {
     "iopub.execute_input": "2021-04-15T21:42:32.797242Z",
     "iopub.status.busy": "2021-04-15T21:42:32.796709Z",
     "iopub.status.idle": "2021-04-15T21:42:32.840895Z",
     "shell.execute_reply": "2021-04-15T21:42:32.841604Z"
    },
    "slideshow": {
     "slide_type": "slide"
    }
   },
   "outputs": [
    {
     "name": "stdout",
     "output_type": "stream",
     "text": [
      "The Zen of Python, by Tim Peters\n",
      "\n",
      "Beautiful is better than ugly.\n",
      "Explicit is better than implicit.\n",
      "Simple is better than complex.\n",
      "Complex is better than complicated.\n",
      "Flat is better than nested.\n",
      "Sparse is better than dense.\n",
      "Readability counts.\n",
      "Special cases aren't special enough to break the rules.\n",
      "Although practicality beats purity.\n",
      "Errors should never pass silently.\n",
      "Unless explicitly silenced.\n",
      "In the face of ambiguity, refuse the temptation to guess.\n",
      "There should be one-- and preferably only one --obvious way to do it.\n",
      "Although that way may not be obvious at first unless you're Dutch.\n",
      "Now is better than never.\n",
      "Although never is often better than *right* now.\n",
      "If the implementation is hard to explain, it's a bad idea.\n",
      "If the implementation is easy to explain, it may be a good idea.\n",
      "Namespaces are one honking great idea -- let's do more of those!\n"
     ]
    }
   ],
   "source": [
    "import this"
   ]
  },
  {
   "cell_type": "markdown",
   "id": "33816def",
   "metadata": {
    "slideshow": {
     "slide_type": "slide"
    }
   },
   "source": [
    "## Conocimientos Básicos de Python: Variables y Tipos"
   ]
  },
  {
   "cell_type": "code",
   "execution_count": 2,
   "id": "ef8b3c68",
   "metadata": {
    "execution": {
     "iopub.execute_input": "2021-04-15T21:42:32.847523Z",
     "iopub.status.busy": "2021-04-15T21:42:32.846264Z",
     "iopub.status.idle": "2021-04-15T21:42:32.849380Z",
     "shell.execute_reply": "2021-04-15T21:42:32.848882Z"
    },
    "slideshow": {
     "slide_type": "slide"
    }
   },
   "outputs": [
    {
     "name": "stdout",
     "output_type": "stream",
     "text": [
      "Hello World!\n"
     ]
    }
   ],
   "source": [
    "# Este es un comentario\n",
    "\n",
    "print(\"Hello World!\")"
   ]
  },
  {
   "cell_type": "markdown",
   "id": "32ba51e4",
   "metadata": {},
   "source": [
    "Los strings en python puden escribirse tanto con comillas simples (`'`) como comillas dobles (`\"`). Normalmente vemos texto entre comillas triples para escribir _docstrings_, segun la guia de estilo de Python, el PEP8."
   ]
  },
  {
   "cell_type": "code",
   "execution_count": 3,
   "id": "a0373e07",
   "metadata": {
    "execution": {
     "iopub.execute_input": "2021-04-15T21:42:32.860154Z",
     "iopub.status.busy": "2021-04-15T21:42:32.856964Z",
     "iopub.status.idle": "2021-04-15T21:42:32.862348Z",
     "shell.execute_reply": "2021-04-15T21:42:32.862823Z"
    }
   },
   "outputs": [
    {
     "data": {
      "text/plain": [
       "'Esto es un docstring.\\n'"
      ]
     },
     "execution_count": 1,
     "metadata": {},
     "output_type": "execute_result"
    }
   ],
   "source": [
    "\"\"\"Esto es un docstring.\n",
    "\"\"\""
   ]
  },
  {
   "cell_type": "markdown",
   "id": "4110a799",
   "metadata": {},
   "source": [
    "### Declaracion de variables"
   ]
  },
  {
   "cell_type": "code",
   "execution_count": 4,
   "id": "2601064c",
   "metadata": {
    "execution": {
     "iopub.execute_input": "2021-04-15T21:42:32.867924Z",
     "iopub.status.busy": "2021-04-15T21:42:32.866639Z",
     "iopub.status.idle": "2021-04-15T21:42:32.869716Z",
     "shell.execute_reply": "2021-04-15T21:42:32.869229Z"
    }
   },
   "outputs": [
    {
     "name": "stdout",
     "output_type": "stream",
     "text": [
      "Hola\n"
     ]
    }
   ],
   "source": [
    "string = 'Hola'\n",
    "print(string)"
   ]
  },
  {
   "cell_type": "code",
   "execution_count": 5,
   "id": "269a4a5f",
   "metadata": {
    "execution": {
     "iopub.execute_input": "2021-04-15T21:42:32.874654Z",
     "iopub.status.busy": "2021-04-15T21:42:32.873428Z",
     "iopub.status.idle": "2021-04-15T21:42:32.876419Z",
     "shell.execute_reply": "2021-04-15T21:42:32.875936Z"
    }
   },
   "outputs": [
    {
     "name": "stdout",
     "output_type": "stream",
     "text": [
      "1\n"
     ]
    }
   ],
   "source": [
    "entero = 1\n",
    "print(entero)"
   ]
  },
  {
   "cell_type": "code",
   "execution_count": 6,
   "id": "09ca77ca",
   "metadata": {
    "execution": {
     "iopub.execute_input": "2021-04-15T21:42:32.880607Z",
     "iopub.status.busy": "2021-04-15T21:42:32.880053Z",
     "iopub.status.idle": "2021-04-15T21:42:32.881898Z",
     "shell.execute_reply": "2021-04-15T21:42:32.882340Z"
    }
   },
   "outputs": [
    {
     "name": "stdout",
     "output_type": "stream",
     "text": [
      "1.0\n"
     ]
    }
   ],
   "source": [
    "flotante = 1.0\n",
    "print(flotante)"
   ]
  },
  {
   "cell_type": "code",
   "execution_count": 7,
   "id": "6e3f5f24",
   "metadata": {
    "execution": {
     "iopub.execute_input": "2021-04-15T21:42:32.888871Z",
     "iopub.status.busy": "2021-04-15T21:42:32.888313Z",
     "iopub.status.idle": "2021-04-15T21:42:32.890602Z",
     "shell.execute_reply": "2021-04-15T21:42:32.891064Z"
    }
   },
   "outputs": [
    {
     "name": "stdout",
     "output_type": "stream",
     "text": [
      "(1, 1.0)\n"
     ]
    }
   ],
   "source": [
    "tupla = (entero, flotante)\n",
    "print(tupla)"
   ]
  },
  {
   "cell_type": "code",
   "execution_count": 8,
   "id": "20e6dea8",
   "metadata": {
    "execution": {
     "iopub.execute_input": "2021-04-15T21:42:32.896306Z",
     "iopub.status.busy": "2021-04-15T21:42:32.895479Z",
     "iopub.status.idle": "2021-04-15T21:42:32.897634Z",
     "shell.execute_reply": "2021-04-15T21:42:32.898080Z"
    }
   },
   "outputs": [
    {
     "name": "stdout",
     "output_type": "stream",
     "text": [
      "(1, 1.0, 'Hola')\n"
     ]
    }
   ],
   "source": [
    "nupla = (entero, flotante, string)\n",
    "print(nupla)"
   ]
  },
  {
   "cell_type": "code",
   "execution_count": 9,
   "id": "874ea136",
   "metadata": {
    "execution": {
     "iopub.execute_input": "2021-04-15T21:42:32.902041Z",
     "iopub.status.busy": "2021-04-15T21:42:32.901485Z",
     "iopub.status.idle": "2021-04-15T21:42:32.903320Z",
     "shell.execute_reply": "2021-04-15T21:42:32.903854Z"
    }
   },
   "outputs": [
    {
     "name": "stdout",
     "output_type": "stream",
     "text": [
      "[1, 1.0, 'Hola']\n"
     ]
    }
   ],
   "source": [
    "lista = [entero, flotante, string]\n",
    "print(lista)"
   ]
  },
  {
   "cell_type": "code",
   "execution_count": 10,
   "id": "f848e0ae",
   "metadata": {
    "execution": {
     "iopub.execute_input": "2021-04-15T21:42:32.907824Z",
     "iopub.status.busy": "2021-04-15T21:42:32.907277Z",
     "iopub.status.idle": "2021-04-15T21:42:32.909055Z",
     "shell.execute_reply": "2021-04-15T21:42:32.909598Z"
    }
   },
   "outputs": [
    {
     "name": "stdout",
     "output_type": "stream",
     "text": [
      "{'1': (1, 1.0), 50: (1, 1.0, 'Hola'), '3': 1}\n"
     ]
    }
   ],
   "source": [
    "diccionario = {'1': tupla, 50: nupla, '3': entero}\n",
    "print(diccionario)"
   ]
  },
  {
   "cell_type": "code",
   "execution_count": 11,
   "id": "18d1e06f",
   "metadata": {
    "execution": {
     "iopub.execute_input": "2021-04-15T21:42:32.913934Z",
     "iopub.status.busy": "2021-04-15T21:42:32.913382Z",
     "iopub.status.idle": "2021-04-15T21:42:32.915238Z",
     "shell.execute_reply": "2021-04-15T21:42:32.915687Z"
    }
   },
   "outputs": [
    {
     "name": "stdout",
     "output_type": "stream",
     "text": [
      "{1, 2}\n"
     ]
    }
   ],
   "source": [
    "conjunto = set([1, 2])\n",
    "print(conjunto)"
   ]
  },
  {
   "cell_type": "code",
   "execution_count": 12,
   "id": "24f8c366",
   "metadata": {
    "execution": {
     "iopub.execute_input": "2021-04-15T21:42:32.919279Z",
     "iopub.status.busy": "2021-04-15T21:42:32.918732Z",
     "iopub.status.idle": "2021-04-15T21:42:32.920544Z",
     "shell.execute_reply": "2021-04-15T21:42:32.921077Z"
    }
   },
   "outputs": [
    {
     "name": "stdout",
     "output_type": "stream",
     "text": [
      "True\n"
     ]
    }
   ],
   "source": [
    "booleano = True\n",
    "print(booleano)"
   ]
  },
  {
   "cell_type": "code",
   "execution_count": 13,
   "id": "5d889885",
   "metadata": {
    "execution": {
     "iopub.execute_input": "2021-04-15T21:42:32.926168Z",
     "iopub.status.busy": "2021-04-15T21:42:32.925200Z",
     "iopub.status.idle": "2021-04-15T21:42:32.928302Z",
     "shell.execute_reply": "2021-04-15T21:42:32.927819Z"
    }
   },
   "outputs": [
    {
     "name": "stdout",
     "output_type": "stream",
     "text": [
      "None\n"
     ]
    }
   ],
   "source": [
    "nada = None\n",
    "print(nada)"
   ]
  },
  {
   "cell_type": "markdown",
   "id": "bf1ed1df",
   "metadata": {},
   "source": [
    "Ojo que las variables pueden cambiar de tipo!"
   ]
  },
  {
   "cell_type": "code",
   "execution_count": 14,
   "id": "148a9f13",
   "metadata": {
    "execution": {
     "iopub.execute_input": "2021-04-15T21:42:32.932193Z",
     "iopub.status.busy": "2021-04-15T21:42:32.931642Z",
     "iopub.status.idle": "2021-04-15T21:42:32.934032Z",
     "shell.execute_reply": "2021-04-15T21:42:32.933466Z"
    }
   },
   "outputs": [
    {
     "name": "stdout",
     "output_type": "stream",
     "text": [
      "1\n",
      "<class 'int'>\n"
     ]
    }
   ],
   "source": [
    "elemento = 1\n",
    "print(elemento)\n",
    "print(type(elemento))"
   ]
  },
  {
   "cell_type": "code",
   "execution_count": 15,
   "id": "1bbf5117",
   "metadata": {
    "execution": {
     "iopub.execute_input": "2021-04-15T21:42:32.937927Z",
     "iopub.status.busy": "2021-04-15T21:42:32.937378Z",
     "iopub.status.idle": "2021-04-15T21:42:32.939829Z",
     "shell.execute_reply": "2021-04-15T21:42:32.939367Z"
    }
   },
   "outputs": [
    {
     "name": "stdout",
     "output_type": "stream",
     "text": [
      "1\n",
      "<class 'str'>\n"
     ]
    }
   ],
   "source": [
    "elemento = str(1)\n",
    "print(elemento)\n",
    "print(type(elemento))"
   ]
  },
  {
   "cell_type": "code",
   "execution_count": 16,
   "id": "17f626a3",
   "metadata": {
    "execution": {
     "iopub.execute_input": "2021-04-15T21:42:32.943884Z",
     "iopub.status.busy": "2021-04-15T21:42:32.943339Z",
     "iopub.status.idle": "2021-04-15T21:42:32.945817Z",
     "shell.execute_reply": "2021-04-15T21:42:32.945245Z"
    }
   },
   "outputs": [
    {
     "name": "stdout",
     "output_type": "stream",
     "text": [
      "[2]\n",
      "<class 'list'>\n"
     ]
    }
   ],
   "source": [
    "elemento = [2]\n",
    "\n",
    "print(elemento)\n",
    "print(type(elemento))"
   ]
  },
  {
   "cell_type": "markdown",
   "id": "0cf46eec",
   "metadata": {},
   "source": [
    "### Tipos basicos"
   ]
  },
  {
   "cell_type": "markdown",
   "id": "af3ecd23",
   "metadata": {
    "slideshow": {
     "slide_type": "slide"
    }
   },
   "source": [
    "#### Listas de Python"
   ]
  },
  {
   "cell_type": "code",
   "execution_count": 17,
   "id": "6a4a9c07",
   "metadata": {
    "execution": {
     "iopub.execute_input": "2021-04-15T21:42:32.949540Z",
     "iopub.status.busy": "2021-04-15T21:42:32.948979Z",
     "iopub.status.idle": "2021-04-15T21:42:32.951889Z",
     "shell.execute_reply": "2021-04-15T21:42:32.951397Z"
    }
   },
   "outputs": [
    {
     "data": {
      "text/plain": [
       "[]"
      ]
     },
     "execution_count": 1,
     "metadata": {},
     "output_type": "execute_result"
    }
   ],
   "source": [
    "lista = list()\n",
    "lista"
   ]
  },
  {
   "cell_type": "code",
   "execution_count": 18,
   "id": "06c724a4",
   "metadata": {
    "execution": {
     "iopub.execute_input": "2021-04-15T21:42:32.955617Z",
     "iopub.status.busy": "2021-04-15T21:42:32.955047Z",
     "iopub.status.idle": "2021-04-15T21:42:32.957764Z",
     "shell.execute_reply": "2021-04-15T21:42:32.957200Z"
    },
    "slideshow": {
     "slide_type": "slide"
    }
   },
   "outputs": [
    {
     "data": {
      "text/plain": [
       "[]"
      ]
     },
     "execution_count": 1,
     "metadata": {},
     "output_type": "execute_result"
    }
   ],
   "source": [
    "lista = []\n",
    "lista"
   ]
  },
  {
   "cell_type": "code",
   "execution_count": 19,
   "id": "86c1c5b3",
   "metadata": {
    "execution": {
     "iopub.execute_input": "2021-04-15T21:42:32.961527Z",
     "iopub.status.busy": "2021-04-15T21:42:32.960975Z",
     "iopub.status.idle": "2021-04-15T21:42:32.963876Z",
     "shell.execute_reply": "2021-04-15T21:42:32.963393Z"
    },
    "slideshow": {
     "slide_type": "slide"
    }
   },
   "outputs": [
    {
     "data": {
      "text/plain": [
       "[1, 2, 3, 4]"
      ]
     },
     "execution_count": 1,
     "metadata": {},
     "output_type": "execute_result"
    }
   ],
   "source": [
    "lista = [1, 2, 3, 4]\n",
    "lista"
   ]
  },
  {
   "cell_type": "code",
   "execution_count": 20,
   "id": "92de49f9",
   "metadata": {
    "execution": {
     "iopub.execute_input": "2021-04-15T21:42:32.968217Z",
     "iopub.status.busy": "2021-04-15T21:42:32.967480Z",
     "iopub.status.idle": "2021-04-15T21:42:32.969695Z",
     "shell.execute_reply": "2021-04-15T21:42:32.970453Z"
    },
    "slideshow": {
     "slide_type": "slide"
    }
   },
   "outputs": [
    {
     "data": {
      "text/plain": [
       "[1, 2, 3, 4, 1, 'dos', 3.0]"
      ]
     },
     "execution_count": 1,
     "metadata": {},
     "output_type": "execute_result"
    }
   ],
   "source": [
    "lista.append(1)  # Inserto un 1 al final\n",
    "lista.append(\"dos\")  # Inserto un \"dos\" al final\n",
    "lista.append(3.0)  # Inserto un 3.0 al final\n",
    "lista"
   ]
  },
  {
   "cell_type": "code",
   "execution_count": 21,
   "id": "343bee5e",
   "metadata": {
    "execution": {
     "iopub.execute_input": "2021-04-15T21:42:32.975762Z",
     "iopub.status.busy": "2021-04-15T21:42:32.975029Z",
     "iopub.status.idle": "2021-04-15T21:42:32.977068Z",
     "shell.execute_reply": "2021-04-15T21:42:32.977543Z"
    }
   },
   "outputs": [
    {
     "name": "stdout",
     "output_type": "stream",
     "text": [
      "[1, 2, 10, 3, 4, 1, 'dos', 3.0]\n"
     ]
    }
   ],
   "source": [
    "lista.insert(2, 10)  # Inserto en posicion 2 un 10\n",
    "print(lista)"
   ]
  },
  {
   "cell_type": "code",
   "execution_count": 22,
   "id": "126ba8e9",
   "metadata": {
    "execution": {
     "iopub.execute_input": "2021-04-15T21:42:32.981189Z",
     "iopub.status.busy": "2021-04-15T21:42:32.980644Z",
     "iopub.status.idle": "2021-04-15T21:42:32.983128Z",
     "shell.execute_reply": "2021-04-15T21:42:32.983587Z"
    }
   },
   "outputs": [
    {
     "data": {
      "text/plain": [
       "8"
      ]
     },
     "execution_count": 1,
     "metadata": {},
     "output_type": "execute_result"
    }
   ],
   "source": [
    "len(lista)"
   ]
  },
  {
   "cell_type": "code",
   "execution_count": 23,
   "id": "ecfbd1a9",
   "metadata": {
    "execution": {
     "iopub.execute_input": "2021-04-15T21:42:32.987197Z",
     "iopub.status.busy": "2021-04-15T21:42:32.986638Z",
     "iopub.status.idle": "2021-04-15T21:42:32.989207Z",
     "shell.execute_reply": "2021-04-15T21:42:32.989734Z"
    }
   },
   "outputs": [
    {
     "data": {
      "text/plain": [
       "3.0"
      ]
     },
     "execution_count": 1,
     "metadata": {},
     "output_type": "execute_result"
    }
   ],
   "source": [
    "lista.pop()"
   ]
  },
  {
   "cell_type": "code",
   "execution_count": 24,
   "id": "03745d24",
   "metadata": {
    "execution": {
     "iopub.execute_input": "2021-04-15T21:42:32.993435Z",
     "iopub.status.busy": "2021-04-15T21:42:32.992888Z",
     "iopub.status.idle": "2021-04-15T21:42:32.995201Z",
     "shell.execute_reply": "2021-04-15T21:42:32.995834Z"
    }
   },
   "outputs": [
    {
     "data": {
      "text/plain": [
       "[1, 2, 10, 3, 4, 1, 'dos']"
      ]
     },
     "execution_count": 1,
     "metadata": {},
     "output_type": "execute_result"
    }
   ],
   "source": [
    "lista"
   ]
  },
  {
   "cell_type": "code",
   "execution_count": 25,
   "id": "9055ca0c",
   "metadata": {
    "execution": {
     "iopub.execute_input": "2021-04-15T21:42:32.999638Z",
     "iopub.status.busy": "2021-04-15T21:42:32.999086Z",
     "iopub.status.idle": "2021-04-15T21:42:33.001524Z",
     "shell.execute_reply": "2021-04-15T21:42:33.002008Z"
    }
   },
   "outputs": [
    {
     "data": {
      "text/plain": [
       "2"
      ]
     },
     "execution_count": 1,
     "metadata": {},
     "output_type": "execute_result"
    }
   ],
   "source": [
    "lista.index(10)"
   ]
  },
  {
   "cell_type": "code",
   "execution_count": 26,
   "id": "722dc2da",
   "metadata": {
    "execution": {
     "iopub.execute_input": "2021-04-15T21:42:33.005757Z",
     "iopub.status.busy": "2021-04-15T21:42:33.005201Z",
     "iopub.status.idle": "2021-04-15T21:42:33.007727Z",
     "shell.execute_reply": "2021-04-15T21:42:33.008186Z"
    }
   },
   "outputs": [
    {
     "data": {
      "text/plain": [
       "[1, 2, 3, 4, 1, 'dos']"
      ]
     },
     "execution_count": 1,
     "metadata": {},
     "output_type": "execute_result"
    }
   ],
   "source": [
    "lista.remove(10)\n",
    "lista"
   ]
  },
  {
   "cell_type": "code",
   "execution_count": 27,
   "id": "3e04ff2c",
   "metadata": {
    "execution": {
     "iopub.execute_input": "2021-04-15T21:42:33.011582Z",
     "iopub.status.busy": "2021-04-15T21:42:33.011030Z",
     "iopub.status.idle": "2021-04-15T21:42:33.077788Z",
     "shell.execute_reply": "2021-04-15T21:42:33.076668Z"
    },
    "tags": [
     "raises-exception"
    ]
   },
   "outputs": [
    {
     "name": "stdout",
     "output_type": "stream",
     "text": [
      "1\n",
      "2\n",
      "2\n",
      "3\n",
      "3\n",
      "4\n",
      "4\n",
      "5\n",
      "1\n",
      "2\n",
      "dos\n"
     ]
    },
    {
     "ename": "TypeError",
     "evalue": "can only concatenate str (not \"int\") to str",
     "output_type": "error",
     "traceback": [
      "\u001b[0;31m---------------------------------------------------------------------------\u001b[0m",
      "\u001b[0;31mTypeError\u001b[0m                                 Traceback (most recent call last)",
      "\u001b[0;32m<ipython-input-1-41b56d5cf080>\u001b[0m in \u001b[0;36m<module>\u001b[0;34m\u001b[0m\n\u001b[1;32m      1\u001b[0m \u001b[0;32mfor\u001b[0m \u001b[0melemento\u001b[0m \u001b[0;32min\u001b[0m \u001b[0mlista\u001b[0m\u001b[0;34m:\u001b[0m\u001b[0;34m\u001b[0m\u001b[0;34m\u001b[0m\u001b[0m\n\u001b[1;32m      2\u001b[0m     \u001b[0mprint\u001b[0m\u001b[0;34m(\u001b[0m\u001b[0melemento\u001b[0m\u001b[0;34m)\u001b[0m\u001b[0;34m\u001b[0m\u001b[0;34m\u001b[0m\u001b[0m\n\u001b[0;32m----> 3\u001b[0;31m     \u001b[0mprint\u001b[0m\u001b[0;34m(\u001b[0m\u001b[0melemento\u001b[0m \u001b[0;34m+\u001b[0m \u001b[0;36m1\u001b[0m\u001b[0;34m)\u001b[0m\u001b[0;34m\u001b[0m\u001b[0;34m\u001b[0m\u001b[0m\n\u001b[0m",
      "\u001b[0;31mTypeError\u001b[0m: can only concatenate str (not \"int\") to str"
     ]
    }
   ],
   "source": [
    "for elemento in lista:\n",
    "    print(elemento)\n",
    "    print(elemento + 1)"
   ]
  },
  {
   "cell_type": "code",
   "execution_count": 28,
   "id": "2968b2f0",
   "metadata": {
    "execution": {
     "iopub.execute_input": "2021-04-15T21:42:33.082403Z",
     "iopub.status.busy": "2021-04-15T21:42:33.081851Z",
     "iopub.status.idle": "2021-04-15T21:42:33.087426Z",
     "shell.execute_reply": "2021-04-15T21:42:33.086854Z"
    }
   },
   "outputs": [
    {
     "data": {
      "text/plain": [
       "[1, 2, 3, 4, 1, 'dos']"
      ]
     },
     "execution_count": 1,
     "metadata": {},
     "output_type": "execute_result"
    }
   ],
   "source": [
    "lista"
   ]
  },
  {
   "cell_type": "code",
   "execution_count": 29,
   "id": "7e51817f",
   "metadata": {
    "execution": {
     "iopub.execute_input": "2021-04-15T21:42:33.092103Z",
     "iopub.status.busy": "2021-04-15T21:42:33.091477Z",
     "iopub.status.idle": "2021-04-15T21:42:33.095587Z",
     "shell.execute_reply": "2021-04-15T21:42:33.096016Z"
    }
   },
   "outputs": [
    {
     "name": "stdout",
     "output_type": "stream",
     "text": [
      "0-ésimo elemento: 1\n",
      "1-ésimo elemento: 2\n",
      "2-ésimo elemento: 3\n",
      "3-ésimo elemento: 4\n",
      "4-ésimo elemento: 1\n",
      "5-ésimo elemento: dos\n"
     ]
    }
   ],
   "source": [
    "for i, elemento in enumerate(lista):\n",
    "    print(f\"{i}-ésimo elemento: {elemento}\")"
   ]
  },
  {
   "cell_type": "code",
   "execution_count": 30,
   "id": "e6ecddcb",
   "metadata": {
    "execution": {
     "iopub.execute_input": "2021-04-15T21:42:33.102992Z",
     "iopub.status.busy": "2021-04-15T21:42:33.102382Z",
     "iopub.status.idle": "2021-04-15T21:42:33.106264Z",
     "shell.execute_reply": "2021-04-15T21:42:33.105797Z"
    },
    "tags": [
     "raises-exception"
    ]
   },
   "outputs": [
    {
     "ename": "TypeError",
     "evalue": "'<' not supported between instances of 'str' and 'int'",
     "output_type": "error",
     "traceback": [
      "\u001b[0;31m---------------------------------------------------------------------------\u001b[0m",
      "\u001b[0;31mTypeError\u001b[0m                                 Traceback (most recent call last)",
      "\u001b[0;32m<ipython-input-1-06c3f264dc7a>\u001b[0m in \u001b[0;36m<module>\u001b[0;34m\u001b[0m\n\u001b[0;32m----> 1\u001b[0;31m \u001b[0msorted\u001b[0m\u001b[0;34m(\u001b[0m\u001b[0mlista\u001b[0m\u001b[0;34m)\u001b[0m\u001b[0;34m\u001b[0m\u001b[0;34m\u001b[0m\u001b[0m\n\u001b[0m",
      "\u001b[0;31mTypeError\u001b[0m: '<' not supported between instances of 'str' and 'int'"
     ]
    }
   ],
   "source": [
    "sorted(lista)"
   ]
  },
  {
   "cell_type": "code",
   "execution_count": 31,
   "id": "7b274d63",
   "metadata": {
    "execution": {
     "iopub.execute_input": "2021-04-15T21:42:33.109950Z",
     "iopub.status.busy": "2021-04-15T21:42:33.109402Z",
     "iopub.status.idle": "2021-04-15T21:42:33.112573Z",
     "shell.execute_reply": "2021-04-15T21:42:33.113006Z"
    }
   },
   "outputs": [],
   "source": [
    "lista.remove(\"dos\")"
   ]
  },
  {
   "cell_type": "code",
   "execution_count": 32,
   "id": "5005900a",
   "metadata": {
    "execution": {
     "iopub.execute_input": "2021-04-15T21:42:33.117086Z",
     "iopub.status.busy": "2021-04-15T21:42:33.116538Z",
     "iopub.status.idle": "2021-04-15T21:42:33.121142Z",
     "shell.execute_reply": "2021-04-15T21:42:33.121598Z"
    }
   },
   "outputs": [
    {
     "data": {
      "text/plain": [
       "[1, 1, 2, 3, 4]"
      ]
     },
     "execution_count": 1,
     "metadata": {},
     "output_type": "execute_result"
    }
   ],
   "source": [
    "sorted(lista)"
   ]
  },
  {
   "cell_type": "code",
   "execution_count": 33,
   "id": "e82420b1",
   "metadata": {
    "execution": {
     "iopub.execute_input": "2021-04-15T21:42:33.126196Z",
     "iopub.status.busy": "2021-04-15T21:42:33.125631Z",
     "iopub.status.idle": "2021-04-15T21:42:33.128565Z",
     "shell.execute_reply": "2021-04-15T21:42:33.129020Z"
    }
   },
   "outputs": [
    {
     "data": {
      "text/plain": [
       "[1, 1, 2, 3, 4]"
      ]
     },
     "execution_count": 1,
     "metadata": {},
     "output_type": "execute_result"
    }
   ],
   "source": [
    "lista.sort()\n",
    "lista"
   ]
  },
  {
   "cell_type": "markdown",
   "id": "5fa5a72b",
   "metadata": {
    "slideshow": {
     "slide_type": "slide"
    }
   },
   "source": [
    "#### Tuplas de Python\n",
    "\n",
    "Las tuplas son inmutables. No se pueden agregar elementos luego de creadas."
   ]
  },
  {
   "cell_type": "code",
   "execution_count": 34,
   "id": "1bfbf7e6",
   "metadata": {
    "execution": {
     "iopub.execute_input": "2021-04-15T21:42:33.136836Z",
     "iopub.status.busy": "2021-04-15T21:42:33.132797Z",
     "iopub.status.idle": "2021-04-15T21:42:33.140610Z",
     "shell.execute_reply": "2021-04-15T21:42:33.140040Z"
    },
    "slideshow": {
     "slide_type": "slide"
    },
    "tags": [
     "raises-exception"
    ]
   },
   "outputs": [
    {
     "name": "stdout",
     "output_type": "stream",
     "text": [
      "(1, 2)\n",
      "1\n",
      "2\n"
     ]
    },
    {
     "ename": "TypeError",
     "evalue": "'tuple' object does not support item assignment",
     "output_type": "error",
     "traceback": [
      "\u001b[0;31m---------------------------------------------------------------------------\u001b[0m",
      "\u001b[0;31mTypeError\u001b[0m                                 Traceback (most recent call last)",
      "\u001b[0;32m<ipython-input-1-80ca8b547dd6>\u001b[0m in \u001b[0;36m<module>\u001b[0;34m\u001b[0m\n\u001b[1;32m      5\u001b[0m \u001b[0mprint\u001b[0m\u001b[0;34m(\u001b[0m\u001b[0mtupla\u001b[0m\u001b[0;34m[\u001b[0m\u001b[0;36m1\u001b[0m\u001b[0;34m]\u001b[0m\u001b[0;34m)\u001b[0m\u001b[0;34m\u001b[0m\u001b[0;34m\u001b[0m\u001b[0m\n\u001b[1;32m      6\u001b[0m \u001b[0;34m\u001b[0m\u001b[0m\n\u001b[0;32m----> 7\u001b[0;31m \u001b[0mtupla\u001b[0m\u001b[0;34m[\u001b[0m\u001b[0;36m1\u001b[0m\u001b[0;34m]\u001b[0m \u001b[0;34m=\u001b[0m \u001b[0;36m3\u001b[0m  \u001b[0;31m# Falla. No se puede mutar\u001b[0m\u001b[0;34m\u001b[0m\u001b[0;34m\u001b[0m\u001b[0m\n\u001b[0m",
      "\u001b[0;31mTypeError\u001b[0m: 'tuple' object does not support item assignment"
     ]
    }
   ],
   "source": [
    "tupla = (1, 2)\n",
    "\n",
    "print(tupla)\n",
    "print(tupla[0])\n",
    "print(tupla[1])\n",
    "\n",
    "tupla[1] = 3  # Falla. No se puede mutar"
   ]
  },
  {
   "cell_type": "code",
   "execution_count": 35,
   "id": "1f9b9388",
   "metadata": {
    "execution": {
     "iopub.execute_input": "2021-04-15T21:42:33.145691Z",
     "iopub.status.busy": "2021-04-15T21:42:33.144614Z",
     "iopub.status.idle": "2021-04-15T21:42:33.147954Z",
     "shell.execute_reply": "2021-04-15T21:42:33.148415Z"
    }
   },
   "outputs": [
    {
     "data": {
      "text/plain": [
       "[1, 2]"
      ]
     },
     "execution_count": 1,
     "metadata": {},
     "output_type": "execute_result"
    }
   ],
   "source": [
    "l = [1, 2]\n",
    "l"
   ]
  },
  {
   "cell_type": "code",
   "execution_count": 36,
   "id": "e98c071b",
   "metadata": {
    "execution": {
     "iopub.execute_input": "2021-04-15T21:42:33.153111Z",
     "iopub.status.busy": "2021-04-15T21:42:33.152308Z",
     "iopub.status.idle": "2021-04-15T21:42:33.156207Z",
     "shell.execute_reply": "2021-04-15T21:42:33.157016Z"
    }
   },
   "outputs": [
    {
     "data": {
      "text/plain": [
       "[1, 3]"
      ]
     },
     "execution_count": 1,
     "metadata": {},
     "output_type": "execute_result"
    }
   ],
   "source": [
    "l[1] = 3\n",
    "l"
   ]
  },
  {
   "cell_type": "markdown",
   "id": "4bd99af3",
   "metadata": {
    "slideshow": {
     "slide_type": "slide"
    }
   },
   "source": [
    "#### Diferencia entre lista y tupla\n",
    "Las listas se caracterizan por ser mutables, es decir, se puede cambiar su contenido en tiempo de ejecución, mientras que las tuplas son inmutables ya que no es posible modificar el contenido una vez creada."
   ]
  },
  {
   "cell_type": "markdown",
   "id": "91788236",
   "metadata": {},
   "source": [
    "#### Slices\n",
    "\n",
    "**Valen para listas, tuplas o strings (_segmentos_)**"
   ]
  },
  {
   "cell_type": "code",
   "execution_count": 37,
   "id": "2739cc84",
   "metadata": {
    "execution": {
     "iopub.execute_input": "2021-04-15T21:42:33.162928Z",
     "iopub.status.busy": "2021-04-15T21:42:33.161649Z",
     "iopub.status.idle": "2021-04-15T21:42:33.163563Z",
     "shell.execute_reply": "2021-04-15T21:42:33.164011Z"
    }
   },
   "outputs": [],
   "source": [
    "numeros = [0, 1, 2, 3, 4, 5, 6, 7, 8, 9, 10]"
   ]
  },
  {
   "cell_type": "code",
   "execution_count": 38,
   "id": "849a9af7",
   "metadata": {
    "execution": {
     "iopub.execute_input": "2021-04-15T21:42:33.168736Z",
     "iopub.status.busy": "2021-04-15T21:42:33.167566Z",
     "iopub.status.idle": "2021-04-15T21:42:33.170590Z",
     "shell.execute_reply": "2021-04-15T21:42:33.170075Z"
    }
   },
   "outputs": [
    {
     "name": "stdout",
     "output_type": "stream",
     "text": [
      "[0, 1, 2, 3, 4, 5, 6, 7, 8, 9, 10]\n"
     ]
    }
   ],
   "source": [
    "print(numeros)"
   ]
  },
  {
   "cell_type": "code",
   "execution_count": 39,
   "id": "afe3477b",
   "metadata": {
    "execution": {
     "iopub.execute_input": "2021-04-15T21:42:33.175519Z",
     "iopub.status.busy": "2021-04-15T21:42:33.174249Z",
     "iopub.status.idle": "2021-04-15T21:42:33.177336Z",
     "shell.execute_reply": "2021-04-15T21:42:33.176850Z"
    }
   },
   "outputs": [
    {
     "name": "stdout",
     "output_type": "stream",
     "text": [
      "2\n"
     ]
    }
   ],
   "source": [
    "print(numeros[2])  # Imprimo elemento en la posición 2"
   ]
  },
  {
   "cell_type": "code",
   "execution_count": 40,
   "id": "6f84eff2",
   "metadata": {
    "execution": {
     "iopub.execute_input": "2021-04-15T21:42:33.182562Z",
     "iopub.status.busy": "2021-04-15T21:42:33.181565Z",
     "iopub.status.idle": "2021-04-15T21:42:33.184357Z",
     "shell.execute_reply": "2021-04-15T21:42:33.184808Z"
    }
   },
   "outputs": [
    {
     "data": {
      "text/plain": [
       "10"
      ]
     },
     "execution_count": 1,
     "metadata": {},
     "output_type": "execute_result"
    }
   ],
   "source": [
    "numeros[len(numeros) - 1]"
   ]
  },
  {
   "cell_type": "code",
   "execution_count": 41,
   "id": "76717d18",
   "metadata": {
    "execution": {
     "iopub.execute_input": "2021-04-15T21:42:33.188870Z",
     "iopub.status.busy": "2021-04-15T21:42:33.188309Z",
     "iopub.status.idle": "2021-04-15T21:42:33.190227Z",
     "shell.execute_reply": "2021-04-15T21:42:33.190794Z"
    },
    "lines_to_next_cell": 2
   },
   "outputs": [
    {
     "name": "stdout",
     "output_type": "stream",
     "text": [
      "10\n"
     ]
    }
   ],
   "source": [
    "print(numeros[-1])  # # Imprimo elemento en la última posición"
   ]
  },
  {
   "cell_type": "code",
   "execution_count": 42,
   "id": "2602e6ec",
   "metadata": {
    "execution": {
     "iopub.execute_input": "2021-04-15T21:42:33.194711Z",
     "iopub.status.busy": "2021-04-15T21:42:33.194132Z",
     "iopub.status.idle": "2021-04-15T21:42:33.196837Z",
     "shell.execute_reply": "2021-04-15T21:42:33.197328Z"
    },
    "lines_to_next_cell": 2
   },
   "outputs": [
    {
     "data": {
      "text/plain": [
       "9"
      ]
     },
     "execution_count": 1,
     "metadata": {},
     "output_type": "execute_result"
    }
   ],
   "source": [
    "numeros[-2]"
   ]
  },
  {
   "cell_type": "code",
   "execution_count": 43,
   "id": "49704a4a",
   "metadata": {
    "execution": {
     "iopub.execute_input": "2021-04-15T21:42:33.203337Z",
     "iopub.status.busy": "2021-04-15T21:42:33.202776Z",
     "iopub.status.idle": "2021-04-15T21:42:33.204616Z",
     "shell.execute_reply": "2021-04-15T21:42:33.205136Z"
    }
   },
   "outputs": [
    {
     "name": "stdout",
     "output_type": "stream",
     "text": [
      "[0, 1, 2]\n"
     ]
    }
   ],
   "source": [
    "print(numeros[0:3])  # Imprimo de la pos 0 a la pos 2"
   ]
  },
  {
   "cell_type": "code",
   "execution_count": 44,
   "id": "d905f64d",
   "metadata": {
    "execution": {
     "iopub.execute_input": "2021-04-15T21:42:33.209244Z",
     "iopub.status.busy": "2021-04-15T21:42:33.208682Z",
     "iopub.status.idle": "2021-04-15T21:42:33.210556Z",
     "shell.execute_reply": "2021-04-15T21:42:33.211018Z"
    }
   },
   "outputs": [
    {
     "name": "stdout",
     "output_type": "stream",
     "text": [
      "[7, 8]\n"
     ]
    }
   ],
   "source": [
    "print(numeros[-4:-2])"
   ]
  },
  {
   "cell_type": "code",
   "execution_count": 45,
   "id": "f7a088bd",
   "metadata": {
    "execution": {
     "iopub.execute_input": "2021-04-15T21:42:33.214758Z",
     "iopub.status.busy": "2021-04-15T21:42:33.214176Z",
     "iopub.status.idle": "2021-04-15T21:42:33.217040Z",
     "shell.execute_reply": "2021-04-15T21:42:33.216466Z"
    }
   },
   "outputs": [
    {
     "name": "stdout",
     "output_type": "stream",
     "text": [
      "[0, 1, 2, 3, 4, 5, 6, 7, 8, 9, 10]\n"
     ]
    }
   ],
   "source": [
    "print(numeros[0:80])"
   ]
  },
  {
   "cell_type": "code",
   "execution_count": 46,
   "id": "bc975425",
   "metadata": {
    "execution": {
     "iopub.execute_input": "2021-04-15T21:42:33.225347Z",
     "iopub.status.busy": "2021-04-15T21:42:33.224094Z",
     "iopub.status.idle": "2021-04-15T21:42:33.227204Z",
     "shell.execute_reply": "2021-04-15T21:42:33.226710Z"
    }
   },
   "outputs": [
    {
     "name": "stdout",
     "output_type": "stream",
     "text": [
      "[0, 1, 2]\n"
     ]
    }
   ],
   "source": [
    "print(numeros[:3])"
   ]
  },
  {
   "cell_type": "code",
   "execution_count": 47,
   "id": "4c72b48f",
   "metadata": {
    "execution": {
     "iopub.execute_input": "2021-04-15T21:42:33.232123Z",
     "iopub.status.busy": "2021-04-15T21:42:33.230862Z",
     "iopub.status.idle": "2021-04-15T21:42:33.233951Z",
     "shell.execute_reply": "2021-04-15T21:42:33.233464Z"
    }
   },
   "outputs": [
    {
     "name": "stdout",
     "output_type": "stream",
     "text": [
      "[3, 4, 5, 6, 7, 8, 9, 10]\n"
     ]
    }
   ],
   "source": [
    "print(numeros[3:])"
   ]
  },
  {
   "cell_type": "code",
   "execution_count": 48,
   "id": "59eba9f7",
   "metadata": {
    "execution": {
     "iopub.execute_input": "2021-04-15T21:42:33.238978Z",
     "iopub.status.busy": "2021-04-15T21:42:33.237733Z",
     "iopub.status.idle": "2021-04-15T21:42:33.240788Z",
     "shell.execute_reply": "2021-04-15T21:42:33.240300Z"
    }
   },
   "outputs": [
    {
     "name": "stdout",
     "output_type": "stream",
     "text": [
      "[0, 2, 4, 6, 8]\n"
     ]
    }
   ],
   "source": [
    "print(numeros[0:10:2])"
   ]
  },
  {
   "cell_type": "markdown",
   "id": "392a11a8",
   "metadata": {},
   "source": [
    "```python\n",
    "lista[<inicio>:<final>:<step>]\n",
    "```"
   ]
  },
  {
   "cell_type": "code",
   "execution_count": 49,
   "id": "bbcb7f05",
   "metadata": {
    "execution": {
     "iopub.execute_input": "2021-04-15T21:42:33.245598Z",
     "iopub.status.busy": "2021-04-15T21:42:33.245025Z",
     "iopub.status.idle": "2021-04-15T21:42:33.250189Z",
     "shell.execute_reply": "2021-04-15T21:42:33.249695Z"
    },
    "lines_to_next_cell": 2
   },
   "outputs": [
    {
     "data": {
      "text/plain": [
       "[1, 2, 3, 4]"
      ]
     },
     "execution_count": 1,
     "metadata": {},
     "output_type": "execute_result"
    }
   ],
   "source": [
    "l1 = [1, 2]\n",
    "l2 = [3, 4]\n",
    "l1 + l2"
   ]
  },
  {
   "cell_type": "code",
   "execution_count": 50,
   "id": "8679f882",
   "metadata": {
    "execution": {
     "iopub.execute_input": "2021-04-15T21:42:33.255112Z",
     "iopub.status.busy": "2021-04-15T21:42:33.253824Z",
     "iopub.status.idle": "2021-04-15T21:42:33.256917Z",
     "shell.execute_reply": "2021-04-15T21:42:33.256438Z"
    }
   },
   "outputs": [
    {
     "name": "stdout",
     "output_type": "stream",
     "text": [
      "[0, 1, 2, 3, 4, 5, 6, 'siete', 8, 9, 10]\n"
     ]
    }
   ],
   "source": [
    "numeros[7] = 'siete'  # Las listas se pueden mutar\n",
    "print(numeros)"
   ]
  },
  {
   "cell_type": "code",
   "execution_count": 51,
   "id": "34b5943a",
   "metadata": {
    "execution": {
     "iopub.execute_input": "2021-04-15T21:42:33.261788Z",
     "iopub.status.busy": "2021-04-15T21:42:33.260621Z",
     "iopub.status.idle": "2021-04-15T21:42:33.263159Z",
     "shell.execute_reply": "2021-04-15T21:42:33.263609Z"
    }
   },
   "outputs": [
    {
     "name": "stdout",
     "output_type": "stream",
     "text": [
      "[10, 9, 8, 'siete', 6, 5, 4, 3, 2, 1, 0]\n"
     ]
    }
   ],
   "source": [
    "numeros = numeros[::-1]\n",
    "print(numeros)"
   ]
  },
  {
   "cell_type": "code",
   "execution_count": 52,
   "id": "e096aa14",
   "metadata": {
    "execution": {
     "iopub.execute_input": "2021-04-15T21:42:33.273925Z",
     "iopub.status.busy": "2021-04-15T21:42:33.273343Z",
     "iopub.status.idle": "2021-04-15T21:42:33.275965Z",
     "shell.execute_reply": "2021-04-15T21:42:33.276441Z"
    },
    "tags": [
     "raises-exception"
    ]
   },
   "outputs": [
    {
     "ename": "IndexError",
     "evalue": "list index out of range",
     "output_type": "error",
     "traceback": [
      "\u001b[0;31m---------------------------------------------------------------------------\u001b[0m",
      "\u001b[0;31mIndexError\u001b[0m                                Traceback (most recent call last)",
      "\u001b[0;32m<ipython-input-1-0ef91dd29a9b>\u001b[0m in \u001b[0;36m<module>\u001b[0;34m\u001b[0m\n\u001b[0;32m----> 1\u001b[0;31m \u001b[0mprint\u001b[0m\u001b[0;34m(\u001b[0m\u001b[0mnumeros\u001b[0m\u001b[0;34m[\u001b[0m\u001b[0;36m15\u001b[0m\u001b[0;34m]\u001b[0m\u001b[0;34m)\u001b[0m  \u001b[0;31m# Falla. No se puede acceder a una posición inexistente\u001b[0m\u001b[0;34m\u001b[0m\u001b[0;34m\u001b[0m\u001b[0m\n\u001b[0m",
      "\u001b[0;31mIndexError\u001b[0m: list index out of range"
     ]
    }
   ],
   "source": [
    "print(numeros[15])  # Falla. No se puede acceder a una posición inexistente"
   ]
  },
  {
   "cell_type": "code",
   "execution_count": 53,
   "id": "82b1244c",
   "metadata": {
    "execution": {
     "iopub.execute_input": "2021-04-15T21:42:33.284135Z",
     "iopub.status.busy": "2021-04-15T21:42:33.283015Z",
     "iopub.status.idle": "2021-04-15T21:42:33.286122Z",
     "shell.execute_reply": "2021-04-15T21:42:33.285636Z"
    }
   },
   "outputs": [
    {
     "name": "stdout",
     "output_type": "stream",
     "text": [
      "palabra\n",
      "a\n",
      "pal\n",
      "abra\n"
     ]
    }
   ],
   "source": [
    "palabra = 'palabra'\n",
    "print(palabra)\n",
    "print(palabra[3])\n",
    "print(palabra[:3])\n",
    "print(palabra[3:])"
   ]
  },
  {
   "cell_type": "code",
   "execution_count": 54,
   "id": "a6dfd0eb",
   "metadata": {
    "execution": {
     "iopub.execute_input": "2021-04-15T21:42:33.291772Z",
     "iopub.status.busy": "2021-04-15T21:42:33.290570Z",
     "iopub.status.idle": "2021-04-15T21:42:33.293666Z",
     "shell.execute_reply": "2021-04-15T21:42:33.293184Z"
    }
   },
   "outputs": [
    {
     "name": "stdout",
     "output_type": "stream",
     "text": [
      "(0, 1, 2, 3, 4)\n",
      "(0, 1)\n",
      "(2, 3, 4)\n"
     ]
    }
   ],
   "source": [
    "tupla = (0, 1, 2, 3, 4)\n",
    "\n",
    "print(tupla)\n",
    "print(tupla[:2])\n",
    "print(tupla[2:])"
   ]
  },
  {
   "cell_type": "markdown",
   "id": "d43807b5",
   "metadata": {
    "slideshow": {
     "slide_type": "slide"
    }
   },
   "source": [
    "#### Diccionarios de Python\n",
    "\n",
    "Son como hashmaps, las claves deben ser inmutables para que no pierda sentido el diccionario. Si se pudieran modificar, se podrían cambiar las claves y generaría conflictos.\n",
    "\n",
    "Tipos mutables:\n",
    "- Listas\n",
    "- Diccionarios\n",
    "- Sets\n",
    "\n",
    "Tipos inmutables:\n",
    "- Int\n",
    "- Float\n",
    "- String\n",
    "- Tuplas\n"
   ]
  },
  {
   "cell_type": "code",
   "execution_count": 55,
   "id": "cd9773b0",
   "metadata": {
    "execution": {
     "iopub.execute_input": "2021-04-15T21:42:33.298176Z",
     "iopub.status.busy": "2021-04-15T21:42:33.297602Z",
     "iopub.status.idle": "2021-04-15T21:42:33.300305Z",
     "shell.execute_reply": "2021-04-15T21:42:33.300755Z"
    },
    "slideshow": {
     "slide_type": "slide"
    }
   },
   "outputs": [
    {
     "data": {
      "text/plain": [
       "{}"
      ]
     },
     "execution_count": 1,
     "metadata": {},
     "output_type": "execute_result"
    }
   ],
   "source": [
    "diccionario = {}\n",
    "diccionario"
   ]
  },
  {
   "cell_type": "code",
   "execution_count": 56,
   "id": "f68df2e9",
   "metadata": {
    "execution": {
     "iopub.execute_input": "2021-04-15T21:42:33.305466Z",
     "iopub.status.busy": "2021-04-15T21:42:33.304652Z",
     "iopub.status.idle": "2021-04-15T21:42:33.307347Z",
     "shell.execute_reply": "2021-04-15T21:42:33.307800Z"
    }
   },
   "outputs": [
    {
     "data": {
      "text/plain": [
       "{}"
      ]
     },
     "execution_count": 1,
     "metadata": {},
     "output_type": "execute_result"
    }
   ],
   "source": [
    "diccionario = dict()\n",
    "diccionario"
   ]
  },
  {
   "cell_type": "code",
   "execution_count": 57,
   "id": "00449894",
   "metadata": {
    "execution": {
     "iopub.execute_input": "2021-04-15T21:42:33.313118Z",
     "iopub.status.busy": "2021-04-15T21:42:33.311896Z",
     "iopub.status.idle": "2021-04-15T21:42:33.315023Z",
     "shell.execute_reply": "2021-04-15T21:42:33.314449Z"
    },
    "slideshow": {
     "slide_type": "slide"
    }
   },
   "outputs": [
    {
     "name": "stdout",
     "output_type": "stream",
     "text": [
      "{'clave1': 'valor1', 2: 'valor2', 'clave3': 3}\n"
     ]
    }
   ],
   "source": [
    "# Cómo agregar cosas al diccionario\n",
    "diccionario['clave1'] = 'valor1'\n",
    "diccionario[2] = 'valor2'\n",
    "diccionario['clave3'] = 3\n",
    "print(diccionario)"
   ]
  },
  {
   "cell_type": "markdown",
   "id": "a96a06d7",
   "metadata": {},
   "source": [
    "Hay dos formas de obtener valores de un diccionario:\n",
    "\n",
    "```python\n",
    "diccionario[clave]\n",
    "```\n",
    "\n",
    "El cual devuelve el valor si existe la clave suministrada o bien lanza `KeyError` si no existe."
   ]
  },
  {
   "cell_type": "code",
   "execution_count": 58,
   "id": "3b37315b",
   "metadata": {
    "execution": {
     "iopub.execute_input": "2021-04-15T21:42:33.319514Z",
     "iopub.status.busy": "2021-04-15T21:42:33.318944Z",
     "iopub.status.idle": "2021-04-15T21:42:33.320930Z",
     "shell.execute_reply": "2021-04-15T21:42:33.321376Z"
    }
   },
   "outputs": [
    {
     "data": {
      "text/plain": [
       "'valor1'"
      ]
     },
     "execution_count": 1,
     "metadata": {},
     "output_type": "execute_result"
    }
   ],
   "source": [
    "diccionario['clave1']"
   ]
  },
  {
   "cell_type": "code",
   "execution_count": 59,
   "id": "1c3134c3",
   "metadata": {
    "execution": {
     "iopub.execute_input": "2021-04-15T21:42:33.324683Z",
     "iopub.status.busy": "2021-04-15T21:42:33.324126Z",
     "iopub.status.idle": "2021-04-15T21:42:33.330100Z",
     "shell.execute_reply": "2021-04-15T21:42:33.329609Z"
    },
    "tags": [
     "raises-exception"
    ]
   },
   "outputs": [
    {
     "ename": "KeyError",
     "evalue": "'clave1000'",
     "output_type": "error",
     "traceback": [
      "\u001b[0;31m---------------------------------------------------------------------------\u001b[0m",
      "\u001b[0;31mKeyError\u001b[0m                                  Traceback (most recent call last)",
      "\u001b[0;32m<ipython-input-1-41aae9a2e5ed>\u001b[0m in \u001b[0;36m<module>\u001b[0;34m\u001b[0m\n\u001b[0;32m----> 1\u001b[0;31m \u001b[0mdiccionario\u001b[0m\u001b[0;34m[\u001b[0m\u001b[0;34m'clave1000'\u001b[0m\u001b[0;34m]\u001b[0m\u001b[0;34m\u001b[0m\u001b[0;34m\u001b[0m\u001b[0m\n\u001b[0m",
      "\u001b[0;31mKeyError\u001b[0m: 'clave1000'"
     ]
    }
   ],
   "source": [
    "diccionario['clave1000']"
   ]
  },
  {
   "cell_type": "markdown",
   "id": "94086e46",
   "metadata": {},
   "source": [
    "La segunda forma es con `get`:"
   ]
  },
  {
   "cell_type": "code",
   "execution_count": 60,
   "id": "71402d2e",
   "metadata": {
    "execution": {
     "iopub.execute_input": "2021-04-15T21:42:33.368495Z",
     "iopub.status.busy": "2021-04-15T21:42:33.358094Z",
     "iopub.status.idle": "2021-04-15T21:42:33.392046Z",
     "shell.execute_reply": "2021-04-15T21:42:33.391016Z"
    }
   },
   "outputs": [],
   "source": [
    "diccionario.get?"
   ]
  },
  {
   "cell_type": "code",
   "execution_count": 61,
   "id": "9c36e953",
   "metadata": {
    "execution": {
     "iopub.execute_input": "2021-04-15T21:42:33.397782Z",
     "iopub.status.busy": "2021-04-15T21:42:33.397211Z",
     "iopub.status.idle": "2021-04-15T21:42:33.401439Z",
     "shell.execute_reply": "2021-04-15T21:42:33.400971Z"
    }
   },
   "outputs": [
    {
     "name": "stdout",
     "output_type": "stream",
     "text": [
      "Help on built-in function get:\n",
      "\n",
      "get(key, default=None, /) method of builtins.dict instance\n",
      "    Return the value for key if key is in the dictionary, else default.\n",
      "\n"
     ]
    }
   ],
   "source": [
    "help(diccionario.get)"
   ]
  },
  {
   "cell_type": "code",
   "execution_count": 62,
   "id": "36f24b9f",
   "metadata": {
    "execution": {
     "iopub.execute_input": "2021-04-15T21:42:33.407407Z",
     "iopub.status.busy": "2021-04-15T21:42:33.406069Z",
     "iopub.status.idle": "2021-04-15T21:42:33.409305Z",
     "shell.execute_reply": "2021-04-15T21:42:33.408817Z"
    },
    "slideshow": {
     "slide_type": "slide"
    }
   },
   "outputs": [
    {
     "name": "stdout",
     "output_type": "stream",
     "text": [
      "None\n"
     ]
    }
   ],
   "source": [
    "print(diccionario.get('clave1000'))"
   ]
  },
  {
   "cell_type": "code",
   "execution_count": 63,
   "id": "ad3a06d3",
   "metadata": {
    "execution": {
     "iopub.execute_input": "2021-04-15T21:42:33.413861Z",
     "iopub.status.busy": "2021-04-15T21:42:33.413270Z",
     "iopub.status.idle": "2021-04-15T21:42:33.416746Z",
     "shell.execute_reply": "2021-04-15T21:42:33.416259Z"
    },
    "slideshow": {
     "slide_type": "slide"
    }
   },
   "outputs": [
    {
     "name": "stdout",
     "output_type": "stream",
     "text": [
      "True\n"
     ]
    }
   ],
   "source": [
    "print('clave1' in diccionario)  # Verifico si la clave está en el diccionario"
   ]
  },
  {
   "cell_type": "code",
   "execution_count": 64,
   "id": "1586fd17",
   "metadata": {
    "execution": {
     "iopub.execute_input": "2021-04-15T21:42:33.421491Z",
     "iopub.status.busy": "2021-04-15T21:42:33.420924Z",
     "iopub.status.idle": "2021-04-15T21:42:33.423846Z",
     "shell.execute_reply": "2021-04-15T21:42:33.424309Z"
    }
   },
   "outputs": [
    {
     "data": {
      "text/plain": [
       "True"
      ]
     },
     "execution_count": 1,
     "metadata": {},
     "output_type": "execute_result"
    }
   ],
   "source": [
    "l = [1, 2, 3, 4]\n",
    "2 in l"
   ]
  },
  {
   "cell_type": "code",
   "execution_count": 65,
   "id": "b302964f",
   "metadata": {
    "execution": {
     "iopub.execute_input": "2021-04-15T21:42:33.429682Z",
     "iopub.status.busy": "2021-04-15T21:42:33.428465Z",
     "iopub.status.idle": "2021-04-15T21:42:33.431695Z",
     "shell.execute_reply": "2021-04-15T21:42:33.431211Z"
    }
   },
   "outputs": [
    {
     "name": "stdout",
     "output_type": "stream",
     "text": [
      "la clave es clave1 y el valor es valor1\n",
      "la clave es 2 y el valor es valor2\n",
      "la clave es clave3 y el valor es 3\n"
     ]
    }
   ],
   "source": [
    "for clave, valor in diccionario.items():\n",
    "    print(\"la clave es %s y el valor es %s\" % (clave, valor))"
   ]
  },
  {
   "cell_type": "code",
   "execution_count": 66,
   "id": "493c8eaa",
   "metadata": {
    "execution": {
     "iopub.execute_input": "2021-04-15T21:42:33.437147Z",
     "iopub.status.busy": "2021-04-15T21:42:33.435940Z",
     "iopub.status.idle": "2021-04-15T21:42:33.439145Z",
     "shell.execute_reply": "2021-04-15T21:42:33.438647Z"
    }
   },
   "outputs": [
    {
     "name": "stdout",
     "output_type": "stream",
     "text": [
      "la clave es clave1 y el valor es valor1\n",
      "la clave es 2 y el valor es valor2\n",
      "la clave es clave3 y el valor es 3\n"
     ]
    }
   ],
   "source": [
    "for clave, valor in diccionario.items():\n",
    "    print(\"la clave es {} y el valor es {}\".format(clave, valor))"
   ]
  },
  {
   "cell_type": "code",
   "execution_count": 67,
   "id": "1cf9aca5",
   "metadata": {
    "execution": {
     "iopub.execute_input": "2021-04-15T21:42:33.444832Z",
     "iopub.status.busy": "2021-04-15T21:42:33.443608Z",
     "iopub.status.idle": "2021-04-15T21:42:33.446686Z",
     "shell.execute_reply": "2021-04-15T21:42:33.446181Z"
    },
    "slideshow": {
     "slide_type": "slide"
    }
   },
   "outputs": [
    {
     "name": "stdout",
     "output_type": "stream",
     "text": [
      "la clave es clave1 y el valor es valor1\n",
      "la clave es 2 y el valor es valor2\n",
      "la clave es clave3 y el valor es 3\n"
     ]
    }
   ],
   "source": [
    "# Cómo iterar un diccionario elemento por elemento\n",
    "for (\n",
    "    clave,\n",
    "    valor,\n",
    ") in (\n",
    "    diccionario.items()\n",
    "):  # diccionario.items() va devolviendo tuplas con el formato (clave,valor)\n",
    "    print(\n",
    "        f\"la clave es {clave} y el valor es {valor}\"\n",
    "    )  # con esta sintaxis se desempaquetan en clave y valor (similar a enumerate)"
   ]
  },
  {
   "cell_type": "code",
   "execution_count": 68,
   "id": "752d535b",
   "metadata": {
    "execution": {
     "iopub.execute_input": "2021-04-15T21:42:33.451925Z",
     "iopub.status.busy": "2021-04-15T21:42:33.450649Z",
     "iopub.status.idle": "2021-04-15T21:42:33.453865Z",
     "shell.execute_reply": "2021-04-15T21:42:33.453276Z"
    },
    "slideshow": {
     "slide_type": "slide"
    }
   },
   "outputs": [
    {
     "name": "stdout",
     "output_type": "stream",
     "text": [
      "clave1\n",
      "2\n",
      "clave3\n"
     ]
    }
   ],
   "source": [
    "for clave in diccionario.keys():\n",
    "    print(clave)"
   ]
  },
  {
   "cell_type": "code",
   "execution_count": 69,
   "id": "4294a111",
   "metadata": {
    "execution": {
     "iopub.execute_input": "2021-04-15T21:42:33.458927Z",
     "iopub.status.busy": "2021-04-15T21:42:33.457702Z",
     "iopub.status.idle": "2021-04-15T21:42:33.460774Z",
     "shell.execute_reply": "2021-04-15T21:42:33.460280Z"
    },
    "slideshow": {
     "slide_type": "slide"
    }
   },
   "outputs": [
    {
     "name": "stdout",
     "output_type": "stream",
     "text": [
      "valor1\n",
      "valor2\n",
      "3\n"
     ]
    }
   ],
   "source": [
    "for valor in diccionario.values():\n",
    "    print(valor)"
   ]
  },
  {
   "cell_type": "markdown",
   "id": "4dfbdc55",
   "metadata": {},
   "source": [
    "#### Sets\n",
    "\n",
    "Son similares a los diccionarios (en eficiencia) pero se almacenan solo claves, y tienen algunas operaciones particulares.\n",
    "\n",
    "En particular, no pueden tener elementos iguales (pensar que son conjuntos)"
   ]
  },
  {
   "cell_type": "code",
   "execution_count": 70,
   "id": "e385c473",
   "metadata": {
    "execution": {
     "iopub.execute_input": "2021-04-15T21:42:33.464711Z",
     "iopub.status.busy": "2021-04-15T21:42:33.464150Z",
     "iopub.status.idle": "2021-04-15T21:42:33.468829Z",
     "shell.execute_reply": "2021-04-15T21:42:33.468333Z"
    }
   },
   "outputs": [],
   "source": [
    "set??"
   ]
  },
  {
   "cell_type": "code",
   "execution_count": 71,
   "id": "e98e5a00",
   "metadata": {
    "execution": {
     "iopub.execute_input": "2021-04-15T21:42:33.473887Z",
     "iopub.status.busy": "2021-04-15T21:42:33.473315Z",
     "iopub.status.idle": "2021-04-15T21:42:33.476092Z",
     "shell.execute_reply": "2021-04-15T21:42:33.476545Z"
    }
   },
   "outputs": [
    {
     "data": {
      "text/plain": [
       "{1, 2, 3}"
      ]
     },
     "execution_count": 1,
     "metadata": {},
     "output_type": "execute_result"
    }
   ],
   "source": [
    "# Se definen como los diccionarios pero sin hacerlos 'clave:valor', solamente una seguidilla de elementos\n",
    "{1, 2, 2, 3}"
   ]
  },
  {
   "cell_type": "code",
   "execution_count": 72,
   "id": "0f6f7d11",
   "metadata": {
    "execution": {
     "iopub.execute_input": "2021-04-15T21:42:33.481312Z",
     "iopub.status.busy": "2021-04-15T21:42:33.480741Z",
     "iopub.status.idle": "2021-04-15T21:42:33.483436Z",
     "shell.execute_reply": "2021-04-15T21:42:33.483886Z"
    }
   },
   "outputs": [
    {
     "data": {
      "text/plain": [
       "{1, 2, 3}"
      ]
     },
     "execution_count": 1,
     "metadata": {},
     "output_type": "execute_result"
    }
   ],
   "source": [
    "set([1, 2, 2, 3])"
   ]
  },
  {
   "cell_type": "markdown",
   "id": "320692b5",
   "metadata": {},
   "source": [
    "## Condicionales (if...elif...else)\n",
    "\n",
    "```python\n",
    "if <condición_1>:\n",
    "    <hacer algo_1 si se da la condición_1>\n",
    "elif <condición_2>:\n",
    "    <hacer algo_2 si se da la condición_2>\n",
    "...\n",
    "elif <condición_n>:\n",
    "    <hacer algo_n si se da la condición_n>\n",
    "else:\n",
    "    <hacer otra cosa si no dan las anteriores>\n",
    "```\n",
    "\n",
    "Algo importante para notar es que los bloques se definen por **niveles de identacion**."
   ]
  },
  {
   "cell_type": "code",
   "execution_count": 73,
   "id": "20c9551d",
   "metadata": {
    "execution": {
     "iopub.execute_input": "2021-04-15T21:42:33.489849Z",
     "iopub.status.busy": "2021-04-15T21:42:33.488588Z",
     "iopub.status.idle": "2021-04-15T21:42:33.491709Z",
     "shell.execute_reply": "2021-04-15T21:42:33.491223Z"
    }
   },
   "outputs": [
    {
     "name": "stdout",
     "output_type": "stream",
     "text": [
      "uno\n"
     ]
    }
   ],
   "source": [
    "v = 1\n",
    "if v == 1:\n",
    "    print(\"uno\")\n",
    "elif v == 2:\n",
    "    print(\"dos\")\n",
    "else:\n",
    "    print(\"ni idea\")\n",
    "    print(v)"
   ]
  },
  {
   "cell_type": "markdown",
   "id": "e50eb443",
   "metadata": {},
   "source": [
    "## Iteraciones\n",
    "\n",
    "```python\n",
    "while cond:\n",
    "    <codigo>\n",
    "```\n",
    "\n",
    "```python\n",
    "for elemento in iterable:\n",
    "    <codigo>\n",
    "```\n",
    "\n",
    "Para iterar sobre un rango de valores, usamos `range`"
   ]
  },
  {
   "cell_type": "code",
   "execution_count": 74,
   "id": "5fb24f7a",
   "metadata": {
    "execution": {
     "iopub.execute_input": "2021-04-15T21:42:33.496946Z",
     "iopub.status.busy": "2021-04-15T21:42:33.495957Z",
     "iopub.status.idle": "2021-04-15T21:42:33.498589Z",
     "shell.execute_reply": "2021-04-15T21:42:33.499051Z"
    }
   },
   "outputs": [
    {
     "name": "stdout",
     "output_type": "stream",
     "text": [
      "1\n",
      "4\n",
      "7\n",
      "10\n"
     ]
    }
   ],
   "source": [
    "for i in range(1, 11, 3):\n",
    "    print(i)"
   ]
  },
  {
   "cell_type": "markdown",
   "id": "8c26ca76",
   "metadata": {},
   "source": [
    "## Operadores logicos\n",
    "\n",
    "`not`, `or`, `and`"
   ]
  },
  {
   "cell_type": "code",
   "execution_count": 75,
   "id": "72f5c6c3",
   "metadata": {
    "execution": {
     "iopub.execute_input": "2021-04-15T21:42:33.504071Z",
     "iopub.status.busy": "2021-04-15T21:42:33.502845Z",
     "iopub.status.idle": "2021-04-15T21:42:33.505998Z",
     "shell.execute_reply": "2021-04-15T21:42:33.505512Z"
    }
   },
   "outputs": [
    {
     "name": "stdout",
     "output_type": "stream",
     "text": [
      "yay\n"
     ]
    }
   ],
   "source": [
    "if True or False:\n",
    "    print(\"yay\")"
   ]
  },
  {
   "cell_type": "code",
   "execution_count": 76,
   "id": "b8a70094",
   "metadata": {
    "execution": {
     "iopub.execute_input": "2021-04-15T21:42:33.511758Z",
     "iopub.status.busy": "2021-04-15T21:42:33.511156Z",
     "iopub.status.idle": "2021-04-15T21:42:33.513829Z",
     "shell.execute_reply": "2021-04-15T21:42:33.514380Z"
    }
   },
   "outputs": [
    {
     "data": {
      "text/plain": [
       "False"
      ]
     },
     "execution_count": 1,
     "metadata": {},
     "output_type": "execute_result"
    }
   ],
   "source": [
    "1 == 2"
   ]
  },
  {
   "cell_type": "code",
   "execution_count": 77,
   "id": "88cb3c1c",
   "metadata": {
    "execution": {
     "iopub.execute_input": "2021-04-15T21:42:33.519397Z",
     "iopub.status.busy": "2021-04-15T21:42:33.518806Z",
     "iopub.status.idle": "2021-04-15T21:42:33.521534Z",
     "shell.execute_reply": "2021-04-15T21:42:33.521984Z"
    }
   },
   "outputs": [
    {
     "data": {
      "text/plain": [
       "True"
      ]
     },
     "execution_count": 1,
     "metadata": {},
     "output_type": "execute_result"
    }
   ],
   "source": [
    "1 != 2"
   ]
  },
  {
   "cell_type": "markdown",
   "id": "bf384c37",
   "metadata": {
    "slideshow": {
     "slide_type": "slide"
    }
   },
   "source": [
    "## Funciones en Python"
   ]
  },
  {
   "cell_type": "code",
   "execution_count": 78,
   "id": "27db6e88",
   "metadata": {
    "execution": {
     "iopub.execute_input": "2021-04-15T21:42:33.529820Z",
     "iopub.status.busy": "2021-04-15T21:42:33.528623Z",
     "iopub.status.idle": "2021-04-15T21:42:33.531782Z",
     "shell.execute_reply": "2021-04-15T21:42:33.531292Z"
    },
    "slideshow": {
     "slide_type": "slide"
    }
   },
   "outputs": [
    {
     "name": "stdout",
     "output_type": "stream",
     "text": [
      "True\n",
      "False\n"
     ]
    }
   ],
   "source": [
    "def busqueda_binaria(lista, elemento):\n",
    "    if not lista:\n",
    "        return False\n",
    "    elif len(lista) == 1:\n",
    "        return lista[0] == elemento\n",
    "    mitad = len(lista) // 2  # // es la operación división entera\n",
    "    if lista[mitad] == elemento:\n",
    "        return True\n",
    "    if lista[mitad] > elemento:\n",
    "        return busqueda_binaria(lista[:mitad], elemento)\n",
    "    if lista[mitad] < elemento:\n",
    "        return busqueda_binaria(lista[mitad:], elemento)\n",
    "\n",
    "\n",
    "print(busqueda_binaria([1, 2, 3, 4, 5], 4))\n",
    "print(busqueda_binaria([1, 4, 6, 7, 9, 10], 2))"
   ]
  },
  {
   "cell_type": "code",
   "execution_count": 79,
   "id": "874ac4a1",
   "metadata": {
    "execution": {
     "iopub.execute_input": "2021-04-15T21:42:33.537278Z",
     "iopub.status.busy": "2021-04-15T21:42:33.536028Z",
     "iopub.status.idle": "2021-04-15T21:42:33.539101Z",
     "shell.execute_reply": "2021-04-15T21:42:33.538614Z"
    }
   },
   "outputs": [
    {
     "name": "stdout",
     "output_type": "stream",
     "text": [
      "(3, 3, 3)\n"
     ]
    }
   ],
   "source": [
    "def a(b):\n",
    "    if a == 1:\n",
    "        print(a)\n",
    "    return (b, b, b)\n",
    "\n",
    "\n",
    "print(a(3))"
   ]
  },
  {
   "cell_type": "code",
   "execution_count": 80,
   "id": "217eb5f2",
   "metadata": {
    "execution": {
     "iopub.execute_input": "2021-04-15T21:42:33.544674Z",
     "iopub.status.busy": "2021-04-15T21:42:33.543639Z",
     "iopub.status.idle": "2021-04-15T21:42:33.553007Z",
     "shell.execute_reply": "2021-04-15T21:42:33.553519Z"
    },
    "lines_to_next_cell": 2,
    "slideshow": {
     "slide_type": "slide"
    },
    "tags": [
     "raises-exception"
    ]
   },
   "outputs": [
    {
     "name": "stdout",
     "output_type": "stream",
     "text": [
      "3\n",
      "3.0\n",
      "3.0\n",
      "hola como te va\n",
      "[1, 2, 3, 4, 5]\n"
     ]
    },
    {
     "ename": "TypeError",
     "evalue": "can only concatenate str (not \"int\") to str",
     "output_type": "error",
     "traceback": [
      "\u001b[0;31m---------------------------------------------------------------------------\u001b[0m",
      "\u001b[0;31mTypeError\u001b[0m                                 Traceback (most recent call last)",
      "\u001b[0;32m<ipython-input-1-c2a6a99a90c7>\u001b[0m in \u001b[0;36m<module>\u001b[0;34m\u001b[0m\n\u001b[1;32m      8\u001b[0m \u001b[0mprint\u001b[0m\u001b[0;34m(\u001b[0m\u001b[0msuma\u001b[0m\u001b[0;34m(\u001b[0m\u001b[0;34m\"hola \"\u001b[0m\u001b[0;34m,\u001b[0m \u001b[0;34m\"como te va\"\u001b[0m\u001b[0;34m)\u001b[0m\u001b[0;34m)\u001b[0m\u001b[0;34m\u001b[0m\u001b[0;34m\u001b[0m\u001b[0m\n\u001b[1;32m      9\u001b[0m \u001b[0mprint\u001b[0m\u001b[0;34m(\u001b[0m\u001b[0msuma\u001b[0m\u001b[0;34m(\u001b[0m\u001b[0;34m[\u001b[0m\u001b[0;36m1\u001b[0m\u001b[0;34m,\u001b[0m \u001b[0;36m2\u001b[0m\u001b[0;34m,\u001b[0m \u001b[0;36m3\u001b[0m\u001b[0;34m]\u001b[0m\u001b[0;34m,\u001b[0m \u001b[0;34m[\u001b[0m\u001b[0;36m4\u001b[0m\u001b[0;34m,\u001b[0m \u001b[0;36m5\u001b[0m\u001b[0;34m]\u001b[0m\u001b[0;34m)\u001b[0m\u001b[0;34m)\u001b[0m\u001b[0;34m\u001b[0m\u001b[0;34m\u001b[0m\u001b[0m\n\u001b[0;32m---> 10\u001b[0;31m \u001b[0mprint\u001b[0m\u001b[0;34m(\u001b[0m\u001b[0msuma\u001b[0m\u001b[0;34m(\u001b[0m\u001b[0;34m\"1\"\u001b[0m\u001b[0;34m,\u001b[0m \u001b[0;36m3\u001b[0m\u001b[0;34m)\u001b[0m\u001b[0;34m)\u001b[0m  \u001b[0;31m# Falla\u001b[0m\u001b[0;34m\u001b[0m\u001b[0;34m\u001b[0m\u001b[0m\n\u001b[0m",
      "\u001b[0;32m<ipython-input-1-c2a6a99a90c7>\u001b[0m in \u001b[0;36msuma\u001b[0;34m(a, b)\u001b[0m\n\u001b[1;32m      1\u001b[0m \u001b[0;32mdef\u001b[0m \u001b[0msuma\u001b[0m\u001b[0;34m(\u001b[0m\u001b[0ma\u001b[0m\u001b[0;34m,\u001b[0m \u001b[0mb\u001b[0m\u001b[0;34m)\u001b[0m\u001b[0;34m:\u001b[0m\u001b[0;34m\u001b[0m\u001b[0;34m\u001b[0m\u001b[0m\n\u001b[0;32m----> 2\u001b[0;31m     \u001b[0;32mreturn\u001b[0m \u001b[0ma\u001b[0m \u001b[0;34m+\u001b[0m \u001b[0mb\u001b[0m\u001b[0;34m\u001b[0m\u001b[0;34m\u001b[0m\u001b[0m\n\u001b[0m\u001b[1;32m      3\u001b[0m \u001b[0;34m\u001b[0m\u001b[0m\n\u001b[1;32m      4\u001b[0m \u001b[0;34m\u001b[0m\u001b[0m\n\u001b[1;32m      5\u001b[0m \u001b[0mprint\u001b[0m\u001b[0;34m(\u001b[0m\u001b[0msuma\u001b[0m\u001b[0;34m(\u001b[0m\u001b[0;36m1\u001b[0m\u001b[0;34m,\u001b[0m \u001b[0;36m2\u001b[0m\u001b[0;34m)\u001b[0m\u001b[0;34m)\u001b[0m\u001b[0;34m\u001b[0m\u001b[0;34m\u001b[0m\u001b[0m\n",
      "\u001b[0;31mTypeError\u001b[0m: can only concatenate str (not \"int\") to str"
     ]
    }
   ],
   "source": [
    "def suma(a, b):\n",
    "    return a + b\n",
    "\n",
    "\n",
    "print(suma(1, 2))\n",
    "print(suma(1.0, 2.0))\n",
    "print(suma(1.0, 2))\n",
    "print(suma(\"hola \", \"como te va\"))\n",
    "print(suma([1, 2, 3], [4, 5]))\n",
    "print(suma(\"1\", 3))  # Falla"
   ]
  },
  {
   "cell_type": "code",
   "execution_count": 81,
   "id": "1c272344",
   "metadata": {
    "execution": {
     "iopub.execute_input": "2021-04-15T21:42:33.558914Z",
     "iopub.status.busy": "2021-04-15T21:42:33.557641Z",
     "iopub.status.idle": "2021-04-15T21:42:33.560748Z",
     "shell.execute_reply": "2021-04-15T21:42:33.560260Z"
    }
   },
   "outputs": [
    {
     "name": "stdout",
     "output_type": "stream",
     "text": [
      "2.0\n"
     ]
    }
   ],
   "source": [
    "# El valor por default de divisor es 1\n",
    "\n",
    "\n",
    "def division(dividendo, divisor=2):\n",
    "    return dividendo / divisor\n",
    "\n",
    "\n",
    "print(division(4))  # Usa el valor por default"
   ]
  },
  {
   "cell_type": "code",
   "execution_count": 82,
   "id": "233863a1",
   "metadata": {
    "execution": {
     "iopub.execute_input": "2021-04-15T21:42:33.564852Z",
     "iopub.status.busy": "2021-04-15T21:42:33.564262Z",
     "iopub.status.idle": "2021-04-15T21:42:33.570630Z",
     "shell.execute_reply": "2021-04-15T21:42:33.571135Z"
    },
    "tags": [
     "raises-exception"
    ]
   },
   "outputs": [
    {
     "name": "stdout",
     "output_type": "stream",
     "text": [
      "0.5\n",
      "0.5\n"
     ]
    },
    {
     "ename": "TypeError",
     "evalue": "division() missing 1 required positional argument: 'dividendo'",
     "output_type": "error",
     "traceback": [
      "\u001b[0;31m---------------------------------------------------------------------------\u001b[0m",
      "\u001b[0;31mTypeError\u001b[0m                                 Traceback (most recent call last)",
      "\u001b[0;32m<ipython-input-1-34eff3833138>\u001b[0m in \u001b[0;36m<module>\u001b[0;34m\u001b[0m\n\u001b[1;32m      1\u001b[0m \u001b[0mprint\u001b[0m\u001b[0;34m(\u001b[0m\u001b[0mdivision\u001b[0m\u001b[0;34m(\u001b[0m\u001b[0;36m1\u001b[0m\u001b[0;34m,\u001b[0m \u001b[0;36m2\u001b[0m\u001b[0;34m)\u001b[0m\u001b[0;34m)\u001b[0m  \u001b[0;31m# Parámetros por orden\u001b[0m\u001b[0;34m\u001b[0m\u001b[0;34m\u001b[0m\u001b[0m\n\u001b[1;32m      2\u001b[0m \u001b[0mprint\u001b[0m\u001b[0;34m(\u001b[0m\u001b[0mdivision\u001b[0m\u001b[0;34m(\u001b[0m\u001b[0mdividendo\u001b[0m\u001b[0;34m=\u001b[0m\u001b[0;36m1\u001b[0m\u001b[0;34m,\u001b[0m \u001b[0mdivisor\u001b[0m\u001b[0;34m=\u001b[0m\u001b[0;36m2\u001b[0m\u001b[0;34m)\u001b[0m\u001b[0;34m)\u001b[0m  \u001b[0;31m# Parámetros por nombre\u001b[0m\u001b[0;34m\u001b[0m\u001b[0;34m\u001b[0m\u001b[0m\n\u001b[0;32m----> 3\u001b[0;31m \u001b[0mprint\u001b[0m\u001b[0;34m(\u001b[0m\u001b[0mdivision\u001b[0m\u001b[0;34m(\u001b[0m\u001b[0mdivisor\u001b[0m\u001b[0;34m=\u001b[0m\u001b[0;36m2\u001b[0m\u001b[0;34m)\u001b[0m\u001b[0;34m)\u001b[0m\u001b[0;34m\u001b[0m\u001b[0;34m\u001b[0m\u001b[0m\n\u001b[0m",
      "\u001b[0;31mTypeError\u001b[0m: division() missing 1 required positional argument: 'dividendo'"
     ]
    }
   ],
   "source": [
    "print(division(1, 2))  # Parámetros por orden\n",
    "print(division(dividendo=1, divisor=2))  # Parámetros por nombre\n",
    "print(division(divisor=2))"
   ]
  },
  {
   "cell_type": "code",
   "execution_count": 83,
   "id": "fccfe0a6",
   "metadata": {
    "execution": {
     "iopub.execute_input": "2021-04-15T21:42:33.576254Z",
     "iopub.status.busy": "2021-04-15T21:42:33.574909Z",
     "iopub.status.idle": "2021-04-15T21:42:33.578102Z",
     "shell.execute_reply": "2021-04-15T21:42:33.577612Z"
    }
   },
   "outputs": [
    {
     "name": "stdout",
     "output_type": "stream",
     "text": [
      "0.5\n"
     ]
    }
   ],
   "source": [
    "print(division(divisor=2, dividendo=1))"
   ]
  },
  {
   "cell_type": "code",
   "execution_count": 84,
   "id": "c85ac424",
   "metadata": {
    "execution": {
     "iopub.execute_input": "2021-04-15T21:42:33.584348Z",
     "iopub.status.busy": "2021-04-15T21:42:33.583077Z",
     "iopub.status.idle": "2021-04-15T21:42:33.586371Z",
     "shell.execute_reply": "2021-04-15T21:42:33.585702Z"
    }
   },
   "outputs": [
    {
     "name": "stdout",
     "output_type": "stream",
     "text": [
      "['a', 'b', 'c']\n",
      "[1, 2, 3]\n",
      "['hola', ' don', ' pepito']\n",
      "hola -  don -  pepito\n"
     ]
    }
   ],
   "source": [
    "# Funciones básicas ya en el lenguaje\n",
    "# Hechas para funcionar para distintos tipos\n",
    "\n",
    "string_ordenado = sorted('bca')\n",
    "print(string_ordenado)\n",
    "\n",
    "lista_ordenada = sorted([1, 3, 2])\n",
    "print(lista_ordenada)\n",
    "\n",
    "separadas = \"hola, don, pepito\".split(\",\")\n",
    "print(separadas)\n",
    "unidas = \" - \".join(separadas)\n",
    "print(unidas)"
   ]
  },
  {
   "cell_type": "markdown",
   "id": "34de2a4d",
   "metadata": {},
   "source": [
    "## Módulos\n",
    "\n",
    "Para incluir alguna biblioteca de funciones se usa `import`. Pueden ser cosas ya predefinidas en Python (`math`, `random`, etc), nombres de archivos en nuestro directorio (por ejemplo, para `mimodulo.py` ponemos `import mimodulo`) o bibliotecas instaladas por el usuario"
   ]
  },
  {
   "cell_type": "code",
   "execution_count": 85,
   "id": "ad6f5617",
   "metadata": {
    "execution": {
     "iopub.execute_input": "2021-04-15T21:42:33.591333Z",
     "iopub.status.busy": "2021-04-15T21:42:33.590029Z",
     "iopub.status.idle": "2021-04-15T21:42:33.593167Z",
     "shell.execute_reply": "2021-04-15T21:42:33.592676Z"
    }
   },
   "outputs": [
    {
     "name": "stdout",
     "output_type": "stream",
     "text": [
      "3.141592653589793\n"
     ]
    }
   ],
   "source": [
    "import math\n",
    "\n",
    "print(math.pi)"
   ]
  },
  {
   "cell_type": "code",
   "execution_count": 86,
   "id": "a2e9c7ec",
   "metadata": {
    "execution": {
     "iopub.execute_input": "2021-04-15T21:42:33.598240Z",
     "iopub.status.busy": "2021-04-15T21:42:33.596981Z",
     "iopub.status.idle": "2021-04-15T21:42:33.600080Z",
     "shell.execute_reply": "2021-04-15T21:42:33.599586Z"
    }
   },
   "outputs": [
    {
     "name": "stdout",
     "output_type": "stream",
     "text": [
      "3.141592653589793 2.718281828459045\n"
     ]
    }
   ],
   "source": [
    "from math import pi, e\n",
    "\n",
    "print(pi, e)"
   ]
  },
  {
   "cell_type": "code",
   "execution_count": 87,
   "id": "0bd7f717",
   "metadata": {
    "execution": {
     "iopub.execute_input": "2021-04-15T21:42:33.604751Z",
     "iopub.status.busy": "2021-04-15T21:42:33.603951Z",
     "iopub.status.idle": "2021-04-15T21:42:33.606815Z",
     "shell.execute_reply": "2021-04-15T21:42:33.607289Z"
    }
   },
   "outputs": [
    {
     "data": {
      "text/plain": [
       "2"
      ]
     },
     "execution_count": 1,
     "metadata": {},
     "output_type": "execute_result"
    }
   ],
   "source": [
    "math.gcd(56, 78)"
   ]
  },
  {
   "cell_type": "markdown",
   "id": "7f71aabc",
   "metadata": {},
   "source": [
    "## Manejo de excepciones\n",
    "\n",
    "Se pueden encapsular errores esperados en un bloque 'try/except' para evitar cortar el flujo del programa"
   ]
  },
  {
   "cell_type": "code",
   "execution_count": 88,
   "id": "8c9cb092",
   "metadata": {
    "execution": {
     "iopub.execute_input": "2021-04-15T21:42:33.615726Z",
     "iopub.status.busy": "2021-04-15T21:42:33.612966Z",
     "iopub.status.idle": "2021-04-15T21:42:33.618024Z",
     "shell.execute_reply": "2021-04-15T21:42:33.618510Z"
    },
    "tags": [
     "raises-exception"
    ]
   },
   "outputs": [
    {
     "ename": "ZeroDivisionError",
     "evalue": "division by zero",
     "output_type": "error",
     "traceback": [
      "\u001b[0;31m---------------------------------------------------------------------------\u001b[0m",
      "\u001b[0;31mZeroDivisionError\u001b[0m                         Traceback (most recent call last)",
      "\u001b[0;32m<ipython-input-1-f031f77b1a55>\u001b[0m in \u001b[0;36m<module>\u001b[0;34m\u001b[0m\n\u001b[0;32m----> 1\u001b[0;31m \u001b[0mdivision\u001b[0m\u001b[0;34m(\u001b[0m\u001b[0;36m1\u001b[0m\u001b[0;34m,\u001b[0m \u001b[0;36m0\u001b[0m\u001b[0;34m)\u001b[0m  \u001b[0;31m# No se puede dividir por cero\u001b[0m\u001b[0;34m\u001b[0m\u001b[0;34m\u001b[0m\u001b[0m\n\u001b[0m",
      "\u001b[0;32m<ipython-input-1-0d991d7de762>\u001b[0m in \u001b[0;36mdivision\u001b[0;34m(dividendo, divisor)\u001b[0m\n\u001b[1;32m      3\u001b[0m \u001b[0;34m\u001b[0m\u001b[0m\n\u001b[1;32m      4\u001b[0m \u001b[0;32mdef\u001b[0m \u001b[0mdivision\u001b[0m\u001b[0;34m(\u001b[0m\u001b[0mdividendo\u001b[0m\u001b[0;34m,\u001b[0m \u001b[0mdivisor\u001b[0m\u001b[0;34m=\u001b[0m\u001b[0;36m2\u001b[0m\u001b[0;34m)\u001b[0m\u001b[0;34m:\u001b[0m\u001b[0;34m\u001b[0m\u001b[0;34m\u001b[0m\u001b[0m\n\u001b[0;32m----> 5\u001b[0;31m     \u001b[0;32mreturn\u001b[0m \u001b[0mdividendo\u001b[0m \u001b[0;34m/\u001b[0m \u001b[0mdivisor\u001b[0m\u001b[0;34m\u001b[0m\u001b[0;34m\u001b[0m\u001b[0m\n\u001b[0m\u001b[1;32m      6\u001b[0m \u001b[0;34m\u001b[0m\u001b[0m\n\u001b[1;32m      7\u001b[0m \u001b[0;34m\u001b[0m\u001b[0m\n",
      "\u001b[0;31mZeroDivisionError\u001b[0m: division by zero"
     ]
    }
   ],
   "source": [
    "division(1, 0)  # No se puede dividir por cero"
   ]
  },
  {
   "cell_type": "code",
   "execution_count": 89,
   "id": "f2b44a1a",
   "metadata": {
    "execution": {
     "iopub.execute_input": "2021-04-15T21:42:33.624087Z",
     "iopub.status.busy": "2021-04-15T21:42:33.622813Z",
     "iopub.status.idle": "2021-04-15T21:42:33.625938Z",
     "shell.execute_reply": "2021-04-15T21:42:33.625442Z"
    }
   },
   "outputs": [
    {
     "name": "stdout",
     "output_type": "stream",
     "text": [
      "No se puede dividir por cero, ojo! division by zero\n",
      "1\n"
     ]
    }
   ],
   "source": [
    "try:\n",
    "    division(1, 0)\n",
    "except (ZeroDivisionError, TypeError) as e:\n",
    "    print('No se puede dividir por cero, ojo!', e)\n",
    "finally:\n",
    "    print(1)"
   ]
  },
  {
   "cell_type": "markdown",
   "id": "d402e71c",
   "metadata": {
    "slideshow": {
     "slide_type": "slide"
    }
   },
   "source": [
    "## Lectura y escritura de archivos"
   ]
  },
  {
   "cell_type": "code",
   "execution_count": 90,
   "id": "7d44f826",
   "metadata": {
    "execution": {
     "iopub.execute_input": "2021-04-15T21:42:33.631369Z",
     "iopub.status.busy": "2021-04-15T21:42:33.630782Z",
     "iopub.status.idle": "2021-04-15T21:42:33.633418Z",
     "shell.execute_reply": "2021-04-15T21:42:33.633868Z"
    },
    "slideshow": {
     "slide_type": "slide"
    }
   },
   "outputs": [
    {
     "name": "stdout",
     "output_type": "stream",
     "text": [
      "<_io.TextIOWrapper name='archivo.csv' mode='w' encoding='UTF-8'>\n"
     ]
    }
   ],
   "source": [
    "import random\n",
    "\n",
    "with open(\n",
    "    'archivo.csv', 'w'\n",
    ") as archivo:  # Al usar esta sintaxis no es necesario hacer close\n",
    "    archivo.write(\"Alumno, nota\\n\")\n",
    "    # Tambien de forma similar al fprintf se puede hacer:\n",
    "    # print(\"Alumno, nota\\n\", file=archivo)\n",
    "    for i in range(0, 10):\n",
    "        archivo.write(f\"{i},{random.randrange(0,10)}\\n\")\n",
    "\n",
    "print(archivo)  # Comentario aclaratorio:\n",
    "# Las variables definidas en un determinado scope siguen existiendo por fuera del mismo.\n",
    "# Se debe tener cuidado con esto, ya que nada garantiza que por fuera el valor sea el esperado."
   ]
  },
  {
   "cell_type": "code",
   "execution_count": 91,
   "id": "9e7c72f8",
   "metadata": {
    "execution": {
     "iopub.execute_input": "2021-04-15T21:42:33.639448Z",
     "iopub.status.busy": "2021-04-15T21:42:33.638914Z",
     "iopub.status.idle": "2021-04-15T21:42:33.641511Z",
     "shell.execute_reply": "2021-04-15T21:42:33.641973Z"
    },
    "slideshow": {
     "slide_type": "slide"
    }
   },
   "outputs": [
    {
     "name": "stdout",
     "output_type": "stream",
     "text": [
      "Alumno, nota\n",
      "0,0\n",
      "1,8\n",
      "2,7\n",
      "3,8\n",
      "4,7\n",
      "5,4\n",
      "6,0\n",
      "7,2\n",
      "8,1\n",
      "9,9\n"
     ]
    }
   ],
   "source": [
    "with open('archivo.csv', 'r') as f:\n",
    "    for linea in f:\n",
    "        print(linea.strip())"
   ]
  },
  {
   "cell_type": "code",
   "execution_count": 92,
   "id": "fd2da63c",
   "metadata": {
    "execution": {
     "iopub.execute_input": "2021-04-15T21:42:33.646369Z",
     "iopub.status.busy": "2021-04-15T21:42:33.645788Z",
     "iopub.status.idle": "2021-04-15T21:42:33.648546Z",
     "shell.execute_reply": "2021-04-15T21:42:33.649026Z"
    }
   },
   "outputs": [
    {
     "name": "stdout",
     "output_type": "stream",
     "text": [
      "Alumno, nota\n",
      "0,0\n",
      "1,8\n",
      "2,7\n",
      "3,8\n",
      "4,7\n",
      "5,4\n",
      "6,0\n",
      "7,2\n",
      "8,1\n",
      "9,9\n",
      "\n"
     ]
    }
   ],
   "source": [
    "with open('archivo.csv', 'r') as f:\n",
    "    print(f.read())"
   ]
  },
  {
   "cell_type": "code",
   "execution_count": 93,
   "id": "aabcaba7",
   "metadata": {
    "execution": {
     "iopub.execute_input": "2021-04-15T21:42:33.653435Z",
     "iopub.status.busy": "2021-04-15T21:42:33.652434Z",
     "iopub.status.idle": "2021-04-15T21:42:33.654421Z",
     "shell.execute_reply": "2021-04-15T21:42:33.654907Z"
    }
   },
   "outputs": [],
   "source": [
    "f = open('archivo.csv', 'w')\n",
    "f.write(\"algo, algo\")\n",
    "f.close()"
   ]
  },
  {
   "cell_type": "markdown",
   "id": "3f8c0742",
   "metadata": {
    "slideshow": {
     "slide_type": "slide"
    }
   },
   "source": [
    "## Objetos\n",
    "\n",
    "Los objetos tienen metodos y atributos:\n",
    "- Atributos: equivalentes a variables.\n",
    "- Métodos: equivalentes a las primitivas."
   ]
  },
  {
   "cell_type": "markdown",
   "id": "92a9c29e",
   "metadata": {
    "slideshow": {
     "slide_type": "slide"
    }
   },
   "source": [
    "### Cómo creo una clase"
   ]
  },
  {
   "cell_type": "code",
   "execution_count": 94,
   "id": "7a12ea31",
   "metadata": {
    "execution": {
     "iopub.execute_input": "2021-04-15T21:42:33.661640Z",
     "iopub.status.busy": "2021-04-15T21:42:33.660383Z",
     "iopub.status.idle": "2021-04-15T21:42:33.662268Z",
     "shell.execute_reply": "2021-04-15T21:42:33.662744Z"
    },
    "slideshow": {
     "slide_type": "slide"
    }
   },
   "outputs": [],
   "source": [
    "class Nodo(object):\n",
    "    def __init__(self, dato, siguiente=None):\n",
    "        self._dato = dato\n",
    "        self._siguiente = siguiente\n",
    "\n",
    "    @property\n",
    "    def dato(self):\n",
    "        return self._dato\n",
    "\n",
    "    @property\n",
    "    def proximo(self):\n",
    "        return self._siguiente\n",
    "\n",
    "    @proximo.setter\n",
    "    def proximo(self, siguiente):\n",
    "        self._siguiente = siguiente\n",
    "\n",
    "    def __repr__(self):\n",
    "        return str(self.dato)\n",
    "\n",
    "    def __str__(self):\n",
    "        return str(self.dato)"
   ]
  },
  {
   "cell_type": "code",
   "execution_count": 95,
   "id": "1415e915",
   "metadata": {
    "execution": {
     "iopub.execute_input": "2021-04-15T21:42:33.667822Z",
     "iopub.status.busy": "2021-04-15T21:42:33.666392Z",
     "iopub.status.idle": "2021-04-15T21:42:33.670021Z",
     "shell.execute_reply": "2021-04-15T21:42:33.669422Z"
    },
    "slideshow": {
     "slide_type": "slide"
    }
   },
   "outputs": [
    {
     "name": "stdout",
     "output_type": "stream",
     "text": [
      "hola\n"
     ]
    }
   ],
   "source": [
    "nodo = Nodo(\"hola\")\n",
    "print(nodo)"
   ]
  },
  {
   "cell_type": "code",
   "execution_count": 96,
   "id": "81d926ed",
   "metadata": {
    "execution": {
     "iopub.execute_input": "2021-04-15T21:42:33.674954Z",
     "iopub.status.busy": "2021-04-15T21:42:33.673721Z",
     "iopub.status.idle": "2021-04-15T21:42:33.676825Z",
     "shell.execute_reply": "2021-04-15T21:42:33.676333Z"
    },
    "slideshow": {
     "slide_type": "slide"
    }
   },
   "outputs": [
    {
     "name": "stdout",
     "output_type": "stream",
     "text": [
      "[hola, lala]\n"
     ]
    }
   ],
   "source": [
    "nodo2 = Nodo(\"lala\")\n",
    "print([nodo, nodo2])"
   ]
  },
  {
   "cell_type": "code",
   "execution_count": 97,
   "id": "d78df52f",
   "metadata": {
    "execution": {
     "iopub.execute_input": "2021-04-15T21:42:33.681637Z",
     "iopub.status.busy": "2021-04-15T21:42:33.680402Z",
     "iopub.status.idle": "2021-04-15T21:42:33.683516Z",
     "shell.execute_reply": "2021-04-15T21:42:33.683030Z"
    },
    "slideshow": {
     "slide_type": "slide"
    }
   },
   "outputs": [
    {
     "name": "stdout",
     "output_type": "stream",
     "text": [
      "hola\n"
     ]
    }
   ],
   "source": [
    "nodo3 = nodo.dato\n",
    "print(nodo3)"
   ]
  },
  {
   "cell_type": "markdown",
   "id": "8a9a28d7",
   "metadata": {
    "slideshow": {
     "slide_type": "slide"
    }
   },
   "source": [
    "### Ejemplo: Lista Enlazada"
   ]
  },
  {
   "cell_type": "code",
   "execution_count": 98,
   "id": "c6703027",
   "metadata": {
    "execution": {
     "iopub.execute_input": "2021-04-15T21:42:33.692992Z",
     "iopub.status.busy": "2021-04-15T21:42:33.691157Z",
     "iopub.status.idle": "2021-04-15T21:42:33.695088Z",
     "shell.execute_reply": "2021-04-15T21:42:33.694557Z"
    },
    "slideshow": {
     "slide_type": "slide"
    }
   },
   "outputs": [],
   "source": [
    "class ListaEnlazada(object):\n",
    "    def __init__(self):\n",
    "        self._primero = None\n",
    "        self._ultimo = None\n",
    "        self._largo = 0\n",
    "\n",
    "    def __len__(self):\n",
    "        return self._largo\n",
    "\n",
    "    def insertar_al_principio(self, dato):\n",
    "        nodo = Nodo(dato, self._primero)\n",
    "        self._primero = nodo\n",
    "        self._largo += 1\n",
    "        if self._largo == 1:\n",
    "            self._ultimo = nodo\n",
    "\n",
    "    def insertar_al_final(self, dato):\n",
    "        if self._largo != 0:\n",
    "            nodo = Nodo(dato)\n",
    "            nodo_anterior = self._ultimo\n",
    "            nodo_anterior._siguiente = nodo\n",
    "            self._ultimo = nodo\n",
    "            self._largo += 1\n",
    "        else:\n",
    "            self.insertar_al_principio(dato)\n",
    "\n",
    "    @property\n",
    "    def primero(self):\n",
    "        return self._primero.dato\n",
    "\n",
    "    def borrar_primero(self):\n",
    "        dato = self.primero.dato\n",
    "        self._primero = self.primero.siguiente\n",
    "        self._largo -= 1\n",
    "        if self._largo == 0:\n",
    "            self._ultimo = None\n",
    "        return dato\n",
    "\n",
    "    def __str__(self):\n",
    "        datos = []\n",
    "        nodo_actual = self._primero\n",
    "        while nodo_actual:\n",
    "            datos.append(nodo_actual.dato)\n",
    "            nodo_actual = nodo_actual.proximo\n",
    "        return \" -> \".join(datos)\n",
    "\n",
    "    def __repr__(self):\n",
    "        return self.__str__()"
   ]
  },
  {
   "cell_type": "code",
   "execution_count": 99,
   "id": "e27fd366",
   "metadata": {
    "execution": {
     "iopub.execute_input": "2021-04-15T21:42:33.700525Z",
     "iopub.status.busy": "2021-04-15T21:42:33.699548Z",
     "iopub.status.idle": "2021-04-15T21:42:33.703090Z",
     "shell.execute_reply": "2021-04-15T21:42:33.702595Z"
    },
    "slideshow": {
     "slide_type": "slide"
    }
   },
   "outputs": [
    {
     "data": {
      "text/plain": [
       "2"
      ]
     },
     "execution_count": 1,
     "metadata": {},
     "output_type": "execute_result"
    }
   ],
   "source": [
    "lista = ListaEnlazada()\n",
    "lista.insertar_al_principio(\"Primer Dato\")\n",
    "lista.insertar_al_principio(\"Primer primer Dato\")\n",
    "len(lista)"
   ]
  },
  {
   "cell_type": "code",
   "execution_count": 100,
   "id": "2edee208",
   "metadata": {
    "execution": {
     "iopub.execute_input": "2021-04-15T21:42:33.707405Z",
     "iopub.status.busy": "2021-04-15T21:42:33.706831Z",
     "iopub.status.idle": "2021-04-15T21:42:33.709924Z",
     "shell.execute_reply": "2021-04-15T21:42:33.710376Z"
    }
   },
   "outputs": [
    {
     "data": {
      "text/plain": [
       "Primer primer Dato -> Primer Dato"
      ]
     },
     "execution_count": 1,
     "metadata": {},
     "output_type": "execute_result"
    }
   ],
   "source": [
    "lista"
   ]
  },
  {
   "cell_type": "code",
   "execution_count": 101,
   "id": "d0feb453",
   "metadata": {
    "execution": {
     "iopub.execute_input": "2021-04-15T21:42:33.715240Z",
     "iopub.status.busy": "2021-04-15T21:42:33.713968Z",
     "iopub.status.idle": "2021-04-15T21:42:33.717071Z",
     "shell.execute_reply": "2021-04-15T21:42:33.716586Z"
    },
    "slideshow": {
     "slide_type": "slide"
    }
   },
   "outputs": [
    {
     "name": "stdout",
     "output_type": "stream",
     "text": [
      "Primer primer Dato\n"
     ]
    }
   ],
   "source": [
    "elemento = lista.primero\n",
    "print(elemento)"
   ]
  },
  {
   "cell_type": "markdown",
   "id": "24854bf7",
   "metadata": {},
   "source": [
    "## Recursos\n",
    "\n",
    "* [Taller de Python de Algoritmos II](https://github.com/algoritmos-rw/algo2_apuntes)\n",
    "\n",
    "* [Documentación de Python 3](https://docs.python.org/3/tutorial/)\n",
    "\n",
    "* [Apunte de Algoritmos y Programación I](https://algoritmos1rw.ddns.net/material)\n",
    "\n",
    "* [Automate the Boring Stuff with Python](http://automatetheboringstuff.com/)\n",
    "\n",
    "* [Curso Python](https://pythoncurso.github.io)\n",
    "\n",
    "* [Python Tutor](http://pythontutor.com/)\n",
    "\n",
    "* [Learn Python3 in Y minutes](https://learnxinyminutes.com/docs/python3/)\n",
    "\n",
    "* [Bibliografía de Algoritmos y Programación I](https://algoritmos1rw.ddns.net/bibliografia)"
   ]
  }
 ],
 "metadata": {
  "jupytext": {
   "encoding": "# -*- coding: utf-8 -*-",
   "formats": "ipynb,py:light"
  },
  "kernelspec": {
   "display_name": "Python 3 (venv)",
   "language": "python",
   "name": "python3"
  },
  "language_info": {
   "codemirror_mode": {
    "name": "ipython",
    "version": 3
   },
   "file_extension": ".py",
   "mimetype": "text/x-python",
   "name": "python",
   "nbconvert_exporter": "python",
   "pygments_lexer": "ipython3",
   "version": "3.7.10"
  }
 },
 "nbformat": 4,
 "nbformat_minor": 5
}
