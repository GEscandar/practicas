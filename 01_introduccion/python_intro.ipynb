{
 "cells": [
  {
   "cell_type": "markdown",
   "id": "dc46f863",
   "metadata": {},
   "source": [
    "# Python"
   ]
  },
  {
   "cell_type": "markdown",
   "id": "f9776fc1",
   "metadata": {
    "slideshow": {
     "slide_type": "slide"
    }
   },
   "source": [
    "## Un poco de Historia"
   ]
  },
  {
   "cell_type": "markdown",
   "id": "c191f844",
   "metadata": {
    "slideshow": {
     "slide_type": "subslide"
    }
   },
   "source": [
    "Python fue creado a finales de los años 80 por un programador holandés llamado **Guido van Rossum**,\n",
    "quien sigue siendo aún hoy el líder del desarrollo del lenguaje.\n",
    "\n",
    "(Edit julio 2018: [ya no más](https://www.mail-archive.com/python-committers@python.org/msg05628.html))"
   ]
  },
  {
   "cell_type": "markdown",
   "id": "1e858545",
   "metadata": {
    "slideshow": {
     "slide_type": "subslide"
    }
   },
   "source": [
    "El nombre del lenguaje proviene de los humoristas británicos Monty Python.\n",
    "\n",
    ">*\"I chose Python as a working title for the project, being in a slightly irreverent mood (and a big fan of Monty Python's Flying Circus).\"*"
   ]
  },
  {
   "cell_type": "markdown",
   "id": "6a09c581",
   "metadata": {
    "slideshow": {
     "slide_type": "slide"
    }
   },
   "source": [
    "## Caracteristicas\n",
    "\n",
    "- Interpretado\n",
    "- Tipado dinamico\n",
    "- Multiparadigma\n",
    "- Alto nivel\n",
    "- Tiene un recolector de basura (no hay malloc, free, realloc, etc)"
   ]
  },
  {
   "cell_type": "markdown",
   "id": "c7e96346",
   "metadata": {},
   "source": [
    "## ¿Cómo empezar?\n",
    "\n",
    "* Al ser un lenguaje *interpretado*, se puede ir escribiendo a medida que se ejecuta, sin necesidad de compilar de antemano! Solamente hace falta escribir `python` o `python3` en una terminal para empezar\n",
    "\n",
    "* También, permite escribir archivos y correrlos. Crear un archivo con extensión `.py` y luego correr `python miarchivo.py` en laterminal"
   ]
  },
  {
   "cell_type": "markdown",
   "id": "ae3c33e5",
   "metadata": {
    "slideshow": {
     "slide_type": "slide"
    }
   },
   "source": [
    "## El Zen de Python"
   ]
  },
  {
   "cell_type": "code",
   "execution_count": 1,
   "id": "7d64dad5",
   "metadata": {
    "execution": {
     "iopub.execute_input": "2021-05-28T01:21:15.448103Z",
     "iopub.status.busy": "2021-05-28T01:21:15.447616Z",
     "iopub.status.idle": "2021-05-28T01:21:15.478185Z",
     "shell.execute_reply": "2021-05-28T01:21:15.478620Z"
    },
    "slideshow": {
     "slide_type": "slide"
    }
   },
   "outputs": [
    {
     "name": "stdout",
     "output_type": "stream",
     "text": [
      "The Zen of Python, by Tim Peters\n",
      "\n",
      "Beautiful is better than ugly.\n",
      "Explicit is better than implicit.\n",
      "Simple is better than complex.\n",
      "Complex is better than complicated.\n",
      "Flat is better than nested.\n",
      "Sparse is better than dense.\n",
      "Readability counts.\n",
      "Special cases aren't special enough to break the rules.\n",
      "Although practicality beats purity.\n",
      "Errors should never pass silently.\n",
      "Unless explicitly silenced.\n",
      "In the face of ambiguity, refuse the temptation to guess.\n",
      "There should be one-- and preferably only one --obvious way to do it.\n",
      "Although that way may not be obvious at first unless you're Dutch.\n",
      "Now is better than never.\n",
      "Although never is often better than *right* now.\n",
      "If the implementation is hard to explain, it's a bad idea.\n",
      "If the implementation is easy to explain, it may be a good idea.\n",
      "Namespaces are one honking great idea -- let's do more of those!\n"
     ]
    }
   ],
   "source": [
    "import this"
   ]
  },
  {
   "cell_type": "markdown",
   "id": "e9071d45",
   "metadata": {
    "slideshow": {
     "slide_type": "slide"
    }
   },
   "source": [
    "## Conocimientos Básicos de Python: Variables y Tipos"
   ]
  },
  {
   "cell_type": "code",
   "execution_count": 2,
   "id": "7f97fffe",
   "metadata": {
    "execution": {
     "iopub.execute_input": "2021-05-28T01:21:15.482867Z",
     "iopub.status.busy": "2021-05-28T01:21:15.481996Z",
     "iopub.status.idle": "2021-05-28T01:21:15.484059Z",
     "shell.execute_reply": "2021-05-28T01:21:15.484444Z"
    },
    "slideshow": {
     "slide_type": "slide"
    }
   },
   "outputs": [
    {
     "name": "stdout",
     "output_type": "stream",
     "text": [
      "Hello World!\n"
     ]
    }
   ],
   "source": [
    "# Este es un comentario\n",
    "\n",
    "print(\"Hello World!\")"
   ]
  },
  {
   "cell_type": "markdown",
   "id": "8c84729b",
   "metadata": {},
   "source": [
    "Los strings en python puden escribirse tanto con comillas simples (`'`) como comillas dobles (`\"`). Normalmente vemos texto entre comillas triples para escribir _docstrings_, segun la guia de estilo de Python, el PEP8."
   ]
  },
  {
   "cell_type": "code",
   "execution_count": 3,
   "id": "ecaef468",
   "metadata": {
    "execution": {
     "iopub.execute_input": "2021-05-28T01:21:15.493181Z",
     "iopub.status.busy": "2021-05-28T01:21:15.491511Z",
     "iopub.status.idle": "2021-05-28T01:21:15.495145Z",
     "shell.execute_reply": "2021-05-28T01:21:15.495531Z"
    }
   },
   "outputs": [
    {
     "data": {
      "text/plain": [
       "'Esto es un docstring.\\n'"
      ]
     },
     "execution_count": 1,
     "metadata": {},
     "output_type": "execute_result"
    }
   ],
   "source": [
    "\"\"\"Esto es un docstring.\n",
    "\"\"\""
   ]
  },
  {
   "cell_type": "markdown",
   "id": "2e1252f6",
   "metadata": {},
   "source": [
    "### Declaracion de variables"
   ]
  },
  {
   "cell_type": "code",
   "execution_count": 4,
   "id": "73e965f3",
   "metadata": {
    "execution": {
     "iopub.execute_input": "2021-05-28T01:21:15.499886Z",
     "iopub.status.busy": "2021-05-28T01:21:15.499000Z",
     "iopub.status.idle": "2021-05-28T01:21:15.501669Z",
     "shell.execute_reply": "2021-05-28T01:21:15.501266Z"
    }
   },
   "outputs": [
    {
     "name": "stdout",
     "output_type": "stream",
     "text": [
      "Hola\n"
     ]
    }
   ],
   "source": [
    "string = 'Hola'\n",
    "print(string)"
   ]
  },
  {
   "cell_type": "code",
   "execution_count": 5,
   "id": "f7ee74f3",
   "metadata": {
    "execution": {
     "iopub.execute_input": "2021-05-28T01:21:15.505796Z",
     "iopub.status.busy": "2021-05-28T01:21:15.504852Z",
     "iopub.status.idle": "2021-05-28T01:21:15.507437Z",
     "shell.execute_reply": "2021-05-28T01:21:15.507016Z"
    }
   },
   "outputs": [
    {
     "name": "stdout",
     "output_type": "stream",
     "text": [
      "1\n"
     ]
    }
   ],
   "source": [
    "entero = 1\n",
    "print(entero)"
   ]
  },
  {
   "cell_type": "code",
   "execution_count": 6,
   "id": "b303189b",
   "metadata": {
    "execution": {
     "iopub.execute_input": "2021-05-28T01:21:15.511091Z",
     "iopub.status.busy": "2021-05-28T01:21:15.510597Z",
     "iopub.status.idle": "2021-05-28T01:21:15.512226Z",
     "shell.execute_reply": "2021-05-28T01:21:15.512608Z"
    }
   },
   "outputs": [
    {
     "name": "stdout",
     "output_type": "stream",
     "text": [
      "1.0\n"
     ]
    }
   ],
   "source": [
    "flotante = 1.0\n",
    "print(flotante)"
   ]
  },
  {
   "cell_type": "code",
   "execution_count": 7,
   "id": "4923085f",
   "metadata": {
    "execution": {
     "iopub.execute_input": "2021-05-28T01:21:15.515892Z",
     "iopub.status.busy": "2021-05-28T01:21:15.515400Z",
     "iopub.status.idle": "2021-05-28T01:21:15.517258Z",
     "shell.execute_reply": "2021-05-28T01:21:15.517643Z"
    }
   },
   "outputs": [
    {
     "name": "stdout",
     "output_type": "stream",
     "text": [
      "(1, 1.0)\n"
     ]
    }
   ],
   "source": [
    "tupla = (entero, flotante)\n",
    "print(tupla)"
   ]
  },
  {
   "cell_type": "code",
   "execution_count": 8,
   "id": "806c9970",
   "metadata": {
    "execution": {
     "iopub.execute_input": "2021-05-28T01:21:15.521276Z",
     "iopub.status.busy": "2021-05-28T01:21:15.520780Z",
     "iopub.status.idle": "2021-05-28T01:21:15.522384Z",
     "shell.execute_reply": "2021-05-28T01:21:15.522765Z"
    }
   },
   "outputs": [
    {
     "name": "stdout",
     "output_type": "stream",
     "text": [
      "(1, 1.0, 'Hola')\n"
     ]
    }
   ],
   "source": [
    "nupla = (entero, flotante, string)\n",
    "print(nupla)"
   ]
  },
  {
   "cell_type": "code",
   "execution_count": 9,
   "id": "55c0b538",
   "metadata": {
    "execution": {
     "iopub.execute_input": "2021-05-28T01:21:15.526531Z",
     "iopub.status.busy": "2021-05-28T01:21:15.526056Z",
     "iopub.status.idle": "2021-05-28T01:21:15.527648Z",
     "shell.execute_reply": "2021-05-28T01:21:15.528054Z"
    }
   },
   "outputs": [
    {
     "name": "stdout",
     "output_type": "stream",
     "text": [
      "[1, 1.0, 'Hola']\n"
     ]
    }
   ],
   "source": [
    "lista = [entero, flotante, string]\n",
    "print(lista)"
   ]
  },
  {
   "cell_type": "code",
   "execution_count": 10,
   "id": "9aa739e5",
   "metadata": {
    "execution": {
     "iopub.execute_input": "2021-05-28T01:21:15.531476Z",
     "iopub.status.busy": "2021-05-28T01:21:15.531003Z",
     "iopub.status.idle": "2021-05-28T01:21:15.532823Z",
     "shell.execute_reply": "2021-05-28T01:21:15.533209Z"
    }
   },
   "outputs": [
    {
     "name": "stdout",
     "output_type": "stream",
     "text": [
      "{'1': (1, 1.0), 50: (1, 1.0, 'Hola'), '3': 1}\n"
     ]
    }
   ],
   "source": [
    "diccionario = {'1': tupla, 50: nupla, '3': entero}\n",
    "print(diccionario)"
   ]
  },
  {
   "cell_type": "code",
   "execution_count": 11,
   "id": "e63b7c4c",
   "metadata": {
    "execution": {
     "iopub.execute_input": "2021-05-28T01:21:15.536592Z",
     "iopub.status.busy": "2021-05-28T01:21:15.536116Z",
     "iopub.status.idle": "2021-05-28T01:21:15.537833Z",
     "shell.execute_reply": "2021-05-28T01:21:15.538246Z"
    }
   },
   "outputs": [
    {
     "name": "stdout",
     "output_type": "stream",
     "text": [
      "{1, 2}\n"
     ]
    }
   ],
   "source": [
    "conjunto = set([1, 2])\n",
    "print(conjunto)"
   ]
  },
  {
   "cell_type": "code",
   "execution_count": 12,
   "id": "9069b80c",
   "metadata": {
    "execution": {
     "iopub.execute_input": "2021-05-28T01:21:15.541361Z",
     "iopub.status.busy": "2021-05-28T01:21:15.540891Z",
     "iopub.status.idle": "2021-05-28T01:21:15.542678Z",
     "shell.execute_reply": "2021-05-28T01:21:15.543067Z"
    }
   },
   "outputs": [
    {
     "name": "stdout",
     "output_type": "stream",
     "text": [
      "True\n"
     ]
    }
   ],
   "source": [
    "booleano = True\n",
    "print(booleano)"
   ]
  },
  {
   "cell_type": "code",
   "execution_count": 13,
   "id": "aafacb71",
   "metadata": {
    "execution": {
     "iopub.execute_input": "2021-05-28T01:21:15.546311Z",
     "iopub.status.busy": "2021-05-28T01:21:15.545842Z",
     "iopub.status.idle": "2021-05-28T01:21:15.547649Z",
     "shell.execute_reply": "2021-05-28T01:21:15.548054Z"
    }
   },
   "outputs": [
    {
     "name": "stdout",
     "output_type": "stream",
     "text": [
      "None\n"
     ]
    }
   ],
   "source": [
    "nada = None\n",
    "print(nada)"
   ]
  },
  {
   "cell_type": "markdown",
   "id": "2e33dcf6",
   "metadata": {},
   "source": [
    "Ojo que las variables pueden cambiar de tipo!"
   ]
  },
  {
   "cell_type": "code",
   "execution_count": 14,
   "id": "883fb59a",
   "metadata": {
    "execution": {
     "iopub.execute_input": "2021-05-28T01:21:15.551555Z",
     "iopub.status.busy": "2021-05-28T01:21:15.551076Z",
     "iopub.status.idle": "2021-05-28T01:21:15.552912Z",
     "shell.execute_reply": "2021-05-28T01:21:15.553300Z"
    }
   },
   "outputs": [
    {
     "name": "stdout",
     "output_type": "stream",
     "text": [
      "1\n",
      "<class 'int'>\n"
     ]
    }
   ],
   "source": [
    "elemento = 1\n",
    "print(elemento)\n",
    "print(type(elemento))"
   ]
  },
  {
   "cell_type": "code",
   "execution_count": 15,
   "id": "58bc19bb",
   "metadata": {
    "execution": {
     "iopub.execute_input": "2021-05-28T01:21:15.556784Z",
     "iopub.status.busy": "2021-05-28T01:21:15.556305Z",
     "iopub.status.idle": "2021-05-28T01:21:15.558130Z",
     "shell.execute_reply": "2021-05-28T01:21:15.558518Z"
    }
   },
   "outputs": [
    {
     "name": "stdout",
     "output_type": "stream",
     "text": [
      "1\n",
      "<class 'str'>\n"
     ]
    }
   ],
   "source": [
    "elemento = str(1)\n",
    "print(elemento)\n",
    "print(type(elemento))"
   ]
  },
  {
   "cell_type": "code",
   "execution_count": 16,
   "id": "8b36b377",
   "metadata": {
    "execution": {
     "iopub.execute_input": "2021-05-28T01:21:15.561952Z",
     "iopub.status.busy": "2021-05-28T01:21:15.561480Z",
     "iopub.status.idle": "2021-05-28T01:21:15.563648Z",
     "shell.execute_reply": "2021-05-28T01:21:15.563206Z"
    }
   },
   "outputs": [
    {
     "name": "stdout",
     "output_type": "stream",
     "text": [
      "[2]\n",
      "<class 'list'>\n"
     ]
    }
   ],
   "source": [
    "elemento = [2]\n",
    "\n",
    "print(elemento)\n",
    "print(type(elemento))"
   ]
  },
  {
   "cell_type": "markdown",
   "id": "124350b8",
   "metadata": {},
   "source": [
    "### Tipos basicos"
   ]
  },
  {
   "cell_type": "markdown",
   "id": "edf0df2e",
   "metadata": {
    "slideshow": {
     "slide_type": "slide"
    }
   },
   "source": [
    "#### Listas de Python"
   ]
  },
  {
   "cell_type": "code",
   "execution_count": 17,
   "id": "0cc1d814",
   "metadata": {
    "execution": {
     "iopub.execute_input": "2021-05-28T01:21:15.566887Z",
     "iopub.status.busy": "2021-05-28T01:21:15.566410Z",
     "iopub.status.idle": "2021-05-28T01:21:15.569079Z",
     "shell.execute_reply": "2021-05-28T01:21:15.568658Z"
    }
   },
   "outputs": [
    {
     "data": {
      "text/plain": [
       "[]"
      ]
     },
     "execution_count": 1,
     "metadata": {},
     "output_type": "execute_result"
    }
   ],
   "source": [
    "lista = list()\n",
    "lista"
   ]
  },
  {
   "cell_type": "code",
   "execution_count": 18,
   "id": "badc1c57",
   "metadata": {
    "execution": {
     "iopub.execute_input": "2021-05-28T01:21:15.572334Z",
     "iopub.status.busy": "2021-05-28T01:21:15.571838Z",
     "iopub.status.idle": "2021-05-28T01:21:15.574997Z",
     "shell.execute_reply": "2021-05-28T01:21:15.574578Z"
    },
    "slideshow": {
     "slide_type": "slide"
    }
   },
   "outputs": [
    {
     "data": {
      "text/plain": [
       "[]"
      ]
     },
     "execution_count": 1,
     "metadata": {},
     "output_type": "execute_result"
    }
   ],
   "source": [
    "lista = []\n",
    "lista"
   ]
  },
  {
   "cell_type": "code",
   "execution_count": 19,
   "id": "8a5776c1",
   "metadata": {
    "execution": {
     "iopub.execute_input": "2021-05-28T01:21:15.578252Z",
     "iopub.status.busy": "2021-05-28T01:21:15.577782Z",
     "iopub.status.idle": "2021-05-28T01:21:15.580491Z",
     "shell.execute_reply": "2021-05-28T01:21:15.580070Z"
    },
    "slideshow": {
     "slide_type": "slide"
    }
   },
   "outputs": [
    {
     "data": {
      "text/plain": [
       "[1, 2, 3, 4]"
      ]
     },
     "execution_count": 1,
     "metadata": {},
     "output_type": "execute_result"
    }
   ],
   "source": [
    "lista = [1, 2, 3, 4]\n",
    "lista"
   ]
  },
  {
   "cell_type": "code",
   "execution_count": 20,
   "id": "700e310d",
   "metadata": {
    "execution": {
     "iopub.execute_input": "2021-05-28T01:21:15.584116Z",
     "iopub.status.busy": "2021-05-28T01:21:15.583618Z",
     "iopub.status.idle": "2021-05-28T01:21:15.586309Z",
     "shell.execute_reply": "2021-05-28T01:21:15.585889Z"
    },
    "slideshow": {
     "slide_type": "slide"
    }
   },
   "outputs": [
    {
     "data": {
      "text/plain": [
       "[1, 2, 3, 4, 1, 'dos', 3.0]"
      ]
     },
     "execution_count": 1,
     "metadata": {},
     "output_type": "execute_result"
    }
   ],
   "source": [
    "lista.append(1)  # Inserto un 1 al final\n",
    "lista.append(\"dos\")  # Inserto un \"dos\" al final\n",
    "lista.append(3.0)  # Inserto un 3.0 al final\n",
    "lista"
   ]
  },
  {
   "cell_type": "code",
   "execution_count": 21,
   "id": "c89583eb",
   "metadata": {
    "execution": {
     "iopub.execute_input": "2021-05-28T01:21:15.589500Z",
     "iopub.status.busy": "2021-05-28T01:21:15.589032Z",
     "iopub.status.idle": "2021-05-28T01:21:15.591144Z",
     "shell.execute_reply": "2021-05-28T01:21:15.590638Z"
    }
   },
   "outputs": [
    {
     "name": "stdout",
     "output_type": "stream",
     "text": [
      "[1, 2, 10, 3, 4, 1, 'dos', 3.0]\n"
     ]
    }
   ],
   "source": [
    "lista.insert(2, 10)  # Inserto en posicion 2 un 10\n",
    "print(lista)"
   ]
  },
  {
   "cell_type": "code",
   "execution_count": 22,
   "id": "d2f50b43",
   "metadata": {
    "execution": {
     "iopub.execute_input": "2021-05-28T01:21:15.594241Z",
     "iopub.status.busy": "2021-05-28T01:21:15.593691Z",
     "iopub.status.idle": "2021-05-28T01:21:15.595872Z",
     "shell.execute_reply": "2021-05-28T01:21:15.596250Z"
    }
   },
   "outputs": [
    {
     "data": {
      "text/plain": [
       "8"
      ]
     },
     "execution_count": 1,
     "metadata": {},
     "output_type": "execute_result"
    }
   ],
   "source": [
    "len(lista)"
   ]
  },
  {
   "cell_type": "code",
   "execution_count": 23,
   "id": "45afceb1",
   "metadata": {
    "execution": {
     "iopub.execute_input": "2021-05-28T01:21:15.599350Z",
     "iopub.status.busy": "2021-05-28T01:21:15.598881Z",
     "iopub.status.idle": "2021-05-28T01:21:15.601570Z",
     "shell.execute_reply": "2021-05-28T01:21:15.601148Z"
    }
   },
   "outputs": [
    {
     "data": {
      "text/plain": [
       "3.0"
      ]
     },
     "execution_count": 1,
     "metadata": {},
     "output_type": "execute_result"
    }
   ],
   "source": [
    "lista.pop()"
   ]
  },
  {
   "cell_type": "code",
   "execution_count": 24,
   "id": "8c81eb4e",
   "metadata": {
    "execution": {
     "iopub.execute_input": "2021-05-28T01:21:15.604723Z",
     "iopub.status.busy": "2021-05-28T01:21:15.604255Z",
     "iopub.status.idle": "2021-05-28T01:21:15.608203Z",
     "shell.execute_reply": "2021-05-28T01:21:15.607761Z"
    }
   },
   "outputs": [
    {
     "data": {
      "text/plain": [
       "[1, 2, 10, 3, 4, 1, 'dos']"
      ]
     },
     "execution_count": 1,
     "metadata": {},
     "output_type": "execute_result"
    }
   ],
   "source": [
    "lista"
   ]
  },
  {
   "cell_type": "code",
   "execution_count": 25,
   "id": "fb177c8a",
   "metadata": {
    "execution": {
     "iopub.execute_input": "2021-05-28T01:21:15.611350Z",
     "iopub.status.busy": "2021-05-28T01:21:15.610876Z",
     "iopub.status.idle": "2021-05-28T01:21:15.615387Z",
     "shell.execute_reply": "2021-05-28T01:21:15.614989Z"
    }
   },
   "outputs": [
    {
     "data": {
      "text/plain": [
       "2"
      ]
     },
     "execution_count": 1,
     "metadata": {},
     "output_type": "execute_result"
    }
   ],
   "source": [
    "lista.index(10)"
   ]
  },
  {
   "cell_type": "code",
   "execution_count": 26,
   "id": "784bf108",
   "metadata": {
    "execution": {
     "iopub.execute_input": "2021-05-28T01:21:15.618675Z",
     "iopub.status.busy": "2021-05-28T01:21:15.618204Z",
     "iopub.status.idle": "2021-05-28T01:21:15.622803Z",
     "shell.execute_reply": "2021-05-28T01:21:15.622378Z"
    }
   },
   "outputs": [
    {
     "data": {
      "text/plain": [
       "[1, 2, 3, 4, 1, 'dos']"
      ]
     },
     "execution_count": 1,
     "metadata": {},
     "output_type": "execute_result"
    }
   ],
   "source": [
    "lista.remove(10)\n",
    "lista"
   ]
  },
  {
   "cell_type": "code",
   "execution_count": 27,
   "id": "9bd2d523",
   "metadata": {
    "execution": {
     "iopub.execute_input": "2021-05-28T01:21:15.633480Z",
     "iopub.status.busy": "2021-05-28T01:21:15.625260Z",
     "iopub.status.idle": "2021-05-28T01:21:15.678393Z",
     "shell.execute_reply": "2021-05-28T01:21:15.678872Z"
    },
    "tags": [
     "raises-exception"
    ]
   },
   "outputs": [
    {
     "name": "stdout",
     "output_type": "stream",
     "text": [
      "1\n",
      "2\n",
      "2\n",
      "3\n",
      "3\n",
      "4\n",
      "4\n",
      "5\n",
      "1\n",
      "2\n",
      "dos\n"
     ]
    },
    {
     "ename": "TypeError",
     "evalue": "can only concatenate str (not \"int\") to str",
     "output_type": "error",
     "traceback": [
      "\u001b[0;31m---------------------------------------------------------------------------\u001b[0m",
      "\u001b[0;31mTypeError\u001b[0m                                 Traceback (most recent call last)",
      "\u001b[0;32m<ipython-input-1-41b56d5cf080>\u001b[0m in \u001b[0;36m<module>\u001b[0;34m\u001b[0m\n\u001b[1;32m      1\u001b[0m \u001b[0;32mfor\u001b[0m \u001b[0melemento\u001b[0m \u001b[0;32min\u001b[0m \u001b[0mlista\u001b[0m\u001b[0;34m:\u001b[0m\u001b[0;34m\u001b[0m\u001b[0;34m\u001b[0m\u001b[0m\n\u001b[1;32m      2\u001b[0m     \u001b[0mprint\u001b[0m\u001b[0;34m(\u001b[0m\u001b[0melemento\u001b[0m\u001b[0;34m)\u001b[0m\u001b[0;34m\u001b[0m\u001b[0;34m\u001b[0m\u001b[0m\n\u001b[0;32m----> 3\u001b[0;31m     \u001b[0mprint\u001b[0m\u001b[0;34m(\u001b[0m\u001b[0melemento\u001b[0m \u001b[0;34m+\u001b[0m \u001b[0;36m1\u001b[0m\u001b[0;34m)\u001b[0m\u001b[0;34m\u001b[0m\u001b[0;34m\u001b[0m\u001b[0m\n\u001b[0m",
      "\u001b[0;31mTypeError\u001b[0m: can only concatenate str (not \"int\") to str"
     ]
    }
   ],
   "source": [
    "for elemento in lista:\n",
    "    print(elemento)\n",
    "    print(elemento + 1)"
   ]
  },
  {
   "cell_type": "code",
   "execution_count": 28,
   "id": "e1c43748",
   "metadata": {
    "execution": {
     "iopub.execute_input": "2021-05-28T01:21:15.683067Z",
     "iopub.status.busy": "2021-05-28T01:21:15.682570Z",
     "iopub.status.idle": "2021-05-28T01:21:15.684905Z",
     "shell.execute_reply": "2021-05-28T01:21:15.685288Z"
    }
   },
   "outputs": [
    {
     "data": {
      "text/plain": [
       "[1, 2, 3, 4, 1, 'dos']"
      ]
     },
     "execution_count": 1,
     "metadata": {},
     "output_type": "execute_result"
    }
   ],
   "source": [
    "lista"
   ]
  },
  {
   "cell_type": "code",
   "execution_count": 29,
   "id": "2192768f",
   "metadata": {
    "execution": {
     "iopub.execute_input": "2021-05-28T01:21:15.690031Z",
     "iopub.status.busy": "2021-05-28T01:21:15.689059Z",
     "iopub.status.idle": "2021-05-28T01:21:15.691721Z",
     "shell.execute_reply": "2021-05-28T01:21:15.691308Z"
    }
   },
   "outputs": [
    {
     "name": "stdout",
     "output_type": "stream",
     "text": [
      "0-ésimo elemento: 1\n",
      "1-ésimo elemento: 2\n",
      "2-ésimo elemento: 3\n",
      "3-ésimo elemento: 4\n",
      "4-ésimo elemento: 1\n",
      "5-ésimo elemento: dos\n"
     ]
    }
   ],
   "source": [
    "for i, elemento in enumerate(lista):\n",
    "    print(f\"{i}-ésimo elemento: {elemento}\")"
   ]
  },
  {
   "cell_type": "code",
   "execution_count": 30,
   "id": "5912c4e3",
   "metadata": {
    "execution": {
     "iopub.execute_input": "2021-05-28T01:21:15.697403Z",
     "iopub.status.busy": "2021-05-28T01:21:15.696910Z",
     "iopub.status.idle": "2021-05-28T01:21:15.699143Z",
     "shell.execute_reply": "2021-05-28T01:21:15.699542Z"
    },
    "tags": [
     "raises-exception"
    ]
   },
   "outputs": [
    {
     "ename": "TypeError",
     "evalue": "'<' not supported between instances of 'str' and 'int'",
     "output_type": "error",
     "traceback": [
      "\u001b[0;31m---------------------------------------------------------------------------\u001b[0m",
      "\u001b[0;31mTypeError\u001b[0m                                 Traceback (most recent call last)",
      "\u001b[0;32m<ipython-input-1-06c3f264dc7a>\u001b[0m in \u001b[0;36m<module>\u001b[0;34m\u001b[0m\n\u001b[0;32m----> 1\u001b[0;31m \u001b[0msorted\u001b[0m\u001b[0;34m(\u001b[0m\u001b[0mlista\u001b[0m\u001b[0;34m)\u001b[0m\u001b[0;34m\u001b[0m\u001b[0;34m\u001b[0m\u001b[0m\n\u001b[0m",
      "\u001b[0;31mTypeError\u001b[0m: '<' not supported between instances of 'str' and 'int'"
     ]
    }
   ],
   "source": [
    "sorted(lista)"
   ]
  },
  {
   "cell_type": "code",
   "execution_count": 31,
   "id": "406bcc87",
   "metadata": {
    "execution": {
     "iopub.execute_input": "2021-05-28T01:21:15.703302Z",
     "iopub.status.busy": "2021-05-28T01:21:15.702229Z",
     "iopub.status.idle": "2021-05-28T01:21:15.703949Z",
     "shell.execute_reply": "2021-05-28T01:21:15.704341Z"
    }
   },
   "outputs": [],
   "source": [
    "lista.remove(\"dos\")"
   ]
  },
  {
   "cell_type": "code",
   "execution_count": 32,
   "id": "7b7e6369",
   "metadata": {
    "execution": {
     "iopub.execute_input": "2021-05-28T01:21:15.708201Z",
     "iopub.status.busy": "2021-05-28T01:21:15.707691Z",
     "iopub.status.idle": "2021-05-28T01:21:15.710134Z",
     "shell.execute_reply": "2021-05-28T01:21:15.710527Z"
    }
   },
   "outputs": [
    {
     "data": {
      "text/plain": [
       "[1, 1, 2, 3, 4]"
      ]
     },
     "execution_count": 1,
     "metadata": {},
     "output_type": "execute_result"
    }
   ],
   "source": [
    "sorted(lista)"
   ]
  },
  {
   "cell_type": "code",
   "execution_count": 33,
   "id": "d4c7742a",
   "metadata": {
    "execution": {
     "iopub.execute_input": "2021-05-28T01:21:15.714360Z",
     "iopub.status.busy": "2021-05-28T01:21:15.713873Z",
     "iopub.status.idle": "2021-05-28T01:21:15.716307Z",
     "shell.execute_reply": "2021-05-28T01:21:15.716694Z"
    }
   },
   "outputs": [
    {
     "data": {
      "text/plain": [
       "[1, 1, 2, 3, 4]"
      ]
     },
     "execution_count": 1,
     "metadata": {},
     "output_type": "execute_result"
    }
   ],
   "source": [
    "lista.sort()\n",
    "lista"
   ]
  },
  {
   "cell_type": "markdown",
   "id": "698ed843",
   "metadata": {
    "slideshow": {
     "slide_type": "slide"
    }
   },
   "source": [
    "#### Tuplas de Python\n",
    "\n",
    "Las tuplas son inmutables. No se pueden agregar elementos luego de creadas."
   ]
  },
  {
   "cell_type": "code",
   "execution_count": 34,
   "id": "78ce327a",
   "metadata": {
    "execution": {
     "iopub.execute_input": "2021-05-28T01:21:15.720887Z",
     "iopub.status.busy": "2021-05-28T01:21:15.719760Z",
     "iopub.status.idle": "2021-05-28T01:21:15.725355Z",
     "shell.execute_reply": "2021-05-28T01:21:15.725767Z"
    },
    "slideshow": {
     "slide_type": "slide"
    },
    "tags": [
     "raises-exception"
    ]
   },
   "outputs": [
    {
     "name": "stdout",
     "output_type": "stream",
     "text": [
      "(1, 2)\n",
      "1\n",
      "2\n"
     ]
    },
    {
     "ename": "TypeError",
     "evalue": "'tuple' object does not support item assignment",
     "output_type": "error",
     "traceback": [
      "\u001b[0;31m---------------------------------------------------------------------------\u001b[0m",
      "\u001b[0;31mTypeError\u001b[0m                                 Traceback (most recent call last)",
      "\u001b[0;32m<ipython-input-1-80ca8b547dd6>\u001b[0m in \u001b[0;36m<module>\u001b[0;34m\u001b[0m\n\u001b[1;32m      5\u001b[0m \u001b[0mprint\u001b[0m\u001b[0;34m(\u001b[0m\u001b[0mtupla\u001b[0m\u001b[0;34m[\u001b[0m\u001b[0;36m1\u001b[0m\u001b[0;34m]\u001b[0m\u001b[0;34m)\u001b[0m\u001b[0;34m\u001b[0m\u001b[0;34m\u001b[0m\u001b[0m\n\u001b[1;32m      6\u001b[0m \u001b[0;34m\u001b[0m\u001b[0m\n\u001b[0;32m----> 7\u001b[0;31m \u001b[0mtupla\u001b[0m\u001b[0;34m[\u001b[0m\u001b[0;36m1\u001b[0m\u001b[0;34m]\u001b[0m \u001b[0;34m=\u001b[0m \u001b[0;36m3\u001b[0m  \u001b[0;31m# Falla. No se puede mutar\u001b[0m\u001b[0;34m\u001b[0m\u001b[0;34m\u001b[0m\u001b[0m\n\u001b[0m",
      "\u001b[0;31mTypeError\u001b[0m: 'tuple' object does not support item assignment"
     ]
    }
   ],
   "source": [
    "tupla = (1, 2)\n",
    "\n",
    "print(tupla)\n",
    "print(tupla[0])\n",
    "print(tupla[1])\n",
    "\n",
    "tupla[1] = 3  # Falla. No se puede mutar"
   ]
  },
  {
   "cell_type": "code",
   "execution_count": 35,
   "id": "f99f46c8",
   "metadata": {
    "execution": {
     "iopub.execute_input": "2021-05-28T01:21:15.729547Z",
     "iopub.status.busy": "2021-05-28T01:21:15.729055Z",
     "iopub.status.idle": "2021-05-28T01:21:15.731364Z",
     "shell.execute_reply": "2021-05-28T01:21:15.731748Z"
    }
   },
   "outputs": [
    {
     "data": {
      "text/plain": [
       "[1, 2]"
      ]
     },
     "execution_count": 1,
     "metadata": {},
     "output_type": "execute_result"
    }
   ],
   "source": [
    "l = [1, 2]\n",
    "l"
   ]
  },
  {
   "cell_type": "code",
   "execution_count": 36,
   "id": "41a8d1c9",
   "metadata": {
    "execution": {
     "iopub.execute_input": "2021-05-28T01:21:15.735515Z",
     "iopub.status.busy": "2021-05-28T01:21:15.735026Z",
     "iopub.status.idle": "2021-05-28T01:21:15.737325Z",
     "shell.execute_reply": "2021-05-28T01:21:15.737712Z"
    }
   },
   "outputs": [
    {
     "data": {
      "text/plain": [
       "[1, 3]"
      ]
     },
     "execution_count": 1,
     "metadata": {},
     "output_type": "execute_result"
    }
   ],
   "source": [
    "l[1] = 3\n",
    "l"
   ]
  },
  {
   "cell_type": "markdown",
   "id": "5ab3ed9d",
   "metadata": {
    "slideshow": {
     "slide_type": "slide"
    }
   },
   "source": [
    "#### Diferencia entre lista y tupla\n",
    "Las listas se caracterizan por ser mutables, es decir, se puede cambiar su contenido en tiempo de ejecución, mientras que las tuplas son inmutables ya que no es posible modificar el contenido una vez creada."
   ]
  },
  {
   "cell_type": "markdown",
   "id": "ac26337d",
   "metadata": {},
   "source": [
    "#### Slices\n",
    "\n",
    "**Valen para listas, tuplas o strings (_segmentos_)**"
   ]
  },
  {
   "cell_type": "code",
   "execution_count": 37,
   "id": "38619006",
   "metadata": {
    "execution": {
     "iopub.execute_input": "2021-05-28T01:21:15.741724Z",
     "iopub.status.busy": "2021-05-28T01:21:15.740698Z",
     "iopub.status.idle": "2021-05-28T01:21:15.742283Z",
     "shell.execute_reply": "2021-05-28T01:21:15.742668Z"
    }
   },
   "outputs": [],
   "source": [
    "numeros = [0, 1, 2, 3, 4, 5, 6, 7, 8, 9, 10]"
   ]
  },
  {
   "cell_type": "code",
   "execution_count": 38,
   "id": "9c8390ab",
   "metadata": {
    "execution": {
     "iopub.execute_input": "2021-05-28T01:21:15.746763Z",
     "iopub.status.busy": "2021-05-28T01:21:15.745737Z",
     "iopub.status.idle": "2021-05-28T01:21:15.748369Z",
     "shell.execute_reply": "2021-05-28T01:21:15.747944Z"
    }
   },
   "outputs": [
    {
     "name": "stdout",
     "output_type": "stream",
     "text": [
      "[0, 1, 2, 3, 4, 5, 6, 7, 8, 9, 10]\n"
     ]
    }
   ],
   "source": [
    "print(numeros)"
   ]
  },
  {
   "cell_type": "code",
   "execution_count": 39,
   "id": "e6c7bd7d",
   "metadata": {
    "execution": {
     "iopub.execute_input": "2021-05-28T01:21:15.752099Z",
     "iopub.status.busy": "2021-05-28T01:21:15.751444Z",
     "iopub.status.idle": "2021-05-28T01:21:15.753964Z",
     "shell.execute_reply": "2021-05-28T01:21:15.754347Z"
    }
   },
   "outputs": [
    {
     "name": "stdout",
     "output_type": "stream",
     "text": [
      "2\n"
     ]
    }
   ],
   "source": [
    "print(numeros[2])  # Imprimo elemento en la posición 2"
   ]
  },
  {
   "cell_type": "code",
   "execution_count": 40,
   "id": "a92b3616",
   "metadata": {
    "execution": {
     "iopub.execute_input": "2021-05-28T01:21:15.758478Z",
     "iopub.status.busy": "2021-05-28T01:21:15.757983Z",
     "iopub.status.idle": "2021-05-28T01:21:15.760325Z",
     "shell.execute_reply": "2021-05-28T01:21:15.760709Z"
    }
   },
   "outputs": [
    {
     "data": {
      "text/plain": [
       "10"
      ]
     },
     "execution_count": 1,
     "metadata": {},
     "output_type": "execute_result"
    }
   ],
   "source": [
    "numeros[len(numeros) - 1]"
   ]
  },
  {
   "cell_type": "code",
   "execution_count": 41,
   "id": "79e530b6",
   "metadata": {
    "execution": {
     "iopub.execute_input": "2021-05-28T01:21:15.764917Z",
     "iopub.status.busy": "2021-05-28T01:21:15.763898Z",
     "iopub.status.idle": "2021-05-28T01:21:15.766531Z",
     "shell.execute_reply": "2021-05-28T01:21:15.766114Z"
    },
    "lines_to_next_cell": 2
   },
   "outputs": [
    {
     "name": "stdout",
     "output_type": "stream",
     "text": [
      "10\n"
     ]
    }
   ],
   "source": [
    "print(numeros[-1])  # # Imprimo elemento en la última posición"
   ]
  },
  {
   "cell_type": "code",
   "execution_count": 42,
   "id": "1f3c0220",
   "metadata": {
    "execution": {
     "iopub.execute_input": "2021-05-28T01:21:15.769800Z",
     "iopub.status.busy": "2021-05-28T01:21:15.769327Z",
     "iopub.status.idle": "2021-05-28T01:21:15.771254Z",
     "shell.execute_reply": "2021-05-28T01:21:15.771718Z"
    },
    "lines_to_next_cell": 2
   },
   "outputs": [
    {
     "data": {
      "text/plain": [
       "9"
      ]
     },
     "execution_count": 1,
     "metadata": {},
     "output_type": "execute_result"
    }
   ],
   "source": [
    "numeros[-2]"
   ]
  },
  {
   "cell_type": "code",
   "execution_count": 43,
   "id": "2f98a4f3",
   "metadata": {
    "execution": {
     "iopub.execute_input": "2021-05-28T01:21:15.774910Z",
     "iopub.status.busy": "2021-05-28T01:21:15.774435Z",
     "iopub.status.idle": "2021-05-28T01:21:15.776248Z",
     "shell.execute_reply": "2021-05-28T01:21:15.776635Z"
    }
   },
   "outputs": [
    {
     "name": "stdout",
     "output_type": "stream",
     "text": [
      "[0, 1, 2]\n"
     ]
    }
   ],
   "source": [
    "print(numeros[0:3])  # Imprimo de la pos 0 a la pos 2"
   ]
  },
  {
   "cell_type": "code",
   "execution_count": 44,
   "id": "516b392b",
   "metadata": {
    "execution": {
     "iopub.execute_input": "2021-05-28T01:21:15.779825Z",
     "iopub.status.busy": "2021-05-28T01:21:15.779350Z",
     "iopub.status.idle": "2021-05-28T01:21:15.781032Z",
     "shell.execute_reply": "2021-05-28T01:21:15.781493Z"
    }
   },
   "outputs": [
    {
     "name": "stdout",
     "output_type": "stream",
     "text": [
      "[7, 8]\n"
     ]
    }
   ],
   "source": [
    "print(numeros[-4:-2])"
   ]
  },
  {
   "cell_type": "code",
   "execution_count": 45,
   "id": "743e3ad8",
   "metadata": {
    "execution": {
     "iopub.execute_input": "2021-05-28T01:21:15.784674Z",
     "iopub.status.busy": "2021-05-28T01:21:15.784199Z",
     "iopub.status.idle": "2021-05-28T01:21:15.785924Z",
     "shell.execute_reply": "2021-05-28T01:21:15.786351Z"
    }
   },
   "outputs": [
    {
     "name": "stdout",
     "output_type": "stream",
     "text": [
      "[0, 1, 2, 3, 4, 5, 6, 7, 8, 9, 10]\n"
     ]
    }
   ],
   "source": [
    "print(numeros[0:80])"
   ]
  },
  {
   "cell_type": "code",
   "execution_count": 46,
   "id": "737e0720",
   "metadata": {
    "execution": {
     "iopub.execute_input": "2021-05-28T01:21:15.789500Z",
     "iopub.status.busy": "2021-05-28T01:21:15.789025Z",
     "iopub.status.idle": "2021-05-28T01:21:15.791919Z",
     "shell.execute_reply": "2021-05-28T01:21:15.792309Z"
    }
   },
   "outputs": [
    {
     "name": "stdout",
     "output_type": "stream",
     "text": [
      "[0, 1, 2]\n"
     ]
    }
   ],
   "source": [
    "print(numeros[:3])"
   ]
  },
  {
   "cell_type": "code",
   "execution_count": 47,
   "id": "30bacbc6",
   "metadata": {
    "execution": {
     "iopub.execute_input": "2021-05-28T01:21:15.795682Z",
     "iopub.status.busy": "2021-05-28T01:21:15.795208Z",
     "iopub.status.idle": "2021-05-28T01:21:15.796842Z",
     "shell.execute_reply": "2021-05-28T01:21:15.797225Z"
    }
   },
   "outputs": [
    {
     "name": "stdout",
     "output_type": "stream",
     "text": [
      "[3, 4, 5, 6, 7, 8, 9, 10]\n"
     ]
    }
   ],
   "source": [
    "print(numeros[3:])"
   ]
  },
  {
   "cell_type": "code",
   "execution_count": 48,
   "id": "4d8e43ec",
   "metadata": {
    "execution": {
     "iopub.execute_input": "2021-05-28T01:21:15.800411Z",
     "iopub.status.busy": "2021-05-28T01:21:15.799931Z",
     "iopub.status.idle": "2021-05-28T01:21:15.801676Z",
     "shell.execute_reply": "2021-05-28T01:21:15.802064Z"
    }
   },
   "outputs": [
    {
     "name": "stdout",
     "output_type": "stream",
     "text": [
      "[0, 2, 4, 6, 8]\n"
     ]
    }
   ],
   "source": [
    "print(numeros[0:10:2])"
   ]
  },
  {
   "cell_type": "markdown",
   "id": "162630e0",
   "metadata": {},
   "source": [
    "```python\n",
    "lista[<inicio>:<final>:<step>]\n",
    "```"
   ]
  },
  {
   "cell_type": "code",
   "execution_count": 49,
   "id": "0ee27972",
   "metadata": {
    "execution": {
     "iopub.execute_input": "2021-05-28T01:21:15.806160Z",
     "iopub.status.busy": "2021-05-28T01:21:15.805670Z",
     "iopub.status.idle": "2021-05-28T01:21:15.807349Z",
     "shell.execute_reply": "2021-05-28T01:21:15.807733Z"
    },
    "lines_to_next_cell": 2
   },
   "outputs": [
    {
     "data": {
      "text/plain": [
       "[1, 2, 3, 4]"
      ]
     },
     "execution_count": 1,
     "metadata": {},
     "output_type": "execute_result"
    }
   ],
   "source": [
    "l1 = [1, 2]\n",
    "l2 = [3, 4]\n",
    "l1 + l2"
   ]
  },
  {
   "cell_type": "code",
   "execution_count": 50,
   "id": "23d60291",
   "metadata": {
    "execution": {
     "iopub.execute_input": "2021-05-28T01:21:15.810886Z",
     "iopub.status.busy": "2021-05-28T01:21:15.810416Z",
     "iopub.status.idle": "2021-05-28T01:21:15.812224Z",
     "shell.execute_reply": "2021-05-28T01:21:15.812619Z"
    }
   },
   "outputs": [
    {
     "name": "stdout",
     "output_type": "stream",
     "text": [
      "[0, 1, 2, 3, 4, 5, 6, 'siete', 8, 9, 10]\n"
     ]
    }
   ],
   "source": [
    "numeros[7] = 'siete'  # Las listas se pueden mutar\n",
    "print(numeros)"
   ]
  },
  {
   "cell_type": "code",
   "execution_count": 51,
   "id": "cc071271",
   "metadata": {
    "execution": {
     "iopub.execute_input": "2021-05-28T01:21:15.815801Z",
     "iopub.status.busy": "2021-05-28T01:21:15.815327Z",
     "iopub.status.idle": "2021-05-28T01:21:15.817011Z",
     "shell.execute_reply": "2021-05-28T01:21:15.817474Z"
    }
   },
   "outputs": [
    {
     "name": "stdout",
     "output_type": "stream",
     "text": [
      "[10, 9, 8, 'siete', 6, 5, 4, 3, 2, 1, 0]\n"
     ]
    }
   ],
   "source": [
    "numeros = numeros[::-1]\n",
    "print(numeros)"
   ]
  },
  {
   "cell_type": "code",
   "execution_count": 52,
   "id": "b55210db",
   "metadata": {
    "execution": {
     "iopub.execute_input": "2021-05-28T01:21:15.822812Z",
     "iopub.status.busy": "2021-05-28T01:21:15.822340Z",
     "iopub.status.idle": "2021-05-28T01:21:15.825233Z",
     "shell.execute_reply": "2021-05-28T01:21:15.824810Z"
    },
    "tags": [
     "raises-exception"
    ]
   },
   "outputs": [
    {
     "ename": "IndexError",
     "evalue": "list index out of range",
     "output_type": "error",
     "traceback": [
      "\u001b[0;31m---------------------------------------------------------------------------\u001b[0m",
      "\u001b[0;31mIndexError\u001b[0m                                Traceback (most recent call last)",
      "\u001b[0;32m<ipython-input-1-0ef91dd29a9b>\u001b[0m in \u001b[0;36m<module>\u001b[0;34m\u001b[0m\n\u001b[0;32m----> 1\u001b[0;31m \u001b[0mprint\u001b[0m\u001b[0;34m(\u001b[0m\u001b[0mnumeros\u001b[0m\u001b[0;34m[\u001b[0m\u001b[0;36m15\u001b[0m\u001b[0;34m]\u001b[0m\u001b[0;34m)\u001b[0m  \u001b[0;31m# Falla. No se puede acceder a una posición inexistente\u001b[0m\u001b[0;34m\u001b[0m\u001b[0;34m\u001b[0m\u001b[0m\n\u001b[0m",
      "\u001b[0;31mIndexError\u001b[0m: list index out of range"
     ]
    }
   ],
   "source": [
    "print(numeros[15])  # Falla. No se puede acceder a una posición inexistente"
   ]
  },
  {
   "cell_type": "code",
   "execution_count": 53,
   "id": "e39ac13d",
   "metadata": {
    "execution": {
     "iopub.execute_input": "2021-05-28T01:21:15.829003Z",
     "iopub.status.busy": "2021-05-28T01:21:15.828482Z",
     "iopub.status.idle": "2021-05-28T01:21:15.830297Z",
     "shell.execute_reply": "2021-05-28T01:21:15.830714Z"
    }
   },
   "outputs": [
    {
     "name": "stdout",
     "output_type": "stream",
     "text": [
      "palabra\n",
      "a\n",
      "pal\n",
      "abra\n"
     ]
    }
   ],
   "source": [
    "palabra = 'palabra'\n",
    "print(palabra)\n",
    "print(palabra[3])\n",
    "print(palabra[:3])\n",
    "print(palabra[3:])"
   ]
  },
  {
   "cell_type": "code",
   "execution_count": 54,
   "id": "d6b75513",
   "metadata": {
    "execution": {
     "iopub.execute_input": "2021-05-28T01:21:15.834859Z",
     "iopub.status.busy": "2021-05-28T01:21:15.834387Z",
     "iopub.status.idle": "2021-05-28T01:21:15.835989Z",
     "shell.execute_reply": "2021-05-28T01:21:15.836378Z"
    }
   },
   "outputs": [
    {
     "name": "stdout",
     "output_type": "stream",
     "text": [
      "(0, 1, 2, 3, 4)\n",
      "(0, 1)\n",
      "(2, 3, 4)\n"
     ]
    }
   ],
   "source": [
    "tupla = (0, 1, 2, 3, 4)\n",
    "\n",
    "print(tupla)\n",
    "print(tupla[:2])\n",
    "print(tupla[2:])"
   ]
  },
  {
   "cell_type": "markdown",
   "id": "1085dc61",
   "metadata": {
    "slideshow": {
     "slide_type": "slide"
    }
   },
   "source": [
    "#### Diccionarios de Python\n",
    "\n",
    "Son como hashmaps, las claves deben ser inmutables para que no pierda sentido el diccionario. Si se pudieran modificar, se podrían cambiar las claves y generaría conflictos.\n",
    "\n",
    "Tipos mutables:\n",
    "- Listas\n",
    "- Diccionarios\n",
    "- Sets\n",
    "\n",
    "Tipos inmutables:\n",
    "- Int\n",
    "- Float\n",
    "- String\n",
    "- Tuplas\n"
   ]
  },
  {
   "cell_type": "code",
   "execution_count": 55,
   "id": "e8510e67",
   "metadata": {
    "execution": {
     "iopub.execute_input": "2021-05-28T01:21:15.839510Z",
     "iopub.status.busy": "2021-05-28T01:21:15.839036Z",
     "iopub.status.idle": "2021-05-28T01:21:15.841648Z",
     "shell.execute_reply": "2021-05-28T01:21:15.841207Z"
    },
    "slideshow": {
     "slide_type": "slide"
    }
   },
   "outputs": [
    {
     "data": {
      "text/plain": [
       "{}"
      ]
     },
     "execution_count": 1,
     "metadata": {},
     "output_type": "execute_result"
    }
   ],
   "source": [
    "diccionario = {}\n",
    "diccionario"
   ]
  },
  {
   "cell_type": "code",
   "execution_count": 56,
   "id": "2eb6e688",
   "metadata": {
    "execution": {
     "iopub.execute_input": "2021-05-28T01:21:15.844742Z",
     "iopub.status.busy": "2021-05-28T01:21:15.844274Z",
     "iopub.status.idle": "2021-05-28T01:21:15.848053Z",
     "shell.execute_reply": "2021-05-28T01:21:15.847618Z"
    }
   },
   "outputs": [
    {
     "data": {
      "text/plain": [
       "{}"
      ]
     },
     "execution_count": 1,
     "metadata": {},
     "output_type": "execute_result"
    }
   ],
   "source": [
    "diccionario = dict()\n",
    "diccionario"
   ]
  },
  {
   "cell_type": "code",
   "execution_count": 57,
   "id": "aeefb0b2",
   "metadata": {
    "execution": {
     "iopub.execute_input": "2021-05-28T01:21:15.851449Z",
     "iopub.status.busy": "2021-05-28T01:21:15.850974Z",
     "iopub.status.idle": "2021-05-28T01:21:15.852720Z",
     "shell.execute_reply": "2021-05-28T01:21:15.853136Z"
    },
    "slideshow": {
     "slide_type": "slide"
    }
   },
   "outputs": [
    {
     "name": "stdout",
     "output_type": "stream",
     "text": [
      "{'clave1': 'valor1', 2: 'valor2', 'clave3': 3}\n"
     ]
    }
   ],
   "source": [
    "# Cómo agregar cosas al diccionario\n",
    "diccionario['clave1'] = 'valor1'\n",
    "diccionario[2] = 'valor2'\n",
    "diccionario['clave3'] = 3\n",
    "print(diccionario)"
   ]
  },
  {
   "cell_type": "markdown",
   "id": "cb2acae4",
   "metadata": {},
   "source": [
    "Hay dos formas de obtener valores de un diccionario:\n",
    "\n",
    "```python\n",
    "diccionario[clave]\n",
    "```\n",
    "\n",
    "El cual devuelve el valor si existe la clave suministrada o bien lanza `KeyError` si no existe."
   ]
  },
  {
   "cell_type": "code",
   "execution_count": 58,
   "id": "41fb7ce5",
   "metadata": {
    "execution": {
     "iopub.execute_input": "2021-05-28T01:21:15.856312Z",
     "iopub.status.busy": "2021-05-28T01:21:15.855808Z",
     "iopub.status.idle": "2021-05-28T01:21:15.858618Z",
     "shell.execute_reply": "2021-05-28T01:21:15.858198Z"
    }
   },
   "outputs": [
    {
     "data": {
      "text/plain": [
       "'valor1'"
      ]
     },
     "execution_count": 1,
     "metadata": {},
     "output_type": "execute_result"
    }
   ],
   "source": [
    "diccionario['clave1']"
   ]
  },
  {
   "cell_type": "code",
   "execution_count": 59,
   "id": "4e72be48",
   "metadata": {
    "execution": {
     "iopub.execute_input": "2021-05-28T01:21:15.863074Z",
     "iopub.status.busy": "2021-05-28T01:21:15.860972Z",
     "iopub.status.idle": "2021-05-28T01:21:15.865849Z",
     "shell.execute_reply": "2021-05-28T01:21:15.865430Z"
    },
    "tags": [
     "raises-exception"
    ]
   },
   "outputs": [
    {
     "ename": "KeyError",
     "evalue": "'clave1000'",
     "output_type": "error",
     "traceback": [
      "\u001b[0;31m---------------------------------------------------------------------------\u001b[0m",
      "\u001b[0;31mKeyError\u001b[0m                                  Traceback (most recent call last)",
      "\u001b[0;32m<ipython-input-1-41aae9a2e5ed>\u001b[0m in \u001b[0;36m<module>\u001b[0;34m\u001b[0m\n\u001b[0;32m----> 1\u001b[0;31m \u001b[0mdiccionario\u001b[0m\u001b[0;34m[\u001b[0m\u001b[0;34m'clave1000'\u001b[0m\u001b[0;34m]\u001b[0m\u001b[0;34m\u001b[0m\u001b[0;34m\u001b[0m\u001b[0m\n\u001b[0m",
      "\u001b[0;31mKeyError\u001b[0m: 'clave1000'"
     ]
    }
   ],
   "source": [
    "diccionario['clave1000']"
   ]
  },
  {
   "cell_type": "markdown",
   "id": "9dfcd078",
   "metadata": {},
   "source": [
    "La segunda forma es con `get`:"
   ]
  },
  {
   "cell_type": "code",
   "execution_count": 60,
   "id": "fa5770f4",
   "metadata": {
    "execution": {
     "iopub.execute_input": "2021-05-28T01:21:15.898357Z",
     "iopub.status.busy": "2021-05-28T01:21:15.893178Z",
     "iopub.status.idle": "2021-05-28T01:21:15.915185Z",
     "shell.execute_reply": "2021-05-28T01:21:15.915631Z"
    }
   },
   "outputs": [],
   "source": [
    "diccionario.get?"
   ]
  },
  {
   "cell_type": "code",
   "execution_count": 61,
   "id": "ca6993da",
   "metadata": {
    "execution": {
     "iopub.execute_input": "2021-05-28T01:21:15.921362Z",
     "iopub.status.busy": "2021-05-28T01:21:15.919582Z",
     "iopub.status.idle": "2021-05-28T01:21:15.923085Z",
     "shell.execute_reply": "2021-05-28T01:21:15.921881Z"
    }
   },
   "outputs": [
    {
     "name": "stdout",
     "output_type": "stream",
     "text": [
      "Help on built-in function get:\n",
      "\n",
      "get(key, default=None, /) method of builtins.dict instance\n",
      "    Return the value for key if key is in the dictionary, else default.\n",
      "\n"
     ]
    }
   ],
   "source": [
    "help(diccionario.get)"
   ]
  },
  {
   "cell_type": "code",
   "execution_count": 62,
   "id": "0391f2ce",
   "metadata": {
    "execution": {
     "iopub.execute_input": "2021-05-28T01:21:15.927314Z",
     "iopub.status.busy": "2021-05-28T01:21:15.926274Z",
     "iopub.status.idle": "2021-05-28T01:21:15.928930Z",
     "shell.execute_reply": "2021-05-28T01:21:15.928513Z"
    },
    "slideshow": {
     "slide_type": "slide"
    }
   },
   "outputs": [
    {
     "name": "stdout",
     "output_type": "stream",
     "text": [
      "None\n"
     ]
    }
   ],
   "source": [
    "print(diccionario.get('clave1000'))"
   ]
  },
  {
   "cell_type": "code",
   "execution_count": 63,
   "id": "91ab8f96",
   "metadata": {
    "execution": {
     "iopub.execute_input": "2021-05-28T01:21:15.933230Z",
     "iopub.status.busy": "2021-05-28T01:21:15.932036Z",
     "iopub.status.idle": "2021-05-28T01:21:15.934791Z",
     "shell.execute_reply": "2021-05-28T01:21:15.934377Z"
    },
    "slideshow": {
     "slide_type": "slide"
    }
   },
   "outputs": [
    {
     "name": "stdout",
     "output_type": "stream",
     "text": [
      "True\n"
     ]
    }
   ],
   "source": [
    "print('clave1' in diccionario)  # Verifico si la clave está en el diccionario"
   ]
  },
  {
   "cell_type": "code",
   "execution_count": 64,
   "id": "efc2ba76",
   "metadata": {
    "execution": {
     "iopub.execute_input": "2021-05-28T01:21:15.938690Z",
     "iopub.status.busy": "2021-05-28T01:21:15.938196Z",
     "iopub.status.idle": "2021-05-28T01:21:15.940530Z",
     "shell.execute_reply": "2021-05-28T01:21:15.940916Z"
    }
   },
   "outputs": [
    {
     "data": {
      "text/plain": [
       "True"
      ]
     },
     "execution_count": 1,
     "metadata": {},
     "output_type": "execute_result"
    }
   ],
   "source": [
    "l = [1, 2, 3, 4]\n",
    "2 in l"
   ]
  },
  {
   "cell_type": "code",
   "execution_count": 65,
   "id": "bc661e11",
   "metadata": {
    "execution": {
     "iopub.execute_input": "2021-05-28T01:21:15.945426Z",
     "iopub.status.busy": "2021-05-28T01:21:15.944387Z",
     "iopub.status.idle": "2021-05-28T01:21:15.947003Z",
     "shell.execute_reply": "2021-05-28T01:21:15.946587Z"
    }
   },
   "outputs": [
    {
     "name": "stdout",
     "output_type": "stream",
     "text": [
      "la clave es clave1 y el valor es valor1\n",
      "la clave es 2 y el valor es valor2\n",
      "la clave es clave3 y el valor es 3\n"
     ]
    }
   ],
   "source": [
    "for clave, valor in diccionario.items():\n",
    "    print(\"la clave es %s y el valor es %s\" % (clave, valor))"
   ]
  },
  {
   "cell_type": "code",
   "execution_count": 66,
   "id": "ac5b8db1",
   "metadata": {
    "execution": {
     "iopub.execute_input": "2021-05-28T01:21:15.951405Z",
     "iopub.status.busy": "2021-05-28T01:21:15.950424Z",
     "iopub.status.idle": "2021-05-28T01:21:15.953086Z",
     "shell.execute_reply": "2021-05-28T01:21:15.952688Z"
    }
   },
   "outputs": [
    {
     "name": "stdout",
     "output_type": "stream",
     "text": [
      "la clave es clave1 y el valor es valor1\n",
      "la clave es 2 y el valor es valor2\n",
      "la clave es clave3 y el valor es 3\n"
     ]
    }
   ],
   "source": [
    "for clave, valor in diccionario.items():\n",
    "    print(\"la clave es {} y el valor es {}\".format(clave, valor))"
   ]
  },
  {
   "cell_type": "code",
   "execution_count": 67,
   "id": "2ab34b98",
   "metadata": {
    "execution": {
     "iopub.execute_input": "2021-05-28T01:21:15.957664Z",
     "iopub.status.busy": "2021-05-28T01:21:15.956671Z",
     "iopub.status.idle": "2021-05-28T01:21:15.959300Z",
     "shell.execute_reply": "2021-05-28T01:21:15.958888Z"
    },
    "slideshow": {
     "slide_type": "slide"
    }
   },
   "outputs": [
    {
     "name": "stdout",
     "output_type": "stream",
     "text": [
      "la clave es clave1 y el valor es valor1\n",
      "la clave es 2 y el valor es valor2\n",
      "la clave es clave3 y el valor es 3\n"
     ]
    }
   ],
   "source": [
    "# Cómo iterar un diccionario elemento por elemento\n",
    "for (\n",
    "    clave,\n",
    "    valor,\n",
    ") in (\n",
    "    diccionario.items()\n",
    "):  # diccionario.items() va devolviendo tuplas con el formato (clave,valor)\n",
    "    print(\n",
    "        f\"la clave es {clave} y el valor es {valor}\"\n",
    "    )  # con esta sintaxis se desempaquetan en clave y valor (similar a enumerate)"
   ]
  },
  {
   "cell_type": "code",
   "execution_count": 68,
   "id": "66f0692b",
   "metadata": {
    "execution": {
     "iopub.execute_input": "2021-05-28T01:21:15.963430Z",
     "iopub.status.busy": "2021-05-28T01:21:15.962570Z",
     "iopub.status.idle": "2021-05-28T01:21:15.964860Z",
     "shell.execute_reply": "2021-05-28T01:21:15.965249Z"
    },
    "slideshow": {
     "slide_type": "slide"
    }
   },
   "outputs": [
    {
     "name": "stdout",
     "output_type": "stream",
     "text": [
      "clave1\n",
      "2\n",
      "clave3\n"
     ]
    }
   ],
   "source": [
    "for clave in diccionario.keys():\n",
    "    print(clave)"
   ]
  },
  {
   "cell_type": "code",
   "execution_count": 69,
   "id": "826922b1",
   "metadata": {
    "execution": {
     "iopub.execute_input": "2021-05-28T01:21:15.969363Z",
     "iopub.status.busy": "2021-05-28T01:21:15.968529Z",
     "iopub.status.idle": "2021-05-28T01:21:15.970749Z",
     "shell.execute_reply": "2021-05-28T01:21:15.971134Z"
    },
    "slideshow": {
     "slide_type": "slide"
    }
   },
   "outputs": [
    {
     "name": "stdout",
     "output_type": "stream",
     "text": [
      "valor1\n",
      "valor2\n",
      "3\n"
     ]
    }
   ],
   "source": [
    "for valor in diccionario.values():\n",
    "    print(valor)"
   ]
  },
  {
   "cell_type": "markdown",
   "id": "7f897ec2",
   "metadata": {},
   "source": [
    "#### Sets\n",
    "\n",
    "Son similares a los diccionarios (en eficiencia) pero se almacenan solo claves, y tienen algunas operaciones particulares.\n",
    "\n",
    "En particular, no pueden tener elementos iguales (pensar que son conjuntos)"
   ]
  },
  {
   "cell_type": "code",
   "execution_count": 70,
   "id": "91dc1dce",
   "metadata": {
    "execution": {
     "iopub.execute_input": "2021-05-28T01:21:15.974272Z",
     "iopub.status.busy": "2021-05-28T01:21:15.973803Z",
     "iopub.status.idle": "2021-05-28T01:21:15.977710Z",
     "shell.execute_reply": "2021-05-28T01:21:15.977286Z"
    }
   },
   "outputs": [],
   "source": [
    "set??"
   ]
  },
  {
   "cell_type": "code",
   "execution_count": 71,
   "id": "57666541",
   "metadata": {
    "execution": {
     "iopub.execute_input": "2021-05-28T01:21:15.981548Z",
     "iopub.status.busy": "2021-05-28T01:21:15.981055Z",
     "iopub.status.idle": "2021-05-28T01:21:15.983388Z",
     "shell.execute_reply": "2021-05-28T01:21:15.983774Z"
    }
   },
   "outputs": [
    {
     "data": {
      "text/plain": [
       "{1, 2, 3}"
      ]
     },
     "execution_count": 1,
     "metadata": {},
     "output_type": "execute_result"
    }
   ],
   "source": [
    "# Se definen como los diccionarios pero sin hacerlos 'clave:valor', solamente una seguidilla de elementos\n",
    "{1, 2, 2, 3}"
   ]
  },
  {
   "cell_type": "code",
   "execution_count": 72,
   "id": "249142a7",
   "metadata": {
    "execution": {
     "iopub.execute_input": "2021-05-28T01:21:15.987864Z",
     "iopub.status.busy": "2021-05-28T01:21:15.987350Z",
     "iopub.status.idle": "2021-05-28T01:21:15.989747Z",
     "shell.execute_reply": "2021-05-28T01:21:15.990133Z"
    }
   },
   "outputs": [
    {
     "data": {
      "text/plain": [
       "{1, 2, 3}"
      ]
     },
     "execution_count": 1,
     "metadata": {},
     "output_type": "execute_result"
    }
   ],
   "source": [
    "set([1, 2, 2, 3])"
   ]
  },
  {
   "cell_type": "markdown",
   "id": "ad1a2469",
   "metadata": {},
   "source": [
    "## Condicionales (if...elif...else)\n",
    "\n",
    "```python\n",
    "if <condición_1>:\n",
    "    <hacer algo_1 si se da la condición_1>\n",
    "elif <condición_2>:\n",
    "    <hacer algo_2 si se da la condición_2>\n",
    "...\n",
    "elif <condición_n>:\n",
    "    <hacer algo_n si se da la condición_n>\n",
    "else:\n",
    "    <hacer otra cosa si no dan las anteriores>\n",
    "```\n",
    "\n",
    "Algo importante para notar es que los bloques se definen por **niveles de identacion**."
   ]
  },
  {
   "cell_type": "code",
   "execution_count": 73,
   "id": "e30af305",
   "metadata": {
    "execution": {
     "iopub.execute_input": "2021-05-28T01:21:15.994851Z",
     "iopub.status.busy": "2021-05-28T01:21:15.993801Z",
     "iopub.status.idle": "2021-05-28T01:21:15.996467Z",
     "shell.execute_reply": "2021-05-28T01:21:15.996044Z"
    }
   },
   "outputs": [
    {
     "name": "stdout",
     "output_type": "stream",
     "text": [
      "uno\n"
     ]
    }
   ],
   "source": [
    "v = 1\n",
    "if v == 1:\n",
    "    print(\"uno\")\n",
    "elif v == 2:\n",
    "    print(\"dos\")\n",
    "else:\n",
    "    print(\"ni idea\")\n",
    "    print(v)"
   ]
  },
  {
   "cell_type": "markdown",
   "id": "9f8fd354",
   "metadata": {},
   "source": [
    "## Iteraciones\n",
    "\n",
    "```python\n",
    "while cond:\n",
    "    <codigo>\n",
    "```\n",
    "\n",
    "```python\n",
    "for elemento in iterable:\n",
    "    <codigo>\n",
    "```\n",
    "\n",
    "Para iterar sobre un rango de valores, usamos `range`"
   ]
  },
  {
   "cell_type": "code",
   "execution_count": 74,
   "id": "d9eadde6",
   "metadata": {
    "execution": {
     "iopub.execute_input": "2021-05-28T01:21:16.000952Z",
     "iopub.status.busy": "2021-05-28T01:21:15.999962Z",
     "iopub.status.idle": "2021-05-28T01:21:16.002599Z",
     "shell.execute_reply": "2021-05-28T01:21:16.002179Z"
    }
   },
   "outputs": [
    {
     "name": "stdout",
     "output_type": "stream",
     "text": [
      "1\n",
      "4\n",
      "7\n",
      "10\n"
     ]
    }
   ],
   "source": [
    "for i in range(1, 11, 3):\n",
    "    print(i)"
   ]
  },
  {
   "cell_type": "markdown",
   "id": "b0afb7bd",
   "metadata": {},
   "source": [
    "## Operadores logicos\n",
    "\n",
    "`not`, `or`, `and`"
   ]
  },
  {
   "cell_type": "code",
   "execution_count": 75,
   "id": "90caef33",
   "metadata": {
    "execution": {
     "iopub.execute_input": "2021-05-28T01:21:16.005804Z",
     "iopub.status.busy": "2021-05-28T01:21:16.005322Z",
     "iopub.status.idle": "2021-05-28T01:21:16.007116Z",
     "shell.execute_reply": "2021-05-28T01:21:16.007502Z"
    }
   },
   "outputs": [
    {
     "name": "stdout",
     "output_type": "stream",
     "text": [
      "yay\n"
     ]
    }
   ],
   "source": [
    "if True or False:\n",
    "    print(\"yay\")"
   ]
  },
  {
   "cell_type": "code",
   "execution_count": 76,
   "id": "f424fed2",
   "metadata": {
    "execution": {
     "iopub.execute_input": "2021-05-28T01:21:16.010658Z",
     "iopub.status.busy": "2021-05-28T01:21:16.010189Z",
     "iopub.status.idle": "2021-05-28T01:21:16.012951Z",
     "shell.execute_reply": "2021-05-28T01:21:16.012529Z"
    }
   },
   "outputs": [
    {
     "data": {
      "text/plain": [
       "False"
      ]
     },
     "execution_count": 1,
     "metadata": {},
     "output_type": "execute_result"
    }
   ],
   "source": [
    "1 == 2"
   ]
  },
  {
   "cell_type": "code",
   "execution_count": 77,
   "id": "f508c269",
   "metadata": {
    "execution": {
     "iopub.execute_input": "2021-05-28T01:21:16.016695Z",
     "iopub.status.busy": "2021-05-28T01:21:16.016202Z",
     "iopub.status.idle": "2021-05-28T01:21:16.017922Z",
     "shell.execute_reply": "2021-05-28T01:21:16.018315Z"
    }
   },
   "outputs": [
    {
     "data": {
      "text/plain": [
       "True"
      ]
     },
     "execution_count": 1,
     "metadata": {},
     "output_type": "execute_result"
    }
   ],
   "source": [
    "1 != 2"
   ]
  },
  {
   "cell_type": "markdown",
   "id": "f8018a1b",
   "metadata": {
    "slideshow": {
     "slide_type": "slide"
    }
   },
   "source": [
    "## Funciones en Python"
   ]
  },
  {
   "cell_type": "code",
   "execution_count": 78,
   "id": "8cf225e3",
   "metadata": {
    "execution": {
     "iopub.execute_input": "2021-05-28T01:21:16.025346Z",
     "iopub.status.busy": "2021-05-28T01:21:16.024283Z",
     "iopub.status.idle": "2021-05-28T01:21:16.026910Z",
     "shell.execute_reply": "2021-05-28T01:21:16.026494Z"
    },
    "slideshow": {
     "slide_type": "slide"
    }
   },
   "outputs": [
    {
     "name": "stdout",
     "output_type": "stream",
     "text": [
      "True\n",
      "False\n"
     ]
    }
   ],
   "source": [
    "def busqueda_binaria(lista, elemento):\n",
    "    if not lista:\n",
    "        return False\n",
    "    elif len(lista) == 1:\n",
    "        return lista[0] == elemento\n",
    "    mitad = len(lista) // 2  # // es la operación división entera\n",
    "    if lista[mitad] == elemento:\n",
    "        return True\n",
    "    if lista[mitad] > elemento:\n",
    "        return busqueda_binaria(lista[:mitad], elemento)\n",
    "    if lista[mitad] < elemento:\n",
    "        return busqueda_binaria(lista[mitad:], elemento)\n",
    "\n",
    "\n",
    "print(busqueda_binaria([1, 2, 3, 4, 5], 4))\n",
    "print(busqueda_binaria([1, 4, 6, 7, 9, 10], 2))"
   ]
  },
  {
   "cell_type": "code",
   "execution_count": 79,
   "id": "974bb782",
   "metadata": {
    "execution": {
     "iopub.execute_input": "2021-05-28T01:21:16.031208Z",
     "iopub.status.busy": "2021-05-28T01:21:16.030372Z",
     "iopub.status.idle": "2021-05-28T01:21:16.032610Z",
     "shell.execute_reply": "2021-05-28T01:21:16.032992Z"
    }
   },
   "outputs": [
    {
     "name": "stdout",
     "output_type": "stream",
     "text": [
      "(3, 3, 3)\n"
     ]
    }
   ],
   "source": [
    "def a(b):\n",
    "    if a == 1:\n",
    "        print(a)\n",
    "    return (b, b, b)\n",
    "\n",
    "\n",
    "print(a(3))"
   ]
  },
  {
   "cell_type": "code",
   "execution_count": 80,
   "id": "34625a0c",
   "metadata": {
    "execution": {
     "iopub.execute_input": "2021-05-28T01:21:16.038046Z",
     "iopub.status.busy": "2021-05-28T01:21:16.036969Z",
     "iopub.status.idle": "2021-05-28T01:21:16.045538Z",
     "shell.execute_reply": "2021-05-28T01:21:16.045133Z"
    },
    "lines_to_next_cell": 2,
    "slideshow": {
     "slide_type": "slide"
    },
    "tags": [
     "raises-exception"
    ]
   },
   "outputs": [
    {
     "name": "stdout",
     "output_type": "stream",
     "text": [
      "3\n",
      "3.0\n",
      "3.0\n",
      "hola como te va\n",
      "[1, 2, 3, 4, 5]\n"
     ]
    },
    {
     "ename": "TypeError",
     "evalue": "can only concatenate str (not \"int\") to str",
     "output_type": "error",
     "traceback": [
      "\u001b[0;31m---------------------------------------------------------------------------\u001b[0m",
      "\u001b[0;31mTypeError\u001b[0m                                 Traceback (most recent call last)",
      "\u001b[0;32m<ipython-input-1-c2a6a99a90c7>\u001b[0m in \u001b[0;36m<module>\u001b[0;34m\u001b[0m\n\u001b[1;32m      8\u001b[0m \u001b[0mprint\u001b[0m\u001b[0;34m(\u001b[0m\u001b[0msuma\u001b[0m\u001b[0;34m(\u001b[0m\u001b[0;34m\"hola \"\u001b[0m\u001b[0;34m,\u001b[0m \u001b[0;34m\"como te va\"\u001b[0m\u001b[0;34m)\u001b[0m\u001b[0;34m)\u001b[0m\u001b[0;34m\u001b[0m\u001b[0;34m\u001b[0m\u001b[0m\n\u001b[1;32m      9\u001b[0m \u001b[0mprint\u001b[0m\u001b[0;34m(\u001b[0m\u001b[0msuma\u001b[0m\u001b[0;34m(\u001b[0m\u001b[0;34m[\u001b[0m\u001b[0;36m1\u001b[0m\u001b[0;34m,\u001b[0m \u001b[0;36m2\u001b[0m\u001b[0;34m,\u001b[0m \u001b[0;36m3\u001b[0m\u001b[0;34m]\u001b[0m\u001b[0;34m,\u001b[0m \u001b[0;34m[\u001b[0m\u001b[0;36m4\u001b[0m\u001b[0;34m,\u001b[0m \u001b[0;36m5\u001b[0m\u001b[0;34m]\u001b[0m\u001b[0;34m)\u001b[0m\u001b[0;34m)\u001b[0m\u001b[0;34m\u001b[0m\u001b[0;34m\u001b[0m\u001b[0m\n\u001b[0;32m---> 10\u001b[0;31m \u001b[0mprint\u001b[0m\u001b[0;34m(\u001b[0m\u001b[0msuma\u001b[0m\u001b[0;34m(\u001b[0m\u001b[0;34m\"1\"\u001b[0m\u001b[0;34m,\u001b[0m \u001b[0;36m3\u001b[0m\u001b[0;34m)\u001b[0m\u001b[0;34m)\u001b[0m  \u001b[0;31m# Falla\u001b[0m\u001b[0;34m\u001b[0m\u001b[0;34m\u001b[0m\u001b[0m\n\u001b[0m",
      "\u001b[0;32m<ipython-input-1-c2a6a99a90c7>\u001b[0m in \u001b[0;36msuma\u001b[0;34m(a, b)\u001b[0m\n\u001b[1;32m      1\u001b[0m \u001b[0;32mdef\u001b[0m \u001b[0msuma\u001b[0m\u001b[0;34m(\u001b[0m\u001b[0ma\u001b[0m\u001b[0;34m,\u001b[0m \u001b[0mb\u001b[0m\u001b[0;34m)\u001b[0m\u001b[0;34m:\u001b[0m\u001b[0;34m\u001b[0m\u001b[0;34m\u001b[0m\u001b[0m\n\u001b[0;32m----> 2\u001b[0;31m     \u001b[0;32mreturn\u001b[0m \u001b[0ma\u001b[0m \u001b[0;34m+\u001b[0m \u001b[0mb\u001b[0m\u001b[0;34m\u001b[0m\u001b[0;34m\u001b[0m\u001b[0m\n\u001b[0m\u001b[1;32m      3\u001b[0m \u001b[0;34m\u001b[0m\u001b[0m\n\u001b[1;32m      4\u001b[0m \u001b[0;34m\u001b[0m\u001b[0m\n\u001b[1;32m      5\u001b[0m \u001b[0mprint\u001b[0m\u001b[0;34m(\u001b[0m\u001b[0msuma\u001b[0m\u001b[0;34m(\u001b[0m\u001b[0;36m1\u001b[0m\u001b[0;34m,\u001b[0m \u001b[0;36m2\u001b[0m\u001b[0;34m)\u001b[0m\u001b[0;34m)\u001b[0m\u001b[0;34m\u001b[0m\u001b[0;34m\u001b[0m\u001b[0m\n",
      "\u001b[0;31mTypeError\u001b[0m: can only concatenate str (not \"int\") to str"
     ]
    }
   ],
   "source": [
    "def suma(a, b):\n",
    "    return a + b\n",
    "\n",
    "\n",
    "print(suma(1, 2))\n",
    "print(suma(1.0, 2.0))\n",
    "print(suma(1.0, 2))\n",
    "print(suma(\"hola \", \"como te va\"))\n",
    "print(suma([1, 2, 3], [4, 5]))\n",
    "print(suma(\"1\", 3))  # Falla"
   ]
  },
  {
   "cell_type": "code",
   "execution_count": 81,
   "id": "5c0061a5",
   "metadata": {
    "execution": {
     "iopub.execute_input": "2021-05-28T01:21:16.049966Z",
     "iopub.status.busy": "2021-05-28T01:21:16.048943Z",
     "iopub.status.idle": "2021-05-28T01:21:16.051635Z",
     "shell.execute_reply": "2021-05-28T01:21:16.051205Z"
    }
   },
   "outputs": [
    {
     "name": "stdout",
     "output_type": "stream",
     "text": [
      "2.0\n"
     ]
    }
   ],
   "source": [
    "# El valor por default de divisor es 1\n",
    "\n",
    "\n",
    "def division(dividendo, divisor=2):\n",
    "    return dividendo / divisor\n",
    "\n",
    "\n",
    "print(division(4))  # Usa el valor por default"
   ]
  },
  {
   "cell_type": "code",
   "execution_count": 82,
   "id": "7203ca10",
   "metadata": {
    "execution": {
     "iopub.execute_input": "2021-05-28T01:21:16.055121Z",
     "iopub.status.busy": "2021-05-28T01:21:16.054647Z",
     "iopub.status.idle": "2021-05-28T01:21:16.060410Z",
     "shell.execute_reply": "2021-05-28T01:21:16.059980Z"
    },
    "tags": [
     "raises-exception"
    ]
   },
   "outputs": [
    {
     "name": "stdout",
     "output_type": "stream",
     "text": [
      "0.5\n",
      "0.5\n"
     ]
    },
    {
     "ename": "TypeError",
     "evalue": "division() missing 1 required positional argument: 'dividendo'",
     "output_type": "error",
     "traceback": [
      "\u001b[0;31m---------------------------------------------------------------------------\u001b[0m",
      "\u001b[0;31mTypeError\u001b[0m                                 Traceback (most recent call last)",
      "\u001b[0;32m<ipython-input-1-34eff3833138>\u001b[0m in \u001b[0;36m<module>\u001b[0;34m\u001b[0m\n\u001b[1;32m      1\u001b[0m \u001b[0mprint\u001b[0m\u001b[0;34m(\u001b[0m\u001b[0mdivision\u001b[0m\u001b[0;34m(\u001b[0m\u001b[0;36m1\u001b[0m\u001b[0;34m,\u001b[0m \u001b[0;36m2\u001b[0m\u001b[0;34m)\u001b[0m\u001b[0;34m)\u001b[0m  \u001b[0;31m# Parámetros por orden\u001b[0m\u001b[0;34m\u001b[0m\u001b[0;34m\u001b[0m\u001b[0m\n\u001b[1;32m      2\u001b[0m \u001b[0mprint\u001b[0m\u001b[0;34m(\u001b[0m\u001b[0mdivision\u001b[0m\u001b[0;34m(\u001b[0m\u001b[0mdividendo\u001b[0m\u001b[0;34m=\u001b[0m\u001b[0;36m1\u001b[0m\u001b[0;34m,\u001b[0m \u001b[0mdivisor\u001b[0m\u001b[0;34m=\u001b[0m\u001b[0;36m2\u001b[0m\u001b[0;34m)\u001b[0m\u001b[0;34m)\u001b[0m  \u001b[0;31m# Parámetros por nombre\u001b[0m\u001b[0;34m\u001b[0m\u001b[0;34m\u001b[0m\u001b[0m\n\u001b[0;32m----> 3\u001b[0;31m \u001b[0mprint\u001b[0m\u001b[0;34m(\u001b[0m\u001b[0mdivision\u001b[0m\u001b[0;34m(\u001b[0m\u001b[0mdivisor\u001b[0m\u001b[0;34m=\u001b[0m\u001b[0;36m2\u001b[0m\u001b[0;34m)\u001b[0m\u001b[0;34m)\u001b[0m\u001b[0;34m\u001b[0m\u001b[0;34m\u001b[0m\u001b[0m\n\u001b[0m",
      "\u001b[0;31mTypeError\u001b[0m: division() missing 1 required positional argument: 'dividendo'"
     ]
    }
   ],
   "source": [
    "print(division(1, 2))  # Parámetros por orden\n",
    "print(division(dividendo=1, divisor=2))  # Parámetros por nombre\n",
    "print(division(divisor=2))"
   ]
  },
  {
   "cell_type": "code",
   "execution_count": 83,
   "id": "3b98b52b",
   "metadata": {
    "execution": {
     "iopub.execute_input": "2021-05-28T01:21:16.064578Z",
     "iopub.status.busy": "2021-05-28T01:21:16.063599Z",
     "iopub.status.idle": "2021-05-28T01:21:16.066234Z",
     "shell.execute_reply": "2021-05-28T01:21:16.065814Z"
    }
   },
   "outputs": [
    {
     "name": "stdout",
     "output_type": "stream",
     "text": [
      "0.5\n"
     ]
    }
   ],
   "source": [
    "print(division(divisor=2, dividendo=1))"
   ]
  },
  {
   "cell_type": "code",
   "execution_count": 84,
   "id": "0c805701",
   "metadata": {
    "execution": {
     "iopub.execute_input": "2021-05-28T01:21:16.071567Z",
     "iopub.status.busy": "2021-05-28T01:21:16.070530Z",
     "iopub.status.idle": "2021-05-28T01:21:16.073172Z",
     "shell.execute_reply": "2021-05-28T01:21:16.072756Z"
    }
   },
   "outputs": [
    {
     "name": "stdout",
     "output_type": "stream",
     "text": [
      "['a', 'b', 'c']\n",
      "[1, 2, 3]\n",
      "['hola', ' don', ' pepito']\n",
      "hola -  don -  pepito\n"
     ]
    }
   ],
   "source": [
    "# Funciones básicas ya en el lenguaje\n",
    "# Hechas para funcionar para distintos tipos\n",
    "\n",
    "string_ordenado = sorted('bca')\n",
    "print(string_ordenado)\n",
    "\n",
    "lista_ordenada = sorted([1, 3, 2])\n",
    "print(lista_ordenada)\n",
    "\n",
    "separadas = \"hola, don, pepito\".split(\",\")\n",
    "print(separadas)\n",
    "unidas = \" - \".join(separadas)\n",
    "print(unidas)"
   ]
  },
  {
   "cell_type": "markdown",
   "id": "8096b5fb",
   "metadata": {},
   "source": [
    "## Módulos\n",
    "\n",
    "Para incluir alguna biblioteca de funciones se usa `import`. Pueden ser cosas ya predefinidas en Python (`math`, `random`, etc), nombres de archivos en nuestro directorio (por ejemplo, para `mimodulo.py` ponemos `import mimodulo`) o bibliotecas instaladas por el usuario"
   ]
  },
  {
   "cell_type": "code",
   "execution_count": 85,
   "id": "f28da292",
   "metadata": {
    "execution": {
     "iopub.execute_input": "2021-05-28T01:21:16.077344Z",
     "iopub.status.busy": "2021-05-28T01:21:16.076287Z",
     "iopub.status.idle": "2021-05-28T01:21:16.078927Z",
     "shell.execute_reply": "2021-05-28T01:21:16.078510Z"
    }
   },
   "outputs": [
    {
     "name": "stdout",
     "output_type": "stream",
     "text": [
      "3.141592653589793\n"
     ]
    }
   ],
   "source": [
    "import math\n",
    "\n",
    "print(math.pi)"
   ]
  },
  {
   "cell_type": "code",
   "execution_count": 86,
   "id": "df3bacca",
   "metadata": {
    "execution": {
     "iopub.execute_input": "2021-05-28T01:21:16.082625Z",
     "iopub.status.busy": "2021-05-28T01:21:16.082151Z",
     "iopub.status.idle": "2021-05-28T01:21:16.083737Z",
     "shell.execute_reply": "2021-05-28T01:21:16.084152Z"
    }
   },
   "outputs": [
    {
     "name": "stdout",
     "output_type": "stream",
     "text": [
      "3.141592653589793 2.718281828459045\n"
     ]
    }
   ],
   "source": [
    "from math import pi, e\n",
    "\n",
    "print(pi, e)"
   ]
  },
  {
   "cell_type": "code",
   "execution_count": 87,
   "id": "355f0851",
   "metadata": {
    "execution": {
     "iopub.execute_input": "2021-05-28T01:21:16.088019Z",
     "iopub.status.busy": "2021-05-28T01:21:16.087505Z",
     "iopub.status.idle": "2021-05-28T01:21:16.089229Z",
     "shell.execute_reply": "2021-05-28T01:21:16.089614Z"
    }
   },
   "outputs": [
    {
     "data": {
      "text/plain": [
       "2"
      ]
     },
     "execution_count": 1,
     "metadata": {},
     "output_type": "execute_result"
    }
   ],
   "source": [
    "math.gcd(56, 78)"
   ]
  },
  {
   "cell_type": "markdown",
   "id": "f5e1570a",
   "metadata": {},
   "source": [
    "## Manejo de excepciones\n",
    "\n",
    "Se pueden encapsular errores esperados en un bloque 'try/except' para evitar cortar el flujo del programa"
   ]
  },
  {
   "cell_type": "code",
   "execution_count": 88,
   "id": "c4a45d54",
   "metadata": {
    "execution": {
     "iopub.execute_input": "2021-05-28T01:21:16.097135Z",
     "iopub.status.busy": "2021-05-28T01:21:16.096640Z",
     "iopub.status.idle": "2021-05-28T01:21:16.098896Z",
     "shell.execute_reply": "2021-05-28T01:21:16.099310Z"
    },
    "tags": [
     "raises-exception"
    ]
   },
   "outputs": [
    {
     "ename": "ZeroDivisionError",
     "evalue": "division by zero",
     "output_type": "error",
     "traceback": [
      "\u001b[0;31m---------------------------------------------------------------------------\u001b[0m",
      "\u001b[0;31mZeroDivisionError\u001b[0m                         Traceback (most recent call last)",
      "\u001b[0;32m<ipython-input-1-f031f77b1a55>\u001b[0m in \u001b[0;36m<module>\u001b[0;34m\u001b[0m\n\u001b[0;32m----> 1\u001b[0;31m \u001b[0mdivision\u001b[0m\u001b[0;34m(\u001b[0m\u001b[0;36m1\u001b[0m\u001b[0;34m,\u001b[0m \u001b[0;36m0\u001b[0m\u001b[0;34m)\u001b[0m  \u001b[0;31m# No se puede dividir por cero\u001b[0m\u001b[0;34m\u001b[0m\u001b[0;34m\u001b[0m\u001b[0m\n\u001b[0m",
      "\u001b[0;32m<ipython-input-1-0d991d7de762>\u001b[0m in \u001b[0;36mdivision\u001b[0;34m(dividendo, divisor)\u001b[0m\n\u001b[1;32m      3\u001b[0m \u001b[0;34m\u001b[0m\u001b[0m\n\u001b[1;32m      4\u001b[0m \u001b[0;32mdef\u001b[0m \u001b[0mdivision\u001b[0m\u001b[0;34m(\u001b[0m\u001b[0mdividendo\u001b[0m\u001b[0;34m,\u001b[0m \u001b[0mdivisor\u001b[0m\u001b[0;34m=\u001b[0m\u001b[0;36m2\u001b[0m\u001b[0;34m)\u001b[0m\u001b[0;34m:\u001b[0m\u001b[0;34m\u001b[0m\u001b[0;34m\u001b[0m\u001b[0m\n\u001b[0;32m----> 5\u001b[0;31m     \u001b[0;32mreturn\u001b[0m \u001b[0mdividendo\u001b[0m \u001b[0;34m/\u001b[0m \u001b[0mdivisor\u001b[0m\u001b[0;34m\u001b[0m\u001b[0;34m\u001b[0m\u001b[0m\n\u001b[0m\u001b[1;32m      6\u001b[0m \u001b[0;34m\u001b[0m\u001b[0m\n\u001b[1;32m      7\u001b[0m \u001b[0;34m\u001b[0m\u001b[0m\n",
      "\u001b[0;31mZeroDivisionError\u001b[0m: division by zero"
     ]
    }
   ],
   "source": [
    "division(1, 0)  # No se puede dividir por cero"
   ]
  },
  {
   "cell_type": "code",
   "execution_count": 89,
   "id": "f073c810",
   "metadata": {
    "execution": {
     "iopub.execute_input": "2021-05-28T01:21:16.104067Z",
     "iopub.status.busy": "2021-05-28T01:21:16.103012Z",
     "iopub.status.idle": "2021-05-28T01:21:16.105639Z",
     "shell.execute_reply": "2021-05-28T01:21:16.105225Z"
    }
   },
   "outputs": [
    {
     "name": "stdout",
     "output_type": "stream",
     "text": [
      "No se puede dividir por cero, ojo! division by zero\n",
      "1\n"
     ]
    }
   ],
   "source": [
    "try:\n",
    "    division(1, 0)\n",
    "except (ZeroDivisionError, TypeError) as e:\n",
    "    print('No se puede dividir por cero, ojo!', e)\n",
    "finally:\n",
    "    print(1)"
   ]
  },
  {
   "cell_type": "markdown",
   "id": "83fd0e65",
   "metadata": {
    "slideshow": {
     "slide_type": "slide"
    }
   },
   "source": [
    "## Lectura y escritura de archivos"
   ]
  },
  {
   "cell_type": "code",
   "execution_count": 90,
   "id": "8fe91c09",
   "metadata": {
    "execution": {
     "iopub.execute_input": "2021-05-28T01:21:16.110132Z",
     "iopub.status.busy": "2021-05-28T01:21:16.109629Z",
     "iopub.status.idle": "2021-05-28T01:21:16.111887Z",
     "shell.execute_reply": "2021-05-28T01:21:16.112285Z"
    },
    "slideshow": {
     "slide_type": "slide"
    }
   },
   "outputs": [
    {
     "name": "stdout",
     "output_type": "stream",
     "text": [
      "<_io.TextIOWrapper name='archivo.csv' mode='w' encoding='UTF-8'>\n"
     ]
    }
   ],
   "source": [
    "import random\n",
    "\n",
    "with open(\n",
    "    'archivo.csv', 'w'\n",
    ") as archivo:  # Al usar esta sintaxis no es necesario hacer close\n",
    "    archivo.write(\"Alumno, nota\\n\")\n",
    "    # Tambien de forma similar al fprintf se puede hacer:\n",
    "    # print(\"Alumno, nota\\n\", file=archivo)\n",
    "    for i in range(0, 10):\n",
    "        archivo.write(f\"{i},{random.randrange(0,10)}\\n\")\n",
    "\n",
    "print(archivo)  # Comentario aclaratorio:\n",
    "# Las variables definidas en un determinado scope siguen existiendo por fuera del mismo.\n",
    "# Se debe tener cuidado con esto, ya que nada garantiza que por fuera el valor sea el esperado."
   ]
  },
  {
   "cell_type": "code",
   "execution_count": 91,
   "id": "ee947fa7",
   "metadata": {
    "execution": {
     "iopub.execute_input": "2021-05-28T01:21:16.117084Z",
     "iopub.status.busy": "2021-05-28T01:21:16.116593Z",
     "iopub.status.idle": "2021-05-28T01:21:16.118243Z",
     "shell.execute_reply": "2021-05-28T01:21:16.118625Z"
    },
    "slideshow": {
     "slide_type": "slide"
    }
   },
   "outputs": [
    {
     "name": "stdout",
     "output_type": "stream",
     "text": [
      "Alumno, nota\n",
      "0,3\n",
      "1,4\n",
      "2,4\n",
      "3,6\n",
      "4,4\n",
      "5,7\n",
      "6,8\n",
      "7,3\n",
      "8,1\n",
      "9,9\n"
     ]
    }
   ],
   "source": [
    "with open('archivo.csv', 'r') as f:\n",
    "    for linea in f:\n",
    "        print(linea.strip())"
   ]
  },
  {
   "cell_type": "code",
   "execution_count": 92,
   "id": "b5c1fefd",
   "metadata": {
    "execution": {
     "iopub.execute_input": "2021-05-28T01:21:16.121576Z",
     "iopub.status.busy": "2021-05-28T01:21:16.121052Z",
     "iopub.status.idle": "2021-05-28T01:21:16.124096Z",
     "shell.execute_reply": "2021-05-28T01:21:16.123647Z"
    }
   },
   "outputs": [
    {
     "name": "stdout",
     "output_type": "stream",
     "text": [
      "Alumno, nota\n",
      "0,3\n",
      "1,4\n",
      "2,4\n",
      "3,6\n",
      "4,4\n",
      "5,7\n",
      "6,8\n",
      "7,3\n",
      "8,1\n",
      "9,9\n",
      "\n"
     ]
    }
   ],
   "source": [
    "with open('archivo.csv', 'r') as f:\n",
    "    print(f.read())"
   ]
  },
  {
   "cell_type": "code",
   "execution_count": 93,
   "id": "55fdb7c6",
   "metadata": {
    "execution": {
     "iopub.execute_input": "2021-05-28T01:21:16.127472Z",
     "iopub.status.busy": "2021-05-28T01:21:16.126965Z",
     "iopub.status.idle": "2021-05-28T01:21:16.129094Z",
     "shell.execute_reply": "2021-05-28T01:21:16.128680Z"
    }
   },
   "outputs": [],
   "source": [
    "f = open('archivo.csv', 'w')\n",
    "f.write(\"algo, algo\")\n",
    "f.close()"
   ]
  },
  {
   "cell_type": "markdown",
   "id": "9a3fc6eb",
   "metadata": {
    "slideshow": {
     "slide_type": "slide"
    }
   },
   "source": [
    "## Objetos\n",
    "\n",
    "Los objetos tienen metodos y atributos:\n",
    "- Atributos: equivalentes a variables.\n",
    "- Métodos: equivalentes a las primitivas."
   ]
  },
  {
   "cell_type": "markdown",
   "id": "39cc5737",
   "metadata": {
    "slideshow": {
     "slide_type": "slide"
    }
   },
   "source": [
    "### Cómo creo una clase"
   ]
  },
  {
   "cell_type": "code",
   "execution_count": 94,
   "id": "c3e6640e",
   "metadata": {
    "execution": {
     "iopub.execute_input": "2021-05-28T01:21:16.134572Z",
     "iopub.status.busy": "2021-05-28T01:21:16.133589Z",
     "iopub.status.idle": "2021-05-28T01:21:16.135191Z",
     "shell.execute_reply": "2021-05-28T01:21:16.135579Z"
    },
    "slideshow": {
     "slide_type": "slide"
    }
   },
   "outputs": [],
   "source": [
    "class Nodo(object):\n",
    "    def __init__(self, dato, siguiente=None):\n",
    "        self._dato = dato\n",
    "        self._siguiente = siguiente\n",
    "\n",
    "    @property\n",
    "    def dato(self):\n",
    "        return self._dato\n",
    "\n",
    "    @property\n",
    "    def proximo(self):\n",
    "        return self._siguiente\n",
    "\n",
    "    @proximo.setter\n",
    "    def proximo(self, siguiente):\n",
    "        self._siguiente = siguiente\n",
    "\n",
    "    def __repr__(self):\n",
    "        return str(self.dato)\n",
    "\n",
    "    def __str__(self):\n",
    "        return str(self.dato)"
   ]
  },
  {
   "cell_type": "code",
   "execution_count": 95,
   "id": "64350638",
   "metadata": {
    "execution": {
     "iopub.execute_input": "2021-05-28T01:21:16.139186Z",
     "iopub.status.busy": "2021-05-28T01:21:16.138712Z",
     "iopub.status.idle": "2021-05-28T01:21:16.140330Z",
     "shell.execute_reply": "2021-05-28T01:21:16.140713Z"
    },
    "slideshow": {
     "slide_type": "slide"
    }
   },
   "outputs": [
    {
     "name": "stdout",
     "output_type": "stream",
     "text": [
      "hola\n"
     ]
    }
   ],
   "source": [
    "nodo = Nodo(\"hola\")\n",
    "print(nodo)"
   ]
  },
  {
   "cell_type": "code",
   "execution_count": 96,
   "id": "b240e7e2",
   "metadata": {
    "execution": {
     "iopub.execute_input": "2021-05-28T01:21:16.143942Z",
     "iopub.status.busy": "2021-05-28T01:21:16.143439Z",
     "iopub.status.idle": "2021-05-28T01:21:16.145236Z",
     "shell.execute_reply": "2021-05-28T01:21:16.145622Z"
    },
    "slideshow": {
     "slide_type": "slide"
    }
   },
   "outputs": [
    {
     "name": "stdout",
     "output_type": "stream",
     "text": [
      "[hola, lala]\n"
     ]
    }
   ],
   "source": [
    "nodo2 = Nodo(\"lala\")\n",
    "print([nodo, nodo2])"
   ]
  },
  {
   "cell_type": "code",
   "execution_count": 97,
   "id": "aca28278",
   "metadata": {
    "execution": {
     "iopub.execute_input": "2021-05-28T01:21:16.148769Z",
     "iopub.status.busy": "2021-05-28T01:21:16.148294Z",
     "iopub.status.idle": "2021-05-28T01:21:16.150097Z",
     "shell.execute_reply": "2021-05-28T01:21:16.150488Z"
    },
    "slideshow": {
     "slide_type": "slide"
    }
   },
   "outputs": [
    {
     "name": "stdout",
     "output_type": "stream",
     "text": [
      "hola\n"
     ]
    }
   ],
   "source": [
    "nodo3 = nodo.dato\n",
    "print(nodo3)"
   ]
  },
  {
   "cell_type": "markdown",
   "id": "fd288ad3",
   "metadata": {
    "slideshow": {
     "slide_type": "slide"
    }
   },
   "source": [
    "### Ejemplo: Lista Enlazada"
   ]
  },
  {
   "cell_type": "code",
   "execution_count": 98,
   "id": "319b64c1",
   "metadata": {
    "execution": {
     "iopub.execute_input": "2021-05-28T01:21:16.158771Z",
     "iopub.status.busy": "2021-05-28T01:21:16.157753Z",
     "iopub.status.idle": "2021-05-28T01:21:16.159378Z",
     "shell.execute_reply": "2021-05-28T01:21:16.159766Z"
    },
    "slideshow": {
     "slide_type": "slide"
    }
   },
   "outputs": [],
   "source": [
    "class ListaEnlazada(object):\n",
    "    def __init__(self):\n",
    "        self._primero = None\n",
    "        self._ultimo = None\n",
    "        self._largo = 0\n",
    "\n",
    "    def __len__(self):\n",
    "        return self._largo\n",
    "\n",
    "    def insertar_al_principio(self, dato):\n",
    "        nodo = Nodo(dato, self._primero)\n",
    "        self._primero = nodo\n",
    "        self._largo += 1\n",
    "        if self._largo == 1:\n",
    "            self._ultimo = nodo\n",
    "\n",
    "    def insertar_al_final(self, dato):\n",
    "        if self._largo != 0:\n",
    "            nodo = Nodo(dato)\n",
    "            nodo_anterior = self._ultimo\n",
    "            nodo_anterior._siguiente = nodo\n",
    "            self._ultimo = nodo\n",
    "            self._largo += 1\n",
    "        else:\n",
    "            self.insertar_al_principio(dato)\n",
    "\n",
    "    @property\n",
    "    def primero(self):\n",
    "        return self._primero.dato\n",
    "\n",
    "    def borrar_primero(self):\n",
    "        dato = self.primero.dato\n",
    "        self._primero = self.primero.siguiente\n",
    "        self._largo -= 1\n",
    "        if self._largo == 0:\n",
    "            self._ultimo = None\n",
    "        return dato\n",
    "\n",
    "    def __str__(self):\n",
    "        datos = []\n",
    "        nodo_actual = self._primero\n",
    "        while nodo_actual:\n",
    "            datos.append(nodo_actual.dato)\n",
    "            nodo_actual = nodo_actual.proximo\n",
    "        return \" -> \".join(datos)\n",
    "\n",
    "    def __repr__(self):\n",
    "        return self.__str__()"
   ]
  },
  {
   "cell_type": "code",
   "execution_count": 99,
   "id": "4104d497",
   "metadata": {
    "execution": {
     "iopub.execute_input": "2021-05-28T01:21:16.163926Z",
     "iopub.status.busy": "2021-05-28T01:21:16.163394Z",
     "iopub.status.idle": "2021-05-28T01:21:16.166004Z",
     "shell.execute_reply": "2021-05-28T01:21:16.166390Z"
    },
    "slideshow": {
     "slide_type": "slide"
    }
   },
   "outputs": [
    {
     "data": {
      "text/plain": [
       "2"
      ]
     },
     "execution_count": 1,
     "metadata": {},
     "output_type": "execute_result"
    }
   ],
   "source": [
    "lista = ListaEnlazada()\n",
    "lista.insertar_al_principio(\"Primer Dato\")\n",
    "lista.insertar_al_principio(\"Primer primer Dato\")\n",
    "len(lista)"
   ]
  },
  {
   "cell_type": "code",
   "execution_count": 100,
   "id": "e3b334a1",
   "metadata": {
    "execution": {
     "iopub.execute_input": "2021-05-28T01:21:16.170106Z",
     "iopub.status.busy": "2021-05-28T01:21:16.169613Z",
     "iopub.status.idle": "2021-05-28T01:21:16.171952Z",
     "shell.execute_reply": "2021-05-28T01:21:16.172348Z"
    }
   },
   "outputs": [
    {
     "data": {
      "text/plain": [
       "Primer primer Dato -> Primer Dato"
      ]
     },
     "execution_count": 1,
     "metadata": {},
     "output_type": "execute_result"
    }
   ],
   "source": [
    "lista"
   ]
  },
  {
   "cell_type": "code",
   "execution_count": 101,
   "id": "f67c0941",
   "metadata": {
    "execution": {
     "iopub.execute_input": "2021-05-28T01:21:16.175878Z",
     "iopub.status.busy": "2021-05-28T01:21:16.175386Z",
     "iopub.status.idle": "2021-05-28T01:21:16.177007Z",
     "shell.execute_reply": "2021-05-28T01:21:16.177390Z"
    },
    "slideshow": {
     "slide_type": "slide"
    }
   },
   "outputs": [
    {
     "name": "stdout",
     "output_type": "stream",
     "text": [
      "Primer primer Dato\n"
     ]
    }
   ],
   "source": [
    "elemento = lista.primero\n",
    "print(elemento)"
   ]
  },
  {
   "cell_type": "markdown",
   "id": "87659735",
   "metadata": {},
   "source": [
    "## Recursos\n",
    "\n",
    "* [Taller de Python de Algoritmos II](https://github.com/algoritmos-rw/algo2_apuntes)\n",
    "\n",
    "* [Documentación de Python 3](https://docs.python.org/3/tutorial/)\n",
    "\n",
    "* [Apunte de Algoritmos y Programación I](https://algoritmos1rw.ddns.net/material)\n",
    "\n",
    "* [Automate the Boring Stuff with Python](http://automatetheboringstuff.com/)\n",
    "\n",
    "* [Curso Python](https://pythoncurso.github.io)\n",
    "\n",
    "* [Python Tutor](http://pythontutor.com/)\n",
    "\n",
    "* [Learn Python3 in Y minutes](https://learnxinyminutes.com/docs/python3/)\n",
    "\n",
    "* [Bibliografía de Algoritmos y Programación I](https://algoritmos1rw.ddns.net/bibliografia)"
   ]
  }
 ],
 "metadata": {
  "jupytext": {
   "encoding": "# -*- coding: utf-8 -*-",
   "formats": "ipynb,py:light"
  },
  "kernelspec": {
   "display_name": "Python 3 (venv)",
   "language": "python",
   "name": "python3"
  },
  "language_info": {
   "codemirror_mode": {
    "name": "ipython",
    "version": 3
   },
   "file_extension": ".py",
   "mimetype": "text/x-python",
   "name": "python",
   "nbconvert_exporter": "python",
   "pygments_lexer": "ipython3",
   "version": "3.7.10"
  }
 },
 "nbformat": 4,
 "nbformat_minor": 5
}
