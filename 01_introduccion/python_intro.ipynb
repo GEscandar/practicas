{
 "cells": [
  {
   "cell_type": "markdown",
   "metadata": {},
   "source": [
    "# Python"
   ]
  },
  {
   "cell_type": "markdown",
   "metadata": {
    "slideshow": {
     "slide_type": "slide"
    }
   },
   "source": [
    "## Un poco de Historia"
   ]
  },
  {
   "cell_type": "markdown",
   "metadata": {
    "slideshow": {
     "slide_type": "subslide"
    }
   },
   "source": [
    "Python fue creado a finales de los años 80 por un programador holandés llamado **Guido van Rossum**,\n",
    "quien sigue siendo aún hoy el líder del desarrollo del lenguaje.\n",
    "\n",
    "(Edit julio 2018: [ya no más](https://www.mail-archive.com/python-committers@python.org/msg05628.html))"
   ]
  },
  {
   "cell_type": "markdown",
   "metadata": {
    "slideshow": {
     "slide_type": "subslide"
    }
   },
   "source": [
    "El nombre del lenguaje proviene de los humoristas británicos Monty Python.\n",
    "\n",
    ">*\"I chose Python as a working title for the project, being in a slightly irreverent mood (and a big fan of Monty Python's Flying Circus).\"*"
   ]
  },
  {
   "cell_type": "markdown",
   "metadata": {
    "slideshow": {
     "slide_type": "slide"
    }
   },
   "source": [
    "## Caracteristicas\n",
    "\n",
    "- Interpretado\n",
    "- Tipado dinamico\n",
    "- Multiparadigma\n",
    "- Alto nivel\n",
    "- Tiene un recolector de basura (no hay malloc, free, realloc, etc)"
   ]
  },
  {
   "cell_type": "markdown",
   "metadata": {},
   "source": [
    "## ¿Cómo empezar?\n",
    "\n",
    "* Al ser un lenguaje *interpretado*, se puede ir escribiendo a medida que se ejecuta, sin necesidad de compilar de antemano! Solamente hace falta escribir `python` o `python3` en una terminal para empezar\n",
    "\n",
    "* También, permite escribir archivos y correrlos. Crear un archivo con extensión `.py` y luego correr `python miarchivo.py` en laterminal"
   ]
  },
  {
   "cell_type": "markdown",
   "metadata": {
    "slideshow": {
     "slide_type": "slide"
    }
   },
   "source": [
    "## El Zen de Python"
   ]
  },
  {
   "cell_type": "code",
   "execution_count": 1,
   "metadata": {
    "execution": {
     "iopub.execute_input": "2020-12-11T01:32:24.367884Z",
     "iopub.status.busy": "2020-12-11T01:32:24.367032Z",
     "iopub.status.idle": "2020-12-11T01:32:24.396770Z",
     "shell.execute_reply": "2020-12-11T01:32:24.396185Z"
    },
    "slideshow": {
     "slide_type": "slide"
    }
   },
   "outputs": [
    {
     "name": "stdout",
     "output_type": "stream",
     "text": [
      "The Zen of Python, by Tim Peters\n",
      "\n",
      "Beautiful is better than ugly.\n",
      "Explicit is better than implicit.\n",
      "Simple is better than complex.\n",
      "Complex is better than complicated.\n",
      "Flat is better than nested.\n",
      "Sparse is better than dense.\n",
      "Readability counts.\n",
      "Special cases aren't special enough to break the rules.\n",
      "Although practicality beats purity.\n",
      "Errors should never pass silently.\n",
      "Unless explicitly silenced.\n",
      "In the face of ambiguity, refuse the temptation to guess.\n",
      "There should be one-- and preferably only one --obvious way to do it.\n",
      "Although that way may not be obvious at first unless you're Dutch.\n",
      "Now is better than never.\n",
      "Although never is often better than *right* now.\n",
      "If the implementation is hard to explain, it's a bad idea.\n",
      "If the implementation is easy to explain, it may be a good idea.\n",
      "Namespaces are one honking great idea -- let's do more of those!\n"
     ]
    }
   ],
   "source": [
    "import this"
   ]
  },
  {
   "cell_type": "markdown",
   "metadata": {
    "slideshow": {
     "slide_type": "slide"
    }
   },
   "source": [
    "## Conocimientos Básicos de Python: Variables y Tipos"
   ]
  },
  {
   "cell_type": "code",
   "execution_count": 2,
   "metadata": {
    "execution": {
     "iopub.execute_input": "2020-12-11T01:32:24.402273Z",
     "iopub.status.busy": "2020-12-11T01:32:24.400935Z",
     "iopub.status.idle": "2020-12-11T01:32:24.404206Z",
     "shell.execute_reply": "2020-12-11T01:32:24.403697Z"
    },
    "slideshow": {
     "slide_type": "slide"
    }
   },
   "outputs": [
    {
     "name": "stdout",
     "output_type": "stream",
     "text": [
      "Hello World!\n"
     ]
    }
   ],
   "source": [
    "# Este es un comentario\n",
    "\n",
    "print(\"Hello World!\")"
   ]
  },
  {
   "cell_type": "markdown",
   "metadata": {},
   "source": [
    "Los strings en python puden escribirse tanto con comillas simples (`'`) como comillas dobles (`\"`). Normalmente vemos texto entre comillas triples para escribir _docstrings_, segun la guia de estilo de Python, el PEP8."
   ]
  },
  {
   "cell_type": "code",
   "execution_count": 3,
   "metadata": {
    "execution": {
     "iopub.execute_input": "2020-12-11T01:32:24.415759Z",
     "iopub.status.busy": "2020-12-11T01:32:24.414766Z",
     "iopub.status.idle": "2020-12-11T01:32:24.418229Z",
     "shell.execute_reply": "2020-12-11T01:32:24.417749Z"
    }
   },
   "outputs": [
    {
     "data": {
      "text/plain": [
       "'Esto es un docstring.\\n'"
      ]
     },
     "execution_count": 1,
     "metadata": {},
     "output_type": "execute_result"
    }
   ],
   "source": [
    "\"\"\"Esto es un docstring.\n",
    "\"\"\""
   ]
  },
  {
   "cell_type": "markdown",
   "metadata": {},
   "source": [
    "### Declaracion de variables"
   ]
  },
  {
   "cell_type": "code",
   "execution_count": 4,
   "metadata": {
    "execution": {
     "iopub.execute_input": "2020-12-11T01:32:24.423391Z",
     "iopub.status.busy": "2020-12-11T01:32:24.422099Z",
     "iopub.status.idle": "2020-12-11T01:32:24.425407Z",
     "shell.execute_reply": "2020-12-11T01:32:24.424852Z"
    }
   },
   "outputs": [
    {
     "name": "stdout",
     "output_type": "stream",
     "text": [
      "Hola\n"
     ]
    }
   ],
   "source": [
    "string = 'Hola'\n",
    "print(string)"
   ]
  },
  {
   "cell_type": "code",
   "execution_count": 5,
   "metadata": {
    "execution": {
     "iopub.execute_input": "2020-12-11T01:32:24.430330Z",
     "iopub.status.busy": "2020-12-11T01:32:24.429053Z",
     "iopub.status.idle": "2020-12-11T01:32:24.432213Z",
     "shell.execute_reply": "2020-12-11T01:32:24.431712Z"
    }
   },
   "outputs": [
    {
     "name": "stdout",
     "output_type": "stream",
     "text": [
      "1\n"
     ]
    }
   ],
   "source": [
    "entero = 1\n",
    "print(entero)"
   ]
  },
  {
   "cell_type": "code",
   "execution_count": 6,
   "metadata": {
    "execution": {
     "iopub.execute_input": "2020-12-11T01:32:24.437640Z",
     "iopub.status.busy": "2020-12-11T01:32:24.436341Z",
     "iopub.status.idle": "2020-12-11T01:32:24.439508Z",
     "shell.execute_reply": "2020-12-11T01:32:24.439010Z"
    }
   },
   "outputs": [
    {
     "name": "stdout",
     "output_type": "stream",
     "text": [
      "1.0\n"
     ]
    }
   ],
   "source": [
    "flotante = 1.0\n",
    "print(flotante)"
   ]
  },
  {
   "cell_type": "code",
   "execution_count": 7,
   "metadata": {
    "execution": {
     "iopub.execute_input": "2020-12-11T01:32:24.444605Z",
     "iopub.status.busy": "2020-12-11T01:32:24.443349Z",
     "iopub.status.idle": "2020-12-11T01:32:24.446532Z",
     "shell.execute_reply": "2020-12-11T01:32:24.446035Z"
    }
   },
   "outputs": [
    {
     "name": "stdout",
     "output_type": "stream",
     "text": [
      "(1, 1.0)\n"
     ]
    }
   ],
   "source": [
    "tupla = (entero, flotante)\n",
    "print(tupla)"
   ]
  },
  {
   "cell_type": "code",
   "execution_count": 8,
   "metadata": {
    "execution": {
     "iopub.execute_input": "2020-12-11T01:32:24.451881Z",
     "iopub.status.busy": "2020-12-11T01:32:24.450974Z",
     "iopub.status.idle": "2020-12-11T01:32:24.453252Z",
     "shell.execute_reply": "2020-12-11T01:32:24.453715Z"
    }
   },
   "outputs": [
    {
     "name": "stdout",
     "output_type": "stream",
     "text": [
      "(1, 1.0, 'Hola')\n"
     ]
    }
   ],
   "source": [
    "nupla = (entero, flotante, string)\n",
    "print(nupla)"
   ]
  },
  {
   "cell_type": "code",
   "execution_count": 9,
   "metadata": {
    "execution": {
     "iopub.execute_input": "2020-12-11T01:32:24.458019Z",
     "iopub.status.busy": "2020-12-11T01:32:24.457447Z",
     "iopub.status.idle": "2020-12-11T01:32:24.460278Z",
     "shell.execute_reply": "2020-12-11T01:32:24.459811Z"
    }
   },
   "outputs": [
    {
     "name": "stdout",
     "output_type": "stream",
     "text": [
      "[1, 1.0, 'Hola']\n"
     ]
    }
   ],
   "source": [
    "lista = [entero, flotante, string]\n",
    "print(lista)"
   ]
  },
  {
   "cell_type": "code",
   "execution_count": 10,
   "metadata": {
    "execution": {
     "iopub.execute_input": "2020-12-11T01:32:24.464624Z",
     "iopub.status.busy": "2020-12-11T01:32:24.464092Z",
     "iopub.status.idle": "2020-12-11T01:32:24.466533Z",
     "shell.execute_reply": "2020-12-11T01:32:24.467034Z"
    }
   },
   "outputs": [
    {
     "name": "stdout",
     "output_type": "stream",
     "text": [
      "{'1': (1, 1.0), 50: (1, 1.0, 'Hola'), '3': 1}\n"
     ]
    }
   ],
   "source": [
    "diccionario = {'1': tupla, 50: nupla, '3': entero}\n",
    "print(diccionario)"
   ]
  },
  {
   "cell_type": "code",
   "execution_count": 11,
   "metadata": {
    "execution": {
     "iopub.execute_input": "2020-12-11T01:32:24.471390Z",
     "iopub.status.busy": "2020-12-11T01:32:24.470849Z",
     "iopub.status.idle": "2020-12-11T01:32:24.472745Z",
     "shell.execute_reply": "2020-12-11T01:32:24.473203Z"
    }
   },
   "outputs": [
    {
     "name": "stdout",
     "output_type": "stream",
     "text": [
      "{1, 2}\n"
     ]
    }
   ],
   "source": [
    "conjunto = set([1, 2])\n",
    "print(conjunto)"
   ]
  },
  {
   "cell_type": "code",
   "execution_count": 12,
   "metadata": {
    "execution": {
     "iopub.execute_input": "2020-12-11T01:32:24.476874Z",
     "iopub.status.busy": "2020-12-11T01:32:24.476315Z",
     "iopub.status.idle": "2020-12-11T01:32:24.478186Z",
     "shell.execute_reply": "2020-12-11T01:32:24.478680Z"
    }
   },
   "outputs": [
    {
     "name": "stdout",
     "output_type": "stream",
     "text": [
      "True\n"
     ]
    }
   ],
   "source": [
    "booleano = True\n",
    "print(booleano)"
   ]
  },
  {
   "cell_type": "code",
   "execution_count": 13,
   "metadata": {
    "execution": {
     "iopub.execute_input": "2020-12-11T01:32:24.482502Z",
     "iopub.status.busy": "2020-12-11T01:32:24.481926Z",
     "iopub.status.idle": "2020-12-11T01:32:24.483777Z",
     "shell.execute_reply": "2020-12-11T01:32:24.484247Z"
    }
   },
   "outputs": [
    {
     "name": "stdout",
     "output_type": "stream",
     "text": [
      "None\n"
     ]
    }
   ],
   "source": [
    "nada = None\n",
    "print(nada)"
   ]
  },
  {
   "cell_type": "markdown",
   "metadata": {},
   "source": [
    "Ojo que las variables pueden cambiar de tipo!"
   ]
  },
  {
   "cell_type": "code",
   "execution_count": 14,
   "metadata": {
    "execution": {
     "iopub.execute_input": "2020-12-11T01:32:24.487909Z",
     "iopub.status.busy": "2020-12-11T01:32:24.487344Z",
     "iopub.status.idle": "2020-12-11T01:32:24.490157Z",
     "shell.execute_reply": "2020-12-11T01:32:24.490628Z"
    }
   },
   "outputs": [
    {
     "name": "stdout",
     "output_type": "stream",
     "text": [
      "1\n",
      "<class 'int'>\n"
     ]
    }
   ],
   "source": [
    "elemento = 1\n",
    "print(elemento)\n",
    "print(type(elemento))"
   ]
  },
  {
   "cell_type": "code",
   "execution_count": 15,
   "metadata": {
    "execution": {
     "iopub.execute_input": "2020-12-11T01:32:24.495198Z",
     "iopub.status.busy": "2020-12-11T01:32:24.494630Z",
     "iopub.status.idle": "2020-12-11T01:32:24.496552Z",
     "shell.execute_reply": "2020-12-11T01:32:24.497051Z"
    }
   },
   "outputs": [
    {
     "name": "stdout",
     "output_type": "stream",
     "text": [
      "1\n",
      "<class 'str'>\n"
     ]
    }
   ],
   "source": [
    "elemento = str(1)\n",
    "print(elemento)\n",
    "print(type(elemento))"
   ]
  },
  {
   "cell_type": "code",
   "execution_count": 16,
   "metadata": {
    "execution": {
     "iopub.execute_input": "2020-12-11T01:32:24.501198Z",
     "iopub.status.busy": "2020-12-11T01:32:24.500552Z",
     "iopub.status.idle": "2020-12-11T01:32:24.502598Z",
     "shell.execute_reply": "2020-12-11T01:32:24.503056Z"
    }
   },
   "outputs": [
    {
     "name": "stdout",
     "output_type": "stream",
     "text": [
      "[2]\n",
      "<class 'list'>\n"
     ]
    }
   ],
   "source": [
    "elemento = [2]\n",
    "\n",
    "print(elemento)\n",
    "print(type(elemento))"
   ]
  },
  {
   "cell_type": "markdown",
   "metadata": {},
   "source": [
    "### Tipos basicos"
   ]
  },
  {
   "cell_type": "markdown",
   "metadata": {
    "slideshow": {
     "slide_type": "slide"
    }
   },
   "source": [
    "#### Listas de Python"
   ]
  },
  {
   "cell_type": "code",
   "execution_count": 17,
   "metadata": {
    "execution": {
     "iopub.execute_input": "2020-12-11T01:32:24.507054Z",
     "iopub.status.busy": "2020-12-11T01:32:24.506490Z",
     "iopub.status.idle": "2020-12-11T01:32:24.509470Z",
     "shell.execute_reply": "2020-12-11T01:32:24.508953Z"
    }
   },
   "outputs": [
    {
     "data": {
      "text/plain": [
       "[]"
      ]
     },
     "execution_count": 1,
     "metadata": {},
     "output_type": "execute_result"
    }
   ],
   "source": [
    "lista = list()\n",
    "lista"
   ]
  },
  {
   "cell_type": "code",
   "execution_count": 18,
   "metadata": {
    "execution": {
     "iopub.execute_input": "2020-12-11T01:32:24.513259Z",
     "iopub.status.busy": "2020-12-11T01:32:24.512662Z",
     "iopub.status.idle": "2020-12-11T01:32:24.515193Z",
     "shell.execute_reply": "2020-12-11T01:32:24.515664Z"
    },
    "slideshow": {
     "slide_type": "slide"
    }
   },
   "outputs": [
    {
     "data": {
      "text/plain": [
       "[]"
      ]
     },
     "execution_count": 1,
     "metadata": {},
     "output_type": "execute_result"
    }
   ],
   "source": [
    "lista = []\n",
    "lista"
   ]
  },
  {
   "cell_type": "code",
   "execution_count": 19,
   "metadata": {
    "execution": {
     "iopub.execute_input": "2020-12-11T01:32:24.519671Z",
     "iopub.status.busy": "2020-12-11T01:32:24.519100Z",
     "iopub.status.idle": "2020-12-11T01:32:24.521608Z",
     "shell.execute_reply": "2020-12-11T01:32:24.522077Z"
    },
    "slideshow": {
     "slide_type": "slide"
    }
   },
   "outputs": [
    {
     "data": {
      "text/plain": [
       "[1, 2, 3, 4]"
      ]
     },
     "execution_count": 1,
     "metadata": {},
     "output_type": "execute_result"
    }
   ],
   "source": [
    "lista = [1, 2, 3, 4]\n",
    "lista"
   ]
  },
  {
   "cell_type": "code",
   "execution_count": 20,
   "metadata": {
    "execution": {
     "iopub.execute_input": "2020-12-11T01:32:24.526583Z",
     "iopub.status.busy": "2020-12-11T01:32:24.525968Z",
     "iopub.status.idle": "2020-12-11T01:32:24.528280Z",
     "shell.execute_reply": "2020-12-11T01:32:24.528716Z"
    },
    "slideshow": {
     "slide_type": "slide"
    }
   },
   "outputs": [
    {
     "data": {
      "text/plain": [
       "[1, 2, 3, 4, 1, 'dos', 3.0]"
      ]
     },
     "execution_count": 1,
     "metadata": {},
     "output_type": "execute_result"
    }
   ],
   "source": [
    "lista.append(1)  # Inserto un 1 al final\n",
    "lista.append(\"dos\")  # Inserto un \"dos\" al final\n",
    "lista.append(3.0)  # Inserto un 3.0 al final\n",
    "lista"
   ]
  },
  {
   "cell_type": "code",
   "execution_count": 21,
   "metadata": {
    "execution": {
     "iopub.execute_input": "2020-12-11T01:32:24.532561Z",
     "iopub.status.busy": "2020-12-11T01:32:24.531991Z",
     "iopub.status.idle": "2020-12-11T01:32:24.533923Z",
     "shell.execute_reply": "2020-12-11T01:32:24.534421Z"
    }
   },
   "outputs": [
    {
     "name": "stdout",
     "output_type": "stream",
     "text": [
      "[1, 2, 10, 3, 4, 1, 'dos', 3.0]\n"
     ]
    }
   ],
   "source": [
    "lista.insert(2, 10)  # Inserto en posicion 2 un 10\n",
    "print(lista)"
   ]
  },
  {
   "cell_type": "code",
   "execution_count": 22,
   "metadata": {
    "execution": {
     "iopub.execute_input": "2020-12-11T01:32:24.538187Z",
     "iopub.status.busy": "2020-12-11T01:32:24.537612Z",
     "iopub.status.idle": "2020-12-11T01:32:24.540558Z",
     "shell.execute_reply": "2020-12-11T01:32:24.540050Z"
    }
   },
   "outputs": [
    {
     "data": {
      "text/plain": [
       "8"
      ]
     },
     "execution_count": 1,
     "metadata": {},
     "output_type": "execute_result"
    }
   ],
   "source": [
    "len(lista)"
   ]
  },
  {
   "cell_type": "code",
   "execution_count": 23,
   "metadata": {
    "execution": {
     "iopub.execute_input": "2020-12-11T01:32:24.544285Z",
     "iopub.status.busy": "2020-12-11T01:32:24.543709Z",
     "iopub.status.idle": "2020-12-11T01:32:24.546694Z",
     "shell.execute_reply": "2020-12-11T01:32:24.546189Z"
    }
   },
   "outputs": [
    {
     "data": {
      "text/plain": [
       "3.0"
      ]
     },
     "execution_count": 1,
     "metadata": {},
     "output_type": "execute_result"
    }
   ],
   "source": [
    "lista.pop()"
   ]
  },
  {
   "cell_type": "code",
   "execution_count": 24,
   "metadata": {
    "execution": {
     "iopub.execute_input": "2020-12-11T01:32:24.550497Z",
     "iopub.status.busy": "2020-12-11T01:32:24.549929Z",
     "iopub.status.idle": "2020-12-11T01:32:24.552420Z",
     "shell.execute_reply": "2020-12-11T01:32:24.552870Z"
    }
   },
   "outputs": [
    {
     "data": {
      "text/plain": [
       "[1, 2, 10, 3, 4, 1, 'dos']"
      ]
     },
     "execution_count": 1,
     "metadata": {},
     "output_type": "execute_result"
    }
   ],
   "source": [
    "lista"
   ]
  },
  {
   "cell_type": "code",
   "execution_count": 25,
   "metadata": {
    "execution": {
     "iopub.execute_input": "2020-12-11T01:32:24.556615Z",
     "iopub.status.busy": "2020-12-11T01:32:24.556045Z",
     "iopub.status.idle": "2020-12-11T01:32:24.558502Z",
     "shell.execute_reply": "2020-12-11T01:32:24.558969Z"
    }
   },
   "outputs": [
    {
     "data": {
      "text/plain": [
       "2"
      ]
     },
     "execution_count": 1,
     "metadata": {},
     "output_type": "execute_result"
    }
   ],
   "source": [
    "lista.index(10)"
   ]
  },
  {
   "cell_type": "code",
   "execution_count": 26,
   "metadata": {
    "execution": {
     "iopub.execute_input": "2020-12-11T01:32:24.562832Z",
     "iopub.status.busy": "2020-12-11T01:32:24.562256Z",
     "iopub.status.idle": "2020-12-11T01:32:24.564577Z",
     "shell.execute_reply": "2020-12-11T01:32:24.565105Z"
    }
   },
   "outputs": [
    {
     "data": {
      "text/plain": [
       "[1, 2, 3, 4, 1, 'dos']"
      ]
     },
     "execution_count": 1,
     "metadata": {},
     "output_type": "execute_result"
    }
   ],
   "source": [
    "lista.remove(10)\n",
    "lista"
   ]
  },
  {
   "cell_type": "code",
   "execution_count": 27,
   "metadata": {
    "execution": {
     "iopub.execute_input": "2020-12-11T01:32:24.568649Z",
     "iopub.status.busy": "2020-12-11T01:32:24.568072Z",
     "iopub.status.idle": "2020-12-11T01:32:24.627481Z",
     "shell.execute_reply": "2020-12-11T01:32:24.628018Z"
    },
    "tags": [
     "raises-exception"
    ]
   },
   "outputs": [
    {
     "name": "stdout",
     "output_type": "stream",
     "text": [
      "1\n",
      "2\n",
      "2\n",
      "3\n",
      "3\n",
      "4\n",
      "4\n",
      "5\n",
      "1\n",
      "2\n",
      "dos\n"
     ]
    },
    {
     "ename": "TypeError",
     "evalue": "can only concatenate str (not \"int\") to str",
     "output_type": "error",
     "traceback": [
      "\u001b[0;31m---------------------------------------------------------------------------\u001b[0m",
      "\u001b[0;31mTypeError\u001b[0m                                 Traceback (most recent call last)",
      "\u001b[0;32m<ipython-input-1-41b56d5cf080>\u001b[0m in \u001b[0;36m<module>\u001b[0;34m\u001b[0m\n\u001b[1;32m      1\u001b[0m \u001b[0;32mfor\u001b[0m \u001b[0melemento\u001b[0m \u001b[0;32min\u001b[0m \u001b[0mlista\u001b[0m\u001b[0;34m:\u001b[0m\u001b[0;34m\u001b[0m\u001b[0;34m\u001b[0m\u001b[0m\n\u001b[1;32m      2\u001b[0m     \u001b[0mprint\u001b[0m\u001b[0;34m(\u001b[0m\u001b[0melemento\u001b[0m\u001b[0;34m)\u001b[0m\u001b[0;34m\u001b[0m\u001b[0;34m\u001b[0m\u001b[0m\n\u001b[0;32m----> 3\u001b[0;31m     \u001b[0mprint\u001b[0m\u001b[0;34m(\u001b[0m\u001b[0melemento\u001b[0m \u001b[0;34m+\u001b[0m \u001b[0;36m1\u001b[0m\u001b[0;34m)\u001b[0m\u001b[0;34m\u001b[0m\u001b[0;34m\u001b[0m\u001b[0m\n\u001b[0m",
      "\u001b[0;31mTypeError\u001b[0m: can only concatenate str (not \"int\") to str"
     ]
    }
   ],
   "source": [
    "for elemento in lista:\n",
    "    print(elemento)\n",
    "    print(elemento + 1)"
   ]
  },
  {
   "cell_type": "code",
   "execution_count": 28,
   "metadata": {
    "execution": {
     "iopub.status.busy": "2020-12-11T01:32:24.631049Z",
     "iopub.status.idle": "2020-12-11T01:32:24.631603Z",
     "shell.execute_reply": "2020-12-11T01:32:24.630575Z"
    }
   },
   "outputs": [],
   "source": [
    "lista"
   ]
  },
  {
   "cell_type": "code",
   "execution_count": 29,
   "metadata": {
    "execution": {
     "iopub.status.busy": "2020-12-11T01:32:24.634173Z",
     "iopub.status.idle": "2020-12-11T01:32:24.635198Z",
     "shell.execute_reply": "2020-12-11T01:32:24.634662Z"
    }
   },
   "outputs": [],
   "source": [
    "for i, elemento in enumerate(lista):\n",
    "    print(f\"{i}-ésimo elemento: {elemento}\")"
   ]
  },
  {
   "cell_type": "code",
   "execution_count": 30,
   "metadata": {
    "execution": {
     "iopub.status.busy": "2020-12-11T01:32:24.638215Z",
     "iopub.status.idle": "2020-12-11T01:32:24.638765Z",
     "shell.execute_reply": "2020-12-11T01:32:24.637613Z"
    },
    "tags": [
     "raises-exception"
    ]
   },
   "outputs": [],
   "source": [
    "sorted(lista)"
   ]
  },
  {
   "cell_type": "code",
   "execution_count": 31,
   "metadata": {
    "execution": {
     "iopub.status.busy": "2020-12-11T01:32:24.641562Z",
     "iopub.status.idle": "2020-12-11T01:32:24.642122Z",
     "shell.execute_reply": "2020-12-11T01:32:24.641090Z"
    }
   },
   "outputs": [],
   "source": [
    "lista.remove(\"dos\")"
   ]
  },
  {
   "cell_type": "code",
   "execution_count": 32,
   "metadata": {
    "execution": {
     "iopub.status.busy": "2020-12-11T01:32:24.644935Z",
     "iopub.status.idle": "2020-12-11T01:32:24.645502Z",
     "shell.execute_reply": "2020-12-11T01:32:24.644443Z"
    }
   },
   "outputs": [],
   "source": [
    "sorted(lista)"
   ]
  },
  {
   "cell_type": "code",
   "execution_count": 33,
   "metadata": {
    "execution": {
     "iopub.status.busy": "2020-12-11T01:32:24.648271Z",
     "iopub.status.idle": "2020-12-11T01:32:24.648827Z",
     "shell.execute_reply": "2020-12-11T01:32:24.647805Z"
    }
   },
   "outputs": [],
   "source": [
    "lista.sort()\n",
    "lista"
   ]
  },
  {
   "cell_type": "markdown",
   "metadata": {
    "slideshow": {
     "slide_type": "slide"
    }
   },
   "source": [
    "#### Tuplas de Python\n",
    "\n",
    "Las tuplas son inmutables. No se pueden agregar elementos luego de creadas."
   ]
  },
  {
   "cell_type": "code",
   "execution_count": 34,
   "metadata": {
    "execution": {
     "iopub.status.busy": "2020-12-11T01:32:24.651460Z",
     "iopub.status.idle": "2020-12-11T01:32:24.652478Z",
     "shell.execute_reply": "2020-12-11T01:32:24.651945Z"
    },
    "slideshow": {
     "slide_type": "slide"
    },
    "tags": [
     "raises-exception"
    ]
   },
   "outputs": [],
   "source": [
    "tupla = (1, 2)\n",
    "\n",
    "print(tupla)\n",
    "print(tupla[0])\n",
    "print(tupla[1])\n",
    "\n",
    "tupla[1] = 3  # Falla. No se puede mutar"
   ]
  },
  {
   "cell_type": "code",
   "execution_count": 35,
   "metadata": {
    "execution": {
     "iopub.status.busy": "2020-12-11T01:32:24.655271Z",
     "iopub.status.idle": "2020-12-11T01:32:24.655822Z",
     "shell.execute_reply": "2020-12-11T01:32:24.654802Z"
    }
   },
   "outputs": [],
   "source": [
    "l = [1, 2]\n",
    "l"
   ]
  },
  {
   "cell_type": "code",
   "execution_count": 36,
   "metadata": {
    "execution": {
     "iopub.status.busy": "2020-12-11T01:32:24.658598Z",
     "iopub.status.idle": "2020-12-11T01:32:24.659155Z",
     "shell.execute_reply": "2020-12-11T01:32:24.657997Z"
    }
   },
   "outputs": [],
   "source": [
    "l[1] = 3\n",
    "l"
   ]
  },
  {
   "cell_type": "markdown",
   "metadata": {
    "slideshow": {
     "slide_type": "slide"
    }
   },
   "source": [
    "#### Diferencia entre lista y tupla\n",
    "Las listas se caracterizan por ser mutables, es decir, se puede cambiar su contenido en tiempo de ejecución, mientras que las tuplas son inmutables ya que no es posible modificar el contenido una vez creada."
   ]
  },
  {
   "cell_type": "markdown",
   "metadata": {},
   "source": [
    "#### Slices\n",
    "\n",
    "**Valen para listas, tuplas o strings (_segmentos_)**"
   ]
  },
  {
   "cell_type": "code",
   "execution_count": 37,
   "metadata": {
    "execution": {
     "iopub.status.busy": "2020-12-11T01:32:24.662626Z",
     "iopub.status.idle": "2020-12-11T01:32:24.663170Z",
     "shell.execute_reply": "2020-12-11T01:32:24.662033Z"
    }
   },
   "outputs": [],
   "source": [
    "numeros = [0, 1, 2, 3, 4, 5, 6, 7, 8, 9, 10]"
   ]
  },
  {
   "cell_type": "code",
   "execution_count": 38,
   "metadata": {
    "execution": {
     "iopub.status.busy": "2020-12-11T01:32:24.666345Z",
     "iopub.status.idle": "2020-12-11T01:32:24.666894Z",
     "shell.execute_reply": "2020-12-11T01:32:24.665752Z"
    }
   },
   "outputs": [],
   "source": [
    "print(numeros)"
   ]
  },
  {
   "cell_type": "code",
   "execution_count": 39,
   "metadata": {
    "execution": {
     "iopub.status.busy": "2020-12-11T01:32:24.669972Z",
     "iopub.status.idle": "2020-12-11T01:32:24.670519Z",
     "shell.execute_reply": "2020-12-11T01:32:24.669472Z"
    }
   },
   "outputs": [],
   "source": [
    "print(numeros[2])  # Imprimo elemento en la posición 2"
   ]
  },
  {
   "cell_type": "code",
   "execution_count": 40,
   "metadata": {
    "execution": {
     "iopub.status.busy": "2020-12-11T01:32:24.673589Z",
     "iopub.status.idle": "2020-12-11T01:32:24.674134Z",
     "shell.execute_reply": "2020-12-11T01:32:24.673087Z"
    }
   },
   "outputs": [],
   "source": [
    "numeros[len(numeros) - 1]"
   ]
  },
  {
   "cell_type": "code",
   "execution_count": 41,
   "metadata": {
    "execution": {
     "iopub.status.busy": "2020-12-11T01:32:24.677227Z",
     "iopub.status.idle": "2020-12-11T01:32:24.677776Z",
     "shell.execute_reply": "2020-12-11T01:32:24.676702Z"
    },
    "lines_to_next_cell": 2
   },
   "outputs": [],
   "source": [
    "print(numeros[-1])  # # Imprimo elemento en la última posición"
   ]
  },
  {
   "cell_type": "code",
   "execution_count": 42,
   "metadata": {
    "execution": {
     "iopub.status.busy": "2020-12-11T01:32:24.680811Z",
     "iopub.status.idle": "2020-12-11T01:32:24.681385Z",
     "shell.execute_reply": "2020-12-11T01:32:24.680316Z"
    },
    "lines_to_next_cell": 2
   },
   "outputs": [],
   "source": [
    "numeros[-2]"
   ]
  },
  {
   "cell_type": "code",
   "execution_count": 43,
   "metadata": {
    "execution": {
     "iopub.status.busy": "2020-12-11T01:32:24.684181Z",
     "iopub.status.idle": "2020-12-11T01:32:24.685394Z",
     "shell.execute_reply": "2020-12-11T01:32:24.684822Z"
    }
   },
   "outputs": [],
   "source": [
    "print(numeros[0:3])  # Imprimo de la pos 0 a la pos 2"
   ]
  },
  {
   "cell_type": "code",
   "execution_count": 44,
   "metadata": {
    "execution": {
     "iopub.status.busy": "2020-12-11T01:32:24.687976Z",
     "iopub.status.idle": "2020-12-11T01:32:24.689021Z",
     "shell.execute_reply": "2020-12-11T01:32:24.688463Z"
    }
   },
   "outputs": [],
   "source": [
    "print(numeros[-4:-2])"
   ]
  },
  {
   "cell_type": "code",
   "execution_count": 45,
   "metadata": {
    "execution": {
     "iopub.status.busy": "2020-12-11T01:32:24.691579Z",
     "iopub.status.idle": "2020-12-11T01:32:24.692593Z",
     "shell.execute_reply": "2020-12-11T01:32:24.692061Z"
    }
   },
   "outputs": [],
   "source": [
    "print(numeros[0:80])"
   ]
  },
  {
   "cell_type": "code",
   "execution_count": 46,
   "metadata": {
    "execution": {
     "iopub.status.busy": "2020-12-11T01:32:24.695133Z",
     "iopub.status.idle": "2020-12-11T01:32:24.696155Z",
     "shell.execute_reply": "2020-12-11T01:32:24.695614Z"
    }
   },
   "outputs": [],
   "source": [
    "print(numeros[:3])"
   ]
  },
  {
   "cell_type": "code",
   "execution_count": 47,
   "metadata": {
    "execution": {
     "iopub.status.busy": "2020-12-11T01:32:24.699022Z",
     "iopub.status.idle": "2020-12-11T01:32:24.700037Z",
     "shell.execute_reply": "2020-12-11T01:32:24.699504Z"
    }
   },
   "outputs": [],
   "source": [
    "print(numeros[3:])"
   ]
  },
  {
   "cell_type": "code",
   "execution_count": 48,
   "metadata": {
    "execution": {
     "iopub.status.busy": "2020-12-11T01:32:24.703016Z",
     "iopub.status.idle": "2020-12-11T01:32:24.703562Z",
     "shell.execute_reply": "2020-12-11T01:32:24.702518Z"
    }
   },
   "outputs": [],
   "source": [
    "print(numeros[0:10:2])"
   ]
  },
  {
   "cell_type": "markdown",
   "metadata": {},
   "source": [
    "```python\n",
    "lista[<inicio>:<final>:<step>]\n",
    "```"
   ]
  },
  {
   "cell_type": "code",
   "execution_count": 49,
   "metadata": {
    "execution": {
     "iopub.status.busy": "2020-12-11T01:32:24.706457Z",
     "iopub.status.idle": "2020-12-11T01:32:24.707010Z",
     "shell.execute_reply": "2020-12-11T01:32:24.705989Z"
    },
    "lines_to_next_cell": 2
   },
   "outputs": [],
   "source": [
    "l1 = [1, 2]\n",
    "l2 = [3, 4]\n",
    "l1 + l2"
   ]
  },
  {
   "cell_type": "code",
   "execution_count": 50,
   "metadata": {
    "execution": {
     "iopub.status.busy": "2020-12-11T01:32:24.709791Z",
     "iopub.status.idle": "2020-12-11T01:32:24.710342Z",
     "shell.execute_reply": "2020-12-11T01:32:24.709317Z"
    }
   },
   "outputs": [],
   "source": [
    "numeros[7] = 'siete'  # Las listas se pueden mutar\n",
    "print(numeros)"
   ]
  },
  {
   "cell_type": "code",
   "execution_count": 51,
   "metadata": {
    "execution": {
     "iopub.status.busy": "2020-12-11T01:32:24.713130Z",
     "iopub.status.idle": "2020-12-11T01:32:24.713692Z",
     "shell.execute_reply": "2020-12-11T01:32:24.712619Z"
    }
   },
   "outputs": [],
   "source": [
    "numeros = numeros[::-1]\n",
    "print(numeros)"
   ]
  },
  {
   "cell_type": "code",
   "execution_count": 52,
   "metadata": {
    "execution": {
     "iopub.status.busy": "2020-12-11T01:32:24.715901Z",
     "iopub.status.idle": "2020-12-11T01:32:24.716524Z",
     "shell.execute_reply": "2020-12-11T01:32:24.717002Z"
    },
    "tags": [
     "raises-exception"
    ]
   },
   "outputs": [],
   "source": [
    "print(numeros[15])  # Falla. No se puede acceder a una posición inexistente"
   ]
  },
  {
   "cell_type": "code",
   "execution_count": 53,
   "metadata": {
    "execution": {
     "iopub.status.busy": "2020-12-11T01:32:24.719235Z",
     "iopub.status.idle": "2020-12-11T01:32:24.719862Z",
     "shell.execute_reply": "2020-12-11T01:32:24.720287Z"
    }
   },
   "outputs": [],
   "source": [
    "palabra = 'palabra'\n",
    "print(palabra)\n",
    "print(palabra[3])\n",
    "print(palabra[:3])\n",
    "print(palabra[3:])"
   ]
  },
  {
   "cell_type": "code",
   "execution_count": 54,
   "metadata": {
    "execution": {
     "iopub.status.busy": "2020-12-11T01:32:24.722527Z",
     "iopub.status.idle": "2020-12-11T01:32:24.723159Z",
     "shell.execute_reply": "2020-12-11T01:32:24.723615Z"
    }
   },
   "outputs": [],
   "source": [
    "tupla = (0, 1, 2, 3, 4)\n",
    "\n",
    "print(tupla)\n",
    "print(tupla[:2])\n",
    "print(tupla[2:])"
   ]
  },
  {
   "cell_type": "markdown",
   "metadata": {
    "slideshow": {
     "slide_type": "slide"
    }
   },
   "source": [
    "#### Diccionarios de Python\n",
    "\n",
    "Son como hashmaps, las claves deben ser inmutables para que no pierda sentido el diccionario. Si se pudieran modificar, se podrían cambiar las claves y generaría conflictos.\n",
    "\n",
    "Tipos mutables:\n",
    "- Listas\n",
    "- Diccionarios\n",
    "- Sets\n",
    "\n",
    "Tipos inmutables:\n",
    "- Int\n",
    "- Float\n",
    "- String\n",
    "- Tuplas\n"
   ]
  },
  {
   "cell_type": "code",
   "execution_count": 55,
   "metadata": {
    "execution": {
     "iopub.status.busy": "2020-12-11T01:32:24.726141Z",
     "iopub.status.idle": "2020-12-11T01:32:24.727145Z",
     "shell.execute_reply": "2020-12-11T01:32:24.726620Z"
    },
    "slideshow": {
     "slide_type": "slide"
    }
   },
   "outputs": [],
   "source": [
    "diccionario = {}\n",
    "diccionario"
   ]
  },
  {
   "cell_type": "code",
   "execution_count": 56,
   "metadata": {
    "execution": {
     "iopub.execute_input": "2020-12-11T01:32:24.731051Z",
     "iopub.status.busy": "2020-12-11T01:32:24.730471Z",
     "iopub.status.idle": "2020-12-11T01:32:24.733587Z",
     "shell.execute_reply": "2020-12-11T01:32:24.733080Z"
    }
   },
   "outputs": [
    {
     "data": {
      "text/plain": [
       "{}"
      ]
     },
     "execution_count": 1,
     "metadata": {},
     "output_type": "execute_result"
    }
   ],
   "source": [
    "diccionario = dict()\n",
    "diccionario"
   ]
  },
  {
   "cell_type": "code",
   "execution_count": 57,
   "metadata": {
    "execution": {
     "iopub.execute_input": "2020-12-11T01:32:24.737760Z",
     "iopub.status.busy": "2020-12-11T01:32:24.737181Z",
     "iopub.status.idle": "2020-12-11T01:32:24.739113Z",
     "shell.execute_reply": "2020-12-11T01:32:24.739617Z"
    },
    "slideshow": {
     "slide_type": "slide"
    }
   },
   "outputs": [
    {
     "name": "stdout",
     "output_type": "stream",
     "text": [
      "{'clave1': 'valor1', 2: 'valor2', 'clave3': 3}\n"
     ]
    }
   ],
   "source": [
    "# Cómo agregar cosas al diccionario\n",
    "diccionario['clave1'] = 'valor1'\n",
    "diccionario[2] = 'valor2'\n",
    "diccionario['clave3'] = 3\n",
    "print(diccionario)"
   ]
  },
  {
   "cell_type": "markdown",
   "metadata": {},
   "source": [
    "Hay dos formas de obtener valores de un diccionario:\n",
    "\n",
    "```python\n",
    "diccionario[clave]\n",
    "```\n",
    "\n",
    "El cual devuelve el valor si existe la clave suministrada o bien lanza `KeyError` si no existe."
   ]
  },
  {
   "cell_type": "code",
   "execution_count": 58,
   "metadata": {
    "execution": {
     "iopub.execute_input": "2020-12-11T01:32:24.743460Z",
     "iopub.status.busy": "2020-12-11T01:32:24.742895Z",
     "iopub.status.idle": "2020-12-11T01:32:24.745875Z",
     "shell.execute_reply": "2020-12-11T01:32:24.745368Z"
    }
   },
   "outputs": [
    {
     "data": {
      "text/plain": [
       "'valor1'"
      ]
     },
     "execution_count": 1,
     "metadata": {},
     "output_type": "execute_result"
    }
   ],
   "source": [
    "diccionario['clave1']"
   ]
  },
  {
   "cell_type": "code",
   "execution_count": 59,
   "metadata": {
    "execution": {
     "iopub.execute_input": "2020-12-11T01:32:24.749282Z",
     "iopub.status.busy": "2020-12-11T01:32:24.748689Z",
     "iopub.status.idle": "2020-12-11T01:32:24.754336Z",
     "shell.execute_reply": "2020-12-11T01:32:24.753632Z"
    },
    "tags": [
     "raises-exception"
    ]
   },
   "outputs": [
    {
     "ename": "KeyError",
     "evalue": "'clave1000'",
     "output_type": "error",
     "traceback": [
      "\u001b[0;31m---------------------------------------------------------------------------\u001b[0m",
      "\u001b[0;31mKeyError\u001b[0m                                  Traceback (most recent call last)",
      "\u001b[0;32m<ipython-input-1-41aae9a2e5ed>\u001b[0m in \u001b[0;36m<module>\u001b[0;34m\u001b[0m\n\u001b[0;32m----> 1\u001b[0;31m \u001b[0mdiccionario\u001b[0m\u001b[0;34m[\u001b[0m\u001b[0;34m'clave1000'\u001b[0m\u001b[0;34m]\u001b[0m\u001b[0;34m\u001b[0m\u001b[0;34m\u001b[0m\u001b[0m\n\u001b[0m",
      "\u001b[0;31mKeyError\u001b[0m: 'clave1000'"
     ]
    }
   ],
   "source": [
    "diccionario['clave1000']"
   ]
  },
  {
   "cell_type": "markdown",
   "metadata": {},
   "source": [
    "La segunda forma es con `get`:"
   ]
  },
  {
   "cell_type": "code",
   "execution_count": 60,
   "metadata": {
    "execution": {
     "iopub.status.busy": "2020-12-11T01:32:24.756834Z",
     "iopub.status.idle": "2020-12-11T01:32:24.757897Z",
     "shell.execute_reply": "2020-12-11T01:32:24.757404Z"
    }
   },
   "outputs": [],
   "source": [
    "diccionario.get?"
   ]
  },
  {
   "cell_type": "code",
   "execution_count": 61,
   "metadata": {
    "execution": {
     "iopub.status.busy": "2020-12-11T01:32:24.760652Z",
     "iopub.status.idle": "2020-12-11T01:32:24.761240Z",
     "shell.execute_reply": "2020-12-11T01:32:24.760183Z"
    }
   },
   "outputs": [],
   "source": [
    "help(diccionario.get)"
   ]
  },
  {
   "cell_type": "code",
   "execution_count": 62,
   "metadata": {
    "execution": {
     "iopub.status.busy": "2020-12-11T01:32:24.763932Z",
     "iopub.status.idle": "2020-12-11T01:32:24.764476Z",
     "shell.execute_reply": "2020-12-11T01:32:24.763345Z"
    },
    "slideshow": {
     "slide_type": "slide"
    }
   },
   "outputs": [],
   "source": [
    "print(diccionario.get('clave1000'))"
   ]
  },
  {
   "cell_type": "code",
   "execution_count": 63,
   "metadata": {
    "execution": {
     "iopub.status.busy": "2020-12-11T01:32:24.767248Z",
     "iopub.status.idle": "2020-12-11T01:32:24.767794Z",
     "shell.execute_reply": "2020-12-11T01:32:24.766772Z"
    },
    "slideshow": {
     "slide_type": "slide"
    }
   },
   "outputs": [],
   "source": [
    "print('clave1' in diccionario)  # Verifico si la clave está en el diccionario"
   ]
  },
  {
   "cell_type": "code",
   "execution_count": 64,
   "metadata": {
    "execution": {
     "iopub.status.busy": "2020-12-11T01:32:24.770031Z",
     "iopub.status.idle": "2020-12-11T01:32:24.770652Z",
     "shell.execute_reply": "2020-12-11T01:32:24.771101Z"
    }
   },
   "outputs": [],
   "source": [
    "l = [1, 2, 3, 4]\n",
    "2 in l"
   ]
  },
  {
   "cell_type": "code",
   "execution_count": 65,
   "metadata": {
    "execution": {
     "iopub.status.busy": "2020-12-11T01:32:24.773880Z",
     "iopub.status.idle": "2020-12-11T01:32:24.774422Z",
     "shell.execute_reply": "2020-12-11T01:32:24.773415Z"
    }
   },
   "outputs": [],
   "source": [
    "for clave, valor in diccionario.items():\n",
    "    print(\"la clave es %s y el valor es %s\" % (clave, valor))"
   ]
  },
  {
   "cell_type": "code",
   "execution_count": 66,
   "metadata": {
    "execution": {
     "iopub.status.busy": "2020-12-11T01:32:24.776615Z",
     "iopub.status.idle": "2020-12-11T01:32:24.777267Z",
     "shell.execute_reply": "2020-12-11T01:32:24.777722Z"
    }
   },
   "outputs": [],
   "source": [
    "for clave, valor in diccionario.items():\n",
    "    print(\"la clave es {} y el valor es {}\".format(clave, valor))"
   ]
  },
  {
   "cell_type": "code",
   "execution_count": 67,
   "metadata": {
    "execution": {
     "iopub.status.busy": "2020-12-11T01:32:24.780460Z",
     "iopub.status.idle": "2020-12-11T01:32:24.781040Z",
     "shell.execute_reply": "2020-12-11T01:32:24.779866Z"
    },
    "slideshow": {
     "slide_type": "slide"
    }
   },
   "outputs": [],
   "source": [
    "# Cómo iterar un diccionario elemento por elemento\n",
    "for (\n",
    "    clave,\n",
    "    valor,\n",
    ") in (\n",
    "    diccionario.items()\n",
    "):  # diccionario.items() va devolviendo tuplas con el formato (clave,valor)\n",
    "    print(\n",
    "        f\"la clave es {clave} y el valor es {valor}\"\n",
    "    )  # con esta sintaxis se desempaquetan en clave y valor (similar a enumerate)"
   ]
  },
  {
   "cell_type": "code",
   "execution_count": 68,
   "metadata": {
    "execution": {
     "iopub.status.busy": "2020-12-11T01:32:24.783783Z",
     "iopub.status.idle": "2020-12-11T01:32:24.784330Z",
     "shell.execute_reply": "2020-12-11T01:32:24.783185Z"
    },
    "slideshow": {
     "slide_type": "slide"
    }
   },
   "outputs": [],
   "source": [
    "for clave in diccionario.keys():\n",
    "    print(clave)"
   ]
  },
  {
   "cell_type": "code",
   "execution_count": 69,
   "metadata": {
    "execution": {
     "iopub.status.busy": "2020-12-11T01:32:24.787415Z",
     "iopub.status.idle": "2020-12-11T01:32:24.787984Z",
     "shell.execute_reply": "2020-12-11T01:32:24.786933Z"
    },
    "slideshow": {
     "slide_type": "slide"
    }
   },
   "outputs": [],
   "source": [
    "for valor in diccionario.values():\n",
    "    print(valor)"
   ]
  },
  {
   "cell_type": "markdown",
   "metadata": {},
   "source": [
    "#### Sets\n",
    "\n",
    "Son similares a los diccionarios (en eficiencia) pero se almacenan solo claves, y tienen algunas operaciones particulares.\n",
    "\n",
    "En particular, no pueden tener elementos iguales (pensar que son conjuntos)"
   ]
  },
  {
   "cell_type": "code",
   "execution_count": 70,
   "metadata": {
    "execution": {
     "iopub.status.busy": "2020-12-11T01:32:24.790759Z",
     "iopub.status.idle": "2020-12-11T01:32:24.791300Z",
     "shell.execute_reply": "2020-12-11T01:32:24.790181Z"
    }
   },
   "outputs": [],
   "source": [
    "set??"
   ]
  },
  {
   "cell_type": "code",
   "execution_count": 71,
   "metadata": {
    "execution": {
     "iopub.status.busy": "2020-12-11T01:32:24.794081Z",
     "iopub.status.idle": "2020-12-11T01:32:24.794632Z",
     "shell.execute_reply": "2020-12-11T01:32:24.793612Z"
    }
   },
   "outputs": [],
   "source": [
    "# Se definen como los diccionarios pero sin hacerlos 'clave:valor', solamente una seguidilla de elementos\n",
    "{1, 2, 2, 3}"
   ]
  },
  {
   "cell_type": "code",
   "execution_count": 72,
   "metadata": {
    "execution": {
     "iopub.status.busy": "2020-12-11T01:32:24.797419Z",
     "iopub.status.idle": "2020-12-11T01:32:24.797970Z",
     "shell.execute_reply": "2020-12-11T01:32:24.796945Z"
    }
   },
   "outputs": [],
   "source": [
    "set([1, 2, 2, 3])"
   ]
  },
  {
   "cell_type": "markdown",
   "metadata": {},
   "source": [
    "## Condicionales (if...elif...else)\n",
    "\n",
    "```python\n",
    "if <condición_1>:\n",
    "    <hacer algo_1 si se da la condición_1>\n",
    "elif <condición_2>:\n",
    "    <hacer algo_2 si se da la condición_2>\n",
    "...\n",
    "elif <condición_n>:\n",
    "    <hacer algo_n si se da la condición_n>\n",
    "else:\n",
    "    <hacer otra cosa si no dan las anteriores>\n",
    "```\n",
    "\n",
    "Algo importante para notar es que los bloques se definen por **niveles de identacion**."
   ]
  },
  {
   "cell_type": "code",
   "execution_count": 73,
   "metadata": {
    "execution": {
     "iopub.status.busy": "2020-12-11T01:32:24.800366Z",
     "iopub.status.idle": "2020-12-11T01:32:24.801419Z",
     "shell.execute_reply": "2020-12-11T01:32:24.800849Z"
    }
   },
   "outputs": [],
   "source": [
    "v = 1\n",
    "if v == 1:\n",
    "    print(\"uno\")\n",
    "elif v == 2:\n",
    "    print(\"dos\")\n",
    "else:\n",
    "    print(\"ni idea\")\n",
    "    print(v)"
   ]
  },
  {
   "cell_type": "markdown",
   "metadata": {},
   "source": [
    "## Iteraciones\n",
    "\n",
    "```python\n",
    "while cond:\n",
    "    <codigo>\n",
    "```\n",
    "\n",
    "```python\n",
    "for elemento in iterable:\n",
    "    <codigo>\n",
    "```\n",
    "\n",
    "Para iterar sobre un rango de valores, usamos `range`"
   ]
  },
  {
   "cell_type": "code",
   "execution_count": 74,
   "metadata": {
    "execution": {
     "iopub.status.busy": "2020-12-11T01:32:24.804180Z",
     "iopub.status.idle": "2020-12-11T01:32:24.804720Z",
     "shell.execute_reply": "2020-12-11T01:32:24.803601Z"
    }
   },
   "outputs": [],
   "source": [
    "for i in range(1, 11, 3):\n",
    "    print(i)"
   ]
  },
  {
   "cell_type": "markdown",
   "metadata": {},
   "source": [
    "## Operadores logicos\n",
    "\n",
    "`not`, `or`, `and`"
   ]
  },
  {
   "cell_type": "code",
   "execution_count": 75,
   "metadata": {
    "execution": {
     "iopub.status.busy": "2020-12-11T01:32:24.807549Z",
     "iopub.status.idle": "2020-12-11T01:32:24.808101Z",
     "shell.execute_reply": "2020-12-11T01:32:24.806957Z"
    }
   },
   "outputs": [],
   "source": [
    "if True or False:\n",
    "    print(\"yay\")"
   ]
  },
  {
   "cell_type": "code",
   "execution_count": 76,
   "metadata": {
    "execution": {
     "iopub.status.busy": "2020-12-11T01:32:24.811349Z",
     "iopub.status.idle": "2020-12-11T01:32:24.811899Z",
     "shell.execute_reply": "2020-12-11T01:32:24.810879Z"
    }
   },
   "outputs": [],
   "source": [
    "1 == 2"
   ]
  },
  {
   "cell_type": "code",
   "execution_count": 77,
   "metadata": {
    "execution": {
     "iopub.status.busy": "2020-12-11T01:32:24.813889Z",
     "iopub.status.idle": "2020-12-11T01:32:24.814528Z",
     "shell.execute_reply": "2020-12-11T01:32:24.814985Z"
    }
   },
   "outputs": [],
   "source": [
    "1 != 2"
   ]
  },
  {
   "cell_type": "markdown",
   "metadata": {
    "slideshow": {
     "slide_type": "slide"
    }
   },
   "source": [
    "## Funciones en Python"
   ]
  },
  {
   "cell_type": "code",
   "execution_count": 78,
   "metadata": {
    "execution": {
     "iopub.status.busy": "2020-12-11T01:32:24.817336Z",
     "iopub.status.idle": "2020-12-11T01:32:24.817969Z",
     "shell.execute_reply": "2020-12-11T01:32:24.818431Z"
    },
    "slideshow": {
     "slide_type": "slide"
    }
   },
   "outputs": [],
   "source": [
    "def busqueda_binaria(lista, elemento):\n",
    "    if not lista:\n",
    "        return False\n",
    "    elif len(lista) == 1:\n",
    "        return lista[0] == elemento\n",
    "    mitad = len(lista) // 2  # // es la operación división entera\n",
    "    if lista[mitad] == elemento:\n",
    "        return True\n",
    "    if lista[mitad] > elemento:\n",
    "        return busqueda_binaria(lista[:mitad], elemento)\n",
    "    if lista[mitad] < elemento:\n",
    "        return busqueda_binaria(lista[mitad:], elemento)\n",
    "\n",
    "\n",
    "print(busqueda_binaria([1, 2, 3, 4, 5], 4))\n",
    "print(busqueda_binaria([1, 4, 6, 7, 9, 10], 2))"
   ]
  },
  {
   "cell_type": "code",
   "execution_count": 79,
   "metadata": {
    "execution": {
     "iopub.status.busy": "2020-12-11T01:32:24.820767Z",
     "iopub.status.idle": "2020-12-11T01:32:24.821837Z",
     "shell.execute_reply": "2020-12-11T01:32:24.821338Z"
    }
   },
   "outputs": [],
   "source": [
    "def a(b):\n",
    "    if a == 1:\n",
    "        print(a)\n",
    "    return (b, b, b)\n",
    "\n",
    "\n",
    "print(a(3))"
   ]
  },
  {
   "cell_type": "code",
   "execution_count": 80,
   "metadata": {
    "execution": {
     "iopub.status.busy": "2020-12-11T01:32:24.824581Z",
     "iopub.status.idle": "2020-12-11T01:32:24.825200Z",
     "shell.execute_reply": "2020-12-11T01:32:24.824112Z"
    },
    "lines_to_next_cell": 2,
    "slideshow": {
     "slide_type": "slide"
    },
    "tags": [
     "raises-exception"
    ]
   },
   "outputs": [],
   "source": [
    "def suma(a, b):\n",
    "    return a + b\n",
    "\n",
    "\n",
    "print(suma(1, 2))\n",
    "print(suma(1.0, 2.0))\n",
    "print(suma(1.0, 2))\n",
    "print(suma(\"hola \", \"como te va\"))\n",
    "print(suma([1, 2, 3], [4, 5]))\n",
    "print(suma(\"1\", 3))  # Falla"
   ]
  },
  {
   "cell_type": "code",
   "execution_count": 81,
   "metadata": {
    "execution": {
     "iopub.status.busy": "2020-12-11T01:32:24.827429Z",
     "iopub.status.idle": "2020-12-11T01:32:24.828055Z",
     "shell.execute_reply": "2020-12-11T01:32:24.828512Z"
    }
   },
   "outputs": [],
   "source": [
    "# El valor por default de divisor es 1\n",
    "\n",
    "\n",
    "def division(dividendo, divisor=2):\n",
    "    return dividendo / divisor\n",
    "\n",
    "\n",
    "print(division(4))  # Usa el valor por default"
   ]
  },
  {
   "cell_type": "code",
   "execution_count": 82,
   "metadata": {
    "execution": {
     "iopub.status.busy": "2020-12-11T01:32:24.831339Z",
     "iopub.status.idle": "2020-12-11T01:32:24.831916Z",
     "shell.execute_reply": "2020-12-11T01:32:24.830854Z"
    },
    "tags": [
     "raises-exception"
    ]
   },
   "outputs": [],
   "source": [
    "print(division(1, 2))  # Parámetros por orden\n",
    "print(division(dividendo=1, divisor=2))  # Parámetros por nombre\n",
    "print(division(divisor=2))"
   ]
  },
  {
   "cell_type": "code",
   "execution_count": 83,
   "metadata": {
    "execution": {
     "iopub.status.busy": "2020-12-11T01:32:24.834724Z",
     "iopub.status.idle": "2020-12-11T01:32:24.835286Z",
     "shell.execute_reply": "2020-12-11T01:32:24.834121Z"
    }
   },
   "outputs": [],
   "source": [
    "print(division(divisor=2, dividendo=1))"
   ]
  },
  {
   "cell_type": "code",
   "execution_count": 84,
   "metadata": {
    "execution": {
     "iopub.status.busy": "2020-12-11T01:32:24.838610Z",
     "iopub.status.idle": "2020-12-11T01:32:24.839164Z",
     "shell.execute_reply": "2020-12-11T01:32:24.838138Z"
    }
   },
   "outputs": [],
   "source": [
    "# Funciones básicas ya en el lenguaje\n",
    "# Hechas para funcionar para distintos tipos\n",
    "\n",
    "string_ordenado = sorted('bca')\n",
    "print(string_ordenado)\n",
    "\n",
    "lista_ordenada = sorted([1, 3, 2])\n",
    "print(lista_ordenada)\n",
    "\n",
    "separadas = \"hola, don, pepito\".split(\",\")\n",
    "print(separadas)\n",
    "unidas = \" - \".join(separadas)\n",
    "print(unidas)"
   ]
  },
  {
   "cell_type": "markdown",
   "metadata": {},
   "source": [
    "## Módulos\n",
    "\n",
    "Para incluir alguna biblioteca de funciones se usa `import`. Pueden ser cosas ya predefinidas en Python (`math`, `random`, etc), nombres de archivos en nuestro directorio (por ejemplo, para `mimodulo.py` ponemos `import mimodulo`) o bibliotecas instaladas por el usuario"
   ]
  },
  {
   "cell_type": "code",
   "execution_count": 85,
   "metadata": {
    "execution": {
     "iopub.status.busy": "2020-12-11T01:32:24.842317Z",
     "iopub.status.idle": "2020-12-11T01:32:24.842861Z",
     "shell.execute_reply": "2020-12-11T01:32:24.841815Z"
    }
   },
   "outputs": [],
   "source": [
    "import math\n",
    "\n",
    "print(math.pi)"
   ]
  },
  {
   "cell_type": "code",
   "execution_count": 86,
   "metadata": {
    "execution": {
     "iopub.status.busy": "2020-12-11T01:32:24.845440Z",
     "iopub.status.idle": "2020-12-11T01:32:24.846467Z",
     "shell.execute_reply": "2020-12-11T01:32:24.845930Z"
    }
   },
   "outputs": [],
   "source": [
    "from math import pi, e\n",
    "\n",
    "print(pi, e)"
   ]
  },
  {
   "cell_type": "code",
   "execution_count": 87,
   "metadata": {
    "execution": {
     "iopub.status.busy": "2020-12-11T01:32:24.849577Z",
     "iopub.status.idle": "2020-12-11T01:32:24.850126Z",
     "shell.execute_reply": "2020-12-11T01:32:24.849034Z"
    }
   },
   "outputs": [],
   "source": [
    "math.gcd(56, 78)"
   ]
  },
  {
   "cell_type": "markdown",
   "metadata": {},
   "source": [
    "## Manejo de excepciones\n",
    "\n",
    "Se pueden encapsular errores esperados en un bloque 'try/except' para evitar cortar el flujo del programa"
   ]
  },
  {
   "cell_type": "code",
   "execution_count": 88,
   "metadata": {
    "execution": {
     "iopub.status.busy": "2020-12-11T01:32:24.852458Z",
     "iopub.status.idle": "2020-12-11T01:32:24.853105Z",
     "shell.execute_reply": "2020-12-11T01:32:24.853567Z"
    },
    "tags": [
     "raises-exception"
    ]
   },
   "outputs": [],
   "source": [
    "division(1, 0)  # No se puede dividir por cero"
   ]
  },
  {
   "cell_type": "code",
   "execution_count": 89,
   "metadata": {
    "execution": {
     "iopub.status.busy": "2020-12-11T01:32:24.856401Z",
     "iopub.status.idle": "2020-12-11T01:32:24.856988Z",
     "shell.execute_reply": "2020-12-11T01:32:24.855932Z"
    }
   },
   "outputs": [],
   "source": [
    "try:\n",
    "    division(1, 0)\n",
    "except (ZeroDivisionError, TypeError) as e:\n",
    "    print('No se puede dividir por cero, ojo!', e)\n",
    "finally:\n",
    "    print(1)"
   ]
  },
  {
   "cell_type": "markdown",
   "metadata": {
    "slideshow": {
     "slide_type": "slide"
    }
   },
   "source": [
    "## Lectura y escritura de archivos"
   ]
  },
  {
   "cell_type": "code",
   "execution_count": 90,
   "metadata": {
    "execution": {
     "iopub.execute_input": "2020-12-11T01:32:24.861600Z",
     "iopub.status.busy": "2020-12-11T01:32:24.861010Z",
     "iopub.status.idle": "2020-12-11T01:32:24.863872Z",
     "shell.execute_reply": "2020-12-11T01:32:24.864380Z"
    },
    "slideshow": {
     "slide_type": "slide"
    }
   },
   "outputs": [
    {
     "name": "stdout",
     "output_type": "stream",
     "text": [
      "<_io.TextIOWrapper name='archivo.csv' mode='w' encoding='UTF-8'>\n"
     ]
    }
   ],
   "source": [
    "import random\n",
    "\n",
    "with open(\n",
    "    'archivo.csv', 'w'\n",
    ") as archivo:  # Al usar esta sintaxis no es necesario hacer close\n",
    "    archivo.write(\"Alumno, nota\\n\")\n",
    "    # Tambien de forma similar al fprintf se puede hacer:\n",
    "    # print(\"Alumno, nota\\n\", file=archivo)\n",
    "    for i in range(0, 10):\n",
    "        archivo.write(f\"{i},{random.randrange(0,10)}\\n\")\n",
    "\n",
    "print(archivo)  # Comentario aclaratorio:\n",
    "# Las variables definidas en un determinado scope siguen existiendo por fuera del mismo.\n",
    "# Se debe tener cuidado con esto, ya que nada garantiza que por fuera el valor sea el esperado."
   ]
  },
  {
   "cell_type": "code",
   "execution_count": 91,
   "metadata": {
    "execution": {
     "iopub.execute_input": "2020-12-11T01:32:24.868019Z",
     "iopub.status.busy": "2020-12-11T01:32:24.867449Z",
     "iopub.status.idle": "2020-12-11T01:32:24.871519Z",
     "shell.execute_reply": "2020-12-11T01:32:24.872029Z"
    },
    "slideshow": {
     "slide_type": "slide"
    }
   },
   "outputs": [
    {
     "name": "stdout",
     "output_type": "stream",
     "text": [
      "Alumno, nota\n",
      "0,0\n",
      "1,2\n",
      "2,1\n",
      "3,6\n",
      "4,3\n",
      "5,0\n",
      "6,0\n",
      "7,1\n",
      "8,8\n",
      "9,6\n"
     ]
    }
   ],
   "source": [
    "with open('archivo.csv', 'r') as f:\n",
    "    for linea in f:\n",
    "        print(linea.strip())"
   ]
  },
  {
   "cell_type": "code",
   "execution_count": 92,
   "metadata": {
    "execution": {
     "iopub.execute_input": "2020-12-11T01:32:24.875442Z",
     "iopub.status.busy": "2020-12-11T01:32:24.874917Z",
     "iopub.status.idle": "2020-12-11T01:32:24.878196Z",
     "shell.execute_reply": "2020-12-11T01:32:24.877693Z"
    }
   },
   "outputs": [
    {
     "name": "stdout",
     "output_type": "stream",
     "text": [
      "Alumno, nota\n",
      "0,0\n",
      "1,2\n",
      "2,1\n",
      "3,6\n",
      "4,3\n",
      "5,0\n",
      "6,0\n",
      "7,1\n",
      "8,8\n",
      "9,6\n",
      "\n"
     ]
    }
   ],
   "source": [
    "with open('archivo.csv', 'r') as f:\n",
    "    print(f.read())"
   ]
  },
  {
   "cell_type": "code",
   "execution_count": 93,
   "metadata": {
    "execution": {
     "iopub.execute_input": "2020-12-11T01:32:24.881840Z",
     "iopub.status.busy": "2020-12-11T01:32:24.881258Z",
     "iopub.status.idle": "2020-12-11T01:32:24.883844Z",
     "shell.execute_reply": "2020-12-11T01:32:24.883371Z"
    }
   },
   "outputs": [],
   "source": [
    "f = open('archivo.csv', 'w')\n",
    "f.write(\"algo, algo\")\n",
    "f.close()"
   ]
  },
  {
   "cell_type": "markdown",
   "metadata": {
    "slideshow": {
     "slide_type": "slide"
    }
   },
   "source": [
    "## Objetos\n",
    "\n",
    "Los objetos tienen metodos y atributos:\n",
    "- Atributos: equivalentes a variables.\n",
    "- Métodos: equivalentes a las primitivas."
   ]
  },
  {
   "cell_type": "markdown",
   "metadata": {
    "slideshow": {
     "slide_type": "slide"
    }
   },
   "source": [
    "### Cómo creo una clase"
   ]
  },
  {
   "cell_type": "code",
   "execution_count": 94,
   "metadata": {
    "execution": {
     "iopub.execute_input": "2020-12-11T01:32:24.889882Z",
     "iopub.status.busy": "2020-12-11T01:32:24.889298Z",
     "iopub.status.idle": "2020-12-11T01:32:24.891067Z",
     "shell.execute_reply": "2020-12-11T01:32:24.891569Z"
    },
    "slideshow": {
     "slide_type": "slide"
    }
   },
   "outputs": [],
   "source": [
    "class Nodo(object):\n",
    "    def __init__(self, dato, siguiente=None):\n",
    "        self._dato = dato\n",
    "        self._siguiente = siguiente\n",
    "\n",
    "    @property\n",
    "    def dato(self):\n",
    "        return self._dato\n",
    "\n",
    "    @property\n",
    "    def proximo(self):\n",
    "        return self._siguiente\n",
    "\n",
    "    @proximo.setter\n",
    "    def proximo(self, siguiente):\n",
    "        self._siguiente = siguiente\n",
    "\n",
    "    def __repr__(self):\n",
    "        return str(self.dato)\n",
    "\n",
    "    def __str__(self):\n",
    "        return str(self.dato)"
   ]
  },
  {
   "cell_type": "code",
   "execution_count": 95,
   "metadata": {
    "execution": {
     "iopub.execute_input": "2020-12-11T01:32:24.895411Z",
     "iopub.status.busy": "2020-12-11T01:32:24.894841Z",
     "iopub.status.idle": "2020-12-11T01:32:24.896799Z",
     "shell.execute_reply": "2020-12-11T01:32:24.897262Z"
    },
    "slideshow": {
     "slide_type": "slide"
    }
   },
   "outputs": [
    {
     "name": "stdout",
     "output_type": "stream",
     "text": [
      "hola\n"
     ]
    }
   ],
   "source": [
    "nodo = Nodo(\"hola\")\n",
    "print(nodo)"
   ]
  },
  {
   "cell_type": "code",
   "execution_count": 96,
   "metadata": {
    "execution": {
     "iopub.execute_input": "2020-12-11T01:32:24.900950Z",
     "iopub.status.busy": "2020-12-11T01:32:24.900351Z",
     "iopub.status.idle": "2020-12-11T01:32:24.902350Z",
     "shell.execute_reply": "2020-12-11T01:32:24.902838Z"
    },
    "slideshow": {
     "slide_type": "slide"
    }
   },
   "outputs": [
    {
     "name": "stdout",
     "output_type": "stream",
     "text": [
      "[hola, lala]\n"
     ]
    }
   ],
   "source": [
    "nodo2 = Nodo(\"lala\")\n",
    "print([nodo, nodo2])"
   ]
  },
  {
   "cell_type": "code",
   "execution_count": 97,
   "metadata": {
    "execution": {
     "iopub.execute_input": "2020-12-11T01:32:24.906533Z",
     "iopub.status.busy": "2020-12-11T01:32:24.905953Z",
     "iopub.status.idle": "2020-12-11T01:32:24.907889Z",
     "shell.execute_reply": "2020-12-11T01:32:24.908346Z"
    },
    "slideshow": {
     "slide_type": "slide"
    }
   },
   "outputs": [
    {
     "name": "stdout",
     "output_type": "stream",
     "text": [
      "hola\n"
     ]
    }
   ],
   "source": [
    "nodo3 = nodo.dato\n",
    "print(nodo3)"
   ]
  },
  {
   "cell_type": "markdown",
   "metadata": {
    "slideshow": {
     "slide_type": "slide"
    }
   },
   "source": [
    "### Ejemplo: Lista Enlazada"
   ]
  },
  {
   "cell_type": "code",
   "execution_count": 98,
   "metadata": {
    "execution": {
     "iopub.execute_input": "2020-12-11T01:32:24.916602Z",
     "iopub.status.busy": "2020-12-11T01:32:24.916014Z",
     "iopub.status.idle": "2020-12-11T01:32:24.918914Z",
     "shell.execute_reply": "2020-12-11T01:32:24.918409Z"
    },
    "slideshow": {
     "slide_type": "slide"
    }
   },
   "outputs": [],
   "source": [
    "class ListaEnlazada(object):\n",
    "    def __init__(self):\n",
    "        self._primero = None\n",
    "        self._ultimo = None\n",
    "        self._largo = 0\n",
    "\n",
    "    def __len__(self):\n",
    "        return self._largo\n",
    "\n",
    "    def insertar_al_principio(self, dato):\n",
    "        nodo = Nodo(dato, self._primero)\n",
    "        self._primero = nodo\n",
    "        self._largo += 1\n",
    "        if self._largo == 1:\n",
    "            self._ultimo = nodo\n",
    "\n",
    "    def insertar_al_final(self, dato):\n",
    "        if self._largo != 0:\n",
    "            nodo = Nodo(dato)\n",
    "            nodo_anterior = self._ultimo\n",
    "            nodo_anterior._siguiente = nodo\n",
    "            self._ultimo = nodo\n",
    "            self._largo += 1\n",
    "        else:\n",
    "            self.insertar_al_principio(dato)\n",
    "\n",
    "    @property\n",
    "    def primero(self):\n",
    "        return self._primero.dato\n",
    "\n",
    "    def borrar_primero(self):\n",
    "        dato = self.primero.dato\n",
    "        self._primero = self.primero.siguiente\n",
    "        self._largo -= 1\n",
    "        if self._largo == 0:\n",
    "            self._ultimo = None\n",
    "        return dato\n",
    "\n",
    "    def __str__(self):\n",
    "        datos = []\n",
    "        nodo_actual = self._primero\n",
    "        while nodo_actual:\n",
    "            datos.append(nodo_actual.dato)\n",
    "            nodo_actual = nodo_actual.proximo\n",
    "        return \" -> \".join(datos)\n",
    "\n",
    "    def __repr__(self):\n",
    "        return self.__str__()"
   ]
  },
  {
   "cell_type": "code",
   "execution_count": 99,
   "metadata": {
    "execution": {
     "iopub.execute_input": "2020-12-11T01:32:24.923004Z",
     "iopub.status.busy": "2020-12-11T01:32:24.922433Z",
     "iopub.status.idle": "2020-12-11T01:32:24.925439Z",
     "shell.execute_reply": "2020-12-11T01:32:24.924928Z"
    },
    "slideshow": {
     "slide_type": "slide"
    }
   },
   "outputs": [
    {
     "data": {
      "text/plain": [
       "2"
      ]
     },
     "execution_count": 1,
     "metadata": {},
     "output_type": "execute_result"
    }
   ],
   "source": [
    "lista = ListaEnlazada()\n",
    "lista.insertar_al_principio(\"Primer Dato\")\n",
    "lista.insertar_al_principio(\"Primer primer Dato\")\n",
    "len(lista)"
   ]
  },
  {
   "cell_type": "code",
   "execution_count": 100,
   "metadata": {
    "execution": {
     "iopub.execute_input": "2020-12-11T01:32:24.929036Z",
     "iopub.status.busy": "2020-12-11T01:32:24.928484Z",
     "iopub.status.idle": "2020-12-11T01:32:24.930955Z",
     "shell.execute_reply": "2020-12-11T01:32:24.931399Z"
    }
   },
   "outputs": [
    {
     "data": {
      "text/plain": [
       "Primer primer Dato -> Primer Dato"
      ]
     },
     "execution_count": 1,
     "metadata": {},
     "output_type": "execute_result"
    }
   ],
   "source": [
    "lista"
   ]
  },
  {
   "cell_type": "code",
   "execution_count": 101,
   "metadata": {
    "execution": {
     "iopub.execute_input": "2020-12-11T01:32:24.935548Z",
     "iopub.status.busy": "2020-12-11T01:32:24.934984Z",
     "iopub.status.idle": "2020-12-11T01:32:24.936914Z",
     "shell.execute_reply": "2020-12-11T01:32:24.937387Z"
    },
    "slideshow": {
     "slide_type": "slide"
    }
   },
   "outputs": [
    {
     "name": "stdout",
     "output_type": "stream",
     "text": [
      "Primer primer Dato\n"
     ]
    }
   ],
   "source": [
    "elemento = lista.primero\n",
    "print(elemento)"
   ]
  },
  {
   "cell_type": "markdown",
   "metadata": {},
   "source": [
    "## Recursos\n",
    "\n",
    "* [Taller de Python de Algoritmos II](https://github.com/algoritmos-rw/algo2_apuntes)\n",
    "\n",
    "* [Documentación de Python 3](https://docs.python.org/3/tutorial/)\n",
    "\n",
    "* [Apunte de Algoritmos y Programación I](https://algoritmos1rw.ddns.net/material)\n",
    "\n",
    "* [Automate the Boring Stuff with Python](http://automatetheboringstuff.com/)\n",
    "\n",
    "* [Curso Python](https://pythoncurso.github.io)\n",
    "\n",
    "* [Python Tutor](http://pythontutor.com/)\n",
    "\n",
    "* [Learn Python3 in Y minutes](https://learnxinyminutes.com/docs/python3/)\n",
    "\n",
    "* [Bibliografía de Algoritmos y Programación I](https://algoritmos1rw.ddns.net/bibliografia)"
   ]
  }
 ],
 "metadata": {
  "jupytext": {
   "encoding": "# -*- coding: utf-8 -*-",
   "formats": "ipynb,py:light"
  },
  "kernelspec": {
   "display_name": "Python 3 (venv)",
   "language": "python",
   "name": "python3"
  },
  "language_info": {
   "codemirror_mode": {
    "name": "ipython",
    "version": 3
   },
   "file_extension": ".py",
   "mimetype": "text/x-python",
   "name": "python",
   "nbconvert_exporter": "python",
   "pygments_lexer": "ipython3",
   "version": "3.7.9"
  }
 },
 "nbformat": 4,
 "nbformat_minor": 4
}
