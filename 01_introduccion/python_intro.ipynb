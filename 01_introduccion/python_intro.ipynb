{
 "cells": [
  {
   "cell_type": "markdown",
   "id": "29601765",
   "metadata": {},
   "source": [
    "# Python"
   ]
  },
  {
   "cell_type": "markdown",
   "id": "c5fe03b7",
   "metadata": {
    "slideshow": {
     "slide_type": "slide"
    }
   },
   "source": [
    "## Un poco de Historia"
   ]
  },
  {
   "cell_type": "markdown",
   "id": "55e6987d",
   "metadata": {
    "slideshow": {
     "slide_type": "subslide"
    }
   },
   "source": [
    "Python fue creado a finales de los años 80 por un programador holandés llamado **Guido van Rossum**,\n",
    "quien sigue siendo aún hoy el líder del desarrollo del lenguaje.\n",
    "\n",
    "(Edit julio 2018: [ya no más](https://www.mail-archive.com/python-committers@python.org/msg05628.html))"
   ]
  },
  {
   "cell_type": "markdown",
   "id": "8a1decfc",
   "metadata": {
    "slideshow": {
     "slide_type": "subslide"
    }
   },
   "source": [
    "El nombre del lenguaje proviene de los humoristas británicos Monty Python.\n",
    "\n",
    ">*\"I chose Python as a working title for the project, being in a slightly irreverent mood (and a big fan of Monty Python's Flying Circus).\"*"
   ]
  },
  {
   "cell_type": "markdown",
   "id": "5de76639",
   "metadata": {
    "slideshow": {
     "slide_type": "slide"
    }
   },
   "source": [
    "## Caracteristicas\n",
    "\n",
    "- Interpretado\n",
    "- Tipado dinamico\n",
    "- Multiparadigma\n",
    "- Alto nivel\n",
    "- Tiene un recolector de basura (no hay malloc, free, realloc, etc)"
   ]
  },
  {
   "cell_type": "markdown",
   "id": "7445c020",
   "metadata": {},
   "source": [
    "## ¿Cómo empezar?\n",
    "\n",
    "* Al ser un lenguaje *interpretado*, se puede ir escribiendo a medida que se ejecuta, sin necesidad de compilar de antemano! Solamente hace falta escribir `python` o `python3` en una terminal para empezar\n",
    "\n",
    "* También, permite escribir archivos y correrlos. Crear un archivo con extensión `.py` y luego correr `python miarchivo.py` en laterminal"
   ]
  },
  {
   "cell_type": "markdown",
   "id": "dfd9c0ab",
   "metadata": {
    "slideshow": {
     "slide_type": "slide"
    }
   },
   "source": [
    "## El Zen de Python"
   ]
  },
  {
   "cell_type": "code",
   "execution_count": 1,
   "id": "062af16f",
   "metadata": {
    "execution": {
     "iopub.execute_input": "2021-09-09T19:57:47.586039Z",
     "iopub.status.busy": "2021-09-09T19:57:47.585545Z",
     "iopub.status.idle": "2021-09-09T19:57:47.607537Z",
     "shell.execute_reply": "2021-09-09T19:57:47.607035Z"
    },
    "slideshow": {
     "slide_type": "slide"
    }
   },
   "outputs": [
    {
     "name": "stdout",
     "output_type": "stream",
     "text": [
      "The Zen of Python, by Tim Peters\n",
      "\n",
      "Beautiful is better than ugly.\n",
      "Explicit is better than implicit.\n",
      "Simple is better than complex.\n",
      "Complex is better than complicated.\n",
      "Flat is better than nested.\n",
      "Sparse is better than dense.\n",
      "Readability counts.\n",
      "Special cases aren't special enough to break the rules.\n",
      "Although practicality beats purity.\n",
      "Errors should never pass silently.\n",
      "Unless explicitly silenced.\n",
      "In the face of ambiguity, refuse the temptation to guess.\n",
      "There should be one-- and preferably only one --obvious way to do it.\n",
      "Although that way may not be obvious at first unless you're Dutch.\n",
      "Now is better than never.\n",
      "Although never is often better than *right* now.\n",
      "If the implementation is hard to explain, it's a bad idea.\n",
      "If the implementation is easy to explain, it may be a good idea.\n",
      "Namespaces are one honking great idea -- let's do more of those!\n"
     ]
    }
   ],
   "source": [
    "import this"
   ]
  },
  {
   "cell_type": "markdown",
   "id": "2bd6d2d1",
   "metadata": {
    "slideshow": {
     "slide_type": "slide"
    }
   },
   "source": [
    "## Conocimientos Básicos de Python: Variables y Tipos"
   ]
  },
  {
   "cell_type": "code",
   "execution_count": 2,
   "id": "4677905b",
   "metadata": {
    "execution": {
     "iopub.execute_input": "2021-09-09T19:57:47.612311Z",
     "iopub.status.busy": "2021-09-09T19:57:47.611780Z",
     "iopub.status.idle": "2021-09-09T19:57:47.613765Z",
     "shell.execute_reply": "2021-09-09T19:57:47.614151Z"
    },
    "slideshow": {
     "slide_type": "slide"
    }
   },
   "outputs": [
    {
     "name": "stdout",
     "output_type": "stream",
     "text": [
      "Hello World!\n"
     ]
    }
   ],
   "source": [
    "# Este es un comentario\n",
    "\n",
    "print(\"Hello World!\")"
   ]
  },
  {
   "cell_type": "markdown",
   "id": "e0d37a5e",
   "metadata": {},
   "source": [
    "Los strings en python puden escribirse tanto con comillas simples (`'`) como comillas dobles (`\"`). Normalmente vemos texto entre comillas triples para escribir _docstrings_, segun la guia de estilo de Python, el PEP8."
   ]
  },
  {
   "cell_type": "code",
   "execution_count": 3,
   "id": "04e317bd",
   "metadata": {
    "execution": {
     "iopub.execute_input": "2021-09-09T19:57:47.624045Z",
     "iopub.status.busy": "2021-09-09T19:57:47.621724Z",
     "iopub.status.idle": "2021-09-09T19:57:47.626175Z",
     "shell.execute_reply": "2021-09-09T19:57:47.626567Z"
    }
   },
   "outputs": [
    {
     "data": {
      "text/plain": [
       "'Esto es un docstring.\\n'"
      ]
     },
     "execution_count": 3,
     "metadata": {},
     "output_type": "execute_result"
    }
   ],
   "source": [
    "\"\"\"Esto es un docstring.\n",
    "\"\"\""
   ]
  },
  {
   "cell_type": "markdown",
   "id": "6bf68574",
   "metadata": {},
   "source": [
    "### Declaracion de variables"
   ]
  },
  {
   "cell_type": "code",
   "execution_count": 4,
   "id": "107e6c6d",
   "metadata": {
    "execution": {
     "iopub.execute_input": "2021-09-09T19:57:47.631714Z",
     "iopub.status.busy": "2021-09-09T19:57:47.630464Z",
     "iopub.status.idle": "2021-09-09T19:57:47.633408Z",
     "shell.execute_reply": "2021-09-09T19:57:47.632949Z"
    }
   },
   "outputs": [
    {
     "name": "stdout",
     "output_type": "stream",
     "text": [
      "Hola\n"
     ]
    }
   ],
   "source": [
    "string = 'Hola'\n",
    "print(string)"
   ]
  },
  {
   "cell_type": "code",
   "execution_count": 5,
   "id": "c89b232b",
   "metadata": {
    "execution": {
     "iopub.execute_input": "2021-09-09T19:57:47.637103Z",
     "iopub.status.busy": "2021-09-09T19:57:47.636579Z",
     "iopub.status.idle": "2021-09-09T19:57:47.638437Z",
     "shell.execute_reply": "2021-09-09T19:57:47.638826Z"
    }
   },
   "outputs": [
    {
     "name": "stdout",
     "output_type": "stream",
     "text": [
      "1\n"
     ]
    }
   ],
   "source": [
    "entero = 1\n",
    "print(entero)"
   ]
  },
  {
   "cell_type": "code",
   "execution_count": 6,
   "id": "28cf202e",
   "metadata": {
    "execution": {
     "iopub.execute_input": "2021-09-09T19:57:47.642786Z",
     "iopub.status.busy": "2021-09-09T19:57:47.642307Z",
     "iopub.status.idle": "2021-09-09T19:57:47.646212Z",
     "shell.execute_reply": "2021-09-09T19:57:47.645809Z"
    }
   },
   "outputs": [
    {
     "name": "stdout",
     "output_type": "stream",
     "text": [
      "1.0\n"
     ]
    }
   ],
   "source": [
    "flotante = 1.0\n",
    "print(flotante)"
   ]
  },
  {
   "cell_type": "code",
   "execution_count": 7,
   "id": "9a19487a",
   "metadata": {
    "execution": {
     "iopub.execute_input": "2021-09-09T19:57:47.649851Z",
     "iopub.status.busy": "2021-09-09T19:57:47.649367Z",
     "iopub.status.idle": "2021-09-09T19:57:47.653435Z",
     "shell.execute_reply": "2021-09-09T19:57:47.652891Z"
    }
   },
   "outputs": [
    {
     "name": "stdout",
     "output_type": "stream",
     "text": [
      "(1, 1.0)\n"
     ]
    }
   ],
   "source": [
    "tupla = (entero, flotante)\n",
    "print(tupla)"
   ]
  },
  {
   "cell_type": "code",
   "execution_count": 8,
   "id": "7967a3c6",
   "metadata": {
    "execution": {
     "iopub.execute_input": "2021-09-09T19:57:47.658567Z",
     "iopub.status.busy": "2021-09-09T19:57:47.657396Z",
     "iopub.status.idle": "2021-09-09T19:57:47.660211Z",
     "shell.execute_reply": "2021-09-09T19:57:47.659788Z"
    }
   },
   "outputs": [
    {
     "name": "stdout",
     "output_type": "stream",
     "text": [
      "(1, 1.0, 'Hola')\n"
     ]
    }
   ],
   "source": [
    "nupla = (entero, flotante, string)\n",
    "print(nupla)"
   ]
  },
  {
   "cell_type": "code",
   "execution_count": 9,
   "id": "4457ab35",
   "metadata": {
    "execution": {
     "iopub.execute_input": "2021-09-09T19:57:47.664793Z",
     "iopub.status.busy": "2021-09-09T19:57:47.664065Z",
     "iopub.status.idle": "2021-09-09T19:57:47.666078Z",
     "shell.execute_reply": "2021-09-09T19:57:47.666464Z"
    }
   },
   "outputs": [
    {
     "name": "stdout",
     "output_type": "stream",
     "text": [
      "[1, 1.0, 'Hola']\n"
     ]
    }
   ],
   "source": [
    "lista = [entero, flotante, string]\n",
    "print(lista)"
   ]
  },
  {
   "cell_type": "code",
   "execution_count": 10,
   "id": "0c810051",
   "metadata": {
    "execution": {
     "iopub.execute_input": "2021-09-09T19:57:47.670589Z",
     "iopub.status.busy": "2021-09-09T19:57:47.668584Z",
     "iopub.status.idle": "2021-09-09T19:57:47.672445Z",
     "shell.execute_reply": "2021-09-09T19:57:47.672835Z"
    }
   },
   "outputs": [
    {
     "name": "stdout",
     "output_type": "stream",
     "text": [
      "{'1': (1, 1.0), 50: (1, 1.0, 'Hola'), '3': 1}\n"
     ]
    }
   ],
   "source": [
    "diccionario = {'1': tupla, 50: nupla, '3': entero}\n",
    "print(diccionario)"
   ]
  },
  {
   "cell_type": "code",
   "execution_count": 11,
   "id": "53371deb",
   "metadata": {
    "execution": {
     "iopub.execute_input": "2021-09-09T19:57:47.676612Z",
     "iopub.status.busy": "2021-09-09T19:57:47.676123Z",
     "iopub.status.idle": "2021-09-09T19:57:47.677961Z",
     "shell.execute_reply": "2021-09-09T19:57:47.678349Z"
    }
   },
   "outputs": [
    {
     "name": "stdout",
     "output_type": "stream",
     "text": [
      "{1, 2}\n"
     ]
    }
   ],
   "source": [
    "conjunto = set([1, 2])\n",
    "print(conjunto)"
   ]
  },
  {
   "cell_type": "code",
   "execution_count": 12,
   "id": "b92dfce2",
   "metadata": {
    "execution": {
     "iopub.execute_input": "2021-09-09T19:57:47.680945Z",
     "iopub.status.busy": "2021-09-09T19:57:47.680460Z",
     "iopub.status.idle": "2021-09-09T19:57:47.684230Z",
     "shell.execute_reply": "2021-09-09T19:57:47.683802Z"
    }
   },
   "outputs": [
    {
     "name": "stdout",
     "output_type": "stream",
     "text": [
      "True\n"
     ]
    }
   ],
   "source": [
    "booleano = True\n",
    "print(booleano)"
   ]
  },
  {
   "cell_type": "code",
   "execution_count": 13,
   "id": "55dd59bb",
   "metadata": {
    "execution": {
     "iopub.execute_input": "2021-09-09T19:57:47.688188Z",
     "iopub.status.busy": "2021-09-09T19:57:47.687713Z",
     "iopub.status.idle": "2021-09-09T19:57:47.689353Z",
     "shell.execute_reply": "2021-09-09T19:57:47.689763Z"
    }
   },
   "outputs": [
    {
     "name": "stdout",
     "output_type": "stream",
     "text": [
      "None\n"
     ]
    }
   ],
   "source": [
    "nada = None\n",
    "print(nada)"
   ]
  },
  {
   "cell_type": "markdown",
   "id": "cabb7504",
   "metadata": {},
   "source": [
    "Ojo que las variables pueden cambiar de tipo!"
   ]
  },
  {
   "cell_type": "code",
   "execution_count": 14,
   "id": "9223405e",
   "metadata": {
    "execution": {
     "iopub.execute_input": "2021-09-09T19:57:47.693651Z",
     "iopub.status.busy": "2021-09-09T19:57:47.693165Z",
     "iopub.status.idle": "2021-09-09T19:57:47.694956Z",
     "shell.execute_reply": "2021-09-09T19:57:47.695366Z"
    }
   },
   "outputs": [
    {
     "name": "stdout",
     "output_type": "stream",
     "text": [
      "1\n",
      "<class 'int'>\n"
     ]
    }
   ],
   "source": [
    "elemento = 1\n",
    "print(elemento)\n",
    "print(type(elemento))"
   ]
  },
  {
   "cell_type": "code",
   "execution_count": 15,
   "id": "d68e1f98",
   "metadata": {
    "execution": {
     "iopub.execute_input": "2021-09-09T19:57:47.699726Z",
     "iopub.status.busy": "2021-09-09T19:57:47.699243Z",
     "iopub.status.idle": "2021-09-09T19:57:47.702667Z",
     "shell.execute_reply": "2021-09-09T19:57:47.703044Z"
    }
   },
   "outputs": [
    {
     "name": "stdout",
     "output_type": "stream",
     "text": [
      "1\n",
      "<class 'str'>\n"
     ]
    }
   ],
   "source": [
    "elemento = str(1)\n",
    "print(elemento)\n",
    "print(type(elemento))"
   ]
  },
  {
   "cell_type": "code",
   "execution_count": 16,
   "id": "3fa05541",
   "metadata": {
    "execution": {
     "iopub.execute_input": "2021-09-09T19:57:47.706968Z",
     "iopub.status.busy": "2021-09-09T19:57:47.706445Z",
     "iopub.status.idle": "2021-09-09T19:57:47.710551Z",
     "shell.execute_reply": "2021-09-09T19:57:47.710108Z"
    }
   },
   "outputs": [
    {
     "name": "stdout",
     "output_type": "stream",
     "text": [
      "[2]\n",
      "<class 'list'>\n"
     ]
    }
   ],
   "source": [
    "elemento = [2]\n",
    "\n",
    "print(elemento)\n",
    "print(type(elemento))"
   ]
  },
  {
   "cell_type": "markdown",
   "id": "fe732f0a",
   "metadata": {},
   "source": [
    "### Tipos basicos"
   ]
  },
  {
   "cell_type": "markdown",
   "id": "a91fa683",
   "metadata": {
    "slideshow": {
     "slide_type": "slide"
    }
   },
   "source": [
    "#### Listas de Python"
   ]
  },
  {
   "cell_type": "code",
   "execution_count": 17,
   "id": "af82985a",
   "metadata": {
    "execution": {
     "iopub.execute_input": "2021-09-09T19:57:47.716000Z",
     "iopub.status.busy": "2021-09-09T19:57:47.715279Z",
     "iopub.status.idle": "2021-09-09T19:57:47.717812Z",
     "shell.execute_reply": "2021-09-09T19:57:47.718203Z"
    }
   },
   "outputs": [
    {
     "data": {
      "text/plain": [
       "[]"
      ]
     },
     "execution_count": 17,
     "metadata": {},
     "output_type": "execute_result"
    }
   ],
   "source": [
    "lista = list()\n",
    "lista"
   ]
  },
  {
   "cell_type": "code",
   "execution_count": 18,
   "id": "903109fd",
   "metadata": {
    "execution": {
     "iopub.execute_input": "2021-09-09T19:57:47.720748Z",
     "iopub.status.busy": "2021-09-09T19:57:47.720265Z",
     "iopub.status.idle": "2021-09-09T19:57:47.724938Z",
     "shell.execute_reply": "2021-09-09T19:57:47.724499Z"
    },
    "slideshow": {
     "slide_type": "slide"
    }
   },
   "outputs": [
    {
     "data": {
      "text/plain": [
       "[]"
      ]
     },
     "execution_count": 18,
     "metadata": {},
     "output_type": "execute_result"
    }
   ],
   "source": [
    "lista = []\n",
    "lista"
   ]
  },
  {
   "cell_type": "code",
   "execution_count": 19,
   "id": "c8f740e4",
   "metadata": {
    "execution": {
     "iopub.execute_input": "2021-09-09T19:57:47.729158Z",
     "iopub.status.busy": "2021-09-09T19:57:47.728648Z",
     "iopub.status.idle": "2021-09-09T19:57:47.731707Z",
     "shell.execute_reply": "2021-09-09T19:57:47.731271Z"
    },
    "slideshow": {
     "slide_type": "slide"
    }
   },
   "outputs": [
    {
     "data": {
      "text/plain": [
       "[1, 2, 3, 4]"
      ]
     },
     "execution_count": 19,
     "metadata": {},
     "output_type": "execute_result"
    }
   ],
   "source": [
    "lista = [1, 2, 3, 4]\n",
    "lista"
   ]
  },
  {
   "cell_type": "code",
   "execution_count": 20,
   "id": "54493313",
   "metadata": {
    "execution": {
     "iopub.execute_input": "2021-09-09T19:57:47.736515Z",
     "iopub.status.busy": "2021-09-09T19:57:47.736017Z",
     "iopub.status.idle": "2021-09-09T19:57:47.738909Z",
     "shell.execute_reply": "2021-09-09T19:57:47.738468Z"
    },
    "slideshow": {
     "slide_type": "slide"
    }
   },
   "outputs": [
    {
     "data": {
      "text/plain": [
       "[1, 2, 3, 4, 1, 'dos', 3.0]"
      ]
     },
     "execution_count": 20,
     "metadata": {},
     "output_type": "execute_result"
    }
   ],
   "source": [
    "lista.append(1)  # Inserto un 1 al final\n",
    "lista.append(\"dos\")  # Inserto un \"dos\" al final\n",
    "lista.append(3.0)  # Inserto un 3.0 al final\n",
    "lista"
   ]
  },
  {
   "cell_type": "code",
   "execution_count": 21,
   "id": "e54d06e0",
   "metadata": {
    "execution": {
     "iopub.execute_input": "2021-09-09T19:57:47.742513Z",
     "iopub.status.busy": "2021-09-09T19:57:47.742028Z",
     "iopub.status.idle": "2021-09-09T19:57:47.746158Z",
     "shell.execute_reply": "2021-09-09T19:57:47.745711Z"
    }
   },
   "outputs": [
    {
     "name": "stdout",
     "output_type": "stream",
     "text": [
      "[1, 2, 10, 3, 4, 1, 'dos', 3.0]\n"
     ]
    }
   ],
   "source": [
    "lista.insert(2, 10)  # Inserto en posicion 2 un 10\n",
    "print(lista)"
   ]
  },
  {
   "cell_type": "code",
   "execution_count": 22,
   "id": "b5cee2d6",
   "metadata": {
    "execution": {
     "iopub.execute_input": "2021-09-09T19:57:47.750951Z",
     "iopub.status.busy": "2021-09-09T19:57:47.750440Z",
     "iopub.status.idle": "2021-09-09T19:57:47.753006Z",
     "shell.execute_reply": "2021-09-09T19:57:47.753436Z"
    }
   },
   "outputs": [
    {
     "data": {
      "text/plain": [
       "8"
      ]
     },
     "execution_count": 22,
     "metadata": {},
     "output_type": "execute_result"
    }
   ],
   "source": [
    "len(lista)"
   ]
  },
  {
   "cell_type": "code",
   "execution_count": 23,
   "id": "2eebd416",
   "metadata": {
    "execution": {
     "iopub.execute_input": "2021-09-09T19:57:47.757549Z",
     "iopub.status.busy": "2021-09-09T19:57:47.757059Z",
     "iopub.status.idle": "2021-09-09T19:57:47.760121Z",
     "shell.execute_reply": "2021-09-09T19:57:47.759712Z"
    }
   },
   "outputs": [
    {
     "data": {
      "text/plain": [
       "3.0"
      ]
     },
     "execution_count": 23,
     "metadata": {},
     "output_type": "execute_result"
    }
   ],
   "source": [
    "lista.pop()"
   ]
  },
  {
   "cell_type": "code",
   "execution_count": 24,
   "id": "20ccd64d",
   "metadata": {
    "execution": {
     "iopub.execute_input": "2021-09-09T19:57:47.765106Z",
     "iopub.status.busy": "2021-09-09T19:57:47.764383Z",
     "iopub.status.idle": "2021-09-09T19:57:47.767044Z",
     "shell.execute_reply": "2021-09-09T19:57:47.767440Z"
    }
   },
   "outputs": [
    {
     "data": {
      "text/plain": [
       "[1, 2, 10, 3, 4, 1, 'dos']"
      ]
     },
     "execution_count": 24,
     "metadata": {},
     "output_type": "execute_result"
    }
   ],
   "source": [
    "lista"
   ]
  },
  {
   "cell_type": "code",
   "execution_count": 25,
   "id": "81524d6c",
   "metadata": {
    "execution": {
     "iopub.execute_input": "2021-09-09T19:57:47.772264Z",
     "iopub.status.busy": "2021-09-09T19:57:47.771756Z",
     "iopub.status.idle": "2021-09-09T19:57:47.774265Z",
     "shell.execute_reply": "2021-09-09T19:57:47.774668Z"
    }
   },
   "outputs": [
    {
     "data": {
      "text/plain": [
       "2"
      ]
     },
     "execution_count": 25,
     "metadata": {},
     "output_type": "execute_result"
    }
   ],
   "source": [
    "lista.index(10)"
   ]
  },
  {
   "cell_type": "code",
   "execution_count": 26,
   "id": "d675beed",
   "metadata": {
    "execution": {
     "iopub.execute_input": "2021-09-09T19:57:47.779608Z",
     "iopub.status.busy": "2021-09-09T19:57:47.779089Z",
     "iopub.status.idle": "2021-09-09T19:57:47.781607Z",
     "shell.execute_reply": "2021-09-09T19:57:47.782000Z"
    }
   },
   "outputs": [
    {
     "data": {
      "text/plain": [
       "[1, 2, 3, 4, 1, 'dos']"
      ]
     },
     "execution_count": 26,
     "metadata": {},
     "output_type": "execute_result"
    }
   ],
   "source": [
    "lista.remove(10)\n",
    "lista"
   ]
  },
  {
   "cell_type": "code",
   "execution_count": 27,
   "id": "c766d374",
   "metadata": {
    "execution": {
     "iopub.execute_input": "2021-09-09T19:57:47.787401Z",
     "iopub.status.busy": "2021-09-09T19:57:47.785548Z",
     "iopub.status.idle": "2021-09-09T19:57:47.854890Z",
     "shell.execute_reply": "2021-09-09T19:57:47.854407Z"
    },
    "tags": [
     "raises-exception"
    ]
   },
   "outputs": [
    {
     "name": "stdout",
     "output_type": "stream",
     "text": [
      "1\n",
      "2\n",
      "2\n",
      "3\n",
      "3\n",
      "4\n",
      "4\n",
      "5\n",
      "1\n",
      "2\n",
      "dos\n"
     ]
    },
    {
     "ename": "TypeError",
     "evalue": "can only concatenate str (not \"int\") to str",
     "output_type": "error",
     "traceback": [
      "\u001b[0;31m---------------------------------------------------------------------------\u001b[0m",
      "\u001b[0;31mTypeError\u001b[0m                                 Traceback (most recent call last)",
      "\u001b[0;32m/tmp/ipykernel_1923/1783555086.py\u001b[0m in \u001b[0;36m<module>\u001b[0;34m\u001b[0m\n\u001b[1;32m      1\u001b[0m \u001b[0;32mfor\u001b[0m \u001b[0melemento\u001b[0m \u001b[0;32min\u001b[0m \u001b[0mlista\u001b[0m\u001b[0;34m:\u001b[0m\u001b[0;34m\u001b[0m\u001b[0;34m\u001b[0m\u001b[0m\n\u001b[1;32m      2\u001b[0m     \u001b[0mprint\u001b[0m\u001b[0;34m(\u001b[0m\u001b[0melemento\u001b[0m\u001b[0;34m)\u001b[0m\u001b[0;34m\u001b[0m\u001b[0;34m\u001b[0m\u001b[0m\n\u001b[0;32m----> 3\u001b[0;31m     \u001b[0mprint\u001b[0m\u001b[0;34m(\u001b[0m\u001b[0melemento\u001b[0m \u001b[0;34m+\u001b[0m \u001b[0;36m1\u001b[0m\u001b[0;34m)\u001b[0m\u001b[0;34m\u001b[0m\u001b[0;34m\u001b[0m\u001b[0m\n\u001b[0m",
      "\u001b[0;31mTypeError\u001b[0m: can only concatenate str (not \"int\") to str"
     ]
    }
   ],
   "source": [
    "for elemento in lista:\n",
    "    print(elemento)\n",
    "    print(elemento + 1)"
   ]
  },
  {
   "cell_type": "code",
   "execution_count": 28,
   "id": "b83a2495",
   "metadata": {
    "execution": {
     "iopub.execute_input": "2021-09-09T19:57:47.859850Z",
     "iopub.status.busy": "2021-09-09T19:57:47.859123Z",
     "iopub.status.idle": "2021-09-09T19:57:47.864393Z",
     "shell.execute_reply": "2021-09-09T19:57:47.863736Z"
    }
   },
   "outputs": [
    {
     "data": {
      "text/plain": [
       "[1, 2, 3, 4, 1, 'dos']"
      ]
     },
     "execution_count": 28,
     "metadata": {},
     "output_type": "execute_result"
    }
   ],
   "source": [
    "lista"
   ]
  },
  {
   "cell_type": "code",
   "execution_count": 29,
   "id": "3e83f56d",
   "metadata": {
    "execution": {
     "iopub.execute_input": "2021-09-09T19:57:47.869216Z",
     "iopub.status.busy": "2021-09-09T19:57:47.868001Z",
     "iopub.status.idle": "2021-09-09T19:57:47.871527Z",
     "shell.execute_reply": "2021-09-09T19:57:47.871903Z"
    }
   },
   "outputs": [
    {
     "name": "stdout",
     "output_type": "stream",
     "text": [
      "0-ésimo elemento: 1\n",
      "1-ésimo elemento: 2\n",
      "2-ésimo elemento: 3\n",
      "3-ésimo elemento: 4\n",
      "4-ésimo elemento: 1\n",
      "5-ésimo elemento: dos\n"
     ]
    }
   ],
   "source": [
    "for i, elemento in enumerate(lista):\n",
    "    print(f\"{i}-ésimo elemento: {elemento}\")"
   ]
  },
  {
   "cell_type": "code",
   "execution_count": 30,
   "id": "0f35cb83",
   "metadata": {
    "execution": {
     "iopub.execute_input": "2021-09-09T19:57:47.877892Z",
     "iopub.status.busy": "2021-09-09T19:57:47.875076Z",
     "iopub.status.idle": "2021-09-09T19:57:47.881959Z",
     "shell.execute_reply": "2021-09-09T19:57:47.881204Z"
    },
    "tags": [
     "raises-exception"
    ]
   },
   "outputs": [
    {
     "ename": "TypeError",
     "evalue": "'<' not supported between instances of 'str' and 'int'",
     "output_type": "error",
     "traceback": [
      "\u001b[0;31m---------------------------------------------------------------------------\u001b[0m",
      "\u001b[0;31mTypeError\u001b[0m                                 Traceback (most recent call last)",
      "\u001b[0;32m/tmp/ipykernel_1923/2266425520.py\u001b[0m in \u001b[0;36m<module>\u001b[0;34m\u001b[0m\n\u001b[0;32m----> 1\u001b[0;31m \u001b[0msorted\u001b[0m\u001b[0;34m(\u001b[0m\u001b[0mlista\u001b[0m\u001b[0;34m)\u001b[0m\u001b[0;34m\u001b[0m\u001b[0;34m\u001b[0m\u001b[0m\n\u001b[0m",
      "\u001b[0;31mTypeError\u001b[0m: '<' not supported between instances of 'str' and 'int'"
     ]
    }
   ],
   "source": [
    "sorted(lista)"
   ]
  },
  {
   "cell_type": "code",
   "execution_count": 31,
   "id": "9a9ac67c",
   "metadata": {
    "execution": {
     "iopub.execute_input": "2021-09-09T19:57:47.885775Z",
     "iopub.status.busy": "2021-09-09T19:57:47.885283Z",
     "iopub.status.idle": "2021-09-09T19:57:47.888153Z",
     "shell.execute_reply": "2021-09-09T19:57:47.888554Z"
    }
   },
   "outputs": [],
   "source": [
    "lista.remove(\"dos\")"
   ]
  },
  {
   "cell_type": "code",
   "execution_count": 32,
   "id": "f4222fab",
   "metadata": {
    "execution": {
     "iopub.execute_input": "2021-09-09T19:57:47.892927Z",
     "iopub.status.busy": "2021-09-09T19:57:47.892447Z",
     "iopub.status.idle": "2021-09-09T19:57:47.897276Z",
     "shell.execute_reply": "2021-09-09T19:57:47.896796Z"
    }
   },
   "outputs": [
    {
     "data": {
      "text/plain": [
       "[1, 1, 2, 3, 4]"
      ]
     },
     "execution_count": 32,
     "metadata": {},
     "output_type": "execute_result"
    }
   ],
   "source": [
    "sorted(lista)"
   ]
  },
  {
   "cell_type": "code",
   "execution_count": 33,
   "id": "c200994f",
   "metadata": {
    "execution": {
     "iopub.execute_input": "2021-09-09T19:57:47.901450Z",
     "iopub.status.busy": "2021-09-09T19:57:47.900923Z",
     "iopub.status.idle": "2021-09-09T19:57:47.904311Z",
     "shell.execute_reply": "2021-09-09T19:57:47.903873Z"
    }
   },
   "outputs": [
    {
     "data": {
      "text/plain": [
       "[1, 1, 2, 3, 4]"
      ]
     },
     "execution_count": 33,
     "metadata": {},
     "output_type": "execute_result"
    }
   ],
   "source": [
    "lista.sort()\n",
    "lista"
   ]
  },
  {
   "cell_type": "markdown",
   "id": "338023eb",
   "metadata": {
    "slideshow": {
     "slide_type": "slide"
    }
   },
   "source": [
    "#### Tuplas de Python\n",
    "\n",
    "Las tuplas son inmutables. No se pueden agregar elementos luego de creadas."
   ]
  },
  {
   "cell_type": "code",
   "execution_count": 34,
   "id": "60ae28ac",
   "metadata": {
    "execution": {
     "iopub.execute_input": "2021-09-09T19:57:47.909093Z",
     "iopub.status.busy": "2021-09-09T19:57:47.908566Z",
     "iopub.status.idle": "2021-09-09T19:57:47.917983Z",
     "shell.execute_reply": "2021-09-09T19:57:47.917550Z"
    },
    "slideshow": {
     "slide_type": "slide"
    },
    "tags": [
     "raises-exception"
    ]
   },
   "outputs": [
    {
     "name": "stdout",
     "output_type": "stream",
     "text": [
      "(1, 2)"
     ]
    },
    {
     "name": "stdout",
     "output_type": "stream",
     "text": [
      "\n",
      "1\n",
      "2\n"
     ]
    },
    {
     "ename": "TypeError",
     "evalue": "'tuple' object does not support item assignment",
     "output_type": "error",
     "traceback": [
      "\u001b[0;31m---------------------------------------------------------------------------\u001b[0m",
      "\u001b[0;31mTypeError\u001b[0m                                 Traceback (most recent call last)",
      "\u001b[0;32m/tmp/ipykernel_1923/3644040918.py\u001b[0m in \u001b[0;36m<module>\u001b[0;34m\u001b[0m\n\u001b[1;32m      5\u001b[0m \u001b[0mprint\u001b[0m\u001b[0;34m(\u001b[0m\u001b[0mtupla\u001b[0m\u001b[0;34m[\u001b[0m\u001b[0;36m1\u001b[0m\u001b[0;34m]\u001b[0m\u001b[0;34m)\u001b[0m\u001b[0;34m\u001b[0m\u001b[0;34m\u001b[0m\u001b[0m\n\u001b[1;32m      6\u001b[0m \u001b[0;34m\u001b[0m\u001b[0m\n\u001b[0;32m----> 7\u001b[0;31m \u001b[0mtupla\u001b[0m\u001b[0;34m[\u001b[0m\u001b[0;36m1\u001b[0m\u001b[0;34m]\u001b[0m \u001b[0;34m=\u001b[0m \u001b[0;36m3\u001b[0m  \u001b[0;31m# Falla. No se puede mutar\u001b[0m\u001b[0;34m\u001b[0m\u001b[0;34m\u001b[0m\u001b[0m\n\u001b[0m",
      "\u001b[0;31mTypeError\u001b[0m: 'tuple' object does not support item assignment"
     ]
    }
   ],
   "source": [
    "tupla = (1, 2)\n",
    "\n",
    "print(tupla)\n",
    "print(tupla[0])\n",
    "print(tupla[1])\n",
    "\n",
    "tupla[1] = 3  # Falla. No se puede mutar"
   ]
  },
  {
   "cell_type": "code",
   "execution_count": 35,
   "id": "413159a7",
   "metadata": {
    "execution": {
     "iopub.execute_input": "2021-09-09T19:57:47.922471Z",
     "iopub.status.busy": "2021-09-09T19:57:47.921550Z",
     "iopub.status.idle": "2021-09-09T19:57:47.926015Z",
     "shell.execute_reply": "2021-09-09T19:57:47.925591Z"
    }
   },
   "outputs": [
    {
     "data": {
      "text/plain": [
       "[1, 2]"
      ]
     },
     "execution_count": 35,
     "metadata": {},
     "output_type": "execute_result"
    }
   ],
   "source": [
    "l = [1, 2]\n",
    "l"
   ]
  },
  {
   "cell_type": "code",
   "execution_count": 36,
   "id": "8c4c94af",
   "metadata": {
    "execution": {
     "iopub.execute_input": "2021-09-09T19:57:47.930113Z",
     "iopub.status.busy": "2021-09-09T19:57:47.929635Z",
     "iopub.status.idle": "2021-09-09T19:57:47.934551Z",
     "shell.execute_reply": "2021-09-09T19:57:47.934114Z"
    }
   },
   "outputs": [
    {
     "data": {
      "text/plain": [
       "[1, 3]"
      ]
     },
     "execution_count": 36,
     "metadata": {},
     "output_type": "execute_result"
    }
   ],
   "source": [
    "l[1] = 3\n",
    "l"
   ]
  },
  {
   "cell_type": "markdown",
   "id": "dafa6e07",
   "metadata": {
    "slideshow": {
     "slide_type": "slide"
    }
   },
   "source": [
    "#### Diferencia entre lista y tupla\n",
    "Las listas se caracterizan por ser mutables, es decir, se puede cambiar su contenido en tiempo de ejecución, mientras que las tuplas son inmutables ya que no es posible modificar el contenido una vez creada."
   ]
  },
  {
   "cell_type": "markdown",
   "id": "024d59d7",
   "metadata": {},
   "source": [
    "#### Slices\n",
    "\n",
    "**Valen para listas, tuplas o strings (_segmentos_)**"
   ]
  },
  {
   "cell_type": "code",
   "execution_count": 37,
   "id": "d5135d8f",
   "metadata": {
    "execution": {
     "iopub.execute_input": "2021-09-09T19:57:47.938680Z",
     "iopub.status.busy": "2021-09-09T19:57:47.938199Z",
     "iopub.status.idle": "2021-09-09T19:57:47.941581Z",
     "shell.execute_reply": "2021-09-09T19:57:47.941159Z"
    }
   },
   "outputs": [],
   "source": [
    "numeros = [0, 1, 2, 3, 4, 5, 6, 7, 8, 9, 10]"
   ]
  },
  {
   "cell_type": "code",
   "execution_count": 38,
   "id": "3df71dd4",
   "metadata": {
    "execution": {
     "iopub.execute_input": "2021-09-09T19:57:47.945533Z",
     "iopub.status.busy": "2021-09-09T19:57:47.945031Z",
     "iopub.status.idle": "2021-09-09T19:57:47.947442Z",
     "shell.execute_reply": "2021-09-09T19:57:47.946929Z"
    }
   },
   "outputs": [
    {
     "name": "stdout",
     "output_type": "stream",
     "text": [
      "[0, 1, 2, 3, 4, 5, 6, 7, 8, 9, 10]\n"
     ]
    }
   ],
   "source": [
    "print(numeros)"
   ]
  },
  {
   "cell_type": "code",
   "execution_count": 39,
   "id": "e416e3ab",
   "metadata": {
    "execution": {
     "iopub.execute_input": "2021-09-09T19:57:47.951364Z",
     "iopub.status.busy": "2021-09-09T19:57:47.950889Z",
     "iopub.status.idle": "2021-09-09T19:57:47.954872Z",
     "shell.execute_reply": "2021-09-09T19:57:47.954442Z"
    }
   },
   "outputs": [
    {
     "name": "stdout",
     "output_type": "stream",
     "text": [
      "2\n"
     ]
    }
   ],
   "source": [
    "print(numeros[2])  # Imprimo elemento en la posición 2"
   ]
  },
  {
   "cell_type": "code",
   "execution_count": 40,
   "id": "5c51e234",
   "metadata": {
    "execution": {
     "iopub.execute_input": "2021-09-09T19:57:47.960775Z",
     "iopub.status.busy": "2021-09-09T19:57:47.960033Z",
     "iopub.status.idle": "2021-09-09T19:57:47.962636Z",
     "shell.execute_reply": "2021-09-09T19:57:47.963031Z"
    }
   },
   "outputs": [
    {
     "data": {
      "text/plain": [
       "10"
      ]
     },
     "execution_count": 40,
     "metadata": {},
     "output_type": "execute_result"
    }
   ],
   "source": [
    "numeros[len(numeros) - 1]"
   ]
  },
  {
   "cell_type": "code",
   "execution_count": 41,
   "id": "3215d5e6",
   "metadata": {
    "execution": {
     "iopub.execute_input": "2021-09-09T19:57:47.968153Z",
     "iopub.status.busy": "2021-09-09T19:57:47.967094Z",
     "iopub.status.idle": "2021-09-09T19:57:47.969976Z",
     "shell.execute_reply": "2021-09-09T19:57:47.969567Z"
    },
    "lines_to_next_cell": 2
   },
   "outputs": [
    {
     "name": "stdout",
     "output_type": "stream",
     "text": [
      "10\n"
     ]
    }
   ],
   "source": [
    "print(numeros[-1])  # # Imprimo elemento en la última posición"
   ]
  },
  {
   "cell_type": "code",
   "execution_count": 42,
   "id": "ac5e5a3f",
   "metadata": {
    "execution": {
     "iopub.execute_input": "2021-09-09T19:57:47.974868Z",
     "iopub.status.busy": "2021-09-09T19:57:47.974354Z",
     "iopub.status.idle": "2021-09-09T19:57:47.976806Z",
     "shell.execute_reply": "2021-09-09T19:57:47.977226Z"
    },
    "lines_to_next_cell": 2
   },
   "outputs": [
    {
     "data": {
      "text/plain": [
       "9"
      ]
     },
     "execution_count": 42,
     "metadata": {},
     "output_type": "execute_result"
    }
   ],
   "source": [
    "numeros[-2]"
   ]
  },
  {
   "cell_type": "code",
   "execution_count": 43,
   "id": "80649ada",
   "metadata": {
    "execution": {
     "iopub.execute_input": "2021-09-09T19:57:47.981101Z",
     "iopub.status.busy": "2021-09-09T19:57:47.980566Z",
     "iopub.status.idle": "2021-09-09T19:57:47.982484Z",
     "shell.execute_reply": "2021-09-09T19:57:47.982877Z"
    }
   },
   "outputs": [
    {
     "name": "stdout",
     "output_type": "stream",
     "text": [
      "[0, 1, 2]\n"
     ]
    }
   ],
   "source": [
    "print(numeros[0:3])  # Imprimo de la pos 0 a la pos 2"
   ]
  },
  {
   "cell_type": "code",
   "execution_count": 44,
   "id": "97202d6c",
   "metadata": {
    "execution": {
     "iopub.execute_input": "2021-09-09T19:57:47.987198Z",
     "iopub.status.busy": "2021-09-09T19:57:47.986714Z",
     "iopub.status.idle": "2021-09-09T19:57:47.990214Z",
     "shell.execute_reply": "2021-09-09T19:57:47.990611Z"
    }
   },
   "outputs": [
    {
     "name": "stdout",
     "output_type": "stream",
     "text": [
      "[7, 8]\n"
     ]
    }
   ],
   "source": [
    "print(numeros[-4:-2])"
   ]
  },
  {
   "cell_type": "code",
   "execution_count": 45,
   "id": "3de101f1",
   "metadata": {
    "execution": {
     "iopub.execute_input": "2021-09-09T19:57:47.994859Z",
     "iopub.status.busy": "2021-09-09T19:57:47.994381Z",
     "iopub.status.idle": "2021-09-09T19:57:47.997979Z",
     "shell.execute_reply": "2021-09-09T19:57:47.998352Z"
    }
   },
   "outputs": [
    {
     "name": "stdout",
     "output_type": "stream",
     "text": [
      "[0, 1, 2, 3, 4, 5, 6, 7, 8, 9, 10]\n"
     ]
    }
   ],
   "source": [
    "print(numeros[0:80])"
   ]
  },
  {
   "cell_type": "code",
   "execution_count": 46,
   "id": "1e695b3c",
   "metadata": {
    "execution": {
     "iopub.execute_input": "2021-09-09T19:57:48.003622Z",
     "iopub.status.busy": "2021-09-09T19:57:48.002443Z",
     "iopub.status.idle": "2021-09-09T19:57:48.005353Z",
     "shell.execute_reply": "2021-09-09T19:57:48.004877Z"
    }
   },
   "outputs": [
    {
     "name": "stdout",
     "output_type": "stream",
     "text": [
      "[0, 1, 2]\n"
     ]
    }
   ],
   "source": [
    "print(numeros[:3])"
   ]
  },
  {
   "cell_type": "code",
   "execution_count": 47,
   "id": "9c9592fc",
   "metadata": {
    "execution": {
     "iopub.execute_input": "2021-09-09T19:57:48.010258Z",
     "iopub.status.busy": "2021-09-09T19:57:48.009164Z",
     "iopub.status.idle": "2021-09-09T19:57:48.012040Z",
     "shell.execute_reply": "2021-09-09T19:57:48.011609Z"
    }
   },
   "outputs": [
    {
     "name": "stdout",
     "output_type": "stream",
     "text": [
      "[3, 4, 5, 6, 7, 8, 9, 10]\n"
     ]
    }
   ],
   "source": [
    "print(numeros[3:])"
   ]
  },
  {
   "cell_type": "code",
   "execution_count": 48,
   "id": "95d69c5c",
   "metadata": {
    "execution": {
     "iopub.execute_input": "2021-09-09T19:57:48.015732Z",
     "iopub.status.busy": "2021-09-09T19:57:48.015242Z",
     "iopub.status.idle": "2021-09-09T19:57:48.017108Z",
     "shell.execute_reply": "2021-09-09T19:57:48.017515Z"
    }
   },
   "outputs": [
    {
     "name": "stdout",
     "output_type": "stream",
     "text": [
      "[0, 2, 4, 6, 8]\n"
     ]
    }
   ],
   "source": [
    "print(numeros[0:10:2])"
   ]
  },
  {
   "cell_type": "markdown",
   "id": "e142bef8",
   "metadata": {},
   "source": [
    "```python\n",
    "lista[<inicio>:<final>:<step>]\n",
    "```"
   ]
  },
  {
   "cell_type": "code",
   "execution_count": 49,
   "id": "cd0514f7",
   "metadata": {
    "execution": {
     "iopub.execute_input": "2021-09-09T19:57:48.022019Z",
     "iopub.status.busy": "2021-09-09T19:57:48.021507Z",
     "iopub.status.idle": "2021-09-09T19:57:48.024265Z",
     "shell.execute_reply": "2021-09-09T19:57:48.023798Z"
    },
    "lines_to_next_cell": 2
   },
   "outputs": [
    {
     "data": {
      "text/plain": [
       "[1, 2, 3, 4]"
      ]
     },
     "execution_count": 49,
     "metadata": {},
     "output_type": "execute_result"
    }
   ],
   "source": [
    "l1 = [1, 2]\n",
    "l2 = [3, 4]\n",
    "l1 + l2"
   ]
  },
  {
   "cell_type": "code",
   "execution_count": 50,
   "id": "7b61a2f8",
   "metadata": {
    "execution": {
     "iopub.execute_input": "2021-09-09T19:57:48.027994Z",
     "iopub.status.busy": "2021-09-09T19:57:48.027494Z",
     "iopub.status.idle": "2021-09-09T19:57:48.029406Z",
     "shell.execute_reply": "2021-09-09T19:57:48.029780Z"
    }
   },
   "outputs": [
    {
     "name": "stdout",
     "output_type": "stream",
     "text": [
      "[0, 1, 2, 3, 4, 5, 6, 'siete', 8, 9, 10]\n"
     ]
    }
   ],
   "source": [
    "numeros[7] = 'siete'  # Las listas se pueden mutar\n",
    "print(numeros)"
   ]
  },
  {
   "cell_type": "code",
   "execution_count": 51,
   "id": "fd38cc43",
   "metadata": {
    "execution": {
     "iopub.execute_input": "2021-09-09T19:57:48.033516Z",
     "iopub.status.busy": "2021-09-09T19:57:48.033008Z",
     "iopub.status.idle": "2021-09-09T19:57:48.034916Z",
     "shell.execute_reply": "2021-09-09T19:57:48.035292Z"
    }
   },
   "outputs": [
    {
     "name": "stdout",
     "output_type": "stream",
     "text": [
      "[10, 9, 8, 'siete', 6, 5, 4, 3, 2, 1, 0]\n"
     ]
    }
   ],
   "source": [
    "numeros = numeros[::-1]\n",
    "print(numeros)"
   ]
  },
  {
   "cell_type": "code",
   "execution_count": 52,
   "id": "e9a814b5",
   "metadata": {
    "execution": {
     "iopub.execute_input": "2021-09-09T19:57:48.038569Z",
     "iopub.status.busy": "2021-09-09T19:57:48.037524Z",
     "iopub.status.idle": "2021-09-09T19:57:48.044444Z",
     "shell.execute_reply": "2021-09-09T19:57:48.044014Z"
    },
    "tags": [
     "raises-exception"
    ]
   },
   "outputs": [
    {
     "ename": "IndexError",
     "evalue": "list index out of range",
     "output_type": "error",
     "traceback": [
      "\u001b[0;31m---------------------------------------------------------------------------\u001b[0m",
      "\u001b[0;31mIndexError\u001b[0m                                Traceback (most recent call last)",
      "\u001b[0;32m/tmp/ipykernel_1923/1255736182.py\u001b[0m in \u001b[0;36m<module>\u001b[0;34m\u001b[0m\n\u001b[0;32m----> 1\u001b[0;31m \u001b[0mprint\u001b[0m\u001b[0;34m(\u001b[0m\u001b[0mnumeros\u001b[0m\u001b[0;34m[\u001b[0m\u001b[0;36m15\u001b[0m\u001b[0;34m]\u001b[0m\u001b[0;34m)\u001b[0m  \u001b[0;31m# Falla. No se puede acceder a una posición inexistente\u001b[0m\u001b[0;34m\u001b[0m\u001b[0;34m\u001b[0m\u001b[0m\n\u001b[0m",
      "\u001b[0;31mIndexError\u001b[0m: list index out of range"
     ]
    }
   ],
   "source": [
    "print(numeros[15])  # Falla. No se puede acceder a una posición inexistente"
   ]
  },
  {
   "cell_type": "code",
   "execution_count": 53,
   "id": "532b4aed",
   "metadata": {
    "execution": {
     "iopub.execute_input": "2021-09-09T19:57:48.050342Z",
     "iopub.status.busy": "2021-09-09T19:57:48.049197Z",
     "iopub.status.idle": "2021-09-09T19:57:48.052003Z",
     "shell.execute_reply": "2021-09-09T19:57:48.051577Z"
    }
   },
   "outputs": [
    {
     "name": "stdout",
     "output_type": "stream",
     "text": [
      "palabra\n",
      "a\n",
      "pal\n",
      "abra\n"
     ]
    }
   ],
   "source": [
    "palabra = 'palabra'\n",
    "print(palabra)\n",
    "print(palabra[3])\n",
    "print(palabra[:3])\n",
    "print(palabra[3:])"
   ]
  },
  {
   "cell_type": "code",
   "execution_count": 54,
   "id": "46b1f0a0",
   "metadata": {
    "execution": {
     "iopub.execute_input": "2021-09-09T19:57:48.057717Z",
     "iopub.status.busy": "2021-09-09T19:57:48.056589Z",
     "iopub.status.idle": "2021-09-09T19:57:48.059343Z",
     "shell.execute_reply": "2021-09-09T19:57:48.058924Z"
    }
   },
   "outputs": [
    {
     "name": "stdout",
     "output_type": "stream",
     "text": [
      "(0, 1, 2, 3, 4)\n",
      "(0, 1)\n",
      "(2, 3, 4)\n"
     ]
    }
   ],
   "source": [
    "tupla = (0, 1, 2, 3, 4)\n",
    "\n",
    "print(tupla)\n",
    "print(tupla[:2])\n",
    "print(tupla[2:])"
   ]
  },
  {
   "cell_type": "markdown",
   "id": "358c3053",
   "metadata": {
    "slideshow": {
     "slide_type": "slide"
    }
   },
   "source": [
    "#### Diccionarios de Python\n",
    "\n",
    "Son como hashmaps, las claves deben ser inmutables para que no pierda sentido el diccionario. Si se pudieran modificar, se podrían cambiar las claves y generaría conflictos.\n",
    "\n",
    "Tipos mutables:\n",
    "- Listas\n",
    "- Diccionarios\n",
    "- Sets\n",
    "\n",
    "Tipos inmutables:\n",
    "- Int\n",
    "- Float\n",
    "- String\n",
    "- Tuplas\n"
   ]
  },
  {
   "cell_type": "code",
   "execution_count": 55,
   "id": "a05ff0bf",
   "metadata": {
    "execution": {
     "iopub.execute_input": "2021-09-09T19:57:48.064072Z",
     "iopub.status.busy": "2021-09-09T19:57:48.063571Z",
     "iopub.status.idle": "2021-09-09T19:57:48.065631Z",
     "shell.execute_reply": "2021-09-09T19:57:48.066020Z"
    },
    "slideshow": {
     "slide_type": "slide"
    }
   },
   "outputs": [
    {
     "data": {
      "text/plain": [
       "{}"
      ]
     },
     "execution_count": 55,
     "metadata": {},
     "output_type": "execute_result"
    }
   ],
   "source": [
    "diccionario = {}\n",
    "diccionario"
   ]
  },
  {
   "cell_type": "code",
   "execution_count": 56,
   "id": "becc8eaa",
   "metadata": {
    "execution": {
     "iopub.execute_input": "2021-09-09T19:57:48.069968Z",
     "iopub.status.busy": "2021-09-09T19:57:48.069484Z",
     "iopub.status.idle": "2021-09-09T19:57:48.072173Z",
     "shell.execute_reply": "2021-09-09T19:57:48.071749Z"
    }
   },
   "outputs": [
    {
     "data": {
      "text/plain": [
       "{}"
      ]
     },
     "execution_count": 56,
     "metadata": {},
     "output_type": "execute_result"
    }
   ],
   "source": [
    "diccionario = dict()\n",
    "diccionario"
   ]
  },
  {
   "cell_type": "code",
   "execution_count": 57,
   "id": "9ff1b4f2",
   "metadata": {
    "execution": {
     "iopub.execute_input": "2021-09-09T19:57:48.076743Z",
     "iopub.status.busy": "2021-09-09T19:57:48.076238Z",
     "iopub.status.idle": "2021-09-09T19:57:48.077965Z",
     "shell.execute_reply": "2021-09-09T19:57:48.078348Z"
    },
    "slideshow": {
     "slide_type": "slide"
    }
   },
   "outputs": [
    {
     "name": "stdout",
     "output_type": "stream",
     "text": [
      "{'clave1': 'valor1', 2: 'valor2', 'clave3': 3}\n"
     ]
    }
   ],
   "source": [
    "# Cómo agregar cosas al diccionario\n",
    "diccionario['clave1'] = 'valor1'\n",
    "diccionario[2] = 'valor2'\n",
    "diccionario['clave3'] = 3\n",
    "print(diccionario)"
   ]
  },
  {
   "cell_type": "markdown",
   "id": "bc9bbfb1",
   "metadata": {},
   "source": [
    "Hay dos formas de obtener valores de un diccionario:\n",
    "\n",
    "```python\n",
    "diccionario[clave]\n",
    "```\n",
    "\n",
    "El cual devuelve el valor si existe la clave suministrada o bien lanza `KeyError` si no existe."
   ]
  },
  {
   "cell_type": "code",
   "execution_count": 58,
   "id": "c71a3e0f",
   "metadata": {
    "execution": {
     "iopub.execute_input": "2021-09-09T19:57:48.082280Z",
     "iopub.status.busy": "2021-09-09T19:57:48.081795Z",
     "iopub.status.idle": "2021-09-09T19:57:48.084476Z",
     "shell.execute_reply": "2021-09-09T19:57:48.084049Z"
    }
   },
   "outputs": [
    {
     "data": {
      "text/plain": [
       "'valor1'"
      ]
     },
     "execution_count": 58,
     "metadata": {},
     "output_type": "execute_result"
    }
   ],
   "source": [
    "diccionario['clave1']"
   ]
  },
  {
   "cell_type": "code",
   "execution_count": 59,
   "id": "11ec7c04",
   "metadata": {
    "execution": {
     "iopub.execute_input": "2021-09-09T19:57:48.091382Z",
     "iopub.status.busy": "2021-09-09T19:57:48.090873Z",
     "iopub.status.idle": "2021-09-09T19:57:48.092599Z",
     "shell.execute_reply": "2021-09-09T19:57:48.093032Z"
    },
    "tags": [
     "raises-exception"
    ]
   },
   "outputs": [
    {
     "ename": "KeyError",
     "evalue": "'clave1000'",
     "output_type": "error",
     "traceback": [
      "\u001b[0;31m---------------------------------------------------------------------------\u001b[0m",
      "\u001b[0;31mKeyError\u001b[0m                                  Traceback (most recent call last)",
      "\u001b[0;32m/tmp/ipykernel_1923/3541524662.py\u001b[0m in \u001b[0;36m<module>\u001b[0;34m\u001b[0m\n\u001b[0;32m----> 1\u001b[0;31m \u001b[0mdiccionario\u001b[0m\u001b[0;34m[\u001b[0m\u001b[0;34m'clave1000'\u001b[0m\u001b[0;34m]\u001b[0m\u001b[0;34m\u001b[0m\u001b[0;34m\u001b[0m\u001b[0m\n\u001b[0m",
      "\u001b[0;31mKeyError\u001b[0m: 'clave1000'"
     ]
    }
   ],
   "source": [
    "diccionario['clave1000']"
   ]
  },
  {
   "cell_type": "markdown",
   "id": "55edf5f1",
   "metadata": {},
   "source": [
    "La segunda forma es con `get`:"
   ]
  },
  {
   "cell_type": "code",
   "execution_count": 60,
   "id": "d6f65987",
   "metadata": {
    "execution": {
     "iopub.execute_input": "2021-09-09T19:57:48.126203Z",
     "iopub.status.busy": "2021-09-09T19:57:48.115982Z",
     "iopub.status.idle": "2021-09-09T19:57:48.146487Z",
     "shell.execute_reply": "2021-09-09T19:57:48.145940Z"
    }
   },
   "outputs": [],
   "source": [
    "diccionario.get?"
   ]
  },
  {
   "cell_type": "code",
   "execution_count": 61,
   "id": "db98ba87",
   "metadata": {
    "execution": {
     "iopub.execute_input": "2021-09-09T19:57:48.152738Z",
     "iopub.status.busy": "2021-09-09T19:57:48.151535Z",
     "iopub.status.idle": "2021-09-09T19:57:48.154454Z",
     "shell.execute_reply": "2021-09-09T19:57:48.154026Z"
    }
   },
   "outputs": [
    {
     "name": "stdout",
     "output_type": "stream",
     "text": [
      "Help on built-in function get:\n",
      "\n",
      "get(key, default=None, /) method of builtins.dict instance\n",
      "    Return the value for key if key is in the dictionary, else default.\n",
      "\n"
     ]
    }
   ],
   "source": [
    "help(diccionario.get)"
   ]
  },
  {
   "cell_type": "code",
   "execution_count": 62,
   "id": "22246a54",
   "metadata": {
    "execution": {
     "iopub.execute_input": "2021-09-09T19:57:48.159448Z",
     "iopub.status.busy": "2021-09-09T19:57:48.158356Z",
     "iopub.status.idle": "2021-09-09T19:57:48.161131Z",
     "shell.execute_reply": "2021-09-09T19:57:48.160675Z"
    },
    "slideshow": {
     "slide_type": "slide"
    }
   },
   "outputs": [
    {
     "name": "stdout",
     "output_type": "stream",
     "text": [
      "None\n"
     ]
    }
   ],
   "source": [
    "print(diccionario.get('clave1000'))"
   ]
  },
  {
   "cell_type": "code",
   "execution_count": 63,
   "id": "b3db9624",
   "metadata": {
    "execution": {
     "iopub.execute_input": "2021-09-09T19:57:48.164801Z",
     "iopub.status.busy": "2021-09-09T19:57:48.164308Z",
     "iopub.status.idle": "2021-09-09T19:57:48.166185Z",
     "shell.execute_reply": "2021-09-09T19:57:48.166579Z"
    },
    "slideshow": {
     "slide_type": "slide"
    }
   },
   "outputs": [
    {
     "name": "stdout",
     "output_type": "stream",
     "text": [
      "True\n"
     ]
    }
   ],
   "source": [
    "print('clave1' in diccionario)  # Verifico si la clave está en el diccionario"
   ]
  },
  {
   "cell_type": "code",
   "execution_count": 64,
   "id": "a52e287b",
   "metadata": {
    "execution": {
     "iopub.execute_input": "2021-09-09T19:57:48.170927Z",
     "iopub.status.busy": "2021-09-09T19:57:48.170448Z",
     "iopub.status.idle": "2021-09-09T19:57:48.174928Z",
     "shell.execute_reply": "2021-09-09T19:57:48.174497Z"
    }
   },
   "outputs": [
    {
     "data": {
      "text/plain": [
       "True"
      ]
     },
     "execution_count": 64,
     "metadata": {},
     "output_type": "execute_result"
    }
   ],
   "source": [
    "l = [1, 2, 3, 4]\n",
    "2 in l"
   ]
  },
  {
   "cell_type": "code",
   "execution_count": 65,
   "id": "494053c2",
   "metadata": {
    "execution": {
     "iopub.execute_input": "2021-09-09T19:57:48.179052Z",
     "iopub.status.busy": "2021-09-09T19:57:48.178374Z",
     "iopub.status.idle": "2021-09-09T19:57:48.182395Z",
     "shell.execute_reply": "2021-09-09T19:57:48.181962Z"
    }
   },
   "outputs": [
    {
     "name": "stdout",
     "output_type": "stream",
     "text": [
      "la clave es clave1 y el valor es valor1\n",
      "la clave es 2 y el valor es valor2\n",
      "la clave es clave3 y el valor es 3\n"
     ]
    }
   ],
   "source": [
    "for clave, valor in diccionario.items():\n",
    "    print(\"la clave es %s y el valor es %s\" % (clave, valor))"
   ]
  },
  {
   "cell_type": "code",
   "execution_count": 66,
   "id": "6f911695",
   "metadata": {
    "execution": {
     "iopub.execute_input": "2021-09-09T19:57:48.186110Z",
     "iopub.status.busy": "2021-09-09T19:57:48.185633Z",
     "iopub.status.idle": "2021-09-09T19:57:48.189461Z",
     "shell.execute_reply": "2021-09-09T19:57:48.189029Z"
    }
   },
   "outputs": [
    {
     "name": "stdout",
     "output_type": "stream",
     "text": [
      "la clave es clave1 y el valor es valor1\n",
      "la clave es 2 y el valor es valor2\n",
      "la clave es clave3 y el valor es 3\n"
     ]
    }
   ],
   "source": [
    "for clave, valor in diccionario.items():\n",
    "    print(\"la clave es {} y el valor es {}\".format(clave, valor))"
   ]
  },
  {
   "cell_type": "code",
   "execution_count": 67,
   "id": "cbdfb71b",
   "metadata": {
    "execution": {
     "iopub.execute_input": "2021-09-09T19:57:48.193401Z",
     "iopub.status.busy": "2021-09-09T19:57:48.192882Z",
     "iopub.status.idle": "2021-09-09T19:57:48.195336Z",
     "shell.execute_reply": "2021-09-09T19:57:48.195707Z"
    },
    "slideshow": {
     "slide_type": "slide"
    }
   },
   "outputs": [
    {
     "name": "stdout",
     "output_type": "stream",
     "text": [
      "la clave es clave1 y el valor es valor1\n",
      "la clave es 2 y el valor es valor2\n",
      "la clave es clave3 y el valor es 3\n"
     ]
    }
   ],
   "source": [
    "# Cómo iterar un diccionario elemento por elemento\n",
    "for (\n",
    "    clave,\n",
    "    valor,\n",
    ") in (\n",
    "    diccionario.items()\n",
    "):  # diccionario.items() va devolviendo tuplas con el formato (clave,valor)\n",
    "    print(\n",
    "        f\"la clave es {clave} y el valor es {valor}\"\n",
    "    )  # con esta sintaxis se desempaquetan en clave y valor (similar a enumerate)"
   ]
  },
  {
   "cell_type": "code",
   "execution_count": 68,
   "id": "547d0f58",
   "metadata": {
    "execution": {
     "iopub.execute_input": "2021-09-09T19:57:48.200709Z",
     "iopub.status.busy": "2021-09-09T19:57:48.199645Z",
     "iopub.status.idle": "2021-09-09T19:57:48.202463Z",
     "shell.execute_reply": "2021-09-09T19:57:48.202040Z"
    },
    "slideshow": {
     "slide_type": "slide"
    }
   },
   "outputs": [
    {
     "name": "stdout",
     "output_type": "stream",
     "text": [
      "clave1\n",
      "2\n",
      "clave3\n"
     ]
    }
   ],
   "source": [
    "for clave in diccionario.keys():\n",
    "    print(clave)"
   ]
  },
  {
   "cell_type": "code",
   "execution_count": 69,
   "id": "2f4b92c9",
   "metadata": {
    "execution": {
     "iopub.execute_input": "2021-09-09T19:57:48.205958Z",
     "iopub.status.busy": "2021-09-09T19:57:48.205483Z",
     "iopub.status.idle": "2021-09-09T19:57:48.209346Z",
     "shell.execute_reply": "2021-09-09T19:57:48.208888Z"
    },
    "slideshow": {
     "slide_type": "slide"
    }
   },
   "outputs": [
    {
     "name": "stdout",
     "output_type": "stream",
     "text": [
      "valor1\n",
      "valor2\n",
      "3\n"
     ]
    }
   ],
   "source": [
    "for valor in diccionario.values():\n",
    "    print(valor)"
   ]
  },
  {
   "cell_type": "markdown",
   "id": "8028fe90",
   "metadata": {},
   "source": [
    "#### Sets\n",
    "\n",
    "Son similares a los diccionarios (en eficiencia) pero se almacenan solo claves, y tienen algunas operaciones particulares.\n",
    "\n",
    "En particular, no pueden tener elementos iguales (pensar que son conjuntos)"
   ]
  },
  {
   "cell_type": "code",
   "execution_count": 70,
   "id": "44f7bbb6",
   "metadata": {
    "execution": {
     "iopub.execute_input": "2021-09-09T19:57:48.213096Z",
     "iopub.status.busy": "2021-09-09T19:57:48.212593Z",
     "iopub.status.idle": "2021-09-09T19:57:48.216905Z",
     "shell.execute_reply": "2021-09-09T19:57:48.216413Z"
    }
   },
   "outputs": [],
   "source": [
    "set??"
   ]
  },
  {
   "cell_type": "code",
   "execution_count": 71,
   "id": "eacd100d",
   "metadata": {
    "execution": {
     "iopub.execute_input": "2021-09-09T19:57:48.221741Z",
     "iopub.status.busy": "2021-09-09T19:57:48.221236Z",
     "iopub.status.idle": "2021-09-09T19:57:48.223693Z",
     "shell.execute_reply": "2021-09-09T19:57:48.224077Z"
    }
   },
   "outputs": [
    {
     "data": {
      "text/plain": [
       "{1, 2, 3}"
      ]
     },
     "execution_count": 71,
     "metadata": {},
     "output_type": "execute_result"
    }
   ],
   "source": [
    "# Se definen como los diccionarios pero sin hacerlos 'clave:valor', solamente una seguidilla de elementos\n",
    "{1, 2, 2, 3}"
   ]
  },
  {
   "cell_type": "code",
   "execution_count": 72,
   "id": "a05427a6",
   "metadata": {
    "execution": {
     "iopub.execute_input": "2021-09-09T19:57:48.228111Z",
     "iopub.status.busy": "2021-09-09T19:57:48.227636Z",
     "iopub.status.idle": "2021-09-09T19:57:48.230725Z",
     "shell.execute_reply": "2021-09-09T19:57:48.230301Z"
    }
   },
   "outputs": [
    {
     "data": {
      "text/plain": [
       "{1, 2, 3}"
      ]
     },
     "execution_count": 72,
     "metadata": {},
     "output_type": "execute_result"
    }
   ],
   "source": [
    "set([1, 2, 2, 3])"
   ]
  },
  {
   "cell_type": "markdown",
   "id": "387a8c9c",
   "metadata": {},
   "source": [
    "## Condicionales (if...elif...else)\n",
    "\n",
    "```python\n",
    "if <condición_1>:\n",
    "    <hacer algo_1 si se da la condición_1>\n",
    "elif <condición_2>:\n",
    "    <hacer algo_2 si se da la condición_2>\n",
    "...\n",
    "elif <condición_n>:\n",
    "    <hacer algo_n si se da la condición_n>\n",
    "else:\n",
    "    <hacer otra cosa si no dan las anteriores>\n",
    "```\n",
    "\n",
    "Algo importante para notar es que los bloques se definen por **niveles de identacion**."
   ]
  },
  {
   "cell_type": "code",
   "execution_count": 73,
   "id": "b4e5bb6d",
   "metadata": {
    "execution": {
     "iopub.execute_input": "2021-09-09T19:57:48.236407Z",
     "iopub.status.busy": "2021-09-09T19:57:48.235266Z",
     "iopub.status.idle": "2021-09-09T19:57:48.238747Z",
     "shell.execute_reply": "2021-09-09T19:57:48.237676Z"
    }
   },
   "outputs": [
    {
     "name": "stdout",
     "output_type": "stream",
     "text": [
      "uno"
     ]
    },
    {
     "name": "stdout",
     "output_type": "stream",
     "text": [
      "\n"
     ]
    }
   ],
   "source": [
    "v = 1\n",
    "if v == 1:\n",
    "    print(\"uno\")\n",
    "elif v == 2:\n",
    "    print(\"dos\")\n",
    "else:\n",
    "    print(\"ni idea\")\n",
    "    print(v)"
   ]
  },
  {
   "cell_type": "markdown",
   "id": "b013fa94",
   "metadata": {},
   "source": [
    "## Iteraciones\n",
    "\n",
    "```python\n",
    "while cond:\n",
    "    <codigo>\n",
    "```\n",
    "\n",
    "```python\n",
    "for elemento in iterable:\n",
    "    <codigo>\n",
    "```\n",
    "\n",
    "Para iterar sobre un rango de valores, usamos `range`"
   ]
  },
  {
   "cell_type": "code",
   "execution_count": 74,
   "id": "14d11674",
   "metadata": {
    "execution": {
     "iopub.execute_input": "2021-09-09T19:57:48.243793Z",
     "iopub.status.busy": "2021-09-09T19:57:48.242896Z",
     "iopub.status.idle": "2021-09-09T19:57:48.245329Z",
     "shell.execute_reply": "2021-09-09T19:57:48.245721Z"
    }
   },
   "outputs": [
    {
     "name": "stdout",
     "output_type": "stream",
     "text": [
      "1\n",
      "4\n",
      "7\n",
      "10\n"
     ]
    }
   ],
   "source": [
    "for i in range(1, 11, 3):\n",
    "    print(i)"
   ]
  },
  {
   "cell_type": "markdown",
   "id": "20fba330",
   "metadata": {},
   "source": [
    "## Operadores logicos\n",
    "\n",
    "`not`, `or`, `and`"
   ]
  },
  {
   "cell_type": "code",
   "execution_count": 75,
   "id": "add0dd4a",
   "metadata": {
    "execution": {
     "iopub.execute_input": "2021-09-09T19:57:48.250699Z",
     "iopub.status.busy": "2021-09-09T19:57:48.249567Z",
     "iopub.status.idle": "2021-09-09T19:57:48.252337Z",
     "shell.execute_reply": "2021-09-09T19:57:48.251918Z"
    }
   },
   "outputs": [
    {
     "name": "stdout",
     "output_type": "stream",
     "text": [
      "yay\n"
     ]
    }
   ],
   "source": [
    "if True or False:\n",
    "    print(\"yay\")"
   ]
  },
  {
   "cell_type": "code",
   "execution_count": 76,
   "id": "79674519",
   "metadata": {
    "execution": {
     "iopub.execute_input": "2021-09-09T19:57:48.257403Z",
     "iopub.status.busy": "2021-09-09T19:57:48.256651Z",
     "iopub.status.idle": "2021-09-09T19:57:48.259194Z",
     "shell.execute_reply": "2021-09-09T19:57:48.259582Z"
    }
   },
   "outputs": [
    {
     "data": {
      "text/plain": [
       "False"
      ]
     },
     "execution_count": 76,
     "metadata": {},
     "output_type": "execute_result"
    }
   ],
   "source": [
    "1 == 2"
   ]
  },
  {
   "cell_type": "code",
   "execution_count": 77,
   "id": "feba56a4",
   "metadata": {
    "execution": {
     "iopub.execute_input": "2021-09-09T19:57:48.263708Z",
     "iopub.status.busy": "2021-09-09T19:57:48.263201Z",
     "iopub.status.idle": "2021-09-09T19:57:48.265810Z",
     "shell.execute_reply": "2021-09-09T19:57:48.265384Z"
    }
   },
   "outputs": [
    {
     "data": {
      "text/plain": [
       "True"
      ]
     },
     "execution_count": 77,
     "metadata": {},
     "output_type": "execute_result"
    }
   ],
   "source": [
    "1 != 2"
   ]
  },
  {
   "cell_type": "markdown",
   "id": "b055f7cc",
   "metadata": {
    "slideshow": {
     "slide_type": "slide"
    }
   },
   "source": [
    "## Funciones en Python"
   ]
  },
  {
   "cell_type": "code",
   "execution_count": 78,
   "id": "3a172b0b",
   "metadata": {
    "execution": {
     "iopub.execute_input": "2021-09-09T19:57:48.273646Z",
     "iopub.status.busy": "2021-09-09T19:57:48.272462Z",
     "iopub.status.idle": "2021-09-09T19:57:48.275295Z",
     "shell.execute_reply": "2021-09-09T19:57:48.274874Z"
    },
    "slideshow": {
     "slide_type": "slide"
    }
   },
   "outputs": [
    {
     "name": "stdout",
     "output_type": "stream",
     "text": [
      "True\n",
      "False\n"
     ]
    }
   ],
   "source": [
    "def busqueda_binaria(lista, elemento):\n",
    "    if not lista:\n",
    "        return False\n",
    "    elif len(lista) == 1:\n",
    "        return lista[0] == elemento\n",
    "    mitad = len(lista) // 2  # // es la operación división entera\n",
    "    if lista[mitad] == elemento:\n",
    "        return True\n",
    "    if lista[mitad] > elemento:\n",
    "        return busqueda_binaria(lista[:mitad], elemento)\n",
    "    if lista[mitad] < elemento:\n",
    "        return busqueda_binaria(lista[mitad:], elemento)\n",
    "\n",
    "\n",
    "print(busqueda_binaria([1, 2, 3, 4, 5], 4))\n",
    "print(busqueda_binaria([1, 4, 6, 7, 9, 10], 2))"
   ]
  },
  {
   "cell_type": "code",
   "execution_count": 79,
   "id": "6b9cd8b5",
   "metadata": {
    "execution": {
     "iopub.execute_input": "2021-09-09T19:57:48.280365Z",
     "iopub.status.busy": "2021-09-09T19:57:48.279479Z",
     "iopub.status.idle": "2021-09-09T19:57:48.281874Z",
     "shell.execute_reply": "2021-09-09T19:57:48.282256Z"
    }
   },
   "outputs": [
    {
     "name": "stdout",
     "output_type": "stream",
     "text": [
      "(3, 3, 3)\n"
     ]
    }
   ],
   "source": [
    "def a(b):\n",
    "    if a == 1:\n",
    "        print(a)\n",
    "    return (b, b, b)\n",
    "\n",
    "\n",
    "print(a(3))"
   ]
  },
  {
   "cell_type": "code",
   "execution_count": 80,
   "id": "ee551671",
   "metadata": {
    "execution": {
     "iopub.execute_input": "2021-09-09T19:57:48.287537Z",
     "iopub.status.busy": "2021-09-09T19:57:48.287035Z",
     "iopub.status.idle": "2021-09-09T19:57:48.295793Z",
     "shell.execute_reply": "2021-09-09T19:57:48.296226Z"
    },
    "lines_to_next_cell": 2,
    "slideshow": {
     "slide_type": "slide"
    },
    "tags": [
     "raises-exception"
    ]
   },
   "outputs": [
    {
     "name": "stdout",
     "output_type": "stream",
     "text": [
      "3\n",
      "3.0\n",
      "3.0\n",
      "hola como te va\n",
      "[1, 2, 3, 4, 5]\n"
     ]
    },
    {
     "ename": "TypeError",
     "evalue": "can only concatenate str (not \"int\") to str",
     "output_type": "error",
     "traceback": [
      "\u001b[0;31m---------------------------------------------------------------------------\u001b[0m",
      "\u001b[0;31mTypeError\u001b[0m                                 Traceback (most recent call last)",
      "\u001b[0;32m/tmp/ipykernel_1923/1000948441.py\u001b[0m in \u001b[0;36m<module>\u001b[0;34m\u001b[0m\n\u001b[1;32m      8\u001b[0m \u001b[0mprint\u001b[0m\u001b[0;34m(\u001b[0m\u001b[0msuma\u001b[0m\u001b[0;34m(\u001b[0m\u001b[0;34m\"hola \"\u001b[0m\u001b[0;34m,\u001b[0m \u001b[0;34m\"como te va\"\u001b[0m\u001b[0;34m)\u001b[0m\u001b[0;34m)\u001b[0m\u001b[0;34m\u001b[0m\u001b[0;34m\u001b[0m\u001b[0m\n\u001b[1;32m      9\u001b[0m \u001b[0mprint\u001b[0m\u001b[0;34m(\u001b[0m\u001b[0msuma\u001b[0m\u001b[0;34m(\u001b[0m\u001b[0;34m[\u001b[0m\u001b[0;36m1\u001b[0m\u001b[0;34m,\u001b[0m \u001b[0;36m2\u001b[0m\u001b[0;34m,\u001b[0m \u001b[0;36m3\u001b[0m\u001b[0;34m]\u001b[0m\u001b[0;34m,\u001b[0m \u001b[0;34m[\u001b[0m\u001b[0;36m4\u001b[0m\u001b[0;34m,\u001b[0m \u001b[0;36m5\u001b[0m\u001b[0;34m]\u001b[0m\u001b[0;34m)\u001b[0m\u001b[0;34m)\u001b[0m\u001b[0;34m\u001b[0m\u001b[0;34m\u001b[0m\u001b[0m\n\u001b[0;32m---> 10\u001b[0;31m \u001b[0mprint\u001b[0m\u001b[0;34m(\u001b[0m\u001b[0msuma\u001b[0m\u001b[0;34m(\u001b[0m\u001b[0;34m\"1\"\u001b[0m\u001b[0;34m,\u001b[0m \u001b[0;36m3\u001b[0m\u001b[0;34m)\u001b[0m\u001b[0;34m)\u001b[0m  \u001b[0;31m# Falla\u001b[0m\u001b[0;34m\u001b[0m\u001b[0;34m\u001b[0m\u001b[0m\n\u001b[0m",
      "\u001b[0;32m/tmp/ipykernel_1923/1000948441.py\u001b[0m in \u001b[0;36msuma\u001b[0;34m(a, b)\u001b[0m\n\u001b[1;32m      1\u001b[0m \u001b[0;32mdef\u001b[0m \u001b[0msuma\u001b[0m\u001b[0;34m(\u001b[0m\u001b[0ma\u001b[0m\u001b[0;34m,\u001b[0m \u001b[0mb\u001b[0m\u001b[0;34m)\u001b[0m\u001b[0;34m:\u001b[0m\u001b[0;34m\u001b[0m\u001b[0;34m\u001b[0m\u001b[0m\n\u001b[0;32m----> 2\u001b[0;31m     \u001b[0;32mreturn\u001b[0m \u001b[0ma\u001b[0m \u001b[0;34m+\u001b[0m \u001b[0mb\u001b[0m\u001b[0;34m\u001b[0m\u001b[0;34m\u001b[0m\u001b[0m\n\u001b[0m\u001b[1;32m      3\u001b[0m \u001b[0;34m\u001b[0m\u001b[0m\n\u001b[1;32m      4\u001b[0m \u001b[0;34m\u001b[0m\u001b[0m\n\u001b[1;32m      5\u001b[0m \u001b[0mprint\u001b[0m\u001b[0;34m(\u001b[0m\u001b[0msuma\u001b[0m\u001b[0;34m(\u001b[0m\u001b[0;36m1\u001b[0m\u001b[0;34m,\u001b[0m \u001b[0;36m2\u001b[0m\u001b[0;34m)\u001b[0m\u001b[0;34m)\u001b[0m\u001b[0;34m\u001b[0m\u001b[0;34m\u001b[0m\u001b[0m\n",
      "\u001b[0;31mTypeError\u001b[0m: can only concatenate str (not \"int\") to str"
     ]
    }
   ],
   "source": [
    "def suma(a, b):\n",
    "    return a + b\n",
    "\n",
    "\n",
    "print(suma(1, 2))\n",
    "print(suma(1.0, 2.0))\n",
    "print(suma(1.0, 2))\n",
    "print(suma(\"hola \", \"como te va\"))\n",
    "print(suma([1, 2, 3], [4, 5]))\n",
    "print(suma(\"1\", 3))  # Falla"
   ]
  },
  {
   "cell_type": "code",
   "execution_count": 81,
   "id": "75f22a2e",
   "metadata": {
    "execution": {
     "iopub.execute_input": "2021-09-09T19:57:48.301141Z",
     "iopub.status.busy": "2021-09-09T19:57:48.300344Z",
     "iopub.status.idle": "2021-09-09T19:57:48.303245Z",
     "shell.execute_reply": "2021-09-09T19:57:48.303624Z"
    }
   },
   "outputs": [
    {
     "name": "stdout",
     "output_type": "stream",
     "text": [
      "2.0\n"
     ]
    }
   ],
   "source": [
    "# El valor por default de divisor es 1\n",
    "\n",
    "\n",
    "def division(dividendo, divisor=2):\n",
    "    return dividendo / divisor\n",
    "\n",
    "\n",
    "print(division(4))  # Usa el valor por default"
   ]
  },
  {
   "cell_type": "code",
   "execution_count": 82,
   "id": "05b19d24",
   "metadata": {
    "execution": {
     "iopub.execute_input": "2021-09-09T19:57:48.307511Z",
     "iopub.status.busy": "2021-09-09T19:57:48.307028Z",
     "iopub.status.idle": "2021-09-09T19:57:48.315701Z",
     "shell.execute_reply": "2021-09-09T19:57:48.316150Z"
    },
    "tags": [
     "raises-exception"
    ]
   },
   "outputs": [
    {
     "name": "stdout",
     "output_type": "stream",
     "text": [
      "0.5\n",
      "0.5\n"
     ]
    },
    {
     "ename": "TypeError",
     "evalue": "division() missing 1 required positional argument: 'dividendo'",
     "output_type": "error",
     "traceback": [
      "\u001b[0;31m---------------------------------------------------------------------------\u001b[0m",
      "\u001b[0;31mTypeError\u001b[0m                                 Traceback (most recent call last)",
      "\u001b[0;32m/tmp/ipykernel_1923/1004518412.py\u001b[0m in \u001b[0;36m<module>\u001b[0;34m\u001b[0m\n\u001b[1;32m      1\u001b[0m \u001b[0mprint\u001b[0m\u001b[0;34m(\u001b[0m\u001b[0mdivision\u001b[0m\u001b[0;34m(\u001b[0m\u001b[0;36m1\u001b[0m\u001b[0;34m,\u001b[0m \u001b[0;36m2\u001b[0m\u001b[0;34m)\u001b[0m\u001b[0;34m)\u001b[0m  \u001b[0;31m# Parámetros por orden\u001b[0m\u001b[0;34m\u001b[0m\u001b[0;34m\u001b[0m\u001b[0m\n\u001b[1;32m      2\u001b[0m \u001b[0mprint\u001b[0m\u001b[0;34m(\u001b[0m\u001b[0mdivision\u001b[0m\u001b[0;34m(\u001b[0m\u001b[0mdividendo\u001b[0m\u001b[0;34m=\u001b[0m\u001b[0;36m1\u001b[0m\u001b[0;34m,\u001b[0m \u001b[0mdivisor\u001b[0m\u001b[0;34m=\u001b[0m\u001b[0;36m2\u001b[0m\u001b[0;34m)\u001b[0m\u001b[0;34m)\u001b[0m  \u001b[0;31m# Parámetros por nombre\u001b[0m\u001b[0;34m\u001b[0m\u001b[0;34m\u001b[0m\u001b[0m\n\u001b[0;32m----> 3\u001b[0;31m \u001b[0mprint\u001b[0m\u001b[0;34m(\u001b[0m\u001b[0mdivision\u001b[0m\u001b[0;34m(\u001b[0m\u001b[0mdivisor\u001b[0m\u001b[0;34m=\u001b[0m\u001b[0;36m2\u001b[0m\u001b[0;34m)\u001b[0m\u001b[0;34m)\u001b[0m\u001b[0;34m\u001b[0m\u001b[0;34m\u001b[0m\u001b[0m\n\u001b[0m",
      "\u001b[0;31mTypeError\u001b[0m: division() missing 1 required positional argument: 'dividendo'"
     ]
    }
   ],
   "source": [
    "print(division(1, 2))  # Parámetros por orden\n",
    "print(division(dividendo=1, divisor=2))  # Parámetros por nombre\n",
    "print(division(divisor=2))"
   ]
  },
  {
   "cell_type": "code",
   "execution_count": 83,
   "id": "2109cf41",
   "metadata": {
    "execution": {
     "iopub.execute_input": "2021-09-09T19:57:48.320278Z",
     "iopub.status.busy": "2021-09-09T19:57:48.319780Z",
     "iopub.status.idle": "2021-09-09T19:57:48.323724Z",
     "shell.execute_reply": "2021-09-09T19:57:48.323284Z"
    }
   },
   "outputs": [
    {
     "name": "stdout",
     "output_type": "stream",
     "text": [
      "0.5\n"
     ]
    }
   ],
   "source": [
    "print(division(divisor=2, dividendo=1))"
   ]
  },
  {
   "cell_type": "code",
   "execution_count": 84,
   "id": "690bb155",
   "metadata": {
    "execution": {
     "iopub.execute_input": "2021-09-09T19:57:48.328688Z",
     "iopub.status.busy": "2021-09-09T19:57:48.328191Z",
     "iopub.status.idle": "2021-09-09T19:57:48.331662Z",
     "shell.execute_reply": "2021-09-09T19:57:48.332037Z"
    }
   },
   "outputs": [
    {
     "name": "stdout",
     "output_type": "stream",
     "text": [
      "['a', 'b', 'c']\n",
      "[1, 2, 3]\n",
      "['hola', ' don', ' pepito']\n",
      "hola -  don -  pepito\n"
     ]
    }
   ],
   "source": [
    "# Funciones básicas ya en el lenguaje\n",
    "# Hechas para funcionar para distintos tipos\n",
    "\n",
    "string_ordenado = sorted('bca')\n",
    "print(string_ordenado)\n",
    "\n",
    "lista_ordenada = sorted([1, 3, 2])\n",
    "print(lista_ordenada)\n",
    "\n",
    "separadas = \"hola, don, pepito\".split(\",\")\n",
    "print(separadas)\n",
    "unidas = \" - \".join(separadas)\n",
    "print(unidas)"
   ]
  },
  {
   "cell_type": "markdown",
   "id": "e792fcd8",
   "metadata": {},
   "source": [
    "## Módulos\n",
    "\n",
    "Para incluir alguna biblioteca de funciones se usa `import`. Pueden ser cosas ya predefinidas en Python (`math`, `random`, etc), nombres de archivos en nuestro directorio (por ejemplo, para `mimodulo.py` ponemos `import mimodulo`) o bibliotecas instaladas por el usuario"
   ]
  },
  {
   "cell_type": "code",
   "execution_count": 85,
   "id": "977f8a49",
   "metadata": {
    "execution": {
     "iopub.execute_input": "2021-09-09T19:57:48.335682Z",
     "iopub.status.busy": "2021-09-09T19:57:48.335190Z",
     "iopub.status.idle": "2021-09-09T19:57:48.337030Z",
     "shell.execute_reply": "2021-09-09T19:57:48.337429Z"
    }
   },
   "outputs": [
    {
     "name": "stdout",
     "output_type": "stream",
     "text": [
      "3.141592653589793\n"
     ]
    }
   ],
   "source": [
    "import math\n",
    "\n",
    "print(math.pi)"
   ]
  },
  {
   "cell_type": "code",
   "execution_count": 86,
   "id": "4cb43b59",
   "metadata": {
    "execution": {
     "iopub.execute_input": "2021-09-09T19:57:48.341056Z",
     "iopub.status.busy": "2021-09-09T19:57:48.340437Z",
     "iopub.status.idle": "2021-09-09T19:57:48.343265Z",
     "shell.execute_reply": "2021-09-09T19:57:48.342802Z"
    }
   },
   "outputs": [
    {
     "name": "stdout",
     "output_type": "stream",
     "text": [
      "3.141592653589793 2.718281828459045\n"
     ]
    }
   ],
   "source": [
    "from math import pi, e\n",
    "\n",
    "print(pi, e)"
   ]
  },
  {
   "cell_type": "code",
   "execution_count": 87,
   "id": "d2f049f7",
   "metadata": {
    "execution": {
     "iopub.execute_input": "2021-09-09T19:57:48.347573Z",
     "iopub.status.busy": "2021-09-09T19:57:48.345508Z",
     "iopub.status.idle": "2021-09-09T19:57:48.349486Z",
     "shell.execute_reply": "2021-09-09T19:57:48.349880Z"
    }
   },
   "outputs": [
    {
     "data": {
      "text/plain": [
       "2"
      ]
     },
     "execution_count": 87,
     "metadata": {},
     "output_type": "execute_result"
    }
   ],
   "source": [
    "math.gcd(56, 78)"
   ]
  },
  {
   "cell_type": "markdown",
   "id": "bead00d7",
   "metadata": {},
   "source": [
    "## Manejo de excepciones\n",
    "\n",
    "Se pueden encapsular errores esperados en un bloque 'try/except' para evitar cortar el flujo del programa"
   ]
  },
  {
   "cell_type": "code",
   "execution_count": 88,
   "id": "754d6ded",
   "metadata": {
    "execution": {
     "iopub.execute_input": "2021-09-09T19:57:48.358515Z",
     "iopub.status.busy": "2021-09-09T19:57:48.355991Z",
     "iopub.status.idle": "2021-09-09T19:57:48.360505Z",
     "shell.execute_reply": "2021-09-09T19:57:48.360933Z"
    },
    "tags": [
     "raises-exception"
    ]
   },
   "outputs": [
    {
     "ename": "ZeroDivisionError",
     "evalue": "division by zero",
     "output_type": "error",
     "traceback": [
      "\u001b[0;31m---------------------------------------------------------------------------\u001b[0m",
      "\u001b[0;31mZeroDivisionError\u001b[0m                         Traceback (most recent call last)",
      "\u001b[0;32m/tmp/ipykernel_1923/1165346582.py\u001b[0m in \u001b[0;36m<module>\u001b[0;34m\u001b[0m\n\u001b[0;32m----> 1\u001b[0;31m \u001b[0mdivision\u001b[0m\u001b[0;34m(\u001b[0m\u001b[0;36m1\u001b[0m\u001b[0;34m,\u001b[0m \u001b[0;36m0\u001b[0m\u001b[0;34m)\u001b[0m  \u001b[0;31m# No se puede dividir por cero\u001b[0m\u001b[0;34m\u001b[0m\u001b[0;34m\u001b[0m\u001b[0m\n\u001b[0m",
      "\u001b[0;32m/tmp/ipykernel_1923/2607187721.py\u001b[0m in \u001b[0;36mdivision\u001b[0;34m(dividendo, divisor)\u001b[0m\n\u001b[1;32m      3\u001b[0m \u001b[0;34m\u001b[0m\u001b[0m\n\u001b[1;32m      4\u001b[0m \u001b[0;32mdef\u001b[0m \u001b[0mdivision\u001b[0m\u001b[0;34m(\u001b[0m\u001b[0mdividendo\u001b[0m\u001b[0;34m,\u001b[0m \u001b[0mdivisor\u001b[0m\u001b[0;34m=\u001b[0m\u001b[0;36m2\u001b[0m\u001b[0;34m)\u001b[0m\u001b[0;34m:\u001b[0m\u001b[0;34m\u001b[0m\u001b[0;34m\u001b[0m\u001b[0m\n\u001b[0;32m----> 5\u001b[0;31m     \u001b[0;32mreturn\u001b[0m \u001b[0mdividendo\u001b[0m \u001b[0;34m/\u001b[0m \u001b[0mdivisor\u001b[0m\u001b[0;34m\u001b[0m\u001b[0;34m\u001b[0m\u001b[0m\n\u001b[0m\u001b[1;32m      6\u001b[0m \u001b[0;34m\u001b[0m\u001b[0m\n\u001b[1;32m      7\u001b[0m \u001b[0;34m\u001b[0m\u001b[0m\n",
      "\u001b[0;31mZeroDivisionError\u001b[0m: division by zero"
     ]
    }
   ],
   "source": [
    "division(1, 0)  # No se puede dividir por cero"
   ]
  },
  {
   "cell_type": "code",
   "execution_count": 89,
   "id": "95d098c3",
   "metadata": {
    "execution": {
     "iopub.execute_input": "2021-09-09T19:57:48.366340Z",
     "iopub.status.busy": "2021-09-09T19:57:48.365438Z",
     "iopub.status.idle": "2021-09-09T19:57:48.368244Z",
     "shell.execute_reply": "2021-09-09T19:57:48.367827Z"
    }
   },
   "outputs": [
    {
     "name": "stdout",
     "output_type": "stream",
     "text": [
      "No se puede dividir por cero, ojo! division by zero\n",
      "1\n"
     ]
    }
   ],
   "source": [
    "try:\n",
    "    division(1, 0)\n",
    "except (ZeroDivisionError, TypeError) as e:\n",
    "    print('No se puede dividir por cero, ojo!', e)\n",
    "finally:\n",
    "    print(1)"
   ]
  },
  {
   "cell_type": "markdown",
   "id": "b2793924",
   "metadata": {
    "slideshow": {
     "slide_type": "slide"
    }
   },
   "source": [
    "## Lectura y escritura de archivos"
   ]
  },
  {
   "cell_type": "code",
   "execution_count": 90,
   "id": "10503d56",
   "metadata": {
    "execution": {
     "iopub.execute_input": "2021-09-09T19:57:48.373943Z",
     "iopub.status.busy": "2021-09-09T19:57:48.373214Z",
     "iopub.status.idle": "2021-09-09T19:57:48.375660Z",
     "shell.execute_reply": "2021-09-09T19:57:48.376045Z"
    },
    "slideshow": {
     "slide_type": "slide"
    }
   },
   "outputs": [
    {
     "name": "stdout",
     "output_type": "stream",
     "text": [
      "<_io.TextIOWrapper name='archivo.csv' mode='w' encoding='UTF-8'>\n"
     ]
    }
   ],
   "source": [
    "import random\n",
    "\n",
    "with open(\n",
    "    'archivo.csv', 'w'\n",
    ") as archivo:  # Al usar esta sintaxis no es necesario hacer close\n",
    "    archivo.write(\"Alumno, nota\\n\")\n",
    "    # Tambien de forma similar al fprintf se puede hacer:\n",
    "    # print(\"Alumno, nota\\n\", file=archivo)\n",
    "    for i in range(0, 10):\n",
    "        archivo.write(f\"{i},{random.randrange(0,10)}\\n\")\n",
    "\n",
    "print(archivo)  # Comentario aclaratorio:\n",
    "# Las variables definidas en un determinado scope siguen existiendo por fuera del mismo.\n",
    "# Se debe tener cuidado con esto, ya que nada garantiza que por fuera el valor sea el esperado."
   ]
  },
  {
   "cell_type": "code",
   "execution_count": 91,
   "id": "0330358d",
   "metadata": {
    "execution": {
     "iopub.execute_input": "2021-09-09T19:57:48.381844Z",
     "iopub.status.busy": "2021-09-09T19:57:48.381099Z",
     "iopub.status.idle": "2021-09-09T19:57:48.383486Z",
     "shell.execute_reply": "2021-09-09T19:57:48.383870Z"
    },
    "slideshow": {
     "slide_type": "slide"
    }
   },
   "outputs": [
    {
     "name": "stdout",
     "output_type": "stream",
     "text": [
      "Alumno, nota\n",
      "0,8\n",
      "1,9\n",
      "2,6\n",
      "3,7\n",
      "4,4\n",
      "5,7\n",
      "6,3\n",
      "7,1\n",
      "8,1\n",
      "9,6\n"
     ]
    }
   ],
   "source": [
    "with open('archivo.csv', 'r') as f:\n",
    "    for linea in f:\n",
    "        print(linea.strip())"
   ]
  },
  {
   "cell_type": "code",
   "execution_count": 92,
   "id": "ae30d569",
   "metadata": {
    "execution": {
     "iopub.execute_input": "2021-09-09T19:57:48.388331Z",
     "iopub.status.busy": "2021-09-09T19:57:48.387829Z",
     "iopub.status.idle": "2021-09-09T19:57:48.390166Z",
     "shell.execute_reply": "2021-09-09T19:57:48.390552Z"
    }
   },
   "outputs": [
    {
     "name": "stdout",
     "output_type": "stream",
     "text": [
      "Alumno, nota\n",
      "0,8\n",
      "1,9\n",
      "2,6\n",
      "3,7\n",
      "4,4\n",
      "5,7\n",
      "6,3\n",
      "7,1\n",
      "8,1\n",
      "9,6\n",
      "\n"
     ]
    }
   ],
   "source": [
    "with open('archivo.csv', 'r') as f:\n",
    "    print(f.read())"
   ]
  },
  {
   "cell_type": "code",
   "execution_count": 93,
   "id": "3762aac7",
   "metadata": {
    "execution": {
     "iopub.execute_input": "2021-09-09T19:57:48.394718Z",
     "iopub.status.busy": "2021-09-09T19:57:48.393984Z",
     "iopub.status.idle": "2021-09-09T19:57:48.396175Z",
     "shell.execute_reply": "2021-09-09T19:57:48.395754Z"
    }
   },
   "outputs": [],
   "source": [
    "f = open('archivo.csv', 'w')\n",
    "f.write(\"algo, algo\")\n",
    "f.close()"
   ]
  },
  {
   "cell_type": "markdown",
   "id": "75521330",
   "metadata": {
    "slideshow": {
     "slide_type": "slide"
    }
   },
   "source": [
    "## Objetos\n",
    "\n",
    "Los objetos tienen metodos y atributos:\n",
    "- Atributos: equivalentes a variables.\n",
    "- Métodos: equivalentes a las primitivas."
   ]
  },
  {
   "cell_type": "markdown",
   "id": "8443298d",
   "metadata": {
    "slideshow": {
     "slide_type": "slide"
    }
   },
   "source": [
    "### Cómo creo una clase"
   ]
  },
  {
   "cell_type": "code",
   "execution_count": 94,
   "id": "2e295918",
   "metadata": {
    "execution": {
     "iopub.execute_input": "2021-09-09T19:57:48.402557Z",
     "iopub.status.busy": "2021-09-09T19:57:48.401406Z",
     "iopub.status.idle": "2021-09-09T19:57:48.403113Z",
     "shell.execute_reply": "2021-09-09T19:57:48.403506Z"
    },
    "slideshow": {
     "slide_type": "slide"
    }
   },
   "outputs": [],
   "source": [
    "class Nodo(object):\n",
    "    def __init__(self, dato, siguiente=None):\n",
    "        self._dato = dato\n",
    "        self._siguiente = siguiente\n",
    "\n",
    "    @property\n",
    "    def dato(self):\n",
    "        return self._dato\n",
    "\n",
    "    @property\n",
    "    def proximo(self):\n",
    "        return self._siguiente\n",
    "\n",
    "    @proximo.setter\n",
    "    def proximo(self, siguiente):\n",
    "        self._siguiente = siguiente\n",
    "\n",
    "    def __repr__(self):\n",
    "        return str(self.dato)\n",
    "\n",
    "    def __str__(self):\n",
    "        return str(self.dato)"
   ]
  },
  {
   "cell_type": "code",
   "execution_count": 95,
   "id": "08eb24f7",
   "metadata": {
    "execution": {
     "iopub.execute_input": "2021-09-09T19:57:48.408345Z",
     "iopub.status.busy": "2021-09-09T19:57:48.407207Z",
     "iopub.status.idle": "2021-09-09T19:57:48.410048Z",
     "shell.execute_reply": "2021-09-09T19:57:48.409626Z"
    },
    "slideshow": {
     "slide_type": "slide"
    }
   },
   "outputs": [
    {
     "name": "stdout",
     "output_type": "stream",
     "text": [
      "hola\n"
     ]
    }
   ],
   "source": [
    "nodo = Nodo(\"hola\")\n",
    "print(nodo)"
   ]
  },
  {
   "cell_type": "code",
   "execution_count": 96,
   "id": "02249fb4",
   "metadata": {
    "execution": {
     "iopub.execute_input": "2021-09-09T19:57:48.414895Z",
     "iopub.status.busy": "2021-09-09T19:57:48.413764Z",
     "iopub.status.idle": "2021-09-09T19:57:48.416545Z",
     "shell.execute_reply": "2021-09-09T19:57:48.416125Z"
    },
    "slideshow": {
     "slide_type": "slide"
    }
   },
   "outputs": [
    {
     "name": "stdout",
     "output_type": "stream",
     "text": [
      "[hola, lala]\n"
     ]
    }
   ],
   "source": [
    "nodo2 = Nodo(\"lala\")\n",
    "print([nodo, nodo2])"
   ]
  },
  {
   "cell_type": "code",
   "execution_count": 97,
   "id": "07eeab94",
   "metadata": {
    "execution": {
     "iopub.execute_input": "2021-09-09T19:57:48.420355Z",
     "iopub.status.busy": "2021-09-09T19:57:48.419877Z",
     "iopub.status.idle": "2021-09-09T19:57:48.421709Z",
     "shell.execute_reply": "2021-09-09T19:57:48.422097Z"
    },
    "slideshow": {
     "slide_type": "slide"
    }
   },
   "outputs": [
    {
     "name": "stdout",
     "output_type": "stream",
     "text": [
      "hola\n"
     ]
    }
   ],
   "source": [
    "nodo3 = nodo.dato\n",
    "print(nodo3)"
   ]
  },
  {
   "cell_type": "markdown",
   "id": "8b571640",
   "metadata": {
    "slideshow": {
     "slide_type": "slide"
    }
   },
   "source": [
    "### Ejemplo: Lista Enlazada"
   ]
  },
  {
   "cell_type": "code",
   "execution_count": 98,
   "id": "5eac8814",
   "metadata": {
    "execution": {
     "iopub.execute_input": "2021-09-09T19:57:48.431168Z",
     "iopub.status.busy": "2021-09-09T19:57:48.430206Z",
     "iopub.status.idle": "2021-09-09T19:57:48.434236Z",
     "shell.execute_reply": "2021-09-09T19:57:48.433375Z"
    },
    "slideshow": {
     "slide_type": "slide"
    }
   },
   "outputs": [],
   "source": [
    "class ListaEnlazada(object):\n",
    "    def __init__(self):\n",
    "        self._primero = None\n",
    "        self._ultimo = None\n",
    "        self._largo = 0\n",
    "\n",
    "    def __len__(self):\n",
    "        return self._largo\n",
    "\n",
    "    def insertar_al_principio(self, dato):\n",
    "        nodo = Nodo(dato, self._primero)\n",
    "        self._primero = nodo\n",
    "        self._largo += 1\n",
    "        if self._largo == 1:\n",
    "            self._ultimo = nodo\n",
    "\n",
    "    def insertar_al_final(self, dato):\n",
    "        if self._largo != 0:\n",
    "            nodo = Nodo(dato)\n",
    "            nodo_anterior = self._ultimo\n",
    "            nodo_anterior._siguiente = nodo\n",
    "            self._ultimo = nodo\n",
    "            self._largo += 1\n",
    "        else:\n",
    "            self.insertar_al_principio(dato)\n",
    "\n",
    "    @property\n",
    "    def primero(self):\n",
    "        return self._primero.dato\n",
    "\n",
    "    def borrar_primero(self):\n",
    "        dato = self.primero.dato\n",
    "        self._primero = self.primero.siguiente\n",
    "        self._largo -= 1\n",
    "        if self._largo == 0:\n",
    "            self._ultimo = None\n",
    "        return dato\n",
    "\n",
    "    def __str__(self):\n",
    "        datos = []\n",
    "        nodo_actual = self._primero\n",
    "        while nodo_actual:\n",
    "            datos.append(nodo_actual.dato)\n",
    "            nodo_actual = nodo_actual.proximo\n",
    "        return \" -> \".join(datos)\n",
    "\n",
    "    def __repr__(self):\n",
    "        return self.__str__()"
   ]
  },
  {
   "cell_type": "code",
   "execution_count": 99,
   "id": "9a8d3a2b",
   "metadata": {
    "execution": {
     "iopub.execute_input": "2021-09-09T19:57:48.439068Z",
     "iopub.status.busy": "2021-09-09T19:57:48.436329Z",
     "iopub.status.idle": "2021-09-09T19:57:48.442911Z",
     "shell.execute_reply": "2021-09-09T19:57:48.443308Z"
    },
    "slideshow": {
     "slide_type": "slide"
    }
   },
   "outputs": [
    {
     "data": {
      "text/plain": [
       "2"
      ]
     },
     "execution_count": 99,
     "metadata": {},
     "output_type": "execute_result"
    }
   ],
   "source": [
    "lista = ListaEnlazada()\n",
    "lista.insertar_al_principio(\"Primer Dato\")\n",
    "lista.insertar_al_principio(\"Primer primer Dato\")\n",
    "len(lista)"
   ]
  },
  {
   "cell_type": "code",
   "execution_count": 100,
   "id": "ece59ed7",
   "metadata": {
    "execution": {
     "iopub.execute_input": "2021-09-09T19:57:48.447533Z",
     "iopub.status.busy": "2021-09-09T19:57:48.446866Z",
     "iopub.status.idle": "2021-09-09T19:57:48.451822Z",
     "shell.execute_reply": "2021-09-09T19:57:48.451139Z"
    }
   },
   "outputs": [
    {
     "data": {
      "text/plain": [
       "Primer primer Dato -> Primer Dato"
      ]
     },
     "execution_count": 100,
     "metadata": {},
     "output_type": "execute_result"
    }
   ],
   "source": [
    "lista"
   ]
  },
  {
   "cell_type": "code",
   "execution_count": 101,
   "id": "4a5886f6",
   "metadata": {
    "execution": {
     "iopub.execute_input": "2021-09-09T19:57:48.455493Z",
     "iopub.status.busy": "2021-09-09T19:57:48.455011Z",
     "iopub.status.idle": "2021-09-09T19:57:48.458096Z",
     "shell.execute_reply": "2021-09-09T19:57:48.458472Z"
    },
    "slideshow": {
     "slide_type": "slide"
    }
   },
   "outputs": [
    {
     "name": "stdout",
     "output_type": "stream",
     "text": [
      "Primer primer Dato\n"
     ]
    }
   ],
   "source": [
    "elemento = lista.primero\n",
    "print(elemento)"
   ]
  },
  {
   "cell_type": "markdown",
   "id": "3f6c37f9",
   "metadata": {},
   "source": [
    "## Recursos\n",
    "\n",
    "* [Taller de Python de Algoritmos II](https://github.com/algoritmos-rw/algo2_apuntes)\n",
    "\n",
    "* [Documentación de Python 3](https://docs.python.org/3/tutorial/)\n",
    "\n",
    "* [Apunte de Algoritmos y Programación I](https://algoritmos1rw.ddns.net/material)\n",
    "\n",
    "* [Automate the Boring Stuff with Python](http://automatetheboringstuff.com/)\n",
    "\n",
    "* [Curso Python](https://pythoncurso.github.io)\n",
    "\n",
    "* [Python Tutor](http://pythontutor.com/)\n",
    "\n",
    "* [Learn Python3 in Y minutes](https://learnxinyminutes.com/docs/python3/)\n",
    "\n",
    "* [Bibliografía de Algoritmos y Programación I](https://algoritmos1rw.ddns.net/bibliografia)"
   ]
  }
 ],
 "metadata": {
  "jupytext": {
   "encoding": "# -*- coding: utf-8 -*-",
   "formats": "ipynb,py:light"
  },
  "kernelspec": {
   "display_name": "Python 3 (venv)",
   "language": "python",
   "name": "python3"
  },
  "language_info": {
   "codemirror_mode": {
    "name": "ipython",
    "version": 3
   },
   "file_extension": ".py",
   "mimetype": "text/x-python",
   "name": "python",
   "nbconvert_exporter": "python",
   "pygments_lexer": "ipython3",
   "version": "3.7.11"
  }
 },
 "nbformat": 4,
 "nbformat_minor": 5
}
