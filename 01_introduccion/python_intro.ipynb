{
 "cells": [
  {
   "cell_type": "markdown",
   "id": "5b2067df",
   "metadata": {},
   "source": [
    "# Python"
   ]
  },
  {
   "cell_type": "markdown",
   "id": "f03417fc",
   "metadata": {
    "slideshow": {
     "slide_type": "slide"
    }
   },
   "source": [
    "## Un poco de Historia"
   ]
  },
  {
   "cell_type": "markdown",
   "id": "d1b937e2",
   "metadata": {
    "slideshow": {
     "slide_type": "subslide"
    }
   },
   "source": [
    "Python fue creado a finales de los años 80 por un programador holandés llamado **Guido van Rossum**,\n",
    "quien sigue siendo aún hoy el líder del desarrollo del lenguaje.\n",
    "\n",
    "(Edit julio 2018: [ya no más](https://www.mail-archive.com/python-committers@python.org/msg05628.html))"
   ]
  },
  {
   "cell_type": "markdown",
   "id": "3ab2ee39",
   "metadata": {
    "slideshow": {
     "slide_type": "subslide"
    }
   },
   "source": [
    "El nombre del lenguaje proviene de los humoristas británicos Monty Python.\n",
    "\n",
    ">*\"I chose Python as a working title for the project, being in a slightly irreverent mood (and a big fan of Monty Python's Flying Circus).\"*"
   ]
  },
  {
   "cell_type": "markdown",
   "id": "93c696f6",
   "metadata": {
    "slideshow": {
     "slide_type": "slide"
    }
   },
   "source": [
    "## Caracteristicas\n",
    "\n",
    "- Interpretado\n",
    "- Tipado dinamico\n",
    "- Multiparadigma\n",
    "- Alto nivel\n",
    "- Tiene un recolector de basura (no hay malloc, free, realloc, etc)"
   ]
  },
  {
   "cell_type": "markdown",
   "id": "8486c8c9",
   "metadata": {},
   "source": [
    "## ¿Cómo empezar?\n",
    "\n",
    "* Al ser un lenguaje *interpretado*, se puede ir escribiendo a medida que se ejecuta, sin necesidad de compilar de antemano! Solamente hace falta escribir `python` o `python3` en una terminal para empezar\n",
    "\n",
    "* También, permite escribir archivos y correrlos. Crear un archivo con extensión `.py` y luego correr `python miarchivo.py` en laterminal"
   ]
  },
  {
   "cell_type": "markdown",
   "id": "f9e56e5e",
   "metadata": {
    "slideshow": {
     "slide_type": "slide"
    }
   },
   "source": [
    "## El Zen de Python"
   ]
  },
  {
   "cell_type": "code",
   "execution_count": 1,
   "id": "7fbe3367",
   "metadata": {
    "execution": {
     "iopub.execute_input": "2021-09-08T22:30:12.041754Z",
     "iopub.status.busy": "2021-09-08T22:30:12.041262Z",
     "iopub.status.idle": "2021-09-08T22:30:12.063194Z",
     "shell.execute_reply": "2021-09-08T22:30:12.063662Z"
    },
    "slideshow": {
     "slide_type": "slide"
    }
   },
   "outputs": [
    {
     "name": "stdout",
     "output_type": "stream",
     "text": [
      "The Zen of Python, by Tim Peters\n",
      "\n",
      "Beautiful is better than ugly.\n",
      "Explicit is better than implicit.\n",
      "Simple is better than complex.\n",
      "Complex is better than complicated.\n",
      "Flat is better than nested.\n",
      "Sparse is better than dense.\n",
      "Readability counts.\n",
      "Special cases aren't special enough to break the rules.\n",
      "Although practicality beats purity.\n",
      "Errors should never pass silently.\n",
      "Unless explicitly silenced.\n",
      "In the face of ambiguity, refuse the temptation to guess.\n",
      "There should be one-- and preferably only one --obvious way to do it.\n",
      "Although that way may not be obvious at first unless you're Dutch.\n",
      "Now is better than never.\n",
      "Although never is often better than *right* now.\n",
      "If the implementation is hard to explain, it's a bad idea.\n",
      "If the implementation is easy to explain, it may be a good idea.\n",
      "Namespaces are one honking great idea -- let's do more of those!\n"
     ]
    }
   ],
   "source": [
    "import this"
   ]
  },
  {
   "cell_type": "markdown",
   "id": "da4c3a54",
   "metadata": {
    "slideshow": {
     "slide_type": "slide"
    }
   },
   "source": [
    "## Conocimientos Básicos de Python: Variables y Tipos"
   ]
  },
  {
   "cell_type": "code",
   "execution_count": 2,
   "id": "db69a0a8",
   "metadata": {
    "execution": {
     "iopub.execute_input": "2021-09-08T22:30:12.068924Z",
     "iopub.status.busy": "2021-09-08T22:30:12.067848Z",
     "iopub.status.idle": "2021-09-08T22:30:12.070564Z",
     "shell.execute_reply": "2021-09-08T22:30:12.070109Z"
    },
    "slideshow": {
     "slide_type": "slide"
    }
   },
   "outputs": [
    {
     "name": "stdout",
     "output_type": "stream",
     "text": [
      "Hello World!\n"
     ]
    }
   ],
   "source": [
    "# Este es un comentario\n",
    "\n",
    "print(\"Hello World!\")"
   ]
  },
  {
   "cell_type": "markdown",
   "id": "8e4d92bd",
   "metadata": {},
   "source": [
    "Los strings en python puden escribirse tanto con comillas simples (`'`) como comillas dobles (`\"`). Normalmente vemos texto entre comillas triples para escribir _docstrings_, segun la guia de estilo de Python, el PEP8."
   ]
  },
  {
   "cell_type": "code",
   "execution_count": 3,
   "id": "b900f540",
   "metadata": {
    "execution": {
     "iopub.execute_input": "2021-09-08T22:30:12.080212Z",
     "iopub.status.busy": "2021-09-08T22:30:12.077977Z",
     "iopub.status.idle": "2021-09-08T22:30:12.082129Z",
     "shell.execute_reply": "2021-09-08T22:30:12.082537Z"
    }
   },
   "outputs": [
    {
     "data": {
      "text/plain": [
       "'Esto es un docstring.\\n'"
      ]
     },
     "execution_count": 3,
     "metadata": {},
     "output_type": "execute_result"
    }
   ],
   "source": [
    "\"\"\"Esto es un docstring.\n",
    "\"\"\""
   ]
  },
  {
   "cell_type": "markdown",
   "id": "107f1e66",
   "metadata": {},
   "source": [
    "### Declaracion de variables"
   ]
  },
  {
   "cell_type": "code",
   "execution_count": 4,
   "id": "71799975",
   "metadata": {
    "execution": {
     "iopub.execute_input": "2021-09-08T22:30:12.087270Z",
     "iopub.status.busy": "2021-09-08T22:30:12.086113Z",
     "iopub.status.idle": "2021-09-08T22:30:12.088932Z",
     "shell.execute_reply": "2021-09-08T22:30:12.088517Z"
    }
   },
   "outputs": [
    {
     "name": "stdout",
     "output_type": "stream",
     "text": [
      "Hola\n"
     ]
    }
   ],
   "source": [
    "string = 'Hola'\n",
    "print(string)"
   ]
  },
  {
   "cell_type": "code",
   "execution_count": 5,
   "id": "94d6f556",
   "metadata": {
    "execution": {
     "iopub.execute_input": "2021-09-08T22:30:12.093481Z",
     "iopub.status.busy": "2021-09-08T22:30:12.092480Z",
     "iopub.status.idle": "2021-09-08T22:30:12.095138Z",
     "shell.execute_reply": "2021-09-08T22:30:12.094726Z"
    }
   },
   "outputs": [
    {
     "name": "stdout",
     "output_type": "stream",
     "text": [
      "1\n"
     ]
    }
   ],
   "source": [
    "entero = 1\n",
    "print(entero)"
   ]
  },
  {
   "cell_type": "code",
   "execution_count": 6,
   "id": "e49f6e3a",
   "metadata": {
    "execution": {
     "iopub.execute_input": "2021-09-08T22:30:12.099605Z",
     "iopub.status.busy": "2021-09-08T22:30:12.098524Z",
     "iopub.status.idle": "2021-09-08T22:30:12.101175Z",
     "shell.execute_reply": "2021-09-08T22:30:12.100759Z"
    }
   },
   "outputs": [
    {
     "name": "stdout",
     "output_type": "stream",
     "text": [
      "1.0\n"
     ]
    }
   ],
   "source": [
    "flotante = 1.0\n",
    "print(flotante)"
   ]
  },
  {
   "cell_type": "code",
   "execution_count": 7,
   "id": "f0dd18a8",
   "metadata": {
    "execution": {
     "iopub.execute_input": "2021-09-08T22:30:12.105704Z",
     "iopub.status.busy": "2021-09-08T22:30:12.104679Z",
     "iopub.status.idle": "2021-09-08T22:30:12.107287Z",
     "shell.execute_reply": "2021-09-08T22:30:12.106873Z"
    }
   },
   "outputs": [
    {
     "name": "stdout",
     "output_type": "stream",
     "text": [
      "(1, 1.0)\n"
     ]
    }
   ],
   "source": [
    "tupla = (entero, flotante)\n",
    "print(tupla)"
   ]
  },
  {
   "cell_type": "code",
   "execution_count": 8,
   "id": "11d61b4a",
   "metadata": {
    "execution": {
     "iopub.execute_input": "2021-09-08T22:30:12.111531Z",
     "iopub.status.busy": "2021-09-08T22:30:12.110840Z",
     "iopub.status.idle": "2021-09-08T22:30:12.112652Z",
     "shell.execute_reply": "2021-09-08T22:30:12.113027Z"
    }
   },
   "outputs": [
    {
     "name": "stdout",
     "output_type": "stream",
     "text": [
      "(1, 1.0, 'Hola')\n"
     ]
    }
   ],
   "source": [
    "nupla = (entero, flotante, string)\n",
    "print(nupla)"
   ]
  },
  {
   "cell_type": "code",
   "execution_count": 9,
   "id": "78e6d01c",
   "metadata": {
    "execution": {
     "iopub.execute_input": "2021-09-08T22:30:12.116696Z",
     "iopub.status.busy": "2021-09-08T22:30:12.116231Z",
     "iopub.status.idle": "2021-09-08T22:30:12.119625Z",
     "shell.execute_reply": "2021-09-08T22:30:12.119988Z"
    }
   },
   "outputs": [
    {
     "name": "stdout",
     "output_type": "stream",
     "text": [
      "[1, 1.0, 'Hola']\n"
     ]
    }
   ],
   "source": [
    "lista = [entero, flotante, string]\n",
    "print(lista)"
   ]
  },
  {
   "cell_type": "code",
   "execution_count": 10,
   "id": "ee81b7d7",
   "metadata": {
    "execution": {
     "iopub.execute_input": "2021-09-08T22:30:12.123816Z",
     "iopub.status.busy": "2021-09-08T22:30:12.123347Z",
     "iopub.status.idle": "2021-09-08T22:30:12.124860Z",
     "shell.execute_reply": "2021-09-08T22:30:12.125296Z"
    }
   },
   "outputs": [
    {
     "name": "stdout",
     "output_type": "stream",
     "text": [
      "{'1': (1, 1.0), 50: (1, 1.0, 'Hola'), '3': 1}\n"
     ]
    }
   ],
   "source": [
    "diccionario = {'1': tupla, 50: nupla, '3': entero}\n",
    "print(diccionario)"
   ]
  },
  {
   "cell_type": "code",
   "execution_count": 11,
   "id": "3dbc3901",
   "metadata": {
    "execution": {
     "iopub.execute_input": "2021-09-08T22:30:12.128785Z",
     "iopub.status.busy": "2021-09-08T22:30:12.128320Z",
     "iopub.status.idle": "2021-09-08T22:30:12.131948Z",
     "shell.execute_reply": "2021-09-08T22:30:12.131512Z"
    }
   },
   "outputs": [
    {
     "name": "stdout",
     "output_type": "stream",
     "text": [
      "{1, 2}\n"
     ]
    }
   ],
   "source": [
    "conjunto = set([1, 2])\n",
    "print(conjunto)"
   ]
  },
  {
   "cell_type": "code",
   "execution_count": 12,
   "id": "a774692d",
   "metadata": {
    "execution": {
     "iopub.execute_input": "2021-09-08T22:30:12.135343Z",
     "iopub.status.busy": "2021-09-08T22:30:12.134863Z",
     "iopub.status.idle": "2021-09-08T22:30:12.136600Z",
     "shell.execute_reply": "2021-09-08T22:30:12.136984Z"
    }
   },
   "outputs": [
    {
     "name": "stdout",
     "output_type": "stream",
     "text": [
      "True\n"
     ]
    }
   ],
   "source": [
    "booleano = True\n",
    "print(booleano)"
   ]
  },
  {
   "cell_type": "code",
   "execution_count": 13,
   "id": "eef19cd8",
   "metadata": {
    "execution": {
     "iopub.execute_input": "2021-09-08T22:30:12.140318Z",
     "iopub.status.busy": "2021-09-08T22:30:12.139851Z",
     "iopub.status.idle": "2021-09-08T22:30:12.142485Z",
     "shell.execute_reply": "2021-09-08T22:30:12.141980Z"
    }
   },
   "outputs": [
    {
     "name": "stdout",
     "output_type": "stream",
     "text": [
      "None\n"
     ]
    }
   ],
   "source": [
    "nada = None\n",
    "print(nada)"
   ]
  },
  {
   "cell_type": "markdown",
   "id": "23443314",
   "metadata": {},
   "source": [
    "Ojo que las variables pueden cambiar de tipo!"
   ]
  },
  {
   "cell_type": "code",
   "execution_count": 14,
   "id": "b3d01462",
   "metadata": {
    "execution": {
     "iopub.execute_input": "2021-09-08T22:30:12.147294Z",
     "iopub.status.busy": "2021-09-08T22:30:12.146193Z",
     "iopub.status.idle": "2021-09-08T22:30:12.148844Z",
     "shell.execute_reply": "2021-09-08T22:30:12.148430Z"
    }
   },
   "outputs": [
    {
     "name": "stdout",
     "output_type": "stream",
     "text": [
      "1\n",
      "<class 'int'>\n"
     ]
    }
   ],
   "source": [
    "elemento = 1\n",
    "print(elemento)\n",
    "print(type(elemento))"
   ]
  },
  {
   "cell_type": "code",
   "execution_count": 15,
   "id": "2c472ffd",
   "metadata": {
    "execution": {
     "iopub.execute_input": "2021-09-08T22:30:12.152771Z",
     "iopub.status.busy": "2021-09-08T22:30:12.150758Z",
     "iopub.status.idle": "2021-09-08T22:30:12.154517Z",
     "shell.execute_reply": "2021-09-08T22:30:12.154908Z"
    }
   },
   "outputs": [
    {
     "name": "stdout",
     "output_type": "stream",
     "text": [
      "1\n",
      "<class 'str'>\n"
     ]
    }
   ],
   "source": [
    "elemento = str(1)\n",
    "print(elemento)\n",
    "print(type(elemento))"
   ]
  },
  {
   "cell_type": "code",
   "execution_count": 16,
   "id": "ec408476",
   "metadata": {
    "execution": {
     "iopub.execute_input": "2021-09-08T22:30:12.158256Z",
     "iopub.status.busy": "2021-09-08T22:30:12.157778Z",
     "iopub.status.idle": "2021-09-08T22:30:12.159597Z",
     "shell.execute_reply": "2021-09-08T22:30:12.159986Z"
    }
   },
   "outputs": [
    {
     "name": "stdout",
     "output_type": "stream",
     "text": [
      "[2]\n",
      "<class 'list'>\n"
     ]
    }
   ],
   "source": [
    "elemento = [2]\n",
    "\n",
    "print(elemento)\n",
    "print(type(elemento))"
   ]
  },
  {
   "cell_type": "markdown",
   "id": "3cc833b7",
   "metadata": {},
   "source": [
    "### Tipos basicos"
   ]
  },
  {
   "cell_type": "markdown",
   "id": "beca3fab",
   "metadata": {
    "slideshow": {
     "slide_type": "slide"
    }
   },
   "source": [
    "#### Listas de Python"
   ]
  },
  {
   "cell_type": "code",
   "execution_count": 17,
   "id": "56fddb9b",
   "metadata": {
    "execution": {
     "iopub.execute_input": "2021-09-08T22:30:12.162484Z",
     "iopub.status.busy": "2021-09-08T22:30:12.161994Z",
     "iopub.status.idle": "2021-09-08T22:30:12.166176Z",
     "shell.execute_reply": "2021-09-08T22:30:12.165686Z"
    }
   },
   "outputs": [
    {
     "data": {
      "text/plain": [
       "[]"
      ]
     },
     "execution_count": 17,
     "metadata": {},
     "output_type": "execute_result"
    }
   ],
   "source": [
    "lista = list()\n",
    "lista"
   ]
  },
  {
   "cell_type": "code",
   "execution_count": 18,
   "id": "54295252",
   "metadata": {
    "execution": {
     "iopub.execute_input": "2021-09-08T22:30:12.169603Z",
     "iopub.status.busy": "2021-09-08T22:30:12.169133Z",
     "iopub.status.idle": "2021-09-08T22:30:12.171945Z",
     "shell.execute_reply": "2021-09-08T22:30:12.171525Z"
    },
    "slideshow": {
     "slide_type": "slide"
    }
   },
   "outputs": [
    {
     "data": {
      "text/plain": [
       "[]"
      ]
     },
     "execution_count": 18,
     "metadata": {},
     "output_type": "execute_result"
    }
   ],
   "source": [
    "lista = []\n",
    "lista"
   ]
  },
  {
   "cell_type": "code",
   "execution_count": 19,
   "id": "4af98e95",
   "metadata": {
    "execution": {
     "iopub.execute_input": "2021-09-08T22:30:12.175855Z",
     "iopub.status.busy": "2021-09-08T22:30:12.175376Z",
     "iopub.status.idle": "2021-09-08T22:30:12.177264Z",
     "shell.execute_reply": "2021-09-08T22:30:12.177623Z"
    },
    "slideshow": {
     "slide_type": "slide"
    }
   },
   "outputs": [
    {
     "data": {
      "text/plain": [
       "[1, 2, 3, 4]"
      ]
     },
     "execution_count": 19,
     "metadata": {},
     "output_type": "execute_result"
    }
   ],
   "source": [
    "lista = [1, 2, 3, 4]\n",
    "lista"
   ]
  },
  {
   "cell_type": "code",
   "execution_count": 20,
   "id": "66a2a19f",
   "metadata": {
    "execution": {
     "iopub.execute_input": "2021-09-08T22:30:12.181622Z",
     "iopub.status.busy": "2021-09-08T22:30:12.181151Z",
     "iopub.status.idle": "2021-09-08T22:30:12.183607Z",
     "shell.execute_reply": "2021-09-08T22:30:12.183992Z"
    },
    "slideshow": {
     "slide_type": "slide"
    }
   },
   "outputs": [
    {
     "data": {
      "text/plain": [
       "[1, 2, 3, 4, 1, 'dos', 3.0]"
      ]
     },
     "execution_count": 20,
     "metadata": {},
     "output_type": "execute_result"
    }
   ],
   "source": [
    "lista.append(1)  # Inserto un 1 al final\n",
    "lista.append(\"dos\")  # Inserto un \"dos\" al final\n",
    "lista.append(3.0)  # Inserto un 3.0 al final\n",
    "lista"
   ]
  },
  {
   "cell_type": "code",
   "execution_count": 21,
   "id": "964639fd",
   "metadata": {
    "execution": {
     "iopub.execute_input": "2021-09-08T22:30:12.187395Z",
     "iopub.status.busy": "2021-09-08T22:30:12.186926Z",
     "iopub.status.idle": "2021-09-08T22:30:12.188652Z",
     "shell.execute_reply": "2021-09-08T22:30:12.189032Z"
    }
   },
   "outputs": [
    {
     "name": "stdout",
     "output_type": "stream",
     "text": [
      "[1, 2, 10, 3, 4, 1, 'dos', 3.0]\n"
     ]
    }
   ],
   "source": [
    "lista.insert(2, 10)  # Inserto en posicion 2 un 10\n",
    "print(lista)"
   ]
  },
  {
   "cell_type": "code",
   "execution_count": 22,
   "id": "165dfd6a",
   "metadata": {
    "execution": {
     "iopub.execute_input": "2021-09-08T22:30:12.192814Z",
     "iopub.status.busy": "2021-09-08T22:30:12.190922Z",
     "iopub.status.idle": "2021-09-08T22:30:12.194936Z",
     "shell.execute_reply": "2021-09-08T22:30:12.194513Z"
    }
   },
   "outputs": [
    {
     "data": {
      "text/plain": [
       "8"
      ]
     },
     "execution_count": 22,
     "metadata": {},
     "output_type": "execute_result"
    }
   ],
   "source": [
    "len(lista)"
   ]
  },
  {
   "cell_type": "code",
   "execution_count": 23,
   "id": "0ca8b6f4",
   "metadata": {
    "execution": {
     "iopub.execute_input": "2021-09-08T22:30:12.198702Z",
     "iopub.status.busy": "2021-09-08T22:30:12.198204Z",
     "iopub.status.idle": "2021-09-08T22:30:12.200126Z",
     "shell.execute_reply": "2021-09-08T22:30:12.200506Z"
    }
   },
   "outputs": [
    {
     "data": {
      "text/plain": [
       "3.0"
      ]
     },
     "execution_count": 23,
     "metadata": {},
     "output_type": "execute_result"
    }
   ],
   "source": [
    "lista.pop()"
   ]
  },
  {
   "cell_type": "code",
   "execution_count": 24,
   "id": "18b20996",
   "metadata": {
    "execution": {
     "iopub.execute_input": "2021-09-08T22:30:12.204296Z",
     "iopub.status.busy": "2021-09-08T22:30:12.203821Z",
     "iopub.status.idle": "2021-09-08T22:30:12.207108Z",
     "shell.execute_reply": "2021-09-08T22:30:12.207489Z"
    }
   },
   "outputs": [
    {
     "data": {
      "text/plain": [
       "[1, 2, 10, 3, 4, 1, 'dos']"
      ]
     },
     "execution_count": 24,
     "metadata": {},
     "output_type": "execute_result"
    }
   ],
   "source": [
    "lista"
   ]
  },
  {
   "cell_type": "code",
   "execution_count": 25,
   "id": "210922d1",
   "metadata": {
    "execution": {
     "iopub.execute_input": "2021-09-08T22:30:12.210965Z",
     "iopub.status.busy": "2021-09-08T22:30:12.210495Z",
     "iopub.status.idle": "2021-09-08T22:30:12.213298Z",
     "shell.execute_reply": "2021-09-08T22:30:12.212890Z"
    }
   },
   "outputs": [
    {
     "data": {
      "text/plain": [
       "2"
      ]
     },
     "execution_count": 25,
     "metadata": {},
     "output_type": "execute_result"
    }
   ],
   "source": [
    "lista.index(10)"
   ]
  },
  {
   "cell_type": "code",
   "execution_count": 26,
   "id": "ab314ef8",
   "metadata": {
    "execution": {
     "iopub.execute_input": "2021-09-08T22:30:12.216835Z",
     "iopub.status.busy": "2021-09-08T22:30:12.216366Z",
     "iopub.status.idle": "2021-09-08T22:30:12.218809Z",
     "shell.execute_reply": "2021-09-08T22:30:12.219197Z"
    }
   },
   "outputs": [
    {
     "data": {
      "text/plain": [
       "[1, 2, 3, 4, 1, 'dos']"
      ]
     },
     "execution_count": 26,
     "metadata": {},
     "output_type": "execute_result"
    }
   ],
   "source": [
    "lista.remove(10)\n",
    "lista"
   ]
  },
  {
   "cell_type": "code",
   "execution_count": 27,
   "id": "4fdb4060",
   "metadata": {
    "execution": {
     "iopub.execute_input": "2021-09-08T22:30:12.222763Z",
     "iopub.status.busy": "2021-09-08T22:30:12.222004Z",
     "iopub.status.idle": "2021-09-08T22:30:12.285967Z",
     "shell.execute_reply": "2021-09-08T22:30:12.286436Z"
    },
    "tags": [
     "raises-exception"
    ]
   },
   "outputs": [
    {
     "name": "stdout",
     "output_type": "stream",
     "text": [
      "1\n",
      "2\n",
      "2\n",
      "3\n",
      "3\n",
      "4\n",
      "4\n",
      "5\n",
      "1\n",
      "2\n",
      "dos\n"
     ]
    },
    {
     "ename": "TypeError",
     "evalue": "can only concatenate str (not \"int\") to str",
     "output_type": "error",
     "traceback": [
      "\u001b[0;31m---------------------------------------------------------------------------\u001b[0m",
      "\u001b[0;31mTypeError\u001b[0m                                 Traceback (most recent call last)",
      "\u001b[0;32m/tmp/ipykernel_1998/1783555086.py\u001b[0m in \u001b[0;36m<module>\u001b[0;34m\u001b[0m\n\u001b[1;32m      1\u001b[0m \u001b[0;32mfor\u001b[0m \u001b[0melemento\u001b[0m \u001b[0;32min\u001b[0m \u001b[0mlista\u001b[0m\u001b[0;34m:\u001b[0m\u001b[0;34m\u001b[0m\u001b[0;34m\u001b[0m\u001b[0m\n\u001b[1;32m      2\u001b[0m     \u001b[0mprint\u001b[0m\u001b[0;34m(\u001b[0m\u001b[0melemento\u001b[0m\u001b[0;34m)\u001b[0m\u001b[0;34m\u001b[0m\u001b[0;34m\u001b[0m\u001b[0m\n\u001b[0;32m----> 3\u001b[0;31m     \u001b[0mprint\u001b[0m\u001b[0;34m(\u001b[0m\u001b[0melemento\u001b[0m \u001b[0;34m+\u001b[0m \u001b[0;36m1\u001b[0m\u001b[0;34m)\u001b[0m\u001b[0;34m\u001b[0m\u001b[0;34m\u001b[0m\u001b[0m\n\u001b[0m",
      "\u001b[0;31mTypeError\u001b[0m: can only concatenate str (not \"int\") to str"
     ]
    }
   ],
   "source": [
    "for elemento in lista:\n",
    "    print(elemento)\n",
    "    print(elemento + 1)"
   ]
  },
  {
   "cell_type": "code",
   "execution_count": 28,
   "id": "97e5ff12",
   "metadata": {
    "execution": {
     "iopub.execute_input": "2021-09-08T22:30:12.291859Z",
     "iopub.status.busy": "2021-09-08T22:30:12.291014Z",
     "iopub.status.idle": "2021-09-08T22:30:12.293334Z",
     "shell.execute_reply": "2021-09-08T22:30:12.293715Z"
    }
   },
   "outputs": [
    {
     "data": {
      "text/plain": [
       "[1, 2, 3, 4, 1, 'dos']"
      ]
     },
     "execution_count": 28,
     "metadata": {},
     "output_type": "execute_result"
    }
   ],
   "source": [
    "lista"
   ]
  },
  {
   "cell_type": "code",
   "execution_count": 29,
   "id": "cfee4feb",
   "metadata": {
    "execution": {
     "iopub.execute_input": "2021-09-08T22:30:12.299067Z",
     "iopub.status.busy": "2021-09-08T22:30:12.297951Z",
     "iopub.status.idle": "2021-09-08T22:30:12.300672Z",
     "shell.execute_reply": "2021-09-08T22:30:12.300260Z"
    }
   },
   "outputs": [
    {
     "name": "stdout",
     "output_type": "stream",
     "text": [
      "0-ésimo elemento: 1\n",
      "1-ésimo elemento: 2\n",
      "2-ésimo elemento: 3\n",
      "3-ésimo elemento: 4\n",
      "4-ésimo elemento: 1\n",
      "5-ésimo elemento: dos\n"
     ]
    }
   ],
   "source": [
    "for i, elemento in enumerate(lista):\n",
    "    print(f\"{i}-ésimo elemento: {elemento}\")"
   ]
  },
  {
   "cell_type": "code",
   "execution_count": 30,
   "id": "ca28b27b",
   "metadata": {
    "execution": {
     "iopub.execute_input": "2021-09-08T22:30:12.306221Z",
     "iopub.status.busy": "2021-09-08T22:30:12.305755Z",
     "iopub.status.idle": "2021-09-08T22:30:12.308854Z",
     "shell.execute_reply": "2021-09-08T22:30:12.308363Z"
    },
    "tags": [
     "raises-exception"
    ]
   },
   "outputs": [
    {
     "ename": "TypeError",
     "evalue": "'<' not supported between instances of 'str' and 'int'",
     "output_type": "error",
     "traceback": [
      "\u001b[0;31m---------------------------------------------------------------------------\u001b[0m",
      "\u001b[0;31mTypeError\u001b[0m                                 Traceback (most recent call last)",
      "\u001b[0;32m/tmp/ipykernel_1998/2266425520.py\u001b[0m in \u001b[0;36m<module>\u001b[0;34m\u001b[0m\n\u001b[0;32m----> 1\u001b[0;31m \u001b[0msorted\u001b[0m\u001b[0;34m(\u001b[0m\u001b[0mlista\u001b[0m\u001b[0;34m)\u001b[0m\u001b[0;34m\u001b[0m\u001b[0;34m\u001b[0m\u001b[0m\n\u001b[0m",
      "\u001b[0;31mTypeError\u001b[0m: '<' not supported between instances of 'str' and 'int'"
     ]
    }
   ],
   "source": [
    "sorted(lista)"
   ]
  },
  {
   "cell_type": "code",
   "execution_count": 31,
   "id": "3f5ef9b6",
   "metadata": {
    "execution": {
     "iopub.execute_input": "2021-09-08T22:30:12.312815Z",
     "iopub.status.busy": "2021-09-08T22:30:12.311801Z",
     "iopub.status.idle": "2021-09-08T22:30:12.313417Z",
     "shell.execute_reply": "2021-09-08T22:30:12.313800Z"
    }
   },
   "outputs": [],
   "source": [
    "lista.remove(\"dos\")"
   ]
  },
  {
   "cell_type": "code",
   "execution_count": 32,
   "id": "b2cf84ab",
   "metadata": {
    "execution": {
     "iopub.execute_input": "2021-09-08T22:30:12.318304Z",
     "iopub.status.busy": "2021-09-08T22:30:12.317809Z",
     "iopub.status.idle": "2021-09-08T22:30:12.320182Z",
     "shell.execute_reply": "2021-09-08T22:30:12.320566Z"
    }
   },
   "outputs": [
    {
     "data": {
      "text/plain": [
       "[1, 1, 2, 3, 4]"
      ]
     },
     "execution_count": 32,
     "metadata": {},
     "output_type": "execute_result"
    }
   ],
   "source": [
    "sorted(lista)"
   ]
  },
  {
   "cell_type": "code",
   "execution_count": 33,
   "id": "93b9ba4f",
   "metadata": {
    "execution": {
     "iopub.execute_input": "2021-09-08T22:30:12.325040Z",
     "iopub.status.busy": "2021-09-08T22:30:12.324554Z",
     "iopub.status.idle": "2021-09-08T22:30:12.326883Z",
     "shell.execute_reply": "2021-09-08T22:30:12.327261Z"
    }
   },
   "outputs": [
    {
     "data": {
      "text/plain": [
       "[1, 1, 2, 3, 4]"
      ]
     },
     "execution_count": 33,
     "metadata": {},
     "output_type": "execute_result"
    }
   ],
   "source": [
    "lista.sort()\n",
    "lista"
   ]
  },
  {
   "cell_type": "markdown",
   "id": "32c850a8",
   "metadata": {
    "slideshow": {
     "slide_type": "slide"
    }
   },
   "source": [
    "#### Tuplas de Python\n",
    "\n",
    "Las tuplas son inmutables. No se pueden agregar elementos luego de creadas."
   ]
  },
  {
   "cell_type": "code",
   "execution_count": 34,
   "id": "069ab55e",
   "metadata": {
    "execution": {
     "iopub.execute_input": "2021-09-08T22:30:12.331233Z",
     "iopub.status.busy": "2021-09-08T22:30:12.330761Z",
     "iopub.status.idle": "2021-09-08T22:30:12.337433Z",
     "shell.execute_reply": "2021-09-08T22:30:12.337021Z"
    },
    "slideshow": {
     "slide_type": "slide"
    },
    "tags": [
     "raises-exception"
    ]
   },
   "outputs": [
    {
     "name": "stdout",
     "output_type": "stream",
     "text": [
      "(1, 2)\n",
      "1\n",
      "2\n"
     ]
    },
    {
     "ename": "TypeError",
     "evalue": "'tuple' object does not support item assignment",
     "output_type": "error",
     "traceback": [
      "\u001b[0;31m---------------------------------------------------------------------------\u001b[0m",
      "\u001b[0;31mTypeError\u001b[0m                                 Traceback (most recent call last)",
      "\u001b[0;32m/tmp/ipykernel_1998/3644040918.py\u001b[0m in \u001b[0;36m<module>\u001b[0;34m\u001b[0m\n\u001b[1;32m      5\u001b[0m \u001b[0mprint\u001b[0m\u001b[0;34m(\u001b[0m\u001b[0mtupla\u001b[0m\u001b[0;34m[\u001b[0m\u001b[0;36m1\u001b[0m\u001b[0;34m]\u001b[0m\u001b[0;34m)\u001b[0m\u001b[0;34m\u001b[0m\u001b[0;34m\u001b[0m\u001b[0m\n\u001b[1;32m      6\u001b[0m \u001b[0;34m\u001b[0m\u001b[0m\n\u001b[0;32m----> 7\u001b[0;31m \u001b[0mtupla\u001b[0m\u001b[0;34m[\u001b[0m\u001b[0;36m1\u001b[0m\u001b[0;34m]\u001b[0m \u001b[0;34m=\u001b[0m \u001b[0;36m3\u001b[0m  \u001b[0;31m# Falla. No se puede mutar\u001b[0m\u001b[0;34m\u001b[0m\u001b[0;34m\u001b[0m\u001b[0m\n\u001b[0m",
      "\u001b[0;31mTypeError\u001b[0m: 'tuple' object does not support item assignment"
     ]
    }
   ],
   "source": [
    "tupla = (1, 2)\n",
    "\n",
    "print(tupla)\n",
    "print(tupla[0])\n",
    "print(tupla[1])\n",
    "\n",
    "tupla[1] = 3  # Falla. No se puede mutar"
   ]
  },
  {
   "cell_type": "code",
   "execution_count": 35,
   "id": "b1253535",
   "metadata": {
    "execution": {
     "iopub.execute_input": "2021-09-08T22:30:12.341741Z",
     "iopub.status.busy": "2021-09-08T22:30:12.341255Z",
     "iopub.status.idle": "2021-09-08T22:30:12.343555Z",
     "shell.execute_reply": "2021-09-08T22:30:12.343935Z"
    }
   },
   "outputs": [
    {
     "data": {
      "text/plain": [
       "[1, 2]"
      ]
     },
     "execution_count": 35,
     "metadata": {},
     "output_type": "execute_result"
    }
   ],
   "source": [
    "l = [1, 2]\n",
    "l"
   ]
  },
  {
   "cell_type": "code",
   "execution_count": 36,
   "id": "1eacad3f",
   "metadata": {
    "execution": {
     "iopub.execute_input": "2021-09-08T22:30:12.347334Z",
     "iopub.status.busy": "2021-09-08T22:30:12.346869Z",
     "iopub.status.idle": "2021-09-08T22:30:12.351470Z",
     "shell.execute_reply": "2021-09-08T22:30:12.351054Z"
    }
   },
   "outputs": [
    {
     "data": {
      "text/plain": [
       "[1, 3]"
      ]
     },
     "execution_count": 36,
     "metadata": {},
     "output_type": "execute_result"
    }
   ],
   "source": [
    "l[1] = 3\n",
    "l"
   ]
  },
  {
   "cell_type": "markdown",
   "id": "2ef27e92",
   "metadata": {
    "slideshow": {
     "slide_type": "slide"
    }
   },
   "source": [
    "#### Diferencia entre lista y tupla\n",
    "Las listas se caracterizan por ser mutables, es decir, se puede cambiar su contenido en tiempo de ejecución, mientras que las tuplas son inmutables ya que no es posible modificar el contenido una vez creada."
   ]
  },
  {
   "cell_type": "markdown",
   "id": "16977a5d",
   "metadata": {},
   "source": [
    "#### Slices\n",
    "\n",
    "**Valen para listas, tuplas o strings (_segmentos_)**"
   ]
  },
  {
   "cell_type": "code",
   "execution_count": 37,
   "id": "cd0554aa",
   "metadata": {
    "execution": {
     "iopub.execute_input": "2021-09-08T22:30:12.355231Z",
     "iopub.status.busy": "2021-09-08T22:30:12.354758Z",
     "iopub.status.idle": "2021-09-08T22:30:12.356840Z",
     "shell.execute_reply": "2021-09-08T22:30:12.356455Z"
    }
   },
   "outputs": [],
   "source": [
    "numeros = [0, 1, 2, 3, 4, 5, 6, 7, 8, 9, 10]"
   ]
  },
  {
   "cell_type": "code",
   "execution_count": 38,
   "id": "338416cd",
   "metadata": {
    "execution": {
     "iopub.execute_input": "2021-09-08T22:30:12.360084Z",
     "iopub.status.busy": "2021-09-08T22:30:12.359606Z",
     "iopub.status.idle": "2021-09-08T22:30:12.361386Z",
     "shell.execute_reply": "2021-09-08T22:30:12.361770Z"
    }
   },
   "outputs": [
    {
     "name": "stdout",
     "output_type": "stream",
     "text": [
      "[0, 1, 2, 3, 4, 5, 6, 7, 8, 9, 10]\n"
     ]
    }
   ],
   "source": [
    "print(numeros)"
   ]
  },
  {
   "cell_type": "code",
   "execution_count": 39,
   "id": "1e3064d4",
   "metadata": {
    "execution": {
     "iopub.execute_input": "2021-09-08T22:30:12.365490Z",
     "iopub.status.busy": "2021-09-08T22:30:12.365009Z",
     "iopub.status.idle": "2021-09-08T22:30:12.366758Z",
     "shell.execute_reply": "2021-09-08T22:30:12.367141Z"
    }
   },
   "outputs": [
    {
     "name": "stdout",
     "output_type": "stream",
     "text": [
      "2\n"
     ]
    }
   ],
   "source": [
    "print(numeros[2])  # Imprimo elemento en la posición 2"
   ]
  },
  {
   "cell_type": "code",
   "execution_count": 40,
   "id": "5d8ade2a",
   "metadata": {
    "execution": {
     "iopub.execute_input": "2021-09-08T22:30:12.371331Z",
     "iopub.status.busy": "2021-09-08T22:30:12.370845Z",
     "iopub.status.idle": "2021-09-08T22:30:12.373108Z",
     "shell.execute_reply": "2021-09-08T22:30:12.373488Z"
    }
   },
   "outputs": [
    {
     "data": {
      "text/plain": [
       "10"
      ]
     },
     "execution_count": 40,
     "metadata": {},
     "output_type": "execute_result"
    }
   ],
   "source": [
    "numeros[len(numeros) - 1]"
   ]
  },
  {
   "cell_type": "code",
   "execution_count": 41,
   "id": "c531550c",
   "metadata": {
    "execution": {
     "iopub.execute_input": "2021-09-08T22:30:12.378216Z",
     "iopub.status.busy": "2021-09-08T22:30:12.377113Z",
     "iopub.status.idle": "2021-09-08T22:30:12.379786Z",
     "shell.execute_reply": "2021-09-08T22:30:12.379378Z"
    },
    "lines_to_next_cell": 2
   },
   "outputs": [
    {
     "name": "stdout",
     "output_type": "stream",
     "text": [
      "10\n"
     ]
    }
   ],
   "source": [
    "print(numeros[-1])  # # Imprimo elemento en la última posición"
   ]
  },
  {
   "cell_type": "code",
   "execution_count": 42,
   "id": "07d630cd",
   "metadata": {
    "execution": {
     "iopub.execute_input": "2021-09-08T22:30:12.383960Z",
     "iopub.status.busy": "2021-09-08T22:30:12.383473Z",
     "iopub.status.idle": "2021-09-08T22:30:12.385766Z",
     "shell.execute_reply": "2021-09-08T22:30:12.386144Z"
    },
    "lines_to_next_cell": 2
   },
   "outputs": [
    {
     "data": {
      "text/plain": [
       "9"
      ]
     },
     "execution_count": 42,
     "metadata": {},
     "output_type": "execute_result"
    }
   ],
   "source": [
    "numeros[-2]"
   ]
  },
  {
   "cell_type": "code",
   "execution_count": 43,
   "id": "63b6a3b2",
   "metadata": {
    "execution": {
     "iopub.execute_input": "2021-09-08T22:30:12.389731Z",
     "iopub.status.busy": "2021-09-08T22:30:12.389259Z",
     "iopub.status.idle": "2021-09-08T22:30:12.391001Z",
     "shell.execute_reply": "2021-09-08T22:30:12.391382Z"
    }
   },
   "outputs": [
    {
     "name": "stdout",
     "output_type": "stream",
     "text": [
      "[0, 1, 2]\n"
     ]
    }
   ],
   "source": [
    "print(numeros[0:3])  # Imprimo de la pos 0 a la pos 2"
   ]
  },
  {
   "cell_type": "code",
   "execution_count": 44,
   "id": "093fdfe8",
   "metadata": {
    "execution": {
     "iopub.execute_input": "2021-09-08T22:30:12.394706Z",
     "iopub.status.busy": "2021-09-08T22:30:12.394207Z",
     "iopub.status.idle": "2021-09-08T22:30:12.396043Z",
     "shell.execute_reply": "2021-09-08T22:30:12.396404Z"
    }
   },
   "outputs": [
    {
     "name": "stdout",
     "output_type": "stream",
     "text": [
      "[7, 8]\n"
     ]
    }
   ],
   "source": [
    "print(numeros[-4:-2])"
   ]
  },
  {
   "cell_type": "code",
   "execution_count": 45,
   "id": "1d5e3ee7",
   "metadata": {
    "execution": {
     "iopub.execute_input": "2021-09-08T22:30:12.399968Z",
     "iopub.status.busy": "2021-09-08T22:30:12.399494Z",
     "iopub.status.idle": "2021-09-08T22:30:12.401221Z",
     "shell.execute_reply": "2021-09-08T22:30:12.401606Z"
    }
   },
   "outputs": [
    {
     "name": "stdout",
     "output_type": "stream",
     "text": [
      "[0, 1, 2, 3, 4, 5, 6, 7, 8, 9, 10]\n"
     ]
    }
   ],
   "source": [
    "print(numeros[0:80])"
   ]
  },
  {
   "cell_type": "code",
   "execution_count": 46,
   "id": "604bba90",
   "metadata": {
    "execution": {
     "iopub.execute_input": "2021-09-08T22:30:12.405164Z",
     "iopub.status.busy": "2021-09-08T22:30:12.404695Z",
     "iopub.status.idle": "2021-09-08T22:30:12.406432Z",
     "shell.execute_reply": "2021-09-08T22:30:12.406822Z"
    }
   },
   "outputs": [
    {
     "name": "stdout",
     "output_type": "stream",
     "text": [
      "[0, 1, 2]\n"
     ]
    }
   ],
   "source": [
    "print(numeros[:3])"
   ]
  },
  {
   "cell_type": "code",
   "execution_count": 47,
   "id": "c0ad252b",
   "metadata": {
    "execution": {
     "iopub.execute_input": "2021-09-08T22:30:12.410050Z",
     "iopub.status.busy": "2021-09-08T22:30:12.409582Z",
     "iopub.status.idle": "2021-09-08T22:30:12.411336Z",
     "shell.execute_reply": "2021-09-08T22:30:12.411719Z"
    }
   },
   "outputs": [
    {
     "name": "stdout",
     "output_type": "stream",
     "text": [
      "[3, 4, 5, 6, 7, 8, 9, 10]\n"
     ]
    }
   ],
   "source": [
    "print(numeros[3:])"
   ]
  },
  {
   "cell_type": "code",
   "execution_count": 48,
   "id": "88e448a8",
   "metadata": {
    "execution": {
     "iopub.execute_input": "2021-09-08T22:30:12.415301Z",
     "iopub.status.busy": "2021-09-08T22:30:12.414834Z",
     "iopub.status.idle": "2021-09-08T22:30:12.416552Z",
     "shell.execute_reply": "2021-09-08T22:30:12.416934Z"
    }
   },
   "outputs": [
    {
     "name": "stdout",
     "output_type": "stream",
     "text": [
      "[0, 2, 4, 6, 8]\n"
     ]
    }
   ],
   "source": [
    "print(numeros[0:10:2])"
   ]
  },
  {
   "cell_type": "markdown",
   "id": "eb5cea25",
   "metadata": {},
   "source": [
    "```python\n",
    "lista[<inicio>:<final>:<step>]\n",
    "```"
   ]
  },
  {
   "cell_type": "code",
   "execution_count": 49,
   "id": "fbb3e2c6",
   "metadata": {
    "execution": {
     "iopub.execute_input": "2021-09-08T22:30:12.421427Z",
     "iopub.status.busy": "2021-09-08T22:30:12.420939Z",
     "iopub.status.idle": "2021-09-08T22:30:12.423267Z",
     "shell.execute_reply": "2021-09-08T22:30:12.423647Z"
    },
    "lines_to_next_cell": 2
   },
   "outputs": [
    {
     "data": {
      "text/plain": [
       "[1, 2, 3, 4]"
      ]
     },
     "execution_count": 49,
     "metadata": {},
     "output_type": "execute_result"
    }
   ],
   "source": [
    "l1 = [1, 2]\n",
    "l2 = [3, 4]\n",
    "l1 + l2"
   ]
  },
  {
   "cell_type": "code",
   "execution_count": 50,
   "id": "ddd352e6",
   "metadata": {
    "execution": {
     "iopub.execute_input": "2021-09-08T22:30:12.425839Z",
     "iopub.status.busy": "2021-09-08T22:30:12.425377Z",
     "iopub.status.idle": "2021-09-08T22:30:12.429120Z",
     "shell.execute_reply": "2021-09-08T22:30:12.428709Z"
    }
   },
   "outputs": [
    {
     "name": "stdout",
     "output_type": "stream",
     "text": [
      "[0, 1, 2, 3, 4, 5, 6, 'siete', 8, 9, 10]\n"
     ]
    }
   ],
   "source": [
    "numeros[7] = 'siete'  # Las listas se pueden mutar\n",
    "print(numeros)"
   ]
  },
  {
   "cell_type": "code",
   "execution_count": 51,
   "id": "8492dbde",
   "metadata": {
    "execution": {
     "iopub.execute_input": "2021-09-08T22:30:12.432665Z",
     "iopub.status.busy": "2021-09-08T22:30:12.432195Z",
     "iopub.status.idle": "2021-09-08T22:30:12.433910Z",
     "shell.execute_reply": "2021-09-08T22:30:12.434292Z"
    }
   },
   "outputs": [
    {
     "name": "stdout",
     "output_type": "stream",
     "text": [
      "[10, 9, 8, 'siete', 6, 5, 4, 3, 2, 1, 0]\n"
     ]
    }
   ],
   "source": [
    "numeros = numeros[::-1]\n",
    "print(numeros)"
   ]
  },
  {
   "cell_type": "code",
   "execution_count": 52,
   "id": "9b881267",
   "metadata": {
    "execution": {
     "iopub.execute_input": "2021-09-08T22:30:12.440467Z",
     "iopub.status.busy": "2021-09-08T22:30:12.438905Z",
     "iopub.status.idle": "2021-09-08T22:30:12.442776Z",
     "shell.execute_reply": "2021-09-08T22:30:12.442340Z"
    },
    "tags": [
     "raises-exception"
    ]
   },
   "outputs": [
    {
     "ename": "IndexError",
     "evalue": "list index out of range",
     "output_type": "error",
     "traceback": [
      "\u001b[0;31m---------------------------------------------------------------------------\u001b[0m",
      "\u001b[0;31mIndexError\u001b[0m                                Traceback (most recent call last)",
      "\u001b[0;32m/tmp/ipykernel_1998/1255736182.py\u001b[0m in \u001b[0;36m<module>\u001b[0;34m\u001b[0m\n\u001b[0;32m----> 1\u001b[0;31m \u001b[0mprint\u001b[0m\u001b[0;34m(\u001b[0m\u001b[0mnumeros\u001b[0m\u001b[0;34m[\u001b[0m\u001b[0;36m15\u001b[0m\u001b[0;34m]\u001b[0m\u001b[0;34m)\u001b[0m  \u001b[0;31m# Falla. No se puede acceder a una posición inexistente\u001b[0m\u001b[0;34m\u001b[0m\u001b[0;34m\u001b[0m\u001b[0m\n\u001b[0m",
      "\u001b[0;31mIndexError\u001b[0m: list index out of range"
     ]
    }
   ],
   "source": [
    "print(numeros[15])  # Falla. No se puede acceder a una posición inexistente"
   ]
  },
  {
   "cell_type": "code",
   "execution_count": 53,
   "id": "5bf39dd0",
   "metadata": {
    "execution": {
     "iopub.execute_input": "2021-09-08T22:30:12.446669Z",
     "iopub.status.busy": "2021-09-08T22:30:12.446177Z",
     "iopub.status.idle": "2021-09-08T22:30:12.448552Z",
     "shell.execute_reply": "2021-09-08T22:30:12.448142Z"
    }
   },
   "outputs": [
    {
     "name": "stdout",
     "output_type": "stream",
     "text": [
      "palabra\n",
      "a\n",
      "pal\n",
      "abra\n"
     ]
    }
   ],
   "source": [
    "palabra = 'palabra'\n",
    "print(palabra)\n",
    "print(palabra[3])\n",
    "print(palabra[:3])\n",
    "print(palabra[3:])"
   ]
  },
  {
   "cell_type": "code",
   "execution_count": 54,
   "id": "6449d790",
   "metadata": {
    "execution": {
     "iopub.execute_input": "2021-09-08T22:30:12.452527Z",
     "iopub.status.busy": "2021-09-08T22:30:12.452061Z",
     "iopub.status.idle": "2021-09-08T22:30:12.453762Z",
     "shell.execute_reply": "2021-09-08T22:30:12.454143Z"
    }
   },
   "outputs": [
    {
     "name": "stdout",
     "output_type": "stream",
     "text": [
      "(0, 1, 2, 3, 4)\n",
      "(0, 1)\n",
      "(2, 3, 4)\n"
     ]
    }
   ],
   "source": [
    "tupla = (0, 1, 2, 3, 4)\n",
    "\n",
    "print(tupla)\n",
    "print(tupla[:2])\n",
    "print(tupla[2:])"
   ]
  },
  {
   "cell_type": "markdown",
   "id": "17760c98",
   "metadata": {
    "slideshow": {
     "slide_type": "slide"
    }
   },
   "source": [
    "#### Diccionarios de Python\n",
    "\n",
    "Son como hashmaps, las claves deben ser inmutables para que no pierda sentido el diccionario. Si se pudieran modificar, se podrían cambiar las claves y generaría conflictos.\n",
    "\n",
    "Tipos mutables:\n",
    "- Listas\n",
    "- Diccionarios\n",
    "- Sets\n",
    "\n",
    "Tipos inmutables:\n",
    "- Int\n",
    "- Float\n",
    "- String\n",
    "- Tuplas\n"
   ]
  },
  {
   "cell_type": "code",
   "execution_count": 55,
   "id": "2a7275dc",
   "metadata": {
    "execution": {
     "iopub.execute_input": "2021-09-08T22:30:12.457800Z",
     "iopub.status.busy": "2021-09-08T22:30:12.457320Z",
     "iopub.status.idle": "2021-09-08T22:30:12.459908Z",
     "shell.execute_reply": "2021-09-08T22:30:12.459521Z"
    },
    "slideshow": {
     "slide_type": "slide"
    }
   },
   "outputs": [
    {
     "data": {
      "text/plain": [
       "{}"
      ]
     },
     "execution_count": 55,
     "metadata": {},
     "output_type": "execute_result"
    }
   ],
   "source": [
    "diccionario = {}\n",
    "diccionario"
   ]
  },
  {
   "cell_type": "code",
   "execution_count": 56,
   "id": "53f89499",
   "metadata": {
    "execution": {
     "iopub.execute_input": "2021-09-08T22:30:12.463499Z",
     "iopub.status.busy": "2021-09-08T22:30:12.463022Z",
     "iopub.status.idle": "2021-09-08T22:30:12.465494Z",
     "shell.execute_reply": "2021-09-08T22:30:12.465107Z"
    }
   },
   "outputs": [
    {
     "data": {
      "text/plain": [
       "{}"
      ]
     },
     "execution_count": 56,
     "metadata": {},
     "output_type": "execute_result"
    }
   ],
   "source": [
    "diccionario = dict()\n",
    "diccionario"
   ]
  },
  {
   "cell_type": "code",
   "execution_count": 57,
   "id": "72e56774",
   "metadata": {
    "execution": {
     "iopub.execute_input": "2021-09-08T22:30:12.469337Z",
     "iopub.status.busy": "2021-09-08T22:30:12.468865Z",
     "iopub.status.idle": "2021-09-08T22:30:12.470598Z",
     "shell.execute_reply": "2021-09-08T22:30:12.470983Z"
    },
    "slideshow": {
     "slide_type": "slide"
    }
   },
   "outputs": [
    {
     "name": "stdout",
     "output_type": "stream",
     "text": [
      "{'clave1': 'valor1', 2: 'valor2', 'clave3': 3}\n"
     ]
    }
   ],
   "source": [
    "# Cómo agregar cosas al diccionario\n",
    "diccionario['clave1'] = 'valor1'\n",
    "diccionario[2] = 'valor2'\n",
    "diccionario['clave3'] = 3\n",
    "print(diccionario)"
   ]
  },
  {
   "cell_type": "markdown",
   "id": "3d3c5828",
   "metadata": {},
   "source": [
    "Hay dos formas de obtener valores de un diccionario:\n",
    "\n",
    "```python\n",
    "diccionario[clave]\n",
    "```\n",
    "\n",
    "El cual devuelve el valor si existe la clave suministrada o bien lanza `KeyError` si no existe."
   ]
  },
  {
   "cell_type": "code",
   "execution_count": 58,
   "id": "cf47b68c",
   "metadata": {
    "execution": {
     "iopub.execute_input": "2021-09-08T22:30:12.474694Z",
     "iopub.status.busy": "2021-09-08T22:30:12.474194Z",
     "iopub.status.idle": "2021-09-08T22:30:12.476692Z",
     "shell.execute_reply": "2021-09-08T22:30:12.476287Z"
    }
   },
   "outputs": [
    {
     "data": {
      "text/plain": [
       "'valor1'"
      ]
     },
     "execution_count": 58,
     "metadata": {},
     "output_type": "execute_result"
    }
   ],
   "source": [
    "diccionario['clave1']"
   ]
  },
  {
   "cell_type": "code",
   "execution_count": 59,
   "id": "86ec6bf0",
   "metadata": {
    "execution": {
     "iopub.execute_input": "2021-09-08T22:30:12.482435Z",
     "iopub.status.busy": "2021-09-08T22:30:12.479070Z",
     "iopub.status.idle": "2021-09-08T22:30:12.484265Z",
     "shell.execute_reply": "2021-09-08T22:30:12.484668Z"
    },
    "tags": [
     "raises-exception"
    ]
   },
   "outputs": [
    {
     "ename": "KeyError",
     "evalue": "'clave1000'",
     "output_type": "error",
     "traceback": [
      "\u001b[0;31m---------------------------------------------------------------------------\u001b[0m",
      "\u001b[0;31mKeyError\u001b[0m                                  Traceback (most recent call last)",
      "\u001b[0;32m/tmp/ipykernel_1998/3541524662.py\u001b[0m in \u001b[0;36m<module>\u001b[0;34m\u001b[0m\n\u001b[0;32m----> 1\u001b[0;31m \u001b[0mdiccionario\u001b[0m\u001b[0;34m[\u001b[0m\u001b[0;34m'clave1000'\u001b[0m\u001b[0;34m]\u001b[0m\u001b[0;34m\u001b[0m\u001b[0;34m\u001b[0m\u001b[0m\n\u001b[0m",
      "\u001b[0;31mKeyError\u001b[0m: 'clave1000'"
     ]
    }
   ],
   "source": [
    "diccionario['clave1000']"
   ]
  },
  {
   "cell_type": "markdown",
   "id": "7ded5b2a",
   "metadata": {},
   "source": [
    "La segunda forma es con `get`:"
   ]
  },
  {
   "cell_type": "code",
   "execution_count": 60,
   "id": "61df457e",
   "metadata": {
    "execution": {
     "iopub.execute_input": "2021-09-08T22:30:12.527321Z",
     "iopub.status.busy": "2021-09-08T22:30:12.517082Z",
     "iopub.status.idle": "2021-09-08T22:30:12.538138Z",
     "shell.execute_reply": "2021-09-08T22:30:12.537375Z"
    }
   },
   "outputs": [],
   "source": [
    "diccionario.get?"
   ]
  },
  {
   "cell_type": "code",
   "execution_count": 61,
   "id": "ba5cb9ae",
   "metadata": {
    "execution": {
     "iopub.execute_input": "2021-09-08T22:30:12.542583Z",
     "iopub.status.busy": "2021-09-08T22:30:12.542082Z",
     "iopub.status.idle": "2021-09-08T22:30:12.546014Z",
     "shell.execute_reply": "2021-09-08T22:30:12.545406Z"
    }
   },
   "outputs": [
    {
     "name": "stdout",
     "output_type": "stream",
     "text": [
      "Help on built-in function get:\n",
      "\n",
      "get(key, default=None, /) method of builtins.dict instance\n",
      "    Return the value for key if key is in the dictionary, else default.\n",
      "\n"
     ]
    }
   ],
   "source": [
    "help(diccionario.get)"
   ]
  },
  {
   "cell_type": "code",
   "execution_count": 62,
   "id": "50cea927",
   "metadata": {
    "execution": {
     "iopub.execute_input": "2021-09-08T22:30:12.549684Z",
     "iopub.status.busy": "2021-09-08T22:30:12.549038Z",
     "iopub.status.idle": "2021-09-08T22:30:12.553202Z",
     "shell.execute_reply": "2021-09-08T22:30:12.552512Z"
    },
    "slideshow": {
     "slide_type": "slide"
    }
   },
   "outputs": [
    {
     "name": "stdout",
     "output_type": "stream",
     "text": [
      "None\n"
     ]
    }
   ],
   "source": [
    "print(diccionario.get('clave1000'))"
   ]
  },
  {
   "cell_type": "code",
   "execution_count": 63,
   "id": "d16831a7",
   "metadata": {
    "execution": {
     "iopub.execute_input": "2021-09-08T22:30:12.557079Z",
     "iopub.status.busy": "2021-09-08T22:30:12.556610Z",
     "iopub.status.idle": "2021-09-08T22:30:12.560284Z",
     "shell.execute_reply": "2021-09-08T22:30:12.559874Z"
    },
    "slideshow": {
     "slide_type": "slide"
    }
   },
   "outputs": [
    {
     "name": "stdout",
     "output_type": "stream",
     "text": [
      "True\n"
     ]
    }
   ],
   "source": [
    "print('clave1' in diccionario)  # Verifico si la clave está en el diccionario"
   ]
  },
  {
   "cell_type": "code",
   "execution_count": 64,
   "id": "8c06d481",
   "metadata": {
    "execution": {
     "iopub.execute_input": "2021-09-08T22:30:12.564068Z",
     "iopub.status.busy": "2021-09-08T22:30:12.563601Z",
     "iopub.status.idle": "2021-09-08T22:30:12.567355Z",
     "shell.execute_reply": "2021-09-08T22:30:12.566967Z"
    }
   },
   "outputs": [
    {
     "data": {
      "text/plain": [
       "True"
      ]
     },
     "execution_count": 64,
     "metadata": {},
     "output_type": "execute_result"
    }
   ],
   "source": [
    "l = [1, 2, 3, 4]\n",
    "2 in l"
   ]
  },
  {
   "cell_type": "code",
   "execution_count": 65,
   "id": "0d618fb3",
   "metadata": {
    "execution": {
     "iopub.execute_input": "2021-09-08T22:30:12.572048Z",
     "iopub.status.busy": "2021-09-08T22:30:12.571024Z",
     "iopub.status.idle": "2021-09-08T22:30:12.573648Z",
     "shell.execute_reply": "2021-09-08T22:30:12.573242Z"
    }
   },
   "outputs": [
    {
     "name": "stdout",
     "output_type": "stream",
     "text": [
      "la clave es clave1 y el valor es valor1\n",
      "la clave es 2 y el valor es valor2\n",
      "la clave es clave3 y el valor es 3\n"
     ]
    }
   ],
   "source": [
    "for clave, valor in diccionario.items():\n",
    "    print(\"la clave es %s y el valor es %s\" % (clave, valor))"
   ]
  },
  {
   "cell_type": "code",
   "execution_count": 66,
   "id": "721d86c6",
   "metadata": {
    "execution": {
     "iopub.execute_input": "2021-09-08T22:30:12.578157Z",
     "iopub.status.busy": "2021-09-08T22:30:12.577318Z",
     "iopub.status.idle": "2021-09-08T22:30:12.581002Z",
     "shell.execute_reply": "2021-09-08T22:30:12.580563Z"
    }
   },
   "outputs": [
    {
     "name": "stdout",
     "output_type": "stream",
     "text": [
      "la clave es clave1 y el valor es valor1\n",
      "la clave es 2 y el valor es valor2\n",
      "la clave es clave3 y el valor es 3\n"
     ]
    }
   ],
   "source": [
    "for clave, valor in diccionario.items():\n",
    "    print(\"la clave es {} y el valor es {}\".format(clave, valor))"
   ]
  },
  {
   "cell_type": "code",
   "execution_count": 67,
   "id": "62e64dbc",
   "metadata": {
    "execution": {
     "iopub.execute_input": "2021-09-08T22:30:12.587149Z",
     "iopub.status.busy": "2021-09-08T22:30:12.586228Z",
     "iopub.status.idle": "2021-09-08T22:30:12.588947Z",
     "shell.execute_reply": "2021-09-08T22:30:12.588555Z"
    },
    "slideshow": {
     "slide_type": "slide"
    }
   },
   "outputs": [
    {
     "name": "stdout",
     "output_type": "stream",
     "text": [
      "la clave es clave1 y el valor es valor1\n",
      "la clave es 2 y el valor es valor2\n",
      "la clave es clave3 y el valor es 3\n"
     ]
    }
   ],
   "source": [
    "# Cómo iterar un diccionario elemento por elemento\n",
    "for (\n",
    "    clave,\n",
    "    valor,\n",
    ") in (\n",
    "    diccionario.items()\n",
    "):  # diccionario.items() va devolviendo tuplas con el formato (clave,valor)\n",
    "    print(\n",
    "        f\"la clave es {clave} y el valor es {valor}\"\n",
    "    )  # con esta sintaxis se desempaquetan en clave y valor (similar a enumerate)"
   ]
  },
  {
   "cell_type": "code",
   "execution_count": 68,
   "id": "258b91cd",
   "metadata": {
    "execution": {
     "iopub.execute_input": "2021-09-08T22:30:12.592559Z",
     "iopub.status.busy": "2021-09-08T22:30:12.592094Z",
     "iopub.status.idle": "2021-09-08T22:30:12.595297Z",
     "shell.execute_reply": "2021-09-08T22:30:12.595687Z"
    },
    "slideshow": {
     "slide_type": "slide"
    }
   },
   "outputs": [
    {
     "name": "stdout",
     "output_type": "stream",
     "text": [
      "clave1\n",
      "2\n",
      "clave3\n"
     ]
    }
   ],
   "source": [
    "for clave in diccionario.keys():\n",
    "    print(clave)"
   ]
  },
  {
   "cell_type": "code",
   "execution_count": 69,
   "id": "bae7866d",
   "metadata": {
    "execution": {
     "iopub.execute_input": "2021-09-08T22:30:12.599431Z",
     "iopub.status.busy": "2021-09-08T22:30:12.598964Z",
     "iopub.status.idle": "2021-09-08T22:30:12.602622Z",
     "shell.execute_reply": "2021-09-08T22:30:12.602206Z"
    },
    "slideshow": {
     "slide_type": "slide"
    }
   },
   "outputs": [
    {
     "name": "stdout",
     "output_type": "stream",
     "text": [
      "valor1\n",
      "valor2\n",
      "3\n"
     ]
    }
   ],
   "source": [
    "for valor in diccionario.values():\n",
    "    print(valor)"
   ]
  },
  {
   "cell_type": "markdown",
   "id": "b59c94b6",
   "metadata": {},
   "source": [
    "#### Sets\n",
    "\n",
    "Son similares a los diccionarios (en eficiencia) pero se almacenan solo claves, y tienen algunas operaciones particulares.\n",
    "\n",
    "En particular, no pueden tener elementos iguales (pensar que son conjuntos)"
   ]
  },
  {
   "cell_type": "code",
   "execution_count": 70,
   "id": "c9969b56",
   "metadata": {
    "execution": {
     "iopub.execute_input": "2021-09-08T22:30:12.606071Z",
     "iopub.status.busy": "2021-09-08T22:30:12.605606Z",
     "iopub.status.idle": "2021-09-08T22:30:12.610591Z",
     "shell.execute_reply": "2021-09-08T22:30:12.611000Z"
    }
   },
   "outputs": [],
   "source": [
    "set??"
   ]
  },
  {
   "cell_type": "code",
   "execution_count": 71,
   "id": "e95db673",
   "metadata": {
    "execution": {
     "iopub.execute_input": "2021-09-08T22:30:12.614870Z",
     "iopub.status.busy": "2021-09-08T22:30:12.614288Z",
     "iopub.status.idle": "2021-09-08T22:30:12.617501Z",
     "shell.execute_reply": "2021-09-08T22:30:12.617090Z"
    }
   },
   "outputs": [
    {
     "data": {
      "text/plain": [
       "{1, 2, 3}"
      ]
     },
     "execution_count": 71,
     "metadata": {},
     "output_type": "execute_result"
    }
   ],
   "source": [
    "# Se definen como los diccionarios pero sin hacerlos 'clave:valor', solamente una seguidilla de elementos\n",
    "{1, 2, 2, 3}"
   ]
  },
  {
   "cell_type": "code",
   "execution_count": 72,
   "id": "8f0212b3",
   "metadata": {
    "execution": {
     "iopub.execute_input": "2021-09-08T22:30:12.621220Z",
     "iopub.status.busy": "2021-09-08T22:30:12.620752Z",
     "iopub.status.idle": "2021-09-08T22:30:12.624645Z",
     "shell.execute_reply": "2021-09-08T22:30:12.624199Z"
    }
   },
   "outputs": [
    {
     "data": {
      "text/plain": [
       "{1, 2, 3}"
      ]
     },
     "execution_count": 72,
     "metadata": {},
     "output_type": "execute_result"
    }
   ],
   "source": [
    "set([1, 2, 2, 3])"
   ]
  },
  {
   "cell_type": "markdown",
   "id": "25fc05d5",
   "metadata": {},
   "source": [
    "## Condicionales (if...elif...else)\n",
    "\n",
    "```python\n",
    "if <condición_1>:\n",
    "    <hacer algo_1 si se da la condición_1>\n",
    "elif <condición_2>:\n",
    "    <hacer algo_2 si se da la condición_2>\n",
    "...\n",
    "elif <condición_n>:\n",
    "    <hacer algo_n si se da la condición_n>\n",
    "else:\n",
    "    <hacer otra cosa si no dan las anteriores>\n",
    "```\n",
    "\n",
    "Algo importante para notar es que los bloques se definen por **niveles de identacion**."
   ]
  },
  {
   "cell_type": "code",
   "execution_count": 73,
   "id": "fcc778fa",
   "metadata": {
    "execution": {
     "iopub.execute_input": "2021-09-08T22:30:12.629709Z",
     "iopub.status.busy": "2021-09-08T22:30:12.628686Z",
     "iopub.status.idle": "2021-09-08T22:30:12.631334Z",
     "shell.execute_reply": "2021-09-08T22:30:12.630927Z"
    }
   },
   "outputs": [
    {
     "name": "stdout",
     "output_type": "stream",
     "text": [
      "uno\n"
     ]
    }
   ],
   "source": [
    "v = 1\n",
    "if v == 1:\n",
    "    print(\"uno\")\n",
    "elif v == 2:\n",
    "    print(\"dos\")\n",
    "else:\n",
    "    print(\"ni idea\")\n",
    "    print(v)"
   ]
  },
  {
   "cell_type": "markdown",
   "id": "957f295d",
   "metadata": {},
   "source": [
    "## Iteraciones\n",
    "\n",
    "```python\n",
    "while cond:\n",
    "    <codigo>\n",
    "```\n",
    "\n",
    "```python\n",
    "for elemento in iterable:\n",
    "    <codigo>\n",
    "```\n",
    "\n",
    "Para iterar sobre un rango de valores, usamos `range`"
   ]
  },
  {
   "cell_type": "code",
   "execution_count": 74,
   "id": "882503cb",
   "metadata": {
    "execution": {
     "iopub.execute_input": "2021-09-08T22:30:12.636394Z",
     "iopub.status.busy": "2021-09-08T22:30:12.635373Z",
     "iopub.status.idle": "2021-09-08T22:30:12.637980Z",
     "shell.execute_reply": "2021-09-08T22:30:12.637575Z"
    }
   },
   "outputs": [
    {
     "name": "stdout",
     "output_type": "stream",
     "text": [
      "1\n",
      "4\n",
      "7\n",
      "10\n"
     ]
    }
   ],
   "source": [
    "for i in range(1, 11, 3):\n",
    "    print(i)"
   ]
  },
  {
   "cell_type": "markdown",
   "id": "d2cdc460",
   "metadata": {},
   "source": [
    "## Operadores logicos\n",
    "\n",
    "`not`, `or`, `and`"
   ]
  },
  {
   "cell_type": "code",
   "execution_count": 75,
   "id": "8d3aa752",
   "metadata": {
    "execution": {
     "iopub.execute_input": "2021-09-08T22:30:12.642406Z",
     "iopub.status.busy": "2021-09-08T22:30:12.641353Z",
     "iopub.status.idle": "2021-09-08T22:30:12.643945Z",
     "shell.execute_reply": "2021-09-08T22:30:12.643536Z"
    }
   },
   "outputs": [
    {
     "name": "stdout",
     "output_type": "stream",
     "text": [
      "yay\n"
     ]
    }
   ],
   "source": [
    "if True or False:\n",
    "    print(\"yay\")"
   ]
  },
  {
   "cell_type": "code",
   "execution_count": 76,
   "id": "171aedbf",
   "metadata": {
    "execution": {
     "iopub.execute_input": "2021-09-08T22:30:12.647695Z",
     "iopub.status.busy": "2021-09-08T22:30:12.647221Z",
     "iopub.status.idle": "2021-09-08T22:30:12.650916Z",
     "shell.execute_reply": "2021-09-08T22:30:12.650502Z"
    }
   },
   "outputs": [
    {
     "data": {
      "text/plain": [
       "False"
      ]
     },
     "execution_count": 76,
     "metadata": {},
     "output_type": "execute_result"
    }
   ],
   "source": [
    "1 == 2"
   ]
  },
  {
   "cell_type": "code",
   "execution_count": 77,
   "id": "c447121a",
   "metadata": {
    "execution": {
     "iopub.execute_input": "2021-09-08T22:30:12.655078Z",
     "iopub.status.busy": "2021-09-08T22:30:12.654591Z",
     "iopub.status.idle": "2021-09-08T22:30:12.656859Z",
     "shell.execute_reply": "2021-09-08T22:30:12.657239Z"
    }
   },
   "outputs": [
    {
     "data": {
      "text/plain": [
       "True"
      ]
     },
     "execution_count": 77,
     "metadata": {},
     "output_type": "execute_result"
    }
   ],
   "source": [
    "1 != 2"
   ]
  },
  {
   "cell_type": "markdown",
   "id": "0113c0fc",
   "metadata": {
    "slideshow": {
     "slide_type": "slide"
    }
   },
   "source": [
    "## Funciones en Python"
   ]
  },
  {
   "cell_type": "code",
   "execution_count": 78,
   "id": "c4f0591f",
   "metadata": {
    "execution": {
     "iopub.execute_input": "2021-09-08T22:30:12.663451Z",
     "iopub.status.busy": "2021-09-08T22:30:12.662966Z",
     "iopub.status.idle": "2021-09-08T22:30:12.667326Z",
     "shell.execute_reply": "2021-09-08T22:30:12.666939Z"
    },
    "slideshow": {
     "slide_type": "slide"
    }
   },
   "outputs": [
    {
     "name": "stdout",
     "output_type": "stream",
     "text": [
      "True\n",
      "False\n"
     ]
    }
   ],
   "source": [
    "def busqueda_binaria(lista, elemento):\n",
    "    if not lista:\n",
    "        return False\n",
    "    elif len(lista) == 1:\n",
    "        return lista[0] == elemento\n",
    "    mitad = len(lista) // 2  # // es la operación división entera\n",
    "    if lista[mitad] == elemento:\n",
    "        return True\n",
    "    if lista[mitad] > elemento:\n",
    "        return busqueda_binaria(lista[:mitad], elemento)\n",
    "    if lista[mitad] < elemento:\n",
    "        return busqueda_binaria(lista[mitad:], elemento)\n",
    "\n",
    "\n",
    "print(busqueda_binaria([1, 2, 3, 4, 5], 4))\n",
    "print(busqueda_binaria([1, 4, 6, 7, 9, 10], 2))"
   ]
  },
  {
   "cell_type": "code",
   "execution_count": 79,
   "id": "afbd0c2e",
   "metadata": {
    "execution": {
     "iopub.execute_input": "2021-09-08T22:30:12.671026Z",
     "iopub.status.busy": "2021-09-08T22:30:12.670554Z",
     "iopub.status.idle": "2021-09-08T22:30:12.673178Z",
     "shell.execute_reply": "2021-09-08T22:30:12.672698Z"
    }
   },
   "outputs": [
    {
     "name": "stdout",
     "output_type": "stream",
     "text": [
      "(3, 3, 3)\n"
     ]
    }
   ],
   "source": [
    "def a(b):\n",
    "    if a == 1:\n",
    "        print(a)\n",
    "    return (b, b, b)\n",
    "\n",
    "\n",
    "print(a(3))"
   ]
  },
  {
   "cell_type": "code",
   "execution_count": 80,
   "id": "7d5ae41d",
   "metadata": {
    "execution": {
     "iopub.execute_input": "2021-09-08T22:30:12.678988Z",
     "iopub.status.busy": "2021-09-08T22:30:12.678512Z",
     "iopub.status.idle": "2021-09-08T22:30:12.688750Z",
     "shell.execute_reply": "2021-09-08T22:30:12.688334Z"
    },
    "lines_to_next_cell": 2,
    "slideshow": {
     "slide_type": "slide"
    },
    "tags": [
     "raises-exception"
    ]
   },
   "outputs": [
    {
     "name": "stdout",
     "output_type": "stream",
     "text": [
      "3\n",
      "3.0\n",
      "3.0\n",
      "hola como te va\n",
      "[1, 2, 3, 4, 5]\n"
     ]
    },
    {
     "ename": "TypeError",
     "evalue": "can only concatenate str (not \"int\") to str",
     "output_type": "error",
     "traceback": [
      "\u001b[0;31m---------------------------------------------------------------------------\u001b[0m",
      "\u001b[0;31mTypeError\u001b[0m                                 Traceback (most recent call last)",
      "\u001b[0;32m/tmp/ipykernel_1998/1000948441.py\u001b[0m in \u001b[0;36m<module>\u001b[0;34m\u001b[0m\n\u001b[1;32m      8\u001b[0m \u001b[0mprint\u001b[0m\u001b[0;34m(\u001b[0m\u001b[0msuma\u001b[0m\u001b[0;34m(\u001b[0m\u001b[0;34m\"hola \"\u001b[0m\u001b[0;34m,\u001b[0m \u001b[0;34m\"como te va\"\u001b[0m\u001b[0;34m)\u001b[0m\u001b[0;34m)\u001b[0m\u001b[0;34m\u001b[0m\u001b[0;34m\u001b[0m\u001b[0m\n\u001b[1;32m      9\u001b[0m \u001b[0mprint\u001b[0m\u001b[0;34m(\u001b[0m\u001b[0msuma\u001b[0m\u001b[0;34m(\u001b[0m\u001b[0;34m[\u001b[0m\u001b[0;36m1\u001b[0m\u001b[0;34m,\u001b[0m \u001b[0;36m2\u001b[0m\u001b[0;34m,\u001b[0m \u001b[0;36m3\u001b[0m\u001b[0;34m]\u001b[0m\u001b[0;34m,\u001b[0m \u001b[0;34m[\u001b[0m\u001b[0;36m4\u001b[0m\u001b[0;34m,\u001b[0m \u001b[0;36m5\u001b[0m\u001b[0;34m]\u001b[0m\u001b[0;34m)\u001b[0m\u001b[0;34m)\u001b[0m\u001b[0;34m\u001b[0m\u001b[0;34m\u001b[0m\u001b[0m\n\u001b[0;32m---> 10\u001b[0;31m \u001b[0mprint\u001b[0m\u001b[0;34m(\u001b[0m\u001b[0msuma\u001b[0m\u001b[0;34m(\u001b[0m\u001b[0;34m\"1\"\u001b[0m\u001b[0;34m,\u001b[0m \u001b[0;36m3\u001b[0m\u001b[0;34m)\u001b[0m\u001b[0;34m)\u001b[0m  \u001b[0;31m# Falla\u001b[0m\u001b[0;34m\u001b[0m\u001b[0;34m\u001b[0m\u001b[0m\n\u001b[0m",
      "\u001b[0;32m/tmp/ipykernel_1998/1000948441.py\u001b[0m in \u001b[0;36msuma\u001b[0;34m(a, b)\u001b[0m\n\u001b[1;32m      1\u001b[0m \u001b[0;32mdef\u001b[0m \u001b[0msuma\u001b[0m\u001b[0;34m(\u001b[0m\u001b[0ma\u001b[0m\u001b[0;34m,\u001b[0m \u001b[0mb\u001b[0m\u001b[0;34m)\u001b[0m\u001b[0;34m:\u001b[0m\u001b[0;34m\u001b[0m\u001b[0;34m\u001b[0m\u001b[0m\n\u001b[0;32m----> 2\u001b[0;31m     \u001b[0;32mreturn\u001b[0m \u001b[0ma\u001b[0m \u001b[0;34m+\u001b[0m \u001b[0mb\u001b[0m\u001b[0;34m\u001b[0m\u001b[0;34m\u001b[0m\u001b[0m\n\u001b[0m\u001b[1;32m      3\u001b[0m \u001b[0;34m\u001b[0m\u001b[0m\n\u001b[1;32m      4\u001b[0m \u001b[0;34m\u001b[0m\u001b[0m\n\u001b[1;32m      5\u001b[0m \u001b[0mprint\u001b[0m\u001b[0;34m(\u001b[0m\u001b[0msuma\u001b[0m\u001b[0;34m(\u001b[0m\u001b[0;36m1\u001b[0m\u001b[0;34m,\u001b[0m \u001b[0;36m2\u001b[0m\u001b[0;34m)\u001b[0m\u001b[0;34m)\u001b[0m\u001b[0;34m\u001b[0m\u001b[0;34m\u001b[0m\u001b[0m\n",
      "\u001b[0;31mTypeError\u001b[0m: can only concatenate str (not \"int\") to str"
     ]
    }
   ],
   "source": [
    "def suma(a, b):\n",
    "    return a + b\n",
    "\n",
    "\n",
    "print(suma(1, 2))\n",
    "print(suma(1.0, 2.0))\n",
    "print(suma(1.0, 2))\n",
    "print(suma(\"hola \", \"como te va\"))\n",
    "print(suma([1, 2, 3], [4, 5]))\n",
    "print(suma(\"1\", 3))  # Falla"
   ]
  },
  {
   "cell_type": "code",
   "execution_count": 81,
   "id": "40bf35d9",
   "metadata": {
    "execution": {
     "iopub.execute_input": "2021-09-08T22:30:12.692584Z",
     "iopub.status.busy": "2021-09-08T22:30:12.692115Z",
     "iopub.status.idle": "2021-09-08T22:30:12.696146Z",
     "shell.execute_reply": "2021-09-08T22:30:12.695550Z"
    }
   },
   "outputs": [
    {
     "name": "stdout",
     "output_type": "stream",
     "text": [
      "2.0\n"
     ]
    }
   ],
   "source": [
    "# El valor por default de divisor es 1\n",
    "\n",
    "\n",
    "def division(dividendo, divisor=2):\n",
    "    return dividendo / divisor\n",
    "\n",
    "\n",
    "print(division(4))  # Usa el valor por default"
   ]
  },
  {
   "cell_type": "code",
   "execution_count": 82,
   "id": "6b64cd6c",
   "metadata": {
    "execution": {
     "iopub.execute_input": "2021-09-08T22:30:12.700065Z",
     "iopub.status.busy": "2021-09-08T22:30:12.699433Z",
     "iopub.status.idle": "2021-09-08T22:30:12.708040Z",
     "shell.execute_reply": "2021-09-08T22:30:12.707625Z"
    },
    "tags": [
     "raises-exception"
    ]
   },
   "outputs": [
    {
     "name": "stdout",
     "output_type": "stream",
     "text": [
      "0.5\n",
      "0.5\n"
     ]
    },
    {
     "ename": "TypeError",
     "evalue": "division() missing 1 required positional argument: 'dividendo'",
     "output_type": "error",
     "traceback": [
      "\u001b[0;31m---------------------------------------------------------------------------\u001b[0m",
      "\u001b[0;31mTypeError\u001b[0m                                 Traceback (most recent call last)",
      "\u001b[0;32m/tmp/ipykernel_1998/1004518412.py\u001b[0m in \u001b[0;36m<module>\u001b[0;34m\u001b[0m\n\u001b[1;32m      1\u001b[0m \u001b[0mprint\u001b[0m\u001b[0;34m(\u001b[0m\u001b[0mdivision\u001b[0m\u001b[0;34m(\u001b[0m\u001b[0;36m1\u001b[0m\u001b[0;34m,\u001b[0m \u001b[0;36m2\u001b[0m\u001b[0;34m)\u001b[0m\u001b[0;34m)\u001b[0m  \u001b[0;31m# Parámetros por orden\u001b[0m\u001b[0;34m\u001b[0m\u001b[0;34m\u001b[0m\u001b[0m\n\u001b[1;32m      2\u001b[0m \u001b[0mprint\u001b[0m\u001b[0;34m(\u001b[0m\u001b[0mdivision\u001b[0m\u001b[0;34m(\u001b[0m\u001b[0mdividendo\u001b[0m\u001b[0;34m=\u001b[0m\u001b[0;36m1\u001b[0m\u001b[0;34m,\u001b[0m \u001b[0mdivisor\u001b[0m\u001b[0;34m=\u001b[0m\u001b[0;36m2\u001b[0m\u001b[0;34m)\u001b[0m\u001b[0;34m)\u001b[0m  \u001b[0;31m# Parámetros por nombre\u001b[0m\u001b[0;34m\u001b[0m\u001b[0;34m\u001b[0m\u001b[0m\n\u001b[0;32m----> 3\u001b[0;31m \u001b[0mprint\u001b[0m\u001b[0;34m(\u001b[0m\u001b[0mdivision\u001b[0m\u001b[0;34m(\u001b[0m\u001b[0mdivisor\u001b[0m\u001b[0;34m=\u001b[0m\u001b[0;36m2\u001b[0m\u001b[0;34m)\u001b[0m\u001b[0;34m)\u001b[0m\u001b[0;34m\u001b[0m\u001b[0;34m\u001b[0m\u001b[0m\n\u001b[0m",
      "\u001b[0;31mTypeError\u001b[0m: division() missing 1 required positional argument: 'dividendo'"
     ]
    }
   ],
   "source": [
    "print(division(1, 2))  # Parámetros por orden\n",
    "print(division(dividendo=1, divisor=2))  # Parámetros por nombre\n",
    "print(division(divisor=2))"
   ]
  },
  {
   "cell_type": "code",
   "execution_count": 83,
   "id": "eddf2b04",
   "metadata": {
    "execution": {
     "iopub.execute_input": "2021-09-08T22:30:12.711529Z",
     "iopub.status.busy": "2021-09-08T22:30:12.711049Z",
     "iopub.status.idle": "2021-09-08T22:30:12.714472Z",
     "shell.execute_reply": "2021-09-08T22:30:12.715047Z"
    }
   },
   "outputs": [
    {
     "name": "stdout",
     "output_type": "stream",
     "text": [
      "0.5\n"
     ]
    }
   ],
   "source": [
    "print(division(divisor=2, dividendo=1))"
   ]
  },
  {
   "cell_type": "code",
   "execution_count": 84,
   "id": "398f9e37",
   "metadata": {
    "execution": {
     "iopub.execute_input": "2021-09-08T22:30:12.719693Z",
     "iopub.status.busy": "2021-09-08T22:30:12.719043Z",
     "iopub.status.idle": "2021-09-08T22:30:12.723034Z",
     "shell.execute_reply": "2021-09-08T22:30:12.722618Z"
    }
   },
   "outputs": [
    {
     "name": "stdout",
     "output_type": "stream",
     "text": [
      "['a', 'b', 'c']\n",
      "[1, 2, 3]\n",
      "['hola', ' don', ' pepito']\n",
      "hola -  don -  pepito\n"
     ]
    }
   ],
   "source": [
    "# Funciones básicas ya en el lenguaje\n",
    "# Hechas para funcionar para distintos tipos\n",
    "\n",
    "string_ordenado = sorted('bca')\n",
    "print(string_ordenado)\n",
    "\n",
    "lista_ordenada = sorted([1, 3, 2])\n",
    "print(lista_ordenada)\n",
    "\n",
    "separadas = \"hola, don, pepito\".split(\",\")\n",
    "print(separadas)\n",
    "unidas = \" - \".join(separadas)\n",
    "print(unidas)"
   ]
  },
  {
   "cell_type": "markdown",
   "id": "23cfc8d4",
   "metadata": {},
   "source": [
    "## Módulos\n",
    "\n",
    "Para incluir alguna biblioteca de funciones se usa `import`. Pueden ser cosas ya predefinidas en Python (`math`, `random`, etc), nombres de archivos en nuestro directorio (por ejemplo, para `mimodulo.py` ponemos `import mimodulo`) o bibliotecas instaladas por el usuario"
   ]
  },
  {
   "cell_type": "code",
   "execution_count": 85,
   "id": "32be1315",
   "metadata": {
    "execution": {
     "iopub.execute_input": "2021-09-08T22:30:12.726669Z",
     "iopub.status.busy": "2021-09-08T22:30:12.725784Z",
     "iopub.status.idle": "2021-09-08T22:30:12.730069Z",
     "shell.execute_reply": "2021-09-08T22:30:12.729661Z"
    }
   },
   "outputs": [
    {
     "name": "stdout",
     "output_type": "stream",
     "text": [
      "3.141592653589793\n"
     ]
    }
   ],
   "source": [
    "import math\n",
    "\n",
    "print(math.pi)"
   ]
  },
  {
   "cell_type": "code",
   "execution_count": 86,
   "id": "43f6f508",
   "metadata": {
    "execution": {
     "iopub.execute_input": "2021-09-08T22:30:12.733675Z",
     "iopub.status.busy": "2021-09-08T22:30:12.733034Z",
     "iopub.status.idle": "2021-09-08T22:30:12.736956Z",
     "shell.execute_reply": "2021-09-08T22:30:12.736550Z"
    }
   },
   "outputs": [
    {
     "name": "stdout",
     "output_type": "stream",
     "text": [
      "3.141592653589793 2.718281828459045\n"
     ]
    }
   ],
   "source": [
    "from math import pi, e\n",
    "\n",
    "print(pi, e)"
   ]
  },
  {
   "cell_type": "code",
   "execution_count": 87,
   "id": "004c9dc0",
   "metadata": {
    "execution": {
     "iopub.execute_input": "2021-09-08T22:30:12.740911Z",
     "iopub.status.busy": "2021-09-08T22:30:12.740447Z",
     "iopub.status.idle": "2021-09-08T22:30:12.744889Z",
     "shell.execute_reply": "2021-09-08T22:30:12.744480Z"
    }
   },
   "outputs": [
    {
     "data": {
      "text/plain": [
       "2"
      ]
     },
     "execution_count": 87,
     "metadata": {},
     "output_type": "execute_result"
    }
   ],
   "source": [
    "math.gcd(56, 78)"
   ]
  },
  {
   "cell_type": "markdown",
   "id": "763bcb22",
   "metadata": {},
   "source": [
    "## Manejo de excepciones\n",
    "\n",
    "Se pueden encapsular errores esperados en un bloque 'try/except' para evitar cortar el flujo del programa"
   ]
  },
  {
   "cell_type": "code",
   "execution_count": 88,
   "id": "3e6b77b4",
   "metadata": {
    "execution": {
     "iopub.execute_input": "2021-09-08T22:30:12.752712Z",
     "iopub.status.busy": "2021-09-08T22:30:12.747731Z",
     "iopub.status.idle": "2021-09-08T22:30:12.756836Z",
     "shell.execute_reply": "2021-09-08T22:30:12.756424Z"
    },
    "tags": [
     "raises-exception"
    ]
   },
   "outputs": [
    {
     "ename": "ZeroDivisionError",
     "evalue": "division by zero",
     "output_type": "error",
     "traceback": [
      "\u001b[0;31m---------------------------------------------------------------------------\u001b[0m",
      "\u001b[0;31mZeroDivisionError\u001b[0m                         Traceback (most recent call last)",
      "\u001b[0;32m/tmp/ipykernel_1998/1165346582.py\u001b[0m in \u001b[0;36m<module>\u001b[0;34m\u001b[0m\n\u001b[0;32m----> 1\u001b[0;31m \u001b[0mdivision\u001b[0m\u001b[0;34m(\u001b[0m\u001b[0;36m1\u001b[0m\u001b[0;34m,\u001b[0m \u001b[0;36m0\u001b[0m\u001b[0;34m)\u001b[0m  \u001b[0;31m# No se puede dividir por cero\u001b[0m\u001b[0;34m\u001b[0m\u001b[0;34m\u001b[0m\u001b[0m\n\u001b[0m",
      "\u001b[0;32m/tmp/ipykernel_1998/2607187721.py\u001b[0m in \u001b[0;36mdivision\u001b[0;34m(dividendo, divisor)\u001b[0m\n\u001b[1;32m      3\u001b[0m \u001b[0;34m\u001b[0m\u001b[0m\n\u001b[1;32m      4\u001b[0m \u001b[0;32mdef\u001b[0m \u001b[0mdivision\u001b[0m\u001b[0;34m(\u001b[0m\u001b[0mdividendo\u001b[0m\u001b[0;34m,\u001b[0m \u001b[0mdivisor\u001b[0m\u001b[0;34m=\u001b[0m\u001b[0;36m2\u001b[0m\u001b[0;34m)\u001b[0m\u001b[0;34m:\u001b[0m\u001b[0;34m\u001b[0m\u001b[0;34m\u001b[0m\u001b[0m\n\u001b[0;32m----> 5\u001b[0;31m     \u001b[0;32mreturn\u001b[0m \u001b[0mdividendo\u001b[0m \u001b[0;34m/\u001b[0m \u001b[0mdivisor\u001b[0m\u001b[0;34m\u001b[0m\u001b[0;34m\u001b[0m\u001b[0m\n\u001b[0m\u001b[1;32m      6\u001b[0m \u001b[0;34m\u001b[0m\u001b[0m\n\u001b[1;32m      7\u001b[0m \u001b[0;34m\u001b[0m\u001b[0m\n",
      "\u001b[0;31mZeroDivisionError\u001b[0m: division by zero"
     ]
    }
   ],
   "source": [
    "division(1, 0)  # No se puede dividir por cero"
   ]
  },
  {
   "cell_type": "code",
   "execution_count": 89,
   "id": "a4ec8837",
   "metadata": {
    "execution": {
     "iopub.execute_input": "2021-09-08T22:30:12.760350Z",
     "iopub.status.busy": "2021-09-08T22:30:12.758883Z",
     "iopub.status.idle": "2021-09-08T22:30:12.762961Z",
     "shell.execute_reply": "2021-09-08T22:30:12.762402Z"
    }
   },
   "outputs": [
    {
     "name": "stdout",
     "output_type": "stream",
     "text": [
      "No se puede dividir por cero, ojo! division by zero\n",
      "1\n"
     ]
    }
   ],
   "source": [
    "try:\n",
    "    division(1, 0)\n",
    "except (ZeroDivisionError, TypeError) as e:\n",
    "    print('No se puede dividir por cero, ojo!', e)\n",
    "finally:\n",
    "    print(1)"
   ]
  },
  {
   "cell_type": "markdown",
   "id": "4d7b6fa3",
   "metadata": {
    "slideshow": {
     "slide_type": "slide"
    }
   },
   "source": [
    "## Lectura y escritura de archivos"
   ]
  },
  {
   "cell_type": "code",
   "execution_count": 90,
   "id": "bb92174b",
   "metadata": {
    "execution": {
     "iopub.execute_input": "2021-09-08T22:30:12.767463Z",
     "iopub.status.busy": "2021-09-08T22:30:12.766461Z",
     "iopub.status.idle": "2021-09-08T22:30:12.770359Z",
     "shell.execute_reply": "2021-09-08T22:30:12.769952Z"
    },
    "slideshow": {
     "slide_type": "slide"
    }
   },
   "outputs": [
    {
     "name": "stdout",
     "output_type": "stream",
     "text": [
      "<_io.TextIOWrapper name='archivo.csv' mode='w' encoding='UTF-8'>\n"
     ]
    }
   ],
   "source": [
    "import random\n",
    "\n",
    "with open(\n",
    "    'archivo.csv', 'w'\n",
    ") as archivo:  # Al usar esta sintaxis no es necesario hacer close\n",
    "    archivo.write(\"Alumno, nota\\n\")\n",
    "    # Tambien de forma similar al fprintf se puede hacer:\n",
    "    # print(\"Alumno, nota\\n\", file=archivo)\n",
    "    for i in range(0, 10):\n",
    "        archivo.write(f\"{i},{random.randrange(0,10)}\\n\")\n",
    "\n",
    "print(archivo)  # Comentario aclaratorio:\n",
    "# Las variables definidas en un determinado scope siguen existiendo por fuera del mismo.\n",
    "# Se debe tener cuidado con esto, ya que nada garantiza que por fuera el valor sea el esperado."
   ]
  },
  {
   "cell_type": "code",
   "execution_count": 91,
   "id": "8b250af2",
   "metadata": {
    "execution": {
     "iopub.execute_input": "2021-09-08T22:30:12.773744Z",
     "iopub.status.busy": "2021-09-08T22:30:12.772259Z",
     "iopub.status.idle": "2021-09-08T22:30:12.776612Z",
     "shell.execute_reply": "2021-09-08T22:30:12.776203Z"
    },
    "slideshow": {
     "slide_type": "slide"
    }
   },
   "outputs": [
    {
     "name": "stdout",
     "output_type": "stream",
     "text": [
      "Alumno, nota\n",
      "0,0\n",
      "1,5\n",
      "2,2\n",
      "3,1\n",
      "4,7\n",
      "5,3\n",
      "6,0\n",
      "7,9\n",
      "8,4\n",
      "9,3\n"
     ]
    }
   ],
   "source": [
    "with open('archivo.csv', 'r') as f:\n",
    "    for linea in f:\n",
    "        print(linea.strip())"
   ]
  },
  {
   "cell_type": "code",
   "execution_count": 92,
   "id": "eb494ffe",
   "metadata": {
    "execution": {
     "iopub.execute_input": "2021-09-08T22:30:12.780106Z",
     "iopub.status.busy": "2021-09-08T22:30:12.779265Z",
     "iopub.status.idle": "2021-09-08T22:30:12.782086Z",
     "shell.execute_reply": "2021-09-08T22:30:12.782484Z"
    }
   },
   "outputs": [
    {
     "name": "stdout",
     "output_type": "stream",
     "text": [
      "Alumno, nota\n",
      "0,0\n",
      "1,5\n",
      "2,2\n",
      "3,1\n",
      "4,7\n",
      "5,3\n",
      "6,0\n",
      "7,9\n",
      "8,4\n",
      "9,3\n",
      "\n"
     ]
    }
   ],
   "source": [
    "with open('archivo.csv', 'r') as f:\n",
    "    print(f.read())"
   ]
  },
  {
   "cell_type": "code",
   "execution_count": 93,
   "id": "fe96f035",
   "metadata": {
    "execution": {
     "iopub.execute_input": "2021-09-08T22:30:12.785574Z",
     "iopub.status.busy": "2021-09-08T22:30:12.785106Z",
     "iopub.status.idle": "2021-09-08T22:30:12.787955Z",
     "shell.execute_reply": "2021-09-08T22:30:12.788321Z"
    }
   },
   "outputs": [],
   "source": [
    "f = open('archivo.csv', 'w')\n",
    "f.write(\"algo, algo\")\n",
    "f.close()"
   ]
  },
  {
   "cell_type": "markdown",
   "id": "ebc2ca1c",
   "metadata": {
    "slideshow": {
     "slide_type": "slide"
    }
   },
   "source": [
    "## Objetos\n",
    "\n",
    "Los objetos tienen metodos y atributos:\n",
    "- Atributos: equivalentes a variables.\n",
    "- Métodos: equivalentes a las primitivas."
   ]
  },
  {
   "cell_type": "markdown",
   "id": "b93c538b",
   "metadata": {
    "slideshow": {
     "slide_type": "slide"
    }
   },
   "source": [
    "### Cómo creo una clase"
   ]
  },
  {
   "cell_type": "code",
   "execution_count": 94,
   "id": "a1dd1920",
   "metadata": {
    "execution": {
     "iopub.execute_input": "2021-09-08T22:30:12.793624Z",
     "iopub.status.busy": "2021-09-08T22:30:12.793145Z",
     "iopub.status.idle": "2021-09-08T22:30:12.796217Z",
     "shell.execute_reply": "2021-09-08T22:30:12.795809Z"
    },
    "slideshow": {
     "slide_type": "slide"
    }
   },
   "outputs": [],
   "source": [
    "class Nodo(object):\n",
    "    def __init__(self, dato, siguiente=None):\n",
    "        self._dato = dato\n",
    "        self._siguiente = siguiente\n",
    "\n",
    "    @property\n",
    "    def dato(self):\n",
    "        return self._dato\n",
    "\n",
    "    @property\n",
    "    def proximo(self):\n",
    "        return self._siguiente\n",
    "\n",
    "    @proximo.setter\n",
    "    def proximo(self, siguiente):\n",
    "        self._siguiente = siguiente\n",
    "\n",
    "    def __repr__(self):\n",
    "        return str(self.dato)\n",
    "\n",
    "    def __str__(self):\n",
    "        return str(self.dato)"
   ]
  },
  {
   "cell_type": "code",
   "execution_count": 95,
   "id": "2b70c088",
   "metadata": {
    "execution": {
     "iopub.execute_input": "2021-09-08T22:30:12.799396Z",
     "iopub.status.busy": "2021-09-08T22:30:12.798920Z",
     "iopub.status.idle": "2021-09-08T22:30:12.800673Z",
     "shell.execute_reply": "2021-09-08T22:30:12.801054Z"
    },
    "slideshow": {
     "slide_type": "slide"
    }
   },
   "outputs": [
    {
     "name": "stdout",
     "output_type": "stream",
     "text": [
      "hola\n"
     ]
    }
   ],
   "source": [
    "nodo = Nodo(\"hola\")\n",
    "print(nodo)"
   ]
  },
  {
   "cell_type": "code",
   "execution_count": 96,
   "id": "c1b0f9fc",
   "metadata": {
    "execution": {
     "iopub.execute_input": "2021-09-08T22:30:12.804484Z",
     "iopub.status.busy": "2021-09-08T22:30:12.803980Z",
     "iopub.status.idle": "2021-09-08T22:30:12.807760Z",
     "shell.execute_reply": "2021-09-08T22:30:12.807352Z"
    },
    "slideshow": {
     "slide_type": "slide"
    }
   },
   "outputs": [
    {
     "name": "stdout",
     "output_type": "stream",
     "text": [
      "[hola, lala]\n"
     ]
    }
   ],
   "source": [
    "nodo2 = Nodo(\"lala\")\n",
    "print([nodo, nodo2])"
   ]
  },
  {
   "cell_type": "code",
   "execution_count": 97,
   "id": "8fd2e5cc",
   "metadata": {
    "execution": {
     "iopub.execute_input": "2021-09-08T22:30:12.811203Z",
     "iopub.status.busy": "2021-09-08T22:30:12.810717Z",
     "iopub.status.idle": "2021-09-08T22:30:12.814429Z",
     "shell.execute_reply": "2021-09-08T22:30:12.813994Z"
    },
    "slideshow": {
     "slide_type": "slide"
    }
   },
   "outputs": [
    {
     "name": "stdout",
     "output_type": "stream",
     "text": [
      "hola\n"
     ]
    }
   ],
   "source": [
    "nodo3 = nodo.dato\n",
    "print(nodo3)"
   ]
  },
  {
   "cell_type": "markdown",
   "id": "f0244dda",
   "metadata": {
    "slideshow": {
     "slide_type": "slide"
    }
   },
   "source": [
    "### Ejemplo: Lista Enlazada"
   ]
  },
  {
   "cell_type": "code",
   "execution_count": 98,
   "id": "10178959",
   "metadata": {
    "execution": {
     "iopub.execute_input": "2021-09-08T22:30:12.822543Z",
     "iopub.status.busy": "2021-09-08T22:30:12.821965Z",
     "iopub.status.idle": "2021-09-08T22:30:12.824548Z",
     "shell.execute_reply": "2021-09-08T22:30:12.824912Z"
    },
    "slideshow": {
     "slide_type": "slide"
    }
   },
   "outputs": [],
   "source": [
    "class ListaEnlazada(object):\n",
    "    def __init__(self):\n",
    "        self._primero = None\n",
    "        self._ultimo = None\n",
    "        self._largo = 0\n",
    "\n",
    "    def __len__(self):\n",
    "        return self._largo\n",
    "\n",
    "    def insertar_al_principio(self, dato):\n",
    "        nodo = Nodo(dato, self._primero)\n",
    "        self._primero = nodo\n",
    "        self._largo += 1\n",
    "        if self._largo == 1:\n",
    "            self._ultimo = nodo\n",
    "\n",
    "    def insertar_al_final(self, dato):\n",
    "        if self._largo != 0:\n",
    "            nodo = Nodo(dato)\n",
    "            nodo_anterior = self._ultimo\n",
    "            nodo_anterior._siguiente = nodo\n",
    "            self._ultimo = nodo\n",
    "            self._largo += 1\n",
    "        else:\n",
    "            self.insertar_al_principio(dato)\n",
    "\n",
    "    @property\n",
    "    def primero(self):\n",
    "        return self._primero.dato\n",
    "\n",
    "    def borrar_primero(self):\n",
    "        dato = self.primero.dato\n",
    "        self._primero = self.primero.siguiente\n",
    "        self._largo -= 1\n",
    "        if self._largo == 0:\n",
    "            self._ultimo = None\n",
    "        return dato\n",
    "\n",
    "    def __str__(self):\n",
    "        datos = []\n",
    "        nodo_actual = self._primero\n",
    "        while nodo_actual:\n",
    "            datos.append(nodo_actual.dato)\n",
    "            nodo_actual = nodo_actual.proximo\n",
    "        return \" -> \".join(datos)\n",
    "\n",
    "    def __repr__(self):\n",
    "        return self.__str__()"
   ]
  },
  {
   "cell_type": "code",
   "execution_count": 99,
   "id": "810c5e9f",
   "metadata": {
    "execution": {
     "iopub.execute_input": "2021-09-08T22:30:12.828944Z",
     "iopub.status.busy": "2021-09-08T22:30:12.828468Z",
     "iopub.status.idle": "2021-09-08T22:30:12.832325Z",
     "shell.execute_reply": "2021-09-08T22:30:12.831883Z"
    },
    "slideshow": {
     "slide_type": "slide"
    }
   },
   "outputs": [
    {
     "data": {
      "text/plain": [
       "2"
      ]
     },
     "execution_count": 99,
     "metadata": {},
     "output_type": "execute_result"
    }
   ],
   "source": [
    "lista = ListaEnlazada()\n",
    "lista.insertar_al_principio(\"Primer Dato\")\n",
    "lista.insertar_al_principio(\"Primer primer Dato\")\n",
    "len(lista)"
   ]
  },
  {
   "cell_type": "code",
   "execution_count": 100,
   "id": "2a561ebe",
   "metadata": {
    "execution": {
     "iopub.execute_input": "2021-09-08T22:30:12.836450Z",
     "iopub.status.busy": "2021-09-08T22:30:12.835964Z",
     "iopub.status.idle": "2021-09-08T22:30:12.838336Z",
     "shell.execute_reply": "2021-09-08T22:30:12.838746Z"
    }
   },
   "outputs": [
    {
     "data": {
      "text/plain": [
       "Primer primer Dato -> Primer Dato"
      ]
     },
     "execution_count": 100,
     "metadata": {},
     "output_type": "execute_result"
    }
   ],
   "source": [
    "lista"
   ]
  },
  {
   "cell_type": "code",
   "execution_count": 101,
   "id": "3122f095",
   "metadata": {
    "execution": {
     "iopub.execute_input": "2021-09-08T22:30:12.843138Z",
     "iopub.status.busy": "2021-09-08T22:30:12.842069Z",
     "iopub.status.idle": "2021-09-08T22:30:12.844775Z",
     "shell.execute_reply": "2021-09-08T22:30:12.844366Z"
    },
    "slideshow": {
     "slide_type": "slide"
    }
   },
   "outputs": [
    {
     "name": "stdout",
     "output_type": "stream",
     "text": [
      "Primer primer Dato\n"
     ]
    }
   ],
   "source": [
    "elemento = lista.primero\n",
    "print(elemento)"
   ]
  },
  {
   "cell_type": "markdown",
   "id": "d516126c",
   "metadata": {},
   "source": [
    "## Recursos\n",
    "\n",
    "* [Taller de Python de Algoritmos II](https://github.com/algoritmos-rw/algo2_apuntes)\n",
    "\n",
    "* [Documentación de Python 3](https://docs.python.org/3/tutorial/)\n",
    "\n",
    "* [Apunte de Algoritmos y Programación I](https://algoritmos1rw.ddns.net/material)\n",
    "\n",
    "* [Automate the Boring Stuff with Python](http://automatetheboringstuff.com/)\n",
    "\n",
    "* [Curso Python](https://pythoncurso.github.io)\n",
    "\n",
    "* [Python Tutor](http://pythontutor.com/)\n",
    "\n",
    "* [Learn Python3 in Y minutes](https://learnxinyminutes.com/docs/python3/)\n",
    "\n",
    "* [Bibliografía de Algoritmos y Programación I](https://algoritmos1rw.ddns.net/bibliografia)"
   ]
  }
 ],
 "metadata": {
  "jupytext": {
   "encoding": "# -*- coding: utf-8 -*-",
   "formats": "ipynb,py:light"
  },
  "kernelspec": {
   "display_name": "Python 3 (venv)",
   "language": "python",
   "name": "python3"
  },
  "language_info": {
   "codemirror_mode": {
    "name": "ipython",
    "version": 3
   },
   "file_extension": ".py",
   "mimetype": "text/x-python",
   "name": "python",
   "nbconvert_exporter": "python",
   "pygments_lexer": "ipython3",
   "version": "3.7.11"
  }
 },
 "nbformat": 4,
 "nbformat_minor": 5
}
