{
 "cells": [
  {
   "cell_type": "markdown",
   "id": "9e076619",
   "metadata": {},
   "source": [
    "# Python"
   ]
  },
  {
   "cell_type": "markdown",
   "id": "12740b4f",
   "metadata": {
    "slideshow": {
     "slide_type": "slide"
    }
   },
   "source": [
    "## Un poco de Historia"
   ]
  },
  {
   "cell_type": "markdown",
   "id": "f3bc258d",
   "metadata": {
    "slideshow": {
     "slide_type": "subslide"
    }
   },
   "source": [
    "Python fue creado a finales de los años 80 por un programador holandés llamado **Guido van Rossum**,\n",
    "quien sigue siendo aún hoy el líder del desarrollo del lenguaje.\n",
    "\n",
    "(Edit julio 2018: [ya no más](https://www.mail-archive.com/python-committers@python.org/msg05628.html))"
   ]
  },
  {
   "cell_type": "markdown",
   "id": "16eccb03",
   "metadata": {
    "slideshow": {
     "slide_type": "subslide"
    }
   },
   "source": [
    "El nombre del lenguaje proviene de los humoristas británicos Monty Python.\n",
    "\n",
    ">*\"I chose Python as a working title for the project, being in a slightly irreverent mood (and a big fan of Monty Python's Flying Circus).\"*"
   ]
  },
  {
   "cell_type": "markdown",
   "id": "15cdc30c",
   "metadata": {
    "slideshow": {
     "slide_type": "slide"
    }
   },
   "source": [
    "## Caracteristicas\n",
    "\n",
    "- Interpretado\n",
    "- Tipado dinamico\n",
    "- Multiparadigma\n",
    "- Alto nivel\n",
    "- Tiene un recolector de basura (no hay malloc, free, realloc, etc)"
   ]
  },
  {
   "cell_type": "markdown",
   "id": "00892488",
   "metadata": {},
   "source": [
    "## ¿Cómo empezar?\n",
    "\n",
    "* Al ser un lenguaje *interpretado*, se puede ir escribiendo a medida que se ejecuta, sin necesidad de compilar de antemano! Solamente hace falta escribir `python` o `python3` en una terminal para empezar\n",
    "\n",
    "* También, permite escribir archivos y correrlos. Crear un archivo con extensión `.py` y luego correr `python miarchivo.py` en laterminal"
   ]
  },
  {
   "cell_type": "markdown",
   "id": "3802161b",
   "metadata": {
    "slideshow": {
     "slide_type": "slide"
    }
   },
   "source": [
    "## El Zen de Python"
   ]
  },
  {
   "cell_type": "code",
   "execution_count": 1,
   "id": "f5e28381",
   "metadata": {
    "execution": {
     "iopub.execute_input": "2021-11-02T15:54:35.520048Z",
     "iopub.status.busy": "2021-11-02T15:54:35.519403Z",
     "iopub.status.idle": "2021-11-02T15:54:35.542272Z",
     "shell.execute_reply": "2021-11-02T15:54:35.542903Z"
    },
    "slideshow": {
     "slide_type": "slide"
    }
   },
   "outputs": [
    {
     "name": "stdout",
     "output_type": "stream",
     "text": [
      "The Zen of Python, by Tim Peters\n",
      "\n",
      "Beautiful is better than ugly.\n",
      "Explicit is better than implicit.\n",
      "Simple is better than complex.\n",
      "Complex is better than complicated.\n",
      "Flat is better than nested.\n",
      "Sparse is better than dense.\n",
      "Readability counts.\n",
      "Special cases aren't special enough to break the rules.\n",
      "Although practicality beats purity.\n",
      "Errors should never pass silently.\n",
      "Unless explicitly silenced.\n",
      "In the face of ambiguity, refuse the temptation to guess.\n",
      "There should be one-- and preferably only one --obvious way to do it.\n",
      "Although that way may not be obvious at first unless you're Dutch.\n",
      "Now is better than never.\n",
      "Although never is often better than *right* now.\n",
      "If the implementation is hard to explain, it's a bad idea.\n",
      "If the implementation is easy to explain, it may be a good idea.\n",
      "Namespaces are one honking great idea -- let's do more of those!\n"
     ]
    }
   ],
   "source": [
    "import this"
   ]
  },
  {
   "cell_type": "markdown",
   "id": "d3f852a5",
   "metadata": {
    "slideshow": {
     "slide_type": "slide"
    }
   },
   "source": [
    "## Conocimientos Básicos de Python: Variables y Tipos"
   ]
  },
  {
   "cell_type": "code",
   "execution_count": 2,
   "id": "408883d3",
   "metadata": {
    "execution": {
     "iopub.execute_input": "2021-11-02T15:54:35.547477Z",
     "iopub.status.busy": "2021-11-02T15:54:35.546804Z",
     "iopub.status.idle": "2021-11-02T15:54:35.549673Z",
     "shell.execute_reply": "2021-11-02T15:54:35.550174Z"
    },
    "slideshow": {
     "slide_type": "slide"
    }
   },
   "outputs": [
    {
     "name": "stdout",
     "output_type": "stream",
     "text": [
      "Hello World!\n"
     ]
    }
   ],
   "source": [
    "# Este es un comentario\n",
    "\n",
    "print(\"Hello World!\")"
   ]
  },
  {
   "cell_type": "markdown",
   "id": "21b9ff84",
   "metadata": {},
   "source": [
    "Los strings en python puden escribirse tanto con comillas simples (`'`) como comillas dobles (`\"`). Normalmente vemos texto entre comillas triples para escribir _docstrings_, segun la guia de estilo de Python, el PEP8."
   ]
  },
  {
   "cell_type": "code",
   "execution_count": 3,
   "id": "5123dc19",
   "metadata": {
    "execution": {
     "iopub.execute_input": "2021-11-02T15:54:35.563133Z",
     "iopub.status.busy": "2021-11-02T15:54:35.562487Z",
     "iopub.status.idle": "2021-11-02T15:54:35.566477Z",
     "shell.execute_reply": "2021-11-02T15:54:35.566970Z"
    }
   },
   "outputs": [
    {
     "data": {
      "text/plain": [
       "'Esto es un docstring.\\n'"
      ]
     },
     "execution_count": 3,
     "metadata": {},
     "output_type": "execute_result"
    }
   ],
   "source": [
    "\"\"\"Esto es un docstring.\n",
    "\"\"\""
   ]
  },
  {
   "cell_type": "markdown",
   "id": "048e77ef",
   "metadata": {},
   "source": [
    "### Declaracion de variables"
   ]
  },
  {
   "cell_type": "code",
   "execution_count": 4,
   "id": "006f219a",
   "metadata": {
    "execution": {
     "iopub.execute_input": "2021-11-02T15:54:35.573636Z",
     "iopub.status.busy": "2021-11-02T15:54:35.572051Z",
     "iopub.status.idle": "2021-11-02T15:54:35.576089Z",
     "shell.execute_reply": "2021-11-02T15:54:35.575526Z"
    }
   },
   "outputs": [
    {
     "name": "stdout",
     "output_type": "stream",
     "text": [
      "Hola\n"
     ]
    }
   ],
   "source": [
    "string = 'Hola'\n",
    "print(string)"
   ]
  },
  {
   "cell_type": "code",
   "execution_count": 5,
   "id": "5f8a4587",
   "metadata": {
    "execution": {
     "iopub.execute_input": "2021-11-02T15:54:35.580634Z",
     "iopub.status.busy": "2021-11-02T15:54:35.579999Z",
     "iopub.status.idle": "2021-11-02T15:54:35.582629Z",
     "shell.execute_reply": "2021-11-02T15:54:35.583153Z"
    }
   },
   "outputs": [
    {
     "name": "stdout",
     "output_type": "stream",
     "text": [
      "1\n"
     ]
    }
   ],
   "source": [
    "entero = 1\n",
    "print(entero)"
   ]
  },
  {
   "cell_type": "code",
   "execution_count": 6,
   "id": "12839c78",
   "metadata": {
    "execution": {
     "iopub.execute_input": "2021-11-02T15:54:35.587733Z",
     "iopub.status.busy": "2021-11-02T15:54:35.587058Z",
     "iopub.status.idle": "2021-11-02T15:54:35.589629Z",
     "shell.execute_reply": "2021-11-02T15:54:35.590148Z"
    }
   },
   "outputs": [
    {
     "name": "stdout",
     "output_type": "stream",
     "text": [
      "1.0\n"
     ]
    }
   ],
   "source": [
    "flotante = 1.0\n",
    "print(flotante)"
   ]
  },
  {
   "cell_type": "code",
   "execution_count": 7,
   "id": "b112bc28",
   "metadata": {
    "execution": {
     "iopub.execute_input": "2021-11-02T15:54:35.595408Z",
     "iopub.status.busy": "2021-11-02T15:54:35.594736Z",
     "iopub.status.idle": "2021-11-02T15:54:35.597213Z",
     "shell.execute_reply": "2021-11-02T15:54:35.597737Z"
    }
   },
   "outputs": [
    {
     "name": "stdout",
     "output_type": "stream",
     "text": [
      "(1, 1.0)\n"
     ]
    }
   ],
   "source": [
    "tupla = (entero, flotante)\n",
    "print(tupla)"
   ]
  },
  {
   "cell_type": "code",
   "execution_count": 8,
   "id": "77c1f62b",
   "metadata": {
    "execution": {
     "iopub.execute_input": "2021-11-02T15:54:35.600801Z",
     "iopub.status.busy": "2021-11-02T15:54:35.600168Z",
     "iopub.status.idle": "2021-11-02T15:54:35.605286Z",
     "shell.execute_reply": "2021-11-02T15:54:35.604728Z"
    }
   },
   "outputs": [
    {
     "name": "stdout",
     "output_type": "stream",
     "text": [
      "(1, 1.0, 'Hola')\n"
     ]
    }
   ],
   "source": [
    "nupla = (entero, flotante, string)\n",
    "print(nupla)"
   ]
  },
  {
   "cell_type": "code",
   "execution_count": 9,
   "id": "9af7eca3",
   "metadata": {
    "execution": {
     "iopub.execute_input": "2021-11-02T15:54:35.611201Z",
     "iopub.status.busy": "2021-11-02T15:54:35.610511Z",
     "iopub.status.idle": "2021-11-02T15:54:35.613157Z",
     "shell.execute_reply": "2021-11-02T15:54:35.613898Z"
    }
   },
   "outputs": [
    {
     "name": "stdout",
     "output_type": "stream",
     "text": [
      "[1, 1.0, 'Hola']\n"
     ]
    }
   ],
   "source": [
    "lista = [entero, flotante, string]\n",
    "print(lista)"
   ]
  },
  {
   "cell_type": "code",
   "execution_count": 10,
   "id": "97e32797",
   "metadata": {
    "execution": {
     "iopub.execute_input": "2021-11-02T15:54:35.618836Z",
     "iopub.status.busy": "2021-11-02T15:54:35.618206Z",
     "iopub.status.idle": "2021-11-02T15:54:35.620854Z",
     "shell.execute_reply": "2021-11-02T15:54:35.621379Z"
    }
   },
   "outputs": [
    {
     "name": "stdout",
     "output_type": "stream",
     "text": [
      "{'1': (1, 1.0), 50: (1, 1.0, 'Hola'), '3': 1}\n"
     ]
    }
   ],
   "source": [
    "diccionario = {'1': tupla, 50: nupla, '3': entero}\n",
    "print(diccionario)"
   ]
  },
  {
   "cell_type": "code",
   "execution_count": 11,
   "id": "3f8fdfd4",
   "metadata": {
    "execution": {
     "iopub.execute_input": "2021-11-02T15:54:35.628555Z",
     "iopub.status.busy": "2021-11-02T15:54:35.627256Z",
     "iopub.status.idle": "2021-11-02T15:54:35.632680Z",
     "shell.execute_reply": "2021-11-02T15:54:35.633173Z"
    }
   },
   "outputs": [
    {
     "name": "stdout",
     "output_type": "stream",
     "text": [
      "{1, 2}\n"
     ]
    }
   ],
   "source": [
    "conjunto = set([1, 2])\n",
    "print(conjunto)"
   ]
  },
  {
   "cell_type": "code",
   "execution_count": 12,
   "id": "711c8599",
   "metadata": {
    "execution": {
     "iopub.execute_input": "2021-11-02T15:54:35.637564Z",
     "iopub.status.busy": "2021-11-02T15:54:35.636935Z",
     "iopub.status.idle": "2021-11-02T15:54:35.641825Z",
     "shell.execute_reply": "2021-11-02T15:54:35.642320Z"
    }
   },
   "outputs": [
    {
     "name": "stdout",
     "output_type": "stream",
     "text": [
      "True\n"
     ]
    }
   ],
   "source": [
    "booleano = True\n",
    "print(booleano)"
   ]
  },
  {
   "cell_type": "code",
   "execution_count": 13,
   "id": "5044acef",
   "metadata": {
    "execution": {
     "iopub.execute_input": "2021-11-02T15:54:35.646648Z",
     "iopub.status.busy": "2021-11-02T15:54:35.646020Z",
     "iopub.status.idle": "2021-11-02T15:54:35.649653Z",
     "shell.execute_reply": "2021-11-02T15:54:35.648828Z"
    }
   },
   "outputs": [
    {
     "name": "stdout",
     "output_type": "stream",
     "text": [
      "None\n"
     ]
    }
   ],
   "source": [
    "nada = None\n",
    "print(nada)"
   ]
  },
  {
   "cell_type": "markdown",
   "id": "a1244d41",
   "metadata": {},
   "source": [
    "Ojo que las variables pueden cambiar de tipo!"
   ]
  },
  {
   "cell_type": "code",
   "execution_count": 14,
   "id": "6906334e",
   "metadata": {
    "execution": {
     "iopub.execute_input": "2021-11-02T15:54:35.654893Z",
     "iopub.status.busy": "2021-11-02T15:54:35.654266Z",
     "iopub.status.idle": "2021-11-02T15:54:35.657394Z",
     "shell.execute_reply": "2021-11-02T15:54:35.656747Z"
    }
   },
   "outputs": [
    {
     "name": "stdout",
     "output_type": "stream",
     "text": [
      "1\n",
      "<class 'int'>\n"
     ]
    }
   ],
   "source": [
    "elemento = 1\n",
    "print(elemento)\n",
    "print(type(elemento))"
   ]
  },
  {
   "cell_type": "code",
   "execution_count": 15,
   "id": "e3df933d",
   "metadata": {
    "execution": {
     "iopub.execute_input": "2021-11-02T15:54:35.662832Z",
     "iopub.status.busy": "2021-11-02T15:54:35.660562Z",
     "iopub.status.idle": "2021-11-02T15:54:35.666366Z",
     "shell.execute_reply": "2021-11-02T15:54:35.667050Z"
    }
   },
   "outputs": [
    {
     "name": "stdout",
     "output_type": "stream",
     "text": [
      "1\n",
      "<class 'str'>\n"
     ]
    }
   ],
   "source": [
    "elemento = str(1)\n",
    "print(elemento)\n",
    "print(type(elemento))"
   ]
  },
  {
   "cell_type": "code",
   "execution_count": 16,
   "id": "e77191f1",
   "metadata": {
    "execution": {
     "iopub.execute_input": "2021-11-02T15:54:35.670277Z",
     "iopub.status.busy": "2021-11-02T15:54:35.669626Z",
     "iopub.status.idle": "2021-11-02T15:54:35.675226Z",
     "shell.execute_reply": "2021-11-02T15:54:35.674537Z"
    }
   },
   "outputs": [
    {
     "name": "stdout",
     "output_type": "stream",
     "text": [
      "[2]\n",
      "<class 'list'>\n"
     ]
    }
   ],
   "source": [
    "elemento = [2]\n",
    "\n",
    "print(elemento)\n",
    "print(type(elemento))"
   ]
  },
  {
   "cell_type": "markdown",
   "id": "c595e5b8",
   "metadata": {},
   "source": [
    "### Tipos basicos"
   ]
  },
  {
   "cell_type": "markdown",
   "id": "bbd335e8",
   "metadata": {
    "slideshow": {
     "slide_type": "slide"
    }
   },
   "source": [
    "#### Listas de Python"
   ]
  },
  {
   "cell_type": "code",
   "execution_count": 17,
   "id": "5b9e88eb",
   "metadata": {
    "execution": {
     "iopub.execute_input": "2021-11-02T15:54:35.680431Z",
     "iopub.status.busy": "2021-11-02T15:54:35.679783Z",
     "iopub.status.idle": "2021-11-02T15:54:35.682481Z",
     "shell.execute_reply": "2021-11-02T15:54:35.685415Z"
    }
   },
   "outputs": [
    {
     "data": {
      "text/plain": [
       "[]"
      ]
     },
     "execution_count": 17,
     "metadata": {},
     "output_type": "execute_result"
    }
   ],
   "source": [
    "lista = list()\n",
    "lista"
   ]
  },
  {
   "cell_type": "code",
   "execution_count": 18,
   "id": "4a5f4a42",
   "metadata": {
    "execution": {
     "iopub.execute_input": "2021-11-02T15:54:35.690331Z",
     "iopub.status.busy": "2021-11-02T15:54:35.689471Z",
     "iopub.status.idle": "2021-11-02T15:54:35.692407Z",
     "shell.execute_reply": "2021-11-02T15:54:35.693055Z"
    },
    "slideshow": {
     "slide_type": "slide"
    }
   },
   "outputs": [
    {
     "data": {
      "text/plain": [
       "[]"
      ]
     },
     "execution_count": 18,
     "metadata": {},
     "output_type": "execute_result"
    }
   ],
   "source": [
    "lista = []\n",
    "lista"
   ]
  },
  {
   "cell_type": "code",
   "execution_count": 19,
   "id": "9b36bd6c",
   "metadata": {
    "execution": {
     "iopub.execute_input": "2021-11-02T15:54:35.702246Z",
     "iopub.status.busy": "2021-11-02T15:54:35.701574Z",
     "iopub.status.idle": "2021-11-02T15:54:35.704463Z",
     "shell.execute_reply": "2021-11-02T15:54:35.704994Z"
    },
    "slideshow": {
     "slide_type": "slide"
    }
   },
   "outputs": [
    {
     "data": {
      "text/plain": [
       "[1, 2, 3, 4]"
      ]
     },
     "execution_count": 19,
     "metadata": {},
     "output_type": "execute_result"
    }
   ],
   "source": [
    "lista = [1, 2, 3, 4]\n",
    "lista"
   ]
  },
  {
   "cell_type": "code",
   "execution_count": 20,
   "id": "3ba7ac1b",
   "metadata": {
    "execution": {
     "iopub.execute_input": "2021-11-02T15:54:35.711857Z",
     "iopub.status.busy": "2021-11-02T15:54:35.711175Z",
     "iopub.status.idle": "2021-11-02T15:54:35.713966Z",
     "shell.execute_reply": "2021-11-02T15:54:35.714499Z"
    },
    "slideshow": {
     "slide_type": "slide"
    }
   },
   "outputs": [
    {
     "data": {
      "text/plain": [
       "[1, 2, 3, 4, 1, 'dos', 3.0]"
      ]
     },
     "execution_count": 20,
     "metadata": {},
     "output_type": "execute_result"
    }
   ],
   "source": [
    "lista.append(1)  # Inserto un 1 al final\n",
    "lista.append(\"dos\")  # Inserto un \"dos\" al final\n",
    "lista.append(3.0)  # Inserto un 3.0 al final\n",
    "lista"
   ]
  },
  {
   "cell_type": "code",
   "execution_count": 21,
   "id": "5082344f",
   "metadata": {
    "execution": {
     "iopub.execute_input": "2021-11-02T15:54:35.719478Z",
     "iopub.status.busy": "2021-11-02T15:54:35.718792Z",
     "iopub.status.idle": "2021-11-02T15:54:35.722337Z",
     "shell.execute_reply": "2021-11-02T15:54:35.721678Z"
    }
   },
   "outputs": [
    {
     "name": "stdout",
     "output_type": "stream",
     "text": [
      "[1, 2, 10, 3, 4, 1, 'dos', 3.0]\n"
     ]
    }
   ],
   "source": [
    "lista.insert(2, 10)  # Inserto en posicion 2 un 10\n",
    "print(lista)"
   ]
  },
  {
   "cell_type": "code",
   "execution_count": 22,
   "id": "c9c9c0b8",
   "metadata": {
    "execution": {
     "iopub.execute_input": "2021-11-02T15:54:35.727056Z",
     "iopub.status.busy": "2021-11-02T15:54:35.726415Z",
     "iopub.status.idle": "2021-11-02T15:54:35.729419Z",
     "shell.execute_reply": "2021-11-02T15:54:35.730045Z"
    }
   },
   "outputs": [
    {
     "data": {
      "text/plain": [
       "8"
      ]
     },
     "execution_count": 22,
     "metadata": {},
     "output_type": "execute_result"
    }
   ],
   "source": [
    "len(lista)"
   ]
  },
  {
   "cell_type": "code",
   "execution_count": 23,
   "id": "c6f420fd",
   "metadata": {
    "execution": {
     "iopub.execute_input": "2021-11-02T15:54:35.734733Z",
     "iopub.status.busy": "2021-11-02T15:54:35.734092Z",
     "iopub.status.idle": "2021-11-02T15:54:35.736819Z",
     "shell.execute_reply": "2021-11-02T15:54:35.737456Z"
    }
   },
   "outputs": [
    {
     "data": {
      "text/plain": [
       "3.0"
      ]
     },
     "execution_count": 23,
     "metadata": {},
     "output_type": "execute_result"
    }
   ],
   "source": [
    "lista.pop()"
   ]
  },
  {
   "cell_type": "code",
   "execution_count": 24,
   "id": "6a88d94a",
   "metadata": {
    "execution": {
     "iopub.execute_input": "2021-11-02T15:54:35.742883Z",
     "iopub.status.busy": "2021-11-02T15:54:35.742233Z",
     "iopub.status.idle": "2021-11-02T15:54:35.745066Z",
     "shell.execute_reply": "2021-11-02T15:54:35.745602Z"
    }
   },
   "outputs": [
    {
     "data": {
      "text/plain": [
       "[1, 2, 10, 3, 4, 1, 'dos']"
      ]
     },
     "execution_count": 24,
     "metadata": {},
     "output_type": "execute_result"
    }
   ],
   "source": [
    "lista"
   ]
  },
  {
   "cell_type": "code",
   "execution_count": 25,
   "id": "8c31c0da",
   "metadata": {
    "execution": {
     "iopub.execute_input": "2021-11-02T15:54:35.750889Z",
     "iopub.status.busy": "2021-11-02T15:54:35.750216Z",
     "iopub.status.idle": "2021-11-02T15:54:35.752995Z",
     "shell.execute_reply": "2021-11-02T15:54:35.753622Z"
    }
   },
   "outputs": [
    {
     "data": {
      "text/plain": [
       "2"
      ]
     },
     "execution_count": 25,
     "metadata": {},
     "output_type": "execute_result"
    }
   ],
   "source": [
    "lista.index(10)"
   ]
  },
  {
   "cell_type": "code",
   "execution_count": 26,
   "id": "352df679",
   "metadata": {
    "execution": {
     "iopub.execute_input": "2021-11-02T15:54:35.758493Z",
     "iopub.status.busy": "2021-11-02T15:54:35.757861Z",
     "iopub.status.idle": "2021-11-02T15:54:35.761245Z",
     "shell.execute_reply": "2021-11-02T15:54:35.761867Z"
    }
   },
   "outputs": [
    {
     "data": {
      "text/plain": [
       "[1, 2, 3, 4, 1, 'dos']"
      ]
     },
     "execution_count": 26,
     "metadata": {},
     "output_type": "execute_result"
    }
   ],
   "source": [
    "lista.remove(10)\n",
    "lista"
   ]
  },
  {
   "cell_type": "code",
   "execution_count": 27,
   "id": "e27db80d",
   "metadata": {
    "execution": {
     "iopub.execute_input": "2021-11-02T15:54:35.766028Z",
     "iopub.status.busy": "2021-11-02T15:54:35.765390Z",
     "iopub.status.idle": "2021-11-02T15:54:35.846490Z",
     "shell.execute_reply": "2021-11-02T15:54:35.847048Z"
    },
    "tags": [
     "raises-exception"
    ]
   },
   "outputs": [
    {
     "name": "stdout",
     "output_type": "stream",
     "text": [
      "1\n",
      "2\n",
      "2\n",
      "3\n",
      "3\n",
      "4\n",
      "4\n",
      "5\n",
      "1\n",
      "2\n",
      "dos\n"
     ]
    },
    {
     "ename": "TypeError",
     "evalue": "can only concatenate str (not \"int\") to str",
     "output_type": "error",
     "traceback": [
      "\u001b[0;31m---------------------------------------------------------------------------\u001b[0m",
      "\u001b[0;31mTypeError\u001b[0m                                 Traceback (most recent call last)",
      "\u001b[0;32m/tmp/ipykernel_2577/1783555086.py\u001b[0m in \u001b[0;36m<module>\u001b[0;34m\u001b[0m\n\u001b[1;32m      1\u001b[0m \u001b[0;32mfor\u001b[0m \u001b[0melemento\u001b[0m \u001b[0;32min\u001b[0m \u001b[0mlista\u001b[0m\u001b[0;34m:\u001b[0m\u001b[0;34m\u001b[0m\u001b[0;34m\u001b[0m\u001b[0m\n\u001b[1;32m      2\u001b[0m     \u001b[0mprint\u001b[0m\u001b[0;34m(\u001b[0m\u001b[0melemento\u001b[0m\u001b[0;34m)\u001b[0m\u001b[0;34m\u001b[0m\u001b[0;34m\u001b[0m\u001b[0m\n\u001b[0;32m----> 3\u001b[0;31m     \u001b[0mprint\u001b[0m\u001b[0;34m(\u001b[0m\u001b[0melemento\u001b[0m \u001b[0;34m+\u001b[0m \u001b[0;36m1\u001b[0m\u001b[0;34m)\u001b[0m\u001b[0;34m\u001b[0m\u001b[0;34m\u001b[0m\u001b[0m\n\u001b[0m",
      "\u001b[0;31mTypeError\u001b[0m: can only concatenate str (not \"int\") to str"
     ]
    }
   ],
   "source": [
    "for elemento in lista:\n",
    "    print(elemento)\n",
    "    print(elemento + 1)"
   ]
  },
  {
   "cell_type": "code",
   "execution_count": 28,
   "id": "117309ea",
   "metadata": {
    "execution": {
     "iopub.execute_input": "2021-11-02T15:54:35.854827Z",
     "iopub.status.busy": "2021-11-02T15:54:35.853390Z",
     "iopub.status.idle": "2021-11-02T15:54:35.857635Z",
     "shell.execute_reply": "2021-11-02T15:54:35.857082Z"
    }
   },
   "outputs": [
    {
     "data": {
      "text/plain": [
       "[1, 2, 3, 4, 1, 'dos']"
      ]
     },
     "execution_count": 28,
     "metadata": {},
     "output_type": "execute_result"
    }
   ],
   "source": [
    "lista"
   ]
  },
  {
   "cell_type": "code",
   "execution_count": 29,
   "id": "9b7de207",
   "metadata": {
    "execution": {
     "iopub.execute_input": "2021-11-02T15:54:35.865068Z",
     "iopub.status.busy": "2021-11-02T15:54:35.863586Z",
     "iopub.status.idle": "2021-11-02T15:54:35.867386Z",
     "shell.execute_reply": "2021-11-02T15:54:35.866810Z"
    }
   },
   "outputs": [
    {
     "name": "stdout",
     "output_type": "stream",
     "text": [
      "0-ésimo elemento: 1\n",
      "1-ésimo elemento: 2\n",
      "2-ésimo elemento: 3\n",
      "3-ésimo elemento: 4\n",
      "4-ésimo elemento: 1\n",
      "5-ésimo elemento: dos\n"
     ]
    }
   ],
   "source": [
    "for i, elemento in enumerate(lista):\n",
    "    print(f\"{i}-ésimo elemento: {elemento}\")"
   ]
  },
  {
   "cell_type": "code",
   "execution_count": 30,
   "id": "528e4a0a",
   "metadata": {
    "execution": {
     "iopub.execute_input": "2021-11-02T15:54:35.876083Z",
     "iopub.status.busy": "2021-11-02T15:54:35.875433Z",
     "iopub.status.idle": "2021-11-02T15:54:35.878573Z",
     "shell.execute_reply": "2021-11-02T15:54:35.879103Z"
    },
    "tags": [
     "raises-exception"
    ]
   },
   "outputs": [
    {
     "ename": "TypeError",
     "evalue": "'<' not supported between instances of 'str' and 'int'",
     "output_type": "error",
     "traceback": [
      "\u001b[0;31m---------------------------------------------------------------------------\u001b[0m",
      "\u001b[0;31mTypeError\u001b[0m                                 Traceback (most recent call last)",
      "\u001b[0;32m/tmp/ipykernel_2577/2266425520.py\u001b[0m in \u001b[0;36m<module>\u001b[0;34m\u001b[0m\n\u001b[0;32m----> 1\u001b[0;31m \u001b[0msorted\u001b[0m\u001b[0;34m(\u001b[0m\u001b[0mlista\u001b[0m\u001b[0;34m)\u001b[0m\u001b[0;34m\u001b[0m\u001b[0;34m\u001b[0m\u001b[0m\n\u001b[0m",
      "\u001b[0;31mTypeError\u001b[0m: '<' not supported between instances of 'str' and 'int'"
     ]
    }
   ],
   "source": [
    "sorted(lista)"
   ]
  },
  {
   "cell_type": "code",
   "execution_count": 31,
   "id": "0f75f094",
   "metadata": {
    "execution": {
     "iopub.execute_input": "2021-11-02T15:54:35.884701Z",
     "iopub.status.busy": "2021-11-02T15:54:35.883129Z",
     "iopub.status.idle": "2021-11-02T15:54:35.885384Z",
     "shell.execute_reply": "2021-11-02T15:54:35.885896Z"
    }
   },
   "outputs": [],
   "source": [
    "lista.remove(\"dos\")"
   ]
  },
  {
   "cell_type": "code",
   "execution_count": 32,
   "id": "9dfb887e",
   "metadata": {
    "execution": {
     "iopub.execute_input": "2021-11-02T15:54:35.892286Z",
     "iopub.status.busy": "2021-11-02T15:54:35.891084Z",
     "iopub.status.idle": "2021-11-02T15:54:35.894682Z",
     "shell.execute_reply": "2021-11-02T15:54:35.895226Z"
    }
   },
   "outputs": [
    {
     "data": {
      "text/plain": [
       "[1, 1, 2, 3, 4]"
      ]
     },
     "execution_count": 32,
     "metadata": {},
     "output_type": "execute_result"
    }
   ],
   "source": [
    "sorted(lista)"
   ]
  },
  {
   "cell_type": "code",
   "execution_count": 33,
   "id": "97b83801",
   "metadata": {
    "execution": {
     "iopub.execute_input": "2021-11-02T15:54:35.901453Z",
     "iopub.status.busy": "2021-11-02T15:54:35.900226Z",
     "iopub.status.idle": "2021-11-02T15:54:35.903932Z",
     "shell.execute_reply": "2021-11-02T15:54:35.904446Z"
    }
   },
   "outputs": [
    {
     "data": {
      "text/plain": [
       "[1, 1, 2, 3, 4]"
      ]
     },
     "execution_count": 33,
     "metadata": {},
     "output_type": "execute_result"
    }
   ],
   "source": [
    "lista.sort()\n",
    "lista"
   ]
  },
  {
   "cell_type": "markdown",
   "id": "3409f460",
   "metadata": {
    "slideshow": {
     "slide_type": "slide"
    }
   },
   "source": [
    "#### Tuplas de Python\n",
    "\n",
    "Las tuplas son inmutables. No se pueden agregar elementos luego de creadas."
   ]
  },
  {
   "cell_type": "code",
   "execution_count": 34,
   "id": "b8d830b8",
   "metadata": {
    "execution": {
     "iopub.execute_input": "2021-11-02T15:54:35.914107Z",
     "iopub.status.busy": "2021-11-02T15:54:35.908688Z",
     "iopub.status.idle": "2021-11-02T15:54:35.918292Z",
     "shell.execute_reply": "2021-11-02T15:54:35.917715Z"
    },
    "slideshow": {
     "slide_type": "slide"
    },
    "tags": [
     "raises-exception"
    ]
   },
   "outputs": [
    {
     "name": "stdout",
     "output_type": "stream",
     "text": [
      "(1, 2)\n",
      "1\n",
      "2\n"
     ]
    },
    {
     "ename": "TypeError",
     "evalue": "'tuple' object does not support item assignment",
     "output_type": "error",
     "traceback": [
      "\u001b[0;31m---------------------------------------------------------------------------\u001b[0m",
      "\u001b[0;31mTypeError\u001b[0m                                 Traceback (most recent call last)",
      "\u001b[0;32m/tmp/ipykernel_2577/3644040918.py\u001b[0m in \u001b[0;36m<module>\u001b[0;34m\u001b[0m\n\u001b[1;32m      5\u001b[0m \u001b[0mprint\u001b[0m\u001b[0;34m(\u001b[0m\u001b[0mtupla\u001b[0m\u001b[0;34m[\u001b[0m\u001b[0;36m1\u001b[0m\u001b[0;34m]\u001b[0m\u001b[0;34m)\u001b[0m\u001b[0;34m\u001b[0m\u001b[0;34m\u001b[0m\u001b[0m\n\u001b[1;32m      6\u001b[0m \u001b[0;34m\u001b[0m\u001b[0m\n\u001b[0;32m----> 7\u001b[0;31m \u001b[0mtupla\u001b[0m\u001b[0;34m[\u001b[0m\u001b[0;36m1\u001b[0m\u001b[0;34m]\u001b[0m \u001b[0;34m=\u001b[0m \u001b[0;36m3\u001b[0m  \u001b[0;31m# Falla. No se puede mutar\u001b[0m\u001b[0;34m\u001b[0m\u001b[0;34m\u001b[0m\u001b[0m\n\u001b[0m",
      "\u001b[0;31mTypeError\u001b[0m: 'tuple' object does not support item assignment"
     ]
    }
   ],
   "source": [
    "tupla = (1, 2)\n",
    "\n",
    "print(tupla)\n",
    "print(tupla[0])\n",
    "print(tupla[1])\n",
    "\n",
    "tupla[1] = 3  # Falla. No se puede mutar"
   ]
  },
  {
   "cell_type": "code",
   "execution_count": 35,
   "id": "7545c7f8",
   "metadata": {
    "execution": {
     "iopub.execute_input": "2021-11-02T15:54:35.924494Z",
     "iopub.status.busy": "2021-11-02T15:54:35.923292Z",
     "iopub.status.idle": "2021-11-02T15:54:35.926910Z",
     "shell.execute_reply": "2021-11-02T15:54:35.927427Z"
    }
   },
   "outputs": [
    {
     "data": {
      "text/plain": [
       "[1, 2]"
      ]
     },
     "execution_count": 35,
     "metadata": {},
     "output_type": "execute_result"
    }
   ],
   "source": [
    "l = [1, 2]\n",
    "l"
   ]
  },
  {
   "cell_type": "code",
   "execution_count": 36,
   "id": "10a75e6b",
   "metadata": {
    "execution": {
     "iopub.execute_input": "2021-11-02T15:54:35.935752Z",
     "iopub.status.busy": "2021-11-02T15:54:35.935063Z",
     "iopub.status.idle": "2021-11-02T15:54:35.939157Z",
     "shell.execute_reply": "2021-11-02T15:54:35.938607Z"
    }
   },
   "outputs": [
    {
     "data": {
      "text/plain": [
       "[1, 3]"
      ]
     },
     "execution_count": 36,
     "metadata": {},
     "output_type": "execute_result"
    }
   ],
   "source": [
    "l[1] = 3\n",
    "l"
   ]
  },
  {
   "cell_type": "markdown",
   "id": "bd35eba8",
   "metadata": {
    "slideshow": {
     "slide_type": "slide"
    }
   },
   "source": [
    "#### Diferencia entre lista y tupla\n",
    "Las listas se caracterizan por ser mutables, es decir, se puede cambiar su contenido en tiempo de ejecución, mientras que las tuplas son inmutables ya que no es posible modificar el contenido una vez creada."
   ]
  },
  {
   "cell_type": "markdown",
   "id": "a2af8bc2",
   "metadata": {},
   "source": [
    "#### Slices\n",
    "\n",
    "**Valen para listas, tuplas o strings (_segmentos_)**"
   ]
  },
  {
   "cell_type": "code",
   "execution_count": 37,
   "id": "7d854f09",
   "metadata": {
    "execution": {
     "iopub.execute_input": "2021-11-02T15:54:35.945022Z",
     "iopub.status.busy": "2021-11-02T15:54:35.943495Z",
     "iopub.status.idle": "2021-11-02T15:54:35.945718Z",
     "shell.execute_reply": "2021-11-02T15:54:35.946235Z"
    }
   },
   "outputs": [],
   "source": [
    "numeros = [0, 1, 2, 3, 4, 5, 6, 7, 8, 9, 10]"
   ]
  },
  {
   "cell_type": "code",
   "execution_count": 38,
   "id": "f4e7ddbf",
   "metadata": {
    "execution": {
     "iopub.execute_input": "2021-11-02T15:54:35.950342Z",
     "iopub.status.busy": "2021-11-02T15:54:35.949707Z",
     "iopub.status.idle": "2021-11-02T15:54:35.952387Z",
     "shell.execute_reply": "2021-11-02T15:54:35.952907Z"
    }
   },
   "outputs": [
    {
     "name": "stdout",
     "output_type": "stream",
     "text": [
      "[0, 1, 2, 3, 4, 5, 6, 7, 8, 9, 10]\n"
     ]
    }
   ],
   "source": [
    "print(numeros)"
   ]
  },
  {
   "cell_type": "code",
   "execution_count": 39,
   "id": "4d1abb90",
   "metadata": {
    "execution": {
     "iopub.execute_input": "2021-11-02T15:54:35.957334Z",
     "iopub.status.busy": "2021-11-02T15:54:35.956703Z",
     "iopub.status.idle": "2021-11-02T15:54:35.959094Z",
     "shell.execute_reply": "2021-11-02T15:54:35.959643Z"
    }
   },
   "outputs": [
    {
     "name": "stdout",
     "output_type": "stream",
     "text": [
      "2\n"
     ]
    }
   ],
   "source": [
    "print(numeros[2])  # Imprimo elemento en la posición 2"
   ]
  },
  {
   "cell_type": "code",
   "execution_count": 40,
   "id": "f6be8637",
   "metadata": {
    "execution": {
     "iopub.execute_input": "2021-11-02T15:54:35.965808Z",
     "iopub.status.busy": "2021-11-02T15:54:35.965172Z",
     "iopub.status.idle": "2021-11-02T15:54:35.969143Z",
     "shell.execute_reply": "2021-11-02T15:54:35.969653Z"
    }
   },
   "outputs": [
    {
     "data": {
      "text/plain": [
       "10"
      ]
     },
     "execution_count": 40,
     "metadata": {},
     "output_type": "execute_result"
    }
   ],
   "source": [
    "numeros[len(numeros) - 1]"
   ]
  },
  {
   "cell_type": "code",
   "execution_count": 41,
   "id": "639f96e1",
   "metadata": {
    "execution": {
     "iopub.execute_input": "2021-11-02T15:54:35.974298Z",
     "iopub.status.busy": "2021-11-02T15:54:35.973679Z",
     "iopub.status.idle": "2021-11-02T15:54:35.976065Z",
     "shell.execute_reply": "2021-11-02T15:54:35.976582Z"
    },
    "lines_to_next_cell": 2
   },
   "outputs": [
    {
     "name": "stdout",
     "output_type": "stream",
     "text": [
      "10\n"
     ]
    }
   ],
   "source": [
    "print(numeros[-1])  # # Imprimo elemento en la última posición"
   ]
  },
  {
   "cell_type": "code",
   "execution_count": 42,
   "id": "79e8e64e",
   "metadata": {
    "execution": {
     "iopub.execute_input": "2021-11-02T15:54:35.981244Z",
     "iopub.status.busy": "2021-11-02T15:54:35.980562Z",
     "iopub.status.idle": "2021-11-02T15:54:35.984421Z",
     "shell.execute_reply": "2021-11-02T15:54:35.983883Z"
    },
    "lines_to_next_cell": 2
   },
   "outputs": [
    {
     "data": {
      "text/plain": [
       "9"
      ]
     },
     "execution_count": 42,
     "metadata": {},
     "output_type": "execute_result"
    }
   ],
   "source": [
    "numeros[-2]"
   ]
  },
  {
   "cell_type": "code",
   "execution_count": 43,
   "id": "1c015ecb",
   "metadata": {
    "execution": {
     "iopub.execute_input": "2021-11-02T15:54:35.989512Z",
     "iopub.status.busy": "2021-11-02T15:54:35.988890Z",
     "iopub.status.idle": "2021-11-02T15:54:35.991387Z",
     "shell.execute_reply": "2021-11-02T15:54:35.991903Z"
    }
   },
   "outputs": [
    {
     "name": "stdout",
     "output_type": "stream",
     "text": [
      "[0, 1, 2]\n"
     ]
    }
   ],
   "source": [
    "print(numeros[0:3])  # Imprimo de la pos 0 a la pos 2"
   ]
  },
  {
   "cell_type": "code",
   "execution_count": 44,
   "id": "f2a2949d",
   "metadata": {
    "execution": {
     "iopub.execute_input": "2021-11-02T15:54:35.996300Z",
     "iopub.status.busy": "2021-11-02T15:54:35.995678Z",
     "iopub.status.idle": "2021-11-02T15:54:35.998021Z",
     "shell.execute_reply": "2021-11-02T15:54:35.998531Z"
    }
   },
   "outputs": [
    {
     "name": "stdout",
     "output_type": "stream",
     "text": [
      "[7, 8]\n"
     ]
    }
   ],
   "source": [
    "print(numeros[-4:-2])"
   ]
  },
  {
   "cell_type": "code",
   "execution_count": 45,
   "id": "52a56870",
   "metadata": {
    "execution": {
     "iopub.execute_input": "2021-11-02T15:54:36.003095Z",
     "iopub.status.busy": "2021-11-02T15:54:36.002478Z",
     "iopub.status.idle": "2021-11-02T15:54:36.004859Z",
     "shell.execute_reply": "2021-11-02T15:54:36.005371Z"
    }
   },
   "outputs": [
    {
     "name": "stdout",
     "output_type": "stream",
     "text": [
      "[0, 1, 2, 3, 4, 5, 6, 7, 8, 9, 10]\n"
     ]
    }
   ],
   "source": [
    "print(numeros[0:80])"
   ]
  },
  {
   "cell_type": "code",
   "execution_count": 46,
   "id": "849ae5d4",
   "metadata": {
    "execution": {
     "iopub.execute_input": "2021-11-02T15:54:36.009702Z",
     "iopub.status.busy": "2021-11-02T15:54:36.009079Z",
     "iopub.status.idle": "2021-11-02T15:54:36.012115Z",
     "shell.execute_reply": "2021-11-02T15:54:36.012664Z"
    }
   },
   "outputs": [
    {
     "name": "stdout",
     "output_type": "stream",
     "text": [
      "[0, 1, 2]\n"
     ]
    }
   ],
   "source": [
    "print(numeros[:3])"
   ]
  },
  {
   "cell_type": "code",
   "execution_count": 47,
   "id": "855d0153",
   "metadata": {
    "execution": {
     "iopub.execute_input": "2021-11-02T15:54:36.017021Z",
     "iopub.status.busy": "2021-11-02T15:54:36.016391Z",
     "iopub.status.idle": "2021-11-02T15:54:36.018744Z",
     "shell.execute_reply": "2021-11-02T15:54:36.019297Z"
    }
   },
   "outputs": [
    {
     "name": "stdout",
     "output_type": "stream",
     "text": [
      "[3, 4, 5, 6, 7, 8, 9, 10]\n"
     ]
    }
   ],
   "source": [
    "print(numeros[3:])"
   ]
  },
  {
   "cell_type": "code",
   "execution_count": 48,
   "id": "67d9be6d",
   "metadata": {
    "execution": {
     "iopub.execute_input": "2021-11-02T15:54:36.023755Z",
     "iopub.status.busy": "2021-11-02T15:54:36.023109Z",
     "iopub.status.idle": "2021-11-02T15:54:36.025476Z",
     "shell.execute_reply": "2021-11-02T15:54:36.025990Z"
    }
   },
   "outputs": [
    {
     "name": "stdout",
     "output_type": "stream",
     "text": [
      "[0, 2, 4, 6, 8]\n"
     ]
    }
   ],
   "source": [
    "print(numeros[0:10:2])"
   ]
  },
  {
   "cell_type": "markdown",
   "id": "6f377953",
   "metadata": {},
   "source": [
    "```python\n",
    "lista[<inicio>:<final>:<step>]\n",
    "```"
   ]
  },
  {
   "cell_type": "code",
   "execution_count": 49,
   "id": "82872a01",
   "metadata": {
    "execution": {
     "iopub.execute_input": "2021-11-02T15:54:36.031080Z",
     "iopub.status.busy": "2021-11-02T15:54:36.030448Z",
     "iopub.status.idle": "2021-11-02T15:54:36.033302Z",
     "shell.execute_reply": "2021-11-02T15:54:36.033849Z"
    },
    "lines_to_next_cell": 2
   },
   "outputs": [
    {
     "data": {
      "text/plain": [
       "[1, 2, 3, 4]"
      ]
     },
     "execution_count": 49,
     "metadata": {},
     "output_type": "execute_result"
    }
   ],
   "source": [
    "l1 = [1, 2]\n",
    "l2 = [3, 4]\n",
    "l1 + l2"
   ]
  },
  {
   "cell_type": "code",
   "execution_count": 50,
   "id": "b95d248a",
   "metadata": {
    "execution": {
     "iopub.execute_input": "2021-11-02T15:54:36.038404Z",
     "iopub.status.busy": "2021-11-02T15:54:36.037783Z",
     "iopub.status.idle": "2021-11-02T15:54:36.040174Z",
     "shell.execute_reply": "2021-11-02T15:54:36.040689Z"
    }
   },
   "outputs": [
    {
     "name": "stdout",
     "output_type": "stream",
     "text": [
      "[0, 1, 2, 3, 4, 5, 6, 'siete', 8, 9, 10]\n"
     ]
    }
   ],
   "source": [
    "numeros[7] = 'siete'  # Las listas se pueden mutar\n",
    "print(numeros)"
   ]
  },
  {
   "cell_type": "code",
   "execution_count": 51,
   "id": "83bb627c",
   "metadata": {
    "execution": {
     "iopub.execute_input": "2021-11-02T15:54:36.044626Z",
     "iopub.status.busy": "2021-11-02T15:54:36.044008Z",
     "iopub.status.idle": "2021-11-02T15:54:36.047809Z",
     "shell.execute_reply": "2021-11-02T15:54:36.047140Z"
    }
   },
   "outputs": [
    {
     "name": "stdout",
     "output_type": "stream",
     "text": [
      "[10, 9, 8, 'siete', 6, 5, 4, 3, 2, 1, 0]\n"
     ]
    }
   ],
   "source": [
    "numeros = numeros[::-1]\n",
    "print(numeros)"
   ]
  },
  {
   "cell_type": "code",
   "execution_count": 52,
   "id": "a696fd36",
   "metadata": {
    "execution": {
     "iopub.execute_input": "2021-11-02T15:54:36.051895Z",
     "iopub.status.busy": "2021-11-02T15:54:36.051131Z",
     "iopub.status.idle": "2021-11-02T15:54:36.058253Z",
     "shell.execute_reply": "2021-11-02T15:54:36.058808Z"
    },
    "tags": [
     "raises-exception"
    ]
   },
   "outputs": [
    {
     "ename": "IndexError",
     "evalue": "list index out of range",
     "output_type": "error",
     "traceback": [
      "\u001b[0;31m---------------------------------------------------------------------------\u001b[0m",
      "\u001b[0;31mIndexError\u001b[0m                                Traceback (most recent call last)",
      "\u001b[0;32m/tmp/ipykernel_2577/1255736182.py\u001b[0m in \u001b[0;36m<module>\u001b[0;34m\u001b[0m\n\u001b[0;32m----> 1\u001b[0;31m \u001b[0mprint\u001b[0m\u001b[0;34m(\u001b[0m\u001b[0mnumeros\u001b[0m\u001b[0;34m[\u001b[0m\u001b[0;36m15\u001b[0m\u001b[0;34m]\u001b[0m\u001b[0;34m)\u001b[0m  \u001b[0;31m# Falla. No se puede acceder a una posición inexistente\u001b[0m\u001b[0;34m\u001b[0m\u001b[0;34m\u001b[0m\u001b[0m\n\u001b[0m",
      "\u001b[0;31mIndexError\u001b[0m: list index out of range"
     ]
    }
   ],
   "source": [
    "print(numeros[15])  # Falla. No se puede acceder a una posición inexistente"
   ]
  },
  {
   "cell_type": "code",
   "execution_count": 53,
   "id": "02a718d2",
   "metadata": {
    "execution": {
     "iopub.execute_input": "2021-11-02T15:54:36.064948Z",
     "iopub.status.busy": "2021-11-02T15:54:36.064296Z",
     "iopub.status.idle": "2021-11-02T15:54:36.069927Z",
     "shell.execute_reply": "2021-11-02T15:54:36.070424Z"
    }
   },
   "outputs": [
    {
     "name": "stdout",
     "output_type": "stream",
     "text": [
      "palabra"
     ]
    },
    {
     "name": "stdout",
     "output_type": "stream",
     "text": [
      "\n",
      "a\n",
      "pal\n",
      "abra\n"
     ]
    }
   ],
   "source": [
    "palabra = 'palabra'\n",
    "print(palabra)\n",
    "print(palabra[3])\n",
    "print(palabra[:3])\n",
    "print(palabra[3:])"
   ]
  },
  {
   "cell_type": "code",
   "execution_count": 54,
   "id": "8492419e",
   "metadata": {
    "execution": {
     "iopub.execute_input": "2021-11-02T15:54:36.075252Z",
     "iopub.status.busy": "2021-11-02T15:54:36.074587Z",
     "iopub.status.idle": "2021-11-02T15:54:36.077888Z",
     "shell.execute_reply": "2021-11-02T15:54:36.078543Z"
    }
   },
   "outputs": [
    {
     "name": "stdout",
     "output_type": "stream",
     "text": [
      "(0, 1, 2, 3, 4)\n",
      "(0, 1)\n",
      "(2, 3, 4)\n"
     ]
    }
   ],
   "source": [
    "tupla = (0, 1, 2, 3, 4)\n",
    "\n",
    "print(tupla)\n",
    "print(tupla[:2])\n",
    "print(tupla[2:])"
   ]
  },
  {
   "cell_type": "markdown",
   "id": "8981eeb3",
   "metadata": {
    "slideshow": {
     "slide_type": "slide"
    }
   },
   "source": [
    "#### Diccionarios de Python\n",
    "\n",
    "Son como hashmaps, las claves deben ser inmutables para que no pierda sentido el diccionario. Si se pudieran modificar, se podrían cambiar las claves y generaría conflictos.\n",
    "\n",
    "Tipos mutables:\n",
    "- Listas\n",
    "- Diccionarios\n",
    "- Sets\n",
    "\n",
    "Tipos inmutables:\n",
    "- Int\n",
    "- Float\n",
    "- String\n",
    "- Tuplas\n"
   ]
  },
  {
   "cell_type": "code",
   "execution_count": 55,
   "id": "c84fb48b",
   "metadata": {
    "execution": {
     "iopub.execute_input": "2021-11-02T15:54:36.084022Z",
     "iopub.status.busy": "2021-11-02T15:54:36.083383Z",
     "iopub.status.idle": "2021-11-02T15:54:36.086128Z",
     "shell.execute_reply": "2021-11-02T15:54:36.086649Z"
    },
    "slideshow": {
     "slide_type": "slide"
    }
   },
   "outputs": [
    {
     "data": {
      "text/plain": [
       "{}"
      ]
     },
     "execution_count": 55,
     "metadata": {},
     "output_type": "execute_result"
    }
   ],
   "source": [
    "diccionario = {}\n",
    "diccionario"
   ]
  },
  {
   "cell_type": "code",
   "execution_count": 56,
   "id": "128ec3cf",
   "metadata": {
    "execution": {
     "iopub.execute_input": "2021-11-02T15:54:36.091241Z",
     "iopub.status.busy": "2021-11-02T15:54:36.090584Z",
     "iopub.status.idle": "2021-11-02T15:54:36.093913Z",
     "shell.execute_reply": "2021-11-02T15:54:36.094468Z"
    }
   },
   "outputs": [
    {
     "data": {
      "text/plain": [
       "{}"
      ]
     },
     "execution_count": 56,
     "metadata": {},
     "output_type": "execute_result"
    }
   ],
   "source": [
    "diccionario = dict()\n",
    "diccionario"
   ]
  },
  {
   "cell_type": "code",
   "execution_count": 57,
   "id": "aeb300ab",
   "metadata": {
    "execution": {
     "iopub.execute_input": "2021-11-02T15:54:36.098849Z",
     "iopub.status.busy": "2021-11-02T15:54:36.098146Z",
     "iopub.status.idle": "2021-11-02T15:54:36.101240Z",
     "shell.execute_reply": "2021-11-02T15:54:36.101836Z"
    },
    "slideshow": {
     "slide_type": "slide"
    }
   },
   "outputs": [
    {
     "name": "stdout",
     "output_type": "stream",
     "text": [
      "{'clave1': 'valor1', 2: 'valor2', 'clave3': 3}\n"
     ]
    }
   ],
   "source": [
    "# Cómo agregar cosas al diccionario\n",
    "diccionario['clave1'] = 'valor1'\n",
    "diccionario[2] = 'valor2'\n",
    "diccionario['clave3'] = 3\n",
    "print(diccionario)"
   ]
  },
  {
   "cell_type": "markdown",
   "id": "767d1efc",
   "metadata": {},
   "source": [
    "Hay dos formas de obtener valores de un diccionario:\n",
    "\n",
    "```python\n",
    "diccionario[clave]\n",
    "```\n",
    "\n",
    "El cual devuelve el valor si existe la clave suministrada o bien lanza `KeyError` si no existe."
   ]
  },
  {
   "cell_type": "code",
   "execution_count": 58,
   "id": "75a87a59",
   "metadata": {
    "execution": {
     "iopub.execute_input": "2021-11-02T15:54:36.106526Z",
     "iopub.status.busy": "2021-11-02T15:54:36.105898Z",
     "iopub.status.idle": "2021-11-02T15:54:36.108577Z",
     "shell.execute_reply": "2021-11-02T15:54:36.109195Z"
    }
   },
   "outputs": [
    {
     "data": {
      "text/plain": [
       "'valor1'"
      ]
     },
     "execution_count": 58,
     "metadata": {},
     "output_type": "execute_result"
    }
   ],
   "source": [
    "diccionario['clave1']"
   ]
  },
  {
   "cell_type": "code",
   "execution_count": 59,
   "id": "3455187c",
   "metadata": {
    "execution": {
     "iopub.execute_input": "2021-11-02T15:54:36.117596Z",
     "iopub.status.busy": "2021-11-02T15:54:36.115445Z",
     "iopub.status.idle": "2021-11-02T15:54:36.120151Z",
     "shell.execute_reply": "2021-11-02T15:54:36.120691Z"
    },
    "tags": [
     "raises-exception"
    ]
   },
   "outputs": [
    {
     "ename": "KeyError",
     "evalue": "'clave1000'",
     "output_type": "error",
     "traceback": [
      "\u001b[0;31m---------------------------------------------------------------------------\u001b[0m",
      "\u001b[0;31mKeyError\u001b[0m                                  Traceback (most recent call last)",
      "\u001b[0;32m/tmp/ipykernel_2577/3541524662.py\u001b[0m in \u001b[0;36m<module>\u001b[0;34m\u001b[0m\n\u001b[0;32m----> 1\u001b[0;31m \u001b[0mdiccionario\u001b[0m\u001b[0;34m[\u001b[0m\u001b[0;34m'clave1000'\u001b[0m\u001b[0;34m]\u001b[0m\u001b[0;34m\u001b[0m\u001b[0;34m\u001b[0m\u001b[0m\n\u001b[0m",
      "\u001b[0;31mKeyError\u001b[0m: 'clave1000'"
     ]
    }
   ],
   "source": [
    "diccionario['clave1000']"
   ]
  },
  {
   "cell_type": "markdown",
   "id": "10104d72",
   "metadata": {},
   "source": [
    "La segunda forma es con `get`:"
   ]
  },
  {
   "cell_type": "code",
   "execution_count": 60,
   "id": "98eb56df",
   "metadata": {
    "execution": {
     "iopub.execute_input": "2021-11-02T15:54:36.153897Z",
     "iopub.status.busy": "2021-11-02T15:54:36.143798Z",
     "iopub.status.idle": "2021-11-02T15:54:36.186060Z",
     "shell.execute_reply": "2021-11-02T15:54:36.185487Z"
    }
   },
   "outputs": [],
   "source": [
    "diccionario.get?"
   ]
  },
  {
   "cell_type": "code",
   "execution_count": 61,
   "id": "845fe432",
   "metadata": {
    "execution": {
     "iopub.execute_input": "2021-11-02T15:54:36.191316Z",
     "iopub.status.busy": "2021-11-02T15:54:36.188889Z",
     "iopub.status.idle": "2021-11-02T15:54:36.194605Z",
     "shell.execute_reply": "2021-11-02T15:54:36.193751Z"
    }
   },
   "outputs": [
    {
     "name": "stdout",
     "output_type": "stream",
     "text": [
      "Help on built-in function get:\n",
      "\n",
      "get(key, default=None, /) method of builtins.dict instance\n",
      "    Return the value for key if key is in the dictionary, else default.\n",
      "\n"
     ]
    }
   ],
   "source": [
    "help(diccionario.get)"
   ]
  },
  {
   "cell_type": "code",
   "execution_count": 62,
   "id": "ef1f4d79",
   "metadata": {
    "execution": {
     "iopub.execute_input": "2021-11-02T15:54:36.197664Z",
     "iopub.status.busy": "2021-11-02T15:54:36.197044Z",
     "iopub.status.idle": "2021-11-02T15:54:36.201548Z",
     "shell.execute_reply": "2021-11-02T15:54:36.202092Z"
    },
    "slideshow": {
     "slide_type": "slide"
    }
   },
   "outputs": [
    {
     "name": "stdout",
     "output_type": "stream",
     "text": [
      "None\n"
     ]
    }
   ],
   "source": [
    "print(diccionario.get('clave1000'))"
   ]
  },
  {
   "cell_type": "code",
   "execution_count": 63,
   "id": "8d7acd92",
   "metadata": {
    "execution": {
     "iopub.execute_input": "2021-11-02T15:54:36.208414Z",
     "iopub.status.busy": "2021-11-02T15:54:36.206876Z",
     "iopub.status.idle": "2021-11-02T15:54:36.210704Z",
     "shell.execute_reply": "2021-11-02T15:54:36.210163Z"
    },
    "slideshow": {
     "slide_type": "slide"
    }
   },
   "outputs": [
    {
     "name": "stdout",
     "output_type": "stream",
     "text": [
      "True\n"
     ]
    }
   ],
   "source": [
    "print('clave1' in diccionario)  # Verifico si la clave está en el diccionario"
   ]
  },
  {
   "cell_type": "code",
   "execution_count": 64,
   "id": "aac3103f",
   "metadata": {
    "execution": {
     "iopub.execute_input": "2021-11-02T15:54:36.217723Z",
     "iopub.status.busy": "2021-11-02T15:54:36.216553Z",
     "iopub.status.idle": "2021-11-02T15:54:36.220620Z",
     "shell.execute_reply": "2021-11-02T15:54:36.221135Z"
    }
   },
   "outputs": [
    {
     "data": {
      "text/plain": [
       "True"
      ]
     },
     "execution_count": 64,
     "metadata": {},
     "output_type": "execute_result"
    }
   ],
   "source": [
    "l = [1, 2, 3, 4]\n",
    "2 in l"
   ]
  },
  {
   "cell_type": "code",
   "execution_count": 65,
   "id": "4ca9e468",
   "metadata": {
    "execution": {
     "iopub.execute_input": "2021-11-02T15:54:36.227513Z",
     "iopub.status.busy": "2021-11-02T15:54:36.226032Z",
     "iopub.status.idle": "2021-11-02T15:54:36.229790Z",
     "shell.execute_reply": "2021-11-02T15:54:36.229244Z"
    }
   },
   "outputs": [
    {
     "name": "stdout",
     "output_type": "stream",
     "text": [
      "la clave es clave1 y el valor es valor1\n",
      "la clave es 2 y el valor es valor2\n",
      "la clave es clave3 y el valor es 3\n"
     ]
    }
   ],
   "source": [
    "for clave, valor in diccionario.items():\n",
    "    print(\"la clave es %s y el valor es %s\" % (clave, valor))"
   ]
  },
  {
   "cell_type": "code",
   "execution_count": 66,
   "id": "4cd72e4f",
   "metadata": {
    "execution": {
     "iopub.execute_input": "2021-11-02T15:54:36.237995Z",
     "iopub.status.busy": "2021-11-02T15:54:36.234214Z",
     "iopub.status.idle": "2021-11-02T15:54:36.240751Z",
     "shell.execute_reply": "2021-11-02T15:54:36.241280Z"
    }
   },
   "outputs": [
    {
     "name": "stdout",
     "output_type": "stream",
     "text": [
      "la clave es clave1 y el valor es valor1\n",
      "la clave es 2 y el valor es valor2\n",
      "la clave es clave3 y el valor es 3\n"
     ]
    }
   ],
   "source": [
    "for clave, valor in diccionario.items():\n",
    "    print(\"la clave es {} y el valor es {}\".format(clave, valor))"
   ]
  },
  {
   "cell_type": "code",
   "execution_count": 67,
   "id": "437312a7",
   "metadata": {
    "execution": {
     "iopub.execute_input": "2021-11-02T15:54:36.248634Z",
     "iopub.status.busy": "2021-11-02T15:54:36.247090Z",
     "iopub.status.idle": "2021-11-02T15:54:36.250952Z",
     "shell.execute_reply": "2021-11-02T15:54:36.250397Z"
    },
    "slideshow": {
     "slide_type": "slide"
    }
   },
   "outputs": [
    {
     "name": "stdout",
     "output_type": "stream",
     "text": [
      "la clave es clave1 y el valor es valor1\n",
      "la clave es 2 y el valor es valor2\n",
      "la clave es clave3 y el valor es 3\n"
     ]
    }
   ],
   "source": [
    "# Cómo iterar un diccionario elemento por elemento\n",
    "for (\n",
    "    clave,\n",
    "    valor,\n",
    ") in (\n",
    "    diccionario.items()\n",
    "):  # diccionario.items() va devolviendo tuplas con el formato (clave,valor)\n",
    "    print(\n",
    "        f\"la clave es {clave} y el valor es {valor}\"\n",
    "    )  # con esta sintaxis se desempaquetan en clave y valor (similar a enumerate)"
   ]
  },
  {
   "cell_type": "code",
   "execution_count": 68,
   "id": "974b22b2",
   "metadata": {
    "execution": {
     "iopub.execute_input": "2021-11-02T15:54:36.257902Z",
     "iopub.status.busy": "2021-11-02T15:54:36.256373Z",
     "iopub.status.idle": "2021-11-02T15:54:36.260239Z",
     "shell.execute_reply": "2021-11-02T15:54:36.259682Z"
    },
    "slideshow": {
     "slide_type": "slide"
    }
   },
   "outputs": [
    {
     "name": "stdout",
     "output_type": "stream",
     "text": [
      "clave1\n",
      "2\n",
      "clave3\n"
     ]
    }
   ],
   "source": [
    "for clave in diccionario.keys():\n",
    "    print(clave)"
   ]
  },
  {
   "cell_type": "code",
   "execution_count": 69,
   "id": "d18ab20f",
   "metadata": {
    "execution": {
     "iopub.execute_input": "2021-11-02T15:54:36.267505Z",
     "iopub.status.busy": "2021-11-02T15:54:36.265948Z",
     "iopub.status.idle": "2021-11-02T15:54:36.269904Z",
     "shell.execute_reply": "2021-11-02T15:54:36.269342Z"
    },
    "slideshow": {
     "slide_type": "slide"
    }
   },
   "outputs": [
    {
     "name": "stdout",
     "output_type": "stream",
     "text": [
      "valor1\n",
      "valor2\n",
      "3\n"
     ]
    }
   ],
   "source": [
    "for valor in diccionario.values():\n",
    "    print(valor)"
   ]
  },
  {
   "cell_type": "markdown",
   "id": "a3ab07ed",
   "metadata": {},
   "source": [
    "#### Sets\n",
    "\n",
    "Son similares a los diccionarios (en eficiencia) pero se almacenan solo claves, y tienen algunas operaciones particulares.\n",
    "\n",
    "En particular, no pueden tener elementos iguales (pensar que son conjuntos)"
   ]
  },
  {
   "cell_type": "code",
   "execution_count": 70,
   "id": "8bff715e",
   "metadata": {
    "execution": {
     "iopub.execute_input": "2021-11-02T15:54:36.274779Z",
     "iopub.status.busy": "2021-11-02T15:54:36.274089Z",
     "iopub.status.idle": "2021-11-02T15:54:36.278650Z",
     "shell.execute_reply": "2021-11-02T15:54:36.279163Z"
    }
   },
   "outputs": [],
   "source": [
    "set??"
   ]
  },
  {
   "cell_type": "code",
   "execution_count": 71,
   "id": "5d0c414e",
   "metadata": {
    "execution": {
     "iopub.execute_input": "2021-11-02T15:54:36.285567Z",
     "iopub.status.busy": "2021-11-02T15:54:36.284388Z",
     "iopub.status.idle": "2021-11-02T15:54:36.288133Z",
     "shell.execute_reply": "2021-11-02T15:54:36.288711Z"
    }
   },
   "outputs": [
    {
     "data": {
      "text/plain": [
       "{1, 2, 3}"
      ]
     },
     "execution_count": 71,
     "metadata": {},
     "output_type": "execute_result"
    }
   ],
   "source": [
    "# Se definen como los diccionarios pero sin hacerlos 'clave:valor', solamente una seguidilla de elementos\n",
    "{1, 2, 2, 3}"
   ]
  },
  {
   "cell_type": "code",
   "execution_count": 72,
   "id": "98740428",
   "metadata": {
    "execution": {
     "iopub.execute_input": "2021-11-02T15:54:36.295135Z",
     "iopub.status.busy": "2021-11-02T15:54:36.293916Z",
     "iopub.status.idle": "2021-11-02T15:54:36.298108Z",
     "shell.execute_reply": "2021-11-02T15:54:36.297549Z"
    }
   },
   "outputs": [
    {
     "data": {
      "text/plain": [
       "{1, 2, 3}"
      ]
     },
     "execution_count": 72,
     "metadata": {},
     "output_type": "execute_result"
    }
   ],
   "source": [
    "set([1, 2, 2, 3])"
   ]
  },
  {
   "cell_type": "markdown",
   "id": "b008638b",
   "metadata": {},
   "source": [
    "## Condicionales (if...elif...else)\n",
    "\n",
    "```python\n",
    "if <condición_1>:\n",
    "    <hacer algo_1 si se da la condición_1>\n",
    "elif <condición_2>:\n",
    "    <hacer algo_2 si se da la condición_2>\n",
    "...\n",
    "elif <condición_n>:\n",
    "    <hacer algo_n si se da la condición_n>\n",
    "else:\n",
    "    <hacer otra cosa si no dan las anteriores>\n",
    "```\n",
    "\n",
    "Algo importante para notar es que los bloques se definen por **niveles de identacion**."
   ]
  },
  {
   "cell_type": "code",
   "execution_count": 73,
   "id": "42052eeb",
   "metadata": {
    "execution": {
     "iopub.execute_input": "2021-11-02T15:54:36.302760Z",
     "iopub.status.busy": "2021-11-02T15:54:36.302056Z",
     "iopub.status.idle": "2021-11-02T15:54:36.305863Z",
     "shell.execute_reply": "2021-11-02T15:54:36.305220Z"
    }
   },
   "outputs": [
    {
     "name": "stdout",
     "output_type": "stream",
     "text": [
      "uno\n"
     ]
    }
   ],
   "source": [
    "v = 1\n",
    "if v == 1:\n",
    "    print(\"uno\")\n",
    "elif v == 2:\n",
    "    print(\"dos\")\n",
    "else:\n",
    "    print(\"ni idea\")\n",
    "    print(v)"
   ]
  },
  {
   "cell_type": "markdown",
   "id": "f0ecc3b7",
   "metadata": {},
   "source": [
    "## Iteraciones\n",
    "\n",
    "```python\n",
    "while cond:\n",
    "    <codigo>\n",
    "```\n",
    "\n",
    "```python\n",
    "for elemento in iterable:\n",
    "    <codigo>\n",
    "```\n",
    "\n",
    "Para iterar sobre un rango de valores, usamos `range`"
   ]
  },
  {
   "cell_type": "code",
   "execution_count": 74,
   "id": "3c93cf7f",
   "metadata": {
    "execution": {
     "iopub.execute_input": "2021-11-02T15:54:36.309904Z",
     "iopub.status.busy": "2021-11-02T15:54:36.309270Z",
     "iopub.status.idle": "2021-11-02T15:54:36.314150Z",
     "shell.execute_reply": "2021-11-02T15:54:36.312965Z"
    }
   },
   "outputs": [
    {
     "name": "stdout",
     "output_type": "stream",
     "text": [
      "1\n",
      "4\n",
      "7\n",
      "10\n"
     ]
    }
   ],
   "source": [
    "for i in range(1, 11, 3):\n",
    "    print(i)"
   ]
  },
  {
   "cell_type": "markdown",
   "id": "fbcda4b3",
   "metadata": {},
   "source": [
    "## Operadores logicos\n",
    "\n",
    "`not`, `or`, `and`"
   ]
  },
  {
   "cell_type": "code",
   "execution_count": 75,
   "id": "198efe78",
   "metadata": {
    "execution": {
     "iopub.execute_input": "2021-11-02T15:54:36.318640Z",
     "iopub.status.busy": "2021-11-02T15:54:36.318007Z",
     "iopub.status.idle": "2021-11-02T15:54:36.320418Z",
     "shell.execute_reply": "2021-11-02T15:54:36.320944Z"
    }
   },
   "outputs": [
    {
     "name": "stdout",
     "output_type": "stream",
     "text": [
      "yay\n"
     ]
    }
   ],
   "source": [
    "if True or False:\n",
    "    print(\"yay\")"
   ]
  },
  {
   "cell_type": "code",
   "execution_count": 76,
   "id": "955bd9ea",
   "metadata": {
    "execution": {
     "iopub.execute_input": "2021-11-02T15:54:36.325549Z",
     "iopub.status.busy": "2021-11-02T15:54:36.324922Z",
     "iopub.status.idle": "2021-11-02T15:54:36.327630Z",
     "shell.execute_reply": "2021-11-02T15:54:36.328252Z"
    }
   },
   "outputs": [
    {
     "data": {
      "text/plain": [
       "False"
      ]
     },
     "execution_count": 76,
     "metadata": {},
     "output_type": "execute_result"
    }
   ],
   "source": [
    "1 == 2"
   ]
  },
  {
   "cell_type": "code",
   "execution_count": 77,
   "id": "93e6d5cd",
   "metadata": {
    "execution": {
     "iopub.execute_input": "2021-11-02T15:54:36.332802Z",
     "iopub.status.busy": "2021-11-02T15:54:36.332172Z",
     "iopub.status.idle": "2021-11-02T15:54:36.335634Z",
     "shell.execute_reply": "2021-11-02T15:54:36.336166Z"
    }
   },
   "outputs": [
    {
     "data": {
      "text/plain": [
       "True"
      ]
     },
     "execution_count": 77,
     "metadata": {},
     "output_type": "execute_result"
    }
   ],
   "source": [
    "1 != 2"
   ]
  },
  {
   "cell_type": "markdown",
   "id": "2f510e89",
   "metadata": {
    "slideshow": {
     "slide_type": "slide"
    }
   },
   "source": [
    "## Funciones en Python"
   ]
  },
  {
   "cell_type": "code",
   "execution_count": 78,
   "id": "0985dfcf",
   "metadata": {
    "execution": {
     "iopub.execute_input": "2021-11-02T15:54:36.343878Z",
     "iopub.status.busy": "2021-11-02T15:54:36.342638Z",
     "iopub.status.idle": "2021-11-02T15:54:36.347114Z",
     "shell.execute_reply": "2021-11-02T15:54:36.346465Z"
    },
    "slideshow": {
     "slide_type": "slide"
    }
   },
   "outputs": [
    {
     "name": "stdout",
     "output_type": "stream",
     "text": [
      "True\n",
      "False\n"
     ]
    }
   ],
   "source": [
    "def busqueda_binaria(lista, elemento):\n",
    "    if not lista:\n",
    "        return False\n",
    "    elif len(lista) == 1:\n",
    "        return lista[0] == elemento\n",
    "    mitad = len(lista) // 2  # // es la operación división entera\n",
    "    if lista[mitad] == elemento:\n",
    "        return True\n",
    "    if lista[mitad] > elemento:\n",
    "        return busqueda_binaria(lista[:mitad], elemento)\n",
    "    if lista[mitad] < elemento:\n",
    "        return busqueda_binaria(lista[mitad:], elemento)\n",
    "\n",
    "\n",
    "print(busqueda_binaria([1, 2, 3, 4, 5], 4))\n",
    "print(busqueda_binaria([1, 4, 6, 7, 9, 10], 2))"
   ]
  },
  {
   "cell_type": "code",
   "execution_count": 79,
   "id": "1655d9fb",
   "metadata": {
    "execution": {
     "iopub.execute_input": "2021-11-02T15:54:36.352053Z",
     "iopub.status.busy": "2021-11-02T15:54:36.351418Z",
     "iopub.status.idle": "2021-11-02T15:54:36.353913Z",
     "shell.execute_reply": "2021-11-02T15:54:36.354449Z"
    }
   },
   "outputs": [
    {
     "name": "stdout",
     "output_type": "stream",
     "text": [
      "(3, 3, 3)\n"
     ]
    }
   ],
   "source": [
    "def a(b):\n",
    "    if a == 1:\n",
    "        print(a)\n",
    "    return (b, b, b)\n",
    "\n",
    "\n",
    "print(a(3))"
   ]
  },
  {
   "cell_type": "code",
   "execution_count": 80,
   "id": "274d4771",
   "metadata": {
    "execution": {
     "iopub.execute_input": "2021-11-02T15:54:36.359647Z",
     "iopub.status.busy": "2021-11-02T15:54:36.358979Z",
     "iopub.status.idle": "2021-11-02T15:54:36.372355Z",
     "shell.execute_reply": "2021-11-02T15:54:36.372934Z"
    },
    "lines_to_next_cell": 2,
    "slideshow": {
     "slide_type": "slide"
    },
    "tags": [
     "raises-exception"
    ]
   },
   "outputs": [
    {
     "name": "stdout",
     "output_type": "stream",
     "text": [
      "3\n",
      "3.0\n",
      "3.0\n",
      "hola como te va\n",
      "[1, 2, 3, 4, 5]\n"
     ]
    },
    {
     "ename": "TypeError",
     "evalue": "can only concatenate str (not \"int\") to str",
     "output_type": "error",
     "traceback": [
      "\u001b[0;31m---------------------------------------------------------------------------\u001b[0m",
      "\u001b[0;31mTypeError\u001b[0m                                 Traceback (most recent call last)",
      "\u001b[0;32m/tmp/ipykernel_2577/1000948441.py\u001b[0m in \u001b[0;36m<module>\u001b[0;34m\u001b[0m\n\u001b[1;32m      8\u001b[0m \u001b[0mprint\u001b[0m\u001b[0;34m(\u001b[0m\u001b[0msuma\u001b[0m\u001b[0;34m(\u001b[0m\u001b[0;34m\"hola \"\u001b[0m\u001b[0;34m,\u001b[0m \u001b[0;34m\"como te va\"\u001b[0m\u001b[0;34m)\u001b[0m\u001b[0;34m)\u001b[0m\u001b[0;34m\u001b[0m\u001b[0;34m\u001b[0m\u001b[0m\n\u001b[1;32m      9\u001b[0m \u001b[0mprint\u001b[0m\u001b[0;34m(\u001b[0m\u001b[0msuma\u001b[0m\u001b[0;34m(\u001b[0m\u001b[0;34m[\u001b[0m\u001b[0;36m1\u001b[0m\u001b[0;34m,\u001b[0m \u001b[0;36m2\u001b[0m\u001b[0;34m,\u001b[0m \u001b[0;36m3\u001b[0m\u001b[0;34m]\u001b[0m\u001b[0;34m,\u001b[0m \u001b[0;34m[\u001b[0m\u001b[0;36m4\u001b[0m\u001b[0;34m,\u001b[0m \u001b[0;36m5\u001b[0m\u001b[0;34m]\u001b[0m\u001b[0;34m)\u001b[0m\u001b[0;34m)\u001b[0m\u001b[0;34m\u001b[0m\u001b[0;34m\u001b[0m\u001b[0m\n\u001b[0;32m---> 10\u001b[0;31m \u001b[0mprint\u001b[0m\u001b[0;34m(\u001b[0m\u001b[0msuma\u001b[0m\u001b[0;34m(\u001b[0m\u001b[0;34m\"1\"\u001b[0m\u001b[0;34m,\u001b[0m \u001b[0;36m3\u001b[0m\u001b[0;34m)\u001b[0m\u001b[0;34m)\u001b[0m  \u001b[0;31m# Falla\u001b[0m\u001b[0;34m\u001b[0m\u001b[0;34m\u001b[0m\u001b[0m\n\u001b[0m",
      "\u001b[0;32m/tmp/ipykernel_2577/1000948441.py\u001b[0m in \u001b[0;36msuma\u001b[0;34m(a, b)\u001b[0m\n\u001b[1;32m      1\u001b[0m \u001b[0;32mdef\u001b[0m \u001b[0msuma\u001b[0m\u001b[0;34m(\u001b[0m\u001b[0ma\u001b[0m\u001b[0;34m,\u001b[0m \u001b[0mb\u001b[0m\u001b[0;34m)\u001b[0m\u001b[0;34m:\u001b[0m\u001b[0;34m\u001b[0m\u001b[0;34m\u001b[0m\u001b[0m\n\u001b[0;32m----> 2\u001b[0;31m     \u001b[0;32mreturn\u001b[0m \u001b[0ma\u001b[0m \u001b[0;34m+\u001b[0m \u001b[0mb\u001b[0m\u001b[0;34m\u001b[0m\u001b[0;34m\u001b[0m\u001b[0m\n\u001b[0m\u001b[1;32m      3\u001b[0m \u001b[0;34m\u001b[0m\u001b[0m\n\u001b[1;32m      4\u001b[0m \u001b[0;34m\u001b[0m\u001b[0m\n\u001b[1;32m      5\u001b[0m \u001b[0mprint\u001b[0m\u001b[0;34m(\u001b[0m\u001b[0msuma\u001b[0m\u001b[0;34m(\u001b[0m\u001b[0;36m1\u001b[0m\u001b[0;34m,\u001b[0m \u001b[0;36m2\u001b[0m\u001b[0;34m)\u001b[0m\u001b[0;34m)\u001b[0m\u001b[0;34m\u001b[0m\u001b[0;34m\u001b[0m\u001b[0m\n",
      "\u001b[0;31mTypeError\u001b[0m: can only concatenate str (not \"int\") to str"
     ]
    }
   ],
   "source": [
    "def suma(a, b):\n",
    "    return a + b\n",
    "\n",
    "\n",
    "print(suma(1, 2))\n",
    "print(suma(1.0, 2.0))\n",
    "print(suma(1.0, 2))\n",
    "print(suma(\"hola \", \"como te va\"))\n",
    "print(suma([1, 2, 3], [4, 5]))\n",
    "print(suma(\"1\", 3))  # Falla"
   ]
  },
  {
   "cell_type": "code",
   "execution_count": 81,
   "id": "4a3bdc80",
   "metadata": {
    "execution": {
     "iopub.execute_input": "2021-11-02T15:54:36.378734Z",
     "iopub.status.busy": "2021-11-02T15:54:36.378067Z",
     "iopub.status.idle": "2021-11-02T15:54:36.380527Z",
     "shell.execute_reply": "2021-11-02T15:54:36.381052Z"
    }
   },
   "outputs": [
    {
     "name": "stdout",
     "output_type": "stream",
     "text": [
      "2.0\n"
     ]
    }
   ],
   "source": [
    "# El valor por default de divisor es 1\n",
    "\n",
    "\n",
    "def division(dividendo, divisor=2):\n",
    "    return dividendo / divisor\n",
    "\n",
    "\n",
    "print(division(4))  # Usa el valor por default"
   ]
  },
  {
   "cell_type": "code",
   "execution_count": 82,
   "id": "231f57cc",
   "metadata": {
    "execution": {
     "iopub.execute_input": "2021-11-02T15:54:36.389972Z",
     "iopub.status.busy": "2021-11-02T15:54:36.386743Z",
     "iopub.status.idle": "2021-11-02T15:54:36.394241Z",
     "shell.execute_reply": "2021-11-02T15:54:36.393683Z"
    },
    "tags": [
     "raises-exception"
    ]
   },
   "outputs": [
    {
     "name": "stdout",
     "output_type": "stream",
     "text": [
      "0.5\n",
      "0.5\n"
     ]
    },
    {
     "ename": "TypeError",
     "evalue": "division() missing 1 required positional argument: 'dividendo'",
     "output_type": "error",
     "traceback": [
      "\u001b[0;31m---------------------------------------------------------------------------\u001b[0m",
      "\u001b[0;31mTypeError\u001b[0m                                 Traceback (most recent call last)",
      "\u001b[0;32m/tmp/ipykernel_2577/1004518412.py\u001b[0m in \u001b[0;36m<module>\u001b[0;34m\u001b[0m\n\u001b[1;32m      1\u001b[0m \u001b[0mprint\u001b[0m\u001b[0;34m(\u001b[0m\u001b[0mdivision\u001b[0m\u001b[0;34m(\u001b[0m\u001b[0;36m1\u001b[0m\u001b[0;34m,\u001b[0m \u001b[0;36m2\u001b[0m\u001b[0;34m)\u001b[0m\u001b[0;34m)\u001b[0m  \u001b[0;31m# Parámetros por orden\u001b[0m\u001b[0;34m\u001b[0m\u001b[0;34m\u001b[0m\u001b[0m\n\u001b[1;32m      2\u001b[0m \u001b[0mprint\u001b[0m\u001b[0;34m(\u001b[0m\u001b[0mdivision\u001b[0m\u001b[0;34m(\u001b[0m\u001b[0mdividendo\u001b[0m\u001b[0;34m=\u001b[0m\u001b[0;36m1\u001b[0m\u001b[0;34m,\u001b[0m \u001b[0mdivisor\u001b[0m\u001b[0;34m=\u001b[0m\u001b[0;36m2\u001b[0m\u001b[0;34m)\u001b[0m\u001b[0;34m)\u001b[0m  \u001b[0;31m# Parámetros por nombre\u001b[0m\u001b[0;34m\u001b[0m\u001b[0;34m\u001b[0m\u001b[0m\n\u001b[0;32m----> 3\u001b[0;31m \u001b[0mprint\u001b[0m\u001b[0;34m(\u001b[0m\u001b[0mdivision\u001b[0m\u001b[0;34m(\u001b[0m\u001b[0mdivisor\u001b[0m\u001b[0;34m=\u001b[0m\u001b[0;36m2\u001b[0m\u001b[0;34m)\u001b[0m\u001b[0;34m)\u001b[0m\u001b[0;34m\u001b[0m\u001b[0;34m\u001b[0m\u001b[0m\n\u001b[0m",
      "\u001b[0;31mTypeError\u001b[0m: division() missing 1 required positional argument: 'dividendo'"
     ]
    }
   ],
   "source": [
    "print(division(1, 2))  # Parámetros por orden\n",
    "print(division(dividendo=1, divisor=2))  # Parámetros por nombre\n",
    "print(division(divisor=2))"
   ]
  },
  {
   "cell_type": "code",
   "execution_count": 83,
   "id": "c31acf70",
   "metadata": {
    "execution": {
     "iopub.execute_input": "2021-11-02T15:54:36.400634Z",
     "iopub.status.busy": "2021-11-02T15:54:36.399054Z",
     "iopub.status.idle": "2021-11-02T15:54:36.402960Z",
     "shell.execute_reply": "2021-11-02T15:54:36.402404Z"
    }
   },
   "outputs": [
    {
     "name": "stdout",
     "output_type": "stream",
     "text": [
      "0.5\n"
     ]
    }
   ],
   "source": [
    "print(division(divisor=2, dividendo=1))"
   ]
  },
  {
   "cell_type": "code",
   "execution_count": 84,
   "id": "12180e26",
   "metadata": {
    "execution": {
     "iopub.execute_input": "2021-11-02T15:54:36.410093Z",
     "iopub.status.busy": "2021-11-02T15:54:36.409161Z",
     "iopub.status.idle": "2021-11-02T15:54:36.414159Z",
     "shell.execute_reply": "2021-11-02T15:54:36.413603Z"
    }
   },
   "outputs": [
    {
     "name": "stdout",
     "output_type": "stream",
     "text": [
      "['a', 'b', 'c']"
     ]
    },
    {
     "name": "stdout",
     "output_type": "stream",
     "text": [
      "\n",
      "[1, 2, 3]\n",
      "['hola', ' don', ' pepito']\n",
      "hola -  don -  pepito\n"
     ]
    }
   ],
   "source": [
    "# Funciones básicas ya en el lenguaje\n",
    "# Hechas para funcionar para distintos tipos\n",
    "\n",
    "string_ordenado = sorted('bca')\n",
    "print(string_ordenado)\n",
    "\n",
    "lista_ordenada = sorted([1, 3, 2])\n",
    "print(lista_ordenada)\n",
    "\n",
    "separadas = \"hola, don, pepito\".split(\",\")\n",
    "print(separadas)\n",
    "unidas = \" - \".join(separadas)\n",
    "print(unidas)"
   ]
  },
  {
   "cell_type": "markdown",
   "id": "acfe92a9",
   "metadata": {},
   "source": [
    "## Módulos\n",
    "\n",
    "Para incluir alguna biblioteca de funciones se usa `import`. Pueden ser cosas ya predefinidas en Python (`math`, `random`, etc), nombres de archivos en nuestro directorio (por ejemplo, para `mimodulo.py` ponemos `import mimodulo`) o bibliotecas instaladas por el usuario"
   ]
  },
  {
   "cell_type": "code",
   "execution_count": 85,
   "id": "4d7d1906",
   "metadata": {
    "execution": {
     "iopub.execute_input": "2021-11-02T15:54:36.417901Z",
     "iopub.status.busy": "2021-11-02T15:54:36.417258Z",
     "iopub.status.idle": "2021-11-02T15:54:36.422421Z",
     "shell.execute_reply": "2021-11-02T15:54:36.421870Z"
    }
   },
   "outputs": [
    {
     "name": "stdout",
     "output_type": "stream",
     "text": [
      "3.141592653589793\n"
     ]
    }
   ],
   "source": [
    "import math\n",
    "\n",
    "print(math.pi)"
   ]
  },
  {
   "cell_type": "code",
   "execution_count": 86,
   "id": "24ba0f46",
   "metadata": {
    "execution": {
     "iopub.execute_input": "2021-11-02T15:54:36.427735Z",
     "iopub.status.busy": "2021-11-02T15:54:36.427044Z",
     "iopub.status.idle": "2021-11-02T15:54:36.429491Z",
     "shell.execute_reply": "2021-11-02T15:54:36.430476Z"
    }
   },
   "outputs": [
    {
     "name": "stdout",
     "output_type": "stream",
     "text": [
      "3.141592653589793 2.718281828459045\n"
     ]
    }
   ],
   "source": [
    "from math import pi, e\n",
    "\n",
    "print(pi, e)"
   ]
  },
  {
   "cell_type": "code",
   "execution_count": 87,
   "id": "4a88b092",
   "metadata": {
    "execution": {
     "iopub.execute_input": "2021-11-02T15:54:36.435653Z",
     "iopub.status.busy": "2021-11-02T15:54:36.434982Z",
     "iopub.status.idle": "2021-11-02T15:54:36.437695Z",
     "shell.execute_reply": "2021-11-02T15:54:36.438316Z"
    }
   },
   "outputs": [
    {
     "data": {
      "text/plain": [
       "2"
      ]
     },
     "execution_count": 87,
     "metadata": {},
     "output_type": "execute_result"
    }
   ],
   "source": [
    "math.gcd(56, 78)"
   ]
  },
  {
   "cell_type": "markdown",
   "id": "06cd81a6",
   "metadata": {},
   "source": [
    "## Manejo de excepciones\n",
    "\n",
    "Se pueden encapsular errores esperados en un bloque 'try/except' para evitar cortar el flujo del programa"
   ]
  },
  {
   "cell_type": "code",
   "execution_count": 88,
   "id": "c81ed532",
   "metadata": {
    "execution": {
     "iopub.execute_input": "2021-11-02T15:54:36.449212Z",
     "iopub.status.busy": "2021-11-02T15:54:36.448569Z",
     "iopub.status.idle": "2021-11-02T15:54:36.450898Z",
     "shell.execute_reply": "2021-11-02T15:54:36.451488Z"
    },
    "tags": [
     "raises-exception"
    ]
   },
   "outputs": [
    {
     "ename": "ZeroDivisionError",
     "evalue": "division by zero",
     "output_type": "error",
     "traceback": [
      "\u001b[0;31m---------------------------------------------------------------------------\u001b[0m",
      "\u001b[0;31mZeroDivisionError\u001b[0m                         Traceback (most recent call last)",
      "\u001b[0;32m/tmp/ipykernel_2577/1165346582.py\u001b[0m in \u001b[0;36m<module>\u001b[0;34m\u001b[0m\n\u001b[0;32m----> 1\u001b[0;31m \u001b[0mdivision\u001b[0m\u001b[0;34m(\u001b[0m\u001b[0;36m1\u001b[0m\u001b[0;34m,\u001b[0m \u001b[0;36m0\u001b[0m\u001b[0;34m)\u001b[0m  \u001b[0;31m# No se puede dividir por cero\u001b[0m\u001b[0;34m\u001b[0m\u001b[0;34m\u001b[0m\u001b[0m\n\u001b[0m",
      "\u001b[0;32m/tmp/ipykernel_2577/2607187721.py\u001b[0m in \u001b[0;36mdivision\u001b[0;34m(dividendo, divisor)\u001b[0m\n\u001b[1;32m      3\u001b[0m \u001b[0;34m\u001b[0m\u001b[0m\n\u001b[1;32m      4\u001b[0m \u001b[0;32mdef\u001b[0m \u001b[0mdivision\u001b[0m\u001b[0;34m(\u001b[0m\u001b[0mdividendo\u001b[0m\u001b[0;34m,\u001b[0m \u001b[0mdivisor\u001b[0m\u001b[0;34m=\u001b[0m\u001b[0;36m2\u001b[0m\u001b[0;34m)\u001b[0m\u001b[0;34m:\u001b[0m\u001b[0;34m\u001b[0m\u001b[0;34m\u001b[0m\u001b[0m\n\u001b[0;32m----> 5\u001b[0;31m     \u001b[0;32mreturn\u001b[0m \u001b[0mdividendo\u001b[0m \u001b[0;34m/\u001b[0m \u001b[0mdivisor\u001b[0m\u001b[0;34m\u001b[0m\u001b[0;34m\u001b[0m\u001b[0m\n\u001b[0m\u001b[1;32m      6\u001b[0m \u001b[0;34m\u001b[0m\u001b[0m\n\u001b[1;32m      7\u001b[0m \u001b[0;34m\u001b[0m\u001b[0m\n",
      "\u001b[0;31mZeroDivisionError\u001b[0m: division by zero"
     ]
    }
   ],
   "source": [
    "division(1, 0)  # No se puede dividir por cero"
   ]
  },
  {
   "cell_type": "code",
   "execution_count": 89,
   "id": "35ed59a5",
   "metadata": {
    "execution": {
     "iopub.execute_input": "2021-11-02T15:54:36.456097Z",
     "iopub.status.busy": "2021-11-02T15:54:36.455459Z",
     "iopub.status.idle": "2021-11-02T15:54:36.459145Z",
     "shell.execute_reply": "2021-11-02T15:54:36.459700Z"
    }
   },
   "outputs": [
    {
     "name": "stdout",
     "output_type": "stream",
     "text": [
      "No se puede dividir por cero, ojo!"
     ]
    },
    {
     "name": "stdout",
     "output_type": "stream",
     "text": [
      " division by zero\n",
      "1\n"
     ]
    }
   ],
   "source": [
    "try:\n",
    "    division(1, 0)\n",
    "except (ZeroDivisionError, TypeError) as e:\n",
    "    print('No se puede dividir por cero, ojo!', e)\n",
    "finally:\n",
    "    print(1)"
   ]
  },
  {
   "cell_type": "markdown",
   "id": "8298c4c7",
   "metadata": {
    "slideshow": {
     "slide_type": "slide"
    }
   },
   "source": [
    "## Lectura y escritura de archivos"
   ]
  },
  {
   "cell_type": "code",
   "execution_count": 90,
   "id": "d83bc555",
   "metadata": {
    "execution": {
     "iopub.execute_input": "2021-11-02T15:54:36.466729Z",
     "iopub.status.busy": "2021-11-02T15:54:36.466044Z",
     "iopub.status.idle": "2021-11-02T15:54:36.468952Z",
     "shell.execute_reply": "2021-11-02T15:54:36.469495Z"
    },
    "slideshow": {
     "slide_type": "slide"
    }
   },
   "outputs": [
    {
     "name": "stdout",
     "output_type": "stream",
     "text": [
      "<_io.TextIOWrapper name='archivo.csv' mode='w' encoding='UTF-8'>\n"
     ]
    }
   ],
   "source": [
    "import random\n",
    "\n",
    "with open(\n",
    "    'archivo.csv', 'w'\n",
    ") as archivo:  # Al usar esta sintaxis no es necesario hacer close\n",
    "    archivo.write(\"Alumno, nota\\n\")\n",
    "    # Tambien de forma similar al fprintf se puede hacer:\n",
    "    # print(\"Alumno, nota\\n\", file=archivo)\n",
    "    for i in range(0, 10):\n",
    "        archivo.write(f\"{i},{random.randrange(0,10)}\\n\")\n",
    "\n",
    "print(archivo)  # Comentario aclaratorio:\n",
    "# Las variables definidas en un determinado scope siguen existiendo por fuera del mismo.\n",
    "# Se debe tener cuidado con esto, ya que nada garantiza que por fuera el valor sea el esperado."
   ]
  },
  {
   "cell_type": "code",
   "execution_count": 91,
   "id": "b28dae5a",
   "metadata": {
    "execution": {
     "iopub.execute_input": "2021-11-02T15:54:36.472467Z",
     "iopub.status.busy": "2021-11-02T15:54:36.471835Z",
     "iopub.status.idle": "2021-11-02T15:54:36.479085Z",
     "shell.execute_reply": "2021-11-02T15:54:36.478532Z"
    },
    "slideshow": {
     "slide_type": "slide"
    }
   },
   "outputs": [
    {
     "name": "stdout",
     "output_type": "stream",
     "text": [
      "Alumno, nota\n",
      "0,6\n",
      "1,2\n",
      "2,4\n",
      "3,8\n",
      "4,6\n",
      "5,9\n",
      "6,8\n",
      "7,8\n",
      "8,9\n",
      "9,6\n"
     ]
    }
   ],
   "source": [
    "with open('archivo.csv', 'r') as f:\n",
    "    for linea in f:\n",
    "        print(linea.strip())"
   ]
  },
  {
   "cell_type": "code",
   "execution_count": 92,
   "id": "12ac7333",
   "metadata": {
    "execution": {
     "iopub.execute_input": "2021-11-02T15:54:36.482027Z",
     "iopub.status.busy": "2021-11-02T15:54:36.481383Z",
     "iopub.status.idle": "2021-11-02T15:54:36.485922Z",
     "shell.execute_reply": "2021-11-02T15:54:36.486419Z"
    }
   },
   "outputs": [
    {
     "name": "stdout",
     "output_type": "stream",
     "text": [
      "Alumno, nota\n",
      "0,6\n",
      "1,2\n",
      "2,4\n",
      "3,8\n",
      "4,6\n",
      "5,9\n",
      "6,8\n",
      "7,8\n",
      "8,9\n",
      "9,6\n",
      "\n"
     ]
    }
   ],
   "source": [
    "with open('archivo.csv', 'r') as f:\n",
    "    print(f.read())"
   ]
  },
  {
   "cell_type": "code",
   "execution_count": 93,
   "id": "e98336fe",
   "metadata": {
    "execution": {
     "iopub.execute_input": "2021-11-02T15:54:36.491636Z",
     "iopub.status.busy": "2021-11-02T15:54:36.490425Z",
     "iopub.status.idle": "2021-11-02T15:54:36.492684Z",
     "shell.execute_reply": "2021-11-02T15:54:36.493207Z"
    }
   },
   "outputs": [],
   "source": [
    "f = open('archivo.csv', 'w')\n",
    "f.write(\"algo, algo\")\n",
    "f.close()"
   ]
  },
  {
   "cell_type": "markdown",
   "id": "f2c8710c",
   "metadata": {
    "slideshow": {
     "slide_type": "slide"
    }
   },
   "source": [
    "## Objetos\n",
    "\n",
    "Los objetos tienen metodos y atributos:\n",
    "- Atributos: equivalentes a variables.\n",
    "- Métodos: equivalentes a las primitivas."
   ]
  },
  {
   "cell_type": "markdown",
   "id": "6beec725",
   "metadata": {
    "slideshow": {
     "slide_type": "slide"
    }
   },
   "source": [
    "### Cómo creo una clase"
   ]
  },
  {
   "cell_type": "code",
   "execution_count": 94,
   "id": "95e2246c",
   "metadata": {
    "execution": {
     "iopub.execute_input": "2021-11-02T15:54:36.499989Z",
     "iopub.status.busy": "2021-11-02T15:54:36.499346Z",
     "iopub.status.idle": "2021-11-02T15:54:36.501937Z",
     "shell.execute_reply": "2021-11-02T15:54:36.501292Z"
    },
    "slideshow": {
     "slide_type": "slide"
    }
   },
   "outputs": [],
   "source": [
    "class Nodo(object):\n",
    "    def __init__(self, dato, siguiente=None):\n",
    "        self._dato = dato\n",
    "        self._siguiente = siguiente\n",
    "\n",
    "    @property\n",
    "    def dato(self):\n",
    "        return self._dato\n",
    "\n",
    "    @property\n",
    "    def proximo(self):\n",
    "        return self._siguiente\n",
    "\n",
    "    @proximo.setter\n",
    "    def proximo(self, siguiente):\n",
    "        self._siguiente = siguiente\n",
    "\n",
    "    def __repr__(self):\n",
    "        return str(self.dato)\n",
    "\n",
    "    def __str__(self):\n",
    "        return str(self.dato)"
   ]
  },
  {
   "cell_type": "code",
   "execution_count": 95,
   "id": "c842f48b",
   "metadata": {
    "execution": {
     "iopub.execute_input": "2021-11-02T15:54:36.505861Z",
     "iopub.status.busy": "2021-11-02T15:54:36.505225Z",
     "iopub.status.idle": "2021-11-02T15:54:36.509234Z",
     "shell.execute_reply": "2021-11-02T15:54:36.508560Z"
    },
    "slideshow": {
     "slide_type": "slide"
    }
   },
   "outputs": [
    {
     "name": "stdout",
     "output_type": "stream",
     "text": [
      "hola\n"
     ]
    }
   ],
   "source": [
    "nodo = Nodo(\"hola\")\n",
    "print(nodo)"
   ]
  },
  {
   "cell_type": "code",
   "execution_count": 96,
   "id": "46b34321",
   "metadata": {
    "execution": {
     "iopub.execute_input": "2021-11-02T15:54:36.514427Z",
     "iopub.status.busy": "2021-11-02T15:54:36.513711Z",
     "iopub.status.idle": "2021-11-02T15:54:36.516916Z",
     "shell.execute_reply": "2021-11-02T15:54:36.517440Z"
    },
    "slideshow": {
     "slide_type": "slide"
    }
   },
   "outputs": [
    {
     "name": "stdout",
     "output_type": "stream",
     "text": [
      "[hola, lala]\n"
     ]
    }
   ],
   "source": [
    "nodo2 = Nodo(\"lala\")\n",
    "print([nodo, nodo2])"
   ]
  },
  {
   "cell_type": "code",
   "execution_count": 97,
   "id": "3baf6a09",
   "metadata": {
    "execution": {
     "iopub.execute_input": "2021-11-02T15:54:36.521806Z",
     "iopub.status.busy": "2021-11-02T15:54:36.521170Z",
     "iopub.status.idle": "2021-11-02T15:54:36.523590Z",
     "shell.execute_reply": "2021-11-02T15:54:36.524118Z"
    },
    "slideshow": {
     "slide_type": "slide"
    }
   },
   "outputs": [
    {
     "name": "stdout",
     "output_type": "stream",
     "text": [
      "hola\n"
     ]
    }
   ],
   "source": [
    "nodo3 = nodo.dato\n",
    "print(nodo3)"
   ]
  },
  {
   "cell_type": "markdown",
   "id": "17ada27d",
   "metadata": {
    "slideshow": {
     "slide_type": "slide"
    }
   },
   "source": [
    "### Ejemplo: Lista Enlazada"
   ]
  },
  {
   "cell_type": "code",
   "execution_count": 98,
   "id": "15e82f38",
   "metadata": {
    "execution": {
     "iopub.execute_input": "2021-11-02T15:54:36.533781Z",
     "iopub.status.busy": "2021-11-02T15:54:36.531851Z",
     "iopub.status.idle": "2021-11-02T15:54:36.536236Z",
     "shell.execute_reply": "2021-11-02T15:54:36.535686Z"
    },
    "slideshow": {
     "slide_type": "slide"
    }
   },
   "outputs": [],
   "source": [
    "class ListaEnlazada(object):\n",
    "    def __init__(self):\n",
    "        self._primero = None\n",
    "        self._ultimo = None\n",
    "        self._largo = 0\n",
    "\n",
    "    def __len__(self):\n",
    "        return self._largo\n",
    "\n",
    "    def insertar_al_principio(self, dato):\n",
    "        nodo = Nodo(dato, self._primero)\n",
    "        self._primero = nodo\n",
    "        self._largo += 1\n",
    "        if self._largo == 1:\n",
    "            self._ultimo = nodo\n",
    "\n",
    "    def insertar_al_final(self, dato):\n",
    "        if self._largo != 0:\n",
    "            nodo = Nodo(dato)\n",
    "            nodo_anterior = self._ultimo\n",
    "            nodo_anterior._siguiente = nodo\n",
    "            self._ultimo = nodo\n",
    "            self._largo += 1\n",
    "        else:\n",
    "            self.insertar_al_principio(dato)\n",
    "\n",
    "    @property\n",
    "    def primero(self):\n",
    "        return self._primero.dato\n",
    "\n",
    "    def borrar_primero(self):\n",
    "        dato = self.primero.dato\n",
    "        self._primero = self.primero.siguiente\n",
    "        self._largo -= 1\n",
    "        if self._largo == 0:\n",
    "            self._ultimo = None\n",
    "        return dato\n",
    "\n",
    "    def __str__(self):\n",
    "        datos = []\n",
    "        nodo_actual = self._primero\n",
    "        while nodo_actual:\n",
    "            datos.append(nodo_actual.dato)\n",
    "            nodo_actual = nodo_actual.proximo\n",
    "        return \" -> \".join(datos)\n",
    "\n",
    "    def __repr__(self):\n",
    "        return self.__str__()"
   ]
  },
  {
   "cell_type": "code",
   "execution_count": 99,
   "id": "929ee4ea",
   "metadata": {
    "execution": {
     "iopub.execute_input": "2021-11-02T15:54:36.543277Z",
     "iopub.status.busy": "2021-11-02T15:54:36.541831Z",
     "iopub.status.idle": "2021-11-02T15:54:36.546035Z",
     "shell.execute_reply": "2021-11-02T15:54:36.545466Z"
    },
    "slideshow": {
     "slide_type": "slide"
    }
   },
   "outputs": [
    {
     "data": {
      "text/plain": [
       "2"
      ]
     },
     "execution_count": 99,
     "metadata": {},
     "output_type": "execute_result"
    }
   ],
   "source": [
    "lista = ListaEnlazada()\n",
    "lista.insertar_al_principio(\"Primer Dato\")\n",
    "lista.insertar_al_principio(\"Primer primer Dato\")\n",
    "len(lista)"
   ]
  },
  {
   "cell_type": "code",
   "execution_count": 100,
   "id": "8cc684a6",
   "metadata": {
    "execution": {
     "iopub.execute_input": "2021-11-02T15:54:36.552229Z",
     "iopub.status.busy": "2021-11-02T15:54:36.550832Z",
     "iopub.status.idle": "2021-11-02T15:54:36.555095Z",
     "shell.execute_reply": "2021-11-02T15:54:36.554470Z"
    }
   },
   "outputs": [
    {
     "data": {
      "text/plain": [
       "Primer primer Dato -> Primer Dato"
      ]
     },
     "execution_count": 100,
     "metadata": {},
     "output_type": "execute_result"
    }
   ],
   "source": [
    "lista"
   ]
  },
  {
   "cell_type": "code",
   "execution_count": 101,
   "id": "dcb73a1a",
   "metadata": {
    "execution": {
     "iopub.execute_input": "2021-11-02T15:54:36.561073Z",
     "iopub.status.busy": "2021-11-02T15:54:36.559515Z",
     "iopub.status.idle": "2021-11-02T15:54:36.563428Z",
     "shell.execute_reply": "2021-11-02T15:54:36.562835Z"
    },
    "slideshow": {
     "slide_type": "slide"
    }
   },
   "outputs": [
    {
     "name": "stdout",
     "output_type": "stream",
     "text": [
      "Primer primer Dato\n"
     ]
    }
   ],
   "source": [
    "elemento = lista.primero\n",
    "print(elemento)"
   ]
  },
  {
   "cell_type": "markdown",
   "id": "a27ce2b2",
   "metadata": {},
   "source": [
    "## Recursos\n",
    "\n",
    "* [Taller de Python de Algoritmos II](https://github.com/algoritmos-rw/algo2_apuntes)\n",
    "\n",
    "* [Documentación de Python 3](https://docs.python.org/3/tutorial/)\n",
    "\n",
    "* [Apunte de Algoritmos y Programación I](https://algoritmos1rw.ddns.net/material)\n",
    "\n",
    "* [Automate the Boring Stuff with Python](http://automatetheboringstuff.com/)\n",
    "\n",
    "* [Curso Python](https://pythoncurso.github.io)\n",
    "\n",
    "* [Python Tutor](http://pythontutor.com/)\n",
    "\n",
    "* [Learn Python3 in Y minutes](https://learnxinyminutes.com/docs/python3/)\n",
    "\n",
    "* [Bibliografía de Algoritmos y Programación I](https://algoritmos1rw.ddns.net/bibliografia)"
   ]
  }
 ],
 "metadata": {
  "jupytext": {
   "encoding": "# -*- coding: utf-8 -*-",
   "formats": "ipynb,py:light"
  },
  "kernelspec": {
   "display_name": "Python 3 (venv)",
   "language": "python",
   "name": "python3"
  },
  "language_info": {
   "codemirror_mode": {
    "name": "ipython",
    "version": 3
   },
   "file_extension": ".py",
   "mimetype": "text/x-python",
   "name": "python",
   "nbconvert_exporter": "python",
   "pygments_lexer": "ipython3",
   "version": "3.7.12"
  }
 },
 "nbformat": 4,
 "nbformat_minor": 5
}
