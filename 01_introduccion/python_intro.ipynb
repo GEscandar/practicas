{
 "cells": [
  {
   "cell_type": "markdown",
   "id": "695e0e29",
   "metadata": {},
   "source": [
    "# Python"
   ]
  },
  {
   "cell_type": "markdown",
   "id": "110de05f",
   "metadata": {
    "slideshow": {
     "slide_type": "slide"
    }
   },
   "source": [
    "## Un poco de Historia"
   ]
  },
  {
   "cell_type": "markdown",
   "id": "f34ae176",
   "metadata": {
    "slideshow": {
     "slide_type": "subslide"
    }
   },
   "source": [
    "Python fue creado a finales de los años 80 por un programador holandés llamado **Guido van Rossum**,\n",
    "quien sigue siendo aún hoy el líder del desarrollo del lenguaje.\n",
    "\n",
    "(Edit julio 2018: [ya no más](https://www.mail-archive.com/python-committers@python.org/msg05628.html))"
   ]
  },
  {
   "cell_type": "markdown",
   "id": "f1f565da",
   "metadata": {
    "slideshow": {
     "slide_type": "subslide"
    }
   },
   "source": [
    "El nombre del lenguaje proviene de los humoristas británicos Monty Python.\n",
    "\n",
    ">*\"I chose Python as a working title for the project, being in a slightly irreverent mood (and a big fan of Monty Python's Flying Circus).\"*"
   ]
  },
  {
   "cell_type": "markdown",
   "id": "23149801",
   "metadata": {
    "slideshow": {
     "slide_type": "slide"
    }
   },
   "source": [
    "## Caracteristicas\n",
    "\n",
    "- Interpretado\n",
    "- Tipado dinamico\n",
    "- Multiparadigma\n",
    "- Alto nivel\n",
    "- Tiene un recolector de basura (no hay malloc, free, realloc, etc)"
   ]
  },
  {
   "cell_type": "markdown",
   "id": "b4d25c9c",
   "metadata": {},
   "source": [
    "## ¿Cómo empezar?\n",
    "\n",
    "* Al ser un lenguaje *interpretado*, se puede ir escribiendo a medida que se ejecuta, sin necesidad de compilar de antemano! Solamente hace falta escribir `python` o `python3` en una terminal para empezar\n",
    "\n",
    "* También, permite escribir archivos y correrlos. Crear un archivo con extensión `.py` y luego correr `python miarchivo.py` en laterminal"
   ]
  },
  {
   "cell_type": "markdown",
   "id": "944a889f",
   "metadata": {
    "slideshow": {
     "slide_type": "slide"
    }
   },
   "source": [
    "## El Zen de Python"
   ]
  },
  {
   "cell_type": "code",
   "execution_count": 1,
   "id": "f5dec546",
   "metadata": {
    "execution": {
     "iopub.execute_input": "2021-04-19T04:16:42.684636Z",
     "iopub.status.busy": "2021-04-19T04:16:42.683661Z",
     "iopub.status.idle": "2021-04-19T04:16:42.709908Z",
     "shell.execute_reply": "2021-04-19T04:16:42.709171Z"
    },
    "slideshow": {
     "slide_type": "slide"
    }
   },
   "outputs": [
    {
     "name": "stdout",
     "output_type": "stream",
     "text": [
      "The Zen of Python, by Tim Peters\n",
      "\n",
      "Beautiful is better than ugly.\n",
      "Explicit is better than implicit.\n",
      "Simple is better than complex.\n",
      "Complex is better than complicated.\n",
      "Flat is better than nested.\n",
      "Sparse is better than dense.\n",
      "Readability counts.\n",
      "Special cases aren't special enough to break the rules.\n",
      "Although practicality beats purity.\n",
      "Errors should never pass silently.\n",
      "Unless explicitly silenced.\n",
      "In the face of ambiguity, refuse the temptation to guess.\n",
      "There should be one-- and preferably only one --obvious way to do it.\n",
      "Although that way may not be obvious at first unless you're Dutch.\n",
      "Now is better than never.\n",
      "Although never is often better than *right* now.\n",
      "If the implementation is hard to explain, it's a bad idea.\n",
      "If the implementation is easy to explain, it may be a good idea.\n",
      "Namespaces are one honking great idea -- let's do more of those!\n"
     ]
    }
   ],
   "source": [
    "import this"
   ]
  },
  {
   "cell_type": "markdown",
   "id": "25cec495",
   "metadata": {
    "slideshow": {
     "slide_type": "slide"
    }
   },
   "source": [
    "## Conocimientos Básicos de Python: Variables y Tipos"
   ]
  },
  {
   "cell_type": "code",
   "execution_count": 2,
   "id": "7dd29015",
   "metadata": {
    "execution": {
     "iopub.execute_input": "2021-04-19T04:16:42.714830Z",
     "iopub.status.busy": "2021-04-19T04:16:42.714197Z",
     "iopub.status.idle": "2021-04-19T04:16:42.716588Z",
     "shell.execute_reply": "2021-04-19T04:16:42.717100Z"
    },
    "slideshow": {
     "slide_type": "slide"
    }
   },
   "outputs": [
    {
     "name": "stdout",
     "output_type": "stream",
     "text": [
      "Hello World!\n"
     ]
    }
   ],
   "source": [
    "# Este es un comentario\n",
    "\n",
    "print(\"Hello World!\")"
   ]
  },
  {
   "cell_type": "markdown",
   "id": "1c5fd8d7",
   "metadata": {},
   "source": [
    "Los strings en python puden escribirse tanto con comillas simples (`'`) como comillas dobles (`\"`). Normalmente vemos texto entre comillas triples para escribir _docstrings_, segun la guia de estilo de Python, el PEP8."
   ]
  },
  {
   "cell_type": "code",
   "execution_count": 3,
   "id": "120a2d7f",
   "metadata": {
    "execution": {
     "iopub.execute_input": "2021-04-19T04:16:42.729968Z",
     "iopub.status.busy": "2021-04-19T04:16:42.729293Z",
     "iopub.status.idle": "2021-04-19T04:16:42.732807Z",
     "shell.execute_reply": "2021-04-19T04:16:42.733389Z"
    }
   },
   "outputs": [
    {
     "data": {
      "text/plain": [
       "'Esto es un docstring.\\n'"
      ]
     },
     "execution_count": 1,
     "metadata": {},
     "output_type": "execute_result"
    }
   ],
   "source": [
    "\"\"\"Esto es un docstring.\n",
    "\"\"\""
   ]
  },
  {
   "cell_type": "markdown",
   "id": "85f2efce",
   "metadata": {},
   "source": [
    "### Declaracion de variables"
   ]
  },
  {
   "cell_type": "code",
   "execution_count": 4,
   "id": "80c0db0e",
   "metadata": {
    "execution": {
     "iopub.execute_input": "2021-04-19T04:16:42.739510Z",
     "iopub.status.busy": "2021-04-19T04:16:42.737826Z",
     "iopub.status.idle": "2021-04-19T04:16:42.741705Z",
     "shell.execute_reply": "2021-04-19T04:16:42.741145Z"
    }
   },
   "outputs": [
    {
     "name": "stdout",
     "output_type": "stream",
     "text": [
      "Hola\n"
     ]
    }
   ],
   "source": [
    "string = 'Hola'\n",
    "print(string)"
   ]
  },
  {
   "cell_type": "code",
   "execution_count": 5,
   "id": "229e241a",
   "metadata": {
    "execution": {
     "iopub.execute_input": "2021-04-19T04:16:42.747325Z",
     "iopub.status.busy": "2021-04-19T04:16:42.745879Z",
     "iopub.status.idle": "2021-04-19T04:16:42.749441Z",
     "shell.execute_reply": "2021-04-19T04:16:42.748826Z"
    }
   },
   "outputs": [
    {
     "name": "stdout",
     "output_type": "stream",
     "text": [
      "1\n"
     ]
    }
   ],
   "source": [
    "entero = 1\n",
    "print(entero)"
   ]
  },
  {
   "cell_type": "code",
   "execution_count": 6,
   "id": "3676d5aa",
   "metadata": {
    "execution": {
     "iopub.execute_input": "2021-04-19T04:16:42.755240Z",
     "iopub.status.busy": "2021-04-19T04:16:42.753725Z",
     "iopub.status.idle": "2021-04-19T04:16:42.757466Z",
     "shell.execute_reply": "2021-04-19T04:16:42.756893Z"
    }
   },
   "outputs": [
    {
     "name": "stdout",
     "output_type": "stream",
     "text": [
      "1.0\n"
     ]
    }
   ],
   "source": [
    "flotante = 1.0\n",
    "print(flotante)"
   ]
  },
  {
   "cell_type": "code",
   "execution_count": 7,
   "id": "e784d4ad",
   "metadata": {
    "execution": {
     "iopub.execute_input": "2021-04-19T04:16:42.763602Z",
     "iopub.status.busy": "2021-04-19T04:16:42.762097Z",
     "iopub.status.idle": "2021-04-19T04:16:42.765981Z",
     "shell.execute_reply": "2021-04-19T04:16:42.765365Z"
    }
   },
   "outputs": [
    {
     "name": "stdout",
     "output_type": "stream",
     "text": [
      "(1, 1.0)\n"
     ]
    }
   ],
   "source": [
    "tupla = (entero, flotante)\n",
    "print(tupla)"
   ]
  },
  {
   "cell_type": "code",
   "execution_count": 8,
   "id": "ff2312d0",
   "metadata": {
    "execution": {
     "iopub.execute_input": "2021-04-19T04:16:42.771176Z",
     "iopub.status.busy": "2021-04-19T04:16:42.770346Z",
     "iopub.status.idle": "2021-04-19T04:16:42.772708Z",
     "shell.execute_reply": "2021-04-19T04:16:42.773232Z"
    }
   },
   "outputs": [
    {
     "name": "stdout",
     "output_type": "stream",
     "text": [
      "(1, 1.0, 'Hola')\n"
     ]
    }
   ],
   "source": [
    "nupla = (entero, flotante, string)\n",
    "print(nupla)"
   ]
  },
  {
   "cell_type": "code",
   "execution_count": 9,
   "id": "213537d8",
   "metadata": {
    "execution": {
     "iopub.execute_input": "2021-04-19T04:16:42.777634Z",
     "iopub.status.busy": "2021-04-19T04:16:42.776919Z",
     "iopub.status.idle": "2021-04-19T04:16:42.779380Z",
     "shell.execute_reply": "2021-04-19T04:16:42.779904Z"
    }
   },
   "outputs": [
    {
     "name": "stdout",
     "output_type": "stream",
     "text": [
      "[1, 1.0, 'Hola']\n"
     ]
    }
   ],
   "source": [
    "lista = [entero, flotante, string]\n",
    "print(lista)"
   ]
  },
  {
   "cell_type": "code",
   "execution_count": 10,
   "id": "bae2afa1",
   "metadata": {
    "execution": {
     "iopub.execute_input": "2021-04-19T04:16:42.785259Z",
     "iopub.status.busy": "2021-04-19T04:16:42.784559Z",
     "iopub.status.idle": "2021-04-19T04:16:42.786771Z",
     "shell.execute_reply": "2021-04-19T04:16:42.787328Z"
    }
   },
   "outputs": [
    {
     "name": "stdout",
     "output_type": "stream",
     "text": [
      "{'1': (1, 1.0), 50: (1, 1.0, 'Hola'), '3': 1}\n"
     ]
    }
   ],
   "source": [
    "diccionario = {'1': tupla, 50: nupla, '3': entero}\n",
    "print(diccionario)"
   ]
  },
  {
   "cell_type": "code",
   "execution_count": 11,
   "id": "183d728e",
   "metadata": {
    "execution": {
     "iopub.execute_input": "2021-04-19T04:16:42.791929Z",
     "iopub.status.busy": "2021-04-19T04:16:42.791284Z",
     "iopub.status.idle": "2021-04-19T04:16:42.793884Z",
     "shell.execute_reply": "2021-04-19T04:16:42.794438Z"
    }
   },
   "outputs": [
    {
     "name": "stdout",
     "output_type": "stream",
     "text": [
      "{1, 2}\n"
     ]
    }
   ],
   "source": [
    "conjunto = set([1, 2])\n",
    "print(conjunto)"
   ]
  },
  {
   "cell_type": "code",
   "execution_count": 12,
   "id": "e508cf18",
   "metadata": {
    "execution": {
     "iopub.execute_input": "2021-04-19T04:16:42.798777Z",
     "iopub.status.busy": "2021-04-19T04:16:42.798142Z",
     "iopub.status.idle": "2021-04-19T04:16:42.800734Z",
     "shell.execute_reply": "2021-04-19T04:16:42.801380Z"
    }
   },
   "outputs": [
    {
     "name": "stdout",
     "output_type": "stream",
     "text": [
      "True\n"
     ]
    }
   ],
   "source": [
    "booleano = True\n",
    "print(booleano)"
   ]
  },
  {
   "cell_type": "code",
   "execution_count": 13,
   "id": "f0263878",
   "metadata": {
    "execution": {
     "iopub.execute_input": "2021-04-19T04:16:42.806348Z",
     "iopub.status.busy": "2021-04-19T04:16:42.805709Z",
     "iopub.status.idle": "2021-04-19T04:16:42.809150Z",
     "shell.execute_reply": "2021-04-19T04:16:42.808523Z"
    }
   },
   "outputs": [
    {
     "name": "stdout",
     "output_type": "stream",
     "text": [
      "None\n"
     ]
    }
   ],
   "source": [
    "nada = None\n",
    "print(nada)"
   ]
  },
  {
   "cell_type": "markdown",
   "id": "f4a0d8f9",
   "metadata": {},
   "source": [
    "Ojo que las variables pueden cambiar de tipo!"
   ]
  },
  {
   "cell_type": "code",
   "execution_count": 14,
   "id": "fdcd5afe",
   "metadata": {
    "execution": {
     "iopub.execute_input": "2021-04-19T04:16:42.813911Z",
     "iopub.status.busy": "2021-04-19T04:16:42.813194Z",
     "iopub.status.idle": "2021-04-19T04:16:42.815433Z",
     "shell.execute_reply": "2021-04-19T04:16:42.816071Z"
    }
   },
   "outputs": [
    {
     "name": "stdout",
     "output_type": "stream",
     "text": [
      "1\n",
      "<class 'int'>\n"
     ]
    }
   ],
   "source": [
    "elemento = 1\n",
    "print(elemento)\n",
    "print(type(elemento))"
   ]
  },
  {
   "cell_type": "code",
   "execution_count": 15,
   "id": "64d3ff7a",
   "metadata": {
    "execution": {
     "iopub.execute_input": "2021-04-19T04:16:42.820683Z",
     "iopub.status.busy": "2021-04-19T04:16:42.819988Z",
     "iopub.status.idle": "2021-04-19T04:16:42.822543Z",
     "shell.execute_reply": "2021-04-19T04:16:42.823327Z"
    }
   },
   "outputs": [
    {
     "name": "stdout",
     "output_type": "stream",
     "text": [
      "1\n",
      "<class 'str'>\n"
     ]
    }
   ],
   "source": [
    "elemento = str(1)\n",
    "print(elemento)\n",
    "print(type(elemento))"
   ]
  },
  {
   "cell_type": "code",
   "execution_count": 16,
   "id": "b4ff82a9",
   "metadata": {
    "execution": {
     "iopub.execute_input": "2021-04-19T04:16:42.828146Z",
     "iopub.status.busy": "2021-04-19T04:16:42.827507Z",
     "iopub.status.idle": "2021-04-19T04:16:42.830201Z",
     "shell.execute_reply": "2021-04-19T04:16:42.830738Z"
    }
   },
   "outputs": [
    {
     "name": "stdout",
     "output_type": "stream",
     "text": [
      "[2]\n",
      "<class 'list'>\n"
     ]
    }
   ],
   "source": [
    "elemento = [2]\n",
    "\n",
    "print(elemento)\n",
    "print(type(elemento))"
   ]
  },
  {
   "cell_type": "markdown",
   "id": "5c07b6e7",
   "metadata": {},
   "source": [
    "### Tipos basicos"
   ]
  },
  {
   "cell_type": "markdown",
   "id": "db25bd36",
   "metadata": {
    "slideshow": {
     "slide_type": "slide"
    }
   },
   "source": [
    "#### Listas de Python"
   ]
  },
  {
   "cell_type": "code",
   "execution_count": 17,
   "id": "afc469d9",
   "metadata": {
    "execution": {
     "iopub.execute_input": "2021-04-19T04:16:42.836187Z",
     "iopub.status.busy": "2021-04-19T04:16:42.835528Z",
     "iopub.status.idle": "2021-04-19T04:16:42.837745Z",
     "shell.execute_reply": "2021-04-19T04:16:42.838362Z"
    }
   },
   "outputs": [
    {
     "data": {
      "text/plain": [
       "[]"
      ]
     },
     "execution_count": 1,
     "metadata": {},
     "output_type": "execute_result"
    }
   ],
   "source": [
    "lista = list()\n",
    "lista"
   ]
  },
  {
   "cell_type": "code",
   "execution_count": 18,
   "id": "2b516a58",
   "metadata": {
    "execution": {
     "iopub.execute_input": "2021-04-19T04:16:42.842898Z",
     "iopub.status.busy": "2021-04-19T04:16:42.842144Z",
     "iopub.status.idle": "2021-04-19T04:16:42.846093Z",
     "shell.execute_reply": "2021-04-19T04:16:42.845419Z"
    },
    "slideshow": {
     "slide_type": "slide"
    }
   },
   "outputs": [
    {
     "data": {
      "text/plain": [
       "[]"
      ]
     },
     "execution_count": 1,
     "metadata": {},
     "output_type": "execute_result"
    }
   ],
   "source": [
    "lista = []\n",
    "lista"
   ]
  },
  {
   "cell_type": "code",
   "execution_count": 19,
   "id": "0221ea86",
   "metadata": {
    "execution": {
     "iopub.execute_input": "2021-04-19T04:16:42.850716Z",
     "iopub.status.busy": "2021-04-19T04:16:42.850080Z",
     "iopub.status.idle": "2021-04-19T04:16:42.853936Z",
     "shell.execute_reply": "2021-04-19T04:16:42.853288Z"
    },
    "slideshow": {
     "slide_type": "slide"
    }
   },
   "outputs": [
    {
     "data": {
      "text/plain": [
       "[1, 2, 3, 4]"
      ]
     },
     "execution_count": 1,
     "metadata": {},
     "output_type": "execute_result"
    }
   ],
   "source": [
    "lista = [1, 2, 3, 4]\n",
    "lista"
   ]
  },
  {
   "cell_type": "code",
   "execution_count": 20,
   "id": "bf6505f0",
   "metadata": {
    "execution": {
     "iopub.execute_input": "2021-04-19T04:16:42.859733Z",
     "iopub.status.busy": "2021-04-19T04:16:42.859071Z",
     "iopub.status.idle": "2021-04-19T04:16:42.861456Z",
     "shell.execute_reply": "2021-04-19T04:16:42.862097Z"
    },
    "slideshow": {
     "slide_type": "slide"
    }
   },
   "outputs": [
    {
     "data": {
      "text/plain": [
       "[1, 2, 3, 4, 1, 'dos', 3.0]"
      ]
     },
     "execution_count": 1,
     "metadata": {},
     "output_type": "execute_result"
    }
   ],
   "source": [
    "lista.append(1)  # Inserto un 1 al final\n",
    "lista.append(\"dos\")  # Inserto un \"dos\" al final\n",
    "lista.append(3.0)  # Inserto un 3.0 al final\n",
    "lista"
   ]
  },
  {
   "cell_type": "code",
   "execution_count": 21,
   "id": "ee9b49f3",
   "metadata": {
    "execution": {
     "iopub.execute_input": "2021-04-19T04:16:42.866810Z",
     "iopub.status.busy": "2021-04-19T04:16:42.866139Z",
     "iopub.status.idle": "2021-04-19T04:16:42.868384Z",
     "shell.execute_reply": "2021-04-19T04:16:42.869029Z"
    }
   },
   "outputs": [
    {
     "name": "stdout",
     "output_type": "stream",
     "text": [
      "[1, 2, 10, 3, 4, 1, 'dos', 3.0]\n"
     ]
    }
   ],
   "source": [
    "lista.insert(2, 10)  # Inserto en posicion 2 un 10\n",
    "print(lista)"
   ]
  },
  {
   "cell_type": "code",
   "execution_count": 22,
   "id": "23fc4756",
   "metadata": {
    "execution": {
     "iopub.execute_input": "2021-04-19T04:16:42.873664Z",
     "iopub.status.busy": "2021-04-19T04:16:42.872992Z",
     "iopub.status.idle": "2021-04-19T04:16:42.876550Z",
     "shell.execute_reply": "2021-04-19T04:16:42.875966Z"
    }
   },
   "outputs": [
    {
     "data": {
      "text/plain": [
       "8"
      ]
     },
     "execution_count": 1,
     "metadata": {},
     "output_type": "execute_result"
    }
   ],
   "source": [
    "len(lista)"
   ]
  },
  {
   "cell_type": "code",
   "execution_count": 23,
   "id": "24a5f887",
   "metadata": {
    "execution": {
     "iopub.execute_input": "2021-04-19T04:16:42.880838Z",
     "iopub.status.busy": "2021-04-19T04:16:42.880094Z",
     "iopub.status.idle": "2021-04-19T04:16:42.883858Z",
     "shell.execute_reply": "2021-04-19T04:16:42.883115Z"
    }
   },
   "outputs": [
    {
     "data": {
      "text/plain": [
       "3.0"
      ]
     },
     "execution_count": 1,
     "metadata": {},
     "output_type": "execute_result"
    }
   ],
   "source": [
    "lista.pop()"
   ]
  },
  {
   "cell_type": "code",
   "execution_count": 24,
   "id": "36e25fb2",
   "metadata": {
    "execution": {
     "iopub.execute_input": "2021-04-19T04:16:42.888085Z",
     "iopub.status.busy": "2021-04-19T04:16:42.887437Z",
     "iopub.status.idle": "2021-04-19T04:16:42.890396Z",
     "shell.execute_reply": "2021-04-19T04:16:42.890958Z"
    }
   },
   "outputs": [
    {
     "data": {
      "text/plain": [
       "[1, 2, 10, 3, 4, 1, 'dos']"
      ]
     },
     "execution_count": 1,
     "metadata": {},
     "output_type": "execute_result"
    }
   ],
   "source": [
    "lista"
   ]
  },
  {
   "cell_type": "code",
   "execution_count": 25,
   "id": "4cbf20b3",
   "metadata": {
    "execution": {
     "iopub.execute_input": "2021-04-19T04:16:42.895797Z",
     "iopub.status.busy": "2021-04-19T04:16:42.894598Z",
     "iopub.status.idle": "2021-04-19T04:16:42.900985Z",
     "shell.execute_reply": "2021-04-19T04:16:42.901566Z"
    }
   },
   "outputs": [
    {
     "data": {
      "text/plain": [
       "2"
      ]
     },
     "execution_count": 1,
     "metadata": {},
     "output_type": "execute_result"
    }
   ],
   "source": [
    "lista.index(10)"
   ]
  },
  {
   "cell_type": "code",
   "execution_count": 26,
   "id": "68bacce0",
   "metadata": {
    "execution": {
     "iopub.execute_input": "2021-04-19T04:16:42.907347Z",
     "iopub.status.busy": "2021-04-19T04:16:42.906162Z",
     "iopub.status.idle": "2021-04-19T04:16:42.909384Z",
     "shell.execute_reply": "2021-04-19T04:16:42.909955Z"
    }
   },
   "outputs": [
    {
     "data": {
      "text/plain": [
       "[1, 2, 3, 4, 1, 'dos']"
      ]
     },
     "execution_count": 1,
     "metadata": {},
     "output_type": "execute_result"
    }
   ],
   "source": [
    "lista.remove(10)\n",
    "lista"
   ]
  },
  {
   "cell_type": "code",
   "execution_count": 27,
   "id": "8dc65477",
   "metadata": {
    "execution": {
     "iopub.execute_input": "2021-04-19T04:16:42.916142Z",
     "iopub.status.busy": "2021-04-19T04:16:42.915496Z",
     "iopub.status.idle": "2021-04-19T04:16:42.988773Z",
     "shell.execute_reply": "2021-04-19T04:16:42.988059Z"
    },
    "tags": [
     "raises-exception"
    ]
   },
   "outputs": [
    {
     "name": "stdout",
     "output_type": "stream",
     "text": [
      "1"
     ]
    },
    {
     "name": "stdout",
     "output_type": "stream",
     "text": [
      "\n",
      "2\n",
      "2\n",
      "3\n",
      "3\n",
      "4\n",
      "4\n",
      "5\n",
      "1\n",
      "2\n",
      "dos\n"
     ]
    },
    {
     "ename": "TypeError",
     "evalue": "can only concatenate str (not \"int\") to str",
     "output_type": "error",
     "traceback": [
      "\u001b[0;31m---------------------------------------------------------------------------\u001b[0m",
      "\u001b[0;31mTypeError\u001b[0m                                 Traceback (most recent call last)",
      "\u001b[0;32m<ipython-input-1-41b56d5cf080>\u001b[0m in \u001b[0;36m<module>\u001b[0;34m\u001b[0m\n\u001b[1;32m      1\u001b[0m \u001b[0;32mfor\u001b[0m \u001b[0melemento\u001b[0m \u001b[0;32min\u001b[0m \u001b[0mlista\u001b[0m\u001b[0;34m:\u001b[0m\u001b[0;34m\u001b[0m\u001b[0;34m\u001b[0m\u001b[0m\n\u001b[1;32m      2\u001b[0m     \u001b[0mprint\u001b[0m\u001b[0;34m(\u001b[0m\u001b[0melemento\u001b[0m\u001b[0;34m)\u001b[0m\u001b[0;34m\u001b[0m\u001b[0;34m\u001b[0m\u001b[0m\n\u001b[0;32m----> 3\u001b[0;31m     \u001b[0mprint\u001b[0m\u001b[0;34m(\u001b[0m\u001b[0melemento\u001b[0m \u001b[0;34m+\u001b[0m \u001b[0;36m1\u001b[0m\u001b[0;34m)\u001b[0m\u001b[0;34m\u001b[0m\u001b[0;34m\u001b[0m\u001b[0m\n\u001b[0m",
      "\u001b[0;31mTypeError\u001b[0m: can only concatenate str (not \"int\") to str"
     ]
    }
   ],
   "source": [
    "for elemento in lista:\n",
    "    print(elemento)\n",
    "    print(elemento + 1)"
   ]
  },
  {
   "cell_type": "code",
   "execution_count": 28,
   "id": "9ca4878b",
   "metadata": {
    "execution": {
     "iopub.execute_input": "2021-04-19T04:16:42.995649Z",
     "iopub.status.busy": "2021-04-19T04:16:42.993882Z",
     "iopub.status.idle": "2021-04-19T04:16:42.998684Z",
     "shell.execute_reply": "2021-04-19T04:16:42.997904Z"
    }
   },
   "outputs": [
    {
     "data": {
      "text/plain": [
       "[1, 2, 3, 4, 1, 'dos']"
      ]
     },
     "execution_count": 1,
     "metadata": {},
     "output_type": "execute_result"
    }
   ],
   "source": [
    "lista"
   ]
  },
  {
   "cell_type": "code",
   "execution_count": 29,
   "id": "509ccd05",
   "metadata": {
    "execution": {
     "iopub.execute_input": "2021-04-19T04:16:43.008352Z",
     "iopub.status.busy": "2021-04-19T04:16:43.007656Z",
     "iopub.status.idle": "2021-04-19T04:16:43.012036Z",
     "shell.execute_reply": "2021-04-19T04:16:43.011486Z"
    }
   },
   "outputs": [
    {
     "name": "stdout",
     "output_type": "stream",
     "text": [
      "0-ésimo elemento: 1\n",
      "1-ésimo elemento: 2\n",
      "2-ésimo elemento: 3\n",
      "3-ésimo elemento: 4\n",
      "4-ésimo elemento: 1\n",
      "5-ésimo elemento: dos\n"
     ]
    }
   ],
   "source": [
    "for i, elemento in enumerate(lista):\n",
    "    print(f\"{i}-ésimo elemento: {elemento}\")"
   ]
  },
  {
   "cell_type": "code",
   "execution_count": 30,
   "id": "84761e64",
   "metadata": {
    "execution": {
     "iopub.execute_input": "2021-04-19T04:16:43.020812Z",
     "iopub.status.busy": "2021-04-19T04:16:43.020129Z",
     "iopub.status.idle": "2021-04-19T04:16:43.025681Z",
     "shell.execute_reply": "2021-04-19T04:16:43.026226Z"
    },
    "tags": [
     "raises-exception"
    ]
   },
   "outputs": [
    {
     "ename": "TypeError",
     "evalue": "'<' not supported between instances of 'str' and 'int'",
     "output_type": "error",
     "traceback": [
      "\u001b[0;31m---------------------------------------------------------------------------\u001b[0m",
      "\u001b[0;31mTypeError\u001b[0m                                 Traceback (most recent call last)",
      "\u001b[0;32m<ipython-input-1-06c3f264dc7a>\u001b[0m in \u001b[0;36m<module>\u001b[0;34m\u001b[0m\n\u001b[0;32m----> 1\u001b[0;31m \u001b[0msorted\u001b[0m\u001b[0;34m(\u001b[0m\u001b[0mlista\u001b[0m\u001b[0;34m)\u001b[0m\u001b[0;34m\u001b[0m\u001b[0;34m\u001b[0m\u001b[0m\n\u001b[0m",
      "\u001b[0;31mTypeError\u001b[0m: '<' not supported between instances of 'str' and 'int'"
     ]
    }
   ],
   "source": [
    "sorted(lista)"
   ]
  },
  {
   "cell_type": "code",
   "execution_count": 31,
   "id": "48d85b32",
   "metadata": {
    "execution": {
     "iopub.execute_input": "2021-04-19T04:16:43.032047Z",
     "iopub.status.busy": "2021-04-19T04:16:43.030324Z",
     "iopub.status.idle": "2021-04-19T04:16:43.032874Z",
     "shell.execute_reply": "2021-04-19T04:16:43.033543Z"
    }
   },
   "outputs": [],
   "source": [
    "lista.remove(\"dos\")"
   ]
  },
  {
   "cell_type": "code",
   "execution_count": 32,
   "id": "2a5a8fe8",
   "metadata": {
    "execution": {
     "iopub.execute_input": "2021-04-19T04:16:43.039541Z",
     "iopub.status.busy": "2021-04-19T04:16:43.038340Z",
     "iopub.status.idle": "2021-04-19T04:16:43.041930Z",
     "shell.execute_reply": "2021-04-19T04:16:43.042485Z"
    }
   },
   "outputs": [
    {
     "data": {
      "text/plain": [
       "[1, 1, 2, 3, 4]"
      ]
     },
     "execution_count": 1,
     "metadata": {},
     "output_type": "execute_result"
    }
   ],
   "source": [
    "sorted(lista)"
   ]
  },
  {
   "cell_type": "code",
   "execution_count": 33,
   "id": "eb4ab415",
   "metadata": {
    "execution": {
     "iopub.execute_input": "2021-04-19T04:16:43.050597Z",
     "iopub.status.busy": "2021-04-19T04:16:43.049546Z",
     "iopub.status.idle": "2021-04-19T04:16:43.053164Z",
     "shell.execute_reply": "2021-04-19T04:16:43.052512Z"
    }
   },
   "outputs": [
    {
     "data": {
      "text/plain": [
       "[1, 1, 2, 3, 4]"
      ]
     },
     "execution_count": 1,
     "metadata": {},
     "output_type": "execute_result"
    }
   ],
   "source": [
    "lista.sort()\n",
    "lista"
   ]
  },
  {
   "cell_type": "markdown",
   "id": "2c29353b",
   "metadata": {
    "slideshow": {
     "slide_type": "slide"
    }
   },
   "source": [
    "#### Tuplas de Python\n",
    "\n",
    "Las tuplas son inmutables. No se pueden agregar elementos luego de creadas."
   ]
  },
  {
   "cell_type": "code",
   "execution_count": 34,
   "id": "c0a982a5",
   "metadata": {
    "execution": {
     "iopub.execute_input": "2021-04-19T04:16:43.065325Z",
     "iopub.status.busy": "2021-04-19T04:16:43.059748Z",
     "iopub.status.idle": "2021-04-19T04:16:43.069459Z",
     "shell.execute_reply": "2021-04-19T04:16:43.070042Z"
    },
    "slideshow": {
     "slide_type": "slide"
    },
    "tags": [
     "raises-exception"
    ]
   },
   "outputs": [
    {
     "name": "stdout",
     "output_type": "stream",
     "text": [
      "(1, 2)\n",
      "1\n",
      "2\n"
     ]
    },
    {
     "ename": "TypeError",
     "evalue": "'tuple' object does not support item assignment",
     "output_type": "error",
     "traceback": [
      "\u001b[0;31m---------------------------------------------------------------------------\u001b[0m",
      "\u001b[0;31mTypeError\u001b[0m                                 Traceback (most recent call last)",
      "\u001b[0;32m<ipython-input-1-80ca8b547dd6>\u001b[0m in \u001b[0;36m<module>\u001b[0;34m\u001b[0m\n\u001b[1;32m      5\u001b[0m \u001b[0mprint\u001b[0m\u001b[0;34m(\u001b[0m\u001b[0mtupla\u001b[0m\u001b[0;34m[\u001b[0m\u001b[0;36m1\u001b[0m\u001b[0;34m]\u001b[0m\u001b[0;34m)\u001b[0m\u001b[0;34m\u001b[0m\u001b[0;34m\u001b[0m\u001b[0m\n\u001b[1;32m      6\u001b[0m \u001b[0;34m\u001b[0m\u001b[0m\n\u001b[0;32m----> 7\u001b[0;31m \u001b[0mtupla\u001b[0m\u001b[0;34m[\u001b[0m\u001b[0;36m1\u001b[0m\u001b[0;34m]\u001b[0m \u001b[0;34m=\u001b[0m \u001b[0;36m3\u001b[0m  \u001b[0;31m# Falla. No se puede mutar\u001b[0m\u001b[0;34m\u001b[0m\u001b[0;34m\u001b[0m\u001b[0m\n\u001b[0m",
      "\u001b[0;31mTypeError\u001b[0m: 'tuple' object does not support item assignment"
     ]
    }
   ],
   "source": [
    "tupla = (1, 2)\n",
    "\n",
    "print(tupla)\n",
    "print(tupla[0])\n",
    "print(tupla[1])\n",
    "\n",
    "tupla[1] = 3  # Falla. No se puede mutar"
   ]
  },
  {
   "cell_type": "code",
   "execution_count": 35,
   "id": "d59655b3",
   "metadata": {
    "execution": {
     "iopub.execute_input": "2021-04-19T04:16:43.076837Z",
     "iopub.status.busy": "2021-04-19T04:16:43.075783Z",
     "iopub.status.idle": "2021-04-19T04:16:43.079817Z",
     "shell.execute_reply": "2021-04-19T04:16:43.080418Z"
    }
   },
   "outputs": [
    {
     "data": {
      "text/plain": [
       "[1, 2]"
      ]
     },
     "execution_count": 1,
     "metadata": {},
     "output_type": "execute_result"
    }
   ],
   "source": [
    "l = [1, 2]\n",
    "l"
   ]
  },
  {
   "cell_type": "code",
   "execution_count": 36,
   "id": "35f03970",
   "metadata": {
    "execution": {
     "iopub.execute_input": "2021-04-19T04:16:43.090006Z",
     "iopub.status.busy": "2021-04-19T04:16:43.088497Z",
     "iopub.status.idle": "2021-04-19T04:16:43.093285Z",
     "shell.execute_reply": "2021-04-19T04:16:43.090922Z"
    }
   },
   "outputs": [
    {
     "data": {
      "text/plain": [
       "[1, 3]"
      ]
     },
     "execution_count": 1,
     "metadata": {},
     "output_type": "execute_result"
    }
   ],
   "source": [
    "l[1] = 3\n",
    "l"
   ]
  },
  {
   "cell_type": "markdown",
   "id": "b4a3f924",
   "metadata": {
    "slideshow": {
     "slide_type": "slide"
    }
   },
   "source": [
    "#### Diferencia entre lista y tupla\n",
    "Las listas se caracterizan por ser mutables, es decir, se puede cambiar su contenido en tiempo de ejecución, mientras que las tuplas son inmutables ya que no es posible modificar el contenido una vez creada."
   ]
  },
  {
   "cell_type": "markdown",
   "id": "dc93da76",
   "metadata": {},
   "source": [
    "#### Slices\n",
    "\n",
    "**Valen para listas, tuplas o strings (_segmentos_)**"
   ]
  },
  {
   "cell_type": "code",
   "execution_count": 37,
   "id": "c3235e09",
   "metadata": {
    "execution": {
     "iopub.execute_input": "2021-04-19T04:16:43.097743Z",
     "iopub.status.busy": "2021-04-19T04:16:43.097106Z",
     "iopub.status.idle": "2021-04-19T04:16:43.099578Z",
     "shell.execute_reply": "2021-04-19T04:16:43.100105Z"
    }
   },
   "outputs": [],
   "source": [
    "numeros = [0, 1, 2, 3, 4, 5, 6, 7, 8, 9, 10]"
   ]
  },
  {
   "cell_type": "code",
   "execution_count": 38,
   "id": "e39c44c8",
   "metadata": {
    "execution": {
     "iopub.execute_input": "2021-04-19T04:16:43.104621Z",
     "iopub.status.busy": "2021-04-19T04:16:43.103804Z",
     "iopub.status.idle": "2021-04-19T04:16:43.106312Z",
     "shell.execute_reply": "2021-04-19T04:16:43.106887Z"
    }
   },
   "outputs": [
    {
     "name": "stdout",
     "output_type": "stream",
     "text": [
      "[0, 1, 2, 3, 4, 5, 6, 7, 8, 9, 10]\n"
     ]
    }
   ],
   "source": [
    "print(numeros)"
   ]
  },
  {
   "cell_type": "code",
   "execution_count": 39,
   "id": "b7fa0043",
   "metadata": {
    "execution": {
     "iopub.execute_input": "2021-04-19T04:16:43.111206Z",
     "iopub.status.busy": "2021-04-19T04:16:43.110552Z",
     "iopub.status.idle": "2021-04-19T04:16:43.112963Z",
     "shell.execute_reply": "2021-04-19T04:16:43.113672Z"
    }
   },
   "outputs": [
    {
     "name": "stdout",
     "output_type": "stream",
     "text": [
      "2\n"
     ]
    }
   ],
   "source": [
    "print(numeros[2])  # Imprimo elemento en la posición 2"
   ]
  },
  {
   "cell_type": "code",
   "execution_count": 40,
   "id": "693adb5e",
   "metadata": {
    "execution": {
     "iopub.execute_input": "2021-04-19T04:16:43.119152Z",
     "iopub.status.busy": "2021-04-19T04:16:43.118454Z",
     "iopub.status.idle": "2021-04-19T04:16:43.121538Z",
     "shell.execute_reply": "2021-04-19T04:16:43.122064Z"
    }
   },
   "outputs": [
    {
     "data": {
      "text/plain": [
       "10"
      ]
     },
     "execution_count": 1,
     "metadata": {},
     "output_type": "execute_result"
    }
   ],
   "source": [
    "numeros[len(numeros) - 1]"
   ]
  },
  {
   "cell_type": "code",
   "execution_count": 41,
   "id": "135fca0e",
   "metadata": {
    "execution": {
     "iopub.execute_input": "2021-04-19T04:16:43.126537Z",
     "iopub.status.busy": "2021-04-19T04:16:43.125867Z",
     "iopub.status.idle": "2021-04-19T04:16:43.128437Z",
     "shell.execute_reply": "2021-04-19T04:16:43.129092Z"
    },
    "lines_to_next_cell": 2
   },
   "outputs": [
    {
     "name": "stdout",
     "output_type": "stream",
     "text": [
      "10\n"
     ]
    }
   ],
   "source": [
    "print(numeros[-1])  # # Imprimo elemento en la última posición"
   ]
  },
  {
   "cell_type": "code",
   "execution_count": 42,
   "id": "876e32eb",
   "metadata": {
    "execution": {
     "iopub.execute_input": "2021-04-19T04:16:43.133453Z",
     "iopub.status.busy": "2021-04-19T04:16:43.132755Z",
     "iopub.status.idle": "2021-04-19T04:16:43.137242Z",
     "shell.execute_reply": "2021-04-19T04:16:43.136639Z"
    },
    "lines_to_next_cell": 2
   },
   "outputs": [
    {
     "data": {
      "text/plain": [
       "9"
      ]
     },
     "execution_count": 1,
     "metadata": {},
     "output_type": "execute_result"
    }
   ],
   "source": [
    "numeros[-2]"
   ]
  },
  {
   "cell_type": "code",
   "execution_count": 43,
   "id": "a6690940",
   "metadata": {
    "execution": {
     "iopub.execute_input": "2021-04-19T04:16:43.141821Z",
     "iopub.status.busy": "2021-04-19T04:16:43.141111Z",
     "iopub.status.idle": "2021-04-19T04:16:43.144135Z",
     "shell.execute_reply": "2021-04-19T04:16:43.144826Z"
    }
   },
   "outputs": [
    {
     "name": "stdout",
     "output_type": "stream",
     "text": [
      "[0, 1, 2]\n"
     ]
    }
   ],
   "source": [
    "print(numeros[0:3])  # Imprimo de la pos 0 a la pos 2"
   ]
  },
  {
   "cell_type": "code",
   "execution_count": 44,
   "id": "7a6d145b",
   "metadata": {
    "execution": {
     "iopub.execute_input": "2021-04-19T04:16:43.149139Z",
     "iopub.status.busy": "2021-04-19T04:16:43.148480Z",
     "iopub.status.idle": "2021-04-19T04:16:43.150596Z",
     "shell.execute_reply": "2021-04-19T04:16:43.151384Z"
    }
   },
   "outputs": [
    {
     "name": "stdout",
     "output_type": "stream",
     "text": [
      "[7, 8]\n"
     ]
    }
   ],
   "source": [
    "print(numeros[-4:-2])"
   ]
  },
  {
   "cell_type": "code",
   "execution_count": 45,
   "id": "c0f361b8",
   "metadata": {
    "execution": {
     "iopub.execute_input": "2021-04-19T04:16:43.156265Z",
     "iopub.status.busy": "2021-04-19T04:16:43.155614Z",
     "iopub.status.idle": "2021-04-19T04:16:43.157962Z",
     "shell.execute_reply": "2021-04-19T04:16:43.158666Z"
    }
   },
   "outputs": [
    {
     "name": "stdout",
     "output_type": "stream",
     "text": [
      "[0, 1, 2, 3, 4, 5, 6, 7, 8, 9, 10]\n"
     ]
    }
   ],
   "source": [
    "print(numeros[0:80])"
   ]
  },
  {
   "cell_type": "code",
   "execution_count": 46,
   "id": "1747fdc3",
   "metadata": {
    "execution": {
     "iopub.execute_input": "2021-04-19T04:16:43.163039Z",
     "iopub.status.busy": "2021-04-19T04:16:43.162378Z",
     "iopub.status.idle": "2021-04-19T04:16:43.165342Z",
     "shell.execute_reply": "2021-04-19T04:16:43.165865Z"
    }
   },
   "outputs": [
    {
     "name": "stdout",
     "output_type": "stream",
     "text": [
      "[0, 1, 2]\n"
     ]
    }
   ],
   "source": [
    "print(numeros[:3])"
   ]
  },
  {
   "cell_type": "code",
   "execution_count": 47,
   "id": "43486a9a",
   "metadata": {
    "execution": {
     "iopub.execute_input": "2021-04-19T04:16:43.169985Z",
     "iopub.status.busy": "2021-04-19T04:16:43.169377Z",
     "iopub.status.idle": "2021-04-19T04:16:43.173589Z",
     "shell.execute_reply": "2021-04-19T04:16:43.172952Z"
    }
   },
   "outputs": [
    {
     "name": "stdout",
     "output_type": "stream",
     "text": [
      "[3, 4, 5, 6, 7, 8, 9, 10]\n"
     ]
    }
   ],
   "source": [
    "print(numeros[3:])"
   ]
  },
  {
   "cell_type": "code",
   "execution_count": 48,
   "id": "cbee4324",
   "metadata": {
    "execution": {
     "iopub.execute_input": "2021-04-19T04:16:43.178103Z",
     "iopub.status.busy": "2021-04-19T04:16:43.177482Z",
     "iopub.status.idle": "2021-04-19T04:16:43.180577Z",
     "shell.execute_reply": "2021-04-19T04:16:43.179808Z"
    }
   },
   "outputs": [
    {
     "name": "stdout",
     "output_type": "stream",
     "text": [
      "[0, 2, 4, 6, 8]\n"
     ]
    }
   ],
   "source": [
    "print(numeros[0:10:2])"
   ]
  },
  {
   "cell_type": "markdown",
   "id": "1123d6ec",
   "metadata": {},
   "source": [
    "```python\n",
    "lista[<inicio>:<final>:<step>]\n",
    "```"
   ]
  },
  {
   "cell_type": "code",
   "execution_count": 49,
   "id": "05783c23",
   "metadata": {
    "execution": {
     "iopub.execute_input": "2021-04-19T04:16:43.186007Z",
     "iopub.status.busy": "2021-04-19T04:16:43.185218Z",
     "iopub.status.idle": "2021-04-19T04:16:43.188785Z",
     "shell.execute_reply": "2021-04-19T04:16:43.188096Z"
    },
    "lines_to_next_cell": 2
   },
   "outputs": [
    {
     "data": {
      "text/plain": [
       "[1, 2, 3, 4]"
      ]
     },
     "execution_count": 1,
     "metadata": {},
     "output_type": "execute_result"
    }
   ],
   "source": [
    "l1 = [1, 2]\n",
    "l2 = [3, 4]\n",
    "l1 + l2"
   ]
  },
  {
   "cell_type": "code",
   "execution_count": 50,
   "id": "99c11375",
   "metadata": {
    "execution": {
     "iopub.execute_input": "2021-04-19T04:16:43.192763Z",
     "iopub.status.busy": "2021-04-19T04:16:43.192138Z",
     "iopub.status.idle": "2021-04-19T04:16:43.195110Z",
     "shell.execute_reply": "2021-04-19T04:16:43.194142Z"
    }
   },
   "outputs": [
    {
     "name": "stdout",
     "output_type": "stream",
     "text": [
      "[0, 1, 2, 3, 4, 5, 6, 'siete', 8, 9, 10]\n"
     ]
    }
   ],
   "source": [
    "numeros[7] = 'siete'  # Las listas se pueden mutar\n",
    "print(numeros)"
   ]
  },
  {
   "cell_type": "code",
   "execution_count": 51,
   "id": "feb08f39",
   "metadata": {
    "execution": {
     "iopub.execute_input": "2021-04-19T04:16:43.199044Z",
     "iopub.status.busy": "2021-04-19T04:16:43.198414Z",
     "iopub.status.idle": "2021-04-19T04:16:43.201601Z",
     "shell.execute_reply": "2021-04-19T04:16:43.200982Z"
    }
   },
   "outputs": [
    {
     "name": "stdout",
     "output_type": "stream",
     "text": [
      "[10, 9, 8, 'siete', 6, 5, 4, 3, 2, 1, 0]\n"
     ]
    }
   ],
   "source": [
    "numeros = numeros[::-1]\n",
    "print(numeros)"
   ]
  },
  {
   "cell_type": "code",
   "execution_count": 52,
   "id": "e0c965aa",
   "metadata": {
    "execution": {
     "iopub.execute_input": "2021-04-19T04:16:43.207628Z",
     "iopub.status.busy": "2021-04-19T04:16:43.204787Z",
     "iopub.status.idle": "2021-04-19T04:16:43.211450Z",
     "shell.execute_reply": "2021-04-19T04:16:43.210879Z"
    },
    "tags": [
     "raises-exception"
    ]
   },
   "outputs": [
    {
     "ename": "IndexError",
     "evalue": "list index out of range",
     "output_type": "error",
     "traceback": [
      "\u001b[0;31m---------------------------------------------------------------------------\u001b[0m",
      "\u001b[0;31mIndexError\u001b[0m                                Traceback (most recent call last)",
      "\u001b[0;32m<ipython-input-1-0ef91dd29a9b>\u001b[0m in \u001b[0;36m<module>\u001b[0;34m\u001b[0m\n\u001b[0;32m----> 1\u001b[0;31m \u001b[0mprint\u001b[0m\u001b[0;34m(\u001b[0m\u001b[0mnumeros\u001b[0m\u001b[0;34m[\u001b[0m\u001b[0;36m15\u001b[0m\u001b[0;34m]\u001b[0m\u001b[0;34m)\u001b[0m  \u001b[0;31m# Falla. No se puede acceder a una posición inexistente\u001b[0m\u001b[0;34m\u001b[0m\u001b[0;34m\u001b[0m\u001b[0m\n\u001b[0m",
      "\u001b[0;31mIndexError\u001b[0m: list index out of range"
     ]
    }
   ],
   "source": [
    "print(numeros[15])  # Falla. No se puede acceder a una posición inexistente"
   ]
  },
  {
   "cell_type": "code",
   "execution_count": 53,
   "id": "5ff9b7e7",
   "metadata": {
    "execution": {
     "iopub.execute_input": "2021-04-19T04:16:43.217610Z",
     "iopub.status.busy": "2021-04-19T04:16:43.216945Z",
     "iopub.status.idle": "2021-04-19T04:16:43.221489Z",
     "shell.execute_reply": "2021-04-19T04:16:43.221981Z"
    }
   },
   "outputs": [
    {
     "name": "stdout",
     "output_type": "stream",
     "text": [
      "palabra\n",
      "a\n",
      "pal\n",
      "abra\n"
     ]
    }
   ],
   "source": [
    "palabra = 'palabra'\n",
    "print(palabra)\n",
    "print(palabra[3])\n",
    "print(palabra[:3])\n",
    "print(palabra[3:])"
   ]
  },
  {
   "cell_type": "code",
   "execution_count": 54,
   "id": "7ec79eae",
   "metadata": {
    "execution": {
     "iopub.execute_input": "2021-04-19T04:16:43.228840Z",
     "iopub.status.busy": "2021-04-19T04:16:43.227145Z",
     "iopub.status.idle": "2021-04-19T04:16:43.230939Z",
     "shell.execute_reply": "2021-04-19T04:16:43.230357Z"
    }
   },
   "outputs": [
    {
     "name": "stdout",
     "output_type": "stream",
     "text": [
      "(0, 1, 2, 3, 4)\n",
      "(0, 1)\n",
      "(2, 3, 4)\n"
     ]
    }
   ],
   "source": [
    "tupla = (0, 1, 2, 3, 4)\n",
    "\n",
    "print(tupla)\n",
    "print(tupla[:2])\n",
    "print(tupla[2:])"
   ]
  },
  {
   "cell_type": "markdown",
   "id": "7cb4c653",
   "metadata": {
    "slideshow": {
     "slide_type": "slide"
    }
   },
   "source": [
    "#### Diccionarios de Python\n",
    "\n",
    "Son como hashmaps, las claves deben ser inmutables para que no pierda sentido el diccionario. Si se pudieran modificar, se podrían cambiar las claves y generaría conflictos.\n",
    "\n",
    "Tipos mutables:\n",
    "- Listas\n",
    "- Diccionarios\n",
    "- Sets\n",
    "\n",
    "Tipos inmutables:\n",
    "- Int\n",
    "- Float\n",
    "- String\n",
    "- Tuplas\n"
   ]
  },
  {
   "cell_type": "code",
   "execution_count": 55,
   "id": "8f993530",
   "metadata": {
    "execution": {
     "iopub.execute_input": "2021-04-19T04:16:43.237279Z",
     "iopub.status.busy": "2021-04-19T04:16:43.235643Z",
     "iopub.status.idle": "2021-04-19T04:16:43.239521Z",
     "shell.execute_reply": "2021-04-19T04:16:43.238924Z"
    },
    "slideshow": {
     "slide_type": "slide"
    }
   },
   "outputs": [
    {
     "data": {
      "text/plain": [
       "{}"
      ]
     },
     "execution_count": 1,
     "metadata": {},
     "output_type": "execute_result"
    }
   ],
   "source": [
    "diccionario = {}\n",
    "diccionario"
   ]
  },
  {
   "cell_type": "code",
   "execution_count": 56,
   "id": "6144ae9b",
   "metadata": {
    "execution": {
     "iopub.execute_input": "2021-04-19T04:16:43.245635Z",
     "iopub.status.busy": "2021-04-19T04:16:43.243999Z",
     "iopub.status.idle": "2021-04-19T04:16:43.248189Z",
     "shell.execute_reply": "2021-04-19T04:16:43.247459Z"
    }
   },
   "outputs": [
    {
     "data": {
      "text/plain": [
       "{}"
      ]
     },
     "execution_count": 1,
     "metadata": {},
     "output_type": "execute_result"
    }
   ],
   "source": [
    "diccionario = dict()\n",
    "diccionario"
   ]
  },
  {
   "cell_type": "code",
   "execution_count": 57,
   "id": "71bac02c",
   "metadata": {
    "execution": {
     "iopub.execute_input": "2021-04-19T04:16:43.253375Z",
     "iopub.status.busy": "2021-04-19T04:16:43.252661Z",
     "iopub.status.idle": "2021-04-19T04:16:43.254969Z",
     "shell.execute_reply": "2021-04-19T04:16:43.255718Z"
    },
    "slideshow": {
     "slide_type": "slide"
    }
   },
   "outputs": [
    {
     "name": "stdout",
     "output_type": "stream",
     "text": [
      "{'clave1': 'valor1', 2: 'valor2', 'clave3': 3}\n"
     ]
    }
   ],
   "source": [
    "# Cómo agregar cosas al diccionario\n",
    "diccionario['clave1'] = 'valor1'\n",
    "diccionario[2] = 'valor2'\n",
    "diccionario['clave3'] = 3\n",
    "print(diccionario)"
   ]
  },
  {
   "cell_type": "markdown",
   "id": "da7d7888",
   "metadata": {},
   "source": [
    "Hay dos formas de obtener valores de un diccionario:\n",
    "\n",
    "```python\n",
    "diccionario[clave]\n",
    "```\n",
    "\n",
    "El cual devuelve el valor si existe la clave suministrada o bien lanza `KeyError` si no existe."
   ]
  },
  {
   "cell_type": "code",
   "execution_count": 58,
   "id": "7b13a6c9",
   "metadata": {
    "execution": {
     "iopub.execute_input": "2021-04-19T04:16:43.260155Z",
     "iopub.status.busy": "2021-04-19T04:16:43.259449Z",
     "iopub.status.idle": "2021-04-19T04:16:43.262514Z",
     "shell.execute_reply": "2021-04-19T04:16:43.263095Z"
    }
   },
   "outputs": [
    {
     "data": {
      "text/plain": [
       "'valor1'"
      ]
     },
     "execution_count": 1,
     "metadata": {},
     "output_type": "execute_result"
    }
   ],
   "source": [
    "diccionario['clave1']"
   ]
  },
  {
   "cell_type": "code",
   "execution_count": 59,
   "id": "b5ef2051",
   "metadata": {
    "execution": {
     "iopub.execute_input": "2021-04-19T04:16:43.271366Z",
     "iopub.status.busy": "2021-04-19T04:16:43.270559Z",
     "iopub.status.idle": "2021-04-19T04:16:43.273068Z",
     "shell.execute_reply": "2021-04-19T04:16:43.273644Z"
    },
    "tags": [
     "raises-exception"
    ]
   },
   "outputs": [
    {
     "ename": "KeyError",
     "evalue": "'clave1000'",
     "output_type": "error",
     "traceback": [
      "\u001b[0;31m---------------------------------------------------------------------------\u001b[0m",
      "\u001b[0;31mKeyError\u001b[0m                                  Traceback (most recent call last)",
      "\u001b[0;32m<ipython-input-1-41aae9a2e5ed>\u001b[0m in \u001b[0;36m<module>\u001b[0;34m\u001b[0m\n\u001b[0;32m----> 1\u001b[0;31m \u001b[0mdiccionario\u001b[0m\u001b[0;34m[\u001b[0m\u001b[0;34m'clave1000'\u001b[0m\u001b[0;34m]\u001b[0m\u001b[0;34m\u001b[0m\u001b[0;34m\u001b[0m\u001b[0m\n\u001b[0m",
      "\u001b[0;31mKeyError\u001b[0m: 'clave1000'"
     ]
    }
   ],
   "source": [
    "diccionario['clave1000']"
   ]
  },
  {
   "cell_type": "markdown",
   "id": "3b57717b",
   "metadata": {},
   "source": [
    "La segunda forma es con `get`:"
   ]
  },
  {
   "cell_type": "code",
   "execution_count": 60,
   "id": "b2d7edd7",
   "metadata": {
    "execution": {
     "iopub.execute_input": "2021-04-19T04:16:43.281943Z",
     "iopub.status.busy": "2021-04-19T04:16:43.281277Z",
     "iopub.status.idle": "2021-04-19T04:16:43.339340Z",
     "shell.execute_reply": "2021-04-19T04:16:43.338662Z"
    }
   },
   "outputs": [],
   "source": [
    "diccionario.get?"
   ]
  },
  {
   "cell_type": "code",
   "execution_count": 61,
   "id": "07761ad9",
   "metadata": {
    "execution": {
     "iopub.execute_input": "2021-04-19T04:16:43.345827Z",
     "iopub.status.busy": "2021-04-19T04:16:43.344356Z",
     "iopub.status.idle": "2021-04-19T04:16:43.349117Z",
     "shell.execute_reply": "2021-04-19T04:16:43.349697Z"
    }
   },
   "outputs": [
    {
     "name": "stdout",
     "output_type": "stream",
     "text": [
      "Help on built-in function get:\n",
      "\n",
      "get(key, default=None, /) method of builtins.dict instance\n",
      "    Return the value for key if key is in the dictionary, else default.\n",
      "\n"
     ]
    }
   ],
   "source": [
    "help(diccionario.get)"
   ]
  },
  {
   "cell_type": "code",
   "execution_count": 62,
   "id": "d28ec731",
   "metadata": {
    "execution": {
     "iopub.execute_input": "2021-04-19T04:16:43.356008Z",
     "iopub.status.busy": "2021-04-19T04:16:43.354227Z",
     "iopub.status.idle": "2021-04-19T04:16:43.358362Z",
     "shell.execute_reply": "2021-04-19T04:16:43.357771Z"
    },
    "slideshow": {
     "slide_type": "slide"
    }
   },
   "outputs": [
    {
     "name": "stdout",
     "output_type": "stream",
     "text": [
      "None\n"
     ]
    }
   ],
   "source": [
    "print(diccionario.get('clave1000'))"
   ]
  },
  {
   "cell_type": "code",
   "execution_count": 63,
   "id": "ba54ab76",
   "metadata": {
    "execution": {
     "iopub.execute_input": "2021-04-19T04:16:43.365116Z",
     "iopub.status.busy": "2021-04-19T04:16:43.363290Z",
     "iopub.status.idle": "2021-04-19T04:16:43.367604Z",
     "shell.execute_reply": "2021-04-19T04:16:43.366970Z"
    },
    "slideshow": {
     "slide_type": "slide"
    }
   },
   "outputs": [
    {
     "name": "stdout",
     "output_type": "stream",
     "text": [
      "True\n"
     ]
    }
   ],
   "source": [
    "print('clave1' in diccionario)  # Verifico si la clave está en el diccionario"
   ]
  },
  {
   "cell_type": "code",
   "execution_count": 64,
   "id": "f3fc4f4a",
   "metadata": {
    "execution": {
     "iopub.execute_input": "2021-04-19T04:16:43.374294Z",
     "iopub.status.busy": "2021-04-19T04:16:43.372823Z",
     "iopub.status.idle": "2021-04-19T04:16:43.377228Z",
     "shell.execute_reply": "2021-04-19T04:16:43.376351Z"
    }
   },
   "outputs": [
    {
     "data": {
      "text/plain": [
       "True"
      ]
     },
     "execution_count": 1,
     "metadata": {},
     "output_type": "execute_result"
    }
   ],
   "source": [
    "l = [1, 2, 3, 4]\n",
    "2 in l"
   ]
  },
  {
   "cell_type": "code",
   "execution_count": 65,
   "id": "b3caf336",
   "metadata": {
    "execution": {
     "iopub.execute_input": "2021-04-19T04:16:43.383672Z",
     "iopub.status.busy": "2021-04-19T04:16:43.382205Z",
     "iopub.status.idle": "2021-04-19T04:16:43.385971Z",
     "shell.execute_reply": "2021-04-19T04:16:43.385335Z"
    }
   },
   "outputs": [
    {
     "name": "stdout",
     "output_type": "stream",
     "text": [
      "la clave es clave1 y el valor es valor1\n",
      "la clave es 2 y el valor es valor2\n",
      "la clave es clave3 y el valor es 3\n"
     ]
    }
   ],
   "source": [
    "for clave, valor in diccionario.items():\n",
    "    print(\"la clave es %s y el valor es %s\" % (clave, valor))"
   ]
  },
  {
   "cell_type": "code",
   "execution_count": 66,
   "id": "ca7ced72",
   "metadata": {
    "execution": {
     "iopub.execute_input": "2021-04-19T04:16:43.393133Z",
     "iopub.status.busy": "2021-04-19T04:16:43.391587Z",
     "iopub.status.idle": "2021-04-19T04:16:43.395253Z",
     "shell.execute_reply": "2021-04-19T04:16:43.394676Z"
    }
   },
   "outputs": [
    {
     "name": "stdout",
     "output_type": "stream",
     "text": [
      "la clave es clave1 y el valor es valor1\n",
      "la clave es 2 y el valor es valor2\n",
      "la clave es clave3 y el valor es 3\n"
     ]
    }
   ],
   "source": [
    "for clave, valor in diccionario.items():\n",
    "    print(\"la clave es {} y el valor es {}\".format(clave, valor))"
   ]
  },
  {
   "cell_type": "code",
   "execution_count": 67,
   "id": "69255274",
   "metadata": {
    "execution": {
     "iopub.execute_input": "2021-04-19T04:16:43.402387Z",
     "iopub.status.busy": "2021-04-19T04:16:43.400858Z",
     "iopub.status.idle": "2021-04-19T04:16:43.404514Z",
     "shell.execute_reply": "2021-04-19T04:16:43.403947Z"
    },
    "slideshow": {
     "slide_type": "slide"
    }
   },
   "outputs": [
    {
     "name": "stdout",
     "output_type": "stream",
     "text": [
      "la clave es clave1 y el valor es valor1\n",
      "la clave es 2 y el valor es valor2\n",
      "la clave es clave3 y el valor es 3\n"
     ]
    }
   ],
   "source": [
    "# Cómo iterar un diccionario elemento por elemento\n",
    "for (\n",
    "    clave,\n",
    "    valor,\n",
    ") in (\n",
    "    diccionario.items()\n",
    "):  # diccionario.items() va devolviendo tuplas con el formato (clave,valor)\n",
    "    print(\n",
    "        f\"la clave es {clave} y el valor es {valor}\"\n",
    "    )  # con esta sintaxis se desempaquetan en clave y valor (similar a enumerate)"
   ]
  },
  {
   "cell_type": "code",
   "execution_count": 68,
   "id": "0f909630",
   "metadata": {
    "execution": {
     "iopub.execute_input": "2021-04-19T04:16:43.409939Z",
     "iopub.status.busy": "2021-04-19T04:16:43.409285Z",
     "iopub.status.idle": "2021-04-19T04:16:43.412529Z",
     "shell.execute_reply": "2021-04-19T04:16:43.413226Z"
    },
    "slideshow": {
     "slide_type": "slide"
    }
   },
   "outputs": [
    {
     "name": "stdout",
     "output_type": "stream",
     "text": [
      "clave1\n",
      "2\n",
      "clave3\n"
     ]
    }
   ],
   "source": [
    "for clave in diccionario.keys():\n",
    "    print(clave)"
   ]
  },
  {
   "cell_type": "code",
   "execution_count": 69,
   "id": "efff86f3",
   "metadata": {
    "execution": {
     "iopub.execute_input": "2021-04-19T04:16:43.419446Z",
     "iopub.status.busy": "2021-04-19T04:16:43.417933Z",
     "iopub.status.idle": "2021-04-19T04:16:43.422014Z",
     "shell.execute_reply": "2021-04-19T04:16:43.421314Z"
    },
    "slideshow": {
     "slide_type": "slide"
    }
   },
   "outputs": [
    {
     "name": "stdout",
     "output_type": "stream",
     "text": [
      "valor1\n",
      "valor2\n",
      "3\n"
     ]
    }
   ],
   "source": [
    "for valor in diccionario.values():\n",
    "    print(valor)"
   ]
  },
  {
   "cell_type": "markdown",
   "id": "06c1b555",
   "metadata": {},
   "source": [
    "#### Sets\n",
    "\n",
    "Son similares a los diccionarios (en eficiencia) pero se almacenan solo claves, y tienen algunas operaciones particulares.\n",
    "\n",
    "En particular, no pueden tener elementos iguales (pensar que son conjuntos)"
   ]
  },
  {
   "cell_type": "code",
   "execution_count": 70,
   "id": "d60bfa92",
   "metadata": {
    "execution": {
     "iopub.execute_input": "2021-04-19T04:16:43.426545Z",
     "iopub.status.busy": "2021-04-19T04:16:43.425827Z",
     "iopub.status.idle": "2021-04-19T04:16:43.431004Z",
     "shell.execute_reply": "2021-04-19T04:16:43.430286Z"
    }
   },
   "outputs": [],
   "source": [
    "set??"
   ]
  },
  {
   "cell_type": "code",
   "execution_count": 71,
   "id": "3c8bc5ac",
   "metadata": {
    "execution": {
     "iopub.execute_input": "2021-04-19T04:16:43.436992Z",
     "iopub.status.busy": "2021-04-19T04:16:43.435969Z",
     "iopub.status.idle": "2021-04-19T04:16:43.439384Z",
     "shell.execute_reply": "2021-04-19T04:16:43.439963Z"
    }
   },
   "outputs": [
    {
     "data": {
      "text/plain": [
       "{1, 2, 3}"
      ]
     },
     "execution_count": 1,
     "metadata": {},
     "output_type": "execute_result"
    }
   ],
   "source": [
    "# Se definen como los diccionarios pero sin hacerlos 'clave:valor', solamente una seguidilla de elementos\n",
    "{1, 2, 2, 3}"
   ]
  },
  {
   "cell_type": "code",
   "execution_count": 72,
   "id": "7a24c40b",
   "metadata": {
    "execution": {
     "iopub.execute_input": "2021-04-19T04:16:43.445821Z",
     "iopub.status.busy": "2021-04-19T04:16:43.444668Z",
     "iopub.status.idle": "2021-04-19T04:16:43.447493Z",
     "shell.execute_reply": "2021-04-19T04:16:43.448172Z"
    }
   },
   "outputs": [
    {
     "data": {
      "text/plain": [
       "{1, 2, 3}"
      ]
     },
     "execution_count": 1,
     "metadata": {},
     "output_type": "execute_result"
    }
   ],
   "source": [
    "set([1, 2, 2, 3])"
   ]
  },
  {
   "cell_type": "markdown",
   "id": "40d5b15a",
   "metadata": {},
   "source": [
    "## Condicionales (if...elif...else)\n",
    "\n",
    "```python\n",
    "if <condición_1>:\n",
    "    <hacer algo_1 si se da la condición_1>\n",
    "elif <condición_2>:\n",
    "    <hacer algo_2 si se da la condición_2>\n",
    "...\n",
    "elif <condición_n>:\n",
    "    <hacer algo_n si se da la condición_n>\n",
    "else:\n",
    "    <hacer otra cosa si no dan las anteriores>\n",
    "```\n",
    "\n",
    "Algo importante para notar es que los bloques se definen por **niveles de identacion**."
   ]
  },
  {
   "cell_type": "code",
   "execution_count": 73,
   "id": "3dcdabd2",
   "metadata": {
    "execution": {
     "iopub.execute_input": "2021-04-19T04:16:43.452676Z",
     "iopub.status.busy": "2021-04-19T04:16:43.452053Z",
     "iopub.status.idle": "2021-04-19T04:16:43.454188Z",
     "shell.execute_reply": "2021-04-19T04:16:43.454797Z"
    }
   },
   "outputs": [
    {
     "name": "stdout",
     "output_type": "stream",
     "text": [
      "uno\n"
     ]
    }
   ],
   "source": [
    "v = 1\n",
    "if v == 1:\n",
    "    print(\"uno\")\n",
    "elif v == 2:\n",
    "    print(\"dos\")\n",
    "else:\n",
    "    print(\"ni idea\")\n",
    "    print(v)"
   ]
  },
  {
   "cell_type": "markdown",
   "id": "45978e1d",
   "metadata": {},
   "source": [
    "## Iteraciones\n",
    "\n",
    "```python\n",
    "while cond:\n",
    "    <codigo>\n",
    "```\n",
    "\n",
    "```python\n",
    "for elemento in iterable:\n",
    "    <codigo>\n",
    "```\n",
    "\n",
    "Para iterar sobre un rango de valores, usamos `range`"
   ]
  },
  {
   "cell_type": "code",
   "execution_count": 74,
   "id": "03be9e04",
   "metadata": {
    "execution": {
     "iopub.execute_input": "2021-04-19T04:16:43.459483Z",
     "iopub.status.busy": "2021-04-19T04:16:43.458711Z",
     "iopub.status.idle": "2021-04-19T04:16:43.461166Z",
     "shell.execute_reply": "2021-04-19T04:16:43.461770Z"
    }
   },
   "outputs": [
    {
     "name": "stdout",
     "output_type": "stream",
     "text": [
      "1\n",
      "4\n",
      "7\n",
      "10\n"
     ]
    }
   ],
   "source": [
    "for i in range(1, 11, 3):\n",
    "    print(i)"
   ]
  },
  {
   "cell_type": "markdown",
   "id": "a7b1106a",
   "metadata": {},
   "source": [
    "## Operadores logicos\n",
    "\n",
    "`not`, `or`, `and`"
   ]
  },
  {
   "cell_type": "code",
   "execution_count": 75,
   "id": "2d75c7ca",
   "metadata": {
    "execution": {
     "iopub.execute_input": "2021-04-19T04:16:43.465968Z",
     "iopub.status.busy": "2021-04-19T04:16:43.465365Z",
     "iopub.status.idle": "2021-04-19T04:16:43.467632Z",
     "shell.execute_reply": "2021-04-19T04:16:43.468285Z"
    }
   },
   "outputs": [
    {
     "name": "stdout",
     "output_type": "stream",
     "text": [
      "yay\n"
     ]
    }
   ],
   "source": [
    "if True or False:\n",
    "    print(\"yay\")"
   ]
  },
  {
   "cell_type": "code",
   "execution_count": 76,
   "id": "5d02f0f2",
   "metadata": {
    "execution": {
     "iopub.execute_input": "2021-04-19T04:16:43.472322Z",
     "iopub.status.busy": "2021-04-19T04:16:43.471577Z",
     "iopub.status.idle": "2021-04-19T04:16:43.474370Z",
     "shell.execute_reply": "2021-04-19T04:16:43.474882Z"
    }
   },
   "outputs": [
    {
     "data": {
      "text/plain": [
       "False"
      ]
     },
     "execution_count": 1,
     "metadata": {},
     "output_type": "execute_result"
    }
   ],
   "source": [
    "1 == 2"
   ]
  },
  {
   "cell_type": "code",
   "execution_count": 77,
   "id": "3a590757",
   "metadata": {
    "execution": {
     "iopub.execute_input": "2021-04-19T04:16:43.479017Z",
     "iopub.status.busy": "2021-04-19T04:16:43.478401Z",
     "iopub.status.idle": "2021-04-19T04:16:43.481215Z",
     "shell.execute_reply": "2021-04-19T04:16:43.481805Z"
    }
   },
   "outputs": [
    {
     "data": {
      "text/plain": [
       "True"
      ]
     },
     "execution_count": 1,
     "metadata": {},
     "output_type": "execute_result"
    }
   ],
   "source": [
    "1 != 2"
   ]
  },
  {
   "cell_type": "markdown",
   "id": "6ba82452",
   "metadata": {
    "slideshow": {
     "slide_type": "slide"
    }
   },
   "source": [
    "## Funciones en Python"
   ]
  },
  {
   "cell_type": "code",
   "execution_count": 78,
   "id": "7d7abfb7",
   "metadata": {
    "execution": {
     "iopub.execute_input": "2021-04-19T04:16:43.490551Z",
     "iopub.status.busy": "2021-04-19T04:16:43.488911Z",
     "iopub.status.idle": "2021-04-19T04:16:43.493144Z",
     "shell.execute_reply": "2021-04-19T04:16:43.492569Z"
    },
    "slideshow": {
     "slide_type": "slide"
    }
   },
   "outputs": [
    {
     "name": "stdout",
     "output_type": "stream",
     "text": [
      "True\n",
      "False\n"
     ]
    }
   ],
   "source": [
    "def busqueda_binaria(lista, elemento):\n",
    "    if not lista:\n",
    "        return False\n",
    "    elif len(lista) == 1:\n",
    "        return lista[0] == elemento\n",
    "    mitad = len(lista) // 2  # // es la operación división entera\n",
    "    if lista[mitad] == elemento:\n",
    "        return True\n",
    "    if lista[mitad] > elemento:\n",
    "        return busqueda_binaria(lista[:mitad], elemento)\n",
    "    if lista[mitad] < elemento:\n",
    "        return busqueda_binaria(lista[mitad:], elemento)\n",
    "\n",
    "\n",
    "print(busqueda_binaria([1, 2, 3, 4, 5], 4))\n",
    "print(busqueda_binaria([1, 4, 6, 7, 9, 10], 2))"
   ]
  },
  {
   "cell_type": "code",
   "execution_count": 79,
   "id": "5759f5b8",
   "metadata": {
    "execution": {
     "iopub.execute_input": "2021-04-19T04:16:43.498487Z",
     "iopub.status.busy": "2021-04-19T04:16:43.497690Z",
     "iopub.status.idle": "2021-04-19T04:16:43.500364Z",
     "shell.execute_reply": "2021-04-19T04:16:43.501002Z"
    }
   },
   "outputs": [
    {
     "name": "stdout",
     "output_type": "stream",
     "text": [
      "(3, 3, 3)\n"
     ]
    }
   ],
   "source": [
    "def a(b):\n",
    "    if a == 1:\n",
    "        print(a)\n",
    "    return (b, b, b)\n",
    "\n",
    "\n",
    "print(a(3))"
   ]
  },
  {
   "cell_type": "code",
   "execution_count": 80,
   "id": "ae80216c",
   "metadata": {
    "execution": {
     "iopub.execute_input": "2021-04-19T04:16:43.507162Z",
     "iopub.status.busy": "2021-04-19T04:16:43.506525Z",
     "iopub.status.idle": "2021-04-19T04:16:43.516308Z",
     "shell.execute_reply": "2021-04-19T04:16:43.516934Z"
    },
    "lines_to_next_cell": 2,
    "slideshow": {
     "slide_type": "slide"
    },
    "tags": [
     "raises-exception"
    ]
   },
   "outputs": [
    {
     "name": "stdout",
     "output_type": "stream",
     "text": [
      "3\n",
      "3.0\n",
      "3.0\n",
      "hola como te va\n",
      "[1, 2, 3, 4, 5]\n"
     ]
    },
    {
     "ename": "TypeError",
     "evalue": "can only concatenate str (not \"int\") to str",
     "output_type": "error",
     "traceback": [
      "\u001b[0;31m---------------------------------------------------------------------------\u001b[0m",
      "\u001b[0;31mTypeError\u001b[0m                                 Traceback (most recent call last)",
      "\u001b[0;32m<ipython-input-1-c2a6a99a90c7>\u001b[0m in \u001b[0;36m<module>\u001b[0;34m\u001b[0m\n\u001b[1;32m      8\u001b[0m \u001b[0mprint\u001b[0m\u001b[0;34m(\u001b[0m\u001b[0msuma\u001b[0m\u001b[0;34m(\u001b[0m\u001b[0;34m\"hola \"\u001b[0m\u001b[0;34m,\u001b[0m \u001b[0;34m\"como te va\"\u001b[0m\u001b[0;34m)\u001b[0m\u001b[0;34m)\u001b[0m\u001b[0;34m\u001b[0m\u001b[0;34m\u001b[0m\u001b[0m\n\u001b[1;32m      9\u001b[0m \u001b[0mprint\u001b[0m\u001b[0;34m(\u001b[0m\u001b[0msuma\u001b[0m\u001b[0;34m(\u001b[0m\u001b[0;34m[\u001b[0m\u001b[0;36m1\u001b[0m\u001b[0;34m,\u001b[0m \u001b[0;36m2\u001b[0m\u001b[0;34m,\u001b[0m \u001b[0;36m3\u001b[0m\u001b[0;34m]\u001b[0m\u001b[0;34m,\u001b[0m \u001b[0;34m[\u001b[0m\u001b[0;36m4\u001b[0m\u001b[0;34m,\u001b[0m \u001b[0;36m5\u001b[0m\u001b[0;34m]\u001b[0m\u001b[0;34m)\u001b[0m\u001b[0;34m)\u001b[0m\u001b[0;34m\u001b[0m\u001b[0;34m\u001b[0m\u001b[0m\n\u001b[0;32m---> 10\u001b[0;31m \u001b[0mprint\u001b[0m\u001b[0;34m(\u001b[0m\u001b[0msuma\u001b[0m\u001b[0;34m(\u001b[0m\u001b[0;34m\"1\"\u001b[0m\u001b[0;34m,\u001b[0m \u001b[0;36m3\u001b[0m\u001b[0;34m)\u001b[0m\u001b[0;34m)\u001b[0m  \u001b[0;31m# Falla\u001b[0m\u001b[0;34m\u001b[0m\u001b[0;34m\u001b[0m\u001b[0m\n\u001b[0m",
      "\u001b[0;32m<ipython-input-1-c2a6a99a90c7>\u001b[0m in \u001b[0;36msuma\u001b[0;34m(a, b)\u001b[0m\n\u001b[1;32m      1\u001b[0m \u001b[0;32mdef\u001b[0m \u001b[0msuma\u001b[0m\u001b[0;34m(\u001b[0m\u001b[0ma\u001b[0m\u001b[0;34m,\u001b[0m \u001b[0mb\u001b[0m\u001b[0;34m)\u001b[0m\u001b[0;34m:\u001b[0m\u001b[0;34m\u001b[0m\u001b[0;34m\u001b[0m\u001b[0m\n\u001b[0;32m----> 2\u001b[0;31m     \u001b[0;32mreturn\u001b[0m \u001b[0ma\u001b[0m \u001b[0;34m+\u001b[0m \u001b[0mb\u001b[0m\u001b[0;34m\u001b[0m\u001b[0;34m\u001b[0m\u001b[0m\n\u001b[0m\u001b[1;32m      3\u001b[0m \u001b[0;34m\u001b[0m\u001b[0m\n\u001b[1;32m      4\u001b[0m \u001b[0;34m\u001b[0m\u001b[0m\n\u001b[1;32m      5\u001b[0m \u001b[0mprint\u001b[0m\u001b[0;34m(\u001b[0m\u001b[0msuma\u001b[0m\u001b[0;34m(\u001b[0m\u001b[0;36m1\u001b[0m\u001b[0;34m,\u001b[0m \u001b[0;36m2\u001b[0m\u001b[0;34m)\u001b[0m\u001b[0;34m)\u001b[0m\u001b[0;34m\u001b[0m\u001b[0;34m\u001b[0m\u001b[0m\n",
      "\u001b[0;31mTypeError\u001b[0m: can only concatenate str (not \"int\") to str"
     ]
    }
   ],
   "source": [
    "def suma(a, b):\n",
    "    return a + b\n",
    "\n",
    "\n",
    "print(suma(1, 2))\n",
    "print(suma(1.0, 2.0))\n",
    "print(suma(1.0, 2))\n",
    "print(suma(\"hola \", \"como te va\"))\n",
    "print(suma([1, 2, 3], [4, 5]))\n",
    "print(suma(\"1\", 3))  # Falla"
   ]
  },
  {
   "cell_type": "code",
   "execution_count": 81,
   "id": "17531981",
   "metadata": {
    "execution": {
     "iopub.execute_input": "2021-04-19T04:16:43.523112Z",
     "iopub.status.busy": "2021-04-19T04:16:43.521510Z",
     "iopub.status.idle": "2021-04-19T04:16:43.525290Z",
     "shell.execute_reply": "2021-04-19T04:16:43.524658Z"
    }
   },
   "outputs": [
    {
     "name": "stdout",
     "output_type": "stream",
     "text": [
      "2.0\n"
     ]
    }
   ],
   "source": [
    "# El valor por default de divisor es 1\n",
    "\n",
    "\n",
    "def division(dividendo, divisor=2):\n",
    "    return dividendo / divisor\n",
    "\n",
    "\n",
    "print(division(4))  # Usa el valor por default"
   ]
  },
  {
   "cell_type": "code",
   "execution_count": 82,
   "id": "ad916b9f",
   "metadata": {
    "execution": {
     "iopub.execute_input": "2021-04-19T04:16:43.532749Z",
     "iopub.status.busy": "2021-04-19T04:16:43.531938Z",
     "iopub.status.idle": "2021-04-19T04:16:43.535942Z",
     "shell.execute_reply": "2021-04-19T04:16:43.536513Z"
    },
    "tags": [
     "raises-exception"
    ]
   },
   "outputs": [
    {
     "name": "stdout",
     "output_type": "stream",
     "text": [
      "0.5\n",
      "0.5\n"
     ]
    },
    {
     "ename": "TypeError",
     "evalue": "division() missing 1 required positional argument: 'dividendo'",
     "output_type": "error",
     "traceback": [
      "\u001b[0;31m---------------------------------------------------------------------------\u001b[0m",
      "\u001b[0;31mTypeError\u001b[0m                                 Traceback (most recent call last)",
      "\u001b[0;32m<ipython-input-1-34eff3833138>\u001b[0m in \u001b[0;36m<module>\u001b[0;34m\u001b[0m\n\u001b[1;32m      1\u001b[0m \u001b[0mprint\u001b[0m\u001b[0;34m(\u001b[0m\u001b[0mdivision\u001b[0m\u001b[0;34m(\u001b[0m\u001b[0;36m1\u001b[0m\u001b[0;34m,\u001b[0m \u001b[0;36m2\u001b[0m\u001b[0;34m)\u001b[0m\u001b[0;34m)\u001b[0m  \u001b[0;31m# Parámetros por orden\u001b[0m\u001b[0;34m\u001b[0m\u001b[0;34m\u001b[0m\u001b[0m\n\u001b[1;32m      2\u001b[0m \u001b[0mprint\u001b[0m\u001b[0;34m(\u001b[0m\u001b[0mdivision\u001b[0m\u001b[0;34m(\u001b[0m\u001b[0mdividendo\u001b[0m\u001b[0;34m=\u001b[0m\u001b[0;36m1\u001b[0m\u001b[0;34m,\u001b[0m \u001b[0mdivisor\u001b[0m\u001b[0;34m=\u001b[0m\u001b[0;36m2\u001b[0m\u001b[0;34m)\u001b[0m\u001b[0;34m)\u001b[0m  \u001b[0;31m# Parámetros por nombre\u001b[0m\u001b[0;34m\u001b[0m\u001b[0;34m\u001b[0m\u001b[0m\n\u001b[0;32m----> 3\u001b[0;31m \u001b[0mprint\u001b[0m\u001b[0;34m(\u001b[0m\u001b[0mdivision\u001b[0m\u001b[0;34m(\u001b[0m\u001b[0mdivisor\u001b[0m\u001b[0;34m=\u001b[0m\u001b[0;36m2\u001b[0m\u001b[0;34m)\u001b[0m\u001b[0;34m)\u001b[0m\u001b[0;34m\u001b[0m\u001b[0;34m\u001b[0m\u001b[0m\n\u001b[0m",
      "\u001b[0;31mTypeError\u001b[0m: division() missing 1 required positional argument: 'dividendo'"
     ]
    }
   ],
   "source": [
    "print(division(1, 2))  # Parámetros por orden\n",
    "print(division(dividendo=1, divisor=2))  # Parámetros por nombre\n",
    "print(division(divisor=2))"
   ]
  },
  {
   "cell_type": "code",
   "execution_count": 83,
   "id": "46670dbf",
   "metadata": {
    "execution": {
     "iopub.execute_input": "2021-04-19T04:16:43.542523Z",
     "iopub.status.busy": "2021-04-19T04:16:43.541012Z",
     "iopub.status.idle": "2021-04-19T04:16:43.544670Z",
     "shell.execute_reply": "2021-04-19T04:16:43.544041Z"
    }
   },
   "outputs": [
    {
     "name": "stdout",
     "output_type": "stream",
     "text": [
      "0.5\n"
     ]
    }
   ],
   "source": [
    "print(division(divisor=2, dividendo=1))"
   ]
  },
  {
   "cell_type": "code",
   "execution_count": 84,
   "id": "2e126159",
   "metadata": {
    "execution": {
     "iopub.execute_input": "2021-04-19T04:16:43.551168Z",
     "iopub.status.busy": "2021-04-19T04:16:43.550550Z",
     "iopub.status.idle": "2021-04-19T04:16:43.552715Z",
     "shell.execute_reply": "2021-04-19T04:16:43.553463Z"
    }
   },
   "outputs": [
    {
     "name": "stdout",
     "output_type": "stream",
     "text": [
      "['a', 'b', 'c']\n",
      "[1, 2, 3]\n",
      "['hola', ' don', ' pepito']\n",
      "hola -  don -  pepito\n"
     ]
    }
   ],
   "source": [
    "# Funciones básicas ya en el lenguaje\n",
    "# Hechas para funcionar para distintos tipos\n",
    "\n",
    "string_ordenado = sorted('bca')\n",
    "print(string_ordenado)\n",
    "\n",
    "lista_ordenada = sorted([1, 3, 2])\n",
    "print(lista_ordenada)\n",
    "\n",
    "separadas = \"hola, don, pepito\".split(\",\")\n",
    "print(separadas)\n",
    "unidas = \" - \".join(separadas)\n",
    "print(unidas)"
   ]
  },
  {
   "cell_type": "markdown",
   "id": "44a20ef8",
   "metadata": {},
   "source": [
    "## Módulos\n",
    "\n",
    "Para incluir alguna biblioteca de funciones se usa `import`. Pueden ser cosas ya predefinidas en Python (`math`, `random`, etc), nombres de archivos en nuestro directorio (por ejemplo, para `mimodulo.py` ponemos `import mimodulo`) o bibliotecas instaladas por el usuario"
   ]
  },
  {
   "cell_type": "code",
   "execution_count": 85,
   "id": "d85f0f33",
   "metadata": {
    "execution": {
     "iopub.execute_input": "2021-04-19T04:16:43.557629Z",
     "iopub.status.busy": "2021-04-19T04:16:43.557007Z",
     "iopub.status.idle": "2021-04-19T04:16:43.559419Z",
     "shell.execute_reply": "2021-04-19T04:16:43.560041Z"
    }
   },
   "outputs": [
    {
     "name": "stdout",
     "output_type": "stream",
     "text": [
      "3.141592653589793\n"
     ]
    }
   ],
   "source": [
    "import math\n",
    "\n",
    "print(math.pi)"
   ]
  },
  {
   "cell_type": "code",
   "execution_count": 86,
   "id": "a8d183b1",
   "metadata": {
    "execution": {
     "iopub.execute_input": "2021-04-19T04:16:43.563976Z",
     "iopub.status.busy": "2021-04-19T04:16:43.563244Z",
     "iopub.status.idle": "2021-04-19T04:16:43.567094Z",
     "shell.execute_reply": "2021-04-19T04:16:43.566560Z"
    }
   },
   "outputs": [
    {
     "name": "stdout",
     "output_type": "stream",
     "text": [
      "3.141592653589793 2.718281828459045\n"
     ]
    }
   ],
   "source": [
    "from math import pi, e\n",
    "\n",
    "print(pi, e)"
   ]
  },
  {
   "cell_type": "code",
   "execution_count": 87,
   "id": "1b597aa8",
   "metadata": {
    "execution": {
     "iopub.execute_input": "2021-04-19T04:16:43.571771Z",
     "iopub.status.busy": "2021-04-19T04:16:43.571032Z",
     "iopub.status.idle": "2021-04-19T04:16:43.574481Z",
     "shell.execute_reply": "2021-04-19T04:16:43.573921Z"
    }
   },
   "outputs": [
    {
     "data": {
      "text/plain": [
       "2"
      ]
     },
     "execution_count": 1,
     "metadata": {},
     "output_type": "execute_result"
    }
   ],
   "source": [
    "math.gcd(56, 78)"
   ]
  },
  {
   "cell_type": "markdown",
   "id": "5fb03383",
   "metadata": {},
   "source": [
    "## Manejo de excepciones\n",
    "\n",
    "Se pueden encapsular errores esperados en un bloque 'try/except' para evitar cortar el flujo del programa"
   ]
  },
  {
   "cell_type": "code",
   "execution_count": 88,
   "id": "2aacdf91",
   "metadata": {
    "execution": {
     "iopub.execute_input": "2021-04-19T04:16:43.584207Z",
     "iopub.status.busy": "2021-04-19T04:16:43.583564Z",
     "iopub.status.idle": "2021-04-19T04:16:43.585770Z",
     "shell.execute_reply": "2021-04-19T04:16:43.586473Z"
    },
    "tags": [
     "raises-exception"
    ]
   },
   "outputs": [
    {
     "ename": "ZeroDivisionError",
     "evalue": "division by zero",
     "output_type": "error",
     "traceback": [
      "\u001b[0;31m---------------------------------------------------------------------------\u001b[0m",
      "\u001b[0;31mZeroDivisionError\u001b[0m                         Traceback (most recent call last)",
      "\u001b[0;32m<ipython-input-1-f031f77b1a55>\u001b[0m in \u001b[0;36m<module>\u001b[0;34m\u001b[0m\n\u001b[0;32m----> 1\u001b[0;31m \u001b[0mdivision\u001b[0m\u001b[0;34m(\u001b[0m\u001b[0;36m1\u001b[0m\u001b[0;34m,\u001b[0m \u001b[0;36m0\u001b[0m\u001b[0;34m)\u001b[0m  \u001b[0;31m# No se puede dividir por cero\u001b[0m\u001b[0;34m\u001b[0m\u001b[0;34m\u001b[0m\u001b[0m\n\u001b[0m",
      "\u001b[0;32m<ipython-input-1-0d991d7de762>\u001b[0m in \u001b[0;36mdivision\u001b[0;34m(dividendo, divisor)\u001b[0m\n\u001b[1;32m      3\u001b[0m \u001b[0;34m\u001b[0m\u001b[0m\n\u001b[1;32m      4\u001b[0m \u001b[0;32mdef\u001b[0m \u001b[0mdivision\u001b[0m\u001b[0;34m(\u001b[0m\u001b[0mdividendo\u001b[0m\u001b[0;34m,\u001b[0m \u001b[0mdivisor\u001b[0m\u001b[0;34m=\u001b[0m\u001b[0;36m2\u001b[0m\u001b[0;34m)\u001b[0m\u001b[0;34m:\u001b[0m\u001b[0;34m\u001b[0m\u001b[0;34m\u001b[0m\u001b[0m\n\u001b[0;32m----> 5\u001b[0;31m     \u001b[0;32mreturn\u001b[0m \u001b[0mdividendo\u001b[0m \u001b[0;34m/\u001b[0m \u001b[0mdivisor\u001b[0m\u001b[0;34m\u001b[0m\u001b[0;34m\u001b[0m\u001b[0m\n\u001b[0m\u001b[1;32m      6\u001b[0m \u001b[0;34m\u001b[0m\u001b[0m\n\u001b[1;32m      7\u001b[0m \u001b[0;34m\u001b[0m\u001b[0m\n",
      "\u001b[0;31mZeroDivisionError\u001b[0m: division by zero"
     ]
    }
   ],
   "source": [
    "division(1, 0)  # No se puede dividir por cero"
   ]
  },
  {
   "cell_type": "code",
   "execution_count": 89,
   "id": "f8762d5d",
   "metadata": {
    "execution": {
     "iopub.execute_input": "2021-04-19T04:16:43.593032Z",
     "iopub.status.busy": "2021-04-19T04:16:43.591580Z",
     "iopub.status.idle": "2021-04-19T04:16:43.595281Z",
     "shell.execute_reply": "2021-04-19T04:16:43.594676Z"
    }
   },
   "outputs": [
    {
     "name": "stdout",
     "output_type": "stream",
     "text": [
      "No se puede dividir por cero, ojo! division by zero\n",
      "1\n"
     ]
    }
   ],
   "source": [
    "try:\n",
    "    division(1, 0)\n",
    "except (ZeroDivisionError, TypeError) as e:\n",
    "    print('No se puede dividir por cero, ojo!', e)\n",
    "finally:\n",
    "    print(1)"
   ]
  },
  {
   "cell_type": "markdown",
   "id": "79279623",
   "metadata": {
    "slideshow": {
     "slide_type": "slide"
    }
   },
   "source": [
    "## Lectura y escritura de archivos"
   ]
  },
  {
   "cell_type": "code",
   "execution_count": 90,
   "id": "5b6db8f8",
   "metadata": {
    "execution": {
     "iopub.execute_input": "2021-04-19T04:16:43.602206Z",
     "iopub.status.busy": "2021-04-19T04:16:43.600815Z",
     "iopub.status.idle": "2021-04-19T04:16:43.604446Z",
     "shell.execute_reply": "2021-04-19T04:16:43.603833Z"
    },
    "slideshow": {
     "slide_type": "slide"
    }
   },
   "outputs": [
    {
     "name": "stdout",
     "output_type": "stream",
     "text": [
      "<_io.TextIOWrapper name='archivo.csv' mode='w' encoding='UTF-8'>\n"
     ]
    }
   ],
   "source": [
    "import random\n",
    "\n",
    "with open(\n",
    "    'archivo.csv', 'w'\n",
    ") as archivo:  # Al usar esta sintaxis no es necesario hacer close\n",
    "    archivo.write(\"Alumno, nota\\n\")\n",
    "    # Tambien de forma similar al fprintf se puede hacer:\n",
    "    # print(\"Alumno, nota\\n\", file=archivo)\n",
    "    for i in range(0, 10):\n",
    "        archivo.write(f\"{i},{random.randrange(0,10)}\\n\")\n",
    "\n",
    "print(archivo)  # Comentario aclaratorio:\n",
    "# Las variables definidas en un determinado scope siguen existiendo por fuera del mismo.\n",
    "# Se debe tener cuidado con esto, ya que nada garantiza que por fuera el valor sea el esperado."
   ]
  },
  {
   "cell_type": "code",
   "execution_count": 91,
   "id": "217076fd",
   "metadata": {
    "execution": {
     "iopub.execute_input": "2021-04-19T04:16:43.611620Z",
     "iopub.status.busy": "2021-04-19T04:16:43.610530Z",
     "iopub.status.idle": "2021-04-19T04:16:43.614213Z",
     "shell.execute_reply": "2021-04-19T04:16:43.613620Z"
    },
    "slideshow": {
     "slide_type": "slide"
    }
   },
   "outputs": [
    {
     "name": "stdout",
     "output_type": "stream",
     "text": [
      "Alumno, nota\n",
      "0,6\n",
      "1,6\n",
      "2,2\n",
      "3,4\n",
      "4,5\n",
      "5,1\n",
      "6,5\n",
      "7,7\n",
      "8,7\n",
      "9,6\n"
     ]
    }
   ],
   "source": [
    "with open('archivo.csv', 'r') as f:\n",
    "    for linea in f:\n",
    "        print(linea.strip())"
   ]
  },
  {
   "cell_type": "code",
   "execution_count": 92,
   "id": "fbbc1da9",
   "metadata": {
    "execution": {
     "iopub.execute_input": "2021-04-19T04:16:43.619429Z",
     "iopub.status.busy": "2021-04-19T04:16:43.618707Z",
     "iopub.status.idle": "2021-04-19T04:16:43.621493Z",
     "shell.execute_reply": "2021-04-19T04:16:43.622003Z"
    }
   },
   "outputs": [
    {
     "name": "stdout",
     "output_type": "stream",
     "text": [
      "Alumno, nota\n",
      "0,6\n",
      "1,6\n",
      "2,2\n",
      "3,4\n",
      "4,5\n",
      "5,1\n",
      "6,5\n",
      "7,7\n",
      "8,7\n",
      "9,6\n",
      "\n"
     ]
    }
   ],
   "source": [
    "with open('archivo.csv', 'r') as f:\n",
    "    print(f.read())"
   ]
  },
  {
   "cell_type": "code",
   "execution_count": 93,
   "id": "df414d95",
   "metadata": {
    "execution": {
     "iopub.execute_input": "2021-04-19T04:16:43.625837Z",
     "iopub.status.busy": "2021-04-19T04:16:43.625117Z",
     "iopub.status.idle": "2021-04-19T04:16:43.628001Z",
     "shell.execute_reply": "2021-04-19T04:16:43.628699Z"
    }
   },
   "outputs": [],
   "source": [
    "f = open('archivo.csv', 'w')\n",
    "f.write(\"algo, algo\")\n",
    "f.close()"
   ]
  },
  {
   "cell_type": "markdown",
   "id": "1704612c",
   "metadata": {
    "slideshow": {
     "slide_type": "slide"
    }
   },
   "source": [
    "## Objetos\n",
    "\n",
    "Los objetos tienen metodos y atributos:\n",
    "- Atributos: equivalentes a variables.\n",
    "- Métodos: equivalentes a las primitivas."
   ]
  },
  {
   "cell_type": "markdown",
   "id": "cff3e4d9",
   "metadata": {
    "slideshow": {
     "slide_type": "slide"
    }
   },
   "source": [
    "### Cómo creo una clase"
   ]
  },
  {
   "cell_type": "code",
   "execution_count": 94,
   "id": "823658ab",
   "metadata": {
    "execution": {
     "iopub.execute_input": "2021-04-19T04:16:43.635975Z",
     "iopub.status.busy": "2021-04-19T04:16:43.634777Z",
     "iopub.status.idle": "2021-04-19T04:16:43.636708Z",
     "shell.execute_reply": "2021-04-19T04:16:43.637269Z"
    },
    "slideshow": {
     "slide_type": "slide"
    }
   },
   "outputs": [],
   "source": [
    "class Nodo(object):\n",
    "    def __init__(self, dato, siguiente=None):\n",
    "        self._dato = dato\n",
    "        self._siguiente = siguiente\n",
    "\n",
    "    @property\n",
    "    def dato(self):\n",
    "        return self._dato\n",
    "\n",
    "    @property\n",
    "    def proximo(self):\n",
    "        return self._siguiente\n",
    "\n",
    "    @proximo.setter\n",
    "    def proximo(self, siguiente):\n",
    "        self._siguiente = siguiente\n",
    "\n",
    "    def __repr__(self):\n",
    "        return str(self.dato)\n",
    "\n",
    "    def __str__(self):\n",
    "        return str(self.dato)"
   ]
  },
  {
   "cell_type": "code",
   "execution_count": 95,
   "id": "863c0810",
   "metadata": {
    "execution": {
     "iopub.execute_input": "2021-04-19T04:16:43.641932Z",
     "iopub.status.busy": "2021-04-19T04:16:43.641127Z",
     "iopub.status.idle": "2021-04-19T04:16:43.643550Z",
     "shell.execute_reply": "2021-04-19T04:16:43.644070Z"
    },
    "slideshow": {
     "slide_type": "slide"
    }
   },
   "outputs": [
    {
     "name": "stdout",
     "output_type": "stream",
     "text": [
      "hola\n"
     ]
    }
   ],
   "source": [
    "nodo = Nodo(\"hola\")\n",
    "print(nodo)"
   ]
  },
  {
   "cell_type": "code",
   "execution_count": 96,
   "id": "abc65bdb",
   "metadata": {
    "execution": {
     "iopub.execute_input": "2021-04-19T04:16:43.648346Z",
     "iopub.status.busy": "2021-04-19T04:16:43.647711Z",
     "iopub.status.idle": "2021-04-19T04:16:43.650213Z",
     "shell.execute_reply": "2021-04-19T04:16:43.650752Z"
    },
    "slideshow": {
     "slide_type": "slide"
    }
   },
   "outputs": [
    {
     "name": "stdout",
     "output_type": "stream",
     "text": [
      "[hola, lala]\n"
     ]
    }
   ],
   "source": [
    "nodo2 = Nodo(\"lala\")\n",
    "print([nodo, nodo2])"
   ]
  },
  {
   "cell_type": "code",
   "execution_count": 97,
   "id": "9179b18d",
   "metadata": {
    "execution": {
     "iopub.execute_input": "2021-04-19T04:16:43.655007Z",
     "iopub.status.busy": "2021-04-19T04:16:43.654374Z",
     "iopub.status.idle": "2021-04-19T04:16:43.656933Z",
     "shell.execute_reply": "2021-04-19T04:16:43.657502Z"
    },
    "slideshow": {
     "slide_type": "slide"
    }
   },
   "outputs": [
    {
     "name": "stdout",
     "output_type": "stream",
     "text": [
      "hola\n"
     ]
    }
   ],
   "source": [
    "nodo3 = nodo.dato\n",
    "print(nodo3)"
   ]
  },
  {
   "cell_type": "markdown",
   "id": "947532cb",
   "metadata": {
    "slideshow": {
     "slide_type": "slide"
    }
   },
   "source": [
    "### Ejemplo: Lista Enlazada"
   ]
  },
  {
   "cell_type": "code",
   "execution_count": 98,
   "id": "5d229aa6",
   "metadata": {
    "execution": {
     "iopub.execute_input": "2021-04-19T04:16:43.668190Z",
     "iopub.status.busy": "2021-04-19T04:16:43.665198Z",
     "iopub.status.idle": "2021-04-19T04:16:43.670836Z",
     "shell.execute_reply": "2021-04-19T04:16:43.670267Z"
    },
    "slideshow": {
     "slide_type": "slide"
    }
   },
   "outputs": [],
   "source": [
    "class ListaEnlazada(object):\n",
    "    def __init__(self):\n",
    "        self._primero = None\n",
    "        self._ultimo = None\n",
    "        self._largo = 0\n",
    "\n",
    "    def __len__(self):\n",
    "        return self._largo\n",
    "\n",
    "    def insertar_al_principio(self, dato):\n",
    "        nodo = Nodo(dato, self._primero)\n",
    "        self._primero = nodo\n",
    "        self._largo += 1\n",
    "        if self._largo == 1:\n",
    "            self._ultimo = nodo\n",
    "\n",
    "    def insertar_al_final(self, dato):\n",
    "        if self._largo != 0:\n",
    "            nodo = Nodo(dato)\n",
    "            nodo_anterior = self._ultimo\n",
    "            nodo_anterior._siguiente = nodo\n",
    "            self._ultimo = nodo\n",
    "            self._largo += 1\n",
    "        else:\n",
    "            self.insertar_al_principio(dato)\n",
    "\n",
    "    @property\n",
    "    def primero(self):\n",
    "        return self._primero.dato\n",
    "\n",
    "    def borrar_primero(self):\n",
    "        dato = self.primero.dato\n",
    "        self._primero = self.primero.siguiente\n",
    "        self._largo -= 1\n",
    "        if self._largo == 0:\n",
    "            self._ultimo = None\n",
    "        return dato\n",
    "\n",
    "    def __str__(self):\n",
    "        datos = []\n",
    "        nodo_actual = self._primero\n",
    "        while nodo_actual:\n",
    "            datos.append(nodo_actual.dato)\n",
    "            nodo_actual = nodo_actual.proximo\n",
    "        return \" -> \".join(datos)\n",
    "\n",
    "    def __repr__(self):\n",
    "        return self.__str__()"
   ]
  },
  {
   "cell_type": "code",
   "execution_count": 99,
   "id": "8bc5e137",
   "metadata": {
    "execution": {
     "iopub.execute_input": "2021-04-19T04:16:43.676942Z",
     "iopub.status.busy": "2021-04-19T04:16:43.676006Z",
     "iopub.status.idle": "2021-04-19T04:16:43.679160Z",
     "shell.execute_reply": "2021-04-19T04:16:43.679667Z"
    },
    "slideshow": {
     "slide_type": "slide"
    }
   },
   "outputs": [
    {
     "data": {
      "text/plain": [
       "2"
      ]
     },
     "execution_count": 1,
     "metadata": {},
     "output_type": "execute_result"
    }
   ],
   "source": [
    "lista = ListaEnlazada()\n",
    "lista.insertar_al_principio(\"Primer Dato\")\n",
    "lista.insertar_al_principio(\"Primer primer Dato\")\n",
    "len(lista)"
   ]
  },
  {
   "cell_type": "code",
   "execution_count": 100,
   "id": "ba43b93c",
   "metadata": {
    "execution": {
     "iopub.execute_input": "2021-04-19T04:16:43.684983Z",
     "iopub.status.busy": "2021-04-19T04:16:43.684302Z",
     "iopub.status.idle": "2021-04-19T04:16:43.687408Z",
     "shell.execute_reply": "2021-04-19T04:16:43.687931Z"
    }
   },
   "outputs": [
    {
     "data": {
      "text/plain": [
       "Primer primer Dato -> Primer Dato"
      ]
     },
     "execution_count": 1,
     "metadata": {},
     "output_type": "execute_result"
    }
   ],
   "source": [
    "lista"
   ]
  },
  {
   "cell_type": "code",
   "execution_count": 101,
   "id": "eeb2f05a",
   "metadata": {
    "execution": {
     "iopub.execute_input": "2021-04-19T04:16:43.692102Z",
     "iopub.status.busy": "2021-04-19T04:16:43.691492Z",
     "iopub.status.idle": "2021-04-19T04:16:43.695071Z",
     "shell.execute_reply": "2021-04-19T04:16:43.694469Z"
    },
    "slideshow": {
     "slide_type": "slide"
    }
   },
   "outputs": [
    {
     "name": "stdout",
     "output_type": "stream",
     "text": [
      "Primer primer Dato\n"
     ]
    }
   ],
   "source": [
    "elemento = lista.primero\n",
    "print(elemento)"
   ]
  },
  {
   "cell_type": "markdown",
   "id": "56245400",
   "metadata": {},
   "source": [
    "## Recursos\n",
    "\n",
    "* [Taller de Python de Algoritmos II](https://github.com/algoritmos-rw/algo2_apuntes)\n",
    "\n",
    "* [Documentación de Python 3](https://docs.python.org/3/tutorial/)\n",
    "\n",
    "* [Apunte de Algoritmos y Programación I](https://algoritmos1rw.ddns.net/material)\n",
    "\n",
    "* [Automate the Boring Stuff with Python](http://automatetheboringstuff.com/)\n",
    "\n",
    "* [Curso Python](https://pythoncurso.github.io)\n",
    "\n",
    "* [Python Tutor](http://pythontutor.com/)\n",
    "\n",
    "* [Learn Python3 in Y minutes](https://learnxinyminutes.com/docs/python3/)\n",
    "\n",
    "* [Bibliografía de Algoritmos y Programación I](https://algoritmos1rw.ddns.net/bibliografia)"
   ]
  }
 ],
 "metadata": {
  "jupytext": {
   "encoding": "# -*- coding: utf-8 -*-",
   "formats": "ipynb,py:light"
  },
  "kernelspec": {
   "display_name": "Python 3 (venv)",
   "language": "python",
   "name": "python3"
  },
  "language_info": {
   "codemirror_mode": {
    "name": "ipython",
    "version": 3
   },
   "file_extension": ".py",
   "mimetype": "text/x-python",
   "name": "python",
   "nbconvert_exporter": "python",
   "pygments_lexer": "ipython3",
   "version": "3.7.10"
  }
 },
 "nbformat": 4,
 "nbformat_minor": 5
}
