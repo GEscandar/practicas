{
 "cells": [
  {
   "cell_type": "markdown",
   "id": "alike-joint",
   "metadata": {},
   "source": [
    "# Python"
   ]
  },
  {
   "cell_type": "markdown",
   "id": "devoted-teacher",
   "metadata": {
    "slideshow": {
     "slide_type": "slide"
    }
   },
   "source": [
    "## Un poco de Historia"
   ]
  },
  {
   "cell_type": "markdown",
   "id": "renewable-headset",
   "metadata": {
    "slideshow": {
     "slide_type": "subslide"
    }
   },
   "source": [
    "Python fue creado a finales de los años 80 por un programador holandés llamado **Guido van Rossum**,\n",
    "quien sigue siendo aún hoy el líder del desarrollo del lenguaje.\n",
    "\n",
    "(Edit julio 2018: [ya no más](https://www.mail-archive.com/python-committers@python.org/msg05628.html))"
   ]
  },
  {
   "cell_type": "markdown",
   "id": "solved-species",
   "metadata": {
    "slideshow": {
     "slide_type": "subslide"
    }
   },
   "source": [
    "El nombre del lenguaje proviene de los humoristas británicos Monty Python.\n",
    "\n",
    ">*\"I chose Python as a working title for the project, being in a slightly irreverent mood (and a big fan of Monty Python's Flying Circus).\"*"
   ]
  },
  {
   "cell_type": "markdown",
   "id": "focused-halloween",
   "metadata": {
    "slideshow": {
     "slide_type": "slide"
    }
   },
   "source": [
    "## Caracteristicas\n",
    "\n",
    "- Interpretado\n",
    "- Tipado dinamico\n",
    "- Multiparadigma\n",
    "- Alto nivel\n",
    "- Tiene un recolector de basura (no hay malloc, free, realloc, etc)"
   ]
  },
  {
   "cell_type": "markdown",
   "id": "standing-burton",
   "metadata": {},
   "source": [
    "## ¿Cómo empezar?\n",
    "\n",
    "* Al ser un lenguaje *interpretado*, se puede ir escribiendo a medida que se ejecuta, sin necesidad de compilar de antemano! Solamente hace falta escribir `python` o `python3` en una terminal para empezar\n",
    "\n",
    "* También, permite escribir archivos y correrlos. Crear un archivo con extensión `.py` y luego correr `python miarchivo.py` en laterminal"
   ]
  },
  {
   "cell_type": "markdown",
   "id": "burning-federal",
   "metadata": {
    "slideshow": {
     "slide_type": "slide"
    }
   },
   "source": [
    "## El Zen de Python"
   ]
  },
  {
   "cell_type": "code",
   "execution_count": 1,
   "id": "catholic-richmond",
   "metadata": {
    "execution": {
     "iopub.execute_input": "2021-02-03T16:41:32.661464Z",
     "iopub.status.busy": "2021-02-03T16:41:32.660845Z",
     "iopub.status.idle": "2021-02-03T16:41:32.688180Z",
     "shell.execute_reply": "2021-02-03T16:41:32.687516Z"
    },
    "slideshow": {
     "slide_type": "slide"
    }
   },
   "outputs": [
    {
     "name": "stdout",
     "output_type": "stream",
     "text": [
      "The Zen of Python, by Tim Peters\n",
      "\n",
      "Beautiful is better than ugly.\n",
      "Explicit is better than implicit.\n",
      "Simple is better than complex.\n",
      "Complex is better than complicated.\n",
      "Flat is better than nested.\n",
      "Sparse is better than dense.\n",
      "Readability counts.\n",
      "Special cases aren't special enough to break the rules.\n",
      "Although practicality beats purity.\n",
      "Errors should never pass silently.\n",
      "Unless explicitly silenced.\n",
      "In the face of ambiguity, refuse the temptation to guess.\n",
      "There should be one-- and preferably only one --obvious way to do it.\n",
      "Although that way may not be obvious at first unless you're Dutch.\n",
      "Now is better than never.\n",
      "Although never is often better than *right* now.\n",
      "If the implementation is hard to explain, it's a bad idea.\n",
      "If the implementation is easy to explain, it may be a good idea.\n",
      "Namespaces are one honking great idea -- let's do more of those!\n"
     ]
    }
   ],
   "source": [
    "import this"
   ]
  },
  {
   "cell_type": "markdown",
   "id": "ruled-creativity",
   "metadata": {
    "slideshow": {
     "slide_type": "slide"
    }
   },
   "source": [
    "## Conocimientos Básicos de Python: Variables y Tipos"
   ]
  },
  {
   "cell_type": "code",
   "execution_count": 2,
   "id": "comprehensive-connecticut",
   "metadata": {
    "execution": {
     "iopub.execute_input": "2021-02-03T16:41:32.693541Z",
     "iopub.status.busy": "2021-02-03T16:41:32.692885Z",
     "iopub.status.idle": "2021-02-03T16:41:32.695531Z",
     "shell.execute_reply": "2021-02-03T16:41:32.696115Z"
    },
    "slideshow": {
     "slide_type": "slide"
    }
   },
   "outputs": [
    {
     "name": "stdout",
     "output_type": "stream",
     "text": [
      "Hello World!\n"
     ]
    }
   ],
   "source": [
    "# Este es un comentario\n",
    "\n",
    "print(\"Hello World!\")"
   ]
  },
  {
   "cell_type": "markdown",
   "id": "closed-liberia",
   "metadata": {},
   "source": [
    "Los strings en python puden escribirse tanto con comillas simples (`'`) como comillas dobles (`\"`). Normalmente vemos texto entre comillas triples para escribir _docstrings_, segun la guia de estilo de Python, el PEP8."
   ]
  },
  {
   "cell_type": "code",
   "execution_count": 3,
   "id": "behind-brick",
   "metadata": {
    "execution": {
     "iopub.execute_input": "2021-02-03T16:41:32.710085Z",
     "iopub.status.busy": "2021-02-03T16:41:32.708715Z",
     "iopub.status.idle": "2021-02-03T16:41:32.711957Z",
     "shell.execute_reply": "2021-02-03T16:41:32.712480Z"
    }
   },
   "outputs": [
    {
     "data": {
      "text/plain": [
       "'Esto es un docstring.\\n'"
      ]
     },
     "execution_count": 1,
     "metadata": {},
     "output_type": "execute_result"
    }
   ],
   "source": [
    "\"\"\"Esto es un docstring.\n",
    "\"\"\""
   ]
  },
  {
   "cell_type": "markdown",
   "id": "grateful-conversion",
   "metadata": {},
   "source": [
    "### Declaracion de variables"
   ]
  },
  {
   "cell_type": "code",
   "execution_count": 4,
   "id": "placed-bridges",
   "metadata": {
    "execution": {
     "iopub.execute_input": "2021-02-03T16:41:32.717442Z",
     "iopub.status.busy": "2021-02-03T16:41:32.716716Z",
     "iopub.status.idle": "2021-02-03T16:41:32.718896Z",
     "shell.execute_reply": "2021-02-03T16:41:32.719470Z"
    }
   },
   "outputs": [
    {
     "name": "stdout",
     "output_type": "stream",
     "text": [
      "Hola\n"
     ]
    }
   ],
   "source": [
    "string = 'Hola'\n",
    "print(string)"
   ]
  },
  {
   "cell_type": "code",
   "execution_count": 5,
   "id": "secure-dublin",
   "metadata": {
    "execution": {
     "iopub.execute_input": "2021-02-03T16:41:32.724480Z",
     "iopub.status.busy": "2021-02-03T16:41:32.723806Z",
     "iopub.status.idle": "2021-02-03T16:41:32.726003Z",
     "shell.execute_reply": "2021-02-03T16:41:32.726531Z"
    }
   },
   "outputs": [
    {
     "name": "stdout",
     "output_type": "stream",
     "text": [
      "1\n"
     ]
    }
   ],
   "source": [
    "entero = 1\n",
    "print(entero)"
   ]
  },
  {
   "cell_type": "code",
   "execution_count": 6,
   "id": "julian-fabric",
   "metadata": {
    "execution": {
     "iopub.execute_input": "2021-02-03T16:41:32.730997Z",
     "iopub.status.busy": "2021-02-03T16:41:32.730362Z",
     "iopub.status.idle": "2021-02-03T16:41:32.732686Z",
     "shell.execute_reply": "2021-02-03T16:41:32.733288Z"
    }
   },
   "outputs": [
    {
     "name": "stdout",
     "output_type": "stream",
     "text": [
      "1.0\n"
     ]
    }
   ],
   "source": [
    "flotante = 1.0\n",
    "print(flotante)"
   ]
  },
  {
   "cell_type": "code",
   "execution_count": 7,
   "id": "reasonable-knitting",
   "metadata": {
    "execution": {
     "iopub.execute_input": "2021-02-03T16:41:32.737637Z",
     "iopub.status.busy": "2021-02-03T16:41:32.737010Z",
     "iopub.status.idle": "2021-02-03T16:41:32.739482Z",
     "shell.execute_reply": "2021-02-03T16:41:32.740009Z"
    }
   },
   "outputs": [
    {
     "name": "stdout",
     "output_type": "stream",
     "text": [
      "(1, 1.0)\n"
     ]
    }
   ],
   "source": [
    "tupla = (entero, flotante)\n",
    "print(tupla)"
   ]
  },
  {
   "cell_type": "code",
   "execution_count": 8,
   "id": "needed-complaint",
   "metadata": {
    "execution": {
     "iopub.execute_input": "2021-02-03T16:41:32.744453Z",
     "iopub.status.busy": "2021-02-03T16:41:32.743797Z",
     "iopub.status.idle": "2021-02-03T16:41:32.745841Z",
     "shell.execute_reply": "2021-02-03T16:41:32.746478Z"
    }
   },
   "outputs": [
    {
     "name": "stdout",
     "output_type": "stream",
     "text": [
      "(1, 1.0, 'Hola')\n"
     ]
    }
   ],
   "source": [
    "nupla = (entero, flotante, string)\n",
    "print(nupla)"
   ]
  },
  {
   "cell_type": "code",
   "execution_count": 9,
   "id": "descending-reader",
   "metadata": {
    "execution": {
     "iopub.execute_input": "2021-02-03T16:41:32.750758Z",
     "iopub.status.busy": "2021-02-03T16:41:32.750169Z",
     "iopub.status.idle": "2021-02-03T16:41:32.752385Z",
     "shell.execute_reply": "2021-02-03T16:41:32.753015Z"
    }
   },
   "outputs": [
    {
     "name": "stdout",
     "output_type": "stream",
     "text": [
      "[1, 1.0, 'Hola']\n"
     ]
    }
   ],
   "source": [
    "lista = [entero, flotante, string]\n",
    "print(lista)"
   ]
  },
  {
   "cell_type": "code",
   "execution_count": 10,
   "id": "romantic-seating",
   "metadata": {
    "execution": {
     "iopub.execute_input": "2021-02-03T16:41:32.757613Z",
     "iopub.status.busy": "2021-02-03T16:41:32.756964Z",
     "iopub.status.idle": "2021-02-03T16:41:32.759786Z",
     "shell.execute_reply": "2021-02-03T16:41:32.759142Z"
    }
   },
   "outputs": [
    {
     "name": "stdout",
     "output_type": "stream",
     "text": [
      "{'1': (1, 1.0), 50: (1, 1.0, 'Hola'), '3': 1}\n"
     ]
    }
   ],
   "source": [
    "diccionario = {'1': tupla, 50: nupla, '3': entero}\n",
    "print(diccionario)"
   ]
  },
  {
   "cell_type": "code",
   "execution_count": 11,
   "id": "specified-orleans",
   "metadata": {
    "execution": {
     "iopub.execute_input": "2021-02-03T16:41:32.764021Z",
     "iopub.status.busy": "2021-02-03T16:41:32.763395Z",
     "iopub.status.idle": "2021-02-03T16:41:32.766220Z",
     "shell.execute_reply": "2021-02-03T16:41:32.765523Z"
    }
   },
   "outputs": [
    {
     "name": "stdout",
     "output_type": "stream",
     "text": [
      "{1, 2}\n"
     ]
    }
   ],
   "source": [
    "conjunto = set([1, 2])\n",
    "print(conjunto)"
   ]
  },
  {
   "cell_type": "code",
   "execution_count": 12,
   "id": "deluxe-oxide",
   "metadata": {
    "execution": {
     "iopub.execute_input": "2021-02-03T16:41:32.770416Z",
     "iopub.status.busy": "2021-02-03T16:41:32.769785Z",
     "iopub.status.idle": "2021-02-03T16:41:32.772534Z",
     "shell.execute_reply": "2021-02-03T16:41:32.771937Z"
    }
   },
   "outputs": [
    {
     "name": "stdout",
     "output_type": "stream",
     "text": [
      "True\n"
     ]
    }
   ],
   "source": [
    "booleano = True\n",
    "print(booleano)"
   ]
  },
  {
   "cell_type": "code",
   "execution_count": 13,
   "id": "female-auckland",
   "metadata": {
    "execution": {
     "iopub.execute_input": "2021-02-03T16:41:32.776895Z",
     "iopub.status.busy": "2021-02-03T16:41:32.776229Z",
     "iopub.status.idle": "2021-02-03T16:41:32.779004Z",
     "shell.execute_reply": "2021-02-03T16:41:32.778432Z"
    }
   },
   "outputs": [
    {
     "name": "stdout",
     "output_type": "stream",
     "text": [
      "None\n"
     ]
    }
   ],
   "source": [
    "nada = None\n",
    "print(nada)"
   ]
  },
  {
   "cell_type": "markdown",
   "id": "flush-petroleum",
   "metadata": {},
   "source": [
    "Ojo que las variables pueden cambiar de tipo!"
   ]
  },
  {
   "cell_type": "code",
   "execution_count": 14,
   "id": "subtle-distinction",
   "metadata": {
    "execution": {
     "iopub.execute_input": "2021-02-03T16:41:32.783416Z",
     "iopub.status.busy": "2021-02-03T16:41:32.782784Z",
     "iopub.status.idle": "2021-02-03T16:41:32.785701Z",
     "shell.execute_reply": "2021-02-03T16:41:32.785045Z"
    }
   },
   "outputs": [
    {
     "name": "stdout",
     "output_type": "stream",
     "text": [
      "1\n",
      "<class 'int'>\n"
     ]
    }
   ],
   "source": [
    "elemento = 1\n",
    "print(elemento)\n",
    "print(type(elemento))"
   ]
  },
  {
   "cell_type": "code",
   "execution_count": 15,
   "id": "identical-finnish",
   "metadata": {
    "execution": {
     "iopub.execute_input": "2021-02-03T16:41:32.790005Z",
     "iopub.status.busy": "2021-02-03T16:41:32.789381Z",
     "iopub.status.idle": "2021-02-03T16:41:32.792130Z",
     "shell.execute_reply": "2021-02-03T16:41:32.791485Z"
    }
   },
   "outputs": [
    {
     "name": "stdout",
     "output_type": "stream",
     "text": [
      "1\n",
      "<class 'str'>\n"
     ]
    }
   ],
   "source": [
    "elemento = str(1)\n",
    "print(elemento)\n",
    "print(type(elemento))"
   ]
  },
  {
   "cell_type": "code",
   "execution_count": 16,
   "id": "logical-blocking",
   "metadata": {
    "execution": {
     "iopub.execute_input": "2021-02-03T16:41:32.796619Z",
     "iopub.status.busy": "2021-02-03T16:41:32.795982Z",
     "iopub.status.idle": "2021-02-03T16:41:32.798704Z",
     "shell.execute_reply": "2021-02-03T16:41:32.798091Z"
    }
   },
   "outputs": [
    {
     "name": "stdout",
     "output_type": "stream",
     "text": [
      "[2]\n",
      "<class 'list'>\n"
     ]
    }
   ],
   "source": [
    "elemento = [2]\n",
    "\n",
    "print(elemento)\n",
    "print(type(elemento))"
   ]
  },
  {
   "cell_type": "markdown",
   "id": "coral-password",
   "metadata": {},
   "source": [
    "### Tipos basicos"
   ]
  },
  {
   "cell_type": "markdown",
   "id": "opening-apache",
   "metadata": {
    "slideshow": {
     "slide_type": "slide"
    }
   },
   "source": [
    "#### Listas de Python"
   ]
  },
  {
   "cell_type": "code",
   "execution_count": 17,
   "id": "subject-invite",
   "metadata": {
    "execution": {
     "iopub.execute_input": "2021-02-03T16:41:32.803214Z",
     "iopub.status.busy": "2021-02-03T16:41:32.802572Z",
     "iopub.status.idle": "2021-02-03T16:41:32.806003Z",
     "shell.execute_reply": "2021-02-03T16:41:32.805469Z"
    }
   },
   "outputs": [
    {
     "data": {
      "text/plain": [
       "[]"
      ]
     },
     "execution_count": 1,
     "metadata": {},
     "output_type": "execute_result"
    }
   ],
   "source": [
    "lista = list()\n",
    "lista"
   ]
  },
  {
   "cell_type": "code",
   "execution_count": 18,
   "id": "black-victoria",
   "metadata": {
    "execution": {
     "iopub.execute_input": "2021-02-03T16:41:32.809880Z",
     "iopub.status.busy": "2021-02-03T16:41:32.809213Z",
     "iopub.status.idle": "2021-02-03T16:41:32.812196Z",
     "shell.execute_reply": "2021-02-03T16:41:32.812717Z"
    },
    "slideshow": {
     "slide_type": "slide"
    }
   },
   "outputs": [
    {
     "data": {
      "text/plain": [
       "[]"
      ]
     },
     "execution_count": 1,
     "metadata": {},
     "output_type": "execute_result"
    }
   ],
   "source": [
    "lista = []\n",
    "lista"
   ]
  },
  {
   "cell_type": "code",
   "execution_count": 19,
   "id": "affiliated-vault",
   "metadata": {
    "execution": {
     "iopub.execute_input": "2021-02-03T16:41:32.817319Z",
     "iopub.status.busy": "2021-02-03T16:41:32.816569Z",
     "iopub.status.idle": "2021-02-03T16:41:32.820131Z",
     "shell.execute_reply": "2021-02-03T16:41:32.819544Z"
    },
    "slideshow": {
     "slide_type": "slide"
    }
   },
   "outputs": [
    {
     "data": {
      "text/plain": [
       "[1, 2, 3, 4]"
      ]
     },
     "execution_count": 1,
     "metadata": {},
     "output_type": "execute_result"
    }
   ],
   "source": [
    "lista = [1, 2, 3, 4]\n",
    "lista"
   ]
  },
  {
   "cell_type": "code",
   "execution_count": 20,
   "id": "lesser-closer",
   "metadata": {
    "execution": {
     "iopub.execute_input": "2021-02-03T16:41:32.824742Z",
     "iopub.status.busy": "2021-02-03T16:41:32.824102Z",
     "iopub.status.idle": "2021-02-03T16:41:32.828012Z",
     "shell.execute_reply": "2021-02-03T16:41:32.827411Z"
    },
    "slideshow": {
     "slide_type": "slide"
    }
   },
   "outputs": [
    {
     "data": {
      "text/plain": [
       "[1, 2, 3, 4, 1, 'dos', 3.0]"
      ]
     },
     "execution_count": 1,
     "metadata": {},
     "output_type": "execute_result"
    }
   ],
   "source": [
    "lista.append(1)  # Inserto un 1 al final\n",
    "lista.append(\"dos\")  # Inserto un \"dos\" al final\n",
    "lista.append(3.0)  # Inserto un 3.0 al final\n",
    "lista"
   ]
  },
  {
   "cell_type": "code",
   "execution_count": 21,
   "id": "incident-carry",
   "metadata": {
    "execution": {
     "iopub.execute_input": "2021-02-03T16:41:32.832323Z",
     "iopub.status.busy": "2021-02-03T16:41:32.831464Z",
     "iopub.status.idle": "2021-02-03T16:41:32.833821Z",
     "shell.execute_reply": "2021-02-03T16:41:32.834328Z"
    }
   },
   "outputs": [
    {
     "name": "stdout",
     "output_type": "stream",
     "text": [
      "[1, 2, 10, 3, 4, 1, 'dos', 3.0]\n"
     ]
    }
   ],
   "source": [
    "lista.insert(2, 10)  # Inserto en posicion 2 un 10\n",
    "print(lista)"
   ]
  },
  {
   "cell_type": "code",
   "execution_count": 22,
   "id": "sapphire-dynamics",
   "metadata": {
    "execution": {
     "iopub.execute_input": "2021-02-03T16:41:32.838094Z",
     "iopub.status.busy": "2021-02-03T16:41:32.837525Z",
     "iopub.status.idle": "2021-02-03T16:41:32.841261Z",
     "shell.execute_reply": "2021-02-03T16:41:32.840582Z"
    }
   },
   "outputs": [
    {
     "data": {
      "text/plain": [
       "8"
      ]
     },
     "execution_count": 1,
     "metadata": {},
     "output_type": "execute_result"
    }
   ],
   "source": [
    "len(lista)"
   ]
  },
  {
   "cell_type": "code",
   "execution_count": 23,
   "id": "eligible-possession",
   "metadata": {
    "execution": {
     "iopub.execute_input": "2021-02-03T16:41:32.845320Z",
     "iopub.status.busy": "2021-02-03T16:41:32.844684Z",
     "iopub.status.idle": "2021-02-03T16:41:32.848579Z",
     "shell.execute_reply": "2021-02-03T16:41:32.848056Z"
    }
   },
   "outputs": [
    {
     "data": {
      "text/plain": [
       "3.0"
      ]
     },
     "execution_count": 1,
     "metadata": {},
     "output_type": "execute_result"
    }
   ],
   "source": [
    "lista.pop()"
   ]
  },
  {
   "cell_type": "code",
   "execution_count": 24,
   "id": "spread-grant",
   "metadata": {
    "execution": {
     "iopub.execute_input": "2021-02-03T16:41:32.852679Z",
     "iopub.status.busy": "2021-02-03T16:41:32.852032Z",
     "iopub.status.idle": "2021-02-03T16:41:32.855522Z",
     "shell.execute_reply": "2021-02-03T16:41:32.854921Z"
    }
   },
   "outputs": [
    {
     "data": {
      "text/plain": [
       "[1, 2, 10, 3, 4, 1, 'dos']"
      ]
     },
     "execution_count": 1,
     "metadata": {},
     "output_type": "execute_result"
    }
   ],
   "source": [
    "lista"
   ]
  },
  {
   "cell_type": "code",
   "execution_count": 25,
   "id": "professional-voltage",
   "metadata": {
    "execution": {
     "iopub.execute_input": "2021-02-03T16:41:32.860010Z",
     "iopub.status.busy": "2021-02-03T16:41:32.859040Z",
     "iopub.status.idle": "2021-02-03T16:41:32.862744Z",
     "shell.execute_reply": "2021-02-03T16:41:32.862194Z"
    }
   },
   "outputs": [
    {
     "data": {
      "text/plain": [
       "2"
      ]
     },
     "execution_count": 1,
     "metadata": {},
     "output_type": "execute_result"
    }
   ],
   "source": [
    "lista.index(10)"
   ]
  },
  {
   "cell_type": "code",
   "execution_count": 26,
   "id": "periodic-martial",
   "metadata": {
    "execution": {
     "iopub.execute_input": "2021-02-03T16:41:32.867258Z",
     "iopub.status.busy": "2021-02-03T16:41:32.866632Z",
     "iopub.status.idle": "2021-02-03T16:41:32.869878Z",
     "shell.execute_reply": "2021-02-03T16:41:32.870388Z"
    }
   },
   "outputs": [
    {
     "data": {
      "text/plain": [
       "[1, 2, 3, 4, 1, 'dos']"
      ]
     },
     "execution_count": 1,
     "metadata": {},
     "output_type": "execute_result"
    }
   ],
   "source": [
    "lista.remove(10)\n",
    "lista"
   ]
  },
  {
   "cell_type": "code",
   "execution_count": 27,
   "id": "cosmetic-discussion",
   "metadata": {
    "execution": {
     "iopub.execute_input": "2021-02-03T16:41:32.876507Z",
     "iopub.status.busy": "2021-02-03T16:41:32.875748Z",
     "iopub.status.idle": "2021-02-03T16:41:32.947110Z",
     "shell.execute_reply": "2021-02-03T16:41:32.946355Z"
    },
    "tags": [
     "raises-exception"
    ]
   },
   "outputs": [
    {
     "name": "stdout",
     "output_type": "stream",
     "text": [
      "1\n",
      "2\n",
      "2\n",
      "3\n",
      "3\n",
      "4\n",
      "4\n",
      "5\n",
      "1\n",
      "2\n",
      "dos\n"
     ]
    },
    {
     "ename": "TypeError",
     "evalue": "can only concatenate str (not \"int\") to str",
     "output_type": "error",
     "traceback": [
      "\u001b[0;31m---------------------------------------------------------------------------\u001b[0m",
      "\u001b[0;31mTypeError\u001b[0m                                 Traceback (most recent call last)",
      "\u001b[0;32m<ipython-input-1-41b56d5cf080>\u001b[0m in \u001b[0;36m<module>\u001b[0;34m\u001b[0m\n\u001b[1;32m      1\u001b[0m \u001b[0;32mfor\u001b[0m \u001b[0melemento\u001b[0m \u001b[0;32min\u001b[0m \u001b[0mlista\u001b[0m\u001b[0;34m:\u001b[0m\u001b[0;34m\u001b[0m\u001b[0;34m\u001b[0m\u001b[0m\n\u001b[1;32m      2\u001b[0m     \u001b[0mprint\u001b[0m\u001b[0;34m(\u001b[0m\u001b[0melemento\u001b[0m\u001b[0;34m)\u001b[0m\u001b[0;34m\u001b[0m\u001b[0;34m\u001b[0m\u001b[0m\n\u001b[0;32m----> 3\u001b[0;31m     \u001b[0mprint\u001b[0m\u001b[0;34m(\u001b[0m\u001b[0melemento\u001b[0m \u001b[0;34m+\u001b[0m \u001b[0;36m1\u001b[0m\u001b[0;34m)\u001b[0m\u001b[0;34m\u001b[0m\u001b[0;34m\u001b[0m\u001b[0m\n\u001b[0m",
      "\u001b[0;31mTypeError\u001b[0m: can only concatenate str (not \"int\") to str"
     ]
    }
   ],
   "source": [
    "for elemento in lista:\n",
    "    print(elemento)\n",
    "    print(elemento + 1)"
   ]
  },
  {
   "cell_type": "code",
   "execution_count": 28,
   "id": "moved-local",
   "metadata": {
    "execution": {
     "iopub.execute_input": "2021-02-03T16:41:33.050874Z",
     "iopub.status.busy": "2021-02-03T16:41:33.050040Z",
     "iopub.status.idle": "2021-02-03T16:41:33.055505Z",
     "shell.execute_reply": "2021-02-03T16:41:33.054857Z"
    }
   },
   "outputs": [
    {
     "data": {
      "text/plain": [
       "[1, 2, 3, 4, 1, 'dos']"
      ]
     },
     "execution_count": 1,
     "metadata": {},
     "output_type": "execute_result"
    }
   ],
   "source": [
    "lista"
   ]
  },
  {
   "cell_type": "code",
   "execution_count": 29,
   "id": "completed-farming",
   "metadata": {
    "execution": {
     "iopub.execute_input": "2021-02-03T16:41:33.062712Z",
     "iopub.status.busy": "2021-02-03T16:41:33.061245Z",
     "iopub.status.idle": "2021-02-03T16:41:33.064966Z",
     "shell.execute_reply": "2021-02-03T16:41:33.064363Z"
    }
   },
   "outputs": [
    {
     "name": "stdout",
     "output_type": "stream",
     "text": [
      "0-ésimo elemento: 1\n",
      "1-ésimo elemento: 2\n",
      "2-ésimo elemento: 3\n",
      "3-ésimo elemento: 4\n",
      "4-ésimo elemento: 1\n",
      "5-ésimo elemento: dos\n"
     ]
    }
   ],
   "source": [
    "for i, elemento in enumerate(lista):\n",
    "    print(f\"{i}-ésimo elemento: {elemento}\")"
   ]
  },
  {
   "cell_type": "code",
   "execution_count": 30,
   "id": "informed-birthday",
   "metadata": {
    "execution": {
     "iopub.execute_input": "2021-02-03T16:41:33.073395Z",
     "iopub.status.busy": "2021-02-03T16:41:33.070350Z",
     "iopub.status.idle": "2021-02-03T16:41:33.076641Z",
     "shell.execute_reply": "2021-02-03T16:41:33.075969Z"
    },
    "tags": [
     "raises-exception"
    ]
   },
   "outputs": [
    {
     "ename": "TypeError",
     "evalue": "'<' not supported between instances of 'str' and 'int'",
     "output_type": "error",
     "traceback": [
      "\u001b[0;31m---------------------------------------------------------------------------\u001b[0m",
      "\u001b[0;31mTypeError\u001b[0m                                 Traceback (most recent call last)",
      "\u001b[0;32m<ipython-input-1-06c3f264dc7a>\u001b[0m in \u001b[0;36m<module>\u001b[0;34m\u001b[0m\n\u001b[0;32m----> 1\u001b[0;31m \u001b[0msorted\u001b[0m\u001b[0;34m(\u001b[0m\u001b[0mlista\u001b[0m\u001b[0;34m)\u001b[0m\u001b[0;34m\u001b[0m\u001b[0;34m\u001b[0m\u001b[0m\n\u001b[0m",
      "\u001b[0;31mTypeError\u001b[0m: '<' not supported between instances of 'str' and 'int'"
     ]
    }
   ],
   "source": [
    "sorted(lista)"
   ]
  },
  {
   "cell_type": "code",
   "execution_count": 31,
   "id": "portable-profession",
   "metadata": {
    "execution": {
     "iopub.execute_input": "2021-02-03T16:41:33.180293Z",
     "iopub.status.busy": "2021-02-03T16:41:33.179610Z",
     "iopub.status.idle": "2021-02-03T16:41:33.182212Z",
     "shell.execute_reply": "2021-02-03T16:41:33.181640Z"
    }
   },
   "outputs": [],
   "source": [
    "lista.remove(\"dos\")"
   ]
  },
  {
   "cell_type": "code",
   "execution_count": 32,
   "id": "cloudy-cutting",
   "metadata": {
    "execution": {
     "iopub.execute_input": "2021-02-03T16:41:33.188352Z",
     "iopub.status.busy": "2021-02-03T16:41:33.187171Z",
     "iopub.status.idle": "2021-02-03T16:41:33.190488Z",
     "shell.execute_reply": "2021-02-03T16:41:33.191062Z"
    }
   },
   "outputs": [
    {
     "data": {
      "text/plain": [
       "[1, 1, 2, 3, 4]"
      ]
     },
     "execution_count": 1,
     "metadata": {},
     "output_type": "execute_result"
    }
   ],
   "source": [
    "sorted(lista)"
   ]
  },
  {
   "cell_type": "code",
   "execution_count": 33,
   "id": "impressed-access",
   "metadata": {
    "execution": {
     "iopub.execute_input": "2021-02-03T16:41:33.197760Z",
     "iopub.status.busy": "2021-02-03T16:41:33.196319Z",
     "iopub.status.idle": "2021-02-03T16:41:33.200301Z",
     "shell.execute_reply": "2021-02-03T16:41:33.199704Z"
    }
   },
   "outputs": [
    {
     "data": {
      "text/plain": [
       "[1, 1, 2, 3, 4]"
      ]
     },
     "execution_count": 1,
     "metadata": {},
     "output_type": "execute_result"
    }
   ],
   "source": [
    "lista.sort()\n",
    "lista"
   ]
  },
  {
   "cell_type": "markdown",
   "id": "equal-evidence",
   "metadata": {
    "slideshow": {
     "slide_type": "slide"
    }
   },
   "source": [
    "#### Tuplas de Python\n",
    "\n",
    "Las tuplas son inmutables. No se pueden agregar elementos luego de creadas."
   ]
  },
  {
   "cell_type": "code",
   "execution_count": 34,
   "id": "extreme-validity",
   "metadata": {
    "execution": {
     "iopub.execute_input": "2021-02-03T16:41:33.209910Z",
     "iopub.status.busy": "2021-02-03T16:41:33.204897Z",
     "iopub.status.idle": "2021-02-03T16:41:33.213921Z",
     "shell.execute_reply": "2021-02-03T16:41:33.213322Z"
    },
    "slideshow": {
     "slide_type": "slide"
    },
    "tags": [
     "raises-exception"
    ]
   },
   "outputs": [
    {
     "name": "stdout",
     "output_type": "stream",
     "text": [
      "(1, 2)\n",
      "1\n",
      "2\n"
     ]
    },
    {
     "ename": "TypeError",
     "evalue": "'tuple' object does not support item assignment",
     "output_type": "error",
     "traceback": [
      "\u001b[0;31m---------------------------------------------------------------------------\u001b[0m",
      "\u001b[0;31mTypeError\u001b[0m                                 Traceback (most recent call last)",
      "\u001b[0;32m<ipython-input-1-80ca8b547dd6>\u001b[0m in \u001b[0;36m<module>\u001b[0;34m\u001b[0m\n\u001b[1;32m      5\u001b[0m \u001b[0mprint\u001b[0m\u001b[0;34m(\u001b[0m\u001b[0mtupla\u001b[0m\u001b[0;34m[\u001b[0m\u001b[0;36m1\u001b[0m\u001b[0;34m]\u001b[0m\u001b[0;34m)\u001b[0m\u001b[0;34m\u001b[0m\u001b[0;34m\u001b[0m\u001b[0m\n\u001b[1;32m      6\u001b[0m \u001b[0;34m\u001b[0m\u001b[0m\n\u001b[0;32m----> 7\u001b[0;31m \u001b[0mtupla\u001b[0m\u001b[0;34m[\u001b[0m\u001b[0;36m1\u001b[0m\u001b[0;34m]\u001b[0m \u001b[0;34m=\u001b[0m \u001b[0;36m3\u001b[0m  \u001b[0;31m# Falla. No se puede mutar\u001b[0m\u001b[0;34m\u001b[0m\u001b[0;34m\u001b[0m\u001b[0m\n\u001b[0m",
      "\u001b[0;31mTypeError\u001b[0m: 'tuple' object does not support item assignment"
     ]
    }
   ],
   "source": [
    "tupla = (1, 2)\n",
    "\n",
    "print(tupla)\n",
    "print(tupla[0])\n",
    "print(tupla[1])\n",
    "\n",
    "tupla[1] = 3  # Falla. No se puede mutar"
   ]
  },
  {
   "cell_type": "code",
   "execution_count": 35,
   "id": "published-underground",
   "metadata": {
    "execution": {
     "iopub.execute_input": "2021-02-03T16:41:33.317932Z",
     "iopub.status.busy": "2021-02-03T16:41:33.317200Z",
     "iopub.status.idle": "2021-02-03T16:41:33.322628Z",
     "shell.execute_reply": "2021-02-03T16:41:33.322028Z"
    }
   },
   "outputs": [
    {
     "data": {
      "text/plain": [
       "[1, 2]"
      ]
     },
     "execution_count": 1,
     "metadata": {},
     "output_type": "execute_result"
    }
   ],
   "source": [
    "l = [1, 2]\n",
    "l"
   ]
  },
  {
   "cell_type": "code",
   "execution_count": 36,
   "id": "latest-notice",
   "metadata": {
    "execution": {
     "iopub.execute_input": "2021-02-03T16:41:33.327218Z",
     "iopub.status.busy": "2021-02-03T16:41:33.326523Z",
     "iopub.status.idle": "2021-02-03T16:41:33.329891Z",
     "shell.execute_reply": "2021-02-03T16:41:33.330445Z"
    }
   },
   "outputs": [
    {
     "data": {
      "text/plain": [
       "[1, 3]"
      ]
     },
     "execution_count": 1,
     "metadata": {},
     "output_type": "execute_result"
    }
   ],
   "source": [
    "l[1] = 3\n",
    "l"
   ]
  },
  {
   "cell_type": "markdown",
   "id": "incorporate-richmond",
   "metadata": {
    "slideshow": {
     "slide_type": "slide"
    }
   },
   "source": [
    "#### Diferencia entre lista y tupla\n",
    "Las listas se caracterizan por ser mutables, es decir, se puede cambiar su contenido en tiempo de ejecución, mientras que las tuplas son inmutables ya que no es posible modificar el contenido una vez creada."
   ]
  },
  {
   "cell_type": "markdown",
   "id": "recognized-creation",
   "metadata": {},
   "source": [
    "#### Slices\n",
    "\n",
    "**Valen para listas, tuplas o strings (_segmentos_)**"
   ]
  },
  {
   "cell_type": "code",
   "execution_count": 37,
   "id": "unable-thanks",
   "metadata": {
    "execution": {
     "iopub.execute_input": "2021-02-03T16:41:33.335682Z",
     "iopub.status.busy": "2021-02-03T16:41:33.334982Z",
     "iopub.status.idle": "2021-02-03T16:41:33.337806Z",
     "shell.execute_reply": "2021-02-03T16:41:33.337266Z"
    }
   },
   "outputs": [],
   "source": [
    "numeros = [0, 1, 2, 3, 4, 5, 6, 7, 8, 9, 10]"
   ]
  },
  {
   "cell_type": "code",
   "execution_count": 38,
   "id": "regional-squad",
   "metadata": {
    "execution": {
     "iopub.execute_input": "2021-02-03T16:41:33.342451Z",
     "iopub.status.busy": "2021-02-03T16:41:33.341771Z",
     "iopub.status.idle": "2021-02-03T16:41:33.343953Z",
     "shell.execute_reply": "2021-02-03T16:41:33.344599Z"
    }
   },
   "outputs": [
    {
     "name": "stdout",
     "output_type": "stream",
     "text": [
      "[0, 1, 2, 3, 4, 5, 6, 7, 8, 9, 10]\n"
     ]
    }
   ],
   "source": [
    "print(numeros)"
   ]
  },
  {
   "cell_type": "code",
   "execution_count": 39,
   "id": "every-charge",
   "metadata": {
    "execution": {
     "iopub.execute_input": "2021-02-03T16:41:33.349247Z",
     "iopub.status.busy": "2021-02-03T16:41:33.348547Z",
     "iopub.status.idle": "2021-02-03T16:41:33.350817Z",
     "shell.execute_reply": "2021-02-03T16:41:33.351472Z"
    }
   },
   "outputs": [
    {
     "name": "stdout",
     "output_type": "stream",
     "text": [
      "2\n"
     ]
    }
   ],
   "source": [
    "print(numeros[2])  # Imprimo elemento en la posición 2"
   ]
  },
  {
   "cell_type": "code",
   "execution_count": 40,
   "id": "imperial-painting",
   "metadata": {
    "execution": {
     "iopub.execute_input": "2021-02-03T16:41:33.356138Z",
     "iopub.status.busy": "2021-02-03T16:41:33.355495Z",
     "iopub.status.idle": "2021-02-03T16:41:33.359092Z",
     "shell.execute_reply": "2021-02-03T16:41:33.358533Z"
    }
   },
   "outputs": [
    {
     "data": {
      "text/plain": [
       "10"
      ]
     },
     "execution_count": 1,
     "metadata": {},
     "output_type": "execute_result"
    }
   ],
   "source": [
    "numeros[len(numeros) - 1]"
   ]
  },
  {
   "cell_type": "code",
   "execution_count": 41,
   "id": "animal-velvet",
   "metadata": {
    "execution": {
     "iopub.execute_input": "2021-02-03T16:41:33.363677Z",
     "iopub.status.busy": "2021-02-03T16:41:33.362898Z",
     "iopub.status.idle": "2021-02-03T16:41:33.365173Z",
     "shell.execute_reply": "2021-02-03T16:41:33.365808Z"
    },
    "lines_to_next_cell": 2
   },
   "outputs": [
    {
     "name": "stdout",
     "output_type": "stream",
     "text": [
      "10\n"
     ]
    }
   ],
   "source": [
    "print(numeros[-1])  # # Imprimo elemento en la última posición"
   ]
  },
  {
   "cell_type": "code",
   "execution_count": 42,
   "id": "selective-eleven",
   "metadata": {
    "execution": {
     "iopub.execute_input": "2021-02-03T16:41:33.370234Z",
     "iopub.status.busy": "2021-02-03T16:41:33.369605Z",
     "iopub.status.idle": "2021-02-03T16:41:33.373153Z",
     "shell.execute_reply": "2021-02-03T16:41:33.372497Z"
    },
    "lines_to_next_cell": 2
   },
   "outputs": [
    {
     "data": {
      "text/plain": [
       "9"
      ]
     },
     "execution_count": 1,
     "metadata": {},
     "output_type": "execute_result"
    }
   ],
   "source": [
    "numeros[-2]"
   ]
  },
  {
   "cell_type": "code",
   "execution_count": 43,
   "id": "identified-metallic",
   "metadata": {
    "execution": {
     "iopub.execute_input": "2021-02-03T16:41:33.377783Z",
     "iopub.status.busy": "2021-02-03T16:41:33.377148Z",
     "iopub.status.idle": "2021-02-03T16:41:33.379810Z",
     "shell.execute_reply": "2021-02-03T16:41:33.380338Z"
    }
   },
   "outputs": [
    {
     "name": "stdout",
     "output_type": "stream",
     "text": [
      "[0, 1, 2]\n"
     ]
    }
   ],
   "source": [
    "print(numeros[0:3])  # Imprimo de la pos 0 a la pos 2"
   ]
  },
  {
   "cell_type": "code",
   "execution_count": 44,
   "id": "exterior-offering",
   "metadata": {
    "execution": {
     "iopub.execute_input": "2021-02-03T16:41:33.384728Z",
     "iopub.status.busy": "2021-02-03T16:41:33.384095Z",
     "iopub.status.idle": "2021-02-03T16:41:33.386230Z",
     "shell.execute_reply": "2021-02-03T16:41:33.386844Z"
    }
   },
   "outputs": [
    {
     "name": "stdout",
     "output_type": "stream",
     "text": [
      "[7, 8]\n"
     ]
    }
   ],
   "source": [
    "print(numeros[-4:-2])"
   ]
  },
  {
   "cell_type": "code",
   "execution_count": 45,
   "id": "chemical-jamaica",
   "metadata": {
    "execution": {
     "iopub.execute_input": "2021-02-03T16:41:33.391049Z",
     "iopub.status.busy": "2021-02-03T16:41:33.390399Z",
     "iopub.status.idle": "2021-02-03T16:41:33.392513Z",
     "shell.execute_reply": "2021-02-03T16:41:33.393166Z"
    }
   },
   "outputs": [
    {
     "name": "stdout",
     "output_type": "stream",
     "text": [
      "[0, 1, 2, 3, 4, 5, 6, 7, 8, 9, 10]\n"
     ]
    }
   ],
   "source": [
    "print(numeros[0:80])"
   ]
  },
  {
   "cell_type": "code",
   "execution_count": 46,
   "id": "extended-sterling",
   "metadata": {
    "execution": {
     "iopub.execute_input": "2021-02-03T16:41:33.397583Z",
     "iopub.status.busy": "2021-02-03T16:41:33.396936Z",
     "iopub.status.idle": "2021-02-03T16:41:33.399042Z",
     "shell.execute_reply": "2021-02-03T16:41:33.399598Z"
    }
   },
   "outputs": [
    {
     "name": "stdout",
     "output_type": "stream",
     "text": [
      "[0, 1, 2]\n"
     ]
    }
   ],
   "source": [
    "print(numeros[:3])"
   ]
  },
  {
   "cell_type": "code",
   "execution_count": 47,
   "id": "seven-underwear",
   "metadata": {
    "execution": {
     "iopub.execute_input": "2021-02-03T16:41:33.403741Z",
     "iopub.status.busy": "2021-02-03T16:41:33.403102Z",
     "iopub.status.idle": "2021-02-03T16:41:33.405203Z",
     "shell.execute_reply": "2021-02-03T16:41:33.405831Z"
    }
   },
   "outputs": [
    {
     "name": "stdout",
     "output_type": "stream",
     "text": [
      "[3, 4, 5, 6, 7, 8, 9, 10]\n"
     ]
    }
   ],
   "source": [
    "print(numeros[3:])"
   ]
  },
  {
   "cell_type": "code",
   "execution_count": 48,
   "id": "sharing-transcript",
   "metadata": {
    "execution": {
     "iopub.execute_input": "2021-02-03T16:41:33.410303Z",
     "iopub.status.busy": "2021-02-03T16:41:33.409496Z",
     "iopub.status.idle": "2021-02-03T16:41:33.411807Z",
     "shell.execute_reply": "2021-02-03T16:41:33.412333Z"
    }
   },
   "outputs": [
    {
     "name": "stdout",
     "output_type": "stream",
     "text": [
      "[0, 2, 4, 6, 8]\n"
     ]
    }
   ],
   "source": [
    "print(numeros[0:10:2])"
   ]
  },
  {
   "cell_type": "markdown",
   "id": "previous-louisiana",
   "metadata": {},
   "source": [
    "```python\n",
    "lista[<inicio>:<final>:<step>]\n",
    "```"
   ]
  },
  {
   "cell_type": "code",
   "execution_count": 49,
   "id": "later-magnitude",
   "metadata": {
    "execution": {
     "iopub.execute_input": "2021-02-03T16:41:33.415242Z",
     "iopub.status.busy": "2021-02-03T16:41:33.414611Z",
     "iopub.status.idle": "2021-02-03T16:41:33.420019Z",
     "shell.execute_reply": "2021-02-03T16:41:33.419445Z"
    },
    "lines_to_next_cell": 2
   },
   "outputs": [
    {
     "data": {
      "text/plain": [
       "[1, 2, 3, 4]"
      ]
     },
     "execution_count": 1,
     "metadata": {},
     "output_type": "execute_result"
    }
   ],
   "source": [
    "l1 = [1, 2]\n",
    "l2 = [3, 4]\n",
    "l1 + l2"
   ]
  },
  {
   "cell_type": "code",
   "execution_count": 50,
   "id": "pharmaceutical-entrepreneur",
   "metadata": {
    "execution": {
     "iopub.execute_input": "2021-02-03T16:41:33.424677Z",
     "iopub.status.busy": "2021-02-03T16:41:33.424037Z",
     "iopub.status.idle": "2021-02-03T16:41:33.426412Z",
     "shell.execute_reply": "2021-02-03T16:41:33.427081Z"
    }
   },
   "outputs": [
    {
     "name": "stdout",
     "output_type": "stream",
     "text": [
      "[0, 1, 2, 3, 4, 5, 6, 'siete', 8, 9, 10]\n"
     ]
    }
   ],
   "source": [
    "numeros[7] = 'siete'  # Las listas se pueden mutar\n",
    "print(numeros)"
   ]
  },
  {
   "cell_type": "code",
   "execution_count": 51,
   "id": "blond-african",
   "metadata": {
    "execution": {
     "iopub.execute_input": "2021-02-03T16:41:33.431572Z",
     "iopub.status.busy": "2021-02-03T16:41:33.430918Z",
     "iopub.status.idle": "2021-02-03T16:41:33.433269Z",
     "shell.execute_reply": "2021-02-03T16:41:33.433876Z"
    }
   },
   "outputs": [
    {
     "name": "stdout",
     "output_type": "stream",
     "text": [
      "[10, 9, 8, 'siete', 6, 5, 4, 3, 2, 1, 0]\n"
     ]
    }
   ],
   "source": [
    "numeros = numeros[::-1]\n",
    "print(numeros)"
   ]
  },
  {
   "cell_type": "code",
   "execution_count": 52,
   "id": "reasonable-maine",
   "metadata": {
    "execution": {
     "iopub.execute_input": "2021-02-03T16:41:33.438059Z",
     "iopub.status.busy": "2021-02-03T16:41:33.437394Z",
     "iopub.status.idle": "2021-02-03T16:41:33.450397Z",
     "shell.execute_reply": "2021-02-03T16:41:33.448639Z"
    },
    "tags": [
     "raises-exception"
    ]
   },
   "outputs": [
    {
     "ename": "IndexError",
     "evalue": "list index out of range",
     "output_type": "error",
     "traceback": [
      "\u001b[0;31m---------------------------------------------------------------------------\u001b[0m",
      "\u001b[0;31mIndexError\u001b[0m                                Traceback (most recent call last)",
      "\u001b[0;32m<ipython-input-1-0ef91dd29a9b>\u001b[0m in \u001b[0;36m<module>\u001b[0;34m\u001b[0m\n\u001b[0;32m----> 1\u001b[0;31m \u001b[0mprint\u001b[0m\u001b[0;34m(\u001b[0m\u001b[0mnumeros\u001b[0m\u001b[0;34m[\u001b[0m\u001b[0;36m15\u001b[0m\u001b[0;34m]\u001b[0m\u001b[0;34m)\u001b[0m  \u001b[0;31m# Falla. No se puede acceder a una posición inexistente\u001b[0m\u001b[0;34m\u001b[0m\u001b[0;34m\u001b[0m\u001b[0m\n\u001b[0m",
      "\u001b[0;31mIndexError\u001b[0m: list index out of range"
     ]
    }
   ],
   "source": [
    "print(numeros[15])  # Falla. No se puede acceder a una posición inexistente"
   ]
  },
  {
   "cell_type": "code",
   "execution_count": 53,
   "id": "owned-riding",
   "metadata": {
    "execution": {
     "iopub.execute_input": "2021-02-03T16:41:33.555990Z",
     "iopub.status.busy": "2021-02-03T16:41:33.555257Z",
     "iopub.status.idle": "2021-02-03T16:41:33.560036Z",
     "shell.execute_reply": "2021-02-03T16:41:33.560585Z"
    }
   },
   "outputs": [
    {
     "name": "stdout",
     "output_type": "stream",
     "text": [
      "palabra\n",
      "a\n",
      "pal\n",
      "abra\n"
     ]
    }
   ],
   "source": [
    "palabra = 'palabra'\n",
    "print(palabra)\n",
    "print(palabra[3])\n",
    "print(palabra[:3])\n",
    "print(palabra[3:])"
   ]
  },
  {
   "cell_type": "code",
   "execution_count": 54,
   "id": "soviet-inclusion",
   "metadata": {
    "execution": {
     "iopub.execute_input": "2021-02-03T16:41:33.569279Z",
     "iopub.status.busy": "2021-02-03T16:41:33.567360Z",
     "iopub.status.idle": "2021-02-03T16:41:33.571435Z",
     "shell.execute_reply": "2021-02-03T16:41:33.570818Z"
    }
   },
   "outputs": [
    {
     "name": "stdout",
     "output_type": "stream",
     "text": [
      "(0, 1, 2, 3, 4)\n",
      "(0, 1)\n",
      "(2, 3, 4)\n"
     ]
    }
   ],
   "source": [
    "tupla = (0, 1, 2, 3, 4)\n",
    "\n",
    "print(tupla)\n",
    "print(tupla[:2])\n",
    "print(tupla[2:])"
   ]
  },
  {
   "cell_type": "markdown",
   "id": "adopted-python",
   "metadata": {
    "slideshow": {
     "slide_type": "slide"
    }
   },
   "source": [
    "#### Diccionarios de Python\n",
    "\n",
    "Son como hashmaps, las claves deben ser inmutables para que no pierda sentido el diccionario. Si se pudieran modificar, se podrían cambiar las claves y generaría conflictos.\n",
    "\n",
    "Tipos mutables:\n",
    "- Listas\n",
    "- Diccionarios\n",
    "- Sets\n",
    "\n",
    "Tipos inmutables:\n",
    "- Int\n",
    "- Float\n",
    "- String\n",
    "- Tuplas\n"
   ]
  },
  {
   "cell_type": "code",
   "execution_count": 55,
   "id": "present-hypothesis",
   "metadata": {
    "execution": {
     "iopub.execute_input": "2021-02-03T16:41:33.577725Z",
     "iopub.status.busy": "2021-02-03T16:41:33.576353Z",
     "iopub.status.idle": "2021-02-03T16:41:33.580284Z",
     "shell.execute_reply": "2021-02-03T16:41:33.579716Z"
    },
    "slideshow": {
     "slide_type": "slide"
    }
   },
   "outputs": [
    {
     "data": {
      "text/plain": [
       "{}"
      ]
     },
     "execution_count": 1,
     "metadata": {},
     "output_type": "execute_result"
    }
   ],
   "source": [
    "diccionario = {}\n",
    "diccionario"
   ]
  },
  {
   "cell_type": "code",
   "execution_count": 56,
   "id": "wrong-honduras",
   "metadata": {
    "execution": {
     "iopub.execute_input": "2021-02-03T16:41:33.588626Z",
     "iopub.status.busy": "2021-02-03T16:41:33.587088Z",
     "iopub.status.idle": "2021-02-03T16:41:33.590972Z",
     "shell.execute_reply": "2021-02-03T16:41:33.590382Z"
    }
   },
   "outputs": [
    {
     "data": {
      "text/plain": [
       "{}"
      ]
     },
     "execution_count": 1,
     "metadata": {},
     "output_type": "execute_result"
    }
   ],
   "source": [
    "diccionario = dict()\n",
    "diccionario"
   ]
  },
  {
   "cell_type": "code",
   "execution_count": 57,
   "id": "cleared-ethics",
   "metadata": {
    "execution": {
     "iopub.execute_input": "2021-02-03T16:41:33.596427Z",
     "iopub.status.busy": "2021-02-03T16:41:33.595763Z",
     "iopub.status.idle": "2021-02-03T16:41:33.598106Z",
     "shell.execute_reply": "2021-02-03T16:41:33.598646Z"
    },
    "slideshow": {
     "slide_type": "slide"
    }
   },
   "outputs": [
    {
     "name": "stdout",
     "output_type": "stream",
     "text": [
      "{'clave1': 'valor1', 2: 'valor2', 'clave3': 3}\n"
     ]
    }
   ],
   "source": [
    "# Cómo agregar cosas al diccionario\n",
    "diccionario['clave1'] = 'valor1'\n",
    "diccionario[2] = 'valor2'\n",
    "diccionario['clave3'] = 3\n",
    "print(diccionario)"
   ]
  },
  {
   "cell_type": "markdown",
   "id": "analyzed-hunger",
   "metadata": {},
   "source": [
    "Hay dos formas de obtener valores de un diccionario:\n",
    "\n",
    "```python\n",
    "diccionario[clave]\n",
    "```\n",
    "\n",
    "El cual devuelve el valor si existe la clave suministrada o bien lanza `KeyError` si no existe."
   ]
  },
  {
   "cell_type": "code",
   "execution_count": 58,
   "id": "distributed-divorce",
   "metadata": {
    "execution": {
     "iopub.execute_input": "2021-02-03T16:41:33.603026Z",
     "iopub.status.busy": "2021-02-03T16:41:33.602386Z",
     "iopub.status.idle": "2021-02-03T16:41:33.606147Z",
     "shell.execute_reply": "2021-02-03T16:41:33.605580Z"
    }
   },
   "outputs": [
    {
     "data": {
      "text/plain": [
       "'valor1'"
      ]
     },
     "execution_count": 1,
     "metadata": {},
     "output_type": "execute_result"
    }
   ],
   "source": [
    "diccionario['clave1']"
   ]
  },
  {
   "cell_type": "code",
   "execution_count": 59,
   "id": "challenging-creek",
   "metadata": {
    "execution": {
     "iopub.execute_input": "2021-02-03T16:41:33.613940Z",
     "iopub.status.busy": "2021-02-03T16:41:33.613207Z",
     "iopub.status.idle": "2021-02-03T16:41:33.616707Z",
     "shell.execute_reply": "2021-02-03T16:41:33.616131Z"
    },
    "tags": [
     "raises-exception"
    ]
   },
   "outputs": [
    {
     "ename": "KeyError",
     "evalue": "'clave1000'",
     "output_type": "error",
     "traceback": [
      "\u001b[0;31m---------------------------------------------------------------------------\u001b[0m",
      "\u001b[0;31mKeyError\u001b[0m                                  Traceback (most recent call last)",
      "\u001b[0;32m<ipython-input-1-41aae9a2e5ed>\u001b[0m in \u001b[0;36m<module>\u001b[0;34m\u001b[0m\n\u001b[0;32m----> 1\u001b[0;31m \u001b[0mdiccionario\u001b[0m\u001b[0;34m[\u001b[0m\u001b[0;34m'clave1000'\u001b[0m\u001b[0;34m]\u001b[0m\u001b[0;34m\u001b[0m\u001b[0;34m\u001b[0m\u001b[0m\n\u001b[0m",
      "\u001b[0;31mKeyError\u001b[0m: 'clave1000'"
     ]
    }
   ],
   "source": [
    "diccionario['clave1000']"
   ]
  },
  {
   "cell_type": "markdown",
   "id": "durable-netscape",
   "metadata": {},
   "source": [
    "La segunda forma es con `get`:"
   ]
  },
  {
   "cell_type": "code",
   "execution_count": 60,
   "id": "female-jones",
   "metadata": {
    "execution": {
     "iopub.execute_input": "2021-02-03T16:41:33.739921Z",
     "iopub.status.busy": "2021-02-03T16:41:33.729543Z",
     "iopub.status.idle": "2021-02-03T16:41:33.778514Z",
     "shell.execute_reply": "2021-02-03T16:41:33.777896Z"
    }
   },
   "outputs": [],
   "source": [
    "diccionario.get?"
   ]
  },
  {
   "cell_type": "code",
   "execution_count": 61,
   "id": "technical-forge",
   "metadata": {
    "execution": {
     "iopub.execute_input": "2021-02-03T16:41:33.785481Z",
     "iopub.status.busy": "2021-02-03T16:41:33.783872Z",
     "iopub.status.idle": "2021-02-03T16:41:33.787644Z",
     "shell.execute_reply": "2021-02-03T16:41:33.787038Z"
    }
   },
   "outputs": [
    {
     "name": "stdout",
     "output_type": "stream",
     "text": [
      "Help on built-in function get:\n",
      "\n",
      "get(key, default=None, /) method of builtins.dict instance\n",
      "    Return the value for key if key is in the dictionary, else default.\n",
      "\n"
     ]
    }
   ],
   "source": [
    "help(diccionario.get)"
   ]
  },
  {
   "cell_type": "code",
   "execution_count": 62,
   "id": "alive-defendant",
   "metadata": {
    "execution": {
     "iopub.execute_input": "2021-02-03T16:41:33.793629Z",
     "iopub.status.busy": "2021-02-03T16:41:33.791963Z",
     "iopub.status.idle": "2021-02-03T16:41:33.795738Z",
     "shell.execute_reply": "2021-02-03T16:41:33.795160Z"
    },
    "slideshow": {
     "slide_type": "slide"
    }
   },
   "outputs": [
    {
     "name": "stdout",
     "output_type": "stream",
     "text": [
      "None\n"
     ]
    }
   ],
   "source": [
    "print(diccionario.get('clave1000'))"
   ]
  },
  {
   "cell_type": "code",
   "execution_count": 63,
   "id": "gross-humanitarian",
   "metadata": {
    "execution": {
     "iopub.execute_input": "2021-02-03T16:41:33.802183Z",
     "iopub.status.busy": "2021-02-03T16:41:33.800252Z",
     "iopub.status.idle": "2021-02-03T16:41:33.804326Z",
     "shell.execute_reply": "2021-02-03T16:41:33.803699Z"
    },
    "slideshow": {
     "slide_type": "slide"
    }
   },
   "outputs": [
    {
     "name": "stdout",
     "output_type": "stream",
     "text": [
      "True\n"
     ]
    }
   ],
   "source": [
    "print('clave1' in diccionario)  # Verifico si la clave está en el diccionario"
   ]
  },
  {
   "cell_type": "code",
   "execution_count": 64,
   "id": "numerous-savage",
   "metadata": {
    "execution": {
     "iopub.execute_input": "2021-02-03T16:41:33.810570Z",
     "iopub.status.busy": "2021-02-03T16:41:33.809186Z",
     "iopub.status.idle": "2021-02-03T16:41:33.813089Z",
     "shell.execute_reply": "2021-02-03T16:41:33.812473Z"
    }
   },
   "outputs": [
    {
     "data": {
      "text/plain": [
       "True"
      ]
     },
     "execution_count": 1,
     "metadata": {},
     "output_type": "execute_result"
    }
   ],
   "source": [
    "l = [1, 2, 3, 4]\n",
    "2 in l"
   ]
  },
  {
   "cell_type": "code",
   "execution_count": 65,
   "id": "english-mapping",
   "metadata": {
    "execution": {
     "iopub.execute_input": "2021-02-03T16:41:33.819678Z",
     "iopub.status.busy": "2021-02-03T16:41:33.818040Z",
     "iopub.status.idle": "2021-02-03T16:41:33.821852Z",
     "shell.execute_reply": "2021-02-03T16:41:33.821274Z"
    }
   },
   "outputs": [
    {
     "name": "stdout",
     "output_type": "stream",
     "text": [
      "la clave es clave1 y el valor es valor1\n",
      "la clave es 2 y el valor es valor2\n",
      "la clave es clave3 y el valor es 3\n"
     ]
    }
   ],
   "source": [
    "for clave, valor in diccionario.items():\n",
    "    print(\"la clave es %s y el valor es %s\" % (clave, valor))"
   ]
  },
  {
   "cell_type": "code",
   "execution_count": 66,
   "id": "developing-appraisal",
   "metadata": {
    "execution": {
     "iopub.execute_input": "2021-02-03T16:41:33.828236Z",
     "iopub.status.busy": "2021-02-03T16:41:33.826722Z",
     "iopub.status.idle": "2021-02-03T16:41:33.830519Z",
     "shell.execute_reply": "2021-02-03T16:41:33.829906Z"
    }
   },
   "outputs": [
    {
     "name": "stdout",
     "output_type": "stream",
     "text": [
      "la clave es clave1 y el valor es valor1\n",
      "la clave es 2 y el valor es valor2\n",
      "la clave es clave3 y el valor es 3\n"
     ]
    }
   ],
   "source": [
    "for clave, valor in diccionario.items():\n",
    "    print(\"la clave es {} y el valor es {}\".format(clave, valor))"
   ]
  },
  {
   "cell_type": "code",
   "execution_count": 67,
   "id": "naughty-capital",
   "metadata": {
    "execution": {
     "iopub.execute_input": "2021-02-03T16:41:33.837810Z",
     "iopub.status.busy": "2021-02-03T16:41:33.836185Z",
     "iopub.status.idle": "2021-02-03T16:41:33.839957Z",
     "shell.execute_reply": "2021-02-03T16:41:33.839372Z"
    },
    "slideshow": {
     "slide_type": "slide"
    }
   },
   "outputs": [
    {
     "name": "stdout",
     "output_type": "stream",
     "text": [
      "la clave es clave1 y el valor es valor1\n",
      "la clave es 2 y el valor es valor2\n",
      "la clave es clave3 y el valor es 3\n"
     ]
    }
   ],
   "source": [
    "# Cómo iterar un diccionario elemento por elemento\n",
    "for (\n",
    "    clave,\n",
    "    valor,\n",
    ") in (\n",
    "    diccionario.items()\n",
    "):  # diccionario.items() va devolviendo tuplas con el formato (clave,valor)\n",
    "    print(\n",
    "        f\"la clave es {clave} y el valor es {valor}\"\n",
    "    )  # con esta sintaxis se desempaquetan en clave y valor (similar a enumerate)"
   ]
  },
  {
   "cell_type": "code",
   "execution_count": 68,
   "id": "undefined-foster",
   "metadata": {
    "execution": {
     "iopub.execute_input": "2021-02-03T16:41:33.846318Z",
     "iopub.status.busy": "2021-02-03T16:41:33.844760Z",
     "iopub.status.idle": "2021-02-03T16:41:33.848936Z",
     "shell.execute_reply": "2021-02-03T16:41:33.848271Z"
    },
    "slideshow": {
     "slide_type": "slide"
    }
   },
   "outputs": [
    {
     "name": "stdout",
     "output_type": "stream",
     "text": [
      "clave1\n",
      "2\n",
      "clave3\n"
     ]
    }
   ],
   "source": [
    "for clave in diccionario.keys():\n",
    "    print(clave)"
   ]
  },
  {
   "cell_type": "code",
   "execution_count": 69,
   "id": "resistant-needle",
   "metadata": {
    "execution": {
     "iopub.execute_input": "2021-02-03T16:41:33.855103Z",
     "iopub.status.busy": "2021-02-03T16:41:33.853557Z",
     "iopub.status.idle": "2021-02-03T16:41:33.857361Z",
     "shell.execute_reply": "2021-02-03T16:41:33.856748Z"
    },
    "slideshow": {
     "slide_type": "slide"
    }
   },
   "outputs": [
    {
     "name": "stdout",
     "output_type": "stream",
     "text": [
      "valor1\n",
      "valor2\n",
      "3\n"
     ]
    }
   ],
   "source": [
    "for valor in diccionario.values():\n",
    "    print(valor)"
   ]
  },
  {
   "cell_type": "markdown",
   "id": "irish-field",
   "metadata": {},
   "source": [
    "#### Sets\n",
    "\n",
    "Son similares a los diccionarios (en eficiencia) pero se almacenan solo claves, y tienen algunas operaciones particulares.\n",
    "\n",
    "En particular, no pueden tener elementos iguales (pensar que son conjuntos)"
   ]
  },
  {
   "cell_type": "code",
   "execution_count": 70,
   "id": "genetic-memory",
   "metadata": {
    "execution": {
     "iopub.execute_input": "2021-02-03T16:41:33.861754Z",
     "iopub.status.busy": "2021-02-03T16:41:33.861007Z",
     "iopub.status.idle": "2021-02-03T16:41:33.865750Z",
     "shell.execute_reply": "2021-02-03T16:41:33.866300Z"
    }
   },
   "outputs": [],
   "source": [
    "set??"
   ]
  },
  {
   "cell_type": "code",
   "execution_count": 71,
   "id": "progressive-induction",
   "metadata": {
    "execution": {
     "iopub.execute_input": "2021-02-03T16:41:33.872906Z",
     "iopub.status.busy": "2021-02-03T16:41:33.871310Z",
     "iopub.status.idle": "2021-02-03T16:41:33.875340Z",
     "shell.execute_reply": "2021-02-03T16:41:33.874788Z"
    }
   },
   "outputs": [
    {
     "data": {
      "text/plain": [
       "{1, 2, 3}"
      ]
     },
     "execution_count": 1,
     "metadata": {},
     "output_type": "execute_result"
    }
   ],
   "source": [
    "# Se definen como los diccionarios pero sin hacerlos 'clave:valor', solamente una seguidilla de elementos\n",
    "{1, 2, 2, 3}"
   ]
  },
  {
   "cell_type": "code",
   "execution_count": 72,
   "id": "worthy-tooth",
   "metadata": {
    "execution": {
     "iopub.execute_input": "2021-02-03T16:41:33.880093Z",
     "iopub.status.busy": "2021-02-03T16:41:33.879388Z",
     "iopub.status.idle": "2021-02-03T16:41:33.882053Z",
     "shell.execute_reply": "2021-02-03T16:41:33.882610Z"
    }
   },
   "outputs": [
    {
     "data": {
      "text/plain": [
       "{1, 2, 3}"
      ]
     },
     "execution_count": 1,
     "metadata": {},
     "output_type": "execute_result"
    }
   ],
   "source": [
    "set([1, 2, 2, 3])"
   ]
  },
  {
   "cell_type": "markdown",
   "id": "removable-polish",
   "metadata": {},
   "source": [
    "## Condicionales (if...elif...else)\n",
    "\n",
    "```python\n",
    "if <condición_1>:\n",
    "    <hacer algo_1 si se da la condición_1>\n",
    "elif <condición_2>:\n",
    "    <hacer algo_2 si se da la condición_2>\n",
    "...\n",
    "elif <condición_n>:\n",
    "    <hacer algo_n si se da la condición_n>\n",
    "else:\n",
    "    <hacer otra cosa si no dan las anteriores>\n",
    "```\n",
    "\n",
    "Algo importante para notar es que los bloques se definen por **niveles de identacion**."
   ]
  },
  {
   "cell_type": "code",
   "execution_count": 73,
   "id": "early-elite",
   "metadata": {
    "execution": {
     "iopub.execute_input": "2021-02-03T16:41:33.888168Z",
     "iopub.status.busy": "2021-02-03T16:41:33.887460Z",
     "iopub.status.idle": "2021-02-03T16:41:33.889753Z",
     "shell.execute_reply": "2021-02-03T16:41:33.890294Z"
    }
   },
   "outputs": [
    {
     "name": "stdout",
     "output_type": "stream",
     "text": [
      "uno\n"
     ]
    }
   ],
   "source": [
    "v = 1\n",
    "if v == 1:\n",
    "    print(\"uno\")\n",
    "elif v == 2:\n",
    "    print(\"dos\")\n",
    "else:\n",
    "    print(\"ni idea\")\n",
    "    print(v)"
   ]
  },
  {
   "cell_type": "markdown",
   "id": "christian-score",
   "metadata": {},
   "source": [
    "## Iteraciones\n",
    "\n",
    "```python\n",
    "while cond:\n",
    "    <codigo>\n",
    "```\n",
    "\n",
    "```python\n",
    "for elemento in iterable:\n",
    "    <codigo>\n",
    "```\n",
    "\n",
    "Para iterar sobre un rango de valores, usamos `range`"
   ]
  },
  {
   "cell_type": "code",
   "execution_count": 74,
   "id": "atlantic-miniature",
   "metadata": {
    "execution": {
     "iopub.execute_input": "2021-02-03T16:41:33.894876Z",
     "iopub.status.busy": "2021-02-03T16:41:33.894136Z",
     "iopub.status.idle": "2021-02-03T16:41:33.896364Z",
     "shell.execute_reply": "2021-02-03T16:41:33.897024Z"
    }
   },
   "outputs": [
    {
     "name": "stdout",
     "output_type": "stream",
     "text": [
      "1\n",
      "4\n",
      "7\n",
      "10\n"
     ]
    }
   ],
   "source": [
    "for i in range(1, 11, 3):\n",
    "    print(i)"
   ]
  },
  {
   "cell_type": "markdown",
   "id": "registered-japan",
   "metadata": {},
   "source": [
    "## Operadores logicos\n",
    "\n",
    "`not`, `or`, `and`"
   ]
  },
  {
   "cell_type": "code",
   "execution_count": 75,
   "id": "advance-cleaning",
   "metadata": {
    "execution": {
     "iopub.execute_input": "2021-02-03T16:41:33.901408Z",
     "iopub.status.busy": "2021-02-03T16:41:33.900606Z",
     "iopub.status.idle": "2021-02-03T16:41:33.902992Z",
     "shell.execute_reply": "2021-02-03T16:41:33.903581Z"
    }
   },
   "outputs": [
    {
     "name": "stdout",
     "output_type": "stream",
     "text": [
      "yay\n"
     ]
    }
   ],
   "source": [
    "if True or False:\n",
    "    print(\"yay\")"
   ]
  },
  {
   "cell_type": "code",
   "execution_count": 76,
   "id": "distinct-seattle",
   "metadata": {
    "execution": {
     "iopub.execute_input": "2021-02-03T16:41:33.906298Z",
     "iopub.status.busy": "2021-02-03T16:41:33.905675Z",
     "iopub.status.idle": "2021-02-03T16:41:33.911039Z",
     "shell.execute_reply": "2021-02-03T16:41:33.910371Z"
    }
   },
   "outputs": [
    {
     "data": {
      "text/plain": [
       "False"
      ]
     },
     "execution_count": 1,
     "metadata": {},
     "output_type": "execute_result"
    }
   ],
   "source": [
    "1 == 2"
   ]
  },
  {
   "cell_type": "code",
   "execution_count": 77,
   "id": "graduate-analysis",
   "metadata": {
    "execution": {
     "iopub.execute_input": "2021-02-03T16:41:33.915475Z",
     "iopub.status.busy": "2021-02-03T16:41:33.914812Z",
     "iopub.status.idle": "2021-02-03T16:41:33.918682Z",
     "shell.execute_reply": "2021-02-03T16:41:33.918068Z"
    }
   },
   "outputs": [
    {
     "data": {
      "text/plain": [
       "True"
      ]
     },
     "execution_count": 1,
     "metadata": {},
     "output_type": "execute_result"
    }
   ],
   "source": [
    "1 != 2"
   ]
  },
  {
   "cell_type": "markdown",
   "id": "meaningful-stevens",
   "metadata": {
    "slideshow": {
     "slide_type": "slide"
    }
   },
   "source": [
    "## Funciones en Python"
   ]
  },
  {
   "cell_type": "code",
   "execution_count": 78,
   "id": "compressed-search",
   "metadata": {
    "execution": {
     "iopub.execute_input": "2021-02-03T16:41:33.927285Z",
     "iopub.status.busy": "2021-02-03T16:41:33.926634Z",
     "iopub.status.idle": "2021-02-03T16:41:33.929063Z",
     "shell.execute_reply": "2021-02-03T16:41:33.929664Z"
    },
    "slideshow": {
     "slide_type": "slide"
    }
   },
   "outputs": [
    {
     "name": "stdout",
     "output_type": "stream",
     "text": [
      "True\n",
      "False\n"
     ]
    }
   ],
   "source": [
    "def busqueda_binaria(lista, elemento):\n",
    "    if not lista:\n",
    "        return False\n",
    "    elif len(lista) == 1:\n",
    "        return lista[0] == elemento\n",
    "    mitad = len(lista) // 2  # // es la operación división entera\n",
    "    if lista[mitad] == elemento:\n",
    "        return True\n",
    "    if lista[mitad] > elemento:\n",
    "        return busqueda_binaria(lista[:mitad], elemento)\n",
    "    if lista[mitad] < elemento:\n",
    "        return busqueda_binaria(lista[mitad:], elemento)\n",
    "\n",
    "\n",
    "print(busqueda_binaria([1, 2, 3, 4, 5], 4))\n",
    "print(busqueda_binaria([1, 4, 6, 7, 9, 10], 2))"
   ]
  },
  {
   "cell_type": "code",
   "execution_count": 79,
   "id": "considered-heading",
   "metadata": {
    "execution": {
     "iopub.execute_input": "2021-02-03T16:41:33.935314Z",
     "iopub.status.busy": "2021-02-03T16:41:33.934639Z",
     "iopub.status.idle": "2021-02-03T16:41:33.936898Z",
     "shell.execute_reply": "2021-02-03T16:41:33.937425Z"
    }
   },
   "outputs": [
    {
     "name": "stdout",
     "output_type": "stream",
     "text": [
      "(3, 3, 3)\n"
     ]
    }
   ],
   "source": [
    "def a(b):\n",
    "    if a == 1:\n",
    "        print(a)\n",
    "    return (b, b, b)\n",
    "\n",
    "\n",
    "print(a(3))"
   ]
  },
  {
   "cell_type": "code",
   "execution_count": 80,
   "id": "raised-degree",
   "metadata": {
    "execution": {
     "iopub.execute_input": "2021-02-03T16:41:33.942455Z",
     "iopub.status.busy": "2021-02-03T16:41:33.941821Z",
     "iopub.status.idle": "2021-02-03T16:41:33.952855Z",
     "shell.execute_reply": "2021-02-03T16:41:33.952157Z"
    },
    "lines_to_next_cell": 2,
    "slideshow": {
     "slide_type": "slide"
    },
    "tags": [
     "raises-exception"
    ]
   },
   "outputs": [
    {
     "name": "stdout",
     "output_type": "stream",
     "text": [
      "3\n",
      "3.0\n",
      "3.0\n",
      "hola como te va\n",
      "[1, 2, 3, 4, 5]\n"
     ]
    },
    {
     "ename": "TypeError",
     "evalue": "can only concatenate str (not \"int\") to str",
     "output_type": "error",
     "traceback": [
      "\u001b[0;31m---------------------------------------------------------------------------\u001b[0m",
      "\u001b[0;31mTypeError\u001b[0m                                 Traceback (most recent call last)",
      "\u001b[0;32m<ipython-input-1-c2a6a99a90c7>\u001b[0m in \u001b[0;36m<module>\u001b[0;34m\u001b[0m\n\u001b[1;32m      8\u001b[0m \u001b[0mprint\u001b[0m\u001b[0;34m(\u001b[0m\u001b[0msuma\u001b[0m\u001b[0;34m(\u001b[0m\u001b[0;34m\"hola \"\u001b[0m\u001b[0;34m,\u001b[0m \u001b[0;34m\"como te va\"\u001b[0m\u001b[0;34m)\u001b[0m\u001b[0;34m)\u001b[0m\u001b[0;34m\u001b[0m\u001b[0;34m\u001b[0m\u001b[0m\n\u001b[1;32m      9\u001b[0m \u001b[0mprint\u001b[0m\u001b[0;34m(\u001b[0m\u001b[0msuma\u001b[0m\u001b[0;34m(\u001b[0m\u001b[0;34m[\u001b[0m\u001b[0;36m1\u001b[0m\u001b[0;34m,\u001b[0m \u001b[0;36m2\u001b[0m\u001b[0;34m,\u001b[0m \u001b[0;36m3\u001b[0m\u001b[0;34m]\u001b[0m\u001b[0;34m,\u001b[0m \u001b[0;34m[\u001b[0m\u001b[0;36m4\u001b[0m\u001b[0;34m,\u001b[0m \u001b[0;36m5\u001b[0m\u001b[0;34m]\u001b[0m\u001b[0;34m)\u001b[0m\u001b[0;34m)\u001b[0m\u001b[0;34m\u001b[0m\u001b[0;34m\u001b[0m\u001b[0m\n\u001b[0;32m---> 10\u001b[0;31m \u001b[0mprint\u001b[0m\u001b[0;34m(\u001b[0m\u001b[0msuma\u001b[0m\u001b[0;34m(\u001b[0m\u001b[0;34m\"1\"\u001b[0m\u001b[0;34m,\u001b[0m \u001b[0;36m3\u001b[0m\u001b[0;34m)\u001b[0m\u001b[0;34m)\u001b[0m  \u001b[0;31m# Falla\u001b[0m\u001b[0;34m\u001b[0m\u001b[0;34m\u001b[0m\u001b[0m\n\u001b[0m",
      "\u001b[0;32m<ipython-input-1-c2a6a99a90c7>\u001b[0m in \u001b[0;36msuma\u001b[0;34m(a, b)\u001b[0m\n\u001b[1;32m      1\u001b[0m \u001b[0;32mdef\u001b[0m \u001b[0msuma\u001b[0m\u001b[0;34m(\u001b[0m\u001b[0ma\u001b[0m\u001b[0;34m,\u001b[0m \u001b[0mb\u001b[0m\u001b[0;34m)\u001b[0m\u001b[0;34m:\u001b[0m\u001b[0;34m\u001b[0m\u001b[0;34m\u001b[0m\u001b[0m\n\u001b[0;32m----> 2\u001b[0;31m     \u001b[0;32mreturn\u001b[0m \u001b[0ma\u001b[0m \u001b[0;34m+\u001b[0m \u001b[0mb\u001b[0m\u001b[0;34m\u001b[0m\u001b[0;34m\u001b[0m\u001b[0m\n\u001b[0m\u001b[1;32m      3\u001b[0m \u001b[0;34m\u001b[0m\u001b[0m\n\u001b[1;32m      4\u001b[0m \u001b[0;34m\u001b[0m\u001b[0m\n\u001b[1;32m      5\u001b[0m \u001b[0mprint\u001b[0m\u001b[0;34m(\u001b[0m\u001b[0msuma\u001b[0m\u001b[0;34m(\u001b[0m\u001b[0;36m1\u001b[0m\u001b[0;34m,\u001b[0m \u001b[0;36m2\u001b[0m\u001b[0;34m)\u001b[0m\u001b[0;34m)\u001b[0m\u001b[0;34m\u001b[0m\u001b[0;34m\u001b[0m\u001b[0m\n",
      "\u001b[0;31mTypeError\u001b[0m: can only concatenate str (not \"int\") to str"
     ]
    }
   ],
   "source": [
    "def suma(a, b):\n",
    "    return a + b\n",
    "\n",
    "\n",
    "print(suma(1, 2))\n",
    "print(suma(1.0, 2.0))\n",
    "print(suma(1.0, 2))\n",
    "print(suma(\"hola \", \"como te va\"))\n",
    "print(suma([1, 2, 3], [4, 5]))\n",
    "print(suma(\"1\", 3))  # Falla"
   ]
  },
  {
   "cell_type": "code",
   "execution_count": 81,
   "id": "afraid-netscape",
   "metadata": {
    "execution": {
     "iopub.execute_input": "2021-02-03T16:41:34.057630Z",
     "iopub.status.busy": "2021-02-03T16:41:34.056925Z",
     "iopub.status.idle": "2021-02-03T16:41:34.059155Z",
     "shell.execute_reply": "2021-02-03T16:41:34.059780Z"
    }
   },
   "outputs": [
    {
     "name": "stdout",
     "output_type": "stream",
     "text": [
      "2.0\n"
     ]
    }
   ],
   "source": [
    "# El valor por default de divisor es 1\n",
    "\n",
    "\n",
    "def division(dividendo, divisor=2):\n",
    "    return dividendo / divisor\n",
    "\n",
    "\n",
    "print(division(4))  # Usa el valor por default"
   ]
  },
  {
   "cell_type": "code",
   "execution_count": 82,
   "id": "controlling-dividend",
   "metadata": {
    "execution": {
     "iopub.execute_input": "2021-02-03T16:41:34.067459Z",
     "iopub.status.busy": "2021-02-03T16:41:34.064110Z",
     "iopub.status.idle": "2021-02-03T16:41:34.071376Z",
     "shell.execute_reply": "2021-02-03T16:41:34.070653Z"
    },
    "tags": [
     "raises-exception"
    ]
   },
   "outputs": [
    {
     "name": "stdout",
     "output_type": "stream",
     "text": [
      "0.5\n",
      "0.5\n"
     ]
    },
    {
     "ename": "TypeError",
     "evalue": "division() missing 1 required positional argument: 'dividendo'",
     "output_type": "error",
     "traceback": [
      "\u001b[0;31m---------------------------------------------------------------------------\u001b[0m",
      "\u001b[0;31mTypeError\u001b[0m                                 Traceback (most recent call last)",
      "\u001b[0;32m<ipython-input-1-34eff3833138>\u001b[0m in \u001b[0;36m<module>\u001b[0;34m\u001b[0m\n\u001b[1;32m      1\u001b[0m \u001b[0mprint\u001b[0m\u001b[0;34m(\u001b[0m\u001b[0mdivision\u001b[0m\u001b[0;34m(\u001b[0m\u001b[0;36m1\u001b[0m\u001b[0;34m,\u001b[0m \u001b[0;36m2\u001b[0m\u001b[0;34m)\u001b[0m\u001b[0;34m)\u001b[0m  \u001b[0;31m# Parámetros por orden\u001b[0m\u001b[0;34m\u001b[0m\u001b[0;34m\u001b[0m\u001b[0m\n\u001b[1;32m      2\u001b[0m \u001b[0mprint\u001b[0m\u001b[0;34m(\u001b[0m\u001b[0mdivision\u001b[0m\u001b[0;34m(\u001b[0m\u001b[0mdividendo\u001b[0m\u001b[0;34m=\u001b[0m\u001b[0;36m1\u001b[0m\u001b[0;34m,\u001b[0m \u001b[0mdivisor\u001b[0m\u001b[0;34m=\u001b[0m\u001b[0;36m2\u001b[0m\u001b[0;34m)\u001b[0m\u001b[0;34m)\u001b[0m  \u001b[0;31m# Parámetros por nombre\u001b[0m\u001b[0;34m\u001b[0m\u001b[0;34m\u001b[0m\u001b[0m\n\u001b[0;32m----> 3\u001b[0;31m \u001b[0mprint\u001b[0m\u001b[0;34m(\u001b[0m\u001b[0mdivision\u001b[0m\u001b[0;34m(\u001b[0m\u001b[0mdivisor\u001b[0m\u001b[0;34m=\u001b[0m\u001b[0;36m2\u001b[0m\u001b[0;34m)\u001b[0m\u001b[0;34m)\u001b[0m\u001b[0;34m\u001b[0m\u001b[0;34m\u001b[0m\u001b[0m\n\u001b[0m",
      "\u001b[0;31mTypeError\u001b[0m: division() missing 1 required positional argument: 'dividendo'"
     ]
    }
   ],
   "source": [
    "print(division(1, 2))  # Parámetros por orden\n",
    "print(division(dividendo=1, divisor=2))  # Parámetros por nombre\n",
    "print(division(divisor=2))"
   ]
  },
  {
   "cell_type": "code",
   "execution_count": 83,
   "id": "cooked-classification",
   "metadata": {
    "execution": {
     "iopub.execute_input": "2021-02-03T16:41:34.176129Z",
     "iopub.status.busy": "2021-02-03T16:41:34.175349Z",
     "iopub.status.idle": "2021-02-03T16:41:34.177696Z",
     "shell.execute_reply": "2021-02-03T16:41:34.178244Z"
    }
   },
   "outputs": [
    {
     "name": "stdout",
     "output_type": "stream",
     "text": [
      "0.5\n"
     ]
    }
   ],
   "source": [
    "print(division(divisor=2, dividendo=1))"
   ]
  },
  {
   "cell_type": "code",
   "execution_count": 84,
   "id": "olive-validity",
   "metadata": {
    "execution": {
     "iopub.execute_input": "2021-02-03T16:41:34.183959Z",
     "iopub.status.busy": "2021-02-03T16:41:34.183303Z",
     "iopub.status.idle": "2021-02-03T16:41:34.186553Z",
     "shell.execute_reply": "2021-02-03T16:41:34.185975Z"
    }
   },
   "outputs": [
    {
     "name": "stdout",
     "output_type": "stream",
     "text": [
      "['a', 'b', 'c']\n",
      "[1, 2, 3]\n",
      "['hola', ' don', ' pepito']\n",
      "hola -  don -  pepito\n"
     ]
    }
   ],
   "source": [
    "# Funciones básicas ya en el lenguaje\n",
    "# Hechas para funcionar para distintos tipos\n",
    "\n",
    "string_ordenado = sorted('bca')\n",
    "print(string_ordenado)\n",
    "\n",
    "lista_ordenada = sorted([1, 3, 2])\n",
    "print(lista_ordenada)\n",
    "\n",
    "separadas = \"hola, don, pepito\".split(\",\")\n",
    "print(separadas)\n",
    "unidas = \" - \".join(separadas)\n",
    "print(unidas)"
   ]
  },
  {
   "cell_type": "markdown",
   "id": "controversial-disposal",
   "metadata": {},
   "source": [
    "## Módulos\n",
    "\n",
    "Para incluir alguna biblioteca de funciones se usa `import`. Pueden ser cosas ya predefinidas en Python (`math`, `random`, etc), nombres de archivos en nuestro directorio (por ejemplo, para `mimodulo.py` ponemos `import mimodulo`) o bibliotecas instaladas por el usuario"
   ]
  },
  {
   "cell_type": "code",
   "execution_count": 85,
   "id": "lyric-baltimore",
   "metadata": {
    "execution": {
     "iopub.execute_input": "2021-02-03T16:41:34.191521Z",
     "iopub.status.busy": "2021-02-03T16:41:34.190451Z",
     "iopub.status.idle": "2021-02-03T16:41:34.195481Z",
     "shell.execute_reply": "2021-02-03T16:41:34.194925Z"
    }
   },
   "outputs": [
    {
     "name": "stdout",
     "output_type": "stream",
     "text": [
      "3.141592653589793\n"
     ]
    }
   ],
   "source": [
    "import math\n",
    "\n",
    "print(math.pi)"
   ]
  },
  {
   "cell_type": "code",
   "execution_count": 86,
   "id": "several-palace",
   "metadata": {
    "execution": {
     "iopub.execute_input": "2021-02-03T16:41:34.202430Z",
     "iopub.status.busy": "2021-02-03T16:41:34.200261Z",
     "iopub.status.idle": "2021-02-03T16:41:34.206565Z",
     "shell.execute_reply": "2021-02-03T16:41:34.204098Z"
    }
   },
   "outputs": [
    {
     "name": "stdout",
     "output_type": "stream",
     "text": [
      "3.141592653589793 2.718281828459045\n"
     ]
    }
   ],
   "source": [
    "from math import pi, e\n",
    "\n",
    "print(pi, e)"
   ]
  },
  {
   "cell_type": "code",
   "execution_count": 87,
   "id": "occupied-hurricane",
   "metadata": {
    "execution": {
     "iopub.execute_input": "2021-02-03T16:41:34.211147Z",
     "iopub.status.busy": "2021-02-03T16:41:34.210505Z",
     "iopub.status.idle": "2021-02-03T16:41:34.214018Z",
     "shell.execute_reply": "2021-02-03T16:41:34.213451Z"
    }
   },
   "outputs": [
    {
     "data": {
      "text/plain": [
       "2"
      ]
     },
     "execution_count": 1,
     "metadata": {},
     "output_type": "execute_result"
    }
   ],
   "source": [
    "math.gcd(56, 78)"
   ]
  },
  {
   "cell_type": "markdown",
   "id": "specific-survey",
   "metadata": {},
   "source": [
    "## Manejo de excepciones\n",
    "\n",
    "Se pueden encapsular errores esperados en un bloque 'try/except' para evitar cortar el flujo del programa"
   ]
  },
  {
   "cell_type": "code",
   "execution_count": 88,
   "id": "confidential-covering",
   "metadata": {
    "execution": {
     "iopub.execute_input": "2021-02-03T16:41:34.224689Z",
     "iopub.status.busy": "2021-02-03T16:41:34.224023Z",
     "iopub.status.idle": "2021-02-03T16:41:34.228543Z",
     "shell.execute_reply": "2021-02-03T16:41:34.227534Z"
    },
    "tags": [
     "raises-exception"
    ]
   },
   "outputs": [
    {
     "ename": "ZeroDivisionError",
     "evalue": "division by zero",
     "output_type": "error",
     "traceback": [
      "\u001b[0;31m---------------------------------------------------------------------------\u001b[0m",
      "\u001b[0;31mZeroDivisionError\u001b[0m                         Traceback (most recent call last)",
      "\u001b[0;32m<ipython-input-1-f031f77b1a55>\u001b[0m in \u001b[0;36m<module>\u001b[0;34m\u001b[0m\n\u001b[0;32m----> 1\u001b[0;31m \u001b[0mdivision\u001b[0m\u001b[0;34m(\u001b[0m\u001b[0;36m1\u001b[0m\u001b[0;34m,\u001b[0m \u001b[0;36m0\u001b[0m\u001b[0;34m)\u001b[0m  \u001b[0;31m# No se puede dividir por cero\u001b[0m\u001b[0;34m\u001b[0m\u001b[0;34m\u001b[0m\u001b[0m\n\u001b[0m",
      "\u001b[0;32m<ipython-input-1-0d991d7de762>\u001b[0m in \u001b[0;36mdivision\u001b[0;34m(dividendo, divisor)\u001b[0m\n\u001b[1;32m      3\u001b[0m \u001b[0;34m\u001b[0m\u001b[0m\n\u001b[1;32m      4\u001b[0m \u001b[0;32mdef\u001b[0m \u001b[0mdivision\u001b[0m\u001b[0;34m(\u001b[0m\u001b[0mdividendo\u001b[0m\u001b[0;34m,\u001b[0m \u001b[0mdivisor\u001b[0m\u001b[0;34m=\u001b[0m\u001b[0;36m2\u001b[0m\u001b[0;34m)\u001b[0m\u001b[0;34m:\u001b[0m\u001b[0;34m\u001b[0m\u001b[0;34m\u001b[0m\u001b[0m\n\u001b[0;32m----> 5\u001b[0;31m     \u001b[0;32mreturn\u001b[0m \u001b[0mdividendo\u001b[0m \u001b[0;34m/\u001b[0m \u001b[0mdivisor\u001b[0m\u001b[0;34m\u001b[0m\u001b[0;34m\u001b[0m\u001b[0m\n\u001b[0m\u001b[1;32m      6\u001b[0m \u001b[0;34m\u001b[0m\u001b[0m\n\u001b[1;32m      7\u001b[0m \u001b[0;34m\u001b[0m\u001b[0m\n",
      "\u001b[0;31mZeroDivisionError\u001b[0m: division by zero"
     ]
    }
   ],
   "source": [
    "division(1, 0)  # No se puede dividir por cero"
   ]
  },
  {
   "cell_type": "code",
   "execution_count": 89,
   "id": "exact-father",
   "metadata": {
    "execution": {
     "iopub.execute_input": "2021-02-03T16:41:34.332128Z",
     "iopub.status.busy": "2021-02-03T16:41:34.331071Z",
     "iopub.status.idle": "2021-02-03T16:41:34.334333Z",
     "shell.execute_reply": "2021-02-03T16:41:34.334959Z"
    }
   },
   "outputs": [
    {
     "name": "stdout",
     "output_type": "stream",
     "text": [
      "No se puede dividir por cero, ojo! division by zero\n",
      "1\n"
     ]
    }
   ],
   "source": [
    "try:\n",
    "    division(1, 0)\n",
    "except (ZeroDivisionError, TypeError) as e:\n",
    "    print('No se puede dividir por cero, ojo!', e)\n",
    "finally:\n",
    "    print(1)"
   ]
  },
  {
   "cell_type": "markdown",
   "id": "operational-bernard",
   "metadata": {
    "slideshow": {
     "slide_type": "slide"
    }
   },
   "source": [
    "## Lectura y escritura de archivos"
   ]
  },
  {
   "cell_type": "code",
   "execution_count": 90,
   "id": "received-agreement",
   "metadata": {
    "execution": {
     "iopub.execute_input": "2021-02-03T16:41:34.340640Z",
     "iopub.status.busy": "2021-02-03T16:41:34.339865Z",
     "iopub.status.idle": "2021-02-03T16:41:34.343136Z",
     "shell.execute_reply": "2021-02-03T16:41:34.343720Z"
    },
    "slideshow": {
     "slide_type": "slide"
    }
   },
   "outputs": [
    {
     "name": "stdout",
     "output_type": "stream",
     "text": [
      "<_io.TextIOWrapper name='archivo.csv' mode='w' encoding='UTF-8'>\n"
     ]
    }
   ],
   "source": [
    "import random\n",
    "\n",
    "with open(\n",
    "    'archivo.csv', 'w'\n",
    ") as archivo:  # Al usar esta sintaxis no es necesario hacer close\n",
    "    archivo.write(\"Alumno, nota\\n\")\n",
    "    # Tambien de forma similar al fprintf se puede hacer:\n",
    "    # print(\"Alumno, nota\\n\", file=archivo)\n",
    "    for i in range(0, 10):\n",
    "        archivo.write(f\"{i},{random.randrange(0,10)}\\n\")\n",
    "\n",
    "print(archivo)  # Comentario aclaratorio:\n",
    "# Las variables definidas en un determinado scope siguen existiendo por fuera del mismo.\n",
    "# Se debe tener cuidado con esto, ya que nada garantiza que por fuera el valor sea el esperado."
   ]
  },
  {
   "cell_type": "code",
   "execution_count": 91,
   "id": "prescription-beast",
   "metadata": {
    "execution": {
     "iopub.execute_input": "2021-02-03T16:41:34.348529Z",
     "iopub.status.busy": "2021-02-03T16:41:34.347888Z",
     "iopub.status.idle": "2021-02-03T16:41:34.352453Z",
     "shell.execute_reply": "2021-02-03T16:41:34.351849Z"
    },
    "slideshow": {
     "slide_type": "slide"
    }
   },
   "outputs": [
    {
     "name": "stdout",
     "output_type": "stream",
     "text": [
      "Alumno, nota\n",
      "0,9\n",
      "1,3\n",
      "2,7\n",
      "3,9\n",
      "4,1\n",
      "5,4\n",
      "6,8\n",
      "7,7\n",
      "8,3\n",
      "9,0\n"
     ]
    }
   ],
   "source": [
    "with open('archivo.csv', 'r') as f:\n",
    "    for linea in f:\n",
    "        print(linea.strip())"
   ]
  },
  {
   "cell_type": "code",
   "execution_count": 92,
   "id": "invalid-reunion",
   "metadata": {
    "execution": {
     "iopub.execute_input": "2021-02-03T16:41:34.356974Z",
     "iopub.status.busy": "2021-02-03T16:41:34.356277Z",
     "iopub.status.idle": "2021-02-03T16:41:34.359733Z",
     "shell.execute_reply": "2021-02-03T16:41:34.360349Z"
    }
   },
   "outputs": [
    {
     "name": "stdout",
     "output_type": "stream",
     "text": [
      "Alumno, nota\n",
      "0,9\n",
      "1,3\n",
      "2,7\n",
      "3,9\n",
      "4,1\n",
      "5,4\n",
      "6,8\n",
      "7,7\n",
      "8,3\n",
      "9,0\n",
      "\n"
     ]
    }
   ],
   "source": [
    "with open('archivo.csv', 'r') as f:\n",
    "    print(f.read())"
   ]
  },
  {
   "cell_type": "code",
   "execution_count": 93,
   "id": "accessible-league",
   "metadata": {
    "execution": {
     "iopub.execute_input": "2021-02-03T16:41:34.364653Z",
     "iopub.status.busy": "2021-02-03T16:41:34.363937Z",
     "iopub.status.idle": "2021-02-03T16:41:34.367332Z",
     "shell.execute_reply": "2021-02-03T16:41:34.366719Z"
    }
   },
   "outputs": [],
   "source": [
    "f = open('archivo.csv', 'w')\n",
    "f.write(\"algo, algo\")\n",
    "f.close()"
   ]
  },
  {
   "cell_type": "markdown",
   "id": "adjacent-saying",
   "metadata": {
    "slideshow": {
     "slide_type": "slide"
    }
   },
   "source": [
    "## Objetos\n",
    "\n",
    "Los objetos tienen metodos y atributos:\n",
    "- Atributos: equivalentes a variables.\n",
    "- Métodos: equivalentes a las primitivas."
   ]
  },
  {
   "cell_type": "markdown",
   "id": "retired-facial",
   "metadata": {
    "slideshow": {
     "slide_type": "slide"
    }
   },
   "source": [
    "### Cómo creo una clase"
   ]
  },
  {
   "cell_type": "code",
   "execution_count": 94,
   "id": "american-synthetic",
   "metadata": {
    "execution": {
     "iopub.execute_input": "2021-02-03T16:41:34.373922Z",
     "iopub.status.busy": "2021-02-03T16:41:34.373260Z",
     "iopub.status.idle": "2021-02-03T16:41:34.375398Z",
     "shell.execute_reply": "2021-02-03T16:41:34.375922Z"
    },
    "slideshow": {
     "slide_type": "slide"
    }
   },
   "outputs": [],
   "source": [
    "class Nodo(object):\n",
    "    def __init__(self, dato, siguiente=None):\n",
    "        self._dato = dato\n",
    "        self._siguiente = siguiente\n",
    "\n",
    "    @property\n",
    "    def dato(self):\n",
    "        return self._dato\n",
    "\n",
    "    @property\n",
    "    def proximo(self):\n",
    "        return self._siguiente\n",
    "\n",
    "    @proximo.setter\n",
    "    def proximo(self, siguiente):\n",
    "        self._siguiente = siguiente\n",
    "\n",
    "    def __repr__(self):\n",
    "        return str(self.dato)\n",
    "\n",
    "    def __str__(self):\n",
    "        return str(self.dato)"
   ]
  },
  {
   "cell_type": "code",
   "execution_count": 95,
   "id": "basic-squad",
   "metadata": {
    "execution": {
     "iopub.execute_input": "2021-02-03T16:41:34.382530Z",
     "iopub.status.busy": "2021-02-03T16:41:34.380992Z",
     "iopub.status.idle": "2021-02-03T16:41:34.384878Z",
     "shell.execute_reply": "2021-02-03T16:41:34.384228Z"
    },
    "slideshow": {
     "slide_type": "slide"
    }
   },
   "outputs": [
    {
     "name": "stdout",
     "output_type": "stream",
     "text": [
      "hola\n"
     ]
    }
   ],
   "source": [
    "nodo = Nodo(\"hola\")\n",
    "print(nodo)"
   ]
  },
  {
   "cell_type": "code",
   "execution_count": 96,
   "id": "severe-forge",
   "metadata": {
    "execution": {
     "iopub.execute_input": "2021-02-03T16:41:34.389697Z",
     "iopub.status.busy": "2021-02-03T16:41:34.389060Z",
     "iopub.status.idle": "2021-02-03T16:41:34.391538Z",
     "shell.execute_reply": "2021-02-03T16:41:34.392090Z"
    },
    "slideshow": {
     "slide_type": "slide"
    }
   },
   "outputs": [
    {
     "name": "stdout",
     "output_type": "stream",
     "text": [
      "[hola, lala]\n"
     ]
    }
   ],
   "source": [
    "nodo2 = Nodo(\"lala\")\n",
    "print([nodo, nodo2])"
   ]
  },
  {
   "cell_type": "code",
   "execution_count": 97,
   "id": "joint-titanium",
   "metadata": {
    "execution": {
     "iopub.execute_input": "2021-02-03T16:41:34.396524Z",
     "iopub.status.busy": "2021-02-03T16:41:34.395876Z",
     "iopub.status.idle": "2021-02-03T16:41:34.398158Z",
     "shell.execute_reply": "2021-02-03T16:41:34.398696Z"
    },
    "slideshow": {
     "slide_type": "slide"
    }
   },
   "outputs": [
    {
     "name": "stdout",
     "output_type": "stream",
     "text": [
      "hola\n"
     ]
    }
   ],
   "source": [
    "nodo3 = nodo.dato\n",
    "print(nodo3)"
   ]
  },
  {
   "cell_type": "markdown",
   "id": "understanding-relationship",
   "metadata": {
    "slideshow": {
     "slide_type": "slide"
    }
   },
   "source": [
    "### Ejemplo: Lista Enlazada"
   ]
  },
  {
   "cell_type": "code",
   "execution_count": 98,
   "id": "protecting-hygiene",
   "metadata": {
    "execution": {
     "iopub.execute_input": "2021-02-03T16:41:34.408030Z",
     "iopub.status.busy": "2021-02-03T16:41:34.406544Z",
     "iopub.status.idle": "2021-02-03T16:41:34.410120Z",
     "shell.execute_reply": "2021-02-03T16:41:34.410681Z"
    },
    "slideshow": {
     "slide_type": "slide"
    }
   },
   "outputs": [],
   "source": [
    "class ListaEnlazada(object):\n",
    "    def __init__(self):\n",
    "        self._primero = None\n",
    "        self._ultimo = None\n",
    "        self._largo = 0\n",
    "\n",
    "    def __len__(self):\n",
    "        return self._largo\n",
    "\n",
    "    def insertar_al_principio(self, dato):\n",
    "        nodo = Nodo(dato, self._primero)\n",
    "        self._primero = nodo\n",
    "        self._largo += 1\n",
    "        if self._largo == 1:\n",
    "            self._ultimo = nodo\n",
    "\n",
    "    def insertar_al_final(self, dato):\n",
    "        if self._largo != 0:\n",
    "            nodo = Nodo(dato)\n",
    "            nodo_anterior = self._ultimo\n",
    "            nodo_anterior._siguiente = nodo\n",
    "            self._ultimo = nodo\n",
    "            self._largo += 1\n",
    "        else:\n",
    "            self.insertar_al_principio(dato)\n",
    "\n",
    "    @property\n",
    "    def primero(self):\n",
    "        return self._primero.dato\n",
    "\n",
    "    def borrar_primero(self):\n",
    "        dato = self.primero.dato\n",
    "        self._primero = self.primero.siguiente\n",
    "        self._largo -= 1\n",
    "        if self._largo == 0:\n",
    "            self._ultimo = None\n",
    "        return dato\n",
    "\n",
    "    def __str__(self):\n",
    "        datos = []\n",
    "        nodo_actual = self._primero\n",
    "        while nodo_actual:\n",
    "            datos.append(nodo_actual.dato)\n",
    "            nodo_actual = nodo_actual.proximo\n",
    "        return \" -> \".join(datos)\n",
    "\n",
    "    def __repr__(self):\n",
    "        return self.__str__()"
   ]
  },
  {
   "cell_type": "code",
   "execution_count": 99,
   "id": "gorgeous-appointment",
   "metadata": {
    "execution": {
     "iopub.execute_input": "2021-02-03T16:41:34.416934Z",
     "iopub.status.busy": "2021-02-03T16:41:34.415651Z",
     "iopub.status.idle": "2021-02-03T16:41:34.419719Z",
     "shell.execute_reply": "2021-02-03T16:41:34.420225Z"
    },
    "slideshow": {
     "slide_type": "slide"
    }
   },
   "outputs": [
    {
     "data": {
      "text/plain": [
       "2"
      ]
     },
     "execution_count": 1,
     "metadata": {},
     "output_type": "execute_result"
    }
   ],
   "source": [
    "lista = ListaEnlazada()\n",
    "lista.insertar_al_principio(\"Primer Dato\")\n",
    "lista.insertar_al_principio(\"Primer primer Dato\")\n",
    "len(lista)"
   ]
  },
  {
   "cell_type": "code",
   "execution_count": 100,
   "id": "smoking-collins",
   "metadata": {
    "execution": {
     "iopub.execute_input": "2021-02-03T16:41:34.426429Z",
     "iopub.status.busy": "2021-02-03T16:41:34.424855Z",
     "iopub.status.idle": "2021-02-03T16:41:34.428232Z",
     "shell.execute_reply": "2021-02-03T16:41:34.428735Z"
    }
   },
   "outputs": [
    {
     "data": {
      "text/plain": [
       "Primer primer Dato -> Primer Dato"
      ]
     },
     "execution_count": 1,
     "metadata": {},
     "output_type": "execute_result"
    }
   ],
   "source": [
    "lista"
   ]
  },
  {
   "cell_type": "code",
   "execution_count": 101,
   "id": "fixed-joyce",
   "metadata": {
    "execution": {
     "iopub.execute_input": "2021-02-03T16:41:34.433096Z",
     "iopub.status.busy": "2021-02-03T16:41:34.432415Z",
     "iopub.status.idle": "2021-02-03T16:41:34.434617Z",
     "shell.execute_reply": "2021-02-03T16:41:34.435131Z"
    },
    "slideshow": {
     "slide_type": "slide"
    }
   },
   "outputs": [
    {
     "name": "stdout",
     "output_type": "stream",
     "text": [
      "Primer primer Dato\n"
     ]
    }
   ],
   "source": [
    "elemento = lista.primero\n",
    "print(elemento)"
   ]
  },
  {
   "cell_type": "markdown",
   "id": "contained-straight",
   "metadata": {},
   "source": [
    "## Recursos\n",
    "\n",
    "* [Taller de Python de Algoritmos II](https://github.com/algoritmos-rw/algo2_apuntes)\n",
    "\n",
    "* [Documentación de Python 3](https://docs.python.org/3/tutorial/)\n",
    "\n",
    "* [Apunte de Algoritmos y Programación I](https://algoritmos1rw.ddns.net/material)\n",
    "\n",
    "* [Automate the Boring Stuff with Python](http://automatetheboringstuff.com/)\n",
    "\n",
    "* [Curso Python](https://pythoncurso.github.io)\n",
    "\n",
    "* [Python Tutor](http://pythontutor.com/)\n",
    "\n",
    "* [Learn Python3 in Y minutes](https://learnxinyminutes.com/docs/python3/)\n",
    "\n",
    "* [Bibliografía de Algoritmos y Programación I](https://algoritmos1rw.ddns.net/bibliografia)"
   ]
  }
 ],
 "metadata": {
  "jupytext": {
   "encoding": "# -*- coding: utf-8 -*-",
   "formats": "ipynb,py:light"
  },
  "kernelspec": {
   "display_name": "Python 3 (venv)",
   "language": "python",
   "name": "python3"
  },
  "language_info": {
   "codemirror_mode": {
    "name": "ipython",
    "version": 3
   },
   "file_extension": ".py",
   "mimetype": "text/x-python",
   "name": "python",
   "nbconvert_exporter": "python",
   "pygments_lexer": "ipython3",
   "version": "3.7.9"
  }
 },
 "nbformat": 4,
 "nbformat_minor": 5
}
