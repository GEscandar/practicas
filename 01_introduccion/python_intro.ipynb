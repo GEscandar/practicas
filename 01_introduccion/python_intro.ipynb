{
 "cells": [
  {
   "cell_type": "markdown",
   "id": "e2812949",
   "metadata": {},
   "source": [
    "# Python"
   ]
  },
  {
   "cell_type": "markdown",
   "id": "28b4ec1f",
   "metadata": {
    "slideshow": {
     "slide_type": "slide"
    }
   },
   "source": [
    "## Un poco de Historia"
   ]
  },
  {
   "cell_type": "markdown",
   "id": "e1727cf9",
   "metadata": {
    "slideshow": {
     "slide_type": "subslide"
    }
   },
   "source": [
    "Python fue creado a finales de los años 80 por un programador holandés llamado **Guido van Rossum**,\n",
    "quien sigue siendo aún hoy el líder del desarrollo del lenguaje.\n",
    "\n",
    "(Edit julio 2018: [ya no más](https://www.mail-archive.com/python-committers@python.org/msg05628.html))"
   ]
  },
  {
   "cell_type": "markdown",
   "id": "e66cd5b8",
   "metadata": {
    "slideshow": {
     "slide_type": "subslide"
    }
   },
   "source": [
    "El nombre del lenguaje proviene de los humoristas británicos Monty Python.\n",
    "\n",
    ">*\"I chose Python as a working title for the project, being in a slightly irreverent mood (and a big fan of Monty Python's Flying Circus).\"*"
   ]
  },
  {
   "cell_type": "markdown",
   "id": "5b5c7b86",
   "metadata": {
    "slideshow": {
     "slide_type": "slide"
    }
   },
   "source": [
    "## Caracteristicas\n",
    "\n",
    "- Interpretado\n",
    "- Tipado dinamico\n",
    "- Multiparadigma\n",
    "- Alto nivel\n",
    "- Tiene un recolector de basura (no hay malloc, free, realloc, etc)"
   ]
  },
  {
   "cell_type": "markdown",
   "id": "0dcd8685",
   "metadata": {},
   "source": [
    "## ¿Cómo empezar?\n",
    "\n",
    "* Al ser un lenguaje *interpretado*, se puede ir escribiendo a medida que se ejecuta, sin necesidad de compilar de antemano! Solamente hace falta escribir `python` o `python3` en una terminal para empezar\n",
    "\n",
    "* También, permite escribir archivos y correrlos. Crear un archivo con extensión `.py` y luego correr `python miarchivo.py` en laterminal"
   ]
  },
  {
   "cell_type": "markdown",
   "id": "fdcb0122",
   "metadata": {
    "slideshow": {
     "slide_type": "slide"
    }
   },
   "source": [
    "## El Zen de Python"
   ]
  },
  {
   "cell_type": "code",
   "execution_count": 1,
   "id": "8d1ccf65",
   "metadata": {
    "execution": {
     "iopub.execute_input": "2021-04-21T00:35:49.070806Z",
     "iopub.status.busy": "2021-04-21T00:35:49.070290Z",
     "iopub.status.idle": "2021-04-21T00:35:49.122649Z",
     "shell.execute_reply": "2021-04-21T00:35:49.123110Z"
    },
    "slideshow": {
     "slide_type": "slide"
    }
   },
   "outputs": [
    {
     "name": "stdout",
     "output_type": "stream",
     "text": [
      "The Zen of Python, by Tim Peters\n",
      "\n",
      "Beautiful is better than ugly.\n",
      "Explicit is better than implicit.\n",
      "Simple is better than complex.\n",
      "Complex is better than complicated.\n",
      "Flat is better than nested.\n",
      "Sparse is better than dense.\n",
      "Readability counts.\n",
      "Special cases aren't special enough to break the rules.\n",
      "Although practicality beats purity.\n",
      "Errors should never pass silently.\n",
      "Unless explicitly silenced.\n",
      "In the face of ambiguity, refuse the temptation to guess.\n",
      "There should be one-- and preferably only one --obvious way to do it.\n",
      "Although that way may not be obvious at first unless you're Dutch.\n",
      "Now is better than never.\n",
      "Although never is often better than *right* now.\n",
      "If the implementation is hard to explain, it's a bad idea.\n",
      "If the implementation is easy to explain, it may be a good idea.\n",
      "Namespaces are one honking great idea -- let's do more of those!\n"
     ]
    }
   ],
   "source": [
    "import this"
   ]
  },
  {
   "cell_type": "markdown",
   "id": "44e5be28",
   "metadata": {
    "slideshow": {
     "slide_type": "slide"
    }
   },
   "source": [
    "## Conocimientos Básicos de Python: Variables y Tipos"
   ]
  },
  {
   "cell_type": "code",
   "execution_count": 2,
   "id": "bd450f59",
   "metadata": {
    "execution": {
     "iopub.execute_input": "2021-04-21T00:35:49.127536Z",
     "iopub.status.busy": "2021-04-21T00:35:49.127028Z",
     "iopub.status.idle": "2021-04-21T00:35:49.128846Z",
     "shell.execute_reply": "2021-04-21T00:35:49.129232Z"
    },
    "slideshow": {
     "slide_type": "slide"
    }
   },
   "outputs": [
    {
     "name": "stdout",
     "output_type": "stream",
     "text": [
      "Hello World!\n"
     ]
    }
   ],
   "source": [
    "# Este es un comentario\n",
    "\n",
    "print(\"Hello World!\")"
   ]
  },
  {
   "cell_type": "markdown",
   "id": "4d2bfcb0",
   "metadata": {},
   "source": [
    "Los strings en python puden escribirse tanto con comillas simples (`'`) como comillas dobles (`\"`). Normalmente vemos texto entre comillas triples para escribir _docstrings_, segun la guia de estilo de Python, el PEP8."
   ]
  },
  {
   "cell_type": "code",
   "execution_count": 3,
   "id": "d46cd228",
   "metadata": {
    "execution": {
     "iopub.execute_input": "2021-04-21T00:35:49.138789Z",
     "iopub.status.busy": "2021-04-21T00:35:49.138266Z",
     "iopub.status.idle": "2021-04-21T00:35:49.140700Z",
     "shell.execute_reply": "2021-04-21T00:35:49.141093Z"
    }
   },
   "outputs": [
    {
     "data": {
      "text/plain": [
       "'Esto es un docstring.\\n'"
      ]
     },
     "execution_count": 1,
     "metadata": {},
     "output_type": "execute_result"
    }
   ],
   "source": [
    "\"\"\"Esto es un docstring.\n",
    "\"\"\""
   ]
  },
  {
   "cell_type": "markdown",
   "id": "37fb3057",
   "metadata": {},
   "source": [
    "### Declaracion de variables"
   ]
  },
  {
   "cell_type": "code",
   "execution_count": 4,
   "id": "62055451",
   "metadata": {
    "execution": {
     "iopub.execute_input": "2021-04-21T00:35:49.145518Z",
     "iopub.status.busy": "2021-04-21T00:35:49.144457Z",
     "iopub.status.idle": "2021-04-21T00:35:49.147103Z",
     "shell.execute_reply": "2021-04-21T00:35:49.146674Z"
    }
   },
   "outputs": [
    {
     "name": "stdout",
     "output_type": "stream",
     "text": [
      "Hola\n"
     ]
    }
   ],
   "source": [
    "string = 'Hola'\n",
    "print(string)"
   ]
  },
  {
   "cell_type": "code",
   "execution_count": 5,
   "id": "0ef7519e",
   "metadata": {
    "execution": {
     "iopub.execute_input": "2021-04-21T00:35:49.150838Z",
     "iopub.status.busy": "2021-04-21T00:35:49.150346Z",
     "iopub.status.idle": "2021-04-21T00:35:49.152119Z",
     "shell.execute_reply": "2021-04-21T00:35:49.152526Z"
    }
   },
   "outputs": [
    {
     "name": "stdout",
     "output_type": "stream",
     "text": [
      "1\n"
     ]
    }
   ],
   "source": [
    "entero = 1\n",
    "print(entero)"
   ]
  },
  {
   "cell_type": "code",
   "execution_count": 6,
   "id": "6abeec69",
   "metadata": {
    "execution": {
     "iopub.execute_input": "2021-04-21T00:35:49.156391Z",
     "iopub.status.busy": "2021-04-21T00:35:49.155674Z",
     "iopub.status.idle": "2021-04-21T00:35:49.157544Z",
     "shell.execute_reply": "2021-04-21T00:35:49.157930Z"
    }
   },
   "outputs": [
    {
     "name": "stdout",
     "output_type": "stream",
     "text": [
      "1.0\n"
     ]
    }
   ],
   "source": [
    "flotante = 1.0\n",
    "print(flotante)"
   ]
  },
  {
   "cell_type": "code",
   "execution_count": 7,
   "id": "6bb92e38",
   "metadata": {
    "execution": {
     "iopub.execute_input": "2021-04-21T00:35:49.161681Z",
     "iopub.status.busy": "2021-04-21T00:35:49.161205Z",
     "iopub.status.idle": "2021-04-21T00:35:49.163034Z",
     "shell.execute_reply": "2021-04-21T00:35:49.163432Z"
    }
   },
   "outputs": [
    {
     "name": "stdout",
     "output_type": "stream",
     "text": [
      "(1, 1.0)\n"
     ]
    }
   ],
   "source": [
    "tupla = (entero, flotante)\n",
    "print(tupla)"
   ]
  },
  {
   "cell_type": "code",
   "execution_count": 8,
   "id": "620e83a9",
   "metadata": {
    "execution": {
     "iopub.execute_input": "2021-04-21T00:35:49.167042Z",
     "iopub.status.busy": "2021-04-21T00:35:49.166567Z",
     "iopub.status.idle": "2021-04-21T00:35:49.168309Z",
     "shell.execute_reply": "2021-04-21T00:35:49.168751Z"
    }
   },
   "outputs": [
    {
     "name": "stdout",
     "output_type": "stream",
     "text": [
      "(1, 1.0, 'Hola')\n"
     ]
    }
   ],
   "source": [
    "nupla = (entero, flotante, string)\n",
    "print(nupla)"
   ]
  },
  {
   "cell_type": "code",
   "execution_count": 9,
   "id": "7338ea20",
   "metadata": {
    "execution": {
     "iopub.execute_input": "2021-04-21T00:35:49.171948Z",
     "iopub.status.busy": "2021-04-21T00:35:49.171474Z",
     "iopub.status.idle": "2021-04-21T00:35:49.173232Z",
     "shell.execute_reply": "2021-04-21T00:35:49.173650Z"
    }
   },
   "outputs": [
    {
     "name": "stdout",
     "output_type": "stream",
     "text": [
      "[1, 1.0, 'Hola']\n"
     ]
    }
   ],
   "source": [
    "lista = [entero, flotante, string]\n",
    "print(lista)"
   ]
  },
  {
   "cell_type": "code",
   "execution_count": 10,
   "id": "b9bbf326",
   "metadata": {
    "execution": {
     "iopub.execute_input": "2021-04-21T00:35:49.176958Z",
     "iopub.status.busy": "2021-04-21T00:35:49.176479Z",
     "iopub.status.idle": "2021-04-21T00:35:49.178130Z",
     "shell.execute_reply": "2021-04-21T00:35:49.178593Z"
    }
   },
   "outputs": [
    {
     "name": "stdout",
     "output_type": "stream",
     "text": [
      "{'1': (1, 1.0), 50: (1, 1.0, 'Hola'), '3': 1}\n"
     ]
    }
   ],
   "source": [
    "diccionario = {'1': tupla, 50: nupla, '3': entero}\n",
    "print(diccionario)"
   ]
  },
  {
   "cell_type": "code",
   "execution_count": 11,
   "id": "31af6b0a",
   "metadata": {
    "execution": {
     "iopub.execute_input": "2021-04-21T00:35:49.181803Z",
     "iopub.status.busy": "2021-04-21T00:35:49.181327Z",
     "iopub.status.idle": "2021-04-21T00:35:49.183043Z",
     "shell.execute_reply": "2021-04-21T00:35:49.183460Z"
    }
   },
   "outputs": [
    {
     "name": "stdout",
     "output_type": "stream",
     "text": [
      "{1, 2}\n"
     ]
    }
   ],
   "source": [
    "conjunto = set([1, 2])\n",
    "print(conjunto)"
   ]
  },
  {
   "cell_type": "code",
   "execution_count": 12,
   "id": "1bad3e2b",
   "metadata": {
    "execution": {
     "iopub.execute_input": "2021-04-21T00:35:49.186558Z",
     "iopub.status.busy": "2021-04-21T00:35:49.186083Z",
     "iopub.status.idle": "2021-04-21T00:35:49.187804Z",
     "shell.execute_reply": "2021-04-21T00:35:49.188223Z"
    }
   },
   "outputs": [
    {
     "name": "stdout",
     "output_type": "stream",
     "text": [
      "True\n"
     ]
    }
   ],
   "source": [
    "booleano = True\n",
    "print(booleano)"
   ]
  },
  {
   "cell_type": "code",
   "execution_count": 13,
   "id": "c9a0ecf0",
   "metadata": {
    "execution": {
     "iopub.execute_input": "2021-04-21T00:35:49.191340Z",
     "iopub.status.busy": "2021-04-21T00:35:49.190859Z",
     "iopub.status.idle": "2021-04-21T00:35:49.192505Z",
     "shell.execute_reply": "2021-04-21T00:35:49.192973Z"
    }
   },
   "outputs": [
    {
     "name": "stdout",
     "output_type": "stream",
     "text": [
      "None\n"
     ]
    }
   ],
   "source": [
    "nada = None\n",
    "print(nada)"
   ]
  },
  {
   "cell_type": "markdown",
   "id": "5e5651b0",
   "metadata": {},
   "source": [
    "Ojo que las variables pueden cambiar de tipo!"
   ]
  },
  {
   "cell_type": "code",
   "execution_count": 14,
   "id": "0d76a95e",
   "metadata": {
    "execution": {
     "iopub.execute_input": "2021-04-21T00:35:49.196538Z",
     "iopub.status.busy": "2021-04-21T00:35:49.196037Z",
     "iopub.status.idle": "2021-04-21T00:35:49.198133Z",
     "shell.execute_reply": "2021-04-21T00:35:49.197653Z"
    }
   },
   "outputs": [
    {
     "name": "stdout",
     "output_type": "stream",
     "text": [
      "1\n",
      "<class 'int'>\n"
     ]
    }
   ],
   "source": [
    "elemento = 1\n",
    "print(elemento)\n",
    "print(type(elemento))"
   ]
  },
  {
   "cell_type": "code",
   "execution_count": 15,
   "id": "16064900",
   "metadata": {
    "execution": {
     "iopub.execute_input": "2021-04-21T00:35:49.201417Z",
     "iopub.status.busy": "2021-04-21T00:35:49.200941Z",
     "iopub.status.idle": "2021-04-21T00:35:49.203088Z",
     "shell.execute_reply": "2021-04-21T00:35:49.202647Z"
    }
   },
   "outputs": [
    {
     "name": "stdout",
     "output_type": "stream",
     "text": [
      "1\n",
      "<class 'str'>\n"
     ]
    }
   ],
   "source": [
    "elemento = str(1)\n",
    "print(elemento)\n",
    "print(type(elemento))"
   ]
  },
  {
   "cell_type": "code",
   "execution_count": 16,
   "id": "d06ec4fb",
   "metadata": {
    "execution": {
     "iopub.execute_input": "2021-04-21T00:35:49.206388Z",
     "iopub.status.busy": "2021-04-21T00:35:49.205916Z",
     "iopub.status.idle": "2021-04-21T00:35:49.208035Z",
     "shell.execute_reply": "2021-04-21T00:35:49.207548Z"
    }
   },
   "outputs": [
    {
     "name": "stdout",
     "output_type": "stream",
     "text": [
      "[2]\n",
      "<class 'list'>\n"
     ]
    }
   ],
   "source": [
    "elemento = [2]\n",
    "\n",
    "print(elemento)\n",
    "print(type(elemento))"
   ]
  },
  {
   "cell_type": "markdown",
   "id": "03acfac6",
   "metadata": {},
   "source": [
    "### Tipos basicos"
   ]
  },
  {
   "cell_type": "markdown",
   "id": "c818029f",
   "metadata": {
    "slideshow": {
     "slide_type": "slide"
    }
   },
   "source": [
    "#### Listas de Python"
   ]
  },
  {
   "cell_type": "code",
   "execution_count": 17,
   "id": "5a295d12",
   "metadata": {
    "execution": {
     "iopub.execute_input": "2021-04-21T00:35:49.211450Z",
     "iopub.status.busy": "2021-04-21T00:35:49.210976Z",
     "iopub.status.idle": "2021-04-21T00:35:49.213776Z",
     "shell.execute_reply": "2021-04-21T00:35:49.213349Z"
    }
   },
   "outputs": [
    {
     "data": {
      "text/plain": [
       "[]"
      ]
     },
     "execution_count": 1,
     "metadata": {},
     "output_type": "execute_result"
    }
   ],
   "source": [
    "lista = list()\n",
    "lista"
   ]
  },
  {
   "cell_type": "code",
   "execution_count": 18,
   "id": "3f2cb31e",
   "metadata": {
    "execution": {
     "iopub.execute_input": "2021-04-21T00:35:49.216995Z",
     "iopub.status.busy": "2021-04-21T00:35:49.216517Z",
     "iopub.status.idle": "2021-04-21T00:35:49.219879Z",
     "shell.execute_reply": "2021-04-21T00:35:49.220250Z"
    },
    "slideshow": {
     "slide_type": "slide"
    }
   },
   "outputs": [
    {
     "data": {
      "text/plain": [
       "[]"
      ]
     },
     "execution_count": 1,
     "metadata": {},
     "output_type": "execute_result"
    }
   ],
   "source": [
    "lista = []\n",
    "lista"
   ]
  },
  {
   "cell_type": "code",
   "execution_count": 19,
   "id": "eb2efd91",
   "metadata": {
    "execution": {
     "iopub.execute_input": "2021-04-21T00:35:49.223518Z",
     "iopub.status.busy": "2021-04-21T00:35:49.223048Z",
     "iopub.status.idle": "2021-04-21T00:35:49.225703Z",
     "shell.execute_reply": "2021-04-21T00:35:49.225277Z"
    },
    "slideshow": {
     "slide_type": "slide"
    }
   },
   "outputs": [
    {
     "data": {
      "text/plain": [
       "[1, 2, 3, 4]"
      ]
     },
     "execution_count": 1,
     "metadata": {},
     "output_type": "execute_result"
    }
   ],
   "source": [
    "lista = [1, 2, 3, 4]\n",
    "lista"
   ]
  },
  {
   "cell_type": "code",
   "execution_count": 20,
   "id": "67dbf978",
   "metadata": {
    "execution": {
     "iopub.execute_input": "2021-04-21T00:35:49.229442Z",
     "iopub.status.busy": "2021-04-21T00:35:49.228964Z",
     "iopub.status.idle": "2021-04-21T00:35:49.233360Z",
     "shell.execute_reply": "2021-04-21T00:35:49.232939Z"
    },
    "slideshow": {
     "slide_type": "slide"
    }
   },
   "outputs": [
    {
     "data": {
      "text/plain": [
       "[1, 2, 3, 4, 1, 'dos', 3.0]"
      ]
     },
     "execution_count": 1,
     "metadata": {},
     "output_type": "execute_result"
    }
   ],
   "source": [
    "lista.append(1)  # Inserto un 1 al final\n",
    "lista.append(\"dos\")  # Inserto un \"dos\" al final\n",
    "lista.append(3.0)  # Inserto un 3.0 al final\n",
    "lista"
   ]
  },
  {
   "cell_type": "code",
   "execution_count": 21,
   "id": "0d2422a6",
   "metadata": {
    "execution": {
     "iopub.execute_input": "2021-04-21T00:35:49.236665Z",
     "iopub.status.busy": "2021-04-21T00:35:49.236150Z",
     "iopub.status.idle": "2021-04-21T00:35:49.238902Z",
     "shell.execute_reply": "2021-04-21T00:35:49.238482Z"
    }
   },
   "outputs": [
    {
     "name": "stdout",
     "output_type": "stream",
     "text": [
      "[1, 2, 10, 3, 4, 1, 'dos', 3.0]\n"
     ]
    }
   ],
   "source": [
    "lista.insert(2, 10)  # Inserto en posicion 2 un 10\n",
    "print(lista)"
   ]
  },
  {
   "cell_type": "code",
   "execution_count": 22,
   "id": "3ecd7684",
   "metadata": {
    "execution": {
     "iopub.execute_input": "2021-04-21T00:35:49.242054Z",
     "iopub.status.busy": "2021-04-21T00:35:49.241582Z",
     "iopub.status.idle": "2021-04-21T00:35:49.244266Z",
     "shell.execute_reply": "2021-04-21T00:35:49.243844Z"
    }
   },
   "outputs": [
    {
     "data": {
      "text/plain": [
       "8"
      ]
     },
     "execution_count": 1,
     "metadata": {},
     "output_type": "execute_result"
    }
   ],
   "source": [
    "len(lista)"
   ]
  },
  {
   "cell_type": "code",
   "execution_count": 23,
   "id": "5bb3cded",
   "metadata": {
    "execution": {
     "iopub.execute_input": "2021-04-21T00:35:49.247403Z",
     "iopub.status.busy": "2021-04-21T00:35:49.246925Z",
     "iopub.status.idle": "2021-04-21T00:35:49.249736Z",
     "shell.execute_reply": "2021-04-21T00:35:49.249311Z"
    }
   },
   "outputs": [
    {
     "data": {
      "text/plain": [
       "3.0"
      ]
     },
     "execution_count": 1,
     "metadata": {},
     "output_type": "execute_result"
    }
   ],
   "source": [
    "lista.pop()"
   ]
  },
  {
   "cell_type": "code",
   "execution_count": 24,
   "id": "fcb4903c",
   "metadata": {
    "execution": {
     "iopub.execute_input": "2021-04-21T00:35:49.252982Z",
     "iopub.status.busy": "2021-04-21T00:35:49.252503Z",
     "iopub.status.idle": "2021-04-21T00:35:49.256880Z",
     "shell.execute_reply": "2021-04-21T00:35:49.257247Z"
    }
   },
   "outputs": [
    {
     "data": {
      "text/plain": [
       "[1, 2, 10, 3, 4, 1, 'dos']"
      ]
     },
     "execution_count": 1,
     "metadata": {},
     "output_type": "execute_result"
    }
   ],
   "source": [
    "lista"
   ]
  },
  {
   "cell_type": "code",
   "execution_count": 25,
   "id": "2bfedef5",
   "metadata": {
    "execution": {
     "iopub.execute_input": "2021-04-21T00:35:49.260462Z",
     "iopub.status.busy": "2021-04-21T00:35:49.259962Z",
     "iopub.status.idle": "2021-04-21T00:35:49.263900Z",
     "shell.execute_reply": "2021-04-21T00:35:49.264293Z"
    }
   },
   "outputs": [
    {
     "data": {
      "text/plain": [
       "2"
      ]
     },
     "execution_count": 1,
     "metadata": {},
     "output_type": "execute_result"
    }
   ],
   "source": [
    "lista.index(10)"
   ]
  },
  {
   "cell_type": "code",
   "execution_count": 26,
   "id": "3b42e3d9",
   "metadata": {
    "execution": {
     "iopub.execute_input": "2021-04-21T00:35:49.267445Z",
     "iopub.status.busy": "2021-04-21T00:35:49.266958Z",
     "iopub.status.idle": "2021-04-21T00:35:49.270858Z",
     "shell.execute_reply": "2021-04-21T00:35:49.270439Z"
    }
   },
   "outputs": [
    {
     "data": {
      "text/plain": [
       "[1, 2, 3, 4, 1, 'dos']"
      ]
     },
     "execution_count": 1,
     "metadata": {},
     "output_type": "execute_result"
    }
   ],
   "source": [
    "lista.remove(10)\n",
    "lista"
   ]
  },
  {
   "cell_type": "code",
   "execution_count": 27,
   "id": "02064def",
   "metadata": {
    "execution": {
     "iopub.execute_input": "2021-04-21T00:35:49.273940Z",
     "iopub.status.busy": "2021-04-21T00:35:49.273464Z",
     "iopub.status.idle": "2021-04-21T00:35:49.325610Z",
     "shell.execute_reply": "2021-04-21T00:35:49.326094Z"
    },
    "tags": [
     "raises-exception"
    ]
   },
   "outputs": [
    {
     "name": "stdout",
     "output_type": "stream",
     "text": [
      "1\n",
      "2\n",
      "2\n",
      "3\n",
      "3\n",
      "4\n",
      "4\n",
      "5\n",
      "1\n",
      "2\n",
      "dos\n"
     ]
    },
    {
     "ename": "TypeError",
     "evalue": "can only concatenate str (not \"int\") to str",
     "output_type": "error",
     "traceback": [
      "\u001b[0;31m---------------------------------------------------------------------------\u001b[0m",
      "\u001b[0;31mTypeError\u001b[0m                                 Traceback (most recent call last)",
      "\u001b[0;32m<ipython-input-1-41b56d5cf080>\u001b[0m in \u001b[0;36m<module>\u001b[0;34m\u001b[0m\n\u001b[1;32m      1\u001b[0m \u001b[0;32mfor\u001b[0m \u001b[0melemento\u001b[0m \u001b[0;32min\u001b[0m \u001b[0mlista\u001b[0m\u001b[0;34m:\u001b[0m\u001b[0;34m\u001b[0m\u001b[0;34m\u001b[0m\u001b[0m\n\u001b[1;32m      2\u001b[0m     \u001b[0mprint\u001b[0m\u001b[0;34m(\u001b[0m\u001b[0melemento\u001b[0m\u001b[0;34m)\u001b[0m\u001b[0;34m\u001b[0m\u001b[0;34m\u001b[0m\u001b[0m\n\u001b[0;32m----> 3\u001b[0;31m     \u001b[0mprint\u001b[0m\u001b[0;34m(\u001b[0m\u001b[0melemento\u001b[0m \u001b[0;34m+\u001b[0m \u001b[0;36m1\u001b[0m\u001b[0;34m)\u001b[0m\u001b[0;34m\u001b[0m\u001b[0;34m\u001b[0m\u001b[0m\n\u001b[0m",
      "\u001b[0;31mTypeError\u001b[0m: can only concatenate str (not \"int\") to str"
     ]
    }
   ],
   "source": [
    "for elemento in lista:\n",
    "    print(elemento)\n",
    "    print(elemento + 1)"
   ]
  },
  {
   "cell_type": "code",
   "execution_count": 28,
   "id": "fa82b45f",
   "metadata": {
    "execution": {
     "iopub.execute_input": "2021-04-21T00:35:49.330851Z",
     "iopub.status.busy": "2021-04-21T00:35:49.329948Z",
     "iopub.status.idle": "2021-04-21T00:35:49.332876Z",
     "shell.execute_reply": "2021-04-21T00:35:49.332465Z"
    }
   },
   "outputs": [
    {
     "data": {
      "text/plain": [
       "[1, 2, 3, 4, 1, 'dos']"
      ]
     },
     "execution_count": 1,
     "metadata": {},
     "output_type": "execute_result"
    }
   ],
   "source": [
    "lista"
   ]
  },
  {
   "cell_type": "code",
   "execution_count": 29,
   "id": "08560293",
   "metadata": {
    "execution": {
     "iopub.execute_input": "2021-04-21T00:35:49.337934Z",
     "iopub.status.busy": "2021-04-21T00:35:49.336747Z",
     "iopub.status.idle": "2021-04-21T00:35:49.339528Z",
     "shell.execute_reply": "2021-04-21T00:35:49.339106Z"
    }
   },
   "outputs": [
    {
     "name": "stdout",
     "output_type": "stream",
     "text": [
      "0-ésimo elemento: 1\n",
      "1-ésimo elemento: 2\n",
      "2-ésimo elemento: 3\n",
      "3-ésimo elemento: 4\n",
      "4-ésimo elemento: 1\n",
      "5-ésimo elemento: dos\n"
     ]
    }
   ],
   "source": [
    "for i, elemento in enumerate(lista):\n",
    "    print(f\"{i}-ésimo elemento: {elemento}\")"
   ]
  },
  {
   "cell_type": "code",
   "execution_count": 30,
   "id": "7dbb2081",
   "metadata": {
    "execution": {
     "iopub.execute_input": "2021-04-21T00:35:49.345403Z",
     "iopub.status.busy": "2021-04-21T00:35:49.344900Z",
     "iopub.status.idle": "2021-04-21T00:35:49.347153Z",
     "shell.execute_reply": "2021-04-21T00:35:49.347559Z"
    },
    "tags": [
     "raises-exception"
    ]
   },
   "outputs": [
    {
     "ename": "TypeError",
     "evalue": "'<' not supported between instances of 'str' and 'int'",
     "output_type": "error",
     "traceback": [
      "\u001b[0;31m---------------------------------------------------------------------------\u001b[0m",
      "\u001b[0;31mTypeError\u001b[0m                                 Traceback (most recent call last)",
      "\u001b[0;32m<ipython-input-1-06c3f264dc7a>\u001b[0m in \u001b[0;36m<module>\u001b[0;34m\u001b[0m\n\u001b[0;32m----> 1\u001b[0;31m \u001b[0msorted\u001b[0m\u001b[0;34m(\u001b[0m\u001b[0mlista\u001b[0m\u001b[0;34m)\u001b[0m\u001b[0;34m\u001b[0m\u001b[0;34m\u001b[0m\u001b[0m\n\u001b[0m",
      "\u001b[0;31mTypeError\u001b[0m: '<' not supported between instances of 'str' and 'int'"
     ]
    }
   ],
   "source": [
    "sorted(lista)"
   ]
  },
  {
   "cell_type": "code",
   "execution_count": 31,
   "id": "3ca3d03b",
   "metadata": {
    "execution": {
     "iopub.execute_input": "2021-04-21T00:35:49.351403Z",
     "iopub.status.busy": "2021-04-21T00:35:49.350297Z",
     "iopub.status.idle": "2021-04-21T00:35:49.352034Z",
     "shell.execute_reply": "2021-04-21T00:35:49.352447Z"
    }
   },
   "outputs": [],
   "source": [
    "lista.remove(\"dos\")"
   ]
  },
  {
   "cell_type": "code",
   "execution_count": 32,
   "id": "e2f5e52b",
   "metadata": {
    "execution": {
     "iopub.execute_input": "2021-04-21T00:35:49.356341Z",
     "iopub.status.busy": "2021-04-21T00:35:49.355829Z",
     "iopub.status.idle": "2021-04-21T00:35:49.358297Z",
     "shell.execute_reply": "2021-04-21T00:35:49.358690Z"
    }
   },
   "outputs": [
    {
     "data": {
      "text/plain": [
       "[1, 1, 2, 3, 4]"
      ]
     },
     "execution_count": 1,
     "metadata": {},
     "output_type": "execute_result"
    }
   ],
   "source": [
    "sorted(lista)"
   ]
  },
  {
   "cell_type": "code",
   "execution_count": 33,
   "id": "93196eba",
   "metadata": {
    "execution": {
     "iopub.execute_input": "2021-04-21T00:35:49.362547Z",
     "iopub.status.busy": "2021-04-21T00:35:49.362044Z",
     "iopub.status.idle": "2021-04-21T00:35:49.364402Z",
     "shell.execute_reply": "2021-04-21T00:35:49.364798Z"
    }
   },
   "outputs": [
    {
     "data": {
      "text/plain": [
       "[1, 1, 2, 3, 4]"
      ]
     },
     "execution_count": 1,
     "metadata": {},
     "output_type": "execute_result"
    }
   ],
   "source": [
    "lista.sort()\n",
    "lista"
   ]
  },
  {
   "cell_type": "markdown",
   "id": "802b9fe0",
   "metadata": {
    "slideshow": {
     "slide_type": "slide"
    }
   },
   "source": [
    "#### Tuplas de Python\n",
    "\n",
    "Las tuplas son inmutables. No se pueden agregar elementos luego de creadas."
   ]
  },
  {
   "cell_type": "code",
   "execution_count": 34,
   "id": "f92b4a38",
   "metadata": {
    "execution": {
     "iopub.execute_input": "2021-04-21T00:35:49.371829Z",
     "iopub.status.busy": "2021-04-21T00:35:49.371328Z",
     "iopub.status.idle": "2021-04-21T00:35:49.374658Z",
     "shell.execute_reply": "2021-04-21T00:35:49.374233Z"
    },
    "slideshow": {
     "slide_type": "slide"
    },
    "tags": [
     "raises-exception"
    ]
   },
   "outputs": [
    {
     "name": "stdout",
     "output_type": "stream",
     "text": [
      "(1, 2)\n",
      "1\n",
      "2\n"
     ]
    },
    {
     "ename": "TypeError",
     "evalue": "'tuple' object does not support item assignment",
     "output_type": "error",
     "traceback": [
      "\u001b[0;31m---------------------------------------------------------------------------\u001b[0m",
      "\u001b[0;31mTypeError\u001b[0m                                 Traceback (most recent call last)",
      "\u001b[0;32m<ipython-input-1-80ca8b547dd6>\u001b[0m in \u001b[0;36m<module>\u001b[0;34m\u001b[0m\n\u001b[1;32m      5\u001b[0m \u001b[0mprint\u001b[0m\u001b[0;34m(\u001b[0m\u001b[0mtupla\u001b[0m\u001b[0;34m[\u001b[0m\u001b[0;36m1\u001b[0m\u001b[0;34m]\u001b[0m\u001b[0;34m)\u001b[0m\u001b[0;34m\u001b[0m\u001b[0;34m\u001b[0m\u001b[0m\n\u001b[1;32m      6\u001b[0m \u001b[0;34m\u001b[0m\u001b[0m\n\u001b[0;32m----> 7\u001b[0;31m \u001b[0mtupla\u001b[0m\u001b[0;34m[\u001b[0m\u001b[0;36m1\u001b[0m\u001b[0;34m]\u001b[0m \u001b[0;34m=\u001b[0m \u001b[0;36m3\u001b[0m  \u001b[0;31m# Falla. No se puede mutar\u001b[0m\u001b[0;34m\u001b[0m\u001b[0;34m\u001b[0m\u001b[0m\n\u001b[0m",
      "\u001b[0;31mTypeError\u001b[0m: 'tuple' object does not support item assignment"
     ]
    }
   ],
   "source": [
    "tupla = (1, 2)\n",
    "\n",
    "print(tupla)\n",
    "print(tupla[0])\n",
    "print(tupla[1])\n",
    "\n",
    "tupla[1] = 3  # Falla. No se puede mutar"
   ]
  },
  {
   "cell_type": "code",
   "execution_count": 35,
   "id": "554aa6c0",
   "metadata": {
    "execution": {
     "iopub.execute_input": "2021-04-21T00:35:49.378453Z",
     "iopub.status.busy": "2021-04-21T00:35:49.377953Z",
     "iopub.status.idle": "2021-04-21T00:35:49.380273Z",
     "shell.execute_reply": "2021-04-21T00:35:49.380717Z"
    }
   },
   "outputs": [
    {
     "data": {
      "text/plain": [
       "[1, 2]"
      ]
     },
     "execution_count": 1,
     "metadata": {},
     "output_type": "execute_result"
    }
   ],
   "source": [
    "l = [1, 2]\n",
    "l"
   ]
  },
  {
   "cell_type": "code",
   "execution_count": 36,
   "id": "926d3bd9",
   "metadata": {
    "execution": {
     "iopub.execute_input": "2021-04-21T00:35:49.384567Z",
     "iopub.status.busy": "2021-04-21T00:35:49.384050Z",
     "iopub.status.idle": "2021-04-21T00:35:49.386436Z",
     "shell.execute_reply": "2021-04-21T00:35:49.386826Z"
    }
   },
   "outputs": [
    {
     "data": {
      "text/plain": [
       "[1, 3]"
      ]
     },
     "execution_count": 1,
     "metadata": {},
     "output_type": "execute_result"
    }
   ],
   "source": [
    "l[1] = 3\n",
    "l"
   ]
  },
  {
   "cell_type": "markdown",
   "id": "d988cd21",
   "metadata": {
    "slideshow": {
     "slide_type": "slide"
    }
   },
   "source": [
    "#### Diferencia entre lista y tupla\n",
    "Las listas se caracterizan por ser mutables, es decir, se puede cambiar su contenido en tiempo de ejecución, mientras que las tuplas son inmutables ya que no es posible modificar el contenido una vez creada."
   ]
  },
  {
   "cell_type": "markdown",
   "id": "11d1b2fd",
   "metadata": {},
   "source": [
    "#### Slices\n",
    "\n",
    "**Valen para listas, tuplas o strings (_segmentos_)**"
   ]
  },
  {
   "cell_type": "code",
   "execution_count": 37,
   "id": "7771fb07",
   "metadata": {
    "execution": {
     "iopub.execute_input": "2021-04-21T00:35:49.391189Z",
     "iopub.status.busy": "2021-04-21T00:35:49.389899Z",
     "iopub.status.idle": "2021-04-21T00:35:49.391743Z",
     "shell.execute_reply": "2021-04-21T00:35:49.392134Z"
    }
   },
   "outputs": [],
   "source": [
    "numeros = [0, 1, 2, 3, 4, 5, 6, 7, 8, 9, 10]"
   ]
  },
  {
   "cell_type": "code",
   "execution_count": 38,
   "id": "b877ed7e",
   "metadata": {
    "execution": {
     "iopub.execute_input": "2021-04-21T00:35:49.396151Z",
     "iopub.status.busy": "2021-04-21T00:35:49.395135Z",
     "iopub.status.idle": "2021-04-21T00:35:49.397827Z",
     "shell.execute_reply": "2021-04-21T00:35:49.397409Z"
    }
   },
   "outputs": [
    {
     "name": "stdout",
     "output_type": "stream",
     "text": [
      "[0, 1, 2, 3, 4, 5, 6, 7, 8, 9, 10]\n"
     ]
    }
   ],
   "source": [
    "print(numeros)"
   ]
  },
  {
   "cell_type": "code",
   "execution_count": 39,
   "id": "81006f97",
   "metadata": {
    "execution": {
     "iopub.execute_input": "2021-04-21T00:35:49.402168Z",
     "iopub.status.busy": "2021-04-21T00:35:49.401144Z",
     "iopub.status.idle": "2021-04-21T00:35:49.403806Z",
     "shell.execute_reply": "2021-04-21T00:35:49.403386Z"
    }
   },
   "outputs": [
    {
     "name": "stdout",
     "output_type": "stream",
     "text": [
      "2\n"
     ]
    }
   ],
   "source": [
    "print(numeros[2])  # Imprimo elemento en la posición 2"
   ]
  },
  {
   "cell_type": "code",
   "execution_count": 40,
   "id": "30626b4a",
   "metadata": {
    "execution": {
     "iopub.execute_input": "2021-04-21T00:35:49.407599Z",
     "iopub.status.busy": "2021-04-21T00:35:49.407107Z",
     "iopub.status.idle": "2021-04-21T00:35:49.409069Z",
     "shell.execute_reply": "2021-04-21T00:35:49.409459Z"
    }
   },
   "outputs": [
    {
     "data": {
      "text/plain": [
       "10"
      ]
     },
     "execution_count": 1,
     "metadata": {},
     "output_type": "execute_result"
    }
   ],
   "source": [
    "numeros[len(numeros) - 1]"
   ]
  },
  {
   "cell_type": "code",
   "execution_count": 41,
   "id": "bf625ff6",
   "metadata": {
    "execution": {
     "iopub.execute_input": "2021-04-21T00:35:49.412667Z",
     "iopub.status.busy": "2021-04-21T00:35:49.412157Z",
     "iopub.status.idle": "2021-04-21T00:35:49.413907Z",
     "shell.execute_reply": "2021-04-21T00:35:49.414296Z"
    },
    "lines_to_next_cell": 2
   },
   "outputs": [
    {
     "name": "stdout",
     "output_type": "stream",
     "text": [
      "10\n"
     ]
    }
   ],
   "source": [
    "print(numeros[-1])  # # Imprimo elemento en la última posición"
   ]
  },
  {
   "cell_type": "code",
   "execution_count": 42,
   "id": "08c90b22",
   "metadata": {
    "execution": {
     "iopub.execute_input": "2021-04-21T00:35:49.418022Z",
     "iopub.status.busy": "2021-04-21T00:35:49.417524Z",
     "iopub.status.idle": "2021-04-21T00:35:49.419816Z",
     "shell.execute_reply": "2021-04-21T00:35:49.420209Z"
    },
    "lines_to_next_cell": 2
   },
   "outputs": [
    {
     "data": {
      "text/plain": [
       "9"
      ]
     },
     "execution_count": 1,
     "metadata": {},
     "output_type": "execute_result"
    }
   ],
   "source": [
    "numeros[-2]"
   ]
  },
  {
   "cell_type": "code",
   "execution_count": 43,
   "id": "616eb230",
   "metadata": {
    "execution": {
     "iopub.execute_input": "2021-04-21T00:35:49.423401Z",
     "iopub.status.busy": "2021-04-21T00:35:49.422924Z",
     "iopub.status.idle": "2021-04-21T00:35:49.424657Z",
     "shell.execute_reply": "2021-04-21T00:35:49.425051Z"
    }
   },
   "outputs": [
    {
     "name": "stdout",
     "output_type": "stream",
     "text": [
      "[0, 1, 2]\n"
     ]
    }
   ],
   "source": [
    "print(numeros[0:3])  # Imprimo de la pos 0 a la pos 2"
   ]
  },
  {
   "cell_type": "code",
   "execution_count": 44,
   "id": "88c23776",
   "metadata": {
    "execution": {
     "iopub.execute_input": "2021-04-21T00:35:49.428197Z",
     "iopub.status.busy": "2021-04-21T00:35:49.427718Z",
     "iopub.status.idle": "2021-04-21T00:35:49.429393Z",
     "shell.execute_reply": "2021-04-21T00:35:49.429856Z"
    }
   },
   "outputs": [
    {
     "name": "stdout",
     "output_type": "stream",
     "text": [
      "[7, 8]\n"
     ]
    }
   ],
   "source": [
    "print(numeros[-4:-2])"
   ]
  },
  {
   "cell_type": "code",
   "execution_count": 45,
   "id": "c737d694",
   "metadata": {
    "execution": {
     "iopub.execute_input": "2021-04-21T00:35:49.433013Z",
     "iopub.status.busy": "2021-04-21T00:35:49.432533Z",
     "iopub.status.idle": "2021-04-21T00:35:49.434154Z",
     "shell.execute_reply": "2021-04-21T00:35:49.434624Z"
    }
   },
   "outputs": [
    {
     "name": "stdout",
     "output_type": "stream",
     "text": [
      "[0, 1, 2, 3, 4, 5, 6, 7, 8, 9, 10]\n"
     ]
    }
   ],
   "source": [
    "print(numeros[0:80])"
   ]
  },
  {
   "cell_type": "code",
   "execution_count": 46,
   "id": "a9e0ba3a",
   "metadata": {
    "execution": {
     "iopub.execute_input": "2021-04-21T00:35:49.437772Z",
     "iopub.status.busy": "2021-04-21T00:35:49.437292Z",
     "iopub.status.idle": "2021-04-21T00:35:49.439015Z",
     "shell.execute_reply": "2021-04-21T00:35:49.439435Z"
    }
   },
   "outputs": [
    {
     "name": "stdout",
     "output_type": "stream",
     "text": [
      "[0, 1, 2]\n"
     ]
    }
   ],
   "source": [
    "print(numeros[:3])"
   ]
  },
  {
   "cell_type": "code",
   "execution_count": 47,
   "id": "4d3a61ad",
   "metadata": {
    "execution": {
     "iopub.execute_input": "2021-04-21T00:35:49.442573Z",
     "iopub.status.busy": "2021-04-21T00:35:49.442093Z",
     "iopub.status.idle": "2021-04-21T00:35:49.443969Z",
     "shell.execute_reply": "2021-04-21T00:35:49.444462Z"
    }
   },
   "outputs": [
    {
     "name": "stdout",
     "output_type": "stream",
     "text": [
      "[3, 4, 5, 6, 7, 8, 9, 10]\n"
     ]
    }
   ],
   "source": [
    "print(numeros[3:])"
   ]
  },
  {
   "cell_type": "code",
   "execution_count": 48,
   "id": "b324e04a",
   "metadata": {
    "execution": {
     "iopub.execute_input": "2021-04-21T00:35:49.447666Z",
     "iopub.status.busy": "2021-04-21T00:35:49.447191Z",
     "iopub.status.idle": "2021-04-21T00:35:49.448932Z",
     "shell.execute_reply": "2021-04-21T00:35:49.449358Z"
    }
   },
   "outputs": [
    {
     "name": "stdout",
     "output_type": "stream",
     "text": [
      "[0, 2, 4, 6, 8]\n"
     ]
    }
   ],
   "source": [
    "print(numeros[0:10:2])"
   ]
  },
  {
   "cell_type": "markdown",
   "id": "db578717",
   "metadata": {},
   "source": [
    "```python\n",
    "lista[<inicio>:<final>:<step>]\n",
    "```"
   ]
  },
  {
   "cell_type": "code",
   "execution_count": 49,
   "id": "851a53b8",
   "metadata": {
    "execution": {
     "iopub.execute_input": "2021-04-21T00:35:49.452858Z",
     "iopub.status.busy": "2021-04-21T00:35:49.452376Z",
     "iopub.status.idle": "2021-04-21T00:35:49.455076Z",
     "shell.execute_reply": "2021-04-21T00:35:49.454648Z"
    },
    "lines_to_next_cell": 2
   },
   "outputs": [
    {
     "data": {
      "text/plain": [
       "[1, 2, 3, 4]"
      ]
     },
     "execution_count": 1,
     "metadata": {},
     "output_type": "execute_result"
    }
   ],
   "source": [
    "l1 = [1, 2]\n",
    "l2 = [3, 4]\n",
    "l1 + l2"
   ]
  },
  {
   "cell_type": "code",
   "execution_count": 50,
   "id": "3d5a33b8",
   "metadata": {
    "execution": {
     "iopub.execute_input": "2021-04-21T00:35:49.458293Z",
     "iopub.status.busy": "2021-04-21T00:35:49.457819Z",
     "iopub.status.idle": "2021-04-21T00:35:49.459441Z",
     "shell.execute_reply": "2021-04-21T00:35:49.459908Z"
    }
   },
   "outputs": [
    {
     "name": "stdout",
     "output_type": "stream",
     "text": [
      "[0, 1, 2, 3, 4, 5, 6, 'siete', 8, 9, 10]\n"
     ]
    }
   ],
   "source": [
    "numeros[7] = 'siete'  # Las listas se pueden mutar\n",
    "print(numeros)"
   ]
  },
  {
   "cell_type": "code",
   "execution_count": 51,
   "id": "89d4ef13",
   "metadata": {
    "execution": {
     "iopub.execute_input": "2021-04-21T00:35:49.463091Z",
     "iopub.status.busy": "2021-04-21T00:35:49.462611Z",
     "iopub.status.idle": "2021-04-21T00:35:49.464351Z",
     "shell.execute_reply": "2021-04-21T00:35:49.464781Z"
    }
   },
   "outputs": [
    {
     "name": "stdout",
     "output_type": "stream",
     "text": [
      "[10, 9, 8, 'siete', 6, 5, 4, 3, 2, 1, 0]\n"
     ]
    }
   ],
   "source": [
    "numeros = numeros[::-1]\n",
    "print(numeros)"
   ]
  },
  {
   "cell_type": "code",
   "execution_count": 52,
   "id": "88c9c5e0",
   "metadata": {
    "execution": {
     "iopub.execute_input": "2021-04-21T00:35:49.470163Z",
     "iopub.status.busy": "2021-04-21T00:35:49.469688Z",
     "iopub.status.idle": "2021-04-21T00:35:49.472589Z",
     "shell.execute_reply": "2021-04-21T00:35:49.472135Z"
    },
    "tags": [
     "raises-exception"
    ]
   },
   "outputs": [
    {
     "ename": "IndexError",
     "evalue": "list index out of range",
     "output_type": "error",
     "traceback": [
      "\u001b[0;31m---------------------------------------------------------------------------\u001b[0m",
      "\u001b[0;31mIndexError\u001b[0m                                Traceback (most recent call last)",
      "\u001b[0;32m<ipython-input-1-0ef91dd29a9b>\u001b[0m in \u001b[0;36m<module>\u001b[0;34m\u001b[0m\n\u001b[0;32m----> 1\u001b[0;31m \u001b[0mprint\u001b[0m\u001b[0;34m(\u001b[0m\u001b[0mnumeros\u001b[0m\u001b[0;34m[\u001b[0m\u001b[0;36m15\u001b[0m\u001b[0;34m]\u001b[0m\u001b[0;34m)\u001b[0m  \u001b[0;31m# Falla. No se puede acceder a una posición inexistente\u001b[0m\u001b[0;34m\u001b[0m\u001b[0;34m\u001b[0m\u001b[0m\n\u001b[0m",
      "\u001b[0;31mIndexError\u001b[0m: list index out of range"
     ]
    }
   ],
   "source": [
    "print(numeros[15])  # Falla. No se puede acceder a una posición inexistente"
   ]
  },
  {
   "cell_type": "code",
   "execution_count": 53,
   "id": "2e2d6357",
   "metadata": {
    "execution": {
     "iopub.execute_input": "2021-04-21T00:35:49.476216Z",
     "iopub.status.busy": "2021-04-21T00:35:49.475732Z",
     "iopub.status.idle": "2021-04-21T00:35:49.478220Z",
     "shell.execute_reply": "2021-04-21T00:35:49.477799Z"
    }
   },
   "outputs": [
    {
     "name": "stdout",
     "output_type": "stream",
     "text": [
      "palabra\n",
      "a\n",
      "pal\n",
      "abra\n"
     ]
    }
   ],
   "source": [
    "palabra = 'palabra'\n",
    "print(palabra)\n",
    "print(palabra[3])\n",
    "print(palabra[:3])\n",
    "print(palabra[3:])"
   ]
  },
  {
   "cell_type": "code",
   "execution_count": 54,
   "id": "4f367889",
   "metadata": {
    "execution": {
     "iopub.execute_input": "2021-04-21T00:35:49.481784Z",
     "iopub.status.busy": "2021-04-21T00:35:49.481310Z",
     "iopub.status.idle": "2021-04-21T00:35:49.483669Z",
     "shell.execute_reply": "2021-04-21T00:35:49.483251Z"
    }
   },
   "outputs": [
    {
     "name": "stdout",
     "output_type": "stream",
     "text": [
      "(0, 1, 2, 3, 4)\n",
      "(0, 1)\n",
      "(2, 3, 4)\n"
     ]
    }
   ],
   "source": [
    "tupla = (0, 1, 2, 3, 4)\n",
    "\n",
    "print(tupla)\n",
    "print(tupla[:2])\n",
    "print(tupla[2:])"
   ]
  },
  {
   "cell_type": "markdown",
   "id": "6bea0344",
   "metadata": {
    "slideshow": {
     "slide_type": "slide"
    }
   },
   "source": [
    "#### Diccionarios de Python\n",
    "\n",
    "Son como hashmaps, las claves deben ser inmutables para que no pierda sentido el diccionario. Si se pudieran modificar, se podrían cambiar las claves y generaría conflictos.\n",
    "\n",
    "Tipos mutables:\n",
    "- Listas\n",
    "- Diccionarios\n",
    "- Sets\n",
    "\n",
    "Tipos inmutables:\n",
    "- Int\n",
    "- Float\n",
    "- String\n",
    "- Tuplas\n"
   ]
  },
  {
   "cell_type": "code",
   "execution_count": 55,
   "id": "db6f9dcc",
   "metadata": {
    "execution": {
     "iopub.execute_input": "2021-04-21T00:35:49.486796Z",
     "iopub.status.busy": "2021-04-21T00:35:49.486321Z",
     "iopub.status.idle": "2021-04-21T00:35:49.489031Z",
     "shell.execute_reply": "2021-04-21T00:35:49.488608Z"
    },
    "slideshow": {
     "slide_type": "slide"
    }
   },
   "outputs": [
    {
     "data": {
      "text/plain": [
       "{}"
      ]
     },
     "execution_count": 1,
     "metadata": {},
     "output_type": "execute_result"
    }
   ],
   "source": [
    "diccionario = {}\n",
    "diccionario"
   ]
  },
  {
   "cell_type": "code",
   "execution_count": 56,
   "id": "9e67a8ce",
   "metadata": {
    "execution": {
     "iopub.execute_input": "2021-04-21T00:35:49.491957Z",
     "iopub.status.busy": "2021-04-21T00:35:49.491480Z",
     "iopub.status.idle": "2021-04-21T00:35:49.494201Z",
     "shell.execute_reply": "2021-04-21T00:35:49.493779Z"
    }
   },
   "outputs": [
    {
     "data": {
      "text/plain": [
       "{}"
      ]
     },
     "execution_count": 1,
     "metadata": {},
     "output_type": "execute_result"
    }
   ],
   "source": [
    "diccionario = dict()\n",
    "diccionario"
   ]
  },
  {
   "cell_type": "code",
   "execution_count": 57,
   "id": "3e97f593",
   "metadata": {
    "execution": {
     "iopub.execute_input": "2021-04-21T00:35:49.497617Z",
     "iopub.status.busy": "2021-04-21T00:35:49.497140Z",
     "iopub.status.idle": "2021-04-21T00:35:49.498896Z",
     "shell.execute_reply": "2021-04-21T00:35:49.499288Z"
    },
    "slideshow": {
     "slide_type": "slide"
    }
   },
   "outputs": [
    {
     "name": "stdout",
     "output_type": "stream",
     "text": [
      "{'clave1': 'valor1', 2: 'valor2', 'clave3': 3}\n"
     ]
    }
   ],
   "source": [
    "# Cómo agregar cosas al diccionario\n",
    "diccionario['clave1'] = 'valor1'\n",
    "diccionario[2] = 'valor2'\n",
    "diccionario['clave3'] = 3\n",
    "print(diccionario)"
   ]
  },
  {
   "cell_type": "markdown",
   "id": "53f5e1e0",
   "metadata": {},
   "source": [
    "Hay dos formas de obtener valores de un diccionario:\n",
    "\n",
    "```python\n",
    "diccionario[clave]\n",
    "```\n",
    "\n",
    "El cual devuelve el valor si existe la clave suministrada o bien lanza `KeyError` si no existe."
   ]
  },
  {
   "cell_type": "code",
   "execution_count": 58,
   "id": "3d6200c8",
   "metadata": {
    "execution": {
     "iopub.execute_input": "2021-04-21T00:35:49.503042Z",
     "iopub.status.busy": "2021-04-21T00:35:49.502544Z",
     "iopub.status.idle": "2021-04-21T00:35:49.504239Z",
     "shell.execute_reply": "2021-04-21T00:35:49.504650Z"
    }
   },
   "outputs": [
    {
     "data": {
      "text/plain": [
       "'valor1'"
      ]
     },
     "execution_count": 1,
     "metadata": {},
     "output_type": "execute_result"
    }
   ],
   "source": [
    "diccionario['clave1']"
   ]
  },
  {
   "cell_type": "code",
   "execution_count": 59,
   "id": "1e34819e",
   "metadata": {
    "execution": {
     "iopub.execute_input": "2021-04-21T00:35:49.509643Z",
     "iopub.status.busy": "2021-04-21T00:35:49.509154Z",
     "iopub.status.idle": "2021-04-21T00:35:49.511979Z",
     "shell.execute_reply": "2021-04-21T00:35:49.511554Z"
    },
    "tags": [
     "raises-exception"
    ]
   },
   "outputs": [
    {
     "ename": "KeyError",
     "evalue": "'clave1000'",
     "output_type": "error",
     "traceback": [
      "\u001b[0;31m---------------------------------------------------------------------------\u001b[0m",
      "\u001b[0;31mKeyError\u001b[0m                                  Traceback (most recent call last)",
      "\u001b[0;32m<ipython-input-1-41aae9a2e5ed>\u001b[0m in \u001b[0;36m<module>\u001b[0;34m\u001b[0m\n\u001b[0;32m----> 1\u001b[0;31m \u001b[0mdiccionario\u001b[0m\u001b[0;34m[\u001b[0m\u001b[0;34m'clave1000'\u001b[0m\u001b[0;34m]\u001b[0m\u001b[0;34m\u001b[0m\u001b[0;34m\u001b[0m\u001b[0m\n\u001b[0m",
      "\u001b[0;31mKeyError\u001b[0m: 'clave1000'"
     ]
    }
   ],
   "source": [
    "diccionario['clave1000']"
   ]
  },
  {
   "cell_type": "markdown",
   "id": "53263aa7",
   "metadata": {},
   "source": [
    "La segunda forma es con `get`:"
   ]
  },
  {
   "cell_type": "code",
   "execution_count": 60,
   "id": "186f73ac",
   "metadata": {
    "execution": {
     "iopub.execute_input": "2021-04-21T00:35:49.554702Z",
     "iopub.status.busy": "2021-04-21T00:35:49.534220Z",
     "iopub.status.idle": "2021-04-21T00:35:49.561596Z",
     "shell.execute_reply": "2021-04-21T00:35:49.561097Z"
    }
   },
   "outputs": [],
   "source": [
    "diccionario.get?"
   ]
  },
  {
   "cell_type": "code",
   "execution_count": 61,
   "id": "4e6aac9f",
   "metadata": {
    "execution": {
     "iopub.execute_input": "2021-04-21T00:35:49.566674Z",
     "iopub.status.busy": "2021-04-21T00:35:49.565489Z",
     "iopub.status.idle": "2021-04-21T00:35:49.568303Z",
     "shell.execute_reply": "2021-04-21T00:35:49.567877Z"
    }
   },
   "outputs": [
    {
     "name": "stdout",
     "output_type": "stream",
     "text": [
      "Help on built-in function get:\n",
      "\n",
      "get(key, default=None, /) method of builtins.dict instance\n",
      "    Return the value for key if key is in the dictionary, else default.\n",
      "\n"
     ]
    }
   ],
   "source": [
    "help(diccionario.get)"
   ]
  },
  {
   "cell_type": "code",
   "execution_count": 62,
   "id": "8bec1931",
   "metadata": {
    "execution": {
     "iopub.execute_input": "2021-04-21T00:35:49.572528Z",
     "iopub.status.busy": "2021-04-21T00:35:49.571463Z",
     "iopub.status.idle": "2021-04-21T00:35:49.574122Z",
     "shell.execute_reply": "2021-04-21T00:35:49.573699Z"
    },
    "slideshow": {
     "slide_type": "slide"
    }
   },
   "outputs": [
    {
     "name": "stdout",
     "output_type": "stream",
     "text": [
      "None\n"
     ]
    }
   ],
   "source": [
    "print(diccionario.get('clave1000'))"
   ]
  },
  {
   "cell_type": "code",
   "execution_count": 63,
   "id": "00d7b89d",
   "metadata": {
    "execution": {
     "iopub.execute_input": "2021-04-21T00:35:49.578328Z",
     "iopub.status.busy": "2021-04-21T00:35:49.577197Z",
     "iopub.status.idle": "2021-04-21T00:35:49.579915Z",
     "shell.execute_reply": "2021-04-21T00:35:49.579497Z"
    },
    "slideshow": {
     "slide_type": "slide"
    }
   },
   "outputs": [
    {
     "name": "stdout",
     "output_type": "stream",
     "text": [
      "True\n"
     ]
    }
   ],
   "source": [
    "print('clave1' in diccionario)  # Verifico si la clave está en el diccionario"
   ]
  },
  {
   "cell_type": "code",
   "execution_count": 64,
   "id": "ec1cb3c8",
   "metadata": {
    "execution": {
     "iopub.execute_input": "2021-04-21T00:35:49.583820Z",
     "iopub.status.busy": "2021-04-21T00:35:49.583324Z",
     "iopub.status.idle": "2021-04-21T00:35:49.585792Z",
     "shell.execute_reply": "2021-04-21T00:35:49.586183Z"
    }
   },
   "outputs": [
    {
     "data": {
      "text/plain": [
       "True"
      ]
     },
     "execution_count": 1,
     "metadata": {},
     "output_type": "execute_result"
    }
   ],
   "source": [
    "l = [1, 2, 3, 4]\n",
    "2 in l"
   ]
  },
  {
   "cell_type": "code",
   "execution_count": 65,
   "id": "0b86e262",
   "metadata": {
    "execution": {
     "iopub.execute_input": "2021-04-21T00:35:49.590814Z",
     "iopub.status.busy": "2021-04-21T00:35:49.589672Z",
     "iopub.status.idle": "2021-04-21T00:35:49.592418Z",
     "shell.execute_reply": "2021-04-21T00:35:49.591980Z"
    }
   },
   "outputs": [
    {
     "name": "stdout",
     "output_type": "stream",
     "text": [
      "la clave es clave1 y el valor es valor1\n",
      "la clave es 2 y el valor es valor2\n",
      "la clave es clave3 y el valor es 3\n"
     ]
    }
   ],
   "source": [
    "for clave, valor in diccionario.items():\n",
    "    print(\"la clave es %s y el valor es %s\" % (clave, valor))"
   ]
  },
  {
   "cell_type": "code",
   "execution_count": 66,
   "id": "868b1bf3",
   "metadata": {
    "execution": {
     "iopub.execute_input": "2021-04-21T00:35:49.596997Z",
     "iopub.status.busy": "2021-04-21T00:35:49.595994Z",
     "iopub.status.idle": "2021-04-21T00:35:49.599260Z",
     "shell.execute_reply": "2021-04-21T00:35:49.598248Z"
    }
   },
   "outputs": [
    {
     "name": "stdout",
     "output_type": "stream",
     "text": [
      "la clave es clave1 y el valor es valor1\n",
      "la clave es 2 y el valor es valor2\n"
     ]
    },
    {
     "name": "stdout",
     "output_type": "stream",
     "text": [
      "la clave es clave3 y el valor es 3\n"
     ]
    }
   ],
   "source": [
    "for clave, valor in diccionario.items():\n",
    "    print(\"la clave es {} y el valor es {}\".format(clave, valor))"
   ]
  },
  {
   "cell_type": "code",
   "execution_count": 67,
   "id": "f36cf1a4",
   "metadata": {
    "execution": {
     "iopub.execute_input": "2021-04-21T00:35:49.603911Z",
     "iopub.status.busy": "2021-04-21T00:35:49.602889Z",
     "iopub.status.idle": "2021-04-21T00:35:49.605587Z",
     "shell.execute_reply": "2021-04-21T00:35:49.605167Z"
    },
    "slideshow": {
     "slide_type": "slide"
    }
   },
   "outputs": [
    {
     "name": "stdout",
     "output_type": "stream",
     "text": [
      "la clave es clave1 y el valor es valor1\n",
      "la clave es 2 y el valor es valor2\n",
      "la clave es clave3 y el valor es 3\n"
     ]
    }
   ],
   "source": [
    "# Cómo iterar un diccionario elemento por elemento\n",
    "for (\n",
    "    clave,\n",
    "    valor,\n",
    ") in (\n",
    "    diccionario.items()\n",
    "):  # diccionario.items() va devolviendo tuplas con el formato (clave,valor)\n",
    "    print(\n",
    "        f\"la clave es {clave} y el valor es {valor}\"\n",
    "    )  # con esta sintaxis se desempaquetan en clave y valor (similar a enumerate)"
   ]
  },
  {
   "cell_type": "code",
   "execution_count": 68,
   "id": "7ef56847",
   "metadata": {
    "execution": {
     "iopub.execute_input": "2021-04-21T00:35:49.609938Z",
     "iopub.status.busy": "2021-04-21T00:35:49.608873Z",
     "iopub.status.idle": "2021-04-21T00:35:49.611505Z",
     "shell.execute_reply": "2021-04-21T00:35:49.611089Z"
    },
    "slideshow": {
     "slide_type": "slide"
    }
   },
   "outputs": [
    {
     "name": "stdout",
     "output_type": "stream",
     "text": [
      "clave1\n",
      "2\n",
      "clave3\n"
     ]
    }
   ],
   "source": [
    "for clave in diccionario.keys():\n",
    "    print(clave)"
   ]
  },
  {
   "cell_type": "code",
   "execution_count": 69,
   "id": "4d8c480b",
   "metadata": {
    "execution": {
     "iopub.execute_input": "2021-04-21T00:35:49.615689Z",
     "iopub.status.busy": "2021-04-21T00:35:49.614842Z",
     "iopub.status.idle": "2021-04-21T00:35:49.616887Z",
     "shell.execute_reply": "2021-04-21T00:35:49.617275Z"
    },
    "slideshow": {
     "slide_type": "slide"
    }
   },
   "outputs": [
    {
     "name": "stdout",
     "output_type": "stream",
     "text": [
      "valor1\n",
      "valor2\n",
      "3\n"
     ]
    }
   ],
   "source": [
    "for valor in diccionario.values():\n",
    "    print(valor)"
   ]
  },
  {
   "cell_type": "markdown",
   "id": "e7795449",
   "metadata": {},
   "source": [
    "#### Sets\n",
    "\n",
    "Son similares a los diccionarios (en eficiencia) pero se almacenan solo claves, y tienen algunas operaciones particulares.\n",
    "\n",
    "En particular, no pueden tener elementos iguales (pensar que son conjuntos)"
   ]
  },
  {
   "cell_type": "code",
   "execution_count": 70,
   "id": "80d9ee11",
   "metadata": {
    "execution": {
     "iopub.execute_input": "2021-04-21T00:35:49.620388Z",
     "iopub.status.busy": "2021-04-21T00:35:49.619890Z",
     "iopub.status.idle": "2021-04-21T00:35:49.623510Z",
     "shell.execute_reply": "2021-04-21T00:35:49.623895Z"
    }
   },
   "outputs": [],
   "source": [
    "set??"
   ]
  },
  {
   "cell_type": "code",
   "execution_count": 71,
   "id": "568d2893",
   "metadata": {
    "execution": {
     "iopub.execute_input": "2021-04-21T00:35:49.627755Z",
     "iopub.status.busy": "2021-04-21T00:35:49.627258Z",
     "iopub.status.idle": "2021-04-21T00:35:49.629658Z",
     "shell.execute_reply": "2021-04-21T00:35:49.630046Z"
    }
   },
   "outputs": [
    {
     "data": {
      "text/plain": [
       "{1, 2, 3}"
      ]
     },
     "execution_count": 1,
     "metadata": {},
     "output_type": "execute_result"
    }
   ],
   "source": [
    "# Se definen como los diccionarios pero sin hacerlos 'clave:valor', solamente una seguidilla de elementos\n",
    "{1, 2, 2, 3}"
   ]
  },
  {
   "cell_type": "code",
   "execution_count": 72,
   "id": "643791d0",
   "metadata": {
    "execution": {
     "iopub.execute_input": "2021-04-21T00:35:49.633957Z",
     "iopub.status.busy": "2021-04-21T00:35:49.633462Z",
     "iopub.status.idle": "2021-04-21T00:35:49.635791Z",
     "shell.execute_reply": "2021-04-21T00:35:49.636209Z"
    }
   },
   "outputs": [
    {
     "data": {
      "text/plain": [
       "{1, 2, 3}"
      ]
     },
     "execution_count": 1,
     "metadata": {},
     "output_type": "execute_result"
    }
   ],
   "source": [
    "set([1, 2, 2, 3])"
   ]
  },
  {
   "cell_type": "markdown",
   "id": "535caa28",
   "metadata": {},
   "source": [
    "## Condicionales (if...elif...else)\n",
    "\n",
    "```python\n",
    "if <condición_1>:\n",
    "    <hacer algo_1 si se da la condición_1>\n",
    "elif <condición_2>:\n",
    "    <hacer algo_2 si se da la condición_2>\n",
    "...\n",
    "elif <condición_n>:\n",
    "    <hacer algo_n si se da la condición_n>\n",
    "else:\n",
    "    <hacer otra cosa si no dan las anteriores>\n",
    "```\n",
    "\n",
    "Algo importante para notar es que los bloques se definen por **niveles de identacion**."
   ]
  },
  {
   "cell_type": "code",
   "execution_count": 73,
   "id": "05ea7f20",
   "metadata": {
    "execution": {
     "iopub.execute_input": "2021-04-21T00:35:49.641110Z",
     "iopub.status.busy": "2021-04-21T00:35:49.640053Z",
     "iopub.status.idle": "2021-04-21T00:35:49.642762Z",
     "shell.execute_reply": "2021-04-21T00:35:49.642339Z"
    }
   },
   "outputs": [
    {
     "name": "stdout",
     "output_type": "stream",
     "text": [
      "uno\n"
     ]
    }
   ],
   "source": [
    "v = 1\n",
    "if v == 1:\n",
    "    print(\"uno\")\n",
    "elif v == 2:\n",
    "    print(\"dos\")\n",
    "else:\n",
    "    print(\"ni idea\")\n",
    "    print(v)"
   ]
  },
  {
   "cell_type": "markdown",
   "id": "e6f66e1f",
   "metadata": {},
   "source": [
    "## Iteraciones\n",
    "\n",
    "```python\n",
    "while cond:\n",
    "    <codigo>\n",
    "```\n",
    "\n",
    "```python\n",
    "for elemento in iterable:\n",
    "    <codigo>\n",
    "```\n",
    "\n",
    "Para iterar sobre un rango de valores, usamos `range`"
   ]
  },
  {
   "cell_type": "code",
   "execution_count": 74,
   "id": "0ac039ec",
   "metadata": {
    "execution": {
     "iopub.execute_input": "2021-04-21T00:35:49.647155Z",
     "iopub.status.busy": "2021-04-21T00:35:49.646278Z",
     "iopub.status.idle": "2021-04-21T00:35:49.648646Z",
     "shell.execute_reply": "2021-04-21T00:35:49.649038Z"
    }
   },
   "outputs": [
    {
     "name": "stdout",
     "output_type": "stream",
     "text": [
      "1\n",
      "4\n",
      "7\n",
      "10\n"
     ]
    }
   ],
   "source": [
    "for i in range(1, 11, 3):\n",
    "    print(i)"
   ]
  },
  {
   "cell_type": "markdown",
   "id": "de49f92c",
   "metadata": {},
   "source": [
    "## Operadores logicos\n",
    "\n",
    "`not`, `or`, `and`"
   ]
  },
  {
   "cell_type": "code",
   "execution_count": 75,
   "id": "300b1c5d",
   "metadata": {
    "execution": {
     "iopub.execute_input": "2021-04-21T00:35:49.653224Z",
     "iopub.status.busy": "2021-04-21T00:35:49.652175Z",
     "iopub.status.idle": "2021-04-21T00:35:49.654869Z",
     "shell.execute_reply": "2021-04-21T00:35:49.654450Z"
    }
   },
   "outputs": [
    {
     "name": "stdout",
     "output_type": "stream",
     "text": [
      "yay\n"
     ]
    }
   ],
   "source": [
    "if True or False:\n",
    "    print(\"yay\")"
   ]
  },
  {
   "cell_type": "code",
   "execution_count": 76,
   "id": "cd467acf",
   "metadata": {
    "execution": {
     "iopub.execute_input": "2021-04-21T00:35:49.658574Z",
     "iopub.status.busy": "2021-04-21T00:35:49.658083Z",
     "iopub.status.idle": "2021-04-21T00:35:49.660479Z",
     "shell.execute_reply": "2021-04-21T00:35:49.660873Z"
    }
   },
   "outputs": [
    {
     "data": {
      "text/plain": [
       "False"
      ]
     },
     "execution_count": 1,
     "metadata": {},
     "output_type": "execute_result"
    }
   ],
   "source": [
    "1 == 2"
   ]
  },
  {
   "cell_type": "code",
   "execution_count": 77,
   "id": "8d3857e5",
   "metadata": {
    "execution": {
     "iopub.execute_input": "2021-04-21T00:35:49.664621Z",
     "iopub.status.busy": "2021-04-21T00:35:49.664089Z",
     "iopub.status.idle": "2021-04-21T00:35:49.666457Z",
     "shell.execute_reply": "2021-04-21T00:35:49.666847Z"
    }
   },
   "outputs": [
    {
     "data": {
      "text/plain": [
       "True"
      ]
     },
     "execution_count": 1,
     "metadata": {},
     "output_type": "execute_result"
    }
   ],
   "source": [
    "1 != 2"
   ]
  },
  {
   "cell_type": "markdown",
   "id": "82915ef9",
   "metadata": {
    "slideshow": {
     "slide_type": "slide"
    }
   },
   "source": [
    "## Funciones en Python"
   ]
  },
  {
   "cell_type": "code",
   "execution_count": 78,
   "id": "27e91449",
   "metadata": {
    "execution": {
     "iopub.execute_input": "2021-04-21T00:35:49.673493Z",
     "iopub.status.busy": "2021-04-21T00:35:49.672498Z",
     "iopub.status.idle": "2021-04-21T00:35:49.675149Z",
     "shell.execute_reply": "2021-04-21T00:35:49.674728Z"
    },
    "slideshow": {
     "slide_type": "slide"
    }
   },
   "outputs": [
    {
     "name": "stdout",
     "output_type": "stream",
     "text": [
      "True\n",
      "False\n"
     ]
    }
   ],
   "source": [
    "def busqueda_binaria(lista, elemento):\n",
    "    if not lista:\n",
    "        return False\n",
    "    elif len(lista) == 1:\n",
    "        return lista[0] == elemento\n",
    "    mitad = len(lista) // 2  # // es la operación división entera\n",
    "    if lista[mitad] == elemento:\n",
    "        return True\n",
    "    if lista[mitad] > elemento:\n",
    "        return busqueda_binaria(lista[:mitad], elemento)\n",
    "    if lista[mitad] < elemento:\n",
    "        return busqueda_binaria(lista[mitad:], elemento)\n",
    "\n",
    "\n",
    "print(busqueda_binaria([1, 2, 3, 4, 5], 4))\n",
    "print(busqueda_binaria([1, 4, 6, 7, 9, 10], 2))"
   ]
  },
  {
   "cell_type": "code",
   "execution_count": 79,
   "id": "c1dd729d",
   "metadata": {
    "execution": {
     "iopub.execute_input": "2021-04-21T00:35:49.678779Z",
     "iopub.status.busy": "2021-04-21T00:35:49.676791Z",
     "iopub.status.idle": "2021-04-21T00:35:49.680837Z",
     "shell.execute_reply": "2021-04-21T00:35:49.681247Z"
    }
   },
   "outputs": [
    {
     "name": "stdout",
     "output_type": "stream",
     "text": [
      "(3, 3, 3)\n"
     ]
    }
   ],
   "source": [
    "def a(b):\n",
    "    if a == 1:\n",
    "        print(a)\n",
    "    return (b, b, b)\n",
    "\n",
    "\n",
    "print(a(3))"
   ]
  },
  {
   "cell_type": "code",
   "execution_count": 80,
   "id": "47f9a0c4",
   "metadata": {
    "execution": {
     "iopub.execute_input": "2021-04-21T00:35:49.685691Z",
     "iopub.status.busy": "2021-04-21T00:35:49.685093Z",
     "iopub.status.idle": "2021-04-21T00:35:49.693106Z",
     "shell.execute_reply": "2021-04-21T00:35:49.693574Z"
    },
    "lines_to_next_cell": 2,
    "slideshow": {
     "slide_type": "slide"
    },
    "tags": [
     "raises-exception"
    ]
   },
   "outputs": [
    {
     "name": "stdout",
     "output_type": "stream",
     "text": [
      "3\n",
      "3.0\n",
      "3.0\n",
      "hola como te va\n",
      "[1, 2, 3, 4, 5]\n"
     ]
    },
    {
     "ename": "TypeError",
     "evalue": "can only concatenate str (not \"int\") to str",
     "output_type": "error",
     "traceback": [
      "\u001b[0;31m---------------------------------------------------------------------------\u001b[0m",
      "\u001b[0;31mTypeError\u001b[0m                                 Traceback (most recent call last)",
      "\u001b[0;32m<ipython-input-1-c2a6a99a90c7>\u001b[0m in \u001b[0;36m<module>\u001b[0;34m\u001b[0m\n\u001b[1;32m      8\u001b[0m \u001b[0mprint\u001b[0m\u001b[0;34m(\u001b[0m\u001b[0msuma\u001b[0m\u001b[0;34m(\u001b[0m\u001b[0;34m\"hola \"\u001b[0m\u001b[0;34m,\u001b[0m \u001b[0;34m\"como te va\"\u001b[0m\u001b[0;34m)\u001b[0m\u001b[0;34m)\u001b[0m\u001b[0;34m\u001b[0m\u001b[0;34m\u001b[0m\u001b[0m\n\u001b[1;32m      9\u001b[0m \u001b[0mprint\u001b[0m\u001b[0;34m(\u001b[0m\u001b[0msuma\u001b[0m\u001b[0;34m(\u001b[0m\u001b[0;34m[\u001b[0m\u001b[0;36m1\u001b[0m\u001b[0;34m,\u001b[0m \u001b[0;36m2\u001b[0m\u001b[0;34m,\u001b[0m \u001b[0;36m3\u001b[0m\u001b[0;34m]\u001b[0m\u001b[0;34m,\u001b[0m \u001b[0;34m[\u001b[0m\u001b[0;36m4\u001b[0m\u001b[0;34m,\u001b[0m \u001b[0;36m5\u001b[0m\u001b[0;34m]\u001b[0m\u001b[0;34m)\u001b[0m\u001b[0;34m)\u001b[0m\u001b[0;34m\u001b[0m\u001b[0;34m\u001b[0m\u001b[0m\n\u001b[0;32m---> 10\u001b[0;31m \u001b[0mprint\u001b[0m\u001b[0;34m(\u001b[0m\u001b[0msuma\u001b[0m\u001b[0;34m(\u001b[0m\u001b[0;34m\"1\"\u001b[0m\u001b[0;34m,\u001b[0m \u001b[0;36m3\u001b[0m\u001b[0;34m)\u001b[0m\u001b[0;34m)\u001b[0m  \u001b[0;31m# Falla\u001b[0m\u001b[0;34m\u001b[0m\u001b[0;34m\u001b[0m\u001b[0m\n\u001b[0m",
      "\u001b[0;32m<ipython-input-1-c2a6a99a90c7>\u001b[0m in \u001b[0;36msuma\u001b[0;34m(a, b)\u001b[0m\n\u001b[1;32m      1\u001b[0m \u001b[0;32mdef\u001b[0m \u001b[0msuma\u001b[0m\u001b[0;34m(\u001b[0m\u001b[0ma\u001b[0m\u001b[0;34m,\u001b[0m \u001b[0mb\u001b[0m\u001b[0;34m)\u001b[0m\u001b[0;34m:\u001b[0m\u001b[0;34m\u001b[0m\u001b[0;34m\u001b[0m\u001b[0m\n\u001b[0;32m----> 2\u001b[0;31m     \u001b[0;32mreturn\u001b[0m \u001b[0ma\u001b[0m \u001b[0;34m+\u001b[0m \u001b[0mb\u001b[0m\u001b[0;34m\u001b[0m\u001b[0;34m\u001b[0m\u001b[0m\n\u001b[0m\u001b[1;32m      3\u001b[0m \u001b[0;34m\u001b[0m\u001b[0m\n\u001b[1;32m      4\u001b[0m \u001b[0;34m\u001b[0m\u001b[0m\n\u001b[1;32m      5\u001b[0m \u001b[0mprint\u001b[0m\u001b[0;34m(\u001b[0m\u001b[0msuma\u001b[0m\u001b[0;34m(\u001b[0m\u001b[0;36m1\u001b[0m\u001b[0;34m,\u001b[0m \u001b[0;36m2\u001b[0m\u001b[0;34m)\u001b[0m\u001b[0;34m)\u001b[0m\u001b[0;34m\u001b[0m\u001b[0;34m\u001b[0m\u001b[0m\n",
      "\u001b[0;31mTypeError\u001b[0m: can only concatenate str (not \"int\") to str"
     ]
    }
   ],
   "source": [
    "def suma(a, b):\n",
    "    return a + b\n",
    "\n",
    "\n",
    "print(suma(1, 2))\n",
    "print(suma(1.0, 2.0))\n",
    "print(suma(1.0, 2))\n",
    "print(suma(\"hola \", \"como te va\"))\n",
    "print(suma([1, 2, 3], [4, 5]))\n",
    "print(suma(\"1\", 3))  # Falla"
   ]
  },
  {
   "cell_type": "code",
   "execution_count": 81,
   "id": "d7ecca66",
   "metadata": {
    "execution": {
     "iopub.execute_input": "2021-04-21T00:35:49.697978Z",
     "iopub.status.busy": "2021-04-21T00:35:49.696950Z",
     "iopub.status.idle": "2021-04-21T00:35:49.699611Z",
     "shell.execute_reply": "2021-04-21T00:35:49.699192Z"
    }
   },
   "outputs": [
    {
     "name": "stdout",
     "output_type": "stream",
     "text": [
      "2.0\n"
     ]
    }
   ],
   "source": [
    "# El valor por default de divisor es 1\n",
    "\n",
    "\n",
    "def division(dividendo, divisor=2):\n",
    "    return dividendo / divisor\n",
    "\n",
    "\n",
    "print(division(4))  # Usa el valor por default"
   ]
  },
  {
   "cell_type": "code",
   "execution_count": 82,
   "id": "c979e2db",
   "metadata": {
    "execution": {
     "iopub.execute_input": "2021-04-21T00:35:49.706443Z",
     "iopub.status.busy": "2021-04-21T00:35:49.705933Z",
     "iopub.status.idle": "2021-04-21T00:35:49.709275Z",
     "shell.execute_reply": "2021-04-21T00:35:49.708850Z"
    },
    "tags": [
     "raises-exception"
    ]
   },
   "outputs": [
    {
     "name": "stdout",
     "output_type": "stream",
     "text": [
      "0.5\n",
      "0.5\n"
     ]
    },
    {
     "ename": "TypeError",
     "evalue": "division() missing 1 required positional argument: 'dividendo'",
     "output_type": "error",
     "traceback": [
      "\u001b[0;31m---------------------------------------------------------------------------\u001b[0m",
      "\u001b[0;31mTypeError\u001b[0m                                 Traceback (most recent call last)",
      "\u001b[0;32m<ipython-input-1-34eff3833138>\u001b[0m in \u001b[0;36m<module>\u001b[0;34m\u001b[0m\n\u001b[1;32m      1\u001b[0m \u001b[0mprint\u001b[0m\u001b[0;34m(\u001b[0m\u001b[0mdivision\u001b[0m\u001b[0;34m(\u001b[0m\u001b[0;36m1\u001b[0m\u001b[0;34m,\u001b[0m \u001b[0;36m2\u001b[0m\u001b[0;34m)\u001b[0m\u001b[0;34m)\u001b[0m  \u001b[0;31m# Parámetros por orden\u001b[0m\u001b[0;34m\u001b[0m\u001b[0;34m\u001b[0m\u001b[0m\n\u001b[1;32m      2\u001b[0m \u001b[0mprint\u001b[0m\u001b[0;34m(\u001b[0m\u001b[0mdivision\u001b[0m\u001b[0;34m(\u001b[0m\u001b[0mdividendo\u001b[0m\u001b[0;34m=\u001b[0m\u001b[0;36m1\u001b[0m\u001b[0;34m,\u001b[0m \u001b[0mdivisor\u001b[0m\u001b[0;34m=\u001b[0m\u001b[0;36m2\u001b[0m\u001b[0;34m)\u001b[0m\u001b[0;34m)\u001b[0m  \u001b[0;31m# Parámetros por nombre\u001b[0m\u001b[0;34m\u001b[0m\u001b[0;34m\u001b[0m\u001b[0m\n\u001b[0;32m----> 3\u001b[0;31m \u001b[0mprint\u001b[0m\u001b[0;34m(\u001b[0m\u001b[0mdivision\u001b[0m\u001b[0;34m(\u001b[0m\u001b[0mdivisor\u001b[0m\u001b[0;34m=\u001b[0m\u001b[0;36m2\u001b[0m\u001b[0;34m)\u001b[0m\u001b[0;34m)\u001b[0m\u001b[0;34m\u001b[0m\u001b[0;34m\u001b[0m\u001b[0m\n\u001b[0m",
      "\u001b[0;31mTypeError\u001b[0m: division() missing 1 required positional argument: 'dividendo'"
     ]
    }
   ],
   "source": [
    "print(division(1, 2))  # Parámetros por orden\n",
    "print(division(dividendo=1, divisor=2))  # Parámetros por nombre\n",
    "print(division(divisor=2))"
   ]
  },
  {
   "cell_type": "code",
   "execution_count": 83,
   "id": "0b61c098",
   "metadata": {
    "execution": {
     "iopub.execute_input": "2021-04-21T00:35:49.713472Z",
     "iopub.status.busy": "2021-04-21T00:35:49.712413Z",
     "iopub.status.idle": "2021-04-21T00:35:49.715041Z",
     "shell.execute_reply": "2021-04-21T00:35:49.714622Z"
    }
   },
   "outputs": [
    {
     "name": "stdout",
     "output_type": "stream",
     "text": [
      "0.5\n"
     ]
    }
   ],
   "source": [
    "print(division(divisor=2, dividendo=1))"
   ]
  },
  {
   "cell_type": "code",
   "execution_count": 84,
   "id": "a7ebe274",
   "metadata": {
    "execution": {
     "iopub.execute_input": "2021-04-21T00:35:49.720307Z",
     "iopub.status.busy": "2021-04-21T00:35:49.719308Z",
     "iopub.status.idle": "2021-04-21T00:35:49.721979Z",
     "shell.execute_reply": "2021-04-21T00:35:49.721556Z"
    }
   },
   "outputs": [
    {
     "name": "stdout",
     "output_type": "stream",
     "text": [
      "['a', 'b', 'c']\n",
      "[1, 2, 3]\n",
      "['hola', ' don', ' pepito']\n",
      "hola -  don -  pepito\n"
     ]
    }
   ],
   "source": [
    "# Funciones básicas ya en el lenguaje\n",
    "# Hechas para funcionar para distintos tipos\n",
    "\n",
    "string_ordenado = sorted('bca')\n",
    "print(string_ordenado)\n",
    "\n",
    "lista_ordenada = sorted([1, 3, 2])\n",
    "print(lista_ordenada)\n",
    "\n",
    "separadas = \"hola, don, pepito\".split(\",\")\n",
    "print(separadas)\n",
    "unidas = \" - \".join(separadas)\n",
    "print(unidas)"
   ]
  },
  {
   "cell_type": "markdown",
   "id": "f5737733",
   "metadata": {},
   "source": [
    "## Módulos\n",
    "\n",
    "Para incluir alguna biblioteca de funciones se usa `import`. Pueden ser cosas ya predefinidas en Python (`math`, `random`, etc), nombres de archivos en nuestro directorio (por ejemplo, para `mimodulo.py` ponemos `import mimodulo`) o bibliotecas instaladas por el usuario"
   ]
  },
  {
   "cell_type": "code",
   "execution_count": 85,
   "id": "8f82aedb",
   "metadata": {
    "execution": {
     "iopub.execute_input": "2021-04-21T00:35:49.726106Z",
     "iopub.status.busy": "2021-04-21T00:35:49.725061Z",
     "iopub.status.idle": "2021-04-21T00:35:49.727681Z",
     "shell.execute_reply": "2021-04-21T00:35:49.727262Z"
    }
   },
   "outputs": [
    {
     "name": "stdout",
     "output_type": "stream",
     "text": [
      "3.141592653589793\n"
     ]
    }
   ],
   "source": [
    "import math\n",
    "\n",
    "print(math.pi)"
   ]
  },
  {
   "cell_type": "code",
   "execution_count": 86,
   "id": "c18ae9c8",
   "metadata": {
    "execution": {
     "iopub.execute_input": "2021-04-21T00:35:49.731912Z",
     "iopub.status.busy": "2021-04-21T00:35:49.730894Z",
     "iopub.status.idle": "2021-04-21T00:35:49.733573Z",
     "shell.execute_reply": "2021-04-21T00:35:49.733153Z"
    }
   },
   "outputs": [
    {
     "name": "stdout",
     "output_type": "stream",
     "text": [
      "3.141592653589793 2.718281828459045\n"
     ]
    }
   ],
   "source": [
    "from math import pi, e\n",
    "\n",
    "print(pi, e)"
   ]
  },
  {
   "cell_type": "code",
   "execution_count": 87,
   "id": "0cde5f3c",
   "metadata": {
    "execution": {
     "iopub.execute_input": "2021-04-21T00:35:49.737342Z",
     "iopub.status.busy": "2021-04-21T00:35:49.736848Z",
     "iopub.status.idle": "2021-04-21T00:35:49.739172Z",
     "shell.execute_reply": "2021-04-21T00:35:49.739562Z"
    }
   },
   "outputs": [
    {
     "data": {
      "text/plain": [
       "2"
      ]
     },
     "execution_count": 1,
     "metadata": {},
     "output_type": "execute_result"
    }
   ],
   "source": [
    "math.gcd(56, 78)"
   ]
  },
  {
   "cell_type": "markdown",
   "id": "a8c6be48",
   "metadata": {},
   "source": [
    "## Manejo de excepciones\n",
    "\n",
    "Se pueden encapsular errores esperados en un bloque 'try/except' para evitar cortar el flujo del programa"
   ]
  },
  {
   "cell_type": "code",
   "execution_count": 88,
   "id": "9f60c55d",
   "metadata": {
    "execution": {
     "iopub.execute_input": "2021-04-21T00:35:49.746358Z",
     "iopub.status.busy": "2021-04-21T00:35:49.744022Z",
     "iopub.status.idle": "2021-04-21T00:35:49.748764Z",
     "shell.execute_reply": "2021-04-21T00:35:49.748310Z"
    },
    "tags": [
     "raises-exception"
    ]
   },
   "outputs": [
    {
     "ename": "ZeroDivisionError",
     "evalue": "division by zero",
     "output_type": "error",
     "traceback": [
      "\u001b[0;31m---------------------------------------------------------------------------\u001b[0m",
      "\u001b[0;31mZeroDivisionError\u001b[0m                         Traceback (most recent call last)",
      "\u001b[0;32m<ipython-input-1-f031f77b1a55>\u001b[0m in \u001b[0;36m<module>\u001b[0;34m\u001b[0m\n\u001b[0;32m----> 1\u001b[0;31m \u001b[0mdivision\u001b[0m\u001b[0;34m(\u001b[0m\u001b[0;36m1\u001b[0m\u001b[0;34m,\u001b[0m \u001b[0;36m0\u001b[0m\u001b[0;34m)\u001b[0m  \u001b[0;31m# No se puede dividir por cero\u001b[0m\u001b[0;34m\u001b[0m\u001b[0;34m\u001b[0m\u001b[0m\n\u001b[0m",
      "\u001b[0;32m<ipython-input-1-0d991d7de762>\u001b[0m in \u001b[0;36mdivision\u001b[0;34m(dividendo, divisor)\u001b[0m\n\u001b[1;32m      3\u001b[0m \u001b[0;34m\u001b[0m\u001b[0m\n\u001b[1;32m      4\u001b[0m \u001b[0;32mdef\u001b[0m \u001b[0mdivision\u001b[0m\u001b[0;34m(\u001b[0m\u001b[0mdividendo\u001b[0m\u001b[0;34m,\u001b[0m \u001b[0mdivisor\u001b[0m\u001b[0;34m=\u001b[0m\u001b[0;36m2\u001b[0m\u001b[0;34m)\u001b[0m\u001b[0;34m:\u001b[0m\u001b[0;34m\u001b[0m\u001b[0;34m\u001b[0m\u001b[0m\n\u001b[0;32m----> 5\u001b[0;31m     \u001b[0;32mreturn\u001b[0m \u001b[0mdividendo\u001b[0m \u001b[0;34m/\u001b[0m \u001b[0mdivisor\u001b[0m\u001b[0;34m\u001b[0m\u001b[0;34m\u001b[0m\u001b[0m\n\u001b[0m\u001b[1;32m      6\u001b[0m \u001b[0;34m\u001b[0m\u001b[0m\n\u001b[1;32m      7\u001b[0m \u001b[0;34m\u001b[0m\u001b[0m\n",
      "\u001b[0;31mZeroDivisionError\u001b[0m: division by zero"
     ]
    }
   ],
   "source": [
    "division(1, 0)  # No se puede dividir por cero"
   ]
  },
  {
   "cell_type": "code",
   "execution_count": 89,
   "id": "398d1a5c",
   "metadata": {
    "execution": {
     "iopub.execute_input": "2021-04-21T00:35:49.753498Z",
     "iopub.status.busy": "2021-04-21T00:35:49.752429Z",
     "iopub.status.idle": "2021-04-21T00:35:49.755075Z",
     "shell.execute_reply": "2021-04-21T00:35:49.754655Z"
    }
   },
   "outputs": [
    {
     "name": "stdout",
     "output_type": "stream",
     "text": [
      "No se puede dividir por cero, ojo! division by zero\n",
      "1\n"
     ]
    }
   ],
   "source": [
    "try:\n",
    "    division(1, 0)\n",
    "except (ZeroDivisionError, TypeError) as e:\n",
    "    print('No se puede dividir por cero, ojo!', e)\n",
    "finally:\n",
    "    print(1)"
   ]
  },
  {
   "cell_type": "markdown",
   "id": "d22cfdfc",
   "metadata": {
    "slideshow": {
     "slide_type": "slide"
    }
   },
   "source": [
    "## Lectura y escritura de archivos"
   ]
  },
  {
   "cell_type": "code",
   "execution_count": 90,
   "id": "c862ee9d",
   "metadata": {
    "execution": {
     "iopub.execute_input": "2021-04-21T00:35:49.759664Z",
     "iopub.status.busy": "2021-04-21T00:35:49.759156Z",
     "iopub.status.idle": "2021-04-21T00:35:49.761456Z",
     "shell.execute_reply": "2021-04-21T00:35:49.761847Z"
    },
    "slideshow": {
     "slide_type": "slide"
    }
   },
   "outputs": [
    {
     "name": "stdout",
     "output_type": "stream",
     "text": [
      "<_io.TextIOWrapper name='archivo.csv' mode='w' encoding='UTF-8'>\n"
     ]
    }
   ],
   "source": [
    "import random\n",
    "\n",
    "with open(\n",
    "    'archivo.csv', 'w'\n",
    ") as archivo:  # Al usar esta sintaxis no es necesario hacer close\n",
    "    archivo.write(\"Alumno, nota\\n\")\n",
    "    # Tambien de forma similar al fprintf se puede hacer:\n",
    "    # print(\"Alumno, nota\\n\", file=archivo)\n",
    "    for i in range(0, 10):\n",
    "        archivo.write(f\"{i},{random.randrange(0,10)}\\n\")\n",
    "\n",
    "print(archivo)  # Comentario aclaratorio:\n",
    "# Las variables definidas en un determinado scope siguen existiendo por fuera del mismo.\n",
    "# Se debe tener cuidado con esto, ya que nada garantiza que por fuera el valor sea el esperado."
   ]
  },
  {
   "cell_type": "code",
   "execution_count": 91,
   "id": "aa3f2c4f",
   "metadata": {
    "execution": {
     "iopub.execute_input": "2021-04-21T00:35:49.766663Z",
     "iopub.status.busy": "2021-04-21T00:35:49.766167Z",
     "iopub.status.idle": "2021-04-21T00:35:49.768497Z",
     "shell.execute_reply": "2021-04-21T00:35:49.768893Z"
    },
    "slideshow": {
     "slide_type": "slide"
    }
   },
   "outputs": [
    {
     "name": "stdout",
     "output_type": "stream",
     "text": [
      "Alumno, nota\n",
      "0,8\n",
      "1,7\n",
      "2,8\n",
      "3,7\n",
      "4,7\n",
      "5,5\n",
      "6,4\n",
      "7,6\n",
      "8,8\n",
      "9,2\n"
     ]
    }
   ],
   "source": [
    "with open('archivo.csv', 'r') as f:\n",
    "    for linea in f:\n",
    "        print(linea.strip())"
   ]
  },
  {
   "cell_type": "code",
   "execution_count": 92,
   "id": "2e7d988e",
   "metadata": {
    "execution": {
     "iopub.execute_input": "2021-04-21T00:35:49.772556Z",
     "iopub.status.busy": "2021-04-21T00:35:49.772041Z",
     "iopub.status.idle": "2021-04-21T00:35:49.774287Z",
     "shell.execute_reply": "2021-04-21T00:35:49.774676Z"
    }
   },
   "outputs": [
    {
     "name": "stdout",
     "output_type": "stream",
     "text": [
      "Alumno, nota\n",
      "0,8\n",
      "1,7\n",
      "2,8\n",
      "3,7\n",
      "4,7\n",
      "5,5\n",
      "6,4\n",
      "7,6\n",
      "8,8\n",
      "9,2\n",
      "\n"
     ]
    }
   ],
   "source": [
    "with open('archivo.csv', 'r') as f:\n",
    "    print(f.read())"
   ]
  },
  {
   "cell_type": "code",
   "execution_count": 93,
   "id": "eb5620f0",
   "metadata": {
    "execution": {
     "iopub.execute_input": "2021-04-21T00:35:49.777963Z",
     "iopub.status.busy": "2021-04-21T00:35:49.777464Z",
     "iopub.status.idle": "2021-04-21T00:35:49.779700Z",
     "shell.execute_reply": "2021-04-21T00:35:49.779279Z"
    }
   },
   "outputs": [],
   "source": [
    "f = open('archivo.csv', 'w')\n",
    "f.write(\"algo, algo\")\n",
    "f.close()"
   ]
  },
  {
   "cell_type": "markdown",
   "id": "b7a33a41",
   "metadata": {
    "slideshow": {
     "slide_type": "slide"
    }
   },
   "source": [
    "## Objetos\n",
    "\n",
    "Los objetos tienen metodos y atributos:\n",
    "- Atributos: equivalentes a variables.\n",
    "- Métodos: equivalentes a las primitivas."
   ]
  },
  {
   "cell_type": "markdown",
   "id": "7450f09f",
   "metadata": {
    "slideshow": {
     "slide_type": "slide"
    }
   },
   "source": [
    "### Cómo creo una clase"
   ]
  },
  {
   "cell_type": "code",
   "execution_count": 94,
   "id": "c740d6e6",
   "metadata": {
    "execution": {
     "iopub.execute_input": "2021-04-21T00:35:49.785241Z",
     "iopub.status.busy": "2021-04-21T00:35:49.784163Z",
     "iopub.status.idle": "2021-04-21T00:35:49.785801Z",
     "shell.execute_reply": "2021-04-21T00:35:49.786195Z"
    },
    "slideshow": {
     "slide_type": "slide"
    }
   },
   "outputs": [],
   "source": [
    "class Nodo(object):\n",
    "    def __init__(self, dato, siguiente=None):\n",
    "        self._dato = dato\n",
    "        self._siguiente = siguiente\n",
    "\n",
    "    @property\n",
    "    def dato(self):\n",
    "        return self._dato\n",
    "\n",
    "    @property\n",
    "    def proximo(self):\n",
    "        return self._siguiente\n",
    "\n",
    "    @proximo.setter\n",
    "    def proximo(self, siguiente):\n",
    "        self._siguiente = siguiente\n",
    "\n",
    "    def __repr__(self):\n",
    "        return str(self.dato)\n",
    "\n",
    "    def __str__(self):\n",
    "        return str(self.dato)"
   ]
  },
  {
   "cell_type": "code",
   "execution_count": 95,
   "id": "32b20717",
   "metadata": {
    "execution": {
     "iopub.execute_input": "2021-04-21T00:35:49.790297Z",
     "iopub.status.busy": "2021-04-21T00:35:49.789284Z",
     "iopub.status.idle": "2021-04-21T00:35:49.791929Z",
     "shell.execute_reply": "2021-04-21T00:35:49.791504Z"
    },
    "slideshow": {
     "slide_type": "slide"
    }
   },
   "outputs": [
    {
     "name": "stdout",
     "output_type": "stream",
     "text": [
      "hola\n"
     ]
    }
   ],
   "source": [
    "nodo = Nodo(\"hola\")\n",
    "print(nodo)"
   ]
  },
  {
   "cell_type": "code",
   "execution_count": 96,
   "id": "189f09c6",
   "metadata": {
    "execution": {
     "iopub.execute_input": "2021-04-21T00:35:49.796082Z",
     "iopub.status.busy": "2021-04-21T00:35:49.795052Z",
     "iopub.status.idle": "2021-04-21T00:35:49.797784Z",
     "shell.execute_reply": "2021-04-21T00:35:49.797359Z"
    },
    "slideshow": {
     "slide_type": "slide"
    }
   },
   "outputs": [
    {
     "name": "stdout",
     "output_type": "stream",
     "text": [
      "[hola, lala]\n"
     ]
    }
   ],
   "source": [
    "nodo2 = Nodo(\"lala\")\n",
    "print([nodo, nodo2])"
   ]
  },
  {
   "cell_type": "code",
   "execution_count": 97,
   "id": "ca494851",
   "metadata": {
    "execution": {
     "iopub.execute_input": "2021-04-21T00:35:49.801804Z",
     "iopub.status.busy": "2021-04-21T00:35:49.800812Z",
     "iopub.status.idle": "2021-04-21T00:35:49.803459Z",
     "shell.execute_reply": "2021-04-21T00:35:49.803035Z"
    },
    "slideshow": {
     "slide_type": "slide"
    }
   },
   "outputs": [
    {
     "name": "stdout",
     "output_type": "stream",
     "text": [
      "hola\n"
     ]
    }
   ],
   "source": [
    "nodo3 = nodo.dato\n",
    "print(nodo3)"
   ]
  },
  {
   "cell_type": "markdown",
   "id": "4bab6279",
   "metadata": {
    "slideshow": {
     "slide_type": "slide"
    }
   },
   "source": [
    "### Ejemplo: Lista Enlazada"
   ]
  },
  {
   "cell_type": "code",
   "execution_count": 98,
   "id": "79386e05",
   "metadata": {
    "execution": {
     "iopub.execute_input": "2021-04-21T00:35:49.812453Z",
     "iopub.status.busy": "2021-04-21T00:35:49.811097Z",
     "iopub.status.idle": "2021-04-21T00:35:49.812998Z",
     "shell.execute_reply": "2021-04-21T00:35:49.813383Z"
    },
    "slideshow": {
     "slide_type": "slide"
    }
   },
   "outputs": [],
   "source": [
    "class ListaEnlazada(object):\n",
    "    def __init__(self):\n",
    "        self._primero = None\n",
    "        self._ultimo = None\n",
    "        self._largo = 0\n",
    "\n",
    "    def __len__(self):\n",
    "        return self._largo\n",
    "\n",
    "    def insertar_al_principio(self, dato):\n",
    "        nodo = Nodo(dato, self._primero)\n",
    "        self._primero = nodo\n",
    "        self._largo += 1\n",
    "        if self._largo == 1:\n",
    "            self._ultimo = nodo\n",
    "\n",
    "    def insertar_al_final(self, dato):\n",
    "        if self._largo != 0:\n",
    "            nodo = Nodo(dato)\n",
    "            nodo_anterior = self._ultimo\n",
    "            nodo_anterior._siguiente = nodo\n",
    "            self._ultimo = nodo\n",
    "            self._largo += 1\n",
    "        else:\n",
    "            self.insertar_al_principio(dato)\n",
    "\n",
    "    @property\n",
    "    def primero(self):\n",
    "        return self._primero.dato\n",
    "\n",
    "    def borrar_primero(self):\n",
    "        dato = self.primero.dato\n",
    "        self._primero = self.primero.siguiente\n",
    "        self._largo -= 1\n",
    "        if self._largo == 0:\n",
    "            self._ultimo = None\n",
    "        return dato\n",
    "\n",
    "    def __str__(self):\n",
    "        datos = []\n",
    "        nodo_actual = self._primero\n",
    "        while nodo_actual:\n",
    "            datos.append(nodo_actual.dato)\n",
    "            nodo_actual = nodo_actual.proximo\n",
    "        return \" -> \".join(datos)\n",
    "\n",
    "    def __repr__(self):\n",
    "        return self.__str__()"
   ]
  },
  {
   "cell_type": "code",
   "execution_count": 99,
   "id": "ab4afee4",
   "metadata": {
    "execution": {
     "iopub.execute_input": "2021-04-21T00:35:49.817099Z",
     "iopub.status.busy": "2021-04-21T00:35:49.815050Z",
     "iopub.status.idle": "2021-04-21T00:35:49.819349Z",
     "shell.execute_reply": "2021-04-21T00:35:49.818954Z"
    },
    "slideshow": {
     "slide_type": "slide"
    }
   },
   "outputs": [
    {
     "data": {
      "text/plain": [
       "2"
      ]
     },
     "execution_count": 1,
     "metadata": {},
     "output_type": "execute_result"
    }
   ],
   "source": [
    "lista = ListaEnlazada()\n",
    "lista.insertar_al_principio(\"Primer Dato\")\n",
    "lista.insertar_al_principio(\"Primer primer Dato\")\n",
    "len(lista)"
   ]
  },
  {
   "cell_type": "code",
   "execution_count": 100,
   "id": "a0faf610",
   "metadata": {
    "execution": {
     "iopub.execute_input": "2021-04-21T00:35:49.823020Z",
     "iopub.status.busy": "2021-04-21T00:35:49.822524Z",
     "iopub.status.idle": "2021-04-21T00:35:49.824851Z",
     "shell.execute_reply": "2021-04-21T00:35:49.825245Z"
    }
   },
   "outputs": [
    {
     "data": {
      "text/plain": [
       "Primer primer Dato -> Primer Dato"
      ]
     },
     "execution_count": 1,
     "metadata": {},
     "output_type": "execute_result"
    }
   ],
   "source": [
    "lista"
   ]
  },
  {
   "cell_type": "code",
   "execution_count": 101,
   "id": "c728b763",
   "metadata": {
    "execution": {
     "iopub.execute_input": "2021-04-21T00:35:49.829379Z",
     "iopub.status.busy": "2021-04-21T00:35:49.828281Z",
     "iopub.status.idle": "2021-04-21T00:35:49.830949Z",
     "shell.execute_reply": "2021-04-21T00:35:49.830530Z"
    },
    "slideshow": {
     "slide_type": "slide"
    }
   },
   "outputs": [
    {
     "name": "stdout",
     "output_type": "stream",
     "text": [
      "Primer primer Dato\n"
     ]
    }
   ],
   "source": [
    "elemento = lista.primero\n",
    "print(elemento)"
   ]
  },
  {
   "cell_type": "markdown",
   "id": "5f3b6b18",
   "metadata": {},
   "source": [
    "## Recursos\n",
    "\n",
    "* [Taller de Python de Algoritmos II](https://github.com/algoritmos-rw/algo2_apuntes)\n",
    "\n",
    "* [Documentación de Python 3](https://docs.python.org/3/tutorial/)\n",
    "\n",
    "* [Apunte de Algoritmos y Programación I](https://algoritmos1rw.ddns.net/material)\n",
    "\n",
    "* [Automate the Boring Stuff with Python](http://automatetheboringstuff.com/)\n",
    "\n",
    "* [Curso Python](https://pythoncurso.github.io)\n",
    "\n",
    "* [Python Tutor](http://pythontutor.com/)\n",
    "\n",
    "* [Learn Python3 in Y minutes](https://learnxinyminutes.com/docs/python3/)\n",
    "\n",
    "* [Bibliografía de Algoritmos y Programación I](https://algoritmos1rw.ddns.net/bibliografia)"
   ]
  }
 ],
 "metadata": {
  "jupytext": {
   "encoding": "# -*- coding: utf-8 -*-",
   "formats": "ipynb,py:light"
  },
  "kernelspec": {
   "display_name": "Python 3 (venv)",
   "language": "python",
   "name": "python3"
  },
  "language_info": {
   "codemirror_mode": {
    "name": "ipython",
    "version": 3
   },
   "file_extension": ".py",
   "mimetype": "text/x-python",
   "name": "python",
   "nbconvert_exporter": "python",
   "pygments_lexer": "ipython3",
   "version": "3.7.10"
  }
 },
 "nbformat": 4,
 "nbformat_minor": 5
}
