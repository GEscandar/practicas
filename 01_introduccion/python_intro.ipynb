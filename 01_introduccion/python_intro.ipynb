{
 "cells": [
  {
   "cell_type": "markdown",
   "id": "233eba82",
   "metadata": {},
   "source": [
    "# Python"
   ]
  },
  {
   "cell_type": "markdown",
   "id": "2494c274",
   "metadata": {
    "slideshow": {
     "slide_type": "slide"
    }
   },
   "source": [
    "## Un poco de Historia"
   ]
  },
  {
   "cell_type": "markdown",
   "id": "43dd26a3",
   "metadata": {
    "slideshow": {
     "slide_type": "subslide"
    }
   },
   "source": [
    "Python fue creado a finales de los años 80 por un programador holandés llamado **Guido van Rossum**,\n",
    "quien sigue siendo aún hoy el líder del desarrollo del lenguaje.\n",
    "\n",
    "(Edit julio 2018: [ya no más](https://www.mail-archive.com/python-committers@python.org/msg05628.html))"
   ]
  },
  {
   "cell_type": "markdown",
   "id": "9302d047",
   "metadata": {
    "slideshow": {
     "slide_type": "subslide"
    }
   },
   "source": [
    "El nombre del lenguaje proviene de los humoristas británicos Monty Python.\n",
    "\n",
    ">*\"I chose Python as a working title for the project, being in a slightly irreverent mood (and a big fan of Monty Python's Flying Circus).\"*"
   ]
  },
  {
   "cell_type": "markdown",
   "id": "061813e3",
   "metadata": {
    "slideshow": {
     "slide_type": "slide"
    }
   },
   "source": [
    "## Caracteristicas\n",
    "\n",
    "- Interpretado\n",
    "- Tipado dinamico\n",
    "- Multiparadigma\n",
    "- Alto nivel\n",
    "- Tiene un recolector de basura (no hay malloc, free, realloc, etc)"
   ]
  },
  {
   "cell_type": "markdown",
   "id": "6a47e273",
   "metadata": {},
   "source": [
    "## ¿Cómo empezar?\n",
    "\n",
    "* Al ser un lenguaje *interpretado*, se puede ir escribiendo a medida que se ejecuta, sin necesidad de compilar de antemano! Solamente hace falta escribir `python` o `python3` en una terminal para empezar\n",
    "\n",
    "* También, permite escribir archivos y correrlos. Crear un archivo con extensión `.py` y luego correr `python miarchivo.py` en laterminal"
   ]
  },
  {
   "cell_type": "markdown",
   "id": "235c9256",
   "metadata": {
    "slideshow": {
     "slide_type": "slide"
    }
   },
   "source": [
    "## El Zen de Python"
   ]
  },
  {
   "cell_type": "code",
   "execution_count": 1,
   "id": "20cc0c87",
   "metadata": {
    "execution": {
     "iopub.execute_input": "2021-09-28T21:11:29.547823Z",
     "iopub.status.busy": "2021-09-28T21:11:29.547271Z",
     "iopub.status.idle": "2021-09-28T21:11:29.566952Z",
     "shell.execute_reply": "2021-09-28T21:11:29.566304Z"
    },
    "slideshow": {
     "slide_type": "slide"
    }
   },
   "outputs": [
    {
     "name": "stdout",
     "output_type": "stream",
     "text": [
      "The Zen of Python, by Tim Peters\n",
      "\n",
      "Beautiful is better than ugly.\n",
      "Explicit is better than implicit.\n",
      "Simple is better than complex.\n",
      "Complex is better than complicated.\n",
      "Flat is better than nested.\n",
      "Sparse is better than dense.\n",
      "Readability counts.\n",
      "Special cases aren't special enough to break the rules.\n",
      "Although practicality beats purity.\n",
      "Errors should never pass silently.\n",
      "Unless explicitly silenced.\n",
      "In the face of ambiguity, refuse the temptation to guess.\n",
      "There should be one-- and preferably only one --obvious way to do it.\n",
      "Although that way may not be obvious at first unless you're Dutch.\n",
      "Now is better than never.\n",
      "Although never is often better than *right* now.\n",
      "If the implementation is hard to explain, it's a bad idea.\n",
      "If the implementation is easy to explain, it may be a good idea.\n",
      "Namespaces are one honking great idea -- let's do more of those!\n"
     ]
    }
   ],
   "source": [
    "import this"
   ]
  },
  {
   "cell_type": "markdown",
   "id": "dbbc1fca",
   "metadata": {
    "slideshow": {
     "slide_type": "slide"
    }
   },
   "source": [
    "## Conocimientos Básicos de Python: Variables y Tipos"
   ]
  },
  {
   "cell_type": "code",
   "execution_count": 2,
   "id": "44ff3121",
   "metadata": {
    "execution": {
     "iopub.execute_input": "2021-09-28T21:11:29.572301Z",
     "iopub.status.busy": "2021-09-28T21:11:29.571692Z",
     "iopub.status.idle": "2021-09-28T21:11:29.573919Z",
     "shell.execute_reply": "2021-09-28T21:11:29.574345Z"
    },
    "slideshow": {
     "slide_type": "slide"
    }
   },
   "outputs": [
    {
     "name": "stdout",
     "output_type": "stream",
     "text": [
      "Hello World!\n"
     ]
    }
   ],
   "source": [
    "# Este es un comentario\n",
    "\n",
    "print(\"Hello World!\")"
   ]
  },
  {
   "cell_type": "markdown",
   "id": "8f0c54d9",
   "metadata": {},
   "source": [
    "Los strings en python puden escribirse tanto con comillas simples (`'`) como comillas dobles (`\"`). Normalmente vemos texto entre comillas triples para escribir _docstrings_, segun la guia de estilo de Python, el PEP8."
   ]
  },
  {
   "cell_type": "code",
   "execution_count": 3,
   "id": "ce963104",
   "metadata": {
    "execution": {
     "iopub.execute_input": "2021-09-28T21:11:29.586905Z",
     "iopub.status.busy": "2021-09-28T21:11:29.585998Z",
     "iopub.status.idle": "2021-09-28T21:11:29.592728Z",
     "shell.execute_reply": "2021-09-28T21:11:29.593169Z"
    }
   },
   "outputs": [
    {
     "data": {
      "text/plain": [
       "'Esto es un docstring.\\n'"
      ]
     },
     "execution_count": 3,
     "metadata": {},
     "output_type": "execute_result"
    }
   ],
   "source": [
    "\"\"\"Esto es un docstring.\n",
    "\"\"\""
   ]
  },
  {
   "cell_type": "markdown",
   "id": "fa2b9e57",
   "metadata": {},
   "source": [
    "### Declaracion de variables"
   ]
  },
  {
   "cell_type": "code",
   "execution_count": 4,
   "id": "05f8267e",
   "metadata": {
    "execution": {
     "iopub.execute_input": "2021-09-28T21:11:29.599016Z",
     "iopub.status.busy": "2021-09-28T21:11:29.598451Z",
     "iopub.status.idle": "2021-09-28T21:11:29.603539Z",
     "shell.execute_reply": "2021-09-28T21:11:29.602680Z"
    }
   },
   "outputs": [
    {
     "name": "stdout",
     "output_type": "stream",
     "text": [
      "Hola\n"
     ]
    }
   ],
   "source": [
    "string = 'Hola'\n",
    "print(string)"
   ]
  },
  {
   "cell_type": "code",
   "execution_count": 5,
   "id": "23aec55a",
   "metadata": {
    "execution": {
     "iopub.execute_input": "2021-09-28T21:11:29.608139Z",
     "iopub.status.busy": "2021-09-28T21:11:29.607519Z",
     "iopub.status.idle": "2021-09-28T21:11:29.612042Z",
     "shell.execute_reply": "2021-09-28T21:11:29.611480Z"
    }
   },
   "outputs": [
    {
     "name": "stdout",
     "output_type": "stream",
     "text": [
      "1\n"
     ]
    }
   ],
   "source": [
    "entero = 1\n",
    "print(entero)"
   ]
  },
  {
   "cell_type": "code",
   "execution_count": 6,
   "id": "7940e73f",
   "metadata": {
    "execution": {
     "iopub.execute_input": "2021-09-28T21:11:29.618279Z",
     "iopub.status.busy": "2021-09-28T21:11:29.616800Z",
     "iopub.status.idle": "2021-09-28T21:11:29.620247Z",
     "shell.execute_reply": "2021-09-28T21:11:29.619696Z"
    }
   },
   "outputs": [
    {
     "name": "stdout",
     "output_type": "stream",
     "text": [
      "1.0\n"
     ]
    }
   ],
   "source": [
    "flotante = 1.0\n",
    "print(flotante)"
   ]
  },
  {
   "cell_type": "code",
   "execution_count": 7,
   "id": "5494d61c",
   "metadata": {
    "execution": {
     "iopub.execute_input": "2021-09-28T21:11:29.626476Z",
     "iopub.status.busy": "2021-09-28T21:11:29.624976Z",
     "iopub.status.idle": "2021-09-28T21:11:29.628442Z",
     "shell.execute_reply": "2021-09-28T21:11:29.627903Z"
    }
   },
   "outputs": [
    {
     "name": "stdout",
     "output_type": "stream",
     "text": [
      "(1, 1.0)\n"
     ]
    }
   ],
   "source": [
    "tupla = (entero, flotante)\n",
    "print(tupla)"
   ]
  },
  {
   "cell_type": "code",
   "execution_count": 8,
   "id": "14c81011",
   "metadata": {
    "execution": {
     "iopub.execute_input": "2021-09-28T21:11:29.634640Z",
     "iopub.status.busy": "2021-09-28T21:11:29.633191Z",
     "iopub.status.idle": "2021-09-28T21:11:29.636936Z",
     "shell.execute_reply": "2021-09-28T21:11:29.636257Z"
    }
   },
   "outputs": [
    {
     "name": "stdout",
     "output_type": "stream",
     "text": [
      "(1, 1.0, 'Hola')\n"
     ]
    }
   ],
   "source": [
    "nupla = (entero, flotante, string)\n",
    "print(nupla)"
   ]
  },
  {
   "cell_type": "code",
   "execution_count": 9,
   "id": "95f4d6cd",
   "metadata": {
    "execution": {
     "iopub.execute_input": "2021-09-28T21:11:29.641805Z",
     "iopub.status.busy": "2021-09-28T21:11:29.639483Z",
     "iopub.status.idle": "2021-09-28T21:11:29.643252Z",
     "shell.execute_reply": "2021-09-28T21:11:29.643745Z"
    }
   },
   "outputs": [
    {
     "name": "stdout",
     "output_type": "stream",
     "text": [
      "[1, 1.0, 'Hola']\n"
     ]
    }
   ],
   "source": [
    "lista = [entero, flotante, string]\n",
    "print(lista)"
   ]
  },
  {
   "cell_type": "code",
   "execution_count": 10,
   "id": "e7e71b79",
   "metadata": {
    "execution": {
     "iopub.execute_input": "2021-09-28T21:11:29.648836Z",
     "iopub.status.busy": "2021-09-28T21:11:29.648256Z",
     "iopub.status.idle": "2021-09-28T21:11:29.650137Z",
     "shell.execute_reply": "2021-09-28T21:11:29.650676Z"
    }
   },
   "outputs": [
    {
     "name": "stdout",
     "output_type": "stream",
     "text": [
      "{'1': (1, 1.0), 50: (1, 1.0, 'Hola'), '3': 1}\n"
     ]
    }
   ],
   "source": [
    "diccionario = {'1': tupla, 50: nupla, '3': entero}\n",
    "print(diccionario)"
   ]
  },
  {
   "cell_type": "code",
   "execution_count": 11,
   "id": "0e1ac29e",
   "metadata": {
    "execution": {
     "iopub.execute_input": "2021-09-28T21:11:29.655686Z",
     "iopub.status.busy": "2021-09-28T21:11:29.653514Z",
     "iopub.status.idle": "2021-09-28T21:11:29.657959Z",
     "shell.execute_reply": "2021-09-28T21:11:29.658420Z"
    }
   },
   "outputs": [
    {
     "name": "stdout",
     "output_type": "stream",
     "text": [
      "{1, 2}\n"
     ]
    }
   ],
   "source": [
    "conjunto = set([1, 2])\n",
    "print(conjunto)"
   ]
  },
  {
   "cell_type": "code",
   "execution_count": 12,
   "id": "c955be6c",
   "metadata": {
    "execution": {
     "iopub.execute_input": "2021-09-28T21:11:29.663020Z",
     "iopub.status.busy": "2021-09-28T21:11:29.662426Z",
     "iopub.status.idle": "2021-09-28T21:11:29.664397Z",
     "shell.execute_reply": "2021-09-28T21:11:29.664992Z"
    }
   },
   "outputs": [
    {
     "name": "stdout",
     "output_type": "stream",
     "text": [
      "True\n"
     ]
    }
   ],
   "source": [
    "booleano = True\n",
    "print(booleano)"
   ]
  },
  {
   "cell_type": "code",
   "execution_count": 13,
   "id": "29eca14e",
   "metadata": {
    "execution": {
     "iopub.execute_input": "2021-09-28T21:11:29.669262Z",
     "iopub.status.busy": "2021-09-28T21:11:29.668699Z",
     "iopub.status.idle": "2021-09-28T21:11:29.671088Z",
     "shell.execute_reply": "2021-09-28T21:11:29.671551Z"
    }
   },
   "outputs": [
    {
     "name": "stdout",
     "output_type": "stream",
     "text": [
      "None\n"
     ]
    }
   ],
   "source": [
    "nada = None\n",
    "print(nada)"
   ]
  },
  {
   "cell_type": "markdown",
   "id": "e00d4c85",
   "metadata": {},
   "source": [
    "Ojo que las variables pueden cambiar de tipo!"
   ]
  },
  {
   "cell_type": "code",
   "execution_count": 14,
   "id": "e127f018",
   "metadata": {
    "execution": {
     "iopub.execute_input": "2021-09-28T21:11:29.676067Z",
     "iopub.status.busy": "2021-09-28T21:11:29.675346Z",
     "iopub.status.idle": "2021-09-28T21:11:29.678594Z",
     "shell.execute_reply": "2021-09-28T21:11:29.677979Z"
    }
   },
   "outputs": [
    {
     "name": "stdout",
     "output_type": "stream",
     "text": [
      "1\n",
      "<class 'int'>\n"
     ]
    }
   ],
   "source": [
    "elemento = 1\n",
    "print(elemento)\n",
    "print(type(elemento))"
   ]
  },
  {
   "cell_type": "code",
   "execution_count": 15,
   "id": "e9ab179b",
   "metadata": {
    "execution": {
     "iopub.execute_input": "2021-09-28T21:11:29.683196Z",
     "iopub.status.busy": "2021-09-28T21:11:29.682465Z",
     "iopub.status.idle": "2021-09-28T21:11:29.685528Z",
     "shell.execute_reply": "2021-09-28T21:11:29.685036Z"
    }
   },
   "outputs": [
    {
     "name": "stdout",
     "output_type": "stream",
     "text": [
      "1\n",
      "<class 'str'>\n"
     ]
    }
   ],
   "source": [
    "elemento = str(1)\n",
    "print(elemento)\n",
    "print(type(elemento))"
   ]
  },
  {
   "cell_type": "code",
   "execution_count": 16,
   "id": "c8ffaa40",
   "metadata": {
    "execution": {
     "iopub.execute_input": "2021-09-28T21:11:29.690298Z",
     "iopub.status.busy": "2021-09-28T21:11:29.689724Z",
     "iopub.status.idle": "2021-09-28T21:11:29.693606Z",
     "shell.execute_reply": "2021-09-28T21:11:29.694043Z"
    }
   },
   "outputs": [
    {
     "name": "stdout",
     "output_type": "stream",
     "text": [
      "[2]\n",
      "<class 'list'>\n"
     ]
    }
   ],
   "source": [
    "elemento = [2]\n",
    "\n",
    "print(elemento)\n",
    "print(type(elemento))"
   ]
  },
  {
   "cell_type": "markdown",
   "id": "1f6dd41d",
   "metadata": {},
   "source": [
    "### Tipos basicos"
   ]
  },
  {
   "cell_type": "markdown",
   "id": "bcbc70ed",
   "metadata": {
    "slideshow": {
     "slide_type": "slide"
    }
   },
   "source": [
    "#### Listas de Python"
   ]
  },
  {
   "cell_type": "code",
   "execution_count": 17,
   "id": "9aeea6ec",
   "metadata": {
    "execution": {
     "iopub.execute_input": "2021-09-28T21:11:29.700673Z",
     "iopub.status.busy": "2021-09-28T21:11:29.700090Z",
     "iopub.status.idle": "2021-09-28T21:11:29.704271Z",
     "shell.execute_reply": "2021-09-28T21:11:29.704713Z"
    }
   },
   "outputs": [
    {
     "data": {
      "text/plain": [
       "[]"
      ]
     },
     "execution_count": 17,
     "metadata": {},
     "output_type": "execute_result"
    }
   ],
   "source": [
    "lista = list()\n",
    "lista"
   ]
  },
  {
   "cell_type": "code",
   "execution_count": 18,
   "id": "566c2d63",
   "metadata": {
    "execution": {
     "iopub.execute_input": "2021-09-28T21:11:29.709302Z",
     "iopub.status.busy": "2021-09-28T21:11:29.708740Z",
     "iopub.status.idle": "2021-09-28T21:11:29.713220Z",
     "shell.execute_reply": "2021-09-28T21:11:29.712752Z"
    },
    "slideshow": {
     "slide_type": "slide"
    }
   },
   "outputs": [
    {
     "data": {
      "text/plain": [
       "[]"
      ]
     },
     "execution_count": 18,
     "metadata": {},
     "output_type": "execute_result"
    }
   ],
   "source": [
    "lista = []\n",
    "lista"
   ]
  },
  {
   "cell_type": "code",
   "execution_count": 19,
   "id": "62e01de6",
   "metadata": {
    "execution": {
     "iopub.execute_input": "2021-09-28T21:11:29.718230Z",
     "iopub.status.busy": "2021-09-28T21:11:29.717493Z",
     "iopub.status.idle": "2021-09-28T21:11:29.721926Z",
     "shell.execute_reply": "2021-09-28T21:11:29.721430Z"
    },
    "slideshow": {
     "slide_type": "slide"
    }
   },
   "outputs": [
    {
     "data": {
      "text/plain": [
       "[1, 2, 3, 4]"
      ]
     },
     "execution_count": 19,
     "metadata": {},
     "output_type": "execute_result"
    }
   ],
   "source": [
    "lista = [1, 2, 3, 4]\n",
    "lista"
   ]
  },
  {
   "cell_type": "code",
   "execution_count": 20,
   "id": "97a09f1d",
   "metadata": {
    "execution": {
     "iopub.execute_input": "2021-09-28T21:11:29.727466Z",
     "iopub.status.busy": "2021-09-28T21:11:29.724680Z",
     "iopub.status.idle": "2021-09-28T21:11:29.729766Z",
     "shell.execute_reply": "2021-09-28T21:11:29.730229Z"
    },
    "slideshow": {
     "slide_type": "slide"
    }
   },
   "outputs": [
    {
     "data": {
      "text/plain": [
       "[1, 2, 3, 4, 1, 'dos', 3.0]"
      ]
     },
     "execution_count": 20,
     "metadata": {},
     "output_type": "execute_result"
    }
   ],
   "source": [
    "lista.append(1)  # Inserto un 1 al final\n",
    "lista.append(\"dos\")  # Inserto un \"dos\" al final\n",
    "lista.append(3.0)  # Inserto un 3.0 al final\n",
    "lista"
   ]
  },
  {
   "cell_type": "code",
   "execution_count": 21,
   "id": "3efb78c8",
   "metadata": {
    "execution": {
     "iopub.execute_input": "2021-09-28T21:11:29.734982Z",
     "iopub.status.busy": "2021-09-28T21:11:29.734422Z",
     "iopub.status.idle": "2021-09-28T21:11:29.736342Z",
     "shell.execute_reply": "2021-09-28T21:11:29.736803Z"
    }
   },
   "outputs": [
    {
     "name": "stdout",
     "output_type": "stream",
     "text": [
      "[1, 2, 10, 3, 4, 1, 'dos', 3.0]\n"
     ]
    }
   ],
   "source": [
    "lista.insert(2, 10)  # Inserto en posicion 2 un 10\n",
    "print(lista)"
   ]
  },
  {
   "cell_type": "code",
   "execution_count": 22,
   "id": "dea1a9f1",
   "metadata": {
    "execution": {
     "iopub.execute_input": "2021-09-28T21:11:29.741092Z",
     "iopub.status.busy": "2021-09-28T21:11:29.740528Z",
     "iopub.status.idle": "2021-09-28T21:11:29.744632Z",
     "shell.execute_reply": "2021-09-28T21:11:29.745098Z"
    }
   },
   "outputs": [
    {
     "data": {
      "text/plain": [
       "8"
      ]
     },
     "execution_count": 22,
     "metadata": {},
     "output_type": "execute_result"
    }
   ],
   "source": [
    "len(lista)"
   ]
  },
  {
   "cell_type": "code",
   "execution_count": 23,
   "id": "3593b746",
   "metadata": {
    "execution": {
     "iopub.execute_input": "2021-09-28T21:11:29.749705Z",
     "iopub.status.busy": "2021-09-28T21:11:29.749120Z",
     "iopub.status.idle": "2021-09-28T21:11:29.751406Z",
     "shell.execute_reply": "2021-09-28T21:11:29.751864Z"
    }
   },
   "outputs": [
    {
     "data": {
      "text/plain": [
       "3.0"
      ]
     },
     "execution_count": 23,
     "metadata": {},
     "output_type": "execute_result"
    }
   ],
   "source": [
    "lista.pop()"
   ]
  },
  {
   "cell_type": "code",
   "execution_count": 24,
   "id": "9221a7a0",
   "metadata": {
    "execution": {
     "iopub.execute_input": "2021-09-28T21:11:29.756148Z",
     "iopub.status.busy": "2021-09-28T21:11:29.755560Z",
     "iopub.status.idle": "2021-09-28T21:11:29.758952Z",
     "shell.execute_reply": "2021-09-28T21:11:29.758452Z"
    }
   },
   "outputs": [
    {
     "data": {
      "text/plain": [
       "[1, 2, 10, 3, 4, 1, 'dos']"
      ]
     },
     "execution_count": 24,
     "metadata": {},
     "output_type": "execute_result"
    }
   ],
   "source": [
    "lista"
   ]
  },
  {
   "cell_type": "code",
   "execution_count": 25,
   "id": "9bafaa97",
   "metadata": {
    "execution": {
     "iopub.execute_input": "2021-09-28T21:11:29.763696Z",
     "iopub.status.busy": "2021-09-28T21:11:29.763112Z",
     "iopub.status.idle": "2021-09-28T21:11:29.765365Z",
     "shell.execute_reply": "2021-09-28T21:11:29.765798Z"
    }
   },
   "outputs": [
    {
     "data": {
      "text/plain": [
       "2"
      ]
     },
     "execution_count": 25,
     "metadata": {},
     "output_type": "execute_result"
    }
   ],
   "source": [
    "lista.index(10)"
   ]
  },
  {
   "cell_type": "code",
   "execution_count": 26,
   "id": "d675cd37",
   "metadata": {
    "execution": {
     "iopub.execute_input": "2021-09-28T21:11:29.770787Z",
     "iopub.status.busy": "2021-09-28T21:11:29.770227Z",
     "iopub.status.idle": "2021-09-28T21:11:29.775599Z",
     "shell.execute_reply": "2021-09-28T21:11:29.775128Z"
    }
   },
   "outputs": [
    {
     "data": {
      "text/plain": [
       "[1, 2, 3, 4, 1, 'dos']"
      ]
     },
     "execution_count": 26,
     "metadata": {},
     "output_type": "execute_result"
    }
   ],
   "source": [
    "lista.remove(10)\n",
    "lista"
   ]
  },
  {
   "cell_type": "code",
   "execution_count": 27,
   "id": "55e8817c",
   "metadata": {
    "execution": {
     "iopub.execute_input": "2021-09-28T21:11:29.779676Z",
     "iopub.status.busy": "2021-09-28T21:11:29.779112Z",
     "iopub.status.idle": "2021-09-28T21:11:29.858813Z",
     "shell.execute_reply": "2021-09-28T21:11:29.859287Z"
    },
    "tags": [
     "raises-exception"
    ]
   },
   "outputs": [
    {
     "name": "stdout",
     "output_type": "stream",
     "text": [
      "1\n",
      "2\n",
      "2\n",
      "3\n",
      "3\n",
      "4\n",
      "4\n",
      "5\n",
      "1\n",
      "2\n",
      "dos\n"
     ]
    },
    {
     "ename": "TypeError",
     "evalue": "can only concatenate str (not \"int\") to str",
     "output_type": "error",
     "traceback": [
      "\u001b[0;31m---------------------------------------------------------------------------\u001b[0m",
      "\u001b[0;31mTypeError\u001b[0m                                 Traceback (most recent call last)",
      "\u001b[0;32m/tmp/ipykernel_2089/1783555086.py\u001b[0m in \u001b[0;36m<module>\u001b[0;34m\u001b[0m\n\u001b[1;32m      1\u001b[0m \u001b[0;32mfor\u001b[0m \u001b[0melemento\u001b[0m \u001b[0;32min\u001b[0m \u001b[0mlista\u001b[0m\u001b[0;34m:\u001b[0m\u001b[0;34m\u001b[0m\u001b[0;34m\u001b[0m\u001b[0m\n\u001b[1;32m      2\u001b[0m     \u001b[0mprint\u001b[0m\u001b[0;34m(\u001b[0m\u001b[0melemento\u001b[0m\u001b[0;34m)\u001b[0m\u001b[0;34m\u001b[0m\u001b[0;34m\u001b[0m\u001b[0m\n\u001b[0;32m----> 3\u001b[0;31m     \u001b[0mprint\u001b[0m\u001b[0;34m(\u001b[0m\u001b[0melemento\u001b[0m \u001b[0;34m+\u001b[0m \u001b[0;36m1\u001b[0m\u001b[0;34m)\u001b[0m\u001b[0;34m\u001b[0m\u001b[0;34m\u001b[0m\u001b[0m\n\u001b[0m",
      "\u001b[0;31mTypeError\u001b[0m: can only concatenate str (not \"int\") to str"
     ]
    }
   ],
   "source": [
    "for elemento in lista:\n",
    "    print(elemento)\n",
    "    print(elemento + 1)"
   ]
  },
  {
   "cell_type": "code",
   "execution_count": 28,
   "id": "a790a1b1",
   "metadata": {
    "execution": {
     "iopub.execute_input": "2021-09-28T21:11:29.864429Z",
     "iopub.status.busy": "2021-09-28T21:11:29.863809Z",
     "iopub.status.idle": "2021-09-28T21:11:29.867773Z",
     "shell.execute_reply": "2021-09-28T21:11:29.868248Z"
    }
   },
   "outputs": [
    {
     "data": {
      "text/plain": [
       "[1, 2, 3, 4, 1, 'dos']"
      ]
     },
     "execution_count": 28,
     "metadata": {},
     "output_type": "execute_result"
    }
   ],
   "source": [
    "lista"
   ]
  },
  {
   "cell_type": "code",
   "execution_count": 29,
   "id": "d68218ed",
   "metadata": {
    "execution": {
     "iopub.execute_input": "2021-09-28T21:11:29.873579Z",
     "iopub.status.busy": "2021-09-28T21:11:29.872995Z",
     "iopub.status.idle": "2021-09-28T21:11:29.876944Z",
     "shell.execute_reply": "2021-09-28T21:11:29.875867Z"
    }
   },
   "outputs": [
    {
     "name": "stdout",
     "output_type": "stream",
     "text": [
      "0-ésimo elemento: 1\n",
      "1-ésimo elemento: 2\n",
      "2-ésimo elemento: 3\n",
      "3-ésimo elemento: 4\n",
      "4-ésimo elemento: 1\n",
      "5-ésimo elemento: dos\n"
     ]
    }
   ],
   "source": [
    "for i, elemento in enumerate(lista):\n",
    "    print(f\"{i}-ésimo elemento: {elemento}\")"
   ]
  },
  {
   "cell_type": "code",
   "execution_count": 30,
   "id": "10e6ff1c",
   "metadata": {
    "execution": {
     "iopub.execute_input": "2021-09-28T21:11:29.885118Z",
     "iopub.status.busy": "2021-09-28T21:11:29.880662Z",
     "iopub.status.idle": "2021-09-28T21:11:29.891083Z",
     "shell.execute_reply": "2021-09-28T21:11:29.890416Z"
    },
    "tags": [
     "raises-exception"
    ]
   },
   "outputs": [
    {
     "ename": "TypeError",
     "evalue": "'<' not supported between instances of 'str' and 'int'",
     "output_type": "error",
     "traceback": [
      "\u001b[0;31m---------------------------------------------------------------------------\u001b[0m",
      "\u001b[0;31mTypeError\u001b[0m                                 Traceback (most recent call last)",
      "\u001b[0;32m/tmp/ipykernel_2089/2266425520.py\u001b[0m in \u001b[0;36m<module>\u001b[0;34m\u001b[0m\n\u001b[0;32m----> 1\u001b[0;31m \u001b[0msorted\u001b[0m\u001b[0;34m(\u001b[0m\u001b[0mlista\u001b[0m\u001b[0;34m)\u001b[0m\u001b[0;34m\u001b[0m\u001b[0;34m\u001b[0m\u001b[0m\n\u001b[0m",
      "\u001b[0;31mTypeError\u001b[0m: '<' not supported between instances of 'str' and 'int'"
     ]
    }
   ],
   "source": [
    "sorted(lista)"
   ]
  },
  {
   "cell_type": "code",
   "execution_count": 31,
   "id": "9780523c",
   "metadata": {
    "execution": {
     "iopub.execute_input": "2021-09-28T21:11:29.896316Z",
     "iopub.status.busy": "2021-09-28T21:11:29.893706Z",
     "iopub.status.idle": "2021-09-28T21:11:29.899120Z",
     "shell.execute_reply": "2021-09-28T21:11:29.899702Z"
    }
   },
   "outputs": [],
   "source": [
    "lista.remove(\"dos\")"
   ]
  },
  {
   "cell_type": "code",
   "execution_count": 32,
   "id": "0f9520e6",
   "metadata": {
    "execution": {
     "iopub.execute_input": "2021-09-28T21:11:29.905344Z",
     "iopub.status.busy": "2021-09-28T21:11:29.904526Z",
     "iopub.status.idle": "2021-09-28T21:11:29.911840Z",
     "shell.execute_reply": "2021-09-28T21:11:29.911225Z"
    }
   },
   "outputs": [
    {
     "data": {
      "text/plain": [
       "[1, 1, 2, 3, 4]"
      ]
     },
     "execution_count": 32,
     "metadata": {},
     "output_type": "execute_result"
    }
   ],
   "source": [
    "sorted(lista)"
   ]
  },
  {
   "cell_type": "code",
   "execution_count": 33,
   "id": "984586b1",
   "metadata": {
    "execution": {
     "iopub.execute_input": "2021-09-28T21:11:29.918020Z",
     "iopub.status.busy": "2021-09-28T21:11:29.917173Z",
     "iopub.status.idle": "2021-09-28T21:11:29.920187Z",
     "shell.execute_reply": "2021-09-28T21:11:29.920655Z"
    }
   },
   "outputs": [
    {
     "data": {
      "text/plain": [
       "[1, 1, 2, 3, 4]"
      ]
     },
     "execution_count": 33,
     "metadata": {},
     "output_type": "execute_result"
    }
   ],
   "source": [
    "lista.sort()\n",
    "lista"
   ]
  },
  {
   "cell_type": "markdown",
   "id": "ebcd335a",
   "metadata": {
    "slideshow": {
     "slide_type": "slide"
    }
   },
   "source": [
    "#### Tuplas de Python\n",
    "\n",
    "Las tuplas son inmutables. No se pueden agregar elementos luego de creadas."
   ]
  },
  {
   "cell_type": "code",
   "execution_count": 34,
   "id": "8f0ad2d0",
   "metadata": {
    "execution": {
     "iopub.execute_input": "2021-09-28T21:11:29.926774Z",
     "iopub.status.busy": "2021-09-28T21:11:29.926201Z",
     "iopub.status.idle": "2021-09-28T21:11:29.934244Z",
     "shell.execute_reply": "2021-09-28T21:11:29.934741Z"
    },
    "slideshow": {
     "slide_type": "slide"
    },
    "tags": [
     "raises-exception"
    ]
   },
   "outputs": [
    {
     "name": "stdout",
     "output_type": "stream",
     "text": [
      "(1, 2)\n",
      "1\n",
      "2\n"
     ]
    },
    {
     "ename": "TypeError",
     "evalue": "'tuple' object does not support item assignment",
     "output_type": "error",
     "traceback": [
      "\u001b[0;31m---------------------------------------------------------------------------\u001b[0m",
      "\u001b[0;31mTypeError\u001b[0m                                 Traceback (most recent call last)",
      "\u001b[0;32m/tmp/ipykernel_2089/3644040918.py\u001b[0m in \u001b[0;36m<module>\u001b[0;34m\u001b[0m\n\u001b[1;32m      5\u001b[0m \u001b[0mprint\u001b[0m\u001b[0;34m(\u001b[0m\u001b[0mtupla\u001b[0m\u001b[0;34m[\u001b[0m\u001b[0;36m1\u001b[0m\u001b[0;34m]\u001b[0m\u001b[0;34m)\u001b[0m\u001b[0;34m\u001b[0m\u001b[0;34m\u001b[0m\u001b[0m\n\u001b[1;32m      6\u001b[0m \u001b[0;34m\u001b[0m\u001b[0m\n\u001b[0;32m----> 7\u001b[0;31m \u001b[0mtupla\u001b[0m\u001b[0;34m[\u001b[0m\u001b[0;36m1\u001b[0m\u001b[0;34m]\u001b[0m \u001b[0;34m=\u001b[0m \u001b[0;36m3\u001b[0m  \u001b[0;31m# Falla. No se puede mutar\u001b[0m\u001b[0;34m\u001b[0m\u001b[0;34m\u001b[0m\u001b[0m\n\u001b[0m",
      "\u001b[0;31mTypeError\u001b[0m: 'tuple' object does not support item assignment"
     ]
    }
   ],
   "source": [
    "tupla = (1, 2)\n",
    "\n",
    "print(tupla)\n",
    "print(tupla[0])\n",
    "print(tupla[1])\n",
    "\n",
    "tupla[1] = 3  # Falla. No se puede mutar"
   ]
  },
  {
   "cell_type": "code",
   "execution_count": 35,
   "id": "05658118",
   "metadata": {
    "execution": {
     "iopub.execute_input": "2021-09-28T21:11:29.941424Z",
     "iopub.status.busy": "2021-09-28T21:11:29.940614Z",
     "iopub.status.idle": "2021-09-28T21:11:29.943688Z",
     "shell.execute_reply": "2021-09-28T21:11:29.944181Z"
    }
   },
   "outputs": [
    {
     "data": {
      "text/plain": [
       "[1, 2]"
      ]
     },
     "execution_count": 35,
     "metadata": {},
     "output_type": "execute_result"
    }
   ],
   "source": [
    "l = [1, 2]\n",
    "l"
   ]
  },
  {
   "cell_type": "code",
   "execution_count": 36,
   "id": "769a16b4",
   "metadata": {
    "execution": {
     "iopub.execute_input": "2021-09-28T21:11:29.949167Z",
     "iopub.status.busy": "2021-09-28T21:11:29.946496Z",
     "iopub.status.idle": "2021-09-28T21:11:29.951454Z",
     "shell.execute_reply": "2021-09-28T21:11:29.951922Z"
    }
   },
   "outputs": [
    {
     "data": {
      "text/plain": [
       "[1, 3]"
      ]
     },
     "execution_count": 36,
     "metadata": {},
     "output_type": "execute_result"
    }
   ],
   "source": [
    "l[1] = 3\n",
    "l"
   ]
  },
  {
   "cell_type": "markdown",
   "id": "e0b16d0c",
   "metadata": {
    "slideshow": {
     "slide_type": "slide"
    }
   },
   "source": [
    "#### Diferencia entre lista y tupla\n",
    "Las listas se caracterizan por ser mutables, es decir, se puede cambiar su contenido en tiempo de ejecución, mientras que las tuplas son inmutables ya que no es posible modificar el contenido una vez creada."
   ]
  },
  {
   "cell_type": "markdown",
   "id": "a9afcbc7",
   "metadata": {},
   "source": [
    "#### Slices\n",
    "\n",
    "**Valen para listas, tuplas o strings (_segmentos_)**"
   ]
  },
  {
   "cell_type": "code",
   "execution_count": 37,
   "id": "c02ffc26",
   "metadata": {
    "execution": {
     "iopub.execute_input": "2021-09-28T21:11:29.962352Z",
     "iopub.status.busy": "2021-09-28T21:11:29.956666Z",
     "iopub.status.idle": "2021-09-28T21:11:29.965974Z",
     "shell.execute_reply": "2021-09-28T21:11:29.963320Z"
    }
   },
   "outputs": [],
   "source": [
    "numeros = [0, 1, 2, 3, 4, 5, 6, 7, 8, 9, 10]"
   ]
  },
  {
   "cell_type": "code",
   "execution_count": 38,
   "id": "9643b647",
   "metadata": {
    "execution": {
     "iopub.execute_input": "2021-09-28T21:11:29.970663Z",
     "iopub.status.busy": "2021-09-28T21:11:29.969869Z",
     "iopub.status.idle": "2021-09-28T21:11:29.974695Z",
     "shell.execute_reply": "2021-09-28T21:11:29.974100Z"
    }
   },
   "outputs": [
    {
     "name": "stdout",
     "output_type": "stream",
     "text": [
      "[0, 1, 2, 3, 4, 5, 6, 7, 8, 9, 10]\n"
     ]
    }
   ],
   "source": [
    "print(numeros)"
   ]
  },
  {
   "cell_type": "code",
   "execution_count": 39,
   "id": "744012f5",
   "metadata": {
    "execution": {
     "iopub.execute_input": "2021-09-28T21:11:29.979417Z",
     "iopub.status.busy": "2021-09-28T21:11:29.978848Z",
     "iopub.status.idle": "2021-09-28T21:11:29.982362Z",
     "shell.execute_reply": "2021-09-28T21:11:29.982837Z"
    }
   },
   "outputs": [
    {
     "name": "stdout",
     "output_type": "stream",
     "text": [
      "2\n"
     ]
    }
   ],
   "source": [
    "print(numeros[2])  # Imprimo elemento en la posición 2"
   ]
  },
  {
   "cell_type": "code",
   "execution_count": 40,
   "id": "ae593081",
   "metadata": {
    "execution": {
     "iopub.execute_input": "2021-09-28T21:11:29.988479Z",
     "iopub.status.busy": "2021-09-28T21:11:29.987857Z",
     "iopub.status.idle": "2021-09-28T21:11:29.990917Z",
     "shell.execute_reply": "2021-09-28T21:11:29.990412Z"
    }
   },
   "outputs": [
    {
     "data": {
      "text/plain": [
       "10"
      ]
     },
     "execution_count": 40,
     "metadata": {},
     "output_type": "execute_result"
    }
   ],
   "source": [
    "numeros[len(numeros) - 1]"
   ]
  },
  {
   "cell_type": "code",
   "execution_count": 41,
   "id": "af7a833b",
   "metadata": {
    "execution": {
     "iopub.execute_input": "2021-09-28T21:11:29.995508Z",
     "iopub.status.busy": "2021-09-28T21:11:29.994923Z",
     "iopub.status.idle": "2021-09-28T21:11:29.997089Z",
     "shell.execute_reply": "2021-09-28T21:11:29.997549Z"
    },
    "lines_to_next_cell": 2
   },
   "outputs": [
    {
     "name": "stdout",
     "output_type": "stream",
     "text": [
      "10\n"
     ]
    }
   ],
   "source": [
    "print(numeros[-1])  # # Imprimo elemento en la última posición"
   ]
  },
  {
   "cell_type": "code",
   "execution_count": 42,
   "id": "a13176bb",
   "metadata": {
    "execution": {
     "iopub.execute_input": "2021-09-28T21:11:30.007035Z",
     "iopub.status.busy": "2021-09-28T21:11:30.006426Z",
     "iopub.status.idle": "2021-09-28T21:11:30.011010Z",
     "shell.execute_reply": "2021-09-28T21:11:30.010499Z"
    },
    "lines_to_next_cell": 2
   },
   "outputs": [
    {
     "data": {
      "text/plain": [
       "9"
      ]
     },
     "execution_count": 42,
     "metadata": {},
     "output_type": "execute_result"
    }
   ],
   "source": [
    "numeros[-2]"
   ]
  },
  {
   "cell_type": "code",
   "execution_count": 43,
   "id": "a5286ddb",
   "metadata": {
    "execution": {
     "iopub.execute_input": "2021-09-28T21:11:30.015774Z",
     "iopub.status.busy": "2021-09-28T21:11:30.015207Z",
     "iopub.status.idle": "2021-09-28T21:11:30.017193Z",
     "shell.execute_reply": "2021-09-28T21:11:30.017647Z"
    }
   },
   "outputs": [
    {
     "name": "stdout",
     "output_type": "stream",
     "text": [
      "[0, 1, 2]\n"
     ]
    }
   ],
   "source": [
    "print(numeros[0:3])  # Imprimo de la pos 0 a la pos 2"
   ]
  },
  {
   "cell_type": "code",
   "execution_count": 44,
   "id": "56209ac9",
   "metadata": {
    "execution": {
     "iopub.execute_input": "2021-09-28T21:11:30.023032Z",
     "iopub.status.busy": "2021-09-28T21:11:30.022331Z",
     "iopub.status.idle": "2021-09-28T21:11:30.024881Z",
     "shell.execute_reply": "2021-09-28T21:11:30.025426Z"
    }
   },
   "outputs": [
    {
     "name": "stdout",
     "output_type": "stream",
     "text": [
      "[7, 8]\n"
     ]
    }
   ],
   "source": [
    "print(numeros[-4:-2])"
   ]
  },
  {
   "cell_type": "code",
   "execution_count": 45,
   "id": "8bd890b6",
   "metadata": {
    "execution": {
     "iopub.execute_input": "2021-09-28T21:11:30.029928Z",
     "iopub.status.busy": "2021-09-28T21:11:30.029214Z",
     "iopub.status.idle": "2021-09-28T21:11:30.031709Z",
     "shell.execute_reply": "2021-09-28T21:11:30.032195Z"
    }
   },
   "outputs": [
    {
     "name": "stdout",
     "output_type": "stream",
     "text": [
      "[0, 1, 2, 3, 4, 5, 6, 7, 8, 9, 10]\n"
     ]
    }
   ],
   "source": [
    "print(numeros[0:80])"
   ]
  },
  {
   "cell_type": "code",
   "execution_count": 46,
   "id": "d0c4cf1f",
   "metadata": {
    "execution": {
     "iopub.execute_input": "2021-09-28T21:11:30.036661Z",
     "iopub.status.busy": "2021-09-28T21:11:30.036090Z",
     "iopub.status.idle": "2021-09-28T21:11:30.038015Z",
     "shell.execute_reply": "2021-09-28T21:11:30.038476Z"
    }
   },
   "outputs": [
    {
     "name": "stdout",
     "output_type": "stream",
     "text": [
      "[0, 1, 2]\n"
     ]
    }
   ],
   "source": [
    "print(numeros[:3])"
   ]
  },
  {
   "cell_type": "code",
   "execution_count": 47,
   "id": "5b444538",
   "metadata": {
    "execution": {
     "iopub.execute_input": "2021-09-28T21:11:30.042458Z",
     "iopub.status.busy": "2021-09-28T21:11:30.041904Z",
     "iopub.status.idle": "2021-09-28T21:11:30.046317Z",
     "shell.execute_reply": "2021-09-28T21:11:30.045728Z"
    }
   },
   "outputs": [
    {
     "name": "stdout",
     "output_type": "stream",
     "text": [
      "[3, 4, 5, 6, 7, 8, 9, 10]\n"
     ]
    }
   ],
   "source": [
    "print(numeros[3:])"
   ]
  },
  {
   "cell_type": "code",
   "execution_count": 48,
   "id": "8f203e3c",
   "metadata": {
    "execution": {
     "iopub.execute_input": "2021-09-28T21:11:30.052414Z",
     "iopub.status.busy": "2021-09-28T21:11:30.050266Z",
     "iopub.status.idle": "2021-09-28T21:11:30.056146Z",
     "shell.execute_reply": "2021-09-28T21:11:30.054917Z"
    }
   },
   "outputs": [
    {
     "name": "stdout",
     "output_type": "stream",
     "text": [
      "[0, 2, 4, 6, 8]\n"
     ]
    }
   ],
   "source": [
    "print(numeros[0:10:2])"
   ]
  },
  {
   "cell_type": "markdown",
   "id": "e62db86a",
   "metadata": {},
   "source": [
    "```python\n",
    "lista[<inicio>:<final>:<step>]\n",
    "```"
   ]
  },
  {
   "cell_type": "code",
   "execution_count": 49,
   "id": "926f3b68",
   "metadata": {
    "execution": {
     "iopub.execute_input": "2021-09-28T21:11:30.061379Z",
     "iopub.status.busy": "2021-09-28T21:11:30.060793Z",
     "iopub.status.idle": "2021-09-28T21:11:30.063027Z",
     "shell.execute_reply": "2021-09-28T21:11:30.063489Z"
    },
    "lines_to_next_cell": 2
   },
   "outputs": [
    {
     "data": {
      "text/plain": [
       "[1, 2, 3, 4]"
      ]
     },
     "execution_count": 49,
     "metadata": {},
     "output_type": "execute_result"
    }
   ],
   "source": [
    "l1 = [1, 2]\n",
    "l2 = [3, 4]\n",
    "l1 + l2"
   ]
  },
  {
   "cell_type": "code",
   "execution_count": 50,
   "id": "94588678",
   "metadata": {
    "execution": {
     "iopub.execute_input": "2021-09-28T21:11:30.069147Z",
     "iopub.status.busy": "2021-09-28T21:11:30.067362Z",
     "iopub.status.idle": "2021-09-28T21:11:30.072703Z",
     "shell.execute_reply": "2021-09-28T21:11:30.071664Z"
    }
   },
   "outputs": [
    {
     "name": "stdout",
     "output_type": "stream",
     "text": [
      "[0, 1, 2, 3, 4, 5, 6, 'siete', 8, 9, 10]\n"
     ]
    }
   ],
   "source": [
    "numeros[7] = 'siete'  # Las listas se pueden mutar\n",
    "print(numeros)"
   ]
  },
  {
   "cell_type": "code",
   "execution_count": 51,
   "id": "49c10679",
   "metadata": {
    "execution": {
     "iopub.execute_input": "2021-09-28T21:11:30.076820Z",
     "iopub.status.busy": "2021-09-28T21:11:30.076239Z",
     "iopub.status.idle": "2021-09-28T21:11:30.078345Z",
     "shell.execute_reply": "2021-09-28T21:11:30.078807Z"
    }
   },
   "outputs": [
    {
     "name": "stdout",
     "output_type": "stream",
     "text": [
      "[10, 9, 8, 'siete', 6, 5, 4, 3, 2, 1, 0]\n"
     ]
    }
   ],
   "source": [
    "numeros = numeros[::-1]\n",
    "print(numeros)"
   ]
  },
  {
   "cell_type": "code",
   "execution_count": 52,
   "id": "407f1139",
   "metadata": {
    "execution": {
     "iopub.execute_input": "2021-09-28T21:11:30.087577Z",
     "iopub.status.busy": "2021-09-28T21:11:30.087015Z",
     "iopub.status.idle": "2021-09-28T21:11:30.090238Z",
     "shell.execute_reply": "2021-09-28T21:11:30.089741Z"
    },
    "tags": [
     "raises-exception"
    ]
   },
   "outputs": [
    {
     "ename": "IndexError",
     "evalue": "list index out of range",
     "output_type": "error",
     "traceback": [
      "\u001b[0;31m---------------------------------------------------------------------------\u001b[0m",
      "\u001b[0;31mIndexError\u001b[0m                                Traceback (most recent call last)",
      "\u001b[0;32m/tmp/ipykernel_2089/1255736182.py\u001b[0m in \u001b[0;36m<module>\u001b[0;34m\u001b[0m\n\u001b[0;32m----> 1\u001b[0;31m \u001b[0mprint\u001b[0m\u001b[0;34m(\u001b[0m\u001b[0mnumeros\u001b[0m\u001b[0;34m[\u001b[0m\u001b[0;36m15\u001b[0m\u001b[0;34m]\u001b[0m\u001b[0;34m)\u001b[0m  \u001b[0;31m# Falla. No se puede acceder a una posición inexistente\u001b[0m\u001b[0;34m\u001b[0m\u001b[0;34m\u001b[0m\u001b[0m\n\u001b[0m",
      "\u001b[0;31mIndexError\u001b[0m: list index out of range"
     ]
    }
   ],
   "source": [
    "print(numeros[15])  # Falla. No se puede acceder a una posición inexistente"
   ]
  },
  {
   "cell_type": "code",
   "execution_count": 53,
   "id": "9219f534",
   "metadata": {
    "execution": {
     "iopub.execute_input": "2021-09-28T21:11:30.094784Z",
     "iopub.status.busy": "2021-09-28T21:11:30.092683Z",
     "iopub.status.idle": "2021-09-28T21:11:30.097965Z",
     "shell.execute_reply": "2021-09-28T21:11:30.097428Z"
    }
   },
   "outputs": [
    {
     "name": "stdout",
     "output_type": "stream",
     "text": [
      "palabra\n",
      "a\n",
      "pal\n",
      "abra\n"
     ]
    }
   ],
   "source": [
    "palabra = 'palabra'\n",
    "print(palabra)\n",
    "print(palabra[3])\n",
    "print(palabra[:3])\n",
    "print(palabra[3:])"
   ]
  },
  {
   "cell_type": "code",
   "execution_count": 54,
   "id": "71c3c00a",
   "metadata": {
    "execution": {
     "iopub.execute_input": "2021-09-28T21:11:30.103962Z",
     "iopub.status.busy": "2021-09-28T21:11:30.102669Z",
     "iopub.status.idle": "2021-09-28T21:11:30.105898Z",
     "shell.execute_reply": "2021-09-28T21:11:30.105404Z"
    }
   },
   "outputs": [
    {
     "name": "stdout",
     "output_type": "stream",
     "text": [
      "(0, 1, 2, 3, 4)\n",
      "(0, 1)\n",
      "(2, 3, 4)\n"
     ]
    }
   ],
   "source": [
    "tupla = (0, 1, 2, 3, 4)\n",
    "\n",
    "print(tupla)\n",
    "print(tupla[:2])\n",
    "print(tupla[2:])"
   ]
  },
  {
   "cell_type": "markdown",
   "id": "c61f70a9",
   "metadata": {
    "slideshow": {
     "slide_type": "slide"
    }
   },
   "source": [
    "#### Diccionarios de Python\n",
    "\n",
    "Son como hashmaps, las claves deben ser inmutables para que no pierda sentido el diccionario. Si se pudieran modificar, se podrían cambiar las claves y generaría conflictos.\n",
    "\n",
    "Tipos mutables:\n",
    "- Listas\n",
    "- Diccionarios\n",
    "- Sets\n",
    "\n",
    "Tipos inmutables:\n",
    "- Int\n",
    "- Float\n",
    "- String\n",
    "- Tuplas\n"
   ]
  },
  {
   "cell_type": "code",
   "execution_count": 55,
   "id": "e45bba2c",
   "metadata": {
    "execution": {
     "iopub.execute_input": "2021-09-28T21:11:30.112081Z",
     "iopub.status.busy": "2021-09-28T21:11:30.110753Z",
     "iopub.status.idle": "2021-09-28T21:11:30.114169Z",
     "shell.execute_reply": "2021-09-28T21:11:30.113621Z"
    },
    "slideshow": {
     "slide_type": "slide"
    }
   },
   "outputs": [
    {
     "data": {
      "text/plain": [
       "{}"
      ]
     },
     "execution_count": 55,
     "metadata": {},
     "output_type": "execute_result"
    }
   ],
   "source": [
    "diccionario = {}\n",
    "diccionario"
   ]
  },
  {
   "cell_type": "code",
   "execution_count": 56,
   "id": "132835f4",
   "metadata": {
    "execution": {
     "iopub.execute_input": "2021-09-28T21:11:30.119319Z",
     "iopub.status.busy": "2021-09-28T21:11:30.118735Z",
     "iopub.status.idle": "2021-09-28T21:11:30.120787Z",
     "shell.execute_reply": "2021-09-28T21:11:30.121247Z"
    }
   },
   "outputs": [
    {
     "data": {
      "text/plain": [
       "{}"
      ]
     },
     "execution_count": 56,
     "metadata": {},
     "output_type": "execute_result"
    }
   ],
   "source": [
    "diccionario = dict()\n",
    "diccionario"
   ]
  },
  {
   "cell_type": "code",
   "execution_count": 57,
   "id": "b6a5780d",
   "metadata": {
    "execution": {
     "iopub.execute_input": "2021-09-28T21:11:30.126858Z",
     "iopub.status.busy": "2021-09-28T21:11:30.125136Z",
     "iopub.status.idle": "2021-09-28T21:11:30.130720Z",
     "shell.execute_reply": "2021-09-28T21:11:30.130244Z"
    },
    "slideshow": {
     "slide_type": "slide"
    }
   },
   "outputs": [
    {
     "name": "stdout",
     "output_type": "stream",
     "text": [
      "{'clave1': 'valor1', 2: 'valor2', 'clave3': 3}\n"
     ]
    }
   ],
   "source": [
    "# Cómo agregar cosas al diccionario\n",
    "diccionario['clave1'] = 'valor1'\n",
    "diccionario[2] = 'valor2'\n",
    "diccionario['clave3'] = 3\n",
    "print(diccionario)"
   ]
  },
  {
   "cell_type": "markdown",
   "id": "d10b06a8",
   "metadata": {},
   "source": [
    "Hay dos formas de obtener valores de un diccionario:\n",
    "\n",
    "```python\n",
    "diccionario[clave]\n",
    "```\n",
    "\n",
    "El cual devuelve el valor si existe la clave suministrada o bien lanza `KeyError` si no existe."
   ]
  },
  {
   "cell_type": "code",
   "execution_count": 58,
   "id": "05ec4ac7",
   "metadata": {
    "execution": {
     "iopub.execute_input": "2021-09-28T21:11:30.135513Z",
     "iopub.status.busy": "2021-09-28T21:11:30.134923Z",
     "iopub.status.idle": "2021-09-28T21:11:30.138161Z",
     "shell.execute_reply": "2021-09-28T21:11:30.137665Z"
    }
   },
   "outputs": [
    {
     "data": {
      "text/plain": [
       "'valor1'"
      ]
     },
     "execution_count": 58,
     "metadata": {},
     "output_type": "execute_result"
    }
   ],
   "source": [
    "diccionario['clave1']"
   ]
  },
  {
   "cell_type": "code",
   "execution_count": 59,
   "id": "bbff1b83",
   "metadata": {
    "execution": {
     "iopub.execute_input": "2021-09-28T21:11:30.145425Z",
     "iopub.status.busy": "2021-09-28T21:11:30.144833Z",
     "iopub.status.idle": "2021-09-28T21:11:30.148738Z",
     "shell.execute_reply": "2021-09-28T21:11:30.147926Z"
    },
    "tags": [
     "raises-exception"
    ]
   },
   "outputs": [
    {
     "ename": "KeyError",
     "evalue": "'clave1000'",
     "output_type": "error",
     "traceback": [
      "\u001b[0;31m---------------------------------------------------------------------------\u001b[0m",
      "\u001b[0;31mKeyError\u001b[0m                                  Traceback (most recent call last)",
      "\u001b[0;32m/tmp/ipykernel_2089/3541524662.py\u001b[0m in \u001b[0;36m<module>\u001b[0;34m\u001b[0m\n\u001b[0;32m----> 1\u001b[0;31m \u001b[0mdiccionario\u001b[0m\u001b[0;34m[\u001b[0m\u001b[0;34m'clave1000'\u001b[0m\u001b[0;34m]\u001b[0m\u001b[0;34m\u001b[0m\u001b[0;34m\u001b[0m\u001b[0m\n\u001b[0m",
      "\u001b[0;31mKeyError\u001b[0m: 'clave1000'"
     ]
    }
   ],
   "source": [
    "diccionario['clave1000']"
   ]
  },
  {
   "cell_type": "markdown",
   "id": "5217020a",
   "metadata": {},
   "source": [
    "La segunda forma es con `get`:"
   ]
  },
  {
   "cell_type": "code",
   "execution_count": 60,
   "id": "13281487",
   "metadata": {
    "execution": {
     "iopub.execute_input": "2021-09-28T21:11:30.192574Z",
     "iopub.status.busy": "2021-09-28T21:11:30.171781Z",
     "iopub.status.idle": "2021-09-28T21:11:30.213018Z",
     "shell.execute_reply": "2021-09-28T21:11:30.212459Z"
    }
   },
   "outputs": [],
   "source": [
    "diccionario.get?"
   ]
  },
  {
   "cell_type": "code",
   "execution_count": 61,
   "id": "eb896f93",
   "metadata": {
    "execution": {
     "iopub.execute_input": "2021-09-28T21:11:30.219788Z",
     "iopub.status.busy": "2021-09-28T21:11:30.218430Z",
     "iopub.status.idle": "2021-09-28T21:11:30.221803Z",
     "shell.execute_reply": "2021-09-28T21:11:30.221275Z"
    }
   },
   "outputs": [
    {
     "name": "stdout",
     "output_type": "stream",
     "text": [
      "Help on built-in function get:\n",
      "\n",
      "get(key, default=None, /) method of builtins.dict instance\n",
      "    Return the value for key if key is in the dictionary, else default.\n",
      "\n"
     ]
    }
   ],
   "source": [
    "help(diccionario.get)"
   ]
  },
  {
   "cell_type": "code",
   "execution_count": 62,
   "id": "bebee6a7",
   "metadata": {
    "execution": {
     "iopub.execute_input": "2021-09-28T21:11:30.227339Z",
     "iopub.status.busy": "2021-09-28T21:11:30.226081Z",
     "iopub.status.idle": "2021-09-28T21:11:30.229492Z",
     "shell.execute_reply": "2021-09-28T21:11:30.228988Z"
    },
    "slideshow": {
     "slide_type": "slide"
    }
   },
   "outputs": [
    {
     "name": "stdout",
     "output_type": "stream",
     "text": [
      "None\n"
     ]
    }
   ],
   "source": [
    "print(diccionario.get('clave1000'))"
   ]
  },
  {
   "cell_type": "code",
   "execution_count": 63,
   "id": "1352f224",
   "metadata": {
    "execution": {
     "iopub.execute_input": "2021-09-28T21:11:30.234060Z",
     "iopub.status.busy": "2021-09-28T21:11:30.233495Z",
     "iopub.status.idle": "2021-09-28T21:11:30.237701Z",
     "shell.execute_reply": "2021-09-28T21:11:30.237199Z"
    },
    "slideshow": {
     "slide_type": "slide"
    }
   },
   "outputs": [
    {
     "name": "stdout",
     "output_type": "stream",
     "text": [
      "True\n"
     ]
    }
   ],
   "source": [
    "print('clave1' in diccionario)  # Verifico si la clave está en el diccionario"
   ]
  },
  {
   "cell_type": "code",
   "execution_count": 64,
   "id": "81163d81",
   "metadata": {
    "execution": {
     "iopub.execute_input": "2021-09-28T21:11:30.242494Z",
     "iopub.status.busy": "2021-09-28T21:11:30.241931Z",
     "iopub.status.idle": "2021-09-28T21:11:30.247272Z",
     "shell.execute_reply": "2021-09-28T21:11:30.246744Z"
    }
   },
   "outputs": [
    {
     "data": {
      "text/plain": [
       "True"
      ]
     },
     "execution_count": 64,
     "metadata": {},
     "output_type": "execute_result"
    }
   ],
   "source": [
    "l = [1, 2, 3, 4]\n",
    "2 in l"
   ]
  },
  {
   "cell_type": "code",
   "execution_count": 65,
   "id": "2ba68a34",
   "metadata": {
    "execution": {
     "iopub.execute_input": "2021-09-28T21:11:30.252414Z",
     "iopub.status.busy": "2021-09-28T21:11:30.251703Z",
     "iopub.status.idle": "2021-09-28T21:11:30.255621Z",
     "shell.execute_reply": "2021-09-28T21:11:30.255147Z"
    }
   },
   "outputs": [
    {
     "name": "stdout",
     "output_type": "stream",
     "text": [
      "la clave es clave1 y el valor es valor1\n"
     ]
    },
    {
     "name": "stdout",
     "output_type": "stream",
     "text": [
      "la clave es 2 y el valor es valor2\n",
      "la clave es clave3 y el valor es 3\n"
     ]
    }
   ],
   "source": [
    "for clave, valor in diccionario.items():\n",
    "    print(\"la clave es %s y el valor es %s\" % (clave, valor))"
   ]
  },
  {
   "cell_type": "code",
   "execution_count": 66,
   "id": "4033d8e6",
   "metadata": {
    "execution": {
     "iopub.execute_input": "2021-09-28T21:11:30.260193Z",
     "iopub.status.busy": "2021-09-28T21:11:30.259584Z",
     "iopub.status.idle": "2021-09-28T21:11:30.261730Z",
     "shell.execute_reply": "2021-09-28T21:11:30.262188Z"
    }
   },
   "outputs": [
    {
     "name": "stdout",
     "output_type": "stream",
     "text": [
      "la clave es clave1 y el valor es valor1\n",
      "la clave es 2 y el valor es valor2\n",
      "la clave es clave3 y el valor es 3\n"
     ]
    }
   ],
   "source": [
    "for clave, valor in diccionario.items():\n",
    "    print(\"la clave es {} y el valor es {}\".format(clave, valor))"
   ]
  },
  {
   "cell_type": "code",
   "execution_count": 67,
   "id": "dc41d43c",
   "metadata": {
    "execution": {
     "iopub.execute_input": "2021-09-28T21:11:30.267327Z",
     "iopub.status.busy": "2021-09-28T21:11:30.266761Z",
     "iopub.status.idle": "2021-09-28T21:11:30.270957Z",
     "shell.execute_reply": "2021-09-28T21:11:30.270469Z"
    },
    "slideshow": {
     "slide_type": "slide"
    }
   },
   "outputs": [
    {
     "name": "stdout",
     "output_type": "stream",
     "text": [
      "la clave es clave1 y el valor es valor1\n",
      "la clave es 2 y el valor es valor2\n",
      "la clave es clave3 y el valor es 3\n"
     ]
    }
   ],
   "source": [
    "# Cómo iterar un diccionario elemento por elemento\n",
    "for (\n",
    "    clave,\n",
    "    valor,\n",
    ") in (\n",
    "    diccionario.items()\n",
    "):  # diccionario.items() va devolviendo tuplas con el formato (clave,valor)\n",
    "    print(\n",
    "        f\"la clave es {clave} y el valor es {valor}\"\n",
    "    )  # con esta sintaxis se desempaquetan en clave y valor (similar a enumerate)"
   ]
  },
  {
   "cell_type": "code",
   "execution_count": 68,
   "id": "039ad957",
   "metadata": {
    "execution": {
     "iopub.execute_input": "2021-09-28T21:11:30.276610Z",
     "iopub.status.busy": "2021-09-28T21:11:30.275284Z",
     "iopub.status.idle": "2021-09-28T21:11:30.278468Z",
     "shell.execute_reply": "2021-09-28T21:11:30.277981Z"
    },
    "slideshow": {
     "slide_type": "slide"
    }
   },
   "outputs": [
    {
     "name": "stdout",
     "output_type": "stream",
     "text": [
      "clave1\n",
      "2\n",
      "clave3\n"
     ]
    }
   ],
   "source": [
    "for clave in diccionario.keys():\n",
    "    print(clave)"
   ]
  },
  {
   "cell_type": "code",
   "execution_count": 69,
   "id": "006e0803",
   "metadata": {
    "execution": {
     "iopub.execute_input": "2021-09-28T21:11:30.284273Z",
     "iopub.status.busy": "2021-09-28T21:11:30.282905Z",
     "iopub.status.idle": "2021-09-28T21:11:30.286125Z",
     "shell.execute_reply": "2021-09-28T21:11:30.285638Z"
    },
    "slideshow": {
     "slide_type": "slide"
    }
   },
   "outputs": [
    {
     "name": "stdout",
     "output_type": "stream",
     "text": [
      "valor1\n",
      "valor2\n",
      "3\n"
     ]
    }
   ],
   "source": [
    "for valor in diccionario.values():\n",
    "    print(valor)"
   ]
  },
  {
   "cell_type": "markdown",
   "id": "ea6054f5",
   "metadata": {},
   "source": [
    "#### Sets\n",
    "\n",
    "Son similares a los diccionarios (en eficiencia) pero se almacenan solo claves, y tienen algunas operaciones particulares.\n",
    "\n",
    "En particular, no pueden tener elementos iguales (pensar que son conjuntos)"
   ]
  },
  {
   "cell_type": "code",
   "execution_count": 70,
   "id": "68d123e8",
   "metadata": {
    "execution": {
     "iopub.execute_input": "2021-09-28T21:11:30.290731Z",
     "iopub.status.busy": "2021-09-28T21:11:30.290174Z",
     "iopub.status.idle": "2021-09-28T21:11:30.294846Z",
     "shell.execute_reply": "2021-09-28T21:11:30.294346Z"
    }
   },
   "outputs": [],
   "source": [
    "set??"
   ]
  },
  {
   "cell_type": "code",
   "execution_count": 71,
   "id": "8cc6c930",
   "metadata": {
    "execution": {
     "iopub.execute_input": "2021-09-28T21:11:30.299475Z",
     "iopub.status.busy": "2021-09-28T21:11:30.296997Z",
     "iopub.status.idle": "2021-09-28T21:11:30.302287Z",
     "shell.execute_reply": "2021-09-28T21:11:30.301796Z"
    }
   },
   "outputs": [
    {
     "data": {
      "text/plain": [
       "{1, 2, 3}"
      ]
     },
     "execution_count": 71,
     "metadata": {},
     "output_type": "execute_result"
    }
   ],
   "source": [
    "# Se definen como los diccionarios pero sin hacerlos 'clave:valor', solamente una seguidilla de elementos\n",
    "{1, 2, 2, 3}"
   ]
  },
  {
   "cell_type": "code",
   "execution_count": 72,
   "id": "f4d35519",
   "metadata": {
    "execution": {
     "iopub.execute_input": "2021-09-28T21:11:30.307215Z",
     "iopub.status.busy": "2021-09-28T21:11:30.306657Z",
     "iopub.status.idle": "2021-09-28T21:11:30.312053Z",
     "shell.execute_reply": "2021-09-28T21:11:30.311529Z"
    }
   },
   "outputs": [
    {
     "data": {
      "text/plain": [
       "{1, 2, 3}"
      ]
     },
     "execution_count": 72,
     "metadata": {},
     "output_type": "execute_result"
    }
   ],
   "source": [
    "set([1, 2, 2, 3])"
   ]
  },
  {
   "cell_type": "markdown",
   "id": "3508005e",
   "metadata": {},
   "source": [
    "## Condicionales (if...elif...else)\n",
    "\n",
    "```python\n",
    "if <condición_1>:\n",
    "    <hacer algo_1 si se da la condición_1>\n",
    "elif <condición_2>:\n",
    "    <hacer algo_2 si se da la condición_2>\n",
    "...\n",
    "elif <condición_n>:\n",
    "    <hacer algo_n si se da la condición_n>\n",
    "else:\n",
    "    <hacer otra cosa si no dan las anteriores>\n",
    "```\n",
    "\n",
    "Algo importante para notar es que los bloques se definen por **niveles de identacion**."
   ]
  },
  {
   "cell_type": "code",
   "execution_count": 73,
   "id": "69eafef1",
   "metadata": {
    "execution": {
     "iopub.execute_input": "2021-09-28T21:11:30.317121Z",
     "iopub.status.busy": "2021-09-28T21:11:30.316560Z",
     "iopub.status.idle": "2021-09-28T21:11:30.318666Z",
     "shell.execute_reply": "2021-09-28T21:11:30.319116Z"
    }
   },
   "outputs": [
    {
     "name": "stdout",
     "output_type": "stream",
     "text": [
      "uno\n"
     ]
    }
   ],
   "source": [
    "v = 1\n",
    "if v == 1:\n",
    "    print(\"uno\")\n",
    "elif v == 2:\n",
    "    print(\"dos\")\n",
    "else:\n",
    "    print(\"ni idea\")\n",
    "    print(v)"
   ]
  },
  {
   "cell_type": "markdown",
   "id": "219c004d",
   "metadata": {},
   "source": [
    "## Iteraciones\n",
    "\n",
    "```python\n",
    "while cond:\n",
    "    <codigo>\n",
    "```\n",
    "\n",
    "```python\n",
    "for elemento in iterable:\n",
    "    <codigo>\n",
    "```\n",
    "\n",
    "Para iterar sobre un rango de valores, usamos `range`"
   ]
  },
  {
   "cell_type": "code",
   "execution_count": 74,
   "id": "1850dccd",
   "metadata": {
    "execution": {
     "iopub.execute_input": "2021-09-28T21:11:30.323810Z",
     "iopub.status.busy": "2021-09-28T21:11:30.323245Z",
     "iopub.status.idle": "2021-09-28T21:11:30.325365Z",
     "shell.execute_reply": "2021-09-28T21:11:30.325823Z"
    }
   },
   "outputs": [
    {
     "name": "stdout",
     "output_type": "stream",
     "text": [
      "1\n",
      "4\n",
      "7\n",
      "10\n"
     ]
    }
   ],
   "source": [
    "for i in range(1, 11, 3):\n",
    "    print(i)"
   ]
  },
  {
   "cell_type": "markdown",
   "id": "04884a87",
   "metadata": {},
   "source": [
    "## Operadores logicos\n",
    "\n",
    "`not`, `or`, `and`"
   ]
  },
  {
   "cell_type": "code",
   "execution_count": 75,
   "id": "0ca831f8",
   "metadata": {
    "execution": {
     "iopub.execute_input": "2021-09-28T21:11:30.330988Z",
     "iopub.status.busy": "2021-09-28T21:11:30.329781Z",
     "iopub.status.idle": "2021-09-28T21:11:30.333001Z",
     "shell.execute_reply": "2021-09-28T21:11:30.332506Z"
    }
   },
   "outputs": [
    {
     "name": "stdout",
     "output_type": "stream",
     "text": [
      "yay\n"
     ]
    }
   ],
   "source": [
    "if True or False:\n",
    "    print(\"yay\")"
   ]
  },
  {
   "cell_type": "code",
   "execution_count": 76,
   "id": "fe7ef8fe",
   "metadata": {
    "execution": {
     "iopub.execute_input": "2021-09-28T21:11:30.338112Z",
     "iopub.status.busy": "2021-09-28T21:11:30.337530Z",
     "iopub.status.idle": "2021-09-28T21:11:30.340433Z",
     "shell.execute_reply": "2021-09-28T21:11:30.340894Z"
    }
   },
   "outputs": [
    {
     "data": {
      "text/plain": [
       "False"
      ]
     },
     "execution_count": 76,
     "metadata": {},
     "output_type": "execute_result"
    }
   ],
   "source": [
    "1 == 2"
   ]
  },
  {
   "cell_type": "code",
   "execution_count": 77,
   "id": "b1a09b4d",
   "metadata": {
    "execution": {
     "iopub.execute_input": "2021-09-28T21:11:30.346664Z",
     "iopub.status.busy": "2021-09-28T21:11:30.345630Z",
     "iopub.status.idle": "2021-09-28T21:11:30.348917Z",
     "shell.execute_reply": "2021-09-28T21:11:30.348435Z"
    }
   },
   "outputs": [
    {
     "data": {
      "text/plain": [
       "True"
      ]
     },
     "execution_count": 77,
     "metadata": {},
     "output_type": "execute_result"
    }
   ],
   "source": [
    "1 != 2"
   ]
  },
  {
   "cell_type": "markdown",
   "id": "4e1f8e9c",
   "metadata": {
    "slideshow": {
     "slide_type": "slide"
    }
   },
   "source": [
    "## Funciones en Python"
   ]
  },
  {
   "cell_type": "code",
   "execution_count": 78,
   "id": "6e67aff9",
   "metadata": {
    "execution": {
     "iopub.execute_input": "2021-09-28T21:11:30.359053Z",
     "iopub.status.busy": "2021-09-28T21:11:30.351551Z",
     "iopub.status.idle": "2021-09-28T21:11:30.361306Z",
     "shell.execute_reply": "2021-09-28T21:11:30.361740Z"
    },
    "slideshow": {
     "slide_type": "slide"
    }
   },
   "outputs": [
    {
     "name": "stdout",
     "output_type": "stream",
     "text": [
      "True\n",
      "False\n"
     ]
    }
   ],
   "source": [
    "def busqueda_binaria(lista, elemento):\n",
    "    if not lista:\n",
    "        return False\n",
    "    elif len(lista) == 1:\n",
    "        return lista[0] == elemento\n",
    "    mitad = len(lista) // 2  # // es la operación división entera\n",
    "    if lista[mitad] == elemento:\n",
    "        return True\n",
    "    if lista[mitad] > elemento:\n",
    "        return busqueda_binaria(lista[:mitad], elemento)\n",
    "    if lista[mitad] < elemento:\n",
    "        return busqueda_binaria(lista[mitad:], elemento)\n",
    "\n",
    "\n",
    "print(busqueda_binaria([1, 2, 3, 4, 5], 4))\n",
    "print(busqueda_binaria([1, 4, 6, 7, 9, 10], 2))"
   ]
  },
  {
   "cell_type": "code",
   "execution_count": 79,
   "id": "1360183e",
   "metadata": {
    "execution": {
     "iopub.execute_input": "2021-09-28T21:11:30.367823Z",
     "iopub.status.busy": "2021-09-28T21:11:30.366529Z",
     "iopub.status.idle": "2021-09-28T21:11:30.369678Z",
     "shell.execute_reply": "2021-09-28T21:11:30.369211Z"
    }
   },
   "outputs": [
    {
     "name": "stdout",
     "output_type": "stream",
     "text": [
      "(3, 3, 3)\n"
     ]
    }
   ],
   "source": [
    "def a(b):\n",
    "    if a == 1:\n",
    "        print(a)\n",
    "    return (b, b, b)\n",
    "\n",
    "\n",
    "print(a(3))"
   ]
  },
  {
   "cell_type": "code",
   "execution_count": 80,
   "id": "00d3921d",
   "metadata": {
    "execution": {
     "iopub.execute_input": "2021-09-28T21:11:30.376662Z",
     "iopub.status.busy": "2021-09-28T21:11:30.376088Z",
     "iopub.status.idle": "2021-09-28T21:11:30.385773Z",
     "shell.execute_reply": "2021-09-28T21:11:30.385268Z"
    },
    "lines_to_next_cell": 2,
    "slideshow": {
     "slide_type": "slide"
    },
    "tags": [
     "raises-exception"
    ]
   },
   "outputs": [
    {
     "name": "stdout",
     "output_type": "stream",
     "text": [
      "3\n",
      "3.0\n",
      "3.0\n",
      "hola como te va\n",
      "[1, 2, 3, 4, 5]\n"
     ]
    },
    {
     "ename": "TypeError",
     "evalue": "can only concatenate str (not \"int\") to str",
     "output_type": "error",
     "traceback": [
      "\u001b[0;31m---------------------------------------------------------------------------\u001b[0m",
      "\u001b[0;31mTypeError\u001b[0m                                 Traceback (most recent call last)",
      "\u001b[0;32m/tmp/ipykernel_2089/1000948441.py\u001b[0m in \u001b[0;36m<module>\u001b[0;34m\u001b[0m\n\u001b[1;32m      8\u001b[0m \u001b[0mprint\u001b[0m\u001b[0;34m(\u001b[0m\u001b[0msuma\u001b[0m\u001b[0;34m(\u001b[0m\u001b[0;34m\"hola \"\u001b[0m\u001b[0;34m,\u001b[0m \u001b[0;34m\"como te va\"\u001b[0m\u001b[0;34m)\u001b[0m\u001b[0;34m)\u001b[0m\u001b[0;34m\u001b[0m\u001b[0;34m\u001b[0m\u001b[0m\n\u001b[1;32m      9\u001b[0m \u001b[0mprint\u001b[0m\u001b[0;34m(\u001b[0m\u001b[0msuma\u001b[0m\u001b[0;34m(\u001b[0m\u001b[0;34m[\u001b[0m\u001b[0;36m1\u001b[0m\u001b[0;34m,\u001b[0m \u001b[0;36m2\u001b[0m\u001b[0;34m,\u001b[0m \u001b[0;36m3\u001b[0m\u001b[0;34m]\u001b[0m\u001b[0;34m,\u001b[0m \u001b[0;34m[\u001b[0m\u001b[0;36m4\u001b[0m\u001b[0;34m,\u001b[0m \u001b[0;36m5\u001b[0m\u001b[0;34m]\u001b[0m\u001b[0;34m)\u001b[0m\u001b[0;34m)\u001b[0m\u001b[0;34m\u001b[0m\u001b[0;34m\u001b[0m\u001b[0m\n\u001b[0;32m---> 10\u001b[0;31m \u001b[0mprint\u001b[0m\u001b[0;34m(\u001b[0m\u001b[0msuma\u001b[0m\u001b[0;34m(\u001b[0m\u001b[0;34m\"1\"\u001b[0m\u001b[0;34m,\u001b[0m \u001b[0;36m3\u001b[0m\u001b[0;34m)\u001b[0m\u001b[0;34m)\u001b[0m  \u001b[0;31m# Falla\u001b[0m\u001b[0;34m\u001b[0m\u001b[0;34m\u001b[0m\u001b[0m\n\u001b[0m",
      "\u001b[0;32m/tmp/ipykernel_2089/1000948441.py\u001b[0m in \u001b[0;36msuma\u001b[0;34m(a, b)\u001b[0m\n\u001b[1;32m      1\u001b[0m \u001b[0;32mdef\u001b[0m \u001b[0msuma\u001b[0m\u001b[0;34m(\u001b[0m\u001b[0ma\u001b[0m\u001b[0;34m,\u001b[0m \u001b[0mb\u001b[0m\u001b[0;34m)\u001b[0m\u001b[0;34m:\u001b[0m\u001b[0;34m\u001b[0m\u001b[0;34m\u001b[0m\u001b[0m\n\u001b[0;32m----> 2\u001b[0;31m     \u001b[0;32mreturn\u001b[0m \u001b[0ma\u001b[0m \u001b[0;34m+\u001b[0m \u001b[0mb\u001b[0m\u001b[0;34m\u001b[0m\u001b[0;34m\u001b[0m\u001b[0m\n\u001b[0m\u001b[1;32m      3\u001b[0m \u001b[0;34m\u001b[0m\u001b[0m\n\u001b[1;32m      4\u001b[0m \u001b[0;34m\u001b[0m\u001b[0m\n\u001b[1;32m      5\u001b[0m \u001b[0mprint\u001b[0m\u001b[0;34m(\u001b[0m\u001b[0msuma\u001b[0m\u001b[0;34m(\u001b[0m\u001b[0;36m1\u001b[0m\u001b[0;34m,\u001b[0m \u001b[0;36m2\u001b[0m\u001b[0;34m)\u001b[0m\u001b[0;34m)\u001b[0m\u001b[0;34m\u001b[0m\u001b[0;34m\u001b[0m\u001b[0m\n",
      "\u001b[0;31mTypeError\u001b[0m: can only concatenate str (not \"int\") to str"
     ]
    }
   ],
   "source": [
    "def suma(a, b):\n",
    "    return a + b\n",
    "\n",
    "\n",
    "print(suma(1, 2))\n",
    "print(suma(1.0, 2.0))\n",
    "print(suma(1.0, 2))\n",
    "print(suma(\"hola \", \"como te va\"))\n",
    "print(suma([1, 2, 3], [4, 5]))\n",
    "print(suma(\"1\", 3))  # Falla"
   ]
  },
  {
   "cell_type": "code",
   "execution_count": 81,
   "id": "273274ad",
   "metadata": {
    "execution": {
     "iopub.execute_input": "2021-09-28T21:11:30.391747Z",
     "iopub.status.busy": "2021-09-28T21:11:30.390406Z",
     "iopub.status.idle": "2021-09-28T21:11:30.393657Z",
     "shell.execute_reply": "2021-09-28T21:11:30.393161Z"
    }
   },
   "outputs": [
    {
     "name": "stdout",
     "output_type": "stream",
     "text": [
      "2.0\n"
     ]
    }
   ],
   "source": [
    "# El valor por default de divisor es 1\n",
    "\n",
    "\n",
    "def division(dividendo, divisor=2):\n",
    "    return dividendo / divisor\n",
    "\n",
    "\n",
    "print(division(4))  # Usa el valor por default"
   ]
  },
  {
   "cell_type": "code",
   "execution_count": 82,
   "id": "8b7f9ef9",
   "metadata": {
    "execution": {
     "iopub.execute_input": "2021-09-28T21:11:30.403094Z",
     "iopub.status.busy": "2021-09-28T21:11:30.402485Z",
     "iopub.status.idle": "2021-09-28T21:11:30.406519Z",
     "shell.execute_reply": "2021-09-28T21:11:30.406016Z"
    },
    "tags": [
     "raises-exception"
    ]
   },
   "outputs": [
    {
     "name": "stdout",
     "output_type": "stream",
     "text": [
      "0.5\n",
      "0.5\n"
     ]
    },
    {
     "ename": "TypeError",
     "evalue": "division() missing 1 required positional argument: 'dividendo'",
     "output_type": "error",
     "traceback": [
      "\u001b[0;31m---------------------------------------------------------------------------\u001b[0m",
      "\u001b[0;31mTypeError\u001b[0m                                 Traceback (most recent call last)",
      "\u001b[0;32m/tmp/ipykernel_2089/1004518412.py\u001b[0m in \u001b[0;36m<module>\u001b[0;34m\u001b[0m\n\u001b[1;32m      1\u001b[0m \u001b[0mprint\u001b[0m\u001b[0;34m(\u001b[0m\u001b[0mdivision\u001b[0m\u001b[0;34m(\u001b[0m\u001b[0;36m1\u001b[0m\u001b[0;34m,\u001b[0m \u001b[0;36m2\u001b[0m\u001b[0;34m)\u001b[0m\u001b[0;34m)\u001b[0m  \u001b[0;31m# Parámetros por orden\u001b[0m\u001b[0;34m\u001b[0m\u001b[0;34m\u001b[0m\u001b[0m\n\u001b[1;32m      2\u001b[0m \u001b[0mprint\u001b[0m\u001b[0;34m(\u001b[0m\u001b[0mdivision\u001b[0m\u001b[0;34m(\u001b[0m\u001b[0mdividendo\u001b[0m\u001b[0;34m=\u001b[0m\u001b[0;36m1\u001b[0m\u001b[0;34m,\u001b[0m \u001b[0mdivisor\u001b[0m\u001b[0;34m=\u001b[0m\u001b[0;36m2\u001b[0m\u001b[0;34m)\u001b[0m\u001b[0;34m)\u001b[0m  \u001b[0;31m# Parámetros por nombre\u001b[0m\u001b[0;34m\u001b[0m\u001b[0;34m\u001b[0m\u001b[0m\n\u001b[0;32m----> 3\u001b[0;31m \u001b[0mprint\u001b[0m\u001b[0;34m(\u001b[0m\u001b[0mdivision\u001b[0m\u001b[0;34m(\u001b[0m\u001b[0mdivisor\u001b[0m\u001b[0;34m=\u001b[0m\u001b[0;36m2\u001b[0m\u001b[0;34m)\u001b[0m\u001b[0;34m)\u001b[0m\u001b[0;34m\u001b[0m\u001b[0;34m\u001b[0m\u001b[0m\n\u001b[0m",
      "\u001b[0;31mTypeError\u001b[0m: division() missing 1 required positional argument: 'dividendo'"
     ]
    }
   ],
   "source": [
    "print(division(1, 2))  # Parámetros por orden\n",
    "print(division(dividendo=1, divisor=2))  # Parámetros por nombre\n",
    "print(division(divisor=2))"
   ]
  },
  {
   "cell_type": "code",
   "execution_count": 83,
   "id": "167264ec",
   "metadata": {
    "execution": {
     "iopub.execute_input": "2021-09-28T21:11:30.411476Z",
     "iopub.status.busy": "2021-09-28T21:11:30.410911Z",
     "iopub.status.idle": "2021-09-28T21:11:30.413581Z",
     "shell.execute_reply": "2021-09-28T21:11:30.414039Z"
    }
   },
   "outputs": [
    {
     "name": "stdout",
     "output_type": "stream",
     "text": [
      "0.5\n"
     ]
    }
   ],
   "source": [
    "print(division(divisor=2, dividendo=1))"
   ]
  },
  {
   "cell_type": "code",
   "execution_count": 84,
   "id": "b04dda9a",
   "metadata": {
    "execution": {
     "iopub.execute_input": "2021-09-28T21:11:30.421171Z",
     "iopub.status.busy": "2021-09-28T21:11:30.419822Z",
     "iopub.status.idle": "2021-09-28T21:11:30.423031Z",
     "shell.execute_reply": "2021-09-28T21:11:30.422542Z"
    }
   },
   "outputs": [
    {
     "name": "stdout",
     "output_type": "stream",
     "text": [
      "['a', 'b', 'c']\n",
      "[1, 2, 3]\n",
      "['hola', ' don', ' pepito']\n",
      "hola -  don -  pepito\n"
     ]
    }
   ],
   "source": [
    "# Funciones básicas ya en el lenguaje\n",
    "# Hechas para funcionar para distintos tipos\n",
    "\n",
    "string_ordenado = sorted('bca')\n",
    "print(string_ordenado)\n",
    "\n",
    "lista_ordenada = sorted([1, 3, 2])\n",
    "print(lista_ordenada)\n",
    "\n",
    "separadas = \"hola, don, pepito\".split(\",\")\n",
    "print(separadas)\n",
    "unidas = \" - \".join(separadas)\n",
    "print(unidas)"
   ]
  },
  {
   "cell_type": "markdown",
   "id": "5496e101",
   "metadata": {},
   "source": [
    "## Módulos\n",
    "\n",
    "Para incluir alguna biblioteca de funciones se usa `import`. Pueden ser cosas ya predefinidas en Python (`math`, `random`, etc), nombres de archivos en nuestro directorio (por ejemplo, para `mimodulo.py` ponemos `import mimodulo`) o bibliotecas instaladas por el usuario"
   ]
  },
  {
   "cell_type": "code",
   "execution_count": 85,
   "id": "c94c3a55",
   "metadata": {
    "execution": {
     "iopub.execute_input": "2021-09-28T21:11:30.428616Z",
     "iopub.status.busy": "2021-09-28T21:11:30.427315Z",
     "iopub.status.idle": "2021-09-28T21:11:30.430458Z",
     "shell.execute_reply": "2021-09-28T21:11:30.429969Z"
    }
   },
   "outputs": [
    {
     "name": "stdout",
     "output_type": "stream",
     "text": [
      "3.141592653589793\n"
     ]
    }
   ],
   "source": [
    "import math\n",
    "\n",
    "print(math.pi)"
   ]
  },
  {
   "cell_type": "code",
   "execution_count": 86,
   "id": "144a4d6f",
   "metadata": {
    "execution": {
     "iopub.execute_input": "2021-09-28T21:11:30.434937Z",
     "iopub.status.busy": "2021-09-28T21:11:30.434374Z",
     "iopub.status.idle": "2021-09-28T21:11:30.439299Z",
     "shell.execute_reply": "2021-09-28T21:11:30.438807Z"
    }
   },
   "outputs": [
    {
     "name": "stdout",
     "output_type": "stream",
     "text": [
      "3.141592653589793 2.718281828459045\n"
     ]
    }
   ],
   "source": [
    "from math import pi, e\n",
    "\n",
    "print(pi, e)"
   ]
  },
  {
   "cell_type": "code",
   "execution_count": 87,
   "id": "f4600296",
   "metadata": {
    "execution": {
     "iopub.execute_input": "2021-09-28T21:11:30.444335Z",
     "iopub.status.busy": "2021-09-28T21:11:30.443726Z",
     "iopub.status.idle": "2021-09-28T21:11:30.445950Z",
     "shell.execute_reply": "2021-09-28T21:11:30.446411Z"
    }
   },
   "outputs": [
    {
     "data": {
      "text/plain": [
       "2"
      ]
     },
     "execution_count": 87,
     "metadata": {},
     "output_type": "execute_result"
    }
   ],
   "source": [
    "math.gcd(56, 78)"
   ]
  },
  {
   "cell_type": "markdown",
   "id": "98915d66",
   "metadata": {},
   "source": [
    "## Manejo de excepciones\n",
    "\n",
    "Se pueden encapsular errores esperados en un bloque 'try/except' para evitar cortar el flujo del programa"
   ]
  },
  {
   "cell_type": "code",
   "execution_count": 88,
   "id": "ba918eb1",
   "metadata": {
    "execution": {
     "iopub.execute_input": "2021-09-28T21:11:30.456449Z",
     "iopub.status.busy": "2021-09-28T21:11:30.453465Z",
     "iopub.status.idle": "2021-09-28T21:11:30.461854Z",
     "shell.execute_reply": "2021-09-28T21:11:30.460862Z"
    },
    "tags": [
     "raises-exception"
    ]
   },
   "outputs": [
    {
     "ename": "ZeroDivisionError",
     "evalue": "division by zero",
     "output_type": "error",
     "traceback": [
      "\u001b[0;31m---------------------------------------------------------------------------\u001b[0m",
      "\u001b[0;31mZeroDivisionError\u001b[0m                         Traceback (most recent call last)",
      "\u001b[0;32m/tmp/ipykernel_2089/1165346582.py\u001b[0m in \u001b[0;36m<module>\u001b[0;34m\u001b[0m\n\u001b[0;32m----> 1\u001b[0;31m \u001b[0mdivision\u001b[0m\u001b[0;34m(\u001b[0m\u001b[0;36m1\u001b[0m\u001b[0;34m,\u001b[0m \u001b[0;36m0\u001b[0m\u001b[0;34m)\u001b[0m  \u001b[0;31m# No se puede dividir por cero\u001b[0m\u001b[0;34m\u001b[0m\u001b[0;34m\u001b[0m\u001b[0m\n\u001b[0m",
      "\u001b[0;32m/tmp/ipykernel_2089/2607187721.py\u001b[0m in \u001b[0;36mdivision\u001b[0;34m(dividendo, divisor)\u001b[0m\n\u001b[1;32m      3\u001b[0m \u001b[0;34m\u001b[0m\u001b[0m\n\u001b[1;32m      4\u001b[0m \u001b[0;32mdef\u001b[0m \u001b[0mdivision\u001b[0m\u001b[0;34m(\u001b[0m\u001b[0mdividendo\u001b[0m\u001b[0;34m,\u001b[0m \u001b[0mdivisor\u001b[0m\u001b[0;34m=\u001b[0m\u001b[0;36m2\u001b[0m\u001b[0;34m)\u001b[0m\u001b[0;34m:\u001b[0m\u001b[0;34m\u001b[0m\u001b[0;34m\u001b[0m\u001b[0m\n\u001b[0;32m----> 5\u001b[0;31m     \u001b[0;32mreturn\u001b[0m \u001b[0mdividendo\u001b[0m \u001b[0;34m/\u001b[0m \u001b[0mdivisor\u001b[0m\u001b[0;34m\u001b[0m\u001b[0;34m\u001b[0m\u001b[0m\n\u001b[0m\u001b[1;32m      6\u001b[0m \u001b[0;34m\u001b[0m\u001b[0m\n\u001b[1;32m      7\u001b[0m \u001b[0;34m\u001b[0m\u001b[0m\n",
      "\u001b[0;31mZeroDivisionError\u001b[0m: division by zero"
     ]
    }
   ],
   "source": [
    "division(1, 0)  # No se puede dividir por cero"
   ]
  },
  {
   "cell_type": "code",
   "execution_count": 89,
   "id": "b2527717",
   "metadata": {
    "execution": {
     "iopub.execute_input": "2021-09-28T21:11:30.467019Z",
     "iopub.status.busy": "2021-09-28T21:11:30.464274Z",
     "iopub.status.idle": "2021-09-28T21:11:30.471314Z",
     "shell.execute_reply": "2021-09-28T21:11:30.470512Z"
    }
   },
   "outputs": [
    {
     "name": "stdout",
     "output_type": "stream",
     "text": [
      "No se puede dividir por cero, ojo! division by zero\n",
      "1\n"
     ]
    }
   ],
   "source": [
    "try:\n",
    "    division(1, 0)\n",
    "except (ZeroDivisionError, TypeError) as e:\n",
    "    print('No se puede dividir por cero, ojo!', e)\n",
    "finally:\n",
    "    print(1)"
   ]
  },
  {
   "cell_type": "markdown",
   "id": "7ae810db",
   "metadata": {
    "slideshow": {
     "slide_type": "slide"
    }
   },
   "source": [
    "## Lectura y escritura de archivos"
   ]
  },
  {
   "cell_type": "code",
   "execution_count": 90,
   "id": "fc03c6e6",
   "metadata": {
    "execution": {
     "iopub.execute_input": "2021-09-28T21:11:30.477373Z",
     "iopub.status.busy": "2021-09-28T21:11:30.476840Z",
     "iopub.status.idle": "2021-09-28T21:11:30.481067Z",
     "shell.execute_reply": "2021-09-28T21:11:30.480576Z"
    },
    "slideshow": {
     "slide_type": "slide"
    }
   },
   "outputs": [
    {
     "name": "stdout",
     "output_type": "stream",
     "text": [
      "<_io.TextIOWrapper name='archivo.csv' mode='w' encoding='UTF-8'>\n"
     ]
    }
   ],
   "source": [
    "import random\n",
    "\n",
    "with open(\n",
    "    'archivo.csv', 'w'\n",
    ") as archivo:  # Al usar esta sintaxis no es necesario hacer close\n",
    "    archivo.write(\"Alumno, nota\\n\")\n",
    "    # Tambien de forma similar al fprintf se puede hacer:\n",
    "    # print(\"Alumno, nota\\n\", file=archivo)\n",
    "    for i in range(0, 10):\n",
    "        archivo.write(f\"{i},{random.randrange(0,10)}\\n\")\n",
    "\n",
    "print(archivo)  # Comentario aclaratorio:\n",
    "# Las variables definidas en un determinado scope siguen existiendo por fuera del mismo.\n",
    "# Se debe tener cuidado con esto, ya que nada garantiza que por fuera el valor sea el esperado."
   ]
  },
  {
   "cell_type": "code",
   "execution_count": 91,
   "id": "7127de04",
   "metadata": {
    "execution": {
     "iopub.execute_input": "2021-09-28T21:11:30.485936Z",
     "iopub.status.busy": "2021-09-28T21:11:30.484756Z",
     "iopub.status.idle": "2021-09-28T21:11:30.490155Z",
     "shell.execute_reply": "2021-09-28T21:11:30.489662Z"
    },
    "slideshow": {
     "slide_type": "slide"
    }
   },
   "outputs": [
    {
     "name": "stdout",
     "output_type": "stream",
     "text": [
      "Alumno, nota\n",
      "0,7\n",
      "1,6\n",
      "2,6\n",
      "3,5\n",
      "4,1\n",
      "5,1\n",
      "6,0\n",
      "7,2\n",
      "8,3\n",
      "9,9\n"
     ]
    }
   ],
   "source": [
    "with open('archivo.csv', 'r') as f:\n",
    "    for linea in f:\n",
    "        print(linea.strip())"
   ]
  },
  {
   "cell_type": "code",
   "execution_count": 92,
   "id": "3294b585",
   "metadata": {
    "execution": {
     "iopub.execute_input": "2021-09-28T21:11:30.495846Z",
     "iopub.status.busy": "2021-09-28T21:11:30.494531Z",
     "iopub.status.idle": "2021-09-28T21:11:30.497766Z",
     "shell.execute_reply": "2021-09-28T21:11:30.497255Z"
    }
   },
   "outputs": [
    {
     "name": "stdout",
     "output_type": "stream",
     "text": [
      "Alumno, nota\n",
      "0,7\n",
      "1,6\n",
      "2,6\n",
      "3,5\n",
      "4,1\n",
      "5,1\n",
      "6,0\n",
      "7,2\n",
      "8,3\n",
      "9,9\n",
      "\n"
     ]
    }
   ],
   "source": [
    "with open('archivo.csv', 'r') as f:\n",
    "    print(f.read())"
   ]
  },
  {
   "cell_type": "code",
   "execution_count": 93,
   "id": "ad68ee88",
   "metadata": {
    "execution": {
     "iopub.execute_input": "2021-09-28T21:11:30.502660Z",
     "iopub.status.busy": "2021-09-28T21:11:30.501591Z",
     "iopub.status.idle": "2021-09-28T21:11:30.503706Z",
     "shell.execute_reply": "2021-09-28T21:11:30.504186Z"
    }
   },
   "outputs": [],
   "source": [
    "f = open('archivo.csv', 'w')\n",
    "f.write(\"algo, algo\")\n",
    "f.close()"
   ]
  },
  {
   "cell_type": "markdown",
   "id": "24e787ad",
   "metadata": {
    "slideshow": {
     "slide_type": "slide"
    }
   },
   "source": [
    "## Objetos\n",
    "\n",
    "Los objetos tienen metodos y atributos:\n",
    "- Atributos: equivalentes a variables.\n",
    "- Métodos: equivalentes a las primitivas."
   ]
  },
  {
   "cell_type": "markdown",
   "id": "da2a3a77",
   "metadata": {
    "slideshow": {
     "slide_type": "slide"
    }
   },
   "source": [
    "### Cómo creo una clase"
   ]
  },
  {
   "cell_type": "code",
   "execution_count": 94,
   "id": "e6fb264f",
   "metadata": {
    "execution": {
     "iopub.execute_input": "2021-09-28T21:11:30.511212Z",
     "iopub.status.busy": "2021-09-28T21:11:30.509921Z",
     "iopub.status.idle": "2021-09-28T21:11:30.511858Z",
     "shell.execute_reply": "2021-09-28T21:11:30.512342Z"
    },
    "slideshow": {
     "slide_type": "slide"
    }
   },
   "outputs": [],
   "source": [
    "class Nodo(object):\n",
    "    def __init__(self, dato, siguiente=None):\n",
    "        self._dato = dato\n",
    "        self._siguiente = siguiente\n",
    "\n",
    "    @property\n",
    "    def dato(self):\n",
    "        return self._dato\n",
    "\n",
    "    @property\n",
    "    def proximo(self):\n",
    "        return self._siguiente\n",
    "\n",
    "    @proximo.setter\n",
    "    def proximo(self, siguiente):\n",
    "        self._siguiente = siguiente\n",
    "\n",
    "    def __repr__(self):\n",
    "        return str(self.dato)\n",
    "\n",
    "    def __str__(self):\n",
    "        return str(self.dato)"
   ]
  },
  {
   "cell_type": "code",
   "execution_count": 95,
   "id": "7d2f6b0e",
   "metadata": {
    "execution": {
     "iopub.execute_input": "2021-09-28T21:11:30.518450Z",
     "iopub.status.busy": "2021-09-28T21:11:30.517159Z",
     "iopub.status.idle": "2021-09-28T21:11:30.520384Z",
     "shell.execute_reply": "2021-09-28T21:11:30.519851Z"
    },
    "slideshow": {
     "slide_type": "slide"
    }
   },
   "outputs": [
    {
     "name": "stdout",
     "output_type": "stream",
     "text": [
      "hola\n"
     ]
    }
   ],
   "source": [
    "nodo = Nodo(\"hola\")\n",
    "print(nodo)"
   ]
  },
  {
   "cell_type": "code",
   "execution_count": 96,
   "id": "c2093ba9",
   "metadata": {
    "execution": {
     "iopub.execute_input": "2021-09-28T21:11:30.525983Z",
     "iopub.status.busy": "2021-09-28T21:11:30.524580Z",
     "iopub.status.idle": "2021-09-28T21:11:30.527877Z",
     "shell.execute_reply": "2021-09-28T21:11:30.527392Z"
    },
    "slideshow": {
     "slide_type": "slide"
    }
   },
   "outputs": [
    {
     "name": "stdout",
     "output_type": "stream",
     "text": [
      "[hola, lala]\n"
     ]
    }
   ],
   "source": [
    "nodo2 = Nodo(\"lala\")\n",
    "print([nodo, nodo2])"
   ]
  },
  {
   "cell_type": "code",
   "execution_count": 97,
   "id": "29a9f39d",
   "metadata": {
    "execution": {
     "iopub.execute_input": "2021-09-28T21:11:30.531804Z",
     "iopub.status.busy": "2021-09-28T21:11:30.531244Z",
     "iopub.status.idle": "2021-09-28T21:11:30.534142Z",
     "shell.execute_reply": "2021-09-28T21:11:30.533652Z"
    },
    "slideshow": {
     "slide_type": "slide"
    }
   },
   "outputs": [
    {
     "name": "stdout",
     "output_type": "stream",
     "text": [
      "hola\n"
     ]
    }
   ],
   "source": [
    "nodo3 = nodo.dato\n",
    "print(nodo3)"
   ]
  },
  {
   "cell_type": "markdown",
   "id": "82942c96",
   "metadata": {
    "slideshow": {
     "slide_type": "slide"
    }
   },
   "source": [
    "### Ejemplo: Lista Enlazada"
   ]
  },
  {
   "cell_type": "code",
   "execution_count": 98,
   "id": "1ebd0e9b",
   "metadata": {
    "execution": {
     "iopub.execute_input": "2021-09-28T21:11:30.544362Z",
     "iopub.status.busy": "2021-09-28T21:11:30.543738Z",
     "iopub.status.idle": "2021-09-28T21:11:30.547989Z",
     "shell.execute_reply": "2021-09-28T21:11:30.546660Z"
    },
    "slideshow": {
     "slide_type": "slide"
    }
   },
   "outputs": [],
   "source": [
    "class ListaEnlazada(object):\n",
    "    def __init__(self):\n",
    "        self._primero = None\n",
    "        self._ultimo = None\n",
    "        self._largo = 0\n",
    "\n",
    "    def __len__(self):\n",
    "        return self._largo\n",
    "\n",
    "    def insertar_al_principio(self, dato):\n",
    "        nodo = Nodo(dato, self._primero)\n",
    "        self._primero = nodo\n",
    "        self._largo += 1\n",
    "        if self._largo == 1:\n",
    "            self._ultimo = nodo\n",
    "\n",
    "    def insertar_al_final(self, dato):\n",
    "        if self._largo != 0:\n",
    "            nodo = Nodo(dato)\n",
    "            nodo_anterior = self._ultimo\n",
    "            nodo_anterior._siguiente = nodo\n",
    "            self._ultimo = nodo\n",
    "            self._largo += 1\n",
    "        else:\n",
    "            self.insertar_al_principio(dato)\n",
    "\n",
    "    @property\n",
    "    def primero(self):\n",
    "        return self._primero.dato\n",
    "\n",
    "    def borrar_primero(self):\n",
    "        dato = self.primero.dato\n",
    "        self._primero = self.primero.siguiente\n",
    "        self._largo -= 1\n",
    "        if self._largo == 0:\n",
    "            self._ultimo = None\n",
    "        return dato\n",
    "\n",
    "    def __str__(self):\n",
    "        datos = []\n",
    "        nodo_actual = self._primero\n",
    "        while nodo_actual:\n",
    "            datos.append(nodo_actual.dato)\n",
    "            nodo_actual = nodo_actual.proximo\n",
    "        return \" -> \".join(datos)\n",
    "\n",
    "    def __repr__(self):\n",
    "        return self.__str__()"
   ]
  },
  {
   "cell_type": "code",
   "execution_count": 99,
   "id": "8a05ffe9",
   "metadata": {
    "execution": {
     "iopub.execute_input": "2021-09-28T21:11:30.554339Z",
     "iopub.status.busy": "2021-09-28T21:11:30.553752Z",
     "iopub.status.idle": "2021-09-28T21:11:30.563735Z",
     "shell.execute_reply": "2021-09-28T21:11:30.561624Z"
    },
    "slideshow": {
     "slide_type": "slide"
    }
   },
   "outputs": [
    {
     "data": {
      "text/plain": [
       "2"
      ]
     },
     "execution_count": 99,
     "metadata": {},
     "output_type": "execute_result"
    }
   ],
   "source": [
    "lista = ListaEnlazada()\n",
    "lista.insertar_al_principio(\"Primer Dato\")\n",
    "lista.insertar_al_principio(\"Primer primer Dato\")\n",
    "len(lista)"
   ]
  },
  {
   "cell_type": "code",
   "execution_count": 100,
   "id": "e93fa5ab",
   "metadata": {
    "execution": {
     "iopub.execute_input": "2021-09-28T21:11:30.568455Z",
     "iopub.status.busy": "2021-09-28T21:11:30.567855Z",
     "iopub.status.idle": "2021-09-28T21:11:30.571729Z",
     "shell.execute_reply": "2021-09-28T21:11:30.571138Z"
    }
   },
   "outputs": [
    {
     "data": {
      "text/plain": [
       "Primer primer Dato -> Primer Dato"
      ]
     },
     "execution_count": 100,
     "metadata": {},
     "output_type": "execute_result"
    }
   ],
   "source": [
    "lista"
   ]
  },
  {
   "cell_type": "code",
   "execution_count": 101,
   "id": "06e548df",
   "metadata": {
    "execution": {
     "iopub.execute_input": "2021-09-28T21:11:30.585628Z",
     "iopub.status.busy": "2021-09-28T21:11:30.585030Z",
     "iopub.status.idle": "2021-09-28T21:11:30.590366Z",
     "shell.execute_reply": "2021-09-28T21:11:30.590870Z"
    },
    "slideshow": {
     "slide_type": "slide"
    }
   },
   "outputs": [
    {
     "name": "stdout",
     "output_type": "stream",
     "text": [
      "Primer primer Dato\n"
     ]
    }
   ],
   "source": [
    "elemento = lista.primero\n",
    "print(elemento)"
   ]
  },
  {
   "cell_type": "markdown",
   "id": "6edfd968",
   "metadata": {},
   "source": [
    "## Recursos\n",
    "\n",
    "* [Taller de Python de Algoritmos II](https://github.com/algoritmos-rw/algo2_apuntes)\n",
    "\n",
    "* [Documentación de Python 3](https://docs.python.org/3/tutorial/)\n",
    "\n",
    "* [Apunte de Algoritmos y Programación I](https://algoritmos1rw.ddns.net/material)\n",
    "\n",
    "* [Automate the Boring Stuff with Python](http://automatetheboringstuff.com/)\n",
    "\n",
    "* [Curso Python](https://pythoncurso.github.io)\n",
    "\n",
    "* [Python Tutor](http://pythontutor.com/)\n",
    "\n",
    "* [Learn Python3 in Y minutes](https://learnxinyminutes.com/docs/python3/)\n",
    "\n",
    "* [Bibliografía de Algoritmos y Programación I](https://algoritmos1rw.ddns.net/bibliografia)"
   ]
  }
 ],
 "metadata": {
  "jupytext": {
   "encoding": "# -*- coding: utf-8 -*-",
   "formats": "ipynb,py:light"
  },
  "kernelspec": {
   "display_name": "Python 3 (venv)",
   "language": "python",
   "name": "python3"
  },
  "language_info": {
   "codemirror_mode": {
    "name": "ipython",
    "version": 3
   },
   "file_extension": ".py",
   "mimetype": "text/x-python",
   "name": "python",
   "nbconvert_exporter": "python",
   "pygments_lexer": "ipython3",
   "version": "3.7.12"
  }
 },
 "nbformat": 4,
 "nbformat_minor": 5
}
