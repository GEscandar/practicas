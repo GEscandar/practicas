{
 "cells": [
  {
   "cell_type": "markdown",
   "id": "c4968597",
   "metadata": {},
   "source": [
    "# Python"
   ]
  },
  {
   "cell_type": "markdown",
   "id": "e356c2e8",
   "metadata": {
    "slideshow": {
     "slide_type": "slide"
    }
   },
   "source": [
    "## Un poco de Historia"
   ]
  },
  {
   "cell_type": "markdown",
   "id": "9eeafb75",
   "metadata": {
    "slideshow": {
     "slide_type": "subslide"
    }
   },
   "source": [
    "Python fue creado a finales de los años 80 por un programador holandés llamado **Guido van Rossum**,\n",
    "quien sigue siendo aún hoy el líder del desarrollo del lenguaje.\n",
    "\n",
    "(Edit julio 2018: [ya no más](https://www.mail-archive.com/python-committers@python.org/msg05628.html))"
   ]
  },
  {
   "cell_type": "markdown",
   "id": "ca989bf8",
   "metadata": {
    "slideshow": {
     "slide_type": "subslide"
    }
   },
   "source": [
    "El nombre del lenguaje proviene de los humoristas británicos Monty Python.\n",
    "\n",
    ">*\"I chose Python as a working title for the project, being in a slightly irreverent mood (and a big fan of Monty Python's Flying Circus).\"*"
   ]
  },
  {
   "cell_type": "markdown",
   "id": "deee2765",
   "metadata": {
    "slideshow": {
     "slide_type": "slide"
    }
   },
   "source": [
    "## Caracteristicas\n",
    "\n",
    "- Interpretado\n",
    "- Tipado dinamico\n",
    "- Multiparadigma\n",
    "- Alto nivel\n",
    "- Tiene un recolector de basura (no hay malloc, free, realloc, etc)"
   ]
  },
  {
   "cell_type": "markdown",
   "id": "8a6810be",
   "metadata": {},
   "source": [
    "## ¿Cómo empezar?\n",
    "\n",
    "* Al ser un lenguaje *interpretado*, se puede ir escribiendo a medida que se ejecuta, sin necesidad de compilar de antemano! Solamente hace falta escribir `python` o `python3` en una terminal para empezar\n",
    "\n",
    "* También, permite escribir archivos y correrlos. Crear un archivo con extensión `.py` y luego correr `python miarchivo.py` en laterminal"
   ]
  },
  {
   "cell_type": "markdown",
   "id": "d45e8089",
   "metadata": {
    "slideshow": {
     "slide_type": "slide"
    }
   },
   "source": [
    "## El Zen de Python"
   ]
  },
  {
   "cell_type": "code",
   "execution_count": 1,
   "id": "de723ff3",
   "metadata": {
    "execution": {
     "iopub.execute_input": "2021-10-07T04:06:24.093167Z",
     "iopub.status.busy": "2021-10-07T04:06:24.092529Z",
     "iopub.status.idle": "2021-10-07T04:06:24.097118Z",
     "shell.execute_reply": "2021-10-07T04:06:24.097662Z"
    },
    "slideshow": {
     "slide_type": "slide"
    }
   },
   "outputs": [
    {
     "name": "stdout",
     "output_type": "stream",
     "text": [
      "The Zen of Python, by Tim Peters\n",
      "\n",
      "Beautiful is better than ugly.\n",
      "Explicit is better than implicit.\n",
      "Simple is better than complex.\n",
      "Complex is better than complicated.\n",
      "Flat is better than nested.\n",
      "Sparse is better than dense.\n",
      "Readability counts.\n",
      "Special cases aren't special enough to break the rules.\n",
      "Although practicality beats purity.\n",
      "Errors should never pass silently.\n",
      "Unless explicitly silenced.\n",
      "In the face of ambiguity, refuse the temptation to guess.\n",
      "There should be one-- and preferably only one --obvious way to do it.\n",
      "Although that way may not be obvious at first unless you're Dutch.\n",
      "Now is better than never.\n",
      "Although never is often better than *right* now.\n",
      "If the implementation is hard to explain, it's a bad idea.\n",
      "If the implementation is easy to explain, it may be a good idea.\n",
      "Namespaces are one honking great idea -- let's do more of those!\n"
     ]
    }
   ],
   "source": [
    "import this"
   ]
  },
  {
   "cell_type": "markdown",
   "id": "11d6e7e2",
   "metadata": {
    "slideshow": {
     "slide_type": "slide"
    }
   },
   "source": [
    "## Conocimientos Básicos de Python: Variables y Tipos"
   ]
  },
  {
   "cell_type": "code",
   "execution_count": 2,
   "id": "d8a8e632",
   "metadata": {
    "execution": {
     "iopub.execute_input": "2021-10-07T04:06:24.102070Z",
     "iopub.status.busy": "2021-10-07T04:06:24.101507Z",
     "iopub.status.idle": "2021-10-07T04:06:24.103670Z",
     "shell.execute_reply": "2021-10-07T04:06:24.104158Z"
    },
    "slideshow": {
     "slide_type": "slide"
    }
   },
   "outputs": [
    {
     "name": "stdout",
     "output_type": "stream",
     "text": [
      "Hello World!\n"
     ]
    }
   ],
   "source": [
    "# Este es un comentario\n",
    "\n",
    "print(\"Hello World!\")"
   ]
  },
  {
   "cell_type": "markdown",
   "id": "2326db89",
   "metadata": {},
   "source": [
    "Los strings en python puden escribirse tanto con comillas simples (`'`) como comillas dobles (`\"`). Normalmente vemos texto entre comillas triples para escribir _docstrings_, segun la guia de estilo de Python, el PEP8."
   ]
  },
  {
   "cell_type": "code",
   "execution_count": 3,
   "id": "37a54cde",
   "metadata": {
    "execution": {
     "iopub.execute_input": "2021-10-07T04:06:24.116102Z",
     "iopub.status.busy": "2021-10-07T04:06:24.115056Z",
     "iopub.status.idle": "2021-10-07T04:06:24.118944Z",
     "shell.execute_reply": "2021-10-07T04:06:24.118444Z"
    }
   },
   "outputs": [
    {
     "data": {
      "text/plain": [
       "'Esto es un docstring.\\n'"
      ]
     },
     "execution_count": 3,
     "metadata": {},
     "output_type": "execute_result"
    }
   ],
   "source": [
    "\"\"\"Esto es un docstring.\n",
    "\"\"\""
   ]
  },
  {
   "cell_type": "markdown",
   "id": "dd200b84",
   "metadata": {},
   "source": [
    "### Declaracion de variables"
   ]
  },
  {
   "cell_type": "code",
   "execution_count": 4,
   "id": "fe7df97a",
   "metadata": {
    "execution": {
     "iopub.execute_input": "2021-10-07T04:06:24.123824Z",
     "iopub.status.busy": "2021-10-07T04:06:24.123267Z",
     "iopub.status.idle": "2021-10-07T04:06:24.125661Z",
     "shell.execute_reply": "2021-10-07T04:06:24.126096Z"
    }
   },
   "outputs": [
    {
     "name": "stdout",
     "output_type": "stream",
     "text": [
      "Hola\n"
     ]
    }
   ],
   "source": [
    "string = 'Hola'\n",
    "print(string)"
   ]
  },
  {
   "cell_type": "code",
   "execution_count": 5,
   "id": "fe4616d3",
   "metadata": {
    "execution": {
     "iopub.execute_input": "2021-10-07T04:06:24.131386Z",
     "iopub.status.busy": "2021-10-07T04:06:24.130118Z",
     "iopub.status.idle": "2021-10-07T04:06:24.133535Z",
     "shell.execute_reply": "2021-10-07T04:06:24.133044Z"
    }
   },
   "outputs": [
    {
     "name": "stdout",
     "output_type": "stream",
     "text": [
      "1\n"
     ]
    }
   ],
   "source": [
    "entero = 1\n",
    "print(entero)"
   ]
  },
  {
   "cell_type": "code",
   "execution_count": 6,
   "id": "ee58a624",
   "metadata": {
    "execution": {
     "iopub.execute_input": "2021-10-07T04:06:24.138430Z",
     "iopub.status.busy": "2021-10-07T04:06:24.137580Z",
     "iopub.status.idle": "2021-10-07T04:06:24.140077Z",
     "shell.execute_reply": "2021-10-07T04:06:24.140520Z"
    }
   },
   "outputs": [
    {
     "name": "stdout",
     "output_type": "stream",
     "text": [
      "1.0\n"
     ]
    }
   ],
   "source": [
    "flotante = 1.0\n",
    "print(flotante)"
   ]
  },
  {
   "cell_type": "code",
   "execution_count": 7,
   "id": "7d188cef",
   "metadata": {
    "execution": {
     "iopub.execute_input": "2021-10-07T04:06:24.145671Z",
     "iopub.status.busy": "2021-10-07T04:06:24.144379Z",
     "iopub.status.idle": "2021-10-07T04:06:24.147690Z",
     "shell.execute_reply": "2021-10-07T04:06:24.147238Z"
    }
   },
   "outputs": [
    {
     "name": "stdout",
     "output_type": "stream",
     "text": [
      "(1, 1.0)\n"
     ]
    }
   ],
   "source": [
    "tupla = (entero, flotante)\n",
    "print(tupla)"
   ]
  },
  {
   "cell_type": "code",
   "execution_count": 8,
   "id": "71557145",
   "metadata": {
    "execution": {
     "iopub.execute_input": "2021-10-07T04:06:24.151549Z",
     "iopub.status.busy": "2021-10-07T04:06:24.149917Z",
     "iopub.status.idle": "2021-10-07T04:06:24.153343Z",
     "shell.execute_reply": "2021-10-07T04:06:24.153749Z"
    }
   },
   "outputs": [
    {
     "name": "stdout",
     "output_type": "stream",
     "text": [
      "(1, 1.0, 'Hola')\n"
     ]
    }
   ],
   "source": [
    "nupla = (entero, flotante, string)\n",
    "print(nupla)"
   ]
  },
  {
   "cell_type": "code",
   "execution_count": 9,
   "id": "ae432185",
   "metadata": {
    "execution": {
     "iopub.execute_input": "2021-10-07T04:06:24.157758Z",
     "iopub.status.busy": "2021-10-07T04:06:24.157186Z",
     "iopub.status.idle": "2021-10-07T04:06:24.161895Z",
     "shell.execute_reply": "2021-10-07T04:06:24.161431Z"
    }
   },
   "outputs": [
    {
     "name": "stdout",
     "output_type": "stream",
     "text": [
      "[1, 1.0, 'Hola']\n"
     ]
    }
   ],
   "source": [
    "lista = [entero, flotante, string]\n",
    "print(lista)"
   ]
  },
  {
   "cell_type": "code",
   "execution_count": 10,
   "id": "df279311",
   "metadata": {
    "execution": {
     "iopub.execute_input": "2021-10-07T04:06:24.166212Z",
     "iopub.status.busy": "2021-10-07T04:06:24.165650Z",
     "iopub.status.idle": "2021-10-07T04:06:24.169397Z",
     "shell.execute_reply": "2021-10-07T04:06:24.169797Z"
    }
   },
   "outputs": [
    {
     "name": "stdout",
     "output_type": "stream",
     "text": [
      "{'1': (1, 1.0), 50: (1, 1.0, 'Hola'), '3': 1}\n"
     ]
    }
   ],
   "source": [
    "diccionario = {'1': tupla, 50: nupla, '3': entero}\n",
    "print(diccionario)"
   ]
  },
  {
   "cell_type": "code",
   "execution_count": 11,
   "id": "1e51ef25",
   "metadata": {
    "execution": {
     "iopub.execute_input": "2021-10-07T04:06:24.173562Z",
     "iopub.status.busy": "2021-10-07T04:06:24.173049Z",
     "iopub.status.idle": "2021-10-07T04:06:24.177584Z",
     "shell.execute_reply": "2021-10-07T04:06:24.177091Z"
    }
   },
   "outputs": [
    {
     "name": "stdout",
     "output_type": "stream",
     "text": [
      "{1, 2}\n"
     ]
    }
   ],
   "source": [
    "conjunto = set([1, 2])\n",
    "print(conjunto)"
   ]
  },
  {
   "cell_type": "code",
   "execution_count": 12,
   "id": "b08ad0eb",
   "metadata": {
    "execution": {
     "iopub.execute_input": "2021-10-07T04:06:24.182712Z",
     "iopub.status.busy": "2021-10-07T04:06:24.181503Z",
     "iopub.status.idle": "2021-10-07T04:06:24.184727Z",
     "shell.execute_reply": "2021-10-07T04:06:24.184262Z"
    }
   },
   "outputs": [
    {
     "name": "stdout",
     "output_type": "stream",
     "text": [
      "True\n"
     ]
    }
   ],
   "source": [
    "booleano = True\n",
    "print(booleano)"
   ]
  },
  {
   "cell_type": "code",
   "execution_count": 13,
   "id": "7504101f",
   "metadata": {
    "execution": {
     "iopub.execute_input": "2021-10-07T04:06:24.188364Z",
     "iopub.status.busy": "2021-10-07T04:06:24.187810Z",
     "iopub.status.idle": "2021-10-07T04:06:24.190146Z",
     "shell.execute_reply": "2021-10-07T04:06:24.190595Z"
    }
   },
   "outputs": [
    {
     "name": "stdout",
     "output_type": "stream",
     "text": [
      "None\n"
     ]
    }
   ],
   "source": [
    "nada = None\n",
    "print(nada)"
   ]
  },
  {
   "cell_type": "markdown",
   "id": "07d7d537",
   "metadata": {},
   "source": [
    "Ojo que las variables pueden cambiar de tipo!"
   ]
  },
  {
   "cell_type": "code",
   "execution_count": 14,
   "id": "7f5edc29",
   "metadata": {
    "execution": {
     "iopub.execute_input": "2021-10-07T04:06:24.194954Z",
     "iopub.status.busy": "2021-10-07T04:06:24.194441Z",
     "iopub.status.idle": "2021-10-07T04:06:24.196557Z",
     "shell.execute_reply": "2021-10-07T04:06:24.197004Z"
    }
   },
   "outputs": [
    {
     "name": "stdout",
     "output_type": "stream",
     "text": [
      "1\n",
      "<class 'int'>\n"
     ]
    }
   ],
   "source": [
    "elemento = 1\n",
    "print(elemento)\n",
    "print(type(elemento))"
   ]
  },
  {
   "cell_type": "code",
   "execution_count": 15,
   "id": "91f1f30b",
   "metadata": {
    "execution": {
     "iopub.execute_input": "2021-10-07T04:06:24.201135Z",
     "iopub.status.busy": "2021-10-07T04:06:24.200621Z",
     "iopub.status.idle": "2021-10-07T04:06:24.202612Z",
     "shell.execute_reply": "2021-10-07T04:06:24.203027Z"
    }
   },
   "outputs": [
    {
     "name": "stdout",
     "output_type": "stream",
     "text": [
      "1\n",
      "<class 'str'>\n"
     ]
    }
   ],
   "source": [
    "elemento = str(1)\n",
    "print(elemento)\n",
    "print(type(elemento))"
   ]
  },
  {
   "cell_type": "code",
   "execution_count": 16,
   "id": "8dd085ba",
   "metadata": {
    "execution": {
     "iopub.execute_input": "2021-10-07T04:06:24.207375Z",
     "iopub.status.busy": "2021-10-07T04:06:24.206860Z",
     "iopub.status.idle": "2021-10-07T04:06:24.208952Z",
     "shell.execute_reply": "2021-10-07T04:06:24.209408Z"
    }
   },
   "outputs": [
    {
     "name": "stdout",
     "output_type": "stream",
     "text": [
      "[2]\n",
      "<class 'list'>\n"
     ]
    }
   ],
   "source": [
    "elemento = [2]\n",
    "\n",
    "print(elemento)\n",
    "print(type(elemento))"
   ]
  },
  {
   "cell_type": "markdown",
   "id": "0bb9e574",
   "metadata": {},
   "source": [
    "### Tipos basicos"
   ]
  },
  {
   "cell_type": "markdown",
   "id": "52b93063",
   "metadata": {
    "slideshow": {
     "slide_type": "slide"
    }
   },
   "source": [
    "#### Listas de Python"
   ]
  },
  {
   "cell_type": "code",
   "execution_count": 17,
   "id": "247bed48",
   "metadata": {
    "execution": {
     "iopub.execute_input": "2021-10-07T04:06:24.213842Z",
     "iopub.status.busy": "2021-10-07T04:06:24.213283Z",
     "iopub.status.idle": "2021-10-07T04:06:24.215638Z",
     "shell.execute_reply": "2021-10-07T04:06:24.216120Z"
    }
   },
   "outputs": [
    {
     "data": {
      "text/plain": [
       "[]"
      ]
     },
     "execution_count": 17,
     "metadata": {},
     "output_type": "execute_result"
    }
   ],
   "source": [
    "lista = list()\n",
    "lista"
   ]
  },
  {
   "cell_type": "code",
   "execution_count": 18,
   "id": "57713526",
   "metadata": {
    "execution": {
     "iopub.execute_input": "2021-10-07T04:06:24.220518Z",
     "iopub.status.busy": "2021-10-07T04:06:24.219917Z",
     "iopub.status.idle": "2021-10-07T04:06:24.222637Z",
     "shell.execute_reply": "2021-10-07T04:06:24.223121Z"
    },
    "slideshow": {
     "slide_type": "slide"
    }
   },
   "outputs": [
    {
     "data": {
      "text/plain": [
       "[]"
      ]
     },
     "execution_count": 18,
     "metadata": {},
     "output_type": "execute_result"
    }
   ],
   "source": [
    "lista = []\n",
    "lista"
   ]
  },
  {
   "cell_type": "code",
   "execution_count": 19,
   "id": "49ec9bc4",
   "metadata": {
    "execution": {
     "iopub.execute_input": "2021-10-07T04:06:24.227564Z",
     "iopub.status.busy": "2021-10-07T04:06:24.227034Z",
     "iopub.status.idle": "2021-10-07T04:06:24.229378Z",
     "shell.execute_reply": "2021-10-07T04:06:24.229923Z"
    },
    "slideshow": {
     "slide_type": "slide"
    }
   },
   "outputs": [
    {
     "data": {
      "text/plain": [
       "[1, 2, 3, 4]"
      ]
     },
     "execution_count": 19,
     "metadata": {},
     "output_type": "execute_result"
    }
   ],
   "source": [
    "lista = [1, 2, 3, 4]\n",
    "lista"
   ]
  },
  {
   "cell_type": "code",
   "execution_count": 20,
   "id": "13745dc6",
   "metadata": {
    "execution": {
     "iopub.execute_input": "2021-10-07T04:06:24.234441Z",
     "iopub.status.busy": "2021-10-07T04:06:24.233909Z",
     "iopub.status.idle": "2021-10-07T04:06:24.237505Z",
     "shell.execute_reply": "2021-10-07T04:06:24.238174Z"
    },
    "slideshow": {
     "slide_type": "slide"
    }
   },
   "outputs": [
    {
     "data": {
      "text/plain": [
       "[1, 2, 3, 4, 1, 'dos', 3.0]"
      ]
     },
     "execution_count": 20,
     "metadata": {},
     "output_type": "execute_result"
    }
   ],
   "source": [
    "lista.append(1)  # Inserto un 1 al final\n",
    "lista.append(\"dos\")  # Inserto un \"dos\" al final\n",
    "lista.append(3.0)  # Inserto un 3.0 al final\n",
    "lista"
   ]
  },
  {
   "cell_type": "code",
   "execution_count": 21,
   "id": "4434581c",
   "metadata": {
    "execution": {
     "iopub.execute_input": "2021-10-07T04:06:24.243460Z",
     "iopub.status.busy": "2021-10-07T04:06:24.242265Z",
     "iopub.status.idle": "2021-10-07T04:06:24.245594Z",
     "shell.execute_reply": "2021-10-07T04:06:24.245109Z"
    }
   },
   "outputs": [
    {
     "name": "stdout",
     "output_type": "stream",
     "text": [
      "[1, 2, 10, 3, 4, 1, 'dos', 3.0]\n"
     ]
    }
   ],
   "source": [
    "lista.insert(2, 10)  # Inserto en posicion 2 un 10\n",
    "print(lista)"
   ]
  },
  {
   "cell_type": "code",
   "execution_count": 22,
   "id": "b3c695fa",
   "metadata": {
    "execution": {
     "iopub.execute_input": "2021-10-07T04:06:24.249645Z",
     "iopub.status.busy": "2021-10-07T04:06:24.249094Z",
     "iopub.status.idle": "2021-10-07T04:06:24.251798Z",
     "shell.execute_reply": "2021-10-07T04:06:24.252298Z"
    }
   },
   "outputs": [
    {
     "data": {
      "text/plain": [
       "8"
      ]
     },
     "execution_count": 22,
     "metadata": {},
     "output_type": "execute_result"
    }
   ],
   "source": [
    "len(lista)"
   ]
  },
  {
   "cell_type": "code",
   "execution_count": 23,
   "id": "bf59c114",
   "metadata": {
    "execution": {
     "iopub.execute_input": "2021-10-07T04:06:24.256278Z",
     "iopub.status.busy": "2021-10-07T04:06:24.255698Z",
     "iopub.status.idle": "2021-10-07T04:06:24.258140Z",
     "shell.execute_reply": "2021-10-07T04:06:24.258655Z"
    }
   },
   "outputs": [
    {
     "data": {
      "text/plain": [
       "3.0"
      ]
     },
     "execution_count": 23,
     "metadata": {},
     "output_type": "execute_result"
    }
   ],
   "source": [
    "lista.pop()"
   ]
  },
  {
   "cell_type": "code",
   "execution_count": 24,
   "id": "5f4d2923",
   "metadata": {
    "execution": {
     "iopub.execute_input": "2021-10-07T04:06:24.262808Z",
     "iopub.status.busy": "2021-10-07T04:06:24.262294Z",
     "iopub.status.idle": "2021-10-07T04:06:24.264693Z",
     "shell.execute_reply": "2021-10-07T04:06:24.265145Z"
    }
   },
   "outputs": [
    {
     "data": {
      "text/plain": [
       "[1, 2, 10, 3, 4, 1, 'dos']"
      ]
     },
     "execution_count": 24,
     "metadata": {},
     "output_type": "execute_result"
    }
   ],
   "source": [
    "lista"
   ]
  },
  {
   "cell_type": "code",
   "execution_count": 25,
   "id": "49cbcb20",
   "metadata": {
    "execution": {
     "iopub.execute_input": "2021-10-07T04:06:24.269482Z",
     "iopub.status.busy": "2021-10-07T04:06:24.268955Z",
     "iopub.status.idle": "2021-10-07T04:06:24.271546Z",
     "shell.execute_reply": "2021-10-07T04:06:24.272008Z"
    }
   },
   "outputs": [
    {
     "data": {
      "text/plain": [
       "2"
      ]
     },
     "execution_count": 25,
     "metadata": {},
     "output_type": "execute_result"
    }
   ],
   "source": [
    "lista.index(10)"
   ]
  },
  {
   "cell_type": "code",
   "execution_count": 26,
   "id": "d1d4c020",
   "metadata": {
    "execution": {
     "iopub.execute_input": "2021-10-07T04:06:24.276213Z",
     "iopub.status.busy": "2021-10-07T04:06:24.275674Z",
     "iopub.status.idle": "2021-10-07T04:06:24.278150Z",
     "shell.execute_reply": "2021-10-07T04:06:24.278690Z"
    }
   },
   "outputs": [
    {
     "data": {
      "text/plain": [
       "[1, 2, 3, 4, 1, 'dos']"
      ]
     },
     "execution_count": 26,
     "metadata": {},
     "output_type": "execute_result"
    }
   ],
   "source": [
    "lista.remove(10)\n",
    "lista"
   ]
  },
  {
   "cell_type": "code",
   "execution_count": 27,
   "id": "86a082e2",
   "metadata": {
    "execution": {
     "iopub.execute_input": "2021-10-07T04:06:24.282571Z",
     "iopub.status.busy": "2021-10-07T04:06:24.281877Z",
     "iopub.status.idle": "2021-10-07T04:06:24.354344Z",
     "shell.execute_reply": "2021-10-07T04:06:24.355008Z"
    },
    "tags": [
     "raises-exception"
    ]
   },
   "outputs": [
    {
     "name": "stdout",
     "output_type": "stream",
     "text": [
      "1\n",
      "2\n",
      "2\n",
      "3\n",
      "3\n",
      "4\n",
      "4\n",
      "5\n",
      "1\n",
      "2\n",
      "dos\n"
     ]
    },
    {
     "ename": "TypeError",
     "evalue": "can only concatenate str (not \"int\") to str",
     "output_type": "error",
     "traceback": [
      "\u001b[0;31m---------------------------------------------------------------------------\u001b[0m",
      "\u001b[0;31mTypeError\u001b[0m                                 Traceback (most recent call last)",
      "\u001b[0;32m/tmp/ipykernel_1953/1783555086.py\u001b[0m in \u001b[0;36m<module>\u001b[0;34m\u001b[0m\n\u001b[1;32m      1\u001b[0m \u001b[0;32mfor\u001b[0m \u001b[0melemento\u001b[0m \u001b[0;32min\u001b[0m \u001b[0mlista\u001b[0m\u001b[0;34m:\u001b[0m\u001b[0;34m\u001b[0m\u001b[0;34m\u001b[0m\u001b[0m\n\u001b[1;32m      2\u001b[0m     \u001b[0mprint\u001b[0m\u001b[0;34m(\u001b[0m\u001b[0melemento\u001b[0m\u001b[0;34m)\u001b[0m\u001b[0;34m\u001b[0m\u001b[0;34m\u001b[0m\u001b[0m\n\u001b[0;32m----> 3\u001b[0;31m     \u001b[0mprint\u001b[0m\u001b[0;34m(\u001b[0m\u001b[0melemento\u001b[0m \u001b[0;34m+\u001b[0m \u001b[0;36m1\u001b[0m\u001b[0;34m)\u001b[0m\u001b[0;34m\u001b[0m\u001b[0;34m\u001b[0m\u001b[0m\n\u001b[0m",
      "\u001b[0;31mTypeError\u001b[0m: can only concatenate str (not \"int\") to str"
     ]
    }
   ],
   "source": [
    "for elemento in lista:\n",
    "    print(elemento)\n",
    "    print(elemento + 1)"
   ]
  },
  {
   "cell_type": "code",
   "execution_count": 28,
   "id": "d696b043",
   "metadata": {
    "execution": {
     "iopub.execute_input": "2021-10-07T04:06:24.361945Z",
     "iopub.status.busy": "2021-10-07T04:06:24.360676Z",
     "iopub.status.idle": "2021-10-07T04:06:24.364486Z",
     "shell.execute_reply": "2021-10-07T04:06:24.363953Z"
    }
   },
   "outputs": [
    {
     "data": {
      "text/plain": [
       "[1, 2, 3, 4, 1, 'dos']"
      ]
     },
     "execution_count": 28,
     "metadata": {},
     "output_type": "execute_result"
    }
   ],
   "source": [
    "lista"
   ]
  },
  {
   "cell_type": "code",
   "execution_count": 29,
   "id": "5e6550aa",
   "metadata": {
    "execution": {
     "iopub.execute_input": "2021-10-07T04:06:24.369144Z",
     "iopub.status.busy": "2021-10-07T04:06:24.368570Z",
     "iopub.status.idle": "2021-10-07T04:06:24.373757Z",
     "shell.execute_reply": "2021-10-07T04:06:24.374161Z"
    }
   },
   "outputs": [
    {
     "name": "stdout",
     "output_type": "stream",
     "text": [
      "0-ésimo elemento: 1\n",
      "1-ésimo elemento: 2\n"
     ]
    },
    {
     "name": "stdout",
     "output_type": "stream",
     "text": [
      "2-ésimo elemento: 3\n",
      "3-ésimo elemento: 4\n",
      "4-ésimo elemento: 1\n",
      "5-ésimo elemento: dos\n"
     ]
    }
   ],
   "source": [
    "for i, elemento in enumerate(lista):\n",
    "    print(f\"{i}-ésimo elemento: {elemento}\")"
   ]
  },
  {
   "cell_type": "code",
   "execution_count": 30,
   "id": "d4c8e277",
   "metadata": {
    "execution": {
     "iopub.execute_input": "2021-10-07T04:06:24.380842Z",
     "iopub.status.busy": "2021-10-07T04:06:24.380187Z",
     "iopub.status.idle": "2021-10-07T04:06:24.383847Z",
     "shell.execute_reply": "2021-10-07T04:06:24.383370Z"
    },
    "tags": [
     "raises-exception"
    ]
   },
   "outputs": [
    {
     "ename": "TypeError",
     "evalue": "'<' not supported between instances of 'str' and 'int'",
     "output_type": "error",
     "traceback": [
      "\u001b[0;31m---------------------------------------------------------------------------\u001b[0m",
      "\u001b[0;31mTypeError\u001b[0m                                 Traceback (most recent call last)",
      "\u001b[0;32m/tmp/ipykernel_1953/2266425520.py\u001b[0m in \u001b[0;36m<module>\u001b[0;34m\u001b[0m\n\u001b[0;32m----> 1\u001b[0;31m \u001b[0msorted\u001b[0m\u001b[0;34m(\u001b[0m\u001b[0mlista\u001b[0m\u001b[0;34m)\u001b[0m\u001b[0;34m\u001b[0m\u001b[0;34m\u001b[0m\u001b[0m\n\u001b[0m",
      "\u001b[0;31mTypeError\u001b[0m: '<' not supported between instances of 'str' and 'int'"
     ]
    }
   ],
   "source": [
    "sorted(lista)"
   ]
  },
  {
   "cell_type": "code",
   "execution_count": 31,
   "id": "668fee1c",
   "metadata": {
    "execution": {
     "iopub.execute_input": "2021-10-07T04:06:24.388759Z",
     "iopub.status.busy": "2021-10-07T04:06:24.387446Z",
     "iopub.status.idle": "2021-10-07T04:06:24.389399Z",
     "shell.execute_reply": "2021-10-07T04:06:24.389851Z"
    }
   },
   "outputs": [],
   "source": [
    "lista.remove(\"dos\")"
   ]
  },
  {
   "cell_type": "code",
   "execution_count": 32,
   "id": "464e6b05",
   "metadata": {
    "execution": {
     "iopub.execute_input": "2021-10-07T04:06:24.395349Z",
     "iopub.status.busy": "2021-10-07T04:06:24.394384Z",
     "iopub.status.idle": "2021-10-07T04:06:24.397564Z",
     "shell.execute_reply": "2021-10-07T04:06:24.398022Z"
    }
   },
   "outputs": [
    {
     "data": {
      "text/plain": [
       "[1, 1, 2, 3, 4]"
      ]
     },
     "execution_count": 32,
     "metadata": {},
     "output_type": "execute_result"
    }
   ],
   "source": [
    "sorted(lista)"
   ]
  },
  {
   "cell_type": "code",
   "execution_count": 33,
   "id": "e38296d4",
   "metadata": {
    "execution": {
     "iopub.execute_input": "2021-10-07T04:06:24.403693Z",
     "iopub.status.busy": "2021-10-07T04:06:24.402734Z",
     "iopub.status.idle": "2021-10-07T04:06:24.405966Z",
     "shell.execute_reply": "2021-10-07T04:06:24.406396Z"
    }
   },
   "outputs": [
    {
     "data": {
      "text/plain": [
       "[1, 1, 2, 3, 4]"
      ]
     },
     "execution_count": 33,
     "metadata": {},
     "output_type": "execute_result"
    }
   ],
   "source": [
    "lista.sort()\n",
    "lista"
   ]
  },
  {
   "cell_type": "markdown",
   "id": "d76e09ff",
   "metadata": {
    "slideshow": {
     "slide_type": "slide"
    }
   },
   "source": [
    "#### Tuplas de Python\n",
    "\n",
    "Las tuplas son inmutables. No se pueden agregar elementos luego de creadas."
   ]
  },
  {
   "cell_type": "code",
   "execution_count": 34,
   "id": "d582a753",
   "metadata": {
    "execution": {
     "iopub.execute_input": "2021-10-07T04:06:24.414944Z",
     "iopub.status.busy": "2021-10-07T04:06:24.413808Z",
     "iopub.status.idle": "2021-10-07T04:06:24.418672Z",
     "shell.execute_reply": "2021-10-07T04:06:24.418175Z"
    },
    "slideshow": {
     "slide_type": "slide"
    },
    "tags": [
     "raises-exception"
    ]
   },
   "outputs": [
    {
     "name": "stdout",
     "output_type": "stream",
     "text": [
      "(1, 2)\n",
      "1\n",
      "2\n"
     ]
    },
    {
     "ename": "TypeError",
     "evalue": "'tuple' object does not support item assignment",
     "output_type": "error",
     "traceback": [
      "\u001b[0;31m---------------------------------------------------------------------------\u001b[0m",
      "\u001b[0;31mTypeError\u001b[0m                                 Traceback (most recent call last)",
      "\u001b[0;32m/tmp/ipykernel_1953/3644040918.py\u001b[0m in \u001b[0;36m<module>\u001b[0;34m\u001b[0m\n\u001b[1;32m      5\u001b[0m \u001b[0mprint\u001b[0m\u001b[0;34m(\u001b[0m\u001b[0mtupla\u001b[0m\u001b[0;34m[\u001b[0m\u001b[0;36m1\u001b[0m\u001b[0;34m]\u001b[0m\u001b[0;34m)\u001b[0m\u001b[0;34m\u001b[0m\u001b[0;34m\u001b[0m\u001b[0m\n\u001b[1;32m      6\u001b[0m \u001b[0;34m\u001b[0m\u001b[0m\n\u001b[0;32m----> 7\u001b[0;31m \u001b[0mtupla\u001b[0m\u001b[0;34m[\u001b[0m\u001b[0;36m1\u001b[0m\u001b[0;34m]\u001b[0m \u001b[0;34m=\u001b[0m \u001b[0;36m3\u001b[0m  \u001b[0;31m# Falla. No se puede mutar\u001b[0m\u001b[0;34m\u001b[0m\u001b[0;34m\u001b[0m\u001b[0m\n\u001b[0m",
      "\u001b[0;31mTypeError\u001b[0m: 'tuple' object does not support item assignment"
     ]
    }
   ],
   "source": [
    "tupla = (1, 2)\n",
    "\n",
    "print(tupla)\n",
    "print(tupla[0])\n",
    "print(tupla[1])\n",
    "\n",
    "tupla[1] = 3  # Falla. No se puede mutar"
   ]
  },
  {
   "cell_type": "code",
   "execution_count": 35,
   "id": "304ce1d4",
   "metadata": {
    "execution": {
     "iopub.execute_input": "2021-10-07T04:06:24.424192Z",
     "iopub.status.busy": "2021-10-07T04:06:24.423213Z",
     "iopub.status.idle": "2021-10-07T04:06:24.426785Z",
     "shell.execute_reply": "2021-10-07T04:06:24.426341Z"
    }
   },
   "outputs": [
    {
     "data": {
      "text/plain": [
       "[1, 2]"
      ]
     },
     "execution_count": 35,
     "metadata": {},
     "output_type": "execute_result"
    }
   ],
   "source": [
    "l = [1, 2]\n",
    "l"
   ]
  },
  {
   "cell_type": "code",
   "execution_count": 36,
   "id": "df77f773",
   "metadata": {
    "execution": {
     "iopub.execute_input": "2021-10-07T04:06:24.432156Z",
     "iopub.status.busy": "2021-10-07T04:06:24.431188Z",
     "iopub.status.idle": "2021-10-07T04:06:24.434362Z",
     "shell.execute_reply": "2021-10-07T04:06:24.434784Z"
    }
   },
   "outputs": [
    {
     "data": {
      "text/plain": [
       "[1, 3]"
      ]
     },
     "execution_count": 36,
     "metadata": {},
     "output_type": "execute_result"
    }
   ],
   "source": [
    "l[1] = 3\n",
    "l"
   ]
  },
  {
   "cell_type": "markdown",
   "id": "9af4179e",
   "metadata": {
    "slideshow": {
     "slide_type": "slide"
    }
   },
   "source": [
    "#### Diferencia entre lista y tupla\n",
    "Las listas se caracterizan por ser mutables, es decir, se puede cambiar su contenido en tiempo de ejecución, mientras que las tuplas son inmutables ya que no es posible modificar el contenido una vez creada."
   ]
  },
  {
   "cell_type": "markdown",
   "id": "8278ade5",
   "metadata": {},
   "source": [
    "#### Slices\n",
    "\n",
    "**Valen para listas, tuplas o strings (_segmentos_)**"
   ]
  },
  {
   "cell_type": "code",
   "execution_count": 37,
   "id": "5254db9f",
   "metadata": {
    "execution": {
     "iopub.execute_input": "2021-10-07T04:06:24.438625Z",
     "iopub.status.busy": "2021-10-07T04:06:24.438113Z",
     "iopub.status.idle": "2021-10-07T04:06:24.440536Z",
     "shell.execute_reply": "2021-10-07T04:06:24.440026Z"
    }
   },
   "outputs": [],
   "source": [
    "numeros = [0, 1, 2, 3, 4, 5, 6, 7, 8, 9, 10]"
   ]
  },
  {
   "cell_type": "code",
   "execution_count": 38,
   "id": "09230d9e",
   "metadata": {
    "execution": {
     "iopub.execute_input": "2021-10-07T04:06:24.445609Z",
     "iopub.status.busy": "2021-10-07T04:06:24.444320Z",
     "iopub.status.idle": "2021-10-07T04:06:24.447745Z",
     "shell.execute_reply": "2021-10-07T04:06:24.447265Z"
    }
   },
   "outputs": [
    {
     "name": "stdout",
     "output_type": "stream",
     "text": [
      "[0, 1, 2, 3, 4, 5, 6, 7, 8, 9, 10]\n"
     ]
    }
   ],
   "source": [
    "print(numeros)"
   ]
  },
  {
   "cell_type": "code",
   "execution_count": 39,
   "id": "f1193235",
   "metadata": {
    "execution": {
     "iopub.execute_input": "2021-10-07T04:06:24.451869Z",
     "iopub.status.busy": "2021-10-07T04:06:24.451354Z",
     "iopub.status.idle": "2021-10-07T04:06:24.453554Z",
     "shell.execute_reply": "2021-10-07T04:06:24.453974Z"
    }
   },
   "outputs": [
    {
     "name": "stdout",
     "output_type": "stream",
     "text": [
      "2\n"
     ]
    }
   ],
   "source": [
    "print(numeros[2])  # Imprimo elemento en la posición 2"
   ]
  },
  {
   "cell_type": "code",
   "execution_count": 40,
   "id": "9c232e7b",
   "metadata": {
    "execution": {
     "iopub.execute_input": "2021-10-07T04:06:24.458418Z",
     "iopub.status.busy": "2021-10-07T04:06:24.457888Z",
     "iopub.status.idle": "2021-10-07T04:06:24.461436Z",
     "shell.execute_reply": "2021-10-07T04:06:24.461838Z"
    }
   },
   "outputs": [
    {
     "data": {
      "text/plain": [
       "10"
      ]
     },
     "execution_count": 40,
     "metadata": {},
     "output_type": "execute_result"
    }
   ],
   "source": [
    "numeros[len(numeros) - 1]"
   ]
  },
  {
   "cell_type": "code",
   "execution_count": 41,
   "id": "ec2a9384",
   "metadata": {
    "execution": {
     "iopub.execute_input": "2021-10-07T04:06:24.466039Z",
     "iopub.status.busy": "2021-10-07T04:06:24.465491Z",
     "iopub.status.idle": "2021-10-07T04:06:24.467695Z",
     "shell.execute_reply": "2021-10-07T04:06:24.468138Z"
    },
    "lines_to_next_cell": 2
   },
   "outputs": [
    {
     "name": "stdout",
     "output_type": "stream",
     "text": [
      "10\n"
     ]
    }
   ],
   "source": [
    "print(numeros[-1])  # # Imprimo elemento en la última posición"
   ]
  },
  {
   "cell_type": "code",
   "execution_count": 42,
   "id": "a7ab88ba",
   "metadata": {
    "execution": {
     "iopub.execute_input": "2021-10-07T04:06:24.472633Z",
     "iopub.status.busy": "2021-10-07T04:06:24.472101Z",
     "iopub.status.idle": "2021-10-07T04:06:24.474644Z",
     "shell.execute_reply": "2021-10-07T04:06:24.475065Z"
    },
    "lines_to_next_cell": 2
   },
   "outputs": [
    {
     "data": {
      "text/plain": [
       "9"
      ]
     },
     "execution_count": 42,
     "metadata": {},
     "output_type": "execute_result"
    }
   ],
   "source": [
    "numeros[-2]"
   ]
  },
  {
   "cell_type": "code",
   "execution_count": 43,
   "id": "430fe73c",
   "metadata": {
    "execution": {
     "iopub.execute_input": "2021-10-07T04:06:24.478817Z",
     "iopub.status.busy": "2021-10-07T04:06:24.478289Z",
     "iopub.status.idle": "2021-10-07T04:06:24.480542Z",
     "shell.execute_reply": "2021-10-07T04:06:24.480994Z"
    }
   },
   "outputs": [
    {
     "name": "stdout",
     "output_type": "stream",
     "text": [
      "[0, 1, 2]\n"
     ]
    }
   ],
   "source": [
    "print(numeros[0:3])  # Imprimo de la pos 0 a la pos 2"
   ]
  },
  {
   "cell_type": "code",
   "execution_count": 44,
   "id": "acabd6b5",
   "metadata": {
    "execution": {
     "iopub.execute_input": "2021-10-07T04:06:24.485151Z",
     "iopub.status.busy": "2021-10-07T04:06:24.484375Z",
     "iopub.status.idle": "2021-10-07T04:06:24.486686Z",
     "shell.execute_reply": "2021-10-07T04:06:24.487103Z"
    }
   },
   "outputs": [
    {
     "name": "stdout",
     "output_type": "stream",
     "text": [
      "[7, 8]\n"
     ]
    }
   ],
   "source": [
    "print(numeros[-4:-2])"
   ]
  },
  {
   "cell_type": "code",
   "execution_count": 45,
   "id": "e4e9f43c",
   "metadata": {
    "execution": {
     "iopub.execute_input": "2021-10-07T04:06:24.491121Z",
     "iopub.status.busy": "2021-10-07T04:06:24.490567Z",
     "iopub.status.idle": "2021-10-07T04:06:24.492858Z",
     "shell.execute_reply": "2021-10-07T04:06:24.493279Z"
    }
   },
   "outputs": [
    {
     "name": "stdout",
     "output_type": "stream",
     "text": [
      "[0, 1, 2, 3, 4, 5, 6, 7, 8, 9, 10]\n"
     ]
    }
   ],
   "source": [
    "print(numeros[0:80])"
   ]
  },
  {
   "cell_type": "code",
   "execution_count": 46,
   "id": "da255143",
   "metadata": {
    "execution": {
     "iopub.execute_input": "2021-10-07T04:06:24.497298Z",
     "iopub.status.busy": "2021-10-07T04:06:24.496734Z",
     "iopub.status.idle": "2021-10-07T04:06:24.499064Z",
     "shell.execute_reply": "2021-10-07T04:06:24.499523Z"
    }
   },
   "outputs": [
    {
     "name": "stdout",
     "output_type": "stream",
     "text": [
      "[0, 1, 2]\n"
     ]
    }
   ],
   "source": [
    "print(numeros[:3])"
   ]
  },
  {
   "cell_type": "code",
   "execution_count": 47,
   "id": "9c14deea",
   "metadata": {
    "execution": {
     "iopub.execute_input": "2021-10-07T04:06:24.503252Z",
     "iopub.status.busy": "2021-10-07T04:06:24.502628Z",
     "iopub.status.idle": "2021-10-07T04:06:24.505473Z",
     "shell.execute_reply": "2021-10-07T04:06:24.505010Z"
    }
   },
   "outputs": [
    {
     "name": "stdout",
     "output_type": "stream",
     "text": [
      "[3, 4, 5, 6, 7, 8, 9, 10]\n"
     ]
    }
   ],
   "source": [
    "print(numeros[3:])"
   ]
  },
  {
   "cell_type": "code",
   "execution_count": 48,
   "id": "60672d00",
   "metadata": {
    "execution": {
     "iopub.execute_input": "2021-10-07T04:06:24.509297Z",
     "iopub.status.busy": "2021-10-07T04:06:24.508732Z",
     "iopub.status.idle": "2021-10-07T04:06:24.511053Z",
     "shell.execute_reply": "2021-10-07T04:06:24.511504Z"
    }
   },
   "outputs": [
    {
     "name": "stdout",
     "output_type": "stream",
     "text": [
      "[0, 2, 4, 6, 8]\n"
     ]
    }
   ],
   "source": [
    "print(numeros[0:10:2])"
   ]
  },
  {
   "cell_type": "markdown",
   "id": "38afc701",
   "metadata": {},
   "source": [
    "```python\n",
    "lista[<inicio>:<final>:<step>]\n",
    "```"
   ]
  },
  {
   "cell_type": "code",
   "execution_count": 49,
   "id": "6b555537",
   "metadata": {
    "execution": {
     "iopub.execute_input": "2021-10-07T04:06:24.515926Z",
     "iopub.status.busy": "2021-10-07T04:06:24.515385Z",
     "iopub.status.idle": "2021-10-07T04:06:24.517918Z",
     "shell.execute_reply": "2021-10-07T04:06:24.518339Z"
    },
    "lines_to_next_cell": 2
   },
   "outputs": [
    {
     "data": {
      "text/plain": [
       "[1, 2, 3, 4]"
      ]
     },
     "execution_count": 49,
     "metadata": {},
     "output_type": "execute_result"
    }
   ],
   "source": [
    "l1 = [1, 2]\n",
    "l2 = [3, 4]\n",
    "l1 + l2"
   ]
  },
  {
   "cell_type": "code",
   "execution_count": 50,
   "id": "665aed70",
   "metadata": {
    "execution": {
     "iopub.execute_input": "2021-10-07T04:06:24.521572Z",
     "iopub.status.busy": "2021-10-07T04:06:24.520609Z",
     "iopub.status.idle": "2021-10-07T04:06:24.524394Z",
     "shell.execute_reply": "2021-10-07T04:06:24.523922Z"
    }
   },
   "outputs": [
    {
     "name": "stdout",
     "output_type": "stream",
     "text": [
      "[0, 1, 2, 3, 4, 5, 6, 'siete', 8, 9, 10]\n"
     ]
    }
   ],
   "source": [
    "numeros[7] = 'siete'  # Las listas se pueden mutar\n",
    "print(numeros)"
   ]
  },
  {
   "cell_type": "code",
   "execution_count": 51,
   "id": "74ec76d4",
   "metadata": {
    "execution": {
     "iopub.execute_input": "2021-10-07T04:06:24.528575Z",
     "iopub.status.busy": "2021-10-07T04:06:24.528048Z",
     "iopub.status.idle": "2021-10-07T04:06:24.530223Z",
     "shell.execute_reply": "2021-10-07T04:06:24.530671Z"
    }
   },
   "outputs": [
    {
     "name": "stdout",
     "output_type": "stream",
     "text": [
      "[10, 9, 8, 'siete', 6, 5, 4, 3, 2, 1, 0]\n"
     ]
    }
   ],
   "source": [
    "numeros = numeros[::-1]\n",
    "print(numeros)"
   ]
  },
  {
   "cell_type": "code",
   "execution_count": 52,
   "id": "60bf60bc",
   "metadata": {
    "execution": {
     "iopub.execute_input": "2021-10-07T04:06:24.537266Z",
     "iopub.status.busy": "2021-10-07T04:06:24.536729Z",
     "iopub.status.idle": "2021-10-07T04:06:24.538874Z",
     "shell.execute_reply": "2021-10-07T04:06:24.539293Z"
    },
    "tags": [
     "raises-exception"
    ]
   },
   "outputs": [
    {
     "ename": "IndexError",
     "evalue": "list index out of range",
     "output_type": "error",
     "traceback": [
      "\u001b[0;31m---------------------------------------------------------------------------\u001b[0m",
      "\u001b[0;31mIndexError\u001b[0m                                Traceback (most recent call last)",
      "\u001b[0;32m/tmp/ipykernel_1953/1255736182.py\u001b[0m in \u001b[0;36m<module>\u001b[0;34m\u001b[0m\n\u001b[0;32m----> 1\u001b[0;31m \u001b[0mprint\u001b[0m\u001b[0;34m(\u001b[0m\u001b[0mnumeros\u001b[0m\u001b[0;34m[\u001b[0m\u001b[0;36m15\u001b[0m\u001b[0;34m]\u001b[0m\u001b[0;34m)\u001b[0m  \u001b[0;31m# Falla. No se puede acceder a una posición inexistente\u001b[0m\u001b[0;34m\u001b[0m\u001b[0;34m\u001b[0m\u001b[0m\n\u001b[0m",
      "\u001b[0;31mIndexError\u001b[0m: list index out of range"
     ]
    }
   ],
   "source": [
    "print(numeros[15])  # Falla. No se puede acceder a una posición inexistente"
   ]
  },
  {
   "cell_type": "code",
   "execution_count": 53,
   "id": "d8530a84",
   "metadata": {
    "execution": {
     "iopub.execute_input": "2021-10-07T04:06:24.543688Z",
     "iopub.status.busy": "2021-10-07T04:06:24.543060Z",
     "iopub.status.idle": "2021-10-07T04:06:24.545439Z",
     "shell.execute_reply": "2021-10-07T04:06:24.545863Z"
    }
   },
   "outputs": [
    {
     "name": "stdout",
     "output_type": "stream",
     "text": [
      "palabra\n",
      "a\n",
      "pal\n",
      "abra\n"
     ]
    }
   ],
   "source": [
    "palabra = 'palabra'\n",
    "print(palabra)\n",
    "print(palabra[3])\n",
    "print(palabra[:3])\n",
    "print(palabra[3:])"
   ]
  },
  {
   "cell_type": "code",
   "execution_count": 54,
   "id": "dcabb85a",
   "metadata": {
    "execution": {
     "iopub.execute_input": "2021-10-07T04:06:24.549807Z",
     "iopub.status.busy": "2021-10-07T04:06:24.548660Z",
     "iopub.status.idle": "2021-10-07T04:06:24.552519Z",
     "shell.execute_reply": "2021-10-07T04:06:24.551948Z"
    }
   },
   "outputs": [
    {
     "name": "stdout",
     "output_type": "stream",
     "text": [
      "(0, 1, 2, 3, 4)\n",
      "(0, 1)\n",
      "(2, 3, 4)\n"
     ]
    }
   ],
   "source": [
    "tupla = (0, 1, 2, 3, 4)\n",
    "\n",
    "print(tupla)\n",
    "print(tupla[:2])\n",
    "print(tupla[2:])"
   ]
  },
  {
   "cell_type": "markdown",
   "id": "dc8c848b",
   "metadata": {
    "slideshow": {
     "slide_type": "slide"
    }
   },
   "source": [
    "#### Diccionarios de Python\n",
    "\n",
    "Son como hashmaps, las claves deben ser inmutables para que no pierda sentido el diccionario. Si se pudieran modificar, se podrían cambiar las claves y generaría conflictos.\n",
    "\n",
    "Tipos mutables:\n",
    "- Listas\n",
    "- Diccionarios\n",
    "- Sets\n",
    "\n",
    "Tipos inmutables:\n",
    "- Int\n",
    "- Float\n",
    "- String\n",
    "- Tuplas\n"
   ]
  },
  {
   "cell_type": "code",
   "execution_count": 55,
   "id": "fcba0f07",
   "metadata": {
    "execution": {
     "iopub.execute_input": "2021-10-07T04:06:24.556471Z",
     "iopub.status.busy": "2021-10-07T04:06:24.555926Z",
     "iopub.status.idle": "2021-10-07T04:06:24.558207Z",
     "shell.execute_reply": "2021-10-07T04:06:24.558693Z"
    },
    "slideshow": {
     "slide_type": "slide"
    }
   },
   "outputs": [
    {
     "data": {
      "text/plain": [
       "{}"
      ]
     },
     "execution_count": 55,
     "metadata": {},
     "output_type": "execute_result"
    }
   ],
   "source": [
    "diccionario = {}\n",
    "diccionario"
   ]
  },
  {
   "cell_type": "code",
   "execution_count": 56,
   "id": "4f6850f8",
   "metadata": {
    "execution": {
     "iopub.execute_input": "2021-10-07T04:06:24.562650Z",
     "iopub.status.busy": "2021-10-07T04:06:24.562092Z",
     "iopub.status.idle": "2021-10-07T04:06:24.564521Z",
     "shell.execute_reply": "2021-10-07T04:06:24.565078Z"
    }
   },
   "outputs": [
    {
     "data": {
      "text/plain": [
       "{}"
      ]
     },
     "execution_count": 56,
     "metadata": {},
     "output_type": "execute_result"
    }
   ],
   "source": [
    "diccionario = dict()\n",
    "diccionario"
   ]
  },
  {
   "cell_type": "code",
   "execution_count": 57,
   "id": "05a520a8",
   "metadata": {
    "execution": {
     "iopub.execute_input": "2021-10-07T04:06:24.569476Z",
     "iopub.status.busy": "2021-10-07T04:06:24.568957Z",
     "iopub.status.idle": "2021-10-07T04:06:24.571296Z",
     "shell.execute_reply": "2021-10-07T04:06:24.571747Z"
    },
    "slideshow": {
     "slide_type": "slide"
    }
   },
   "outputs": [
    {
     "name": "stdout",
     "output_type": "stream",
     "text": [
      "{'clave1': 'valor1', 2: 'valor2', 'clave3': 3}\n"
     ]
    }
   ],
   "source": [
    "# Cómo agregar cosas al diccionario\n",
    "diccionario['clave1'] = 'valor1'\n",
    "diccionario[2] = 'valor2'\n",
    "diccionario['clave3'] = 3\n",
    "print(diccionario)"
   ]
  },
  {
   "cell_type": "markdown",
   "id": "29adc7cc",
   "metadata": {},
   "source": [
    "Hay dos formas de obtener valores de un diccionario:\n",
    "\n",
    "```python\n",
    "diccionario[clave]\n",
    "```\n",
    "\n",
    "El cual devuelve el valor si existe la clave suministrada o bien lanza `KeyError` si no existe."
   ]
  },
  {
   "cell_type": "code",
   "execution_count": 58,
   "id": "91e15341",
   "metadata": {
    "execution": {
     "iopub.execute_input": "2021-10-07T04:06:24.575851Z",
     "iopub.status.busy": "2021-10-07T04:06:24.575302Z",
     "iopub.status.idle": "2021-10-07T04:06:24.577842Z",
     "shell.execute_reply": "2021-10-07T04:06:24.578265Z"
    }
   },
   "outputs": [
    {
     "data": {
      "text/plain": [
       "'valor1'"
      ]
     },
     "execution_count": 58,
     "metadata": {},
     "output_type": "execute_result"
    }
   ],
   "source": [
    "diccionario['clave1']"
   ]
  },
  {
   "cell_type": "code",
   "execution_count": 59,
   "id": "bc228ac8",
   "metadata": {
    "execution": {
     "iopub.execute_input": "2021-10-07T04:06:24.581451Z",
     "iopub.status.busy": "2021-10-07T04:06:24.580849Z",
     "iopub.status.idle": "2021-10-07T04:06:24.587067Z",
     "shell.execute_reply": "2021-10-07T04:06:24.586599Z"
    },
    "tags": [
     "raises-exception"
    ]
   },
   "outputs": [
    {
     "ename": "KeyError",
     "evalue": "'clave1000'",
     "output_type": "error",
     "traceback": [
      "\u001b[0;31m---------------------------------------------------------------------------\u001b[0m",
      "\u001b[0;31mKeyError\u001b[0m                                  Traceback (most recent call last)",
      "\u001b[0;32m/tmp/ipykernel_1953/3541524662.py\u001b[0m in \u001b[0;36m<module>\u001b[0;34m\u001b[0m\n\u001b[0;32m----> 1\u001b[0;31m \u001b[0mdiccionario\u001b[0m\u001b[0;34m[\u001b[0m\u001b[0;34m'clave1000'\u001b[0m\u001b[0;34m]\u001b[0m\u001b[0;34m\u001b[0m\u001b[0;34m\u001b[0m\u001b[0m\n\u001b[0m",
      "\u001b[0;31mKeyError\u001b[0m: 'clave1000'"
     ]
    }
   ],
   "source": [
    "diccionario['clave1000']"
   ]
  },
  {
   "cell_type": "markdown",
   "id": "2781c2bb",
   "metadata": {},
   "source": [
    "La segunda forma es con `get`:"
   ]
  },
  {
   "cell_type": "code",
   "execution_count": 60,
   "id": "47c6cd20",
   "metadata": {
    "execution": {
     "iopub.execute_input": "2021-10-07T04:06:24.615431Z",
     "iopub.status.busy": "2021-10-07T04:06:24.599391Z",
     "iopub.status.idle": "2021-10-07T04:06:24.644567Z",
     "shell.execute_reply": "2021-10-07T04:06:24.644040Z"
    }
   },
   "outputs": [],
   "source": [
    "diccionario.get?"
   ]
  },
  {
   "cell_type": "code",
   "execution_count": 61,
   "id": "25230caa",
   "metadata": {
    "execution": {
     "iopub.execute_input": "2021-10-07T04:06:24.649274Z",
     "iopub.status.busy": "2021-10-07T04:06:24.648741Z",
     "iopub.status.idle": "2021-10-07T04:06:24.653549Z",
     "shell.execute_reply": "2021-10-07T04:06:24.653018Z"
    }
   },
   "outputs": [
    {
     "name": "stdout",
     "output_type": "stream",
     "text": [
      "Help on built-in function get:\n",
      "\n",
      "get(key, default=None, /) method of builtins.dict instance\n",
      "    Return the value for key if key is in the dictionary, else default.\n",
      "\n"
     ]
    }
   ],
   "source": [
    "help(diccionario.get)"
   ]
  },
  {
   "cell_type": "code",
   "execution_count": 62,
   "id": "dab4a952",
   "metadata": {
    "execution": {
     "iopub.execute_input": "2021-10-07T04:06:24.657351Z",
     "iopub.status.busy": "2021-10-07T04:06:24.656832Z",
     "iopub.status.idle": "2021-10-07T04:06:24.658873Z",
     "shell.execute_reply": "2021-10-07T04:06:24.659297Z"
    },
    "slideshow": {
     "slide_type": "slide"
    }
   },
   "outputs": [
    {
     "name": "stdout",
     "output_type": "stream",
     "text": [
      "None\n"
     ]
    }
   ],
   "source": [
    "print(diccionario.get('clave1000'))"
   ]
  },
  {
   "cell_type": "code",
   "execution_count": 63,
   "id": "a10e67f6",
   "metadata": {
    "execution": {
     "iopub.execute_input": "2021-10-07T04:06:24.663450Z",
     "iopub.status.busy": "2021-10-07T04:06:24.662890Z",
     "iopub.status.idle": "2021-10-07T04:06:24.665298Z",
     "shell.execute_reply": "2021-10-07T04:06:24.665751Z"
    },
    "slideshow": {
     "slide_type": "slide"
    }
   },
   "outputs": [
    {
     "name": "stdout",
     "output_type": "stream",
     "text": [
      "True\n"
     ]
    }
   ],
   "source": [
    "print('clave1' in diccionario)  # Verifico si la clave está en el diccionario"
   ]
  },
  {
   "cell_type": "code",
   "execution_count": 64,
   "id": "ad948de2",
   "metadata": {
    "execution": {
     "iopub.execute_input": "2021-10-07T04:06:24.671141Z",
     "iopub.status.busy": "2021-10-07T04:06:24.670167Z",
     "iopub.status.idle": "2021-10-07T04:06:24.673984Z",
     "shell.execute_reply": "2021-10-07T04:06:24.673490Z"
    }
   },
   "outputs": [
    {
     "data": {
      "text/plain": [
       "True"
      ]
     },
     "execution_count": 64,
     "metadata": {},
     "output_type": "execute_result"
    }
   ],
   "source": [
    "l = [1, 2, 3, 4]\n",
    "2 in l"
   ]
  },
  {
   "cell_type": "code",
   "execution_count": 65,
   "id": "9babb3e6",
   "metadata": {
    "execution": {
     "iopub.execute_input": "2021-10-07T04:06:24.679306Z",
     "iopub.status.busy": "2021-10-07T04:06:24.678062Z",
     "iopub.status.idle": "2021-10-07T04:06:24.681402Z",
     "shell.execute_reply": "2021-10-07T04:06:24.680937Z"
    }
   },
   "outputs": [
    {
     "name": "stdout",
     "output_type": "stream",
     "text": [
      "la clave es clave1 y el valor es valor1\n",
      "la clave es 2 y el valor es valor2\n",
      "la clave es clave3 y el valor es 3\n"
     ]
    }
   ],
   "source": [
    "for clave, valor in diccionario.items():\n",
    "    print(\"la clave es %s y el valor es %s\" % (clave, valor))"
   ]
  },
  {
   "cell_type": "code",
   "execution_count": 66,
   "id": "9a0fbfb0",
   "metadata": {
    "execution": {
     "iopub.execute_input": "2021-10-07T04:06:24.687074Z",
     "iopub.status.busy": "2021-10-07T04:06:24.685809Z",
     "iopub.status.idle": "2021-10-07T04:06:24.690211Z",
     "shell.execute_reply": "2021-10-07T04:06:24.688653Z"
    }
   },
   "outputs": [
    {
     "name": "stdout",
     "output_type": "stream",
     "text": [
      "la clave es clave1 y el valor es valor1\n",
      "la clave es 2 y el valor es valor2\n",
      "la clave es clave3 y el valor es 3"
     ]
    },
    {
     "name": "stdout",
     "output_type": "stream",
     "text": [
      "\n"
     ]
    }
   ],
   "source": [
    "for clave, valor in diccionario.items():\n",
    "    print(\"la clave es {} y el valor es {}\".format(clave, valor))"
   ]
  },
  {
   "cell_type": "code",
   "execution_count": 67,
   "id": "25643e03",
   "metadata": {
    "execution": {
     "iopub.execute_input": "2021-10-07T04:06:24.694570Z",
     "iopub.status.busy": "2021-10-07T04:06:24.693956Z",
     "iopub.status.idle": "2021-10-07T04:06:24.698142Z",
     "shell.execute_reply": "2021-10-07T04:06:24.698542Z"
    },
    "slideshow": {
     "slide_type": "slide"
    }
   },
   "outputs": [
    {
     "name": "stdout",
     "output_type": "stream",
     "text": [
      "la clave es clave1 y el valor es valor1\n",
      "la clave es 2 y el valor es valor2\n",
      "la clave es clave3 y el valor es 3\n"
     ]
    }
   ],
   "source": [
    "# Cómo iterar un diccionario elemento por elemento\n",
    "for (\n",
    "    clave,\n",
    "    valor,\n",
    ") in (\n",
    "    diccionario.items()\n",
    "):  # diccionario.items() va devolviendo tuplas con el formato (clave,valor)\n",
    "    print(\n",
    "        f\"la clave es {clave} y el valor es {valor}\"\n",
    "    )  # con esta sintaxis se desempaquetan en clave y valor (similar a enumerate)"
   ]
  },
  {
   "cell_type": "code",
   "execution_count": 68,
   "id": "2743bda4",
   "metadata": {
    "execution": {
     "iopub.execute_input": "2021-10-07T04:06:24.702729Z",
     "iopub.status.busy": "2021-10-07T04:06:24.702148Z",
     "iopub.status.idle": "2021-10-07T04:06:24.706521Z",
     "shell.execute_reply": "2021-10-07T04:06:24.706042Z"
    },
    "slideshow": {
     "slide_type": "slide"
    }
   },
   "outputs": [
    {
     "name": "stdout",
     "output_type": "stream",
     "text": [
      "clave1\n",
      "2\n",
      "clave3\n"
     ]
    }
   ],
   "source": [
    "for clave in diccionario.keys():\n",
    "    print(clave)"
   ]
  },
  {
   "cell_type": "code",
   "execution_count": 69,
   "id": "6c1634c9",
   "metadata": {
    "execution": {
     "iopub.execute_input": "2021-10-07T04:06:24.710335Z",
     "iopub.status.busy": "2021-10-07T04:06:24.709785Z",
     "iopub.status.idle": "2021-10-07T04:06:24.714840Z",
     "shell.execute_reply": "2021-10-07T04:06:24.714388Z"
    },
    "slideshow": {
     "slide_type": "slide"
    }
   },
   "outputs": [
    {
     "name": "stdout",
     "output_type": "stream",
     "text": [
      "valor1\n",
      "valor2\n"
     ]
    },
    {
     "name": "stdout",
     "output_type": "stream",
     "text": [
      "3\n"
     ]
    }
   ],
   "source": [
    "for valor in diccionario.values():\n",
    "    print(valor)"
   ]
  },
  {
   "cell_type": "markdown",
   "id": "b234c3f1",
   "metadata": {},
   "source": [
    "#### Sets\n",
    "\n",
    "Son similares a los diccionarios (en eficiencia) pero se almacenan solo claves, y tienen algunas operaciones particulares.\n",
    "\n",
    "En particular, no pueden tener elementos iguales (pensar que son conjuntos)"
   ]
  },
  {
   "cell_type": "code",
   "execution_count": 70,
   "id": "4a05c6a2",
   "metadata": {
    "execution": {
     "iopub.execute_input": "2021-10-07T04:06:24.718703Z",
     "iopub.status.busy": "2021-10-07T04:06:24.718180Z",
     "iopub.status.idle": "2021-10-07T04:06:24.722292Z",
     "shell.execute_reply": "2021-10-07T04:06:24.721833Z"
    }
   },
   "outputs": [],
   "source": [
    "set??"
   ]
  },
  {
   "cell_type": "code",
   "execution_count": 71,
   "id": "eecb2259",
   "metadata": {
    "execution": {
     "iopub.execute_input": "2021-10-07T04:06:24.727685Z",
     "iopub.status.busy": "2021-10-07T04:06:24.726685Z",
     "iopub.status.idle": "2021-10-07T04:06:24.730334Z",
     "shell.execute_reply": "2021-10-07T04:06:24.729871Z"
    }
   },
   "outputs": [
    {
     "data": {
      "text/plain": [
       "{1, 2, 3}"
      ]
     },
     "execution_count": 71,
     "metadata": {},
     "output_type": "execute_result"
    }
   ],
   "source": [
    "# Se definen como los diccionarios pero sin hacerlos 'clave:valor', solamente una seguidilla de elementos\n",
    "{1, 2, 2, 3}"
   ]
  },
  {
   "cell_type": "code",
   "execution_count": 72,
   "id": "cad7f9b2",
   "metadata": {
    "execution": {
     "iopub.execute_input": "2021-10-07T04:06:24.735710Z",
     "iopub.status.busy": "2021-10-07T04:06:24.734748Z",
     "iopub.status.idle": "2021-10-07T04:06:24.737854Z",
     "shell.execute_reply": "2021-10-07T04:06:24.738307Z"
    }
   },
   "outputs": [
    {
     "data": {
      "text/plain": [
       "{1, 2, 3}"
      ]
     },
     "execution_count": 72,
     "metadata": {},
     "output_type": "execute_result"
    }
   ],
   "source": [
    "set([1, 2, 2, 3])"
   ]
  },
  {
   "cell_type": "markdown",
   "id": "14154015",
   "metadata": {},
   "source": [
    "## Condicionales (if...elif...else)\n",
    "\n",
    "```python\n",
    "if <condición_1>:\n",
    "    <hacer algo_1 si se da la condición_1>\n",
    "elif <condición_2>:\n",
    "    <hacer algo_2 si se da la condición_2>\n",
    "...\n",
    "elif <condición_n>:\n",
    "    <hacer algo_n si se da la condición_n>\n",
    "else:\n",
    "    <hacer otra cosa si no dan las anteriores>\n",
    "```\n",
    "\n",
    "Algo importante para notar es que los bloques se definen por **niveles de identacion**."
   ]
  },
  {
   "cell_type": "code",
   "execution_count": 73,
   "id": "aeb3e118",
   "metadata": {
    "execution": {
     "iopub.execute_input": "2021-10-07T04:06:24.744151Z",
     "iopub.status.busy": "2021-10-07T04:06:24.742799Z",
     "iopub.status.idle": "2021-10-07T04:06:24.746263Z",
     "shell.execute_reply": "2021-10-07T04:06:24.745797Z"
    }
   },
   "outputs": [
    {
     "name": "stdout",
     "output_type": "stream",
     "text": [
      "uno\n"
     ]
    }
   ],
   "source": [
    "v = 1\n",
    "if v == 1:\n",
    "    print(\"uno\")\n",
    "elif v == 2:\n",
    "    print(\"dos\")\n",
    "else:\n",
    "    print(\"ni idea\")\n",
    "    print(v)"
   ]
  },
  {
   "cell_type": "markdown",
   "id": "5a8df534",
   "metadata": {},
   "source": [
    "## Iteraciones\n",
    "\n",
    "```python\n",
    "while cond:\n",
    "    <codigo>\n",
    "```\n",
    "\n",
    "```python\n",
    "for elemento in iterable:\n",
    "    <codigo>\n",
    "```\n",
    "\n",
    "Para iterar sobre un rango de valores, usamos `range`"
   ]
  },
  {
   "cell_type": "code",
   "execution_count": 74,
   "id": "9eeef9a3",
   "metadata": {
    "execution": {
     "iopub.execute_input": "2021-10-07T04:06:24.750806Z",
     "iopub.status.busy": "2021-10-07T04:06:24.748621Z",
     "iopub.status.idle": "2021-10-07T04:06:24.753208Z",
     "shell.execute_reply": "2021-10-07T04:06:24.753658Z"
    }
   },
   "outputs": [
    {
     "name": "stdout",
     "output_type": "stream",
     "text": [
      "1\n",
      "4\n",
      "7\n",
      "10\n"
     ]
    }
   ],
   "source": [
    "for i in range(1, 11, 3):\n",
    "    print(i)"
   ]
  },
  {
   "cell_type": "markdown",
   "id": "3cf9cdab",
   "metadata": {},
   "source": [
    "## Operadores logicos\n",
    "\n",
    "`not`, `or`, `and`"
   ]
  },
  {
   "cell_type": "code",
   "execution_count": 75,
   "id": "8b96595d",
   "metadata": {
    "execution": {
     "iopub.execute_input": "2021-10-07T04:06:24.759006Z",
     "iopub.status.busy": "2021-10-07T04:06:24.757735Z",
     "iopub.status.idle": "2021-10-07T04:06:24.761175Z",
     "shell.execute_reply": "2021-10-07T04:06:24.760680Z"
    }
   },
   "outputs": [
    {
     "name": "stdout",
     "output_type": "stream",
     "text": [
      "yay\n"
     ]
    }
   ],
   "source": [
    "if True or False:\n",
    "    print(\"yay\")"
   ]
  },
  {
   "cell_type": "code",
   "execution_count": 76,
   "id": "129a21c3",
   "metadata": {
    "execution": {
     "iopub.execute_input": "2021-10-07T04:06:24.765643Z",
     "iopub.status.busy": "2021-10-07T04:06:24.765080Z",
     "iopub.status.idle": "2021-10-07T04:06:24.767613Z",
     "shell.execute_reply": "2021-10-07T04:06:24.768059Z"
    }
   },
   "outputs": [
    {
     "data": {
      "text/plain": [
       "False"
      ]
     },
     "execution_count": 76,
     "metadata": {},
     "output_type": "execute_result"
    }
   ],
   "source": [
    "1 == 2"
   ]
  },
  {
   "cell_type": "code",
   "execution_count": 77,
   "id": "65000254",
   "metadata": {
    "execution": {
     "iopub.execute_input": "2021-10-07T04:06:24.772123Z",
     "iopub.status.busy": "2021-10-07T04:06:24.771561Z",
     "iopub.status.idle": "2021-10-07T04:06:24.774218Z",
     "shell.execute_reply": "2021-10-07T04:06:24.774678Z"
    }
   },
   "outputs": [
    {
     "data": {
      "text/plain": [
       "True"
      ]
     },
     "execution_count": 77,
     "metadata": {},
     "output_type": "execute_result"
    }
   ],
   "source": [
    "1 != 2"
   ]
  },
  {
   "cell_type": "markdown",
   "id": "59db827d",
   "metadata": {
    "slideshow": {
     "slide_type": "slide"
    }
   },
   "source": [
    "## Funciones en Python"
   ]
  },
  {
   "cell_type": "code",
   "execution_count": 78,
   "id": "049088af",
   "metadata": {
    "execution": {
     "iopub.execute_input": "2021-10-07T04:06:24.780800Z",
     "iopub.status.busy": "2021-10-07T04:06:24.780326Z",
     "iopub.status.idle": "2021-10-07T04:06:24.785318Z",
     "shell.execute_reply": "2021-10-07T04:06:24.785745Z"
    },
    "slideshow": {
     "slide_type": "slide"
    }
   },
   "outputs": [
    {
     "name": "stdout",
     "output_type": "stream",
     "text": [
      "True\n",
      "False\n"
     ]
    }
   ],
   "source": [
    "def busqueda_binaria(lista, elemento):\n",
    "    if not lista:\n",
    "        return False\n",
    "    elif len(lista) == 1:\n",
    "        return lista[0] == elemento\n",
    "    mitad = len(lista) // 2  # // es la operación división entera\n",
    "    if lista[mitad] == elemento:\n",
    "        return True\n",
    "    if lista[mitad] > elemento:\n",
    "        return busqueda_binaria(lista[:mitad], elemento)\n",
    "    if lista[mitad] < elemento:\n",
    "        return busqueda_binaria(lista[mitad:], elemento)\n",
    "\n",
    "\n",
    "print(busqueda_binaria([1, 2, 3, 4, 5], 4))\n",
    "print(busqueda_binaria([1, 4, 6, 7, 9, 10], 2))"
   ]
  },
  {
   "cell_type": "code",
   "execution_count": 79,
   "id": "5012f477",
   "metadata": {
    "execution": {
     "iopub.execute_input": "2021-10-07T04:06:24.790276Z",
     "iopub.status.busy": "2021-10-07T04:06:24.789760Z",
     "iopub.status.idle": "2021-10-07T04:06:24.794526Z",
     "shell.execute_reply": "2021-10-07T04:06:24.794034Z"
    }
   },
   "outputs": [
    {
     "name": "stdout",
     "output_type": "stream",
     "text": [
      "(3, 3, 3)\n"
     ]
    }
   ],
   "source": [
    "def a(b):\n",
    "    if a == 1:\n",
    "        print(a)\n",
    "    return (b, b, b)\n",
    "\n",
    "\n",
    "print(a(3))"
   ]
  },
  {
   "cell_type": "code",
   "execution_count": 80,
   "id": "40bc84da",
   "metadata": {
    "execution": {
     "iopub.execute_input": "2021-10-07T04:06:24.801412Z",
     "iopub.status.busy": "2021-10-07T04:06:24.798759Z",
     "iopub.status.idle": "2021-10-07T04:06:24.812577Z",
     "shell.execute_reply": "2021-10-07T04:06:24.811656Z"
    },
    "lines_to_next_cell": 2,
    "slideshow": {
     "slide_type": "slide"
    },
    "tags": [
     "raises-exception"
    ]
   },
   "outputs": [
    {
     "name": "stdout",
     "output_type": "stream",
     "text": [
      "3\n",
      "3.0\n",
      "3.0\n",
      "hola como te va\n",
      "[1, 2, 3, 4, 5]\n"
     ]
    },
    {
     "ename": "TypeError",
     "evalue": "can only concatenate str (not \"int\") to str",
     "output_type": "error",
     "traceback": [
      "\u001b[0;31m---------------------------------------------------------------------------\u001b[0m",
      "\u001b[0;31mTypeError\u001b[0m                                 Traceback (most recent call last)",
      "\u001b[0;32m/tmp/ipykernel_1953/1000948441.py\u001b[0m in \u001b[0;36m<module>\u001b[0;34m\u001b[0m\n\u001b[1;32m      8\u001b[0m \u001b[0mprint\u001b[0m\u001b[0;34m(\u001b[0m\u001b[0msuma\u001b[0m\u001b[0;34m(\u001b[0m\u001b[0;34m\"hola \"\u001b[0m\u001b[0;34m,\u001b[0m \u001b[0;34m\"como te va\"\u001b[0m\u001b[0;34m)\u001b[0m\u001b[0;34m)\u001b[0m\u001b[0;34m\u001b[0m\u001b[0;34m\u001b[0m\u001b[0m\n\u001b[1;32m      9\u001b[0m \u001b[0mprint\u001b[0m\u001b[0;34m(\u001b[0m\u001b[0msuma\u001b[0m\u001b[0;34m(\u001b[0m\u001b[0;34m[\u001b[0m\u001b[0;36m1\u001b[0m\u001b[0;34m,\u001b[0m \u001b[0;36m2\u001b[0m\u001b[0;34m,\u001b[0m \u001b[0;36m3\u001b[0m\u001b[0;34m]\u001b[0m\u001b[0;34m,\u001b[0m \u001b[0;34m[\u001b[0m\u001b[0;36m4\u001b[0m\u001b[0;34m,\u001b[0m \u001b[0;36m5\u001b[0m\u001b[0;34m]\u001b[0m\u001b[0;34m)\u001b[0m\u001b[0;34m)\u001b[0m\u001b[0;34m\u001b[0m\u001b[0;34m\u001b[0m\u001b[0m\n\u001b[0;32m---> 10\u001b[0;31m \u001b[0mprint\u001b[0m\u001b[0;34m(\u001b[0m\u001b[0msuma\u001b[0m\u001b[0;34m(\u001b[0m\u001b[0;34m\"1\"\u001b[0m\u001b[0;34m,\u001b[0m \u001b[0;36m3\u001b[0m\u001b[0;34m)\u001b[0m\u001b[0;34m)\u001b[0m  \u001b[0;31m# Falla\u001b[0m\u001b[0;34m\u001b[0m\u001b[0;34m\u001b[0m\u001b[0m\n\u001b[0m",
      "\u001b[0;32m/tmp/ipykernel_1953/1000948441.py\u001b[0m in \u001b[0;36msuma\u001b[0;34m(a, b)\u001b[0m\n\u001b[1;32m      1\u001b[0m \u001b[0;32mdef\u001b[0m \u001b[0msuma\u001b[0m\u001b[0;34m(\u001b[0m\u001b[0ma\u001b[0m\u001b[0;34m,\u001b[0m \u001b[0mb\u001b[0m\u001b[0;34m)\u001b[0m\u001b[0;34m:\u001b[0m\u001b[0;34m\u001b[0m\u001b[0;34m\u001b[0m\u001b[0m\n\u001b[0;32m----> 2\u001b[0;31m     \u001b[0;32mreturn\u001b[0m \u001b[0ma\u001b[0m \u001b[0;34m+\u001b[0m \u001b[0mb\u001b[0m\u001b[0;34m\u001b[0m\u001b[0;34m\u001b[0m\u001b[0m\n\u001b[0m\u001b[1;32m      3\u001b[0m \u001b[0;34m\u001b[0m\u001b[0m\n\u001b[1;32m      4\u001b[0m \u001b[0;34m\u001b[0m\u001b[0m\n\u001b[1;32m      5\u001b[0m \u001b[0mprint\u001b[0m\u001b[0;34m(\u001b[0m\u001b[0msuma\u001b[0m\u001b[0;34m(\u001b[0m\u001b[0;36m1\u001b[0m\u001b[0;34m,\u001b[0m \u001b[0;36m2\u001b[0m\u001b[0;34m)\u001b[0m\u001b[0;34m)\u001b[0m\u001b[0;34m\u001b[0m\u001b[0;34m\u001b[0m\u001b[0m\n",
      "\u001b[0;31mTypeError\u001b[0m: can only concatenate str (not \"int\") to str"
     ]
    }
   ],
   "source": [
    "def suma(a, b):\n",
    "    return a + b\n",
    "\n",
    "\n",
    "print(suma(1, 2))\n",
    "print(suma(1.0, 2.0))\n",
    "print(suma(1.0, 2))\n",
    "print(suma(\"hola \", \"como te va\"))\n",
    "print(suma([1, 2, 3], [4, 5]))\n",
    "print(suma(\"1\", 3))  # Falla"
   ]
  },
  {
   "cell_type": "code",
   "execution_count": 81,
   "id": "5ed0a7e5",
   "metadata": {
    "execution": {
     "iopub.execute_input": "2021-10-07T04:06:24.816920Z",
     "iopub.status.busy": "2021-10-07T04:06:24.815921Z",
     "iopub.status.idle": "2021-10-07T04:06:24.821741Z",
     "shell.execute_reply": "2021-10-07T04:06:24.821283Z"
    }
   },
   "outputs": [
    {
     "name": "stdout",
     "output_type": "stream",
     "text": [
      "2.0\n"
     ]
    }
   ],
   "source": [
    "# El valor por default de divisor es 1\n",
    "\n",
    "\n",
    "def division(dividendo, divisor=2):\n",
    "    return dividendo / divisor\n",
    "\n",
    "\n",
    "print(division(4))  # Usa el valor por default"
   ]
  },
  {
   "cell_type": "code",
   "execution_count": 82,
   "id": "6c255569",
   "metadata": {
    "execution": {
     "iopub.execute_input": "2021-10-07T04:06:24.828791Z",
     "iopub.status.busy": "2021-10-07T04:06:24.828227Z",
     "iopub.status.idle": "2021-10-07T04:06:24.831606Z",
     "shell.execute_reply": "2021-10-07T04:06:24.832120Z"
    },
    "tags": [
     "raises-exception"
    ]
   },
   "outputs": [
    {
     "name": "stdout",
     "output_type": "stream",
     "text": [
      "0.5\n",
      "0.5\n"
     ]
    },
    {
     "ename": "TypeError",
     "evalue": "division() missing 1 required positional argument: 'dividendo'",
     "output_type": "error",
     "traceback": [
      "\u001b[0;31m---------------------------------------------------------------------------\u001b[0m",
      "\u001b[0;31mTypeError\u001b[0m                                 Traceback (most recent call last)",
      "\u001b[0;32m/tmp/ipykernel_1953/1004518412.py\u001b[0m in \u001b[0;36m<module>\u001b[0;34m\u001b[0m\n\u001b[1;32m      1\u001b[0m \u001b[0mprint\u001b[0m\u001b[0;34m(\u001b[0m\u001b[0mdivision\u001b[0m\u001b[0;34m(\u001b[0m\u001b[0;36m1\u001b[0m\u001b[0;34m,\u001b[0m \u001b[0;36m2\u001b[0m\u001b[0;34m)\u001b[0m\u001b[0;34m)\u001b[0m  \u001b[0;31m# Parámetros por orden\u001b[0m\u001b[0;34m\u001b[0m\u001b[0;34m\u001b[0m\u001b[0m\n\u001b[1;32m      2\u001b[0m \u001b[0mprint\u001b[0m\u001b[0;34m(\u001b[0m\u001b[0mdivision\u001b[0m\u001b[0;34m(\u001b[0m\u001b[0mdividendo\u001b[0m\u001b[0;34m=\u001b[0m\u001b[0;36m1\u001b[0m\u001b[0;34m,\u001b[0m \u001b[0mdivisor\u001b[0m\u001b[0;34m=\u001b[0m\u001b[0;36m2\u001b[0m\u001b[0;34m)\u001b[0m\u001b[0;34m)\u001b[0m  \u001b[0;31m# Parámetros por nombre\u001b[0m\u001b[0;34m\u001b[0m\u001b[0;34m\u001b[0m\u001b[0m\n\u001b[0;32m----> 3\u001b[0;31m \u001b[0mprint\u001b[0m\u001b[0;34m(\u001b[0m\u001b[0mdivision\u001b[0m\u001b[0;34m(\u001b[0m\u001b[0mdivisor\u001b[0m\u001b[0;34m=\u001b[0m\u001b[0;36m2\u001b[0m\u001b[0;34m)\u001b[0m\u001b[0;34m)\u001b[0m\u001b[0;34m\u001b[0m\u001b[0;34m\u001b[0m\u001b[0m\n\u001b[0m",
      "\u001b[0;31mTypeError\u001b[0m: division() missing 1 required positional argument: 'dividendo'"
     ]
    }
   ],
   "source": [
    "print(division(1, 2))  # Parámetros por orden\n",
    "print(division(dividendo=1, divisor=2))  # Parámetros por nombre\n",
    "print(division(divisor=2))"
   ]
  },
  {
   "cell_type": "code",
   "execution_count": 83,
   "id": "c4e735dd",
   "metadata": {
    "execution": {
     "iopub.execute_input": "2021-10-07T04:06:24.836173Z",
     "iopub.status.busy": "2021-10-07T04:06:24.835581Z",
     "iopub.status.idle": "2021-10-07T04:06:24.837829Z",
     "shell.execute_reply": "2021-10-07T04:06:24.838251Z"
    }
   },
   "outputs": [
    {
     "name": "stdout",
     "output_type": "stream",
     "text": [
      "0.5\n"
     ]
    }
   ],
   "source": [
    "print(division(divisor=2, dividendo=1))"
   ]
  },
  {
   "cell_type": "code",
   "execution_count": 84,
   "id": "0ac0f34b",
   "metadata": {
    "execution": {
     "iopub.execute_input": "2021-10-07T04:06:24.842542Z",
     "iopub.status.busy": "2021-10-07T04:06:24.840277Z",
     "iopub.status.idle": "2021-10-07T04:06:24.845206Z",
     "shell.execute_reply": "2021-10-07T04:06:24.844713Z"
    }
   },
   "outputs": [
    {
     "name": "stdout",
     "output_type": "stream",
     "text": [
      "['a', 'b', 'c']\n",
      "[1, 2, 3]\n",
      "['hola', ' don', ' pepito']\n",
      "hola -  don -  pepito\n"
     ]
    }
   ],
   "source": [
    "# Funciones básicas ya en el lenguaje\n",
    "# Hechas para funcionar para distintos tipos\n",
    "\n",
    "string_ordenado = sorted('bca')\n",
    "print(string_ordenado)\n",
    "\n",
    "lista_ordenada = sorted([1, 3, 2])\n",
    "print(lista_ordenada)\n",
    "\n",
    "separadas = \"hola, don, pepito\".split(\",\")\n",
    "print(separadas)\n",
    "unidas = \" - \".join(separadas)\n",
    "print(unidas)"
   ]
  },
  {
   "cell_type": "markdown",
   "id": "a20831ee",
   "metadata": {},
   "source": [
    "## Módulos\n",
    "\n",
    "Para incluir alguna biblioteca de funciones se usa `import`. Pueden ser cosas ya predefinidas en Python (`math`, `random`, etc), nombres de archivos en nuestro directorio (por ejemplo, para `mimodulo.py` ponemos `import mimodulo`) o bibliotecas instaladas por el usuario"
   ]
  },
  {
   "cell_type": "code",
   "execution_count": 85,
   "id": "998b5e78",
   "metadata": {
    "execution": {
     "iopub.execute_input": "2021-10-07T04:06:24.849226Z",
     "iopub.status.busy": "2021-10-07T04:06:24.848693Z",
     "iopub.status.idle": "2021-10-07T04:06:24.853248Z",
     "shell.execute_reply": "2021-10-07T04:06:24.852792Z"
    }
   },
   "outputs": [
    {
     "name": "stdout",
     "output_type": "stream",
     "text": [
      "3.141592653589793\n"
     ]
    }
   ],
   "source": [
    "import math\n",
    "\n",
    "print(math.pi)"
   ]
  },
  {
   "cell_type": "code",
   "execution_count": 86,
   "id": "0139259d",
   "metadata": {
    "execution": {
     "iopub.execute_input": "2021-10-07T04:06:24.857736Z",
     "iopub.status.busy": "2021-10-07T04:06:24.856582Z",
     "iopub.status.idle": "2021-10-07T04:06:24.861855Z",
     "shell.execute_reply": "2021-10-07T04:06:24.861388Z"
    }
   },
   "outputs": [
    {
     "name": "stdout",
     "output_type": "stream",
     "text": [
      "3.141592653589793 2.718281828459045\n"
     ]
    }
   ],
   "source": [
    "from math import pi, e\n",
    "\n",
    "print(pi, e)"
   ]
  },
  {
   "cell_type": "code",
   "execution_count": 87,
   "id": "c9a15e81",
   "metadata": {
    "execution": {
     "iopub.execute_input": "2021-10-07T04:06:24.867424Z",
     "iopub.status.busy": "2021-10-07T04:06:24.866304Z",
     "iopub.status.idle": "2021-10-07T04:06:24.869924Z",
     "shell.execute_reply": "2021-10-07T04:06:24.869457Z"
    }
   },
   "outputs": [
    {
     "data": {
      "text/plain": [
       "2"
      ]
     },
     "execution_count": 87,
     "metadata": {},
     "output_type": "execute_result"
    }
   ],
   "source": [
    "math.gcd(56, 78)"
   ]
  },
  {
   "cell_type": "markdown",
   "id": "6f6a9b6a",
   "metadata": {},
   "source": [
    "## Manejo de excepciones\n",
    "\n",
    "Se pueden encapsular errores esperados en un bloque 'try/except' para evitar cortar el flujo del programa"
   ]
  },
  {
   "cell_type": "code",
   "execution_count": 88,
   "id": "60f1e68f",
   "metadata": {
    "execution": {
     "iopub.execute_input": "2021-10-07T04:06:24.873389Z",
     "iopub.status.busy": "2021-10-07T04:06:24.872872Z",
     "iopub.status.idle": "2021-10-07T04:06:24.880732Z",
     "shell.execute_reply": "2021-10-07T04:06:24.880294Z"
    },
    "tags": [
     "raises-exception"
    ]
   },
   "outputs": [
    {
     "ename": "ZeroDivisionError",
     "evalue": "division by zero",
     "output_type": "error",
     "traceback": [
      "\u001b[0;31m---------------------------------------------------------------------------\u001b[0m",
      "\u001b[0;31mZeroDivisionError\u001b[0m                         Traceback (most recent call last)",
      "\u001b[0;32m/tmp/ipykernel_1953/1165346582.py\u001b[0m in \u001b[0;36m<module>\u001b[0;34m\u001b[0m\n\u001b[0;32m----> 1\u001b[0;31m \u001b[0mdivision\u001b[0m\u001b[0;34m(\u001b[0m\u001b[0;36m1\u001b[0m\u001b[0;34m,\u001b[0m \u001b[0;36m0\u001b[0m\u001b[0;34m)\u001b[0m  \u001b[0;31m# No se puede dividir por cero\u001b[0m\u001b[0;34m\u001b[0m\u001b[0;34m\u001b[0m\u001b[0m\n\u001b[0m",
      "\u001b[0;32m/tmp/ipykernel_1953/2607187721.py\u001b[0m in \u001b[0;36mdivision\u001b[0;34m(dividendo, divisor)\u001b[0m\n\u001b[1;32m      3\u001b[0m \u001b[0;34m\u001b[0m\u001b[0m\n\u001b[1;32m      4\u001b[0m \u001b[0;32mdef\u001b[0m \u001b[0mdivision\u001b[0m\u001b[0;34m(\u001b[0m\u001b[0mdividendo\u001b[0m\u001b[0;34m,\u001b[0m \u001b[0mdivisor\u001b[0m\u001b[0;34m=\u001b[0m\u001b[0;36m2\u001b[0m\u001b[0;34m)\u001b[0m\u001b[0;34m:\u001b[0m\u001b[0;34m\u001b[0m\u001b[0;34m\u001b[0m\u001b[0m\n\u001b[0;32m----> 5\u001b[0;31m     \u001b[0;32mreturn\u001b[0m \u001b[0mdividendo\u001b[0m \u001b[0;34m/\u001b[0m \u001b[0mdivisor\u001b[0m\u001b[0;34m\u001b[0m\u001b[0;34m\u001b[0m\u001b[0m\n\u001b[0m\u001b[1;32m      6\u001b[0m \u001b[0;34m\u001b[0m\u001b[0m\n\u001b[1;32m      7\u001b[0m \u001b[0;34m\u001b[0m\u001b[0m\n",
      "\u001b[0;31mZeroDivisionError\u001b[0m: division by zero"
     ]
    }
   ],
   "source": [
    "division(1, 0)  # No se puede dividir por cero"
   ]
  },
  {
   "cell_type": "code",
   "execution_count": 89,
   "id": "da650365",
   "metadata": {
    "execution": {
     "iopub.execute_input": "2021-10-07T04:06:24.885277Z",
     "iopub.status.busy": "2021-10-07T04:06:24.884688Z",
     "iopub.status.idle": "2021-10-07T04:06:24.889771Z",
     "shell.execute_reply": "2021-10-07T04:06:24.889305Z"
    }
   },
   "outputs": [
    {
     "name": "stdout",
     "output_type": "stream",
     "text": [
      "No se puede dividir por cero, ojo! division by zero\n",
      "1\n"
     ]
    }
   ],
   "source": [
    "try:\n",
    "    division(1, 0)\n",
    "except (ZeroDivisionError, TypeError) as e:\n",
    "    print('No se puede dividir por cero, ojo!', e)\n",
    "finally:\n",
    "    print(1)"
   ]
  },
  {
   "cell_type": "markdown",
   "id": "aa89bc1c",
   "metadata": {
    "slideshow": {
     "slide_type": "slide"
    }
   },
   "source": [
    "## Lectura y escritura de archivos"
   ]
  },
  {
   "cell_type": "code",
   "execution_count": 90,
   "id": "c12d96b7",
   "metadata": {
    "execution": {
     "iopub.execute_input": "2021-10-07T04:06:24.895819Z",
     "iopub.status.busy": "2021-10-07T04:06:24.894801Z",
     "iopub.status.idle": "2021-10-07T04:06:24.897715Z",
     "shell.execute_reply": "2021-10-07T04:06:24.898184Z"
    },
    "slideshow": {
     "slide_type": "slide"
    }
   },
   "outputs": [
    {
     "name": "stdout",
     "output_type": "stream",
     "text": [
      "<_io.TextIOWrapper name='archivo.csv' mode='w' encoding='UTF-8'>\n"
     ]
    }
   ],
   "source": [
    "import random\n",
    "\n",
    "with open(\n",
    "    'archivo.csv', 'w'\n",
    ") as archivo:  # Al usar esta sintaxis no es necesario hacer close\n",
    "    archivo.write(\"Alumno, nota\\n\")\n",
    "    # Tambien de forma similar al fprintf se puede hacer:\n",
    "    # print(\"Alumno, nota\\n\", file=archivo)\n",
    "    for i in range(0, 10):\n",
    "        archivo.write(f\"{i},{random.randrange(0,10)}\\n\")\n",
    "\n",
    "print(archivo)  # Comentario aclaratorio:\n",
    "# Las variables definidas en un determinado scope siguen existiendo por fuera del mismo.\n",
    "# Se debe tener cuidado con esto, ya que nada garantiza que por fuera el valor sea el esperado."
   ]
  },
  {
   "cell_type": "code",
   "execution_count": 91,
   "id": "900a70c2",
   "metadata": {
    "execution": {
     "iopub.execute_input": "2021-10-07T04:06:24.904459Z",
     "iopub.status.busy": "2021-10-07T04:06:24.903416Z",
     "iopub.status.idle": "2021-10-07T04:06:24.906873Z",
     "shell.execute_reply": "2021-10-07T04:06:24.906381Z"
    },
    "slideshow": {
     "slide_type": "slide"
    }
   },
   "outputs": [
    {
     "name": "stdout",
     "output_type": "stream",
     "text": [
      "Alumno, nota\n",
      "0,3\n",
      "1,3\n",
      "2,8\n",
      "3,9\n",
      "4,6\n",
      "5,6\n",
      "6,9\n",
      "7,7\n",
      "8,8\n",
      "9,7\n"
     ]
    }
   ],
   "source": [
    "with open('archivo.csv', 'r') as f:\n",
    "    for linea in f:\n",
    "        print(linea.strip())"
   ]
  },
  {
   "cell_type": "code",
   "execution_count": 92,
   "id": "499c05fd",
   "metadata": {
    "execution": {
     "iopub.execute_input": "2021-10-07T04:06:24.911386Z",
     "iopub.status.busy": "2021-10-07T04:06:24.910846Z",
     "iopub.status.idle": "2021-10-07T04:06:24.912909Z",
     "shell.execute_reply": "2021-10-07T04:06:24.913327Z"
    }
   },
   "outputs": [
    {
     "name": "stdout",
     "output_type": "stream",
     "text": [
      "Alumno, nota\n",
      "0,3\n",
      "1,3\n",
      "2,8\n",
      "3,9\n",
      "4,6\n",
      "5,6\n",
      "6,9\n",
      "7,7\n",
      "8,8\n",
      "9,7\n",
      "\n"
     ]
    }
   ],
   "source": [
    "with open('archivo.csv', 'r') as f:\n",
    "    print(f.read())"
   ]
  },
  {
   "cell_type": "code",
   "execution_count": 93,
   "id": "da5bcc2a",
   "metadata": {
    "execution": {
     "iopub.execute_input": "2021-10-07T04:06:24.917438Z",
     "iopub.status.busy": "2021-10-07T04:06:24.916853Z",
     "iopub.status.idle": "2021-10-07T04:06:24.919395Z",
     "shell.execute_reply": "2021-10-07T04:06:24.918931Z"
    }
   },
   "outputs": [],
   "source": [
    "f = open('archivo.csv', 'w')\n",
    "f.write(\"algo, algo\")\n",
    "f.close()"
   ]
  },
  {
   "cell_type": "markdown",
   "id": "d3c6e2bf",
   "metadata": {
    "slideshow": {
     "slide_type": "slide"
    }
   },
   "source": [
    "## Objetos\n",
    "\n",
    "Los objetos tienen metodos y atributos:\n",
    "- Atributos: equivalentes a variables.\n",
    "- Métodos: equivalentes a las primitivas."
   ]
  },
  {
   "cell_type": "markdown",
   "id": "049cd748",
   "metadata": {
    "slideshow": {
     "slide_type": "slide"
    }
   },
   "source": [
    "### Cómo creo una clase"
   ]
  },
  {
   "cell_type": "code",
   "execution_count": 94,
   "id": "3afa18ee",
   "metadata": {
    "execution": {
     "iopub.execute_input": "2021-10-07T04:06:24.926025Z",
     "iopub.status.busy": "2021-10-07T04:06:24.924819Z",
     "iopub.status.idle": "2021-10-07T04:06:24.926661Z",
     "shell.execute_reply": "2021-10-07T04:06:24.927112Z"
    },
    "slideshow": {
     "slide_type": "slide"
    }
   },
   "outputs": [],
   "source": [
    "class Nodo(object):\n",
    "    def __init__(self, dato, siguiente=None):\n",
    "        self._dato = dato\n",
    "        self._siguiente = siguiente\n",
    "\n",
    "    @property\n",
    "    def dato(self):\n",
    "        return self._dato\n",
    "\n",
    "    @property\n",
    "    def proximo(self):\n",
    "        return self._siguiente\n",
    "\n",
    "    @proximo.setter\n",
    "    def proximo(self, siguiente):\n",
    "        self._siguiente = siguiente\n",
    "\n",
    "    def __repr__(self):\n",
    "        return str(self.dato)\n",
    "\n",
    "    def __str__(self):\n",
    "        return str(self.dato)"
   ]
  },
  {
   "cell_type": "code",
   "execution_count": 95,
   "id": "e4a7c813",
   "metadata": {
    "execution": {
     "iopub.execute_input": "2021-10-07T04:06:24.931148Z",
     "iopub.status.busy": "2021-10-07T04:06:24.930601Z",
     "iopub.status.idle": "2021-10-07T04:06:24.932756Z",
     "shell.execute_reply": "2021-10-07T04:06:24.933212Z"
    },
    "slideshow": {
     "slide_type": "slide"
    }
   },
   "outputs": [
    {
     "name": "stdout",
     "output_type": "stream",
     "text": [
      "hola\n"
     ]
    }
   ],
   "source": [
    "nodo = Nodo(\"hola\")\n",
    "print(nodo)"
   ]
  },
  {
   "cell_type": "code",
   "execution_count": 96,
   "id": "99e441c7",
   "metadata": {
    "execution": {
     "iopub.execute_input": "2021-10-07T04:06:24.937250Z",
     "iopub.status.busy": "2021-10-07T04:06:24.936691Z",
     "iopub.status.idle": "2021-10-07T04:06:24.940910Z",
     "shell.execute_reply": "2021-10-07T04:06:24.941339Z"
    },
    "slideshow": {
     "slide_type": "slide"
    }
   },
   "outputs": [
    {
     "name": "stdout",
     "output_type": "stream",
     "text": [
      "[hola, lala]\n"
     ]
    }
   ],
   "source": [
    "nodo2 = Nodo(\"lala\")\n",
    "print([nodo, nodo2])"
   ]
  },
  {
   "cell_type": "code",
   "execution_count": 97,
   "id": "cc249b57",
   "metadata": {
    "execution": {
     "iopub.execute_input": "2021-10-07T04:06:24.946066Z",
     "iopub.status.busy": "2021-10-07T04:06:24.945496Z",
     "iopub.status.idle": "2021-10-07T04:06:24.947669Z",
     "shell.execute_reply": "2021-10-07T04:06:24.948151Z"
    },
    "slideshow": {
     "slide_type": "slide"
    }
   },
   "outputs": [
    {
     "name": "stdout",
     "output_type": "stream",
     "text": [
      "hola\n"
     ]
    }
   ],
   "source": [
    "nodo3 = nodo.dato\n",
    "print(nodo3)"
   ]
  },
  {
   "cell_type": "markdown",
   "id": "df79b21c",
   "metadata": {
    "slideshow": {
     "slide_type": "slide"
    }
   },
   "source": [
    "### Ejemplo: Lista Enlazada"
   ]
  },
  {
   "cell_type": "code",
   "execution_count": 98,
   "id": "fd7df07a",
   "metadata": {
    "execution": {
     "iopub.execute_input": "2021-10-07T04:06:24.958264Z",
     "iopub.status.busy": "2021-10-07T04:06:24.955919Z",
     "iopub.status.idle": "2021-10-07T04:06:24.960636Z",
     "shell.execute_reply": "2021-10-07T04:06:24.959955Z"
    },
    "slideshow": {
     "slide_type": "slide"
    }
   },
   "outputs": [],
   "source": [
    "class ListaEnlazada(object):\n",
    "    def __init__(self):\n",
    "        self._primero = None\n",
    "        self._ultimo = None\n",
    "        self._largo = 0\n",
    "\n",
    "    def __len__(self):\n",
    "        return self._largo\n",
    "\n",
    "    def insertar_al_principio(self, dato):\n",
    "        nodo = Nodo(dato, self._primero)\n",
    "        self._primero = nodo\n",
    "        self._largo += 1\n",
    "        if self._largo == 1:\n",
    "            self._ultimo = nodo\n",
    "\n",
    "    def insertar_al_final(self, dato):\n",
    "        if self._largo != 0:\n",
    "            nodo = Nodo(dato)\n",
    "            nodo_anterior = self._ultimo\n",
    "            nodo_anterior._siguiente = nodo\n",
    "            self._ultimo = nodo\n",
    "            self._largo += 1\n",
    "        else:\n",
    "            self.insertar_al_principio(dato)\n",
    "\n",
    "    @property\n",
    "    def primero(self):\n",
    "        return self._primero.dato\n",
    "\n",
    "    def borrar_primero(self):\n",
    "        dato = self.primero.dato\n",
    "        self._primero = self.primero.siguiente\n",
    "        self._largo -= 1\n",
    "        if self._largo == 0:\n",
    "            self._ultimo = None\n",
    "        return dato\n",
    "\n",
    "    def __str__(self):\n",
    "        datos = []\n",
    "        nodo_actual = self._primero\n",
    "        while nodo_actual:\n",
    "            datos.append(nodo_actual.dato)\n",
    "            nodo_actual = nodo_actual.proximo\n",
    "        return \" -> \".join(datos)\n",
    "\n",
    "    def __repr__(self):\n",
    "        return self.__str__()"
   ]
  },
  {
   "cell_type": "code",
   "execution_count": 99,
   "id": "2b22fc5f",
   "metadata": {
    "execution": {
     "iopub.execute_input": "2021-10-07T04:06:24.965106Z",
     "iopub.status.busy": "2021-10-07T04:06:24.964584Z",
     "iopub.status.idle": "2021-10-07T04:06:24.970336Z",
     "shell.execute_reply": "2021-10-07T04:06:24.969888Z"
    },
    "slideshow": {
     "slide_type": "slide"
    }
   },
   "outputs": [
    {
     "data": {
      "text/plain": [
       "2"
      ]
     },
     "execution_count": 99,
     "metadata": {},
     "output_type": "execute_result"
    }
   ],
   "source": [
    "lista = ListaEnlazada()\n",
    "lista.insertar_al_principio(\"Primer Dato\")\n",
    "lista.insertar_al_principio(\"Primer primer Dato\")\n",
    "len(lista)"
   ]
  },
  {
   "cell_type": "code",
   "execution_count": 100,
   "id": "51168f06",
   "metadata": {
    "execution": {
     "iopub.execute_input": "2021-10-07T04:06:24.974304Z",
     "iopub.status.busy": "2021-10-07T04:06:24.973752Z",
     "iopub.status.idle": "2021-10-07T04:06:24.979156Z",
     "shell.execute_reply": "2021-10-07T04:06:24.978671Z"
    }
   },
   "outputs": [
    {
     "data": {
      "text/plain": [
       "Primer primer Dato -> Primer Dato"
      ]
     },
     "execution_count": 100,
     "metadata": {},
     "output_type": "execute_result"
    }
   ],
   "source": [
    "lista"
   ]
  },
  {
   "cell_type": "code",
   "execution_count": 101,
   "id": "a564584c",
   "metadata": {
    "execution": {
     "iopub.execute_input": "2021-10-07T04:06:24.982940Z",
     "iopub.status.busy": "2021-10-07T04:06:24.982408Z",
     "iopub.status.idle": "2021-10-07T04:06:24.984709Z",
     "shell.execute_reply": "2021-10-07T04:06:24.985161Z"
    },
    "slideshow": {
     "slide_type": "slide"
    }
   },
   "outputs": [
    {
     "name": "stdout",
     "output_type": "stream",
     "text": [
      "Primer primer Dato\n"
     ]
    }
   ],
   "source": [
    "elemento = lista.primero\n",
    "print(elemento)"
   ]
  },
  {
   "cell_type": "markdown",
   "id": "8e9f5d93",
   "metadata": {},
   "source": [
    "## Recursos\n",
    "\n",
    "* [Taller de Python de Algoritmos II](https://github.com/algoritmos-rw/algo2_apuntes)\n",
    "\n",
    "* [Documentación de Python 3](https://docs.python.org/3/tutorial/)\n",
    "\n",
    "* [Apunte de Algoritmos y Programación I](https://algoritmos1rw.ddns.net/material)\n",
    "\n",
    "* [Automate the Boring Stuff with Python](http://automatetheboringstuff.com/)\n",
    "\n",
    "* [Curso Python](https://pythoncurso.github.io)\n",
    "\n",
    "* [Python Tutor](http://pythontutor.com/)\n",
    "\n",
    "* [Learn Python3 in Y minutes](https://learnxinyminutes.com/docs/python3/)\n",
    "\n",
    "* [Bibliografía de Algoritmos y Programación I](https://algoritmos1rw.ddns.net/bibliografia)"
   ]
  }
 ],
 "metadata": {
  "jupytext": {
   "encoding": "# -*- coding: utf-8 -*-",
   "formats": "ipynb,py:light"
  },
  "kernelspec": {
   "display_name": "Python 3 (venv)",
   "language": "python",
   "name": "python3"
  },
  "language_info": {
   "codemirror_mode": {
    "name": "ipython",
    "version": 3
   },
   "file_extension": ".py",
   "mimetype": "text/x-python",
   "name": "python",
   "nbconvert_exporter": "python",
   "pygments_lexer": "ipython3",
   "version": "3.7.12"
  }
 },
 "nbformat": 4,
 "nbformat_minor": 5
}
