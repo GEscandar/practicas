{
 "cells": [
  {
   "cell_type": "markdown",
   "id": "contemporary-witch",
   "metadata": {},
   "source": [
    "# Python"
   ]
  },
  {
   "cell_type": "markdown",
   "id": "portable-cooper",
   "metadata": {
    "slideshow": {
     "slide_type": "slide"
    }
   },
   "source": [
    "## Un poco de Historia"
   ]
  },
  {
   "cell_type": "markdown",
   "id": "responsible-monroe",
   "metadata": {
    "slideshow": {
     "slide_type": "subslide"
    }
   },
   "source": [
    "Python fue creado a finales de los años 80 por un programador holandés llamado **Guido van Rossum**,\n",
    "quien sigue siendo aún hoy el líder del desarrollo del lenguaje.\n",
    "\n",
    "(Edit julio 2018: [ya no más](https://www.mail-archive.com/python-committers@python.org/msg05628.html))"
   ]
  },
  {
   "cell_type": "markdown",
   "id": "common-soldier",
   "metadata": {
    "slideshow": {
     "slide_type": "subslide"
    }
   },
   "source": [
    "El nombre del lenguaje proviene de los humoristas británicos Monty Python.\n",
    "\n",
    ">*\"I chose Python as a working title for the project, being in a slightly irreverent mood (and a big fan of Monty Python's Flying Circus).\"*"
   ]
  },
  {
   "cell_type": "markdown",
   "id": "foreign-companion",
   "metadata": {
    "slideshow": {
     "slide_type": "slide"
    }
   },
   "source": [
    "## Caracteristicas\n",
    "\n",
    "- Interpretado\n",
    "- Tipado dinamico\n",
    "- Multiparadigma\n",
    "- Alto nivel\n",
    "- Tiene un recolector de basura (no hay malloc, free, realloc, etc)"
   ]
  },
  {
   "cell_type": "markdown",
   "id": "domestic-property",
   "metadata": {},
   "source": [
    "## ¿Cómo empezar?\n",
    "\n",
    "* Al ser un lenguaje *interpretado*, se puede ir escribiendo a medida que se ejecuta, sin necesidad de compilar de antemano! Solamente hace falta escribir `python` o `python3` en una terminal para empezar\n",
    "\n",
    "* También, permite escribir archivos y correrlos. Crear un archivo con extensión `.py` y luego correr `python miarchivo.py` en laterminal"
   ]
  },
  {
   "cell_type": "markdown",
   "id": "caring-asthma",
   "metadata": {
    "slideshow": {
     "slide_type": "slide"
    }
   },
   "source": [
    "## El Zen de Python"
   ]
  },
  {
   "cell_type": "code",
   "execution_count": 1,
   "id": "laden-guatemala",
   "metadata": {
    "execution": {
     "iopub.execute_input": "2021-02-10T07:37:45.692617Z",
     "iopub.status.busy": "2021-02-10T07:37:45.692127Z",
     "iopub.status.idle": "2021-02-10T07:37:45.711415Z",
     "shell.execute_reply": "2021-02-10T07:37:45.710849Z"
    },
    "slideshow": {
     "slide_type": "slide"
    }
   },
   "outputs": [
    {
     "name": "stdout",
     "output_type": "stream",
     "text": [
      "The Zen of Python, by Tim Peters\n",
      "\n",
      "Beautiful is better than ugly.\n",
      "Explicit is better than implicit.\n",
      "Simple is better than complex.\n",
      "Complex is better than complicated.\n",
      "Flat is better than nested.\n",
      "Sparse is better than dense.\n",
      "Readability counts.\n",
      "Special cases aren't special enough to break the rules.\n",
      "Although practicality beats purity.\n",
      "Errors should never pass silently.\n",
      "Unless explicitly silenced.\n",
      "In the face of ambiguity, refuse the temptation to guess.\n",
      "There should be one-- and preferably only one --obvious way to do it.\n",
      "Although that way may not be obvious at first unless you're Dutch.\n",
      "Now is better than never.\n",
      "Although never is often better than *right* now.\n",
      "If the implementation is hard to explain, it's a bad idea.\n",
      "If the implementation is easy to explain, it may be a good idea.\n",
      "Namespaces are one honking great idea -- let's do more of those!\n"
     ]
    }
   ],
   "source": [
    "import this"
   ]
  },
  {
   "cell_type": "markdown",
   "id": "municipal-metadata",
   "metadata": {
    "slideshow": {
     "slide_type": "slide"
    }
   },
   "source": [
    "## Conocimientos Básicos de Python: Variables y Tipos"
   ]
  },
  {
   "cell_type": "code",
   "execution_count": 2,
   "id": "varied-finder",
   "metadata": {
    "execution": {
     "iopub.execute_input": "2021-02-10T07:37:45.716119Z",
     "iopub.status.busy": "2021-02-10T07:37:45.714998Z",
     "iopub.status.idle": "2021-02-10T07:37:45.717820Z",
     "shell.execute_reply": "2021-02-10T07:37:45.717402Z"
    },
    "slideshow": {
     "slide_type": "slide"
    }
   },
   "outputs": [
    {
     "name": "stdout",
     "output_type": "stream",
     "text": [
      "Hello World!\n"
     ]
    }
   ],
   "source": [
    "# Este es un comentario\n",
    "\n",
    "print(\"Hello World!\")"
   ]
  },
  {
   "cell_type": "markdown",
   "id": "described-sport",
   "metadata": {},
   "source": [
    "Los strings en python puden escribirse tanto con comillas simples (`'`) como comillas dobles (`\"`). Normalmente vemos texto entre comillas triples para escribir _docstrings_, segun la guia de estilo de Python, el PEP8."
   ]
  },
  {
   "cell_type": "code",
   "execution_count": 3,
   "id": "invalid-daily",
   "metadata": {
    "execution": {
     "iopub.execute_input": "2021-02-10T07:37:45.727181Z",
     "iopub.status.busy": "2021-02-10T07:37:45.726688Z",
     "iopub.status.idle": "2021-02-10T07:37:45.729153Z",
     "shell.execute_reply": "2021-02-10T07:37:45.729547Z"
    }
   },
   "outputs": [
    {
     "data": {
      "text/plain": [
       "'Esto es un docstring.\\n'"
      ]
     },
     "execution_count": 1,
     "metadata": {},
     "output_type": "execute_result"
    }
   ],
   "source": [
    "\"\"\"Esto es un docstring.\n",
    "\"\"\""
   ]
  },
  {
   "cell_type": "markdown",
   "id": "hispanic-flush",
   "metadata": {},
   "source": [
    "### Declaracion de variables"
   ]
  },
  {
   "cell_type": "code",
   "execution_count": 4,
   "id": "polish-approach",
   "metadata": {
    "execution": {
     "iopub.execute_input": "2021-02-10T07:37:45.733693Z",
     "iopub.status.busy": "2021-02-10T07:37:45.732714Z",
     "iopub.status.idle": "2021-02-10T07:37:45.735350Z",
     "shell.execute_reply": "2021-02-10T07:37:45.734950Z"
    }
   },
   "outputs": [
    {
     "name": "stdout",
     "output_type": "stream",
     "text": [
      "Hola\n"
     ]
    }
   ],
   "source": [
    "string = 'Hola'\n",
    "print(string)"
   ]
  },
  {
   "cell_type": "code",
   "execution_count": 5,
   "id": "minor-taiwan",
   "metadata": {
    "execution": {
     "iopub.execute_input": "2021-02-10T07:37:45.739479Z",
     "iopub.status.busy": "2021-02-10T07:37:45.738456Z",
     "iopub.status.idle": "2021-02-10T07:37:45.741028Z",
     "shell.execute_reply": "2021-02-10T07:37:45.740617Z"
    }
   },
   "outputs": [
    {
     "name": "stdout",
     "output_type": "stream",
     "text": [
      "1\n"
     ]
    }
   ],
   "source": [
    "entero = 1\n",
    "print(entero)"
   ]
  },
  {
   "cell_type": "code",
   "execution_count": 6,
   "id": "satellite-clearing",
   "metadata": {
    "execution": {
     "iopub.execute_input": "2021-02-10T07:37:45.745121Z",
     "iopub.status.busy": "2021-02-10T07:37:45.744162Z",
     "iopub.status.idle": "2021-02-10T07:37:45.746294Z",
     "shell.execute_reply": "2021-02-10T07:37:45.746683Z"
    }
   },
   "outputs": [
    {
     "name": "stdout",
     "output_type": "stream",
     "text": [
      "1.0\n"
     ]
    }
   ],
   "source": [
    "flotante = 1.0\n",
    "print(flotante)"
   ]
  },
  {
   "cell_type": "code",
   "execution_count": 7,
   "id": "after-sleeping",
   "metadata": {
    "execution": {
     "iopub.execute_input": "2021-02-10T07:37:45.749899Z",
     "iopub.status.busy": "2021-02-10T07:37:45.749434Z",
     "iopub.status.idle": "2021-02-10T07:37:45.751255Z",
     "shell.execute_reply": "2021-02-10T07:37:45.751638Z"
    }
   },
   "outputs": [
    {
     "name": "stdout",
     "output_type": "stream",
     "text": [
      "(1, 1.0)\n"
     ]
    }
   ],
   "source": [
    "tupla = (entero, flotante)\n",
    "print(tupla)"
   ]
  },
  {
   "cell_type": "code",
   "execution_count": 8,
   "id": "concerned-consortium",
   "metadata": {
    "execution": {
     "iopub.execute_input": "2021-02-10T07:37:45.754780Z",
     "iopub.status.busy": "2021-02-10T07:37:45.754313Z",
     "iopub.status.idle": "2021-02-10T07:37:45.756028Z",
     "shell.execute_reply": "2021-02-10T07:37:45.756437Z"
    }
   },
   "outputs": [
    {
     "name": "stdout",
     "output_type": "stream",
     "text": [
      "(1, 1.0, 'Hola')\n"
     ]
    }
   ],
   "source": [
    "nupla = (entero, flotante, string)\n",
    "print(nupla)"
   ]
  },
  {
   "cell_type": "code",
   "execution_count": 9,
   "id": "conservative-little",
   "metadata": {
    "execution": {
     "iopub.execute_input": "2021-02-10T07:37:45.759591Z",
     "iopub.status.busy": "2021-02-10T07:37:45.759130Z",
     "iopub.status.idle": "2021-02-10T07:37:45.760844Z",
     "shell.execute_reply": "2021-02-10T07:37:45.761225Z"
    }
   },
   "outputs": [
    {
     "name": "stdout",
     "output_type": "stream",
     "text": [
      "[1, 1.0, 'Hola']\n"
     ]
    }
   ],
   "source": [
    "lista = [entero, flotante, string]\n",
    "print(lista)"
   ]
  },
  {
   "cell_type": "code",
   "execution_count": 10,
   "id": "offshore-doubt",
   "metadata": {
    "execution": {
     "iopub.execute_input": "2021-02-10T07:37:45.764469Z",
     "iopub.status.busy": "2021-02-10T07:37:45.764006Z",
     "iopub.status.idle": "2021-02-10T07:37:45.765762Z",
     "shell.execute_reply": "2021-02-10T07:37:45.766139Z"
    }
   },
   "outputs": [
    {
     "name": "stdout",
     "output_type": "stream",
     "text": [
      "{'1': (1, 1.0), 50: (1, 1.0, 'Hola'), '3': 1}\n"
     ]
    }
   ],
   "source": [
    "diccionario = {'1': tupla, 50: nupla, '3': entero}\n",
    "print(diccionario)"
   ]
  },
  {
   "cell_type": "code",
   "execution_count": 11,
   "id": "moving-beijing",
   "metadata": {
    "execution": {
     "iopub.execute_input": "2021-02-10T07:37:45.769438Z",
     "iopub.status.busy": "2021-02-10T07:37:45.768975Z",
     "iopub.status.idle": "2021-02-10T07:37:45.770664Z",
     "shell.execute_reply": "2021-02-10T07:37:45.771071Z"
    }
   },
   "outputs": [
    {
     "name": "stdout",
     "output_type": "stream",
     "text": [
      "{1, 2}\n"
     ]
    }
   ],
   "source": [
    "conjunto = set([1, 2])\n",
    "print(conjunto)"
   ]
  },
  {
   "cell_type": "code",
   "execution_count": 12,
   "id": "opening-huntington",
   "metadata": {
    "execution": {
     "iopub.execute_input": "2021-02-10T07:37:45.774131Z",
     "iopub.status.busy": "2021-02-10T07:37:45.773632Z",
     "iopub.status.idle": "2021-02-10T07:37:45.775274Z",
     "shell.execute_reply": "2021-02-10T07:37:45.775731Z"
    }
   },
   "outputs": [
    {
     "name": "stdout",
     "output_type": "stream",
     "text": [
      "True\n"
     ]
    }
   ],
   "source": [
    "booleano = True\n",
    "print(booleano)"
   ]
  },
  {
   "cell_type": "code",
   "execution_count": 13,
   "id": "limited-fence",
   "metadata": {
    "execution": {
     "iopub.execute_input": "2021-02-10T07:37:45.778791Z",
     "iopub.status.busy": "2021-02-10T07:37:45.778326Z",
     "iopub.status.idle": "2021-02-10T07:37:45.779961Z",
     "shell.execute_reply": "2021-02-10T07:37:45.780404Z"
    }
   },
   "outputs": [
    {
     "name": "stdout",
     "output_type": "stream",
     "text": [
      "None\n"
     ]
    }
   ],
   "source": [
    "nada = None\n",
    "print(nada)"
   ]
  },
  {
   "cell_type": "markdown",
   "id": "moving-estimate",
   "metadata": {},
   "source": [
    "Ojo que las variables pueden cambiar de tipo!"
   ]
  },
  {
   "cell_type": "code",
   "execution_count": 14,
   "id": "sized-league",
   "metadata": {
    "execution": {
     "iopub.execute_input": "2021-02-10T07:37:45.783691Z",
     "iopub.status.busy": "2021-02-10T07:37:45.783224Z",
     "iopub.status.idle": "2021-02-10T07:37:45.785018Z",
     "shell.execute_reply": "2021-02-10T07:37:45.785374Z"
    }
   },
   "outputs": [
    {
     "name": "stdout",
     "output_type": "stream",
     "text": [
      "1\n",
      "<class 'int'>\n"
     ]
    }
   ],
   "source": [
    "elemento = 1\n",
    "print(elemento)\n",
    "print(type(elemento))"
   ]
  },
  {
   "cell_type": "code",
   "execution_count": 15,
   "id": "instant-metro",
   "metadata": {
    "execution": {
     "iopub.execute_input": "2021-02-10T07:37:45.788664Z",
     "iopub.status.busy": "2021-02-10T07:37:45.788203Z",
     "iopub.status.idle": "2021-02-10T07:37:45.789976Z",
     "shell.execute_reply": "2021-02-10T07:37:45.790357Z"
    }
   },
   "outputs": [
    {
     "name": "stdout",
     "output_type": "stream",
     "text": [
      "1\n",
      "<class 'str'>\n"
     ]
    }
   ],
   "source": [
    "elemento = str(1)\n",
    "print(elemento)\n",
    "print(type(elemento))"
   ]
  },
  {
   "cell_type": "code",
   "execution_count": 16,
   "id": "included-inside",
   "metadata": {
    "execution": {
     "iopub.execute_input": "2021-02-10T07:37:45.793961Z",
     "iopub.status.busy": "2021-02-10T07:37:45.793496Z",
     "iopub.status.idle": "2021-02-10T07:37:45.795716Z",
     "shell.execute_reply": "2021-02-10T07:37:45.795236Z"
    }
   },
   "outputs": [
    {
     "name": "stdout",
     "output_type": "stream",
     "text": [
      "[2]\n",
      "<class 'list'>\n"
     ]
    }
   ],
   "source": [
    "elemento = [2]\n",
    "\n",
    "print(elemento)\n",
    "print(type(elemento))"
   ]
  },
  {
   "cell_type": "markdown",
   "id": "spare-foster",
   "metadata": {},
   "source": [
    "### Tipos basicos"
   ]
  },
  {
   "cell_type": "markdown",
   "id": "encouraging-anderson",
   "metadata": {
    "slideshow": {
     "slide_type": "slide"
    }
   },
   "source": [
    "#### Listas de Python"
   ]
  },
  {
   "cell_type": "code",
   "execution_count": 17,
   "id": "fifth-essay",
   "metadata": {
    "execution": {
     "iopub.execute_input": "2021-02-10T07:37:45.799001Z",
     "iopub.status.busy": "2021-02-10T07:37:45.798538Z",
     "iopub.status.idle": "2021-02-10T07:37:45.801166Z",
     "shell.execute_reply": "2021-02-10T07:37:45.800756Z"
    }
   },
   "outputs": [
    {
     "data": {
      "text/plain": [
       "[]"
      ]
     },
     "execution_count": 1,
     "metadata": {},
     "output_type": "execute_result"
    }
   ],
   "source": [
    "lista = list()\n",
    "lista"
   ]
  },
  {
   "cell_type": "code",
   "execution_count": 18,
   "id": "failing-samuel",
   "metadata": {
    "execution": {
     "iopub.execute_input": "2021-02-10T07:37:45.804177Z",
     "iopub.status.busy": "2021-02-10T07:37:45.803720Z",
     "iopub.status.idle": "2021-02-10T07:37:45.806041Z",
     "shell.execute_reply": "2021-02-10T07:37:45.806425Z"
    },
    "slideshow": {
     "slide_type": "slide"
    }
   },
   "outputs": [
    {
     "data": {
      "text/plain": [
       "[]"
      ]
     },
     "execution_count": 1,
     "metadata": {},
     "output_type": "execute_result"
    }
   ],
   "source": [
    "lista = []\n",
    "lista"
   ]
  },
  {
   "cell_type": "code",
   "execution_count": 19,
   "id": "waiting-fisher",
   "metadata": {
    "execution": {
     "iopub.execute_input": "2021-02-10T07:37:45.809774Z",
     "iopub.status.busy": "2021-02-10T07:37:45.809218Z",
     "iopub.status.idle": "2021-02-10T07:37:45.811358Z",
     "shell.execute_reply": "2021-02-10T07:37:45.811718Z"
    },
    "slideshow": {
     "slide_type": "slide"
    }
   },
   "outputs": [
    {
     "data": {
      "text/plain": [
       "[1, 2, 3, 4]"
      ]
     },
     "execution_count": 1,
     "metadata": {},
     "output_type": "execute_result"
    }
   ],
   "source": [
    "lista = [1, 2, 3, 4]\n",
    "lista"
   ]
  },
  {
   "cell_type": "code",
   "execution_count": 20,
   "id": "necessary-department",
   "metadata": {
    "execution": {
     "iopub.execute_input": "2021-02-10T07:37:45.815409Z",
     "iopub.status.busy": "2021-02-10T07:37:45.814946Z",
     "iopub.status.idle": "2021-02-10T07:37:45.817562Z",
     "shell.execute_reply": "2021-02-10T07:37:45.817153Z"
    },
    "slideshow": {
     "slide_type": "slide"
    }
   },
   "outputs": [
    {
     "data": {
      "text/plain": [
       "[1, 2, 3, 4, 1, 'dos', 3.0]"
      ]
     },
     "execution_count": 1,
     "metadata": {},
     "output_type": "execute_result"
    }
   ],
   "source": [
    "lista.append(1)  # Inserto un 1 al final\n",
    "lista.append(\"dos\")  # Inserto un \"dos\" al final\n",
    "lista.append(3.0)  # Inserto un 3.0 al final\n",
    "lista"
   ]
  },
  {
   "cell_type": "code",
   "execution_count": 21,
   "id": "offensive-oxygen",
   "metadata": {
    "execution": {
     "iopub.execute_input": "2021-02-10T07:37:45.820691Z",
     "iopub.status.busy": "2021-02-10T07:37:45.820227Z",
     "iopub.status.idle": "2021-02-10T07:37:45.822284Z",
     "shell.execute_reply": "2021-02-10T07:37:45.821779Z"
    }
   },
   "outputs": [
    {
     "name": "stdout",
     "output_type": "stream",
     "text": [
      "[1, 2, 10, 3, 4, 1, 'dos', 3.0]\n"
     ]
    }
   ],
   "source": [
    "lista.insert(2, 10)  # Inserto en posicion 2 un 10\n",
    "print(lista)"
   ]
  },
  {
   "cell_type": "code",
   "execution_count": 22,
   "id": "minimal-jimmy",
   "metadata": {
    "execution": {
     "iopub.execute_input": "2021-02-10T07:37:45.825394Z",
     "iopub.status.busy": "2021-02-10T07:37:45.824931Z",
     "iopub.status.idle": "2021-02-10T07:37:45.827599Z",
     "shell.execute_reply": "2021-02-10T07:37:45.827184Z"
    }
   },
   "outputs": [
    {
     "data": {
      "text/plain": [
       "8"
      ]
     },
     "execution_count": 1,
     "metadata": {},
     "output_type": "execute_result"
    }
   ],
   "source": [
    "len(lista)"
   ]
  },
  {
   "cell_type": "code",
   "execution_count": 23,
   "id": "educated-helmet",
   "metadata": {
    "execution": {
     "iopub.execute_input": "2021-02-10T07:37:45.830690Z",
     "iopub.status.busy": "2021-02-10T07:37:45.830221Z",
     "iopub.status.idle": "2021-02-10T07:37:45.833858Z",
     "shell.execute_reply": "2021-02-10T07:37:45.833448Z"
    }
   },
   "outputs": [
    {
     "data": {
      "text/plain": [
       "3.0"
      ]
     },
     "execution_count": 1,
     "metadata": {},
     "output_type": "execute_result"
    }
   ],
   "source": [
    "lista.pop()"
   ]
  },
  {
   "cell_type": "code",
   "execution_count": 24,
   "id": "executed-instrumentation",
   "metadata": {
    "execution": {
     "iopub.execute_input": "2021-02-10T07:37:45.836955Z",
     "iopub.status.busy": "2021-02-10T07:37:45.836498Z",
     "iopub.status.idle": "2021-02-10T07:37:45.838858Z",
     "shell.execute_reply": "2021-02-10T07:37:45.839222Z"
    }
   },
   "outputs": [
    {
     "data": {
      "text/plain": [
       "[1, 2, 10, 3, 4, 1, 'dos']"
      ]
     },
     "execution_count": 1,
     "metadata": {},
     "output_type": "execute_result"
    }
   ],
   "source": [
    "lista"
   ]
  },
  {
   "cell_type": "code",
   "execution_count": 25,
   "id": "interior-price",
   "metadata": {
    "execution": {
     "iopub.execute_input": "2021-02-10T07:37:45.842483Z",
     "iopub.status.busy": "2021-02-10T07:37:45.841897Z",
     "iopub.status.idle": "2021-02-10T07:37:45.844483Z",
     "shell.execute_reply": "2021-02-10T07:37:45.844078Z"
    }
   },
   "outputs": [
    {
     "data": {
      "text/plain": [
       "2"
      ]
     },
     "execution_count": 1,
     "metadata": {},
     "output_type": "execute_result"
    }
   ],
   "source": [
    "lista.index(10)"
   ]
  },
  {
   "cell_type": "code",
   "execution_count": 26,
   "id": "binding-cartoon",
   "metadata": {
    "execution": {
     "iopub.execute_input": "2021-02-10T07:37:45.847752Z",
     "iopub.status.busy": "2021-02-10T07:37:45.847288Z",
     "iopub.status.idle": "2021-02-10T07:37:45.849907Z",
     "shell.execute_reply": "2021-02-10T07:37:45.849497Z"
    }
   },
   "outputs": [
    {
     "data": {
      "text/plain": [
       "[1, 2, 3, 4, 1, 'dos']"
      ]
     },
     "execution_count": 1,
     "metadata": {},
     "output_type": "execute_result"
    }
   ],
   "source": [
    "lista.remove(10)\n",
    "lista"
   ]
  },
  {
   "cell_type": "code",
   "execution_count": 27,
   "id": "eight-thong",
   "metadata": {
    "execution": {
     "iopub.execute_input": "2021-02-10T07:37:45.854086Z",
     "iopub.status.busy": "2021-02-10T07:37:45.853605Z",
     "iopub.status.idle": "2021-02-10T07:37:45.904628Z",
     "shell.execute_reply": "2021-02-10T07:37:45.903122Z"
    },
    "tags": [
     "raises-exception"
    ]
   },
   "outputs": [
    {
     "name": "stdout",
     "output_type": "stream",
     "text": [
      "1\n",
      "2\n",
      "2\n",
      "3\n",
      "3\n",
      "4\n",
      "4\n",
      "5\n",
      "1\n",
      "2\n",
      "dos\n"
     ]
    },
    {
     "ename": "TypeError",
     "evalue": "can only concatenate str (not \"int\") to str",
     "output_type": "error",
     "traceback": [
      "\u001b[0;31m---------------------------------------------------------------------------\u001b[0m",
      "\u001b[0;31mTypeError\u001b[0m                                 Traceback (most recent call last)",
      "\u001b[0;32m<ipython-input-1-41b56d5cf080>\u001b[0m in \u001b[0;36m<module>\u001b[0;34m\u001b[0m\n\u001b[1;32m      1\u001b[0m \u001b[0;32mfor\u001b[0m \u001b[0melemento\u001b[0m \u001b[0;32min\u001b[0m \u001b[0mlista\u001b[0m\u001b[0;34m:\u001b[0m\u001b[0;34m\u001b[0m\u001b[0;34m\u001b[0m\u001b[0m\n\u001b[1;32m      2\u001b[0m     \u001b[0mprint\u001b[0m\u001b[0;34m(\u001b[0m\u001b[0melemento\u001b[0m\u001b[0;34m)\u001b[0m\u001b[0;34m\u001b[0m\u001b[0;34m\u001b[0m\u001b[0m\n\u001b[0;32m----> 3\u001b[0;31m     \u001b[0mprint\u001b[0m\u001b[0;34m(\u001b[0m\u001b[0melemento\u001b[0m \u001b[0;34m+\u001b[0m \u001b[0;36m1\u001b[0m\u001b[0;34m)\u001b[0m\u001b[0;34m\u001b[0m\u001b[0;34m\u001b[0m\u001b[0m\n\u001b[0m",
      "\u001b[0;31mTypeError\u001b[0m: can only concatenate str (not \"int\") to str"
     ]
    }
   ],
   "source": [
    "for elemento in lista:\n",
    "    print(elemento)\n",
    "    print(elemento + 1)"
   ]
  },
  {
   "cell_type": "code",
   "execution_count": 28,
   "id": "returning-liberal",
   "metadata": {
    "execution": {
     "iopub.execute_input": "2021-02-10T07:37:46.008813Z",
     "iopub.status.busy": "2021-02-10T07:37:46.008299Z",
     "iopub.status.idle": "2021-02-10T07:37:46.013955Z",
     "shell.execute_reply": "2021-02-10T07:37:46.013521Z"
    }
   },
   "outputs": [
    {
     "data": {
      "text/plain": [
       "[1, 2, 3, 4, 1, 'dos']"
      ]
     },
     "execution_count": 1,
     "metadata": {},
     "output_type": "execute_result"
    }
   ],
   "source": [
    "lista"
   ]
  },
  {
   "cell_type": "code",
   "execution_count": 29,
   "id": "absolute-trunk",
   "metadata": {
    "execution": {
     "iopub.execute_input": "2021-02-10T07:37:46.017640Z",
     "iopub.status.busy": "2021-02-10T07:37:46.017171Z",
     "iopub.status.idle": "2021-02-10T07:37:46.021122Z",
     "shell.execute_reply": "2021-02-10T07:37:46.020728Z"
    }
   },
   "outputs": [
    {
     "name": "stdout",
     "output_type": "stream",
     "text": [
      "0-ésimo elemento: 1\n",
      "1-ésimo elemento: 2\n",
      "2-ésimo elemento: 3\n",
      "3-ésimo elemento: 4\n",
      "4-ésimo elemento: 1\n",
      "5-ésimo elemento: dos\n"
     ]
    }
   ],
   "source": [
    "for i, elemento in enumerate(lista):\n",
    "    print(f\"{i}-ésimo elemento: {elemento}\")"
   ]
  },
  {
   "cell_type": "code",
   "execution_count": 30,
   "id": "acknowledged-awareness",
   "metadata": {
    "execution": {
     "iopub.execute_input": "2021-02-10T07:37:46.026434Z",
     "iopub.status.busy": "2021-02-10T07:37:46.025936Z",
     "iopub.status.idle": "2021-02-10T07:37:46.030912Z",
     "shell.execute_reply": "2021-02-10T07:37:46.029662Z"
    },
    "tags": [
     "raises-exception"
    ]
   },
   "outputs": [
    {
     "ename": "TypeError",
     "evalue": "'<' not supported between instances of 'str' and 'int'",
     "output_type": "error",
     "traceback": [
      "\u001b[0;31m---------------------------------------------------------------------------\u001b[0m",
      "\u001b[0;31mTypeError\u001b[0m                                 Traceback (most recent call last)",
      "\u001b[0;32m<ipython-input-1-06c3f264dc7a>\u001b[0m in \u001b[0;36m<module>\u001b[0;34m\u001b[0m\n\u001b[0;32m----> 1\u001b[0;31m \u001b[0msorted\u001b[0m\u001b[0;34m(\u001b[0m\u001b[0mlista\u001b[0m\u001b[0;34m)\u001b[0m\u001b[0;34m\u001b[0m\u001b[0;34m\u001b[0m\u001b[0m\n\u001b[0m",
      "\u001b[0;31mTypeError\u001b[0m: '<' not supported between instances of 'str' and 'int'"
     ]
    }
   ],
   "source": [
    "sorted(lista)"
   ]
  },
  {
   "cell_type": "code",
   "execution_count": 31,
   "id": "decreased-failing",
   "metadata": {
    "execution": {
     "iopub.execute_input": "2021-02-10T07:37:46.134763Z",
     "iopub.status.busy": "2021-02-10T07:37:46.134151Z",
     "iopub.status.idle": "2021-02-10T07:37:46.137396Z",
     "shell.execute_reply": "2021-02-10T07:37:46.137852Z"
    }
   },
   "outputs": [],
   "source": [
    "lista.remove(\"dos\")"
   ]
  },
  {
   "cell_type": "code",
   "execution_count": 32,
   "id": "constant-polymer",
   "metadata": {
    "execution": {
     "iopub.execute_input": "2021-02-10T07:37:46.141793Z",
     "iopub.status.busy": "2021-02-10T07:37:46.141328Z",
     "iopub.status.idle": "2021-02-10T07:37:46.146031Z",
     "shell.execute_reply": "2021-02-10T07:37:46.145614Z"
    }
   },
   "outputs": [
    {
     "data": {
      "text/plain": [
       "[1, 1, 2, 3, 4]"
      ]
     },
     "execution_count": 1,
     "metadata": {},
     "output_type": "execute_result"
    }
   ],
   "source": [
    "sorted(lista)"
   ]
  },
  {
   "cell_type": "code",
   "execution_count": 33,
   "id": "violent-square",
   "metadata": {
    "execution": {
     "iopub.execute_input": "2021-02-10T07:37:46.149413Z",
     "iopub.status.busy": "2021-02-10T07:37:46.148934Z",
     "iopub.status.idle": "2021-02-10T07:37:46.153410Z",
     "shell.execute_reply": "2021-02-10T07:37:46.152970Z"
    }
   },
   "outputs": [
    {
     "data": {
      "text/plain": [
       "[1, 1, 2, 3, 4]"
      ]
     },
     "execution_count": 1,
     "metadata": {},
     "output_type": "execute_result"
    }
   ],
   "source": [
    "lista.sort()\n",
    "lista"
   ]
  },
  {
   "cell_type": "markdown",
   "id": "seven-timeline",
   "metadata": {
    "slideshow": {
     "slide_type": "slide"
    }
   },
   "source": [
    "#### Tuplas de Python\n",
    "\n",
    "Las tuplas son inmutables. No se pueden agregar elementos luego de creadas."
   ]
  },
  {
   "cell_type": "code",
   "execution_count": 34,
   "id": "dying-locator",
   "metadata": {
    "execution": {
     "iopub.execute_input": "2021-02-10T07:37:46.158724Z",
     "iopub.status.busy": "2021-02-10T07:37:46.158248Z",
     "iopub.status.idle": "2021-02-10T07:37:46.165511Z",
     "shell.execute_reply": "2021-02-10T07:37:46.164035Z"
    },
    "slideshow": {
     "slide_type": "slide"
    },
    "tags": [
     "raises-exception"
    ]
   },
   "outputs": [
    {
     "name": "stdout",
     "output_type": "stream",
     "text": [
      "(1, 2)\n",
      "1\n",
      "2\n"
     ]
    },
    {
     "ename": "TypeError",
     "evalue": "'tuple' object does not support item assignment",
     "output_type": "error",
     "traceback": [
      "\u001b[0;31m---------------------------------------------------------------------------\u001b[0m",
      "\u001b[0;31mTypeError\u001b[0m                                 Traceback (most recent call last)",
      "\u001b[0;32m<ipython-input-1-80ca8b547dd6>\u001b[0m in \u001b[0;36m<module>\u001b[0;34m\u001b[0m\n\u001b[1;32m      5\u001b[0m \u001b[0mprint\u001b[0m\u001b[0;34m(\u001b[0m\u001b[0mtupla\u001b[0m\u001b[0;34m[\u001b[0m\u001b[0;36m1\u001b[0m\u001b[0;34m]\u001b[0m\u001b[0;34m)\u001b[0m\u001b[0;34m\u001b[0m\u001b[0;34m\u001b[0m\u001b[0m\n\u001b[1;32m      6\u001b[0m \u001b[0;34m\u001b[0m\u001b[0m\n\u001b[0;32m----> 7\u001b[0;31m \u001b[0mtupla\u001b[0m\u001b[0;34m[\u001b[0m\u001b[0;36m1\u001b[0m\u001b[0;34m]\u001b[0m \u001b[0;34m=\u001b[0m \u001b[0;36m3\u001b[0m  \u001b[0;31m# Falla. No se puede mutar\u001b[0m\u001b[0;34m\u001b[0m\u001b[0;34m\u001b[0m\u001b[0m\n\u001b[0m",
      "\u001b[0;31mTypeError\u001b[0m: 'tuple' object does not support item assignment"
     ]
    }
   ],
   "source": [
    "tupla = (1, 2)\n",
    "\n",
    "print(tupla)\n",
    "print(tupla[0])\n",
    "print(tupla[1])\n",
    "\n",
    "tupla[1] = 3  # Falla. No se puede mutar"
   ]
  },
  {
   "cell_type": "code",
   "execution_count": 35,
   "id": "saving-detroit",
   "metadata": {
    "execution": {
     "iopub.execute_input": "2021-02-10T07:37:46.269581Z",
     "iopub.status.busy": "2021-02-10T07:37:46.268989Z",
     "iopub.status.idle": "2021-02-10T07:37:46.274337Z",
     "shell.execute_reply": "2021-02-10T07:37:46.273867Z"
    }
   },
   "outputs": [
    {
     "data": {
      "text/plain": [
       "[1, 2]"
      ]
     },
     "execution_count": 1,
     "metadata": {},
     "output_type": "execute_result"
    }
   ],
   "source": [
    "l = [1, 2]\n",
    "l"
   ]
  },
  {
   "cell_type": "code",
   "execution_count": 36,
   "id": "monetary-homeless",
   "metadata": {
    "execution": {
     "iopub.execute_input": "2021-02-10T07:37:46.277902Z",
     "iopub.status.busy": "2021-02-10T07:37:46.277433Z",
     "iopub.status.idle": "2021-02-10T07:37:46.282654Z",
     "shell.execute_reply": "2021-02-10T07:37:46.282226Z"
    }
   },
   "outputs": [
    {
     "data": {
      "text/plain": [
       "[1, 3]"
      ]
     },
     "execution_count": 1,
     "metadata": {},
     "output_type": "execute_result"
    }
   ],
   "source": [
    "l[1] = 3\n",
    "l"
   ]
  },
  {
   "cell_type": "markdown",
   "id": "correct-chart",
   "metadata": {
    "slideshow": {
     "slide_type": "slide"
    }
   },
   "source": [
    "#### Diferencia entre lista y tupla\n",
    "Las listas se caracterizan por ser mutables, es decir, se puede cambiar su contenido en tiempo de ejecución, mientras que las tuplas son inmutables ya que no es posible modificar el contenido una vez creada."
   ]
  },
  {
   "cell_type": "markdown",
   "id": "immune-avatar",
   "metadata": {},
   "source": [
    "#### Slices\n",
    "\n",
    "**Valen para listas, tuplas o strings (_segmentos_)**"
   ]
  },
  {
   "cell_type": "code",
   "execution_count": 37,
   "id": "pursuant-keeping",
   "metadata": {
    "execution": {
     "iopub.execute_input": "2021-02-10T07:37:46.286149Z",
     "iopub.status.busy": "2021-02-10T07:37:46.285661Z",
     "iopub.status.idle": "2021-02-10T07:37:46.288813Z",
     "shell.execute_reply": "2021-02-10T07:37:46.288399Z"
    }
   },
   "outputs": [],
   "source": [
    "numeros = [0, 1, 2, 3, 4, 5, 6, 7, 8, 9, 10]"
   ]
  },
  {
   "cell_type": "code",
   "execution_count": 38,
   "id": "front-statistics",
   "metadata": {
    "execution": {
     "iopub.execute_input": "2021-02-10T07:37:46.292088Z",
     "iopub.status.busy": "2021-02-10T07:37:46.291612Z",
     "iopub.status.idle": "2021-02-10T07:37:46.295522Z",
     "shell.execute_reply": "2021-02-10T07:37:46.295114Z"
    }
   },
   "outputs": [
    {
     "name": "stdout",
     "output_type": "stream",
     "text": [
      "[0, 1, 2, 3, 4, 5, 6, 7, 8, 9, 10]\n"
     ]
    }
   ],
   "source": [
    "print(numeros)"
   ]
  },
  {
   "cell_type": "code",
   "execution_count": 39,
   "id": "invisible-transparency",
   "metadata": {
    "execution": {
     "iopub.execute_input": "2021-02-10T07:37:46.298783Z",
     "iopub.status.busy": "2021-02-10T07:37:46.298303Z",
     "iopub.status.idle": "2021-02-10T07:37:46.302366Z",
     "shell.execute_reply": "2021-02-10T07:37:46.301929Z"
    }
   },
   "outputs": [
    {
     "name": "stdout",
     "output_type": "stream",
     "text": [
      "2\n"
     ]
    }
   ],
   "source": [
    "print(numeros[2])  # Imprimo elemento en la posición 2"
   ]
  },
  {
   "cell_type": "code",
   "execution_count": 40,
   "id": "alpine-checklist",
   "metadata": {
    "execution": {
     "iopub.execute_input": "2021-02-10T07:37:46.305744Z",
     "iopub.status.busy": "2021-02-10T07:37:46.305282Z",
     "iopub.status.idle": "2021-02-10T07:37:46.309744Z",
     "shell.execute_reply": "2021-02-10T07:37:46.309329Z"
    }
   },
   "outputs": [
    {
     "data": {
      "text/plain": [
       "10"
      ]
     },
     "execution_count": 1,
     "metadata": {},
     "output_type": "execute_result"
    }
   ],
   "source": [
    "numeros[len(numeros) - 1]"
   ]
  },
  {
   "cell_type": "code",
   "execution_count": 41,
   "id": "ambient-firmware",
   "metadata": {
    "execution": {
     "iopub.execute_input": "2021-02-10T07:37:46.312991Z",
     "iopub.status.busy": "2021-02-10T07:37:46.312517Z",
     "iopub.status.idle": "2021-02-10T07:37:46.316120Z",
     "shell.execute_reply": "2021-02-10T07:37:46.316485Z"
    },
    "lines_to_next_cell": 2
   },
   "outputs": [
    {
     "name": "stdout",
     "output_type": "stream",
     "text": [
      "10\n"
     ]
    }
   ],
   "source": [
    "print(numeros[-1])  # # Imprimo elemento en la última posición"
   ]
  },
  {
   "cell_type": "code",
   "execution_count": 42,
   "id": "random-communications",
   "metadata": {
    "execution": {
     "iopub.execute_input": "2021-02-10T07:37:46.319950Z",
     "iopub.status.busy": "2021-02-10T07:37:46.319482Z",
     "iopub.status.idle": "2021-02-10T07:37:46.323995Z",
     "shell.execute_reply": "2021-02-10T07:37:46.323600Z"
    },
    "lines_to_next_cell": 2
   },
   "outputs": [
    {
     "data": {
      "text/plain": [
       "9"
      ]
     },
     "execution_count": 1,
     "metadata": {},
     "output_type": "execute_result"
    }
   ],
   "source": [
    "numeros[-2]"
   ]
  },
  {
   "cell_type": "code",
   "execution_count": 43,
   "id": "expanded-messaging",
   "metadata": {
    "execution": {
     "iopub.execute_input": "2021-02-10T07:37:46.327147Z",
     "iopub.status.busy": "2021-02-10T07:37:46.326673Z",
     "iopub.status.idle": "2021-02-10T07:37:46.330897Z",
     "shell.execute_reply": "2021-02-10T07:37:46.330510Z"
    }
   },
   "outputs": [
    {
     "name": "stdout",
     "output_type": "stream",
     "text": [
      "[0, 1, 2]\n"
     ]
    }
   ],
   "source": [
    "print(numeros[0:3])  # Imprimo de la pos 0 a la pos 2"
   ]
  },
  {
   "cell_type": "code",
   "execution_count": 44,
   "id": "hispanic-george",
   "metadata": {
    "execution": {
     "iopub.execute_input": "2021-02-10T07:37:46.333858Z",
     "iopub.status.busy": "2021-02-10T07:37:46.333397Z",
     "iopub.status.idle": "2021-02-10T07:37:46.337265Z",
     "shell.execute_reply": "2021-02-10T07:37:46.336826Z"
    }
   },
   "outputs": [
    {
     "name": "stdout",
     "output_type": "stream",
     "text": [
      "[7, 8]\n"
     ]
    }
   ],
   "source": [
    "print(numeros[-4:-2])"
   ]
  },
  {
   "cell_type": "code",
   "execution_count": 45,
   "id": "demanding-principle",
   "metadata": {
    "execution": {
     "iopub.execute_input": "2021-02-10T07:37:46.340684Z",
     "iopub.status.busy": "2021-02-10T07:37:46.340182Z",
     "iopub.status.idle": "2021-02-10T07:37:46.342274Z",
     "shell.execute_reply": "2021-02-10T07:37:46.341779Z"
    }
   },
   "outputs": [
    {
     "name": "stdout",
     "output_type": "stream",
     "text": [
      "[0, 1, 2, 3, 4, 5, 6, 7, 8, 9, 10]\n"
     ]
    }
   ],
   "source": [
    "print(numeros[0:80])"
   ]
  },
  {
   "cell_type": "code",
   "execution_count": 46,
   "id": "molecular-vegetation",
   "metadata": {
    "execution": {
     "iopub.execute_input": "2021-02-10T07:37:46.345358Z",
     "iopub.status.busy": "2021-02-10T07:37:46.344892Z",
     "iopub.status.idle": "2021-02-10T07:37:46.346945Z",
     "shell.execute_reply": "2021-02-10T07:37:46.346469Z"
    }
   },
   "outputs": [
    {
     "name": "stdout",
     "output_type": "stream",
     "text": [
      "[0, 1, 2]\n"
     ]
    }
   ],
   "source": [
    "print(numeros[:3])"
   ]
  },
  {
   "cell_type": "code",
   "execution_count": 47,
   "id": "juvenile-dodge",
   "metadata": {
    "execution": {
     "iopub.execute_input": "2021-02-10T07:37:46.350006Z",
     "iopub.status.busy": "2021-02-10T07:37:46.349542Z",
     "iopub.status.idle": "2021-02-10T07:37:46.351589Z",
     "shell.execute_reply": "2021-02-10T07:37:46.351115Z"
    }
   },
   "outputs": [
    {
     "name": "stdout",
     "output_type": "stream",
     "text": [
      "[3, 4, 5, 6, 7, 8, 9, 10]\n"
     ]
    }
   ],
   "source": [
    "print(numeros[3:])"
   ]
  },
  {
   "cell_type": "code",
   "execution_count": 48,
   "id": "greenhouse-villa",
   "metadata": {
    "execution": {
     "iopub.execute_input": "2021-02-10T07:37:46.354714Z",
     "iopub.status.busy": "2021-02-10T07:37:46.354246Z",
     "iopub.status.idle": "2021-02-10T07:37:46.356284Z",
     "shell.execute_reply": "2021-02-10T07:37:46.355813Z"
    }
   },
   "outputs": [
    {
     "name": "stdout",
     "output_type": "stream",
     "text": [
      "[0, 2, 4, 6, 8]\n"
     ]
    }
   ],
   "source": [
    "print(numeros[0:10:2])"
   ]
  },
  {
   "cell_type": "markdown",
   "id": "destroyed-commerce",
   "metadata": {},
   "source": [
    "```python\n",
    "lista[<inicio>:<final>:<step>]\n",
    "```"
   ]
  },
  {
   "cell_type": "code",
   "execution_count": 49,
   "id": "visible-watershed",
   "metadata": {
    "execution": {
     "iopub.execute_input": "2021-02-10T07:37:46.359711Z",
     "iopub.status.busy": "2021-02-10T07:37:46.359247Z",
     "iopub.status.idle": "2021-02-10T07:37:46.362911Z",
     "shell.execute_reply": "2021-02-10T07:37:46.362497Z"
    },
    "lines_to_next_cell": 2
   },
   "outputs": [
    {
     "data": {
      "text/plain": [
       "[1, 2, 3, 4]"
      ]
     },
     "execution_count": 1,
     "metadata": {},
     "output_type": "execute_result"
    }
   ],
   "source": [
    "l1 = [1, 2]\n",
    "l2 = [3, 4]\n",
    "l1 + l2"
   ]
  },
  {
   "cell_type": "code",
   "execution_count": 50,
   "id": "anonymous-gasoline",
   "metadata": {
    "execution": {
     "iopub.execute_input": "2021-02-10T07:37:46.366026Z",
     "iopub.status.busy": "2021-02-10T07:37:46.365561Z",
     "iopub.status.idle": "2021-02-10T07:37:46.367680Z",
     "shell.execute_reply": "2021-02-10T07:37:46.367209Z"
    }
   },
   "outputs": [
    {
     "name": "stdout",
     "output_type": "stream",
     "text": [
      "[0, 1, 2, 3, 4, 5, 6, 'siete', 8, 9, 10]\n"
     ]
    }
   ],
   "source": [
    "numeros[7] = 'siete'  # Las listas se pueden mutar\n",
    "print(numeros)"
   ]
  },
  {
   "cell_type": "code",
   "execution_count": 51,
   "id": "spiritual-adobe",
   "metadata": {
    "execution": {
     "iopub.execute_input": "2021-02-10T07:37:46.370854Z",
     "iopub.status.busy": "2021-02-10T07:37:46.370385Z",
     "iopub.status.idle": "2021-02-10T07:37:46.372425Z",
     "shell.execute_reply": "2021-02-10T07:37:46.371957Z"
    }
   },
   "outputs": [
    {
     "name": "stdout",
     "output_type": "stream",
     "text": [
      "[10, 9, 8, 'siete', 6, 5, 4, 3, 2, 1, 0]\n"
     ]
    }
   ],
   "source": [
    "numeros = numeros[::-1]\n",
    "print(numeros)"
   ]
  },
  {
   "cell_type": "code",
   "execution_count": 52,
   "id": "equal-retrieval",
   "metadata": {
    "execution": {
     "iopub.execute_input": "2021-02-10T07:37:46.377221Z",
     "iopub.status.busy": "2021-02-10T07:37:46.374879Z",
     "iopub.status.idle": "2021-02-10T07:37:46.379928Z",
     "shell.execute_reply": "2021-02-10T07:37:46.379427Z"
    },
    "tags": [
     "raises-exception"
    ]
   },
   "outputs": [
    {
     "ename": "IndexError",
     "evalue": "list index out of range",
     "output_type": "error",
     "traceback": [
      "\u001b[0;31m---------------------------------------------------------------------------\u001b[0m",
      "\u001b[0;31mIndexError\u001b[0m                                Traceback (most recent call last)",
      "\u001b[0;32m<ipython-input-1-0ef91dd29a9b>\u001b[0m in \u001b[0;36m<module>\u001b[0;34m\u001b[0m\n\u001b[0;32m----> 1\u001b[0;31m \u001b[0mprint\u001b[0m\u001b[0;34m(\u001b[0m\u001b[0mnumeros\u001b[0m\u001b[0;34m[\u001b[0m\u001b[0;36m15\u001b[0m\u001b[0;34m]\u001b[0m\u001b[0;34m)\u001b[0m  \u001b[0;31m# Falla. No se puede acceder a una posición inexistente\u001b[0m\u001b[0;34m\u001b[0m\u001b[0;34m\u001b[0m\u001b[0m\n\u001b[0m",
      "\u001b[0;31mIndexError\u001b[0m: list index out of range"
     ]
    }
   ],
   "source": [
    "print(numeros[15])  # Falla. No se puede acceder a una posición inexistente"
   ]
  },
  {
   "cell_type": "code",
   "execution_count": 53,
   "id": "obvious-drove",
   "metadata": {
    "execution": {
     "iopub.execute_input": "2021-02-10T07:37:46.485318Z",
     "iopub.status.busy": "2021-02-10T07:37:46.484774Z",
     "iopub.status.idle": "2021-02-10T07:37:46.486816Z",
     "shell.execute_reply": "2021-02-10T07:37:46.487208Z"
    }
   },
   "outputs": [
    {
     "name": "stdout",
     "output_type": "stream",
     "text": [
      "palabra\n",
      "a\n",
      "pal\n",
      "abra\n"
     ]
    }
   ],
   "source": [
    "palabra = 'palabra'\n",
    "print(palabra)\n",
    "print(palabra[3])\n",
    "print(palabra[:3])\n",
    "print(palabra[3:])"
   ]
  },
  {
   "cell_type": "code",
   "execution_count": 54,
   "id": "upper-three",
   "metadata": {
    "execution": {
     "iopub.execute_input": "2021-02-10T07:37:46.491590Z",
     "iopub.status.busy": "2021-02-10T07:37:46.491116Z",
     "iopub.status.idle": "2021-02-10T07:37:46.494679Z",
     "shell.execute_reply": "2021-02-10T07:37:46.495047Z"
    }
   },
   "outputs": [
    {
     "name": "stdout",
     "output_type": "stream",
     "text": [
      "(0, 1, 2, 3, 4)\n",
      "(0, 1)\n",
      "(2, 3, 4)\n"
     ]
    }
   ],
   "source": [
    "tupla = (0, 1, 2, 3, 4)\n",
    "\n",
    "print(tupla)\n",
    "print(tupla[:2])\n",
    "print(tupla[2:])"
   ]
  },
  {
   "cell_type": "markdown",
   "id": "prostate-blocking",
   "metadata": {
    "slideshow": {
     "slide_type": "slide"
    }
   },
   "source": [
    "#### Diccionarios de Python\n",
    "\n",
    "Son como hashmaps, las claves deben ser inmutables para que no pierda sentido el diccionario. Si se pudieran modificar, se podrían cambiar las claves y generaría conflictos.\n",
    "\n",
    "Tipos mutables:\n",
    "- Listas\n",
    "- Diccionarios\n",
    "- Sets\n",
    "\n",
    "Tipos inmutables:\n",
    "- Int\n",
    "- Float\n",
    "- String\n",
    "- Tuplas\n"
   ]
  },
  {
   "cell_type": "code",
   "execution_count": 55,
   "id": "american-looking",
   "metadata": {
    "execution": {
     "iopub.execute_input": "2021-02-10T07:37:46.499164Z",
     "iopub.status.busy": "2021-02-10T07:37:46.498671Z",
     "iopub.status.idle": "2021-02-10T07:37:46.501002Z",
     "shell.execute_reply": "2021-02-10T07:37:46.501381Z"
    },
    "slideshow": {
     "slide_type": "slide"
    }
   },
   "outputs": [
    {
     "data": {
      "text/plain": [
       "{}"
      ]
     },
     "execution_count": 1,
     "metadata": {},
     "output_type": "execute_result"
    }
   ],
   "source": [
    "diccionario = {}\n",
    "diccionario"
   ]
  },
  {
   "cell_type": "code",
   "execution_count": 56,
   "id": "educational-store",
   "metadata": {
    "execution": {
     "iopub.execute_input": "2021-02-10T07:37:46.505292Z",
     "iopub.status.busy": "2021-02-10T07:37:46.504810Z",
     "iopub.status.idle": "2021-02-10T07:37:46.507111Z",
     "shell.execute_reply": "2021-02-10T07:37:46.507494Z"
    }
   },
   "outputs": [
    {
     "data": {
      "text/plain": [
       "{}"
      ]
     },
     "execution_count": 1,
     "metadata": {},
     "output_type": "execute_result"
    }
   ],
   "source": [
    "diccionario = dict()\n",
    "diccionario"
   ]
  },
  {
   "cell_type": "code",
   "execution_count": 57,
   "id": "anticipated-server",
   "metadata": {
    "execution": {
     "iopub.execute_input": "2021-02-10T07:37:46.512057Z",
     "iopub.status.busy": "2021-02-10T07:37:46.511025Z",
     "iopub.status.idle": "2021-02-10T07:37:46.513619Z",
     "shell.execute_reply": "2021-02-10T07:37:46.513207Z"
    },
    "slideshow": {
     "slide_type": "slide"
    }
   },
   "outputs": [
    {
     "name": "stdout",
     "output_type": "stream",
     "text": [
      "{'clave1': 'valor1', 2: 'valor2', 'clave3': 3}\n"
     ]
    }
   ],
   "source": [
    "# Cómo agregar cosas al diccionario\n",
    "diccionario['clave1'] = 'valor1'\n",
    "diccionario[2] = 'valor2'\n",
    "diccionario['clave3'] = 3\n",
    "print(diccionario)"
   ]
  },
  {
   "cell_type": "markdown",
   "id": "single-license",
   "metadata": {},
   "source": [
    "Hay dos formas de obtener valores de un diccionario:\n",
    "\n",
    "```python\n",
    "diccionario[clave]\n",
    "```\n",
    "\n",
    "El cual devuelve el valor si existe la clave suministrada o bien lanza `KeyError` si no existe."
   ]
  },
  {
   "cell_type": "code",
   "execution_count": 58,
   "id": "peaceful-beads",
   "metadata": {
    "execution": {
     "iopub.execute_input": "2021-02-10T07:37:46.517491Z",
     "iopub.status.busy": "2021-02-10T07:37:46.517013Z",
     "iopub.status.idle": "2021-02-10T07:37:46.519364Z",
     "shell.execute_reply": "2021-02-10T07:37:46.519745Z"
    }
   },
   "outputs": [
    {
     "data": {
      "text/plain": [
       "'valor1'"
      ]
     },
     "execution_count": 1,
     "metadata": {},
     "output_type": "execute_result"
    }
   ],
   "source": [
    "diccionario['clave1']"
   ]
  },
  {
   "cell_type": "code",
   "execution_count": 59,
   "id": "federal-proof",
   "metadata": {
    "execution": {
     "iopub.execute_input": "2021-02-10T07:37:46.525262Z",
     "iopub.status.busy": "2021-02-10T07:37:46.523637Z",
     "iopub.status.idle": "2021-02-10T07:37:46.527573Z",
     "shell.execute_reply": "2021-02-10T07:37:46.527064Z"
    },
    "tags": [
     "raises-exception"
    ]
   },
   "outputs": [
    {
     "ename": "KeyError",
     "evalue": "'clave1000'",
     "output_type": "error",
     "traceback": [
      "\u001b[0;31m---------------------------------------------------------------------------\u001b[0m",
      "\u001b[0;31mKeyError\u001b[0m                                  Traceback (most recent call last)",
      "\u001b[0;32m<ipython-input-1-41aae9a2e5ed>\u001b[0m in \u001b[0;36m<module>\u001b[0;34m\u001b[0m\n\u001b[0;32m----> 1\u001b[0;31m \u001b[0mdiccionario\u001b[0m\u001b[0;34m[\u001b[0m\u001b[0;34m'clave1000'\u001b[0m\u001b[0;34m]\u001b[0m\u001b[0;34m\u001b[0m\u001b[0;34m\u001b[0m\u001b[0m\n\u001b[0m",
      "\u001b[0;31mKeyError\u001b[0m: 'clave1000'"
     ]
    }
   ],
   "source": [
    "diccionario['clave1000']"
   ]
  },
  {
   "cell_type": "markdown",
   "id": "funny-hardwood",
   "metadata": {},
   "source": [
    "La segunda forma es con `get`:"
   ]
  },
  {
   "cell_type": "code",
   "execution_count": 60,
   "id": "emotional-village",
   "metadata": {
    "execution": {
     "iopub.execute_input": "2021-02-10T07:37:46.666057Z",
     "iopub.status.busy": "2021-02-10T07:37:46.640154Z",
     "iopub.status.idle": "2021-02-10T07:37:46.681279Z",
     "shell.execute_reply": "2021-02-10T07:37:46.680802Z"
    }
   },
   "outputs": [],
   "source": [
    "diccionario.get?"
   ]
  },
  {
   "cell_type": "code",
   "execution_count": 61,
   "id": "floppy-baptist",
   "metadata": {
    "execution": {
     "iopub.execute_input": "2021-02-10T07:37:46.685773Z",
     "iopub.status.busy": "2021-02-10T07:37:46.685273Z",
     "iopub.status.idle": "2021-02-10T07:37:46.688375Z",
     "shell.execute_reply": "2021-02-10T07:37:46.688741Z"
    }
   },
   "outputs": [
    {
     "name": "stdout",
     "output_type": "stream",
     "text": [
      "Help on built-in function get:\n",
      "\n",
      "get(key, default=None, /) method of builtins.dict instance\n",
      "    Return the value for key if key is in the dictionary, else default.\n",
      "\n"
     ]
    }
   ],
   "source": [
    "help(diccionario.get)"
   ]
  },
  {
   "cell_type": "code",
   "execution_count": 62,
   "id": "unique-probe",
   "metadata": {
    "execution": {
     "iopub.execute_input": "2021-02-10T07:37:46.692526Z",
     "iopub.status.busy": "2021-02-10T07:37:46.691702Z",
     "iopub.status.idle": "2021-02-10T07:37:46.696102Z",
     "shell.execute_reply": "2021-02-10T07:37:46.695675Z"
    },
    "slideshow": {
     "slide_type": "slide"
    }
   },
   "outputs": [
    {
     "name": "stdout",
     "output_type": "stream",
     "text": [
      "None\n"
     ]
    }
   ],
   "source": [
    "print(diccionario.get('clave1000'))"
   ]
  },
  {
   "cell_type": "code",
   "execution_count": 63,
   "id": "laden-librarian",
   "metadata": {
    "execution": {
     "iopub.execute_input": "2021-02-10T07:37:46.700313Z",
     "iopub.status.busy": "2021-02-10T07:37:46.699457Z",
     "iopub.status.idle": "2021-02-10T07:37:46.702161Z",
     "shell.execute_reply": "2021-02-10T07:37:46.701725Z"
    },
    "slideshow": {
     "slide_type": "slide"
    }
   },
   "outputs": [
    {
     "name": "stdout",
     "output_type": "stream",
     "text": [
      "True\n"
     ]
    }
   ],
   "source": [
    "print('clave1' in diccionario)  # Verifico si la clave está en el diccionario"
   ]
  },
  {
   "cell_type": "code",
   "execution_count": 64,
   "id": "european-hazard",
   "metadata": {
    "execution": {
     "iopub.execute_input": "2021-02-10T07:37:46.706179Z",
     "iopub.status.busy": "2021-02-10T07:37:46.705674Z",
     "iopub.status.idle": "2021-02-10T07:37:46.708025Z",
     "shell.execute_reply": "2021-02-10T07:37:46.708413Z"
    }
   },
   "outputs": [
    {
     "data": {
      "text/plain": [
       "True"
      ]
     },
     "execution_count": 1,
     "metadata": {},
     "output_type": "execute_result"
    }
   ],
   "source": [
    "l = [1, 2, 3, 4]\n",
    "2 in l"
   ]
  },
  {
   "cell_type": "code",
   "execution_count": 65,
   "id": "sustained-thanksgiving",
   "metadata": {
    "execution": {
     "iopub.execute_input": "2021-02-10T07:37:46.713116Z",
     "iopub.status.busy": "2021-02-10T07:37:46.712056Z",
     "iopub.status.idle": "2021-02-10T07:37:46.715338Z",
     "shell.execute_reply": "2021-02-10T07:37:46.714302Z"
    }
   },
   "outputs": [
    {
     "name": "stdout",
     "output_type": "stream",
     "text": [
      "la clave es clave1 y el valor es valor1\n",
      "la clave es 2 y el valor es valor2\n"
     ]
    },
    {
     "name": "stdout",
     "output_type": "stream",
     "text": [
      "la clave es clave3 y el valor es 3\n"
     ]
    }
   ],
   "source": [
    "for clave, valor in diccionario.items():\n",
    "    print(\"la clave es %s y el valor es %s\" % (clave, valor))"
   ]
  },
  {
   "cell_type": "code",
   "execution_count": 66,
   "id": "large-civilian",
   "metadata": {
    "execution": {
     "iopub.execute_input": "2021-02-10T07:37:46.719687Z",
     "iopub.status.busy": "2021-02-10T07:37:46.718855Z",
     "iopub.status.idle": "2021-02-10T07:37:46.721083Z",
     "shell.execute_reply": "2021-02-10T07:37:46.721468Z"
    }
   },
   "outputs": [
    {
     "name": "stdout",
     "output_type": "stream",
     "text": [
      "la clave es clave1 y el valor es valor1\n",
      "la clave es 2 y el valor es valor2\n",
      "la clave es clave3 y el valor es 3\n"
     ]
    }
   ],
   "source": [
    "for clave, valor in diccionario.items():\n",
    "    print(\"la clave es {} y el valor es {}\".format(clave, valor))"
   ]
  },
  {
   "cell_type": "code",
   "execution_count": 67,
   "id": "refined-richmond",
   "metadata": {
    "execution": {
     "iopub.execute_input": "2021-02-10T07:37:46.726091Z",
     "iopub.status.busy": "2021-02-10T07:37:46.725123Z",
     "iopub.status.idle": "2021-02-10T07:37:46.727781Z",
     "shell.execute_reply": "2021-02-10T07:37:46.727378Z"
    },
    "slideshow": {
     "slide_type": "slide"
    }
   },
   "outputs": [
    {
     "name": "stdout",
     "output_type": "stream",
     "text": [
      "la clave es clave1 y el valor es valor1\n",
      "la clave es 2 y el valor es valor2\n",
      "la clave es clave3 y el valor es 3\n"
     ]
    }
   ],
   "source": [
    "# Cómo iterar un diccionario elemento por elemento\n",
    "for (\n",
    "    clave,\n",
    "    valor,\n",
    ") in (\n",
    "    diccionario.items()\n",
    "):  # diccionario.items() va devolviendo tuplas con el formato (clave,valor)\n",
    "    print(\n",
    "        f\"la clave es {clave} y el valor es {valor}\"\n",
    "    )  # con esta sintaxis se desempaquetan en clave y valor (similar a enumerate)"
   ]
  },
  {
   "cell_type": "code",
   "execution_count": 68,
   "id": "objective-defendant",
   "metadata": {
    "execution": {
     "iopub.execute_input": "2021-02-10T07:37:46.731559Z",
     "iopub.status.busy": "2021-02-10T07:37:46.731089Z",
     "iopub.status.idle": "2021-02-10T07:37:46.733269Z",
     "shell.execute_reply": "2021-02-10T07:37:46.733656Z"
    },
    "slideshow": {
     "slide_type": "slide"
    }
   },
   "outputs": [
    {
     "name": "stdout",
     "output_type": "stream",
     "text": [
      "clave1\n",
      "2\n",
      "clave3\n"
     ]
    }
   ],
   "source": [
    "for clave in diccionario.keys():\n",
    "    print(clave)"
   ]
  },
  {
   "cell_type": "code",
   "execution_count": 69,
   "id": "italian-wound",
   "metadata": {
    "execution": {
     "iopub.execute_input": "2021-02-10T07:37:46.740127Z",
     "iopub.status.busy": "2021-02-10T07:37:46.739656Z",
     "iopub.status.idle": "2021-02-10T07:37:46.744497Z",
     "shell.execute_reply": "2021-02-10T07:37:46.744891Z"
    },
    "slideshow": {
     "slide_type": "slide"
    }
   },
   "outputs": [
    {
     "name": "stdout",
     "output_type": "stream",
     "text": [
      "valor1\n",
      "valor2\n",
      "3\n"
     ]
    }
   ],
   "source": [
    "for valor in diccionario.values():\n",
    "    print(valor)"
   ]
  },
  {
   "cell_type": "markdown",
   "id": "bored-participant",
   "metadata": {},
   "source": [
    "#### Sets\n",
    "\n",
    "Son similares a los diccionarios (en eficiencia) pero se almacenan solo claves, y tienen algunas operaciones particulares.\n",
    "\n",
    "En particular, no pueden tener elementos iguales (pensar que son conjuntos)"
   ]
  },
  {
   "cell_type": "code",
   "execution_count": 70,
   "id": "settled-arthur",
   "metadata": {
    "execution": {
     "iopub.execute_input": "2021-02-10T07:37:46.749976Z",
     "iopub.status.busy": "2021-02-10T07:37:46.749504Z",
     "iopub.status.idle": "2021-02-10T07:37:46.752320Z",
     "shell.execute_reply": "2021-02-10T07:37:46.752707Z"
    }
   },
   "outputs": [],
   "source": [
    "set??"
   ]
  },
  {
   "cell_type": "code",
   "execution_count": 71,
   "id": "raised-still",
   "metadata": {
    "execution": {
     "iopub.execute_input": "2021-02-10T07:37:46.756172Z",
     "iopub.status.busy": "2021-02-10T07:37:46.755706Z",
     "iopub.status.idle": "2021-02-10T07:37:46.759912Z",
     "shell.execute_reply": "2021-02-10T07:37:46.759499Z"
    }
   },
   "outputs": [
    {
     "data": {
      "text/plain": [
       "{1, 2, 3}"
      ]
     },
     "execution_count": 1,
     "metadata": {},
     "output_type": "execute_result"
    }
   ],
   "source": [
    "# Se definen como los diccionarios pero sin hacerlos 'clave:valor', solamente una seguidilla de elementos\n",
    "{1, 2, 2, 3}"
   ]
  },
  {
   "cell_type": "code",
   "execution_count": 72,
   "id": "productive-treasure",
   "metadata": {
    "execution": {
     "iopub.execute_input": "2021-02-10T07:37:46.763537Z",
     "iopub.status.busy": "2021-02-10T07:37:46.763071Z",
     "iopub.status.idle": "2021-02-10T07:37:46.766914Z",
     "shell.execute_reply": "2021-02-10T07:37:46.767304Z"
    }
   },
   "outputs": [
    {
     "data": {
      "text/plain": [
       "{1, 2, 3}"
      ]
     },
     "execution_count": 1,
     "metadata": {},
     "output_type": "execute_result"
    }
   ],
   "source": [
    "set([1, 2, 2, 3])"
   ]
  },
  {
   "cell_type": "markdown",
   "id": "differential-match",
   "metadata": {},
   "source": [
    "## Condicionales (if...elif...else)\n",
    "\n",
    "```python\n",
    "if <condición_1>:\n",
    "    <hacer algo_1 si se da la condición_1>\n",
    "elif <condición_2>:\n",
    "    <hacer algo_2 si se da la condición_2>\n",
    "...\n",
    "elif <condición_n>:\n",
    "    <hacer algo_n si se da la condición_n>\n",
    "else:\n",
    "    <hacer otra cosa si no dan las anteriores>\n",
    "```\n",
    "\n",
    "Algo importante para notar es que los bloques se definen por **niveles de identacion**."
   ]
  },
  {
   "cell_type": "code",
   "execution_count": 73,
   "id": "arctic-scanner",
   "metadata": {
    "execution": {
     "iopub.execute_input": "2021-02-10T07:37:46.771110Z",
     "iopub.status.busy": "2021-02-10T07:37:46.770629Z",
     "iopub.status.idle": "2021-02-10T07:37:46.774352Z",
     "shell.execute_reply": "2021-02-10T07:37:46.773912Z"
    }
   },
   "outputs": [
    {
     "name": "stdout",
     "output_type": "stream",
     "text": [
      "uno\n"
     ]
    }
   ],
   "source": [
    "v = 1\n",
    "if v == 1:\n",
    "    print(\"uno\")\n",
    "elif v == 2:\n",
    "    print(\"dos\")\n",
    "else:\n",
    "    print(\"ni idea\")\n",
    "    print(v)"
   ]
  },
  {
   "cell_type": "markdown",
   "id": "elect-patient",
   "metadata": {},
   "source": [
    "## Iteraciones\n",
    "\n",
    "```python\n",
    "while cond:\n",
    "    <codigo>\n",
    "```\n",
    "\n",
    "```python\n",
    "for elemento in iterable:\n",
    "    <codigo>\n",
    "```\n",
    "\n",
    "Para iterar sobre un rango de valores, usamos `range`"
   ]
  },
  {
   "cell_type": "code",
   "execution_count": 74,
   "id": "superb-senior",
   "metadata": {
    "execution": {
     "iopub.execute_input": "2021-02-10T07:37:46.778620Z",
     "iopub.status.busy": "2021-02-10T07:37:46.777779Z",
     "iopub.status.idle": "2021-02-10T07:37:46.779975Z",
     "shell.execute_reply": "2021-02-10T07:37:46.780352Z"
    }
   },
   "outputs": [
    {
     "name": "stdout",
     "output_type": "stream",
     "text": [
      "1\n",
      "4\n",
      "7\n",
      "10\n"
     ]
    }
   ],
   "source": [
    "for i in range(1, 11, 3):\n",
    "    print(i)"
   ]
  },
  {
   "cell_type": "markdown",
   "id": "consecutive-authorization",
   "metadata": {},
   "source": [
    "## Operadores logicos\n",
    "\n",
    "`not`, `or`, `and`"
   ]
  },
  {
   "cell_type": "code",
   "execution_count": 75,
   "id": "beneficial-hunger",
   "metadata": {
    "execution": {
     "iopub.execute_input": "2021-02-10T07:37:46.784362Z",
     "iopub.status.busy": "2021-02-10T07:37:46.783419Z",
     "iopub.status.idle": "2021-02-10T07:37:46.786028Z",
     "shell.execute_reply": "2021-02-10T07:37:46.785617Z"
    }
   },
   "outputs": [
    {
     "name": "stdout",
     "output_type": "stream",
     "text": [
      "yay\n"
     ]
    }
   ],
   "source": [
    "if True or False:\n",
    "    print(\"yay\")"
   ]
  },
  {
   "cell_type": "code",
   "execution_count": 76,
   "id": "animated-horizon",
   "metadata": {
    "execution": {
     "iopub.execute_input": "2021-02-10T07:37:46.789643Z",
     "iopub.status.busy": "2021-02-10T07:37:46.789165Z",
     "iopub.status.idle": "2021-02-10T07:37:46.791447Z",
     "shell.execute_reply": "2021-02-10T07:37:46.791826Z"
    }
   },
   "outputs": [
    {
     "data": {
      "text/plain": [
       "False"
      ]
     },
     "execution_count": 1,
     "metadata": {},
     "output_type": "execute_result"
    }
   ],
   "source": [
    "1 == 2"
   ]
  },
  {
   "cell_type": "code",
   "execution_count": 77,
   "id": "involved-possession",
   "metadata": {
    "execution": {
     "iopub.execute_input": "2021-02-10T07:37:46.795464Z",
     "iopub.status.busy": "2021-02-10T07:37:46.794983Z",
     "iopub.status.idle": "2021-02-10T07:37:46.797238Z",
     "shell.execute_reply": "2021-02-10T07:37:46.797618Z"
    }
   },
   "outputs": [
    {
     "data": {
      "text/plain": [
       "True"
      ]
     },
     "execution_count": 1,
     "metadata": {},
     "output_type": "execute_result"
    }
   ],
   "source": [
    "1 != 2"
   ]
  },
  {
   "cell_type": "markdown",
   "id": "regulated-leave",
   "metadata": {
    "slideshow": {
     "slide_type": "slide"
    }
   },
   "source": [
    "## Funciones en Python"
   ]
  },
  {
   "cell_type": "code",
   "execution_count": 78,
   "id": "several-exhaust",
   "metadata": {
    "execution": {
     "iopub.execute_input": "2021-02-10T07:37:46.804059Z",
     "iopub.status.busy": "2021-02-10T07:37:46.803199Z",
     "iopub.status.idle": "2021-02-10T07:37:46.805795Z",
     "shell.execute_reply": "2021-02-10T07:37:46.805380Z"
    },
    "slideshow": {
     "slide_type": "slide"
    }
   },
   "outputs": [
    {
     "name": "stdout",
     "output_type": "stream",
     "text": [
      "True\n",
      "False\n"
     ]
    }
   ],
   "source": [
    "def busqueda_binaria(lista, elemento):\n",
    "    if not lista:\n",
    "        return False\n",
    "    elif len(lista) == 1:\n",
    "        return lista[0] == elemento\n",
    "    mitad = len(lista) // 2  # // es la operación división entera\n",
    "    if lista[mitad] == elemento:\n",
    "        return True\n",
    "    if lista[mitad] > elemento:\n",
    "        return busqueda_binaria(lista[:mitad], elemento)\n",
    "    if lista[mitad] < elemento:\n",
    "        return busqueda_binaria(lista[mitad:], elemento)\n",
    "\n",
    "\n",
    "print(busqueda_binaria([1, 2, 3, 4, 5], 4))\n",
    "print(busqueda_binaria([1, 4, 6, 7, 9, 10], 2))"
   ]
  },
  {
   "cell_type": "code",
   "execution_count": 79,
   "id": "entitled-baltimore",
   "metadata": {
    "execution": {
     "iopub.execute_input": "2021-02-10T07:37:46.810116Z",
     "iopub.status.busy": "2021-02-10T07:37:46.809255Z",
     "iopub.status.idle": "2021-02-10T07:37:46.811878Z",
     "shell.execute_reply": "2021-02-10T07:37:46.811489Z"
    }
   },
   "outputs": [
    {
     "name": "stdout",
     "output_type": "stream",
     "text": [
      "(3, 3, 3)\n"
     ]
    }
   ],
   "source": [
    "def a(b):\n",
    "    if a == 1:\n",
    "        print(a)\n",
    "    return (b, b, b)\n",
    "\n",
    "\n",
    "print(a(3))"
   ]
  },
  {
   "cell_type": "code",
   "execution_count": 80,
   "id": "united-caution",
   "metadata": {
    "execution": {
     "iopub.execute_input": "2021-02-10T07:37:46.817501Z",
     "iopub.status.busy": "2021-02-10T07:37:46.816569Z",
     "iopub.status.idle": "2021-02-10T07:37:46.824538Z",
     "shell.execute_reply": "2021-02-10T07:37:46.824143Z"
    },
    "lines_to_next_cell": 2,
    "slideshow": {
     "slide_type": "slide"
    },
    "tags": [
     "raises-exception"
    ]
   },
   "outputs": [
    {
     "name": "stdout",
     "output_type": "stream",
     "text": [
      "3\n",
      "3.0\n",
      "3.0\n",
      "hola como te va\n",
      "[1, 2, 3, 4, 5]\n"
     ]
    },
    {
     "ename": "TypeError",
     "evalue": "can only concatenate str (not \"int\") to str",
     "output_type": "error",
     "traceback": [
      "\u001b[0;31m---------------------------------------------------------------------------\u001b[0m",
      "\u001b[0;31mTypeError\u001b[0m                                 Traceback (most recent call last)",
      "\u001b[0;32m<ipython-input-1-c2a6a99a90c7>\u001b[0m in \u001b[0;36m<module>\u001b[0;34m\u001b[0m\n\u001b[1;32m      8\u001b[0m \u001b[0mprint\u001b[0m\u001b[0;34m(\u001b[0m\u001b[0msuma\u001b[0m\u001b[0;34m(\u001b[0m\u001b[0;34m\"hola \"\u001b[0m\u001b[0;34m,\u001b[0m \u001b[0;34m\"como te va\"\u001b[0m\u001b[0;34m)\u001b[0m\u001b[0;34m)\u001b[0m\u001b[0;34m\u001b[0m\u001b[0;34m\u001b[0m\u001b[0m\n\u001b[1;32m      9\u001b[0m \u001b[0mprint\u001b[0m\u001b[0;34m(\u001b[0m\u001b[0msuma\u001b[0m\u001b[0;34m(\u001b[0m\u001b[0;34m[\u001b[0m\u001b[0;36m1\u001b[0m\u001b[0;34m,\u001b[0m \u001b[0;36m2\u001b[0m\u001b[0;34m,\u001b[0m \u001b[0;36m3\u001b[0m\u001b[0;34m]\u001b[0m\u001b[0;34m,\u001b[0m \u001b[0;34m[\u001b[0m\u001b[0;36m4\u001b[0m\u001b[0;34m,\u001b[0m \u001b[0;36m5\u001b[0m\u001b[0;34m]\u001b[0m\u001b[0;34m)\u001b[0m\u001b[0;34m)\u001b[0m\u001b[0;34m\u001b[0m\u001b[0;34m\u001b[0m\u001b[0m\n\u001b[0;32m---> 10\u001b[0;31m \u001b[0mprint\u001b[0m\u001b[0;34m(\u001b[0m\u001b[0msuma\u001b[0m\u001b[0;34m(\u001b[0m\u001b[0;34m\"1\"\u001b[0m\u001b[0;34m,\u001b[0m \u001b[0;36m3\u001b[0m\u001b[0;34m)\u001b[0m\u001b[0;34m)\u001b[0m  \u001b[0;31m# Falla\u001b[0m\u001b[0;34m\u001b[0m\u001b[0;34m\u001b[0m\u001b[0m\n\u001b[0m",
      "\u001b[0;32m<ipython-input-1-c2a6a99a90c7>\u001b[0m in \u001b[0;36msuma\u001b[0;34m(a, b)\u001b[0m\n\u001b[1;32m      1\u001b[0m \u001b[0;32mdef\u001b[0m \u001b[0msuma\u001b[0m\u001b[0;34m(\u001b[0m\u001b[0ma\u001b[0m\u001b[0;34m,\u001b[0m \u001b[0mb\u001b[0m\u001b[0;34m)\u001b[0m\u001b[0;34m:\u001b[0m\u001b[0;34m\u001b[0m\u001b[0;34m\u001b[0m\u001b[0m\n\u001b[0;32m----> 2\u001b[0;31m     \u001b[0;32mreturn\u001b[0m \u001b[0ma\u001b[0m \u001b[0;34m+\u001b[0m \u001b[0mb\u001b[0m\u001b[0;34m\u001b[0m\u001b[0;34m\u001b[0m\u001b[0m\n\u001b[0m\u001b[1;32m      3\u001b[0m \u001b[0;34m\u001b[0m\u001b[0m\n\u001b[1;32m      4\u001b[0m \u001b[0;34m\u001b[0m\u001b[0m\n\u001b[1;32m      5\u001b[0m \u001b[0mprint\u001b[0m\u001b[0;34m(\u001b[0m\u001b[0msuma\u001b[0m\u001b[0;34m(\u001b[0m\u001b[0;36m1\u001b[0m\u001b[0;34m,\u001b[0m \u001b[0;36m2\u001b[0m\u001b[0;34m)\u001b[0m\u001b[0;34m)\u001b[0m\u001b[0;34m\u001b[0m\u001b[0;34m\u001b[0m\u001b[0m\n",
      "\u001b[0;31mTypeError\u001b[0m: can only concatenate str (not \"int\") to str"
     ]
    }
   ],
   "source": [
    "def suma(a, b):\n",
    "    return a + b\n",
    "\n",
    "\n",
    "print(suma(1, 2))\n",
    "print(suma(1.0, 2.0))\n",
    "print(suma(1.0, 2))\n",
    "print(suma(\"hola \", \"como te va\"))\n",
    "print(suma([1, 2, 3], [4, 5]))\n",
    "print(suma(\"1\", 3))  # Falla"
   ]
  },
  {
   "cell_type": "code",
   "execution_count": 81,
   "id": "english-thermal",
   "metadata": {
    "execution": {
     "iopub.execute_input": "2021-02-10T07:37:46.928657Z",
     "iopub.status.busy": "2021-02-10T07:37:46.928053Z",
     "iopub.status.idle": "2021-02-10T07:37:46.932068Z",
     "shell.execute_reply": "2021-02-10T07:37:46.932443Z"
    }
   },
   "outputs": [
    {
     "name": "stdout",
     "output_type": "stream",
     "text": [
      "2.0\n"
     ]
    }
   ],
   "source": [
    "# El valor por default de divisor es 1\n",
    "\n",
    "\n",
    "def division(dividendo, divisor=2):\n",
    "    return dividendo / divisor\n",
    "\n",
    "\n",
    "print(division(4))  # Usa el valor por default"
   ]
  },
  {
   "cell_type": "code",
   "execution_count": 82,
   "id": "arabic-bacon",
   "metadata": {
    "execution": {
     "iopub.execute_input": "2021-02-10T07:37:46.936066Z",
     "iopub.status.busy": "2021-02-10T07:37:46.935595Z",
     "iopub.status.idle": "2021-02-10T07:37:46.944330Z",
     "shell.execute_reply": "2021-02-10T07:37:46.943095Z"
    },
    "tags": [
     "raises-exception"
    ]
   },
   "outputs": [
    {
     "name": "stdout",
     "output_type": "stream",
     "text": [
      "0.5\n",
      "0.5\n"
     ]
    },
    {
     "ename": "TypeError",
     "evalue": "division() missing 1 required positional argument: 'dividendo'",
     "output_type": "error",
     "traceback": [
      "\u001b[0;31m---------------------------------------------------------------------------\u001b[0m",
      "\u001b[0;31mTypeError\u001b[0m                                 Traceback (most recent call last)",
      "\u001b[0;32m<ipython-input-1-34eff3833138>\u001b[0m in \u001b[0;36m<module>\u001b[0;34m\u001b[0m\n\u001b[1;32m      1\u001b[0m \u001b[0mprint\u001b[0m\u001b[0;34m(\u001b[0m\u001b[0mdivision\u001b[0m\u001b[0;34m(\u001b[0m\u001b[0;36m1\u001b[0m\u001b[0;34m,\u001b[0m \u001b[0;36m2\u001b[0m\u001b[0;34m)\u001b[0m\u001b[0;34m)\u001b[0m  \u001b[0;31m# Parámetros por orden\u001b[0m\u001b[0;34m\u001b[0m\u001b[0;34m\u001b[0m\u001b[0m\n\u001b[1;32m      2\u001b[0m \u001b[0mprint\u001b[0m\u001b[0;34m(\u001b[0m\u001b[0mdivision\u001b[0m\u001b[0;34m(\u001b[0m\u001b[0mdividendo\u001b[0m\u001b[0;34m=\u001b[0m\u001b[0;36m1\u001b[0m\u001b[0;34m,\u001b[0m \u001b[0mdivisor\u001b[0m\u001b[0;34m=\u001b[0m\u001b[0;36m2\u001b[0m\u001b[0;34m)\u001b[0m\u001b[0;34m)\u001b[0m  \u001b[0;31m# Parámetros por nombre\u001b[0m\u001b[0;34m\u001b[0m\u001b[0;34m\u001b[0m\u001b[0m\n\u001b[0;32m----> 3\u001b[0;31m \u001b[0mprint\u001b[0m\u001b[0;34m(\u001b[0m\u001b[0mdivision\u001b[0m\u001b[0;34m(\u001b[0m\u001b[0mdivisor\u001b[0m\u001b[0;34m=\u001b[0m\u001b[0;36m2\u001b[0m\u001b[0;34m)\u001b[0m\u001b[0;34m)\u001b[0m\u001b[0;34m\u001b[0m\u001b[0;34m\u001b[0m\u001b[0m\n\u001b[0m",
      "\u001b[0;31mTypeError\u001b[0m: division() missing 1 required positional argument: 'dividendo'"
     ]
    }
   ],
   "source": [
    "print(division(1, 2))  # Parámetros por orden\n",
    "print(division(dividendo=1, divisor=2))  # Parámetros por nombre\n",
    "print(division(divisor=2))"
   ]
  },
  {
   "cell_type": "code",
   "execution_count": 83,
   "id": "median-parameter",
   "metadata": {
    "execution": {
     "iopub.execute_input": "2021-02-10T07:37:47.048455Z",
     "iopub.status.busy": "2021-02-10T07:37:47.047852Z",
     "iopub.status.idle": "2021-02-10T07:37:47.051939Z",
     "shell.execute_reply": "2021-02-10T07:37:47.052315Z"
    }
   },
   "outputs": [
    {
     "name": "stdout",
     "output_type": "stream",
     "text": [
      "0.5\n"
     ]
    }
   ],
   "source": [
    "print(division(divisor=2, dividendo=1))"
   ]
  },
  {
   "cell_type": "code",
   "execution_count": 84,
   "id": "insured-fisher",
   "metadata": {
    "execution": {
     "iopub.execute_input": "2021-02-10T07:37:47.056805Z",
     "iopub.status.busy": "2021-02-10T07:37:47.056309Z",
     "iopub.status.idle": "2021-02-10T07:37:47.060374Z",
     "shell.execute_reply": "2021-02-10T07:37:47.059970Z"
    }
   },
   "outputs": [
    {
     "name": "stdout",
     "output_type": "stream",
     "text": [
      "['a', 'b', 'c']\n",
      "[1, 2, 3]\n",
      "['hola', ' don', ' pepito']\n",
      "hola -  don -  pepito\n"
     ]
    }
   ],
   "source": [
    "# Funciones básicas ya en el lenguaje\n",
    "# Hechas para funcionar para distintos tipos\n",
    "\n",
    "string_ordenado = sorted('bca')\n",
    "print(string_ordenado)\n",
    "\n",
    "lista_ordenada = sorted([1, 3, 2])\n",
    "print(lista_ordenada)\n",
    "\n",
    "separadas = \"hola, don, pepito\".split(\",\")\n",
    "print(separadas)\n",
    "unidas = \" - \".join(separadas)\n",
    "print(unidas)"
   ]
  },
  {
   "cell_type": "markdown",
   "id": "collective-depression",
   "metadata": {},
   "source": [
    "## Módulos\n",
    "\n",
    "Para incluir alguna biblioteca de funciones se usa `import`. Pueden ser cosas ya predefinidas en Python (`math`, `random`, etc), nombres de archivos en nuestro directorio (por ejemplo, para `mimodulo.py` ponemos `import mimodulo`) o bibliotecas instaladas por el usuario"
   ]
  },
  {
   "cell_type": "code",
   "execution_count": 85,
   "id": "determined-cartoon",
   "metadata": {
    "execution": {
     "iopub.execute_input": "2021-02-10T07:37:47.063653Z",
     "iopub.status.busy": "2021-02-10T07:37:47.063176Z",
     "iopub.status.idle": "2021-02-10T07:37:47.070771Z",
     "shell.execute_reply": "2021-02-10T07:37:47.070372Z"
    }
   },
   "outputs": [
    {
     "name": "stdout",
     "output_type": "stream",
     "text": [
      "3.141592653589793\n"
     ]
    }
   ],
   "source": [
    "import math\n",
    "\n",
    "print(math.pi)"
   ]
  },
  {
   "cell_type": "code",
   "execution_count": 86,
   "id": "excessive-hungary",
   "metadata": {
    "execution": {
     "iopub.execute_input": "2021-02-10T07:37:47.074029Z",
     "iopub.status.busy": "2021-02-10T07:37:47.073561Z",
     "iopub.status.idle": "2021-02-10T07:37:47.077018Z",
     "shell.execute_reply": "2021-02-10T07:37:47.076610Z"
    }
   },
   "outputs": [
    {
     "name": "stdout",
     "output_type": "stream",
     "text": [
      "3.141592653589793 2.718281828459045\n"
     ]
    }
   ],
   "source": [
    "from math import pi, e\n",
    "\n",
    "print(pi, e)"
   ]
  },
  {
   "cell_type": "code",
   "execution_count": 87,
   "id": "difficult-transformation",
   "metadata": {
    "execution": {
     "iopub.execute_input": "2021-02-10T07:37:47.080816Z",
     "iopub.status.busy": "2021-02-10T07:37:47.080338Z",
     "iopub.status.idle": "2021-02-10T07:37:47.082665Z",
     "shell.execute_reply": "2021-02-10T07:37:47.083047Z"
    }
   },
   "outputs": [
    {
     "data": {
      "text/plain": [
       "2"
      ]
     },
     "execution_count": 1,
     "metadata": {},
     "output_type": "execute_result"
    }
   ],
   "source": [
    "math.gcd(56, 78)"
   ]
  },
  {
   "cell_type": "markdown",
   "id": "portable-spiritual",
   "metadata": {},
   "source": [
    "## Manejo de excepciones\n",
    "\n",
    "Se pueden encapsular errores esperados en un bloque 'try/except' para evitar cortar el flujo del programa"
   ]
  },
  {
   "cell_type": "code",
   "execution_count": 88,
   "id": "executive-appendix",
   "metadata": {
    "execution": {
     "iopub.execute_input": "2021-02-10T07:37:47.090490Z",
     "iopub.status.busy": "2021-02-10T07:37:47.085629Z",
     "iopub.status.idle": "2021-02-10T07:37:47.092871Z",
     "shell.execute_reply": "2021-02-10T07:37:47.092370Z"
    },
    "tags": [
     "raises-exception"
    ]
   },
   "outputs": [
    {
     "ename": "ZeroDivisionError",
     "evalue": "division by zero",
     "output_type": "error",
     "traceback": [
      "\u001b[0;31m---------------------------------------------------------------------------\u001b[0m",
      "\u001b[0;31mZeroDivisionError\u001b[0m                         Traceback (most recent call last)",
      "\u001b[0;32m<ipython-input-1-f031f77b1a55>\u001b[0m in \u001b[0;36m<module>\u001b[0;34m\u001b[0m\n\u001b[0;32m----> 1\u001b[0;31m \u001b[0mdivision\u001b[0m\u001b[0;34m(\u001b[0m\u001b[0;36m1\u001b[0m\u001b[0;34m,\u001b[0m \u001b[0;36m0\u001b[0m\u001b[0;34m)\u001b[0m  \u001b[0;31m# No se puede dividir por cero\u001b[0m\u001b[0;34m\u001b[0m\u001b[0;34m\u001b[0m\u001b[0m\n\u001b[0m",
      "\u001b[0;32m<ipython-input-1-0d991d7de762>\u001b[0m in \u001b[0;36mdivision\u001b[0;34m(dividendo, divisor)\u001b[0m\n\u001b[1;32m      3\u001b[0m \u001b[0;34m\u001b[0m\u001b[0m\n\u001b[1;32m      4\u001b[0m \u001b[0;32mdef\u001b[0m \u001b[0mdivision\u001b[0m\u001b[0;34m(\u001b[0m\u001b[0mdividendo\u001b[0m\u001b[0;34m,\u001b[0m \u001b[0mdivisor\u001b[0m\u001b[0;34m=\u001b[0m\u001b[0;36m2\u001b[0m\u001b[0;34m)\u001b[0m\u001b[0;34m:\u001b[0m\u001b[0;34m\u001b[0m\u001b[0;34m\u001b[0m\u001b[0m\n\u001b[0;32m----> 5\u001b[0;31m     \u001b[0;32mreturn\u001b[0m \u001b[0mdividendo\u001b[0m \u001b[0;34m/\u001b[0m \u001b[0mdivisor\u001b[0m\u001b[0;34m\u001b[0m\u001b[0;34m\u001b[0m\u001b[0m\n\u001b[0m\u001b[1;32m      6\u001b[0m \u001b[0;34m\u001b[0m\u001b[0m\n\u001b[1;32m      7\u001b[0m \u001b[0;34m\u001b[0m\u001b[0m\n",
      "\u001b[0;31mZeroDivisionError\u001b[0m: division by zero"
     ]
    }
   ],
   "source": [
    "division(1, 0)  # No se puede dividir por cero"
   ]
  },
  {
   "cell_type": "code",
   "execution_count": 89,
   "id": "little-invasion",
   "metadata": {
    "execution": {
     "iopub.execute_input": "2021-02-10T07:37:47.197626Z",
     "iopub.status.busy": "2021-02-10T07:37:47.197000Z",
     "iopub.status.idle": "2021-02-10T07:37:47.201589Z",
     "shell.execute_reply": "2021-02-10T07:37:47.201120Z"
    }
   },
   "outputs": [
    {
     "name": "stdout",
     "output_type": "stream",
     "text": [
      "No se puede dividir por cero, ojo! division by zero\n",
      "1\n"
     ]
    }
   ],
   "source": [
    "try:\n",
    "    division(1, 0)\n",
    "except (ZeroDivisionError, TypeError) as e:\n",
    "    print('No se puede dividir por cero, ojo!', e)\n",
    "finally:\n",
    "    print(1)"
   ]
  },
  {
   "cell_type": "markdown",
   "id": "egyptian-sender",
   "metadata": {
    "slideshow": {
     "slide_type": "slide"
    }
   },
   "source": [
    "## Lectura y escritura de archivos"
   ]
  },
  {
   "cell_type": "code",
   "execution_count": 90,
   "id": "above-answer",
   "metadata": {
    "execution": {
     "iopub.execute_input": "2021-02-10T07:37:47.206020Z",
     "iopub.status.busy": "2021-02-10T07:37:47.205543Z",
     "iopub.status.idle": "2021-02-10T07:37:47.209595Z",
     "shell.execute_reply": "2021-02-10T07:37:47.208920Z"
    },
    "slideshow": {
     "slide_type": "slide"
    }
   },
   "outputs": [
    {
     "name": "stdout",
     "output_type": "stream",
     "text": [
      "<_io.TextIOWrapper name='archivo.csv' mode='w' encoding='UTF-8'>\n"
     ]
    }
   ],
   "source": [
    "import random\n",
    "\n",
    "with open(\n",
    "    'archivo.csv', 'w'\n",
    ") as archivo:  # Al usar esta sintaxis no es necesario hacer close\n",
    "    archivo.write(\"Alumno, nota\\n\")\n",
    "    # Tambien de forma similar al fprintf se puede hacer:\n",
    "    # print(\"Alumno, nota\\n\", file=archivo)\n",
    "    for i in range(0, 10):\n",
    "        archivo.write(f\"{i},{random.randrange(0,10)}\\n\")\n",
    "\n",
    "print(archivo)  # Comentario aclaratorio:\n",
    "# Las variables definidas en un determinado scope siguen existiendo por fuera del mismo.\n",
    "# Se debe tener cuidado con esto, ya que nada garantiza que por fuera el valor sea el esperado."
   ]
  },
  {
   "cell_type": "code",
   "execution_count": 91,
   "id": "southern-trauma",
   "metadata": {
    "execution": {
     "iopub.execute_input": "2021-02-10T07:37:47.212596Z",
     "iopub.status.busy": "2021-02-10T07:37:47.212133Z",
     "iopub.status.idle": "2021-02-10T07:37:47.217679Z",
     "shell.execute_reply": "2021-02-10T07:37:47.217265Z"
    },
    "slideshow": {
     "slide_type": "slide"
    }
   },
   "outputs": [
    {
     "name": "stdout",
     "output_type": "stream",
     "text": [
      "Alumno, nota\n",
      "0,3\n",
      "1,2\n",
      "2,9\n",
      "3,1\n",
      "4,3\n",
      "5,8\n",
      "6,2\n",
      "7,4\n",
      "8,9\n",
      "9,3\n"
     ]
    }
   ],
   "source": [
    "with open('archivo.csv', 'r') as f:\n",
    "    for linea in f:\n",
    "        print(linea.strip())"
   ]
  },
  {
   "cell_type": "code",
   "execution_count": 92,
   "id": "polish-roman",
   "metadata": {
    "execution": {
     "iopub.execute_input": "2021-02-10T07:37:47.220886Z",
     "iopub.status.busy": "2021-02-10T07:37:47.220418Z",
     "iopub.status.idle": "2021-02-10T07:37:47.223722Z",
     "shell.execute_reply": "2021-02-10T07:37:47.224087Z"
    }
   },
   "outputs": [
    {
     "name": "stdout",
     "output_type": "stream",
     "text": [
      "Alumno, nota\n",
      "0,3\n",
      "1,2\n",
      "2,9\n",
      "3,1\n",
      "4,3\n",
      "5,8\n",
      "6,2\n",
      "7,4\n",
      "8,9\n",
      "9,3\n",
      "\n"
     ]
    }
   ],
   "source": [
    "with open('archivo.csv', 'r') as f:\n",
    "    print(f.read())"
   ]
  },
  {
   "cell_type": "code",
   "execution_count": 93,
   "id": "fifth-mitchell",
   "metadata": {
    "execution": {
     "iopub.execute_input": "2021-02-10T07:37:47.227259Z",
     "iopub.status.busy": "2021-02-10T07:37:47.226785Z",
     "iopub.status.idle": "2021-02-10T07:37:47.229626Z",
     "shell.execute_reply": "2021-02-10T07:37:47.229987Z"
    }
   },
   "outputs": [],
   "source": [
    "f = open('archivo.csv', 'w')\n",
    "f.write(\"algo, algo\")\n",
    "f.close()"
   ]
  },
  {
   "cell_type": "markdown",
   "id": "written-mailing",
   "metadata": {
    "slideshow": {
     "slide_type": "slide"
    }
   },
   "source": [
    "## Objetos\n",
    "\n",
    "Los objetos tienen metodos y atributos:\n",
    "- Atributos: equivalentes a variables.\n",
    "- Métodos: equivalentes a las primitivas."
   ]
  },
  {
   "cell_type": "markdown",
   "id": "innovative-immigration",
   "metadata": {
    "slideshow": {
     "slide_type": "slide"
    }
   },
   "source": [
    "### Cómo creo una clase"
   ]
  },
  {
   "cell_type": "code",
   "execution_count": 94,
   "id": "existing-persian",
   "metadata": {
    "execution": {
     "iopub.execute_input": "2021-02-10T07:37:47.235615Z",
     "iopub.status.busy": "2021-02-10T07:37:47.234563Z",
     "iopub.status.idle": "2021-02-10T07:37:47.236161Z",
     "shell.execute_reply": "2021-02-10T07:37:47.236541Z"
    },
    "slideshow": {
     "slide_type": "slide"
    }
   },
   "outputs": [],
   "source": [
    "class Nodo(object):\n",
    "    def __init__(self, dato, siguiente=None):\n",
    "        self._dato = dato\n",
    "        self._siguiente = siguiente\n",
    "\n",
    "    @property\n",
    "    def dato(self):\n",
    "        return self._dato\n",
    "\n",
    "    @property\n",
    "    def proximo(self):\n",
    "        return self._siguiente\n",
    "\n",
    "    @proximo.setter\n",
    "    def proximo(self, siguiente):\n",
    "        self._siguiente = siguiente\n",
    "\n",
    "    def __repr__(self):\n",
    "        return str(self.dato)\n",
    "\n",
    "    def __str__(self):\n",
    "        return str(self.dato)"
   ]
  },
  {
   "cell_type": "code",
   "execution_count": 95,
   "id": "numerical-argument",
   "metadata": {
    "execution": {
     "iopub.execute_input": "2021-02-10T07:37:47.240633Z",
     "iopub.status.busy": "2021-02-10T07:37:47.239577Z",
     "iopub.status.idle": "2021-02-10T07:37:47.242225Z",
     "shell.execute_reply": "2021-02-10T07:37:47.241791Z"
    },
    "slideshow": {
     "slide_type": "slide"
    }
   },
   "outputs": [
    {
     "name": "stdout",
     "output_type": "stream",
     "text": [
      "hola\n"
     ]
    }
   ],
   "source": [
    "nodo = Nodo(\"hola\")\n",
    "print(nodo)"
   ]
  },
  {
   "cell_type": "code",
   "execution_count": 96,
   "id": "computational-mirror",
   "metadata": {
    "execution": {
     "iopub.execute_input": "2021-02-10T07:37:47.246474Z",
     "iopub.status.busy": "2021-02-10T07:37:47.245456Z",
     "iopub.status.idle": "2021-02-10T07:37:47.248129Z",
     "shell.execute_reply": "2021-02-10T07:37:47.247713Z"
    },
    "slideshow": {
     "slide_type": "slide"
    }
   },
   "outputs": [
    {
     "name": "stdout",
     "output_type": "stream",
     "text": [
      "[hola, lala]\n"
     ]
    }
   ],
   "source": [
    "nodo2 = Nodo(\"lala\")\n",
    "print([nodo, nodo2])"
   ]
  },
  {
   "cell_type": "code",
   "execution_count": 97,
   "id": "proud-saudi",
   "metadata": {
    "execution": {
     "iopub.execute_input": "2021-02-10T07:37:47.252011Z",
     "iopub.status.busy": "2021-02-10T07:37:47.251165Z",
     "iopub.status.idle": "2021-02-10T07:37:47.253774Z",
     "shell.execute_reply": "2021-02-10T07:37:47.253378Z"
    },
    "slideshow": {
     "slide_type": "slide"
    }
   },
   "outputs": [
    {
     "name": "stdout",
     "output_type": "stream",
     "text": [
      "hola\n"
     ]
    }
   ],
   "source": [
    "nodo3 = nodo.dato\n",
    "print(nodo3)"
   ]
  },
  {
   "cell_type": "markdown",
   "id": "postal-warner",
   "metadata": {
    "slideshow": {
     "slide_type": "slide"
    }
   },
   "source": [
    "### Ejemplo: Lista Enlazada"
   ]
  },
  {
   "cell_type": "code",
   "execution_count": 98,
   "id": "oriented-bermuda",
   "metadata": {
    "execution": {
     "iopub.execute_input": "2021-02-10T07:37:47.262006Z",
     "iopub.status.busy": "2021-02-10T07:37:47.261000Z",
     "iopub.status.idle": "2021-02-10T07:37:47.262618Z",
     "shell.execute_reply": "2021-02-10T07:37:47.263000Z"
    },
    "slideshow": {
     "slide_type": "slide"
    }
   },
   "outputs": [],
   "source": [
    "class ListaEnlazada(object):\n",
    "    def __init__(self):\n",
    "        self._primero = None\n",
    "        self._ultimo = None\n",
    "        self._largo = 0\n",
    "\n",
    "    def __len__(self):\n",
    "        return self._largo\n",
    "\n",
    "    def insertar_al_principio(self, dato):\n",
    "        nodo = Nodo(dato, self._primero)\n",
    "        self._primero = nodo\n",
    "        self._largo += 1\n",
    "        if self._largo == 1:\n",
    "            self._ultimo = nodo\n",
    "\n",
    "    def insertar_al_final(self, dato):\n",
    "        if self._largo != 0:\n",
    "            nodo = Nodo(dato)\n",
    "            nodo_anterior = self._ultimo\n",
    "            nodo_anterior._siguiente = nodo\n",
    "            self._ultimo = nodo\n",
    "            self._largo += 1\n",
    "        else:\n",
    "            self.insertar_al_principio(dato)\n",
    "\n",
    "    @property\n",
    "    def primero(self):\n",
    "        return self._primero.dato\n",
    "\n",
    "    def borrar_primero(self):\n",
    "        dato = self.primero.dato\n",
    "        self._primero = self.primero.siguiente\n",
    "        self._largo -= 1\n",
    "        if self._largo == 0:\n",
    "            self._ultimo = None\n",
    "        return dato\n",
    "\n",
    "    def __str__(self):\n",
    "        datos = []\n",
    "        nodo_actual = self._primero\n",
    "        while nodo_actual:\n",
    "            datos.append(nodo_actual.dato)\n",
    "            nodo_actual = nodo_actual.proximo\n",
    "        return \" -> \".join(datos)\n",
    "\n",
    "    def __repr__(self):\n",
    "        return self.__str__()"
   ]
  },
  {
   "cell_type": "code",
   "execution_count": 99,
   "id": "serious-present",
   "metadata": {
    "execution": {
     "iopub.execute_input": "2021-02-10T07:37:47.267068Z",
     "iopub.status.busy": "2021-02-10T07:37:47.266583Z",
     "iopub.status.idle": "2021-02-10T07:37:47.269576Z",
     "shell.execute_reply": "2021-02-10T07:37:47.269958Z"
    },
    "slideshow": {
     "slide_type": "slide"
    }
   },
   "outputs": [
    {
     "data": {
      "text/plain": [
       "2"
      ]
     },
     "execution_count": 1,
     "metadata": {},
     "output_type": "execute_result"
    }
   ],
   "source": [
    "lista = ListaEnlazada()\n",
    "lista.insertar_al_principio(\"Primer Dato\")\n",
    "lista.insertar_al_principio(\"Primer primer Dato\")\n",
    "len(lista)"
   ]
  },
  {
   "cell_type": "code",
   "execution_count": 100,
   "id": "supported-engineer",
   "metadata": {
    "execution": {
     "iopub.execute_input": "2021-02-10T07:37:47.273766Z",
     "iopub.status.busy": "2021-02-10T07:37:47.273285Z",
     "iopub.status.idle": "2021-02-10T07:37:47.275583Z",
     "shell.execute_reply": "2021-02-10T07:37:47.275965Z"
    }
   },
   "outputs": [
    {
     "data": {
      "text/plain": [
       "Primer primer Dato -> Primer Dato"
      ]
     },
     "execution_count": 1,
     "metadata": {},
     "output_type": "execute_result"
    }
   ],
   "source": [
    "lista"
   ]
  },
  {
   "cell_type": "code",
   "execution_count": 101,
   "id": "postal-turning",
   "metadata": {
    "execution": {
     "iopub.execute_input": "2021-02-10T07:37:47.280033Z",
     "iopub.status.busy": "2021-02-10T07:37:47.279092Z",
     "iopub.status.idle": "2021-02-10T07:37:47.281661Z",
     "shell.execute_reply": "2021-02-10T07:37:47.281256Z"
    },
    "slideshow": {
     "slide_type": "slide"
    }
   },
   "outputs": [
    {
     "name": "stdout",
     "output_type": "stream",
     "text": [
      "Primer primer Dato\n"
     ]
    }
   ],
   "source": [
    "elemento = lista.primero\n",
    "print(elemento)"
   ]
  },
  {
   "cell_type": "markdown",
   "id": "lyric-wireless",
   "metadata": {},
   "source": [
    "## Recursos\n",
    "\n",
    "* [Taller de Python de Algoritmos II](https://github.com/algoritmos-rw/algo2_apuntes)\n",
    "\n",
    "* [Documentación de Python 3](https://docs.python.org/3/tutorial/)\n",
    "\n",
    "* [Apunte de Algoritmos y Programación I](https://algoritmos1rw.ddns.net/material)\n",
    "\n",
    "* [Automate the Boring Stuff with Python](http://automatetheboringstuff.com/)\n",
    "\n",
    "* [Curso Python](https://pythoncurso.github.io)\n",
    "\n",
    "* [Python Tutor](http://pythontutor.com/)\n",
    "\n",
    "* [Learn Python3 in Y minutes](https://learnxinyminutes.com/docs/python3/)\n",
    "\n",
    "* [Bibliografía de Algoritmos y Programación I](https://algoritmos1rw.ddns.net/bibliografia)"
   ]
  }
 ],
 "metadata": {
  "jupytext": {
   "encoding": "# -*- coding: utf-8 -*-",
   "formats": "ipynb,py:light"
  },
  "kernelspec": {
   "display_name": "Python 3 (venv)",
   "language": "python",
   "name": "python3"
  },
  "language_info": {
   "codemirror_mode": {
    "name": "ipython",
    "version": 3
   },
   "file_extension": ".py",
   "mimetype": "text/x-python",
   "name": "python",
   "nbconvert_exporter": "python",
   "pygments_lexer": "ipython3",
   "version": "3.7.9"
  }
 },
 "nbformat": 4,
 "nbformat_minor": 5
}
