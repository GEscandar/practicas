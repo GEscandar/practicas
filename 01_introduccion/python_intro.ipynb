{
 "cells": [
  {
   "cell_type": "markdown",
   "id": "cd42db3b",
   "metadata": {},
   "source": [
    "# Python"
   ]
  },
  {
   "cell_type": "markdown",
   "id": "55bb8dcb",
   "metadata": {
    "slideshow": {
     "slide_type": "slide"
    }
   },
   "source": [
    "## Un poco de Historia"
   ]
  },
  {
   "cell_type": "markdown",
   "id": "364f3218",
   "metadata": {
    "slideshow": {
     "slide_type": "subslide"
    }
   },
   "source": [
    "Python fue creado a finales de los años 80 por un programador holandés llamado **Guido van Rossum**,\n",
    "quien sigue siendo aún hoy el líder del desarrollo del lenguaje.\n",
    "\n",
    "(Edit julio 2018: [ya no más](https://www.mail-archive.com/python-committers@python.org/msg05628.html))"
   ]
  },
  {
   "cell_type": "markdown",
   "id": "12f8ed4b",
   "metadata": {
    "slideshow": {
     "slide_type": "subslide"
    }
   },
   "source": [
    "El nombre del lenguaje proviene de los humoristas británicos Monty Python.\n",
    "\n",
    ">*\"I chose Python as a working title for the project, being in a slightly irreverent mood (and a big fan of Monty Python's Flying Circus).\"*"
   ]
  },
  {
   "cell_type": "markdown",
   "id": "36416f1c",
   "metadata": {
    "slideshow": {
     "slide_type": "slide"
    }
   },
   "source": [
    "## Caracteristicas\n",
    "\n",
    "- Interpretado\n",
    "- Tipado dinamico\n",
    "- Multiparadigma\n",
    "- Alto nivel\n",
    "- Tiene un recolector de basura (no hay malloc, free, realloc, etc)"
   ]
  },
  {
   "cell_type": "markdown",
   "id": "85410a58",
   "metadata": {},
   "source": [
    "## ¿Cómo empezar?\n",
    "\n",
    "* Al ser un lenguaje *interpretado*, se puede ir escribiendo a medida que se ejecuta, sin necesidad de compilar de antemano! Solamente hace falta escribir `python` o `python3` en una terminal para empezar\n",
    "\n",
    "* También, permite escribir archivos y correrlos. Crear un archivo con extensión `.py` y luego correr `python miarchivo.py` en laterminal"
   ]
  },
  {
   "cell_type": "markdown",
   "id": "025706e8",
   "metadata": {
    "slideshow": {
     "slide_type": "slide"
    }
   },
   "source": [
    "## El Zen de Python"
   ]
  },
  {
   "cell_type": "code",
   "execution_count": 1,
   "id": "c1640c27",
   "metadata": {
    "execution": {
     "iopub.execute_input": "2021-09-20T14:10:14.111048Z",
     "iopub.status.busy": "2021-09-20T14:10:14.110450Z",
     "iopub.status.idle": "2021-09-20T14:10:14.177259Z",
     "shell.execute_reply": "2021-09-20T14:10:14.176668Z"
    },
    "slideshow": {
     "slide_type": "slide"
    }
   },
   "outputs": [
    {
     "name": "stdout",
     "output_type": "stream",
     "text": [
      "The Zen of Python, by Tim Peters\n",
      "\n",
      "Beautiful is better than ugly.\n",
      "Explicit is better than implicit.\n",
      "Simple is better than complex.\n",
      "Complex is better than complicated.\n",
      "Flat is better than nested.\n",
      "Sparse is better than dense.\n",
      "Readability counts.\n",
      "Special cases aren't special enough to break the rules.\n",
      "Although practicality beats purity.\n",
      "Errors should never pass silently.\n",
      "Unless explicitly silenced.\n",
      "In the face of ambiguity, refuse the temptation to guess.\n",
      "There should be one-- and preferably only one --obvious way to do it.\n",
      "Although that way may not be obvious at first unless you're Dutch.\n",
      "Now is better than never.\n",
      "Although never is often better than *right* now.\n",
      "If the implementation is hard to explain, it's a bad idea.\n",
      "If the implementation is easy to explain, it may be a good idea.\n",
      "Namespaces are one honking great idea -- let's do more of those!\n"
     ]
    }
   ],
   "source": [
    "import this"
   ]
  },
  {
   "cell_type": "markdown",
   "id": "1e1c27ea",
   "metadata": {
    "slideshow": {
     "slide_type": "slide"
    }
   },
   "source": [
    "## Conocimientos Básicos de Python: Variables y Tipos"
   ]
  },
  {
   "cell_type": "code",
   "execution_count": 2,
   "id": "ff5e9231",
   "metadata": {
    "execution": {
     "iopub.execute_input": "2021-09-20T14:10:14.183418Z",
     "iopub.status.busy": "2021-09-20T14:10:14.181883Z",
     "iopub.status.idle": "2021-09-20T14:10:14.185148Z",
     "shell.execute_reply": "2021-09-20T14:10:14.184710Z"
    },
    "slideshow": {
     "slide_type": "slide"
    }
   },
   "outputs": [
    {
     "name": "stdout",
     "output_type": "stream",
     "text": [
      "Hello World!\n"
     ]
    }
   ],
   "source": [
    "# Este es un comentario\n",
    "\n",
    "print(\"Hello World!\")"
   ]
  },
  {
   "cell_type": "markdown",
   "id": "7cc9e2e4",
   "metadata": {},
   "source": [
    "Los strings en python puden escribirse tanto con comillas simples (`'`) como comillas dobles (`\"`). Normalmente vemos texto entre comillas triples para escribir _docstrings_, segun la guia de estilo de Python, el PEP8."
   ]
  },
  {
   "cell_type": "code",
   "execution_count": 3,
   "id": "44f5c458",
   "metadata": {
    "execution": {
     "iopub.execute_input": "2021-09-20T14:10:14.195098Z",
     "iopub.status.busy": "2021-09-20T14:10:14.192735Z",
     "iopub.status.idle": "2021-09-20T14:10:14.199157Z",
     "shell.execute_reply": "2021-09-20T14:10:14.199537Z"
    }
   },
   "outputs": [
    {
     "data": {
      "text/plain": [
       "'Esto es un docstring.\\n'"
      ]
     },
     "execution_count": 3,
     "metadata": {},
     "output_type": "execute_result"
    }
   ],
   "source": [
    "\"\"\"Esto es un docstring.\n",
    "\"\"\""
   ]
  },
  {
   "cell_type": "markdown",
   "id": "cce07792",
   "metadata": {},
   "source": [
    "### Declaracion de variables"
   ]
  },
  {
   "cell_type": "code",
   "execution_count": 4,
   "id": "dc03fc56",
   "metadata": {
    "execution": {
     "iopub.execute_input": "2021-09-20T14:10:14.203708Z",
     "iopub.status.busy": "2021-09-20T14:10:14.201852Z",
     "iopub.status.idle": "2021-09-20T14:10:14.205815Z",
     "shell.execute_reply": "2021-09-20T14:10:14.206230Z"
    }
   },
   "outputs": [
    {
     "name": "stdout",
     "output_type": "stream",
     "text": [
      "Hola\n"
     ]
    }
   ],
   "source": [
    "string = 'Hola'\n",
    "print(string)"
   ]
  },
  {
   "cell_type": "code",
   "execution_count": 5,
   "id": "2475584f",
   "metadata": {
    "execution": {
     "iopub.execute_input": "2021-09-20T14:10:14.209840Z",
     "iopub.status.busy": "2021-09-20T14:10:14.209296Z",
     "iopub.status.idle": "2021-09-20T14:10:14.211189Z",
     "shell.execute_reply": "2021-09-20T14:10:14.211586Z"
    }
   },
   "outputs": [
    {
     "name": "stdout",
     "output_type": "stream",
     "text": [
      "1\n"
     ]
    }
   ],
   "source": [
    "entero = 1\n",
    "print(entero)"
   ]
  },
  {
   "cell_type": "code",
   "execution_count": 6,
   "id": "f7f0b731",
   "metadata": {
    "execution": {
     "iopub.execute_input": "2021-09-20T14:10:14.216551Z",
     "iopub.status.busy": "2021-09-20T14:10:14.215376Z",
     "iopub.status.idle": "2021-09-20T14:10:14.218227Z",
     "shell.execute_reply": "2021-09-20T14:10:14.217746Z"
    }
   },
   "outputs": [
    {
     "name": "stdout",
     "output_type": "stream",
     "text": [
      "1.0\n"
     ]
    }
   ],
   "source": [
    "flotante = 1.0\n",
    "print(flotante)"
   ]
  },
  {
   "cell_type": "code",
   "execution_count": 7,
   "id": "d3ebb01f",
   "metadata": {
    "execution": {
     "iopub.execute_input": "2021-09-20T14:10:14.221902Z",
     "iopub.status.busy": "2021-09-20T14:10:14.221362Z",
     "iopub.status.idle": "2021-09-20T14:10:14.223249Z",
     "shell.execute_reply": "2021-09-20T14:10:14.223645Z"
    }
   },
   "outputs": [
    {
     "name": "stdout",
     "output_type": "stream",
     "text": [
      "(1, 1.0)\n"
     ]
    }
   ],
   "source": [
    "tupla = (entero, flotante)\n",
    "print(tupla)"
   ]
  },
  {
   "cell_type": "code",
   "execution_count": 8,
   "id": "1b441614",
   "metadata": {
    "execution": {
     "iopub.execute_input": "2021-09-20T14:10:14.227674Z",
     "iopub.status.busy": "2021-09-20T14:10:14.227190Z",
     "iopub.status.idle": "2021-09-20T14:10:14.231307Z",
     "shell.execute_reply": "2021-09-20T14:10:14.230801Z"
    }
   },
   "outputs": [
    {
     "name": "stdout",
     "output_type": "stream",
     "text": [
      "(1, 1.0, 'Hola')\n"
     ]
    }
   ],
   "source": [
    "nupla = (entero, flotante, string)\n",
    "print(nupla)"
   ]
  },
  {
   "cell_type": "code",
   "execution_count": 9,
   "id": "f08ed21e",
   "metadata": {
    "execution": {
     "iopub.execute_input": "2021-09-20T14:10:14.235255Z",
     "iopub.status.busy": "2021-09-20T14:10:14.234770Z",
     "iopub.status.idle": "2021-09-20T14:10:14.239135Z",
     "shell.execute_reply": "2021-09-20T14:10:14.238681Z"
    }
   },
   "outputs": [
    {
     "name": "stdout",
     "output_type": "stream",
     "text": [
      "[1, 1.0, 'Hola']\n"
     ]
    }
   ],
   "source": [
    "lista = [entero, flotante, string]\n",
    "print(lista)"
   ]
  },
  {
   "cell_type": "code",
   "execution_count": 10,
   "id": "e89de97b",
   "metadata": {
    "execution": {
     "iopub.execute_input": "2021-09-20T14:10:14.243042Z",
     "iopub.status.busy": "2021-09-20T14:10:14.242542Z",
     "iopub.status.idle": "2021-09-20T14:10:14.247251Z",
     "shell.execute_reply": "2021-09-20T14:10:14.246849Z"
    }
   },
   "outputs": [
    {
     "name": "stdout",
     "output_type": "stream",
     "text": [
      "{'1': (1, 1.0), 50: (1, 1.0, 'Hola'), '3': 1}\n"
     ]
    }
   ],
   "source": [
    "diccionario = {'1': tupla, 50: nupla, '3': entero}\n",
    "print(diccionario)"
   ]
  },
  {
   "cell_type": "code",
   "execution_count": 11,
   "id": "8f0cc237",
   "metadata": {
    "execution": {
     "iopub.execute_input": "2021-09-20T14:10:14.250921Z",
     "iopub.status.busy": "2021-09-20T14:10:14.250422Z",
     "iopub.status.idle": "2021-09-20T14:10:14.254674Z",
     "shell.execute_reply": "2021-09-20T14:10:14.254277Z"
    }
   },
   "outputs": [
    {
     "name": "stdout",
     "output_type": "stream",
     "text": [
      "{1, 2}\n"
     ]
    }
   ],
   "source": [
    "conjunto = set([1, 2])\n",
    "print(conjunto)"
   ]
  },
  {
   "cell_type": "code",
   "execution_count": 12,
   "id": "73211524",
   "metadata": {
    "execution": {
     "iopub.execute_input": "2021-09-20T14:10:14.258336Z",
     "iopub.status.busy": "2021-09-20T14:10:14.257847Z",
     "iopub.status.idle": "2021-09-20T14:10:14.260578Z",
     "shell.execute_reply": "2021-09-20T14:10:14.260156Z"
    }
   },
   "outputs": [
    {
     "name": "stdout",
     "output_type": "stream",
     "text": [
      "True\n"
     ]
    }
   ],
   "source": [
    "booleano = True\n",
    "print(booleano)"
   ]
  },
  {
   "cell_type": "code",
   "execution_count": 13,
   "id": "db415d08",
   "metadata": {
    "execution": {
     "iopub.execute_input": "2021-09-20T14:10:14.263841Z",
     "iopub.status.busy": "2021-09-20T14:10:14.262426Z",
     "iopub.status.idle": "2021-09-20T14:10:14.267392Z",
     "shell.execute_reply": "2021-09-20T14:10:14.266970Z"
    }
   },
   "outputs": [
    {
     "name": "stdout",
     "output_type": "stream",
     "text": [
      "None\n"
     ]
    }
   ],
   "source": [
    "nada = None\n",
    "print(nada)"
   ]
  },
  {
   "cell_type": "markdown",
   "id": "0419b11e",
   "metadata": {},
   "source": [
    "Ojo que las variables pueden cambiar de tipo!"
   ]
  },
  {
   "cell_type": "code",
   "execution_count": 14,
   "id": "b8ec1616",
   "metadata": {
    "execution": {
     "iopub.execute_input": "2021-09-20T14:10:14.272433Z",
     "iopub.status.busy": "2021-09-20T14:10:14.271280Z",
     "iopub.status.idle": "2021-09-20T14:10:14.274075Z",
     "shell.execute_reply": "2021-09-20T14:10:14.273620Z"
    }
   },
   "outputs": [
    {
     "name": "stdout",
     "output_type": "stream",
     "text": [
      "1\n",
      "<class 'int'>\n"
     ]
    }
   ],
   "source": [
    "elemento = 1\n",
    "print(elemento)\n",
    "print(type(elemento))"
   ]
  },
  {
   "cell_type": "code",
   "execution_count": 15,
   "id": "6d9adfd7",
   "metadata": {
    "execution": {
     "iopub.execute_input": "2021-09-20T14:10:14.278431Z",
     "iopub.status.busy": "2021-09-20T14:10:14.277919Z",
     "iopub.status.idle": "2021-09-20T14:10:14.279567Z",
     "shell.execute_reply": "2021-09-20T14:10:14.279952Z"
    }
   },
   "outputs": [
    {
     "name": "stdout",
     "output_type": "stream",
     "text": [
      "1\n",
      "<class 'str'>\n"
     ]
    }
   ],
   "source": [
    "elemento = str(1)\n",
    "print(elemento)\n",
    "print(type(elemento))"
   ]
  },
  {
   "cell_type": "code",
   "execution_count": 16,
   "id": "b26ebe94",
   "metadata": {
    "execution": {
     "iopub.execute_input": "2021-09-20T14:10:14.283487Z",
     "iopub.status.busy": "2021-09-20T14:10:14.283007Z",
     "iopub.status.idle": "2021-09-20T14:10:14.287145Z",
     "shell.execute_reply": "2021-09-20T14:10:14.286748Z"
    }
   },
   "outputs": [
    {
     "name": "stdout",
     "output_type": "stream",
     "text": [
      "[2]\n",
      "<class 'list'>\n"
     ]
    }
   ],
   "source": [
    "elemento = [2]\n",
    "\n",
    "print(elemento)\n",
    "print(type(elemento))"
   ]
  },
  {
   "cell_type": "markdown",
   "id": "5c3c90a4",
   "metadata": {},
   "source": [
    "### Tipos basicos"
   ]
  },
  {
   "cell_type": "markdown",
   "id": "b2de858e",
   "metadata": {
    "slideshow": {
     "slide_type": "slide"
    }
   },
   "source": [
    "#### Listas de Python"
   ]
  },
  {
   "cell_type": "code",
   "execution_count": 17,
   "id": "e3b0c2f5",
   "metadata": {
    "execution": {
     "iopub.execute_input": "2021-09-20T14:10:14.290869Z",
     "iopub.status.busy": "2021-09-20T14:10:14.290389Z",
     "iopub.status.idle": "2021-09-20T14:10:14.295389Z",
     "shell.execute_reply": "2021-09-20T14:10:14.294966Z"
    }
   },
   "outputs": [
    {
     "data": {
      "text/plain": [
       "[]"
      ]
     },
     "execution_count": 17,
     "metadata": {},
     "output_type": "execute_result"
    }
   ],
   "source": [
    "lista = list()\n",
    "lista"
   ]
  },
  {
   "cell_type": "code",
   "execution_count": 18,
   "id": "cf56c3de",
   "metadata": {
    "execution": {
     "iopub.execute_input": "2021-09-20T14:10:14.299129Z",
     "iopub.status.busy": "2021-09-20T14:10:14.298649Z",
     "iopub.status.idle": "2021-09-20T14:10:14.303429Z",
     "shell.execute_reply": "2021-09-20T14:10:14.303009Z"
    },
    "slideshow": {
     "slide_type": "slide"
    }
   },
   "outputs": [
    {
     "data": {
      "text/plain": [
       "[]"
      ]
     },
     "execution_count": 18,
     "metadata": {},
     "output_type": "execute_result"
    }
   ],
   "source": [
    "lista = []\n",
    "lista"
   ]
  },
  {
   "cell_type": "code",
   "execution_count": 19,
   "id": "bd64a87e",
   "metadata": {
    "execution": {
     "iopub.execute_input": "2021-09-20T14:10:14.307498Z",
     "iopub.status.busy": "2021-09-20T14:10:14.307021Z",
     "iopub.status.idle": "2021-09-20T14:10:14.312251Z",
     "shell.execute_reply": "2021-09-20T14:10:14.311829Z"
    },
    "slideshow": {
     "slide_type": "slide"
    }
   },
   "outputs": [
    {
     "data": {
      "text/plain": [
       "[1, 2, 3, 4]"
      ]
     },
     "execution_count": 19,
     "metadata": {},
     "output_type": "execute_result"
    }
   ],
   "source": [
    "lista = [1, 2, 3, 4]\n",
    "lista"
   ]
  },
  {
   "cell_type": "code",
   "execution_count": 20,
   "id": "60808c54",
   "metadata": {
    "execution": {
     "iopub.execute_input": "2021-09-20T14:10:14.316706Z",
     "iopub.status.busy": "2021-09-20T14:10:14.316225Z",
     "iopub.status.idle": "2021-09-20T14:10:14.321615Z",
     "shell.execute_reply": "2021-09-20T14:10:14.321219Z"
    },
    "slideshow": {
     "slide_type": "slide"
    }
   },
   "outputs": [
    {
     "data": {
      "text/plain": [
       "[1, 2, 3, 4, 1, 'dos', 3.0]"
      ]
     },
     "execution_count": 20,
     "metadata": {},
     "output_type": "execute_result"
    }
   ],
   "source": [
    "lista.append(1)  # Inserto un 1 al final\n",
    "lista.append(\"dos\")  # Inserto un \"dos\" al final\n",
    "lista.append(3.0)  # Inserto un 3.0 al final\n",
    "lista"
   ]
  },
  {
   "cell_type": "code",
   "execution_count": 21,
   "id": "30e74696",
   "metadata": {
    "execution": {
     "iopub.execute_input": "2021-09-20T14:10:14.325157Z",
     "iopub.status.busy": "2021-09-20T14:10:14.324660Z",
     "iopub.status.idle": "2021-09-20T14:10:14.329432Z",
     "shell.execute_reply": "2021-09-20T14:10:14.328752Z"
    }
   },
   "outputs": [
    {
     "name": "stdout",
     "output_type": "stream",
     "text": [
      "[1, 2, 10, 3, 4, 1, 'dos', 3.0]\n"
     ]
    }
   ],
   "source": [
    "lista.insert(2, 10)  # Inserto en posicion 2 un 10\n",
    "print(lista)"
   ]
  },
  {
   "cell_type": "code",
   "execution_count": 22,
   "id": "9e3546c8",
   "metadata": {
    "execution": {
     "iopub.execute_input": "2021-09-20T14:10:14.333298Z",
     "iopub.status.busy": "2021-09-20T14:10:14.332446Z",
     "iopub.status.idle": "2021-09-20T14:10:14.335758Z",
     "shell.execute_reply": "2021-09-20T14:10:14.336132Z"
    }
   },
   "outputs": [
    {
     "data": {
      "text/plain": [
       "8"
      ]
     },
     "execution_count": 22,
     "metadata": {},
     "output_type": "execute_result"
    }
   ],
   "source": [
    "len(lista)"
   ]
  },
  {
   "cell_type": "code",
   "execution_count": 23,
   "id": "75653433",
   "metadata": {
    "execution": {
     "iopub.execute_input": "2021-09-20T14:10:14.339372Z",
     "iopub.status.busy": "2021-09-20T14:10:14.337980Z",
     "iopub.status.idle": "2021-09-20T14:10:14.342014Z",
     "shell.execute_reply": "2021-09-20T14:10:14.341565Z"
    }
   },
   "outputs": [
    {
     "data": {
      "text/plain": [
       "3.0"
      ]
     },
     "execution_count": 23,
     "metadata": {},
     "output_type": "execute_result"
    }
   ],
   "source": [
    "lista.pop()"
   ]
  },
  {
   "cell_type": "code",
   "execution_count": 24,
   "id": "a824c1b0",
   "metadata": {
    "execution": {
     "iopub.execute_input": "2021-09-20T14:10:14.345681Z",
     "iopub.status.busy": "2021-09-20T14:10:14.345205Z",
     "iopub.status.idle": "2021-09-20T14:10:14.347791Z",
     "shell.execute_reply": "2021-09-20T14:10:14.347366Z"
    }
   },
   "outputs": [
    {
     "data": {
      "text/plain": [
       "[1, 2, 10, 3, 4, 1, 'dos']"
      ]
     },
     "execution_count": 24,
     "metadata": {},
     "output_type": "execute_result"
    }
   ],
   "source": [
    "lista"
   ]
  },
  {
   "cell_type": "code",
   "execution_count": 25,
   "id": "3ac9f7b6",
   "metadata": {
    "execution": {
     "iopub.execute_input": "2021-09-20T14:10:14.351013Z",
     "iopub.status.busy": "2021-09-20T14:10:14.349600Z",
     "iopub.status.idle": "2021-09-20T14:10:14.353421Z",
     "shell.execute_reply": "2021-09-20T14:10:14.353814Z"
    }
   },
   "outputs": [
    {
     "data": {
      "text/plain": [
       "2"
      ]
     },
     "execution_count": 25,
     "metadata": {},
     "output_type": "execute_result"
    }
   ],
   "source": [
    "lista.index(10)"
   ]
  },
  {
   "cell_type": "code",
   "execution_count": 26,
   "id": "e47baf51",
   "metadata": {
    "execution": {
     "iopub.execute_input": "2021-09-20T14:10:14.357620Z",
     "iopub.status.busy": "2021-09-20T14:10:14.357144Z",
     "iopub.status.idle": "2021-09-20T14:10:14.359364Z",
     "shell.execute_reply": "2021-09-20T14:10:14.359760Z"
    }
   },
   "outputs": [
    {
     "data": {
      "text/plain": [
       "[1, 2, 3, 4, 1, 'dos']"
      ]
     },
     "execution_count": 26,
     "metadata": {},
     "output_type": "execute_result"
    }
   ],
   "source": [
    "lista.remove(10)\n",
    "lista"
   ]
  },
  {
   "cell_type": "code",
   "execution_count": 27,
   "id": "a364038a",
   "metadata": {
    "execution": {
     "iopub.execute_input": "2021-09-20T14:10:14.363105Z",
     "iopub.status.busy": "2021-09-20T14:10:14.362625Z",
     "iopub.status.idle": "2021-09-20T14:10:14.428576Z",
     "shell.execute_reply": "2021-09-20T14:10:14.428066Z"
    },
    "tags": [
     "raises-exception"
    ]
   },
   "outputs": [
    {
     "name": "stdout",
     "output_type": "stream",
     "text": [
      "1\n",
      "2\n",
      "2\n",
      "3\n",
      "3\n",
      "4\n",
      "4\n",
      "5\n",
      "1\n",
      "2\n",
      "dos\n"
     ]
    },
    {
     "ename": "TypeError",
     "evalue": "can only concatenate str (not \"int\") to str",
     "output_type": "error",
     "traceback": [
      "\u001b[0;31m---------------------------------------------------------------------------\u001b[0m",
      "\u001b[0;31mTypeError\u001b[0m                                 Traceback (most recent call last)",
      "\u001b[0;32m/tmp/ipykernel_2057/1783555086.py\u001b[0m in \u001b[0;36m<module>\u001b[0;34m\u001b[0m\n\u001b[1;32m      1\u001b[0m \u001b[0;32mfor\u001b[0m \u001b[0melemento\u001b[0m \u001b[0;32min\u001b[0m \u001b[0mlista\u001b[0m\u001b[0;34m:\u001b[0m\u001b[0;34m\u001b[0m\u001b[0;34m\u001b[0m\u001b[0m\n\u001b[1;32m      2\u001b[0m     \u001b[0mprint\u001b[0m\u001b[0;34m(\u001b[0m\u001b[0melemento\u001b[0m\u001b[0;34m)\u001b[0m\u001b[0;34m\u001b[0m\u001b[0;34m\u001b[0m\u001b[0m\n\u001b[0;32m----> 3\u001b[0;31m     \u001b[0mprint\u001b[0m\u001b[0;34m(\u001b[0m\u001b[0melemento\u001b[0m \u001b[0;34m+\u001b[0m \u001b[0;36m1\u001b[0m\u001b[0;34m)\u001b[0m\u001b[0;34m\u001b[0m\u001b[0;34m\u001b[0m\u001b[0m\n\u001b[0m",
      "\u001b[0;31mTypeError\u001b[0m: can only concatenate str (not \"int\") to str"
     ]
    }
   ],
   "source": [
    "for elemento in lista:\n",
    "    print(elemento)\n",
    "    print(elemento + 1)"
   ]
  },
  {
   "cell_type": "code",
   "execution_count": 28,
   "id": "316256ff",
   "metadata": {
    "execution": {
     "iopub.execute_input": "2021-09-20T14:10:14.432639Z",
     "iopub.status.busy": "2021-09-20T14:10:14.430491Z",
     "iopub.status.idle": "2021-09-20T14:10:14.434632Z",
     "shell.execute_reply": "2021-09-20T14:10:14.435026Z"
    }
   },
   "outputs": [
    {
     "data": {
      "text/plain": [
       "[1, 2, 3, 4, 1, 'dos']"
      ]
     },
     "execution_count": 28,
     "metadata": {},
     "output_type": "execute_result"
    }
   ],
   "source": [
    "lista"
   ]
  },
  {
   "cell_type": "code",
   "execution_count": 29,
   "id": "f536d017",
   "metadata": {
    "execution": {
     "iopub.execute_input": "2021-09-20T14:10:14.440069Z",
     "iopub.status.busy": "2021-09-20T14:10:14.439156Z",
     "iopub.status.idle": "2021-09-20T14:10:14.441629Z",
     "shell.execute_reply": "2021-09-20T14:10:14.442046Z"
    }
   },
   "outputs": [
    {
     "name": "stdout",
     "output_type": "stream",
     "text": [
      "0-ésimo elemento: 1\n",
      "1-ésimo elemento: 2\n",
      "2-ésimo elemento: 3\n",
      "3-ésimo elemento: 4\n",
      "4-ésimo elemento: 1\n",
      "5-ésimo elemento: dos\n"
     ]
    }
   ],
   "source": [
    "for i, elemento in enumerate(lista):\n",
    "    print(f\"{i}-ésimo elemento: {elemento}\")"
   ]
  },
  {
   "cell_type": "code",
   "execution_count": 30,
   "id": "3a587093",
   "metadata": {
    "execution": {
     "iopub.execute_input": "2021-09-20T14:10:14.445390Z",
     "iopub.status.busy": "2021-09-20T14:10:14.444910Z",
     "iopub.status.idle": "2021-09-20T14:10:14.450199Z",
     "shell.execute_reply": "2021-09-20T14:10:14.449739Z"
    },
    "tags": [
     "raises-exception"
    ]
   },
   "outputs": [
    {
     "ename": "TypeError",
     "evalue": "'<' not supported between instances of 'str' and 'int'",
     "output_type": "error",
     "traceback": [
      "\u001b[0;31m---------------------------------------------------------------------------\u001b[0m",
      "\u001b[0;31mTypeError\u001b[0m                                 Traceback (most recent call last)",
      "\u001b[0;32m/tmp/ipykernel_2057/2266425520.py\u001b[0m in \u001b[0;36m<module>\u001b[0;34m\u001b[0m\n\u001b[0;32m----> 1\u001b[0;31m \u001b[0msorted\u001b[0m\u001b[0;34m(\u001b[0m\u001b[0mlista\u001b[0m\u001b[0;34m)\u001b[0m\u001b[0;34m\u001b[0m\u001b[0;34m\u001b[0m\u001b[0m\n\u001b[0m",
      "\u001b[0;31mTypeError\u001b[0m: '<' not supported between instances of 'str' and 'int'"
     ]
    }
   ],
   "source": [
    "sorted(lista)"
   ]
  },
  {
   "cell_type": "code",
   "execution_count": 31,
   "id": "94097a3a",
   "metadata": {
    "execution": {
     "iopub.execute_input": "2021-09-20T14:10:14.453390Z",
     "iopub.status.busy": "2021-09-20T14:10:14.452910Z",
     "iopub.status.idle": "2021-09-20T14:10:14.454860Z",
     "shell.execute_reply": "2021-09-20T14:10:14.455239Z"
    }
   },
   "outputs": [],
   "source": [
    "lista.remove(\"dos\")"
   ]
  },
  {
   "cell_type": "code",
   "execution_count": 32,
   "id": "7015977c",
   "metadata": {
    "execution": {
     "iopub.execute_input": "2021-09-20T14:10:14.458806Z",
     "iopub.status.busy": "2021-09-20T14:10:14.458326Z",
     "iopub.status.idle": "2021-09-20T14:10:14.461366Z",
     "shell.execute_reply": "2021-09-20T14:10:14.460940Z"
    }
   },
   "outputs": [
    {
     "data": {
      "text/plain": [
       "[1, 1, 2, 3, 4]"
      ]
     },
     "execution_count": 32,
     "metadata": {},
     "output_type": "execute_result"
    }
   ],
   "source": [
    "sorted(lista)"
   ]
  },
  {
   "cell_type": "code",
   "execution_count": 33,
   "id": "fb288ede",
   "metadata": {
    "execution": {
     "iopub.execute_input": "2021-09-20T14:10:14.465974Z",
     "iopub.status.busy": "2021-09-20T14:10:14.465250Z",
     "iopub.status.idle": "2021-09-20T14:10:14.467647Z",
     "shell.execute_reply": "2021-09-20T14:10:14.468037Z"
    }
   },
   "outputs": [
    {
     "data": {
      "text/plain": [
       "[1, 1, 2, 3, 4]"
      ]
     },
     "execution_count": 33,
     "metadata": {},
     "output_type": "execute_result"
    }
   ],
   "source": [
    "lista.sort()\n",
    "lista"
   ]
  },
  {
   "cell_type": "markdown",
   "id": "d9d21a84",
   "metadata": {
    "slideshow": {
     "slide_type": "slide"
    }
   },
   "source": [
    "#### Tuplas de Python\n",
    "\n",
    "Las tuplas son inmutables. No se pueden agregar elementos luego de creadas."
   ]
  },
  {
   "cell_type": "code",
   "execution_count": 34,
   "id": "4616d591",
   "metadata": {
    "execution": {
     "iopub.execute_input": "2021-09-20T14:10:14.471564Z",
     "iopub.status.busy": "2021-09-20T14:10:14.469946Z",
     "iopub.status.idle": "2021-09-20T14:10:14.477197Z",
     "shell.execute_reply": "2021-09-20T14:10:14.477611Z"
    },
    "slideshow": {
     "slide_type": "slide"
    },
    "tags": [
     "raises-exception"
    ]
   },
   "outputs": [
    {
     "name": "stdout",
     "output_type": "stream",
     "text": [
      "(1, 2)\n",
      "1\n",
      "2\n"
     ]
    },
    {
     "ename": "TypeError",
     "evalue": "'tuple' object does not support item assignment",
     "output_type": "error",
     "traceback": [
      "\u001b[0;31m---------------------------------------------------------------------------\u001b[0m",
      "\u001b[0;31mTypeError\u001b[0m                                 Traceback (most recent call last)",
      "\u001b[0;32m/tmp/ipykernel_2057/3644040918.py\u001b[0m in \u001b[0;36m<module>\u001b[0;34m\u001b[0m\n\u001b[1;32m      5\u001b[0m \u001b[0mprint\u001b[0m\u001b[0;34m(\u001b[0m\u001b[0mtupla\u001b[0m\u001b[0;34m[\u001b[0m\u001b[0;36m1\u001b[0m\u001b[0;34m]\u001b[0m\u001b[0;34m)\u001b[0m\u001b[0;34m\u001b[0m\u001b[0;34m\u001b[0m\u001b[0m\n\u001b[1;32m      6\u001b[0m \u001b[0;34m\u001b[0m\u001b[0m\n\u001b[0;32m----> 7\u001b[0;31m \u001b[0mtupla\u001b[0m\u001b[0;34m[\u001b[0m\u001b[0;36m1\u001b[0m\u001b[0;34m]\u001b[0m \u001b[0;34m=\u001b[0m \u001b[0;36m3\u001b[0m  \u001b[0;31m# Falla. No se puede mutar\u001b[0m\u001b[0;34m\u001b[0m\u001b[0;34m\u001b[0m\u001b[0m\n\u001b[0m",
      "\u001b[0;31mTypeError\u001b[0m: 'tuple' object does not support item assignment"
     ]
    }
   ],
   "source": [
    "tupla = (1, 2)\n",
    "\n",
    "print(tupla)\n",
    "print(tupla[0])\n",
    "print(tupla[1])\n",
    "\n",
    "tupla[1] = 3  # Falla. No se puede mutar"
   ]
  },
  {
   "cell_type": "code",
   "execution_count": 35,
   "id": "fe38f6ee",
   "metadata": {
    "execution": {
     "iopub.execute_input": "2021-09-20T14:10:14.481380Z",
     "iopub.status.busy": "2021-09-20T14:10:14.480896Z",
     "iopub.status.idle": "2021-09-20T14:10:14.483796Z",
     "shell.execute_reply": "2021-09-20T14:10:14.483375Z"
    }
   },
   "outputs": [
    {
     "data": {
      "text/plain": [
       "[1, 2]"
      ]
     },
     "execution_count": 35,
     "metadata": {},
     "output_type": "execute_result"
    }
   ],
   "source": [
    "l = [1, 2]\n",
    "l"
   ]
  },
  {
   "cell_type": "code",
   "execution_count": 36,
   "id": "9d835b26",
   "metadata": {
    "execution": {
     "iopub.execute_input": "2021-09-20T14:10:14.488139Z",
     "iopub.status.busy": "2021-09-20T14:10:14.487638Z",
     "iopub.status.idle": "2021-09-20T14:10:14.490049Z",
     "shell.execute_reply": "2021-09-20T14:10:14.490446Z"
    }
   },
   "outputs": [
    {
     "data": {
      "text/plain": [
       "[1, 3]"
      ]
     },
     "execution_count": 36,
     "metadata": {},
     "output_type": "execute_result"
    }
   ],
   "source": [
    "l[1] = 3\n",
    "l"
   ]
  },
  {
   "cell_type": "markdown",
   "id": "377d2457",
   "metadata": {
    "slideshow": {
     "slide_type": "slide"
    }
   },
   "source": [
    "#### Diferencia entre lista y tupla\n",
    "Las listas se caracterizan por ser mutables, es decir, se puede cambiar su contenido en tiempo de ejecución, mientras que las tuplas son inmutables ya que no es posible modificar el contenido una vez creada."
   ]
  },
  {
   "cell_type": "markdown",
   "id": "8226722e",
   "metadata": {},
   "source": [
    "#### Slices\n",
    "\n",
    "**Valen para listas, tuplas o strings (_segmentos_)**"
   ]
  },
  {
   "cell_type": "code",
   "execution_count": 37,
   "id": "077c7a26",
   "metadata": {
    "execution": {
     "iopub.execute_input": "2021-09-20T14:10:14.493880Z",
     "iopub.status.busy": "2021-09-20T14:10:14.492400Z",
     "iopub.status.idle": "2021-09-20T14:10:14.495812Z",
     "shell.execute_reply": "2021-09-20T14:10:14.495394Z"
    }
   },
   "outputs": [],
   "source": [
    "numeros = [0, 1, 2, 3, 4, 5, 6, 7, 8, 9, 10]"
   ]
  },
  {
   "cell_type": "code",
   "execution_count": 38,
   "id": "6068f1da",
   "metadata": {
    "execution": {
     "iopub.execute_input": "2021-09-20T14:10:14.500315Z",
     "iopub.status.busy": "2021-09-20T14:10:14.499203Z",
     "iopub.status.idle": "2021-09-20T14:10:14.501931Z",
     "shell.execute_reply": "2021-09-20T14:10:14.501486Z"
    }
   },
   "outputs": [
    {
     "name": "stdout",
     "output_type": "stream",
     "text": [
      "[0, 1, 2, 3, 4, 5, 6, 7, 8, 9, 10]\n"
     ]
    }
   ],
   "source": [
    "print(numeros)"
   ]
  },
  {
   "cell_type": "code",
   "execution_count": 39,
   "id": "d5aa9dd9",
   "metadata": {
    "execution": {
     "iopub.execute_input": "2021-09-20T14:10:14.506095Z",
     "iopub.status.busy": "2021-09-20T14:10:14.505355Z",
     "iopub.status.idle": "2021-09-20T14:10:14.508126Z",
     "shell.execute_reply": "2021-09-20T14:10:14.508498Z"
    }
   },
   "outputs": [
    {
     "name": "stdout",
     "output_type": "stream",
     "text": [
      "2\n"
     ]
    }
   ],
   "source": [
    "print(numeros[2])  # Imprimo elemento en la posición 2"
   ]
  },
  {
   "cell_type": "code",
   "execution_count": 40,
   "id": "60789154",
   "metadata": {
    "execution": {
     "iopub.execute_input": "2021-09-20T14:10:14.512267Z",
     "iopub.status.busy": "2021-09-20T14:10:14.511785Z",
     "iopub.status.idle": "2021-09-20T14:10:14.514720Z",
     "shell.execute_reply": "2021-09-20T14:10:14.514300Z"
    }
   },
   "outputs": [
    {
     "data": {
      "text/plain": [
       "10"
      ]
     },
     "execution_count": 40,
     "metadata": {},
     "output_type": "execute_result"
    }
   ],
   "source": [
    "numeros[len(numeros) - 1]"
   ]
  },
  {
   "cell_type": "code",
   "execution_count": 41,
   "id": "fd4a0b74",
   "metadata": {
    "execution": {
     "iopub.execute_input": "2021-09-20T14:10:14.519357Z",
     "iopub.status.busy": "2021-09-20T14:10:14.518195Z",
     "iopub.status.idle": "2021-09-20T14:10:14.520937Z",
     "shell.execute_reply": "2021-09-20T14:10:14.520519Z"
    },
    "lines_to_next_cell": 2
   },
   "outputs": [
    {
     "name": "stdout",
     "output_type": "stream",
     "text": [
      "10\n"
     ]
    }
   ],
   "source": [
    "print(numeros[-1])  # # Imprimo elemento en la última posición"
   ]
  },
  {
   "cell_type": "code",
   "execution_count": 42,
   "id": "d106b514",
   "metadata": {
    "execution": {
     "iopub.execute_input": "2021-09-20T14:10:14.525480Z",
     "iopub.status.busy": "2021-09-20T14:10:14.524979Z",
     "iopub.status.idle": "2021-09-20T14:10:14.527460Z",
     "shell.execute_reply": "2021-09-20T14:10:14.527849Z"
    },
    "lines_to_next_cell": 2
   },
   "outputs": [
    {
     "data": {
      "text/plain": [
       "9"
      ]
     },
     "execution_count": 42,
     "metadata": {},
     "output_type": "execute_result"
    }
   ],
   "source": [
    "numeros[-2]"
   ]
  },
  {
   "cell_type": "code",
   "execution_count": 43,
   "id": "72d35e7d",
   "metadata": {
    "execution": {
     "iopub.execute_input": "2021-09-20T14:10:14.531217Z",
     "iopub.status.busy": "2021-09-20T14:10:14.530728Z",
     "iopub.status.idle": "2021-09-20T14:10:14.532493Z",
     "shell.execute_reply": "2021-09-20T14:10:14.532886Z"
    }
   },
   "outputs": [
    {
     "name": "stdout",
     "output_type": "stream",
     "text": [
      "[0, 1, 2]\n"
     ]
    }
   ],
   "source": [
    "print(numeros[0:3])  # Imprimo de la pos 0 a la pos 2"
   ]
  },
  {
   "cell_type": "code",
   "execution_count": 44,
   "id": "1942b42e",
   "metadata": {
    "execution": {
     "iopub.execute_input": "2021-09-20T14:10:14.536270Z",
     "iopub.status.busy": "2021-09-20T14:10:14.535678Z",
     "iopub.status.idle": "2021-09-20T14:10:14.537924Z",
     "shell.execute_reply": "2021-09-20T14:10:14.538324Z"
    }
   },
   "outputs": [
    {
     "name": "stdout",
     "output_type": "stream",
     "text": [
      "[7, 8]\n"
     ]
    }
   ],
   "source": [
    "print(numeros[-4:-2])"
   ]
  },
  {
   "cell_type": "code",
   "execution_count": 45,
   "id": "e51ec03f",
   "metadata": {
    "execution": {
     "iopub.execute_input": "2021-09-20T14:10:14.542017Z",
     "iopub.status.busy": "2021-09-20T14:10:14.541513Z",
     "iopub.status.idle": "2021-09-20T14:10:14.543321Z",
     "shell.execute_reply": "2021-09-20T14:10:14.543712Z"
    }
   },
   "outputs": [
    {
     "name": "stdout",
     "output_type": "stream",
     "text": [
      "[0, 1, 2, 3, 4, 5, 6, 7, 8, 9, 10]\n"
     ]
    }
   ],
   "source": [
    "print(numeros[0:80])"
   ]
  },
  {
   "cell_type": "code",
   "execution_count": 46,
   "id": "befaeeb7",
   "metadata": {
    "execution": {
     "iopub.execute_input": "2021-09-20T14:10:14.547385Z",
     "iopub.status.busy": "2021-09-20T14:10:14.546901Z",
     "iopub.status.idle": "2021-09-20T14:10:14.550953Z",
     "shell.execute_reply": "2021-09-20T14:10:14.550497Z"
    }
   },
   "outputs": [
    {
     "name": "stdout",
     "output_type": "stream",
     "text": [
      "[0, 1, 2]\n"
     ]
    }
   ],
   "source": [
    "print(numeros[:3])"
   ]
  },
  {
   "cell_type": "code",
   "execution_count": 47,
   "id": "5e20d21c",
   "metadata": {
    "execution": {
     "iopub.execute_input": "2021-09-20T14:10:14.554616Z",
     "iopub.status.busy": "2021-09-20T14:10:14.554130Z",
     "iopub.status.idle": "2021-09-20T14:10:14.555915Z",
     "shell.execute_reply": "2021-09-20T14:10:14.556305Z"
    }
   },
   "outputs": [
    {
     "name": "stdout",
     "output_type": "stream",
     "text": [
      "[3, 4, 5, 6, 7, 8, 9, 10]\n"
     ]
    }
   ],
   "source": [
    "print(numeros[3:])"
   ]
  },
  {
   "cell_type": "code",
   "execution_count": 48,
   "id": "77335ab6",
   "metadata": {
    "execution": {
     "iopub.execute_input": "2021-09-20T14:10:14.560033Z",
     "iopub.status.busy": "2021-09-20T14:10:14.559553Z",
     "iopub.status.idle": "2021-09-20T14:10:14.563188Z",
     "shell.execute_reply": "2021-09-20T14:10:14.563585Z"
    }
   },
   "outputs": [
    {
     "name": "stdout",
     "output_type": "stream",
     "text": [
      "[0, 2, 4, 6, 8]\n"
     ]
    }
   ],
   "source": [
    "print(numeros[0:10:2])"
   ]
  },
  {
   "cell_type": "markdown",
   "id": "4029f2bd",
   "metadata": {},
   "source": [
    "```python\n",
    "lista[<inicio>:<final>:<step>]\n",
    "```"
   ]
  },
  {
   "cell_type": "code",
   "execution_count": 49,
   "id": "f568faf9",
   "metadata": {
    "execution": {
     "iopub.execute_input": "2021-09-20T14:10:14.567960Z",
     "iopub.status.busy": "2021-09-20T14:10:14.567479Z",
     "iopub.status.idle": "2021-09-20T14:10:14.571210Z",
     "shell.execute_reply": "2021-09-20T14:10:14.570788Z"
    },
    "lines_to_next_cell": 2
   },
   "outputs": [
    {
     "data": {
      "text/plain": [
       "[1, 2, 3, 4]"
      ]
     },
     "execution_count": 49,
     "metadata": {},
     "output_type": "execute_result"
    }
   ],
   "source": [
    "l1 = [1, 2]\n",
    "l2 = [3, 4]\n",
    "l1 + l2"
   ]
  },
  {
   "cell_type": "code",
   "execution_count": 50,
   "id": "d544f22d",
   "metadata": {
    "execution": {
     "iopub.execute_input": "2021-09-20T14:10:14.574696Z",
     "iopub.status.busy": "2021-09-20T14:10:14.574197Z",
     "iopub.status.idle": "2021-09-20T14:10:14.577673Z",
     "shell.execute_reply": "2021-09-20T14:10:14.578102Z"
    }
   },
   "outputs": [
    {
     "name": "stdout",
     "output_type": "stream",
     "text": [
      "[0, 1, 2, 3, 4, 5, 6, 'siete', 8, 9, 10]\n"
     ]
    }
   ],
   "source": [
    "numeros[7] = 'siete'  # Las listas se pueden mutar\n",
    "print(numeros)"
   ]
  },
  {
   "cell_type": "code",
   "execution_count": 51,
   "id": "de5e557e",
   "metadata": {
    "execution": {
     "iopub.execute_input": "2021-09-20T14:10:14.581376Z",
     "iopub.status.busy": "2021-09-20T14:10:14.580898Z",
     "iopub.status.idle": "2021-09-20T14:10:14.583638Z",
     "shell.execute_reply": "2021-09-20T14:10:14.583214Z"
    }
   },
   "outputs": [
    {
     "name": "stdout",
     "output_type": "stream",
     "text": [
      "[10, 9, 8, 'siete', 6, 5, 4, 3, 2, 1, 0]\n"
     ]
    }
   ],
   "source": [
    "numeros = numeros[::-1]\n",
    "print(numeros)"
   ]
  },
  {
   "cell_type": "code",
   "execution_count": 52,
   "id": "c50baa86",
   "metadata": {
    "execution": {
     "iopub.execute_input": "2021-09-20T14:10:14.585942Z",
     "iopub.status.busy": "2021-09-20T14:10:14.585440Z",
     "iopub.status.idle": "2021-09-20T14:10:14.591617Z",
     "shell.execute_reply": "2021-09-20T14:10:14.591189Z"
    },
    "tags": [
     "raises-exception"
    ]
   },
   "outputs": [
    {
     "ename": "IndexError",
     "evalue": "list index out of range",
     "output_type": "error",
     "traceback": [
      "\u001b[0;31m---------------------------------------------------------------------------\u001b[0m",
      "\u001b[0;31mIndexError\u001b[0m                                Traceback (most recent call last)",
      "\u001b[0;32m/tmp/ipykernel_2057/1255736182.py\u001b[0m in \u001b[0;36m<module>\u001b[0;34m\u001b[0m\n\u001b[0;32m----> 1\u001b[0;31m \u001b[0mprint\u001b[0m\u001b[0;34m(\u001b[0m\u001b[0mnumeros\u001b[0m\u001b[0;34m[\u001b[0m\u001b[0;36m15\u001b[0m\u001b[0;34m]\u001b[0m\u001b[0;34m)\u001b[0m  \u001b[0;31m# Falla. No se puede acceder a una posición inexistente\u001b[0m\u001b[0;34m\u001b[0m\u001b[0;34m\u001b[0m\u001b[0m\n\u001b[0m",
      "\u001b[0;31mIndexError\u001b[0m: list index out of range"
     ]
    }
   ],
   "source": [
    "print(numeros[15])  # Falla. No se puede acceder a una posición inexistente"
   ]
  },
  {
   "cell_type": "code",
   "execution_count": 53,
   "id": "09137084",
   "metadata": {
    "execution": {
     "iopub.execute_input": "2021-09-20T14:10:14.595814Z",
     "iopub.status.busy": "2021-09-20T14:10:14.595335Z",
     "iopub.status.idle": "2021-09-20T14:10:14.599603Z",
     "shell.execute_reply": "2021-09-20T14:10:14.599977Z"
    }
   },
   "outputs": [
    {
     "name": "stdout",
     "output_type": "stream",
     "text": [
      "palabra\n",
      "a\n",
      "pal\n",
      "abra\n"
     ]
    }
   ],
   "source": [
    "palabra = 'palabra'\n",
    "print(palabra)\n",
    "print(palabra[3])\n",
    "print(palabra[:3])\n",
    "print(palabra[3:])"
   ]
  },
  {
   "cell_type": "code",
   "execution_count": 54,
   "id": "bbf3bd5b",
   "metadata": {
    "execution": {
     "iopub.execute_input": "2021-09-20T14:10:14.604249Z",
     "iopub.status.busy": "2021-09-20T14:10:14.602330Z",
     "iopub.status.idle": "2021-09-20T14:10:14.606080Z",
     "shell.execute_reply": "2021-09-20T14:10:14.606475Z"
    }
   },
   "outputs": [
    {
     "name": "stdout",
     "output_type": "stream",
     "text": [
      "(0, 1, 2, 3, 4)\n",
      "(0, 1)\n",
      "(2, 3, 4)\n"
     ]
    }
   ],
   "source": [
    "tupla = (0, 1, 2, 3, 4)\n",
    "\n",
    "print(tupla)\n",
    "print(tupla[:2])\n",
    "print(tupla[2:])"
   ]
  },
  {
   "cell_type": "markdown",
   "id": "b6286359",
   "metadata": {
    "slideshow": {
     "slide_type": "slide"
    }
   },
   "source": [
    "#### Diccionarios de Python\n",
    "\n",
    "Son como hashmaps, las claves deben ser inmutables para que no pierda sentido el diccionario. Si se pudieran modificar, se podrían cambiar las claves y generaría conflictos.\n",
    "\n",
    "Tipos mutables:\n",
    "- Listas\n",
    "- Diccionarios\n",
    "- Sets\n",
    "\n",
    "Tipos inmutables:\n",
    "- Int\n",
    "- Float\n",
    "- String\n",
    "- Tuplas\n"
   ]
  },
  {
   "cell_type": "code",
   "execution_count": 55,
   "id": "e50dab6d",
   "metadata": {
    "execution": {
     "iopub.execute_input": "2021-09-20T14:10:14.610159Z",
     "iopub.status.busy": "2021-09-20T14:10:14.609641Z",
     "iopub.status.idle": "2021-09-20T14:10:14.611838Z",
     "shell.execute_reply": "2021-09-20T14:10:14.612209Z"
    },
    "slideshow": {
     "slide_type": "slide"
    }
   },
   "outputs": [
    {
     "data": {
      "text/plain": [
       "{}"
      ]
     },
     "execution_count": 55,
     "metadata": {},
     "output_type": "execute_result"
    }
   ],
   "source": [
    "diccionario = {}\n",
    "diccionario"
   ]
  },
  {
   "cell_type": "code",
   "execution_count": 56,
   "id": "c02255a4",
   "metadata": {
    "execution": {
     "iopub.execute_input": "2021-09-20T14:10:14.616200Z",
     "iopub.status.busy": "2021-09-20T14:10:14.614320Z",
     "iopub.status.idle": "2021-09-20T14:10:14.618084Z",
     "shell.execute_reply": "2021-09-20T14:10:14.618493Z"
    }
   },
   "outputs": [
    {
     "data": {
      "text/plain": [
       "{}"
      ]
     },
     "execution_count": 56,
     "metadata": {},
     "output_type": "execute_result"
    }
   ],
   "source": [
    "diccionario = dict()\n",
    "diccionario"
   ]
  },
  {
   "cell_type": "code",
   "execution_count": 57,
   "id": "646784ab",
   "metadata": {
    "execution": {
     "iopub.execute_input": "2021-09-20T14:10:14.623530Z",
     "iopub.status.busy": "2021-09-20T14:10:14.622359Z",
     "iopub.status.idle": "2021-09-20T14:10:14.625219Z",
     "shell.execute_reply": "2021-09-20T14:10:14.624766Z"
    },
    "slideshow": {
     "slide_type": "slide"
    }
   },
   "outputs": [
    {
     "name": "stdout",
     "output_type": "stream",
     "text": [
      "{'clave1': 'valor1', 2: 'valor2', 'clave3': 3}\n"
     ]
    }
   ],
   "source": [
    "# Cómo agregar cosas al diccionario\n",
    "diccionario['clave1'] = 'valor1'\n",
    "diccionario[2] = 'valor2'\n",
    "diccionario['clave3'] = 3\n",
    "print(diccionario)"
   ]
  },
  {
   "cell_type": "markdown",
   "id": "ea2918e5",
   "metadata": {},
   "source": [
    "Hay dos formas de obtener valores de un diccionario:\n",
    "\n",
    "```python\n",
    "diccionario[clave]\n",
    "```\n",
    "\n",
    "El cual devuelve el valor si existe la clave suministrada o bien lanza `KeyError` si no existe."
   ]
  },
  {
   "cell_type": "code",
   "execution_count": 58,
   "id": "2aff085b",
   "metadata": {
    "execution": {
     "iopub.execute_input": "2021-09-20T14:10:14.629578Z",
     "iopub.status.busy": "2021-09-20T14:10:14.629076Z",
     "iopub.status.idle": "2021-09-20T14:10:14.631488Z",
     "shell.execute_reply": "2021-09-20T14:10:14.631884Z"
    }
   },
   "outputs": [
    {
     "data": {
      "text/plain": [
       "'valor1'"
      ]
     },
     "execution_count": 58,
     "metadata": {},
     "output_type": "execute_result"
    }
   ],
   "source": [
    "diccionario['clave1']"
   ]
  },
  {
   "cell_type": "code",
   "execution_count": 59,
   "id": "98209756",
   "metadata": {
    "execution": {
     "iopub.execute_input": "2021-09-20T14:10:14.637980Z",
     "iopub.status.busy": "2021-09-20T14:10:14.637447Z",
     "iopub.status.idle": "2021-09-20T14:10:14.639830Z",
     "shell.execute_reply": "2021-09-20T14:10:14.640231Z"
    },
    "tags": [
     "raises-exception"
    ]
   },
   "outputs": [
    {
     "ename": "KeyError",
     "evalue": "'clave1000'",
     "output_type": "error",
     "traceback": [
      "\u001b[0;31m---------------------------------------------------------------------------\u001b[0m",
      "\u001b[0;31mKeyError\u001b[0m                                  Traceback (most recent call last)",
      "\u001b[0;32m/tmp/ipykernel_2057/3541524662.py\u001b[0m in \u001b[0;36m<module>\u001b[0;34m\u001b[0m\n\u001b[0;32m----> 1\u001b[0;31m \u001b[0mdiccionario\u001b[0m\u001b[0;34m[\u001b[0m\u001b[0;34m'clave1000'\u001b[0m\u001b[0;34m]\u001b[0m\u001b[0;34m\u001b[0m\u001b[0;34m\u001b[0m\u001b[0m\n\u001b[0m",
      "\u001b[0;31mKeyError\u001b[0m: 'clave1000'"
     ]
    }
   ],
   "source": [
    "diccionario['clave1000']"
   ]
  },
  {
   "cell_type": "markdown",
   "id": "dfc56984",
   "metadata": {},
   "source": [
    "La segunda forma es con `get`:"
   ]
  },
  {
   "cell_type": "code",
   "execution_count": 60,
   "id": "f6dc8689",
   "metadata": {
    "execution": {
     "iopub.execute_input": "2021-09-20T14:10:14.667793Z",
     "iopub.status.busy": "2021-09-20T14:10:14.657529Z",
     "iopub.status.idle": "2021-09-20T14:10:14.691415Z",
     "shell.execute_reply": "2021-09-20T14:10:14.690936Z"
    }
   },
   "outputs": [],
   "source": [
    "diccionario.get?"
   ]
  },
  {
   "cell_type": "code",
   "execution_count": 61,
   "id": "a179bc2c",
   "metadata": {
    "execution": {
     "iopub.execute_input": "2021-09-20T14:10:14.696540Z",
     "iopub.status.busy": "2021-09-20T14:10:14.695397Z",
     "iopub.status.idle": "2021-09-20T14:10:14.698313Z",
     "shell.execute_reply": "2021-09-20T14:10:14.697873Z"
    }
   },
   "outputs": [
    {
     "name": "stdout",
     "output_type": "stream",
     "text": [
      "Help on built-in function get:\n",
      "\n",
      "get(key, default=None, /) method of builtins.dict instance\n",
      "    Return the value for key if key is in the dictionary, else default.\n",
      "\n"
     ]
    }
   ],
   "source": [
    "help(diccionario.get)"
   ]
  },
  {
   "cell_type": "code",
   "execution_count": 62,
   "id": "e6eca954",
   "metadata": {
    "execution": {
     "iopub.execute_input": "2021-09-20T14:10:14.701899Z",
     "iopub.status.busy": "2021-09-20T14:10:14.701390Z",
     "iopub.status.idle": "2021-09-20T14:10:14.703209Z",
     "shell.execute_reply": "2021-09-20T14:10:14.703601Z"
    },
    "slideshow": {
     "slide_type": "slide"
    }
   },
   "outputs": [
    {
     "name": "stdout",
     "output_type": "stream",
     "text": [
      "None\n"
     ]
    }
   ],
   "source": [
    "print(diccionario.get('clave1000'))"
   ]
  },
  {
   "cell_type": "code",
   "execution_count": 63,
   "id": "a81d4b55",
   "metadata": {
    "execution": {
     "iopub.execute_input": "2021-09-20T14:10:14.708201Z",
     "iopub.status.busy": "2021-09-20T14:10:14.707036Z",
     "iopub.status.idle": "2021-09-20T14:10:14.709765Z",
     "shell.execute_reply": "2021-09-20T14:10:14.709350Z"
    },
    "slideshow": {
     "slide_type": "slide"
    }
   },
   "outputs": [
    {
     "name": "stdout",
     "output_type": "stream",
     "text": [
      "True\n"
     ]
    }
   ],
   "source": [
    "print('clave1' in diccionario)  # Verifico si la clave está en el diccionario"
   ]
  },
  {
   "cell_type": "code",
   "execution_count": 64,
   "id": "83e677be",
   "metadata": {
    "execution": {
     "iopub.execute_input": "2021-09-20T14:10:14.714621Z",
     "iopub.status.busy": "2021-09-20T14:10:14.713718Z",
     "iopub.status.idle": "2021-09-20T14:10:14.716230Z",
     "shell.execute_reply": "2021-09-20T14:10:14.716620Z"
    }
   },
   "outputs": [
    {
     "data": {
      "text/plain": [
       "True"
      ]
     },
     "execution_count": 64,
     "metadata": {},
     "output_type": "execute_result"
    }
   ],
   "source": [
    "l = [1, 2, 3, 4]\n",
    "2 in l"
   ]
  },
  {
   "cell_type": "code",
   "execution_count": 65,
   "id": "020a15eb",
   "metadata": {
    "execution": {
     "iopub.execute_input": "2021-09-20T14:10:14.721530Z",
     "iopub.status.busy": "2021-09-20T14:10:14.720488Z",
     "iopub.status.idle": "2021-09-20T14:10:14.723231Z",
     "shell.execute_reply": "2021-09-20T14:10:14.722831Z"
    }
   },
   "outputs": [
    {
     "name": "stdout",
     "output_type": "stream",
     "text": [
      "la clave es clave1 y el valor es valor1\n",
      "la clave es 2 y el valor es valor2\n",
      "la clave es clave3 y el valor es 3\n"
     ]
    }
   ],
   "source": [
    "for clave, valor in diccionario.items():\n",
    "    print(\"la clave es %s y el valor es %s\" % (clave, valor))"
   ]
  },
  {
   "cell_type": "code",
   "execution_count": 66,
   "id": "8d4a96fc",
   "metadata": {
    "execution": {
     "iopub.execute_input": "2021-09-20T14:10:14.727201Z",
     "iopub.status.busy": "2021-09-20T14:10:14.725054Z",
     "iopub.status.idle": "2021-09-20T14:10:14.729035Z",
     "shell.execute_reply": "2021-09-20T14:10:14.729436Z"
    }
   },
   "outputs": [
    {
     "name": "stdout",
     "output_type": "stream",
     "text": [
      "la clave es clave1 y el valor es valor1\n",
      "la clave es 2 y el valor es valor2\n",
      "la clave es clave3 y el valor es 3\n"
     ]
    }
   ],
   "source": [
    "for clave, valor in diccionario.items():\n",
    "    print(\"la clave es {} y el valor es {}\".format(clave, valor))"
   ]
  },
  {
   "cell_type": "code",
   "execution_count": 67,
   "id": "55c0c300",
   "metadata": {
    "execution": {
     "iopub.execute_input": "2021-09-20T14:10:14.734627Z",
     "iopub.status.busy": "2021-09-20T14:10:14.733522Z",
     "iopub.status.idle": "2021-09-20T14:10:14.736394Z",
     "shell.execute_reply": "2021-09-20T14:10:14.735966Z"
    },
    "slideshow": {
     "slide_type": "slide"
    }
   },
   "outputs": [
    {
     "name": "stdout",
     "output_type": "stream",
     "text": [
      "la clave es clave1 y el valor es valor1\n",
      "la clave es 2 y el valor es valor2\n",
      "la clave es clave3 y el valor es 3\n"
     ]
    }
   ],
   "source": [
    "# Cómo iterar un diccionario elemento por elemento\n",
    "for (\n",
    "    clave,\n",
    "    valor,\n",
    ") in (\n",
    "    diccionario.items()\n",
    "):  # diccionario.items() va devolviendo tuplas con el formato (clave,valor)\n",
    "    print(\n",
    "        f\"la clave es {clave} y el valor es {valor}\"\n",
    "    )  # con esta sintaxis se desempaquetan en clave y valor (similar a enumerate)"
   ]
  },
  {
   "cell_type": "code",
   "execution_count": 68,
   "id": "f59bd920",
   "metadata": {
    "execution": {
     "iopub.execute_input": "2021-09-20T14:10:14.741233Z",
     "iopub.status.busy": "2021-09-20T14:10:14.740099Z",
     "iopub.status.idle": "2021-09-20T14:10:14.742878Z",
     "shell.execute_reply": "2021-09-20T14:10:14.742458Z"
    },
    "slideshow": {
     "slide_type": "slide"
    }
   },
   "outputs": [
    {
     "name": "stdout",
     "output_type": "stream",
     "text": [
      "clave1\n",
      "2\n",
      "clave3\n"
     ]
    }
   ],
   "source": [
    "for clave in diccionario.keys():\n",
    "    print(clave)"
   ]
  },
  {
   "cell_type": "code",
   "execution_count": 69,
   "id": "bf826ce5",
   "metadata": {
    "execution": {
     "iopub.execute_input": "2021-09-20T14:10:14.747702Z",
     "iopub.status.busy": "2021-09-20T14:10:14.746555Z",
     "iopub.status.idle": "2021-09-20T14:10:14.749288Z",
     "shell.execute_reply": "2021-09-20T14:10:14.748872Z"
    },
    "slideshow": {
     "slide_type": "slide"
    }
   },
   "outputs": [
    {
     "name": "stdout",
     "output_type": "stream",
     "text": [
      "valor1\n",
      "valor2\n",
      "3\n"
     ]
    }
   ],
   "source": [
    "for valor in diccionario.values():\n",
    "    print(valor)"
   ]
  },
  {
   "cell_type": "markdown",
   "id": "3c648784",
   "metadata": {},
   "source": [
    "#### Sets\n",
    "\n",
    "Son similares a los diccionarios (en eficiencia) pero se almacenan solo claves, y tienen algunas operaciones particulares.\n",
    "\n",
    "En particular, no pueden tener elementos iguales (pensar que son conjuntos)"
   ]
  },
  {
   "cell_type": "code",
   "execution_count": 70,
   "id": "ac4354cc",
   "metadata": {
    "execution": {
     "iopub.execute_input": "2021-09-20T14:10:14.752794Z",
     "iopub.status.busy": "2021-09-20T14:10:14.752315Z",
     "iopub.status.idle": "2021-09-20T14:10:14.756617Z",
     "shell.execute_reply": "2021-09-20T14:10:14.756189Z"
    }
   },
   "outputs": [],
   "source": [
    "set??"
   ]
  },
  {
   "cell_type": "code",
   "execution_count": 71,
   "id": "dafa4265",
   "metadata": {
    "execution": {
     "iopub.execute_input": "2021-09-20T14:10:14.760638Z",
     "iopub.status.busy": "2021-09-20T14:10:14.758467Z",
     "iopub.status.idle": "2021-09-20T14:10:14.762509Z",
     "shell.execute_reply": "2021-09-20T14:10:14.762902Z"
    }
   },
   "outputs": [
    {
     "data": {
      "text/plain": [
       "{1, 2, 3}"
      ]
     },
     "execution_count": 71,
     "metadata": {},
     "output_type": "execute_result"
    }
   ],
   "source": [
    "# Se definen como los diccionarios pero sin hacerlos 'clave:valor', solamente una seguidilla de elementos\n",
    "{1, 2, 2, 3}"
   ]
  },
  {
   "cell_type": "code",
   "execution_count": 72,
   "id": "a041b99d",
   "metadata": {
    "execution": {
     "iopub.execute_input": "2021-09-20T14:10:14.767437Z",
     "iopub.status.busy": "2021-09-20T14:10:14.766935Z",
     "iopub.status.idle": "2021-09-20T14:10:14.769291Z",
     "shell.execute_reply": "2021-09-20T14:10:14.769681Z"
    }
   },
   "outputs": [
    {
     "data": {
      "text/plain": [
       "{1, 2, 3}"
      ]
     },
     "execution_count": 72,
     "metadata": {},
     "output_type": "execute_result"
    }
   ],
   "source": [
    "set([1, 2, 2, 3])"
   ]
  },
  {
   "cell_type": "markdown",
   "id": "9d34936f",
   "metadata": {},
   "source": [
    "## Condicionales (if...elif...else)\n",
    "\n",
    "```python\n",
    "if <condición_1>:\n",
    "    <hacer algo_1 si se da la condición_1>\n",
    "elif <condición_2>:\n",
    "    <hacer algo_2 si se da la condición_2>\n",
    "...\n",
    "elif <condición_n>:\n",
    "    <hacer algo_n si se da la condición_n>\n",
    "else:\n",
    "    <hacer otra cosa si no dan las anteriores>\n",
    "```\n",
    "\n",
    "Algo importante para notar es que los bloques se definen por **niveles de identacion**."
   ]
  },
  {
   "cell_type": "code",
   "execution_count": 73,
   "id": "557be242",
   "metadata": {
    "execution": {
     "iopub.execute_input": "2021-09-20T14:10:14.774841Z",
     "iopub.status.busy": "2021-09-20T14:10:14.773690Z",
     "iopub.status.idle": "2021-09-20T14:10:14.776546Z",
     "shell.execute_reply": "2021-09-20T14:10:14.776129Z"
    }
   },
   "outputs": [
    {
     "name": "stdout",
     "output_type": "stream",
     "text": [
      "uno\n"
     ]
    }
   ],
   "source": [
    "v = 1\n",
    "if v == 1:\n",
    "    print(\"uno\")\n",
    "elif v == 2:\n",
    "    print(\"dos\")\n",
    "else:\n",
    "    print(\"ni idea\")\n",
    "    print(v)"
   ]
  },
  {
   "cell_type": "markdown",
   "id": "057dbe63",
   "metadata": {},
   "source": [
    "## Iteraciones\n",
    "\n",
    "```python\n",
    "while cond:\n",
    "    <codigo>\n",
    "```\n",
    "\n",
    "```python\n",
    "for elemento in iterable:\n",
    "    <codigo>\n",
    "```\n",
    "\n",
    "Para iterar sobre un rango de valores, usamos `range`"
   ]
  },
  {
   "cell_type": "code",
   "execution_count": 74,
   "id": "86a1fb99",
   "metadata": {
    "execution": {
     "iopub.execute_input": "2021-09-20T14:10:14.781550Z",
     "iopub.status.busy": "2021-09-20T14:10:14.780426Z",
     "iopub.status.idle": "2021-09-20T14:10:14.783163Z",
     "shell.execute_reply": "2021-09-20T14:10:14.782736Z"
    }
   },
   "outputs": [
    {
     "name": "stdout",
     "output_type": "stream",
     "text": [
      "1\n",
      "4\n",
      "7\n",
      "10\n"
     ]
    }
   ],
   "source": [
    "for i in range(1, 11, 3):\n",
    "    print(i)"
   ]
  },
  {
   "cell_type": "markdown",
   "id": "2e94824c",
   "metadata": {},
   "source": [
    "## Operadores logicos\n",
    "\n",
    "`not`, `or`, `and`"
   ]
  },
  {
   "cell_type": "code",
   "execution_count": 75,
   "id": "6e810f73",
   "metadata": {
    "execution": {
     "iopub.execute_input": "2021-09-20T14:10:14.787755Z",
     "iopub.status.busy": "2021-09-20T14:10:14.786643Z",
     "iopub.status.idle": "2021-09-20T14:10:14.789345Z",
     "shell.execute_reply": "2021-09-20T14:10:14.788930Z"
    }
   },
   "outputs": [
    {
     "name": "stdout",
     "output_type": "stream",
     "text": [
      "yay\n"
     ]
    }
   ],
   "source": [
    "if True or False:\n",
    "    print(\"yay\")"
   ]
  },
  {
   "cell_type": "code",
   "execution_count": 76,
   "id": "26bb3374",
   "metadata": {
    "execution": {
     "iopub.execute_input": "2021-09-20T14:10:14.792942Z",
     "iopub.status.busy": "2021-09-20T14:10:14.792444Z",
     "iopub.status.idle": "2021-09-20T14:10:14.795050Z",
     "shell.execute_reply": "2021-09-20T14:10:14.794655Z"
    }
   },
   "outputs": [
    {
     "data": {
      "text/plain": [
       "False"
      ]
     },
     "execution_count": 76,
     "metadata": {},
     "output_type": "execute_result"
    }
   ],
   "source": [
    "1 == 2"
   ]
  },
  {
   "cell_type": "code",
   "execution_count": 77,
   "id": "14e94c93",
   "metadata": {
    "execution": {
     "iopub.execute_input": "2021-09-20T14:10:14.798590Z",
     "iopub.status.busy": "2021-09-20T14:10:14.798105Z",
     "iopub.status.idle": "2021-09-20T14:10:14.800631Z",
     "shell.execute_reply": "2021-09-20T14:10:14.801005Z"
    }
   },
   "outputs": [
    {
     "data": {
      "text/plain": [
       "True"
      ]
     },
     "execution_count": 77,
     "metadata": {},
     "output_type": "execute_result"
    }
   ],
   "source": [
    "1 != 2"
   ]
  },
  {
   "cell_type": "markdown",
   "id": "dcbe3f2e",
   "metadata": {
    "slideshow": {
     "slide_type": "slide"
    }
   },
   "source": [
    "## Funciones en Python"
   ]
  },
  {
   "cell_type": "code",
   "execution_count": 78,
   "id": "d0b6fd1e",
   "metadata": {
    "execution": {
     "iopub.execute_input": "2021-09-20T14:10:14.807430Z",
     "iopub.status.busy": "2021-09-20T14:10:14.806139Z",
     "iopub.status.idle": "2021-09-20T14:10:14.810652Z",
     "shell.execute_reply": "2021-09-20T14:10:14.810194Z"
    },
    "slideshow": {
     "slide_type": "slide"
    }
   },
   "outputs": [
    {
     "name": "stdout",
     "output_type": "stream",
     "text": [
      "True\n",
      "False\n"
     ]
    }
   ],
   "source": [
    "def busqueda_binaria(lista, elemento):\n",
    "    if not lista:\n",
    "        return False\n",
    "    elif len(lista) == 1:\n",
    "        return lista[0] == elemento\n",
    "    mitad = len(lista) // 2  # // es la operación división entera\n",
    "    if lista[mitad] == elemento:\n",
    "        return True\n",
    "    if lista[mitad] > elemento:\n",
    "        return busqueda_binaria(lista[:mitad], elemento)\n",
    "    if lista[mitad] < elemento:\n",
    "        return busqueda_binaria(lista[mitad:], elemento)\n",
    "\n",
    "\n",
    "print(busqueda_binaria([1, 2, 3, 4, 5], 4))\n",
    "print(busqueda_binaria([1, 4, 6, 7, 9, 10], 2))"
   ]
  },
  {
   "cell_type": "code",
   "execution_count": 79,
   "id": "331d39e2",
   "metadata": {
    "execution": {
     "iopub.execute_input": "2021-09-20T14:10:14.814291Z",
     "iopub.status.busy": "2021-09-20T14:10:14.813800Z",
     "iopub.status.idle": "2021-09-20T14:10:14.815881Z",
     "shell.execute_reply": "2021-09-20T14:10:14.816303Z"
    }
   },
   "outputs": [
    {
     "name": "stdout",
     "output_type": "stream",
     "text": [
      "(3, 3, 3)\n"
     ]
    }
   ],
   "source": [
    "def a(b):\n",
    "    if a == 1:\n",
    "        print(a)\n",
    "    return (b, b, b)\n",
    "\n",
    "\n",
    "print(a(3))"
   ]
  },
  {
   "cell_type": "code",
   "execution_count": 80,
   "id": "69c04e13",
   "metadata": {
    "execution": {
     "iopub.execute_input": "2021-09-20T14:10:14.821965Z",
     "iopub.status.busy": "2021-09-20T14:10:14.821135Z",
     "iopub.status.idle": "2021-09-20T14:10:14.831810Z",
     "shell.execute_reply": "2021-09-20T14:10:14.831346Z"
    },
    "lines_to_next_cell": 2,
    "slideshow": {
     "slide_type": "slide"
    },
    "tags": [
     "raises-exception"
    ]
   },
   "outputs": [
    {
     "name": "stdout",
     "output_type": "stream",
     "text": [
      "3\n",
      "3.0\n",
      "3.0\n",
      "hola como te va\n",
      "[1, 2, 3, 4, 5]\n"
     ]
    },
    {
     "ename": "TypeError",
     "evalue": "can only concatenate str (not \"int\") to str",
     "output_type": "error",
     "traceback": [
      "\u001b[0;31m---------------------------------------------------------------------------\u001b[0m",
      "\u001b[0;31mTypeError\u001b[0m                                 Traceback (most recent call last)",
      "\u001b[0;32m/tmp/ipykernel_2057/1000948441.py\u001b[0m in \u001b[0;36m<module>\u001b[0;34m\u001b[0m\n\u001b[1;32m      8\u001b[0m \u001b[0mprint\u001b[0m\u001b[0;34m(\u001b[0m\u001b[0msuma\u001b[0m\u001b[0;34m(\u001b[0m\u001b[0;34m\"hola \"\u001b[0m\u001b[0;34m,\u001b[0m \u001b[0;34m\"como te va\"\u001b[0m\u001b[0;34m)\u001b[0m\u001b[0;34m)\u001b[0m\u001b[0;34m\u001b[0m\u001b[0;34m\u001b[0m\u001b[0m\n\u001b[1;32m      9\u001b[0m \u001b[0mprint\u001b[0m\u001b[0;34m(\u001b[0m\u001b[0msuma\u001b[0m\u001b[0;34m(\u001b[0m\u001b[0;34m[\u001b[0m\u001b[0;36m1\u001b[0m\u001b[0;34m,\u001b[0m \u001b[0;36m2\u001b[0m\u001b[0;34m,\u001b[0m \u001b[0;36m3\u001b[0m\u001b[0;34m]\u001b[0m\u001b[0;34m,\u001b[0m \u001b[0;34m[\u001b[0m\u001b[0;36m4\u001b[0m\u001b[0;34m,\u001b[0m \u001b[0;36m5\u001b[0m\u001b[0;34m]\u001b[0m\u001b[0;34m)\u001b[0m\u001b[0;34m)\u001b[0m\u001b[0;34m\u001b[0m\u001b[0;34m\u001b[0m\u001b[0m\n\u001b[0;32m---> 10\u001b[0;31m \u001b[0mprint\u001b[0m\u001b[0;34m(\u001b[0m\u001b[0msuma\u001b[0m\u001b[0;34m(\u001b[0m\u001b[0;34m\"1\"\u001b[0m\u001b[0;34m,\u001b[0m \u001b[0;36m3\u001b[0m\u001b[0;34m)\u001b[0m\u001b[0;34m)\u001b[0m  \u001b[0;31m# Falla\u001b[0m\u001b[0;34m\u001b[0m\u001b[0;34m\u001b[0m\u001b[0m\n\u001b[0m",
      "\u001b[0;32m/tmp/ipykernel_2057/1000948441.py\u001b[0m in \u001b[0;36msuma\u001b[0;34m(a, b)\u001b[0m\n\u001b[1;32m      1\u001b[0m \u001b[0;32mdef\u001b[0m \u001b[0msuma\u001b[0m\u001b[0;34m(\u001b[0m\u001b[0ma\u001b[0m\u001b[0;34m,\u001b[0m \u001b[0mb\u001b[0m\u001b[0;34m)\u001b[0m\u001b[0;34m:\u001b[0m\u001b[0;34m\u001b[0m\u001b[0;34m\u001b[0m\u001b[0m\n\u001b[0;32m----> 2\u001b[0;31m     \u001b[0;32mreturn\u001b[0m \u001b[0ma\u001b[0m \u001b[0;34m+\u001b[0m \u001b[0mb\u001b[0m\u001b[0;34m\u001b[0m\u001b[0;34m\u001b[0m\u001b[0m\n\u001b[0m\u001b[1;32m      3\u001b[0m \u001b[0;34m\u001b[0m\u001b[0m\n\u001b[1;32m      4\u001b[0m \u001b[0;34m\u001b[0m\u001b[0m\n\u001b[1;32m      5\u001b[0m \u001b[0mprint\u001b[0m\u001b[0;34m(\u001b[0m\u001b[0msuma\u001b[0m\u001b[0;34m(\u001b[0m\u001b[0;36m1\u001b[0m\u001b[0;34m,\u001b[0m \u001b[0;36m2\u001b[0m\u001b[0;34m)\u001b[0m\u001b[0;34m)\u001b[0m\u001b[0;34m\u001b[0m\u001b[0;34m\u001b[0m\u001b[0m\n",
      "\u001b[0;31mTypeError\u001b[0m: can only concatenate str (not \"int\") to str"
     ]
    }
   ],
   "source": [
    "def suma(a, b):\n",
    "    return a + b\n",
    "\n",
    "\n",
    "print(suma(1, 2))\n",
    "print(suma(1.0, 2.0))\n",
    "print(suma(1.0, 2))\n",
    "print(suma(\"hola \", \"como te va\"))\n",
    "print(suma([1, 2, 3], [4, 5]))\n",
    "print(suma(\"1\", 3))  # Falla"
   ]
  },
  {
   "cell_type": "code",
   "execution_count": 81,
   "id": "ac93de0f",
   "metadata": {
    "execution": {
     "iopub.execute_input": "2021-09-20T14:10:14.836095Z",
     "iopub.status.busy": "2021-09-20T14:10:14.835169Z",
     "iopub.status.idle": "2021-09-20T14:10:14.840021Z",
     "shell.execute_reply": "2021-09-20T14:10:14.840419Z"
    }
   },
   "outputs": [
    {
     "name": "stdout",
     "output_type": "stream",
     "text": [
      "2.0\n"
     ]
    }
   ],
   "source": [
    "# El valor por default de divisor es 1\n",
    "\n",
    "\n",
    "def division(dividendo, divisor=2):\n",
    "    return dividendo / divisor\n",
    "\n",
    "\n",
    "print(division(4))  # Usa el valor por default"
   ]
  },
  {
   "cell_type": "code",
   "execution_count": 82,
   "id": "2889ea99",
   "metadata": {
    "execution": {
     "iopub.execute_input": "2021-09-20T14:10:14.847118Z",
     "iopub.status.busy": "2021-09-20T14:10:14.843892Z",
     "iopub.status.idle": "2021-09-20T14:10:14.852594Z",
     "shell.execute_reply": "2021-09-20T14:10:14.852159Z"
    },
    "tags": [
     "raises-exception"
    ]
   },
   "outputs": [
    {
     "name": "stdout",
     "output_type": "stream",
     "text": [
      "0.5\n",
      "0.5\n"
     ]
    },
    {
     "ename": "TypeError",
     "evalue": "division() missing 1 required positional argument: 'dividendo'",
     "output_type": "error",
     "traceback": [
      "\u001b[0;31m---------------------------------------------------------------------------\u001b[0m",
      "\u001b[0;31mTypeError\u001b[0m                                 Traceback (most recent call last)",
      "\u001b[0;32m/tmp/ipykernel_2057/1004518412.py\u001b[0m in \u001b[0;36m<module>\u001b[0;34m\u001b[0m\n\u001b[1;32m      1\u001b[0m \u001b[0mprint\u001b[0m\u001b[0;34m(\u001b[0m\u001b[0mdivision\u001b[0m\u001b[0;34m(\u001b[0m\u001b[0;36m1\u001b[0m\u001b[0;34m,\u001b[0m \u001b[0;36m2\u001b[0m\u001b[0;34m)\u001b[0m\u001b[0;34m)\u001b[0m  \u001b[0;31m# Parámetros por orden\u001b[0m\u001b[0;34m\u001b[0m\u001b[0;34m\u001b[0m\u001b[0m\n\u001b[1;32m      2\u001b[0m \u001b[0mprint\u001b[0m\u001b[0;34m(\u001b[0m\u001b[0mdivision\u001b[0m\u001b[0;34m(\u001b[0m\u001b[0mdividendo\u001b[0m\u001b[0;34m=\u001b[0m\u001b[0;36m1\u001b[0m\u001b[0;34m,\u001b[0m \u001b[0mdivisor\u001b[0m\u001b[0;34m=\u001b[0m\u001b[0;36m2\u001b[0m\u001b[0;34m)\u001b[0m\u001b[0;34m)\u001b[0m  \u001b[0;31m# Parámetros por nombre\u001b[0m\u001b[0;34m\u001b[0m\u001b[0;34m\u001b[0m\u001b[0m\n\u001b[0;32m----> 3\u001b[0;31m \u001b[0mprint\u001b[0m\u001b[0;34m(\u001b[0m\u001b[0mdivision\u001b[0m\u001b[0;34m(\u001b[0m\u001b[0mdivisor\u001b[0m\u001b[0;34m=\u001b[0m\u001b[0;36m2\u001b[0m\u001b[0;34m)\u001b[0m\u001b[0;34m)\u001b[0m\u001b[0;34m\u001b[0m\u001b[0;34m\u001b[0m\u001b[0m\n\u001b[0m",
      "\u001b[0;31mTypeError\u001b[0m: division() missing 1 required positional argument: 'dividendo'"
     ]
    }
   ],
   "source": [
    "print(division(1, 2))  # Parámetros por orden\n",
    "print(division(dividendo=1, divisor=2))  # Parámetros por nombre\n",
    "print(division(divisor=2))"
   ]
  },
  {
   "cell_type": "code",
   "execution_count": 83,
   "id": "a6d473b9",
   "metadata": {
    "execution": {
     "iopub.execute_input": "2021-09-20T14:10:14.856188Z",
     "iopub.status.busy": "2021-09-20T14:10:14.855713Z",
     "iopub.status.idle": "2021-09-20T14:10:14.860446Z",
     "shell.execute_reply": "2021-09-20T14:10:14.859809Z"
    }
   },
   "outputs": [
    {
     "name": "stdout",
     "output_type": "stream",
     "text": [
      "0.5\n"
     ]
    }
   ],
   "source": [
    "print(division(divisor=2, dividendo=1))"
   ]
  },
  {
   "cell_type": "code",
   "execution_count": 84,
   "id": "1278e1b7",
   "metadata": {
    "execution": {
     "iopub.execute_input": "2021-09-20T14:10:14.865169Z",
     "iopub.status.busy": "2021-09-20T14:10:14.864681Z",
     "iopub.status.idle": "2021-09-20T14:10:14.869587Z",
     "shell.execute_reply": "2021-09-20T14:10:14.868933Z"
    }
   },
   "outputs": [
    {
     "name": "stdout",
     "output_type": "stream",
     "text": [
      "['a', 'b', 'c']\n",
      "[1, 2, 3]\n",
      "['hola', ' don', ' pepito']\n",
      "hola -  don -  pepito\n"
     ]
    }
   ],
   "source": [
    "# Funciones básicas ya en el lenguaje\n",
    "# Hechas para funcionar para distintos tipos\n",
    "\n",
    "string_ordenado = sorted('bca')\n",
    "print(string_ordenado)\n",
    "\n",
    "lista_ordenada = sorted([1, 3, 2])\n",
    "print(lista_ordenada)\n",
    "\n",
    "separadas = \"hola, don, pepito\".split(\",\")\n",
    "print(separadas)\n",
    "unidas = \" - \".join(separadas)\n",
    "print(unidas)"
   ]
  },
  {
   "cell_type": "markdown",
   "id": "64c9018b",
   "metadata": {},
   "source": [
    "## Módulos\n",
    "\n",
    "Para incluir alguna biblioteca de funciones se usa `import`. Pueden ser cosas ya predefinidas en Python (`math`, `random`, etc), nombres de archivos en nuestro directorio (por ejemplo, para `mimodulo.py` ponemos `import mimodulo`) o bibliotecas instaladas por el usuario"
   ]
  },
  {
   "cell_type": "code",
   "execution_count": 85,
   "id": "55ca2a11",
   "metadata": {
    "execution": {
     "iopub.execute_input": "2021-09-20T14:10:14.873276Z",
     "iopub.status.busy": "2021-09-20T14:10:14.872502Z",
     "iopub.status.idle": "2021-09-20T14:10:14.875406Z",
     "shell.execute_reply": "2021-09-20T14:10:14.874986Z"
    }
   },
   "outputs": [
    {
     "name": "stdout",
     "output_type": "stream",
     "text": [
      "3.141592653589793\n"
     ]
    }
   ],
   "source": [
    "import math\n",
    "\n",
    "print(math.pi)"
   ]
  },
  {
   "cell_type": "code",
   "execution_count": 86,
   "id": "a07fde46",
   "metadata": {
    "execution": {
     "iopub.execute_input": "2021-09-20T14:10:14.879080Z",
     "iopub.status.busy": "2021-09-20T14:10:14.877563Z",
     "iopub.status.idle": "2021-09-20T14:10:14.882243Z",
     "shell.execute_reply": "2021-09-20T14:10:14.881816Z"
    }
   },
   "outputs": [
    {
     "name": "stdout",
     "output_type": "stream",
     "text": [
      "3.141592653589793 2.718281828459045\n"
     ]
    }
   ],
   "source": [
    "from math import pi, e\n",
    "\n",
    "print(pi, e)"
   ]
  },
  {
   "cell_type": "code",
   "execution_count": 87,
   "id": "72ba8d27",
   "metadata": {
    "execution": {
     "iopub.execute_input": "2021-09-20T14:10:14.886285Z",
     "iopub.status.busy": "2021-09-20T14:10:14.885763Z",
     "iopub.status.idle": "2021-09-20T14:10:14.890630Z",
     "shell.execute_reply": "2021-09-20T14:10:14.890200Z"
    }
   },
   "outputs": [
    {
     "data": {
      "text/plain": [
       "2"
      ]
     },
     "execution_count": 87,
     "metadata": {},
     "output_type": "execute_result"
    }
   ],
   "source": [
    "math.gcd(56, 78)"
   ]
  },
  {
   "cell_type": "markdown",
   "id": "6aef5965",
   "metadata": {},
   "source": [
    "## Manejo de excepciones\n",
    "\n",
    "Se pueden encapsular errores esperados en un bloque 'try/except' para evitar cortar el flujo del programa"
   ]
  },
  {
   "cell_type": "code",
   "execution_count": 88,
   "id": "cdda0e88",
   "metadata": {
    "execution": {
     "iopub.execute_input": "2021-09-20T14:10:14.898663Z",
     "iopub.status.busy": "2021-09-20T14:10:14.898139Z",
     "iopub.status.idle": "2021-09-20T14:10:14.902647Z",
     "shell.execute_reply": "2021-09-20T14:10:14.902219Z"
    },
    "tags": [
     "raises-exception"
    ]
   },
   "outputs": [
    {
     "ename": "ZeroDivisionError",
     "evalue": "division by zero",
     "output_type": "error",
     "traceback": [
      "\u001b[0;31m---------------------------------------------------------------------------\u001b[0m",
      "\u001b[0;31mZeroDivisionError\u001b[0m                         Traceback (most recent call last)",
      "\u001b[0;32m/tmp/ipykernel_2057/1165346582.py\u001b[0m in \u001b[0;36m<module>\u001b[0;34m\u001b[0m\n\u001b[0;32m----> 1\u001b[0;31m \u001b[0mdivision\u001b[0m\u001b[0;34m(\u001b[0m\u001b[0;36m1\u001b[0m\u001b[0;34m,\u001b[0m \u001b[0;36m0\u001b[0m\u001b[0;34m)\u001b[0m  \u001b[0;31m# No se puede dividir por cero\u001b[0m\u001b[0;34m\u001b[0m\u001b[0;34m\u001b[0m\u001b[0m\n\u001b[0m",
      "\u001b[0;32m/tmp/ipykernel_2057/2607187721.py\u001b[0m in \u001b[0;36mdivision\u001b[0;34m(dividendo, divisor)\u001b[0m\n\u001b[1;32m      3\u001b[0m \u001b[0;34m\u001b[0m\u001b[0m\n\u001b[1;32m      4\u001b[0m \u001b[0;32mdef\u001b[0m \u001b[0mdivision\u001b[0m\u001b[0;34m(\u001b[0m\u001b[0mdividendo\u001b[0m\u001b[0;34m,\u001b[0m \u001b[0mdivisor\u001b[0m\u001b[0;34m=\u001b[0m\u001b[0;36m2\u001b[0m\u001b[0;34m)\u001b[0m\u001b[0;34m:\u001b[0m\u001b[0;34m\u001b[0m\u001b[0;34m\u001b[0m\u001b[0m\n\u001b[0;32m----> 5\u001b[0;31m     \u001b[0;32mreturn\u001b[0m \u001b[0mdividendo\u001b[0m \u001b[0;34m/\u001b[0m \u001b[0mdivisor\u001b[0m\u001b[0;34m\u001b[0m\u001b[0;34m\u001b[0m\u001b[0m\n\u001b[0m\u001b[1;32m      6\u001b[0m \u001b[0;34m\u001b[0m\u001b[0m\n\u001b[1;32m      7\u001b[0m \u001b[0;34m\u001b[0m\u001b[0m\n",
      "\u001b[0;31mZeroDivisionError\u001b[0m: division by zero"
     ]
    }
   ],
   "source": [
    "division(1, 0)  # No se puede dividir por cero"
   ]
  },
  {
   "cell_type": "code",
   "execution_count": 89,
   "id": "04a9e5bd",
   "metadata": {
    "execution": {
     "iopub.execute_input": "2021-09-20T14:10:14.908004Z",
     "iopub.status.busy": "2021-09-20T14:10:14.906830Z",
     "iopub.status.idle": "2021-09-20T14:10:14.909690Z",
     "shell.execute_reply": "2021-09-20T14:10:14.909263Z"
    }
   },
   "outputs": [
    {
     "name": "stdout",
     "output_type": "stream",
     "text": [
      "No se puede dividir por cero, ojo! division by zero\n",
      "1\n"
     ]
    }
   ],
   "source": [
    "try:\n",
    "    division(1, 0)\n",
    "except (ZeroDivisionError, TypeError) as e:\n",
    "    print('No se puede dividir por cero, ojo!', e)\n",
    "finally:\n",
    "    print(1)"
   ]
  },
  {
   "cell_type": "markdown",
   "id": "d35ef974",
   "metadata": {
    "slideshow": {
     "slide_type": "slide"
    }
   },
   "source": [
    "## Lectura y escritura de archivos"
   ]
  },
  {
   "cell_type": "code",
   "execution_count": 90,
   "id": "386ed57a",
   "metadata": {
    "execution": {
     "iopub.execute_input": "2021-09-20T14:10:14.915246Z",
     "iopub.status.busy": "2021-09-20T14:10:14.914324Z",
     "iopub.status.idle": "2021-09-20T14:10:14.916717Z",
     "shell.execute_reply": "2021-09-20T14:10:14.917134Z"
    },
    "slideshow": {
     "slide_type": "slide"
    }
   },
   "outputs": [
    {
     "name": "stdout",
     "output_type": "stream",
     "text": [
      "<_io.TextIOWrapper name='archivo.csv' mode='w' encoding='UTF-8'>\n"
     ]
    }
   ],
   "source": [
    "import random\n",
    "\n",
    "with open(\n",
    "    'archivo.csv', 'w'\n",
    ") as archivo:  # Al usar esta sintaxis no es necesario hacer close\n",
    "    archivo.write(\"Alumno, nota\\n\")\n",
    "    # Tambien de forma similar al fprintf se puede hacer:\n",
    "    # print(\"Alumno, nota\\n\", file=archivo)\n",
    "    for i in range(0, 10):\n",
    "        archivo.write(f\"{i},{random.randrange(0,10)}\\n\")\n",
    "\n",
    "print(archivo)  # Comentario aclaratorio:\n",
    "# Las variables definidas en un determinado scope siguen existiendo por fuera del mismo.\n",
    "# Se debe tener cuidado con esto, ya que nada garantiza que por fuera el valor sea el esperado."
   ]
  },
  {
   "cell_type": "code",
   "execution_count": 91,
   "id": "2934ef84",
   "metadata": {
    "execution": {
     "iopub.execute_input": "2021-09-20T14:10:14.922932Z",
     "iopub.status.busy": "2021-09-20T14:10:14.921993Z",
     "iopub.status.idle": "2021-09-20T14:10:14.924798Z",
     "shell.execute_reply": "2021-09-20T14:10:14.924392Z"
    },
    "slideshow": {
     "slide_type": "slide"
    }
   },
   "outputs": [
    {
     "name": "stdout",
     "output_type": "stream",
     "text": [
      "Alumno, nota\n",
      "0,5\n",
      "1,8\n",
      "2,8\n",
      "3,4\n",
      "4,5\n",
      "5,2\n",
      "6,3\n",
      "7,3\n",
      "8,8\n",
      "9,9\n"
     ]
    }
   ],
   "source": [
    "with open('archivo.csv', 'r') as f:\n",
    "    for linea in f:\n",
    "        print(linea.strip())"
   ]
  },
  {
   "cell_type": "code",
   "execution_count": 92,
   "id": "b52ae4f2",
   "metadata": {
    "execution": {
     "iopub.execute_input": "2021-09-20T14:10:14.929492Z",
     "iopub.status.busy": "2021-09-20T14:10:14.928563Z",
     "iopub.status.idle": "2021-09-20T14:10:14.931102Z",
     "shell.execute_reply": "2021-09-20T14:10:14.931499Z"
    }
   },
   "outputs": [
    {
     "name": "stdout",
     "output_type": "stream",
     "text": [
      "Alumno, nota\n",
      "0,5\n",
      "1,8\n",
      "2,8\n",
      "3,4\n",
      "4,5\n",
      "5,2\n",
      "6,3\n",
      "7,3\n",
      "8,8\n",
      "9,9\n",
      "\n"
     ]
    }
   ],
   "source": [
    "with open('archivo.csv', 'r') as f:\n",
    "    print(f.read())"
   ]
  },
  {
   "cell_type": "code",
   "execution_count": 93,
   "id": "7efb7ffd",
   "metadata": {
    "execution": {
     "iopub.execute_input": "2021-09-20T14:10:14.935780Z",
     "iopub.status.busy": "2021-09-20T14:10:14.934871Z",
     "iopub.status.idle": "2021-09-20T14:10:14.936689Z",
     "shell.execute_reply": "2021-09-20T14:10:14.937093Z"
    }
   },
   "outputs": [],
   "source": [
    "f = open('archivo.csv', 'w')\n",
    "f.write(\"algo, algo\")\n",
    "f.close()"
   ]
  },
  {
   "cell_type": "markdown",
   "id": "05370619",
   "metadata": {
    "slideshow": {
     "slide_type": "slide"
    }
   },
   "source": [
    "## Objetos\n",
    "\n",
    "Los objetos tienen metodos y atributos:\n",
    "- Atributos: equivalentes a variables.\n",
    "- Métodos: equivalentes a las primitivas."
   ]
  },
  {
   "cell_type": "markdown",
   "id": "7c25f7cf",
   "metadata": {
    "slideshow": {
     "slide_type": "slide"
    }
   },
   "source": [
    "### Cómo creo una clase"
   ]
  },
  {
   "cell_type": "code",
   "execution_count": 94,
   "id": "3ee6bc65",
   "metadata": {
    "execution": {
     "iopub.execute_input": "2021-09-20T14:10:14.943424Z",
     "iopub.status.busy": "2021-09-20T14:10:14.942222Z",
     "iopub.status.idle": "2021-09-20T14:10:14.944008Z",
     "shell.execute_reply": "2021-09-20T14:10:14.944420Z"
    },
    "slideshow": {
     "slide_type": "slide"
    }
   },
   "outputs": [],
   "source": [
    "class Nodo(object):\n",
    "    def __init__(self, dato, siguiente=None):\n",
    "        self._dato = dato\n",
    "        self._siguiente = siguiente\n",
    "\n",
    "    @property\n",
    "    def dato(self):\n",
    "        return self._dato\n",
    "\n",
    "    @property\n",
    "    def proximo(self):\n",
    "        return self._siguiente\n",
    "\n",
    "    @proximo.setter\n",
    "    def proximo(self, siguiente):\n",
    "        self._siguiente = siguiente\n",
    "\n",
    "    def __repr__(self):\n",
    "        return str(self.dato)\n",
    "\n",
    "    def __str__(self):\n",
    "        return str(self.dato)"
   ]
  },
  {
   "cell_type": "code",
   "execution_count": 95,
   "id": "5a7452ad",
   "metadata": {
    "execution": {
     "iopub.execute_input": "2021-09-20T14:10:14.949023Z",
     "iopub.status.busy": "2021-09-20T14:10:14.947902Z",
     "iopub.status.idle": "2021-09-20T14:10:14.950721Z",
     "shell.execute_reply": "2021-09-20T14:10:14.950280Z"
    },
    "slideshow": {
     "slide_type": "slide"
    }
   },
   "outputs": [
    {
     "name": "stdout",
     "output_type": "stream",
     "text": [
      "hola\n"
     ]
    }
   ],
   "source": [
    "nodo = Nodo(\"hola\")\n",
    "print(nodo)"
   ]
  },
  {
   "cell_type": "code",
   "execution_count": 96,
   "id": "c03c6941",
   "metadata": {
    "execution": {
     "iopub.execute_input": "2021-09-20T14:10:14.954294Z",
     "iopub.status.busy": "2021-09-20T14:10:14.953695Z",
     "iopub.status.idle": "2021-09-20T14:10:14.955604Z",
     "shell.execute_reply": "2021-09-20T14:10:14.956012Z"
    },
    "slideshow": {
     "slide_type": "slide"
    }
   },
   "outputs": [
    {
     "name": "stdout",
     "output_type": "stream",
     "text": [
      "[hola, lala]\n"
     ]
    }
   ],
   "source": [
    "nodo2 = Nodo(\"lala\")\n",
    "print([nodo, nodo2])"
   ]
  },
  {
   "cell_type": "code",
   "execution_count": 97,
   "id": "0d6a6a0a",
   "metadata": {
    "execution": {
     "iopub.execute_input": "2021-09-20T14:10:14.959754Z",
     "iopub.status.busy": "2021-09-20T14:10:14.959277Z",
     "iopub.status.idle": "2021-09-20T14:10:14.963259Z",
     "shell.execute_reply": "2021-09-20T14:10:14.962864Z"
    },
    "slideshow": {
     "slide_type": "slide"
    }
   },
   "outputs": [
    {
     "name": "stdout",
     "output_type": "stream",
     "text": [
      "hola\n"
     ]
    }
   ],
   "source": [
    "nodo3 = nodo.dato\n",
    "print(nodo3)"
   ]
  },
  {
   "cell_type": "markdown",
   "id": "3d48c16b",
   "metadata": {
    "slideshow": {
     "slide_type": "slide"
    }
   },
   "source": [
    "### Ejemplo: Lista Enlazada"
   ]
  },
  {
   "cell_type": "code",
   "execution_count": 98,
   "id": "d0838f43",
   "metadata": {
    "execution": {
     "iopub.execute_input": "2021-09-20T14:10:14.971545Z",
     "iopub.status.busy": "2021-09-20T14:10:14.971048Z",
     "iopub.status.idle": "2021-09-20T14:10:14.974978Z",
     "shell.execute_reply": "2021-09-20T14:10:14.974341Z"
    },
    "slideshow": {
     "slide_type": "slide"
    }
   },
   "outputs": [],
   "source": [
    "class ListaEnlazada(object):\n",
    "    def __init__(self):\n",
    "        self._primero = None\n",
    "        self._ultimo = None\n",
    "        self._largo = 0\n",
    "\n",
    "    def __len__(self):\n",
    "        return self._largo\n",
    "\n",
    "    def insertar_al_principio(self, dato):\n",
    "        nodo = Nodo(dato, self._primero)\n",
    "        self._primero = nodo\n",
    "        self._largo += 1\n",
    "        if self._largo == 1:\n",
    "            self._ultimo = nodo\n",
    "\n",
    "    def insertar_al_final(self, dato):\n",
    "        if self._largo != 0:\n",
    "            nodo = Nodo(dato)\n",
    "            nodo_anterior = self._ultimo\n",
    "            nodo_anterior._siguiente = nodo\n",
    "            self._ultimo = nodo\n",
    "            self._largo += 1\n",
    "        else:\n",
    "            self.insertar_al_principio(dato)\n",
    "\n",
    "    @property\n",
    "    def primero(self):\n",
    "        return self._primero.dato\n",
    "\n",
    "    def borrar_primero(self):\n",
    "        dato = self.primero.dato\n",
    "        self._primero = self.primero.siguiente\n",
    "        self._largo -= 1\n",
    "        if self._largo == 0:\n",
    "            self._ultimo = None\n",
    "        return dato\n",
    "\n",
    "    def __str__(self):\n",
    "        datos = []\n",
    "        nodo_actual = self._primero\n",
    "        while nodo_actual:\n",
    "            datos.append(nodo_actual.dato)\n",
    "            nodo_actual = nodo_actual.proximo\n",
    "        return \" -> \".join(datos)\n",
    "\n",
    "    def __repr__(self):\n",
    "        return self.__str__()"
   ]
  },
  {
   "cell_type": "code",
   "execution_count": 99,
   "id": "a091c54a",
   "metadata": {
    "execution": {
     "iopub.execute_input": "2021-09-20T14:10:14.979323Z",
     "iopub.status.busy": "2021-09-20T14:10:14.978655Z",
     "iopub.status.idle": "2021-09-20T14:10:14.983969Z",
     "shell.execute_reply": "2021-09-20T14:10:14.983340Z"
    },
    "slideshow": {
     "slide_type": "slide"
    }
   },
   "outputs": [
    {
     "data": {
      "text/plain": [
       "2"
      ]
     },
     "execution_count": 99,
     "metadata": {},
     "output_type": "execute_result"
    }
   ],
   "source": [
    "lista = ListaEnlazada()\n",
    "lista.insertar_al_principio(\"Primer Dato\")\n",
    "lista.insertar_al_principio(\"Primer primer Dato\")\n",
    "len(lista)"
   ]
  },
  {
   "cell_type": "code",
   "execution_count": 100,
   "id": "50d42797",
   "metadata": {
    "execution": {
     "iopub.execute_input": "2021-09-20T14:10:14.987825Z",
     "iopub.status.busy": "2021-09-20T14:10:14.987160Z",
     "iopub.status.idle": "2021-09-20T14:10:14.991743Z",
     "shell.execute_reply": "2021-09-20T14:10:14.992136Z"
    }
   },
   "outputs": [
    {
     "data": {
      "text/plain": [
       "Primer primer Dato -> Primer Dato"
      ]
     },
     "execution_count": 100,
     "metadata": {},
     "output_type": "execute_result"
    }
   ],
   "source": [
    "lista"
   ]
  },
  {
   "cell_type": "code",
   "execution_count": 101,
   "id": "5a30204d",
   "metadata": {
    "execution": {
     "iopub.execute_input": "2021-09-20T14:10:14.995899Z",
     "iopub.status.busy": "2021-09-20T14:10:14.995219Z",
     "iopub.status.idle": "2021-09-20T14:10:14.999365Z",
     "shell.execute_reply": "2021-09-20T14:10:14.999758Z"
    },
    "slideshow": {
     "slide_type": "slide"
    }
   },
   "outputs": [
    {
     "name": "stdout",
     "output_type": "stream",
     "text": [
      "Primer primer Dato\n"
     ]
    }
   ],
   "source": [
    "elemento = lista.primero\n",
    "print(elemento)"
   ]
  },
  {
   "cell_type": "markdown",
   "id": "f77ffb42",
   "metadata": {},
   "source": [
    "## Recursos\n",
    "\n",
    "* [Taller de Python de Algoritmos II](https://github.com/algoritmos-rw/algo2_apuntes)\n",
    "\n",
    "* [Documentación de Python 3](https://docs.python.org/3/tutorial/)\n",
    "\n",
    "* [Apunte de Algoritmos y Programación I](https://algoritmos1rw.ddns.net/material)\n",
    "\n",
    "* [Automate the Boring Stuff with Python](http://automatetheboringstuff.com/)\n",
    "\n",
    "* [Curso Python](https://pythoncurso.github.io)\n",
    "\n",
    "* [Python Tutor](http://pythontutor.com/)\n",
    "\n",
    "* [Learn Python3 in Y minutes](https://learnxinyminutes.com/docs/python3/)\n",
    "\n",
    "* [Bibliografía de Algoritmos y Programación I](https://algoritmos1rw.ddns.net/bibliografia)"
   ]
  }
 ],
 "metadata": {
  "jupytext": {
   "encoding": "# -*- coding: utf-8 -*-",
   "formats": "ipynb,py:light"
  },
  "kernelspec": {
   "display_name": "Python 3 (venv)",
   "language": "python",
   "name": "python3"
  },
  "language_info": {
   "codemirror_mode": {
    "name": "ipython",
    "version": 3
   },
   "file_extension": ".py",
   "mimetype": "text/x-python",
   "name": "python",
   "nbconvert_exporter": "python",
   "pygments_lexer": "ipython3",
   "version": "3.7.12"
  }
 },
 "nbformat": 4,
 "nbformat_minor": 5
}
