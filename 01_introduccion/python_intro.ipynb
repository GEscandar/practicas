{
 "cells": [
  {
   "cell_type": "markdown",
   "id": "106eb4e2",
   "metadata": {},
   "source": [
    "# Python"
   ]
  },
  {
   "cell_type": "markdown",
   "id": "2cc9fc12",
   "metadata": {
    "slideshow": {
     "slide_type": "slide"
    }
   },
   "source": [
    "## Un poco de Historia"
   ]
  },
  {
   "cell_type": "markdown",
   "id": "a0975219",
   "metadata": {
    "slideshow": {
     "slide_type": "subslide"
    }
   },
   "source": [
    "Python fue creado a finales de los años 80 por un programador holandés llamado **Guido van Rossum**,\n",
    "quien sigue siendo aún hoy el líder del desarrollo del lenguaje.\n",
    "\n",
    "(Edit julio 2018: [ya no más](https://www.mail-archive.com/python-committers@python.org/msg05628.html))"
   ]
  },
  {
   "cell_type": "markdown",
   "id": "40833bb6",
   "metadata": {
    "slideshow": {
     "slide_type": "subslide"
    }
   },
   "source": [
    "El nombre del lenguaje proviene de los humoristas británicos Monty Python.\n",
    "\n",
    ">*\"I chose Python as a working title for the project, being in a slightly irreverent mood (and a big fan of Monty Python's Flying Circus).\"*"
   ]
  },
  {
   "cell_type": "markdown",
   "id": "ce43a5d7",
   "metadata": {
    "slideshow": {
     "slide_type": "slide"
    }
   },
   "source": [
    "## Caracteristicas\n",
    "\n",
    "- Interpretado\n",
    "- Tipado dinamico\n",
    "- Multiparadigma\n",
    "- Alto nivel\n",
    "- Tiene un recolector de basura (no hay malloc, free, realloc, etc)"
   ]
  },
  {
   "cell_type": "markdown",
   "id": "333f07fe",
   "metadata": {},
   "source": [
    "## ¿Cómo empezar?\n",
    "\n",
    "* Al ser un lenguaje *interpretado*, se puede ir escribiendo a medida que se ejecuta, sin necesidad de compilar de antemano! Solamente hace falta escribir `python` o `python3` en una terminal para empezar\n",
    "\n",
    "* También, permite escribir archivos y correrlos. Crear un archivo con extensión `.py` y luego correr `python miarchivo.py` en laterminal"
   ]
  },
  {
   "cell_type": "markdown",
   "id": "ba1393f9",
   "metadata": {
    "slideshow": {
     "slide_type": "slide"
    }
   },
   "source": [
    "## El Zen de Python"
   ]
  },
  {
   "cell_type": "code",
   "execution_count": 1,
   "id": "6d635251",
   "metadata": {
    "execution": {
     "iopub.execute_input": "2021-09-28T20:19:49.659712Z",
     "iopub.status.busy": "2021-09-28T20:19:49.659058Z",
     "iopub.status.idle": "2021-09-28T20:19:49.671289Z",
     "shell.execute_reply": "2021-09-28T20:19:49.670746Z"
    },
    "slideshow": {
     "slide_type": "slide"
    }
   },
   "outputs": [
    {
     "name": "stdout",
     "output_type": "stream",
     "text": [
      "The Zen of Python, by Tim Peters\n",
      "\n",
      "Beautiful is better than ugly.\n",
      "Explicit is better than implicit.\n",
      "Simple is better than complex.\n",
      "Complex is better than complicated.\n",
      "Flat is better than nested.\n",
      "Sparse is better than dense.\n",
      "Readability counts.\n",
      "Special cases aren't special enough to break the rules.\n",
      "Although practicality beats purity.\n",
      "Errors should never pass silently.\n",
      "Unless explicitly silenced.\n",
      "In the face of ambiguity, refuse the temptation to guess.\n",
      "There should be one-- and preferably only one --obvious way to do it.\n",
      "Although that way may not be obvious at first unless you're Dutch.\n",
      "Now is better than never.\n",
      "Although never is often better than *right* now.\n",
      "If the implementation is hard to explain, it's a bad idea.\n",
      "If the implementation is easy to explain, it may be a good idea.\n",
      "Namespaces are one honking great idea -- let's do more of those!\n"
     ]
    }
   ],
   "source": [
    "import this"
   ]
  },
  {
   "cell_type": "markdown",
   "id": "abd272e9",
   "metadata": {
    "slideshow": {
     "slide_type": "slide"
    }
   },
   "source": [
    "## Conocimientos Básicos de Python: Variables y Tipos"
   ]
  },
  {
   "cell_type": "code",
   "execution_count": 2,
   "id": "4ed8f194",
   "metadata": {
    "execution": {
     "iopub.execute_input": "2021-09-28T20:19:49.675901Z",
     "iopub.status.busy": "2021-09-28T20:19:49.675197Z",
     "iopub.status.idle": "2021-09-28T20:19:49.677419Z",
     "shell.execute_reply": "2021-09-28T20:19:49.677838Z"
    },
    "slideshow": {
     "slide_type": "slide"
    }
   },
   "outputs": [
    {
     "name": "stdout",
     "output_type": "stream",
     "text": [
      "Hello World!\n"
     ]
    }
   ],
   "source": [
    "# Este es un comentario\n",
    "\n",
    "print(\"Hello World!\")"
   ]
  },
  {
   "cell_type": "markdown",
   "id": "b820f02d",
   "metadata": {},
   "source": [
    "Los strings en python puden escribirse tanto con comillas simples (`'`) como comillas dobles (`\"`). Normalmente vemos texto entre comillas triples para escribir _docstrings_, segun la guia de estilo de Python, el PEP8."
   ]
  },
  {
   "cell_type": "code",
   "execution_count": 3,
   "id": "c70b9aee",
   "metadata": {
    "execution": {
     "iopub.execute_input": "2021-09-28T20:19:49.680576Z",
     "iopub.status.busy": "2021-09-28T20:19:49.680032Z",
     "iopub.status.idle": "2021-09-28T20:19:49.689471Z",
     "shell.execute_reply": "2021-09-28T20:19:49.689922Z"
    }
   },
   "outputs": [
    {
     "data": {
      "text/plain": [
       "'Esto es un docstring.\\n'"
      ]
     },
     "execution_count": 3,
     "metadata": {},
     "output_type": "execute_result"
    }
   ],
   "source": [
    "\"\"\"Esto es un docstring.\n",
    "\"\"\""
   ]
  },
  {
   "cell_type": "markdown",
   "id": "b0ed92b2",
   "metadata": {},
   "source": [
    "### Declaracion de variables"
   ]
  },
  {
   "cell_type": "code",
   "execution_count": 4,
   "id": "6ff735c3",
   "metadata": {
    "execution": {
     "iopub.execute_input": "2021-09-28T20:19:49.694537Z",
     "iopub.status.busy": "2021-09-28T20:19:49.694020Z",
     "iopub.status.idle": "2021-09-28T20:19:49.696352Z",
     "shell.execute_reply": "2021-09-28T20:19:49.696779Z"
    }
   },
   "outputs": [
    {
     "name": "stdout",
     "output_type": "stream",
     "text": [
      "Hola\n"
     ]
    }
   ],
   "source": [
    "string = 'Hola'\n",
    "print(string)"
   ]
  },
  {
   "cell_type": "code",
   "execution_count": 5,
   "id": "57cd8ec4",
   "metadata": {
    "execution": {
     "iopub.execute_input": "2021-09-28T20:19:49.699718Z",
     "iopub.status.busy": "2021-09-28T20:19:49.699127Z",
     "iopub.status.idle": "2021-09-28T20:19:49.702974Z",
     "shell.execute_reply": "2021-09-28T20:19:49.702540Z"
    }
   },
   "outputs": [
    {
     "name": "stdout",
     "output_type": "stream",
     "text": [
      "1\n"
     ]
    }
   ],
   "source": [
    "entero = 1\n",
    "print(entero)"
   ]
  },
  {
   "cell_type": "code",
   "execution_count": 6,
   "id": "b5708c38",
   "metadata": {
    "execution": {
     "iopub.execute_input": "2021-09-28T20:19:49.706555Z",
     "iopub.status.busy": "2021-09-28T20:19:49.705989Z",
     "iopub.status.idle": "2021-09-28T20:19:49.708905Z",
     "shell.execute_reply": "2021-09-28T20:19:49.709312Z"
    }
   },
   "outputs": [
    {
     "name": "stdout",
     "output_type": "stream",
     "text": [
      "1.0\n"
     ]
    }
   ],
   "source": [
    "flotante = 1.0\n",
    "print(flotante)"
   ]
  },
  {
   "cell_type": "code",
   "execution_count": 7,
   "id": "93d1b68a",
   "metadata": {
    "execution": {
     "iopub.execute_input": "2021-09-28T20:19:49.714256Z",
     "iopub.status.busy": "2021-09-28T20:19:49.713227Z",
     "iopub.status.idle": "2021-09-28T20:19:49.716173Z",
     "shell.execute_reply": "2021-09-28T20:19:49.716674Z"
    }
   },
   "outputs": [
    {
     "name": "stdout",
     "output_type": "stream",
     "text": [
      "(1, 1.0)\n"
     ]
    }
   ],
   "source": [
    "tupla = (entero, flotante)\n",
    "print(tupla)"
   ]
  },
  {
   "cell_type": "code",
   "execution_count": 8,
   "id": "803a8883",
   "metadata": {
    "execution": {
     "iopub.execute_input": "2021-09-28T20:19:49.721106Z",
     "iopub.status.busy": "2021-09-28T20:19:49.720509Z",
     "iopub.status.idle": "2021-09-28T20:19:49.722803Z",
     "shell.execute_reply": "2021-09-28T20:19:49.723234Z"
    }
   },
   "outputs": [
    {
     "name": "stdout",
     "output_type": "stream",
     "text": [
      "(1, 1.0, 'Hola')\n"
     ]
    }
   ],
   "source": [
    "nupla = (entero, flotante, string)\n",
    "print(nupla)"
   ]
  },
  {
   "cell_type": "code",
   "execution_count": 9,
   "id": "7ef60a0e",
   "metadata": {
    "execution": {
     "iopub.execute_input": "2021-09-28T20:19:49.727184Z",
     "iopub.status.busy": "2021-09-28T20:19:49.726663Z",
     "iopub.status.idle": "2021-09-28T20:19:49.729437Z",
     "shell.execute_reply": "2021-09-28T20:19:49.729013Z"
    }
   },
   "outputs": [
    {
     "name": "stdout",
     "output_type": "stream",
     "text": [
      "[1, 1.0, 'Hola']\n"
     ]
    }
   ],
   "source": [
    "lista = [entero, flotante, string]\n",
    "print(lista)"
   ]
  },
  {
   "cell_type": "code",
   "execution_count": 10,
   "id": "b1ce34cb",
   "metadata": {
    "execution": {
     "iopub.execute_input": "2021-09-28T20:19:49.734015Z",
     "iopub.status.busy": "2021-09-28T20:19:49.733466Z",
     "iopub.status.idle": "2021-09-28T20:19:49.735194Z",
     "shell.execute_reply": "2021-09-28T20:19:49.735807Z"
    }
   },
   "outputs": [
    {
     "name": "stdout",
     "output_type": "stream",
     "text": [
      "{'1': (1, 1.0), 50: (1, 1.0, 'Hola'), '3': 1}\n"
     ]
    }
   ],
   "source": [
    "diccionario = {'1': tupla, 50: nupla, '3': entero}\n",
    "print(diccionario)"
   ]
  },
  {
   "cell_type": "code",
   "execution_count": 11,
   "id": "a3d43074",
   "metadata": {
    "execution": {
     "iopub.execute_input": "2021-09-28T20:19:49.740794Z",
     "iopub.status.busy": "2021-09-28T20:19:49.740168Z",
     "iopub.status.idle": "2021-09-28T20:19:49.742313Z",
     "shell.execute_reply": "2021-09-28T20:19:49.742847Z"
    }
   },
   "outputs": [
    {
     "name": "stdout",
     "output_type": "stream",
     "text": [
      "{1, 2}\n"
     ]
    }
   ],
   "source": [
    "conjunto = set([1, 2])\n",
    "print(conjunto)"
   ]
  },
  {
   "cell_type": "code",
   "execution_count": 12,
   "id": "36f1b3df",
   "metadata": {
    "execution": {
     "iopub.execute_input": "2021-09-28T20:19:49.745436Z",
     "iopub.status.busy": "2021-09-28T20:19:49.744812Z",
     "iopub.status.idle": "2021-09-28T20:19:49.749875Z",
     "shell.execute_reply": "2021-09-28T20:19:49.749288Z"
    }
   },
   "outputs": [
    {
     "name": "stdout",
     "output_type": "stream",
     "text": [
      "True\n"
     ]
    }
   ],
   "source": [
    "booleano = True\n",
    "print(booleano)"
   ]
  },
  {
   "cell_type": "code",
   "execution_count": 13,
   "id": "7f7f9b7c",
   "metadata": {
    "execution": {
     "iopub.execute_input": "2021-09-28T20:19:49.754295Z",
     "iopub.status.busy": "2021-09-28T20:19:49.753735Z",
     "iopub.status.idle": "2021-09-28T20:19:49.755576Z",
     "shell.execute_reply": "2021-09-28T20:19:49.756362Z"
    }
   },
   "outputs": [
    {
     "name": "stdout",
     "output_type": "stream",
     "text": [
      "None\n"
     ]
    }
   ],
   "source": [
    "nada = None\n",
    "print(nada)"
   ]
  },
  {
   "cell_type": "markdown",
   "id": "e4d32065",
   "metadata": {},
   "source": [
    "Ojo que las variables pueden cambiar de tipo!"
   ]
  },
  {
   "cell_type": "code",
   "execution_count": 14,
   "id": "34f93165",
   "metadata": {
    "execution": {
     "iopub.execute_input": "2021-09-28T20:19:49.759691Z",
     "iopub.status.busy": "2021-09-28T20:19:49.759054Z",
     "iopub.status.idle": "2021-09-28T20:19:49.763757Z",
     "shell.execute_reply": "2021-09-28T20:19:49.763311Z"
    }
   },
   "outputs": [
    {
     "name": "stdout",
     "output_type": "stream",
     "text": [
      "1\n",
      "<class 'int'>\n"
     ]
    }
   ],
   "source": [
    "elemento = 1\n",
    "print(elemento)\n",
    "print(type(elemento))"
   ]
  },
  {
   "cell_type": "code",
   "execution_count": 15,
   "id": "30b9ca94",
   "metadata": {
    "execution": {
     "iopub.execute_input": "2021-09-28T20:19:49.768232Z",
     "iopub.status.busy": "2021-09-28T20:19:49.767689Z",
     "iopub.status.idle": "2021-09-28T20:19:49.769690Z",
     "shell.execute_reply": "2021-09-28T20:19:49.770203Z"
    }
   },
   "outputs": [
    {
     "name": "stdout",
     "output_type": "stream",
     "text": [
      "1\n",
      "<class 'str'>\n"
     ]
    }
   ],
   "source": [
    "elemento = str(1)\n",
    "print(elemento)\n",
    "print(type(elemento))"
   ]
  },
  {
   "cell_type": "code",
   "execution_count": 16,
   "id": "17c6e2bb",
   "metadata": {
    "execution": {
     "iopub.execute_input": "2021-09-28T20:19:49.773115Z",
     "iopub.status.busy": "2021-09-28T20:19:49.772502Z",
     "iopub.status.idle": "2021-09-28T20:19:49.777289Z",
     "shell.execute_reply": "2021-09-28T20:19:49.776835Z"
    }
   },
   "outputs": [
    {
     "name": "stdout",
     "output_type": "stream",
     "text": [
      "[2]\n",
      "<class 'list'>\n"
     ]
    }
   ],
   "source": [
    "elemento = [2]\n",
    "\n",
    "print(elemento)\n",
    "print(type(elemento))"
   ]
  },
  {
   "cell_type": "markdown",
   "id": "fce5a27b",
   "metadata": {},
   "source": [
    "### Tipos basicos"
   ]
  },
  {
   "cell_type": "markdown",
   "id": "a66a26ce",
   "metadata": {
    "slideshow": {
     "slide_type": "slide"
    }
   },
   "source": [
    "#### Listas de Python"
   ]
  },
  {
   "cell_type": "code",
   "execution_count": 17,
   "id": "34ae2da4",
   "metadata": {
    "execution": {
     "iopub.execute_input": "2021-09-28T20:19:49.781454Z",
     "iopub.status.busy": "2021-09-28T20:19:49.780933Z",
     "iopub.status.idle": "2021-09-28T20:19:49.783448Z",
     "shell.execute_reply": "2021-09-28T20:19:49.783887Z"
    }
   },
   "outputs": [
    {
     "data": {
      "text/plain": [
       "[]"
      ]
     },
     "execution_count": 17,
     "metadata": {},
     "output_type": "execute_result"
    }
   ],
   "source": [
    "lista = list()\n",
    "lista"
   ]
  },
  {
   "cell_type": "code",
   "execution_count": 18,
   "id": "730dda33",
   "metadata": {
    "execution": {
     "iopub.execute_input": "2021-09-28T20:19:49.788219Z",
     "iopub.status.busy": "2021-09-28T20:19:49.787603Z",
     "iopub.status.idle": "2021-09-28T20:19:49.791029Z",
     "shell.execute_reply": "2021-09-28T20:19:49.790576Z"
    },
    "slideshow": {
     "slide_type": "slide"
    }
   },
   "outputs": [
    {
     "data": {
      "text/plain": [
       "[]"
      ]
     },
     "execution_count": 18,
     "metadata": {},
     "output_type": "execute_result"
    }
   ],
   "source": [
    "lista = []\n",
    "lista"
   ]
  },
  {
   "cell_type": "code",
   "execution_count": 19,
   "id": "af10f8a4",
   "metadata": {
    "execution": {
     "iopub.execute_input": "2021-09-28T20:19:49.794965Z",
     "iopub.status.busy": "2021-09-28T20:19:49.794398Z",
     "iopub.status.idle": "2021-09-28T20:19:49.797681Z",
     "shell.execute_reply": "2021-09-28T20:19:49.798117Z"
    },
    "slideshow": {
     "slide_type": "slide"
    }
   },
   "outputs": [
    {
     "data": {
      "text/plain": [
       "[1, 2, 3, 4]"
      ]
     },
     "execution_count": 19,
     "metadata": {},
     "output_type": "execute_result"
    }
   ],
   "source": [
    "lista = [1, 2, 3, 4]\n",
    "lista"
   ]
  },
  {
   "cell_type": "code",
   "execution_count": 20,
   "id": "4fb253b7",
   "metadata": {
    "execution": {
     "iopub.execute_input": "2021-09-28T20:19:49.802775Z",
     "iopub.status.busy": "2021-09-28T20:19:49.802189Z",
     "iopub.status.idle": "2021-09-28T20:19:49.805133Z",
     "shell.execute_reply": "2021-09-28T20:19:49.804697Z"
    },
    "slideshow": {
     "slide_type": "slide"
    }
   },
   "outputs": [
    {
     "data": {
      "text/plain": [
       "[1, 2, 3, 4, 1, 'dos', 3.0]"
      ]
     },
     "execution_count": 20,
     "metadata": {},
     "output_type": "execute_result"
    }
   ],
   "source": [
    "lista.append(1)  # Inserto un 1 al final\n",
    "lista.append(\"dos\")  # Inserto un \"dos\" al final\n",
    "lista.append(3.0)  # Inserto un 3.0 al final\n",
    "lista"
   ]
  },
  {
   "cell_type": "code",
   "execution_count": 21,
   "id": "77629625",
   "metadata": {
    "execution": {
     "iopub.execute_input": "2021-09-28T20:19:49.808924Z",
     "iopub.status.busy": "2021-09-28T20:19:49.808416Z",
     "iopub.status.idle": "2021-09-28T20:19:49.810407Z",
     "shell.execute_reply": "2021-09-28T20:19:49.810988Z"
    }
   },
   "outputs": [
    {
     "name": "stdout",
     "output_type": "stream",
     "text": [
      "[1, 2, 10, 3, 4, 1, 'dos', 3.0]\n"
     ]
    }
   ],
   "source": [
    "lista.insert(2, 10)  # Inserto en posicion 2 un 10\n",
    "print(lista)"
   ]
  },
  {
   "cell_type": "code",
   "execution_count": 22,
   "id": "7fe9805e",
   "metadata": {
    "execution": {
     "iopub.execute_input": "2021-09-28T20:19:49.814809Z",
     "iopub.status.busy": "2021-09-28T20:19:49.814311Z",
     "iopub.status.idle": "2021-09-28T20:19:49.817121Z",
     "shell.execute_reply": "2021-09-28T20:19:49.817510Z"
    }
   },
   "outputs": [
    {
     "data": {
      "text/plain": [
       "8"
      ]
     },
     "execution_count": 22,
     "metadata": {},
     "output_type": "execute_result"
    }
   ],
   "source": [
    "len(lista)"
   ]
  },
  {
   "cell_type": "code",
   "execution_count": 23,
   "id": "c3f7472f",
   "metadata": {
    "execution": {
     "iopub.execute_input": "2021-09-28T20:19:49.822195Z",
     "iopub.status.busy": "2021-09-28T20:19:49.821689Z",
     "iopub.status.idle": "2021-09-28T20:19:49.823415Z",
     "shell.execute_reply": "2021-09-28T20:19:49.823822Z"
    }
   },
   "outputs": [
    {
     "data": {
      "text/plain": [
       "3.0"
      ]
     },
     "execution_count": 23,
     "metadata": {},
     "output_type": "execute_result"
    }
   ],
   "source": [
    "lista.pop()"
   ]
  },
  {
   "cell_type": "code",
   "execution_count": 24,
   "id": "e1a95a32",
   "metadata": {
    "execution": {
     "iopub.execute_input": "2021-09-28T20:19:49.827825Z",
     "iopub.status.busy": "2021-09-28T20:19:49.827333Z",
     "iopub.status.idle": "2021-09-28T20:19:49.829926Z",
     "shell.execute_reply": "2021-09-28T20:19:49.830348Z"
    }
   },
   "outputs": [
    {
     "data": {
      "text/plain": [
       "[1, 2, 10, 3, 4, 1, 'dos']"
      ]
     },
     "execution_count": 24,
     "metadata": {},
     "output_type": "execute_result"
    }
   ],
   "source": [
    "lista"
   ]
  },
  {
   "cell_type": "code",
   "execution_count": 25,
   "id": "285cd1a0",
   "metadata": {
    "execution": {
     "iopub.execute_input": "2021-09-28T20:19:49.834609Z",
     "iopub.status.busy": "2021-09-28T20:19:49.834114Z",
     "iopub.status.idle": "2021-09-28T20:19:49.836815Z",
     "shell.execute_reply": "2021-09-28T20:19:49.837494Z"
    }
   },
   "outputs": [
    {
     "data": {
      "text/plain": [
       "2"
      ]
     },
     "execution_count": 25,
     "metadata": {},
     "output_type": "execute_result"
    }
   ],
   "source": [
    "lista.index(10)"
   ]
  },
  {
   "cell_type": "code",
   "execution_count": 26,
   "id": "e658f23e",
   "metadata": {
    "execution": {
     "iopub.execute_input": "2021-09-28T20:19:49.842569Z",
     "iopub.status.busy": "2021-09-28T20:19:49.842062Z",
     "iopub.status.idle": "2021-09-28T20:19:49.843973Z",
     "shell.execute_reply": "2021-09-28T20:19:49.844469Z"
    }
   },
   "outputs": [
    {
     "data": {
      "text/plain": [
       "[1, 2, 3, 4, 1, 'dos']"
      ]
     },
     "execution_count": 26,
     "metadata": {},
     "output_type": "execute_result"
    }
   ],
   "source": [
    "lista.remove(10)\n",
    "lista"
   ]
  },
  {
   "cell_type": "code",
   "execution_count": 27,
   "id": "27215e42",
   "metadata": {
    "execution": {
     "iopub.execute_input": "2021-09-28T20:19:49.849463Z",
     "iopub.status.busy": "2021-09-28T20:19:49.848715Z",
     "iopub.status.idle": "2021-09-28T20:19:49.925988Z",
     "shell.execute_reply": "2021-09-28T20:19:49.925116Z"
    },
    "tags": [
     "raises-exception"
    ]
   },
   "outputs": [
    {
     "name": "stdout",
     "output_type": "stream",
     "text": [
      "1\n",
      "2\n",
      "2\n",
      "3\n",
      "3\n",
      "4\n",
      "4\n",
      "5\n",
      "1\n",
      "2\n",
      "dos\n"
     ]
    },
    {
     "ename": "TypeError",
     "evalue": "can only concatenate str (not \"int\") to str",
     "output_type": "error",
     "traceback": [
      "\u001b[0;31m---------------------------------------------------------------------------\u001b[0m",
      "\u001b[0;31mTypeError\u001b[0m                                 Traceback (most recent call last)",
      "\u001b[0;32m/tmp/ipykernel_1972/1783555086.py\u001b[0m in \u001b[0;36m<module>\u001b[0;34m\u001b[0m\n\u001b[1;32m      1\u001b[0m \u001b[0;32mfor\u001b[0m \u001b[0melemento\u001b[0m \u001b[0;32min\u001b[0m \u001b[0mlista\u001b[0m\u001b[0;34m:\u001b[0m\u001b[0;34m\u001b[0m\u001b[0;34m\u001b[0m\u001b[0m\n\u001b[1;32m      2\u001b[0m     \u001b[0mprint\u001b[0m\u001b[0;34m(\u001b[0m\u001b[0melemento\u001b[0m\u001b[0;34m)\u001b[0m\u001b[0;34m\u001b[0m\u001b[0;34m\u001b[0m\u001b[0m\n\u001b[0;32m----> 3\u001b[0;31m     \u001b[0mprint\u001b[0m\u001b[0;34m(\u001b[0m\u001b[0melemento\u001b[0m \u001b[0;34m+\u001b[0m \u001b[0;36m1\u001b[0m\u001b[0;34m)\u001b[0m\u001b[0;34m\u001b[0m\u001b[0;34m\u001b[0m\u001b[0m\n\u001b[0m",
      "\u001b[0;31mTypeError\u001b[0m: can only concatenate str (not \"int\") to str"
     ]
    }
   ],
   "source": [
    "for elemento in lista:\n",
    "    print(elemento)\n",
    "    print(elemento + 1)"
   ]
  },
  {
   "cell_type": "code",
   "execution_count": 28,
   "id": "6b3407cc",
   "metadata": {
    "execution": {
     "iopub.execute_input": "2021-09-28T20:19:49.931147Z",
     "iopub.status.busy": "2021-09-28T20:19:49.930613Z",
     "iopub.status.idle": "2021-09-28T20:19:49.936255Z",
     "shell.execute_reply": "2021-09-28T20:19:49.935702Z"
    }
   },
   "outputs": [
    {
     "data": {
      "text/plain": [
       "[1, 2, 3, 4, 1, 'dos']"
      ]
     },
     "execution_count": 28,
     "metadata": {},
     "output_type": "execute_result"
    }
   ],
   "source": [
    "lista"
   ]
  },
  {
   "cell_type": "code",
   "execution_count": 29,
   "id": "1767f4cf",
   "metadata": {
    "execution": {
     "iopub.execute_input": "2021-09-28T20:19:49.940586Z",
     "iopub.status.busy": "2021-09-28T20:19:49.938954Z",
     "iopub.status.idle": "2021-09-28T20:19:49.947671Z",
     "shell.execute_reply": "2021-09-28T20:19:49.948173Z"
    }
   },
   "outputs": [
    {
     "name": "stdout",
     "output_type": "stream",
     "text": [
      "0-ésimo elemento: 1"
     ]
    },
    {
     "name": "stdout",
     "output_type": "stream",
     "text": [
      "\n",
      "1-ésimo elemento: 2\n",
      "2-ésimo elemento: 3\n",
      "3-ésimo elemento: 4\n",
      "4-ésimo elemento: 1\n",
      "5-ésimo elemento: dos\n"
     ]
    }
   ],
   "source": [
    "for i, elemento in enumerate(lista):\n",
    "    print(f\"{i}-ésimo elemento: {elemento}\")"
   ]
  },
  {
   "cell_type": "code",
   "execution_count": 30,
   "id": "1d323f91",
   "metadata": {
    "execution": {
     "iopub.execute_input": "2021-09-28T20:19:49.953942Z",
     "iopub.status.busy": "2021-09-28T20:19:49.953414Z",
     "iopub.status.idle": "2021-09-28T20:19:49.959251Z",
     "shell.execute_reply": "2021-09-28T20:19:49.958774Z"
    },
    "tags": [
     "raises-exception"
    ]
   },
   "outputs": [
    {
     "ename": "TypeError",
     "evalue": "'<' not supported between instances of 'str' and 'int'",
     "output_type": "error",
     "traceback": [
      "\u001b[0;31m---------------------------------------------------------------------------\u001b[0m",
      "\u001b[0;31mTypeError\u001b[0m                                 Traceback (most recent call last)",
      "\u001b[0;32m/tmp/ipykernel_1972/2266425520.py\u001b[0m in \u001b[0;36m<module>\u001b[0;34m\u001b[0m\n\u001b[0;32m----> 1\u001b[0;31m \u001b[0msorted\u001b[0m\u001b[0;34m(\u001b[0m\u001b[0mlista\u001b[0m\u001b[0;34m)\u001b[0m\u001b[0;34m\u001b[0m\u001b[0;34m\u001b[0m\u001b[0m\n\u001b[0m",
      "\u001b[0;31mTypeError\u001b[0m: '<' not supported between instances of 'str' and 'int'"
     ]
    }
   ],
   "source": [
    "sorted(lista)"
   ]
  },
  {
   "cell_type": "code",
   "execution_count": 31,
   "id": "f51d96ac",
   "metadata": {
    "execution": {
     "iopub.execute_input": "2021-09-28T20:19:49.962949Z",
     "iopub.status.busy": "2021-09-28T20:19:49.962429Z",
     "iopub.status.idle": "2021-09-28T20:19:49.965718Z",
     "shell.execute_reply": "2021-09-28T20:19:49.966148Z"
    }
   },
   "outputs": [],
   "source": [
    "lista.remove(\"dos\")"
   ]
  },
  {
   "cell_type": "code",
   "execution_count": 32,
   "id": "bf79c0ee",
   "metadata": {
    "execution": {
     "iopub.execute_input": "2021-09-28T20:19:49.971132Z",
     "iopub.status.busy": "2021-09-28T20:19:49.970182Z",
     "iopub.status.idle": "2021-09-28T20:19:49.976108Z",
     "shell.execute_reply": "2021-09-28T20:19:49.975443Z"
    }
   },
   "outputs": [
    {
     "data": {
      "text/plain": [
       "[1, 1, 2, 3, 4]"
      ]
     },
     "execution_count": 32,
     "metadata": {},
     "output_type": "execute_result"
    }
   ],
   "source": [
    "sorted(lista)"
   ]
  },
  {
   "cell_type": "code",
   "execution_count": 33,
   "id": "6bb40e25",
   "metadata": {
    "execution": {
     "iopub.execute_input": "2021-09-28T20:19:49.981163Z",
     "iopub.status.busy": "2021-09-28T20:19:49.980531Z",
     "iopub.status.idle": "2021-09-28T20:19:49.983743Z",
     "shell.execute_reply": "2021-09-28T20:19:49.983291Z"
    }
   },
   "outputs": [
    {
     "data": {
      "text/plain": [
       "[1, 1, 2, 3, 4]"
      ]
     },
     "execution_count": 33,
     "metadata": {},
     "output_type": "execute_result"
    }
   ],
   "source": [
    "lista.sort()\n",
    "lista"
   ]
  },
  {
   "cell_type": "markdown",
   "id": "e74f5c08",
   "metadata": {
    "slideshow": {
     "slide_type": "slide"
    }
   },
   "source": [
    "#### Tuplas de Python\n",
    "\n",
    "Las tuplas son inmutables. No se pueden agregar elementos luego de creadas."
   ]
  },
  {
   "cell_type": "code",
   "execution_count": 34,
   "id": "4a0e0fee",
   "metadata": {
    "execution": {
     "iopub.execute_input": "2021-09-28T20:19:49.988371Z",
     "iopub.status.busy": "2021-09-28T20:19:49.987612Z",
     "iopub.status.idle": "2021-09-28T20:19:49.995612Z",
     "shell.execute_reply": "2021-09-28T20:19:49.995154Z"
    },
    "slideshow": {
     "slide_type": "slide"
    },
    "tags": [
     "raises-exception"
    ]
   },
   "outputs": [
    {
     "name": "stdout",
     "output_type": "stream",
     "text": [
      "(1, 2)\n",
      "1\n",
      "2\n"
     ]
    },
    {
     "ename": "TypeError",
     "evalue": "'tuple' object does not support item assignment",
     "output_type": "error",
     "traceback": [
      "\u001b[0;31m---------------------------------------------------------------------------\u001b[0m",
      "\u001b[0;31mTypeError\u001b[0m                                 Traceback (most recent call last)",
      "\u001b[0;32m/tmp/ipykernel_1972/3644040918.py\u001b[0m in \u001b[0;36m<module>\u001b[0;34m\u001b[0m\n\u001b[1;32m      5\u001b[0m \u001b[0mprint\u001b[0m\u001b[0;34m(\u001b[0m\u001b[0mtupla\u001b[0m\u001b[0;34m[\u001b[0m\u001b[0;36m1\u001b[0m\u001b[0;34m]\u001b[0m\u001b[0;34m)\u001b[0m\u001b[0;34m\u001b[0m\u001b[0;34m\u001b[0m\u001b[0m\n\u001b[1;32m      6\u001b[0m \u001b[0;34m\u001b[0m\u001b[0m\n\u001b[0;32m----> 7\u001b[0;31m \u001b[0mtupla\u001b[0m\u001b[0;34m[\u001b[0m\u001b[0;36m1\u001b[0m\u001b[0;34m]\u001b[0m \u001b[0;34m=\u001b[0m \u001b[0;36m3\u001b[0m  \u001b[0;31m# Falla. No se puede mutar\u001b[0m\u001b[0;34m\u001b[0m\u001b[0;34m\u001b[0m\u001b[0m\n\u001b[0m",
      "\u001b[0;31mTypeError\u001b[0m: 'tuple' object does not support item assignment"
     ]
    }
   ],
   "source": [
    "tupla = (1, 2)\n",
    "\n",
    "print(tupla)\n",
    "print(tupla[0])\n",
    "print(tupla[1])\n",
    "\n",
    "tupla[1] = 3  # Falla. No se puede mutar"
   ]
  },
  {
   "cell_type": "code",
   "execution_count": 35,
   "id": "55413d77",
   "metadata": {
    "execution": {
     "iopub.execute_input": "2021-09-28T20:19:50.001156Z",
     "iopub.status.busy": "2021-09-28T20:19:50.000151Z",
     "iopub.status.idle": "2021-09-28T20:19:50.002753Z",
     "shell.execute_reply": "2021-09-28T20:19:50.003176Z"
    }
   },
   "outputs": [
    {
     "data": {
      "text/plain": [
       "[1, 2]"
      ]
     },
     "execution_count": 35,
     "metadata": {},
     "output_type": "execute_result"
    }
   ],
   "source": [
    "l = [1, 2]\n",
    "l"
   ]
  },
  {
   "cell_type": "code",
   "execution_count": 36,
   "id": "1802a2ec",
   "metadata": {
    "execution": {
     "iopub.execute_input": "2021-09-28T20:19:50.008585Z",
     "iopub.status.busy": "2021-09-28T20:19:50.007577Z",
     "iopub.status.idle": "2021-09-28T20:19:50.010356Z",
     "shell.execute_reply": "2021-09-28T20:19:50.010782Z"
    }
   },
   "outputs": [
    {
     "data": {
      "text/plain": [
       "[1, 3]"
      ]
     },
     "execution_count": 36,
     "metadata": {},
     "output_type": "execute_result"
    }
   ],
   "source": [
    "l[1] = 3\n",
    "l"
   ]
  },
  {
   "cell_type": "markdown",
   "id": "e516ceb0",
   "metadata": {
    "slideshow": {
     "slide_type": "slide"
    }
   },
   "source": [
    "#### Diferencia entre lista y tupla\n",
    "Las listas se caracterizan por ser mutables, es decir, se puede cambiar su contenido en tiempo de ejecución, mientras que las tuplas son inmutables ya que no es posible modificar el contenido una vez creada."
   ]
  },
  {
   "cell_type": "markdown",
   "id": "d71a7390",
   "metadata": {},
   "source": [
    "#### Slices\n",
    "\n",
    "**Valen para listas, tuplas o strings (_segmentos_)**"
   ]
  },
  {
   "cell_type": "code",
   "execution_count": 37,
   "id": "b6f11180",
   "metadata": {
    "execution": {
     "iopub.execute_input": "2021-09-28T20:19:50.015696Z",
     "iopub.status.busy": "2021-09-28T20:19:50.014523Z",
     "iopub.status.idle": "2021-09-28T20:19:50.016419Z",
     "shell.execute_reply": "2021-09-28T20:19:50.016844Z"
    }
   },
   "outputs": [],
   "source": [
    "numeros = [0, 1, 2, 3, 4, 5, 6, 7, 8, 9, 10]"
   ]
  },
  {
   "cell_type": "code",
   "execution_count": 38,
   "id": "98a10f1e",
   "metadata": {
    "execution": {
     "iopub.execute_input": "2021-09-28T20:19:50.022484Z",
     "iopub.status.busy": "2021-09-28T20:19:50.021056Z",
     "iopub.status.idle": "2021-09-28T20:19:50.024187Z",
     "shell.execute_reply": "2021-09-28T20:19:50.023706Z"
    }
   },
   "outputs": [
    {
     "name": "stdout",
     "output_type": "stream",
     "text": [
      "[0, 1, 2, 3, 4, 5, 6, 7, 8, 9, 10]\n"
     ]
    }
   ],
   "source": [
    "print(numeros)"
   ]
  },
  {
   "cell_type": "code",
   "execution_count": 39,
   "id": "f423b848",
   "metadata": {
    "execution": {
     "iopub.execute_input": "2021-09-28T20:19:50.029371Z",
     "iopub.status.busy": "2021-09-28T20:19:50.027883Z",
     "iopub.status.idle": "2021-09-28T20:19:50.031033Z",
     "shell.execute_reply": "2021-09-28T20:19:50.030586Z"
    }
   },
   "outputs": [
    {
     "name": "stdout",
     "output_type": "stream",
     "text": [
      "2\n"
     ]
    }
   ],
   "source": [
    "print(numeros[2])  # Imprimo elemento en la posición 2"
   ]
  },
  {
   "cell_type": "code",
   "execution_count": 40,
   "id": "d8b3c1b7",
   "metadata": {
    "execution": {
     "iopub.execute_input": "2021-09-28T20:19:50.036525Z",
     "iopub.status.busy": "2021-09-28T20:19:50.035970Z",
     "iopub.status.idle": "2021-09-28T20:19:50.038934Z",
     "shell.execute_reply": "2021-09-28T20:19:50.039377Z"
    }
   },
   "outputs": [
    {
     "data": {
      "text/plain": [
       "10"
      ]
     },
     "execution_count": 40,
     "metadata": {},
     "output_type": "execute_result"
    }
   ],
   "source": [
    "numeros[len(numeros) - 1]"
   ]
  },
  {
   "cell_type": "code",
   "execution_count": 41,
   "id": "3e0d57d2",
   "metadata": {
    "execution": {
     "iopub.execute_input": "2021-09-28T20:19:50.045021Z",
     "iopub.status.busy": "2021-09-28T20:19:50.043732Z",
     "iopub.status.idle": "2021-09-28T20:19:50.046774Z",
     "shell.execute_reply": "2021-09-28T20:19:50.046327Z"
    },
    "lines_to_next_cell": 2
   },
   "outputs": [
    {
     "name": "stdout",
     "output_type": "stream",
     "text": [
      "10\n"
     ]
    }
   ],
   "source": [
    "print(numeros[-1])  # # Imprimo elemento en la última posición"
   ]
  },
  {
   "cell_type": "code",
   "execution_count": 42,
   "id": "f2614c5e",
   "metadata": {
    "execution": {
     "iopub.execute_input": "2021-09-28T20:19:50.053793Z",
     "iopub.status.busy": "2021-09-28T20:19:50.052173Z",
     "iopub.status.idle": "2021-09-28T20:19:50.056018Z",
     "shell.execute_reply": "2021-09-28T20:19:50.055507Z"
    },
    "lines_to_next_cell": 2
   },
   "outputs": [
    {
     "data": {
      "text/plain": [
       "9"
      ]
     },
     "execution_count": 42,
     "metadata": {},
     "output_type": "execute_result"
    }
   ],
   "source": [
    "numeros[-2]"
   ]
  },
  {
   "cell_type": "code",
   "execution_count": 43,
   "id": "68a35a01",
   "metadata": {
    "execution": {
     "iopub.execute_input": "2021-09-28T20:19:50.061140Z",
     "iopub.status.busy": "2021-09-28T20:19:50.060617Z",
     "iopub.status.idle": "2021-09-28T20:19:50.064920Z",
     "shell.execute_reply": "2021-09-28T20:19:50.064488Z"
    }
   },
   "outputs": [
    {
     "name": "stdout",
     "output_type": "stream",
     "text": [
      "[0, 1, 2]\n"
     ]
    }
   ],
   "source": [
    "print(numeros[0:3])  # Imprimo de la pos 0 a la pos 2"
   ]
  },
  {
   "cell_type": "code",
   "execution_count": 44,
   "id": "acea0ce4",
   "metadata": {
    "execution": {
     "iopub.execute_input": "2021-09-28T20:19:50.069280Z",
     "iopub.status.busy": "2021-09-28T20:19:50.068546Z",
     "iopub.status.idle": "2021-09-28T20:19:50.073777Z",
     "shell.execute_reply": "2021-09-28T20:19:50.073138Z"
    }
   },
   "outputs": [
    {
     "name": "stdout",
     "output_type": "stream",
     "text": [
      "[7, 8]\n"
     ]
    }
   ],
   "source": [
    "print(numeros[-4:-2])"
   ]
  },
  {
   "cell_type": "code",
   "execution_count": 45,
   "id": "9c60855f",
   "metadata": {
    "execution": {
     "iopub.execute_input": "2021-09-28T20:19:50.078177Z",
     "iopub.status.busy": "2021-09-28T20:19:50.077563Z",
     "iopub.status.idle": "2021-09-28T20:19:50.081018Z",
     "shell.execute_reply": "2021-09-28T20:19:50.080397Z"
    }
   },
   "outputs": [
    {
     "name": "stdout",
     "output_type": "stream",
     "text": [
      "[0, 1, 2, 3, 4, 5, 6, 7, 8, 9, 10]\n"
     ]
    }
   ],
   "source": [
    "print(numeros[0:80])"
   ]
  },
  {
   "cell_type": "code",
   "execution_count": 46,
   "id": "e79273da",
   "metadata": {
    "execution": {
     "iopub.execute_input": "2021-09-28T20:19:50.084787Z",
     "iopub.status.busy": "2021-09-28T20:19:50.084173Z",
     "iopub.status.idle": "2021-09-28T20:19:50.086531Z",
     "shell.execute_reply": "2021-09-28T20:19:50.086017Z"
    }
   },
   "outputs": [
    {
     "name": "stdout",
     "output_type": "stream",
     "text": [
      "[0, 1, 2]\n"
     ]
    }
   ],
   "source": [
    "print(numeros[:3])"
   ]
  },
  {
   "cell_type": "code",
   "execution_count": 47,
   "id": "a0b6ed82",
   "metadata": {
    "execution": {
     "iopub.execute_input": "2021-09-28T20:19:50.090412Z",
     "iopub.status.busy": "2021-09-28T20:19:50.089731Z",
     "iopub.status.idle": "2021-09-28T20:19:50.092351Z",
     "shell.execute_reply": "2021-09-28T20:19:50.091842Z"
    }
   },
   "outputs": [
    {
     "name": "stdout",
     "output_type": "stream",
     "text": [
      "[3, 4, 5, 6, 7, 8, 9, 10]\n"
     ]
    }
   ],
   "source": [
    "print(numeros[3:])"
   ]
  },
  {
   "cell_type": "code",
   "execution_count": 48,
   "id": "a6fbb9ab",
   "metadata": {
    "execution": {
     "iopub.execute_input": "2021-09-28T20:19:50.096188Z",
     "iopub.status.busy": "2021-09-28T20:19:50.095629Z",
     "iopub.status.idle": "2021-09-28T20:19:50.097869Z",
     "shell.execute_reply": "2021-09-28T20:19:50.097403Z"
    }
   },
   "outputs": [
    {
     "name": "stdout",
     "output_type": "stream",
     "text": [
      "[0, 2, 4, 6, 8]\n"
     ]
    }
   ],
   "source": [
    "print(numeros[0:10:2])"
   ]
  },
  {
   "cell_type": "markdown",
   "id": "b68431ea",
   "metadata": {},
   "source": [
    "```python\n",
    "lista[<inicio>:<final>:<step>]\n",
    "```"
   ]
  },
  {
   "cell_type": "code",
   "execution_count": 49,
   "id": "3b4de97b",
   "metadata": {
    "execution": {
     "iopub.execute_input": "2021-09-28T20:19:50.102735Z",
     "iopub.status.busy": "2021-09-28T20:19:50.102170Z",
     "iopub.status.idle": "2021-09-28T20:19:50.105512Z",
     "shell.execute_reply": "2021-09-28T20:19:50.105062Z"
    },
    "lines_to_next_cell": 2
   },
   "outputs": [
    {
     "data": {
      "text/plain": [
       "[1, 2, 3, 4]"
      ]
     },
     "execution_count": 49,
     "metadata": {},
     "output_type": "execute_result"
    }
   ],
   "source": [
    "l1 = [1, 2]\n",
    "l2 = [3, 4]\n",
    "l1 + l2"
   ]
  },
  {
   "cell_type": "code",
   "execution_count": 50,
   "id": "16bdebb2",
   "metadata": {
    "execution": {
     "iopub.execute_input": "2021-09-28T20:19:50.110227Z",
     "iopub.status.busy": "2021-09-28T20:19:50.107451Z",
     "iopub.status.idle": "2021-09-28T20:19:50.112549Z",
     "shell.execute_reply": "2021-09-28T20:19:50.112978Z"
    }
   },
   "outputs": [
    {
     "name": "stdout",
     "output_type": "stream",
     "text": [
      "[0, 1, 2, 3, 4, 5, 6, 'siete', 8, 9, 10]\n"
     ]
    }
   ],
   "source": [
    "numeros[7] = 'siete'  # Las listas se pueden mutar\n",
    "print(numeros)"
   ]
  },
  {
   "cell_type": "code",
   "execution_count": 51,
   "id": "a75f2b13",
   "metadata": {
    "execution": {
     "iopub.execute_input": "2021-09-28T20:19:50.117396Z",
     "iopub.status.busy": "2021-09-28T20:19:50.116884Z",
     "iopub.status.idle": "2021-09-28T20:19:50.118652Z",
     "shell.execute_reply": "2021-09-28T20:19:50.119297Z"
    }
   },
   "outputs": [
    {
     "name": "stdout",
     "output_type": "stream",
     "text": [
      "[10, 9, 8, 'siete', 6, 5, 4, 3, 2, 1, 0]\n"
     ]
    }
   ],
   "source": [
    "numeros = numeros[::-1]\n",
    "print(numeros)"
   ]
  },
  {
   "cell_type": "code",
   "execution_count": 52,
   "id": "d958d0c6",
   "metadata": {
    "execution": {
     "iopub.execute_input": "2021-09-28T20:19:50.125389Z",
     "iopub.status.busy": "2021-09-28T20:19:50.124876Z",
     "iopub.status.idle": "2021-09-28T20:19:50.127354Z",
     "shell.execute_reply": "2021-09-28T20:19:50.127825Z"
    },
    "tags": [
     "raises-exception"
    ]
   },
   "outputs": [
    {
     "ename": "IndexError",
     "evalue": "list index out of range",
     "output_type": "error",
     "traceback": [
      "\u001b[0;31m---------------------------------------------------------------------------\u001b[0m",
      "\u001b[0;31mIndexError\u001b[0m                                Traceback (most recent call last)",
      "\u001b[0;32m/tmp/ipykernel_1972/1255736182.py\u001b[0m in \u001b[0;36m<module>\u001b[0;34m\u001b[0m\n\u001b[0;32m----> 1\u001b[0;31m \u001b[0mprint\u001b[0m\u001b[0;34m(\u001b[0m\u001b[0mnumeros\u001b[0m\u001b[0;34m[\u001b[0m\u001b[0;36m15\u001b[0m\u001b[0;34m]\u001b[0m\u001b[0;34m)\u001b[0m  \u001b[0;31m# Falla. No se puede acceder a una posición inexistente\u001b[0m\u001b[0;34m\u001b[0m\u001b[0;34m\u001b[0m\u001b[0m\n\u001b[0m",
      "\u001b[0;31mIndexError\u001b[0m: list index out of range"
     ]
    }
   ],
   "source": [
    "print(numeros[15])  # Falla. No se puede acceder a una posición inexistente"
   ]
  },
  {
   "cell_type": "code",
   "execution_count": 53,
   "id": "84ec9e61",
   "metadata": {
    "execution": {
     "iopub.execute_input": "2021-09-28T20:19:50.132556Z",
     "iopub.status.busy": "2021-09-28T20:19:50.131912Z",
     "iopub.status.idle": "2021-09-28T20:19:50.134678Z",
     "shell.execute_reply": "2021-09-28T20:19:50.134086Z"
    }
   },
   "outputs": [
    {
     "name": "stdout",
     "output_type": "stream",
     "text": [
      "palabra\n",
      "a\n",
      "pal\n",
      "abra\n"
     ]
    }
   ],
   "source": [
    "palabra = 'palabra'\n",
    "print(palabra)\n",
    "print(palabra[3])\n",
    "print(palabra[:3])\n",
    "print(palabra[3:])"
   ]
  },
  {
   "cell_type": "code",
   "execution_count": 54,
   "id": "f0823198",
   "metadata": {
    "execution": {
     "iopub.execute_input": "2021-09-28T20:19:50.139521Z",
     "iopub.status.busy": "2021-09-28T20:19:50.138949Z",
     "iopub.status.idle": "2021-09-28T20:19:50.141618Z",
     "shell.execute_reply": "2021-09-28T20:19:50.142089Z"
    }
   },
   "outputs": [
    {
     "name": "stdout",
     "output_type": "stream",
     "text": [
      "(0, 1, 2, 3, 4)\n",
      "(0, 1)\n",
      "(2, 3, 4)\n"
     ]
    }
   ],
   "source": [
    "tupla = (0, 1, 2, 3, 4)\n",
    "\n",
    "print(tupla)\n",
    "print(tupla[:2])\n",
    "print(tupla[2:])"
   ]
  },
  {
   "cell_type": "markdown",
   "id": "f5c1b3c8",
   "metadata": {
    "slideshow": {
     "slide_type": "slide"
    }
   },
   "source": [
    "#### Diccionarios de Python\n",
    "\n",
    "Son como hashmaps, las claves deben ser inmutables para que no pierda sentido el diccionario. Si se pudieran modificar, se podrían cambiar las claves y generaría conflictos.\n",
    "\n",
    "Tipos mutables:\n",
    "- Listas\n",
    "- Diccionarios\n",
    "- Sets\n",
    "\n",
    "Tipos inmutables:\n",
    "- Int\n",
    "- Float\n",
    "- String\n",
    "- Tuplas\n"
   ]
  },
  {
   "cell_type": "code",
   "execution_count": 55,
   "id": "36ea6978",
   "metadata": {
    "execution": {
     "iopub.execute_input": "2021-09-28T20:19:50.146847Z",
     "iopub.status.busy": "2021-09-28T20:19:50.144675Z",
     "iopub.status.idle": "2021-09-28T20:19:50.149574Z",
     "shell.execute_reply": "2021-09-28T20:19:50.150123Z"
    },
    "slideshow": {
     "slide_type": "slide"
    }
   },
   "outputs": [
    {
     "data": {
      "text/plain": [
       "{}"
      ]
     },
     "execution_count": 55,
     "metadata": {},
     "output_type": "execute_result"
    }
   ],
   "source": [
    "diccionario = {}\n",
    "diccionario"
   ]
  },
  {
   "cell_type": "code",
   "execution_count": 56,
   "id": "b1fff52b",
   "metadata": {
    "execution": {
     "iopub.execute_input": "2021-09-28T20:19:50.156127Z",
     "iopub.status.busy": "2021-09-28T20:19:50.155497Z",
     "iopub.status.idle": "2021-09-28T20:19:50.157739Z",
     "shell.execute_reply": "2021-09-28T20:19:50.158285Z"
    }
   },
   "outputs": [
    {
     "data": {
      "text/plain": [
       "{}"
      ]
     },
     "execution_count": 56,
     "metadata": {},
     "output_type": "execute_result"
    }
   ],
   "source": [
    "diccionario = dict()\n",
    "diccionario"
   ]
  },
  {
   "cell_type": "code",
   "execution_count": 57,
   "id": "49482dc4",
   "metadata": {
    "execution": {
     "iopub.execute_input": "2021-09-28T20:19:50.163204Z",
     "iopub.status.busy": "2021-09-28T20:19:50.162641Z",
     "iopub.status.idle": "2021-09-28T20:19:50.164638Z",
     "shell.execute_reply": "2021-09-28T20:19:50.165081Z"
    },
    "slideshow": {
     "slide_type": "slide"
    }
   },
   "outputs": [
    {
     "name": "stdout",
     "output_type": "stream",
     "text": [
      "{'clave1': 'valor1', 2: 'valor2', 'clave3': 3}\n"
     ]
    }
   ],
   "source": [
    "# Cómo agregar cosas al diccionario\n",
    "diccionario['clave1'] = 'valor1'\n",
    "diccionario[2] = 'valor2'\n",
    "diccionario['clave3'] = 3\n",
    "print(diccionario)"
   ]
  },
  {
   "cell_type": "markdown",
   "id": "abd67e6f",
   "metadata": {},
   "source": [
    "Hay dos formas de obtener valores de un diccionario:\n",
    "\n",
    "```python\n",
    "diccionario[clave]\n",
    "```\n",
    "\n",
    "El cual devuelve el valor si existe la clave suministrada o bien lanza `KeyError` si no existe."
   ]
  },
  {
   "cell_type": "code",
   "execution_count": 58,
   "id": "f07cf177",
   "metadata": {
    "execution": {
     "iopub.execute_input": "2021-09-28T20:19:50.168820Z",
     "iopub.status.busy": "2021-09-28T20:19:50.168300Z",
     "iopub.status.idle": "2021-09-28T20:19:50.171299Z",
     "shell.execute_reply": "2021-09-28T20:19:50.171822Z"
    }
   },
   "outputs": [
    {
     "data": {
      "text/plain": [
       "'valor1'"
      ]
     },
     "execution_count": 58,
     "metadata": {},
     "output_type": "execute_result"
    }
   ],
   "source": [
    "diccionario['clave1']"
   ]
  },
  {
   "cell_type": "code",
   "execution_count": 59,
   "id": "3554ba6d",
   "metadata": {
    "execution": {
     "iopub.execute_input": "2021-09-28T20:19:50.175332Z",
     "iopub.status.busy": "2021-09-28T20:19:50.174766Z",
     "iopub.status.idle": "2021-09-28T20:19:50.180887Z",
     "shell.execute_reply": "2021-09-28T20:19:50.180220Z"
    },
    "tags": [
     "raises-exception"
    ]
   },
   "outputs": [
    {
     "ename": "KeyError",
     "evalue": "'clave1000'",
     "output_type": "error",
     "traceback": [
      "\u001b[0;31m---------------------------------------------------------------------------\u001b[0m",
      "\u001b[0;31mKeyError\u001b[0m                                  Traceback (most recent call last)",
      "\u001b[0;32m/tmp/ipykernel_1972/3541524662.py\u001b[0m in \u001b[0;36m<module>\u001b[0;34m\u001b[0m\n\u001b[0;32m----> 1\u001b[0;31m \u001b[0mdiccionario\u001b[0m\u001b[0;34m[\u001b[0m\u001b[0;34m'clave1000'\u001b[0m\u001b[0;34m]\u001b[0m\u001b[0;34m\u001b[0m\u001b[0;34m\u001b[0m\u001b[0m\n\u001b[0m",
      "\u001b[0;31mKeyError\u001b[0m: 'clave1000'"
     ]
    }
   ],
   "source": [
    "diccionario['clave1000']"
   ]
  },
  {
   "cell_type": "markdown",
   "id": "1036ad85",
   "metadata": {},
   "source": [
    "La segunda forma es con `get`:"
   ]
  },
  {
   "cell_type": "code",
   "execution_count": 60,
   "id": "c8dc164b",
   "metadata": {
    "execution": {
     "iopub.execute_input": "2021-09-28T20:19:50.198994Z",
     "iopub.status.busy": "2021-09-28T20:19:50.193820Z",
     "iopub.status.idle": "2021-09-28T20:19:50.231571Z",
     "shell.execute_reply": "2021-09-28T20:19:50.232444Z"
    }
   },
   "outputs": [],
   "source": [
    "diccionario.get?"
   ]
  },
  {
   "cell_type": "code",
   "execution_count": 61,
   "id": "fe0092d6",
   "metadata": {
    "execution": {
     "iopub.execute_input": "2021-09-28T20:19:50.236913Z",
     "iopub.status.busy": "2021-09-28T20:19:50.236396Z",
     "iopub.status.idle": "2021-09-28T20:19:50.240638Z",
     "shell.execute_reply": "2021-09-28T20:19:50.240073Z"
    }
   },
   "outputs": [
    {
     "name": "stdout",
     "output_type": "stream",
     "text": [
      "Help on built-in function get:\n",
      "\n",
      "get(key, default=None, /) method of builtins.dict instance\n",
      "    Return the value for key if key is in the dictionary, else default.\n",
      "\n"
     ]
    }
   ],
   "source": [
    "help(diccionario.get)"
   ]
  },
  {
   "cell_type": "code",
   "execution_count": 62,
   "id": "a57cb962",
   "metadata": {
    "execution": {
     "iopub.execute_input": "2021-09-28T20:19:50.245174Z",
     "iopub.status.busy": "2021-09-28T20:19:50.244560Z",
     "iopub.status.idle": "2021-09-28T20:19:50.249129Z",
     "shell.execute_reply": "2021-09-28T20:19:50.248629Z"
    },
    "slideshow": {
     "slide_type": "slide"
    }
   },
   "outputs": [
    {
     "name": "stdout",
     "output_type": "stream",
     "text": [
      "None\n"
     ]
    }
   ],
   "source": [
    "print(diccionario.get('clave1000'))"
   ]
  },
  {
   "cell_type": "code",
   "execution_count": 63,
   "id": "7be00321",
   "metadata": {
    "execution": {
     "iopub.execute_input": "2021-09-28T20:19:50.253286Z",
     "iopub.status.busy": "2021-09-28T20:19:50.252761Z",
     "iopub.status.idle": "2021-09-28T20:19:50.256872Z",
     "shell.execute_reply": "2021-09-28T20:19:50.257313Z"
    },
    "slideshow": {
     "slide_type": "slide"
    }
   },
   "outputs": [
    {
     "name": "stdout",
     "output_type": "stream",
     "text": [
      "True\n"
     ]
    }
   ],
   "source": [
    "print('clave1' in diccionario)  # Verifico si la clave está en el diccionario"
   ]
  },
  {
   "cell_type": "code",
   "execution_count": 64,
   "id": "36725458",
   "metadata": {
    "execution": {
     "iopub.execute_input": "2021-09-28T20:19:50.261720Z",
     "iopub.status.busy": "2021-09-28T20:19:50.261206Z",
     "iopub.status.idle": "2021-09-28T20:19:50.267013Z",
     "shell.execute_reply": "2021-09-28T20:19:50.266562Z"
    }
   },
   "outputs": [
    {
     "data": {
      "text/plain": [
       "True"
      ]
     },
     "execution_count": 64,
     "metadata": {},
     "output_type": "execute_result"
    }
   ],
   "source": [
    "l = [1, 2, 3, 4]\n",
    "2 in l"
   ]
  },
  {
   "cell_type": "code",
   "execution_count": 65,
   "id": "0e745472",
   "metadata": {
    "execution": {
     "iopub.execute_input": "2021-09-28T20:19:50.271161Z",
     "iopub.status.busy": "2021-09-28T20:19:50.270637Z",
     "iopub.status.idle": "2021-09-28T20:19:50.274774Z",
     "shell.execute_reply": "2021-09-28T20:19:50.275206Z"
    }
   },
   "outputs": [
    {
     "name": "stdout",
     "output_type": "stream",
     "text": [
      "la clave es clave1 y el valor es valor1\n",
      "la clave es 2 y el valor es valor2\n",
      "la clave es clave3 y el valor es 3\n"
     ]
    }
   ],
   "source": [
    "for clave, valor in diccionario.items():\n",
    "    print(\"la clave es %s y el valor es %s\" % (clave, valor))"
   ]
  },
  {
   "cell_type": "code",
   "execution_count": 66,
   "id": "9e568139",
   "metadata": {
    "execution": {
     "iopub.execute_input": "2021-09-28T20:19:50.279373Z",
     "iopub.status.busy": "2021-09-28T20:19:50.278861Z",
     "iopub.status.idle": "2021-09-28T20:19:50.283938Z",
     "shell.execute_reply": "2021-09-28T20:19:50.283274Z"
    }
   },
   "outputs": [
    {
     "name": "stdout",
     "output_type": "stream",
     "text": [
      "la clave es clave1 y el valor es valor1\n",
      "la clave es 2 y el valor es valor2\n",
      "la clave es clave3 y el valor es 3\n"
     ]
    }
   ],
   "source": [
    "for clave, valor in diccionario.items():\n",
    "    print(\"la clave es {} y el valor es {}\".format(clave, valor))"
   ]
  },
  {
   "cell_type": "code",
   "execution_count": 67,
   "id": "54d833c7",
   "metadata": {
    "execution": {
     "iopub.execute_input": "2021-09-28T20:19:50.288033Z",
     "iopub.status.busy": "2021-09-28T20:19:50.287438Z",
     "iopub.status.idle": "2021-09-28T20:19:50.290401Z",
     "shell.execute_reply": "2021-09-28T20:19:50.289910Z"
    },
    "slideshow": {
     "slide_type": "slide"
    }
   },
   "outputs": [
    {
     "name": "stdout",
     "output_type": "stream",
     "text": [
      "la clave es clave1 y el valor es valor1\n",
      "la clave es 2 y el valor es valor2\n",
      "la clave es clave3 y el valor es 3\n"
     ]
    }
   ],
   "source": [
    "# Cómo iterar un diccionario elemento por elemento\n",
    "for (\n",
    "    clave,\n",
    "    valor,\n",
    ") in (\n",
    "    diccionario.items()\n",
    "):  # diccionario.items() va devolviendo tuplas con el formato (clave,valor)\n",
    "    print(\n",
    "        f\"la clave es {clave} y el valor es {valor}\"\n",
    "    )  # con esta sintaxis se desempaquetan en clave y valor (similar a enumerate)"
   ]
  },
  {
   "cell_type": "code",
   "execution_count": 68,
   "id": "519f2788",
   "metadata": {
    "execution": {
     "iopub.execute_input": "2021-09-28T20:19:50.294782Z",
     "iopub.status.busy": "2021-09-28T20:19:50.294267Z",
     "iopub.status.idle": "2021-09-28T20:19:50.297453Z",
     "shell.execute_reply": "2021-09-28T20:19:50.297879Z"
    },
    "slideshow": {
     "slide_type": "slide"
    }
   },
   "outputs": [
    {
     "name": "stdout",
     "output_type": "stream",
     "text": [
      "clave1\n",
      "2\n",
      "clave3\n"
     ]
    }
   ],
   "source": [
    "for clave in diccionario.keys():\n",
    "    print(clave)"
   ]
  },
  {
   "cell_type": "code",
   "execution_count": 69,
   "id": "899af082",
   "metadata": {
    "execution": {
     "iopub.execute_input": "2021-09-28T20:19:50.303496Z",
     "iopub.status.busy": "2021-09-28T20:19:50.302016Z",
     "iopub.status.idle": "2021-09-28T20:19:50.305338Z",
     "shell.execute_reply": "2021-09-28T20:19:50.304899Z"
    },
    "slideshow": {
     "slide_type": "slide"
    }
   },
   "outputs": [
    {
     "name": "stdout",
     "output_type": "stream",
     "text": [
      "valor1\n",
      "valor2\n",
      "3\n"
     ]
    }
   ],
   "source": [
    "for valor in diccionario.values():\n",
    "    print(valor)"
   ]
  },
  {
   "cell_type": "markdown",
   "id": "f869d4b5",
   "metadata": {},
   "source": [
    "#### Sets\n",
    "\n",
    "Son similares a los diccionarios (en eficiencia) pero se almacenan solo claves, y tienen algunas operaciones particulares.\n",
    "\n",
    "En particular, no pueden tener elementos iguales (pensar que son conjuntos)"
   ]
  },
  {
   "cell_type": "code",
   "execution_count": 70,
   "id": "716b9966",
   "metadata": {
    "execution": {
     "iopub.execute_input": "2021-09-28T20:19:50.309080Z",
     "iopub.status.busy": "2021-09-28T20:19:50.308532Z",
     "iopub.status.idle": "2021-09-28T20:19:50.313261Z",
     "shell.execute_reply": "2021-09-28T20:19:50.312653Z"
    }
   },
   "outputs": [],
   "source": [
    "set??"
   ]
  },
  {
   "cell_type": "code",
   "execution_count": 71,
   "id": "2e426a73",
   "metadata": {
    "execution": {
     "iopub.execute_input": "2021-09-28T20:19:50.318162Z",
     "iopub.status.busy": "2021-09-28T20:19:50.317637Z",
     "iopub.status.idle": "2021-09-28T20:19:50.320476Z",
     "shell.execute_reply": "2021-09-28T20:19:50.321006Z"
    }
   },
   "outputs": [
    {
     "data": {
      "text/plain": [
       "{1, 2, 3}"
      ]
     },
     "execution_count": 71,
     "metadata": {},
     "output_type": "execute_result"
    }
   ],
   "source": [
    "# Se definen como los diccionarios pero sin hacerlos 'clave:valor', solamente una seguidilla de elementos\n",
    "{1, 2, 2, 3}"
   ]
  },
  {
   "cell_type": "code",
   "execution_count": 72,
   "id": "21bbf298",
   "metadata": {
    "execution": {
     "iopub.execute_input": "2021-09-28T20:19:50.326442Z",
     "iopub.status.busy": "2021-09-28T20:19:50.325829Z",
     "iopub.status.idle": "2021-09-28T20:19:50.328492Z",
     "shell.execute_reply": "2021-09-28T20:19:50.328917Z"
    }
   },
   "outputs": [
    {
     "data": {
      "text/plain": [
       "{1, 2, 3}"
      ]
     },
     "execution_count": 72,
     "metadata": {},
     "output_type": "execute_result"
    }
   ],
   "source": [
    "set([1, 2, 2, 3])"
   ]
  },
  {
   "cell_type": "markdown",
   "id": "729e406d",
   "metadata": {},
   "source": [
    "## Condicionales (if...elif...else)\n",
    "\n",
    "```python\n",
    "if <condición_1>:\n",
    "    <hacer algo_1 si se da la condición_1>\n",
    "elif <condición_2>:\n",
    "    <hacer algo_2 si se da la condición_2>\n",
    "...\n",
    "elif <condición_n>:\n",
    "    <hacer algo_n si se da la condición_n>\n",
    "else:\n",
    "    <hacer otra cosa si no dan las anteriores>\n",
    "```\n",
    "\n",
    "Algo importante para notar es que los bloques se definen por **niveles de identacion**."
   ]
  },
  {
   "cell_type": "code",
   "execution_count": 73,
   "id": "9f248379",
   "metadata": {
    "execution": {
     "iopub.execute_input": "2021-09-28T20:19:50.333704Z",
     "iopub.status.busy": "2021-09-28T20:19:50.333168Z",
     "iopub.status.idle": "2021-09-28T20:19:50.338374Z",
     "shell.execute_reply": "2021-09-28T20:19:50.337896Z"
    }
   },
   "outputs": [
    {
     "name": "stdout",
     "output_type": "stream",
     "text": [
      "uno"
     ]
    },
    {
     "name": "stdout",
     "output_type": "stream",
     "text": [
      "\n"
     ]
    }
   ],
   "source": [
    "v = 1\n",
    "if v == 1:\n",
    "    print(\"uno\")\n",
    "elif v == 2:\n",
    "    print(\"dos\")\n",
    "else:\n",
    "    print(\"ni idea\")\n",
    "    print(v)"
   ]
  },
  {
   "cell_type": "markdown",
   "id": "1f81c903",
   "metadata": {},
   "source": [
    "## Iteraciones\n",
    "\n",
    "```python\n",
    "while cond:\n",
    "    <codigo>\n",
    "```\n",
    "\n",
    "```python\n",
    "for elemento in iterable:\n",
    "    <codigo>\n",
    "```\n",
    "\n",
    "Para iterar sobre un rango de valores, usamos `range`"
   ]
  },
  {
   "cell_type": "code",
   "execution_count": 74,
   "id": "8f00b15c",
   "metadata": {
    "execution": {
     "iopub.execute_input": "2021-09-28T20:19:50.342195Z",
     "iopub.status.busy": "2021-09-28T20:19:50.341628Z",
     "iopub.status.idle": "2021-09-28T20:19:50.344559Z",
     "shell.execute_reply": "2021-09-28T20:19:50.345076Z"
    }
   },
   "outputs": [
    {
     "name": "stdout",
     "output_type": "stream",
     "text": [
      "1\n",
      "4\n",
      "7\n",
      "10\n"
     ]
    }
   ],
   "source": [
    "for i in range(1, 11, 3):\n",
    "    print(i)"
   ]
  },
  {
   "cell_type": "markdown",
   "id": "945c7c93",
   "metadata": {},
   "source": [
    "## Operadores logicos\n",
    "\n",
    "`not`, `or`, `and`"
   ]
  },
  {
   "cell_type": "code",
   "execution_count": 75,
   "id": "f11e22bc",
   "metadata": {
    "execution": {
     "iopub.execute_input": "2021-09-28T20:19:50.350515Z",
     "iopub.status.busy": "2021-09-28T20:19:50.348924Z",
     "iopub.status.idle": "2021-09-28T20:19:50.352237Z",
     "shell.execute_reply": "2021-09-28T20:19:50.351760Z"
    }
   },
   "outputs": [
    {
     "name": "stdout",
     "output_type": "stream",
     "text": [
      "yay\n"
     ]
    }
   ],
   "source": [
    "if True or False:\n",
    "    print(\"yay\")"
   ]
  },
  {
   "cell_type": "code",
   "execution_count": 76,
   "id": "8bb58123",
   "metadata": {
    "execution": {
     "iopub.execute_input": "2021-09-28T20:19:50.357446Z",
     "iopub.status.busy": "2021-09-28T20:19:50.356922Z",
     "iopub.status.idle": "2021-09-28T20:19:50.359576Z",
     "shell.execute_reply": "2021-09-28T20:19:50.360019Z"
    }
   },
   "outputs": [
    {
     "data": {
      "text/plain": [
       "False"
      ]
     },
     "execution_count": 76,
     "metadata": {},
     "output_type": "execute_result"
    }
   ],
   "source": [
    "1 == 2"
   ]
  },
  {
   "cell_type": "code",
   "execution_count": 77,
   "id": "e0b21bc3",
   "metadata": {
    "execution": {
     "iopub.execute_input": "2021-09-28T20:19:50.365585Z",
     "iopub.status.busy": "2021-09-28T20:19:50.364812Z",
     "iopub.status.idle": "2021-09-28T20:19:50.367213Z",
     "shell.execute_reply": "2021-09-28T20:19:50.367722Z"
    }
   },
   "outputs": [
    {
     "data": {
      "text/plain": [
       "True"
      ]
     },
     "execution_count": 77,
     "metadata": {},
     "output_type": "execute_result"
    }
   ],
   "source": [
    "1 != 2"
   ]
  },
  {
   "cell_type": "markdown",
   "id": "3f6c9c0d",
   "metadata": {
    "slideshow": {
     "slide_type": "slide"
    }
   },
   "source": [
    "## Funciones en Python"
   ]
  },
  {
   "cell_type": "code",
   "execution_count": 78,
   "id": "f30f7ff9",
   "metadata": {
    "execution": {
     "iopub.execute_input": "2021-09-28T20:19:50.374131Z",
     "iopub.status.busy": "2021-09-28T20:19:50.373606Z",
     "iopub.status.idle": "2021-09-28T20:19:50.375747Z",
     "shell.execute_reply": "2021-09-28T20:19:50.376203Z"
    },
    "slideshow": {
     "slide_type": "slide"
    }
   },
   "outputs": [
    {
     "name": "stdout",
     "output_type": "stream",
     "text": [
      "True\n",
      "False\n"
     ]
    }
   ],
   "source": [
    "def busqueda_binaria(lista, elemento):\n",
    "    if not lista:\n",
    "        return False\n",
    "    elif len(lista) == 1:\n",
    "        return lista[0] == elemento\n",
    "    mitad = len(lista) // 2  # // es la operación división entera\n",
    "    if lista[mitad] == elemento:\n",
    "        return True\n",
    "    if lista[mitad] > elemento:\n",
    "        return busqueda_binaria(lista[:mitad], elemento)\n",
    "    if lista[mitad] < elemento:\n",
    "        return busqueda_binaria(lista[mitad:], elemento)\n",
    "\n",
    "\n",
    "print(busqueda_binaria([1, 2, 3, 4, 5], 4))\n",
    "print(busqueda_binaria([1, 4, 6, 7, 9, 10], 2))"
   ]
  },
  {
   "cell_type": "code",
   "execution_count": 79,
   "id": "fca869b0",
   "metadata": {
    "execution": {
     "iopub.execute_input": "2021-09-28T20:19:50.380301Z",
     "iopub.status.busy": "2021-09-28T20:19:50.379760Z",
     "iopub.status.idle": "2021-09-28T20:19:50.381947Z",
     "shell.execute_reply": "2021-09-28T20:19:50.382412Z"
    }
   },
   "outputs": [
    {
     "name": "stdout",
     "output_type": "stream",
     "text": [
      "(3, 3, 3)\n"
     ]
    }
   ],
   "source": [
    "def a(b):\n",
    "    if a == 1:\n",
    "        print(a)\n",
    "    return (b, b, b)\n",
    "\n",
    "\n",
    "print(a(3))"
   ]
  },
  {
   "cell_type": "code",
   "execution_count": 80,
   "id": "863f8ce2",
   "metadata": {
    "execution": {
     "iopub.execute_input": "2021-09-28T20:19:50.387571Z",
     "iopub.status.busy": "2021-09-28T20:19:50.387023Z",
     "iopub.status.idle": "2021-09-28T20:19:50.395711Z",
     "shell.execute_reply": "2021-09-28T20:19:50.396209Z"
    },
    "lines_to_next_cell": 2,
    "slideshow": {
     "slide_type": "slide"
    },
    "tags": [
     "raises-exception"
    ]
   },
   "outputs": [
    {
     "name": "stdout",
     "output_type": "stream",
     "text": [
      "3\n",
      "3.0\n",
      "3.0\n",
      "hola como te va\n",
      "[1, 2, 3, 4, 5]\n"
     ]
    },
    {
     "ename": "TypeError",
     "evalue": "can only concatenate str (not \"int\") to str",
     "output_type": "error",
     "traceback": [
      "\u001b[0;31m---------------------------------------------------------------------------\u001b[0m",
      "\u001b[0;31mTypeError\u001b[0m                                 Traceback (most recent call last)",
      "\u001b[0;32m/tmp/ipykernel_1972/1000948441.py\u001b[0m in \u001b[0;36m<module>\u001b[0;34m\u001b[0m\n\u001b[1;32m      8\u001b[0m \u001b[0mprint\u001b[0m\u001b[0;34m(\u001b[0m\u001b[0msuma\u001b[0m\u001b[0;34m(\u001b[0m\u001b[0;34m\"hola \"\u001b[0m\u001b[0;34m,\u001b[0m \u001b[0;34m\"como te va\"\u001b[0m\u001b[0;34m)\u001b[0m\u001b[0;34m)\u001b[0m\u001b[0;34m\u001b[0m\u001b[0;34m\u001b[0m\u001b[0m\n\u001b[1;32m      9\u001b[0m \u001b[0mprint\u001b[0m\u001b[0;34m(\u001b[0m\u001b[0msuma\u001b[0m\u001b[0;34m(\u001b[0m\u001b[0;34m[\u001b[0m\u001b[0;36m1\u001b[0m\u001b[0;34m,\u001b[0m \u001b[0;36m2\u001b[0m\u001b[0;34m,\u001b[0m \u001b[0;36m3\u001b[0m\u001b[0;34m]\u001b[0m\u001b[0;34m,\u001b[0m \u001b[0;34m[\u001b[0m\u001b[0;36m4\u001b[0m\u001b[0;34m,\u001b[0m \u001b[0;36m5\u001b[0m\u001b[0;34m]\u001b[0m\u001b[0;34m)\u001b[0m\u001b[0;34m)\u001b[0m\u001b[0;34m\u001b[0m\u001b[0;34m\u001b[0m\u001b[0m\n\u001b[0;32m---> 10\u001b[0;31m \u001b[0mprint\u001b[0m\u001b[0;34m(\u001b[0m\u001b[0msuma\u001b[0m\u001b[0;34m(\u001b[0m\u001b[0;34m\"1\"\u001b[0m\u001b[0;34m,\u001b[0m \u001b[0;36m3\u001b[0m\u001b[0;34m)\u001b[0m\u001b[0;34m)\u001b[0m  \u001b[0;31m# Falla\u001b[0m\u001b[0;34m\u001b[0m\u001b[0;34m\u001b[0m\u001b[0m\n\u001b[0m",
      "\u001b[0;32m/tmp/ipykernel_1972/1000948441.py\u001b[0m in \u001b[0;36msuma\u001b[0;34m(a, b)\u001b[0m\n\u001b[1;32m      1\u001b[0m \u001b[0;32mdef\u001b[0m \u001b[0msuma\u001b[0m\u001b[0;34m(\u001b[0m\u001b[0ma\u001b[0m\u001b[0;34m,\u001b[0m \u001b[0mb\u001b[0m\u001b[0;34m)\u001b[0m\u001b[0;34m:\u001b[0m\u001b[0;34m\u001b[0m\u001b[0;34m\u001b[0m\u001b[0m\n\u001b[0;32m----> 2\u001b[0;31m     \u001b[0;32mreturn\u001b[0m \u001b[0ma\u001b[0m \u001b[0;34m+\u001b[0m \u001b[0mb\u001b[0m\u001b[0;34m\u001b[0m\u001b[0;34m\u001b[0m\u001b[0m\n\u001b[0m\u001b[1;32m      3\u001b[0m \u001b[0;34m\u001b[0m\u001b[0m\n\u001b[1;32m      4\u001b[0m \u001b[0;34m\u001b[0m\u001b[0m\n\u001b[1;32m      5\u001b[0m \u001b[0mprint\u001b[0m\u001b[0;34m(\u001b[0m\u001b[0msuma\u001b[0m\u001b[0;34m(\u001b[0m\u001b[0;36m1\u001b[0m\u001b[0;34m,\u001b[0m \u001b[0;36m2\u001b[0m\u001b[0;34m)\u001b[0m\u001b[0;34m)\u001b[0m\u001b[0;34m\u001b[0m\u001b[0;34m\u001b[0m\u001b[0m\n",
      "\u001b[0;31mTypeError\u001b[0m: can only concatenate str (not \"int\") to str"
     ]
    }
   ],
   "source": [
    "def suma(a, b):\n",
    "    return a + b\n",
    "\n",
    "\n",
    "print(suma(1, 2))\n",
    "print(suma(1.0, 2.0))\n",
    "print(suma(1.0, 2))\n",
    "print(suma(\"hola \", \"como te va\"))\n",
    "print(suma([1, 2, 3], [4, 5]))\n",
    "print(suma(\"1\", 3))  # Falla"
   ]
  },
  {
   "cell_type": "code",
   "execution_count": 81,
   "id": "28740101",
   "metadata": {
    "execution": {
     "iopub.execute_input": "2021-09-28T20:19:50.401749Z",
     "iopub.status.busy": "2021-09-28T20:19:50.400491Z",
     "iopub.status.idle": "2021-09-28T20:19:50.403665Z",
     "shell.execute_reply": "2021-09-28T20:19:50.402955Z"
    }
   },
   "outputs": [
    {
     "name": "stdout",
     "output_type": "stream",
     "text": [
      "2.0\n"
     ]
    }
   ],
   "source": [
    "# El valor por default de divisor es 1\n",
    "\n",
    "\n",
    "def division(dividendo, divisor=2):\n",
    "    return dividendo / divisor\n",
    "\n",
    "\n",
    "print(division(4))  # Usa el valor por default"
   ]
  },
  {
   "cell_type": "code",
   "execution_count": 82,
   "id": "083a90eb",
   "metadata": {
    "execution": {
     "iopub.execute_input": "2021-09-28T20:19:50.412017Z",
     "iopub.status.busy": "2021-09-28T20:19:50.410869Z",
     "iopub.status.idle": "2021-09-28T20:19:50.415147Z",
     "shell.execute_reply": "2021-09-28T20:19:50.414697Z"
    },
    "tags": [
     "raises-exception"
    ]
   },
   "outputs": [
    {
     "name": "stdout",
     "output_type": "stream",
     "text": [
      "0.5\n",
      "0.5\n"
     ]
    },
    {
     "ename": "TypeError",
     "evalue": "division() missing 1 required positional argument: 'dividendo'",
     "output_type": "error",
     "traceback": [
      "\u001b[0;31m---------------------------------------------------------------------------\u001b[0m",
      "\u001b[0;31mTypeError\u001b[0m                                 Traceback (most recent call last)",
      "\u001b[0;32m/tmp/ipykernel_1972/1004518412.py\u001b[0m in \u001b[0;36m<module>\u001b[0;34m\u001b[0m\n\u001b[1;32m      1\u001b[0m \u001b[0mprint\u001b[0m\u001b[0;34m(\u001b[0m\u001b[0mdivision\u001b[0m\u001b[0;34m(\u001b[0m\u001b[0;36m1\u001b[0m\u001b[0;34m,\u001b[0m \u001b[0;36m2\u001b[0m\u001b[0;34m)\u001b[0m\u001b[0;34m)\u001b[0m  \u001b[0;31m# Parámetros por orden\u001b[0m\u001b[0;34m\u001b[0m\u001b[0;34m\u001b[0m\u001b[0m\n\u001b[1;32m      2\u001b[0m \u001b[0mprint\u001b[0m\u001b[0;34m(\u001b[0m\u001b[0mdivision\u001b[0m\u001b[0;34m(\u001b[0m\u001b[0mdividendo\u001b[0m\u001b[0;34m=\u001b[0m\u001b[0;36m1\u001b[0m\u001b[0;34m,\u001b[0m \u001b[0mdivisor\u001b[0m\u001b[0;34m=\u001b[0m\u001b[0;36m2\u001b[0m\u001b[0;34m)\u001b[0m\u001b[0;34m)\u001b[0m  \u001b[0;31m# Parámetros por nombre\u001b[0m\u001b[0;34m\u001b[0m\u001b[0;34m\u001b[0m\u001b[0m\n\u001b[0;32m----> 3\u001b[0;31m \u001b[0mprint\u001b[0m\u001b[0;34m(\u001b[0m\u001b[0mdivision\u001b[0m\u001b[0;34m(\u001b[0m\u001b[0mdivisor\u001b[0m\u001b[0;34m=\u001b[0m\u001b[0;36m2\u001b[0m\u001b[0;34m)\u001b[0m\u001b[0;34m)\u001b[0m\u001b[0;34m\u001b[0m\u001b[0;34m\u001b[0m\u001b[0m\n\u001b[0m",
      "\u001b[0;31mTypeError\u001b[0m: division() missing 1 required positional argument: 'dividendo'"
     ]
    }
   ],
   "source": [
    "print(division(1, 2))  # Parámetros por orden\n",
    "print(division(dividendo=1, divisor=2))  # Parámetros por nombre\n",
    "print(division(divisor=2))"
   ]
  },
  {
   "cell_type": "code",
   "execution_count": 83,
   "id": "b9bc112c",
   "metadata": {
    "execution": {
     "iopub.execute_input": "2021-09-28T20:19:50.420311Z",
     "iopub.status.busy": "2021-09-28T20:19:50.418963Z",
     "iopub.status.idle": "2021-09-28T20:19:50.422125Z",
     "shell.execute_reply": "2021-09-28T20:19:50.421612Z"
    }
   },
   "outputs": [
    {
     "name": "stdout",
     "output_type": "stream",
     "text": [
      "0.5\n"
     ]
    }
   ],
   "source": [
    "print(division(divisor=2, dividendo=1))"
   ]
  },
  {
   "cell_type": "code",
   "execution_count": 84,
   "id": "eafc8dfb",
   "metadata": {
    "execution": {
     "iopub.execute_input": "2021-09-28T20:19:50.427158Z",
     "iopub.status.busy": "2021-09-28T20:19:50.426632Z",
     "iopub.status.idle": "2021-09-28T20:19:50.429470Z",
     "shell.execute_reply": "2021-09-28T20:19:50.429046Z"
    }
   },
   "outputs": [
    {
     "name": "stdout",
     "output_type": "stream",
     "text": [
      "['a', 'b', 'c']\n",
      "[1, 2, 3]\n",
      "['hola', ' don', ' pepito']\n",
      "hola -  don -  pepito\n"
     ]
    }
   ],
   "source": [
    "# Funciones básicas ya en el lenguaje\n",
    "# Hechas para funcionar para distintos tipos\n",
    "\n",
    "string_ordenado = sorted('bca')\n",
    "print(string_ordenado)\n",
    "\n",
    "lista_ordenada = sorted([1, 3, 2])\n",
    "print(lista_ordenada)\n",
    "\n",
    "separadas = \"hola, don, pepito\".split(\",\")\n",
    "print(separadas)\n",
    "unidas = \" - \".join(separadas)\n",
    "print(unidas)"
   ]
  },
  {
   "cell_type": "markdown",
   "id": "5495364d",
   "metadata": {},
   "source": [
    "## Módulos\n",
    "\n",
    "Para incluir alguna biblioteca de funciones se usa `import`. Pueden ser cosas ya predefinidas en Python (`math`, `random`, etc), nombres de archivos en nuestro directorio (por ejemplo, para `mimodulo.py` ponemos `import mimodulo`) o bibliotecas instaladas por el usuario"
   ]
  },
  {
   "cell_type": "code",
   "execution_count": 85,
   "id": "2c49c1d8",
   "metadata": {
    "execution": {
     "iopub.execute_input": "2021-09-28T20:19:50.433286Z",
     "iopub.status.busy": "2021-09-28T20:19:50.432737Z",
     "iopub.status.idle": "2021-09-28T20:19:50.437018Z",
     "shell.execute_reply": "2021-09-28T20:19:50.437419Z"
    }
   },
   "outputs": [
    {
     "name": "stdout",
     "output_type": "stream",
     "text": [
      "3.141592653589793\n"
     ]
    }
   ],
   "source": [
    "import math\n",
    "\n",
    "print(math.pi)"
   ]
  },
  {
   "cell_type": "code",
   "execution_count": 86,
   "id": "7388669a",
   "metadata": {
    "execution": {
     "iopub.execute_input": "2021-09-28T20:19:50.441254Z",
     "iopub.status.busy": "2021-09-28T20:19:50.440718Z",
     "iopub.status.idle": "2021-09-28T20:19:50.444863Z",
     "shell.execute_reply": "2021-09-28T20:19:50.445263Z"
    }
   },
   "outputs": [
    {
     "name": "stdout",
     "output_type": "stream",
     "text": [
      "3.141592653589793 2.718281828459045\n"
     ]
    }
   ],
   "source": [
    "from math import pi, e\n",
    "\n",
    "print(pi, e)"
   ]
  },
  {
   "cell_type": "code",
   "execution_count": 87,
   "id": "c6ad3b2f",
   "metadata": {
    "execution": {
     "iopub.execute_input": "2021-09-28T20:19:50.449211Z",
     "iopub.status.busy": "2021-09-28T20:19:50.448701Z",
     "iopub.status.idle": "2021-09-28T20:19:50.454432Z",
     "shell.execute_reply": "2021-09-28T20:19:50.453929Z"
    }
   },
   "outputs": [
    {
     "data": {
      "text/plain": [
       "2"
      ]
     },
     "execution_count": 87,
     "metadata": {},
     "output_type": "execute_result"
    }
   ],
   "source": [
    "math.gcd(56, 78)"
   ]
  },
  {
   "cell_type": "markdown",
   "id": "c8e1619c",
   "metadata": {},
   "source": [
    "## Manejo de excepciones\n",
    "\n",
    "Se pueden encapsular errores esperados en un bloque 'try/except' para evitar cortar el flujo del programa"
   ]
  },
  {
   "cell_type": "code",
   "execution_count": 88,
   "id": "e9e5890d",
   "metadata": {
    "execution": {
     "iopub.execute_input": "2021-09-28T20:19:50.462204Z",
     "iopub.status.busy": "2021-09-28T20:19:50.461689Z",
     "iopub.status.idle": "2021-09-28T20:19:50.467372Z",
     "shell.execute_reply": "2021-09-28T20:19:50.466922Z"
    },
    "tags": [
     "raises-exception"
    ]
   },
   "outputs": [
    {
     "ename": "ZeroDivisionError",
     "evalue": "division by zero",
     "output_type": "error",
     "traceback": [
      "\u001b[0;31m---------------------------------------------------------------------------\u001b[0m",
      "\u001b[0;31mZeroDivisionError\u001b[0m                         Traceback (most recent call last)",
      "\u001b[0;32m/tmp/ipykernel_1972/1165346582.py\u001b[0m in \u001b[0;36m<module>\u001b[0;34m\u001b[0m\n\u001b[0;32m----> 1\u001b[0;31m \u001b[0mdivision\u001b[0m\u001b[0;34m(\u001b[0m\u001b[0;36m1\u001b[0m\u001b[0;34m,\u001b[0m \u001b[0;36m0\u001b[0m\u001b[0;34m)\u001b[0m  \u001b[0;31m# No se puede dividir por cero\u001b[0m\u001b[0;34m\u001b[0m\u001b[0;34m\u001b[0m\u001b[0m\n\u001b[0m",
      "\u001b[0;32m/tmp/ipykernel_1972/2607187721.py\u001b[0m in \u001b[0;36mdivision\u001b[0;34m(dividendo, divisor)\u001b[0m\n\u001b[1;32m      3\u001b[0m \u001b[0;34m\u001b[0m\u001b[0m\n\u001b[1;32m      4\u001b[0m \u001b[0;32mdef\u001b[0m \u001b[0mdivision\u001b[0m\u001b[0;34m(\u001b[0m\u001b[0mdividendo\u001b[0m\u001b[0;34m,\u001b[0m \u001b[0mdivisor\u001b[0m\u001b[0;34m=\u001b[0m\u001b[0;36m2\u001b[0m\u001b[0;34m)\u001b[0m\u001b[0;34m:\u001b[0m\u001b[0;34m\u001b[0m\u001b[0;34m\u001b[0m\u001b[0m\n\u001b[0;32m----> 5\u001b[0;31m     \u001b[0;32mreturn\u001b[0m \u001b[0mdividendo\u001b[0m \u001b[0;34m/\u001b[0m \u001b[0mdivisor\u001b[0m\u001b[0;34m\u001b[0m\u001b[0;34m\u001b[0m\u001b[0m\n\u001b[0m\u001b[1;32m      6\u001b[0m \u001b[0;34m\u001b[0m\u001b[0m\n\u001b[1;32m      7\u001b[0m \u001b[0;34m\u001b[0m\u001b[0m\n",
      "\u001b[0;31mZeroDivisionError\u001b[0m: division by zero"
     ]
    }
   ],
   "source": [
    "division(1, 0)  # No se puede dividir por cero"
   ]
  },
  {
   "cell_type": "code",
   "execution_count": 89,
   "id": "50a5fc6d",
   "metadata": {
    "execution": {
     "iopub.execute_input": "2021-09-28T20:19:50.471709Z",
     "iopub.status.busy": "2021-09-28T20:19:50.471175Z",
     "iopub.status.idle": "2021-09-28T20:19:50.474836Z",
     "shell.execute_reply": "2021-09-28T20:19:50.475421Z"
    }
   },
   "outputs": [
    {
     "name": "stdout",
     "output_type": "stream",
     "text": [
      "No se puede dividir por cero, ojo!"
     ]
    },
    {
     "name": "stdout",
     "output_type": "stream",
     "text": [
      " division by zero\n",
      "1\n"
     ]
    }
   ],
   "source": [
    "try:\n",
    "    division(1, 0)\n",
    "except (ZeroDivisionError, TypeError) as e:\n",
    "    print('No se puede dividir por cero, ojo!', e)\n",
    "finally:\n",
    "    print(1)"
   ]
  },
  {
   "cell_type": "markdown",
   "id": "db8097e6",
   "metadata": {
    "slideshow": {
     "slide_type": "slide"
    }
   },
   "source": [
    "## Lectura y escritura de archivos"
   ]
  },
  {
   "cell_type": "code",
   "execution_count": 90,
   "id": "a3fff96a",
   "metadata": {
    "execution": {
     "iopub.execute_input": "2021-09-28T20:19:50.481291Z",
     "iopub.status.busy": "2021-09-28T20:19:50.480179Z",
     "iopub.status.idle": "2021-09-28T20:19:50.483553Z",
     "shell.execute_reply": "2021-09-28T20:19:50.484329Z"
    },
    "slideshow": {
     "slide_type": "slide"
    }
   },
   "outputs": [
    {
     "name": "stdout",
     "output_type": "stream",
     "text": [
      "<_io.TextIOWrapper name='archivo.csv' mode='w' encoding='UTF-8'>\n"
     ]
    }
   ],
   "source": [
    "import random\n",
    "\n",
    "with open(\n",
    "    'archivo.csv', 'w'\n",
    ") as archivo:  # Al usar esta sintaxis no es necesario hacer close\n",
    "    archivo.write(\"Alumno, nota\\n\")\n",
    "    # Tambien de forma similar al fprintf se puede hacer:\n",
    "    # print(\"Alumno, nota\\n\", file=archivo)\n",
    "    for i in range(0, 10):\n",
    "        archivo.write(f\"{i},{random.randrange(0,10)}\\n\")\n",
    "\n",
    "print(archivo)  # Comentario aclaratorio:\n",
    "# Las variables definidas en un determinado scope siguen existiendo por fuera del mismo.\n",
    "# Se debe tener cuidado con esto, ya que nada garantiza que por fuera el valor sea el esperado."
   ]
  },
  {
   "cell_type": "code",
   "execution_count": 91,
   "id": "cce01b2b",
   "metadata": {
    "execution": {
     "iopub.execute_input": "2021-09-28T20:19:50.489094Z",
     "iopub.status.busy": "2021-09-28T20:19:50.488456Z",
     "iopub.status.idle": "2021-09-28T20:19:50.492010Z",
     "shell.execute_reply": "2021-09-28T20:19:50.492496Z"
    },
    "slideshow": {
     "slide_type": "slide"
    }
   },
   "outputs": [
    {
     "name": "stdout",
     "output_type": "stream",
     "text": [
      "Alumno, nota\n",
      "0,8\n",
      "1,5\n",
      "2,9\n",
      "3,1\n",
      "4,3\n",
      "5,0\n",
      "6,1\n",
      "7,1\n",
      "8,9\n",
      "9,4\n"
     ]
    }
   ],
   "source": [
    "with open('archivo.csv', 'r') as f:\n",
    "    for linea in f:\n",
    "        print(linea.strip())"
   ]
  },
  {
   "cell_type": "code",
   "execution_count": 92,
   "id": "bea53085",
   "metadata": {
    "execution": {
     "iopub.execute_input": "2021-09-28T20:19:50.496210Z",
     "iopub.status.busy": "2021-09-28T20:19:50.494813Z",
     "iopub.status.idle": "2021-09-28T20:19:50.498697Z",
     "shell.execute_reply": "2021-09-28T20:19:50.499101Z"
    }
   },
   "outputs": [
    {
     "name": "stdout",
     "output_type": "stream",
     "text": [
      "Alumno, nota\n",
      "0,8\n",
      "1,5\n",
      "2,9\n",
      "3,1\n",
      "4,3\n",
      "5,0\n",
      "6,1\n",
      "7,1\n",
      "8,9\n",
      "9,4\n",
      "\n"
     ]
    }
   ],
   "source": [
    "with open('archivo.csv', 'r') as f:\n",
    "    print(f.read())"
   ]
  },
  {
   "cell_type": "code",
   "execution_count": 93,
   "id": "790e2dd3",
   "metadata": {
    "execution": {
     "iopub.execute_input": "2021-09-28T20:19:50.503023Z",
     "iopub.status.busy": "2021-09-28T20:19:50.502512Z",
     "iopub.status.idle": "2021-09-28T20:19:50.506313Z",
     "shell.execute_reply": "2021-09-28T20:19:50.506771Z"
    }
   },
   "outputs": [],
   "source": [
    "f = open('archivo.csv', 'w')\n",
    "f.write(\"algo, algo\")\n",
    "f.close()"
   ]
  },
  {
   "cell_type": "markdown",
   "id": "d18a4b15",
   "metadata": {
    "slideshow": {
     "slide_type": "slide"
    }
   },
   "source": [
    "## Objetos\n",
    "\n",
    "Los objetos tienen metodos y atributos:\n",
    "- Atributos: equivalentes a variables.\n",
    "- Métodos: equivalentes a las primitivas."
   ]
  },
  {
   "cell_type": "markdown",
   "id": "656e5f17",
   "metadata": {
    "slideshow": {
     "slide_type": "slide"
    }
   },
   "source": [
    "### Cómo creo una clase"
   ]
  },
  {
   "cell_type": "code",
   "execution_count": 94,
   "id": "4eadd1ad",
   "metadata": {
    "execution": {
     "iopub.execute_input": "2021-09-28T20:19:50.512344Z",
     "iopub.status.busy": "2021-09-28T20:19:50.511746Z",
     "iopub.status.idle": "2021-09-28T20:19:50.515448Z",
     "shell.execute_reply": "2021-09-28T20:19:50.514992Z"
    },
    "slideshow": {
     "slide_type": "slide"
    }
   },
   "outputs": [],
   "source": [
    "class Nodo(object):\n",
    "    def __init__(self, dato, siguiente=None):\n",
    "        self._dato = dato\n",
    "        self._siguiente = siguiente\n",
    "\n",
    "    @property\n",
    "    def dato(self):\n",
    "        return self._dato\n",
    "\n",
    "    @property\n",
    "    def proximo(self):\n",
    "        return self._siguiente\n",
    "\n",
    "    @proximo.setter\n",
    "    def proximo(self, siguiente):\n",
    "        self._siguiente = siguiente\n",
    "\n",
    "    def __repr__(self):\n",
    "        return str(self.dato)\n",
    "\n",
    "    def __str__(self):\n",
    "        return str(self.dato)"
   ]
  },
  {
   "cell_type": "code",
   "execution_count": 95,
   "id": "8393b9f6",
   "metadata": {
    "execution": {
     "iopub.execute_input": "2021-09-28T20:19:50.519419Z",
     "iopub.status.busy": "2021-09-28T20:19:50.518906Z",
     "iopub.status.idle": "2021-09-28T20:19:50.523853Z",
     "shell.execute_reply": "2021-09-28T20:19:50.523398Z"
    },
    "slideshow": {
     "slide_type": "slide"
    }
   },
   "outputs": [
    {
     "name": "stdout",
     "output_type": "stream",
     "text": [
      "hola\n"
     ]
    }
   ],
   "source": [
    "nodo = Nodo(\"hola\")\n",
    "print(nodo)"
   ]
  },
  {
   "cell_type": "code",
   "execution_count": 96,
   "id": "218fcf08",
   "metadata": {
    "execution": {
     "iopub.execute_input": "2021-09-28T20:19:50.528129Z",
     "iopub.status.busy": "2021-09-28T20:19:50.527529Z",
     "iopub.status.idle": "2021-09-28T20:19:50.529972Z",
     "shell.execute_reply": "2021-09-28T20:19:50.529509Z"
    },
    "slideshow": {
     "slide_type": "slide"
    }
   },
   "outputs": [
    {
     "name": "stdout",
     "output_type": "stream",
     "text": [
      "[hola, lala]\n"
     ]
    }
   ],
   "source": [
    "nodo2 = Nodo(\"lala\")\n",
    "print([nodo, nodo2])"
   ]
  },
  {
   "cell_type": "code",
   "execution_count": 97,
   "id": "535dfc8f",
   "metadata": {
    "execution": {
     "iopub.execute_input": "2021-09-28T20:19:50.534814Z",
     "iopub.status.busy": "2021-09-28T20:19:50.533991Z",
     "iopub.status.idle": "2021-09-28T20:19:50.537679Z",
     "shell.execute_reply": "2021-09-28T20:19:50.538133Z"
    },
    "slideshow": {
     "slide_type": "slide"
    }
   },
   "outputs": [
    {
     "name": "stdout",
     "output_type": "stream",
     "text": [
      "hola\n"
     ]
    }
   ],
   "source": [
    "nodo3 = nodo.dato\n",
    "print(nodo3)"
   ]
  },
  {
   "cell_type": "markdown",
   "id": "6442710f",
   "metadata": {
    "slideshow": {
     "slide_type": "slide"
    }
   },
   "source": [
    "### Ejemplo: Lista Enlazada"
   ]
  },
  {
   "cell_type": "code",
   "execution_count": 98,
   "id": "7206a5b5",
   "metadata": {
    "execution": {
     "iopub.execute_input": "2021-09-28T20:19:50.546887Z",
     "iopub.status.busy": "2021-09-28T20:19:50.546333Z",
     "iopub.status.idle": "2021-09-28T20:19:50.548634Z",
     "shell.execute_reply": "2021-09-28T20:19:50.549119Z"
    },
    "slideshow": {
     "slide_type": "slide"
    }
   },
   "outputs": [],
   "source": [
    "class ListaEnlazada(object):\n",
    "    def __init__(self):\n",
    "        self._primero = None\n",
    "        self._ultimo = None\n",
    "        self._largo = 0\n",
    "\n",
    "    def __len__(self):\n",
    "        return self._largo\n",
    "\n",
    "    def insertar_al_principio(self, dato):\n",
    "        nodo = Nodo(dato, self._primero)\n",
    "        self._primero = nodo\n",
    "        self._largo += 1\n",
    "        if self._largo == 1:\n",
    "            self._ultimo = nodo\n",
    "\n",
    "    def insertar_al_final(self, dato):\n",
    "        if self._largo != 0:\n",
    "            nodo = Nodo(dato)\n",
    "            nodo_anterior = self._ultimo\n",
    "            nodo_anterior._siguiente = nodo\n",
    "            self._ultimo = nodo\n",
    "            self._largo += 1\n",
    "        else:\n",
    "            self.insertar_al_principio(dato)\n",
    "\n",
    "    @property\n",
    "    def primero(self):\n",
    "        return self._primero.dato\n",
    "\n",
    "    def borrar_primero(self):\n",
    "        dato = self.primero.dato\n",
    "        self._primero = self.primero.siguiente\n",
    "        self._largo -= 1\n",
    "        if self._largo == 0:\n",
    "            self._ultimo = None\n",
    "        return dato\n",
    "\n",
    "    def __str__(self):\n",
    "        datos = []\n",
    "        nodo_actual = self._primero\n",
    "        while nodo_actual:\n",
    "            datos.append(nodo_actual.dato)\n",
    "            nodo_actual = nodo_actual.proximo\n",
    "        return \" -> \".join(datos)\n",
    "\n",
    "    def __repr__(self):\n",
    "        return self.__str__()"
   ]
  },
  {
   "cell_type": "code",
   "execution_count": 99,
   "id": "00411b7f",
   "metadata": {
    "execution": {
     "iopub.execute_input": "2021-09-28T20:19:50.556230Z",
     "iopub.status.busy": "2021-09-28T20:19:50.554984Z",
     "iopub.status.idle": "2021-09-28T20:19:50.558134Z",
     "shell.execute_reply": "2021-09-28T20:19:50.558527Z"
    },
    "slideshow": {
     "slide_type": "slide"
    }
   },
   "outputs": [
    {
     "data": {
      "text/plain": [
       "2"
      ]
     },
     "execution_count": 99,
     "metadata": {},
     "output_type": "execute_result"
    }
   ],
   "source": [
    "lista = ListaEnlazada()\n",
    "lista.insertar_al_principio(\"Primer Dato\")\n",
    "lista.insertar_al_principio(\"Primer primer Dato\")\n",
    "len(lista)"
   ]
  },
  {
   "cell_type": "code",
   "execution_count": 100,
   "id": "5415a038",
   "metadata": {
    "execution": {
     "iopub.execute_input": "2021-09-28T20:19:50.562194Z",
     "iopub.status.busy": "2021-09-28T20:19:50.561692Z",
     "iopub.status.idle": "2021-09-28T20:19:50.564643Z",
     "shell.execute_reply": "2021-09-28T20:19:50.565149Z"
    }
   },
   "outputs": [
    {
     "data": {
      "text/plain": [
       "Primer primer Dato -> Primer Dato"
      ]
     },
     "execution_count": 100,
     "metadata": {},
     "output_type": "execute_result"
    }
   ],
   "source": [
    "lista"
   ]
  },
  {
   "cell_type": "code",
   "execution_count": 101,
   "id": "adcd6521",
   "metadata": {
    "execution": {
     "iopub.execute_input": "2021-09-28T20:19:50.569428Z",
     "iopub.status.busy": "2021-09-28T20:19:50.568774Z",
     "iopub.status.idle": "2021-09-28T20:19:50.571126Z",
     "shell.execute_reply": "2021-09-28T20:19:50.571656Z"
    },
    "slideshow": {
     "slide_type": "slide"
    }
   },
   "outputs": [
    {
     "name": "stdout",
     "output_type": "stream",
     "text": [
      "Primer primer Dato\n"
     ]
    }
   ],
   "source": [
    "elemento = lista.primero\n",
    "print(elemento)"
   ]
  },
  {
   "cell_type": "markdown",
   "id": "480a4d1b",
   "metadata": {},
   "source": [
    "## Recursos\n",
    "\n",
    "* [Taller de Python de Algoritmos II](https://github.com/algoritmos-rw/algo2_apuntes)\n",
    "\n",
    "* [Documentación de Python 3](https://docs.python.org/3/tutorial/)\n",
    "\n",
    "* [Apunte de Algoritmos y Programación I](https://algoritmos1rw.ddns.net/material)\n",
    "\n",
    "* [Automate the Boring Stuff with Python](http://automatetheboringstuff.com/)\n",
    "\n",
    "* [Curso Python](https://pythoncurso.github.io)\n",
    "\n",
    "* [Python Tutor](http://pythontutor.com/)\n",
    "\n",
    "* [Learn Python3 in Y minutes](https://learnxinyminutes.com/docs/python3/)\n",
    "\n",
    "* [Bibliografía de Algoritmos y Programación I](https://algoritmos1rw.ddns.net/bibliografia)"
   ]
  }
 ],
 "metadata": {
  "jupytext": {
   "encoding": "# -*- coding: utf-8 -*-",
   "formats": "ipynb,py:light"
  },
  "kernelspec": {
   "display_name": "Python 3 (venv)",
   "language": "python",
   "name": "python3"
  },
  "language_info": {
   "codemirror_mode": {
    "name": "ipython",
    "version": 3
   },
   "file_extension": ".py",
   "mimetype": "text/x-python",
   "name": "python",
   "nbconvert_exporter": "python",
   "pygments_lexer": "ipython3",
   "version": "3.7.12"
  }
 },
 "nbformat": 4,
 "nbformat_minor": 5
}
