{
 "cells": [
  {
   "cell_type": "markdown",
   "id": "90e5fe9f",
   "metadata": {},
   "source": [
    "## Clase 1 - Introducción a Numpy\n",
    "\n",
    "Numpy es una biblioteca para Python que facilita el manejo de arreglos multidimensionales y ofrece varias herramientas para trabajar con ellos. Muchas de las bibliotecas de Python que son ampliamente usadas hoy en día, como pandas, están construidas sobre numpy.\n",
    "\n",
    "### Listas de Python vs arreglos de Numpy\n",
    "\n",
    "A primera vista, un arreglo de numpy puede resultar idéntico a una lista de python, pero a medida que la cantidad de datos comienza a incrementar, los arreglos de numpy terminan ofreciendo un manejo más eficiente de la memoria.\n",
    "\n",
    "Para comenzar, vamos a crear un arreglo de numpy:"
   ]
  },
  {
   "cell_type": "code",
   "execution_count": 1,
   "id": "901b0131",
   "metadata": {
    "execution": {
     "iopub.execute_input": "2021-09-20T14:10:05.914599Z",
     "iopub.status.busy": "2021-09-20T14:10:05.913960Z",
     "iopub.status.idle": "2021-09-20T14:10:06.051876Z",
     "shell.execute_reply": "2021-09-20T14:10:06.051338Z"
    }
   },
   "outputs": [
    {
     "data": {
      "text/plain": [
       "array([1, 2, 3, 4])"
      ]
     },
     "execution_count": 1,
     "metadata": {},
     "output_type": "execute_result"
    }
   ],
   "source": [
    "import numpy as np\n",
    "\n",
    "np.array([1, 2, 3, 4])"
   ]
  },
  {
   "cell_type": "markdown",
   "id": "5cef22cc",
   "metadata": {},
   "source": [
    "Los arreglos pueden ser también multidimensionales:"
   ]
  },
  {
   "cell_type": "code",
   "execution_count": 2,
   "id": "4228eea4",
   "metadata": {
    "execution": {
     "iopub.execute_input": "2021-09-20T14:10:06.056960Z",
     "iopub.status.busy": "2021-09-20T14:10:06.056476Z",
     "iopub.status.idle": "2021-09-20T14:10:06.061686Z",
     "shell.execute_reply": "2021-09-20T14:10:06.061257Z"
    }
   },
   "outputs": [
    {
     "data": {
      "text/plain": [
       "array([[1, 2, 3, 4],\n",
       "       [5, 6, 7, 8]])"
      ]
     },
     "execution_count": 2,
     "metadata": {},
     "output_type": "execute_result"
    }
   ],
   "source": [
    "np.array([[1, 2, 3, 4], [5, 6, 7, 8]])"
   ]
  },
  {
   "cell_type": "markdown",
   "id": "93d985d4",
   "metadata": {},
   "source": [
    "Es importante tener en cuenta que un arreglo de numpy tiene un tipo fijo de datos, entonces si se quiere agregar un dato de un tipo diferente al de la mayoría, este va a ser modificado para adaptarse al resto"
   ]
  },
  {
   "cell_type": "code",
   "execution_count": 3,
   "id": "5770db91",
   "metadata": {
    "execution": {
     "iopub.execute_input": "2021-09-20T14:10:06.065267Z",
     "iopub.status.busy": "2021-09-20T14:10:06.064781Z",
     "iopub.status.idle": "2021-09-20T14:10:06.068034Z",
     "shell.execute_reply": "2021-09-20T14:10:06.067598Z"
    }
   },
   "outputs": [],
   "source": [
    "enteros = np.array([1, 2, 3, 4])"
   ]
  },
  {
   "cell_type": "markdown",
   "id": "0a7ee97d",
   "metadata": {},
   "source": [
    "Agrego un elemento de tipo flotante en la posición 1"
   ]
  },
  {
   "cell_type": "code",
   "execution_count": 4,
   "id": "2178525c",
   "metadata": {
    "execution": {
     "iopub.execute_input": "2021-09-20T14:10:06.073316Z",
     "iopub.status.busy": "2021-09-20T14:10:06.072818Z",
     "iopub.status.idle": "2021-09-20T14:10:06.075325Z",
     "shell.execute_reply": "2021-09-20T14:10:06.075712Z"
    }
   },
   "outputs": [
    {
     "data": {
      "text/plain": [
       "array([1, 8, 3, 4])"
      ]
     },
     "execution_count": 4,
     "metadata": {},
     "output_type": "execute_result"
    }
   ],
   "source": [
    "enteros[1] = 8.4727\n",
    "enteros"
   ]
  },
  {
   "cell_type": "markdown",
   "id": "0d0f3593",
   "metadata": {},
   "source": [
    "Numpy también nos permite crear arreglos con valores aleatorios del 0 al 1.\n",
    "Basta con pasarle las dimensiones del arreglo que queremos crear."
   ]
  },
  {
   "cell_type": "code",
   "execution_count": 5,
   "id": "43288a2a",
   "metadata": {
    "execution": {
     "iopub.execute_input": "2021-09-20T14:10:06.080667Z",
     "iopub.status.busy": "2021-09-20T14:10:06.080172Z",
     "iopub.status.idle": "2021-09-20T14:10:06.082613Z",
     "shell.execute_reply": "2021-09-20T14:10:06.083001Z"
    }
   },
   "outputs": [
    {
     "data": {
      "text/plain": [
       "array([[0.89932205, 0.68474968, 0.15766899],\n",
       "       [0.78058731, 0.18730178, 0.59806826]])"
      ]
     },
     "execution_count": 5,
     "metadata": {},
     "output_type": "execute_result"
    }
   ],
   "source": [
    "np.random.rand(2, 3)"
   ]
  },
  {
   "cell_type": "markdown",
   "id": "5a53d501",
   "metadata": {},
   "source": [
    "## Slicing\n",
    "\n",
    "De la misma forma que con las listas de python, pueden obtenerse slices de los arreglos de numpy"
   ]
  },
  {
   "cell_type": "code",
   "execution_count": 6,
   "id": "0a14e61d",
   "metadata": {
    "execution": {
     "iopub.execute_input": "2021-09-20T14:10:06.086940Z",
     "iopub.status.busy": "2021-09-20T14:10:06.086447Z",
     "iopub.status.idle": "2021-09-20T14:10:06.088587Z",
     "shell.execute_reply": "2021-09-20T14:10:06.088954Z"
    },
    "lines_to_next_cell": 2
   },
   "outputs": [
    {
     "data": {
      "text/plain": [
       "array([1, 8])"
      ]
     },
     "execution_count": 6,
     "metadata": {},
     "output_type": "execute_result"
    }
   ],
   "source": [
    "enteros[:2]"
   ]
  },
  {
   "cell_type": "code",
   "execution_count": 7,
   "id": "3a16d337",
   "metadata": {
    "execution": {
     "iopub.execute_input": "2021-09-20T14:10:06.093027Z",
     "iopub.status.busy": "2021-09-20T14:10:06.092545Z",
     "iopub.status.idle": "2021-09-20T14:10:06.095982Z",
     "shell.execute_reply": "2021-09-20T14:10:06.096354Z"
    }
   },
   "outputs": [
    {
     "name": "stdout",
     "output_type": "stream",
     "text": [
      "Original: \n",
      "[[ 1  2  3  4]\n",
      " [ 5  6  7  8]\n",
      " [ 9 10 11 12]]\n",
      "\n",
      "Recortada: \n",
      "[[1 2 3]\n",
      " [5 6 7]]\n"
     ]
    }
   ],
   "source": [
    "matriz_de_enteros = np.array([[1, 2, 3, 4], [5, 6, 7, 8], [9, 10, 11, 12]])\n",
    "\n",
    "print('Original: ')\n",
    "print(matriz_de_enteros)\n",
    "\n",
    "print()\n",
    "\n",
    "print('Recortada: ')\n",
    "print(matriz_de_enteros[:2, :3])"
   ]
  },
  {
   "cell_type": "code",
   "execution_count": 8,
   "id": "7655809f",
   "metadata": {
    "execution": {
     "iopub.execute_input": "2021-09-20T14:10:06.100738Z",
     "iopub.status.busy": "2021-09-20T14:10:06.100257Z",
     "iopub.status.idle": "2021-09-20T14:10:06.102344Z",
     "shell.execute_reply": "2021-09-20T14:10:06.102819Z"
    }
   },
   "outputs": [
    {
     "data": {
      "text/plain": [
       "array([[[ 0,  1,  2,  3,  4],\n",
       "        [ 5,  6,  7,  8,  9],\n",
       "        [10, 11, 12, 13, 14]],\n",
       "\n",
       "       [[15, 16, 17, 18, 19],\n",
       "        [20, 21, 22, 23, 24],\n",
       "        [25, 26, 27, 28, 29]],\n",
       "\n",
       "       [[30, 31, 32, 33, 34],\n",
       "        [35, 36, 37, 38, 39],\n",
       "        [40, 41, 42, 43, 44]]])"
      ]
     },
     "execution_count": 8,
     "metadata": {},
     "output_type": "execute_result"
    }
   ],
   "source": [
    "# 3D\n",
    "# arange() genera valores de un intervalo pasado por parámetro\n",
    "# reshape() modifica la forma del numpy array\n",
    "\n",
    "x = np.arange(45).reshape(3, 3, 5)\n",
    "x"
   ]
  },
  {
   "cell_type": "code",
   "execution_count": 9,
   "id": "99c36934",
   "metadata": {
    "execution": {
     "iopub.execute_input": "2021-09-20T14:10:06.106636Z",
     "iopub.status.busy": "2021-09-20T14:10:06.106151Z",
     "iopub.status.idle": "2021-09-20T14:10:06.109028Z",
     "shell.execute_reply": "2021-09-20T14:10:06.108612Z"
    }
   },
   "outputs": [
    {
     "data": {
      "text/plain": [
       "array([[ 0,  1,  2,  3,  4],\n",
       "       [ 5,  6,  7,  8,  9],\n",
       "       [10, 11, 12, 13, 14]])"
      ]
     },
     "execution_count": 9,
     "metadata": {},
     "output_type": "execute_result"
    }
   ],
   "source": [
    "x[0]"
   ]
  },
  {
   "cell_type": "code",
   "execution_count": 10,
   "id": "bd543127",
   "metadata": {
    "execution": {
     "iopub.execute_input": "2021-09-20T14:10:06.112666Z",
     "iopub.status.busy": "2021-09-20T14:10:06.112191Z",
     "iopub.status.idle": "2021-09-20T14:10:06.115173Z",
     "shell.execute_reply": "2021-09-20T14:10:06.114746Z"
    }
   },
   "outputs": [
    {
     "data": {
      "text/plain": [
       "array([5, 6, 7, 8, 9])"
      ]
     },
     "execution_count": 10,
     "metadata": {},
     "output_type": "execute_result"
    }
   ],
   "source": [
    "x[0][1]"
   ]
  },
  {
   "cell_type": "code",
   "execution_count": 11,
   "id": "bedfafef",
   "metadata": {
    "execution": {
     "iopub.execute_input": "2021-09-20T14:10:06.119035Z",
     "iopub.status.busy": "2021-09-20T14:10:06.118560Z",
     "iopub.status.idle": "2021-09-20T14:10:06.121218Z",
     "shell.execute_reply": "2021-09-20T14:10:06.120792Z"
    }
   },
   "outputs": [
    {
     "data": {
      "text/plain": [
       "7"
      ]
     },
     "execution_count": 11,
     "metadata": {},
     "output_type": "execute_result"
    }
   ],
   "source": [
    "x[0][1][2]"
   ]
  },
  {
   "cell_type": "markdown",
   "id": "f3c1997c",
   "metadata": {},
   "source": [
    "\n",
    "¿Cómo conseguimos estos valores? ([fuente](https://towardsdatascience.com/indexing-and-slicing-of-1d-2d-and-3d-arrays-in-numpy-e731afff0bbe))\n",
    "\n",
    "![title](img/matrix.png)"
   ]
  },
  {
   "cell_type": "code",
   "execution_count": 12,
   "id": "1157bc92",
   "metadata": {
    "execution": {
     "iopub.execute_input": "2021-09-20T14:10:06.125079Z",
     "iopub.status.busy": "2021-09-20T14:10:06.124600Z",
     "iopub.status.idle": "2021-09-20T14:10:06.127196Z",
     "shell.execute_reply": "2021-09-20T14:10:06.127587Z"
    }
   },
   "outputs": [
    {
     "data": {
      "text/plain": [
       "array([[[16, 17, 18],\n",
       "        [21, 22, 23]],\n",
       "\n",
       "       [[31, 32, 33],\n",
       "        [36, 37, 38]]])"
      ]
     },
     "execution_count": 12,
     "metadata": {},
     "output_type": "execute_result"
    }
   ],
   "source": [
    "x[1:, 0:2, 1:4]"
   ]
  },
  {
   "cell_type": "markdown",
   "id": "e5a955a0",
   "metadata": {},
   "source": [
    "### Copia de arreglos"
   ]
  },
  {
   "cell_type": "code",
   "execution_count": 13,
   "id": "aad122d3",
   "metadata": {
    "execution": {
     "iopub.execute_input": "2021-09-20T14:10:06.131883Z",
     "iopub.status.busy": "2021-09-20T14:10:06.131405Z",
     "iopub.status.idle": "2021-09-20T14:10:06.134324Z",
     "shell.execute_reply": "2021-09-20T14:10:06.133899Z"
    }
   },
   "outputs": [
    {
     "data": {
      "text/plain": [
       "array([1, 2, 3, 4])"
      ]
     },
     "execution_count": 13,
     "metadata": {},
     "output_type": "execute_result"
    }
   ],
   "source": [
    "# Los arreglos no se copian con asignación\n",
    "\n",
    "a = np.array([1, 2, 3, 4])\n",
    "b = a\n",
    "b"
   ]
  },
  {
   "cell_type": "code",
   "execution_count": 14,
   "id": "753f5be7",
   "metadata": {
    "execution": {
     "iopub.execute_input": "2021-09-20T14:10:06.137986Z",
     "iopub.status.busy": "2021-09-20T14:10:06.137481Z",
     "iopub.status.idle": "2021-09-20T14:10:06.140360Z",
     "shell.execute_reply": "2021-09-20T14:10:06.139943Z"
    }
   },
   "outputs": [
    {
     "data": {
      "text/plain": [
       "array([ 1, 20,  3,  4])"
      ]
     },
     "execution_count": 14,
     "metadata": {},
     "output_type": "execute_result"
    }
   ],
   "source": [
    "b[1] = 20\n",
    "b"
   ]
  },
  {
   "cell_type": "code",
   "execution_count": 15,
   "id": "5de331b1",
   "metadata": {
    "execution": {
     "iopub.execute_input": "2021-09-20T14:10:06.144446Z",
     "iopub.status.busy": "2021-09-20T14:10:06.142346Z",
     "iopub.status.idle": "2021-09-20T14:10:06.146410Z",
     "shell.execute_reply": "2021-09-20T14:10:06.146800Z"
    }
   },
   "outputs": [
    {
     "data": {
      "text/plain": [
       "array([ 1, 20,  3,  4])"
      ]
     },
     "execution_count": 15,
     "metadata": {},
     "output_type": "execute_result"
    }
   ],
   "source": [
    "a"
   ]
  },
  {
   "cell_type": "code",
   "execution_count": 16,
   "id": "9f226a59",
   "metadata": {
    "execution": {
     "iopub.execute_input": "2021-09-20T14:10:06.151345Z",
     "iopub.status.busy": "2021-09-20T14:10:06.150855Z",
     "iopub.status.idle": "2021-09-20T14:10:06.152754Z",
     "shell.execute_reply": "2021-09-20T14:10:06.153144Z"
    }
   },
   "outputs": [
    {
     "data": {
      "text/plain": [
       "array([ 1, 20,  3,  4])"
      ]
     },
     "execution_count": 16,
     "metadata": {},
     "output_type": "execute_result"
    }
   ],
   "source": [
    "# Para copiar un arreglo a otra variable debemos usar copy()\n",
    "\n",
    "a = np.array([1, 2, 3, 4])\n",
    "b = a.copy()\n",
    "b[1] = 20\n",
    "b"
   ]
  },
  {
   "cell_type": "code",
   "execution_count": 17,
   "id": "6e1c4c75",
   "metadata": {
    "execution": {
     "iopub.execute_input": "2021-09-20T14:10:06.157011Z",
     "iopub.status.busy": "2021-09-20T14:10:06.156521Z",
     "iopub.status.idle": "2021-09-20T14:10:06.158474Z",
     "shell.execute_reply": "2021-09-20T14:10:06.158864Z"
    }
   },
   "outputs": [
    {
     "data": {
      "text/plain": [
       "array([1, 2, 3, 4])"
      ]
     },
     "execution_count": 17,
     "metadata": {},
     "output_type": "execute_result"
    }
   ],
   "source": [
    "a"
   ]
  },
  {
   "cell_type": "markdown",
   "id": "ed88205a",
   "metadata": {},
   "source": [
    "### Modificación de dimensiones"
   ]
  },
  {
   "cell_type": "markdown",
   "id": "3ee252ff",
   "metadata": {},
   "source": [
    "Existen varias operaciones para cambiar la forma de un arreglo de numpy"
   ]
  },
  {
   "cell_type": "code",
   "execution_count": 18,
   "id": "32bbe59e",
   "metadata": {
    "execution": {
     "iopub.execute_input": "2021-09-20T14:10:06.162835Z",
     "iopub.status.busy": "2021-09-20T14:10:06.162345Z",
     "iopub.status.idle": "2021-09-20T14:10:06.164412Z",
     "shell.execute_reply": "2021-09-20T14:10:06.164781Z"
    }
   },
   "outputs": [
    {
     "data": {
      "text/plain": [
       "array([[ 1,  2,  3,  4],\n",
       "       [ 5,  6,  7,  8],\n",
       "       [ 9, 10, 11, 12]])"
      ]
     },
     "execution_count": 18,
     "metadata": {},
     "output_type": "execute_result"
    }
   ],
   "source": [
    "matriz_de_enteros"
   ]
  },
  {
   "cell_type": "code",
   "execution_count": 19,
   "id": "7de957e7",
   "metadata": {
    "execution": {
     "iopub.execute_input": "2021-09-20T14:10:06.169014Z",
     "iopub.status.busy": "2021-09-20T14:10:06.168514Z",
     "iopub.status.idle": "2021-09-20T14:10:06.170977Z",
     "shell.execute_reply": "2021-09-20T14:10:06.171368Z"
    }
   },
   "outputs": [
    {
     "data": {
      "text/plain": [
       "2"
      ]
     },
     "execution_count": 19,
     "metadata": {},
     "output_type": "execute_result"
    }
   ],
   "source": [
    "# Obtener las dimensiones del arreglo\n",
    "\n",
    "matriz_de_enteros.ndim"
   ]
  },
  {
   "cell_type": "code",
   "execution_count": 20,
   "id": "444092b0",
   "metadata": {
    "execution": {
     "iopub.execute_input": "2021-09-20T14:10:06.174771Z",
     "iopub.status.busy": "2021-09-20T14:10:06.174297Z",
     "iopub.status.idle": "2021-09-20T14:10:06.178374Z",
     "shell.execute_reply": "2021-09-20T14:10:06.177880Z"
    }
   },
   "outputs": [
    {
     "data": {
      "text/plain": [
       "(3, 4)"
      ]
     },
     "execution_count": 20,
     "metadata": {},
     "output_type": "execute_result"
    }
   ],
   "source": [
    "# Obtener la forma del arreglo\n",
    "\n",
    "matriz_de_enteros.shape"
   ]
  },
  {
   "cell_type": "code",
   "execution_count": 21,
   "id": "0df41bd9",
   "metadata": {
    "execution": {
     "iopub.execute_input": "2021-09-20T14:10:06.183974Z",
     "iopub.status.busy": "2021-09-20T14:10:06.183471Z",
     "iopub.status.idle": "2021-09-20T14:10:06.186881Z",
     "shell.execute_reply": "2021-09-20T14:10:06.186450Z"
    }
   },
   "outputs": [
    {
     "name": "stdout",
     "output_type": "stream",
     "text": [
      "enteros: [ 3  6  9 12]\n"
     ]
    },
    {
     "data": {
      "text/plain": [
       "array([[ 3,  6],\n",
       "       [ 9, 12]])"
      ]
     },
     "execution_count": 21,
     "metadata": {},
     "output_type": "execute_result"
    }
   ],
   "source": [
    "# Modificar la forma de un arreglo\n",
    "\n",
    "enteros = np.array([3, 6, 9, 12])\n",
    "print(f\"enteros: {enteros}\")\n",
    "np.reshape(enteros, (2, 2))"
   ]
  },
  {
   "cell_type": "code",
   "execution_count": 22,
   "id": "1d04936f",
   "metadata": {
    "execution": {
     "iopub.execute_input": "2021-09-20T14:10:06.191597Z",
     "iopub.status.busy": "2021-09-20T14:10:06.191091Z",
     "iopub.status.idle": "2021-09-20T14:10:06.193452Z",
     "shell.execute_reply": "2021-09-20T14:10:06.193860Z"
    }
   },
   "outputs": [
    {
     "data": {
      "text/plain": [
       "array([[1., 1.],\n",
       "       [1., 1.]])"
      ]
     },
     "execution_count": 22,
     "metadata": {},
     "output_type": "execute_result"
    }
   ],
   "source": [
    "# Aplanar un arreglo\n",
    "\n",
    "a = np.ones((2, 2))\n",
    "a"
   ]
  },
  {
   "cell_type": "code",
   "execution_count": 23,
   "id": "150cece5",
   "metadata": {
    "execution": {
     "iopub.execute_input": "2021-09-20T14:10:06.198430Z",
     "iopub.status.busy": "2021-09-20T14:10:06.197931Z",
     "iopub.status.idle": "2021-09-20T14:10:06.200292Z",
     "shell.execute_reply": "2021-09-20T14:10:06.200680Z"
    }
   },
   "outputs": [
    {
     "data": {
      "text/plain": [
       "array([1., 1., 1., 1.])"
      ]
     },
     "execution_count": 23,
     "metadata": {},
     "output_type": "execute_result"
    }
   ],
   "source": [
    "a.flatten()"
   ]
  },
  {
   "cell_type": "code",
   "execution_count": 24,
   "id": "b3d5b505",
   "metadata": {
    "execution": {
     "iopub.execute_input": "2021-09-20T14:10:06.204362Z",
     "iopub.status.busy": "2021-09-20T14:10:06.203891Z",
     "iopub.status.idle": "2021-09-20T14:10:06.206506Z",
     "shell.execute_reply": "2021-09-20T14:10:06.206873Z"
    },
    "lines_to_next_cell": 2
   },
   "outputs": [
    {
     "data": {
      "text/plain": [
       "array([[1., 1.],\n",
       "       [1., 1.]])"
      ]
     },
     "execution_count": 24,
     "metadata": {},
     "output_type": "execute_result"
    }
   ],
   "source": [
    "a"
   ]
  },
  {
   "cell_type": "markdown",
   "id": "270c4d5c",
   "metadata": {},
   "source": [
    "### Combinación de arreglos (Stacking)"
   ]
  },
  {
   "cell_type": "code",
   "execution_count": 25,
   "id": "82f9f27a",
   "metadata": {
    "execution": {
     "iopub.execute_input": "2021-09-20T14:10:06.210924Z",
     "iopub.status.busy": "2021-09-20T14:10:06.210431Z",
     "iopub.status.idle": "2021-09-20T14:10:06.213015Z",
     "shell.execute_reply": "2021-09-20T14:10:06.212562Z"
    }
   },
   "outputs": [
    {
     "data": {
      "text/plain": [
       "array([0, 1, 2, 3, 4])"
      ]
     },
     "execution_count": 25,
     "metadata": {},
     "output_type": "execute_result"
    }
   ],
   "source": [
    "# Los arreglos se pueden combinar verticalmente (se incrementa la cantidad de filas)\n",
    "\n",
    "a = np.arange(0, 5)\n",
    "a"
   ]
  },
  {
   "cell_type": "code",
   "execution_count": 26,
   "id": "baaafc74",
   "metadata": {
    "execution": {
     "iopub.execute_input": "2021-09-20T14:10:06.217052Z",
     "iopub.status.busy": "2021-09-20T14:10:06.216565Z",
     "iopub.status.idle": "2021-09-20T14:10:06.218506Z",
     "shell.execute_reply": "2021-09-20T14:10:06.218899Z"
    }
   },
   "outputs": [
    {
     "data": {
      "text/plain": [
       "array([5, 6, 7, 8, 9])"
      ]
     },
     "execution_count": 26,
     "metadata": {},
     "output_type": "execute_result"
    }
   ],
   "source": [
    "b = np.arange(5, 10)\n",
    "b"
   ]
  },
  {
   "cell_type": "code",
   "execution_count": 27,
   "id": "90f51b24",
   "metadata": {
    "execution": {
     "iopub.execute_input": "2021-09-20T14:10:06.223052Z",
     "iopub.status.busy": "2021-09-20T14:10:06.222579Z",
     "iopub.status.idle": "2021-09-20T14:10:06.226984Z",
     "shell.execute_reply": "2021-09-20T14:10:06.227375Z"
    }
   },
   "outputs": [
    {
     "data": {
      "text/plain": [
       "array([[0, 1, 2, 3, 4],\n",
       "       [5, 6, 7, 8, 9]])"
      ]
     },
     "execution_count": 27,
     "metadata": {},
     "output_type": "execute_result"
    }
   ],
   "source": [
    "combinados_verticalmente = np.vstack((a, b))\n",
    "combinados_verticalmente"
   ]
  },
  {
   "cell_type": "code",
   "execution_count": 28,
   "id": "279e5a0c",
   "metadata": {
    "execution": {
     "iopub.execute_input": "2021-09-20T14:10:06.231504Z",
     "iopub.status.busy": "2021-09-20T14:10:06.231020Z",
     "iopub.status.idle": "2021-09-20T14:10:06.236109Z",
     "shell.execute_reply": "2021-09-20T14:10:06.235683Z"
    }
   },
   "outputs": [
    {
     "data": {
      "text/plain": [
       "array([0, 1, 2, 3, 4, 5, 6, 7, 8, 9])"
      ]
     },
     "execution_count": 28,
     "metadata": {},
     "output_type": "execute_result"
    }
   ],
   "source": [
    "# También se pueden combinar horizontalmente (se incrementa la cantidad de columnas)\n",
    "\n",
    "combinados_horizontalmente = np.hstack((a, b))\n",
    "combinados_horizontalmente"
   ]
  },
  {
   "cell_type": "markdown",
   "id": "e24324e7",
   "metadata": {},
   "source": [
    "### Operaciones matemáticas"
   ]
  },
  {
   "cell_type": "code",
   "execution_count": 29,
   "id": "bf7b4a29",
   "metadata": {
    "execution": {
     "iopub.execute_input": "2021-09-20T14:10:06.240244Z",
     "iopub.status.busy": "2021-09-20T14:10:06.239768Z",
     "iopub.status.idle": "2021-09-20T14:10:06.244429Z",
     "shell.execute_reply": "2021-09-20T14:10:06.244013Z"
    }
   },
   "outputs": [
    {
     "data": {
      "text/plain": [
       "array([3, 4, 5, 6])"
      ]
     },
     "execution_count": 29,
     "metadata": {},
     "output_type": "execute_result"
    }
   ],
   "source": [
    "a = np.array([1, 2, 3, 4])\n",
    "\n",
    "a + 2"
   ]
  },
  {
   "cell_type": "code",
   "execution_count": 30,
   "id": "3233ef4f",
   "metadata": {
    "execution": {
     "iopub.execute_input": "2021-09-20T14:10:06.248176Z",
     "iopub.status.busy": "2021-09-20T14:10:06.246513Z",
     "iopub.status.idle": "2021-09-20T14:10:06.251107Z",
     "shell.execute_reply": "2021-09-20T14:10:06.251499Z"
    }
   },
   "outputs": [
    {
     "data": {
      "text/plain": [
       "array([ 1,  4,  9, 16])"
      ]
     },
     "execution_count": 30,
     "metadata": {},
     "output_type": "execute_result"
    }
   ],
   "source": [
    "a ** 2"
   ]
  },
  {
   "cell_type": "code",
   "execution_count": 31,
   "id": "0e31ae9d",
   "metadata": {
    "execution": {
     "iopub.execute_input": "2021-09-20T14:10:06.255749Z",
     "iopub.status.busy": "2021-09-20T14:10:06.253308Z",
     "iopub.status.idle": "2021-09-20T14:10:06.259877Z",
     "shell.execute_reply": "2021-09-20T14:10:06.259447Z"
    }
   },
   "outputs": [
    {
     "name": "stdout",
     "output_type": "stream",
     "text": [
      "b: [1. 1. 1. 1.]\n"
     ]
    },
    {
     "data": {
      "text/plain": [
       "array([2., 3., 4., 5.])"
      ]
     },
     "execution_count": 31,
     "metadata": {},
     "output_type": "execute_result"
    }
   ],
   "source": [
    "b = np.ones(4)\n",
    "print(f\"b: {b}\")\n",
    "a + b"
   ]
  },
  {
   "cell_type": "markdown",
   "id": "192fa483",
   "metadata": {},
   "source": [
    "### Estadística"
   ]
  },
  {
   "cell_type": "code",
   "execution_count": 32,
   "id": "4458cb9d",
   "metadata": {
    "execution": {
     "iopub.execute_input": "2021-09-20T14:10:06.264869Z",
     "iopub.status.busy": "2021-09-20T14:10:06.264367Z",
     "iopub.status.idle": "2021-09-20T14:10:06.266756Z",
     "shell.execute_reply": "2021-09-20T14:10:06.267140Z"
    }
   },
   "outputs": [
    {
     "data": {
      "text/plain": [
       "1"
      ]
     },
     "execution_count": 32,
     "metadata": {},
     "output_type": "execute_result"
    }
   ],
   "source": [
    "a = np.array([[5, 2, 1, 8], [26, 4, 17, 9]])\n",
    "\n",
    "np.min(a)"
   ]
  },
  {
   "cell_type": "code",
   "execution_count": 33,
   "id": "7af0f881",
   "metadata": {
    "execution": {
     "iopub.execute_input": "2021-09-20T14:10:06.271004Z",
     "iopub.status.busy": "2021-09-20T14:10:06.270531Z",
     "iopub.status.idle": "2021-09-20T14:10:06.273839Z",
     "shell.execute_reply": "2021-09-20T14:10:06.274246Z"
    }
   },
   "outputs": [
    {
     "data": {
      "text/plain": [
       "26"
      ]
     },
     "execution_count": 33,
     "metadata": {},
     "output_type": "execute_result"
    }
   ],
   "source": [
    "np.max(a)"
   ]
  },
  {
   "cell_type": "code",
   "execution_count": 34,
   "id": "912ebd72",
   "metadata": {
    "execution": {
     "iopub.execute_input": "2021-09-20T14:10:06.278706Z",
     "iopub.status.busy": "2021-09-20T14:10:06.278206Z",
     "iopub.status.idle": "2021-09-20T14:10:06.280546Z",
     "shell.execute_reply": "2021-09-20T14:10:06.280931Z"
    }
   },
   "outputs": [
    {
     "data": {
      "text/plain": [
       "72"
      ]
     },
     "execution_count": 34,
     "metadata": {},
     "output_type": "execute_result"
    }
   ],
   "source": [
    "np.sum(a)"
   ]
  },
  {
   "cell_type": "markdown",
   "id": "fa8b8c96",
   "metadata": {},
   "source": [
    "### Más magia"
   ]
  },
  {
   "cell_type": "code",
   "execution_count": 35,
   "id": "19a6679b",
   "metadata": {
    "execution": {
     "iopub.execute_input": "2021-09-20T14:10:06.286131Z",
     "iopub.status.busy": "2021-09-20T14:10:06.285375Z",
     "iopub.status.idle": "2021-09-20T14:10:06.287777Z",
     "shell.execute_reply": "2021-09-20T14:10:06.288167Z"
    }
   },
   "outputs": [
    {
     "data": {
      "text/plain": [
       "array([[False, False, False,  True],\n",
       "       [ True, False,  True,  True]])"
      ]
     },
     "execution_count": 35,
     "metadata": {},
     "output_type": "execute_result"
    }
   ],
   "source": [
    "a = np.array([[5, 2, 1, 8], [26, 4, 17, 9]])\n",
    "\n",
    "a > 5"
   ]
  },
  {
   "cell_type": "code",
   "execution_count": 36,
   "id": "c68e6fcf",
   "metadata": {
    "execution": {
     "iopub.execute_input": "2021-09-20T14:10:06.292907Z",
     "iopub.status.busy": "2021-09-20T14:10:06.292189Z",
     "iopub.status.idle": "2021-09-20T14:10:06.296614Z",
     "shell.execute_reply": "2021-09-20T14:10:06.297007Z"
    }
   },
   "outputs": [
    {
     "data": {
      "text/plain": [
       "array([ 8, 26, 17,  9])"
      ]
     },
     "execution_count": 36,
     "metadata": {},
     "output_type": "execute_result"
    }
   ],
   "source": [
    "a[a > 5]"
   ]
  },
  {
   "cell_type": "markdown",
   "id": "229ea34f",
   "metadata": {},
   "source": [
    "### Broadcasting"
   ]
  },
  {
   "cell_type": "markdown",
   "id": "e0ac9597",
   "metadata": {},
   "source": [
    "Permite realizar operaciones entre dos numpy arrays de distintas dimensiones.\n",
    "Para lograr esto, las dimensiones de los mismos deben ser compatibles. Dos dimensiones son compatibles cuando:\n",
    "1. Son iguales\n",
    "2. Alguna de las dos es 1"
   ]
  },
  {
   "cell_type": "code",
   "execution_count": 37,
   "id": "ac3b4492",
   "metadata": {
    "execution": {
     "iopub.execute_input": "2021-09-20T14:10:06.302383Z",
     "iopub.status.busy": "2021-09-20T14:10:06.301483Z",
     "iopub.status.idle": "2021-09-20T14:10:06.303904Z",
     "shell.execute_reply": "2021-09-20T14:10:06.304294Z"
    }
   },
   "outputs": [
    {
     "data": {
      "text/plain": [
       "array([[ 5,  2,  1,  8],\n",
       "       [26,  4, 17,  9]])"
      ]
     },
     "execution_count": 37,
     "metadata": {},
     "output_type": "execute_result"
    }
   ],
   "source": [
    "a = np.array([[5, 2, 1, 8], [26, 4, 17, 9]])\n",
    "a"
   ]
  },
  {
   "cell_type": "code",
   "execution_count": 38,
   "id": "a14cfdf2",
   "metadata": {
    "execution": {
     "iopub.execute_input": "2021-09-20T14:10:06.308802Z",
     "iopub.status.busy": "2021-09-20T14:10:06.308317Z",
     "iopub.status.idle": "2021-09-20T14:10:06.310191Z",
     "shell.execute_reply": "2021-09-20T14:10:06.310560Z"
    }
   },
   "outputs": [
    {
     "name": "stdout",
     "output_type": "stream",
     "text": [
      "a: (2, 4)\n",
      "b: (4,)\n",
      "\n",
      "a + b:\n",
      " [[10  4  2 16]\n",
      " [31  6 18 17]]\n"
     ]
    }
   ],
   "source": [
    "# Armamos un array que tenga la misma cantidad de columnas que a\n",
    "b = np.array([5, 2, 1, 8])\n",
    "print(f\"a: {a.shape}\")\n",
    "print(f\"b: {b.shape}\")\n",
    "# a + b\n",
    "print()\n",
    "print(f\"a + b:\\n {a + b}\")"
   ]
  },
  {
   "cell_type": "code",
   "execution_count": 39,
   "id": "1271944d",
   "metadata": {
    "execution": {
     "iopub.execute_input": "2021-09-20T14:10:06.314633Z",
     "iopub.status.busy": "2021-09-20T14:10:06.314099Z",
     "iopub.status.idle": "2021-09-20T14:10:06.383291Z",
     "shell.execute_reply": "2021-09-20T14:10:06.383759Z"
    },
    "tags": [
     "raises-exception"
    ]
   },
   "outputs": [
    {
     "name": "stdout",
     "output_type": "stream",
     "text": [
      "a: (2, 4)\n",
      "b: (3,)\n"
     ]
    },
    {
     "ename": "ValueError",
     "evalue": "operands could not be broadcast together with shapes (2,4) (3,) ",
     "output_type": "error",
     "traceback": [
      "\u001b[0;31m---------------------------------------------------------------------------\u001b[0m",
      "\u001b[0;31mValueError\u001b[0m                                Traceback (most recent call last)",
      "\u001b[0;32m/tmp/ipykernel_2015/261865458.py\u001b[0m in \u001b[0;36m<module>\u001b[0;34m\u001b[0m\n\u001b[1;32m      3\u001b[0m \u001b[0mprint\u001b[0m\u001b[0;34m(\u001b[0m\u001b[0;34mf\"a: {a.shape}\"\u001b[0m\u001b[0;34m)\u001b[0m\u001b[0;34m\u001b[0m\u001b[0;34m\u001b[0m\u001b[0m\n\u001b[1;32m      4\u001b[0m \u001b[0mprint\u001b[0m\u001b[0;34m(\u001b[0m\u001b[0;34mf\"b: {b.shape}\"\u001b[0m\u001b[0;34m)\u001b[0m\u001b[0;34m\u001b[0m\u001b[0;34m\u001b[0m\u001b[0m\n\u001b[0;32m----> 5\u001b[0;31m \u001b[0ma\u001b[0m \u001b[0;34m+\u001b[0m \u001b[0mb\u001b[0m\u001b[0;34m\u001b[0m\u001b[0;34m\u001b[0m\u001b[0m\n\u001b[0m",
      "\u001b[0;31mValueError\u001b[0m: operands could not be broadcast together with shapes (2,4) (3,) "
     ]
    }
   ],
   "source": [
    "# Armamos un array que tenga distinta cantidad de filas y columnas que a\n",
    "b = np.array([5, 1, 8])\n",
    "print(f\"a: {a.shape}\")\n",
    "print(f\"b: {b.shape}\")\n",
    "a + b"
   ]
  },
  {
   "cell_type": "code",
   "execution_count": 40,
   "id": "d7b9d9cf",
   "metadata": {
    "execution": {
     "iopub.execute_input": "2021-09-20T14:10:06.389698Z",
     "iopub.status.busy": "2021-09-20T14:10:06.389197Z",
     "iopub.status.idle": "2021-09-20T14:10:06.392599Z",
     "shell.execute_reply": "2021-09-20T14:10:06.392175Z"
    }
   },
   "outputs": [
    {
     "name": "stdout",
     "output_type": "stream",
     "text": [
      "a: (2, 4)\n",
      "b: (2, 1)\n"
     ]
    },
    {
     "data": {
      "text/plain": [
       "array([[ 7,  4,  3, 10],\n",
       "       [27,  5, 18, 10]])"
      ]
     },
     "execution_count": 40,
     "metadata": {},
     "output_type": "execute_result"
    }
   ],
   "source": [
    "# Armamos un array que tenga la misma cantidad de filas que a\n",
    "b = np.array([[2], [1]])\n",
    "print(f\"a: {a.shape}\")\n",
    "print(f\"b: {b.shape}\")\n",
    "a + b"
   ]
  },
  {
   "cell_type": "code",
   "execution_count": 41,
   "id": "2bfe7b1b",
   "metadata": {
    "execution": {
     "iopub.execute_input": "2021-09-20T14:10:06.397020Z",
     "iopub.status.busy": "2021-09-20T14:10:06.396522Z",
     "iopub.status.idle": "2021-09-20T14:10:06.398888Z",
     "shell.execute_reply": "2021-09-20T14:10:06.399628Z"
    }
   },
   "outputs": [
    {
     "data": {
      "text/plain": [
       "array([[ 9,  6,  5, 12],\n",
       "       [30,  8, 21, 13]])"
      ]
     },
     "execution_count": 41,
     "metadata": {},
     "output_type": "execute_result"
    }
   ],
   "source": [
    "# Si b es un entero\n",
    "b = 4\n",
    "a + b"
   ]
  },
  {
   "cell_type": "code",
   "execution_count": null,
   "id": "fed93aea",
   "metadata": {},
   "outputs": [],
   "source": []
  }
 ],
 "metadata": {
  "jupytext": {
   "encoding": "# -*- coding: utf-8 -*-",
   "formats": "ipynb,py:light"
  },
  "kernelspec": {
   "display_name": "Python 3",
   "language": "python",
   "name": "python3"
  },
  "language_info": {
   "codemirror_mode": {
    "name": "ipython",
    "version": 3
   },
   "file_extension": ".py",
   "mimetype": "text/x-python",
   "name": "python",
   "nbconvert_exporter": "python",
   "pygments_lexer": "ipython3",
   "version": "3.7.12"
  }
 },
 "nbformat": 4,
 "nbformat_minor": 5
}
