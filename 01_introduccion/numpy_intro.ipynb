{
 "cells": [
  {
   "cell_type": "markdown",
   "id": "45bff129",
   "metadata": {},
   "source": [
    "## Clase 1 - Introducción a Numpy\n",
    "\n",
    "Numpy es una biblioteca para Python que facilita el manejo de arreglos multidimensionales y ofrece varias herramientas para trabajar con ellos. Muchas de las bibliotecas de Python que son ampliamente usadas hoy en día, como pandas, están construidas sobre numpy.\n",
    "\n",
    "### Listas de Python vs arreglos de Numpy\n",
    "\n",
    "A primera vista, un arreglo de numpy puede resultar idéntico a una lista de python, pero a medida que la cantidad de datos comienza a incrementar, los arreglos de numpy terminan ofreciendo un manejo más eficiente de la memoria.\n",
    "\n",
    "Para comenzar, vamos a crear un arreglo de numpy:"
   ]
  },
  {
   "cell_type": "code",
   "execution_count": 1,
   "id": "c8cf7d21",
   "metadata": {
    "execution": {
     "iopub.execute_input": "2021-05-04T21:08:30.614430Z",
     "iopub.status.busy": "2021-05-04T21:08:30.613850Z",
     "iopub.status.idle": "2021-05-04T21:08:30.749038Z",
     "shell.execute_reply": "2021-05-04T21:08:30.749449Z"
    }
   },
   "outputs": [
    {
     "data": {
      "text/plain": [
       "array([1, 2, 3, 4])"
      ]
     },
     "execution_count": 1,
     "metadata": {},
     "output_type": "execute_result"
    }
   ],
   "source": [
    "import numpy as np\n",
    "\n",
    "np.array([1, 2, 3, 4])"
   ]
  },
  {
   "cell_type": "markdown",
   "id": "4102f7fd",
   "metadata": {},
   "source": [
    "Los arreglos pueden ser también multidimensionales:"
   ]
  },
  {
   "cell_type": "code",
   "execution_count": 2,
   "id": "9260cf29",
   "metadata": {
    "execution": {
     "iopub.execute_input": "2021-05-04T21:08:30.753796Z",
     "iopub.status.busy": "2021-05-04T21:08:30.753293Z",
     "iopub.status.idle": "2021-05-04T21:08:30.758091Z",
     "shell.execute_reply": "2021-05-04T21:08:30.757664Z"
    }
   },
   "outputs": [
    {
     "data": {
      "text/plain": [
       "array([[1, 2, 3, 4],\n",
       "       [5, 6, 7, 8]])"
      ]
     },
     "execution_count": 1,
     "metadata": {},
     "output_type": "execute_result"
    }
   ],
   "source": [
    "np.array([[1, 2, 3, 4], [5, 6, 7, 8]])"
   ]
  },
  {
   "cell_type": "markdown",
   "id": "a3ab973a",
   "metadata": {},
   "source": [
    "Es importante tener en cuenta que un arreglo de numpy tiene un tipo fijo de datos, entonces si se quiere agregar un dato de un tipo diferente al de la mayoría, este va a ser modificado para adaptarse al resto"
   ]
  },
  {
   "cell_type": "code",
   "execution_count": 3,
   "id": "fb716b50",
   "metadata": {
    "execution": {
     "iopub.execute_input": "2021-05-04T21:08:30.761545Z",
     "iopub.status.busy": "2021-05-04T21:08:30.761072Z",
     "iopub.status.idle": "2021-05-04T21:08:30.762802Z",
     "shell.execute_reply": "2021-05-04T21:08:30.763215Z"
    }
   },
   "outputs": [],
   "source": [
    "enteros = np.array([1, 2, 3, 4])"
   ]
  },
  {
   "cell_type": "markdown",
   "id": "9acdf108",
   "metadata": {},
   "source": [
    "Agrego un elemento de tipo flotante en la posición 1"
   ]
  },
  {
   "cell_type": "code",
   "execution_count": 4,
   "id": "014701ab",
   "metadata": {
    "execution": {
     "iopub.execute_input": "2021-05-04T21:08:30.766772Z",
     "iopub.status.busy": "2021-05-04T21:08:30.766299Z",
     "iopub.status.idle": "2021-05-04T21:08:30.768457Z",
     "shell.execute_reply": "2021-05-04T21:08:30.768928Z"
    }
   },
   "outputs": [
    {
     "data": {
      "text/plain": [
       "array([1, 8, 3, 4])"
      ]
     },
     "execution_count": 1,
     "metadata": {},
     "output_type": "execute_result"
    }
   ],
   "source": [
    "enteros[1] = 8.4727\n",
    "enteros"
   ]
  },
  {
   "cell_type": "markdown",
   "id": "3063bacc",
   "metadata": {},
   "source": [
    "Numpy también nos permite crear arreglos con valores aleatorios del 0 al 1.\n",
    "Basta con pasarle las dimensiones del arreglo que queremos crear."
   ]
  },
  {
   "cell_type": "code",
   "execution_count": 5,
   "id": "bb06cd10",
   "metadata": {
    "execution": {
     "iopub.execute_input": "2021-05-04T21:08:30.772859Z",
     "iopub.status.busy": "2021-05-04T21:08:30.772394Z",
     "iopub.status.idle": "2021-05-04T21:08:30.775008Z",
     "shell.execute_reply": "2021-05-04T21:08:30.774596Z"
    }
   },
   "outputs": [
    {
     "data": {
      "text/plain": [
       "array([[0.94556869, 0.80416997, 0.85140937],\n",
       "       [0.28071152, 0.06798048, 0.45096666]])"
      ]
     },
     "execution_count": 1,
     "metadata": {},
     "output_type": "execute_result"
    }
   ],
   "source": [
    "np.random.rand(2, 3)"
   ]
  },
  {
   "cell_type": "markdown",
   "id": "5004d8f7",
   "metadata": {},
   "source": [
    "## Slicing\n",
    "\n",
    "De la misma forma que con las listas de python, pueden obtenerse slices de los arreglos de numpy"
   ]
  },
  {
   "cell_type": "code",
   "execution_count": 6,
   "id": "2aa6ed55",
   "metadata": {
    "execution": {
     "iopub.execute_input": "2021-05-04T21:08:30.778481Z",
     "iopub.status.busy": "2021-05-04T21:08:30.778016Z",
     "iopub.status.idle": "2021-05-04T21:08:30.780622Z",
     "shell.execute_reply": "2021-05-04T21:08:30.780210Z"
    },
    "lines_to_next_cell": 2
   },
   "outputs": [
    {
     "data": {
      "text/plain": [
       "array([1, 8])"
      ]
     },
     "execution_count": 1,
     "metadata": {},
     "output_type": "execute_result"
    }
   ],
   "source": [
    "enteros[:2]"
   ]
  },
  {
   "cell_type": "code",
   "execution_count": 7,
   "id": "956e6b57",
   "metadata": {
    "execution": {
     "iopub.execute_input": "2021-05-04T21:08:30.785354Z",
     "iopub.status.busy": "2021-05-04T21:08:30.784872Z",
     "iopub.status.idle": "2021-05-04T21:08:30.786814Z",
     "shell.execute_reply": "2021-05-04T21:08:30.787174Z"
    }
   },
   "outputs": [
    {
     "name": "stdout",
     "output_type": "stream",
     "text": [
      "Original: \n",
      "[[ 1  2  3  4]\n",
      " [ 5  6  7  8]\n",
      " [ 9 10 11 12]]\n",
      "\n",
      "Recortada: \n",
      "[[1 2 3]\n",
      " [5 6 7]]\n"
     ]
    }
   ],
   "source": [
    "matriz_de_enteros = np.array([[1, 2, 3, 4], [5, 6, 7, 8], [9, 10, 11, 12]])\n",
    "\n",
    "print('Original: ')\n",
    "print(matriz_de_enteros)\n",
    "\n",
    "print()\n",
    "\n",
    "print('Recortada: ')\n",
    "print(matriz_de_enteros[:2, :3])"
   ]
  },
  {
   "cell_type": "code",
   "execution_count": 8,
   "id": "e4dbed0a",
   "metadata": {
    "execution": {
     "iopub.execute_input": "2021-05-04T21:08:30.790909Z",
     "iopub.status.busy": "2021-05-04T21:08:30.790435Z",
     "iopub.status.idle": "2021-05-04T21:08:30.793080Z",
     "shell.execute_reply": "2021-05-04T21:08:30.792600Z"
    }
   },
   "outputs": [
    {
     "data": {
      "text/plain": [
       "array([[[ 0,  1,  2,  3,  4],\n",
       "        [ 5,  6,  7,  8,  9],\n",
       "        [10, 11, 12, 13, 14]],\n",
       "\n",
       "       [[15, 16, 17, 18, 19],\n",
       "        [20, 21, 22, 23, 24],\n",
       "        [25, 26, 27, 28, 29]],\n",
       "\n",
       "       [[30, 31, 32, 33, 34],\n",
       "        [35, 36, 37, 38, 39],\n",
       "        [40, 41, 42, 43, 44]]])"
      ]
     },
     "execution_count": 1,
     "metadata": {},
     "output_type": "execute_result"
    }
   ],
   "source": [
    "# 3D\n",
    "# arange() genera valores de un intervalo pasado por parámetro\n",
    "# reshape() modifica la forma del numpy array\n",
    "\n",
    "x = np.arange(45).reshape(3, 3, 5)\n",
    "x"
   ]
  },
  {
   "cell_type": "code",
   "execution_count": 9,
   "id": "541d09dc",
   "metadata": {
    "execution": {
     "iopub.execute_input": "2021-05-04T21:08:30.796378Z",
     "iopub.status.busy": "2021-05-04T21:08:30.795915Z",
     "iopub.status.idle": "2021-05-04T21:08:30.798647Z",
     "shell.execute_reply": "2021-05-04T21:08:30.798239Z"
    }
   },
   "outputs": [
    {
     "data": {
      "text/plain": [
       "array([[ 0,  1,  2,  3,  4],\n",
       "       [ 5,  6,  7,  8,  9],\n",
       "       [10, 11, 12, 13, 14]])"
      ]
     },
     "execution_count": 1,
     "metadata": {},
     "output_type": "execute_result"
    }
   ],
   "source": [
    "x[0]"
   ]
  },
  {
   "cell_type": "code",
   "execution_count": 10,
   "id": "94815685",
   "metadata": {
    "execution": {
     "iopub.execute_input": "2021-05-04T21:08:30.801957Z",
     "iopub.status.busy": "2021-05-04T21:08:30.801490Z",
     "iopub.status.idle": "2021-05-04T21:08:30.804340Z",
     "shell.execute_reply": "2021-05-04T21:08:30.803902Z"
    }
   },
   "outputs": [
    {
     "data": {
      "text/plain": [
       "array([5, 6, 7, 8, 9])"
      ]
     },
     "execution_count": 1,
     "metadata": {},
     "output_type": "execute_result"
    }
   ],
   "source": [
    "x[0][1]"
   ]
  },
  {
   "cell_type": "code",
   "execution_count": 11,
   "id": "aa8406eb",
   "metadata": {
    "execution": {
     "iopub.execute_input": "2021-05-04T21:08:30.807717Z",
     "iopub.status.busy": "2021-05-04T21:08:30.807224Z",
     "iopub.status.idle": "2021-05-04T21:08:30.810252Z",
     "shell.execute_reply": "2021-05-04T21:08:30.809835Z"
    }
   },
   "outputs": [
    {
     "data": {
      "text/plain": [
       "7"
      ]
     },
     "execution_count": 1,
     "metadata": {},
     "output_type": "execute_result"
    }
   ],
   "source": [
    "x[0][1][2]"
   ]
  },
  {
   "cell_type": "markdown",
   "id": "f44f99de",
   "metadata": {},
   "source": [
    "\n",
    "¿Cómo conseguimos estos valores? ([fuente](https://towardsdatascience.com/indexing-and-slicing-of-1d-2d-and-3d-arrays-in-numpy-e731afff0bbe))\n",
    "\n",
    "![title](img/matrix.png)"
   ]
  },
  {
   "cell_type": "code",
   "execution_count": 12,
   "id": "0f565ef5",
   "metadata": {
    "execution": {
     "iopub.execute_input": "2021-05-04T21:08:30.814116Z",
     "iopub.status.busy": "2021-05-04T21:08:30.813649Z",
     "iopub.status.idle": "2021-05-04T21:08:30.816383Z",
     "shell.execute_reply": "2021-05-04T21:08:30.815964Z"
    }
   },
   "outputs": [
    {
     "data": {
      "text/plain": [
       "array([[[16, 17, 18],\n",
       "        [21, 22, 23]],\n",
       "\n",
       "       [[31, 32, 33],\n",
       "        [36, 37, 38]]])"
      ]
     },
     "execution_count": 1,
     "metadata": {},
     "output_type": "execute_result"
    }
   ],
   "source": [
    "x[1:, 0:2, 1:4]"
   ]
  },
  {
   "cell_type": "markdown",
   "id": "eee60fae",
   "metadata": {},
   "source": [
    "### Copia de arreglos"
   ]
  },
  {
   "cell_type": "code",
   "execution_count": 13,
   "id": "bb146735",
   "metadata": {
    "execution": {
     "iopub.execute_input": "2021-05-04T21:08:30.820185Z",
     "iopub.status.busy": "2021-05-04T21:08:30.819712Z",
     "iopub.status.idle": "2021-05-04T21:08:30.822429Z",
     "shell.execute_reply": "2021-05-04T21:08:30.822015Z"
    }
   },
   "outputs": [
    {
     "data": {
      "text/plain": [
       "array([1, 2, 3, 4])"
      ]
     },
     "execution_count": 1,
     "metadata": {},
     "output_type": "execute_result"
    }
   ],
   "source": [
    "# Los arreglos no se copian con asignación\n",
    "\n",
    "a = np.array([1, 2, 3, 4])\n",
    "b = a\n",
    "b"
   ]
  },
  {
   "cell_type": "code",
   "execution_count": 14,
   "id": "5840e706",
   "metadata": {
    "execution": {
     "iopub.execute_input": "2021-05-04T21:08:30.825782Z",
     "iopub.status.busy": "2021-05-04T21:08:30.825311Z",
     "iopub.status.idle": "2021-05-04T21:08:30.828070Z",
     "shell.execute_reply": "2021-05-04T21:08:30.827653Z"
    }
   },
   "outputs": [
    {
     "data": {
      "text/plain": [
       "array([ 1, 20,  3,  4])"
      ]
     },
     "execution_count": 1,
     "metadata": {},
     "output_type": "execute_result"
    }
   ],
   "source": [
    "b[1] = 20\n",
    "b"
   ]
  },
  {
   "cell_type": "code",
   "execution_count": 15,
   "id": "2030f191",
   "metadata": {
    "execution": {
     "iopub.execute_input": "2021-05-04T21:08:30.831319Z",
     "iopub.status.busy": "2021-05-04T21:08:30.830827Z",
     "iopub.status.idle": "2021-05-04T21:08:30.833162Z",
     "shell.execute_reply": "2021-05-04T21:08:30.833527Z"
    }
   },
   "outputs": [
    {
     "data": {
      "text/plain": [
       "array([ 1, 20,  3,  4])"
      ]
     },
     "execution_count": 1,
     "metadata": {},
     "output_type": "execute_result"
    }
   ],
   "source": [
    "a"
   ]
  },
  {
   "cell_type": "code",
   "execution_count": 16,
   "id": "4f910718",
   "metadata": {
    "execution": {
     "iopub.execute_input": "2021-05-04T21:08:30.837472Z",
     "iopub.status.busy": "2021-05-04T21:08:30.836998Z",
     "iopub.status.idle": "2021-05-04T21:08:30.839548Z",
     "shell.execute_reply": "2021-05-04T21:08:30.839113Z"
    }
   },
   "outputs": [
    {
     "data": {
      "text/plain": [
       "array([ 1, 20,  3,  4])"
      ]
     },
     "execution_count": 1,
     "metadata": {},
     "output_type": "execute_result"
    }
   ],
   "source": [
    "# Para copiar un arreglo a otra variable debemos usar copy()\n",
    "\n",
    "a = np.array([1, 2, 3, 4])\n",
    "b = a.copy()\n",
    "b[1] = 20\n",
    "b"
   ]
  },
  {
   "cell_type": "code",
   "execution_count": 17,
   "id": "677310e3",
   "metadata": {
    "execution": {
     "iopub.execute_input": "2021-05-04T21:08:30.842733Z",
     "iopub.status.busy": "2021-05-04T21:08:30.842260Z",
     "iopub.status.idle": "2021-05-04T21:08:30.844993Z",
     "shell.execute_reply": "2021-05-04T21:08:30.844578Z"
    }
   },
   "outputs": [
    {
     "data": {
      "text/plain": [
       "array([1, 2, 3, 4])"
      ]
     },
     "execution_count": 1,
     "metadata": {},
     "output_type": "execute_result"
    }
   ],
   "source": [
    "a"
   ]
  },
  {
   "cell_type": "markdown",
   "id": "473f50a9",
   "metadata": {},
   "source": [
    "### Modificación de dimensiones"
   ]
  },
  {
   "cell_type": "markdown",
   "id": "8ed945b1",
   "metadata": {},
   "source": [
    "Existen varias operaciones para cambiar la forma de un arreglo de numpy"
   ]
  },
  {
   "cell_type": "code",
   "execution_count": 18,
   "id": "94d81300",
   "metadata": {
    "execution": {
     "iopub.execute_input": "2021-05-04T21:08:30.848363Z",
     "iopub.status.busy": "2021-05-04T21:08:30.847882Z",
     "iopub.status.idle": "2021-05-04T21:08:30.850018Z",
     "shell.execute_reply": "2021-05-04T21:08:30.850408Z"
    }
   },
   "outputs": [
    {
     "data": {
      "text/plain": [
       "array([[ 1,  2,  3,  4],\n",
       "       [ 5,  6,  7,  8],\n",
       "       [ 9, 10, 11, 12]])"
      ]
     },
     "execution_count": 1,
     "metadata": {},
     "output_type": "execute_result"
    }
   ],
   "source": [
    "matriz_de_enteros"
   ]
  },
  {
   "cell_type": "code",
   "execution_count": 19,
   "id": "ff7f01e1",
   "metadata": {
    "execution": {
     "iopub.execute_input": "2021-05-04T21:08:30.853507Z",
     "iopub.status.busy": "2021-05-04T21:08:30.853038Z",
     "iopub.status.idle": "2021-05-04T21:08:30.855455Z",
     "shell.execute_reply": "2021-05-04T21:08:30.855854Z"
    }
   },
   "outputs": [
    {
     "data": {
      "text/plain": [
       "2"
      ]
     },
     "execution_count": 1,
     "metadata": {},
     "output_type": "execute_result"
    }
   ],
   "source": [
    "# Obtener las dimensiones del arreglo\n",
    "\n",
    "matriz_de_enteros.ndim"
   ]
  },
  {
   "cell_type": "code",
   "execution_count": 20,
   "id": "fee045bd",
   "metadata": {
    "execution": {
     "iopub.execute_input": "2021-05-04T21:08:30.859006Z",
     "iopub.status.busy": "2021-05-04T21:08:30.858535Z",
     "iopub.status.idle": "2021-05-04T21:08:30.861227Z",
     "shell.execute_reply": "2021-05-04T21:08:30.860714Z"
    }
   },
   "outputs": [
    {
     "data": {
      "text/plain": [
       "(3, 4)"
      ]
     },
     "execution_count": 1,
     "metadata": {},
     "output_type": "execute_result"
    }
   ],
   "source": [
    "# Obtener la forma del arreglo\n",
    "\n",
    "matriz_de_enteros.shape"
   ]
  },
  {
   "cell_type": "code",
   "execution_count": 21,
   "id": "8ef278e4",
   "metadata": {
    "execution": {
     "iopub.execute_input": "2021-05-04T21:08:30.866134Z",
     "iopub.status.busy": "2021-05-04T21:08:30.865642Z",
     "iopub.status.idle": "2021-05-04T21:08:30.867993Z",
     "shell.execute_reply": "2021-05-04T21:08:30.868377Z"
    }
   },
   "outputs": [
    {
     "name": "stdout",
     "output_type": "stream",
     "text": [
      "enteros: [ 3  6  9 12]\n"
     ]
    },
    {
     "data": {
      "text/plain": [
       "array([[ 3,  6],\n",
       "       [ 9, 12]])"
      ]
     },
     "execution_count": 1,
     "metadata": {},
     "output_type": "execute_result"
    }
   ],
   "source": [
    "# Modificar la forma de un arreglo\n",
    "\n",
    "enteros = np.array([3, 6, 9, 12])\n",
    "print(f\"enteros: {enteros}\")\n",
    "np.reshape(enteros, (2, 2))"
   ]
  },
  {
   "cell_type": "code",
   "execution_count": 22,
   "id": "0d7e3620",
   "metadata": {
    "execution": {
     "iopub.execute_input": "2021-05-04T21:08:30.872040Z",
     "iopub.status.busy": "2021-05-04T21:08:30.871569Z",
     "iopub.status.idle": "2021-05-04T21:08:30.874284Z",
     "shell.execute_reply": "2021-05-04T21:08:30.873794Z"
    }
   },
   "outputs": [
    {
     "data": {
      "text/plain": [
       "array([[1., 1.],\n",
       "       [1., 1.]])"
      ]
     },
     "execution_count": 1,
     "metadata": {},
     "output_type": "execute_result"
    }
   ],
   "source": [
    "# Aplanar un arreglo\n",
    "\n",
    "a = np.ones((2, 2))\n",
    "a"
   ]
  },
  {
   "cell_type": "code",
   "execution_count": 23,
   "id": "aa6cbf35",
   "metadata": {
    "execution": {
     "iopub.execute_input": "2021-05-04T21:08:30.878432Z",
     "iopub.status.busy": "2021-05-04T21:08:30.877944Z",
     "iopub.status.idle": "2021-05-04T21:08:30.880316Z",
     "shell.execute_reply": "2021-05-04T21:08:30.880707Z"
    }
   },
   "outputs": [
    {
     "data": {
      "text/plain": [
       "array([1., 1., 1., 1.])"
      ]
     },
     "execution_count": 1,
     "metadata": {},
     "output_type": "execute_result"
    }
   ],
   "source": [
    "a.flatten()"
   ]
  },
  {
   "cell_type": "code",
   "execution_count": 24,
   "id": "f70462a8",
   "metadata": {
    "execution": {
     "iopub.execute_input": "2021-05-04T21:08:30.884847Z",
     "iopub.status.busy": "2021-05-04T21:08:30.884355Z",
     "iopub.status.idle": "2021-05-04T21:08:30.886682Z",
     "shell.execute_reply": "2021-05-04T21:08:30.887070Z"
    },
    "lines_to_next_cell": 2
   },
   "outputs": [
    {
     "data": {
      "text/plain": [
       "array([[1., 1.],\n",
       "       [1., 1.]])"
      ]
     },
     "execution_count": 1,
     "metadata": {},
     "output_type": "execute_result"
    }
   ],
   "source": [
    "a"
   ]
  },
  {
   "cell_type": "markdown",
   "id": "f0eab714",
   "metadata": {},
   "source": [
    "### Combinación de arreglos (Stacking)"
   ]
  },
  {
   "cell_type": "code",
   "execution_count": 25,
   "id": "03476d46",
   "metadata": {
    "execution": {
     "iopub.execute_input": "2021-05-04T21:08:30.891373Z",
     "iopub.status.busy": "2021-05-04T21:08:30.890826Z",
     "iopub.status.idle": "2021-05-04T21:08:30.892617Z",
     "shell.execute_reply": "2021-05-04T21:08:30.892998Z"
    }
   },
   "outputs": [
    {
     "data": {
      "text/plain": [
       "array([0, 1, 2, 3, 4])"
      ]
     },
     "execution_count": 1,
     "metadata": {},
     "output_type": "execute_result"
    }
   ],
   "source": [
    "# Los arreglos se pueden combinar verticalmente (se incrementa la cantidad de filas)\n",
    "\n",
    "a = np.arange(0, 5)\n",
    "a"
   ]
  },
  {
   "cell_type": "code",
   "execution_count": 26,
   "id": "f426a8b3",
   "metadata": {
    "execution": {
     "iopub.execute_input": "2021-05-04T21:08:30.897028Z",
     "iopub.status.busy": "2021-05-04T21:08:30.896540Z",
     "iopub.status.idle": "2021-05-04T21:08:30.898222Z",
     "shell.execute_reply": "2021-05-04T21:08:30.898602Z"
    }
   },
   "outputs": [
    {
     "data": {
      "text/plain": [
       "array([5, 6, 7, 8, 9])"
      ]
     },
     "execution_count": 1,
     "metadata": {},
     "output_type": "execute_result"
    }
   ],
   "source": [
    "b = np.arange(5, 10)\n",
    "b"
   ]
  },
  {
   "cell_type": "code",
   "execution_count": 27,
   "id": "0abf74ab",
   "metadata": {
    "execution": {
     "iopub.execute_input": "2021-05-04T21:08:30.902043Z",
     "iopub.status.busy": "2021-05-04T21:08:30.901574Z",
     "iopub.status.idle": "2021-05-04T21:08:30.904336Z",
     "shell.execute_reply": "2021-05-04T21:08:30.903935Z"
    }
   },
   "outputs": [
    {
     "data": {
      "text/plain": [
       "array([[0, 1, 2, 3, 4],\n",
       "       [5, 6, 7, 8, 9]])"
      ]
     },
     "execution_count": 1,
     "metadata": {},
     "output_type": "execute_result"
    }
   ],
   "source": [
    "combinados_verticalmente = np.vstack((a, b))\n",
    "combinados_verticalmente"
   ]
  },
  {
   "cell_type": "code",
   "execution_count": 28,
   "id": "e3e19dd1",
   "metadata": {
    "execution": {
     "iopub.execute_input": "2021-05-04T21:08:30.908458Z",
     "iopub.status.busy": "2021-05-04T21:08:30.907962Z",
     "iopub.status.idle": "2021-05-04T21:08:30.909648Z",
     "shell.execute_reply": "2021-05-04T21:08:30.910025Z"
    }
   },
   "outputs": [
    {
     "data": {
      "text/plain": [
       "array([0, 1, 2, 3, 4, 5, 6, 7, 8, 9])"
      ]
     },
     "execution_count": 1,
     "metadata": {},
     "output_type": "execute_result"
    }
   ],
   "source": [
    "# También se pueden combinar horizontalmente (se incrementa la cantidad de columnas)\n",
    "\n",
    "combinados_horizontalmente = np.hstack((a, b))\n",
    "combinados_horizontalmente"
   ]
  },
  {
   "cell_type": "markdown",
   "id": "fd986f7f",
   "metadata": {},
   "source": [
    "### Operaciones matemáticas"
   ]
  },
  {
   "cell_type": "code",
   "execution_count": 29,
   "id": "f2a4551f",
   "metadata": {
    "execution": {
     "iopub.execute_input": "2021-05-04T21:08:30.914147Z",
     "iopub.status.busy": "2021-05-04T21:08:30.913662Z",
     "iopub.status.idle": "2021-05-04T21:08:30.915374Z",
     "shell.execute_reply": "2021-05-04T21:08:30.915761Z"
    }
   },
   "outputs": [
    {
     "data": {
      "text/plain": [
       "array([3, 4, 5, 6])"
      ]
     },
     "execution_count": 1,
     "metadata": {},
     "output_type": "execute_result"
    }
   ],
   "source": [
    "a = np.array([1, 2, 3, 4])\n",
    "\n",
    "a + 2"
   ]
  },
  {
   "cell_type": "code",
   "execution_count": 30,
   "id": "253cd51b",
   "metadata": {
    "execution": {
     "iopub.execute_input": "2021-05-04T21:08:30.918988Z",
     "iopub.status.busy": "2021-05-04T21:08:30.918522Z",
     "iopub.status.idle": "2021-05-04T21:08:30.921214Z",
     "shell.execute_reply": "2021-05-04T21:08:30.920801Z"
    }
   },
   "outputs": [
    {
     "data": {
      "text/plain": [
       "array([ 1,  4,  9, 16])"
      ]
     },
     "execution_count": 1,
     "metadata": {},
     "output_type": "execute_result"
    }
   ],
   "source": [
    "a ** 2"
   ]
  },
  {
   "cell_type": "code",
   "execution_count": 31,
   "id": "806d22e3",
   "metadata": {
    "execution": {
     "iopub.execute_input": "2021-05-04T21:08:30.925161Z",
     "iopub.status.busy": "2021-05-04T21:08:30.924686Z",
     "iopub.status.idle": "2021-05-04T21:08:30.926972Z",
     "shell.execute_reply": "2021-05-04T21:08:30.927455Z"
    }
   },
   "outputs": [
    {
     "name": "stdout",
     "output_type": "stream",
     "text": [
      "b: [1. 1. 1. 1.]\n"
     ]
    },
    {
     "data": {
      "text/plain": [
       "array([2., 3., 4., 5.])"
      ]
     },
     "execution_count": 1,
     "metadata": {},
     "output_type": "execute_result"
    }
   ],
   "source": [
    "b = np.ones(4)\n",
    "print(f\"b: {b}\")\n",
    "a + b"
   ]
  },
  {
   "cell_type": "markdown",
   "id": "c7b86698",
   "metadata": {},
   "source": [
    "### Estadística"
   ]
  },
  {
   "cell_type": "code",
   "execution_count": 32,
   "id": "93483321",
   "metadata": {
    "execution": {
     "iopub.execute_input": "2021-05-04T21:08:30.931532Z",
     "iopub.status.busy": "2021-05-04T21:08:30.931037Z",
     "iopub.status.idle": "2021-05-04T21:08:30.933776Z",
     "shell.execute_reply": "2021-05-04T21:08:30.933356Z"
    }
   },
   "outputs": [
    {
     "data": {
      "text/plain": [
       "1"
      ]
     },
     "execution_count": 1,
     "metadata": {},
     "output_type": "execute_result"
    }
   ],
   "source": [
    "a = np.array([[5, 2, 1, 8], [26, 4, 17, 9]])\n",
    "\n",
    "np.min(a)"
   ]
  },
  {
   "cell_type": "code",
   "execution_count": 33,
   "id": "76a31858",
   "metadata": {
    "execution": {
     "iopub.execute_input": "2021-05-04T21:08:30.937190Z",
     "iopub.status.busy": "2021-05-04T21:08:30.936724Z",
     "iopub.status.idle": "2021-05-04T21:08:30.939449Z",
     "shell.execute_reply": "2021-05-04T21:08:30.939013Z"
    }
   },
   "outputs": [
    {
     "data": {
      "text/plain": [
       "26"
      ]
     },
     "execution_count": 1,
     "metadata": {},
     "output_type": "execute_result"
    }
   ],
   "source": [
    "np.max(a)"
   ]
  },
  {
   "cell_type": "code",
   "execution_count": 34,
   "id": "3f394047",
   "metadata": {
    "execution": {
     "iopub.execute_input": "2021-05-04T21:08:30.943286Z",
     "iopub.status.busy": "2021-05-04T21:08:30.942795Z",
     "iopub.status.idle": "2021-05-04T21:08:30.944499Z",
     "shell.execute_reply": "2021-05-04T21:08:30.944880Z"
    }
   },
   "outputs": [
    {
     "data": {
      "text/plain": [
       "72"
      ]
     },
     "execution_count": 1,
     "metadata": {},
     "output_type": "execute_result"
    }
   ],
   "source": [
    "np.sum(a)"
   ]
  },
  {
   "cell_type": "markdown",
   "id": "2f95fa7e",
   "metadata": {},
   "source": [
    "### Más magia"
   ]
  },
  {
   "cell_type": "code",
   "execution_count": 35,
   "id": "1abbf3d6",
   "metadata": {
    "execution": {
     "iopub.execute_input": "2021-05-04T21:08:30.948573Z",
     "iopub.status.busy": "2021-05-04T21:08:30.948102Z",
     "iopub.status.idle": "2021-05-04T21:08:30.950230Z",
     "shell.execute_reply": "2021-05-04T21:08:30.950594Z"
    }
   },
   "outputs": [
    {
     "data": {
      "text/plain": [
       "array([[False, False, False,  True],\n",
       "       [ True, False,  True,  True]])"
      ]
     },
     "execution_count": 1,
     "metadata": {},
     "output_type": "execute_result"
    }
   ],
   "source": [
    "a = np.array([[5, 2, 1, 8], [26, 4, 17, 9]])\n",
    "\n",
    "a > 5"
   ]
  },
  {
   "cell_type": "code",
   "execution_count": 36,
   "id": "aaff67b2",
   "metadata": {
    "execution": {
     "iopub.execute_input": "2021-05-04T21:08:30.953882Z",
     "iopub.status.busy": "2021-05-04T21:08:30.953417Z",
     "iopub.status.idle": "2021-05-04T21:08:30.956102Z",
     "shell.execute_reply": "2021-05-04T21:08:30.955692Z"
    }
   },
   "outputs": [
    {
     "data": {
      "text/plain": [
       "array([ 8, 26, 17,  9])"
      ]
     },
     "execution_count": 1,
     "metadata": {},
     "output_type": "execute_result"
    }
   ],
   "source": [
    "a[a > 5]"
   ]
  },
  {
   "cell_type": "markdown",
   "id": "cfc9aaca",
   "metadata": {},
   "source": [
    "### Broadcasting"
   ]
  },
  {
   "cell_type": "markdown",
   "id": "9b2437ab",
   "metadata": {},
   "source": [
    "Permite realizar operaciones entre dos numpy arrays de distintas dimensiones.\n",
    "Para lograr esto, las dimensiones de los mismos deben ser compatibles. Dos dimensiones son compatibles cuando:\n",
    "1. Son iguales\n",
    "2. Alguna de las dos es 1"
   ]
  },
  {
   "cell_type": "code",
   "execution_count": 37,
   "id": "1e853945",
   "metadata": {
    "execution": {
     "iopub.execute_input": "2021-05-04T21:08:30.960336Z",
     "iopub.status.busy": "2021-05-04T21:08:30.959841Z",
     "iopub.status.idle": "2021-05-04T21:08:30.961538Z",
     "shell.execute_reply": "2021-05-04T21:08:30.961918Z"
    }
   },
   "outputs": [
    {
     "data": {
      "text/plain": [
       "array([[ 5,  2,  1,  8],\n",
       "       [26,  4, 17,  9]])"
      ]
     },
     "execution_count": 1,
     "metadata": {},
     "output_type": "execute_result"
    }
   ],
   "source": [
    "a = np.array([[5, 2, 1, 8], [26, 4, 17, 9]])\n",
    "a"
   ]
  },
  {
   "cell_type": "code",
   "execution_count": 38,
   "id": "3ae71806",
   "metadata": {
    "execution": {
     "iopub.execute_input": "2021-05-04T21:08:30.966665Z",
     "iopub.status.busy": "2021-05-04T21:08:30.966193Z",
     "iopub.status.idle": "2021-05-04T21:08:30.967791Z",
     "shell.execute_reply": "2021-05-04T21:08:30.968173Z"
    }
   },
   "outputs": [
    {
     "name": "stdout",
     "output_type": "stream",
     "text": [
      "a: (2, 4)\n",
      "b: (4,)\n",
      "\n",
      "a + b:\n",
      " [[10  4  2 16]\n",
      " [31  6 18 17]]\n"
     ]
    }
   ],
   "source": [
    "# Armamos un array que tenga la misma cantidad de columnas que a\n",
    "b = np.array([5, 2, 1, 8])\n",
    "print(f\"a: {a.shape}\")\n",
    "print(f\"b: {b.shape}\")\n",
    "# a + b\n",
    "print()\n",
    "print(f\"a + b:\\n {a + b}\")"
   ]
  },
  {
   "cell_type": "code",
   "execution_count": 39,
   "id": "c5799346",
   "metadata": {
    "execution": {
     "iopub.execute_input": "2021-05-04T21:08:30.971655Z",
     "iopub.status.busy": "2021-05-04T21:08:30.971108Z",
     "iopub.status.idle": "2021-05-04T21:08:31.029753Z",
     "shell.execute_reply": "2021-05-04T21:08:31.029337Z"
    },
    "tags": [
     "raises-exception"
    ]
   },
   "outputs": [
    {
     "name": "stdout",
     "output_type": "stream",
     "text": [
      "a: (2, 4)\n",
      "b: (3,)\n"
     ]
    },
    {
     "ename": "ValueError",
     "evalue": "operands could not be broadcast together with shapes (2,4) (3,) ",
     "output_type": "error",
     "traceback": [
      "\u001b[0;31m---------------------------------------------------------------------------\u001b[0m",
      "\u001b[0;31mValueError\u001b[0m                                Traceback (most recent call last)",
      "\u001b[0;32m<ipython-input-1-fe11b6ae6346>\u001b[0m in \u001b[0;36m<module>\u001b[0;34m\u001b[0m\n\u001b[1;32m      3\u001b[0m \u001b[0mprint\u001b[0m\u001b[0;34m(\u001b[0m\u001b[0;34mf\"a: {a.shape}\"\u001b[0m\u001b[0;34m)\u001b[0m\u001b[0;34m\u001b[0m\u001b[0;34m\u001b[0m\u001b[0m\n\u001b[1;32m      4\u001b[0m \u001b[0mprint\u001b[0m\u001b[0;34m(\u001b[0m\u001b[0;34mf\"b: {b.shape}\"\u001b[0m\u001b[0;34m)\u001b[0m\u001b[0;34m\u001b[0m\u001b[0;34m\u001b[0m\u001b[0m\n\u001b[0;32m----> 5\u001b[0;31m \u001b[0ma\u001b[0m \u001b[0;34m+\u001b[0m \u001b[0mb\u001b[0m\u001b[0;34m\u001b[0m\u001b[0;34m\u001b[0m\u001b[0m\n\u001b[0m",
      "\u001b[0;31mValueError\u001b[0m: operands could not be broadcast together with shapes (2,4) (3,) "
     ]
    }
   ],
   "source": [
    "# Armamos un array que tenga distinta cantidad de filas y columnas que a\n",
    "b = np.array([5, 1, 8])\n",
    "print(f\"a: {a.shape}\")\n",
    "print(f\"b: {b.shape}\")\n",
    "a + b"
   ]
  },
  {
   "cell_type": "code",
   "execution_count": 40,
   "id": "bb66ee15",
   "metadata": {
    "execution": {
     "iopub.execute_input": "2021-05-04T21:08:31.035202Z",
     "iopub.status.busy": "2021-05-04T21:08:31.034708Z",
     "iopub.status.idle": "2021-05-04T21:08:31.038138Z",
     "shell.execute_reply": "2021-05-04T21:08:31.037725Z"
    }
   },
   "outputs": [
    {
     "name": "stdout",
     "output_type": "stream",
     "text": [
      "a: (2, 4)\n",
      "b: (2, 1)\n"
     ]
    },
    {
     "data": {
      "text/plain": [
       "array([[ 7,  4,  3, 10],\n",
       "       [27,  5, 18, 10]])"
      ]
     },
     "execution_count": 1,
     "metadata": {},
     "output_type": "execute_result"
    }
   ],
   "source": [
    "# Armamos un array que tenga la misma cantidad de filas que a\n",
    "b = np.array([[2], [1]])\n",
    "print(f\"a: {a.shape}\")\n",
    "print(f\"b: {b.shape}\")\n",
    "a + b"
   ]
  },
  {
   "cell_type": "code",
   "execution_count": 41,
   "id": "3d70d286",
   "metadata": {
    "execution": {
     "iopub.execute_input": "2021-05-04T21:08:31.041717Z",
     "iopub.status.busy": "2021-05-04T21:08:31.041241Z",
     "iopub.status.idle": "2021-05-04T21:08:31.044928Z",
     "shell.execute_reply": "2021-05-04T21:08:31.044535Z"
    }
   },
   "outputs": [
    {
     "data": {
      "text/plain": [
       "array([[ 9,  6,  5, 12],\n",
       "       [30,  8, 21, 13]])"
      ]
     },
     "execution_count": 1,
     "metadata": {},
     "output_type": "execute_result"
    }
   ],
   "source": [
    "# Si b es un entero\n",
    "b = 4\n",
    "a + b"
   ]
  },
  {
   "cell_type": "code",
   "execution_count": null,
   "id": "04461210",
   "metadata": {},
   "outputs": [],
   "source": []
  }
 ],
 "metadata": {
  "jupytext": {
   "encoding": "# -*- coding: utf-8 -*-",
   "formats": "ipynb,py:light"
  },
  "kernelspec": {
   "display_name": "Python 3",
   "language": "python",
   "name": "python3"
  },
  "language_info": {
   "codemirror_mode": {
    "name": "ipython",
    "version": 3
   },
   "file_extension": ".py",
   "mimetype": "text/x-python",
   "name": "python",
   "nbconvert_exporter": "python",
   "pygments_lexer": "ipython3",
   "version": "3.7.10"
  }
 },
 "nbformat": 4,
 "nbformat_minor": 5
}
