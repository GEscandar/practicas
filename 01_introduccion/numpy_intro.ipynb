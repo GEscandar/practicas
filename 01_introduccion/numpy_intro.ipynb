{
 "cells": [
  {
   "cell_type": "markdown",
   "id": "cb0db47d",
   "metadata": {},
   "source": [
    "## Clase 1 - Introducción a Numpy\n",
    "\n",
    "Numpy es una biblioteca para Python que facilita el manejo de arreglos multidimensionales y ofrece varias herramientas para trabajar con ellos. Muchas de las bibliotecas de Python que son ampliamente usadas hoy en día, como pandas, están construidas sobre numpy.\n",
    "\n",
    "### Listas de Python vs arreglos de Numpy\n",
    "\n",
    "A primera vista, un arreglo de numpy puede resultar idéntico a una lista de python, pero a medida que la cantidad de datos comienza a incrementar, los arreglos de numpy terminan ofreciendo un manejo más eficiente de la memoria.\n",
    "\n",
    "Para comenzar, vamos a crear un arreglo de numpy:"
   ]
  },
  {
   "cell_type": "code",
   "execution_count": 1,
   "id": "8c899287",
   "metadata": {
    "execution": {
     "iopub.execute_input": "2021-05-20T15:51:54.508219Z",
     "iopub.status.busy": "2021-05-20T15:51:54.507533Z",
     "iopub.status.idle": "2021-05-20T15:51:54.643453Z",
     "shell.execute_reply": "2021-05-20T15:51:54.642987Z"
    }
   },
   "outputs": [
    {
     "data": {
      "text/plain": [
       "array([1, 2, 3, 4])"
      ]
     },
     "execution_count": 1,
     "metadata": {},
     "output_type": "execute_result"
    }
   ],
   "source": [
    "import numpy as np\n",
    "\n",
    "np.array([1, 2, 3, 4])"
   ]
  },
  {
   "cell_type": "markdown",
   "id": "7a25f6d5",
   "metadata": {},
   "source": [
    "Los arreglos pueden ser también multidimensionales:"
   ]
  },
  {
   "cell_type": "code",
   "execution_count": 2,
   "id": "2d4b68a8",
   "metadata": {
    "execution": {
     "iopub.execute_input": "2021-05-20T15:51:54.648094Z",
     "iopub.status.busy": "2021-05-20T15:51:54.647641Z",
     "iopub.status.idle": "2021-05-20T15:51:54.649897Z",
     "shell.execute_reply": "2021-05-20T15:51:54.650240Z"
    }
   },
   "outputs": [
    {
     "data": {
      "text/plain": [
       "array([[1, 2, 3, 4],\n",
       "       [5, 6, 7, 8]])"
      ]
     },
     "execution_count": 1,
     "metadata": {},
     "output_type": "execute_result"
    }
   ],
   "source": [
    "np.array([[1, 2, 3, 4], [5, 6, 7, 8]])"
   ]
  },
  {
   "cell_type": "markdown",
   "id": "eb006430",
   "metadata": {},
   "source": [
    "Es importante tener en cuenta que un arreglo de numpy tiene un tipo fijo de datos, entonces si se quiere agregar un dato de un tipo diferente al de la mayoría, este va a ser modificado para adaptarse al resto"
   ]
  },
  {
   "cell_type": "code",
   "execution_count": 3,
   "id": "ccef7aeb",
   "metadata": {
    "execution": {
     "iopub.execute_input": "2021-05-20T15:51:54.653804Z",
     "iopub.status.busy": "2021-05-20T15:51:54.653061Z",
     "iopub.status.idle": "2021-05-20T15:51:54.654612Z",
     "shell.execute_reply": "2021-05-20T15:51:54.654938Z"
    }
   },
   "outputs": [],
   "source": [
    "enteros = np.array([1, 2, 3, 4])"
   ]
  },
  {
   "cell_type": "markdown",
   "id": "e2ab731d",
   "metadata": {},
   "source": [
    "Agrego un elemento de tipo flotante en la posición 1"
   ]
  },
  {
   "cell_type": "code",
   "execution_count": 4,
   "id": "927e77fa",
   "metadata": {
    "execution": {
     "iopub.execute_input": "2021-05-20T15:51:54.658707Z",
     "iopub.status.busy": "2021-05-20T15:51:54.658264Z",
     "iopub.status.idle": "2021-05-20T15:51:54.660510Z",
     "shell.execute_reply": "2021-05-20T15:51:54.660852Z"
    }
   },
   "outputs": [
    {
     "data": {
      "text/plain": [
       "array([1, 8, 3, 4])"
      ]
     },
     "execution_count": 1,
     "metadata": {},
     "output_type": "execute_result"
    }
   ],
   "source": [
    "enteros[1] = 8.4727\n",
    "enteros"
   ]
  },
  {
   "cell_type": "markdown",
   "id": "b08dbbb8",
   "metadata": {},
   "source": [
    "Numpy también nos permite crear arreglos con valores aleatorios del 0 al 1.\n",
    "Basta con pasarle las dimensiones del arreglo que queremos crear."
   ]
  },
  {
   "cell_type": "code",
   "execution_count": 5,
   "id": "d79fe7f6",
   "metadata": {
    "execution": {
     "iopub.execute_input": "2021-05-20T15:51:54.665329Z",
     "iopub.status.busy": "2021-05-20T15:51:54.664889Z",
     "iopub.status.idle": "2021-05-20T15:51:54.667156Z",
     "shell.execute_reply": "2021-05-20T15:51:54.667496Z"
    }
   },
   "outputs": [
    {
     "data": {
      "text/plain": [
       "array([[0.04488421, 0.01982665, 0.34191856],\n",
       "       [0.12875735, 0.90202681, 0.73519353]])"
      ]
     },
     "execution_count": 1,
     "metadata": {},
     "output_type": "execute_result"
    }
   ],
   "source": [
    "np.random.rand(2, 3)"
   ]
  },
  {
   "cell_type": "markdown",
   "id": "0410adf5",
   "metadata": {},
   "source": [
    "## Slicing\n",
    "\n",
    "De la misma forma que con las listas de python, pueden obtenerse slices de los arreglos de numpy"
   ]
  },
  {
   "cell_type": "code",
   "execution_count": 6,
   "id": "fc5d4fc1",
   "metadata": {
    "execution": {
     "iopub.execute_input": "2021-05-20T15:51:54.671218Z",
     "iopub.status.busy": "2021-05-20T15:51:54.670782Z",
     "iopub.status.idle": "2021-05-20T15:51:54.672929Z",
     "shell.execute_reply": "2021-05-20T15:51:54.673273Z"
    },
    "lines_to_next_cell": 2
   },
   "outputs": [
    {
     "data": {
      "text/plain": [
       "array([1, 8])"
      ]
     },
     "execution_count": 1,
     "metadata": {},
     "output_type": "execute_result"
    }
   ],
   "source": [
    "enteros[:2]"
   ]
  },
  {
   "cell_type": "code",
   "execution_count": 7,
   "id": "85a05190",
   "metadata": {
    "execution": {
     "iopub.execute_input": "2021-05-20T15:51:54.678556Z",
     "iopub.status.busy": "2021-05-20T15:51:54.677784Z",
     "iopub.status.idle": "2021-05-20T15:51:54.680413Z",
     "shell.execute_reply": "2021-05-20T15:51:54.680041Z"
    }
   },
   "outputs": [
    {
     "name": "stdout",
     "output_type": "stream",
     "text": [
      "Original: \n",
      "[[ 1  2  3  4]\n",
      " [ 5  6  7  8]\n",
      " [ 9 10 11 12]]\n",
      "\n",
      "Recortada: \n",
      "[[1 2 3]\n",
      " [5 6 7]]\n"
     ]
    }
   ],
   "source": [
    "matriz_de_enteros = np.array([[1, 2, 3, 4], [5, 6, 7, 8], [9, 10, 11, 12]])\n",
    "\n",
    "print('Original: ')\n",
    "print(matriz_de_enteros)\n",
    "\n",
    "print()\n",
    "\n",
    "print('Recortada: ')\n",
    "print(matriz_de_enteros[:2, :3])"
   ]
  },
  {
   "cell_type": "code",
   "execution_count": 8,
   "id": "06aa89a9",
   "metadata": {
    "execution": {
     "iopub.execute_input": "2021-05-20T15:51:54.684367Z",
     "iopub.status.busy": "2021-05-20T15:51:54.683927Z",
     "iopub.status.idle": "2021-05-20T15:51:54.686158Z",
     "shell.execute_reply": "2021-05-20T15:51:54.686503Z"
    }
   },
   "outputs": [
    {
     "data": {
      "text/plain": [
       "array([[[ 0,  1,  2,  3,  4],\n",
       "        [ 5,  6,  7,  8,  9],\n",
       "        [10, 11, 12, 13, 14]],\n",
       "\n",
       "       [[15, 16, 17, 18, 19],\n",
       "        [20, 21, 22, 23, 24],\n",
       "        [25, 26, 27, 28, 29]],\n",
       "\n",
       "       [[30, 31, 32, 33, 34],\n",
       "        [35, 36, 37, 38, 39],\n",
       "        [40, 41, 42, 43, 44]]])"
      ]
     },
     "execution_count": 1,
     "metadata": {},
     "output_type": "execute_result"
    }
   ],
   "source": [
    "# 3D\n",
    "# arange() genera valores de un intervalo pasado por parámetro\n",
    "# reshape() modifica la forma del numpy array\n",
    "\n",
    "x = np.arange(45).reshape(3, 3, 5)\n",
    "x"
   ]
  },
  {
   "cell_type": "code",
   "execution_count": 9,
   "id": "fd56ff57",
   "metadata": {
    "execution": {
     "iopub.execute_input": "2021-05-20T15:51:54.690137Z",
     "iopub.status.busy": "2021-05-20T15:51:54.689704Z",
     "iopub.status.idle": "2021-05-20T15:51:54.691887Z",
     "shell.execute_reply": "2021-05-20T15:51:54.692230Z"
    }
   },
   "outputs": [
    {
     "data": {
      "text/plain": [
       "array([[ 0,  1,  2,  3,  4],\n",
       "       [ 5,  6,  7,  8,  9],\n",
       "       [10, 11, 12, 13, 14]])"
      ]
     },
     "execution_count": 1,
     "metadata": {},
     "output_type": "execute_result"
    }
   ],
   "source": [
    "x[0]"
   ]
  },
  {
   "cell_type": "code",
   "execution_count": 10,
   "id": "d8178012",
   "metadata": {
    "execution": {
     "iopub.execute_input": "2021-05-20T15:51:54.695840Z",
     "iopub.status.busy": "2021-05-20T15:51:54.695374Z",
     "iopub.status.idle": "2021-05-20T15:51:54.697603Z",
     "shell.execute_reply": "2021-05-20T15:51:54.697943Z"
    }
   },
   "outputs": [
    {
     "data": {
      "text/plain": [
       "array([5, 6, 7, 8, 9])"
      ]
     },
     "execution_count": 1,
     "metadata": {},
     "output_type": "execute_result"
    }
   ],
   "source": [
    "x[0][1]"
   ]
  },
  {
   "cell_type": "code",
   "execution_count": 11,
   "id": "45a771d7",
   "metadata": {
    "execution": {
     "iopub.execute_input": "2021-05-20T15:51:54.701533Z",
     "iopub.status.busy": "2021-05-20T15:51:54.701094Z",
     "iopub.status.idle": "2021-05-20T15:51:54.703229Z",
     "shell.execute_reply": "2021-05-20T15:51:54.703586Z"
    }
   },
   "outputs": [
    {
     "data": {
      "text/plain": [
       "7"
      ]
     },
     "execution_count": 1,
     "metadata": {},
     "output_type": "execute_result"
    }
   ],
   "source": [
    "x[0][1][2]"
   ]
  },
  {
   "cell_type": "markdown",
   "id": "f57cdbb4",
   "metadata": {},
   "source": [
    "\n",
    "¿Cómo conseguimos estos valores? ([fuente](https://towardsdatascience.com/indexing-and-slicing-of-1d-2d-and-3d-arrays-in-numpy-e731afff0bbe))\n",
    "\n",
    "![title](img/matrix.png)"
   ]
  },
  {
   "cell_type": "code",
   "execution_count": 12,
   "id": "ea645a3c",
   "metadata": {
    "execution": {
     "iopub.execute_input": "2021-05-20T15:51:54.707612Z",
     "iopub.status.busy": "2021-05-20T15:51:54.707160Z",
     "iopub.status.idle": "2021-05-20T15:51:54.709304Z",
     "shell.execute_reply": "2021-05-20T15:51:54.709643Z"
    }
   },
   "outputs": [
    {
     "data": {
      "text/plain": [
       "array([[[16, 17, 18],\n",
       "        [21, 22, 23]],\n",
       "\n",
       "       [[31, 32, 33],\n",
       "        [36, 37, 38]]])"
      ]
     },
     "execution_count": 1,
     "metadata": {},
     "output_type": "execute_result"
    }
   ],
   "source": [
    "x[1:, 0:2, 1:4]"
   ]
  },
  {
   "cell_type": "markdown",
   "id": "932f7bb9",
   "metadata": {},
   "source": [
    "### Copia de arreglos"
   ]
  },
  {
   "cell_type": "code",
   "execution_count": 13,
   "id": "c93834d5",
   "metadata": {
    "execution": {
     "iopub.execute_input": "2021-05-20T15:51:54.713539Z",
     "iopub.status.busy": "2021-05-20T15:51:54.713097Z",
     "iopub.status.idle": "2021-05-20T15:51:54.715234Z",
     "shell.execute_reply": "2021-05-20T15:51:54.715592Z"
    }
   },
   "outputs": [
    {
     "data": {
      "text/plain": [
       "array([1, 2, 3, 4])"
      ]
     },
     "execution_count": 1,
     "metadata": {},
     "output_type": "execute_result"
    }
   ],
   "source": [
    "# Los arreglos no se copian con asignación\n",
    "\n",
    "a = np.array([1, 2, 3, 4])\n",
    "b = a\n",
    "b"
   ]
  },
  {
   "cell_type": "code",
   "execution_count": 14,
   "id": "fdc6dfa2",
   "metadata": {
    "execution": {
     "iopub.execute_input": "2021-05-20T15:51:54.719329Z",
     "iopub.status.busy": "2021-05-20T15:51:54.718889Z",
     "iopub.status.idle": "2021-05-20T15:51:54.721045Z",
     "shell.execute_reply": "2021-05-20T15:51:54.721386Z"
    }
   },
   "outputs": [
    {
     "data": {
      "text/plain": [
       "array([ 1, 20,  3,  4])"
      ]
     },
     "execution_count": 1,
     "metadata": {},
     "output_type": "execute_result"
    }
   ],
   "source": [
    "b[1] = 20\n",
    "b"
   ]
  },
  {
   "cell_type": "code",
   "execution_count": 15,
   "id": "89b08c2a",
   "metadata": {
    "execution": {
     "iopub.execute_input": "2021-05-20T15:51:54.725017Z",
     "iopub.status.busy": "2021-05-20T15:51:54.724579Z",
     "iopub.status.idle": "2021-05-20T15:51:54.726703Z",
     "shell.execute_reply": "2021-05-20T15:51:54.727045Z"
    }
   },
   "outputs": [
    {
     "data": {
      "text/plain": [
       "array([ 1, 20,  3,  4])"
      ]
     },
     "execution_count": 1,
     "metadata": {},
     "output_type": "execute_result"
    }
   ],
   "source": [
    "a"
   ]
  },
  {
   "cell_type": "code",
   "execution_count": 16,
   "id": "617b427e",
   "metadata": {
    "execution": {
     "iopub.execute_input": "2021-05-20T15:51:54.731242Z",
     "iopub.status.busy": "2021-05-20T15:51:54.730798Z",
     "iopub.status.idle": "2021-05-20T15:51:54.732947Z",
     "shell.execute_reply": "2021-05-20T15:51:54.733289Z"
    }
   },
   "outputs": [
    {
     "data": {
      "text/plain": [
       "array([ 1, 20,  3,  4])"
      ]
     },
     "execution_count": 1,
     "metadata": {},
     "output_type": "execute_result"
    }
   ],
   "source": [
    "# Para copiar un arreglo a otra variable debemos usar copy()\n",
    "\n",
    "a = np.array([1, 2, 3, 4])\n",
    "b = a.copy()\n",
    "b[1] = 20\n",
    "b"
   ]
  },
  {
   "cell_type": "code",
   "execution_count": 17,
   "id": "71a2b655",
   "metadata": {
    "execution": {
     "iopub.execute_input": "2021-05-20T15:51:54.736927Z",
     "iopub.status.busy": "2021-05-20T15:51:54.736485Z",
     "iopub.status.idle": "2021-05-20T15:51:54.738563Z",
     "shell.execute_reply": "2021-05-20T15:51:54.738903Z"
    }
   },
   "outputs": [
    {
     "data": {
      "text/plain": [
       "array([1, 2, 3, 4])"
      ]
     },
     "execution_count": 1,
     "metadata": {},
     "output_type": "execute_result"
    }
   ],
   "source": [
    "a"
   ]
  },
  {
   "cell_type": "markdown",
   "id": "cb22e743",
   "metadata": {},
   "source": [
    "### Modificación de dimensiones"
   ]
  },
  {
   "cell_type": "markdown",
   "id": "a21e528c",
   "metadata": {},
   "source": [
    "Existen varias operaciones para cambiar la forma de un arreglo de numpy"
   ]
  },
  {
   "cell_type": "code",
   "execution_count": 18,
   "id": "b9e444f5",
   "metadata": {
    "execution": {
     "iopub.execute_input": "2021-05-20T15:51:54.742692Z",
     "iopub.status.busy": "2021-05-20T15:51:54.742249Z",
     "iopub.status.idle": "2021-05-20T15:51:54.744354Z",
     "shell.execute_reply": "2021-05-20T15:51:54.744694Z"
    }
   },
   "outputs": [
    {
     "data": {
      "text/plain": [
       "array([[ 1,  2,  3,  4],\n",
       "       [ 5,  6,  7,  8],\n",
       "       [ 9, 10, 11, 12]])"
      ]
     },
     "execution_count": 1,
     "metadata": {},
     "output_type": "execute_result"
    }
   ],
   "source": [
    "matriz_de_enteros"
   ]
  },
  {
   "cell_type": "code",
   "execution_count": 19,
   "id": "009449a4",
   "metadata": {
    "execution": {
     "iopub.execute_input": "2021-05-20T15:51:54.748218Z",
     "iopub.status.busy": "2021-05-20T15:51:54.747773Z",
     "iopub.status.idle": "2021-05-20T15:51:54.751422Z",
     "shell.execute_reply": "2021-05-20T15:51:54.751788Z"
    }
   },
   "outputs": [
    {
     "data": {
      "text/plain": [
       "2"
      ]
     },
     "execution_count": 1,
     "metadata": {},
     "output_type": "execute_result"
    }
   ],
   "source": [
    "# Obtener las dimensiones del arreglo\n",
    "\n",
    "matriz_de_enteros.ndim"
   ]
  },
  {
   "cell_type": "code",
   "execution_count": 20,
   "id": "958cffcb",
   "metadata": {
    "execution": {
     "iopub.execute_input": "2021-05-20T15:51:54.755380Z",
     "iopub.status.busy": "2021-05-20T15:51:54.754940Z",
     "iopub.status.idle": "2021-05-20T15:51:54.756530Z",
     "shell.execute_reply": "2021-05-20T15:51:54.756939Z"
    }
   },
   "outputs": [
    {
     "data": {
      "text/plain": [
       "(3, 4)"
      ]
     },
     "execution_count": 1,
     "metadata": {},
     "output_type": "execute_result"
    }
   ],
   "source": [
    "# Obtener la forma del arreglo\n",
    "\n",
    "matriz_de_enteros.shape"
   ]
  },
  {
   "cell_type": "code",
   "execution_count": 21,
   "id": "805aa207",
   "metadata": {
    "execution": {
     "iopub.execute_input": "2021-05-20T15:51:54.761834Z",
     "iopub.status.busy": "2021-05-20T15:51:54.761391Z",
     "iopub.status.idle": "2021-05-20T15:51:54.764417Z",
     "shell.execute_reply": "2021-05-20T15:51:54.764045Z"
    }
   },
   "outputs": [
    {
     "name": "stdout",
     "output_type": "stream",
     "text": [
      "enteros: [ 3  6  9 12]\n"
     ]
    },
    {
     "data": {
      "text/plain": [
       "array([[ 3,  6],\n",
       "       [ 9, 12]])"
      ]
     },
     "execution_count": 1,
     "metadata": {},
     "output_type": "execute_result"
    }
   ],
   "source": [
    "# Modificar la forma de un arreglo\n",
    "\n",
    "enteros = np.array([3, 6, 9, 12])\n",
    "print(f\"enteros: {enteros}\")\n",
    "np.reshape(enteros, (2, 2))"
   ]
  },
  {
   "cell_type": "code",
   "execution_count": 22,
   "id": "406f19b7",
   "metadata": {
    "execution": {
     "iopub.execute_input": "2021-05-20T15:51:54.768510Z",
     "iopub.status.busy": "2021-05-20T15:51:54.768069Z",
     "iopub.status.idle": "2021-05-20T15:51:54.770177Z",
     "shell.execute_reply": "2021-05-20T15:51:54.770519Z"
    }
   },
   "outputs": [
    {
     "data": {
      "text/plain": [
       "array([[1., 1.],\n",
       "       [1., 1.]])"
      ]
     },
     "execution_count": 1,
     "metadata": {},
     "output_type": "execute_result"
    }
   ],
   "source": [
    "# Aplanar un arreglo\n",
    "\n",
    "a = np.ones((2, 2))\n",
    "a"
   ]
  },
  {
   "cell_type": "code",
   "execution_count": 23,
   "id": "57754802",
   "metadata": {
    "execution": {
     "iopub.execute_input": "2021-05-20T15:51:54.774489Z",
     "iopub.status.busy": "2021-05-20T15:51:54.774054Z",
     "iopub.status.idle": "2021-05-20T15:51:54.776186Z",
     "shell.execute_reply": "2021-05-20T15:51:54.776527Z"
    }
   },
   "outputs": [
    {
     "data": {
      "text/plain": [
       "array([1., 1., 1., 1.])"
      ]
     },
     "execution_count": 1,
     "metadata": {},
     "output_type": "execute_result"
    }
   ],
   "source": [
    "a.flatten()"
   ]
  },
  {
   "cell_type": "code",
   "execution_count": 24,
   "id": "041d67cf",
   "metadata": {
    "execution": {
     "iopub.execute_input": "2021-05-20T15:51:54.780326Z",
     "iopub.status.busy": "2021-05-20T15:51:54.779888Z",
     "iopub.status.idle": "2021-05-20T15:51:54.781941Z",
     "shell.execute_reply": "2021-05-20T15:51:54.782285Z"
    },
    "lines_to_next_cell": 2
   },
   "outputs": [
    {
     "data": {
      "text/plain": [
       "array([[1., 1.],\n",
       "       [1., 1.]])"
      ]
     },
     "execution_count": 1,
     "metadata": {},
     "output_type": "execute_result"
    }
   ],
   "source": [
    "a"
   ]
  },
  {
   "cell_type": "markdown",
   "id": "02fdab99",
   "metadata": {},
   "source": [
    "### Combinación de arreglos (Stacking)"
   ]
  },
  {
   "cell_type": "code",
   "execution_count": 25,
   "id": "c6a6937f",
   "metadata": {
    "execution": {
     "iopub.execute_input": "2021-05-20T15:51:54.786500Z",
     "iopub.status.busy": "2021-05-20T15:51:54.785670Z",
     "iopub.status.idle": "2021-05-20T15:51:54.788207Z",
     "shell.execute_reply": "2021-05-20T15:51:54.788554Z"
    }
   },
   "outputs": [
    {
     "data": {
      "text/plain": [
       "array([0, 1, 2, 3, 4])"
      ]
     },
     "execution_count": 1,
     "metadata": {},
     "output_type": "execute_result"
    }
   ],
   "source": [
    "# Los arreglos se pueden combinar verticalmente (se incrementa la cantidad de filas)\n",
    "\n",
    "a = np.arange(0, 5)\n",
    "a"
   ]
  },
  {
   "cell_type": "code",
   "execution_count": 26,
   "id": "6b13412b",
   "metadata": {
    "execution": {
     "iopub.execute_input": "2021-05-20T15:51:54.792346Z",
     "iopub.status.busy": "2021-05-20T15:51:54.791903Z",
     "iopub.status.idle": "2021-05-20T15:51:54.794009Z",
     "shell.execute_reply": "2021-05-20T15:51:54.794360Z"
    }
   },
   "outputs": [
    {
     "data": {
      "text/plain": [
       "array([5, 6, 7, 8, 9])"
      ]
     },
     "execution_count": 1,
     "metadata": {},
     "output_type": "execute_result"
    }
   ],
   "source": [
    "b = np.arange(5, 10)\n",
    "b"
   ]
  },
  {
   "cell_type": "code",
   "execution_count": 27,
   "id": "3a141be8",
   "metadata": {
    "execution": {
     "iopub.execute_input": "2021-05-20T15:51:54.798308Z",
     "iopub.status.busy": "2021-05-20T15:51:54.797870Z",
     "iopub.status.idle": "2021-05-20T15:51:54.799942Z",
     "shell.execute_reply": "2021-05-20T15:51:54.800282Z"
    }
   },
   "outputs": [
    {
     "data": {
      "text/plain": [
       "array([[0, 1, 2, 3, 4],\n",
       "       [5, 6, 7, 8, 9]])"
      ]
     },
     "execution_count": 1,
     "metadata": {},
     "output_type": "execute_result"
    }
   ],
   "source": [
    "combinados_verticalmente = np.vstack((a, b))\n",
    "combinados_verticalmente"
   ]
  },
  {
   "cell_type": "code",
   "execution_count": 28,
   "id": "88eac111",
   "metadata": {
    "execution": {
     "iopub.execute_input": "2021-05-20T15:51:54.804232Z",
     "iopub.status.busy": "2021-05-20T15:51:54.803779Z",
     "iopub.status.idle": "2021-05-20T15:51:54.805849Z",
     "shell.execute_reply": "2021-05-20T15:51:54.806191Z"
    }
   },
   "outputs": [
    {
     "data": {
      "text/plain": [
       "array([0, 1, 2, 3, 4, 5, 6, 7, 8, 9])"
      ]
     },
     "execution_count": 1,
     "metadata": {},
     "output_type": "execute_result"
    }
   ],
   "source": [
    "# También se pueden combinar horizontalmente (se incrementa la cantidad de columnas)\n",
    "\n",
    "combinados_horizontalmente = np.hstack((a, b))\n",
    "combinados_horizontalmente"
   ]
  },
  {
   "cell_type": "markdown",
   "id": "1d445aff",
   "metadata": {},
   "source": [
    "### Operaciones matemáticas"
   ]
  },
  {
   "cell_type": "code",
   "execution_count": 29,
   "id": "1475fd34",
   "metadata": {
    "execution": {
     "iopub.execute_input": "2021-05-20T15:51:54.810216Z",
     "iopub.status.busy": "2021-05-20T15:51:54.809779Z",
     "iopub.status.idle": "2021-05-20T15:51:54.811874Z",
     "shell.execute_reply": "2021-05-20T15:51:54.812219Z"
    }
   },
   "outputs": [
    {
     "data": {
      "text/plain": [
       "array([3, 4, 5, 6])"
      ]
     },
     "execution_count": 1,
     "metadata": {},
     "output_type": "execute_result"
    }
   ],
   "source": [
    "a = np.array([1, 2, 3, 4])\n",
    "\n",
    "a + 2"
   ]
  },
  {
   "cell_type": "code",
   "execution_count": 30,
   "id": "42551283",
   "metadata": {
    "execution": {
     "iopub.execute_input": "2021-05-20T15:51:54.815955Z",
     "iopub.status.busy": "2021-05-20T15:51:54.815497Z",
     "iopub.status.idle": "2021-05-20T15:51:54.817538Z",
     "shell.execute_reply": "2021-05-20T15:51:54.817879Z"
    }
   },
   "outputs": [
    {
     "data": {
      "text/plain": [
       "array([ 1,  4,  9, 16])"
      ]
     },
     "execution_count": 1,
     "metadata": {},
     "output_type": "execute_result"
    }
   ],
   "source": [
    "a ** 2"
   ]
  },
  {
   "cell_type": "code",
   "execution_count": 31,
   "id": "a7f0d9b7",
   "metadata": {
    "execution": {
     "iopub.execute_input": "2021-05-20T15:51:54.822610Z",
     "iopub.status.busy": "2021-05-20T15:51:54.822174Z",
     "iopub.status.idle": "2021-05-20T15:51:54.825164Z",
     "shell.execute_reply": "2021-05-20T15:51:54.824790Z"
    }
   },
   "outputs": [
    {
     "name": "stdout",
     "output_type": "stream",
     "text": [
      "b: [1. 1. 1. 1.]\n"
     ]
    },
    {
     "data": {
      "text/plain": [
       "array([2., 3., 4., 5.])"
      ]
     },
     "execution_count": 1,
     "metadata": {},
     "output_type": "execute_result"
    }
   ],
   "source": [
    "b = np.ones(4)\n",
    "print(f\"b: {b}\")\n",
    "a + b"
   ]
  },
  {
   "cell_type": "markdown",
   "id": "3c6e251c",
   "metadata": {},
   "source": [
    "### Estadística"
   ]
  },
  {
   "cell_type": "code",
   "execution_count": 32,
   "id": "fc13a5f2",
   "metadata": {
    "execution": {
     "iopub.execute_input": "2021-05-20T15:51:54.829623Z",
     "iopub.status.busy": "2021-05-20T15:51:54.829187Z",
     "iopub.status.idle": "2021-05-20T15:51:54.831374Z",
     "shell.execute_reply": "2021-05-20T15:51:54.831737Z"
    }
   },
   "outputs": [
    {
     "data": {
      "text/plain": [
       "1"
      ]
     },
     "execution_count": 1,
     "metadata": {},
     "output_type": "execute_result"
    }
   ],
   "source": [
    "a = np.array([[5, 2, 1, 8], [26, 4, 17, 9]])\n",
    "\n",
    "np.min(a)"
   ]
  },
  {
   "cell_type": "code",
   "execution_count": 33,
   "id": "37c92415",
   "metadata": {
    "execution": {
     "iopub.execute_input": "2021-05-20T15:51:54.835560Z",
     "iopub.status.busy": "2021-05-20T15:51:54.835126Z",
     "iopub.status.idle": "2021-05-20T15:51:54.837254Z",
     "shell.execute_reply": "2021-05-20T15:51:54.837597Z"
    }
   },
   "outputs": [
    {
     "data": {
      "text/plain": [
       "26"
      ]
     },
     "execution_count": 1,
     "metadata": {},
     "output_type": "execute_result"
    }
   ],
   "source": [
    "np.max(a)"
   ]
  },
  {
   "cell_type": "code",
   "execution_count": 34,
   "id": "9c687e32",
   "metadata": {
    "execution": {
     "iopub.execute_input": "2021-05-20T15:51:54.841534Z",
     "iopub.status.busy": "2021-05-20T15:51:54.841091Z",
     "iopub.status.idle": "2021-05-20T15:51:54.843178Z",
     "shell.execute_reply": "2021-05-20T15:51:54.843524Z"
    }
   },
   "outputs": [
    {
     "data": {
      "text/plain": [
       "72"
      ]
     },
     "execution_count": 1,
     "metadata": {},
     "output_type": "execute_result"
    }
   ],
   "source": [
    "np.sum(a)"
   ]
  },
  {
   "cell_type": "markdown",
   "id": "82014afb",
   "metadata": {},
   "source": [
    "### Más magia"
   ]
  },
  {
   "cell_type": "code",
   "execution_count": 35,
   "id": "c4b5f54a",
   "metadata": {
    "execution": {
     "iopub.execute_input": "2021-05-20T15:51:54.847720Z",
     "iopub.status.busy": "2021-05-20T15:51:54.847257Z",
     "iopub.status.idle": "2021-05-20T15:51:54.849325Z",
     "shell.execute_reply": "2021-05-20T15:51:54.849665Z"
    }
   },
   "outputs": [
    {
     "data": {
      "text/plain": [
       "array([[False, False, False,  True],\n",
       "       [ True, False,  True,  True]])"
      ]
     },
     "execution_count": 1,
     "metadata": {},
     "output_type": "execute_result"
    }
   ],
   "source": [
    "a = np.array([[5, 2, 1, 8], [26, 4, 17, 9]])\n",
    "\n",
    "a > 5"
   ]
  },
  {
   "cell_type": "code",
   "execution_count": 36,
   "id": "95d3d41d",
   "metadata": {
    "execution": {
     "iopub.execute_input": "2021-05-20T15:51:54.853477Z",
     "iopub.status.busy": "2021-05-20T15:51:54.853043Z",
     "iopub.status.idle": "2021-05-20T15:51:54.855325Z",
     "shell.execute_reply": "2021-05-20T15:51:54.855686Z"
    }
   },
   "outputs": [
    {
     "data": {
      "text/plain": [
       "array([ 8, 26, 17,  9])"
      ]
     },
     "execution_count": 1,
     "metadata": {},
     "output_type": "execute_result"
    }
   ],
   "source": [
    "a[a > 5]"
   ]
  },
  {
   "cell_type": "markdown",
   "id": "86c70db0",
   "metadata": {},
   "source": [
    "### Broadcasting"
   ]
  },
  {
   "cell_type": "markdown",
   "id": "df949d9a",
   "metadata": {},
   "source": [
    "Permite realizar operaciones entre dos numpy arrays de distintas dimensiones.\n",
    "Para lograr esto, las dimensiones de los mismos deben ser compatibles. Dos dimensiones son compatibles cuando:\n",
    "1. Son iguales\n",
    "2. Alguna de las dos es 1"
   ]
  },
  {
   "cell_type": "code",
   "execution_count": 37,
   "id": "348a5678",
   "metadata": {
    "execution": {
     "iopub.execute_input": "2021-05-20T15:51:54.859793Z",
     "iopub.status.busy": "2021-05-20T15:51:54.859334Z",
     "iopub.status.idle": "2021-05-20T15:51:54.861426Z",
     "shell.execute_reply": "2021-05-20T15:51:54.861768Z"
    }
   },
   "outputs": [
    {
     "data": {
      "text/plain": [
       "array([[ 5,  2,  1,  8],\n",
       "       [26,  4, 17,  9]])"
      ]
     },
     "execution_count": 1,
     "metadata": {},
     "output_type": "execute_result"
    }
   ],
   "source": [
    "a = np.array([[5, 2, 1, 8], [26, 4, 17, 9]])\n",
    "a"
   ]
  },
  {
   "cell_type": "code",
   "execution_count": 38,
   "id": "16b61429",
   "metadata": {
    "execution": {
     "iopub.execute_input": "2021-05-20T15:51:54.866667Z",
     "iopub.status.busy": "2021-05-20T15:51:54.865907Z",
     "iopub.status.idle": "2021-05-20T15:51:54.867950Z",
     "shell.execute_reply": "2021-05-20T15:51:54.868294Z"
    }
   },
   "outputs": [
    {
     "name": "stdout",
     "output_type": "stream",
     "text": [
      "a: (2, 4)\n",
      "b: (4,)\n",
      "\n",
      "a + b:\n",
      " [[10  4  2 16]\n",
      " [31  6 18 17]]\n"
     ]
    }
   ],
   "source": [
    "# Armamos un array que tenga la misma cantidad de columnas que a\n",
    "b = np.array([5, 2, 1, 8])\n",
    "print(f\"a: {a.shape}\")\n",
    "print(f\"b: {b.shape}\")\n",
    "# a + b\n",
    "print()\n",
    "print(f\"a + b:\\n {a + b}\")"
   ]
  },
  {
   "cell_type": "code",
   "execution_count": 39,
   "id": "f27d38a6",
   "metadata": {
    "execution": {
     "iopub.execute_input": "2021-05-20T15:51:54.871863Z",
     "iopub.status.busy": "2021-05-20T15:51:54.871375Z",
     "iopub.status.idle": "2021-05-20T15:51:54.924634Z",
     "shell.execute_reply": "2021-05-20T15:51:54.925100Z"
    },
    "tags": [
     "raises-exception"
    ]
   },
   "outputs": [
    {
     "name": "stdout",
     "output_type": "stream",
     "text": [
      "a: (2, 4)\n",
      "b: (3,)\n"
     ]
    },
    {
     "ename": "ValueError",
     "evalue": "operands could not be broadcast together with shapes (2,4) (3,) ",
     "output_type": "error",
     "traceback": [
      "\u001b[0;31m---------------------------------------------------------------------------\u001b[0m",
      "\u001b[0;31mValueError\u001b[0m                                Traceback (most recent call last)",
      "\u001b[0;32m<ipython-input-1-fe11b6ae6346>\u001b[0m in \u001b[0;36m<module>\u001b[0;34m\u001b[0m\n\u001b[1;32m      3\u001b[0m \u001b[0mprint\u001b[0m\u001b[0;34m(\u001b[0m\u001b[0;34mf\"a: {a.shape}\"\u001b[0m\u001b[0;34m)\u001b[0m\u001b[0;34m\u001b[0m\u001b[0;34m\u001b[0m\u001b[0m\n\u001b[1;32m      4\u001b[0m \u001b[0mprint\u001b[0m\u001b[0;34m(\u001b[0m\u001b[0;34mf\"b: {b.shape}\"\u001b[0m\u001b[0;34m)\u001b[0m\u001b[0;34m\u001b[0m\u001b[0;34m\u001b[0m\u001b[0m\n\u001b[0;32m----> 5\u001b[0;31m \u001b[0ma\u001b[0m \u001b[0;34m+\u001b[0m \u001b[0mb\u001b[0m\u001b[0;34m\u001b[0m\u001b[0;34m\u001b[0m\u001b[0m\n\u001b[0m",
      "\u001b[0;31mValueError\u001b[0m: operands could not be broadcast together with shapes (2,4) (3,) "
     ]
    }
   ],
   "source": [
    "# Armamos un array que tenga distinta cantidad de filas y columnas que a\n",
    "b = np.array([5, 1, 8])\n",
    "print(f\"a: {a.shape}\")\n",
    "print(f\"b: {b.shape}\")\n",
    "a + b"
   ]
  },
  {
   "cell_type": "code",
   "execution_count": 40,
   "id": "0e4a7ece",
   "metadata": {
    "execution": {
     "iopub.execute_input": "2021-05-20T15:51:54.930442Z",
     "iopub.status.busy": "2021-05-20T15:51:54.929993Z",
     "iopub.status.idle": "2021-05-20T15:51:54.933084Z",
     "shell.execute_reply": "2021-05-20T15:51:54.932702Z"
    }
   },
   "outputs": [
    {
     "name": "stdout",
     "output_type": "stream",
     "text": [
      "a: (2, 4)\n",
      "b: (2, 1)\n"
     ]
    },
    {
     "data": {
      "text/plain": [
       "array([[ 7,  4,  3, 10],\n",
       "       [27,  5, 18, 10]])"
      ]
     },
     "execution_count": 1,
     "metadata": {},
     "output_type": "execute_result"
    }
   ],
   "source": [
    "# Armamos un array que tenga la misma cantidad de filas que a\n",
    "b = np.array([[2], [1]])\n",
    "print(f\"a: {a.shape}\")\n",
    "print(f\"b: {b.shape}\")\n",
    "a + b"
   ]
  },
  {
   "cell_type": "code",
   "execution_count": 41,
   "id": "b16c6d62",
   "metadata": {
    "execution": {
     "iopub.execute_input": "2021-05-20T15:51:54.936924Z",
     "iopub.status.busy": "2021-05-20T15:51:54.936487Z",
     "iopub.status.idle": "2021-05-20T15:51:54.938560Z",
     "shell.execute_reply": "2021-05-20T15:51:54.938903Z"
    }
   },
   "outputs": [
    {
     "data": {
      "text/plain": [
       "array([[ 9,  6,  5, 12],\n",
       "       [30,  8, 21, 13]])"
      ]
     },
     "execution_count": 1,
     "metadata": {},
     "output_type": "execute_result"
    }
   ],
   "source": [
    "# Si b es un entero\n",
    "b = 4\n",
    "a + b"
   ]
  },
  {
   "cell_type": "code",
   "execution_count": null,
   "id": "be76aed3",
   "metadata": {},
   "outputs": [],
   "source": []
  }
 ],
 "metadata": {
  "jupytext": {
   "encoding": "# -*- coding: utf-8 -*-",
   "formats": "ipynb,py:light"
  },
  "kernelspec": {
   "display_name": "Python 3",
   "language": "python",
   "name": "python3"
  },
  "language_info": {
   "codemirror_mode": {
    "name": "ipython",
    "version": 3
   },
   "file_extension": ".py",
   "mimetype": "text/x-python",
   "name": "python",
   "nbconvert_exporter": "python",
   "pygments_lexer": "ipython3",
   "version": "3.7.10"
  }
 },
 "nbformat": 4,
 "nbformat_minor": 5
}
