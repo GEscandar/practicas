{
 "cells": [
  {
   "cell_type": "markdown",
   "id": "eb1bc814",
   "metadata": {},
   "source": [
    "## Clase 1 - Introducción a Numpy\n",
    "\n",
    "Numpy es una biblioteca para Python que facilita el manejo de arreglos multidimensionales y ofrece varias herramientas para trabajar con ellos. Muchas de las bibliotecas de Python que son ampliamente usadas hoy en día, como pandas, están construidas sobre numpy.\n",
    "\n",
    "### Listas de Python vs arreglos de Numpy\n",
    "\n",
    "A primera vista, un arreglo de numpy puede resultar idéntico a una lista de python, pero a medida que la cantidad de datos comienza a incrementar, los arreglos de numpy terminan ofreciendo un manejo más eficiente de la memoria.\n",
    "\n",
    "Para comenzar, vamos a crear un arreglo de numpy:"
   ]
  },
  {
   "cell_type": "code",
   "execution_count": 1,
   "id": "e1f2d38f",
   "metadata": {
    "execution": {
     "iopub.execute_input": "2021-04-28T21:19:34.277489Z",
     "iopub.status.busy": "2021-04-28T21:19:34.276829Z",
     "iopub.status.idle": "2021-04-28T21:19:34.472446Z",
     "shell.execute_reply": "2021-04-28T21:19:34.471762Z"
    }
   },
   "outputs": [
    {
     "data": {
      "text/plain": [
       "array([1, 2, 3, 4])"
      ]
     },
     "execution_count": 1,
     "metadata": {},
     "output_type": "execute_result"
    }
   ],
   "source": [
    "import numpy as np\n",
    "\n",
    "np.array([1, 2, 3, 4])"
   ]
  },
  {
   "cell_type": "markdown",
   "id": "d76d160d",
   "metadata": {},
   "source": [
    "Los arreglos pueden ser también multidimensionales:"
   ]
  },
  {
   "cell_type": "code",
   "execution_count": 2,
   "id": "2dd0a853",
   "metadata": {
    "execution": {
     "iopub.execute_input": "2021-04-28T21:19:34.478718Z",
     "iopub.status.busy": "2021-04-28T21:19:34.477687Z",
     "iopub.status.idle": "2021-04-28T21:19:34.481282Z",
     "shell.execute_reply": "2021-04-28T21:19:34.480754Z"
    }
   },
   "outputs": [
    {
     "data": {
      "text/plain": [
       "array([[1, 2, 3, 4],\n",
       "       [5, 6, 7, 8]])"
      ]
     },
     "execution_count": 1,
     "metadata": {},
     "output_type": "execute_result"
    }
   ],
   "source": [
    "np.array([[1, 2, 3, 4], [5, 6, 7, 8]])"
   ]
  },
  {
   "cell_type": "markdown",
   "id": "02034718",
   "metadata": {},
   "source": [
    "Es importante tener en cuenta que un arreglo de numpy tiene un tipo fijo de datos, entonces si se quiere agregar un dato de un tipo diferente al de la mayoría, este va a ser modificado para adaptarse al resto"
   ]
  },
  {
   "cell_type": "code",
   "execution_count": 3,
   "id": "235eb173",
   "metadata": {
    "execution": {
     "iopub.execute_input": "2021-04-28T21:19:34.486460Z",
     "iopub.status.busy": "2021-04-28T21:19:34.485006Z",
     "iopub.status.idle": "2021-04-28T21:19:34.487118Z",
     "shell.execute_reply": "2021-04-28T21:19:34.487570Z"
    }
   },
   "outputs": [],
   "source": [
    "enteros = np.array([1, 2, 3, 4])"
   ]
  },
  {
   "cell_type": "markdown",
   "id": "ba733d93",
   "metadata": {},
   "source": [
    "Agrego un elemento de tipo flotante en la posición 1"
   ]
  },
  {
   "cell_type": "code",
   "execution_count": 4,
   "id": "956d1a8f",
   "metadata": {
    "execution": {
     "iopub.execute_input": "2021-04-28T21:19:34.493026Z",
     "iopub.status.busy": "2021-04-28T21:19:34.492016Z",
     "iopub.status.idle": "2021-04-28T21:19:34.495013Z",
     "shell.execute_reply": "2021-04-28T21:19:34.495441Z"
    }
   },
   "outputs": [
    {
     "data": {
      "text/plain": [
       "array([1, 8, 3, 4])"
      ]
     },
     "execution_count": 1,
     "metadata": {},
     "output_type": "execute_result"
    }
   ],
   "source": [
    "enteros[1] = 8.4727\n",
    "enteros"
   ]
  },
  {
   "cell_type": "markdown",
   "id": "f1a36d54",
   "metadata": {},
   "source": [
    "Numpy también nos permite crear arreglos con valores aleatorios del 0 al 1.\n",
    "Basta con pasarle las dimensiones del arreglo que queremos crear."
   ]
  },
  {
   "cell_type": "code",
   "execution_count": 5,
   "id": "43a66fa8",
   "metadata": {
    "execution": {
     "iopub.execute_input": "2021-04-28T21:19:34.501139Z",
     "iopub.status.busy": "2021-04-28T21:19:34.500511Z",
     "iopub.status.idle": "2021-04-28T21:19:34.503568Z",
     "shell.execute_reply": "2021-04-28T21:19:34.504060Z"
    }
   },
   "outputs": [
    {
     "data": {
      "text/plain": [
       "array([[0.34362624, 0.92047501, 0.19008119],\n",
       "       [0.08802457, 0.48091238, 0.88465663]])"
      ]
     },
     "execution_count": 1,
     "metadata": {},
     "output_type": "execute_result"
    }
   ],
   "source": [
    "np.random.rand(2, 3)"
   ]
  },
  {
   "cell_type": "markdown",
   "id": "326351f4",
   "metadata": {},
   "source": [
    "## Slicing\n",
    "\n",
    "De la misma forma que con las listas de python, pueden obtenerse slices de los arreglos de numpy"
   ]
  },
  {
   "cell_type": "code",
   "execution_count": 6,
   "id": "81665b7a",
   "metadata": {
    "execution": {
     "iopub.execute_input": "2021-04-28T21:19:34.509422Z",
     "iopub.status.busy": "2021-04-28T21:19:34.508577Z",
     "iopub.status.idle": "2021-04-28T21:19:34.511552Z",
     "shell.execute_reply": "2021-04-28T21:19:34.512021Z"
    },
    "lines_to_next_cell": 2
   },
   "outputs": [
    {
     "data": {
      "text/plain": [
       "array([1, 8])"
      ]
     },
     "execution_count": 1,
     "metadata": {},
     "output_type": "execute_result"
    }
   ],
   "source": [
    "enteros[:2]"
   ]
  },
  {
   "cell_type": "code",
   "execution_count": 7,
   "id": "c51a5d86",
   "metadata": {
    "execution": {
     "iopub.execute_input": "2021-04-28T21:19:34.519621Z",
     "iopub.status.busy": "2021-04-28T21:19:34.518114Z",
     "iopub.status.idle": "2021-04-28T21:19:34.521684Z",
     "shell.execute_reply": "2021-04-28T21:19:34.521173Z"
    }
   },
   "outputs": [
    {
     "name": "stdout",
     "output_type": "stream",
     "text": [
      "Original: \n",
      "[[ 1  2  3  4]\n",
      " [ 5  6  7  8]\n",
      " [ 9 10 11 12]]\n",
      "\n",
      "Recortada: \n",
      "[[1 2 3]\n",
      " [5 6 7]]\n"
     ]
    }
   ],
   "source": [
    "matriz_de_enteros = np.array([[1, 2, 3, 4], [5, 6, 7, 8], [9, 10, 11, 12]])\n",
    "\n",
    "print('Original: ')\n",
    "print(matriz_de_enteros)\n",
    "\n",
    "print()\n",
    "\n",
    "print('Recortada: ')\n",
    "print(matriz_de_enteros[:2, :3])"
   ]
  },
  {
   "cell_type": "code",
   "execution_count": 8,
   "id": "99e95067",
   "metadata": {
    "execution": {
     "iopub.execute_input": "2021-04-28T21:19:34.528278Z",
     "iopub.status.busy": "2021-04-28T21:19:34.526617Z",
     "iopub.status.idle": "2021-04-28T21:19:34.530293Z",
     "shell.execute_reply": "2021-04-28T21:19:34.529787Z"
    }
   },
   "outputs": [
    {
     "data": {
      "text/plain": [
       "array([[[ 0,  1,  2,  3,  4],\n",
       "        [ 5,  6,  7,  8,  9],\n",
       "        [10, 11, 12, 13, 14]],\n",
       "\n",
       "       [[15, 16, 17, 18, 19],\n",
       "        [20, 21, 22, 23, 24],\n",
       "        [25, 26, 27, 28, 29]],\n",
       "\n",
       "       [[30, 31, 32, 33, 34],\n",
       "        [35, 36, 37, 38, 39],\n",
       "        [40, 41, 42, 43, 44]]])"
      ]
     },
     "execution_count": 1,
     "metadata": {},
     "output_type": "execute_result"
    }
   ],
   "source": [
    "# 3D\n",
    "# arange() genera valores de un intervalo pasado por parámetro\n",
    "# reshape() modifica la forma del numpy array\n",
    "\n",
    "x = np.arange(45).reshape(3, 3, 5)\n",
    "x"
   ]
  },
  {
   "cell_type": "code",
   "execution_count": 9,
   "id": "c55808e1",
   "metadata": {
    "execution": {
     "iopub.execute_input": "2021-04-28T21:19:34.535907Z",
     "iopub.status.busy": "2021-04-28T21:19:34.534875Z",
     "iopub.status.idle": "2021-04-28T21:19:34.537905Z",
     "shell.execute_reply": "2021-04-28T21:19:34.538332Z"
    }
   },
   "outputs": [
    {
     "data": {
      "text/plain": [
       "array([[ 0,  1,  2,  3,  4],\n",
       "       [ 5,  6,  7,  8,  9],\n",
       "       [10, 11, 12, 13, 14]])"
      ]
     },
     "execution_count": 1,
     "metadata": {},
     "output_type": "execute_result"
    }
   ],
   "source": [
    "x[0]"
   ]
  },
  {
   "cell_type": "code",
   "execution_count": 10,
   "id": "cdfbfc52",
   "metadata": {
    "execution": {
     "iopub.execute_input": "2021-04-28T21:19:34.543653Z",
     "iopub.status.busy": "2021-04-28T21:19:34.542628Z",
     "iopub.status.idle": "2021-04-28T21:19:34.545636Z",
     "shell.execute_reply": "2021-04-28T21:19:34.546095Z"
    }
   },
   "outputs": [
    {
     "data": {
      "text/plain": [
       "array([5, 6, 7, 8, 9])"
      ]
     },
     "execution_count": 1,
     "metadata": {},
     "output_type": "execute_result"
    }
   ],
   "source": [
    "x[0][1]"
   ]
  },
  {
   "cell_type": "code",
   "execution_count": 11,
   "id": "23e04ede",
   "metadata": {
    "execution": {
     "iopub.execute_input": "2021-04-28T21:19:34.551752Z",
     "iopub.status.busy": "2021-04-28T21:19:34.550710Z",
     "iopub.status.idle": "2021-04-28T21:19:34.553702Z",
     "shell.execute_reply": "2021-04-28T21:19:34.554132Z"
    }
   },
   "outputs": [
    {
     "data": {
      "text/plain": [
       "7"
      ]
     },
     "execution_count": 1,
     "metadata": {},
     "output_type": "execute_result"
    }
   ],
   "source": [
    "x[0][1][2]"
   ]
  },
  {
   "cell_type": "markdown",
   "id": "f43dec5f",
   "metadata": {},
   "source": [
    "\n",
    "¿Cómo conseguimos estos valores? ([fuente](https://towardsdatascience.com/indexing-and-slicing-of-1d-2d-and-3d-arrays-in-numpy-e731afff0bbe))\n",
    "\n",
    "![title](img/matrix.png)"
   ]
  },
  {
   "cell_type": "code",
   "execution_count": 12,
   "id": "b656eb6d",
   "metadata": {
    "execution": {
     "iopub.execute_input": "2021-04-28T21:19:34.559900Z",
     "iopub.status.busy": "2021-04-28T21:19:34.558854Z",
     "iopub.status.idle": "2021-04-28T21:19:34.561699Z",
     "shell.execute_reply": "2021-04-28T21:19:34.562161Z"
    }
   },
   "outputs": [
    {
     "data": {
      "text/plain": [
       "array([[[16, 17, 18],\n",
       "        [21, 22, 23]],\n",
       "\n",
       "       [[31, 32, 33],\n",
       "        [36, 37, 38]]])"
      ]
     },
     "execution_count": 1,
     "metadata": {},
     "output_type": "execute_result"
    }
   ],
   "source": [
    "x[1:, 0:2, 1:4]"
   ]
  },
  {
   "cell_type": "markdown",
   "id": "c8f80001",
   "metadata": {},
   "source": [
    "### Copia de arreglos"
   ]
  },
  {
   "cell_type": "code",
   "execution_count": 13,
   "id": "4caaf7f1",
   "metadata": {
    "execution": {
     "iopub.execute_input": "2021-04-28T21:19:34.567586Z",
     "iopub.status.busy": "2021-04-28T21:19:34.566741Z",
     "iopub.status.idle": "2021-04-28T21:19:34.569594Z",
     "shell.execute_reply": "2021-04-28T21:19:34.570060Z"
    }
   },
   "outputs": [
    {
     "data": {
      "text/plain": [
       "array([1, 2, 3, 4])"
      ]
     },
     "execution_count": 1,
     "metadata": {},
     "output_type": "execute_result"
    }
   ],
   "source": [
    "# Los arreglos no se copian con asignación\n",
    "\n",
    "a = np.array([1, 2, 3, 4])\n",
    "b = a\n",
    "b"
   ]
  },
  {
   "cell_type": "code",
   "execution_count": 14,
   "id": "5ef881f0",
   "metadata": {
    "execution": {
     "iopub.execute_input": "2021-04-28T21:19:34.575359Z",
     "iopub.status.busy": "2021-04-28T21:19:34.574312Z",
     "iopub.status.idle": "2021-04-28T21:19:34.577178Z",
     "shell.execute_reply": "2021-04-28T21:19:34.577630Z"
    }
   },
   "outputs": [
    {
     "data": {
      "text/plain": [
       "array([ 1, 20,  3,  4])"
      ]
     },
     "execution_count": 1,
     "metadata": {},
     "output_type": "execute_result"
    }
   ],
   "source": [
    "b[1] = 20\n",
    "b"
   ]
  },
  {
   "cell_type": "code",
   "execution_count": 15,
   "id": "294c1d3b",
   "metadata": {
    "execution": {
     "iopub.execute_input": "2021-04-28T21:19:34.582689Z",
     "iopub.status.busy": "2021-04-28T21:19:34.581671Z",
     "iopub.status.idle": "2021-04-28T21:19:34.584550Z",
     "shell.execute_reply": "2021-04-28T21:19:34.585011Z"
    }
   },
   "outputs": [
    {
     "data": {
      "text/plain": [
       "array([ 1, 20,  3,  4])"
      ]
     },
     "execution_count": 1,
     "metadata": {},
     "output_type": "execute_result"
    }
   ],
   "source": [
    "a"
   ]
  },
  {
   "cell_type": "code",
   "execution_count": 16,
   "id": "75dba02e",
   "metadata": {
    "execution": {
     "iopub.execute_input": "2021-04-28T21:19:34.590834Z",
     "iopub.status.busy": "2021-04-28T21:19:34.589812Z",
     "iopub.status.idle": "2021-04-28T21:19:34.592662Z",
     "shell.execute_reply": "2021-04-28T21:19:34.593115Z"
    }
   },
   "outputs": [
    {
     "data": {
      "text/plain": [
       "array([ 1, 20,  3,  4])"
      ]
     },
     "execution_count": 1,
     "metadata": {},
     "output_type": "execute_result"
    }
   ],
   "source": [
    "# Para copiar un arreglo a otra variable debemos usar copy()\n",
    "\n",
    "a = np.array([1, 2, 3, 4])\n",
    "b = a.copy()\n",
    "b[1] = 20\n",
    "b"
   ]
  },
  {
   "cell_type": "code",
   "execution_count": 17,
   "id": "7f221d53",
   "metadata": {
    "execution": {
     "iopub.execute_input": "2021-04-28T21:19:34.597958Z",
     "iopub.status.busy": "2021-04-28T21:19:34.597141Z",
     "iopub.status.idle": "2021-04-28T21:19:34.600000Z",
     "shell.execute_reply": "2021-04-28T21:19:34.600467Z"
    }
   },
   "outputs": [
    {
     "data": {
      "text/plain": [
       "array([1, 2, 3, 4])"
      ]
     },
     "execution_count": 1,
     "metadata": {},
     "output_type": "execute_result"
    }
   ],
   "source": [
    "a"
   ]
  },
  {
   "cell_type": "markdown",
   "id": "0f0c1399",
   "metadata": {},
   "source": [
    "### Modificación de dimensiones"
   ]
  },
  {
   "cell_type": "markdown",
   "id": "30851a48",
   "metadata": {},
   "source": [
    "Existen varias operaciones para cambiar la forma de un arreglo de numpy"
   ]
  },
  {
   "cell_type": "code",
   "execution_count": 18,
   "id": "e47d9113",
   "metadata": {
    "execution": {
     "iopub.execute_input": "2021-04-28T21:19:34.605868Z",
     "iopub.status.busy": "2021-04-28T21:19:34.604831Z",
     "iopub.status.idle": "2021-04-28T21:19:34.607879Z",
     "shell.execute_reply": "2021-04-28T21:19:34.608381Z"
    }
   },
   "outputs": [
    {
     "data": {
      "text/plain": [
       "array([[ 1,  2,  3,  4],\n",
       "       [ 5,  6,  7,  8],\n",
       "       [ 9, 10, 11, 12]])"
      ]
     },
     "execution_count": 1,
     "metadata": {},
     "output_type": "execute_result"
    }
   ],
   "source": [
    "matriz_de_enteros"
   ]
  },
  {
   "cell_type": "code",
   "execution_count": 19,
   "id": "0d0ce6ca",
   "metadata": {
    "execution": {
     "iopub.execute_input": "2021-04-28T21:19:34.613294Z",
     "iopub.status.busy": "2021-04-28T21:19:34.612688Z",
     "iopub.status.idle": "2021-04-28T21:19:34.615468Z",
     "shell.execute_reply": "2021-04-28T21:19:34.615962Z"
    }
   },
   "outputs": [
    {
     "data": {
      "text/plain": [
       "2"
      ]
     },
     "execution_count": 1,
     "metadata": {},
     "output_type": "execute_result"
    }
   ],
   "source": [
    "# Obtener las dimensiones del arreglo\n",
    "\n",
    "matriz_de_enteros.ndim"
   ]
  },
  {
   "cell_type": "code",
   "execution_count": 20,
   "id": "e1819ada",
   "metadata": {
    "execution": {
     "iopub.execute_input": "2021-04-28T21:19:34.620623Z",
     "iopub.status.busy": "2021-04-28T21:19:34.620002Z",
     "iopub.status.idle": "2021-04-28T21:19:34.622759Z",
     "shell.execute_reply": "2021-04-28T21:19:34.623185Z"
    }
   },
   "outputs": [
    {
     "data": {
      "text/plain": [
       "(3, 4)"
      ]
     },
     "execution_count": 1,
     "metadata": {},
     "output_type": "execute_result"
    }
   ],
   "source": [
    "# Obtener la forma del arreglo\n",
    "\n",
    "matriz_de_enteros.shape"
   ]
  },
  {
   "cell_type": "code",
   "execution_count": 21,
   "id": "f8e2d093",
   "metadata": {
    "execution": {
     "iopub.execute_input": "2021-04-28T21:19:34.629199Z",
     "iopub.status.busy": "2021-04-28T21:19:34.628571Z",
     "iopub.status.idle": "2021-04-28T21:19:34.632552Z",
     "shell.execute_reply": "2021-04-28T21:19:34.632086Z"
    }
   },
   "outputs": [
    {
     "name": "stdout",
     "output_type": "stream",
     "text": [
      "enteros: [ 3  6  9 12]\n"
     ]
    },
    {
     "data": {
      "text/plain": [
       "array([[ 3,  6],\n",
       "       [ 9, 12]])"
      ]
     },
     "execution_count": 1,
     "metadata": {},
     "output_type": "execute_result"
    }
   ],
   "source": [
    "# Modificar la forma de un arreglo\n",
    "\n",
    "enteros = np.array([3, 6, 9, 12])\n",
    "print(f\"enteros: {enteros}\")\n",
    "np.reshape(enteros, (2, 2))"
   ]
  },
  {
   "cell_type": "code",
   "execution_count": 22,
   "id": "17f6e53b",
   "metadata": {
    "execution": {
     "iopub.execute_input": "2021-04-28T21:19:34.637778Z",
     "iopub.status.busy": "2021-04-28T21:19:34.636780Z",
     "iopub.status.idle": "2021-04-28T21:19:34.639621Z",
     "shell.execute_reply": "2021-04-28T21:19:34.640101Z"
    }
   },
   "outputs": [
    {
     "data": {
      "text/plain": [
       "array([[1., 1.],\n",
       "       [1., 1.]])"
      ]
     },
     "execution_count": 1,
     "metadata": {},
     "output_type": "execute_result"
    }
   ],
   "source": [
    "# Aplanar un arreglo\n",
    "\n",
    "a = np.ones((2, 2))\n",
    "a"
   ]
  },
  {
   "cell_type": "code",
   "execution_count": 23,
   "id": "2191ed32",
   "metadata": {
    "execution": {
     "iopub.execute_input": "2021-04-28T21:19:34.645451Z",
     "iopub.status.busy": "2021-04-28T21:19:34.644440Z",
     "iopub.status.idle": "2021-04-28T21:19:34.647267Z",
     "shell.execute_reply": "2021-04-28T21:19:34.647729Z"
    }
   },
   "outputs": [
    {
     "data": {
      "text/plain": [
       "array([1., 1., 1., 1.])"
      ]
     },
     "execution_count": 1,
     "metadata": {},
     "output_type": "execute_result"
    }
   ],
   "source": [
    "a.flatten()"
   ]
  },
  {
   "cell_type": "code",
   "execution_count": 24,
   "id": "8dff5ecf",
   "metadata": {
    "execution": {
     "iopub.execute_input": "2021-04-28T21:19:34.653004Z",
     "iopub.status.busy": "2021-04-28T21:19:34.651990Z",
     "iopub.status.idle": "2021-04-28T21:19:34.654844Z",
     "shell.execute_reply": "2021-04-28T21:19:34.655295Z"
    },
    "lines_to_next_cell": 2
   },
   "outputs": [
    {
     "data": {
      "text/plain": [
       "array([[1., 1.],\n",
       "       [1., 1.]])"
      ]
     },
     "execution_count": 1,
     "metadata": {},
     "output_type": "execute_result"
    }
   ],
   "source": [
    "a"
   ]
  },
  {
   "cell_type": "markdown",
   "id": "2da9da1e",
   "metadata": {},
   "source": [
    "### Combinación de arreglos (Stacking)"
   ]
  },
  {
   "cell_type": "code",
   "execution_count": 25,
   "id": "a8a8b1a8",
   "metadata": {
    "execution": {
     "iopub.execute_input": "2021-04-28T21:19:34.660777Z",
     "iopub.status.busy": "2021-04-28T21:19:34.659696Z",
     "iopub.status.idle": "2021-04-28T21:19:34.662598Z",
     "shell.execute_reply": "2021-04-28T21:19:34.663021Z"
    }
   },
   "outputs": [
    {
     "data": {
      "text/plain": [
       "array([0, 1, 2, 3, 4])"
      ]
     },
     "execution_count": 1,
     "metadata": {},
     "output_type": "execute_result"
    }
   ],
   "source": [
    "# Los arreglos se pueden combinar verticalmente (se incrementa la cantidad de filas)\n",
    "\n",
    "a = np.arange(0, 5)\n",
    "a"
   ]
  },
  {
   "cell_type": "code",
   "execution_count": 26,
   "id": "65d4a2ec",
   "metadata": {
    "execution": {
     "iopub.execute_input": "2021-04-28T21:19:34.668659Z",
     "iopub.status.busy": "2021-04-28T21:19:34.667594Z",
     "iopub.status.idle": "2021-04-28T21:19:34.670473Z",
     "shell.execute_reply": "2021-04-28T21:19:34.670926Z"
    }
   },
   "outputs": [
    {
     "data": {
      "text/plain": [
       "array([5, 6, 7, 8, 9])"
      ]
     },
     "execution_count": 1,
     "metadata": {},
     "output_type": "execute_result"
    }
   ],
   "source": [
    "b = np.arange(5, 10)\n",
    "b"
   ]
  },
  {
   "cell_type": "code",
   "execution_count": 27,
   "id": "cfe5929b",
   "metadata": {
    "execution": {
     "iopub.execute_input": "2021-04-28T21:19:34.676407Z",
     "iopub.status.busy": "2021-04-28T21:19:34.675354Z",
     "iopub.status.idle": "2021-04-28T21:19:34.678224Z",
     "shell.execute_reply": "2021-04-28T21:19:34.678679Z"
    }
   },
   "outputs": [
    {
     "data": {
      "text/plain": [
       "array([[0, 1, 2, 3, 4],\n",
       "       [5, 6, 7, 8, 9]])"
      ]
     },
     "execution_count": 1,
     "metadata": {},
     "output_type": "execute_result"
    }
   ],
   "source": [
    "combinados_verticalmente = np.vstack((a, b))\n",
    "combinados_verticalmente"
   ]
  },
  {
   "cell_type": "code",
   "execution_count": 28,
   "id": "5de1dd51",
   "metadata": {
    "execution": {
     "iopub.execute_input": "2021-04-28T21:19:34.684247Z",
     "iopub.status.busy": "2021-04-28T21:19:34.683166Z",
     "iopub.status.idle": "2021-04-28T21:19:34.685984Z",
     "shell.execute_reply": "2021-04-28T21:19:34.686436Z"
    }
   },
   "outputs": [
    {
     "data": {
      "text/plain": [
       "array([0, 1, 2, 3, 4, 5, 6, 7, 8, 9])"
      ]
     },
     "execution_count": 1,
     "metadata": {},
     "output_type": "execute_result"
    }
   ],
   "source": [
    "# También se pueden combinar horizontalmente (se incrementa la cantidad de columnas)\n",
    "\n",
    "combinados_horizontalmente = np.hstack((a, b))\n",
    "combinados_horizontalmente"
   ]
  },
  {
   "cell_type": "markdown",
   "id": "2338f11a",
   "metadata": {},
   "source": [
    "### Operaciones matemáticas"
   ]
  },
  {
   "cell_type": "code",
   "execution_count": 29,
   "id": "bb3a6542",
   "metadata": {
    "execution": {
     "iopub.execute_input": "2021-04-28T21:19:34.692044Z",
     "iopub.status.busy": "2021-04-28T21:19:34.690954Z",
     "iopub.status.idle": "2021-04-28T21:19:34.693829Z",
     "shell.execute_reply": "2021-04-28T21:19:34.694288Z"
    }
   },
   "outputs": [
    {
     "data": {
      "text/plain": [
       "array([3, 4, 5, 6])"
      ]
     },
     "execution_count": 1,
     "metadata": {},
     "output_type": "execute_result"
    }
   ],
   "source": [
    "a = np.array([1, 2, 3, 4])\n",
    "\n",
    "a + 2"
   ]
  },
  {
   "cell_type": "code",
   "execution_count": 30,
   "id": "6f54f604",
   "metadata": {
    "execution": {
     "iopub.execute_input": "2021-04-28T21:19:34.699550Z",
     "iopub.status.busy": "2021-04-28T21:19:34.698523Z",
     "iopub.status.idle": "2021-04-28T21:19:34.701390Z",
     "shell.execute_reply": "2021-04-28T21:19:34.701855Z"
    }
   },
   "outputs": [
    {
     "data": {
      "text/plain": [
       "array([ 1,  4,  9, 16])"
      ]
     },
     "execution_count": 1,
     "metadata": {},
     "output_type": "execute_result"
    }
   ],
   "source": [
    "a ** 2"
   ]
  },
  {
   "cell_type": "code",
   "execution_count": 31,
   "id": "de9212ca",
   "metadata": {
    "execution": {
     "iopub.execute_input": "2021-04-28T21:19:34.710154Z",
     "iopub.status.busy": "2021-04-28T21:19:34.707204Z",
     "iopub.status.idle": "2021-04-28T21:19:34.713164Z",
     "shell.execute_reply": "2021-04-28T21:19:34.713618Z"
    }
   },
   "outputs": [
    {
     "name": "stdout",
     "output_type": "stream",
     "text": [
      "b: [1. 1. 1. 1.]\n"
     ]
    },
    {
     "data": {
      "text/plain": [
       "array([2., 3., 4., 5.])"
      ]
     },
     "execution_count": 1,
     "metadata": {},
     "output_type": "execute_result"
    }
   ],
   "source": [
    "b = np.ones(4)\n",
    "print(f\"b: {b}\")\n",
    "a + b"
   ]
  },
  {
   "cell_type": "markdown",
   "id": "79f70606",
   "metadata": {},
   "source": [
    "### Estadística"
   ]
  },
  {
   "cell_type": "code",
   "execution_count": 32,
   "id": "ff702173",
   "metadata": {
    "execution": {
     "iopub.execute_input": "2021-04-28T21:19:34.719419Z",
     "iopub.status.busy": "2021-04-28T21:19:34.718599Z",
     "iopub.status.idle": "2021-04-28T21:19:34.721403Z",
     "shell.execute_reply": "2021-04-28T21:19:34.721855Z"
    }
   },
   "outputs": [
    {
     "data": {
      "text/plain": [
       "1"
      ]
     },
     "execution_count": 1,
     "metadata": {},
     "output_type": "execute_result"
    }
   ],
   "source": [
    "a = np.array([[5, 2, 1, 8], [26, 4, 17, 9]])\n",
    "\n",
    "np.min(a)"
   ]
  },
  {
   "cell_type": "code",
   "execution_count": 33,
   "id": "bc2d63a7",
   "metadata": {
    "execution": {
     "iopub.execute_input": "2021-04-28T21:19:34.727224Z",
     "iopub.status.busy": "2021-04-28T21:19:34.726404Z",
     "iopub.status.idle": "2021-04-28T21:19:34.729216Z",
     "shell.execute_reply": "2021-04-28T21:19:34.729672Z"
    }
   },
   "outputs": [
    {
     "data": {
      "text/plain": [
       "26"
      ]
     },
     "execution_count": 1,
     "metadata": {},
     "output_type": "execute_result"
    }
   ],
   "source": [
    "np.max(a)"
   ]
  },
  {
   "cell_type": "code",
   "execution_count": 34,
   "id": "5492788d",
   "metadata": {
    "execution": {
     "iopub.execute_input": "2021-04-28T21:19:34.734780Z",
     "iopub.status.busy": "2021-04-28T21:19:34.733930Z",
     "iopub.status.idle": "2021-04-28T21:19:34.736796Z",
     "shell.execute_reply": "2021-04-28T21:19:34.737256Z"
    }
   },
   "outputs": [
    {
     "data": {
      "text/plain": [
       "72"
      ]
     },
     "execution_count": 1,
     "metadata": {},
     "output_type": "execute_result"
    }
   ],
   "source": [
    "np.sum(a)"
   ]
  },
  {
   "cell_type": "markdown",
   "id": "b9fb8ee6",
   "metadata": {},
   "source": [
    "### Más magia"
   ]
  },
  {
   "cell_type": "code",
   "execution_count": 35,
   "id": "07e3f69f",
   "metadata": {
    "execution": {
     "iopub.execute_input": "2021-04-28T21:19:34.742917Z",
     "iopub.status.busy": "2021-04-28T21:19:34.742088Z",
     "iopub.status.idle": "2021-04-28T21:19:34.745168Z",
     "shell.execute_reply": "2021-04-28T21:19:34.745627Z"
    }
   },
   "outputs": [
    {
     "data": {
      "text/plain": [
       "array([[False, False, False,  True],\n",
       "       [ True, False,  True,  True]])"
      ]
     },
     "execution_count": 1,
     "metadata": {},
     "output_type": "execute_result"
    }
   ],
   "source": [
    "a = np.array([[5, 2, 1, 8], [26, 4, 17, 9]])\n",
    "\n",
    "a > 5"
   ]
  },
  {
   "cell_type": "code",
   "execution_count": 36,
   "id": "be599433",
   "metadata": {
    "execution": {
     "iopub.execute_input": "2021-04-28T21:19:34.750796Z",
     "iopub.status.busy": "2021-04-28T21:19:34.749942Z",
     "iopub.status.idle": "2021-04-28T21:19:34.752792Z",
     "shell.execute_reply": "2021-04-28T21:19:34.753219Z"
    }
   },
   "outputs": [
    {
     "data": {
      "text/plain": [
       "array([ 8, 26, 17,  9])"
      ]
     },
     "execution_count": 1,
     "metadata": {},
     "output_type": "execute_result"
    }
   ],
   "source": [
    "a[a > 5]"
   ]
  },
  {
   "cell_type": "markdown",
   "id": "af3950d7",
   "metadata": {},
   "source": [
    "### Broadcasting"
   ]
  },
  {
   "cell_type": "markdown",
   "id": "72d6ae82",
   "metadata": {},
   "source": [
    "Permite realizar operaciones entre dos numpy arrays de distintas dimensiones.\n",
    "Para lograr esto, las dimensiones de los mismos deben ser compatibles. Dos dimensiones son compatibles cuando:\n",
    "1. Son iguales\n",
    "2. Alguna de las dos es 1"
   ]
  },
  {
   "cell_type": "code",
   "execution_count": 37,
   "id": "df38573f",
   "metadata": {
    "execution": {
     "iopub.execute_input": "2021-04-28T21:19:34.758511Z",
     "iopub.status.busy": "2021-04-28T21:19:34.757960Z",
     "iopub.status.idle": "2021-04-28T21:19:34.760735Z",
     "shell.execute_reply": "2021-04-28T21:19:34.761192Z"
    }
   },
   "outputs": [
    {
     "data": {
      "text/plain": [
       "array([[ 5,  2,  1,  8],\n",
       "       [26,  4, 17,  9]])"
      ]
     },
     "execution_count": 1,
     "metadata": {},
     "output_type": "execute_result"
    }
   ],
   "source": [
    "a = np.array([[5, 2, 1, 8], [26, 4, 17, 9]])\n",
    "a"
   ]
  },
  {
   "cell_type": "code",
   "execution_count": 38,
   "id": "90dac1d4",
   "metadata": {
    "execution": {
     "iopub.execute_input": "2021-04-28T21:19:34.767839Z",
     "iopub.status.busy": "2021-04-28T21:19:34.766514Z",
     "iopub.status.idle": "2021-04-28T21:19:34.769727Z",
     "shell.execute_reply": "2021-04-28T21:19:34.769239Z"
    }
   },
   "outputs": [
    {
     "name": "stdout",
     "output_type": "stream",
     "text": [
      "a: (2, 4)\n",
      "b: (4,)\n",
      "\n",
      "a + b:\n",
      " [[10  4  2 16]\n",
      " [31  6 18 17]]\n"
     ]
    }
   ],
   "source": [
    "# Armamos un array que tenga la misma cantidad de columnas que a\n",
    "b = np.array([5, 2, 1, 8])\n",
    "print(f\"a: {a.shape}\")\n",
    "print(f\"b: {b.shape}\")\n",
    "# a + b\n",
    "print()\n",
    "print(f\"a + b:\\n {a + b}\")"
   ]
  },
  {
   "cell_type": "code",
   "execution_count": 39,
   "id": "f417f254",
   "metadata": {
    "execution": {
     "iopub.execute_input": "2021-04-28T21:19:34.774336Z",
     "iopub.status.busy": "2021-04-28T21:19:34.773776Z",
     "iopub.status.idle": "2021-04-28T21:19:34.842972Z",
     "shell.execute_reply": "2021-04-28T21:19:34.842447Z"
    },
    "tags": [
     "raises-exception"
    ]
   },
   "outputs": [
    {
     "name": "stdout",
     "output_type": "stream",
     "text": [
      "a: (2, 4)\n",
      "b: (3,)\n"
     ]
    },
    {
     "ename": "ValueError",
     "evalue": "operands could not be broadcast together with shapes (2,4) (3,) ",
     "output_type": "error",
     "traceback": [
      "\u001b[0;31m---------------------------------------------------------------------------\u001b[0m",
      "\u001b[0;31mValueError\u001b[0m                                Traceback (most recent call last)",
      "\u001b[0;32m<ipython-input-1-fe11b6ae6346>\u001b[0m in \u001b[0;36m<module>\u001b[0;34m\u001b[0m\n\u001b[1;32m      3\u001b[0m \u001b[0mprint\u001b[0m\u001b[0;34m(\u001b[0m\u001b[0;34mf\"a: {a.shape}\"\u001b[0m\u001b[0;34m)\u001b[0m\u001b[0;34m\u001b[0m\u001b[0;34m\u001b[0m\u001b[0m\n\u001b[1;32m      4\u001b[0m \u001b[0mprint\u001b[0m\u001b[0;34m(\u001b[0m\u001b[0;34mf\"b: {b.shape}\"\u001b[0m\u001b[0;34m)\u001b[0m\u001b[0;34m\u001b[0m\u001b[0;34m\u001b[0m\u001b[0m\n\u001b[0;32m----> 5\u001b[0;31m \u001b[0ma\u001b[0m \u001b[0;34m+\u001b[0m \u001b[0mb\u001b[0m\u001b[0;34m\u001b[0m\u001b[0;34m\u001b[0m\u001b[0m\n\u001b[0m",
      "\u001b[0;31mValueError\u001b[0m: operands could not be broadcast together with shapes (2,4) (3,) "
     ]
    }
   ],
   "source": [
    "# Armamos un array que tenga distinta cantidad de filas y columnas que a\n",
    "b = np.array([5, 1, 8])\n",
    "print(f\"a: {a.shape}\")\n",
    "print(f\"b: {b.shape}\")\n",
    "a + b"
   ]
  },
  {
   "cell_type": "code",
   "execution_count": 40,
   "id": "bc08247c",
   "metadata": {
    "execution": {
     "iopub.execute_input": "2021-04-28T21:19:34.849839Z",
     "iopub.status.busy": "2021-04-28T21:19:34.848817Z",
     "iopub.status.idle": "2021-04-28T21:19:34.852959Z",
     "shell.execute_reply": "2021-04-28T21:19:34.852458Z"
    }
   },
   "outputs": [
    {
     "name": "stdout",
     "output_type": "stream",
     "text": [
      "a: (2, 4)\n",
      "b: (2, 1)\n"
     ]
    },
    {
     "data": {
      "text/plain": [
       "array([[ 7,  4,  3, 10],\n",
       "       [27,  5, 18, 10]])"
      ]
     },
     "execution_count": 1,
     "metadata": {},
     "output_type": "execute_result"
    }
   ],
   "source": [
    "# Armamos un array que tenga la misma cantidad de filas que a\n",
    "b = np.array([[2], [1]])\n",
    "print(f\"a: {a.shape}\")\n",
    "print(f\"b: {b.shape}\")\n",
    "a + b"
   ]
  },
  {
   "cell_type": "code",
   "execution_count": 41,
   "id": "666b5aac",
   "metadata": {
    "execution": {
     "iopub.execute_input": "2021-04-28T21:19:34.858193Z",
     "iopub.status.busy": "2021-04-28T21:19:34.857166Z",
     "iopub.status.idle": "2021-04-28T21:19:34.860124Z",
     "shell.execute_reply": "2021-04-28T21:19:34.860591Z"
    }
   },
   "outputs": [
    {
     "data": {
      "text/plain": [
       "array([[ 9,  6,  5, 12],\n",
       "       [30,  8, 21, 13]])"
      ]
     },
     "execution_count": 1,
     "metadata": {},
     "output_type": "execute_result"
    }
   ],
   "source": [
    "# Si b es un entero\n",
    "b = 4\n",
    "a + b"
   ]
  },
  {
   "cell_type": "code",
   "execution_count": null,
   "id": "212f4994",
   "metadata": {},
   "outputs": [],
   "source": []
  }
 ],
 "metadata": {
  "jupytext": {
   "encoding": "# -*- coding: utf-8 -*-",
   "formats": "ipynb,py:light"
  },
  "kernelspec": {
   "display_name": "Python 3",
   "language": "python",
   "name": "python3"
  },
  "language_info": {
   "codemirror_mode": {
    "name": "ipython",
    "version": 3
   },
   "file_extension": ".py",
   "mimetype": "text/x-python",
   "name": "python",
   "nbconvert_exporter": "python",
   "pygments_lexer": "ipython3",
   "version": "3.7.10"
  }
 },
 "nbformat": 4,
 "nbformat_minor": 5
}
