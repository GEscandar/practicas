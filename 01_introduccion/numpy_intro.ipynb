{
 "cells": [
  {
   "cell_type": "markdown",
   "id": "1e294904",
   "metadata": {},
   "source": [
    "## Clase 1 - Introducción a Numpy\n",
    "\n",
    "Numpy es una biblioteca para Python que facilita el manejo de arreglos multidimensionales y ofrece varias herramientas para trabajar con ellos. Muchas de las bibliotecas de Python que son ampliamente usadas hoy en día, como pandas, están construidas sobre numpy.\n",
    "\n",
    "### Listas de Python vs arreglos de Numpy\n",
    "\n",
    "A primera vista, un arreglo de numpy puede resultar idéntico a una lista de python, pero a medida que la cantidad de datos comienza a incrementar, los arreglos de numpy terminan ofreciendo un manejo más eficiente de la memoria.\n",
    "\n",
    "Para comenzar, vamos a crear un arreglo de numpy:"
   ]
  },
  {
   "cell_type": "code",
   "execution_count": 1,
   "id": "a49e941e",
   "metadata": {
    "execution": {
     "iopub.execute_input": "2021-05-28T01:21:09.118940Z",
     "iopub.status.busy": "2021-05-28T01:21:09.118388Z",
     "iopub.status.idle": "2021-05-28T01:21:09.277275Z",
     "shell.execute_reply": "2021-05-28T01:21:09.277734Z"
    }
   },
   "outputs": [
    {
     "data": {
      "text/plain": [
       "array([1, 2, 3, 4])"
      ]
     },
     "execution_count": 1,
     "metadata": {},
     "output_type": "execute_result"
    }
   ],
   "source": [
    "import numpy as np\n",
    "\n",
    "np.array([1, 2, 3, 4])"
   ]
  },
  {
   "cell_type": "markdown",
   "id": "5807ac31",
   "metadata": {},
   "source": [
    "Los arreglos pueden ser también multidimensionales:"
   ]
  },
  {
   "cell_type": "code",
   "execution_count": 2,
   "id": "3f1d5c45",
   "metadata": {
    "execution": {
     "iopub.execute_input": "2021-05-28T01:21:09.282072Z",
     "iopub.status.busy": "2021-05-28T01:21:09.281600Z",
     "iopub.status.idle": "2021-05-28T01:21:09.284625Z",
     "shell.execute_reply": "2021-05-28T01:21:09.284091Z"
    }
   },
   "outputs": [
    {
     "data": {
      "text/plain": [
       "array([[1, 2, 3, 4],\n",
       "       [5, 6, 7, 8]])"
      ]
     },
     "execution_count": 1,
     "metadata": {},
     "output_type": "execute_result"
    }
   ],
   "source": [
    "np.array([[1, 2, 3, 4], [5, 6, 7, 8]])"
   ]
  },
  {
   "cell_type": "markdown",
   "id": "51879706",
   "metadata": {},
   "source": [
    "Es importante tener en cuenta que un arreglo de numpy tiene un tipo fijo de datos, entonces si se quiere agregar un dato de un tipo diferente al de la mayoría, este va a ser modificado para adaptarse al resto"
   ]
  },
  {
   "cell_type": "code",
   "execution_count": 3,
   "id": "82548ff7",
   "metadata": {
    "execution": {
     "iopub.execute_input": "2021-05-28T01:21:09.288068Z",
     "iopub.status.busy": "2021-05-28T01:21:09.287565Z",
     "iopub.status.idle": "2021-05-28T01:21:09.289666Z",
     "shell.execute_reply": "2021-05-28T01:21:09.289252Z"
    }
   },
   "outputs": [],
   "source": [
    "enteros = np.array([1, 2, 3, 4])"
   ]
  },
  {
   "cell_type": "markdown",
   "id": "acb8b708",
   "metadata": {},
   "source": [
    "Agrego un elemento de tipo flotante en la posición 1"
   ]
  },
  {
   "cell_type": "code",
   "execution_count": 4,
   "id": "fe24c836",
   "metadata": {
    "execution": {
     "iopub.execute_input": "2021-05-28T01:21:09.293160Z",
     "iopub.status.busy": "2021-05-28T01:21:09.292681Z",
     "iopub.status.idle": "2021-05-28T01:21:09.294845Z",
     "shell.execute_reply": "2021-05-28T01:21:09.295256Z"
    }
   },
   "outputs": [
    {
     "data": {
      "text/plain": [
       "array([1, 8, 3, 4])"
      ]
     },
     "execution_count": 1,
     "metadata": {},
     "output_type": "execute_result"
    }
   ],
   "source": [
    "enteros[1] = 8.4727\n",
    "enteros"
   ]
  },
  {
   "cell_type": "markdown",
   "id": "d92b58f5",
   "metadata": {},
   "source": [
    "Numpy también nos permite crear arreglos con valores aleatorios del 0 al 1.\n",
    "Basta con pasarle las dimensiones del arreglo que queremos crear."
   ]
  },
  {
   "cell_type": "code",
   "execution_count": 5,
   "id": "309f1fae",
   "metadata": {
    "execution": {
     "iopub.execute_input": "2021-05-28T01:21:09.298885Z",
     "iopub.status.busy": "2021-05-28T01:21:09.298407Z",
     "iopub.status.idle": "2021-05-28T01:21:09.301074Z",
     "shell.execute_reply": "2021-05-28T01:21:09.300659Z"
    }
   },
   "outputs": [
    {
     "data": {
      "text/plain": [
       "array([[0.98781287, 0.33082317, 0.04751406],\n",
       "       [0.5906339 , 0.37041588, 0.05948856]])"
      ]
     },
     "execution_count": 1,
     "metadata": {},
     "output_type": "execute_result"
    }
   ],
   "source": [
    "np.random.rand(2, 3)"
   ]
  },
  {
   "cell_type": "markdown",
   "id": "319b185b",
   "metadata": {},
   "source": [
    "## Slicing\n",
    "\n",
    "De la misma forma que con las listas de python, pueden obtenerse slices de los arreglos de numpy"
   ]
  },
  {
   "cell_type": "code",
   "execution_count": 6,
   "id": "f2dc12af",
   "metadata": {
    "execution": {
     "iopub.execute_input": "2021-05-28T01:21:09.304653Z",
     "iopub.status.busy": "2021-05-28T01:21:09.304172Z",
     "iopub.status.idle": "2021-05-28T01:21:09.306705Z",
     "shell.execute_reply": "2021-05-28T01:21:09.306292Z"
    },
    "lines_to_next_cell": 2
   },
   "outputs": [
    {
     "data": {
      "text/plain": [
       "array([1, 8])"
      ]
     },
     "execution_count": 1,
     "metadata": {},
     "output_type": "execute_result"
    }
   ],
   "source": [
    "enteros[:2]"
   ]
  },
  {
   "cell_type": "code",
   "execution_count": 7,
   "id": "fcfb3008",
   "metadata": {
    "execution": {
     "iopub.execute_input": "2021-05-28T01:21:09.311353Z",
     "iopub.status.busy": "2021-05-28T01:21:09.310870Z",
     "iopub.status.idle": "2021-05-28T01:21:09.313357Z",
     "shell.execute_reply": "2021-05-28T01:21:09.312942Z"
    }
   },
   "outputs": [
    {
     "name": "stdout",
     "output_type": "stream",
     "text": [
      "Original: \n",
      "[[ 1  2  3  4]\n",
      " [ 5  6  7  8]\n",
      " [ 9 10 11 12]]\n",
      "\n",
      "Recortada: \n",
      "[[1 2 3]\n",
      " [5 6 7]]\n"
     ]
    }
   ],
   "source": [
    "matriz_de_enteros = np.array([[1, 2, 3, 4], [5, 6, 7, 8], [9, 10, 11, 12]])\n",
    "\n",
    "print('Original: ')\n",
    "print(matriz_de_enteros)\n",
    "\n",
    "print()\n",
    "\n",
    "print('Recortada: ')\n",
    "print(matriz_de_enteros[:2, :3])"
   ]
  },
  {
   "cell_type": "code",
   "execution_count": 8,
   "id": "c12e1589",
   "metadata": {
    "execution": {
     "iopub.execute_input": "2021-05-28T01:21:09.316941Z",
     "iopub.status.busy": "2021-05-28T01:21:09.316470Z",
     "iopub.status.idle": "2021-05-28T01:21:09.319179Z",
     "shell.execute_reply": "2021-05-28T01:21:09.318759Z"
    }
   },
   "outputs": [
    {
     "data": {
      "text/plain": [
       "array([[[ 0,  1,  2,  3,  4],\n",
       "        [ 5,  6,  7,  8,  9],\n",
       "        [10, 11, 12, 13, 14]],\n",
       "\n",
       "       [[15, 16, 17, 18, 19],\n",
       "        [20, 21, 22, 23, 24],\n",
       "        [25, 26, 27, 28, 29]],\n",
       "\n",
       "       [[30, 31, 32, 33, 34],\n",
       "        [35, 36, 37, 38, 39],\n",
       "        [40, 41, 42, 43, 44]]])"
      ]
     },
     "execution_count": 1,
     "metadata": {},
     "output_type": "execute_result"
    }
   ],
   "source": [
    "# 3D\n",
    "# arange() genera valores de un intervalo pasado por parámetro\n",
    "# reshape() modifica la forma del numpy array\n",
    "\n",
    "x = np.arange(45).reshape(3, 3, 5)\n",
    "x"
   ]
  },
  {
   "cell_type": "code",
   "execution_count": 9,
   "id": "b01c5953",
   "metadata": {
    "execution": {
     "iopub.execute_input": "2021-05-28T01:21:09.322413Z",
     "iopub.status.busy": "2021-05-28T01:21:09.321944Z",
     "iopub.status.idle": "2021-05-28T01:21:09.324313Z",
     "shell.execute_reply": "2021-05-28T01:21:09.324677Z"
    }
   },
   "outputs": [
    {
     "data": {
      "text/plain": [
       "array([[ 0,  1,  2,  3,  4],\n",
       "       [ 5,  6,  7,  8,  9],\n",
       "       [10, 11, 12, 13, 14]])"
      ]
     },
     "execution_count": 1,
     "metadata": {},
     "output_type": "execute_result"
    }
   ],
   "source": [
    "x[0]"
   ]
  },
  {
   "cell_type": "code",
   "execution_count": 10,
   "id": "b22f2079",
   "metadata": {
    "execution": {
     "iopub.execute_input": "2021-05-28T01:21:09.327955Z",
     "iopub.status.busy": "2021-05-28T01:21:09.327458Z",
     "iopub.status.idle": "2021-05-28T01:21:09.330178Z",
     "shell.execute_reply": "2021-05-28T01:21:09.329755Z"
    }
   },
   "outputs": [
    {
     "data": {
      "text/plain": [
       "array([5, 6, 7, 8, 9])"
      ]
     },
     "execution_count": 1,
     "metadata": {},
     "output_type": "execute_result"
    }
   ],
   "source": [
    "x[0][1]"
   ]
  },
  {
   "cell_type": "code",
   "execution_count": 11,
   "id": "349ab89e",
   "metadata": {
    "execution": {
     "iopub.execute_input": "2021-05-28T01:21:09.333275Z",
     "iopub.status.busy": "2021-05-28T01:21:09.332808Z",
     "iopub.status.idle": "2021-05-28T01:21:09.335658Z",
     "shell.execute_reply": "2021-05-28T01:21:09.335237Z"
    }
   },
   "outputs": [
    {
     "data": {
      "text/plain": [
       "7"
      ]
     },
     "execution_count": 1,
     "metadata": {},
     "output_type": "execute_result"
    }
   ],
   "source": [
    "x[0][1][2]"
   ]
  },
  {
   "cell_type": "markdown",
   "id": "5411ea34",
   "metadata": {},
   "source": [
    "\n",
    "¿Cómo conseguimos estos valores? ([fuente](https://towardsdatascience.com/indexing-and-slicing-of-1d-2d-and-3d-arrays-in-numpy-e731afff0bbe))\n",
    "\n",
    "![title](img/matrix.png)"
   ]
  },
  {
   "cell_type": "code",
   "execution_count": 12,
   "id": "ee43b6be",
   "metadata": {
    "execution": {
     "iopub.execute_input": "2021-05-28T01:21:09.339236Z",
     "iopub.status.busy": "2021-05-28T01:21:09.338762Z",
     "iopub.status.idle": "2021-05-28T01:21:09.341485Z",
     "shell.execute_reply": "2021-05-28T01:21:09.341071Z"
    }
   },
   "outputs": [
    {
     "data": {
      "text/plain": [
       "array([[[16, 17, 18],\n",
       "        [21, 22, 23]],\n",
       "\n",
       "       [[31, 32, 33],\n",
       "        [36, 37, 38]]])"
      ]
     },
     "execution_count": 1,
     "metadata": {},
     "output_type": "execute_result"
    }
   ],
   "source": [
    "x[1:, 0:2, 1:4]"
   ]
  },
  {
   "cell_type": "markdown",
   "id": "e8faa302",
   "metadata": {},
   "source": [
    "### Copia de arreglos"
   ]
  },
  {
   "cell_type": "code",
   "execution_count": 13,
   "id": "9e9f5222",
   "metadata": {
    "execution": {
     "iopub.execute_input": "2021-05-28T01:21:09.345004Z",
     "iopub.status.busy": "2021-05-28T01:21:09.344527Z",
     "iopub.status.idle": "2021-05-28T01:21:09.347222Z",
     "shell.execute_reply": "2021-05-28T01:21:09.346830Z"
    }
   },
   "outputs": [
    {
     "data": {
      "text/plain": [
       "array([1, 2, 3, 4])"
      ]
     },
     "execution_count": 1,
     "metadata": {},
     "output_type": "execute_result"
    }
   ],
   "source": [
    "# Los arreglos no se copian con asignación\n",
    "\n",
    "a = np.array([1, 2, 3, 4])\n",
    "b = a\n",
    "b"
   ]
  },
  {
   "cell_type": "code",
   "execution_count": 14,
   "id": "23cba4a5",
   "metadata": {
    "execution": {
     "iopub.execute_input": "2021-05-28T01:21:09.350427Z",
     "iopub.status.busy": "2021-05-28T01:21:09.349961Z",
     "iopub.status.idle": "2021-05-28T01:21:09.352705Z",
     "shell.execute_reply": "2021-05-28T01:21:09.352284Z"
    }
   },
   "outputs": [
    {
     "data": {
      "text/plain": [
       "array([ 1, 20,  3,  4])"
      ]
     },
     "execution_count": 1,
     "metadata": {},
     "output_type": "execute_result"
    }
   ],
   "source": [
    "b[1] = 20\n",
    "b"
   ]
  },
  {
   "cell_type": "code",
   "execution_count": 15,
   "id": "5fb3b317",
   "metadata": {
    "execution": {
     "iopub.execute_input": "2021-05-28T01:21:09.355819Z",
     "iopub.status.busy": "2021-05-28T01:21:09.355352Z",
     "iopub.status.idle": "2021-05-28T01:21:09.358065Z",
     "shell.execute_reply": "2021-05-28T01:21:09.357647Z"
    }
   },
   "outputs": [
    {
     "data": {
      "text/plain": [
       "array([ 1, 20,  3,  4])"
      ]
     },
     "execution_count": 1,
     "metadata": {},
     "output_type": "execute_result"
    }
   ],
   "source": [
    "a"
   ]
  },
  {
   "cell_type": "code",
   "execution_count": 16,
   "id": "4508e393",
   "metadata": {
    "execution": {
     "iopub.execute_input": "2021-05-28T01:21:09.361718Z",
     "iopub.status.busy": "2021-05-28T01:21:09.361242Z",
     "iopub.status.idle": "2021-05-28T01:21:09.363989Z",
     "shell.execute_reply": "2021-05-28T01:21:09.363542Z"
    }
   },
   "outputs": [
    {
     "data": {
      "text/plain": [
       "array([ 1, 20,  3,  4])"
      ]
     },
     "execution_count": 1,
     "metadata": {},
     "output_type": "execute_result"
    }
   ],
   "source": [
    "# Para copiar un arreglo a otra variable debemos usar copy()\n",
    "\n",
    "a = np.array([1, 2, 3, 4])\n",
    "b = a.copy()\n",
    "b[1] = 20\n",
    "b"
   ]
  },
  {
   "cell_type": "code",
   "execution_count": 17,
   "id": "5011c3fa",
   "metadata": {
    "execution": {
     "iopub.execute_input": "2021-05-28T01:21:09.367078Z",
     "iopub.status.busy": "2021-05-28T01:21:09.366612Z",
     "iopub.status.idle": "2021-05-28T01:21:09.369354Z",
     "shell.execute_reply": "2021-05-28T01:21:09.368930Z"
    }
   },
   "outputs": [
    {
     "data": {
      "text/plain": [
       "array([1, 2, 3, 4])"
      ]
     },
     "execution_count": 1,
     "metadata": {},
     "output_type": "execute_result"
    }
   ],
   "source": [
    "a"
   ]
  },
  {
   "cell_type": "markdown",
   "id": "b71dc1a8",
   "metadata": {},
   "source": [
    "### Modificación de dimensiones"
   ]
  },
  {
   "cell_type": "markdown",
   "id": "9bc4e35d",
   "metadata": {},
   "source": [
    "Existen varias operaciones para cambiar la forma de un arreglo de numpy"
   ]
  },
  {
   "cell_type": "code",
   "execution_count": 18,
   "id": "6f187eb3",
   "metadata": {
    "execution": {
     "iopub.execute_input": "2021-05-28T01:21:09.373226Z",
     "iopub.status.busy": "2021-05-28T01:21:09.372729Z",
     "iopub.status.idle": "2021-05-28T01:21:09.375042Z",
     "shell.execute_reply": "2021-05-28T01:21:09.375431Z"
    }
   },
   "outputs": [
    {
     "data": {
      "text/plain": [
       "array([[ 1,  2,  3,  4],\n",
       "       [ 5,  6,  7,  8],\n",
       "       [ 9, 10, 11, 12]])"
      ]
     },
     "execution_count": 1,
     "metadata": {},
     "output_type": "execute_result"
    }
   ],
   "source": [
    "matriz_de_enteros"
   ]
  },
  {
   "cell_type": "code",
   "execution_count": 19,
   "id": "6db6abba",
   "metadata": {
    "execution": {
     "iopub.execute_input": "2021-05-28T01:21:09.378617Z",
     "iopub.status.busy": "2021-05-28T01:21:09.378146Z",
     "iopub.status.idle": "2021-05-28T01:21:09.381343Z",
     "shell.execute_reply": "2021-05-28T01:21:09.381731Z"
    }
   },
   "outputs": [
    {
     "data": {
      "text/plain": [
       "2"
      ]
     },
     "execution_count": 1,
     "metadata": {},
     "output_type": "execute_result"
    }
   ],
   "source": [
    "# Obtener las dimensiones del arreglo\n",
    "\n",
    "matriz_de_enteros.ndim"
   ]
  },
  {
   "cell_type": "code",
   "execution_count": 20,
   "id": "67e6de1f",
   "metadata": {
    "execution": {
     "iopub.execute_input": "2021-05-28T01:21:09.384791Z",
     "iopub.status.busy": "2021-05-28T01:21:09.384323Z",
     "iopub.status.idle": "2021-05-28T01:21:09.387028Z",
     "shell.execute_reply": "2021-05-28T01:21:09.386612Z"
    }
   },
   "outputs": [
    {
     "data": {
      "text/plain": [
       "(3, 4)"
      ]
     },
     "execution_count": 1,
     "metadata": {},
     "output_type": "execute_result"
    }
   ],
   "source": [
    "# Obtener la forma del arreglo\n",
    "\n",
    "matriz_de_enteros.shape"
   ]
  },
  {
   "cell_type": "code",
   "execution_count": 21,
   "id": "9fc9b2ff",
   "metadata": {
    "execution": {
     "iopub.execute_input": "2021-05-28T01:21:09.391042Z",
     "iopub.status.busy": "2021-05-28T01:21:09.390569Z",
     "iopub.status.idle": "2021-05-28T01:21:09.392844Z",
     "shell.execute_reply": "2021-05-28T01:21:09.393301Z"
    }
   },
   "outputs": [
    {
     "name": "stdout",
     "output_type": "stream",
     "text": [
      "enteros: [ 3  6  9 12]\n"
     ]
    },
    {
     "data": {
      "text/plain": [
       "array([[ 3,  6],\n",
       "       [ 9, 12]])"
      ]
     },
     "execution_count": 1,
     "metadata": {},
     "output_type": "execute_result"
    }
   ],
   "source": [
    "# Modificar la forma de un arreglo\n",
    "\n",
    "enteros = np.array([3, 6, 9, 12])\n",
    "print(f\"enteros: {enteros}\")\n",
    "np.reshape(enteros, (2, 2))"
   ]
  },
  {
   "cell_type": "code",
   "execution_count": 22,
   "id": "0ce1fc17",
   "metadata": {
    "execution": {
     "iopub.execute_input": "2021-05-28T01:21:09.396780Z",
     "iopub.status.busy": "2021-05-28T01:21:09.396313Z",
     "iopub.status.idle": "2021-05-28T01:21:09.399025Z",
     "shell.execute_reply": "2021-05-28T01:21:09.398613Z"
    }
   },
   "outputs": [
    {
     "data": {
      "text/plain": [
       "array([[1., 1.],\n",
       "       [1., 1.]])"
      ]
     },
     "execution_count": 1,
     "metadata": {},
     "output_type": "execute_result"
    }
   ],
   "source": [
    "# Aplanar un arreglo\n",
    "\n",
    "a = np.ones((2, 2))\n",
    "a"
   ]
  },
  {
   "cell_type": "code",
   "execution_count": 23,
   "id": "9975c2c2",
   "metadata": {
    "execution": {
     "iopub.execute_input": "2021-05-28T01:21:09.402333Z",
     "iopub.status.busy": "2021-05-28T01:21:09.401859Z",
     "iopub.status.idle": "2021-05-28T01:21:09.404589Z",
     "shell.execute_reply": "2021-05-28T01:21:09.404172Z"
    }
   },
   "outputs": [
    {
     "data": {
      "text/plain": [
       "array([1., 1., 1., 1.])"
      ]
     },
     "execution_count": 1,
     "metadata": {},
     "output_type": "execute_result"
    }
   ],
   "source": [
    "a.flatten()"
   ]
  },
  {
   "cell_type": "code",
   "execution_count": 24,
   "id": "a5db4376",
   "metadata": {
    "execution": {
     "iopub.execute_input": "2021-05-28T01:21:09.407791Z",
     "iopub.status.busy": "2021-05-28T01:21:09.407323Z",
     "iopub.status.idle": "2021-05-28T01:21:09.410039Z",
     "shell.execute_reply": "2021-05-28T01:21:09.409623Z"
    },
    "lines_to_next_cell": 2
   },
   "outputs": [
    {
     "data": {
      "text/plain": [
       "array([[1., 1.],\n",
       "       [1., 1.]])"
      ]
     },
     "execution_count": 1,
     "metadata": {},
     "output_type": "execute_result"
    }
   ],
   "source": [
    "a"
   ]
  },
  {
   "cell_type": "markdown",
   "id": "1ee3fea8",
   "metadata": {},
   "source": [
    "### Combinación de arreglos (Stacking)"
   ]
  },
  {
   "cell_type": "code",
   "execution_count": 25,
   "id": "88df6a15",
   "metadata": {
    "execution": {
     "iopub.execute_input": "2021-05-28T01:21:09.413382Z",
     "iopub.status.busy": "2021-05-28T01:21:09.412913Z",
     "iopub.status.idle": "2021-05-28T01:21:09.415618Z",
     "shell.execute_reply": "2021-05-28T01:21:09.415202Z"
    }
   },
   "outputs": [
    {
     "data": {
      "text/plain": [
       "array([0, 1, 2, 3, 4])"
      ]
     },
     "execution_count": 1,
     "metadata": {},
     "output_type": "execute_result"
    }
   ],
   "source": [
    "# Los arreglos se pueden combinar verticalmente (se incrementa la cantidad de filas)\n",
    "\n",
    "a = np.arange(0, 5)\n",
    "a"
   ]
  },
  {
   "cell_type": "code",
   "execution_count": 26,
   "id": "0d0c5a8b",
   "metadata": {
    "execution": {
     "iopub.execute_input": "2021-05-28T01:21:09.418772Z",
     "iopub.status.busy": "2021-05-28T01:21:09.418303Z",
     "iopub.status.idle": "2021-05-28T01:21:09.421143Z",
     "shell.execute_reply": "2021-05-28T01:21:09.420728Z"
    }
   },
   "outputs": [
    {
     "data": {
      "text/plain": [
       "array([5, 6, 7, 8, 9])"
      ]
     },
     "execution_count": 1,
     "metadata": {},
     "output_type": "execute_result"
    }
   ],
   "source": [
    "b = np.arange(5, 10)\n",
    "b"
   ]
  },
  {
   "cell_type": "code",
   "execution_count": 27,
   "id": "e3cb95fd",
   "metadata": {
    "execution": {
     "iopub.execute_input": "2021-05-28T01:21:09.424513Z",
     "iopub.status.busy": "2021-05-28T01:21:09.424031Z",
     "iopub.status.idle": "2021-05-28T01:21:09.426666Z",
     "shell.execute_reply": "2021-05-28T01:21:09.426256Z"
    }
   },
   "outputs": [
    {
     "data": {
      "text/plain": [
       "array([[0, 1, 2, 3, 4],\n",
       "       [5, 6, 7, 8, 9]])"
      ]
     },
     "execution_count": 1,
     "metadata": {},
     "output_type": "execute_result"
    }
   ],
   "source": [
    "combinados_verticalmente = np.vstack((a, b))\n",
    "combinados_verticalmente"
   ]
  },
  {
   "cell_type": "code",
   "execution_count": 28,
   "id": "b72236ae",
   "metadata": {
    "execution": {
     "iopub.execute_input": "2021-05-28T01:21:09.429995Z",
     "iopub.status.busy": "2021-05-28T01:21:09.429465Z",
     "iopub.status.idle": "2021-05-28T01:21:09.432369Z",
     "shell.execute_reply": "2021-05-28T01:21:09.431949Z"
    }
   },
   "outputs": [
    {
     "data": {
      "text/plain": [
       "array([0, 1, 2, 3, 4, 5, 6, 7, 8, 9])"
      ]
     },
     "execution_count": 1,
     "metadata": {},
     "output_type": "execute_result"
    }
   ],
   "source": [
    "# También se pueden combinar horizontalmente (se incrementa la cantidad de columnas)\n",
    "\n",
    "combinados_horizontalmente = np.hstack((a, b))\n",
    "combinados_horizontalmente"
   ]
  },
  {
   "cell_type": "markdown",
   "id": "e99263aa",
   "metadata": {},
   "source": [
    "### Operaciones matemáticas"
   ]
  },
  {
   "cell_type": "code",
   "execution_count": 29,
   "id": "82e78a3c",
   "metadata": {
    "execution": {
     "iopub.execute_input": "2021-05-28T01:21:09.435822Z",
     "iopub.status.busy": "2021-05-28T01:21:09.435344Z",
     "iopub.status.idle": "2021-05-28T01:21:09.438041Z",
     "shell.execute_reply": "2021-05-28T01:21:09.437630Z"
    }
   },
   "outputs": [
    {
     "data": {
      "text/plain": [
       "array([3, 4, 5, 6])"
      ]
     },
     "execution_count": 1,
     "metadata": {},
     "output_type": "execute_result"
    }
   ],
   "source": [
    "a = np.array([1, 2, 3, 4])\n",
    "\n",
    "a + 2"
   ]
  },
  {
   "cell_type": "code",
   "execution_count": 30,
   "id": "c0b1c604",
   "metadata": {
    "execution": {
     "iopub.execute_input": "2021-05-28T01:21:09.441226Z",
     "iopub.status.busy": "2021-05-28T01:21:09.440750Z",
     "iopub.status.idle": "2021-05-28T01:21:09.443479Z",
     "shell.execute_reply": "2021-05-28T01:21:09.443064Z"
    }
   },
   "outputs": [
    {
     "data": {
      "text/plain": [
       "array([ 1,  4,  9, 16])"
      ]
     },
     "execution_count": 1,
     "metadata": {},
     "output_type": "execute_result"
    }
   ],
   "source": [
    "a ** 2"
   ]
  },
  {
   "cell_type": "code",
   "execution_count": 31,
   "id": "9a797493",
   "metadata": {
    "execution": {
     "iopub.execute_input": "2021-05-28T01:21:09.446801Z",
     "iopub.status.busy": "2021-05-28T01:21:09.446299Z",
     "iopub.status.idle": "2021-05-28T01:21:09.450245Z",
     "shell.execute_reply": "2021-05-28T01:21:09.449818Z"
    }
   },
   "outputs": [
    {
     "name": "stdout",
     "output_type": "stream",
     "text": [
      "b: [1. 1. 1. 1.]\n"
     ]
    },
    {
     "data": {
      "text/plain": [
       "array([2., 3., 4., 5.])"
      ]
     },
     "execution_count": 1,
     "metadata": {},
     "output_type": "execute_result"
    }
   ],
   "source": [
    "b = np.ones(4)\n",
    "print(f\"b: {b}\")\n",
    "a + b"
   ]
  },
  {
   "cell_type": "markdown",
   "id": "c1a916e9",
   "metadata": {},
   "source": [
    "### Estadística"
   ]
  },
  {
   "cell_type": "code",
   "execution_count": 32,
   "id": "4397e18c",
   "metadata": {
    "execution": {
     "iopub.execute_input": "2021-05-28T01:21:09.454121Z",
     "iopub.status.busy": "2021-05-28T01:21:09.453650Z",
     "iopub.status.idle": "2021-05-28T01:21:09.456204Z",
     "shell.execute_reply": "2021-05-28T01:21:09.455762Z"
    }
   },
   "outputs": [
    {
     "data": {
      "text/plain": [
       "1"
      ]
     },
     "execution_count": 1,
     "metadata": {},
     "output_type": "execute_result"
    }
   ],
   "source": [
    "a = np.array([[5, 2, 1, 8], [26, 4, 17, 9]])\n",
    "\n",
    "np.min(a)"
   ]
  },
  {
   "cell_type": "code",
   "execution_count": 33,
   "id": "e68c60b3",
   "metadata": {
    "execution": {
     "iopub.execute_input": "2021-05-28T01:21:09.459390Z",
     "iopub.status.busy": "2021-05-28T01:21:09.458924Z",
     "iopub.status.idle": "2021-05-28T01:21:09.461651Z",
     "shell.execute_reply": "2021-05-28T01:21:09.461231Z"
    }
   },
   "outputs": [
    {
     "data": {
      "text/plain": [
       "26"
      ]
     },
     "execution_count": 1,
     "metadata": {},
     "output_type": "execute_result"
    }
   ],
   "source": [
    "np.max(a)"
   ]
  },
  {
   "cell_type": "code",
   "execution_count": 34,
   "id": "dc45e087",
   "metadata": {
    "execution": {
     "iopub.execute_input": "2021-05-28T01:21:09.464831Z",
     "iopub.status.busy": "2021-05-28T01:21:09.464366Z",
     "iopub.status.idle": "2021-05-28T01:21:09.467090Z",
     "shell.execute_reply": "2021-05-28T01:21:09.466670Z"
    }
   },
   "outputs": [
    {
     "data": {
      "text/plain": [
       "72"
      ]
     },
     "execution_count": 1,
     "metadata": {},
     "output_type": "execute_result"
    }
   ],
   "source": [
    "np.sum(a)"
   ]
  },
  {
   "cell_type": "markdown",
   "id": "de9934c5",
   "metadata": {},
   "source": [
    "### Más magia"
   ]
  },
  {
   "cell_type": "code",
   "execution_count": 35,
   "id": "c8a8645b",
   "metadata": {
    "execution": {
     "iopub.execute_input": "2021-05-28T01:21:09.470710Z",
     "iopub.status.busy": "2021-05-28T01:21:09.470239Z",
     "iopub.status.idle": "2021-05-28T01:21:09.472616Z",
     "shell.execute_reply": "2021-05-28T01:21:09.472980Z"
    }
   },
   "outputs": [
    {
     "data": {
      "text/plain": [
       "array([[False, False, False,  True],\n",
       "       [ True, False,  True,  True]])"
      ]
     },
     "execution_count": 1,
     "metadata": {},
     "output_type": "execute_result"
    }
   ],
   "source": [
    "a = np.array([[5, 2, 1, 8], [26, 4, 17, 9]])\n",
    "\n",
    "a > 5"
   ]
  },
  {
   "cell_type": "code",
   "execution_count": 36,
   "id": "4ca5c4be",
   "metadata": {
    "execution": {
     "iopub.execute_input": "2021-05-28T01:21:09.476273Z",
     "iopub.status.busy": "2021-05-28T01:21:09.475749Z",
     "iopub.status.idle": "2021-05-28T01:21:09.477913Z",
     "shell.execute_reply": "2021-05-28T01:21:09.478280Z"
    }
   },
   "outputs": [
    {
     "data": {
      "text/plain": [
       "array([ 8, 26, 17,  9])"
      ]
     },
     "execution_count": 1,
     "metadata": {},
     "output_type": "execute_result"
    }
   ],
   "source": [
    "a[a > 5]"
   ]
  },
  {
   "cell_type": "markdown",
   "id": "bf8cf503",
   "metadata": {},
   "source": [
    "### Broadcasting"
   ]
  },
  {
   "cell_type": "markdown",
   "id": "c18e82ca",
   "metadata": {},
   "source": [
    "Permite realizar operaciones entre dos numpy arrays de distintas dimensiones.\n",
    "Para lograr esto, las dimensiones de los mismos deben ser compatibles. Dos dimensiones son compatibles cuando:\n",
    "1. Son iguales\n",
    "2. Alguna de las dos es 1"
   ]
  },
  {
   "cell_type": "code",
   "execution_count": 37,
   "id": "0ad18735",
   "metadata": {
    "execution": {
     "iopub.execute_input": "2021-05-28T01:21:09.482569Z",
     "iopub.status.busy": "2021-05-28T01:21:09.482080Z",
     "iopub.status.idle": "2021-05-28T01:21:09.484386Z",
     "shell.execute_reply": "2021-05-28T01:21:09.484772Z"
    }
   },
   "outputs": [
    {
     "data": {
      "text/plain": [
       "array([[ 5,  2,  1,  8],\n",
       "       [26,  4, 17,  9]])"
      ]
     },
     "execution_count": 1,
     "metadata": {},
     "output_type": "execute_result"
    }
   ],
   "source": [
    "a = np.array([[5, 2, 1, 8], [26, 4, 17, 9]])\n",
    "a"
   ]
  },
  {
   "cell_type": "code",
   "execution_count": 38,
   "id": "db26253f",
   "metadata": {
    "execution": {
     "iopub.execute_input": "2021-05-28T01:21:09.490039Z",
     "iopub.status.busy": "2021-05-28T01:21:09.489003Z",
     "iopub.status.idle": "2021-05-28T01:21:09.491616Z",
     "shell.execute_reply": "2021-05-28T01:21:09.491203Z"
    }
   },
   "outputs": [
    {
     "name": "stdout",
     "output_type": "stream",
     "text": [
      "a: (2, 4)\n",
      "b: (4,)\n",
      "\n",
      "a + b:\n",
      " [[10  4  2 16]\n",
      " [31  6 18 17]]\n"
     ]
    }
   ],
   "source": [
    "# Armamos un array que tenga la misma cantidad de columnas que a\n",
    "b = np.array([5, 2, 1, 8])\n",
    "print(f\"a: {a.shape}\")\n",
    "print(f\"b: {b.shape}\")\n",
    "# a + b\n",
    "print()\n",
    "print(f\"a + b:\\n {a + b}\")"
   ]
  },
  {
   "cell_type": "code",
   "execution_count": 39,
   "id": "482a0e1f",
   "metadata": {
    "execution": {
     "iopub.execute_input": "2021-05-28T01:21:09.495265Z",
     "iopub.status.busy": "2021-05-28T01:21:09.494787Z",
     "iopub.status.idle": "2021-05-28T01:21:09.553238Z",
     "shell.execute_reply": "2021-05-28T01:21:09.552761Z"
    },
    "tags": [
     "raises-exception"
    ]
   },
   "outputs": [
    {
     "name": "stdout",
     "output_type": "stream",
     "text": [
      "a: (2, 4)\n",
      "b: (3,)\n"
     ]
    },
    {
     "ename": "ValueError",
     "evalue": "operands could not be broadcast together with shapes (2,4) (3,) ",
     "output_type": "error",
     "traceback": [
      "\u001b[0;31m---------------------------------------------------------------------------\u001b[0m",
      "\u001b[0;31mValueError\u001b[0m                                Traceback (most recent call last)",
      "\u001b[0;32m<ipython-input-1-fe11b6ae6346>\u001b[0m in \u001b[0;36m<module>\u001b[0;34m\u001b[0m\n\u001b[1;32m      3\u001b[0m \u001b[0mprint\u001b[0m\u001b[0;34m(\u001b[0m\u001b[0;34mf\"a: {a.shape}\"\u001b[0m\u001b[0;34m)\u001b[0m\u001b[0;34m\u001b[0m\u001b[0;34m\u001b[0m\u001b[0m\n\u001b[1;32m      4\u001b[0m \u001b[0mprint\u001b[0m\u001b[0;34m(\u001b[0m\u001b[0;34mf\"b: {b.shape}\"\u001b[0m\u001b[0;34m)\u001b[0m\u001b[0;34m\u001b[0m\u001b[0;34m\u001b[0m\u001b[0m\n\u001b[0;32m----> 5\u001b[0;31m \u001b[0ma\u001b[0m \u001b[0;34m+\u001b[0m \u001b[0mb\u001b[0m\u001b[0;34m\u001b[0m\u001b[0;34m\u001b[0m\u001b[0m\n\u001b[0m",
      "\u001b[0;31mValueError\u001b[0m: operands could not be broadcast together with shapes (2,4) (3,) "
     ]
    }
   ],
   "source": [
    "# Armamos un array que tenga distinta cantidad de filas y columnas que a\n",
    "b = np.array([5, 1, 8])\n",
    "print(f\"a: {a.shape}\")\n",
    "print(f\"b: {b.shape}\")\n",
    "a + b"
   ]
  },
  {
   "cell_type": "code",
   "execution_count": 40,
   "id": "328cb05e",
   "metadata": {
    "execution": {
     "iopub.execute_input": "2021-05-28T01:21:09.558523Z",
     "iopub.status.busy": "2021-05-28T01:21:09.558027Z",
     "iopub.status.idle": "2021-05-28T01:21:09.561507Z",
     "shell.execute_reply": "2021-05-28T01:21:09.561087Z"
    }
   },
   "outputs": [
    {
     "name": "stdout",
     "output_type": "stream",
     "text": [
      "a: (2, 4)\n",
      "b: (2, 1)\n"
     ]
    },
    {
     "data": {
      "text/plain": [
       "array([[ 7,  4,  3, 10],\n",
       "       [27,  5, 18, 10]])"
      ]
     },
     "execution_count": 1,
     "metadata": {},
     "output_type": "execute_result"
    }
   ],
   "source": [
    "# Armamos un array que tenga la misma cantidad de filas que a\n",
    "b = np.array([[2], [1]])\n",
    "print(f\"a: {a.shape}\")\n",
    "print(f\"b: {b.shape}\")\n",
    "a + b"
   ]
  },
  {
   "cell_type": "code",
   "execution_count": 41,
   "id": "9a32bafe",
   "metadata": {
    "execution": {
     "iopub.execute_input": "2021-05-28T01:21:09.565505Z",
     "iopub.status.busy": "2021-05-28T01:21:09.565013Z",
     "iopub.status.idle": "2021-05-28T01:21:09.567306Z",
     "shell.execute_reply": "2021-05-28T01:21:09.567694Z"
    }
   },
   "outputs": [
    {
     "data": {
      "text/plain": [
       "array([[ 9,  6,  5, 12],\n",
       "       [30,  8, 21, 13]])"
      ]
     },
     "execution_count": 1,
     "metadata": {},
     "output_type": "execute_result"
    }
   ],
   "source": [
    "# Si b es un entero\n",
    "b = 4\n",
    "a + b"
   ]
  },
  {
   "cell_type": "code",
   "execution_count": null,
   "id": "d3b26677",
   "metadata": {},
   "outputs": [],
   "source": []
  }
 ],
 "metadata": {
  "jupytext": {
   "encoding": "# -*- coding: utf-8 -*-",
   "formats": "ipynb,py:light"
  },
  "kernelspec": {
   "display_name": "Python 3",
   "language": "python",
   "name": "python3"
  },
  "language_info": {
   "codemirror_mode": {
    "name": "ipython",
    "version": 3
   },
   "file_extension": ".py",
   "mimetype": "text/x-python",
   "name": "python",
   "nbconvert_exporter": "python",
   "pygments_lexer": "ipython3",
   "version": "3.7.10"
  }
 },
 "nbformat": 4,
 "nbformat_minor": 5
}
