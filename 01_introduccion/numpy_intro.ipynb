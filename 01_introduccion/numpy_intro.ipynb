{
 "cells": [
  {
   "cell_type": "markdown",
   "id": "a81c69d7",
   "metadata": {},
   "source": [
    "## Clase 1 - Introducción a Numpy\n",
    "\n",
    "Numpy es una biblioteca para Python que facilita el manejo de arreglos multidimensionales y ofrece varias herramientas para trabajar con ellos. Muchas de las bibliotecas de Python que son ampliamente usadas hoy en día, como pandas, están construidas sobre numpy.\n",
    "\n",
    "### Listas de Python vs arreglos de Numpy\n",
    "\n",
    "A primera vista, un arreglo de numpy puede resultar idéntico a una lista de python, pero a medida que la cantidad de datos comienza a incrementar, los arreglos de numpy terminan ofreciendo un manejo más eficiente de la memoria.\n",
    "\n",
    "Para comenzar, vamos a crear un arreglo de numpy:"
   ]
  },
  {
   "cell_type": "code",
   "execution_count": 1,
   "id": "343c51b7",
   "metadata": {
    "execution": {
     "iopub.execute_input": "2021-11-02T15:29:21.650486Z",
     "iopub.status.busy": "2021-11-02T15:29:21.649281Z",
     "iopub.status.idle": "2021-11-02T15:29:21.816240Z",
     "shell.execute_reply": "2021-11-02T15:29:21.816788Z"
    }
   },
   "outputs": [
    {
     "data": {
      "text/plain": [
       "array([1, 2, 3, 4])"
      ]
     },
     "execution_count": 1,
     "metadata": {},
     "output_type": "execute_result"
    }
   ],
   "source": [
    "import numpy as np\n",
    "\n",
    "np.array([1, 2, 3, 4])"
   ]
  },
  {
   "cell_type": "markdown",
   "id": "b89bdacc",
   "metadata": {},
   "source": [
    "Los arreglos pueden ser también multidimensionales:"
   ]
  },
  {
   "cell_type": "code",
   "execution_count": 2,
   "id": "d49a5261",
   "metadata": {
    "execution": {
     "iopub.execute_input": "2021-11-02T15:29:21.822971Z",
     "iopub.status.busy": "2021-11-02T15:29:21.822343Z",
     "iopub.status.idle": "2021-11-02T15:29:21.825454Z",
     "shell.execute_reply": "2021-11-02T15:29:21.826008Z"
    }
   },
   "outputs": [
    {
     "data": {
      "text/plain": [
       "array([[1, 2, 3, 4],\n",
       "       [5, 6, 7, 8]])"
      ]
     },
     "execution_count": 2,
     "metadata": {},
     "output_type": "execute_result"
    }
   ],
   "source": [
    "np.array([[1, 2, 3, 4], [5, 6, 7, 8]])"
   ]
  },
  {
   "cell_type": "markdown",
   "id": "99481673",
   "metadata": {},
   "source": [
    "Es importante tener en cuenta que un arreglo de numpy tiene un tipo fijo de datos, entonces si se quiere agregar un dato de un tipo diferente al de la mayoría, este va a ser modificado para adaptarse al resto"
   ]
  },
  {
   "cell_type": "code",
   "execution_count": 3,
   "id": "62934fc2",
   "metadata": {
    "execution": {
     "iopub.execute_input": "2021-11-02T15:29:21.830303Z",
     "iopub.status.busy": "2021-11-02T15:29:21.829580Z",
     "iopub.status.idle": "2021-11-02T15:29:21.832184Z",
     "shell.execute_reply": "2021-11-02T15:29:21.832900Z"
    }
   },
   "outputs": [],
   "source": [
    "enteros = np.array([1, 2, 3, 4])"
   ]
  },
  {
   "cell_type": "markdown",
   "id": "81a71ecd",
   "metadata": {},
   "source": [
    "Agrego un elemento de tipo flotante en la posición 1"
   ]
  },
  {
   "cell_type": "code",
   "execution_count": 4,
   "id": "06b928cd",
   "metadata": {
    "execution": {
     "iopub.execute_input": "2021-11-02T15:29:21.838373Z",
     "iopub.status.busy": "2021-11-02T15:29:21.837628Z",
     "iopub.status.idle": "2021-11-02T15:29:21.840605Z",
     "shell.execute_reply": "2021-11-02T15:29:21.841095Z"
    }
   },
   "outputs": [
    {
     "data": {
      "text/plain": [
       "array([1, 8, 3, 4])"
      ]
     },
     "execution_count": 4,
     "metadata": {},
     "output_type": "execute_result"
    }
   ],
   "source": [
    "enteros[1] = 8.4727\n",
    "enteros"
   ]
  },
  {
   "cell_type": "markdown",
   "id": "62192d5d",
   "metadata": {},
   "source": [
    "Numpy también nos permite crear arreglos con valores aleatorios del 0 al 1.\n",
    "Basta con pasarle las dimensiones del arreglo que queremos crear."
   ]
  },
  {
   "cell_type": "code",
   "execution_count": 5,
   "id": "def626b6",
   "metadata": {
    "execution": {
     "iopub.execute_input": "2021-11-02T15:29:21.846633Z",
     "iopub.status.busy": "2021-11-02T15:29:21.845968Z",
     "iopub.status.idle": "2021-11-02T15:29:21.848743Z",
     "shell.execute_reply": "2021-11-02T15:29:21.849311Z"
    }
   },
   "outputs": [
    {
     "data": {
      "text/plain": [
       "array([[0.29034652, 0.98833795, 0.35749983],\n",
       "       [0.84950313, 0.36023591, 0.42645094]])"
      ]
     },
     "execution_count": 5,
     "metadata": {},
     "output_type": "execute_result"
    }
   ],
   "source": [
    "np.random.rand(2, 3)"
   ]
  },
  {
   "cell_type": "markdown",
   "id": "f17715b0",
   "metadata": {},
   "source": [
    "## Slicing\n",
    "\n",
    "De la misma forma que con las listas de python, pueden obtenerse slices de los arreglos de numpy"
   ]
  },
  {
   "cell_type": "code",
   "execution_count": 6,
   "id": "84630453",
   "metadata": {
    "execution": {
     "iopub.execute_input": "2021-11-02T15:29:21.855025Z",
     "iopub.status.busy": "2021-11-02T15:29:21.854114Z",
     "iopub.status.idle": "2021-11-02T15:29:21.857159Z",
     "shell.execute_reply": "2021-11-02T15:29:21.857659Z"
    },
    "lines_to_next_cell": 2
   },
   "outputs": [
    {
     "data": {
      "text/plain": [
       "array([1, 8])"
      ]
     },
     "execution_count": 6,
     "metadata": {},
     "output_type": "execute_result"
    }
   ],
   "source": [
    "enteros[:2]"
   ]
  },
  {
   "cell_type": "code",
   "execution_count": 7,
   "id": "f1cfead8",
   "metadata": {
    "execution": {
     "iopub.execute_input": "2021-11-02T15:29:21.862642Z",
     "iopub.status.busy": "2021-11-02T15:29:21.861764Z",
     "iopub.status.idle": "2021-11-02T15:29:21.866476Z",
     "shell.execute_reply": "2021-11-02T15:29:21.866982Z"
    }
   },
   "outputs": [
    {
     "name": "stdout",
     "output_type": "stream",
     "text": [
      "Original: \n",
      "[[ 1  2  3  4]\n",
      " [ 5  6  7  8]\n",
      " [ 9 10 11 12]]\n",
      "\n",
      "Recortada: \n",
      "[[1 2 3]\n",
      " [5 6 7]]\n"
     ]
    }
   ],
   "source": [
    "matriz_de_enteros = np.array([[1, 2, 3, 4], [5, 6, 7, 8], [9, 10, 11, 12]])\n",
    "\n",
    "print('Original: ')\n",
    "print(matriz_de_enteros)\n",
    "\n",
    "print()\n",
    "\n",
    "print('Recortada: ')\n",
    "print(matriz_de_enteros[:2, :3])"
   ]
  },
  {
   "cell_type": "code",
   "execution_count": 8,
   "id": "96222f4a",
   "metadata": {
    "execution": {
     "iopub.execute_input": "2021-11-02T15:29:21.873535Z",
     "iopub.status.busy": "2021-11-02T15:29:21.872603Z",
     "iopub.status.idle": "2021-11-02T15:29:21.875687Z",
     "shell.execute_reply": "2021-11-02T15:29:21.876201Z"
    }
   },
   "outputs": [
    {
     "data": {
      "text/plain": [
       "array([[[ 0,  1,  2,  3,  4],\n",
       "        [ 5,  6,  7,  8,  9],\n",
       "        [10, 11, 12, 13, 14]],\n",
       "\n",
       "       [[15, 16, 17, 18, 19],\n",
       "        [20, 21, 22, 23, 24],\n",
       "        [25, 26, 27, 28, 29]],\n",
       "\n",
       "       [[30, 31, 32, 33, 34],\n",
       "        [35, 36, 37, 38, 39],\n",
       "        [40, 41, 42, 43, 44]]])"
      ]
     },
     "execution_count": 8,
     "metadata": {},
     "output_type": "execute_result"
    }
   ],
   "source": [
    "# 3D\n",
    "# arange() genera valores de un intervalo pasado por parámetro\n",
    "# reshape() modifica la forma del numpy array\n",
    "\n",
    "x = np.arange(45).reshape(3, 3, 5)\n",
    "x"
   ]
  },
  {
   "cell_type": "code",
   "execution_count": 9,
   "id": "b68324fb",
   "metadata": {
    "execution": {
     "iopub.execute_input": "2021-11-02T15:29:21.881124Z",
     "iopub.status.busy": "2021-11-02T15:29:21.880527Z",
     "iopub.status.idle": "2021-11-02T15:29:21.883415Z",
     "shell.execute_reply": "2021-11-02T15:29:21.883924Z"
    }
   },
   "outputs": [
    {
     "data": {
      "text/plain": [
       "array([[ 0,  1,  2,  3,  4],\n",
       "       [ 5,  6,  7,  8,  9],\n",
       "       [10, 11, 12, 13, 14]])"
      ]
     },
     "execution_count": 9,
     "metadata": {},
     "output_type": "execute_result"
    }
   ],
   "source": [
    "x[0]"
   ]
  },
  {
   "cell_type": "code",
   "execution_count": 10,
   "id": "e43d68b0",
   "metadata": {
    "execution": {
     "iopub.execute_input": "2021-11-02T15:29:21.888347Z",
     "iopub.status.busy": "2021-11-02T15:29:21.887686Z",
     "iopub.status.idle": "2021-11-02T15:29:21.890787Z",
     "shell.execute_reply": "2021-11-02T15:29:21.891271Z"
    }
   },
   "outputs": [
    {
     "data": {
      "text/plain": [
       "array([5, 6, 7, 8, 9])"
      ]
     },
     "execution_count": 10,
     "metadata": {},
     "output_type": "execute_result"
    }
   ],
   "source": [
    "x[0][1]"
   ]
  },
  {
   "cell_type": "code",
   "execution_count": 11,
   "id": "84099183",
   "metadata": {
    "execution": {
     "iopub.execute_input": "2021-11-02T15:29:21.896442Z",
     "iopub.status.busy": "2021-11-02T15:29:21.895788Z",
     "iopub.status.idle": "2021-11-02T15:29:21.898570Z",
     "shell.execute_reply": "2021-11-02T15:29:21.899137Z"
    }
   },
   "outputs": [
    {
     "data": {
      "text/plain": [
       "7"
      ]
     },
     "execution_count": 11,
     "metadata": {},
     "output_type": "execute_result"
    }
   ],
   "source": [
    "x[0][1][2]"
   ]
  },
  {
   "cell_type": "markdown",
   "id": "1a3b3bfd",
   "metadata": {},
   "source": [
    "\n",
    "¿Cómo conseguimos estos valores? ([fuente](https://towardsdatascience.com/indexing-and-slicing-of-1d-2d-and-3d-arrays-in-numpy-e731afff0bbe))\n",
    "\n",
    "![title](img/matrix.png)"
   ]
  },
  {
   "cell_type": "code",
   "execution_count": 12,
   "id": "a3d9ad39",
   "metadata": {
    "execution": {
     "iopub.execute_input": "2021-11-02T15:29:21.905841Z",
     "iopub.status.busy": "2021-11-02T15:29:21.904938Z",
     "iopub.status.idle": "2021-11-02T15:29:21.907956Z",
     "shell.execute_reply": "2021-11-02T15:29:21.908460Z"
    }
   },
   "outputs": [
    {
     "data": {
      "text/plain": [
       "array([[[16, 17, 18],\n",
       "        [21, 22, 23]],\n",
       "\n",
       "       [[31, 32, 33],\n",
       "        [36, 37, 38]]])"
      ]
     },
     "execution_count": 12,
     "metadata": {},
     "output_type": "execute_result"
    }
   ],
   "source": [
    "x[1:, 0:2, 1:4]"
   ]
  },
  {
   "cell_type": "markdown",
   "id": "c7d76008",
   "metadata": {},
   "source": [
    "### Copia de arreglos"
   ]
  },
  {
   "cell_type": "code",
   "execution_count": 13,
   "id": "7d70f486",
   "metadata": {
    "execution": {
     "iopub.execute_input": "2021-11-02T15:29:21.914594Z",
     "iopub.status.busy": "2021-11-02T15:29:21.910956Z",
     "iopub.status.idle": "2021-11-02T15:29:21.917508Z",
     "shell.execute_reply": "2021-11-02T15:29:21.917996Z"
    }
   },
   "outputs": [
    {
     "data": {
      "text/plain": [
       "array([1, 2, 3, 4])"
      ]
     },
     "execution_count": 13,
     "metadata": {},
     "output_type": "execute_result"
    }
   ],
   "source": [
    "# Los arreglos no se copian con asignación\n",
    "\n",
    "a = np.array([1, 2, 3, 4])\n",
    "b = a\n",
    "b"
   ]
  },
  {
   "cell_type": "code",
   "execution_count": 14,
   "id": "5dbb3c61",
   "metadata": {
    "execution": {
     "iopub.execute_input": "2021-11-02T15:29:21.923306Z",
     "iopub.status.busy": "2021-11-02T15:29:21.922555Z",
     "iopub.status.idle": "2021-11-02T15:29:21.926552Z",
     "shell.execute_reply": "2021-11-02T15:29:21.925964Z"
    }
   },
   "outputs": [
    {
     "data": {
      "text/plain": [
       "array([ 1, 20,  3,  4])"
      ]
     },
     "execution_count": 14,
     "metadata": {},
     "output_type": "execute_result"
    }
   ],
   "source": [
    "b[1] = 20\n",
    "b"
   ]
  },
  {
   "cell_type": "code",
   "execution_count": 15,
   "id": "db55b559",
   "metadata": {
    "execution": {
     "iopub.execute_input": "2021-11-02T15:29:21.931650Z",
     "iopub.status.busy": "2021-11-02T15:29:21.931041Z",
     "iopub.status.idle": "2021-11-02T15:29:21.934766Z",
     "shell.execute_reply": "2021-11-02T15:29:21.935328Z"
    }
   },
   "outputs": [
    {
     "data": {
      "text/plain": [
       "array([ 1, 20,  3,  4])"
      ]
     },
     "execution_count": 15,
     "metadata": {},
     "output_type": "execute_result"
    }
   ],
   "source": [
    "a"
   ]
  },
  {
   "cell_type": "code",
   "execution_count": 16,
   "id": "3dc53990",
   "metadata": {
    "execution": {
     "iopub.execute_input": "2021-11-02T15:29:21.940301Z",
     "iopub.status.busy": "2021-11-02T15:29:21.939668Z",
     "iopub.status.idle": "2021-11-02T15:29:21.942189Z",
     "shell.execute_reply": "2021-11-02T15:29:21.943067Z"
    }
   },
   "outputs": [
    {
     "data": {
      "text/plain": [
       "array([ 1, 20,  3,  4])"
      ]
     },
     "execution_count": 16,
     "metadata": {},
     "output_type": "execute_result"
    }
   ],
   "source": [
    "# Para copiar un arreglo a otra variable debemos usar copy()\n",
    "\n",
    "a = np.array([1, 2, 3, 4])\n",
    "b = a.copy()\n",
    "b[1] = 20\n",
    "b"
   ]
  },
  {
   "cell_type": "code",
   "execution_count": 17,
   "id": "3a97cc57",
   "metadata": {
    "execution": {
     "iopub.execute_input": "2021-11-02T15:29:21.948006Z",
     "iopub.status.busy": "2021-11-02T15:29:21.947382Z",
     "iopub.status.idle": "2021-11-02T15:29:21.950089Z",
     "shell.execute_reply": "2021-11-02T15:29:21.950659Z"
    }
   },
   "outputs": [
    {
     "data": {
      "text/plain": [
       "array([1, 2, 3, 4])"
      ]
     },
     "execution_count": 17,
     "metadata": {},
     "output_type": "execute_result"
    }
   ],
   "source": [
    "a"
   ]
  },
  {
   "cell_type": "markdown",
   "id": "8df961ae",
   "metadata": {},
   "source": [
    "### Modificación de dimensiones"
   ]
  },
  {
   "cell_type": "markdown",
   "id": "46a61bc8",
   "metadata": {},
   "source": [
    "Existen varias operaciones para cambiar la forma de un arreglo de numpy"
   ]
  },
  {
   "cell_type": "code",
   "execution_count": 18,
   "id": "5ea7aa0c",
   "metadata": {
    "execution": {
     "iopub.execute_input": "2021-11-02T15:29:21.955430Z",
     "iopub.status.busy": "2021-11-02T15:29:21.954855Z",
     "iopub.status.idle": "2021-11-02T15:29:21.957425Z",
     "shell.execute_reply": "2021-11-02T15:29:21.957897Z"
    }
   },
   "outputs": [
    {
     "data": {
      "text/plain": [
       "array([[ 1,  2,  3,  4],\n",
       "       [ 5,  6,  7,  8],\n",
       "       [ 9, 10, 11, 12]])"
      ]
     },
     "execution_count": 18,
     "metadata": {},
     "output_type": "execute_result"
    }
   ],
   "source": [
    "matriz_de_enteros"
   ]
  },
  {
   "cell_type": "code",
   "execution_count": 19,
   "id": "3eb340ad",
   "metadata": {
    "execution": {
     "iopub.execute_input": "2021-11-02T15:29:21.962310Z",
     "iopub.status.busy": "2021-11-02T15:29:21.961495Z",
     "iopub.status.idle": "2021-11-02T15:29:21.964678Z",
     "shell.execute_reply": "2021-11-02T15:29:21.965385Z"
    }
   },
   "outputs": [
    {
     "data": {
      "text/plain": [
       "2"
      ]
     },
     "execution_count": 19,
     "metadata": {},
     "output_type": "execute_result"
    }
   ],
   "source": [
    "# Obtener las dimensiones del arreglo\n",
    "\n",
    "matriz_de_enteros.ndim"
   ]
  },
  {
   "cell_type": "code",
   "execution_count": 20,
   "id": "eadb5f60",
   "metadata": {
    "execution": {
     "iopub.execute_input": "2021-11-02T15:29:21.970035Z",
     "iopub.status.busy": "2021-11-02T15:29:21.969356Z",
     "iopub.status.idle": "2021-11-02T15:29:21.972219Z",
     "shell.execute_reply": "2021-11-02T15:29:21.972780Z"
    }
   },
   "outputs": [
    {
     "data": {
      "text/plain": [
       "(3, 4)"
      ]
     },
     "execution_count": 20,
     "metadata": {},
     "output_type": "execute_result"
    }
   ],
   "source": [
    "# Obtener la forma del arreglo\n",
    "\n",
    "matriz_de_enteros.shape"
   ]
  },
  {
   "cell_type": "code",
   "execution_count": 21,
   "id": "d21884f1",
   "metadata": {
    "execution": {
     "iopub.execute_input": "2021-11-02T15:29:21.978176Z",
     "iopub.status.busy": "2021-11-02T15:29:21.977310Z",
     "iopub.status.idle": "2021-11-02T15:29:21.982629Z",
     "shell.execute_reply": "2021-11-02T15:29:21.983121Z"
    }
   },
   "outputs": [
    {
     "name": "stdout",
     "output_type": "stream",
     "text": [
      "enteros: [ 3  6  9 12]\n"
     ]
    },
    {
     "data": {
      "text/plain": [
       "array([[ 3,  6],\n",
       "       [ 9, 12]])"
      ]
     },
     "execution_count": 21,
     "metadata": {},
     "output_type": "execute_result"
    }
   ],
   "source": [
    "# Modificar la forma de un arreglo\n",
    "\n",
    "enteros = np.array([3, 6, 9, 12])\n",
    "print(f\"enteros: {enteros}\")\n",
    "np.reshape(enteros, (2, 2))"
   ]
  },
  {
   "cell_type": "code",
   "execution_count": 22,
   "id": "da53949d",
   "metadata": {
    "execution": {
     "iopub.execute_input": "2021-11-02T15:29:21.989446Z",
     "iopub.status.busy": "2021-11-02T15:29:21.988783Z",
     "iopub.status.idle": "2021-11-02T15:29:21.991488Z",
     "shell.execute_reply": "2021-11-02T15:29:21.991976Z"
    }
   },
   "outputs": [
    {
     "data": {
      "text/plain": [
       "array([[1., 1.],\n",
       "       [1., 1.]])"
      ]
     },
     "execution_count": 22,
     "metadata": {},
     "output_type": "execute_result"
    }
   ],
   "source": [
    "# Aplanar un arreglo\n",
    "\n",
    "a = np.ones((2, 2))\n",
    "a"
   ]
  },
  {
   "cell_type": "code",
   "execution_count": 23,
   "id": "d2e58a7f",
   "metadata": {
    "execution": {
     "iopub.execute_input": "2021-11-02T15:29:21.997802Z",
     "iopub.status.busy": "2021-11-02T15:29:21.997207Z",
     "iopub.status.idle": "2021-11-02T15:29:22.000424Z",
     "shell.execute_reply": "2021-11-02T15:29:22.001043Z"
    }
   },
   "outputs": [
    {
     "data": {
      "text/plain": [
       "array([1., 1., 1., 1.])"
      ]
     },
     "execution_count": 23,
     "metadata": {},
     "output_type": "execute_result"
    }
   ],
   "source": [
    "a.flatten()"
   ]
  },
  {
   "cell_type": "code",
   "execution_count": 24,
   "id": "1f7ac0a1",
   "metadata": {
    "execution": {
     "iopub.execute_input": "2021-11-02T15:29:22.006030Z",
     "iopub.status.busy": "2021-11-02T15:29:22.005364Z",
     "iopub.status.idle": "2021-11-02T15:29:22.008495Z",
     "shell.execute_reply": "2021-11-02T15:29:22.009090Z"
    },
    "lines_to_next_cell": 2
   },
   "outputs": [
    {
     "data": {
      "text/plain": [
       "array([[1., 1.],\n",
       "       [1., 1.]])"
      ]
     },
     "execution_count": 24,
     "metadata": {},
     "output_type": "execute_result"
    }
   ],
   "source": [
    "a"
   ]
  },
  {
   "cell_type": "markdown",
   "id": "1a77cce5",
   "metadata": {},
   "source": [
    "### Combinación de arreglos (Stacking)"
   ]
  },
  {
   "cell_type": "code",
   "execution_count": 25,
   "id": "d973aa7e",
   "metadata": {
    "execution": {
     "iopub.execute_input": "2021-11-02T15:29:22.014667Z",
     "iopub.status.busy": "2021-11-02T15:29:22.013919Z",
     "iopub.status.idle": "2021-11-02T15:29:22.016987Z",
     "shell.execute_reply": "2021-11-02T15:29:22.017487Z"
    }
   },
   "outputs": [
    {
     "data": {
      "text/plain": [
       "array([0, 1, 2, 3, 4])"
      ]
     },
     "execution_count": 25,
     "metadata": {},
     "output_type": "execute_result"
    }
   ],
   "source": [
    "# Los arreglos se pueden combinar verticalmente (se incrementa la cantidad de filas)\n",
    "\n",
    "a = np.arange(0, 5)\n",
    "a"
   ]
  },
  {
   "cell_type": "code",
   "execution_count": 26,
   "id": "8f086361",
   "metadata": {
    "execution": {
     "iopub.execute_input": "2021-11-02T15:29:22.022567Z",
     "iopub.status.busy": "2021-11-02T15:29:22.021669Z",
     "iopub.status.idle": "2021-11-02T15:29:22.025029Z",
     "shell.execute_reply": "2021-11-02T15:29:22.025655Z"
    }
   },
   "outputs": [
    {
     "data": {
      "text/plain": [
       "array([5, 6, 7, 8, 9])"
      ]
     },
     "execution_count": 26,
     "metadata": {},
     "output_type": "execute_result"
    }
   ],
   "source": [
    "b = np.arange(5, 10)\n",
    "b"
   ]
  },
  {
   "cell_type": "code",
   "execution_count": 27,
   "id": "7313dea1",
   "metadata": {
    "execution": {
     "iopub.execute_input": "2021-11-02T15:29:22.030546Z",
     "iopub.status.busy": "2021-11-02T15:29:22.029885Z",
     "iopub.status.idle": "2021-11-02T15:29:22.032757Z",
     "shell.execute_reply": "2021-11-02T15:29:22.033270Z"
    }
   },
   "outputs": [
    {
     "data": {
      "text/plain": [
       "array([[0, 1, 2, 3, 4],\n",
       "       [5, 6, 7, 8, 9]])"
      ]
     },
     "execution_count": 27,
     "metadata": {},
     "output_type": "execute_result"
    }
   ],
   "source": [
    "combinados_verticalmente = np.vstack((a, b))\n",
    "combinados_verticalmente"
   ]
  },
  {
   "cell_type": "code",
   "execution_count": 28,
   "id": "c36d058f",
   "metadata": {
    "execution": {
     "iopub.execute_input": "2021-11-02T15:29:22.038650Z",
     "iopub.status.busy": "2021-11-02T15:29:22.038006Z",
     "iopub.status.idle": "2021-11-02T15:29:22.041104Z",
     "shell.execute_reply": "2021-11-02T15:29:22.041696Z"
    }
   },
   "outputs": [
    {
     "data": {
      "text/plain": [
       "array([0, 1, 2, 3, 4, 5, 6, 7, 8, 9])"
      ]
     },
     "execution_count": 28,
     "metadata": {},
     "output_type": "execute_result"
    }
   ],
   "source": [
    "# También se pueden combinar horizontalmente (se incrementa la cantidad de columnas)\n",
    "\n",
    "combinados_horizontalmente = np.hstack((a, b))\n",
    "combinados_horizontalmente"
   ]
  },
  {
   "cell_type": "markdown",
   "id": "f6450835",
   "metadata": {},
   "source": [
    "### Operaciones matemáticas"
   ]
  },
  {
   "cell_type": "code",
   "execution_count": 29,
   "id": "5a2242c6",
   "metadata": {
    "execution": {
     "iopub.execute_input": "2021-11-02T15:29:22.046795Z",
     "iopub.status.busy": "2021-11-02T15:29:22.046174Z",
     "iopub.status.idle": "2021-11-02T15:29:22.048940Z",
     "shell.execute_reply": "2021-11-02T15:29:22.049517Z"
    }
   },
   "outputs": [
    {
     "data": {
      "text/plain": [
       "array([3, 4, 5, 6])"
      ]
     },
     "execution_count": 29,
     "metadata": {},
     "output_type": "execute_result"
    }
   ],
   "source": [
    "a = np.array([1, 2, 3, 4])\n",
    "\n",
    "a + 2"
   ]
  },
  {
   "cell_type": "code",
   "execution_count": 30,
   "id": "b8acc1f8",
   "metadata": {
    "execution": {
     "iopub.execute_input": "2021-11-02T15:29:22.064675Z",
     "iopub.status.busy": "2021-11-02T15:29:22.053592Z",
     "iopub.status.idle": "2021-11-02T15:29:22.067437Z",
     "shell.execute_reply": "2021-11-02T15:29:22.066893Z"
    }
   },
   "outputs": [
    {
     "data": {
      "text/plain": [
       "array([ 1,  4,  9, 16])"
      ]
     },
     "execution_count": 30,
     "metadata": {},
     "output_type": "execute_result"
    }
   ],
   "source": [
    "a ** 2"
   ]
  },
  {
   "cell_type": "code",
   "execution_count": 31,
   "id": "1dbb2816",
   "metadata": {
    "execution": {
     "iopub.execute_input": "2021-11-02T15:29:22.073754Z",
     "iopub.status.busy": "2021-11-02T15:29:22.072901Z",
     "iopub.status.idle": "2021-11-02T15:29:22.077268Z",
     "shell.execute_reply": "2021-11-02T15:29:22.077841Z"
    }
   },
   "outputs": [
    {
     "name": "stdout",
     "output_type": "stream",
     "text": [
      "b: [1. 1. 1. 1.]\n"
     ]
    },
    {
     "data": {
      "text/plain": [
       "array([2., 3., 4., 5.])"
      ]
     },
     "execution_count": 31,
     "metadata": {},
     "output_type": "execute_result"
    }
   ],
   "source": [
    "b = np.ones(4)\n",
    "print(f\"b: {b}\")\n",
    "a + b"
   ]
  },
  {
   "cell_type": "markdown",
   "id": "69f286b6",
   "metadata": {},
   "source": [
    "### Estadística"
   ]
  },
  {
   "cell_type": "code",
   "execution_count": 32,
   "id": "c5a082c3",
   "metadata": {
    "execution": {
     "iopub.execute_input": "2021-11-02T15:29:22.083855Z",
     "iopub.status.busy": "2021-11-02T15:29:22.083218Z",
     "iopub.status.idle": "2021-11-02T15:29:22.086488Z",
     "shell.execute_reply": "2021-11-02T15:29:22.087084Z"
    }
   },
   "outputs": [
    {
     "data": {
      "text/plain": [
       "1"
      ]
     },
     "execution_count": 32,
     "metadata": {},
     "output_type": "execute_result"
    }
   ],
   "source": [
    "a = np.array([[5, 2, 1, 8], [26, 4, 17, 9]])\n",
    "\n",
    "np.min(a)"
   ]
  },
  {
   "cell_type": "code",
   "execution_count": 33,
   "id": "d346736f",
   "metadata": {
    "execution": {
     "iopub.execute_input": "2021-11-02T15:29:22.092049Z",
     "iopub.status.busy": "2021-11-02T15:29:22.091422Z",
     "iopub.status.idle": "2021-11-02T15:29:22.094092Z",
     "shell.execute_reply": "2021-11-02T15:29:22.094807Z"
    }
   },
   "outputs": [
    {
     "data": {
      "text/plain": [
       "26"
      ]
     },
     "execution_count": 33,
     "metadata": {},
     "output_type": "execute_result"
    }
   ],
   "source": [
    "np.max(a)"
   ]
  },
  {
   "cell_type": "code",
   "execution_count": 34,
   "id": "c63a1312",
   "metadata": {
    "execution": {
     "iopub.execute_input": "2021-11-02T15:29:22.099687Z",
     "iopub.status.busy": "2021-11-02T15:29:22.099006Z",
     "iopub.status.idle": "2021-11-02T15:29:22.101750Z",
     "shell.execute_reply": "2021-11-02T15:29:22.102422Z"
    }
   },
   "outputs": [
    {
     "data": {
      "text/plain": [
       "72"
      ]
     },
     "execution_count": 34,
     "metadata": {},
     "output_type": "execute_result"
    }
   ],
   "source": [
    "np.sum(a)"
   ]
  },
  {
   "cell_type": "markdown",
   "id": "a8a0fafc",
   "metadata": {},
   "source": [
    "### Más magia"
   ]
  },
  {
   "cell_type": "code",
   "execution_count": 35,
   "id": "d939ca19",
   "metadata": {
    "execution": {
     "iopub.execute_input": "2021-11-02T15:29:22.105640Z",
     "iopub.status.busy": "2021-11-02T15:29:22.104836Z",
     "iopub.status.idle": "2021-11-02T15:29:22.110961Z",
     "shell.execute_reply": "2021-11-02T15:29:22.111445Z"
    }
   },
   "outputs": [
    {
     "data": {
      "text/plain": [
       "array([[False, False, False,  True],\n",
       "       [ True, False,  True,  True]])"
      ]
     },
     "execution_count": 35,
     "metadata": {},
     "output_type": "execute_result"
    }
   ],
   "source": [
    "a = np.array([[5, 2, 1, 8], [26, 4, 17, 9]])\n",
    "\n",
    "a > 5"
   ]
  },
  {
   "cell_type": "code",
   "execution_count": 36,
   "id": "b6b32569",
   "metadata": {
    "execution": {
     "iopub.execute_input": "2021-11-02T15:29:22.114286Z",
     "iopub.status.busy": "2021-11-02T15:29:22.113578Z",
     "iopub.status.idle": "2021-11-02T15:29:22.118418Z",
     "shell.execute_reply": "2021-11-02T15:29:22.118972Z"
    }
   },
   "outputs": [
    {
     "data": {
      "text/plain": [
       "array([ 8, 26, 17,  9])"
      ]
     },
     "execution_count": 36,
     "metadata": {},
     "output_type": "execute_result"
    }
   ],
   "source": [
    "a[a > 5]"
   ]
  },
  {
   "cell_type": "markdown",
   "id": "6c7b08e5",
   "metadata": {},
   "source": [
    "### Broadcasting"
   ]
  },
  {
   "cell_type": "markdown",
   "id": "57c9aa12",
   "metadata": {},
   "source": [
    "Permite realizar operaciones entre dos numpy arrays de distintas dimensiones.\n",
    "Para lograr esto, las dimensiones de los mismos deben ser compatibles. Dos dimensiones son compatibles cuando:\n",
    "1. Son iguales\n",
    "2. Alguna de las dos es 1"
   ]
  },
  {
   "cell_type": "code",
   "execution_count": 37,
   "id": "f542971a",
   "metadata": {
    "execution": {
     "iopub.execute_input": "2021-11-02T15:29:22.124351Z",
     "iopub.status.busy": "2021-11-02T15:29:22.123729Z",
     "iopub.status.idle": "2021-11-02T15:29:22.128861Z",
     "shell.execute_reply": "2021-11-02T15:29:22.128313Z"
    }
   },
   "outputs": [
    {
     "data": {
      "text/plain": [
       "array([[ 5,  2,  1,  8],\n",
       "       [26,  4, 17,  9]])"
      ]
     },
     "execution_count": 37,
     "metadata": {},
     "output_type": "execute_result"
    }
   ],
   "source": [
    "a = np.array([[5, 2, 1, 8], [26, 4, 17, 9]])\n",
    "a"
   ]
  },
  {
   "cell_type": "code",
   "execution_count": 38,
   "id": "7bd041a1",
   "metadata": {
    "execution": {
     "iopub.execute_input": "2021-11-02T15:29:22.134918Z",
     "iopub.status.busy": "2021-11-02T15:29:22.134192Z",
     "iopub.status.idle": "2021-11-02T15:29:22.137159Z",
     "shell.execute_reply": "2021-11-02T15:29:22.137669Z"
    }
   },
   "outputs": [
    {
     "name": "stdout",
     "output_type": "stream",
     "text": [
      "a: (2, 4)\n",
      "b: (4,)\n",
      "\n",
      "a + b:\n",
      " [[10  4  2 16]\n",
      " [31  6 18 17]]\n"
     ]
    }
   ],
   "source": [
    "# Armamos un array que tenga la misma cantidad de columnas que a\n",
    "b = np.array([5, 2, 1, 8])\n",
    "print(f\"a: {a.shape}\")\n",
    "print(f\"b: {b.shape}\")\n",
    "# a + b\n",
    "print()\n",
    "print(f\"a + b:\\n {a + b}\")"
   ]
  },
  {
   "cell_type": "code",
   "execution_count": 39,
   "id": "51bbc57d",
   "metadata": {
    "execution": {
     "iopub.execute_input": "2021-11-02T15:29:22.142381Z",
     "iopub.status.busy": "2021-11-02T15:29:22.140285Z",
     "iopub.status.idle": "2021-11-02T15:29:22.234103Z",
     "shell.execute_reply": "2021-11-02T15:29:22.234679Z"
    },
    "tags": [
     "raises-exception"
    ]
   },
   "outputs": [
    {
     "name": "stdout",
     "output_type": "stream",
     "text": [
      "a: (2, 4)\n",
      "b: (3,)\n"
     ]
    },
    {
     "ename": "ValueError",
     "evalue": "operands could not be broadcast together with shapes (2,4) (3,) ",
     "output_type": "error",
     "traceback": [
      "\u001b[0;31m---------------------------------------------------------------------------\u001b[0m",
      "\u001b[0;31mValueError\u001b[0m                                Traceback (most recent call last)",
      "\u001b[0;32m/tmp/ipykernel_2520/261865458.py\u001b[0m in \u001b[0;36m<module>\u001b[0;34m\u001b[0m\n\u001b[1;32m      3\u001b[0m \u001b[0mprint\u001b[0m\u001b[0;34m(\u001b[0m\u001b[0;34mf\"a: {a.shape}\"\u001b[0m\u001b[0;34m)\u001b[0m\u001b[0;34m\u001b[0m\u001b[0;34m\u001b[0m\u001b[0m\n\u001b[1;32m      4\u001b[0m \u001b[0mprint\u001b[0m\u001b[0;34m(\u001b[0m\u001b[0;34mf\"b: {b.shape}\"\u001b[0m\u001b[0;34m)\u001b[0m\u001b[0;34m\u001b[0m\u001b[0;34m\u001b[0m\u001b[0m\n\u001b[0;32m----> 5\u001b[0;31m \u001b[0ma\u001b[0m \u001b[0;34m+\u001b[0m \u001b[0mb\u001b[0m\u001b[0;34m\u001b[0m\u001b[0;34m\u001b[0m\u001b[0m\n\u001b[0m",
      "\u001b[0;31mValueError\u001b[0m: operands could not be broadcast together with shapes (2,4) (3,) "
     ]
    }
   ],
   "source": [
    "# Armamos un array que tenga distinta cantidad de filas y columnas que a\n",
    "b = np.array([5, 1, 8])\n",
    "print(f\"a: {a.shape}\")\n",
    "print(f\"b: {b.shape}\")\n",
    "a + b"
   ]
  },
  {
   "cell_type": "code",
   "execution_count": 40,
   "id": "2b70c5d4",
   "metadata": {
    "execution": {
     "iopub.execute_input": "2021-11-02T15:29:22.243787Z",
     "iopub.status.busy": "2021-11-02T15:29:22.242274Z",
     "iopub.status.idle": "2021-11-02T15:29:22.247701Z",
     "shell.execute_reply": "2021-11-02T15:29:22.245634Z"
    }
   },
   "outputs": [
    {
     "name": "stdout",
     "output_type": "stream",
     "text": [
      "a: (2, 4)\n",
      "b: (2, 1)\n"
     ]
    },
    {
     "data": {
      "text/plain": [
       "array([[ 7,  4,  3, 10],\n",
       "       [27,  5, 18, 10]])"
      ]
     },
     "execution_count": 40,
     "metadata": {},
     "output_type": "execute_result"
    }
   ],
   "source": [
    "# Armamos un array que tenga la misma cantidad de filas que a\n",
    "b = np.array([[2], [1]])\n",
    "print(f\"a: {a.shape}\")\n",
    "print(f\"b: {b.shape}\")\n",
    "a + b"
   ]
  },
  {
   "cell_type": "code",
   "execution_count": 41,
   "id": "57535797",
   "metadata": {
    "execution": {
     "iopub.execute_input": "2021-11-02T15:29:22.252378Z",
     "iopub.status.busy": "2021-11-02T15:29:22.251733Z",
     "iopub.status.idle": "2021-11-02T15:29:22.254501Z",
     "shell.execute_reply": "2021-11-02T15:29:22.254996Z"
    }
   },
   "outputs": [
    {
     "data": {
      "text/plain": [
       "array([[ 9,  6,  5, 12],\n",
       "       [30,  8, 21, 13]])"
      ]
     },
     "execution_count": 41,
     "metadata": {},
     "output_type": "execute_result"
    }
   ],
   "source": [
    "# Si b es un entero\n",
    "b = 4\n",
    "a + b"
   ]
  },
  {
   "cell_type": "code",
   "execution_count": null,
   "id": "aefa5f7d",
   "metadata": {},
   "outputs": [],
   "source": []
  }
 ],
 "metadata": {
  "jupytext": {
   "encoding": "# -*- coding: utf-8 -*-",
   "formats": "ipynb,py:light"
  },
  "kernelspec": {
   "display_name": "Python 3",
   "language": "python",
   "name": "python3"
  },
  "language_info": {
   "codemirror_mode": {
    "name": "ipython",
    "version": 3
   },
   "file_extension": ".py",
   "mimetype": "text/x-python",
   "name": "python",
   "nbconvert_exporter": "python",
   "pygments_lexer": "ipython3",
   "version": "3.7.12"
  }
 },
 "nbformat": 4,
 "nbformat_minor": 5
}
