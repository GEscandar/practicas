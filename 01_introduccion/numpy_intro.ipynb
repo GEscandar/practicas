{
 "cells": [
  {
   "cell_type": "markdown",
   "id": "b70655f6",
   "metadata": {},
   "source": [
    "## Clase 1 - Introducción a Numpy\n",
    "\n",
    "Numpy es una biblioteca para Python que facilita el manejo de arreglos multidimensionales y ofrece varias herramientas para trabajar con ellos. Muchas de las bibliotecas de Python que son ampliamente usadas hoy en día, como pandas, están construidas sobre numpy.\n",
    "\n",
    "### Listas de Python vs arreglos de Numpy\n",
    "\n",
    "A primera vista, un arreglo de numpy puede resultar idéntico a una lista de python, pero a medida que la cantidad de datos comienza a incrementar, los arreglos de numpy terminan ofreciendo un manejo más eficiente de la memoria.\n",
    "\n",
    "Para comenzar, vamos a crear un arreglo de numpy:"
   ]
  },
  {
   "cell_type": "code",
   "execution_count": 1,
   "id": "bcf3a789",
   "metadata": {
    "execution": {
     "iopub.execute_input": "2021-05-20T03:48:56.707763Z",
     "iopub.status.busy": "2021-05-20T03:48:56.707103Z",
     "iopub.status.idle": "2021-05-20T03:48:56.866209Z",
     "shell.execute_reply": "2021-05-20T03:48:56.865657Z"
    }
   },
   "outputs": [
    {
     "data": {
      "text/plain": [
       "array([1, 2, 3, 4])"
      ]
     },
     "execution_count": 1,
     "metadata": {},
     "output_type": "execute_result"
    }
   ],
   "source": [
    "import numpy as np\n",
    "\n",
    "np.array([1, 2, 3, 4])"
   ]
  },
  {
   "cell_type": "markdown",
   "id": "fe32900a",
   "metadata": {},
   "source": [
    "Los arreglos pueden ser también multidimensionales:"
   ]
  },
  {
   "cell_type": "code",
   "execution_count": 2,
   "id": "105dde4b",
   "metadata": {
    "execution": {
     "iopub.execute_input": "2021-05-20T03:48:56.872124Z",
     "iopub.status.busy": "2021-05-20T03:48:56.871337Z",
     "iopub.status.idle": "2021-05-20T03:48:56.874060Z",
     "shell.execute_reply": "2021-05-20T03:48:56.874522Z"
    }
   },
   "outputs": [
    {
     "data": {
      "text/plain": [
       "array([[1, 2, 3, 4],\n",
       "       [5, 6, 7, 8]])"
      ]
     },
     "execution_count": 1,
     "metadata": {},
     "output_type": "execute_result"
    }
   ],
   "source": [
    "np.array([[1, 2, 3, 4], [5, 6, 7, 8]])"
   ]
  },
  {
   "cell_type": "markdown",
   "id": "d0266ca3",
   "metadata": {},
   "source": [
    "Es importante tener en cuenta que un arreglo de numpy tiene un tipo fijo de datos, entonces si se quiere agregar un dato de un tipo diferente al de la mayoría, este va a ser modificado para adaptarse al resto"
   ]
  },
  {
   "cell_type": "code",
   "execution_count": 3,
   "id": "43b8c524",
   "metadata": {
    "execution": {
     "iopub.execute_input": "2021-05-20T03:48:56.878250Z",
     "iopub.status.busy": "2021-05-20T03:48:56.877690Z",
     "iopub.status.idle": "2021-05-20T03:48:56.879519Z",
     "shell.execute_reply": "2021-05-20T03:48:56.879951Z"
    }
   },
   "outputs": [],
   "source": [
    "enteros = np.array([1, 2, 3, 4])"
   ]
  },
  {
   "cell_type": "markdown",
   "id": "cc8816eb",
   "metadata": {},
   "source": [
    "Agrego un elemento de tipo flotante en la posición 1"
   ]
  },
  {
   "cell_type": "code",
   "execution_count": 4,
   "id": "4b26a13c",
   "metadata": {
    "execution": {
     "iopub.execute_input": "2021-05-20T03:48:56.884616Z",
     "iopub.status.busy": "2021-05-20T03:48:56.883842Z",
     "iopub.status.idle": "2021-05-20T03:48:56.886729Z",
     "shell.execute_reply": "2021-05-20T03:48:56.887277Z"
    }
   },
   "outputs": [
    {
     "data": {
      "text/plain": [
       "array([1, 8, 3, 4])"
      ]
     },
     "execution_count": 1,
     "metadata": {},
     "output_type": "execute_result"
    }
   ],
   "source": [
    "enteros[1] = 8.4727\n",
    "enteros"
   ]
  },
  {
   "cell_type": "markdown",
   "id": "76bf4564",
   "metadata": {},
   "source": [
    "Numpy también nos permite crear arreglos con valores aleatorios del 0 al 1.\n",
    "Basta con pasarle las dimensiones del arreglo que queremos crear."
   ]
  },
  {
   "cell_type": "code",
   "execution_count": 5,
   "id": "5fb01c12",
   "metadata": {
    "execution": {
     "iopub.execute_input": "2021-05-20T03:48:56.892331Z",
     "iopub.status.busy": "2021-05-20T03:48:56.891774Z",
     "iopub.status.idle": "2021-05-20T03:48:56.894571Z",
     "shell.execute_reply": "2021-05-20T03:48:56.895052Z"
    }
   },
   "outputs": [
    {
     "data": {
      "text/plain": [
       "array([[0.71429648, 0.32716137, 0.70511535],\n",
       "       [0.72301776, 0.2978277 , 0.45282879]])"
      ]
     },
     "execution_count": 1,
     "metadata": {},
     "output_type": "execute_result"
    }
   ],
   "source": [
    "np.random.rand(2, 3)"
   ]
  },
  {
   "cell_type": "markdown",
   "id": "c5758484",
   "metadata": {},
   "source": [
    "## Slicing\n",
    "\n",
    "De la misma forma que con las listas de python, pueden obtenerse slices de los arreglos de numpy"
   ]
  },
  {
   "cell_type": "code",
   "execution_count": 6,
   "id": "77e42c0a",
   "metadata": {
    "execution": {
     "iopub.execute_input": "2021-05-20T03:48:56.899857Z",
     "iopub.status.busy": "2021-05-20T03:48:56.899300Z",
     "iopub.status.idle": "2021-05-20T03:48:56.901982Z",
     "shell.execute_reply": "2021-05-20T03:48:56.902441Z"
    },
    "lines_to_next_cell": 2
   },
   "outputs": [
    {
     "data": {
      "text/plain": [
       "array([1, 8])"
      ]
     },
     "execution_count": 1,
     "metadata": {},
     "output_type": "execute_result"
    }
   ],
   "source": [
    "enteros[:2]"
   ]
  },
  {
   "cell_type": "code",
   "execution_count": 7,
   "id": "35eb6a36",
   "metadata": {
    "execution": {
     "iopub.execute_input": "2021-05-20T03:48:56.909546Z",
     "iopub.status.busy": "2021-05-20T03:48:56.908166Z",
     "iopub.status.idle": "2021-05-20T03:48:56.911431Z",
     "shell.execute_reply": "2021-05-20T03:48:56.910940Z"
    }
   },
   "outputs": [
    {
     "name": "stdout",
     "output_type": "stream",
     "text": [
      "Original: \n",
      "[[ 1  2  3  4]\n",
      " [ 5  6  7  8]\n",
      " [ 9 10 11 12]]\n",
      "\n",
      "Recortada: \n",
      "[[1 2 3]\n",
      " [5 6 7]]\n"
     ]
    }
   ],
   "source": [
    "matriz_de_enteros = np.array([[1, 2, 3, 4], [5, 6, 7, 8], [9, 10, 11, 12]])\n",
    "\n",
    "print('Original: ')\n",
    "print(matriz_de_enteros)\n",
    "\n",
    "print()\n",
    "\n",
    "print('Recortada: ')\n",
    "print(matriz_de_enteros[:2, :3])"
   ]
  },
  {
   "cell_type": "code",
   "execution_count": 8,
   "id": "3163bbce",
   "metadata": {
    "execution": {
     "iopub.execute_input": "2021-05-20T03:48:56.916253Z",
     "iopub.status.busy": "2021-05-20T03:48:56.915669Z",
     "iopub.status.idle": "2021-05-20T03:48:56.918592Z",
     "shell.execute_reply": "2021-05-20T03:48:56.919073Z"
    }
   },
   "outputs": [
    {
     "data": {
      "text/plain": [
       "array([[[ 0,  1,  2,  3,  4],\n",
       "        [ 5,  6,  7,  8,  9],\n",
       "        [10, 11, 12, 13, 14]],\n",
       "\n",
       "       [[15, 16, 17, 18, 19],\n",
       "        [20, 21, 22, 23, 24],\n",
       "        [25, 26, 27, 28, 29]],\n",
       "\n",
       "       [[30, 31, 32, 33, 34],\n",
       "        [35, 36, 37, 38, 39],\n",
       "        [40, 41, 42, 43, 44]]])"
      ]
     },
     "execution_count": 1,
     "metadata": {},
     "output_type": "execute_result"
    }
   ],
   "source": [
    "# 3D\n",
    "# arange() genera valores de un intervalo pasado por parámetro\n",
    "# reshape() modifica la forma del numpy array\n",
    "\n",
    "x = np.arange(45).reshape(3, 3, 5)\n",
    "x"
   ]
  },
  {
   "cell_type": "code",
   "execution_count": 9,
   "id": "d2966cda",
   "metadata": {
    "execution": {
     "iopub.execute_input": "2021-05-20T03:48:56.923546Z",
     "iopub.status.busy": "2021-05-20T03:48:56.922992Z",
     "iopub.status.idle": "2021-05-20T03:48:56.925725Z",
     "shell.execute_reply": "2021-05-20T03:48:56.926185Z"
    }
   },
   "outputs": [
    {
     "data": {
      "text/plain": [
       "array([[ 0,  1,  2,  3,  4],\n",
       "       [ 5,  6,  7,  8,  9],\n",
       "       [10, 11, 12, 13, 14]])"
      ]
     },
     "execution_count": 1,
     "metadata": {},
     "output_type": "execute_result"
    }
   ],
   "source": [
    "x[0]"
   ]
  },
  {
   "cell_type": "code",
   "execution_count": 10,
   "id": "c3799430",
   "metadata": {
    "execution": {
     "iopub.execute_input": "2021-05-20T03:48:56.930110Z",
     "iopub.status.busy": "2021-05-20T03:48:56.929548Z",
     "iopub.status.idle": "2021-05-20T03:48:56.932918Z",
     "shell.execute_reply": "2021-05-20T03:48:56.932420Z"
    }
   },
   "outputs": [
    {
     "data": {
      "text/plain": [
       "array([5, 6, 7, 8, 9])"
      ]
     },
     "execution_count": 1,
     "metadata": {},
     "output_type": "execute_result"
    }
   ],
   "source": [
    "x[0][1]"
   ]
  },
  {
   "cell_type": "code",
   "execution_count": 11,
   "id": "5df18c89",
   "metadata": {
    "execution": {
     "iopub.execute_input": "2021-05-20T03:48:56.936429Z",
     "iopub.status.busy": "2021-05-20T03:48:56.935874Z",
     "iopub.status.idle": "2021-05-20T03:48:56.939277Z",
     "shell.execute_reply": "2021-05-20T03:48:56.938757Z"
    }
   },
   "outputs": [
    {
     "data": {
      "text/plain": [
       "7"
      ]
     },
     "execution_count": 1,
     "metadata": {},
     "output_type": "execute_result"
    }
   ],
   "source": [
    "x[0][1][2]"
   ]
  },
  {
   "cell_type": "markdown",
   "id": "1b1cedaa",
   "metadata": {},
   "source": [
    "\n",
    "¿Cómo conseguimos estos valores? ([fuente](https://towardsdatascience.com/indexing-and-slicing-of-1d-2d-and-3d-arrays-in-numpy-e731afff0bbe))\n",
    "\n",
    "![title](img/matrix.png)"
   ]
  },
  {
   "cell_type": "code",
   "execution_count": 12,
   "id": "fff8170d",
   "metadata": {
    "execution": {
     "iopub.execute_input": "2021-05-20T03:48:56.943229Z",
     "iopub.status.busy": "2021-05-20T03:48:56.942646Z",
     "iopub.status.idle": "2021-05-20T03:48:56.945769Z",
     "shell.execute_reply": "2021-05-20T03:48:56.945277Z"
    }
   },
   "outputs": [
    {
     "data": {
      "text/plain": [
       "array([[[16, 17, 18],\n",
       "        [21, 22, 23]],\n",
       "\n",
       "       [[31, 32, 33],\n",
       "        [36, 37, 38]]])"
      ]
     },
     "execution_count": 1,
     "metadata": {},
     "output_type": "execute_result"
    }
   ],
   "source": [
    "x[1:, 0:2, 1:4]"
   ]
  },
  {
   "cell_type": "markdown",
   "id": "4d9fd084",
   "metadata": {},
   "source": [
    "### Copia de arreglos"
   ]
  },
  {
   "cell_type": "code",
   "execution_count": 13,
   "id": "45792255",
   "metadata": {
    "execution": {
     "iopub.execute_input": "2021-05-20T03:48:56.949811Z",
     "iopub.status.busy": "2021-05-20T03:48:56.949249Z",
     "iopub.status.idle": "2021-05-20T03:48:56.952530Z",
     "shell.execute_reply": "2021-05-20T03:48:56.952036Z"
    }
   },
   "outputs": [
    {
     "data": {
      "text/plain": [
       "array([1, 2, 3, 4])"
      ]
     },
     "execution_count": 1,
     "metadata": {},
     "output_type": "execute_result"
    }
   ],
   "source": [
    "# Los arreglos no se copian con asignación\n",
    "\n",
    "a = np.array([1, 2, 3, 4])\n",
    "b = a\n",
    "b"
   ]
  },
  {
   "cell_type": "code",
   "execution_count": 14,
   "id": "97f2323b",
   "metadata": {
    "execution": {
     "iopub.execute_input": "2021-05-20T03:48:56.955969Z",
     "iopub.status.busy": "2021-05-20T03:48:56.955410Z",
     "iopub.status.idle": "2021-05-20T03:48:56.958787Z",
     "shell.execute_reply": "2021-05-20T03:48:56.958297Z"
    }
   },
   "outputs": [
    {
     "data": {
      "text/plain": [
       "array([ 1, 20,  3,  4])"
      ]
     },
     "execution_count": 1,
     "metadata": {},
     "output_type": "execute_result"
    }
   ],
   "source": [
    "b[1] = 20\n",
    "b"
   ]
  },
  {
   "cell_type": "code",
   "execution_count": 15,
   "id": "ae6000b7",
   "metadata": {
    "execution": {
     "iopub.execute_input": "2021-05-20T03:48:56.962168Z",
     "iopub.status.busy": "2021-05-20T03:48:56.961609Z",
     "iopub.status.idle": "2021-05-20T03:48:56.964811Z",
     "shell.execute_reply": "2021-05-20T03:48:56.964326Z"
    }
   },
   "outputs": [
    {
     "data": {
      "text/plain": [
       "array([ 1, 20,  3,  4])"
      ]
     },
     "execution_count": 1,
     "metadata": {},
     "output_type": "execute_result"
    }
   ],
   "source": [
    "a"
   ]
  },
  {
   "cell_type": "code",
   "execution_count": 16,
   "id": "04994e33",
   "metadata": {
    "execution": {
     "iopub.execute_input": "2021-05-20T03:48:56.969279Z",
     "iopub.status.busy": "2021-05-20T03:48:56.968673Z",
     "iopub.status.idle": "2021-05-20T03:48:56.971783Z",
     "shell.execute_reply": "2021-05-20T03:48:56.971296Z"
    }
   },
   "outputs": [
    {
     "data": {
      "text/plain": [
       "array([ 1, 20,  3,  4])"
      ]
     },
     "execution_count": 1,
     "metadata": {},
     "output_type": "execute_result"
    }
   ],
   "source": [
    "# Para copiar un arreglo a otra variable debemos usar copy()\n",
    "\n",
    "a = np.array([1, 2, 3, 4])\n",
    "b = a.copy()\n",
    "b[1] = 20\n",
    "b"
   ]
  },
  {
   "cell_type": "code",
   "execution_count": 17,
   "id": "e8db96be",
   "metadata": {
    "execution": {
     "iopub.execute_input": "2021-05-20T03:48:56.975352Z",
     "iopub.status.busy": "2021-05-20T03:48:56.974722Z",
     "iopub.status.idle": "2021-05-20T03:48:56.977358Z",
     "shell.execute_reply": "2021-05-20T03:48:56.977848Z"
    }
   },
   "outputs": [
    {
     "data": {
      "text/plain": [
       "array([1, 2, 3, 4])"
      ]
     },
     "execution_count": 1,
     "metadata": {},
     "output_type": "execute_result"
    }
   ],
   "source": [
    "a"
   ]
  },
  {
   "cell_type": "markdown",
   "id": "1b9d5c6f",
   "metadata": {},
   "source": [
    "### Modificación de dimensiones"
   ]
  },
  {
   "cell_type": "markdown",
   "id": "8666d38e",
   "metadata": {},
   "source": [
    "Existen varias operaciones para cambiar la forma de un arreglo de numpy"
   ]
  },
  {
   "cell_type": "code",
   "execution_count": 18,
   "id": "b85e070e",
   "metadata": {
    "execution": {
     "iopub.execute_input": "2021-05-20T03:48:56.981750Z",
     "iopub.status.busy": "2021-05-20T03:48:56.981191Z",
     "iopub.status.idle": "2021-05-20T03:48:56.984290Z",
     "shell.execute_reply": "2021-05-20T03:48:56.983721Z"
    }
   },
   "outputs": [
    {
     "data": {
      "text/plain": [
       "array([[ 1,  2,  3,  4],\n",
       "       [ 5,  6,  7,  8],\n",
       "       [ 9, 10, 11, 12]])"
      ]
     },
     "execution_count": 1,
     "metadata": {},
     "output_type": "execute_result"
    }
   ],
   "source": [
    "matriz_de_enteros"
   ]
  },
  {
   "cell_type": "code",
   "execution_count": 19,
   "id": "84ebcf70",
   "metadata": {
    "execution": {
     "iopub.execute_input": "2021-05-20T03:48:56.987529Z",
     "iopub.status.busy": "2021-05-20T03:48:56.986974Z",
     "iopub.status.idle": "2021-05-20T03:48:56.990415Z",
     "shell.execute_reply": "2021-05-20T03:48:56.990900Z"
    }
   },
   "outputs": [
    {
     "data": {
      "text/plain": [
       "2"
      ]
     },
     "execution_count": 1,
     "metadata": {},
     "output_type": "execute_result"
    }
   ],
   "source": [
    "# Obtener las dimensiones del arreglo\n",
    "\n",
    "matriz_de_enteros.ndim"
   ]
  },
  {
   "cell_type": "code",
   "execution_count": 20,
   "id": "ff8be35f",
   "metadata": {
    "execution": {
     "iopub.execute_input": "2021-05-20T03:48:56.994317Z",
     "iopub.status.busy": "2021-05-20T03:48:56.993763Z",
     "iopub.status.idle": "2021-05-20T03:48:56.997069Z",
     "shell.execute_reply": "2021-05-20T03:48:56.996427Z"
    }
   },
   "outputs": [
    {
     "data": {
      "text/plain": [
       "(3, 4)"
      ]
     },
     "execution_count": 1,
     "metadata": {},
     "output_type": "execute_result"
    }
   ],
   "source": [
    "# Obtener la forma del arreglo\n",
    "\n",
    "matriz_de_enteros.shape"
   ]
  },
  {
   "cell_type": "code",
   "execution_count": 21,
   "id": "3f8997b6",
   "metadata": {
    "execution": {
     "iopub.execute_input": "2021-05-20T03:48:57.001849Z",
     "iopub.status.busy": "2021-05-20T03:48:57.001260Z",
     "iopub.status.idle": "2021-05-20T03:48:57.003956Z",
     "shell.execute_reply": "2021-05-20T03:48:57.004498Z"
    }
   },
   "outputs": [
    {
     "name": "stdout",
     "output_type": "stream",
     "text": [
      "enteros: [ 3  6  9 12]\n"
     ]
    },
    {
     "data": {
      "text/plain": [
       "array([[ 3,  6],\n",
       "       [ 9, 12]])"
      ]
     },
     "execution_count": 1,
     "metadata": {},
     "output_type": "execute_result"
    }
   ],
   "source": [
    "# Modificar la forma de un arreglo\n",
    "\n",
    "enteros = np.array([3, 6, 9, 12])\n",
    "print(f\"enteros: {enteros}\")\n",
    "np.reshape(enteros, (2, 2))"
   ]
  },
  {
   "cell_type": "code",
   "execution_count": 22,
   "id": "851898b6",
   "metadata": {
    "execution": {
     "iopub.execute_input": "2021-05-20T03:48:57.008234Z",
     "iopub.status.busy": "2021-05-20T03:48:57.007683Z",
     "iopub.status.idle": "2021-05-20T03:48:57.010988Z",
     "shell.execute_reply": "2021-05-20T03:48:57.010472Z"
    }
   },
   "outputs": [
    {
     "data": {
      "text/plain": [
       "array([[1., 1.],\n",
       "       [1., 1.]])"
      ]
     },
     "execution_count": 1,
     "metadata": {},
     "output_type": "execute_result"
    }
   ],
   "source": [
    "# Aplanar un arreglo\n",
    "\n",
    "a = np.ones((2, 2))\n",
    "a"
   ]
  },
  {
   "cell_type": "code",
   "execution_count": 23,
   "id": "32bd2d09",
   "metadata": {
    "execution": {
     "iopub.execute_input": "2021-05-20T03:48:57.014715Z",
     "iopub.status.busy": "2021-05-20T03:48:57.014163Z",
     "iopub.status.idle": "2021-05-20T03:48:57.017199Z",
     "shell.execute_reply": "2021-05-20T03:48:57.016636Z"
    }
   },
   "outputs": [
    {
     "data": {
      "text/plain": [
       "array([1., 1., 1., 1.])"
      ]
     },
     "execution_count": 1,
     "metadata": {},
     "output_type": "execute_result"
    }
   ],
   "source": [
    "a.flatten()"
   ]
  },
  {
   "cell_type": "code",
   "execution_count": 24,
   "id": "a85cc95a",
   "metadata": {
    "execution": {
     "iopub.execute_input": "2021-05-20T03:48:57.021312Z",
     "iopub.status.busy": "2021-05-20T03:48:57.020762Z",
     "iopub.status.idle": "2021-05-20T03:48:57.023183Z",
     "shell.execute_reply": "2021-05-20T03:48:57.023617Z"
    },
    "lines_to_next_cell": 2
   },
   "outputs": [
    {
     "data": {
      "text/plain": [
       "array([[1., 1.],\n",
       "       [1., 1.]])"
      ]
     },
     "execution_count": 1,
     "metadata": {},
     "output_type": "execute_result"
    }
   ],
   "source": [
    "a"
   ]
  },
  {
   "cell_type": "markdown",
   "id": "03a88b51",
   "metadata": {},
   "source": [
    "### Combinación de arreglos (Stacking)"
   ]
  },
  {
   "cell_type": "code",
   "execution_count": 25,
   "id": "d3d7bf0a",
   "metadata": {
    "execution": {
     "iopub.execute_input": "2021-05-20T03:48:57.027415Z",
     "iopub.status.busy": "2021-05-20T03:48:57.026857Z",
     "iopub.status.idle": "2021-05-20T03:48:57.029768Z",
     "shell.execute_reply": "2021-05-20T03:48:57.030232Z"
    }
   },
   "outputs": [
    {
     "data": {
      "text/plain": [
       "array([0, 1, 2, 3, 4])"
      ]
     },
     "execution_count": 1,
     "metadata": {},
     "output_type": "execute_result"
    }
   ],
   "source": [
    "# Los arreglos se pueden combinar verticalmente (se incrementa la cantidad de filas)\n",
    "\n",
    "a = np.arange(0, 5)\n",
    "a"
   ]
  },
  {
   "cell_type": "code",
   "execution_count": 26,
   "id": "0792f7e6",
   "metadata": {
    "execution": {
     "iopub.execute_input": "2021-05-20T03:48:57.033974Z",
     "iopub.status.busy": "2021-05-20T03:48:57.033420Z",
     "iopub.status.idle": "2021-05-20T03:48:57.036555Z",
     "shell.execute_reply": "2021-05-20T03:48:57.036072Z"
    }
   },
   "outputs": [
    {
     "data": {
      "text/plain": [
       "array([5, 6, 7, 8, 9])"
      ]
     },
     "execution_count": 1,
     "metadata": {},
     "output_type": "execute_result"
    }
   ],
   "source": [
    "b = np.arange(5, 10)\n",
    "b"
   ]
  },
  {
   "cell_type": "code",
   "execution_count": 27,
   "id": "94e3f214",
   "metadata": {
    "execution": {
     "iopub.execute_input": "2021-05-20T03:48:57.040472Z",
     "iopub.status.busy": "2021-05-20T03:48:57.039921Z",
     "iopub.status.idle": "2021-05-20T03:48:57.043053Z",
     "shell.execute_reply": "2021-05-20T03:48:57.042537Z"
    }
   },
   "outputs": [
    {
     "data": {
      "text/plain": [
       "array([[0, 1, 2, 3, 4],\n",
       "       [5, 6, 7, 8, 9]])"
      ]
     },
     "execution_count": 1,
     "metadata": {},
     "output_type": "execute_result"
    }
   ],
   "source": [
    "combinados_verticalmente = np.vstack((a, b))\n",
    "combinados_verticalmente"
   ]
  },
  {
   "cell_type": "code",
   "execution_count": 28,
   "id": "dac8c223",
   "metadata": {
    "execution": {
     "iopub.execute_input": "2021-05-20T03:48:57.046826Z",
     "iopub.status.busy": "2021-05-20T03:48:57.046248Z",
     "iopub.status.idle": "2021-05-20T03:48:57.049513Z",
     "shell.execute_reply": "2021-05-20T03:48:57.048857Z"
    }
   },
   "outputs": [
    {
     "data": {
      "text/plain": [
       "array([0, 1, 2, 3, 4, 5, 6, 7, 8, 9])"
      ]
     },
     "execution_count": 1,
     "metadata": {},
     "output_type": "execute_result"
    }
   ],
   "source": [
    "# También se pueden combinar horizontalmente (se incrementa la cantidad de columnas)\n",
    "\n",
    "combinados_horizontalmente = np.hstack((a, b))\n",
    "combinados_horizontalmente"
   ]
  },
  {
   "cell_type": "markdown",
   "id": "e569c98a",
   "metadata": {},
   "source": [
    "### Operaciones matemáticas"
   ]
  },
  {
   "cell_type": "code",
   "execution_count": 29,
   "id": "44d59da9",
   "metadata": {
    "execution": {
     "iopub.execute_input": "2021-05-20T03:48:57.054174Z",
     "iopub.status.busy": "2021-05-20T03:48:57.053598Z",
     "iopub.status.idle": "2021-05-20T03:48:57.055790Z",
     "shell.execute_reply": "2021-05-20T03:48:57.056258Z"
    }
   },
   "outputs": [
    {
     "data": {
      "text/plain": [
       "array([3, 4, 5, 6])"
      ]
     },
     "execution_count": 1,
     "metadata": {},
     "output_type": "execute_result"
    }
   ],
   "source": [
    "a = np.array([1, 2, 3, 4])\n",
    "\n",
    "a + 2"
   ]
  },
  {
   "cell_type": "code",
   "execution_count": 30,
   "id": "d22bd943",
   "metadata": {
    "execution": {
     "iopub.execute_input": "2021-05-20T03:48:57.060142Z",
     "iopub.status.busy": "2021-05-20T03:48:57.059515Z",
     "iopub.status.idle": "2021-05-20T03:48:57.062428Z",
     "shell.execute_reply": "2021-05-20T03:48:57.063000Z"
    }
   },
   "outputs": [
    {
     "data": {
      "text/plain": [
       "array([ 1,  4,  9, 16])"
      ]
     },
     "execution_count": 1,
     "metadata": {},
     "output_type": "execute_result"
    }
   ],
   "source": [
    "a ** 2"
   ]
  },
  {
   "cell_type": "code",
   "execution_count": 31,
   "id": "5f8e0f25",
   "metadata": {
    "execution": {
     "iopub.execute_input": "2021-05-20T03:48:57.067632Z",
     "iopub.status.busy": "2021-05-20T03:48:57.067077Z",
     "iopub.status.idle": "2021-05-20T03:48:57.070263Z",
     "shell.execute_reply": "2021-05-20T03:48:57.070727Z"
    }
   },
   "outputs": [
    {
     "name": "stdout",
     "output_type": "stream",
     "text": [
      "b: [1. 1. 1. 1.]\n"
     ]
    },
    {
     "data": {
      "text/plain": [
       "array([2., 3., 4., 5.])"
      ]
     },
     "execution_count": 1,
     "metadata": {},
     "output_type": "execute_result"
    }
   ],
   "source": [
    "b = np.ones(4)\n",
    "print(f\"b: {b}\")\n",
    "a + b"
   ]
  },
  {
   "cell_type": "markdown",
   "id": "991be906",
   "metadata": {},
   "source": [
    "### Estadística"
   ]
  },
  {
   "cell_type": "code",
   "execution_count": 32,
   "id": "ea3410ea",
   "metadata": {
    "execution": {
     "iopub.execute_input": "2021-05-20T03:48:57.075114Z",
     "iopub.status.busy": "2021-05-20T03:48:57.074536Z",
     "iopub.status.idle": "2021-05-20T03:48:57.077716Z",
     "shell.execute_reply": "2021-05-20T03:48:57.077143Z"
    }
   },
   "outputs": [
    {
     "data": {
      "text/plain": [
       "1"
      ]
     },
     "execution_count": 1,
     "metadata": {},
     "output_type": "execute_result"
    }
   ],
   "source": [
    "a = np.array([[5, 2, 1, 8], [26, 4, 17, 9]])\n",
    "\n",
    "np.min(a)"
   ]
  },
  {
   "cell_type": "code",
   "execution_count": 33,
   "id": "6102a169",
   "metadata": {
    "execution": {
     "iopub.execute_input": "2021-05-20T03:48:57.081665Z",
     "iopub.status.busy": "2021-05-20T03:48:57.081113Z",
     "iopub.status.idle": "2021-05-20T03:48:57.083953Z",
     "shell.execute_reply": "2021-05-20T03:48:57.083381Z"
    }
   },
   "outputs": [
    {
     "data": {
      "text/plain": [
       "26"
      ]
     },
     "execution_count": 1,
     "metadata": {},
     "output_type": "execute_result"
    }
   ],
   "source": [
    "np.max(a)"
   ]
  },
  {
   "cell_type": "code",
   "execution_count": 34,
   "id": "4d252c2d",
   "metadata": {
    "execution": {
     "iopub.execute_input": "2021-05-20T03:48:57.087603Z",
     "iopub.status.busy": "2021-05-20T03:48:57.087044Z",
     "iopub.status.idle": "2021-05-20T03:48:57.090172Z",
     "shell.execute_reply": "2021-05-20T03:48:57.089686Z"
    }
   },
   "outputs": [
    {
     "data": {
      "text/plain": [
       "72"
      ]
     },
     "execution_count": 1,
     "metadata": {},
     "output_type": "execute_result"
    }
   ],
   "source": [
    "np.sum(a)"
   ]
  },
  {
   "cell_type": "markdown",
   "id": "33029494",
   "metadata": {},
   "source": [
    "### Más magia"
   ]
  },
  {
   "cell_type": "code",
   "execution_count": 35,
   "id": "29a22517",
   "metadata": {
    "execution": {
     "iopub.execute_input": "2021-05-20T03:48:57.093961Z",
     "iopub.status.busy": "2021-05-20T03:48:57.093409Z",
     "iopub.status.idle": "2021-05-20T03:48:57.096817Z",
     "shell.execute_reply": "2021-05-20T03:48:57.096333Z"
    }
   },
   "outputs": [
    {
     "data": {
      "text/plain": [
       "array([[False, False, False,  True],\n",
       "       [ True, False,  True,  True]])"
      ]
     },
     "execution_count": 1,
     "metadata": {},
     "output_type": "execute_result"
    }
   ],
   "source": [
    "a = np.array([[5, 2, 1, 8], [26, 4, 17, 9]])\n",
    "\n",
    "a > 5"
   ]
  },
  {
   "cell_type": "code",
   "execution_count": 36,
   "id": "cabcbfb1",
   "metadata": {
    "execution": {
     "iopub.execute_input": "2021-05-20T03:48:57.100443Z",
     "iopub.status.busy": "2021-05-20T03:48:57.099893Z",
     "iopub.status.idle": "2021-05-20T03:48:57.103114Z",
     "shell.execute_reply": "2021-05-20T03:48:57.102602Z"
    }
   },
   "outputs": [
    {
     "data": {
      "text/plain": [
       "array([ 8, 26, 17,  9])"
      ]
     },
     "execution_count": 1,
     "metadata": {},
     "output_type": "execute_result"
    }
   ],
   "source": [
    "a[a > 5]"
   ]
  },
  {
   "cell_type": "markdown",
   "id": "d9d53c07",
   "metadata": {},
   "source": [
    "### Broadcasting"
   ]
  },
  {
   "cell_type": "markdown",
   "id": "b070d33e",
   "metadata": {},
   "source": [
    "Permite realizar operaciones entre dos numpy arrays de distintas dimensiones.\n",
    "Para lograr esto, las dimensiones de los mismos deben ser compatibles. Dos dimensiones son compatibles cuando:\n",
    "1. Son iguales\n",
    "2. Alguna de las dos es 1"
   ]
  },
  {
   "cell_type": "code",
   "execution_count": 37,
   "id": "13b01774",
   "metadata": {
    "execution": {
     "iopub.execute_input": "2021-05-20T03:48:57.107186Z",
     "iopub.status.busy": "2021-05-20T03:48:57.106613Z",
     "iopub.status.idle": "2021-05-20T03:48:57.109922Z",
     "shell.execute_reply": "2021-05-20T03:48:57.109140Z"
    }
   },
   "outputs": [
    {
     "data": {
      "text/plain": [
       "array([[ 5,  2,  1,  8],\n",
       "       [26,  4, 17,  9]])"
      ]
     },
     "execution_count": 1,
     "metadata": {},
     "output_type": "execute_result"
    }
   ],
   "source": [
    "a = np.array([[5, 2, 1, 8], [26, 4, 17, 9]])\n",
    "a"
   ]
  },
  {
   "cell_type": "code",
   "execution_count": 38,
   "id": "4a39d51a",
   "metadata": {
    "execution": {
     "iopub.execute_input": "2021-05-20T03:48:57.115103Z",
     "iopub.status.busy": "2021-05-20T03:48:57.114518Z",
     "iopub.status.idle": "2021-05-20T03:48:57.117282Z",
     "shell.execute_reply": "2021-05-20T03:48:57.116796Z"
    }
   },
   "outputs": [
    {
     "name": "stdout",
     "output_type": "stream",
     "text": [
      "a: (2, 4)\n",
      "b: (4,)\n",
      "\n",
      "a + b:\n",
      " [[10  4  2 16]\n",
      " [31  6 18 17]]\n"
     ]
    }
   ],
   "source": [
    "# Armamos un array que tenga la misma cantidad de columnas que a\n",
    "b = np.array([5, 2, 1, 8])\n",
    "print(f\"a: {a.shape}\")\n",
    "print(f\"b: {b.shape}\")\n",
    "# a + b\n",
    "print()\n",
    "print(f\"a + b:\\n {a + b}\")"
   ]
  },
  {
   "cell_type": "code",
   "execution_count": 39,
   "id": "3fe163a4",
   "metadata": {
    "execution": {
     "iopub.execute_input": "2021-05-20T03:48:57.121765Z",
     "iopub.status.busy": "2021-05-20T03:48:57.121014Z",
     "iopub.status.idle": "2021-05-20T03:48:57.184097Z",
     "shell.execute_reply": "2021-05-20T03:48:57.184616Z"
    },
    "tags": [
     "raises-exception"
    ]
   },
   "outputs": [
    {
     "name": "stdout",
     "output_type": "stream",
     "text": [
      "a: (2, 4)\n",
      "b: (3,)\n"
     ]
    },
    {
     "ename": "ValueError",
     "evalue": "operands could not be broadcast together with shapes (2,4) (3,) ",
     "output_type": "error",
     "traceback": [
      "\u001b[0;31m---------------------------------------------------------------------------\u001b[0m",
      "\u001b[0;31mValueError\u001b[0m                                Traceback (most recent call last)",
      "\u001b[0;32m<ipython-input-1-fe11b6ae6346>\u001b[0m in \u001b[0;36m<module>\u001b[0;34m\u001b[0m\n\u001b[1;32m      3\u001b[0m \u001b[0mprint\u001b[0m\u001b[0;34m(\u001b[0m\u001b[0;34mf\"a: {a.shape}\"\u001b[0m\u001b[0;34m)\u001b[0m\u001b[0;34m\u001b[0m\u001b[0;34m\u001b[0m\u001b[0m\n\u001b[1;32m      4\u001b[0m \u001b[0mprint\u001b[0m\u001b[0;34m(\u001b[0m\u001b[0;34mf\"b: {b.shape}\"\u001b[0m\u001b[0;34m)\u001b[0m\u001b[0;34m\u001b[0m\u001b[0;34m\u001b[0m\u001b[0m\n\u001b[0;32m----> 5\u001b[0;31m \u001b[0ma\u001b[0m \u001b[0;34m+\u001b[0m \u001b[0mb\u001b[0m\u001b[0;34m\u001b[0m\u001b[0;34m\u001b[0m\u001b[0m\n\u001b[0m",
      "\u001b[0;31mValueError\u001b[0m: operands could not be broadcast together with shapes (2,4) (3,) "
     ]
    }
   ],
   "source": [
    "# Armamos un array que tenga distinta cantidad de filas y columnas que a\n",
    "b = np.array([5, 1, 8])\n",
    "print(f\"a: {a.shape}\")\n",
    "print(f\"b: {b.shape}\")\n",
    "a + b"
   ]
  },
  {
   "cell_type": "code",
   "execution_count": 40,
   "id": "5b71959e",
   "metadata": {
    "execution": {
     "iopub.execute_input": "2021-05-20T03:48:57.190967Z",
     "iopub.status.busy": "2021-05-20T03:48:57.190288Z",
     "iopub.status.idle": "2021-05-20T03:48:57.194954Z",
     "shell.execute_reply": "2021-05-20T03:48:57.194396Z"
    }
   },
   "outputs": [
    {
     "name": "stdout",
     "output_type": "stream",
     "text": [
      "a: (2, 4)\n",
      "b: (2, 1)\n"
     ]
    },
    {
     "data": {
      "text/plain": [
       "array([[ 7,  4,  3, 10],\n",
       "       [27,  5, 18, 10]])"
      ]
     },
     "execution_count": 1,
     "metadata": {},
     "output_type": "execute_result"
    }
   ],
   "source": [
    "# Armamos un array que tenga la misma cantidad de filas que a\n",
    "b = np.array([[2], [1]])\n",
    "print(f\"a: {a.shape}\")\n",
    "print(f\"b: {b.shape}\")\n",
    "a + b"
   ]
  },
  {
   "cell_type": "code",
   "execution_count": 41,
   "id": "d11df40c",
   "metadata": {
    "execution": {
     "iopub.execute_input": "2021-05-20T03:48:57.200292Z",
     "iopub.status.busy": "2021-05-20T03:48:57.199071Z",
     "iopub.status.idle": "2021-05-20T03:48:57.202558Z",
     "shell.execute_reply": "2021-05-20T03:48:57.202059Z"
    }
   },
   "outputs": [
    {
     "data": {
      "text/plain": [
       "array([[ 9,  6,  5, 12],\n",
       "       [30,  8, 21, 13]])"
      ]
     },
     "execution_count": 1,
     "metadata": {},
     "output_type": "execute_result"
    }
   ],
   "source": [
    "# Si b es un entero\n",
    "b = 4\n",
    "a + b"
   ]
  },
  {
   "cell_type": "code",
   "execution_count": null,
   "id": "89ac2f45",
   "metadata": {},
   "outputs": [],
   "source": []
  }
 ],
 "metadata": {
  "jupytext": {
   "encoding": "# -*- coding: utf-8 -*-",
   "formats": "ipynb,py:light"
  },
  "kernelspec": {
   "display_name": "Python 3",
   "language": "python",
   "name": "python3"
  },
  "language_info": {
   "codemirror_mode": {
    "name": "ipython",
    "version": 3
   },
   "file_extension": ".py",
   "mimetype": "text/x-python",
   "name": "python",
   "nbconvert_exporter": "python",
   "pygments_lexer": "ipython3",
   "version": "3.7.10"
  }
 },
 "nbformat": 4,
 "nbformat_minor": 5
}
