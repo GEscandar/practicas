{
 "cells": [
  {
   "cell_type": "markdown",
   "id": "statistical-pencil",
   "metadata": {},
   "source": [
    "## Clase 1 - Introducción a Numpy\n",
    "\n",
    "Numpy es una biblioteca para Python que facilita el manejo de arreglos multidimensionales y ofrece varias herramientas para trabajar con ellos. Muchas de las bibliotecas de Python que son ampliamente usadas hoy en día, como pandas, están construidas sobre numpy.\n",
    "\n",
    "### Listas de Python vs arreglos de Numpy\n",
    "\n",
    "A primera vista, un arreglo de numpy puede resultar idéntico a una lista de python, pero a medida que la cantidad de datos comienza a incrementar, los arreglos de numpy terminan ofreciendo un manejo más eficiente de la memoria.\n",
    "\n",
    "Para comenzar, vamos a crear un arreglo de numpy:"
   ]
  },
  {
   "cell_type": "code",
   "execution_count": 1,
   "id": "religious-grain",
   "metadata": {
    "execution": {
     "iopub.execute_input": "2021-02-03T23:03:18.154894Z",
     "iopub.status.busy": "2021-02-03T23:03:18.154326Z",
     "iopub.status.idle": "2021-02-03T23:03:18.335087Z",
     "shell.execute_reply": "2021-02-03T23:03:18.334572Z"
    }
   },
   "outputs": [
    {
     "data": {
      "text/plain": [
       "array([1, 2, 3, 4])"
      ]
     },
     "execution_count": 1,
     "metadata": {},
     "output_type": "execute_result"
    }
   ],
   "source": [
    "import numpy as np\n",
    "\n",
    "np.array([1, 2, 3, 4])"
   ]
  },
  {
   "cell_type": "markdown",
   "id": "certain-straight",
   "metadata": {},
   "source": [
    "Los arreglos pueden ser también multidimensionales:"
   ]
  },
  {
   "cell_type": "code",
   "execution_count": 2,
   "id": "terminal-disaster",
   "metadata": {
    "execution": {
     "iopub.execute_input": "2021-02-03T23:03:18.340405Z",
     "iopub.status.busy": "2021-02-03T23:03:18.339896Z",
     "iopub.status.idle": "2021-02-03T23:03:18.344932Z",
     "shell.execute_reply": "2021-02-03T23:03:18.345328Z"
    }
   },
   "outputs": [
    {
     "data": {
      "text/plain": [
       "array([[1, 2, 3, 4],\n",
       "       [5, 6, 7, 8]])"
      ]
     },
     "execution_count": 1,
     "metadata": {},
     "output_type": "execute_result"
    }
   ],
   "source": [
    "np.array([[1, 2, 3, 4], [5, 6, 7, 8]])"
   ]
  },
  {
   "cell_type": "markdown",
   "id": "answering-stupid",
   "metadata": {},
   "source": [
    "Es importante tener en cuenta que un arreglo de numpy tiene un tipo fijo de datos, entonces si se quiere agregar un dato de un tipo diferente al de la mayoría, este va a ser modificado para adaptarse al resto"
   ]
  },
  {
   "cell_type": "code",
   "execution_count": 3,
   "id": "brazilian-ranking",
   "metadata": {
    "execution": {
     "iopub.execute_input": "2021-02-03T23:03:18.348879Z",
     "iopub.status.busy": "2021-02-03T23:03:18.348360Z",
     "iopub.status.idle": "2021-02-03T23:03:18.350452Z",
     "shell.execute_reply": "2021-02-03T23:03:18.350052Z"
    }
   },
   "outputs": [],
   "source": [
    "enteros = np.array([1, 2, 3, 4])"
   ]
  },
  {
   "cell_type": "markdown",
   "id": "continuous-fourth",
   "metadata": {},
   "source": [
    "Agrego un elemento de tipo flotante en la posición 1"
   ]
  },
  {
   "cell_type": "code",
   "execution_count": 4,
   "id": "contained-reynolds",
   "metadata": {
    "execution": {
     "iopub.execute_input": "2021-02-03T23:03:18.356340Z",
     "iopub.status.busy": "2021-02-03T23:03:18.355851Z",
     "iopub.status.idle": "2021-02-03T23:03:18.357987Z",
     "shell.execute_reply": "2021-02-03T23:03:18.358401Z"
    }
   },
   "outputs": [
    {
     "data": {
      "text/plain": [
       "array([1, 8, 3, 4])"
      ]
     },
     "execution_count": 1,
     "metadata": {},
     "output_type": "execute_result"
    }
   ],
   "source": [
    "enteros[1] = 8.4727\n",
    "enteros"
   ]
  },
  {
   "cell_type": "markdown",
   "id": "beautiful-instrumentation",
   "metadata": {},
   "source": [
    "Numpy también nos permite crear arreglos con valores aleatorios del 0 al 1.\n",
    "Basta con pasarle las dimensiones del arreglo que queremos crear."
   ]
  },
  {
   "cell_type": "code",
   "execution_count": 5,
   "id": "conscious-penguin",
   "metadata": {
    "execution": {
     "iopub.execute_input": "2021-02-03T23:03:18.362261Z",
     "iopub.status.busy": "2021-02-03T23:03:18.361773Z",
     "iopub.status.idle": "2021-02-03T23:03:18.364779Z",
     "shell.execute_reply": "2021-02-03T23:03:18.365185Z"
    }
   },
   "outputs": [
    {
     "data": {
      "text/plain": [
       "array([[0.92722192, 0.63915963, 0.43919001],\n",
       "       [0.61742302, 0.80490366, 0.81810827]])"
      ]
     },
     "execution_count": 1,
     "metadata": {},
     "output_type": "execute_result"
    }
   ],
   "source": [
    "np.random.rand(2, 3)"
   ]
  },
  {
   "cell_type": "markdown",
   "id": "signed-furniture",
   "metadata": {},
   "source": [
    "## Slicing\n",
    "\n",
    "De la misma forma que con las listas de python, pueden obtenerse slices de los arreglos de numpy"
   ]
  },
  {
   "cell_type": "code",
   "execution_count": 6,
   "id": "alien-consolidation",
   "metadata": {
    "execution": {
     "iopub.execute_input": "2021-02-03T23:03:18.368702Z",
     "iopub.status.busy": "2021-02-03T23:03:18.368205Z",
     "iopub.status.idle": "2021-02-03T23:03:18.370799Z",
     "shell.execute_reply": "2021-02-03T23:03:18.370372Z"
    },
    "lines_to_next_cell": 2
   },
   "outputs": [
    {
     "data": {
      "text/plain": [
       "array([1, 8])"
      ]
     },
     "execution_count": 1,
     "metadata": {},
     "output_type": "execute_result"
    }
   ],
   "source": [
    "enteros[:2]"
   ]
  },
  {
   "cell_type": "code",
   "execution_count": 7,
   "id": "accepting-georgia",
   "metadata": {
    "execution": {
     "iopub.execute_input": "2021-02-03T23:03:18.375353Z",
     "iopub.status.busy": "2021-02-03T23:03:18.374867Z",
     "iopub.status.idle": "2021-02-03T23:03:18.376874Z",
     "shell.execute_reply": "2021-02-03T23:03:18.377490Z"
    }
   },
   "outputs": [
    {
     "name": "stdout",
     "output_type": "stream",
     "text": [
      "Original: \n",
      "[[ 1  2  3  4]\n",
      " [ 5  6  7  8]\n",
      " [ 9 10 11 12]]\n",
      "\n",
      "Recortada: \n",
      "[[1 2 3]\n",
      " [5 6 7]]\n"
     ]
    }
   ],
   "source": [
    "matriz_de_enteros = np.array([[1, 2, 3, 4], [5, 6, 7, 8], [9, 10, 11, 12]])\n",
    "\n",
    "print('Original: ')\n",
    "print(matriz_de_enteros)\n",
    "\n",
    "print()\n",
    "\n",
    "print('Recortada: ')\n",
    "print(matriz_de_enteros[:2, :3])"
   ]
  },
  {
   "cell_type": "code",
   "execution_count": 8,
   "id": "digital-needle",
   "metadata": {
    "execution": {
     "iopub.execute_input": "2021-02-03T23:03:18.381400Z",
     "iopub.status.busy": "2021-02-03T23:03:18.380912Z",
     "iopub.status.idle": "2021-02-03T23:03:18.385423Z",
     "shell.execute_reply": "2021-02-03T23:03:18.384913Z"
    }
   },
   "outputs": [
    {
     "data": {
      "text/plain": [
       "array([[[ 0,  1,  2,  3,  4],\n",
       "        [ 5,  6,  7,  8,  9],\n",
       "        [10, 11, 12, 13, 14]],\n",
       "\n",
       "       [[15, 16, 17, 18, 19],\n",
       "        [20, 21, 22, 23, 24],\n",
       "        [25, 26, 27, 28, 29]],\n",
       "\n",
       "       [[30, 31, 32, 33, 34],\n",
       "        [35, 36, 37, 38, 39],\n",
       "        [40, 41, 42, 43, 44]]])"
      ]
     },
     "execution_count": 1,
     "metadata": {},
     "output_type": "execute_result"
    }
   ],
   "source": [
    "# 3D\n",
    "x = np.arange(45).reshape(3, 3, 5)\n",
    "x"
   ]
  },
  {
   "cell_type": "code",
   "execution_count": 9,
   "id": "duplicate-distribution",
   "metadata": {
    "execution": {
     "iopub.execute_input": "2021-02-03T23:03:18.389093Z",
     "iopub.status.busy": "2021-02-03T23:03:18.388319Z",
     "iopub.status.idle": "2021-02-03T23:03:18.390478Z",
     "shell.execute_reply": "2021-02-03T23:03:18.390952Z"
    }
   },
   "outputs": [
    {
     "data": {
      "text/plain": [
       "array([[ 0,  1,  2,  3,  4],\n",
       "       [ 5,  6,  7,  8,  9],\n",
       "       [10, 11, 12, 13, 14]])"
      ]
     },
     "execution_count": 1,
     "metadata": {},
     "output_type": "execute_result"
    }
   ],
   "source": [
    "x[0]"
   ]
  },
  {
   "cell_type": "markdown",
   "id": "existing-tourism",
   "metadata": {},
   "source": [
    "\n",
    "¿Cómo conseguimos estos valores? ([fuente](https://towardsdatascience.com/indexing-and-slicing-of-1d-2d-and-3d-arrays-in-numpy-e731afff0bbe))\n",
    "\n",
    "![title](img/matrix.png)"
   ]
  },
  {
   "cell_type": "code",
   "execution_count": 10,
   "id": "extensive-therapy",
   "metadata": {
    "execution": {
     "iopub.execute_input": "2021-02-03T23:03:18.394511Z",
     "iopub.status.busy": "2021-02-03T23:03:18.394039Z",
     "iopub.status.idle": "2021-02-03T23:03:18.396613Z",
     "shell.execute_reply": "2021-02-03T23:03:18.396098Z"
    }
   },
   "outputs": [
    {
     "data": {
      "text/plain": [
       "array([[[16, 17, 18],\n",
       "        [21, 22, 23]],\n",
       "\n",
       "       [[31, 32, 33],\n",
       "        [36, 37, 38]]])"
      ]
     },
     "execution_count": 1,
     "metadata": {},
     "output_type": "execute_result"
    }
   ],
   "source": [
    "x[1:, 0:2, 1:4]"
   ]
  },
  {
   "cell_type": "markdown",
   "id": "likely-arthritis",
   "metadata": {},
   "source": [
    "### Copia de arreglos"
   ]
  },
  {
   "cell_type": "code",
   "execution_count": 11,
   "id": "billion-authentication",
   "metadata": {
    "execution": {
     "iopub.execute_input": "2021-02-03T23:03:18.400248Z",
     "iopub.status.busy": "2021-02-03T23:03:18.399772Z",
     "iopub.status.idle": "2021-02-03T23:03:18.402448Z",
     "shell.execute_reply": "2021-02-03T23:03:18.402031Z"
    }
   },
   "outputs": [
    {
     "data": {
      "text/plain": [
       "array([1, 2, 3, 4])"
      ]
     },
     "execution_count": 1,
     "metadata": {},
     "output_type": "execute_result"
    }
   ],
   "source": [
    "# Los arreglos no se copian con asignación\n",
    "\n",
    "a = np.array([1, 2, 3, 4])\n",
    "b = a\n",
    "b"
   ]
  },
  {
   "cell_type": "code",
   "execution_count": 12,
   "id": "devoted-insertion",
   "metadata": {
    "execution": {
     "iopub.execute_input": "2021-02-03T23:03:18.405625Z",
     "iopub.status.busy": "2021-02-03T23:03:18.405141Z",
     "iopub.status.idle": "2021-02-03T23:03:18.407417Z",
     "shell.execute_reply": "2021-02-03T23:03:18.407806Z"
    }
   },
   "outputs": [
    {
     "data": {
      "text/plain": [
       "array([ 1, 20,  3,  4])"
      ]
     },
     "execution_count": 1,
     "metadata": {},
     "output_type": "execute_result"
    }
   ],
   "source": [
    "b[1] = 20\n",
    "b"
   ]
  },
  {
   "cell_type": "code",
   "execution_count": 13,
   "id": "coral-stranger",
   "metadata": {
    "execution": {
     "iopub.execute_input": "2021-02-03T23:03:18.410913Z",
     "iopub.status.busy": "2021-02-03T23:03:18.410441Z",
     "iopub.status.idle": "2021-02-03T23:03:18.412749Z",
     "shell.execute_reply": "2021-02-03T23:03:18.413143Z"
    }
   },
   "outputs": [
    {
     "data": {
      "text/plain": [
       "array([ 1, 20,  3,  4])"
      ]
     },
     "execution_count": 1,
     "metadata": {},
     "output_type": "execute_result"
    }
   ],
   "source": [
    "a"
   ]
  },
  {
   "cell_type": "code",
   "execution_count": 14,
   "id": "sixth-novel",
   "metadata": {
    "execution": {
     "iopub.execute_input": "2021-02-03T23:03:18.416843Z",
     "iopub.status.busy": "2021-02-03T23:03:18.416341Z",
     "iopub.status.idle": "2021-02-03T23:03:18.418986Z",
     "shell.execute_reply": "2021-02-03T23:03:18.418565Z"
    }
   },
   "outputs": [
    {
     "data": {
      "text/plain": [
       "array([ 1, 20,  3,  4])"
      ]
     },
     "execution_count": 1,
     "metadata": {},
     "output_type": "execute_result"
    }
   ],
   "source": [
    "# Para copiar un arreglo a otra variable debemos usar copy()\n",
    "\n",
    "a = np.array([1, 2, 3, 4])\n",
    "b = a.copy()\n",
    "b[1] = 20\n",
    "b"
   ]
  },
  {
   "cell_type": "code",
   "execution_count": 15,
   "id": "complicated-allah",
   "metadata": {
    "execution": {
     "iopub.execute_input": "2021-02-03T23:03:18.422662Z",
     "iopub.status.busy": "2021-02-03T23:03:18.422175Z",
     "iopub.status.idle": "2021-02-03T23:03:18.423876Z",
     "shell.execute_reply": "2021-02-03T23:03:18.424266Z"
    }
   },
   "outputs": [
    {
     "data": {
      "text/plain": [
       "array([1, 2, 3, 4])"
      ]
     },
     "execution_count": 1,
     "metadata": {},
     "output_type": "execute_result"
    }
   ],
   "source": [
    "a"
   ]
  },
  {
   "cell_type": "markdown",
   "id": "touched-projector",
   "metadata": {},
   "source": [
    "### Modificación de dimensiones"
   ]
  },
  {
   "cell_type": "markdown",
   "id": "institutional-desire",
   "metadata": {},
   "source": [
    "Existen varias operaciones para cambiar la forma de un arreglo de numpy"
   ]
  },
  {
   "cell_type": "code",
   "execution_count": 16,
   "id": "inappropriate-mustang",
   "metadata": {
    "execution": {
     "iopub.execute_input": "2021-02-03T23:03:18.427408Z",
     "iopub.status.busy": "2021-02-03T23:03:18.426936Z",
     "iopub.status.idle": "2021-02-03T23:03:18.429624Z",
     "shell.execute_reply": "2021-02-03T23:03:18.429198Z"
    }
   },
   "outputs": [
    {
     "data": {
      "text/plain": [
       "2"
      ]
     },
     "execution_count": 1,
     "metadata": {},
     "output_type": "execute_result"
    }
   ],
   "source": [
    "# Obtener las dimensiones del arreglo\n",
    "\n",
    "matriz_de_enteros.ndim"
   ]
  },
  {
   "cell_type": "code",
   "execution_count": 17,
   "id": "level-female",
   "metadata": {
    "execution": {
     "iopub.execute_input": "2021-02-03T23:03:18.432650Z",
     "iopub.status.busy": "2021-02-03T23:03:18.432157Z",
     "iopub.status.idle": "2021-02-03T23:03:18.434838Z",
     "shell.execute_reply": "2021-02-03T23:03:18.434418Z"
    }
   },
   "outputs": [
    {
     "data": {
      "text/plain": [
       "(3, 4)"
      ]
     },
     "execution_count": 1,
     "metadata": {},
     "output_type": "execute_result"
    }
   ],
   "source": [
    "# Obtener la forma del arreglo\n",
    "\n",
    "matriz_de_enteros.shape"
   ]
  },
  {
   "cell_type": "code",
   "execution_count": 18,
   "id": "temporal-satin",
   "metadata": {
    "execution": {
     "iopub.execute_input": "2021-02-03T23:03:18.438437Z",
     "iopub.status.busy": "2021-02-03T23:03:18.437960Z",
     "iopub.status.idle": "2021-02-03T23:03:18.440647Z",
     "shell.execute_reply": "2021-02-03T23:03:18.440199Z"
    }
   },
   "outputs": [
    {
     "data": {
      "text/plain": [
       "array([[ 3,  6],\n",
       "       [ 9, 12]])"
      ]
     },
     "execution_count": 1,
     "metadata": {},
     "output_type": "execute_result"
    }
   ],
   "source": [
    "# Modificar la forma de un arreglo\n",
    "\n",
    "enteros = np.array([3, 6, 9, 12])\n",
    "np.reshape(enteros, (2, 2))"
   ]
  },
  {
   "cell_type": "code",
   "execution_count": 19,
   "id": "attempted-attention",
   "metadata": {
    "execution": {
     "iopub.execute_input": "2021-02-03T23:03:18.444030Z",
     "iopub.status.busy": "2021-02-03T23:03:18.443519Z",
     "iopub.status.idle": "2021-02-03T23:03:18.446278Z",
     "shell.execute_reply": "2021-02-03T23:03:18.445882Z"
    }
   },
   "outputs": [
    {
     "data": {
      "text/plain": [
       "array([[1., 1.],\n",
       "       [1., 1.]])"
      ]
     },
     "execution_count": 1,
     "metadata": {},
     "output_type": "execute_result"
    }
   ],
   "source": [
    "# Aplanar un arreglo\n",
    "\n",
    "a = np.ones((2, 2))\n",
    "a"
   ]
  },
  {
   "cell_type": "code",
   "execution_count": 20,
   "id": "outside-anthropology",
   "metadata": {
    "execution": {
     "iopub.execute_input": "2021-02-03T23:03:18.449555Z",
     "iopub.status.busy": "2021-02-03T23:03:18.449087Z",
     "iopub.status.idle": "2021-02-03T23:03:18.451763Z",
     "shell.execute_reply": "2021-02-03T23:03:18.451344Z"
    }
   },
   "outputs": [
    {
     "data": {
      "text/plain": [
       "array([1., 1., 1., 1.])"
      ]
     },
     "execution_count": 1,
     "metadata": {},
     "output_type": "execute_result"
    }
   ],
   "source": [
    "a.flatten()"
   ]
  },
  {
   "cell_type": "code",
   "execution_count": 21,
   "id": "quick-worship",
   "metadata": {
    "execution": {
     "iopub.execute_input": "2021-02-03T23:03:18.454932Z",
     "iopub.status.busy": "2021-02-03T23:03:18.454464Z",
     "iopub.status.idle": "2021-02-03T23:03:18.457137Z",
     "shell.execute_reply": "2021-02-03T23:03:18.456696Z"
    },
    "lines_to_next_cell": 2
   },
   "outputs": [
    {
     "data": {
      "text/plain": [
       "array([[1., 1.],\n",
       "       [1., 1.]])"
      ]
     },
     "execution_count": 1,
     "metadata": {},
     "output_type": "execute_result"
    }
   ],
   "source": [
    "a"
   ]
  },
  {
   "cell_type": "markdown",
   "id": "presidential-matter",
   "metadata": {},
   "source": [
    "### Combinación de arreglos (Stacking)"
   ]
  },
  {
   "cell_type": "code",
   "execution_count": 22,
   "id": "expired-alliance",
   "metadata": {
    "execution": {
     "iopub.execute_input": "2021-02-03T23:03:18.460506Z",
     "iopub.status.busy": "2021-02-03T23:03:18.459988Z",
     "iopub.status.idle": "2021-02-03T23:03:18.462228Z",
     "shell.execute_reply": "2021-02-03T23:03:18.462629Z"
    }
   },
   "outputs": [
    {
     "data": {
      "text/plain": [
       "array([0, 1, 2, 3, 4])"
      ]
     },
     "execution_count": 1,
     "metadata": {},
     "output_type": "execute_result"
    }
   ],
   "source": [
    "# Los arreglos se pueden combinar verticalmente (se incrementa la cantidad de filas)\n",
    "\n",
    "a = np.arange(0, 5)\n",
    "a"
   ]
  },
  {
   "cell_type": "code",
   "execution_count": 23,
   "id": "consistent-gazette",
   "metadata": {
    "execution": {
     "iopub.execute_input": "2021-02-03T23:03:18.466576Z",
     "iopub.status.busy": "2021-02-03T23:03:18.466076Z",
     "iopub.status.idle": "2021-02-03T23:03:18.467795Z",
     "shell.execute_reply": "2021-02-03T23:03:18.468188Z"
    }
   },
   "outputs": [
    {
     "data": {
      "text/plain": [
       "array([5, 6, 7, 8, 9])"
      ]
     },
     "execution_count": 1,
     "metadata": {},
     "output_type": "execute_result"
    }
   ],
   "source": [
    "b = np.arange(5, 10)\n",
    "b"
   ]
  },
  {
   "cell_type": "code",
   "execution_count": 24,
   "id": "photographic-maine",
   "metadata": {
    "execution": {
     "iopub.execute_input": "2021-02-03T23:03:18.471582Z",
     "iopub.status.busy": "2021-02-03T23:03:18.471110Z",
     "iopub.status.idle": "2021-02-03T23:03:18.473790Z",
     "shell.execute_reply": "2021-02-03T23:03:18.473363Z"
    }
   },
   "outputs": [
    {
     "data": {
      "text/plain": [
       "array([[0, 1, 2, 3, 4],\n",
       "       [5, 6, 7, 8, 9]])"
      ]
     },
     "execution_count": 1,
     "metadata": {},
     "output_type": "execute_result"
    }
   ],
   "source": [
    "combinados_verticalmente = np.vstack((a, b))\n",
    "combinados_verticalmente"
   ]
  },
  {
   "cell_type": "code",
   "execution_count": 25,
   "id": "endangered-efficiency",
   "metadata": {
    "execution": {
     "iopub.execute_input": "2021-02-03T23:03:18.477317Z",
     "iopub.status.busy": "2021-02-03T23:03:18.476843Z",
     "iopub.status.idle": "2021-02-03T23:03:18.479084Z",
     "shell.execute_reply": "2021-02-03T23:03:18.479478Z"
    }
   },
   "outputs": [
    {
     "data": {
      "text/plain": [
       "array([0, 1, 2, 3, 4, 5, 6, 7, 8, 9])"
      ]
     },
     "execution_count": 1,
     "metadata": {},
     "output_type": "execute_result"
    }
   ],
   "source": [
    "# También se pueden combinar horizontalmente (se incrementa la cantidad de columnas)\n",
    "\n",
    "combinados_horizontalmente = np.hstack((a, b))\n",
    "combinados_horizontalmente"
   ]
  },
  {
   "cell_type": "markdown",
   "id": "restricted-adrian",
   "metadata": {},
   "source": [
    "### Operaciones matemáticas"
   ]
  },
  {
   "cell_type": "code",
   "execution_count": 26,
   "id": "otherwise-nursery",
   "metadata": {
    "execution": {
     "iopub.execute_input": "2021-02-03T23:03:18.482796Z",
     "iopub.status.busy": "2021-02-03T23:03:18.482322Z",
     "iopub.status.idle": "2021-02-03T23:03:18.485139Z",
     "shell.execute_reply": "2021-02-03T23:03:18.484712Z"
    }
   },
   "outputs": [
    {
     "data": {
      "text/plain": [
       "array([3, 4, 5, 6])"
      ]
     },
     "execution_count": 1,
     "metadata": {},
     "output_type": "execute_result"
    }
   ],
   "source": [
    "a = np.array([1, 2, 3, 4])\n",
    "\n",
    "a + 2"
   ]
  },
  {
   "cell_type": "code",
   "execution_count": 27,
   "id": "collective-contact",
   "metadata": {
    "execution": {
     "iopub.execute_input": "2021-02-03T23:03:18.488261Z",
     "iopub.status.busy": "2021-02-03T23:03:18.487787Z",
     "iopub.status.idle": "2021-02-03T23:03:18.490457Z",
     "shell.execute_reply": "2021-02-03T23:03:18.490035Z"
    }
   },
   "outputs": [
    {
     "data": {
      "text/plain": [
       "array([ 1,  4,  9, 16])"
      ]
     },
     "execution_count": 1,
     "metadata": {},
     "output_type": "execute_result"
    }
   ],
   "source": [
    "a ** 2"
   ]
  },
  {
   "cell_type": "code",
   "execution_count": 28,
   "id": "beginning-teacher",
   "metadata": {
    "execution": {
     "iopub.execute_input": "2021-02-03T23:03:18.493839Z",
     "iopub.status.busy": "2021-02-03T23:03:18.493364Z",
     "iopub.status.idle": "2021-02-03T23:03:18.495630Z",
     "shell.execute_reply": "2021-02-03T23:03:18.495998Z"
    }
   },
   "outputs": [
    {
     "data": {
      "text/plain": [
       "array([2., 3., 4., 5.])"
      ]
     },
     "execution_count": 1,
     "metadata": {},
     "output_type": "execute_result"
    }
   ],
   "source": [
    "b = np.ones(4)\n",
    "a + b"
   ]
  },
  {
   "cell_type": "markdown",
   "id": "english-congress",
   "metadata": {},
   "source": [
    "### Estadística"
   ]
  },
  {
   "cell_type": "code",
   "execution_count": 29,
   "id": "younger-compact",
   "metadata": {
    "execution": {
     "iopub.execute_input": "2021-02-03T23:03:18.499720Z",
     "iopub.status.busy": "2021-02-03T23:03:18.499250Z",
     "iopub.status.idle": "2021-02-03T23:03:18.501966Z",
     "shell.execute_reply": "2021-02-03T23:03:18.501527Z"
    }
   },
   "outputs": [
    {
     "data": {
      "text/plain": [
       "1"
      ]
     },
     "execution_count": 1,
     "metadata": {},
     "output_type": "execute_result"
    }
   ],
   "source": [
    "a = np.array([[5, 2, 1, 8], [26, 4, 17, 9]])\n",
    "\n",
    "np.min(a)"
   ]
  },
  {
   "cell_type": "code",
   "execution_count": 30,
   "id": "stylish-nudist",
   "metadata": {
    "execution": {
     "iopub.execute_input": "2021-02-03T23:03:18.505166Z",
     "iopub.status.busy": "2021-02-03T23:03:18.504681Z",
     "iopub.status.idle": "2021-02-03T23:03:18.507380Z",
     "shell.execute_reply": "2021-02-03T23:03:18.506963Z"
    }
   },
   "outputs": [
    {
     "data": {
      "text/plain": [
       "26"
      ]
     },
     "execution_count": 1,
     "metadata": {},
     "output_type": "execute_result"
    }
   ],
   "source": [
    "np.max(a)"
   ]
  },
  {
   "cell_type": "code",
   "execution_count": 31,
   "id": "intense-plumbing",
   "metadata": {
    "execution": {
     "iopub.execute_input": "2021-02-03T23:03:18.510574Z",
     "iopub.status.busy": "2021-02-03T23:03:18.510103Z",
     "iopub.status.idle": "2021-02-03T23:03:18.512797Z",
     "shell.execute_reply": "2021-02-03T23:03:18.512354Z"
    }
   },
   "outputs": [
    {
     "data": {
      "text/plain": [
       "72"
      ]
     },
     "execution_count": 1,
     "metadata": {},
     "output_type": "execute_result"
    }
   ],
   "source": [
    "np.sum(a)"
   ]
  },
  {
   "cell_type": "markdown",
   "id": "amazing-monitoring",
   "metadata": {},
   "source": [
    "### Más magia"
   ]
  },
  {
   "cell_type": "code",
   "execution_count": 32,
   "id": "ecological-translation",
   "metadata": {
    "execution": {
     "iopub.execute_input": "2021-02-03T23:03:18.515208Z",
     "iopub.status.busy": "2021-02-03T23:03:18.514733Z",
     "iopub.status.idle": "2021-02-03T23:03:18.518690Z",
     "shell.execute_reply": "2021-02-03T23:03:18.518265Z"
    }
   },
   "outputs": [
    {
     "data": {
      "text/plain": [
       "array([[False, False, False,  True],\n",
       "       [ True, False,  True,  True]])"
      ]
     },
     "execution_count": 1,
     "metadata": {},
     "output_type": "execute_result"
    }
   ],
   "source": [
    "a = np.array([[5, 2, 1, 8], [26, 4, 17, 9]])\n",
    "\n",
    "a > 5"
   ]
  },
  {
   "cell_type": "code",
   "execution_count": 33,
   "id": "sharp-standing",
   "metadata": {
    "execution": {
     "iopub.execute_input": "2021-02-03T23:03:18.521913Z",
     "iopub.status.busy": "2021-02-03T23:03:18.521443Z",
     "iopub.status.idle": "2021-02-03T23:03:18.524109Z",
     "shell.execute_reply": "2021-02-03T23:03:18.523691Z"
    }
   },
   "outputs": [
    {
     "data": {
      "text/plain": [
       "array([ 8, 26, 17,  9])"
      ]
     },
     "execution_count": 1,
     "metadata": {},
     "output_type": "execute_result"
    }
   ],
   "source": [
    "a[a > 5]"
   ]
  },
  {
   "cell_type": "markdown",
   "id": "empirical-timer",
   "metadata": {},
   "source": [
    "### Broadcasting"
   ]
  },
  {
   "cell_type": "markdown",
   "id": "amazing-bermuda",
   "metadata": {},
   "source": [
    "Permite realizar operaciones entre dos numpy arrays de distintas dimensiones.\n",
    "Para lograr esto, las dimensiones de los mismos deben ser compatibles. Dos dimensiones son compatibles cuando:\n",
    "1. Son iguales\n",
    "2. Alguna de las dos es 1"
   ]
  },
  {
   "cell_type": "code",
   "execution_count": 34,
   "id": "related-anthropology",
   "metadata": {
    "execution": {
     "iopub.execute_input": "2021-02-03T23:03:18.527729Z",
     "iopub.status.busy": "2021-02-03T23:03:18.527258Z",
     "iopub.status.idle": "2021-02-03T23:03:18.529986Z",
     "shell.execute_reply": "2021-02-03T23:03:18.529560Z"
    }
   },
   "outputs": [
    {
     "data": {
      "text/plain": [
       "array([[ 5,  2,  1,  8],\n",
       "       [26,  4, 17,  9]])"
      ]
     },
     "execution_count": 1,
     "metadata": {},
     "output_type": "execute_result"
    }
   ],
   "source": [
    "a = np.array([[5, 2, 1, 8], [26, 4, 17, 9]])\n",
    "a"
   ]
  },
  {
   "cell_type": "code",
   "execution_count": 35,
   "id": "flush-foster",
   "metadata": {
    "execution": {
     "iopub.execute_input": "2021-02-03T23:03:18.533922Z",
     "iopub.status.busy": "2021-02-03T23:03:18.533444Z",
     "iopub.status.idle": "2021-02-03T23:03:18.535696Z",
     "shell.execute_reply": "2021-02-03T23:03:18.536156Z"
    }
   },
   "outputs": [
    {
     "name": "stdout",
     "output_type": "stream",
     "text": [
      "a: (2, 4)\n",
      "b: (4,)\n"
     ]
    },
    {
     "data": {
      "text/plain": [
       "array([[10,  4,  2, 16],\n",
       "       [31,  6, 18, 17]])"
      ]
     },
     "execution_count": 1,
     "metadata": {},
     "output_type": "execute_result"
    }
   ],
   "source": [
    "# Armamos un array que tenga la misma cantidad de columnas que a\n",
    "b = np.array([5, 2, 1, 8])\n",
    "print(f\"a: {a.shape}\")\n",
    "print(f\"b: {b.shape}\")\n",
    "a + b"
   ]
  },
  {
   "cell_type": "code",
   "execution_count": 36,
   "id": "solar-value",
   "metadata": {
    "execution": {
     "iopub.execute_input": "2021-02-03T23:03:18.539593Z",
     "iopub.status.busy": "2021-02-03T23:03:18.539092Z",
     "iopub.status.idle": "2021-02-03T23:03:18.594490Z",
     "shell.execute_reply": "2021-02-03T23:03:18.593949Z"
    },
    "tags": [
     "raises-exception"
    ]
   },
   "outputs": [
    {
     "name": "stdout",
     "output_type": "stream",
     "text": [
      "a: (2, 4)\n",
      "b: (3,)\n"
     ]
    },
    {
     "ename": "ValueError",
     "evalue": "operands could not be broadcast together with shapes (2,4) (3,) ",
     "output_type": "error",
     "traceback": [
      "\u001b[0;31m---------------------------------------------------------------------------\u001b[0m",
      "\u001b[0;31mValueError\u001b[0m                                Traceback (most recent call last)",
      "\u001b[0;32m<ipython-input-1-fe11b6ae6346>\u001b[0m in \u001b[0;36m<module>\u001b[0;34m\u001b[0m\n\u001b[1;32m      3\u001b[0m \u001b[0mprint\u001b[0m\u001b[0;34m(\u001b[0m\u001b[0;34mf\"a: {a.shape}\"\u001b[0m\u001b[0;34m)\u001b[0m\u001b[0;34m\u001b[0m\u001b[0;34m\u001b[0m\u001b[0m\n\u001b[1;32m      4\u001b[0m \u001b[0mprint\u001b[0m\u001b[0;34m(\u001b[0m\u001b[0;34mf\"b: {b.shape}\"\u001b[0m\u001b[0;34m)\u001b[0m\u001b[0;34m\u001b[0m\u001b[0;34m\u001b[0m\u001b[0m\n\u001b[0;32m----> 5\u001b[0;31m \u001b[0ma\u001b[0m \u001b[0;34m+\u001b[0m \u001b[0mb\u001b[0m\u001b[0;34m\u001b[0m\u001b[0;34m\u001b[0m\u001b[0m\n\u001b[0m",
      "\u001b[0;31mValueError\u001b[0m: operands could not be broadcast together with shapes (2,4) (3,) "
     ]
    }
   ],
   "source": [
    "# Armamos un array que tenga distinta cantidad de filas y columnas que a\n",
    "b = np.array([5, 1, 8])\n",
    "print(f\"a: {a.shape}\")\n",
    "print(f\"b: {b.shape}\")\n",
    "a + b"
   ]
  },
  {
   "cell_type": "code",
   "execution_count": 37,
   "id": "welcome-thumbnail",
   "metadata": {
    "execution": {
     "iopub.execute_input": "2021-02-03T23:03:18.698798Z",
     "iopub.status.busy": "2021-02-03T23:03:18.698285Z",
     "iopub.status.idle": "2021-02-03T23:03:18.700976Z",
     "shell.execute_reply": "2021-02-03T23:03:18.701383Z"
    }
   },
   "outputs": [
    {
     "name": "stdout",
     "output_type": "stream",
     "text": [
      "a: (2, 4)\n",
      "b: (2, 1)\n"
     ]
    },
    {
     "data": {
      "text/plain": [
       "array([[ 7,  4,  3, 10],\n",
       "       [27,  5, 18, 10]])"
      ]
     },
     "execution_count": 1,
     "metadata": {},
     "output_type": "execute_result"
    }
   ],
   "source": [
    "# Armamos un array que tenga la misma cantidad de filas que a\n",
    "b = np.array([[2], [1]])\n",
    "print(f\"a: {a.shape}\")\n",
    "print(f\"b: {b.shape}\")\n",
    "a + b"
   ]
  },
  {
   "cell_type": "code",
   "execution_count": 38,
   "id": "insured-reform",
   "metadata": {
    "execution": {
     "iopub.execute_input": "2021-02-03T23:03:18.705828Z",
     "iopub.status.busy": "2021-02-03T23:03:18.705334Z",
     "iopub.status.idle": "2021-02-03T23:03:18.707769Z",
     "shell.execute_reply": "2021-02-03T23:03:18.708155Z"
    }
   },
   "outputs": [
    {
     "data": {
      "text/plain": [
       "array([[ 9,  6,  5, 12],\n",
       "       [30,  8, 21, 13]])"
      ]
     },
     "execution_count": 1,
     "metadata": {},
     "output_type": "execute_result"
    }
   ],
   "source": [
    "b = 4\n",
    "a + b"
   ]
  }
 ],
 "metadata": {
  "jupytext": {
   "encoding": "# -*- coding: utf-8 -*-",
   "formats": "ipynb,py:light"
  },
  "kernelspec": {
   "display_name": "Python 3 (venv)",
   "language": "python",
   "name": "python3"
  },
  "language_info": {
   "codemirror_mode": {
    "name": "ipython",
    "version": 3
   },
   "file_extension": ".py",
   "mimetype": "text/x-python",
   "name": "python",
   "nbconvert_exporter": "python",
   "pygments_lexer": "ipython3",
   "version": "3.7.9"
  }
 },
 "nbformat": 4,
 "nbformat_minor": 5
}
