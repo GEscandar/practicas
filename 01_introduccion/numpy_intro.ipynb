{
 "cells": [
  {
   "cell_type": "markdown",
   "id": "c2782514",
   "metadata": {},
   "source": [
    "## Clase 1 - Introducción a Numpy\n",
    "\n",
    "Numpy es una biblioteca para Python que facilita el manejo de arreglos multidimensionales y ofrece varias herramientas para trabajar con ellos. Muchas de las bibliotecas de Python que son ampliamente usadas hoy en día, como pandas, están construidas sobre numpy.\n",
    "\n",
    "### Listas de Python vs arreglos de Numpy\n",
    "\n",
    "A primera vista, un arreglo de numpy puede resultar idéntico a una lista de python, pero a medida que la cantidad de datos comienza a incrementar, los arreglos de numpy terminan ofreciendo un manejo más eficiente de la memoria.\n",
    "\n",
    "Para comenzar, vamos a crear un arreglo de numpy:"
   ]
  },
  {
   "cell_type": "code",
   "execution_count": 1,
   "id": "24ce6d37",
   "metadata": {
    "execution": {
     "iopub.execute_input": "2021-09-28T21:11:21.962253Z",
     "iopub.status.busy": "2021-09-28T21:11:21.961554Z",
     "iopub.status.idle": "2021-09-28T21:11:22.137408Z",
     "shell.execute_reply": "2021-09-28T21:11:22.138073Z"
    }
   },
   "outputs": [
    {
     "data": {
      "text/plain": [
       "array([1, 2, 3, 4])"
      ]
     },
     "execution_count": 1,
     "metadata": {},
     "output_type": "execute_result"
    }
   ],
   "source": [
    "import numpy as np\n",
    "\n",
    "np.array([1, 2, 3, 4])"
   ]
  },
  {
   "cell_type": "markdown",
   "id": "0d5dd6a2",
   "metadata": {},
   "source": [
    "Los arreglos pueden ser también multidimensionales:"
   ]
  },
  {
   "cell_type": "code",
   "execution_count": 2,
   "id": "4bb030ac",
   "metadata": {
    "execution": {
     "iopub.execute_input": "2021-09-28T21:11:22.144407Z",
     "iopub.status.busy": "2021-09-28T21:11:22.143793Z",
     "iopub.status.idle": "2021-09-28T21:11:22.146885Z",
     "shell.execute_reply": "2021-09-28T21:11:22.146315Z"
    }
   },
   "outputs": [
    {
     "data": {
      "text/plain": [
       "array([[1, 2, 3, 4],\n",
       "       [5, 6, 7, 8]])"
      ]
     },
     "execution_count": 2,
     "metadata": {},
     "output_type": "execute_result"
    }
   ],
   "source": [
    "np.array([[1, 2, 3, 4], [5, 6, 7, 8]])"
   ]
  },
  {
   "cell_type": "markdown",
   "id": "a5614893",
   "metadata": {},
   "source": [
    "Es importante tener en cuenta que un arreglo de numpy tiene un tipo fijo de datos, entonces si se quiere agregar un dato de un tipo diferente al de la mayoría, este va a ser modificado para adaptarse al resto"
   ]
  },
  {
   "cell_type": "code",
   "execution_count": 3,
   "id": "288d6ce9",
   "metadata": {
    "execution": {
     "iopub.execute_input": "2021-09-28T21:11:22.151143Z",
     "iopub.status.busy": "2021-09-28T21:11:22.150564Z",
     "iopub.status.idle": "2021-09-28T21:11:22.153069Z",
     "shell.execute_reply": "2021-09-28T21:11:22.152551Z"
    }
   },
   "outputs": [],
   "source": [
    "enteros = np.array([1, 2, 3, 4])"
   ]
  },
  {
   "cell_type": "markdown",
   "id": "f57cc2a5",
   "metadata": {},
   "source": [
    "Agrego un elemento de tipo flotante en la posición 1"
   ]
  },
  {
   "cell_type": "code",
   "execution_count": 4,
   "id": "4df8844a",
   "metadata": {
    "execution": {
     "iopub.execute_input": "2021-09-28T21:11:22.158606Z",
     "iopub.status.busy": "2021-09-28T21:11:22.155790Z",
     "iopub.status.idle": "2021-09-28T21:11:22.160901Z",
     "shell.execute_reply": "2021-09-28T21:11:22.161357Z"
    }
   },
   "outputs": [
    {
     "data": {
      "text/plain": [
       "array([1, 8, 3, 4])"
      ]
     },
     "execution_count": 4,
     "metadata": {},
     "output_type": "execute_result"
    }
   ],
   "source": [
    "enteros[1] = 8.4727\n",
    "enteros"
   ]
  },
  {
   "cell_type": "markdown",
   "id": "860c041f",
   "metadata": {},
   "source": [
    "Numpy también nos permite crear arreglos con valores aleatorios del 0 al 1.\n",
    "Basta con pasarle las dimensiones del arreglo que queremos crear."
   ]
  },
  {
   "cell_type": "code",
   "execution_count": 5,
   "id": "b64fb523",
   "metadata": {
    "execution": {
     "iopub.execute_input": "2021-09-28T21:11:22.167296Z",
     "iopub.status.busy": "2021-09-28T21:11:22.166703Z",
     "iopub.status.idle": "2021-09-28T21:11:22.169702Z",
     "shell.execute_reply": "2021-09-28T21:11:22.170164Z"
    }
   },
   "outputs": [
    {
     "data": {
      "text/plain": [
       "array([[0.08800398, 0.47294529, 0.14908872],\n",
       "       [0.86682955, 0.96173369, 0.49481565]])"
      ]
     },
     "execution_count": 5,
     "metadata": {},
     "output_type": "execute_result"
    }
   ],
   "source": [
    "np.random.rand(2, 3)"
   ]
  },
  {
   "cell_type": "markdown",
   "id": "c9e91ae6",
   "metadata": {},
   "source": [
    "## Slicing\n",
    "\n",
    "De la misma forma que con las listas de python, pueden obtenerse slices de los arreglos de numpy"
   ]
  },
  {
   "cell_type": "code",
   "execution_count": 6,
   "id": "e139451c",
   "metadata": {
    "execution": {
     "iopub.execute_input": "2021-09-28T21:11:22.176080Z",
     "iopub.status.busy": "2021-09-28T21:11:22.175229Z",
     "iopub.status.idle": "2021-09-28T21:11:22.177576Z",
     "shell.execute_reply": "2021-09-28T21:11:22.178025Z"
    },
    "lines_to_next_cell": 2
   },
   "outputs": [
    {
     "data": {
      "text/plain": [
       "array([1, 8])"
      ]
     },
     "execution_count": 6,
     "metadata": {},
     "output_type": "execute_result"
    }
   ],
   "source": [
    "enteros[:2]"
   ]
  },
  {
   "cell_type": "code",
   "execution_count": 7,
   "id": "8d6537e4",
   "metadata": {
    "execution": {
     "iopub.execute_input": "2021-09-28T21:11:22.185848Z",
     "iopub.status.busy": "2021-09-28T21:11:22.184431Z",
     "iopub.status.idle": "2021-09-28T21:11:22.188518Z",
     "shell.execute_reply": "2021-09-28T21:11:22.187376Z"
    }
   },
   "outputs": [
    {
     "name": "stdout",
     "output_type": "stream",
     "text": [
      "Original: \n",
      "[[ 1  2  3  4]\n",
      " [ 5  6  7  8]\n",
      " [ 9 10 11 12]]\n",
      "\n",
      "Recortada: \n",
      "[[1 2 3]\n",
      " [5 6 7]]\n"
     ]
    }
   ],
   "source": [
    "matriz_de_enteros = np.array([[1, 2, 3, 4], [5, 6, 7, 8], [9, 10, 11, 12]])\n",
    "\n",
    "print('Original: ')\n",
    "print(matriz_de_enteros)\n",
    "\n",
    "print()\n",
    "\n",
    "print('Recortada: ')\n",
    "print(matriz_de_enteros[:2, :3])"
   ]
  },
  {
   "cell_type": "code",
   "execution_count": 8,
   "id": "813c3e8b",
   "metadata": {
    "execution": {
     "iopub.execute_input": "2021-09-28T21:11:22.194743Z",
     "iopub.status.busy": "2021-09-28T21:11:22.193701Z",
     "iopub.status.idle": "2021-09-28T21:11:22.197048Z",
     "shell.execute_reply": "2021-09-28T21:11:22.196540Z"
    }
   },
   "outputs": [
    {
     "data": {
      "text/plain": [
       "array([[[ 0,  1,  2,  3,  4],\n",
       "        [ 5,  6,  7,  8,  9],\n",
       "        [10, 11, 12, 13, 14]],\n",
       "\n",
       "       [[15, 16, 17, 18, 19],\n",
       "        [20, 21, 22, 23, 24],\n",
       "        [25, 26, 27, 28, 29]],\n",
       "\n",
       "       [[30, 31, 32, 33, 34],\n",
       "        [35, 36, 37, 38, 39],\n",
       "        [40, 41, 42, 43, 44]]])"
      ]
     },
     "execution_count": 8,
     "metadata": {},
     "output_type": "execute_result"
    }
   ],
   "source": [
    "# 3D\n",
    "# arange() genera valores de un intervalo pasado por parámetro\n",
    "# reshape() modifica la forma del numpy array\n",
    "\n",
    "x = np.arange(45).reshape(3, 3, 5)\n",
    "x"
   ]
  },
  {
   "cell_type": "code",
   "execution_count": 9,
   "id": "fb902dd7",
   "metadata": {
    "execution": {
     "iopub.execute_input": "2021-09-28T21:11:22.202883Z",
     "iopub.status.busy": "2021-09-28T21:11:22.201844Z",
     "iopub.status.idle": "2021-09-28T21:11:22.205214Z",
     "shell.execute_reply": "2021-09-28T21:11:22.204732Z"
    }
   },
   "outputs": [
    {
     "data": {
      "text/plain": [
       "array([[ 0,  1,  2,  3,  4],\n",
       "       [ 5,  6,  7,  8,  9],\n",
       "       [10, 11, 12, 13, 14]])"
      ]
     },
     "execution_count": 9,
     "metadata": {},
     "output_type": "execute_result"
    }
   ],
   "source": [
    "x[0]"
   ]
  },
  {
   "cell_type": "code",
   "execution_count": 10,
   "id": "652bd018",
   "metadata": {
    "execution": {
     "iopub.execute_input": "2021-09-28T21:11:22.209783Z",
     "iopub.status.busy": "2021-09-28T21:11:22.209193Z",
     "iopub.status.idle": "2021-09-28T21:11:22.211437Z",
     "shell.execute_reply": "2021-09-28T21:11:22.211866Z"
    }
   },
   "outputs": [
    {
     "data": {
      "text/plain": [
       "array([5, 6, 7, 8, 9])"
      ]
     },
     "execution_count": 10,
     "metadata": {},
     "output_type": "execute_result"
    }
   ],
   "source": [
    "x[0][1]"
   ]
  },
  {
   "cell_type": "code",
   "execution_count": 11,
   "id": "be41bfb8",
   "metadata": {
    "execution": {
     "iopub.execute_input": "2021-09-28T21:11:22.216777Z",
     "iopub.status.busy": "2021-09-28T21:11:22.216199Z",
     "iopub.status.idle": "2021-09-28T21:11:22.218451Z",
     "shell.execute_reply": "2021-09-28T21:11:22.218928Z"
    }
   },
   "outputs": [
    {
     "data": {
      "text/plain": [
       "7"
      ]
     },
     "execution_count": 11,
     "metadata": {},
     "output_type": "execute_result"
    }
   ],
   "source": [
    "x[0][1][2]"
   ]
  },
  {
   "cell_type": "markdown",
   "id": "ef842018",
   "metadata": {},
   "source": [
    "\n",
    "¿Cómo conseguimos estos valores? ([fuente](https://towardsdatascience.com/indexing-and-slicing-of-1d-2d-and-3d-arrays-in-numpy-e731afff0bbe))\n",
    "\n",
    "![title](img/matrix.png)"
   ]
  },
  {
   "cell_type": "code",
   "execution_count": 12,
   "id": "fc3f29f7",
   "metadata": {
    "execution": {
     "iopub.execute_input": "2021-09-28T21:11:22.225020Z",
     "iopub.status.busy": "2021-09-28T21:11:22.223801Z",
     "iopub.status.idle": "2021-09-28T21:11:22.226672Z",
     "shell.execute_reply": "2021-09-28T21:11:22.227095Z"
    }
   },
   "outputs": [
    {
     "data": {
      "text/plain": [
       "array([[[16, 17, 18],\n",
       "        [21, 22, 23]],\n",
       "\n",
       "       [[31, 32, 33],\n",
       "        [36, 37, 38]]])"
      ]
     },
     "execution_count": 12,
     "metadata": {},
     "output_type": "execute_result"
    }
   ],
   "source": [
    "x[1:, 0:2, 1:4]"
   ]
  },
  {
   "cell_type": "markdown",
   "id": "603590d3",
   "metadata": {},
   "source": [
    "### Copia de arreglos"
   ]
  },
  {
   "cell_type": "code",
   "execution_count": 13,
   "id": "e09425c7",
   "metadata": {
    "execution": {
     "iopub.execute_input": "2021-09-28T21:11:22.232465Z",
     "iopub.status.busy": "2021-09-28T21:11:22.231869Z",
     "iopub.status.idle": "2021-09-28T21:11:22.235708Z",
     "shell.execute_reply": "2021-09-28T21:11:22.235107Z"
    }
   },
   "outputs": [
    {
     "data": {
      "text/plain": [
       "array([1, 2, 3, 4])"
      ]
     },
     "execution_count": 13,
     "metadata": {},
     "output_type": "execute_result"
    }
   ],
   "source": [
    "# Los arreglos no se copian con asignación\n",
    "\n",
    "a = np.array([1, 2, 3, 4])\n",
    "b = a\n",
    "b"
   ]
  },
  {
   "cell_type": "code",
   "execution_count": 14,
   "id": "21f1a068",
   "metadata": {
    "execution": {
     "iopub.execute_input": "2021-09-28T21:11:22.241354Z",
     "iopub.status.busy": "2021-09-28T21:11:22.240349Z",
     "iopub.status.idle": "2021-09-28T21:11:22.243134Z",
     "shell.execute_reply": "2021-09-28T21:11:22.243591Z"
    }
   },
   "outputs": [
    {
     "data": {
      "text/plain": [
       "array([ 1, 20,  3,  4])"
      ]
     },
     "execution_count": 14,
     "metadata": {},
     "output_type": "execute_result"
    }
   ],
   "source": [
    "b[1] = 20\n",
    "b"
   ]
  },
  {
   "cell_type": "code",
   "execution_count": 15,
   "id": "76a381dd",
   "metadata": {
    "execution": {
     "iopub.execute_input": "2021-09-28T21:11:22.248182Z",
     "iopub.status.busy": "2021-09-28T21:11:22.247392Z",
     "iopub.status.idle": "2021-09-28T21:11:22.249984Z",
     "shell.execute_reply": "2021-09-28T21:11:22.250443Z"
    }
   },
   "outputs": [
    {
     "data": {
      "text/plain": [
       "array([ 1, 20,  3,  4])"
      ]
     },
     "execution_count": 15,
     "metadata": {},
     "output_type": "execute_result"
    }
   ],
   "source": [
    "a"
   ]
  },
  {
   "cell_type": "code",
   "execution_count": 16,
   "id": "e5f0b3d3",
   "metadata": {
    "execution": {
     "iopub.execute_input": "2021-09-28T21:11:22.256560Z",
     "iopub.status.busy": "2021-09-28T21:11:22.255939Z",
     "iopub.status.idle": "2021-09-28T21:11:22.260311Z",
     "shell.execute_reply": "2021-09-28T21:11:22.260790Z"
    }
   },
   "outputs": [
    {
     "data": {
      "text/plain": [
       "array([ 1, 20,  3,  4])"
      ]
     },
     "execution_count": 16,
     "metadata": {},
     "output_type": "execute_result"
    }
   ],
   "source": [
    "# Para copiar un arreglo a otra variable debemos usar copy()\n",
    "\n",
    "a = np.array([1, 2, 3, 4])\n",
    "b = a.copy()\n",
    "b[1] = 20\n",
    "b"
   ]
  },
  {
   "cell_type": "code",
   "execution_count": 17,
   "id": "6675a693",
   "metadata": {
    "execution": {
     "iopub.execute_input": "2021-09-28T21:11:22.265491Z",
     "iopub.status.busy": "2021-09-28T21:11:22.264904Z",
     "iopub.status.idle": "2021-09-28T21:11:22.267646Z",
     "shell.execute_reply": "2021-09-28T21:11:22.267069Z"
    }
   },
   "outputs": [
    {
     "data": {
      "text/plain": [
       "array([1, 2, 3, 4])"
      ]
     },
     "execution_count": 17,
     "metadata": {},
     "output_type": "execute_result"
    }
   ],
   "source": [
    "a"
   ]
  },
  {
   "cell_type": "markdown",
   "id": "66cd9f32",
   "metadata": {},
   "source": [
    "### Modificación de dimensiones"
   ]
  },
  {
   "cell_type": "markdown",
   "id": "0cef5663",
   "metadata": {},
   "source": [
    "Existen varias operaciones para cambiar la forma de un arreglo de numpy"
   ]
  },
  {
   "cell_type": "code",
   "execution_count": 18,
   "id": "bd3557d4",
   "metadata": {
    "execution": {
     "iopub.execute_input": "2021-09-28T21:11:22.272409Z",
     "iopub.status.busy": "2021-09-28T21:11:22.271773Z",
     "iopub.status.idle": "2021-09-28T21:11:22.274411Z",
     "shell.execute_reply": "2021-09-28T21:11:22.274843Z"
    }
   },
   "outputs": [
    {
     "data": {
      "text/plain": [
       "array([[ 1,  2,  3,  4],\n",
       "       [ 5,  6,  7,  8],\n",
       "       [ 9, 10, 11, 12]])"
      ]
     },
     "execution_count": 18,
     "metadata": {},
     "output_type": "execute_result"
    }
   ],
   "source": [
    "matriz_de_enteros"
   ]
  },
  {
   "cell_type": "code",
   "execution_count": 19,
   "id": "b6cc6c3d",
   "metadata": {
    "execution": {
     "iopub.execute_input": "2021-09-28T21:11:22.280548Z",
     "iopub.status.busy": "2021-09-28T21:11:22.279502Z",
     "iopub.status.idle": "2021-09-28T21:11:22.282756Z",
     "shell.execute_reply": "2021-09-28T21:11:22.282291Z"
    }
   },
   "outputs": [
    {
     "data": {
      "text/plain": [
       "2"
      ]
     },
     "execution_count": 19,
     "metadata": {},
     "output_type": "execute_result"
    }
   ],
   "source": [
    "# Obtener las dimensiones del arreglo\n",
    "\n",
    "matriz_de_enteros.ndim"
   ]
  },
  {
   "cell_type": "code",
   "execution_count": 20,
   "id": "f1fabea1",
   "metadata": {
    "execution": {
     "iopub.execute_input": "2021-09-28T21:11:22.288166Z",
     "iopub.status.busy": "2021-09-28T21:11:22.287301Z",
     "iopub.status.idle": "2021-09-28T21:11:22.290173Z",
     "shell.execute_reply": "2021-09-28T21:11:22.290627Z"
    }
   },
   "outputs": [
    {
     "data": {
      "text/plain": [
       "(3, 4)"
      ]
     },
     "execution_count": 20,
     "metadata": {},
     "output_type": "execute_result"
    }
   ],
   "source": [
    "# Obtener la forma del arreglo\n",
    "\n",
    "matriz_de_enteros.shape"
   ]
  },
  {
   "cell_type": "code",
   "execution_count": 21,
   "id": "dbde2d7e",
   "metadata": {
    "execution": {
     "iopub.execute_input": "2021-09-28T21:11:22.296186Z",
     "iopub.status.busy": "2021-09-28T21:11:22.294634Z",
     "iopub.status.idle": "2021-09-28T21:11:22.299675Z",
     "shell.execute_reply": "2021-09-28T21:11:22.300162Z"
    }
   },
   "outputs": [
    {
     "name": "stdout",
     "output_type": "stream",
     "text": [
      "enteros: [ 3  6  9 12]\n"
     ]
    },
    {
     "data": {
      "text/plain": [
       "array([[ 3,  6],\n",
       "       [ 9, 12]])"
      ]
     },
     "execution_count": 21,
     "metadata": {},
     "output_type": "execute_result"
    }
   ],
   "source": [
    "# Modificar la forma de un arreglo\n",
    "\n",
    "enteros = np.array([3, 6, 9, 12])\n",
    "print(f\"enteros: {enteros}\")\n",
    "np.reshape(enteros, (2, 2))"
   ]
  },
  {
   "cell_type": "code",
   "execution_count": 22,
   "id": "6138bca0",
   "metadata": {
    "execution": {
     "iopub.execute_input": "2021-09-28T21:11:22.306571Z",
     "iopub.status.busy": "2021-09-28T21:11:22.305524Z",
     "iopub.status.idle": "2021-09-28T21:11:22.308357Z",
     "shell.execute_reply": "2021-09-28T21:11:22.308823Z"
    }
   },
   "outputs": [
    {
     "data": {
      "text/plain": [
       "array([[1., 1.],\n",
       "       [1., 1.]])"
      ]
     },
     "execution_count": 22,
     "metadata": {},
     "output_type": "execute_result"
    }
   ],
   "source": [
    "# Aplanar un arreglo\n",
    "\n",
    "a = np.ones((2, 2))\n",
    "a"
   ]
  },
  {
   "cell_type": "code",
   "execution_count": 23,
   "id": "f6b7d41c",
   "metadata": {
    "execution": {
     "iopub.execute_input": "2021-09-28T21:11:22.313871Z",
     "iopub.status.busy": "2021-09-28T21:11:22.313297Z",
     "iopub.status.idle": "2021-09-28T21:11:22.316395Z",
     "shell.execute_reply": "2021-09-28T21:11:22.315858Z"
    }
   },
   "outputs": [
    {
     "data": {
      "text/plain": [
       "array([1., 1., 1., 1.])"
      ]
     },
     "execution_count": 23,
     "metadata": {},
     "output_type": "execute_result"
    }
   ],
   "source": [
    "a.flatten()"
   ]
  },
  {
   "cell_type": "code",
   "execution_count": 24,
   "id": "8ea3725e",
   "metadata": {
    "execution": {
     "iopub.execute_input": "2021-09-28T21:11:22.321090Z",
     "iopub.status.busy": "2021-09-28T21:11:22.320512Z",
     "iopub.status.idle": "2021-09-28T21:11:22.323336Z",
     "shell.execute_reply": "2021-09-28T21:11:22.323793Z"
    },
    "lines_to_next_cell": 2
   },
   "outputs": [
    {
     "data": {
      "text/plain": [
       "array([[1., 1.],\n",
       "       [1., 1.]])"
      ]
     },
     "execution_count": 24,
     "metadata": {},
     "output_type": "execute_result"
    }
   ],
   "source": [
    "a"
   ]
  },
  {
   "cell_type": "markdown",
   "id": "5f055821",
   "metadata": {},
   "source": [
    "### Combinación de arreglos (Stacking)"
   ]
  },
  {
   "cell_type": "code",
   "execution_count": 25,
   "id": "664aa591",
   "metadata": {
    "execution": {
     "iopub.execute_input": "2021-09-28T21:11:22.328469Z",
     "iopub.status.busy": "2021-09-28T21:11:22.327875Z",
     "iopub.status.idle": "2021-09-28T21:11:22.331635Z",
     "shell.execute_reply": "2021-09-28T21:11:22.331118Z"
    }
   },
   "outputs": [
    {
     "data": {
      "text/plain": [
       "array([0, 1, 2, 3, 4])"
      ]
     },
     "execution_count": 25,
     "metadata": {},
     "output_type": "execute_result"
    }
   ],
   "source": [
    "# Los arreglos se pueden combinar verticalmente (se incrementa la cantidad de filas)\n",
    "\n",
    "a = np.arange(0, 5)\n",
    "a"
   ]
  },
  {
   "cell_type": "code",
   "execution_count": 26,
   "id": "3fcd98db",
   "metadata": {
    "execution": {
     "iopub.execute_input": "2021-09-28T21:11:22.336118Z",
     "iopub.status.busy": "2021-09-28T21:11:22.335535Z",
     "iopub.status.idle": "2021-09-28T21:11:22.338317Z",
     "shell.execute_reply": "2021-09-28T21:11:22.338780Z"
    }
   },
   "outputs": [
    {
     "data": {
      "text/plain": [
       "array([5, 6, 7, 8, 9])"
      ]
     },
     "execution_count": 26,
     "metadata": {},
     "output_type": "execute_result"
    }
   ],
   "source": [
    "b = np.arange(5, 10)\n",
    "b"
   ]
  },
  {
   "cell_type": "code",
   "execution_count": 27,
   "id": "4370b8e0",
   "metadata": {
    "execution": {
     "iopub.execute_input": "2021-09-28T21:11:22.344053Z",
     "iopub.status.busy": "2021-09-28T21:11:22.343452Z",
     "iopub.status.idle": "2021-09-28T21:11:22.345655Z",
     "shell.execute_reply": "2021-09-28T21:11:22.346114Z"
    }
   },
   "outputs": [
    {
     "data": {
      "text/plain": [
       "array([[0, 1, 2, 3, 4],\n",
       "       [5, 6, 7, 8, 9]])"
      ]
     },
     "execution_count": 27,
     "metadata": {},
     "output_type": "execute_result"
    }
   ],
   "source": [
    "combinados_verticalmente = np.vstack((a, b))\n",
    "combinados_verticalmente"
   ]
  },
  {
   "cell_type": "code",
   "execution_count": 28,
   "id": "fab27f19",
   "metadata": {
    "execution": {
     "iopub.execute_input": "2021-09-28T21:11:22.352532Z",
     "iopub.status.busy": "2021-09-28T21:11:22.351804Z",
     "iopub.status.idle": "2021-09-28T21:11:22.360167Z",
     "shell.execute_reply": "2021-09-28T21:11:22.359635Z"
    }
   },
   "outputs": [
    {
     "data": {
      "text/plain": [
       "array([0, 1, 2, 3, 4, 5, 6, 7, 8, 9])"
      ]
     },
     "execution_count": 28,
     "metadata": {},
     "output_type": "execute_result"
    }
   ],
   "source": [
    "# También se pueden combinar horizontalmente (se incrementa la cantidad de columnas)\n",
    "\n",
    "combinados_horizontalmente = np.hstack((a, b))\n",
    "combinados_horizontalmente"
   ]
  },
  {
   "cell_type": "markdown",
   "id": "595580f2",
   "metadata": {},
   "source": [
    "### Operaciones matemáticas"
   ]
  },
  {
   "cell_type": "code",
   "execution_count": 29,
   "id": "25fd26cd",
   "metadata": {
    "execution": {
     "iopub.execute_input": "2021-09-28T21:11:22.367956Z",
     "iopub.status.busy": "2021-09-28T21:11:22.363429Z",
     "iopub.status.idle": "2021-09-28T21:11:22.371006Z",
     "shell.execute_reply": "2021-09-28T21:11:22.371498Z"
    }
   },
   "outputs": [
    {
     "data": {
      "text/plain": [
       "array([3, 4, 5, 6])"
      ]
     },
     "execution_count": 29,
     "metadata": {},
     "output_type": "execute_result"
    }
   ],
   "source": [
    "a = np.array([1, 2, 3, 4])\n",
    "\n",
    "a + 2"
   ]
  },
  {
   "cell_type": "code",
   "execution_count": 30,
   "id": "fd82c161",
   "metadata": {
    "execution": {
     "iopub.execute_input": "2021-09-28T21:11:22.377447Z",
     "iopub.status.busy": "2021-09-28T21:11:22.376416Z",
     "iopub.status.idle": "2021-09-28T21:11:22.379212Z",
     "shell.execute_reply": "2021-09-28T21:11:22.379667Z"
    }
   },
   "outputs": [
    {
     "data": {
      "text/plain": [
       "array([ 1,  4,  9, 16])"
      ]
     },
     "execution_count": 30,
     "metadata": {},
     "output_type": "execute_result"
    }
   ],
   "source": [
    "a ** 2"
   ]
  },
  {
   "cell_type": "code",
   "execution_count": 31,
   "id": "12ab98b1",
   "metadata": {
    "execution": {
     "iopub.execute_input": "2021-09-28T21:11:22.386816Z",
     "iopub.status.busy": "2021-09-28T21:11:22.385784Z",
     "iopub.status.idle": "2021-09-28T21:11:22.389797Z",
     "shell.execute_reply": "2021-09-28T21:11:22.389291Z"
    }
   },
   "outputs": [
    {
     "name": "stdout",
     "output_type": "stream",
     "text": [
      "b: [1. 1. 1. 1.]\n"
     ]
    },
    {
     "data": {
      "text/plain": [
       "array([2., 3., 4., 5.])"
      ]
     },
     "execution_count": 31,
     "metadata": {},
     "output_type": "execute_result"
    }
   ],
   "source": [
    "b = np.ones(4)\n",
    "print(f\"b: {b}\")\n",
    "a + b"
   ]
  },
  {
   "cell_type": "markdown",
   "id": "fe5ae4bb",
   "metadata": {},
   "source": [
    "### Estadística"
   ]
  },
  {
   "cell_type": "code",
   "execution_count": 32,
   "id": "7b91b372",
   "metadata": {
    "execution": {
     "iopub.execute_input": "2021-09-28T21:11:22.395372Z",
     "iopub.status.busy": "2021-09-28T21:11:22.394796Z",
     "iopub.status.idle": "2021-09-28T21:11:22.396972Z",
     "shell.execute_reply": "2021-09-28T21:11:22.397431Z"
    }
   },
   "outputs": [
    {
     "data": {
      "text/plain": [
       "1"
      ]
     },
     "execution_count": 32,
     "metadata": {},
     "output_type": "execute_result"
    }
   ],
   "source": [
    "a = np.array([[5, 2, 1, 8], [26, 4, 17, 9]])\n",
    "\n",
    "np.min(a)"
   ]
  },
  {
   "cell_type": "code",
   "execution_count": 33,
   "id": "8d9317b8",
   "metadata": {
    "execution": {
     "iopub.execute_input": "2021-09-28T21:11:22.402164Z",
     "iopub.status.busy": "2021-09-28T21:11:22.401606Z",
     "iopub.status.idle": "2021-09-28T21:11:22.406357Z",
     "shell.execute_reply": "2021-09-28T21:11:22.405794Z"
    }
   },
   "outputs": [
    {
     "data": {
      "text/plain": [
       "26"
      ]
     },
     "execution_count": 33,
     "metadata": {},
     "output_type": "execute_result"
    }
   ],
   "source": [
    "np.max(a)"
   ]
  },
  {
   "cell_type": "code",
   "execution_count": 34,
   "id": "16a09e99",
   "metadata": {
    "execution": {
     "iopub.execute_input": "2021-09-28T21:11:22.411209Z",
     "iopub.status.busy": "2021-09-28T21:11:22.410652Z",
     "iopub.status.idle": "2021-09-28T21:11:22.415345Z",
     "shell.execute_reply": "2021-09-28T21:11:22.414753Z"
    }
   },
   "outputs": [
    {
     "data": {
      "text/plain": [
       "72"
      ]
     },
     "execution_count": 34,
     "metadata": {},
     "output_type": "execute_result"
    }
   ],
   "source": [
    "np.sum(a)"
   ]
  },
  {
   "cell_type": "markdown",
   "id": "e2aa0457",
   "metadata": {},
   "source": [
    "### Más magia"
   ]
  },
  {
   "cell_type": "code",
   "execution_count": 35,
   "id": "10543733",
   "metadata": {
    "execution": {
     "iopub.execute_input": "2021-09-28T21:11:22.421787Z",
     "iopub.status.busy": "2021-09-28T21:11:22.420972Z",
     "iopub.status.idle": "2021-09-28T21:11:22.423839Z",
     "shell.execute_reply": "2021-09-28T21:11:22.424324Z"
    }
   },
   "outputs": [
    {
     "data": {
      "text/plain": [
       "array([[False, False, False,  True],\n",
       "       [ True, False,  True,  True]])"
      ]
     },
     "execution_count": 35,
     "metadata": {},
     "output_type": "execute_result"
    }
   ],
   "source": [
    "a = np.array([[5, 2, 1, 8], [26, 4, 17, 9]])\n",
    "\n",
    "a > 5"
   ]
  },
  {
   "cell_type": "code",
   "execution_count": 36,
   "id": "36e30780",
   "metadata": {
    "execution": {
     "iopub.execute_input": "2021-09-28T21:11:22.429226Z",
     "iopub.status.busy": "2021-09-28T21:11:22.428664Z",
     "iopub.status.idle": "2021-09-28T21:11:22.432896Z",
     "shell.execute_reply": "2021-09-28T21:11:22.432373Z"
    }
   },
   "outputs": [
    {
     "data": {
      "text/plain": [
       "array([ 8, 26, 17,  9])"
      ]
     },
     "execution_count": 36,
     "metadata": {},
     "output_type": "execute_result"
    }
   ],
   "source": [
    "a[a > 5]"
   ]
  },
  {
   "cell_type": "markdown",
   "id": "c11e9972",
   "metadata": {},
   "source": [
    "### Broadcasting"
   ]
  },
  {
   "cell_type": "markdown",
   "id": "3484927d",
   "metadata": {},
   "source": [
    "Permite realizar operaciones entre dos numpy arrays de distintas dimensiones.\n",
    "Para lograr esto, las dimensiones de los mismos deben ser compatibles. Dos dimensiones son compatibles cuando:\n",
    "1. Son iguales\n",
    "2. Alguna de las dos es 1"
   ]
  },
  {
   "cell_type": "code",
   "execution_count": 37,
   "id": "2ad0fb43",
   "metadata": {
    "execution": {
     "iopub.execute_input": "2021-09-28T21:11:22.438042Z",
     "iopub.status.busy": "2021-09-28T21:11:22.437476Z",
     "iopub.status.idle": "2021-09-28T21:11:22.442776Z",
     "shell.execute_reply": "2021-09-28T21:11:22.442284Z"
    }
   },
   "outputs": [
    {
     "data": {
      "text/plain": [
       "array([[ 5,  2,  1,  8],\n",
       "       [26,  4, 17,  9]])"
      ]
     },
     "execution_count": 37,
     "metadata": {},
     "output_type": "execute_result"
    }
   ],
   "source": [
    "a = np.array([[5, 2, 1, 8], [26, 4, 17, 9]])\n",
    "a"
   ]
  },
  {
   "cell_type": "code",
   "execution_count": 38,
   "id": "d41a496a",
   "metadata": {
    "execution": {
     "iopub.execute_input": "2021-09-28T21:11:22.449175Z",
     "iopub.status.busy": "2021-09-28T21:11:22.446977Z",
     "iopub.status.idle": "2021-09-28T21:11:22.454293Z",
     "shell.execute_reply": "2021-09-28T21:11:22.453242Z"
    }
   },
   "outputs": [
    {
     "name": "stdout",
     "output_type": "stream",
     "text": [
      "a: (2, 4)\n",
      "b: (4,)\n",
      "\n",
      "a + b:\n",
      " [[10  4  2 16]\n",
      " [31  6 18 17]]\n"
     ]
    }
   ],
   "source": [
    "# Armamos un array que tenga la misma cantidad de columnas que a\n",
    "b = np.array([5, 2, 1, 8])\n",
    "print(f\"a: {a.shape}\")\n",
    "print(f\"b: {b.shape}\")\n",
    "# a + b\n",
    "print()\n",
    "print(f\"a + b:\\n {a + b}\")"
   ]
  },
  {
   "cell_type": "code",
   "execution_count": 39,
   "id": "7fbf35a7",
   "metadata": {
    "execution": {
     "iopub.execute_input": "2021-09-28T21:11:22.458972Z",
     "iopub.status.busy": "2021-09-28T21:11:22.458407Z",
     "iopub.status.idle": "2021-09-28T21:11:22.540620Z",
     "shell.execute_reply": "2021-09-28T21:11:22.541130Z"
    },
    "tags": [
     "raises-exception"
    ]
   },
   "outputs": [
    {
     "name": "stdout",
     "output_type": "stream",
     "text": [
      "a: (2, 4)\n",
      "b: (3,)\n"
     ]
    },
    {
     "ename": "ValueError",
     "evalue": "operands could not be broadcast together with shapes (2,4) (3,) ",
     "output_type": "error",
     "traceback": [
      "\u001b[0;31m---------------------------------------------------------------------------\u001b[0m",
      "\u001b[0;31mValueError\u001b[0m                                Traceback (most recent call last)",
      "\u001b[0;32m/tmp/ipykernel_2045/261865458.py\u001b[0m in \u001b[0;36m<module>\u001b[0;34m\u001b[0m\n\u001b[1;32m      3\u001b[0m \u001b[0mprint\u001b[0m\u001b[0;34m(\u001b[0m\u001b[0;34mf\"a: {a.shape}\"\u001b[0m\u001b[0;34m)\u001b[0m\u001b[0;34m\u001b[0m\u001b[0;34m\u001b[0m\u001b[0m\n\u001b[1;32m      4\u001b[0m \u001b[0mprint\u001b[0m\u001b[0;34m(\u001b[0m\u001b[0;34mf\"b: {b.shape}\"\u001b[0m\u001b[0;34m)\u001b[0m\u001b[0;34m\u001b[0m\u001b[0;34m\u001b[0m\u001b[0m\n\u001b[0;32m----> 5\u001b[0;31m \u001b[0ma\u001b[0m \u001b[0;34m+\u001b[0m \u001b[0mb\u001b[0m\u001b[0;34m\u001b[0m\u001b[0;34m\u001b[0m\u001b[0m\n\u001b[0m",
      "\u001b[0;31mValueError\u001b[0m: operands could not be broadcast together with shapes (2,4) (3,) "
     ]
    }
   ],
   "source": [
    "# Armamos un array que tenga distinta cantidad de filas y columnas que a\n",
    "b = np.array([5, 1, 8])\n",
    "print(f\"a: {a.shape}\")\n",
    "print(f\"b: {b.shape}\")\n",
    "a + b"
   ]
  },
  {
   "cell_type": "code",
   "execution_count": 40,
   "id": "c6155f1c",
   "metadata": {
    "execution": {
     "iopub.execute_input": "2021-09-28T21:11:22.545677Z",
     "iopub.status.busy": "2021-09-28T21:11:22.543744Z",
     "iopub.status.idle": "2021-09-28T21:11:22.550746Z",
     "shell.execute_reply": "2021-09-28T21:11:22.551175Z"
    }
   },
   "outputs": [
    {
     "name": "stdout",
     "output_type": "stream",
     "text": [
      "a: (2, 4)\n",
      "b: (2, 1)\n"
     ]
    },
    {
     "data": {
      "text/plain": [
       "array([[ 7,  4,  3, 10],\n",
       "       [27,  5, 18, 10]])"
      ]
     },
     "execution_count": 40,
     "metadata": {},
     "output_type": "execute_result"
    }
   ],
   "source": [
    "# Armamos un array que tenga la misma cantidad de filas que a\n",
    "b = np.array([[2], [1]])\n",
    "print(f\"a: {a.shape}\")\n",
    "print(f\"b: {b.shape}\")\n",
    "a + b"
   ]
  },
  {
   "cell_type": "code",
   "execution_count": 41,
   "id": "f180ec84",
   "metadata": {
    "execution": {
     "iopub.execute_input": "2021-09-28T21:11:22.558226Z",
     "iopub.status.busy": "2021-09-28T21:11:22.557176Z",
     "iopub.status.idle": "2021-09-28T21:11:22.560482Z",
     "shell.execute_reply": "2021-09-28T21:11:22.559975Z"
    }
   },
   "outputs": [
    {
     "data": {
      "text/plain": [
       "array([[ 9,  6,  5, 12],\n",
       "       [30,  8, 21, 13]])"
      ]
     },
     "execution_count": 41,
     "metadata": {},
     "output_type": "execute_result"
    }
   ],
   "source": [
    "# Si b es un entero\n",
    "b = 4\n",
    "a + b"
   ]
  },
  {
   "cell_type": "code",
   "execution_count": null,
   "id": "eaaa6b0c",
   "metadata": {},
   "outputs": [],
   "source": []
  }
 ],
 "metadata": {
  "jupytext": {
   "encoding": "# -*- coding: utf-8 -*-",
   "formats": "ipynb,py:light"
  },
  "kernelspec": {
   "display_name": "Python 3",
   "language": "python",
   "name": "python3"
  },
  "language_info": {
   "codemirror_mode": {
    "name": "ipython",
    "version": 3
   },
   "file_extension": ".py",
   "mimetype": "text/x-python",
   "name": "python",
   "nbconvert_exporter": "python",
   "pygments_lexer": "ipython3",
   "version": "3.7.12"
  }
 },
 "nbformat": 4,
 "nbformat_minor": 5
}
