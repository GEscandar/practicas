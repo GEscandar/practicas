{
 "cells": [
  {
   "cell_type": "markdown",
   "metadata": {},
   "source": [
    "## Clase 1 - Introducción a Numpy\n",
    "\n",
    "Numpy es una biblioteca para Python que facilita el manejo de arreglos multidimensionales y ofrece varias herramientas para trabajar con ellos. Muchas de las bibliotecas de Python que son ampliamente usadas hoy en día, como pandas, están construidas sobre numpy.\n",
    "\n",
    "### Listas de Python vs arreglos de Numpy\n",
    "\n",
    "A primera vista, un arreglo de numpy puede resultar idéntico a una lista de python, pero a medida que la cantidad de datos comienza a incrementar, los arreglos de numpy terminan ofreciendo un manejo más eficiente de la memoria.\n",
    "\n",
    "Para comenzar, vamos a crear un arreglo de numpy:"
   ]
  },
  {
   "cell_type": "code",
   "execution_count": 1,
   "metadata": {
    "execution": {
     "iopub.execute_input": "2020-12-11T01:32:09.379979Z",
     "iopub.status.busy": "2020-12-11T01:32:09.379297Z",
     "iopub.status.idle": "2020-12-11T01:32:09.594700Z",
     "shell.execute_reply": "2020-12-11T01:32:09.595158Z"
    }
   },
   "outputs": [
    {
     "data": {
      "text/plain": [
       "array([1, 2, 3, 4])"
      ]
     },
     "execution_count": 1,
     "metadata": {},
     "output_type": "execute_result"
    }
   ],
   "source": [
    "import numpy as np\n",
    "\n",
    "np.array([1, 2, 3, 4])"
   ]
  },
  {
   "cell_type": "markdown",
   "metadata": {},
   "source": [
    "Los arreglos pueden ser también multidimensionales:"
   ]
  },
  {
   "cell_type": "code",
   "execution_count": 2,
   "metadata": {
    "execution": {
     "iopub.execute_input": "2020-12-11T01:32:09.602965Z",
     "iopub.status.busy": "2020-12-11T01:32:09.600741Z",
     "iopub.status.idle": "2020-12-11T01:32:09.605650Z",
     "shell.execute_reply": "2020-12-11T01:32:09.605011Z"
    }
   },
   "outputs": [
    {
     "data": {
      "text/plain": [
       "array([[1, 2, 3, 4],\n",
       "       [5, 6, 7, 8]])"
      ]
     },
     "execution_count": 1,
     "metadata": {},
     "output_type": "execute_result"
    }
   ],
   "source": [
    "np.array([[1, 2, 3, 4], [5, 6, 7, 8]])"
   ]
  },
  {
   "cell_type": "markdown",
   "metadata": {},
   "source": [
    "Es importante tener en cuenta que un arreglo de numpy tiene un tipo fijo de datos, entonces si se quiere agregar un dato de un tipo diferente al de la mayoría, este va a ser modificado para adaptarse al resto"
   ]
  },
  {
   "cell_type": "code",
   "execution_count": 3,
   "metadata": {
    "execution": {
     "iopub.execute_input": "2020-12-11T01:32:09.610484Z",
     "iopub.status.busy": "2020-12-11T01:32:09.609145Z",
     "iopub.status.idle": "2020-12-11T01:32:09.611133Z",
     "shell.execute_reply": "2020-12-11T01:32:09.611597Z"
    }
   },
   "outputs": [],
   "source": [
    "enteros = np.array([1, 2, 3, 4])"
   ]
  },
  {
   "cell_type": "markdown",
   "metadata": {},
   "source": [
    "Agrego un elemento de tipo flotante en la posición 1"
   ]
  },
  {
   "cell_type": "code",
   "execution_count": 4,
   "metadata": {
    "execution": {
     "iopub.execute_input": "2020-12-11T01:32:09.616210Z",
     "iopub.status.busy": "2020-12-11T01:32:09.615629Z",
     "iopub.status.idle": "2020-12-11T01:32:09.618339Z",
     "shell.execute_reply": "2020-12-11T01:32:09.618796Z"
    }
   },
   "outputs": [
    {
     "data": {
      "text/plain": [
       "array([1, 8, 3, 4])"
      ]
     },
     "execution_count": 1,
     "metadata": {},
     "output_type": "execute_result"
    }
   ],
   "source": [
    "enteros[1] = 8.4727\n",
    "enteros"
   ]
  },
  {
   "cell_type": "markdown",
   "metadata": {},
   "source": [
    "Numpy también nos permite crear arreglos con valores aleatorios del 0 al 1.\n",
    "Basta con pasarle las dimensiones del arreglo que queremos crear."
   ]
  },
  {
   "cell_type": "code",
   "execution_count": 5,
   "metadata": {
    "execution": {
     "iopub.execute_input": "2020-12-11T01:32:09.624185Z",
     "iopub.status.busy": "2020-12-11T01:32:09.623193Z",
     "iopub.status.idle": "2020-12-11T01:32:09.626538Z",
     "shell.execute_reply": "2020-12-11T01:32:09.626055Z"
    }
   },
   "outputs": [
    {
     "data": {
      "text/plain": [
       "array([[0.33160754, 0.98678951, 0.42570537],\n",
       "       [0.7040448 , 0.64415623, 0.97923522]])"
      ]
     },
     "execution_count": 1,
     "metadata": {},
     "output_type": "execute_result"
    }
   ],
   "source": [
    "np.random.rand(2, 3)"
   ]
  },
  {
   "cell_type": "markdown",
   "metadata": {},
   "source": [
    "## Slicing\n",
    "\n",
    "De la misma forma que con las listas de python, pueden obtenerse slices de los arreglos de numpy"
   ]
  },
  {
   "cell_type": "code",
   "execution_count": 6,
   "metadata": {
    "execution": {
     "iopub.execute_input": "2020-12-11T01:32:09.631580Z",
     "iopub.status.busy": "2020-12-11T01:32:09.630650Z",
     "iopub.status.idle": "2020-12-11T01:32:09.633978Z",
     "shell.execute_reply": "2020-12-11T01:32:09.633493Z"
    },
    "lines_to_next_cell": 2
   },
   "outputs": [
    {
     "data": {
      "text/plain": [
       "array([1, 8])"
      ]
     },
     "execution_count": 1,
     "metadata": {},
     "output_type": "execute_result"
    }
   ],
   "source": [
    "enteros[:2]"
   ]
  },
  {
   "cell_type": "code",
   "execution_count": 7,
   "metadata": {
    "execution": {
     "iopub.execute_input": "2020-12-11T01:32:09.640639Z",
     "iopub.status.busy": "2020-12-11T01:32:09.639470Z",
     "iopub.status.idle": "2020-12-11T01:32:09.642814Z",
     "shell.execute_reply": "2020-12-11T01:32:09.642313Z"
    }
   },
   "outputs": [
    {
     "name": "stdout",
     "output_type": "stream",
     "text": [
      "Original: \n",
      "[[ 1  2  3  4]\n",
      " [ 5  6  7  8]\n",
      " [ 9 10 11 12]]\n",
      "\n",
      "Recortada: \n",
      "[[1 2 3]\n",
      " [5 6 7]]\n"
     ]
    }
   ],
   "source": [
    "matriz_de_enteros = np.array([[1, 2, 3, 4], [5, 6, 7, 8], [9, 10, 11, 12]])\n",
    "\n",
    "print('Original: ')\n",
    "print(matriz_de_enteros)\n",
    "\n",
    "print()\n",
    "\n",
    "print('Recortada: ')\n",
    "print(matriz_de_enteros[:2, :3])"
   ]
  },
  {
   "cell_type": "code",
   "execution_count": 8,
   "metadata": {
    "execution": {
     "iopub.execute_input": "2020-12-11T01:32:09.647513Z",
     "iopub.status.busy": "2020-12-11T01:32:09.646925Z",
     "iopub.status.idle": "2020-12-11T01:32:09.649791Z",
     "shell.execute_reply": "2020-12-11T01:32:09.650255Z"
    }
   },
   "outputs": [
    {
     "data": {
      "text/plain": [
       "array([[[ 0,  1,  2,  3,  4],\n",
       "        [ 5,  6,  7,  8,  9],\n",
       "        [10, 11, 12, 13, 14]],\n",
       "\n",
       "       [[15, 16, 17, 18, 19],\n",
       "        [20, 21, 22, 23, 24],\n",
       "        [25, 26, 27, 28, 29]],\n",
       "\n",
       "       [[30, 31, 32, 33, 34],\n",
       "        [35, 36, 37, 38, 39],\n",
       "        [40, 41, 42, 43, 44]]])"
      ]
     },
     "execution_count": 1,
     "metadata": {},
     "output_type": "execute_result"
    }
   ],
   "source": [
    "# 3D\n",
    "x = np.arange(45).reshape(3, 3, 5)\n",
    "x"
   ]
  },
  {
   "cell_type": "code",
   "execution_count": 9,
   "metadata": {
    "execution": {
     "iopub.execute_input": "2020-12-11T01:32:09.654824Z",
     "iopub.status.busy": "2020-12-11T01:32:09.654061Z",
     "iopub.status.idle": "2020-12-11T01:32:09.656600Z",
     "shell.execute_reply": "2020-12-11T01:32:09.657096Z"
    }
   },
   "outputs": [
    {
     "data": {
      "text/plain": [
       "array([[ 0,  1,  2,  3,  4],\n",
       "       [ 5,  6,  7,  8,  9],\n",
       "       [10, 11, 12, 13, 14]])"
      ]
     },
     "execution_count": 1,
     "metadata": {},
     "output_type": "execute_result"
    }
   ],
   "source": [
    "x[0]"
   ]
  },
  {
   "cell_type": "markdown",
   "metadata": {},
   "source": [
    "\n",
    "¿Cómo conseguimos estos valores? ([fuente](https://towardsdatascience.com/indexing-and-slicing-of-1d-2d-and-3d-arrays-in-numpy-e731afff0bbe))\n",
    "\n",
    "![title](img/matrix.png)"
   ]
  },
  {
   "cell_type": "code",
   "execution_count": 10,
   "metadata": {
    "execution": {
     "iopub.execute_input": "2020-12-11T01:32:09.662515Z",
     "iopub.status.busy": "2020-12-11T01:32:09.661141Z",
     "iopub.status.idle": "2020-12-11T01:32:09.664598Z",
     "shell.execute_reply": "2020-12-11T01:32:09.664098Z"
    }
   },
   "outputs": [
    {
     "data": {
      "text/plain": [
       "array([[[16, 17, 18],\n",
       "        [21, 22, 23]],\n",
       "\n",
       "       [[31, 32, 33],\n",
       "        [36, 37, 38]]])"
      ]
     },
     "execution_count": 1,
     "metadata": {},
     "output_type": "execute_result"
    }
   ],
   "source": [
    "x[1:, 0:2, 1:4]"
   ]
  },
  {
   "cell_type": "markdown",
   "metadata": {},
   "source": [
    "### Copia de arreglos"
   ]
  },
  {
   "cell_type": "code",
   "execution_count": 11,
   "metadata": {
    "execution": {
     "iopub.execute_input": "2020-12-11T01:32:09.669139Z",
     "iopub.status.busy": "2020-12-11T01:32:09.666796Z",
     "iopub.status.idle": "2020-12-11T01:32:09.671242Z",
     "shell.execute_reply": "2020-12-11T01:32:09.671710Z"
    }
   },
   "outputs": [
    {
     "data": {
      "text/plain": [
       "array([1, 2, 3, 4])"
      ]
     },
     "execution_count": 1,
     "metadata": {},
     "output_type": "execute_result"
    }
   ],
   "source": [
    "# Los arreglos no se copian con asignación\n",
    "\n",
    "a = np.array([1, 2, 3, 4])\n",
    "b = a\n",
    "b"
   ]
  },
  {
   "cell_type": "code",
   "execution_count": 12,
   "metadata": {
    "execution": {
     "iopub.execute_input": "2020-12-11T01:32:09.678719Z",
     "iopub.status.busy": "2020-12-11T01:32:09.677765Z",
     "iopub.status.idle": "2020-12-11T01:32:09.680536Z",
     "shell.execute_reply": "2020-12-11T01:32:09.681023Z"
    }
   },
   "outputs": [
    {
     "data": {
      "text/plain": [
       "array([ 1, 20,  3,  4])"
      ]
     },
     "execution_count": 1,
     "metadata": {},
     "output_type": "execute_result"
    }
   ],
   "source": [
    "b[1] = 20\n",
    "b"
   ]
  },
  {
   "cell_type": "code",
   "execution_count": 13,
   "metadata": {
    "execution": {
     "iopub.execute_input": "2020-12-11T01:32:09.685477Z",
     "iopub.status.busy": "2020-12-11T01:32:09.684649Z",
     "iopub.status.idle": "2020-12-11T01:32:09.687384Z",
     "shell.execute_reply": "2020-12-11T01:32:09.687847Z"
    }
   },
   "outputs": [
    {
     "data": {
      "text/plain": [
       "array([ 1, 20,  3,  4])"
      ]
     },
     "execution_count": 1,
     "metadata": {},
     "output_type": "execute_result"
    }
   ],
   "source": [
    "a"
   ]
  },
  {
   "cell_type": "code",
   "execution_count": 14,
   "metadata": {
    "execution": {
     "iopub.execute_input": "2020-12-11T01:32:09.693521Z",
     "iopub.status.busy": "2020-12-11T01:32:09.692531Z",
     "iopub.status.idle": "2020-12-11T01:32:09.695250Z",
     "shell.execute_reply": "2020-12-11T01:32:09.695712Z"
    }
   },
   "outputs": [
    {
     "data": {
      "text/plain": [
       "array([ 1, 20,  3,  4])"
      ]
     },
     "execution_count": 1,
     "metadata": {},
     "output_type": "execute_result"
    }
   ],
   "source": [
    "# Para copiar un arreglo a otra variable debemos usar copy()\n",
    "\n",
    "a = np.array([1, 2, 3, 4])\n",
    "b = a.copy()\n",
    "b[1] = 20\n",
    "b"
   ]
  },
  {
   "cell_type": "code",
   "execution_count": 15,
   "metadata": {
    "execution": {
     "iopub.execute_input": "2020-12-11T01:32:09.699895Z",
     "iopub.status.busy": "2020-12-11T01:32:09.699292Z",
     "iopub.status.idle": "2020-12-11T01:32:09.701352Z",
     "shell.execute_reply": "2020-12-11T01:32:09.701821Z"
    }
   },
   "outputs": [
    {
     "data": {
      "text/plain": [
       "array([1, 2, 3, 4])"
      ]
     },
     "execution_count": 1,
     "metadata": {},
     "output_type": "execute_result"
    }
   ],
   "source": [
    "a"
   ]
  },
  {
   "cell_type": "markdown",
   "metadata": {},
   "source": [
    "### Modificación de dimensiones"
   ]
  },
  {
   "cell_type": "markdown",
   "metadata": {},
   "source": [
    "Existen varias operaciones para cambiar la forma de un arreglo de numpy"
   ]
  },
  {
   "cell_type": "code",
   "execution_count": 16,
   "metadata": {
    "execution": {
     "iopub.execute_input": "2020-12-11T01:32:09.705580Z",
     "iopub.status.busy": "2020-12-11T01:32:09.704980Z",
     "iopub.status.idle": "2020-12-11T01:32:09.707419Z",
     "shell.execute_reply": "2020-12-11T01:32:09.707901Z"
    }
   },
   "outputs": [
    {
     "data": {
      "text/plain": [
       "2"
      ]
     },
     "execution_count": 1,
     "metadata": {},
     "output_type": "execute_result"
    }
   ],
   "source": [
    "# Obtener las dimensiones del arreglo\n",
    "\n",
    "matriz_de_enteros.ndim"
   ]
  },
  {
   "cell_type": "code",
   "execution_count": 17,
   "metadata": {
    "execution": {
     "iopub.execute_input": "2020-12-11T01:32:09.711745Z",
     "iopub.status.busy": "2020-12-11T01:32:09.711170Z",
     "iopub.status.idle": "2020-12-11T01:32:09.713440Z",
     "shell.execute_reply": "2020-12-11T01:32:09.713912Z"
    }
   },
   "outputs": [
    {
     "data": {
      "text/plain": [
       "(3, 4)"
      ]
     },
     "execution_count": 1,
     "metadata": {},
     "output_type": "execute_result"
    }
   ],
   "source": [
    "# Obtener la forma del arreglo\n",
    "\n",
    "matriz_de_enteros.shape"
   ]
  },
  {
   "cell_type": "code",
   "execution_count": 18,
   "metadata": {
    "execution": {
     "iopub.execute_input": "2020-12-11T01:32:09.718278Z",
     "iopub.status.busy": "2020-12-11T01:32:09.717710Z",
     "iopub.status.idle": "2020-12-11T01:32:09.720700Z",
     "shell.execute_reply": "2020-12-11T01:32:09.720202Z"
    }
   },
   "outputs": [
    {
     "data": {
      "text/plain": [
       "array([[ 3,  6],\n",
       "       [ 9, 12]])"
      ]
     },
     "execution_count": 1,
     "metadata": {},
     "output_type": "execute_result"
    }
   ],
   "source": [
    "# Modificar la forma de un arreglo\n",
    "\n",
    "enteros = np.array([3, 6, 9, 12])\n",
    "np.reshape(enteros, (2, 2))"
   ]
  },
  {
   "cell_type": "code",
   "execution_count": 19,
   "metadata": {
    "execution": {
     "iopub.execute_input": "2020-12-11T01:32:09.724752Z",
     "iopub.status.busy": "2020-12-11T01:32:09.724185Z",
     "iopub.status.idle": "2020-12-11T01:32:09.726728Z",
     "shell.execute_reply": "2020-12-11T01:32:09.727196Z"
    }
   },
   "outputs": [
    {
     "data": {
      "text/plain": [
       "array([[1., 1.],\n",
       "       [1., 1.]])"
      ]
     },
     "execution_count": 1,
     "metadata": {},
     "output_type": "execute_result"
    }
   ],
   "source": [
    "# Aplanar un arreglo\n",
    "\n",
    "a = np.ones((2, 2))\n",
    "a"
   ]
  },
  {
   "cell_type": "code",
   "execution_count": 20,
   "metadata": {
    "execution": {
     "iopub.execute_input": "2020-12-11T01:32:09.731885Z",
     "iopub.status.busy": "2020-12-11T01:32:09.731300Z",
     "iopub.status.idle": "2020-12-11T01:32:09.733341Z",
     "shell.execute_reply": "2020-12-11T01:32:09.733803Z"
    }
   },
   "outputs": [
    {
     "data": {
      "text/plain": [
       "array([1., 1., 1., 1.])"
      ]
     },
     "execution_count": 1,
     "metadata": {},
     "output_type": "execute_result"
    }
   ],
   "source": [
    "a.flatten()"
   ]
  },
  {
   "cell_type": "code",
   "execution_count": 21,
   "metadata": {
    "execution": {
     "iopub.execute_input": "2020-12-11T01:32:09.737715Z",
     "iopub.status.busy": "2020-12-11T01:32:09.737133Z",
     "iopub.status.idle": "2020-12-11T01:32:09.740226Z",
     "shell.execute_reply": "2020-12-11T01:32:09.739718Z"
    },
    "lines_to_next_cell": 2
   },
   "outputs": [
    {
     "data": {
      "text/plain": [
       "array([[1., 1.],\n",
       "       [1., 1.]])"
      ]
     },
     "execution_count": 1,
     "metadata": {},
     "output_type": "execute_result"
    }
   ],
   "source": [
    "a"
   ]
  },
  {
   "cell_type": "markdown",
   "metadata": {},
   "source": [
    "### Combinación de arreglos (Stacking)"
   ]
  },
  {
   "cell_type": "code",
   "execution_count": 22,
   "metadata": {
    "execution": {
     "iopub.execute_input": "2020-12-11T01:32:09.744206Z",
     "iopub.status.busy": "2020-12-11T01:32:09.743660Z",
     "iopub.status.idle": "2020-12-11T01:32:09.746679Z",
     "shell.execute_reply": "2020-12-11T01:32:09.746179Z"
    }
   },
   "outputs": [
    {
     "data": {
      "text/plain": [
       "array([0, 1, 2, 3, 4])"
      ]
     },
     "execution_count": 1,
     "metadata": {},
     "output_type": "execute_result"
    }
   ],
   "source": [
    "# Los arreglos se pueden combinar verticalmente (se incrementa la cantidad de filas)\n",
    "\n",
    "a = np.arange(0, 5)\n",
    "a"
   ]
  },
  {
   "cell_type": "code",
   "execution_count": 23,
   "metadata": {
    "execution": {
     "iopub.execute_input": "2020-12-11T01:32:09.750492Z",
     "iopub.status.busy": "2020-12-11T01:32:09.749912Z",
     "iopub.status.idle": "2020-12-11T01:32:09.752421Z",
     "shell.execute_reply": "2020-12-11T01:32:09.752915Z"
    }
   },
   "outputs": [
    {
     "data": {
      "text/plain": [
       "array([5, 6, 7, 8, 9])"
      ]
     },
     "execution_count": 1,
     "metadata": {},
     "output_type": "execute_result"
    }
   ],
   "source": [
    "b = np.arange(5, 10)\n",
    "b"
   ]
  },
  {
   "cell_type": "code",
   "execution_count": 24,
   "metadata": {
    "execution": {
     "iopub.execute_input": "2020-12-11T01:32:09.757669Z",
     "iopub.status.busy": "2020-12-11T01:32:09.757047Z",
     "iopub.status.idle": "2020-12-11T01:32:09.759031Z",
     "shell.execute_reply": "2020-12-11T01:32:09.759458Z"
    }
   },
   "outputs": [
    {
     "data": {
      "text/plain": [
       "array([[0, 1, 2, 3, 4],\n",
       "       [5, 6, 7, 8, 9]])"
      ]
     },
     "execution_count": 1,
     "metadata": {},
     "output_type": "execute_result"
    }
   ],
   "source": [
    "combinados_verticalmente = np.vstack((a, b))\n",
    "combinados_verticalmente"
   ]
  },
  {
   "cell_type": "code",
   "execution_count": 25,
   "metadata": {
    "execution": {
     "iopub.execute_input": "2020-12-11T01:32:09.764211Z",
     "iopub.status.busy": "2020-12-11T01:32:09.763638Z",
     "iopub.status.idle": "2020-12-11T01:32:09.765812Z",
     "shell.execute_reply": "2020-12-11T01:32:09.766293Z"
    }
   },
   "outputs": [
    {
     "data": {
      "text/plain": [
       "array([0, 1, 2, 3, 4, 5, 6, 7, 8, 9])"
      ]
     },
     "execution_count": 1,
     "metadata": {},
     "output_type": "execute_result"
    }
   ],
   "source": [
    "# También se pueden combinar horizontalmente (se incrementa la cantidad de columnas)\n",
    "\n",
    "combinados_horizontalmente = np.hstack((a, b))\n",
    "combinados_horizontalmente"
   ]
  },
  {
   "cell_type": "markdown",
   "metadata": {},
   "source": [
    "### Operaciones matemáticas"
   ]
  },
  {
   "cell_type": "code",
   "execution_count": 26,
   "metadata": {
    "execution": {
     "iopub.execute_input": "2020-12-11T01:32:09.770214Z",
     "iopub.status.busy": "2020-12-11T01:32:09.769680Z",
     "iopub.status.idle": "2020-12-11T01:32:09.772190Z",
     "shell.execute_reply": "2020-12-11T01:32:09.772659Z"
    }
   },
   "outputs": [
    {
     "data": {
      "text/plain": [
       "array([3, 4, 5, 6])"
      ]
     },
     "execution_count": 1,
     "metadata": {},
     "output_type": "execute_result"
    }
   ],
   "source": [
    "a = np.array([1, 2, 3, 4])\n",
    "\n",
    "a + 2"
   ]
  },
  {
   "cell_type": "code",
   "execution_count": 27,
   "metadata": {
    "execution": {
     "iopub.execute_input": "2020-12-11T01:32:09.776472Z",
     "iopub.status.busy": "2020-12-11T01:32:09.775901Z",
     "iopub.status.idle": "2020-12-11T01:32:09.778377Z",
     "shell.execute_reply": "2020-12-11T01:32:09.778878Z"
    }
   },
   "outputs": [
    {
     "data": {
      "text/plain": [
       "array([ 1,  4,  9, 16])"
      ]
     },
     "execution_count": 1,
     "metadata": {},
     "output_type": "execute_result"
    }
   ],
   "source": [
    "a ** 2"
   ]
  },
  {
   "cell_type": "code",
   "execution_count": 28,
   "metadata": {
    "execution": {
     "iopub.execute_input": "2020-12-11T01:32:09.783685Z",
     "iopub.status.busy": "2020-12-11T01:32:09.783095Z",
     "iopub.status.idle": "2020-12-11T01:32:09.785180Z",
     "shell.execute_reply": "2020-12-11T01:32:09.785653Z"
    }
   },
   "outputs": [
    {
     "data": {
      "text/plain": [
       "array([2., 3., 4., 5.])"
      ]
     },
     "execution_count": 1,
     "metadata": {},
     "output_type": "execute_result"
    }
   ],
   "source": [
    "b = np.ones(4)\n",
    "a + b"
   ]
  },
  {
   "cell_type": "markdown",
   "metadata": {},
   "source": [
    "### Estadística"
   ]
  },
  {
   "cell_type": "code",
   "execution_count": 29,
   "metadata": {
    "execution": {
     "iopub.execute_input": "2020-12-11T01:32:09.789987Z",
     "iopub.status.busy": "2020-12-11T01:32:09.789416Z",
     "iopub.status.idle": "2020-12-11T01:32:09.792380Z",
     "shell.execute_reply": "2020-12-11T01:32:09.791879Z"
    }
   },
   "outputs": [
    {
     "data": {
      "text/plain": [
       "1"
      ]
     },
     "execution_count": 1,
     "metadata": {},
     "output_type": "execute_result"
    }
   ],
   "source": [
    "a = np.array([[5, 2, 1, 8], [26, 4, 17, 9]])\n",
    "\n",
    "np.min(a)"
   ]
  },
  {
   "cell_type": "code",
   "execution_count": 30,
   "metadata": {
    "execution": {
     "iopub.execute_input": "2020-12-11T01:32:09.796087Z",
     "iopub.status.busy": "2020-12-11T01:32:09.795525Z",
     "iopub.status.idle": "2020-12-11T01:32:09.798034Z",
     "shell.execute_reply": "2020-12-11T01:32:09.798551Z"
    }
   },
   "outputs": [
    {
     "data": {
      "text/plain": [
       "26"
      ]
     },
     "execution_count": 1,
     "metadata": {},
     "output_type": "execute_result"
    }
   ],
   "source": [
    "np.max(a)"
   ]
  },
  {
   "cell_type": "code",
   "execution_count": 31,
   "metadata": {
    "execution": {
     "iopub.execute_input": "2020-12-11T01:32:09.802516Z",
     "iopub.status.busy": "2020-12-11T01:32:09.801930Z",
     "iopub.status.idle": "2020-12-11T01:32:09.804251Z",
     "shell.execute_reply": "2020-12-11T01:32:09.804699Z"
    }
   },
   "outputs": [
    {
     "data": {
      "text/plain": [
       "72"
      ]
     },
     "execution_count": 1,
     "metadata": {},
     "output_type": "execute_result"
    }
   ],
   "source": [
    "np.sum(a)"
   ]
  },
  {
   "cell_type": "markdown",
   "metadata": {},
   "source": [
    "### Más magia"
   ]
  },
  {
   "cell_type": "code",
   "execution_count": 32,
   "metadata": {
    "execution": {
     "iopub.execute_input": "2020-12-11T01:32:09.809076Z",
     "iopub.status.busy": "2020-12-11T01:32:09.808475Z",
     "iopub.status.idle": "2020-12-11T01:32:09.810993Z",
     "shell.execute_reply": "2020-12-11T01:32:09.811433Z"
    }
   },
   "outputs": [
    {
     "data": {
      "text/plain": [
       "array([[False, False, False,  True],\n",
       "       [ True, False,  True,  True]])"
      ]
     },
     "execution_count": 1,
     "metadata": {},
     "output_type": "execute_result"
    }
   ],
   "source": [
    "a = np.array([[5, 2, 1, 8], [26, 4, 17, 9]])\n",
    "\n",
    "a > 5"
   ]
  },
  {
   "cell_type": "code",
   "execution_count": 33,
   "metadata": {
    "execution": {
     "iopub.execute_input": "2020-12-11T01:32:09.816035Z",
     "iopub.status.busy": "2020-12-11T01:32:09.815440Z",
     "iopub.status.idle": "2020-12-11T01:32:09.817680Z",
     "shell.execute_reply": "2020-12-11T01:32:09.818165Z"
    }
   },
   "outputs": [
    {
     "data": {
      "text/plain": [
       "array([ 8, 26, 17,  9])"
      ]
     },
     "execution_count": 1,
     "metadata": {},
     "output_type": "execute_result"
    }
   ],
   "source": [
    "a[a > 5]"
   ]
  },
  {
   "cell_type": "markdown",
   "metadata": {},
   "source": [
    "### Broadcasting"
   ]
  },
  {
   "cell_type": "markdown",
   "metadata": {},
   "source": [
    "Permite realizar operaciones entre dos numpy arrays de distintas dimensiones.\n",
    "Para lograr esto, las dimensiones de los mismos deben ser compatibles. Dos dimensiones son compatibles cuando:\n",
    "1. Son iguales\n",
    "2. Alguna de las dos es 1"
   ]
  },
  {
   "cell_type": "code",
   "execution_count": 34,
   "metadata": {
    "execution": {
     "iopub.execute_input": "2020-12-11T01:32:09.822542Z",
     "iopub.status.busy": "2020-12-11T01:32:09.821928Z",
     "iopub.status.idle": "2020-12-11T01:32:09.824401Z",
     "shell.execute_reply": "2020-12-11T01:32:09.824966Z"
    }
   },
   "outputs": [
    {
     "data": {
      "text/plain": [
       "array([[ 5,  2,  1,  8],\n",
       "       [26,  4, 17,  9]])"
      ]
     },
     "execution_count": 1,
     "metadata": {},
     "output_type": "execute_result"
    }
   ],
   "source": [
    "a = np.array([[5, 2, 1, 8], [26, 4, 17, 9]])\n",
    "a"
   ]
  },
  {
   "cell_type": "code",
   "execution_count": 35,
   "metadata": {
    "execution": {
     "iopub.execute_input": "2020-12-11T01:32:09.829846Z",
     "iopub.status.busy": "2020-12-11T01:32:09.829254Z",
     "iopub.status.idle": "2020-12-11T01:32:09.832007Z",
     "shell.execute_reply": "2020-12-11T01:32:09.832469Z"
    }
   },
   "outputs": [
    {
     "name": "stdout",
     "output_type": "stream",
     "text": [
      "a: (2, 4)\n",
      "b: (4,)\n"
     ]
    },
    {
     "data": {
      "text/plain": [
       "array([[10,  4,  2, 16],\n",
       "       [31,  6, 18, 17]])"
      ]
     },
     "execution_count": 1,
     "metadata": {},
     "output_type": "execute_result"
    }
   ],
   "source": [
    "# Armamos un array que tenga la misma cantidad de columnas que a\n",
    "b = np.array([5, 2, 1, 8])\n",
    "print(f\"a: {a.shape}\")\n",
    "print(f\"b: {b.shape}\")\n",
    "a + b"
   ]
  },
  {
   "cell_type": "code",
   "execution_count": 36,
   "metadata": {
    "execution": {
     "iopub.execute_input": "2020-12-11T01:32:09.836597Z",
     "iopub.status.busy": "2020-12-11T01:32:09.836018Z",
     "iopub.status.idle": "2020-12-11T01:32:09.903830Z",
     "shell.execute_reply": "2020-12-11T01:32:09.901853Z"
    },
    "tags": [
     "raises-exception"
    ]
   },
   "outputs": [
    {
     "name": "stdout",
     "output_type": "stream",
     "text": [
      "a: (2, 4)\n",
      "b: (3,)\n"
     ]
    },
    {
     "ename": "ValueError",
     "evalue": "operands could not be broadcast together with shapes (2,4) (3,) ",
     "output_type": "error",
     "traceback": [
      "\u001b[0;31m---------------------------------------------------------------------------\u001b[0m",
      "\u001b[0;31mValueError\u001b[0m                                Traceback (most recent call last)",
      "\u001b[0;32m<ipython-input-1-fe11b6ae6346>\u001b[0m in \u001b[0;36m<module>\u001b[0;34m\u001b[0m\n\u001b[1;32m      3\u001b[0m \u001b[0mprint\u001b[0m\u001b[0;34m(\u001b[0m\u001b[0;34mf\"a: {a.shape}\"\u001b[0m\u001b[0;34m)\u001b[0m\u001b[0;34m\u001b[0m\u001b[0;34m\u001b[0m\u001b[0m\n\u001b[1;32m      4\u001b[0m \u001b[0mprint\u001b[0m\u001b[0;34m(\u001b[0m\u001b[0;34mf\"b: {b.shape}\"\u001b[0m\u001b[0;34m)\u001b[0m\u001b[0;34m\u001b[0m\u001b[0;34m\u001b[0m\u001b[0m\n\u001b[0;32m----> 5\u001b[0;31m \u001b[0ma\u001b[0m \u001b[0;34m+\u001b[0m \u001b[0mb\u001b[0m\u001b[0;34m\u001b[0m\u001b[0;34m\u001b[0m\u001b[0m\n\u001b[0m",
      "\u001b[0;31mValueError\u001b[0m: operands could not be broadcast together with shapes (2,4) (3,) "
     ]
    }
   ],
   "source": [
    "# Armamos un array que tenga distinta cantidad de filas y columnas que a\n",
    "b = np.array([5, 1, 8])\n",
    "print(f\"a: {a.shape}\")\n",
    "print(f\"b: {b.shape}\")\n",
    "a + b"
   ]
  },
  {
   "cell_type": "code",
   "execution_count": 37,
   "metadata": {
    "execution": {
     "iopub.status.busy": "2020-12-11T01:32:09.907087Z",
     "iopub.status.idle": "2020-12-11T01:32:09.908148Z",
     "shell.execute_reply": "2020-12-11T01:32:09.906567Z"
    }
   },
   "outputs": [],
   "source": [
    "# Armamos un array que tenga la misma cantidad de filas que a\n",
    "b = np.array([[2], [1]])\n",
    "print(f\"a: {a.shape}\")\n",
    "print(f\"b: {b.shape}\")\n",
    "a + b"
   ]
  },
  {
   "cell_type": "code",
   "execution_count": 38,
   "metadata": {
    "execution": {
     "iopub.status.busy": "2020-12-11T01:32:09.911205Z",
     "iopub.status.idle": "2020-12-11T01:32:09.912279Z",
     "shell.execute_reply": "2020-12-11T01:32:09.910705Z"
    }
   },
   "outputs": [],
   "source": [
    "b = 4\n",
    "a + b"
   ]
  }
 ],
 "metadata": {
  "jupytext": {
   "encoding": "# -*- coding: utf-8 -*-",
   "formats": "ipynb,py:light"
  },
  "kernelspec": {
   "display_name": "Python 3 (venv)",
   "language": "python",
   "name": "python3"
  },
  "language_info": {
   "codemirror_mode": {
    "name": "ipython",
    "version": 3
   },
   "file_extension": ".py",
   "mimetype": "text/x-python",
   "name": "python",
   "nbconvert_exporter": "python",
   "pygments_lexer": "ipython3",
   "version": "3.7.9"
  }
 },
 "nbformat": 4,
 "nbformat_minor": 4
}
