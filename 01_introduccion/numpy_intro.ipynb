{
 "cells": [
  {
   "cell_type": "markdown",
<<<<<<< HEAD
   "id": "02b319d0",
=======
   "id": "e5cfa58a",
>>>>>>> d670ebb19cfa4079e6548492fc4a6771210837ee
   "metadata": {},
   "source": [
    "## Clase 1 - Introducción a Numpy\n",
    "\n",
    "Numpy es una biblioteca para Python que facilita el manejo de arreglos multidimensionales y ofrece varias herramientas para trabajar con ellos. Muchas de las bibliotecas de Python que son ampliamente usadas hoy en día, como pandas, están construidas sobre numpy.\n",
    "\n",
    "### Listas de Python vs arreglos de Numpy\n",
    "\n",
    "A primera vista, un arreglo de numpy puede resultar idéntico a una lista de python, pero a medida que la cantidad de datos comienza a incrementar, los arreglos de numpy terminan ofreciendo un manejo más eficiente de la memoria.\n",
    "\n",
    "Para comenzar, vamos a crear un arreglo de numpy:"
   ]
  },
  {
   "cell_type": "code",
   "execution_count": 1,
<<<<<<< HEAD
   "id": "93c0ef71",
   "metadata": {
    "execution": {
     "iopub.execute_input": "2021-09-16T21:31:10.573119Z",
     "iopub.status.busy": "2021-09-16T21:31:10.572345Z",
     "iopub.status.idle": "2021-09-16T21:31:10.752218Z",
     "shell.execute_reply": "2021-09-16T21:31:10.753158Z"
=======
   "id": "c3049d4e",
   "metadata": {
    "execution": {
     "iopub.execute_input": "2021-11-03T02:42:05.216524Z",
     "iopub.status.busy": "2021-11-03T02:42:05.215868Z",
     "iopub.status.idle": "2021-11-03T02:42:05.394358Z",
     "shell.execute_reply": "2021-11-03T02:42:05.394840Z"
>>>>>>> d670ebb19cfa4079e6548492fc4a6771210837ee
    }
   },
   "outputs": [
    {
     "data": {
      "text/plain": [
       "array([1, 2, 3, 4])"
      ]
     },
     "execution_count": 1,
     "metadata": {},
     "output_type": "execute_result"
    }
   ],
   "source": [
    "import numpy as np\n",
    "\n",
    "np.array([1, 2, 3, 4])"
   ]
  },
  {
   "cell_type": "markdown",
<<<<<<< HEAD
   "id": "a370ac62",
=======
   "id": "0203c036",
>>>>>>> d670ebb19cfa4079e6548492fc4a6771210837ee
   "metadata": {},
   "source": [
    "Los arreglos pueden ser también multidimensionales:"
   ]
  },
  {
   "cell_type": "code",
   "execution_count": 2,
<<<<<<< HEAD
   "id": "a4196704",
   "metadata": {
    "execution": {
     "iopub.execute_input": "2021-09-16T21:31:10.758496Z",
     "iopub.status.busy": "2021-09-16T21:31:10.757953Z",
     "iopub.status.idle": "2021-09-16T21:31:10.761116Z",
     "shell.execute_reply": "2021-09-16T21:31:10.761557Z"
=======
   "id": "15d175b4",
   "metadata": {
    "execution": {
     "iopub.execute_input": "2021-11-03T02:42:05.400595Z",
     "iopub.status.busy": "2021-11-03T02:42:05.400075Z",
     "iopub.status.idle": "2021-11-03T02:42:05.406436Z",
     "shell.execute_reply": "2021-11-03T02:42:05.405934Z"
>>>>>>> d670ebb19cfa4079e6548492fc4a6771210837ee
    }
   },
   "outputs": [
    {
     "data": {
      "text/plain": [
       "array([[1, 2, 3, 4],\n",
       "       [5, 6, 7, 8]])"
      ]
     },
     "execution_count": 2,
     "metadata": {},
     "output_type": "execute_result"
    }
   ],
   "source": [
    "np.array([[1, 2, 3, 4], [5, 6, 7, 8]])"
   ]
  },
  {
   "cell_type": "markdown",
<<<<<<< HEAD
   "id": "865d143a",
=======
   "id": "1a8cdd9f",
>>>>>>> d670ebb19cfa4079e6548492fc4a6771210837ee
   "metadata": {},
   "source": [
    "Es importante tener en cuenta que un arreglo de numpy tiene un tipo fijo de datos, entonces si se quiere agregar un dato de un tipo diferente al de la mayoría, este va a ser modificado para adaptarse al resto"
   ]
  },
  {
   "cell_type": "code",
   "execution_count": 3,
<<<<<<< HEAD
   "id": "e2ce8395",
   "metadata": {
    "execution": {
     "iopub.execute_input": "2021-09-16T21:31:10.766151Z",
     "iopub.status.busy": "2021-09-16T21:31:10.765596Z",
     "iopub.status.idle": "2021-09-16T21:31:10.767280Z",
     "shell.execute_reply": "2021-09-16T21:31:10.767732Z"
=======
   "id": "4e9f0bb4",
   "metadata": {
    "execution": {
     "iopub.execute_input": "2021-11-03T02:42:05.410523Z",
     "iopub.status.busy": "2021-11-03T02:42:05.409965Z",
     "iopub.status.idle": "2021-11-03T02:42:05.411843Z",
     "shell.execute_reply": "2021-11-03T02:42:05.412329Z"
>>>>>>> d670ebb19cfa4079e6548492fc4a6771210837ee
    }
   },
   "outputs": [],
   "source": [
    "enteros = np.array([1, 2, 3, 4])"
   ]
  },
  {
   "cell_type": "markdown",
<<<<<<< HEAD
   "id": "5cc7b538",
=======
   "id": "a63d1f2f",
>>>>>>> d670ebb19cfa4079e6548492fc4a6771210837ee
   "metadata": {},
   "source": [
    "Agrego un elemento de tipo flotante en la posición 1"
   ]
  },
  {
   "cell_type": "code",
   "execution_count": 4,
<<<<<<< HEAD
   "id": "0a92088b",
   "metadata": {
    "execution": {
     "iopub.execute_input": "2021-09-16T21:31:10.772534Z",
     "iopub.status.busy": "2021-09-16T21:31:10.771989Z",
     "iopub.status.idle": "2021-09-16T21:31:10.774981Z",
     "shell.execute_reply": "2021-09-16T21:31:10.774421Z"
=======
   "id": "58168a4b",
   "metadata": {
    "execution": {
     "iopub.execute_input": "2021-11-03T02:42:05.417721Z",
     "iopub.status.busy": "2021-11-03T02:42:05.417147Z",
     "iopub.status.idle": "2021-11-03T02:42:05.419742Z",
     "shell.execute_reply": "2021-11-03T02:42:05.420192Z"
>>>>>>> d670ebb19cfa4079e6548492fc4a6771210837ee
    }
   },
   "outputs": [
    {
     "data": {
      "text/plain": [
       "array([1, 8, 3, 4])"
      ]
     },
     "execution_count": 4,
     "metadata": {},
     "output_type": "execute_result"
    }
   ],
   "source": [
    "enteros[1] = 8.4727\n",
    "enteros"
   ]
  },
  {
   "cell_type": "markdown",
<<<<<<< HEAD
   "id": "116c1bb3",
=======
   "id": "8fc1d85e",
>>>>>>> d670ebb19cfa4079e6548492fc4a6771210837ee
   "metadata": {},
   "source": [
    "Numpy también nos permite crear arreglos con valores aleatorios del 0 al 1.\n",
    "Basta con pasarle las dimensiones del arreglo que queremos crear."
   ]
  },
  {
   "cell_type": "code",
   "execution_count": 5,
<<<<<<< HEAD
   "id": "1dae16c4",
   "metadata": {
    "execution": {
     "iopub.execute_input": "2021-09-16T21:31:10.780176Z",
     "iopub.status.busy": "2021-09-16T21:31:10.779617Z",
     "iopub.status.idle": "2021-09-16T21:31:10.781724Z",
     "shell.execute_reply": "2021-09-16T21:31:10.782171Z"
=======
   "id": "4fcc91a5",
   "metadata": {
    "execution": {
     "iopub.execute_input": "2021-11-03T02:42:05.425589Z",
     "iopub.status.busy": "2021-11-03T02:42:05.424791Z",
     "iopub.status.idle": "2021-11-03T02:42:05.428698Z",
     "shell.execute_reply": "2021-11-03T02:42:05.429145Z"
>>>>>>> d670ebb19cfa4079e6548492fc4a6771210837ee
    }
   },
   "outputs": [
    {
     "data": {
      "text/plain": [
<<<<<<< HEAD
       "array([[0.8863649 , 0.80326391, 0.0370569 ],\n",
       "       [0.44683271, 0.82128515, 0.72332224]])"
=======
       "array([[0.54810774, 0.59504224, 0.44332798],\n",
       "       [0.35281343, 0.74093002, 0.0700553 ]])"
>>>>>>> d670ebb19cfa4079e6548492fc4a6771210837ee
      ]
     },
     "execution_count": 5,
     "metadata": {},
     "output_type": "execute_result"
    }
   ],
   "source": [
    "np.random.rand(2, 3)"
   ]
  },
  {
   "cell_type": "markdown",
<<<<<<< HEAD
   "id": "93617ac6",
=======
   "id": "6cfcfa00",
>>>>>>> d670ebb19cfa4079e6548492fc4a6771210837ee
   "metadata": {},
   "source": [
    "## Slicing\n",
    "\n",
    "De la misma forma que con las listas de python, pueden obtenerse slices de los arreglos de numpy"
   ]
  },
  {
   "cell_type": "code",
   "execution_count": 6,
<<<<<<< HEAD
   "id": "2b25bf9a",
   "metadata": {
    "execution": {
     "iopub.execute_input": "2021-09-16T21:31:10.787425Z",
     "iopub.status.busy": "2021-09-16T21:31:10.786657Z",
     "iopub.status.idle": "2021-09-16T21:31:10.789661Z",
     "shell.execute_reply": "2021-09-16T21:31:10.790078Z"
=======
   "id": "9349c5d9",
   "metadata": {
    "execution": {
     "iopub.execute_input": "2021-11-03T02:42:05.433450Z",
     "iopub.status.busy": "2021-11-03T02:42:05.432895Z",
     "iopub.status.idle": "2021-11-03T02:42:05.435538Z",
     "shell.execute_reply": "2021-11-03T02:42:05.436017Z"
>>>>>>> d670ebb19cfa4079e6548492fc4a6771210837ee
    },
    "lines_to_next_cell": 2
   },
   "outputs": [
    {
     "data": {
      "text/plain": [
       "array([1, 8])"
      ]
     },
     "execution_count": 6,
     "metadata": {},
     "output_type": "execute_result"
    }
   ],
   "source": [
    "enteros[:2]"
   ]
  },
  {
   "cell_type": "code",
   "execution_count": 7,
<<<<<<< HEAD
   "id": "81d98173",
   "metadata": {
    "execution": {
     "iopub.execute_input": "2021-09-16T21:31:10.798280Z",
     "iopub.status.busy": "2021-09-16T21:31:10.796814Z",
     "iopub.status.idle": "2021-09-16T21:31:10.800221Z",
     "shell.execute_reply": "2021-09-16T21:31:10.799742Z"
=======
   "id": "44cc24d0",
   "metadata": {
    "execution": {
     "iopub.execute_input": "2021-11-03T02:42:05.442162Z",
     "iopub.status.busy": "2021-11-03T02:42:05.441556Z",
     "iopub.status.idle": "2021-11-03T02:42:05.446872Z",
     "shell.execute_reply": "2021-11-03T02:42:05.446286Z"
>>>>>>> d670ebb19cfa4079e6548492fc4a6771210837ee
    }
   },
   "outputs": [
    {
     "name": "stdout",
     "output_type": "stream",
     "text": [
      "Original: \n",
      "[[ 1  2  3  4]\n",
      " [ 5  6  7  8]\n",
      " [ 9 10 11 12]]\n",
      "\n",
      "Recortada: \n",
      "[[1 2 3]\n",
      " [5 6 7]]\n"
     ]
    }
   ],
   "source": [
    "matriz_de_enteros = np.array([[1, 2, 3, 4], [5, 6, 7, 8], [9, 10, 11, 12]])\n",
    "\n",
    "print('Original: ')\n",
    "print(matriz_de_enteros)\n",
    "\n",
    "print()\n",
    "\n",
    "print('Recortada: ')\n",
    "print(matriz_de_enteros[:2, :3])"
   ]
  },
  {
   "cell_type": "code",
   "execution_count": 8,
<<<<<<< HEAD
   "id": "e46d6a6c",
   "metadata": {
    "execution": {
     "iopub.execute_input": "2021-09-16T21:31:10.806686Z",
     "iopub.status.busy": "2021-09-16T21:31:10.805704Z",
     "iopub.status.idle": "2021-09-16T21:31:10.808833Z",
     "shell.execute_reply": "2021-09-16T21:31:10.808371Z"
=======
   "id": "0e8b4e2b",
   "metadata": {
    "execution": {
     "iopub.execute_input": "2021-11-03T02:42:05.452432Z",
     "iopub.status.busy": "2021-11-03T02:42:05.450484Z",
     "iopub.status.idle": "2021-11-03T02:42:05.455423Z",
     "shell.execute_reply": "2021-11-03T02:42:05.455877Z"
>>>>>>> d670ebb19cfa4079e6548492fc4a6771210837ee
    }
   },
   "outputs": [
    {
     "data": {
      "text/plain": [
       "array([[[ 0,  1,  2,  3,  4],\n",
       "        [ 5,  6,  7,  8,  9],\n",
       "        [10, 11, 12, 13, 14]],\n",
       "\n",
       "       [[15, 16, 17, 18, 19],\n",
       "        [20, 21, 22, 23, 24],\n",
       "        [25, 26, 27, 28, 29]],\n",
       "\n",
       "       [[30, 31, 32, 33, 34],\n",
       "        [35, 36, 37, 38, 39],\n",
       "        [40, 41, 42, 43, 44]]])"
      ]
     },
     "execution_count": 8,
     "metadata": {},
     "output_type": "execute_result"
    }
   ],
   "source": [
    "# 3D\n",
    "# arange() genera valores de un intervalo pasado por parámetro\n",
    "# reshape() modifica la forma del numpy array\n",
    "\n",
    "x = np.arange(45).reshape(3, 3, 5)\n",
    "x"
   ]
  },
  {
   "cell_type": "code",
   "execution_count": 9,
<<<<<<< HEAD
   "id": "97fe0db1",
   "metadata": {
    "execution": {
     "iopub.execute_input": "2021-09-16T21:31:10.814843Z",
     "iopub.status.busy": "2021-09-16T21:31:10.813479Z",
     "iopub.status.idle": "2021-09-16T21:31:10.816853Z",
     "shell.execute_reply": "2021-09-16T21:31:10.816374Z"
=======
   "id": "fd9b587b",
   "metadata": {
    "execution": {
     "iopub.execute_input": "2021-11-03T02:42:05.461617Z",
     "iopub.status.busy": "2021-11-03T02:42:05.460663Z",
     "iopub.status.idle": "2021-11-03T02:42:05.464462Z",
     "shell.execute_reply": "2021-11-03T02:42:05.463965Z"
>>>>>>> d670ebb19cfa4079e6548492fc4a6771210837ee
    }
   },
   "outputs": [
    {
     "data": {
      "text/plain": [
       "array([[ 0,  1,  2,  3,  4],\n",
       "       [ 5,  6,  7,  8,  9],\n",
       "       [10, 11, 12, 13, 14]])"
      ]
     },
     "execution_count": 9,
     "metadata": {},
     "output_type": "execute_result"
    }
   ],
   "source": [
    "x[0]"
   ]
  },
  {
   "cell_type": "code",
   "execution_count": 10,
<<<<<<< HEAD
   "id": "c972a582",
   "metadata": {
    "execution": {
     "iopub.execute_input": "2021-09-16T21:31:10.822388Z",
     "iopub.status.busy": "2021-09-16T21:31:10.821402Z",
     "iopub.status.idle": "2021-09-16T21:31:10.824740Z",
     "shell.execute_reply": "2021-09-16T21:31:10.824248Z"
=======
   "id": "8a95df3d",
   "metadata": {
    "execution": {
     "iopub.execute_input": "2021-11-03T02:42:05.470590Z",
     "iopub.status.busy": "2021-11-03T02:42:05.469553Z",
     "iopub.status.idle": "2021-11-03T02:42:05.472961Z",
     "shell.execute_reply": "2021-11-03T02:42:05.473379Z"
>>>>>>> d670ebb19cfa4079e6548492fc4a6771210837ee
    }
   },
   "outputs": [
    {
     "data": {
      "text/plain": [
       "array([5, 6, 7, 8, 9])"
      ]
     },
     "execution_count": 10,
     "metadata": {},
     "output_type": "execute_result"
    }
   ],
   "source": [
    "x[0][1]"
   ]
  },
  {
   "cell_type": "code",
   "execution_count": 11,
<<<<<<< HEAD
   "id": "48f6598b",
   "metadata": {
    "execution": {
     "iopub.execute_input": "2021-09-16T21:31:10.830178Z",
     "iopub.status.busy": "2021-09-16T21:31:10.829254Z",
     "iopub.status.idle": "2021-09-16T21:31:10.831782Z",
     "shell.execute_reply": "2021-09-16T21:31:10.832237Z"
=======
   "id": "81e23229",
   "metadata": {
    "execution": {
     "iopub.execute_input": "2021-11-03T02:42:05.479162Z",
     "iopub.status.busy": "2021-11-03T02:42:05.478285Z",
     "iopub.status.idle": "2021-11-03T02:42:05.481729Z",
     "shell.execute_reply": "2021-11-03T02:42:05.482183Z"
>>>>>>> d670ebb19cfa4079e6548492fc4a6771210837ee
    }
   },
   "outputs": [
    {
     "data": {
      "text/plain": [
       "7"
      ]
     },
     "execution_count": 11,
     "metadata": {},
     "output_type": "execute_result"
    }
   ],
   "source": [
    "x[0][1][2]"
   ]
  },
  {
   "cell_type": "markdown",
<<<<<<< HEAD
   "id": "3ffbc9c3",
=======
   "id": "9db0a6e5",
>>>>>>> d670ebb19cfa4079e6548492fc4a6771210837ee
   "metadata": {},
   "source": [
    "\n",
    "¿Cómo conseguimos estos valores? ([fuente](https://towardsdatascience.com/indexing-and-slicing-of-1d-2d-and-3d-arrays-in-numpy-e731afff0bbe))\n",
    "\n",
    "![title](img/matrix.png)"
   ]
  },
  {
   "cell_type": "code",
   "execution_count": 12,
<<<<<<< HEAD
   "id": "4634a887",
   "metadata": {
    "execution": {
     "iopub.execute_input": "2021-09-16T21:31:10.838005Z",
     "iopub.status.busy": "2021-09-16T21:31:10.837051Z",
     "iopub.status.idle": "2021-09-16T21:31:10.840137Z",
     "shell.execute_reply": "2021-09-16T21:31:10.839692Z"
=======
   "id": "357bca95",
   "metadata": {
    "execution": {
     "iopub.execute_input": "2021-11-03T02:42:05.488332Z",
     "iopub.status.busy": "2021-11-03T02:42:05.487304Z",
     "iopub.status.idle": "2021-11-03T02:42:05.490682Z",
     "shell.execute_reply": "2021-11-03T02:42:05.491150Z"
>>>>>>> d670ebb19cfa4079e6548492fc4a6771210837ee
    }
   },
   "outputs": [
    {
     "data": {
      "text/plain": [
       "array([[[16, 17, 18],\n",
       "        [21, 22, 23]],\n",
       "\n",
       "       [[31, 32, 33],\n",
       "        [36, 37, 38]]])"
      ]
     },
     "execution_count": 12,
     "metadata": {},
     "output_type": "execute_result"
    }
   ],
   "source": [
    "x[1:, 0:2, 1:4]"
   ]
  },
  {
   "cell_type": "markdown",
<<<<<<< HEAD
   "id": "0ee45294",
=======
   "id": "26ca8e6f",
>>>>>>> d670ebb19cfa4079e6548492fc4a6771210837ee
   "metadata": {},
   "source": [
    "### Copia de arreglos"
   ]
  },
  {
   "cell_type": "code",
   "execution_count": 13,
<<<<<<< HEAD
   "id": "d12ffba9",
   "metadata": {
    "execution": {
     "iopub.execute_input": "2021-09-16T21:31:10.846469Z",
     "iopub.status.busy": "2021-09-16T21:31:10.845333Z",
     "iopub.status.idle": "2021-09-16T21:31:10.848393Z",
     "shell.execute_reply": "2021-09-16T21:31:10.847925Z"
=======
   "id": "d5929ab6",
   "metadata": {
    "execution": {
     "iopub.execute_input": "2021-11-03T02:42:05.497655Z",
     "iopub.status.busy": "2021-11-03T02:42:05.496644Z",
     "iopub.status.idle": "2021-11-03T02:42:05.500210Z",
     "shell.execute_reply": "2021-11-03T02:42:05.499770Z"
>>>>>>> d670ebb19cfa4079e6548492fc4a6771210837ee
    }
   },
   "outputs": [
    {
     "data": {
      "text/plain": [
       "array([1, 2, 3, 4])"
      ]
     },
     "execution_count": 13,
     "metadata": {},
     "output_type": "execute_result"
    }
   ],
   "source": [
    "# Los arreglos no se copian con asignación\n",
    "\n",
    "a = np.array([1, 2, 3, 4])\n",
    "b = a\n",
    "b"
   ]
  },
  {
   "cell_type": "code",
   "execution_count": 14,
<<<<<<< HEAD
   "id": "8cbad353",
   "metadata": {
    "execution": {
     "iopub.execute_input": "2021-09-16T21:31:10.853172Z",
     "iopub.status.busy": "2021-09-16T21:31:10.850516Z",
     "iopub.status.idle": "2021-09-16T21:31:10.855375Z",
     "shell.execute_reply": "2021-09-16T21:31:10.855822Z"
=======
   "id": "6f8e32d2",
   "metadata": {
    "execution": {
     "iopub.execute_input": "2021-11-03T02:42:05.505765Z",
     "iopub.status.busy": "2021-11-03T02:42:05.504786Z",
     "iopub.status.idle": "2021-11-03T02:42:05.508166Z",
     "shell.execute_reply": "2021-11-03T02:42:05.508588Z"
>>>>>>> d670ebb19cfa4079e6548492fc4a6771210837ee
    }
   },
   "outputs": [
    {
     "data": {
      "text/plain": [
       "array([ 1, 20,  3,  4])"
      ]
     },
     "execution_count": 14,
     "metadata": {},
     "output_type": "execute_result"
    }
   ],
   "source": [
    "b[1] = 20\n",
    "b"
   ]
  },
  {
   "cell_type": "code",
   "execution_count": 15,
<<<<<<< HEAD
   "id": "71539d2e",
   "metadata": {
    "execution": {
     "iopub.execute_input": "2021-09-16T21:31:10.861210Z",
     "iopub.status.busy": "2021-09-16T21:31:10.860206Z",
     "iopub.status.idle": "2021-09-16T21:31:10.862885Z",
     "shell.execute_reply": "2021-09-16T21:31:10.863334Z"
=======
   "id": "a6a09511",
   "metadata": {
    "execution": {
     "iopub.execute_input": "2021-11-03T02:42:05.514759Z",
     "iopub.status.busy": "2021-11-03T02:42:05.513548Z",
     "iopub.status.idle": "2021-11-03T02:42:05.517385Z",
     "shell.execute_reply": "2021-11-03T02:42:05.516880Z"
>>>>>>> d670ebb19cfa4079e6548492fc4a6771210837ee
    }
   },
   "outputs": [
    {
     "data": {
      "text/plain": [
       "array([ 1, 20,  3,  4])"
      ]
     },
     "execution_count": 15,
     "metadata": {},
     "output_type": "execute_result"
    }
   ],
   "source": [
    "a"
   ]
  },
  {
   "cell_type": "code",
   "execution_count": 16,
<<<<<<< HEAD
   "id": "dc45e407",
   "metadata": {
    "execution": {
     "iopub.execute_input": "2021-09-16T21:31:10.868580Z",
     "iopub.status.busy": "2021-09-16T21:31:10.868010Z",
     "iopub.status.idle": "2021-09-16T21:31:10.870167Z",
     "shell.execute_reply": "2021-09-16T21:31:10.870617Z"
=======
   "id": "c90f31eb",
   "metadata": {
    "execution": {
     "iopub.execute_input": "2021-11-03T02:42:05.523779Z",
     "iopub.status.busy": "2021-11-03T02:42:05.522981Z",
     "iopub.status.idle": "2021-11-03T02:42:05.526241Z",
     "shell.execute_reply": "2021-11-03T02:42:05.526701Z"
>>>>>>> d670ebb19cfa4079e6548492fc4a6771210837ee
    }
   },
   "outputs": [
    {
     "data": {
      "text/plain": [
       "array([ 1, 20,  3,  4])"
      ]
     },
     "execution_count": 16,
     "metadata": {},
     "output_type": "execute_result"
    }
   ],
   "source": [
    "# Para copiar un arreglo a otra variable debemos usar copy()\n",
    "\n",
    "a = np.array([1, 2, 3, 4])\n",
    "b = a.copy()\n",
    "b[1] = 20\n",
    "b"
   ]
  },
  {
   "cell_type": "code",
   "execution_count": 17,
<<<<<<< HEAD
   "id": "9e3967d9",
   "metadata": {
    "execution": {
     "iopub.execute_input": "2021-09-16T21:31:10.875096Z",
     "iopub.status.busy": "2021-09-16T21:31:10.874521Z",
     "iopub.status.idle": "2021-09-16T21:31:10.876726Z",
     "shell.execute_reply": "2021-09-16T21:31:10.877202Z"
=======
   "id": "d0b2564e",
   "metadata": {
    "execution": {
     "iopub.execute_input": "2021-11-03T02:42:05.530863Z",
     "iopub.status.busy": "2021-11-03T02:42:05.530309Z",
     "iopub.status.idle": "2021-11-03T02:42:05.532724Z",
     "shell.execute_reply": "2021-11-03T02:42:05.533216Z"
>>>>>>> d670ebb19cfa4079e6548492fc4a6771210837ee
    }
   },
   "outputs": [
    {
     "data": {
      "text/plain": [
       "array([1, 2, 3, 4])"
      ]
     },
     "execution_count": 17,
     "metadata": {},
     "output_type": "execute_result"
    }
   ],
   "source": [
    "a"
   ]
  },
  {
   "cell_type": "markdown",
<<<<<<< HEAD
   "id": "d64b7301",
=======
   "id": "ce0b84ec",
>>>>>>> d670ebb19cfa4079e6548492fc4a6771210837ee
   "metadata": {},
   "source": [
    "### Modificación de dimensiones"
   ]
  },
  {
   "cell_type": "markdown",
<<<<<<< HEAD
   "id": "e543eb1c",
=======
   "id": "d7fb1c5a",
>>>>>>> d670ebb19cfa4079e6548492fc4a6771210837ee
   "metadata": {},
   "source": [
    "Existen varias operaciones para cambiar la forma de un arreglo de numpy"
   ]
  },
  {
   "cell_type": "code",
   "execution_count": 18,
<<<<<<< HEAD
   "id": "12b5a063",
   "metadata": {
    "execution": {
     "iopub.execute_input": "2021-09-16T21:31:10.881606Z",
     "iopub.status.busy": "2021-09-16T21:31:10.881000Z",
     "iopub.status.idle": "2021-09-16T21:31:10.883966Z",
     "shell.execute_reply": "2021-09-16T21:31:10.883441Z"
=======
   "id": "b5834331",
   "metadata": {
    "execution": {
     "iopub.execute_input": "2021-11-03T02:42:05.537556Z",
     "iopub.status.busy": "2021-11-03T02:42:05.537000Z",
     "iopub.status.idle": "2021-11-03T02:42:05.539760Z",
     "shell.execute_reply": "2021-11-03T02:42:05.540235Z"
>>>>>>> d670ebb19cfa4079e6548492fc4a6771210837ee
    }
   },
   "outputs": [
    {
     "data": {
      "text/plain": [
       "array([[ 1,  2,  3,  4],\n",
       "       [ 5,  6,  7,  8],\n",
       "       [ 9, 10, 11, 12]])"
      ]
     },
     "execution_count": 18,
     "metadata": {},
     "output_type": "execute_result"
    }
   ],
   "source": [
    "matriz_de_enteros"
   ]
  },
  {
   "cell_type": "code",
   "execution_count": 19,
<<<<<<< HEAD
   "id": "a5537a54",
   "metadata": {
    "execution": {
     "iopub.execute_input": "2021-09-16T21:31:10.889339Z",
     "iopub.status.busy": "2021-09-16T21:31:10.886673Z",
     "iopub.status.idle": "2021-09-16T21:31:10.891449Z",
     "shell.execute_reply": "2021-09-16T21:31:10.891870Z"
=======
   "id": "bcd8bffc",
   "metadata": {
    "execution": {
     "iopub.execute_input": "2021-11-03T02:42:05.544303Z",
     "iopub.status.busy": "2021-11-03T02:42:05.543748Z",
     "iopub.status.idle": "2021-11-03T02:42:05.547460Z",
     "shell.execute_reply": "2021-11-03T02:42:05.547922Z"
>>>>>>> d670ebb19cfa4079e6548492fc4a6771210837ee
    }
   },
   "outputs": [
    {
     "data": {
      "text/plain": [
       "2"
      ]
     },
     "execution_count": 19,
     "metadata": {},
     "output_type": "execute_result"
    }
   ],
   "source": [
    "# Obtener las dimensiones del arreglo\n",
    "\n",
    "matriz_de_enteros.ndim"
   ]
  },
  {
   "cell_type": "code",
   "execution_count": 20,
<<<<<<< HEAD
   "id": "1aa2c16a",
   "metadata": {
    "execution": {
     "iopub.execute_input": "2021-09-16T21:31:10.896561Z",
     "iopub.status.busy": "2021-09-16T21:31:10.895977Z",
     "iopub.status.idle": "2021-09-16T21:31:10.899072Z",
     "shell.execute_reply": "2021-09-16T21:31:10.898623Z"
=======
   "id": "20def713",
   "metadata": {
    "execution": {
     "iopub.execute_input": "2021-11-03T02:42:05.553720Z",
     "iopub.status.busy": "2021-11-03T02:42:05.553149Z",
     "iopub.status.idle": "2021-11-03T02:42:05.558648Z",
     "shell.execute_reply": "2021-11-03T02:42:05.559104Z"
>>>>>>> d670ebb19cfa4079e6548492fc4a6771210837ee
    }
   },
   "outputs": [
    {
     "data": {
      "text/plain": [
       "(3, 4)"
      ]
     },
     "execution_count": 20,
     "metadata": {},
     "output_type": "execute_result"
    }
   ],
   "source": [
    "# Obtener la forma del arreglo\n",
    "\n",
    "matriz_de_enteros.shape"
   ]
  },
  {
   "cell_type": "code",
   "execution_count": 21,
<<<<<<< HEAD
   "id": "5a68770d",
   "metadata": {
    "execution": {
     "iopub.execute_input": "2021-09-16T21:31:10.904837Z",
     "iopub.status.busy": "2021-09-16T21:31:10.904119Z",
     "iopub.status.idle": "2021-09-16T21:31:10.908847Z",
     "shell.execute_reply": "2021-09-16T21:31:10.908396Z"
=======
   "id": "418416df",
   "metadata": {
    "execution": {
     "iopub.execute_input": "2021-11-03T02:42:05.565413Z",
     "iopub.status.busy": "2021-11-03T02:42:05.564700Z",
     "iopub.status.idle": "2021-11-03T02:42:05.569100Z",
     "shell.execute_reply": "2021-11-03T02:42:05.568594Z"
>>>>>>> d670ebb19cfa4079e6548492fc4a6771210837ee
    }
   },
   "outputs": [
    {
     "name": "stdout",
     "output_type": "stream",
     "text": [
      "enteros: [ 3  6  9 12]\n"
     ]
    },
    {
     "data": {
      "text/plain": [
       "array([[ 3,  6],\n",
       "       [ 9, 12]])"
      ]
     },
     "execution_count": 21,
     "metadata": {},
     "output_type": "execute_result"
    }
   ],
   "source": [
    "# Modificar la forma de un arreglo\n",
    "\n",
    "enteros = np.array([3, 6, 9, 12])\n",
    "print(f\"enteros: {enteros}\")\n",
    "np.reshape(enteros, (2, 2))"
   ]
  },
  {
   "cell_type": "code",
   "execution_count": 22,
<<<<<<< HEAD
   "id": "db1820fd",
   "metadata": {
    "execution": {
     "iopub.execute_input": "2021-09-16T21:31:10.911525Z",
     "iopub.status.busy": "2021-09-16T21:31:10.910980Z",
     "iopub.status.idle": "2021-09-16T21:31:10.916587Z",
     "shell.execute_reply": "2021-09-16T21:31:10.916123Z"
=======
   "id": "6a45c232",
   "metadata": {
    "execution": {
     "iopub.execute_input": "2021-11-03T02:42:05.574469Z",
     "iopub.status.busy": "2021-11-03T02:42:05.573881Z",
     "iopub.status.idle": "2021-11-03T02:42:05.576610Z",
     "shell.execute_reply": "2021-11-03T02:42:05.577063Z"
>>>>>>> d670ebb19cfa4079e6548492fc4a6771210837ee
    }
   },
   "outputs": [
    {
     "data": {
      "text/plain": [
       "array([[1., 1.],\n",
       "       [1., 1.]])"
      ]
     },
     "execution_count": 22,
     "metadata": {},
     "output_type": "execute_result"
    }
   ],
   "source": [
    "# Aplanar un arreglo\n",
    "\n",
    "a = np.ones((2, 2))\n",
    "a"
   ]
  },
  {
   "cell_type": "code",
   "execution_count": 23,
<<<<<<< HEAD
   "id": "7cdbf1cc",
   "metadata": {
    "execution": {
     "iopub.execute_input": "2021-09-16T21:31:10.921388Z",
     "iopub.status.busy": "2021-09-16T21:31:10.918615Z",
     "iopub.status.idle": "2021-09-16T21:31:10.924104Z",
     "shell.execute_reply": "2021-09-16T21:31:10.925255Z"
=======
   "id": "a128bff7",
   "metadata": {
    "execution": {
     "iopub.execute_input": "2021-11-03T02:42:05.580292Z",
     "iopub.status.busy": "2021-11-03T02:42:05.579720Z",
     "iopub.status.idle": "2021-11-03T02:42:05.584263Z",
     "shell.execute_reply": "2021-11-03T02:42:05.584817Z"
>>>>>>> d670ebb19cfa4079e6548492fc4a6771210837ee
    }
   },
   "outputs": [
    {
     "data": {
      "text/plain": [
       "array([1., 1., 1., 1.])"
      ]
     },
     "execution_count": 23,
     "metadata": {},
     "output_type": "execute_result"
    }
   ],
   "source": [
    "a.flatten()"
   ]
  },
  {
   "cell_type": "code",
   "execution_count": 24,
<<<<<<< HEAD
   "id": "12d8c42d",
   "metadata": {
    "execution": {
     "iopub.execute_input": "2021-09-16T21:31:10.929920Z",
     "iopub.status.busy": "2021-09-16T21:31:10.927478Z",
     "iopub.status.idle": "2021-09-16T21:31:10.932447Z",
     "shell.execute_reply": "2021-09-16T21:31:10.932898Z"
=======
   "id": "fc310bb6",
   "metadata": {
    "execution": {
     "iopub.execute_input": "2021-11-03T02:42:05.587845Z",
     "iopub.status.busy": "2021-11-03T02:42:05.587282Z",
     "iopub.status.idle": "2021-11-03T02:42:05.597697Z",
     "shell.execute_reply": "2021-11-03T02:42:05.598193Z"
>>>>>>> d670ebb19cfa4079e6548492fc4a6771210837ee
    },
    "lines_to_next_cell": 2
   },
   "outputs": [
    {
     "data": {
      "text/plain": [
       "array([[1., 1.],\n",
       "       [1., 1.]])"
      ]
     },
     "execution_count": 24,
     "metadata": {},
     "output_type": "execute_result"
    }
   ],
   "source": [
    "a"
   ]
  },
  {
   "cell_type": "markdown",
<<<<<<< HEAD
   "id": "1954802c",
=======
   "id": "529a6dcb",
>>>>>>> d670ebb19cfa4079e6548492fc4a6771210837ee
   "metadata": {},
   "source": [
    "### Combinación de arreglos (Stacking)"
   ]
  },
  {
   "cell_type": "code",
   "execution_count": 25,
<<<<<<< HEAD
   "id": "735b356a",
   "metadata": {
    "execution": {
     "iopub.execute_input": "2021-09-16T21:31:10.937111Z",
     "iopub.status.busy": "2021-09-16T21:31:10.935867Z",
     "iopub.status.idle": "2021-09-16T21:31:10.942202Z",
     "shell.execute_reply": "2021-09-16T21:31:10.941574Z"
=======
   "id": "1d058d19",
   "metadata": {
    "execution": {
     "iopub.execute_input": "2021-11-03T02:42:05.603425Z",
     "iopub.status.busy": "2021-11-03T02:42:05.602871Z",
     "iopub.status.idle": "2021-11-03T02:42:05.605674Z",
     "shell.execute_reply": "2021-11-03T02:42:05.606134Z"
>>>>>>> d670ebb19cfa4079e6548492fc4a6771210837ee
    }
   },
   "outputs": [
    {
     "data": {
      "text/plain": [
       "array([0, 1, 2, 3, 4])"
      ]
     },
     "execution_count": 25,
     "metadata": {},
     "output_type": "execute_result"
    }
   ],
   "source": [
    "# Los arreglos se pueden combinar verticalmente (se incrementa la cantidad de filas)\n",
    "\n",
    "a = np.arange(0, 5)\n",
    "a"
   ]
  },
  {
   "cell_type": "code",
   "execution_count": 26,
<<<<<<< HEAD
   "id": "fcd421b6",
   "metadata": {
    "execution": {
     "iopub.execute_input": "2021-09-16T21:31:10.947749Z",
     "iopub.status.busy": "2021-09-16T21:31:10.946939Z",
     "iopub.status.idle": "2021-09-16T21:31:10.949094Z",
     "shell.execute_reply": "2021-09-16T21:31:10.949520Z"
=======
   "id": "abb25012",
   "metadata": {
    "execution": {
     "iopub.execute_input": "2021-11-03T02:42:05.611194Z",
     "iopub.status.busy": "2021-11-03T02:42:05.610638Z",
     "iopub.status.idle": "2021-11-03T02:42:05.616648Z",
     "shell.execute_reply": "2021-11-03T02:42:05.616133Z"
>>>>>>> d670ebb19cfa4079e6548492fc4a6771210837ee
    }
   },
   "outputs": [
    {
     "data": {
      "text/plain": [
       "array([5, 6, 7, 8, 9])"
      ]
     },
     "execution_count": 26,
     "metadata": {},
     "output_type": "execute_result"
    }
   ],
   "source": [
    "b = np.arange(5, 10)\n",
    "b"
   ]
  },
  {
   "cell_type": "code",
   "execution_count": 27,
<<<<<<< HEAD
   "id": "8413fbf9",
   "metadata": {
    "execution": {
     "iopub.execute_input": "2021-09-16T21:31:10.955473Z",
     "iopub.status.busy": "2021-09-16T21:31:10.953737Z",
     "iopub.status.idle": "2021-09-16T21:31:10.957541Z",
     "shell.execute_reply": "2021-09-16T21:31:10.958102Z"
=======
   "id": "e258d105",
   "metadata": {
    "execution": {
     "iopub.execute_input": "2021-11-03T02:42:05.621528Z",
     "iopub.status.busy": "2021-11-03T02:42:05.620973Z",
     "iopub.status.idle": "2021-11-03T02:42:05.627477Z",
     "shell.execute_reply": "2021-11-03T02:42:05.626974Z"
>>>>>>> d670ebb19cfa4079e6548492fc4a6771210837ee
    }
   },
   "outputs": [
    {
     "data": {
      "text/plain": [
       "array([[0, 1, 2, 3, 4],\n",
       "       [5, 6, 7, 8, 9]])"
      ]
     },
     "execution_count": 27,
     "metadata": {},
     "output_type": "execute_result"
    }
   ],
   "source": [
    "combinados_verticalmente = np.vstack((a, b))\n",
    "combinados_verticalmente"
   ]
  },
  {
   "cell_type": "code",
   "execution_count": 28,
<<<<<<< HEAD
   "id": "8f823165",
   "metadata": {
    "execution": {
     "iopub.execute_input": "2021-09-16T21:31:10.965690Z",
     "iopub.status.busy": "2021-09-16T21:31:10.964567Z",
     "iopub.status.idle": "2021-09-16T21:31:10.967346Z",
     "shell.execute_reply": "2021-09-16T21:31:10.967765Z"
=======
   "id": "9f1940e4",
   "metadata": {
    "execution": {
     "iopub.execute_input": "2021-11-03T02:42:05.632291Z",
     "iopub.status.busy": "2021-11-03T02:42:05.630448Z",
     "iopub.status.idle": "2021-11-03T02:42:05.635016Z",
     "shell.execute_reply": "2021-11-03T02:42:05.634549Z"
>>>>>>> d670ebb19cfa4079e6548492fc4a6771210837ee
    }
   },
   "outputs": [
    {
     "data": {
      "text/plain": [
       "array([0, 1, 2, 3, 4, 5, 6, 7, 8, 9])"
      ]
     },
     "execution_count": 28,
     "metadata": {},
     "output_type": "execute_result"
    }
   ],
   "source": [
    "# También se pueden combinar horizontalmente (se incrementa la cantidad de columnas)\n",
    "\n",
    "combinados_horizontalmente = np.hstack((a, b))\n",
    "combinados_horizontalmente"
   ]
  },
  {
   "cell_type": "markdown",
<<<<<<< HEAD
   "id": "7a950b12",
=======
   "id": "c2c83880",
>>>>>>> d670ebb19cfa4079e6548492fc4a6771210837ee
   "metadata": {},
   "source": [
    "### Operaciones matemáticas"
   ]
  },
  {
   "cell_type": "code",
   "execution_count": 29,
<<<<<<< HEAD
   "id": "34ea1ee4",
   "metadata": {
    "execution": {
     "iopub.execute_input": "2021-09-16T21:31:10.972566Z",
     "iopub.status.busy": "2021-09-16T21:31:10.972018Z",
     "iopub.status.idle": "2021-09-16T21:31:10.974333Z",
     "shell.execute_reply": "2021-09-16T21:31:10.974782Z"
=======
   "id": "32002e68",
   "metadata": {
    "execution": {
     "iopub.execute_input": "2021-11-03T02:42:05.640178Z",
     "iopub.status.busy": "2021-11-03T02:42:05.639620Z",
     "iopub.status.idle": "2021-11-03T02:42:05.646110Z",
     "shell.execute_reply": "2021-11-03T02:42:05.646585Z"
>>>>>>> d670ebb19cfa4079e6548492fc4a6771210837ee
    }
   },
   "outputs": [
    {
     "data": {
      "text/plain": [
       "array([3, 4, 5, 6])"
      ]
     },
     "execution_count": 29,
     "metadata": {},
     "output_type": "execute_result"
    }
   ],
   "source": [
    "a = np.array([1, 2, 3, 4])\n",
    "\n",
    "a + 2"
   ]
  },
  {
   "cell_type": "code",
   "execution_count": 30,
<<<<<<< HEAD
   "id": "69e72df9",
   "metadata": {
    "execution": {
     "iopub.execute_input": "2021-09-16T21:31:10.979492Z",
     "iopub.status.busy": "2021-09-16T21:31:10.977727Z",
     "iopub.status.idle": "2021-09-16T21:31:10.981298Z",
     "shell.execute_reply": "2021-09-16T21:31:10.981784Z"
=======
   "id": "041d4610",
   "metadata": {
    "execution": {
     "iopub.execute_input": "2021-11-03T02:42:05.651496Z",
     "iopub.status.busy": "2021-11-03T02:42:05.650942Z",
     "iopub.status.idle": "2021-11-03T02:42:05.656349Z",
     "shell.execute_reply": "2021-11-03T02:42:05.656813Z"
>>>>>>> d670ebb19cfa4079e6548492fc4a6771210837ee
    }
   },
   "outputs": [
    {
     "data": {
      "text/plain": [
       "array([ 1,  4,  9, 16])"
      ]
     },
     "execution_count": 30,
     "metadata": {},
     "output_type": "execute_result"
    }
   ],
   "source": [
    "a ** 2"
   ]
  },
  {
   "cell_type": "code",
   "execution_count": 31,
<<<<<<< HEAD
   "id": "81cbc683",
   "metadata": {
    "execution": {
     "iopub.execute_input": "2021-09-16T21:31:10.987489Z",
     "iopub.status.busy": "2021-09-16T21:31:10.986937Z",
     "iopub.status.idle": "2021-09-16T21:31:10.990837Z",
     "shell.execute_reply": "2021-09-16T21:31:10.991288Z"
=======
   "id": "45e97df8",
   "metadata": {
    "execution": {
     "iopub.execute_input": "2021-11-03T02:42:05.662023Z",
     "iopub.status.busy": "2021-11-03T02:42:05.659090Z",
     "iopub.status.idle": "2021-11-03T02:42:05.665372Z",
     "shell.execute_reply": "2021-11-03T02:42:05.665864Z"
>>>>>>> d670ebb19cfa4079e6548492fc4a6771210837ee
    }
   },
   "outputs": [
    {
     "name": "stdout",
     "output_type": "stream",
     "text": [
      "b: [1. 1. 1. 1.]\n"
     ]
    },
    {
     "data": {
      "text/plain": [
       "array([2., 3., 4., 5.])"
      ]
     },
     "execution_count": 31,
     "metadata": {},
     "output_type": "execute_result"
    }
   ],
   "source": [
    "b = np.ones(4)\n",
    "print(f\"b: {b}\")\n",
    "a + b"
   ]
  },
  {
   "cell_type": "markdown",
<<<<<<< HEAD
   "id": "cd29ec25",
=======
   "id": "ff3a0c01",
>>>>>>> d670ebb19cfa4079e6548492fc4a6771210837ee
   "metadata": {},
   "source": [
    "### Estadística"
   ]
  },
  {
   "cell_type": "code",
   "execution_count": 32,
<<<<<<< HEAD
   "id": "fd79bbd2",
   "metadata": {
    "execution": {
     "iopub.execute_input": "2021-09-16T21:31:10.996718Z",
     "iopub.status.busy": "2021-09-16T21:31:10.993715Z",
     "iopub.status.idle": "2021-09-16T21:31:10.998799Z",
     "shell.execute_reply": "2021-09-16T21:31:10.999255Z"
=======
   "id": "be8e3cd1",
   "metadata": {
    "execution": {
     "iopub.execute_input": "2021-11-03T02:42:05.671138Z",
     "iopub.status.busy": "2021-11-03T02:42:05.670578Z",
     "iopub.status.idle": "2021-11-03T02:42:05.676753Z",
     "shell.execute_reply": "2021-11-03T02:42:05.676249Z"
>>>>>>> d670ebb19cfa4079e6548492fc4a6771210837ee
    }
   },
   "outputs": [
    {
     "data": {
      "text/plain": [
       "1"
      ]
     },
     "execution_count": 32,
     "metadata": {},
     "output_type": "execute_result"
    }
   ],
   "source": [
    "a = np.array([[5, 2, 1, 8], [26, 4, 17, 9]])\n",
    "\n",
    "np.min(a)"
   ]
  },
  {
   "cell_type": "code",
   "execution_count": 33,
<<<<<<< HEAD
   "id": "69c1ae42",
   "metadata": {
    "execution": {
     "iopub.execute_input": "2021-09-16T21:31:11.004528Z",
     "iopub.status.busy": "2021-09-16T21:31:11.003725Z",
     "iopub.status.idle": "2021-09-16T21:31:11.006071Z",
     "shell.execute_reply": "2021-09-16T21:31:11.006517Z"
=======
   "id": "35690029",
   "metadata": {
    "execution": {
     "iopub.execute_input": "2021-11-03T02:42:05.681603Z",
     "iopub.status.busy": "2021-11-03T02:42:05.681047Z",
     "iopub.status.idle": "2021-11-03T02:42:05.687270Z",
     "shell.execute_reply": "2021-11-03T02:42:05.687703Z"
>>>>>>> d670ebb19cfa4079e6548492fc4a6771210837ee
    }
   },
   "outputs": [
    {
     "data": {
      "text/plain": [
       "26"
      ]
     },
     "execution_count": 33,
     "metadata": {},
     "output_type": "execute_result"
    }
   ],
   "source": [
    "np.max(a)"
   ]
  },
  {
   "cell_type": "code",
   "execution_count": 34,
<<<<<<< HEAD
   "id": "6f5fd221",
   "metadata": {
    "execution": {
     "iopub.execute_input": "2021-09-16T21:31:11.011123Z",
     "iopub.status.busy": "2021-09-16T21:31:11.010202Z",
     "iopub.status.idle": "2021-09-16T21:31:11.013593Z",
     "shell.execute_reply": "2021-09-16T21:31:11.013001Z"
=======
   "id": "a7acd8b3",
   "metadata": {
    "execution": {
     "iopub.execute_input": "2021-11-03T02:42:05.692665Z",
     "iopub.status.busy": "2021-11-03T02:42:05.692110Z",
     "iopub.status.idle": "2021-11-03T02:42:05.698741Z",
     "shell.execute_reply": "2021-11-03T02:42:05.698262Z"
>>>>>>> d670ebb19cfa4079e6548492fc4a6771210837ee
    }
   },
   "outputs": [
    {
     "data": {
      "text/plain": [
       "72"
      ]
     },
     "execution_count": 34,
     "metadata": {},
     "output_type": "execute_result"
    }
   ],
   "source": [
    "np.sum(a)"
   ]
  },
  {
   "cell_type": "markdown",
<<<<<<< HEAD
   "id": "84557875",
=======
   "id": "4d9198b4",
>>>>>>> d670ebb19cfa4079e6548492fc4a6771210837ee
   "metadata": {},
   "source": [
    "### Más magia"
   ]
  },
  {
   "cell_type": "code",
   "execution_count": 35,
<<<<<<< HEAD
   "id": "7b886309",
   "metadata": {
    "execution": {
     "iopub.execute_input": "2021-09-16T21:31:11.018690Z",
     "iopub.status.busy": "2021-09-16T21:31:11.018126Z",
     "iopub.status.idle": "2021-09-16T21:31:11.020626Z",
     "shell.execute_reply": "2021-09-16T21:31:11.021095Z"
=======
   "id": "fb38b7e9",
   "metadata": {
    "execution": {
     "iopub.execute_input": "2021-11-03T02:42:05.704181Z",
     "iopub.status.busy": "2021-11-03T02:42:05.703625Z",
     "iopub.status.idle": "2021-11-03T02:42:05.708277Z",
     "shell.execute_reply": "2021-11-03T02:42:05.708735Z"
>>>>>>> d670ebb19cfa4079e6548492fc4a6771210837ee
    }
   },
   "outputs": [
    {
     "data": {
      "text/plain": [
       "array([[False, False, False,  True],\n",
       "       [ True, False,  True,  True]])"
      ]
     },
     "execution_count": 35,
     "metadata": {},
     "output_type": "execute_result"
    }
   ],
   "source": [
    "a = np.array([[5, 2, 1, 8], [26, 4, 17, 9]])\n",
    "\n",
    "a > 5"
   ]
  },
  {
   "cell_type": "code",
   "execution_count": 36,
<<<<<<< HEAD
   "id": "a0cd5c5e",
   "metadata": {
    "execution": {
     "iopub.execute_input": "2021-09-16T21:31:11.025919Z",
     "iopub.status.busy": "2021-09-16T21:31:11.025348Z",
     "iopub.status.idle": "2021-09-16T21:31:11.029565Z",
     "shell.execute_reply": "2021-09-16T21:31:11.030017Z"
=======
   "id": "873ea9c3",
   "metadata": {
    "execution": {
     "iopub.execute_input": "2021-11-03T02:42:05.713846Z",
     "iopub.status.busy": "2021-11-03T02:42:05.713266Z",
     "iopub.status.idle": "2021-11-03T02:42:05.715976Z",
     "shell.execute_reply": "2021-11-03T02:42:05.716431Z"
>>>>>>> d670ebb19cfa4079e6548492fc4a6771210837ee
    }
   },
   "outputs": [
    {
     "data": {
      "text/plain": [
       "array([ 8, 26, 17,  9])"
      ]
     },
     "execution_count": 36,
     "metadata": {},
     "output_type": "execute_result"
    }
   ],
   "source": [
    "a[a > 5]"
   ]
  },
  {
   "cell_type": "markdown",
<<<<<<< HEAD
   "id": "c5abf538",
=======
   "id": "0937e6c9",
>>>>>>> d670ebb19cfa4079e6548492fc4a6771210837ee
   "metadata": {},
   "source": [
    "### Broadcasting"
   ]
  },
  {
   "cell_type": "markdown",
<<<<<<< HEAD
   "id": "5b7f07fd",
=======
   "id": "704978de",
>>>>>>> d670ebb19cfa4079e6548492fc4a6771210837ee
   "metadata": {},
   "source": [
    "Permite realizar operaciones entre dos numpy arrays de distintas dimensiones.\n",
    "Para lograr esto, las dimensiones de los mismos deben ser compatibles. Dos dimensiones son compatibles cuando:\n",
    "1. Son iguales\n",
    "2. Alguna de las dos es 1"
   ]
  },
  {
   "cell_type": "code",
   "execution_count": 37,
<<<<<<< HEAD
   "id": "75518ca7",
   "metadata": {
    "execution": {
     "iopub.execute_input": "2021-09-16T21:31:11.035394Z",
     "iopub.status.busy": "2021-09-16T21:31:11.034681Z",
     "iopub.status.idle": "2021-09-16T21:31:11.036954Z",
     "shell.execute_reply": "2021-09-16T21:31:11.037437Z"
=======
   "id": "54679854",
   "metadata": {
    "execution": {
     "iopub.execute_input": "2021-11-03T02:42:05.723262Z",
     "iopub.status.busy": "2021-11-03T02:42:05.722709Z",
     "iopub.status.idle": "2021-11-03T02:42:05.727323Z",
     "shell.execute_reply": "2021-11-03T02:42:05.727756Z"
>>>>>>> d670ebb19cfa4079e6548492fc4a6771210837ee
    }
   },
   "outputs": [
    {
     "data": {
      "text/plain": [
       "array([[ 5,  2,  1,  8],\n",
       "       [26,  4, 17,  9]])"
      ]
     },
     "execution_count": 37,
     "metadata": {},
     "output_type": "execute_result"
    }
   ],
   "source": [
    "a = np.array([[5, 2, 1, 8], [26, 4, 17, 9]])\n",
    "a"
   ]
  },
  {
   "cell_type": "code",
   "execution_count": 38,
<<<<<<< HEAD
   "id": "f1d6b51b",
   "metadata": {
    "execution": {
     "iopub.execute_input": "2021-09-16T21:31:11.042020Z",
     "iopub.status.busy": "2021-09-16T21:31:11.041458Z",
     "iopub.status.idle": "2021-09-16T21:31:11.045065Z",
     "shell.execute_reply": "2021-09-16T21:31:11.044522Z"
=======
   "id": "df307715",
   "metadata": {
    "execution": {
     "iopub.execute_input": "2021-11-03T02:42:05.735169Z",
     "iopub.status.busy": "2021-11-03T02:42:05.733860Z",
     "iopub.status.idle": "2021-11-03T02:42:05.737356Z",
     "shell.execute_reply": "2021-11-03T02:42:05.736863Z"
>>>>>>> d670ebb19cfa4079e6548492fc4a6771210837ee
    }
   },
   "outputs": [
    {
     "name": "stdout",
     "output_type": "stream",
     "text": [
      "a: (2, 4)\n",
      "b: (4,)\n",
      "\n",
      "a + b:\n",
      " [[10  4  2 16]\n",
      " [31  6 18 17]]\n"
     ]
    }
   ],
   "source": [
    "# Armamos un array que tenga la misma cantidad de columnas que a\n",
    "b = np.array([5, 2, 1, 8])\n",
    "print(f\"a: {a.shape}\")\n",
    "print(f\"b: {b.shape}\")\n",
    "# a + b\n",
    "print()\n",
    "print(f\"a + b:\\n {a + b}\")"
   ]
  },
  {
   "cell_type": "code",
   "execution_count": 39,
<<<<<<< HEAD
   "id": "9e6ccc96",
   "metadata": {
    "execution": {
     "iopub.execute_input": "2021-09-16T21:31:11.049911Z",
     "iopub.status.busy": "2021-09-16T21:31:11.049333Z",
     "iopub.status.idle": "2021-09-16T21:31:11.127911Z",
     "shell.execute_reply": "2021-09-16T21:31:11.127424Z"
=======
   "id": "ebd81555",
   "metadata": {
    "execution": {
     "iopub.execute_input": "2021-11-03T02:42:05.742660Z",
     "iopub.status.busy": "2021-11-03T02:42:05.742100Z",
     "iopub.status.idle": "2021-11-03T02:42:05.830449Z",
     "shell.execute_reply": "2021-11-03T02:42:05.830941Z"
>>>>>>> d670ebb19cfa4079e6548492fc4a6771210837ee
    },
    "tags": [
     "raises-exception"
    ]
   },
   "outputs": [
    {
     "name": "stdout",
     "output_type": "stream",
     "text": [
      "a: (2, 4)\n",
      "b: (3,)\n"
     ]
    },
    {
     "ename": "ValueError",
     "evalue": "operands could not be broadcast together with shapes (2,4) (3,) ",
     "output_type": "error",
     "traceback": [
      "\u001b[0;31m---------------------------------------------------------------------------\u001b[0m",
      "\u001b[0;31mValueError\u001b[0m                                Traceback (most recent call last)",
<<<<<<< HEAD
      "\u001b[0;32m/tmp/ipykernel_1913/261865458.py\u001b[0m in \u001b[0;36m<module>\u001b[0;34m\u001b[0m\n\u001b[1;32m      3\u001b[0m \u001b[0mprint\u001b[0m\u001b[0;34m(\u001b[0m\u001b[0;34mf\"a: {a.shape}\"\u001b[0m\u001b[0;34m)\u001b[0m\u001b[0;34m\u001b[0m\u001b[0;34m\u001b[0m\u001b[0m\n\u001b[1;32m      4\u001b[0m \u001b[0mprint\u001b[0m\u001b[0;34m(\u001b[0m\u001b[0;34mf\"b: {b.shape}\"\u001b[0m\u001b[0;34m)\u001b[0m\u001b[0;34m\u001b[0m\u001b[0;34m\u001b[0m\u001b[0m\n\u001b[0;32m----> 5\u001b[0;31m \u001b[0ma\u001b[0m \u001b[0;34m+\u001b[0m \u001b[0mb\u001b[0m\u001b[0;34m\u001b[0m\u001b[0;34m\u001b[0m\u001b[0m\n\u001b[0m",
=======
      "\u001b[0;32m/tmp/ipykernel_2624/261865458.py\u001b[0m in \u001b[0;36m<module>\u001b[0;34m\u001b[0m\n\u001b[1;32m      3\u001b[0m \u001b[0mprint\u001b[0m\u001b[0;34m(\u001b[0m\u001b[0;34mf\"a: {a.shape}\"\u001b[0m\u001b[0;34m)\u001b[0m\u001b[0;34m\u001b[0m\u001b[0;34m\u001b[0m\u001b[0m\n\u001b[1;32m      4\u001b[0m \u001b[0mprint\u001b[0m\u001b[0;34m(\u001b[0m\u001b[0;34mf\"b: {b.shape}\"\u001b[0m\u001b[0;34m)\u001b[0m\u001b[0;34m\u001b[0m\u001b[0;34m\u001b[0m\u001b[0m\n\u001b[0;32m----> 5\u001b[0;31m \u001b[0ma\u001b[0m \u001b[0;34m+\u001b[0m \u001b[0mb\u001b[0m\u001b[0;34m\u001b[0m\u001b[0;34m\u001b[0m\u001b[0m\n\u001b[0m",
>>>>>>> d670ebb19cfa4079e6548492fc4a6771210837ee
      "\u001b[0;31mValueError\u001b[0m: operands could not be broadcast together with shapes (2,4) (3,) "
     ]
    }
   ],
   "source": [
    "# Armamos un array que tenga distinta cantidad de filas y columnas que a\n",
    "b = np.array([5, 1, 8])\n",
    "print(f\"a: {a.shape}\")\n",
    "print(f\"b: {b.shape}\")\n",
    "a + b"
   ]
  },
  {
   "cell_type": "code",
   "execution_count": 40,
<<<<<<< HEAD
   "id": "df7be83e",
   "metadata": {
    "execution": {
     "iopub.execute_input": "2021-09-16T21:31:11.133747Z",
     "iopub.status.busy": "2021-09-16T21:31:11.133105Z",
     "iopub.status.idle": "2021-09-16T21:31:11.135886Z",
     "shell.execute_reply": "2021-09-16T21:31:11.136412Z"
=======
   "id": "a3a18cd2",
   "metadata": {
    "execution": {
     "iopub.execute_input": "2021-11-03T02:42:05.839545Z",
     "iopub.status.busy": "2021-11-03T02:42:05.838468Z",
     "iopub.status.idle": "2021-11-03T02:42:05.843528Z",
     "shell.execute_reply": "2021-11-03T02:42:05.843020Z"
>>>>>>> d670ebb19cfa4079e6548492fc4a6771210837ee
    }
   },
   "outputs": [
    {
     "name": "stdout",
     "output_type": "stream",
     "text": [
      "a: (2, 4)\n",
      "b: (2, 1)\n"
     ]
    },
    {
     "data": {
      "text/plain": [
       "array([[ 7,  4,  3, 10],\n",
       "       [27,  5, 18, 10]])"
      ]
     },
     "execution_count": 40,
     "metadata": {},
     "output_type": "execute_result"
    }
   ],
   "source": [
    "# Armamos un array que tenga la misma cantidad de filas que a\n",
    "b = np.array([[2], [1]])\n",
    "print(f\"a: {a.shape}\")\n",
    "print(f\"b: {b.shape}\")\n",
    "a + b"
   ]
  },
  {
   "cell_type": "code",
   "execution_count": 41,
<<<<<<< HEAD
   "id": "a3156a45",
   "metadata": {
    "execution": {
     "iopub.execute_input": "2021-09-16T21:31:11.141262Z",
     "iopub.status.busy": "2021-09-16T21:31:11.140672Z",
     "iopub.status.idle": "2021-09-16T21:31:11.142870Z",
     "shell.execute_reply": "2021-09-16T21:31:11.143288Z"
=======
   "id": "f3c58fb7",
   "metadata": {
    "execution": {
     "iopub.execute_input": "2021-11-03T02:42:05.848286Z",
     "iopub.status.busy": "2021-11-03T02:42:05.847727Z",
     "iopub.status.idle": "2021-11-03T02:42:05.851542Z",
     "shell.execute_reply": "2021-11-03T02:42:05.852000Z"
>>>>>>> d670ebb19cfa4079e6548492fc4a6771210837ee
    }
   },
   "outputs": [
    {
     "data": {
      "text/plain": [
       "array([[ 9,  6,  5, 12],\n",
       "       [30,  8, 21, 13]])"
      ]
     },
     "execution_count": 41,
     "metadata": {},
     "output_type": "execute_result"
    }
   ],
   "source": [
    "# Si b es un entero\n",
    "b = 4\n",
    "a + b"
   ]
  },
  {
   "cell_type": "code",
   "execution_count": null,
<<<<<<< HEAD
   "id": "98d5c945",
=======
   "id": "c5dffd95",
>>>>>>> d670ebb19cfa4079e6548492fc4a6771210837ee
   "metadata": {},
   "outputs": [],
   "source": []
  }
 ],
 "metadata": {
  "jupytext": {
   "encoding": "# -*- coding: utf-8 -*-",
   "formats": "ipynb,py:light"
  },
  "kernelspec": {
   "display_name": "Python 3",
   "language": "python",
   "name": "python3"
  },
  "language_info": {
   "codemirror_mode": {
    "name": "ipython",
    "version": 3
   },
   "file_extension": ".py",
   "mimetype": "text/x-python",
   "name": "python",
   "nbconvert_exporter": "python",
   "pygments_lexer": "ipython3",
   "version": "3.7.12"
  }
 },
 "nbformat": 4,
 "nbformat_minor": 5
}
