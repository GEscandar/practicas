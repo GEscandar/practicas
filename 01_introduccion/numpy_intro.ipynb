{
 "cells": [
  {
   "cell_type": "markdown",
   "id": "f3fb670d",
   "metadata": {},
   "source": [
    "## Clase 1 - Introducción a Numpy\n",
    "\n",
    "Numpy es una biblioteca para Python que facilita el manejo de arreglos multidimensionales y ofrece varias herramientas para trabajar con ellos. Muchas de las bibliotecas de Python que son ampliamente usadas hoy en día, como pandas, están construidas sobre numpy.\n",
    "\n",
    "### Listas de Python vs arreglos de Numpy\n",
    "\n",
    "A primera vista, un arreglo de numpy puede resultar idéntico a una lista de python, pero a medida que la cantidad de datos comienza a incrementar, los arreglos de numpy terminan ofreciendo un manejo más eficiente de la memoria.\n",
    "\n",
    "Para comenzar, vamos a crear un arreglo de numpy:"
   ]
  },
  {
   "cell_type": "code",
   "execution_count": 1,
   "id": "67f59148",
   "metadata": {
    "execution": {
     "iopub.execute_input": "2021-09-28T20:15:59.306906Z",
     "iopub.status.busy": "2021-09-28T20:15:59.306322Z",
     "iopub.status.idle": "2021-09-28T20:15:59.442646Z",
     "shell.execute_reply": "2021-09-28T20:15:59.443065Z"
    }
   },
   "outputs": [
    {
     "data": {
      "text/plain": [
       "array([1, 2, 3, 4])"
      ]
     },
     "execution_count": 1,
     "metadata": {},
     "output_type": "execute_result"
    }
   ],
   "source": [
    "import numpy as np\n",
    "\n",
    "np.array([1, 2, 3, 4])"
   ]
  },
  {
   "cell_type": "markdown",
   "id": "282ca8e8",
   "metadata": {},
   "source": [
    "Los arreglos pueden ser también multidimensionales:"
   ]
  },
  {
   "cell_type": "code",
   "execution_count": 2,
   "id": "bf629b4e",
   "metadata": {
    "execution": {
     "iopub.execute_input": "2021-09-28T20:15:59.445827Z",
     "iopub.status.busy": "2021-09-28T20:15:59.445326Z",
     "iopub.status.idle": "2021-09-28T20:15:59.451383Z",
     "shell.execute_reply": "2021-09-28T20:15:59.450955Z"
    }
   },
   "outputs": [
    {
     "data": {
      "text/plain": [
       "array([[1, 2, 3, 4],\n",
       "       [5, 6, 7, 8]])"
      ]
     },
     "execution_count": 2,
     "metadata": {},
     "output_type": "execute_result"
    }
   ],
   "source": [
    "np.array([[1, 2, 3, 4], [5, 6, 7, 8]])"
   ]
  },
  {
   "cell_type": "markdown",
   "id": "ba7ccda7",
   "metadata": {},
   "source": [
    "Es importante tener en cuenta que un arreglo de numpy tiene un tipo fijo de datos, entonces si se quiere agregar un dato de un tipo diferente al de la mayoría, este va a ser modificado para adaptarse al resto"
   ]
  },
  {
   "cell_type": "code",
   "execution_count": 3,
   "id": "ba7590de",
   "metadata": {
    "execution": {
     "iopub.execute_input": "2021-09-28T20:15:59.454839Z",
     "iopub.status.busy": "2021-09-28T20:15:59.453496Z",
     "iopub.status.idle": "2021-09-28T20:15:59.456480Z",
     "shell.execute_reply": "2021-09-28T20:15:59.456912Z"
    }
   },
   "outputs": [],
   "source": [
    "enteros = np.array([1, 2, 3, 4])"
   ]
  },
  {
   "cell_type": "markdown",
   "id": "dfec9d92",
   "metadata": {},
   "source": [
    "Agrego un elemento de tipo flotante en la posición 1"
   ]
  },
  {
   "cell_type": "code",
   "execution_count": 4,
   "id": "6561a81f",
   "metadata": {
    "execution": {
     "iopub.execute_input": "2021-09-28T20:15:59.461205Z",
     "iopub.status.busy": "2021-09-28T20:15:59.460698Z",
     "iopub.status.idle": "2021-09-28T20:15:59.462891Z",
     "shell.execute_reply": "2021-09-28T20:15:59.463316Z"
    }
   },
   "outputs": [
    {
     "data": {
      "text/plain": [
       "array([1, 8, 3, 4])"
      ]
     },
     "execution_count": 4,
     "metadata": {},
     "output_type": "execute_result"
    }
   ],
   "source": [
    "enteros[1] = 8.4727\n",
    "enteros"
   ]
  },
  {
   "cell_type": "markdown",
   "id": "249af8b5",
   "metadata": {},
   "source": [
    "Numpy también nos permite crear arreglos con valores aleatorios del 0 al 1.\n",
    "Basta con pasarle las dimensiones del arreglo que queremos crear."
   ]
  },
  {
   "cell_type": "code",
   "execution_count": 5,
   "id": "ddde9fe1",
   "metadata": {
    "execution": {
     "iopub.execute_input": "2021-09-28T20:15:59.467699Z",
     "iopub.status.busy": "2021-09-28T20:15:59.467205Z",
     "iopub.status.idle": "2021-09-28T20:15:59.470222Z",
     "shell.execute_reply": "2021-09-28T20:15:59.469789Z"
    }
   },
   "outputs": [
    {
     "data": {
      "text/plain": [
       "array([[0.57791443, 0.41394606, 0.10116428],\n",
       "       [0.95939126, 0.18322253, 0.37203414]])"
      ]
     },
     "execution_count": 5,
     "metadata": {},
     "output_type": "execute_result"
    }
   ],
   "source": [
    "np.random.rand(2, 3)"
   ]
  },
  {
   "cell_type": "markdown",
   "id": "77b4f4d0",
   "metadata": {},
   "source": [
    "## Slicing\n",
    "\n",
    "De la misma forma que con las listas de python, pueden obtenerse slices de los arreglos de numpy"
   ]
  },
  {
   "cell_type": "code",
   "execution_count": 6,
   "id": "9845672b",
   "metadata": {
    "execution": {
     "iopub.execute_input": "2021-09-28T20:15:59.474390Z",
     "iopub.status.busy": "2021-09-28T20:15:59.473822Z",
     "iopub.status.idle": "2021-09-28T20:15:59.476950Z",
     "shell.execute_reply": "2021-09-28T20:15:59.476515Z"
    },
    "lines_to_next_cell": 2
   },
   "outputs": [
    {
     "data": {
      "text/plain": [
       "array([1, 8])"
      ]
     },
     "execution_count": 6,
     "metadata": {},
     "output_type": "execute_result"
    }
   ],
   "source": [
    "enteros[:2]"
   ]
  },
  {
   "cell_type": "code",
   "execution_count": 7,
   "id": "78fe8395",
   "metadata": {
    "execution": {
     "iopub.execute_input": "2021-09-28T20:15:59.482276Z",
     "iopub.status.busy": "2021-09-28T20:15:59.481776Z",
     "iopub.status.idle": "2021-09-28T20:15:59.483653Z",
     "shell.execute_reply": "2021-09-28T20:15:59.484129Z"
    }
   },
   "outputs": [
    {
     "name": "stdout",
     "output_type": "stream",
     "text": [
      "Original: \n",
      "[[ 1  2  3  4]\n",
      " [ 5  6  7  8]\n",
      " [ 9 10 11 12]]\n",
      "\n",
      "Recortada: \n",
      "[[1 2 3]\n",
      " [5 6 7]]\n"
     ]
    }
   ],
   "source": [
    "matriz_de_enteros = np.array([[1, 2, 3, 4], [5, 6, 7, 8], [9, 10, 11, 12]])\n",
    "\n",
    "print('Original: ')\n",
    "print(matriz_de_enteros)\n",
    "\n",
    "print()\n",
    "\n",
    "print('Recortada: ')\n",
    "print(matriz_de_enteros[:2, :3])"
   ]
  },
  {
   "cell_type": "code",
   "execution_count": 8,
   "id": "54a409ae",
   "metadata": {
    "execution": {
     "iopub.execute_input": "2021-09-28T20:15:59.488965Z",
     "iopub.status.busy": "2021-09-28T20:15:59.486124Z",
     "iopub.status.idle": "2021-09-28T20:15:59.491364Z",
     "shell.execute_reply": "2021-09-28T20:15:59.490929Z"
    }
   },
   "outputs": [
    {
     "data": {
      "text/plain": [
       "array([[[ 0,  1,  2,  3,  4],\n",
       "        [ 5,  6,  7,  8,  9],\n",
       "        [10, 11, 12, 13, 14]],\n",
       "\n",
       "       [[15, 16, 17, 18, 19],\n",
       "        [20, 21, 22, 23, 24],\n",
       "        [25, 26, 27, 28, 29]],\n",
       "\n",
       "       [[30, 31, 32, 33, 34],\n",
       "        [35, 36, 37, 38, 39],\n",
       "        [40, 41, 42, 43, 44]]])"
      ]
     },
     "execution_count": 8,
     "metadata": {},
     "output_type": "execute_result"
    }
   ],
   "source": [
    "# 3D\n",
    "# arange() genera valores de un intervalo pasado por parámetro\n",
    "# reshape() modifica la forma del numpy array\n",
    "\n",
    "x = np.arange(45).reshape(3, 3, 5)\n",
    "x"
   ]
  },
  {
   "cell_type": "code",
   "execution_count": 9,
   "id": "79286c58",
   "metadata": {
    "execution": {
     "iopub.execute_input": "2021-09-28T20:15:59.495220Z",
     "iopub.status.busy": "2021-09-28T20:15:59.494732Z",
     "iopub.status.idle": "2021-09-28T20:15:59.497355Z",
     "shell.execute_reply": "2021-09-28T20:15:59.497759Z"
    }
   },
   "outputs": [
    {
     "data": {
      "text/plain": [
       "array([[ 0,  1,  2,  3,  4],\n",
       "       [ 5,  6,  7,  8,  9],\n",
       "       [10, 11, 12, 13, 14]])"
      ]
     },
     "execution_count": 9,
     "metadata": {},
     "output_type": "execute_result"
    }
   ],
   "source": [
    "x[0]"
   ]
  },
  {
   "cell_type": "code",
   "execution_count": 10,
   "id": "452c1449",
   "metadata": {
    "execution": {
     "iopub.execute_input": "2021-09-28T20:15:59.501716Z",
     "iopub.status.busy": "2021-09-28T20:15:59.501233Z",
     "iopub.status.idle": "2021-09-28T20:15:59.504384Z",
     "shell.execute_reply": "2021-09-28T20:15:59.503886Z"
    }
   },
   "outputs": [
    {
     "data": {
      "text/plain": [
       "array([5, 6, 7, 8, 9])"
      ]
     },
     "execution_count": 10,
     "metadata": {},
     "output_type": "execute_result"
    }
   ],
   "source": [
    "x[0][1]"
   ]
  },
  {
   "cell_type": "code",
   "execution_count": 11,
   "id": "b10dee93",
   "metadata": {
    "execution": {
     "iopub.execute_input": "2021-09-28T20:15:59.508437Z",
     "iopub.status.busy": "2021-09-28T20:15:59.507954Z",
     "iopub.status.idle": "2021-09-28T20:15:59.510606Z",
     "shell.execute_reply": "2021-09-28T20:15:59.510182Z"
    }
   },
   "outputs": [
    {
     "data": {
      "text/plain": [
       "7"
      ]
     },
     "execution_count": 11,
     "metadata": {},
     "output_type": "execute_result"
    }
   ],
   "source": [
    "x[0][1][2]"
   ]
  },
  {
   "cell_type": "markdown",
   "id": "5da0bca4",
   "metadata": {},
   "source": [
    "\n",
    "¿Cómo conseguimos estos valores? ([fuente](https://towardsdatascience.com/indexing-and-slicing-of-1d-2d-and-3d-arrays-in-numpy-e731afff0bbe))\n",
    "\n",
    "![title](img/matrix.png)"
   ]
  },
  {
   "cell_type": "code",
   "execution_count": 12,
   "id": "63ceed40",
   "metadata": {
    "execution": {
     "iopub.execute_input": "2021-09-28T20:15:59.514963Z",
     "iopub.status.busy": "2021-09-28T20:15:59.514478Z",
     "iopub.status.idle": "2021-09-28T20:15:59.516588Z",
     "shell.execute_reply": "2021-09-28T20:15:59.517043Z"
    }
   },
   "outputs": [
    {
     "data": {
      "text/plain": [
       "array([[[16, 17, 18],\n",
       "        [21, 22, 23]],\n",
       "\n",
       "       [[31, 32, 33],\n",
       "        [36, 37, 38]]])"
      ]
     },
     "execution_count": 12,
     "metadata": {},
     "output_type": "execute_result"
    }
   ],
   "source": [
    "x[1:, 0:2, 1:4]"
   ]
  },
  {
   "cell_type": "markdown",
   "id": "55979ad5",
   "metadata": {},
   "source": [
    "### Copia de arreglos"
   ]
  },
  {
   "cell_type": "code",
   "execution_count": 13,
   "id": "0ce8488b",
   "metadata": {
    "execution": {
     "iopub.execute_input": "2021-09-28T20:15:59.521499Z",
     "iopub.status.busy": "2021-09-28T20:15:59.520999Z",
     "iopub.status.idle": "2021-09-28T20:15:59.523524Z",
     "shell.execute_reply": "2021-09-28T20:15:59.523930Z"
    }
   },
   "outputs": [
    {
     "data": {
      "text/plain": [
       "array([1, 2, 3, 4])"
      ]
     },
     "execution_count": 13,
     "metadata": {},
     "output_type": "execute_result"
    }
   ],
   "source": [
    "# Los arreglos no se copian con asignación\n",
    "\n",
    "a = np.array([1, 2, 3, 4])\n",
    "b = a\n",
    "b"
   ]
  },
  {
   "cell_type": "code",
   "execution_count": 14,
   "id": "4d275302",
   "metadata": {
    "execution": {
     "iopub.execute_input": "2021-09-28T20:15:59.528144Z",
     "iopub.status.busy": "2021-09-28T20:15:59.527636Z",
     "iopub.status.idle": "2021-09-28T20:15:59.529593Z",
     "shell.execute_reply": "2021-09-28T20:15:59.529966Z"
    }
   },
   "outputs": [
    {
     "data": {
      "text/plain": [
       "array([ 1, 20,  3,  4])"
      ]
     },
     "execution_count": 14,
     "metadata": {},
     "output_type": "execute_result"
    }
   ],
   "source": [
    "b[1] = 20\n",
    "b"
   ]
  },
  {
   "cell_type": "code",
   "execution_count": 15,
   "id": "f0ee5ad9",
   "metadata": {
    "execution": {
     "iopub.execute_input": "2021-09-28T20:15:59.533575Z",
     "iopub.status.busy": "2021-09-28T20:15:59.533079Z",
     "iopub.status.idle": "2021-09-28T20:15:59.535901Z",
     "shell.execute_reply": "2021-09-28T20:15:59.535473Z"
    }
   },
   "outputs": [
    {
     "data": {
      "text/plain": [
       "array([ 1, 20,  3,  4])"
      ]
     },
     "execution_count": 15,
     "metadata": {},
     "output_type": "execute_result"
    }
   ],
   "source": [
    "a"
   ]
  },
  {
   "cell_type": "code",
   "execution_count": 16,
   "id": "327fc620",
   "metadata": {
    "execution": {
     "iopub.execute_input": "2021-09-28T20:15:59.540347Z",
     "iopub.status.busy": "2021-09-28T20:15:59.539802Z",
     "iopub.status.idle": "2021-09-28T20:15:59.542257Z",
     "shell.execute_reply": "2021-09-28T20:15:59.542659Z"
    }
   },
   "outputs": [
    {
     "data": {
      "text/plain": [
       "array([ 1, 20,  3,  4])"
      ]
     },
     "execution_count": 16,
     "metadata": {},
     "output_type": "execute_result"
    }
   ],
   "source": [
    "# Para copiar un arreglo a otra variable debemos usar copy()\n",
    "\n",
    "a = np.array([1, 2, 3, 4])\n",
    "b = a.copy()\n",
    "b[1] = 20\n",
    "b"
   ]
  },
  {
   "cell_type": "code",
   "execution_count": 17,
   "id": "86955fb9",
   "metadata": {
    "execution": {
     "iopub.execute_input": "2021-09-28T20:15:59.546470Z",
     "iopub.status.busy": "2021-09-28T20:15:59.545988Z",
     "iopub.status.idle": "2021-09-28T20:15:59.549886Z",
     "shell.execute_reply": "2021-09-28T20:15:59.549456Z"
    }
   },
   "outputs": [
    {
     "data": {
      "text/plain": [
       "array([1, 2, 3, 4])"
      ]
     },
     "execution_count": 17,
     "metadata": {},
     "output_type": "execute_result"
    }
   ],
   "source": [
    "a"
   ]
  },
  {
   "cell_type": "markdown",
   "id": "47a1f3cf",
   "metadata": {},
   "source": [
    "### Modificación de dimensiones"
   ]
  },
  {
   "cell_type": "markdown",
   "id": "b25bda4c",
   "metadata": {},
   "source": [
    "Existen varias operaciones para cambiar la forma de un arreglo de numpy"
   ]
  },
  {
   "cell_type": "code",
   "execution_count": 18,
   "id": "5fec4219",
   "metadata": {
    "execution": {
     "iopub.execute_input": "2021-09-28T20:15:59.553652Z",
     "iopub.status.busy": "2021-09-28T20:15:59.553170Z",
     "iopub.status.idle": "2021-09-28T20:15:59.557249Z",
     "shell.execute_reply": "2021-09-28T20:15:59.556743Z"
    }
   },
   "outputs": [
    {
     "data": {
      "text/plain": [
       "array([[ 1,  2,  3,  4],\n",
       "       [ 5,  6,  7,  8],\n",
       "       [ 9, 10, 11, 12]])"
      ]
     },
     "execution_count": 18,
     "metadata": {},
     "output_type": "execute_result"
    }
   ],
   "source": [
    "matriz_de_enteros"
   ]
  },
  {
   "cell_type": "code",
   "execution_count": 19,
   "id": "5508fda1",
   "metadata": {
    "execution": {
     "iopub.execute_input": "2021-09-28T20:15:59.560834Z",
     "iopub.status.busy": "2021-09-28T20:15:59.560323Z",
     "iopub.status.idle": "2021-09-28T20:15:59.563274Z",
     "shell.execute_reply": "2021-09-28T20:15:59.562834Z"
    }
   },
   "outputs": [
    {
     "data": {
      "text/plain": [
       "2"
      ]
     },
     "execution_count": 19,
     "metadata": {},
     "output_type": "execute_result"
    }
   ],
   "source": [
    "# Obtener las dimensiones del arreglo\n",
    "\n",
    "matriz_de_enteros.ndim"
   ]
  },
  {
   "cell_type": "code",
   "execution_count": 20,
   "id": "7d43a980",
   "metadata": {
    "execution": {
     "iopub.execute_input": "2021-09-28T20:15:59.567111Z",
     "iopub.status.busy": "2021-09-28T20:15:59.566614Z",
     "iopub.status.idle": "2021-09-28T20:15:59.570610Z",
     "shell.execute_reply": "2021-09-28T20:15:59.570174Z"
    }
   },
   "outputs": [
    {
     "data": {
      "text/plain": [
       "(3, 4)"
      ]
     },
     "execution_count": 20,
     "metadata": {},
     "output_type": "execute_result"
    }
   ],
   "source": [
    "# Obtener la forma del arreglo\n",
    "\n",
    "matriz_de_enteros.shape"
   ]
  },
  {
   "cell_type": "code",
   "execution_count": 21,
   "id": "64d5de76",
   "metadata": {
    "execution": {
     "iopub.execute_input": "2021-09-28T20:15:59.575668Z",
     "iopub.status.busy": "2021-09-28T20:15:59.575176Z",
     "iopub.status.idle": "2021-09-28T20:15:59.579166Z",
     "shell.execute_reply": "2021-09-28T20:15:59.578726Z"
    }
   },
   "outputs": [
    {
     "name": "stdout",
     "output_type": "stream",
     "text": [
      "enteros: [ 3  6  9 12]\n"
     ]
    },
    {
     "data": {
      "text/plain": [
       "array([[ 3,  6],\n",
       "       [ 9, 12]])"
      ]
     },
     "execution_count": 21,
     "metadata": {},
     "output_type": "execute_result"
    }
   ],
   "source": [
    "# Modificar la forma de un arreglo\n",
    "\n",
    "enteros = np.array([3, 6, 9, 12])\n",
    "print(f\"enteros: {enteros}\")\n",
    "np.reshape(enteros, (2, 2))"
   ]
  },
  {
   "cell_type": "code",
   "execution_count": 22,
   "id": "982264d7",
   "metadata": {
    "execution": {
     "iopub.execute_input": "2021-09-28T20:15:59.583553Z",
     "iopub.status.busy": "2021-09-28T20:15:59.583060Z",
     "iopub.status.idle": "2021-09-28T20:15:59.586362Z",
     "shell.execute_reply": "2021-09-28T20:15:59.586767Z"
    }
   },
   "outputs": [
    {
     "data": {
      "text/plain": [
       "array([[1., 1.],\n",
       "       [1., 1.]])"
      ]
     },
     "execution_count": 22,
     "metadata": {},
     "output_type": "execute_result"
    }
   ],
   "source": [
    "# Aplanar un arreglo\n",
    "\n",
    "a = np.ones((2, 2))\n",
    "a"
   ]
  },
  {
   "cell_type": "code",
   "execution_count": 23,
   "id": "70125db7",
   "metadata": {
    "execution": {
     "iopub.execute_input": "2021-09-28T20:15:59.591684Z",
     "iopub.status.busy": "2021-09-28T20:15:59.590973Z",
     "iopub.status.idle": "2021-09-28T20:15:59.593411Z",
     "shell.execute_reply": "2021-09-28T20:15:59.593806Z"
    }
   },
   "outputs": [
    {
     "data": {
      "text/plain": [
       "array([1., 1., 1., 1.])"
      ]
     },
     "execution_count": 23,
     "metadata": {},
     "output_type": "execute_result"
    }
   ],
   "source": [
    "a.flatten()"
   ]
  },
  {
   "cell_type": "code",
   "execution_count": 24,
   "id": "d3fbf7df",
   "metadata": {
    "execution": {
     "iopub.execute_input": "2021-09-28T20:15:59.598452Z",
     "iopub.status.busy": "2021-09-28T20:15:59.597948Z",
     "iopub.status.idle": "2021-09-28T20:15:59.600353Z",
     "shell.execute_reply": "2021-09-28T20:15:59.600775Z"
    },
    "lines_to_next_cell": 2
   },
   "outputs": [
    {
     "data": {
      "text/plain": [
       "array([[1., 1.],\n",
       "       [1., 1.]])"
      ]
     },
     "execution_count": 24,
     "metadata": {},
     "output_type": "execute_result"
    }
   ],
   "source": [
    "a"
   ]
  },
  {
   "cell_type": "markdown",
   "id": "560840d4",
   "metadata": {},
   "source": [
    "### Combinación de arreglos (Stacking)"
   ]
  },
  {
   "cell_type": "code",
   "execution_count": 25,
   "id": "97fa2a49",
   "metadata": {
    "execution": {
     "iopub.execute_input": "2021-09-28T20:15:59.604882Z",
     "iopub.status.busy": "2021-09-28T20:15:59.604372Z",
     "iopub.status.idle": "2021-09-28T20:15:59.606638Z",
     "shell.execute_reply": "2021-09-28T20:15:59.607039Z"
    }
   },
   "outputs": [
    {
     "data": {
      "text/plain": [
       "array([0, 1, 2, 3, 4])"
      ]
     },
     "execution_count": 25,
     "metadata": {},
     "output_type": "execute_result"
    }
   ],
   "source": [
    "# Los arreglos se pueden combinar verticalmente (se incrementa la cantidad de filas)\n",
    "\n",
    "a = np.arange(0, 5)\n",
    "a"
   ]
  },
  {
   "cell_type": "code",
   "execution_count": 26,
   "id": "4feeb994",
   "metadata": {
    "execution": {
     "iopub.execute_input": "2021-09-28T20:15:59.611074Z",
     "iopub.status.busy": "2021-09-28T20:15:59.610587Z",
     "iopub.status.idle": "2021-09-28T20:15:59.616543Z",
     "shell.execute_reply": "2021-09-28T20:15:59.616094Z"
    }
   },
   "outputs": [
    {
     "data": {
      "text/plain": [
       "array([5, 6, 7, 8, 9])"
      ]
     },
     "execution_count": 26,
     "metadata": {},
     "output_type": "execute_result"
    }
   ],
   "source": [
    "b = np.arange(5, 10)\n",
    "b"
   ]
  },
  {
   "cell_type": "code",
   "execution_count": 27,
   "id": "f2abb049",
   "metadata": {
    "execution": {
     "iopub.execute_input": "2021-09-28T20:15:59.620822Z",
     "iopub.status.busy": "2021-09-28T20:15:59.620308Z",
     "iopub.status.idle": "2021-09-28T20:15:59.622955Z",
     "shell.execute_reply": "2021-09-28T20:15:59.622527Z"
    }
   },
   "outputs": [
    {
     "data": {
      "text/plain": [
       "array([[0, 1, 2, 3, 4],\n",
       "       [5, 6, 7, 8, 9]])"
      ]
     },
     "execution_count": 27,
     "metadata": {},
     "output_type": "execute_result"
    }
   ],
   "source": [
    "combinados_verticalmente = np.vstack((a, b))\n",
    "combinados_verticalmente"
   ]
  },
  {
   "cell_type": "code",
   "execution_count": 28,
   "id": "28565b86",
   "metadata": {
    "execution": {
     "iopub.execute_input": "2021-09-28T20:15:59.627257Z",
     "iopub.status.busy": "2021-09-28T20:15:59.626770Z",
     "iopub.status.idle": "2021-09-28T20:15:59.628932Z",
     "shell.execute_reply": "2021-09-28T20:15:59.629336Z"
    }
   },
   "outputs": [
    {
     "data": {
      "text/plain": [
       "array([0, 1, 2, 3, 4, 5, 6, 7, 8, 9])"
      ]
     },
     "execution_count": 28,
     "metadata": {},
     "output_type": "execute_result"
    }
   ],
   "source": [
    "# También se pueden combinar horizontalmente (se incrementa la cantidad de columnas)\n",
    "\n",
    "combinados_horizontalmente = np.hstack((a, b))\n",
    "combinados_horizontalmente"
   ]
  },
  {
   "cell_type": "markdown",
   "id": "f6fbffd3",
   "metadata": {},
   "source": [
    "### Operaciones matemáticas"
   ]
  },
  {
   "cell_type": "code",
   "execution_count": 29,
   "id": "235538fd",
   "metadata": {
    "execution": {
     "iopub.execute_input": "2021-09-28T20:15:59.633380Z",
     "iopub.status.busy": "2021-09-28T20:15:59.632890Z",
     "iopub.status.idle": "2021-09-28T20:15:59.635460Z",
     "shell.execute_reply": "2021-09-28T20:15:59.635838Z"
    }
   },
   "outputs": [
    {
     "data": {
      "text/plain": [
       "array([3, 4, 5, 6])"
      ]
     },
     "execution_count": 29,
     "metadata": {},
     "output_type": "execute_result"
    }
   ],
   "source": [
    "a = np.array([1, 2, 3, 4])\n",
    "\n",
    "a + 2"
   ]
  },
  {
   "cell_type": "code",
   "execution_count": 30,
   "id": "d713326c",
   "metadata": {
    "execution": {
     "iopub.execute_input": "2021-09-28T20:15:59.639965Z",
     "iopub.status.busy": "2021-09-28T20:15:59.639456Z",
     "iopub.status.idle": "2021-09-28T20:15:59.641411Z",
     "shell.execute_reply": "2021-09-28T20:15:59.641814Z"
    }
   },
   "outputs": [
    {
     "data": {
      "text/plain": [
       "array([ 1,  4,  9, 16])"
      ]
     },
     "execution_count": 30,
     "metadata": {},
     "output_type": "execute_result"
    }
   ],
   "source": [
    "a ** 2"
   ]
  },
  {
   "cell_type": "code",
   "execution_count": 31,
   "id": "0cacba44",
   "metadata": {
    "execution": {
     "iopub.execute_input": "2021-09-28T20:15:59.647369Z",
     "iopub.status.busy": "2021-09-28T20:15:59.646862Z",
     "iopub.status.idle": "2021-09-28T20:15:59.650352Z",
     "shell.execute_reply": "2021-09-28T20:15:59.649917Z"
    }
   },
   "outputs": [
    {
     "name": "stdout",
     "output_type": "stream",
     "text": [
      "b: [1. 1. 1. 1.]\n"
     ]
    },
    {
     "data": {
      "text/plain": [
       "array([2., 3., 4., 5.])"
      ]
     },
     "execution_count": 31,
     "metadata": {},
     "output_type": "execute_result"
    }
   ],
   "source": [
    "b = np.ones(4)\n",
    "print(f\"b: {b}\")\n",
    "a + b"
   ]
  },
  {
   "cell_type": "markdown",
   "id": "f7782523",
   "metadata": {},
   "source": [
    "### Estadística"
   ]
  },
  {
   "cell_type": "code",
   "execution_count": 32,
   "id": "75f033b4",
   "metadata": {
    "execution": {
     "iopub.execute_input": "2021-09-28T20:15:59.655166Z",
     "iopub.status.busy": "2021-09-28T20:15:59.654465Z",
     "iopub.status.idle": "2021-09-28T20:15:59.656560Z",
     "shell.execute_reply": "2021-09-28T20:15:59.656989Z"
    }
   },
   "outputs": [
    {
     "data": {
      "text/plain": [
       "1"
      ]
     },
     "execution_count": 32,
     "metadata": {},
     "output_type": "execute_result"
    }
   ],
   "source": [
    "a = np.array([[5, 2, 1, 8], [26, 4, 17, 9]])\n",
    "\n",
    "np.min(a)"
   ]
  },
  {
   "cell_type": "code",
   "execution_count": 33,
   "id": "2bb81504",
   "metadata": {
    "execution": {
     "iopub.execute_input": "2021-09-28T20:15:59.660885Z",
     "iopub.status.busy": "2021-09-28T20:15:59.660377Z",
     "iopub.status.idle": "2021-09-28T20:15:59.663024Z",
     "shell.execute_reply": "2021-09-28T20:15:59.662602Z"
    }
   },
   "outputs": [
    {
     "data": {
      "text/plain": [
       "26"
      ]
     },
     "execution_count": 33,
     "metadata": {},
     "output_type": "execute_result"
    }
   ],
   "source": [
    "np.max(a)"
   ]
  },
  {
   "cell_type": "code",
   "execution_count": 34,
   "id": "de59f911",
   "metadata": {
    "execution": {
     "iopub.execute_input": "2021-09-28T20:15:59.667158Z",
     "iopub.status.busy": "2021-09-28T20:15:59.665175Z",
     "iopub.status.idle": "2021-09-28T20:15:59.669035Z",
     "shell.execute_reply": "2021-09-28T20:15:59.669435Z"
    }
   },
   "outputs": [
    {
     "data": {
      "text/plain": [
       "72"
      ]
     },
     "execution_count": 34,
     "metadata": {},
     "output_type": "execute_result"
    }
   ],
   "source": [
    "np.sum(a)"
   ]
  },
  {
   "cell_type": "markdown",
   "id": "e12b7cb4",
   "metadata": {},
   "source": [
    "### Más magia"
   ]
  },
  {
   "cell_type": "code",
   "execution_count": 35,
   "id": "1568536f",
   "metadata": {
    "execution": {
     "iopub.execute_input": "2021-09-28T20:15:59.674494Z",
     "iopub.status.busy": "2021-09-28T20:15:59.673986Z",
     "iopub.status.idle": "2021-09-28T20:15:59.676337Z",
     "shell.execute_reply": "2021-09-28T20:15:59.676748Z"
    }
   },
   "outputs": [
    {
     "data": {
      "text/plain": [
       "array([[False, False, False,  True],\n",
       "       [ True, False,  True,  True]])"
      ]
     },
     "execution_count": 35,
     "metadata": {},
     "output_type": "execute_result"
    }
   ],
   "source": [
    "a = np.array([[5, 2, 1, 8], [26, 4, 17, 9]])\n",
    "\n",
    "a > 5"
   ]
  },
  {
   "cell_type": "code",
   "execution_count": 36,
   "id": "4c873185",
   "metadata": {
    "execution": {
     "iopub.execute_input": "2021-09-28T20:15:59.681332Z",
     "iopub.status.busy": "2021-09-28T20:15:59.680831Z",
     "iopub.status.idle": "2021-09-28T20:15:59.683279Z",
     "shell.execute_reply": "2021-09-28T20:15:59.683672Z"
    }
   },
   "outputs": [
    {
     "data": {
      "text/plain": [
       "array([ 8, 26, 17,  9])"
      ]
     },
     "execution_count": 36,
     "metadata": {},
     "output_type": "execute_result"
    }
   ],
   "source": [
    "a[a > 5]"
   ]
  },
  {
   "cell_type": "markdown",
   "id": "2d0d91f7",
   "metadata": {},
   "source": [
    "### Broadcasting"
   ]
  },
  {
   "cell_type": "markdown",
   "id": "c06399c1",
   "metadata": {},
   "source": [
    "Permite realizar operaciones entre dos numpy arrays de distintas dimensiones.\n",
    "Para lograr esto, las dimensiones de los mismos deben ser compatibles. Dos dimensiones son compatibles cuando:\n",
    "1. Son iguales\n",
    "2. Alguna de las dos es 1"
   ]
  },
  {
   "cell_type": "code",
   "execution_count": 37,
   "id": "ec98c115",
   "metadata": {
    "execution": {
     "iopub.execute_input": "2021-09-28T20:15:59.688101Z",
     "iopub.status.busy": "2021-09-28T20:15:59.687580Z",
     "iopub.status.idle": "2021-09-28T20:15:59.690184Z",
     "shell.execute_reply": "2021-09-28T20:15:59.689748Z"
    }
   },
   "outputs": [
    {
     "data": {
      "text/plain": [
       "array([[ 5,  2,  1,  8],\n",
       "       [26,  4, 17,  9]])"
      ]
     },
     "execution_count": 37,
     "metadata": {},
     "output_type": "execute_result"
    }
   ],
   "source": [
    "a = np.array([[5, 2, 1, 8], [26, 4, 17, 9]])\n",
    "a"
   ]
  },
  {
   "cell_type": "code",
   "execution_count": 38,
   "id": "5bc6beb3",
   "metadata": {
    "execution": {
     "iopub.execute_input": "2021-09-28T20:15:59.694987Z",
     "iopub.status.busy": "2021-09-28T20:15:59.694492Z",
     "iopub.status.idle": "2021-09-28T20:15:59.697774Z",
     "shell.execute_reply": "2021-09-28T20:15:59.698176Z"
    }
   },
   "outputs": [
    {
     "name": "stdout",
     "output_type": "stream",
     "text": [
      "a: (2, 4)\n",
      "b: (4,)\n",
      "\n",
      "a + b:\n",
      " [[10  4  2 16]\n",
      " [31  6 18 17]]\n"
     ]
    }
   ],
   "source": [
    "# Armamos un array que tenga la misma cantidad de columnas que a\n",
    "b = np.array([5, 2, 1, 8])\n",
    "print(f\"a: {a.shape}\")\n",
    "print(f\"b: {b.shape}\")\n",
    "# a + b\n",
    "print()\n",
    "print(f\"a + b:\\n {a + b}\")"
   ]
  },
  {
   "cell_type": "code",
   "execution_count": 39,
   "id": "04f8f946",
   "metadata": {
    "execution": {
     "iopub.execute_input": "2021-09-28T20:15:59.702676Z",
     "iopub.status.busy": "2021-09-28T20:15:59.702190Z",
     "iopub.status.idle": "2021-09-28T20:15:59.773818Z",
     "shell.execute_reply": "2021-09-28T20:15:59.774226Z"
    },
    "tags": [
     "raises-exception"
    ]
   },
   "outputs": [
    {
     "name": "stdout",
     "output_type": "stream",
     "text": [
      "a: (2, 4)\n",
      "b: (3,)\n"
     ]
    },
    {
     "ename": "ValueError",
     "evalue": "operands could not be broadcast together with shapes (2,4) (3,) ",
     "output_type": "error",
     "traceback": [
      "\u001b[0;31m---------------------------------------------------------------------------\u001b[0m",
      "\u001b[0;31mValueError\u001b[0m                                Traceback (most recent call last)",
      "\u001b[0;32m/tmp/ipykernel_1889/261865458.py\u001b[0m in \u001b[0;36m<module>\u001b[0;34m\u001b[0m\n\u001b[1;32m      3\u001b[0m \u001b[0mprint\u001b[0m\u001b[0;34m(\u001b[0m\u001b[0;34mf\"a: {a.shape}\"\u001b[0m\u001b[0;34m)\u001b[0m\u001b[0;34m\u001b[0m\u001b[0;34m\u001b[0m\u001b[0m\n\u001b[1;32m      4\u001b[0m \u001b[0mprint\u001b[0m\u001b[0;34m(\u001b[0m\u001b[0;34mf\"b: {b.shape}\"\u001b[0m\u001b[0;34m)\u001b[0m\u001b[0;34m\u001b[0m\u001b[0;34m\u001b[0m\u001b[0m\n\u001b[0;32m----> 5\u001b[0;31m \u001b[0ma\u001b[0m \u001b[0;34m+\u001b[0m \u001b[0mb\u001b[0m\u001b[0;34m\u001b[0m\u001b[0;34m\u001b[0m\u001b[0m\n\u001b[0m",
      "\u001b[0;31mValueError\u001b[0m: operands could not be broadcast together with shapes (2,4) (3,) "
     ]
    }
   ],
   "source": [
    "# Armamos un array que tenga distinta cantidad de filas y columnas que a\n",
    "b = np.array([5, 1, 8])\n",
    "print(f\"a: {a.shape}\")\n",
    "print(f\"b: {b.shape}\")\n",
    "a + b"
   ]
  },
  {
   "cell_type": "code",
   "execution_count": 40,
   "id": "10506150",
   "metadata": {
    "execution": {
     "iopub.execute_input": "2021-09-28T20:15:59.780025Z",
     "iopub.status.busy": "2021-09-28T20:15:59.779535Z",
     "iopub.status.idle": "2021-09-28T20:15:59.783754Z",
     "shell.execute_reply": "2021-09-28T20:15:59.784154Z"
    }
   },
   "outputs": [
    {
     "name": "stdout",
     "output_type": "stream",
     "text": [
      "a: (2, 4)\n",
      "b: (2, 1)\n"
     ]
    },
    {
     "data": {
      "text/plain": [
       "array([[ 7,  4,  3, 10],\n",
       "       [27,  5, 18, 10]])"
      ]
     },
     "execution_count": 40,
     "metadata": {},
     "output_type": "execute_result"
    }
   ],
   "source": [
    "# Armamos un array que tenga la misma cantidad de filas que a\n",
    "b = np.array([[2], [1]])\n",
    "print(f\"a: {a.shape}\")\n",
    "print(f\"b: {b.shape}\")\n",
    "a + b"
   ]
  },
  {
   "cell_type": "code",
   "execution_count": 41,
   "id": "5a6698ef",
   "metadata": {
    "execution": {
     "iopub.execute_input": "2021-09-28T20:15:59.789518Z",
     "iopub.status.busy": "2021-09-28T20:15:59.788618Z",
     "iopub.status.idle": "2021-09-28T20:15:59.791094Z",
     "shell.execute_reply": "2021-09-28T20:15:59.791487Z"
    }
   },
   "outputs": [
    {
     "data": {
      "text/plain": [
       "array([[ 9,  6,  5, 12],\n",
       "       [30,  8, 21, 13]])"
      ]
     },
     "execution_count": 41,
     "metadata": {},
     "output_type": "execute_result"
    }
   ],
   "source": [
    "# Si b es un entero\n",
    "b = 4\n",
    "a + b"
   ]
  },
  {
   "cell_type": "code",
   "execution_count": null,
   "id": "8ffa041c",
   "metadata": {},
   "outputs": [],
   "source": []
  }
 ],
 "metadata": {
  "jupytext": {
   "encoding": "# -*- coding: utf-8 -*-",
   "formats": "ipynb,py:light"
  },
  "kernelspec": {
   "display_name": "Python 3",
   "language": "python",
   "name": "python3"
  },
  "language_info": {
   "codemirror_mode": {
    "name": "ipython",
    "version": 3
   },
   "file_extension": ".py",
   "mimetype": "text/x-python",
   "name": "python",
   "nbconvert_exporter": "python",
   "pygments_lexer": "ipython3",
   "version": "3.7.12"
  }
 },
 "nbformat": 4,
 "nbformat_minor": 5
}
