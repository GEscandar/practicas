{
 "cells": [
  {
   "cell_type": "markdown",
   "id": "a5397201",
   "metadata": {},
   "source": [
    "## Clase 1 - Introducción a Numpy\n",
    "\n",
    "Numpy es una biblioteca para Python que facilita el manejo de arreglos multidimensionales y ofrece varias herramientas para trabajar con ellos. Muchas de las bibliotecas de Python que son ampliamente usadas hoy en día, como pandas, están construidas sobre numpy.\n",
    "\n",
    "### Listas de Python vs arreglos de Numpy\n",
    "\n",
    "A primera vista, un arreglo de numpy puede resultar idéntico a una lista de python, pero a medida que la cantidad de datos comienza a incrementar, los arreglos de numpy terminan ofreciendo un manejo más eficiente de la memoria.\n",
    "\n",
    "Para comenzar, vamos a crear un arreglo de numpy:"
   ]
  },
  {
   "cell_type": "code",
   "execution_count": 1,
   "id": "4c0b87e1",
   "metadata": {
    "execution": {
     "iopub.execute_input": "2021-04-21T00:35:42.069104Z",
     "iopub.status.busy": "2021-04-21T00:35:42.068532Z",
     "iopub.status.idle": "2021-04-21T00:35:42.243419Z",
     "shell.execute_reply": "2021-04-21T00:35:42.242808Z"
    }
   },
   "outputs": [
    {
     "data": {
      "text/plain": [
       "array([1, 2, 3, 4])"
      ]
     },
     "execution_count": 1,
     "metadata": {},
     "output_type": "execute_result"
    }
   ],
   "source": [
    "import numpy as np\n",
    "\n",
    "np.array([1, 2, 3, 4])"
   ]
  },
  {
   "cell_type": "markdown",
   "id": "9456d7b9",
   "metadata": {},
   "source": [
    "Los arreglos pueden ser también multidimensionales:"
   ]
  },
  {
   "cell_type": "code",
   "execution_count": 2,
   "id": "ef51c6ad",
   "metadata": {
    "execution": {
     "iopub.execute_input": "2021-04-21T00:35:42.247704Z",
     "iopub.status.busy": "2021-04-21T00:35:42.247217Z",
     "iopub.status.idle": "2021-04-21T00:35:42.251920Z",
     "shell.execute_reply": "2021-04-21T00:35:42.251514Z"
    }
   },
   "outputs": [
    {
     "data": {
      "text/plain": [
       "array([[1, 2, 3, 4],\n",
       "       [5, 6, 7, 8]])"
      ]
     },
     "execution_count": 1,
     "metadata": {},
     "output_type": "execute_result"
    }
   ],
   "source": [
    "np.array([[1, 2, 3, 4], [5, 6, 7, 8]])"
   ]
  },
  {
   "cell_type": "markdown",
   "id": "51062aac",
   "metadata": {},
   "source": [
    "Es importante tener en cuenta que un arreglo de numpy tiene un tipo fijo de datos, entonces si se quiere agregar un dato de un tipo diferente al de la mayoría, este va a ser modificado para adaptarse al resto"
   ]
  },
  {
   "cell_type": "code",
   "execution_count": 3,
   "id": "fa54045d",
   "metadata": {
    "execution": {
     "iopub.execute_input": "2021-04-21T00:35:42.255963Z",
     "iopub.status.busy": "2021-04-21T00:35:42.254896Z",
     "iopub.status.idle": "2021-04-21T00:35:42.256601Z",
     "shell.execute_reply": "2021-04-21T00:35:42.256997Z"
    }
   },
   "outputs": [],
   "source": [
    "enteros = np.array([1, 2, 3, 4])"
   ]
  },
  {
   "cell_type": "markdown",
   "id": "759b0125",
   "metadata": {},
   "source": [
    "Agrego un elemento de tipo flotante en la posición 1"
   ]
  },
  {
   "cell_type": "code",
   "execution_count": 4,
   "id": "0ce23641",
   "metadata": {
    "execution": {
     "iopub.execute_input": "2021-04-21T00:35:42.260973Z",
     "iopub.status.busy": "2021-04-21T00:35:42.260475Z",
     "iopub.status.idle": "2021-04-21T00:35:42.262770Z",
     "shell.execute_reply": "2021-04-21T00:35:42.263155Z"
    }
   },
   "outputs": [
    {
     "data": {
      "text/plain": [
       "array([1, 8, 3, 4])"
      ]
     },
     "execution_count": 1,
     "metadata": {},
     "output_type": "execute_result"
    }
   ],
   "source": [
    "enteros[1] = 8.4727\n",
    "enteros"
   ]
  },
  {
   "cell_type": "markdown",
   "id": "7f0750a9",
   "metadata": {},
   "source": [
    "Numpy también nos permite crear arreglos con valores aleatorios del 0 al 1.\n",
    "Basta con pasarle las dimensiones del arreglo que queremos crear."
   ]
  },
  {
   "cell_type": "code",
   "execution_count": 5,
   "id": "43d8e374",
   "metadata": {
    "execution": {
     "iopub.execute_input": "2021-04-21T00:35:42.267432Z",
     "iopub.status.busy": "2021-04-21T00:35:42.266938Z",
     "iopub.status.idle": "2021-04-21T00:35:42.269482Z",
     "shell.execute_reply": "2021-04-21T00:35:42.269872Z"
    }
   },
   "outputs": [
    {
     "data": {
      "text/plain": [
       "array([[0.77470052, 0.32094   , 0.08402801],\n",
       "       [0.82270806, 0.15227432, 0.47254706]])"
      ]
     },
     "execution_count": 1,
     "metadata": {},
     "output_type": "execute_result"
    }
   ],
   "source": [
    "np.random.rand(2, 3)"
   ]
  },
  {
   "cell_type": "markdown",
   "id": "26a5f451",
   "metadata": {},
   "source": [
    "## Slicing\n",
    "\n",
    "De la misma forma que con las listas de python, pueden obtenerse slices de los arreglos de numpy"
   ]
  },
  {
   "cell_type": "code",
   "execution_count": 6,
   "id": "79cf45f7",
   "metadata": {
    "execution": {
     "iopub.execute_input": "2021-04-21T00:35:42.273856Z",
     "iopub.status.busy": "2021-04-21T00:35:42.273361Z",
     "iopub.status.idle": "2021-04-21T00:35:42.275811Z",
     "shell.execute_reply": "2021-04-21T00:35:42.276206Z"
    },
    "lines_to_next_cell": 2
   },
   "outputs": [
    {
     "data": {
      "text/plain": [
       "array([1, 8])"
      ]
     },
     "execution_count": 1,
     "metadata": {},
     "output_type": "execute_result"
    }
   ],
   "source": [
    "enteros[:2]"
   ]
  },
  {
   "cell_type": "code",
   "execution_count": 7,
   "id": "337681e5",
   "metadata": {
    "execution": {
     "iopub.execute_input": "2021-04-21T00:35:42.282792Z",
     "iopub.status.busy": "2021-04-21T00:35:42.281600Z",
     "iopub.status.idle": "2021-04-21T00:35:42.284525Z",
     "shell.execute_reply": "2021-04-21T00:35:42.284082Z"
    }
   },
   "outputs": [
    {
     "name": "stdout",
     "output_type": "stream",
     "text": [
      "Original: \n",
      "[[ 1  2  3  4]\n",
      " [ 5  6  7  8]\n",
      " [ 9 10 11 12]]\n",
      "\n",
      "Recortada: \n",
      "[[1 2 3]\n",
      " [5 6 7]]\n"
     ]
    }
   ],
   "source": [
    "matriz_de_enteros = np.array([[1, 2, 3, 4], [5, 6, 7, 8], [9, 10, 11, 12]])\n",
    "\n",
    "print('Original: ')\n",
    "print(matriz_de_enteros)\n",
    "\n",
    "print()\n",
    "\n",
    "print('Recortada: ')\n",
    "print(matriz_de_enteros[:2, :3])"
   ]
  },
  {
   "cell_type": "code",
   "execution_count": 8,
   "id": "125973a9",
   "metadata": {
    "execution": {
     "iopub.execute_input": "2021-04-21T00:35:42.288777Z",
     "iopub.status.busy": "2021-04-21T00:35:42.288256Z",
     "iopub.status.idle": "2021-04-21T00:35:42.290606Z",
     "shell.execute_reply": "2021-04-21T00:35:42.290994Z"
    }
   },
   "outputs": [
    {
     "data": {
      "text/plain": [
       "array([[[ 0,  1,  2,  3,  4],\n",
       "        [ 5,  6,  7,  8,  9],\n",
       "        [10, 11, 12, 13, 14]],\n",
       "\n",
       "       [[15, 16, 17, 18, 19],\n",
       "        [20, 21, 22, 23, 24],\n",
       "        [25, 26, 27, 28, 29]],\n",
       "\n",
       "       [[30, 31, 32, 33, 34],\n",
       "        [35, 36, 37, 38, 39],\n",
       "        [40, 41, 42, 43, 44]]])"
      ]
     },
     "execution_count": 1,
     "metadata": {},
     "output_type": "execute_result"
    }
   ],
   "source": [
    "# 3D\n",
    "# arange() genera valores de un intervalo pasado por parámetro\n",
    "# reshape() modifica la forma del numpy array\n",
    "\n",
    "x = np.arange(45).reshape(3, 3, 5)\n",
    "x"
   ]
  },
  {
   "cell_type": "code",
   "execution_count": 9,
   "id": "0843dd63",
   "metadata": {
    "execution": {
     "iopub.execute_input": "2021-04-21T00:35:42.294875Z",
     "iopub.status.busy": "2021-04-21T00:35:42.294376Z",
     "iopub.status.idle": "2021-04-21T00:35:42.296720Z",
     "shell.execute_reply": "2021-04-21T00:35:42.297110Z"
    }
   },
   "outputs": [
    {
     "data": {
      "text/plain": [
       "array([[ 0,  1,  2,  3,  4],\n",
       "       [ 5,  6,  7,  8,  9],\n",
       "       [10, 11, 12, 13, 14]])"
      ]
     },
     "execution_count": 1,
     "metadata": {},
     "output_type": "execute_result"
    }
   ],
   "source": [
    "x[0]"
   ]
  },
  {
   "cell_type": "code",
   "execution_count": 10,
   "id": "b614526c",
   "metadata": {
    "execution": {
     "iopub.execute_input": "2021-04-21T00:35:42.300950Z",
     "iopub.status.busy": "2021-04-21T00:35:42.300453Z",
     "iopub.status.idle": "2021-04-21T00:35:42.302756Z",
     "shell.execute_reply": "2021-04-21T00:35:42.303144Z"
    }
   },
   "outputs": [
    {
     "data": {
      "text/plain": [
       "array([5, 6, 7, 8, 9])"
      ]
     },
     "execution_count": 1,
     "metadata": {},
     "output_type": "execute_result"
    }
   ],
   "source": [
    "x[0][1]"
   ]
  },
  {
   "cell_type": "code",
   "execution_count": 11,
   "id": "740be092",
   "metadata": {
    "execution": {
     "iopub.execute_input": "2021-04-21T00:35:42.307128Z",
     "iopub.status.busy": "2021-04-21T00:35:42.306630Z",
     "iopub.status.idle": "2021-04-21T00:35:42.308998Z",
     "shell.execute_reply": "2021-04-21T00:35:42.309388Z"
    }
   },
   "outputs": [
    {
     "data": {
      "text/plain": [
       "7"
      ]
     },
     "execution_count": 1,
     "metadata": {},
     "output_type": "execute_result"
    }
   ],
   "source": [
    "x[0][1][2]"
   ]
  },
  {
   "cell_type": "markdown",
   "id": "c2cb0125",
   "metadata": {},
   "source": [
    "\n",
    "¿Cómo conseguimos estos valores? ([fuente](https://towardsdatascience.com/indexing-and-slicing-of-1d-2d-and-3d-arrays-in-numpy-e731afff0bbe))\n",
    "\n",
    "![title](img/matrix.png)"
   ]
  },
  {
   "cell_type": "code",
   "execution_count": 12,
   "id": "0bc45bb0",
   "metadata": {
    "execution": {
     "iopub.execute_input": "2021-04-21T00:35:42.313481Z",
     "iopub.status.busy": "2021-04-21T00:35:42.312983Z",
     "iopub.status.idle": "2021-04-21T00:35:42.315286Z",
     "shell.execute_reply": "2021-04-21T00:35:42.315676Z"
    }
   },
   "outputs": [
    {
     "data": {
      "text/plain": [
       "array([[[16, 17, 18],\n",
       "        [21, 22, 23]],\n",
       "\n",
       "       [[31, 32, 33],\n",
       "        [36, 37, 38]]])"
      ]
     },
     "execution_count": 1,
     "metadata": {},
     "output_type": "execute_result"
    }
   ],
   "source": [
    "x[1:, 0:2, 1:4]"
   ]
  },
  {
   "cell_type": "markdown",
   "id": "abfd4708",
   "metadata": {},
   "source": [
    "### Copia de arreglos"
   ]
  },
  {
   "cell_type": "code",
   "execution_count": 13,
   "id": "113878c4",
   "metadata": {
    "execution": {
     "iopub.execute_input": "2021-04-21T00:35:42.319823Z",
     "iopub.status.busy": "2021-04-21T00:35:42.319315Z",
     "iopub.status.idle": "2021-04-21T00:35:42.321718Z",
     "shell.execute_reply": "2021-04-21T00:35:42.322108Z"
    }
   },
   "outputs": [
    {
     "data": {
      "text/plain": [
       "array([1, 2, 3, 4])"
      ]
     },
     "execution_count": 1,
     "metadata": {},
     "output_type": "execute_result"
    }
   ],
   "source": [
    "# Los arreglos no se copian con asignación\n",
    "\n",
    "a = np.array([1, 2, 3, 4])\n",
    "b = a\n",
    "b"
   ]
  },
  {
   "cell_type": "code",
   "execution_count": 14,
   "id": "a2cb916a",
   "metadata": {
    "execution": {
     "iopub.execute_input": "2021-04-21T00:35:42.325927Z",
     "iopub.status.busy": "2021-04-21T00:35:42.325430Z",
     "iopub.status.idle": "2021-04-21T00:35:42.327725Z",
     "shell.execute_reply": "2021-04-21T00:35:42.328113Z"
    }
   },
   "outputs": [
    {
     "data": {
      "text/plain": [
       "array([ 1, 20,  3,  4])"
      ]
     },
     "execution_count": 1,
     "metadata": {},
     "output_type": "execute_result"
    }
   ],
   "source": [
    "b[1] = 20\n",
    "b"
   ]
  },
  {
   "cell_type": "code",
   "execution_count": 15,
   "id": "82577a36",
   "metadata": {
    "execution": {
     "iopub.execute_input": "2021-04-21T00:35:42.331860Z",
     "iopub.status.busy": "2021-04-21T00:35:42.331365Z",
     "iopub.status.idle": "2021-04-21T00:35:42.333729Z",
     "shell.execute_reply": "2021-04-21T00:35:42.334123Z"
    }
   },
   "outputs": [
    {
     "data": {
      "text/plain": [
       "array([ 1, 20,  3,  4])"
      ]
     },
     "execution_count": 1,
     "metadata": {},
     "output_type": "execute_result"
    }
   ],
   "source": [
    "a"
   ]
  },
  {
   "cell_type": "code",
   "execution_count": 16,
   "id": "2178ff2e",
   "metadata": {
    "execution": {
     "iopub.execute_input": "2021-04-21T00:35:42.338463Z",
     "iopub.status.busy": "2021-04-21T00:35:42.337961Z",
     "iopub.status.idle": "2021-04-21T00:35:42.340275Z",
     "shell.execute_reply": "2021-04-21T00:35:42.340688Z"
    }
   },
   "outputs": [
    {
     "data": {
      "text/plain": [
       "array([ 1, 20,  3,  4])"
      ]
     },
     "execution_count": 1,
     "metadata": {},
     "output_type": "execute_result"
    }
   ],
   "source": [
    "# Para copiar un arreglo a otra variable debemos usar copy()\n",
    "\n",
    "a = np.array([1, 2, 3, 4])\n",
    "b = a.copy()\n",
    "b[1] = 20\n",
    "b"
   ]
  },
  {
   "cell_type": "code",
   "execution_count": 17,
   "id": "407ee447",
   "metadata": {
    "execution": {
     "iopub.execute_input": "2021-04-21T00:35:42.344428Z",
     "iopub.status.busy": "2021-04-21T00:35:42.343917Z",
     "iopub.status.idle": "2021-04-21T00:35:42.346045Z",
     "shell.execute_reply": "2021-04-21T00:35:42.346436Z"
    }
   },
   "outputs": [
    {
     "data": {
      "text/plain": [
       "array([1, 2, 3, 4])"
      ]
     },
     "execution_count": 1,
     "metadata": {},
     "output_type": "execute_result"
    }
   ],
   "source": [
    "a"
   ]
  },
  {
   "cell_type": "markdown",
   "id": "ff88885b",
   "metadata": {},
   "source": [
    "### Modificación de dimensiones"
   ]
  },
  {
   "cell_type": "markdown",
   "id": "aefaddef",
   "metadata": {},
   "source": [
    "Existen varias operaciones para cambiar la forma de un arreglo de numpy"
   ]
  },
  {
   "cell_type": "code",
   "execution_count": 18,
   "id": "e2fd9ab4",
   "metadata": {
    "execution": {
     "iopub.execute_input": "2021-04-21T00:35:42.349884Z",
     "iopub.status.busy": "2021-04-21T00:35:42.349405Z",
     "iopub.status.idle": "2021-04-21T00:35:42.351501Z",
     "shell.execute_reply": "2021-04-21T00:35:42.351894Z"
    }
   },
   "outputs": [
    {
     "data": {
      "text/plain": [
       "array([[ 1,  2,  3,  4],\n",
       "       [ 5,  6,  7,  8],\n",
       "       [ 9, 10, 11, 12]])"
      ]
     },
     "execution_count": 1,
     "metadata": {},
     "output_type": "execute_result"
    }
   ],
   "source": [
    "matriz_de_enteros"
   ]
  },
  {
   "cell_type": "code",
   "execution_count": 19,
   "id": "1a28919c",
   "metadata": {
    "execution": {
     "iopub.execute_input": "2021-04-21T00:35:42.355525Z",
     "iopub.status.busy": "2021-04-21T00:35:42.355020Z",
     "iopub.status.idle": "2021-04-21T00:35:42.356975Z",
     "shell.execute_reply": "2021-04-21T00:35:42.357436Z"
    }
   },
   "outputs": [
    {
     "data": {
      "text/plain": [
       "2"
      ]
     },
     "execution_count": 1,
     "metadata": {},
     "output_type": "execute_result"
    }
   ],
   "source": [
    "# Obtener las dimensiones del arreglo\n",
    "\n",
    "matriz_de_enteros.ndim"
   ]
  },
  {
   "cell_type": "code",
   "execution_count": 20,
   "id": "2580e4e0",
   "metadata": {
    "execution": {
     "iopub.execute_input": "2021-04-21T00:35:42.360553Z",
     "iopub.status.busy": "2021-04-21T00:35:42.360053Z",
     "iopub.status.idle": "2021-04-21T00:35:42.362762Z",
     "shell.execute_reply": "2021-04-21T00:35:42.362342Z"
    }
   },
   "outputs": [
    {
     "data": {
      "text/plain": [
       "(3, 4)"
      ]
     },
     "execution_count": 1,
     "metadata": {},
     "output_type": "execute_result"
    }
   ],
   "source": [
    "# Obtener la forma del arreglo\n",
    "\n",
    "matriz_de_enteros.shape"
   ]
  },
  {
   "cell_type": "code",
   "execution_count": 21,
   "id": "75a40656",
   "metadata": {
    "execution": {
     "iopub.execute_input": "2021-04-21T00:35:42.366799Z",
     "iopub.status.busy": "2021-04-21T00:35:42.366317Z",
     "iopub.status.idle": "2021-04-21T00:35:42.368619Z",
     "shell.execute_reply": "2021-04-21T00:35:42.369080Z"
    }
   },
   "outputs": [
    {
     "name": "stdout",
     "output_type": "stream",
     "text": [
      "enteros: [ 3  6  9 12]\n"
     ]
    },
    {
     "data": {
      "text/plain": [
       "array([[ 3,  6],\n",
       "       [ 9, 12]])"
      ]
     },
     "execution_count": 1,
     "metadata": {},
     "output_type": "execute_result"
    }
   ],
   "source": [
    "# Modificar la forma de un arreglo\n",
    "\n",
    "enteros = np.array([3, 6, 9, 12])\n",
    "print(f\"enteros: {enteros}\")\n",
    "np.reshape(enteros, (2, 2))"
   ]
  },
  {
   "cell_type": "code",
   "execution_count": 22,
   "id": "c45eb278",
   "metadata": {
    "execution": {
     "iopub.execute_input": "2021-04-21T00:35:42.372622Z",
     "iopub.status.busy": "2021-04-21T00:35:42.372102Z",
     "iopub.status.idle": "2021-04-21T00:35:42.374832Z",
     "shell.execute_reply": "2021-04-21T00:35:42.374409Z"
    }
   },
   "outputs": [
    {
     "data": {
      "text/plain": [
       "array([[1., 1.],\n",
       "       [1., 1.]])"
      ]
     },
     "execution_count": 1,
     "metadata": {},
     "output_type": "execute_result"
    }
   ],
   "source": [
    "# Aplanar un arreglo\n",
    "\n",
    "a = np.ones((2, 2))\n",
    "a"
   ]
  },
  {
   "cell_type": "code",
   "execution_count": 23,
   "id": "cb476982",
   "metadata": {
    "execution": {
     "iopub.execute_input": "2021-04-21T00:35:42.378339Z",
     "iopub.status.busy": "2021-04-21T00:35:42.377867Z",
     "iopub.status.idle": "2021-04-21T00:35:42.380583Z",
     "shell.execute_reply": "2021-04-21T00:35:42.380166Z"
    }
   },
   "outputs": [
    {
     "data": {
      "text/plain": [
       "array([1., 1., 1., 1.])"
      ]
     },
     "execution_count": 1,
     "metadata": {},
     "output_type": "execute_result"
    }
   ],
   "source": [
    "a.flatten()"
   ]
  },
  {
   "cell_type": "code",
   "execution_count": 24,
   "id": "3d528a3a",
   "metadata": {
    "execution": {
     "iopub.execute_input": "2021-04-21T00:35:42.383990Z",
     "iopub.status.busy": "2021-04-21T00:35:42.383518Z",
     "iopub.status.idle": "2021-04-21T00:35:42.385662Z",
     "shell.execute_reply": "2021-04-21T00:35:42.386056Z"
    },
    "lines_to_next_cell": 2
   },
   "outputs": [
    {
     "data": {
      "text/plain": [
       "array([[1., 1.],\n",
       "       [1., 1.]])"
      ]
     },
     "execution_count": 1,
     "metadata": {},
     "output_type": "execute_result"
    }
   ],
   "source": [
    "a"
   ]
  },
  {
   "cell_type": "markdown",
   "id": "5f3fce79",
   "metadata": {},
   "source": [
    "### Combinación de arreglos (Stacking)"
   ]
  },
  {
   "cell_type": "code",
   "execution_count": 25,
   "id": "5c361972",
   "metadata": {
    "execution": {
     "iopub.execute_input": "2021-04-21T00:35:42.389612Z",
     "iopub.status.busy": "2021-04-21T00:35:42.389134Z",
     "iopub.status.idle": "2021-04-21T00:35:42.391237Z",
     "shell.execute_reply": "2021-04-21T00:35:42.391632Z"
    }
   },
   "outputs": [
    {
     "data": {
      "text/plain": [
       "array([0, 1, 2, 3, 4])"
      ]
     },
     "execution_count": 1,
     "metadata": {},
     "output_type": "execute_result"
    }
   ],
   "source": [
    "# Los arreglos se pueden combinar verticalmente (se incrementa la cantidad de filas)\n",
    "\n",
    "a = np.arange(0, 5)\n",
    "a"
   ]
  },
  {
   "cell_type": "code",
   "execution_count": 26,
   "id": "8fbc715b",
   "metadata": {
    "execution": {
     "iopub.execute_input": "2021-04-21T00:35:42.395527Z",
     "iopub.status.busy": "2021-04-21T00:35:42.395032Z",
     "iopub.status.idle": "2021-04-21T00:35:42.396780Z",
     "shell.execute_reply": "2021-04-21T00:35:42.397170Z"
    }
   },
   "outputs": [
    {
     "data": {
      "text/plain": [
       "array([5, 6, 7, 8, 9])"
      ]
     },
     "execution_count": 1,
     "metadata": {},
     "output_type": "execute_result"
    }
   ],
   "source": [
    "b = np.arange(5, 10)\n",
    "b"
   ]
  },
  {
   "cell_type": "code",
   "execution_count": 27,
   "id": "37a8912a",
   "metadata": {
    "execution": {
     "iopub.execute_input": "2021-04-21T00:35:42.400586Z",
     "iopub.status.busy": "2021-04-21T00:35:42.400089Z",
     "iopub.status.idle": "2021-04-21T00:35:42.402806Z",
     "shell.execute_reply": "2021-04-21T00:35:42.402383Z"
    }
   },
   "outputs": [
    {
     "data": {
      "text/plain": [
       "array([[0, 1, 2, 3, 4],\n",
       "       [5, 6, 7, 8, 9]])"
      ]
     },
     "execution_count": 1,
     "metadata": {},
     "output_type": "execute_result"
    }
   ],
   "source": [
    "combinados_verticalmente = np.vstack((a, b))\n",
    "combinados_verticalmente"
   ]
  },
  {
   "cell_type": "code",
   "execution_count": 28,
   "id": "e7517f93",
   "metadata": {
    "execution": {
     "iopub.execute_input": "2021-04-21T00:35:42.406200Z",
     "iopub.status.busy": "2021-04-21T00:35:42.405722Z",
     "iopub.status.idle": "2021-04-21T00:35:42.408419Z",
     "shell.execute_reply": "2021-04-21T00:35:42.407980Z"
    }
   },
   "outputs": [
    {
     "data": {
      "text/plain": [
       "array([0, 1, 2, 3, 4, 5, 6, 7, 8, 9])"
      ]
     },
     "execution_count": 1,
     "metadata": {},
     "output_type": "execute_result"
    }
   ],
   "source": [
    "# También se pueden combinar horizontalmente (se incrementa la cantidad de columnas)\n",
    "\n",
    "combinados_horizontalmente = np.hstack((a, b))\n",
    "combinados_horizontalmente"
   ]
  },
  {
   "cell_type": "markdown",
   "id": "ecd7e7c3",
   "metadata": {},
   "source": [
    "### Operaciones matemáticas"
   ]
  },
  {
   "cell_type": "code",
   "execution_count": 29,
   "id": "158575bf",
   "metadata": {
    "execution": {
     "iopub.execute_input": "2021-04-21T00:35:42.411862Z",
     "iopub.status.busy": "2021-04-21T00:35:42.411383Z",
     "iopub.status.idle": "2021-04-21T00:35:42.414083Z",
     "shell.execute_reply": "2021-04-21T00:35:42.413662Z"
    }
   },
   "outputs": [
    {
     "data": {
      "text/plain": [
       "array([3, 4, 5, 6])"
      ]
     },
     "execution_count": 1,
     "metadata": {},
     "output_type": "execute_result"
    }
   ],
   "source": [
    "a = np.array([1, 2, 3, 4])\n",
    "\n",
    "a + 2"
   ]
  },
  {
   "cell_type": "code",
   "execution_count": 30,
   "id": "3f6f8998",
   "metadata": {
    "execution": {
     "iopub.execute_input": "2021-04-21T00:35:42.417246Z",
     "iopub.status.busy": "2021-04-21T00:35:42.416772Z",
     "iopub.status.idle": "2021-04-21T00:35:42.419381Z",
     "shell.execute_reply": "2021-04-21T00:35:42.418964Z"
    }
   },
   "outputs": [
    {
     "data": {
      "text/plain": [
       "array([ 1,  4,  9, 16])"
      ]
     },
     "execution_count": 1,
     "metadata": {},
     "output_type": "execute_result"
    }
   ],
   "source": [
    "a ** 2"
   ]
  },
  {
   "cell_type": "code",
   "execution_count": 31,
   "id": "4b576294",
   "metadata": {
    "execution": {
     "iopub.execute_input": "2021-04-21T00:35:42.424302Z",
     "iopub.status.busy": "2021-04-21T00:35:42.423797Z",
     "iopub.status.idle": "2021-04-21T00:35:42.427216Z",
     "shell.execute_reply": "2021-04-21T00:35:42.426796Z"
    }
   },
   "outputs": [
    {
     "name": "stdout",
     "output_type": "stream",
     "text": [
      "b: [1. 1. 1. 1.]\n"
     ]
    },
    {
     "data": {
      "text/plain": [
       "array([2., 3., 4., 5.])"
      ]
     },
     "execution_count": 1,
     "metadata": {},
     "output_type": "execute_result"
    }
   ],
   "source": [
    "b = np.ones(4)\n",
    "print(f\"b: {b}\")\n",
    "a + b"
   ]
  },
  {
   "cell_type": "markdown",
   "id": "f7cc46a0",
   "metadata": {},
   "source": [
    "### Estadística"
   ]
  },
  {
   "cell_type": "code",
   "execution_count": 32,
   "id": "a78b8879",
   "metadata": {
    "execution": {
     "iopub.execute_input": "2021-04-21T00:35:42.431474Z",
     "iopub.status.busy": "2021-04-21T00:35:42.430978Z",
     "iopub.status.idle": "2021-04-21T00:35:42.432696Z",
     "shell.execute_reply": "2021-04-21T00:35:42.433088Z"
    }
   },
   "outputs": [
    {
     "data": {
      "text/plain": [
       "1"
      ]
     },
     "execution_count": 1,
     "metadata": {},
     "output_type": "execute_result"
    }
   ],
   "source": [
    "a = np.array([[5, 2, 1, 8], [26, 4, 17, 9]])\n",
    "\n",
    "np.min(a)"
   ]
  },
  {
   "cell_type": "code",
   "execution_count": 33,
   "id": "b3457c7a",
   "metadata": {
    "execution": {
     "iopub.execute_input": "2021-04-21T00:35:42.436303Z",
     "iopub.status.busy": "2021-04-21T00:35:42.435826Z",
     "iopub.status.idle": "2021-04-21T00:35:42.438505Z",
     "shell.execute_reply": "2021-04-21T00:35:42.438088Z"
    }
   },
   "outputs": [
    {
     "data": {
      "text/plain": [
       "26"
      ]
     },
     "execution_count": 1,
     "metadata": {},
     "output_type": "execute_result"
    }
   ],
   "source": [
    "np.max(a)"
   ]
  },
  {
   "cell_type": "code",
   "execution_count": 34,
   "id": "0afbc127",
   "metadata": {
    "execution": {
     "iopub.execute_input": "2021-04-21T00:35:42.441703Z",
     "iopub.status.busy": "2021-04-21T00:35:42.441232Z",
     "iopub.status.idle": "2021-04-21T00:35:42.444115Z",
     "shell.execute_reply": "2021-04-21T00:35:42.443695Z"
    }
   },
   "outputs": [
    {
     "data": {
      "text/plain": [
       "72"
      ]
     },
     "execution_count": 1,
     "metadata": {},
     "output_type": "execute_result"
    }
   ],
   "source": [
    "np.sum(a)"
   ]
  },
  {
   "cell_type": "markdown",
   "id": "5556e238",
   "metadata": {},
   "source": [
    "### Más magia"
   ]
  },
  {
   "cell_type": "code",
   "execution_count": 35,
   "id": "5d676cf2",
   "metadata": {
    "execution": {
     "iopub.execute_input": "2021-04-21T00:35:42.447764Z",
     "iopub.status.busy": "2021-04-21T00:35:42.447264Z",
     "iopub.status.idle": "2021-04-21T00:35:42.449984Z",
     "shell.execute_reply": "2021-04-21T00:35:42.449562Z"
    }
   },
   "outputs": [
    {
     "data": {
      "text/plain": [
       "array([[False, False, False,  True],\n",
       "       [ True, False,  True,  True]])"
      ]
     },
     "execution_count": 1,
     "metadata": {},
     "output_type": "execute_result"
    }
   ],
   "source": [
    "a = np.array([[5, 2, 1, 8], [26, 4, 17, 9]])\n",
    "\n",
    "a > 5"
   ]
  },
  {
   "cell_type": "code",
   "execution_count": 36,
   "id": "bd799fca",
   "metadata": {
    "execution": {
     "iopub.execute_input": "2021-04-21T00:35:42.453193Z",
     "iopub.status.busy": "2021-04-21T00:35:42.452719Z",
     "iopub.status.idle": "2021-04-21T00:35:42.454919Z",
     "shell.execute_reply": "2021-04-21T00:35:42.455310Z"
    }
   },
   "outputs": [
    {
     "data": {
      "text/plain": [
       "array([ 8, 26, 17,  9])"
      ]
     },
     "execution_count": 1,
     "metadata": {},
     "output_type": "execute_result"
    }
   ],
   "source": [
    "a[a > 5]"
   ]
  },
  {
   "cell_type": "markdown",
   "id": "328b3879",
   "metadata": {},
   "source": [
    "### Broadcasting"
   ]
  },
  {
   "cell_type": "markdown",
   "id": "83011986",
   "metadata": {},
   "source": [
    "Permite realizar operaciones entre dos numpy arrays de distintas dimensiones.\n",
    "Para lograr esto, las dimensiones de los mismos deben ser compatibles. Dos dimensiones son compatibles cuando:\n",
    "1. Son iguales\n",
    "2. Alguna de las dos es 1"
   ]
  },
  {
   "cell_type": "code",
   "execution_count": 37,
   "id": "98e3e63f",
   "metadata": {
    "execution": {
     "iopub.execute_input": "2021-04-21T00:35:42.459113Z",
     "iopub.status.busy": "2021-04-21T00:35:42.458638Z",
     "iopub.status.idle": "2021-04-21T00:35:42.461469Z",
     "shell.execute_reply": "2021-04-21T00:35:42.460946Z"
    }
   },
   "outputs": [
    {
     "data": {
      "text/plain": [
       "array([[ 5,  2,  1,  8],\n",
       "       [26,  4, 17,  9]])"
      ]
     },
     "execution_count": 1,
     "metadata": {},
     "output_type": "execute_result"
    }
   ],
   "source": [
    "a = np.array([[5, 2, 1, 8], [26, 4, 17, 9]])\n",
    "a"
   ]
  },
  {
   "cell_type": "code",
   "execution_count": 38,
   "id": "2a228db3",
   "metadata": {
    "execution": {
     "iopub.execute_input": "2021-04-21T00:35:42.465493Z",
     "iopub.status.busy": "2021-04-21T00:35:42.465009Z",
     "iopub.status.idle": "2021-04-21T00:35:42.467416Z",
     "shell.execute_reply": "2021-04-21T00:35:42.466994Z"
    }
   },
   "outputs": [
    {
     "name": "stdout",
     "output_type": "stream",
     "text": [
      "a: (2, 4)\n",
      "b: (4,)\n",
      "\n",
      "a + b:\n",
      " [[10  4  2 16]\n",
      " [31  6 18 17]]\n"
     ]
    }
   ],
   "source": [
    "# Armamos un array que tenga la misma cantidad de columnas que a\n",
    "b = np.array([5, 2, 1, 8])\n",
    "print(f\"a: {a.shape}\")\n",
    "print(f\"b: {b.shape}\")\n",
    "# a + b\n",
    "print()\n",
    "print(f\"a + b:\\n {a + b}\")"
   ]
  },
  {
   "cell_type": "code",
   "execution_count": 39,
   "id": "8d1d4a32",
   "metadata": {
    "execution": {
     "iopub.execute_input": "2021-04-21T00:35:42.471072Z",
     "iopub.status.busy": "2021-04-21T00:35:42.470559Z",
     "iopub.status.idle": "2021-04-21T00:35:42.529780Z",
     "shell.execute_reply": "2021-04-21T00:35:42.530236Z"
    },
    "tags": [
     "raises-exception"
    ]
   },
   "outputs": [
    {
     "name": "stdout",
     "output_type": "stream",
     "text": [
      "a: (2, 4)\n",
      "b: (3,)\n"
     ]
    },
    {
     "ename": "ValueError",
     "evalue": "operands could not be broadcast together with shapes (2,4) (3,) ",
     "output_type": "error",
     "traceback": [
      "\u001b[0;31m---------------------------------------------------------------------------\u001b[0m",
      "\u001b[0;31mValueError\u001b[0m                                Traceback (most recent call last)",
      "\u001b[0;32m<ipython-input-1-fe11b6ae6346>\u001b[0m in \u001b[0;36m<module>\u001b[0;34m\u001b[0m\n\u001b[1;32m      3\u001b[0m \u001b[0mprint\u001b[0m\u001b[0;34m(\u001b[0m\u001b[0;34mf\"a: {a.shape}\"\u001b[0m\u001b[0;34m)\u001b[0m\u001b[0;34m\u001b[0m\u001b[0;34m\u001b[0m\u001b[0m\n\u001b[1;32m      4\u001b[0m \u001b[0mprint\u001b[0m\u001b[0;34m(\u001b[0m\u001b[0;34mf\"b: {b.shape}\"\u001b[0m\u001b[0;34m)\u001b[0m\u001b[0;34m\u001b[0m\u001b[0;34m\u001b[0m\u001b[0m\n\u001b[0;32m----> 5\u001b[0;31m \u001b[0ma\u001b[0m \u001b[0;34m+\u001b[0m \u001b[0mb\u001b[0m\u001b[0;34m\u001b[0m\u001b[0;34m\u001b[0m\u001b[0m\n\u001b[0m",
      "\u001b[0;31mValueError\u001b[0m: operands could not be broadcast together with shapes (2,4) (3,) "
     ]
    }
   ],
   "source": [
    "# Armamos un array que tenga distinta cantidad de filas y columnas que a\n",
    "b = np.array([5, 1, 8])\n",
    "print(f\"a: {a.shape}\")\n",
    "print(f\"b: {b.shape}\")\n",
    "a + b"
   ]
  },
  {
   "cell_type": "code",
   "execution_count": 40,
   "id": "e580b899",
   "metadata": {
    "execution": {
     "iopub.execute_input": "2021-04-21T00:35:42.535687Z",
     "iopub.status.busy": "2021-04-21T00:35:42.535184Z",
     "iopub.status.idle": "2021-04-21T00:35:42.538581Z",
     "shell.execute_reply": "2021-04-21T00:35:42.538158Z"
    }
   },
   "outputs": [
    {
     "name": "stdout",
     "output_type": "stream",
     "text": [
      "a: (2, 4)\n",
      "b: (2, 1)\n"
     ]
    },
    {
     "data": {
      "text/plain": [
       "array([[ 7,  4,  3, 10],\n",
       "       [27,  5, 18, 10]])"
      ]
     },
     "execution_count": 1,
     "metadata": {},
     "output_type": "execute_result"
    }
   ],
   "source": [
    "# Armamos un array que tenga la misma cantidad de filas que a\n",
    "b = np.array([[2], [1]])\n",
    "print(f\"a: {a.shape}\")\n",
    "print(f\"b: {b.shape}\")\n",
    "a + b"
   ]
  },
  {
   "cell_type": "code",
   "execution_count": 41,
   "id": "a1b886c6",
   "metadata": {
    "execution": {
     "iopub.execute_input": "2021-04-21T00:35:42.542605Z",
     "iopub.status.busy": "2021-04-21T00:35:42.542110Z",
     "iopub.status.idle": "2021-04-21T00:35:42.544444Z",
     "shell.execute_reply": "2021-04-21T00:35:42.544840Z"
    }
   },
   "outputs": [
    {
     "data": {
      "text/plain": [
       "array([[ 9,  6,  5, 12],\n",
       "       [30,  8, 21, 13]])"
      ]
     },
     "execution_count": 1,
     "metadata": {},
     "output_type": "execute_result"
    }
   ],
   "source": [
    "# Si b es un entero\n",
    "b = 4\n",
    "a + b"
   ]
  },
  {
   "cell_type": "code",
   "execution_count": null,
   "id": "4b98af6b",
   "metadata": {},
   "outputs": [],
   "source": []
  }
 ],
 "metadata": {
  "jupytext": {
   "encoding": "# -*- coding: utf-8 -*-",
   "formats": "ipynb,py:light"
  },
  "kernelspec": {
   "display_name": "Python 3",
   "language": "python",
   "name": "python3"
  },
  "language_info": {
   "codemirror_mode": {
    "name": "ipython",
    "version": 3
   },
   "file_extension": ".py",
   "mimetype": "text/x-python",
   "name": "python",
   "nbconvert_exporter": "python",
   "pygments_lexer": "ipython3",
   "version": "3.7.10"
  }
 },
 "nbformat": 4,
 "nbformat_minor": 5
}
