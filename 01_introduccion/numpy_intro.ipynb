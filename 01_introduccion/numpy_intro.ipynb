{
 "cells": [
  {
   "cell_type": "markdown",
   "id": "331f05eb",
   "metadata": {},
   "source": [
    "## Clase 1 - Introducción a Numpy\n",
    "\n",
    "Numpy es una biblioteca para Python que facilita el manejo de arreglos multidimensionales y ofrece varias herramientas para trabajar con ellos. Muchas de las bibliotecas de Python que son ampliamente usadas hoy en día, como pandas, están construidas sobre numpy.\n",
    "\n",
    "### Listas de Python vs arreglos de Numpy\n",
    "\n",
    "A primera vista, un arreglo de numpy puede resultar idéntico a una lista de python, pero a medida que la cantidad de datos comienza a incrementar, los arreglos de numpy terminan ofreciendo un manejo más eficiente de la memoria.\n",
    "\n",
    "Para comenzar, vamos a crear un arreglo de numpy:"
   ]
  },
  {
   "cell_type": "code",
   "execution_count": 1,
   "id": "f4c7a636",
   "metadata": {
    "execution": {
     "iopub.execute_input": "2021-11-02T15:54:26.520862Z",
     "iopub.status.busy": "2021-11-02T15:54:26.520136Z",
     "iopub.status.idle": "2021-11-02T15:54:26.702732Z",
     "shell.execute_reply": "2021-11-02T15:54:26.702044Z"
    }
   },
   "outputs": [
    {
     "data": {
      "text/plain": [
       "array([1, 2, 3, 4])"
      ]
     },
     "execution_count": 1,
     "metadata": {},
     "output_type": "execute_result"
    }
   ],
   "source": [
    "import numpy as np\n",
    "\n",
    "np.array([1, 2, 3, 4])"
   ]
  },
  {
   "cell_type": "markdown",
   "id": "8647d979",
   "metadata": {},
   "source": [
    "Los arreglos pueden ser también multidimensionales:"
   ]
  },
  {
   "cell_type": "code",
   "execution_count": 2,
   "id": "1516302d",
   "metadata": {
    "execution": {
     "iopub.execute_input": "2021-11-02T15:54:26.709331Z",
     "iopub.status.busy": "2021-11-02T15:54:26.708689Z",
     "iopub.status.idle": "2021-11-02T15:54:26.713905Z",
     "shell.execute_reply": "2021-11-02T15:54:26.714442Z"
    }
   },
   "outputs": [
    {
     "data": {
      "text/plain": [
       "array([[1, 2, 3, 4],\n",
       "       [5, 6, 7, 8]])"
      ]
     },
     "execution_count": 2,
     "metadata": {},
     "output_type": "execute_result"
    }
   ],
   "source": [
    "np.array([[1, 2, 3, 4], [5, 6, 7, 8]])"
   ]
  },
  {
   "cell_type": "markdown",
   "id": "2d5dac49",
   "metadata": {},
   "source": [
    "Es importante tener en cuenta que un arreglo de numpy tiene un tipo fijo de datos, entonces si se quiere agregar un dato de un tipo diferente al de la mayoría, este va a ser modificado para adaptarse al resto"
   ]
  },
  {
   "cell_type": "code",
   "execution_count": 3,
   "id": "7221f69e",
   "metadata": {
    "execution": {
     "iopub.execute_input": "2021-11-02T15:54:26.719746Z",
     "iopub.status.busy": "2021-11-02T15:54:26.717577Z",
     "iopub.status.idle": "2021-11-02T15:54:26.722236Z",
     "shell.execute_reply": "2021-11-02T15:54:26.721706Z"
    }
   },
   "outputs": [],
   "source": [
    "enteros = np.array([1, 2, 3, 4])"
   ]
  },
  {
   "cell_type": "markdown",
   "id": "e3545720",
   "metadata": {},
   "source": [
    "Agrego un elemento de tipo flotante en la posición 1"
   ]
  },
  {
   "cell_type": "code",
   "execution_count": 4,
   "id": "252a9a1b",
   "metadata": {
    "execution": {
     "iopub.execute_input": "2021-11-02T15:54:26.729338Z",
     "iopub.status.busy": "2021-11-02T15:54:26.727793Z",
     "iopub.status.idle": "2021-11-02T15:54:26.732216Z",
     "shell.execute_reply": "2021-11-02T15:54:26.731647Z"
    }
   },
   "outputs": [
    {
     "data": {
      "text/plain": [
       "array([1, 8, 3, 4])"
      ]
     },
     "execution_count": 4,
     "metadata": {},
     "output_type": "execute_result"
    }
   ],
   "source": [
    "enteros[1] = 8.4727\n",
    "enteros"
   ]
  },
  {
   "cell_type": "markdown",
   "id": "ca4af8e2",
   "metadata": {},
   "source": [
    "Numpy también nos permite crear arreglos con valores aleatorios del 0 al 1.\n",
    "Basta con pasarle las dimensiones del arreglo que queremos crear."
   ]
  },
  {
   "cell_type": "code",
   "execution_count": 5,
   "id": "9190d7ff",
   "metadata": {
    "execution": {
     "iopub.execute_input": "2021-11-02T15:54:26.738365Z",
     "iopub.status.busy": "2021-11-02T15:54:26.735858Z",
     "iopub.status.idle": "2021-11-02T15:54:26.741378Z",
     "shell.execute_reply": "2021-11-02T15:54:26.741906Z"
    }
   },
   "outputs": [
    {
     "data": {
      "text/plain": [
       "array([[0.62314646, 0.77532999, 0.14271743],\n",
       "       [0.83040229, 0.89867255, 0.36239201]])"
      ]
     },
     "execution_count": 5,
     "metadata": {},
     "output_type": "execute_result"
    }
   ],
   "source": [
    "np.random.rand(2, 3)"
   ]
  },
  {
   "cell_type": "markdown",
   "id": "2b23423b",
   "metadata": {},
   "source": [
    "## Slicing\n",
    "\n",
    "De la misma forma que con las listas de python, pueden obtenerse slices de los arreglos de numpy"
   ]
  },
  {
   "cell_type": "code",
   "execution_count": 6,
   "id": "c812174e",
   "metadata": {
    "execution": {
     "iopub.execute_input": "2021-11-02T15:54:26.748965Z",
     "iopub.status.busy": "2021-11-02T15:54:26.747527Z",
     "iopub.status.idle": "2021-11-02T15:54:26.751150Z",
     "shell.execute_reply": "2021-11-02T15:54:26.751692Z"
    },
    "lines_to_next_cell": 2
   },
   "outputs": [
    {
     "data": {
      "text/plain": [
       "array([1, 8])"
      ]
     },
     "execution_count": 6,
     "metadata": {},
     "output_type": "execute_result"
    }
   ],
   "source": [
    "enteros[:2]"
   ]
  },
  {
   "cell_type": "code",
   "execution_count": 7,
   "id": "34a031e1",
   "metadata": {
    "execution": {
     "iopub.execute_input": "2021-11-02T15:54:26.761116Z",
     "iopub.status.busy": "2021-11-02T15:54:26.759543Z",
     "iopub.status.idle": "2021-11-02T15:54:26.764048Z",
     "shell.execute_reply": "2021-11-02T15:54:26.763480Z"
    }
   },
   "outputs": [
    {
     "name": "stdout",
     "output_type": "stream",
     "text": [
      "Original: \n",
      "[[ 1  2  3  4]\n",
      " [ 5  6  7  8]\n",
      " [ 9 10 11 12]]\n",
      "\n",
      "Recortada: \n",
      "[[1 2 3]\n",
      " [5 6 7]]\n"
     ]
    }
   ],
   "source": [
    "matriz_de_enteros = np.array([[1, 2, 3, 4], [5, 6, 7, 8], [9, 10, 11, 12]])\n",
    "\n",
    "print('Original: ')\n",
    "print(matriz_de_enteros)\n",
    "\n",
    "print()\n",
    "\n",
    "print('Recortada: ')\n",
    "print(matriz_de_enteros[:2, :3])"
   ]
  },
  {
   "cell_type": "code",
   "execution_count": 8,
   "id": "a271a6e6",
   "metadata": {
    "execution": {
     "iopub.execute_input": "2021-11-02T15:54:26.770220Z",
     "iopub.status.busy": "2021-11-02T15:54:26.769580Z",
     "iopub.status.idle": "2021-11-02T15:54:26.772380Z",
     "shell.execute_reply": "2021-11-02T15:54:26.773011Z"
    }
   },
   "outputs": [
    {
     "data": {
      "text/plain": [
       "array([[[ 0,  1,  2,  3,  4],\n",
       "        [ 5,  6,  7,  8,  9],\n",
       "        [10, 11, 12, 13, 14]],\n",
       "\n",
       "       [[15, 16, 17, 18, 19],\n",
       "        [20, 21, 22, 23, 24],\n",
       "        [25, 26, 27, 28, 29]],\n",
       "\n",
       "       [[30, 31, 32, 33, 34],\n",
       "        [35, 36, 37, 38, 39],\n",
       "        [40, 41, 42, 43, 44]]])"
      ]
     },
     "execution_count": 8,
     "metadata": {},
     "output_type": "execute_result"
    }
   ],
   "source": [
    "# 3D\n",
    "# arange() genera valores de un intervalo pasado por parámetro\n",
    "# reshape() modifica la forma del numpy array\n",
    "\n",
    "x = np.arange(45).reshape(3, 3, 5)\n",
    "x"
   ]
  },
  {
   "cell_type": "code",
   "execution_count": 9,
   "id": "4eff3b4c",
   "metadata": {
    "execution": {
     "iopub.execute_input": "2021-11-02T15:54:26.778007Z",
     "iopub.status.busy": "2021-11-02T15:54:26.777373Z",
     "iopub.status.idle": "2021-11-02T15:54:26.780090Z",
     "shell.execute_reply": "2021-11-02T15:54:26.780720Z"
    }
   },
   "outputs": [
    {
     "data": {
      "text/plain": [
       "array([[ 0,  1,  2,  3,  4],\n",
       "       [ 5,  6,  7,  8,  9],\n",
       "       [10, 11, 12, 13, 14]])"
      ]
     },
     "execution_count": 9,
     "metadata": {},
     "output_type": "execute_result"
    }
   ],
   "source": [
    "x[0]"
   ]
  },
  {
   "cell_type": "code",
   "execution_count": 10,
   "id": "26c51c9c",
   "metadata": {
    "execution": {
     "iopub.execute_input": "2021-11-02T15:54:26.785582Z",
     "iopub.status.busy": "2021-11-02T15:54:26.784945Z",
     "iopub.status.idle": "2021-11-02T15:54:26.787802Z",
     "shell.execute_reply": "2021-11-02T15:54:26.788365Z"
    }
   },
   "outputs": [
    {
     "data": {
      "text/plain": [
       "array([5, 6, 7, 8, 9])"
      ]
     },
     "execution_count": 10,
     "metadata": {},
     "output_type": "execute_result"
    }
   ],
   "source": [
    "x[0][1]"
   ]
  },
  {
   "cell_type": "code",
   "execution_count": 11,
   "id": "63d04f72",
   "metadata": {
    "execution": {
     "iopub.execute_input": "2021-11-02T15:54:26.794171Z",
     "iopub.status.busy": "2021-11-02T15:54:26.793534Z",
     "iopub.status.idle": "2021-11-02T15:54:26.798750Z",
     "shell.execute_reply": "2021-11-02T15:54:26.798097Z"
    }
   },
   "outputs": [
    {
     "data": {
      "text/plain": [
       "7"
      ]
     },
     "execution_count": 11,
     "metadata": {},
     "output_type": "execute_result"
    }
   ],
   "source": [
    "x[0][1][2]"
   ]
  },
  {
   "cell_type": "markdown",
   "id": "d32d85ac",
   "metadata": {},
   "source": [
    "\n",
    "¿Cómo conseguimos estos valores? ([fuente](https://towardsdatascience.com/indexing-and-slicing-of-1d-2d-and-3d-arrays-in-numpy-e731afff0bbe))\n",
    "\n",
    "![title](img/matrix.png)"
   ]
  },
  {
   "cell_type": "code",
   "execution_count": 12,
   "id": "e7bea418",
   "metadata": {
    "execution": {
     "iopub.execute_input": "2021-11-02T15:54:26.805708Z",
     "iopub.status.busy": "2021-11-02T15:54:26.804206Z",
     "iopub.status.idle": "2021-11-02T15:54:26.809056Z",
     "shell.execute_reply": "2021-11-02T15:54:26.808493Z"
    }
   },
   "outputs": [
    {
     "data": {
      "text/plain": [
       "array([[[16, 17, 18],\n",
       "        [21, 22, 23]],\n",
       "\n",
       "       [[31, 32, 33],\n",
       "        [36, 37, 38]]])"
      ]
     },
     "execution_count": 12,
     "metadata": {},
     "output_type": "execute_result"
    }
   ],
   "source": [
    "x[1:, 0:2, 1:4]"
   ]
  },
  {
   "cell_type": "markdown",
   "id": "c1737aaa",
   "metadata": {},
   "source": [
    "### Copia de arreglos"
   ]
  },
  {
   "cell_type": "code",
   "execution_count": 13,
   "id": "0715e365",
   "metadata": {
    "execution": {
     "iopub.execute_input": "2021-11-02T15:54:26.814779Z",
     "iopub.status.busy": "2021-11-02T15:54:26.814128Z",
     "iopub.status.idle": "2021-11-02T15:54:26.817090Z",
     "shell.execute_reply": "2021-11-02T15:54:26.817618Z"
    }
   },
   "outputs": [
    {
     "data": {
      "text/plain": [
       "array([1, 2, 3, 4])"
      ]
     },
     "execution_count": 13,
     "metadata": {},
     "output_type": "execute_result"
    }
   ],
   "source": [
    "# Los arreglos no se copian con asignación\n",
    "\n",
    "a = np.array([1, 2, 3, 4])\n",
    "b = a\n",
    "b"
   ]
  },
  {
   "cell_type": "code",
   "execution_count": 14,
   "id": "b845c21d",
   "metadata": {
    "execution": {
     "iopub.execute_input": "2021-11-02T15:54:26.822712Z",
     "iopub.status.busy": "2021-11-02T15:54:26.822074Z",
     "iopub.status.idle": "2021-11-02T15:54:26.824890Z",
     "shell.execute_reply": "2021-11-02T15:54:26.825416Z"
    }
   },
   "outputs": [
    {
     "data": {
      "text/plain": [
       "array([ 1, 20,  3,  4])"
      ]
     },
     "execution_count": 14,
     "metadata": {},
     "output_type": "execute_result"
    }
   ],
   "source": [
    "b[1] = 20\n",
    "b"
   ]
  },
  {
   "cell_type": "code",
   "execution_count": 15,
   "id": "6235169b",
   "metadata": {
    "execution": {
     "iopub.execute_input": "2021-11-02T15:54:26.832023Z",
     "iopub.status.busy": "2021-11-02T15:54:26.830506Z",
     "iopub.status.idle": "2021-11-02T15:54:26.834921Z",
     "shell.execute_reply": "2021-11-02T15:54:26.834331Z"
    }
   },
   "outputs": [
    {
     "data": {
      "text/plain": [
       "array([ 1, 20,  3,  4])"
      ]
     },
     "execution_count": 15,
     "metadata": {},
     "output_type": "execute_result"
    }
   ],
   "source": [
    "a"
   ]
  },
  {
   "cell_type": "code",
   "execution_count": 16,
   "id": "77287cfd",
   "metadata": {
    "execution": {
     "iopub.execute_input": "2021-11-02T15:54:26.844346Z",
     "iopub.status.busy": "2021-11-02T15:54:26.842297Z",
     "iopub.status.idle": "2021-11-02T15:54:26.847328Z",
     "shell.execute_reply": "2021-11-02T15:54:26.846714Z"
    }
   },
   "outputs": [
    {
     "data": {
      "text/plain": [
       "array([ 1, 20,  3,  4])"
      ]
     },
     "execution_count": 16,
     "metadata": {},
     "output_type": "execute_result"
    }
   ],
   "source": [
    "# Para copiar un arreglo a otra variable debemos usar copy()\n",
    "\n",
    "a = np.array([1, 2, 3, 4])\n",
    "b = a.copy()\n",
    "b[1] = 20\n",
    "b"
   ]
  },
  {
   "cell_type": "code",
   "execution_count": 17,
   "id": "d87cd546",
   "metadata": {
    "execution": {
     "iopub.execute_input": "2021-11-02T15:54:26.853918Z",
     "iopub.status.busy": "2021-11-02T15:54:26.852407Z",
     "iopub.status.idle": "2021-11-02T15:54:26.858630Z",
     "shell.execute_reply": "2021-11-02T15:54:26.856068Z"
    }
   },
   "outputs": [
    {
     "data": {
      "text/plain": [
       "array([1, 2, 3, 4])"
      ]
     },
     "execution_count": 17,
     "metadata": {},
     "output_type": "execute_result"
    }
   ],
   "source": [
    "a"
   ]
  },
  {
   "cell_type": "markdown",
   "id": "8bcb5ccd",
   "metadata": {},
   "source": [
    "### Modificación de dimensiones"
   ]
  },
  {
   "cell_type": "markdown",
   "id": "91994029",
   "metadata": {},
   "source": [
    "Existen varias operaciones para cambiar la forma de un arreglo de numpy"
   ]
  },
  {
   "cell_type": "code",
   "execution_count": 18,
   "id": "147e4952",
   "metadata": {
    "execution": {
     "iopub.execute_input": "2021-11-02T15:54:26.863516Z",
     "iopub.status.busy": "2021-11-02T15:54:26.862841Z",
     "iopub.status.idle": "2021-11-02T15:54:26.865839Z",
     "shell.execute_reply": "2021-11-02T15:54:26.866369Z"
    }
   },
   "outputs": [
    {
     "data": {
      "text/plain": [
       "array([[ 1,  2,  3,  4],\n",
       "       [ 5,  6,  7,  8],\n",
       "       [ 9, 10, 11, 12]])"
      ]
     },
     "execution_count": 18,
     "metadata": {},
     "output_type": "execute_result"
    }
   ],
   "source": [
    "matriz_de_enteros"
   ]
  },
  {
   "cell_type": "code",
   "execution_count": 19,
   "id": "92e558e7",
   "metadata": {
    "execution": {
     "iopub.execute_input": "2021-11-02T15:54:26.870954Z",
     "iopub.status.busy": "2021-11-02T15:54:26.870312Z",
     "iopub.status.idle": "2021-11-02T15:54:26.873094Z",
     "shell.execute_reply": "2021-11-02T15:54:26.873623Z"
    }
   },
   "outputs": [
    {
     "data": {
      "text/plain": [
       "2"
      ]
     },
     "execution_count": 19,
     "metadata": {},
     "output_type": "execute_result"
    }
   ],
   "source": [
    "# Obtener las dimensiones del arreglo\n",
    "\n",
    "matriz_de_enteros.ndim"
   ]
  },
  {
   "cell_type": "code",
   "execution_count": 20,
   "id": "753a242f",
   "metadata": {
    "execution": {
     "iopub.execute_input": "2021-11-02T15:54:26.878341Z",
     "iopub.status.busy": "2021-11-02T15:54:26.877700Z",
     "iopub.status.idle": "2021-11-02T15:54:26.880458Z",
     "shell.execute_reply": "2021-11-02T15:54:26.881019Z"
    }
   },
   "outputs": [
    {
     "data": {
      "text/plain": [
       "(3, 4)"
      ]
     },
     "execution_count": 20,
     "metadata": {},
     "output_type": "execute_result"
    }
   ],
   "source": [
    "# Obtener la forma del arreglo\n",
    "\n",
    "matriz_de_enteros.shape"
   ]
  },
  {
   "cell_type": "code",
   "execution_count": 21,
   "id": "5e575650",
   "metadata": {
    "execution": {
     "iopub.execute_input": "2021-11-02T15:54:26.885753Z",
     "iopub.status.busy": "2021-11-02T15:54:26.885101Z",
     "iopub.status.idle": "2021-11-02T15:54:26.889870Z",
     "shell.execute_reply": "2021-11-02T15:54:26.890400Z"
    }
   },
   "outputs": [
    {
     "name": "stdout",
     "output_type": "stream",
     "text": [
      "enteros: [ 3  6  9 12]\n"
     ]
    },
    {
     "data": {
      "text/plain": [
       "array([[ 3,  6],\n",
       "       [ 9, 12]])"
      ]
     },
     "execution_count": 21,
     "metadata": {},
     "output_type": "execute_result"
    }
   ],
   "source": [
    "# Modificar la forma de un arreglo\n",
    "\n",
    "enteros = np.array([3, 6, 9, 12])\n",
    "print(f\"enteros: {enteros}\")\n",
    "np.reshape(enteros, (2, 2))"
   ]
  },
  {
   "cell_type": "code",
   "execution_count": 22,
   "id": "96aa538d",
   "metadata": {
    "execution": {
     "iopub.execute_input": "2021-11-02T15:54:26.895494Z",
     "iopub.status.busy": "2021-11-02T15:54:26.894815Z",
     "iopub.status.idle": "2021-11-02T15:54:26.897827Z",
     "shell.execute_reply": "2021-11-02T15:54:26.898363Z"
    }
   },
   "outputs": [
    {
     "data": {
      "text/plain": [
       "array([[1., 1.],\n",
       "       [1., 1.]])"
      ]
     },
     "execution_count": 22,
     "metadata": {},
     "output_type": "execute_result"
    }
   ],
   "source": [
    "# Aplanar un arreglo\n",
    "\n",
    "a = np.ones((2, 2))\n",
    "a"
   ]
  },
  {
   "cell_type": "code",
   "execution_count": 23,
   "id": "96c152f7",
   "metadata": {
    "execution": {
     "iopub.execute_input": "2021-11-02T15:54:26.905390Z",
     "iopub.status.busy": "2021-11-02T15:54:26.903858Z",
     "iopub.status.idle": "2021-11-02T15:54:26.908859Z",
     "shell.execute_reply": "2021-11-02T15:54:26.908274Z"
    }
   },
   "outputs": [
    {
     "data": {
      "text/plain": [
       "array([1., 1., 1., 1.])"
      ]
     },
     "execution_count": 23,
     "metadata": {},
     "output_type": "execute_result"
    }
   ],
   "source": [
    "a.flatten()"
   ]
  },
  {
   "cell_type": "code",
   "execution_count": 24,
   "id": "c84d7f88",
   "metadata": {
    "execution": {
     "iopub.execute_input": "2021-11-02T15:54:26.913420Z",
     "iopub.status.busy": "2021-11-02T15:54:26.912776Z",
     "iopub.status.idle": "2021-11-02T15:54:26.915887Z",
     "shell.execute_reply": "2021-11-02T15:54:26.916416Z"
    },
    "lines_to_next_cell": 2
   },
   "outputs": [
    {
     "data": {
      "text/plain": [
       "array([[1., 1.],\n",
       "       [1., 1.]])"
      ]
     },
     "execution_count": 24,
     "metadata": {},
     "output_type": "execute_result"
    }
   ],
   "source": [
    "a"
   ]
  },
  {
   "cell_type": "markdown",
   "id": "d0aa0d42",
   "metadata": {},
   "source": [
    "### Combinación de arreglos (Stacking)"
   ]
  },
  {
   "cell_type": "code",
   "execution_count": 25,
   "id": "4ca7dd1a",
   "metadata": {
    "execution": {
     "iopub.execute_input": "2021-11-02T15:54:26.921727Z",
     "iopub.status.busy": "2021-11-02T15:54:26.921088Z",
     "iopub.status.idle": "2021-11-02T15:54:26.923837Z",
     "shell.execute_reply": "2021-11-02T15:54:26.924399Z"
    }
   },
   "outputs": [
    {
     "data": {
      "text/plain": [
       "array([0, 1, 2, 3, 4])"
      ]
     },
     "execution_count": 25,
     "metadata": {},
     "output_type": "execute_result"
    }
   ],
   "source": [
    "# Los arreglos se pueden combinar verticalmente (se incrementa la cantidad de filas)\n",
    "\n",
    "a = np.arange(0, 5)\n",
    "a"
   ]
  },
  {
   "cell_type": "code",
   "execution_count": 26,
   "id": "888df90e",
   "metadata": {
    "execution": {
     "iopub.execute_input": "2021-11-02T15:54:26.929643Z",
     "iopub.status.busy": "2021-11-02T15:54:26.928999Z",
     "iopub.status.idle": "2021-11-02T15:54:26.931803Z",
     "shell.execute_reply": "2021-11-02T15:54:26.932334Z"
    }
   },
   "outputs": [
    {
     "data": {
      "text/plain": [
       "array([5, 6, 7, 8, 9])"
      ]
     },
     "execution_count": 26,
     "metadata": {},
     "output_type": "execute_result"
    }
   ],
   "source": [
    "b = np.arange(5, 10)\n",
    "b"
   ]
  },
  {
   "cell_type": "code",
   "execution_count": 27,
   "id": "d16cc014",
   "metadata": {
    "execution": {
     "iopub.execute_input": "2021-11-02T15:54:26.937699Z",
     "iopub.status.busy": "2021-11-02T15:54:26.936935Z",
     "iopub.status.idle": "2021-11-02T15:54:26.939787Z",
     "shell.execute_reply": "2021-11-02T15:54:26.940402Z"
    }
   },
   "outputs": [
    {
     "data": {
      "text/plain": [
       "array([[0, 1, 2, 3, 4],\n",
       "       [5, 6, 7, 8, 9]])"
      ]
     },
     "execution_count": 27,
     "metadata": {},
     "output_type": "execute_result"
    }
   ],
   "source": [
    "combinados_verticalmente = np.vstack((a, b))\n",
    "combinados_verticalmente"
   ]
  },
  {
   "cell_type": "code",
   "execution_count": 28,
   "id": "deba5464",
   "metadata": {
    "execution": {
     "iopub.execute_input": "2021-11-02T15:54:26.945507Z",
     "iopub.status.busy": "2021-11-02T15:54:26.944861Z",
     "iopub.status.idle": "2021-11-02T15:54:26.947727Z",
     "shell.execute_reply": "2021-11-02T15:54:26.948295Z"
    }
   },
   "outputs": [
    {
     "data": {
      "text/plain": [
       "array([0, 1, 2, 3, 4, 5, 6, 7, 8, 9])"
      ]
     },
     "execution_count": 28,
     "metadata": {},
     "output_type": "execute_result"
    }
   ],
   "source": [
    "# También se pueden combinar horizontalmente (se incrementa la cantidad de columnas)\n",
    "\n",
    "combinados_horizontalmente = np.hstack((a, b))\n",
    "combinados_horizontalmente"
   ]
  },
  {
   "cell_type": "markdown",
   "id": "fa3ac52a",
   "metadata": {},
   "source": [
    "### Operaciones matemáticas"
   ]
  },
  {
   "cell_type": "code",
   "execution_count": 29,
   "id": "424d65d8",
   "metadata": {
    "execution": {
     "iopub.execute_input": "2021-11-02T15:54:26.955608Z",
     "iopub.status.busy": "2021-11-02T15:54:26.954049Z",
     "iopub.status.idle": "2021-11-02T15:54:26.959141Z",
     "shell.execute_reply": "2021-11-02T15:54:26.958564Z"
    }
   },
   "outputs": [
    {
     "data": {
      "text/plain": [
       "array([3, 4, 5, 6])"
      ]
     },
     "execution_count": 29,
     "metadata": {},
     "output_type": "execute_result"
    }
   ],
   "source": [
    "a = np.array([1, 2, 3, 4])\n",
    "\n",
    "a + 2"
   ]
  },
  {
   "cell_type": "code",
   "execution_count": 30,
   "id": "2c1951a1",
   "metadata": {
    "execution": {
     "iopub.execute_input": "2021-11-02T15:54:26.963867Z",
     "iopub.status.busy": "2021-11-02T15:54:26.963218Z",
     "iopub.status.idle": "2021-11-02T15:54:26.966924Z",
     "shell.execute_reply": "2021-11-02T15:54:26.966359Z"
    }
   },
   "outputs": [
    {
     "data": {
      "text/plain": [
       "array([ 1,  4,  9, 16])"
      ]
     },
     "execution_count": 30,
     "metadata": {},
     "output_type": "execute_result"
    }
   ],
   "source": [
    "a ** 2"
   ]
  },
  {
   "cell_type": "code",
   "execution_count": 31,
   "id": "178707fb",
   "metadata": {
    "execution": {
     "iopub.execute_input": "2021-11-02T15:54:26.973979Z",
     "iopub.status.busy": "2021-11-02T15:54:26.973340Z",
     "iopub.status.idle": "2021-11-02T15:54:26.977205Z",
     "shell.execute_reply": "2021-11-02T15:54:26.977850Z"
    }
   },
   "outputs": [
    {
     "name": "stdout",
     "output_type": "stream",
     "text": [
      "b: [1. 1. 1. 1.]\n"
     ]
    },
    {
     "data": {
      "text/plain": [
       "array([2., 3., 4., 5.])"
      ]
     },
     "execution_count": 31,
     "metadata": {},
     "output_type": "execute_result"
    }
   ],
   "source": [
    "b = np.ones(4)\n",
    "print(f\"b: {b}\")\n",
    "a + b"
   ]
  },
  {
   "cell_type": "markdown",
   "id": "fb1aff7f",
   "metadata": {},
   "source": [
    "### Estadística"
   ]
  },
  {
   "cell_type": "code",
   "execution_count": 32,
   "id": "1763ab90",
   "metadata": {
    "execution": {
     "iopub.execute_input": "2021-11-02T15:54:26.983537Z",
     "iopub.status.busy": "2021-11-02T15:54:26.982854Z",
     "iopub.status.idle": "2021-11-02T15:54:26.985853Z",
     "shell.execute_reply": "2021-11-02T15:54:26.986399Z"
    }
   },
   "outputs": [
    {
     "data": {
      "text/plain": [
       "1"
      ]
     },
     "execution_count": 32,
     "metadata": {},
     "output_type": "execute_result"
    }
   ],
   "source": [
    "a = np.array([[5, 2, 1, 8], [26, 4, 17, 9]])\n",
    "\n",
    "np.min(a)"
   ]
  },
  {
   "cell_type": "code",
   "execution_count": 33,
   "id": "995ad650",
   "metadata": {
    "execution": {
     "iopub.execute_input": "2021-11-02T15:54:26.989596Z",
     "iopub.status.busy": "2021-11-02T15:54:26.988953Z",
     "iopub.status.idle": "2021-11-02T15:54:26.993811Z",
     "shell.execute_reply": "2021-11-02T15:54:26.994345Z"
    }
   },
   "outputs": [
    {
     "data": {
      "text/plain": [
       "26"
      ]
     },
     "execution_count": 33,
     "metadata": {},
     "output_type": "execute_result"
    }
   ],
   "source": [
    "np.max(a)"
   ]
  },
  {
   "cell_type": "code",
   "execution_count": 34,
   "id": "73ee65b6",
   "metadata": {
    "execution": {
     "iopub.execute_input": "2021-11-02T15:54:27.000216Z",
     "iopub.status.busy": "2021-11-02T15:54:26.999569Z",
     "iopub.status.idle": "2021-11-02T15:54:27.002350Z",
     "shell.execute_reply": "2021-11-02T15:54:27.002880Z"
    }
   },
   "outputs": [
    {
     "data": {
      "text/plain": [
       "72"
      ]
     },
     "execution_count": 34,
     "metadata": {},
     "output_type": "execute_result"
    }
   ],
   "source": [
    "np.sum(a)"
   ]
  },
  {
   "cell_type": "markdown",
   "id": "49be90df",
   "metadata": {},
   "source": [
    "### Más magia"
   ]
  },
  {
   "cell_type": "code",
   "execution_count": 35,
   "id": "311dfc9e",
   "metadata": {
    "execution": {
     "iopub.execute_input": "2021-11-02T15:54:27.009045Z",
     "iopub.status.busy": "2021-11-02T15:54:27.008395Z",
     "iopub.status.idle": "2021-11-02T15:54:27.011084Z",
     "shell.execute_reply": "2021-11-02T15:54:27.011764Z"
    }
   },
   "outputs": [
    {
     "data": {
      "text/plain": [
       "array([[False, False, False,  True],\n",
       "       [ True, False,  True,  True]])"
      ]
     },
     "execution_count": 35,
     "metadata": {},
     "output_type": "execute_result"
    }
   ],
   "source": [
    "a = np.array([[5, 2, 1, 8], [26, 4, 17, 9]])\n",
    "\n",
    "a > 5"
   ]
  },
  {
   "cell_type": "code",
   "execution_count": 36,
   "id": "8daf3a35",
   "metadata": {
    "execution": {
     "iopub.execute_input": "2021-11-02T15:54:27.016484Z",
     "iopub.status.busy": "2021-11-02T15:54:27.015858Z",
     "iopub.status.idle": "2021-11-02T15:54:27.020374Z",
     "shell.execute_reply": "2021-11-02T15:54:27.020865Z"
    }
   },
   "outputs": [
    {
     "data": {
      "text/plain": [
       "array([ 8, 26, 17,  9])"
      ]
     },
     "execution_count": 36,
     "metadata": {},
     "output_type": "execute_result"
    }
   ],
   "source": [
    "a[a > 5]"
   ]
  },
  {
   "cell_type": "markdown",
   "id": "5f391caa",
   "metadata": {},
   "source": [
    "### Broadcasting"
   ]
  },
  {
   "cell_type": "markdown",
   "id": "e3b98fa3",
   "metadata": {},
   "source": [
    "Permite realizar operaciones entre dos numpy arrays de distintas dimensiones.\n",
    "Para lograr esto, las dimensiones de los mismos deben ser compatibles. Dos dimensiones son compatibles cuando:\n",
    "1. Son iguales\n",
    "2. Alguna de las dos es 1"
   ]
  },
  {
   "cell_type": "code",
   "execution_count": 37,
   "id": "f14a4587",
   "metadata": {
    "execution": {
     "iopub.execute_input": "2021-11-02T15:54:27.026470Z",
     "iopub.status.busy": "2021-11-02T15:54:27.025836Z",
     "iopub.status.idle": "2021-11-02T15:54:27.032375Z",
     "shell.execute_reply": "2021-11-02T15:54:27.031820Z"
    }
   },
   "outputs": [
    {
     "data": {
      "text/plain": [
       "array([[ 5,  2,  1,  8],\n",
       "       [26,  4, 17,  9]])"
      ]
     },
     "execution_count": 37,
     "metadata": {},
     "output_type": "execute_result"
    }
   ],
   "source": [
    "a = np.array([[5, 2, 1, 8], [26, 4, 17, 9]])\n",
    "a"
   ]
  },
  {
   "cell_type": "code",
   "execution_count": 38,
   "id": "7d5ee265",
   "metadata": {
    "execution": {
     "iopub.execute_input": "2021-11-02T15:54:27.038207Z",
     "iopub.status.busy": "2021-11-02T15:54:27.037479Z",
     "iopub.status.idle": "2021-11-02T15:54:27.042054Z",
     "shell.execute_reply": "2021-11-02T15:54:27.042574Z"
    }
   },
   "outputs": [
    {
     "name": "stdout",
     "output_type": "stream",
     "text": [
      "a: (2, 4)\n",
      "b: (4,)\n",
      "\n",
      "a + b:\n",
      " [[10  4  2 16]\n",
      " [31  6 18 17]]\n"
     ]
    }
   ],
   "source": [
    "# Armamos un array que tenga la misma cantidad de columnas que a\n",
    "b = np.array([5, 2, 1, 8])\n",
    "print(f\"a: {a.shape}\")\n",
    "print(f\"b: {b.shape}\")\n",
    "# a + b\n",
    "print()\n",
    "print(f\"a + b:\\n {a + b}\")"
   ]
  },
  {
   "cell_type": "code",
   "execution_count": 39,
   "id": "dcbc958a",
   "metadata": {
    "execution": {
     "iopub.execute_input": "2021-11-02T15:54:27.047449Z",
     "iopub.status.busy": "2021-11-02T15:54:27.046787Z",
     "iopub.status.idle": "2021-11-02T15:54:27.155049Z",
     "shell.execute_reply": "2021-11-02T15:54:27.155651Z"
    },
    "tags": [
     "raises-exception"
    ]
   },
   "outputs": [
    {
     "name": "stdout",
     "output_type": "stream",
     "text": [
      "a: (2, 4)\n",
      "b: (3,)\n"
     ]
    },
    {
     "ename": "ValueError",
     "evalue": "operands could not be broadcast together with shapes (2,4) (3,) ",
     "output_type": "error",
     "traceback": [
      "\u001b[0;31m---------------------------------------------------------------------------\u001b[0m",
      "\u001b[0;31mValueError\u001b[0m                                Traceback (most recent call last)",
      "\u001b[0;32m/tmp/ipykernel_2534/261865458.py\u001b[0m in \u001b[0;36m<module>\u001b[0;34m\u001b[0m\n\u001b[1;32m      3\u001b[0m \u001b[0mprint\u001b[0m\u001b[0;34m(\u001b[0m\u001b[0;34mf\"a: {a.shape}\"\u001b[0m\u001b[0;34m)\u001b[0m\u001b[0;34m\u001b[0m\u001b[0;34m\u001b[0m\u001b[0m\n\u001b[1;32m      4\u001b[0m \u001b[0mprint\u001b[0m\u001b[0;34m(\u001b[0m\u001b[0;34mf\"b: {b.shape}\"\u001b[0m\u001b[0;34m)\u001b[0m\u001b[0;34m\u001b[0m\u001b[0;34m\u001b[0m\u001b[0m\n\u001b[0;32m----> 5\u001b[0;31m \u001b[0ma\u001b[0m \u001b[0;34m+\u001b[0m \u001b[0mb\u001b[0m\u001b[0;34m\u001b[0m\u001b[0;34m\u001b[0m\u001b[0m\n\u001b[0m",
      "\u001b[0;31mValueError\u001b[0m: operands could not be broadcast together with shapes (2,4) (3,) "
     ]
    }
   ],
   "source": [
    "# Armamos un array que tenga distinta cantidad de filas y columnas que a\n",
    "b = np.array([5, 1, 8])\n",
    "print(f\"a: {a.shape}\")\n",
    "print(f\"b: {b.shape}\")\n",
    "a + b"
   ]
  },
  {
   "cell_type": "code",
   "execution_count": 40,
   "id": "9d6aec2a",
   "metadata": {
    "execution": {
     "iopub.execute_input": "2021-11-02T15:54:27.163291Z",
     "iopub.status.busy": "2021-11-02T15:54:27.162610Z",
     "iopub.status.idle": "2021-11-02T15:54:27.167350Z",
     "shell.execute_reply": "2021-11-02T15:54:27.166628Z"
    }
   },
   "outputs": [
    {
     "name": "stdout",
     "output_type": "stream",
     "text": [
      "a: (2, 4)\n",
      "b: (2, 1)\n"
     ]
    },
    {
     "data": {
      "text/plain": [
       "array([[ 7,  4,  3, 10],\n",
       "       [27,  5, 18, 10]])"
      ]
     },
     "execution_count": 40,
     "metadata": {},
     "output_type": "execute_result"
    }
   ],
   "source": [
    "# Armamos un array que tenga la misma cantidad de filas que a\n",
    "b = np.array([[2], [1]])\n",
    "print(f\"a: {a.shape}\")\n",
    "print(f\"b: {b.shape}\")\n",
    "a + b"
   ]
  },
  {
   "cell_type": "code",
   "execution_count": 41,
   "id": "8283499f",
   "metadata": {
    "execution": {
     "iopub.execute_input": "2021-11-02T15:54:27.172663Z",
     "iopub.status.busy": "2021-11-02T15:54:27.171995Z",
     "iopub.status.idle": "2021-11-02T15:54:27.178428Z",
     "shell.execute_reply": "2021-11-02T15:54:27.177546Z"
    }
   },
   "outputs": [
    {
     "data": {
      "text/plain": [
       "array([[ 9,  6,  5, 12],\n",
       "       [30,  8, 21, 13]])"
      ]
     },
     "execution_count": 41,
     "metadata": {},
     "output_type": "execute_result"
    }
   ],
   "source": [
    "# Si b es un entero\n",
    "b = 4\n",
    "a + b"
   ]
  },
  {
   "cell_type": "code",
   "execution_count": null,
   "id": "d1076142",
   "metadata": {},
   "outputs": [],
   "source": []
  }
 ],
 "metadata": {
  "jupytext": {
   "encoding": "# -*- coding: utf-8 -*-",
   "formats": "ipynb,py:light"
  },
  "kernelspec": {
   "display_name": "Python 3",
   "language": "python",
   "name": "python3"
  },
  "language_info": {
   "codemirror_mode": {
    "name": "ipython",
    "version": 3
   },
   "file_extension": ".py",
   "mimetype": "text/x-python",
   "name": "python",
   "nbconvert_exporter": "python",
   "pygments_lexer": "ipython3",
   "version": "3.7.12"
  }
 },
 "nbformat": 4,
 "nbformat_minor": 5
}
