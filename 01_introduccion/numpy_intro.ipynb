{
 "cells": [
  {
   "cell_type": "markdown",
   "id": "affecting-television",
   "metadata": {},
   "source": [
    "## Clase 1 - Introducción a Numpy\n",
    "\n",
    "Numpy es una biblioteca para Python que facilita el manejo de arreglos multidimensionales y ofrece varias herramientas para trabajar con ellos. Muchas de las bibliotecas de Python que son ampliamente usadas hoy en día, como pandas, están construidas sobre numpy.\n",
    "\n",
    "### Listas de Python vs arreglos de Numpy\n",
    "\n",
    "A primera vista, un arreglo de numpy puede resultar idéntico a una lista de python, pero a medida que la cantidad de datos comienza a incrementar, los arreglos de numpy terminan ofreciendo un manejo más eficiente de la memoria.\n",
    "\n",
    "Para comenzar, vamos a crear un arreglo de numpy:"
   ]
  },
  {
   "cell_type": "code",
   "execution_count": 1,
   "id": "unexpected-chambers",
   "metadata": {
    "execution": {
     "iopub.execute_input": "2021-02-09T23:58:22.144228Z",
     "iopub.status.busy": "2021-02-09T23:58:22.143130Z",
     "iopub.status.idle": "2021-02-09T23:58:22.351967Z",
     "shell.execute_reply": "2021-02-09T23:58:22.352498Z"
    }
   },
   "outputs": [
    {
     "data": {
      "text/plain": [
       "array([1, 2, 3, 4])"
      ]
     },
     "execution_count": 1,
     "metadata": {},
     "output_type": "execute_result"
    }
   ],
   "source": [
    "import numpy as np\n",
    "\n",
    "np.array([1, 2, 3, 4])"
   ]
  },
  {
   "cell_type": "markdown",
   "id": "timely-brain",
   "metadata": {},
   "source": [
    "Los arreglos pueden ser también multidimensionales:"
   ]
  },
  {
   "cell_type": "code",
   "execution_count": 2,
   "id": "august-administration",
   "metadata": {
    "execution": {
     "iopub.execute_input": "2021-02-09T23:58:22.360180Z",
     "iopub.status.busy": "2021-02-09T23:58:22.358910Z",
     "iopub.status.idle": "2021-02-09T23:58:22.363361Z",
     "shell.execute_reply": "2021-02-09T23:58:22.362698Z"
    }
   },
   "outputs": [
    {
     "data": {
      "text/plain": [
       "array([[1, 2, 3, 4],\n",
       "       [5, 6, 7, 8]])"
      ]
     },
     "execution_count": 1,
     "metadata": {},
     "output_type": "execute_result"
    }
   ],
   "source": [
    "np.array([[1, 2, 3, 4], [5, 6, 7, 8]])"
   ]
  },
  {
   "cell_type": "markdown",
   "id": "attended-optimization",
   "metadata": {},
   "source": [
    "Es importante tener en cuenta que un arreglo de numpy tiene un tipo fijo de datos, entonces si se quiere agregar un dato de un tipo diferente al de la mayoría, este va a ser modificado para adaptarse al resto"
   ]
  },
  {
   "cell_type": "code",
   "execution_count": 3,
   "id": "regular-constraint",
   "metadata": {
    "execution": {
     "iopub.execute_input": "2021-02-09T23:58:22.369382Z",
     "iopub.status.busy": "2021-02-09T23:58:22.367736Z",
     "iopub.status.idle": "2021-02-09T23:58:22.370116Z",
     "shell.execute_reply": "2021-02-09T23:58:22.370629Z"
    }
   },
   "outputs": [],
   "source": [
    "enteros = np.array([1, 2, 3, 4])"
   ]
  },
  {
   "cell_type": "markdown",
   "id": "worth-destination",
   "metadata": {},
   "source": [
    "Agrego un elemento de tipo flotante en la posición 1"
   ]
  },
  {
   "cell_type": "code",
   "execution_count": 4,
   "id": "precious-folks",
   "metadata": {
    "execution": {
     "iopub.execute_input": "2021-02-09T23:58:22.377820Z",
     "iopub.status.busy": "2021-02-09T23:58:22.376090Z",
     "iopub.status.idle": "2021-02-09T23:58:22.380374Z",
     "shell.execute_reply": "2021-02-09T23:58:22.379563Z"
    }
   },
   "outputs": [
    {
     "data": {
      "text/plain": [
       "array([1, 8, 3, 4])"
      ]
     },
     "execution_count": 1,
     "metadata": {},
     "output_type": "execute_result"
    }
   ],
   "source": [
    "enteros[1] = 8.4727\n",
    "enteros"
   ]
  },
  {
   "cell_type": "markdown",
   "id": "moderate-ranking",
   "metadata": {},
   "source": [
    "Numpy también nos permite crear arreglos con valores aleatorios del 0 al 1.\n",
    "Basta con pasarle las dimensiones del arreglo que queremos crear."
   ]
  },
  {
   "cell_type": "code",
   "execution_count": 5,
   "id": "patent-softball",
   "metadata": {
    "execution": {
     "iopub.execute_input": "2021-02-09T23:58:22.387889Z",
     "iopub.status.busy": "2021-02-09T23:58:22.386719Z",
     "iopub.status.idle": "2021-02-09T23:58:22.390664Z",
     "shell.execute_reply": "2021-02-09T23:58:22.390054Z"
    }
   },
   "outputs": [
    {
     "data": {
      "text/plain": [
       "array([[0.9589769 , 0.98016199, 0.37441667],\n",
       "       [0.75623622, 0.95730978, 0.48638579]])"
      ]
     },
     "execution_count": 1,
     "metadata": {},
     "output_type": "execute_result"
    }
   ],
   "source": [
    "np.random.rand(2, 3)"
   ]
  },
  {
   "cell_type": "markdown",
   "id": "compliant-native",
   "metadata": {},
   "source": [
    "## Slicing\n",
    "\n",
    "De la misma forma que con las listas de python, pueden obtenerse slices de los arreglos de numpy"
   ]
  },
  {
   "cell_type": "code",
   "execution_count": 6,
   "id": "improving-creativity",
   "metadata": {
    "execution": {
     "iopub.execute_input": "2021-02-09T23:58:22.397607Z",
     "iopub.status.busy": "2021-02-09T23:58:22.395982Z",
     "iopub.status.idle": "2021-02-09T23:58:22.399878Z",
     "shell.execute_reply": "2021-02-09T23:58:22.399292Z"
    },
    "lines_to_next_cell": 2
   },
   "outputs": [
    {
     "data": {
      "text/plain": [
       "array([1, 8])"
      ]
     },
     "execution_count": 1,
     "metadata": {},
     "output_type": "execute_result"
    }
   ],
   "source": [
    "enteros[:2]"
   ]
  },
  {
   "cell_type": "code",
   "execution_count": 7,
   "id": "driven-brand",
   "metadata": {
    "execution": {
     "iopub.execute_input": "2021-02-09T23:58:22.407059Z",
     "iopub.status.busy": "2021-02-09T23:58:22.404551Z",
     "iopub.status.idle": "2021-02-09T23:58:22.409841Z",
     "shell.execute_reply": "2021-02-09T23:58:22.410452Z"
    }
   },
   "outputs": [
    {
     "name": "stdout",
     "output_type": "stream",
     "text": [
      "Original: \n",
      "[[ 1  2  3  4]\n",
      " [ 5  6  7  8]\n",
      " [ 9 10 11 12]]\n",
      "\n",
      "Recortada: \n",
      "[[1 2 3]\n",
      " [5 6 7]]\n"
     ]
    }
   ],
   "source": [
    "matriz_de_enteros = np.array([[1, 2, 3, 4], [5, 6, 7, 8], [9, 10, 11, 12]])\n",
    "\n",
    "print('Original: ')\n",
    "print(matriz_de_enteros)\n",
    "\n",
    "print()\n",
    "\n",
    "print('Recortada: ')\n",
    "print(matriz_de_enteros[:2, :3])"
   ]
  },
  {
   "cell_type": "code",
   "execution_count": 8,
   "id": "ceramic-concern",
   "metadata": {
    "execution": {
     "iopub.execute_input": "2021-02-09T23:58:22.417122Z",
     "iopub.status.busy": "2021-02-09T23:58:22.415803Z",
     "iopub.status.idle": "2021-02-09T23:58:22.420037Z",
     "shell.execute_reply": "2021-02-09T23:58:22.419326Z"
    }
   },
   "outputs": [
    {
     "data": {
      "text/plain": [
       "array([[[ 0,  1,  2,  3,  4],\n",
       "        [ 5,  6,  7,  8,  9],\n",
       "        [10, 11, 12, 13, 14]],\n",
       "\n",
       "       [[15, 16, 17, 18, 19],\n",
       "        [20, 21, 22, 23, 24],\n",
       "        [25, 26, 27, 28, 29]],\n",
       "\n",
       "       [[30, 31, 32, 33, 34],\n",
       "        [35, 36, 37, 38, 39],\n",
       "        [40, 41, 42, 43, 44]]])"
      ]
     },
     "execution_count": 1,
     "metadata": {},
     "output_type": "execute_result"
    }
   ],
   "source": [
    "# 3D\n",
    "x = np.arange(45).reshape(3, 3, 5)\n",
    "x"
   ]
  },
  {
   "cell_type": "code",
   "execution_count": 9,
   "id": "ethical-original",
   "metadata": {
    "execution": {
     "iopub.execute_input": "2021-02-09T23:58:22.425839Z",
     "iopub.status.busy": "2021-02-09T23:58:22.425173Z",
     "iopub.status.idle": "2021-02-09T23:58:22.428547Z",
     "shell.execute_reply": "2021-02-09T23:58:22.429133Z"
    }
   },
   "outputs": [
    {
     "data": {
      "text/plain": [
       "array([[ 0,  1,  2,  3,  4],\n",
       "       [ 5,  6,  7,  8,  9],\n",
       "       [10, 11, 12, 13, 14]])"
      ]
     },
     "execution_count": 1,
     "metadata": {},
     "output_type": "execute_result"
    }
   ],
   "source": [
    "x[0]"
   ]
  },
  {
   "cell_type": "markdown",
   "id": "lesser-cooling",
   "metadata": {},
   "source": [
    "\n",
    "¿Cómo conseguimos estos valores? ([fuente](https://towardsdatascience.com/indexing-and-slicing-of-1d-2d-and-3d-arrays-in-numpy-e731afff0bbe))\n",
    "\n",
    "![title](img/matrix.png)"
   ]
  },
  {
   "cell_type": "code",
   "execution_count": 10,
   "id": "recreational-diagnosis",
   "metadata": {
    "execution": {
     "iopub.execute_input": "2021-02-09T23:58:22.436200Z",
     "iopub.status.busy": "2021-02-09T23:58:22.434554Z",
     "iopub.status.idle": "2021-02-09T23:58:22.438515Z",
     "shell.execute_reply": "2021-02-09T23:58:22.437945Z"
    }
   },
   "outputs": [
    {
     "data": {
      "text/plain": [
       "array([[[16, 17, 18],\n",
       "        [21, 22, 23]],\n",
       "\n",
       "       [[31, 32, 33],\n",
       "        [36, 37, 38]]])"
      ]
     },
     "execution_count": 1,
     "metadata": {},
     "output_type": "execute_result"
    }
   ],
   "source": [
    "x[1:, 0:2, 1:4]"
   ]
  },
  {
   "cell_type": "markdown",
   "id": "billion-lotus",
   "metadata": {},
   "source": [
    "### Copia de arreglos"
   ]
  },
  {
   "cell_type": "code",
   "execution_count": 11,
   "id": "polyphonic-examination",
   "metadata": {
    "execution": {
     "iopub.execute_input": "2021-02-09T23:58:22.445022Z",
     "iopub.status.busy": "2021-02-09T23:58:22.443800Z",
     "iopub.status.idle": "2021-02-09T23:58:22.446987Z",
     "shell.execute_reply": "2021-02-09T23:58:22.447516Z"
    }
   },
   "outputs": [
    {
     "data": {
      "text/plain": [
       "array([1, 2, 3, 4])"
      ]
     },
     "execution_count": 1,
     "metadata": {},
     "output_type": "execute_result"
    }
   ],
   "source": [
    "# Los arreglos no se copian con asignación\n",
    "\n",
    "a = np.array([1, 2, 3, 4])\n",
    "b = a\n",
    "b"
   ]
  },
  {
   "cell_type": "code",
   "execution_count": 12,
   "id": "frozen-barrel",
   "metadata": {
    "execution": {
     "iopub.execute_input": "2021-02-09T23:58:22.453589Z",
     "iopub.status.busy": "2021-02-09T23:58:22.452436Z",
     "iopub.status.idle": "2021-02-09T23:58:22.456114Z",
     "shell.execute_reply": "2021-02-09T23:58:22.456671Z"
    }
   },
   "outputs": [
    {
     "data": {
      "text/plain": [
       "array([ 1, 20,  3,  4])"
      ]
     },
     "execution_count": 1,
     "metadata": {},
     "output_type": "execute_result"
    }
   ],
   "source": [
    "b[1] = 20\n",
    "b"
   ]
  },
  {
   "cell_type": "code",
   "execution_count": 13,
   "id": "focused-uncle",
   "metadata": {
    "execution": {
     "iopub.execute_input": "2021-02-09T23:58:22.462729Z",
     "iopub.status.busy": "2021-02-09T23:58:22.461565Z",
     "iopub.status.idle": "2021-02-09T23:58:22.464646Z",
     "shell.execute_reply": "2021-02-09T23:58:22.465176Z"
    }
   },
   "outputs": [
    {
     "data": {
      "text/plain": [
       "array([ 1, 20,  3,  4])"
      ]
     },
     "execution_count": 1,
     "metadata": {},
     "output_type": "execute_result"
    }
   ],
   "source": [
    "a"
   ]
  },
  {
   "cell_type": "code",
   "execution_count": 14,
   "id": "central-lotus",
   "metadata": {
    "execution": {
     "iopub.execute_input": "2021-02-09T23:58:22.472718Z",
     "iopub.status.busy": "2021-02-09T23:58:22.470718Z",
     "iopub.status.idle": "2021-02-09T23:58:22.475105Z",
     "shell.execute_reply": "2021-02-09T23:58:22.474510Z"
    }
   },
   "outputs": [
    {
     "data": {
      "text/plain": [
       "array([ 1, 20,  3,  4])"
      ]
     },
     "execution_count": 1,
     "metadata": {},
     "output_type": "execute_result"
    }
   ],
   "source": [
    "# Para copiar un arreglo a otra variable debemos usar copy()\n",
    "\n",
    "a = np.array([1, 2, 3, 4])\n",
    "b = a.copy()\n",
    "b[1] = 20\n",
    "b"
   ]
  },
  {
   "cell_type": "code",
   "execution_count": 15,
   "id": "varied-berkeley",
   "metadata": {
    "execution": {
     "iopub.execute_input": "2021-02-09T23:58:22.481051Z",
     "iopub.status.busy": "2021-02-09T23:58:22.479836Z",
     "iopub.status.idle": "2021-02-09T23:58:22.483053Z",
     "shell.execute_reply": "2021-02-09T23:58:22.483566Z"
    }
   },
   "outputs": [
    {
     "data": {
      "text/plain": [
       "array([1, 2, 3, 4])"
      ]
     },
     "execution_count": 1,
     "metadata": {},
     "output_type": "execute_result"
    }
   ],
   "source": [
    "a"
   ]
  },
  {
   "cell_type": "markdown",
   "id": "convertible-speed",
   "metadata": {},
   "source": [
    "### Modificación de dimensiones"
   ]
  },
  {
   "cell_type": "markdown",
   "id": "positive-resource",
   "metadata": {},
   "source": [
    "Existen varias operaciones para cambiar la forma de un arreglo de numpy"
   ]
  },
  {
   "cell_type": "code",
   "execution_count": 16,
   "id": "identical-belief",
   "metadata": {
    "execution": {
     "iopub.execute_input": "2021-02-09T23:58:22.489151Z",
     "iopub.status.busy": "2021-02-09T23:58:22.488452Z",
     "iopub.status.idle": "2021-02-09T23:58:22.490785Z",
     "shell.execute_reply": "2021-02-09T23:58:22.491312Z"
    }
   },
   "outputs": [
    {
     "data": {
      "text/plain": [
       "2"
      ]
     },
     "execution_count": 1,
     "metadata": {},
     "output_type": "execute_result"
    }
   ],
   "source": [
    "# Obtener las dimensiones del arreglo\n",
    "\n",
    "matriz_de_enteros.ndim"
   ]
  },
  {
   "cell_type": "code",
   "execution_count": 17,
   "id": "entire-finance",
   "metadata": {
    "execution": {
     "iopub.execute_input": "2021-02-09T23:58:22.495626Z",
     "iopub.status.busy": "2021-02-09T23:58:22.494956Z",
     "iopub.status.idle": "2021-02-09T23:58:22.497891Z",
     "shell.execute_reply": "2021-02-09T23:58:22.498424Z"
    }
   },
   "outputs": [
    {
     "data": {
      "text/plain": [
       "(3, 4)"
      ]
     },
     "execution_count": 1,
     "metadata": {},
     "output_type": "execute_result"
    }
   ],
   "source": [
    "# Obtener la forma del arreglo\n",
    "\n",
    "matriz_de_enteros.shape"
   ]
  },
  {
   "cell_type": "code",
   "execution_count": 18,
   "id": "otherwise-norfolk",
   "metadata": {
    "execution": {
     "iopub.execute_input": "2021-02-09T23:58:22.503971Z",
     "iopub.status.busy": "2021-02-09T23:58:22.503281Z",
     "iopub.status.idle": "2021-02-09T23:58:22.505986Z",
     "shell.execute_reply": "2021-02-09T23:58:22.506517Z"
    }
   },
   "outputs": [
    {
     "data": {
      "text/plain": [
       "array([[ 3,  6],\n",
       "       [ 9, 12]])"
      ]
     },
     "execution_count": 1,
     "metadata": {},
     "output_type": "execute_result"
    }
   ],
   "source": [
    "# Modificar la forma de un arreglo\n",
    "\n",
    "enteros = np.array([3, 6, 9, 12])\n",
    "np.reshape(enteros, (2, 2))"
   ]
  },
  {
   "cell_type": "code",
   "execution_count": 19,
   "id": "least-sister",
   "metadata": {
    "execution": {
     "iopub.execute_input": "2021-02-09T23:58:22.511325Z",
     "iopub.status.busy": "2021-02-09T23:58:22.510685Z",
     "iopub.status.idle": "2021-02-09T23:58:22.514303Z",
     "shell.execute_reply": "2021-02-09T23:58:22.513594Z"
    }
   },
   "outputs": [
    {
     "data": {
      "text/plain": [
       "array([[1., 1.],\n",
       "       [1., 1.]])"
      ]
     },
     "execution_count": 1,
     "metadata": {},
     "output_type": "execute_result"
    }
   ],
   "source": [
    "# Aplanar un arreglo\n",
    "\n",
    "a = np.ones((2, 2))\n",
    "a"
   ]
  },
  {
   "cell_type": "code",
   "execution_count": 20,
   "id": "recovered-hobby",
   "metadata": {
    "execution": {
     "iopub.execute_input": "2021-02-09T23:58:22.519195Z",
     "iopub.status.busy": "2021-02-09T23:58:22.518554Z",
     "iopub.status.idle": "2021-02-09T23:58:22.522346Z",
     "shell.execute_reply": "2021-02-09T23:58:22.521778Z"
    }
   },
   "outputs": [
    {
     "data": {
      "text/plain": [
       "array([1., 1., 1., 1.])"
      ]
     },
     "execution_count": 1,
     "metadata": {},
     "output_type": "execute_result"
    }
   ],
   "source": [
    "a.flatten()"
   ]
  },
  {
   "cell_type": "code",
   "execution_count": 21,
   "id": "republican-cuisine",
   "metadata": {
    "execution": {
     "iopub.execute_input": "2021-02-09T23:58:22.527034Z",
     "iopub.status.busy": "2021-02-09T23:58:22.526405Z",
     "iopub.status.idle": "2021-02-09T23:58:22.529046Z",
     "shell.execute_reply": "2021-02-09T23:58:22.529575Z"
    },
    "lines_to_next_cell": 2
   },
   "outputs": [
    {
     "data": {
      "text/plain": [
       "array([[1., 1.],\n",
       "       [1., 1.]])"
      ]
     },
     "execution_count": 1,
     "metadata": {},
     "output_type": "execute_result"
    }
   ],
   "source": [
    "a"
   ]
  },
  {
   "cell_type": "markdown",
   "id": "regional-milwaukee",
   "metadata": {},
   "source": [
    "### Combinación de arreglos (Stacking)"
   ]
  },
  {
   "cell_type": "code",
   "execution_count": 22,
   "id": "temporal-village",
   "metadata": {
    "execution": {
     "iopub.execute_input": "2021-02-09T23:58:22.534430Z",
     "iopub.status.busy": "2021-02-09T23:58:22.533718Z",
     "iopub.status.idle": "2021-02-09T23:58:22.537306Z",
     "shell.execute_reply": "2021-02-09T23:58:22.536634Z"
    }
   },
   "outputs": [
    {
     "data": {
      "text/plain": [
       "array([0, 1, 2, 3, 4])"
      ]
     },
     "execution_count": 1,
     "metadata": {},
     "output_type": "execute_result"
    }
   ],
   "source": [
    "# Los arreglos se pueden combinar verticalmente (se incrementa la cantidad de filas)\n",
    "\n",
    "a = np.arange(0, 5)\n",
    "a"
   ]
  },
  {
   "cell_type": "code",
   "execution_count": 23,
   "id": "historic-baker",
   "metadata": {
    "execution": {
     "iopub.execute_input": "2021-02-09T23:58:22.542364Z",
     "iopub.status.busy": "2021-02-09T23:58:22.541718Z",
     "iopub.status.idle": "2021-02-09T23:58:22.544018Z",
     "shell.execute_reply": "2021-02-09T23:58:22.544557Z"
    }
   },
   "outputs": [
    {
     "data": {
      "text/plain": [
       "array([5, 6, 7, 8, 9])"
      ]
     },
     "execution_count": 1,
     "metadata": {},
     "output_type": "execute_result"
    }
   ],
   "source": [
    "b = np.arange(5, 10)\n",
    "b"
   ]
  },
  {
   "cell_type": "code",
   "execution_count": 24,
   "id": "italic-democracy",
   "metadata": {
    "execution": {
     "iopub.execute_input": "2021-02-09T23:58:22.549915Z",
     "iopub.status.busy": "2021-02-09T23:58:22.549149Z",
     "iopub.status.idle": "2021-02-09T23:58:22.551533Z",
     "shell.execute_reply": "2021-02-09T23:58:22.552090Z"
    }
   },
   "outputs": [
    {
     "data": {
      "text/plain": [
       "array([[0, 1, 2, 3, 4],\n",
       "       [5, 6, 7, 8, 9]])"
      ]
     },
     "execution_count": 1,
     "metadata": {},
     "output_type": "execute_result"
    }
   ],
   "source": [
    "combinados_verticalmente = np.vstack((a, b))\n",
    "combinados_verticalmente"
   ]
  },
  {
   "cell_type": "code",
   "execution_count": 25,
   "id": "demanding-making",
   "metadata": {
    "execution": {
     "iopub.execute_input": "2021-02-09T23:58:22.556929Z",
     "iopub.status.busy": "2021-02-09T23:58:22.556279Z",
     "iopub.status.idle": "2021-02-09T23:58:22.560159Z",
     "shell.execute_reply": "2021-02-09T23:58:22.559555Z"
    }
   },
   "outputs": [
    {
     "data": {
      "text/plain": [
       "array([0, 1, 2, 3, 4, 5, 6, 7, 8, 9])"
      ]
     },
     "execution_count": 1,
     "metadata": {},
     "output_type": "execute_result"
    }
   ],
   "source": [
    "# También se pueden combinar horizontalmente (se incrementa la cantidad de columnas)\n",
    "\n",
    "combinados_horizontalmente = np.hstack((a, b))\n",
    "combinados_horizontalmente"
   ]
  },
  {
   "cell_type": "markdown",
   "id": "careful-leonard",
   "metadata": {},
   "source": [
    "### Operaciones matemáticas"
   ]
  },
  {
   "cell_type": "code",
   "execution_count": 26,
   "id": "integrated-english",
   "metadata": {
    "execution": {
     "iopub.execute_input": "2021-02-09T23:58:22.565352Z",
     "iopub.status.busy": "2021-02-09T23:58:22.564504Z",
     "iopub.status.idle": "2021-02-09T23:58:22.567010Z",
     "shell.execute_reply": "2021-02-09T23:58:22.567631Z"
    }
   },
   "outputs": [
    {
     "data": {
      "text/plain": [
       "array([3, 4, 5, 6])"
      ]
     },
     "execution_count": 1,
     "metadata": {},
     "output_type": "execute_result"
    }
   ],
   "source": [
    "a = np.array([1, 2, 3, 4])\n",
    "\n",
    "a + 2"
   ]
  },
  {
   "cell_type": "code",
   "execution_count": 27,
   "id": "affected-sunrise",
   "metadata": {
    "execution": {
     "iopub.execute_input": "2021-02-09T23:58:22.572080Z",
     "iopub.status.busy": "2021-02-09T23:58:22.571373Z",
     "iopub.status.idle": "2021-02-09T23:58:22.574989Z",
     "shell.execute_reply": "2021-02-09T23:58:22.574379Z"
    }
   },
   "outputs": [
    {
     "data": {
      "text/plain": [
       "array([ 1,  4,  9, 16])"
      ]
     },
     "execution_count": 1,
     "metadata": {},
     "output_type": "execute_result"
    }
   ],
   "source": [
    "a ** 2"
   ]
  },
  {
   "cell_type": "code",
   "execution_count": 28,
   "id": "adapted-spencer",
   "metadata": {
    "execution": {
     "iopub.execute_input": "2021-02-09T23:58:22.579840Z",
     "iopub.status.busy": "2021-02-09T23:58:22.579154Z",
     "iopub.status.idle": "2021-02-09T23:58:22.582713Z",
     "shell.execute_reply": "2021-02-09T23:58:22.582148Z"
    }
   },
   "outputs": [
    {
     "data": {
      "text/plain": [
       "array([2., 3., 4., 5.])"
      ]
     },
     "execution_count": 1,
     "metadata": {},
     "output_type": "execute_result"
    }
   ],
   "source": [
    "b = np.ones(4)\n",
    "a + b"
   ]
  },
  {
   "cell_type": "markdown",
   "id": "subjective-affiliate",
   "metadata": {},
   "source": [
    "### Estadística"
   ]
  },
  {
   "cell_type": "code",
   "execution_count": 29,
   "id": "increasing-spouse",
   "metadata": {
    "execution": {
     "iopub.execute_input": "2021-02-09T23:58:22.588634Z",
     "iopub.status.busy": "2021-02-09T23:58:22.587979Z",
     "iopub.status.idle": "2021-02-09T23:58:22.590262Z",
     "shell.execute_reply": "2021-02-09T23:58:22.590793Z"
    }
   },
   "outputs": [
    {
     "data": {
      "text/plain": [
       "1"
      ]
     },
     "execution_count": 1,
     "metadata": {},
     "output_type": "execute_result"
    }
   ],
   "source": [
    "a = np.array([[5, 2, 1, 8], [26, 4, 17, 9]])\n",
    "\n",
    "np.min(a)"
   ]
  },
  {
   "cell_type": "code",
   "execution_count": 30,
   "id": "diverse-width",
   "metadata": {
    "execution": {
     "iopub.execute_input": "2021-02-09T23:58:22.595278Z",
     "iopub.status.busy": "2021-02-09T23:58:22.594640Z",
     "iopub.status.idle": "2021-02-09T23:58:22.598361Z",
     "shell.execute_reply": "2021-02-09T23:58:22.597799Z"
    }
   },
   "outputs": [
    {
     "data": {
      "text/plain": [
       "26"
      ]
     },
     "execution_count": 1,
     "metadata": {},
     "output_type": "execute_result"
    }
   ],
   "source": [
    "np.max(a)"
   ]
  },
  {
   "cell_type": "code",
   "execution_count": 31,
   "id": "tired-effort",
   "metadata": {
    "execution": {
     "iopub.execute_input": "2021-02-09T23:58:22.602866Z",
     "iopub.status.busy": "2021-02-09T23:58:22.602203Z",
     "iopub.status.idle": "2021-02-09T23:58:22.605649Z",
     "shell.execute_reply": "2021-02-09T23:58:22.605077Z"
    }
   },
   "outputs": [
    {
     "data": {
      "text/plain": [
       "72"
      ]
     },
     "execution_count": 1,
     "metadata": {},
     "output_type": "execute_result"
    }
   ],
   "source": [
    "np.sum(a)"
   ]
  },
  {
   "cell_type": "markdown",
   "id": "chemical-horse",
   "metadata": {},
   "source": [
    "### Más magia"
   ]
  },
  {
   "cell_type": "code",
   "execution_count": 32,
   "id": "altered-resolution",
   "metadata": {
    "execution": {
     "iopub.execute_input": "2021-02-09T23:58:22.611593Z",
     "iopub.status.busy": "2021-02-09T23:58:22.610944Z",
     "iopub.status.idle": "2021-02-09T23:58:22.613291Z",
     "shell.execute_reply": "2021-02-09T23:58:22.613818Z"
    }
   },
   "outputs": [
    {
     "data": {
      "text/plain": [
       "array([[False, False, False,  True],\n",
       "       [ True, False,  True,  True]])"
      ]
     },
     "execution_count": 1,
     "metadata": {},
     "output_type": "execute_result"
    }
   ],
   "source": [
    "a = np.array([[5, 2, 1, 8], [26, 4, 17, 9]])\n",
    "\n",
    "a > 5"
   ]
  },
  {
   "cell_type": "code",
   "execution_count": 33,
   "id": "spatial-component",
   "metadata": {
    "execution": {
     "iopub.execute_input": "2021-02-09T23:58:22.619267Z",
     "iopub.status.busy": "2021-02-09T23:58:22.618355Z",
     "iopub.status.idle": "2021-02-09T23:58:22.620905Z",
     "shell.execute_reply": "2021-02-09T23:58:22.621433Z"
    }
   },
   "outputs": [
    {
     "data": {
      "text/plain": [
       "array([ 8, 26, 17,  9])"
      ]
     },
     "execution_count": 1,
     "metadata": {},
     "output_type": "execute_result"
    }
   ],
   "source": [
    "a[a > 5]"
   ]
  },
  {
   "cell_type": "markdown",
   "id": "parental-kazakhstan",
   "metadata": {},
   "source": [
    "### Broadcasting"
   ]
  },
  {
   "cell_type": "markdown",
   "id": "treated-sigma",
   "metadata": {},
   "source": [
    "Permite realizar operaciones entre dos numpy arrays de distintas dimensiones.\n",
    "Para lograr esto, las dimensiones de los mismos deben ser compatibles. Dos dimensiones son compatibles cuando:\n",
    "1. Son iguales\n",
    "2. Alguna de las dos es 1"
   ]
  },
  {
   "cell_type": "code",
   "execution_count": 34,
   "id": "fifth-anthropology",
   "metadata": {
    "execution": {
     "iopub.execute_input": "2021-02-09T23:58:22.627082Z",
     "iopub.status.busy": "2021-02-09T23:58:22.626436Z",
     "iopub.status.idle": "2021-02-09T23:58:22.628825Z",
     "shell.execute_reply": "2021-02-09T23:58:22.629352Z"
    }
   },
   "outputs": [
    {
     "data": {
      "text/plain": [
       "array([[ 5,  2,  1,  8],\n",
       "       [26,  4, 17,  9]])"
      ]
     },
     "execution_count": 1,
     "metadata": {},
     "output_type": "execute_result"
    }
   ],
   "source": [
    "a = np.array([[5, 2, 1, 8], [26, 4, 17, 9]])\n",
    "a"
   ]
  },
  {
   "cell_type": "code",
   "execution_count": 35,
   "id": "laughing-alloy",
   "metadata": {
    "execution": {
     "iopub.execute_input": "2021-02-09T23:58:22.634733Z",
     "iopub.status.busy": "2021-02-09T23:58:22.634076Z",
     "iopub.status.idle": "2021-02-09T23:58:22.637136Z",
     "shell.execute_reply": "2021-02-09T23:58:22.637778Z"
    }
   },
   "outputs": [
    {
     "name": "stdout",
     "output_type": "stream",
     "text": [
      "a: (2, 4)\n",
      "b: (4,)\n"
     ]
    },
    {
     "data": {
      "text/plain": [
       "array([[10,  4,  2, 16],\n",
       "       [31,  6, 18, 17]])"
      ]
     },
     "execution_count": 1,
     "metadata": {},
     "output_type": "execute_result"
    }
   ],
   "source": [
    "# Armamos un array que tenga la misma cantidad de columnas que a\n",
    "b = np.array([5, 2, 1, 8])\n",
    "print(f\"a: {a.shape}\")\n",
    "print(f\"b: {b.shape}\")\n",
    "a + b"
   ]
  },
  {
   "cell_type": "code",
   "execution_count": 36,
   "id": "upper-authentication",
   "metadata": {
    "execution": {
     "iopub.execute_input": "2021-02-09T23:58:22.642053Z",
     "iopub.status.busy": "2021-02-09T23:58:22.641358Z",
     "iopub.status.idle": "2021-02-09T23:58:22.715835Z",
     "shell.execute_reply": "2021-02-09T23:58:22.716445Z"
    },
    "tags": [
     "raises-exception"
    ]
   },
   "outputs": [
    {
     "name": "stdout",
     "output_type": "stream",
     "text": [
      "a: (2, 4)\n",
      "b: (3,)\n"
     ]
    },
    {
     "ename": "ValueError",
     "evalue": "operands could not be broadcast together with shapes (2,4) (3,) ",
     "output_type": "error",
     "traceback": [
      "\u001b[0;31m---------------------------------------------------------------------------\u001b[0m",
      "\u001b[0;31mValueError\u001b[0m                                Traceback (most recent call last)",
      "\u001b[0;32m<ipython-input-1-fe11b6ae6346>\u001b[0m in \u001b[0;36m<module>\u001b[0;34m\u001b[0m\n\u001b[1;32m      3\u001b[0m \u001b[0mprint\u001b[0m\u001b[0;34m(\u001b[0m\u001b[0;34mf\"a: {a.shape}\"\u001b[0m\u001b[0;34m)\u001b[0m\u001b[0;34m\u001b[0m\u001b[0;34m\u001b[0m\u001b[0m\n\u001b[1;32m      4\u001b[0m \u001b[0mprint\u001b[0m\u001b[0;34m(\u001b[0m\u001b[0;34mf\"b: {b.shape}\"\u001b[0m\u001b[0;34m)\u001b[0m\u001b[0;34m\u001b[0m\u001b[0;34m\u001b[0m\u001b[0m\n\u001b[0;32m----> 5\u001b[0;31m \u001b[0ma\u001b[0m \u001b[0;34m+\u001b[0m \u001b[0mb\u001b[0m\u001b[0;34m\u001b[0m\u001b[0;34m\u001b[0m\u001b[0m\n\u001b[0m",
      "\u001b[0;31mValueError\u001b[0m: operands could not be broadcast together with shapes (2,4) (3,) "
     ]
    }
   ],
   "source": [
    "# Armamos un array que tenga distinta cantidad de filas y columnas que a\n",
    "b = np.array([5, 1, 8])\n",
    "print(f\"a: {a.shape}\")\n",
    "print(f\"b: {b.shape}\")\n",
    "a + b"
   ]
  },
  {
   "cell_type": "code",
   "execution_count": 37,
   "id": "entire-snapshot",
   "metadata": {
    "execution": {
     "iopub.execute_input": "2021-02-09T23:58:22.821760Z",
     "iopub.status.busy": "2021-02-09T23:58:22.821065Z",
     "iopub.status.idle": "2021-02-09T23:58:22.828690Z",
     "shell.execute_reply": "2021-02-09T23:58:22.828052Z"
    }
   },
   "outputs": [
    {
     "name": "stdout",
     "output_type": "stream",
     "text": [
      "a: (2, 4)\n",
      "b: (2, 1)\n"
     ]
    },
    {
     "data": {
      "text/plain": [
       "array([[ 7,  4,  3, 10],\n",
       "       [27,  5, 18, 10]])"
      ]
     },
     "execution_count": 1,
     "metadata": {},
     "output_type": "execute_result"
    }
   ],
   "source": [
    "# Armamos un array que tenga la misma cantidad de filas que a\n",
    "b = np.array([[2], [1]])\n",
    "print(f\"a: {a.shape}\")\n",
    "print(f\"b: {b.shape}\")\n",
    "a + b"
   ]
  },
  {
   "cell_type": "code",
   "execution_count": 38,
   "id": "actual-compromise",
   "metadata": {
    "execution": {
     "iopub.execute_input": "2021-02-09T23:58:22.834835Z",
     "iopub.status.busy": "2021-02-09T23:58:22.833631Z",
     "iopub.status.idle": "2021-02-09T23:58:22.836939Z",
     "shell.execute_reply": "2021-02-09T23:58:22.837462Z"
    }
   },
   "outputs": [
    {
     "data": {
      "text/plain": [
       "array([[ 9,  6,  5, 12],\n",
       "       [30,  8, 21, 13]])"
      ]
     },
     "execution_count": 1,
     "metadata": {},
     "output_type": "execute_result"
    }
   ],
   "source": [
    "b = 4\n",
    "a + b"
   ]
  }
 ],
 "metadata": {
  "jupytext": {
   "encoding": "# -*- coding: utf-8 -*-",
   "formats": "ipynb,py:light"
  },
  "kernelspec": {
   "display_name": "Python 3 (venv)",
   "language": "python",
   "name": "python3"
  },
  "language_info": {
   "codemirror_mode": {
    "name": "ipython",
    "version": 3
   },
   "file_extension": ".py",
   "mimetype": "text/x-python",
   "name": "python",
   "nbconvert_exporter": "python",
   "pygments_lexer": "ipython3",
   "version": "3.7.9"
  }
 },
 "nbformat": 4,
 "nbformat_minor": 5
}
