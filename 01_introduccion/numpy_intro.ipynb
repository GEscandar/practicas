{
 "cells": [
  {
   "cell_type": "markdown",
   "id": "272da828",
   "metadata": {},
   "source": [
    "## Clase 1 - Introducción a Numpy\n",
    "\n",
    "Numpy es una biblioteca para Python que facilita el manejo de arreglos multidimensionales y ofrece varias herramientas para trabajar con ellos. Muchas de las bibliotecas de Python que son ampliamente usadas hoy en día, como pandas, están construidas sobre numpy.\n",
    "\n",
    "### Listas de Python vs arreglos de Numpy\n",
    "\n",
    "A primera vista, un arreglo de numpy puede resultar idéntico a una lista de python, pero a medida que la cantidad de datos comienza a incrementar, los arreglos de numpy terminan ofreciendo un manejo más eficiente de la memoria.\n",
    "\n",
    "Para comenzar, vamos a crear un arreglo de numpy:"
   ]
  },
  {
   "cell_type": "code",
   "execution_count": 1,
   "id": "34b1fe0d",
   "metadata": {
    "execution": {
     "iopub.execute_input": "2021-09-09T20:03:57.919066Z",
     "iopub.status.busy": "2021-09-09T20:03:57.918390Z",
     "iopub.status.idle": "2021-09-09T20:03:58.064947Z",
     "shell.execute_reply": "2021-09-09T20:03:58.065373Z"
    }
   },
   "outputs": [
    {
     "data": {
      "text/plain": [
       "array([1, 2, 3, 4])"
      ]
     },
     "execution_count": 1,
     "metadata": {},
     "output_type": "execute_result"
    }
   ],
   "source": [
    "import numpy as np\n",
    "\n",
    "np.array([1, 2, 3, 4])"
   ]
  },
  {
   "cell_type": "markdown",
   "id": "53b2755f",
   "metadata": {},
   "source": [
    "Los arreglos pueden ser también multidimensionales:"
   ]
  },
  {
   "cell_type": "code",
   "execution_count": 2,
   "id": "b20b41a3",
   "metadata": {
    "execution": {
     "iopub.execute_input": "2021-09-09T20:03:58.071152Z",
     "iopub.status.busy": "2021-09-09T20:03:58.070632Z",
     "iopub.status.idle": "2021-09-09T20:03:58.073407Z",
     "shell.execute_reply": "2021-09-09T20:03:58.072979Z"
    }
   },
   "outputs": [
    {
     "data": {
      "text/plain": [
       "array([[1, 2, 3, 4],\n",
       "       [5, 6, 7, 8]])"
      ]
     },
     "execution_count": 2,
     "metadata": {},
     "output_type": "execute_result"
    }
   ],
   "source": [
    "np.array([[1, 2, 3, 4], [5, 6, 7, 8]])"
   ]
  },
  {
   "cell_type": "markdown",
   "id": "8c41e52e",
   "metadata": {},
   "source": [
    "Es importante tener en cuenta que un arreglo de numpy tiene un tipo fijo de datos, entonces si se quiere agregar un dato de un tipo diferente al de la mayoría, este va a ser modificado para adaptarse al resto"
   ]
  },
  {
   "cell_type": "code",
   "execution_count": 3,
   "id": "3b60e703",
   "metadata": {
    "execution": {
     "iopub.execute_input": "2021-09-09T20:03:58.077628Z",
     "iopub.status.busy": "2021-09-09T20:03:58.075920Z",
     "iopub.status.idle": "2021-09-09T20:03:58.079308Z",
     "shell.execute_reply": "2021-09-09T20:03:58.079676Z"
    }
   },
   "outputs": [],
   "source": [
    "enteros = np.array([1, 2, 3, 4])"
   ]
  },
  {
   "cell_type": "markdown",
   "id": "bd96b0e2",
   "metadata": {},
   "source": [
    "Agrego un elemento de tipo flotante en la posición 1"
   ]
  },
  {
   "cell_type": "code",
   "execution_count": 4,
   "id": "7617ad8e",
   "metadata": {
    "execution": {
     "iopub.execute_input": "2021-09-09T20:03:58.084947Z",
     "iopub.status.busy": "2021-09-09T20:03:58.084438Z",
     "iopub.status.idle": "2021-09-09T20:03:58.086255Z",
     "shell.execute_reply": "2021-09-09T20:03:58.086670Z"
    }
   },
   "outputs": [
    {
     "data": {
      "text/plain": [
       "array([1, 8, 3, 4])"
      ]
     },
     "execution_count": 4,
     "metadata": {},
     "output_type": "execute_result"
    }
   ],
   "source": [
    "enteros[1] = 8.4727\n",
    "enteros"
   ]
  },
  {
   "cell_type": "markdown",
   "id": "da7400d2",
   "metadata": {},
   "source": [
    "Numpy también nos permite crear arreglos con valores aleatorios del 0 al 1.\n",
    "Basta con pasarle las dimensiones del arreglo que queremos crear."
   ]
  },
  {
   "cell_type": "code",
   "execution_count": 5,
   "id": "1d078a3f",
   "metadata": {
    "execution": {
     "iopub.execute_input": "2021-09-09T20:03:58.091751Z",
     "iopub.status.busy": "2021-09-09T20:03:58.089859Z",
     "iopub.status.idle": "2021-09-09T20:03:58.093838Z",
     "shell.execute_reply": "2021-09-09T20:03:58.094230Z"
    }
   },
   "outputs": [
    {
     "data": {
      "text/plain": [
       "array([[0.83560466, 0.43864684, 0.87637545],\n",
       "       [0.3529997 , 0.94945294, 0.382147  ]])"
      ]
     },
     "execution_count": 5,
     "metadata": {},
     "output_type": "execute_result"
    }
   ],
   "source": [
    "np.random.rand(2, 3)"
   ]
  },
  {
   "cell_type": "markdown",
   "id": "0db8a795",
   "metadata": {},
   "source": [
    "## Slicing\n",
    "\n",
    "De la misma forma que con las listas de python, pueden obtenerse slices de los arreglos de numpy"
   ]
  },
  {
   "cell_type": "code",
   "execution_count": 6,
   "id": "63dc2f40",
   "metadata": {
    "execution": {
     "iopub.execute_input": "2021-09-09T20:03:58.099758Z",
     "iopub.status.busy": "2021-09-09T20:03:58.098996Z",
     "iopub.status.idle": "2021-09-09T20:03:58.101556Z",
     "shell.execute_reply": "2021-09-09T20:03:58.101959Z"
    },
    "lines_to_next_cell": 2
   },
   "outputs": [
    {
     "data": {
      "text/plain": [
       "array([1, 8])"
      ]
     },
     "execution_count": 6,
     "metadata": {},
     "output_type": "execute_result"
    }
   ],
   "source": [
    "enteros[:2]"
   ]
  },
  {
   "cell_type": "code",
   "execution_count": 7,
   "id": "5546f68e",
   "metadata": {
    "execution": {
     "iopub.execute_input": "2021-09-09T20:03:58.108103Z",
     "iopub.status.busy": "2021-09-09T20:03:58.107522Z",
     "iopub.status.idle": "2021-09-09T20:03:58.110368Z",
     "shell.execute_reply": "2021-09-09T20:03:58.110768Z"
    }
   },
   "outputs": [
    {
     "name": "stdout",
     "output_type": "stream",
     "text": [
      "Original: \n",
      "[[ 1  2  3  4]\n",
      " [ 5  6  7  8]\n",
      " [ 9 10 11 12]]\n",
      "\n",
      "Recortada: \n",
      "[[1 2 3]\n",
      " [5 6 7]]\n"
     ]
    }
   ],
   "source": [
    "matriz_de_enteros = np.array([[1, 2, 3, 4], [5, 6, 7, 8], [9, 10, 11, 12]])\n",
    "\n",
    "print('Original: ')\n",
    "print(matriz_de_enteros)\n",
    "\n",
    "print()\n",
    "\n",
    "print('Recortada: ')\n",
    "print(matriz_de_enteros[:2, :3])"
   ]
  },
  {
   "cell_type": "code",
   "execution_count": 8,
   "id": "fbb77a67",
   "metadata": {
    "execution": {
     "iopub.execute_input": "2021-09-09T20:03:58.116656Z",
     "iopub.status.busy": "2021-09-09T20:03:58.116113Z",
     "iopub.status.idle": "2021-09-09T20:03:58.118755Z",
     "shell.execute_reply": "2021-09-09T20:03:58.119151Z"
    }
   },
   "outputs": [
    {
     "data": {
      "text/plain": [
       "array([[[ 0,  1,  2,  3,  4],\n",
       "        [ 5,  6,  7,  8,  9],\n",
       "        [10, 11, 12, 13, 14]],\n",
       "\n",
       "       [[15, 16, 17, 18, 19],\n",
       "        [20, 21, 22, 23, 24],\n",
       "        [25, 26, 27, 28, 29]],\n",
       "\n",
       "       [[30, 31, 32, 33, 34],\n",
       "        [35, 36, 37, 38, 39],\n",
       "        [40, 41, 42, 43, 44]]])"
      ]
     },
     "execution_count": 8,
     "metadata": {},
     "output_type": "execute_result"
    }
   ],
   "source": [
    "# 3D\n",
    "# arange() genera valores de un intervalo pasado por parámetro\n",
    "# reshape() modifica la forma del numpy array\n",
    "\n",
    "x = np.arange(45).reshape(3, 3, 5)\n",
    "x"
   ]
  },
  {
   "cell_type": "code",
   "execution_count": 9,
   "id": "1a0f0292",
   "metadata": {
    "execution": {
     "iopub.execute_input": "2021-09-09T20:03:58.124614Z",
     "iopub.status.busy": "2021-09-09T20:03:58.123717Z",
     "iopub.status.idle": "2021-09-09T20:03:58.126269Z",
     "shell.execute_reply": "2021-09-09T20:03:58.126659Z"
    }
   },
   "outputs": [
    {
     "data": {
      "text/plain": [
       "array([[ 0,  1,  2,  3,  4],\n",
       "       [ 5,  6,  7,  8,  9],\n",
       "       [10, 11, 12, 13, 14]])"
      ]
     },
     "execution_count": 9,
     "metadata": {},
     "output_type": "execute_result"
    }
   ],
   "source": [
    "x[0]"
   ]
  },
  {
   "cell_type": "code",
   "execution_count": 10,
   "id": "98d9ba12",
   "metadata": {
    "execution": {
     "iopub.execute_input": "2021-09-09T20:03:58.130813Z",
     "iopub.status.busy": "2021-09-09T20:03:58.130335Z",
     "iopub.status.idle": "2021-09-09T20:03:58.133381Z",
     "shell.execute_reply": "2021-09-09T20:03:58.132979Z"
    }
   },
   "outputs": [
    {
     "data": {
      "text/plain": [
       "array([5, 6, 7, 8, 9])"
      ]
     },
     "execution_count": 10,
     "metadata": {},
     "output_type": "execute_result"
    }
   ],
   "source": [
    "x[0][1]"
   ]
  },
  {
   "cell_type": "code",
   "execution_count": 11,
   "id": "3e3a9a35",
   "metadata": {
    "execution": {
     "iopub.execute_input": "2021-09-09T20:03:58.137386Z",
     "iopub.status.busy": "2021-09-09T20:03:58.136902Z",
     "iopub.status.idle": "2021-09-09T20:03:58.140633Z",
     "shell.execute_reply": "2021-09-09T20:03:58.141008Z"
    }
   },
   "outputs": [
    {
     "data": {
      "text/plain": [
       "7"
      ]
     },
     "execution_count": 11,
     "metadata": {},
     "output_type": "execute_result"
    }
   ],
   "source": [
    "x[0][1][2]"
   ]
  },
  {
   "cell_type": "markdown",
   "id": "795f1482",
   "metadata": {},
   "source": [
    "\n",
    "¿Cómo conseguimos estos valores? ([fuente](https://towardsdatascience.com/indexing-and-slicing-of-1d-2d-and-3d-arrays-in-numpy-e731afff0bbe))\n",
    "\n",
    "![title](img/matrix.png)"
   ]
  },
  {
   "cell_type": "code",
   "execution_count": 12,
   "id": "52bb6d66",
   "metadata": {
    "execution": {
     "iopub.execute_input": "2021-09-09T20:03:58.146351Z",
     "iopub.status.busy": "2021-09-09T20:03:58.145822Z",
     "iopub.status.idle": "2021-09-09T20:03:58.147685Z",
     "shell.execute_reply": "2021-09-09T20:03:58.148085Z"
    }
   },
   "outputs": [
    {
     "data": {
      "text/plain": [
       "array([[[16, 17, 18],\n",
       "        [21, 22, 23]],\n",
       "\n",
       "       [[31, 32, 33],\n",
       "        [36, 37, 38]]])"
      ]
     },
     "execution_count": 12,
     "metadata": {},
     "output_type": "execute_result"
    }
   ],
   "source": [
    "x[1:, 0:2, 1:4]"
   ]
  },
  {
   "cell_type": "markdown",
   "id": "3073380d",
   "metadata": {},
   "source": [
    "### Copia de arreglos"
   ]
  },
  {
   "cell_type": "code",
   "execution_count": 13,
   "id": "d89a136d",
   "metadata": {
    "execution": {
     "iopub.execute_input": "2021-09-09T20:03:58.153172Z",
     "iopub.status.busy": "2021-09-09T20:03:58.152683Z",
     "iopub.status.idle": "2021-09-09T20:03:58.155567Z",
     "shell.execute_reply": "2021-09-09T20:03:58.155126Z"
    }
   },
   "outputs": [
    {
     "data": {
      "text/plain": [
       "array([1, 2, 3, 4])"
      ]
     },
     "execution_count": 13,
     "metadata": {},
     "output_type": "execute_result"
    }
   ],
   "source": [
    "# Los arreglos no se copian con asignación\n",
    "\n",
    "a = np.array([1, 2, 3, 4])\n",
    "b = a\n",
    "b"
   ]
  },
  {
   "cell_type": "code",
   "execution_count": 14,
   "id": "fcbef65e",
   "metadata": {
    "execution": {
     "iopub.execute_input": "2021-09-09T20:03:58.160220Z",
     "iopub.status.busy": "2021-09-09T20:03:58.159703Z",
     "iopub.status.idle": "2021-09-09T20:03:58.161727Z",
     "shell.execute_reply": "2021-09-09T20:03:58.162116Z"
    }
   },
   "outputs": [
    {
     "data": {
      "text/plain": [
       "array([ 1, 20,  3,  4])"
      ]
     },
     "execution_count": 14,
     "metadata": {},
     "output_type": "execute_result"
    }
   ],
   "source": [
    "b[1] = 20\n",
    "b"
   ]
  },
  {
   "cell_type": "code",
   "execution_count": 15,
   "id": "b26b0a8a",
   "metadata": {
    "execution": {
     "iopub.execute_input": "2021-09-09T20:03:58.166539Z",
     "iopub.status.busy": "2021-09-09T20:03:58.166048Z",
     "iopub.status.idle": "2021-09-09T20:03:58.170371Z",
     "shell.execute_reply": "2021-09-09T20:03:58.170753Z"
    }
   },
   "outputs": [
    {
     "data": {
      "text/plain": [
       "array([ 1, 20,  3,  4])"
      ]
     },
     "execution_count": 15,
     "metadata": {},
     "output_type": "execute_result"
    }
   ],
   "source": [
    "a"
   ]
  },
  {
   "cell_type": "code",
   "execution_count": 16,
   "id": "e3f4b13b",
   "metadata": {
    "execution": {
     "iopub.execute_input": "2021-09-09T20:03:58.177809Z",
     "iopub.status.busy": "2021-09-09T20:03:58.176868Z",
     "iopub.status.idle": "2021-09-09T20:03:58.179486Z",
     "shell.execute_reply": "2021-09-09T20:03:58.179884Z"
    }
   },
   "outputs": [
    {
     "data": {
      "text/plain": [
       "array([ 1, 20,  3,  4])"
      ]
     },
     "execution_count": 16,
     "metadata": {},
     "output_type": "execute_result"
    }
   ],
   "source": [
    "# Para copiar un arreglo a otra variable debemos usar copy()\n",
    "\n",
    "a = np.array([1, 2, 3, 4])\n",
    "b = a.copy()\n",
    "b[1] = 20\n",
    "b"
   ]
  },
  {
   "cell_type": "code",
   "execution_count": 17,
   "id": "fc75af57",
   "metadata": {
    "execution": {
     "iopub.execute_input": "2021-09-09T20:03:58.185531Z",
     "iopub.status.busy": "2021-09-09T20:03:58.184588Z",
     "iopub.status.idle": "2021-09-09T20:03:58.187204Z",
     "shell.execute_reply": "2021-09-09T20:03:58.187612Z"
    }
   },
   "outputs": [
    {
     "data": {
      "text/plain": [
       "array([1, 2, 3, 4])"
      ]
     },
     "execution_count": 17,
     "metadata": {},
     "output_type": "execute_result"
    }
   ],
   "source": [
    "a"
   ]
  },
  {
   "cell_type": "markdown",
   "id": "fc7f346a",
   "metadata": {},
   "source": [
    "### Modificación de dimensiones"
   ]
  },
  {
   "cell_type": "markdown",
   "id": "22a3d59b",
   "metadata": {},
   "source": [
    "Existen varias operaciones para cambiar la forma de un arreglo de numpy"
   ]
  },
  {
   "cell_type": "code",
   "execution_count": 18,
   "id": "b52f80fe",
   "metadata": {
    "execution": {
     "iopub.execute_input": "2021-09-09T20:03:58.192748Z",
     "iopub.status.busy": "2021-09-09T20:03:58.189944Z",
     "iopub.status.idle": "2021-09-09T20:03:58.194827Z",
     "shell.execute_reply": "2021-09-09T20:03:58.195241Z"
    }
   },
   "outputs": [
    {
     "data": {
      "text/plain": [
       "array([[ 1,  2,  3,  4],\n",
       "       [ 5,  6,  7,  8],\n",
       "       [ 9, 10, 11, 12]])"
      ]
     },
     "execution_count": 18,
     "metadata": {},
     "output_type": "execute_result"
    }
   ],
   "source": [
    "matriz_de_enteros"
   ]
  },
  {
   "cell_type": "code",
   "execution_count": 19,
   "id": "8e310203",
   "metadata": {
    "execution": {
     "iopub.execute_input": "2021-09-09T20:03:58.200407Z",
     "iopub.status.busy": "2021-09-09T20:03:58.199835Z",
     "iopub.status.idle": "2021-09-09T20:03:58.202223Z",
     "shell.execute_reply": "2021-09-09T20:03:58.202619Z"
    }
   },
   "outputs": [
    {
     "data": {
      "text/plain": [
       "2"
      ]
     },
     "execution_count": 19,
     "metadata": {},
     "output_type": "execute_result"
    }
   ],
   "source": [
    "# Obtener las dimensiones del arreglo\n",
    "\n",
    "matriz_de_enteros.ndim"
   ]
  },
  {
   "cell_type": "code",
   "execution_count": 20,
   "id": "122658cb",
   "metadata": {
    "execution": {
     "iopub.execute_input": "2021-09-09T20:03:58.206925Z",
     "iopub.status.busy": "2021-09-09T20:03:58.206365Z",
     "iopub.status.idle": "2021-09-09T20:03:58.209469Z",
     "shell.execute_reply": "2021-09-09T20:03:58.209012Z"
    }
   },
   "outputs": [
    {
     "data": {
      "text/plain": [
       "(3, 4)"
      ]
     },
     "execution_count": 20,
     "metadata": {},
     "output_type": "execute_result"
    }
   ],
   "source": [
    "# Obtener la forma del arreglo\n",
    "\n",
    "matriz_de_enteros.shape"
   ]
  },
  {
   "cell_type": "code",
   "execution_count": 21,
   "id": "176ca5c8",
   "metadata": {
    "execution": {
     "iopub.execute_input": "2021-09-09T20:03:58.215503Z",
     "iopub.status.busy": "2021-09-09T20:03:58.211591Z",
     "iopub.status.idle": "2021-09-09T20:03:58.217511Z",
     "shell.execute_reply": "2021-09-09T20:03:58.217900Z"
    }
   },
   "outputs": [
    {
     "name": "stdout",
     "output_type": "stream",
     "text": [
      "enteros: [ 3  6  9 12]\n"
     ]
    },
    {
     "data": {
      "text/plain": [
       "array([[ 3,  6],\n",
       "       [ 9, 12]])"
      ]
     },
     "execution_count": 21,
     "metadata": {},
     "output_type": "execute_result"
    }
   ],
   "source": [
    "# Modificar la forma de un arreglo\n",
    "\n",
    "enteros = np.array([3, 6, 9, 12])\n",
    "print(f\"enteros: {enteros}\")\n",
    "np.reshape(enteros, (2, 2))"
   ]
  },
  {
   "cell_type": "code",
   "execution_count": 22,
   "id": "7d52a4c7",
   "metadata": {
    "execution": {
     "iopub.execute_input": "2021-09-09T20:03:58.222866Z",
     "iopub.status.busy": "2021-09-09T20:03:58.220821Z",
     "iopub.status.idle": "2021-09-09T20:03:58.224851Z",
     "shell.execute_reply": "2021-09-09T20:03:58.225251Z"
    }
   },
   "outputs": [
    {
     "data": {
      "text/plain": [
       "array([[1., 1.],\n",
       "       [1., 1.]])"
      ]
     },
     "execution_count": 22,
     "metadata": {},
     "output_type": "execute_result"
    }
   ],
   "source": [
    "# Aplanar un arreglo\n",
    "\n",
    "a = np.ones((2, 2))\n",
    "a"
   ]
  },
  {
   "cell_type": "code",
   "execution_count": 23,
   "id": "45ed1669",
   "metadata": {
    "execution": {
     "iopub.execute_input": "2021-09-09T20:03:58.230133Z",
     "iopub.status.busy": "2021-09-09T20:03:58.227364Z",
     "iopub.status.idle": "2021-09-09T20:03:58.232137Z",
     "shell.execute_reply": "2021-09-09T20:03:58.232564Z"
    }
   },
   "outputs": [
    {
     "data": {
      "text/plain": [
       "array([1., 1., 1., 1.])"
      ]
     },
     "execution_count": 23,
     "metadata": {},
     "output_type": "execute_result"
    }
   ],
   "source": [
    "a.flatten()"
   ]
  },
  {
   "cell_type": "code",
   "execution_count": 24,
   "id": "4e5b88a5",
   "metadata": {
    "execution": {
     "iopub.execute_input": "2021-09-09T20:03:58.237690Z",
     "iopub.status.busy": "2021-09-09T20:03:58.237176Z",
     "iopub.status.idle": "2021-09-09T20:03:58.239650Z",
     "shell.execute_reply": "2021-09-09T20:03:58.240040Z"
    },
    "lines_to_next_cell": 2
   },
   "outputs": [
    {
     "data": {
      "text/plain": [
       "array([[1., 1.],\n",
       "       [1., 1.]])"
      ]
     },
     "execution_count": 24,
     "metadata": {},
     "output_type": "execute_result"
    }
   ],
   "source": [
    "a"
   ]
  },
  {
   "cell_type": "markdown",
   "id": "72ce121b",
   "metadata": {},
   "source": [
    "### Combinación de arreglos (Stacking)"
   ]
  },
  {
   "cell_type": "code",
   "execution_count": 25,
   "id": "39db6cc3",
   "metadata": {
    "execution": {
     "iopub.execute_input": "2021-09-09T20:03:58.244833Z",
     "iopub.status.busy": "2021-09-09T20:03:58.244326Z",
     "iopub.status.idle": "2021-09-09T20:03:58.246732Z",
     "shell.execute_reply": "2021-09-09T20:03:58.246320Z"
    }
   },
   "outputs": [
    {
     "data": {
      "text/plain": [
       "array([0, 1, 2, 3, 4])"
      ]
     },
     "execution_count": 25,
     "metadata": {},
     "output_type": "execute_result"
    }
   ],
   "source": [
    "# Los arreglos se pueden combinar verticalmente (se incrementa la cantidad de filas)\n",
    "\n",
    "a = np.arange(0, 5)\n",
    "a"
   ]
  },
  {
   "cell_type": "code",
   "execution_count": 26,
   "id": "d9f4d316",
   "metadata": {
    "execution": {
     "iopub.execute_input": "2021-09-09T20:03:58.251151Z",
     "iopub.status.busy": "2021-09-09T20:03:58.250665Z",
     "iopub.status.idle": "2021-09-09T20:03:58.255685Z",
     "shell.execute_reply": "2021-09-09T20:03:58.255275Z"
    }
   },
   "outputs": [
    {
     "data": {
      "text/plain": [
       "array([5, 6, 7, 8, 9])"
      ]
     },
     "execution_count": 26,
     "metadata": {},
     "output_type": "execute_result"
    }
   ],
   "source": [
    "b = np.arange(5, 10)\n",
    "b"
   ]
  },
  {
   "cell_type": "code",
   "execution_count": 27,
   "id": "55312d56",
   "metadata": {
    "execution": {
     "iopub.execute_input": "2021-09-09T20:03:58.260363Z",
     "iopub.status.busy": "2021-09-09T20:03:58.259846Z",
     "iopub.status.idle": "2021-09-09T20:03:58.263590Z",
     "shell.execute_reply": "2021-09-09T20:03:58.263181Z"
    }
   },
   "outputs": [
    {
     "data": {
      "text/plain": [
       "array([[0, 1, 2, 3, 4],\n",
       "       [5, 6, 7, 8, 9]])"
      ]
     },
     "execution_count": 27,
     "metadata": {},
     "output_type": "execute_result"
    }
   ],
   "source": [
    "combinados_verticalmente = np.vstack((a, b))\n",
    "combinados_verticalmente"
   ]
  },
  {
   "cell_type": "code",
   "execution_count": 28,
   "id": "15390b57",
   "metadata": {
    "execution": {
     "iopub.execute_input": "2021-09-09T20:03:58.268953Z",
     "iopub.status.busy": "2021-09-09T20:03:58.268441Z",
     "iopub.status.idle": "2021-09-09T20:03:58.270955Z",
     "shell.execute_reply": "2021-09-09T20:03:58.271341Z"
    }
   },
   "outputs": [
    {
     "data": {
      "text/plain": [
       "array([0, 1, 2, 3, 4, 5, 6, 7, 8, 9])"
      ]
     },
     "execution_count": 28,
     "metadata": {},
     "output_type": "execute_result"
    }
   ],
   "source": [
    "# También se pueden combinar horizontalmente (se incrementa la cantidad de columnas)\n",
    "\n",
    "combinados_horizontalmente = np.hstack((a, b))\n",
    "combinados_horizontalmente"
   ]
  },
  {
   "cell_type": "markdown",
   "id": "1d5c158e",
   "metadata": {},
   "source": [
    "### Operaciones matemáticas"
   ]
  },
  {
   "cell_type": "code",
   "execution_count": 29,
   "id": "7dc9a646",
   "metadata": {
    "execution": {
     "iopub.execute_input": "2021-09-09T20:03:58.277313Z",
     "iopub.status.busy": "2021-09-09T20:03:58.276358Z",
     "iopub.status.idle": "2021-09-09T20:03:58.278996Z",
     "shell.execute_reply": "2021-09-09T20:03:58.279390Z"
    }
   },
   "outputs": [
    {
     "data": {
      "text/plain": [
       "array([3, 4, 5, 6])"
      ]
     },
     "execution_count": 29,
     "metadata": {},
     "output_type": "execute_result"
    }
   ],
   "source": [
    "a = np.array([1, 2, 3, 4])\n",
    "\n",
    "a + 2"
   ]
  },
  {
   "cell_type": "code",
   "execution_count": 30,
   "id": "ef071174",
   "metadata": {
    "execution": {
     "iopub.execute_input": "2021-09-09T20:03:58.285218Z",
     "iopub.status.busy": "2021-09-09T20:03:58.284297Z",
     "iopub.status.idle": "2021-09-09T20:03:58.286871Z",
     "shell.execute_reply": "2021-09-09T20:03:58.287267Z"
    }
   },
   "outputs": [
    {
     "data": {
      "text/plain": [
       "array([ 1,  4,  9, 16])"
      ]
     },
     "execution_count": 30,
     "metadata": {},
     "output_type": "execute_result"
    }
   ],
   "source": [
    "a ** 2"
   ]
  },
  {
   "cell_type": "code",
   "execution_count": 31,
   "id": "d9412fb3",
   "metadata": {
    "execution": {
     "iopub.execute_input": "2021-09-09T20:03:58.292479Z",
     "iopub.status.busy": "2021-09-09T20:03:58.291964Z",
     "iopub.status.idle": "2021-09-09T20:03:58.295317Z",
     "shell.execute_reply": "2021-09-09T20:03:58.294883Z"
    }
   },
   "outputs": [
    {
     "name": "stdout",
     "output_type": "stream",
     "text": [
      "b: [1. 1. 1. 1.]\n"
     ]
    },
    {
     "data": {
      "text/plain": [
       "array([2., 3., 4., 5.])"
      ]
     },
     "execution_count": 31,
     "metadata": {},
     "output_type": "execute_result"
    }
   ],
   "source": [
    "b = np.ones(4)\n",
    "print(f\"b: {b}\")\n",
    "a + b"
   ]
  },
  {
   "cell_type": "markdown",
   "id": "d07e9dea",
   "metadata": {},
   "source": [
    "### Estadística"
   ]
  },
  {
   "cell_type": "code",
   "execution_count": 32,
   "id": "7eb4160c",
   "metadata": {
    "execution": {
     "iopub.execute_input": "2021-09-09T20:03:58.300002Z",
     "iopub.status.busy": "2021-09-09T20:03:58.299517Z",
     "iopub.status.idle": "2021-09-09T20:03:58.302601Z",
     "shell.execute_reply": "2021-09-09T20:03:58.302170Z"
    }
   },
   "outputs": [
    {
     "data": {
      "text/plain": [
       "1"
      ]
     },
     "execution_count": 32,
     "metadata": {},
     "output_type": "execute_result"
    }
   ],
   "source": [
    "a = np.array([[5, 2, 1, 8], [26, 4, 17, 9]])\n",
    "\n",
    "np.min(a)"
   ]
  },
  {
   "cell_type": "code",
   "execution_count": 33,
   "id": "7358d38e",
   "metadata": {
    "execution": {
     "iopub.execute_input": "2021-09-09T20:03:58.307671Z",
     "iopub.status.busy": "2021-09-09T20:03:58.307163Z",
     "iopub.status.idle": "2021-09-09T20:03:58.309677Z",
     "shell.execute_reply": "2021-09-09T20:03:58.310066Z"
    }
   },
   "outputs": [
    {
     "data": {
      "text/plain": [
       "26"
      ]
     },
     "execution_count": 33,
     "metadata": {},
     "output_type": "execute_result"
    }
   ],
   "source": [
    "np.max(a)"
   ]
  },
  {
   "cell_type": "code",
   "execution_count": 34,
   "id": "b7f10295",
   "metadata": {
    "execution": {
     "iopub.execute_input": "2021-09-09T20:03:58.315183Z",
     "iopub.status.busy": "2021-09-09T20:03:58.314668Z",
     "iopub.status.idle": "2021-09-09T20:03:58.317222Z",
     "shell.execute_reply": "2021-09-09T20:03:58.317616Z"
    }
   },
   "outputs": [
    {
     "data": {
      "text/plain": [
       "72"
      ]
     },
     "execution_count": 34,
     "metadata": {},
     "output_type": "execute_result"
    }
   ],
   "source": [
    "np.sum(a)"
   ]
  },
  {
   "cell_type": "markdown",
   "id": "5e5e376e",
   "metadata": {},
   "source": [
    "### Más magia"
   ]
  },
  {
   "cell_type": "code",
   "execution_count": 35,
   "id": "0013fd55",
   "metadata": {
    "execution": {
     "iopub.execute_input": "2021-09-09T20:03:58.323140Z",
     "iopub.status.busy": "2021-09-09T20:03:58.322616Z",
     "iopub.status.idle": "2021-09-09T20:03:58.325134Z",
     "shell.execute_reply": "2021-09-09T20:03:58.325525Z"
    }
   },
   "outputs": [
    {
     "data": {
      "text/plain": [
       "array([[False, False, False,  True],\n",
       "       [ True, False,  True,  True]])"
      ]
     },
     "execution_count": 35,
     "metadata": {},
     "output_type": "execute_result"
    }
   ],
   "source": [
    "a = np.array([[5, 2, 1, 8], [26, 4, 17, 9]])\n",
    "\n",
    "a > 5"
   ]
  },
  {
   "cell_type": "code",
   "execution_count": 36,
   "id": "5ec22f32",
   "metadata": {
    "execution": {
     "iopub.execute_input": "2021-09-09T20:03:58.330781Z",
     "iopub.status.busy": "2021-09-09T20:03:58.330250Z",
     "iopub.status.idle": "2021-09-09T20:03:58.334818Z",
     "shell.execute_reply": "2021-09-09T20:03:58.335216Z"
    }
   },
   "outputs": [
    {
     "data": {
      "text/plain": [
       "array([ 8, 26, 17,  9])"
      ]
     },
     "execution_count": 36,
     "metadata": {},
     "output_type": "execute_result"
    }
   ],
   "source": [
    "a[a > 5]"
   ]
  },
  {
   "cell_type": "markdown",
   "id": "cdf9cc13",
   "metadata": {},
   "source": [
    "### Broadcasting"
   ]
  },
  {
   "cell_type": "markdown",
   "id": "1ac3af46",
   "metadata": {},
   "source": [
    "Permite realizar operaciones entre dos numpy arrays de distintas dimensiones.\n",
    "Para lograr esto, las dimensiones de los mismos deben ser compatibles. Dos dimensiones son compatibles cuando:\n",
    "1. Son iguales\n",
    "2. Alguna de las dos es 1"
   ]
  },
  {
   "cell_type": "code",
   "execution_count": 37,
   "id": "3fb6a1d7",
   "metadata": {
    "execution": {
     "iopub.execute_input": "2021-09-09T20:03:58.341156Z",
     "iopub.status.busy": "2021-09-09T20:03:58.340637Z",
     "iopub.status.idle": "2021-09-09T20:03:58.343155Z",
     "shell.execute_reply": "2021-09-09T20:03:58.343553Z"
    }
   },
   "outputs": [
    {
     "data": {
      "text/plain": [
       "array([[ 5,  2,  1,  8],\n",
       "       [26,  4, 17,  9]])"
      ]
     },
     "execution_count": 37,
     "metadata": {},
     "output_type": "execute_result"
    }
   ],
   "source": [
    "a = np.array([[5, 2, 1, 8], [26, 4, 17, 9]])\n",
    "a"
   ]
  },
  {
   "cell_type": "code",
   "execution_count": 38,
   "id": "7853a529",
   "metadata": {
    "execution": {
     "iopub.execute_input": "2021-09-09T20:03:58.349189Z",
     "iopub.status.busy": "2021-09-09T20:03:58.345796Z",
     "iopub.status.idle": "2021-09-09T20:03:58.351079Z",
     "shell.execute_reply": "2021-09-09T20:03:58.351470Z"
    }
   },
   "outputs": [
    {
     "name": "stdout",
     "output_type": "stream",
     "text": [
      "a: (2, 4)\n",
      "b: (4,)\n",
      "\n",
      "a + b:\n",
      " [[10  4  2 16]\n",
      " [31  6 18 17]]\n"
     ]
    }
   ],
   "source": [
    "# Armamos un array que tenga la misma cantidad de columnas que a\n",
    "b = np.array([5, 2, 1, 8])\n",
    "print(f\"a: {a.shape}\")\n",
    "print(f\"b: {b.shape}\")\n",
    "# a + b\n",
    "print()\n",
    "print(f\"a + b:\\n {a + b}\")"
   ]
  },
  {
   "cell_type": "code",
   "execution_count": 39,
   "id": "709737ce",
   "metadata": {
    "execution": {
     "iopub.execute_input": "2021-09-09T20:03:58.356097Z",
     "iopub.status.busy": "2021-09-09T20:03:58.355612Z",
     "iopub.status.idle": "2021-09-09T20:03:58.425141Z",
     "shell.execute_reply": "2021-09-09T20:03:58.425561Z"
    },
    "tags": [
     "raises-exception"
    ]
   },
   "outputs": [
    {
     "name": "stdout",
     "output_type": "stream",
     "text": [
      "a: (2, 4)\n",
      "b: (3,)\n"
     ]
    },
    {
     "ename": "ValueError",
     "evalue": "operands could not be broadcast together with shapes (2,4) (3,) ",
     "output_type": "error",
     "traceback": [
      "\u001b[0;31m---------------------------------------------------------------------------\u001b[0m",
      "\u001b[0;31mValueError\u001b[0m                                Traceback (most recent call last)",
      "\u001b[0;32m/tmp/ipykernel_1871/261865458.py\u001b[0m in \u001b[0;36m<module>\u001b[0;34m\u001b[0m\n\u001b[1;32m      3\u001b[0m \u001b[0mprint\u001b[0m\u001b[0;34m(\u001b[0m\u001b[0;34mf\"a: {a.shape}\"\u001b[0m\u001b[0;34m)\u001b[0m\u001b[0;34m\u001b[0m\u001b[0;34m\u001b[0m\u001b[0m\n\u001b[1;32m      4\u001b[0m \u001b[0mprint\u001b[0m\u001b[0;34m(\u001b[0m\u001b[0;34mf\"b: {b.shape}\"\u001b[0m\u001b[0;34m)\u001b[0m\u001b[0;34m\u001b[0m\u001b[0;34m\u001b[0m\u001b[0m\n\u001b[0;32m----> 5\u001b[0;31m \u001b[0ma\u001b[0m \u001b[0;34m+\u001b[0m \u001b[0mb\u001b[0m\u001b[0;34m\u001b[0m\u001b[0;34m\u001b[0m\u001b[0m\n\u001b[0m",
      "\u001b[0;31mValueError\u001b[0m: operands could not be broadcast together with shapes (2,4) (3,) "
     ]
    }
   ],
   "source": [
    "# Armamos un array que tenga distinta cantidad de filas y columnas que a\n",
    "b = np.array([5, 1, 8])\n",
    "print(f\"a: {a.shape}\")\n",
    "print(f\"b: {b.shape}\")\n",
    "a + b"
   ]
  },
  {
   "cell_type": "code",
   "execution_count": 40,
   "id": "b579d3d0",
   "metadata": {
    "execution": {
     "iopub.execute_input": "2021-09-09T20:03:58.431807Z",
     "iopub.status.busy": "2021-09-09T20:03:58.427851Z",
     "iopub.status.idle": "2021-09-09T20:03:58.435091Z",
     "shell.execute_reply": "2021-09-09T20:03:58.434635Z"
    }
   },
   "outputs": [
    {
     "name": "stdout",
     "output_type": "stream",
     "text": [
      "a: (2, 4)\n",
      "b: (2, 1)\n"
     ]
    },
    {
     "data": {
      "text/plain": [
       "array([[ 7,  4,  3, 10],\n",
       "       [27,  5, 18, 10]])"
      ]
     },
     "execution_count": 40,
     "metadata": {},
     "output_type": "execute_result"
    }
   ],
   "source": [
    "# Armamos un array que tenga la misma cantidad de filas que a\n",
    "b = np.array([[2], [1]])\n",
    "print(f\"a: {a.shape}\")\n",
    "print(f\"b: {b.shape}\")\n",
    "a + b"
   ]
  },
  {
   "cell_type": "code",
   "execution_count": 41,
   "id": "944a01e5",
   "metadata": {
    "execution": {
     "iopub.execute_input": "2021-09-09T20:03:58.440703Z",
     "iopub.status.busy": "2021-09-09T20:03:58.439935Z",
     "iopub.status.idle": "2021-09-09T20:03:58.442522Z",
     "shell.execute_reply": "2021-09-09T20:03:58.442920Z"
    }
   },
   "outputs": [
    {
     "data": {
      "text/plain": [
       "array([[ 9,  6,  5, 12],\n",
       "       [30,  8, 21, 13]])"
      ]
     },
     "execution_count": 41,
     "metadata": {},
     "output_type": "execute_result"
    }
   ],
   "source": [
    "# Si b es un entero\n",
    "b = 4\n",
    "a + b"
   ]
  },
  {
   "cell_type": "code",
   "execution_count": null,
   "id": "e4f19889",
   "metadata": {},
   "outputs": [],
   "source": []
  }
 ],
 "metadata": {
  "jupytext": {
   "encoding": "# -*- coding: utf-8 -*-",
   "formats": "ipynb,py:light"
  },
  "kernelspec": {
   "display_name": "Python 3",
   "language": "python",
   "name": "python3"
  },
  "language_info": {
   "codemirror_mode": {
    "name": "ipython",
    "version": 3
   },
   "file_extension": ".py",
   "mimetype": "text/x-python",
   "name": "python",
   "nbconvert_exporter": "python",
   "pygments_lexer": "ipython3",
   "version": "3.7.11"
  }
 },
 "nbformat": 4,
 "nbformat_minor": 5
}
