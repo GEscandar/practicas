{
 "cells": [
  {
   "cell_type": "markdown",
   "id": "bbab3bc7",
   "metadata": {},
   "source": [
    "## Clase 1 - Introducción a Numpy\n",
    "\n",
    "Numpy es una biblioteca para Python que facilita el manejo de arreglos multidimensionales y ofrece varias herramientas para trabajar con ellos. Muchas de las bibliotecas de Python que son ampliamente usadas hoy en día, como pandas, están construidas sobre numpy.\n",
    "\n",
    "### Listas de Python vs arreglos de Numpy\n",
    "\n",
    "A primera vista, un arreglo de numpy puede resultar idéntico a una lista de python, pero a medida que la cantidad de datos comienza a incrementar, los arreglos de numpy terminan ofreciendo un manejo más eficiente de la memoria.\n",
    "\n",
    "Para comenzar, vamos a crear un arreglo de numpy:"
   ]
  },
  {
   "cell_type": "code",
   "execution_count": 1,
   "id": "9f62d64d",
   "metadata": {
    "execution": {
     "iopub.execute_input": "2021-04-15T23:25:34.913541Z",
     "iopub.status.busy": "2021-04-15T23:25:34.912911Z",
     "iopub.status.idle": "2021-04-15T23:25:35.081644Z",
     "shell.execute_reply": "2021-04-15T23:25:35.082424Z"
    }
   },
   "outputs": [
    {
     "data": {
      "text/plain": [
       "array([1, 2, 3, 4])"
      ]
     },
     "execution_count": 1,
     "metadata": {},
     "output_type": "execute_result"
    }
   ],
   "source": [
    "import numpy as np\n",
    "\n",
    "np.array([1, 2, 3, 4])"
   ]
  },
  {
   "cell_type": "markdown",
   "id": "52556897",
   "metadata": {},
   "source": [
    "Los arreglos pueden ser también multidimensionales:"
   ]
  },
  {
   "cell_type": "code",
   "execution_count": 2,
   "id": "69f28730",
   "metadata": {
    "execution": {
     "iopub.execute_input": "2021-04-15T23:25:35.087544Z",
     "iopub.status.busy": "2021-04-15T23:25:35.086952Z",
     "iopub.status.idle": "2021-04-15T23:25:35.092657Z",
     "shell.execute_reply": "2021-04-15T23:25:35.091579Z"
    }
   },
   "outputs": [
    {
     "data": {
      "text/plain": [
       "array([[1, 2, 3, 4],\n",
       "       [5, 6, 7, 8]])"
      ]
     },
     "execution_count": 1,
     "metadata": {},
     "output_type": "execute_result"
    }
   ],
   "source": [
    "np.array([[1, 2, 3, 4], [5, 6, 7, 8]])"
   ]
  },
  {
   "cell_type": "markdown",
   "id": "12a50c9b",
   "metadata": {},
   "source": [
    "Es importante tener en cuenta que un arreglo de numpy tiene un tipo fijo de datos, entonces si se quiere agregar un dato de un tipo diferente al de la mayoría, este va a ser modificado para adaptarse al resto"
   ]
  },
  {
   "cell_type": "code",
   "execution_count": 3,
   "id": "99e5d0fa",
   "metadata": {
    "execution": {
     "iopub.execute_input": "2021-04-15T23:25:35.096508Z",
     "iopub.status.busy": "2021-04-15T23:25:35.095919Z",
     "iopub.status.idle": "2021-04-15T23:25:35.098300Z",
     "shell.execute_reply": "2021-04-15T23:25:35.097836Z"
    }
   },
   "outputs": [],
   "source": [
    "enteros = np.array([1, 2, 3, 4])"
   ]
  },
  {
   "cell_type": "markdown",
   "id": "192ed7d4",
   "metadata": {},
   "source": [
    "Agrego un elemento de tipo flotante en la posición 1"
   ]
  },
  {
   "cell_type": "code",
   "execution_count": 4,
   "id": "10d4df8c",
   "metadata": {
    "execution": {
     "iopub.execute_input": "2021-04-15T23:25:35.102246Z",
     "iopub.status.busy": "2021-04-15T23:25:35.101435Z",
     "iopub.status.idle": "2021-04-15T23:25:35.104638Z",
     "shell.execute_reply": "2021-04-15T23:25:35.104174Z"
    }
   },
   "outputs": [
    {
     "data": {
      "text/plain": [
       "array([1, 8, 3, 4])"
      ]
     },
     "execution_count": 1,
     "metadata": {},
     "output_type": "execute_result"
    }
   ],
   "source": [
    "enteros[1] = 8.4727\n",
    "enteros"
   ]
  },
  {
   "cell_type": "markdown",
   "id": "f1af6da8",
   "metadata": {},
   "source": [
    "Numpy también nos permite crear arreglos con valores aleatorios del 0 al 1.\n",
    "Basta con pasarle las dimensiones del arreglo que queremos crear."
   ]
  },
  {
   "cell_type": "code",
   "execution_count": 5,
   "id": "d963e226",
   "metadata": {
    "execution": {
     "iopub.execute_input": "2021-04-15T23:25:35.109161Z",
     "iopub.status.busy": "2021-04-15T23:25:35.108520Z",
     "iopub.status.idle": "2021-04-15T23:25:35.112082Z",
     "shell.execute_reply": "2021-04-15T23:25:35.111625Z"
    }
   },
   "outputs": [
    {
     "data": {
      "text/plain": [
       "array([[0.21669607, 0.5824755 , 0.71363466],\n",
       "       [0.24605084, 0.70736032, 0.55003139]])"
      ]
     },
     "execution_count": 1,
     "metadata": {},
     "output_type": "execute_result"
    }
   ],
   "source": [
    "np.random.rand(2, 3)"
   ]
  },
  {
   "cell_type": "markdown",
   "id": "1aa2aba6",
   "metadata": {},
   "source": [
    "## Slicing\n",
    "\n",
    "De la misma forma que con las listas de python, pueden obtenerse slices de los arreglos de numpy"
   ]
  },
  {
   "cell_type": "code",
   "execution_count": 6,
   "id": "a845eb11",
   "metadata": {
    "execution": {
     "iopub.execute_input": "2021-04-15T23:25:35.115784Z",
     "iopub.status.busy": "2021-04-15T23:25:35.115268Z",
     "iopub.status.idle": "2021-04-15T23:25:35.118589Z",
     "shell.execute_reply": "2021-04-15T23:25:35.118072Z"
    },
    "lines_to_next_cell": 2
   },
   "outputs": [
    {
     "data": {
      "text/plain": [
       "array([1, 8])"
      ]
     },
     "execution_count": 1,
     "metadata": {},
     "output_type": "execute_result"
    }
   ],
   "source": [
    "enteros[:2]"
   ]
  },
  {
   "cell_type": "code",
   "execution_count": 7,
   "id": "9dd91968",
   "metadata": {
    "execution": {
     "iopub.execute_input": "2021-04-15T23:25:35.125830Z",
     "iopub.status.busy": "2021-04-15T23:25:35.125217Z",
     "iopub.status.idle": "2021-04-15T23:25:35.133094Z",
     "shell.execute_reply": "2021-04-15T23:25:35.132455Z"
    }
   },
   "outputs": [
    {
     "name": "stdout",
     "output_type": "stream",
     "text": [
      "Original: \n",
      "[[ 1  2  3  4]\n",
      " [ 5  6  7  8]\n",
      " [ 9 10 11 12]]\n",
      "\n",
      "Recortada: \n",
      "[[1 2 3]\n",
      " [5 6 7]]\n"
     ]
    }
   ],
   "source": [
    "matriz_de_enteros = np.array([[1, 2, 3, 4], [5, 6, 7, 8], [9, 10, 11, 12]])\n",
    "\n",
    "print('Original: ')\n",
    "print(matriz_de_enteros)\n",
    "\n",
    "print()\n",
    "\n",
    "print('Recortada: ')\n",
    "print(matriz_de_enteros[:2, :3])"
   ]
  },
  {
   "cell_type": "code",
   "execution_count": 8,
   "id": "180ce178",
   "metadata": {
    "execution": {
     "iopub.execute_input": "2021-04-15T23:25:35.137111Z",
     "iopub.status.busy": "2021-04-15T23:25:35.136540Z",
     "iopub.status.idle": "2021-04-15T23:25:35.139752Z",
     "shell.execute_reply": "2021-04-15T23:25:35.139273Z"
    }
   },
   "outputs": [
    {
     "data": {
      "text/plain": [
       "array([[[ 0,  1,  2,  3,  4],\n",
       "        [ 5,  6,  7,  8,  9],\n",
       "        [10, 11, 12, 13, 14]],\n",
       "\n",
       "       [[15, 16, 17, 18, 19],\n",
       "        [20, 21, 22, 23, 24],\n",
       "        [25, 26, 27, 28, 29]],\n",
       "\n",
       "       [[30, 31, 32, 33, 34],\n",
       "        [35, 36, 37, 38, 39],\n",
       "        [40, 41, 42, 43, 44]]])"
      ]
     },
     "execution_count": 1,
     "metadata": {},
     "output_type": "execute_result"
    }
   ],
   "source": [
    "# 3D\n",
    "# arange() genera valores de un intervalo pasado por parámetro\n",
    "# reshape() modifica la forma del numpy array\n",
    "\n",
    "x = np.arange(45).reshape(3, 3, 5)\n",
    "x"
   ]
  },
  {
   "cell_type": "code",
   "execution_count": 9,
   "id": "b9feccc5",
   "metadata": {
    "execution": {
     "iopub.execute_input": "2021-04-15T23:25:35.143778Z",
     "iopub.status.busy": "2021-04-15T23:25:35.143222Z",
     "iopub.status.idle": "2021-04-15T23:25:35.149043Z",
     "shell.execute_reply": "2021-04-15T23:25:35.148297Z"
    }
   },
   "outputs": [
    {
     "data": {
      "text/plain": [
       "array([[ 0,  1,  2,  3,  4],\n",
       "       [ 5,  6,  7,  8,  9],\n",
       "       [10, 11, 12, 13, 14]])"
      ]
     },
     "execution_count": 1,
     "metadata": {},
     "output_type": "execute_result"
    }
   ],
   "source": [
    "x[0]"
   ]
  },
  {
   "cell_type": "code",
   "execution_count": 10,
   "id": "8d5ffdb4",
   "metadata": {
    "execution": {
     "iopub.execute_input": "2021-04-15T23:25:35.153475Z",
     "iopub.status.busy": "2021-04-15T23:25:35.152886Z",
     "iopub.status.idle": "2021-04-15T23:25:35.158682Z",
     "shell.execute_reply": "2021-04-15T23:25:35.158206Z"
    }
   },
   "outputs": [
    {
     "data": {
      "text/plain": [
       "array([5, 6, 7, 8, 9])"
      ]
     },
     "execution_count": 1,
     "metadata": {},
     "output_type": "execute_result"
    }
   ],
   "source": [
    "x[0][1]"
   ]
  },
  {
   "cell_type": "code",
   "execution_count": 11,
   "id": "3135ada4",
   "metadata": {
    "execution": {
     "iopub.execute_input": "2021-04-15T23:25:35.162337Z",
     "iopub.status.busy": "2021-04-15T23:25:35.161790Z",
     "iopub.status.idle": "2021-04-15T23:25:35.167072Z",
     "shell.execute_reply": "2021-04-15T23:25:35.166552Z"
    }
   },
   "outputs": [
    {
     "data": {
      "text/plain": [
       "7"
      ]
     },
     "execution_count": 1,
     "metadata": {},
     "output_type": "execute_result"
    }
   ],
   "source": [
    "x[0][1][2]"
   ]
  },
  {
   "cell_type": "markdown",
   "id": "04c51fe1",
   "metadata": {},
   "source": [
    "\n",
    "¿Cómo conseguimos estos valores? ([fuente](https://towardsdatascience.com/indexing-and-slicing-of-1d-2d-and-3d-arrays-in-numpy-e731afff0bbe))\n",
    "\n",
    "![title](img/matrix.png)"
   ]
  },
  {
   "cell_type": "code",
   "execution_count": 12,
   "id": "ce8063f0",
   "metadata": {
    "execution": {
     "iopub.execute_input": "2021-04-15T23:25:35.171181Z",
     "iopub.status.busy": "2021-04-15T23:25:35.170582Z",
     "iopub.status.idle": "2021-04-15T23:25:35.175313Z",
     "shell.execute_reply": "2021-04-15T23:25:35.175798Z"
    }
   },
   "outputs": [
    {
     "data": {
      "text/plain": [
       "array([[[16, 17, 18],\n",
       "        [21, 22, 23]],\n",
       "\n",
       "       [[31, 32, 33],\n",
       "        [36, 37, 38]]])"
      ]
     },
     "execution_count": 1,
     "metadata": {},
     "output_type": "execute_result"
    }
   ],
   "source": [
    "x[1:, 0:2, 1:4]"
   ]
  },
  {
   "cell_type": "markdown",
   "id": "d9c28c92",
   "metadata": {},
   "source": [
    "### Copia de arreglos"
   ]
  },
  {
   "cell_type": "code",
   "execution_count": 13,
   "id": "4edb7ad8",
   "metadata": {
    "execution": {
     "iopub.execute_input": "2021-04-15T23:25:35.180345Z",
     "iopub.status.busy": "2021-04-15T23:25:35.179505Z",
     "iopub.status.idle": "2021-04-15T23:25:35.184815Z",
     "shell.execute_reply": "2021-04-15T23:25:35.185243Z"
    }
   },
   "outputs": [
    {
     "data": {
      "text/plain": [
       "array([1, 2, 3, 4])"
      ]
     },
     "execution_count": 1,
     "metadata": {},
     "output_type": "execute_result"
    }
   ],
   "source": [
    "# Los arreglos no se copian con asignación\n",
    "\n",
    "a = np.array([1, 2, 3, 4])\n",
    "b = a\n",
    "b"
   ]
  },
  {
   "cell_type": "code",
   "execution_count": 14,
   "id": "c8b3a2e8",
   "metadata": {
    "execution": {
     "iopub.execute_input": "2021-04-15T23:25:35.189660Z",
     "iopub.status.busy": "2021-04-15T23:25:35.189100Z",
     "iopub.status.idle": "2021-04-15T23:25:35.191701Z",
     "shell.execute_reply": "2021-04-15T23:25:35.192135Z"
    }
   },
   "outputs": [
    {
     "data": {
      "text/plain": [
       "array([ 1, 20,  3,  4])"
      ]
     },
     "execution_count": 1,
     "metadata": {},
     "output_type": "execute_result"
    }
   ],
   "source": [
    "b[1] = 20\n",
    "b"
   ]
  },
  {
   "cell_type": "code",
   "execution_count": 15,
   "id": "90436170",
   "metadata": {
    "execution": {
     "iopub.execute_input": "2021-04-15T23:25:35.196610Z",
     "iopub.status.busy": "2021-04-15T23:25:35.196052Z",
     "iopub.status.idle": "2021-04-15T23:25:35.198692Z",
     "shell.execute_reply": "2021-04-15T23:25:35.199129Z"
    }
   },
   "outputs": [
    {
     "data": {
      "text/plain": [
       "array([ 1, 20,  3,  4])"
      ]
     },
     "execution_count": 1,
     "metadata": {},
     "output_type": "execute_result"
    }
   ],
   "source": [
    "a"
   ]
  },
  {
   "cell_type": "code",
   "execution_count": 16,
   "id": "c0fa3c68",
   "metadata": {
    "execution": {
     "iopub.execute_input": "2021-04-15T23:25:35.204518Z",
     "iopub.status.busy": "2021-04-15T23:25:35.203464Z",
     "iopub.status.idle": "2021-04-15T23:25:35.206617Z",
     "shell.execute_reply": "2021-04-15T23:25:35.206142Z"
    }
   },
   "outputs": [
    {
     "data": {
      "text/plain": [
       "array([ 1, 20,  3,  4])"
      ]
     },
     "execution_count": 1,
     "metadata": {},
     "output_type": "execute_result"
    }
   ],
   "source": [
    "# Para copiar un arreglo a otra variable debemos usar copy()\n",
    "\n",
    "a = np.array([1, 2, 3, 4])\n",
    "b = a.copy()\n",
    "b[1] = 20\n",
    "b"
   ]
  },
  {
   "cell_type": "code",
   "execution_count": 17,
   "id": "b17e7ac2",
   "metadata": {
    "execution": {
     "iopub.execute_input": "2021-04-15T23:25:35.210847Z",
     "iopub.status.busy": "2021-04-15T23:25:35.210289Z",
     "iopub.status.idle": "2021-04-15T23:25:35.213095Z",
     "shell.execute_reply": "2021-04-15T23:25:35.213531Z"
    }
   },
   "outputs": [
    {
     "data": {
      "text/plain": [
       "array([1, 2, 3, 4])"
      ]
     },
     "execution_count": 1,
     "metadata": {},
     "output_type": "execute_result"
    }
   ],
   "source": [
    "a"
   ]
  },
  {
   "cell_type": "markdown",
   "id": "e04f3866",
   "metadata": {},
   "source": [
    "### Modificación de dimensiones"
   ]
  },
  {
   "cell_type": "markdown",
   "id": "6a29a54c",
   "metadata": {},
   "source": [
    "Existen varias operaciones para cambiar la forma de un arreglo de numpy"
   ]
  },
  {
   "cell_type": "code",
   "execution_count": 18,
   "id": "d1bcba43",
   "metadata": {
    "execution": {
     "iopub.execute_input": "2021-04-15T23:25:35.218014Z",
     "iopub.status.busy": "2021-04-15T23:25:35.217410Z",
     "iopub.status.idle": "2021-04-15T23:25:35.220180Z",
     "shell.execute_reply": "2021-04-15T23:25:35.220614Z"
    }
   },
   "outputs": [
    {
     "data": {
      "text/plain": [
       "array([[ 1,  2,  3,  4],\n",
       "       [ 5,  6,  7,  8],\n",
       "       [ 9, 10, 11, 12]])"
      ]
     },
     "execution_count": 1,
     "metadata": {},
     "output_type": "execute_result"
    }
   ],
   "source": [
    "matriz_de_enteros"
   ]
  },
  {
   "cell_type": "code",
   "execution_count": 19,
   "id": "cd1c6e2f",
   "metadata": {
    "execution": {
     "iopub.execute_input": "2021-04-15T23:25:35.224766Z",
     "iopub.status.busy": "2021-04-15T23:25:35.224172Z",
     "iopub.status.idle": "2021-04-15T23:25:35.226365Z",
     "shell.execute_reply": "2021-04-15T23:25:35.226999Z"
    }
   },
   "outputs": [
    {
     "data": {
      "text/plain": [
       "2"
      ]
     },
     "execution_count": 1,
     "metadata": {},
     "output_type": "execute_result"
    }
   ],
   "source": [
    "# Obtener las dimensiones del arreglo\n",
    "\n",
    "matriz_de_enteros.ndim"
   ]
  },
  {
   "cell_type": "code",
   "execution_count": 20,
   "id": "04e19319",
   "metadata": {
    "execution": {
     "iopub.execute_input": "2021-04-15T23:25:35.231448Z",
     "iopub.status.busy": "2021-04-15T23:25:35.230863Z",
     "iopub.status.idle": "2021-04-15T23:25:35.232851Z",
     "shell.execute_reply": "2021-04-15T23:25:35.233310Z"
    }
   },
   "outputs": [
    {
     "data": {
      "text/plain": [
       "(3, 4)"
      ]
     },
     "execution_count": 1,
     "metadata": {},
     "output_type": "execute_result"
    }
   ],
   "source": [
    "# Obtener la forma del arreglo\n",
    "\n",
    "matriz_de_enteros.shape"
   ]
  },
  {
   "cell_type": "code",
   "execution_count": 21,
   "id": "fc34f91f",
   "metadata": {
    "execution": {
     "iopub.execute_input": "2021-04-15T23:25:35.237840Z",
     "iopub.status.busy": "2021-04-15T23:25:35.237303Z",
     "iopub.status.idle": "2021-04-15T23:25:35.240056Z",
     "shell.execute_reply": "2021-04-15T23:25:35.240497Z"
    }
   },
   "outputs": [
    {
     "name": "stdout",
     "output_type": "stream",
     "text": [
      "enteros: [ 3  6  9 12]\n"
     ]
    },
    {
     "data": {
      "text/plain": [
       "array([[ 3,  6],\n",
       "       [ 9, 12]])"
      ]
     },
     "execution_count": 1,
     "metadata": {},
     "output_type": "execute_result"
    }
   ],
   "source": [
    "# Modificar la forma de un arreglo\n",
    "\n",
    "enteros = np.array([3, 6, 9, 12])\n",
    "print(f\"enteros: {enteros}\")\n",
    "np.reshape(enteros, (2, 2))"
   ]
  },
  {
   "cell_type": "code",
   "execution_count": 22,
   "id": "f0b92a77",
   "metadata": {
    "execution": {
     "iopub.execute_input": "2021-04-15T23:25:35.244750Z",
     "iopub.status.busy": "2021-04-15T23:25:35.244177Z",
     "iopub.status.idle": "2021-04-15T23:25:35.247342Z",
     "shell.execute_reply": "2021-04-15T23:25:35.246880Z"
    }
   },
   "outputs": [
    {
     "data": {
      "text/plain": [
       "array([[1., 1.],\n",
       "       [1., 1.]])"
      ]
     },
     "execution_count": 1,
     "metadata": {},
     "output_type": "execute_result"
    }
   ],
   "source": [
    "# Aplanar un arreglo\n",
    "\n",
    "a = np.ones((2, 2))\n",
    "a"
   ]
  },
  {
   "cell_type": "code",
   "execution_count": 23,
   "id": "c5cbd212",
   "metadata": {
    "execution": {
     "iopub.execute_input": "2021-04-15T23:25:35.251833Z",
     "iopub.status.busy": "2021-04-15T23:25:35.251260Z",
     "iopub.status.idle": "2021-04-15T23:25:35.253187Z",
     "shell.execute_reply": "2021-04-15T23:25:35.253721Z"
    }
   },
   "outputs": [
    {
     "data": {
      "text/plain": [
       "array([1., 1., 1., 1.])"
      ]
     },
     "execution_count": 1,
     "metadata": {},
     "output_type": "execute_result"
    }
   ],
   "source": [
    "a.flatten()"
   ]
  },
  {
   "cell_type": "code",
   "execution_count": 24,
   "id": "eaf6dc08",
   "metadata": {
    "execution": {
     "iopub.execute_input": "2021-04-15T23:25:35.257422Z",
     "iopub.status.busy": "2021-04-15T23:25:35.256875Z",
     "iopub.status.idle": "2021-04-15T23:25:35.261204Z",
     "shell.execute_reply": "2021-04-15T23:25:35.260571Z"
    },
    "lines_to_next_cell": 2
   },
   "outputs": [
    {
     "data": {
      "text/plain": [
       "array([[1., 1.],\n",
       "       [1., 1.]])"
      ]
     },
     "execution_count": 1,
     "metadata": {},
     "output_type": "execute_result"
    }
   ],
   "source": [
    "a"
   ]
  },
  {
   "cell_type": "markdown",
   "id": "4cb18ac8",
   "metadata": {},
   "source": [
    "### Combinación de arreglos (Stacking)"
   ]
  },
  {
   "cell_type": "code",
   "execution_count": 25,
   "id": "87320408",
   "metadata": {
    "execution": {
     "iopub.execute_input": "2021-04-15T23:25:35.265396Z",
     "iopub.status.busy": "2021-04-15T23:25:35.264854Z",
     "iopub.status.idle": "2021-04-15T23:25:35.268140Z",
     "shell.execute_reply": "2021-04-15T23:25:35.267696Z"
    }
   },
   "outputs": [
    {
     "data": {
      "text/plain": [
       "array([0, 1, 2, 3, 4])"
      ]
     },
     "execution_count": 1,
     "metadata": {},
     "output_type": "execute_result"
    }
   ],
   "source": [
    "# Los arreglos se pueden combinar verticalmente (se incrementa la cantidad de filas)\n",
    "\n",
    "a = np.arange(0, 5)\n",
    "a"
   ]
  },
  {
   "cell_type": "code",
   "execution_count": 26,
   "id": "121e1665",
   "metadata": {
    "execution": {
     "iopub.execute_input": "2021-04-15T23:25:35.271813Z",
     "iopub.status.busy": "2021-04-15T23:25:35.271282Z",
     "iopub.status.idle": "2021-04-15T23:25:35.274848Z",
     "shell.execute_reply": "2021-04-15T23:25:35.274287Z"
    }
   },
   "outputs": [
    {
     "data": {
      "text/plain": [
       "array([5, 6, 7, 8, 9])"
      ]
     },
     "execution_count": 1,
     "metadata": {},
     "output_type": "execute_result"
    }
   ],
   "source": [
    "b = np.arange(5, 10)\n",
    "b"
   ]
  },
  {
   "cell_type": "code",
   "execution_count": 27,
   "id": "fdc61e17",
   "metadata": {
    "execution": {
     "iopub.execute_input": "2021-04-15T23:25:35.278779Z",
     "iopub.status.busy": "2021-04-15T23:25:35.278233Z",
     "iopub.status.idle": "2021-04-15T23:25:35.282032Z",
     "shell.execute_reply": "2021-04-15T23:25:35.280816Z"
    }
   },
   "outputs": [
    {
     "data": {
      "text/plain": [
       "array([[0, 1, 2, 3, 4],\n",
       "       [5, 6, 7, 8, 9]])"
      ]
     },
     "execution_count": 1,
     "metadata": {},
     "output_type": "execute_result"
    }
   ],
   "source": [
    "combinados_verticalmente = np.vstack((a, b))\n",
    "combinados_verticalmente"
   ]
  },
  {
   "cell_type": "code",
   "execution_count": 28,
   "id": "1762cb81",
   "metadata": {
    "execution": {
     "iopub.execute_input": "2021-04-15T23:25:35.287991Z",
     "iopub.status.busy": "2021-04-15T23:25:35.286895Z",
     "iopub.status.idle": "2021-04-15T23:25:35.290231Z",
     "shell.execute_reply": "2021-04-15T23:25:35.291224Z"
    }
   },
   "outputs": [
    {
     "data": {
      "text/plain": [
       "array([0, 1, 2, 3, 4, 5, 6, 7, 8, 9])"
      ]
     },
     "execution_count": 1,
     "metadata": {},
     "output_type": "execute_result"
    }
   ],
   "source": [
    "# También se pueden combinar horizontalmente (se incrementa la cantidad de columnas)\n",
    "\n",
    "combinados_horizontalmente = np.hstack((a, b))\n",
    "combinados_horizontalmente"
   ]
  },
  {
   "cell_type": "markdown",
   "id": "0e8be9fe",
   "metadata": {},
   "source": [
    "### Operaciones matemáticas"
   ]
  },
  {
   "cell_type": "code",
   "execution_count": 29,
   "id": "c975aaaf",
   "metadata": {
    "execution": {
     "iopub.execute_input": "2021-04-15T23:25:35.296044Z",
     "iopub.status.busy": "2021-04-15T23:25:35.295293Z",
     "iopub.status.idle": "2021-04-15T23:25:35.297571Z",
     "shell.execute_reply": "2021-04-15T23:25:35.298072Z"
    }
   },
   "outputs": [
    {
     "data": {
      "text/plain": [
       "array([3, 4, 5, 6])"
      ]
     },
     "execution_count": 1,
     "metadata": {},
     "output_type": "execute_result"
    }
   ],
   "source": [
    "a = np.array([1, 2, 3, 4])\n",
    "\n",
    "a + 2"
   ]
  },
  {
   "cell_type": "code",
   "execution_count": 30,
   "id": "a2108861",
   "metadata": {
    "execution": {
     "iopub.execute_input": "2021-04-15T23:25:35.301898Z",
     "iopub.status.busy": "2021-04-15T23:25:35.301382Z",
     "iopub.status.idle": "2021-04-15T23:25:35.305187Z",
     "shell.execute_reply": "2021-04-15T23:25:35.304484Z"
    }
   },
   "outputs": [
    {
     "data": {
      "text/plain": [
       "array([ 1,  4,  9, 16])"
      ]
     },
     "execution_count": 1,
     "metadata": {},
     "output_type": "execute_result"
    }
   ],
   "source": [
    "a ** 2"
   ]
  },
  {
   "cell_type": "code",
   "execution_count": 31,
   "id": "1e0f06a0",
   "metadata": {
    "execution": {
     "iopub.execute_input": "2021-04-15T23:25:35.310103Z",
     "iopub.status.busy": "2021-04-15T23:25:35.309583Z",
     "iopub.status.idle": "2021-04-15T23:25:35.313154Z",
     "shell.execute_reply": "2021-04-15T23:25:35.312503Z"
    }
   },
   "outputs": [
    {
     "name": "stdout",
     "output_type": "stream",
     "text": [
      "b: [1. 1. 1. 1.]\n"
     ]
    },
    {
     "data": {
      "text/plain": [
       "array([2., 3., 4., 5.])"
      ]
     },
     "execution_count": 1,
     "metadata": {},
     "output_type": "execute_result"
    }
   ],
   "source": [
    "b = np.ones(4)\n",
    "print(f\"b: {b}\")\n",
    "a + b"
   ]
  },
  {
   "cell_type": "markdown",
   "id": "a52f2f46",
   "metadata": {},
   "source": [
    "### Estadística"
   ]
  },
  {
   "cell_type": "code",
   "execution_count": 32,
   "id": "8a2ba4c8",
   "metadata": {
    "execution": {
     "iopub.execute_input": "2021-04-15T23:25:35.317419Z",
     "iopub.status.busy": "2021-04-15T23:25:35.316869Z",
     "iopub.status.idle": "2021-04-15T23:25:35.319596Z",
     "shell.execute_reply": "2021-04-15T23:25:35.319141Z"
    }
   },
   "outputs": [
    {
     "data": {
      "text/plain": [
       "1"
      ]
     },
     "execution_count": 1,
     "metadata": {},
     "output_type": "execute_result"
    }
   ],
   "source": [
    "a = np.array([[5, 2, 1, 8], [26, 4, 17, 9]])\n",
    "\n",
    "np.min(a)"
   ]
  },
  {
   "cell_type": "code",
   "execution_count": 33,
   "id": "2292246c",
   "metadata": {
    "execution": {
     "iopub.execute_input": "2021-04-15T23:25:35.322752Z",
     "iopub.status.busy": "2021-04-15T23:25:35.322146Z",
     "iopub.status.idle": "2021-04-15T23:25:35.325767Z",
     "shell.execute_reply": "2021-04-15T23:25:35.325244Z"
    }
   },
   "outputs": [
    {
     "data": {
      "text/plain": [
       "26"
      ]
     },
     "execution_count": 1,
     "metadata": {},
     "output_type": "execute_result"
    }
   ],
   "source": [
    "np.max(a)"
   ]
  },
  {
   "cell_type": "code",
   "execution_count": 34,
   "id": "31b6b716",
   "metadata": {
    "execution": {
     "iopub.execute_input": "2021-04-15T23:25:35.329358Z",
     "iopub.status.busy": "2021-04-15T23:25:35.328840Z",
     "iopub.status.idle": "2021-04-15T23:25:35.331808Z",
     "shell.execute_reply": "2021-04-15T23:25:35.331352Z"
    }
   },
   "outputs": [
    {
     "data": {
      "text/plain": [
       "72"
      ]
     },
     "execution_count": 1,
     "metadata": {},
     "output_type": "execute_result"
    }
   ],
   "source": [
    "np.sum(a)"
   ]
  },
  {
   "cell_type": "markdown",
   "id": "ff76c229",
   "metadata": {},
   "source": [
    "### Más magia"
   ]
  },
  {
   "cell_type": "code",
   "execution_count": 35,
   "id": "0b36bc22",
   "metadata": {
    "execution": {
     "iopub.execute_input": "2021-04-15T23:25:35.335448Z",
     "iopub.status.busy": "2021-04-15T23:25:35.334909Z",
     "iopub.status.idle": "2021-04-15T23:25:35.337824Z",
     "shell.execute_reply": "2021-04-15T23:25:35.338256Z"
    }
   },
   "outputs": [
    {
     "data": {
      "text/plain": [
       "array([[False, False, False,  True],\n",
       "       [ True, False,  True,  True]])"
      ]
     },
     "execution_count": 1,
     "metadata": {},
     "output_type": "execute_result"
    }
   ],
   "source": [
    "a = np.array([[5, 2, 1, 8], [26, 4, 17, 9]])\n",
    "\n",
    "a > 5"
   ]
  },
  {
   "cell_type": "code",
   "execution_count": 36,
   "id": "4312826a",
   "metadata": {
    "execution": {
     "iopub.execute_input": "2021-04-15T23:25:35.341803Z",
     "iopub.status.busy": "2021-04-15T23:25:35.341282Z",
     "iopub.status.idle": "2021-04-15T23:25:35.344230Z",
     "shell.execute_reply": "2021-04-15T23:25:35.343716Z"
    }
   },
   "outputs": [
    {
     "data": {
      "text/plain": [
       "array([ 8, 26, 17,  9])"
      ]
     },
     "execution_count": 1,
     "metadata": {},
     "output_type": "execute_result"
    }
   ],
   "source": [
    "a[a > 5]"
   ]
  },
  {
   "cell_type": "markdown",
   "id": "ac2fa250",
   "metadata": {},
   "source": [
    "### Broadcasting"
   ]
  },
  {
   "cell_type": "markdown",
   "id": "07da0e96",
   "metadata": {},
   "source": [
    "Permite realizar operaciones entre dos numpy arrays de distintas dimensiones.\n",
    "Para lograr esto, las dimensiones de los mismos deben ser compatibles. Dos dimensiones son compatibles cuando:\n",
    "1. Son iguales\n",
    "2. Alguna de las dos es 1"
   ]
  },
  {
   "cell_type": "code",
   "execution_count": 37,
   "id": "1a415471",
   "metadata": {
    "execution": {
     "iopub.execute_input": "2021-04-15T23:25:35.348443Z",
     "iopub.status.busy": "2021-04-15T23:25:35.347926Z",
     "iopub.status.idle": "2021-04-15T23:25:35.350408Z",
     "shell.execute_reply": "2021-04-15T23:25:35.350857Z"
    }
   },
   "outputs": [
    {
     "data": {
      "text/plain": [
       "array([[ 5,  2,  1,  8],\n",
       "       [26,  4, 17,  9]])"
      ]
     },
     "execution_count": 1,
     "metadata": {},
     "output_type": "execute_result"
    }
   ],
   "source": [
    "a = np.array([[5, 2, 1, 8], [26, 4, 17, 9]])\n",
    "a"
   ]
  },
  {
   "cell_type": "code",
   "execution_count": 38,
   "id": "4346ec01",
   "metadata": {
    "execution": {
     "iopub.execute_input": "2021-04-15T23:25:35.356177Z",
     "iopub.status.busy": "2021-04-15T23:25:35.355400Z",
     "iopub.status.idle": "2021-04-15T23:25:35.357426Z",
     "shell.execute_reply": "2021-04-15T23:25:35.357854Z"
    }
   },
   "outputs": [
    {
     "name": "stdout",
     "output_type": "stream",
     "text": [
      "a: (2, 4)\n",
      "b: (4,)\n",
      "\n",
      "a + b:\n",
      " [[10  4  2 16]\n",
      " [31  6 18 17]]\n"
     ]
    }
   ],
   "source": [
    "# Armamos un array que tenga la misma cantidad de columnas que a\n",
    "b = np.array([5, 2, 1, 8])\n",
    "print(f\"a: {a.shape}\")\n",
    "print(f\"b: {b.shape}\")\n",
    "# a + b\n",
    "print()\n",
    "print(f\"a + b:\\n {a + b}\")"
   ]
  },
  {
   "cell_type": "code",
   "execution_count": 39,
   "id": "4a2334e9",
   "metadata": {
    "execution": {
     "iopub.execute_input": "2021-04-15T23:25:35.361713Z",
     "iopub.status.busy": "2021-04-15T23:25:35.361092Z",
     "iopub.status.idle": "2021-04-15T23:25:35.423510Z",
     "shell.execute_reply": "2021-04-15T23:25:35.423978Z"
    },
    "tags": [
     "raises-exception"
    ]
   },
   "outputs": [
    {
     "name": "stdout",
     "output_type": "stream",
     "text": [
      "a: (2, 4)\n",
      "b: (3,)\n"
     ]
    },
    {
     "ename": "ValueError",
     "evalue": "operands could not be broadcast together with shapes (2,4) (3,) ",
     "output_type": "error",
     "traceback": [
      "\u001b[0;31m---------------------------------------------------------------------------\u001b[0m",
      "\u001b[0;31mValueError\u001b[0m                                Traceback (most recent call last)",
      "\u001b[0;32m<ipython-input-1-fe11b6ae6346>\u001b[0m in \u001b[0;36m<module>\u001b[0;34m\u001b[0m\n\u001b[1;32m      3\u001b[0m \u001b[0mprint\u001b[0m\u001b[0;34m(\u001b[0m\u001b[0;34mf\"a: {a.shape}\"\u001b[0m\u001b[0;34m)\u001b[0m\u001b[0;34m\u001b[0m\u001b[0;34m\u001b[0m\u001b[0m\n\u001b[1;32m      4\u001b[0m \u001b[0mprint\u001b[0m\u001b[0;34m(\u001b[0m\u001b[0;34mf\"b: {b.shape}\"\u001b[0m\u001b[0;34m)\u001b[0m\u001b[0;34m\u001b[0m\u001b[0;34m\u001b[0m\u001b[0m\n\u001b[0;32m----> 5\u001b[0;31m \u001b[0ma\u001b[0m \u001b[0;34m+\u001b[0m \u001b[0mb\u001b[0m\u001b[0;34m\u001b[0m\u001b[0;34m\u001b[0m\u001b[0m\n\u001b[0m",
      "\u001b[0;31mValueError\u001b[0m: operands could not be broadcast together with shapes (2,4) (3,) "
     ]
    }
   ],
   "source": [
    "# Armamos un array que tenga distinta cantidad de filas y columnas que a\n",
    "b = np.array([5, 1, 8])\n",
    "print(f\"a: {a.shape}\")\n",
    "print(f\"b: {b.shape}\")\n",
    "a + b"
   ]
  },
  {
   "cell_type": "code",
   "execution_count": 40,
   "id": "502b4efe",
   "metadata": {
    "execution": {
     "iopub.execute_input": "2021-04-15T23:25:35.430664Z",
     "iopub.status.busy": "2021-04-15T23:25:35.429472Z",
     "iopub.status.idle": "2021-04-15T23:25:35.433485Z",
     "shell.execute_reply": "2021-04-15T23:25:35.433011Z"
    }
   },
   "outputs": [
    {
     "name": "stdout",
     "output_type": "stream",
     "text": [
      "a: (2, 4)\n",
      "b: (2, 1)\n"
     ]
    },
    {
     "data": {
      "text/plain": [
       "array([[ 7,  4,  3, 10],\n",
       "       [27,  5, 18, 10]])"
      ]
     },
     "execution_count": 1,
     "metadata": {},
     "output_type": "execute_result"
    }
   ],
   "source": [
    "# Armamos un array que tenga la misma cantidad de filas que a\n",
    "b = np.array([[2], [1]])\n",
    "print(f\"a: {a.shape}\")\n",
    "print(f\"b: {b.shape}\")\n",
    "a + b"
   ]
  },
  {
   "cell_type": "code",
   "execution_count": 41,
   "id": "a865a4e8",
   "metadata": {
    "execution": {
     "iopub.execute_input": "2021-04-15T23:25:35.438275Z",
     "iopub.status.busy": "2021-04-15T23:25:35.437358Z",
     "iopub.status.idle": "2021-04-15T23:25:35.440083Z",
     "shell.execute_reply": "2021-04-15T23:25:35.440526Z"
    }
   },
   "outputs": [
    {
     "data": {
      "text/plain": [
       "array([[ 9,  6,  5, 12],\n",
       "       [30,  8, 21, 13]])"
      ]
     },
     "execution_count": 1,
     "metadata": {},
     "output_type": "execute_result"
    }
   ],
   "source": [
    "# Si b es un entero\n",
    "b = 4\n",
    "a + b"
   ]
  },
  {
   "cell_type": "code",
   "execution_count": null,
   "id": "6f1f5e1c",
   "metadata": {},
   "outputs": [],
   "source": []
  }
 ],
 "metadata": {
  "jupytext": {
   "encoding": "# -*- coding: utf-8 -*-",
   "formats": "ipynb,py:light"
  },
  "kernelspec": {
   "display_name": "Python 3",
   "language": "python",
   "name": "python3"
  },
  "language_info": {
   "codemirror_mode": {
    "name": "ipython",
    "version": 3
   },
   "file_extension": ".py",
   "mimetype": "text/x-python",
   "name": "python",
   "nbconvert_exporter": "python",
   "pygments_lexer": "ipython3",
   "version": "3.7.10"
  }
 },
 "nbformat": 4,
 "nbformat_minor": 5
}
