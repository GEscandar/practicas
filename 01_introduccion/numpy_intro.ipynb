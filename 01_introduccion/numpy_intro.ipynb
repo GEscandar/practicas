{
 "cells": [
  {
   "cell_type": "markdown",
   "id": "c8db04df",
   "metadata": {},
   "source": [
    "## Clase 1 - Introducción a Numpy\n",
    "\n",
    "Numpy es una biblioteca para Python que facilita el manejo de arreglos multidimensionales y ofrece varias herramientas para trabajar con ellos. Muchas de las bibliotecas de Python que son ampliamente usadas hoy en día, como pandas, están construidas sobre numpy.\n",
    "\n",
    "### Listas de Python vs arreglos de Numpy\n",
    "\n",
    "A primera vista, un arreglo de numpy puede resultar idéntico a una lista de python, pero a medida que la cantidad de datos comienza a incrementar, los arreglos de numpy terminan ofreciendo un manejo más eficiente de la memoria.\n",
    "\n",
    "Para comenzar, vamos a crear un arreglo de numpy:"
   ]
  },
  {
   "cell_type": "code",
   "execution_count": 1,
   "id": "28cf91f5",
   "metadata": {
    "execution": {
     "iopub.execute_input": "2021-05-19T17:26:46.140102Z",
     "iopub.status.busy": "2021-05-19T17:26:46.138811Z",
     "iopub.status.idle": "2021-05-19T17:26:46.344781Z",
     "shell.execute_reply": "2021-05-19T17:26:46.345392Z"
    }
   },
   "outputs": [
    {
     "data": {
      "text/plain": [
       "array([1, 2, 3, 4])"
      ]
     },
     "execution_count": 1,
     "metadata": {},
     "output_type": "execute_result"
    }
   ],
   "source": [
    "import numpy as np\n",
    "\n",
    "np.array([1, 2, 3, 4])"
   ]
  },
  {
   "cell_type": "markdown",
   "id": "9317c7ca",
   "metadata": {},
   "source": [
    "Los arreglos pueden ser también multidimensionales:"
   ]
  },
  {
   "cell_type": "code",
   "execution_count": 2,
   "id": "0bb2bd2c",
   "metadata": {
    "execution": {
     "iopub.execute_input": "2021-05-19T17:26:46.351458Z",
     "iopub.status.busy": "2021-05-19T17:26:46.350499Z",
     "iopub.status.idle": "2021-05-19T17:26:46.353180Z",
     "shell.execute_reply": "2021-05-19T17:26:46.353631Z"
    }
   },
   "outputs": [
    {
     "data": {
      "text/plain": [
       "array([[1, 2, 3, 4],\n",
       "       [5, 6, 7, 8]])"
      ]
     },
     "execution_count": 1,
     "metadata": {},
     "output_type": "execute_result"
    }
   ],
   "source": [
    "np.array([[1, 2, 3, 4], [5, 6, 7, 8]])"
   ]
  },
  {
   "cell_type": "markdown",
   "id": "9d5d3fb1",
   "metadata": {},
   "source": [
    "Es importante tener en cuenta que un arreglo de numpy tiene un tipo fijo de datos, entonces si se quiere agregar un dato de un tipo diferente al de la mayoría, este va a ser modificado para adaptarse al resto"
   ]
  },
  {
   "cell_type": "code",
   "execution_count": 3,
   "id": "d04ca531",
   "metadata": {
    "execution": {
     "iopub.execute_input": "2021-05-19T17:26:46.358347Z",
     "iopub.status.busy": "2021-05-19T17:26:46.357047Z",
     "iopub.status.idle": "2021-05-19T17:26:46.360038Z",
     "shell.execute_reply": "2021-05-19T17:26:46.360486Z"
    }
   },
   "outputs": [],
   "source": [
    "enteros = np.array([1, 2, 3, 4])"
   ]
  },
  {
   "cell_type": "markdown",
   "id": "cd736e36",
   "metadata": {},
   "source": [
    "Agrego un elemento de tipo flotante en la posición 1"
   ]
  },
  {
   "cell_type": "code",
   "execution_count": 4,
   "id": "71e6a6dd",
   "metadata": {
    "execution": {
     "iopub.execute_input": "2021-05-19T17:26:46.365261Z",
     "iopub.status.busy": "2021-05-19T17:26:46.364468Z",
     "iopub.status.idle": "2021-05-19T17:26:46.367159Z",
     "shell.execute_reply": "2021-05-19T17:26:46.367687Z"
    }
   },
   "outputs": [
    {
     "data": {
      "text/plain": [
       "array([1, 8, 3, 4])"
      ]
     },
     "execution_count": 1,
     "metadata": {},
     "output_type": "execute_result"
    }
   ],
   "source": [
    "enteros[1] = 8.4727\n",
    "enteros"
   ]
  },
  {
   "cell_type": "markdown",
   "id": "33514cdc",
   "metadata": {},
   "source": [
    "Numpy también nos permite crear arreglos con valores aleatorios del 0 al 1.\n",
    "Basta con pasarle las dimensiones del arreglo que queremos crear."
   ]
  },
  {
   "cell_type": "code",
   "execution_count": 5,
   "id": "f982a195",
   "metadata": {
    "execution": {
     "iopub.execute_input": "2021-05-19T17:26:46.373219Z",
     "iopub.status.busy": "2021-05-19T17:26:46.372562Z",
     "iopub.status.idle": "2021-05-19T17:26:46.375297Z",
     "shell.execute_reply": "2021-05-19T17:26:46.375755Z"
    }
   },
   "outputs": [
    {
     "data": {
      "text/plain": [
       "array([[0.2265968 , 0.86082641, 0.80427362],\n",
       "       [0.90101988, 0.48824669, 0.32893758]])"
      ]
     },
     "execution_count": 1,
     "metadata": {},
     "output_type": "execute_result"
    }
   ],
   "source": [
    "np.random.rand(2, 3)"
   ]
  },
  {
   "cell_type": "markdown",
   "id": "c96d855e",
   "metadata": {},
   "source": [
    "## Slicing\n",
    "\n",
    "De la misma forma que con las listas de python, pueden obtenerse slices de los arreglos de numpy"
   ]
  },
  {
   "cell_type": "code",
   "execution_count": 6,
   "id": "98258f72",
   "metadata": {
    "execution": {
     "iopub.execute_input": "2021-05-19T17:26:46.381662Z",
     "iopub.status.busy": "2021-05-19T17:26:46.381080Z",
     "iopub.status.idle": "2021-05-19T17:26:46.383353Z",
     "shell.execute_reply": "2021-05-19T17:26:46.383804Z"
    },
    "lines_to_next_cell": 2
   },
   "outputs": [
    {
     "data": {
      "text/plain": [
       "array([1, 8])"
      ]
     },
     "execution_count": 1,
     "metadata": {},
     "output_type": "execute_result"
    }
   ],
   "source": [
    "enteros[:2]"
   ]
  },
  {
   "cell_type": "code",
   "execution_count": 7,
   "id": "4026a9e8",
   "metadata": {
    "execution": {
     "iopub.execute_input": "2021-05-19T17:26:46.389711Z",
     "iopub.status.busy": "2021-05-19T17:26:46.389129Z",
     "iopub.status.idle": "2021-05-19T17:26:46.394156Z",
     "shell.execute_reply": "2021-05-19T17:26:46.393623Z"
    }
   },
   "outputs": [
    {
     "name": "stdout",
     "output_type": "stream",
     "text": [
      "Original: \n",
      "[[ 1  2  3  4]\n",
      " [ 5  6  7  8]\n",
      " [ 9 10 11 12]]\n",
      "\n",
      "Recortada: \n",
      "[[1 2 3]\n",
      " [5 6 7]]\n"
     ]
    }
   ],
   "source": [
    "matriz_de_enteros = np.array([[1, 2, 3, 4], [5, 6, 7, 8], [9, 10, 11, 12]])\n",
    "\n",
    "print('Original: ')\n",
    "print(matriz_de_enteros)\n",
    "\n",
    "print()\n",
    "\n",
    "print('Recortada: ')\n",
    "print(matriz_de_enteros[:2, :3])"
   ]
  },
  {
   "cell_type": "code",
   "execution_count": 8,
   "id": "fec0fee4",
   "metadata": {
    "execution": {
     "iopub.execute_input": "2021-05-19T17:26:46.399564Z",
     "iopub.status.busy": "2021-05-19T17:26:46.398981Z",
     "iopub.status.idle": "2021-05-19T17:26:46.401744Z",
     "shell.execute_reply": "2021-05-19T17:26:46.402227Z"
    }
   },
   "outputs": [
    {
     "data": {
      "text/plain": [
       "array([[[ 0,  1,  2,  3,  4],\n",
       "        [ 5,  6,  7,  8,  9],\n",
       "        [10, 11, 12, 13, 14]],\n",
       "\n",
       "       [[15, 16, 17, 18, 19],\n",
       "        [20, 21, 22, 23, 24],\n",
       "        [25, 26, 27, 28, 29]],\n",
       "\n",
       "       [[30, 31, 32, 33, 34],\n",
       "        [35, 36, 37, 38, 39],\n",
       "        [40, 41, 42, 43, 44]]])"
      ]
     },
     "execution_count": 1,
     "metadata": {},
     "output_type": "execute_result"
    }
   ],
   "source": [
    "# 3D\n",
    "# arange() genera valores de un intervalo pasado por parámetro\n",
    "# reshape() modifica la forma del numpy array\n",
    "\n",
    "x = np.arange(45).reshape(3, 3, 5)\n",
    "x"
   ]
  },
  {
   "cell_type": "code",
   "execution_count": 9,
   "id": "21caa2cb",
   "metadata": {
    "execution": {
     "iopub.execute_input": "2021-05-19T17:26:46.406988Z",
     "iopub.status.busy": "2021-05-19T17:26:46.406420Z",
     "iopub.status.idle": "2021-05-19T17:26:46.409172Z",
     "shell.execute_reply": "2021-05-19T17:26:46.409621Z"
    }
   },
   "outputs": [
    {
     "data": {
      "text/plain": [
       "array([[ 0,  1,  2,  3,  4],\n",
       "       [ 5,  6,  7,  8,  9],\n",
       "       [10, 11, 12, 13, 14]])"
      ]
     },
     "execution_count": 1,
     "metadata": {},
     "output_type": "execute_result"
    }
   ],
   "source": [
    "x[0]"
   ]
  },
  {
   "cell_type": "code",
   "execution_count": 10,
   "id": "ec967b70",
   "metadata": {
    "execution": {
     "iopub.execute_input": "2021-05-19T17:26:46.414264Z",
     "iopub.status.busy": "2021-05-19T17:26:46.413673Z",
     "iopub.status.idle": "2021-05-19T17:26:46.416361Z",
     "shell.execute_reply": "2021-05-19T17:26:46.416810Z"
    }
   },
   "outputs": [
    {
     "data": {
      "text/plain": [
       "array([5, 6, 7, 8, 9])"
      ]
     },
     "execution_count": 1,
     "metadata": {},
     "output_type": "execute_result"
    }
   ],
   "source": [
    "x[0][1]"
   ]
  },
  {
   "cell_type": "code",
   "execution_count": 11,
   "id": "d65b7033",
   "metadata": {
    "execution": {
     "iopub.execute_input": "2021-05-19T17:26:46.424020Z",
     "iopub.status.busy": "2021-05-19T17:26:46.422406Z",
     "iopub.status.idle": "2021-05-19T17:26:46.426674Z",
     "shell.execute_reply": "2021-05-19T17:26:46.426007Z"
    }
   },
   "outputs": [
    {
     "data": {
      "text/plain": [
       "7"
      ]
     },
     "execution_count": 1,
     "metadata": {},
     "output_type": "execute_result"
    }
   ],
   "source": [
    "x[0][1][2]"
   ]
  },
  {
   "cell_type": "markdown",
   "id": "1dd01cde",
   "metadata": {},
   "source": [
    "\n",
    "¿Cómo conseguimos estos valores? ([fuente](https://towardsdatascience.com/indexing-and-slicing-of-1d-2d-and-3d-arrays-in-numpy-e731afff0bbe))\n",
    "\n",
    "![title](img/matrix.png)"
   ]
  },
  {
   "cell_type": "code",
   "execution_count": 12,
   "id": "3ba0b509",
   "metadata": {
    "execution": {
     "iopub.execute_input": "2021-05-19T17:26:46.431749Z",
     "iopub.status.busy": "2021-05-19T17:26:46.431169Z",
     "iopub.status.idle": "2021-05-19T17:26:46.433139Z",
     "shell.execute_reply": "2021-05-19T17:26:46.433592Z"
    }
   },
   "outputs": [
    {
     "data": {
      "text/plain": [
       "array([[[16, 17, 18],\n",
       "        [21, 22, 23]],\n",
       "\n",
       "       [[31, 32, 33],\n",
       "        [36, 37, 38]]])"
      ]
     },
     "execution_count": 1,
     "metadata": {},
     "output_type": "execute_result"
    }
   ],
   "source": [
    "x[1:, 0:2, 1:4]"
   ]
  },
  {
   "cell_type": "markdown",
   "id": "2b7b027e",
   "metadata": {},
   "source": [
    "### Copia de arreglos"
   ]
  },
  {
   "cell_type": "code",
   "execution_count": 13,
   "id": "9ef69945",
   "metadata": {
    "execution": {
     "iopub.execute_input": "2021-05-19T17:26:46.438360Z",
     "iopub.status.busy": "2021-05-19T17:26:46.437758Z",
     "iopub.status.idle": "2021-05-19T17:26:46.439737Z",
     "shell.execute_reply": "2021-05-19T17:26:46.440257Z"
    }
   },
   "outputs": [
    {
     "data": {
      "text/plain": [
       "array([1, 2, 3, 4])"
      ]
     },
     "execution_count": 1,
     "metadata": {},
     "output_type": "execute_result"
    }
   ],
   "source": [
    "# Los arreglos no se copian con asignación\n",
    "\n",
    "a = np.array([1, 2, 3, 4])\n",
    "b = a\n",
    "b"
   ]
  },
  {
   "cell_type": "code",
   "execution_count": 14,
   "id": "47230eac",
   "metadata": {
    "execution": {
     "iopub.execute_input": "2021-05-19T17:26:46.444014Z",
     "iopub.status.busy": "2021-05-19T17:26:46.443453Z",
     "iopub.status.idle": "2021-05-19T17:26:46.445918Z",
     "shell.execute_reply": "2021-05-19T17:26:46.446402Z"
    }
   },
   "outputs": [
    {
     "data": {
      "text/plain": [
       "array([ 1, 20,  3,  4])"
      ]
     },
     "execution_count": 1,
     "metadata": {},
     "output_type": "execute_result"
    }
   ],
   "source": [
    "b[1] = 20\n",
    "b"
   ]
  },
  {
   "cell_type": "code",
   "execution_count": 15,
   "id": "1b407437",
   "metadata": {
    "execution": {
     "iopub.execute_input": "2021-05-19T17:26:46.450120Z",
     "iopub.status.busy": "2021-05-19T17:26:46.449545Z",
     "iopub.status.idle": "2021-05-19T17:26:46.452028Z",
     "shell.execute_reply": "2021-05-19T17:26:46.452482Z"
    }
   },
   "outputs": [
    {
     "data": {
      "text/plain": [
       "array([ 1, 20,  3,  4])"
      ]
     },
     "execution_count": 1,
     "metadata": {},
     "output_type": "execute_result"
    }
   ],
   "source": [
    "a"
   ]
  },
  {
   "cell_type": "code",
   "execution_count": 16,
   "id": "d3a15309",
   "metadata": {
    "execution": {
     "iopub.execute_input": "2021-05-19T17:26:46.457418Z",
     "iopub.status.busy": "2021-05-19T17:26:46.456815Z",
     "iopub.status.idle": "2021-05-19T17:26:46.458840Z",
     "shell.execute_reply": "2021-05-19T17:26:46.459288Z"
    }
   },
   "outputs": [
    {
     "data": {
      "text/plain": [
       "array([ 1, 20,  3,  4])"
      ]
     },
     "execution_count": 1,
     "metadata": {},
     "output_type": "execute_result"
    }
   ],
   "source": [
    "# Para copiar un arreglo a otra variable debemos usar copy()\n",
    "\n",
    "a = np.array([1, 2, 3, 4])\n",
    "b = a.copy()\n",
    "b[1] = 20\n",
    "b"
   ]
  },
  {
   "cell_type": "code",
   "execution_count": 17,
   "id": "e2773f4e",
   "metadata": {
    "execution": {
     "iopub.execute_input": "2021-05-19T17:26:46.462810Z",
     "iopub.status.busy": "2021-05-19T17:26:46.462255Z",
     "iopub.status.idle": "2021-05-19T17:26:46.465478Z",
     "shell.execute_reply": "2021-05-19T17:26:46.464986Z"
    }
   },
   "outputs": [
    {
     "data": {
      "text/plain": [
       "array([1, 2, 3, 4])"
      ]
     },
     "execution_count": 1,
     "metadata": {},
     "output_type": "execute_result"
    }
   ],
   "source": [
    "a"
   ]
  },
  {
   "cell_type": "markdown",
   "id": "4a61c5f9",
   "metadata": {},
   "source": [
    "### Modificación de dimensiones"
   ]
  },
  {
   "cell_type": "markdown",
   "id": "671ce2d6",
   "metadata": {},
   "source": [
    "Existen varias operaciones para cambiar la forma de un arreglo de numpy"
   ]
  },
  {
   "cell_type": "code",
   "execution_count": 18,
   "id": "d296f8b5",
   "metadata": {
    "execution": {
     "iopub.execute_input": "2021-05-19T17:26:46.469337Z",
     "iopub.status.busy": "2021-05-19T17:26:46.468788Z",
     "iopub.status.idle": "2021-05-19T17:26:46.472016Z",
     "shell.execute_reply": "2021-05-19T17:26:46.471510Z"
    }
   },
   "outputs": [
    {
     "data": {
      "text/plain": [
       "array([[ 1,  2,  3,  4],\n",
       "       [ 5,  6,  7,  8],\n",
       "       [ 9, 10, 11, 12]])"
      ]
     },
     "execution_count": 1,
     "metadata": {},
     "output_type": "execute_result"
    }
   ],
   "source": [
    "matriz_de_enteros"
   ]
  },
  {
   "cell_type": "code",
   "execution_count": 19,
   "id": "11491ee5",
   "metadata": {
    "execution": {
     "iopub.execute_input": "2021-05-19T17:26:46.475464Z",
     "iopub.status.busy": "2021-05-19T17:26:46.474901Z",
     "iopub.status.idle": "2021-05-19T17:26:46.477711Z",
     "shell.execute_reply": "2021-05-19T17:26:46.478171Z"
    }
   },
   "outputs": [
    {
     "data": {
      "text/plain": [
       "2"
      ]
     },
     "execution_count": 1,
     "metadata": {},
     "output_type": "execute_result"
    }
   ],
   "source": [
    "# Obtener las dimensiones del arreglo\n",
    "\n",
    "matriz_de_enteros.ndim"
   ]
  },
  {
   "cell_type": "code",
   "execution_count": 20,
   "id": "35913d2d",
   "metadata": {
    "execution": {
     "iopub.execute_input": "2021-05-19T17:26:46.482643Z",
     "iopub.status.busy": "2021-05-19T17:26:46.482057Z",
     "iopub.status.idle": "2021-05-19T17:26:46.485873Z",
     "shell.execute_reply": "2021-05-19T17:26:46.486355Z"
    }
   },
   "outputs": [
    {
     "data": {
      "text/plain": [
       "(3, 4)"
      ]
     },
     "execution_count": 1,
     "metadata": {},
     "output_type": "execute_result"
    }
   ],
   "source": [
    "# Obtener la forma del arreglo\n",
    "\n",
    "matriz_de_enteros.shape"
   ]
  },
  {
   "cell_type": "code",
   "execution_count": 21,
   "id": "3619c303",
   "metadata": {
    "execution": {
     "iopub.execute_input": "2021-05-19T17:26:46.491488Z",
     "iopub.status.busy": "2021-05-19T17:26:46.490914Z",
     "iopub.status.idle": "2021-05-19T17:26:46.493628Z",
     "shell.execute_reply": "2021-05-19T17:26:46.494107Z"
    }
   },
   "outputs": [
    {
     "name": "stdout",
     "output_type": "stream",
     "text": [
      "enteros: [ 3  6  9 12]\n"
     ]
    },
    {
     "data": {
      "text/plain": [
       "array([[ 3,  6],\n",
       "       [ 9, 12]])"
      ]
     },
     "execution_count": 1,
     "metadata": {},
     "output_type": "execute_result"
    }
   ],
   "source": [
    "# Modificar la forma de un arreglo\n",
    "\n",
    "enteros = np.array([3, 6, 9, 12])\n",
    "print(f\"enteros: {enteros}\")\n",
    "np.reshape(enteros, (2, 2))"
   ]
  },
  {
   "cell_type": "code",
   "execution_count": 22,
   "id": "6b70537e",
   "metadata": {
    "execution": {
     "iopub.execute_input": "2021-05-19T17:26:46.498300Z",
     "iopub.status.busy": "2021-05-19T17:26:46.497693Z",
     "iopub.status.idle": "2021-05-19T17:26:46.501228Z",
     "shell.execute_reply": "2021-05-19T17:26:46.500723Z"
    }
   },
   "outputs": [
    {
     "data": {
      "text/plain": [
       "array([[1., 1.],\n",
       "       [1., 1.]])"
      ]
     },
     "execution_count": 1,
     "metadata": {},
     "output_type": "execute_result"
    }
   ],
   "source": [
    "# Aplanar un arreglo\n",
    "\n",
    "a = np.ones((2, 2))\n",
    "a"
   ]
  },
  {
   "cell_type": "code",
   "execution_count": 23,
   "id": "dee4a5ee",
   "metadata": {
    "execution": {
     "iopub.execute_input": "2021-05-19T17:26:46.505287Z",
     "iopub.status.busy": "2021-05-19T17:26:46.504738Z",
     "iopub.status.idle": "2021-05-19T17:26:46.507739Z",
     "shell.execute_reply": "2021-05-19T17:26:46.507248Z"
    }
   },
   "outputs": [
    {
     "data": {
      "text/plain": [
       "array([1., 1., 1., 1.])"
      ]
     },
     "execution_count": 1,
     "metadata": {},
     "output_type": "execute_result"
    }
   ],
   "source": [
    "a.flatten()"
   ]
  },
  {
   "cell_type": "code",
   "execution_count": 24,
   "id": "8dcf0cfa",
   "metadata": {
    "execution": {
     "iopub.execute_input": "2021-05-19T17:26:46.511688Z",
     "iopub.status.busy": "2021-05-19T17:26:46.511136Z",
     "iopub.status.idle": "2021-05-19T17:26:46.513644Z",
     "shell.execute_reply": "2021-05-19T17:26:46.514123Z"
    },
    "lines_to_next_cell": 2
   },
   "outputs": [
    {
     "data": {
      "text/plain": [
       "array([[1., 1.],\n",
       "       [1., 1.]])"
      ]
     },
     "execution_count": 1,
     "metadata": {},
     "output_type": "execute_result"
    }
   ],
   "source": [
    "a"
   ]
  },
  {
   "cell_type": "markdown",
   "id": "4a66a2f8",
   "metadata": {},
   "source": [
    "### Combinación de arreglos (Stacking)"
   ]
  },
  {
   "cell_type": "code",
   "execution_count": 25,
   "id": "1f320dc1",
   "metadata": {
    "execution": {
     "iopub.execute_input": "2021-05-19T17:26:46.518103Z",
     "iopub.status.busy": "2021-05-19T17:26:46.517519Z",
     "iopub.status.idle": "2021-05-19T17:26:46.520799Z",
     "shell.execute_reply": "2021-05-19T17:26:46.520342Z"
    }
   },
   "outputs": [
    {
     "data": {
      "text/plain": [
       "array([0, 1, 2, 3, 4])"
      ]
     },
     "execution_count": 1,
     "metadata": {},
     "output_type": "execute_result"
    }
   ],
   "source": [
    "# Los arreglos se pueden combinar verticalmente (se incrementa la cantidad de filas)\n",
    "\n",
    "a = np.arange(0, 5)\n",
    "a"
   ]
  },
  {
   "cell_type": "code",
   "execution_count": 26,
   "id": "7445b480",
   "metadata": {
    "execution": {
     "iopub.execute_input": "2021-05-19T17:26:46.525187Z",
     "iopub.status.busy": "2021-05-19T17:26:46.524616Z",
     "iopub.status.idle": "2021-05-19T17:26:46.526599Z",
     "shell.execute_reply": "2021-05-19T17:26:46.527055Z"
    }
   },
   "outputs": [
    {
     "data": {
      "text/plain": [
       "array([5, 6, 7, 8, 9])"
      ]
     },
     "execution_count": 1,
     "metadata": {},
     "output_type": "execute_result"
    }
   ],
   "source": [
    "b = np.arange(5, 10)\n",
    "b"
   ]
  },
  {
   "cell_type": "code",
   "execution_count": 27,
   "id": "8d3c5e0f",
   "metadata": {
    "execution": {
     "iopub.execute_input": "2021-05-19T17:26:46.531009Z",
     "iopub.status.busy": "2021-05-19T17:26:46.530464Z",
     "iopub.status.idle": "2021-05-19T17:26:46.533400Z",
     "shell.execute_reply": "2021-05-19T17:26:46.532916Z"
    }
   },
   "outputs": [
    {
     "data": {
      "text/plain": [
       "array([[0, 1, 2, 3, 4],\n",
       "       [5, 6, 7, 8, 9]])"
      ]
     },
     "execution_count": 1,
     "metadata": {},
     "output_type": "execute_result"
    }
   ],
   "source": [
    "combinados_verticalmente = np.vstack((a, b))\n",
    "combinados_verticalmente"
   ]
  },
  {
   "cell_type": "code",
   "execution_count": 28,
   "id": "f40d3bc1",
   "metadata": {
    "execution": {
     "iopub.execute_input": "2021-05-19T17:26:46.537333Z",
     "iopub.status.busy": "2021-05-19T17:26:46.536776Z",
     "iopub.status.idle": "2021-05-19T17:26:46.539725Z",
     "shell.execute_reply": "2021-05-19T17:26:46.539240Z"
    }
   },
   "outputs": [
    {
     "data": {
      "text/plain": [
       "array([0, 1, 2, 3, 4, 5, 6, 7, 8, 9])"
      ]
     },
     "execution_count": 1,
     "metadata": {},
     "output_type": "execute_result"
    }
   ],
   "source": [
    "# También se pueden combinar horizontalmente (se incrementa la cantidad de columnas)\n",
    "\n",
    "combinados_horizontalmente = np.hstack((a, b))\n",
    "combinados_horizontalmente"
   ]
  },
  {
   "cell_type": "markdown",
   "id": "e2fae05d",
   "metadata": {},
   "source": [
    "### Operaciones matemáticas"
   ]
  },
  {
   "cell_type": "code",
   "execution_count": 29,
   "id": "43c58d49",
   "metadata": {
    "execution": {
     "iopub.execute_input": "2021-05-19T17:26:46.543714Z",
     "iopub.status.busy": "2021-05-19T17:26:46.543167Z",
     "iopub.status.idle": "2021-05-19T17:26:46.546340Z",
     "shell.execute_reply": "2021-05-19T17:26:46.545831Z"
    }
   },
   "outputs": [
    {
     "data": {
      "text/plain": [
       "array([3, 4, 5, 6])"
      ]
     },
     "execution_count": 1,
     "metadata": {},
     "output_type": "execute_result"
    }
   ],
   "source": [
    "a = np.array([1, 2, 3, 4])\n",
    "\n",
    "a + 2"
   ]
  },
  {
   "cell_type": "code",
   "execution_count": 30,
   "id": "e65664c5",
   "metadata": {
    "execution": {
     "iopub.execute_input": "2021-05-19T17:26:46.550022Z",
     "iopub.status.busy": "2021-05-19T17:26:46.549455Z",
     "iopub.status.idle": "2021-05-19T17:26:46.551954Z",
     "shell.execute_reply": "2021-05-19T17:26:46.552410Z"
    }
   },
   "outputs": [
    {
     "data": {
      "text/plain": [
       "array([ 1,  4,  9, 16])"
      ]
     },
     "execution_count": 1,
     "metadata": {},
     "output_type": "execute_result"
    }
   ],
   "source": [
    "a ** 2"
   ]
  },
  {
   "cell_type": "code",
   "execution_count": 31,
   "id": "69f9f72b",
   "metadata": {
    "execution": {
     "iopub.execute_input": "2021-05-19T17:26:46.557951Z",
     "iopub.status.busy": "2021-05-19T17:26:46.557381Z",
     "iopub.status.idle": "2021-05-19T17:26:46.561246Z",
     "shell.execute_reply": "2021-05-19T17:26:46.560748Z"
    }
   },
   "outputs": [
    {
     "name": "stdout",
     "output_type": "stream",
     "text": [
      "b: [1. 1. 1. 1.]\n"
     ]
    },
    {
     "data": {
      "text/plain": [
       "array([2., 3., 4., 5.])"
      ]
     },
     "execution_count": 1,
     "metadata": {},
     "output_type": "execute_result"
    }
   ],
   "source": [
    "b = np.ones(4)\n",
    "print(f\"b: {b}\")\n",
    "a + b"
   ]
  },
  {
   "cell_type": "markdown",
   "id": "0db2c88b",
   "metadata": {},
   "source": [
    "### Estadística"
   ]
  },
  {
   "cell_type": "code",
   "execution_count": 32,
   "id": "6d3dc63f",
   "metadata": {
    "execution": {
     "iopub.execute_input": "2021-05-19T17:26:46.566447Z",
     "iopub.status.busy": "2021-05-19T17:26:46.565613Z",
     "iopub.status.idle": "2021-05-19T17:26:46.568319Z",
     "shell.execute_reply": "2021-05-19T17:26:46.568777Z"
    }
   },
   "outputs": [
    {
     "data": {
      "text/plain": [
       "1"
      ]
     },
     "execution_count": 1,
     "metadata": {},
     "output_type": "execute_result"
    }
   ],
   "source": [
    "a = np.array([[5, 2, 1, 8], [26, 4, 17, 9]])\n",
    "\n",
    "np.min(a)"
   ]
  },
  {
   "cell_type": "code",
   "execution_count": 33,
   "id": "8132077f",
   "metadata": {
    "execution": {
     "iopub.execute_input": "2021-05-19T17:26:46.573548Z",
     "iopub.status.busy": "2021-05-19T17:26:46.572947Z",
     "iopub.status.idle": "2021-05-19T17:26:46.575692Z",
     "shell.execute_reply": "2021-05-19T17:26:46.576149Z"
    }
   },
   "outputs": [
    {
     "data": {
      "text/plain": [
       "26"
      ]
     },
     "execution_count": 1,
     "metadata": {},
     "output_type": "execute_result"
    }
   ],
   "source": [
    "np.max(a)"
   ]
  },
  {
   "cell_type": "code",
   "execution_count": 34,
   "id": "3940aa9f",
   "metadata": {
    "execution": {
     "iopub.execute_input": "2021-05-19T17:26:46.580116Z",
     "iopub.status.busy": "2021-05-19T17:26:46.579546Z",
     "iopub.status.idle": "2021-05-19T17:26:46.582596Z",
     "shell.execute_reply": "2021-05-19T17:26:46.582088Z"
    }
   },
   "outputs": [
    {
     "data": {
      "text/plain": [
       "72"
      ]
     },
     "execution_count": 1,
     "metadata": {},
     "output_type": "execute_result"
    }
   ],
   "source": [
    "np.sum(a)"
   ]
  },
  {
   "cell_type": "markdown",
   "id": "b5da1cc4",
   "metadata": {},
   "source": [
    "### Más magia"
   ]
  },
  {
   "cell_type": "code",
   "execution_count": 35,
   "id": "f41054d9",
   "metadata": {
    "execution": {
     "iopub.execute_input": "2021-05-19T17:26:46.587334Z",
     "iopub.status.busy": "2021-05-19T17:26:46.586779Z",
     "iopub.status.idle": "2021-05-19T17:26:46.589728Z",
     "shell.execute_reply": "2021-05-19T17:26:46.589191Z"
    }
   },
   "outputs": [
    {
     "data": {
      "text/plain": [
       "array([[False, False, False,  True],\n",
       "       [ True, False,  True,  True]])"
      ]
     },
     "execution_count": 1,
     "metadata": {},
     "output_type": "execute_result"
    }
   ],
   "source": [
    "a = np.array([[5, 2, 1, 8], [26, 4, 17, 9]])\n",
    "\n",
    "a > 5"
   ]
  },
  {
   "cell_type": "code",
   "execution_count": 36,
   "id": "1919d8a7",
   "metadata": {
    "execution": {
     "iopub.execute_input": "2021-05-19T17:26:46.593709Z",
     "iopub.status.busy": "2021-05-19T17:26:46.593151Z",
     "iopub.status.idle": "2021-05-19T17:26:46.595902Z",
     "shell.execute_reply": "2021-05-19T17:26:46.596364Z"
    }
   },
   "outputs": [
    {
     "data": {
      "text/plain": [
       "array([ 8, 26, 17,  9])"
      ]
     },
     "execution_count": 1,
     "metadata": {},
     "output_type": "execute_result"
    }
   ],
   "source": [
    "a[a > 5]"
   ]
  },
  {
   "cell_type": "markdown",
   "id": "9c016ec4",
   "metadata": {},
   "source": [
    "### Broadcasting"
   ]
  },
  {
   "cell_type": "markdown",
   "id": "d90bcd12",
   "metadata": {},
   "source": [
    "Permite realizar operaciones entre dos numpy arrays de distintas dimensiones.\n",
    "Para lograr esto, las dimensiones de los mismos deben ser compatibles. Dos dimensiones son compatibles cuando:\n",
    "1. Son iguales\n",
    "2. Alguna de las dos es 1"
   ]
  },
  {
   "cell_type": "code",
   "execution_count": 37,
   "id": "2fcfb9a4",
   "metadata": {
    "execution": {
     "iopub.execute_input": "2021-05-19T17:26:46.601943Z",
     "iopub.status.busy": "2021-05-19T17:26:46.601356Z",
     "iopub.status.idle": "2021-05-19T17:26:46.604419Z",
     "shell.execute_reply": "2021-05-19T17:26:46.604877Z"
    }
   },
   "outputs": [
    {
     "data": {
      "text/plain": [
       "array([[ 5,  2,  1,  8],\n",
       "       [26,  4, 17,  9]])"
      ]
     },
     "execution_count": 1,
     "metadata": {},
     "output_type": "execute_result"
    }
   ],
   "source": [
    "a = np.array([[5, 2, 1, 8], [26, 4, 17, 9]])\n",
    "a"
   ]
  },
  {
   "cell_type": "code",
   "execution_count": 38,
   "id": "6c7ffc59",
   "metadata": {
    "execution": {
     "iopub.execute_input": "2021-05-19T17:26:46.610722Z",
     "iopub.status.busy": "2021-05-19T17:26:46.610151Z",
     "iopub.status.idle": "2021-05-19T17:26:46.612071Z",
     "shell.execute_reply": "2021-05-19T17:26:46.612611Z"
    }
   },
   "outputs": [
    {
     "name": "stdout",
     "output_type": "stream",
     "text": [
      "a: (2, 4)\n",
      "b: (4,)\n",
      "\n",
      "a + b:\n",
      " [[10  4  2 16]\n",
      " [31  6 18 17]]\n"
     ]
    }
   ],
   "source": [
    "# Armamos un array que tenga la misma cantidad de columnas que a\n",
    "b = np.array([5, 2, 1, 8])\n",
    "print(f\"a: {a.shape}\")\n",
    "print(f\"b: {b.shape}\")\n",
    "# a + b\n",
    "print()\n",
    "print(f\"a + b:\\n {a + b}\")"
   ]
  },
  {
   "cell_type": "code",
   "execution_count": 39,
   "id": "75235d80",
   "metadata": {
    "execution": {
     "iopub.execute_input": "2021-05-19T17:26:46.617103Z",
     "iopub.status.busy": "2021-05-19T17:26:46.616536Z",
     "iopub.status.idle": "2021-05-19T17:26:46.688548Z",
     "shell.execute_reply": "2021-05-19T17:26:46.689042Z"
    },
    "tags": [
     "raises-exception"
    ]
   },
   "outputs": [
    {
     "name": "stdout",
     "output_type": "stream",
     "text": [
      "a: (2, 4)\n",
      "b: (3,)\n"
     ]
    },
    {
     "ename": "ValueError",
     "evalue": "operands could not be broadcast together with shapes (2,4) (3,) ",
     "output_type": "error",
     "traceback": [
      "\u001b[0;31m---------------------------------------------------------------------------\u001b[0m",
      "\u001b[0;31mValueError\u001b[0m                                Traceback (most recent call last)",
      "\u001b[0;32m<ipython-input-1-fe11b6ae6346>\u001b[0m in \u001b[0;36m<module>\u001b[0;34m\u001b[0m\n\u001b[1;32m      3\u001b[0m \u001b[0mprint\u001b[0m\u001b[0;34m(\u001b[0m\u001b[0;34mf\"a: {a.shape}\"\u001b[0m\u001b[0;34m)\u001b[0m\u001b[0;34m\u001b[0m\u001b[0;34m\u001b[0m\u001b[0m\n\u001b[1;32m      4\u001b[0m \u001b[0mprint\u001b[0m\u001b[0;34m(\u001b[0m\u001b[0;34mf\"b: {b.shape}\"\u001b[0m\u001b[0;34m)\u001b[0m\u001b[0;34m\u001b[0m\u001b[0;34m\u001b[0m\u001b[0m\n\u001b[0;32m----> 5\u001b[0;31m \u001b[0ma\u001b[0m \u001b[0;34m+\u001b[0m \u001b[0mb\u001b[0m\u001b[0;34m\u001b[0m\u001b[0;34m\u001b[0m\u001b[0m\n\u001b[0m",
      "\u001b[0;31mValueError\u001b[0m: operands could not be broadcast together with shapes (2,4) (3,) "
     ]
    }
   ],
   "source": [
    "# Armamos un array que tenga distinta cantidad de filas y columnas que a\n",
    "b = np.array([5, 1, 8])\n",
    "print(f\"a: {a.shape}\")\n",
    "print(f\"b: {b.shape}\")\n",
    "a + b"
   ]
  },
  {
   "cell_type": "code",
   "execution_count": 40,
   "id": "5637ee2b",
   "metadata": {
    "execution": {
     "iopub.execute_input": "2021-05-19T17:26:46.695368Z",
     "iopub.status.busy": "2021-05-19T17:26:46.694210Z",
     "iopub.status.idle": "2021-05-19T17:26:46.699645Z",
     "shell.execute_reply": "2021-05-19T17:26:46.698303Z"
    }
   },
   "outputs": [
    {
     "name": "stdout",
     "output_type": "stream",
     "text": [
      "a: (2, 4)\n",
      "b: (2, 1)"
     ]
    },
    {
     "name": "stdout",
     "output_type": "stream",
     "text": [
      "\n"
     ]
    },
    {
     "data": {
      "text/plain": [
       "array([[ 7,  4,  3, 10],\n",
       "       [27,  5, 18, 10]])"
      ]
     },
     "execution_count": 1,
     "metadata": {},
     "output_type": "execute_result"
    }
   ],
   "source": [
    "# Armamos un array que tenga la misma cantidad de filas que a\n",
    "b = np.array([[2], [1]])\n",
    "print(f\"a: {a.shape}\")\n",
    "print(f\"b: {b.shape}\")\n",
    "a + b"
   ]
  },
  {
   "cell_type": "code",
   "execution_count": 41,
   "id": "ec86d092",
   "metadata": {
    "execution": {
     "iopub.execute_input": "2021-05-19T17:26:46.704847Z",
     "iopub.status.busy": "2021-05-19T17:26:46.704259Z",
     "iopub.status.idle": "2021-05-19T17:26:46.707021Z",
     "shell.execute_reply": "2021-05-19T17:26:46.707487Z"
    }
   },
   "outputs": [
    {
     "data": {
      "text/plain": [
       "array([[ 9,  6,  5, 12],\n",
       "       [30,  8, 21, 13]])"
      ]
     },
     "execution_count": 1,
     "metadata": {},
     "output_type": "execute_result"
    }
   ],
   "source": [
    "# Si b es un entero\n",
    "b = 4\n",
    "a + b"
   ]
  },
  {
   "cell_type": "code",
   "execution_count": null,
   "id": "426b9651",
   "metadata": {},
   "outputs": [],
   "source": []
  }
 ],
 "metadata": {
  "jupytext": {
   "encoding": "# -*- coding: utf-8 -*-",
   "formats": "ipynb,py:light"
  },
  "kernelspec": {
   "display_name": "Python 3",
   "language": "python",
   "name": "python3"
  },
  "language_info": {
   "codemirror_mode": {
    "name": "ipython",
    "version": 3
   },
   "file_extension": ".py",
   "mimetype": "text/x-python",
   "name": "python",
   "nbconvert_exporter": "python",
   "pygments_lexer": "ipython3",
   "version": "3.7.10"
  }
 },
 "nbformat": 4,
 "nbformat_minor": 5
}
