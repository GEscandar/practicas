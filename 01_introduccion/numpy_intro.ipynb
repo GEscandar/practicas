{
 "cells": [
  {
   "cell_type": "markdown",
   "id": "5e31bd0a",
   "metadata": {},
   "source": [
    "## Clase 1 - Introducción a Numpy\n",
    "\n",
    "Numpy es una biblioteca para Python que facilita el manejo de arreglos multidimensionales y ofrece varias herramientas para trabajar con ellos. Muchas de las bibliotecas de Python que son ampliamente usadas hoy en día, como pandas, están construidas sobre numpy.\n",
    "\n",
    "### Listas de Python vs arreglos de Numpy\n",
    "\n",
    "A primera vista, un arreglo de numpy puede resultar idéntico a una lista de python, pero a medida que la cantidad de datos comienza a incrementar, los arreglos de numpy terminan ofreciendo un manejo más eficiente de la memoria.\n",
    "\n",
    "Para comenzar, vamos a crear un arreglo de numpy:"
   ]
  },
  {
   "cell_type": "code",
   "execution_count": 1,
   "id": "af3f577c",
   "metadata": {
    "execution": {
     "iopub.execute_input": "2021-09-20T13:37:29.998994Z",
     "iopub.status.busy": "2021-09-20T13:37:29.998340Z",
     "iopub.status.idle": "2021-09-20T13:37:30.158314Z",
     "shell.execute_reply": "2021-09-20T13:37:30.158726Z"
    }
   },
   "outputs": [
    {
     "data": {
      "text/plain": [
       "array([1, 2, 3, 4])"
      ]
     },
     "execution_count": 1,
     "metadata": {},
     "output_type": "execute_result"
    }
   ],
   "source": [
    "import numpy as np\n",
    "\n",
    "np.array([1, 2, 3, 4])"
   ]
  },
  {
   "cell_type": "markdown",
   "id": "65438bbf",
   "metadata": {},
   "source": [
    "Los arreglos pueden ser también multidimensionales:"
   ]
  },
  {
   "cell_type": "code",
   "execution_count": 2,
   "id": "39998639",
   "metadata": {
    "execution": {
     "iopub.execute_input": "2021-09-20T13:37:30.164247Z",
     "iopub.status.busy": "2021-09-20T13:37:30.163686Z",
     "iopub.status.idle": "2021-09-20T13:37:30.168839Z",
     "shell.execute_reply": "2021-09-20T13:37:30.168364Z"
    }
   },
   "outputs": [
    {
     "data": {
      "text/plain": [
       "array([[1, 2, 3, 4],\n",
       "       [5, 6, 7, 8]])"
      ]
     },
     "execution_count": 2,
     "metadata": {},
     "output_type": "execute_result"
    }
   ],
   "source": [
    "np.array([[1, 2, 3, 4], [5, 6, 7, 8]])"
   ]
  },
  {
   "cell_type": "markdown",
   "id": "2c321b3f",
   "metadata": {},
   "source": [
    "Es importante tener en cuenta que un arreglo de numpy tiene un tipo fijo de datos, entonces si se quiere agregar un dato de un tipo diferente al de la mayoría, este va a ser modificado para adaptarse al resto"
   ]
  },
  {
   "cell_type": "code",
   "execution_count": 3,
   "id": "0840fcd5",
   "metadata": {
    "execution": {
     "iopub.execute_input": "2021-09-20T13:37:30.173221Z",
     "iopub.status.busy": "2021-09-20T13:37:30.172666Z",
     "iopub.status.idle": "2021-09-20T13:37:30.176303Z",
     "shell.execute_reply": "2021-09-20T13:37:30.175802Z"
    }
   },
   "outputs": [],
   "source": [
    "enteros = np.array([1, 2, 3, 4])"
   ]
  },
  {
   "cell_type": "markdown",
   "id": "3b0a4d1a",
   "metadata": {},
   "source": [
    "Agrego un elemento de tipo flotante en la posición 1"
   ]
  },
  {
   "cell_type": "code",
   "execution_count": 4,
   "id": "0dc65992",
   "metadata": {
    "execution": {
     "iopub.execute_input": "2021-09-20T13:37:30.180545Z",
     "iopub.status.busy": "2021-09-20T13:37:30.179995Z",
     "iopub.status.idle": "2021-09-20T13:37:30.184991Z",
     "shell.execute_reply": "2021-09-20T13:37:30.184528Z"
    }
   },
   "outputs": [
    {
     "data": {
      "text/plain": [
       "array([1, 8, 3, 4])"
      ]
     },
     "execution_count": 4,
     "metadata": {},
     "output_type": "execute_result"
    }
   ],
   "source": [
    "enteros[1] = 8.4727\n",
    "enteros"
   ]
  },
  {
   "cell_type": "markdown",
   "id": "9521d158",
   "metadata": {},
   "source": [
    "Numpy también nos permite crear arreglos con valores aleatorios del 0 al 1.\n",
    "Basta con pasarle las dimensiones del arreglo que queremos crear."
   ]
  },
  {
   "cell_type": "code",
   "execution_count": 5,
   "id": "020df889",
   "metadata": {
    "execution": {
     "iopub.execute_input": "2021-09-20T13:37:30.189142Z",
     "iopub.status.busy": "2021-09-20T13:37:30.186990Z",
     "iopub.status.idle": "2021-09-20T13:37:30.191594Z",
     "shell.execute_reply": "2021-09-20T13:37:30.192094Z"
    }
   },
   "outputs": [
    {
     "data": {
      "text/plain": [
       "array([[0.68965768, 0.27410568, 0.9110125 ],\n",
       "       [0.93201182, 0.5283431 , 0.95301352]])"
      ]
     },
     "execution_count": 5,
     "metadata": {},
     "output_type": "execute_result"
    }
   ],
   "source": [
    "np.random.rand(2, 3)"
   ]
  },
  {
   "cell_type": "markdown",
   "id": "67cc51d2",
   "metadata": {},
   "source": [
    "## Slicing\n",
    "\n",
    "De la misma forma que con las listas de python, pueden obtenerse slices de los arreglos de numpy"
   ]
  },
  {
   "cell_type": "code",
   "execution_count": 6,
   "id": "d8ba9c50",
   "metadata": {
    "execution": {
     "iopub.execute_input": "2021-09-20T13:37:30.196343Z",
     "iopub.status.busy": "2021-09-20T13:37:30.195830Z",
     "iopub.status.idle": "2021-09-20T13:37:30.198454Z",
     "shell.execute_reply": "2021-09-20T13:37:30.198872Z"
    },
    "lines_to_next_cell": 2
   },
   "outputs": [
    {
     "data": {
      "text/plain": [
       "array([1, 8])"
      ]
     },
     "execution_count": 6,
     "metadata": {},
     "output_type": "execute_result"
    }
   ],
   "source": [
    "enteros[:2]"
   ]
  },
  {
   "cell_type": "code",
   "execution_count": 7,
   "id": "5038f9fc",
   "metadata": {
    "execution": {
     "iopub.execute_input": "2021-09-20T13:37:30.203879Z",
     "iopub.status.busy": "2021-09-20T13:37:30.202919Z",
     "iopub.status.idle": "2021-09-20T13:37:30.206393Z",
     "shell.execute_reply": "2021-09-20T13:37:30.206786Z"
    }
   },
   "outputs": [
    {
     "name": "stdout",
     "output_type": "stream",
     "text": [
      "Original: \n",
      "[[ 1  2  3  4]\n",
      " [ 5  6  7  8]\n",
      " [ 9 10 11 12]]\n",
      "\n",
      "Recortada: \n",
      "[[1 2 3]\n",
      " [5 6 7]]\n"
     ]
    }
   ],
   "source": [
    "matriz_de_enteros = np.array([[1, 2, 3, 4], [5, 6, 7, 8], [9, 10, 11, 12]])\n",
    "\n",
    "print('Original: ')\n",
    "print(matriz_de_enteros)\n",
    "\n",
    "print()\n",
    "\n",
    "print('Recortada: ')\n",
    "print(matriz_de_enteros[:2, :3])"
   ]
  },
  {
   "cell_type": "code",
   "execution_count": 8,
   "id": "37ef4eee",
   "metadata": {
    "execution": {
     "iopub.execute_input": "2021-09-20T13:37:30.210920Z",
     "iopub.status.busy": "2021-09-20T13:37:30.208736Z",
     "iopub.status.idle": "2021-09-20T13:37:30.213720Z",
     "shell.execute_reply": "2021-09-20T13:37:30.213234Z"
    }
   },
   "outputs": [
    {
     "data": {
      "text/plain": [
       "array([[[ 0,  1,  2,  3,  4],\n",
       "        [ 5,  6,  7,  8,  9],\n",
       "        [10, 11, 12, 13, 14]],\n",
       "\n",
       "       [[15, 16, 17, 18, 19],\n",
       "        [20, 21, 22, 23, 24],\n",
       "        [25, 26, 27, 28, 29]],\n",
       "\n",
       "       [[30, 31, 32, 33, 34],\n",
       "        [35, 36, 37, 38, 39],\n",
       "        [40, 41, 42, 43, 44]]])"
      ]
     },
     "execution_count": 8,
     "metadata": {},
     "output_type": "execute_result"
    }
   ],
   "source": [
    "# 3D\n",
    "# arange() genera valores de un intervalo pasado por parámetro\n",
    "# reshape() modifica la forma del numpy array\n",
    "\n",
    "x = np.arange(45).reshape(3, 3, 5)\n",
    "x"
   ]
  },
  {
   "cell_type": "code",
   "execution_count": 9,
   "id": "12e12417",
   "metadata": {
    "execution": {
     "iopub.execute_input": "2021-09-20T13:37:30.217716Z",
     "iopub.status.busy": "2021-09-20T13:37:30.217161Z",
     "iopub.status.idle": "2021-09-20T13:37:30.220016Z",
     "shell.execute_reply": "2021-09-20T13:37:30.219544Z"
    }
   },
   "outputs": [
    {
     "data": {
      "text/plain": [
       "array([[ 0,  1,  2,  3,  4],\n",
       "       [ 5,  6,  7,  8,  9],\n",
       "       [10, 11, 12, 13, 14]])"
      ]
     },
     "execution_count": 9,
     "metadata": {},
     "output_type": "execute_result"
    }
   ],
   "source": [
    "x[0]"
   ]
  },
  {
   "cell_type": "code",
   "execution_count": 10,
   "id": "35b294f1",
   "metadata": {
    "execution": {
     "iopub.execute_input": "2021-09-20T13:37:30.224009Z",
     "iopub.status.busy": "2021-09-20T13:37:30.223428Z",
     "iopub.status.idle": "2021-09-20T13:37:30.226432Z",
     "shell.execute_reply": "2021-09-20T13:37:30.225981Z"
    }
   },
   "outputs": [
    {
     "data": {
      "text/plain": [
       "array([5, 6, 7, 8, 9])"
      ]
     },
     "execution_count": 10,
     "metadata": {},
     "output_type": "execute_result"
    }
   ],
   "source": [
    "x[0][1]"
   ]
  },
  {
   "cell_type": "code",
   "execution_count": 11,
   "id": "a7d800e5",
   "metadata": {
    "execution": {
     "iopub.execute_input": "2021-09-20T13:37:30.230382Z",
     "iopub.status.busy": "2021-09-20T13:37:30.229880Z",
     "iopub.status.idle": "2021-09-20T13:37:30.234510Z",
     "shell.execute_reply": "2021-09-20T13:37:30.233781Z"
    }
   },
   "outputs": [
    {
     "data": {
      "text/plain": [
       "7"
      ]
     },
     "execution_count": 11,
     "metadata": {},
     "output_type": "execute_result"
    }
   ],
   "source": [
    "x[0][1][2]"
   ]
  },
  {
   "cell_type": "markdown",
   "id": "ff3789f7",
   "metadata": {},
   "source": [
    "\n",
    "¿Cómo conseguimos estos valores? ([fuente](https://towardsdatascience.com/indexing-and-slicing-of-1d-2d-and-3d-arrays-in-numpy-e731afff0bbe))\n",
    "\n",
    "![title](img/matrix.png)"
   ]
  },
  {
   "cell_type": "code",
   "execution_count": 12,
   "id": "39cadc55",
   "metadata": {
    "execution": {
     "iopub.execute_input": "2021-09-20T13:37:30.238655Z",
     "iopub.status.busy": "2021-09-20T13:37:30.238151Z",
     "iopub.status.idle": "2021-09-20T13:37:30.241235Z",
     "shell.execute_reply": "2021-09-20T13:37:30.240762Z"
    }
   },
   "outputs": [
    {
     "data": {
      "text/plain": [
       "array([[[16, 17, 18],\n",
       "        [21, 22, 23]],\n",
       "\n",
       "       [[31, 32, 33],\n",
       "        [36, 37, 38]]])"
      ]
     },
     "execution_count": 12,
     "metadata": {},
     "output_type": "execute_result"
    }
   ],
   "source": [
    "x[1:, 0:2, 1:4]"
   ]
  },
  {
   "cell_type": "markdown",
   "id": "defed2ca",
   "metadata": {},
   "source": [
    "### Copia de arreglos"
   ]
  },
  {
   "cell_type": "code",
   "execution_count": 13,
   "id": "4ca60e23",
   "metadata": {
    "execution": {
     "iopub.execute_input": "2021-09-20T13:37:30.245713Z",
     "iopub.status.busy": "2021-09-20T13:37:30.245203Z",
     "iopub.status.idle": "2021-09-20T13:37:30.249406Z",
     "shell.execute_reply": "2021-09-20T13:37:30.248903Z"
    }
   },
   "outputs": [
    {
     "data": {
      "text/plain": [
       "array([1, 2, 3, 4])"
      ]
     },
     "execution_count": 13,
     "metadata": {},
     "output_type": "execute_result"
    }
   ],
   "source": [
    "# Los arreglos no se copian con asignación\n",
    "\n",
    "a = np.array([1, 2, 3, 4])\n",
    "b = a\n",
    "b"
   ]
  },
  {
   "cell_type": "code",
   "execution_count": 14,
   "id": "1f7eb137",
   "metadata": {
    "execution": {
     "iopub.execute_input": "2021-09-20T13:37:30.254334Z",
     "iopub.status.busy": "2021-09-20T13:37:30.253552Z",
     "iopub.status.idle": "2021-09-20T13:37:30.256135Z",
     "shell.execute_reply": "2021-09-20T13:37:30.256549Z"
    }
   },
   "outputs": [
    {
     "data": {
      "text/plain": [
       "array([ 1, 20,  3,  4])"
      ]
     },
     "execution_count": 14,
     "metadata": {},
     "output_type": "execute_result"
    }
   ],
   "source": [
    "b[1] = 20\n",
    "b"
   ]
  },
  {
   "cell_type": "code",
   "execution_count": 15,
   "id": "e60fbd8a",
   "metadata": {
    "execution": {
     "iopub.execute_input": "2021-09-20T13:37:30.261529Z",
     "iopub.status.busy": "2021-09-20T13:37:30.260635Z",
     "iopub.status.idle": "2021-09-20T13:37:30.262883Z",
     "shell.execute_reply": "2021-09-20T13:37:30.263299Z"
    }
   },
   "outputs": [
    {
     "data": {
      "text/plain": [
       "array([ 1, 20,  3,  4])"
      ]
     },
     "execution_count": 15,
     "metadata": {},
     "output_type": "execute_result"
    }
   ],
   "source": [
    "a"
   ]
  },
  {
   "cell_type": "code",
   "execution_count": 16,
   "id": "61c33894",
   "metadata": {
    "execution": {
     "iopub.execute_input": "2021-09-20T13:37:30.268248Z",
     "iopub.status.busy": "2021-09-20T13:37:30.267723Z",
     "iopub.status.idle": "2021-09-20T13:37:30.269691Z",
     "shell.execute_reply": "2021-09-20T13:37:30.270108Z"
    }
   },
   "outputs": [
    {
     "data": {
      "text/plain": [
       "array([ 1, 20,  3,  4])"
      ]
     },
     "execution_count": 16,
     "metadata": {},
     "output_type": "execute_result"
    }
   ],
   "source": [
    "# Para copiar un arreglo a otra variable debemos usar copy()\n",
    "\n",
    "a = np.array([1, 2, 3, 4])\n",
    "b = a.copy()\n",
    "b[1] = 20\n",
    "b"
   ]
  },
  {
   "cell_type": "code",
   "execution_count": 17,
   "id": "5ca65e32",
   "metadata": {
    "execution": {
     "iopub.execute_input": "2021-09-20T13:37:30.274079Z",
     "iopub.status.busy": "2021-09-20T13:37:30.273564Z",
     "iopub.status.idle": "2021-09-20T13:37:30.278063Z",
     "shell.execute_reply": "2021-09-20T13:37:30.277610Z"
    }
   },
   "outputs": [
    {
     "data": {
      "text/plain": [
       "array([1, 2, 3, 4])"
      ]
     },
     "execution_count": 17,
     "metadata": {},
     "output_type": "execute_result"
    }
   ],
   "source": [
    "a"
   ]
  },
  {
   "cell_type": "markdown",
   "id": "47272a04",
   "metadata": {},
   "source": [
    "### Modificación de dimensiones"
   ]
  },
  {
   "cell_type": "markdown",
   "id": "8274fdee",
   "metadata": {},
   "source": [
    "Existen varias operaciones para cambiar la forma de un arreglo de numpy"
   ]
  },
  {
   "cell_type": "code",
   "execution_count": 18,
   "id": "1cc2d885",
   "metadata": {
    "execution": {
     "iopub.execute_input": "2021-09-20T13:37:30.282311Z",
     "iopub.status.busy": "2021-09-20T13:37:30.281805Z",
     "iopub.status.idle": "2021-09-20T13:37:30.286367Z",
     "shell.execute_reply": "2021-09-20T13:37:30.285885Z"
    }
   },
   "outputs": [
    {
     "data": {
      "text/plain": [
       "array([[ 1,  2,  3,  4],\n",
       "       [ 5,  6,  7,  8],\n",
       "       [ 9, 10, 11, 12]])"
      ]
     },
     "execution_count": 18,
     "metadata": {},
     "output_type": "execute_result"
    }
   ],
   "source": [
    "matriz_de_enteros"
   ]
  },
  {
   "cell_type": "code",
   "execution_count": 19,
   "id": "5b4838c0",
   "metadata": {
    "execution": {
     "iopub.execute_input": "2021-09-20T13:37:30.291276Z",
     "iopub.status.busy": "2021-09-20T13:37:30.290466Z",
     "iopub.status.idle": "2021-09-20T13:37:30.292744Z",
     "shell.execute_reply": "2021-09-20T13:37:30.293191Z"
    }
   },
   "outputs": [
    {
     "data": {
      "text/plain": [
       "2"
      ]
     },
     "execution_count": 19,
     "metadata": {},
     "output_type": "execute_result"
    }
   ],
   "source": [
    "# Obtener las dimensiones del arreglo\n",
    "\n",
    "matriz_de_enteros.ndim"
   ]
  },
  {
   "cell_type": "code",
   "execution_count": 20,
   "id": "1fbdae29",
   "metadata": {
    "execution": {
     "iopub.execute_input": "2021-09-20T13:37:30.297928Z",
     "iopub.status.busy": "2021-09-20T13:37:30.297344Z",
     "iopub.status.idle": "2021-09-20T13:37:30.300050Z",
     "shell.execute_reply": "2021-09-20T13:37:30.300504Z"
    }
   },
   "outputs": [
    {
     "data": {
      "text/plain": [
       "(3, 4)"
      ]
     },
     "execution_count": 20,
     "metadata": {},
     "output_type": "execute_result"
    }
   ],
   "source": [
    "# Obtener la forma del arreglo\n",
    "\n",
    "matriz_de_enteros.shape"
   ]
  },
  {
   "cell_type": "code",
   "execution_count": 21,
   "id": "09ac9c81",
   "metadata": {
    "execution": {
     "iopub.execute_input": "2021-09-20T13:37:30.307019Z",
     "iopub.status.busy": "2021-09-20T13:37:30.306040Z",
     "iopub.status.idle": "2021-09-20T13:37:30.309691Z",
     "shell.execute_reply": "2021-09-20T13:37:30.309231Z"
    }
   },
   "outputs": [
    {
     "name": "stdout",
     "output_type": "stream",
     "text": [
      "enteros: [ 3  6  9 12]\n"
     ]
    },
    {
     "data": {
      "text/plain": [
       "array([[ 3,  6],\n",
       "       [ 9, 12]])"
      ]
     },
     "execution_count": 21,
     "metadata": {},
     "output_type": "execute_result"
    }
   ],
   "source": [
    "# Modificar la forma de un arreglo\n",
    "\n",
    "enteros = np.array([3, 6, 9, 12])\n",
    "print(f\"enteros: {enteros}\")\n",
    "np.reshape(enteros, (2, 2))"
   ]
  },
  {
   "cell_type": "code",
   "execution_count": 22,
   "id": "3f718761",
   "metadata": {
    "execution": {
     "iopub.execute_input": "2021-09-20T13:37:30.314808Z",
     "iopub.status.busy": "2021-09-20T13:37:30.314065Z",
     "iopub.status.idle": "2021-09-20T13:37:30.316237Z",
     "shell.execute_reply": "2021-09-20T13:37:30.316675Z"
    }
   },
   "outputs": [
    {
     "data": {
      "text/plain": [
       "array([[1., 1.],\n",
       "       [1., 1.]])"
      ]
     },
     "execution_count": 22,
     "metadata": {},
     "output_type": "execute_result"
    }
   ],
   "source": [
    "# Aplanar un arreglo\n",
    "\n",
    "a = np.ones((2, 2))\n",
    "a"
   ]
  },
  {
   "cell_type": "code",
   "execution_count": 23,
   "id": "e45c0e68",
   "metadata": {
    "execution": {
     "iopub.execute_input": "2021-09-20T13:37:30.320923Z",
     "iopub.status.busy": "2021-09-20T13:37:30.320406Z",
     "iopub.status.idle": "2021-09-20T13:37:30.322412Z",
     "shell.execute_reply": "2021-09-20T13:37:30.322849Z"
    }
   },
   "outputs": [
    {
     "data": {
      "text/plain": [
       "array([1., 1., 1., 1.])"
      ]
     },
     "execution_count": 23,
     "metadata": {},
     "output_type": "execute_result"
    }
   ],
   "source": [
    "a.flatten()"
   ]
  },
  {
   "cell_type": "code",
   "execution_count": 24,
   "id": "fcf6a122",
   "metadata": {
    "execution": {
     "iopub.execute_input": "2021-09-20T13:37:30.327231Z",
     "iopub.status.busy": "2021-09-20T13:37:30.326681Z",
     "iopub.status.idle": "2021-09-20T13:37:30.328729Z",
     "shell.execute_reply": "2021-09-20T13:37:30.329165Z"
    },
    "lines_to_next_cell": 2
   },
   "outputs": [
    {
     "data": {
      "text/plain": [
       "array([[1., 1.],\n",
       "       [1., 1.]])"
      ]
     },
     "execution_count": 24,
     "metadata": {},
     "output_type": "execute_result"
    }
   ],
   "source": [
    "a"
   ]
  },
  {
   "cell_type": "markdown",
   "id": "e8e5ae7a",
   "metadata": {},
   "source": [
    "### Combinación de arreglos (Stacking)"
   ]
  },
  {
   "cell_type": "code",
   "execution_count": 25,
   "id": "f5254975",
   "metadata": {
    "execution": {
     "iopub.execute_input": "2021-09-20T13:37:30.333585Z",
     "iopub.status.busy": "2021-09-20T13:37:30.333080Z",
     "iopub.status.idle": "2021-09-20T13:37:30.337125Z",
     "shell.execute_reply": "2021-09-20T13:37:30.336606Z"
    }
   },
   "outputs": [
    {
     "data": {
      "text/plain": [
       "array([0, 1, 2, 3, 4])"
      ]
     },
     "execution_count": 25,
     "metadata": {},
     "output_type": "execute_result"
    }
   ],
   "source": [
    "# Los arreglos se pueden combinar verticalmente (se incrementa la cantidad de filas)\n",
    "\n",
    "a = np.arange(0, 5)\n",
    "a"
   ]
  },
  {
   "cell_type": "code",
   "execution_count": 26,
   "id": "928fc0ce",
   "metadata": {
    "execution": {
     "iopub.execute_input": "2021-09-20T13:37:30.341801Z",
     "iopub.status.busy": "2021-09-20T13:37:30.340801Z",
     "iopub.status.idle": "2021-09-20T13:37:30.343759Z",
     "shell.execute_reply": "2021-09-20T13:37:30.344181Z"
    }
   },
   "outputs": [
    {
     "data": {
      "text/plain": [
       "array([5, 6, 7, 8, 9])"
      ]
     },
     "execution_count": 26,
     "metadata": {},
     "output_type": "execute_result"
    }
   ],
   "source": [
    "b = np.arange(5, 10)\n",
    "b"
   ]
  },
  {
   "cell_type": "code",
   "execution_count": 27,
   "id": "192c11bb",
   "metadata": {
    "execution": {
     "iopub.execute_input": "2021-09-20T13:37:30.348467Z",
     "iopub.status.busy": "2021-09-20T13:37:30.347963Z",
     "iopub.status.idle": "2021-09-20T13:37:30.350872Z",
     "shell.execute_reply": "2021-09-20T13:37:30.350302Z"
    }
   },
   "outputs": [
    {
     "data": {
      "text/plain": [
       "array([[0, 1, 2, 3, 4],\n",
       "       [5, 6, 7, 8, 9]])"
      ]
     },
     "execution_count": 27,
     "metadata": {},
     "output_type": "execute_result"
    }
   ],
   "source": [
    "combinados_verticalmente = np.vstack((a, b))\n",
    "combinados_verticalmente"
   ]
  },
  {
   "cell_type": "code",
   "execution_count": 28,
   "id": "381a7c3f",
   "metadata": {
    "execution": {
     "iopub.execute_input": "2021-09-20T13:37:30.355339Z",
     "iopub.status.busy": "2021-09-20T13:37:30.354814Z",
     "iopub.status.idle": "2021-09-20T13:37:30.356874Z",
     "shell.execute_reply": "2021-09-20T13:37:30.357323Z"
    }
   },
   "outputs": [
    {
     "data": {
      "text/plain": [
       "array([0, 1, 2, 3, 4, 5, 6, 7, 8, 9])"
      ]
     },
     "execution_count": 28,
     "metadata": {},
     "output_type": "execute_result"
    }
   ],
   "source": [
    "# También se pueden combinar horizontalmente (se incrementa la cantidad de columnas)\n",
    "\n",
    "combinados_horizontalmente = np.hstack((a, b))\n",
    "combinados_horizontalmente"
   ]
  },
  {
   "cell_type": "markdown",
   "id": "81beda10",
   "metadata": {},
   "source": [
    "### Operaciones matemáticas"
   ]
  },
  {
   "cell_type": "code",
   "execution_count": 29,
   "id": "ef219cb6",
   "metadata": {
    "execution": {
     "iopub.execute_input": "2021-09-20T13:37:30.362435Z",
     "iopub.status.busy": "2021-09-20T13:37:30.361704Z",
     "iopub.status.idle": "2021-09-20T13:37:30.364167Z",
     "shell.execute_reply": "2021-09-20T13:37:30.364580Z"
    }
   },
   "outputs": [
    {
     "data": {
      "text/plain": [
       "array([3, 4, 5, 6])"
      ]
     },
     "execution_count": 29,
     "metadata": {},
     "output_type": "execute_result"
    }
   ],
   "source": [
    "a = np.array([1, 2, 3, 4])\n",
    "\n",
    "a + 2"
   ]
  },
  {
   "cell_type": "code",
   "execution_count": 30,
   "id": "144aab7d",
   "metadata": {
    "execution": {
     "iopub.execute_input": "2021-09-20T13:37:30.368654Z",
     "iopub.status.busy": "2021-09-20T13:37:30.368087Z",
     "iopub.status.idle": "2021-09-20T13:37:30.370956Z",
     "shell.execute_reply": "2021-09-20T13:37:30.370425Z"
    }
   },
   "outputs": [
    {
     "data": {
      "text/plain": [
       "array([ 1,  4,  9, 16])"
      ]
     },
     "execution_count": 30,
     "metadata": {},
     "output_type": "execute_result"
    }
   ],
   "source": [
    "a ** 2"
   ]
  },
  {
   "cell_type": "code",
   "execution_count": 31,
   "id": "7f62dd91",
   "metadata": {
    "execution": {
     "iopub.execute_input": "2021-09-20T13:37:30.376168Z",
     "iopub.status.busy": "2021-09-20T13:37:30.375495Z",
     "iopub.status.idle": "2021-09-20T13:37:30.379167Z",
     "shell.execute_reply": "2021-09-20T13:37:30.378666Z"
    }
   },
   "outputs": [
    {
     "name": "stdout",
     "output_type": "stream",
     "text": [
      "b: [1. 1. 1. 1.]\n"
     ]
    },
    {
     "data": {
      "text/plain": [
       "array([2., 3., 4., 5.])"
      ]
     },
     "execution_count": 31,
     "metadata": {},
     "output_type": "execute_result"
    }
   ],
   "source": [
    "b = np.ones(4)\n",
    "print(f\"b: {b}\")\n",
    "a + b"
   ]
  },
  {
   "cell_type": "markdown",
   "id": "214f6b5f",
   "metadata": {},
   "source": [
    "### Estadística"
   ]
  },
  {
   "cell_type": "code",
   "execution_count": 32,
   "id": "8e5283a8",
   "metadata": {
    "execution": {
     "iopub.execute_input": "2021-09-20T13:37:30.383943Z",
     "iopub.status.busy": "2021-09-20T13:37:30.383395Z",
     "iopub.status.idle": "2021-09-20T13:37:30.385638Z",
     "shell.execute_reply": "2021-09-20T13:37:30.386057Z"
    }
   },
   "outputs": [
    {
     "data": {
      "text/plain": [
       "1"
      ]
     },
     "execution_count": 32,
     "metadata": {},
     "output_type": "execute_result"
    }
   ],
   "source": [
    "a = np.array([[5, 2, 1, 8], [26, 4, 17, 9]])\n",
    "\n",
    "np.min(a)"
   ]
  },
  {
   "cell_type": "code",
   "execution_count": 33,
   "id": "2b776c42",
   "metadata": {
    "execution": {
     "iopub.execute_input": "2021-09-20T13:37:30.390452Z",
     "iopub.status.busy": "2021-09-20T13:37:30.388301Z",
     "iopub.status.idle": "2021-09-20T13:37:30.392733Z",
     "shell.execute_reply": "2021-09-20T13:37:30.392201Z"
    }
   },
   "outputs": [
    {
     "data": {
      "text/plain": [
       "26"
      ]
     },
     "execution_count": 33,
     "metadata": {},
     "output_type": "execute_result"
    }
   ],
   "source": [
    "np.max(a)"
   ]
  },
  {
   "cell_type": "code",
   "execution_count": 34,
   "id": "7d7670b0",
   "metadata": {
    "execution": {
     "iopub.execute_input": "2021-09-20T13:37:30.397755Z",
     "iopub.status.busy": "2021-09-20T13:37:30.396773Z",
     "iopub.status.idle": "2021-09-20T13:37:30.399431Z",
     "shell.execute_reply": "2021-09-20T13:37:30.399873Z"
    }
   },
   "outputs": [
    {
     "data": {
      "text/plain": [
       "72"
      ]
     },
     "execution_count": 34,
     "metadata": {},
     "output_type": "execute_result"
    }
   ],
   "source": [
    "np.sum(a)"
   ]
  },
  {
   "cell_type": "markdown",
   "id": "65250655",
   "metadata": {},
   "source": [
    "### Más magia"
   ]
  },
  {
   "cell_type": "code",
   "execution_count": 35,
   "id": "0a766139",
   "metadata": {
    "execution": {
     "iopub.execute_input": "2021-09-20T13:37:30.404231Z",
     "iopub.status.busy": "2021-09-20T13:37:30.403717Z",
     "iopub.status.idle": "2021-09-20T13:37:30.406312Z",
     "shell.execute_reply": "2021-09-20T13:37:30.406704Z"
    }
   },
   "outputs": [
    {
     "data": {
      "text/plain": [
       "array([[False, False, False,  True],\n",
       "       [ True, False,  True,  True]])"
      ]
     },
     "execution_count": 35,
     "metadata": {},
     "output_type": "execute_result"
    }
   ],
   "source": [
    "a = np.array([[5, 2, 1, 8], [26, 4, 17, 9]])\n",
    "\n",
    "a > 5"
   ]
  },
  {
   "cell_type": "code",
   "execution_count": 36,
   "id": "eda085c7",
   "metadata": {
    "execution": {
     "iopub.execute_input": "2021-09-20T13:37:30.411015Z",
     "iopub.status.busy": "2021-09-20T13:37:30.410494Z",
     "iopub.status.idle": "2021-09-20T13:37:30.414334Z",
     "shell.execute_reply": "2021-09-20T13:37:30.414752Z"
    }
   },
   "outputs": [
    {
     "data": {
      "text/plain": [
       "array([ 8, 26, 17,  9])"
      ]
     },
     "execution_count": 36,
     "metadata": {},
     "output_type": "execute_result"
    }
   ],
   "source": [
    "a[a > 5]"
   ]
  },
  {
   "cell_type": "markdown",
   "id": "3d3599c8",
   "metadata": {},
   "source": [
    "### Broadcasting"
   ]
  },
  {
   "cell_type": "markdown",
   "id": "becd5997",
   "metadata": {},
   "source": [
    "Permite realizar operaciones entre dos numpy arrays de distintas dimensiones.\n",
    "Para lograr esto, las dimensiones de los mismos deben ser compatibles. Dos dimensiones son compatibles cuando:\n",
    "1. Son iguales\n",
    "2. Alguna de las dos es 1"
   ]
  },
  {
   "cell_type": "code",
   "execution_count": 37,
   "id": "bd7ccf16",
   "metadata": {
    "execution": {
     "iopub.execute_input": "2021-09-20T13:37:30.419569Z",
     "iopub.status.busy": "2021-09-20T13:37:30.419042Z",
     "iopub.status.idle": "2021-09-20T13:37:30.421139Z",
     "shell.execute_reply": "2021-09-20T13:37:30.421557Z"
    }
   },
   "outputs": [
    {
     "data": {
      "text/plain": [
       "array([[ 5,  2,  1,  8],\n",
       "       [26,  4, 17,  9]])"
      ]
     },
     "execution_count": 37,
     "metadata": {},
     "output_type": "execute_result"
    }
   ],
   "source": [
    "a = np.array([[5, 2, 1, 8], [26, 4, 17, 9]])\n",
    "a"
   ]
  },
  {
   "cell_type": "code",
   "execution_count": 38,
   "id": "5e42fe87",
   "metadata": {
    "execution": {
     "iopub.execute_input": "2021-09-20T13:37:30.426466Z",
     "iopub.status.busy": "2021-09-20T13:37:30.425949Z",
     "iopub.status.idle": "2021-09-20T13:37:30.427869Z",
     "shell.execute_reply": "2021-09-20T13:37:30.428323Z"
    }
   },
   "outputs": [
    {
     "name": "stdout",
     "output_type": "stream",
     "text": [
      "a: (2, 4)\n",
      "b: (4,)\n",
      "\n",
      "a + b:\n",
      " [[10  4  2 16]\n",
      " [31  6 18 17]]\n"
     ]
    }
   ],
   "source": [
    "# Armamos un array que tenga la misma cantidad de columnas que a\n",
    "b = np.array([5, 2, 1, 8])\n",
    "print(f\"a: {a.shape}\")\n",
    "print(f\"b: {b.shape}\")\n",
    "# a + b\n",
    "print()\n",
    "print(f\"a + b:\\n {a + b}\")"
   ]
  },
  {
   "cell_type": "code",
   "execution_count": 39,
   "id": "18172f50",
   "metadata": {
    "execution": {
     "iopub.execute_input": "2021-09-20T13:37:30.432443Z",
     "iopub.status.busy": "2021-09-20T13:37:30.431928Z",
     "iopub.status.idle": "2021-09-20T13:37:30.511030Z",
     "shell.execute_reply": "2021-09-20T13:37:30.510554Z"
    },
    "tags": [
     "raises-exception"
    ]
   },
   "outputs": [
    {
     "name": "stdout",
     "output_type": "stream",
     "text": [
      "a: (2, 4)\n",
      "b: (3,)\n"
     ]
    },
    {
     "ename": "ValueError",
     "evalue": "operands could not be broadcast together with shapes (2,4) (3,) ",
     "output_type": "error",
     "traceback": [
      "\u001b[0;31m---------------------------------------------------------------------------\u001b[0m",
      "\u001b[0;31mValueError\u001b[0m                                Traceback (most recent call last)",
      "\u001b[0;32m/tmp/ipykernel_1916/261865458.py\u001b[0m in \u001b[0;36m<module>\u001b[0;34m\u001b[0m\n\u001b[1;32m      3\u001b[0m \u001b[0mprint\u001b[0m\u001b[0;34m(\u001b[0m\u001b[0;34mf\"a: {a.shape}\"\u001b[0m\u001b[0;34m)\u001b[0m\u001b[0;34m\u001b[0m\u001b[0;34m\u001b[0m\u001b[0m\n\u001b[1;32m      4\u001b[0m \u001b[0mprint\u001b[0m\u001b[0;34m(\u001b[0m\u001b[0;34mf\"b: {b.shape}\"\u001b[0m\u001b[0;34m)\u001b[0m\u001b[0;34m\u001b[0m\u001b[0;34m\u001b[0m\u001b[0m\n\u001b[0;32m----> 5\u001b[0;31m \u001b[0ma\u001b[0m \u001b[0;34m+\u001b[0m \u001b[0mb\u001b[0m\u001b[0;34m\u001b[0m\u001b[0;34m\u001b[0m\u001b[0m\n\u001b[0m",
      "\u001b[0;31mValueError\u001b[0m: operands could not be broadcast together with shapes (2,4) (3,) "
     ]
    }
   ],
   "source": [
    "# Armamos un array que tenga distinta cantidad de filas y columnas que a\n",
    "b = np.array([5, 1, 8])\n",
    "print(f\"a: {a.shape}\")\n",
    "print(f\"b: {b.shape}\")\n",
    "a + b"
   ]
  },
  {
   "cell_type": "code",
   "execution_count": 40,
   "id": "556d40da",
   "metadata": {
    "execution": {
     "iopub.execute_input": "2021-09-20T13:37:30.516309Z",
     "iopub.status.busy": "2021-09-20T13:37:30.515791Z",
     "iopub.status.idle": "2021-09-20T13:37:30.521427Z",
     "shell.execute_reply": "2021-09-20T13:37:30.520950Z"
    }
   },
   "outputs": [
    {
     "name": "stdout",
     "output_type": "stream",
     "text": [
      "a: (2, 4)\n",
      "b: (2, 1)\n"
     ]
    },
    {
     "data": {
      "text/plain": [
       "array([[ 7,  4,  3, 10],\n",
       "       [27,  5, 18, 10]])"
      ]
     },
     "execution_count": 40,
     "metadata": {},
     "output_type": "execute_result"
    }
   ],
   "source": [
    "# Armamos un array que tenga la misma cantidad de filas que a\n",
    "b = np.array([[2], [1]])\n",
    "print(f\"a: {a.shape}\")\n",
    "print(f\"b: {b.shape}\")\n",
    "a + b"
   ]
  },
  {
   "cell_type": "code",
   "execution_count": 41,
   "id": "19dcd37b",
   "metadata": {
    "execution": {
     "iopub.execute_input": "2021-09-20T13:37:30.525363Z",
     "iopub.status.busy": "2021-09-20T13:37:30.523617Z",
     "iopub.status.idle": "2021-09-20T13:37:30.530165Z",
     "shell.execute_reply": "2021-09-20T13:37:30.529672Z"
    }
   },
   "outputs": [
    {
     "data": {
      "text/plain": [
       "array([[ 9,  6,  5, 12],\n",
       "       [30,  8, 21, 13]])"
      ]
     },
     "execution_count": 41,
     "metadata": {},
     "output_type": "execute_result"
    }
   ],
   "source": [
    "# Si b es un entero\n",
    "b = 4\n",
    "a + b"
   ]
  },
  {
   "cell_type": "code",
   "execution_count": null,
   "id": "86e840f2",
   "metadata": {},
   "outputs": [],
   "source": []
  }
 ],
 "metadata": {
  "jupytext": {
   "encoding": "# -*- coding: utf-8 -*-",
   "formats": "ipynb,py:light"
  },
  "kernelspec": {
   "display_name": "Python 3",
   "language": "python",
   "name": "python3"
  },
  "language_info": {
   "codemirror_mode": {
    "name": "ipython",
    "version": 3
   },
   "file_extension": ".py",
   "mimetype": "text/x-python",
   "name": "python",
   "nbconvert_exporter": "python",
   "pygments_lexer": "ipython3",
   "version": "3.7.12"
  }
 },
 "nbformat": 4,
 "nbformat_minor": 5
}
