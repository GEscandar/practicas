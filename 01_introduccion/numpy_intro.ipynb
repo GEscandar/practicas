{
 "cells": [
  {
   "cell_type": "markdown",
   "id": "467d26b6",
   "metadata": {},
   "source": [
    "## Clase 1 - Introducción a Numpy\n",
    "\n",
    "Numpy es una biblioteca para Python que facilita el manejo de arreglos multidimensionales y ofrece varias herramientas para trabajar con ellos. Muchas de las bibliotecas de Python que son ampliamente usadas hoy en día, como pandas, están construidas sobre numpy.\n",
    "\n",
    "### Listas de Python vs arreglos de Numpy\n",
    "\n",
    "A primera vista, un arreglo de numpy puede resultar idéntico a una lista de python, pero a medida que la cantidad de datos comienza a incrementar, los arreglos de numpy terminan ofreciendo un manejo más eficiente de la memoria.\n",
    "\n",
    "Para comenzar, vamos a crear un arreglo de numpy:"
   ]
  },
  {
   "cell_type": "code",
   "execution_count": 1,
   "id": "fadaa5df",
   "metadata": {
    "execution": {
     "iopub.execute_input": "2021-09-19T15:40:59.422613Z",
     "iopub.status.busy": "2021-09-19T15:40:59.421829Z",
     "iopub.status.idle": "2021-09-19T15:40:59.598976Z",
     "shell.execute_reply": "2021-09-19T15:40:59.598303Z"
    }
   },
   "outputs": [
    {
     "data": {
      "text/plain": [
       "array([1, 2, 3, 4])"
      ]
     },
     "execution_count": 1,
     "metadata": {},
     "output_type": "execute_result"
    }
   ],
   "source": [
    "import numpy as np\n",
    "\n",
    "np.array([1, 2, 3, 4])"
   ]
  },
  {
   "cell_type": "markdown",
   "id": "8bdb3201",
   "metadata": {},
   "source": [
    "Los arreglos pueden ser también multidimensionales:"
   ]
  },
  {
   "cell_type": "code",
   "execution_count": 2,
   "id": "99d01806",
   "metadata": {
    "execution": {
     "iopub.execute_input": "2021-09-19T15:40:59.605447Z",
     "iopub.status.busy": "2021-09-19T15:40:59.604832Z",
     "iopub.status.idle": "2021-09-19T15:40:59.608503Z",
     "shell.execute_reply": "2021-09-19T15:40:59.607842Z"
    }
   },
   "outputs": [
    {
     "data": {
      "text/plain": [
       "array([[1, 2, 3, 4],\n",
       "       [5, 6, 7, 8]])"
      ]
     },
     "execution_count": 2,
     "metadata": {},
     "output_type": "execute_result"
    }
   ],
   "source": [
    "np.array([[1, 2, 3, 4], [5, 6, 7, 8]])"
   ]
  },
  {
   "cell_type": "markdown",
   "id": "944c62e6",
   "metadata": {},
   "source": [
    "Es importante tener en cuenta que un arreglo de numpy tiene un tipo fijo de datos, entonces si se quiere agregar un dato de un tipo diferente al de la mayoría, este va a ser modificado para adaptarse al resto"
   ]
  },
  {
   "cell_type": "code",
   "execution_count": 3,
   "id": "eda61a72",
   "metadata": {
    "execution": {
     "iopub.execute_input": "2021-09-19T15:40:59.613984Z",
     "iopub.status.busy": "2021-09-19T15:40:59.612574Z",
     "iopub.status.idle": "2021-09-19T15:40:59.615637Z",
     "shell.execute_reply": "2021-09-19T15:40:59.616150Z"
    }
   },
   "outputs": [],
   "source": [
    "enteros = np.array([1, 2, 3, 4])"
   ]
  },
  {
   "cell_type": "markdown",
   "id": "11c5d2d0",
   "metadata": {},
   "source": [
    "Agrego un elemento de tipo flotante en la posición 1"
   ]
  },
  {
   "cell_type": "code",
   "execution_count": 4,
   "id": "96c9e2ee",
   "metadata": {
    "execution": {
     "iopub.execute_input": "2021-09-19T15:40:59.622781Z",
     "iopub.status.busy": "2021-09-19T15:40:59.621666Z",
     "iopub.status.idle": "2021-09-19T15:40:59.624837Z",
     "shell.execute_reply": "2021-09-19T15:40:59.625368Z"
    }
   },
   "outputs": [
    {
     "data": {
      "text/plain": [
       "array([1, 8, 3, 4])"
      ]
     },
     "execution_count": 4,
     "metadata": {},
     "output_type": "execute_result"
    }
   ],
   "source": [
    "enteros[1] = 8.4727\n",
    "enteros"
   ]
  },
  {
   "cell_type": "markdown",
   "id": "0875f918",
   "metadata": {},
   "source": [
    "Numpy también nos permite crear arreglos con valores aleatorios del 0 al 1.\n",
    "Basta con pasarle las dimensiones del arreglo que queremos crear."
   ]
  },
  {
   "cell_type": "code",
   "execution_count": 5,
   "id": "0768db4a",
   "metadata": {
    "execution": {
     "iopub.execute_input": "2021-09-19T15:40:59.631006Z",
     "iopub.status.busy": "2021-09-19T15:40:59.629005Z",
     "iopub.status.idle": "2021-09-19T15:40:59.633431Z",
     "shell.execute_reply": "2021-09-19T15:40:59.633964Z"
    }
   },
   "outputs": [
    {
     "data": {
      "text/plain": [
       "array([[0.0372138 , 0.06765009, 0.37797888],\n",
       "       [0.62225957, 0.75276484, 0.76059034]])"
      ]
     },
     "execution_count": 5,
     "metadata": {},
     "output_type": "execute_result"
    }
   ],
   "source": [
    "np.random.rand(2, 3)"
   ]
  },
  {
   "cell_type": "markdown",
   "id": "0f224447",
   "metadata": {},
   "source": [
    "## Slicing\n",
    "\n",
    "De la misma forma que con las listas de python, pueden obtenerse slices de los arreglos de numpy"
   ]
  },
  {
   "cell_type": "code",
   "execution_count": 6,
   "id": "178eaa43",
   "metadata": {
    "execution": {
     "iopub.execute_input": "2021-09-19T15:40:59.640399Z",
     "iopub.status.busy": "2021-09-19T15:40:59.639232Z",
     "iopub.status.idle": "2021-09-19T15:40:59.642853Z",
     "shell.execute_reply": "2021-09-19T15:40:59.642294Z"
    },
    "lines_to_next_cell": 2
   },
   "outputs": [
    {
     "data": {
      "text/plain": [
       "array([1, 8])"
      ]
     },
     "execution_count": 6,
     "metadata": {},
     "output_type": "execute_result"
    }
   ],
   "source": [
    "enteros[:2]"
   ]
  },
  {
   "cell_type": "code",
   "execution_count": 7,
   "id": "6bbd7b81",
   "metadata": {
    "execution": {
     "iopub.execute_input": "2021-09-19T15:40:59.650830Z",
     "iopub.status.busy": "2021-09-19T15:40:59.649284Z",
     "iopub.status.idle": "2021-09-19T15:40:59.653016Z",
     "shell.execute_reply": "2021-09-19T15:40:59.652410Z"
    }
   },
   "outputs": [
    {
     "name": "stdout",
     "output_type": "stream",
     "text": [
      "Original: \n",
      "[[ 1  2  3  4]\n",
      " [ 5  6  7  8]\n",
      " [ 9 10 11 12]]\n",
      "\n",
      "Recortada: \n",
      "[[1 2 3]\n",
      " [5 6 7]]\n"
     ]
    }
   ],
   "source": [
    "matriz_de_enteros = np.array([[1, 2, 3, 4], [5, 6, 7, 8], [9, 10, 11, 12]])\n",
    "\n",
    "print('Original: ')\n",
    "print(matriz_de_enteros)\n",
    "\n",
    "print()\n",
    "\n",
    "print('Recortada: ')\n",
    "print(matriz_de_enteros[:2, :3])"
   ]
  },
  {
   "cell_type": "code",
   "execution_count": 8,
   "id": "7f6a7f2d",
   "metadata": {
    "execution": {
     "iopub.execute_input": "2021-09-19T15:40:59.658407Z",
     "iopub.status.busy": "2021-09-19T15:40:59.657787Z",
     "iopub.status.idle": "2021-09-19T15:40:59.661668Z",
     "shell.execute_reply": "2021-09-19T15:40:59.661047Z"
    }
   },
   "outputs": [
    {
     "data": {
      "text/plain": [
       "array([[[ 0,  1,  2,  3,  4],\n",
       "        [ 5,  6,  7,  8,  9],\n",
       "        [10, 11, 12, 13, 14]],\n",
       "\n",
       "       [[15, 16, 17, 18, 19],\n",
       "        [20, 21, 22, 23, 24],\n",
       "        [25, 26, 27, 28, 29]],\n",
       "\n",
       "       [[30, 31, 32, 33, 34],\n",
       "        [35, 36, 37, 38, 39],\n",
       "        [40, 41, 42, 43, 44]]])"
      ]
     },
     "execution_count": 8,
     "metadata": {},
     "output_type": "execute_result"
    }
   ],
   "source": [
    "# 3D\n",
    "# arange() genera valores de un intervalo pasado por parámetro\n",
    "# reshape() modifica la forma del numpy array\n",
    "\n",
    "x = np.arange(45).reshape(3, 3, 5)\n",
    "x"
   ]
  },
  {
   "cell_type": "code",
   "execution_count": 9,
   "id": "2dbf33f7",
   "metadata": {
    "execution": {
     "iopub.execute_input": "2021-09-19T15:40:59.666446Z",
     "iopub.status.busy": "2021-09-19T15:40:59.665818Z",
     "iopub.status.idle": "2021-09-19T15:40:59.670870Z",
     "shell.execute_reply": "2021-09-19T15:40:59.670220Z"
    }
   },
   "outputs": [
    {
     "data": {
      "text/plain": [
       "array([[ 0,  1,  2,  3,  4],\n",
       "       [ 5,  6,  7,  8,  9],\n",
       "       [10, 11, 12, 13, 14]])"
      ]
     },
     "execution_count": 9,
     "metadata": {},
     "output_type": "execute_result"
    }
   ],
   "source": [
    "x[0]"
   ]
  },
  {
   "cell_type": "code",
   "execution_count": 10,
   "id": "07e72a84",
   "metadata": {
    "execution": {
     "iopub.execute_input": "2021-09-19T15:40:59.677014Z",
     "iopub.status.busy": "2021-09-19T15:40:59.675882Z",
     "iopub.status.idle": "2021-09-19T15:40:59.678876Z",
     "shell.execute_reply": "2021-09-19T15:40:59.679374Z"
    }
   },
   "outputs": [
    {
     "data": {
      "text/plain": [
       "array([5, 6, 7, 8, 9])"
      ]
     },
     "execution_count": 10,
     "metadata": {},
     "output_type": "execute_result"
    }
   ],
   "source": [
    "x[0][1]"
   ]
  },
  {
   "cell_type": "code",
   "execution_count": 11,
   "id": "aa1bf661",
   "metadata": {
    "execution": {
     "iopub.execute_input": "2021-09-19T15:40:59.685583Z",
     "iopub.status.busy": "2021-09-19T15:40:59.684336Z",
     "iopub.status.idle": "2021-09-19T15:40:59.687421Z",
     "shell.execute_reply": "2021-09-19T15:40:59.687896Z"
    }
   },
   "outputs": [
    {
     "data": {
      "text/plain": [
       "7"
      ]
     },
     "execution_count": 11,
     "metadata": {},
     "output_type": "execute_result"
    }
   ],
   "source": [
    "x[0][1][2]"
   ]
  },
  {
   "cell_type": "markdown",
   "id": "f63f2432",
   "metadata": {},
   "source": [
    "\n",
    "¿Cómo conseguimos estos valores? ([fuente](https://towardsdatascience.com/indexing-and-slicing-of-1d-2d-and-3d-arrays-in-numpy-e731afff0bbe))\n",
    "\n",
    "![title](img/matrix.png)"
   ]
  },
  {
   "cell_type": "code",
   "execution_count": 12,
   "id": "6bbe4d46",
   "metadata": {
    "execution": {
     "iopub.execute_input": "2021-09-19T15:40:59.693175Z",
     "iopub.status.busy": "2021-09-19T15:40:59.692576Z",
     "iopub.status.idle": "2021-09-19T15:40:59.695921Z",
     "shell.execute_reply": "2021-09-19T15:40:59.695370Z"
    }
   },
   "outputs": [
    {
     "data": {
      "text/plain": [
       "array([[[16, 17, 18],\n",
       "        [21, 22, 23]],\n",
       "\n",
       "       [[31, 32, 33],\n",
       "        [36, 37, 38]]])"
      ]
     },
     "execution_count": 12,
     "metadata": {},
     "output_type": "execute_result"
    }
   ],
   "source": [
    "x[1:, 0:2, 1:4]"
   ]
  },
  {
   "cell_type": "markdown",
   "id": "1ae3fdaf",
   "metadata": {},
   "source": [
    "### Copia de arreglos"
   ]
  },
  {
   "cell_type": "code",
   "execution_count": 13,
   "id": "484f0728",
   "metadata": {
    "execution": {
     "iopub.execute_input": "2021-09-19T15:40:59.702073Z",
     "iopub.status.busy": "2021-09-19T15:40:59.700813Z",
     "iopub.status.idle": "2021-09-19T15:40:59.704166Z",
     "shell.execute_reply": "2021-09-19T15:40:59.704691Z"
    }
   },
   "outputs": [
    {
     "data": {
      "text/plain": [
       "array([1, 2, 3, 4])"
      ]
     },
     "execution_count": 13,
     "metadata": {},
     "output_type": "execute_result"
    }
   ],
   "source": [
    "# Los arreglos no se copian con asignación\n",
    "\n",
    "a = np.array([1, 2, 3, 4])\n",
    "b = a\n",
    "b"
   ]
  },
  {
   "cell_type": "code",
   "execution_count": 14,
   "id": "97de0021",
   "metadata": {
    "execution": {
     "iopub.execute_input": "2021-09-19T15:40:59.711413Z",
     "iopub.status.busy": "2021-09-19T15:40:59.710102Z",
     "iopub.status.idle": "2021-09-19T15:40:59.713661Z",
     "shell.execute_reply": "2021-09-19T15:40:59.713141Z"
    }
   },
   "outputs": [
    {
     "data": {
      "text/plain": [
       "array([ 1, 20,  3,  4])"
      ]
     },
     "execution_count": 14,
     "metadata": {},
     "output_type": "execute_result"
    }
   ],
   "source": [
    "b[1] = 20\n",
    "b"
   ]
  },
  {
   "cell_type": "code",
   "execution_count": 15,
   "id": "8cd83d1d",
   "metadata": {
    "execution": {
     "iopub.execute_input": "2021-09-19T15:40:59.720416Z",
     "iopub.status.busy": "2021-09-19T15:40:59.719761Z",
     "iopub.status.idle": "2021-09-19T15:40:59.723406Z",
     "shell.execute_reply": "2021-09-19T15:40:59.722860Z"
    }
   },
   "outputs": [
    {
     "data": {
      "text/plain": [
       "array([ 1, 20,  3,  4])"
      ]
     },
     "execution_count": 15,
     "metadata": {},
     "output_type": "execute_result"
    }
   ],
   "source": [
    "a"
   ]
  },
  {
   "cell_type": "code",
   "execution_count": 16,
   "id": "808e1537",
   "metadata": {
    "execution": {
     "iopub.execute_input": "2021-09-19T15:40:59.729938Z",
     "iopub.status.busy": "2021-09-19T15:40:59.729291Z",
     "iopub.status.idle": "2021-09-19T15:40:59.731463Z",
     "shell.execute_reply": "2021-09-19T15:40:59.731991Z"
    }
   },
   "outputs": [
    {
     "data": {
      "text/plain": [
       "array([ 1, 20,  3,  4])"
      ]
     },
     "execution_count": 16,
     "metadata": {},
     "output_type": "execute_result"
    }
   ],
   "source": [
    "# Para copiar un arreglo a otra variable debemos usar copy()\n",
    "\n",
    "a = np.array([1, 2, 3, 4])\n",
    "b = a.copy()\n",
    "b[1] = 20\n",
    "b"
   ]
  },
  {
   "cell_type": "code",
   "execution_count": 17,
   "id": "2cdec177",
   "metadata": {
    "execution": {
     "iopub.execute_input": "2021-09-19T15:40:59.736597Z",
     "iopub.status.busy": "2021-09-19T15:40:59.735949Z",
     "iopub.status.idle": "2021-09-19T15:40:59.739664Z",
     "shell.execute_reply": "2021-09-19T15:40:59.739095Z"
    }
   },
   "outputs": [
    {
     "data": {
      "text/plain": [
       "array([1, 2, 3, 4])"
      ]
     },
     "execution_count": 17,
     "metadata": {},
     "output_type": "execute_result"
    }
   ],
   "source": [
    "a"
   ]
  },
  {
   "cell_type": "markdown",
   "id": "f5355ca4",
   "metadata": {},
   "source": [
    "### Modificación de dimensiones"
   ]
  },
  {
   "cell_type": "markdown",
   "id": "ccb293bf",
   "metadata": {},
   "source": [
    "Existen varias operaciones para cambiar la forma de un arreglo de numpy"
   ]
  },
  {
   "cell_type": "code",
   "execution_count": 18,
   "id": "6da5b9c6",
   "metadata": {
    "execution": {
     "iopub.execute_input": "2021-09-19T15:40:59.744890Z",
     "iopub.status.busy": "2021-09-19T15:40:59.742046Z",
     "iopub.status.idle": "2021-09-19T15:40:59.747332Z",
     "shell.execute_reply": "2021-09-19T15:40:59.747843Z"
    }
   },
   "outputs": [
    {
     "data": {
      "text/plain": [
       "array([[ 1,  2,  3,  4],\n",
       "       [ 5,  6,  7,  8],\n",
       "       [ 9, 10, 11, 12]])"
      ]
     },
     "execution_count": 18,
     "metadata": {},
     "output_type": "execute_result"
    }
   ],
   "source": [
    "matriz_de_enteros"
   ]
  },
  {
   "cell_type": "code",
   "execution_count": 19,
   "id": "f4631aa1",
   "metadata": {
    "execution": {
     "iopub.execute_input": "2021-09-19T15:40:59.753069Z",
     "iopub.status.busy": "2021-09-19T15:40:59.752425Z",
     "iopub.status.idle": "2021-09-19T15:40:59.754595Z",
     "shell.execute_reply": "2021-09-19T15:40:59.755104Z"
    }
   },
   "outputs": [
    {
     "data": {
      "text/plain": [
       "2"
      ]
     },
     "execution_count": 19,
     "metadata": {},
     "output_type": "execute_result"
    }
   ],
   "source": [
    "# Obtener las dimensiones del arreglo\n",
    "\n",
    "matriz_de_enteros.ndim"
   ]
  },
  {
   "cell_type": "code",
   "execution_count": 20,
   "id": "e3512266",
   "metadata": {
    "execution": {
     "iopub.execute_input": "2021-09-19T15:40:59.760035Z",
     "iopub.status.busy": "2021-09-19T15:40:59.759415Z",
     "iopub.status.idle": "2021-09-19T15:40:59.764206Z",
     "shell.execute_reply": "2021-09-19T15:40:59.763638Z"
    }
   },
   "outputs": [
    {
     "data": {
      "text/plain": [
       "(3, 4)"
      ]
     },
     "execution_count": 20,
     "metadata": {},
     "output_type": "execute_result"
    }
   ],
   "source": [
    "# Obtener la forma del arreglo\n",
    "\n",
    "matriz_de_enteros.shape"
   ]
  },
  {
   "cell_type": "code",
   "execution_count": 21,
   "id": "bd773702",
   "metadata": {
    "execution": {
     "iopub.execute_input": "2021-09-19T15:40:59.772332Z",
     "iopub.status.busy": "2021-09-19T15:40:59.771574Z",
     "iopub.status.idle": "2021-09-19T15:40:59.775393Z",
     "shell.execute_reply": "2021-09-19T15:40:59.774723Z"
    }
   },
   "outputs": [
    {
     "name": "stdout",
     "output_type": "stream",
     "text": [
      "enteros: [ 3  6  9 12]\n"
     ]
    },
    {
     "data": {
      "text/plain": [
       "array([[ 3,  6],\n",
       "       [ 9, 12]])"
      ]
     },
     "execution_count": 21,
     "metadata": {},
     "output_type": "execute_result"
    }
   ],
   "source": [
    "# Modificar la forma de un arreglo\n",
    "\n",
    "enteros = np.array([3, 6, 9, 12])\n",
    "print(f\"enteros: {enteros}\")\n",
    "np.reshape(enteros, (2, 2))"
   ]
  },
  {
   "cell_type": "code",
   "execution_count": 22,
   "id": "6a1df3bf",
   "metadata": {
    "execution": {
     "iopub.execute_input": "2021-09-19T15:40:59.780258Z",
     "iopub.status.busy": "2021-09-19T15:40:59.779641Z",
     "iopub.status.idle": "2021-09-19T15:40:59.782873Z",
     "shell.execute_reply": "2021-09-19T15:40:59.783413Z"
    }
   },
   "outputs": [
    {
     "data": {
      "text/plain": [
       "array([[1., 1.],\n",
       "       [1., 1.]])"
      ]
     },
     "execution_count": 22,
     "metadata": {},
     "output_type": "execute_result"
    }
   ],
   "source": [
    "# Aplanar un arreglo\n",
    "\n",
    "a = np.ones((2, 2))\n",
    "a"
   ]
  },
  {
   "cell_type": "code",
   "execution_count": 23,
   "id": "ea6d7132",
   "metadata": {
    "execution": {
     "iopub.execute_input": "2021-09-19T15:40:59.788477Z",
     "iopub.status.busy": "2021-09-19T15:40:59.787830Z",
     "iopub.status.idle": "2021-09-19T15:40:59.792459Z",
     "shell.execute_reply": "2021-09-19T15:40:59.792968Z"
    }
   },
   "outputs": [
    {
     "data": {
      "text/plain": [
       "array([1., 1., 1., 1.])"
      ]
     },
     "execution_count": 23,
     "metadata": {},
     "output_type": "execute_result"
    }
   ],
   "source": [
    "a.flatten()"
   ]
  },
  {
   "cell_type": "code",
   "execution_count": 24,
   "id": "4143d724",
   "metadata": {
    "execution": {
     "iopub.execute_input": "2021-09-19T15:40:59.799904Z",
     "iopub.status.busy": "2021-09-19T15:40:59.798984Z",
     "iopub.status.idle": "2021-09-19T15:40:59.802088Z",
     "shell.execute_reply": "2021-09-19T15:40:59.802604Z"
    },
    "lines_to_next_cell": 2
   },
   "outputs": [
    {
     "data": {
      "text/plain": [
       "array([[1., 1.],\n",
       "       [1., 1.]])"
      ]
     },
     "execution_count": 24,
     "metadata": {},
     "output_type": "execute_result"
    }
   ],
   "source": [
    "a"
   ]
  },
  {
   "cell_type": "markdown",
   "id": "271006c7",
   "metadata": {},
   "source": [
    "### Combinación de arreglos (Stacking)"
   ]
  },
  {
   "cell_type": "code",
   "execution_count": 25,
   "id": "8d77ee53",
   "metadata": {
    "execution": {
     "iopub.execute_input": "2021-09-19T15:40:59.808206Z",
     "iopub.status.busy": "2021-09-19T15:40:59.807575Z",
     "iopub.status.idle": "2021-09-19T15:40:59.810095Z",
     "shell.execute_reply": "2021-09-19T15:40:59.810627Z"
    }
   },
   "outputs": [
    {
     "data": {
      "text/plain": [
       "array([0, 1, 2, 3, 4])"
      ]
     },
     "execution_count": 25,
     "metadata": {},
     "output_type": "execute_result"
    }
   ],
   "source": [
    "# Los arreglos se pueden combinar verticalmente (se incrementa la cantidad de filas)\n",
    "\n",
    "a = np.arange(0, 5)\n",
    "a"
   ]
  },
  {
   "cell_type": "code",
   "execution_count": 26,
   "id": "006567de",
   "metadata": {
    "execution": {
     "iopub.execute_input": "2021-09-19T15:40:59.813559Z",
     "iopub.status.busy": "2021-09-19T15:40:59.812939Z",
     "iopub.status.idle": "2021-09-19T15:40:59.819740Z",
     "shell.execute_reply": "2021-09-19T15:40:59.819188Z"
    }
   },
   "outputs": [
    {
     "data": {
      "text/plain": [
       "array([5, 6, 7, 8, 9])"
      ]
     },
     "execution_count": 26,
     "metadata": {},
     "output_type": "execute_result"
    }
   ],
   "source": [
    "b = np.arange(5, 10)\n",
    "b"
   ]
  },
  {
   "cell_type": "code",
   "execution_count": 27,
   "id": "d394c51c",
   "metadata": {
    "execution": {
     "iopub.execute_input": "2021-09-19T15:40:59.824963Z",
     "iopub.status.busy": "2021-09-19T15:40:59.822030Z",
     "iopub.status.idle": "2021-09-19T15:40:59.829390Z",
     "shell.execute_reply": "2021-09-19T15:40:59.828823Z"
    }
   },
   "outputs": [
    {
     "data": {
      "text/plain": [
       "array([[0, 1, 2, 3, 4],\n",
       "       [5, 6, 7, 8, 9]])"
      ]
     },
     "execution_count": 27,
     "metadata": {},
     "output_type": "execute_result"
    }
   ],
   "source": [
    "combinados_verticalmente = np.vstack((a, b))\n",
    "combinados_verticalmente"
   ]
  },
  {
   "cell_type": "code",
   "execution_count": 28,
   "id": "4dbe4403",
   "metadata": {
    "execution": {
     "iopub.execute_input": "2021-09-19T15:40:59.834724Z",
     "iopub.status.busy": "2021-09-19T15:40:59.834111Z",
     "iopub.status.idle": "2021-09-19T15:40:59.837942Z",
     "shell.execute_reply": "2021-09-19T15:40:59.837378Z"
    }
   },
   "outputs": [
    {
     "data": {
      "text/plain": [
       "array([0, 1, 2, 3, 4, 5, 6, 7, 8, 9])"
      ]
     },
     "execution_count": 28,
     "metadata": {},
     "output_type": "execute_result"
    }
   ],
   "source": [
    "# También se pueden combinar horizontalmente (se incrementa la cantidad de columnas)\n",
    "\n",
    "combinados_horizontalmente = np.hstack((a, b))\n",
    "combinados_horizontalmente"
   ]
  },
  {
   "cell_type": "markdown",
   "id": "5a076d21",
   "metadata": {},
   "source": [
    "### Operaciones matemáticas"
   ]
  },
  {
   "cell_type": "code",
   "execution_count": 29,
   "id": "5a05c73d",
   "metadata": {
    "execution": {
     "iopub.execute_input": "2021-09-19T15:40:59.845246Z",
     "iopub.status.busy": "2021-09-19T15:40:59.843640Z",
     "iopub.status.idle": "2021-09-19T15:40:59.847792Z",
     "shell.execute_reply": "2021-09-19T15:40:59.847215Z"
    }
   },
   "outputs": [
    {
     "data": {
      "text/plain": [
       "array([3, 4, 5, 6])"
      ]
     },
     "execution_count": 29,
     "metadata": {},
     "output_type": "execute_result"
    }
   ],
   "source": [
    "a = np.array([1, 2, 3, 4])\n",
    "\n",
    "a + 2"
   ]
  },
  {
   "cell_type": "code",
   "execution_count": 30,
   "id": "542808ae",
   "metadata": {
    "execution": {
     "iopub.execute_input": "2021-09-19T15:40:59.852208Z",
     "iopub.status.busy": "2021-09-19T15:40:59.851601Z",
     "iopub.status.idle": "2021-09-19T15:40:59.855194Z",
     "shell.execute_reply": "2021-09-19T15:40:59.854662Z"
    }
   },
   "outputs": [
    {
     "data": {
      "text/plain": [
       "array([ 1,  4,  9, 16])"
      ]
     },
     "execution_count": 30,
     "metadata": {},
     "output_type": "execute_result"
    }
   ],
   "source": [
    "a ** 2"
   ]
  },
  {
   "cell_type": "code",
   "execution_count": 31,
   "id": "01243517",
   "metadata": {
    "execution": {
     "iopub.execute_input": "2021-09-19T15:40:59.861353Z",
     "iopub.status.busy": "2021-09-19T15:40:59.860721Z",
     "iopub.status.idle": "2021-09-19T15:40:59.867680Z",
     "shell.execute_reply": "2021-09-19T15:40:59.867099Z"
    }
   },
   "outputs": [
    {
     "name": "stdout",
     "output_type": "stream",
     "text": [
      "b: [1. 1. 1. 1.]\n"
     ]
    },
    {
     "data": {
      "text/plain": [
       "array([2., 3., 4., 5.])"
      ]
     },
     "execution_count": 31,
     "metadata": {},
     "output_type": "execute_result"
    }
   ],
   "source": [
    "b = np.ones(4)\n",
    "print(f\"b: {b}\")\n",
    "a + b"
   ]
  },
  {
   "cell_type": "markdown",
   "id": "1ecc8d55",
   "metadata": {},
   "source": [
    "### Estadística"
   ]
  },
  {
   "cell_type": "code",
   "execution_count": 32,
   "id": "f001f624",
   "metadata": {
    "execution": {
     "iopub.execute_input": "2021-09-19T15:40:59.873340Z",
     "iopub.status.busy": "2021-09-19T15:40:59.872699Z",
     "iopub.status.idle": "2021-09-19T15:40:59.876089Z",
     "shell.execute_reply": "2021-09-19T15:40:59.875533Z"
    }
   },
   "outputs": [
    {
     "data": {
      "text/plain": [
       "1"
      ]
     },
     "execution_count": 32,
     "metadata": {},
     "output_type": "execute_result"
    }
   ],
   "source": [
    "a = np.array([[5, 2, 1, 8], [26, 4, 17, 9]])\n",
    "\n",
    "np.min(a)"
   ]
  },
  {
   "cell_type": "code",
   "execution_count": 33,
   "id": "26867415",
   "metadata": {
    "execution": {
     "iopub.execute_input": "2021-09-19T15:40:59.881529Z",
     "iopub.status.busy": "2021-09-19T15:40:59.880472Z",
     "iopub.status.idle": "2021-09-19T15:40:59.883227Z",
     "shell.execute_reply": "2021-09-19T15:40:59.883774Z"
    }
   },
   "outputs": [
    {
     "data": {
      "text/plain": [
       "26"
      ]
     },
     "execution_count": 33,
     "metadata": {},
     "output_type": "execute_result"
    }
   ],
   "source": [
    "np.max(a)"
   ]
  },
  {
   "cell_type": "code",
   "execution_count": 34,
   "id": "213e9e43",
   "metadata": {
    "execution": {
     "iopub.execute_input": "2021-09-19T15:40:59.888765Z",
     "iopub.status.busy": "2021-09-19T15:40:59.888090Z",
     "iopub.status.idle": "2021-09-19T15:40:59.891502Z",
     "shell.execute_reply": "2021-09-19T15:40:59.890886Z"
    }
   },
   "outputs": [
    {
     "data": {
      "text/plain": [
       "72"
      ]
     },
     "execution_count": 34,
     "metadata": {},
     "output_type": "execute_result"
    }
   ],
   "source": [
    "np.sum(a)"
   ]
  },
  {
   "cell_type": "markdown",
   "id": "14a22415",
   "metadata": {},
   "source": [
    "### Más magia"
   ]
  },
  {
   "cell_type": "code",
   "execution_count": 35,
   "id": "b1a73a6b",
   "metadata": {
    "execution": {
     "iopub.execute_input": "2021-09-19T15:40:59.898364Z",
     "iopub.status.busy": "2021-09-19T15:40:59.897720Z",
     "iopub.status.idle": "2021-09-19T15:40:59.900716Z",
     "shell.execute_reply": "2021-09-19T15:40:59.901193Z"
    }
   },
   "outputs": [
    {
     "data": {
      "text/plain": [
       "array([[False, False, False,  True],\n",
       "       [ True, False,  True,  True]])"
      ]
     },
     "execution_count": 35,
     "metadata": {},
     "output_type": "execute_result"
    }
   ],
   "source": [
    "a = np.array([[5, 2, 1, 8], [26, 4, 17, 9]])\n",
    "\n",
    "a > 5"
   ]
  },
  {
   "cell_type": "code",
   "execution_count": 36,
   "id": "fff7f6ec",
   "metadata": {
    "execution": {
     "iopub.execute_input": "2021-09-19T15:40:59.905942Z",
     "iopub.status.busy": "2021-09-19T15:40:59.905266Z",
     "iopub.status.idle": "2021-09-19T15:40:59.909658Z",
     "shell.execute_reply": "2021-09-19T15:40:59.910134Z"
    }
   },
   "outputs": [
    {
     "data": {
      "text/plain": [
       "array([ 8, 26, 17,  9])"
      ]
     },
     "execution_count": 36,
     "metadata": {},
     "output_type": "execute_result"
    }
   ],
   "source": [
    "a[a > 5]"
   ]
  },
  {
   "cell_type": "markdown",
   "id": "975ea83f",
   "metadata": {},
   "source": [
    "### Broadcasting"
   ]
  },
  {
   "cell_type": "markdown",
   "id": "5e5cd955",
   "metadata": {},
   "source": [
    "Permite realizar operaciones entre dos numpy arrays de distintas dimensiones.\n",
    "Para lograr esto, las dimensiones de los mismos deben ser compatibles. Dos dimensiones son compatibles cuando:\n",
    "1. Son iguales\n",
    "2. Alguna de las dos es 1"
   ]
  },
  {
   "cell_type": "code",
   "execution_count": 37,
   "id": "80c76d84",
   "metadata": {
    "execution": {
     "iopub.execute_input": "2021-09-19T15:40:59.917552Z",
     "iopub.status.busy": "2021-09-19T15:40:59.915618Z",
     "iopub.status.idle": "2021-09-19T15:40:59.920300Z",
     "shell.execute_reply": "2021-09-19T15:40:59.920826Z"
    }
   },
   "outputs": [
    {
     "data": {
      "text/plain": [
       "array([[ 5,  2,  1,  8],\n",
       "       [26,  4, 17,  9]])"
      ]
     },
     "execution_count": 37,
     "metadata": {},
     "output_type": "execute_result"
    }
   ],
   "source": [
    "a = np.array([[5, 2, 1, 8], [26, 4, 17, 9]])\n",
    "a"
   ]
  },
  {
   "cell_type": "code",
   "execution_count": 38,
   "id": "2eeb6719",
   "metadata": {
    "execution": {
     "iopub.execute_input": "2021-09-19T15:40:59.927081Z",
     "iopub.status.busy": "2021-09-19T15:40:59.926376Z",
     "iopub.status.idle": "2021-09-19T15:40:59.928921Z",
     "shell.execute_reply": "2021-09-19T15:40:59.929431Z"
    }
   },
   "outputs": [
    {
     "name": "stdout",
     "output_type": "stream",
     "text": [
      "a: (2, 4)\n",
      "b: (4,)\n",
      "\n",
      "a + b:\n",
      " [[10  4  2 16]\n",
      " [31  6 18 17]]\n"
     ]
    }
   ],
   "source": [
    "# Armamos un array que tenga la misma cantidad de columnas que a\n",
    "b = np.array([5, 2, 1, 8])\n",
    "print(f\"a: {a.shape}\")\n",
    "print(f\"b: {b.shape}\")\n",
    "# a + b\n",
    "print()\n",
    "print(f\"a + b:\\n {a + b}\")"
   ]
  },
  {
   "cell_type": "code",
   "execution_count": 39,
   "id": "c0e9823a",
   "metadata": {
    "execution": {
     "iopub.execute_input": "2021-09-19T15:40:59.932422Z",
     "iopub.status.busy": "2021-09-19T15:40:59.931751Z",
     "iopub.status.idle": "2021-09-19T15:41:00.019651Z",
     "shell.execute_reply": "2021-09-19T15:41:00.020190Z"
    },
    "tags": [
     "raises-exception"
    ]
   },
   "outputs": [
    {
     "name": "stdout",
     "output_type": "stream",
     "text": [
      "a: (2, 4)\n",
      "b: (3,)\n"
     ]
    },
    {
     "ename": "ValueError",
     "evalue": "operands could not be broadcast together with shapes (2,4) (3,) ",
     "output_type": "error",
     "traceback": [
      "\u001b[0;31m---------------------------------------------------------------------------\u001b[0m",
      "\u001b[0;31mValueError\u001b[0m                                Traceback (most recent call last)",
      "\u001b[0;32m/tmp/ipykernel_2053/261865458.py\u001b[0m in \u001b[0;36m<module>\u001b[0;34m\u001b[0m\n\u001b[1;32m      3\u001b[0m \u001b[0mprint\u001b[0m\u001b[0;34m(\u001b[0m\u001b[0;34mf\"a: {a.shape}\"\u001b[0m\u001b[0;34m)\u001b[0m\u001b[0;34m\u001b[0m\u001b[0;34m\u001b[0m\u001b[0m\n\u001b[1;32m      4\u001b[0m \u001b[0mprint\u001b[0m\u001b[0;34m(\u001b[0m\u001b[0;34mf\"b: {b.shape}\"\u001b[0m\u001b[0;34m)\u001b[0m\u001b[0;34m\u001b[0m\u001b[0;34m\u001b[0m\u001b[0m\n\u001b[0;32m----> 5\u001b[0;31m \u001b[0ma\u001b[0m \u001b[0;34m+\u001b[0m \u001b[0mb\u001b[0m\u001b[0;34m\u001b[0m\u001b[0;34m\u001b[0m\u001b[0m\n\u001b[0m",
      "\u001b[0;31mValueError\u001b[0m: operands could not be broadcast together with shapes (2,4) (3,) "
     ]
    }
   ],
   "source": [
    "# Armamos un array que tenga distinta cantidad de filas y columnas que a\n",
    "b = np.array([5, 1, 8])\n",
    "print(f\"a: {a.shape}\")\n",
    "print(f\"b: {b.shape}\")\n",
    "a + b"
   ]
  },
  {
   "cell_type": "code",
   "execution_count": 40,
   "id": "290179b0",
   "metadata": {
    "execution": {
     "iopub.execute_input": "2021-09-19T15:41:00.028607Z",
     "iopub.status.busy": "2021-09-19T15:41:00.027444Z",
     "iopub.status.idle": "2021-09-19T15:41:00.031769Z",
     "shell.execute_reply": "2021-09-19T15:41:00.031222Z"
    }
   },
   "outputs": [
    {
     "name": "stdout",
     "output_type": "stream",
     "text": [
      "a: (2, 4)\n",
      "b: (2, 1)\n"
     ]
    },
    {
     "data": {
      "text/plain": [
       "array([[ 7,  4,  3, 10],\n",
       "       [27,  5, 18, 10]])"
      ]
     },
     "execution_count": 40,
     "metadata": {},
     "output_type": "execute_result"
    }
   ],
   "source": [
    "# Armamos un array que tenga la misma cantidad de filas que a\n",
    "b = np.array([[2], [1]])\n",
    "print(f\"a: {a.shape}\")\n",
    "print(f\"b: {b.shape}\")\n",
    "a + b"
   ]
  },
  {
   "cell_type": "code",
   "execution_count": 41,
   "id": "fe579d7e",
   "metadata": {
    "execution": {
     "iopub.execute_input": "2021-09-19T15:41:00.037532Z",
     "iopub.status.busy": "2021-09-19T15:41:00.036531Z",
     "iopub.status.idle": "2021-09-19T15:41:00.039695Z",
     "shell.execute_reply": "2021-09-19T15:41:00.040226Z"
    }
   },
   "outputs": [
    {
     "data": {
      "text/plain": [
       "array([[ 9,  6,  5, 12],\n",
       "       [30,  8, 21, 13]])"
      ]
     },
     "execution_count": 41,
     "metadata": {},
     "output_type": "execute_result"
    }
   ],
   "source": [
    "# Si b es un entero\n",
    "b = 4\n",
    "a + b"
   ]
  },
  {
   "cell_type": "code",
   "execution_count": null,
   "id": "c3339ea0",
   "metadata": {},
   "outputs": [],
   "source": []
  }
 ],
 "metadata": {
  "jupytext": {
   "encoding": "# -*- coding: utf-8 -*-",
   "formats": "ipynb,py:light"
  },
  "kernelspec": {
   "display_name": "Python 3",
   "language": "python",
   "name": "python3"
  },
  "language_info": {
   "codemirror_mode": {
    "name": "ipython",
    "version": 3
   },
   "file_extension": ".py",
   "mimetype": "text/x-python",
   "name": "python",
   "nbconvert_exporter": "python",
   "pygments_lexer": "ipython3",
   "version": "3.7.12"
  }
 },
 "nbformat": 4,
 "nbformat_minor": 5
}
