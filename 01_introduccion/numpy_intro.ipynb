{
 "cells": [
  {
   "cell_type": "code",
   "execution_count": 1,
   "metadata": {
    "execution": {
     "iopub.execute_input": "2020-09-27T01:35:16.823976Z",
     "iopub.status.busy": "2020-09-27T01:35:16.823334Z",
     "iopub.status.idle": "2020-09-27T01:35:16.826958Z",
     "shell.execute_reply": "2020-09-27T01:35:16.827474Z"
    }
   },
   "outputs": [],
   "source": [
    "\n",
    "# # Clase 1 - Introducción a numpy\n",
    "\n",
    "# Numpy es una biblioteca para Python que facilita el manejo de arreglos multidimensionales y ofrece varias herramientas para trabajar con ellos. Muchas de las bibliotecas de Python que son ampliamente usadas hoy en día, como pandas, están construidas sobre numpy.\n",
    "\n",
    "# ## Listas de Python vs arreglos de Numpy\n",
    "\n",
    "# A primera vista, un arreglo de numpy puede resultar idéntico a una lista de python, pero a medida que la cantidad de datos comienza a incrementar, los arreglos de numpy terminan ofreciendo un manejo más eficiente de la memoria.\n",
    "\n",
    "# Para comenzar, vamos a crear un arreglo de numpy:"
   ]
  },
  {
   "cell_type": "code",
   "execution_count": 2,
   "metadata": {
    "execution": {
     "iopub.execute_input": "2020-09-27T01:35:16.831246Z",
     "iopub.status.busy": "2020-09-27T01:35:16.830745Z",
     "iopub.status.idle": "2020-09-27T01:35:16.906324Z",
     "shell.execute_reply": "2020-09-27T01:35:16.906856Z"
    }
   },
   "outputs": [
    {
     "data": {
      "text/plain": [
       "array([1, 2, 3, 4])"
      ]
     },
     "execution_count": 1,
     "metadata": {},
     "output_type": "execute_result"
    }
   ],
   "source": [
    "\n",
    "\n",
    "import numpy as np\n",
    "\n",
    "np.array([1, 2, 3, 4])\n",
    "\n",
    "\n",
    "# Los arreglos pueden ser también multidimensionales:"
   ]
  },
  {
   "cell_type": "code",
   "execution_count": 3,
   "metadata": {
    "execution": {
     "iopub.execute_input": "2020-09-27T01:35:16.909865Z",
     "iopub.status.busy": "2020-09-27T01:35:16.908831Z",
     "iopub.status.idle": "2020-09-27T01:35:16.915105Z",
     "shell.execute_reply": "2020-09-27T01:35:16.915794Z"
    }
   },
   "outputs": [
    {
     "data": {
      "text/plain": [
       "array([[1, 2, 3, 4],\n",
       "       [5, 6, 7, 8]])"
      ]
     },
     "execution_count": 1,
     "metadata": {},
     "output_type": "execute_result"
    }
   ],
   "source": [
    "\n",
    "\n",
    "np.array([[1, 2, 3, 4], [5, 6, 7, 8]])\n",
    "\n",
    "\n",
    "# Es importante tener en cuenta que un arreglo de numpy tiene un tipo fijo de datos, entonces si se quiere agregar un dato de un tipo diferente al de la mayoría, este va a ser modificado para adaptarse al resto"
   ]
  },
  {
   "cell_type": "code",
   "execution_count": 4,
   "metadata": {
    "execution": {
     "iopub.execute_input": "2020-09-27T01:35:16.918993Z",
     "iopub.status.busy": "2020-09-27T01:35:16.917949Z",
     "iopub.status.idle": "2020-09-27T01:35:16.923969Z",
     "shell.execute_reply": "2020-09-27T01:35:16.924710Z"
    }
   },
   "outputs": [
    {
     "data": {
      "text/plain": [
       "array([1, 8, 3, 4])"
      ]
     },
     "execution_count": 1,
     "metadata": {},
     "output_type": "execute_result"
    }
   ],
   "source": [
    "\n",
    "\n",
    "enteros = np.array([1, 2, 3, 4])\n",
    "\n",
    "# Agrego un elemento de tipo flotante en la posición 1\n",
    "\n",
    "enteros[1] = 8.4727\n",
    "enteros\n",
    "\n",
    "\n",
    "# Numpy también nos permite crear arreglos con valores aleatorios del 0 al 1"
   ]
  },
  {
   "cell_type": "code",
   "execution_count": 5,
   "metadata": {
    "execution": {
     "iopub.execute_input": "2020-09-27T01:35:16.927786Z",
     "iopub.status.busy": "2020-09-27T01:35:16.926797Z",
     "iopub.status.idle": "2020-09-27T01:35:16.932835Z",
     "shell.execute_reply": "2020-09-27T01:35:16.933509Z"
    }
   },
   "outputs": [
    {
     "data": {
      "text/plain": [
       "array([[0.16301634, 0.55023203, 0.34243156],\n",
       "       [0.67427931, 0.96962917, 0.25414998]])"
      ]
     },
     "execution_count": 1,
     "metadata": {},
     "output_type": "execute_result"
    }
   ],
   "source": [
    "\n",
    "\n",
    "# Basta con pasarle las dimensiones del arreglo que queremos crear\n",
    "\n",
    "np.random.rand(2, 3)\n",
    "\n",
    "\n",
    "# ## Slicing\n",
    "\n",
    "# De la misma forma que con las listas de python, pueden obtenerse slices de los arreglos de numpy"
   ]
  },
  {
   "cell_type": "code",
   "execution_count": 6,
   "metadata": {
    "execution": {
     "iopub.execute_input": "2020-09-27T01:35:16.936522Z",
     "iopub.status.busy": "2020-09-27T01:35:16.935515Z",
     "iopub.status.idle": "2020-09-27T01:35:16.941471Z",
     "shell.execute_reply": "2020-09-27T01:35:16.942144Z"
    },
    "lines_to_next_cell": 2
   },
   "outputs": [
    {
     "data": {
      "text/plain": [
       "array([1, 8])"
      ]
     },
     "execution_count": 1,
     "metadata": {},
     "output_type": "execute_result"
    }
   ],
   "source": [
    "\n",
    "\n",
    "enteros[:2]"
   ]
  },
  {
   "cell_type": "code",
   "execution_count": 7,
   "metadata": {
    "execution": {
     "iopub.execute_input": "2020-09-27T01:35:16.945304Z",
     "iopub.status.busy": "2020-09-27T01:35:16.944240Z",
     "iopub.status.idle": "2020-09-27T01:35:16.951831Z",
     "shell.execute_reply": "2020-09-27T01:35:16.952575Z"
    }
   },
   "outputs": [
    {
     "name": "stdout",
     "output_type": "stream",
     "text": [
      "Original: \n",
      "[[ 1  2  3  4]\n",
      " [ 5  6  7  8]\n",
      " [ 9 10 11 12]]\n",
      "\n",
      "Recortada: \n",
      "[[1 2 3]\n",
      " [5 6 7]]\n"
     ]
    }
   ],
   "source": [
    "\n",
    "\n",
    "matriz_de_enteros = np.array([[1, 2, 3, 4], [5, 6, 7, 8], [9, 10, 11, 12]])\n",
    "\n",
    "print('Original: ')\n",
    "print(matriz_de_enteros)\n",
    "\n",
    "print()\n",
    "\n",
    "print('Recortada: ')\n",
    "print(matriz_de_enteros[:2, :3])"
   ]
  },
  {
   "cell_type": "markdown",
   "metadata": {},
   "source": [
    "### Copia de arreglos"
   ]
  },
  {
   "cell_type": "code",
   "execution_count": 8,
   "metadata": {
    "execution": {
     "iopub.execute_input": "2020-09-27T01:35:16.955789Z",
     "iopub.status.busy": "2020-09-27T01:35:16.954781Z",
     "iopub.status.idle": "2020-09-27T01:35:16.960591Z",
     "shell.execute_reply": "2020-09-27T01:35:16.961326Z"
    }
   },
   "outputs": [
    {
     "data": {
      "text/plain": [
       "array([1, 2, 3, 4])"
      ]
     },
     "execution_count": 1,
     "metadata": {},
     "output_type": "execute_result"
    }
   ],
   "source": [
    "# Los arreglos no se copian con asignación\n",
    "\n",
    "a = np.array([1, 2, 3, 4])\n",
    "b = a\n",
    "b"
   ]
  },
  {
   "cell_type": "code",
   "execution_count": 9,
   "metadata": {
    "execution": {
     "iopub.execute_input": "2020-09-27T01:35:16.965544Z",
     "iopub.status.busy": "2020-09-27T01:35:16.963409Z",
     "iopub.status.idle": "2020-09-27T01:35:16.969962Z",
     "shell.execute_reply": "2020-09-27T01:35:16.969420Z"
    }
   },
   "outputs": [
    {
     "data": {
      "text/plain": [
       "array([ 1, 20,  3,  4])"
      ]
     },
     "execution_count": 1,
     "metadata": {},
     "output_type": "execute_result"
    }
   ],
   "source": [
    "b[1] = 20\n",
    "b"
   ]
  },
  {
   "cell_type": "code",
   "execution_count": 10,
   "metadata": {
    "execution": {
     "iopub.execute_input": "2020-09-27T01:35:16.973659Z",
     "iopub.status.busy": "2020-09-27T01:35:16.973173Z",
     "iopub.status.idle": "2020-09-27T01:35:16.977989Z",
     "shell.execute_reply": "2020-09-27T01:35:16.977524Z"
    }
   },
   "outputs": [
    {
     "data": {
      "text/plain": [
       "array([ 1, 20,  3,  4])"
      ]
     },
     "execution_count": 1,
     "metadata": {},
     "output_type": "execute_result"
    }
   ],
   "source": [
    "a"
   ]
  },
  {
   "cell_type": "code",
   "execution_count": 11,
   "metadata": {
    "execution": {
     "iopub.execute_input": "2020-09-27T01:35:16.982271Z",
     "iopub.status.busy": "2020-09-27T01:35:16.981604Z",
     "iopub.status.idle": "2020-09-27T01:35:16.986585Z",
     "shell.execute_reply": "2020-09-27T01:35:16.986124Z"
    }
   },
   "outputs": [
    {
     "data": {
      "text/plain": [
       "array([ 1, 20,  3,  4])"
      ]
     },
     "execution_count": 1,
     "metadata": {},
     "output_type": "execute_result"
    }
   ],
   "source": [
    "# Para copiar un arreglo a otra variable debemos usar copy()\n",
    "\n",
    "a = np.array([1, 2, 3, 4])\n",
    "b = a.copy()\n",
    "b[1] = 20\n",
    "b"
   ]
  },
  {
   "cell_type": "code",
   "execution_count": 12,
   "metadata": {
    "execution": {
     "iopub.execute_input": "2020-09-27T01:35:16.990195Z",
     "iopub.status.busy": "2020-09-27T01:35:16.989670Z",
     "iopub.status.idle": "2020-09-27T01:35:16.994379Z",
     "shell.execute_reply": "2020-09-27T01:35:16.993854Z"
    }
   },
   "outputs": [
    {
     "data": {
      "text/plain": [
       "array([1, 2, 3, 4])"
      ]
     },
     "execution_count": 1,
     "metadata": {},
     "output_type": "execute_result"
    }
   ],
   "source": [
    "a"
   ]
  },
  {
   "cell_type": "markdown",
   "metadata": {},
   "source": [
    "### Modificación de dimensiones"
   ]
  },
  {
   "cell_type": "markdown",
   "metadata": {},
   "source": [
    "Existen varias operaciones para cambiar la forma de un arreglo de numpy"
   ]
  },
  {
   "cell_type": "code",
   "execution_count": 13,
   "metadata": {
    "execution": {
     "iopub.execute_input": "2020-09-27T01:35:16.997826Z",
     "iopub.status.busy": "2020-09-27T01:35:16.997333Z",
     "iopub.status.idle": "2020-09-27T01:35:17.002184Z",
     "shell.execute_reply": "2020-09-27T01:35:17.001664Z"
    }
   },
   "outputs": [
    {
     "data": {
      "text/plain": [
       "2"
      ]
     },
     "execution_count": 1,
     "metadata": {},
     "output_type": "execute_result"
    }
   ],
   "source": [
    "# Obtener las dimensiones del arreglo\n",
    "\n",
    "matriz_de_enteros.ndim"
   ]
  },
  {
   "cell_type": "code",
   "execution_count": 14,
   "metadata": {
    "execution": {
     "iopub.execute_input": "2020-09-27T01:35:17.005687Z",
     "iopub.status.busy": "2020-09-27T01:35:17.005184Z",
     "iopub.status.idle": "2020-09-27T01:35:17.009619Z",
     "shell.execute_reply": "2020-09-27T01:35:17.008881Z"
    }
   },
   "outputs": [
    {
     "data": {
      "text/plain": [
       "(3, 4)"
      ]
     },
     "execution_count": 1,
     "metadata": {},
     "output_type": "execute_result"
    }
   ],
   "source": [
    "# Obtener la forma del arreglo\n",
    "\n",
    "matriz_de_enteros.shape"
   ]
  },
  {
   "cell_type": "code",
   "execution_count": 15,
   "metadata": {
    "execution": {
     "iopub.execute_input": "2020-09-27T01:35:17.013402Z",
     "iopub.status.busy": "2020-09-27T01:35:17.012958Z",
     "iopub.status.idle": "2020-09-27T01:35:17.017318Z",
     "shell.execute_reply": "2020-09-27T01:35:17.017764Z"
    }
   },
   "outputs": [
    {
     "data": {
      "text/plain": [
       "array([[ 3,  6],\n",
       "       [ 9, 12]])"
      ]
     },
     "execution_count": 1,
     "metadata": {},
     "output_type": "execute_result"
    }
   ],
   "source": [
    "# Modificar la forma de un arreglo\n",
    "\n",
    "enteros = np.array([3, 6, 9, 12])\n",
    "np.reshape(enteros, (2, 2))"
   ]
  },
  {
   "cell_type": "code",
   "execution_count": 16,
   "metadata": {
    "execution": {
     "iopub.execute_input": "2020-09-27T01:35:17.021608Z",
     "iopub.status.busy": "2020-09-27T01:35:17.021116Z",
     "iopub.status.idle": "2020-09-27T01:35:17.025991Z",
     "shell.execute_reply": "2020-09-27T01:35:17.025560Z"
    }
   },
   "outputs": [
    {
     "data": {
      "text/plain": [
       "array([[1., 1.],\n",
       "       [1., 1.]])"
      ]
     },
     "execution_count": 1,
     "metadata": {},
     "output_type": "execute_result"
    }
   ],
   "source": [
    "# Aplanar un arreglo\n",
    "\n",
    "a = np.ones((2, 2))\n",
    "a"
   ]
  },
  {
   "cell_type": "code",
   "execution_count": 17,
   "metadata": {
    "execution": {
     "iopub.execute_input": "2020-09-27T01:35:17.029576Z",
     "iopub.status.busy": "2020-09-27T01:35:17.029080Z",
     "iopub.status.idle": "2020-09-27T01:35:17.033965Z",
     "shell.execute_reply": "2020-09-27T01:35:17.033498Z"
    }
   },
   "outputs": [
    {
     "data": {
      "text/plain": [
       "array([1., 1., 1., 1.])"
      ]
     },
     "execution_count": 1,
     "metadata": {},
     "output_type": "execute_result"
    }
   ],
   "source": [
    "a.flatten()"
   ]
  },
  {
   "cell_type": "code",
   "execution_count": 18,
   "metadata": {
    "execution": {
     "iopub.execute_input": "2020-09-27T01:35:17.037447Z",
     "iopub.status.busy": "2020-09-27T01:35:17.036960Z",
     "iopub.status.idle": "2020-09-27T01:35:17.042029Z",
     "shell.execute_reply": "2020-09-27T01:35:17.041518Z"
    },
    "lines_to_next_cell": 2
   },
   "outputs": [
    {
     "data": {
      "text/plain": [
       "array([[1., 1.],\n",
       "       [1., 1.]])"
      ]
     },
     "execution_count": 1,
     "metadata": {},
     "output_type": "execute_result"
    }
   ],
   "source": [
    "a"
   ]
  },
  {
   "cell_type": "markdown",
   "metadata": {},
   "source": [
    "### Combinación de arreglos (Stacking)"
   ]
  },
  {
   "cell_type": "code",
   "execution_count": 19,
   "metadata": {
    "execution": {
     "iopub.execute_input": "2020-09-27T01:35:17.045592Z",
     "iopub.status.busy": "2020-09-27T01:35:17.045101Z",
     "iopub.status.idle": "2020-09-27T01:35:17.049730Z",
     "shell.execute_reply": "2020-09-27T01:35:17.050325Z"
    }
   },
   "outputs": [
    {
     "data": {
      "text/plain": [
       "array([0, 1, 2, 3, 4])"
      ]
     },
     "execution_count": 1,
     "metadata": {},
     "output_type": "execute_result"
    }
   ],
   "source": [
    "# Los arreglos se pueden combinar verticalmente (se incrementa la cantidad de filas)\n",
    "\n",
    "a = np.arange(0, 5)\n",
    "a"
   ]
  },
  {
   "cell_type": "code",
   "execution_count": 20,
   "metadata": {
    "execution": {
     "iopub.execute_input": "2020-09-27T01:35:17.053890Z",
     "iopub.status.busy": "2020-09-27T01:35:17.053391Z",
     "iopub.status.idle": "2020-09-27T01:35:17.058245Z",
     "shell.execute_reply": "2020-09-27T01:35:17.057813Z"
    }
   },
   "outputs": [
    {
     "data": {
      "text/plain": [
       "array([5, 6, 7, 8, 9])"
      ]
     },
     "execution_count": 1,
     "metadata": {},
     "output_type": "execute_result"
    }
   ],
   "source": [
    "b = np.arange(5, 10)\n",
    "b"
   ]
  },
  {
   "cell_type": "code",
   "execution_count": 21,
   "metadata": {
    "execution": {
     "iopub.execute_input": "2020-09-27T01:35:17.061867Z",
     "iopub.status.busy": "2020-09-27T01:35:17.061367Z",
     "iopub.status.idle": "2020-09-27T01:35:17.066243Z",
     "shell.execute_reply": "2020-09-27T01:35:17.065680Z"
    }
   },
   "outputs": [
    {
     "data": {
      "text/plain": [
       "array([[0, 1, 2, 3, 4],\n",
       "       [5, 6, 7, 8, 9]])"
      ]
     },
     "execution_count": 1,
     "metadata": {},
     "output_type": "execute_result"
    }
   ],
   "source": [
    "combinados_verticalmente = np.vstack((a, b))\n",
    "combinados_verticalmente"
   ]
  },
  {
   "cell_type": "code",
   "execution_count": 22,
   "metadata": {
    "execution": {
     "iopub.execute_input": "2020-09-27T01:35:17.070029Z",
     "iopub.status.busy": "2020-09-27T01:35:17.069499Z",
     "iopub.status.idle": "2020-09-27T01:35:17.073699Z",
     "shell.execute_reply": "2020-09-27T01:35:17.073180Z"
    }
   },
   "outputs": [
    {
     "data": {
      "text/plain": [
       "array([0, 1, 2, 3, 4, 5, 6, 7, 8, 9])"
      ]
     },
     "execution_count": 1,
     "metadata": {},
     "output_type": "execute_result"
    }
   ],
   "source": [
    "# También se pueden combinar horizontalmente (se incrementa la cantidad de columnas)\n",
    "\n",
    "combinados_horizontalmente = np.hstack((a, b))\n",
    "combinados_horizontalmente"
   ]
  },
  {
   "cell_type": "markdown",
   "metadata": {},
   "source": [
    "### Operaciones matemáticas"
   ]
  },
  {
   "cell_type": "code",
   "execution_count": 23,
   "metadata": {
    "execution": {
     "iopub.execute_input": "2020-09-27T01:35:17.077415Z",
     "iopub.status.busy": "2020-09-27T01:35:17.076917Z",
     "iopub.status.idle": "2020-09-27T01:35:17.079770Z",
     "shell.execute_reply": "2020-09-27T01:35:17.079250Z"
    }
   },
   "outputs": [
    {
     "data": {
      "text/plain": [
       "array([3, 4, 5, 6])"
      ]
     },
     "execution_count": 1,
     "metadata": {},
     "output_type": "execute_result"
    }
   ],
   "source": [
    "a = np.array([1, 2, 3, 4])\n",
    "\n",
    "a + 2"
   ]
  },
  {
   "cell_type": "code",
   "execution_count": 24,
   "metadata": {
    "execution": {
     "iopub.execute_input": "2020-09-27T01:35:17.083119Z",
     "iopub.status.busy": "2020-09-27T01:35:17.082633Z",
     "iopub.status.idle": "2020-09-27T01:35:17.085566Z",
     "shell.execute_reply": "2020-09-27T01:35:17.085114Z"
    }
   },
   "outputs": [
    {
     "data": {
      "text/plain": [
       "array([ 1,  4,  9, 16])"
      ]
     },
     "execution_count": 1,
     "metadata": {},
     "output_type": "execute_result"
    }
   ],
   "source": [
    "a ** 2"
   ]
  },
  {
   "cell_type": "code",
   "execution_count": 25,
   "metadata": {
    "execution": {
     "iopub.execute_input": "2020-09-27T01:35:17.089426Z",
     "iopub.status.busy": "2020-09-27T01:35:17.088884Z",
     "iopub.status.idle": "2020-09-27T01:35:17.093796Z",
     "shell.execute_reply": "2020-09-27T01:35:17.093366Z"
    }
   },
   "outputs": [
    {
     "data": {
      "text/plain": [
       "array([2., 3., 4., 5.])"
      ]
     },
     "execution_count": 1,
     "metadata": {},
     "output_type": "execute_result"
    }
   ],
   "source": [
    "b = np.ones(4)\n",
    "a + b"
   ]
  },
  {
   "cell_type": "markdown",
   "metadata": {},
   "source": [
    "### Estadística"
   ]
  },
  {
   "cell_type": "code",
   "execution_count": 26,
   "metadata": {
    "execution": {
     "iopub.execute_input": "2020-09-27T01:35:17.097791Z",
     "iopub.status.busy": "2020-09-27T01:35:17.097258Z",
     "iopub.status.idle": "2020-09-27T01:35:17.102856Z",
     "shell.execute_reply": "2020-09-27T01:35:17.102289Z"
    }
   },
   "outputs": [
    {
     "data": {
      "text/plain": [
       "1"
      ]
     },
     "execution_count": 1,
     "metadata": {},
     "output_type": "execute_result"
    }
   ],
   "source": [
    "a = np.array([[5, 2, 1, 8], [26, 4, 17, 9]])\n",
    "\n",
    "np.min(a)"
   ]
  },
  {
   "cell_type": "code",
   "execution_count": 27,
   "metadata": {
    "execution": {
     "iopub.execute_input": "2020-09-27T01:35:17.106700Z",
     "iopub.status.busy": "2020-09-27T01:35:17.106174Z",
     "iopub.status.idle": "2020-09-27T01:35:17.111471Z",
     "shell.execute_reply": "2020-09-27T01:35:17.111030Z"
    }
   },
   "outputs": [
    {
     "data": {
      "text/plain": [
       "26"
      ]
     },
     "execution_count": 1,
     "metadata": {},
     "output_type": "execute_result"
    }
   ],
   "source": [
    "np.max(a)"
   ]
  },
  {
   "cell_type": "code",
   "execution_count": 28,
   "metadata": {
    "execution": {
     "iopub.execute_input": "2020-09-27T01:35:17.115034Z",
     "iopub.status.busy": "2020-09-27T01:35:17.114543Z",
     "iopub.status.idle": "2020-09-27T01:35:17.119465Z",
     "shell.execute_reply": "2020-09-27T01:35:17.118907Z"
    }
   },
   "outputs": [
    {
     "data": {
      "text/plain": [
       "72"
      ]
     },
     "execution_count": 1,
     "metadata": {},
     "output_type": "execute_result"
    }
   ],
   "source": [
    "np.sum(a)"
   ]
  },
  {
   "cell_type": "markdown",
   "metadata": {},
   "source": [
    "### Más magia"
   ]
  },
  {
   "cell_type": "code",
   "execution_count": 29,
   "metadata": {
    "execution": {
     "iopub.execute_input": "2020-09-27T01:35:17.123913Z",
     "iopub.status.busy": "2020-09-27T01:35:17.123283Z",
     "iopub.status.idle": "2020-09-27T01:35:17.125742Z",
     "shell.execute_reply": "2020-09-27T01:35:17.126170Z"
    }
   },
   "outputs": [
    {
     "data": {
      "text/plain": [
       "array([[False, False, False,  True],\n",
       "       [ True, False,  True,  True]])"
      ]
     },
     "execution_count": 1,
     "metadata": {},
     "output_type": "execute_result"
    }
   ],
   "source": [
    "a = np.array([[5, 2, 1, 8], [26, 4, 17, 9]])\n",
    "\n",
    "a > 5"
   ]
  },
  {
   "cell_type": "code",
   "execution_count": 30,
   "metadata": {
    "execution": {
     "iopub.execute_input": "2020-09-27T01:35:17.130027Z",
     "iopub.status.busy": "2020-09-27T01:35:17.129506Z",
     "iopub.status.idle": "2020-09-27T01:35:17.134154Z",
     "shell.execute_reply": "2020-09-27T01:35:17.134585Z"
    }
   },
   "outputs": [
    {
     "data": {
      "text/plain": [
       "array([ 8, 26, 17,  9])"
      ]
     },
     "execution_count": 1,
     "metadata": {},
     "output_type": "execute_result"
    }
   ],
   "source": [
    "a[a > 5]"
   ]
  },
  {
   "cell_type": "code",
   "execution_count": null,
   "metadata": {},
   "outputs": [],
   "source": []
  }
 ],
 "metadata": {
  "jupytext": {
   "cell_metadata_filter": "-all",
   "encoding": "# coding: utf-8",
   "executable": "/usr/bin/env python"
  },
  "kernelspec": {
   "display_name": "Python 3",
   "language": "python",
   "name": "python3"
  },
  "language_info": {
   "codemirror_mode": {
    "name": "ipython",
    "version": 3
   },
   "file_extension": ".py",
   "mimetype": "text/x-python",
   "name": "python",
   "nbconvert_exporter": "python",
   "pygments_lexer": "ipython3",
   "version": "3.7.9"
  }
 },
 "nbformat": 4,
 "nbformat_minor": 4
}
