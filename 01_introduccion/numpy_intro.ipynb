{
 "cells": [
  {
   "cell_type": "markdown",
   "id": "6325c91a",
   "metadata": {},
   "source": [
    "## Clase 1 - Introducción a Numpy\n",
    "\n",
    "Numpy es una biblioteca para Python que facilita el manejo de arreglos multidimensionales y ofrece varias herramientas para trabajar con ellos. Muchas de las bibliotecas de Python que son ampliamente usadas hoy en día, como pandas, están construidas sobre numpy.\n",
    "\n",
    "### Listas de Python vs arreglos de Numpy\n",
    "\n",
    "A primera vista, un arreglo de numpy puede resultar idéntico a una lista de python, pero a medida que la cantidad de datos comienza a incrementar, los arreglos de numpy terminan ofreciendo un manejo más eficiente de la memoria.\n",
    "\n",
    "Para comenzar, vamos a crear un arreglo de numpy:"
   ]
  },
  {
   "cell_type": "code",
   "execution_count": 1,
   "id": "04f044a8",
   "metadata": {
    "execution": {
     "iopub.execute_input": "2021-05-05T14:44:11.377763Z",
     "iopub.status.busy": "2021-05-05T14:44:11.376735Z",
     "iopub.status.idle": "2021-05-05T14:44:11.611940Z",
     "shell.execute_reply": "2021-05-05T14:44:11.610777Z"
    }
   },
   "outputs": [
    {
     "data": {
      "text/plain": [
       "array([1, 2, 3, 4])"
      ]
     },
     "execution_count": 1,
     "metadata": {},
     "output_type": "execute_result"
    }
   ],
   "source": [
    "import numpy as np\n",
    "\n",
    "np.array([1, 2, 3, 4])"
   ]
  },
  {
   "cell_type": "markdown",
   "id": "a1698d2a",
   "metadata": {},
   "source": [
    "Los arreglos pueden ser también multidimensionales:"
   ]
  },
  {
   "cell_type": "code",
   "execution_count": 2,
   "id": "5b8f51c6",
   "metadata": {
    "execution": {
     "iopub.execute_input": "2021-05-05T14:44:11.617572Z",
     "iopub.status.busy": "2021-05-05T14:44:11.616953Z",
     "iopub.status.idle": "2021-05-05T14:44:11.623048Z",
     "shell.execute_reply": "2021-05-05T14:44:11.622507Z"
    }
   },
   "outputs": [
    {
     "data": {
      "text/plain": [
       "array([[1, 2, 3, 4],\n",
       "       [5, 6, 7, 8]])"
      ]
     },
     "execution_count": 1,
     "metadata": {},
     "output_type": "execute_result"
    }
   ],
   "source": [
    "np.array([[1, 2, 3, 4], [5, 6, 7, 8]])"
   ]
  },
  {
   "cell_type": "markdown",
   "id": "0ef1662d",
   "metadata": {},
   "source": [
    "Es importante tener en cuenta que un arreglo de numpy tiene un tipo fijo de datos, entonces si se quiere agregar un dato de un tipo diferente al de la mayoría, este va a ser modificado para adaptarse al resto"
   ]
  },
  {
   "cell_type": "code",
   "execution_count": 3,
   "id": "edeffb16",
   "metadata": {
    "execution": {
     "iopub.execute_input": "2021-05-05T14:44:11.627190Z",
     "iopub.status.busy": "2021-05-05T14:44:11.626582Z",
     "iopub.status.idle": "2021-05-05T14:44:11.630819Z",
     "shell.execute_reply": "2021-05-05T14:44:11.630222Z"
    }
   },
   "outputs": [],
   "source": [
    "enteros = np.array([1, 2, 3, 4])"
   ]
  },
  {
   "cell_type": "markdown",
   "id": "2e767cff",
   "metadata": {},
   "source": [
    "Agrego un elemento de tipo flotante en la posición 1"
   ]
  },
  {
   "cell_type": "code",
   "execution_count": 4,
   "id": "d50f3859",
   "metadata": {
    "execution": {
     "iopub.execute_input": "2021-05-05T14:44:11.636574Z",
     "iopub.status.busy": "2021-05-05T14:44:11.635513Z",
     "iopub.status.idle": "2021-05-05T14:44:11.639125Z",
     "shell.execute_reply": "2021-05-05T14:44:11.638537Z"
    }
   },
   "outputs": [
    {
     "data": {
      "text/plain": [
       "array([1, 8, 3, 4])"
      ]
     },
     "execution_count": 1,
     "metadata": {},
     "output_type": "execute_result"
    }
   ],
   "source": [
    "enteros[1] = 8.4727\n",
    "enteros"
   ]
  },
  {
   "cell_type": "markdown",
   "id": "31a0b8fc",
   "metadata": {},
   "source": [
    "Numpy también nos permite crear arreglos con valores aleatorios del 0 al 1.\n",
    "Basta con pasarle las dimensiones del arreglo que queremos crear."
   ]
  },
  {
   "cell_type": "code",
   "execution_count": 5,
   "id": "0b2bdff7",
   "metadata": {
    "execution": {
     "iopub.execute_input": "2021-05-05T14:44:11.645501Z",
     "iopub.status.busy": "2021-05-05T14:44:11.644363Z",
     "iopub.status.idle": "2021-05-05T14:44:11.647485Z",
     "shell.execute_reply": "2021-05-05T14:44:11.648012Z"
    }
   },
   "outputs": [
    {
     "data": {
      "text/plain": [
       "array([[0.42707141, 0.95676985, 0.91172257],\n",
       "       [0.16271166, 0.03156723, 0.7118431 ]])"
      ]
     },
     "execution_count": 1,
     "metadata": {},
     "output_type": "execute_result"
    }
   ],
   "source": [
    "np.random.rand(2, 3)"
   ]
  },
  {
   "cell_type": "markdown",
   "id": "c3feeb75",
   "metadata": {},
   "source": [
    "## Slicing\n",
    "\n",
    "De la misma forma que con las listas de python, pueden obtenerse slices de los arreglos de numpy"
   ]
  },
  {
   "cell_type": "code",
   "execution_count": 6,
   "id": "465f8b57",
   "metadata": {
    "execution": {
     "iopub.execute_input": "2021-05-05T14:44:11.653890Z",
     "iopub.status.busy": "2021-05-05T14:44:11.652806Z",
     "iopub.status.idle": "2021-05-05T14:44:11.655883Z",
     "shell.execute_reply": "2021-05-05T14:44:11.656354Z"
    },
    "lines_to_next_cell": 2
   },
   "outputs": [
    {
     "data": {
      "text/plain": [
       "array([1, 8])"
      ]
     },
     "execution_count": 1,
     "metadata": {},
     "output_type": "execute_result"
    }
   ],
   "source": [
    "enteros[:2]"
   ]
  },
  {
   "cell_type": "code",
   "execution_count": 7,
   "id": "c1e2c618",
   "metadata": {
    "execution": {
     "iopub.execute_input": "2021-05-05T14:44:11.664435Z",
     "iopub.status.busy": "2021-05-05T14:44:11.662982Z",
     "iopub.status.idle": "2021-05-05T14:44:11.666529Z",
     "shell.execute_reply": "2021-05-05T14:44:11.666004Z"
    }
   },
   "outputs": [
    {
     "name": "stdout",
     "output_type": "stream",
     "text": [
      "Original: \n",
      "[[ 1  2  3  4]\n",
      " [ 5  6  7  8]\n",
      " [ 9 10 11 12]]\n",
      "\n",
      "Recortada: \n",
      "[[1 2 3]\n",
      " [5 6 7]]\n"
     ]
    }
   ],
   "source": [
    "matriz_de_enteros = np.array([[1, 2, 3, 4], [5, 6, 7, 8], [9, 10, 11, 12]])\n",
    "\n",
    "print('Original: ')\n",
    "print(matriz_de_enteros)\n",
    "\n",
    "print()\n",
    "\n",
    "print('Recortada: ')\n",
    "print(matriz_de_enteros[:2, :3])"
   ]
  },
  {
   "cell_type": "code",
   "execution_count": 8,
   "id": "cdca1eb4",
   "metadata": {
    "execution": {
     "iopub.execute_input": "2021-05-05T14:44:11.673145Z",
     "iopub.status.busy": "2021-05-05T14:44:11.672057Z",
     "iopub.status.idle": "2021-05-05T14:44:11.675155Z",
     "shell.execute_reply": "2021-05-05T14:44:11.675660Z"
    }
   },
   "outputs": [
    {
     "data": {
      "text/plain": [
       "array([[[ 0,  1,  2,  3,  4],\n",
       "        [ 5,  6,  7,  8,  9],\n",
       "        [10, 11, 12, 13, 14]],\n",
       "\n",
       "       [[15, 16, 17, 18, 19],\n",
       "        [20, 21, 22, 23, 24],\n",
       "        [25, 26, 27, 28, 29]],\n",
       "\n",
       "       [[30, 31, 32, 33, 34],\n",
       "        [35, 36, 37, 38, 39],\n",
       "        [40, 41, 42, 43, 44]]])"
      ]
     },
     "execution_count": 1,
     "metadata": {},
     "output_type": "execute_result"
    }
   ],
   "source": [
    "# 3D\n",
    "# arange() genera valores de un intervalo pasado por parámetro\n",
    "# reshape() modifica la forma del numpy array\n",
    "\n",
    "x = np.arange(45).reshape(3, 3, 5)\n",
    "x"
   ]
  },
  {
   "cell_type": "code",
   "execution_count": 9,
   "id": "61b59aa0",
   "metadata": {
    "execution": {
     "iopub.execute_input": "2021-05-05T14:44:11.681411Z",
     "iopub.status.busy": "2021-05-05T14:44:11.680206Z",
     "iopub.status.idle": "2021-05-05T14:44:11.683234Z",
     "shell.execute_reply": "2021-05-05T14:44:11.683731Z"
    }
   },
   "outputs": [
    {
     "data": {
      "text/plain": [
       "array([[ 0,  1,  2,  3,  4],\n",
       "       [ 5,  6,  7,  8,  9],\n",
       "       [10, 11, 12, 13, 14]])"
      ]
     },
     "execution_count": 1,
     "metadata": {},
     "output_type": "execute_result"
    }
   ],
   "source": [
    "x[0]"
   ]
  },
  {
   "cell_type": "code",
   "execution_count": 10,
   "id": "1013abe6",
   "metadata": {
    "execution": {
     "iopub.execute_input": "2021-05-05T14:44:11.689072Z",
     "iopub.status.busy": "2021-05-05T14:44:11.688032Z",
     "iopub.status.idle": "2021-05-05T14:44:11.691269Z",
     "shell.execute_reply": "2021-05-05T14:44:11.691869Z"
    }
   },
   "outputs": [
    {
     "data": {
      "text/plain": [
       "array([5, 6, 7, 8, 9])"
      ]
     },
     "execution_count": 1,
     "metadata": {},
     "output_type": "execute_result"
    }
   ],
   "source": [
    "x[0][1]"
   ]
  },
  {
   "cell_type": "code",
   "execution_count": 11,
   "id": "598dfd6b",
   "metadata": {
    "execution": {
     "iopub.execute_input": "2021-05-05T14:44:11.697724Z",
     "iopub.status.busy": "2021-05-05T14:44:11.696179Z",
     "iopub.status.idle": "2021-05-05T14:44:11.700501Z",
     "shell.execute_reply": "2021-05-05T14:44:11.699930Z"
    }
   },
   "outputs": [
    {
     "data": {
      "text/plain": [
       "7"
      ]
     },
     "execution_count": 1,
     "metadata": {},
     "output_type": "execute_result"
    }
   ],
   "source": [
    "x[0][1][2]"
   ]
  },
  {
   "cell_type": "markdown",
   "id": "5f035980",
   "metadata": {},
   "source": [
    "\n",
    "¿Cómo conseguimos estos valores? ([fuente](https://towardsdatascience.com/indexing-and-slicing-of-1d-2d-and-3d-arrays-in-numpy-e731afff0bbe))\n",
    "\n",
    "![title](img/matrix.png)"
   ]
  },
  {
   "cell_type": "code",
   "execution_count": 12,
   "id": "770d65bd",
   "metadata": {
    "execution": {
     "iopub.execute_input": "2021-05-05T14:44:11.705987Z",
     "iopub.status.busy": "2021-05-05T14:44:11.705280Z",
     "iopub.status.idle": "2021-05-05T14:44:11.708529Z",
     "shell.execute_reply": "2021-05-05T14:44:11.708994Z"
    }
   },
   "outputs": [
    {
     "data": {
      "text/plain": [
       "array([[[16, 17, 18],\n",
       "        [21, 22, 23]],\n",
       "\n",
       "       [[31, 32, 33],\n",
       "        [36, 37, 38]]])"
      ]
     },
     "execution_count": 1,
     "metadata": {},
     "output_type": "execute_result"
    }
   ],
   "source": [
    "x[1:, 0:2, 1:4]"
   ]
  },
  {
   "cell_type": "markdown",
   "id": "d367d2d5",
   "metadata": {},
   "source": [
    "### Copia de arreglos"
   ]
  },
  {
   "cell_type": "code",
   "execution_count": 13,
   "id": "694f619d",
   "metadata": {
    "execution": {
     "iopub.execute_input": "2021-05-05T14:44:11.714117Z",
     "iopub.status.busy": "2021-05-05T14:44:11.713348Z",
     "iopub.status.idle": "2021-05-05T14:44:11.715943Z",
     "shell.execute_reply": "2021-05-05T14:44:11.716531Z"
    }
   },
   "outputs": [
    {
     "data": {
      "text/plain": [
       "array([1, 2, 3, 4])"
      ]
     },
     "execution_count": 1,
     "metadata": {},
     "output_type": "execute_result"
    }
   ],
   "source": [
    "# Los arreglos no se copian con asignación\n",
    "\n",
    "a = np.array([1, 2, 3, 4])\n",
    "b = a\n",
    "b"
   ]
  },
  {
   "cell_type": "code",
   "execution_count": 14,
   "id": "7e02c636",
   "metadata": {
    "execution": {
     "iopub.execute_input": "2021-05-05T14:44:11.720779Z",
     "iopub.status.busy": "2021-05-05T14:44:11.720170Z",
     "iopub.status.idle": "2021-05-05T14:44:11.722972Z",
     "shell.execute_reply": "2021-05-05T14:44:11.723536Z"
    }
   },
   "outputs": [
    {
     "data": {
      "text/plain": [
       "array([ 1, 20,  3,  4])"
      ]
     },
     "execution_count": 1,
     "metadata": {},
     "output_type": "execute_result"
    }
   ],
   "source": [
    "b[1] = 20\n",
    "b"
   ]
  },
  {
   "cell_type": "code",
   "execution_count": 15,
   "id": "485a27e6",
   "metadata": {
    "execution": {
     "iopub.execute_input": "2021-05-05T14:44:11.727681Z",
     "iopub.status.busy": "2021-05-05T14:44:11.727050Z",
     "iopub.status.idle": "2021-05-05T14:44:11.730169Z",
     "shell.execute_reply": "2021-05-05T14:44:11.730676Z"
    }
   },
   "outputs": [
    {
     "data": {
      "text/plain": [
       "array([ 1, 20,  3,  4])"
      ]
     },
     "execution_count": 1,
     "metadata": {},
     "output_type": "execute_result"
    }
   ],
   "source": [
    "a"
   ]
  },
  {
   "cell_type": "code",
   "execution_count": 16,
   "id": "c5702309",
   "metadata": {
    "execution": {
     "iopub.execute_input": "2021-05-05T14:44:11.736543Z",
     "iopub.status.busy": "2021-05-05T14:44:11.735895Z",
     "iopub.status.idle": "2021-05-05T14:44:11.738319Z",
     "shell.execute_reply": "2021-05-05T14:44:11.738819Z"
    }
   },
   "outputs": [
    {
     "data": {
      "text/plain": [
       "array([ 1, 20,  3,  4])"
      ]
     },
     "execution_count": 1,
     "metadata": {},
     "output_type": "execute_result"
    }
   ],
   "source": [
    "# Para copiar un arreglo a otra variable debemos usar copy()\n",
    "\n",
    "a = np.array([1, 2, 3, 4])\n",
    "b = a.copy()\n",
    "b[1] = 20\n",
    "b"
   ]
  },
  {
   "cell_type": "code",
   "execution_count": 17,
   "id": "cfe45230",
   "metadata": {
    "execution": {
     "iopub.execute_input": "2021-05-05T14:44:11.743362Z",
     "iopub.status.busy": "2021-05-05T14:44:11.742688Z",
     "iopub.status.idle": "2021-05-05T14:44:11.745167Z",
     "shell.execute_reply": "2021-05-05T14:44:11.745757Z"
    }
   },
   "outputs": [
    {
     "data": {
      "text/plain": [
       "array([1, 2, 3, 4])"
      ]
     },
     "execution_count": 1,
     "metadata": {},
     "output_type": "execute_result"
    }
   ],
   "source": [
    "a"
   ]
  },
  {
   "cell_type": "markdown",
   "id": "7aa33827",
   "metadata": {},
   "source": [
    "### Modificación de dimensiones"
   ]
  },
  {
   "cell_type": "markdown",
   "id": "b97850a8",
   "metadata": {},
   "source": [
    "Existen varias operaciones para cambiar la forma de un arreglo de numpy"
   ]
  },
  {
   "cell_type": "code",
   "execution_count": 18,
   "id": "b99b1cd6",
   "metadata": {
    "execution": {
     "iopub.execute_input": "2021-05-05T14:44:11.750040Z",
     "iopub.status.busy": "2021-05-05T14:44:11.749460Z",
     "iopub.status.idle": "2021-05-05T14:44:11.757250Z",
     "shell.execute_reply": "2021-05-05T14:44:11.757836Z"
    }
   },
   "outputs": [
    {
     "data": {
      "text/plain": [
       "array([[ 1,  2,  3,  4],\n",
       "       [ 5,  6,  7,  8],\n",
       "       [ 9, 10, 11, 12]])"
      ]
     },
     "execution_count": 1,
     "metadata": {},
     "output_type": "execute_result"
    }
   ],
   "source": [
    "matriz_de_enteros"
   ]
  },
  {
   "cell_type": "code",
   "execution_count": 19,
   "id": "57bd7f5e",
   "metadata": {
    "execution": {
     "iopub.execute_input": "2021-05-05T14:44:11.763552Z",
     "iopub.status.busy": "2021-05-05T14:44:11.762417Z",
     "iopub.status.idle": "2021-05-05T14:44:11.766249Z",
     "shell.execute_reply": "2021-05-05T14:44:11.765677Z"
    }
   },
   "outputs": [
    {
     "data": {
      "text/plain": [
       "2"
      ]
     },
     "execution_count": 1,
     "metadata": {},
     "output_type": "execute_result"
    }
   ],
   "source": [
    "# Obtener las dimensiones del arreglo\n",
    "\n",
    "matriz_de_enteros.ndim"
   ]
  },
  {
   "cell_type": "code",
   "execution_count": 20,
   "id": "d8e4f68c",
   "metadata": {
    "execution": {
     "iopub.execute_input": "2021-05-05T14:44:11.770720Z",
     "iopub.status.busy": "2021-05-05T14:44:11.770132Z",
     "iopub.status.idle": "2021-05-05T14:44:11.772661Z",
     "shell.execute_reply": "2021-05-05T14:44:11.773273Z"
    }
   },
   "outputs": [
    {
     "data": {
      "text/plain": [
       "(3, 4)"
      ]
     },
     "execution_count": 1,
     "metadata": {},
     "output_type": "execute_result"
    }
   ],
   "source": [
    "# Obtener la forma del arreglo\n",
    "\n",
    "matriz_de_enteros.shape"
   ]
  },
  {
   "cell_type": "code",
   "execution_count": 21,
   "id": "ffcba991",
   "metadata": {
    "execution": {
     "iopub.execute_input": "2021-05-05T14:44:11.779579Z",
     "iopub.status.busy": "2021-05-05T14:44:11.778934Z",
     "iopub.status.idle": "2021-05-05T14:44:11.782016Z",
     "shell.execute_reply": "2021-05-05T14:44:11.782725Z"
    }
   },
   "outputs": [
    {
     "name": "stdout",
     "output_type": "stream",
     "text": [
      "enteros: [ 3  6  9 12]\n"
     ]
    },
    {
     "data": {
      "text/plain": [
       "array([[ 3,  6],\n",
       "       [ 9, 12]])"
      ]
     },
     "execution_count": 1,
     "metadata": {},
     "output_type": "execute_result"
    }
   ],
   "source": [
    "# Modificar la forma de un arreglo\n",
    "\n",
    "enteros = np.array([3, 6, 9, 12])\n",
    "print(f\"enteros: {enteros}\")\n",
    "np.reshape(enteros, (2, 2))"
   ]
  },
  {
   "cell_type": "code",
   "execution_count": 22,
   "id": "f351fc45",
   "metadata": {
    "execution": {
     "iopub.execute_input": "2021-05-05T14:44:11.787757Z",
     "iopub.status.busy": "2021-05-05T14:44:11.787080Z",
     "iopub.status.idle": "2021-05-05T14:44:11.789283Z",
     "shell.execute_reply": "2021-05-05T14:44:11.789778Z"
    }
   },
   "outputs": [
    {
     "data": {
      "text/plain": [
       "array([[1., 1.],\n",
       "       [1., 1.]])"
      ]
     },
     "execution_count": 1,
     "metadata": {},
     "output_type": "execute_result"
    }
   ],
   "source": [
    "# Aplanar un arreglo\n",
    "\n",
    "a = np.ones((2, 2))\n",
    "a"
   ]
  },
  {
   "cell_type": "code",
   "execution_count": 23,
   "id": "457228bc",
   "metadata": {
    "execution": {
     "iopub.execute_input": "2021-05-05T14:44:11.794733Z",
     "iopub.status.busy": "2021-05-05T14:44:11.794139Z",
     "iopub.status.idle": "2021-05-05T14:44:11.796829Z",
     "shell.execute_reply": "2021-05-05T14:44:11.797343Z"
    }
   },
   "outputs": [
    {
     "data": {
      "text/plain": [
       "array([1., 1., 1., 1.])"
      ]
     },
     "execution_count": 1,
     "metadata": {},
     "output_type": "execute_result"
    }
   ],
   "source": [
    "a.flatten()"
   ]
  },
  {
   "cell_type": "code",
   "execution_count": 24,
   "id": "3f4e4150",
   "metadata": {
    "execution": {
     "iopub.execute_input": "2021-05-05T14:44:11.802407Z",
     "iopub.status.busy": "2021-05-05T14:44:11.801626Z",
     "iopub.status.idle": "2021-05-05T14:44:11.803955Z",
     "shell.execute_reply": "2021-05-05T14:44:11.804410Z"
    },
    "lines_to_next_cell": 2
   },
   "outputs": [
    {
     "data": {
      "text/plain": [
       "array([[1., 1.],\n",
       "       [1., 1.]])"
      ]
     },
     "execution_count": 1,
     "metadata": {},
     "output_type": "execute_result"
    }
   ],
   "source": [
    "a"
   ]
  },
  {
   "cell_type": "markdown",
   "id": "67fcc13f",
   "metadata": {},
   "source": [
    "### Combinación de arreglos (Stacking)"
   ]
  },
  {
   "cell_type": "code",
   "execution_count": 25,
   "id": "66651255",
   "metadata": {
    "execution": {
     "iopub.execute_input": "2021-05-05T14:44:11.809073Z",
     "iopub.status.busy": "2021-05-05T14:44:11.808392Z",
     "iopub.status.idle": "2021-05-05T14:44:11.811209Z",
     "shell.execute_reply": "2021-05-05T14:44:11.811756Z"
    }
   },
   "outputs": [
    {
     "data": {
      "text/plain": [
       "array([0, 1, 2, 3, 4])"
      ]
     },
     "execution_count": 1,
     "metadata": {},
     "output_type": "execute_result"
    }
   ],
   "source": [
    "# Los arreglos se pueden combinar verticalmente (se incrementa la cantidad de filas)\n",
    "\n",
    "a = np.arange(0, 5)\n",
    "a"
   ]
  },
  {
   "cell_type": "code",
   "execution_count": 26,
   "id": "71fbabc8",
   "metadata": {
    "execution": {
     "iopub.execute_input": "2021-05-05T14:44:11.816318Z",
     "iopub.status.busy": "2021-05-05T14:44:11.815736Z",
     "iopub.status.idle": "2021-05-05T14:44:11.818888Z",
     "shell.execute_reply": "2021-05-05T14:44:11.819409Z"
    }
   },
   "outputs": [
    {
     "data": {
      "text/plain": [
       "array([5, 6, 7, 8, 9])"
      ]
     },
     "execution_count": 1,
     "metadata": {},
     "output_type": "execute_result"
    }
   ],
   "source": [
    "b = np.arange(5, 10)\n",
    "b"
   ]
  },
  {
   "cell_type": "code",
   "execution_count": 27,
   "id": "97b15aba",
   "metadata": {
    "execution": {
     "iopub.execute_input": "2021-05-05T14:44:11.825338Z",
     "iopub.status.busy": "2021-05-05T14:44:11.824618Z",
     "iopub.status.idle": "2021-05-05T14:44:11.828392Z",
     "shell.execute_reply": "2021-05-05T14:44:11.828983Z"
    }
   },
   "outputs": [
    {
     "data": {
      "text/plain": [
       "array([[0, 1, 2, 3, 4],\n",
       "       [5, 6, 7, 8, 9]])"
      ]
     },
     "execution_count": 1,
     "metadata": {},
     "output_type": "execute_result"
    }
   ],
   "source": [
    "combinados_verticalmente = np.vstack((a, b))\n",
    "combinados_verticalmente"
   ]
  },
  {
   "cell_type": "code",
   "execution_count": 28,
   "id": "32f5135b",
   "metadata": {
    "execution": {
     "iopub.execute_input": "2021-05-05T14:44:11.835929Z",
     "iopub.status.busy": "2021-05-05T14:44:11.834767Z",
     "iopub.status.idle": "2021-05-05T14:44:11.838583Z",
     "shell.execute_reply": "2021-05-05T14:44:11.838077Z"
    }
   },
   "outputs": [
    {
     "data": {
      "text/plain": [
       "array([0, 1, 2, 3, 4, 5, 6, 7, 8, 9])"
      ]
     },
     "execution_count": 1,
     "metadata": {},
     "output_type": "execute_result"
    }
   ],
   "source": [
    "# También se pueden combinar horizontalmente (se incrementa la cantidad de columnas)\n",
    "\n",
    "combinados_horizontalmente = np.hstack((a, b))\n",
    "combinados_horizontalmente"
   ]
  },
  {
   "cell_type": "markdown",
   "id": "587fa159",
   "metadata": {},
   "source": [
    "### Operaciones matemáticas"
   ]
  },
  {
   "cell_type": "code",
   "execution_count": 29,
   "id": "aaea861a",
   "metadata": {
    "execution": {
     "iopub.execute_input": "2021-05-05T14:44:11.844578Z",
     "iopub.status.busy": "2021-05-05T14:44:11.843466Z",
     "iopub.status.idle": "2021-05-05T14:44:11.847594Z",
     "shell.execute_reply": "2021-05-05T14:44:11.846958Z"
    }
   },
   "outputs": [
    {
     "data": {
      "text/plain": [
       "array([3, 4, 5, 6])"
      ]
     },
     "execution_count": 1,
     "metadata": {},
     "output_type": "execute_result"
    }
   ],
   "source": [
    "a = np.array([1, 2, 3, 4])\n",
    "\n",
    "a + 2"
   ]
  },
  {
   "cell_type": "code",
   "execution_count": 30,
   "id": "1e3daa27",
   "metadata": {
    "execution": {
     "iopub.execute_input": "2021-05-05T14:44:11.850830Z",
     "iopub.status.busy": "2021-05-05T14:44:11.850220Z",
     "iopub.status.idle": "2021-05-05T14:44:11.855171Z",
     "shell.execute_reply": "2021-05-05T14:44:11.855802Z"
    }
   },
   "outputs": [
    {
     "data": {
      "text/plain": [
       "array([ 1,  4,  9, 16])"
      ]
     },
     "execution_count": 1,
     "metadata": {},
     "output_type": "execute_result"
    }
   ],
   "source": [
    "a ** 2"
   ]
  },
  {
   "cell_type": "code",
   "execution_count": 31,
   "id": "a902fa50",
   "metadata": {
    "execution": {
     "iopub.execute_input": "2021-05-05T14:44:11.861393Z",
     "iopub.status.busy": "2021-05-05T14:44:11.860606Z",
     "iopub.status.idle": "2021-05-05T14:44:11.865967Z",
     "shell.execute_reply": "2021-05-05T14:44:11.866582Z"
    }
   },
   "outputs": [
    {
     "name": "stdout",
     "output_type": "stream",
     "text": [
      "b: [1. 1. 1. 1.]\n"
     ]
    },
    {
     "data": {
      "text/plain": [
       "array([2., 3., 4., 5.])"
      ]
     },
     "execution_count": 1,
     "metadata": {},
     "output_type": "execute_result"
    }
   ],
   "source": [
    "b = np.ones(4)\n",
    "print(f\"b: {b}\")\n",
    "a + b"
   ]
  },
  {
   "cell_type": "markdown",
   "id": "4877df84",
   "metadata": {},
   "source": [
    "### Estadística"
   ]
  },
  {
   "cell_type": "code",
   "execution_count": 32,
   "id": "aab62829",
   "metadata": {
    "execution": {
     "iopub.execute_input": "2021-05-05T14:44:11.872063Z",
     "iopub.status.busy": "2021-05-05T14:44:11.871347Z",
     "iopub.status.idle": "2021-05-05T14:44:11.875505Z",
     "shell.execute_reply": "2021-05-05T14:44:11.876008Z"
    }
   },
   "outputs": [
    {
     "data": {
      "text/plain": [
       "1"
      ]
     },
     "execution_count": 1,
     "metadata": {},
     "output_type": "execute_result"
    }
   ],
   "source": [
    "a = np.array([[5, 2, 1, 8], [26, 4, 17, 9]])\n",
    "\n",
    "np.min(a)"
   ]
  },
  {
   "cell_type": "code",
   "execution_count": 33,
   "id": "fb21a79f",
   "metadata": {
    "execution": {
     "iopub.execute_input": "2021-05-05T14:44:11.880720Z",
     "iopub.status.busy": "2021-05-05T14:44:11.879942Z",
     "iopub.status.idle": "2021-05-05T14:44:11.884489Z",
     "shell.execute_reply": "2021-05-05T14:44:11.885108Z"
    }
   },
   "outputs": [
    {
     "data": {
      "text/plain": [
       "26"
      ]
     },
     "execution_count": 1,
     "metadata": {},
     "output_type": "execute_result"
    }
   ],
   "source": [
    "np.max(a)"
   ]
  },
  {
   "cell_type": "code",
   "execution_count": 34,
   "id": "c4c0c792",
   "metadata": {
    "execution": {
     "iopub.execute_input": "2021-05-05T14:44:11.889330Z",
     "iopub.status.busy": "2021-05-05T14:44:11.888644Z",
     "iopub.status.idle": "2021-05-05T14:44:11.893785Z",
     "shell.execute_reply": "2021-05-05T14:44:11.893118Z"
    }
   },
   "outputs": [
    {
     "data": {
      "text/plain": [
       "72"
      ]
     },
     "execution_count": 1,
     "metadata": {},
     "output_type": "execute_result"
    }
   ],
   "source": [
    "np.sum(a)"
   ]
  },
  {
   "cell_type": "markdown",
   "id": "55908b41",
   "metadata": {},
   "source": [
    "### Más magia"
   ]
  },
  {
   "cell_type": "code",
   "execution_count": 35,
   "id": "6381a941",
   "metadata": {
    "execution": {
     "iopub.execute_input": "2021-05-05T14:44:11.900041Z",
     "iopub.status.busy": "2021-05-05T14:44:11.898675Z",
     "iopub.status.idle": "2021-05-05T14:44:11.902293Z",
     "shell.execute_reply": "2021-05-05T14:44:11.901796Z"
    }
   },
   "outputs": [
    {
     "data": {
      "text/plain": [
       "array([[False, False, False,  True],\n",
       "       [ True, False,  True,  True]])"
      ]
     },
     "execution_count": 1,
     "metadata": {},
     "output_type": "execute_result"
    }
   ],
   "source": [
    "a = np.array([[5, 2, 1, 8], [26, 4, 17, 9]])\n",
    "\n",
    "a > 5"
   ]
  },
  {
   "cell_type": "code",
   "execution_count": 36,
   "id": "d71ff7ca",
   "metadata": {
    "execution": {
     "iopub.execute_input": "2021-05-05T14:44:11.907260Z",
     "iopub.status.busy": "2021-05-05T14:44:11.906534Z",
     "iopub.status.idle": "2021-05-05T14:44:11.909115Z",
     "shell.execute_reply": "2021-05-05T14:44:11.909840Z"
    }
   },
   "outputs": [
    {
     "data": {
      "text/plain": [
       "array([ 8, 26, 17,  9])"
      ]
     },
     "execution_count": 1,
     "metadata": {},
     "output_type": "execute_result"
    }
   ],
   "source": [
    "a[a > 5]"
   ]
  },
  {
   "cell_type": "markdown",
   "id": "7d758290",
   "metadata": {},
   "source": [
    "### Broadcasting"
   ]
  },
  {
   "cell_type": "markdown",
   "id": "a372d510",
   "metadata": {},
   "source": [
    "Permite realizar operaciones entre dos numpy arrays de distintas dimensiones.\n",
    "Para lograr esto, las dimensiones de los mismos deben ser compatibles. Dos dimensiones son compatibles cuando:\n",
    "1. Son iguales\n",
    "2. Alguna de las dos es 1"
   ]
  },
  {
   "cell_type": "code",
   "execution_count": 37,
   "id": "fc076994",
   "metadata": {
    "execution": {
     "iopub.execute_input": "2021-05-05T14:44:11.915722Z",
     "iopub.status.busy": "2021-05-05T14:44:11.915032Z",
     "iopub.status.idle": "2021-05-05T14:44:11.917799Z",
     "shell.execute_reply": "2021-05-05T14:44:11.918648Z"
    }
   },
   "outputs": [
    {
     "data": {
      "text/plain": [
       "array([[ 5,  2,  1,  8],\n",
       "       [26,  4, 17,  9]])"
      ]
     },
     "execution_count": 1,
     "metadata": {},
     "output_type": "execute_result"
    }
   ],
   "source": [
    "a = np.array([[5, 2, 1, 8], [26, 4, 17, 9]])\n",
    "a"
   ]
  },
  {
   "cell_type": "code",
   "execution_count": 38,
   "id": "dfc18904",
   "metadata": {
    "execution": {
     "iopub.execute_input": "2021-05-05T14:44:11.925092Z",
     "iopub.status.busy": "2021-05-05T14:44:11.924413Z",
     "iopub.status.idle": "2021-05-05T14:44:11.926541Z",
     "shell.execute_reply": "2021-05-05T14:44:11.927133Z"
    }
   },
   "outputs": [
    {
     "name": "stdout",
     "output_type": "stream",
     "text": [
      "a: (2, 4)\n",
      "b: (4,)\n",
      "\n",
      "a + b:\n",
      " [[10  4  2 16]\n",
      " [31  6 18 17]]\n"
     ]
    }
   ],
   "source": [
    "# Armamos un array que tenga la misma cantidad de columnas que a\n",
    "b = np.array([5, 2, 1, 8])\n",
    "print(f\"a: {a.shape}\")\n",
    "print(f\"b: {b.shape}\")\n",
    "# a + b\n",
    "print()\n",
    "print(f\"a + b:\\n {a + b}\")"
   ]
  },
  {
   "cell_type": "code",
   "execution_count": 39,
   "id": "681438de",
   "metadata": {
    "execution": {
     "iopub.execute_input": "2021-05-05T14:44:11.932344Z",
     "iopub.status.busy": "2021-05-05T14:44:11.931482Z",
     "iopub.status.idle": "2021-05-05T14:44:12.006433Z",
     "shell.execute_reply": "2021-05-05T14:44:12.006996Z"
    },
    "tags": [
     "raises-exception"
    ]
   },
   "outputs": [
    {
     "name": "stdout",
     "output_type": "stream",
     "text": [
      "a: (2, 4)\n",
      "b: (3,)\n"
     ]
    },
    {
     "ename": "ValueError",
     "evalue": "operands could not be broadcast together with shapes (2,4) (3,) ",
     "output_type": "error",
     "traceback": [
      "\u001b[0;31m---------------------------------------------------------------------------\u001b[0m",
      "\u001b[0;31mValueError\u001b[0m                                Traceback (most recent call last)",
      "\u001b[0;32m<ipython-input-1-fe11b6ae6346>\u001b[0m in \u001b[0;36m<module>\u001b[0;34m\u001b[0m\n\u001b[1;32m      3\u001b[0m \u001b[0mprint\u001b[0m\u001b[0;34m(\u001b[0m\u001b[0;34mf\"a: {a.shape}\"\u001b[0m\u001b[0;34m)\u001b[0m\u001b[0;34m\u001b[0m\u001b[0;34m\u001b[0m\u001b[0m\n\u001b[1;32m      4\u001b[0m \u001b[0mprint\u001b[0m\u001b[0;34m(\u001b[0m\u001b[0;34mf\"b: {b.shape}\"\u001b[0m\u001b[0;34m)\u001b[0m\u001b[0;34m\u001b[0m\u001b[0;34m\u001b[0m\u001b[0m\n\u001b[0;32m----> 5\u001b[0;31m \u001b[0ma\u001b[0m \u001b[0;34m+\u001b[0m \u001b[0mb\u001b[0m\u001b[0;34m\u001b[0m\u001b[0;34m\u001b[0m\u001b[0m\n\u001b[0m",
      "\u001b[0;31mValueError\u001b[0m: operands could not be broadcast together with shapes (2,4) (3,) "
     ]
    }
   ],
   "source": [
    "# Armamos un array que tenga distinta cantidad de filas y columnas que a\n",
    "b = np.array([5, 1, 8])\n",
    "print(f\"a: {a.shape}\")\n",
    "print(f\"b: {b.shape}\")\n",
    "a + b"
   ]
  },
  {
   "cell_type": "code",
   "execution_count": 40,
   "id": "3ae7f7d3",
   "metadata": {
    "execution": {
     "iopub.execute_input": "2021-05-05T14:44:12.015167Z",
     "iopub.status.busy": "2021-05-05T14:44:12.013268Z",
     "iopub.status.idle": "2021-05-05T14:44:12.018112Z",
     "shell.execute_reply": "2021-05-05T14:44:12.016615Z"
    }
   },
   "outputs": [
    {
     "name": "stdout",
     "output_type": "stream",
     "text": [
      "a: (2, 4)\n",
      "b: (2, 1)\n"
     ]
    },
    {
     "data": {
      "text/plain": [
       "array([[ 7,  4,  3, 10],\n",
       "       [27,  5, 18, 10]])"
      ]
     },
     "execution_count": 1,
     "metadata": {},
     "output_type": "execute_result"
    }
   ],
   "source": [
    "# Armamos un array que tenga la misma cantidad de filas que a\n",
    "b = np.array([[2], [1]])\n",
    "print(f\"a: {a.shape}\")\n",
    "print(f\"b: {b.shape}\")\n",
    "a + b"
   ]
  },
  {
   "cell_type": "code",
   "execution_count": 41,
   "id": "f74f7607",
   "metadata": {
    "execution": {
     "iopub.execute_input": "2021-05-05T14:44:12.024260Z",
     "iopub.status.busy": "2021-05-05T14:44:12.023093Z",
     "iopub.status.idle": "2021-05-05T14:44:12.026369Z",
     "shell.execute_reply": "2021-05-05T14:44:12.026874Z"
    }
   },
   "outputs": [
    {
     "data": {
      "text/plain": [
       "array([[ 9,  6,  5, 12],\n",
       "       [30,  8, 21, 13]])"
      ]
     },
     "execution_count": 1,
     "metadata": {},
     "output_type": "execute_result"
    }
   ],
   "source": [
    "# Si b es un entero\n",
    "b = 4\n",
    "a + b"
   ]
  },
  {
   "cell_type": "code",
   "execution_count": null,
   "id": "ab0111c4",
   "metadata": {},
   "outputs": [],
   "source": []
  }
 ],
 "metadata": {
  "jupytext": {
   "encoding": "# -*- coding: utf-8 -*-",
   "formats": "ipynb,py:light"
  },
  "kernelspec": {
   "display_name": "Python 3",
   "language": "python",
   "name": "python3"
  },
  "language_info": {
   "codemirror_mode": {
    "name": "ipython",
    "version": 3
   },
   "file_extension": ".py",
   "mimetype": "text/x-python",
   "name": "python",
   "nbconvert_exporter": "python",
   "pygments_lexer": "ipython3",
   "version": "3.7.10"
  }
 },
 "nbformat": 4,
 "nbformat_minor": 5
}
