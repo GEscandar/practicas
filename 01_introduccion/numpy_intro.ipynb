{
 "cells": [
  {
   "cell_type": "markdown",
   "id": "02b319d0",
   "metadata": {},
   "source": [
    "## Clase 1 - Introducción a Numpy\n",
    "\n",
    "Numpy es una biblioteca para Python que facilita el manejo de arreglos multidimensionales y ofrece varias herramientas para trabajar con ellos. Muchas de las bibliotecas de Python que son ampliamente usadas hoy en día, como pandas, están construidas sobre numpy.\n",
    "\n",
    "### Listas de Python vs arreglos de Numpy\n",
    "\n",
    "A primera vista, un arreglo de numpy puede resultar idéntico a una lista de python, pero a medida que la cantidad de datos comienza a incrementar, los arreglos de numpy terminan ofreciendo un manejo más eficiente de la memoria.\n",
    "\n",
    "Para comenzar, vamos a crear un arreglo de numpy:"
   ]
  },
  {
   "cell_type": "code",
   "execution_count": 1,
   "id": "93c0ef71",
   "metadata": {
    "execution": {
     "iopub.execute_input": "2021-09-16T21:31:10.573119Z",
     "iopub.status.busy": "2021-09-16T21:31:10.572345Z",
     "iopub.status.idle": "2021-09-16T21:31:10.752218Z",
     "shell.execute_reply": "2021-09-16T21:31:10.753158Z"
    }
   },
   "outputs": [
    {
     "data": {
      "text/plain": [
       "array([1, 2, 3, 4])"
      ]
     },
     "execution_count": 1,
     "metadata": {},
     "output_type": "execute_result"
    }
   ],
   "source": [
    "import numpy as np\n",
    "\n",
    "np.array([1, 2, 3, 4])"
   ]
  },
  {
   "cell_type": "markdown",
   "id": "a370ac62",
   "metadata": {},
   "source": [
    "Los arreglos pueden ser también multidimensionales:"
   ]
  },
  {
   "cell_type": "code",
   "execution_count": 2,
   "id": "a4196704",
   "metadata": {
    "execution": {
     "iopub.execute_input": "2021-09-16T21:31:10.758496Z",
     "iopub.status.busy": "2021-09-16T21:31:10.757953Z",
     "iopub.status.idle": "2021-09-16T21:31:10.761116Z",
     "shell.execute_reply": "2021-09-16T21:31:10.761557Z"
    }
   },
   "outputs": [
    {
     "data": {
      "text/plain": [
       "array([[1, 2, 3, 4],\n",
       "       [5, 6, 7, 8]])"
      ]
     },
     "execution_count": 2,
     "metadata": {},
     "output_type": "execute_result"
    }
   ],
   "source": [
    "np.array([[1, 2, 3, 4], [5, 6, 7, 8]])"
   ]
  },
  {
   "cell_type": "markdown",
   "id": "865d143a",
   "metadata": {},
   "source": [
    "Es importante tener en cuenta que un arreglo de numpy tiene un tipo fijo de datos, entonces si se quiere agregar un dato de un tipo diferente al de la mayoría, este va a ser modificado para adaptarse al resto"
   ]
  },
  {
   "cell_type": "code",
   "execution_count": 3,
   "id": "e2ce8395",
   "metadata": {
    "execution": {
     "iopub.execute_input": "2021-09-16T21:31:10.766151Z",
     "iopub.status.busy": "2021-09-16T21:31:10.765596Z",
     "iopub.status.idle": "2021-09-16T21:31:10.767280Z",
     "shell.execute_reply": "2021-09-16T21:31:10.767732Z"
    }
   },
   "outputs": [],
   "source": [
    "enteros = np.array([1, 2, 3, 4])"
   ]
  },
  {
   "cell_type": "markdown",
   "id": "5cc7b538",
   "metadata": {},
   "source": [
    "Agrego un elemento de tipo flotante en la posición 1"
   ]
  },
  {
   "cell_type": "code",
   "execution_count": 4,
   "id": "0a92088b",
   "metadata": {
    "execution": {
     "iopub.execute_input": "2021-09-16T21:31:10.772534Z",
     "iopub.status.busy": "2021-09-16T21:31:10.771989Z",
     "iopub.status.idle": "2021-09-16T21:31:10.774981Z",
     "shell.execute_reply": "2021-09-16T21:31:10.774421Z"
    }
   },
   "outputs": [
    {
     "data": {
      "text/plain": [
       "array([1, 8, 3, 4])"
      ]
     },
     "execution_count": 4,
     "metadata": {},
     "output_type": "execute_result"
    }
   ],
   "source": [
    "enteros[1] = 8.4727\n",
    "enteros"
   ]
  },
  {
   "cell_type": "markdown",
   "id": "116c1bb3",
   "metadata": {},
   "source": [
    "Numpy también nos permite crear arreglos con valores aleatorios del 0 al 1.\n",
    "Basta con pasarle las dimensiones del arreglo que queremos crear."
   ]
  },
  {
   "cell_type": "code",
   "execution_count": 5,
   "id": "1dae16c4",
   "metadata": {
    "execution": {
     "iopub.execute_input": "2021-09-16T21:31:10.780176Z",
     "iopub.status.busy": "2021-09-16T21:31:10.779617Z",
     "iopub.status.idle": "2021-09-16T21:31:10.781724Z",
     "shell.execute_reply": "2021-09-16T21:31:10.782171Z"
    }
   },
   "outputs": [
    {
     "data": {
      "text/plain": [
       "array([[0.8863649 , 0.80326391, 0.0370569 ],\n",
       "       [0.44683271, 0.82128515, 0.72332224]])"
      ]
     },
     "execution_count": 5,
     "metadata": {},
     "output_type": "execute_result"
    }
   ],
   "source": [
    "np.random.rand(2, 3)"
   ]
  },
  {
   "cell_type": "markdown",
   "id": "93617ac6",
   "metadata": {},
   "source": [
    "## Slicing\n",
    "\n",
    "De la misma forma que con las listas de python, pueden obtenerse slices de los arreglos de numpy"
   ]
  },
  {
   "cell_type": "code",
   "execution_count": 6,
   "id": "2b25bf9a",
   "metadata": {
    "execution": {
     "iopub.execute_input": "2021-09-16T21:31:10.787425Z",
     "iopub.status.busy": "2021-09-16T21:31:10.786657Z",
     "iopub.status.idle": "2021-09-16T21:31:10.789661Z",
     "shell.execute_reply": "2021-09-16T21:31:10.790078Z"
    },
    "lines_to_next_cell": 2
   },
   "outputs": [
    {
     "data": {
      "text/plain": [
       "array([1, 8])"
      ]
     },
     "execution_count": 6,
     "metadata": {},
     "output_type": "execute_result"
    }
   ],
   "source": [
    "enteros[:2]"
   ]
  },
  {
   "cell_type": "code",
   "execution_count": 7,
   "id": "81d98173",
   "metadata": {
    "execution": {
     "iopub.execute_input": "2021-09-16T21:31:10.798280Z",
     "iopub.status.busy": "2021-09-16T21:31:10.796814Z",
     "iopub.status.idle": "2021-09-16T21:31:10.800221Z",
     "shell.execute_reply": "2021-09-16T21:31:10.799742Z"
    }
   },
   "outputs": [
    {
     "name": "stdout",
     "output_type": "stream",
     "text": [
      "Original: \n",
      "[[ 1  2  3  4]\n",
      " [ 5  6  7  8]\n",
      " [ 9 10 11 12]]\n",
      "\n",
      "Recortada: \n",
      "[[1 2 3]\n",
      " [5 6 7]]\n"
     ]
    }
   ],
   "source": [
    "matriz_de_enteros = np.array([[1, 2, 3, 4], [5, 6, 7, 8], [9, 10, 11, 12]])\n",
    "\n",
    "print('Original: ')\n",
    "print(matriz_de_enteros)\n",
    "\n",
    "print()\n",
    "\n",
    "print('Recortada: ')\n",
    "print(matriz_de_enteros[:2, :3])"
   ]
  },
  {
   "cell_type": "code",
   "execution_count": 8,
   "id": "e46d6a6c",
   "metadata": {
    "execution": {
     "iopub.execute_input": "2021-09-16T21:31:10.806686Z",
     "iopub.status.busy": "2021-09-16T21:31:10.805704Z",
     "iopub.status.idle": "2021-09-16T21:31:10.808833Z",
     "shell.execute_reply": "2021-09-16T21:31:10.808371Z"
    }
   },
   "outputs": [
    {
     "data": {
      "text/plain": [
       "array([[[ 0,  1,  2,  3,  4],\n",
       "        [ 5,  6,  7,  8,  9],\n",
       "        [10, 11, 12, 13, 14]],\n",
       "\n",
       "       [[15, 16, 17, 18, 19],\n",
       "        [20, 21, 22, 23, 24],\n",
       "        [25, 26, 27, 28, 29]],\n",
       "\n",
       "       [[30, 31, 32, 33, 34],\n",
       "        [35, 36, 37, 38, 39],\n",
       "        [40, 41, 42, 43, 44]]])"
      ]
     },
     "execution_count": 8,
     "metadata": {},
     "output_type": "execute_result"
    }
   ],
   "source": [
    "# 3D\n",
    "# arange() genera valores de un intervalo pasado por parámetro\n",
    "# reshape() modifica la forma del numpy array\n",
    "\n",
    "x = np.arange(45).reshape(3, 3, 5)\n",
    "x"
   ]
  },
  {
   "cell_type": "code",
   "execution_count": 9,
   "id": "97fe0db1",
   "metadata": {
    "execution": {
     "iopub.execute_input": "2021-09-16T21:31:10.814843Z",
     "iopub.status.busy": "2021-09-16T21:31:10.813479Z",
     "iopub.status.idle": "2021-09-16T21:31:10.816853Z",
     "shell.execute_reply": "2021-09-16T21:31:10.816374Z"
    }
   },
   "outputs": [
    {
     "data": {
      "text/plain": [
       "array([[ 0,  1,  2,  3,  4],\n",
       "       [ 5,  6,  7,  8,  9],\n",
       "       [10, 11, 12, 13, 14]])"
      ]
     },
     "execution_count": 9,
     "metadata": {},
     "output_type": "execute_result"
    }
   ],
   "source": [
    "x[0]"
   ]
  },
  {
   "cell_type": "code",
   "execution_count": 10,
   "id": "c972a582",
   "metadata": {
    "execution": {
     "iopub.execute_input": "2021-09-16T21:31:10.822388Z",
     "iopub.status.busy": "2021-09-16T21:31:10.821402Z",
     "iopub.status.idle": "2021-09-16T21:31:10.824740Z",
     "shell.execute_reply": "2021-09-16T21:31:10.824248Z"
    }
   },
   "outputs": [
    {
     "data": {
      "text/plain": [
       "array([5, 6, 7, 8, 9])"
      ]
     },
     "execution_count": 10,
     "metadata": {},
     "output_type": "execute_result"
    }
   ],
   "source": [
    "x[0][1]"
   ]
  },
  {
   "cell_type": "code",
   "execution_count": 11,
   "id": "48f6598b",
   "metadata": {
    "execution": {
     "iopub.execute_input": "2021-09-16T21:31:10.830178Z",
     "iopub.status.busy": "2021-09-16T21:31:10.829254Z",
     "iopub.status.idle": "2021-09-16T21:31:10.831782Z",
     "shell.execute_reply": "2021-09-16T21:31:10.832237Z"
    }
   },
   "outputs": [
    {
     "data": {
      "text/plain": [
       "7"
      ]
     },
     "execution_count": 11,
     "metadata": {},
     "output_type": "execute_result"
    }
   ],
   "source": [
    "x[0][1][2]"
   ]
  },
  {
   "cell_type": "markdown",
   "id": "3ffbc9c3",
   "metadata": {},
   "source": [
    "\n",
    "¿Cómo conseguimos estos valores? ([fuente](https://towardsdatascience.com/indexing-and-slicing-of-1d-2d-and-3d-arrays-in-numpy-e731afff0bbe))\n",
    "\n",
    "![title](img/matrix.png)"
   ]
  },
  {
   "cell_type": "code",
   "execution_count": 12,
   "id": "4634a887",
   "metadata": {
    "execution": {
     "iopub.execute_input": "2021-09-16T21:31:10.838005Z",
     "iopub.status.busy": "2021-09-16T21:31:10.837051Z",
     "iopub.status.idle": "2021-09-16T21:31:10.840137Z",
     "shell.execute_reply": "2021-09-16T21:31:10.839692Z"
    }
   },
   "outputs": [
    {
     "data": {
      "text/plain": [
       "array([[[16, 17, 18],\n",
       "        [21, 22, 23]],\n",
       "\n",
       "       [[31, 32, 33],\n",
       "        [36, 37, 38]]])"
      ]
     },
     "execution_count": 12,
     "metadata": {},
     "output_type": "execute_result"
    }
   ],
   "source": [
    "x[1:, 0:2, 1:4]"
   ]
  },
  {
   "cell_type": "markdown",
   "id": "0ee45294",
   "metadata": {},
   "source": [
    "### Copia de arreglos"
   ]
  },
  {
   "cell_type": "code",
   "execution_count": 13,
   "id": "d12ffba9",
   "metadata": {
    "execution": {
     "iopub.execute_input": "2021-09-16T21:31:10.846469Z",
     "iopub.status.busy": "2021-09-16T21:31:10.845333Z",
     "iopub.status.idle": "2021-09-16T21:31:10.848393Z",
     "shell.execute_reply": "2021-09-16T21:31:10.847925Z"
    }
   },
   "outputs": [
    {
     "data": {
      "text/plain": [
       "array([1, 2, 3, 4])"
      ]
     },
     "execution_count": 13,
     "metadata": {},
     "output_type": "execute_result"
    }
   ],
   "source": [
    "# Los arreglos no se copian con asignación\n",
    "\n",
    "a = np.array([1, 2, 3, 4])\n",
    "b = a\n",
    "b"
   ]
  },
  {
   "cell_type": "code",
   "execution_count": 14,
   "id": "8cbad353",
   "metadata": {
    "execution": {
     "iopub.execute_input": "2021-09-16T21:31:10.853172Z",
     "iopub.status.busy": "2021-09-16T21:31:10.850516Z",
     "iopub.status.idle": "2021-09-16T21:31:10.855375Z",
     "shell.execute_reply": "2021-09-16T21:31:10.855822Z"
    }
   },
   "outputs": [
    {
     "data": {
      "text/plain": [
       "array([ 1, 20,  3,  4])"
      ]
     },
     "execution_count": 14,
     "metadata": {},
     "output_type": "execute_result"
    }
   ],
   "source": [
    "b[1] = 20\n",
    "b"
   ]
  },
  {
   "cell_type": "code",
   "execution_count": 15,
   "id": "71539d2e",
   "metadata": {
    "execution": {
     "iopub.execute_input": "2021-09-16T21:31:10.861210Z",
     "iopub.status.busy": "2021-09-16T21:31:10.860206Z",
     "iopub.status.idle": "2021-09-16T21:31:10.862885Z",
     "shell.execute_reply": "2021-09-16T21:31:10.863334Z"
    }
   },
   "outputs": [
    {
     "data": {
      "text/plain": [
       "array([ 1, 20,  3,  4])"
      ]
     },
     "execution_count": 15,
     "metadata": {},
     "output_type": "execute_result"
    }
   ],
   "source": [
    "a"
   ]
  },
  {
   "cell_type": "code",
   "execution_count": 16,
   "id": "dc45e407",
   "metadata": {
    "execution": {
     "iopub.execute_input": "2021-09-16T21:31:10.868580Z",
     "iopub.status.busy": "2021-09-16T21:31:10.868010Z",
     "iopub.status.idle": "2021-09-16T21:31:10.870167Z",
     "shell.execute_reply": "2021-09-16T21:31:10.870617Z"
    }
   },
   "outputs": [
    {
     "data": {
      "text/plain": [
       "array([ 1, 20,  3,  4])"
      ]
     },
     "execution_count": 16,
     "metadata": {},
     "output_type": "execute_result"
    }
   ],
   "source": [
    "# Para copiar un arreglo a otra variable debemos usar copy()\n",
    "\n",
    "a = np.array([1, 2, 3, 4])\n",
    "b = a.copy()\n",
    "b[1] = 20\n",
    "b"
   ]
  },
  {
   "cell_type": "code",
   "execution_count": 17,
   "id": "9e3967d9",
   "metadata": {
    "execution": {
     "iopub.execute_input": "2021-09-16T21:31:10.875096Z",
     "iopub.status.busy": "2021-09-16T21:31:10.874521Z",
     "iopub.status.idle": "2021-09-16T21:31:10.876726Z",
     "shell.execute_reply": "2021-09-16T21:31:10.877202Z"
    }
   },
   "outputs": [
    {
     "data": {
      "text/plain": [
       "array([1, 2, 3, 4])"
      ]
     },
     "execution_count": 17,
     "metadata": {},
     "output_type": "execute_result"
    }
   ],
   "source": [
    "a"
   ]
  },
  {
   "cell_type": "markdown",
   "id": "d64b7301",
   "metadata": {},
   "source": [
    "### Modificación de dimensiones"
   ]
  },
  {
   "cell_type": "markdown",
   "id": "e543eb1c",
   "metadata": {},
   "source": [
    "Existen varias operaciones para cambiar la forma de un arreglo de numpy"
   ]
  },
  {
   "cell_type": "code",
   "execution_count": 18,
   "id": "12b5a063",
   "metadata": {
    "execution": {
     "iopub.execute_input": "2021-09-16T21:31:10.881606Z",
     "iopub.status.busy": "2021-09-16T21:31:10.881000Z",
     "iopub.status.idle": "2021-09-16T21:31:10.883966Z",
     "shell.execute_reply": "2021-09-16T21:31:10.883441Z"
    }
   },
   "outputs": [
    {
     "data": {
      "text/plain": [
       "array([[ 1,  2,  3,  4],\n",
       "       [ 5,  6,  7,  8],\n",
       "       [ 9, 10, 11, 12]])"
      ]
     },
     "execution_count": 18,
     "metadata": {},
     "output_type": "execute_result"
    }
   ],
   "source": [
    "matriz_de_enteros"
   ]
  },
  {
   "cell_type": "code",
   "execution_count": 19,
   "id": "a5537a54",
   "metadata": {
    "execution": {
     "iopub.execute_input": "2021-09-16T21:31:10.889339Z",
     "iopub.status.busy": "2021-09-16T21:31:10.886673Z",
     "iopub.status.idle": "2021-09-16T21:31:10.891449Z",
     "shell.execute_reply": "2021-09-16T21:31:10.891870Z"
    }
   },
   "outputs": [
    {
     "data": {
      "text/plain": [
       "2"
      ]
     },
     "execution_count": 19,
     "metadata": {},
     "output_type": "execute_result"
    }
   ],
   "source": [
    "# Obtener las dimensiones del arreglo\n",
    "\n",
    "matriz_de_enteros.ndim"
   ]
  },
  {
   "cell_type": "code",
   "execution_count": 20,
   "id": "1aa2c16a",
   "metadata": {
    "execution": {
     "iopub.execute_input": "2021-09-16T21:31:10.896561Z",
     "iopub.status.busy": "2021-09-16T21:31:10.895977Z",
     "iopub.status.idle": "2021-09-16T21:31:10.899072Z",
     "shell.execute_reply": "2021-09-16T21:31:10.898623Z"
    }
   },
   "outputs": [
    {
     "data": {
      "text/plain": [
       "(3, 4)"
      ]
     },
     "execution_count": 20,
     "metadata": {},
     "output_type": "execute_result"
    }
   ],
   "source": [
    "# Obtener la forma del arreglo\n",
    "\n",
    "matriz_de_enteros.shape"
   ]
  },
  {
   "cell_type": "code",
   "execution_count": 21,
   "id": "5a68770d",
   "metadata": {
    "execution": {
     "iopub.execute_input": "2021-09-16T21:31:10.904837Z",
     "iopub.status.busy": "2021-09-16T21:31:10.904119Z",
     "iopub.status.idle": "2021-09-16T21:31:10.908847Z",
     "shell.execute_reply": "2021-09-16T21:31:10.908396Z"
    }
   },
   "outputs": [
    {
     "name": "stdout",
     "output_type": "stream",
     "text": [
      "enteros: [ 3  6  9 12]\n"
     ]
    },
    {
     "data": {
      "text/plain": [
       "array([[ 3,  6],\n",
       "       [ 9, 12]])"
      ]
     },
     "execution_count": 21,
     "metadata": {},
     "output_type": "execute_result"
    }
   ],
   "source": [
    "# Modificar la forma de un arreglo\n",
    "\n",
    "enteros = np.array([3, 6, 9, 12])\n",
    "print(f\"enteros: {enteros}\")\n",
    "np.reshape(enteros, (2, 2))"
   ]
  },
  {
   "cell_type": "code",
   "execution_count": 22,
   "id": "db1820fd",
   "metadata": {
    "execution": {
     "iopub.execute_input": "2021-09-16T21:31:10.911525Z",
     "iopub.status.busy": "2021-09-16T21:31:10.910980Z",
     "iopub.status.idle": "2021-09-16T21:31:10.916587Z",
     "shell.execute_reply": "2021-09-16T21:31:10.916123Z"
    }
   },
   "outputs": [
    {
     "data": {
      "text/plain": [
       "array([[1., 1.],\n",
       "       [1., 1.]])"
      ]
     },
     "execution_count": 22,
     "metadata": {},
     "output_type": "execute_result"
    }
   ],
   "source": [
    "# Aplanar un arreglo\n",
    "\n",
    "a = np.ones((2, 2))\n",
    "a"
   ]
  },
  {
   "cell_type": "code",
   "execution_count": 23,
   "id": "7cdbf1cc",
   "metadata": {
    "execution": {
     "iopub.execute_input": "2021-09-16T21:31:10.921388Z",
     "iopub.status.busy": "2021-09-16T21:31:10.918615Z",
     "iopub.status.idle": "2021-09-16T21:31:10.924104Z",
     "shell.execute_reply": "2021-09-16T21:31:10.925255Z"
    }
   },
   "outputs": [
    {
     "data": {
      "text/plain": [
       "array([1., 1., 1., 1.])"
      ]
     },
     "execution_count": 23,
     "metadata": {},
     "output_type": "execute_result"
    }
   ],
   "source": [
    "a.flatten()"
   ]
  },
  {
   "cell_type": "code",
   "execution_count": 24,
   "id": "12d8c42d",
   "metadata": {
    "execution": {
     "iopub.execute_input": "2021-09-16T21:31:10.929920Z",
     "iopub.status.busy": "2021-09-16T21:31:10.927478Z",
     "iopub.status.idle": "2021-09-16T21:31:10.932447Z",
     "shell.execute_reply": "2021-09-16T21:31:10.932898Z"
    },
    "lines_to_next_cell": 2
   },
   "outputs": [
    {
     "data": {
      "text/plain": [
       "array([[1., 1.],\n",
       "       [1., 1.]])"
      ]
     },
     "execution_count": 24,
     "metadata": {},
     "output_type": "execute_result"
    }
   ],
   "source": [
    "a"
   ]
  },
  {
   "cell_type": "markdown",
   "id": "1954802c",
   "metadata": {},
   "source": [
    "### Combinación de arreglos (Stacking)"
   ]
  },
  {
   "cell_type": "code",
   "execution_count": 25,
   "id": "735b356a",
   "metadata": {
    "execution": {
     "iopub.execute_input": "2021-09-16T21:31:10.937111Z",
     "iopub.status.busy": "2021-09-16T21:31:10.935867Z",
     "iopub.status.idle": "2021-09-16T21:31:10.942202Z",
     "shell.execute_reply": "2021-09-16T21:31:10.941574Z"
    }
   },
   "outputs": [
    {
     "data": {
      "text/plain": [
       "array([0, 1, 2, 3, 4])"
      ]
     },
     "execution_count": 25,
     "metadata": {},
     "output_type": "execute_result"
    }
   ],
   "source": [
    "# Los arreglos se pueden combinar verticalmente (se incrementa la cantidad de filas)\n",
    "\n",
    "a = np.arange(0, 5)\n",
    "a"
   ]
  },
  {
   "cell_type": "code",
   "execution_count": 26,
   "id": "fcd421b6",
   "metadata": {
    "execution": {
     "iopub.execute_input": "2021-09-16T21:31:10.947749Z",
     "iopub.status.busy": "2021-09-16T21:31:10.946939Z",
     "iopub.status.idle": "2021-09-16T21:31:10.949094Z",
     "shell.execute_reply": "2021-09-16T21:31:10.949520Z"
    }
   },
   "outputs": [
    {
     "data": {
      "text/plain": [
       "array([5, 6, 7, 8, 9])"
      ]
     },
     "execution_count": 26,
     "metadata": {},
     "output_type": "execute_result"
    }
   ],
   "source": [
    "b = np.arange(5, 10)\n",
    "b"
   ]
  },
  {
   "cell_type": "code",
   "execution_count": 27,
   "id": "8413fbf9",
   "metadata": {
    "execution": {
     "iopub.execute_input": "2021-09-16T21:31:10.955473Z",
     "iopub.status.busy": "2021-09-16T21:31:10.953737Z",
     "iopub.status.idle": "2021-09-16T21:31:10.957541Z",
     "shell.execute_reply": "2021-09-16T21:31:10.958102Z"
    }
   },
   "outputs": [
    {
     "data": {
      "text/plain": [
       "array([[0, 1, 2, 3, 4],\n",
       "       [5, 6, 7, 8, 9]])"
      ]
     },
     "execution_count": 27,
     "metadata": {},
     "output_type": "execute_result"
    }
   ],
   "source": [
    "combinados_verticalmente = np.vstack((a, b))\n",
    "combinados_verticalmente"
   ]
  },
  {
   "cell_type": "code",
   "execution_count": 28,
   "id": "8f823165",
   "metadata": {
    "execution": {
     "iopub.execute_input": "2021-09-16T21:31:10.965690Z",
     "iopub.status.busy": "2021-09-16T21:31:10.964567Z",
     "iopub.status.idle": "2021-09-16T21:31:10.967346Z",
     "shell.execute_reply": "2021-09-16T21:31:10.967765Z"
    }
   },
   "outputs": [
    {
     "data": {
      "text/plain": [
       "array([0, 1, 2, 3, 4, 5, 6, 7, 8, 9])"
      ]
     },
     "execution_count": 28,
     "metadata": {},
     "output_type": "execute_result"
    }
   ],
   "source": [
    "# También se pueden combinar horizontalmente (se incrementa la cantidad de columnas)\n",
    "\n",
    "combinados_horizontalmente = np.hstack((a, b))\n",
    "combinados_horizontalmente"
   ]
  },
  {
   "cell_type": "markdown",
   "id": "7a950b12",
   "metadata": {},
   "source": [
    "### Operaciones matemáticas"
   ]
  },
  {
   "cell_type": "code",
   "execution_count": 29,
   "id": "34ea1ee4",
   "metadata": {
    "execution": {
     "iopub.execute_input": "2021-09-16T21:31:10.972566Z",
     "iopub.status.busy": "2021-09-16T21:31:10.972018Z",
     "iopub.status.idle": "2021-09-16T21:31:10.974333Z",
     "shell.execute_reply": "2021-09-16T21:31:10.974782Z"
    }
   },
   "outputs": [
    {
     "data": {
      "text/plain": [
       "array([3, 4, 5, 6])"
      ]
     },
     "execution_count": 29,
     "metadata": {},
     "output_type": "execute_result"
    }
   ],
   "source": [
    "a = np.array([1, 2, 3, 4])\n",
    "\n",
    "a + 2"
   ]
  },
  {
   "cell_type": "code",
   "execution_count": 30,
   "id": "69e72df9",
   "metadata": {
    "execution": {
     "iopub.execute_input": "2021-09-16T21:31:10.979492Z",
     "iopub.status.busy": "2021-09-16T21:31:10.977727Z",
     "iopub.status.idle": "2021-09-16T21:31:10.981298Z",
     "shell.execute_reply": "2021-09-16T21:31:10.981784Z"
    }
   },
   "outputs": [
    {
     "data": {
      "text/plain": [
       "array([ 1,  4,  9, 16])"
      ]
     },
     "execution_count": 30,
     "metadata": {},
     "output_type": "execute_result"
    }
   ],
   "source": [
    "a ** 2"
   ]
  },
  {
   "cell_type": "code",
   "execution_count": 31,
   "id": "81cbc683",
   "metadata": {
    "execution": {
     "iopub.execute_input": "2021-09-16T21:31:10.987489Z",
     "iopub.status.busy": "2021-09-16T21:31:10.986937Z",
     "iopub.status.idle": "2021-09-16T21:31:10.990837Z",
     "shell.execute_reply": "2021-09-16T21:31:10.991288Z"
    }
   },
   "outputs": [
    {
     "name": "stdout",
     "output_type": "stream",
     "text": [
      "b: [1. 1. 1. 1.]\n"
     ]
    },
    {
     "data": {
      "text/plain": [
       "array([2., 3., 4., 5.])"
      ]
     },
     "execution_count": 31,
     "metadata": {},
     "output_type": "execute_result"
    }
   ],
   "source": [
    "b = np.ones(4)\n",
    "print(f\"b: {b}\")\n",
    "a + b"
   ]
  },
  {
   "cell_type": "markdown",
   "id": "cd29ec25",
   "metadata": {},
   "source": [
    "### Estadística"
   ]
  },
  {
   "cell_type": "code",
   "execution_count": 32,
   "id": "fd79bbd2",
   "metadata": {
    "execution": {
     "iopub.execute_input": "2021-09-16T21:31:10.996718Z",
     "iopub.status.busy": "2021-09-16T21:31:10.993715Z",
     "iopub.status.idle": "2021-09-16T21:31:10.998799Z",
     "shell.execute_reply": "2021-09-16T21:31:10.999255Z"
    }
   },
   "outputs": [
    {
     "data": {
      "text/plain": [
       "1"
      ]
     },
     "execution_count": 32,
     "metadata": {},
     "output_type": "execute_result"
    }
   ],
   "source": [
    "a = np.array([[5, 2, 1, 8], [26, 4, 17, 9]])\n",
    "\n",
    "np.min(a)"
   ]
  },
  {
   "cell_type": "code",
   "execution_count": 33,
   "id": "69c1ae42",
   "metadata": {
    "execution": {
     "iopub.execute_input": "2021-09-16T21:31:11.004528Z",
     "iopub.status.busy": "2021-09-16T21:31:11.003725Z",
     "iopub.status.idle": "2021-09-16T21:31:11.006071Z",
     "shell.execute_reply": "2021-09-16T21:31:11.006517Z"
    }
   },
   "outputs": [
    {
     "data": {
      "text/plain": [
       "26"
      ]
     },
     "execution_count": 33,
     "metadata": {},
     "output_type": "execute_result"
    }
   ],
   "source": [
    "np.max(a)"
   ]
  },
  {
   "cell_type": "code",
   "execution_count": 34,
   "id": "6f5fd221",
   "metadata": {
    "execution": {
     "iopub.execute_input": "2021-09-16T21:31:11.011123Z",
     "iopub.status.busy": "2021-09-16T21:31:11.010202Z",
     "iopub.status.idle": "2021-09-16T21:31:11.013593Z",
     "shell.execute_reply": "2021-09-16T21:31:11.013001Z"
    }
   },
   "outputs": [
    {
     "data": {
      "text/plain": [
       "72"
      ]
     },
     "execution_count": 34,
     "metadata": {},
     "output_type": "execute_result"
    }
   ],
   "source": [
    "np.sum(a)"
   ]
  },
  {
   "cell_type": "markdown",
   "id": "84557875",
   "metadata": {},
   "source": [
    "### Más magia"
   ]
  },
  {
   "cell_type": "code",
   "execution_count": 35,
   "id": "7b886309",
   "metadata": {
    "execution": {
     "iopub.execute_input": "2021-09-16T21:31:11.018690Z",
     "iopub.status.busy": "2021-09-16T21:31:11.018126Z",
     "iopub.status.idle": "2021-09-16T21:31:11.020626Z",
     "shell.execute_reply": "2021-09-16T21:31:11.021095Z"
    }
   },
   "outputs": [
    {
     "data": {
      "text/plain": [
       "array([[False, False, False,  True],\n",
       "       [ True, False,  True,  True]])"
      ]
     },
     "execution_count": 35,
     "metadata": {},
     "output_type": "execute_result"
    }
   ],
   "source": [
    "a = np.array([[5, 2, 1, 8], [26, 4, 17, 9]])\n",
    "\n",
    "a > 5"
   ]
  },
  {
   "cell_type": "code",
   "execution_count": 36,
   "id": "a0cd5c5e",
   "metadata": {
    "execution": {
     "iopub.execute_input": "2021-09-16T21:31:11.025919Z",
     "iopub.status.busy": "2021-09-16T21:31:11.025348Z",
     "iopub.status.idle": "2021-09-16T21:31:11.029565Z",
     "shell.execute_reply": "2021-09-16T21:31:11.030017Z"
    }
   },
   "outputs": [
    {
     "data": {
      "text/plain": [
       "array([ 8, 26, 17,  9])"
      ]
     },
     "execution_count": 36,
     "metadata": {},
     "output_type": "execute_result"
    }
   ],
   "source": [
    "a[a > 5]"
   ]
  },
  {
   "cell_type": "markdown",
   "id": "c5abf538",
   "metadata": {},
   "source": [
    "### Broadcasting"
   ]
  },
  {
   "cell_type": "markdown",
   "id": "5b7f07fd",
   "metadata": {},
   "source": [
    "Permite realizar operaciones entre dos numpy arrays de distintas dimensiones.\n",
    "Para lograr esto, las dimensiones de los mismos deben ser compatibles. Dos dimensiones son compatibles cuando:\n",
    "1. Son iguales\n",
    "2. Alguna de las dos es 1"
   ]
  },
  {
   "cell_type": "code",
   "execution_count": 37,
   "id": "75518ca7",
   "metadata": {
    "execution": {
     "iopub.execute_input": "2021-09-16T21:31:11.035394Z",
     "iopub.status.busy": "2021-09-16T21:31:11.034681Z",
     "iopub.status.idle": "2021-09-16T21:31:11.036954Z",
     "shell.execute_reply": "2021-09-16T21:31:11.037437Z"
    }
   },
   "outputs": [
    {
     "data": {
      "text/plain": [
       "array([[ 5,  2,  1,  8],\n",
       "       [26,  4, 17,  9]])"
      ]
     },
     "execution_count": 37,
     "metadata": {},
     "output_type": "execute_result"
    }
   ],
   "source": [
    "a = np.array([[5, 2, 1, 8], [26, 4, 17, 9]])\n",
    "a"
   ]
  },
  {
   "cell_type": "code",
   "execution_count": 38,
   "id": "f1d6b51b",
   "metadata": {
    "execution": {
     "iopub.execute_input": "2021-09-16T21:31:11.042020Z",
     "iopub.status.busy": "2021-09-16T21:31:11.041458Z",
     "iopub.status.idle": "2021-09-16T21:31:11.045065Z",
     "shell.execute_reply": "2021-09-16T21:31:11.044522Z"
    }
   },
   "outputs": [
    {
     "name": "stdout",
     "output_type": "stream",
     "text": [
      "a: (2, 4)\n",
      "b: (4,)\n",
      "\n",
      "a + b:\n",
      " [[10  4  2 16]\n",
      " [31  6 18 17]]\n"
     ]
    }
   ],
   "source": [
    "# Armamos un array que tenga la misma cantidad de columnas que a\n",
    "b = np.array([5, 2, 1, 8])\n",
    "print(f\"a: {a.shape}\")\n",
    "print(f\"b: {b.shape}\")\n",
    "# a + b\n",
    "print()\n",
    "print(f\"a + b:\\n {a + b}\")"
   ]
  },
  {
   "cell_type": "code",
   "execution_count": 39,
   "id": "9e6ccc96",
   "metadata": {
    "execution": {
     "iopub.execute_input": "2021-09-16T21:31:11.049911Z",
     "iopub.status.busy": "2021-09-16T21:31:11.049333Z",
     "iopub.status.idle": "2021-09-16T21:31:11.127911Z",
     "shell.execute_reply": "2021-09-16T21:31:11.127424Z"
    },
    "tags": [
     "raises-exception"
    ]
   },
   "outputs": [
    {
     "name": "stdout",
     "output_type": "stream",
     "text": [
      "a: (2, 4)\n",
      "b: (3,)\n"
     ]
    },
    {
     "ename": "ValueError",
     "evalue": "operands could not be broadcast together with shapes (2,4) (3,) ",
     "output_type": "error",
     "traceback": [
      "\u001b[0;31m---------------------------------------------------------------------------\u001b[0m",
      "\u001b[0;31mValueError\u001b[0m                                Traceback (most recent call last)",
      "\u001b[0;32m/tmp/ipykernel_1913/261865458.py\u001b[0m in \u001b[0;36m<module>\u001b[0;34m\u001b[0m\n\u001b[1;32m      3\u001b[0m \u001b[0mprint\u001b[0m\u001b[0;34m(\u001b[0m\u001b[0;34mf\"a: {a.shape}\"\u001b[0m\u001b[0;34m)\u001b[0m\u001b[0;34m\u001b[0m\u001b[0;34m\u001b[0m\u001b[0m\n\u001b[1;32m      4\u001b[0m \u001b[0mprint\u001b[0m\u001b[0;34m(\u001b[0m\u001b[0;34mf\"b: {b.shape}\"\u001b[0m\u001b[0;34m)\u001b[0m\u001b[0;34m\u001b[0m\u001b[0;34m\u001b[0m\u001b[0m\n\u001b[0;32m----> 5\u001b[0;31m \u001b[0ma\u001b[0m \u001b[0;34m+\u001b[0m \u001b[0mb\u001b[0m\u001b[0;34m\u001b[0m\u001b[0;34m\u001b[0m\u001b[0m\n\u001b[0m",
      "\u001b[0;31mValueError\u001b[0m: operands could not be broadcast together with shapes (2,4) (3,) "
     ]
    }
   ],
   "source": [
    "# Armamos un array que tenga distinta cantidad de filas y columnas que a\n",
    "b = np.array([5, 1, 8])\n",
    "print(f\"a: {a.shape}\")\n",
    "print(f\"b: {b.shape}\")\n",
    "a + b"
   ]
  },
  {
   "cell_type": "code",
   "execution_count": 40,
   "id": "df7be83e",
   "metadata": {
    "execution": {
     "iopub.execute_input": "2021-09-16T21:31:11.133747Z",
     "iopub.status.busy": "2021-09-16T21:31:11.133105Z",
     "iopub.status.idle": "2021-09-16T21:31:11.135886Z",
     "shell.execute_reply": "2021-09-16T21:31:11.136412Z"
    }
   },
   "outputs": [
    {
     "name": "stdout",
     "output_type": "stream",
     "text": [
      "a: (2, 4)\n",
      "b: (2, 1)\n"
     ]
    },
    {
     "data": {
      "text/plain": [
       "array([[ 7,  4,  3, 10],\n",
       "       [27,  5, 18, 10]])"
      ]
     },
     "execution_count": 40,
     "metadata": {},
     "output_type": "execute_result"
    }
   ],
   "source": [
    "# Armamos un array que tenga la misma cantidad de filas que a\n",
    "b = np.array([[2], [1]])\n",
    "print(f\"a: {a.shape}\")\n",
    "print(f\"b: {b.shape}\")\n",
    "a + b"
   ]
  },
  {
   "cell_type": "code",
   "execution_count": 41,
   "id": "a3156a45",
   "metadata": {
    "execution": {
     "iopub.execute_input": "2021-09-16T21:31:11.141262Z",
     "iopub.status.busy": "2021-09-16T21:31:11.140672Z",
     "iopub.status.idle": "2021-09-16T21:31:11.142870Z",
     "shell.execute_reply": "2021-09-16T21:31:11.143288Z"
    }
   },
   "outputs": [
    {
     "data": {
      "text/plain": [
       "array([[ 9,  6,  5, 12],\n",
       "       [30,  8, 21, 13]])"
      ]
     },
     "execution_count": 41,
     "metadata": {},
     "output_type": "execute_result"
    }
   ],
   "source": [
    "# Si b es un entero\n",
    "b = 4\n",
    "a + b"
   ]
  },
  {
   "cell_type": "code",
   "execution_count": null,
   "id": "98d5c945",
   "metadata": {},
   "outputs": [],
   "source": []
  }
 ],
 "metadata": {
  "jupytext": {
   "encoding": "# -*- coding: utf-8 -*-",
   "formats": "ipynb,py:light"
  },
  "kernelspec": {
   "display_name": "Python 3",
   "language": "python",
   "name": "python3"
  },
  "language_info": {
   "codemirror_mode": {
    "name": "ipython",
    "version": 3
   },
   "file_extension": ".py",
   "mimetype": "text/x-python",
   "name": "python",
   "nbconvert_exporter": "python",
   "pygments_lexer": "ipython3",
   "version": "3.7.12"
  }
 },
 "nbformat": 4,
 "nbformat_minor": 5
}
