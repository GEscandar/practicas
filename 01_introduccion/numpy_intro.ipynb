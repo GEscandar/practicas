{
 "cells": [
  {
   "cell_type": "markdown",
   "id": "10f49f3a",
   "metadata": {},
   "source": [
    "## Clase 1 - Introducción a Numpy\n",
    "\n",
    "Numpy es una biblioteca para Python que facilita el manejo de arreglos multidimensionales y ofrece varias herramientas para trabajar con ellos. Muchas de las bibliotecas de Python que son ampliamente usadas hoy en día, como pandas, están construidas sobre numpy.\n",
    "\n",
    "### Listas de Python vs arreglos de Numpy\n",
    "\n",
    "A primera vista, un arreglo de numpy puede resultar idéntico a una lista de python, pero a medida que la cantidad de datos comienza a incrementar, los arreglos de numpy terminan ofreciendo un manejo más eficiente de la memoria.\n",
    "\n",
    "Para comenzar, vamos a crear un arreglo de numpy:"
   ]
  },
  {
   "cell_type": "code",
   "execution_count": 1,
   "id": "ce2129e3",
   "metadata": {
    "execution": {
     "iopub.execute_input": "2021-09-28T20:19:42.843081Z",
     "iopub.status.busy": "2021-09-28T20:19:42.842457Z",
     "iopub.status.idle": "2021-09-28T20:19:43.010738Z",
     "shell.execute_reply": "2021-09-28T20:19:43.011218Z"
    }
   },
   "outputs": [
    {
     "data": {
      "text/plain": [
       "array([1, 2, 3, 4])"
      ]
     },
     "execution_count": 1,
     "metadata": {},
     "output_type": "execute_result"
    }
   ],
   "source": [
    "import numpy as np\n",
    "\n",
    "np.array([1, 2, 3, 4])"
   ]
  },
  {
   "cell_type": "markdown",
   "id": "643bc78a",
   "metadata": {},
   "source": [
    "Los arreglos pueden ser también multidimensionales:"
   ]
  },
  {
   "cell_type": "code",
   "execution_count": 2,
   "id": "72b50fec",
   "metadata": {
    "execution": {
     "iopub.execute_input": "2021-09-28T20:19:43.021678Z",
     "iopub.status.busy": "2021-09-28T20:19:43.020278Z",
     "iopub.status.idle": "2021-09-28T20:19:43.024126Z",
     "shell.execute_reply": "2021-09-28T20:19:43.023527Z"
    }
   },
   "outputs": [
    {
     "data": {
      "text/plain": [
       "array([[1, 2, 3, 4],\n",
       "       [5, 6, 7, 8]])"
      ]
     },
     "execution_count": 2,
     "metadata": {},
     "output_type": "execute_result"
    }
   ],
   "source": [
    "np.array([[1, 2, 3, 4], [5, 6, 7, 8]])"
   ]
  },
  {
   "cell_type": "markdown",
   "id": "1b414f14",
   "metadata": {},
   "source": [
    "Es importante tener en cuenta que un arreglo de numpy tiene un tipo fijo de datos, entonces si se quiere agregar un dato de un tipo diferente al de la mayoría, este va a ser modificado para adaptarse al resto"
   ]
  },
  {
   "cell_type": "code",
   "execution_count": 3,
   "id": "e47703a6",
   "metadata": {
    "execution": {
     "iopub.execute_input": "2021-09-28T20:19:43.028305Z",
     "iopub.status.busy": "2021-09-28T20:19:43.027629Z",
     "iopub.status.idle": "2021-09-28T20:19:43.030163Z",
     "shell.execute_reply": "2021-09-28T20:19:43.029531Z"
    }
   },
   "outputs": [],
   "source": [
    "enteros = np.array([1, 2, 3, 4])"
   ]
  },
  {
   "cell_type": "markdown",
   "id": "a5a83f84",
   "metadata": {},
   "source": [
    "Agrego un elemento de tipo flotante en la posición 1"
   ]
  },
  {
   "cell_type": "code",
   "execution_count": 4,
   "id": "93f8b69e",
   "metadata": {
    "execution": {
     "iopub.execute_input": "2021-09-28T20:19:43.036591Z",
     "iopub.status.busy": "2021-09-28T20:19:43.035953Z",
     "iopub.status.idle": "2021-09-28T20:19:43.037946Z",
     "shell.execute_reply": "2021-09-28T20:19:43.038390Z"
    }
   },
   "outputs": [
    {
     "data": {
      "text/plain": [
       "array([1, 8, 3, 4])"
      ]
     },
     "execution_count": 4,
     "metadata": {},
     "output_type": "execute_result"
    }
   ],
   "source": [
    "enteros[1] = 8.4727\n",
    "enteros"
   ]
  },
  {
   "cell_type": "markdown",
   "id": "5b7269c9",
   "metadata": {},
   "source": [
    "Numpy también nos permite crear arreglos con valores aleatorios del 0 al 1.\n",
    "Basta con pasarle las dimensiones del arreglo que queremos crear."
   ]
  },
  {
   "cell_type": "code",
   "execution_count": 5,
   "id": "05d7e1f3",
   "metadata": {
    "execution": {
     "iopub.execute_input": "2021-09-28T20:19:43.044975Z",
     "iopub.status.busy": "2021-09-28T20:19:43.044017Z",
     "iopub.status.idle": "2021-09-28T20:19:43.046998Z",
     "shell.execute_reply": "2021-09-28T20:19:43.047433Z"
    }
   },
   "outputs": [
    {
     "data": {
      "text/plain": [
       "array([[0.85678868, 0.18565352, 0.2455008 ],\n",
       "       [0.6827294 , 0.33255017, 0.57683625]])"
      ]
     },
     "execution_count": 5,
     "metadata": {},
     "output_type": "execute_result"
    }
   ],
   "source": [
    "np.random.rand(2, 3)"
   ]
  },
  {
   "cell_type": "markdown",
   "id": "b3c22606",
   "metadata": {},
   "source": [
    "## Slicing\n",
    "\n",
    "De la misma forma que con las listas de python, pueden obtenerse slices de los arreglos de numpy"
   ]
  },
  {
   "cell_type": "code",
   "execution_count": 6,
   "id": "02256fbc",
   "metadata": {
    "execution": {
     "iopub.execute_input": "2021-09-28T20:19:43.056164Z",
     "iopub.status.busy": "2021-09-28T20:19:43.053328Z",
     "iopub.status.idle": "2021-09-28T20:19:43.058260Z",
     "shell.execute_reply": "2021-09-28T20:19:43.057756Z"
    },
    "lines_to_next_cell": 2
   },
   "outputs": [
    {
     "data": {
      "text/plain": [
       "array([1, 8])"
      ]
     },
     "execution_count": 6,
     "metadata": {},
     "output_type": "execute_result"
    }
   ],
   "source": [
    "enteros[:2]"
   ]
  },
  {
   "cell_type": "code",
   "execution_count": 7,
   "id": "4f5ce353",
   "metadata": {
    "execution": {
     "iopub.execute_input": "2021-09-28T20:19:43.065329Z",
     "iopub.status.busy": "2021-09-28T20:19:43.064702Z",
     "iopub.status.idle": "2021-09-28T20:19:43.069162Z",
     "shell.execute_reply": "2021-09-28T20:19:43.069646Z"
    }
   },
   "outputs": [
    {
     "name": "stdout",
     "output_type": "stream",
     "text": [
      "Original: \n",
      "[[ 1  2  3  4]\n",
      " [ 5  6  7  8]\n",
      " [ 9 10 11 12]]\n",
      "\n",
      "Recortada: \n",
      "[[1 2 3]\n",
      " [5 6 7]]\n"
     ]
    }
   ],
   "source": [
    "matriz_de_enteros = np.array([[1, 2, 3, 4], [5, 6, 7, 8], [9, 10, 11, 12]])\n",
    "\n",
    "print('Original: ')\n",
    "print(matriz_de_enteros)\n",
    "\n",
    "print()\n",
    "\n",
    "print('Recortada: ')\n",
    "print(matriz_de_enteros[:2, :3])"
   ]
  },
  {
   "cell_type": "code",
   "execution_count": 8,
   "id": "42d23484",
   "metadata": {
    "execution": {
     "iopub.execute_input": "2021-09-28T20:19:43.076390Z",
     "iopub.status.busy": "2021-09-28T20:19:43.075310Z",
     "iopub.status.idle": "2021-09-28T20:19:43.078558Z",
     "shell.execute_reply": "2021-09-28T20:19:43.078095Z"
    }
   },
   "outputs": [
    {
     "data": {
      "text/plain": [
       "array([[[ 0,  1,  2,  3,  4],\n",
       "        [ 5,  6,  7,  8,  9],\n",
       "        [10, 11, 12, 13, 14]],\n",
       "\n",
       "       [[15, 16, 17, 18, 19],\n",
       "        [20, 21, 22, 23, 24],\n",
       "        [25, 26, 27, 28, 29]],\n",
       "\n",
       "       [[30, 31, 32, 33, 34],\n",
       "        [35, 36, 37, 38, 39],\n",
       "        [40, 41, 42, 43, 44]]])"
      ]
     },
     "execution_count": 8,
     "metadata": {},
     "output_type": "execute_result"
    }
   ],
   "source": [
    "# 3D\n",
    "# arange() genera valores de un intervalo pasado por parámetro\n",
    "# reshape() modifica la forma del numpy array\n",
    "\n",
    "x = np.arange(45).reshape(3, 3, 5)\n",
    "x"
   ]
  },
  {
   "cell_type": "code",
   "execution_count": 9,
   "id": "9e0e6e69",
   "metadata": {
    "execution": {
     "iopub.execute_input": "2021-09-28T20:19:43.084740Z",
     "iopub.status.busy": "2021-09-28T20:19:43.083275Z",
     "iopub.status.idle": "2021-09-28T20:19:43.086238Z",
     "shell.execute_reply": "2021-09-28T20:19:43.086885Z"
    }
   },
   "outputs": [
    {
     "data": {
      "text/plain": [
       "array([[ 0,  1,  2,  3,  4],\n",
       "       [ 5,  6,  7,  8,  9],\n",
       "       [10, 11, 12, 13, 14]])"
      ]
     },
     "execution_count": 9,
     "metadata": {},
     "output_type": "execute_result"
    }
   ],
   "source": [
    "x[0]"
   ]
  },
  {
   "cell_type": "code",
   "execution_count": 10,
   "id": "8d701af9",
   "metadata": {
    "execution": {
     "iopub.execute_input": "2021-09-28T20:19:43.092266Z",
     "iopub.status.busy": "2021-09-28T20:19:43.091451Z",
     "iopub.status.idle": "2021-09-28T20:19:43.094410Z",
     "shell.execute_reply": "2021-09-28T20:19:43.094853Z"
    }
   },
   "outputs": [
    {
     "data": {
      "text/plain": [
       "array([5, 6, 7, 8, 9])"
      ]
     },
     "execution_count": 10,
     "metadata": {},
     "output_type": "execute_result"
    }
   ],
   "source": [
    "x[0][1]"
   ]
  },
  {
   "cell_type": "code",
   "execution_count": 11,
   "id": "76c38adb",
   "metadata": {
    "execution": {
     "iopub.execute_input": "2021-09-28T20:19:43.099732Z",
     "iopub.status.busy": "2021-09-28T20:19:43.098411Z",
     "iopub.status.idle": "2021-09-28T20:19:43.101631Z",
     "shell.execute_reply": "2021-09-28T20:19:43.102333Z"
    }
   },
   "outputs": [
    {
     "data": {
      "text/plain": [
       "7"
      ]
     },
     "execution_count": 11,
     "metadata": {},
     "output_type": "execute_result"
    }
   ],
   "source": [
    "x[0][1][2]"
   ]
  },
  {
   "cell_type": "markdown",
   "id": "0e6414dd",
   "metadata": {},
   "source": [
    "\n",
    "¿Cómo conseguimos estos valores? ([fuente](https://towardsdatascience.com/indexing-and-slicing-of-1d-2d-and-3d-arrays-in-numpy-e731afff0bbe))\n",
    "\n",
    "![title](img/matrix.png)"
   ]
  },
  {
   "cell_type": "code",
   "execution_count": 12,
   "id": "6d2a25fa",
   "metadata": {
    "execution": {
     "iopub.execute_input": "2021-09-28T20:19:43.107657Z",
     "iopub.status.busy": "2021-09-28T20:19:43.106866Z",
     "iopub.status.idle": "2021-09-28T20:19:43.110728Z",
     "shell.execute_reply": "2021-09-28T20:19:43.110239Z"
    }
   },
   "outputs": [
    {
     "data": {
      "text/plain": [
       "array([[[16, 17, 18],\n",
       "        [21, 22, 23]],\n",
       "\n",
       "       [[31, 32, 33],\n",
       "        [36, 37, 38]]])"
      ]
     },
     "execution_count": 12,
     "metadata": {},
     "output_type": "execute_result"
    }
   ],
   "source": [
    "x[1:, 0:2, 1:4]"
   ]
  },
  {
   "cell_type": "markdown",
   "id": "cf45c02b",
   "metadata": {},
   "source": [
    "### Copia de arreglos"
   ]
  },
  {
   "cell_type": "code",
   "execution_count": 13,
   "id": "9e290e1a",
   "metadata": {
    "execution": {
     "iopub.execute_input": "2021-09-28T20:19:43.116021Z",
     "iopub.status.busy": "2021-09-28T20:19:43.115399Z",
     "iopub.status.idle": "2021-09-28T20:19:43.119256Z",
     "shell.execute_reply": "2021-09-28T20:19:43.118592Z"
    }
   },
   "outputs": [
    {
     "data": {
      "text/plain": [
       "array([1, 2, 3, 4])"
      ]
     },
     "execution_count": 13,
     "metadata": {},
     "output_type": "execute_result"
    }
   ],
   "source": [
    "# Los arreglos no se copian con asignación\n",
    "\n",
    "a = np.array([1, 2, 3, 4])\n",
    "b = a\n",
    "b"
   ]
  },
  {
   "cell_type": "code",
   "execution_count": 14,
   "id": "74068c34",
   "metadata": {
    "execution": {
     "iopub.execute_input": "2021-09-28T20:19:43.125068Z",
     "iopub.status.busy": "2021-09-28T20:19:43.124512Z",
     "iopub.status.idle": "2021-09-28T20:19:43.126480Z",
     "shell.execute_reply": "2021-09-28T20:19:43.127008Z"
    }
   },
   "outputs": [
    {
     "data": {
      "text/plain": [
       "array([ 1, 20,  3,  4])"
      ]
     },
     "execution_count": 14,
     "metadata": {},
     "output_type": "execute_result"
    }
   ],
   "source": [
    "b[1] = 20\n",
    "b"
   ]
  },
  {
   "cell_type": "code",
   "execution_count": 15,
   "id": "99c33cc7",
   "metadata": {
    "execution": {
     "iopub.execute_input": "2021-09-28T20:19:43.130900Z",
     "iopub.status.busy": "2021-09-28T20:19:43.130322Z",
     "iopub.status.idle": "2021-09-28T20:19:43.133695Z",
     "shell.execute_reply": "2021-09-28T20:19:43.133231Z"
    }
   },
   "outputs": [
    {
     "data": {
      "text/plain": [
       "array([ 1, 20,  3,  4])"
      ]
     },
     "execution_count": 15,
     "metadata": {},
     "output_type": "execute_result"
    }
   ],
   "source": [
    "a"
   ]
  },
  {
   "cell_type": "code",
   "execution_count": 16,
   "id": "5c8144e7",
   "metadata": {
    "execution": {
     "iopub.execute_input": "2021-09-28T20:19:43.139929Z",
     "iopub.status.busy": "2021-09-28T20:19:43.139156Z",
     "iopub.status.idle": "2021-09-28T20:19:43.142503Z",
     "shell.execute_reply": "2021-09-28T20:19:43.145316Z"
    }
   },
   "outputs": [
    {
     "data": {
      "text/plain": [
       "array([ 1, 20,  3,  4])"
      ]
     },
     "execution_count": 16,
     "metadata": {},
     "output_type": "execute_result"
    }
   ],
   "source": [
    "# Para copiar un arreglo a otra variable debemos usar copy()\n",
    "\n",
    "a = np.array([1, 2, 3, 4])\n",
    "b = a.copy()\n",
    "b[1] = 20\n",
    "b"
   ]
  },
  {
   "cell_type": "code",
   "execution_count": 17,
   "id": "ac71047b",
   "metadata": {
    "execution": {
     "iopub.execute_input": "2021-09-28T20:19:43.150936Z",
     "iopub.status.busy": "2021-09-28T20:19:43.150018Z",
     "iopub.status.idle": "2021-09-28T20:19:43.153503Z",
     "shell.execute_reply": "2021-09-28T20:19:43.152957Z"
    }
   },
   "outputs": [
    {
     "data": {
      "text/plain": [
       "array([1, 2, 3, 4])"
      ]
     },
     "execution_count": 17,
     "metadata": {},
     "output_type": "execute_result"
    }
   ],
   "source": [
    "a"
   ]
  },
  {
   "cell_type": "markdown",
   "id": "459f67c8",
   "metadata": {},
   "source": [
    "### Modificación de dimensiones"
   ]
  },
  {
   "cell_type": "markdown",
   "id": "708f926d",
   "metadata": {},
   "source": [
    "Existen varias operaciones para cambiar la forma de un arreglo de numpy"
   ]
  },
  {
   "cell_type": "code",
   "execution_count": 18,
   "id": "becb49de",
   "metadata": {
    "execution": {
     "iopub.execute_input": "2021-09-28T20:19:43.156254Z",
     "iopub.status.busy": "2021-09-28T20:19:43.155720Z",
     "iopub.status.idle": "2021-09-28T20:19:43.160003Z",
     "shell.execute_reply": "2021-09-28T20:19:43.160498Z"
    }
   },
   "outputs": [
    {
     "data": {
      "text/plain": [
       "array([[ 1,  2,  3,  4],\n",
       "       [ 5,  6,  7,  8],\n",
       "       [ 9, 10, 11, 12]])"
      ]
     },
     "execution_count": 18,
     "metadata": {},
     "output_type": "execute_result"
    }
   ],
   "source": [
    "matriz_de_enteros"
   ]
  },
  {
   "cell_type": "code",
   "execution_count": 19,
   "id": "4b413cba",
   "metadata": {
    "execution": {
     "iopub.execute_input": "2021-09-28T20:19:43.164741Z",
     "iopub.status.busy": "2021-09-28T20:19:43.163972Z",
     "iopub.status.idle": "2021-09-28T20:19:43.167565Z",
     "shell.execute_reply": "2021-09-28T20:19:43.167114Z"
    }
   },
   "outputs": [
    {
     "data": {
      "text/plain": [
       "2"
      ]
     },
     "execution_count": 19,
     "metadata": {},
     "output_type": "execute_result"
    }
   ],
   "source": [
    "# Obtener las dimensiones del arreglo\n",
    "\n",
    "matriz_de_enteros.ndim"
   ]
  },
  {
   "cell_type": "code",
   "execution_count": 20,
   "id": "efd4de61",
   "metadata": {
    "execution": {
     "iopub.execute_input": "2021-09-28T20:19:43.171852Z",
     "iopub.status.busy": "2021-09-28T20:19:43.171256Z",
     "iopub.status.idle": "2021-09-28T20:19:43.174277Z",
     "shell.execute_reply": "2021-09-28T20:19:43.173790Z"
    }
   },
   "outputs": [
    {
     "data": {
      "text/plain": [
       "(3, 4)"
      ]
     },
     "execution_count": 20,
     "metadata": {},
     "output_type": "execute_result"
    }
   ],
   "source": [
    "# Obtener la forma del arreglo\n",
    "\n",
    "matriz_de_enteros.shape"
   ]
  },
  {
   "cell_type": "code",
   "execution_count": 21,
   "id": "0c623e4a",
   "metadata": {
    "execution": {
     "iopub.execute_input": "2021-09-28T20:19:43.179800Z",
     "iopub.status.busy": "2021-09-28T20:19:43.179279Z",
     "iopub.status.idle": "2021-09-28T20:19:43.182033Z",
     "shell.execute_reply": "2021-09-28T20:19:43.182513Z"
    }
   },
   "outputs": [
    {
     "name": "stdout",
     "output_type": "stream",
     "text": [
      "enteros: [ 3  6  9 12]\n"
     ]
    },
    {
     "data": {
      "text/plain": [
       "array([[ 3,  6],\n",
       "       [ 9, 12]])"
      ]
     },
     "execution_count": 21,
     "metadata": {},
     "output_type": "execute_result"
    }
   ],
   "source": [
    "# Modificar la forma de un arreglo\n",
    "\n",
    "enteros = np.array([3, 6, 9, 12])\n",
    "print(f\"enteros: {enteros}\")\n",
    "np.reshape(enteros, (2, 2))"
   ]
  },
  {
   "cell_type": "code",
   "execution_count": 22,
   "id": "93d8bda8",
   "metadata": {
    "execution": {
     "iopub.execute_input": "2021-09-28T20:19:43.188239Z",
     "iopub.status.busy": "2021-09-28T20:19:43.187459Z",
     "iopub.status.idle": "2021-09-28T20:19:43.190183Z",
     "shell.execute_reply": "2021-09-28T20:19:43.190604Z"
    }
   },
   "outputs": [
    {
     "data": {
      "text/plain": [
       "array([[1., 1.],\n",
       "       [1., 1.]])"
      ]
     },
     "execution_count": 22,
     "metadata": {},
     "output_type": "execute_result"
    }
   ],
   "source": [
    "# Aplanar un arreglo\n",
    "\n",
    "a = np.ones((2, 2))\n",
    "a"
   ]
  },
  {
   "cell_type": "code",
   "execution_count": 23,
   "id": "108824ff",
   "metadata": {
    "execution": {
     "iopub.execute_input": "2021-09-28T20:19:43.195965Z",
     "iopub.status.busy": "2021-09-28T20:19:43.195430Z",
     "iopub.status.idle": "2021-09-28T20:19:43.198092Z",
     "shell.execute_reply": "2021-09-28T20:19:43.198510Z"
    }
   },
   "outputs": [
    {
     "data": {
      "text/plain": [
       "array([1., 1., 1., 1.])"
      ]
     },
     "execution_count": 23,
     "metadata": {},
     "output_type": "execute_result"
    }
   ],
   "source": [
    "a.flatten()"
   ]
  },
  {
   "cell_type": "code",
   "execution_count": 24,
   "id": "7f9fea17",
   "metadata": {
    "execution": {
     "iopub.execute_input": "2021-09-28T20:19:43.203014Z",
     "iopub.status.busy": "2021-09-28T20:19:43.202510Z",
     "iopub.status.idle": "2021-09-28T20:19:43.205259Z",
     "shell.execute_reply": "2021-09-28T20:19:43.205679Z"
    },
    "lines_to_next_cell": 2
   },
   "outputs": [
    {
     "data": {
      "text/plain": [
       "array([[1., 1.],\n",
       "       [1., 1.]])"
      ]
     },
     "execution_count": 24,
     "metadata": {},
     "output_type": "execute_result"
    }
   ],
   "source": [
    "a"
   ]
  },
  {
   "cell_type": "markdown",
   "id": "a0133459",
   "metadata": {},
   "source": [
    "### Combinación de arreglos (Stacking)"
   ]
  },
  {
   "cell_type": "code",
   "execution_count": 25,
   "id": "d902d1b1",
   "metadata": {
    "execution": {
     "iopub.execute_input": "2021-09-28T20:19:43.210832Z",
     "iopub.status.busy": "2021-09-28T20:19:43.210313Z",
     "iopub.status.idle": "2021-09-28T20:19:43.212228Z",
     "shell.execute_reply": "2021-09-28T20:19:43.212713Z"
    }
   },
   "outputs": [
    {
     "data": {
      "text/plain": [
       "array([0, 1, 2, 3, 4])"
      ]
     },
     "execution_count": 25,
     "metadata": {},
     "output_type": "execute_result"
    }
   ],
   "source": [
    "# Los arreglos se pueden combinar verticalmente (se incrementa la cantidad de filas)\n",
    "\n",
    "a = np.arange(0, 5)\n",
    "a"
   ]
  },
  {
   "cell_type": "code",
   "execution_count": 26,
   "id": "5e749902",
   "metadata": {
    "execution": {
     "iopub.execute_input": "2021-09-28T20:19:43.217698Z",
     "iopub.status.busy": "2021-09-28T20:19:43.217079Z",
     "iopub.status.idle": "2021-09-28T20:19:43.219817Z",
     "shell.execute_reply": "2021-09-28T20:19:43.220275Z"
    }
   },
   "outputs": [
    {
     "data": {
      "text/plain": [
       "array([5, 6, 7, 8, 9])"
      ]
     },
     "execution_count": 26,
     "metadata": {},
     "output_type": "execute_result"
    }
   ],
   "source": [
    "b = np.arange(5, 10)\n",
    "b"
   ]
  },
  {
   "cell_type": "code",
   "execution_count": 27,
   "id": "6ebc2488",
   "metadata": {
    "execution": {
     "iopub.execute_input": "2021-09-28T20:19:43.225002Z",
     "iopub.status.busy": "2021-09-28T20:19:43.224328Z",
     "iopub.status.idle": "2021-09-28T20:19:43.226905Z",
     "shell.execute_reply": "2021-09-28T20:19:43.227328Z"
    }
   },
   "outputs": [
    {
     "data": {
      "text/plain": [
       "array([[0, 1, 2, 3, 4],\n",
       "       [5, 6, 7, 8, 9]])"
      ]
     },
     "execution_count": 27,
     "metadata": {},
     "output_type": "execute_result"
    }
   ],
   "source": [
    "combinados_verticalmente = np.vstack((a, b))\n",
    "combinados_verticalmente"
   ]
  },
  {
   "cell_type": "code",
   "execution_count": 28,
   "id": "8af518dc",
   "metadata": {
    "execution": {
     "iopub.execute_input": "2021-09-28T20:19:43.231659Z",
     "iopub.status.busy": "2021-09-28T20:19:43.231082Z",
     "iopub.status.idle": "2021-09-28T20:19:43.234446Z",
     "shell.execute_reply": "2021-09-28T20:19:43.233869Z"
    }
   },
   "outputs": [
    {
     "data": {
      "text/plain": [
       "array([0, 1, 2, 3, 4, 5, 6, 7, 8, 9])"
      ]
     },
     "execution_count": 28,
     "metadata": {},
     "output_type": "execute_result"
    }
   ],
   "source": [
    "# También se pueden combinar horizontalmente (se incrementa la cantidad de columnas)\n",
    "\n",
    "combinados_horizontalmente = np.hstack((a, b))\n",
    "combinados_horizontalmente"
   ]
  },
  {
   "cell_type": "markdown",
   "id": "7963c791",
   "metadata": {},
   "source": [
    "### Operaciones matemáticas"
   ]
  },
  {
   "cell_type": "code",
   "execution_count": 29,
   "id": "2eab9e27",
   "metadata": {
    "execution": {
     "iopub.execute_input": "2021-09-28T20:19:43.239602Z",
     "iopub.status.busy": "2021-09-28T20:19:43.239038Z",
     "iopub.status.idle": "2021-09-28T20:19:43.241940Z",
     "shell.execute_reply": "2021-09-28T20:19:43.242388Z"
    }
   },
   "outputs": [
    {
     "data": {
      "text/plain": [
       "array([3, 4, 5, 6])"
      ]
     },
     "execution_count": 29,
     "metadata": {},
     "output_type": "execute_result"
    }
   ],
   "source": [
    "a = np.array([1, 2, 3, 4])\n",
    "\n",
    "a + 2"
   ]
  },
  {
   "cell_type": "code",
   "execution_count": 30,
   "id": "bb74a99e",
   "metadata": {
    "execution": {
     "iopub.execute_input": "2021-09-28T20:19:43.247844Z",
     "iopub.status.busy": "2021-09-28T20:19:43.247323Z",
     "iopub.status.idle": "2021-09-28T20:19:43.249846Z",
     "shell.execute_reply": "2021-09-28T20:19:43.250265Z"
    }
   },
   "outputs": [
    {
     "data": {
      "text/plain": [
       "array([ 1,  4,  9, 16])"
      ]
     },
     "execution_count": 30,
     "metadata": {},
     "output_type": "execute_result"
    }
   ],
   "source": [
    "a ** 2"
   ]
  },
  {
   "cell_type": "code",
   "execution_count": 31,
   "id": "824f4ca9",
   "metadata": {
    "execution": {
     "iopub.execute_input": "2021-09-28T20:19:43.256984Z",
     "iopub.status.busy": "2021-09-28T20:19:43.256122Z",
     "iopub.status.idle": "2021-09-28T20:19:43.260222Z",
     "shell.execute_reply": "2021-09-28T20:19:43.259736Z"
    }
   },
   "outputs": [
    {
     "name": "stdout",
     "output_type": "stream",
     "text": [
      "b: [1. 1. 1. 1.]\n"
     ]
    },
    {
     "data": {
      "text/plain": [
       "array([2., 3., 4., 5.])"
      ]
     },
     "execution_count": 31,
     "metadata": {},
     "output_type": "execute_result"
    }
   ],
   "source": [
    "b = np.ones(4)\n",
    "print(f\"b: {b}\")\n",
    "a + b"
   ]
  },
  {
   "cell_type": "markdown",
   "id": "3bdf93fd",
   "metadata": {},
   "source": [
    "### Estadística"
   ]
  },
  {
   "cell_type": "code",
   "execution_count": 32,
   "id": "7cc025af",
   "metadata": {
    "execution": {
     "iopub.execute_input": "2021-09-28T20:19:43.266886Z",
     "iopub.status.busy": "2021-09-28T20:19:43.265594Z",
     "iopub.status.idle": "2021-09-28T20:19:43.268780Z",
     "shell.execute_reply": "2021-09-28T20:19:43.268301Z"
    }
   },
   "outputs": [
    {
     "data": {
      "text/plain": [
       "1"
      ]
     },
     "execution_count": 32,
     "metadata": {},
     "output_type": "execute_result"
    }
   ],
   "source": [
    "a = np.array([[5, 2, 1, 8], [26, 4, 17, 9]])\n",
    "\n",
    "np.min(a)"
   ]
  },
  {
   "cell_type": "code",
   "execution_count": 33,
   "id": "c2df4229",
   "metadata": {
    "execution": {
     "iopub.execute_input": "2021-09-28T20:19:43.273723Z",
     "iopub.status.busy": "2021-09-28T20:19:43.273209Z",
     "iopub.status.idle": "2021-09-28T20:19:43.275062Z",
     "shell.execute_reply": "2021-09-28T20:19:43.275754Z"
    }
   },
   "outputs": [
    {
     "data": {
      "text/plain": [
       "26"
      ]
     },
     "execution_count": 33,
     "metadata": {},
     "output_type": "execute_result"
    }
   ],
   "source": [
    "np.max(a)"
   ]
  },
  {
   "cell_type": "code",
   "execution_count": 34,
   "id": "8611b0f8",
   "metadata": {
    "execution": {
     "iopub.execute_input": "2021-09-28T20:19:43.280170Z",
     "iopub.status.busy": "2021-09-28T20:19:43.279607Z",
     "iopub.status.idle": "2021-09-28T20:19:43.282498Z",
     "shell.execute_reply": "2021-09-28T20:19:43.282943Z"
    }
   },
   "outputs": [
    {
     "data": {
      "text/plain": [
       "72"
      ]
     },
     "execution_count": 34,
     "metadata": {},
     "output_type": "execute_result"
    }
   ],
   "source": [
    "np.sum(a)"
   ]
  },
  {
   "cell_type": "markdown",
   "id": "6cc83601",
   "metadata": {},
   "source": [
    "### Más magia"
   ]
  },
  {
   "cell_type": "code",
   "execution_count": 35,
   "id": "431d2e21",
   "metadata": {
    "execution": {
     "iopub.execute_input": "2021-09-28T20:19:43.286036Z",
     "iopub.status.busy": "2021-09-28T20:19:43.285102Z",
     "iopub.status.idle": "2021-09-28T20:19:43.290459Z",
     "shell.execute_reply": "2021-09-28T20:19:43.290883Z"
    }
   },
   "outputs": [
    {
     "data": {
      "text/plain": [
       "array([[False, False, False,  True],\n",
       "       [ True, False,  True,  True]])"
      ]
     },
     "execution_count": 35,
     "metadata": {},
     "output_type": "execute_result"
    }
   ],
   "source": [
    "a = np.array([[5, 2, 1, 8], [26, 4, 17, 9]])\n",
    "\n",
    "a > 5"
   ]
  },
  {
   "cell_type": "code",
   "execution_count": 36,
   "id": "3c617c52",
   "metadata": {
    "execution": {
     "iopub.execute_input": "2021-09-28T20:19:43.294916Z",
     "iopub.status.busy": "2021-09-28T20:19:43.294400Z",
     "iopub.status.idle": "2021-09-28T20:19:43.297879Z",
     "shell.execute_reply": "2021-09-28T20:19:43.298326Z"
    }
   },
   "outputs": [
    {
     "data": {
      "text/plain": [
       "array([ 8, 26, 17,  9])"
      ]
     },
     "execution_count": 36,
     "metadata": {},
     "output_type": "execute_result"
    }
   ],
   "source": [
    "a[a > 5]"
   ]
  },
  {
   "cell_type": "markdown",
   "id": "8dcbb517",
   "metadata": {},
   "source": [
    "### Broadcasting"
   ]
  },
  {
   "cell_type": "markdown",
   "id": "96341627",
   "metadata": {},
   "source": [
    "Permite realizar operaciones entre dos numpy arrays de distintas dimensiones.\n",
    "Para lograr esto, las dimensiones de los mismos deben ser compatibles. Dos dimensiones son compatibles cuando:\n",
    "1. Son iguales\n",
    "2. Alguna de las dos es 1"
   ]
  },
  {
   "cell_type": "code",
   "execution_count": 37,
   "id": "fe9bb0f4",
   "metadata": {
    "execution": {
     "iopub.execute_input": "2021-09-28T20:19:43.303640Z",
     "iopub.status.busy": "2021-09-28T20:19:43.303120Z",
     "iopub.status.idle": "2021-09-28T20:19:43.304947Z",
     "shell.execute_reply": "2021-09-28T20:19:43.305389Z"
    }
   },
   "outputs": [
    {
     "data": {
      "text/plain": [
       "array([[ 5,  2,  1,  8],\n",
       "       [26,  4, 17,  9]])"
      ]
     },
     "execution_count": 37,
     "metadata": {},
     "output_type": "execute_result"
    }
   ],
   "source": [
    "a = np.array([[5, 2, 1, 8], [26, 4, 17, 9]])\n",
    "a"
   ]
  },
  {
   "cell_type": "code",
   "execution_count": 38,
   "id": "0b8d7c9f",
   "metadata": {
    "execution": {
     "iopub.execute_input": "2021-09-28T20:19:43.310941Z",
     "iopub.status.busy": "2021-09-28T20:19:43.310335Z",
     "iopub.status.idle": "2021-09-28T20:19:43.313227Z",
     "shell.execute_reply": "2021-09-28T20:19:43.313665Z"
    }
   },
   "outputs": [
    {
     "name": "stdout",
     "output_type": "stream",
     "text": [
      "a: (2, 4)\n",
      "b: (4,)\n",
      "\n",
      "a + b:\n",
      " [[10  4  2 16]\n",
      " [31  6 18 17]]\n"
     ]
    }
   ],
   "source": [
    "# Armamos un array que tenga la misma cantidad de columnas que a\n",
    "b = np.array([5, 2, 1, 8])\n",
    "print(f\"a: {a.shape}\")\n",
    "print(f\"b: {b.shape}\")\n",
    "# a + b\n",
    "print()\n",
    "print(f\"a + b:\\n {a + b}\")"
   ]
  },
  {
   "cell_type": "code",
   "execution_count": 39,
   "id": "a1d4303a",
   "metadata": {
    "execution": {
     "iopub.execute_input": "2021-09-28T20:19:43.319095Z",
     "iopub.status.busy": "2021-09-28T20:19:43.318159Z",
     "iopub.status.idle": "2021-09-28T20:19:43.388179Z",
     "shell.execute_reply": "2021-09-28T20:19:43.387679Z"
    },
    "tags": [
     "raises-exception"
    ]
   },
   "outputs": [
    {
     "name": "stdout",
     "output_type": "stream",
     "text": [
      "a: (2, 4)\n",
      "b: (3,)\n"
     ]
    },
    {
     "ename": "ValueError",
     "evalue": "operands could not be broadcast together with shapes (2,4) (3,) ",
     "output_type": "error",
     "traceback": [
      "\u001b[0;31m---------------------------------------------------------------------------\u001b[0m",
      "\u001b[0;31mValueError\u001b[0m                                Traceback (most recent call last)",
      "\u001b[0;32m/tmp/ipykernel_1931/261865458.py\u001b[0m in \u001b[0;36m<module>\u001b[0;34m\u001b[0m\n\u001b[1;32m      3\u001b[0m \u001b[0mprint\u001b[0m\u001b[0;34m(\u001b[0m\u001b[0;34mf\"a: {a.shape}\"\u001b[0m\u001b[0;34m)\u001b[0m\u001b[0;34m\u001b[0m\u001b[0;34m\u001b[0m\u001b[0m\n\u001b[1;32m      4\u001b[0m \u001b[0mprint\u001b[0m\u001b[0;34m(\u001b[0m\u001b[0;34mf\"b: {b.shape}\"\u001b[0m\u001b[0;34m)\u001b[0m\u001b[0;34m\u001b[0m\u001b[0;34m\u001b[0m\u001b[0m\n\u001b[0;32m----> 5\u001b[0;31m \u001b[0ma\u001b[0m \u001b[0;34m+\u001b[0m \u001b[0mb\u001b[0m\u001b[0;34m\u001b[0m\u001b[0;34m\u001b[0m\u001b[0m\n\u001b[0m",
      "\u001b[0;31mValueError\u001b[0m: operands could not be broadcast together with shapes (2,4) (3,) "
     ]
    }
   ],
   "source": [
    "# Armamos un array que tenga distinta cantidad de filas y columnas que a\n",
    "b = np.array([5, 1, 8])\n",
    "print(f\"a: {a.shape}\")\n",
    "print(f\"b: {b.shape}\")\n",
    "a + b"
   ]
  },
  {
   "cell_type": "code",
   "execution_count": 40,
   "id": "1516fa22",
   "metadata": {
    "execution": {
     "iopub.execute_input": "2021-09-28T20:19:43.395468Z",
     "iopub.status.busy": "2021-09-28T20:19:43.394445Z",
     "iopub.status.idle": "2021-09-28T20:19:43.399783Z",
     "shell.execute_reply": "2021-09-28T20:19:43.398539Z"
    }
   },
   "outputs": [
    {
     "name": "stdout",
     "output_type": "stream",
     "text": [
      "a: (2, 4)\n",
      "b: (2, 1)\n"
     ]
    },
    {
     "data": {
      "text/plain": [
       "array([[ 7,  4,  3, 10],\n",
       "       [27,  5, 18, 10]])"
      ]
     },
     "execution_count": 40,
     "metadata": {},
     "output_type": "execute_result"
    }
   ],
   "source": [
    "# Armamos un array que tenga la misma cantidad de filas que a\n",
    "b = np.array([[2], [1]])\n",
    "print(f\"a: {a.shape}\")\n",
    "print(f\"b: {b.shape}\")\n",
    "a + b"
   ]
  },
  {
   "cell_type": "code",
   "execution_count": 41,
   "id": "cda2b1ac",
   "metadata": {
    "execution": {
     "iopub.execute_input": "2021-09-28T20:19:43.404833Z",
     "iopub.status.busy": "2021-09-28T20:19:43.404288Z",
     "iopub.status.idle": "2021-09-28T20:19:43.407526Z",
     "shell.execute_reply": "2021-09-28T20:19:43.407086Z"
    }
   },
   "outputs": [
    {
     "data": {
      "text/plain": [
       "array([[ 9,  6,  5, 12],\n",
       "       [30,  8, 21, 13]])"
      ]
     },
     "execution_count": 41,
     "metadata": {},
     "output_type": "execute_result"
    }
   ],
   "source": [
    "# Si b es un entero\n",
    "b = 4\n",
    "a + b"
   ]
  },
  {
   "cell_type": "code",
   "execution_count": null,
   "id": "8c415585",
   "metadata": {},
   "outputs": [],
   "source": []
  }
 ],
 "metadata": {
  "jupytext": {
   "encoding": "# -*- coding: utf-8 -*-",
   "formats": "ipynb,py:light"
  },
  "kernelspec": {
   "display_name": "Python 3",
   "language": "python",
   "name": "python3"
  },
  "language_info": {
   "codemirror_mode": {
    "name": "ipython",
    "version": 3
   },
   "file_extension": ".py",
   "mimetype": "text/x-python",
   "name": "python",
   "nbconvert_exporter": "python",
   "pygments_lexer": "ipython3",
   "version": "3.7.12"
  }
 },
 "nbformat": 4,
 "nbformat_minor": 5
}
