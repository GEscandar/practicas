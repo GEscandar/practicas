{
 "cells": [
  {
   "cell_type": "markdown",
   "id": "ebded6df",
   "metadata": {},
   "source": [
    "## Clase 1 - Introducción a Numpy\n",
    "\n",
    "Numpy es una biblioteca para Python que facilita el manejo de arreglos multidimensionales y ofrece varias herramientas para trabajar con ellos. Muchas de las bibliotecas de Python que son ampliamente usadas hoy en día, como pandas, están construidas sobre numpy.\n",
    "\n",
    "### Listas de Python vs arreglos de Numpy\n",
    "\n",
    "A primera vista, un arreglo de numpy puede resultar idéntico a una lista de python, pero a medida que la cantidad de datos comienza a incrementar, los arreglos de numpy terminan ofreciendo un manejo más eficiente de la memoria.\n",
    "\n",
    "Para comenzar, vamos a crear un arreglo de numpy:"
   ]
  },
  {
   "cell_type": "code",
   "execution_count": 1,
   "id": "c2c6201a",
   "metadata": {
    "execution": {
     "iopub.execute_input": "2021-11-02T16:32:27.565237Z",
     "iopub.status.busy": "2021-11-02T16:32:27.564145Z",
     "iopub.status.idle": "2021-11-02T16:32:27.724781Z",
     "shell.execute_reply": "2021-11-02T16:32:27.725257Z"
    }
   },
   "outputs": [
    {
     "data": {
      "text/plain": [
       "array([1, 2, 3, 4])"
      ]
     },
     "execution_count": 1,
     "metadata": {},
     "output_type": "execute_result"
    }
   ],
   "source": [
    "import numpy as np\n",
    "\n",
    "np.array([1, 2, 3, 4])"
   ]
  },
  {
   "cell_type": "markdown",
   "id": "2b0306eb",
   "metadata": {},
   "source": [
    "Los arreglos pueden ser también multidimensionales:"
   ]
  },
  {
   "cell_type": "code",
   "execution_count": 2,
   "id": "35fd4fff",
   "metadata": {
    "execution": {
     "iopub.execute_input": "2021-11-02T16:32:27.731255Z",
     "iopub.status.busy": "2021-11-02T16:32:27.727968Z",
     "iopub.status.idle": "2021-11-02T16:32:27.734763Z",
     "shell.execute_reply": "2021-11-02T16:32:27.735223Z"
    }
   },
   "outputs": [
    {
     "data": {
      "text/plain": [
       "array([[1, 2, 3, 4],\n",
       "       [5, 6, 7, 8]])"
      ]
     },
     "execution_count": 2,
     "metadata": {},
     "output_type": "execute_result"
    }
   ],
   "source": [
    "np.array([[1, 2, 3, 4], [5, 6, 7, 8]])"
   ]
  },
  {
   "cell_type": "markdown",
   "id": "da7a8a1c",
   "metadata": {},
   "source": [
    "Es importante tener en cuenta que un arreglo de numpy tiene un tipo fijo de datos, entonces si se quiere agregar un dato de un tipo diferente al de la mayoría, este va a ser modificado para adaptarse al resto"
   ]
  },
  {
   "cell_type": "code",
   "execution_count": 3,
   "id": "eeff4cbe",
   "metadata": {
    "execution": {
     "iopub.execute_input": "2021-11-02T16:32:27.740815Z",
     "iopub.status.busy": "2021-11-02T16:32:27.739371Z",
     "iopub.status.idle": "2021-11-02T16:32:27.741456Z",
     "shell.execute_reply": "2021-11-02T16:32:27.741906Z"
    }
   },
   "outputs": [],
   "source": [
    "enteros = np.array([1, 2, 3, 4])"
   ]
  },
  {
   "cell_type": "markdown",
   "id": "70433a94",
   "metadata": {},
   "source": [
    "Agrego un elemento de tipo flotante en la posición 1"
   ]
  },
  {
   "cell_type": "code",
   "execution_count": 4,
   "id": "08a7fd47",
   "metadata": {
    "execution": {
     "iopub.execute_input": "2021-11-02T16:32:27.747853Z",
     "iopub.status.busy": "2021-11-02T16:32:27.746842Z",
     "iopub.status.idle": "2021-11-02T16:32:27.750849Z",
     "shell.execute_reply": "2021-11-02T16:32:27.750349Z"
    }
   },
   "outputs": [
    {
     "data": {
      "text/plain": [
       "array([1, 8, 3, 4])"
      ]
     },
     "execution_count": 4,
     "metadata": {},
     "output_type": "execute_result"
    }
   ],
   "source": [
    "enteros[1] = 8.4727\n",
    "enteros"
   ]
  },
  {
   "cell_type": "markdown",
   "id": "7ec3b5cd",
   "metadata": {},
   "source": [
    "Numpy también nos permite crear arreglos con valores aleatorios del 0 al 1.\n",
    "Basta con pasarle las dimensiones del arreglo que queremos crear."
   ]
  },
  {
   "cell_type": "code",
   "execution_count": 5,
   "id": "a5862670",
   "metadata": {
    "execution": {
     "iopub.execute_input": "2021-11-02T16:32:27.757215Z",
     "iopub.status.busy": "2021-11-02T16:32:27.756159Z",
     "iopub.status.idle": "2021-11-02T16:32:27.760112Z",
     "shell.execute_reply": "2021-11-02T16:32:27.759615Z"
    }
   },
   "outputs": [
    {
     "data": {
      "text/plain": [
       "array([[0.07933147, 0.39018954, 0.13333471],\n",
       "       [0.37945925, 0.53485149, 0.87284555]])"
      ]
     },
     "execution_count": 5,
     "metadata": {},
     "output_type": "execute_result"
    }
   ],
   "source": [
    "np.random.rand(2, 3)"
   ]
  },
  {
   "cell_type": "markdown",
   "id": "69d0502f",
   "metadata": {},
   "source": [
    "## Slicing\n",
    "\n",
    "De la misma forma que con las listas de python, pueden obtenerse slices de los arreglos de numpy"
   ]
  },
  {
   "cell_type": "code",
   "execution_count": 6,
   "id": "042e2a71",
   "metadata": {
    "execution": {
     "iopub.execute_input": "2021-11-02T16:32:27.765931Z",
     "iopub.status.busy": "2021-11-02T16:32:27.764910Z",
     "iopub.status.idle": "2021-11-02T16:32:27.768748Z",
     "shell.execute_reply": "2021-11-02T16:32:27.768248Z"
    },
    "lines_to_next_cell": 2
   },
   "outputs": [
    {
     "data": {
      "text/plain": [
       "array([1, 8])"
      ]
     },
     "execution_count": 6,
     "metadata": {},
     "output_type": "execute_result"
    }
   ],
   "source": [
    "enteros[:2]"
   ]
  },
  {
   "cell_type": "code",
   "execution_count": 7,
   "id": "78ddea96",
   "metadata": {
    "execution": {
     "iopub.execute_input": "2021-11-02T16:32:27.774181Z",
     "iopub.status.busy": "2021-11-02T16:32:27.773605Z",
     "iopub.status.idle": "2021-11-02T16:32:27.776445Z",
     "shell.execute_reply": "2021-11-02T16:32:27.776904Z"
    }
   },
   "outputs": [
    {
     "name": "stdout",
     "output_type": "stream",
     "text": [
      "Original: \n",
      "[[ 1  2  3  4]\n",
      " [ 5  6  7  8]\n",
      " [ 9 10 11 12]]\n",
      "\n",
      "Recortada: \n",
      "[[1 2 3]\n",
      " [5 6 7]]\n"
     ]
    }
   ],
   "source": [
    "matriz_de_enteros = np.array([[1, 2, 3, 4], [5, 6, 7, 8], [9, 10, 11, 12]])\n",
    "\n",
    "print('Original: ')\n",
    "print(matriz_de_enteros)\n",
    "\n",
    "print()\n",
    "\n",
    "print('Recortada: ')\n",
    "print(matriz_de_enteros[:2, :3])"
   ]
  },
  {
   "cell_type": "code",
   "execution_count": 8,
   "id": "914397f1",
   "metadata": {
    "execution": {
     "iopub.execute_input": "2021-11-02T16:32:27.781935Z",
     "iopub.status.busy": "2021-11-02T16:32:27.781339Z",
     "iopub.status.idle": "2021-11-02T16:32:27.783833Z",
     "shell.execute_reply": "2021-11-02T16:32:27.784405Z"
    }
   },
   "outputs": [
    {
     "data": {
      "text/plain": [
       "array([[[ 0,  1,  2,  3,  4],\n",
       "        [ 5,  6,  7,  8,  9],\n",
       "        [10, 11, 12, 13, 14]],\n",
       "\n",
       "       [[15, 16, 17, 18, 19],\n",
       "        [20, 21, 22, 23, 24],\n",
       "        [25, 26, 27, 28, 29]],\n",
       "\n",
       "       [[30, 31, 32, 33, 34],\n",
       "        [35, 36, 37, 38, 39],\n",
       "        [40, 41, 42, 43, 44]]])"
      ]
     },
     "execution_count": 8,
     "metadata": {},
     "output_type": "execute_result"
    }
   ],
   "source": [
    "# 3D\n",
    "# arange() genera valores de un intervalo pasado por parámetro\n",
    "# reshape() modifica la forma del numpy array\n",
    "\n",
    "x = np.arange(45).reshape(3, 3, 5)\n",
    "x"
   ]
  },
  {
   "cell_type": "code",
   "execution_count": 9,
   "id": "f17e32d6",
   "metadata": {
    "execution": {
     "iopub.execute_input": "2021-11-02T16:32:27.789164Z",
     "iopub.status.busy": "2021-11-02T16:32:27.788590Z",
     "iopub.status.idle": "2021-11-02T16:32:27.791296Z",
     "shell.execute_reply": "2021-11-02T16:32:27.791754Z"
    }
   },
   "outputs": [
    {
     "data": {
      "text/plain": [
       "array([[ 0,  1,  2,  3,  4],\n",
       "       [ 5,  6,  7,  8,  9],\n",
       "       [10, 11, 12, 13, 14]])"
      ]
     },
     "execution_count": 9,
     "metadata": {},
     "output_type": "execute_result"
    }
   ],
   "source": [
    "x[0]"
   ]
  },
  {
   "cell_type": "code",
   "execution_count": 10,
   "id": "c3a2db6e",
   "metadata": {
    "execution": {
     "iopub.execute_input": "2021-11-02T16:32:27.796048Z",
     "iopub.status.busy": "2021-11-02T16:32:27.795487Z",
     "iopub.status.idle": "2021-11-02T16:32:27.797965Z",
     "shell.execute_reply": "2021-11-02T16:32:27.798511Z"
    }
   },
   "outputs": [
    {
     "data": {
      "text/plain": [
       "array([5, 6, 7, 8, 9])"
      ]
     },
     "execution_count": 10,
     "metadata": {},
     "output_type": "execute_result"
    }
   ],
   "source": [
    "x[0][1]"
   ]
  },
  {
   "cell_type": "code",
   "execution_count": 11,
   "id": "8e0648f9",
   "metadata": {
    "execution": {
     "iopub.execute_input": "2021-11-02T16:32:27.802908Z",
     "iopub.status.busy": "2021-11-02T16:32:27.802354Z",
     "iopub.status.idle": "2021-11-02T16:32:27.804811Z",
     "shell.execute_reply": "2021-11-02T16:32:27.805360Z"
    }
   },
   "outputs": [
    {
     "data": {
      "text/plain": [
       "7"
      ]
     },
     "execution_count": 11,
     "metadata": {},
     "output_type": "execute_result"
    }
   ],
   "source": [
    "x[0][1][2]"
   ]
  },
  {
   "cell_type": "markdown",
   "id": "dd0a724d",
   "metadata": {},
   "source": [
    "\n",
    "¿Cómo conseguimos estos valores? ([fuente](https://towardsdatascience.com/indexing-and-slicing-of-1d-2d-and-3d-arrays-in-numpy-e731afff0bbe))\n",
    "\n",
    "![title](img/matrix.png)"
   ]
  },
  {
   "cell_type": "code",
   "execution_count": 12,
   "id": "9a0b3005",
   "metadata": {
    "execution": {
     "iopub.execute_input": "2021-11-02T16:32:27.810575Z",
     "iopub.status.busy": "2021-11-02T16:32:27.809420Z",
     "iopub.status.idle": "2021-11-02T16:32:27.813499Z",
     "shell.execute_reply": "2021-11-02T16:32:27.813955Z"
    }
   },
   "outputs": [
    {
     "data": {
      "text/plain": [
       "array([[[16, 17, 18],\n",
       "        [21, 22, 23]],\n",
       "\n",
       "       [[31, 32, 33],\n",
       "        [36, 37, 38]]])"
      ]
     },
     "execution_count": 12,
     "metadata": {},
     "output_type": "execute_result"
    }
   ],
   "source": [
    "x[1:, 0:2, 1:4]"
   ]
  },
  {
   "cell_type": "markdown",
   "id": "fe08068c",
   "metadata": {},
   "source": [
    "### Copia de arreglos"
   ]
  },
  {
   "cell_type": "code",
   "execution_count": 13,
   "id": "03c7142d",
   "metadata": {
    "execution": {
     "iopub.execute_input": "2021-11-02T16:32:27.820060Z",
     "iopub.status.busy": "2021-11-02T16:32:27.819024Z",
     "iopub.status.idle": "2021-11-02T16:32:27.822896Z",
     "shell.execute_reply": "2021-11-02T16:32:27.822396Z"
    }
   },
   "outputs": [
    {
     "data": {
      "text/plain": [
       "array([1, 2, 3, 4])"
      ]
     },
     "execution_count": 13,
     "metadata": {},
     "output_type": "execute_result"
    }
   ],
   "source": [
    "# Los arreglos no se copian con asignación\n",
    "\n",
    "a = np.array([1, 2, 3, 4])\n",
    "b = a\n",
    "b"
   ]
  },
  {
   "cell_type": "code",
   "execution_count": 14,
   "id": "465e1182",
   "metadata": {
    "execution": {
     "iopub.execute_input": "2021-11-02T16:32:27.828634Z",
     "iopub.status.busy": "2021-11-02T16:32:27.827586Z",
     "iopub.status.idle": "2021-11-02T16:32:27.830889Z",
     "shell.execute_reply": "2021-11-02T16:32:27.831340Z"
    }
   },
   "outputs": [
    {
     "data": {
      "text/plain": [
       "array([ 1, 20,  3,  4])"
      ]
     },
     "execution_count": 14,
     "metadata": {},
     "output_type": "execute_result"
    }
   ],
   "source": [
    "b[1] = 20\n",
    "b"
   ]
  },
  {
   "cell_type": "code",
   "execution_count": 15,
   "id": "b03d78e3",
   "metadata": {
    "execution": {
     "iopub.execute_input": "2021-11-02T16:32:27.837000Z",
     "iopub.status.busy": "2021-11-02T16:32:27.835894Z",
     "iopub.status.idle": "2021-11-02T16:32:27.839826Z",
     "shell.execute_reply": "2021-11-02T16:32:27.839353Z"
    }
   },
   "outputs": [
    {
     "data": {
      "text/plain": [
       "array([ 1, 20,  3,  4])"
      ]
     },
     "execution_count": 15,
     "metadata": {},
     "output_type": "execute_result"
    }
   ],
   "source": [
    "a"
   ]
  },
  {
   "cell_type": "code",
   "execution_count": 16,
   "id": "3453760c",
   "metadata": {
    "execution": {
     "iopub.execute_input": "2021-11-02T16:32:27.846287Z",
     "iopub.status.busy": "2021-11-02T16:32:27.845247Z",
     "iopub.status.idle": "2021-11-02T16:32:27.848592Z",
     "shell.execute_reply": "2021-11-02T16:32:27.849049Z"
    }
   },
   "outputs": [
    {
     "data": {
      "text/plain": [
       "array([ 1, 20,  3,  4])"
      ]
     },
     "execution_count": 16,
     "metadata": {},
     "output_type": "execute_result"
    }
   ],
   "source": [
    "# Para copiar un arreglo a otra variable debemos usar copy()\n",
    "\n",
    "a = np.array([1, 2, 3, 4])\n",
    "b = a.copy()\n",
    "b[1] = 20\n",
    "b"
   ]
  },
  {
   "cell_type": "code",
   "execution_count": 17,
   "id": "13e83a62",
   "metadata": {
    "execution": {
     "iopub.execute_input": "2021-11-02T16:32:27.854602Z",
     "iopub.status.busy": "2021-11-02T16:32:27.853578Z",
     "iopub.status.idle": "2021-11-02T16:32:27.857387Z",
     "shell.execute_reply": "2021-11-02T16:32:27.856898Z"
    }
   },
   "outputs": [
    {
     "data": {
      "text/plain": [
       "array([1, 2, 3, 4])"
      ]
     },
     "execution_count": 17,
     "metadata": {},
     "output_type": "execute_result"
    }
   ],
   "source": [
    "a"
   ]
  },
  {
   "cell_type": "markdown",
   "id": "949cf8f4",
   "metadata": {},
   "source": [
    "### Modificación de dimensiones"
   ]
  },
  {
   "cell_type": "markdown",
   "id": "bfebb500",
   "metadata": {},
   "source": [
    "Existen varias operaciones para cambiar la forma de un arreglo de numpy"
   ]
  },
  {
   "cell_type": "code",
   "execution_count": 18,
   "id": "7c4c0dc7",
   "metadata": {
    "execution": {
     "iopub.execute_input": "2021-11-02T16:32:27.863038Z",
     "iopub.status.busy": "2021-11-02T16:32:27.861995Z",
     "iopub.status.idle": "2021-11-02T16:32:27.865828Z",
     "shell.execute_reply": "2021-11-02T16:32:27.865346Z"
    }
   },
   "outputs": [
    {
     "data": {
      "text/plain": [
       "array([[ 1,  2,  3,  4],\n",
       "       [ 5,  6,  7,  8],\n",
       "       [ 9, 10, 11, 12]])"
      ]
     },
     "execution_count": 18,
     "metadata": {},
     "output_type": "execute_result"
    }
   ],
   "source": [
    "matriz_de_enteros"
   ]
  },
  {
   "cell_type": "code",
   "execution_count": 19,
   "id": "583fa0c2",
   "metadata": {
    "execution": {
     "iopub.execute_input": "2021-11-02T16:32:27.870220Z",
     "iopub.status.busy": "2021-11-02T16:32:27.869646Z",
     "iopub.status.idle": "2021-11-02T16:32:27.872358Z",
     "shell.execute_reply": "2021-11-02T16:32:27.872823Z"
    }
   },
   "outputs": [
    {
     "data": {
      "text/plain": [
       "2"
      ]
     },
     "execution_count": 19,
     "metadata": {},
     "output_type": "execute_result"
    }
   ],
   "source": [
    "# Obtener las dimensiones del arreglo\n",
    "\n",
    "matriz_de_enteros.ndim"
   ]
  },
  {
   "cell_type": "code",
   "execution_count": 20,
   "id": "586e53f8",
   "metadata": {
    "execution": {
     "iopub.execute_input": "2021-11-02T16:32:27.877179Z",
     "iopub.status.busy": "2021-11-02T16:32:27.876593Z",
     "iopub.status.idle": "2021-11-02T16:32:27.879272Z",
     "shell.execute_reply": "2021-11-02T16:32:27.879728Z"
    }
   },
   "outputs": [
    {
     "data": {
      "text/plain": [
       "(3, 4)"
      ]
     },
     "execution_count": 20,
     "metadata": {},
     "output_type": "execute_result"
    }
   ],
   "source": [
    "# Obtener la forma del arreglo\n",
    "\n",
    "matriz_de_enteros.shape"
   ]
  },
  {
   "cell_type": "code",
   "execution_count": 21,
   "id": "6031d575",
   "metadata": {
    "execution": {
     "iopub.execute_input": "2021-11-02T16:32:27.884959Z",
     "iopub.status.busy": "2021-11-02T16:32:27.884394Z",
     "iopub.status.idle": "2021-11-02T16:32:27.887863Z",
     "shell.execute_reply": "2021-11-02T16:32:27.888341Z"
    }
   },
   "outputs": [
    {
     "name": "stdout",
     "output_type": "stream",
     "text": [
      "enteros: [ 3  6  9 12]\n"
     ]
    },
    {
     "data": {
      "text/plain": [
       "array([[ 3,  6],\n",
       "       [ 9, 12]])"
      ]
     },
     "execution_count": 21,
     "metadata": {},
     "output_type": "execute_result"
    }
   ],
   "source": [
    "# Modificar la forma de un arreglo\n",
    "\n",
    "enteros = np.array([3, 6, 9, 12])\n",
    "print(f\"enteros: {enteros}\")\n",
    "np.reshape(enteros, (2, 2))"
   ]
  },
  {
   "cell_type": "code",
   "execution_count": 22,
   "id": "66aed216",
   "metadata": {
    "execution": {
     "iopub.execute_input": "2021-11-02T16:32:27.893380Z",
     "iopub.status.busy": "2021-11-02T16:32:27.892796Z",
     "iopub.status.idle": "2021-11-02T16:32:27.895481Z",
     "shell.execute_reply": "2021-11-02T16:32:27.895933Z"
    }
   },
   "outputs": [
    {
     "data": {
      "text/plain": [
       "array([[1., 1.],\n",
       "       [1., 1.]])"
      ]
     },
     "execution_count": 22,
     "metadata": {},
     "output_type": "execute_result"
    }
   ],
   "source": [
    "# Aplanar un arreglo\n",
    "\n",
    "a = np.ones((2, 2))\n",
    "a"
   ]
  },
  {
   "cell_type": "code",
   "execution_count": 23,
   "id": "52fa7a5e",
   "metadata": {
    "execution": {
     "iopub.execute_input": "2021-11-02T16:32:27.900684Z",
     "iopub.status.busy": "2021-11-02T16:32:27.900088Z",
     "iopub.status.idle": "2021-11-02T16:32:27.902788Z",
     "shell.execute_reply": "2021-11-02T16:32:27.903237Z"
    }
   },
   "outputs": [
    {
     "data": {
      "text/plain": [
       "array([1., 1., 1., 1.])"
      ]
     },
     "execution_count": 23,
     "metadata": {},
     "output_type": "execute_result"
    }
   ],
   "source": [
    "a.flatten()"
   ]
  },
  {
   "cell_type": "code",
   "execution_count": 24,
   "id": "ce24ebba",
   "metadata": {
    "execution": {
     "iopub.execute_input": "2021-11-02T16:32:27.907660Z",
     "iopub.status.busy": "2021-11-02T16:32:27.907075Z",
     "iopub.status.idle": "2021-11-02T16:32:27.909791Z",
     "shell.execute_reply": "2021-11-02T16:32:27.910244Z"
    },
    "lines_to_next_cell": 2
   },
   "outputs": [
    {
     "data": {
      "text/plain": [
       "array([[1., 1.],\n",
       "       [1., 1.]])"
      ]
     },
     "execution_count": 24,
     "metadata": {},
     "output_type": "execute_result"
    }
   ],
   "source": [
    "a"
   ]
  },
  {
   "cell_type": "markdown",
   "id": "92c08fc1",
   "metadata": {},
   "source": [
    "### Combinación de arreglos (Stacking)"
   ]
  },
  {
   "cell_type": "code",
   "execution_count": 25,
   "id": "db35af64",
   "metadata": {
    "execution": {
     "iopub.execute_input": "2021-11-02T16:32:27.914979Z",
     "iopub.status.busy": "2021-11-02T16:32:27.914382Z",
     "iopub.status.idle": "2021-11-02T16:32:27.917135Z",
     "shell.execute_reply": "2021-11-02T16:32:27.917600Z"
    }
   },
   "outputs": [
    {
     "data": {
      "text/plain": [
       "array([0, 1, 2, 3, 4])"
      ]
     },
     "execution_count": 25,
     "metadata": {},
     "output_type": "execute_result"
    }
   ],
   "source": [
    "# Los arreglos se pueden combinar verticalmente (se incrementa la cantidad de filas)\n",
    "\n",
    "a = np.arange(0, 5)\n",
    "a"
   ]
  },
  {
   "cell_type": "code",
   "execution_count": 26,
   "id": "cf3da64f",
   "metadata": {
    "execution": {
     "iopub.execute_input": "2021-11-02T16:32:27.922054Z",
     "iopub.status.busy": "2021-11-02T16:32:27.921500Z",
     "iopub.status.idle": "2021-11-02T16:32:27.923915Z",
     "shell.execute_reply": "2021-11-02T16:32:27.924503Z"
    }
   },
   "outputs": [
    {
     "data": {
      "text/plain": [
       "array([5, 6, 7, 8, 9])"
      ]
     },
     "execution_count": 26,
     "metadata": {},
     "output_type": "execute_result"
    }
   ],
   "source": [
    "b = np.arange(5, 10)\n",
    "b"
   ]
  },
  {
   "cell_type": "code",
   "execution_count": 27,
   "id": "1bc211fe",
   "metadata": {
    "execution": {
     "iopub.execute_input": "2021-11-02T16:32:27.929419Z",
     "iopub.status.busy": "2021-11-02T16:32:27.928830Z",
     "iopub.status.idle": "2021-11-02T16:32:27.931547Z",
     "shell.execute_reply": "2021-11-02T16:32:27.932003Z"
    }
   },
   "outputs": [
    {
     "data": {
      "text/plain": [
       "array([[0, 1, 2, 3, 4],\n",
       "       [5, 6, 7, 8, 9]])"
      ]
     },
     "execution_count": 27,
     "metadata": {},
     "output_type": "execute_result"
    }
   ],
   "source": [
    "combinados_verticalmente = np.vstack((a, b))\n",
    "combinados_verticalmente"
   ]
  },
  {
   "cell_type": "code",
   "execution_count": 28,
   "id": "ccc8ec8e",
   "metadata": {
    "execution": {
     "iopub.execute_input": "2021-11-02T16:32:27.936869Z",
     "iopub.status.busy": "2021-11-02T16:32:27.936265Z",
     "iopub.status.idle": "2021-11-02T16:32:27.939025Z",
     "shell.execute_reply": "2021-11-02T16:32:27.939493Z"
    }
   },
   "outputs": [
    {
     "data": {
      "text/plain": [
       "array([0, 1, 2, 3, 4, 5, 6, 7, 8, 9])"
      ]
     },
     "execution_count": 28,
     "metadata": {},
     "output_type": "execute_result"
    }
   ],
   "source": [
    "# También se pueden combinar horizontalmente (se incrementa la cantidad de columnas)\n",
    "\n",
    "combinados_horizontalmente = np.hstack((a, b))\n",
    "combinados_horizontalmente"
   ]
  },
  {
   "cell_type": "markdown",
   "id": "84728bb9",
   "metadata": {},
   "source": [
    "### Operaciones matemáticas"
   ]
  },
  {
   "cell_type": "code",
   "execution_count": 29,
   "id": "a0407676",
   "metadata": {
    "execution": {
     "iopub.execute_input": "2021-11-02T16:32:27.944657Z",
     "iopub.status.busy": "2021-11-02T16:32:27.944043Z",
     "iopub.status.idle": "2021-11-02T16:32:27.946760Z",
     "shell.execute_reply": "2021-11-02T16:32:27.947213Z"
    }
   },
   "outputs": [
    {
     "data": {
      "text/plain": [
       "array([3, 4, 5, 6])"
      ]
     },
     "execution_count": 29,
     "metadata": {},
     "output_type": "execute_result"
    }
   ],
   "source": [
    "a = np.array([1, 2, 3, 4])\n",
    "\n",
    "a + 2"
   ]
  },
  {
   "cell_type": "code",
   "execution_count": 30,
   "id": "6e3a6a5f",
   "metadata": {
    "execution": {
     "iopub.execute_input": "2021-11-02T16:32:27.951681Z",
     "iopub.status.busy": "2021-11-02T16:32:27.951101Z",
     "iopub.status.idle": "2021-11-02T16:32:27.953809Z",
     "shell.execute_reply": "2021-11-02T16:32:27.954265Z"
    }
   },
   "outputs": [
    {
     "data": {
      "text/plain": [
       "array([ 1,  4,  9, 16])"
      ]
     },
     "execution_count": 30,
     "metadata": {},
     "output_type": "execute_result"
    }
   ],
   "source": [
    "a ** 2"
   ]
  },
  {
   "cell_type": "code",
   "execution_count": 31,
   "id": "d6987c9f",
   "metadata": {
    "execution": {
     "iopub.execute_input": "2021-11-02T16:32:27.959890Z",
     "iopub.status.busy": "2021-11-02T16:32:27.959330Z",
     "iopub.status.idle": "2021-11-02T16:32:27.963121Z",
     "shell.execute_reply": "2021-11-02T16:32:27.963576Z"
    }
   },
   "outputs": [
    {
     "name": "stdout",
     "output_type": "stream",
     "text": [
      "b: [1. 1. 1. 1.]\n"
     ]
    },
    {
     "data": {
      "text/plain": [
       "array([2., 3., 4., 5.])"
      ]
     },
     "execution_count": 31,
     "metadata": {},
     "output_type": "execute_result"
    }
   ],
   "source": [
    "b = np.ones(4)\n",
    "print(f\"b: {b}\")\n",
    "a + b"
   ]
  },
  {
   "cell_type": "markdown",
   "id": "dc5ba3c8",
   "metadata": {},
   "source": [
    "### Estadística"
   ]
  },
  {
   "cell_type": "code",
   "execution_count": 32,
   "id": "66e3ef33",
   "metadata": {
    "execution": {
     "iopub.execute_input": "2021-11-02T16:32:27.968531Z",
     "iopub.status.busy": "2021-11-02T16:32:27.967945Z",
     "iopub.status.idle": "2021-11-02T16:32:27.970392Z",
     "shell.execute_reply": "2021-11-02T16:32:27.970934Z"
    }
   },
   "outputs": [
    {
     "data": {
      "text/plain": [
       "1"
      ]
     },
     "execution_count": 32,
     "metadata": {},
     "output_type": "execute_result"
    }
   ],
   "source": [
    "a = np.array([[5, 2, 1, 8], [26, 4, 17, 9]])\n",
    "\n",
    "np.min(a)"
   ]
  },
  {
   "cell_type": "code",
   "execution_count": 33,
   "id": "0886e388",
   "metadata": {
    "execution": {
     "iopub.execute_input": "2021-11-02T16:32:27.975629Z",
     "iopub.status.busy": "2021-11-02T16:32:27.975059Z",
     "iopub.status.idle": "2021-11-02T16:32:27.977754Z",
     "shell.execute_reply": "2021-11-02T16:32:27.978207Z"
    }
   },
   "outputs": [
    {
     "data": {
      "text/plain": [
       "26"
      ]
     },
     "execution_count": 33,
     "metadata": {},
     "output_type": "execute_result"
    }
   ],
   "source": [
    "np.max(a)"
   ]
  },
  {
   "cell_type": "code",
   "execution_count": 34,
   "id": "85a6b5e0",
   "metadata": {
    "execution": {
     "iopub.execute_input": "2021-11-02T16:32:27.982354Z",
     "iopub.status.busy": "2021-11-02T16:32:27.980759Z",
     "iopub.status.idle": "2021-11-02T16:32:27.984766Z",
     "shell.execute_reply": "2021-11-02T16:32:27.985228Z"
    }
   },
   "outputs": [
    {
     "data": {
      "text/plain": [
       "72"
      ]
     },
     "execution_count": 34,
     "metadata": {},
     "output_type": "execute_result"
    }
   ],
   "source": [
    "np.sum(a)"
   ]
  },
  {
   "cell_type": "markdown",
   "id": "6b624a8a",
   "metadata": {},
   "source": [
    "### Más magia"
   ]
  },
  {
   "cell_type": "code",
   "execution_count": 35,
   "id": "fbe3944f",
   "metadata": {
    "execution": {
     "iopub.execute_input": "2021-11-02T16:32:27.990451Z",
     "iopub.status.busy": "2021-11-02T16:32:27.989880Z",
     "iopub.status.idle": "2021-11-02T16:32:27.992605Z",
     "shell.execute_reply": "2021-11-02T16:32:27.993065Z"
    }
   },
   "outputs": [
    {
     "data": {
      "text/plain": [
       "array([[False, False, False,  True],\n",
       "       [ True, False,  True,  True]])"
      ]
     },
     "execution_count": 35,
     "metadata": {},
     "output_type": "execute_result"
    }
   ],
   "source": [
    "a = np.array([[5, 2, 1, 8], [26, 4, 17, 9]])\n",
    "\n",
    "a > 5"
   ]
  },
  {
   "cell_type": "code",
   "execution_count": 36,
   "id": "ae5b24af",
   "metadata": {
    "execution": {
     "iopub.execute_input": "2021-11-02T16:32:27.997506Z",
     "iopub.status.busy": "2021-11-02T16:32:27.996933Z",
     "iopub.status.idle": "2021-11-02T16:32:27.999721Z",
     "shell.execute_reply": "2021-11-02T16:32:28.000203Z"
    }
   },
   "outputs": [
    {
     "data": {
      "text/plain": [
       "array([ 8, 26, 17,  9])"
      ]
     },
     "execution_count": 36,
     "metadata": {},
     "output_type": "execute_result"
    }
   ],
   "source": [
    "a[a > 5]"
   ]
  },
  {
   "cell_type": "markdown",
   "id": "a3e440b8",
   "metadata": {},
   "source": [
    "### Broadcasting"
   ]
  },
  {
   "cell_type": "markdown",
   "id": "57a3e156",
   "metadata": {},
   "source": [
    "Permite realizar operaciones entre dos numpy arrays de distintas dimensiones.\n",
    "Para lograr esto, las dimensiones de los mismos deben ser compatibles. Dos dimensiones son compatibles cuando:\n",
    "1. Son iguales\n",
    "2. Alguna de las dos es 1"
   ]
  },
  {
   "cell_type": "code",
   "execution_count": 37,
   "id": "56867fae",
   "metadata": {
    "execution": {
     "iopub.execute_input": "2021-11-02T16:32:28.005348Z",
     "iopub.status.busy": "2021-11-02T16:32:28.004790Z",
     "iopub.status.idle": "2021-11-02T16:32:28.008489Z",
     "shell.execute_reply": "2021-11-02T16:32:28.008926Z"
    }
   },
   "outputs": [
    {
     "data": {
      "text/plain": [
       "array([[ 5,  2,  1,  8],\n",
       "       [26,  4, 17,  9]])"
      ]
     },
     "execution_count": 37,
     "metadata": {},
     "output_type": "execute_result"
    }
   ],
   "source": [
    "a = np.array([[5, 2, 1, 8], [26, 4, 17, 9]])\n",
    "a"
   ]
  },
  {
   "cell_type": "code",
   "execution_count": 38,
   "id": "1be493f8",
   "metadata": {
    "execution": {
     "iopub.execute_input": "2021-11-02T16:32:28.013309Z",
     "iopub.status.busy": "2021-11-02T16:32:28.012740Z",
     "iopub.status.idle": "2021-11-02T16:32:28.017391Z",
     "shell.execute_reply": "2021-11-02T16:32:28.016886Z"
    }
   },
   "outputs": [
    {
     "name": "stdout",
     "output_type": "stream",
     "text": [
      "a: (2, 4)\n",
      "b: (4,)\n",
      "\n",
      "a + b:\n",
      " [[10  4  2 16]\n",
      " [31  6 18 17]]\n"
     ]
    }
   ],
   "source": [
    "# Armamos un array que tenga la misma cantidad de columnas que a\n",
    "b = np.array([5, 2, 1, 8])\n",
    "print(f\"a: {a.shape}\")\n",
    "print(f\"b: {b.shape}\")\n",
    "# a + b\n",
    "print()\n",
    "print(f\"a + b:\\n {a + b}\")"
   ]
  },
  {
   "cell_type": "code",
   "execution_count": 39,
   "id": "095450ff",
   "metadata": {
    "execution": {
     "iopub.execute_input": "2021-11-02T16:32:28.021579Z",
     "iopub.status.busy": "2021-11-02T16:32:28.021013Z",
     "iopub.status.idle": "2021-11-02T16:32:28.104190Z",
     "shell.execute_reply": "2021-11-02T16:32:28.104689Z"
    },
    "tags": [
     "raises-exception"
    ]
   },
   "outputs": [
    {
     "name": "stdout",
     "output_type": "stream",
     "text": [
      "a: (2, 4)\n",
      "b: (3,)\n"
     ]
    },
    {
     "ename": "ValueError",
     "evalue": "operands could not be broadcast together with shapes (2,4) (3,) ",
     "output_type": "error",
     "traceback": [
      "\u001b[0;31m---------------------------------------------------------------------------\u001b[0m",
      "\u001b[0;31mValueError\u001b[0m                                Traceback (most recent call last)",
      "\u001b[0;32m/tmp/ipykernel_2482/261865458.py\u001b[0m in \u001b[0;36m<module>\u001b[0;34m\u001b[0m\n\u001b[1;32m      3\u001b[0m \u001b[0mprint\u001b[0m\u001b[0;34m(\u001b[0m\u001b[0;34mf\"a: {a.shape}\"\u001b[0m\u001b[0;34m)\u001b[0m\u001b[0;34m\u001b[0m\u001b[0;34m\u001b[0m\u001b[0m\n\u001b[1;32m      4\u001b[0m \u001b[0mprint\u001b[0m\u001b[0;34m(\u001b[0m\u001b[0;34mf\"b: {b.shape}\"\u001b[0m\u001b[0;34m)\u001b[0m\u001b[0;34m\u001b[0m\u001b[0;34m\u001b[0m\u001b[0m\n\u001b[0;32m----> 5\u001b[0;31m \u001b[0ma\u001b[0m \u001b[0;34m+\u001b[0m \u001b[0mb\u001b[0m\u001b[0;34m\u001b[0m\u001b[0;34m\u001b[0m\u001b[0m\n\u001b[0m",
      "\u001b[0;31mValueError\u001b[0m: operands could not be broadcast together with shapes (2,4) (3,) "
     ]
    }
   ],
   "source": [
    "# Armamos un array que tenga distinta cantidad de filas y columnas que a\n",
    "b = np.array([5, 1, 8])\n",
    "print(f\"a: {a.shape}\")\n",
    "print(f\"b: {b.shape}\")\n",
    "a + b"
   ]
  },
  {
   "cell_type": "code",
   "execution_count": 40,
   "id": "b5348fc9",
   "metadata": {
    "execution": {
     "iopub.execute_input": "2021-11-02T16:32:28.110818Z",
     "iopub.status.busy": "2021-11-02T16:32:28.110100Z",
     "iopub.status.idle": "2021-11-02T16:32:28.114030Z",
     "shell.execute_reply": "2021-11-02T16:32:28.114483Z"
    }
   },
   "outputs": [
    {
     "name": "stdout",
     "output_type": "stream",
     "text": [
      "a: (2, 4)\n",
      "b: (2, 1)\n"
     ]
    },
    {
     "data": {
      "text/plain": [
       "array([[ 7,  4,  3, 10],\n",
       "       [27,  5, 18, 10]])"
      ]
     },
     "execution_count": 40,
     "metadata": {},
     "output_type": "execute_result"
    }
   ],
   "source": [
    "# Armamos un array que tenga la misma cantidad de filas que a\n",
    "b = np.array([[2], [1]])\n",
    "print(f\"a: {a.shape}\")\n",
    "print(f\"b: {b.shape}\")\n",
    "a + b"
   ]
  },
  {
   "cell_type": "code",
   "execution_count": 41,
   "id": "d610dc2e",
   "metadata": {
    "execution": {
     "iopub.execute_input": "2021-11-02T16:32:28.119052Z",
     "iopub.status.busy": "2021-11-02T16:32:28.118497Z",
     "iopub.status.idle": "2021-11-02T16:32:28.123812Z",
     "shell.execute_reply": "2021-11-02T16:32:28.124303Z"
    }
   },
   "outputs": [
    {
     "data": {
      "text/plain": [
       "array([[ 9,  6,  5, 12],\n",
       "       [30,  8, 21, 13]])"
      ]
     },
     "execution_count": 41,
     "metadata": {},
     "output_type": "execute_result"
    }
   ],
   "source": [
    "# Si b es un entero\n",
    "b = 4\n",
    "a + b"
   ]
  },
  {
   "cell_type": "code",
   "execution_count": null,
   "id": "f57281a0",
   "metadata": {},
   "outputs": [],
   "source": []
  }
 ],
 "metadata": {
  "jupytext": {
   "encoding": "# -*- coding: utf-8 -*-",
   "formats": "ipynb,py:light"
  },
  "kernelspec": {
   "display_name": "Python 3",
   "language": "python",
   "name": "python3"
  },
  "language_info": {
   "codemirror_mode": {
    "name": "ipython",
    "version": 3
   },
   "file_extension": ".py",
   "mimetype": "text/x-python",
   "name": "python",
   "nbconvert_exporter": "python",
   "pygments_lexer": "ipython3",
   "version": "3.7.12"
  }
 },
 "nbformat": 4,
 "nbformat_minor": 5
}
