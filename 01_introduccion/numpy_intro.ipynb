{
 "cells": [
  {
   "cell_type": "markdown",
   "metadata": {},
   "source": [
    "## Clase 1 - Introducción a Numpy\n",
    "\n",
    "Numpy es una biblioteca para Python que facilita el manejo de arreglos multidimensionales y ofrece varias herramientas para trabajar con ellos. Muchas de las bibliotecas de Python que son ampliamente usadas hoy en día, como pandas, están construidas sobre numpy.\n",
    "\n",
    "### Listas de Python vs arreglos de Numpy\n",
    "\n",
    "A primera vista, un arreglo de numpy puede resultar idéntico a una lista de python, pero a medida que la cantidad de datos comienza a incrementar, los arreglos de numpy terminan ofreciendo un manejo más eficiente de la memoria.\n",
    "\n",
    "Para comenzar, vamos a crear un arreglo de numpy:"
   ]
  },
  {
   "cell_type": "code",
   "execution_count": 1,
   "metadata": {
    "execution": {
     "iopub.execute_input": "2020-11-06T03:10:49.011625Z",
     "iopub.status.busy": "2020-11-06T03:10:49.010989Z",
     "iopub.status.idle": "2020-11-06T03:10:49.132405Z",
     "shell.execute_reply": "2020-11-06T03:10:49.131886Z"
    }
   },
   "outputs": [
    {
     "data": {
      "text/plain": [
       "array([1, 2, 3, 4])"
      ]
     },
     "execution_count": 1,
     "metadata": {},
     "output_type": "execute_result"
    }
   ],
   "source": [
    "import numpy as np\n",
    "\n",
    "np.array([1, 2, 3, 4])"
   ]
  },
  {
   "cell_type": "markdown",
   "metadata": {},
   "source": [
    "Los arreglos pueden ser también multidimensionales:"
   ]
  },
  {
   "cell_type": "code",
   "execution_count": 2,
   "metadata": {
    "execution": {
     "iopub.execute_input": "2020-11-06T03:10:49.137147Z",
     "iopub.status.busy": "2020-11-06T03:10:49.136644Z",
     "iopub.status.idle": "2020-11-06T03:10:49.138989Z",
     "shell.execute_reply": "2020-11-06T03:10:49.139378Z"
    }
   },
   "outputs": [
    {
     "data": {
      "text/plain": [
       "array([[1, 2, 3, 4],\n",
       "       [5, 6, 7, 8]])"
      ]
     },
     "execution_count": 1,
     "metadata": {},
     "output_type": "execute_result"
    }
   ],
   "source": [
    "np.array([[1, 2, 3, 4], [5, 6, 7, 8]])"
   ]
  },
  {
   "cell_type": "markdown",
   "metadata": {},
   "source": [
    "Es importante tener en cuenta que un arreglo de numpy tiene un tipo fijo de datos, entonces si se quiere agregar un dato de un tipo diferente al de la mayoría, este va a ser modificado para adaptarse al resto"
   ]
  },
  {
   "cell_type": "code",
   "execution_count": 3,
   "metadata": {
    "execution": {
     "iopub.execute_input": "2020-11-06T03:10:49.142647Z",
     "iopub.status.busy": "2020-11-06T03:10:49.142173Z",
     "iopub.status.idle": "2020-11-06T03:10:49.145259Z",
     "shell.execute_reply": "2020-11-06T03:10:49.145653Z"
    }
   },
   "outputs": [],
   "source": [
    "enteros = np.array([1, 2, 3, 4])"
   ]
  },
  {
   "cell_type": "markdown",
   "metadata": {},
   "source": [
    "Agrego un elemento de tipo flotante en la posición 1"
   ]
  },
  {
   "cell_type": "code",
   "execution_count": 4,
   "metadata": {
    "execution": {
     "iopub.execute_input": "2020-11-06T03:10:49.149034Z",
     "iopub.status.busy": "2020-11-06T03:10:49.148555Z",
     "iopub.status.idle": "2020-11-06T03:10:49.153061Z",
     "shell.execute_reply": "2020-11-06T03:10:49.152662Z"
    }
   },
   "outputs": [
    {
     "data": {
      "text/plain": [
       "array([1, 8, 3, 4])"
      ]
     },
     "execution_count": 1,
     "metadata": {},
     "output_type": "execute_result"
    }
   ],
   "source": [
    "enteros[1] = 8.4727\n",
    "enteros"
   ]
  },
  {
   "cell_type": "markdown",
   "metadata": {},
   "source": [
    "Numpy también nos permite crear arreglos con valores aleatorios del 0 al 1.\n",
    "Basta con pasarle las dimensiones del arreglo que queremos crear."
   ]
  },
  {
   "cell_type": "code",
   "execution_count": 5,
   "metadata": {
    "execution": {
     "iopub.execute_input": "2020-11-06T03:10:49.156669Z",
     "iopub.status.busy": "2020-11-06T03:10:49.156195Z",
     "iopub.status.idle": "2020-11-06T03:10:49.158348Z",
     "shell.execute_reply": "2020-11-06T03:10:49.158736Z"
    }
   },
   "outputs": [
    {
     "data": {
      "text/plain": [
       "array([[0.17493139, 0.4790493 , 0.73074343],\n",
       "       [0.56436047, 0.52649257, 0.91027108]])"
      ]
     },
     "execution_count": 1,
     "metadata": {},
     "output_type": "execute_result"
    }
   ],
   "source": [
    "np.random.rand(2, 3)"
   ]
  },
  {
   "cell_type": "markdown",
   "metadata": {},
   "source": [
    "## Slicing\n",
    "\n",
    "De la misma forma que con las listas de python, pueden obtenerse slices de los arreglos de numpy"
   ]
  },
  {
   "cell_type": "code",
   "execution_count": 6,
   "metadata": {
    "execution": {
     "iopub.execute_input": "2020-11-06T03:10:49.162127Z",
     "iopub.status.busy": "2020-11-06T03:10:49.161643Z",
     "iopub.status.idle": "2020-11-06T03:10:49.163777Z",
     "shell.execute_reply": "2020-11-06T03:10:49.164166Z"
    },
    "lines_to_next_cell": 2
   },
   "outputs": [
    {
     "data": {
      "text/plain": [
       "array([1, 8])"
      ]
     },
     "execution_count": 1,
     "metadata": {},
     "output_type": "execute_result"
    }
   ],
   "source": [
    "enteros[:2]"
   ]
  },
  {
   "cell_type": "code",
   "execution_count": 7,
   "metadata": {
    "execution": {
     "iopub.execute_input": "2020-11-06T03:10:49.168702Z",
     "iopub.status.busy": "2020-11-06T03:10:49.168220Z",
     "iopub.status.idle": "2020-11-06T03:10:49.170664Z",
     "shell.execute_reply": "2020-11-06T03:10:49.170248Z"
    }
   },
   "outputs": [
    {
     "name": "stdout",
     "output_type": "stream",
     "text": [
      "Original: \n",
      "[[ 1  2  3  4]\n",
      " [ 5  6  7  8]\n",
      " [ 9 10 11 12]]\n",
      "\n",
      "Recortada: \n",
      "[[1 2 3]\n",
      " [5 6 7]]\n"
     ]
    }
   ],
   "source": [
    "matriz_de_enteros = np.array([[1, 2, 3, 4], [5, 6, 7, 8], [9, 10, 11, 12]])\n",
    "\n",
    "print('Original: ')\n",
    "print(matriz_de_enteros)\n",
    "\n",
    "print()\n",
    "\n",
    "print('Recortada: ')\n",
    "print(matriz_de_enteros[:2, :3])"
   ]
  },
  {
   "cell_type": "code",
   "execution_count": 8,
   "metadata": {
    "execution": {
     "iopub.execute_input": "2020-11-06T03:10:49.174014Z",
     "iopub.status.busy": "2020-11-06T03:10:49.173530Z",
     "iopub.status.idle": "2020-11-06T03:10:49.176383Z",
     "shell.execute_reply": "2020-11-06T03:10:49.175883Z"
    }
   },
   "outputs": [
    {
     "data": {
      "text/plain": [
       "array([[[ 0,  1,  2,  3,  4],\n",
       "        [ 5,  6,  7,  8,  9],\n",
       "        [10, 11, 12, 13, 14]],\n",
       "\n",
       "       [[15, 16, 17, 18, 19],\n",
       "        [20, 21, 22, 23, 24],\n",
       "        [25, 26, 27, 28, 29]],\n",
       "\n",
       "       [[30, 31, 32, 33, 34],\n",
       "        [35, 36, 37, 38, 39],\n",
       "        [40, 41, 42, 43, 44]]])"
      ]
     },
     "execution_count": 1,
     "metadata": {},
     "output_type": "execute_result"
    }
   ],
   "source": [
    "# 3D\n",
    "x = np.arange(45).reshape(3, 3, 5)\n",
    "x"
   ]
  },
  {
   "cell_type": "code",
   "execution_count": 9,
   "metadata": {
    "execution": {
     "iopub.execute_input": "2020-11-06T03:10:49.179580Z",
     "iopub.status.busy": "2020-11-06T03:10:49.179104Z",
     "iopub.status.idle": "2020-11-06T03:10:49.181780Z",
     "shell.execute_reply": "2020-11-06T03:10:49.181340Z"
    }
   },
   "outputs": [
    {
     "data": {
      "text/plain": [
       "array([[ 0,  1,  2,  3,  4],\n",
       "       [ 5,  6,  7,  8,  9],\n",
       "       [10, 11, 12, 13, 14]])"
      ]
     },
     "execution_count": 1,
     "metadata": {},
     "output_type": "execute_result"
    }
   ],
   "source": [
    "x[0]"
   ]
  },
  {
   "cell_type": "markdown",
   "metadata": {},
   "source": [
    "\n",
    "¿Cómo conseguimos estos valores? ([fuente](https://towardsdatascience.com/indexing-and-slicing-of-1d-2d-and-3d-arrays-in-numpy-e731afff0bbe))\n",
    "\n",
    "![title](img/matrix.png)"
   ]
  },
  {
   "cell_type": "code",
   "execution_count": 10,
   "metadata": {
    "execution": {
     "iopub.execute_input": "2020-11-06T03:10:49.185131Z",
     "iopub.status.busy": "2020-11-06T03:10:49.184658Z",
     "iopub.status.idle": "2020-11-06T03:10:49.187308Z",
     "shell.execute_reply": "2020-11-06T03:10:49.186884Z"
    }
   },
   "outputs": [
    {
     "data": {
      "text/plain": [
       "array([[[16, 17, 18],\n",
       "        [21, 22, 23]],\n",
       "\n",
       "       [[31, 32, 33],\n",
       "        [36, 37, 38]]])"
      ]
     },
     "execution_count": 1,
     "metadata": {},
     "output_type": "execute_result"
    }
   ],
   "source": [
    "x[1:, 0:2, 1:4]"
   ]
  },
  {
   "cell_type": "markdown",
   "metadata": {},
   "source": [
    "### Copia de arreglos"
   ]
  },
  {
   "cell_type": "code",
   "execution_count": 11,
   "metadata": {
    "execution": {
     "iopub.execute_input": "2020-11-06T03:10:49.190837Z",
     "iopub.status.busy": "2020-11-06T03:10:49.190305Z",
     "iopub.status.idle": "2020-11-06T03:10:49.193021Z",
     "shell.execute_reply": "2020-11-06T03:10:49.192521Z"
    }
   },
   "outputs": [
    {
     "data": {
      "text/plain": [
       "array([1, 2, 3, 4])"
      ]
     },
     "execution_count": 1,
     "metadata": {},
     "output_type": "execute_result"
    }
   ],
   "source": [
    "# Los arreglos no se copian con asignación\n",
    "\n",
    "a = np.array([1, 2, 3, 4])\n",
    "b = a\n",
    "b"
   ]
  },
  {
   "cell_type": "code",
   "execution_count": 12,
   "metadata": {
    "execution": {
     "iopub.execute_input": "2020-11-06T03:10:49.196388Z",
     "iopub.status.busy": "2020-11-06T03:10:49.195722Z",
     "iopub.status.idle": "2020-11-06T03:10:49.197777Z",
     "shell.execute_reply": "2020-11-06T03:10:49.198202Z"
    }
   },
   "outputs": [
    {
     "data": {
      "text/plain": [
       "array([ 1, 20,  3,  4])"
      ]
     },
     "execution_count": 1,
     "metadata": {},
     "output_type": "execute_result"
    }
   ],
   "source": [
    "b[1] = 20\n",
    "b"
   ]
  },
  {
   "cell_type": "code",
   "execution_count": 13,
   "metadata": {
    "execution": {
     "iopub.execute_input": "2020-11-06T03:10:49.201287Z",
     "iopub.status.busy": "2020-11-06T03:10:49.200816Z",
     "iopub.status.idle": "2020-11-06T03:10:49.203485Z",
     "shell.execute_reply": "2020-11-06T03:10:49.203070Z"
    }
   },
   "outputs": [
    {
     "data": {
      "text/plain": [
       "array([ 1, 20,  3,  4])"
      ]
     },
     "execution_count": 1,
     "metadata": {},
     "output_type": "execute_result"
    }
   ],
   "source": [
    "a"
   ]
  },
  {
   "cell_type": "code",
   "execution_count": 14,
   "metadata": {
    "execution": {
     "iopub.execute_input": "2020-11-06T03:10:49.206937Z",
     "iopub.status.busy": "2020-11-06T03:10:49.206464Z",
     "iopub.status.idle": "2020-11-06T03:10:49.209295Z",
     "shell.execute_reply": "2020-11-06T03:10:49.208880Z"
    }
   },
   "outputs": [
    {
     "data": {
      "text/plain": [
       "array([ 1, 20,  3,  4])"
      ]
     },
     "execution_count": 1,
     "metadata": {},
     "output_type": "execute_result"
    }
   ],
   "source": [
    "# Para copiar un arreglo a otra variable debemos usar copy()\n",
    "\n",
    "a = np.array([1, 2, 3, 4])\n",
    "b = a.copy()\n",
    "b[1] = 20\n",
    "b"
   ]
  },
  {
   "cell_type": "code",
   "execution_count": 15,
   "metadata": {
    "execution": {
     "iopub.execute_input": "2020-11-06T03:10:49.212392Z",
     "iopub.status.busy": "2020-11-06T03:10:49.211910Z",
     "iopub.status.idle": "2020-11-06T03:10:49.214569Z",
     "shell.execute_reply": "2020-11-06T03:10:49.214153Z"
    }
   },
   "outputs": [
    {
     "data": {
      "text/plain": [
       "array([1, 2, 3, 4])"
      ]
     },
     "execution_count": 1,
     "metadata": {},
     "output_type": "execute_result"
    }
   ],
   "source": [
    "a"
   ]
  },
  {
   "cell_type": "markdown",
   "metadata": {},
   "source": [
    "### Modificación de dimensiones"
   ]
  },
  {
   "cell_type": "markdown",
   "metadata": {},
   "source": [
    "Existen varias operaciones para cambiar la forma de un arreglo de numpy"
   ]
  },
  {
   "cell_type": "code",
   "execution_count": 16,
   "metadata": {
    "execution": {
     "iopub.execute_input": "2020-11-06T03:10:49.217634Z",
     "iopub.status.busy": "2020-11-06T03:10:49.217144Z",
     "iopub.status.idle": "2020-11-06T03:10:49.219786Z",
     "shell.execute_reply": "2020-11-06T03:10:49.219373Z"
    }
   },
   "outputs": [
    {
     "data": {
      "text/plain": [
       "2"
      ]
     },
     "execution_count": 1,
     "metadata": {},
     "output_type": "execute_result"
    }
   ],
   "source": [
    "# Obtener las dimensiones del arreglo\n",
    "\n",
    "matriz_de_enteros.ndim"
   ]
  },
  {
   "cell_type": "code",
   "execution_count": 17,
   "metadata": {
    "execution": {
     "iopub.execute_input": "2020-11-06T03:10:49.222908Z",
     "iopub.status.busy": "2020-11-06T03:10:49.222435Z",
     "iopub.status.idle": "2020-11-06T03:10:49.225134Z",
     "shell.execute_reply": "2020-11-06T03:10:49.224666Z"
    }
   },
   "outputs": [
    {
     "data": {
      "text/plain": [
       "(3, 4)"
      ]
     },
     "execution_count": 1,
     "metadata": {},
     "output_type": "execute_result"
    }
   ],
   "source": [
    "# Obtener la forma del arreglo\n",
    "\n",
    "matriz_de_enteros.shape"
   ]
  },
  {
   "cell_type": "code",
   "execution_count": 18,
   "metadata": {
    "execution": {
     "iopub.execute_input": "2020-11-06T03:10:49.228534Z",
     "iopub.status.busy": "2020-11-06T03:10:49.228004Z",
     "iopub.status.idle": "2020-11-06T03:10:49.230910Z",
     "shell.execute_reply": "2020-11-06T03:10:49.230476Z"
    }
   },
   "outputs": [
    {
     "data": {
      "text/plain": [
       "array([[ 3,  6],\n",
       "       [ 9, 12]])"
      ]
     },
     "execution_count": 1,
     "metadata": {},
     "output_type": "execute_result"
    }
   ],
   "source": [
    "# Modificar la forma de un arreglo\n",
    "\n",
    "enteros = np.array([3, 6, 9, 12])\n",
    "np.reshape(enteros, (2, 2))"
   ]
  },
  {
   "cell_type": "code",
   "execution_count": 19,
   "metadata": {
    "execution": {
     "iopub.execute_input": "2020-11-06T03:10:49.234529Z",
     "iopub.status.busy": "2020-11-06T03:10:49.233963Z",
     "iopub.status.idle": "2020-11-06T03:10:49.235938Z",
     "shell.execute_reply": "2020-11-06T03:10:49.236331Z"
    }
   },
   "outputs": [
    {
     "data": {
      "text/plain": [
       "array([[1., 1.],\n",
       "       [1., 1.]])"
      ]
     },
     "execution_count": 1,
     "metadata": {},
     "output_type": "execute_result"
    }
   ],
   "source": [
    "# Aplanar un arreglo\n",
    "\n",
    "a = np.ones((2, 2))\n",
    "a"
   ]
  },
  {
   "cell_type": "code",
   "execution_count": 20,
   "metadata": {
    "execution": {
     "iopub.execute_input": "2020-11-06T03:10:49.239614Z",
     "iopub.status.busy": "2020-11-06T03:10:49.239134Z",
     "iopub.status.idle": "2020-11-06T03:10:49.241405Z",
     "shell.execute_reply": "2020-11-06T03:10:49.241944Z"
    }
   },
   "outputs": [
    {
     "data": {
      "text/plain": [
       "array([1., 1., 1., 1.])"
      ]
     },
     "execution_count": 1,
     "metadata": {},
     "output_type": "execute_result"
    }
   ],
   "source": [
    "a.flatten()"
   ]
  },
  {
   "cell_type": "code",
   "execution_count": 21,
   "metadata": {
    "execution": {
     "iopub.execute_input": "2020-11-06T03:10:49.245320Z",
     "iopub.status.busy": "2020-11-06T03:10:49.244847Z",
     "iopub.status.idle": "2020-11-06T03:10:49.247505Z",
     "shell.execute_reply": "2020-11-06T03:10:49.247089Z"
    },
    "lines_to_next_cell": 2
   },
   "outputs": [
    {
     "data": {
      "text/plain": [
       "array([[1., 1.],\n",
       "       [1., 1.]])"
      ]
     },
     "execution_count": 1,
     "metadata": {},
     "output_type": "execute_result"
    }
   ],
   "source": [
    "a"
   ]
  },
  {
   "cell_type": "markdown",
   "metadata": {},
   "source": [
    "### Combinación de arreglos (Stacking)"
   ]
  },
  {
   "cell_type": "code",
   "execution_count": 22,
   "metadata": {
    "execution": {
     "iopub.execute_input": "2020-11-06T03:10:49.250811Z",
     "iopub.status.busy": "2020-11-06T03:10:49.250340Z",
     "iopub.status.idle": "2020-11-06T03:10:49.252974Z",
     "shell.execute_reply": "2020-11-06T03:10:49.252560Z"
    }
   },
   "outputs": [
    {
     "data": {
      "text/plain": [
       "array([0, 1, 2, 3, 4])"
      ]
     },
     "execution_count": 1,
     "metadata": {},
     "output_type": "execute_result"
    }
   ],
   "source": [
    "# Los arreglos se pueden combinar verticalmente (se incrementa la cantidad de filas)\n",
    "\n",
    "a = np.arange(0, 5)\n",
    "a"
   ]
  },
  {
   "cell_type": "code",
   "execution_count": 23,
   "metadata": {
    "execution": {
     "iopub.execute_input": "2020-11-06T03:10:49.256236Z",
     "iopub.status.busy": "2020-11-06T03:10:49.255759Z",
     "iopub.status.idle": "2020-11-06T03:10:49.258413Z",
     "shell.execute_reply": "2020-11-06T03:10:49.257991Z"
    }
   },
   "outputs": [
    {
     "data": {
      "text/plain": [
       "array([5, 6, 7, 8, 9])"
      ]
     },
     "execution_count": 1,
     "metadata": {},
     "output_type": "execute_result"
    }
   ],
   "source": [
    "b = np.arange(5, 10)\n",
    "b"
   ]
  },
  {
   "cell_type": "code",
   "execution_count": 24,
   "metadata": {
    "execution": {
     "iopub.execute_input": "2020-11-06T03:10:49.261731Z",
     "iopub.status.busy": "2020-11-06T03:10:49.261238Z",
     "iopub.status.idle": "2020-11-06T03:10:49.263901Z",
     "shell.execute_reply": "2020-11-06T03:10:49.263479Z"
    }
   },
   "outputs": [
    {
     "data": {
      "text/plain": [
       "array([[0, 1, 2, 3, 4],\n",
       "       [5, 6, 7, 8, 9]])"
      ]
     },
     "execution_count": 1,
     "metadata": {},
     "output_type": "execute_result"
    }
   ],
   "source": [
    "combinados_verticalmente = np.vstack((a, b))\n",
    "combinados_verticalmente"
   ]
  },
  {
   "cell_type": "code",
   "execution_count": 25,
   "metadata": {
    "execution": {
     "iopub.execute_input": "2020-11-06T03:10:49.267228Z",
     "iopub.status.busy": "2020-11-06T03:10:49.266744Z",
     "iopub.status.idle": "2020-11-06T03:10:49.269333Z",
     "shell.execute_reply": "2020-11-06T03:10:49.268906Z"
    }
   },
   "outputs": [
    {
     "data": {
      "text/plain": [
       "array([0, 1, 2, 3, 4, 5, 6, 7, 8, 9])"
      ]
     },
     "execution_count": 1,
     "metadata": {},
     "output_type": "execute_result"
    }
   ],
   "source": [
    "# También se pueden combinar horizontalmente (se incrementa la cantidad de columnas)\n",
    "\n",
    "combinados_horizontalmente = np.hstack((a, b))\n",
    "combinados_horizontalmente"
   ]
  },
  {
   "cell_type": "markdown",
   "metadata": {},
   "source": [
    "### Operaciones matemáticas"
   ]
  },
  {
   "cell_type": "code",
   "execution_count": 26,
   "metadata": {
    "execution": {
     "iopub.execute_input": "2020-11-06T03:10:49.272745Z",
     "iopub.status.busy": "2020-11-06T03:10:49.272273Z",
     "iopub.status.idle": "2020-11-06T03:10:49.274961Z",
     "shell.execute_reply": "2020-11-06T03:10:49.274530Z"
    }
   },
   "outputs": [
    {
     "data": {
      "text/plain": [
       "array([3, 4, 5, 6])"
      ]
     },
     "execution_count": 1,
     "metadata": {},
     "output_type": "execute_result"
    }
   ],
   "source": [
    "a = np.array([1, 2, 3, 4])\n",
    "\n",
    "a + 2"
   ]
  },
  {
   "cell_type": "code",
   "execution_count": 27,
   "metadata": {
    "execution": {
     "iopub.execute_input": "2020-11-06T03:10:49.278093Z",
     "iopub.status.busy": "2020-11-06T03:10:49.277618Z",
     "iopub.status.idle": "2020-11-06T03:10:49.279879Z",
     "shell.execute_reply": "2020-11-06T03:10:49.280274Z"
    }
   },
   "outputs": [
    {
     "data": {
      "text/plain": [
       "array([ 1,  4,  9, 16])"
      ]
     },
     "execution_count": 1,
     "metadata": {},
     "output_type": "execute_result"
    }
   ],
   "source": [
    "a ** 2"
   ]
  },
  {
   "cell_type": "code",
   "execution_count": 28,
   "metadata": {
    "execution": {
     "iopub.execute_input": "2020-11-06T03:10:49.284272Z",
     "iopub.status.busy": "2020-11-06T03:10:49.283779Z",
     "iopub.status.idle": "2020-11-06T03:10:49.285700Z",
     "shell.execute_reply": "2020-11-06T03:10:49.286092Z"
    }
   },
   "outputs": [
    {
     "data": {
      "text/plain": [
       "array([2., 3., 4., 5.])"
      ]
     },
     "execution_count": 1,
     "metadata": {},
     "output_type": "execute_result"
    }
   ],
   "source": [
    "b = np.ones(4)\n",
    "a + b"
   ]
  },
  {
   "cell_type": "markdown",
   "metadata": {},
   "source": [
    "### Estadística"
   ]
  },
  {
   "cell_type": "code",
   "execution_count": 29,
   "metadata": {
    "execution": {
     "iopub.execute_input": "2020-11-06T03:10:49.289720Z",
     "iopub.status.busy": "2020-11-06T03:10:49.289218Z",
     "iopub.status.idle": "2020-11-06T03:10:49.291492Z",
     "shell.execute_reply": "2020-11-06T03:10:49.291882Z"
    }
   },
   "outputs": [
    {
     "data": {
      "text/plain": [
       "1"
      ]
     },
     "execution_count": 1,
     "metadata": {},
     "output_type": "execute_result"
    }
   ],
   "source": [
    "a = np.array([[5, 2, 1, 8], [26, 4, 17, 9]])\n",
    "\n",
    "np.min(a)"
   ]
  },
  {
   "cell_type": "code",
   "execution_count": 30,
   "metadata": {
    "execution": {
     "iopub.execute_input": "2020-11-06T03:10:49.295669Z",
     "iopub.status.busy": "2020-11-06T03:10:49.295175Z",
     "iopub.status.idle": "2020-11-06T03:10:49.297265Z",
     "shell.execute_reply": "2020-11-06T03:10:49.297677Z"
    }
   },
   "outputs": [
    {
     "data": {
      "text/plain": [
       "26"
      ]
     },
     "execution_count": 1,
     "metadata": {},
     "output_type": "execute_result"
    }
   ],
   "source": [
    "np.max(a)"
   ]
  },
  {
   "cell_type": "code",
   "execution_count": 31,
   "metadata": {
    "execution": {
     "iopub.execute_input": "2020-11-06T03:10:49.300838Z",
     "iopub.status.busy": "2020-11-06T03:10:49.300367Z",
     "iopub.status.idle": "2020-11-06T03:10:49.303053Z",
     "shell.execute_reply": "2020-11-06T03:10:49.302637Z"
    }
   },
   "outputs": [
    {
     "data": {
      "text/plain": [
       "72"
      ]
     },
     "execution_count": 1,
     "metadata": {},
     "output_type": "execute_result"
    }
   ],
   "source": [
    "np.sum(a)"
   ]
  },
  {
   "cell_type": "markdown",
   "metadata": {},
   "source": [
    "### Más magia"
   ]
  },
  {
   "cell_type": "code",
   "execution_count": 32,
   "metadata": {
    "execution": {
     "iopub.execute_input": "2020-11-06T03:10:49.306602Z",
     "iopub.status.busy": "2020-11-06T03:10:49.306128Z",
     "iopub.status.idle": "2020-11-06T03:10:49.308775Z",
     "shell.execute_reply": "2020-11-06T03:10:49.308363Z"
    }
   },
   "outputs": [
    {
     "data": {
      "text/plain": [
       "array([[False, False, False,  True],\n",
       "       [ True, False,  True,  True]])"
      ]
     },
     "execution_count": 1,
     "metadata": {},
     "output_type": "execute_result"
    }
   ],
   "source": [
    "a = np.array([[5, 2, 1, 8], [26, 4, 17, 9]])\n",
    "\n",
    "a > 5"
   ]
  },
  {
   "cell_type": "code",
   "execution_count": 33,
   "metadata": {
    "execution": {
     "iopub.execute_input": "2020-11-06T03:10:49.311973Z",
     "iopub.status.busy": "2020-11-06T03:10:49.311502Z",
     "iopub.status.idle": "2020-11-06T03:10:49.314182Z",
     "shell.execute_reply": "2020-11-06T03:10:49.313763Z"
    }
   },
   "outputs": [
    {
     "data": {
      "text/plain": [
       "array([ 8, 26, 17,  9])"
      ]
     },
     "execution_count": 1,
     "metadata": {},
     "output_type": "execute_result"
    }
   ],
   "source": [
    "a[a > 5]"
   ]
  },
  {
   "cell_type": "markdown",
   "metadata": {},
   "source": [
    "### Broadcasting"
   ]
  },
  {
   "cell_type": "markdown",
   "metadata": {},
   "source": [
    "Permite realizar operaciones entre dos numpy arrays de distintas dimensiones.\n",
    "Para lograr esto, las dimensiones de los mismos deben ser compatibles. Dos dimensiones son compatibles cuando:\n",
    "1. Son iguales\n",
    "2. Alguna de las dos es 1"
   ]
  },
  {
   "cell_type": "code",
   "execution_count": 34,
   "metadata": {
    "execution": {
     "iopub.execute_input": "2020-11-06T03:10:49.317750Z",
     "iopub.status.busy": "2020-11-06T03:10:49.317252Z",
     "iopub.status.idle": "2020-11-06T03:10:49.319928Z",
     "shell.execute_reply": "2020-11-06T03:10:49.319514Z"
    }
   },
   "outputs": [
    {
     "data": {
      "text/plain": [
       "array([[ 5,  2,  1,  8],\n",
       "       [26,  4, 17,  9]])"
      ]
     },
     "execution_count": 1,
     "metadata": {},
     "output_type": "execute_result"
    }
   ],
   "source": [
    "a = np.array([[5, 2, 1, 8], [26, 4, 17, 9]])\n",
    "a"
   ]
  },
  {
   "cell_type": "code",
   "execution_count": 35,
   "metadata": {
    "execution": {
     "iopub.execute_input": "2020-11-06T03:10:49.323844Z",
     "iopub.status.busy": "2020-11-06T03:10:49.323345Z",
     "iopub.status.idle": "2020-11-06T03:10:49.325658Z",
     "shell.execute_reply": "2020-11-06T03:10:49.326075Z"
    }
   },
   "outputs": [
    {
     "name": "stdout",
     "output_type": "stream",
     "text": [
      "a: (2, 4)\n",
      "b: (4,)\n"
     ]
    },
    {
     "data": {
      "text/plain": [
       "array([[10,  4,  2, 16],\n",
       "       [31,  6, 18, 17]])"
      ]
     },
     "execution_count": 1,
     "metadata": {},
     "output_type": "execute_result"
    }
   ],
   "source": [
    "# Armamos un array que tenga la misma cantidad de columnas que a\n",
    "b = np.array([5, 2, 1, 8])\n",
    "print(f\"a: {a.shape}\")\n",
    "print(f\"b: {b.shape}\")\n",
    "a + b"
   ]
  },
  {
   "cell_type": "code",
   "execution_count": 36,
   "metadata": {
    "execution": {
     "iopub.execute_input": "2020-11-06T03:10:49.329488Z",
     "iopub.status.busy": "2020-11-06T03:10:49.328979Z",
     "iopub.status.idle": "2020-11-06T03:10:49.384501Z",
     "shell.execute_reply": "2020-11-06T03:10:49.383911Z"
    },
    "tags": [
     "raises-exception"
    ]
   },
   "outputs": [
    {
     "name": "stdout",
     "output_type": "stream",
     "text": [
      "a: (2, 4)\n",
      "b: (3,)\n"
     ]
    },
    {
     "ename": "ValueError",
     "evalue": "operands could not be broadcast together with shapes (2,4) (3,) ",
     "output_type": "error",
     "traceback": [
      "\u001b[0;31m---------------------------------------------------------------------------\u001b[0m",
      "\u001b[0;31mValueError\u001b[0m                                Traceback (most recent call last)",
      "\u001b[0;32m<ipython-input-1-fe11b6ae6346>\u001b[0m in \u001b[0;36m<module>\u001b[0;34m\u001b[0m\n\u001b[1;32m      3\u001b[0m \u001b[0mprint\u001b[0m\u001b[0;34m(\u001b[0m\u001b[0;34mf\"a: {a.shape}\"\u001b[0m\u001b[0;34m)\u001b[0m\u001b[0;34m\u001b[0m\u001b[0;34m\u001b[0m\u001b[0m\n\u001b[1;32m      4\u001b[0m \u001b[0mprint\u001b[0m\u001b[0;34m(\u001b[0m\u001b[0;34mf\"b: {b.shape}\"\u001b[0m\u001b[0;34m)\u001b[0m\u001b[0;34m\u001b[0m\u001b[0;34m\u001b[0m\u001b[0m\n\u001b[0;32m----> 5\u001b[0;31m \u001b[0ma\u001b[0m \u001b[0;34m+\u001b[0m \u001b[0mb\u001b[0m\u001b[0;34m\u001b[0m\u001b[0;34m\u001b[0m\u001b[0m\n\u001b[0m",
      "\u001b[0;31mValueError\u001b[0m: operands could not be broadcast together with shapes (2,4) (3,) "
     ]
    }
   ],
   "source": [
    "# Armamos un array que tenga distinta cantidad de filas y columnas que a\n",
    "b = np.array([5, 1, 8])\n",
    "print(f\"a: {a.shape}\")\n",
    "print(f\"b: {b.shape}\")\n",
    "a + b"
   ]
  },
  {
   "cell_type": "code",
   "execution_count": 37,
   "metadata": {
    "execution": {
     "iopub.execute_input": "2020-11-06T03:10:49.488195Z",
     "iopub.status.busy": "2020-11-06T03:10:49.487637Z",
     "iopub.status.idle": "2020-11-06T03:10:49.493528Z",
     "shell.execute_reply": "2020-11-06T03:10:49.493055Z"
    }
   },
   "outputs": [
    {
     "name": "stdout",
     "output_type": "stream",
     "text": [
      "a: (2, 4)\n",
      "b: (2, 1)\n"
     ]
    },
    {
     "data": {
      "text/plain": [
       "array([[ 7,  4,  3, 10],\n",
       "       [27,  5, 18, 10]])"
      ]
     },
     "execution_count": 1,
     "metadata": {},
     "output_type": "execute_result"
    }
   ],
   "source": [
    "# Armamos un array que tenga la misma cantidad de filas que a\n",
    "b = np.array([[2], [1]])\n",
    "print(f\"a: {a.shape}\")\n",
    "print(f\"b: {b.shape}\")\n",
    "a + b"
   ]
  },
  {
   "cell_type": "code",
   "execution_count": 38,
   "metadata": {
    "execution": {
     "iopub.execute_input": "2020-11-06T03:10:49.496709Z",
     "iopub.status.busy": "2020-11-06T03:10:49.496236Z",
     "iopub.status.idle": "2020-11-06T03:10:49.500130Z",
     "shell.execute_reply": "2020-11-06T03:10:49.499696Z"
    }
   },
   "outputs": [
    {
     "data": {
      "text/plain": [
       "array([[ 9,  6,  5, 12],\n",
       "       [30,  8, 21, 13]])"
      ]
     },
     "execution_count": 1,
     "metadata": {},
     "output_type": "execute_result"
    }
   ],
   "source": [
    "b = 4\n",
    "a + b"
   ]
  }
 ],
 "metadata": {
  "jupytext": {
   "encoding": "# -*- coding: utf-8 -*-",
   "formats": "ipynb,py:light"
  },
  "kernelspec": {
   "display_name": "Python 3 (venv)",
   "language": "python",
   "name": "python3"
  },
  "language_info": {
   "codemirror_mode": {
    "name": "ipython",
    "version": 3
   },
   "file_extension": ".py",
   "mimetype": "text/x-python",
   "name": "python",
   "nbconvert_exporter": "python",
   "pygments_lexer": "ipython3",
   "version": "3.7.9"
  }
 },
 "nbformat": 4,
 "nbformat_minor": 4
}
