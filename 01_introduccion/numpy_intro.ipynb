{
 "cells": [
  {
   "cell_type": "code",
   "execution_count": 1,
   "metadata": {
    "execution": {
     "iopub.execute_input": "2020-09-28T22:01:16.169380Z",
     "iopub.status.busy": "2020-09-28T22:01:16.168517Z",
     "iopub.status.idle": "2020-09-28T22:01:16.172448Z",
     "shell.execute_reply": "2020-09-28T22:01:16.171748Z"
    }
   },
   "outputs": [],
   "source": [
    "\n",
    "# # Clase 1 - Introducción a numpy\n",
    "\n",
    "# Numpy es una biblioteca para Python que facilita el manejo de arreglos multidimensionales y ofrece varias herramientas para trabajar con ellos. Muchas de las bibliotecas de Python que son ampliamente usadas hoy en día, como pandas, están construidas sobre numpy.\n",
    "\n",
    "# ## Listas de Python vs arreglos de Numpy\n",
    "\n",
    "# A primera vista, un arreglo de numpy puede resultar idéntico a una lista de python, pero a medida que la cantidad de datos comienza a incrementar, los arreglos de numpy terminan ofreciendo un manejo más eficiente de la memoria.\n",
    "\n",
    "# Para comenzar, vamos a crear un arreglo de numpy:"
   ]
  },
  {
   "cell_type": "code",
   "execution_count": 2,
   "metadata": {
    "execution": {
     "iopub.execute_input": "2020-09-28T22:01:16.177025Z",
     "iopub.status.busy": "2020-09-28T22:01:16.176284Z",
     "iopub.status.idle": "2020-09-28T22:01:16.297659Z",
     "shell.execute_reply": "2020-09-28T22:01:16.298289Z"
    }
   },
   "outputs": [
    {
     "data": {
      "text/plain": [
       "array([1, 2, 3, 4])"
      ]
     },
     "execution_count": 1,
     "metadata": {},
     "output_type": "execute_result"
    }
   ],
   "source": [
    "\n",
    "\n",
    "import numpy as np\n",
    "\n",
    "np.array([1, 2, 3, 4])\n",
    "\n",
    "\n",
    "# Los arreglos pueden ser también multidimensionales:"
   ]
  },
  {
   "cell_type": "code",
   "execution_count": 3,
   "metadata": {
    "execution": {
     "iopub.execute_input": "2020-09-28T22:01:16.305333Z",
     "iopub.status.busy": "2020-09-28T22:01:16.303791Z",
     "iopub.status.idle": "2020-09-28T22:01:16.307902Z",
     "shell.execute_reply": "2020-09-28T22:01:16.307250Z"
    }
   },
   "outputs": [
    {
     "data": {
      "text/plain": [
       "array([[1, 2, 3, 4],\n",
       "       [5, 6, 7, 8]])"
      ]
     },
     "execution_count": 1,
     "metadata": {},
     "output_type": "execute_result"
    }
   ],
   "source": [
    "\n",
    "\n",
    "np.array([[1, 2, 3, 4], [5, 6, 7, 8]])\n",
    "\n",
    "\n",
    "# Es importante tener en cuenta que un arreglo de numpy tiene un tipo fijo de datos, entonces si se quiere agregar un dato de un tipo diferente al de la mayoría, este va a ser modificado para adaptarse al resto"
   ]
  },
  {
   "cell_type": "code",
   "execution_count": 4,
   "metadata": {
    "execution": {
     "iopub.execute_input": "2020-09-28T22:01:16.315842Z",
     "iopub.status.busy": "2020-09-28T22:01:16.315106Z",
     "iopub.status.idle": "2020-09-28T22:01:16.317536Z",
     "shell.execute_reply": "2020-09-28T22:01:16.318138Z"
    }
   },
   "outputs": [
    {
     "data": {
      "text/plain": [
       "array([1, 8, 3, 4])"
      ]
     },
     "execution_count": 1,
     "metadata": {},
     "output_type": "execute_result"
    }
   ],
   "source": [
    "\n",
    "\n",
    "enteros = np.array([1, 2, 3, 4])\n",
    "\n",
    "# Agrego un elemento de tipo flotante en la posición 1\n",
    "\n",
    "enteros[1] = 8.4727\n",
    "enteros\n",
    "\n",
    "\n",
    "# Numpy también nos permite crear arreglos con valores aleatorios del 0 al 1"
   ]
  },
  {
   "cell_type": "code",
   "execution_count": 5,
   "metadata": {
    "execution": {
     "iopub.execute_input": "2020-09-28T22:01:16.324498Z",
     "iopub.status.busy": "2020-09-28T22:01:16.323246Z",
     "iopub.status.idle": "2020-09-28T22:01:16.327580Z",
     "shell.execute_reply": "2020-09-28T22:01:16.326931Z"
    }
   },
   "outputs": [
    {
     "data": {
      "text/plain": [
       "array([[0.88496118, 0.4057354 , 0.24126267],\n",
       "       [0.48341739, 0.09683698, 0.63718335]])"
      ]
     },
     "execution_count": 1,
     "metadata": {},
     "output_type": "execute_result"
    }
   ],
   "source": [
    "\n",
    "\n",
    "# Basta con pasarle las dimensiones del arreglo que queremos crear\n",
    "\n",
    "np.random.rand(2, 3)\n",
    "\n",
    "\n",
    "# ## Slicing\n",
    "\n",
    "# De la misma forma que con las listas de python, pueden obtenerse slices de los arreglos de numpy"
   ]
  },
  {
   "cell_type": "code",
   "execution_count": 6,
   "metadata": {
    "execution": {
     "iopub.execute_input": "2020-09-28T22:01:16.334247Z",
     "iopub.status.busy": "2020-09-28T22:01:16.332634Z",
     "iopub.status.idle": "2020-09-28T22:01:16.336793Z",
     "shell.execute_reply": "2020-09-28T22:01:16.336060Z"
    },
    "lines_to_next_cell": 2
   },
   "outputs": [
    {
     "data": {
      "text/plain": [
       "array([1, 8])"
      ]
     },
     "execution_count": 1,
     "metadata": {},
     "output_type": "execute_result"
    }
   ],
   "source": [
    "\n",
    "\n",
    "enteros[:2]"
   ]
  },
  {
   "cell_type": "code",
   "execution_count": 7,
   "metadata": {
    "execution": {
     "iopub.execute_input": "2020-09-28T22:01:16.345210Z",
     "iopub.status.busy": "2020-09-28T22:01:16.343511Z",
     "iopub.status.idle": "2020-09-28T22:01:16.347662Z",
     "shell.execute_reply": "2020-09-28T22:01:16.346958Z"
    }
   },
   "outputs": [
    {
     "name": "stdout",
     "output_type": "stream",
     "text": [
      "Original: \n",
      "[[ 1  2  3  4]\n",
      " [ 5  6  7  8]\n",
      " [ 9 10 11 12]]\n",
      "\n",
      "Recortada: \n",
      "[[1 2 3]\n",
      " [5 6 7]]\n"
     ]
    }
   ],
   "source": [
    "\n",
    "\n",
    "matriz_de_enteros = np.array([[1, 2, 3, 4], [5, 6, 7, 8], [9, 10, 11, 12]])\n",
    "\n",
    "print('Original: ')\n",
    "print(matriz_de_enteros)\n",
    "\n",
    "print()\n",
    "\n",
    "print('Recortada: ')\n",
    "print(matriz_de_enteros[:2, :3])"
   ]
  },
  {
   "cell_type": "markdown",
   "metadata": {},
   "source": [
    "### Copia de arreglos"
   ]
  },
  {
   "cell_type": "code",
   "execution_count": 8,
   "metadata": {
    "execution": {
     "iopub.execute_input": "2020-09-28T22:01:16.354090Z",
     "iopub.status.busy": "2020-09-28T22:01:16.352822Z",
     "iopub.status.idle": "2020-09-28T22:01:16.356878Z",
     "shell.execute_reply": "2020-09-28T22:01:16.356239Z"
    }
   },
   "outputs": [
    {
     "data": {
      "text/plain": [
       "array([1, 2, 3, 4])"
      ]
     },
     "execution_count": 1,
     "metadata": {},
     "output_type": "execute_result"
    }
   ],
   "source": [
    "# Los arreglos no se copian con asignación\n",
    "\n",
    "a = np.array([1, 2, 3, 4])\n",
    "b = a\n",
    "b"
   ]
  },
  {
   "cell_type": "code",
   "execution_count": 9,
   "metadata": {
    "execution": {
     "iopub.execute_input": "2020-09-28T22:01:16.364366Z",
     "iopub.status.busy": "2020-09-28T22:01:16.363178Z",
     "iopub.status.idle": "2020-09-28T22:01:16.366340Z",
     "shell.execute_reply": "2020-09-28T22:01:16.366869Z"
    }
   },
   "outputs": [
    {
     "data": {
      "text/plain": [
       "array([ 1, 20,  3,  4])"
      ]
     },
     "execution_count": 1,
     "metadata": {},
     "output_type": "execute_result"
    }
   ],
   "source": [
    "b[1] = 20\n",
    "b"
   ]
  },
  {
   "cell_type": "code",
   "execution_count": 10,
   "metadata": {
    "execution": {
     "iopub.execute_input": "2020-09-28T22:01:16.372748Z",
     "iopub.status.busy": "2020-09-28T22:01:16.371446Z",
     "iopub.status.idle": "2020-09-28T22:01:16.375428Z",
     "shell.execute_reply": "2020-09-28T22:01:16.374801Z"
    }
   },
   "outputs": [
    {
     "data": {
      "text/plain": [
       "array([ 1, 20,  3,  4])"
      ]
     },
     "execution_count": 1,
     "metadata": {},
     "output_type": "execute_result"
    }
   ],
   "source": [
    "a"
   ]
  },
  {
   "cell_type": "code",
   "execution_count": 11,
   "metadata": {
    "execution": {
     "iopub.execute_input": "2020-09-28T22:01:16.382634Z",
     "iopub.status.busy": "2020-09-28T22:01:16.380805Z",
     "iopub.status.idle": "2020-09-28T22:01:16.385057Z",
     "shell.execute_reply": "2020-09-28T22:01:16.384443Z"
    }
   },
   "outputs": [
    {
     "data": {
      "text/plain": [
       "array([ 1, 20,  3,  4])"
      ]
     },
     "execution_count": 1,
     "metadata": {},
     "output_type": "execute_result"
    }
   ],
   "source": [
    "# Para copiar un arreglo a otra variable debemos usar copy()\n",
    "\n",
    "a = np.array([1, 2, 3, 4])\n",
    "b = a.copy()\n",
    "b[1] = 20\n",
    "b"
   ]
  },
  {
   "cell_type": "code",
   "execution_count": 12,
   "metadata": {
    "execution": {
     "iopub.execute_input": "2020-09-28T22:01:16.391396Z",
     "iopub.status.busy": "2020-09-28T22:01:16.389805Z",
     "iopub.status.idle": "2020-09-28T22:01:16.393823Z",
     "shell.execute_reply": "2020-09-28T22:01:16.393202Z"
    }
   },
   "outputs": [
    {
     "data": {
      "text/plain": [
       "array([1, 2, 3, 4])"
      ]
     },
     "execution_count": 1,
     "metadata": {},
     "output_type": "execute_result"
    }
   ],
   "source": [
    "a"
   ]
  },
  {
   "cell_type": "markdown",
   "metadata": {},
   "source": [
    "### Modificación de dimensiones"
   ]
  },
  {
   "cell_type": "markdown",
   "metadata": {},
   "source": [
    "Existen varias operaciones para cambiar la forma de un arreglo de numpy"
   ]
  },
  {
   "cell_type": "code",
   "execution_count": 13,
   "metadata": {
    "execution": {
     "iopub.execute_input": "2020-09-28T22:01:16.399938Z",
     "iopub.status.busy": "2020-09-28T22:01:16.398520Z",
     "iopub.status.idle": "2020-09-28T22:01:16.402614Z",
     "shell.execute_reply": "2020-09-28T22:01:16.401929Z"
    }
   },
   "outputs": [
    {
     "data": {
      "text/plain": [
       "2"
      ]
     },
     "execution_count": 1,
     "metadata": {},
     "output_type": "execute_result"
    }
   ],
   "source": [
    "# Obtener las dimensiones del arreglo\n",
    "\n",
    "matriz_de_enteros.ndim"
   ]
  },
  {
   "cell_type": "code",
   "execution_count": 14,
   "metadata": {
    "execution": {
     "iopub.execute_input": "2020-09-28T22:01:16.409854Z",
     "iopub.status.busy": "2020-09-28T22:01:16.408698Z",
     "iopub.status.idle": "2020-09-28T22:01:16.411786Z",
     "shell.execute_reply": "2020-09-28T22:01:16.412374Z"
    }
   },
   "outputs": [
    {
     "data": {
      "text/plain": [
       "(3, 4)"
      ]
     },
     "execution_count": 1,
     "metadata": {},
     "output_type": "execute_result"
    }
   ],
   "source": [
    "# Obtener la forma del arreglo\n",
    "\n",
    "matriz_de_enteros.shape"
   ]
  },
  {
   "cell_type": "code",
   "execution_count": 15,
   "metadata": {
    "execution": {
     "iopub.execute_input": "2020-09-28T22:01:16.419313Z",
     "iopub.status.busy": "2020-09-28T22:01:16.418070Z",
     "iopub.status.idle": "2020-09-28T22:01:16.422066Z",
     "shell.execute_reply": "2020-09-28T22:01:16.421489Z"
    }
   },
   "outputs": [
    {
     "data": {
      "text/plain": [
       "array([[ 3,  6],\n",
       "       [ 9, 12]])"
      ]
     },
     "execution_count": 1,
     "metadata": {},
     "output_type": "execute_result"
    }
   ],
   "source": [
    "# Modificar la forma de un arreglo\n",
    "\n",
    "enteros = np.array([3, 6, 9, 12])\n",
    "np.reshape(enteros, (2, 2))"
   ]
  },
  {
   "cell_type": "code",
   "execution_count": 16,
   "metadata": {
    "execution": {
     "iopub.execute_input": "2020-09-28T22:01:16.428181Z",
     "iopub.status.busy": "2020-09-28T22:01:16.426961Z",
     "iopub.status.idle": "2020-09-28T22:01:16.430055Z",
     "shell.execute_reply": "2020-09-28T22:01:16.430641Z"
    }
   },
   "outputs": [
    {
     "data": {
      "text/plain": [
       "array([[1., 1.],\n",
       "       [1., 1.]])"
      ]
     },
     "execution_count": 1,
     "metadata": {},
     "output_type": "execute_result"
    }
   ],
   "source": [
    "# Aplanar un arreglo\n",
    "\n",
    "a = np.ones((2, 2))\n",
    "a"
   ]
  },
  {
   "cell_type": "code",
   "execution_count": 17,
   "metadata": {
    "execution": {
     "iopub.execute_input": "2020-09-28T22:01:16.435292Z",
     "iopub.status.busy": "2020-09-28T22:01:16.434512Z",
     "iopub.status.idle": "2020-09-28T22:01:16.437792Z",
     "shell.execute_reply": "2020-09-28T22:01:16.438374Z"
    }
   },
   "outputs": [
    {
     "data": {
      "text/plain": [
       "array([1., 1., 1., 1.])"
      ]
     },
     "execution_count": 1,
     "metadata": {},
     "output_type": "execute_result"
    }
   ],
   "source": [
    "a.flatten()"
   ]
  },
  {
   "cell_type": "code",
   "execution_count": 18,
   "metadata": {
    "execution": {
     "iopub.execute_input": "2020-09-28T22:01:16.443071Z",
     "iopub.status.busy": "2020-09-28T22:01:16.442393Z",
     "iopub.status.idle": "2020-09-28T22:01:16.445224Z",
     "shell.execute_reply": "2020-09-28T22:01:16.445788Z"
    },
    "lines_to_next_cell": 2
   },
   "outputs": [
    {
     "data": {
      "text/plain": [
       "array([[1., 1.],\n",
       "       [1., 1.]])"
      ]
     },
     "execution_count": 1,
     "metadata": {},
     "output_type": "execute_result"
    }
   ],
   "source": [
    "a"
   ]
  },
  {
   "cell_type": "markdown",
   "metadata": {},
   "source": [
    "### Combinación de arreglos (Stacking)"
   ]
  },
  {
   "cell_type": "code",
   "execution_count": 19,
   "metadata": {
    "execution": {
     "iopub.execute_input": "2020-09-28T22:01:16.452218Z",
     "iopub.status.busy": "2020-09-28T22:01:16.450823Z",
     "iopub.status.idle": "2020-09-28T22:01:16.454494Z",
     "shell.execute_reply": "2020-09-28T22:01:16.453887Z"
    }
   },
   "outputs": [
    {
     "data": {
      "text/plain": [
       "array([0, 1, 2, 3, 4])"
      ]
     },
     "execution_count": 1,
     "metadata": {},
     "output_type": "execute_result"
    }
   ],
   "source": [
    "# Los arreglos se pueden combinar verticalmente (se incrementa la cantidad de filas)\n",
    "\n",
    "a = np.arange(0, 5)\n",
    "a"
   ]
  },
  {
   "cell_type": "code",
   "execution_count": 20,
   "metadata": {
    "execution": {
     "iopub.execute_input": "2020-09-28T22:01:16.459050Z",
     "iopub.status.busy": "2020-09-28T22:01:16.458361Z",
     "iopub.status.idle": "2020-09-28T22:01:16.461885Z",
     "shell.execute_reply": "2020-09-28T22:01:16.461179Z"
    }
   },
   "outputs": [
    {
     "data": {
      "text/plain": [
       "array([5, 6, 7, 8, 9])"
      ]
     },
     "execution_count": 1,
     "metadata": {},
     "output_type": "execute_result"
    }
   ],
   "source": [
    "b = np.arange(5, 10)\n",
    "b"
   ]
  },
  {
   "cell_type": "code",
   "execution_count": 21,
   "metadata": {
    "execution": {
     "iopub.execute_input": "2020-09-28T22:01:16.467600Z",
     "iopub.status.busy": "2020-09-28T22:01:16.465830Z",
     "iopub.status.idle": "2020-09-28T22:01:16.469264Z",
     "shell.execute_reply": "2020-09-28T22:01:16.469930Z"
    }
   },
   "outputs": [
    {
     "data": {
      "text/plain": [
       "array([[0, 1, 2, 3, 4],\n",
       "       [5, 6, 7, 8, 9]])"
      ]
     },
     "execution_count": 1,
     "metadata": {},
     "output_type": "execute_result"
    }
   ],
   "source": [
    "combinados_verticalmente = np.vstack((a, b))\n",
    "combinados_verticalmente"
   ]
  },
  {
   "cell_type": "code",
   "execution_count": 22,
   "metadata": {
    "execution": {
     "iopub.execute_input": "2020-09-28T22:01:16.474645Z",
     "iopub.status.busy": "2020-09-28T22:01:16.473919Z",
     "iopub.status.idle": "2020-09-28T22:01:16.477386Z",
     "shell.execute_reply": "2020-09-28T22:01:16.476791Z"
    }
   },
   "outputs": [
    {
     "data": {
      "text/plain": [
       "array([0, 1, 2, 3, 4, 5, 6, 7, 8, 9])"
      ]
     },
     "execution_count": 1,
     "metadata": {},
     "output_type": "execute_result"
    }
   ],
   "source": [
    "# También se pueden combinar horizontalmente (se incrementa la cantidad de columnas)\n",
    "\n",
    "combinados_horizontalmente = np.hstack((a, b))\n",
    "combinados_horizontalmente"
   ]
  },
  {
   "cell_type": "markdown",
   "metadata": {},
   "source": [
    "### Operaciones matemáticas"
   ]
  },
  {
   "cell_type": "code",
   "execution_count": 23,
   "metadata": {
    "execution": {
     "iopub.execute_input": "2020-09-28T22:01:16.482252Z",
     "iopub.status.busy": "2020-09-28T22:01:16.481454Z",
     "iopub.status.idle": "2020-09-28T22:01:16.485327Z",
     "shell.execute_reply": "2020-09-28T22:01:16.484732Z"
    }
   },
   "outputs": [
    {
     "data": {
      "text/plain": [
       "array([3, 4, 5, 6])"
      ]
     },
     "execution_count": 1,
     "metadata": {},
     "output_type": "execute_result"
    }
   ],
   "source": [
    "a = np.array([1, 2, 3, 4])\n",
    "\n",
    "a + 2"
   ]
  },
  {
   "cell_type": "code",
   "execution_count": 24,
   "metadata": {
    "execution": {
     "iopub.execute_input": "2020-09-28T22:01:16.489747Z",
     "iopub.status.busy": "2020-09-28T22:01:16.489075Z",
     "iopub.status.idle": "2020-09-28T22:01:16.492685Z",
     "shell.execute_reply": "2020-09-28T22:01:16.492090Z"
    }
   },
   "outputs": [
    {
     "data": {
      "text/plain": [
       "array([ 1,  4,  9, 16])"
      ]
     },
     "execution_count": 1,
     "metadata": {},
     "output_type": "execute_result"
    }
   ],
   "source": [
    "a ** 2"
   ]
  },
  {
   "cell_type": "code",
   "execution_count": 25,
   "metadata": {
    "execution": {
     "iopub.execute_input": "2020-09-28T22:01:16.497355Z",
     "iopub.status.busy": "2020-09-28T22:01:16.496657Z",
     "iopub.status.idle": "2020-09-28T22:01:16.500688Z",
     "shell.execute_reply": "2020-09-28T22:01:16.500090Z"
    }
   },
   "outputs": [
    {
     "data": {
      "text/plain": [
       "array([2., 3., 4., 5.])"
      ]
     },
     "execution_count": 1,
     "metadata": {},
     "output_type": "execute_result"
    }
   ],
   "source": [
    "b = np.ones(4)\n",
    "a + b"
   ]
  },
  {
   "cell_type": "markdown",
   "metadata": {},
   "source": [
    "### Estadística"
   ]
  },
  {
   "cell_type": "code",
   "execution_count": 26,
   "metadata": {
    "execution": {
     "iopub.execute_input": "2020-09-28T22:01:16.506159Z",
     "iopub.status.busy": "2020-09-28T22:01:16.505431Z",
     "iopub.status.idle": "2020-09-28T22:01:16.508504Z",
     "shell.execute_reply": "2020-09-28T22:01:16.509081Z"
    }
   },
   "outputs": [
    {
     "data": {
      "text/plain": [
       "1"
      ]
     },
     "execution_count": 1,
     "metadata": {},
     "output_type": "execute_result"
    }
   ],
   "source": [
    "a = np.array([[5, 2, 1, 8], [26, 4, 17, 9]])\n",
    "\n",
    "np.min(a)"
   ]
  },
  {
   "cell_type": "code",
   "execution_count": 27,
   "metadata": {
    "execution": {
     "iopub.execute_input": "2020-09-28T22:01:16.515065Z",
     "iopub.status.busy": "2020-09-28T22:01:16.512994Z",
     "iopub.status.idle": "2020-09-28T22:01:16.518168Z",
     "shell.execute_reply": "2020-09-28T22:01:16.517643Z"
    }
   },
   "outputs": [
    {
     "data": {
      "text/plain": [
       "26"
      ]
     },
     "execution_count": 1,
     "metadata": {},
     "output_type": "execute_result"
    }
   ],
   "source": [
    "np.max(a)"
   ]
  },
  {
   "cell_type": "code",
   "execution_count": 28,
   "metadata": {
    "execution": {
     "iopub.execute_input": "2020-09-28T22:01:16.522567Z",
     "iopub.status.busy": "2020-09-28T22:01:16.521887Z",
     "iopub.status.idle": "2020-09-28T22:01:16.524960Z",
     "shell.execute_reply": "2020-09-28T22:01:16.525509Z"
    }
   },
   "outputs": [
    {
     "data": {
      "text/plain": [
       "72"
      ]
     },
     "execution_count": 1,
     "metadata": {},
     "output_type": "execute_result"
    }
   ],
   "source": [
    "np.sum(a)"
   ]
  },
  {
   "cell_type": "markdown",
   "metadata": {},
   "source": [
    "### Más magia"
   ]
  },
  {
   "cell_type": "code",
   "execution_count": 29,
   "metadata": {
    "execution": {
     "iopub.execute_input": "2020-09-28T22:01:16.530479Z",
     "iopub.status.busy": "2020-09-28T22:01:16.529805Z",
     "iopub.status.idle": "2020-09-28T22:01:16.533402Z",
     "shell.execute_reply": "2020-09-28T22:01:16.533955Z"
    }
   },
   "outputs": [
    {
     "data": {
      "text/plain": [
       "array([[False, False, False,  True],\n",
       "       [ True, False,  True,  True]])"
      ]
     },
     "execution_count": 1,
     "metadata": {},
     "output_type": "execute_result"
    }
   ],
   "source": [
    "a = np.array([[5, 2, 1, 8], [26, 4, 17, 9]])\n",
    "\n",
    "a > 5"
   ]
  },
  {
   "cell_type": "code",
   "execution_count": 30,
   "metadata": {
    "execution": {
     "iopub.execute_input": "2020-09-28T22:01:16.538372Z",
     "iopub.status.busy": "2020-09-28T22:01:16.537736Z",
     "iopub.status.idle": "2020-09-28T22:01:16.541193Z",
     "shell.execute_reply": "2020-09-28T22:01:16.540566Z"
    }
   },
   "outputs": [
    {
     "data": {
      "text/plain": [
       "array([ 8, 26, 17,  9])"
      ]
     },
     "execution_count": 1,
     "metadata": {},
     "output_type": "execute_result"
    }
   ],
   "source": [
    "a[a > 5]"
   ]
  },
  {
   "cell_type": "code",
   "execution_count": null,
   "metadata": {},
   "outputs": [],
   "source": []
  }
 ],
 "metadata": {
  "jupytext": {
   "cell_metadata_filter": "-all",
   "encoding": "# coding: utf-8",
   "executable": "/usr/bin/env python"
  },
  "kernelspec": {
   "display_name": "Python 3",
   "language": "python",
   "name": "python3"
  },
  "language_info": {
   "codemirror_mode": {
    "name": "ipython",
    "version": 3
   },
   "file_extension": ".py",
   "mimetype": "text/x-python",
   "name": "python",
   "nbconvert_exporter": "python",
   "pygments_lexer": "ipython3",
   "version": "3.7.9"
  }
 },
 "nbformat": 4,
 "nbformat_minor": 4
}
