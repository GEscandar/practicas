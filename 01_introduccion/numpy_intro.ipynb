{
 "cells": [
  {
   "cell_type": "markdown",
   "id": "b279c439",
   "metadata": {},
   "source": [
    "## Clase 1 - Introducción a Numpy\n",
    "\n",
    "Numpy es una biblioteca para Python que facilita el manejo de arreglos multidimensionales y ofrece varias herramientas para trabajar con ellos. Muchas de las bibliotecas de Python que son ampliamente usadas hoy en día, como pandas, están construidas sobre numpy.\n",
    "\n",
    "### Listas de Python vs arreglos de Numpy\n",
    "\n",
    "A primera vista, un arreglo de numpy puede resultar idéntico a una lista de python, pero a medida que la cantidad de datos comienza a incrementar, los arreglos de numpy terminan ofreciendo un manejo más eficiente de la memoria.\n",
    "\n",
    "Para comenzar, vamos a crear un arreglo de numpy:"
   ]
  },
  {
   "cell_type": "code",
   "execution_count": 1,
   "id": "5a14baf3",
   "metadata": {
    "execution": {
     "iopub.execute_input": "2021-11-03T02:37:43.922184Z",
     "iopub.status.busy": "2021-11-03T02:37:43.921531Z",
     "iopub.status.idle": "2021-11-03T02:37:44.065289Z",
     "shell.execute_reply": "2021-11-03T02:37:44.065699Z"
    }
   },
   "outputs": [
    {
     "data": {
      "text/plain": [
       "array([1, 2, 3, 4])"
      ]
     },
     "execution_count": 1,
     "metadata": {},
     "output_type": "execute_result"
    }
   ],
   "source": [
    "import numpy as np\n",
    "\n",
    "np.array([1, 2, 3, 4])"
   ]
  },
  {
   "cell_type": "markdown",
   "id": "363e0891",
   "metadata": {},
   "source": [
    "Los arreglos pueden ser también multidimensionales:"
   ]
  },
  {
   "cell_type": "code",
   "execution_count": 2,
   "id": "68ac4432",
   "metadata": {
    "execution": {
     "iopub.execute_input": "2021-11-03T02:37:44.068776Z",
     "iopub.status.busy": "2021-11-03T02:37:44.068261Z",
     "iopub.status.idle": "2021-11-03T02:37:44.072805Z",
     "shell.execute_reply": "2021-11-03T02:37:44.073289Z"
    }
   },
   "outputs": [
    {
     "data": {
      "text/plain": [
       "array([[1, 2, 3, 4],\n",
       "       [5, 6, 7, 8]])"
      ]
     },
     "execution_count": 2,
     "metadata": {},
     "output_type": "execute_result"
    }
   ],
   "source": [
    "np.array([[1, 2, 3, 4], [5, 6, 7, 8]])"
   ]
  },
  {
   "cell_type": "markdown",
   "id": "4371b4ee",
   "metadata": {},
   "source": [
    "Es importante tener en cuenta que un arreglo de numpy tiene un tipo fijo de datos, entonces si se quiere agregar un dato de un tipo diferente al de la mayoría, este va a ser modificado para adaptarse al resto"
   ]
  },
  {
   "cell_type": "code",
   "execution_count": 3,
   "id": "a928d017",
   "metadata": {
    "execution": {
     "iopub.execute_input": "2021-11-03T02:37:44.076988Z",
     "iopub.status.busy": "2021-11-03T02:37:44.076508Z",
     "iopub.status.idle": "2021-11-03T02:37:44.078889Z",
     "shell.execute_reply": "2021-11-03T02:37:44.078467Z"
    }
   },
   "outputs": [],
   "source": [
    "enteros = np.array([1, 2, 3, 4])"
   ]
  },
  {
   "cell_type": "markdown",
   "id": "bed20d54",
   "metadata": {},
   "source": [
    "Agrego un elemento de tipo flotante en la posición 1"
   ]
  },
  {
   "cell_type": "code",
   "execution_count": 4,
   "id": "26e9d740",
   "metadata": {
    "execution": {
     "iopub.execute_input": "2021-11-03T02:37:44.082984Z",
     "iopub.status.busy": "2021-11-03T02:37:44.082497Z",
     "iopub.status.idle": "2021-11-03T02:37:44.084716Z",
     "shell.execute_reply": "2021-11-03T02:37:44.085103Z"
    }
   },
   "outputs": [
    {
     "data": {
      "text/plain": [
       "array([1, 8, 3, 4])"
      ]
     },
     "execution_count": 4,
     "metadata": {},
     "output_type": "execute_result"
    }
   ],
   "source": [
    "enteros[1] = 8.4727\n",
    "enteros"
   ]
  },
  {
   "cell_type": "markdown",
   "id": "a3c470c3",
   "metadata": {},
   "source": [
    "Numpy también nos permite crear arreglos con valores aleatorios del 0 al 1.\n",
    "Basta con pasarle las dimensiones del arreglo que queremos crear."
   ]
  },
  {
   "cell_type": "code",
   "execution_count": 5,
   "id": "fee0928b",
   "metadata": {
    "execution": {
     "iopub.execute_input": "2021-11-03T02:37:44.088494Z",
     "iopub.status.busy": "2021-11-03T02:37:44.087878Z",
     "iopub.status.idle": "2021-11-03T02:37:44.091905Z",
     "shell.execute_reply": "2021-11-03T02:37:44.091482Z"
    }
   },
   "outputs": [
    {
     "data": {
      "text/plain": [
       "array([[0.4799396 , 0.3846884 , 0.84764033],\n",
       "       [0.05705226, 0.13203215, 0.22193897]])"
      ]
     },
     "execution_count": 5,
     "metadata": {},
     "output_type": "execute_result"
    }
   ],
   "source": [
    "np.random.rand(2, 3)"
   ]
  },
  {
   "cell_type": "markdown",
   "id": "40e725f7",
   "metadata": {},
   "source": [
    "## Slicing\n",
    "\n",
    "De la misma forma que con las listas de python, pueden obtenerse slices de los arreglos de numpy"
   ]
  },
  {
   "cell_type": "code",
   "execution_count": 6,
   "id": "776a57d9",
   "metadata": {
    "execution": {
     "iopub.execute_input": "2021-11-03T02:37:44.095744Z",
     "iopub.status.busy": "2021-11-03T02:37:44.095268Z",
     "iopub.status.idle": "2021-11-03T02:37:44.097435Z",
     "shell.execute_reply": "2021-11-03T02:37:44.097900Z"
    },
    "lines_to_next_cell": 2
   },
   "outputs": [
    {
     "data": {
      "text/plain": [
       "array([1, 8])"
      ]
     },
     "execution_count": 6,
     "metadata": {},
     "output_type": "execute_result"
    }
   ],
   "source": [
    "enteros[:2]"
   ]
  },
  {
   "cell_type": "code",
   "execution_count": 7,
   "id": "3b75fc60",
   "metadata": {
    "execution": {
     "iopub.execute_input": "2021-11-03T02:37:44.103052Z",
     "iopub.status.busy": "2021-11-03T02:37:44.102180Z",
     "iopub.status.idle": "2021-11-03T02:37:44.104953Z",
     "shell.execute_reply": "2021-11-03T02:37:44.105347Z"
    }
   },
   "outputs": [
    {
     "name": "stdout",
     "output_type": "stream",
     "text": [
      "Original: \n",
      "[[ 1  2  3  4]\n",
      " [ 5  6  7  8]\n",
      " [ 9 10 11 12]]\n",
      "\n",
      "Recortada: \n",
      "[[1 2 3]\n",
      " [5 6 7]]\n"
     ]
    }
   ],
   "source": [
    "matriz_de_enteros = np.array([[1, 2, 3, 4], [5, 6, 7, 8], [9, 10, 11, 12]])\n",
    "\n",
    "print('Original: ')\n",
    "print(matriz_de_enteros)\n",
    "\n",
    "print()\n",
    "\n",
    "print('Recortada: ')\n",
    "print(matriz_de_enteros[:2, :3])"
   ]
  },
  {
   "cell_type": "code",
   "execution_count": 8,
   "id": "b2fcad78",
   "metadata": {
    "execution": {
     "iopub.execute_input": "2021-11-03T02:37:44.109498Z",
     "iopub.status.busy": "2021-11-03T02:37:44.109007Z",
     "iopub.status.idle": "2021-11-03T02:37:44.111387Z",
     "shell.execute_reply": "2021-11-03T02:37:44.111808Z"
    }
   },
   "outputs": [
    {
     "data": {
      "text/plain": [
       "array([[[ 0,  1,  2,  3,  4],\n",
       "        [ 5,  6,  7,  8,  9],\n",
       "        [10, 11, 12, 13, 14]],\n",
       "\n",
       "       [[15, 16, 17, 18, 19],\n",
       "        [20, 21, 22, 23, 24],\n",
       "        [25, 26, 27, 28, 29]],\n",
       "\n",
       "       [[30, 31, 32, 33, 34],\n",
       "        [35, 36, 37, 38, 39],\n",
       "        [40, 41, 42, 43, 44]]])"
      ]
     },
     "execution_count": 8,
     "metadata": {},
     "output_type": "execute_result"
    }
   ],
   "source": [
    "# 3D\n",
    "# arange() genera valores de un intervalo pasado por parámetro\n",
    "# reshape() modifica la forma del numpy array\n",
    "\n",
    "x = np.arange(45).reshape(3, 3, 5)\n",
    "x"
   ]
  },
  {
   "cell_type": "code",
   "execution_count": 9,
   "id": "8c581db7",
   "metadata": {
    "execution": {
     "iopub.execute_input": "2021-11-03T02:37:44.115635Z",
     "iopub.status.busy": "2021-11-03T02:37:44.115159Z",
     "iopub.status.idle": "2021-11-03T02:37:44.117301Z",
     "shell.execute_reply": "2021-11-03T02:37:44.117719Z"
    }
   },
   "outputs": [
    {
     "data": {
      "text/plain": [
       "array([[ 0,  1,  2,  3,  4],\n",
       "       [ 5,  6,  7,  8,  9],\n",
       "       [10, 11, 12, 13, 14]])"
      ]
     },
     "execution_count": 9,
     "metadata": {},
     "output_type": "execute_result"
    }
   ],
   "source": [
    "x[0]"
   ]
  },
  {
   "cell_type": "code",
   "execution_count": 10,
   "id": "c6465989",
   "metadata": {
    "execution": {
     "iopub.execute_input": "2021-11-03T02:37:44.121791Z",
     "iopub.status.busy": "2021-11-03T02:37:44.121296Z",
     "iopub.status.idle": "2021-11-03T02:37:44.123631Z",
     "shell.execute_reply": "2021-11-03T02:37:44.124026Z"
    }
   },
   "outputs": [
    {
     "data": {
      "text/plain": [
       "array([5, 6, 7, 8, 9])"
      ]
     },
     "execution_count": 10,
     "metadata": {},
     "output_type": "execute_result"
    }
   ],
   "source": [
    "x[0][1]"
   ]
  },
  {
   "cell_type": "code",
   "execution_count": 11,
   "id": "e49b752a",
   "metadata": {
    "execution": {
     "iopub.execute_input": "2021-11-03T02:37:44.128030Z",
     "iopub.status.busy": "2021-11-03T02:37:44.127554Z",
     "iopub.status.idle": "2021-11-03T02:37:44.131356Z",
     "shell.execute_reply": "2021-11-03T02:37:44.130936Z"
    }
   },
   "outputs": [
    {
     "data": {
      "text/plain": [
       "7"
      ]
     },
     "execution_count": 11,
     "metadata": {},
     "output_type": "execute_result"
    }
   ],
   "source": [
    "x[0][1][2]"
   ]
  },
  {
   "cell_type": "markdown",
   "id": "83cdef87",
   "metadata": {},
   "source": [
    "\n",
    "¿Cómo conseguimos estos valores? ([fuente](https://towardsdatascience.com/indexing-and-slicing-of-1d-2d-and-3d-arrays-in-numpy-e731afff0bbe))\n",
    "\n",
    "![title](img/matrix.png)"
   ]
  },
  {
   "cell_type": "code",
   "execution_count": 12,
   "id": "515e9647",
   "metadata": {
    "execution": {
     "iopub.execute_input": "2021-11-03T02:37:44.135213Z",
     "iopub.status.busy": "2021-11-03T02:37:44.134738Z",
     "iopub.status.idle": "2021-11-03T02:37:44.137112Z",
     "shell.execute_reply": "2021-11-03T02:37:44.137477Z"
    }
   },
   "outputs": [
    {
     "data": {
      "text/plain": [
       "array([[[16, 17, 18],\n",
       "        [21, 22, 23]],\n",
       "\n",
       "       [[31, 32, 33],\n",
       "        [36, 37, 38]]])"
      ]
     },
     "execution_count": 12,
     "metadata": {},
     "output_type": "execute_result"
    }
   ],
   "source": [
    "x[1:, 0:2, 1:4]"
   ]
  },
  {
   "cell_type": "markdown",
   "id": "a0d30fa1",
   "metadata": {},
   "source": [
    "### Copia de arreglos"
   ]
  },
  {
   "cell_type": "code",
   "execution_count": 13,
   "id": "bf5e8273",
   "metadata": {
    "execution": {
     "iopub.execute_input": "2021-11-03T02:37:44.141875Z",
     "iopub.status.busy": "2021-11-03T02:37:44.141398Z",
     "iopub.status.idle": "2021-11-03T02:37:44.143556Z",
     "shell.execute_reply": "2021-11-03T02:37:44.143943Z"
    }
   },
   "outputs": [
    {
     "data": {
      "text/plain": [
       "array([1, 2, 3, 4])"
      ]
     },
     "execution_count": 13,
     "metadata": {},
     "output_type": "execute_result"
    }
   ],
   "source": [
    "# Los arreglos no se copian con asignación\n",
    "\n",
    "a = np.array([1, 2, 3, 4])\n",
    "b = a\n",
    "b"
   ]
  },
  {
   "cell_type": "code",
   "execution_count": 14,
   "id": "c299b2cf",
   "metadata": {
    "execution": {
     "iopub.execute_input": "2021-11-03T02:37:44.146256Z",
     "iopub.status.busy": "2021-11-03T02:37:44.145677Z",
     "iopub.status.idle": "2021-11-03T02:37:44.150009Z",
     "shell.execute_reply": "2021-11-03T02:37:44.149581Z"
    }
   },
   "outputs": [
    {
     "data": {
      "text/plain": [
       "array([ 1, 20,  3,  4])"
      ]
     },
     "execution_count": 14,
     "metadata": {},
     "output_type": "execute_result"
    }
   ],
   "source": [
    "b[1] = 20\n",
    "b"
   ]
  },
  {
   "cell_type": "code",
   "execution_count": 15,
   "id": "7984d2f1",
   "metadata": {
    "execution": {
     "iopub.execute_input": "2021-11-03T02:37:44.153508Z",
     "iopub.status.busy": "2021-11-03T02:37:44.153026Z",
     "iopub.status.idle": "2021-11-03T02:37:44.155373Z",
     "shell.execute_reply": "2021-11-03T02:37:44.155765Z"
    }
   },
   "outputs": [
    {
     "data": {
      "text/plain": [
       "array([ 1, 20,  3,  4])"
      ]
     },
     "execution_count": 15,
     "metadata": {},
     "output_type": "execute_result"
    }
   ],
   "source": [
    "a"
   ]
  },
  {
   "cell_type": "code",
   "execution_count": 16,
   "id": "fda5bf1d",
   "metadata": {
    "execution": {
     "iopub.execute_input": "2021-11-03T02:37:44.160062Z",
     "iopub.status.busy": "2021-11-03T02:37:44.159582Z",
     "iopub.status.idle": "2021-11-03T02:37:44.161890Z",
     "shell.execute_reply": "2021-11-03T02:37:44.162281Z"
    }
   },
   "outputs": [
    {
     "data": {
      "text/plain": [
       "array([ 1, 20,  3,  4])"
      ]
     },
     "execution_count": 16,
     "metadata": {},
     "output_type": "execute_result"
    }
   ],
   "source": [
    "# Para copiar un arreglo a otra variable debemos usar copy()\n",
    "\n",
    "a = np.array([1, 2, 3, 4])\n",
    "b = a.copy()\n",
    "b[1] = 20\n",
    "b"
   ]
  },
  {
   "cell_type": "code",
   "execution_count": 17,
   "id": "422728de",
   "metadata": {
    "execution": {
     "iopub.execute_input": "2021-11-03T02:37:44.165949Z",
     "iopub.status.busy": "2021-11-03T02:37:44.165474Z",
     "iopub.status.idle": "2021-11-03T02:37:44.167616Z",
     "shell.execute_reply": "2021-11-03T02:37:44.168081Z"
    }
   },
   "outputs": [
    {
     "data": {
      "text/plain": [
       "array([1, 2, 3, 4])"
      ]
     },
     "execution_count": 17,
     "metadata": {},
     "output_type": "execute_result"
    }
   ],
   "source": [
    "a"
   ]
  },
  {
   "cell_type": "markdown",
   "id": "6d2594e0",
   "metadata": {},
   "source": [
    "### Modificación de dimensiones"
   ]
  },
  {
   "cell_type": "markdown",
   "id": "0f9b23ed",
   "metadata": {},
   "source": [
    "Existen varias operaciones para cambiar la forma de un arreglo de numpy"
   ]
  },
  {
   "cell_type": "code",
   "execution_count": 18,
   "id": "59b4f52a",
   "metadata": {
    "execution": {
     "iopub.execute_input": "2021-11-03T02:37:44.172393Z",
     "iopub.status.busy": "2021-11-03T02:37:44.171407Z",
     "iopub.status.idle": "2021-11-03T02:37:44.174874Z",
     "shell.execute_reply": "2021-11-03T02:37:44.175266Z"
    }
   },
   "outputs": [
    {
     "data": {
      "text/plain": [
       "array([[ 1,  2,  3,  4],\n",
       "       [ 5,  6,  7,  8],\n",
       "       [ 9, 10, 11, 12]])"
      ]
     },
     "execution_count": 18,
     "metadata": {},
     "output_type": "execute_result"
    }
   ],
   "source": [
    "matriz_de_enteros"
   ]
  },
  {
   "cell_type": "code",
   "execution_count": 19,
   "id": "39ae8a92",
   "metadata": {
    "execution": {
     "iopub.execute_input": "2021-11-03T02:37:44.179700Z",
     "iopub.status.busy": "2021-11-03T02:37:44.178983Z",
     "iopub.status.idle": "2021-11-03T02:37:44.181854Z",
     "shell.execute_reply": "2021-11-03T02:37:44.182248Z"
    }
   },
   "outputs": [
    {
     "data": {
      "text/plain": [
       "2"
      ]
     },
     "execution_count": 19,
     "metadata": {},
     "output_type": "execute_result"
    }
   ],
   "source": [
    "# Obtener las dimensiones del arreglo\n",
    "\n",
    "matriz_de_enteros.ndim"
   ]
  },
  {
   "cell_type": "code",
   "execution_count": 20,
   "id": "d15bf57d",
   "metadata": {
    "execution": {
     "iopub.execute_input": "2021-11-03T02:37:44.185789Z",
     "iopub.status.busy": "2021-11-03T02:37:44.185312Z",
     "iopub.status.idle": "2021-11-03T02:37:44.187622Z",
     "shell.execute_reply": "2021-11-03T02:37:44.188016Z"
    }
   },
   "outputs": [
    {
     "data": {
      "text/plain": [
       "(3, 4)"
      ]
     },
     "execution_count": 20,
     "metadata": {},
     "output_type": "execute_result"
    }
   ],
   "source": [
    "# Obtener la forma del arreglo\n",
    "\n",
    "matriz_de_enteros.shape"
   ]
  },
  {
   "cell_type": "code",
   "execution_count": 21,
   "id": "cb605dba",
   "metadata": {
    "execution": {
     "iopub.execute_input": "2021-11-03T02:37:44.192933Z",
     "iopub.status.busy": "2021-11-03T02:37:44.192454Z",
     "iopub.status.idle": "2021-11-03T02:37:44.196964Z",
     "shell.execute_reply": "2021-11-03T02:37:44.196500Z"
    }
   },
   "outputs": [
    {
     "name": "stdout",
     "output_type": "stream",
     "text": [
      "enteros: [ 3  6  9 12]\n"
     ]
    },
    {
     "data": {
      "text/plain": [
       "array([[ 3,  6],\n",
       "       [ 9, 12]])"
      ]
     },
     "execution_count": 21,
     "metadata": {},
     "output_type": "execute_result"
    }
   ],
   "source": [
    "# Modificar la forma de un arreglo\n",
    "\n",
    "enteros = np.array([3, 6, 9, 12])\n",
    "print(f\"enteros: {enteros}\")\n",
    "np.reshape(enteros, (2, 2))"
   ]
  },
  {
   "cell_type": "code",
   "execution_count": 22,
   "id": "a9d01a34",
   "metadata": {
    "execution": {
     "iopub.execute_input": "2021-11-03T02:37:44.201922Z",
     "iopub.status.busy": "2021-11-03T02:37:44.201415Z",
     "iopub.status.idle": "2021-11-03T02:37:44.204282Z",
     "shell.execute_reply": "2021-11-03T02:37:44.204673Z"
    }
   },
   "outputs": [
    {
     "data": {
      "text/plain": [
       "array([[1., 1.],\n",
       "       [1., 1.]])"
      ]
     },
     "execution_count": 22,
     "metadata": {},
     "output_type": "execute_result"
    }
   ],
   "source": [
    "# Aplanar un arreglo\n",
    "\n",
    "a = np.ones((2, 2))\n",
    "a"
   ]
  },
  {
   "cell_type": "code",
   "execution_count": 23,
   "id": "b16ab87e",
   "metadata": {
    "execution": {
     "iopub.execute_input": "2021-11-03T02:37:44.208660Z",
     "iopub.status.busy": "2021-11-03T02:37:44.208172Z",
     "iopub.status.idle": "2021-11-03T02:37:44.210346Z",
     "shell.execute_reply": "2021-11-03T02:37:44.210746Z"
    }
   },
   "outputs": [
    {
     "data": {
      "text/plain": [
       "array([1., 1., 1., 1.])"
      ]
     },
     "execution_count": 23,
     "metadata": {},
     "output_type": "execute_result"
    }
   ],
   "source": [
    "a.flatten()"
   ]
  },
  {
   "cell_type": "code",
   "execution_count": 24,
   "id": "d9a81603",
   "metadata": {
    "execution": {
     "iopub.execute_input": "2021-11-03T02:37:44.214366Z",
     "iopub.status.busy": "2021-11-03T02:37:44.213866Z",
     "iopub.status.idle": "2021-11-03T02:37:44.216202Z",
     "shell.execute_reply": "2021-11-03T02:37:44.216594Z"
    },
    "lines_to_next_cell": 2
   },
   "outputs": [
    {
     "data": {
      "text/plain": [
       "array([[1., 1.],\n",
       "       [1., 1.]])"
      ]
     },
     "execution_count": 24,
     "metadata": {},
     "output_type": "execute_result"
    }
   ],
   "source": [
    "a"
   ]
  },
  {
   "cell_type": "markdown",
   "id": "45687112",
   "metadata": {},
   "source": [
    "### Combinación de arreglos (Stacking)"
   ]
  },
  {
   "cell_type": "code",
   "execution_count": 25,
   "id": "470f591c",
   "metadata": {
    "execution": {
     "iopub.execute_input": "2021-11-03T02:37:44.220818Z",
     "iopub.status.busy": "2021-11-03T02:37:44.220331Z",
     "iopub.status.idle": "2021-11-03T02:37:44.224004Z",
     "shell.execute_reply": "2021-11-03T02:37:44.223573Z"
    }
   },
   "outputs": [
    {
     "data": {
      "text/plain": [
       "array([0, 1, 2, 3, 4])"
      ]
     },
     "execution_count": 25,
     "metadata": {},
     "output_type": "execute_result"
    }
   ],
   "source": [
    "# Los arreglos se pueden combinar verticalmente (se incrementa la cantidad de filas)\n",
    "\n",
    "a = np.arange(0, 5)\n",
    "a"
   ]
  },
  {
   "cell_type": "code",
   "execution_count": 26,
   "id": "327cf161",
   "metadata": {
    "execution": {
     "iopub.execute_input": "2021-11-03T02:37:44.228456Z",
     "iopub.status.busy": "2021-11-03T02:37:44.227952Z",
     "iopub.status.idle": "2021-11-03T02:37:44.230825Z",
     "shell.execute_reply": "2021-11-03T02:37:44.231219Z"
    }
   },
   "outputs": [
    {
     "data": {
      "text/plain": [
       "array([5, 6, 7, 8, 9])"
      ]
     },
     "execution_count": 26,
     "metadata": {},
     "output_type": "execute_result"
    }
   ],
   "source": [
    "b = np.arange(5, 10)\n",
    "b"
   ]
  },
  {
   "cell_type": "code",
   "execution_count": 27,
   "id": "4265cb11",
   "metadata": {
    "execution": {
     "iopub.execute_input": "2021-11-03T02:37:44.234900Z",
     "iopub.status.busy": "2021-11-03T02:37:44.233867Z",
     "iopub.status.idle": "2021-11-03T02:37:44.237635Z",
     "shell.execute_reply": "2021-11-03T02:37:44.237208Z"
    }
   },
   "outputs": [
    {
     "data": {
      "text/plain": [
       "array([[0, 1, 2, 3, 4],\n",
       "       [5, 6, 7, 8, 9]])"
      ]
     },
     "execution_count": 27,
     "metadata": {},
     "output_type": "execute_result"
    }
   ],
   "source": [
    "combinados_verticalmente = np.vstack((a, b))\n",
    "combinados_verticalmente"
   ]
  },
  {
   "cell_type": "code",
   "execution_count": 28,
   "id": "ea177378",
   "metadata": {
    "execution": {
     "iopub.execute_input": "2021-11-03T02:37:44.240091Z",
     "iopub.status.busy": "2021-11-03T02:37:44.239612Z",
     "iopub.status.idle": "2021-11-03T02:37:44.243446Z",
     "shell.execute_reply": "2021-11-03T02:37:44.243842Z"
    }
   },
   "outputs": [
    {
     "data": {
      "text/plain": [
       "array([0, 1, 2, 3, 4, 5, 6, 7, 8, 9])"
      ]
     },
     "execution_count": 28,
     "metadata": {},
     "output_type": "execute_result"
    }
   ],
   "source": [
    "# También se pueden combinar horizontalmente (se incrementa la cantidad de columnas)\n",
    "\n",
    "combinados_horizontalmente = np.hstack((a, b))\n",
    "combinados_horizontalmente"
   ]
  },
  {
   "cell_type": "markdown",
   "id": "ab9d58ce",
   "metadata": {},
   "source": [
    "### Operaciones matemáticas"
   ]
  },
  {
   "cell_type": "code",
   "execution_count": 29,
   "id": "87792ca1",
   "metadata": {
    "execution": {
     "iopub.execute_input": "2021-11-03T02:37:44.247876Z",
     "iopub.status.busy": "2021-11-03T02:37:44.247398Z",
     "iopub.status.idle": "2021-11-03T02:37:44.251187Z",
     "shell.execute_reply": "2021-11-03T02:37:44.250762Z"
    }
   },
   "outputs": [
    {
     "data": {
      "text/plain": [
       "array([3, 4, 5, 6])"
      ]
     },
     "execution_count": 29,
     "metadata": {},
     "output_type": "execute_result"
    }
   ],
   "source": [
    "a = np.array([1, 2, 3, 4])\n",
    "\n",
    "a + 2"
   ]
  },
  {
   "cell_type": "code",
   "execution_count": 30,
   "id": "6aeb90e3",
   "metadata": {
    "execution": {
     "iopub.execute_input": "2021-11-03T02:37:44.254816Z",
     "iopub.status.busy": "2021-11-03T02:37:44.254285Z",
     "iopub.status.idle": "2021-11-03T02:37:44.256635Z",
     "shell.execute_reply": "2021-11-03T02:37:44.257025Z"
    }
   },
   "outputs": [
    {
     "data": {
      "text/plain": [
       "array([ 1,  4,  9, 16])"
      ]
     },
     "execution_count": 30,
     "metadata": {},
     "output_type": "execute_result"
    }
   ],
   "source": [
    "a ** 2"
   ]
  },
  {
   "cell_type": "code",
   "execution_count": 31,
   "id": "0f54f59d",
   "metadata": {
    "execution": {
     "iopub.execute_input": "2021-11-03T02:37:44.261451Z",
     "iopub.status.busy": "2021-11-03T02:37:44.260970Z",
     "iopub.status.idle": "2021-11-03T02:37:44.265679Z",
     "shell.execute_reply": "2021-11-03T02:37:44.265249Z"
    }
   },
   "outputs": [
    {
     "name": "stdout",
     "output_type": "stream",
     "text": [
      "b: [1. 1. 1. 1.]\n"
     ]
    },
    {
     "data": {
      "text/plain": [
       "array([2., 3., 4., 5.])"
      ]
     },
     "execution_count": 31,
     "metadata": {},
     "output_type": "execute_result"
    }
   ],
   "source": [
    "b = np.ones(4)\n",
    "print(f\"b: {b}\")\n",
    "a + b"
   ]
  },
  {
   "cell_type": "markdown",
   "id": "72698871",
   "metadata": {},
   "source": [
    "### Estadística"
   ]
  },
  {
   "cell_type": "code",
   "execution_count": 32,
   "id": "bf5368a5",
   "metadata": {
    "execution": {
     "iopub.execute_input": "2021-11-03T02:37:44.269837Z",
     "iopub.status.busy": "2021-11-03T02:37:44.269360Z",
     "iopub.status.idle": "2021-11-03T02:37:44.271697Z",
     "shell.execute_reply": "2021-11-03T02:37:44.272090Z"
    }
   },
   "outputs": [
    {
     "data": {
      "text/plain": [
       "1"
      ]
     },
     "execution_count": 32,
     "metadata": {},
     "output_type": "execute_result"
    }
   ],
   "source": [
    "a = np.array([[5, 2, 1, 8], [26, 4, 17, 9]])\n",
    "\n",
    "np.min(a)"
   ]
  },
  {
   "cell_type": "code",
   "execution_count": 33,
   "id": "57da229d",
   "metadata": {
    "execution": {
     "iopub.execute_input": "2021-11-03T02:37:44.275785Z",
     "iopub.status.busy": "2021-11-03T02:37:44.275312Z",
     "iopub.status.idle": "2021-11-03T02:37:44.279254Z",
     "shell.execute_reply": "2021-11-03T02:37:44.278792Z"
    }
   },
   "outputs": [
    {
     "data": {
      "text/plain": [
       "26"
      ]
     },
     "execution_count": 33,
     "metadata": {},
     "output_type": "execute_result"
    }
   ],
   "source": [
    "np.max(a)"
   ]
  },
  {
   "cell_type": "code",
   "execution_count": 34,
   "id": "691e9798",
   "metadata": {
    "execution": {
     "iopub.execute_input": "2021-11-03T02:37:44.283204Z",
     "iopub.status.busy": "2021-11-03T02:37:44.282708Z",
     "iopub.status.idle": "2021-11-03T02:37:44.285019Z",
     "shell.execute_reply": "2021-11-03T02:37:44.285409Z"
    }
   },
   "outputs": [
    {
     "data": {
      "text/plain": [
       "72"
      ]
     },
     "execution_count": 34,
     "metadata": {},
     "output_type": "execute_result"
    }
   ],
   "source": [
    "np.sum(a)"
   ]
  },
  {
   "cell_type": "markdown",
   "id": "fa69604b",
   "metadata": {},
   "source": [
    "### Más magia"
   ]
  },
  {
   "cell_type": "code",
   "execution_count": 35,
   "id": "a534c31a",
   "metadata": {
    "execution": {
     "iopub.execute_input": "2021-11-03T02:37:44.289950Z",
     "iopub.status.busy": "2021-11-03T02:37:44.289453Z",
     "iopub.status.idle": "2021-11-03T02:37:44.291811Z",
     "shell.execute_reply": "2021-11-03T02:37:44.292202Z"
    }
   },
   "outputs": [
    {
     "data": {
      "text/plain": [
       "array([[False, False, False,  True],\n",
       "       [ True, False,  True,  True]])"
      ]
     },
     "execution_count": 35,
     "metadata": {},
     "output_type": "execute_result"
    }
   ],
   "source": [
    "a = np.array([[5, 2, 1, 8], [26, 4, 17, 9]])\n",
    "\n",
    "a > 5"
   ]
  },
  {
   "cell_type": "code",
   "execution_count": 36,
   "id": "90c32879",
   "metadata": {
    "execution": {
     "iopub.execute_input": "2021-11-03T02:37:44.295969Z",
     "iopub.status.busy": "2021-11-03T02:37:44.294881Z",
     "iopub.status.idle": "2021-11-03T02:37:44.297989Z",
     "shell.execute_reply": "2021-11-03T02:37:44.298382Z"
    }
   },
   "outputs": [
    {
     "data": {
      "text/plain": [
       "array([ 8, 26, 17,  9])"
      ]
     },
     "execution_count": 36,
     "metadata": {},
     "output_type": "execute_result"
    }
   ],
   "source": [
    "a[a > 5]"
   ]
  },
  {
   "cell_type": "markdown",
   "id": "117cd043",
   "metadata": {},
   "source": [
    "### Broadcasting"
   ]
  },
  {
   "cell_type": "markdown",
   "id": "f937fc52",
   "metadata": {},
   "source": [
    "Permite realizar operaciones entre dos numpy arrays de distintas dimensiones.\n",
    "Para lograr esto, las dimensiones de los mismos deben ser compatibles. Dos dimensiones son compatibles cuando:\n",
    "1. Son iguales\n",
    "2. Alguna de las dos es 1"
   ]
  },
  {
   "cell_type": "code",
   "execution_count": 37,
   "id": "e78ca5bb",
   "metadata": {
    "execution": {
     "iopub.execute_input": "2021-11-03T02:37:44.302739Z",
     "iopub.status.busy": "2021-11-03T02:37:44.302210Z",
     "iopub.status.idle": "2021-11-03T02:37:44.304558Z",
     "shell.execute_reply": "2021-11-03T02:37:44.304949Z"
    }
   },
   "outputs": [
    {
     "data": {
      "text/plain": [
       "array([[ 5,  2,  1,  8],\n",
       "       [26,  4, 17,  9]])"
      ]
     },
     "execution_count": 37,
     "metadata": {},
     "output_type": "execute_result"
    }
   ],
   "source": [
    "a = np.array([[5, 2, 1, 8], [26, 4, 17, 9]])\n",
    "a"
   ]
  },
  {
   "cell_type": "code",
   "execution_count": 38,
   "id": "aeeb743b",
   "metadata": {
    "execution": {
     "iopub.execute_input": "2021-11-03T02:37:44.309179Z",
     "iopub.status.busy": "2021-11-03T02:37:44.308606Z",
     "iopub.status.idle": "2021-11-03T02:37:44.311791Z",
     "shell.execute_reply": "2021-11-03T02:37:44.311364Z"
    }
   },
   "outputs": [
    {
     "name": "stdout",
     "output_type": "stream",
     "text": [
      "a: (2, 4)\n",
      "b: (4,)\n",
      "\n",
      "a + b:\n",
      " [[10  4  2 16]\n",
      " [31  6 18 17]]\n"
     ]
    }
   ],
   "source": [
    "# Armamos un array que tenga la misma cantidad de columnas que a\n",
    "b = np.array([5, 2, 1, 8])\n",
    "print(f\"a: {a.shape}\")\n",
    "print(f\"b: {b.shape}\")\n",
    "# a + b\n",
    "print()\n",
    "print(f\"a + b:\\n {a + b}\")"
   ]
  },
  {
   "cell_type": "code",
   "execution_count": 39,
   "id": "aad056c3",
   "metadata": {
    "execution": {
     "iopub.execute_input": "2021-11-03T02:37:44.315232Z",
     "iopub.status.busy": "2021-11-03T02:37:44.314755Z",
     "iopub.status.idle": "2021-11-03T02:37:44.387323Z",
     "shell.execute_reply": "2021-11-03T02:37:44.387745Z"
    },
    "tags": [
     "raises-exception"
    ]
   },
   "outputs": [
    {
     "name": "stdout",
     "output_type": "stream",
     "text": [
      "a: (2, 4)\n",
      "b: (3,)\n"
     ]
    },
    {
     "ename": "ValueError",
     "evalue": "operands could not be broadcast together with shapes (2,4) (3,) ",
     "output_type": "error",
     "traceback": [
      "\u001b[0;31m---------------------------------------------------------------------------\u001b[0m",
      "\u001b[0;31mValueError\u001b[0m                                Traceback (most recent call last)",
      "\u001b[0;32m/tmp/ipykernel_2481/261865458.py\u001b[0m in \u001b[0;36m<module>\u001b[0;34m\u001b[0m\n\u001b[1;32m      3\u001b[0m \u001b[0mprint\u001b[0m\u001b[0;34m(\u001b[0m\u001b[0;34mf\"a: {a.shape}\"\u001b[0m\u001b[0;34m)\u001b[0m\u001b[0;34m\u001b[0m\u001b[0;34m\u001b[0m\u001b[0m\n\u001b[1;32m      4\u001b[0m \u001b[0mprint\u001b[0m\u001b[0;34m(\u001b[0m\u001b[0;34mf\"b: {b.shape}\"\u001b[0m\u001b[0;34m)\u001b[0m\u001b[0;34m\u001b[0m\u001b[0;34m\u001b[0m\u001b[0m\n\u001b[0;32m----> 5\u001b[0;31m \u001b[0ma\u001b[0m \u001b[0;34m+\u001b[0m \u001b[0mb\u001b[0m\u001b[0;34m\u001b[0m\u001b[0;34m\u001b[0m\u001b[0m\n\u001b[0m",
      "\u001b[0;31mValueError\u001b[0m: operands could not be broadcast together with shapes (2,4) (3,) "
     ]
    }
   ],
   "source": [
    "# Armamos un array que tenga distinta cantidad de filas y columnas que a\n",
    "b = np.array([5, 1, 8])\n",
    "print(f\"a: {a.shape}\")\n",
    "print(f\"b: {b.shape}\")\n",
    "a + b"
   ]
  },
  {
   "cell_type": "code",
   "execution_count": 40,
   "id": "d84fa053",
   "metadata": {
    "execution": {
     "iopub.execute_input": "2021-11-03T02:37:44.394174Z",
     "iopub.status.busy": "2021-11-03T02:37:44.393658Z",
     "iopub.status.idle": "2021-11-03T02:37:44.397890Z",
     "shell.execute_reply": "2021-11-03T02:37:44.397447Z"
    }
   },
   "outputs": [
    {
     "name": "stdout",
     "output_type": "stream",
     "text": [
      "a: (2, 4)\n",
      "b: (2, 1)\n"
     ]
    },
    {
     "data": {
      "text/plain": [
       "array([[ 7,  4,  3, 10],\n",
       "       [27,  5, 18, 10]])"
      ]
     },
     "execution_count": 40,
     "metadata": {},
     "output_type": "execute_result"
    }
   ],
   "source": [
    "# Armamos un array que tenga la misma cantidad de filas que a\n",
    "b = np.array([[2], [1]])\n",
    "print(f\"a: {a.shape}\")\n",
    "print(f\"b: {b.shape}\")\n",
    "a + b"
   ]
  },
  {
   "cell_type": "code",
   "execution_count": 41,
   "id": "665664da",
   "metadata": {
    "execution": {
     "iopub.execute_input": "2021-11-03T02:37:44.403232Z",
     "iopub.status.busy": "2021-11-03T02:37:44.402343Z",
     "iopub.status.idle": "2021-11-03T02:37:44.405671Z",
     "shell.execute_reply": "2021-11-03T02:37:44.405250Z"
    }
   },
   "outputs": [
    {
     "data": {
      "text/plain": [
       "array([[ 9,  6,  5, 12],\n",
       "       [30,  8, 21, 13]])"
      ]
     },
     "execution_count": 41,
     "metadata": {},
     "output_type": "execute_result"
    }
   ],
   "source": [
    "# Si b es un entero\n",
    "b = 4\n",
    "a + b"
   ]
  },
  {
   "cell_type": "code",
   "execution_count": null,
   "id": "369418c0",
   "metadata": {},
   "outputs": [],
   "source": []
  }
 ],
 "metadata": {
  "jupytext": {
   "encoding": "# -*- coding: utf-8 -*-",
   "formats": "ipynb,py:light"
  },
  "kernelspec": {
   "display_name": "Python 3",
   "language": "python",
   "name": "python3"
  },
  "language_info": {
   "codemirror_mode": {
    "name": "ipython",
    "version": 3
   },
   "file_extension": ".py",
   "mimetype": "text/x-python",
   "name": "python",
   "nbconvert_exporter": "python",
   "pygments_lexer": "ipython3",
   "version": "3.7.12"
  }
 },
 "nbformat": 4,
 "nbformat_minor": 5
}
