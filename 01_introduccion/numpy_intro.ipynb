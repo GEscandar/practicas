{
 "cells": [
  {
   "cell_type": "markdown",
   "id": "149d1335",
   "metadata": {},
   "source": [
    "## Clase 1 - Introducción a Numpy\n",
    "\n",
    "Numpy es una biblioteca para Python que facilita el manejo de arreglos multidimensionales y ofrece varias herramientas para trabajar con ellos. Muchas de las bibliotecas de Python que son ampliamente usadas hoy en día, como pandas, están construidas sobre numpy.\n",
    "\n",
    "### Listas de Python vs arreglos de Numpy\n",
    "\n",
    "A primera vista, un arreglo de numpy puede resultar idéntico a una lista de python, pero a medida que la cantidad de datos comienza a incrementar, los arreglos de numpy terminan ofreciendo un manejo más eficiente de la memoria.\n",
    "\n",
    "Para comenzar, vamos a crear un arreglo de numpy:"
   ]
  },
  {
   "cell_type": "code",
   "execution_count": 1,
   "id": "1d500330",
   "metadata": {
    "execution": {
     "iopub.execute_input": "2021-04-13T03:39:01.904589Z",
     "iopub.status.busy": "2021-04-13T03:39:01.903758Z",
     "iopub.status.idle": "2021-04-13T03:39:02.093487Z",
     "shell.execute_reply": "2021-04-13T03:39:02.092869Z"
    }
   },
   "outputs": [
    {
     "data": {
      "text/plain": [
       "array([1, 2, 3, 4])"
      ]
     },
     "execution_count": 1,
     "metadata": {},
     "output_type": "execute_result"
    }
   ],
   "source": [
    "import numpy as np\n",
    "\n",
    "np.array([1, 2, 3, 4])"
   ]
  },
  {
   "cell_type": "markdown",
   "id": "983f68ef",
   "metadata": {},
   "source": [
    "Los arreglos pueden ser también multidimensionales:"
   ]
  },
  {
   "cell_type": "code",
   "execution_count": 2,
   "id": "965a0788",
   "metadata": {
    "execution": {
     "iopub.execute_input": "2021-04-13T03:39:02.098579Z",
     "iopub.status.busy": "2021-04-13T03:39:02.097990Z",
     "iopub.status.idle": "2021-04-13T03:39:02.102864Z",
     "shell.execute_reply": "2021-04-13T03:39:02.102384Z"
    }
   },
   "outputs": [
    {
     "data": {
      "text/plain": [
       "array([[1, 2, 3, 4],\n",
       "       [5, 6, 7, 8]])"
      ]
     },
     "execution_count": 1,
     "metadata": {},
     "output_type": "execute_result"
    }
   ],
   "source": [
    "np.array([[1, 2, 3, 4], [5, 6, 7, 8]])"
   ]
  },
  {
   "cell_type": "markdown",
   "id": "f4436ca4",
   "metadata": {},
   "source": [
    "Es importante tener en cuenta que un arreglo de numpy tiene un tipo fijo de datos, entonces si se quiere agregar un dato de un tipo diferente al de la mayoría, este va a ser modificado para adaptarse al resto"
   ]
  },
  {
   "cell_type": "code",
   "execution_count": 3,
   "id": "55233434",
   "metadata": {
    "execution": {
     "iopub.execute_input": "2021-04-13T03:39:02.107947Z",
     "iopub.status.busy": "2021-04-13T03:39:02.106493Z",
     "iopub.status.idle": "2021-04-13T03:39:02.108621Z",
     "shell.execute_reply": "2021-04-13T03:39:02.109125Z"
    }
   },
   "outputs": [],
   "source": [
    "enteros = np.array([1, 2, 3, 4])"
   ]
  },
  {
   "cell_type": "markdown",
   "id": "c5e7848c",
   "metadata": {},
   "source": [
    "Agrego un elemento de tipo flotante en la posición 1"
   ]
  },
  {
   "cell_type": "code",
   "execution_count": 4,
   "id": "0cb7e3ba",
   "metadata": {
    "execution": {
     "iopub.execute_input": "2021-04-13T03:39:02.114420Z",
     "iopub.status.busy": "2021-04-13T03:39:02.113562Z",
     "iopub.status.idle": "2021-04-13T03:39:02.116743Z",
     "shell.execute_reply": "2021-04-13T03:39:02.117251Z"
    }
   },
   "outputs": [
    {
     "data": {
      "text/plain": [
       "array([1, 8, 3, 4])"
      ]
     },
     "execution_count": 1,
     "metadata": {},
     "output_type": "execute_result"
    }
   ],
   "source": [
    "enteros[1] = 8.4727\n",
    "enteros"
   ]
  },
  {
   "cell_type": "markdown",
   "id": "77519381",
   "metadata": {},
   "source": [
    "Numpy también nos permite crear arreglos con valores aleatorios del 0 al 1.\n",
    "Basta con pasarle las dimensiones del arreglo que queremos crear."
   ]
  },
  {
   "cell_type": "code",
   "execution_count": 5,
   "id": "28b4f806",
   "metadata": {
    "execution": {
     "iopub.execute_input": "2021-04-13T03:39:02.123226Z",
     "iopub.status.busy": "2021-04-13T03:39:02.122386Z",
     "iopub.status.idle": "2021-04-13T03:39:02.125554Z",
     "shell.execute_reply": "2021-04-13T03:39:02.126062Z"
    }
   },
   "outputs": [
    {
     "data": {
      "text/plain": [
       "array([[0.05408549, 0.70157863, 0.08662304],\n",
       "       [0.7704023 , 0.72795082, 0.89090855]])"
      ]
     },
     "execution_count": 1,
     "metadata": {},
     "output_type": "execute_result"
    }
   ],
   "source": [
    "np.random.rand(2, 3)"
   ]
  },
  {
   "cell_type": "markdown",
   "id": "843a5b78",
   "metadata": {},
   "source": [
    "## Slicing\n",
    "\n",
    "De la misma forma que con las listas de python, pueden obtenerse slices de los arreglos de numpy"
   ]
  },
  {
   "cell_type": "code",
   "execution_count": 6,
   "id": "ff8a399a",
   "metadata": {
    "execution": {
     "iopub.execute_input": "2021-04-13T03:39:02.131485Z",
     "iopub.status.busy": "2021-04-13T03:39:02.130636Z",
     "iopub.status.idle": "2021-04-13T03:39:02.133625Z",
     "shell.execute_reply": "2021-04-13T03:39:02.134151Z"
    },
    "lines_to_next_cell": 2
   },
   "outputs": [
    {
     "data": {
      "text/plain": [
       "array([1, 8])"
      ]
     },
     "execution_count": 1,
     "metadata": {},
     "output_type": "execute_result"
    }
   ],
   "source": [
    "enteros[:2]"
   ]
  },
  {
   "cell_type": "code",
   "execution_count": 7,
   "id": "34690476",
   "metadata": {
    "execution": {
     "iopub.execute_input": "2021-04-13T03:39:02.141660Z",
     "iopub.status.busy": "2021-04-13T03:39:02.140251Z",
     "iopub.status.idle": "2021-04-13T03:39:02.143746Z",
     "shell.execute_reply": "2021-04-13T03:39:02.143179Z"
    }
   },
   "outputs": [
    {
     "name": "stdout",
     "output_type": "stream",
     "text": [
      "Original: \n",
      "[[ 1  2  3  4]\n",
      " [ 5  6  7  8]\n",
      " [ 9 10 11 12]]\n",
      "\n",
      "Recortada: \n",
      "[[1 2 3]\n",
      " [5 6 7]]\n"
     ]
    }
   ],
   "source": [
    "matriz_de_enteros = np.array([[1, 2, 3, 4], [5, 6, 7, 8], [9, 10, 11, 12]])\n",
    "\n",
    "print('Original: ')\n",
    "print(matriz_de_enteros)\n",
    "\n",
    "print()\n",
    "\n",
    "print('Recortada: ')\n",
    "print(matriz_de_enteros[:2, :3])"
   ]
  },
  {
   "cell_type": "code",
   "execution_count": 8,
   "id": "1d2dbb88",
   "metadata": {
    "execution": {
     "iopub.execute_input": "2021-04-13T03:39:02.149224Z",
     "iopub.status.busy": "2021-04-13T03:39:02.148598Z",
     "iopub.status.idle": "2021-04-13T03:39:02.151530Z",
     "shell.execute_reply": "2021-04-13T03:39:02.152040Z"
    }
   },
   "outputs": [
    {
     "data": {
      "text/plain": [
       "array([[[ 0,  1,  2,  3,  4],\n",
       "        [ 5,  6,  7,  8,  9],\n",
       "        [10, 11, 12, 13, 14]],\n",
       "\n",
       "       [[15, 16, 17, 18, 19],\n",
       "        [20, 21, 22, 23, 24],\n",
       "        [25, 26, 27, 28, 29]],\n",
       "\n",
       "       [[30, 31, 32, 33, 34],\n",
       "        [35, 36, 37, 38, 39],\n",
       "        [40, 41, 42, 43, 44]]])"
      ]
     },
     "execution_count": 1,
     "metadata": {},
     "output_type": "execute_result"
    }
   ],
   "source": [
    "# 3D\n",
    "# arange() genera valores de un intervalo pasado por parámetro\n",
    "# reshape() modifica la forma del numpy array\n",
    "\n",
    "x = np.arange(45).reshape(3, 3, 5)\n",
    "x"
   ]
  },
  {
   "cell_type": "code",
   "execution_count": 9,
   "id": "95b7bc1a",
   "metadata": {
    "execution": {
     "iopub.execute_input": "2021-04-13T03:39:02.157283Z",
     "iopub.status.busy": "2021-04-13T03:39:02.156403Z",
     "iopub.status.idle": "2021-04-13T03:39:02.159289Z",
     "shell.execute_reply": "2021-04-13T03:39:02.159793Z"
    }
   },
   "outputs": [
    {
     "data": {
      "text/plain": [
       "array([[ 0,  1,  2,  3,  4],\n",
       "       [ 5,  6,  7,  8,  9],\n",
       "       [10, 11, 12, 13, 14]])"
      ]
     },
     "execution_count": 1,
     "metadata": {},
     "output_type": "execute_result"
    }
   ],
   "source": [
    "x[0]"
   ]
  },
  {
   "cell_type": "code",
   "execution_count": 10,
   "id": "b389ca00",
   "metadata": {
    "execution": {
     "iopub.execute_input": "2021-04-13T03:39:02.164687Z",
     "iopub.status.busy": "2021-04-13T03:39:02.164072Z",
     "iopub.status.idle": "2021-04-13T03:39:02.166916Z",
     "shell.execute_reply": "2021-04-13T03:39:02.167411Z"
    }
   },
   "outputs": [
    {
     "data": {
      "text/plain": [
       "array([5, 6, 7, 8, 9])"
      ]
     },
     "execution_count": 1,
     "metadata": {},
     "output_type": "execute_result"
    }
   ],
   "source": [
    "x[0][1]"
   ]
  },
  {
   "cell_type": "code",
   "execution_count": 11,
   "id": "2f81e052",
   "metadata": {
    "execution": {
     "iopub.execute_input": "2021-04-13T03:39:02.172184Z",
     "iopub.status.busy": "2021-04-13T03:39:02.171555Z",
     "iopub.status.idle": "2021-04-13T03:39:02.173725Z",
     "shell.execute_reply": "2021-04-13T03:39:02.174196Z"
    }
   },
   "outputs": [
    {
     "data": {
      "text/plain": [
       "7"
      ]
     },
     "execution_count": 1,
     "metadata": {},
     "output_type": "execute_result"
    }
   ],
   "source": [
    "x[0][1][2]"
   ]
  },
  {
   "cell_type": "markdown",
   "id": "688c4500",
   "metadata": {},
   "source": [
    "\n",
    "¿Cómo conseguimos estos valores? ([fuente](https://towardsdatascience.com/indexing-and-slicing-of-1d-2d-and-3d-arrays-in-numpy-e731afff0bbe))\n",
    "\n",
    "![title](img/matrix.png)"
   ]
  },
  {
   "cell_type": "code",
   "execution_count": 12,
   "id": "03e0bf9a",
   "metadata": {
    "execution": {
     "iopub.execute_input": "2021-04-13T03:39:02.180737Z",
     "iopub.status.busy": "2021-04-13T03:39:02.179243Z",
     "iopub.status.idle": "2021-04-13T03:39:02.182317Z",
     "shell.execute_reply": "2021-04-13T03:39:02.182875Z"
    }
   },
   "outputs": [
    {
     "data": {
      "text/plain": [
       "array([[[16, 17, 18],\n",
       "        [21, 22, 23]],\n",
       "\n",
       "       [[31, 32, 33],\n",
       "        [36, 37, 38]]])"
      ]
     },
     "execution_count": 1,
     "metadata": {},
     "output_type": "execute_result"
    }
   ],
   "source": [
    "x[1:, 0:2, 1:4]"
   ]
  },
  {
   "cell_type": "markdown",
   "id": "6d5a3d65",
   "metadata": {},
   "source": [
    "### Copia de arreglos"
   ]
  },
  {
   "cell_type": "code",
   "execution_count": 13,
   "id": "8c2d189e",
   "metadata": {
    "execution": {
     "iopub.execute_input": "2021-04-13T03:39:02.187408Z",
     "iopub.status.busy": "2021-04-13T03:39:02.186813Z",
     "iopub.status.idle": "2021-04-13T03:39:02.189820Z",
     "shell.execute_reply": "2021-04-13T03:39:02.190384Z"
    }
   },
   "outputs": [
    {
     "data": {
      "text/plain": [
       "array([1, 2, 3, 4])"
      ]
     },
     "execution_count": 1,
     "metadata": {},
     "output_type": "execute_result"
    }
   ],
   "source": [
    "# Los arreglos no se copian con asignación\n",
    "\n",
    "a = np.array([1, 2, 3, 4])\n",
    "b = a\n",
    "b"
   ]
  },
  {
   "cell_type": "code",
   "execution_count": 14,
   "id": "dd9f42f6",
   "metadata": {
    "execution": {
     "iopub.execute_input": "2021-04-13T03:39:02.194843Z",
     "iopub.status.busy": "2021-04-13T03:39:02.194229Z",
     "iopub.status.idle": "2021-04-13T03:39:02.197687Z",
     "shell.execute_reply": "2021-04-13T03:39:02.197161Z"
    }
   },
   "outputs": [
    {
     "data": {
      "text/plain": [
       "array([ 1, 20,  3,  4])"
      ]
     },
     "execution_count": 1,
     "metadata": {},
     "output_type": "execute_result"
    }
   ],
   "source": [
    "b[1] = 20\n",
    "b"
   ]
  },
  {
   "cell_type": "code",
   "execution_count": 15,
   "id": "5422268b",
   "metadata": {
    "execution": {
     "iopub.execute_input": "2021-04-13T03:39:02.202664Z",
     "iopub.status.busy": "2021-04-13T03:39:02.202032Z",
     "iopub.status.idle": "2021-04-13T03:39:02.204205Z",
     "shell.execute_reply": "2021-04-13T03:39:02.204681Z"
    }
   },
   "outputs": [
    {
     "data": {
      "text/plain": [
       "array([ 1, 20,  3,  4])"
      ]
     },
     "execution_count": 1,
     "metadata": {},
     "output_type": "execute_result"
    }
   ],
   "source": [
    "a"
   ]
  },
  {
   "cell_type": "code",
   "execution_count": 16,
   "id": "212e072f",
   "metadata": {
    "execution": {
     "iopub.execute_input": "2021-04-13T03:39:02.209485Z",
     "iopub.status.busy": "2021-04-13T03:39:02.208875Z",
     "iopub.status.idle": "2021-04-13T03:39:02.211820Z",
     "shell.execute_reply": "2021-04-13T03:39:02.212244Z"
    }
   },
   "outputs": [
    {
     "data": {
      "text/plain": [
       "array([ 1, 20,  3,  4])"
      ]
     },
     "execution_count": 1,
     "metadata": {},
     "output_type": "execute_result"
    }
   ],
   "source": [
    "# Para copiar un arreglo a otra variable debemos usar copy()\n",
    "\n",
    "a = np.array([1, 2, 3, 4])\n",
    "b = a.copy()\n",
    "b[1] = 20\n",
    "b"
   ]
  },
  {
   "cell_type": "code",
   "execution_count": 17,
   "id": "9b29f977",
   "metadata": {
    "execution": {
     "iopub.execute_input": "2021-04-13T03:39:02.216161Z",
     "iopub.status.busy": "2021-04-13T03:39:02.215530Z",
     "iopub.status.idle": "2021-04-13T03:39:02.219088Z",
     "shell.execute_reply": "2021-04-13T03:39:02.218541Z"
    }
   },
   "outputs": [
    {
     "data": {
      "text/plain": [
       "array([1, 2, 3, 4])"
      ]
     },
     "execution_count": 1,
     "metadata": {},
     "output_type": "execute_result"
    }
   ],
   "source": [
    "a"
   ]
  },
  {
   "cell_type": "markdown",
   "id": "2bee0693",
   "metadata": {},
   "source": [
    "### Modificación de dimensiones"
   ]
  },
  {
   "cell_type": "markdown",
   "id": "a83f2512",
   "metadata": {},
   "source": [
    "Existen varias operaciones para cambiar la forma de un arreglo de numpy"
   ]
  },
  {
   "cell_type": "code",
   "execution_count": 18,
   "id": "8131cd52",
   "metadata": {
    "execution": {
     "iopub.execute_input": "2021-04-13T03:39:02.223294Z",
     "iopub.status.busy": "2021-04-13T03:39:02.222711Z",
     "iopub.status.idle": "2021-04-13T03:39:02.226562Z",
     "shell.execute_reply": "2021-04-13T03:39:02.227083Z"
    }
   },
   "outputs": [
    {
     "data": {
      "text/plain": [
       "array([[ 1,  2,  3,  4],\n",
       "       [ 5,  6,  7,  8],\n",
       "       [ 9, 10, 11, 12]])"
      ]
     },
     "execution_count": 1,
     "metadata": {},
     "output_type": "execute_result"
    }
   ],
   "source": [
    "matriz_de_enteros"
   ]
  },
  {
   "cell_type": "code",
   "execution_count": 19,
   "id": "a61289f7",
   "metadata": {
    "execution": {
     "iopub.execute_input": "2021-04-13T03:39:02.231091Z",
     "iopub.status.busy": "2021-04-13T03:39:02.230484Z",
     "iopub.status.idle": "2021-04-13T03:39:02.233915Z",
     "shell.execute_reply": "2021-04-13T03:39:02.233375Z"
    }
   },
   "outputs": [
    {
     "data": {
      "text/plain": [
       "2"
      ]
     },
     "execution_count": 1,
     "metadata": {},
     "output_type": "execute_result"
    }
   ],
   "source": [
    "# Obtener las dimensiones del arreglo\n",
    "\n",
    "matriz_de_enteros.ndim"
   ]
  },
  {
   "cell_type": "code",
   "execution_count": 20,
   "id": "31bb28df",
   "metadata": {
    "execution": {
     "iopub.execute_input": "2021-04-13T03:39:02.237764Z",
     "iopub.status.busy": "2021-04-13T03:39:02.237171Z",
     "iopub.status.idle": "2021-04-13T03:39:02.240601Z",
     "shell.execute_reply": "2021-04-13T03:39:02.240089Z"
    }
   },
   "outputs": [
    {
     "data": {
      "text/plain": [
       "(3, 4)"
      ]
     },
     "execution_count": 1,
     "metadata": {},
     "output_type": "execute_result"
    }
   ],
   "source": [
    "# Obtener la forma del arreglo\n",
    "\n",
    "matriz_de_enteros.shape"
   ]
  },
  {
   "cell_type": "code",
   "execution_count": 21,
   "id": "c0b09876",
   "metadata": {
    "execution": {
     "iopub.execute_input": "2021-04-13T03:39:02.246133Z",
     "iopub.status.busy": "2021-04-13T03:39:02.245522Z",
     "iopub.status.idle": "2021-04-13T03:39:02.248417Z",
     "shell.execute_reply": "2021-04-13T03:39:02.249010Z"
    }
   },
   "outputs": [
    {
     "name": "stdout",
     "output_type": "stream",
     "text": [
      "enteros: [ 3  6  9 12]\n"
     ]
    },
    {
     "data": {
      "text/plain": [
       "array([[ 3,  6],\n",
       "       [ 9, 12]])"
      ]
     },
     "execution_count": 1,
     "metadata": {},
     "output_type": "execute_result"
    }
   ],
   "source": [
    "# Modificar la forma de un arreglo\n",
    "\n",
    "enteros = np.array([3, 6, 9, 12])\n",
    "print(f\"enteros: {enteros}\")\n",
    "np.reshape(enteros, (2, 2))"
   ]
  },
  {
   "cell_type": "code",
   "execution_count": 22,
   "id": "ec75dc0a",
   "metadata": {
    "execution": {
     "iopub.execute_input": "2021-04-13T03:39:02.254097Z",
     "iopub.status.busy": "2021-04-13T03:39:02.253468Z",
     "iopub.status.idle": "2021-04-13T03:39:02.255590Z",
     "shell.execute_reply": "2021-04-13T03:39:02.256244Z"
    }
   },
   "outputs": [
    {
     "data": {
      "text/plain": [
       "array([[1., 1.],\n",
       "       [1., 1.]])"
      ]
     },
     "execution_count": 1,
     "metadata": {},
     "output_type": "execute_result"
    }
   ],
   "source": [
    "# Aplanar un arreglo\n",
    "\n",
    "a = np.ones((2, 2))\n",
    "a"
   ]
  },
  {
   "cell_type": "code",
   "execution_count": 23,
   "id": "66f0f52a",
   "metadata": {
    "execution": {
     "iopub.execute_input": "2021-04-13T03:39:02.261190Z",
     "iopub.status.busy": "2021-04-13T03:39:02.260535Z",
     "iopub.status.idle": "2021-04-13T03:39:02.264010Z",
     "shell.execute_reply": "2021-04-13T03:39:02.263415Z"
    }
   },
   "outputs": [
    {
     "data": {
      "text/plain": [
       "array([1., 1., 1., 1.])"
      ]
     },
     "execution_count": 1,
     "metadata": {},
     "output_type": "execute_result"
    }
   ],
   "source": [
    "a.flatten()"
   ]
  },
  {
   "cell_type": "code",
   "execution_count": 24,
   "id": "23f8e262",
   "metadata": {
    "execution": {
     "iopub.execute_input": "2021-04-13T03:39:02.268347Z",
     "iopub.status.busy": "2021-04-13T03:39:02.267776Z",
     "iopub.status.idle": "2021-04-13T03:39:02.271138Z",
     "shell.execute_reply": "2021-04-13T03:39:02.270619Z"
    },
    "lines_to_next_cell": 2
   },
   "outputs": [
    {
     "data": {
      "text/plain": [
       "array([[1., 1.],\n",
       "       [1., 1.]])"
      ]
     },
     "execution_count": 1,
     "metadata": {},
     "output_type": "execute_result"
    }
   ],
   "source": [
    "a"
   ]
  },
  {
   "cell_type": "markdown",
   "id": "06dc4330",
   "metadata": {},
   "source": [
    "### Combinación de arreglos (Stacking)"
   ]
  },
  {
   "cell_type": "code",
   "execution_count": 25,
   "id": "d0e39c23",
   "metadata": {
    "execution": {
     "iopub.execute_input": "2021-04-13T03:39:02.276026Z",
     "iopub.status.busy": "2021-04-13T03:39:02.275400Z",
     "iopub.status.idle": "2021-04-13T03:39:02.278843Z",
     "shell.execute_reply": "2021-04-13T03:39:02.278225Z"
    }
   },
   "outputs": [
    {
     "data": {
      "text/plain": [
       "array([0, 1, 2, 3, 4])"
      ]
     },
     "execution_count": 1,
     "metadata": {},
     "output_type": "execute_result"
    }
   ],
   "source": [
    "# Los arreglos se pueden combinar verticalmente (se incrementa la cantidad de filas)\n",
    "\n",
    "a = np.arange(0, 5)\n",
    "a"
   ]
  },
  {
   "cell_type": "code",
   "execution_count": 26,
   "id": "f5411c81",
   "metadata": {
    "execution": {
     "iopub.execute_input": "2021-04-13T03:39:02.283033Z",
     "iopub.status.busy": "2021-04-13T03:39:02.282424Z",
     "iopub.status.idle": "2021-04-13T03:39:02.286027Z",
     "shell.execute_reply": "2021-04-13T03:39:02.285514Z"
    }
   },
   "outputs": [
    {
     "data": {
      "text/plain": [
       "array([5, 6, 7, 8, 9])"
      ]
     },
     "execution_count": 1,
     "metadata": {},
     "output_type": "execute_result"
    }
   ],
   "source": [
    "b = np.arange(5, 10)\n",
    "b"
   ]
  },
  {
   "cell_type": "code",
   "execution_count": 27,
   "id": "27abde05",
   "metadata": {
    "execution": {
     "iopub.execute_input": "2021-04-13T03:39:02.291227Z",
     "iopub.status.busy": "2021-04-13T03:39:02.290589Z",
     "iopub.status.idle": "2021-04-13T03:39:02.292772Z",
     "shell.execute_reply": "2021-04-13T03:39:02.293287Z"
    }
   },
   "outputs": [
    {
     "data": {
      "text/plain": [
       "array([[0, 1, 2, 3, 4],\n",
       "       [5, 6, 7, 8, 9]])"
      ]
     },
     "execution_count": 1,
     "metadata": {},
     "output_type": "execute_result"
    }
   ],
   "source": [
    "combinados_verticalmente = np.vstack((a, b))\n",
    "combinados_verticalmente"
   ]
  },
  {
   "cell_type": "code",
   "execution_count": 28,
   "id": "2c05042f",
   "metadata": {
    "execution": {
     "iopub.execute_input": "2021-04-13T03:39:02.297984Z",
     "iopub.status.busy": "2021-04-13T03:39:02.297357Z",
     "iopub.status.idle": "2021-04-13T03:39:02.300568Z",
     "shell.execute_reply": "2021-04-13T03:39:02.300063Z"
    }
   },
   "outputs": [
    {
     "data": {
      "text/plain": [
       "array([0, 1, 2, 3, 4, 5, 6, 7, 8, 9])"
      ]
     },
     "execution_count": 1,
     "metadata": {},
     "output_type": "execute_result"
    }
   ],
   "source": [
    "# También se pueden combinar horizontalmente (se incrementa la cantidad de columnas)\n",
    "\n",
    "combinados_horizontalmente = np.hstack((a, b))\n",
    "combinados_horizontalmente"
   ]
  },
  {
   "cell_type": "markdown",
   "id": "c3458b3f",
   "metadata": {},
   "source": [
    "### Operaciones matemáticas"
   ]
  },
  {
   "cell_type": "code",
   "execution_count": 29,
   "id": "349db1cc",
   "metadata": {
    "execution": {
     "iopub.execute_input": "2021-04-13T03:39:02.306115Z",
     "iopub.status.busy": "2021-04-13T03:39:02.305462Z",
     "iopub.status.idle": "2021-04-13T03:39:02.307675Z",
     "shell.execute_reply": "2021-04-13T03:39:02.308187Z"
    }
   },
   "outputs": [
    {
     "data": {
      "text/plain": [
       "array([3, 4, 5, 6])"
      ]
     },
     "execution_count": 1,
     "metadata": {},
     "output_type": "execute_result"
    }
   ],
   "source": [
    "a = np.array([1, 2, 3, 4])\n",
    "\n",
    "a + 2"
   ]
  },
  {
   "cell_type": "code",
   "execution_count": 30,
   "id": "b7aa8c6d",
   "metadata": {
    "execution": {
     "iopub.execute_input": "2021-04-13T03:39:02.312305Z",
     "iopub.status.busy": "2021-04-13T03:39:02.311689Z",
     "iopub.status.idle": "2021-04-13T03:39:02.314543Z",
     "shell.execute_reply": "2021-04-13T03:39:02.315009Z"
    }
   },
   "outputs": [
    {
     "data": {
      "text/plain": [
       "array([ 1,  4,  9, 16])"
      ]
     },
     "execution_count": 1,
     "metadata": {},
     "output_type": "execute_result"
    }
   ],
   "source": [
    "a ** 2"
   ]
  },
  {
   "cell_type": "code",
   "execution_count": 31,
   "id": "52d3291a",
   "metadata": {
    "execution": {
     "iopub.execute_input": "2021-04-13T03:39:02.320354Z",
     "iopub.status.busy": "2021-04-13T03:39:02.319643Z",
     "iopub.status.idle": "2021-04-13T03:39:02.322663Z",
     "shell.execute_reply": "2021-04-13T03:39:02.323171Z"
    }
   },
   "outputs": [
    {
     "name": "stdout",
     "output_type": "stream",
     "text": [
      "b: [1. 1. 1. 1.]\n"
     ]
    },
    {
     "data": {
      "text/plain": [
       "array([2., 3., 4., 5.])"
      ]
     },
     "execution_count": 1,
     "metadata": {},
     "output_type": "execute_result"
    }
   ],
   "source": [
    "b = np.ones(4)\n",
    "print(f\"b: {b}\")\n",
    "a + b"
   ]
  },
  {
   "cell_type": "markdown",
   "id": "56e63a4a",
   "metadata": {},
   "source": [
    "### Estadística"
   ]
  },
  {
   "cell_type": "code",
   "execution_count": 32,
   "id": "d3c3240f",
   "metadata": {
    "execution": {
     "iopub.execute_input": "2021-04-13T03:39:02.327699Z",
     "iopub.status.busy": "2021-04-13T03:39:02.327057Z",
     "iopub.status.idle": "2021-04-13T03:39:02.330780Z",
     "shell.execute_reply": "2021-04-13T03:39:02.330240Z"
    }
   },
   "outputs": [
    {
     "data": {
      "text/plain": [
       "1"
      ]
     },
     "execution_count": 1,
     "metadata": {},
     "output_type": "execute_result"
    }
   ],
   "source": [
    "a = np.array([[5, 2, 1, 8], [26, 4, 17, 9]])\n",
    "\n",
    "np.min(a)"
   ]
  },
  {
   "cell_type": "code",
   "execution_count": 33,
   "id": "f3b8686e",
   "metadata": {
    "execution": {
     "iopub.execute_input": "2021-04-13T03:39:02.335766Z",
     "iopub.status.busy": "2021-04-13T03:39:02.334520Z",
     "iopub.status.idle": "2021-04-13T03:39:02.337451Z",
     "shell.execute_reply": "2021-04-13T03:39:02.337988Z"
    }
   },
   "outputs": [
    {
     "data": {
      "text/plain": [
       "26"
      ]
     },
     "execution_count": 1,
     "metadata": {},
     "output_type": "execute_result"
    }
   ],
   "source": [
    "np.max(a)"
   ]
  },
  {
   "cell_type": "code",
   "execution_count": 34,
   "id": "72cafb4f",
   "metadata": {
    "execution": {
     "iopub.execute_input": "2021-04-13T03:39:02.340722Z",
     "iopub.status.busy": "2021-04-13T03:39:02.340107Z",
     "iopub.status.idle": "2021-04-13T03:39:02.344972Z",
     "shell.execute_reply": "2021-04-13T03:39:02.345498Z"
    }
   },
   "outputs": [
    {
     "data": {
      "text/plain": [
       "72"
      ]
     },
     "execution_count": 1,
     "metadata": {},
     "output_type": "execute_result"
    }
   ],
   "source": [
    "np.sum(a)"
   ]
  },
  {
   "cell_type": "markdown",
   "id": "3ac2ce98",
   "metadata": {},
   "source": [
    "### Más magia"
   ]
  },
  {
   "cell_type": "code",
   "execution_count": 35,
   "id": "83e16431",
   "metadata": {
    "execution": {
     "iopub.execute_input": "2021-04-13T03:39:02.350439Z",
     "iopub.status.busy": "2021-04-13T03:39:02.349762Z",
     "iopub.status.idle": "2021-04-13T03:39:02.352976Z",
     "shell.execute_reply": "2021-04-13T03:39:02.352415Z"
    }
   },
   "outputs": [
    {
     "data": {
      "text/plain": [
       "array([[False, False, False,  True],\n",
       "       [ True, False,  True,  True]])"
      ]
     },
     "execution_count": 1,
     "metadata": {},
     "output_type": "execute_result"
    }
   ],
   "source": [
    "a = np.array([[5, 2, 1, 8], [26, 4, 17, 9]])\n",
    "\n",
    "a > 5"
   ]
  },
  {
   "cell_type": "code",
   "execution_count": 36,
   "id": "194158fe",
   "metadata": {
    "execution": {
     "iopub.execute_input": "2021-04-13T03:39:02.357699Z",
     "iopub.status.busy": "2021-04-13T03:39:02.357077Z",
     "iopub.status.idle": "2021-04-13T03:39:02.359472Z",
     "shell.execute_reply": "2021-04-13T03:39:02.360006Z"
    }
   },
   "outputs": [
    {
     "data": {
      "text/plain": [
       "array([ 8, 26, 17,  9])"
      ]
     },
     "execution_count": 1,
     "metadata": {},
     "output_type": "execute_result"
    }
   ],
   "source": [
    "a[a > 5]"
   ]
  },
  {
   "cell_type": "markdown",
   "id": "7a07cb97",
   "metadata": {},
   "source": [
    "### Broadcasting"
   ]
  },
  {
   "cell_type": "markdown",
   "id": "48a196d0",
   "metadata": {},
   "source": [
    "Permite realizar operaciones entre dos numpy arrays de distintas dimensiones.\n",
    "Para lograr esto, las dimensiones de los mismos deben ser compatibles. Dos dimensiones son compatibles cuando:\n",
    "1. Son iguales\n",
    "2. Alguna de las dos es 1"
   ]
  },
  {
   "cell_type": "code",
   "execution_count": 37,
   "id": "beb3b726",
   "metadata": {
    "execution": {
     "iopub.execute_input": "2021-04-13T03:39:02.364425Z",
     "iopub.status.busy": "2021-04-13T03:39:02.363801Z",
     "iopub.status.idle": "2021-04-13T03:39:02.367818Z",
     "shell.execute_reply": "2021-04-13T03:39:02.367237Z"
    }
   },
   "outputs": [
    {
     "data": {
      "text/plain": [
       "array([[ 5,  2,  1,  8],\n",
       "       [26,  4, 17,  9]])"
      ]
     },
     "execution_count": 1,
     "metadata": {},
     "output_type": "execute_result"
    }
   ],
   "source": [
    "a = np.array([[5, 2, 1, 8], [26, 4, 17, 9]])\n",
    "a"
   ]
  },
  {
   "cell_type": "code",
   "execution_count": 38,
   "id": "d37e2136",
   "metadata": {
    "execution": {
     "iopub.execute_input": "2021-04-13T03:39:02.373073Z",
     "iopub.status.busy": "2021-04-13T03:39:02.372427Z",
     "iopub.status.idle": "2021-04-13T03:39:02.374680Z",
     "shell.execute_reply": "2021-04-13T03:39:02.375278Z"
    }
   },
   "outputs": [
    {
     "name": "stdout",
     "output_type": "stream",
     "text": [
      "a: (2, 4)\n",
      "b: (4,)\n",
      "\n",
      "a + b:\n",
      " [[10  4  2 16]\n",
      " [31  6 18 17]]\n"
     ]
    }
   ],
   "source": [
    "# Armamos un array que tenga la misma cantidad de columnas que a\n",
    "b = np.array([5, 2, 1, 8])\n",
    "print(f\"a: {a.shape}\")\n",
    "print(f\"b: {b.shape}\")\n",
    "# a + b\n",
    "print()\n",
    "print(f\"a + b:\\n {a + b}\")"
   ]
  },
  {
   "cell_type": "code",
   "execution_count": 39,
   "id": "a0d1d9f9",
   "metadata": {
    "execution": {
     "iopub.execute_input": "2021-04-13T03:39:02.379646Z",
     "iopub.status.busy": "2021-04-13T03:39:02.379005Z",
     "iopub.status.idle": "2021-04-13T03:39:02.453132Z",
     "shell.execute_reply": "2021-04-13T03:39:02.452468Z"
    },
    "tags": [
     "raises-exception"
    ]
   },
   "outputs": [
    {
     "name": "stdout",
     "output_type": "stream",
     "text": [
      "a: (2, 4)\n",
      "b: (3,)\n"
     ]
    },
    {
     "ename": "ValueError",
     "evalue": "operands could not be broadcast together with shapes (2,4) (3,) ",
     "output_type": "error",
     "traceback": [
      "\u001b[0;31m---------------------------------------------------------------------------\u001b[0m",
      "\u001b[0;31mValueError\u001b[0m                                Traceback (most recent call last)",
      "\u001b[0;32m<ipython-input-1-fe11b6ae6346>\u001b[0m in \u001b[0;36m<module>\u001b[0;34m\u001b[0m\n\u001b[1;32m      3\u001b[0m \u001b[0mprint\u001b[0m\u001b[0;34m(\u001b[0m\u001b[0;34mf\"a: {a.shape}\"\u001b[0m\u001b[0;34m)\u001b[0m\u001b[0;34m\u001b[0m\u001b[0;34m\u001b[0m\u001b[0m\n\u001b[1;32m      4\u001b[0m \u001b[0mprint\u001b[0m\u001b[0;34m(\u001b[0m\u001b[0;34mf\"b: {b.shape}\"\u001b[0m\u001b[0;34m)\u001b[0m\u001b[0;34m\u001b[0m\u001b[0;34m\u001b[0m\u001b[0m\n\u001b[0;32m----> 5\u001b[0;31m \u001b[0ma\u001b[0m \u001b[0;34m+\u001b[0m \u001b[0mb\u001b[0m\u001b[0;34m\u001b[0m\u001b[0;34m\u001b[0m\u001b[0m\n\u001b[0m",
      "\u001b[0;31mValueError\u001b[0m: operands could not be broadcast together with shapes (2,4) (3,) "
     ]
    }
   ],
   "source": [
    "# Armamos un array que tenga distinta cantidad de filas y columnas que a\n",
    "b = np.array([5, 1, 8])\n",
    "print(f\"a: {a.shape}\")\n",
    "print(f\"b: {b.shape}\")\n",
    "a + b"
   ]
  },
  {
   "cell_type": "code",
   "execution_count": 40,
   "id": "b259f7b3",
   "metadata": {
    "execution": {
     "iopub.execute_input": "2021-04-13T03:39:02.460524Z",
     "iopub.status.busy": "2021-04-13T03:39:02.459265Z",
     "iopub.status.idle": "2021-04-13T03:39:02.463880Z",
     "shell.execute_reply": "2021-04-13T03:39:02.462428Z"
    }
   },
   "outputs": [
    {
     "name": "stdout",
     "output_type": "stream",
     "text": [
      "a: (2, 4)\n",
      "b: (2, 1)\n"
     ]
    },
    {
     "data": {
      "text/plain": [
       "array([[ 7,  4,  3, 10],\n",
       "       [27,  5, 18, 10]])"
      ]
     },
     "execution_count": 1,
     "metadata": {},
     "output_type": "execute_result"
    }
   ],
   "source": [
    "# Armamos un array que tenga la misma cantidad de filas que a\n",
    "b = np.array([[2], [1]])\n",
    "print(f\"a: {a.shape}\")\n",
    "print(f\"b: {b.shape}\")\n",
    "a + b"
   ]
  },
  {
   "cell_type": "code",
   "execution_count": 41,
   "id": "8ba081c2",
   "metadata": {
    "execution": {
     "iopub.execute_input": "2021-04-13T03:39:02.469347Z",
     "iopub.status.busy": "2021-04-13T03:39:02.468203Z",
     "iopub.status.idle": "2021-04-13T03:39:02.471887Z",
     "shell.execute_reply": "2021-04-13T03:39:02.471290Z"
    }
   },
   "outputs": [
    {
     "data": {
      "text/plain": [
       "array([[ 9,  6,  5, 12],\n",
       "       [30,  8, 21, 13]])"
      ]
     },
     "execution_count": 1,
     "metadata": {},
     "output_type": "execute_result"
    }
   ],
   "source": [
    "# Si b es un entero\n",
    "b = 4\n",
    "a + b"
   ]
  },
  {
   "cell_type": "code",
   "execution_count": null,
   "id": "91a1ae1c",
   "metadata": {},
   "outputs": [],
   "source": []
  }
 ],
 "metadata": {
  "jupytext": {
   "encoding": "# -*- coding: utf-8 -*-",
   "formats": "ipynb,py:light"
  },
  "kernelspec": {
   "display_name": "Python 3",
   "language": "python",
   "name": "python3"
  },
  "language_info": {
   "codemirror_mode": {
    "name": "ipython",
    "version": 3
   },
   "file_extension": ".py",
   "mimetype": "text/x-python",
   "name": "python",
   "nbconvert_exporter": "python",
   "pygments_lexer": "ipython3",
   "version": "3.7.10"
  }
 },
 "nbformat": 4,
 "nbformat_minor": 5
}
