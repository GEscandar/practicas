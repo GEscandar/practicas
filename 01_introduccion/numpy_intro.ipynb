{
 "cells": [
  {
   "cell_type": "code",
   "execution_count": 1,
   "metadata": {
    "execution": {
     "iopub.execute_input": "2020-09-29T00:38:57.858275Z",
     "iopub.status.busy": "2020-09-29T00:38:57.857602Z",
     "iopub.status.idle": "2020-09-29T00:38:57.860542Z",
     "shell.execute_reply": "2020-09-29T00:38:57.861115Z"
    }
   },
   "outputs": [],
   "source": [
    "\n",
    "# # Clase 1 - Introducción a numpy\n",
    "\n",
    "# Numpy es una biblioteca para Python que facilita el manejo de arreglos multidimensionales y ofrece varias herramientas para trabajar con ellos. Muchas de las bibliotecas de Python que son ampliamente usadas hoy en día, como pandas, están construidas sobre numpy.\n",
    "\n",
    "# ## Listas de Python vs arreglos de Numpy\n",
    "\n",
    "# A primera vista, un arreglo de numpy puede resultar idéntico a una lista de python, pero a medida que la cantidad de datos comienza a incrementar, los arreglos de numpy terminan ofreciendo un manejo más eficiente de la memoria.\n",
    "\n",
    "# Para comenzar, vamos a crear un arreglo de numpy:"
   ]
  },
  {
   "cell_type": "code",
   "execution_count": 2,
   "metadata": {
    "execution": {
     "iopub.execute_input": "2020-09-29T00:38:57.865068Z",
     "iopub.status.busy": "2020-09-29T00:38:57.864509Z",
     "iopub.status.idle": "2020-09-29T00:38:57.943936Z",
     "shell.execute_reply": "2020-09-29T00:38:57.944436Z"
    }
   },
   "outputs": [
    {
     "data": {
      "text/plain": [
       "array([1, 2, 3, 4])"
      ]
     },
     "execution_count": 1,
     "metadata": {},
     "output_type": "execute_result"
    }
   ],
   "source": [
    "\n",
    "\n",
    "import numpy as np\n",
    "\n",
    "np.array([1, 2, 3, 4])\n",
    "\n",
    "\n",
    "# Los arreglos pueden ser también multidimensionales:"
   ]
  },
  {
   "cell_type": "code",
   "execution_count": 3,
   "metadata": {
    "execution": {
     "iopub.execute_input": "2020-09-29T00:38:57.948801Z",
     "iopub.status.busy": "2020-09-29T00:38:57.948210Z",
     "iopub.status.idle": "2020-09-29T00:38:57.952831Z",
     "shell.execute_reply": "2020-09-29T00:38:57.953605Z"
    }
   },
   "outputs": [
    {
     "data": {
      "text/plain": [
       "array([[1, 2, 3, 4],\n",
       "       [5, 6, 7, 8]])"
      ]
     },
     "execution_count": 1,
     "metadata": {},
     "output_type": "execute_result"
    }
   ],
   "source": [
    "\n",
    "\n",
    "np.array([[1, 2, 3, 4], [5, 6, 7, 8]])\n",
    "\n",
    "\n",
    "# Es importante tener en cuenta que un arreglo de numpy tiene un tipo fijo de datos, entonces si se quiere agregar un dato de un tipo diferente al de la mayoría, este va a ser modificado para adaptarse al resto"
   ]
  },
  {
   "cell_type": "code",
   "execution_count": 4,
   "metadata": {
    "execution": {
     "iopub.execute_input": "2020-09-29T00:38:57.957112Z",
     "iopub.status.busy": "2020-09-29T00:38:57.955997Z",
     "iopub.status.idle": "2020-09-29T00:38:57.962580Z",
     "shell.execute_reply": "2020-09-29T00:38:57.963353Z"
    }
   },
   "outputs": [
    {
     "data": {
      "text/plain": [
       "array([1, 8, 3, 4])"
      ]
     },
     "execution_count": 1,
     "metadata": {},
     "output_type": "execute_result"
    }
   ],
   "source": [
    "\n",
    "\n",
    "enteros = np.array([1, 2, 3, 4])\n",
    "\n",
    "# Agrego un elemento de tipo flotante en la posición 1\n",
    "\n",
    "enteros[1] = 8.4727\n",
    "enteros\n",
    "\n",
    "\n",
    "# Numpy también nos permite crear arreglos con valores aleatorios del 0 al 1"
   ]
  },
  {
   "cell_type": "code",
   "execution_count": 5,
   "metadata": {
    "execution": {
     "iopub.execute_input": "2020-09-29T00:38:57.966810Z",
     "iopub.status.busy": "2020-09-29T00:38:57.965679Z",
     "iopub.status.idle": "2020-09-29T00:38:57.972133Z",
     "shell.execute_reply": "2020-09-29T00:38:57.972896Z"
    }
   },
   "outputs": [
    {
     "data": {
      "text/plain": [
       "array([[0.71806729, 0.41787435, 0.52397666],\n",
       "       [0.90294917, 0.76974326, 0.03066391]])"
      ]
     },
     "execution_count": 1,
     "metadata": {},
     "output_type": "execute_result"
    }
   ],
   "source": [
    "\n",
    "\n",
    "# Basta con pasarle las dimensiones del arreglo que queremos crear\n",
    "\n",
    "np.random.rand(2, 3)\n",
    "\n",
    "\n",
    "# ## Slicing\n",
    "\n",
    "# De la misma forma que con las listas de python, pueden obtenerse slices de los arreglos de numpy"
   ]
  },
  {
   "cell_type": "code",
   "execution_count": 6,
   "metadata": {
    "execution": {
     "iopub.execute_input": "2020-09-29T00:38:57.977490Z",
     "iopub.status.busy": "2020-09-29T00:38:57.975062Z",
     "iopub.status.idle": "2020-09-29T00:38:57.981621Z",
     "shell.execute_reply": "2020-09-29T00:38:57.982059Z"
    },
    "lines_to_next_cell": 2
   },
   "outputs": [
    {
     "data": {
      "text/plain": [
       "array([1, 8])"
      ]
     },
     "execution_count": 1,
     "metadata": {},
     "output_type": "execute_result"
    }
   ],
   "source": [
    "\n",
    "\n",
    "enteros[:2]"
   ]
  },
  {
   "cell_type": "code",
   "execution_count": 7,
   "metadata": {
    "execution": {
     "iopub.execute_input": "2020-09-29T00:38:57.986938Z",
     "iopub.status.busy": "2020-09-29T00:38:57.986270Z",
     "iopub.status.idle": "2020-09-29T00:38:57.992326Z",
     "shell.execute_reply": "2020-09-29T00:38:57.992764Z"
    }
   },
   "outputs": [
    {
     "name": "stdout",
     "output_type": "stream",
     "text": [
      "Original: \n",
      "[[ 1  2  3  4]\n",
      " [ 5  6  7  8]\n",
      " [ 9 10 11 12]]\n",
      "\n",
      "Recortada: \n",
      "[[1 2 3]\n",
      " [5 6 7]]\n"
     ]
    }
   ],
   "source": [
    "\n",
    "\n",
    "matriz_de_enteros = np.array([[1, 2, 3, 4], [5, 6, 7, 8], [9, 10, 11, 12]])\n",
    "\n",
    "print('Original: ')\n",
    "print(matriz_de_enteros)\n",
    "\n",
    "print()\n",
    "\n",
    "print('Recortada: ')\n",
    "print(matriz_de_enteros[:2, :3])"
   ]
  },
  {
   "cell_type": "markdown",
   "metadata": {},
   "source": [
    "### Copia de arreglos"
   ]
  },
  {
   "cell_type": "code",
   "execution_count": 8,
   "metadata": {
    "execution": {
     "iopub.execute_input": "2020-09-29T00:38:57.997148Z",
     "iopub.status.busy": "2020-09-29T00:38:57.996577Z",
     "iopub.status.idle": "2020-09-29T00:38:58.000959Z",
     "shell.execute_reply": "2020-09-29T00:38:58.000463Z"
    }
   },
   "outputs": [
    {
     "data": {
      "text/plain": [
       "array([1, 2, 3, 4])"
      ]
     },
     "execution_count": 1,
     "metadata": {},
     "output_type": "execute_result"
    }
   ],
   "source": [
    "# Los arreglos no se copian con asignación\n",
    "\n",
    "a = np.array([1, 2, 3, 4])\n",
    "b = a\n",
    "b"
   ]
  },
  {
   "cell_type": "code",
   "execution_count": 9,
   "metadata": {
    "execution": {
     "iopub.execute_input": "2020-09-29T00:38:58.005229Z",
     "iopub.status.busy": "2020-09-29T00:38:58.004636Z",
     "iopub.status.idle": "2020-09-29T00:38:58.007569Z",
     "shell.execute_reply": "2020-09-29T00:38:58.006824Z"
    }
   },
   "outputs": [
    {
     "data": {
      "text/plain": [
       "array([ 1, 20,  3,  4])"
      ]
     },
     "execution_count": 1,
     "metadata": {},
     "output_type": "execute_result"
    }
   ],
   "source": [
    "b[1] = 20\n",
    "b"
   ]
  },
  {
   "cell_type": "code",
   "execution_count": 10,
   "metadata": {
    "execution": {
     "iopub.execute_input": "2020-09-29T00:38:58.011634Z",
     "iopub.status.busy": "2020-09-29T00:38:58.011075Z",
     "iopub.status.idle": "2020-09-29T00:38:58.014020Z",
     "shell.execute_reply": "2020-09-29T00:38:58.013551Z"
    }
   },
   "outputs": [
    {
     "data": {
      "text/plain": [
       "array([ 1, 20,  3,  4])"
      ]
     },
     "execution_count": 1,
     "metadata": {},
     "output_type": "execute_result"
    }
   ],
   "source": [
    "a"
   ]
  },
  {
   "cell_type": "code",
   "execution_count": 11,
   "metadata": {
    "execution": {
     "iopub.execute_input": "2020-09-29T00:38:58.018736Z",
     "iopub.status.busy": "2020-09-29T00:38:58.017804Z",
     "iopub.status.idle": "2020-09-29T00:38:58.020492Z",
     "shell.execute_reply": "2020-09-29T00:38:58.020997Z"
    }
   },
   "outputs": [
    {
     "data": {
      "text/plain": [
       "array([ 1, 20,  3,  4])"
      ]
     },
     "execution_count": 1,
     "metadata": {},
     "output_type": "execute_result"
    }
   ],
   "source": [
    "# Para copiar un arreglo a otra variable debemos usar copy()\n",
    "\n",
    "a = np.array([1, 2, 3, 4])\n",
    "b = a.copy()\n",
    "b[1] = 20\n",
    "b"
   ]
  },
  {
   "cell_type": "code",
   "execution_count": 12,
   "metadata": {
    "execution": {
     "iopub.execute_input": "2020-09-29T00:38:58.024683Z",
     "iopub.status.busy": "2020-09-29T00:38:58.024125Z",
     "iopub.status.idle": "2020-09-29T00:38:58.027174Z",
     "shell.execute_reply": "2020-09-29T00:38:58.026593Z"
    }
   },
   "outputs": [
    {
     "data": {
      "text/plain": [
       "array([1, 2, 3, 4])"
      ]
     },
     "execution_count": 1,
     "metadata": {},
     "output_type": "execute_result"
    }
   ],
   "source": [
    "a"
   ]
  },
  {
   "cell_type": "markdown",
   "metadata": {},
   "source": [
    "### Modificación de dimensiones"
   ]
  },
  {
   "cell_type": "markdown",
   "metadata": {},
   "source": [
    "Existen varias operaciones para cambiar la forma de un arreglo de numpy"
   ]
  },
  {
   "cell_type": "code",
   "execution_count": 13,
   "metadata": {
    "execution": {
     "iopub.execute_input": "2020-09-29T00:38:58.031034Z",
     "iopub.status.busy": "2020-09-29T00:38:58.030470Z",
     "iopub.status.idle": "2020-09-29T00:38:58.033394Z",
     "shell.execute_reply": "2020-09-29T00:38:58.032893Z"
    }
   },
   "outputs": [
    {
     "data": {
      "text/plain": [
       "2"
      ]
     },
     "execution_count": 1,
     "metadata": {},
     "output_type": "execute_result"
    }
   ],
   "source": [
    "# Obtener las dimensiones del arreglo\n",
    "\n",
    "matriz_de_enteros.ndim"
   ]
  },
  {
   "cell_type": "code",
   "execution_count": 14,
   "metadata": {
    "execution": {
     "iopub.execute_input": "2020-09-29T00:38:58.037792Z",
     "iopub.status.busy": "2020-09-29T00:38:58.037228Z",
     "iopub.status.idle": "2020-09-29T00:38:58.040124Z",
     "shell.execute_reply": "2020-09-29T00:38:58.039632Z"
    }
   },
   "outputs": [
    {
     "data": {
      "text/plain": [
       "(3, 4)"
      ]
     },
     "execution_count": 1,
     "metadata": {},
     "output_type": "execute_result"
    }
   ],
   "source": [
    "# Obtener la forma del arreglo\n",
    "\n",
    "matriz_de_enteros.shape"
   ]
  },
  {
   "cell_type": "code",
   "execution_count": 15,
   "metadata": {
    "execution": {
     "iopub.execute_input": "2020-09-29T00:38:58.044541Z",
     "iopub.status.busy": "2020-09-29T00:38:58.043975Z",
     "iopub.status.idle": "2020-09-29T00:38:58.046839Z",
     "shell.execute_reply": "2020-09-29T00:38:58.046326Z"
    }
   },
   "outputs": [
    {
     "data": {
      "text/plain": [
       "array([[ 3,  6],\n",
       "       [ 9, 12]])"
      ]
     },
     "execution_count": 1,
     "metadata": {},
     "output_type": "execute_result"
    }
   ],
   "source": [
    "# Modificar la forma de un arreglo\n",
    "\n",
    "enteros = np.array([3, 6, 9, 12])\n",
    "np.reshape(enteros, (2, 2))"
   ]
  },
  {
   "cell_type": "code",
   "execution_count": 16,
   "metadata": {
    "execution": {
     "iopub.execute_input": "2020-09-29T00:38:58.050956Z",
     "iopub.status.busy": "2020-09-29T00:38:58.050389Z",
     "iopub.status.idle": "2020-09-29T00:38:58.053327Z",
     "shell.execute_reply": "2020-09-29T00:38:58.052833Z"
    }
   },
   "outputs": [
    {
     "data": {
      "text/plain": [
       "array([[1., 1.],\n",
       "       [1., 1.]])"
      ]
     },
     "execution_count": 1,
     "metadata": {},
     "output_type": "execute_result"
    }
   ],
   "source": [
    "# Aplanar un arreglo\n",
    "\n",
    "a = np.ones((2, 2))\n",
    "a"
   ]
  },
  {
   "cell_type": "code",
   "execution_count": 17,
   "metadata": {
    "execution": {
     "iopub.execute_input": "2020-09-29T00:38:58.057149Z",
     "iopub.status.busy": "2020-09-29T00:38:58.056590Z",
     "iopub.status.idle": "2020-09-29T00:38:58.059685Z",
     "shell.execute_reply": "2020-09-29T00:38:58.059188Z"
    }
   },
   "outputs": [
    {
     "data": {
      "text/plain": [
       "array([1., 1., 1., 1.])"
      ]
     },
     "execution_count": 1,
     "metadata": {},
     "output_type": "execute_result"
    }
   ],
   "source": [
    "a.flatten()"
   ]
  },
  {
   "cell_type": "code",
   "execution_count": 18,
   "metadata": {
    "execution": {
     "iopub.execute_input": "2020-09-29T00:38:58.063527Z",
     "iopub.status.busy": "2020-09-29T00:38:58.062962Z",
     "iopub.status.idle": "2020-09-29T00:38:58.067415Z",
     "shell.execute_reply": "2020-09-29T00:38:58.067885Z"
    },
    "lines_to_next_cell": 2
   },
   "outputs": [
    {
     "data": {
      "text/plain": [
       "array([[1., 1.],\n",
       "       [1., 1.]])"
      ]
     },
     "execution_count": 1,
     "metadata": {},
     "output_type": "execute_result"
    }
   ],
   "source": [
    "a"
   ]
  },
  {
   "cell_type": "markdown",
   "metadata": {},
   "source": [
    "### Combinación de arreglos (Stacking)"
   ]
  },
  {
   "cell_type": "code",
   "execution_count": 19,
   "metadata": {
    "execution": {
     "iopub.execute_input": "2020-09-29T00:38:58.071914Z",
     "iopub.status.busy": "2020-09-29T00:38:58.071352Z",
     "iopub.status.idle": "2020-09-29T00:38:58.073751Z",
     "shell.execute_reply": "2020-09-29T00:38:58.074247Z"
    }
   },
   "outputs": [
    {
     "data": {
      "text/plain": [
       "array([0, 1, 2, 3, 4])"
      ]
     },
     "execution_count": 1,
     "metadata": {},
     "output_type": "execute_result"
    }
   ],
   "source": [
    "# Los arreglos se pueden combinar verticalmente (se incrementa la cantidad de filas)\n",
    "\n",
    "a = np.arange(0, 5)\n",
    "a"
   ]
  },
  {
   "cell_type": "code",
   "execution_count": 20,
   "metadata": {
    "execution": {
     "iopub.execute_input": "2020-09-29T00:38:58.078182Z",
     "iopub.status.busy": "2020-09-29T00:38:58.077622Z",
     "iopub.status.idle": "2020-09-29T00:38:58.081097Z",
     "shell.execute_reply": "2020-09-29T00:38:58.080565Z"
    }
   },
   "outputs": [
    {
     "data": {
      "text/plain": [
       "array([5, 6, 7, 8, 9])"
      ]
     },
     "execution_count": 1,
     "metadata": {},
     "output_type": "execute_result"
    }
   ],
   "source": [
    "b = np.arange(5, 10)\n",
    "b"
   ]
  },
  {
   "cell_type": "code",
   "execution_count": 21,
   "metadata": {
    "execution": {
     "iopub.execute_input": "2020-09-29T00:38:58.085649Z",
     "iopub.status.busy": "2020-09-29T00:38:58.084613Z",
     "iopub.status.idle": "2020-09-29T00:38:58.087117Z",
     "shell.execute_reply": "2020-09-29T00:38:58.087581Z"
    }
   },
   "outputs": [
    {
     "data": {
      "text/plain": [
       "array([[0, 1, 2, 3, 4],\n",
       "       [5, 6, 7, 8, 9]])"
      ]
     },
     "execution_count": 1,
     "metadata": {},
     "output_type": "execute_result"
    }
   ],
   "source": [
    "combinados_verticalmente = np.vstack((a, b))\n",
    "combinados_verticalmente"
   ]
  },
  {
   "cell_type": "code",
   "execution_count": 22,
   "metadata": {
    "execution": {
     "iopub.execute_input": "2020-09-29T00:38:58.091889Z",
     "iopub.status.busy": "2020-09-29T00:38:58.091315Z",
     "iopub.status.idle": "2020-09-29T00:38:58.093751Z",
     "shell.execute_reply": "2020-09-29T00:38:58.094218Z"
    }
   },
   "outputs": [
    {
     "data": {
      "text/plain": [
       "array([0, 1, 2, 3, 4, 5, 6, 7, 8, 9])"
      ]
     },
     "execution_count": 1,
     "metadata": {},
     "output_type": "execute_result"
    }
   ],
   "source": [
    "# También se pueden combinar horizontalmente (se incrementa la cantidad de columnas)\n",
    "\n",
    "combinados_horizontalmente = np.hstack((a, b))\n",
    "combinados_horizontalmente"
   ]
  },
  {
   "cell_type": "markdown",
   "metadata": {},
   "source": [
    "### Operaciones matemáticas"
   ]
  },
  {
   "cell_type": "code",
   "execution_count": 23,
   "metadata": {
    "execution": {
     "iopub.execute_input": "2020-09-29T00:38:58.098390Z",
     "iopub.status.busy": "2020-09-29T00:38:58.097799Z",
     "iopub.status.idle": "2020-09-29T00:38:58.100239Z",
     "shell.execute_reply": "2020-09-29T00:38:58.100733Z"
    }
   },
   "outputs": [
    {
     "data": {
      "text/plain": [
       "array([3, 4, 5, 6])"
      ]
     },
     "execution_count": 1,
     "metadata": {},
     "output_type": "execute_result"
    }
   ],
   "source": [
    "a = np.array([1, 2, 3, 4])\n",
    "\n",
    "a + 2"
   ]
  },
  {
   "cell_type": "code",
   "execution_count": 24,
   "metadata": {
    "execution": {
     "iopub.execute_input": "2020-09-29T00:38:58.104598Z",
     "iopub.status.busy": "2020-09-29T00:38:58.104042Z",
     "iopub.status.idle": "2020-09-29T00:38:58.106460Z",
     "shell.execute_reply": "2020-09-29T00:38:58.106968Z"
    }
   },
   "outputs": [
    {
     "data": {
      "text/plain": [
       "array([ 1,  4,  9, 16])"
      ]
     },
     "execution_count": 1,
     "metadata": {},
     "output_type": "execute_result"
    }
   ],
   "source": [
    "a ** 2"
   ]
  },
  {
   "cell_type": "code",
   "execution_count": 25,
   "metadata": {
    "execution": {
     "iopub.execute_input": "2020-09-29T00:38:58.111098Z",
     "iopub.status.busy": "2020-09-29T00:38:58.110533Z",
     "iopub.status.idle": "2020-09-29T00:38:58.113001Z",
     "shell.execute_reply": "2020-09-29T00:38:58.113498Z"
    }
   },
   "outputs": [
    {
     "data": {
      "text/plain": [
       "array([2., 3., 4., 5.])"
      ]
     },
     "execution_count": 1,
     "metadata": {},
     "output_type": "execute_result"
    }
   ],
   "source": [
    "b = np.ones(4)\n",
    "a + b"
   ]
  },
  {
   "cell_type": "markdown",
   "metadata": {},
   "source": [
    "### Estadística"
   ]
  },
  {
   "cell_type": "code",
   "execution_count": 26,
   "metadata": {
    "execution": {
     "iopub.execute_input": "2020-09-29T00:38:58.117823Z",
     "iopub.status.busy": "2020-09-29T00:38:58.117264Z",
     "iopub.status.idle": "2020-09-29T00:38:58.119733Z",
     "shell.execute_reply": "2020-09-29T00:38:58.120167Z"
    }
   },
   "outputs": [
    {
     "data": {
      "text/plain": [
       "1"
      ]
     },
     "execution_count": 1,
     "metadata": {},
     "output_type": "execute_result"
    }
   ],
   "source": [
    "a = np.array([[5, 2, 1, 8], [26, 4, 17, 9]])\n",
    "\n",
    "np.min(a)"
   ]
  },
  {
   "cell_type": "code",
   "execution_count": 27,
   "metadata": {
    "execution": {
     "iopub.execute_input": "2020-09-29T00:38:58.124728Z",
     "iopub.status.busy": "2020-09-29T00:38:58.124144Z",
     "iopub.status.idle": "2020-09-29T00:38:58.126115Z",
     "shell.execute_reply": "2020-09-29T00:38:58.126601Z"
    }
   },
   "outputs": [
    {
     "data": {
      "text/plain": [
       "26"
      ]
     },
     "execution_count": 1,
     "metadata": {},
     "output_type": "execute_result"
    }
   ],
   "source": [
    "np.max(a)"
   ]
  },
  {
   "cell_type": "code",
   "execution_count": 28,
   "metadata": {
    "execution": {
     "iopub.execute_input": "2020-09-29T00:38:58.130493Z",
     "iopub.status.busy": "2020-09-29T00:38:58.129899Z",
     "iopub.status.idle": "2020-09-29T00:38:58.132778Z",
     "shell.execute_reply": "2020-09-29T00:38:58.132285Z"
    }
   },
   "outputs": [
    {
     "data": {
      "text/plain": [
       "72"
      ]
     },
     "execution_count": 1,
     "metadata": {},
     "output_type": "execute_result"
    }
   ],
   "source": [
    "np.sum(a)"
   ]
  },
  {
   "cell_type": "markdown",
   "metadata": {},
   "source": [
    "### Más magia"
   ]
  },
  {
   "cell_type": "code",
   "execution_count": 29,
   "metadata": {
    "execution": {
     "iopub.execute_input": "2020-09-29T00:38:58.137818Z",
     "iopub.status.busy": "2020-09-29T00:38:58.137213Z",
     "iopub.status.idle": "2020-09-29T00:38:58.139253Z",
     "shell.execute_reply": "2020-09-29T00:38:58.139713Z"
    }
   },
   "outputs": [
    {
     "data": {
      "text/plain": [
       "array([[False, False, False,  True],\n",
       "       [ True, False,  True,  True]])"
      ]
     },
     "execution_count": 1,
     "metadata": {},
     "output_type": "execute_result"
    }
   ],
   "source": [
    "a = np.array([[5, 2, 1, 8], [26, 4, 17, 9]])\n",
    "\n",
    "a > 5"
   ]
  },
  {
   "cell_type": "code",
   "execution_count": 30,
   "metadata": {
    "execution": {
     "iopub.execute_input": "2020-09-29T00:38:58.143724Z",
     "iopub.status.busy": "2020-09-29T00:38:58.143147Z",
     "iopub.status.idle": "2020-09-29T00:38:58.145932Z",
     "shell.execute_reply": "2020-09-29T00:38:58.145351Z"
    }
   },
   "outputs": [
    {
     "data": {
      "text/plain": [
       "array([ 8, 26, 17,  9])"
      ]
     },
     "execution_count": 1,
     "metadata": {},
     "output_type": "execute_result"
    }
   ],
   "source": [
    "a[a > 5]"
   ]
  },
  {
   "cell_type": "code",
   "execution_count": null,
   "metadata": {},
   "outputs": [],
   "source": []
  }
 ],
 "metadata": {
  "jupytext": {
   "cell_metadata_filter": "-all",
   "encoding": "# coding: utf-8",
   "executable": "/usr/bin/env python"
  },
  "kernelspec": {
   "display_name": "Python 3",
   "language": "python",
   "name": "python3"
  },
  "language_info": {
   "codemirror_mode": {
    "name": "ipython",
    "version": 3
   },
   "file_extension": ".py",
   "mimetype": "text/x-python",
   "name": "python",
   "nbconvert_exporter": "python",
   "pygments_lexer": "ipython3",
   "version": "3.7.9"
  }
 },
 "nbformat": 4,
 "nbformat_minor": 4
}
