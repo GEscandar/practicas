{
 "cells": [
  {
   "cell_type": "markdown",
   "id": "7b4c206f",
   "metadata": {},
   "source": [
    "## Clase 1 - Introducción a Numpy\n",
    "\n",
    "Numpy es una biblioteca para Python que facilita el manejo de arreglos multidimensionales y ofrece varias herramientas para trabajar con ellos. Muchas de las bibliotecas de Python que son ampliamente usadas hoy en día, como pandas, están construidas sobre numpy.\n",
    "\n",
    "### Listas de Python vs arreglos de Numpy\n",
    "\n",
    "A primera vista, un arreglo de numpy puede resultar idéntico a una lista de python, pero a medida que la cantidad de datos comienza a incrementar, los arreglos de numpy terminan ofreciendo un manejo más eficiente de la memoria.\n",
    "\n",
    "Para comenzar, vamos a crear un arreglo de numpy:"
   ]
  },
  {
   "cell_type": "code",
   "execution_count": 1,
   "id": "9e0c37fe",
   "metadata": {
    "execution": {
     "iopub.execute_input": "2021-09-19T04:30:09.065330Z",
     "iopub.status.busy": "2021-09-19T04:30:09.064663Z",
     "iopub.status.idle": "2021-09-19T04:30:09.243699Z",
     "shell.execute_reply": "2021-09-19T04:30:09.244271Z"
    }
   },
   "outputs": [
    {
     "data": {
      "text/plain": [
       "array([1, 2, 3, 4])"
      ]
     },
     "execution_count": 1,
     "metadata": {},
     "output_type": "execute_result"
    }
   ],
   "source": [
    "import numpy as np\n",
    "\n",
    "np.array([1, 2, 3, 4])"
   ]
  },
  {
   "cell_type": "markdown",
   "id": "f017678b",
   "metadata": {},
   "source": [
    "Los arreglos pueden ser también multidimensionales:"
   ]
  },
  {
   "cell_type": "code",
   "execution_count": 2,
   "id": "eafd2186",
   "metadata": {
    "execution": {
     "iopub.execute_input": "2021-09-19T04:30:09.250102Z",
     "iopub.status.busy": "2021-09-19T04:30:09.249535Z",
     "iopub.status.idle": "2021-09-19T04:30:09.251565Z",
     "shell.execute_reply": "2021-09-19T04:30:09.252026Z"
    }
   },
   "outputs": [
    {
     "data": {
      "text/plain": [
       "array([[1, 2, 3, 4],\n",
       "       [5, 6, 7, 8]])"
      ]
     },
     "execution_count": 2,
     "metadata": {},
     "output_type": "execute_result"
    }
   ],
   "source": [
    "np.array([[1, 2, 3, 4], [5, 6, 7, 8]])"
   ]
  },
  {
   "cell_type": "markdown",
   "id": "dc834488",
   "metadata": {},
   "source": [
    "Es importante tener en cuenta que un arreglo de numpy tiene un tipo fijo de datos, entonces si se quiere agregar un dato de un tipo diferente al de la mayoría, este va a ser modificado para adaptarse al resto"
   ]
  },
  {
   "cell_type": "code",
   "execution_count": 3,
   "id": "b1d4edd2",
   "metadata": {
    "execution": {
     "iopub.execute_input": "2021-09-19T04:30:09.255446Z",
     "iopub.status.busy": "2021-09-19T04:30:09.253864Z",
     "iopub.status.idle": "2021-09-19T04:30:09.257418Z",
     "shell.execute_reply": "2021-09-19T04:30:09.257032Z"
    }
   },
   "outputs": [],
   "source": [
    "enteros = np.array([1, 2, 3, 4])"
   ]
  },
  {
   "cell_type": "markdown",
   "id": "8a85a983",
   "metadata": {},
   "source": [
    "Agrego un elemento de tipo flotante en la posición 1"
   ]
  },
  {
   "cell_type": "code",
   "execution_count": 4,
   "id": "17ee5364",
   "metadata": {
    "execution": {
     "iopub.execute_input": "2021-09-19T04:30:09.261726Z",
     "iopub.status.busy": "2021-09-19T04:30:09.260840Z",
     "iopub.status.idle": "2021-09-19T04:30:09.263452Z",
     "shell.execute_reply": "2021-09-19T04:30:09.263801Z"
    }
   },
   "outputs": [
    {
     "data": {
      "text/plain": [
       "array([1, 8, 3, 4])"
      ]
     },
     "execution_count": 4,
     "metadata": {},
     "output_type": "execute_result"
    }
   ],
   "source": [
    "enteros[1] = 8.4727\n",
    "enteros"
   ]
  },
  {
   "cell_type": "markdown",
   "id": "fb865f3a",
   "metadata": {},
   "source": [
    "Numpy también nos permite crear arreglos con valores aleatorios del 0 al 1.\n",
    "Basta con pasarle las dimensiones del arreglo que queremos crear."
   ]
  },
  {
   "cell_type": "code",
   "execution_count": 5,
   "id": "cc8b8b11",
   "metadata": {
    "execution": {
     "iopub.execute_input": "2021-09-19T04:30:09.269255Z",
     "iopub.status.busy": "2021-09-19T04:30:09.268410Z",
     "iopub.status.idle": "2021-09-19T04:30:09.270804Z",
     "shell.execute_reply": "2021-09-19T04:30:09.271217Z"
    }
   },
   "outputs": [
    {
     "data": {
      "text/plain": [
       "array([[0.10789715, 0.89557002, 0.19812943],\n",
       "       [0.74789712, 0.44434809, 0.43680124]])"
      ]
     },
     "execution_count": 5,
     "metadata": {},
     "output_type": "execute_result"
    }
   ],
   "source": [
    "np.random.rand(2, 3)"
   ]
  },
  {
   "cell_type": "markdown",
   "id": "9e94e667",
   "metadata": {},
   "source": [
    "## Slicing\n",
    "\n",
    "De la misma forma que con las listas de python, pueden obtenerse slices de los arreglos de numpy"
   ]
  },
  {
   "cell_type": "code",
   "execution_count": 6,
   "id": "21438d36",
   "metadata": {
    "execution": {
     "iopub.execute_input": "2021-09-19T04:30:09.279755Z",
     "iopub.status.busy": "2021-09-19T04:30:09.279155Z",
     "iopub.status.idle": "2021-09-19T04:30:09.281305Z",
     "shell.execute_reply": "2021-09-19T04:30:09.281759Z"
    },
    "lines_to_next_cell": 2
   },
   "outputs": [
    {
     "data": {
      "text/plain": [
       "array([1, 8])"
      ]
     },
     "execution_count": 6,
     "metadata": {},
     "output_type": "execute_result"
    }
   ],
   "source": [
    "enteros[:2]"
   ]
  },
  {
   "cell_type": "code",
   "execution_count": 7,
   "id": "caf471f5",
   "metadata": {
    "execution": {
     "iopub.execute_input": "2021-09-19T04:30:09.286224Z",
     "iopub.status.busy": "2021-09-19T04:30:09.285628Z",
     "iopub.status.idle": "2021-09-19T04:30:09.289689Z",
     "shell.execute_reply": "2021-09-19T04:30:09.289301Z"
    }
   },
   "outputs": [
    {
     "name": "stdout",
     "output_type": "stream",
     "text": [
      "Original: \n",
      "[[ 1  2  3  4]\n",
      " [ 5  6  7  8]\n",
      " [ 9 10 11 12]]\n",
      "\n",
      "Recortada: \n",
      "[[1 2 3]\n",
      " [5 6 7]]\n"
     ]
    }
   ],
   "source": [
    "matriz_de_enteros = np.array([[1, 2, 3, 4], [5, 6, 7, 8], [9, 10, 11, 12]])\n",
    "\n",
    "print('Original: ')\n",
    "print(matriz_de_enteros)\n",
    "\n",
    "print()\n",
    "\n",
    "print('Recortada: ')\n",
    "print(matriz_de_enteros[:2, :3])"
   ]
  },
  {
   "cell_type": "code",
   "execution_count": 8,
   "id": "c133bb37",
   "metadata": {
    "execution": {
     "iopub.execute_input": "2021-09-19T04:30:09.294046Z",
     "iopub.status.busy": "2021-09-19T04:30:09.293563Z",
     "iopub.status.idle": "2021-09-19T04:30:09.295568Z",
     "shell.execute_reply": "2021-09-19T04:30:09.296053Z"
    }
   },
   "outputs": [
    {
     "data": {
      "text/plain": [
       "array([[[ 0,  1,  2,  3,  4],\n",
       "        [ 5,  6,  7,  8,  9],\n",
       "        [10, 11, 12, 13, 14]],\n",
       "\n",
       "       [[15, 16, 17, 18, 19],\n",
       "        [20, 21, 22, 23, 24],\n",
       "        [25, 26, 27, 28, 29]],\n",
       "\n",
       "       [[30, 31, 32, 33, 34],\n",
       "        [35, 36, 37, 38, 39],\n",
       "        [40, 41, 42, 43, 44]]])"
      ]
     },
     "execution_count": 8,
     "metadata": {},
     "output_type": "execute_result"
    }
   ],
   "source": [
    "# 3D\n",
    "# arange() genera valores de un intervalo pasado por parámetro\n",
    "# reshape() modifica la forma del numpy array\n",
    "\n",
    "x = np.arange(45).reshape(3, 3, 5)\n",
    "x"
   ]
  },
  {
   "cell_type": "code",
   "execution_count": 9,
   "id": "1924f7a5",
   "metadata": {
    "execution": {
     "iopub.execute_input": "2021-09-19T04:30:09.299801Z",
     "iopub.status.busy": "2021-09-19T04:30:09.299352Z",
     "iopub.status.idle": "2021-09-19T04:30:09.301253Z",
     "shell.execute_reply": "2021-09-19T04:30:09.301661Z"
    }
   },
   "outputs": [
    {
     "data": {
      "text/plain": [
       "array([[ 0,  1,  2,  3,  4],\n",
       "       [ 5,  6,  7,  8,  9],\n",
       "       [10, 11, 12, 13, 14]])"
      ]
     },
     "execution_count": 9,
     "metadata": {},
     "output_type": "execute_result"
    }
   ],
   "source": [
    "x[0]"
   ]
  },
  {
   "cell_type": "code",
   "execution_count": 10,
   "id": "920783c3",
   "metadata": {
    "execution": {
     "iopub.execute_input": "2021-09-19T04:30:09.305958Z",
     "iopub.status.busy": "2021-09-19T04:30:09.305300Z",
     "iopub.status.idle": "2021-09-19T04:30:09.307475Z",
     "shell.execute_reply": "2021-09-19T04:30:09.307839Z"
    }
   },
   "outputs": [
    {
     "data": {
      "text/plain": [
       "array([5, 6, 7, 8, 9])"
      ]
     },
     "execution_count": 10,
     "metadata": {},
     "output_type": "execute_result"
    }
   ],
   "source": [
    "x[0][1]"
   ]
  },
  {
   "cell_type": "code",
   "execution_count": 11,
   "id": "6319d95e",
   "metadata": {
    "execution": {
     "iopub.execute_input": "2021-09-19T04:30:09.312222Z",
     "iopub.status.busy": "2021-09-19T04:30:09.310408Z",
     "iopub.status.idle": "2021-09-19T04:30:09.314367Z",
     "shell.execute_reply": "2021-09-19T04:30:09.314821Z"
    }
   },
   "outputs": [
    {
     "data": {
      "text/plain": [
       "7"
      ]
     },
     "execution_count": 11,
     "metadata": {},
     "output_type": "execute_result"
    }
   ],
   "source": [
    "x[0][1][2]"
   ]
  },
  {
   "cell_type": "markdown",
   "id": "16c39dcf",
   "metadata": {},
   "source": [
    "\n",
    "¿Cómo conseguimos estos valores? ([fuente](https://towardsdatascience.com/indexing-and-slicing-of-1d-2d-and-3d-arrays-in-numpy-e731afff0bbe))\n",
    "\n",
    "![title](img/matrix.png)"
   ]
  },
  {
   "cell_type": "code",
   "execution_count": 12,
   "id": "5b7b1562",
   "metadata": {
    "execution": {
     "iopub.execute_input": "2021-09-19T04:30:09.319902Z",
     "iopub.status.busy": "2021-09-19T04:30:09.319347Z",
     "iopub.status.idle": "2021-09-19T04:30:09.321538Z",
     "shell.execute_reply": "2021-09-19T04:30:09.321991Z"
    }
   },
   "outputs": [
    {
     "data": {
      "text/plain": [
       "array([[[16, 17, 18],\n",
       "        [21, 22, 23]],\n",
       "\n",
       "       [[31, 32, 33],\n",
       "        [36, 37, 38]]])"
      ]
     },
     "execution_count": 12,
     "metadata": {},
     "output_type": "execute_result"
    }
   ],
   "source": [
    "x[1:, 0:2, 1:4]"
   ]
  },
  {
   "cell_type": "markdown",
   "id": "da1f12df",
   "metadata": {},
   "source": [
    "### Copia de arreglos"
   ]
  },
  {
   "cell_type": "code",
   "execution_count": 13,
   "id": "971838ef",
   "metadata": {
    "execution": {
     "iopub.execute_input": "2021-09-19T04:30:09.326689Z",
     "iopub.status.busy": "2021-09-19T04:30:09.326038Z",
     "iopub.status.idle": "2021-09-19T04:30:09.329194Z",
     "shell.execute_reply": "2021-09-19T04:30:09.328751Z"
    }
   },
   "outputs": [
    {
     "data": {
      "text/plain": [
       "array([1, 2, 3, 4])"
      ]
     },
     "execution_count": 13,
     "metadata": {},
     "output_type": "execute_result"
    }
   ],
   "source": [
    "# Los arreglos no se copian con asignación\n",
    "\n",
    "a = np.array([1, 2, 3, 4])\n",
    "b = a\n",
    "b"
   ]
  },
  {
   "cell_type": "code",
   "execution_count": 14,
   "id": "5f2a2c2b",
   "metadata": {
    "execution": {
     "iopub.execute_input": "2021-09-19T04:30:09.334407Z",
     "iopub.status.busy": "2021-09-19T04:30:09.333468Z",
     "iopub.status.idle": "2021-09-19T04:30:09.336004Z",
     "shell.execute_reply": "2021-09-19T04:30:09.336586Z"
    }
   },
   "outputs": [
    {
     "data": {
      "text/plain": [
       "array([ 1, 20,  3,  4])"
      ]
     },
     "execution_count": 14,
     "metadata": {},
     "output_type": "execute_result"
    }
   ],
   "source": [
    "b[1] = 20\n",
    "b"
   ]
  },
  {
   "cell_type": "code",
   "execution_count": 15,
   "id": "a1d82b3e",
   "metadata": {
    "execution": {
     "iopub.execute_input": "2021-09-19T04:30:09.340778Z",
     "iopub.status.busy": "2021-09-19T04:30:09.340311Z",
     "iopub.status.idle": "2021-09-19T04:30:09.342711Z",
     "shell.execute_reply": "2021-09-19T04:30:09.343102Z"
    }
   },
   "outputs": [
    {
     "data": {
      "text/plain": [
       "array([ 1, 20,  3,  4])"
      ]
     },
     "execution_count": 15,
     "metadata": {},
     "output_type": "execute_result"
    }
   ],
   "source": [
    "a"
   ]
  },
  {
   "cell_type": "code",
   "execution_count": 16,
   "id": "6e70b887",
   "metadata": {
    "execution": {
     "iopub.execute_input": "2021-09-19T04:30:09.347787Z",
     "iopub.status.busy": "2021-09-19T04:30:09.344907Z",
     "iopub.status.idle": "2021-09-19T04:30:09.350220Z",
     "shell.execute_reply": "2021-09-19T04:30:09.349735Z"
    }
   },
   "outputs": [
    {
     "data": {
      "text/plain": [
       "array([ 1, 20,  3,  4])"
      ]
     },
     "execution_count": 16,
     "metadata": {},
     "output_type": "execute_result"
    }
   ],
   "source": [
    "# Para copiar un arreglo a otra variable debemos usar copy()\n",
    "\n",
    "a = np.array([1, 2, 3, 4])\n",
    "b = a.copy()\n",
    "b[1] = 20\n",
    "b"
   ]
  },
  {
   "cell_type": "code",
   "execution_count": 17,
   "id": "e4803b7a",
   "metadata": {
    "execution": {
     "iopub.execute_input": "2021-09-19T04:30:09.354523Z",
     "iopub.status.busy": "2021-09-19T04:30:09.354056Z",
     "iopub.status.idle": "2021-09-19T04:30:09.356346Z",
     "shell.execute_reply": "2021-09-19T04:30:09.357058Z"
    }
   },
   "outputs": [
    {
     "data": {
      "text/plain": [
       "array([1, 2, 3, 4])"
      ]
     },
     "execution_count": 17,
     "metadata": {},
     "output_type": "execute_result"
    }
   ],
   "source": [
    "a"
   ]
  },
  {
   "cell_type": "markdown",
   "id": "0fa6ba81",
   "metadata": {},
   "source": [
    "### Modificación de dimensiones"
   ]
  },
  {
   "cell_type": "markdown",
   "id": "66d1907a",
   "metadata": {},
   "source": [
    "Existen varias operaciones para cambiar la forma de un arreglo de numpy"
   ]
  },
  {
   "cell_type": "code",
   "execution_count": 18,
   "id": "80669c0e",
   "metadata": {
    "execution": {
     "iopub.execute_input": "2021-09-19T04:30:09.362325Z",
     "iopub.status.busy": "2021-09-19T04:30:09.361383Z",
     "iopub.status.idle": "2021-09-19T04:30:09.363851Z",
     "shell.execute_reply": "2021-09-19T04:30:09.364272Z"
    }
   },
   "outputs": [
    {
     "data": {
      "text/plain": [
       "array([[ 1,  2,  3,  4],\n",
       "       [ 5,  6,  7,  8],\n",
       "       [ 9, 10, 11, 12]])"
      ]
     },
     "execution_count": 18,
     "metadata": {},
     "output_type": "execute_result"
    }
   ],
   "source": [
    "matriz_de_enteros"
   ]
  },
  {
   "cell_type": "code",
   "execution_count": 19,
   "id": "640b8656",
   "metadata": {
    "execution": {
     "iopub.execute_input": "2021-09-19T04:30:09.369244Z",
     "iopub.status.busy": "2021-09-19T04:30:09.368344Z",
     "iopub.status.idle": "2021-09-19T04:30:09.370759Z",
     "shell.execute_reply": "2021-09-19T04:30:09.371184Z"
    }
   },
   "outputs": [
    {
     "data": {
      "text/plain": [
       "2"
      ]
     },
     "execution_count": 19,
     "metadata": {},
     "output_type": "execute_result"
    }
   ],
   "source": [
    "# Obtener las dimensiones del arreglo\n",
    "\n",
    "matriz_de_enteros.ndim"
   ]
  },
  {
   "cell_type": "code",
   "execution_count": 20,
   "id": "592694d6",
   "metadata": {
    "execution": {
     "iopub.execute_input": "2021-09-19T04:30:09.375960Z",
     "iopub.status.busy": "2021-09-19T04:30:09.375017Z",
     "iopub.status.idle": "2021-09-19T04:30:09.377921Z",
     "shell.execute_reply": "2021-09-19T04:30:09.378401Z"
    }
   },
   "outputs": [
    {
     "data": {
      "text/plain": [
       "(3, 4)"
      ]
     },
     "execution_count": 20,
     "metadata": {},
     "output_type": "execute_result"
    }
   ],
   "source": [
    "# Obtener la forma del arreglo\n",
    "\n",
    "matriz_de_enteros.shape"
   ]
  },
  {
   "cell_type": "code",
   "execution_count": 21,
   "id": "54e34d3c",
   "metadata": {
    "execution": {
     "iopub.execute_input": "2021-09-19T04:30:09.383706Z",
     "iopub.status.busy": "2021-09-19T04:30:09.383189Z",
     "iopub.status.idle": "2021-09-19T04:30:09.387969Z",
     "shell.execute_reply": "2021-09-19T04:30:09.387113Z"
    }
   },
   "outputs": [
    {
     "name": "stdout",
     "output_type": "stream",
     "text": [
      "enteros: [ 3  6  9 12]\n"
     ]
    },
    {
     "data": {
      "text/plain": [
       "array([[ 3,  6],\n",
       "       [ 9, 12]])"
      ]
     },
     "execution_count": 21,
     "metadata": {},
     "output_type": "execute_result"
    }
   ],
   "source": [
    "# Modificar la forma de un arreglo\n",
    "\n",
    "enteros = np.array([3, 6, 9, 12])\n",
    "print(f\"enteros: {enteros}\")\n",
    "np.reshape(enteros, (2, 2))"
   ]
  },
  {
   "cell_type": "code",
   "execution_count": 22,
   "id": "7435c83b",
   "metadata": {
    "execution": {
     "iopub.execute_input": "2021-09-19T04:30:09.392236Z",
     "iopub.status.busy": "2021-09-19T04:30:09.391708Z",
     "iopub.status.idle": "2021-09-19T04:30:09.393808Z",
     "shell.execute_reply": "2021-09-19T04:30:09.394279Z"
    }
   },
   "outputs": [
    {
     "data": {
      "text/plain": [
       "array([[1., 1.],\n",
       "       [1., 1.]])"
      ]
     },
     "execution_count": 22,
     "metadata": {},
     "output_type": "execute_result"
    }
   ],
   "source": [
    "# Aplanar un arreglo\n",
    "\n",
    "a = np.ones((2, 2))\n",
    "a"
   ]
  },
  {
   "cell_type": "code",
   "execution_count": 23,
   "id": "f65c4aa8",
   "metadata": {
    "execution": {
     "iopub.execute_input": "2021-09-19T04:30:09.398933Z",
     "iopub.status.busy": "2021-09-19T04:30:09.398399Z",
     "iopub.status.idle": "2021-09-19T04:30:09.401008Z",
     "shell.execute_reply": "2021-09-19T04:30:09.400619Z"
    }
   },
   "outputs": [
    {
     "data": {
      "text/plain": [
       "array([1., 1., 1., 1.])"
      ]
     },
     "execution_count": 23,
     "metadata": {},
     "output_type": "execute_result"
    }
   ],
   "source": [
    "a.flatten()"
   ]
  },
  {
   "cell_type": "code",
   "execution_count": 24,
   "id": "f20e1df1",
   "metadata": {
    "execution": {
     "iopub.execute_input": "2021-09-19T04:30:09.404699Z",
     "iopub.status.busy": "2021-09-19T04:30:09.404174Z",
     "iopub.status.idle": "2021-09-19T04:30:09.406158Z",
     "shell.execute_reply": "2021-09-19T04:30:09.406481Z"
    },
    "lines_to_next_cell": 2
   },
   "outputs": [
    {
     "data": {
      "text/plain": [
       "array([[1., 1.],\n",
       "       [1., 1.]])"
      ]
     },
     "execution_count": 24,
     "metadata": {},
     "output_type": "execute_result"
    }
   ],
   "source": [
    "a"
   ]
  },
  {
   "cell_type": "markdown",
   "id": "28e1b144",
   "metadata": {},
   "source": [
    "### Combinación de arreglos (Stacking)"
   ]
  },
  {
   "cell_type": "code",
   "execution_count": 25,
   "id": "62ef0f14",
   "metadata": {
    "execution": {
     "iopub.execute_input": "2021-09-19T04:30:09.410345Z",
     "iopub.status.busy": "2021-09-19T04:30:09.409936Z",
     "iopub.status.idle": "2021-09-19T04:30:09.412813Z",
     "shell.execute_reply": "2021-09-19T04:30:09.412313Z"
    }
   },
   "outputs": [
    {
     "data": {
      "text/plain": [
       "array([0, 1, 2, 3, 4])"
      ]
     },
     "execution_count": 25,
     "metadata": {},
     "output_type": "execute_result"
    }
   ],
   "source": [
    "# Los arreglos se pueden combinar verticalmente (se incrementa la cantidad de filas)\n",
    "\n",
    "a = np.arange(0, 5)\n",
    "a"
   ]
  },
  {
   "cell_type": "code",
   "execution_count": 26,
   "id": "6e5a04f3",
   "metadata": {
    "execution": {
     "iopub.execute_input": "2021-09-19T04:30:09.416724Z",
     "iopub.status.busy": "2021-09-19T04:30:09.416257Z",
     "iopub.status.idle": "2021-09-19T04:30:09.418284Z",
     "shell.execute_reply": "2021-09-19T04:30:09.418756Z"
    }
   },
   "outputs": [
    {
     "data": {
      "text/plain": [
       "array([5, 6, 7, 8, 9])"
      ]
     },
     "execution_count": 26,
     "metadata": {},
     "output_type": "execute_result"
    }
   ],
   "source": [
    "b = np.arange(5, 10)\n",
    "b"
   ]
  },
  {
   "cell_type": "code",
   "execution_count": 27,
   "id": "2929490c",
   "metadata": {
    "execution": {
     "iopub.execute_input": "2021-09-19T04:30:09.423166Z",
     "iopub.status.busy": "2021-09-19T04:30:09.422658Z",
     "iopub.status.idle": "2021-09-19T04:30:09.425355Z",
     "shell.execute_reply": "2021-09-19T04:30:09.424892Z"
    }
   },
   "outputs": [
    {
     "data": {
      "text/plain": [
       "array([[0, 1, 2, 3, 4],\n",
       "       [5, 6, 7, 8, 9]])"
      ]
     },
     "execution_count": 27,
     "metadata": {},
     "output_type": "execute_result"
    }
   ],
   "source": [
    "combinados_verticalmente = np.vstack((a, b))\n",
    "combinados_verticalmente"
   ]
  },
  {
   "cell_type": "code",
   "execution_count": 28,
   "id": "51f5a12a",
   "metadata": {
    "execution": {
     "iopub.execute_input": "2021-09-19T04:30:09.429662Z",
     "iopub.status.busy": "2021-09-19T04:30:09.429128Z",
     "iopub.status.idle": "2021-09-19T04:30:09.431939Z",
     "shell.execute_reply": "2021-09-19T04:30:09.431537Z"
    }
   },
   "outputs": [
    {
     "data": {
      "text/plain": [
       "array([0, 1, 2, 3, 4, 5, 6, 7, 8, 9])"
      ]
     },
     "execution_count": 28,
     "metadata": {},
     "output_type": "execute_result"
    }
   ],
   "source": [
    "# También se pueden combinar horizontalmente (se incrementa la cantidad de columnas)\n",
    "\n",
    "combinados_horizontalmente = np.hstack((a, b))\n",
    "combinados_horizontalmente"
   ]
  },
  {
   "cell_type": "markdown",
   "id": "18e59666",
   "metadata": {},
   "source": [
    "### Operaciones matemáticas"
   ]
  },
  {
   "cell_type": "code",
   "execution_count": 29,
   "id": "950767f1",
   "metadata": {
    "execution": {
     "iopub.execute_input": "2021-09-19T04:30:09.436424Z",
     "iopub.status.busy": "2021-09-19T04:30:09.435855Z",
     "iopub.status.idle": "2021-09-19T04:30:09.437878Z",
     "shell.execute_reply": "2021-09-19T04:30:09.438693Z"
    }
   },
   "outputs": [
    {
     "data": {
      "text/plain": [
       "array([3, 4, 5, 6])"
      ]
     },
     "execution_count": 29,
     "metadata": {},
     "output_type": "execute_result"
    }
   ],
   "source": [
    "a = np.array([1, 2, 3, 4])\n",
    "\n",
    "a + 2"
   ]
  },
  {
   "cell_type": "code",
   "execution_count": 30,
   "id": "651e18ae",
   "metadata": {
    "execution": {
     "iopub.execute_input": "2021-09-19T04:30:09.443024Z",
     "iopub.status.busy": "2021-09-19T04:30:09.442449Z",
     "iopub.status.idle": "2021-09-19T04:30:09.444572Z",
     "shell.execute_reply": "2021-09-19T04:30:09.444989Z"
    }
   },
   "outputs": [
    {
     "data": {
      "text/plain": [
       "array([ 1,  4,  9, 16])"
      ]
     },
     "execution_count": 30,
     "metadata": {},
     "output_type": "execute_result"
    }
   ],
   "source": [
    "a ** 2"
   ]
  },
  {
   "cell_type": "code",
   "execution_count": 31,
   "id": "225304ce",
   "metadata": {
    "execution": {
     "iopub.execute_input": "2021-09-19T04:30:09.450058Z",
     "iopub.status.busy": "2021-09-19T04:30:09.449379Z",
     "iopub.status.idle": "2021-09-19T04:30:09.452283Z",
     "shell.execute_reply": "2021-09-19T04:30:09.452700Z"
    }
   },
   "outputs": [
    {
     "name": "stdout",
     "output_type": "stream",
     "text": [
      "b: [1. 1. 1. 1.]\n"
     ]
    },
    {
     "data": {
      "text/plain": [
       "array([2., 3., 4., 5.])"
      ]
     },
     "execution_count": 31,
     "metadata": {},
     "output_type": "execute_result"
    }
   ],
   "source": [
    "b = np.ones(4)\n",
    "print(f\"b: {b}\")\n",
    "a + b"
   ]
  },
  {
   "cell_type": "markdown",
   "id": "a9def6ca",
   "metadata": {},
   "source": [
    "### Estadística"
   ]
  },
  {
   "cell_type": "code",
   "execution_count": 32,
   "id": "c9523502",
   "metadata": {
    "execution": {
     "iopub.execute_input": "2021-09-19T04:30:09.457664Z",
     "iopub.status.busy": "2021-09-19T04:30:09.457128Z",
     "iopub.status.idle": "2021-09-19T04:30:09.459389Z",
     "shell.execute_reply": "2021-09-19T04:30:09.459848Z"
    }
   },
   "outputs": [
    {
     "data": {
      "text/plain": [
       "1"
      ]
     },
     "execution_count": 32,
     "metadata": {},
     "output_type": "execute_result"
    }
   ],
   "source": [
    "a = np.array([[5, 2, 1, 8], [26, 4, 17, 9]])\n",
    "\n",
    "np.min(a)"
   ]
  },
  {
   "cell_type": "code",
   "execution_count": 33,
   "id": "b0e67175",
   "metadata": {
    "execution": {
     "iopub.execute_input": "2021-09-19T04:30:09.464308Z",
     "iopub.status.busy": "2021-09-19T04:30:09.463762Z",
     "iopub.status.idle": "2021-09-19T04:30:09.465724Z",
     "shell.execute_reply": "2021-09-19T04:30:09.466112Z"
    }
   },
   "outputs": [
    {
     "data": {
      "text/plain": [
       "26"
      ]
     },
     "execution_count": 33,
     "metadata": {},
     "output_type": "execute_result"
    }
   ],
   "source": [
    "np.max(a)"
   ]
  },
  {
   "cell_type": "code",
   "execution_count": 34,
   "id": "bf2d7f56",
   "metadata": {
    "execution": {
     "iopub.execute_input": "2021-09-19T04:30:09.470158Z",
     "iopub.status.busy": "2021-09-19T04:30:09.469583Z",
     "iopub.status.idle": "2021-09-19T04:30:09.472331Z",
     "shell.execute_reply": "2021-09-19T04:30:09.472787Z"
    }
   },
   "outputs": [
    {
     "data": {
      "text/plain": [
       "72"
      ]
     },
     "execution_count": 34,
     "metadata": {},
     "output_type": "execute_result"
    }
   ],
   "source": [
    "np.sum(a)"
   ]
  },
  {
   "cell_type": "markdown",
   "id": "6dad1241",
   "metadata": {},
   "source": [
    "### Más magia"
   ]
  },
  {
   "cell_type": "code",
   "execution_count": 35,
   "id": "8102f294",
   "metadata": {
    "execution": {
     "iopub.execute_input": "2021-09-19T04:30:09.477953Z",
     "iopub.status.busy": "2021-09-19T04:30:09.477403Z",
     "iopub.status.idle": "2021-09-19T04:30:09.480264Z",
     "shell.execute_reply": "2021-09-19T04:30:09.480734Z"
    }
   },
   "outputs": [
    {
     "data": {
      "text/plain": [
       "array([[False, False, False,  True],\n",
       "       [ True, False,  True,  True]])"
      ]
     },
     "execution_count": 35,
     "metadata": {},
     "output_type": "execute_result"
    }
   ],
   "source": [
    "a = np.array([[5, 2, 1, 8], [26, 4, 17, 9]])\n",
    "\n",
    "a > 5"
   ]
  },
  {
   "cell_type": "code",
   "execution_count": 36,
   "id": "6dc9d9fe",
   "metadata": {
    "execution": {
     "iopub.execute_input": "2021-09-19T04:30:09.485279Z",
     "iopub.status.busy": "2021-09-19T04:30:09.484716Z",
     "iopub.status.idle": "2021-09-19T04:30:09.488875Z",
     "shell.execute_reply": "2021-09-19T04:30:09.489439Z"
    }
   },
   "outputs": [
    {
     "data": {
      "text/plain": [
       "array([ 8, 26, 17,  9])"
      ]
     },
     "execution_count": 36,
     "metadata": {},
     "output_type": "execute_result"
    }
   ],
   "source": [
    "a[a > 5]"
   ]
  },
  {
   "cell_type": "markdown",
   "id": "f3b0f003",
   "metadata": {},
   "source": [
    "### Broadcasting"
   ]
  },
  {
   "cell_type": "markdown",
   "id": "5029d9b7",
   "metadata": {},
   "source": [
    "Permite realizar operaciones entre dos numpy arrays de distintas dimensiones.\n",
    "Para lograr esto, las dimensiones de los mismos deben ser compatibles. Dos dimensiones son compatibles cuando:\n",
    "1. Son iguales\n",
    "2. Alguna de las dos es 1"
   ]
  },
  {
   "cell_type": "code",
   "execution_count": 37,
   "id": "88cd3e22",
   "metadata": {
    "execution": {
     "iopub.execute_input": "2021-09-19T04:30:09.495093Z",
     "iopub.status.busy": "2021-09-19T04:30:09.494118Z",
     "iopub.status.idle": "2021-09-19T04:30:09.496586Z",
     "shell.execute_reply": "2021-09-19T04:30:09.497002Z"
    }
   },
   "outputs": [
    {
     "data": {
      "text/plain": [
       "array([[ 5,  2,  1,  8],\n",
       "       [26,  4, 17,  9]])"
      ]
     },
     "execution_count": 37,
     "metadata": {},
     "output_type": "execute_result"
    }
   ],
   "source": [
    "a = np.array([[5, 2, 1, 8], [26, 4, 17, 9]])\n",
    "a"
   ]
  },
  {
   "cell_type": "code",
   "execution_count": 38,
   "id": "bcadc0d5",
   "metadata": {
    "execution": {
     "iopub.execute_input": "2021-09-19T04:30:09.502375Z",
     "iopub.status.busy": "2021-09-19T04:30:09.501677Z",
     "iopub.status.idle": "2021-09-19T04:30:09.504128Z",
     "shell.execute_reply": "2021-09-19T04:30:09.504595Z"
    }
   },
   "outputs": [
    {
     "name": "stdout",
     "output_type": "stream",
     "text": [
      "a: (2, 4)\n",
      "b: (4,)\n",
      "\n",
      "a + b:\n",
      " [[10  4  2 16]\n",
      " [31  6 18 17]]\n"
     ]
    }
   ],
   "source": [
    "# Armamos un array que tenga la misma cantidad de columnas que a\n",
    "b = np.array([5, 2, 1, 8])\n",
    "print(f\"a: {a.shape}\")\n",
    "print(f\"b: {b.shape}\")\n",
    "# a + b\n",
    "print()\n",
    "print(f\"a + b:\\n {a + b}\")"
   ]
  },
  {
   "cell_type": "code",
   "execution_count": 39,
   "id": "c60297cc",
   "metadata": {
    "execution": {
     "iopub.execute_input": "2021-09-19T04:30:09.508672Z",
     "iopub.status.busy": "2021-09-19T04:30:09.508157Z",
     "iopub.status.idle": "2021-09-19T04:30:09.585924Z",
     "shell.execute_reply": "2021-09-19T04:30:09.586384Z"
    },
    "tags": [
     "raises-exception"
    ]
   },
   "outputs": [
    {
     "name": "stdout",
     "output_type": "stream",
     "text": [
      "a: (2, 4)\n",
      "b: (3,)\n"
     ]
    },
    {
     "ename": "ValueError",
     "evalue": "operands could not be broadcast together with shapes (2,4) (3,) ",
     "output_type": "error",
     "traceback": [
      "\u001b[0;31m---------------------------------------------------------------------------\u001b[0m",
      "\u001b[0;31mValueError\u001b[0m                                Traceback (most recent call last)",
      "\u001b[0;32m/tmp/ipykernel_1931/261865458.py\u001b[0m in \u001b[0;36m<module>\u001b[0;34m\u001b[0m\n\u001b[1;32m      3\u001b[0m \u001b[0mprint\u001b[0m\u001b[0;34m(\u001b[0m\u001b[0;34mf\"a: {a.shape}\"\u001b[0m\u001b[0;34m)\u001b[0m\u001b[0;34m\u001b[0m\u001b[0;34m\u001b[0m\u001b[0m\n\u001b[1;32m      4\u001b[0m \u001b[0mprint\u001b[0m\u001b[0;34m(\u001b[0m\u001b[0;34mf\"b: {b.shape}\"\u001b[0m\u001b[0;34m)\u001b[0m\u001b[0;34m\u001b[0m\u001b[0;34m\u001b[0m\u001b[0m\n\u001b[0;32m----> 5\u001b[0;31m \u001b[0ma\u001b[0m \u001b[0;34m+\u001b[0m \u001b[0mb\u001b[0m\u001b[0;34m\u001b[0m\u001b[0;34m\u001b[0m\u001b[0m\n\u001b[0m",
      "\u001b[0;31mValueError\u001b[0m: operands could not be broadcast together with shapes (2,4) (3,) "
     ]
    }
   ],
   "source": [
    "# Armamos un array que tenga distinta cantidad de filas y columnas que a\n",
    "b = np.array([5, 1, 8])\n",
    "print(f\"a: {a.shape}\")\n",
    "print(f\"b: {b.shape}\")\n",
    "a + b"
   ]
  },
  {
   "cell_type": "code",
   "execution_count": 40,
   "id": "a10922e2",
   "metadata": {
    "execution": {
     "iopub.execute_input": "2021-09-19T04:30:09.593732Z",
     "iopub.status.busy": "2021-09-19T04:30:09.592804Z",
     "iopub.status.idle": "2021-09-19T04:30:09.596122Z",
     "shell.execute_reply": "2021-09-19T04:30:09.595681Z"
    }
   },
   "outputs": [
    {
     "name": "stdout",
     "output_type": "stream",
     "text": [
      "a: (2, 4)\n",
      "b: (2, 1)\n"
     ]
    },
    {
     "data": {
      "text/plain": [
       "array([[ 7,  4,  3, 10],\n",
       "       [27,  5, 18, 10]])"
      ]
     },
     "execution_count": 40,
     "metadata": {},
     "output_type": "execute_result"
    }
   ],
   "source": [
    "# Armamos un array que tenga la misma cantidad de filas que a\n",
    "b = np.array([[2], [1]])\n",
    "print(f\"a: {a.shape}\")\n",
    "print(f\"b: {b.shape}\")\n",
    "a + b"
   ]
  },
  {
   "cell_type": "code",
   "execution_count": 41,
   "id": "05fdbad3",
   "metadata": {
    "execution": {
     "iopub.execute_input": "2021-09-19T04:30:09.600326Z",
     "iopub.status.busy": "2021-09-19T04:30:09.599811Z",
     "iopub.status.idle": "2021-09-19T04:30:09.602096Z",
     "shell.execute_reply": "2021-09-19T04:30:09.602561Z"
    }
   },
   "outputs": [
    {
     "data": {
      "text/plain": [
       "array([[ 9,  6,  5, 12],\n",
       "       [30,  8, 21, 13]])"
      ]
     },
     "execution_count": 41,
     "metadata": {},
     "output_type": "execute_result"
    }
   ],
   "source": [
    "# Si b es un entero\n",
    "b = 4\n",
    "a + b"
   ]
  },
  {
   "cell_type": "code",
   "execution_count": null,
   "id": "68aca7f6",
   "metadata": {},
   "outputs": [],
   "source": []
  }
 ],
 "metadata": {
  "jupytext": {
   "encoding": "# -*- coding: utf-8 -*-",
   "formats": "ipynb,py:light"
  },
  "kernelspec": {
   "display_name": "Python 3",
   "language": "python",
   "name": "python3"
  },
  "language_info": {
   "codemirror_mode": {
    "name": "ipython",
    "version": 3
   },
   "file_extension": ".py",
   "mimetype": "text/x-python",
   "name": "python",
   "nbconvert_exporter": "python",
   "pygments_lexer": "ipython3",
   "version": "3.7.12"
  }
 },
 "nbformat": 4,
 "nbformat_minor": 5
}
