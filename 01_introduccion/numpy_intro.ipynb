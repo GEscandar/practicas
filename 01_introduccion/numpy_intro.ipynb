{
 "cells": [
  {
   "cell_type": "markdown",
   "id": "26a3e6f1",
   "metadata": {},
   "source": [
    "## Clase 1 - Introducción a Numpy\n",
    "\n",
    "Numpy es una biblioteca para Python que facilita el manejo de arreglos multidimensionales y ofrece varias herramientas para trabajar con ellos. Muchas de las bibliotecas de Python que son ampliamente usadas hoy en día, como pandas, están construidas sobre numpy.\n",
    "\n",
    "### Listas de Python vs arreglos de Numpy\n",
    "\n",
    "A primera vista, un arreglo de numpy puede resultar idéntico a una lista de python, pero a medida que la cantidad de datos comienza a incrementar, los arreglos de numpy terminan ofreciendo un manejo más eficiente de la memoria.\n",
    "\n",
    "Para comenzar, vamos a crear un arreglo de numpy:"
   ]
  },
  {
   "cell_type": "code",
   "execution_count": 1,
   "id": "3aaa014f",
   "metadata": {
    "execution": {
     "iopub.execute_input": "2021-09-09T19:57:40.115697Z",
     "iopub.status.busy": "2021-09-09T19:57:40.115051Z",
     "iopub.status.idle": "2021-09-09T19:57:40.256348Z",
     "shell.execute_reply": "2021-09-09T19:57:40.256778Z"
    }
   },
   "outputs": [
    {
     "data": {
      "text/plain": [
       "array([1, 2, 3, 4])"
      ]
     },
     "execution_count": 1,
     "metadata": {},
     "output_type": "execute_result"
    }
   ],
   "source": [
    "import numpy as np\n",
    "\n",
    "np.array([1, 2, 3, 4])"
   ]
  },
  {
   "cell_type": "markdown",
   "id": "11479bfe",
   "metadata": {},
   "source": [
    "Los arreglos pueden ser también multidimensionales:"
   ]
  },
  {
   "cell_type": "code",
   "execution_count": 2,
   "id": "1ff6a694",
   "metadata": {
    "execution": {
     "iopub.execute_input": "2021-09-09T19:57:40.261901Z",
     "iopub.status.busy": "2021-09-09T19:57:40.261382Z",
     "iopub.status.idle": "2021-09-09T19:57:40.266324Z",
     "shell.execute_reply": "2021-09-09T19:57:40.265851Z"
    }
   },
   "outputs": [
    {
     "data": {
      "text/plain": [
       "array([[1, 2, 3, 4],\n",
       "       [5, 6, 7, 8]])"
      ]
     },
     "execution_count": 2,
     "metadata": {},
     "output_type": "execute_result"
    }
   ],
   "source": [
    "np.array([[1, 2, 3, 4], [5, 6, 7, 8]])"
   ]
  },
  {
   "cell_type": "markdown",
   "id": "28403d0d",
   "metadata": {},
   "source": [
    "Es importante tener en cuenta que un arreglo de numpy tiene un tipo fijo de datos, entonces si se quiere agregar un dato de un tipo diferente al de la mayoría, este va a ser modificado para adaptarse al resto"
   ]
  },
  {
   "cell_type": "code",
   "execution_count": 3,
   "id": "e08458d8",
   "metadata": {
    "execution": {
     "iopub.execute_input": "2021-09-09T19:57:40.270300Z",
     "iopub.status.busy": "2021-09-09T19:57:40.269807Z",
     "iopub.status.idle": "2021-09-09T19:57:40.272810Z",
     "shell.execute_reply": "2021-09-09T19:57:40.272398Z"
    }
   },
   "outputs": [],
   "source": [
    "enteros = np.array([1, 2, 3, 4])"
   ]
  },
  {
   "cell_type": "markdown",
   "id": "0fe6449b",
   "metadata": {},
   "source": [
    "Agrego un elemento de tipo flotante en la posición 1"
   ]
  },
  {
   "cell_type": "code",
   "execution_count": 4,
   "id": "bc671572",
   "metadata": {
    "execution": {
     "iopub.execute_input": "2021-09-09T19:57:40.276843Z",
     "iopub.status.busy": "2021-09-09T19:57:40.276358Z",
     "iopub.status.idle": "2021-09-09T19:57:40.279246Z",
     "shell.execute_reply": "2021-09-09T19:57:40.278812Z"
    }
   },
   "outputs": [
    {
     "data": {
      "text/plain": [
       "array([1, 8, 3, 4])"
      ]
     },
     "execution_count": 4,
     "metadata": {},
     "output_type": "execute_result"
    }
   ],
   "source": [
    "enteros[1] = 8.4727\n",
    "enteros"
   ]
  },
  {
   "cell_type": "markdown",
   "id": "3497bf9c",
   "metadata": {},
   "source": [
    "Numpy también nos permite crear arreglos con valores aleatorios del 0 al 1.\n",
    "Basta con pasarle las dimensiones del arreglo que queremos crear."
   ]
  },
  {
   "cell_type": "code",
   "execution_count": 5,
   "id": "06551578",
   "metadata": {
    "execution": {
     "iopub.execute_input": "2021-09-09T19:57:40.283674Z",
     "iopub.status.busy": "2021-09-09T19:57:40.283198Z",
     "iopub.status.idle": "2021-09-09T19:57:40.285809Z",
     "shell.execute_reply": "2021-09-09T19:57:40.285394Z"
    }
   },
   "outputs": [
    {
     "data": {
      "text/plain": [
       "array([[0.13968387, 0.47850639, 0.3867494 ],\n",
       "       [0.19672573, 0.39192227, 0.00450627]])"
      ]
     },
     "execution_count": 5,
     "metadata": {},
     "output_type": "execute_result"
    }
   ],
   "source": [
    "np.random.rand(2, 3)"
   ]
  },
  {
   "cell_type": "markdown",
   "id": "d6fdd257",
   "metadata": {},
   "source": [
    "## Slicing\n",
    "\n",
    "De la misma forma que con las listas de python, pueden obtenerse slices de los arreglos de numpy"
   ]
  },
  {
   "cell_type": "code",
   "execution_count": 6,
   "id": "8e7d0b53",
   "metadata": {
    "execution": {
     "iopub.execute_input": "2021-09-09T19:57:40.289973Z",
     "iopub.status.busy": "2021-09-09T19:57:40.289505Z",
     "iopub.status.idle": "2021-09-09T19:57:40.291733Z",
     "shell.execute_reply": "2021-09-09T19:57:40.292121Z"
    },
    "lines_to_next_cell": 2
   },
   "outputs": [
    {
     "data": {
      "text/plain": [
       "array([1, 8])"
      ]
     },
     "execution_count": 6,
     "metadata": {},
     "output_type": "execute_result"
    }
   ],
   "source": [
    "enteros[:2]"
   ]
  },
  {
   "cell_type": "code",
   "execution_count": 7,
   "id": "9f9f5e52",
   "metadata": {
    "execution": {
     "iopub.execute_input": "2021-09-09T19:57:40.297602Z",
     "iopub.status.busy": "2021-09-09T19:57:40.297113Z",
     "iopub.status.idle": "2021-09-09T19:57:40.299086Z",
     "shell.execute_reply": "2021-09-09T19:57:40.299451Z"
    }
   },
   "outputs": [
    {
     "name": "stdout",
     "output_type": "stream",
     "text": [
      "Original: \n",
      "[[ 1  2  3  4]\n",
      " [ 5  6  7  8]\n",
      " [ 9 10 11 12]]\n",
      "\n",
      "Recortada: \n",
      "[[1 2 3]\n",
      " [5 6 7]]\n"
     ]
    }
   ],
   "source": [
    "matriz_de_enteros = np.array([[1, 2, 3, 4], [5, 6, 7, 8], [9, 10, 11, 12]])\n",
    "\n",
    "print('Original: ')\n",
    "print(matriz_de_enteros)\n",
    "\n",
    "print()\n",
    "\n",
    "print('Recortada: ')\n",
    "print(matriz_de_enteros[:2, :3])"
   ]
  },
  {
   "cell_type": "code",
   "execution_count": 8,
   "id": "aa20069a",
   "metadata": {
    "execution": {
     "iopub.execute_input": "2021-09-09T19:57:40.303764Z",
     "iopub.status.busy": "2021-09-09T19:57:40.303287Z",
     "iopub.status.idle": "2021-09-09T19:57:40.306235Z",
     "shell.execute_reply": "2021-09-09T19:57:40.305800Z"
    }
   },
   "outputs": [
    {
     "data": {
      "text/plain": [
       "array([[[ 0,  1,  2,  3,  4],\n",
       "        [ 5,  6,  7,  8,  9],\n",
       "        [10, 11, 12, 13, 14]],\n",
       "\n",
       "       [[15, 16, 17, 18, 19],\n",
       "        [20, 21, 22, 23, 24],\n",
       "        [25, 26, 27, 28, 29]],\n",
       "\n",
       "       [[30, 31, 32, 33, 34],\n",
       "        [35, 36, 37, 38, 39],\n",
       "        [40, 41, 42, 43, 44]]])"
      ]
     },
     "execution_count": 8,
     "metadata": {},
     "output_type": "execute_result"
    }
   ],
   "source": [
    "# 3D\n",
    "# arange() genera valores de un intervalo pasado por parámetro\n",
    "# reshape() modifica la forma del numpy array\n",
    "\n",
    "x = np.arange(45).reshape(3, 3, 5)\n",
    "x"
   ]
  },
  {
   "cell_type": "code",
   "execution_count": 9,
   "id": "67940f40",
   "metadata": {
    "execution": {
     "iopub.execute_input": "2021-09-09T19:57:40.310457Z",
     "iopub.status.busy": "2021-09-09T19:57:40.309966Z",
     "iopub.status.idle": "2021-09-09T19:57:40.311915Z",
     "shell.execute_reply": "2021-09-09T19:57:40.312302Z"
    }
   },
   "outputs": [
    {
     "data": {
      "text/plain": [
       "array([[ 0,  1,  2,  3,  4],\n",
       "       [ 5,  6,  7,  8,  9],\n",
       "       [10, 11, 12, 13, 14]])"
      ]
     },
     "execution_count": 9,
     "metadata": {},
     "output_type": "execute_result"
    }
   ],
   "source": [
    "x[0]"
   ]
  },
  {
   "cell_type": "code",
   "execution_count": 10,
   "id": "e5d512dc",
   "metadata": {
    "execution": {
     "iopub.execute_input": "2021-09-09T19:57:40.316448Z",
     "iopub.status.busy": "2021-09-09T19:57:40.315955Z",
     "iopub.status.idle": "2021-09-09T19:57:40.317919Z",
     "shell.execute_reply": "2021-09-09T19:57:40.318307Z"
    }
   },
   "outputs": [
    {
     "data": {
      "text/plain": [
       "array([5, 6, 7, 8, 9])"
      ]
     },
     "execution_count": 10,
     "metadata": {},
     "output_type": "execute_result"
    }
   ],
   "source": [
    "x[0][1]"
   ]
  },
  {
   "cell_type": "code",
   "execution_count": 11,
   "id": "fa055597",
   "metadata": {
    "execution": {
     "iopub.execute_input": "2021-09-09T19:57:40.322504Z",
     "iopub.status.busy": "2021-09-09T19:57:40.320214Z",
     "iopub.status.idle": "2021-09-09T19:57:40.324427Z",
     "shell.execute_reply": "2021-09-09T19:57:40.324815Z"
    }
   },
   "outputs": [
    {
     "data": {
      "text/plain": [
       "7"
      ]
     },
     "execution_count": 11,
     "metadata": {},
     "output_type": "execute_result"
    }
   ],
   "source": [
    "x[0][1][2]"
   ]
  },
  {
   "cell_type": "markdown",
   "id": "646a76e8",
   "metadata": {},
   "source": [
    "\n",
    "¿Cómo conseguimos estos valores? ([fuente](https://towardsdatascience.com/indexing-and-slicing-of-1d-2d-and-3d-arrays-in-numpy-e731afff0bbe))\n",
    "\n",
    "![title](img/matrix.png)"
   ]
  },
  {
   "cell_type": "code",
   "execution_count": 12,
   "id": "536e1c33",
   "metadata": {
    "execution": {
     "iopub.execute_input": "2021-09-09T19:57:40.329999Z",
     "iopub.status.busy": "2021-09-09T19:57:40.329279Z",
     "iopub.status.idle": "2021-09-09T19:57:40.331847Z",
     "shell.execute_reply": "2021-09-09T19:57:40.332234Z"
    }
   },
   "outputs": [
    {
     "data": {
      "text/plain": [
       "array([[[16, 17, 18],\n",
       "        [21, 22, 23]],\n",
       "\n",
       "       [[31, 32, 33],\n",
       "        [36, 37, 38]]])"
      ]
     },
     "execution_count": 12,
     "metadata": {},
     "output_type": "execute_result"
    }
   ],
   "source": [
    "x[1:, 0:2, 1:4]"
   ]
  },
  {
   "cell_type": "markdown",
   "id": "ca476f57",
   "metadata": {},
   "source": [
    "### Copia de arreglos"
   ]
  },
  {
   "cell_type": "code",
   "execution_count": 13,
   "id": "019b55a3",
   "metadata": {
    "execution": {
     "iopub.execute_input": "2021-09-09T19:57:40.336725Z",
     "iopub.status.busy": "2021-09-09T19:57:40.336222Z",
     "iopub.status.idle": "2021-09-09T19:57:40.338265Z",
     "shell.execute_reply": "2021-09-09T19:57:40.338636Z"
    }
   },
   "outputs": [
    {
     "data": {
      "text/plain": [
       "array([1, 2, 3, 4])"
      ]
     },
     "execution_count": 13,
     "metadata": {},
     "output_type": "execute_result"
    }
   ],
   "source": [
    "# Los arreglos no se copian con asignación\n",
    "\n",
    "a = np.array([1, 2, 3, 4])\n",
    "b = a\n",
    "b"
   ]
  },
  {
   "cell_type": "code",
   "execution_count": 14,
   "id": "ee1c50ea",
   "metadata": {
    "execution": {
     "iopub.execute_input": "2021-09-09T19:57:40.342438Z",
     "iopub.status.busy": "2021-09-09T19:57:40.341915Z",
     "iopub.status.idle": "2021-09-09T19:57:40.345160Z",
     "shell.execute_reply": "2021-09-09T19:57:40.344727Z"
    }
   },
   "outputs": [
    {
     "data": {
      "text/plain": [
       "array([ 1, 20,  3,  4])"
      ]
     },
     "execution_count": 14,
     "metadata": {},
     "output_type": "execute_result"
    }
   ],
   "source": [
    "b[1] = 20\n",
    "b"
   ]
  },
  {
   "cell_type": "code",
   "execution_count": 15,
   "id": "fdb50429",
   "metadata": {
    "execution": {
     "iopub.execute_input": "2021-09-09T19:57:40.348843Z",
     "iopub.status.busy": "2021-09-09T19:57:40.348360Z",
     "iopub.status.idle": "2021-09-09T19:57:40.351266Z",
     "shell.execute_reply": "2021-09-09T19:57:40.350840Z"
    }
   },
   "outputs": [
    {
     "data": {
      "text/plain": [
       "array([ 1, 20,  3,  4])"
      ]
     },
     "execution_count": 15,
     "metadata": {},
     "output_type": "execute_result"
    }
   ],
   "source": [
    "a"
   ]
  },
  {
   "cell_type": "code",
   "execution_count": 16,
   "id": "74e3aa80",
   "metadata": {
    "execution": {
     "iopub.execute_input": "2021-09-09T19:57:40.356466Z",
     "iopub.status.busy": "2021-09-09T19:57:40.355960Z",
     "iopub.status.idle": "2021-09-09T19:57:40.357731Z",
     "shell.execute_reply": "2021-09-09T19:57:40.358115Z"
    }
   },
   "outputs": [
    {
     "data": {
      "text/plain": [
       "array([ 1, 20,  3,  4])"
      ]
     },
     "execution_count": 16,
     "metadata": {},
     "output_type": "execute_result"
    }
   ],
   "source": [
    "# Para copiar un arreglo a otra variable debemos usar copy()\n",
    "\n",
    "a = np.array([1, 2, 3, 4])\n",
    "b = a.copy()\n",
    "b[1] = 20\n",
    "b"
   ]
  },
  {
   "cell_type": "code",
   "execution_count": 17,
   "id": "4f34eb3b",
   "metadata": {
    "execution": {
     "iopub.execute_input": "2021-09-09T19:57:40.361961Z",
     "iopub.status.busy": "2021-09-09T19:57:40.361485Z",
     "iopub.status.idle": "2021-09-09T19:57:40.363875Z",
     "shell.execute_reply": "2021-09-09T19:57:40.364245Z"
    }
   },
   "outputs": [
    {
     "data": {
      "text/plain": [
       "array([1, 2, 3, 4])"
      ]
     },
     "execution_count": 17,
     "metadata": {},
     "output_type": "execute_result"
    }
   ],
   "source": [
    "a"
   ]
  },
  {
   "cell_type": "markdown",
   "id": "fa2b02e7",
   "metadata": {},
   "source": [
    "### Modificación de dimensiones"
   ]
  },
  {
   "cell_type": "markdown",
   "id": "4adf9b4a",
   "metadata": {},
   "source": [
    "Existen varias operaciones para cambiar la forma de un arreglo de numpy"
   ]
  },
  {
   "cell_type": "code",
   "execution_count": 18,
   "id": "3c30039e",
   "metadata": {
    "execution": {
     "iopub.execute_input": "2021-09-09T19:57:40.368254Z",
     "iopub.status.busy": "2021-09-09T19:57:40.367763Z",
     "iopub.status.idle": "2021-09-09T19:57:40.370373Z",
     "shell.execute_reply": "2021-09-09T19:57:40.369947Z"
    }
   },
   "outputs": [
    {
     "data": {
      "text/plain": [
       "array([[ 1,  2,  3,  4],\n",
       "       [ 5,  6,  7,  8],\n",
       "       [ 9, 10, 11, 12]])"
      ]
     },
     "execution_count": 18,
     "metadata": {},
     "output_type": "execute_result"
    }
   ],
   "source": [
    "matriz_de_enteros"
   ]
  },
  {
   "cell_type": "code",
   "execution_count": 19,
   "id": "e3a0714a",
   "metadata": {
    "execution": {
     "iopub.execute_input": "2021-09-09T19:57:40.373896Z",
     "iopub.status.busy": "2021-09-09T19:57:40.373423Z",
     "iopub.status.idle": "2021-09-09T19:57:40.376380Z",
     "shell.execute_reply": "2021-09-09T19:57:40.375964Z"
    }
   },
   "outputs": [
    {
     "data": {
      "text/plain": [
       "2"
      ]
     },
     "execution_count": 19,
     "metadata": {},
     "output_type": "execute_result"
    }
   ],
   "source": [
    "# Obtener las dimensiones del arreglo\n",
    "\n",
    "matriz_de_enteros.ndim"
   ]
  },
  {
   "cell_type": "code",
   "execution_count": 20,
   "id": "c904d7b0",
   "metadata": {
    "execution": {
     "iopub.execute_input": "2021-09-09T19:57:40.380148Z",
     "iopub.status.busy": "2021-09-09T19:57:40.379672Z",
     "iopub.status.idle": "2021-09-09T19:57:40.382467Z",
     "shell.execute_reply": "2021-09-09T19:57:40.382050Z"
    }
   },
   "outputs": [
    {
     "data": {
      "text/plain": [
       "(3, 4)"
      ]
     },
     "execution_count": 20,
     "metadata": {},
     "output_type": "execute_result"
    }
   ],
   "source": [
    "# Obtener la forma del arreglo\n",
    "\n",
    "matriz_de_enteros.shape"
   ]
  },
  {
   "cell_type": "code",
   "execution_count": 21,
   "id": "b4703532",
   "metadata": {
    "execution": {
     "iopub.execute_input": "2021-09-09T19:57:40.386846Z",
     "iopub.status.busy": "2021-09-09T19:57:40.385765Z",
     "iopub.status.idle": "2021-09-09T19:57:40.389908Z",
     "shell.execute_reply": "2021-09-09T19:57:40.389485Z"
    }
   },
   "outputs": [
    {
     "name": "stdout",
     "output_type": "stream",
     "text": [
      "enteros: [ 3  6  9 12]\n"
     ]
    },
    {
     "data": {
      "text/plain": [
       "array([[ 3,  6],\n",
       "       [ 9, 12]])"
      ]
     },
     "execution_count": 21,
     "metadata": {},
     "output_type": "execute_result"
    }
   ],
   "source": [
    "# Modificar la forma de un arreglo\n",
    "\n",
    "enteros = np.array([3, 6, 9, 12])\n",
    "print(f\"enteros: {enteros}\")\n",
    "np.reshape(enteros, (2, 2))"
   ]
  },
  {
   "cell_type": "code",
   "execution_count": 22,
   "id": "1fa8445f",
   "metadata": {
    "execution": {
     "iopub.execute_input": "2021-09-09T19:57:40.394078Z",
     "iopub.status.busy": "2021-09-09T19:57:40.393572Z",
     "iopub.status.idle": "2021-09-09T19:57:40.396187Z",
     "shell.execute_reply": "2021-09-09T19:57:40.395751Z"
    }
   },
   "outputs": [
    {
     "data": {
      "text/plain": [
       "array([[1., 1.],\n",
       "       [1., 1.]])"
      ]
     },
     "execution_count": 22,
     "metadata": {},
     "output_type": "execute_result"
    }
   ],
   "source": [
    "# Aplanar un arreglo\n",
    "\n",
    "a = np.ones((2, 2))\n",
    "a"
   ]
  },
  {
   "cell_type": "code",
   "execution_count": 23,
   "id": "c0173cc6",
   "metadata": {
    "execution": {
     "iopub.execute_input": "2021-09-09T19:57:40.400265Z",
     "iopub.status.busy": "2021-09-09T19:57:40.399758Z",
     "iopub.status.idle": "2021-09-09T19:57:40.402439Z",
     "shell.execute_reply": "2021-09-09T19:57:40.402010Z"
    }
   },
   "outputs": [
    {
     "data": {
      "text/plain": [
       "array([1., 1., 1., 1.])"
      ]
     },
     "execution_count": 23,
     "metadata": {},
     "output_type": "execute_result"
    }
   ],
   "source": [
    "a.flatten()"
   ]
  },
  {
   "cell_type": "code",
   "execution_count": 24,
   "id": "d2f8b238",
   "metadata": {
    "execution": {
     "iopub.execute_input": "2021-09-09T19:57:40.406905Z",
     "iopub.status.busy": "2021-09-09T19:57:40.406408Z",
     "iopub.status.idle": "2021-09-09T19:57:40.408773Z",
     "shell.execute_reply": "2021-09-09T19:57:40.409185Z"
    },
    "lines_to_next_cell": 2
   },
   "outputs": [
    {
     "data": {
      "text/plain": [
       "array([[1., 1.],\n",
       "       [1., 1.]])"
      ]
     },
     "execution_count": 24,
     "metadata": {},
     "output_type": "execute_result"
    }
   ],
   "source": [
    "a"
   ]
  },
  {
   "cell_type": "markdown",
   "id": "471bef05",
   "metadata": {},
   "source": [
    "### Combinación de arreglos (Stacking)"
   ]
  },
  {
   "cell_type": "code",
   "execution_count": 25,
   "id": "b8481da0",
   "metadata": {
    "execution": {
     "iopub.execute_input": "2021-09-09T19:57:40.414104Z",
     "iopub.status.busy": "2021-09-09T19:57:40.413388Z",
     "iopub.status.idle": "2021-09-09T19:57:40.415769Z",
     "shell.execute_reply": "2021-09-09T19:57:40.416155Z"
    }
   },
   "outputs": [
    {
     "data": {
      "text/plain": [
       "array([0, 1, 2, 3, 4])"
      ]
     },
     "execution_count": 25,
     "metadata": {},
     "output_type": "execute_result"
    }
   ],
   "source": [
    "# Los arreglos se pueden combinar verticalmente (se incrementa la cantidad de filas)\n",
    "\n",
    "a = np.arange(0, 5)\n",
    "a"
   ]
  },
  {
   "cell_type": "code",
   "execution_count": 26,
   "id": "d75c1fc0",
   "metadata": {
    "execution": {
     "iopub.execute_input": "2021-09-09T19:57:40.420731Z",
     "iopub.status.busy": "2021-09-09T19:57:40.420231Z",
     "iopub.status.idle": "2021-09-09T19:57:40.422620Z",
     "shell.execute_reply": "2021-09-09T19:57:40.423009Z"
    }
   },
   "outputs": [
    {
     "data": {
      "text/plain": [
       "array([5, 6, 7, 8, 9])"
      ]
     },
     "execution_count": 26,
     "metadata": {},
     "output_type": "execute_result"
    }
   ],
   "source": [
    "b = np.arange(5, 10)\n",
    "b"
   ]
  },
  {
   "cell_type": "code",
   "execution_count": 27,
   "id": "29bbbe49",
   "metadata": {
    "execution": {
     "iopub.execute_input": "2021-09-09T19:57:40.427343Z",
     "iopub.status.busy": "2021-09-09T19:57:40.426851Z",
     "iopub.status.idle": "2021-09-09T19:57:40.428767Z",
     "shell.execute_reply": "2021-09-09T19:57:40.429156Z"
    }
   },
   "outputs": [
    {
     "data": {
      "text/plain": [
       "array([[0, 1, 2, 3, 4],\n",
       "       [5, 6, 7, 8, 9]])"
      ]
     },
     "execution_count": 27,
     "metadata": {},
     "output_type": "execute_result"
    }
   ],
   "source": [
    "combinados_verticalmente = np.vstack((a, b))\n",
    "combinados_verticalmente"
   ]
  },
  {
   "cell_type": "code",
   "execution_count": 28,
   "id": "711c3a63",
   "metadata": {
    "execution": {
     "iopub.execute_input": "2021-09-09T19:57:40.433481Z",
     "iopub.status.busy": "2021-09-09T19:57:40.432948Z",
     "iopub.status.idle": "2021-09-09T19:57:40.435187Z",
     "shell.execute_reply": "2021-09-09T19:57:40.435563Z"
    }
   },
   "outputs": [
    {
     "data": {
      "text/plain": [
       "array([0, 1, 2, 3, 4, 5, 6, 7, 8, 9])"
      ]
     },
     "execution_count": 28,
     "metadata": {},
     "output_type": "execute_result"
    }
   ],
   "source": [
    "# También se pueden combinar horizontalmente (se incrementa la cantidad de columnas)\n",
    "\n",
    "combinados_horizontalmente = np.hstack((a, b))\n",
    "combinados_horizontalmente"
   ]
  },
  {
   "cell_type": "markdown",
   "id": "60c4cc8e",
   "metadata": {},
   "source": [
    "### Operaciones matemáticas"
   ]
  },
  {
   "cell_type": "code",
   "execution_count": 29,
   "id": "9e595acb",
   "metadata": {
    "execution": {
     "iopub.execute_input": "2021-09-09T19:57:40.440413Z",
     "iopub.status.busy": "2021-09-09T19:57:40.439913Z",
     "iopub.status.idle": "2021-09-09T19:57:40.442321Z",
     "shell.execute_reply": "2021-09-09T19:57:40.442708Z"
    }
   },
   "outputs": [
    {
     "data": {
      "text/plain": [
       "array([3, 4, 5, 6])"
      ]
     },
     "execution_count": 29,
     "metadata": {},
     "output_type": "execute_result"
    }
   ],
   "source": [
    "a = np.array([1, 2, 3, 4])\n",
    "\n",
    "a + 2"
   ]
  },
  {
   "cell_type": "code",
   "execution_count": 30,
   "id": "621a5d43",
   "metadata": {
    "execution": {
     "iopub.execute_input": "2021-09-09T19:57:40.447190Z",
     "iopub.status.busy": "2021-09-09T19:57:40.446689Z",
     "iopub.status.idle": "2021-09-09T19:57:40.449101Z",
     "shell.execute_reply": "2021-09-09T19:57:40.449497Z"
    }
   },
   "outputs": [
    {
     "data": {
      "text/plain": [
       "array([ 1,  4,  9, 16])"
      ]
     },
     "execution_count": 30,
     "metadata": {},
     "output_type": "execute_result"
    }
   ],
   "source": [
    "a ** 2"
   ]
  },
  {
   "cell_type": "code",
   "execution_count": 31,
   "id": "35859455",
   "metadata": {
    "execution": {
     "iopub.execute_input": "2021-09-09T19:57:40.454207Z",
     "iopub.status.busy": "2021-09-09T19:57:40.453588Z",
     "iopub.status.idle": "2021-09-09T19:57:40.456168Z",
     "shell.execute_reply": "2021-09-09T19:57:40.456553Z"
    }
   },
   "outputs": [
    {
     "name": "stdout",
     "output_type": "stream",
     "text": [
      "b: [1. 1. 1. 1.]\n"
     ]
    },
    {
     "data": {
      "text/plain": [
       "array([2., 3., 4., 5.])"
      ]
     },
     "execution_count": 31,
     "metadata": {},
     "output_type": "execute_result"
    }
   ],
   "source": [
    "b = np.ones(4)\n",
    "print(f\"b: {b}\")\n",
    "a + b"
   ]
  },
  {
   "cell_type": "markdown",
   "id": "3ac10d50",
   "metadata": {},
   "source": [
    "### Estadística"
   ]
  },
  {
   "cell_type": "code",
   "execution_count": 32,
   "id": "edd3ae99",
   "metadata": {
    "execution": {
     "iopub.execute_input": "2021-09-09T19:57:40.461019Z",
     "iopub.status.busy": "2021-09-09T19:57:40.460497Z",
     "iopub.status.idle": "2021-09-09T19:57:40.463143Z",
     "shell.execute_reply": "2021-09-09T19:57:40.462715Z"
    }
   },
   "outputs": [
    {
     "data": {
      "text/plain": [
       "1"
      ]
     },
     "execution_count": 32,
     "metadata": {},
     "output_type": "execute_result"
    }
   ],
   "source": [
    "a = np.array([[5, 2, 1, 8], [26, 4, 17, 9]])\n",
    "\n",
    "np.min(a)"
   ]
  },
  {
   "cell_type": "code",
   "execution_count": 33,
   "id": "39e2fef6",
   "metadata": {
    "execution": {
     "iopub.execute_input": "2021-09-09T19:57:40.467040Z",
     "iopub.status.busy": "2021-09-09T19:57:40.466547Z",
     "iopub.status.idle": "2021-09-09T19:57:40.468743Z",
     "shell.execute_reply": "2021-09-09T19:57:40.469130Z"
    }
   },
   "outputs": [
    {
     "data": {
      "text/plain": [
       "26"
      ]
     },
     "execution_count": 33,
     "metadata": {},
     "output_type": "execute_result"
    }
   ],
   "source": [
    "np.max(a)"
   ]
  },
  {
   "cell_type": "code",
   "execution_count": 34,
   "id": "977dd629",
   "metadata": {
    "execution": {
     "iopub.execute_input": "2021-09-09T19:57:40.473660Z",
     "iopub.status.busy": "2021-09-09T19:57:40.473169Z",
     "iopub.status.idle": "2021-09-09T19:57:40.475125Z",
     "shell.execute_reply": "2021-09-09T19:57:40.475508Z"
    }
   },
   "outputs": [
    {
     "data": {
      "text/plain": [
       "72"
      ]
     },
     "execution_count": 34,
     "metadata": {},
     "output_type": "execute_result"
    }
   ],
   "source": [
    "np.sum(a)"
   ]
  },
  {
   "cell_type": "markdown",
   "id": "02e0d482",
   "metadata": {},
   "source": [
    "### Más magia"
   ]
  },
  {
   "cell_type": "code",
   "execution_count": 35,
   "id": "b5ead82f",
   "metadata": {
    "execution": {
     "iopub.execute_input": "2021-09-09T19:57:40.479978Z",
     "iopub.status.busy": "2021-09-09T19:57:40.479502Z",
     "iopub.status.idle": "2021-09-09T19:57:40.484145Z",
     "shell.execute_reply": "2021-09-09T19:57:40.483705Z"
    }
   },
   "outputs": [
    {
     "data": {
      "text/plain": [
       "array([[False, False, False,  True],\n",
       "       [ True, False,  True,  True]])"
      ]
     },
     "execution_count": 35,
     "metadata": {},
     "output_type": "execute_result"
    }
   ],
   "source": [
    "a = np.array([[5, 2, 1, 8], [26, 4, 17, 9]])\n",
    "\n",
    "a > 5"
   ]
  },
  {
   "cell_type": "code",
   "execution_count": 36,
   "id": "d7e4296f",
   "metadata": {
    "execution": {
     "iopub.execute_input": "2021-09-09T19:57:40.488193Z",
     "iopub.status.busy": "2021-09-09T19:57:40.487720Z",
     "iopub.status.idle": "2021-09-09T19:57:40.491588Z",
     "shell.execute_reply": "2021-09-09T19:57:40.491174Z"
    }
   },
   "outputs": [
    {
     "data": {
      "text/plain": [
       "array([ 8, 26, 17,  9])"
      ]
     },
     "execution_count": 36,
     "metadata": {},
     "output_type": "execute_result"
    }
   ],
   "source": [
    "a[a > 5]"
   ]
  },
  {
   "cell_type": "markdown",
   "id": "9faeaac8",
   "metadata": {},
   "source": [
    "### Broadcasting"
   ]
  },
  {
   "cell_type": "markdown",
   "id": "623660ab",
   "metadata": {},
   "source": [
    "Permite realizar operaciones entre dos numpy arrays de distintas dimensiones.\n",
    "Para lograr esto, las dimensiones de los mismos deben ser compatibles. Dos dimensiones son compatibles cuando:\n",
    "1. Son iguales\n",
    "2. Alguna de las dos es 1"
   ]
  },
  {
   "cell_type": "code",
   "execution_count": 37,
   "id": "b8fa0dee",
   "metadata": {
    "execution": {
     "iopub.execute_input": "2021-09-09T19:57:40.496002Z",
     "iopub.status.busy": "2021-09-09T19:57:40.495528Z",
     "iopub.status.idle": "2021-09-09T19:57:40.499365Z",
     "shell.execute_reply": "2021-09-09T19:57:40.498943Z"
    }
   },
   "outputs": [
    {
     "data": {
      "text/plain": [
       "array([[ 5,  2,  1,  8],\n",
       "       [26,  4, 17,  9]])"
      ]
     },
     "execution_count": 37,
     "metadata": {},
     "output_type": "execute_result"
    }
   ],
   "source": [
    "a = np.array([[5, 2, 1, 8], [26, 4, 17, 9]])\n",
    "a"
   ]
  },
  {
   "cell_type": "code",
   "execution_count": 38,
   "id": "d636bb34",
   "metadata": {
    "execution": {
     "iopub.execute_input": "2021-09-09T19:57:40.503478Z",
     "iopub.status.busy": "2021-09-09T19:57:40.502992Z",
     "iopub.status.idle": "2021-09-09T19:57:40.506718Z",
     "shell.execute_reply": "2021-09-09T19:57:40.506268Z"
    }
   },
   "outputs": [
    {
     "name": "stdout",
     "output_type": "stream",
     "text": [
      "a: (2, 4)\n",
      "b: (4,)\n",
      "\n",
      "a + b:\n",
      " [[10  4  2 16]\n",
      " [31  6 18 17]]\n"
     ]
    }
   ],
   "source": [
    "# Armamos un array que tenga la misma cantidad de columnas que a\n",
    "b = np.array([5, 2, 1, 8])\n",
    "print(f\"a: {a.shape}\")\n",
    "print(f\"b: {b.shape}\")\n",
    "# a + b\n",
    "print()\n",
    "print(f\"a + b:\\n {a + b}\")"
   ]
  },
  {
   "cell_type": "code",
   "execution_count": 39,
   "id": "e96dcbcd",
   "metadata": {
    "execution": {
     "iopub.execute_input": "2021-09-09T19:57:40.510713Z",
     "iopub.status.busy": "2021-09-09T19:57:40.509574Z",
     "iopub.status.idle": "2021-09-09T19:57:40.580922Z",
     "shell.execute_reply": "2021-09-09T19:57:40.580075Z"
    },
    "tags": [
     "raises-exception"
    ]
   },
   "outputs": [
    {
     "name": "stdout",
     "output_type": "stream",
     "text": [
      "a: (2, 4)\n",
      "b: (3,)\n"
     ]
    },
    {
     "ename": "ValueError",
     "evalue": "operands could not be broadcast together with shapes (2,4) (3,) ",
     "output_type": "error",
     "traceback": [
      "\u001b[0;31m---------------------------------------------------------------------------\u001b[0m",
      "\u001b[0;31mValueError\u001b[0m                                Traceback (most recent call last)",
      "\u001b[0;32m/tmp/ipykernel_1878/261865458.py\u001b[0m in \u001b[0;36m<module>\u001b[0;34m\u001b[0m\n\u001b[1;32m      3\u001b[0m \u001b[0mprint\u001b[0m\u001b[0;34m(\u001b[0m\u001b[0;34mf\"a: {a.shape}\"\u001b[0m\u001b[0;34m)\u001b[0m\u001b[0;34m\u001b[0m\u001b[0;34m\u001b[0m\u001b[0m\n\u001b[1;32m      4\u001b[0m \u001b[0mprint\u001b[0m\u001b[0;34m(\u001b[0m\u001b[0;34mf\"b: {b.shape}\"\u001b[0m\u001b[0;34m)\u001b[0m\u001b[0;34m\u001b[0m\u001b[0;34m\u001b[0m\u001b[0m\n\u001b[0;32m----> 5\u001b[0;31m \u001b[0ma\u001b[0m \u001b[0;34m+\u001b[0m \u001b[0mb\u001b[0m\u001b[0;34m\u001b[0m\u001b[0;34m\u001b[0m\u001b[0m\n\u001b[0m",
      "\u001b[0;31mValueError\u001b[0m: operands could not be broadcast together with shapes (2,4) (3,) "
     ]
    }
   ],
   "source": [
    "# Armamos un array que tenga distinta cantidad de filas y columnas que a\n",
    "b = np.array([5, 1, 8])\n",
    "print(f\"a: {a.shape}\")\n",
    "print(f\"b: {b.shape}\")\n",
    "a + b"
   ]
  },
  {
   "cell_type": "code",
   "execution_count": 40,
   "id": "9cedd253",
   "metadata": {
    "execution": {
     "iopub.execute_input": "2021-09-09T19:57:40.586517Z",
     "iopub.status.busy": "2021-09-09T19:57:40.585535Z",
     "iopub.status.idle": "2021-09-09T19:57:40.591109Z",
     "shell.execute_reply": "2021-09-09T19:57:40.591508Z"
    }
   },
   "outputs": [
    {
     "name": "stdout",
     "output_type": "stream",
     "text": [
      "a: (2, 4)\n",
      "b: (2, 1)\n"
     ]
    },
    {
     "data": {
      "text/plain": [
       "array([[ 7,  4,  3, 10],\n",
       "       [27,  5, 18, 10]])"
      ]
     },
     "execution_count": 40,
     "metadata": {},
     "output_type": "execute_result"
    }
   ],
   "source": [
    "# Armamos un array que tenga la misma cantidad de filas que a\n",
    "b = np.array([[2], [1]])\n",
    "print(f\"a: {a.shape}\")\n",
    "print(f\"b: {b.shape}\")\n",
    "a + b"
   ]
  },
  {
   "cell_type": "code",
   "execution_count": 41,
   "id": "76c54b54",
   "metadata": {
    "execution": {
     "iopub.execute_input": "2021-09-09T19:57:40.595820Z",
     "iopub.status.busy": "2021-09-09T19:57:40.595338Z",
     "iopub.status.idle": "2021-09-09T19:57:40.600207Z",
     "shell.execute_reply": "2021-09-09T19:57:40.599791Z"
    }
   },
   "outputs": [
    {
     "data": {
      "text/plain": [
       "array([[ 9,  6,  5, 12],\n",
       "       [30,  8, 21, 13]])"
      ]
     },
     "execution_count": 41,
     "metadata": {},
     "output_type": "execute_result"
    }
   ],
   "source": [
    "# Si b es un entero\n",
    "b = 4\n",
    "a + b"
   ]
  },
  {
   "cell_type": "code",
   "execution_count": null,
   "id": "62dd6ce9",
   "metadata": {},
   "outputs": [],
   "source": []
  }
 ],
 "metadata": {
  "jupytext": {
   "encoding": "# -*- coding: utf-8 -*-",
   "formats": "ipynb,py:light"
  },
  "kernelspec": {
   "display_name": "Python 3",
   "language": "python",
   "name": "python3"
  },
  "language_info": {
   "codemirror_mode": {
    "name": "ipython",
    "version": 3
   },
   "file_extension": ".py",
   "mimetype": "text/x-python",
   "name": "python",
   "nbconvert_exporter": "python",
   "pygments_lexer": "ipython3",
   "version": "3.7.11"
  }
 },
 "nbformat": 4,
 "nbformat_minor": 5
}
