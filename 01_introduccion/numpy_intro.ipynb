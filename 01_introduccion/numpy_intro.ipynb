{
 "cells": [
  {
   "cell_type": "markdown",
   "id": "anticipated-listing",
   "metadata": {},
   "source": [
    "## Clase 1 - Introducción a Numpy\n",
    "\n",
    "Numpy es una biblioteca para Python que facilita el manejo de arreglos multidimensionales y ofrece varias herramientas para trabajar con ellos. Muchas de las bibliotecas de Python que son ampliamente usadas hoy en día, como pandas, están construidas sobre numpy.\n",
    "\n",
    "### Listas de Python vs arreglos de Numpy\n",
    "\n",
    "A primera vista, un arreglo de numpy puede resultar idéntico a una lista de python, pero a medida que la cantidad de datos comienza a incrementar, los arreglos de numpy terminan ofreciendo un manejo más eficiente de la memoria.\n",
    "\n",
    "Para comenzar, vamos a crear un arreglo de numpy:"
   ]
  },
  {
   "cell_type": "code",
   "execution_count": 1,
   "id": "herbal-mumbai",
   "metadata": {
    "execution": {
     "iopub.execute_input": "2021-02-03T16:41:23.128993Z",
     "iopub.status.busy": "2021-02-03T16:41:23.128099Z",
     "iopub.status.idle": "2021-02-03T16:41:23.359921Z",
     "shell.execute_reply": "2021-02-03T16:41:23.359211Z"
    }
   },
   "outputs": [
    {
     "data": {
      "text/plain": [
       "array([1, 2, 3, 4])"
      ]
     },
     "execution_count": 1,
     "metadata": {},
     "output_type": "execute_result"
    }
   ],
   "source": [
    "import numpy as np\n",
    "\n",
    "np.array([1, 2, 3, 4])"
   ]
  },
  {
   "cell_type": "markdown",
   "id": "physical-intermediate",
   "metadata": {},
   "source": [
    "Los arreglos pueden ser también multidimensionales:"
   ]
  },
  {
   "cell_type": "code",
   "execution_count": 2,
   "id": "voluntary-respect",
   "metadata": {
    "execution": {
     "iopub.execute_input": "2021-02-03T16:41:23.367157Z",
     "iopub.status.busy": "2021-02-03T16:41:23.365784Z",
     "iopub.status.idle": "2021-02-03T16:41:23.369668Z",
     "shell.execute_reply": "2021-02-03T16:41:23.369094Z"
    }
   },
   "outputs": [
    {
     "data": {
      "text/plain": [
       "array([[1, 2, 3, 4],\n",
       "       [5, 6, 7, 8]])"
      ]
     },
     "execution_count": 1,
     "metadata": {},
     "output_type": "execute_result"
    }
   ],
   "source": [
    "np.array([[1, 2, 3, 4], [5, 6, 7, 8]])"
   ]
  },
  {
   "cell_type": "markdown",
   "id": "raising-appointment",
   "metadata": {},
   "source": [
    "Es importante tener en cuenta que un arreglo de numpy tiene un tipo fijo de datos, entonces si se quiere agregar un dato de un tipo diferente al de la mayoría, este va a ser modificado para adaptarse al resto"
   ]
  },
  {
   "cell_type": "code",
   "execution_count": 3,
   "id": "sonic-fitness",
   "metadata": {
    "execution": {
     "iopub.execute_input": "2021-02-03T16:41:23.375072Z",
     "iopub.status.busy": "2021-02-03T16:41:23.373480Z",
     "iopub.status.idle": "2021-02-03T16:41:23.375767Z",
     "shell.execute_reply": "2021-02-03T16:41:23.376341Z"
    }
   },
   "outputs": [],
   "source": [
    "enteros = np.array([1, 2, 3, 4])"
   ]
  },
  {
   "cell_type": "markdown",
   "id": "spiritual-transition",
   "metadata": {},
   "source": [
    "Agrego un elemento de tipo flotante en la posición 1"
   ]
  },
  {
   "cell_type": "code",
   "execution_count": 4,
   "id": "closed-omega",
   "metadata": {
    "execution": {
     "iopub.execute_input": "2021-02-03T16:41:23.382740Z",
     "iopub.status.busy": "2021-02-03T16:41:23.381569Z",
     "iopub.status.idle": "2021-02-03T16:41:23.385558Z",
     "shell.execute_reply": "2021-02-03T16:41:23.384947Z"
    }
   },
   "outputs": [
    {
     "data": {
      "text/plain": [
       "array([1, 8, 3, 4])"
      ]
     },
     "execution_count": 1,
     "metadata": {},
     "output_type": "execute_result"
    }
   ],
   "source": [
    "enteros[1] = 8.4727\n",
    "enteros"
   ]
  },
  {
   "cell_type": "markdown",
   "id": "primary-journal",
   "metadata": {},
   "source": [
    "Numpy también nos permite crear arreglos con valores aleatorios del 0 al 1.\n",
    "Basta con pasarle las dimensiones del arreglo que queremos crear."
   ]
  },
  {
   "cell_type": "code",
   "execution_count": 5,
   "id": "frequent-senegal",
   "metadata": {
    "execution": {
     "iopub.execute_input": "2021-02-03T16:41:23.392012Z",
     "iopub.status.busy": "2021-02-03T16:41:23.390635Z",
     "iopub.status.idle": "2021-02-03T16:41:23.394778Z",
     "shell.execute_reply": "2021-02-03T16:41:23.394089Z"
    }
   },
   "outputs": [
    {
     "data": {
      "text/plain": [
       "array([[0.78351852, 0.00310864, 0.31022993],\n",
       "       [0.00496612, 0.29987631, 0.30779719]])"
      ]
     },
     "execution_count": 1,
     "metadata": {},
     "output_type": "execute_result"
    }
   ],
   "source": [
    "np.random.rand(2, 3)"
   ]
  },
  {
   "cell_type": "markdown",
   "id": "expressed-majority",
   "metadata": {},
   "source": [
    "## Slicing\n",
    "\n",
    "De la misma forma que con las listas de python, pueden obtenerse slices de los arreglos de numpy"
   ]
  },
  {
   "cell_type": "code",
   "execution_count": 6,
   "id": "black-zealand",
   "metadata": {
    "execution": {
     "iopub.execute_input": "2021-02-03T16:41:23.401177Z",
     "iopub.status.busy": "2021-02-03T16:41:23.399850Z",
     "iopub.status.idle": "2021-02-03T16:41:23.404183Z",
     "shell.execute_reply": "2021-02-03T16:41:23.403226Z"
    },
    "lines_to_next_cell": 2
   },
   "outputs": [
    {
     "data": {
      "text/plain": [
       "array([1, 8])"
      ]
     },
     "execution_count": 1,
     "metadata": {},
     "output_type": "execute_result"
    }
   ],
   "source": [
    "enteros[:2]"
   ]
  },
  {
   "cell_type": "code",
   "execution_count": 7,
   "id": "handed-authorization",
   "metadata": {
    "execution": {
     "iopub.execute_input": "2021-02-03T16:41:23.413716Z",
     "iopub.status.busy": "2021-02-03T16:41:23.411902Z",
     "iopub.status.idle": "2021-02-03T16:41:23.416097Z",
     "shell.execute_reply": "2021-02-03T16:41:23.415511Z"
    }
   },
   "outputs": [
    {
     "name": "stdout",
     "output_type": "stream",
     "text": [
      "Original: \n",
      "[[ 1  2  3  4]\n",
      " [ 5  6  7  8]\n",
      " [ 9 10 11 12]]\n",
      "\n",
      "Recortada: \n",
      "[[1 2 3]\n",
      " [5 6 7]]\n"
     ]
    }
   ],
   "source": [
    "matriz_de_enteros = np.array([[1, 2, 3, 4], [5, 6, 7, 8], [9, 10, 11, 12]])\n",
    "\n",
    "print('Original: ')\n",
    "print(matriz_de_enteros)\n",
    "\n",
    "print()\n",
    "\n",
    "print('Recortada: ')\n",
    "print(matriz_de_enteros[:2, :3])"
   ]
  },
  {
   "cell_type": "code",
   "execution_count": 8,
   "id": "divided-excess",
   "metadata": {
    "execution": {
     "iopub.execute_input": "2021-02-03T16:41:23.423095Z",
     "iopub.status.busy": "2021-02-03T16:41:23.421662Z",
     "iopub.status.idle": "2021-02-03T16:41:23.425062Z",
     "shell.execute_reply": "2021-02-03T16:41:23.425748Z"
    }
   },
   "outputs": [
    {
     "data": {
      "text/plain": [
       "array([[[ 0,  1,  2,  3,  4],\n",
       "        [ 5,  6,  7,  8,  9],\n",
       "        [10, 11, 12, 13, 14]],\n",
       "\n",
       "       [[15, 16, 17, 18, 19],\n",
       "        [20, 21, 22, 23, 24],\n",
       "        [25, 26, 27, 28, 29]],\n",
       "\n",
       "       [[30, 31, 32, 33, 34],\n",
       "        [35, 36, 37, 38, 39],\n",
       "        [40, 41, 42, 43, 44]]])"
      ]
     },
     "execution_count": 1,
     "metadata": {},
     "output_type": "execute_result"
    }
   ],
   "source": [
    "# 3D\n",
    "x = np.arange(45).reshape(3, 3, 5)\n",
    "x"
   ]
  },
  {
   "cell_type": "code",
   "execution_count": 9,
   "id": "declared-taxation",
   "metadata": {
    "execution": {
     "iopub.execute_input": "2021-02-03T16:41:23.432138Z",
     "iopub.status.busy": "2021-02-03T16:41:23.430915Z",
     "iopub.status.idle": "2021-02-03T16:41:23.434394Z",
     "shell.execute_reply": "2021-02-03T16:41:23.434935Z"
    }
   },
   "outputs": [
    {
     "data": {
      "text/plain": [
       "array([[ 0,  1,  2,  3,  4],\n",
       "       [ 5,  6,  7,  8,  9],\n",
       "       [10, 11, 12, 13, 14]])"
      ]
     },
     "execution_count": 1,
     "metadata": {},
     "output_type": "execute_result"
    }
   ],
   "source": [
    "x[0]"
   ]
  },
  {
   "cell_type": "markdown",
   "id": "sexual-priority",
   "metadata": {},
   "source": [
    "\n",
    "¿Cómo conseguimos estos valores? ([fuente](https://towardsdatascience.com/indexing-and-slicing-of-1d-2d-and-3d-arrays-in-numpy-e731afff0bbe))\n",
    "\n",
    "![title](img/matrix.png)"
   ]
  },
  {
   "cell_type": "code",
   "execution_count": 10,
   "id": "sized-turkish",
   "metadata": {
    "execution": {
     "iopub.execute_input": "2021-02-03T16:41:23.442160Z",
     "iopub.status.busy": "2021-02-03T16:41:23.440211Z",
     "iopub.status.idle": "2021-02-03T16:41:23.444506Z",
     "shell.execute_reply": "2021-02-03T16:41:23.443914Z"
    }
   },
   "outputs": [
    {
     "data": {
      "text/plain": [
       "array([[[16, 17, 18],\n",
       "        [21, 22, 23]],\n",
       "\n",
       "       [[31, 32, 33],\n",
       "        [36, 37, 38]]])"
      ]
     },
     "execution_count": 1,
     "metadata": {},
     "output_type": "execute_result"
    }
   ],
   "source": [
    "x[1:, 0:2, 1:4]"
   ]
  },
  {
   "cell_type": "markdown",
   "id": "macro-wilson",
   "metadata": {},
   "source": [
    "### Copia de arreglos"
   ]
  },
  {
   "cell_type": "code",
   "execution_count": 11,
   "id": "second-shark",
   "metadata": {
    "execution": {
     "iopub.execute_input": "2021-02-03T16:41:23.451451Z",
     "iopub.status.busy": "2021-02-03T16:41:23.450059Z",
     "iopub.status.idle": "2021-02-03T16:41:23.454004Z",
     "shell.execute_reply": "2021-02-03T16:41:23.453305Z"
    }
   },
   "outputs": [
    {
     "data": {
      "text/plain": [
       "array([1, 2, 3, 4])"
      ]
     },
     "execution_count": 1,
     "metadata": {},
     "output_type": "execute_result"
    }
   ],
   "source": [
    "# Los arreglos no se copian con asignación\n",
    "\n",
    "a = np.array([1, 2, 3, 4])\n",
    "b = a\n",
    "b"
   ]
  },
  {
   "cell_type": "code",
   "execution_count": 12,
   "id": "bibliographic-aaron",
   "metadata": {
    "execution": {
     "iopub.execute_input": "2021-02-03T16:41:23.459526Z",
     "iopub.status.busy": "2021-02-03T16:41:23.458874Z",
     "iopub.status.idle": "2021-02-03T16:41:23.461239Z",
     "shell.execute_reply": "2021-02-03T16:41:23.461905Z"
    }
   },
   "outputs": [
    {
     "data": {
      "text/plain": [
       "array([ 1, 20,  3,  4])"
      ]
     },
     "execution_count": 1,
     "metadata": {},
     "output_type": "execute_result"
    }
   ],
   "source": [
    "b[1] = 20\n",
    "b"
   ]
  },
  {
   "cell_type": "code",
   "execution_count": 13,
   "id": "correct-drink",
   "metadata": {
    "execution": {
     "iopub.execute_input": "2021-02-03T16:41:23.467842Z",
     "iopub.status.busy": "2021-02-03T16:41:23.467071Z",
     "iopub.status.idle": "2021-02-03T16:41:23.469501Z",
     "shell.execute_reply": "2021-02-03T16:41:23.470105Z"
    }
   },
   "outputs": [
    {
     "data": {
      "text/plain": [
       "array([ 1, 20,  3,  4])"
      ]
     },
     "execution_count": 1,
     "metadata": {},
     "output_type": "execute_result"
    }
   ],
   "source": [
    "a"
   ]
  },
  {
   "cell_type": "code",
   "execution_count": 14,
   "id": "unexpected-neutral",
   "metadata": {
    "execution": {
     "iopub.execute_input": "2021-02-03T16:41:23.475656Z",
     "iopub.status.busy": "2021-02-03T16:41:23.474996Z",
     "iopub.status.idle": "2021-02-03T16:41:23.478292Z",
     "shell.execute_reply": "2021-02-03T16:41:23.478796Z"
    }
   },
   "outputs": [
    {
     "data": {
      "text/plain": [
       "array([ 1, 20,  3,  4])"
      ]
     },
     "execution_count": 1,
     "metadata": {},
     "output_type": "execute_result"
    }
   ],
   "source": [
    "# Para copiar un arreglo a otra variable debemos usar copy()\n",
    "\n",
    "a = np.array([1, 2, 3, 4])\n",
    "b = a.copy()\n",
    "b[1] = 20\n",
    "b"
   ]
  },
  {
   "cell_type": "code",
   "execution_count": 15,
   "id": "determined-money",
   "metadata": {
    "execution": {
     "iopub.execute_input": "2021-02-03T16:41:23.484603Z",
     "iopub.status.busy": "2021-02-03T16:41:23.483893Z",
     "iopub.status.idle": "2021-02-03T16:41:23.486355Z",
     "shell.execute_reply": "2021-02-03T16:41:23.486889Z"
    }
   },
   "outputs": [
    {
     "data": {
      "text/plain": [
       "array([1, 2, 3, 4])"
      ]
     },
     "execution_count": 1,
     "metadata": {},
     "output_type": "execute_result"
    }
   ],
   "source": [
    "a"
   ]
  },
  {
   "cell_type": "markdown",
   "id": "restricted-beverage",
   "metadata": {},
   "source": [
    "### Modificación de dimensiones"
   ]
  },
  {
   "cell_type": "markdown",
   "id": "decent-longer",
   "metadata": {},
   "source": [
    "Existen varias operaciones para cambiar la forma de un arreglo de numpy"
   ]
  },
  {
   "cell_type": "code",
   "execution_count": 16,
   "id": "legal-lodging",
   "metadata": {
    "execution": {
     "iopub.execute_input": "2021-02-03T16:41:23.491522Z",
     "iopub.status.busy": "2021-02-03T16:41:23.490889Z",
     "iopub.status.idle": "2021-02-03T16:41:23.494443Z",
     "shell.execute_reply": "2021-02-03T16:41:23.493891Z"
    }
   },
   "outputs": [
    {
     "data": {
      "text/plain": [
       "2"
      ]
     },
     "execution_count": 1,
     "metadata": {},
     "output_type": "execute_result"
    }
   ],
   "source": [
    "# Obtener las dimensiones del arreglo\n",
    "\n",
    "matriz_de_enteros.ndim"
   ]
  },
  {
   "cell_type": "code",
   "execution_count": 17,
   "id": "animal-survey",
   "metadata": {
    "execution": {
     "iopub.execute_input": "2021-02-03T16:41:23.500834Z",
     "iopub.status.busy": "2021-02-03T16:41:23.500168Z",
     "iopub.status.idle": "2021-02-03T16:41:23.503557Z",
     "shell.execute_reply": "2021-02-03T16:41:23.502890Z"
    }
   },
   "outputs": [
    {
     "data": {
      "text/plain": [
       "(3, 4)"
      ]
     },
     "execution_count": 1,
     "metadata": {},
     "output_type": "execute_result"
    }
   ],
   "source": [
    "# Obtener la forma del arreglo\n",
    "\n",
    "matriz_de_enteros.shape"
   ]
  },
  {
   "cell_type": "code",
   "execution_count": 18,
   "id": "asian-factory",
   "metadata": {
    "execution": {
     "iopub.execute_input": "2021-02-03T16:41:23.509057Z",
     "iopub.status.busy": "2021-02-03T16:41:23.508323Z",
     "iopub.status.idle": "2021-02-03T16:41:23.511498Z",
     "shell.execute_reply": "2021-02-03T16:41:23.510900Z"
    }
   },
   "outputs": [
    {
     "data": {
      "text/plain": [
       "array([[ 3,  6],\n",
       "       [ 9, 12]])"
      ]
     },
     "execution_count": 1,
     "metadata": {},
     "output_type": "execute_result"
    }
   ],
   "source": [
    "# Modificar la forma de un arreglo\n",
    "\n",
    "enteros = np.array([3, 6, 9, 12])\n",
    "np.reshape(enteros, (2, 2))"
   ]
  },
  {
   "cell_type": "code",
   "execution_count": 19,
   "id": "concrete-cooking",
   "metadata": {
    "execution": {
     "iopub.execute_input": "2021-02-03T16:41:23.516204Z",
     "iopub.status.busy": "2021-02-03T16:41:23.515555Z",
     "iopub.status.idle": "2021-02-03T16:41:23.518454Z",
     "shell.execute_reply": "2021-02-03T16:41:23.519017Z"
    }
   },
   "outputs": [
    {
     "data": {
      "text/plain": [
       "array([[1., 1.],\n",
       "       [1., 1.]])"
      ]
     },
     "execution_count": 1,
     "metadata": {},
     "output_type": "execute_result"
    }
   ],
   "source": [
    "# Aplanar un arreglo\n",
    "\n",
    "a = np.ones((2, 2))\n",
    "a"
   ]
  },
  {
   "cell_type": "code",
   "execution_count": 20,
   "id": "little-manufacturer",
   "metadata": {
    "execution": {
     "iopub.execute_input": "2021-02-03T16:41:23.524159Z",
     "iopub.status.busy": "2021-02-03T16:41:23.523396Z",
     "iopub.status.idle": "2021-02-03T16:41:23.527113Z",
     "shell.execute_reply": "2021-02-03T16:41:23.526541Z"
    }
   },
   "outputs": [
    {
     "data": {
      "text/plain": [
       "array([1., 1., 1., 1.])"
      ]
     },
     "execution_count": 1,
     "metadata": {},
     "output_type": "execute_result"
    }
   ],
   "source": [
    "a.flatten()"
   ]
  },
  {
   "cell_type": "code",
   "execution_count": 21,
   "id": "supported-james",
   "metadata": {
    "execution": {
     "iopub.execute_input": "2021-02-03T16:41:23.531862Z",
     "iopub.status.busy": "2021-02-03T16:41:23.531212Z",
     "iopub.status.idle": "2021-02-03T16:41:23.534716Z",
     "shell.execute_reply": "2021-02-03T16:41:23.534135Z"
    },
    "lines_to_next_cell": 2
   },
   "outputs": [
    {
     "data": {
      "text/plain": [
       "array([[1., 1.],\n",
       "       [1., 1.]])"
      ]
     },
     "execution_count": 1,
     "metadata": {},
     "output_type": "execute_result"
    }
   ],
   "source": [
    "a"
   ]
  },
  {
   "cell_type": "markdown",
   "id": "unlike-still",
   "metadata": {},
   "source": [
    "### Combinación de arreglos (Stacking)"
   ]
  },
  {
   "cell_type": "code",
   "execution_count": 22,
   "id": "veterinary-privacy",
   "metadata": {
    "execution": {
     "iopub.execute_input": "2021-02-03T16:41:23.539460Z",
     "iopub.status.busy": "2021-02-03T16:41:23.538874Z",
     "iopub.status.idle": "2021-02-03T16:41:23.541982Z",
     "shell.execute_reply": "2021-02-03T16:41:23.542513Z"
    }
   },
   "outputs": [
    {
     "data": {
      "text/plain": [
       "array([0, 1, 2, 3, 4])"
      ]
     },
     "execution_count": 1,
     "metadata": {},
     "output_type": "execute_result"
    }
   ],
   "source": [
    "# Los arreglos se pueden combinar verticalmente (se incrementa la cantidad de filas)\n",
    "\n",
    "a = np.arange(0, 5)\n",
    "a"
   ]
  },
  {
   "cell_type": "code",
   "execution_count": 23,
   "id": "vital-discipline",
   "metadata": {
    "execution": {
     "iopub.execute_input": "2021-02-03T16:41:23.547002Z",
     "iopub.status.busy": "2021-02-03T16:41:23.546300Z",
     "iopub.status.idle": "2021-02-03T16:41:23.549800Z",
     "shell.execute_reply": "2021-02-03T16:41:23.549185Z"
    }
   },
   "outputs": [
    {
     "data": {
      "text/plain": [
       "array([5, 6, 7, 8, 9])"
      ]
     },
     "execution_count": 1,
     "metadata": {},
     "output_type": "execute_result"
    }
   ],
   "source": [
    "b = np.arange(5, 10)\n",
    "b"
   ]
  },
  {
   "cell_type": "code",
   "execution_count": 24,
   "id": "authorized-netscape",
   "metadata": {
    "execution": {
     "iopub.execute_input": "2021-02-03T16:41:23.554871Z",
     "iopub.status.busy": "2021-02-03T16:41:23.554193Z",
     "iopub.status.idle": "2021-02-03T16:41:23.557204Z",
     "shell.execute_reply": "2021-02-03T16:41:23.557750Z"
    }
   },
   "outputs": [
    {
     "data": {
      "text/plain": [
       "array([[0, 1, 2, 3, 4],\n",
       "       [5, 6, 7, 8, 9]])"
      ]
     },
     "execution_count": 1,
     "metadata": {},
     "output_type": "execute_result"
    }
   ],
   "source": [
    "combinados_verticalmente = np.vstack((a, b))\n",
    "combinados_verticalmente"
   ]
  },
  {
   "cell_type": "code",
   "execution_count": 25,
   "id": "unable-tutorial",
   "metadata": {
    "execution": {
     "iopub.execute_input": "2021-02-03T16:41:23.564233Z",
     "iopub.status.busy": "2021-02-03T16:41:23.563558Z",
     "iopub.status.idle": "2021-02-03T16:41:23.566465Z",
     "shell.execute_reply": "2021-02-03T16:41:23.567073Z"
    }
   },
   "outputs": [
    {
     "data": {
      "text/plain": [
       "array([0, 1, 2, 3, 4, 5, 6, 7, 8, 9])"
      ]
     },
     "execution_count": 1,
     "metadata": {},
     "output_type": "execute_result"
    }
   ],
   "source": [
    "# También se pueden combinar horizontalmente (se incrementa la cantidad de columnas)\n",
    "\n",
    "combinados_horizontalmente = np.hstack((a, b))\n",
    "combinados_horizontalmente"
   ]
  },
  {
   "cell_type": "markdown",
   "id": "valuable-mineral",
   "metadata": {},
   "source": [
    "### Operaciones matemáticas"
   ]
  },
  {
   "cell_type": "code",
   "execution_count": 26,
   "id": "changing-priest",
   "metadata": {
    "execution": {
     "iopub.execute_input": "2021-02-03T16:41:23.572475Z",
     "iopub.status.busy": "2021-02-03T16:41:23.571828Z",
     "iopub.status.idle": "2021-02-03T16:41:23.575649Z",
     "shell.execute_reply": "2021-02-03T16:41:23.575062Z"
    }
   },
   "outputs": [
    {
     "data": {
      "text/plain": [
       "array([3, 4, 5, 6])"
      ]
     },
     "execution_count": 1,
     "metadata": {},
     "output_type": "execute_result"
    }
   ],
   "source": [
    "a = np.array([1, 2, 3, 4])\n",
    "\n",
    "a + 2"
   ]
  },
  {
   "cell_type": "code",
   "execution_count": 27,
   "id": "disciplinary-appearance",
   "metadata": {
    "execution": {
     "iopub.execute_input": "2021-02-03T16:41:23.580180Z",
     "iopub.status.busy": "2021-02-03T16:41:23.579546Z",
     "iopub.status.idle": "2021-02-03T16:41:23.583670Z",
     "shell.execute_reply": "2021-02-03T16:41:23.583090Z"
    }
   },
   "outputs": [
    {
     "data": {
      "text/plain": [
       "array([ 1,  4,  9, 16])"
      ]
     },
     "execution_count": 1,
     "metadata": {},
     "output_type": "execute_result"
    }
   ],
   "source": [
    "a ** 2"
   ]
  },
  {
   "cell_type": "code",
   "execution_count": 28,
   "id": "senior-comment",
   "metadata": {
    "execution": {
     "iopub.execute_input": "2021-02-03T16:41:23.588968Z",
     "iopub.status.busy": "2021-02-03T16:41:23.588234Z",
     "iopub.status.idle": "2021-02-03T16:41:23.591983Z",
     "shell.execute_reply": "2021-02-03T16:41:23.591325Z"
    }
   },
   "outputs": [
    {
     "data": {
      "text/plain": [
       "array([2., 3., 4., 5.])"
      ]
     },
     "execution_count": 1,
     "metadata": {},
     "output_type": "execute_result"
    }
   ],
   "source": [
    "b = np.ones(4)\n",
    "a + b"
   ]
  },
  {
   "cell_type": "markdown",
   "id": "boring-court",
   "metadata": {},
   "source": [
    "### Estadística"
   ]
  },
  {
   "cell_type": "code",
   "execution_count": 29,
   "id": "noticed-stuart",
   "metadata": {
    "execution": {
     "iopub.execute_input": "2021-02-03T16:41:23.596759Z",
     "iopub.status.busy": "2021-02-03T16:41:23.596116Z",
     "iopub.status.idle": "2021-02-03T16:41:23.600250Z",
     "shell.execute_reply": "2021-02-03T16:41:23.599691Z"
    }
   },
   "outputs": [
    {
     "data": {
      "text/plain": [
       "1"
      ]
     },
     "execution_count": 1,
     "metadata": {},
     "output_type": "execute_result"
    }
   ],
   "source": [
    "a = np.array([[5, 2, 1, 8], [26, 4, 17, 9]])\n",
    "\n",
    "np.min(a)"
   ]
  },
  {
   "cell_type": "code",
   "execution_count": 30,
   "id": "upset-quarter",
   "metadata": {
    "execution": {
     "iopub.execute_input": "2021-02-03T16:41:23.604761Z",
     "iopub.status.busy": "2021-02-03T16:41:23.604092Z",
     "iopub.status.idle": "2021-02-03T16:41:23.608329Z",
     "shell.execute_reply": "2021-02-03T16:41:23.607700Z"
    }
   },
   "outputs": [
    {
     "data": {
      "text/plain": [
       "26"
      ]
     },
     "execution_count": 1,
     "metadata": {},
     "output_type": "execute_result"
    }
   ],
   "source": [
    "np.max(a)"
   ]
  },
  {
   "cell_type": "code",
   "execution_count": 31,
   "id": "composite-notion",
   "metadata": {
    "execution": {
     "iopub.execute_input": "2021-02-03T16:41:23.613741Z",
     "iopub.status.busy": "2021-02-03T16:41:23.612498Z",
     "iopub.status.idle": "2021-02-03T16:41:23.616191Z",
     "shell.execute_reply": "2021-02-03T16:41:23.616751Z"
    }
   },
   "outputs": [
    {
     "data": {
      "text/plain": [
       "72"
      ]
     },
     "execution_count": 1,
     "metadata": {},
     "output_type": "execute_result"
    }
   ],
   "source": [
    "np.sum(a)"
   ]
  },
  {
   "cell_type": "markdown",
   "id": "tight-beauty",
   "metadata": {},
   "source": [
    "### Más magia"
   ]
  },
  {
   "cell_type": "code",
   "execution_count": 32,
   "id": "likely-genetics",
   "metadata": {
    "execution": {
     "iopub.execute_input": "2021-02-03T16:41:23.622227Z",
     "iopub.status.busy": "2021-02-03T16:41:23.621381Z",
     "iopub.status.idle": "2021-02-03T16:41:23.624896Z",
     "shell.execute_reply": "2021-02-03T16:41:23.625365Z"
    }
   },
   "outputs": [
    {
     "data": {
      "text/plain": [
       "array([[False, False, False,  True],\n",
       "       [ True, False,  True,  True]])"
      ]
     },
     "execution_count": 1,
     "metadata": {},
     "output_type": "execute_result"
    }
   ],
   "source": [
    "a = np.array([[5, 2, 1, 8], [26, 4, 17, 9]])\n",
    "\n",
    "a > 5"
   ]
  },
  {
   "cell_type": "code",
   "execution_count": 33,
   "id": "united-horse",
   "metadata": {
    "execution": {
     "iopub.execute_input": "2021-02-03T16:41:23.629809Z",
     "iopub.status.busy": "2021-02-03T16:41:23.629217Z",
     "iopub.status.idle": "2021-02-03T16:41:23.632535Z",
     "shell.execute_reply": "2021-02-03T16:41:23.631982Z"
    }
   },
   "outputs": [
    {
     "data": {
      "text/plain": [
       "array([ 8, 26, 17,  9])"
      ]
     },
     "execution_count": 1,
     "metadata": {},
     "output_type": "execute_result"
    }
   ],
   "source": [
    "a[a > 5]"
   ]
  },
  {
   "cell_type": "markdown",
   "id": "played-phase",
   "metadata": {},
   "source": [
    "### Broadcasting"
   ]
  },
  {
   "cell_type": "markdown",
   "id": "complete-cement",
   "metadata": {},
   "source": [
    "Permite realizar operaciones entre dos numpy arrays de distintas dimensiones.\n",
    "Para lograr esto, las dimensiones de los mismos deben ser compatibles. Dos dimensiones son compatibles cuando:\n",
    "1. Son iguales\n",
    "2. Alguna de las dos es 1"
   ]
  },
  {
   "cell_type": "code",
   "execution_count": 34,
   "id": "twelve-bradley",
   "metadata": {
    "execution": {
     "iopub.execute_input": "2021-02-03T16:41:23.638026Z",
     "iopub.status.busy": "2021-02-03T16:41:23.637299Z",
     "iopub.status.idle": "2021-02-03T16:41:23.640734Z",
     "shell.execute_reply": "2021-02-03T16:41:23.640206Z"
    }
   },
   "outputs": [
    {
     "data": {
      "text/plain": [
       "array([[ 5,  2,  1,  8],\n",
       "       [26,  4, 17,  9]])"
      ]
     },
     "execution_count": 1,
     "metadata": {},
     "output_type": "execute_result"
    }
   ],
   "source": [
    "a = np.array([[5, 2, 1, 8], [26, 4, 17, 9]])\n",
    "a"
   ]
  },
  {
   "cell_type": "code",
   "execution_count": 35,
   "id": "stuffed-anxiety",
   "metadata": {
    "execution": {
     "iopub.execute_input": "2021-02-03T16:41:23.646564Z",
     "iopub.status.busy": "2021-02-03T16:41:23.645862Z",
     "iopub.status.idle": "2021-02-03T16:41:23.649471Z",
     "shell.execute_reply": "2021-02-03T16:41:23.650102Z"
    }
   },
   "outputs": [
    {
     "name": "stdout",
     "output_type": "stream",
     "text": [
      "a: (2, 4)\n",
      "b: (4,)\n"
     ]
    },
    {
     "data": {
      "text/plain": [
       "array([[10,  4,  2, 16],\n",
       "       [31,  6, 18, 17]])"
      ]
     },
     "execution_count": 1,
     "metadata": {},
     "output_type": "execute_result"
    }
   ],
   "source": [
    "# Armamos un array que tenga la misma cantidad de columnas que a\n",
    "b = np.array([5, 2, 1, 8])\n",
    "print(f\"a: {a.shape}\")\n",
    "print(f\"b: {b.shape}\")\n",
    "a + b"
   ]
  },
  {
   "cell_type": "code",
   "execution_count": 36,
   "id": "twenty-cemetery",
   "metadata": {
    "execution": {
     "iopub.execute_input": "2021-02-03T16:41:23.655489Z",
     "iopub.status.busy": "2021-02-03T16:41:23.654719Z",
     "iopub.status.idle": "2021-02-03T16:41:23.727548Z",
     "shell.execute_reply": "2021-02-03T16:41:23.726879Z"
    },
    "tags": [
     "raises-exception"
    ]
   },
   "outputs": [
    {
     "name": "stdout",
     "output_type": "stream",
     "text": [
      "a: (2, 4)\n",
      "b: (3,)\n"
     ]
    },
    {
     "ename": "ValueError",
     "evalue": "operands could not be broadcast together with shapes (2,4) (3,) ",
     "output_type": "error",
     "traceback": [
      "\u001b[0;31m---------------------------------------------------------------------------\u001b[0m",
      "\u001b[0;31mValueError\u001b[0m                                Traceback (most recent call last)",
      "\u001b[0;32m<ipython-input-1-fe11b6ae6346>\u001b[0m in \u001b[0;36m<module>\u001b[0;34m\u001b[0m\n\u001b[1;32m      3\u001b[0m \u001b[0mprint\u001b[0m\u001b[0;34m(\u001b[0m\u001b[0;34mf\"a: {a.shape}\"\u001b[0m\u001b[0;34m)\u001b[0m\u001b[0;34m\u001b[0m\u001b[0;34m\u001b[0m\u001b[0m\n\u001b[1;32m      4\u001b[0m \u001b[0mprint\u001b[0m\u001b[0;34m(\u001b[0m\u001b[0;34mf\"b: {b.shape}\"\u001b[0m\u001b[0;34m)\u001b[0m\u001b[0;34m\u001b[0m\u001b[0;34m\u001b[0m\u001b[0m\n\u001b[0;32m----> 5\u001b[0;31m \u001b[0ma\u001b[0m \u001b[0;34m+\u001b[0m \u001b[0mb\u001b[0m\u001b[0;34m\u001b[0m\u001b[0;34m\u001b[0m\u001b[0m\n\u001b[0m",
      "\u001b[0;31mValueError\u001b[0m: operands could not be broadcast together with shapes (2,4) (3,) "
     ]
    }
   ],
   "source": [
    "# Armamos un array que tenga distinta cantidad de filas y columnas que a\n",
    "b = np.array([5, 1, 8])\n",
    "print(f\"a: {a.shape}\")\n",
    "print(f\"b: {b.shape}\")\n",
    "a + b"
   ]
  },
  {
   "cell_type": "code",
   "execution_count": 37,
   "id": "vital-provider",
   "metadata": {
    "execution": {
     "iopub.execute_input": "2021-02-03T16:41:23.832350Z",
     "iopub.status.busy": "2021-02-03T16:41:23.831301Z",
     "iopub.status.idle": "2021-02-03T16:41:23.837368Z",
     "shell.execute_reply": "2021-02-03T16:41:23.836790Z"
    }
   },
   "outputs": [
    {
     "name": "stdout",
     "output_type": "stream",
     "text": [
      "a: (2, 4)\n",
      "b: (2, 1)\n"
     ]
    },
    {
     "data": {
      "text/plain": [
       "array([[ 7,  4,  3, 10],\n",
       "       [27,  5, 18, 10]])"
      ]
     },
     "execution_count": 1,
     "metadata": {},
     "output_type": "execute_result"
    }
   ],
   "source": [
    "# Armamos un array que tenga la misma cantidad de filas que a\n",
    "b = np.array([[2], [1]])\n",
    "print(f\"a: {a.shape}\")\n",
    "print(f\"b: {b.shape}\")\n",
    "a + b"
   ]
  },
  {
   "cell_type": "code",
   "execution_count": 38,
   "id": "light-chamber",
   "metadata": {
    "execution": {
     "iopub.execute_input": "2021-02-03T16:41:23.843181Z",
     "iopub.status.busy": "2021-02-03T16:41:23.842596Z",
     "iopub.status.idle": "2021-02-03T16:41:23.846161Z",
     "shell.execute_reply": "2021-02-03T16:41:23.846679Z"
    }
   },
   "outputs": [
    {
     "data": {
      "text/plain": [
       "array([[ 9,  6,  5, 12],\n",
       "       [30,  8, 21, 13]])"
      ]
     },
     "execution_count": 1,
     "metadata": {},
     "output_type": "execute_result"
    }
   ],
   "source": [
    "b = 4\n",
    "a + b"
   ]
  }
 ],
 "metadata": {
  "jupytext": {
   "encoding": "# -*- coding: utf-8 -*-",
   "formats": "ipynb,py:light"
  },
  "kernelspec": {
   "display_name": "Python 3 (venv)",
   "language": "python",
   "name": "python3"
  },
  "language_info": {
   "codemirror_mode": {
    "name": "ipython",
    "version": 3
   },
   "file_extension": ".py",
   "mimetype": "text/x-python",
   "name": "python",
   "nbconvert_exporter": "python",
   "pygments_lexer": "ipython3",
   "version": "3.7.9"
  }
 },
 "nbformat": 4,
 "nbformat_minor": 5
}
