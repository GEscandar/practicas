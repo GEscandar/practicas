{
 "cells": [
  {
   "cell_type": "markdown",
   "id": "54a96528",
   "metadata": {},
   "source": [
    "## Clase 1 - Introducción a Numpy\n",
    "\n",
    "Numpy es una biblioteca para Python que facilita el manejo de arreglos multidimensionales y ofrece varias herramientas para trabajar con ellos. Muchas de las bibliotecas de Python que son ampliamente usadas hoy en día, como pandas, están construidas sobre numpy.\n",
    "\n",
    "### Listas de Python vs arreglos de Numpy\n",
    "\n",
    "A primera vista, un arreglo de numpy puede resultar idéntico a una lista de python, pero a medida que la cantidad de datos comienza a incrementar, los arreglos de numpy terminan ofreciendo un manejo más eficiente de la memoria.\n",
    "\n",
    "Para comenzar, vamos a crear un arreglo de numpy:"
   ]
  },
  {
   "cell_type": "code",
   "execution_count": 1,
   "id": "a893fe14",
   "metadata": {
    "execution": {
     "iopub.execute_input": "2021-09-08T22:30:05.078231Z",
     "iopub.status.busy": "2021-09-08T22:30:05.077684Z",
     "iopub.status.idle": "2021-09-08T22:30:05.196847Z",
     "shell.execute_reply": "2021-09-08T22:30:05.197562Z"
    }
   },
   "outputs": [
    {
     "data": {
      "text/plain": [
       "array([1, 2, 3, 4])"
      ]
     },
     "execution_count": 1,
     "metadata": {},
     "output_type": "execute_result"
    }
   ],
   "source": [
    "import numpy as np\n",
    "\n",
    "np.array([1, 2, 3, 4])"
   ]
  },
  {
   "cell_type": "markdown",
   "id": "e3c1e4fb",
   "metadata": {},
   "source": [
    "Los arreglos pueden ser también multidimensionales:"
   ]
  },
  {
   "cell_type": "code",
   "execution_count": 2,
   "id": "3e5beca7",
   "metadata": {
    "execution": {
     "iopub.execute_input": "2021-09-08T22:30:05.200970Z",
     "iopub.status.busy": "2021-09-08T22:30:05.199992Z",
     "iopub.status.idle": "2021-09-08T22:30:05.206701Z",
     "shell.execute_reply": "2021-09-08T22:30:05.207093Z"
    }
   },
   "outputs": [
    {
     "data": {
      "text/plain": [
       "array([[1, 2, 3, 4],\n",
       "       [5, 6, 7, 8]])"
      ]
     },
     "execution_count": 2,
     "metadata": {},
     "output_type": "execute_result"
    }
   ],
   "source": [
    "np.array([[1, 2, 3, 4], [5, 6, 7, 8]])"
   ]
  },
  {
   "cell_type": "markdown",
   "id": "3ca5bec2",
   "metadata": {},
   "source": [
    "Es importante tener en cuenta que un arreglo de numpy tiene un tipo fijo de datos, entonces si se quiere agregar un dato de un tipo diferente al de la mayoría, este va a ser modificado para adaptarse al resto"
   ]
  },
  {
   "cell_type": "code",
   "execution_count": 3,
   "id": "1ae04713",
   "metadata": {
    "execution": {
     "iopub.execute_input": "2021-09-08T22:30:05.210917Z",
     "iopub.status.busy": "2021-09-08T22:30:05.210431Z",
     "iopub.status.idle": "2021-09-08T22:30:05.212628Z",
     "shell.execute_reply": "2021-09-08T22:30:05.212217Z"
    }
   },
   "outputs": [],
   "source": [
    "enteros = np.array([1, 2, 3, 4])"
   ]
  },
  {
   "cell_type": "markdown",
   "id": "6133fb10",
   "metadata": {},
   "source": [
    "Agrego un elemento de tipo flotante en la posición 1"
   ]
  },
  {
   "cell_type": "code",
   "execution_count": 4,
   "id": "d591fef2",
   "metadata": {
    "execution": {
     "iopub.execute_input": "2021-09-08T22:30:05.216268Z",
     "iopub.status.busy": "2021-09-08T22:30:05.215799Z",
     "iopub.status.idle": "2021-09-08T22:30:05.219904Z",
     "shell.execute_reply": "2021-09-08T22:30:05.220266Z"
    }
   },
   "outputs": [
    {
     "data": {
      "text/plain": [
       "array([1, 8, 3, 4])"
      ]
     },
     "execution_count": 4,
     "metadata": {},
     "output_type": "execute_result"
    }
   ],
   "source": [
    "enteros[1] = 8.4727\n",
    "enteros"
   ]
  },
  {
   "cell_type": "markdown",
   "id": "6ca3aa63",
   "metadata": {},
   "source": [
    "Numpy también nos permite crear arreglos con valores aleatorios del 0 al 1.\n",
    "Basta con pasarle las dimensiones del arreglo que queremos crear."
   ]
  },
  {
   "cell_type": "code",
   "execution_count": 5,
   "id": "c08d53e0",
   "metadata": {
    "execution": {
     "iopub.execute_input": "2021-09-08T22:30:05.224321Z",
     "iopub.status.busy": "2021-09-08T22:30:05.223856Z",
     "iopub.status.idle": "2021-09-08T22:30:05.228001Z",
     "shell.execute_reply": "2021-09-08T22:30:05.228363Z"
    }
   },
   "outputs": [
    {
     "data": {
      "text/plain": [
       "array([[0.49753049, 0.93388163, 0.24735938],\n",
       "       [0.99481508, 0.76155352, 0.34293608]])"
      ]
     },
     "execution_count": 5,
     "metadata": {},
     "output_type": "execute_result"
    }
   ],
   "source": [
    "np.random.rand(2, 3)"
   ]
  },
  {
   "cell_type": "markdown",
   "id": "607aed56",
   "metadata": {},
   "source": [
    "## Slicing\n",
    "\n",
    "De la misma forma que con las listas de python, pueden obtenerse slices de los arreglos de numpy"
   ]
  },
  {
   "cell_type": "code",
   "execution_count": 6,
   "id": "1c85c37b",
   "metadata": {
    "execution": {
     "iopub.execute_input": "2021-09-08T22:30:05.231808Z",
     "iopub.status.busy": "2021-09-08T22:30:05.230904Z",
     "iopub.status.idle": "2021-09-08T22:30:05.235067Z",
     "shell.execute_reply": "2021-09-08T22:30:05.234653Z"
    },
    "lines_to_next_cell": 2
   },
   "outputs": [
    {
     "data": {
      "text/plain": [
       "array([1, 8])"
      ]
     },
     "execution_count": 6,
     "metadata": {},
     "output_type": "execute_result"
    }
   ],
   "source": [
    "enteros[:2]"
   ]
  },
  {
   "cell_type": "code",
   "execution_count": 7,
   "id": "af06128c",
   "metadata": {
    "execution": {
     "iopub.execute_input": "2021-09-08T22:30:05.239391Z",
     "iopub.status.busy": "2021-09-08T22:30:05.238550Z",
     "iopub.status.idle": "2021-09-08T22:30:05.242159Z",
     "shell.execute_reply": "2021-09-08T22:30:05.241747Z"
    }
   },
   "outputs": [
    {
     "name": "stdout",
     "output_type": "stream",
     "text": [
      "Original: \n",
      "[[ 1  2  3  4]\n",
      " [ 5  6  7  8]\n",
      " [ 9 10 11 12]]\n",
      "\n",
      "Recortada: \n",
      "[[1 2 3]\n",
      " [5 6 7]]\n"
     ]
    }
   ],
   "source": [
    "matriz_de_enteros = np.array([[1, 2, 3, 4], [5, 6, 7, 8], [9, 10, 11, 12]])\n",
    "\n",
    "print('Original: ')\n",
    "print(matriz_de_enteros)\n",
    "\n",
    "print()\n",
    "\n",
    "print('Recortada: ')\n",
    "print(matriz_de_enteros[:2, :3])"
   ]
  },
  {
   "cell_type": "code",
   "execution_count": 8,
   "id": "586230d2",
   "metadata": {
    "execution": {
     "iopub.execute_input": "2021-09-08T22:30:05.246237Z",
     "iopub.status.busy": "2021-09-08T22:30:05.245763Z",
     "iopub.status.idle": "2021-09-08T22:30:05.248664Z",
     "shell.execute_reply": "2021-09-08T22:30:05.248255Z"
    }
   },
   "outputs": [
    {
     "data": {
      "text/plain": [
       "array([[[ 0,  1,  2,  3,  4],\n",
       "        [ 5,  6,  7,  8,  9],\n",
       "        [10, 11, 12, 13, 14]],\n",
       "\n",
       "       [[15, 16, 17, 18, 19],\n",
       "        [20, 21, 22, 23, 24],\n",
       "        [25, 26, 27, 28, 29]],\n",
       "\n",
       "       [[30, 31, 32, 33, 34],\n",
       "        [35, 36, 37, 38, 39],\n",
       "        [40, 41, 42, 43, 44]]])"
      ]
     },
     "execution_count": 8,
     "metadata": {},
     "output_type": "execute_result"
    }
   ],
   "source": [
    "# 3D\n",
    "# arange() genera valores de un intervalo pasado por parámetro\n",
    "# reshape() modifica la forma del numpy array\n",
    "\n",
    "x = np.arange(45).reshape(3, 3, 5)\n",
    "x"
   ]
  },
  {
   "cell_type": "code",
   "execution_count": 9,
   "id": "56900923",
   "metadata": {
    "execution": {
     "iopub.execute_input": "2021-09-08T22:30:05.251926Z",
     "iopub.status.busy": "2021-09-08T22:30:05.250925Z",
     "iopub.status.idle": "2021-09-08T22:30:05.254662Z",
     "shell.execute_reply": "2021-09-08T22:30:05.254227Z"
    }
   },
   "outputs": [
    {
     "data": {
      "text/plain": [
       "array([[ 0,  1,  2,  3,  4],\n",
       "       [ 5,  6,  7,  8,  9],\n",
       "       [10, 11, 12, 13, 14]])"
      ]
     },
     "execution_count": 9,
     "metadata": {},
     "output_type": "execute_result"
    }
   ],
   "source": [
    "x[0]"
   ]
  },
  {
   "cell_type": "code",
   "execution_count": 10,
   "id": "19c50d02",
   "metadata": {
    "execution": {
     "iopub.execute_input": "2021-09-08T22:30:05.258283Z",
     "iopub.status.busy": "2021-09-08T22:30:05.257811Z",
     "iopub.status.idle": "2021-09-08T22:30:05.260655Z",
     "shell.execute_reply": "2021-09-08T22:30:05.260246Z"
    }
   },
   "outputs": [
    {
     "data": {
      "text/plain": [
       "array([5, 6, 7, 8, 9])"
      ]
     },
     "execution_count": 10,
     "metadata": {},
     "output_type": "execute_result"
    }
   ],
   "source": [
    "x[0][1]"
   ]
  },
  {
   "cell_type": "code",
   "execution_count": 11,
   "id": "e7459067",
   "metadata": {
    "execution": {
     "iopub.execute_input": "2021-09-08T22:30:05.264642Z",
     "iopub.status.busy": "2021-09-08T22:30:05.262899Z",
     "iopub.status.idle": "2021-09-08T22:30:05.266518Z",
     "shell.execute_reply": "2021-09-08T22:30:05.266914Z"
    }
   },
   "outputs": [
    {
     "data": {
      "text/plain": [
       "7"
      ]
     },
     "execution_count": 11,
     "metadata": {},
     "output_type": "execute_result"
    }
   ],
   "source": [
    "x[0][1][2]"
   ]
  },
  {
   "cell_type": "markdown",
   "id": "4fd6fb3f",
   "metadata": {},
   "source": [
    "\n",
    "¿Cómo conseguimos estos valores? ([fuente](https://towardsdatascience.com/indexing-and-slicing-of-1d-2d-and-3d-arrays-in-numpy-e731afff0bbe))\n",
    "\n",
    "![title](img/matrix.png)"
   ]
  },
  {
   "cell_type": "code",
   "execution_count": 12,
   "id": "4457f228",
   "metadata": {
    "execution": {
     "iopub.execute_input": "2021-09-08T22:30:05.271524Z",
     "iopub.status.busy": "2021-09-08T22:30:05.271042Z",
     "iopub.status.idle": "2021-09-08T22:30:05.273442Z",
     "shell.execute_reply": "2021-09-08T22:30:05.273820Z"
    }
   },
   "outputs": [
    {
     "data": {
      "text/plain": [
       "array([[[16, 17, 18],\n",
       "        [21, 22, 23]],\n",
       "\n",
       "       [[31, 32, 33],\n",
       "        [36, 37, 38]]])"
      ]
     },
     "execution_count": 12,
     "metadata": {},
     "output_type": "execute_result"
    }
   ],
   "source": [
    "x[1:, 0:2, 1:4]"
   ]
  },
  {
   "cell_type": "markdown",
   "id": "87402754",
   "metadata": {},
   "source": [
    "### Copia de arreglos"
   ]
  },
  {
   "cell_type": "code",
   "execution_count": 13,
   "id": "0168369c",
   "metadata": {
    "execution": {
     "iopub.execute_input": "2021-09-08T22:30:05.277715Z",
     "iopub.status.busy": "2021-09-08T22:30:05.277247Z",
     "iopub.status.idle": "2021-09-08T22:30:05.280149Z",
     "shell.execute_reply": "2021-09-08T22:30:05.279744Z"
    }
   },
   "outputs": [
    {
     "data": {
      "text/plain": [
       "array([1, 2, 3, 4])"
      ]
     },
     "execution_count": 13,
     "metadata": {},
     "output_type": "execute_result"
    }
   ],
   "source": [
    "# Los arreglos no se copian con asignación\n",
    "\n",
    "a = np.array([1, 2, 3, 4])\n",
    "b = a\n",
    "b"
   ]
  },
  {
   "cell_type": "code",
   "execution_count": 14,
   "id": "f3c83bd8",
   "metadata": {
    "execution": {
     "iopub.execute_input": "2021-09-08T22:30:05.284489Z",
     "iopub.status.busy": "2021-09-08T22:30:05.284000Z",
     "iopub.status.idle": "2021-09-08T22:30:05.286312Z",
     "shell.execute_reply": "2021-09-08T22:30:05.286719Z"
    }
   },
   "outputs": [
    {
     "data": {
      "text/plain": [
       "array([ 1, 20,  3,  4])"
      ]
     },
     "execution_count": 14,
     "metadata": {},
     "output_type": "execute_result"
    }
   ],
   "source": [
    "b[1] = 20\n",
    "b"
   ]
  },
  {
   "cell_type": "code",
   "execution_count": 15,
   "id": "8327f102",
   "metadata": {
    "execution": {
     "iopub.execute_input": "2021-09-08T22:30:05.290120Z",
     "iopub.status.busy": "2021-09-08T22:30:05.289645Z",
     "iopub.status.idle": "2021-09-08T22:30:05.292565Z",
     "shell.execute_reply": "2021-09-08T22:30:05.292156Z"
    }
   },
   "outputs": [
    {
     "data": {
      "text/plain": [
       "array([ 1, 20,  3,  4])"
      ]
     },
     "execution_count": 15,
     "metadata": {},
     "output_type": "execute_result"
    }
   ],
   "source": [
    "a"
   ]
  },
  {
   "cell_type": "code",
   "execution_count": 16,
   "id": "c81f5f3b",
   "metadata": {
    "execution": {
     "iopub.execute_input": "2021-09-08T22:30:05.296981Z",
     "iopub.status.busy": "2021-09-08T22:30:05.296515Z",
     "iopub.status.idle": "2021-09-08T22:30:05.299163Z",
     "shell.execute_reply": "2021-09-08T22:30:05.298673Z"
    }
   },
   "outputs": [
    {
     "data": {
      "text/plain": [
       "array([ 1, 20,  3,  4])"
      ]
     },
     "execution_count": 16,
     "metadata": {},
     "output_type": "execute_result"
    }
   ],
   "source": [
    "# Para copiar un arreglo a otra variable debemos usar copy()\n",
    "\n",
    "a = np.array([1, 2, 3, 4])\n",
    "b = a.copy()\n",
    "b[1] = 20\n",
    "b"
   ]
  },
  {
   "cell_type": "code",
   "execution_count": 17,
   "id": "ef18dac4",
   "metadata": {
    "execution": {
     "iopub.execute_input": "2021-09-08T22:30:05.303452Z",
     "iopub.status.busy": "2021-09-08T22:30:05.302965Z",
     "iopub.status.idle": "2021-09-08T22:30:05.305314Z",
     "shell.execute_reply": "2021-09-08T22:30:05.305700Z"
    }
   },
   "outputs": [
    {
     "data": {
      "text/plain": [
       "array([1, 2, 3, 4])"
      ]
     },
     "execution_count": 17,
     "metadata": {},
     "output_type": "execute_result"
    }
   ],
   "source": [
    "a"
   ]
  },
  {
   "cell_type": "markdown",
   "id": "b1f372b6",
   "metadata": {},
   "source": [
    "### Modificación de dimensiones"
   ]
  },
  {
   "cell_type": "markdown",
   "id": "11dec939",
   "metadata": {},
   "source": [
    "Existen varias operaciones para cambiar la forma de un arreglo de numpy"
   ]
  },
  {
   "cell_type": "code",
   "execution_count": 18,
   "id": "07e110e8",
   "metadata": {
    "execution": {
     "iopub.execute_input": "2021-09-08T22:30:05.309263Z",
     "iopub.status.busy": "2021-09-08T22:30:05.308801Z",
     "iopub.status.idle": "2021-09-08T22:30:05.311759Z",
     "shell.execute_reply": "2021-09-08T22:30:05.311350Z"
    }
   },
   "outputs": [
    {
     "data": {
      "text/plain": [
       "array([[ 1,  2,  3,  4],\n",
       "       [ 5,  6,  7,  8],\n",
       "       [ 9, 10, 11, 12]])"
      ]
     },
     "execution_count": 18,
     "metadata": {},
     "output_type": "execute_result"
    }
   ],
   "source": [
    "matriz_de_enteros"
   ]
  },
  {
   "cell_type": "code",
   "execution_count": 19,
   "id": "a9b88494",
   "metadata": {
    "execution": {
     "iopub.execute_input": "2021-09-08T22:30:05.315859Z",
     "iopub.status.busy": "2021-09-08T22:30:05.315372Z",
     "iopub.status.idle": "2021-09-08T22:30:05.317641Z",
     "shell.execute_reply": "2021-09-08T22:30:05.318020Z"
    }
   },
   "outputs": [
    {
     "data": {
      "text/plain": [
       "2"
      ]
     },
     "execution_count": 19,
     "metadata": {},
     "output_type": "execute_result"
    }
   ],
   "source": [
    "# Obtener las dimensiones del arreglo\n",
    "\n",
    "matriz_de_enteros.ndim"
   ]
  },
  {
   "cell_type": "code",
   "execution_count": 20,
   "id": "8eedc79a",
   "metadata": {
    "execution": {
     "iopub.execute_input": "2021-09-08T22:30:05.322245Z",
     "iopub.status.busy": "2021-09-08T22:30:05.321755Z",
     "iopub.status.idle": "2021-09-08T22:30:05.324072Z",
     "shell.execute_reply": "2021-09-08T22:30:05.324454Z"
    }
   },
   "outputs": [
    {
     "data": {
      "text/plain": [
       "(3, 4)"
      ]
     },
     "execution_count": 20,
     "metadata": {},
     "output_type": "execute_result"
    }
   ],
   "source": [
    "# Obtener la forma del arreglo\n",
    "\n",
    "matriz_de_enteros.shape"
   ]
  },
  {
   "cell_type": "code",
   "execution_count": 21,
   "id": "4ab8648e",
   "metadata": {
    "execution": {
     "iopub.execute_input": "2021-09-08T22:30:05.330023Z",
     "iopub.status.busy": "2021-09-08T22:30:05.329538Z",
     "iopub.status.idle": "2021-09-08T22:30:05.332868Z",
     "shell.execute_reply": "2021-09-08T22:30:05.332441Z"
    }
   },
   "outputs": [
    {
     "name": "stdout",
     "output_type": "stream",
     "text": [
      "enteros: [ 3  6  9 12]\n"
     ]
    },
    {
     "data": {
      "text/plain": [
       "array([[ 3,  6],\n",
       "       [ 9, 12]])"
      ]
     },
     "execution_count": 21,
     "metadata": {},
     "output_type": "execute_result"
    }
   ],
   "source": [
    "# Modificar la forma de un arreglo\n",
    "\n",
    "enteros = np.array([3, 6, 9, 12])\n",
    "print(f\"enteros: {enteros}\")\n",
    "np.reshape(enteros, (2, 2))"
   ]
  },
  {
   "cell_type": "code",
   "execution_count": 22,
   "id": "374bc765",
   "metadata": {
    "execution": {
     "iopub.execute_input": "2021-09-08T22:30:05.337461Z",
     "iopub.status.busy": "2021-09-08T22:30:05.336978Z",
     "iopub.status.idle": "2021-09-08T22:30:05.339290Z",
     "shell.execute_reply": "2021-09-08T22:30:05.339670Z"
    }
   },
   "outputs": [
    {
     "data": {
      "text/plain": [
       "array([[1., 1.],\n",
       "       [1., 1.]])"
      ]
     },
     "execution_count": 22,
     "metadata": {},
     "output_type": "execute_result"
    }
   ],
   "source": [
    "# Aplanar un arreglo\n",
    "\n",
    "a = np.ones((2, 2))\n",
    "a"
   ]
  },
  {
   "cell_type": "code",
   "execution_count": 23,
   "id": "468793a9",
   "metadata": {
    "execution": {
     "iopub.execute_input": "2021-09-08T22:30:05.344073Z",
     "iopub.status.busy": "2021-09-08T22:30:05.343588Z",
     "iopub.status.idle": "2021-09-08T22:30:05.345865Z",
     "shell.execute_reply": "2021-09-08T22:30:05.346249Z"
    }
   },
   "outputs": [
    {
     "data": {
      "text/plain": [
       "array([1., 1., 1., 1.])"
      ]
     },
     "execution_count": 23,
     "metadata": {},
     "output_type": "execute_result"
    }
   ],
   "source": [
    "a.flatten()"
   ]
  },
  {
   "cell_type": "code",
   "execution_count": 24,
   "id": "6ce95ffb",
   "metadata": {
    "execution": {
     "iopub.execute_input": "2021-09-08T22:30:05.350633Z",
     "iopub.status.busy": "2021-09-08T22:30:05.350130Z",
     "iopub.status.idle": "2021-09-08T22:30:05.352422Z",
     "shell.execute_reply": "2021-09-08T22:30:05.352801Z"
    },
    "lines_to_next_cell": 2
   },
   "outputs": [
    {
     "data": {
      "text/plain": [
       "array([[1., 1.],\n",
       "       [1., 1.]])"
      ]
     },
     "execution_count": 24,
     "metadata": {},
     "output_type": "execute_result"
    }
   ],
   "source": [
    "a"
   ]
  },
  {
   "cell_type": "markdown",
   "id": "f57fb3c4",
   "metadata": {},
   "source": [
    "### Combinación de arreglos (Stacking)"
   ]
  },
  {
   "cell_type": "code",
   "execution_count": 25,
   "id": "678e57cc",
   "metadata": {
    "execution": {
     "iopub.execute_input": "2021-09-08T22:30:05.356915Z",
     "iopub.status.busy": "2021-09-08T22:30:05.354598Z",
     "iopub.status.idle": "2021-09-08T22:30:05.358708Z",
     "shell.execute_reply": "2021-09-08T22:30:05.359095Z"
    }
   },
   "outputs": [
    {
     "data": {
      "text/plain": [
       "array([0, 1, 2, 3, 4])"
      ]
     },
     "execution_count": 25,
     "metadata": {},
     "output_type": "execute_result"
    }
   ],
   "source": [
    "# Los arreglos se pueden combinar verticalmente (se incrementa la cantidad de filas)\n",
    "\n",
    "a = np.arange(0, 5)\n",
    "a"
   ]
  },
  {
   "cell_type": "code",
   "execution_count": 26,
   "id": "1cfb0049",
   "metadata": {
    "execution": {
     "iopub.execute_input": "2021-09-08T22:30:05.363488Z",
     "iopub.status.busy": "2021-09-08T22:30:05.363003Z",
     "iopub.status.idle": "2021-09-08T22:30:05.365261Z",
     "shell.execute_reply": "2021-09-08T22:30:05.365645Z"
    }
   },
   "outputs": [
    {
     "data": {
      "text/plain": [
       "array([5, 6, 7, 8, 9])"
      ]
     },
     "execution_count": 26,
     "metadata": {},
     "output_type": "execute_result"
    }
   ],
   "source": [
    "b = np.arange(5, 10)\n",
    "b"
   ]
  },
  {
   "cell_type": "code",
   "execution_count": 27,
   "id": "123f7775",
   "metadata": {
    "execution": {
     "iopub.execute_input": "2021-09-08T22:30:05.369819Z",
     "iopub.status.busy": "2021-09-08T22:30:05.367434Z",
     "iopub.status.idle": "2021-09-08T22:30:05.371754Z",
     "shell.execute_reply": "2021-09-08T22:30:05.372115Z"
    }
   },
   "outputs": [
    {
     "data": {
      "text/plain": [
       "array([[0, 1, 2, 3, 4],\n",
       "       [5, 6, 7, 8, 9]])"
      ]
     },
     "execution_count": 27,
     "metadata": {},
     "output_type": "execute_result"
    }
   ],
   "source": [
    "combinados_verticalmente = np.vstack((a, b))\n",
    "combinados_verticalmente"
   ]
  },
  {
   "cell_type": "code",
   "execution_count": 28,
   "id": "7344f341",
   "metadata": {
    "execution": {
     "iopub.execute_input": "2021-09-08T22:30:05.376967Z",
     "iopub.status.busy": "2021-09-08T22:30:05.376218Z",
     "iopub.status.idle": "2021-09-08T22:30:05.378579Z",
     "shell.execute_reply": "2021-09-08T22:30:05.378969Z"
    }
   },
   "outputs": [
    {
     "data": {
      "text/plain": [
       "array([0, 1, 2, 3, 4, 5, 6, 7, 8, 9])"
      ]
     },
     "execution_count": 28,
     "metadata": {},
     "output_type": "execute_result"
    }
   ],
   "source": [
    "# También se pueden combinar horizontalmente (se incrementa la cantidad de columnas)\n",
    "\n",
    "combinados_horizontalmente = np.hstack((a, b))\n",
    "combinados_horizontalmente"
   ]
  },
  {
   "cell_type": "markdown",
   "id": "ff22410e",
   "metadata": {},
   "source": [
    "### Operaciones matemáticas"
   ]
  },
  {
   "cell_type": "code",
   "execution_count": 29,
   "id": "953155fe",
   "metadata": {
    "execution": {
     "iopub.execute_input": "2021-09-08T22:30:05.383528Z",
     "iopub.status.busy": "2021-09-08T22:30:05.383042Z",
     "iopub.status.idle": "2021-09-08T22:30:05.385326Z",
     "shell.execute_reply": "2021-09-08T22:30:05.385712Z"
    }
   },
   "outputs": [
    {
     "data": {
      "text/plain": [
       "array([3, 4, 5, 6])"
      ]
     },
     "execution_count": 29,
     "metadata": {},
     "output_type": "execute_result"
    }
   ],
   "source": [
    "a = np.array([1, 2, 3, 4])\n",
    "\n",
    "a + 2"
   ]
  },
  {
   "cell_type": "code",
   "execution_count": 30,
   "id": "dee3d6e2",
   "metadata": {
    "execution": {
     "iopub.execute_input": "2021-09-08T22:30:05.389940Z",
     "iopub.status.busy": "2021-09-08T22:30:05.389458Z",
     "iopub.status.idle": "2021-09-08T22:30:05.391785Z",
     "shell.execute_reply": "2021-09-08T22:30:05.392166Z"
    }
   },
   "outputs": [
    {
     "data": {
      "text/plain": [
       "array([ 1,  4,  9, 16])"
      ]
     },
     "execution_count": 30,
     "metadata": {},
     "output_type": "execute_result"
    }
   ],
   "source": [
    "a ** 2"
   ]
  },
  {
   "cell_type": "code",
   "execution_count": 31,
   "id": "81ba473b",
   "metadata": {
    "execution": {
     "iopub.execute_input": "2021-09-08T22:30:05.397505Z",
     "iopub.status.busy": "2021-09-08T22:30:05.397013Z",
     "iopub.status.idle": "2021-09-08T22:30:05.400379Z",
     "shell.execute_reply": "2021-09-08T22:30:05.399969Z"
    }
   },
   "outputs": [
    {
     "name": "stdout",
     "output_type": "stream",
     "text": [
      "b: [1. 1. 1. 1.]\n"
     ]
    },
    {
     "data": {
      "text/plain": [
       "array([2., 3., 4., 5.])"
      ]
     },
     "execution_count": 31,
     "metadata": {},
     "output_type": "execute_result"
    }
   ],
   "source": [
    "b = np.ones(4)\n",
    "print(f\"b: {b}\")\n",
    "a + b"
   ]
  },
  {
   "cell_type": "markdown",
   "id": "00e4c07b",
   "metadata": {},
   "source": [
    "### Estadística"
   ]
  },
  {
   "cell_type": "code",
   "execution_count": 32,
   "id": "956a3a22",
   "metadata": {
    "execution": {
     "iopub.execute_input": "2021-09-08T22:30:05.404763Z",
     "iopub.status.busy": "2021-09-08T22:30:05.404277Z",
     "iopub.status.idle": "2021-09-08T22:30:05.406196Z",
     "shell.execute_reply": "2021-09-08T22:30:05.406610Z"
    }
   },
   "outputs": [
    {
     "data": {
      "text/plain": [
       "1"
      ]
     },
     "execution_count": 32,
     "metadata": {},
     "output_type": "execute_result"
    }
   ],
   "source": [
    "a = np.array([[5, 2, 1, 8], [26, 4, 17, 9]])\n",
    "\n",
    "np.min(a)"
   ]
  },
  {
   "cell_type": "code",
   "execution_count": 33,
   "id": "7d544ea7",
   "metadata": {
    "execution": {
     "iopub.execute_input": "2021-09-08T22:30:05.410356Z",
     "iopub.status.busy": "2021-09-08T22:30:05.409872Z",
     "iopub.status.idle": "2021-09-08T22:30:05.412202Z",
     "shell.execute_reply": "2021-09-08T22:30:05.412589Z"
    }
   },
   "outputs": [
    {
     "data": {
      "text/plain": [
       "26"
      ]
     },
     "execution_count": 33,
     "metadata": {},
     "output_type": "execute_result"
    }
   ],
   "source": [
    "np.max(a)"
   ]
  },
  {
   "cell_type": "code",
   "execution_count": 34,
   "id": "4ba2589d",
   "metadata": {
    "execution": {
     "iopub.execute_input": "2021-09-08T22:30:05.416474Z",
     "iopub.status.busy": "2021-09-08T22:30:05.415998Z",
     "iopub.status.idle": "2021-09-08T22:30:05.418500Z",
     "shell.execute_reply": "2021-09-08T22:30:05.418088Z"
    }
   },
   "outputs": [
    {
     "data": {
      "text/plain": [
       "72"
      ]
     },
     "execution_count": 34,
     "metadata": {},
     "output_type": "execute_result"
    }
   ],
   "source": [
    "np.sum(a)"
   ]
  },
  {
   "cell_type": "markdown",
   "id": "a7fb8ad7",
   "metadata": {},
   "source": [
    "### Más magia"
   ]
  },
  {
   "cell_type": "code",
   "execution_count": 35,
   "id": "47ed8984",
   "metadata": {
    "execution": {
     "iopub.execute_input": "2021-09-08T22:30:05.423277Z",
     "iopub.status.busy": "2021-09-08T22:30:05.422789Z",
     "iopub.status.idle": "2021-09-08T22:30:05.425060Z",
     "shell.execute_reply": "2021-09-08T22:30:05.425444Z"
    }
   },
   "outputs": [
    {
     "data": {
      "text/plain": [
       "array([[False, False, False,  True],\n",
       "       [ True, False,  True,  True]])"
      ]
     },
     "execution_count": 35,
     "metadata": {},
     "output_type": "execute_result"
    }
   ],
   "source": [
    "a = np.array([[5, 2, 1, 8], [26, 4, 17, 9]])\n",
    "\n",
    "a > 5"
   ]
  },
  {
   "cell_type": "code",
   "execution_count": 36,
   "id": "489786fa",
   "metadata": {
    "execution": {
     "iopub.execute_input": "2021-09-08T22:30:05.429764Z",
     "iopub.status.busy": "2021-09-08T22:30:05.429277Z",
     "iopub.status.idle": "2021-09-08T22:30:05.431576Z",
     "shell.execute_reply": "2021-09-08T22:30:05.431954Z"
    }
   },
   "outputs": [
    {
     "data": {
      "text/plain": [
       "array([ 8, 26, 17,  9])"
      ]
     },
     "execution_count": 36,
     "metadata": {},
     "output_type": "execute_result"
    }
   ],
   "source": [
    "a[a > 5]"
   ]
  },
  {
   "cell_type": "markdown",
   "id": "63b42c94",
   "metadata": {},
   "source": [
    "### Broadcasting"
   ]
  },
  {
   "cell_type": "markdown",
   "id": "c55416af",
   "metadata": {},
   "source": [
    "Permite realizar operaciones entre dos numpy arrays de distintas dimensiones.\n",
    "Para lograr esto, las dimensiones de los mismos deben ser compatibles. Dos dimensiones son compatibles cuando:\n",
    "1. Son iguales\n",
    "2. Alguna de las dos es 1"
   ]
  },
  {
   "cell_type": "code",
   "execution_count": 37,
   "id": "3e9058a8",
   "metadata": {
    "execution": {
     "iopub.execute_input": "2021-09-08T22:30:05.436889Z",
     "iopub.status.busy": "2021-09-08T22:30:05.436403Z",
     "iopub.status.idle": "2021-09-08T22:30:05.438724Z",
     "shell.execute_reply": "2021-09-08T22:30:05.439114Z"
    }
   },
   "outputs": [
    {
     "data": {
      "text/plain": [
       "array([[ 5,  2,  1,  8],\n",
       "       [26,  4, 17,  9]])"
      ]
     },
     "execution_count": 37,
     "metadata": {},
     "output_type": "execute_result"
    }
   ],
   "source": [
    "a = np.array([[5, 2, 1, 8], [26, 4, 17, 9]])\n",
    "a"
   ]
  },
  {
   "cell_type": "code",
   "execution_count": 38,
   "id": "c576ac7f",
   "metadata": {
    "execution": {
     "iopub.execute_input": "2021-09-08T22:30:05.443221Z",
     "iopub.status.busy": "2021-09-08T22:30:05.442566Z",
     "iopub.status.idle": "2021-09-08T22:30:05.445149Z",
     "shell.execute_reply": "2021-09-08T22:30:05.444744Z"
    }
   },
   "outputs": [
    {
     "name": "stdout",
     "output_type": "stream",
     "text": [
      "a: (2, 4)\n",
      "b: (4,)\n",
      "\n",
      "a + b:\n",
      " [[10  4  2 16]\n",
      " [31  6 18 17]]\n"
     ]
    }
   ],
   "source": [
    "# Armamos un array que tenga la misma cantidad de columnas que a\n",
    "b = np.array([5, 2, 1, 8])\n",
    "print(f\"a: {a.shape}\")\n",
    "print(f\"b: {b.shape}\")\n",
    "# a + b\n",
    "print()\n",
    "print(f\"a + b:\\n {a + b}\")"
   ]
  },
  {
   "cell_type": "code",
   "execution_count": 39,
   "id": "679b7d02",
   "metadata": {
    "execution": {
     "iopub.execute_input": "2021-09-08T22:30:05.449017Z",
     "iopub.status.busy": "2021-09-08T22:30:05.448488Z",
     "iopub.status.idle": "2021-09-08T22:30:05.517532Z",
     "shell.execute_reply": "2021-09-08T22:30:05.517995Z"
    },
    "tags": [
     "raises-exception"
    ]
   },
   "outputs": [
    {
     "name": "stdout",
     "output_type": "stream",
     "text": [
      "a: (2, 4)\n",
      "b: (3,)\n"
     ]
    },
    {
     "ename": "ValueError",
     "evalue": "operands could not be broadcast together with shapes (2,4) (3,) ",
     "output_type": "error",
     "traceback": [
      "\u001b[0;31m---------------------------------------------------------------------------\u001b[0m",
      "\u001b[0;31mValueError\u001b[0m                                Traceback (most recent call last)",
      "\u001b[0;32m/tmp/ipykernel_1953/261865458.py\u001b[0m in \u001b[0;36m<module>\u001b[0;34m\u001b[0m\n\u001b[1;32m      3\u001b[0m \u001b[0mprint\u001b[0m\u001b[0;34m(\u001b[0m\u001b[0;34mf\"a: {a.shape}\"\u001b[0m\u001b[0;34m)\u001b[0m\u001b[0;34m\u001b[0m\u001b[0;34m\u001b[0m\u001b[0m\n\u001b[1;32m      4\u001b[0m \u001b[0mprint\u001b[0m\u001b[0;34m(\u001b[0m\u001b[0;34mf\"b: {b.shape}\"\u001b[0m\u001b[0;34m)\u001b[0m\u001b[0;34m\u001b[0m\u001b[0;34m\u001b[0m\u001b[0m\n\u001b[0;32m----> 5\u001b[0;31m \u001b[0ma\u001b[0m \u001b[0;34m+\u001b[0m \u001b[0mb\u001b[0m\u001b[0;34m\u001b[0m\u001b[0;34m\u001b[0m\u001b[0m\n\u001b[0m",
      "\u001b[0;31mValueError\u001b[0m: operands could not be broadcast together with shapes (2,4) (3,) "
     ]
    }
   ],
   "source": [
    "# Armamos un array que tenga distinta cantidad de filas y columnas que a\n",
    "b = np.array([5, 1, 8])\n",
    "print(f\"a: {a.shape}\")\n",
    "print(f\"b: {b.shape}\")\n",
    "a + b"
   ]
  },
  {
   "cell_type": "code",
   "execution_count": 40,
   "id": "97d4d9ec",
   "metadata": {
    "execution": {
     "iopub.execute_input": "2021-09-08T22:30:05.523986Z",
     "iopub.status.busy": "2021-09-08T22:30:05.523496Z",
     "iopub.status.idle": "2021-09-08T22:30:05.526937Z",
     "shell.execute_reply": "2021-09-08T22:30:05.526517Z"
    }
   },
   "outputs": [
    {
     "name": "stdout",
     "output_type": "stream",
     "text": [
      "a: (2, 4)\n",
      "b: (2, 1)\n"
     ]
    },
    {
     "data": {
      "text/plain": [
       "array([[ 7,  4,  3, 10],\n",
       "       [27,  5, 18, 10]])"
      ]
     },
     "execution_count": 40,
     "metadata": {},
     "output_type": "execute_result"
    }
   ],
   "source": [
    "# Armamos un array que tenga la misma cantidad de filas que a\n",
    "b = np.array([[2], [1]])\n",
    "print(f\"a: {a.shape}\")\n",
    "print(f\"b: {b.shape}\")\n",
    "a + b"
   ]
  },
  {
   "cell_type": "code",
   "execution_count": 41,
   "id": "68dd8bba",
   "metadata": {
    "execution": {
     "iopub.execute_input": "2021-09-08T22:30:05.531436Z",
     "iopub.status.busy": "2021-09-08T22:30:05.530949Z",
     "iopub.status.idle": "2021-09-08T22:30:05.533226Z",
     "shell.execute_reply": "2021-09-08T22:30:05.533606Z"
    }
   },
   "outputs": [
    {
     "data": {
      "text/plain": [
       "array([[ 9,  6,  5, 12],\n",
       "       [30,  8, 21, 13]])"
      ]
     },
     "execution_count": 41,
     "metadata": {},
     "output_type": "execute_result"
    }
   ],
   "source": [
    "# Si b es un entero\n",
    "b = 4\n",
    "a + b"
   ]
  },
  {
   "cell_type": "code",
   "execution_count": null,
   "id": "3c98a9e9",
   "metadata": {},
   "outputs": [],
   "source": []
  }
 ],
 "metadata": {
  "jupytext": {
   "encoding": "# -*- coding: utf-8 -*-",
   "formats": "ipynb,py:light"
  },
  "kernelspec": {
   "display_name": "Python 3",
   "language": "python",
   "name": "python3"
  },
  "language_info": {
   "codemirror_mode": {
    "name": "ipython",
    "version": 3
   },
   "file_extension": ".py",
   "mimetype": "text/x-python",
   "name": "python",
   "nbconvert_exporter": "python",
   "pygments_lexer": "ipython3",
   "version": "3.7.11"
  }
 },
 "nbformat": 4,
 "nbformat_minor": 5
}
