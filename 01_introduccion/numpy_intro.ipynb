{
 "cells": [
  {
   "cell_type": "markdown",
   "id": "c9906043",
   "metadata": {},
   "source": [
    "## Clase 1 - Introducción a Numpy\n",
    "\n",
    "Numpy es una biblioteca para Python que facilita el manejo de arreglos multidimensionales y ofrece varias herramientas para trabajar con ellos. Muchas de las bibliotecas de Python que son ampliamente usadas hoy en día, como pandas, están construidas sobre numpy.\n",
    "\n",
    "### Listas de Python vs arreglos de Numpy\n",
    "\n",
    "A primera vista, un arreglo de numpy puede resultar idéntico a una lista de python, pero a medida que la cantidad de datos comienza a incrementar, los arreglos de numpy terminan ofreciendo un manejo más eficiente de la memoria.\n",
    "\n",
    "Para comenzar, vamos a crear un arreglo de numpy:"
   ]
  },
  {
   "cell_type": "code",
   "execution_count": 1,
   "id": "4476ad47",
   "metadata": {
    "execution": {
     "iopub.execute_input": "2021-04-15T21:42:24.852243Z",
     "iopub.status.busy": "2021-04-15T21:42:24.851591Z",
     "iopub.status.idle": "2021-04-15T21:42:25.013045Z",
     "shell.execute_reply": "2021-04-15T21:42:25.013518Z"
    }
   },
   "outputs": [
    {
     "data": {
      "text/plain": [
       "array([1, 2, 3, 4])"
      ]
     },
     "execution_count": 1,
     "metadata": {},
     "output_type": "execute_result"
    }
   ],
   "source": [
    "import numpy as np\n",
    "\n",
    "np.array([1, 2, 3, 4])"
   ]
  },
  {
   "cell_type": "markdown",
   "id": "4d622ba0",
   "metadata": {},
   "source": [
    "Los arreglos pueden ser también multidimensionales:"
   ]
  },
  {
   "cell_type": "code",
   "execution_count": 2,
   "id": "eb32ee78",
   "metadata": {
    "execution": {
     "iopub.execute_input": "2021-04-15T21:42:25.018641Z",
     "iopub.status.busy": "2021-04-15T21:42:25.017846Z",
     "iopub.status.idle": "2021-04-15T21:42:25.023557Z",
     "shell.execute_reply": "2021-04-15T21:42:25.023056Z"
    }
   },
   "outputs": [
    {
     "data": {
      "text/plain": [
       "array([[1, 2, 3, 4],\n",
       "       [5, 6, 7, 8]])"
      ]
     },
     "execution_count": 1,
     "metadata": {},
     "output_type": "execute_result"
    }
   ],
   "source": [
    "np.array([[1, 2, 3, 4], [5, 6, 7, 8]])"
   ]
  },
  {
   "cell_type": "markdown",
   "id": "9a780624",
   "metadata": {},
   "source": [
    "Es importante tener en cuenta que un arreglo de numpy tiene un tipo fijo de datos, entonces si se quiere agregar un dato de un tipo diferente al de la mayoría, este va a ser modificado para adaptarse al resto"
   ]
  },
  {
   "cell_type": "code",
   "execution_count": 3,
   "id": "314f2725",
   "metadata": {
    "execution": {
     "iopub.execute_input": "2021-04-15T21:42:25.027693Z",
     "iopub.status.busy": "2021-04-15T21:42:25.027136Z",
     "iopub.status.idle": "2021-04-15T21:42:25.030757Z",
     "shell.execute_reply": "2021-04-15T21:42:25.031226Z"
    }
   },
   "outputs": [],
   "source": [
    "enteros = np.array([1, 2, 3, 4])"
   ]
  },
  {
   "cell_type": "markdown",
   "id": "2c578e17",
   "metadata": {},
   "source": [
    "Agrego un elemento de tipo flotante en la posición 1"
   ]
  },
  {
   "cell_type": "code",
   "execution_count": 4,
   "id": "5f475a7f",
   "metadata": {
    "execution": {
     "iopub.execute_input": "2021-04-15T21:42:25.035427Z",
     "iopub.status.busy": "2021-04-15T21:42:25.034861Z",
     "iopub.status.idle": "2021-04-15T21:42:25.040480Z",
     "shell.execute_reply": "2021-04-15T21:42:25.040011Z"
    }
   },
   "outputs": [
    {
     "data": {
      "text/plain": [
       "array([1, 8, 3, 4])"
      ]
     },
     "execution_count": 1,
     "metadata": {},
     "output_type": "execute_result"
    }
   ],
   "source": [
    "enteros[1] = 8.4727\n",
    "enteros"
   ]
  },
  {
   "cell_type": "markdown",
   "id": "9e298909",
   "metadata": {},
   "source": [
    "Numpy también nos permite crear arreglos con valores aleatorios del 0 al 1.\n",
    "Basta con pasarle las dimensiones del arreglo que queremos crear."
   ]
  },
  {
   "cell_type": "code",
   "execution_count": 5,
   "id": "a3247cd3",
   "metadata": {
    "execution": {
     "iopub.execute_input": "2021-04-15T21:42:25.045019Z",
     "iopub.status.busy": "2021-04-15T21:42:25.044462Z",
     "iopub.status.idle": "2021-04-15T21:42:25.050011Z",
     "shell.execute_reply": "2021-04-15T21:42:25.049546Z"
    }
   },
   "outputs": [
    {
     "data": {
      "text/plain": [
       "array([[0.21594799, 0.27753469, 0.68138151],\n",
       "       [0.45608953, 0.17668427, 0.65838853]])"
      ]
     },
     "execution_count": 1,
     "metadata": {},
     "output_type": "execute_result"
    }
   ],
   "source": [
    "np.random.rand(2, 3)"
   ]
  },
  {
   "cell_type": "markdown",
   "id": "daf98dc2",
   "metadata": {},
   "source": [
    "## Slicing\n",
    "\n",
    "De la misma forma que con las listas de python, pueden obtenerse slices de los arreglos de numpy"
   ]
  },
  {
   "cell_type": "code",
   "execution_count": 6,
   "id": "76483d5b",
   "metadata": {
    "execution": {
     "iopub.execute_input": "2021-04-15T21:42:25.054054Z",
     "iopub.status.busy": "2021-04-15T21:42:25.053508Z",
     "iopub.status.idle": "2021-04-15T21:42:25.056428Z",
     "shell.execute_reply": "2021-04-15T21:42:25.055945Z"
    },
    "lines_to_next_cell": 2
   },
   "outputs": [
    {
     "data": {
      "text/plain": [
       "array([1, 8])"
      ]
     },
     "execution_count": 1,
     "metadata": {},
     "output_type": "execute_result"
    }
   ],
   "source": [
    "enteros[:2]"
   ]
  },
  {
   "cell_type": "code",
   "execution_count": 7,
   "id": "38731482",
   "metadata": {
    "execution": {
     "iopub.execute_input": "2021-04-15T21:42:25.062812Z",
     "iopub.status.busy": "2021-04-15T21:42:25.062232Z",
     "iopub.status.idle": "2021-04-15T21:42:25.064246Z",
     "shell.execute_reply": "2021-04-15T21:42:25.064788Z"
    }
   },
   "outputs": [
    {
     "name": "stdout",
     "output_type": "stream",
     "text": [
      "Original: \n",
      "[[ 1  2  3  4]\n",
      " [ 5  6  7  8]\n",
      " [ 9 10 11 12]]\n",
      "\n",
      "Recortada: \n",
      "[[1 2 3]\n",
      " [5 6 7]]\n"
     ]
    }
   ],
   "source": [
    "matriz_de_enteros = np.array([[1, 2, 3, 4], [5, 6, 7, 8], [9, 10, 11, 12]])\n",
    "\n",
    "print('Original: ')\n",
    "print(matriz_de_enteros)\n",
    "\n",
    "print()\n",
    "\n",
    "print('Recortada: ')\n",
    "print(matriz_de_enteros[:2, :3])"
   ]
  },
  {
   "cell_type": "code",
   "execution_count": 8,
   "id": "38aea4ca",
   "metadata": {
    "execution": {
     "iopub.execute_input": "2021-04-15T21:42:25.069179Z",
     "iopub.status.busy": "2021-04-15T21:42:25.068529Z",
     "iopub.status.idle": "2021-04-15T21:42:25.073016Z",
     "shell.execute_reply": "2021-04-15T21:42:25.072530Z"
    }
   },
   "outputs": [
    {
     "data": {
      "text/plain": [
       "array([[[ 0,  1,  2,  3,  4],\n",
       "        [ 5,  6,  7,  8,  9],\n",
       "        [10, 11, 12, 13, 14]],\n",
       "\n",
       "       [[15, 16, 17, 18, 19],\n",
       "        [20, 21, 22, 23, 24],\n",
       "        [25, 26, 27, 28, 29]],\n",
       "\n",
       "       [[30, 31, 32, 33, 34],\n",
       "        [35, 36, 37, 38, 39],\n",
       "        [40, 41, 42, 43, 44]]])"
      ]
     },
     "execution_count": 1,
     "metadata": {},
     "output_type": "execute_result"
    }
   ],
   "source": [
    "# 3D\n",
    "# arange() genera valores de un intervalo pasado por parámetro\n",
    "# reshape() modifica la forma del numpy array\n",
    "\n",
    "x = np.arange(45).reshape(3, 3, 5)\n",
    "x"
   ]
  },
  {
   "cell_type": "code",
   "execution_count": 9,
   "id": "d49cdeb3",
   "metadata": {
    "execution": {
     "iopub.execute_input": "2021-04-15T21:42:25.077053Z",
     "iopub.status.busy": "2021-04-15T21:42:25.076501Z",
     "iopub.status.idle": "2021-04-15T21:42:25.078728Z",
     "shell.execute_reply": "2021-04-15T21:42:25.079305Z"
    }
   },
   "outputs": [
    {
     "data": {
      "text/plain": [
       "array([[ 0,  1,  2,  3,  4],\n",
       "       [ 5,  6,  7,  8,  9],\n",
       "       [10, 11, 12, 13, 14]])"
      ]
     },
     "execution_count": 1,
     "metadata": {},
     "output_type": "execute_result"
    }
   ],
   "source": [
    "x[0]"
   ]
  },
  {
   "cell_type": "code",
   "execution_count": 10,
   "id": "a6effe00",
   "metadata": {
    "execution": {
     "iopub.execute_input": "2021-04-15T21:42:25.083490Z",
     "iopub.status.busy": "2021-04-15T21:42:25.082932Z",
     "iopub.status.idle": "2021-04-15T21:42:25.085873Z",
     "shell.execute_reply": "2021-04-15T21:42:25.085391Z"
    }
   },
   "outputs": [
    {
     "data": {
      "text/plain": [
       "array([5, 6, 7, 8, 9])"
      ]
     },
     "execution_count": 1,
     "metadata": {},
     "output_type": "execute_result"
    }
   ],
   "source": [
    "x[0][1]"
   ]
  },
  {
   "cell_type": "code",
   "execution_count": 11,
   "id": "167a36ec",
   "metadata": {
    "execution": {
     "iopub.execute_input": "2021-04-15T21:42:25.089722Z",
     "iopub.status.busy": "2021-04-15T21:42:25.089086Z",
     "iopub.status.idle": "2021-04-15T21:42:25.091689Z",
     "shell.execute_reply": "2021-04-15T21:42:25.092117Z"
    }
   },
   "outputs": [
    {
     "data": {
      "text/plain": [
       "7"
      ]
     },
     "execution_count": 1,
     "metadata": {},
     "output_type": "execute_result"
    }
   ],
   "source": [
    "x[0][1][2]"
   ]
  },
  {
   "cell_type": "markdown",
   "id": "556ad520",
   "metadata": {},
   "source": [
    "\n",
    "¿Cómo conseguimos estos valores? ([fuente](https://towardsdatascience.com/indexing-and-slicing-of-1d-2d-and-3d-arrays-in-numpy-e731afff0bbe))\n",
    "\n",
    "![title](img/matrix.png)"
   ]
  },
  {
   "cell_type": "code",
   "execution_count": 12,
   "id": "e85cfbae",
   "metadata": {
    "execution": {
     "iopub.execute_input": "2021-04-15T21:42:25.096810Z",
     "iopub.status.busy": "2021-04-15T21:42:25.096242Z",
     "iopub.status.idle": "2021-04-15T21:42:25.098195Z",
     "shell.execute_reply": "2021-04-15T21:42:25.098665Z"
    }
   },
   "outputs": [
    {
     "data": {
      "text/plain": [
       "array([[[16, 17, 18],\n",
       "        [21, 22, 23]],\n",
       "\n",
       "       [[31, 32, 33],\n",
       "        [36, 37, 38]]])"
      ]
     },
     "execution_count": 1,
     "metadata": {},
     "output_type": "execute_result"
    }
   ],
   "source": [
    "x[1:, 0:2, 1:4]"
   ]
  },
  {
   "cell_type": "markdown",
   "id": "431b9f40",
   "metadata": {},
   "source": [
    "### Copia de arreglos"
   ]
  },
  {
   "cell_type": "code",
   "execution_count": 13,
   "id": "f5c5c1fa",
   "metadata": {
    "execution": {
     "iopub.execute_input": "2021-04-15T21:42:25.103162Z",
     "iopub.status.busy": "2021-04-15T21:42:25.102604Z",
     "iopub.status.idle": "2021-04-15T21:42:25.105533Z",
     "shell.execute_reply": "2021-04-15T21:42:25.105049Z"
    }
   },
   "outputs": [
    {
     "data": {
      "text/plain": [
       "array([1, 2, 3, 4])"
      ]
     },
     "execution_count": 1,
     "metadata": {},
     "output_type": "execute_result"
    }
   ],
   "source": [
    "# Los arreglos no se copian con asignación\n",
    "\n",
    "a = np.array([1, 2, 3, 4])\n",
    "b = a\n",
    "b"
   ]
  },
  {
   "cell_type": "code",
   "execution_count": 14,
   "id": "9cdf9ec6",
   "metadata": {
    "execution": {
     "iopub.execute_input": "2021-04-15T21:42:25.109247Z",
     "iopub.status.busy": "2021-04-15T21:42:25.108698Z",
     "iopub.status.idle": "2021-04-15T21:42:25.111748Z",
     "shell.execute_reply": "2021-04-15T21:42:25.111266Z"
    }
   },
   "outputs": [
    {
     "data": {
      "text/plain": [
       "array([ 1, 20,  3,  4])"
      ]
     },
     "execution_count": 1,
     "metadata": {},
     "output_type": "execute_result"
    }
   ],
   "source": [
    "b[1] = 20\n",
    "b"
   ]
  },
  {
   "cell_type": "code",
   "execution_count": 15,
   "id": "4bbdcd14",
   "metadata": {
    "execution": {
     "iopub.execute_input": "2021-04-15T21:42:25.115427Z",
     "iopub.status.busy": "2021-04-15T21:42:25.114872Z",
     "iopub.status.idle": "2021-04-15T21:42:25.117862Z",
     "shell.execute_reply": "2021-04-15T21:42:25.117380Z"
    }
   },
   "outputs": [
    {
     "data": {
      "text/plain": [
       "array([ 1, 20,  3,  4])"
      ]
     },
     "execution_count": 1,
     "metadata": {},
     "output_type": "execute_result"
    }
   ],
   "source": [
    "a"
   ]
  },
  {
   "cell_type": "code",
   "execution_count": 16,
   "id": "cc384ebf",
   "metadata": {
    "execution": {
     "iopub.execute_input": "2021-04-15T21:42:25.122385Z",
     "iopub.status.busy": "2021-04-15T21:42:25.121833Z",
     "iopub.status.idle": "2021-04-15T21:42:25.124963Z",
     "shell.execute_reply": "2021-04-15T21:42:25.124482Z"
    }
   },
   "outputs": [
    {
     "data": {
      "text/plain": [
       "array([ 1, 20,  3,  4])"
      ]
     },
     "execution_count": 1,
     "metadata": {},
     "output_type": "execute_result"
    }
   ],
   "source": [
    "# Para copiar un arreglo a otra variable debemos usar copy()\n",
    "\n",
    "a = np.array([1, 2, 3, 4])\n",
    "b = a.copy()\n",
    "b[1] = 20\n",
    "b"
   ]
  },
  {
   "cell_type": "code",
   "execution_count": 17,
   "id": "2d3e94b2",
   "metadata": {
    "execution": {
     "iopub.execute_input": "2021-04-15T21:42:25.128623Z",
     "iopub.status.busy": "2021-04-15T21:42:25.128070Z",
     "iopub.status.idle": "2021-04-15T21:42:25.130588Z",
     "shell.execute_reply": "2021-04-15T21:42:25.131135Z"
    }
   },
   "outputs": [
    {
     "data": {
      "text/plain": [
       "array([1, 2, 3, 4])"
      ]
     },
     "execution_count": 1,
     "metadata": {},
     "output_type": "execute_result"
    }
   ],
   "source": [
    "a"
   ]
  },
  {
   "cell_type": "markdown",
   "id": "4e552af7",
   "metadata": {},
   "source": [
    "### Modificación de dimensiones"
   ]
  },
  {
   "cell_type": "markdown",
   "id": "57a51fd4",
   "metadata": {},
   "source": [
    "Existen varias operaciones para cambiar la forma de un arreglo de numpy"
   ]
  },
  {
   "cell_type": "code",
   "execution_count": 18,
   "id": "d81dd804",
   "metadata": {
    "execution": {
     "iopub.execute_input": "2021-04-15T21:42:25.134969Z",
     "iopub.status.busy": "2021-04-15T21:42:25.134394Z",
     "iopub.status.idle": "2021-04-15T21:42:25.137326Z",
     "shell.execute_reply": "2021-04-15T21:42:25.136765Z"
    }
   },
   "outputs": [
    {
     "data": {
      "text/plain": [
       "array([[ 1,  2,  3,  4],\n",
       "       [ 5,  6,  7,  8],\n",
       "       [ 9, 10, 11, 12]])"
      ]
     },
     "execution_count": 1,
     "metadata": {},
     "output_type": "execute_result"
    }
   ],
   "source": [
    "matriz_de_enteros"
   ]
  },
  {
   "cell_type": "code",
   "execution_count": 19,
   "id": "05b49ed6",
   "metadata": {
    "execution": {
     "iopub.execute_input": "2021-04-15T21:42:25.141633Z",
     "iopub.status.busy": "2021-04-15T21:42:25.141051Z",
     "iopub.status.idle": "2021-04-15T21:42:25.143308Z",
     "shell.execute_reply": "2021-04-15T21:42:25.143758Z"
    }
   },
   "outputs": [
    {
     "data": {
      "text/plain": [
       "2"
      ]
     },
     "execution_count": 1,
     "metadata": {},
     "output_type": "execute_result"
    }
   ],
   "source": [
    "# Obtener las dimensiones del arreglo\n",
    "\n",
    "matriz_de_enteros.ndim"
   ]
  },
  {
   "cell_type": "code",
   "execution_count": 20,
   "id": "b268aa33",
   "metadata": {
    "execution": {
     "iopub.execute_input": "2021-04-15T21:42:25.147349Z",
     "iopub.status.busy": "2021-04-15T21:42:25.146794Z",
     "iopub.status.idle": "2021-04-15T21:42:25.149741Z",
     "shell.execute_reply": "2021-04-15T21:42:25.149252Z"
    }
   },
   "outputs": [
    {
     "data": {
      "text/plain": [
       "(3, 4)"
      ]
     },
     "execution_count": 1,
     "metadata": {},
     "output_type": "execute_result"
    }
   ],
   "source": [
    "# Obtener la forma del arreglo\n",
    "\n",
    "matriz_de_enteros.shape"
   ]
  },
  {
   "cell_type": "code",
   "execution_count": 21,
   "id": "c04a3e3b",
   "metadata": {
    "execution": {
     "iopub.execute_input": "2021-04-15T21:42:25.155630Z",
     "iopub.status.busy": "2021-04-15T21:42:25.154758Z",
     "iopub.status.idle": "2021-04-15T21:42:25.157714Z",
     "shell.execute_reply": "2021-04-15T21:42:25.158162Z"
    }
   },
   "outputs": [
    {
     "name": "stdout",
     "output_type": "stream",
     "text": [
      "enteros: [ 3  6  9 12]\n"
     ]
    },
    {
     "data": {
      "text/plain": [
       "array([[ 3,  6],\n",
       "       [ 9, 12]])"
      ]
     },
     "execution_count": 1,
     "metadata": {},
     "output_type": "execute_result"
    }
   ],
   "source": [
    "# Modificar la forma de un arreglo\n",
    "\n",
    "enteros = np.array([3, 6, 9, 12])\n",
    "print(f\"enteros: {enteros}\")\n",
    "np.reshape(enteros, (2, 2))"
   ]
  },
  {
   "cell_type": "code",
   "execution_count": 22,
   "id": "c9428878",
   "metadata": {
    "execution": {
     "iopub.execute_input": "2021-04-15T21:42:25.162879Z",
     "iopub.status.busy": "2021-04-15T21:42:25.162301Z",
     "iopub.status.idle": "2021-04-15T21:42:25.165124Z",
     "shell.execute_reply": "2021-04-15T21:42:25.165582Z"
    }
   },
   "outputs": [
    {
     "data": {
      "text/plain": [
       "array([[1., 1.],\n",
       "       [1., 1.]])"
      ]
     },
     "execution_count": 1,
     "metadata": {},
     "output_type": "execute_result"
    }
   ],
   "source": [
    "# Aplanar un arreglo\n",
    "\n",
    "a = np.ones((2, 2))\n",
    "a"
   ]
  },
  {
   "cell_type": "code",
   "execution_count": 23,
   "id": "af72951f",
   "metadata": {
    "execution": {
     "iopub.execute_input": "2021-04-15T21:42:25.170260Z",
     "iopub.status.busy": "2021-04-15T21:42:25.169679Z",
     "iopub.status.idle": "2021-04-15T21:42:25.171786Z",
     "shell.execute_reply": "2021-04-15T21:42:25.172243Z"
    }
   },
   "outputs": [
    {
     "data": {
      "text/plain": [
       "array([1., 1., 1., 1.])"
      ]
     },
     "execution_count": 1,
     "metadata": {},
     "output_type": "execute_result"
    }
   ],
   "source": [
    "a.flatten()"
   ]
  },
  {
   "cell_type": "code",
   "execution_count": 24,
   "id": "6cd42c93",
   "metadata": {
    "execution": {
     "iopub.execute_input": "2021-04-15T21:42:25.176611Z",
     "iopub.status.busy": "2021-04-15T21:42:25.176058Z",
     "iopub.status.idle": "2021-04-15T21:42:25.180630Z",
     "shell.execute_reply": "2021-04-15T21:42:25.181722Z"
    },
    "lines_to_next_cell": 2
   },
   "outputs": [
    {
     "data": {
      "text/plain": [
       "array([[1., 1.],\n",
       "       [1., 1.]])"
      ]
     },
     "execution_count": 1,
     "metadata": {},
     "output_type": "execute_result"
    }
   ],
   "source": [
    "a"
   ]
  },
  {
   "cell_type": "markdown",
   "id": "1c75d2d5",
   "metadata": {},
   "source": [
    "### Combinación de arreglos (Stacking)"
   ]
  },
  {
   "cell_type": "code",
   "execution_count": 25,
   "id": "56541400",
   "metadata": {
    "execution": {
     "iopub.execute_input": "2021-04-15T21:42:25.186036Z",
     "iopub.status.busy": "2021-04-15T21:42:25.185386Z",
     "iopub.status.idle": "2021-04-15T21:42:25.188405Z",
     "shell.execute_reply": "2021-04-15T21:42:25.187917Z"
    }
   },
   "outputs": [
    {
     "data": {
      "text/plain": [
       "array([0, 1, 2, 3, 4])"
      ]
     },
     "execution_count": 1,
     "metadata": {},
     "output_type": "execute_result"
    }
   ],
   "source": [
    "# Los arreglos se pueden combinar verticalmente (se incrementa la cantidad de filas)\n",
    "\n",
    "a = np.arange(0, 5)\n",
    "a"
   ]
  },
  {
   "cell_type": "code",
   "execution_count": 26,
   "id": "ed65ded6",
   "metadata": {
    "execution": {
     "iopub.execute_input": "2021-04-15T21:42:25.192518Z",
     "iopub.status.busy": "2021-04-15T21:42:25.191963Z",
     "iopub.status.idle": "2021-04-15T21:42:25.194977Z",
     "shell.execute_reply": "2021-04-15T21:42:25.194460Z"
    }
   },
   "outputs": [
    {
     "data": {
      "text/plain": [
       "array([5, 6, 7, 8, 9])"
      ]
     },
     "execution_count": 1,
     "metadata": {},
     "output_type": "execute_result"
    }
   ],
   "source": [
    "b = np.arange(5, 10)\n",
    "b"
   ]
  },
  {
   "cell_type": "code",
   "execution_count": 27,
   "id": "364b4462",
   "metadata": {
    "execution": {
     "iopub.execute_input": "2021-04-15T21:42:25.199848Z",
     "iopub.status.busy": "2021-04-15T21:42:25.199272Z",
     "iopub.status.idle": "2021-04-15T21:42:25.202642Z",
     "shell.execute_reply": "2021-04-15T21:42:25.203107Z"
    }
   },
   "outputs": [
    {
     "data": {
      "text/plain": [
       "array([[0, 1, 2, 3, 4],\n",
       "       [5, 6, 7, 8, 9]])"
      ]
     },
     "execution_count": 1,
     "metadata": {},
     "output_type": "execute_result"
    }
   ],
   "source": [
    "combinados_verticalmente = np.vstack((a, b))\n",
    "combinados_verticalmente"
   ]
  },
  {
   "cell_type": "code",
   "execution_count": 28,
   "id": "34941468",
   "metadata": {
    "execution": {
     "iopub.execute_input": "2021-04-15T21:42:25.208185Z",
     "iopub.status.busy": "2021-04-15T21:42:25.207508Z",
     "iopub.status.idle": "2021-04-15T21:42:25.210249Z",
     "shell.execute_reply": "2021-04-15T21:42:25.210729Z"
    }
   },
   "outputs": [
    {
     "data": {
      "text/plain": [
       "array([0, 1, 2, 3, 4, 5, 6, 7, 8, 9])"
      ]
     },
     "execution_count": 1,
     "metadata": {},
     "output_type": "execute_result"
    }
   ],
   "source": [
    "# También se pueden combinar horizontalmente (se incrementa la cantidad de columnas)\n",
    "\n",
    "combinados_horizontalmente = np.hstack((a, b))\n",
    "combinados_horizontalmente"
   ]
  },
  {
   "cell_type": "markdown",
   "id": "5fca6a85",
   "metadata": {},
   "source": [
    "### Operaciones matemáticas"
   ]
  },
  {
   "cell_type": "code",
   "execution_count": 29,
   "id": "ad595425",
   "metadata": {
    "execution": {
     "iopub.execute_input": "2021-04-15T21:42:25.215339Z",
     "iopub.status.busy": "2021-04-15T21:42:25.214782Z",
     "iopub.status.idle": "2021-04-15T21:42:25.217746Z",
     "shell.execute_reply": "2021-04-15T21:42:25.217152Z"
    }
   },
   "outputs": [
    {
     "data": {
      "text/plain": [
       "array([3, 4, 5, 6])"
      ]
     },
     "execution_count": 1,
     "metadata": {},
     "output_type": "execute_result"
    }
   ],
   "source": [
    "a = np.array([1, 2, 3, 4])\n",
    "\n",
    "a + 2"
   ]
  },
  {
   "cell_type": "code",
   "execution_count": 30,
   "id": "8c19754c",
   "metadata": {
    "execution": {
     "iopub.execute_input": "2021-04-15T21:42:25.221999Z",
     "iopub.status.busy": "2021-04-15T21:42:25.221201Z",
     "iopub.status.idle": "2021-04-15T21:42:25.223672Z",
     "shell.execute_reply": "2021-04-15T21:42:25.224128Z"
    }
   },
   "outputs": [
    {
     "data": {
      "text/plain": [
       "array([ 1,  4,  9, 16])"
      ]
     },
     "execution_count": 1,
     "metadata": {},
     "output_type": "execute_result"
    }
   ],
   "source": [
    "a ** 2"
   ]
  },
  {
   "cell_type": "code",
   "execution_count": 31,
   "id": "be78322d",
   "metadata": {
    "execution": {
     "iopub.execute_input": "2021-04-15T21:42:25.229437Z",
     "iopub.status.busy": "2021-04-15T21:42:25.228880Z",
     "iopub.status.idle": "2021-04-15T21:42:25.231647Z",
     "shell.execute_reply": "2021-04-15T21:42:25.232184Z"
    }
   },
   "outputs": [
    {
     "name": "stdout",
     "output_type": "stream",
     "text": [
      "b: [1. 1. 1. 1.]\n"
     ]
    },
    {
     "data": {
      "text/plain": [
       "array([2., 3., 4., 5.])"
      ]
     },
     "execution_count": 1,
     "metadata": {},
     "output_type": "execute_result"
    }
   ],
   "source": [
    "b = np.ones(4)\n",
    "print(f\"b: {b}\")\n",
    "a + b"
   ]
  },
  {
   "cell_type": "markdown",
   "id": "32aefcd5",
   "metadata": {},
   "source": [
    "### Estadística"
   ]
  },
  {
   "cell_type": "code",
   "execution_count": 32,
   "id": "190a4134",
   "metadata": {
    "execution": {
     "iopub.execute_input": "2021-04-15T21:42:25.237407Z",
     "iopub.status.busy": "2021-04-15T21:42:25.236834Z",
     "iopub.status.idle": "2021-04-15T21:42:25.239553Z",
     "shell.execute_reply": "2021-04-15T21:42:25.240010Z"
    }
   },
   "outputs": [
    {
     "data": {
      "text/plain": [
       "1"
      ]
     },
     "execution_count": 1,
     "metadata": {},
     "output_type": "execute_result"
    }
   ],
   "source": [
    "a = np.array([[5, 2, 1, 8], [26, 4, 17, 9]])\n",
    "\n",
    "np.min(a)"
   ]
  },
  {
   "cell_type": "code",
   "execution_count": 33,
   "id": "b427980f",
   "metadata": {
    "execution": {
     "iopub.execute_input": "2021-04-15T21:42:25.245150Z",
     "iopub.status.busy": "2021-04-15T21:42:25.244574Z",
     "iopub.status.idle": "2021-04-15T21:42:25.246621Z",
     "shell.execute_reply": "2021-04-15T21:42:25.247077Z"
    }
   },
   "outputs": [
    {
     "data": {
      "text/plain": [
       "26"
      ]
     },
     "execution_count": 1,
     "metadata": {},
     "output_type": "execute_result"
    }
   ],
   "source": [
    "np.max(a)"
   ]
  },
  {
   "cell_type": "code",
   "execution_count": 34,
   "id": "738edc56",
   "metadata": {
    "execution": {
     "iopub.execute_input": "2021-04-15T21:42:25.250905Z",
     "iopub.status.busy": "2021-04-15T21:42:25.250330Z",
     "iopub.status.idle": "2021-04-15T21:42:25.253384Z",
     "shell.execute_reply": "2021-04-15T21:42:25.252898Z"
    }
   },
   "outputs": [
    {
     "data": {
      "text/plain": [
       "72"
      ]
     },
     "execution_count": 1,
     "metadata": {},
     "output_type": "execute_result"
    }
   ],
   "source": [
    "np.sum(a)"
   ]
  },
  {
   "cell_type": "markdown",
   "id": "34cb546c",
   "metadata": {},
   "source": [
    "### Más magia"
   ]
  },
  {
   "cell_type": "code",
   "execution_count": 35,
   "id": "a6c0c2da",
   "metadata": {
    "execution": {
     "iopub.execute_input": "2021-04-15T21:42:25.258644Z",
     "iopub.status.busy": "2021-04-15T21:42:25.258041Z",
     "iopub.status.idle": "2021-04-15T21:42:25.260051Z",
     "shell.execute_reply": "2021-04-15T21:42:25.260500Z"
    }
   },
   "outputs": [
    {
     "data": {
      "text/plain": [
       "array([[False, False, False,  True],\n",
       "       [ True, False,  True,  True]])"
      ]
     },
     "execution_count": 1,
     "metadata": {},
     "output_type": "execute_result"
    }
   ],
   "source": [
    "a = np.array([[5, 2, 1, 8], [26, 4, 17, 9]])\n",
    "\n",
    "a > 5"
   ]
  },
  {
   "cell_type": "code",
   "execution_count": 36,
   "id": "e93188ba",
   "metadata": {
    "execution": {
     "iopub.execute_input": "2021-04-15T21:42:25.265848Z",
     "iopub.status.busy": "2021-04-15T21:42:25.263487Z",
     "iopub.status.idle": "2021-04-15T21:42:25.267527Z",
     "shell.execute_reply": "2021-04-15T21:42:25.268070Z"
    }
   },
   "outputs": [
    {
     "data": {
      "text/plain": [
       "array([ 8, 26, 17,  9])"
      ]
     },
     "execution_count": 1,
     "metadata": {},
     "output_type": "execute_result"
    }
   ],
   "source": [
    "a[a > 5]"
   ]
  },
  {
   "cell_type": "markdown",
   "id": "d92a887a",
   "metadata": {},
   "source": [
    "### Broadcasting"
   ]
  },
  {
   "cell_type": "markdown",
   "id": "b16fed32",
   "metadata": {},
   "source": [
    "Permite realizar operaciones entre dos numpy arrays de distintas dimensiones.\n",
    "Para lograr esto, las dimensiones de los mismos deben ser compatibles. Dos dimensiones son compatibles cuando:\n",
    "1. Son iguales\n",
    "2. Alguna de las dos es 1"
   ]
  },
  {
   "cell_type": "code",
   "execution_count": 37,
   "id": "918ed753",
   "metadata": {
    "execution": {
     "iopub.execute_input": "2021-04-15T21:42:25.273293Z",
     "iopub.status.busy": "2021-04-15T21:42:25.272615Z",
     "iopub.status.idle": "2021-04-15T21:42:25.274727Z",
     "shell.execute_reply": "2021-04-15T21:42:25.275188Z"
    }
   },
   "outputs": [
    {
     "data": {
      "text/plain": [
       "array([[ 5,  2,  1,  8],\n",
       "       [26,  4, 17,  9]])"
      ]
     },
     "execution_count": 1,
     "metadata": {},
     "output_type": "execute_result"
    }
   ],
   "source": [
    "a = np.array([[5, 2, 1, 8], [26, 4, 17, 9]])\n",
    "a"
   ]
  },
  {
   "cell_type": "code",
   "execution_count": 38,
   "id": "8a4bb395",
   "metadata": {
    "execution": {
     "iopub.execute_input": "2021-04-15T21:42:25.280629Z",
     "iopub.status.busy": "2021-04-15T21:42:25.280070Z",
     "iopub.status.idle": "2021-04-15T21:42:25.281930Z",
     "shell.execute_reply": "2021-04-15T21:42:25.282379Z"
    }
   },
   "outputs": [
    {
     "name": "stdout",
     "output_type": "stream",
     "text": [
      "a: (2, 4)\n",
      "b: (4,)\n",
      "\n",
      "a + b:\n",
      " [[10  4  2 16]\n",
      " [31  6 18 17]]\n"
     ]
    }
   ],
   "source": [
    "# Armamos un array que tenga la misma cantidad de columnas que a\n",
    "b = np.array([5, 2, 1, 8])\n",
    "print(f\"a: {a.shape}\")\n",
    "print(f\"b: {b.shape}\")\n",
    "# a + b\n",
    "print()\n",
    "print(f\"a + b:\\n {a + b}\")"
   ]
  },
  {
   "cell_type": "code",
   "execution_count": 39,
   "id": "290ea8f3",
   "metadata": {
    "execution": {
     "iopub.execute_input": "2021-04-15T21:42:25.286805Z",
     "iopub.status.busy": "2021-04-15T21:42:25.286148Z",
     "iopub.status.idle": "2021-04-15T21:42:25.356733Z",
     "shell.execute_reply": "2021-04-15T21:42:25.357226Z"
    },
    "tags": [
     "raises-exception"
    ]
   },
   "outputs": [
    {
     "name": "stdout",
     "output_type": "stream",
     "text": [
      "a: (2, 4)\n",
      "b: (3,)\n"
     ]
    },
    {
     "ename": "ValueError",
     "evalue": "operands could not be broadcast together with shapes (2,4) (3,) ",
     "output_type": "error",
     "traceback": [
      "\u001b[0;31m---------------------------------------------------------------------------\u001b[0m",
      "\u001b[0;31mValueError\u001b[0m                                Traceback (most recent call last)",
      "\u001b[0;32m<ipython-input-1-fe11b6ae6346>\u001b[0m in \u001b[0;36m<module>\u001b[0;34m\u001b[0m\n\u001b[1;32m      3\u001b[0m \u001b[0mprint\u001b[0m\u001b[0;34m(\u001b[0m\u001b[0;34mf\"a: {a.shape}\"\u001b[0m\u001b[0;34m)\u001b[0m\u001b[0;34m\u001b[0m\u001b[0;34m\u001b[0m\u001b[0m\n\u001b[1;32m      4\u001b[0m \u001b[0mprint\u001b[0m\u001b[0;34m(\u001b[0m\u001b[0;34mf\"b: {b.shape}\"\u001b[0m\u001b[0;34m)\u001b[0m\u001b[0;34m\u001b[0m\u001b[0;34m\u001b[0m\u001b[0m\n\u001b[0;32m----> 5\u001b[0;31m \u001b[0ma\u001b[0m \u001b[0;34m+\u001b[0m \u001b[0mb\u001b[0m\u001b[0;34m\u001b[0m\u001b[0;34m\u001b[0m\u001b[0m\n\u001b[0m",
      "\u001b[0;31mValueError\u001b[0m: operands could not be broadcast together with shapes (2,4) (3,) "
     ]
    }
   ],
   "source": [
    "# Armamos un array que tenga distinta cantidad de filas y columnas que a\n",
    "b = np.array([5, 1, 8])\n",
    "print(f\"a: {a.shape}\")\n",
    "print(f\"b: {b.shape}\")\n",
    "a + b"
   ]
  },
  {
   "cell_type": "code",
   "execution_count": 40,
   "id": "5ae5bca3",
   "metadata": {
    "execution": {
     "iopub.execute_input": "2021-04-15T21:42:25.363153Z",
     "iopub.status.busy": "2021-04-15T21:42:25.362012Z",
     "iopub.status.idle": "2021-04-15T21:42:25.367392Z",
     "shell.execute_reply": "2021-04-15T21:42:25.366891Z"
    }
   },
   "outputs": [
    {
     "name": "stdout",
     "output_type": "stream",
     "text": [
      "a: (2, 4)\n",
      "b: (2, 1)\n"
     ]
    },
    {
     "data": {
      "text/plain": [
       "array([[ 7,  4,  3, 10],\n",
       "       [27,  5, 18, 10]])"
      ]
     },
     "execution_count": 1,
     "metadata": {},
     "output_type": "execute_result"
    }
   ],
   "source": [
    "# Armamos un array que tenga la misma cantidad de filas que a\n",
    "b = np.array([[2], [1]])\n",
    "print(f\"a: {a.shape}\")\n",
    "print(f\"b: {b.shape}\")\n",
    "a + b"
   ]
  },
  {
   "cell_type": "code",
   "execution_count": 41,
   "id": "ed403c3d",
   "metadata": {
    "execution": {
     "iopub.execute_input": "2021-04-15T21:42:25.372208Z",
     "iopub.status.busy": "2021-04-15T21:42:25.371612Z",
     "iopub.status.idle": "2021-04-15T21:42:25.374402Z",
     "shell.execute_reply": "2021-04-15T21:42:25.375063Z"
    }
   },
   "outputs": [
    {
     "data": {
      "text/plain": [
       "array([[ 9,  6,  5, 12],\n",
       "       [30,  8, 21, 13]])"
      ]
     },
     "execution_count": 1,
     "metadata": {},
     "output_type": "execute_result"
    }
   ],
   "source": [
    "# Si b es un entero\n",
    "b = 4\n",
    "a + b"
   ]
  },
  {
   "cell_type": "code",
   "execution_count": null,
   "id": "bcfb3bf8",
   "metadata": {},
   "outputs": [],
   "source": []
  }
 ],
 "metadata": {
  "jupytext": {
   "encoding": "# -*- coding: utf-8 -*-",
   "formats": "ipynb,py:light"
  },
  "kernelspec": {
   "display_name": "Python 3",
   "language": "python",
   "name": "python3"
  },
  "language_info": {
   "codemirror_mode": {
    "name": "ipython",
    "version": 3
   },
   "file_extension": ".py",
   "mimetype": "text/x-python",
   "name": "python",
   "nbconvert_exporter": "python",
   "pygments_lexer": "ipython3",
   "version": "3.7.10"
  }
 },
 "nbformat": 4,
 "nbformat_minor": 5
}
