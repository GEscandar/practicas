{
 "cells": [
  {
   "cell_type": "markdown",
   "id": "51079581",
   "metadata": {},
   "source": [
    "## Clase 1 - Introducción a Numpy\n",
    "\n",
    "Numpy es una biblioteca para Python que facilita el manejo de arreglos multidimensionales y ofrece varias herramientas para trabajar con ellos. Muchas de las bibliotecas de Python que son ampliamente usadas hoy en día, como pandas, están construidas sobre numpy.\n",
    "\n",
    "### Listas de Python vs arreglos de Numpy\n",
    "\n",
    "A primera vista, un arreglo de numpy puede resultar idéntico a una lista de python, pero a medida que la cantidad de datos comienza a incrementar, los arreglos de numpy terminan ofreciendo un manejo más eficiente de la memoria.\n",
    "\n",
    "Para comenzar, vamos a crear un arreglo de numpy:"
   ]
  },
  {
   "cell_type": "code",
   "execution_count": 1,
   "id": "ee13f36b",
   "metadata": {
    "execution": {
     "iopub.execute_input": "2021-04-19T04:16:35.195459Z",
     "iopub.status.busy": "2021-04-19T04:16:35.194655Z",
     "iopub.status.idle": "2021-04-19T04:16:35.380253Z",
     "shell.execute_reply": "2021-04-19T04:16:35.380784Z"
    }
   },
   "outputs": [
    {
     "data": {
      "text/plain": [
       "array([1, 2, 3, 4])"
      ]
     },
     "execution_count": 1,
     "metadata": {},
     "output_type": "execute_result"
    }
   ],
   "source": [
    "import numpy as np\n",
    "\n",
    "np.array([1, 2, 3, 4])"
   ]
  },
  {
   "cell_type": "markdown",
   "id": "653ede5a",
   "metadata": {},
   "source": [
    "Los arreglos pueden ser también multidimensionales:"
   ]
  },
  {
   "cell_type": "code",
   "execution_count": 2,
   "id": "0c09cfcf",
   "metadata": {
    "execution": {
     "iopub.execute_input": "2021-04-19T04:16:35.387460Z",
     "iopub.status.busy": "2021-04-19T04:16:35.386373Z",
     "iopub.status.idle": "2021-04-19T04:16:35.389608Z",
     "shell.execute_reply": "2021-04-19T04:16:35.390117Z"
    }
   },
   "outputs": [
    {
     "data": {
      "text/plain": [
       "array([[1, 2, 3, 4],\n",
       "       [5, 6, 7, 8]])"
      ]
     },
     "execution_count": 1,
     "metadata": {},
     "output_type": "execute_result"
    }
   ],
   "source": [
    "np.array([[1, 2, 3, 4], [5, 6, 7, 8]])"
   ]
  },
  {
   "cell_type": "markdown",
   "id": "f780adea",
   "metadata": {},
   "source": [
    "Es importante tener en cuenta que un arreglo de numpy tiene un tipo fijo de datos, entonces si se quiere agregar un dato de un tipo diferente al de la mayoría, este va a ser modificado para adaptarse al resto"
   ]
  },
  {
   "cell_type": "code",
   "execution_count": 3,
   "id": "aa68cc05",
   "metadata": {
    "execution": {
     "iopub.execute_input": "2021-04-19T04:16:35.395651Z",
     "iopub.status.busy": "2021-04-19T04:16:35.394018Z",
     "iopub.status.idle": "2021-04-19T04:16:35.396333Z",
     "shell.execute_reply": "2021-04-19T04:16:35.396862Z"
    }
   },
   "outputs": [],
   "source": [
    "enteros = np.array([1, 2, 3, 4])"
   ]
  },
  {
   "cell_type": "markdown",
   "id": "dd2e097b",
   "metadata": {},
   "source": [
    "Agrego un elemento de tipo flotante en la posición 1"
   ]
  },
  {
   "cell_type": "code",
   "execution_count": 4,
   "id": "7cd6e488",
   "metadata": {
    "execution": {
     "iopub.execute_input": "2021-04-19T04:16:35.403382Z",
     "iopub.status.busy": "2021-04-19T04:16:35.402060Z",
     "iopub.status.idle": "2021-04-19T04:16:35.405952Z",
     "shell.execute_reply": "2021-04-19T04:16:35.405413Z"
    }
   },
   "outputs": [
    {
     "data": {
      "text/plain": [
       "array([1, 8, 3, 4])"
      ]
     },
     "execution_count": 1,
     "metadata": {},
     "output_type": "execute_result"
    }
   ],
   "source": [
    "enteros[1] = 8.4727\n",
    "enteros"
   ]
  },
  {
   "cell_type": "markdown",
   "id": "5c2634a0",
   "metadata": {},
   "source": [
    "Numpy también nos permite crear arreglos con valores aleatorios del 0 al 1.\n",
    "Basta con pasarle las dimensiones del arreglo que queremos crear."
   ]
  },
  {
   "cell_type": "code",
   "execution_count": 5,
   "id": "af7ad310",
   "metadata": {
    "execution": {
     "iopub.execute_input": "2021-04-19T04:16:35.412016Z",
     "iopub.status.busy": "2021-04-19T04:16:35.411327Z",
     "iopub.status.idle": "2021-04-19T04:16:35.414914Z",
     "shell.execute_reply": "2021-04-19T04:16:35.415454Z"
    }
   },
   "outputs": [
    {
     "data": {
      "text/plain": [
       "array([[0.70446395, 0.49551712, 0.59162283],\n",
       "       [0.26456168, 0.45725482, 0.69176282]])"
      ]
     },
     "execution_count": 1,
     "metadata": {},
     "output_type": "execute_result"
    }
   ],
   "source": [
    "np.random.rand(2, 3)"
   ]
  },
  {
   "cell_type": "markdown",
   "id": "cc185387",
   "metadata": {},
   "source": [
    "## Slicing\n",
    "\n",
    "De la misma forma que con las listas de python, pueden obtenerse slices de los arreglos de numpy"
   ]
  },
  {
   "cell_type": "code",
   "execution_count": 6,
   "id": "be5dcb6a",
   "metadata": {
    "execution": {
     "iopub.execute_input": "2021-04-19T04:16:35.421156Z",
     "iopub.status.busy": "2021-04-19T04:16:35.420538Z",
     "iopub.status.idle": "2021-04-19T04:16:35.423690Z",
     "shell.execute_reply": "2021-04-19T04:16:35.424211Z"
    },
    "lines_to_next_cell": 2
   },
   "outputs": [
    {
     "data": {
      "text/plain": [
       "array([1, 8])"
      ]
     },
     "execution_count": 1,
     "metadata": {},
     "output_type": "execute_result"
    }
   ],
   "source": [
    "enteros[:2]"
   ]
  },
  {
   "cell_type": "code",
   "execution_count": 7,
   "id": "34db60d0",
   "metadata": {
    "execution": {
     "iopub.execute_input": "2021-04-19T04:16:35.432169Z",
     "iopub.status.busy": "2021-04-19T04:16:35.430653Z",
     "iopub.status.idle": "2021-04-19T04:16:35.434363Z",
     "shell.execute_reply": "2021-04-19T04:16:35.433772Z"
    }
   },
   "outputs": [
    {
     "name": "stdout",
     "output_type": "stream",
     "text": [
      "Original: \n",
      "[[ 1  2  3  4]\n",
      " [ 5  6  7  8]\n",
      " [ 9 10 11 12]]\n",
      "\n",
      "Recortada: \n",
      "[[1 2 3]\n",
      " [5 6 7]]\n"
     ]
    }
   ],
   "source": [
    "matriz_de_enteros = np.array([[1, 2, 3, 4], [5, 6, 7, 8], [9, 10, 11, 12]])\n",
    "\n",
    "print('Original: ')\n",
    "print(matriz_de_enteros)\n",
    "\n",
    "print()\n",
    "\n",
    "print('Recortada: ')\n",
    "print(matriz_de_enteros[:2, :3])"
   ]
  },
  {
   "cell_type": "code",
   "execution_count": 8,
   "id": "3ef54f65",
   "metadata": {
    "execution": {
     "iopub.execute_input": "2021-04-19T04:16:35.442098Z",
     "iopub.status.busy": "2021-04-19T04:16:35.440604Z",
     "iopub.status.idle": "2021-04-19T04:16:35.444360Z",
     "shell.execute_reply": "2021-04-19T04:16:35.443805Z"
    }
   },
   "outputs": [
    {
     "data": {
      "text/plain": [
       "array([[[ 0,  1,  2,  3,  4],\n",
       "        [ 5,  6,  7,  8,  9],\n",
       "        [10, 11, 12, 13, 14]],\n",
       "\n",
       "       [[15, 16, 17, 18, 19],\n",
       "        [20, 21, 22, 23, 24],\n",
       "        [25, 26, 27, 28, 29]],\n",
       "\n",
       "       [[30, 31, 32, 33, 34],\n",
       "        [35, 36, 37, 38, 39],\n",
       "        [40, 41, 42, 43, 44]]])"
      ]
     },
     "execution_count": 1,
     "metadata": {},
     "output_type": "execute_result"
    }
   ],
   "source": [
    "# 3D\n",
    "# arange() genera valores de un intervalo pasado por parámetro\n",
    "# reshape() modifica la forma del numpy array\n",
    "\n",
    "x = np.arange(45).reshape(3, 3, 5)\n",
    "x"
   ]
  },
  {
   "cell_type": "code",
   "execution_count": 9,
   "id": "1c08c0a8",
   "metadata": {
    "execution": {
     "iopub.execute_input": "2021-04-19T04:16:35.450192Z",
     "iopub.status.busy": "2021-04-19T04:16:35.449042Z",
     "iopub.status.idle": "2021-04-19T04:16:35.452226Z",
     "shell.execute_reply": "2021-04-19T04:16:35.452768Z"
    }
   },
   "outputs": [
    {
     "data": {
      "text/plain": [
       "array([[ 0,  1,  2,  3,  4],\n",
       "       [ 5,  6,  7,  8,  9],\n",
       "       [10, 11, 12, 13, 14]])"
      ]
     },
     "execution_count": 1,
     "metadata": {},
     "output_type": "execute_result"
    }
   ],
   "source": [
    "x[0]"
   ]
  },
  {
   "cell_type": "code",
   "execution_count": 10,
   "id": "d4673798",
   "metadata": {
    "execution": {
     "iopub.execute_input": "2021-04-19T04:16:35.458317Z",
     "iopub.status.busy": "2021-04-19T04:16:35.457041Z",
     "iopub.status.idle": "2021-04-19T04:16:35.460416Z",
     "shell.execute_reply": "2021-04-19T04:16:35.460930Z"
    }
   },
   "outputs": [
    {
     "data": {
      "text/plain": [
       "array([5, 6, 7, 8, 9])"
      ]
     },
     "execution_count": 1,
     "metadata": {},
     "output_type": "execute_result"
    }
   ],
   "source": [
    "x[0][1]"
   ]
  },
  {
   "cell_type": "code",
   "execution_count": 11,
   "id": "cc4879f5",
   "metadata": {
    "execution": {
     "iopub.execute_input": "2021-04-19T04:16:35.467002Z",
     "iopub.status.busy": "2021-04-19T04:16:35.465889Z",
     "iopub.status.idle": "2021-04-19T04:16:35.468796Z",
     "shell.execute_reply": "2021-04-19T04:16:35.469496Z"
    }
   },
   "outputs": [
    {
     "data": {
      "text/plain": [
       "7"
      ]
     },
     "execution_count": 1,
     "metadata": {},
     "output_type": "execute_result"
    }
   ],
   "source": [
    "x[0][1][2]"
   ]
  },
  {
   "cell_type": "markdown",
   "id": "a0cc818f",
   "metadata": {},
   "source": [
    "\n",
    "¿Cómo conseguimos estos valores? ([fuente](https://towardsdatascience.com/indexing-and-slicing-of-1d-2d-and-3d-arrays-in-numpy-e731afff0bbe))\n",
    "\n",
    "![title](img/matrix.png)"
   ]
  },
  {
   "cell_type": "code",
   "execution_count": 12,
   "id": "772ae270",
   "metadata": {
    "execution": {
     "iopub.execute_input": "2021-04-19T04:16:35.474008Z",
     "iopub.status.busy": "2021-04-19T04:16:35.473360Z",
     "iopub.status.idle": "2021-04-19T04:16:35.476963Z",
     "shell.execute_reply": "2021-04-19T04:16:35.476431Z"
    }
   },
   "outputs": [
    {
     "data": {
      "text/plain": [
       "array([[[16, 17, 18],\n",
       "        [21, 22, 23]],\n",
       "\n",
       "       [[31, 32, 33],\n",
       "        [36, 37, 38]]])"
      ]
     },
     "execution_count": 1,
     "metadata": {},
     "output_type": "execute_result"
    }
   ],
   "source": [
    "x[1:, 0:2, 1:4]"
   ]
  },
  {
   "cell_type": "markdown",
   "id": "18e83403",
   "metadata": {},
   "source": [
    "### Copia de arreglos"
   ]
  },
  {
   "cell_type": "code",
   "execution_count": 13,
   "id": "2bf430bc",
   "metadata": {
    "execution": {
     "iopub.execute_input": "2021-04-19T04:16:35.482702Z",
     "iopub.status.busy": "2021-04-19T04:16:35.482033Z",
     "iopub.status.idle": "2021-04-19T04:16:35.484339Z",
     "shell.execute_reply": "2021-04-19T04:16:35.484896Z"
    }
   },
   "outputs": [
    {
     "data": {
      "text/plain": [
       "array([1, 2, 3, 4])"
      ]
     },
     "execution_count": 1,
     "metadata": {},
     "output_type": "execute_result"
    }
   ],
   "source": [
    "# Los arreglos no se copian con asignación\n",
    "\n",
    "a = np.array([1, 2, 3, 4])\n",
    "b = a\n",
    "b"
   ]
  },
  {
   "cell_type": "code",
   "execution_count": 14,
   "id": "53e2a2ba",
   "metadata": {
    "execution": {
     "iopub.execute_input": "2021-04-19T04:16:35.488894Z",
     "iopub.status.busy": "2021-04-19T04:16:35.488291Z",
     "iopub.status.idle": "2021-04-19T04:16:35.491511Z",
     "shell.execute_reply": "2021-04-19T04:16:35.492033Z"
    }
   },
   "outputs": [
    {
     "data": {
      "text/plain": [
       "array([ 1, 20,  3,  4])"
      ]
     },
     "execution_count": 1,
     "metadata": {},
     "output_type": "execute_result"
    }
   ],
   "source": [
    "b[1] = 20\n",
    "b"
   ]
  },
  {
   "cell_type": "code",
   "execution_count": 15,
   "id": "b4a28266",
   "metadata": {
    "execution": {
     "iopub.execute_input": "2021-04-19T04:16:35.496273Z",
     "iopub.status.busy": "2021-04-19T04:16:35.495629Z",
     "iopub.status.idle": "2021-04-19T04:16:35.498783Z",
     "shell.execute_reply": "2021-04-19T04:16:35.499341Z"
    }
   },
   "outputs": [
    {
     "data": {
      "text/plain": [
       "array([ 1, 20,  3,  4])"
      ]
     },
     "execution_count": 1,
     "metadata": {},
     "output_type": "execute_result"
    }
   ],
   "source": [
    "a"
   ]
  },
  {
   "cell_type": "code",
   "execution_count": 16,
   "id": "67f3eeb6",
   "metadata": {
    "execution": {
     "iopub.execute_input": "2021-04-19T04:16:35.504482Z",
     "iopub.status.busy": "2021-04-19T04:16:35.503797Z",
     "iopub.status.idle": "2021-04-19T04:16:35.507195Z",
     "shell.execute_reply": "2021-04-19T04:16:35.506660Z"
    }
   },
   "outputs": [
    {
     "data": {
      "text/plain": [
       "array([ 1, 20,  3,  4])"
      ]
     },
     "execution_count": 1,
     "metadata": {},
     "output_type": "execute_result"
    }
   ],
   "source": [
    "# Para copiar un arreglo a otra variable debemos usar copy()\n",
    "\n",
    "a = np.array([1, 2, 3, 4])\n",
    "b = a.copy()\n",
    "b[1] = 20\n",
    "b"
   ]
  },
  {
   "cell_type": "code",
   "execution_count": 17,
   "id": "8b7bd39f",
   "metadata": {
    "execution": {
     "iopub.execute_input": "2021-04-19T04:16:35.511481Z",
     "iopub.status.busy": "2021-04-19T04:16:35.510847Z",
     "iopub.status.idle": "2021-04-19T04:16:35.514290Z",
     "shell.execute_reply": "2021-04-19T04:16:35.513722Z"
    }
   },
   "outputs": [
    {
     "data": {
      "text/plain": [
       "array([1, 2, 3, 4])"
      ]
     },
     "execution_count": 1,
     "metadata": {},
     "output_type": "execute_result"
    }
   ],
   "source": [
    "a"
   ]
  },
  {
   "cell_type": "markdown",
   "id": "23f91cb0",
   "metadata": {},
   "source": [
    "### Modificación de dimensiones"
   ]
  },
  {
   "cell_type": "markdown",
   "id": "44100a89",
   "metadata": {},
   "source": [
    "Existen varias operaciones para cambiar la forma de un arreglo de numpy"
   ]
  },
  {
   "cell_type": "code",
   "execution_count": 18,
   "id": "65ed7e76",
   "metadata": {
    "execution": {
     "iopub.execute_input": "2021-04-19T04:16:35.518540Z",
     "iopub.status.busy": "2021-04-19T04:16:35.517873Z",
     "iopub.status.idle": "2021-04-19T04:16:35.521017Z",
     "shell.execute_reply": "2021-04-19T04:16:35.521655Z"
    }
   },
   "outputs": [
    {
     "data": {
      "text/plain": [
       "array([[ 1,  2,  3,  4],\n",
       "       [ 5,  6,  7,  8],\n",
       "       [ 9, 10, 11, 12]])"
      ]
     },
     "execution_count": 1,
     "metadata": {},
     "output_type": "execute_result"
    }
   ],
   "source": [
    "matriz_de_enteros"
   ]
  },
  {
   "cell_type": "code",
   "execution_count": 19,
   "id": "dd666cda",
   "metadata": {
    "execution": {
     "iopub.execute_input": "2021-04-19T04:16:35.526223Z",
     "iopub.status.busy": "2021-04-19T04:16:35.525554Z",
     "iopub.status.idle": "2021-04-19T04:16:35.528472Z",
     "shell.execute_reply": "2021-04-19T04:16:35.528988Z"
    }
   },
   "outputs": [
    {
     "data": {
      "text/plain": [
       "2"
      ]
     },
     "execution_count": 1,
     "metadata": {},
     "output_type": "execute_result"
    }
   ],
   "source": [
    "# Obtener las dimensiones del arreglo\n",
    "\n",
    "matriz_de_enteros.ndim"
   ]
  },
  {
   "cell_type": "code",
   "execution_count": 20,
   "id": "a3d8cbcb",
   "metadata": {
    "execution": {
     "iopub.execute_input": "2021-04-19T04:16:35.533205Z",
     "iopub.status.busy": "2021-04-19T04:16:35.532542Z",
     "iopub.status.idle": "2021-04-19T04:16:35.535941Z",
     "shell.execute_reply": "2021-04-19T04:16:35.535395Z"
    }
   },
   "outputs": [
    {
     "data": {
      "text/plain": [
       "(3, 4)"
      ]
     },
     "execution_count": 1,
     "metadata": {},
     "output_type": "execute_result"
    }
   ],
   "source": [
    "# Obtener la forma del arreglo\n",
    "\n",
    "matriz_de_enteros.shape"
   ]
  },
  {
   "cell_type": "code",
   "execution_count": 21,
   "id": "f27aeaaa",
   "metadata": {
    "execution": {
     "iopub.execute_input": "2021-04-19T04:16:35.541319Z",
     "iopub.status.busy": "2021-04-19T04:16:35.540681Z",
     "iopub.status.idle": "2021-04-19T04:16:35.544171Z",
     "shell.execute_reply": "2021-04-19T04:16:35.544696Z"
    }
   },
   "outputs": [
    {
     "name": "stdout",
     "output_type": "stream",
     "text": [
      "enteros: [ 3  6  9 12]\n"
     ]
    },
    {
     "data": {
      "text/plain": [
       "array([[ 3,  6],\n",
       "       [ 9, 12]])"
      ]
     },
     "execution_count": 1,
     "metadata": {},
     "output_type": "execute_result"
    }
   ],
   "source": [
    "# Modificar la forma de un arreglo\n",
    "\n",
    "enteros = np.array([3, 6, 9, 12])\n",
    "print(f\"enteros: {enteros}\")\n",
    "np.reshape(enteros, (2, 2))"
   ]
  },
  {
   "cell_type": "code",
   "execution_count": 22,
   "id": "a8f20d8e",
   "metadata": {
    "execution": {
     "iopub.execute_input": "2021-04-19T04:16:35.549370Z",
     "iopub.status.busy": "2021-04-19T04:16:35.548721Z",
     "iopub.status.idle": "2021-04-19T04:16:35.552244Z",
     "shell.execute_reply": "2021-04-19T04:16:35.551619Z"
    }
   },
   "outputs": [
    {
     "data": {
      "text/plain": [
       "array([[1., 1.],\n",
       "       [1., 1.]])"
      ]
     },
     "execution_count": 1,
     "metadata": {},
     "output_type": "execute_result"
    }
   ],
   "source": [
    "# Aplanar un arreglo\n",
    "\n",
    "a = np.ones((2, 2))\n",
    "a"
   ]
  },
  {
   "cell_type": "code",
   "execution_count": 23,
   "id": "bffd3ab5",
   "metadata": {
    "execution": {
     "iopub.execute_input": "2021-04-19T04:16:35.556670Z",
     "iopub.status.busy": "2021-04-19T04:16:35.556035Z",
     "iopub.status.idle": "2021-04-19T04:16:35.559000Z",
     "shell.execute_reply": "2021-04-19T04:16:35.559507Z"
    }
   },
   "outputs": [
    {
     "data": {
      "text/plain": [
       "array([1., 1., 1., 1.])"
      ]
     },
     "execution_count": 1,
     "metadata": {},
     "output_type": "execute_result"
    }
   ],
   "source": [
    "a.flatten()"
   ]
  },
  {
   "cell_type": "code",
   "execution_count": 24,
   "id": "b3999ff4",
   "metadata": {
    "execution": {
     "iopub.execute_input": "2021-04-19T04:16:35.563940Z",
     "iopub.status.busy": "2021-04-19T04:16:35.563328Z",
     "iopub.status.idle": "2021-04-19T04:16:35.566238Z",
     "shell.execute_reply": "2021-04-19T04:16:35.566731Z"
    },
    "lines_to_next_cell": 2
   },
   "outputs": [
    {
     "data": {
      "text/plain": [
       "array([[1., 1.],\n",
       "       [1., 1.]])"
      ]
     },
     "execution_count": 1,
     "metadata": {},
     "output_type": "execute_result"
    }
   ],
   "source": [
    "a"
   ]
  },
  {
   "cell_type": "markdown",
   "id": "340d65d9",
   "metadata": {},
   "source": [
    "### Combinación de arreglos (Stacking)"
   ]
  },
  {
   "cell_type": "code",
   "execution_count": 25,
   "id": "f1ecd9bc",
   "metadata": {
    "execution": {
     "iopub.execute_input": "2021-04-19T04:16:35.572790Z",
     "iopub.status.busy": "2021-04-19T04:16:35.571630Z",
     "iopub.status.idle": "2021-04-19T04:16:35.575248Z",
     "shell.execute_reply": "2021-04-19T04:16:35.574705Z"
    }
   },
   "outputs": [
    {
     "data": {
      "text/plain": [
       "array([0, 1, 2, 3, 4])"
      ]
     },
     "execution_count": 1,
     "metadata": {},
     "output_type": "execute_result"
    }
   ],
   "source": [
    "# Los arreglos se pueden combinar verticalmente (se incrementa la cantidad de filas)\n",
    "\n",
    "a = np.arange(0, 5)\n",
    "a"
   ]
  },
  {
   "cell_type": "code",
   "execution_count": 26,
   "id": "9c98270f",
   "metadata": {
    "execution": {
     "iopub.execute_input": "2021-04-19T04:16:35.580275Z",
     "iopub.status.busy": "2021-04-19T04:16:35.579496Z",
     "iopub.status.idle": "2021-04-19T04:16:35.582029Z",
     "shell.execute_reply": "2021-04-19T04:16:35.582532Z"
    }
   },
   "outputs": [
    {
     "data": {
      "text/plain": [
       "array([5, 6, 7, 8, 9])"
      ]
     },
     "execution_count": 1,
     "metadata": {},
     "output_type": "execute_result"
    }
   ],
   "source": [
    "b = np.arange(5, 10)\n",
    "b"
   ]
  },
  {
   "cell_type": "code",
   "execution_count": 27,
   "id": "7c3054aa",
   "metadata": {
    "execution": {
     "iopub.execute_input": "2021-04-19T04:16:35.586956Z",
     "iopub.status.busy": "2021-04-19T04:16:35.586362Z",
     "iopub.status.idle": "2021-04-19T04:16:35.589228Z",
     "shell.execute_reply": "2021-04-19T04:16:35.589835Z"
    }
   },
   "outputs": [
    {
     "data": {
      "text/plain": [
       "array([[0, 1, 2, 3, 4],\n",
       "       [5, 6, 7, 8, 9]])"
      ]
     },
     "execution_count": 1,
     "metadata": {},
     "output_type": "execute_result"
    }
   ],
   "source": [
    "combinados_verticalmente = np.vstack((a, b))\n",
    "combinados_verticalmente"
   ]
  },
  {
   "cell_type": "code",
   "execution_count": 28,
   "id": "04351185",
   "metadata": {
    "execution": {
     "iopub.execute_input": "2021-04-19T04:16:35.592801Z",
     "iopub.status.busy": "2021-04-19T04:16:35.592158Z",
     "iopub.status.idle": "2021-04-19T04:16:35.597224Z",
     "shell.execute_reply": "2021-04-19T04:16:35.596630Z"
    }
   },
   "outputs": [
    {
     "data": {
      "text/plain": [
       "array([0, 1, 2, 3, 4, 5, 6, 7, 8, 9])"
      ]
     },
     "execution_count": 1,
     "metadata": {},
     "output_type": "execute_result"
    }
   ],
   "source": [
    "# También se pueden combinar horizontalmente (se incrementa la cantidad de columnas)\n",
    "\n",
    "combinados_horizontalmente = np.hstack((a, b))\n",
    "combinados_horizontalmente"
   ]
  },
  {
   "cell_type": "markdown",
   "id": "e53666a8",
   "metadata": {},
   "source": [
    "### Operaciones matemáticas"
   ]
  },
  {
   "cell_type": "code",
   "execution_count": 29,
   "id": "7042a462",
   "metadata": {
    "execution": {
     "iopub.execute_input": "2021-04-19T04:16:35.601841Z",
     "iopub.status.busy": "2021-04-19T04:16:35.601201Z",
     "iopub.status.idle": "2021-04-19T04:16:35.604322Z",
     "shell.execute_reply": "2021-04-19T04:16:35.604942Z"
    }
   },
   "outputs": [
    {
     "data": {
      "text/plain": [
       "array([3, 4, 5, 6])"
      ]
     },
     "execution_count": 1,
     "metadata": {},
     "output_type": "execute_result"
    }
   ],
   "source": [
    "a = np.array([1, 2, 3, 4])\n",
    "\n",
    "a + 2"
   ]
  },
  {
   "cell_type": "code",
   "execution_count": 30,
   "id": "4c96d9bb",
   "metadata": {
    "execution": {
     "iopub.execute_input": "2021-04-19T04:16:35.609012Z",
     "iopub.status.busy": "2021-04-19T04:16:35.608378Z",
     "iopub.status.idle": "2021-04-19T04:16:35.611543Z",
     "shell.execute_reply": "2021-04-19T04:16:35.612137Z"
    }
   },
   "outputs": [
    {
     "data": {
      "text/plain": [
       "array([ 1,  4,  9, 16])"
      ]
     },
     "execution_count": 1,
     "metadata": {},
     "output_type": "execute_result"
    }
   ],
   "source": [
    "a ** 2"
   ]
  },
  {
   "cell_type": "code",
   "execution_count": 31,
   "id": "63436505",
   "metadata": {
    "execution": {
     "iopub.execute_input": "2021-04-19T04:16:35.617265Z",
     "iopub.status.busy": "2021-04-19T04:16:35.616672Z",
     "iopub.status.idle": "2021-04-19T04:16:35.619513Z",
     "shell.execute_reply": "2021-04-19T04:16:35.620102Z"
    }
   },
   "outputs": [
    {
     "name": "stdout",
     "output_type": "stream",
     "text": [
      "b: [1. 1. 1. 1.]\n"
     ]
    },
    {
     "data": {
      "text/plain": [
       "array([2., 3., 4., 5.])"
      ]
     },
     "execution_count": 1,
     "metadata": {},
     "output_type": "execute_result"
    }
   ],
   "source": [
    "b = np.ones(4)\n",
    "print(f\"b: {b}\")\n",
    "a + b"
   ]
  },
  {
   "cell_type": "markdown",
   "id": "415f3e6b",
   "metadata": {},
   "source": [
    "### Estadística"
   ]
  },
  {
   "cell_type": "code",
   "execution_count": 32,
   "id": "dfb1e11e",
   "metadata": {
    "execution": {
     "iopub.execute_input": "2021-04-19T04:16:35.625526Z",
     "iopub.status.busy": "2021-04-19T04:16:35.624873Z",
     "iopub.status.idle": "2021-04-19T04:16:35.628319Z",
     "shell.execute_reply": "2021-04-19T04:16:35.628893Z"
    }
   },
   "outputs": [
    {
     "data": {
      "text/plain": [
       "1"
      ]
     },
     "execution_count": 1,
     "metadata": {},
     "output_type": "execute_result"
    }
   ],
   "source": [
    "a = np.array([[5, 2, 1, 8], [26, 4, 17, 9]])\n",
    "\n",
    "np.min(a)"
   ]
  },
  {
   "cell_type": "code",
   "execution_count": 33,
   "id": "342a5038",
   "metadata": {
    "execution": {
     "iopub.execute_input": "2021-04-19T04:16:35.633662Z",
     "iopub.status.busy": "2021-04-19T04:16:35.632971Z",
     "iopub.status.idle": "2021-04-19T04:16:35.636645Z",
     "shell.execute_reply": "2021-04-19T04:16:35.636041Z"
    }
   },
   "outputs": [
    {
     "data": {
      "text/plain": [
       "26"
      ]
     },
     "execution_count": 1,
     "metadata": {},
     "output_type": "execute_result"
    }
   ],
   "source": [
    "np.max(a)"
   ]
  },
  {
   "cell_type": "code",
   "execution_count": 34,
   "id": "4338412c",
   "metadata": {
    "execution": {
     "iopub.execute_input": "2021-04-19T04:16:35.642111Z",
     "iopub.status.busy": "2021-04-19T04:16:35.641477Z",
     "iopub.status.idle": "2021-04-19T04:16:35.643700Z",
     "shell.execute_reply": "2021-04-19T04:16:35.644313Z"
    }
   },
   "outputs": [
    {
     "data": {
      "text/plain": [
       "72"
      ]
     },
     "execution_count": 1,
     "metadata": {},
     "output_type": "execute_result"
    }
   ],
   "source": [
    "np.sum(a)"
   ]
  },
  {
   "cell_type": "markdown",
   "id": "38f3c333",
   "metadata": {},
   "source": [
    "### Más magia"
   ]
  },
  {
   "cell_type": "code",
   "execution_count": 35,
   "id": "e5eafbe9",
   "metadata": {
    "execution": {
     "iopub.execute_input": "2021-04-19T04:16:35.648825Z",
     "iopub.status.busy": "2021-04-19T04:16:35.648207Z",
     "iopub.status.idle": "2021-04-19T04:16:35.651868Z",
     "shell.execute_reply": "2021-04-19T04:16:35.652348Z"
    }
   },
   "outputs": [
    {
     "data": {
      "text/plain": [
       "array([[False, False, False,  True],\n",
       "       [ True, False,  True,  True]])"
      ]
     },
     "execution_count": 1,
     "metadata": {},
     "output_type": "execute_result"
    }
   ],
   "source": [
    "a = np.array([[5, 2, 1, 8], [26, 4, 17, 9]])\n",
    "\n",
    "a > 5"
   ]
  },
  {
   "cell_type": "code",
   "execution_count": 36,
   "id": "d664f878",
   "metadata": {
    "execution": {
     "iopub.execute_input": "2021-04-19T04:16:35.656597Z",
     "iopub.status.busy": "2021-04-19T04:16:35.655988Z",
     "iopub.status.idle": "2021-04-19T04:16:35.661282Z",
     "shell.execute_reply": "2021-04-19T04:16:35.661865Z"
    }
   },
   "outputs": [
    {
     "data": {
      "text/plain": [
       "array([ 8, 26, 17,  9])"
      ]
     },
     "execution_count": 1,
     "metadata": {},
     "output_type": "execute_result"
    }
   ],
   "source": [
    "a[a > 5]"
   ]
  },
  {
   "cell_type": "markdown",
   "id": "67c1be7c",
   "metadata": {},
   "source": [
    "### Broadcasting"
   ]
  },
  {
   "cell_type": "markdown",
   "id": "45d994c1",
   "metadata": {},
   "source": [
    "Permite realizar operaciones entre dos numpy arrays de distintas dimensiones.\n",
    "Para lograr esto, las dimensiones de los mismos deben ser compatibles. Dos dimensiones son compatibles cuando:\n",
    "1. Son iguales\n",
    "2. Alguna de las dos es 1"
   ]
  },
  {
   "cell_type": "code",
   "execution_count": 37,
   "id": "04e2e040",
   "metadata": {
    "execution": {
     "iopub.execute_input": "2021-04-19T04:16:35.667659Z",
     "iopub.status.busy": "2021-04-19T04:16:35.667038Z",
     "iopub.status.idle": "2021-04-19T04:16:35.670072Z",
     "shell.execute_reply": "2021-04-19T04:16:35.670550Z"
    }
   },
   "outputs": [
    {
     "data": {
      "text/plain": [
       "array([[ 5,  2,  1,  8],\n",
       "       [26,  4, 17,  9]])"
      ]
     },
     "execution_count": 1,
     "metadata": {},
     "output_type": "execute_result"
    }
   ],
   "source": [
    "a = np.array([[5, 2, 1, 8], [26, 4, 17, 9]])\n",
    "a"
   ]
  },
  {
   "cell_type": "code",
   "execution_count": 38,
   "id": "d787950f",
   "metadata": {
    "execution": {
     "iopub.execute_input": "2021-04-19T04:16:35.677625Z",
     "iopub.status.busy": "2021-04-19T04:16:35.676190Z",
     "iopub.status.idle": "2021-04-19T04:16:35.679717Z",
     "shell.execute_reply": "2021-04-19T04:16:35.679017Z"
    }
   },
   "outputs": [
    {
     "name": "stdout",
     "output_type": "stream",
     "text": [
      "a: (2, 4)\n",
      "b: (4,)\n",
      "\n",
      "a + b:\n",
      " [[10  4  2 16]\n",
      " [31  6 18 17]]\n"
     ]
    }
   ],
   "source": [
    "# Armamos un array que tenga la misma cantidad de columnas que a\n",
    "b = np.array([5, 2, 1, 8])\n",
    "print(f\"a: {a.shape}\")\n",
    "print(f\"b: {b.shape}\")\n",
    "# a + b\n",
    "print()\n",
    "print(f\"a + b:\\n {a + b}\")"
   ]
  },
  {
   "cell_type": "code",
   "execution_count": 39,
   "id": "aa6260bb",
   "metadata": {
    "execution": {
     "iopub.execute_input": "2021-04-19T04:16:35.685117Z",
     "iopub.status.busy": "2021-04-19T04:16:35.684455Z",
     "iopub.status.idle": "2021-04-19T04:16:35.757373Z",
     "shell.execute_reply": "2021-04-19T04:16:35.757950Z"
    },
    "tags": [
     "raises-exception"
    ]
   },
   "outputs": [
    {
     "name": "stdout",
     "output_type": "stream",
     "text": [
      "a: (2, 4)\n",
      "b: (3,)\n"
     ]
    },
    {
     "ename": "ValueError",
     "evalue": "operands could not be broadcast together with shapes (2,4) (3,) ",
     "output_type": "error",
     "traceback": [
      "\u001b[0;31m---------------------------------------------------------------------------\u001b[0m",
      "\u001b[0;31mValueError\u001b[0m                                Traceback (most recent call last)",
      "\u001b[0;32m<ipython-input-1-fe11b6ae6346>\u001b[0m in \u001b[0;36m<module>\u001b[0;34m\u001b[0m\n\u001b[1;32m      3\u001b[0m \u001b[0mprint\u001b[0m\u001b[0;34m(\u001b[0m\u001b[0;34mf\"a: {a.shape}\"\u001b[0m\u001b[0;34m)\u001b[0m\u001b[0;34m\u001b[0m\u001b[0;34m\u001b[0m\u001b[0m\n\u001b[1;32m      4\u001b[0m \u001b[0mprint\u001b[0m\u001b[0;34m(\u001b[0m\u001b[0;34mf\"b: {b.shape}\"\u001b[0m\u001b[0;34m)\u001b[0m\u001b[0;34m\u001b[0m\u001b[0;34m\u001b[0m\u001b[0m\n\u001b[0;32m----> 5\u001b[0;31m \u001b[0ma\u001b[0m \u001b[0;34m+\u001b[0m \u001b[0mb\u001b[0m\u001b[0;34m\u001b[0m\u001b[0;34m\u001b[0m\u001b[0m\n\u001b[0m",
      "\u001b[0;31mValueError\u001b[0m: operands could not be broadcast together with shapes (2,4) (3,) "
     ]
    }
   ],
   "source": [
    "# Armamos un array que tenga distinta cantidad de filas y columnas que a\n",
    "b = np.array([5, 1, 8])\n",
    "print(f\"a: {a.shape}\")\n",
    "print(f\"b: {b.shape}\")\n",
    "a + b"
   ]
  },
  {
   "cell_type": "code",
   "execution_count": 40,
   "id": "edad9307",
   "metadata": {
    "execution": {
     "iopub.execute_input": "2021-04-19T04:16:35.765751Z",
     "iopub.status.busy": "2021-04-19T04:16:35.764421Z",
     "iopub.status.idle": "2021-04-19T04:16:35.768917Z",
     "shell.execute_reply": "2021-04-19T04:16:35.767492Z"
    }
   },
   "outputs": [
    {
     "name": "stdout",
     "output_type": "stream",
     "text": [
      "a: (2, 4)\n",
      "b: (2, 1)\n"
     ]
    },
    {
     "data": {
      "text/plain": [
       "array([[ 7,  4,  3, 10],\n",
       "       [27,  5, 18, 10]])"
      ]
     },
     "execution_count": 1,
     "metadata": {},
     "output_type": "execute_result"
    }
   ],
   "source": [
    "# Armamos un array que tenga la misma cantidad de filas que a\n",
    "b = np.array([[2], [1]])\n",
    "print(f\"a: {a.shape}\")\n",
    "print(f\"b: {b.shape}\")\n",
    "a + b"
   ]
  },
  {
   "cell_type": "code",
   "execution_count": 41,
   "id": "bf3533dc",
   "metadata": {
    "execution": {
     "iopub.execute_input": "2021-04-19T04:16:35.774504Z",
     "iopub.status.busy": "2021-04-19T04:16:35.773309Z",
     "iopub.status.idle": "2021-04-19T04:16:35.776575Z",
     "shell.execute_reply": "2021-04-19T04:16:35.777071Z"
    }
   },
   "outputs": [
    {
     "data": {
      "text/plain": [
       "array([[ 9,  6,  5, 12],\n",
       "       [30,  8, 21, 13]])"
      ]
     },
     "execution_count": 1,
     "metadata": {},
     "output_type": "execute_result"
    }
   ],
   "source": [
    "# Si b es un entero\n",
    "b = 4\n",
    "a + b"
   ]
  },
  {
   "cell_type": "code",
   "execution_count": null,
   "id": "54f010fa",
   "metadata": {},
   "outputs": [],
   "source": []
  }
 ],
 "metadata": {
  "jupytext": {
   "encoding": "# -*- coding: utf-8 -*-",
   "formats": "ipynb,py:light"
  },
  "kernelspec": {
   "display_name": "Python 3",
   "language": "python",
   "name": "python3"
  },
  "language_info": {
   "codemirror_mode": {
    "name": "ipython",
    "version": 3
   },
   "file_extension": ".py",
   "mimetype": "text/x-python",
   "name": "python",
   "nbconvert_exporter": "python",
   "pygments_lexer": "ipython3",
   "version": "3.7.10"
  }
 },
 "nbformat": 4,
 "nbformat_minor": 5
}
