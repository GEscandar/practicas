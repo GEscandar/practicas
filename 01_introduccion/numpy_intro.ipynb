{
 "cells": [
  {
   "cell_type": "markdown",
   "metadata": {},
   "source": [
    "## Clase 1 - Introducción a Numpy\n",
    "\n",
    "Numpy es una biblioteca para Python que facilita el manejo de arreglos multidimensionales y ofrece varias herramientas para trabajar con ellos. Muchas de las bibliotecas de Python que son ampliamente usadas hoy en día, como pandas, están construidas sobre numpy.\n",
    "\n",
    "### Listas de Python vs arreglos de Numpy\n",
    "\n",
    "A primera vista, un arreglo de numpy puede resultar idéntico a una lista de python, pero a medida que la cantidad de datos comienza a incrementar, los arreglos de numpy terminan ofreciendo un manejo más eficiente de la memoria.\n",
    "\n",
    "Para comenzar, vamos a crear un arreglo de numpy:"
   ]
  },
  {
   "cell_type": "code",
   "execution_count": 1,
   "metadata": {
    "execution": {
     "iopub.execute_input": "2020-10-21T01:11:48.960652Z",
     "iopub.status.busy": "2020-10-21T01:11:48.960050Z",
     "iopub.status.idle": "2020-10-21T01:11:49.053106Z",
     "shell.execute_reply": "2020-10-21T01:11:49.053809Z"
    }
   },
   "outputs": [
    {
     "data": {
      "text/plain": [
       "array([1, 2, 3, 4])"
      ]
     },
     "execution_count": 1,
     "metadata": {},
     "output_type": "execute_result"
    }
   ],
   "source": [
    "import numpy as np\n",
    "\n",
    "np.array([1, 2, 3, 4])"
   ]
  },
  {
   "cell_type": "markdown",
   "metadata": {},
   "source": [
    "Los arreglos pueden ser también multidimensionales:"
   ]
  },
  {
   "cell_type": "code",
   "execution_count": 2,
   "metadata": {
    "execution": {
     "iopub.execute_input": "2020-10-21T01:11:49.057414Z",
     "iopub.status.busy": "2020-10-21T01:11:49.056308Z",
     "iopub.status.idle": "2020-10-21T01:11:49.062979Z",
     "shell.execute_reply": "2020-10-21T01:11:49.063769Z"
    }
   },
   "outputs": [
    {
     "data": {
      "text/plain": [
       "array([[1, 2, 3, 4],\n",
       "       [5, 6, 7, 8]])"
      ]
     },
     "execution_count": 1,
     "metadata": {},
     "output_type": "execute_result"
    }
   ],
   "source": [
    "np.array([[1, 2, 3, 4], [5, 6, 7, 8]])"
   ]
  },
  {
   "cell_type": "markdown",
   "metadata": {},
   "source": [
    "Es importante tener en cuenta que un arreglo de numpy tiene un tipo fijo de datos, entonces si se quiere agregar un dato de un tipo diferente al de la mayoría, este va a ser modificado para adaptarse al resto"
   ]
  },
  {
   "cell_type": "code",
   "execution_count": 3,
   "metadata": {
    "execution": {
     "iopub.execute_input": "2020-10-21T01:11:49.066922Z",
     "iopub.status.busy": "2020-10-21T01:11:49.065873Z",
     "iopub.status.idle": "2020-10-21T01:11:49.069970Z",
     "shell.execute_reply": "2020-10-21T01:11:49.070687Z"
    }
   },
   "outputs": [],
   "source": [
    "enteros = np.array([1, 2, 3, 4])"
   ]
  },
  {
   "cell_type": "markdown",
   "metadata": {},
   "source": [
    "Agrego un elemento de tipo flotante en la posición 1"
   ]
  },
  {
   "cell_type": "code",
   "execution_count": 4,
   "metadata": {
    "execution": {
     "iopub.execute_input": "2020-10-21T01:11:49.074081Z",
     "iopub.status.busy": "2020-10-21T01:11:49.072990Z",
     "iopub.status.idle": "2020-10-21T01:11:49.078783Z",
     "shell.execute_reply": "2020-10-21T01:11:49.079405Z"
    }
   },
   "outputs": [
    {
     "data": {
      "text/plain": [
       "array([1, 8, 3, 4])"
      ]
     },
     "execution_count": 1,
     "metadata": {},
     "output_type": "execute_result"
    }
   ],
   "source": [
    "enteros[1] = 8.4727\n",
    "enteros"
   ]
  },
  {
   "cell_type": "markdown",
   "metadata": {},
   "source": [
    "Numpy también nos permite crear arreglos con valores aleatorios del 0 al 1.\n",
    "Basta con pasarle las dimensiones del arreglo que queremos crear."
   ]
  },
  {
   "cell_type": "code",
   "execution_count": 5,
   "metadata": {
    "execution": {
     "iopub.execute_input": "2020-10-21T01:11:49.082327Z",
     "iopub.status.busy": "2020-10-21T01:11:49.081361Z",
     "iopub.status.idle": "2020-10-21T01:11:49.086923Z",
     "shell.execute_reply": "2020-10-21T01:11:49.087637Z"
    }
   },
   "outputs": [
    {
     "data": {
      "text/plain": [
       "array([[0.66435445, 0.58027299, 0.04401892],\n",
       "       [0.93433691, 0.58496196, 0.26279207]])"
      ]
     },
     "execution_count": 1,
     "metadata": {},
     "output_type": "execute_result"
    }
   ],
   "source": [
    "np.random.rand(2, 3)"
   ]
  },
  {
   "cell_type": "markdown",
   "metadata": {},
   "source": [
    "## Slicing\n",
    "\n",
    "De la misma forma que con las listas de python, pueden obtenerse slices de los arreglos de numpy"
   ]
  },
  {
   "cell_type": "code",
   "execution_count": 6,
   "metadata": {
    "execution": {
     "iopub.execute_input": "2020-10-21T01:11:49.090718Z",
     "iopub.status.busy": "2020-10-21T01:11:49.089740Z",
     "iopub.status.idle": "2020-10-21T01:11:49.095836Z",
     "shell.execute_reply": "2020-10-21T01:11:49.096191Z"
    },
    "lines_to_next_cell": 2
   },
   "outputs": [
    {
     "data": {
      "text/plain": [
       "array([1, 8])"
      ]
     },
     "execution_count": 1,
     "metadata": {},
     "output_type": "execute_result"
    }
   ],
   "source": [
    "enteros[:2]"
   ]
  },
  {
   "cell_type": "code",
   "execution_count": 7,
   "metadata": {
    "execution": {
     "iopub.execute_input": "2020-10-21T01:11:49.101338Z",
     "iopub.status.busy": "2020-10-21T01:11:49.100646Z",
     "iopub.status.idle": "2020-10-21T01:11:49.103047Z",
     "shell.execute_reply": "2020-10-21T01:11:49.103502Z"
    }
   },
   "outputs": [
    {
     "name": "stdout",
     "output_type": "stream",
     "text": [
      "Original: \n",
      "[[ 1  2  3  4]\n",
      " [ 5  6  7  8]\n",
      " [ 9 10 11 12]]\n",
      "\n",
      "Recortada: \n",
      "[[1 2 3]\n",
      " [5 6 7]]\n"
     ]
    }
   ],
   "source": [
    "matriz_de_enteros = np.array([[1, 2, 3, 4], [5, 6, 7, 8], [9, 10, 11, 12]])\n",
    "\n",
    "print('Original: ')\n",
    "print(matriz_de_enteros)\n",
    "\n",
    "print()\n",
    "\n",
    "print('Recortada: ')\n",
    "print(matriz_de_enteros[:2, :3])"
   ]
  },
  {
   "cell_type": "code",
   "execution_count": 8,
   "metadata": {
    "execution": {
     "iopub.execute_input": "2020-10-21T01:11:49.107912Z",
     "iopub.status.busy": "2020-10-21T01:11:49.107428Z",
     "iopub.status.idle": "2020-10-21T01:11:49.109907Z",
     "shell.execute_reply": "2020-10-21T01:11:49.110281Z"
    }
   },
   "outputs": [
    {
     "data": {
      "text/plain": [
       "array([[[ 0,  1,  2,  3,  4],\n",
       "        [ 5,  6,  7,  8,  9],\n",
       "        [10, 11, 12, 13, 14]],\n",
       "\n",
       "       [[15, 16, 17, 18, 19],\n",
       "        [20, 21, 22, 23, 24],\n",
       "        [25, 26, 27, 28, 29]],\n",
       "\n",
       "       [[30, 31, 32, 33, 34],\n",
       "        [35, 36, 37, 38, 39],\n",
       "        [40, 41, 42, 43, 44]]])"
      ]
     },
     "execution_count": 1,
     "metadata": {},
     "output_type": "execute_result"
    }
   ],
   "source": [
    "# 3D\n",
    "x = np.arange(45).reshape(3, 3, 5)\n",
    "x"
   ]
  },
  {
   "cell_type": "code",
   "execution_count": 9,
   "metadata": {
    "execution": {
     "iopub.execute_input": "2020-10-21T01:11:49.114005Z",
     "iopub.status.busy": "2020-10-21T01:11:49.113504Z",
     "iopub.status.idle": "2020-10-21T01:11:49.115991Z",
     "shell.execute_reply": "2020-10-21T01:11:49.116362Z"
    }
   },
   "outputs": [
    {
     "data": {
      "text/plain": [
       "array([[ 0,  1,  2,  3,  4],\n",
       "       [ 5,  6,  7,  8,  9],\n",
       "       [10, 11, 12, 13, 14]])"
      ]
     },
     "execution_count": 1,
     "metadata": {},
     "output_type": "execute_result"
    }
   ],
   "source": [
    "x[0]"
   ]
  },
  {
   "cell_type": "markdown",
   "metadata": {},
   "source": [
    "\n",
    "¿Cómo conseguimos estos valores? ([fuente](https://towardsdatascience.com/indexing-and-slicing-of-1d-2d-and-3d-arrays-in-numpy-e731afff0bbe))\n",
    "\n",
    "![title](img/matrix.png)"
   ]
  },
  {
   "cell_type": "code",
   "execution_count": 10,
   "metadata": {
    "execution": {
     "iopub.execute_input": "2020-10-21T01:11:49.120506Z",
     "iopub.status.busy": "2020-10-21T01:11:49.120026Z",
     "iopub.status.idle": "2020-10-21T01:11:49.122388Z",
     "shell.execute_reply": "2020-10-21T01:11:49.122814Z"
    }
   },
   "outputs": [
    {
     "data": {
      "text/plain": [
       "array([[[16, 17, 18],\n",
       "        [21, 22, 23]],\n",
       "\n",
       "       [[31, 32, 33],\n",
       "        [36, 37, 38]]])"
      ]
     },
     "execution_count": 1,
     "metadata": {},
     "output_type": "execute_result"
    }
   ],
   "source": [
    "x[1:, 0:2, 1:4]"
   ]
  },
  {
   "cell_type": "markdown",
   "metadata": {},
   "source": [
    "### Copia de arreglos"
   ]
  },
  {
   "cell_type": "code",
   "execution_count": 11,
   "metadata": {
    "execution": {
     "iopub.execute_input": "2020-10-21T01:11:49.127155Z",
     "iopub.status.busy": "2020-10-21T01:11:49.126615Z",
     "iopub.status.idle": "2020-10-21T01:11:49.129222Z",
     "shell.execute_reply": "2020-10-21T01:11:49.129674Z"
    }
   },
   "outputs": [
    {
     "data": {
      "text/plain": [
       "array([1, 2, 3, 4])"
      ]
     },
     "execution_count": 1,
     "metadata": {},
     "output_type": "execute_result"
    }
   ],
   "source": [
    "# Los arreglos no se copian con asignación\n",
    "\n",
    "a = np.array([1, 2, 3, 4])\n",
    "b = a\n",
    "b"
   ]
  },
  {
   "cell_type": "code",
   "execution_count": 12,
   "metadata": {
    "execution": {
     "iopub.execute_input": "2020-10-21T01:11:49.133846Z",
     "iopub.status.busy": "2020-10-21T01:11:49.133257Z",
     "iopub.status.idle": "2020-10-21T01:11:49.136163Z",
     "shell.execute_reply": "2020-10-21T01:11:49.136626Z"
    }
   },
   "outputs": [
    {
     "data": {
      "text/plain": [
       "array([ 1, 20,  3,  4])"
      ]
     },
     "execution_count": 1,
     "metadata": {},
     "output_type": "execute_result"
    }
   ],
   "source": [
    "b[1] = 20\n",
    "b"
   ]
  },
  {
   "cell_type": "code",
   "execution_count": 13,
   "metadata": {
    "execution": {
     "iopub.execute_input": "2020-10-21T01:11:49.141170Z",
     "iopub.status.busy": "2020-10-21T01:11:49.140353Z",
     "iopub.status.idle": "2020-10-21T01:11:49.143113Z",
     "shell.execute_reply": "2020-10-21T01:11:49.143536Z"
    }
   },
   "outputs": [
    {
     "data": {
      "text/plain": [
       "array([ 1, 20,  3,  4])"
      ]
     },
     "execution_count": 1,
     "metadata": {},
     "output_type": "execute_result"
    }
   ],
   "source": [
    "a"
   ]
  },
  {
   "cell_type": "code",
   "execution_count": 14,
   "metadata": {
    "execution": {
     "iopub.execute_input": "2020-10-21T01:11:49.148829Z",
     "iopub.status.busy": "2020-10-21T01:11:49.147847Z",
     "iopub.status.idle": "2020-10-21T01:11:49.150696Z",
     "shell.execute_reply": "2020-10-21T01:11:49.151121Z"
    }
   },
   "outputs": [
    {
     "data": {
      "text/plain": [
       "array([ 1, 20,  3,  4])"
      ]
     },
     "execution_count": 1,
     "metadata": {},
     "output_type": "execute_result"
    }
   ],
   "source": [
    "# Para copiar un arreglo a otra variable debemos usar copy()\n",
    "\n",
    "a = np.array([1, 2, 3, 4])\n",
    "b = a.copy()\n",
    "b[1] = 20\n",
    "b"
   ]
  },
  {
   "cell_type": "code",
   "execution_count": 15,
   "metadata": {
    "execution": {
     "iopub.execute_input": "2020-10-21T01:11:49.155882Z",
     "iopub.status.busy": "2020-10-21T01:11:49.154901Z",
     "iopub.status.idle": "2020-10-21T01:11:49.157629Z",
     "shell.execute_reply": "2020-10-21T01:11:49.157984Z"
    }
   },
   "outputs": [
    {
     "data": {
      "text/plain": [
       "array([1, 2, 3, 4])"
      ]
     },
     "execution_count": 1,
     "metadata": {},
     "output_type": "execute_result"
    }
   ],
   "source": [
    "a"
   ]
  },
  {
   "cell_type": "markdown",
   "metadata": {},
   "source": [
    "### Modificación de dimensiones"
   ]
  },
  {
   "cell_type": "markdown",
   "metadata": {},
   "source": [
    "Existen varias operaciones para cambiar la forma de un arreglo de numpy"
   ]
  },
  {
   "cell_type": "code",
   "execution_count": 16,
   "metadata": {
    "execution": {
     "iopub.execute_input": "2020-10-21T01:11:49.162210Z",
     "iopub.status.busy": "2020-10-21T01:11:49.161212Z",
     "iopub.status.idle": "2020-10-21T01:11:49.164001Z",
     "shell.execute_reply": "2020-10-21T01:11:49.163601Z"
    }
   },
   "outputs": [
    {
     "data": {
      "text/plain": [
       "2"
      ]
     },
     "execution_count": 1,
     "metadata": {},
     "output_type": "execute_result"
    }
   ],
   "source": [
    "# Obtener las dimensiones del arreglo\n",
    "\n",
    "matriz_de_enteros.ndim"
   ]
  },
  {
   "cell_type": "code",
   "execution_count": 17,
   "metadata": {
    "execution": {
     "iopub.execute_input": "2020-10-21T01:11:49.168024Z",
     "iopub.status.busy": "2020-10-21T01:11:49.167538Z",
     "iopub.status.idle": "2020-10-21T01:11:49.169952Z",
     "shell.execute_reply": "2020-10-21T01:11:49.170322Z"
    }
   },
   "outputs": [
    {
     "data": {
      "text/plain": [
       "(3, 4)"
      ]
     },
     "execution_count": 1,
     "metadata": {},
     "output_type": "execute_result"
    }
   ],
   "source": [
    "# Obtener la forma del arreglo\n",
    "\n",
    "matriz_de_enteros.shape"
   ]
  },
  {
   "cell_type": "code",
   "execution_count": 18,
   "metadata": {
    "execution": {
     "iopub.execute_input": "2020-10-21T01:11:49.174640Z",
     "iopub.status.busy": "2020-10-21T01:11:49.174096Z",
     "iopub.status.idle": "2020-10-21T01:11:49.176443Z",
     "shell.execute_reply": "2020-10-21T01:11:49.176815Z"
    }
   },
   "outputs": [
    {
     "data": {
      "text/plain": [
       "array([[ 3,  6],\n",
       "       [ 9, 12]])"
      ]
     },
     "execution_count": 1,
     "metadata": {},
     "output_type": "execute_result"
    }
   ],
   "source": [
    "# Modificar la forma de un arreglo\n",
    "\n",
    "enteros = np.array([3, 6, 9, 12])\n",
    "np.reshape(enteros, (2, 2))"
   ]
  },
  {
   "cell_type": "code",
   "execution_count": 19,
   "metadata": {
    "execution": {
     "iopub.execute_input": "2020-10-21T01:11:49.180700Z",
     "iopub.status.busy": "2020-10-21T01:11:49.180221Z",
     "iopub.status.idle": "2020-10-21T01:11:49.182709Z",
     "shell.execute_reply": "2020-10-21T01:11:49.183083Z"
    }
   },
   "outputs": [
    {
     "data": {
      "text/plain": [
       "array([[1., 1.],\n",
       "       [1., 1.]])"
      ]
     },
     "execution_count": 1,
     "metadata": {},
     "output_type": "execute_result"
    }
   ],
   "source": [
    "# Aplanar un arreglo\n",
    "\n",
    "a = np.ones((2, 2))\n",
    "a"
   ]
  },
  {
   "cell_type": "code",
   "execution_count": 20,
   "metadata": {
    "execution": {
     "iopub.execute_input": "2020-10-21T01:11:49.187077Z",
     "iopub.status.busy": "2020-10-21T01:11:49.186539Z",
     "iopub.status.idle": "2020-10-21T01:11:49.189333Z",
     "shell.execute_reply": "2020-10-21T01:11:49.189736Z"
    }
   },
   "outputs": [
    {
     "data": {
      "text/plain": [
       "array([1., 1., 1., 1.])"
      ]
     },
     "execution_count": 1,
     "metadata": {},
     "output_type": "execute_result"
    }
   ],
   "source": [
    "a.flatten()"
   ]
  },
  {
   "cell_type": "code",
   "execution_count": 21,
   "metadata": {
    "execution": {
     "iopub.execute_input": "2020-10-21T01:11:49.193390Z",
     "iopub.status.busy": "2020-10-21T01:11:49.192910Z",
     "iopub.status.idle": "2020-10-21T01:11:49.195146Z",
     "shell.execute_reply": "2020-10-21T01:11:49.195517Z"
    },
    "lines_to_next_cell": 2
   },
   "outputs": [
    {
     "data": {
      "text/plain": [
       "array([[1., 1.],\n",
       "       [1., 1.]])"
      ]
     },
     "execution_count": 1,
     "metadata": {},
     "output_type": "execute_result"
    }
   ],
   "source": [
    "a"
   ]
  },
  {
   "cell_type": "markdown",
   "metadata": {},
   "source": [
    "### Combinación de arreglos (Stacking)"
   ]
  },
  {
   "cell_type": "code",
   "execution_count": 22,
   "metadata": {
    "execution": {
     "iopub.execute_input": "2020-10-21T01:11:49.199786Z",
     "iopub.status.busy": "2020-10-21T01:11:49.199240Z",
     "iopub.status.idle": "2020-10-21T01:11:49.201804Z",
     "shell.execute_reply": "2020-10-21T01:11:49.202261Z"
    }
   },
   "outputs": [
    {
     "data": {
      "text/plain": [
       "array([0, 1, 2, 3, 4])"
      ]
     },
     "execution_count": 1,
     "metadata": {},
     "output_type": "execute_result"
    }
   ],
   "source": [
    "# Los arreglos se pueden combinar verticalmente (se incrementa la cantidad de filas)\n",
    "\n",
    "a = np.arange(0, 5)\n",
    "a"
   ]
  },
  {
   "cell_type": "code",
   "execution_count": 23,
   "metadata": {
    "execution": {
     "iopub.execute_input": "2020-10-21T01:11:49.206540Z",
     "iopub.status.busy": "2020-10-21T01:11:49.205999Z",
     "iopub.status.idle": "2020-10-21T01:11:49.208511Z",
     "shell.execute_reply": "2020-10-21T01:11:49.208934Z"
    }
   },
   "outputs": [
    {
     "data": {
      "text/plain": [
       "array([5, 6, 7, 8, 9])"
      ]
     },
     "execution_count": 1,
     "metadata": {},
     "output_type": "execute_result"
    }
   ],
   "source": [
    "b = np.arange(5, 10)\n",
    "b"
   ]
  },
  {
   "cell_type": "code",
   "execution_count": 24,
   "metadata": {
    "execution": {
     "iopub.execute_input": "2020-10-21T01:11:49.213336Z",
     "iopub.status.busy": "2020-10-21T01:11:49.212734Z",
     "iopub.status.idle": "2020-10-21T01:11:49.214721Z",
     "shell.execute_reply": "2020-10-21T01:11:49.215144Z"
    }
   },
   "outputs": [
    {
     "data": {
      "text/plain": [
       "array([[0, 1, 2, 3, 4],\n",
       "       [5, 6, 7, 8, 9]])"
      ]
     },
     "execution_count": 1,
     "metadata": {},
     "output_type": "execute_result"
    }
   ],
   "source": [
    "combinados_verticalmente = np.vstack((a, b))\n",
    "combinados_verticalmente"
   ]
  },
  {
   "cell_type": "code",
   "execution_count": 25,
   "metadata": {
    "execution": {
     "iopub.execute_input": "2020-10-21T01:11:49.219102Z",
     "iopub.status.busy": "2020-10-21T01:11:49.218518Z",
     "iopub.status.idle": "2020-10-21T01:11:49.220902Z",
     "shell.execute_reply": "2020-10-21T01:11:49.221353Z"
    }
   },
   "outputs": [
    {
     "data": {
      "text/plain": [
       "array([0, 1, 2, 3, 4, 5, 6, 7, 8, 9])"
      ]
     },
     "execution_count": 1,
     "metadata": {},
     "output_type": "execute_result"
    }
   ],
   "source": [
    "# También se pueden combinar horizontalmente (se incrementa la cantidad de columnas)\n",
    "\n",
    "combinados_horizontalmente = np.hstack((a, b))\n",
    "combinados_horizontalmente"
   ]
  },
  {
   "cell_type": "markdown",
   "metadata": {},
   "source": [
    "### Operaciones matemáticas"
   ]
  },
  {
   "cell_type": "code",
   "execution_count": 26,
   "metadata": {
    "execution": {
     "iopub.execute_input": "2020-10-21T01:11:49.226437Z",
     "iopub.status.busy": "2020-10-21T01:11:49.225363Z",
     "iopub.status.idle": "2020-10-21T01:11:49.227802Z",
     "shell.execute_reply": "2020-10-21T01:11:49.228262Z"
    }
   },
   "outputs": [
    {
     "data": {
      "text/plain": [
       "array([3, 4, 5, 6])"
      ]
     },
     "execution_count": 1,
     "metadata": {},
     "output_type": "execute_result"
    }
   ],
   "source": [
    "a = np.array([1, 2, 3, 4])\n",
    "\n",
    "a + 2"
   ]
  },
  {
   "cell_type": "code",
   "execution_count": 27,
   "metadata": {
    "execution": {
     "iopub.execute_input": "2020-10-21T01:11:49.232533Z",
     "iopub.status.busy": "2020-10-21T01:11:49.231991Z",
     "iopub.status.idle": "2020-10-21T01:11:49.233863Z",
     "shell.execute_reply": "2020-10-21T01:11:49.234290Z"
    }
   },
   "outputs": [
    {
     "data": {
      "text/plain": [
       "array([ 1,  4,  9, 16])"
      ]
     },
     "execution_count": 1,
     "metadata": {},
     "output_type": "execute_result"
    }
   ],
   "source": [
    "a ** 2"
   ]
  },
  {
   "cell_type": "code",
   "execution_count": 28,
   "metadata": {
    "execution": {
     "iopub.execute_input": "2020-10-21T01:11:49.238004Z",
     "iopub.status.busy": "2020-10-21T01:11:49.237457Z",
     "iopub.status.idle": "2020-10-21T01:11:49.239707Z",
     "shell.execute_reply": "2020-10-21T01:11:49.240142Z"
    }
   },
   "outputs": [
    {
     "data": {
      "text/plain": [
       "array([2., 3., 4., 5.])"
      ]
     },
     "execution_count": 1,
     "metadata": {},
     "output_type": "execute_result"
    }
   ],
   "source": [
    "b = np.ones(4)\n",
    "a + b"
   ]
  },
  {
   "cell_type": "markdown",
   "metadata": {},
   "source": [
    "### Estadística"
   ]
  },
  {
   "cell_type": "code",
   "execution_count": 29,
   "metadata": {
    "execution": {
     "iopub.execute_input": "2020-10-21T01:11:49.244862Z",
     "iopub.status.busy": "2020-10-21T01:11:49.244280Z",
     "iopub.status.idle": "2020-10-21T01:11:49.246203Z",
     "shell.execute_reply": "2020-10-21T01:11:49.246630Z"
    }
   },
   "outputs": [
    {
     "data": {
      "text/plain": [
       "1"
      ]
     },
     "execution_count": 1,
     "metadata": {},
     "output_type": "execute_result"
    }
   ],
   "source": [
    "a = np.array([[5, 2, 1, 8], [26, 4, 17, 9]])\n",
    "\n",
    "np.min(a)"
   ]
  },
  {
   "cell_type": "code",
   "execution_count": 30,
   "metadata": {
    "execution": {
     "iopub.execute_input": "2020-10-21T01:11:49.250238Z",
     "iopub.status.busy": "2020-10-21T01:11:49.249676Z",
     "iopub.status.idle": "2020-10-21T01:11:49.252061Z",
     "shell.execute_reply": "2020-10-21T01:11:49.252490Z"
    }
   },
   "outputs": [
    {
     "data": {
      "text/plain": [
       "26"
      ]
     },
     "execution_count": 1,
     "metadata": {},
     "output_type": "execute_result"
    }
   ],
   "source": [
    "np.max(a)"
   ]
  },
  {
   "cell_type": "code",
   "execution_count": 31,
   "metadata": {
    "execution": {
     "iopub.execute_input": "2020-10-21T01:11:49.256690Z",
     "iopub.status.busy": "2020-10-21T01:11:49.256155Z",
     "iopub.status.idle": "2020-10-21T01:11:49.258652Z",
     "shell.execute_reply": "2020-10-21T01:11:49.259077Z"
    }
   },
   "outputs": [
    {
     "data": {
      "text/plain": [
       "72"
      ]
     },
     "execution_count": 1,
     "metadata": {},
     "output_type": "execute_result"
    }
   ],
   "source": [
    "np.sum(a)"
   ]
  },
  {
   "cell_type": "markdown",
   "metadata": {},
   "source": [
    "### Más magia"
   ]
  },
  {
   "cell_type": "code",
   "execution_count": 32,
   "metadata": {
    "execution": {
     "iopub.execute_input": "2020-10-21T01:11:49.263931Z",
     "iopub.status.busy": "2020-10-21T01:11:49.263390Z",
     "iopub.status.idle": "2020-10-21T01:11:49.265988Z",
     "shell.execute_reply": "2020-10-21T01:11:49.266411Z"
    }
   },
   "outputs": [
    {
     "data": {
      "text/plain": [
       "array([[False, False, False,  True],\n",
       "       [ True, False,  True,  True]])"
      ]
     },
     "execution_count": 1,
     "metadata": {},
     "output_type": "execute_result"
    }
   ],
   "source": [
    "a = np.array([[5, 2, 1, 8], [26, 4, 17, 9]])\n",
    "\n",
    "a > 5"
   ]
  },
  {
   "cell_type": "code",
   "execution_count": 33,
   "metadata": {
    "execution": {
     "iopub.execute_input": "2020-10-21T01:11:49.270576Z",
     "iopub.status.busy": "2020-10-21T01:11:49.270037Z",
     "iopub.status.idle": "2020-10-21T01:11:49.271903Z",
     "shell.execute_reply": "2020-10-21T01:11:49.272325Z"
    }
   },
   "outputs": [
    {
     "data": {
      "text/plain": [
       "array([ 8, 26, 17,  9])"
      ]
     },
     "execution_count": 1,
     "metadata": {},
     "output_type": "execute_result"
    }
   ],
   "source": [
    "a[a > 5]"
   ]
  },
  {
   "cell_type": "markdown",
   "metadata": {},
   "source": [
    "### Broadcasting"
   ]
  },
  {
   "cell_type": "markdown",
   "metadata": {},
   "source": [
    "Permite realizar operaciones entre dos numpy arrays de distintas dimensiones.\n",
    "Para lograr esto, las dimensiones de los mismos deben ser compatibles. Dos dimensiones son compatibles cuando:\n",
    "1. Son iguales\n",
    "2. Alguna de las dos es 1"
   ]
  },
  {
   "cell_type": "code",
   "execution_count": 34,
   "metadata": {
    "execution": {
     "iopub.execute_input": "2020-10-21T01:11:49.276544Z",
     "iopub.status.busy": "2020-10-21T01:11:49.275995Z",
     "iopub.status.idle": "2020-10-21T01:11:49.278258Z",
     "shell.execute_reply": "2020-10-21T01:11:49.278709Z"
    }
   },
   "outputs": [
    {
     "data": {
      "text/plain": [
       "array([[ 5,  2,  1,  8],\n",
       "       [26,  4, 17,  9]])"
      ]
     },
     "execution_count": 1,
     "metadata": {},
     "output_type": "execute_result"
    }
   ],
   "source": [
    "a = np.array([[5, 2, 1, 8], [26, 4, 17, 9]])\n",
    "a"
   ]
  },
  {
   "cell_type": "code",
   "execution_count": 35,
   "metadata": {
    "execution": {
     "iopub.execute_input": "2020-10-21T01:11:49.284154Z",
     "iopub.status.busy": "2020-10-21T01:11:49.283611Z",
     "iopub.status.idle": "2020-10-21T01:11:49.286624Z",
     "shell.execute_reply": "2020-10-21T01:11:49.286164Z"
    }
   },
   "outputs": [
    {
     "name": "stdout",
     "output_type": "stream",
     "text": [
      "a: (2, 4)\n",
      "b: (4,)\n"
     ]
    },
    {
     "data": {
      "text/plain": [
       "array([[10,  4,  2, 16],\n",
       "       [31,  6, 18, 17]])"
      ]
     },
     "execution_count": 1,
     "metadata": {},
     "output_type": "execute_result"
    }
   ],
   "source": [
    "# Armamos un array que tenga la misma cantidad de columnas que a\n",
    "b = np.array([5, 2, 1, 8])\n",
    "print(f\"a: {a.shape}\")\n",
    "print(f\"b: {b.shape}\")\n",
    "a + b"
   ]
  },
  {
   "cell_type": "code",
   "execution_count": 36,
   "metadata": {
    "execution": {
     "iopub.execute_input": "2020-10-21T01:11:49.290685Z",
     "iopub.status.busy": "2020-10-21T01:11:49.290122Z",
     "iopub.status.idle": "2020-10-21T01:11:49.350660Z",
     "shell.execute_reply": "2020-10-21T01:11:49.351122Z"
    },
    "tags": [
     "raises-exception"
    ]
   },
   "outputs": [
    {
     "name": "stdout",
     "output_type": "stream",
     "text": [
      "a: (2, 4)\n",
      "b: (3,)\n"
     ]
    },
    {
     "ename": "ValueError",
     "evalue": "operands could not be broadcast together with shapes (2,4) (3,) ",
     "output_type": "error",
     "traceback": [
      "\u001b[0;31m---------------------------------------------------------------------------\u001b[0m",
      "\u001b[0;31mValueError\u001b[0m                                Traceback (most recent call last)",
      "\u001b[0;32m<ipython-input-1-fe11b6ae6346>\u001b[0m in \u001b[0;36m<module>\u001b[0;34m\u001b[0m\n\u001b[1;32m      3\u001b[0m \u001b[0mprint\u001b[0m\u001b[0;34m(\u001b[0m\u001b[0;34mf\"a: {a.shape}\"\u001b[0m\u001b[0;34m)\u001b[0m\u001b[0;34m\u001b[0m\u001b[0;34m\u001b[0m\u001b[0m\n\u001b[1;32m      4\u001b[0m \u001b[0mprint\u001b[0m\u001b[0;34m(\u001b[0m\u001b[0;34mf\"b: {b.shape}\"\u001b[0m\u001b[0;34m)\u001b[0m\u001b[0;34m\u001b[0m\u001b[0;34m\u001b[0m\u001b[0m\n\u001b[0;32m----> 5\u001b[0;31m \u001b[0ma\u001b[0m \u001b[0;34m+\u001b[0m \u001b[0mb\u001b[0m\u001b[0;34m\u001b[0m\u001b[0;34m\u001b[0m\u001b[0m\n\u001b[0m",
      "\u001b[0;31mValueError\u001b[0m: operands could not be broadcast together with shapes (2,4) (3,) "
     ]
    }
   ],
   "source": [
    "# Armamos un array que tenga distinta cantidad de filas y columnas que a\n",
    "b = np.array([5, 1, 8])\n",
    "print(f\"a: {a.shape}\")\n",
    "print(f\"b: {b.shape}\")\n",
    "a + b"
   ]
  },
  {
   "cell_type": "code",
   "execution_count": 37,
   "metadata": {
    "execution": {
     "iopub.execute_input": "2020-10-21T01:11:49.458911Z",
     "iopub.status.busy": "2020-10-21T01:11:49.457831Z",
     "iopub.status.idle": "2020-10-21T01:11:49.461765Z",
     "shell.execute_reply": "2020-10-21T01:11:49.462206Z"
    }
   },
   "outputs": [
    {
     "name": "stdout",
     "output_type": "stream",
     "text": [
      "a: (2, 4)\n",
      "b: (2, 1)\n"
     ]
    },
    {
     "data": {
      "text/plain": [
       "array([[ 7,  4,  3, 10],\n",
       "       [27,  5, 18, 10]])"
      ]
     },
     "execution_count": 1,
     "metadata": {},
     "output_type": "execute_result"
    }
   ],
   "source": [
    "# Armamos un array que tenga la misma cantidad de filas que a\n",
    "b = np.array([[2], [1]])\n",
    "print(f\"a: {a.shape}\")\n",
    "print(f\"b: {b.shape}\")\n",
    "a + b"
   ]
  },
  {
   "cell_type": "code",
   "execution_count": 38,
   "metadata": {
    "execution": {
     "iopub.execute_input": "2020-10-21T01:11:49.466512Z",
     "iopub.status.busy": "2020-10-21T01:11:49.465921Z",
     "iopub.status.idle": "2020-10-21T01:11:49.468143Z",
     "shell.execute_reply": "2020-10-21T01:11:49.468577Z"
    }
   },
   "outputs": [
    {
     "data": {
      "text/plain": [
       "array([[ 9,  6,  5, 12],\n",
       "       [30,  8, 21, 13]])"
      ]
     },
     "execution_count": 1,
     "metadata": {},
     "output_type": "execute_result"
    }
   ],
   "source": [
    "b = 4\n",
    "a + b"
   ]
  }
 ],
 "metadata": {
  "jupytext": {
   "encoding": "# -*- coding: utf-8 -*-",
   "formats": "ipynb,py:light"
  },
  "kernelspec": {
   "display_name": "Python 3 (venv)",
   "language": "python",
   "name": "python3"
  },
  "language_info": {
   "codemirror_mode": {
    "name": "ipython",
    "version": 3
   },
   "file_extension": ".py",
   "mimetype": "text/x-python",
   "name": "python",
   "nbconvert_exporter": "python",
   "pygments_lexer": "ipython3",
   "version": "3.7.9"
  }
 },
 "nbformat": 4,
 "nbformat_minor": 4
}
