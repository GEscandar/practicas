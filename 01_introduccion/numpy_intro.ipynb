{
 "cells": [
  {
   "cell_type": "markdown",
   "id": "aggregate-seattle",
   "metadata": {},
   "source": [
    "## Clase 1 - Introducción a Numpy\n",
    "\n",
    "Numpy es una biblioteca para Python que facilita el manejo de arreglos multidimensionales y ofrece varias herramientas para trabajar con ellos. Muchas de las bibliotecas de Python que son ampliamente usadas hoy en día, como pandas, están construidas sobre numpy.\n",
    "\n",
    "### Listas de Python vs arreglos de Numpy\n",
    "\n",
    "A primera vista, un arreglo de numpy puede resultar idéntico a una lista de python, pero a medida que la cantidad de datos comienza a incrementar, los arreglos de numpy terminan ofreciendo un manejo más eficiente de la memoria.\n",
    "\n",
    "Para comenzar, vamos a crear un arreglo de numpy:"
   ]
  },
  {
   "cell_type": "code",
   "execution_count": 1,
   "id": "dental-armor",
   "metadata": {
    "execution": {
     "iopub.execute_input": "2021-02-08T22:11:46.288122Z",
     "iopub.status.busy": "2021-02-08T22:11:46.287443Z",
     "iopub.status.idle": "2021-02-08T22:11:46.536847Z",
     "shell.execute_reply": "2021-02-08T22:11:46.536238Z"
    }
   },
   "outputs": [
    {
     "data": {
      "text/plain": [
       "array([1, 2, 3, 4])"
      ]
     },
     "execution_count": 1,
     "metadata": {},
     "output_type": "execute_result"
    }
   ],
   "source": [
    "import numpy as np\n",
    "\n",
    "np.array([1, 2, 3, 4])"
   ]
  },
  {
   "cell_type": "markdown",
   "id": "horizontal-zoning",
   "metadata": {},
   "source": [
    "Los arreglos pueden ser también multidimensionales:"
   ]
  },
  {
   "cell_type": "code",
   "execution_count": 2,
   "id": "unexpected-identifier",
   "metadata": {
    "execution": {
     "iopub.execute_input": "2021-02-08T22:11:46.542793Z",
     "iopub.status.busy": "2021-02-08T22:11:46.542171Z",
     "iopub.status.idle": "2021-02-08T22:11:46.545013Z",
     "shell.execute_reply": "2021-02-08T22:11:46.545499Z"
    }
   },
   "outputs": [
    {
     "data": {
      "text/plain": [
       "array([[1, 2, 3, 4],\n",
       "       [5, 6, 7, 8]])"
      ]
     },
     "execution_count": 1,
     "metadata": {},
     "output_type": "execute_result"
    }
   ],
   "source": [
    "np.array([[1, 2, 3, 4], [5, 6, 7, 8]])"
   ]
  },
  {
   "cell_type": "markdown",
   "id": "million-bibliography",
   "metadata": {},
   "source": [
    "Es importante tener en cuenta que un arreglo de numpy tiene un tipo fijo de datos, entonces si se quiere agregar un dato de un tipo diferente al de la mayoría, este va a ser modificado para adaptarse al resto"
   ]
  },
  {
   "cell_type": "code",
   "execution_count": 3,
   "id": "standard-skating",
   "metadata": {
    "execution": {
     "iopub.execute_input": "2021-02-08T22:11:46.554707Z",
     "iopub.status.busy": "2021-02-08T22:11:46.553216Z",
     "iopub.status.idle": "2021-02-08T22:11:46.555779Z",
     "shell.execute_reply": "2021-02-08T22:11:46.555277Z"
    }
   },
   "outputs": [],
   "source": [
    "enteros = np.array([1, 2, 3, 4])"
   ]
  },
  {
   "cell_type": "markdown",
   "id": "motivated-gardening",
   "metadata": {},
   "source": [
    "Agrego un elemento de tipo flotante en la posición 1"
   ]
  },
  {
   "cell_type": "code",
   "execution_count": 4,
   "id": "distant-dance",
   "metadata": {
    "execution": {
     "iopub.execute_input": "2021-02-08T22:11:46.561090Z",
     "iopub.status.busy": "2021-02-08T22:11:46.560503Z",
     "iopub.status.idle": "2021-02-08T22:11:46.563392Z",
     "shell.execute_reply": "2021-02-08T22:11:46.563998Z"
    }
   },
   "outputs": [
    {
     "data": {
      "text/plain": [
       "array([1, 8, 3, 4])"
      ]
     },
     "execution_count": 1,
     "metadata": {},
     "output_type": "execute_result"
    }
   ],
   "source": [
    "enteros[1] = 8.4727\n",
    "enteros"
   ]
  },
  {
   "cell_type": "markdown",
   "id": "indirect-credit",
   "metadata": {},
   "source": [
    "Numpy también nos permite crear arreglos con valores aleatorios del 0 al 1.\n",
    "Basta con pasarle las dimensiones del arreglo que queremos crear."
   ]
  },
  {
   "cell_type": "code",
   "execution_count": 5,
   "id": "english-uganda",
   "metadata": {
    "execution": {
     "iopub.execute_input": "2021-02-08T22:11:46.569342Z",
     "iopub.status.busy": "2021-02-08T22:11:46.568729Z",
     "iopub.status.idle": "2021-02-08T22:11:46.571630Z",
     "shell.execute_reply": "2021-02-08T22:11:46.572541Z"
    }
   },
   "outputs": [
    {
     "data": {
      "text/plain": [
       "array([[0.94822828, 0.78377341, 0.69122791],\n",
       "       [0.46721068, 0.12126066, 0.38310251]])"
      ]
     },
     "execution_count": 1,
     "metadata": {},
     "output_type": "execute_result"
    }
   ],
   "source": [
    "np.random.rand(2, 3)"
   ]
  },
  {
   "cell_type": "markdown",
   "id": "mobile-council",
   "metadata": {},
   "source": [
    "## Slicing\n",
    "\n",
    "De la misma forma que con las listas de python, pueden obtenerse slices de los arreglos de numpy"
   ]
  },
  {
   "cell_type": "code",
   "execution_count": 6,
   "id": "saved-delicious",
   "metadata": {
    "execution": {
     "iopub.execute_input": "2021-02-08T22:11:46.577755Z",
     "iopub.status.busy": "2021-02-08T22:11:46.577149Z",
     "iopub.status.idle": "2021-02-08T22:11:46.580140Z",
     "shell.execute_reply": "2021-02-08T22:11:46.580602Z"
    },
    "lines_to_next_cell": 2
   },
   "outputs": [
    {
     "data": {
      "text/plain": [
       "array([1, 8])"
      ]
     },
     "execution_count": 1,
     "metadata": {},
     "output_type": "execute_result"
    }
   ],
   "source": [
    "enteros[:2]"
   ]
  },
  {
   "cell_type": "code",
   "execution_count": 7,
   "id": "appreciated-throw",
   "metadata": {
    "execution": {
     "iopub.execute_input": "2021-02-08T22:11:46.588022Z",
     "iopub.status.busy": "2021-02-08T22:11:46.586609Z",
     "iopub.status.idle": "2021-02-08T22:11:46.590096Z",
     "shell.execute_reply": "2021-02-08T22:11:46.589588Z"
    }
   },
   "outputs": [
    {
     "name": "stdout",
     "output_type": "stream",
     "text": [
      "Original: \n",
      "[[ 1  2  3  4]\n",
      " [ 5  6  7  8]\n",
      " [ 9 10 11 12]]\n",
      "\n",
      "Recortada: \n",
      "[[1 2 3]\n",
      " [5 6 7]]\n"
     ]
    }
   ],
   "source": [
    "matriz_de_enteros = np.array([[1, 2, 3, 4], [5, 6, 7, 8], [9, 10, 11, 12]])\n",
    "\n",
    "print('Original: ')\n",
    "print(matriz_de_enteros)\n",
    "\n",
    "print()\n",
    "\n",
    "print('Recortada: ')\n",
    "print(matriz_de_enteros[:2, :3])"
   ]
  },
  {
   "cell_type": "code",
   "execution_count": 8,
   "id": "ruled-subcommittee",
   "metadata": {
    "execution": {
     "iopub.execute_input": "2021-02-08T22:11:46.596165Z",
     "iopub.status.busy": "2021-02-08T22:11:46.594961Z",
     "iopub.status.idle": "2021-02-08T22:11:46.598210Z",
     "shell.execute_reply": "2021-02-08T22:11:46.598761Z"
    }
   },
   "outputs": [
    {
     "data": {
      "text/plain": [
       "array([[[ 0,  1,  2,  3,  4],\n",
       "        [ 5,  6,  7,  8,  9],\n",
       "        [10, 11, 12, 13, 14]],\n",
       "\n",
       "       [[15, 16, 17, 18, 19],\n",
       "        [20, 21, 22, 23, 24],\n",
       "        [25, 26, 27, 28, 29]],\n",
       "\n",
       "       [[30, 31, 32, 33, 34],\n",
       "        [35, 36, 37, 38, 39],\n",
       "        [40, 41, 42, 43, 44]]])"
      ]
     },
     "execution_count": 1,
     "metadata": {},
     "output_type": "execute_result"
    }
   ],
   "source": [
    "# 3D\n",
    "x = np.arange(45).reshape(3, 3, 5)\n",
    "x"
   ]
  },
  {
   "cell_type": "code",
   "execution_count": 9,
   "id": "quick-pattern",
   "metadata": {
    "execution": {
     "iopub.execute_input": "2021-02-08T22:11:46.604203Z",
     "iopub.status.busy": "2021-02-08T22:11:46.603612Z",
     "iopub.status.idle": "2021-02-08T22:11:46.606491Z",
     "shell.execute_reply": "2021-02-08T22:11:46.606949Z"
    }
   },
   "outputs": [
    {
     "data": {
      "text/plain": [
       "array([[ 0,  1,  2,  3,  4],\n",
       "       [ 5,  6,  7,  8,  9],\n",
       "       [10, 11, 12, 13, 14]])"
      ]
     },
     "execution_count": 1,
     "metadata": {},
     "output_type": "execute_result"
    }
   ],
   "source": [
    "x[0]"
   ]
  },
  {
   "cell_type": "markdown",
   "id": "short-gazette",
   "metadata": {},
   "source": [
    "\n",
    "¿Cómo conseguimos estos valores? ([fuente](https://towardsdatascience.com/indexing-and-slicing-of-1d-2d-and-3d-arrays-in-numpy-e731afff0bbe))\n",
    "\n",
    "![title](img/matrix.png)"
   ]
  },
  {
   "cell_type": "code",
   "execution_count": 10,
   "id": "streaming-providence",
   "metadata": {
    "execution": {
     "iopub.execute_input": "2021-02-08T22:11:46.612571Z",
     "iopub.status.busy": "2021-02-08T22:11:46.611984Z",
     "iopub.status.idle": "2021-02-08T22:11:46.614907Z",
     "shell.execute_reply": "2021-02-08T22:11:46.615339Z"
    }
   },
   "outputs": [
    {
     "data": {
      "text/plain": [
       "array([[[16, 17, 18],\n",
       "        [21, 22, 23]],\n",
       "\n",
       "       [[31, 32, 33],\n",
       "        [36, 37, 38]]])"
      ]
     },
     "execution_count": 1,
     "metadata": {},
     "output_type": "execute_result"
    }
   ],
   "source": [
    "x[1:, 0:2, 1:4]"
   ]
  },
  {
   "cell_type": "markdown",
   "id": "interim-permission",
   "metadata": {},
   "source": [
    "### Copia de arreglos"
   ]
  },
  {
   "cell_type": "code",
   "execution_count": 11,
   "id": "hairy-freedom",
   "metadata": {
    "execution": {
     "iopub.execute_input": "2021-02-08T22:11:46.620599Z",
     "iopub.status.busy": "2021-02-08T22:11:46.620019Z",
     "iopub.status.idle": "2021-02-08T22:11:46.622771Z",
     "shell.execute_reply": "2021-02-08T22:11:46.623231Z"
    }
   },
   "outputs": [
    {
     "data": {
      "text/plain": [
       "array([1, 2, 3, 4])"
      ]
     },
     "execution_count": 1,
     "metadata": {},
     "output_type": "execute_result"
    }
   ],
   "source": [
    "# Los arreglos no se copian con asignación\n",
    "\n",
    "a = np.array([1, 2, 3, 4])\n",
    "b = a\n",
    "b"
   ]
  },
  {
   "cell_type": "code",
   "execution_count": 12,
   "id": "incorporated-adobe",
   "metadata": {
    "execution": {
     "iopub.execute_input": "2021-02-08T22:11:46.628203Z",
     "iopub.status.busy": "2021-02-08T22:11:46.627626Z",
     "iopub.status.idle": "2021-02-08T22:11:46.630375Z",
     "shell.execute_reply": "2021-02-08T22:11:46.630835Z"
    }
   },
   "outputs": [
    {
     "data": {
      "text/plain": [
       "array([ 1, 20,  3,  4])"
      ]
     },
     "execution_count": 1,
     "metadata": {},
     "output_type": "execute_result"
    }
   ],
   "source": [
    "b[1] = 20\n",
    "b"
   ]
  },
  {
   "cell_type": "code",
   "execution_count": 13,
   "id": "disciplinary-second",
   "metadata": {
    "execution": {
     "iopub.execute_input": "2021-02-08T22:11:46.636112Z",
     "iopub.status.busy": "2021-02-08T22:11:46.635143Z",
     "iopub.status.idle": "2021-02-08T22:11:46.637879Z",
     "shell.execute_reply": "2021-02-08T22:11:46.638334Z"
    }
   },
   "outputs": [
    {
     "data": {
      "text/plain": [
       "array([ 1, 20,  3,  4])"
      ]
     },
     "execution_count": 1,
     "metadata": {},
     "output_type": "execute_result"
    }
   ],
   "source": [
    "a"
   ]
  },
  {
   "cell_type": "code",
   "execution_count": 14,
   "id": "curious-sudan",
   "metadata": {
    "execution": {
     "iopub.execute_input": "2021-02-08T22:11:46.644942Z",
     "iopub.status.busy": "2021-02-08T22:11:46.643849Z",
     "iopub.status.idle": "2021-02-08T22:11:46.647139Z",
     "shell.execute_reply": "2021-02-08T22:11:46.647606Z"
    }
   },
   "outputs": [
    {
     "data": {
      "text/plain": [
       "array([ 1, 20,  3,  4])"
      ]
     },
     "execution_count": 1,
     "metadata": {},
     "output_type": "execute_result"
    }
   ],
   "source": [
    "# Para copiar un arreglo a otra variable debemos usar copy()\n",
    "\n",
    "a = np.array([1, 2, 3, 4])\n",
    "b = a.copy()\n",
    "b[1] = 20\n",
    "b"
   ]
  },
  {
   "cell_type": "code",
   "execution_count": 15,
   "id": "handed-cartridge",
   "metadata": {
    "execution": {
     "iopub.execute_input": "2021-02-08T22:11:46.652583Z",
     "iopub.status.busy": "2021-02-08T22:11:46.652004Z",
     "iopub.status.idle": "2021-02-08T22:11:46.654959Z",
     "shell.execute_reply": "2021-02-08T22:11:46.655421Z"
    }
   },
   "outputs": [
    {
     "data": {
      "text/plain": [
       "array([1, 2, 3, 4])"
      ]
     },
     "execution_count": 1,
     "metadata": {},
     "output_type": "execute_result"
    }
   ],
   "source": [
    "a"
   ]
  },
  {
   "cell_type": "markdown",
   "id": "hispanic-gauge",
   "metadata": {},
   "source": [
    "### Modificación de dimensiones"
   ]
  },
  {
   "cell_type": "markdown",
   "id": "fantastic-butter",
   "metadata": {},
   "source": [
    "Existen varias operaciones para cambiar la forma de un arreglo de numpy"
   ]
  },
  {
   "cell_type": "code",
   "execution_count": 16,
   "id": "bored-purse",
   "metadata": {
    "execution": {
     "iopub.execute_input": "2021-02-08T22:11:46.662239Z",
     "iopub.status.busy": "2021-02-08T22:11:46.661417Z",
     "iopub.status.idle": "2021-02-08T22:11:46.664279Z",
     "shell.execute_reply": "2021-02-08T22:11:46.664745Z"
    }
   },
   "outputs": [
    {
     "data": {
      "text/plain": [
       "2"
      ]
     },
     "execution_count": 1,
     "metadata": {},
     "output_type": "execute_result"
    }
   ],
   "source": [
    "# Obtener las dimensiones del arreglo\n",
    "\n",
    "matriz_de_enteros.ndim"
   ]
  },
  {
   "cell_type": "code",
   "execution_count": 17,
   "id": "saving-underwear",
   "metadata": {
    "execution": {
     "iopub.execute_input": "2021-02-08T22:11:46.669794Z",
     "iopub.status.busy": "2021-02-08T22:11:46.668961Z",
     "iopub.status.idle": "2021-02-08T22:11:46.671716Z",
     "shell.execute_reply": "2021-02-08T22:11:46.672170Z"
    }
   },
   "outputs": [
    {
     "data": {
      "text/plain": [
       "(3, 4)"
      ]
     },
     "execution_count": 1,
     "metadata": {},
     "output_type": "execute_result"
    }
   ],
   "source": [
    "# Obtener la forma del arreglo\n",
    "\n",
    "matriz_de_enteros.shape"
   ]
  },
  {
   "cell_type": "code",
   "execution_count": 18,
   "id": "cutting-variance",
   "metadata": {
    "execution": {
     "iopub.execute_input": "2021-02-08T22:11:46.678316Z",
     "iopub.status.busy": "2021-02-08T22:11:46.677340Z",
     "iopub.status.idle": "2021-02-08T22:11:46.680092Z",
     "shell.execute_reply": "2021-02-08T22:11:46.680548Z"
    }
   },
   "outputs": [
    {
     "data": {
      "text/plain": [
       "array([[ 3,  6],\n",
       "       [ 9, 12]])"
      ]
     },
     "execution_count": 1,
     "metadata": {},
     "output_type": "execute_result"
    }
   ],
   "source": [
    "# Modificar la forma de un arreglo\n",
    "\n",
    "enteros = np.array([3, 6, 9, 12])\n",
    "np.reshape(enteros, (2, 2))"
   ]
  },
  {
   "cell_type": "code",
   "execution_count": 19,
   "id": "general-puzzle",
   "metadata": {
    "execution": {
     "iopub.execute_input": "2021-02-08T22:11:46.686473Z",
     "iopub.status.busy": "2021-02-08T22:11:46.685500Z",
     "iopub.status.idle": "2021-02-08T22:11:46.688257Z",
     "shell.execute_reply": "2021-02-08T22:11:46.689074Z"
    }
   },
   "outputs": [
    {
     "data": {
      "text/plain": [
       "array([[1., 1.],\n",
       "       [1., 1.]])"
      ]
     },
     "execution_count": 1,
     "metadata": {},
     "output_type": "execute_result"
    }
   ],
   "source": [
    "# Aplanar un arreglo\n",
    "\n",
    "a = np.ones((2, 2))\n",
    "a"
   ]
  },
  {
   "cell_type": "code",
   "execution_count": 20,
   "id": "marked-corpus",
   "metadata": {
    "execution": {
     "iopub.execute_input": "2021-02-08T22:11:46.693317Z",
     "iopub.status.busy": "2021-02-08T22:11:46.692734Z",
     "iopub.status.idle": "2021-02-08T22:11:46.695705Z",
     "shell.execute_reply": "2021-02-08T22:11:46.695204Z"
    }
   },
   "outputs": [
    {
     "data": {
      "text/plain": [
       "array([1., 1., 1., 1.])"
      ]
     },
     "execution_count": 1,
     "metadata": {},
     "output_type": "execute_result"
    }
   ],
   "source": [
    "a.flatten()"
   ]
  },
  {
   "cell_type": "code",
   "execution_count": 21,
   "id": "authentic-hollow",
   "metadata": {
    "execution": {
     "iopub.execute_input": "2021-02-08T22:11:46.700484Z",
     "iopub.status.busy": "2021-02-08T22:11:46.699904Z",
     "iopub.status.idle": "2021-02-08T22:11:46.701958Z",
     "shell.execute_reply": "2021-02-08T22:11:46.702414Z"
    },
    "lines_to_next_cell": 2
   },
   "outputs": [
    {
     "data": {
      "text/plain": [
       "array([[1., 1.],\n",
       "       [1., 1.]])"
      ]
     },
     "execution_count": 1,
     "metadata": {},
     "output_type": "execute_result"
    }
   ],
   "source": [
    "a"
   ]
  },
  {
   "cell_type": "markdown",
   "id": "premier-puppy",
   "metadata": {},
   "source": [
    "### Combinación de arreglos (Stacking)"
   ]
  },
  {
   "cell_type": "code",
   "execution_count": 22,
   "id": "compressed-electron",
   "metadata": {
    "execution": {
     "iopub.execute_input": "2021-02-08T22:11:46.706942Z",
     "iopub.status.busy": "2021-02-08T22:11:46.706388Z",
     "iopub.status.idle": "2021-02-08T22:11:46.708892Z",
     "shell.execute_reply": "2021-02-08T22:11:46.709389Z"
    }
   },
   "outputs": [
    {
     "data": {
      "text/plain": [
       "array([0, 1, 2, 3, 4])"
      ]
     },
     "execution_count": 1,
     "metadata": {},
     "output_type": "execute_result"
    }
   ],
   "source": [
    "# Los arreglos se pueden combinar verticalmente (se incrementa la cantidad de filas)\n",
    "\n",
    "a = np.arange(0, 5)\n",
    "a"
   ]
  },
  {
   "cell_type": "code",
   "execution_count": 23,
   "id": "defined-student",
   "metadata": {
    "execution": {
     "iopub.execute_input": "2021-02-08T22:11:46.713385Z",
     "iopub.status.busy": "2021-02-08T22:11:46.712800Z",
     "iopub.status.idle": "2021-02-08T22:11:46.715247Z",
     "shell.execute_reply": "2021-02-08T22:11:46.715712Z"
    }
   },
   "outputs": [
    {
     "data": {
      "text/plain": [
       "array([5, 6, 7, 8, 9])"
      ]
     },
     "execution_count": 1,
     "metadata": {},
     "output_type": "execute_result"
    }
   ],
   "source": [
    "b = np.arange(5, 10)\n",
    "b"
   ]
  },
  {
   "cell_type": "code",
   "execution_count": 24,
   "id": "treated-graphics",
   "metadata": {
    "execution": {
     "iopub.execute_input": "2021-02-08T22:11:46.720686Z",
     "iopub.status.busy": "2021-02-08T22:11:46.719783Z",
     "iopub.status.idle": "2021-02-08T22:11:46.722702Z",
     "shell.execute_reply": "2021-02-08T22:11:46.723163Z"
    }
   },
   "outputs": [
    {
     "data": {
      "text/plain": [
       "array([[0, 1, 2, 3, 4],\n",
       "       [5, 6, 7, 8, 9]])"
      ]
     },
     "execution_count": 1,
     "metadata": {},
     "output_type": "execute_result"
    }
   ],
   "source": [
    "combinados_verticalmente = np.vstack((a, b))\n",
    "combinados_verticalmente"
   ]
  },
  {
   "cell_type": "code",
   "execution_count": 25,
   "id": "pending-family",
   "metadata": {
    "execution": {
     "iopub.execute_input": "2021-02-08T22:11:46.728355Z",
     "iopub.status.busy": "2021-02-08T22:11:46.727765Z",
     "iopub.status.idle": "2021-02-08T22:11:46.730121Z",
     "shell.execute_reply": "2021-02-08T22:11:46.730582Z"
    }
   },
   "outputs": [
    {
     "data": {
      "text/plain": [
       "array([0, 1, 2, 3, 4, 5, 6, 7, 8, 9])"
      ]
     },
     "execution_count": 1,
     "metadata": {},
     "output_type": "execute_result"
    }
   ],
   "source": [
    "# También se pueden combinar horizontalmente (se incrementa la cantidad de columnas)\n",
    "\n",
    "combinados_horizontalmente = np.hstack((a, b))\n",
    "combinados_horizontalmente"
   ]
  },
  {
   "cell_type": "markdown",
   "id": "wrong-removal",
   "metadata": {},
   "source": [
    "### Operaciones matemáticas"
   ]
  },
  {
   "cell_type": "code",
   "execution_count": 26,
   "id": "wrong-conservative",
   "metadata": {
    "execution": {
     "iopub.execute_input": "2021-02-08T22:11:46.735351Z",
     "iopub.status.busy": "2021-02-08T22:11:46.734776Z",
     "iopub.status.idle": "2021-02-08T22:11:46.737030Z",
     "shell.execute_reply": "2021-02-08T22:11:46.737601Z"
    }
   },
   "outputs": [
    {
     "data": {
      "text/plain": [
       "array([3, 4, 5, 6])"
      ]
     },
     "execution_count": 1,
     "metadata": {},
     "output_type": "execute_result"
    }
   ],
   "source": [
    "a = np.array([1, 2, 3, 4])\n",
    "\n",
    "a + 2"
   ]
  },
  {
   "cell_type": "code",
   "execution_count": 27,
   "id": "secure-forestry",
   "metadata": {
    "execution": {
     "iopub.execute_input": "2021-02-08T22:11:46.742094Z",
     "iopub.status.busy": "2021-02-08T22:11:46.741149Z",
     "iopub.status.idle": "2021-02-08T22:11:46.743545Z",
     "shell.execute_reply": "2021-02-08T22:11:46.744002Z"
    }
   },
   "outputs": [
    {
     "data": {
      "text/plain": [
       "array([ 1,  4,  9, 16])"
      ]
     },
     "execution_count": 1,
     "metadata": {},
     "output_type": "execute_result"
    }
   ],
   "source": [
    "a ** 2"
   ]
  },
  {
   "cell_type": "code",
   "execution_count": 28,
   "id": "blank-today",
   "metadata": {
    "execution": {
     "iopub.execute_input": "2021-02-08T22:11:46.748178Z",
     "iopub.status.busy": "2021-02-08T22:11:46.747581Z",
     "iopub.status.idle": "2021-02-08T22:11:46.750813Z",
     "shell.execute_reply": "2021-02-08T22:11:46.750320Z"
    }
   },
   "outputs": [
    {
     "data": {
      "text/plain": [
       "array([2., 3., 4., 5.])"
      ]
     },
     "execution_count": 1,
     "metadata": {},
     "output_type": "execute_result"
    }
   ],
   "source": [
    "b = np.ones(4)\n",
    "a + b"
   ]
  },
  {
   "cell_type": "markdown",
   "id": "aware-population",
   "metadata": {},
   "source": [
    "### Estadística"
   ]
  },
  {
   "cell_type": "code",
   "execution_count": 29,
   "id": "buried-cement",
   "metadata": {
    "execution": {
     "iopub.execute_input": "2021-02-08T22:11:46.757726Z",
     "iopub.status.busy": "2021-02-08T22:11:46.757137Z",
     "iopub.status.idle": "2021-02-08T22:11:46.759347Z",
     "shell.execute_reply": "2021-02-08T22:11:46.759810Z"
    }
   },
   "outputs": [
    {
     "data": {
      "text/plain": [
       "1"
      ]
     },
     "execution_count": 1,
     "metadata": {},
     "output_type": "execute_result"
    }
   ],
   "source": [
    "a = np.array([[5, 2, 1, 8], [26, 4, 17, 9]])\n",
    "\n",
    "np.min(a)"
   ]
  },
  {
   "cell_type": "code",
   "execution_count": 30,
   "id": "proper-course",
   "metadata": {
    "execution": {
     "iopub.execute_input": "2021-02-08T22:11:46.764450Z",
     "iopub.status.busy": "2021-02-08T22:11:46.763861Z",
     "iopub.status.idle": "2021-02-08T22:11:46.765902Z",
     "shell.execute_reply": "2021-02-08T22:11:46.766361Z"
    }
   },
   "outputs": [
    {
     "data": {
      "text/plain": [
       "26"
      ]
     },
     "execution_count": 1,
     "metadata": {},
     "output_type": "execute_result"
    }
   ],
   "source": [
    "np.max(a)"
   ]
  },
  {
   "cell_type": "code",
   "execution_count": 31,
   "id": "exterior-palace",
   "metadata": {
    "execution": {
     "iopub.execute_input": "2021-02-08T22:11:46.771996Z",
     "iopub.status.busy": "2021-02-08T22:11:46.771408Z",
     "iopub.status.idle": "2021-02-08T22:11:46.774918Z",
     "shell.execute_reply": "2021-02-08T22:11:46.774176Z"
    }
   },
   "outputs": [
    {
     "data": {
      "text/plain": [
       "72"
      ]
     },
     "execution_count": 1,
     "metadata": {},
     "output_type": "execute_result"
    }
   ],
   "source": [
    "np.sum(a)"
   ]
  },
  {
   "cell_type": "markdown",
   "id": "appointed-turning",
   "metadata": {},
   "source": [
    "### Más magia"
   ]
  },
  {
   "cell_type": "code",
   "execution_count": 32,
   "id": "studied-bahamas",
   "metadata": {
    "execution": {
     "iopub.execute_input": "2021-02-08T22:11:46.780644Z",
     "iopub.status.busy": "2021-02-08T22:11:46.780059Z",
     "iopub.status.idle": "2021-02-08T22:11:46.782106Z",
     "shell.execute_reply": "2021-02-08T22:11:46.782734Z"
    }
   },
   "outputs": [
    {
     "data": {
      "text/plain": [
       "array([[False, False, False,  True],\n",
       "       [ True, False,  True,  True]])"
      ]
     },
     "execution_count": 1,
     "metadata": {},
     "output_type": "execute_result"
    }
   ],
   "source": [
    "a = np.array([[5, 2, 1, 8], [26, 4, 17, 9]])\n",
    "\n",
    "a > 5"
   ]
  },
  {
   "cell_type": "code",
   "execution_count": 33,
   "id": "labeled-photographer",
   "metadata": {
    "execution": {
     "iopub.execute_input": "2021-02-08T22:11:46.786971Z",
     "iopub.status.busy": "2021-02-08T22:11:46.786412Z",
     "iopub.status.idle": "2021-02-08T22:11:46.789368Z",
     "shell.execute_reply": "2021-02-08T22:11:46.788833Z"
    }
   },
   "outputs": [
    {
     "data": {
      "text/plain": [
       "array([ 8, 26, 17,  9])"
      ]
     },
     "execution_count": 1,
     "metadata": {},
     "output_type": "execute_result"
    }
   ],
   "source": [
    "a[a > 5]"
   ]
  },
  {
   "cell_type": "markdown",
   "id": "recent-yorkshire",
   "metadata": {},
   "source": [
    "### Broadcasting"
   ]
  },
  {
   "cell_type": "markdown",
   "id": "alternate-thompson",
   "metadata": {},
   "source": [
    "Permite realizar operaciones entre dos numpy arrays de distintas dimensiones.\n",
    "Para lograr esto, las dimensiones de los mismos deben ser compatibles. Dos dimensiones son compatibles cuando:\n",
    "1. Son iguales\n",
    "2. Alguna de las dos es 1"
   ]
  },
  {
   "cell_type": "code",
   "execution_count": 34,
   "id": "tracked-drunk",
   "metadata": {
    "execution": {
     "iopub.execute_input": "2021-02-08T22:11:46.793813Z",
     "iopub.status.busy": "2021-02-08T22:11:46.793223Z",
     "iopub.status.idle": "2021-02-08T22:11:46.796225Z",
     "shell.execute_reply": "2021-02-08T22:11:46.795703Z"
    }
   },
   "outputs": [
    {
     "data": {
      "text/plain": [
       "array([[ 5,  2,  1,  8],\n",
       "       [26,  4, 17,  9]])"
      ]
     },
     "execution_count": 1,
     "metadata": {},
     "output_type": "execute_result"
    }
   ],
   "source": [
    "a = np.array([[5, 2, 1, 8], [26, 4, 17, 9]])\n",
    "a"
   ]
  },
  {
   "cell_type": "code",
   "execution_count": 35,
   "id": "rational-prince",
   "metadata": {
    "execution": {
     "iopub.execute_input": "2021-02-08T22:11:46.801855Z",
     "iopub.status.busy": "2021-02-08T22:11:46.801258Z",
     "iopub.status.idle": "2021-02-08T22:11:46.804082Z",
     "shell.execute_reply": "2021-02-08T22:11:46.804568Z"
    }
   },
   "outputs": [
    {
     "name": "stdout",
     "output_type": "stream",
     "text": [
      "a: (2, 4)\n",
      "b: (4,)\n"
     ]
    },
    {
     "data": {
      "text/plain": [
       "array([[10,  4,  2, 16],\n",
       "       [31,  6, 18, 17]])"
      ]
     },
     "execution_count": 1,
     "metadata": {},
     "output_type": "execute_result"
    }
   ],
   "source": [
    "# Armamos un array que tenga la misma cantidad de columnas que a\n",
    "b = np.array([5, 2, 1, 8])\n",
    "print(f\"a: {a.shape}\")\n",
    "print(f\"b: {b.shape}\")\n",
    "a + b"
   ]
  },
  {
   "cell_type": "code",
   "execution_count": 36,
   "id": "working-softball",
   "metadata": {
    "execution": {
     "iopub.execute_input": "2021-02-08T22:11:46.809198Z",
     "iopub.status.busy": "2021-02-08T22:11:46.808366Z",
     "iopub.status.idle": "2021-02-08T22:11:46.880109Z",
     "shell.execute_reply": "2021-02-08T22:11:46.880616Z"
    },
    "tags": [
     "raises-exception"
    ]
   },
   "outputs": [
    {
     "name": "stdout",
     "output_type": "stream",
     "text": [
      "a: (2, 4)\n",
      "b: (3,)\n"
     ]
    },
    {
     "ename": "ValueError",
     "evalue": "operands could not be broadcast together with shapes (2,4) (3,) ",
     "output_type": "error",
     "traceback": [
      "\u001b[0;31m---------------------------------------------------------------------------\u001b[0m",
      "\u001b[0;31mValueError\u001b[0m                                Traceback (most recent call last)",
      "\u001b[0;32m<ipython-input-1-fe11b6ae6346>\u001b[0m in \u001b[0;36m<module>\u001b[0;34m\u001b[0m\n\u001b[1;32m      3\u001b[0m \u001b[0mprint\u001b[0m\u001b[0;34m(\u001b[0m\u001b[0;34mf\"a: {a.shape}\"\u001b[0m\u001b[0;34m)\u001b[0m\u001b[0;34m\u001b[0m\u001b[0;34m\u001b[0m\u001b[0m\n\u001b[1;32m      4\u001b[0m \u001b[0mprint\u001b[0m\u001b[0;34m(\u001b[0m\u001b[0;34mf\"b: {b.shape}\"\u001b[0m\u001b[0;34m)\u001b[0m\u001b[0;34m\u001b[0m\u001b[0;34m\u001b[0m\u001b[0m\n\u001b[0;32m----> 5\u001b[0;31m \u001b[0ma\u001b[0m \u001b[0;34m+\u001b[0m \u001b[0mb\u001b[0m\u001b[0;34m\u001b[0m\u001b[0;34m\u001b[0m\u001b[0m\n\u001b[0m",
      "\u001b[0;31mValueError\u001b[0m: operands could not be broadcast together with shapes (2,4) (3,) "
     ]
    }
   ],
   "source": [
    "# Armamos un array que tenga distinta cantidad de filas y columnas que a\n",
    "b = np.array([5, 1, 8])\n",
    "print(f\"a: {a.shape}\")\n",
    "print(f\"b: {b.shape}\")\n",
    "a + b"
   ]
  },
  {
   "cell_type": "code",
   "execution_count": 37,
   "id": "happy-destruction",
   "metadata": {
    "execution": {
     "iopub.execute_input": "2021-02-08T22:11:46.987091Z",
     "iopub.status.busy": "2021-02-08T22:11:46.986429Z",
     "iopub.status.idle": "2021-02-08T22:11:46.994254Z",
     "shell.execute_reply": "2021-02-08T22:11:46.993739Z"
    }
   },
   "outputs": [
    {
     "name": "stdout",
     "output_type": "stream",
     "text": [
      "a: (2, 4)\n",
      "b: (2, 1)\n"
     ]
    },
    {
     "data": {
      "text/plain": [
       "array([[ 7,  4,  3, 10],\n",
       "       [27,  5, 18, 10]])"
      ]
     },
     "execution_count": 1,
     "metadata": {},
     "output_type": "execute_result"
    }
   ],
   "source": [
    "# Armamos un array que tenga la misma cantidad de filas que a\n",
    "b = np.array([[2], [1]])\n",
    "print(f\"a: {a.shape}\")\n",
    "print(f\"b: {b.shape}\")\n",
    "a + b"
   ]
  },
  {
   "cell_type": "code",
   "execution_count": 38,
   "id": "muslim-scroll",
   "metadata": {
    "execution": {
     "iopub.execute_input": "2021-02-08T22:11:46.999724Z",
     "iopub.status.busy": "2021-02-08T22:11:46.999143Z",
     "iopub.status.idle": "2021-02-08T22:11:47.002018Z",
     "shell.execute_reply": "2021-02-08T22:11:47.002481Z"
    }
   },
   "outputs": [
    {
     "data": {
      "text/plain": [
       "array([[ 9,  6,  5, 12],\n",
       "       [30,  8, 21, 13]])"
      ]
     },
     "execution_count": 1,
     "metadata": {},
     "output_type": "execute_result"
    }
   ],
   "source": [
    "b = 4\n",
    "a + b"
   ]
  }
 ],
 "metadata": {
  "jupytext": {
   "encoding": "# -*- coding: utf-8 -*-",
   "formats": "ipynb,py:light"
  },
  "kernelspec": {
   "display_name": "Python 3 (venv)",
   "language": "python",
   "name": "python3"
  },
  "language_info": {
   "codemirror_mode": {
    "name": "ipython",
    "version": 3
   },
   "file_extension": ".py",
   "mimetype": "text/x-python",
   "name": "python",
   "nbconvert_exporter": "python",
   "pygments_lexer": "ipython3",
   "version": "3.7.9"
  }
 },
 "nbformat": 4,
 "nbformat_minor": 5
}
