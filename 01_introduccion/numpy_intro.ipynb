{
 "cells": [
  {
   "cell_type": "markdown",
   "id": "local-helen",
   "metadata": {},
   "source": [
    "## Clase 1 - Introducción a Numpy\n",
    "\n",
    "Numpy es una biblioteca para Python que facilita el manejo de arreglos multidimensionales y ofrece varias herramientas para trabajar con ellos. Muchas de las bibliotecas de Python que son ampliamente usadas hoy en día, como pandas, están construidas sobre numpy.\n",
    "\n",
    "### Listas de Python vs arreglos de Numpy\n",
    "\n",
    "A primera vista, un arreglo de numpy puede resultar idéntico a una lista de python, pero a medida que la cantidad de datos comienza a incrementar, los arreglos de numpy terminan ofreciendo un manejo más eficiente de la memoria.\n",
    "\n",
    "Para comenzar, vamos a crear un arreglo de numpy:"
   ]
  },
  {
   "cell_type": "code",
   "execution_count": 1,
   "id": "relevant-shoulder",
   "metadata": {
    "execution": {
     "iopub.execute_input": "2021-02-03T23:10:33.015277Z",
     "iopub.status.busy": "2021-02-03T23:10:33.014461Z",
     "iopub.status.idle": "2021-02-03T23:10:33.183776Z",
     "shell.execute_reply": "2021-02-03T23:10:33.184411Z"
    }
   },
   "outputs": [
    {
     "data": {
      "text/plain": [
       "array([1, 2, 3, 4])"
      ]
     },
     "execution_count": 1,
     "metadata": {},
     "output_type": "execute_result"
    }
   ],
   "source": [
    "import numpy as np\n",
    "\n",
    "np.array([1, 2, 3, 4])"
   ]
  },
  {
   "cell_type": "markdown",
   "id": "consistent-prisoner",
   "metadata": {},
   "source": [
    "Los arreglos pueden ser también multidimensionales:"
   ]
  },
  {
   "cell_type": "code",
   "execution_count": 2,
   "id": "hourly-referral",
   "metadata": {
    "execution": {
     "iopub.execute_input": "2021-02-03T23:10:33.189545Z",
     "iopub.status.busy": "2021-02-03T23:10:33.188947Z",
     "iopub.status.idle": "2021-02-03T23:10:33.194212Z",
     "shell.execute_reply": "2021-02-03T23:10:33.194693Z"
    }
   },
   "outputs": [
    {
     "data": {
      "text/plain": [
       "array([[1, 2, 3, 4],\n",
       "       [5, 6, 7, 8]])"
      ]
     },
     "execution_count": 1,
     "metadata": {},
     "output_type": "execute_result"
    }
   ],
   "source": [
    "np.array([[1, 2, 3, 4], [5, 6, 7, 8]])"
   ]
  },
  {
   "cell_type": "markdown",
   "id": "premier-combining",
   "metadata": {},
   "source": [
    "Es importante tener en cuenta que un arreglo de numpy tiene un tipo fijo de datos, entonces si se quiere agregar un dato de un tipo diferente al de la mayoría, este va a ser modificado para adaptarse al resto"
   ]
  },
  {
   "cell_type": "code",
   "execution_count": 3,
   "id": "phantom-practitioner",
   "metadata": {
    "execution": {
     "iopub.execute_input": "2021-02-03T23:10:33.200989Z",
     "iopub.status.busy": "2021-02-03T23:10:33.199215Z",
     "iopub.status.idle": "2021-02-03T23:10:33.201717Z",
     "shell.execute_reply": "2021-02-03T23:10:33.202424Z"
    }
   },
   "outputs": [],
   "source": [
    "enteros = np.array([1, 2, 3, 4])"
   ]
  },
  {
   "cell_type": "markdown",
   "id": "rotary-gospel",
   "metadata": {},
   "source": [
    "Agrego un elemento de tipo flotante en la posición 1"
   ]
  },
  {
   "cell_type": "code",
   "execution_count": 4,
   "id": "ready-bankruptcy",
   "metadata": {
    "execution": {
     "iopub.execute_input": "2021-02-03T23:10:33.207877Z",
     "iopub.status.busy": "2021-02-03T23:10:33.206727Z",
     "iopub.status.idle": "2021-02-03T23:10:33.210517Z",
     "shell.execute_reply": "2021-02-03T23:10:33.209851Z"
    }
   },
   "outputs": [
    {
     "data": {
      "text/plain": [
       "array([1, 8, 3, 4])"
      ]
     },
     "execution_count": 1,
     "metadata": {},
     "output_type": "execute_result"
    }
   ],
   "source": [
    "enteros[1] = 8.4727\n",
    "enteros"
   ]
  },
  {
   "cell_type": "markdown",
   "id": "crucial-practice",
   "metadata": {},
   "source": [
    "Numpy también nos permite crear arreglos con valores aleatorios del 0 al 1.\n",
    "Basta con pasarle las dimensiones del arreglo que queremos crear."
   ]
  },
  {
   "cell_type": "code",
   "execution_count": 5,
   "id": "indonesian-mathematics",
   "metadata": {
    "execution": {
     "iopub.execute_input": "2021-02-03T23:10:33.216031Z",
     "iopub.status.busy": "2021-02-03T23:10:33.215405Z",
     "iopub.status.idle": "2021-02-03T23:10:33.217499Z",
     "shell.execute_reply": "2021-02-03T23:10:33.218067Z"
    }
   },
   "outputs": [
    {
     "data": {
      "text/plain": [
       "array([[0.93849523, 0.82933943, 0.41373704],\n",
       "       [0.98265242, 0.45146673, 0.96225117]])"
      ]
     },
     "execution_count": 1,
     "metadata": {},
     "output_type": "execute_result"
    }
   ],
   "source": [
    "np.random.rand(2, 3)"
   ]
  },
  {
   "cell_type": "markdown",
   "id": "abandoned-kidney",
   "metadata": {},
   "source": [
    "## Slicing\n",
    "\n",
    "De la misma forma que con las listas de python, pueden obtenerse slices de los arreglos de numpy"
   ]
  },
  {
   "cell_type": "code",
   "execution_count": 6,
   "id": "saving-dating",
   "metadata": {
    "execution": {
     "iopub.execute_input": "2021-02-03T23:10:33.222116Z",
     "iopub.status.busy": "2021-02-03T23:10:33.221502Z",
     "iopub.status.idle": "2021-02-03T23:10:33.223957Z",
     "shell.execute_reply": "2021-02-03T23:10:33.224545Z"
    },
    "lines_to_next_cell": 2
   },
   "outputs": [
    {
     "data": {
      "text/plain": [
       "array([1, 8])"
      ]
     },
     "execution_count": 1,
     "metadata": {},
     "output_type": "execute_result"
    }
   ],
   "source": [
    "enteros[:2]"
   ]
  },
  {
   "cell_type": "code",
   "execution_count": 7,
   "id": "floral-violin",
   "metadata": {
    "execution": {
     "iopub.execute_input": "2021-02-03T23:10:33.230255Z",
     "iopub.status.busy": "2021-02-03T23:10:33.229671Z",
     "iopub.status.idle": "2021-02-03T23:10:33.231805Z",
     "shell.execute_reply": "2021-02-03T23:10:33.232285Z"
    }
   },
   "outputs": [
    {
     "name": "stdout",
     "output_type": "stream",
     "text": [
      "Original: \n",
      "[[ 1  2  3  4]\n",
      " [ 5  6  7  8]\n",
      " [ 9 10 11 12]]\n",
      "\n",
      "Recortada: \n",
      "[[1 2 3]\n",
      " [5 6 7]]\n"
     ]
    }
   ],
   "source": [
    "matriz_de_enteros = np.array([[1, 2, 3, 4], [5, 6, 7, 8], [9, 10, 11, 12]])\n",
    "\n",
    "print('Original: ')\n",
    "print(matriz_de_enteros)\n",
    "\n",
    "print()\n",
    "\n",
    "print('Recortada: ')\n",
    "print(matriz_de_enteros[:2, :3])"
   ]
  },
  {
   "cell_type": "code",
   "execution_count": 8,
   "id": "unlikely-contract",
   "metadata": {
    "execution": {
     "iopub.execute_input": "2021-02-03T23:10:33.236761Z",
     "iopub.status.busy": "2021-02-03T23:10:33.236106Z",
     "iopub.status.idle": "2021-02-03T23:10:33.238520Z",
     "shell.execute_reply": "2021-02-03T23:10:33.239085Z"
    }
   },
   "outputs": [
    {
     "data": {
      "text/plain": [
       "array([[[ 0,  1,  2,  3,  4],\n",
       "        [ 5,  6,  7,  8,  9],\n",
       "        [10, 11, 12, 13, 14]],\n",
       "\n",
       "       [[15, 16, 17, 18, 19],\n",
       "        [20, 21, 22, 23, 24],\n",
       "        [25, 26, 27, 28, 29]],\n",
       "\n",
       "       [[30, 31, 32, 33, 34],\n",
       "        [35, 36, 37, 38, 39],\n",
       "        [40, 41, 42, 43, 44]]])"
      ]
     },
     "execution_count": 1,
     "metadata": {},
     "output_type": "execute_result"
    }
   ],
   "source": [
    "# 3D\n",
    "x = np.arange(45).reshape(3, 3, 5)\n",
    "x"
   ]
  },
  {
   "cell_type": "code",
   "execution_count": 9,
   "id": "attached-upgrade",
   "metadata": {
    "execution": {
     "iopub.execute_input": "2021-02-03T23:10:33.243436Z",
     "iopub.status.busy": "2021-02-03T23:10:33.242834Z",
     "iopub.status.idle": "2021-02-03T23:10:33.245514Z",
     "shell.execute_reply": "2021-02-03T23:10:33.245991Z"
    }
   },
   "outputs": [
    {
     "data": {
      "text/plain": [
       "array([[ 0,  1,  2,  3,  4],\n",
       "       [ 5,  6,  7,  8,  9],\n",
       "       [10, 11, 12, 13, 14]])"
      ]
     },
     "execution_count": 1,
     "metadata": {},
     "output_type": "execute_result"
    }
   ],
   "source": [
    "x[0]"
   ]
  },
  {
   "cell_type": "markdown",
   "id": "changing-differential",
   "metadata": {},
   "source": [
    "\n",
    "¿Cómo conseguimos estos valores? ([fuente](https://towardsdatascience.com/indexing-and-slicing-of-1d-2d-and-3d-arrays-in-numpy-e731afff0bbe))\n",
    "\n",
    "![title](img/matrix.png)"
   ]
  },
  {
   "cell_type": "code",
   "execution_count": 10,
   "id": "closing-germany",
   "metadata": {
    "execution": {
     "iopub.execute_input": "2021-02-03T23:10:33.250683Z",
     "iopub.status.busy": "2021-02-03T23:10:33.250034Z",
     "iopub.status.idle": "2021-02-03T23:10:33.252324Z",
     "shell.execute_reply": "2021-02-03T23:10:33.252856Z"
    }
   },
   "outputs": [
    {
     "data": {
      "text/plain": [
       "array([[[16, 17, 18],\n",
       "        [21, 22, 23]],\n",
       "\n",
       "       [[31, 32, 33],\n",
       "        [36, 37, 38]]])"
      ]
     },
     "execution_count": 1,
     "metadata": {},
     "output_type": "execute_result"
    }
   ],
   "source": [
    "x[1:, 0:2, 1:4]"
   ]
  },
  {
   "cell_type": "markdown",
   "id": "awful-architect",
   "metadata": {},
   "source": [
    "### Copia de arreglos"
   ]
  },
  {
   "cell_type": "code",
   "execution_count": 11,
   "id": "innocent-weekly",
   "metadata": {
    "execution": {
     "iopub.execute_input": "2021-02-03T23:10:33.258236Z",
     "iopub.status.busy": "2021-02-03T23:10:33.257617Z",
     "iopub.status.idle": "2021-02-03T23:10:33.260680Z",
     "shell.execute_reply": "2021-02-03T23:10:33.261284Z"
    }
   },
   "outputs": [
    {
     "data": {
      "text/plain": [
       "array([1, 2, 3, 4])"
      ]
     },
     "execution_count": 1,
     "metadata": {},
     "output_type": "execute_result"
    }
   ],
   "source": [
    "# Los arreglos no se copian con asignación\n",
    "\n",
    "a = np.array([1, 2, 3, 4])\n",
    "b = a\n",
    "b"
   ]
  },
  {
   "cell_type": "code",
   "execution_count": 12,
   "id": "outer-austin",
   "metadata": {
    "execution": {
     "iopub.execute_input": "2021-02-03T23:10:33.266175Z",
     "iopub.status.busy": "2021-02-03T23:10:33.265450Z",
     "iopub.status.idle": "2021-02-03T23:10:33.268797Z",
     "shell.execute_reply": "2021-02-03T23:10:33.268172Z"
    }
   },
   "outputs": [
    {
     "data": {
      "text/plain": [
       "array([ 1, 20,  3,  4])"
      ]
     },
     "execution_count": 1,
     "metadata": {},
     "output_type": "execute_result"
    }
   ],
   "source": [
    "b[1] = 20\n",
    "b"
   ]
  },
  {
   "cell_type": "code",
   "execution_count": 13,
   "id": "opponent-salmon",
   "metadata": {
    "execution": {
     "iopub.execute_input": "2021-02-03T23:10:33.272888Z",
     "iopub.status.busy": "2021-02-03T23:10:33.272231Z",
     "iopub.status.idle": "2021-02-03T23:10:33.274990Z",
     "shell.execute_reply": "2021-02-03T23:10:33.275506Z"
    }
   },
   "outputs": [
    {
     "data": {
      "text/plain": [
       "array([ 1, 20,  3,  4])"
      ]
     },
     "execution_count": 1,
     "metadata": {},
     "output_type": "execute_result"
    }
   ],
   "source": [
    "a"
   ]
  },
  {
   "cell_type": "code",
   "execution_count": 14,
   "id": "black-target",
   "metadata": {
    "execution": {
     "iopub.execute_input": "2021-02-03T23:10:33.280118Z",
     "iopub.status.busy": "2021-02-03T23:10:33.279506Z",
     "iopub.status.idle": "2021-02-03T23:10:33.281987Z",
     "shell.execute_reply": "2021-02-03T23:10:33.282463Z"
    }
   },
   "outputs": [
    {
     "data": {
      "text/plain": [
       "array([ 1, 20,  3,  4])"
      ]
     },
     "execution_count": 1,
     "metadata": {},
     "output_type": "execute_result"
    }
   ],
   "source": [
    "# Para copiar un arreglo a otra variable debemos usar copy()\n",
    "\n",
    "a = np.array([1, 2, 3, 4])\n",
    "b = a.copy()\n",
    "b[1] = 20\n",
    "b"
   ]
  },
  {
   "cell_type": "code",
   "execution_count": 15,
   "id": "broke-material",
   "metadata": {
    "execution": {
     "iopub.execute_input": "2021-02-03T23:10:33.286151Z",
     "iopub.status.busy": "2021-02-03T23:10:33.285517Z",
     "iopub.status.idle": "2021-02-03T23:10:33.288977Z",
     "shell.execute_reply": "2021-02-03T23:10:33.288298Z"
    }
   },
   "outputs": [
    {
     "data": {
      "text/plain": [
       "array([1, 2, 3, 4])"
      ]
     },
     "execution_count": 1,
     "metadata": {},
     "output_type": "execute_result"
    }
   ],
   "source": [
    "a"
   ]
  },
  {
   "cell_type": "markdown",
   "id": "spoken-cookie",
   "metadata": {},
   "source": [
    "### Modificación de dimensiones"
   ]
  },
  {
   "cell_type": "markdown",
   "id": "swedish-covering",
   "metadata": {},
   "source": [
    "Existen varias operaciones para cambiar la forma de un arreglo de numpy"
   ]
  },
  {
   "cell_type": "code",
   "execution_count": 16,
   "id": "stupid-windsor",
   "metadata": {
    "execution": {
     "iopub.execute_input": "2021-02-03T23:10:33.292828Z",
     "iopub.status.busy": "2021-02-03T23:10:33.292200Z",
     "iopub.status.idle": "2021-02-03T23:10:33.295419Z",
     "shell.execute_reply": "2021-02-03T23:10:33.294891Z"
    }
   },
   "outputs": [
    {
     "data": {
      "text/plain": [
       "2"
      ]
     },
     "execution_count": 1,
     "metadata": {},
     "output_type": "execute_result"
    }
   ],
   "source": [
    "# Obtener las dimensiones del arreglo\n",
    "\n",
    "matriz_de_enteros.ndim"
   ]
  },
  {
   "cell_type": "code",
   "execution_count": 17,
   "id": "corporate-uganda",
   "metadata": {
    "execution": {
     "iopub.execute_input": "2021-02-03T23:10:33.298941Z",
     "iopub.status.busy": "2021-02-03T23:10:33.298362Z",
     "iopub.status.idle": "2021-02-03T23:10:33.301271Z",
     "shell.execute_reply": "2021-02-03T23:10:33.301780Z"
    }
   },
   "outputs": [
    {
     "data": {
      "text/plain": [
       "(3, 4)"
      ]
     },
     "execution_count": 1,
     "metadata": {},
     "output_type": "execute_result"
    }
   ],
   "source": [
    "# Obtener la forma del arreglo\n",
    "\n",
    "matriz_de_enteros.shape"
   ]
  },
  {
   "cell_type": "code",
   "execution_count": 18,
   "id": "noble-shelf",
   "metadata": {
    "execution": {
     "iopub.execute_input": "2021-02-03T23:10:33.306496Z",
     "iopub.status.busy": "2021-02-03T23:10:33.305879Z",
     "iopub.status.idle": "2021-02-03T23:10:33.308605Z",
     "shell.execute_reply": "2021-02-03T23:10:33.309053Z"
    }
   },
   "outputs": [
    {
     "data": {
      "text/plain": [
       "array([[ 3,  6],\n",
       "       [ 9, 12]])"
      ]
     },
     "execution_count": 1,
     "metadata": {},
     "output_type": "execute_result"
    }
   ],
   "source": [
    "# Modificar la forma de un arreglo\n",
    "\n",
    "enteros = np.array([3, 6, 9, 12])\n",
    "np.reshape(enteros, (2, 2))"
   ]
  },
  {
   "cell_type": "code",
   "execution_count": 19,
   "id": "tender-underground",
   "metadata": {
    "execution": {
     "iopub.execute_input": "2021-02-03T23:10:33.313190Z",
     "iopub.status.busy": "2021-02-03T23:10:33.312527Z",
     "iopub.status.idle": "2021-02-03T23:10:33.315631Z",
     "shell.execute_reply": "2021-02-03T23:10:33.316080Z"
    }
   },
   "outputs": [
    {
     "data": {
      "text/plain": [
       "array([[1., 1.],\n",
       "       [1., 1.]])"
      ]
     },
     "execution_count": 1,
     "metadata": {},
     "output_type": "execute_result"
    }
   ],
   "source": [
    "# Aplanar un arreglo\n",
    "\n",
    "a = np.ones((2, 2))\n",
    "a"
   ]
  },
  {
   "cell_type": "code",
   "execution_count": 20,
   "id": "amber-possession",
   "metadata": {
    "execution": {
     "iopub.execute_input": "2021-02-03T23:10:33.321102Z",
     "iopub.status.busy": "2021-02-03T23:10:33.320480Z",
     "iopub.status.idle": "2021-02-03T23:10:33.322613Z",
     "shell.execute_reply": "2021-02-03T23:10:33.323067Z"
    }
   },
   "outputs": [
    {
     "data": {
      "text/plain": [
       "array([1., 1., 1., 1.])"
      ]
     },
     "execution_count": 1,
     "metadata": {},
     "output_type": "execute_result"
    }
   ],
   "source": [
    "a.flatten()"
   ]
  },
  {
   "cell_type": "code",
   "execution_count": 21,
   "id": "known-favorite",
   "metadata": {
    "execution": {
     "iopub.execute_input": "2021-02-03T23:10:33.327525Z",
     "iopub.status.busy": "2021-02-03T23:10:33.326891Z",
     "iopub.status.idle": "2021-02-03T23:10:33.329860Z",
     "shell.execute_reply": "2021-02-03T23:10:33.329353Z"
    },
    "lines_to_next_cell": 2
   },
   "outputs": [
    {
     "data": {
      "text/plain": [
       "array([[1., 1.],\n",
       "       [1., 1.]])"
      ]
     },
     "execution_count": 1,
     "metadata": {},
     "output_type": "execute_result"
    }
   ],
   "source": [
    "a"
   ]
  },
  {
   "cell_type": "markdown",
   "id": "demonstrated-chosen",
   "metadata": {},
   "source": [
    "### Combinación de arreglos (Stacking)"
   ]
  },
  {
   "cell_type": "code",
   "execution_count": 22,
   "id": "august-intersection",
   "metadata": {
    "execution": {
     "iopub.execute_input": "2021-02-03T23:10:33.334019Z",
     "iopub.status.busy": "2021-02-03T23:10:33.333369Z",
     "iopub.status.idle": "2021-02-03T23:10:33.336025Z",
     "shell.execute_reply": "2021-02-03T23:10:33.336563Z"
    }
   },
   "outputs": [
    {
     "data": {
      "text/plain": [
       "array([0, 1, 2, 3, 4])"
      ]
     },
     "execution_count": 1,
     "metadata": {},
     "output_type": "execute_result"
    }
   ],
   "source": [
    "# Los arreglos se pueden combinar verticalmente (se incrementa la cantidad de filas)\n",
    "\n",
    "a = np.arange(0, 5)\n",
    "a"
   ]
  },
  {
   "cell_type": "code",
   "execution_count": 23,
   "id": "adapted-bosnia",
   "metadata": {
    "execution": {
     "iopub.execute_input": "2021-02-03T23:10:33.341103Z",
     "iopub.status.busy": "2021-02-03T23:10:33.340122Z",
     "iopub.status.idle": "2021-02-03T23:10:33.342783Z",
     "shell.execute_reply": "2021-02-03T23:10:33.343363Z"
    }
   },
   "outputs": [
    {
     "data": {
      "text/plain": [
       "array([5, 6, 7, 8, 9])"
      ]
     },
     "execution_count": 1,
     "metadata": {},
     "output_type": "execute_result"
    }
   ],
   "source": [
    "b = np.arange(5, 10)\n",
    "b"
   ]
  },
  {
   "cell_type": "code",
   "execution_count": 24,
   "id": "sophisticated-street",
   "metadata": {
    "execution": {
     "iopub.execute_input": "2021-02-03T23:10:33.348246Z",
     "iopub.status.busy": "2021-02-03T23:10:33.347666Z",
     "iopub.status.idle": "2021-02-03T23:10:33.349951Z",
     "shell.execute_reply": "2021-02-03T23:10:33.351328Z"
    }
   },
   "outputs": [
    {
     "data": {
      "text/plain": [
       "array([[0, 1, 2, 3, 4],\n",
       "       [5, 6, 7, 8, 9]])"
      ]
     },
     "execution_count": 1,
     "metadata": {},
     "output_type": "execute_result"
    }
   ],
   "source": [
    "combinados_verticalmente = np.vstack((a, b))\n",
    "combinados_verticalmente"
   ]
  },
  {
   "cell_type": "code",
   "execution_count": 25,
   "id": "addressed-wagon",
   "metadata": {
    "execution": {
     "iopub.execute_input": "2021-02-03T23:10:33.356099Z",
     "iopub.status.busy": "2021-02-03T23:10:33.355467Z",
     "iopub.status.idle": "2021-02-03T23:10:33.359300Z",
     "shell.execute_reply": "2021-02-03T23:10:33.359784Z"
    }
   },
   "outputs": [
    {
     "data": {
      "text/plain": [
       "array([0, 1, 2, 3, 4, 5, 6, 7, 8, 9])"
      ]
     },
     "execution_count": 1,
     "metadata": {},
     "output_type": "execute_result"
    }
   ],
   "source": [
    "# También se pueden combinar horizontalmente (se incrementa la cantidad de columnas)\n",
    "\n",
    "combinados_horizontalmente = np.hstack((a, b))\n",
    "combinados_horizontalmente"
   ]
  },
  {
   "cell_type": "markdown",
   "id": "dutch-command",
   "metadata": {},
   "source": [
    "### Operaciones matemáticas"
   ]
  },
  {
   "cell_type": "code",
   "execution_count": 26,
   "id": "mental-manual",
   "metadata": {
    "execution": {
     "iopub.execute_input": "2021-02-03T23:10:33.367804Z",
     "iopub.status.busy": "2021-02-03T23:10:33.367075Z",
     "iopub.status.idle": "2021-02-03T23:10:33.369469Z",
     "shell.execute_reply": "2021-02-03T23:10:33.370016Z"
    }
   },
   "outputs": [
    {
     "data": {
      "text/plain": [
       "array([3, 4, 5, 6])"
      ]
     },
     "execution_count": 1,
     "metadata": {},
     "output_type": "execute_result"
    }
   ],
   "source": [
    "a = np.array([1, 2, 3, 4])\n",
    "\n",
    "a + 2"
   ]
  },
  {
   "cell_type": "code",
   "execution_count": 27,
   "id": "moderate-element",
   "metadata": {
    "execution": {
     "iopub.execute_input": "2021-02-03T23:10:33.374618Z",
     "iopub.status.busy": "2021-02-03T23:10:33.373971Z",
     "iopub.status.idle": "2021-02-03T23:10:33.376888Z",
     "shell.execute_reply": "2021-02-03T23:10:33.377370Z"
    }
   },
   "outputs": [
    {
     "data": {
      "text/plain": [
       "array([ 1,  4,  9, 16])"
      ]
     },
     "execution_count": 1,
     "metadata": {},
     "output_type": "execute_result"
    }
   ],
   "source": [
    "a ** 2"
   ]
  },
  {
   "cell_type": "code",
   "execution_count": 28,
   "id": "corrected-student",
   "metadata": {
    "execution": {
     "iopub.execute_input": "2021-02-03T23:10:33.382505Z",
     "iopub.status.busy": "2021-02-03T23:10:33.381937Z",
     "iopub.status.idle": "2021-02-03T23:10:33.384606Z",
     "shell.execute_reply": "2021-02-03T23:10:33.385061Z"
    }
   },
   "outputs": [
    {
     "data": {
      "text/plain": [
       "array([2., 3., 4., 5.])"
      ]
     },
     "execution_count": 1,
     "metadata": {},
     "output_type": "execute_result"
    }
   ],
   "source": [
    "b = np.ones(4)\n",
    "a + b"
   ]
  },
  {
   "cell_type": "markdown",
   "id": "centered-capital",
   "metadata": {},
   "source": [
    "### Estadística"
   ]
  },
  {
   "cell_type": "code",
   "execution_count": 29,
   "id": "appropriate-insert",
   "metadata": {
    "execution": {
     "iopub.execute_input": "2021-02-03T23:10:33.389234Z",
     "iopub.status.busy": "2021-02-03T23:10:33.388687Z",
     "iopub.status.idle": "2021-02-03T23:10:33.391934Z",
     "shell.execute_reply": "2021-02-03T23:10:33.391435Z"
    }
   },
   "outputs": [
    {
     "data": {
      "text/plain": [
       "1"
      ]
     },
     "execution_count": 1,
     "metadata": {},
     "output_type": "execute_result"
    }
   ],
   "source": [
    "a = np.array([[5, 2, 1, 8], [26, 4, 17, 9]])\n",
    "\n",
    "np.min(a)"
   ]
  },
  {
   "cell_type": "code",
   "execution_count": 30,
   "id": "proved-valley",
   "metadata": {
    "execution": {
     "iopub.execute_input": "2021-02-03T23:10:33.395765Z",
     "iopub.status.busy": "2021-02-03T23:10:33.395098Z",
     "iopub.status.idle": "2021-02-03T23:10:33.398448Z",
     "shell.execute_reply": "2021-02-03T23:10:33.398921Z"
    }
   },
   "outputs": [
    {
     "data": {
      "text/plain": [
       "26"
      ]
     },
     "execution_count": 1,
     "metadata": {},
     "output_type": "execute_result"
    }
   ],
   "source": [
    "np.max(a)"
   ]
  },
  {
   "cell_type": "code",
   "execution_count": 31,
   "id": "engaged-delaware",
   "metadata": {
    "execution": {
     "iopub.execute_input": "2021-02-03T23:10:33.402760Z",
     "iopub.status.busy": "2021-02-03T23:10:33.402097Z",
     "iopub.status.idle": "2021-02-03T23:10:33.405530Z",
     "shell.execute_reply": "2021-02-03T23:10:33.405038Z"
    }
   },
   "outputs": [
    {
     "data": {
      "text/plain": [
       "72"
      ]
     },
     "execution_count": 1,
     "metadata": {},
     "output_type": "execute_result"
    }
   ],
   "source": [
    "np.sum(a)"
   ]
  },
  {
   "cell_type": "markdown",
   "id": "distributed-fitness",
   "metadata": {},
   "source": [
    "### Más magia"
   ]
  },
  {
   "cell_type": "code",
   "execution_count": 32,
   "id": "established-disposition",
   "metadata": {
    "execution": {
     "iopub.execute_input": "2021-02-03T23:10:33.409895Z",
     "iopub.status.busy": "2021-02-03T23:10:33.409232Z",
     "iopub.status.idle": "2021-02-03T23:10:33.413256Z",
     "shell.execute_reply": "2021-02-03T23:10:33.412342Z"
    }
   },
   "outputs": [
    {
     "data": {
      "text/plain": [
       "array([[False, False, False,  True],\n",
       "       [ True, False,  True,  True]])"
      ]
     },
     "execution_count": 1,
     "metadata": {},
     "output_type": "execute_result"
    }
   ],
   "source": [
    "a = np.array([[5, 2, 1, 8], [26, 4, 17, 9]])\n",
    "\n",
    "a > 5"
   ]
  },
  {
   "cell_type": "code",
   "execution_count": 33,
   "id": "copyrighted-community",
   "metadata": {
    "execution": {
     "iopub.execute_input": "2021-02-03T23:10:33.416972Z",
     "iopub.status.busy": "2021-02-03T23:10:33.416414Z",
     "iopub.status.idle": "2021-02-03T23:10:33.419185Z",
     "shell.execute_reply": "2021-02-03T23:10:33.419696Z"
    }
   },
   "outputs": [
    {
     "data": {
      "text/plain": [
       "array([ 8, 26, 17,  9])"
      ]
     },
     "execution_count": 1,
     "metadata": {},
     "output_type": "execute_result"
    }
   ],
   "source": [
    "a[a > 5]"
   ]
  },
  {
   "cell_type": "markdown",
   "id": "timely-terry",
   "metadata": {},
   "source": [
    "### Broadcasting"
   ]
  },
  {
   "cell_type": "markdown",
   "id": "collect-strategy",
   "metadata": {},
   "source": [
    "Permite realizar operaciones entre dos numpy arrays de distintas dimensiones.\n",
    "Para lograr esto, las dimensiones de los mismos deben ser compatibles. Dos dimensiones son compatibles cuando:\n",
    "1. Son iguales\n",
    "2. Alguna de las dos es 1"
   ]
  },
  {
   "cell_type": "code",
   "execution_count": 34,
   "id": "expired-hampton",
   "metadata": {
    "execution": {
     "iopub.execute_input": "2021-02-03T23:10:33.423844Z",
     "iopub.status.busy": "2021-02-03T23:10:33.423205Z",
     "iopub.status.idle": "2021-02-03T23:10:33.426306Z",
     "shell.execute_reply": "2021-02-03T23:10:33.426846Z"
    }
   },
   "outputs": [
    {
     "data": {
      "text/plain": [
       "array([[ 5,  2,  1,  8],\n",
       "       [26,  4, 17,  9]])"
      ]
     },
     "execution_count": 1,
     "metadata": {},
     "output_type": "execute_result"
    }
   ],
   "source": [
    "a = np.array([[5, 2, 1, 8], [26, 4, 17, 9]])\n",
    "a"
   ]
  },
  {
   "cell_type": "code",
   "execution_count": 35,
   "id": "unnecessary-heavy",
   "metadata": {
    "execution": {
     "iopub.execute_input": "2021-02-03T23:10:33.433346Z",
     "iopub.status.busy": "2021-02-03T23:10:33.432764Z",
     "iopub.status.idle": "2021-02-03T23:10:33.435836Z",
     "shell.execute_reply": "2021-02-03T23:10:33.435354Z"
    }
   },
   "outputs": [
    {
     "name": "stdout",
     "output_type": "stream",
     "text": [
      "a: (2, 4)\n",
      "b: (4,)\n"
     ]
    },
    {
     "data": {
      "text/plain": [
       "array([[10,  4,  2, 16],\n",
       "       [31,  6, 18, 17]])"
      ]
     },
     "execution_count": 1,
     "metadata": {},
     "output_type": "execute_result"
    }
   ],
   "source": [
    "# Armamos un array que tenga la misma cantidad de columnas que a\n",
    "b = np.array([5, 2, 1, 8])\n",
    "print(f\"a: {a.shape}\")\n",
    "print(f\"b: {b.shape}\")\n",
    "a + b"
   ]
  },
  {
   "cell_type": "code",
   "execution_count": 36,
   "id": "finite-shareware",
   "metadata": {
    "execution": {
     "iopub.execute_input": "2021-02-03T23:10:33.440056Z",
     "iopub.status.busy": "2021-02-03T23:10:33.439403Z",
     "iopub.status.idle": "2021-02-03T23:10:33.507465Z",
     "shell.execute_reply": "2021-02-03T23:10:33.506838Z"
    },
    "tags": [
     "raises-exception"
    ]
   },
   "outputs": [
    {
     "name": "stdout",
     "output_type": "stream",
     "text": [
      "a: (2, 4)\n",
      "b: (3,)\n"
     ]
    },
    {
     "ename": "ValueError",
     "evalue": "operands could not be broadcast together with shapes (2,4) (3,) ",
     "output_type": "error",
     "traceback": [
      "\u001b[0;31m---------------------------------------------------------------------------\u001b[0m",
      "\u001b[0;31mValueError\u001b[0m                                Traceback (most recent call last)",
      "\u001b[0;32m<ipython-input-1-fe11b6ae6346>\u001b[0m in \u001b[0;36m<module>\u001b[0;34m\u001b[0m\n\u001b[1;32m      3\u001b[0m \u001b[0mprint\u001b[0m\u001b[0;34m(\u001b[0m\u001b[0;34mf\"a: {a.shape}\"\u001b[0m\u001b[0;34m)\u001b[0m\u001b[0;34m\u001b[0m\u001b[0;34m\u001b[0m\u001b[0m\n\u001b[1;32m      4\u001b[0m \u001b[0mprint\u001b[0m\u001b[0;34m(\u001b[0m\u001b[0;34mf\"b: {b.shape}\"\u001b[0m\u001b[0;34m)\u001b[0m\u001b[0;34m\u001b[0m\u001b[0;34m\u001b[0m\u001b[0m\n\u001b[0;32m----> 5\u001b[0;31m \u001b[0ma\u001b[0m \u001b[0;34m+\u001b[0m \u001b[0mb\u001b[0m\u001b[0;34m\u001b[0m\u001b[0;34m\u001b[0m\u001b[0m\n\u001b[0m",
      "\u001b[0;31mValueError\u001b[0m: operands could not be broadcast together with shapes (2,4) (3,) "
     ]
    }
   ],
   "source": [
    "# Armamos un array que tenga distinta cantidad de filas y columnas que a\n",
    "b = np.array([5, 1, 8])\n",
    "print(f\"a: {a.shape}\")\n",
    "print(f\"b: {b.shape}\")\n",
    "a + b"
   ]
  },
  {
   "cell_type": "code",
   "execution_count": 37,
   "id": "plastic-container",
   "metadata": {
    "execution": {
     "iopub.execute_input": "2021-02-03T23:10:33.612629Z",
     "iopub.status.busy": "2021-02-03T23:10:33.611994Z",
     "iopub.status.idle": "2021-02-03T23:10:33.615124Z",
     "shell.execute_reply": "2021-02-03T23:10:33.615625Z"
    }
   },
   "outputs": [
    {
     "name": "stdout",
     "output_type": "stream",
     "text": [
      "a: (2, 4)\n",
      "b: (2, 1)\n"
     ]
    },
    {
     "data": {
      "text/plain": [
       "array([[ 7,  4,  3, 10],\n",
       "       [27,  5, 18, 10]])"
      ]
     },
     "execution_count": 1,
     "metadata": {},
     "output_type": "execute_result"
    }
   ],
   "source": [
    "# Armamos un array que tenga la misma cantidad de filas que a\n",
    "b = np.array([[2], [1]])\n",
    "print(f\"a: {a.shape}\")\n",
    "print(f\"b: {b.shape}\")\n",
    "a + b"
   ]
  },
  {
   "cell_type": "code",
   "execution_count": 38,
   "id": "detected-glossary",
   "metadata": {
    "execution": {
     "iopub.execute_input": "2021-02-03T23:10:33.620393Z",
     "iopub.status.busy": "2021-02-03T23:10:33.619844Z",
     "iopub.status.idle": "2021-02-03T23:10:33.622472Z",
     "shell.execute_reply": "2021-02-03T23:10:33.622918Z"
    }
   },
   "outputs": [
    {
     "data": {
      "text/plain": [
       "array([[ 9,  6,  5, 12],\n",
       "       [30,  8, 21, 13]])"
      ]
     },
     "execution_count": 1,
     "metadata": {},
     "output_type": "execute_result"
    }
   ],
   "source": [
    "b = 4\n",
    "a + b"
   ]
  }
 ],
 "metadata": {
  "jupytext": {
   "encoding": "# -*- coding: utf-8 -*-",
   "formats": "ipynb,py:light"
  },
  "kernelspec": {
   "display_name": "Python 3 (venv)",
   "language": "python",
   "name": "python3"
  },
  "language_info": {
   "codemirror_mode": {
    "name": "ipython",
    "version": 3
   },
   "file_extension": ".py",
   "mimetype": "text/x-python",
   "name": "python",
   "nbconvert_exporter": "python",
   "pygments_lexer": "ipython3",
   "version": "3.7.9"
  }
 },
 "nbformat": 4,
 "nbformat_minor": 5
}
