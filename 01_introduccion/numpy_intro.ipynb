{
 "cells": [
  {
   "cell_type": "markdown",
   "id": "7d052cad",
   "metadata": {},
   "source": [
    "## Clase 1 - Introducción a Numpy\n",
    "\n",
    "Numpy es una biblioteca para Python que facilita el manejo de arreglos multidimensionales y ofrece varias herramientas para trabajar con ellos. Muchas de las bibliotecas de Python que son ampliamente usadas hoy en día, como pandas, están construidas sobre numpy.\n",
    "\n",
    "### Listas de Python vs arreglos de Numpy\n",
    "\n",
    "A primera vista, un arreglo de numpy puede resultar idéntico a una lista de python, pero a medida que la cantidad de datos comienza a incrementar, los arreglos de numpy terminan ofreciendo un manejo más eficiente de la memoria.\n",
    "\n",
    "Para comenzar, vamos a crear un arreglo de numpy:"
   ]
  },
  {
   "cell_type": "code",
   "execution_count": 1,
   "id": "e87f908d",
   "metadata": {
    "execution": {
     "iopub.execute_input": "2021-05-20T22:29:14.761417Z",
     "iopub.status.busy": "2021-05-20T22:29:14.760423Z",
     "iopub.status.idle": "2021-05-20T22:29:14.938397Z",
     "shell.execute_reply": "2021-05-20T22:29:14.937795Z"
    }
   },
   "outputs": [
    {
     "data": {
      "text/plain": [
       "array([1, 2, 3, 4])"
      ]
     },
     "execution_count": 1,
     "metadata": {},
     "output_type": "execute_result"
    }
   ],
   "source": [
    "import numpy as np\n",
    "\n",
    "np.array([1, 2, 3, 4])"
   ]
  },
  {
   "cell_type": "markdown",
   "id": "c112e3c9",
   "metadata": {},
   "source": [
    "Los arreglos pueden ser también multidimensionales:"
   ]
  },
  {
   "cell_type": "code",
   "execution_count": 2,
   "id": "84f2316c",
   "metadata": {
    "execution": {
     "iopub.execute_input": "2021-05-20T22:29:14.943158Z",
     "iopub.status.busy": "2021-05-20T22:29:14.942550Z",
     "iopub.status.idle": "2021-05-20T22:29:14.948293Z",
     "shell.execute_reply": "2021-05-20T22:29:14.947738Z"
    }
   },
   "outputs": [
    {
     "data": {
      "text/plain": [
       "array([[1, 2, 3, 4],\n",
       "       [5, 6, 7, 8]])"
      ]
     },
     "execution_count": 1,
     "metadata": {},
     "output_type": "execute_result"
    }
   ],
   "source": [
    "np.array([[1, 2, 3, 4], [5, 6, 7, 8]])"
   ]
  },
  {
   "cell_type": "markdown",
   "id": "c795b960",
   "metadata": {},
   "source": [
    "Es importante tener en cuenta que un arreglo de numpy tiene un tipo fijo de datos, entonces si se quiere agregar un dato de un tipo diferente al de la mayoría, este va a ser modificado para adaptarse al resto"
   ]
  },
  {
   "cell_type": "code",
   "execution_count": 3,
   "id": "42f28f59",
   "metadata": {
    "execution": {
     "iopub.execute_input": "2021-05-20T22:29:14.952909Z",
     "iopub.status.busy": "2021-05-20T22:29:14.951569Z",
     "iopub.status.idle": "2021-05-20T22:29:14.953617Z",
     "shell.execute_reply": "2021-05-20T22:29:14.954066Z"
    }
   },
   "outputs": [],
   "source": [
    "enteros = np.array([1, 2, 3, 4])"
   ]
  },
  {
   "cell_type": "markdown",
   "id": "9f79d102",
   "metadata": {},
   "source": [
    "Agrego un elemento de tipo flotante en la posición 1"
   ]
  },
  {
   "cell_type": "code",
   "execution_count": 4,
   "id": "43a40991",
   "metadata": {
    "execution": {
     "iopub.execute_input": "2021-05-20T22:29:14.958805Z",
     "iopub.status.busy": "2021-05-20T22:29:14.958258Z",
     "iopub.status.idle": "2021-05-20T22:29:14.960518Z",
     "shell.execute_reply": "2021-05-20T22:29:14.960993Z"
    }
   },
   "outputs": [
    {
     "data": {
      "text/plain": [
       "array([1, 8, 3, 4])"
      ]
     },
     "execution_count": 1,
     "metadata": {},
     "output_type": "execute_result"
    }
   ],
   "source": [
    "enteros[1] = 8.4727\n",
    "enteros"
   ]
  },
  {
   "cell_type": "markdown",
   "id": "6a27ba5c",
   "metadata": {},
   "source": [
    "Numpy también nos permite crear arreglos con valores aleatorios del 0 al 1.\n",
    "Basta con pasarle las dimensiones del arreglo que queremos crear."
   ]
  },
  {
   "cell_type": "code",
   "execution_count": 5,
   "id": "7350bd87",
   "metadata": {
    "execution": {
     "iopub.execute_input": "2021-05-20T22:29:14.965891Z",
     "iopub.status.busy": "2021-05-20T22:29:14.965313Z",
     "iopub.status.idle": "2021-05-20T22:29:14.967795Z",
     "shell.execute_reply": "2021-05-20T22:29:14.968297Z"
    }
   },
   "outputs": [
    {
     "data": {
      "text/plain": [
       "array([[0.07723994, 0.73429563, 0.86140291],\n",
       "       [0.80923649, 0.62349731, 0.75377379]])"
      ]
     },
     "execution_count": 1,
     "metadata": {},
     "output_type": "execute_result"
    }
   ],
   "source": [
    "np.random.rand(2, 3)"
   ]
  },
  {
   "cell_type": "markdown",
   "id": "619b25a5",
   "metadata": {},
   "source": [
    "## Slicing\n",
    "\n",
    "De la misma forma que con las listas de python, pueden obtenerse slices de los arreglos de numpy"
   ]
  },
  {
   "cell_type": "code",
   "execution_count": 6,
   "id": "207264bd",
   "metadata": {
    "execution": {
     "iopub.execute_input": "2021-05-20T22:29:14.973036Z",
     "iopub.status.busy": "2021-05-20T22:29:14.972378Z",
     "iopub.status.idle": "2021-05-20T22:29:14.974385Z",
     "shell.execute_reply": "2021-05-20T22:29:14.974935Z"
    },
    "lines_to_next_cell": 2
   },
   "outputs": [
    {
     "data": {
      "text/plain": [
       "array([1, 8])"
      ]
     },
     "execution_count": 1,
     "metadata": {},
     "output_type": "execute_result"
    }
   ],
   "source": [
    "enteros[:2]"
   ]
  },
  {
   "cell_type": "code",
   "execution_count": 7,
   "id": "587e1235",
   "metadata": {
    "execution": {
     "iopub.execute_input": "2021-05-20T22:29:14.980354Z",
     "iopub.status.busy": "2021-05-20T22:29:14.979791Z",
     "iopub.status.idle": "2021-05-20T22:29:14.982977Z",
     "shell.execute_reply": "2021-05-20T22:29:14.983491Z"
    }
   },
   "outputs": [
    {
     "name": "stdout",
     "output_type": "stream",
     "text": [
      "Original: \n",
      "[[ 1  2  3  4]\n",
      " [ 5  6  7  8]\n",
      " [ 9 10 11 12]]\n",
      "\n",
      "Recortada: \n",
      "[[1 2 3]\n",
      " [5 6 7]]\n"
     ]
    }
   ],
   "source": [
    "matriz_de_enteros = np.array([[1, 2, 3, 4], [5, 6, 7, 8], [9, 10, 11, 12]])\n",
    "\n",
    "print('Original: ')\n",
    "print(matriz_de_enteros)\n",
    "\n",
    "print()\n",
    "\n",
    "print('Recortada: ')\n",
    "print(matriz_de_enteros[:2, :3])"
   ]
  },
  {
   "cell_type": "code",
   "execution_count": 8,
   "id": "574d8817",
   "metadata": {
    "execution": {
     "iopub.execute_input": "2021-05-20T22:29:14.988701Z",
     "iopub.status.busy": "2021-05-20T22:29:14.988130Z",
     "iopub.status.idle": "2021-05-20T22:29:14.990108Z",
     "shell.execute_reply": "2021-05-20T22:29:14.990556Z"
    }
   },
   "outputs": [
    {
     "data": {
      "text/plain": [
       "array([[[ 0,  1,  2,  3,  4],\n",
       "        [ 5,  6,  7,  8,  9],\n",
       "        [10, 11, 12, 13, 14]],\n",
       "\n",
       "       [[15, 16, 17, 18, 19],\n",
       "        [20, 21, 22, 23, 24],\n",
       "        [25, 26, 27, 28, 29]],\n",
       "\n",
       "       [[30, 31, 32, 33, 34],\n",
       "        [35, 36, 37, 38, 39],\n",
       "        [40, 41, 42, 43, 44]]])"
      ]
     },
     "execution_count": 1,
     "metadata": {},
     "output_type": "execute_result"
    }
   ],
   "source": [
    "# 3D\n",
    "# arange() genera valores de un intervalo pasado por parámetro\n",
    "# reshape() modifica la forma del numpy array\n",
    "\n",
    "x = np.arange(45).reshape(3, 3, 5)\n",
    "x"
   ]
  },
  {
   "cell_type": "code",
   "execution_count": 9,
   "id": "ebf4d5dd",
   "metadata": {
    "execution": {
     "iopub.execute_input": "2021-05-20T22:29:14.994937Z",
     "iopub.status.busy": "2021-05-20T22:29:14.994355Z",
     "iopub.status.idle": "2021-05-20T22:29:14.996836Z",
     "shell.execute_reply": "2021-05-20T22:29:14.997316Z"
    }
   },
   "outputs": [
    {
     "data": {
      "text/plain": [
       "array([[ 0,  1,  2,  3,  4],\n",
       "       [ 5,  6,  7,  8,  9],\n",
       "       [10, 11, 12, 13, 14]])"
      ]
     },
     "execution_count": 1,
     "metadata": {},
     "output_type": "execute_result"
    }
   ],
   "source": [
    "x[0]"
   ]
  },
  {
   "cell_type": "code",
   "execution_count": 10,
   "id": "f32ba76c",
   "metadata": {
    "execution": {
     "iopub.execute_input": "2021-05-20T22:29:15.001193Z",
     "iopub.status.busy": "2021-05-20T22:29:15.000567Z",
     "iopub.status.idle": "2021-05-20T22:29:15.004219Z",
     "shell.execute_reply": "2021-05-20T22:29:15.003705Z"
    }
   },
   "outputs": [
    {
     "data": {
      "text/plain": [
       "array([5, 6, 7, 8, 9])"
      ]
     },
     "execution_count": 1,
     "metadata": {},
     "output_type": "execute_result"
    }
   ],
   "source": [
    "x[0][1]"
   ]
  },
  {
   "cell_type": "code",
   "execution_count": 11,
   "id": "72a886c5",
   "metadata": {
    "execution": {
     "iopub.execute_input": "2021-05-20T22:29:15.008866Z",
     "iopub.status.busy": "2021-05-20T22:29:15.008271Z",
     "iopub.status.idle": "2021-05-20T22:29:15.010271Z",
     "shell.execute_reply": "2021-05-20T22:29:15.010742Z"
    }
   },
   "outputs": [
    {
     "data": {
      "text/plain": [
       "7"
      ]
     },
     "execution_count": 1,
     "metadata": {},
     "output_type": "execute_result"
    }
   ],
   "source": [
    "x[0][1][2]"
   ]
  },
  {
   "cell_type": "markdown",
   "id": "d49ab081",
   "metadata": {},
   "source": [
    "\n",
    "¿Cómo conseguimos estos valores? ([fuente](https://towardsdatascience.com/indexing-and-slicing-of-1d-2d-and-3d-arrays-in-numpy-e731afff0bbe))\n",
    "\n",
    "![title](img/matrix.png)"
   ]
  },
  {
   "cell_type": "code",
   "execution_count": 12,
   "id": "88e4a599",
   "metadata": {
    "execution": {
     "iopub.execute_input": "2021-05-20T22:29:15.016337Z",
     "iopub.status.busy": "2021-05-20T22:29:15.015268Z",
     "iopub.status.idle": "2021-05-20T22:29:15.018121Z",
     "shell.execute_reply": "2021-05-20T22:29:15.018595Z"
    }
   },
   "outputs": [
    {
     "data": {
      "text/plain": [
       "array([[[16, 17, 18],\n",
       "        [21, 22, 23]],\n",
       "\n",
       "       [[31, 32, 33],\n",
       "        [36, 37, 38]]])"
      ]
     },
     "execution_count": 1,
     "metadata": {},
     "output_type": "execute_result"
    }
   ],
   "source": [
    "x[1:, 0:2, 1:4]"
   ]
  },
  {
   "cell_type": "markdown",
   "id": "af3027c8",
   "metadata": {},
   "source": [
    "### Copia de arreglos"
   ]
  },
  {
   "cell_type": "code",
   "execution_count": 13,
   "id": "241ad565",
   "metadata": {
    "execution": {
     "iopub.execute_input": "2021-05-20T22:29:15.024303Z",
     "iopub.status.busy": "2021-05-20T22:29:15.023240Z",
     "iopub.status.idle": "2021-05-20T22:29:15.025762Z",
     "shell.execute_reply": "2021-05-20T22:29:15.026213Z"
    }
   },
   "outputs": [
    {
     "data": {
      "text/plain": [
       "array([1, 2, 3, 4])"
      ]
     },
     "execution_count": 1,
     "metadata": {},
     "output_type": "execute_result"
    }
   ],
   "source": [
    "# Los arreglos no se copian con asignación\n",
    "\n",
    "a = np.array([1, 2, 3, 4])\n",
    "b = a\n",
    "b"
   ]
  },
  {
   "cell_type": "code",
   "execution_count": 14,
   "id": "85c66d60",
   "metadata": {
    "execution": {
     "iopub.execute_input": "2021-05-20T22:29:15.029785Z",
     "iopub.status.busy": "2021-05-20T22:29:15.029234Z",
     "iopub.status.idle": "2021-05-20T22:29:15.031781Z",
     "shell.execute_reply": "2021-05-20T22:29:15.032344Z"
    }
   },
   "outputs": [
    {
     "data": {
      "text/plain": [
       "array([ 1, 20,  3,  4])"
      ]
     },
     "execution_count": 1,
     "metadata": {},
     "output_type": "execute_result"
    }
   ],
   "source": [
    "b[1] = 20\n",
    "b"
   ]
  },
  {
   "cell_type": "code",
   "execution_count": 15,
   "id": "a8ae89b0",
   "metadata": {
    "execution": {
     "iopub.execute_input": "2021-05-20T22:29:15.036084Z",
     "iopub.status.busy": "2021-05-20T22:29:15.035545Z",
     "iopub.status.idle": "2021-05-20T22:29:15.038673Z",
     "shell.execute_reply": "2021-05-20T22:29:15.038197Z"
    }
   },
   "outputs": [
    {
     "data": {
      "text/plain": [
       "array([ 1, 20,  3,  4])"
      ]
     },
     "execution_count": 1,
     "metadata": {},
     "output_type": "execute_result"
    }
   ],
   "source": [
    "a"
   ]
  },
  {
   "cell_type": "code",
   "execution_count": 16,
   "id": "1c4053f9",
   "metadata": {
    "execution": {
     "iopub.execute_input": "2021-05-20T22:29:15.042510Z",
     "iopub.status.busy": "2021-05-20T22:29:15.041966Z",
     "iopub.status.idle": "2021-05-20T22:29:15.045508Z",
     "shell.execute_reply": "2021-05-20T22:29:15.045030Z"
    }
   },
   "outputs": [
    {
     "data": {
      "text/plain": [
       "array([ 1, 20,  3,  4])"
      ]
     },
     "execution_count": 1,
     "metadata": {},
     "output_type": "execute_result"
    }
   ],
   "source": [
    "# Para copiar un arreglo a otra variable debemos usar copy()\n",
    "\n",
    "a = np.array([1, 2, 3, 4])\n",
    "b = a.copy()\n",
    "b[1] = 20\n",
    "b"
   ]
  },
  {
   "cell_type": "code",
   "execution_count": 17,
   "id": "f3d4c717",
   "metadata": {
    "execution": {
     "iopub.execute_input": "2021-05-20T22:29:15.050775Z",
     "iopub.status.busy": "2021-05-20T22:29:15.049614Z",
     "iopub.status.idle": "2021-05-20T22:29:15.052655Z",
     "shell.execute_reply": "2021-05-20T22:29:15.052166Z"
    }
   },
   "outputs": [
    {
     "data": {
      "text/plain": [
       "array([1, 2, 3, 4])"
      ]
     },
     "execution_count": 1,
     "metadata": {},
     "output_type": "execute_result"
    }
   ],
   "source": [
    "a"
   ]
  },
  {
   "cell_type": "markdown",
   "id": "60674a94",
   "metadata": {},
   "source": [
    "### Modificación de dimensiones"
   ]
  },
  {
   "cell_type": "markdown",
   "id": "813dbb9b",
   "metadata": {},
   "source": [
    "Existen varias operaciones para cambiar la forma de un arreglo de numpy"
   ]
  },
  {
   "cell_type": "code",
   "execution_count": 18,
   "id": "10cb026a",
   "metadata": {
    "execution": {
     "iopub.execute_input": "2021-05-20T22:29:15.057489Z",
     "iopub.status.busy": "2021-05-20T22:29:15.056948Z",
     "iopub.status.idle": "2021-05-20T22:29:15.059488Z",
     "shell.execute_reply": "2021-05-20T22:29:15.059931Z"
    }
   },
   "outputs": [
    {
     "data": {
      "text/plain": [
       "array([[ 1,  2,  3,  4],\n",
       "       [ 5,  6,  7,  8],\n",
       "       [ 9, 10, 11, 12]])"
      ]
     },
     "execution_count": 1,
     "metadata": {},
     "output_type": "execute_result"
    }
   ],
   "source": [
    "matriz_de_enteros"
   ]
  },
  {
   "cell_type": "code",
   "execution_count": 19,
   "id": "075f7f3f",
   "metadata": {
    "execution": {
     "iopub.execute_input": "2021-05-20T22:29:15.064284Z",
     "iopub.status.busy": "2021-05-20T22:29:15.063717Z",
     "iopub.status.idle": "2021-05-20T22:29:15.067756Z",
     "shell.execute_reply": "2021-05-20T22:29:15.068252Z"
    }
   },
   "outputs": [
    {
     "data": {
      "text/plain": [
       "2"
      ]
     },
     "execution_count": 1,
     "metadata": {},
     "output_type": "execute_result"
    }
   ],
   "source": [
    "# Obtener las dimensiones del arreglo\n",
    "\n",
    "matriz_de_enteros.ndim"
   ]
  },
  {
   "cell_type": "code",
   "execution_count": 20,
   "id": "464f595f",
   "metadata": {
    "execution": {
     "iopub.execute_input": "2021-05-20T22:29:15.072499Z",
     "iopub.status.busy": "2021-05-20T22:29:15.071933Z",
     "iopub.status.idle": "2021-05-20T22:29:15.074719Z",
     "shell.execute_reply": "2021-05-20T22:29:15.075194Z"
    }
   },
   "outputs": [
    {
     "data": {
      "text/plain": [
       "(3, 4)"
      ]
     },
     "execution_count": 1,
     "metadata": {},
     "output_type": "execute_result"
    }
   ],
   "source": [
    "# Obtener la forma del arreglo\n",
    "\n",
    "matriz_de_enteros.shape"
   ]
  },
  {
   "cell_type": "code",
   "execution_count": 21,
   "id": "b18efc67",
   "metadata": {
    "execution": {
     "iopub.execute_input": "2021-05-20T22:29:15.080911Z",
     "iopub.status.busy": "2021-05-20T22:29:15.080342Z",
     "iopub.status.idle": "2021-05-20T22:29:15.085250Z",
     "shell.execute_reply": "2021-05-20T22:29:15.084676Z"
    }
   },
   "outputs": [
    {
     "name": "stdout",
     "output_type": "stream",
     "text": [
      "enteros: [ 3  6  9 12]\n"
     ]
    },
    {
     "data": {
      "text/plain": [
       "array([[ 3,  6],\n",
       "       [ 9, 12]])"
      ]
     },
     "execution_count": 1,
     "metadata": {},
     "output_type": "execute_result"
    }
   ],
   "source": [
    "# Modificar la forma de un arreglo\n",
    "\n",
    "enteros = np.array([3, 6, 9, 12])\n",
    "print(f\"enteros: {enteros}\")\n",
    "np.reshape(enteros, (2, 2))"
   ]
  },
  {
   "cell_type": "code",
   "execution_count": 22,
   "id": "f3c6233e",
   "metadata": {
    "execution": {
     "iopub.execute_input": "2021-05-20T22:29:15.090709Z",
     "iopub.status.busy": "2021-05-20T22:29:15.089867Z",
     "iopub.status.idle": "2021-05-20T22:29:15.092597Z",
     "shell.execute_reply": "2021-05-20T22:29:15.093126Z"
    }
   },
   "outputs": [
    {
     "data": {
      "text/plain": [
       "array([[1., 1.],\n",
       "       [1., 1.]])"
      ]
     },
     "execution_count": 1,
     "metadata": {},
     "output_type": "execute_result"
    }
   ],
   "source": [
    "# Aplanar un arreglo\n",
    "\n",
    "a = np.ones((2, 2))\n",
    "a"
   ]
  },
  {
   "cell_type": "code",
   "execution_count": 23,
   "id": "d0de5cb9",
   "metadata": {
    "execution": {
     "iopub.execute_input": "2021-05-20T22:29:15.098064Z",
     "iopub.status.busy": "2021-05-20T22:29:15.097519Z",
     "iopub.status.idle": "2021-05-20T22:29:15.100446Z",
     "shell.execute_reply": "2021-05-20T22:29:15.100919Z"
    }
   },
   "outputs": [
    {
     "data": {
      "text/plain": [
       "array([1., 1., 1., 1.])"
      ]
     },
     "execution_count": 1,
     "metadata": {},
     "output_type": "execute_result"
    }
   ],
   "source": [
    "a.flatten()"
   ]
  },
  {
   "cell_type": "code",
   "execution_count": 24,
   "id": "e4bd4bcb",
   "metadata": {
    "execution": {
     "iopub.execute_input": "2021-05-20T22:29:15.105271Z",
     "iopub.status.busy": "2021-05-20T22:29:15.104653Z",
     "iopub.status.idle": "2021-05-20T22:29:15.106947Z",
     "shell.execute_reply": "2021-05-20T22:29:15.107423Z"
    },
    "lines_to_next_cell": 2
   },
   "outputs": [
    {
     "data": {
      "text/plain": [
       "array([[1., 1.],\n",
       "       [1., 1.]])"
      ]
     },
     "execution_count": 1,
     "metadata": {},
     "output_type": "execute_result"
    }
   ],
   "source": [
    "a"
   ]
  },
  {
   "cell_type": "markdown",
   "id": "a7b5713f",
   "metadata": {},
   "source": [
    "### Combinación de arreglos (Stacking)"
   ]
  },
  {
   "cell_type": "code",
   "execution_count": 25,
   "id": "8fdf83fa",
   "metadata": {
    "execution": {
     "iopub.execute_input": "2021-05-20T22:29:15.112129Z",
     "iopub.status.busy": "2021-05-20T22:29:15.111581Z",
     "iopub.status.idle": "2021-05-20T22:29:15.114358Z",
     "shell.execute_reply": "2021-05-20T22:29:15.114812Z"
    }
   },
   "outputs": [
    {
     "data": {
      "text/plain": [
       "array([0, 1, 2, 3, 4])"
      ]
     },
     "execution_count": 1,
     "metadata": {},
     "output_type": "execute_result"
    }
   ],
   "source": [
    "# Los arreglos se pueden combinar verticalmente (se incrementa la cantidad de filas)\n",
    "\n",
    "a = np.arange(0, 5)\n",
    "a"
   ]
  },
  {
   "cell_type": "code",
   "execution_count": 26,
   "id": "b0610fd9",
   "metadata": {
    "execution": {
     "iopub.execute_input": "2021-05-20T22:29:15.120283Z",
     "iopub.status.busy": "2021-05-20T22:29:15.118923Z",
     "iopub.status.idle": "2021-05-20T22:29:15.122385Z",
     "shell.execute_reply": "2021-05-20T22:29:15.121773Z"
    }
   },
   "outputs": [
    {
     "data": {
      "text/plain": [
       "array([5, 6, 7, 8, 9])"
      ]
     },
     "execution_count": 1,
     "metadata": {},
     "output_type": "execute_result"
    }
   ],
   "source": [
    "b = np.arange(5, 10)\n",
    "b"
   ]
  },
  {
   "cell_type": "code",
   "execution_count": 27,
   "id": "33a49ba9",
   "metadata": {
    "execution": {
     "iopub.execute_input": "2021-05-20T22:29:15.127206Z",
     "iopub.status.busy": "2021-05-20T22:29:15.126660Z",
     "iopub.status.idle": "2021-05-20T22:29:15.129247Z",
     "shell.execute_reply": "2021-05-20T22:29:15.129699Z"
    }
   },
   "outputs": [
    {
     "data": {
      "text/plain": [
       "array([[0, 1, 2, 3, 4],\n",
       "       [5, 6, 7, 8, 9]])"
      ]
     },
     "execution_count": 1,
     "metadata": {},
     "output_type": "execute_result"
    }
   ],
   "source": [
    "combinados_verticalmente = np.vstack((a, b))\n",
    "combinados_verticalmente"
   ]
  },
  {
   "cell_type": "code",
   "execution_count": 28,
   "id": "b4b7ff0d",
   "metadata": {
    "execution": {
     "iopub.execute_input": "2021-05-20T22:29:15.134751Z",
     "iopub.status.busy": "2021-05-20T22:29:15.133738Z",
     "iopub.status.idle": "2021-05-20T22:29:15.136352Z",
     "shell.execute_reply": "2021-05-20T22:29:15.136821Z"
    }
   },
   "outputs": [
    {
     "data": {
      "text/plain": [
       "array([0, 1, 2, 3, 4, 5, 6, 7, 8, 9])"
      ]
     },
     "execution_count": 1,
     "metadata": {},
     "output_type": "execute_result"
    }
   ],
   "source": [
    "# También se pueden combinar horizontalmente (se incrementa la cantidad de columnas)\n",
    "\n",
    "combinados_horizontalmente = np.hstack((a, b))\n",
    "combinados_horizontalmente"
   ]
  },
  {
   "cell_type": "markdown",
   "id": "94375f9c",
   "metadata": {},
   "source": [
    "### Operaciones matemáticas"
   ]
  },
  {
   "cell_type": "code",
   "execution_count": 29,
   "id": "eab54816",
   "metadata": {
    "execution": {
     "iopub.execute_input": "2021-05-20T22:29:15.141504Z",
     "iopub.status.busy": "2021-05-20T22:29:15.140962Z",
     "iopub.status.idle": "2021-05-20T22:29:15.143522Z",
     "shell.execute_reply": "2021-05-20T22:29:15.144410Z"
    }
   },
   "outputs": [
    {
     "data": {
      "text/plain": [
       "array([3, 4, 5, 6])"
      ]
     },
     "execution_count": 1,
     "metadata": {},
     "output_type": "execute_result"
    }
   ],
   "source": [
    "a = np.array([1, 2, 3, 4])\n",
    "\n",
    "a + 2"
   ]
  },
  {
   "cell_type": "code",
   "execution_count": 30,
   "id": "9f8bdb72",
   "metadata": {
    "execution": {
     "iopub.execute_input": "2021-05-20T22:29:15.148305Z",
     "iopub.status.busy": "2021-05-20T22:29:15.147769Z",
     "iopub.status.idle": "2021-05-20T22:29:15.151067Z",
     "shell.execute_reply": "2021-05-20T22:29:15.150543Z"
    }
   },
   "outputs": [
    {
     "data": {
      "text/plain": [
       "array([ 1,  4,  9, 16])"
      ]
     },
     "execution_count": 1,
     "metadata": {},
     "output_type": "execute_result"
    }
   ],
   "source": [
    "a ** 2"
   ]
  },
  {
   "cell_type": "code",
   "execution_count": 31,
   "id": "8e7d913e",
   "metadata": {
    "execution": {
     "iopub.execute_input": "2021-05-20T22:29:15.155633Z",
     "iopub.status.busy": "2021-05-20T22:29:15.154954Z",
     "iopub.status.idle": "2021-05-20T22:29:15.158253Z",
     "shell.execute_reply": "2021-05-20T22:29:15.158786Z"
    }
   },
   "outputs": [
    {
     "name": "stdout",
     "output_type": "stream",
     "text": [
      "b: [1. 1. 1. 1.]\n"
     ]
    },
    {
     "data": {
      "text/plain": [
       "array([2., 3., 4., 5.])"
      ]
     },
     "execution_count": 1,
     "metadata": {},
     "output_type": "execute_result"
    }
   ],
   "source": [
    "b = np.ones(4)\n",
    "print(f\"b: {b}\")\n",
    "a + b"
   ]
  },
  {
   "cell_type": "markdown",
   "id": "93b9c1b4",
   "metadata": {},
   "source": [
    "### Estadística"
   ]
  },
  {
   "cell_type": "code",
   "execution_count": 32,
   "id": "e79a00eb",
   "metadata": {
    "execution": {
     "iopub.execute_input": "2021-05-20T22:29:15.164430Z",
     "iopub.status.busy": "2021-05-20T22:29:15.163428Z",
     "iopub.status.idle": "2021-05-20T22:29:15.166313Z",
     "shell.execute_reply": "2021-05-20T22:29:15.166760Z"
    }
   },
   "outputs": [
    {
     "data": {
      "text/plain": [
       "1"
      ]
     },
     "execution_count": 1,
     "metadata": {},
     "output_type": "execute_result"
    }
   ],
   "source": [
    "a = np.array([[5, 2, 1, 8], [26, 4, 17, 9]])\n",
    "\n",
    "np.min(a)"
   ]
  },
  {
   "cell_type": "code",
   "execution_count": 33,
   "id": "6f369f99",
   "metadata": {
    "execution": {
     "iopub.execute_input": "2021-05-20T22:29:15.171183Z",
     "iopub.status.busy": "2021-05-20T22:29:15.170634Z",
     "iopub.status.idle": "2021-05-20T22:29:15.173338Z",
     "shell.execute_reply": "2021-05-20T22:29:15.173851Z"
    }
   },
   "outputs": [
    {
     "data": {
      "text/plain": [
       "26"
      ]
     },
     "execution_count": 1,
     "metadata": {},
     "output_type": "execute_result"
    }
   ],
   "source": [
    "np.max(a)"
   ]
  },
  {
   "cell_type": "code",
   "execution_count": 34,
   "id": "af3ae799",
   "metadata": {
    "execution": {
     "iopub.execute_input": "2021-05-20T22:29:15.179186Z",
     "iopub.status.busy": "2021-05-20T22:29:15.178118Z",
     "iopub.status.idle": "2021-05-20T22:29:15.180987Z",
     "shell.execute_reply": "2021-05-20T22:29:15.181474Z"
    }
   },
   "outputs": [
    {
     "data": {
      "text/plain": [
       "72"
      ]
     },
     "execution_count": 1,
     "metadata": {},
     "output_type": "execute_result"
    }
   ],
   "source": [
    "np.sum(a)"
   ]
  },
  {
   "cell_type": "markdown",
   "id": "4d5a7d0b",
   "metadata": {},
   "source": [
    "### Más magia"
   ]
  },
  {
   "cell_type": "code",
   "execution_count": 35,
   "id": "5d9fdd74",
   "metadata": {
    "execution": {
     "iopub.execute_input": "2021-05-20T22:29:15.187294Z",
     "iopub.status.busy": "2021-05-20T22:29:15.186161Z",
     "iopub.status.idle": "2021-05-20T22:29:15.189098Z",
     "shell.execute_reply": "2021-05-20T22:29:15.189628Z"
    }
   },
   "outputs": [
    {
     "data": {
      "text/plain": [
       "array([[False, False, False,  True],\n",
       "       [ True, False,  True,  True]])"
      ]
     },
     "execution_count": 1,
     "metadata": {},
     "output_type": "execute_result"
    }
   ],
   "source": [
    "a = np.array([[5, 2, 1, 8], [26, 4, 17, 9]])\n",
    "\n",
    "a > 5"
   ]
  },
  {
   "cell_type": "code",
   "execution_count": 36,
   "id": "f8c1a5ba",
   "metadata": {
    "execution": {
     "iopub.execute_input": "2021-05-20T22:29:15.193551Z",
     "iopub.status.busy": "2021-05-20T22:29:15.192968Z",
     "iopub.status.idle": "2021-05-20T22:29:15.196284Z",
     "shell.execute_reply": "2021-05-20T22:29:15.195752Z"
    }
   },
   "outputs": [
    {
     "data": {
      "text/plain": [
       "array([ 8, 26, 17,  9])"
      ]
     },
     "execution_count": 1,
     "metadata": {},
     "output_type": "execute_result"
    }
   ],
   "source": [
    "a[a > 5]"
   ]
  },
  {
   "cell_type": "markdown",
   "id": "b184e45f",
   "metadata": {},
   "source": [
    "### Broadcasting"
   ]
  },
  {
   "cell_type": "markdown",
   "id": "0834a8a3",
   "metadata": {},
   "source": [
    "Permite realizar operaciones entre dos numpy arrays de distintas dimensiones.\n",
    "Para lograr esto, las dimensiones de los mismos deben ser compatibles. Dos dimensiones son compatibles cuando:\n",
    "1. Son iguales\n",
    "2. Alguna de las dos es 1"
   ]
  },
  {
   "cell_type": "code",
   "execution_count": 37,
   "id": "91c46b57",
   "metadata": {
    "execution": {
     "iopub.execute_input": "2021-05-20T22:29:15.200613Z",
     "iopub.status.busy": "2021-05-20T22:29:15.200029Z",
     "iopub.status.idle": "2021-05-20T22:29:15.202776Z",
     "shell.execute_reply": "2021-05-20T22:29:15.203237Z"
    }
   },
   "outputs": [
    {
     "data": {
      "text/plain": [
       "array([[ 5,  2,  1,  8],\n",
       "       [26,  4, 17,  9]])"
      ]
     },
     "execution_count": 1,
     "metadata": {},
     "output_type": "execute_result"
    }
   ],
   "source": [
    "a = np.array([[5, 2, 1, 8], [26, 4, 17, 9]])\n",
    "a"
   ]
  },
  {
   "cell_type": "code",
   "execution_count": 38,
   "id": "fdfb7be9",
   "metadata": {
    "execution": {
     "iopub.execute_input": "2021-05-20T22:29:15.208492Z",
     "iopub.status.busy": "2021-05-20T22:29:15.207885Z",
     "iopub.status.idle": "2021-05-20T22:29:15.210885Z",
     "shell.execute_reply": "2021-05-20T22:29:15.210320Z"
    }
   },
   "outputs": [
    {
     "name": "stdout",
     "output_type": "stream",
     "text": [
      "a: (2, 4)\n",
      "b: (4,)\n",
      "\n",
      "a + b:\n",
      " [[10  4  2 16]\n",
      " [31  6 18 17]]\n"
     ]
    }
   ],
   "source": [
    "# Armamos un array que tenga la misma cantidad de columnas que a\n",
    "b = np.array([5, 2, 1, 8])\n",
    "print(f\"a: {a.shape}\")\n",
    "print(f\"b: {b.shape}\")\n",
    "# a + b\n",
    "print()\n",
    "print(f\"a + b:\\n {a + b}\")"
   ]
  },
  {
   "cell_type": "code",
   "execution_count": 39,
   "id": "0d5d832c",
   "metadata": {
    "execution": {
     "iopub.execute_input": "2021-05-20T22:29:15.215040Z",
     "iopub.status.busy": "2021-05-20T22:29:15.214359Z",
     "iopub.status.idle": "2021-05-20T22:29:15.278723Z",
     "shell.execute_reply": "2021-05-20T22:29:15.279555Z"
    },
    "tags": [
     "raises-exception"
    ]
   },
   "outputs": [
    {
     "name": "stdout",
     "output_type": "stream",
     "text": [
      "a: (2, 4)\n",
      "b: (3,)\n"
     ]
    },
    {
     "ename": "ValueError",
     "evalue": "operands could not be broadcast together with shapes (2,4) (3,) ",
     "output_type": "error",
     "traceback": [
      "\u001b[0;31m---------------------------------------------------------------------------\u001b[0m",
      "\u001b[0;31mValueError\u001b[0m                                Traceback (most recent call last)",
      "\u001b[0;32m<ipython-input-1-fe11b6ae6346>\u001b[0m in \u001b[0;36m<module>\u001b[0;34m\u001b[0m\n\u001b[1;32m      3\u001b[0m \u001b[0mprint\u001b[0m\u001b[0;34m(\u001b[0m\u001b[0;34mf\"a: {a.shape}\"\u001b[0m\u001b[0;34m)\u001b[0m\u001b[0;34m\u001b[0m\u001b[0;34m\u001b[0m\u001b[0m\n\u001b[1;32m      4\u001b[0m \u001b[0mprint\u001b[0m\u001b[0;34m(\u001b[0m\u001b[0;34mf\"b: {b.shape}\"\u001b[0m\u001b[0;34m)\u001b[0m\u001b[0;34m\u001b[0m\u001b[0;34m\u001b[0m\u001b[0m\n\u001b[0;32m----> 5\u001b[0;31m \u001b[0ma\u001b[0m \u001b[0;34m+\u001b[0m \u001b[0mb\u001b[0m\u001b[0;34m\u001b[0m\u001b[0;34m\u001b[0m\u001b[0m\n\u001b[0m",
      "\u001b[0;31mValueError\u001b[0m: operands could not be broadcast together with shapes (2,4) (3,) "
     ]
    }
   ],
   "source": [
    "# Armamos un array que tenga distinta cantidad de filas y columnas que a\n",
    "b = np.array([5, 1, 8])\n",
    "print(f\"a: {a.shape}\")\n",
    "print(f\"b: {b.shape}\")\n",
    "a + b"
   ]
  },
  {
   "cell_type": "code",
   "execution_count": 40,
   "id": "92581e31",
   "metadata": {
    "execution": {
     "iopub.execute_input": "2021-05-20T22:29:15.287162Z",
     "iopub.status.busy": "2021-05-20T22:29:15.285626Z",
     "iopub.status.idle": "2021-05-20T22:29:15.289891Z",
     "shell.execute_reply": "2021-05-20T22:29:15.288532Z"
    }
   },
   "outputs": [
    {
     "name": "stdout",
     "output_type": "stream",
     "text": [
      "a: (2, 4)\n",
      "b: (2, 1)\n"
     ]
    },
    {
     "data": {
      "text/plain": [
       "array([[ 7,  4,  3, 10],\n",
       "       [27,  5, 18, 10]])"
      ]
     },
     "execution_count": 1,
     "metadata": {},
     "output_type": "execute_result"
    }
   ],
   "source": [
    "# Armamos un array que tenga la misma cantidad de filas que a\n",
    "b = np.array([[2], [1]])\n",
    "print(f\"a: {a.shape}\")\n",
    "print(f\"b: {b.shape}\")\n",
    "a + b"
   ]
  },
  {
   "cell_type": "code",
   "execution_count": 41,
   "id": "ce66eea3",
   "metadata": {
    "execution": {
     "iopub.execute_input": "2021-05-20T22:29:15.295263Z",
     "iopub.status.busy": "2021-05-20T22:29:15.294051Z",
     "iopub.status.idle": "2021-05-20T22:29:15.297857Z",
     "shell.execute_reply": "2021-05-20T22:29:15.297350Z"
    }
   },
   "outputs": [
    {
     "data": {
      "text/plain": [
       "array([[ 9,  6,  5, 12],\n",
       "       [30,  8, 21, 13]])"
      ]
     },
     "execution_count": 1,
     "metadata": {},
     "output_type": "execute_result"
    }
   ],
   "source": [
    "# Si b es un entero\n",
    "b = 4\n",
    "a + b"
   ]
  },
  {
   "cell_type": "code",
   "execution_count": null,
   "id": "53ee1428",
   "metadata": {},
   "outputs": [],
   "source": []
  }
 ],
 "metadata": {
  "jupytext": {
   "encoding": "# -*- coding: utf-8 -*-",
   "formats": "ipynb,py:light"
  },
  "kernelspec": {
   "display_name": "Python 3",
   "language": "python",
   "name": "python3"
  },
  "language_info": {
   "codemirror_mode": {
    "name": "ipython",
    "version": 3
   },
   "file_extension": ".py",
   "mimetype": "text/x-python",
   "name": "python",
   "nbconvert_exporter": "python",
   "pygments_lexer": "ipython3",
   "version": "3.7.10"
  }
 },
 "nbformat": 4,
 "nbformat_minor": 5
}
