{
 "cells": [
  {
   "cell_type": "markdown",
   "id": "described-trading",
   "metadata": {},
   "source": [
    "## Clase 1 - Introducción a Numpy\n",
    "\n",
    "Numpy es una biblioteca para Python que facilita el manejo de arreglos multidimensionales y ofrece varias herramientas para trabajar con ellos. Muchas de las bibliotecas de Python que son ampliamente usadas hoy en día, como pandas, están construidas sobre numpy.\n",
    "\n",
    "### Listas de Python vs arreglos de Numpy\n",
    "\n",
    "A primera vista, un arreglo de numpy puede resultar idéntico a una lista de python, pero a medida que la cantidad de datos comienza a incrementar, los arreglos de numpy terminan ofreciendo un manejo más eficiente de la memoria.\n",
    "\n",
    "Para comenzar, vamos a crear un arreglo de numpy:"
   ]
  },
  {
   "cell_type": "code",
   "execution_count": 1,
   "id": "departmental-spread",
   "metadata": {
    "execution": {
     "iopub.execute_input": "2021-02-04T20:28:55.235723Z",
     "iopub.status.busy": "2021-02-04T20:28:55.235074Z",
     "iopub.status.idle": "2021-02-04T20:28:55.473085Z",
     "shell.execute_reply": "2021-02-04T20:28:55.472164Z"
    }
   },
   "outputs": [
    {
     "data": {
      "text/plain": [
       "array([1, 2, 3, 4])"
      ]
     },
     "execution_count": 1,
     "metadata": {},
     "output_type": "execute_result"
    }
   ],
   "source": [
    "import numpy as np\n",
    "\n",
    "np.array([1, 2, 3, 4])"
   ]
  },
  {
   "cell_type": "markdown",
   "id": "dying-music",
   "metadata": {},
   "source": [
    "Los arreglos pueden ser también multidimensionales:"
   ]
  },
  {
   "cell_type": "code",
   "execution_count": 2,
   "id": "monthly-tradition",
   "metadata": {
    "execution": {
     "iopub.execute_input": "2021-02-04T20:28:55.479117Z",
     "iopub.status.busy": "2021-02-04T20:28:55.477949Z",
     "iopub.status.idle": "2021-02-04T20:28:55.481244Z",
     "shell.execute_reply": "2021-02-04T20:28:55.481696Z"
    }
   },
   "outputs": [
    {
     "data": {
      "text/plain": [
       "array([[1, 2, 3, 4],\n",
       "       [5, 6, 7, 8]])"
      ]
     },
     "execution_count": 1,
     "metadata": {},
     "output_type": "execute_result"
    }
   ],
   "source": [
    "np.array([[1, 2, 3, 4], [5, 6, 7, 8]])"
   ]
  },
  {
   "cell_type": "markdown",
   "id": "sunrise-spell",
   "metadata": {},
   "source": [
    "Es importante tener en cuenta que un arreglo de numpy tiene un tipo fijo de datos, entonces si se quiere agregar un dato de un tipo diferente al de la mayoría, este va a ser modificado para adaptarse al resto"
   ]
  },
  {
   "cell_type": "code",
   "execution_count": 3,
   "id": "vocational-portsmouth",
   "metadata": {
    "execution": {
     "iopub.execute_input": "2021-02-04T20:28:55.486437Z",
     "iopub.status.busy": "2021-02-04T20:28:55.485226Z",
     "iopub.status.idle": "2021-02-04T20:28:55.487099Z",
     "shell.execute_reply": "2021-02-04T20:28:55.487547Z"
    }
   },
   "outputs": [],
   "source": [
    "enteros = np.array([1, 2, 3, 4])"
   ]
  },
  {
   "cell_type": "markdown",
   "id": "sunset-redhead",
   "metadata": {},
   "source": [
    "Agrego un elemento de tipo flotante en la posición 1"
   ]
  },
  {
   "cell_type": "code",
   "execution_count": 4,
   "id": "indirect-rescue",
   "metadata": {
    "execution": {
     "iopub.execute_input": "2021-02-04T20:28:55.492629Z",
     "iopub.status.busy": "2021-02-04T20:28:55.491829Z",
     "iopub.status.idle": "2021-02-04T20:28:55.494427Z",
     "shell.execute_reply": "2021-02-04T20:28:55.494900Z"
    }
   },
   "outputs": [
    {
     "data": {
      "text/plain": [
       "array([1, 8, 3, 4])"
      ]
     },
     "execution_count": 1,
     "metadata": {},
     "output_type": "execute_result"
    }
   ],
   "source": [
    "enteros[1] = 8.4727\n",
    "enteros"
   ]
  },
  {
   "cell_type": "markdown",
   "id": "statutory-worst",
   "metadata": {},
   "source": [
    "Numpy también nos permite crear arreglos con valores aleatorios del 0 al 1.\n",
    "Basta con pasarle las dimensiones del arreglo que queremos crear."
   ]
  },
  {
   "cell_type": "code",
   "execution_count": 5,
   "id": "wanted-virtue",
   "metadata": {
    "execution": {
     "iopub.execute_input": "2021-02-04T20:28:55.499822Z",
     "iopub.status.busy": "2021-02-04T20:28:55.499256Z",
     "iopub.status.idle": "2021-02-04T20:28:55.501915Z",
     "shell.execute_reply": "2021-02-04T20:28:55.502377Z"
    }
   },
   "outputs": [
    {
     "data": {
      "text/plain": [
       "array([[0.03471827, 0.1948746 , 0.85873728],\n",
       "       [0.64782523, 0.68510884, 0.3508654 ]])"
      ]
     },
     "execution_count": 1,
     "metadata": {},
     "output_type": "execute_result"
    }
   ],
   "source": [
    "np.random.rand(2, 3)"
   ]
  },
  {
   "cell_type": "markdown",
   "id": "treated-shanghai",
   "metadata": {},
   "source": [
    "## Slicing\n",
    "\n",
    "De la misma forma que con las listas de python, pueden obtenerse slices de los arreglos de numpy"
   ]
  },
  {
   "cell_type": "code",
   "execution_count": 6,
   "id": "authentic-apparatus",
   "metadata": {
    "execution": {
     "iopub.execute_input": "2021-02-04T20:28:55.507197Z",
     "iopub.status.busy": "2021-02-04T20:28:55.506369Z",
     "iopub.status.idle": "2021-02-04T20:28:55.508988Z",
     "shell.execute_reply": "2021-02-04T20:28:55.509434Z"
    },
    "lines_to_next_cell": 2
   },
   "outputs": [
    {
     "data": {
      "text/plain": [
       "array([1, 8])"
      ]
     },
     "execution_count": 1,
     "metadata": {},
     "output_type": "execute_result"
    }
   ],
   "source": [
    "enteros[:2]"
   ]
  },
  {
   "cell_type": "code",
   "execution_count": 7,
   "id": "noticed-fourth",
   "metadata": {
    "execution": {
     "iopub.execute_input": "2021-02-04T20:28:55.515619Z",
     "iopub.status.busy": "2021-02-04T20:28:55.515018Z",
     "iopub.status.idle": "2021-02-04T20:28:55.517052Z",
     "shell.execute_reply": "2021-02-04T20:28:55.517498Z"
    }
   },
   "outputs": [
    {
     "name": "stdout",
     "output_type": "stream",
     "text": [
      "Original: \n",
      "[[ 1  2  3  4]\n",
      " [ 5  6  7  8]\n",
      " [ 9 10 11 12]]\n",
      "\n",
      "Recortada: \n",
      "[[1 2 3]\n",
      " [5 6 7]]\n"
     ]
    }
   ],
   "source": [
    "matriz_de_enteros = np.array([[1, 2, 3, 4], [5, 6, 7, 8], [9, 10, 11, 12]])\n",
    "\n",
    "print('Original: ')\n",
    "print(matriz_de_enteros)\n",
    "\n",
    "print()\n",
    "\n",
    "print('Recortada: ')\n",
    "print(matriz_de_enteros[:2, :3])"
   ]
  },
  {
   "cell_type": "code",
   "execution_count": 8,
   "id": "dirty-deposit",
   "metadata": {
    "execution": {
     "iopub.execute_input": "2021-02-04T20:28:55.521651Z",
     "iopub.status.busy": "2021-02-04T20:28:55.521091Z",
     "iopub.status.idle": "2021-02-04T20:28:55.524046Z",
     "shell.execute_reply": "2021-02-04T20:28:55.523554Z"
    }
   },
   "outputs": [
    {
     "data": {
      "text/plain": [
       "array([[[ 0,  1,  2,  3,  4],\n",
       "        [ 5,  6,  7,  8,  9],\n",
       "        [10, 11, 12, 13, 14]],\n",
       "\n",
       "       [[15, 16, 17, 18, 19],\n",
       "        [20, 21, 22, 23, 24],\n",
       "        [25, 26, 27, 28, 29]],\n",
       "\n",
       "       [[30, 31, 32, 33, 34],\n",
       "        [35, 36, 37, 38, 39],\n",
       "        [40, 41, 42, 43, 44]]])"
      ]
     },
     "execution_count": 1,
     "metadata": {},
     "output_type": "execute_result"
    }
   ],
   "source": [
    "# 3D\n",
    "x = np.arange(45).reshape(3, 3, 5)\n",
    "x"
   ]
  },
  {
   "cell_type": "code",
   "execution_count": 9,
   "id": "urban-greenhouse",
   "metadata": {
    "execution": {
     "iopub.execute_input": "2021-02-04T20:28:55.528766Z",
     "iopub.status.busy": "2021-02-04T20:28:55.527966Z",
     "iopub.status.idle": "2021-02-04T20:28:55.530213Z",
     "shell.execute_reply": "2021-02-04T20:28:55.530681Z"
    }
   },
   "outputs": [
    {
     "data": {
      "text/plain": [
       "array([[ 0,  1,  2,  3,  4],\n",
       "       [ 5,  6,  7,  8,  9],\n",
       "       [10, 11, 12, 13, 14]])"
      ]
     },
     "execution_count": 1,
     "metadata": {},
     "output_type": "execute_result"
    }
   ],
   "source": [
    "x[0]"
   ]
  },
  {
   "cell_type": "markdown",
   "id": "verified-particular",
   "metadata": {},
   "source": [
    "\n",
    "¿Cómo conseguimos estos valores? ([fuente](https://towardsdatascience.com/indexing-and-slicing-of-1d-2d-and-3d-arrays-in-numpy-e731afff0bbe))\n",
    "\n",
    "![title](img/matrix.png)"
   ]
  },
  {
   "cell_type": "code",
   "execution_count": 10,
   "id": "removed-transmission",
   "metadata": {
    "execution": {
     "iopub.execute_input": "2021-02-04T20:28:55.534689Z",
     "iopub.status.busy": "2021-02-04T20:28:55.534115Z",
     "iopub.status.idle": "2021-02-04T20:28:55.536455Z",
     "shell.execute_reply": "2021-02-04T20:28:55.536910Z"
    }
   },
   "outputs": [
    {
     "data": {
      "text/plain": [
       "array([[[16, 17, 18],\n",
       "        [21, 22, 23]],\n",
       "\n",
       "       [[31, 32, 33],\n",
       "        [36, 37, 38]]])"
      ]
     },
     "execution_count": 1,
     "metadata": {},
     "output_type": "execute_result"
    }
   ],
   "source": [
    "x[1:, 0:2, 1:4]"
   ]
  },
  {
   "cell_type": "markdown",
   "id": "monetary-ranking",
   "metadata": {},
   "source": [
    "### Copia de arreglos"
   ]
  },
  {
   "cell_type": "code",
   "execution_count": 11,
   "id": "supreme-plaza",
   "metadata": {
    "execution": {
     "iopub.execute_input": "2021-02-04T20:28:55.541013Z",
     "iopub.status.busy": "2021-02-04T20:28:55.540463Z",
     "iopub.status.idle": "2021-02-04T20:28:55.543733Z",
     "shell.execute_reply": "2021-02-04T20:28:55.543246Z"
    }
   },
   "outputs": [
    {
     "data": {
      "text/plain": [
       "array([1, 2, 3, 4])"
      ]
     },
     "execution_count": 1,
     "metadata": {},
     "output_type": "execute_result"
    }
   ],
   "source": [
    "# Los arreglos no se copian con asignación\n",
    "\n",
    "a = np.array([1, 2, 3, 4])\n",
    "b = a\n",
    "b"
   ]
  },
  {
   "cell_type": "code",
   "execution_count": 12,
   "id": "convertible-robin",
   "metadata": {
    "execution": {
     "iopub.execute_input": "2021-02-04T20:28:55.548391Z",
     "iopub.status.busy": "2021-02-04T20:28:55.547825Z",
     "iopub.status.idle": "2021-02-04T20:28:55.549750Z",
     "shell.execute_reply": "2021-02-04T20:28:55.550198Z"
    }
   },
   "outputs": [
    {
     "data": {
      "text/plain": [
       "array([ 1, 20,  3,  4])"
      ]
     },
     "execution_count": 1,
     "metadata": {},
     "output_type": "execute_result"
    }
   ],
   "source": [
    "b[1] = 20\n",
    "b"
   ]
  },
  {
   "cell_type": "code",
   "execution_count": 13,
   "id": "manual-effect",
   "metadata": {
    "execution": {
     "iopub.execute_input": "2021-02-04T20:28:55.553802Z",
     "iopub.status.busy": "2021-02-04T20:28:55.553256Z",
     "iopub.status.idle": "2021-02-04T20:28:55.556205Z",
     "shell.execute_reply": "2021-02-04T20:28:55.555723Z"
    }
   },
   "outputs": [
    {
     "data": {
      "text/plain": [
       "array([ 1, 20,  3,  4])"
      ]
     },
     "execution_count": 1,
     "metadata": {},
     "output_type": "execute_result"
    }
   ],
   "source": [
    "a"
   ]
  },
  {
   "cell_type": "code",
   "execution_count": 14,
   "id": "foster-giant",
   "metadata": {
    "execution": {
     "iopub.execute_input": "2021-02-04T20:28:55.560458Z",
     "iopub.status.busy": "2021-02-04T20:28:55.559913Z",
     "iopub.status.idle": "2021-02-04T20:28:55.562903Z",
     "shell.execute_reply": "2021-02-04T20:28:55.562395Z"
    }
   },
   "outputs": [
    {
     "data": {
      "text/plain": [
       "array([ 1, 20,  3,  4])"
      ]
     },
     "execution_count": 1,
     "metadata": {},
     "output_type": "execute_result"
    }
   ],
   "source": [
    "# Para copiar un arreglo a otra variable debemos usar copy()\n",
    "\n",
    "a = np.array([1, 2, 3, 4])\n",
    "b = a.copy()\n",
    "b[1] = 20\n",
    "b"
   ]
  },
  {
   "cell_type": "code",
   "execution_count": 15,
   "id": "unknown-ocean",
   "metadata": {
    "execution": {
     "iopub.execute_input": "2021-02-04T20:28:55.566678Z",
     "iopub.status.busy": "2021-02-04T20:28:55.566109Z",
     "iopub.status.idle": "2021-02-04T20:28:55.568339Z",
     "shell.execute_reply": "2021-02-04T20:28:55.568794Z"
    }
   },
   "outputs": [
    {
     "data": {
      "text/plain": [
       "array([1, 2, 3, 4])"
      ]
     },
     "execution_count": 1,
     "metadata": {},
     "output_type": "execute_result"
    }
   ],
   "source": [
    "a"
   ]
  },
  {
   "cell_type": "markdown",
   "id": "interior-glass",
   "metadata": {},
   "source": [
    "### Modificación de dimensiones"
   ]
  },
  {
   "cell_type": "markdown",
   "id": "filled-hamburg",
   "metadata": {},
   "source": [
    "Existen varias operaciones para cambiar la forma de un arreglo de numpy"
   ]
  },
  {
   "cell_type": "code",
   "execution_count": 16,
   "id": "employed-thumb",
   "metadata": {
    "execution": {
     "iopub.execute_input": "2021-02-04T20:28:55.572455Z",
     "iopub.status.busy": "2021-02-04T20:28:55.571900Z",
     "iopub.status.idle": "2021-02-04T20:28:55.576702Z",
     "shell.execute_reply": "2021-02-04T20:28:55.576219Z"
    }
   },
   "outputs": [
    {
     "data": {
      "text/plain": [
       "2"
      ]
     },
     "execution_count": 1,
     "metadata": {},
     "output_type": "execute_result"
    }
   ],
   "source": [
    "# Obtener las dimensiones del arreglo\n",
    "\n",
    "matriz_de_enteros.ndim"
   ]
  },
  {
   "cell_type": "code",
   "execution_count": 17,
   "id": "spiritual-router",
   "metadata": {
    "execution": {
     "iopub.execute_input": "2021-02-04T20:28:55.581001Z",
     "iopub.status.busy": "2021-02-04T20:28:55.580407Z",
     "iopub.status.idle": "2021-02-04T20:28:55.582743Z",
     "shell.execute_reply": "2021-02-04T20:28:55.583208Z"
    }
   },
   "outputs": [
    {
     "data": {
      "text/plain": [
       "(3, 4)"
      ]
     },
     "execution_count": 1,
     "metadata": {},
     "output_type": "execute_result"
    }
   ],
   "source": [
    "# Obtener la forma del arreglo\n",
    "\n",
    "matriz_de_enteros.shape"
   ]
  },
  {
   "cell_type": "code",
   "execution_count": 18,
   "id": "several-thesaurus",
   "metadata": {
    "execution": {
     "iopub.execute_input": "2021-02-04T20:28:55.587347Z",
     "iopub.status.busy": "2021-02-04T20:28:55.586798Z",
     "iopub.status.idle": "2021-02-04T20:28:55.590178Z",
     "shell.execute_reply": "2021-02-04T20:28:55.589696Z"
    }
   },
   "outputs": [
    {
     "data": {
      "text/plain": [
       "array([[ 3,  6],\n",
       "       [ 9, 12]])"
      ]
     },
     "execution_count": 1,
     "metadata": {},
     "output_type": "execute_result"
    }
   ],
   "source": [
    "# Modificar la forma de un arreglo\n",
    "\n",
    "enteros = np.array([3, 6, 9, 12])\n",
    "np.reshape(enteros, (2, 2))"
   ]
  },
  {
   "cell_type": "code",
   "execution_count": 19,
   "id": "egyptian-image",
   "metadata": {
    "execution": {
     "iopub.execute_input": "2021-02-04T20:28:55.594701Z",
     "iopub.status.busy": "2021-02-04T20:28:55.594109Z",
     "iopub.status.idle": "2021-02-04T20:28:55.596085Z",
     "shell.execute_reply": "2021-02-04T20:28:55.596530Z"
    }
   },
   "outputs": [
    {
     "data": {
      "text/plain": [
       "array([[1., 1.],\n",
       "       [1., 1.]])"
      ]
     },
     "execution_count": 1,
     "metadata": {},
     "output_type": "execute_result"
    }
   ],
   "source": [
    "# Aplanar un arreglo\n",
    "\n",
    "a = np.ones((2, 2))\n",
    "a"
   ]
  },
  {
   "cell_type": "code",
   "execution_count": 20,
   "id": "objective-government",
   "metadata": {
    "execution": {
     "iopub.execute_input": "2021-02-04T20:28:55.601063Z",
     "iopub.status.busy": "2021-02-04T20:28:55.600498Z",
     "iopub.status.idle": "2021-02-04T20:28:55.602456Z",
     "shell.execute_reply": "2021-02-04T20:28:55.602934Z"
    }
   },
   "outputs": [
    {
     "data": {
      "text/plain": [
       "array([1., 1., 1., 1.])"
      ]
     },
     "execution_count": 1,
     "metadata": {},
     "output_type": "execute_result"
    }
   ],
   "source": [
    "a.flatten()"
   ]
  },
  {
   "cell_type": "code",
   "execution_count": 21,
   "id": "infinite-walter",
   "metadata": {
    "execution": {
     "iopub.execute_input": "2021-02-04T20:28:55.606729Z",
     "iopub.status.busy": "2021-02-04T20:28:55.606161Z",
     "iopub.status.idle": "2021-02-04T20:28:55.608637Z",
     "shell.execute_reply": "2021-02-04T20:28:55.609089Z"
    },
    "lines_to_next_cell": 2
   },
   "outputs": [
    {
     "data": {
      "text/plain": [
       "array([[1., 1.],\n",
       "       [1., 1.]])"
      ]
     },
     "execution_count": 1,
     "metadata": {},
     "output_type": "execute_result"
    }
   ],
   "source": [
    "a"
   ]
  },
  {
   "cell_type": "markdown",
   "id": "toxic-karma",
   "metadata": {},
   "source": [
    "### Combinación de arreglos (Stacking)"
   ]
  },
  {
   "cell_type": "code",
   "execution_count": 22,
   "id": "expected-amber",
   "metadata": {
    "execution": {
     "iopub.execute_input": "2021-02-04T20:28:55.612997Z",
     "iopub.status.busy": "2021-02-04T20:28:55.612452Z",
     "iopub.status.idle": "2021-02-04T20:28:55.615037Z",
     "shell.execute_reply": "2021-02-04T20:28:55.615510Z"
    }
   },
   "outputs": [
    {
     "data": {
      "text/plain": [
       "array([0, 1, 2, 3, 4])"
      ]
     },
     "execution_count": 1,
     "metadata": {},
     "output_type": "execute_result"
    }
   ],
   "source": [
    "# Los arreglos se pueden combinar verticalmente (se incrementa la cantidad de filas)\n",
    "\n",
    "a = np.arange(0, 5)\n",
    "a"
   ]
  },
  {
   "cell_type": "code",
   "execution_count": 23,
   "id": "expected-religious",
   "metadata": {
    "execution": {
     "iopub.execute_input": "2021-02-04T20:28:55.620031Z",
     "iopub.status.busy": "2021-02-04T20:28:55.619456Z",
     "iopub.status.idle": "2021-02-04T20:28:55.621434Z",
     "shell.execute_reply": "2021-02-04T20:28:55.621882Z"
    }
   },
   "outputs": [
    {
     "data": {
      "text/plain": [
       "array([5, 6, 7, 8, 9])"
      ]
     },
     "execution_count": 1,
     "metadata": {},
     "output_type": "execute_result"
    }
   ],
   "source": [
    "b = np.arange(5, 10)\n",
    "b"
   ]
  },
  {
   "cell_type": "code",
   "execution_count": 24,
   "id": "approved-therapy",
   "metadata": {
    "execution": {
     "iopub.execute_input": "2021-02-04T20:28:55.625790Z",
     "iopub.status.busy": "2021-02-04T20:28:55.625241Z",
     "iopub.status.idle": "2021-02-04T20:28:55.627755Z",
     "shell.execute_reply": "2021-02-04T20:28:55.628209Z"
    }
   },
   "outputs": [
    {
     "data": {
      "text/plain": [
       "array([[0, 1, 2, 3, 4],\n",
       "       [5, 6, 7, 8, 9]])"
      ]
     },
     "execution_count": 1,
     "metadata": {},
     "output_type": "execute_result"
    }
   ],
   "source": [
    "combinados_verticalmente = np.vstack((a, b))\n",
    "combinados_verticalmente"
   ]
  },
  {
   "cell_type": "code",
   "execution_count": 25,
   "id": "dramatic-tucson",
   "metadata": {
    "execution": {
     "iopub.execute_input": "2021-02-04T20:28:55.632992Z",
     "iopub.status.busy": "2021-02-04T20:28:55.632411Z",
     "iopub.status.idle": "2021-02-04T20:28:55.634609Z",
     "shell.execute_reply": "2021-02-04T20:28:55.635106Z"
    }
   },
   "outputs": [
    {
     "data": {
      "text/plain": [
       "array([0, 1, 2, 3, 4, 5, 6, 7, 8, 9])"
      ]
     },
     "execution_count": 1,
     "metadata": {},
     "output_type": "execute_result"
    }
   ],
   "source": [
    "# También se pueden combinar horizontalmente (se incrementa la cantidad de columnas)\n",
    "\n",
    "combinados_horizontalmente = np.hstack((a, b))\n",
    "combinados_horizontalmente"
   ]
  },
  {
   "cell_type": "markdown",
   "id": "specified-general",
   "metadata": {},
   "source": [
    "### Operaciones matemáticas"
   ]
  },
  {
   "cell_type": "code",
   "execution_count": 26,
   "id": "interstate-reach",
   "metadata": {
    "execution": {
     "iopub.execute_input": "2021-02-04T20:28:55.639176Z",
     "iopub.status.busy": "2021-02-04T20:28:55.638600Z",
     "iopub.status.idle": "2021-02-04T20:28:55.641570Z",
     "shell.execute_reply": "2021-02-04T20:28:55.641085Z"
    }
   },
   "outputs": [
    {
     "data": {
      "text/plain": [
       "array([3, 4, 5, 6])"
      ]
     },
     "execution_count": 1,
     "metadata": {},
     "output_type": "execute_result"
    }
   ],
   "source": [
    "a = np.array([1, 2, 3, 4])\n",
    "\n",
    "a + 2"
   ]
  },
  {
   "cell_type": "code",
   "execution_count": 27,
   "id": "heated-launch",
   "metadata": {
    "execution": {
     "iopub.execute_input": "2021-02-04T20:28:55.645247Z",
     "iopub.status.busy": "2021-02-04T20:28:55.644702Z",
     "iopub.status.idle": "2021-02-04T20:28:55.647202Z",
     "shell.execute_reply": "2021-02-04T20:28:55.647625Z"
    }
   },
   "outputs": [
    {
     "data": {
      "text/plain": [
       "array([ 1,  4,  9, 16])"
      ]
     },
     "execution_count": 1,
     "metadata": {},
     "output_type": "execute_result"
    }
   ],
   "source": [
    "a ** 2"
   ]
  },
  {
   "cell_type": "code",
   "execution_count": 28,
   "id": "informative-notification",
   "metadata": {
    "execution": {
     "iopub.execute_input": "2021-02-04T20:28:55.651710Z",
     "iopub.status.busy": "2021-02-04T20:28:55.651170Z",
     "iopub.status.idle": "2021-02-04T20:28:55.654104Z",
     "shell.execute_reply": "2021-02-04T20:28:55.653623Z"
    }
   },
   "outputs": [
    {
     "data": {
      "text/plain": [
       "array([2., 3., 4., 5.])"
      ]
     },
     "execution_count": 1,
     "metadata": {},
     "output_type": "execute_result"
    }
   ],
   "source": [
    "b = np.ones(4)\n",
    "a + b"
   ]
  },
  {
   "cell_type": "markdown",
   "id": "important-singles",
   "metadata": {},
   "source": [
    "### Estadística"
   ]
  },
  {
   "cell_type": "code",
   "execution_count": 29,
   "id": "better-classics",
   "metadata": {
    "execution": {
     "iopub.execute_input": "2021-02-04T20:28:55.658351Z",
     "iopub.status.busy": "2021-02-04T20:28:55.657808Z",
     "iopub.status.idle": "2021-02-04T20:28:55.660744Z",
     "shell.execute_reply": "2021-02-04T20:28:55.660258Z"
    }
   },
   "outputs": [
    {
     "data": {
      "text/plain": [
       "1"
      ]
     },
     "execution_count": 1,
     "metadata": {},
     "output_type": "execute_result"
    }
   ],
   "source": [
    "a = np.array([[5, 2, 1, 8], [26, 4, 17, 9]])\n",
    "\n",
    "np.min(a)"
   ]
  },
  {
   "cell_type": "code",
   "execution_count": 30,
   "id": "prompt-victorian",
   "metadata": {
    "execution": {
     "iopub.execute_input": "2021-02-04T20:28:55.664468Z",
     "iopub.status.busy": "2021-02-04T20:28:55.663924Z",
     "iopub.status.idle": "2021-02-04T20:28:55.667082Z",
     "shell.execute_reply": "2021-02-04T20:28:55.666566Z"
    }
   },
   "outputs": [
    {
     "data": {
      "text/plain": [
       "26"
      ]
     },
     "execution_count": 1,
     "metadata": {},
     "output_type": "execute_result"
    }
   ],
   "source": [
    "np.max(a)"
   ]
  },
  {
   "cell_type": "code",
   "execution_count": 31,
   "id": "intelligent-battery",
   "metadata": {
    "execution": {
     "iopub.execute_input": "2021-02-04T20:28:55.670841Z",
     "iopub.status.busy": "2021-02-04T20:28:55.670263Z",
     "iopub.status.idle": "2021-02-04T20:28:55.673205Z",
     "shell.execute_reply": "2021-02-04T20:28:55.672721Z"
    }
   },
   "outputs": [
    {
     "data": {
      "text/plain": [
       "72"
      ]
     },
     "execution_count": 1,
     "metadata": {},
     "output_type": "execute_result"
    }
   ],
   "source": [
    "np.sum(a)"
   ]
  },
  {
   "cell_type": "markdown",
   "id": "aggregate-injection",
   "metadata": {},
   "source": [
    "### Más magia"
   ]
  },
  {
   "cell_type": "code",
   "execution_count": 32,
   "id": "chubby-trace",
   "metadata": {
    "execution": {
     "iopub.execute_input": "2021-02-04T20:28:55.677669Z",
     "iopub.status.busy": "2021-02-04T20:28:55.677124Z",
     "iopub.status.idle": "2021-02-04T20:28:55.680043Z",
     "shell.execute_reply": "2021-02-04T20:28:55.679477Z"
    }
   },
   "outputs": [
    {
     "data": {
      "text/plain": [
       "array([[False, False, False,  True],\n",
       "       [ True, False,  True,  True]])"
      ]
     },
     "execution_count": 1,
     "metadata": {},
     "output_type": "execute_result"
    }
   ],
   "source": [
    "a = np.array([[5, 2, 1, 8], [26, 4, 17, 9]])\n",
    "\n",
    "a > 5"
   ]
  },
  {
   "cell_type": "code",
   "execution_count": 33,
   "id": "steady-massage",
   "metadata": {
    "execution": {
     "iopub.execute_input": "2021-02-04T20:28:55.683924Z",
     "iopub.status.busy": "2021-02-04T20:28:55.683380Z",
     "iopub.status.idle": "2021-02-04T20:28:55.685855Z",
     "shell.execute_reply": "2021-02-04T20:28:55.686312Z"
    }
   },
   "outputs": [
    {
     "data": {
      "text/plain": [
       "array([ 8, 26, 17,  9])"
      ]
     },
     "execution_count": 1,
     "metadata": {},
     "output_type": "execute_result"
    }
   ],
   "source": [
    "a[a > 5]"
   ]
  },
  {
   "cell_type": "markdown",
   "id": "previous-hacker",
   "metadata": {},
   "source": [
    "### Broadcasting"
   ]
  },
  {
   "cell_type": "markdown",
   "id": "optical-tomato",
   "metadata": {},
   "source": [
    "Permite realizar operaciones entre dos numpy arrays de distintas dimensiones.\n",
    "Para lograr esto, las dimensiones de los mismos deben ser compatibles. Dos dimensiones son compatibles cuando:\n",
    "1. Son iguales\n",
    "2. Alguna de las dos es 1"
   ]
  },
  {
   "cell_type": "code",
   "execution_count": 34,
   "id": "biblical-semiconductor",
   "metadata": {
    "execution": {
     "iopub.execute_input": "2021-02-04T20:28:55.690398Z",
     "iopub.status.busy": "2021-02-04T20:28:55.689843Z",
     "iopub.status.idle": "2021-02-04T20:28:55.693163Z",
     "shell.execute_reply": "2021-02-04T20:28:55.692676Z"
    }
   },
   "outputs": [
    {
     "data": {
      "text/plain": [
       "array([[ 5,  2,  1,  8],\n",
       "       [26,  4, 17,  9]])"
      ]
     },
     "execution_count": 1,
     "metadata": {},
     "output_type": "execute_result"
    }
   ],
   "source": [
    "a = np.array([[5, 2, 1, 8], [26, 4, 17, 9]])\n",
    "a"
   ]
  },
  {
   "cell_type": "code",
   "execution_count": 35,
   "id": "individual-fusion",
   "metadata": {
    "execution": {
     "iopub.execute_input": "2021-02-04T20:28:55.697752Z",
     "iopub.status.busy": "2021-02-04T20:28:55.697194Z",
     "iopub.status.idle": "2021-02-04T20:28:55.699855Z",
     "shell.execute_reply": "2021-02-04T20:28:55.700332Z"
    }
   },
   "outputs": [
    {
     "name": "stdout",
     "output_type": "stream",
     "text": [
      "a: (2, 4)\n",
      "b: (4,)\n"
     ]
    },
    {
     "data": {
      "text/plain": [
       "array([[10,  4,  2, 16],\n",
       "       [31,  6, 18, 17]])"
      ]
     },
     "execution_count": 1,
     "metadata": {},
     "output_type": "execute_result"
    }
   ],
   "source": [
    "# Armamos un array que tenga la misma cantidad de columnas que a\n",
    "b = np.array([5, 2, 1, 8])\n",
    "print(f\"a: {a.shape}\")\n",
    "print(f\"b: {b.shape}\")\n",
    "a + b"
   ]
  },
  {
   "cell_type": "code",
   "execution_count": 36,
   "id": "juvenile-teacher",
   "metadata": {
    "execution": {
     "iopub.execute_input": "2021-02-04T20:28:55.704551Z",
     "iopub.status.busy": "2021-02-04T20:28:55.704002Z",
     "iopub.status.idle": "2021-02-04T20:28:55.771563Z",
     "shell.execute_reply": "2021-02-04T20:28:55.772050Z"
    },
    "tags": [
     "raises-exception"
    ]
   },
   "outputs": [
    {
     "name": "stdout",
     "output_type": "stream",
     "text": [
      "a: (2, 4)\n",
      "b: (3,)\n"
     ]
    },
    {
     "ename": "ValueError",
     "evalue": "operands could not be broadcast together with shapes (2,4) (3,) ",
     "output_type": "error",
     "traceback": [
      "\u001b[0;31m---------------------------------------------------------------------------\u001b[0m",
      "\u001b[0;31mValueError\u001b[0m                                Traceback (most recent call last)",
      "\u001b[0;32m<ipython-input-1-fe11b6ae6346>\u001b[0m in \u001b[0;36m<module>\u001b[0;34m\u001b[0m\n\u001b[1;32m      3\u001b[0m \u001b[0mprint\u001b[0m\u001b[0;34m(\u001b[0m\u001b[0;34mf\"a: {a.shape}\"\u001b[0m\u001b[0;34m)\u001b[0m\u001b[0;34m\u001b[0m\u001b[0;34m\u001b[0m\u001b[0m\n\u001b[1;32m      4\u001b[0m \u001b[0mprint\u001b[0m\u001b[0;34m(\u001b[0m\u001b[0;34mf\"b: {b.shape}\"\u001b[0m\u001b[0;34m)\u001b[0m\u001b[0;34m\u001b[0m\u001b[0;34m\u001b[0m\u001b[0m\n\u001b[0;32m----> 5\u001b[0;31m \u001b[0ma\u001b[0m \u001b[0;34m+\u001b[0m \u001b[0mb\u001b[0m\u001b[0;34m\u001b[0m\u001b[0;34m\u001b[0m\u001b[0m\n\u001b[0m",
      "\u001b[0;31mValueError\u001b[0m: operands could not be broadcast together with shapes (2,4) (3,) "
     ]
    }
   ],
   "source": [
    "# Armamos un array que tenga distinta cantidad de filas y columnas que a\n",
    "b = np.array([5, 1, 8])\n",
    "print(f\"a: {a.shape}\")\n",
    "print(f\"b: {b.shape}\")\n",
    "a + b"
   ]
  },
  {
   "cell_type": "code",
   "execution_count": 37,
   "id": "healthy-sleeve",
   "metadata": {
    "execution": {
     "iopub.execute_input": "2021-02-04T20:28:55.878501Z",
     "iopub.status.busy": "2021-02-04T20:28:55.877655Z",
     "iopub.status.idle": "2021-02-04T20:28:55.883541Z",
     "shell.execute_reply": "2021-02-04T20:28:55.883034Z"
    }
   },
   "outputs": [
    {
     "name": "stdout",
     "output_type": "stream",
     "text": [
      "a: (2, 4)\n",
      "b: (2, 1)\n"
     ]
    },
    {
     "data": {
      "text/plain": [
       "array([[ 7,  4,  3, 10],\n",
       "       [27,  5, 18, 10]])"
      ]
     },
     "execution_count": 1,
     "metadata": {},
     "output_type": "execute_result"
    }
   ],
   "source": [
    "# Armamos un array que tenga la misma cantidad de filas que a\n",
    "b = np.array([[2], [1]])\n",
    "print(f\"a: {a.shape}\")\n",
    "print(f\"b: {b.shape}\")\n",
    "a + b"
   ]
  },
  {
   "cell_type": "code",
   "execution_count": 38,
   "id": "romantic-algebra",
   "metadata": {
    "execution": {
     "iopub.execute_input": "2021-02-04T20:28:55.888658Z",
     "iopub.status.busy": "2021-02-04T20:28:55.888090Z",
     "iopub.status.idle": "2021-02-04T20:28:55.890798Z",
     "shell.execute_reply": "2021-02-04T20:28:55.891254Z"
    }
   },
   "outputs": [
    {
     "data": {
      "text/plain": [
       "array([[ 9,  6,  5, 12],\n",
       "       [30,  8, 21, 13]])"
      ]
     },
     "execution_count": 1,
     "metadata": {},
     "output_type": "execute_result"
    }
   ],
   "source": [
    "b = 4\n",
    "a + b"
   ]
  }
 ],
 "metadata": {
  "jupytext": {
   "encoding": "# -*- coding: utf-8 -*-",
   "formats": "ipynb,py:light"
  },
  "kernelspec": {
   "display_name": "Python 3 (venv)",
   "language": "python",
   "name": "python3"
  },
  "language_info": {
   "codemirror_mode": {
    "name": "ipython",
    "version": 3
   },
   "file_extension": ".py",
   "mimetype": "text/x-python",
   "name": "python",
   "nbconvert_exporter": "python",
   "pygments_lexer": "ipython3",
   "version": "3.7.9"
  }
 },
 "nbformat": 4,
 "nbformat_minor": 5
}
