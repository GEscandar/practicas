{
 "cells": [
  {
   "cell_type": "markdown",
   "id": "a0ec6993",
   "metadata": {},
   "source": [
    "## Clase 1 - Introducción a Numpy\n",
    "\n",
    "Numpy es una biblioteca para Python que facilita el manejo de arreglos multidimensionales y ofrece varias herramientas para trabajar con ellos. Muchas de las bibliotecas de Python que son ampliamente usadas hoy en día, como pandas, están construidas sobre numpy.\n",
    "\n",
    "### Listas de Python vs arreglos de Numpy\n",
    "\n",
    "A primera vista, un arreglo de numpy puede resultar idéntico a una lista de python, pero a medida que la cantidad de datos comienza a incrementar, los arreglos de numpy terminan ofreciendo un manejo más eficiente de la memoria.\n",
    "\n",
    "Para comenzar, vamos a crear un arreglo de numpy:"
   ]
  },
  {
   "cell_type": "code",
   "execution_count": 1,
   "id": "48620ccf",
   "metadata": {
    "execution": {
     "iopub.execute_input": "2021-04-20T20:12:00.930017Z",
     "iopub.status.busy": "2021-04-20T20:12:00.929310Z",
     "iopub.status.idle": "2021-04-20T20:12:01.136028Z",
     "shell.execute_reply": "2021-04-20T20:12:01.135033Z"
    }
   },
   "outputs": [
    {
     "data": {
      "text/plain": [
       "array([1, 2, 3, 4])"
      ]
     },
     "execution_count": 1,
     "metadata": {},
     "output_type": "execute_result"
    }
   ],
   "source": [
    "import numpy as np\n",
    "\n",
    "np.array([1, 2, 3, 4])"
   ]
  },
  {
   "cell_type": "markdown",
   "id": "6d1e4349",
   "metadata": {},
   "source": [
    "Los arreglos pueden ser también multidimensionales:"
   ]
  },
  {
   "cell_type": "code",
   "execution_count": 2,
   "id": "d9a65adc",
   "metadata": {
    "execution": {
     "iopub.execute_input": "2021-04-20T20:12:01.143588Z",
     "iopub.status.busy": "2021-04-20T20:12:01.142854Z",
     "iopub.status.idle": "2021-04-20T20:12:01.149035Z",
     "shell.execute_reply": "2021-04-20T20:12:01.148463Z"
    }
   },
   "outputs": [
    {
     "data": {
      "text/plain": [
       "array([[1, 2, 3, 4],\n",
       "       [5, 6, 7, 8]])"
      ]
     },
     "execution_count": 1,
     "metadata": {},
     "output_type": "execute_result"
    }
   ],
   "source": [
    "np.array([[1, 2, 3, 4], [5, 6, 7, 8]])"
   ]
  },
  {
   "cell_type": "markdown",
   "id": "56a43f76",
   "metadata": {},
   "source": [
    "Es importante tener en cuenta que un arreglo de numpy tiene un tipo fijo de datos, entonces si se quiere agregar un dato de un tipo diferente al de la mayoría, este va a ser modificado para adaptarse al resto"
   ]
  },
  {
   "cell_type": "code",
   "execution_count": 3,
   "id": "a5ad8770",
   "metadata": {
    "execution": {
     "iopub.execute_input": "2021-04-20T20:12:01.154028Z",
     "iopub.status.busy": "2021-04-20T20:12:01.153403Z",
     "iopub.status.idle": "2021-04-20T20:12:01.157407Z",
     "shell.execute_reply": "2021-04-20T20:12:01.156820Z"
    }
   },
   "outputs": [],
   "source": [
    "enteros = np.array([1, 2, 3, 4])"
   ]
  },
  {
   "cell_type": "markdown",
   "id": "8f14cf05",
   "metadata": {},
   "source": [
    "Agrego un elemento de tipo flotante en la posición 1"
   ]
  },
  {
   "cell_type": "code",
   "execution_count": 4,
   "id": "94984845",
   "metadata": {
    "execution": {
     "iopub.execute_input": "2021-04-20T20:12:01.162452Z",
     "iopub.status.busy": "2021-04-20T20:12:01.161846Z",
     "iopub.status.idle": "2021-04-20T20:12:01.166697Z",
     "shell.execute_reply": "2021-04-20T20:12:01.166128Z"
    }
   },
   "outputs": [
    {
     "data": {
      "text/plain": [
       "array([1, 8, 3, 4])"
      ]
     },
     "execution_count": 1,
     "metadata": {},
     "output_type": "execute_result"
    }
   ],
   "source": [
    "enteros[1] = 8.4727\n",
    "enteros"
   ]
  },
  {
   "cell_type": "markdown",
   "id": "ad4b31b6",
   "metadata": {},
   "source": [
    "Numpy también nos permite crear arreglos con valores aleatorios del 0 al 1.\n",
    "Basta con pasarle las dimensiones del arreglo que queremos crear."
   ]
  },
  {
   "cell_type": "code",
   "execution_count": 5,
   "id": "40e7ee40",
   "metadata": {
    "execution": {
     "iopub.execute_input": "2021-04-20T20:12:01.173326Z",
     "iopub.status.busy": "2021-04-20T20:12:01.172185Z",
     "iopub.status.idle": "2021-04-20T20:12:01.175972Z",
     "shell.execute_reply": "2021-04-20T20:12:01.175456Z"
    }
   },
   "outputs": [
    {
     "data": {
      "text/plain": [
       "array([[0.43272966, 0.07280853, 0.26364205],\n",
       "       [0.80720928, 0.14558925, 0.64632942]])"
      ]
     },
     "execution_count": 1,
     "metadata": {},
     "output_type": "execute_result"
    }
   ],
   "source": [
    "np.random.rand(2, 3)"
   ]
  },
  {
   "cell_type": "markdown",
   "id": "ba8f5bdf",
   "metadata": {},
   "source": [
    "## Slicing\n",
    "\n",
    "De la misma forma que con las listas de python, pueden obtenerse slices de los arreglos de numpy"
   ]
  },
  {
   "cell_type": "code",
   "execution_count": 6,
   "id": "dc1e68e8",
   "metadata": {
    "execution": {
     "iopub.execute_input": "2021-04-20T20:12:01.182197Z",
     "iopub.status.busy": "2021-04-20T20:12:01.181208Z",
     "iopub.status.idle": "2021-04-20T20:12:01.185576Z",
     "shell.execute_reply": "2021-04-20T20:12:01.185061Z"
    },
    "lines_to_next_cell": 2
   },
   "outputs": [
    {
     "data": {
      "text/plain": [
       "array([1, 8])"
      ]
     },
     "execution_count": 1,
     "metadata": {},
     "output_type": "execute_result"
    }
   ],
   "source": [
    "enteros[:2]"
   ]
  },
  {
   "cell_type": "code",
   "execution_count": 7,
   "id": "8c9449b9",
   "metadata": {
    "execution": {
     "iopub.execute_input": "2021-04-20T20:12:01.193670Z",
     "iopub.status.busy": "2021-04-20T20:12:01.192180Z",
     "iopub.status.idle": "2021-04-20T20:12:01.195880Z",
     "shell.execute_reply": "2021-04-20T20:12:01.195351Z"
    }
   },
   "outputs": [
    {
     "name": "stdout",
     "output_type": "stream",
     "text": [
      "Original: \n",
      "[[ 1  2  3  4]\n",
      " [ 5  6  7  8]\n",
      " [ 9 10 11 12]]\n",
      "\n",
      "Recortada: \n",
      "[[1 2 3]\n",
      " [5 6 7]]\n"
     ]
    }
   ],
   "source": [
    "matriz_de_enteros = np.array([[1, 2, 3, 4], [5, 6, 7, 8], [9, 10, 11, 12]])\n",
    "\n",
    "print('Original: ')\n",
    "print(matriz_de_enteros)\n",
    "\n",
    "print()\n",
    "\n",
    "print('Recortada: ')\n",
    "print(matriz_de_enteros[:2, :3])"
   ]
  },
  {
   "cell_type": "code",
   "execution_count": 8,
   "id": "132f51ca",
   "metadata": {
    "execution": {
     "iopub.execute_input": "2021-04-20T20:12:01.205132Z",
     "iopub.status.busy": "2021-04-20T20:12:01.204168Z",
     "iopub.status.idle": "2021-04-20T20:12:01.207734Z",
     "shell.execute_reply": "2021-04-20T20:12:01.205833Z"
    }
   },
   "outputs": [
    {
     "data": {
      "text/plain": [
       "array([[[ 0,  1,  2,  3,  4],\n",
       "        [ 5,  6,  7,  8,  9],\n",
       "        [10, 11, 12, 13, 14]],\n",
       "\n",
       "       [[15, 16, 17, 18, 19],\n",
       "        [20, 21, 22, 23, 24],\n",
       "        [25, 26, 27, 28, 29]],\n",
       "\n",
       "       [[30, 31, 32, 33, 34],\n",
       "        [35, 36, 37, 38, 39],\n",
       "        [40, 41, 42, 43, 44]]])"
      ]
     },
     "execution_count": 1,
     "metadata": {},
     "output_type": "execute_result"
    }
   ],
   "source": [
    "# 3D\n",
    "# arange() genera valores de un intervalo pasado por parámetro\n",
    "# reshape() modifica la forma del numpy array\n",
    "\n",
    "x = np.arange(45).reshape(3, 3, 5)\n",
    "x"
   ]
  },
  {
   "cell_type": "code",
   "execution_count": 9,
   "id": "33f69f21",
   "metadata": {
    "execution": {
     "iopub.execute_input": "2021-04-20T20:12:01.213224Z",
     "iopub.status.busy": "2021-04-20T20:12:01.212353Z",
     "iopub.status.idle": "2021-04-20T20:12:01.216431Z",
     "shell.execute_reply": "2021-04-20T20:12:01.216946Z"
    }
   },
   "outputs": [
    {
     "data": {
      "text/plain": [
       "array([[ 0,  1,  2,  3,  4],\n",
       "       [ 5,  6,  7,  8,  9],\n",
       "       [10, 11, 12, 13, 14]])"
      ]
     },
     "execution_count": 1,
     "metadata": {},
     "output_type": "execute_result"
    }
   ],
   "source": [
    "x[0]"
   ]
  },
  {
   "cell_type": "code",
   "execution_count": 10,
   "id": "505162ab",
   "metadata": {
    "execution": {
     "iopub.execute_input": "2021-04-20T20:12:01.223929Z",
     "iopub.status.busy": "2021-04-20T20:12:01.221818Z",
     "iopub.status.idle": "2021-04-20T20:12:01.226970Z",
     "shell.execute_reply": "2021-04-20T20:12:01.226256Z"
    }
   },
   "outputs": [
    {
     "data": {
      "text/plain": [
       "array([5, 6, 7, 8, 9])"
      ]
     },
     "execution_count": 1,
     "metadata": {},
     "output_type": "execute_result"
    }
   ],
   "source": [
    "x[0][1]"
   ]
  },
  {
   "cell_type": "code",
   "execution_count": 11,
   "id": "d60f3b63",
   "metadata": {
    "execution": {
     "iopub.execute_input": "2021-04-20T20:12:01.232871Z",
     "iopub.status.busy": "2021-04-20T20:12:01.231608Z",
     "iopub.status.idle": "2021-04-20T20:12:01.235179Z",
     "shell.execute_reply": "2021-04-20T20:12:01.234427Z"
    }
   },
   "outputs": [
    {
     "data": {
      "text/plain": [
       "7"
      ]
     },
     "execution_count": 1,
     "metadata": {},
     "output_type": "execute_result"
    }
   ],
   "source": [
    "x[0][1][2]"
   ]
  },
  {
   "cell_type": "markdown",
   "id": "9a947d61",
   "metadata": {},
   "source": [
    "\n",
    "¿Cómo conseguimos estos valores? ([fuente](https://towardsdatascience.com/indexing-and-slicing-of-1d-2d-and-3d-arrays-in-numpy-e731afff0bbe))\n",
    "\n",
    "![title](img/matrix.png)"
   ]
  },
  {
   "cell_type": "code",
   "execution_count": 12,
   "id": "1a4084bc",
   "metadata": {
    "execution": {
     "iopub.execute_input": "2021-04-20T20:12:01.240869Z",
     "iopub.status.busy": "2021-04-20T20:12:01.239718Z",
     "iopub.status.idle": "2021-04-20T20:12:01.243485Z",
     "shell.execute_reply": "2021-04-20T20:12:01.244026Z"
    }
   },
   "outputs": [
    {
     "data": {
      "text/plain": [
       "array([[[16, 17, 18],\n",
       "        [21, 22, 23]],\n",
       "\n",
       "       [[31, 32, 33],\n",
       "        [36, 37, 38]]])"
      ]
     },
     "execution_count": 1,
     "metadata": {},
     "output_type": "execute_result"
    }
   ],
   "source": [
    "x[1:, 0:2, 1:4]"
   ]
  },
  {
   "cell_type": "markdown",
   "id": "eaec0361",
   "metadata": {},
   "source": [
    "### Copia de arreglos"
   ]
  },
  {
   "cell_type": "code",
   "execution_count": 13,
   "id": "56beb980",
   "metadata": {
    "execution": {
     "iopub.execute_input": "2021-04-20T20:12:01.251146Z",
     "iopub.status.busy": "2021-04-20T20:12:01.249599Z",
     "iopub.status.idle": "2021-04-20T20:12:01.253429Z",
     "shell.execute_reply": "2021-04-20T20:12:01.252896Z"
    }
   },
   "outputs": [
    {
     "data": {
      "text/plain": [
       "array([1, 2, 3, 4])"
      ]
     },
     "execution_count": 1,
     "metadata": {},
     "output_type": "execute_result"
    }
   ],
   "source": [
    "# Los arreglos no se copian con asignación\n",
    "\n",
    "a = np.array([1, 2, 3, 4])\n",
    "b = a\n",
    "b"
   ]
  },
  {
   "cell_type": "code",
   "execution_count": 14,
   "id": "989807b5",
   "metadata": {
    "execution": {
     "iopub.execute_input": "2021-04-20T20:12:01.259096Z",
     "iopub.status.busy": "2021-04-20T20:12:01.258165Z",
     "iopub.status.idle": "2021-04-20T20:12:01.260890Z",
     "shell.execute_reply": "2021-04-20T20:12:01.262223Z"
    }
   },
   "outputs": [
    {
     "data": {
      "text/plain": [
       "array([ 1, 20,  3,  4])"
      ]
     },
     "execution_count": 1,
     "metadata": {},
     "output_type": "execute_result"
    }
   ],
   "source": [
    "b[1] = 20\n",
    "b"
   ]
  },
  {
   "cell_type": "code",
   "execution_count": 15,
   "id": "a388385a",
   "metadata": {
    "execution": {
     "iopub.execute_input": "2021-04-20T20:12:01.266628Z",
     "iopub.status.busy": "2021-04-20T20:12:01.265981Z",
     "iopub.status.idle": "2021-04-20T20:12:01.268409Z",
     "shell.execute_reply": "2021-04-20T20:12:01.268892Z"
    }
   },
   "outputs": [
    {
     "data": {
      "text/plain": [
       "array([ 1, 20,  3,  4])"
      ]
     },
     "execution_count": 1,
     "metadata": {},
     "output_type": "execute_result"
    }
   ],
   "source": [
    "a"
   ]
  },
  {
   "cell_type": "code",
   "execution_count": 16,
   "id": "0add9477",
   "metadata": {
    "execution": {
     "iopub.execute_input": "2021-04-20T20:12:01.275273Z",
     "iopub.status.busy": "2021-04-20T20:12:01.274523Z",
     "iopub.status.idle": "2021-04-20T20:12:01.277704Z",
     "shell.execute_reply": "2021-04-20T20:12:01.278309Z"
    }
   },
   "outputs": [
    {
     "data": {
      "text/plain": [
       "array([ 1, 20,  3,  4])"
      ]
     },
     "execution_count": 1,
     "metadata": {},
     "output_type": "execute_result"
    }
   ],
   "source": [
    "# Para copiar un arreglo a otra variable debemos usar copy()\n",
    "\n",
    "a = np.array([1, 2, 3, 4])\n",
    "b = a.copy()\n",
    "b[1] = 20\n",
    "b"
   ]
  },
  {
   "cell_type": "code",
   "execution_count": 17,
   "id": "5cb718c0",
   "metadata": {
    "execution": {
     "iopub.execute_input": "2021-04-20T20:12:01.283646Z",
     "iopub.status.busy": "2021-04-20T20:12:01.282889Z",
     "iopub.status.idle": "2021-04-20T20:12:01.286786Z",
     "shell.execute_reply": "2021-04-20T20:12:01.287346Z"
    }
   },
   "outputs": [
    {
     "data": {
      "text/plain": [
       "array([1, 2, 3, 4])"
      ]
     },
     "execution_count": 1,
     "metadata": {},
     "output_type": "execute_result"
    }
   ],
   "source": [
    "a"
   ]
  },
  {
   "cell_type": "markdown",
   "id": "530ea7b1",
   "metadata": {},
   "source": [
    "### Modificación de dimensiones"
   ]
  },
  {
   "cell_type": "markdown",
   "id": "d6cf0152",
   "metadata": {},
   "source": [
    "Existen varias operaciones para cambiar la forma de un arreglo de numpy"
   ]
  },
  {
   "cell_type": "code",
   "execution_count": 18,
   "id": "a82b02cf",
   "metadata": {
    "execution": {
     "iopub.execute_input": "2021-04-20T20:12:01.293538Z",
     "iopub.status.busy": "2021-04-20T20:12:01.292856Z",
     "iopub.status.idle": "2021-04-20T20:12:01.295087Z",
     "shell.execute_reply": "2021-04-20T20:12:01.295598Z"
    }
   },
   "outputs": [
    {
     "data": {
      "text/plain": [
       "array([[ 1,  2,  3,  4],\n",
       "       [ 5,  6,  7,  8],\n",
       "       [ 9, 10, 11, 12]])"
      ]
     },
     "execution_count": 1,
     "metadata": {},
     "output_type": "execute_result"
    }
   ],
   "source": [
    "matriz_de_enteros"
   ]
  },
  {
   "cell_type": "code",
   "execution_count": 19,
   "id": "1613f836",
   "metadata": {
    "execution": {
     "iopub.execute_input": "2021-04-20T20:12:01.299584Z",
     "iopub.status.busy": "2021-04-20T20:12:01.298821Z",
     "iopub.status.idle": "2021-04-20T20:12:01.302876Z",
     "shell.execute_reply": "2021-04-20T20:12:01.302320Z"
    }
   },
   "outputs": [
    {
     "data": {
      "text/plain": [
       "2"
      ]
     },
     "execution_count": 1,
     "metadata": {},
     "output_type": "execute_result"
    }
   ],
   "source": [
    "# Obtener las dimensiones del arreglo\n",
    "\n",
    "matriz_de_enteros.ndim"
   ]
  },
  {
   "cell_type": "code",
   "execution_count": 20,
   "id": "aa2c3bd0",
   "metadata": {
    "execution": {
     "iopub.execute_input": "2021-04-20T20:12:01.306861Z",
     "iopub.status.busy": "2021-04-20T20:12:01.306219Z",
     "iopub.status.idle": "2021-04-20T20:12:01.309909Z",
     "shell.execute_reply": "2021-04-20T20:12:01.309362Z"
    }
   },
   "outputs": [
    {
     "data": {
      "text/plain": [
       "(3, 4)"
      ]
     },
     "execution_count": 1,
     "metadata": {},
     "output_type": "execute_result"
    }
   ],
   "source": [
    "# Obtener la forma del arreglo\n",
    "\n",
    "matriz_de_enteros.shape"
   ]
  },
  {
   "cell_type": "code",
   "execution_count": 21,
   "id": "bcf2694a",
   "metadata": {
    "execution": {
     "iopub.execute_input": "2021-04-20T20:12:01.315811Z",
     "iopub.status.busy": "2021-04-20T20:12:01.315157Z",
     "iopub.status.idle": "2021-04-20T20:12:01.318184Z",
     "shell.execute_reply": "2021-04-20T20:12:01.318714Z"
    }
   },
   "outputs": [
    {
     "name": "stdout",
     "output_type": "stream",
     "text": [
      "enteros: [ 3  6  9 12]\n"
     ]
    },
    {
     "data": {
      "text/plain": [
       "array([[ 3,  6],\n",
       "       [ 9, 12]])"
      ]
     },
     "execution_count": 1,
     "metadata": {},
     "output_type": "execute_result"
    }
   ],
   "source": [
    "# Modificar la forma de un arreglo\n",
    "\n",
    "enteros = np.array([3, 6, 9, 12])\n",
    "print(f\"enteros: {enteros}\")\n",
    "np.reshape(enteros, (2, 2))"
   ]
  },
  {
   "cell_type": "code",
   "execution_count": 22,
   "id": "d5de3733",
   "metadata": {
    "execution": {
     "iopub.execute_input": "2021-04-20T20:12:01.323807Z",
     "iopub.status.busy": "2021-04-20T20:12:01.323069Z",
     "iopub.status.idle": "2021-04-20T20:12:01.326875Z",
     "shell.execute_reply": "2021-04-20T20:12:01.326323Z"
    }
   },
   "outputs": [
    {
     "data": {
      "text/plain": [
       "array([[1., 1.],\n",
       "       [1., 1.]])"
      ]
     },
     "execution_count": 1,
     "metadata": {},
     "output_type": "execute_result"
    }
   ],
   "source": [
    "# Aplanar un arreglo\n",
    "\n",
    "a = np.ones((2, 2))\n",
    "a"
   ]
  },
  {
   "cell_type": "code",
   "execution_count": 23,
   "id": "e7466a1a",
   "metadata": {
    "execution": {
     "iopub.execute_input": "2021-04-20T20:12:01.331350Z",
     "iopub.status.busy": "2021-04-20T20:12:01.330751Z",
     "iopub.status.idle": "2021-04-20T20:12:01.333686Z",
     "shell.execute_reply": "2021-04-20T20:12:01.334210Z"
    }
   },
   "outputs": [
    {
     "data": {
      "text/plain": [
       "array([1., 1., 1., 1.])"
      ]
     },
     "execution_count": 1,
     "metadata": {},
     "output_type": "execute_result"
    }
   ],
   "source": [
    "a.flatten()"
   ]
  },
  {
   "cell_type": "code",
   "execution_count": 24,
   "id": "e352736f",
   "metadata": {
    "execution": {
     "iopub.execute_input": "2021-04-20T20:12:01.338921Z",
     "iopub.status.busy": "2021-04-20T20:12:01.338241Z",
     "iopub.status.idle": "2021-04-20T20:12:01.342298Z",
     "shell.execute_reply": "2021-04-20T20:12:01.341561Z"
    },
    "lines_to_next_cell": 2
   },
   "outputs": [
    {
     "data": {
      "text/plain": [
       "array([[1., 1.],\n",
       "       [1., 1.]])"
      ]
     },
     "execution_count": 1,
     "metadata": {},
     "output_type": "execute_result"
    }
   ],
   "source": [
    "a"
   ]
  },
  {
   "cell_type": "markdown",
   "id": "c3f9560e",
   "metadata": {},
   "source": [
    "### Combinación de arreglos (Stacking)"
   ]
  },
  {
   "cell_type": "code",
   "execution_count": 25,
   "id": "51a5c2e9",
   "metadata": {
    "execution": {
     "iopub.execute_input": "2021-04-20T20:12:01.346789Z",
     "iopub.status.busy": "2021-04-20T20:12:01.346043Z",
     "iopub.status.idle": "2021-04-20T20:12:01.349748Z",
     "shell.execute_reply": "2021-04-20T20:12:01.349199Z"
    }
   },
   "outputs": [
    {
     "data": {
      "text/plain": [
       "array([0, 1, 2, 3, 4])"
      ]
     },
     "execution_count": 1,
     "metadata": {},
     "output_type": "execute_result"
    }
   ],
   "source": [
    "# Los arreglos se pueden combinar verticalmente (se incrementa la cantidad de filas)\n",
    "\n",
    "a = np.arange(0, 5)\n",
    "a"
   ]
  },
  {
   "cell_type": "code",
   "execution_count": 26,
   "id": "fa114827",
   "metadata": {
    "execution": {
     "iopub.execute_input": "2021-04-20T20:12:01.353258Z",
     "iopub.status.busy": "2021-04-20T20:12:01.352661Z",
     "iopub.status.idle": "2021-04-20T20:12:01.356791Z",
     "shell.execute_reply": "2021-04-20T20:12:01.357329Z"
    }
   },
   "outputs": [
    {
     "data": {
      "text/plain": [
       "array([5, 6, 7, 8, 9])"
      ]
     },
     "execution_count": 1,
     "metadata": {},
     "output_type": "execute_result"
    }
   ],
   "source": [
    "b = np.arange(5, 10)\n",
    "b"
   ]
  },
  {
   "cell_type": "code",
   "execution_count": 27,
   "id": "9e4aa32e",
   "metadata": {
    "execution": {
     "iopub.execute_input": "2021-04-20T20:12:01.364076Z",
     "iopub.status.busy": "2021-04-20T20:12:01.362335Z",
     "iopub.status.idle": "2021-04-20T20:12:01.366719Z",
     "shell.execute_reply": "2021-04-20T20:12:01.366086Z"
    }
   },
   "outputs": [
    {
     "data": {
      "text/plain": [
       "array([[0, 1, 2, 3, 4],\n",
       "       [5, 6, 7, 8, 9]])"
      ]
     },
     "execution_count": 1,
     "metadata": {},
     "output_type": "execute_result"
    }
   ],
   "source": [
    "combinados_verticalmente = np.vstack((a, b))\n",
    "combinados_verticalmente"
   ]
  },
  {
   "cell_type": "code",
   "execution_count": 28,
   "id": "2b108dcb",
   "metadata": {
    "execution": {
     "iopub.execute_input": "2021-04-20T20:12:01.374331Z",
     "iopub.status.busy": "2021-04-20T20:12:01.372685Z",
     "iopub.status.idle": "2021-04-20T20:12:01.376520Z",
     "shell.execute_reply": "2021-04-20T20:12:01.375970Z"
    }
   },
   "outputs": [
    {
     "data": {
      "text/plain": [
       "array([0, 1, 2, 3, 4, 5, 6, 7, 8, 9])"
      ]
     },
     "execution_count": 1,
     "metadata": {},
     "output_type": "execute_result"
    }
   ],
   "source": [
    "# También se pueden combinar horizontalmente (se incrementa la cantidad de columnas)\n",
    "\n",
    "combinados_horizontalmente = np.hstack((a, b))\n",
    "combinados_horizontalmente"
   ]
  },
  {
   "cell_type": "markdown",
   "id": "587c9de9",
   "metadata": {},
   "source": [
    "### Operaciones matemáticas"
   ]
  },
  {
   "cell_type": "code",
   "execution_count": 29,
   "id": "7a345ca4",
   "metadata": {
    "execution": {
     "iopub.execute_input": "2021-04-20T20:12:01.384416Z",
     "iopub.status.busy": "2021-04-20T20:12:01.381804Z",
     "iopub.status.idle": "2021-04-20T20:12:01.386404Z",
     "shell.execute_reply": "2021-04-20T20:12:01.387102Z"
    }
   },
   "outputs": [
    {
     "data": {
      "text/plain": [
       "array([3, 4, 5, 6])"
      ]
     },
     "execution_count": 1,
     "metadata": {},
     "output_type": "execute_result"
    }
   ],
   "source": [
    "a = np.array([1, 2, 3, 4])\n",
    "\n",
    "a + 2"
   ]
  },
  {
   "cell_type": "code",
   "execution_count": 30,
   "id": "274227d5",
   "metadata": {
    "execution": {
     "iopub.execute_input": "2021-04-20T20:12:01.392406Z",
     "iopub.status.busy": "2021-04-20T20:12:01.391683Z",
     "iopub.status.idle": "2021-04-20T20:12:01.394111Z",
     "shell.execute_reply": "2021-04-20T20:12:01.394758Z"
    }
   },
   "outputs": [
    {
     "data": {
      "text/plain": [
       "array([ 1,  4,  9, 16])"
      ]
     },
     "execution_count": 1,
     "metadata": {},
     "output_type": "execute_result"
    }
   ],
   "source": [
    "a ** 2"
   ]
  },
  {
   "cell_type": "code",
   "execution_count": 31,
   "id": "69a2ff20",
   "metadata": {
    "execution": {
     "iopub.execute_input": "2021-04-20T20:12:01.400122Z",
     "iopub.status.busy": "2021-04-20T20:12:01.399430Z",
     "iopub.status.idle": "2021-04-20T20:12:01.402814Z",
     "shell.execute_reply": "2021-04-20T20:12:01.403379Z"
    }
   },
   "outputs": [
    {
     "name": "stdout",
     "output_type": "stream",
     "text": [
      "b: [1. 1. 1. 1.]\n"
     ]
    },
    {
     "data": {
      "text/plain": [
       "array([2., 3., 4., 5.])"
      ]
     },
     "execution_count": 1,
     "metadata": {},
     "output_type": "execute_result"
    }
   ],
   "source": [
    "b = np.ones(4)\n",
    "print(f\"b: {b}\")\n",
    "a + b"
   ]
  },
  {
   "cell_type": "markdown",
   "id": "a120a958",
   "metadata": {},
   "source": [
    "### Estadística"
   ]
  },
  {
   "cell_type": "code",
   "execution_count": 32,
   "id": "d140fcc5",
   "metadata": {
    "execution": {
     "iopub.execute_input": "2021-04-20T20:12:01.408329Z",
     "iopub.status.busy": "2021-04-20T20:12:01.407660Z",
     "iopub.status.idle": "2021-04-20T20:12:01.410435Z",
     "shell.execute_reply": "2021-04-20T20:12:01.411006Z"
    }
   },
   "outputs": [
    {
     "data": {
      "text/plain": [
       "1"
      ]
     },
     "execution_count": 1,
     "metadata": {},
     "output_type": "execute_result"
    }
   ],
   "source": [
    "a = np.array([[5, 2, 1, 8], [26, 4, 17, 9]])\n",
    "\n",
    "np.min(a)"
   ]
  },
  {
   "cell_type": "code",
   "execution_count": 33,
   "id": "d6d909e1",
   "metadata": {
    "execution": {
     "iopub.execute_input": "2021-04-20T20:12:01.415338Z",
     "iopub.status.busy": "2021-04-20T20:12:01.414594Z",
     "iopub.status.idle": "2021-04-20T20:12:01.417665Z",
     "shell.execute_reply": "2021-04-20T20:12:01.418247Z"
    }
   },
   "outputs": [
    {
     "data": {
      "text/plain": [
       "26"
      ]
     },
     "execution_count": 1,
     "metadata": {},
     "output_type": "execute_result"
    }
   ],
   "source": [
    "np.max(a)"
   ]
  },
  {
   "cell_type": "code",
   "execution_count": 34,
   "id": "1c1e8697",
   "metadata": {
    "execution": {
     "iopub.execute_input": "2021-04-20T20:12:01.422865Z",
     "iopub.status.busy": "2021-04-20T20:12:01.422046Z",
     "iopub.status.idle": "2021-04-20T20:12:01.424735Z",
     "shell.execute_reply": "2021-04-20T20:12:01.425338Z"
    }
   },
   "outputs": [
    {
     "data": {
      "text/plain": [
       "72"
      ]
     },
     "execution_count": 1,
     "metadata": {},
     "output_type": "execute_result"
    }
   ],
   "source": [
    "np.sum(a)"
   ]
  },
  {
   "cell_type": "markdown",
   "id": "022656f7",
   "metadata": {},
   "source": [
    "### Más magia"
   ]
  },
  {
   "cell_type": "code",
   "execution_count": 35,
   "id": "9cecef55",
   "metadata": {
    "execution": {
     "iopub.execute_input": "2021-04-20T20:12:01.430117Z",
     "iopub.status.busy": "2021-04-20T20:12:01.429411Z",
     "iopub.status.idle": "2021-04-20T20:12:01.433066Z",
     "shell.execute_reply": "2021-04-20T20:12:01.432247Z"
    }
   },
   "outputs": [
    {
     "data": {
      "text/plain": [
       "array([[False, False, False,  True],\n",
       "       [ True, False,  True,  True]])"
      ]
     },
     "execution_count": 1,
     "metadata": {},
     "output_type": "execute_result"
    }
   ],
   "source": [
    "a = np.array([[5, 2, 1, 8], [26, 4, 17, 9]])\n",
    "\n",
    "a > 5"
   ]
  },
  {
   "cell_type": "code",
   "execution_count": 36,
   "id": "b9020abb",
   "metadata": {
    "execution": {
     "iopub.execute_input": "2021-04-20T20:12:01.437353Z",
     "iopub.status.busy": "2021-04-20T20:12:01.436670Z",
     "iopub.status.idle": "2021-04-20T20:12:01.442705Z",
     "shell.execute_reply": "2021-04-20T20:12:01.440865Z"
    }
   },
   "outputs": [
    {
     "data": {
      "text/plain": [
       "array([ 8, 26, 17,  9])"
      ]
     },
     "execution_count": 1,
     "metadata": {},
     "output_type": "execute_result"
    }
   ],
   "source": [
    "a[a > 5]"
   ]
  },
  {
   "cell_type": "markdown",
   "id": "e3074a4a",
   "metadata": {},
   "source": [
    "### Broadcasting"
   ]
  },
  {
   "cell_type": "markdown",
   "id": "783d7c69",
   "metadata": {},
   "source": [
    "Permite realizar operaciones entre dos numpy arrays de distintas dimensiones.\n",
    "Para lograr esto, las dimensiones de los mismos deben ser compatibles. Dos dimensiones son compatibles cuando:\n",
    "1. Son iguales\n",
    "2. Alguna de las dos es 1"
   ]
  },
  {
   "cell_type": "code",
   "execution_count": 37,
   "id": "17b4e655",
   "metadata": {
    "execution": {
     "iopub.execute_input": "2021-04-20T20:12:01.447982Z",
     "iopub.status.busy": "2021-04-20T20:12:01.447318Z",
     "iopub.status.idle": "2021-04-20T20:12:01.450113Z",
     "shell.execute_reply": "2021-04-20T20:12:01.450682Z"
    }
   },
   "outputs": [
    {
     "data": {
      "text/plain": [
       "array([[ 5,  2,  1,  8],\n",
       "       [26,  4, 17,  9]])"
      ]
     },
     "execution_count": 1,
     "metadata": {},
     "output_type": "execute_result"
    }
   ],
   "source": [
    "a = np.array([[5, 2, 1, 8], [26, 4, 17, 9]])\n",
    "a"
   ]
  },
  {
   "cell_type": "code",
   "execution_count": 38,
   "id": "6fea1e2e",
   "metadata": {
    "execution": {
     "iopub.execute_input": "2021-04-20T20:12:01.456311Z",
     "iopub.status.busy": "2021-04-20T20:12:01.455640Z",
     "iopub.status.idle": "2021-04-20T20:12:01.460152Z",
     "shell.execute_reply": "2021-04-20T20:12:01.460681Z"
    }
   },
   "outputs": [
    {
     "name": "stdout",
     "output_type": "stream",
     "text": [
      "a: (2, 4)\n",
      "b: (4,)\n",
      "\n",
      "a + b:\n",
      " [[10  4  2 16]\n",
      " [31  6 18 17]]\n"
     ]
    }
   ],
   "source": [
    "# Armamos un array que tenga la misma cantidad de columnas que a\n",
    "b = np.array([5, 2, 1, 8])\n",
    "print(f\"a: {a.shape}\")\n",
    "print(f\"b: {b.shape}\")\n",
    "# a + b\n",
    "print()\n",
    "print(f\"a + b:\\n {a + b}\")"
   ]
  },
  {
   "cell_type": "code",
   "execution_count": 39,
   "id": "34841ed6",
   "metadata": {
    "execution": {
     "iopub.execute_input": "2021-04-20T20:12:01.465811Z",
     "iopub.status.busy": "2021-04-20T20:12:01.465134Z",
     "iopub.status.idle": "2021-04-20T20:12:01.544213Z",
     "shell.execute_reply": "2021-04-20T20:12:01.543493Z"
    },
    "tags": [
     "raises-exception"
    ]
   },
   "outputs": [
    {
     "name": "stdout",
     "output_type": "stream",
     "text": [
      "a: (2, 4)\n",
      "b: (3,)\n"
     ]
    },
    {
     "ename": "ValueError",
     "evalue": "operands could not be broadcast together with shapes (2,4) (3,) ",
     "output_type": "error",
     "traceback": [
      "\u001b[0;31m---------------------------------------------------------------------------\u001b[0m",
      "\u001b[0;31mValueError\u001b[0m                                Traceback (most recent call last)",
      "\u001b[0;32m<ipython-input-1-fe11b6ae6346>\u001b[0m in \u001b[0;36m<module>\u001b[0;34m\u001b[0m\n\u001b[1;32m      3\u001b[0m \u001b[0mprint\u001b[0m\u001b[0;34m(\u001b[0m\u001b[0;34mf\"a: {a.shape}\"\u001b[0m\u001b[0;34m)\u001b[0m\u001b[0;34m\u001b[0m\u001b[0;34m\u001b[0m\u001b[0m\n\u001b[1;32m      4\u001b[0m \u001b[0mprint\u001b[0m\u001b[0;34m(\u001b[0m\u001b[0;34mf\"b: {b.shape}\"\u001b[0m\u001b[0;34m)\u001b[0m\u001b[0;34m\u001b[0m\u001b[0;34m\u001b[0m\u001b[0m\n\u001b[0;32m----> 5\u001b[0;31m \u001b[0ma\u001b[0m \u001b[0;34m+\u001b[0m \u001b[0mb\u001b[0m\u001b[0;34m\u001b[0m\u001b[0;34m\u001b[0m\u001b[0m\n\u001b[0m",
      "\u001b[0;31mValueError\u001b[0m: operands could not be broadcast together with shapes (2,4) (3,) "
     ]
    }
   ],
   "source": [
    "# Armamos un array que tenga distinta cantidad de filas y columnas que a\n",
    "b = np.array([5, 1, 8])\n",
    "print(f\"a: {a.shape}\")\n",
    "print(f\"b: {b.shape}\")\n",
    "a + b"
   ]
  },
  {
   "cell_type": "code",
   "execution_count": 40,
   "id": "48366ccc",
   "metadata": {
    "execution": {
     "iopub.execute_input": "2021-04-20T20:12:01.549945Z",
     "iopub.status.busy": "2021-04-20T20:12:01.549311Z",
     "iopub.status.idle": "2021-04-20T20:12:01.557333Z",
     "shell.execute_reply": "2021-04-20T20:12:01.556785Z"
    }
   },
   "outputs": [
    {
     "name": "stdout",
     "output_type": "stream",
     "text": [
      "a: (2, 4)\n",
      "b: (2, 1)\n"
     ]
    },
    {
     "data": {
      "text/plain": [
       "array([[ 7,  4,  3, 10],\n",
       "       [27,  5, 18, 10]])"
      ]
     },
     "execution_count": 1,
     "metadata": {},
     "output_type": "execute_result"
    }
   ],
   "source": [
    "# Armamos un array que tenga la misma cantidad de filas que a\n",
    "b = np.array([[2], [1]])\n",
    "print(f\"a: {a.shape}\")\n",
    "print(f\"b: {b.shape}\")\n",
    "a + b"
   ]
  },
  {
   "cell_type": "code",
   "execution_count": 41,
   "id": "d9e7bc8c",
   "metadata": {
    "execution": {
     "iopub.execute_input": "2021-04-20T20:12:01.562504Z",
     "iopub.status.busy": "2021-04-20T20:12:01.561894Z",
     "iopub.status.idle": "2021-04-20T20:12:01.568003Z",
     "shell.execute_reply": "2021-04-20T20:12:01.567460Z"
    }
   },
   "outputs": [
    {
     "data": {
      "text/plain": [
       "array([[ 9,  6,  5, 12],\n",
       "       [30,  8, 21, 13]])"
      ]
     },
     "execution_count": 1,
     "metadata": {},
     "output_type": "execute_result"
    }
   ],
   "source": [
    "# Si b es un entero\n",
    "b = 4\n",
    "a + b"
   ]
  },
  {
   "cell_type": "code",
   "execution_count": null,
   "id": "eb92d325",
   "metadata": {},
   "outputs": [],
   "source": []
  }
 ],
 "metadata": {
  "jupytext": {
   "encoding": "# -*- coding: utf-8 -*-",
   "formats": "ipynb,py:light"
  },
  "kernelspec": {
   "display_name": "Python 3",
   "language": "python",
   "name": "python3"
  },
  "language_info": {
   "codemirror_mode": {
    "name": "ipython",
    "version": 3
   },
   "file_extension": ".py",
   "mimetype": "text/x-python",
   "name": "python",
   "nbconvert_exporter": "python",
   "pygments_lexer": "ipython3",
   "version": "3.7.10"
  }
 },
 "nbformat": 4,
 "nbformat_minor": 5
}
