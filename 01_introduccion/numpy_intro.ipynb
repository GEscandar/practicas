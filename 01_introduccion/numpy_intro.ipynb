{
 "cells": [
  {
   "cell_type": "markdown",
   "id": "ea00ac97",
   "metadata": {},
   "source": [
    "## Clase 1 - Introducción a Numpy\n",
    "\n",
    "Numpy es una biblioteca para Python que facilita el manejo de arreglos multidimensionales y ofrece varias herramientas para trabajar con ellos. Muchas de las bibliotecas de Python que son ampliamente usadas hoy en día, como pandas, están construidas sobre numpy.\n",
    "\n",
    "### Listas de Python vs arreglos de Numpy\n",
    "\n",
    "A primera vista, un arreglo de numpy puede resultar idéntico a una lista de python, pero a medida que la cantidad de datos comienza a incrementar, los arreglos de numpy terminan ofreciendo un manejo más eficiente de la memoria.\n",
    "\n",
    "Para comenzar, vamos a crear un arreglo de numpy:"
   ]
  },
  {
   "cell_type": "code",
   "execution_count": 1,
   "id": "30d56994",
   "metadata": {
    "execution": {
     "iopub.execute_input": "2021-06-10T03:05:58.069320Z",
     "iopub.status.busy": "2021-06-10T03:05:58.068690Z",
     "iopub.status.idle": "2021-06-10T03:05:58.238436Z",
     "shell.execute_reply": "2021-06-10T03:05:58.237849Z"
    }
   },
   "outputs": [
    {
     "data": {
      "text/plain": [
       "array([1, 2, 3, 4])"
      ]
     },
     "execution_count": 1,
     "metadata": {},
     "output_type": "execute_result"
    }
   ],
   "source": [
    "import numpy as np\n",
    "\n",
    "np.array([1, 2, 3, 4])"
   ]
  },
  {
   "cell_type": "markdown",
   "id": "56e09a5a",
   "metadata": {},
   "source": [
    "Los arreglos pueden ser también multidimensionales:"
   ]
  },
  {
   "cell_type": "code",
   "execution_count": 2,
   "id": "142dc60d",
   "metadata": {
    "execution": {
     "iopub.execute_input": "2021-06-10T03:05:58.243227Z",
     "iopub.status.busy": "2021-06-10T03:05:58.242530Z",
     "iopub.status.idle": "2021-06-10T03:05:58.247330Z",
     "shell.execute_reply": "2021-06-10T03:05:58.247762Z"
    }
   },
   "outputs": [
    {
     "data": {
      "text/plain": [
       "array([[1, 2, 3, 4],\n",
       "       [5, 6, 7, 8]])"
      ]
     },
     "execution_count": 1,
     "metadata": {},
     "output_type": "execute_result"
    }
   ],
   "source": [
    "np.array([[1, 2, 3, 4], [5, 6, 7, 8]])"
   ]
  },
  {
   "cell_type": "markdown",
   "id": "049eac04",
   "metadata": {},
   "source": [
    "Es importante tener en cuenta que un arreglo de numpy tiene un tipo fijo de datos, entonces si se quiere agregar un dato de un tipo diferente al de la mayoría, este va a ser modificado para adaptarse al resto"
   ]
  },
  {
   "cell_type": "code",
   "execution_count": 3,
   "id": "f87e9e8e",
   "metadata": {
    "execution": {
     "iopub.execute_input": "2021-06-10T03:05:58.251681Z",
     "iopub.status.busy": "2021-06-10T03:05:58.251157Z",
     "iopub.status.idle": "2021-06-10T03:05:58.254781Z",
     "shell.execute_reply": "2021-06-10T03:05:58.254320Z"
    }
   },
   "outputs": [],
   "source": [
    "enteros = np.array([1, 2, 3, 4])"
   ]
  },
  {
   "cell_type": "markdown",
   "id": "60ba9818",
   "metadata": {},
   "source": [
    "Agrego un elemento de tipo flotante en la posición 1"
   ]
  },
  {
   "cell_type": "code",
   "execution_count": 4,
   "id": "d0dde85e",
   "metadata": {
    "execution": {
     "iopub.execute_input": "2021-06-10T03:05:58.258528Z",
     "iopub.status.busy": "2021-06-10T03:05:58.257973Z",
     "iopub.status.idle": "2021-06-10T03:05:58.262323Z",
     "shell.execute_reply": "2021-06-10T03:05:58.261898Z"
    }
   },
   "outputs": [
    {
     "data": {
      "text/plain": [
       "array([1, 8, 3, 4])"
      ]
     },
     "execution_count": 1,
     "metadata": {},
     "output_type": "execute_result"
    }
   ],
   "source": [
    "enteros[1] = 8.4727\n",
    "enteros"
   ]
  },
  {
   "cell_type": "markdown",
   "id": "18df4594",
   "metadata": {},
   "source": [
    "Numpy también nos permite crear arreglos con valores aleatorios del 0 al 1.\n",
    "Basta con pasarle las dimensiones del arreglo que queremos crear."
   ]
  },
  {
   "cell_type": "code",
   "execution_count": 5,
   "id": "6dd56e17",
   "metadata": {
    "execution": {
     "iopub.execute_input": "2021-06-10T03:05:58.267650Z",
     "iopub.status.busy": "2021-06-10T03:05:58.267069Z",
     "iopub.status.idle": "2021-06-10T03:05:58.269766Z",
     "shell.execute_reply": "2021-06-10T03:05:58.269231Z"
    }
   },
   "outputs": [
    {
     "data": {
      "text/plain": [
       "array([[0.49836059, 0.42880903, 0.41390026],\n",
       "       [0.60558995, 0.45506861, 0.42987631]])"
      ]
     },
     "execution_count": 1,
     "metadata": {},
     "output_type": "execute_result"
    }
   ],
   "source": [
    "np.random.rand(2, 3)"
   ]
  },
  {
   "cell_type": "markdown",
   "id": "a59954b1",
   "metadata": {},
   "source": [
    "## Slicing\n",
    "\n",
    "De la misma forma que con las listas de python, pueden obtenerse slices de los arreglos de numpy"
   ]
  },
  {
   "cell_type": "code",
   "execution_count": 6,
   "id": "c59fdfa3",
   "metadata": {
    "execution": {
     "iopub.execute_input": "2021-06-10T03:05:58.273668Z",
     "iopub.status.busy": "2021-06-10T03:05:58.272953Z",
     "iopub.status.idle": "2021-06-10T03:05:58.275830Z",
     "shell.execute_reply": "2021-06-10T03:05:58.275273Z"
    },
    "lines_to_next_cell": 2
   },
   "outputs": [
    {
     "data": {
      "text/plain": [
       "array([1, 8])"
      ]
     },
     "execution_count": 1,
     "metadata": {},
     "output_type": "execute_result"
    }
   ],
   "source": [
    "enteros[:2]"
   ]
  },
  {
   "cell_type": "code",
   "execution_count": 7,
   "id": "8b87a9d4",
   "metadata": {
    "execution": {
     "iopub.execute_input": "2021-06-10T03:05:58.280962Z",
     "iopub.status.busy": "2021-06-10T03:05:58.280436Z",
     "iopub.status.idle": "2021-06-10T03:05:58.282809Z",
     "shell.execute_reply": "2021-06-10T03:05:58.282279Z"
    }
   },
   "outputs": [
    {
     "name": "stdout",
     "output_type": "stream",
     "text": [
      "Original: \n",
      "[[ 1  2  3  4]\n",
      " [ 5  6  7  8]\n",
      " [ 9 10 11 12]]\n",
      "\n",
      "Recortada: \n",
      "[[1 2 3]\n",
      " [5 6 7]]\n"
     ]
    }
   ],
   "source": [
    "matriz_de_enteros = np.array([[1, 2, 3, 4], [5, 6, 7, 8], [9, 10, 11, 12]])\n",
    "\n",
    "print('Original: ')\n",
    "print(matriz_de_enteros)\n",
    "\n",
    "print()\n",
    "\n",
    "print('Recortada: ')\n",
    "print(matriz_de_enteros[:2, :3])"
   ]
  },
  {
   "cell_type": "code",
   "execution_count": 8,
   "id": "41188c21",
   "metadata": {
    "execution": {
     "iopub.execute_input": "2021-06-10T03:05:58.287315Z",
     "iopub.status.busy": "2021-06-10T03:05:58.286761Z",
     "iopub.status.idle": "2021-06-10T03:05:58.289582Z",
     "shell.execute_reply": "2021-06-10T03:05:58.289120Z"
    }
   },
   "outputs": [
    {
     "data": {
      "text/plain": [
       "array([[[ 0,  1,  2,  3,  4],\n",
       "        [ 5,  6,  7,  8,  9],\n",
       "        [10, 11, 12, 13, 14]],\n",
       "\n",
       "       [[15, 16, 17, 18, 19],\n",
       "        [20, 21, 22, 23, 24],\n",
       "        [25, 26, 27, 28, 29]],\n",
       "\n",
       "       [[30, 31, 32, 33, 34],\n",
       "        [35, 36, 37, 38, 39],\n",
       "        [40, 41, 42, 43, 44]]])"
      ]
     },
     "execution_count": 1,
     "metadata": {},
     "output_type": "execute_result"
    }
   ],
   "source": [
    "# 3D\n",
    "# arange() genera valores de un intervalo pasado por parámetro\n",
    "# reshape() modifica la forma del numpy array\n",
    "\n",
    "x = np.arange(45).reshape(3, 3, 5)\n",
    "x"
   ]
  },
  {
   "cell_type": "code",
   "execution_count": 9,
   "id": "41732474",
   "metadata": {
    "execution": {
     "iopub.execute_input": "2021-06-10T03:05:58.293127Z",
     "iopub.status.busy": "2021-06-10T03:05:58.292613Z",
     "iopub.status.idle": "2021-06-10T03:05:58.295664Z",
     "shell.execute_reply": "2021-06-10T03:05:58.295212Z"
    }
   },
   "outputs": [
    {
     "data": {
      "text/plain": [
       "array([[ 0,  1,  2,  3,  4],\n",
       "       [ 5,  6,  7,  8,  9],\n",
       "       [10, 11, 12, 13, 14]])"
      ]
     },
     "execution_count": 1,
     "metadata": {},
     "output_type": "execute_result"
    }
   ],
   "source": [
    "x[0]"
   ]
  },
  {
   "cell_type": "code",
   "execution_count": 10,
   "id": "707b7085",
   "metadata": {
    "execution": {
     "iopub.execute_input": "2021-06-10T03:05:58.299220Z",
     "iopub.status.busy": "2021-06-10T03:05:58.298709Z",
     "iopub.status.idle": "2021-06-10T03:05:58.301479Z",
     "shell.execute_reply": "2021-06-10T03:05:58.301083Z"
    }
   },
   "outputs": [
    {
     "data": {
      "text/plain": [
       "array([5, 6, 7, 8, 9])"
      ]
     },
     "execution_count": 1,
     "metadata": {},
     "output_type": "execute_result"
    }
   ],
   "source": [
    "x[0][1]"
   ]
  },
  {
   "cell_type": "code",
   "execution_count": 11,
   "id": "370c84cd",
   "metadata": {
    "execution": {
     "iopub.execute_input": "2021-06-10T03:05:58.304980Z",
     "iopub.status.busy": "2021-06-10T03:05:58.304421Z",
     "iopub.status.idle": "2021-06-10T03:05:58.307596Z",
     "shell.execute_reply": "2021-06-10T03:05:58.308047Z"
    }
   },
   "outputs": [
    {
     "data": {
      "text/plain": [
       "7"
      ]
     },
     "execution_count": 1,
     "metadata": {},
     "output_type": "execute_result"
    }
   ],
   "source": [
    "x[0][1][2]"
   ]
  },
  {
   "cell_type": "markdown",
   "id": "18853d1b",
   "metadata": {},
   "source": [
    "\n",
    "¿Cómo conseguimos estos valores? ([fuente](https://towardsdatascience.com/indexing-and-slicing-of-1d-2d-and-3d-arrays-in-numpy-e731afff0bbe))\n",
    "\n",
    "![title](img/matrix.png)"
   ]
  },
  {
   "cell_type": "code",
   "execution_count": 12,
   "id": "05959bc9",
   "metadata": {
    "execution": {
     "iopub.execute_input": "2021-06-10T03:05:58.311984Z",
     "iopub.status.busy": "2021-06-10T03:05:58.311447Z",
     "iopub.status.idle": "2021-06-10T03:05:58.314323Z",
     "shell.execute_reply": "2021-06-10T03:05:58.313770Z"
    }
   },
   "outputs": [
    {
     "data": {
      "text/plain": [
       "array([[[16, 17, 18],\n",
       "        [21, 22, 23]],\n",
       "\n",
       "       [[31, 32, 33],\n",
       "        [36, 37, 38]]])"
      ]
     },
     "execution_count": 1,
     "metadata": {},
     "output_type": "execute_result"
    }
   ],
   "source": [
    "x[1:, 0:2, 1:4]"
   ]
  },
  {
   "cell_type": "markdown",
   "id": "f275ffd4",
   "metadata": {},
   "source": [
    "### Copia de arreglos"
   ]
  },
  {
   "cell_type": "code",
   "execution_count": 13,
   "id": "1c192c7e",
   "metadata": {
    "execution": {
     "iopub.execute_input": "2021-06-10T03:05:58.318428Z",
     "iopub.status.busy": "2021-06-10T03:05:58.317912Z",
     "iopub.status.idle": "2021-06-10T03:05:58.320539Z",
     "shell.execute_reply": "2021-06-10T03:05:58.319988Z"
    }
   },
   "outputs": [
    {
     "data": {
      "text/plain": [
       "array([1, 2, 3, 4])"
      ]
     },
     "execution_count": 1,
     "metadata": {},
     "output_type": "execute_result"
    }
   ],
   "source": [
    "# Los arreglos no se copian con asignación\n",
    "\n",
    "a = np.array([1, 2, 3, 4])\n",
    "b = a\n",
    "b"
   ]
  },
  {
   "cell_type": "code",
   "execution_count": 14,
   "id": "a7a5c104",
   "metadata": {
    "execution": {
     "iopub.execute_input": "2021-06-10T03:05:58.324184Z",
     "iopub.status.busy": "2021-06-10T03:05:58.323596Z",
     "iopub.status.idle": "2021-06-10T03:05:58.327869Z",
     "shell.execute_reply": "2021-06-10T03:05:58.327370Z"
    }
   },
   "outputs": [
    {
     "data": {
      "text/plain": [
       "array([ 1, 20,  3,  4])"
      ]
     },
     "execution_count": 1,
     "metadata": {},
     "output_type": "execute_result"
    }
   ],
   "source": [
    "b[1] = 20\n",
    "b"
   ]
  },
  {
   "cell_type": "code",
   "execution_count": 15,
   "id": "7027fe5d",
   "metadata": {
    "execution": {
     "iopub.execute_input": "2021-06-10T03:05:58.331908Z",
     "iopub.status.busy": "2021-06-10T03:05:58.331343Z",
     "iopub.status.idle": "2021-06-10T03:05:58.333218Z",
     "shell.execute_reply": "2021-06-10T03:05:58.333618Z"
    }
   },
   "outputs": [
    {
     "data": {
      "text/plain": [
       "array([ 1, 20,  3,  4])"
      ]
     },
     "execution_count": 1,
     "metadata": {},
     "output_type": "execute_result"
    }
   ],
   "source": [
    "a"
   ]
  },
  {
   "cell_type": "code",
   "execution_count": 16,
   "id": "bdb00688",
   "metadata": {
    "execution": {
     "iopub.execute_input": "2021-06-10T03:05:58.337849Z",
     "iopub.status.busy": "2021-06-10T03:05:58.337309Z",
     "iopub.status.idle": "2021-06-10T03:05:58.341802Z",
     "shell.execute_reply": "2021-06-10T03:05:58.341321Z"
    }
   },
   "outputs": [
    {
     "data": {
      "text/plain": [
       "array([ 1, 20,  3,  4])"
      ]
     },
     "execution_count": 1,
     "metadata": {},
     "output_type": "execute_result"
    }
   ],
   "source": [
    "# Para copiar un arreglo a otra variable debemos usar copy()\n",
    "\n",
    "a = np.array([1, 2, 3, 4])\n",
    "b = a.copy()\n",
    "b[1] = 20\n",
    "b"
   ]
  },
  {
   "cell_type": "code",
   "execution_count": 17,
   "id": "e58acf9e",
   "metadata": {
    "execution": {
     "iopub.execute_input": "2021-06-10T03:05:58.346115Z",
     "iopub.status.busy": "2021-06-10T03:05:58.345541Z",
     "iopub.status.idle": "2021-06-10T03:05:58.347846Z",
     "shell.execute_reply": "2021-06-10T03:05:58.348312Z"
    }
   },
   "outputs": [
    {
     "data": {
      "text/plain": [
       "array([1, 2, 3, 4])"
      ]
     },
     "execution_count": 1,
     "metadata": {},
     "output_type": "execute_result"
    }
   ],
   "source": [
    "a"
   ]
  },
  {
   "cell_type": "markdown",
   "id": "e2ff51f9",
   "metadata": {},
   "source": [
    "### Modificación de dimensiones"
   ]
  },
  {
   "cell_type": "markdown",
   "id": "15b1b2f6",
   "metadata": {},
   "source": [
    "Existen varias operaciones para cambiar la forma de un arreglo de numpy"
   ]
  },
  {
   "cell_type": "code",
   "execution_count": 18,
   "id": "962e7400",
   "metadata": {
    "execution": {
     "iopub.execute_input": "2021-06-10T03:05:58.352068Z",
     "iopub.status.busy": "2021-06-10T03:05:58.351463Z",
     "iopub.status.idle": "2021-06-10T03:05:58.354332Z",
     "shell.execute_reply": "2021-06-10T03:05:58.353880Z"
    }
   },
   "outputs": [
    {
     "data": {
      "text/plain": [
       "array([[ 1,  2,  3,  4],\n",
       "       [ 5,  6,  7,  8],\n",
       "       [ 9, 10, 11, 12]])"
      ]
     },
     "execution_count": 1,
     "metadata": {},
     "output_type": "execute_result"
    }
   ],
   "source": [
    "matriz_de_enteros"
   ]
  },
  {
   "cell_type": "code",
   "execution_count": 19,
   "id": "4438f456",
   "metadata": {
    "execution": {
     "iopub.execute_input": "2021-06-10T03:05:58.357874Z",
     "iopub.status.busy": "2021-06-10T03:05:58.357313Z",
     "iopub.status.idle": "2021-06-10T03:05:58.360302Z",
     "shell.execute_reply": "2021-06-10T03:05:58.359833Z"
    }
   },
   "outputs": [
    {
     "data": {
      "text/plain": [
       "2"
      ]
     },
     "execution_count": 1,
     "metadata": {},
     "output_type": "execute_result"
    }
   ],
   "source": [
    "# Obtener las dimensiones del arreglo\n",
    "\n",
    "matriz_de_enteros.ndim"
   ]
  },
  {
   "cell_type": "code",
   "execution_count": 20,
   "id": "a6d2a450",
   "metadata": {
    "execution": {
     "iopub.execute_input": "2021-06-10T03:05:58.364510Z",
     "iopub.status.busy": "2021-06-10T03:05:58.363966Z",
     "iopub.status.idle": "2021-06-10T03:05:58.367686Z",
     "shell.execute_reply": "2021-06-10T03:05:58.368174Z"
    }
   },
   "outputs": [
    {
     "data": {
      "text/plain": [
       "(3, 4)"
      ]
     },
     "execution_count": 1,
     "metadata": {},
     "output_type": "execute_result"
    }
   ],
   "source": [
    "# Obtener la forma del arreglo\n",
    "\n",
    "matriz_de_enteros.shape"
   ]
  },
  {
   "cell_type": "code",
   "execution_count": 21,
   "id": "d3d169c0",
   "metadata": {
    "execution": {
     "iopub.execute_input": "2021-06-10T03:05:58.373958Z",
     "iopub.status.busy": "2021-06-10T03:05:58.373376Z",
     "iopub.status.idle": "2021-06-10T03:05:58.376095Z",
     "shell.execute_reply": "2021-06-10T03:05:58.376550Z"
    }
   },
   "outputs": [
    {
     "name": "stdout",
     "output_type": "stream",
     "text": [
      "enteros: [ 3  6  9 12]\n"
     ]
    },
    {
     "data": {
      "text/plain": [
       "array([[ 3,  6],\n",
       "       [ 9, 12]])"
      ]
     },
     "execution_count": 1,
     "metadata": {},
     "output_type": "execute_result"
    }
   ],
   "source": [
    "# Modificar la forma de un arreglo\n",
    "\n",
    "enteros = np.array([3, 6, 9, 12])\n",
    "print(f\"enteros: {enteros}\")\n",
    "np.reshape(enteros, (2, 2))"
   ]
  },
  {
   "cell_type": "code",
   "execution_count": 22,
   "id": "d2beb6e2",
   "metadata": {
    "execution": {
     "iopub.execute_input": "2021-06-10T03:05:58.380417Z",
     "iopub.status.busy": "2021-06-10T03:05:58.379889Z",
     "iopub.status.idle": "2021-06-10T03:05:58.382525Z",
     "shell.execute_reply": "2021-06-10T03:05:58.382072Z"
    }
   },
   "outputs": [
    {
     "data": {
      "text/plain": [
       "array([[1., 1.],\n",
       "       [1., 1.]])"
      ]
     },
     "execution_count": 1,
     "metadata": {},
     "output_type": "execute_result"
    }
   ],
   "source": [
    "# Aplanar un arreglo\n",
    "\n",
    "a = np.ones((2, 2))\n",
    "a"
   ]
  },
  {
   "cell_type": "code",
   "execution_count": 23,
   "id": "8aadea12",
   "metadata": {
    "execution": {
     "iopub.execute_input": "2021-06-10T03:05:58.386971Z",
     "iopub.status.busy": "2021-06-10T03:05:58.386386Z",
     "iopub.status.idle": "2021-06-10T03:05:58.388289Z",
     "shell.execute_reply": "2021-06-10T03:05:58.388832Z"
    }
   },
   "outputs": [
    {
     "data": {
      "text/plain": [
       "array([1., 1., 1., 1.])"
      ]
     },
     "execution_count": 1,
     "metadata": {},
     "output_type": "execute_result"
    }
   ],
   "source": [
    "a.flatten()"
   ]
  },
  {
   "cell_type": "code",
   "execution_count": 24,
   "id": "864905d3",
   "metadata": {
    "execution": {
     "iopub.execute_input": "2021-06-10T03:05:58.392473Z",
     "iopub.status.busy": "2021-06-10T03:05:58.391926Z",
     "iopub.status.idle": "2021-06-10T03:05:58.394824Z",
     "shell.execute_reply": "2021-06-10T03:05:58.394425Z"
    },
    "lines_to_next_cell": 2
   },
   "outputs": [
    {
     "data": {
      "text/plain": [
       "array([[1., 1.],\n",
       "       [1., 1.]])"
      ]
     },
     "execution_count": 1,
     "metadata": {},
     "output_type": "execute_result"
    }
   ],
   "source": [
    "a"
   ]
  },
  {
   "cell_type": "markdown",
   "id": "7c4819b3",
   "metadata": {},
   "source": [
    "### Combinación de arreglos (Stacking)"
   ]
  },
  {
   "cell_type": "code",
   "execution_count": 25,
   "id": "708632c0",
   "metadata": {
    "execution": {
     "iopub.execute_input": "2021-06-10T03:05:58.398549Z",
     "iopub.status.busy": "2021-06-10T03:05:58.398038Z",
     "iopub.status.idle": "2021-06-10T03:05:58.401021Z",
     "shell.execute_reply": "2021-06-10T03:05:58.400601Z"
    }
   },
   "outputs": [
    {
     "data": {
      "text/plain": [
       "array([0, 1, 2, 3, 4])"
      ]
     },
     "execution_count": 1,
     "metadata": {},
     "output_type": "execute_result"
    }
   ],
   "source": [
    "# Los arreglos se pueden combinar verticalmente (se incrementa la cantidad de filas)\n",
    "\n",
    "a = np.arange(0, 5)\n",
    "a"
   ]
  },
  {
   "cell_type": "code",
   "execution_count": 26,
   "id": "3a20c6ca",
   "metadata": {
    "execution": {
     "iopub.execute_input": "2021-06-10T03:05:58.404696Z",
     "iopub.status.busy": "2021-06-10T03:05:58.404139Z",
     "iopub.status.idle": "2021-06-10T03:05:58.407399Z",
     "shell.execute_reply": "2021-06-10T03:05:58.406906Z"
    }
   },
   "outputs": [
    {
     "data": {
      "text/plain": [
       "array([5, 6, 7, 8, 9])"
      ]
     },
     "execution_count": 1,
     "metadata": {},
     "output_type": "execute_result"
    }
   ],
   "source": [
    "b = np.arange(5, 10)\n",
    "b"
   ]
  },
  {
   "cell_type": "code",
   "execution_count": 27,
   "id": "8d16f03e",
   "metadata": {
    "execution": {
     "iopub.execute_input": "2021-06-10T03:05:58.411478Z",
     "iopub.status.busy": "2021-06-10T03:05:58.410928Z",
     "iopub.status.idle": "2021-06-10T03:05:58.413763Z",
     "shell.execute_reply": "2021-06-10T03:05:58.413267Z"
    }
   },
   "outputs": [
    {
     "data": {
      "text/plain": [
       "array([[0, 1, 2, 3, 4],\n",
       "       [5, 6, 7, 8, 9]])"
      ]
     },
     "execution_count": 1,
     "metadata": {},
     "output_type": "execute_result"
    }
   ],
   "source": [
    "combinados_verticalmente = np.vstack((a, b))\n",
    "combinados_verticalmente"
   ]
  },
  {
   "cell_type": "code",
   "execution_count": 28,
   "id": "8b306655",
   "metadata": {
    "execution": {
     "iopub.execute_input": "2021-06-10T03:05:58.417749Z",
     "iopub.status.busy": "2021-06-10T03:05:58.417229Z",
     "iopub.status.idle": "2021-06-10T03:05:58.419632Z",
     "shell.execute_reply": "2021-06-10T03:05:58.420070Z"
    }
   },
   "outputs": [
    {
     "data": {
      "text/plain": [
       "array([0, 1, 2, 3, 4, 5, 6, 7, 8, 9])"
      ]
     },
     "execution_count": 1,
     "metadata": {},
     "output_type": "execute_result"
    }
   ],
   "source": [
    "# También se pueden combinar horizontalmente (se incrementa la cantidad de columnas)\n",
    "\n",
    "combinados_horizontalmente = np.hstack((a, b))\n",
    "combinados_horizontalmente"
   ]
  },
  {
   "cell_type": "markdown",
   "id": "9a7eb4b6",
   "metadata": {},
   "source": [
    "### Operaciones matemáticas"
   ]
  },
  {
   "cell_type": "code",
   "execution_count": 29,
   "id": "5c810e0e",
   "metadata": {
    "execution": {
     "iopub.execute_input": "2021-06-10T03:05:58.424499Z",
     "iopub.status.busy": "2021-06-10T03:05:58.423922Z",
     "iopub.status.idle": "2021-06-10T03:05:58.425861Z",
     "shell.execute_reply": "2021-06-10T03:05:58.426309Z"
    }
   },
   "outputs": [
    {
     "data": {
      "text/plain": [
       "array([3, 4, 5, 6])"
      ]
     },
     "execution_count": 1,
     "metadata": {},
     "output_type": "execute_result"
    }
   ],
   "source": [
    "a = np.array([1, 2, 3, 4])\n",
    "\n",
    "a + 2"
   ]
  },
  {
   "cell_type": "code",
   "execution_count": 30,
   "id": "2558492d",
   "metadata": {
    "execution": {
     "iopub.execute_input": "2021-06-10T03:05:58.430654Z",
     "iopub.status.busy": "2021-06-10T03:05:58.430029Z",
     "iopub.status.idle": "2021-06-10T03:05:58.432036Z",
     "shell.execute_reply": "2021-06-10T03:05:58.432457Z"
    }
   },
   "outputs": [
    {
     "data": {
      "text/plain": [
       "array([ 1,  4,  9, 16])"
      ]
     },
     "execution_count": 1,
     "metadata": {},
     "output_type": "execute_result"
    }
   ],
   "source": [
    "a ** 2"
   ]
  },
  {
   "cell_type": "code",
   "execution_count": 31,
   "id": "4edc8e08",
   "metadata": {
    "execution": {
     "iopub.execute_input": "2021-06-10T03:05:58.437045Z",
     "iopub.status.busy": "2021-06-10T03:05:58.436488Z",
     "iopub.status.idle": "2021-06-10T03:05:58.438939Z",
     "shell.execute_reply": "2021-06-10T03:05:58.439356Z"
    }
   },
   "outputs": [
    {
     "name": "stdout",
     "output_type": "stream",
     "text": [
      "b: [1. 1. 1. 1.]\n"
     ]
    },
    {
     "data": {
      "text/plain": [
       "array([2., 3., 4., 5.])"
      ]
     },
     "execution_count": 1,
     "metadata": {},
     "output_type": "execute_result"
    }
   ],
   "source": [
    "b = np.ones(4)\n",
    "print(f\"b: {b}\")\n",
    "a + b"
   ]
  },
  {
   "cell_type": "markdown",
   "id": "0b173430",
   "metadata": {},
   "source": [
    "### Estadística"
   ]
  },
  {
   "cell_type": "code",
   "execution_count": 32,
   "id": "b4d0ff61",
   "metadata": {
    "execution": {
     "iopub.execute_input": "2021-06-10T03:05:58.443436Z",
     "iopub.status.busy": "2021-06-10T03:05:58.442916Z",
     "iopub.status.idle": "2021-06-10T03:05:58.445421Z",
     "shell.execute_reply": "2021-06-10T03:05:58.445878Z"
    }
   },
   "outputs": [
    {
     "data": {
      "text/plain": [
       "1"
      ]
     },
     "execution_count": 1,
     "metadata": {},
     "output_type": "execute_result"
    }
   ],
   "source": [
    "a = np.array([[5, 2, 1, 8], [26, 4, 17, 9]])\n",
    "\n",
    "np.min(a)"
   ]
  },
  {
   "cell_type": "code",
   "execution_count": 33,
   "id": "34993f6a",
   "metadata": {
    "execution": {
     "iopub.execute_input": "2021-06-10T03:05:58.450342Z",
     "iopub.status.busy": "2021-06-10T03:05:58.449808Z",
     "iopub.status.idle": "2021-06-10T03:05:58.451646Z",
     "shell.execute_reply": "2021-06-10T03:05:58.452096Z"
    }
   },
   "outputs": [
    {
     "data": {
      "text/plain": [
       "26"
      ]
     },
     "execution_count": 1,
     "metadata": {},
     "output_type": "execute_result"
    }
   ],
   "source": [
    "np.max(a)"
   ]
  },
  {
   "cell_type": "code",
   "execution_count": 34,
   "id": "bb77c344",
   "metadata": {
    "execution": {
     "iopub.execute_input": "2021-06-10T03:05:58.455586Z",
     "iopub.status.busy": "2021-06-10T03:05:58.455027Z",
     "iopub.status.idle": "2021-06-10T03:05:58.457672Z",
     "shell.execute_reply": "2021-06-10T03:05:58.458138Z"
    }
   },
   "outputs": [
    {
     "data": {
      "text/plain": [
       "72"
      ]
     },
     "execution_count": 1,
     "metadata": {},
     "output_type": "execute_result"
    }
   ],
   "source": [
    "np.sum(a)"
   ]
  },
  {
   "cell_type": "markdown",
   "id": "76a5ed4a",
   "metadata": {},
   "source": [
    "### Más magia"
   ]
  },
  {
   "cell_type": "code",
   "execution_count": 35,
   "id": "d168a2a4",
   "metadata": {
    "execution": {
     "iopub.execute_input": "2021-06-10T03:05:58.462225Z",
     "iopub.status.busy": "2021-06-10T03:05:58.461704Z",
     "iopub.status.idle": "2021-06-10T03:05:58.464614Z",
     "shell.execute_reply": "2021-06-10T03:05:58.464140Z"
    }
   },
   "outputs": [
    {
     "data": {
      "text/plain": [
       "array([[False, False, False,  True],\n",
       "       [ True, False,  True,  True]])"
      ]
     },
     "execution_count": 1,
     "metadata": {},
     "output_type": "execute_result"
    }
   ],
   "source": [
    "a = np.array([[5, 2, 1, 8], [26, 4, 17, 9]])\n",
    "\n",
    "a > 5"
   ]
  },
  {
   "cell_type": "code",
   "execution_count": 36,
   "id": "9c488205",
   "metadata": {
    "execution": {
     "iopub.execute_input": "2021-06-10T03:05:58.470777Z",
     "iopub.status.busy": "2021-06-10T03:05:58.470204Z",
     "iopub.status.idle": "2021-06-10T03:05:58.472288Z",
     "shell.execute_reply": "2021-06-10T03:05:58.472882Z"
    }
   },
   "outputs": [
    {
     "data": {
      "text/plain": [
       "array([ 8, 26, 17,  9])"
      ]
     },
     "execution_count": 1,
     "metadata": {},
     "output_type": "execute_result"
    }
   ],
   "source": [
    "a[a > 5]"
   ]
  },
  {
   "cell_type": "markdown",
   "id": "d8f45f00",
   "metadata": {},
   "source": [
    "### Broadcasting"
   ]
  },
  {
   "cell_type": "markdown",
   "id": "1605aeb7",
   "metadata": {},
   "source": [
    "Permite realizar operaciones entre dos numpy arrays de distintas dimensiones.\n",
    "Para lograr esto, las dimensiones de los mismos deben ser compatibles. Dos dimensiones son compatibles cuando:\n",
    "1. Son iguales\n",
    "2. Alguna de las dos es 1"
   ]
  },
  {
   "cell_type": "code",
   "execution_count": 37,
   "id": "ebade24b",
   "metadata": {
    "execution": {
     "iopub.execute_input": "2021-06-10T03:05:58.476995Z",
     "iopub.status.busy": "2021-06-10T03:05:58.476440Z",
     "iopub.status.idle": "2021-06-10T03:05:58.478936Z",
     "shell.execute_reply": "2021-06-10T03:05:58.479366Z"
    }
   },
   "outputs": [
    {
     "data": {
      "text/plain": [
       "array([[ 5,  2,  1,  8],\n",
       "       [26,  4, 17,  9]])"
      ]
     },
     "execution_count": 1,
     "metadata": {},
     "output_type": "execute_result"
    }
   ],
   "source": [
    "a = np.array([[5, 2, 1, 8], [26, 4, 17, 9]])\n",
    "a"
   ]
  },
  {
   "cell_type": "code",
   "execution_count": 38,
   "id": "77bc1ee8",
   "metadata": {
    "execution": {
     "iopub.execute_input": "2021-06-10T03:05:58.483291Z",
     "iopub.status.busy": "2021-06-10T03:05:58.482728Z",
     "iopub.status.idle": "2021-06-10T03:05:58.486523Z",
     "shell.execute_reply": "2021-06-10T03:05:58.485998Z"
    }
   },
   "outputs": [
    {
     "name": "stdout",
     "output_type": "stream",
     "text": [
      "a: (2, 4)\n",
      "b: (4,)\n",
      "\n",
      "a + b:\n",
      " [[10  4  2 16]\n",
      " [31  6 18 17]]\n"
     ]
    }
   ],
   "source": [
    "# Armamos un array que tenga la misma cantidad de columnas que a\n",
    "b = np.array([5, 2, 1, 8])\n",
    "print(f\"a: {a.shape}\")\n",
    "print(f\"b: {b.shape}\")\n",
    "# a + b\n",
    "print()\n",
    "print(f\"a + b:\\n {a + b}\")"
   ]
  },
  {
   "cell_type": "code",
   "execution_count": 39,
   "id": "2852dc83",
   "metadata": {
    "execution": {
     "iopub.execute_input": "2021-06-10T03:05:58.491010Z",
     "iopub.status.busy": "2021-06-10T03:05:58.490450Z",
     "iopub.status.idle": "2021-06-10T03:05:58.556349Z",
     "shell.execute_reply": "2021-06-10T03:05:58.555500Z"
    },
    "tags": [
     "raises-exception"
    ]
   },
   "outputs": [
    {
     "name": "stdout",
     "output_type": "stream",
     "text": [
      "a: (2, 4)\n",
      "b: (3,)\n"
     ]
    },
    {
     "ename": "ValueError",
     "evalue": "operands could not be broadcast together with shapes (2,4) (3,) ",
     "output_type": "error",
     "traceback": [
      "\u001b[0;31m---------------------------------------------------------------------------\u001b[0m",
      "\u001b[0;31mValueError\u001b[0m                                Traceback (most recent call last)",
      "\u001b[0;32m<ipython-input-1-fe11b6ae6346>\u001b[0m in \u001b[0;36m<module>\u001b[0;34m\u001b[0m\n\u001b[1;32m      3\u001b[0m \u001b[0mprint\u001b[0m\u001b[0;34m(\u001b[0m\u001b[0;34mf\"a: {a.shape}\"\u001b[0m\u001b[0;34m)\u001b[0m\u001b[0;34m\u001b[0m\u001b[0;34m\u001b[0m\u001b[0m\n\u001b[1;32m      4\u001b[0m \u001b[0mprint\u001b[0m\u001b[0;34m(\u001b[0m\u001b[0;34mf\"b: {b.shape}\"\u001b[0m\u001b[0;34m)\u001b[0m\u001b[0;34m\u001b[0m\u001b[0;34m\u001b[0m\u001b[0m\n\u001b[0;32m----> 5\u001b[0;31m \u001b[0ma\u001b[0m \u001b[0;34m+\u001b[0m \u001b[0mb\u001b[0m\u001b[0;34m\u001b[0m\u001b[0;34m\u001b[0m\u001b[0m\n\u001b[0m",
      "\u001b[0;31mValueError\u001b[0m: operands could not be broadcast together with shapes (2,4) (3,) "
     ]
    }
   ],
   "source": [
    "# Armamos un array que tenga distinta cantidad de filas y columnas que a\n",
    "b = np.array([5, 1, 8])\n",
    "print(f\"a: {a.shape}\")\n",
    "print(f\"b: {b.shape}\")\n",
    "a + b"
   ]
  },
  {
   "cell_type": "code",
   "execution_count": 40,
   "id": "080f9e1f",
   "metadata": {
    "execution": {
     "iopub.execute_input": "2021-06-10T03:05:58.562782Z",
     "iopub.status.busy": "2021-06-10T03:05:58.562269Z",
     "iopub.status.idle": "2021-06-10T03:05:58.566003Z",
     "shell.execute_reply": "2021-06-10T03:05:58.565548Z"
    }
   },
   "outputs": [
    {
     "name": "stdout",
     "output_type": "stream",
     "text": [
      "a: (2, 4)\n",
      "b: (2, 1)\n"
     ]
    },
    {
     "data": {
      "text/plain": [
       "array([[ 7,  4,  3, 10],\n",
       "       [27,  5, 18, 10]])"
      ]
     },
     "execution_count": 1,
     "metadata": {},
     "output_type": "execute_result"
    }
   ],
   "source": [
    "# Armamos un array que tenga la misma cantidad de filas que a\n",
    "b = np.array([[2], [1]])\n",
    "print(f\"a: {a.shape}\")\n",
    "print(f\"b: {b.shape}\")\n",
    "a + b"
   ]
  },
  {
   "cell_type": "code",
   "execution_count": 41,
   "id": "efc96985",
   "metadata": {
    "execution": {
     "iopub.execute_input": "2021-06-10T03:05:58.569697Z",
     "iopub.status.busy": "2021-06-10T03:05:58.569147Z",
     "iopub.status.idle": "2021-06-10T03:05:58.575429Z",
     "shell.execute_reply": "2021-06-10T03:05:58.574970Z"
    }
   },
   "outputs": [
    {
     "data": {
      "text/plain": [
       "array([[ 9,  6,  5, 12],\n",
       "       [30,  8, 21, 13]])"
      ]
     },
     "execution_count": 1,
     "metadata": {},
     "output_type": "execute_result"
    }
   ],
   "source": [
    "# Si b es un entero\n",
    "b = 4\n",
    "a + b"
   ]
  },
  {
   "cell_type": "code",
   "execution_count": null,
   "id": "5fc04bac",
   "metadata": {},
   "outputs": [],
   "source": []
  }
 ],
 "metadata": {
  "jupytext": {
   "encoding": "# -*- coding: utf-8 -*-",
   "formats": "ipynb,py:light"
  },
  "kernelspec": {
   "display_name": "Python 3",
   "language": "python",
   "name": "python3"
  },
  "language_info": {
   "codemirror_mode": {
    "name": "ipython",
    "version": 3
   },
   "file_extension": ".py",
   "mimetype": "text/x-python",
   "name": "python",
   "nbconvert_exporter": "python",
   "pygments_lexer": "ipython3",
   "version": "3.7.10"
  }
 },
 "nbformat": 4,
 "nbformat_minor": 5
}
