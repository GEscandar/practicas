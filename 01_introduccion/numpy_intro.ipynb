{
 "cells": [
  {
   "cell_type": "markdown",
   "id": "60b56a7b",
   "metadata": {},
   "source": [
    "## Clase 1 - Introducción a Numpy\n",
    "\n",
    "Numpy es una biblioteca para Python que facilita el manejo de arreglos multidimensionales y ofrece varias herramientas para trabajar con ellos. Muchas de las bibliotecas de Python que son ampliamente usadas hoy en día, como pandas, están construidas sobre numpy.\n",
    "\n",
    "### Listas de Python vs arreglos de Numpy\n",
    "\n",
    "A primera vista, un arreglo de numpy puede resultar idéntico a una lista de python, pero a medida que la cantidad de datos comienza a incrementar, los arreglos de numpy terminan ofreciendo un manejo más eficiente de la memoria.\n",
    "\n",
    "Para comenzar, vamos a crear un arreglo de numpy:"
   ]
  },
  {
   "cell_type": "code",
   "execution_count": 1,
   "id": "ae207a2d",
   "metadata": {
    "execution": {
     "iopub.execute_input": "2021-11-02T17:50:28.934972Z",
     "iopub.status.busy": "2021-11-02T17:50:28.933917Z",
     "iopub.status.idle": "2021-11-02T17:50:29.110712Z",
     "shell.execute_reply": "2021-11-02T17:50:29.111408Z"
    }
   },
   "outputs": [
    {
     "data": {
      "text/plain": [
       "array([1, 2, 3, 4])"
      ]
     },
     "execution_count": 1,
     "metadata": {},
     "output_type": "execute_result"
    }
   ],
   "source": [
    "import numpy as np\n",
    "\n",
    "np.array([1, 2, 3, 4])"
   ]
  },
  {
   "cell_type": "markdown",
   "id": "d6a2c468",
   "metadata": {},
   "source": [
    "Los arreglos pueden ser también multidimensionales:"
   ]
  },
  {
   "cell_type": "code",
   "execution_count": 2,
   "id": "6f392f3b",
   "metadata": {
    "execution": {
     "iopub.execute_input": "2021-11-02T17:50:29.117895Z",
     "iopub.status.busy": "2021-11-02T17:50:29.114169Z",
     "iopub.status.idle": "2021-11-02T17:50:29.120782Z",
     "shell.execute_reply": "2021-11-02T17:50:29.121375Z"
    }
   },
   "outputs": [
    {
     "data": {
      "text/plain": [
       "array([[1, 2, 3, 4],\n",
       "       [5, 6, 7, 8]])"
      ]
     },
     "execution_count": 2,
     "metadata": {},
     "output_type": "execute_result"
    }
   ],
   "source": [
    "np.array([[1, 2, 3, 4], [5, 6, 7, 8]])"
   ]
  },
  {
   "cell_type": "markdown",
   "id": "14567d06",
   "metadata": {},
   "source": [
    "Es importante tener en cuenta que un arreglo de numpy tiene un tipo fijo de datos, entonces si se quiere agregar un dato de un tipo diferente al de la mayoría, este va a ser modificado para adaptarse al resto"
   ]
  },
  {
   "cell_type": "code",
   "execution_count": 3,
   "id": "5d7b7e32",
   "metadata": {
    "execution": {
     "iopub.execute_input": "2021-11-02T17:50:29.125861Z",
     "iopub.status.busy": "2021-11-02T17:50:29.125182Z",
     "iopub.status.idle": "2021-11-02T17:50:29.127855Z",
     "shell.execute_reply": "2021-11-02T17:50:29.127318Z"
    }
   },
   "outputs": [],
   "source": [
    "enteros = np.array([1, 2, 3, 4])"
   ]
  },
  {
   "cell_type": "markdown",
   "id": "2c06b38b",
   "metadata": {},
   "source": [
    "Agrego un elemento de tipo flotante en la posición 1"
   ]
  },
  {
   "cell_type": "code",
   "execution_count": 4,
   "id": "3ba32de7",
   "metadata": {
    "execution": {
     "iopub.execute_input": "2021-11-02T17:50:29.130641Z",
     "iopub.status.busy": "2021-11-02T17:50:29.130045Z",
     "iopub.status.idle": "2021-11-02T17:50:29.135899Z",
     "shell.execute_reply": "2021-11-02T17:50:29.135371Z"
    }
   },
   "outputs": [
    {
     "data": {
      "text/plain": [
       "array([1, 8, 3, 4])"
      ]
     },
     "execution_count": 4,
     "metadata": {},
     "output_type": "execute_result"
    }
   ],
   "source": [
    "enteros[1] = 8.4727\n",
    "enteros"
   ]
  },
  {
   "cell_type": "markdown",
   "id": "666deb82",
   "metadata": {},
   "source": [
    "Numpy también nos permite crear arreglos con valores aleatorios del 0 al 1.\n",
    "Basta con pasarle las dimensiones del arreglo que queremos crear."
   ]
  },
  {
   "cell_type": "code",
   "execution_count": 5,
   "id": "2c80bbbd",
   "metadata": {
    "execution": {
     "iopub.execute_input": "2021-11-02T17:50:29.142566Z",
     "iopub.status.busy": "2021-11-02T17:50:29.141761Z",
     "iopub.status.idle": "2021-11-02T17:50:29.144564Z",
     "shell.execute_reply": "2021-11-02T17:50:29.145029Z"
    }
   },
   "outputs": [
    {
     "data": {
      "text/plain": [
       "array([[0.0764473 , 0.76071496, 0.45577371],\n",
       "       [0.29052651, 0.35661049, 0.66110817]])"
      ]
     },
     "execution_count": 5,
     "metadata": {},
     "output_type": "execute_result"
    }
   ],
   "source": [
    "np.random.rand(2, 3)"
   ]
  },
  {
   "cell_type": "markdown",
   "id": "9b0ee8eb",
   "metadata": {},
   "source": [
    "## Slicing\n",
    "\n",
    "De la misma forma que con las listas de python, pueden obtenerse slices de los arreglos de numpy"
   ]
  },
  {
   "cell_type": "code",
   "execution_count": 6,
   "id": "5615a227",
   "metadata": {
    "execution": {
     "iopub.execute_input": "2021-11-02T17:50:29.150708Z",
     "iopub.status.busy": "2021-11-02T17:50:29.150123Z",
     "iopub.status.idle": "2021-11-02T17:50:29.153847Z",
     "shell.execute_reply": "2021-11-02T17:50:29.154322Z"
    },
    "lines_to_next_cell": 2
   },
   "outputs": [
    {
     "data": {
      "text/plain": [
       "array([1, 8])"
      ]
     },
     "execution_count": 6,
     "metadata": {},
     "output_type": "execute_result"
    }
   ],
   "source": [
    "enteros[:2]"
   ]
  },
  {
   "cell_type": "code",
   "execution_count": 7,
   "id": "6c8e9af8",
   "metadata": {
    "execution": {
     "iopub.execute_input": "2021-11-02T17:50:29.158658Z",
     "iopub.status.busy": "2021-11-02T17:50:29.156367Z",
     "iopub.status.idle": "2021-11-02T17:50:29.162722Z",
     "shell.execute_reply": "2021-11-02T17:50:29.163216Z"
    }
   },
   "outputs": [
    {
     "name": "stdout",
     "output_type": "stream",
     "text": [
      "Original: \n",
      "[[ 1  2  3  4]\n",
      " [ 5  6  7  8]\n",
      " [ 9 10 11 12]]\n",
      "\n",
      "Recortada: \n",
      "[[1 2 3]\n",
      " [5 6 7]]\n"
     ]
    }
   ],
   "source": [
    "matriz_de_enteros = np.array([[1, 2, 3, 4], [5, 6, 7, 8], [9, 10, 11, 12]])\n",
    "\n",
    "print('Original: ')\n",
    "print(matriz_de_enteros)\n",
    "\n",
    "print()\n",
    "\n",
    "print('Recortada: ')\n",
    "print(matriz_de_enteros[:2, :3])"
   ]
  },
  {
   "cell_type": "code",
   "execution_count": 8,
   "id": "94196c1d",
   "metadata": {
    "execution": {
     "iopub.execute_input": "2021-11-02T17:50:29.165750Z",
     "iopub.status.busy": "2021-11-02T17:50:29.165186Z",
     "iopub.status.idle": "2021-11-02T17:50:29.172863Z",
     "shell.execute_reply": "2021-11-02T17:50:29.172341Z"
    }
   },
   "outputs": [
    {
     "data": {
      "text/plain": [
       "array([[[ 0,  1,  2,  3,  4],\n",
       "        [ 5,  6,  7,  8,  9],\n",
       "        [10, 11, 12, 13, 14]],\n",
       "\n",
       "       [[15, 16, 17, 18, 19],\n",
       "        [20, 21, 22, 23, 24],\n",
       "        [25, 26, 27, 28, 29]],\n",
       "\n",
       "       [[30, 31, 32, 33, 34],\n",
       "        [35, 36, 37, 38, 39],\n",
       "        [40, 41, 42, 43, 44]]])"
      ]
     },
     "execution_count": 8,
     "metadata": {},
     "output_type": "execute_result"
    }
   ],
   "source": [
    "# 3D\n",
    "# arange() genera valores de un intervalo pasado por parámetro\n",
    "# reshape() modifica la forma del numpy array\n",
    "\n",
    "x = np.arange(45).reshape(3, 3, 5)\n",
    "x"
   ]
  },
  {
   "cell_type": "code",
   "execution_count": 9,
   "id": "5e673b48",
   "metadata": {
    "execution": {
     "iopub.execute_input": "2021-11-02T17:50:29.177755Z",
     "iopub.status.busy": "2021-11-02T17:50:29.176618Z",
     "iopub.status.idle": "2021-11-02T17:50:29.180601Z",
     "shell.execute_reply": "2021-11-02T17:50:29.181147Z"
    }
   },
   "outputs": [
    {
     "data": {
      "text/plain": [
       "array([[ 0,  1,  2,  3,  4],\n",
       "       [ 5,  6,  7,  8,  9],\n",
       "       [10, 11, 12, 13, 14]])"
      ]
     },
     "execution_count": 9,
     "metadata": {},
     "output_type": "execute_result"
    }
   ],
   "source": [
    "x[0]"
   ]
  },
  {
   "cell_type": "code",
   "execution_count": 10,
   "id": "286abe5d",
   "metadata": {
    "execution": {
     "iopub.execute_input": "2021-11-02T17:50:29.186482Z",
     "iopub.status.busy": "2021-11-02T17:50:29.185887Z",
     "iopub.status.idle": "2021-11-02T17:50:29.188458Z",
     "shell.execute_reply": "2021-11-02T17:50:29.188923Z"
    }
   },
   "outputs": [
    {
     "data": {
      "text/plain": [
       "array([5, 6, 7, 8, 9])"
      ]
     },
     "execution_count": 10,
     "metadata": {},
     "output_type": "execute_result"
    }
   ],
   "source": [
    "x[0][1]"
   ]
  },
  {
   "cell_type": "code",
   "execution_count": 11,
   "id": "2aa7f13c",
   "metadata": {
    "execution": {
     "iopub.execute_input": "2021-11-02T17:50:29.191585Z",
     "iopub.status.busy": "2021-11-02T17:50:29.191025Z",
     "iopub.status.idle": "2021-11-02T17:50:29.196045Z",
     "shell.execute_reply": "2021-11-02T17:50:29.196543Z"
    }
   },
   "outputs": [
    {
     "data": {
      "text/plain": [
       "7"
      ]
     },
     "execution_count": 11,
     "metadata": {},
     "output_type": "execute_result"
    }
   ],
   "source": [
    "x[0][1][2]"
   ]
  },
  {
   "cell_type": "markdown",
   "id": "f1f384f4",
   "metadata": {},
   "source": [
    "\n",
    "¿Cómo conseguimos estos valores? ([fuente](https://towardsdatascience.com/indexing-and-slicing-of-1d-2d-and-3d-arrays-in-numpy-e731afff0bbe))\n",
    "\n",
    "![title](img/matrix.png)"
   ]
  },
  {
   "cell_type": "code",
   "execution_count": 12,
   "id": "551caf2b",
   "metadata": {
    "execution": {
     "iopub.execute_input": "2021-11-02T17:50:29.199096Z",
     "iopub.status.busy": "2021-11-02T17:50:29.198539Z",
     "iopub.status.idle": "2021-11-02T17:50:29.203807Z",
     "shell.execute_reply": "2021-11-02T17:50:29.204461Z"
    }
   },
   "outputs": [
    {
     "data": {
      "text/plain": [
       "array([[[16, 17, 18],\n",
       "        [21, 22, 23]],\n",
       "\n",
       "       [[31, 32, 33],\n",
       "        [36, 37, 38]]])"
      ]
     },
     "execution_count": 12,
     "metadata": {},
     "output_type": "execute_result"
    }
   ],
   "source": [
    "x[1:, 0:2, 1:4]"
   ]
  },
  {
   "cell_type": "markdown",
   "id": "451b672f",
   "metadata": {},
   "source": [
    "### Copia de arreglos"
   ]
  },
  {
   "cell_type": "code",
   "execution_count": 13,
   "id": "131be2e0",
   "metadata": {
    "execution": {
     "iopub.execute_input": "2021-11-02T17:50:29.210370Z",
     "iopub.status.busy": "2021-11-02T17:50:29.209801Z",
     "iopub.status.idle": "2021-11-02T17:50:29.212433Z",
     "shell.execute_reply": "2021-11-02T17:50:29.212922Z"
    }
   },
   "outputs": [
    {
     "data": {
      "text/plain": [
       "array([1, 2, 3, 4])"
      ]
     },
     "execution_count": 13,
     "metadata": {},
     "output_type": "execute_result"
    }
   ],
   "source": [
    "# Los arreglos no se copian con asignación\n",
    "\n",
    "a = np.array([1, 2, 3, 4])\n",
    "b = a\n",
    "b"
   ]
  },
  {
   "cell_type": "code",
   "execution_count": 14,
   "id": "1664ab67",
   "metadata": {
    "execution": {
     "iopub.execute_input": "2021-11-02T17:50:29.215447Z",
     "iopub.status.busy": "2021-11-02T17:50:29.214889Z",
     "iopub.status.idle": "2021-11-02T17:50:29.219795Z",
     "shell.execute_reply": "2021-11-02T17:50:29.220288Z"
    }
   },
   "outputs": [
    {
     "data": {
      "text/plain": [
       "array([ 1, 20,  3,  4])"
      ]
     },
     "execution_count": 14,
     "metadata": {},
     "output_type": "execute_result"
    }
   ],
   "source": [
    "b[1] = 20\n",
    "b"
   ]
  },
  {
   "cell_type": "code",
   "execution_count": 15,
   "id": "e9bf0026",
   "metadata": {
    "execution": {
     "iopub.execute_input": "2021-11-02T17:50:29.222966Z",
     "iopub.status.busy": "2021-11-02T17:50:29.222370Z",
     "iopub.status.idle": "2021-11-02T17:50:29.227516Z",
     "shell.execute_reply": "2021-11-02T17:50:29.227010Z"
    }
   },
   "outputs": [
    {
     "data": {
      "text/plain": [
       "array([ 1, 20,  3,  4])"
      ]
     },
     "execution_count": 15,
     "metadata": {},
     "output_type": "execute_result"
    }
   ],
   "source": [
    "a"
   ]
  },
  {
   "cell_type": "code",
   "execution_count": 16,
   "id": "668ca3ef",
   "metadata": {
    "execution": {
     "iopub.execute_input": "2021-11-02T17:50:29.233252Z",
     "iopub.status.busy": "2021-11-02T17:50:29.232689Z",
     "iopub.status.idle": "2021-11-02T17:50:29.237407Z",
     "shell.execute_reply": "2021-11-02T17:50:29.236926Z"
    }
   },
   "outputs": [
    {
     "data": {
      "text/plain": [
       "array([ 1, 20,  3,  4])"
      ]
     },
     "execution_count": 16,
     "metadata": {},
     "output_type": "execute_result"
    }
   ],
   "source": [
    "# Para copiar un arreglo a otra variable debemos usar copy()\n",
    "\n",
    "a = np.array([1, 2, 3, 4])\n",
    "b = a.copy()\n",
    "b[1] = 20\n",
    "b"
   ]
  },
  {
   "cell_type": "code",
   "execution_count": 17,
   "id": "7a522d8f",
   "metadata": {
    "execution": {
     "iopub.execute_input": "2021-11-02T17:50:29.243137Z",
     "iopub.status.busy": "2021-11-02T17:50:29.242166Z",
     "iopub.status.idle": "2021-11-02T17:50:29.245185Z",
     "shell.execute_reply": "2021-11-02T17:50:29.245664Z"
    }
   },
   "outputs": [
    {
     "data": {
      "text/plain": [
       "array([1, 2, 3, 4])"
      ]
     },
     "execution_count": 17,
     "metadata": {},
     "output_type": "execute_result"
    }
   ],
   "source": [
    "a"
   ]
  },
  {
   "cell_type": "markdown",
   "id": "a320ff5b",
   "metadata": {},
   "source": [
    "### Modificación de dimensiones"
   ]
  },
  {
   "cell_type": "markdown",
   "id": "c365c44e",
   "metadata": {},
   "source": [
    "Existen varias operaciones para cambiar la forma de un arreglo de numpy"
   ]
  },
  {
   "cell_type": "code",
   "execution_count": 18,
   "id": "788c0eed",
   "metadata": {
    "execution": {
     "iopub.execute_input": "2021-11-02T17:50:29.248577Z",
     "iopub.status.busy": "2021-11-02T17:50:29.247889Z",
     "iopub.status.idle": "2021-11-02T17:50:29.254995Z",
     "shell.execute_reply": "2021-11-02T17:50:29.255585Z"
    }
   },
   "outputs": [
    {
     "data": {
      "text/plain": [
       "array([[ 1,  2,  3,  4],\n",
       "       [ 5,  6,  7,  8],\n",
       "       [ 9, 10, 11, 12]])"
      ]
     },
     "execution_count": 18,
     "metadata": {},
     "output_type": "execute_result"
    }
   ],
   "source": [
    "matriz_de_enteros"
   ]
  },
  {
   "cell_type": "code",
   "execution_count": 19,
   "id": "fab2fcd9",
   "metadata": {
    "execution": {
     "iopub.execute_input": "2021-11-02T17:50:29.261223Z",
     "iopub.status.busy": "2021-11-02T17:50:29.260650Z",
     "iopub.status.idle": "2021-11-02T17:50:29.263946Z",
     "shell.execute_reply": "2021-11-02T17:50:29.264416Z"
    }
   },
   "outputs": [
    {
     "data": {
      "text/plain": [
       "2"
      ]
     },
     "execution_count": 19,
     "metadata": {},
     "output_type": "execute_result"
    }
   ],
   "source": [
    "# Obtener las dimensiones del arreglo\n",
    "\n",
    "matriz_de_enteros.ndim"
   ]
  },
  {
   "cell_type": "code",
   "execution_count": 20,
   "id": "968d0145",
   "metadata": {
    "execution": {
     "iopub.execute_input": "2021-11-02T17:50:29.268427Z",
     "iopub.status.busy": "2021-11-02T17:50:29.267863Z",
     "iopub.status.idle": "2021-11-02T17:50:29.270990Z",
     "shell.execute_reply": "2021-11-02T17:50:29.271486Z"
    }
   },
   "outputs": [
    {
     "data": {
      "text/plain": [
       "(3, 4)"
      ]
     },
     "execution_count": 20,
     "metadata": {},
     "output_type": "execute_result"
    }
   ],
   "source": [
    "# Obtener la forma del arreglo\n",
    "\n",
    "matriz_de_enteros.shape"
   ]
  },
  {
   "cell_type": "code",
   "execution_count": 21,
   "id": "7c17f043",
   "metadata": {
    "execution": {
     "iopub.execute_input": "2021-11-02T17:50:29.279312Z",
     "iopub.status.busy": "2021-11-02T17:50:29.278718Z",
     "iopub.status.idle": "2021-11-02T17:50:29.282837Z",
     "shell.execute_reply": "2021-11-02T17:50:29.282178Z"
    }
   },
   "outputs": [
    {
     "name": "stdout",
     "output_type": "stream",
     "text": [
      "enteros: [ 3  6  9 12]\n"
     ]
    },
    {
     "data": {
      "text/plain": [
       "array([[ 3,  6],\n",
       "       [ 9, 12]])"
      ]
     },
     "execution_count": 21,
     "metadata": {},
     "output_type": "execute_result"
    }
   ],
   "source": [
    "# Modificar la forma de un arreglo\n",
    "\n",
    "enteros = np.array([3, 6, 9, 12])\n",
    "print(f\"enteros: {enteros}\")\n",
    "np.reshape(enteros, (2, 2))"
   ]
  },
  {
   "cell_type": "code",
   "execution_count": 22,
   "id": "5fe429ab",
   "metadata": {
    "execution": {
     "iopub.execute_input": "2021-11-02T17:50:29.287610Z",
     "iopub.status.busy": "2021-11-02T17:50:29.286984Z",
     "iopub.status.idle": "2021-11-02T17:50:29.289880Z",
     "shell.execute_reply": "2021-11-02T17:50:29.290430Z"
    }
   },
   "outputs": [
    {
     "data": {
      "text/plain": [
       "array([[1., 1.],\n",
       "       [1., 1.]])"
      ]
     },
     "execution_count": 22,
     "metadata": {},
     "output_type": "execute_result"
    }
   ],
   "source": [
    "# Aplanar un arreglo\n",
    "\n",
    "a = np.ones((2, 2))\n",
    "a"
   ]
  },
  {
   "cell_type": "code",
   "execution_count": 23,
   "id": "3c159fc0",
   "metadata": {
    "execution": {
     "iopub.execute_input": "2021-11-02T17:50:29.295454Z",
     "iopub.status.busy": "2021-11-02T17:50:29.294888Z",
     "iopub.status.idle": "2021-11-02T17:50:29.297638Z",
     "shell.execute_reply": "2021-11-02T17:50:29.298103Z"
    }
   },
   "outputs": [
    {
     "data": {
      "text/plain": [
       "array([1., 1., 1., 1.])"
      ]
     },
     "execution_count": 23,
     "metadata": {},
     "output_type": "execute_result"
    }
   ],
   "source": [
    "a.flatten()"
   ]
  },
  {
   "cell_type": "code",
   "execution_count": 24,
   "id": "66b55b02",
   "metadata": {
    "execution": {
     "iopub.execute_input": "2021-11-02T17:50:29.302821Z",
     "iopub.status.busy": "2021-11-02T17:50:29.302143Z",
     "iopub.status.idle": "2021-11-02T17:50:29.304899Z",
     "shell.execute_reply": "2021-11-02T17:50:29.305365Z"
    },
    "lines_to_next_cell": 2
   },
   "outputs": [
    {
     "data": {
      "text/plain": [
       "array([[1., 1.],\n",
       "       [1., 1.]])"
      ]
     },
     "execution_count": 24,
     "metadata": {},
     "output_type": "execute_result"
    }
   ],
   "source": [
    "a"
   ]
  },
  {
   "cell_type": "markdown",
   "id": "87a07daf",
   "metadata": {},
   "source": [
    "### Combinación de arreglos (Stacking)"
   ]
  },
  {
   "cell_type": "code",
   "execution_count": 25,
   "id": "8930674c",
   "metadata": {
    "execution": {
     "iopub.execute_input": "2021-11-02T17:50:29.310219Z",
     "iopub.status.busy": "2021-11-02T17:50:29.309650Z",
     "iopub.status.idle": "2021-11-02T17:50:29.312063Z",
     "shell.execute_reply": "2021-11-02T17:50:29.312754Z"
    }
   },
   "outputs": [
    {
     "data": {
      "text/plain": [
       "array([0, 1, 2, 3, 4])"
      ]
     },
     "execution_count": 25,
     "metadata": {},
     "output_type": "execute_result"
    }
   ],
   "source": [
    "# Los arreglos se pueden combinar verticalmente (se incrementa la cantidad de filas)\n",
    "\n",
    "a = np.arange(0, 5)\n",
    "a"
   ]
  },
  {
   "cell_type": "code",
   "execution_count": 26,
   "id": "62638177",
   "metadata": {
    "execution": {
     "iopub.execute_input": "2021-11-02T17:50:29.317045Z",
     "iopub.status.busy": "2021-11-02T17:50:29.316476Z",
     "iopub.status.idle": "2021-11-02T17:50:29.320228Z",
     "shell.execute_reply": "2021-11-02T17:50:29.319623Z"
    }
   },
   "outputs": [
    {
     "data": {
      "text/plain": [
       "array([5, 6, 7, 8, 9])"
      ]
     },
     "execution_count": 26,
     "metadata": {},
     "output_type": "execute_result"
    }
   ],
   "source": [
    "b = np.arange(5, 10)\n",
    "b"
   ]
  },
  {
   "cell_type": "code",
   "execution_count": 27,
   "id": "63cc7427",
   "metadata": {
    "execution": {
     "iopub.execute_input": "2021-11-02T17:50:29.325234Z",
     "iopub.status.busy": "2021-11-02T17:50:29.324666Z",
     "iopub.status.idle": "2021-11-02T17:50:29.327248Z",
     "shell.execute_reply": "2021-11-02T17:50:29.327717Z"
    }
   },
   "outputs": [
    {
     "data": {
      "text/plain": [
       "array([[0, 1, 2, 3, 4],\n",
       "       [5, 6, 7, 8, 9]])"
      ]
     },
     "execution_count": 27,
     "metadata": {},
     "output_type": "execute_result"
    }
   ],
   "source": [
    "combinados_verticalmente = np.vstack((a, b))\n",
    "combinados_verticalmente"
   ]
  },
  {
   "cell_type": "code",
   "execution_count": 28,
   "id": "2283b376",
   "metadata": {
    "execution": {
     "iopub.execute_input": "2021-11-02T17:50:29.332580Z",
     "iopub.status.busy": "2021-11-02T17:50:29.332011Z",
     "iopub.status.idle": "2021-11-02T17:50:29.334866Z",
     "shell.execute_reply": "2021-11-02T17:50:29.335333Z"
    }
   },
   "outputs": [
    {
     "data": {
      "text/plain": [
       "array([0, 1, 2, 3, 4, 5, 6, 7, 8, 9])"
      ]
     },
     "execution_count": 28,
     "metadata": {},
     "output_type": "execute_result"
    }
   ],
   "source": [
    "# También se pueden combinar horizontalmente (se incrementa la cantidad de columnas)\n",
    "\n",
    "combinados_horizontalmente = np.hstack((a, b))\n",
    "combinados_horizontalmente"
   ]
  },
  {
   "cell_type": "markdown",
   "id": "ed843510",
   "metadata": {},
   "source": [
    "### Operaciones matemáticas"
   ]
  },
  {
   "cell_type": "code",
   "execution_count": 29,
   "id": "d4e25df7",
   "metadata": {
    "execution": {
     "iopub.execute_input": "2021-11-02T17:50:29.340021Z",
     "iopub.status.busy": "2021-11-02T17:50:29.339420Z",
     "iopub.status.idle": "2021-11-02T17:50:29.342128Z",
     "shell.execute_reply": "2021-11-02T17:50:29.342592Z"
    }
   },
   "outputs": [
    {
     "data": {
      "text/plain": [
       "array([3, 4, 5, 6])"
      ]
     },
     "execution_count": 29,
     "metadata": {},
     "output_type": "execute_result"
    }
   ],
   "source": [
    "a = np.array([1, 2, 3, 4])\n",
    "\n",
    "a + 2"
   ]
  },
  {
   "cell_type": "code",
   "execution_count": 30,
   "id": "fc4e6718",
   "metadata": {
    "execution": {
     "iopub.execute_input": "2021-11-02T17:50:29.347185Z",
     "iopub.status.busy": "2021-11-02T17:50:29.346601Z",
     "iopub.status.idle": "2021-11-02T17:50:29.349385Z",
     "shell.execute_reply": "2021-11-02T17:50:29.349877Z"
    }
   },
   "outputs": [
    {
     "data": {
      "text/plain": [
       "array([ 1,  4,  9, 16])"
      ]
     },
     "execution_count": 30,
     "metadata": {},
     "output_type": "execute_result"
    }
   ],
   "source": [
    "a ** 2"
   ]
  },
  {
   "cell_type": "code",
   "execution_count": 31,
   "id": "e0e52c0c",
   "metadata": {
    "execution": {
     "iopub.execute_input": "2021-11-02T17:50:29.358018Z",
     "iopub.status.busy": "2021-11-02T17:50:29.356969Z",
     "iopub.status.idle": "2021-11-02T17:50:29.361763Z",
     "shell.execute_reply": "2021-11-02T17:50:29.361259Z"
    }
   },
   "outputs": [
    {
     "name": "stdout",
     "output_type": "stream",
     "text": [
      "b: [1. 1. 1. 1.]\n"
     ]
    },
    {
     "data": {
      "text/plain": [
       "array([2., 3., 4., 5.])"
      ]
     },
     "execution_count": 31,
     "metadata": {},
     "output_type": "execute_result"
    }
   ],
   "source": [
    "b = np.ones(4)\n",
    "print(f\"b: {b}\")\n",
    "a + b"
   ]
  },
  {
   "cell_type": "markdown",
   "id": "b784be9d",
   "metadata": {},
   "source": [
    "### Estadística"
   ]
  },
  {
   "cell_type": "code",
   "execution_count": 32,
   "id": "e69a62e4",
   "metadata": {
    "execution": {
     "iopub.execute_input": "2021-11-02T17:50:29.367942Z",
     "iopub.status.busy": "2021-11-02T17:50:29.367039Z",
     "iopub.status.idle": "2021-11-02T17:50:29.370379Z",
     "shell.execute_reply": "2021-11-02T17:50:29.370843Z"
    }
   },
   "outputs": [
    {
     "data": {
      "text/plain": [
       "1"
      ]
     },
     "execution_count": 32,
     "metadata": {},
     "output_type": "execute_result"
    }
   ],
   "source": [
    "a = np.array([[5, 2, 1, 8], [26, 4, 17, 9]])\n",
    "\n",
    "np.min(a)"
   ]
  },
  {
   "cell_type": "code",
   "execution_count": 33,
   "id": "c558437e",
   "metadata": {
    "execution": {
     "iopub.execute_input": "2021-11-02T17:50:29.376908Z",
     "iopub.status.busy": "2021-11-02T17:50:29.375879Z",
     "iopub.status.idle": "2021-11-02T17:50:29.379114Z",
     "shell.execute_reply": "2021-11-02T17:50:29.379580Z"
    }
   },
   "outputs": [
    {
     "data": {
      "text/plain": [
       "26"
      ]
     },
     "execution_count": 33,
     "metadata": {},
     "output_type": "execute_result"
    }
   ],
   "source": [
    "np.max(a)"
   ]
  },
  {
   "cell_type": "code",
   "execution_count": 34,
   "id": "1ec6e9d8",
   "metadata": {
    "execution": {
     "iopub.execute_input": "2021-11-02T17:50:29.384070Z",
     "iopub.status.busy": "2021-11-02T17:50:29.383471Z",
     "iopub.status.idle": "2021-11-02T17:50:29.386220Z",
     "shell.execute_reply": "2021-11-02T17:50:29.386715Z"
    }
   },
   "outputs": [
    {
     "data": {
      "text/plain": [
       "72"
      ]
     },
     "execution_count": 34,
     "metadata": {},
     "output_type": "execute_result"
    }
   ],
   "source": [
    "np.sum(a)"
   ]
  },
  {
   "cell_type": "markdown",
   "id": "8d7f5b2b",
   "metadata": {},
   "source": [
    "### Más magia"
   ]
  },
  {
   "cell_type": "code",
   "execution_count": 35,
   "id": "f0147058",
   "metadata": {
    "execution": {
     "iopub.execute_input": "2021-11-02T17:50:29.391648Z",
     "iopub.status.busy": "2021-11-02T17:50:29.391005Z",
     "iopub.status.idle": "2021-11-02T17:50:29.394151Z",
     "shell.execute_reply": "2021-11-02T17:50:29.394589Z"
    }
   },
   "outputs": [
    {
     "data": {
      "text/plain": [
       "array([[False, False, False,  True],\n",
       "       [ True, False,  True,  True]])"
      ]
     },
     "execution_count": 35,
     "metadata": {},
     "output_type": "execute_result"
    }
   ],
   "source": [
    "a = np.array([[5, 2, 1, 8], [26, 4, 17, 9]])\n",
    "\n",
    "a > 5"
   ]
  },
  {
   "cell_type": "code",
   "execution_count": 36,
   "id": "ebf55cd0",
   "metadata": {
    "execution": {
     "iopub.execute_input": "2021-11-02T17:50:29.398967Z",
     "iopub.status.busy": "2021-11-02T17:50:29.398410Z",
     "iopub.status.idle": "2021-11-02T17:50:29.400989Z",
     "shell.execute_reply": "2021-11-02T17:50:29.401536Z"
    }
   },
   "outputs": [
    {
     "data": {
      "text/plain": [
       "array([ 8, 26, 17,  9])"
      ]
     },
     "execution_count": 36,
     "metadata": {},
     "output_type": "execute_result"
    }
   ],
   "source": [
    "a[a > 5]"
   ]
  },
  {
   "cell_type": "markdown",
   "id": "7498818a",
   "metadata": {},
   "source": [
    "### Broadcasting"
   ]
  },
  {
   "cell_type": "markdown",
   "id": "c9229cfe",
   "metadata": {},
   "source": [
    "Permite realizar operaciones entre dos numpy arrays de distintas dimensiones.\n",
    "Para lograr esto, las dimensiones de los mismos deben ser compatibles. Dos dimensiones son compatibles cuando:\n",
    "1. Son iguales\n",
    "2. Alguna de las dos es 1"
   ]
  },
  {
   "cell_type": "code",
   "execution_count": 37,
   "id": "4146cc36",
   "metadata": {
    "execution": {
     "iopub.execute_input": "2021-11-02T17:50:29.406613Z",
     "iopub.status.busy": "2021-11-02T17:50:29.406042Z",
     "iopub.status.idle": "2021-11-02T17:50:29.408716Z",
     "shell.execute_reply": "2021-11-02T17:50:29.409207Z"
    }
   },
   "outputs": [
    {
     "data": {
      "text/plain": [
       "array([[ 5,  2,  1,  8],\n",
       "       [26,  4, 17,  9]])"
      ]
     },
     "execution_count": 37,
     "metadata": {},
     "output_type": "execute_result"
    }
   ],
   "source": [
    "a = np.array([[5, 2, 1, 8], [26, 4, 17, 9]])\n",
    "a"
   ]
  },
  {
   "cell_type": "code",
   "execution_count": 38,
   "id": "252570c9",
   "metadata": {
    "execution": {
     "iopub.execute_input": "2021-11-02T17:50:29.415144Z",
     "iopub.status.busy": "2021-11-02T17:50:29.414579Z",
     "iopub.status.idle": "2021-11-02T17:50:29.416716Z",
     "shell.execute_reply": "2021-11-02T17:50:29.417183Z"
    }
   },
   "outputs": [
    {
     "name": "stdout",
     "output_type": "stream",
     "text": [
      "a: (2, 4)\n",
      "b: (4,)\n",
      "\n",
      "a + b:\n",
      " [[10  4  2 16]\n",
      " [31  6 18 17]]\n"
     ]
    }
   ],
   "source": [
    "# Armamos un array que tenga la misma cantidad de columnas que a\n",
    "b = np.array([5, 2, 1, 8])\n",
    "print(f\"a: {a.shape}\")\n",
    "print(f\"b: {b.shape}\")\n",
    "# a + b\n",
    "print()\n",
    "print(f\"a + b:\\n {a + b}\")"
   ]
  },
  {
   "cell_type": "code",
   "execution_count": 39,
   "id": "5d8a9a3c",
   "metadata": {
    "execution": {
     "iopub.execute_input": "2021-11-02T17:50:29.421560Z",
     "iopub.status.busy": "2021-11-02T17:50:29.420911Z",
     "iopub.status.idle": "2021-11-02T17:50:29.499217Z",
     "shell.execute_reply": "2021-11-02T17:50:29.499709Z"
    },
    "tags": [
     "raises-exception"
    ]
   },
   "outputs": [
    {
     "name": "stdout",
     "output_type": "stream",
     "text": [
      "a: (2, 4)\n",
      "b: (3,)\n"
     ]
    },
    {
     "ename": "ValueError",
     "evalue": "operands could not be broadcast together with shapes (2,4) (3,) ",
     "output_type": "error",
     "traceback": [
      "\u001b[0;31m---------------------------------------------------------------------------\u001b[0m",
      "\u001b[0;31mValueError\u001b[0m                                Traceback (most recent call last)",
      "\u001b[0;32m/tmp/ipykernel_2576/261865458.py\u001b[0m in \u001b[0;36m<module>\u001b[0;34m\u001b[0m\n\u001b[1;32m      3\u001b[0m \u001b[0mprint\u001b[0m\u001b[0;34m(\u001b[0m\u001b[0;34mf\"a: {a.shape}\"\u001b[0m\u001b[0;34m)\u001b[0m\u001b[0;34m\u001b[0m\u001b[0;34m\u001b[0m\u001b[0m\n\u001b[1;32m      4\u001b[0m \u001b[0mprint\u001b[0m\u001b[0;34m(\u001b[0m\u001b[0;34mf\"b: {b.shape}\"\u001b[0m\u001b[0;34m)\u001b[0m\u001b[0;34m\u001b[0m\u001b[0;34m\u001b[0m\u001b[0m\n\u001b[0;32m----> 5\u001b[0;31m \u001b[0ma\u001b[0m \u001b[0;34m+\u001b[0m \u001b[0mb\u001b[0m\u001b[0;34m\u001b[0m\u001b[0;34m\u001b[0m\u001b[0m\n\u001b[0m",
      "\u001b[0;31mValueError\u001b[0m: operands could not be broadcast together with shapes (2,4) (3,) "
     ]
    }
   ],
   "source": [
    "# Armamos un array que tenga distinta cantidad de filas y columnas que a\n",
    "b = np.array([5, 1, 8])\n",
    "print(f\"a: {a.shape}\")\n",
    "print(f\"b: {b.shape}\")\n",
    "a + b"
   ]
  },
  {
   "cell_type": "code",
   "execution_count": 40,
   "id": "bf0ad429",
   "metadata": {
    "execution": {
     "iopub.execute_input": "2021-11-02T17:50:29.505865Z",
     "iopub.status.busy": "2021-11-02T17:50:29.505230Z",
     "iopub.status.idle": "2021-11-02T17:50:29.510162Z",
     "shell.execute_reply": "2021-11-02T17:50:29.510716Z"
    }
   },
   "outputs": [
    {
     "name": "stdout",
     "output_type": "stream",
     "text": [
      "a: (2, 4)\n",
      "b: (2, 1)\n"
     ]
    },
    {
     "data": {
      "text/plain": [
       "array([[ 7,  4,  3, 10],\n",
       "       [27,  5, 18, 10]])"
      ]
     },
     "execution_count": 40,
     "metadata": {},
     "output_type": "execute_result"
    }
   ],
   "source": [
    "# Armamos un array que tenga la misma cantidad de filas que a\n",
    "b = np.array([[2], [1]])\n",
    "print(f\"a: {a.shape}\")\n",
    "print(f\"b: {b.shape}\")\n",
    "a + b"
   ]
  },
  {
   "cell_type": "code",
   "execution_count": 41,
   "id": "fc54e076",
   "metadata": {
    "execution": {
     "iopub.execute_input": "2021-11-02T17:50:29.517803Z",
     "iopub.status.busy": "2021-11-02T17:50:29.516517Z",
     "iopub.status.idle": "2021-11-02T17:50:29.520470Z",
     "shell.execute_reply": "2021-11-02T17:50:29.519867Z"
    }
   },
   "outputs": [
    {
     "data": {
      "text/plain": [
       "array([[ 9,  6,  5, 12],\n",
       "       [30,  8, 21, 13]])"
      ]
     },
     "execution_count": 41,
     "metadata": {},
     "output_type": "execute_result"
    }
   ],
   "source": [
    "# Si b es un entero\n",
    "b = 4\n",
    "a + b"
   ]
  },
  {
   "cell_type": "code",
   "execution_count": null,
   "id": "149e9178",
   "metadata": {},
   "outputs": [],
   "source": []
  }
 ],
 "metadata": {
  "jupytext": {
   "encoding": "# -*- coding: utf-8 -*-",
   "formats": "ipynb,py:light"
  },
  "kernelspec": {
   "display_name": "Python 3",
   "language": "python",
   "name": "python3"
  },
  "language_info": {
   "codemirror_mode": {
    "name": "ipython",
    "version": 3
   },
   "file_extension": ".py",
   "mimetype": "text/x-python",
   "name": "python",
   "nbconvert_exporter": "python",
   "pygments_lexer": "ipython3",
   "version": "3.7.12"
  }
 },
 "nbformat": 4,
 "nbformat_minor": 5
}
