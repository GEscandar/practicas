{
 "cells": [
  {
   "cell_type": "markdown",
   "id": "e64bb81b",
   "metadata": {},
   "source": [
    "## Clase 1 - Introducción a Numpy\n",
    "\n",
    "Numpy es una biblioteca para Python que facilita el manejo de arreglos multidimensionales y ofrece varias herramientas para trabajar con ellos. Muchas de las bibliotecas de Python que son ampliamente usadas hoy en día, como pandas, están construidas sobre numpy.\n",
    "\n",
    "### Listas de Python vs arreglos de Numpy\n",
    "\n",
    "A primera vista, un arreglo de numpy puede resultar idéntico a una lista de python, pero a medida que la cantidad de datos comienza a incrementar, los arreglos de numpy terminan ofreciendo un manejo más eficiente de la memoria.\n",
    "\n",
    "Para comenzar, vamos a crear un arreglo de numpy:"
   ]
  },
  {
   "cell_type": "code",
   "execution_count": 1,
   "id": "0eae1267",
   "metadata": {
    "execution": {
     "iopub.execute_input": "2021-07-12T23:20:36.179163Z",
     "iopub.status.busy": "2021-07-12T23:20:36.178541Z",
     "iopub.status.idle": "2021-07-12T23:20:36.351269Z",
     "shell.execute_reply": "2021-07-12T23:20:36.351763Z"
    }
   },
   "outputs": [
    {
     "data": {
      "text/plain": [
       "array([1, 2, 3, 4])"
      ]
     },
     "execution_count": 1,
     "metadata": {},
     "output_type": "execute_result"
    }
   ],
   "source": [
    "import numpy as np\n",
    "\n",
    "np.array([1, 2, 3, 4])"
   ]
  },
  {
   "cell_type": "markdown",
   "id": "983623e3",
   "metadata": {},
   "source": [
    "Los arreglos pueden ser también multidimensionales:"
   ]
  },
  {
   "cell_type": "code",
   "execution_count": 2,
   "id": "e85e3617",
   "metadata": {
    "execution": {
     "iopub.execute_input": "2021-07-12T23:20:36.357356Z",
     "iopub.status.busy": "2021-07-12T23:20:36.356799Z",
     "iopub.status.idle": "2021-07-12T23:20:36.360503Z",
     "shell.execute_reply": "2021-07-12T23:20:36.359987Z"
    }
   },
   "outputs": [
    {
     "data": {
      "text/plain": [
       "array([[1, 2, 3, 4],\n",
       "       [5, 6, 7, 8]])"
      ]
     },
     "execution_count": 2,
     "metadata": {},
     "output_type": "execute_result"
    }
   ],
   "source": [
    "np.array([[1, 2, 3, 4], [5, 6, 7, 8]])"
   ]
  },
  {
   "cell_type": "markdown",
   "id": "e9bf5d19",
   "metadata": {},
   "source": [
    "Es importante tener en cuenta que un arreglo de numpy tiene un tipo fijo de datos, entonces si se quiere agregar un dato de un tipo diferente al de la mayoría, este va a ser modificado para adaptarse al resto"
   ]
  },
  {
   "cell_type": "code",
   "execution_count": 3,
   "id": "96ef6741",
   "metadata": {
    "execution": {
     "iopub.execute_input": "2021-07-12T23:20:36.364926Z",
     "iopub.status.busy": "2021-07-12T23:20:36.364384Z",
     "iopub.status.idle": "2021-07-12T23:20:36.366993Z",
     "shell.execute_reply": "2021-07-12T23:20:36.366442Z"
    }
   },
   "outputs": [],
   "source": [
    "enteros = np.array([1, 2, 3, 4])"
   ]
  },
  {
   "cell_type": "markdown",
   "id": "276b972f",
   "metadata": {},
   "source": [
    "Agrego un elemento de tipo flotante en la posición 1"
   ]
  },
  {
   "cell_type": "code",
   "execution_count": 4,
   "id": "7a616535",
   "metadata": {
    "execution": {
     "iopub.execute_input": "2021-07-12T23:20:36.371871Z",
     "iopub.status.busy": "2021-07-12T23:20:36.371310Z",
     "iopub.status.idle": "2021-07-12T23:20:36.373583Z",
     "shell.execute_reply": "2021-07-12T23:20:36.374000Z"
    }
   },
   "outputs": [
    {
     "data": {
      "text/plain": [
       "array([1, 8, 3, 4])"
      ]
     },
     "execution_count": 4,
     "metadata": {},
     "output_type": "execute_result"
    }
   ],
   "source": [
    "enteros[1] = 8.4727\n",
    "enteros"
   ]
  },
  {
   "cell_type": "markdown",
   "id": "e64895a5",
   "metadata": {},
   "source": [
    "Numpy también nos permite crear arreglos con valores aleatorios del 0 al 1.\n",
    "Basta con pasarle las dimensiones del arreglo que queremos crear."
   ]
  },
  {
   "cell_type": "code",
   "execution_count": 5,
   "id": "8da51e1a",
   "metadata": {
    "execution": {
     "iopub.execute_input": "2021-07-12T23:20:36.379270Z",
     "iopub.status.busy": "2021-07-12T23:20:36.378638Z",
     "iopub.status.idle": "2021-07-12T23:20:36.380985Z",
     "shell.execute_reply": "2021-07-12T23:20:36.381453Z"
    }
   },
   "outputs": [
    {
     "data": {
      "text/plain": [
       "array([[0.0352805 , 0.28001704, 0.86798127],\n",
       "       [0.93784015, 0.98407744, 0.56296058]])"
      ]
     },
     "execution_count": 5,
     "metadata": {},
     "output_type": "execute_result"
    }
   ],
   "source": [
    "np.random.rand(2, 3)"
   ]
  },
  {
   "cell_type": "markdown",
   "id": "9e3befc8",
   "metadata": {},
   "source": [
    "## Slicing\n",
    "\n",
    "De la misma forma que con las listas de python, pueden obtenerse slices de los arreglos de numpy"
   ]
  },
  {
   "cell_type": "code",
   "execution_count": 6,
   "id": "5b6dc537",
   "metadata": {
    "execution": {
     "iopub.execute_input": "2021-07-12T23:20:36.386026Z",
     "iopub.status.busy": "2021-07-12T23:20:36.385363Z",
     "iopub.status.idle": "2021-07-12T23:20:36.387859Z",
     "shell.execute_reply": "2021-07-12T23:20:36.388496Z"
    },
    "lines_to_next_cell": 2
   },
   "outputs": [
    {
     "data": {
      "text/plain": [
       "array([1, 8])"
      ]
     },
     "execution_count": 6,
     "metadata": {},
     "output_type": "execute_result"
    }
   ],
   "source": [
    "enteros[:2]"
   ]
  },
  {
   "cell_type": "code",
   "execution_count": 7,
   "id": "448ee1bc",
   "metadata": {
    "execution": {
     "iopub.execute_input": "2021-07-12T23:20:36.394946Z",
     "iopub.status.busy": "2021-07-12T23:20:36.394397Z",
     "iopub.status.idle": "2021-07-12T23:20:36.399152Z",
     "shell.execute_reply": "2021-07-12T23:20:36.399601Z"
    }
   },
   "outputs": [
    {
     "name": "stdout",
     "output_type": "stream",
     "text": [
      "Original: \n",
      "[[ 1  2  3  4]\n",
      " [ 5  6  7  8]\n",
      " [ 9 10 11 12]]\n",
      "\n",
      "Recortada: \n",
      "[[1 2 3]\n",
      " [5 6 7]]\n"
     ]
    }
   ],
   "source": [
    "matriz_de_enteros = np.array([[1, 2, 3, 4], [5, 6, 7, 8], [9, 10, 11, 12]])\n",
    "\n",
    "print('Original: ')\n",
    "print(matriz_de_enteros)\n",
    "\n",
    "print()\n",
    "\n",
    "print('Recortada: ')\n",
    "print(matriz_de_enteros[:2, :3])"
   ]
  },
  {
   "cell_type": "code",
   "execution_count": 8,
   "id": "52d00606",
   "metadata": {
    "execution": {
     "iopub.execute_input": "2021-07-12T23:20:36.405226Z",
     "iopub.status.busy": "2021-07-12T23:20:36.404671Z",
     "iopub.status.idle": "2021-07-12T23:20:36.407780Z",
     "shell.execute_reply": "2021-07-12T23:20:36.407281Z"
    }
   },
   "outputs": [
    {
     "data": {
      "text/plain": [
       "array([[[ 0,  1,  2,  3,  4],\n",
       "        [ 5,  6,  7,  8,  9],\n",
       "        [10, 11, 12, 13, 14]],\n",
       "\n",
       "       [[15, 16, 17, 18, 19],\n",
       "        [20, 21, 22, 23, 24],\n",
       "        [25, 26, 27, 28, 29]],\n",
       "\n",
       "       [[30, 31, 32, 33, 34],\n",
       "        [35, 36, 37, 38, 39],\n",
       "        [40, 41, 42, 43, 44]]])"
      ]
     },
     "execution_count": 8,
     "metadata": {},
     "output_type": "execute_result"
    }
   ],
   "source": [
    "# 3D\n",
    "# arange() genera valores de un intervalo pasado por parámetro\n",
    "# reshape() modifica la forma del numpy array\n",
    "\n",
    "x = np.arange(45).reshape(3, 3, 5)\n",
    "x"
   ]
  },
  {
   "cell_type": "code",
   "execution_count": 9,
   "id": "0cc1f3e3",
   "metadata": {
    "execution": {
     "iopub.execute_input": "2021-07-12T23:20:36.413389Z",
     "iopub.status.busy": "2021-07-12T23:20:36.412302Z",
     "iopub.status.idle": "2021-07-12T23:20:36.416156Z",
     "shell.execute_reply": "2021-07-12T23:20:36.415624Z"
    }
   },
   "outputs": [
    {
     "data": {
      "text/plain": [
       "array([[ 0,  1,  2,  3,  4],\n",
       "       [ 5,  6,  7,  8,  9],\n",
       "       [10, 11, 12, 13, 14]])"
      ]
     },
     "execution_count": 9,
     "metadata": {},
     "output_type": "execute_result"
    }
   ],
   "source": [
    "x[0]"
   ]
  },
  {
   "cell_type": "code",
   "execution_count": 10,
   "id": "2c8f2aa1",
   "metadata": {
    "execution": {
     "iopub.execute_input": "2021-07-12T23:20:36.422164Z",
     "iopub.status.busy": "2021-07-12T23:20:36.420839Z",
     "iopub.status.idle": "2021-07-12T23:20:36.424217Z",
     "shell.execute_reply": "2021-07-12T23:20:36.423600Z"
    }
   },
   "outputs": [
    {
     "data": {
      "text/plain": [
       "array([5, 6, 7, 8, 9])"
      ]
     },
     "execution_count": 10,
     "metadata": {},
     "output_type": "execute_result"
    }
   ],
   "source": [
    "x[0][1]"
   ]
  },
  {
   "cell_type": "code",
   "execution_count": 11,
   "id": "513ada02",
   "metadata": {
    "execution": {
     "iopub.execute_input": "2021-07-12T23:20:36.430492Z",
     "iopub.status.busy": "2021-07-12T23:20:36.429403Z",
     "iopub.status.idle": "2021-07-12T23:20:36.432403Z",
     "shell.execute_reply": "2021-07-12T23:20:36.432946Z"
    }
   },
   "outputs": [
    {
     "data": {
      "text/plain": [
       "7"
      ]
     },
     "execution_count": 11,
     "metadata": {},
     "output_type": "execute_result"
    }
   ],
   "source": [
    "x[0][1][2]"
   ]
  },
  {
   "cell_type": "markdown",
   "id": "78c4ac22",
   "metadata": {},
   "source": [
    "\n",
    "¿Cómo conseguimos estos valores? ([fuente](https://towardsdatascience.com/indexing-and-slicing-of-1d-2d-and-3d-arrays-in-numpy-e731afff0bbe))\n",
    "\n",
    "![title](img/matrix.png)"
   ]
  },
  {
   "cell_type": "code",
   "execution_count": 12,
   "id": "6e2b829e",
   "metadata": {
    "execution": {
     "iopub.execute_input": "2021-07-12T23:20:36.438059Z",
     "iopub.status.busy": "2021-07-12T23:20:36.437414Z",
     "iopub.status.idle": "2021-07-12T23:20:36.439918Z",
     "shell.execute_reply": "2021-07-12T23:20:36.440408Z"
    }
   },
   "outputs": [
    {
     "data": {
      "text/plain": [
       "array([[[16, 17, 18],\n",
       "        [21, 22, 23]],\n",
       "\n",
       "       [[31, 32, 33],\n",
       "        [36, 37, 38]]])"
      ]
     },
     "execution_count": 12,
     "metadata": {},
     "output_type": "execute_result"
    }
   ],
   "source": [
    "x[1:, 0:2, 1:4]"
   ]
  },
  {
   "cell_type": "markdown",
   "id": "96baf171",
   "metadata": {},
   "source": [
    "### Copia de arreglos"
   ]
  },
  {
   "cell_type": "code",
   "execution_count": 13,
   "id": "f7bfd548",
   "metadata": {
    "execution": {
     "iopub.execute_input": "2021-07-12T23:20:36.449228Z",
     "iopub.status.busy": "2021-07-12T23:20:36.448188Z",
     "iopub.status.idle": "2021-07-12T23:20:36.451055Z",
     "shell.execute_reply": "2021-07-12T23:20:36.449785Z"
    }
   },
   "outputs": [
    {
     "data": {
      "text/plain": [
       "array([1, 2, 3, 4])"
      ]
     },
     "execution_count": 13,
     "metadata": {},
     "output_type": "execute_result"
    }
   ],
   "source": [
    "# Los arreglos no se copian con asignación\n",
    "\n",
    "a = np.array([1, 2, 3, 4])\n",
    "b = a\n",
    "b"
   ]
  },
  {
   "cell_type": "code",
   "execution_count": 14,
   "id": "d3bf0aac",
   "metadata": {
    "execution": {
     "iopub.execute_input": "2021-07-12T23:20:36.453932Z",
     "iopub.status.busy": "2021-07-12T23:20:36.453386Z",
     "iopub.status.idle": "2021-07-12T23:20:36.459631Z",
     "shell.execute_reply": "2021-07-12T23:20:36.459093Z"
    }
   },
   "outputs": [
    {
     "data": {
      "text/plain": [
       "array([ 1, 20,  3,  4])"
      ]
     },
     "execution_count": 14,
     "metadata": {},
     "output_type": "execute_result"
    }
   ],
   "source": [
    "b[1] = 20\n",
    "b"
   ]
  },
  {
   "cell_type": "code",
   "execution_count": 15,
   "id": "71124407",
   "metadata": {
    "execution": {
     "iopub.execute_input": "2021-07-12T23:20:36.465017Z",
     "iopub.status.busy": "2021-07-12T23:20:36.464008Z",
     "iopub.status.idle": "2021-07-12T23:20:36.466560Z",
     "shell.execute_reply": "2021-07-12T23:20:36.467066Z"
    }
   },
   "outputs": [
    {
     "data": {
      "text/plain": [
       "array([ 1, 20,  3,  4])"
      ]
     },
     "execution_count": 15,
     "metadata": {},
     "output_type": "execute_result"
    }
   ],
   "source": [
    "a"
   ]
  },
  {
   "cell_type": "code",
   "execution_count": 16,
   "id": "5fc90bc6",
   "metadata": {
    "execution": {
     "iopub.execute_input": "2021-07-12T23:20:36.472458Z",
     "iopub.status.busy": "2021-07-12T23:20:36.471907Z",
     "iopub.status.idle": "2021-07-12T23:20:36.474167Z",
     "shell.execute_reply": "2021-07-12T23:20:36.474699Z"
    }
   },
   "outputs": [
    {
     "data": {
      "text/plain": [
       "array([ 1, 20,  3,  4])"
      ]
     },
     "execution_count": 16,
     "metadata": {},
     "output_type": "execute_result"
    }
   ],
   "source": [
    "# Para copiar un arreglo a otra variable debemos usar copy()\n",
    "\n",
    "a = np.array([1, 2, 3, 4])\n",
    "b = a.copy()\n",
    "b[1] = 20\n",
    "b"
   ]
  },
  {
   "cell_type": "code",
   "execution_count": 17,
   "id": "5ac61cd8",
   "metadata": {
    "execution": {
     "iopub.execute_input": "2021-07-12T23:20:36.478990Z",
     "iopub.status.busy": "2021-07-12T23:20:36.478440Z",
     "iopub.status.idle": "2021-07-12T23:20:36.480925Z",
     "shell.execute_reply": "2021-07-12T23:20:36.481390Z"
    }
   },
   "outputs": [
    {
     "data": {
      "text/plain": [
       "array([1, 2, 3, 4])"
      ]
     },
     "execution_count": 17,
     "metadata": {},
     "output_type": "execute_result"
    }
   ],
   "source": [
    "a"
   ]
  },
  {
   "cell_type": "markdown",
   "id": "bc289134",
   "metadata": {},
   "source": [
    "### Modificación de dimensiones"
   ]
  },
  {
   "cell_type": "markdown",
   "id": "a92736b6",
   "metadata": {},
   "source": [
    "Existen varias operaciones para cambiar la forma de un arreglo de numpy"
   ]
  },
  {
   "cell_type": "code",
   "execution_count": 18,
   "id": "2365a35d",
   "metadata": {
    "execution": {
     "iopub.execute_input": "2021-07-12T23:20:36.486043Z",
     "iopub.status.busy": "2021-07-12T23:20:36.484963Z",
     "iopub.status.idle": "2021-07-12T23:20:36.488170Z",
     "shell.execute_reply": "2021-07-12T23:20:36.488613Z"
    }
   },
   "outputs": [
    {
     "data": {
      "text/plain": [
       "array([[ 1,  2,  3,  4],\n",
       "       [ 5,  6,  7,  8],\n",
       "       [ 9, 10, 11, 12]])"
      ]
     },
     "execution_count": 18,
     "metadata": {},
     "output_type": "execute_result"
    }
   ],
   "source": [
    "matriz_de_enteros"
   ]
  },
  {
   "cell_type": "code",
   "execution_count": 19,
   "id": "759646a1",
   "metadata": {
    "execution": {
     "iopub.execute_input": "2021-07-12T23:20:36.493424Z",
     "iopub.status.busy": "2021-07-12T23:20:36.492883Z",
     "iopub.status.idle": "2021-07-12T23:20:36.495919Z",
     "shell.execute_reply": "2021-07-12T23:20:36.495283Z"
    }
   },
   "outputs": [
    {
     "data": {
      "text/plain": [
       "2"
      ]
     },
     "execution_count": 19,
     "metadata": {},
     "output_type": "execute_result"
    }
   ],
   "source": [
    "# Obtener las dimensiones del arreglo\n",
    "\n",
    "matriz_de_enteros.ndim"
   ]
  },
  {
   "cell_type": "code",
   "execution_count": 20,
   "id": "e63d0809",
   "metadata": {
    "execution": {
     "iopub.execute_input": "2021-07-12T23:20:36.500454Z",
     "iopub.status.busy": "2021-07-12T23:20:36.498151Z",
     "iopub.status.idle": "2021-07-12T23:20:36.502496Z",
     "shell.execute_reply": "2021-07-12T23:20:36.502971Z"
    }
   },
   "outputs": [
    {
     "data": {
      "text/plain": [
       "(3, 4)"
      ]
     },
     "execution_count": 20,
     "metadata": {},
     "output_type": "execute_result"
    }
   ],
   "source": [
    "# Obtener la forma del arreglo\n",
    "\n",
    "matriz_de_enteros.shape"
   ]
  },
  {
   "cell_type": "code",
   "execution_count": 21,
   "id": "18ccb354",
   "metadata": {
    "execution": {
     "iopub.execute_input": "2021-07-12T23:20:36.509566Z",
     "iopub.status.busy": "2021-07-12T23:20:36.508773Z",
     "iopub.status.idle": "2021-07-12T23:20:36.512757Z",
     "shell.execute_reply": "2021-07-12T23:20:36.512276Z"
    }
   },
   "outputs": [
    {
     "name": "stdout",
     "output_type": "stream",
     "text": [
      "enteros: [ 3  6  9 12]\n"
     ]
    },
    {
     "data": {
      "text/plain": [
       "array([[ 3,  6],\n",
       "       [ 9, 12]])"
      ]
     },
     "execution_count": 21,
     "metadata": {},
     "output_type": "execute_result"
    }
   ],
   "source": [
    "# Modificar la forma de un arreglo\n",
    "\n",
    "enteros = np.array([3, 6, 9, 12])\n",
    "print(f\"enteros: {enteros}\")\n",
    "np.reshape(enteros, (2, 2))"
   ]
  },
  {
   "cell_type": "code",
   "execution_count": 22,
   "id": "cc1ff9e8",
   "metadata": {
    "execution": {
     "iopub.execute_input": "2021-07-12T23:20:36.517551Z",
     "iopub.status.busy": "2021-07-12T23:20:36.517001Z",
     "iopub.status.idle": "2021-07-12T23:20:36.519211Z",
     "shell.execute_reply": "2021-07-12T23:20:36.519651Z"
    }
   },
   "outputs": [
    {
     "data": {
      "text/plain": [
       "array([[1., 1.],\n",
       "       [1., 1.]])"
      ]
     },
     "execution_count": 22,
     "metadata": {},
     "output_type": "execute_result"
    }
   ],
   "source": [
    "# Aplanar un arreglo\n",
    "\n",
    "a = np.ones((2, 2))\n",
    "a"
   ]
  },
  {
   "cell_type": "code",
   "execution_count": 23,
   "id": "8b64b502",
   "metadata": {
    "execution": {
     "iopub.execute_input": "2021-07-12T23:20:36.524538Z",
     "iopub.status.busy": "2021-07-12T23:20:36.523979Z",
     "iopub.status.idle": "2021-07-12T23:20:36.526353Z",
     "shell.execute_reply": "2021-07-12T23:20:36.526798Z"
    }
   },
   "outputs": [
    {
     "data": {
      "text/plain": [
       "array([1., 1., 1., 1.])"
      ]
     },
     "execution_count": 23,
     "metadata": {},
     "output_type": "execute_result"
    }
   ],
   "source": [
    "a.flatten()"
   ]
  },
  {
   "cell_type": "code",
   "execution_count": 24,
   "id": "a152e592",
   "metadata": {
    "execution": {
     "iopub.execute_input": "2021-07-12T23:20:36.531325Z",
     "iopub.status.busy": "2021-07-12T23:20:36.530759Z",
     "iopub.status.idle": "2021-07-12T23:20:36.532996Z",
     "shell.execute_reply": "2021-07-12T23:20:36.533467Z"
    },
    "lines_to_next_cell": 2
   },
   "outputs": [
    {
     "data": {
      "text/plain": [
       "array([[1., 1.],\n",
       "       [1., 1.]])"
      ]
     },
     "execution_count": 24,
     "metadata": {},
     "output_type": "execute_result"
    }
   ],
   "source": [
    "a"
   ]
  },
  {
   "cell_type": "markdown",
   "id": "bef59103",
   "metadata": {},
   "source": [
    "### Combinación de arreglos (Stacking)"
   ]
  },
  {
   "cell_type": "code",
   "execution_count": 25,
   "id": "4bcc080d",
   "metadata": {
    "execution": {
     "iopub.execute_input": "2021-07-12T23:20:36.539657Z",
     "iopub.status.busy": "2021-07-12T23:20:36.536544Z",
     "iopub.status.idle": "2021-07-12T23:20:36.542401Z",
     "shell.execute_reply": "2021-07-12T23:20:36.542843Z"
    }
   },
   "outputs": [
    {
     "data": {
      "text/plain": [
       "array([0, 1, 2, 3, 4])"
      ]
     },
     "execution_count": 25,
     "metadata": {},
     "output_type": "execute_result"
    }
   ],
   "source": [
    "# Los arreglos se pueden combinar verticalmente (se incrementa la cantidad de filas)\n",
    "\n",
    "a = np.arange(0, 5)\n",
    "a"
   ]
  },
  {
   "cell_type": "code",
   "execution_count": 26,
   "id": "dce9d932",
   "metadata": {
    "execution": {
     "iopub.execute_input": "2021-07-12T23:20:36.547771Z",
     "iopub.status.busy": "2021-07-12T23:20:36.547198Z",
     "iopub.status.idle": "2021-07-12T23:20:36.549247Z",
     "shell.execute_reply": "2021-07-12T23:20:36.549762Z"
    }
   },
   "outputs": [
    {
     "data": {
      "text/plain": [
       "array([5, 6, 7, 8, 9])"
      ]
     },
     "execution_count": 26,
     "metadata": {},
     "output_type": "execute_result"
    }
   ],
   "source": [
    "b = np.arange(5, 10)\n",
    "b"
   ]
  },
  {
   "cell_type": "code",
   "execution_count": 27,
   "id": "c045f674",
   "metadata": {
    "execution": {
     "iopub.execute_input": "2021-07-12T23:20:36.554687Z",
     "iopub.status.busy": "2021-07-12T23:20:36.552513Z",
     "iopub.status.idle": "2021-07-12T23:20:36.556788Z",
     "shell.execute_reply": "2021-07-12T23:20:36.557232Z"
    }
   },
   "outputs": [
    {
     "data": {
      "text/plain": [
       "array([[0, 1, 2, 3, 4],\n",
       "       [5, 6, 7, 8, 9]])"
      ]
     },
     "execution_count": 27,
     "metadata": {},
     "output_type": "execute_result"
    }
   ],
   "source": [
    "combinados_verticalmente = np.vstack((a, b))\n",
    "combinados_verticalmente"
   ]
  },
  {
   "cell_type": "code",
   "execution_count": 28,
   "id": "41bc6386",
   "metadata": {
    "execution": {
     "iopub.execute_input": "2021-07-12T23:20:36.560040Z",
     "iopub.status.busy": "2021-07-12T23:20:36.559479Z",
     "iopub.status.idle": "2021-07-12T23:20:36.565080Z",
     "shell.execute_reply": "2021-07-12T23:20:36.565496Z"
    }
   },
   "outputs": [
    {
     "data": {
      "text/plain": [
       "array([0, 1, 2, 3, 4, 5, 6, 7, 8, 9])"
      ]
     },
     "execution_count": 28,
     "metadata": {},
     "output_type": "execute_result"
    }
   ],
   "source": [
    "# También se pueden combinar horizontalmente (se incrementa la cantidad de columnas)\n",
    "\n",
    "combinados_horizontalmente = np.hstack((a, b))\n",
    "combinados_horizontalmente"
   ]
  },
  {
   "cell_type": "markdown",
   "id": "5e3704e1",
   "metadata": {},
   "source": [
    "### Operaciones matemáticas"
   ]
  },
  {
   "cell_type": "code",
   "execution_count": 29,
   "id": "a49fabaa",
   "metadata": {
    "execution": {
     "iopub.execute_input": "2021-07-12T23:20:36.570466Z",
     "iopub.status.busy": "2021-07-12T23:20:36.569912Z",
     "iopub.status.idle": "2021-07-12T23:20:36.572666Z",
     "shell.execute_reply": "2021-07-12T23:20:36.572214Z"
    }
   },
   "outputs": [
    {
     "data": {
      "text/plain": [
       "array([3, 4, 5, 6])"
      ]
     },
     "execution_count": 29,
     "metadata": {},
     "output_type": "execute_result"
    }
   ],
   "source": [
    "a = np.array([1, 2, 3, 4])\n",
    "\n",
    "a + 2"
   ]
  },
  {
   "cell_type": "code",
   "execution_count": 30,
   "id": "f05d3aad",
   "metadata": {
    "execution": {
     "iopub.execute_input": "2021-07-12T23:20:36.577102Z",
     "iopub.status.busy": "2021-07-12T23:20:36.576554Z",
     "iopub.status.idle": "2021-07-12T23:20:36.578882Z",
     "shell.execute_reply": "2021-07-12T23:20:36.579298Z"
    }
   },
   "outputs": [
    {
     "data": {
      "text/plain": [
       "array([ 1,  4,  9, 16])"
      ]
     },
     "execution_count": 30,
     "metadata": {},
     "output_type": "execute_result"
    }
   ],
   "source": [
    "a ** 2"
   ]
  },
  {
   "cell_type": "code",
   "execution_count": 31,
   "id": "8b08aee4",
   "metadata": {
    "execution": {
     "iopub.execute_input": "2021-07-12T23:20:36.585269Z",
     "iopub.status.busy": "2021-07-12T23:20:36.584731Z",
     "iopub.status.idle": "2021-07-12T23:20:36.590426Z",
     "shell.execute_reply": "2021-07-12T23:20:36.589935Z"
    }
   },
   "outputs": [
    {
     "name": "stdout",
     "output_type": "stream",
     "text": [
      "b: [1. 1. 1. 1.]\n"
     ]
    },
    {
     "data": {
      "text/plain": [
       "array([2., 3., 4., 5.])"
      ]
     },
     "execution_count": 31,
     "metadata": {},
     "output_type": "execute_result"
    }
   ],
   "source": [
    "b = np.ones(4)\n",
    "print(f\"b: {b}\")\n",
    "a + b"
   ]
  },
  {
   "cell_type": "markdown",
   "id": "671b7263",
   "metadata": {},
   "source": [
    "### Estadística"
   ]
  },
  {
   "cell_type": "code",
   "execution_count": 32,
   "id": "fe361c3c",
   "metadata": {
    "execution": {
     "iopub.execute_input": "2021-07-12T23:20:36.596677Z",
     "iopub.status.busy": "2021-07-12T23:20:36.596124Z",
     "iopub.status.idle": "2021-07-12T23:20:36.598260Z",
     "shell.execute_reply": "2021-07-12T23:20:36.598709Z"
    }
   },
   "outputs": [
    {
     "data": {
      "text/plain": [
       "1"
      ]
     },
     "execution_count": 32,
     "metadata": {},
     "output_type": "execute_result"
    }
   ],
   "source": [
    "a = np.array([[5, 2, 1, 8], [26, 4, 17, 9]])\n",
    "\n",
    "np.min(a)"
   ]
  },
  {
   "cell_type": "code",
   "execution_count": 33,
   "id": "efbc5b1e",
   "metadata": {
    "execution": {
     "iopub.execute_input": "2021-07-12T23:20:36.603612Z",
     "iopub.status.busy": "2021-07-12T23:20:36.602979Z",
     "iopub.status.idle": "2021-07-12T23:20:36.605208Z",
     "shell.execute_reply": "2021-07-12T23:20:36.605850Z"
    }
   },
   "outputs": [
    {
     "data": {
      "text/plain": [
       "26"
      ]
     },
     "execution_count": 33,
     "metadata": {},
     "output_type": "execute_result"
    }
   ],
   "source": [
    "np.max(a)"
   ]
  },
  {
   "cell_type": "code",
   "execution_count": 34,
   "id": "1b7bdd6e",
   "metadata": {
    "execution": {
     "iopub.execute_input": "2021-07-12T23:20:36.610706Z",
     "iopub.status.busy": "2021-07-12T23:20:36.608350Z",
     "iopub.status.idle": "2021-07-12T23:20:36.613180Z",
     "shell.execute_reply": "2021-07-12T23:20:36.613595Z"
    }
   },
   "outputs": [
    {
     "data": {
      "text/plain": [
       "72"
      ]
     },
     "execution_count": 34,
     "metadata": {},
     "output_type": "execute_result"
    }
   ],
   "source": [
    "np.sum(a)"
   ]
  },
  {
   "cell_type": "markdown",
   "id": "acc44659",
   "metadata": {},
   "source": [
    "### Más magia"
   ]
  },
  {
   "cell_type": "code",
   "execution_count": 35,
   "id": "8dce8c59",
   "metadata": {
    "execution": {
     "iopub.execute_input": "2021-07-12T23:20:36.619015Z",
     "iopub.status.busy": "2021-07-12T23:20:36.618468Z",
     "iopub.status.idle": "2021-07-12T23:20:36.621684Z",
     "shell.execute_reply": "2021-07-12T23:20:36.621172Z"
    }
   },
   "outputs": [
    {
     "data": {
      "text/plain": [
       "array([[False, False, False,  True],\n",
       "       [ True, False,  True,  True]])"
      ]
     },
     "execution_count": 35,
     "metadata": {},
     "output_type": "execute_result"
    }
   ],
   "source": [
    "a = np.array([[5, 2, 1, 8], [26, 4, 17, 9]])\n",
    "\n",
    "a > 5"
   ]
  },
  {
   "cell_type": "code",
   "execution_count": 36,
   "id": "574b3a71",
   "metadata": {
    "execution": {
     "iopub.execute_input": "2021-07-12T23:20:36.626359Z",
     "iopub.status.busy": "2021-07-12T23:20:36.625815Z",
     "iopub.status.idle": "2021-07-12T23:20:36.630218Z",
     "shell.execute_reply": "2021-07-12T23:20:36.629649Z"
    }
   },
   "outputs": [
    {
     "data": {
      "text/plain": [
       "array([ 8, 26, 17,  9])"
      ]
     },
     "execution_count": 36,
     "metadata": {},
     "output_type": "execute_result"
    }
   ],
   "source": [
    "a[a > 5]"
   ]
  },
  {
   "cell_type": "markdown",
   "id": "bfa913c2",
   "metadata": {},
   "source": [
    "### Broadcasting"
   ]
  },
  {
   "cell_type": "markdown",
   "id": "d487b74c",
   "metadata": {},
   "source": [
    "Permite realizar operaciones entre dos numpy arrays de distintas dimensiones.\n",
    "Para lograr esto, las dimensiones de los mismos deben ser compatibles. Dos dimensiones son compatibles cuando:\n",
    "1. Son iguales\n",
    "2. Alguna de las dos es 1"
   ]
  },
  {
   "cell_type": "code",
   "execution_count": 37,
   "id": "c9634e00",
   "metadata": {
    "execution": {
     "iopub.execute_input": "2021-07-12T23:20:36.636315Z",
     "iopub.status.busy": "2021-07-12T23:20:36.635097Z",
     "iopub.status.idle": "2021-07-12T23:20:36.638507Z",
     "shell.execute_reply": "2021-07-12T23:20:36.638949Z"
    }
   },
   "outputs": [
    {
     "data": {
      "text/plain": [
       "array([[ 5,  2,  1,  8],\n",
       "       [26,  4, 17,  9]])"
      ]
     },
     "execution_count": 37,
     "metadata": {},
     "output_type": "execute_result"
    }
   ],
   "source": [
    "a = np.array([[5, 2, 1, 8], [26, 4, 17, 9]])\n",
    "a"
   ]
  },
  {
   "cell_type": "code",
   "execution_count": 38,
   "id": "c7cb1f58",
   "metadata": {
    "execution": {
     "iopub.execute_input": "2021-07-12T23:20:36.645670Z",
     "iopub.status.busy": "2021-07-12T23:20:36.644502Z",
     "iopub.status.idle": "2021-07-12T23:20:36.647665Z",
     "shell.execute_reply": "2021-07-12T23:20:36.647183Z"
    }
   },
   "outputs": [
    {
     "name": "stdout",
     "output_type": "stream",
     "text": [
      "a: (2, 4)\n",
      "b: (4,)\n",
      "\n",
      "a + b:\n",
      " [[10  4  2 16]\n",
      " [31  6 18 17]]\n"
     ]
    }
   ],
   "source": [
    "# Armamos un array que tenga la misma cantidad de columnas que a\n",
    "b = np.array([5, 2, 1, 8])\n",
    "print(f\"a: {a.shape}\")\n",
    "print(f\"b: {b.shape}\")\n",
    "# a + b\n",
    "print()\n",
    "print(f\"a + b:\\n {a + b}\")"
   ]
  },
  {
   "cell_type": "code",
   "execution_count": 39,
   "id": "af0bbdf8",
   "metadata": {
    "execution": {
     "iopub.execute_input": "2021-07-12T23:20:36.653405Z",
     "iopub.status.busy": "2021-07-12T23:20:36.652846Z",
     "iopub.status.idle": "2021-07-12T23:20:36.725373Z",
     "shell.execute_reply": "2021-07-12T23:20:36.725855Z"
    },
    "tags": [
     "raises-exception"
    ]
   },
   "outputs": [
    {
     "name": "stdout",
     "output_type": "stream",
     "text": [
      "a: (2, 4)\n",
      "b: (3,)\n"
     ]
    },
    {
     "ename": "ValueError",
     "evalue": "operands could not be broadcast together with shapes (2,4) (3,) ",
     "output_type": "error",
     "traceback": [
      "\u001b[0;31m---------------------------------------------------------------------------\u001b[0m",
      "\u001b[0;31mValueError\u001b[0m                                Traceback (most recent call last)",
      "\u001b[0;32m/tmp/ipykernel_1907/261865458.py\u001b[0m in \u001b[0;36m<module>\u001b[0;34m\u001b[0m\n\u001b[1;32m      3\u001b[0m \u001b[0mprint\u001b[0m\u001b[0;34m(\u001b[0m\u001b[0;34mf\"a: {a.shape}\"\u001b[0m\u001b[0;34m)\u001b[0m\u001b[0;34m\u001b[0m\u001b[0;34m\u001b[0m\u001b[0m\n\u001b[1;32m      4\u001b[0m \u001b[0mprint\u001b[0m\u001b[0;34m(\u001b[0m\u001b[0;34mf\"b: {b.shape}\"\u001b[0m\u001b[0;34m)\u001b[0m\u001b[0;34m\u001b[0m\u001b[0;34m\u001b[0m\u001b[0m\n\u001b[0;32m----> 5\u001b[0;31m \u001b[0ma\u001b[0m \u001b[0;34m+\u001b[0m \u001b[0mb\u001b[0m\u001b[0;34m\u001b[0m\u001b[0;34m\u001b[0m\u001b[0m\n\u001b[0m",
      "\u001b[0;31mValueError\u001b[0m: operands could not be broadcast together with shapes (2,4) (3,) "
     ]
    }
   ],
   "source": [
    "# Armamos un array que tenga distinta cantidad de filas y columnas que a\n",
    "b = np.array([5, 1, 8])\n",
    "print(f\"a: {a.shape}\")\n",
    "print(f\"b: {b.shape}\")\n",
    "a + b"
   ]
  },
  {
   "cell_type": "code",
   "execution_count": 40,
   "id": "e1d0d0e7",
   "metadata": {
    "execution": {
     "iopub.execute_input": "2021-07-12T23:20:36.731655Z",
     "iopub.status.busy": "2021-07-12T23:20:36.730996Z",
     "iopub.status.idle": "2021-07-12T23:20:36.734403Z",
     "shell.execute_reply": "2021-07-12T23:20:36.734846Z"
    }
   },
   "outputs": [
    {
     "name": "stdout",
     "output_type": "stream",
     "text": [
      "a: (2, 4)\n",
      "b: (2, 1)\n"
     ]
    },
    {
     "data": {
      "text/plain": [
       "array([[ 7,  4,  3, 10],\n",
       "       [27,  5, 18, 10]])"
      ]
     },
     "execution_count": 40,
     "metadata": {},
     "output_type": "execute_result"
    }
   ],
   "source": [
    "# Armamos un array que tenga la misma cantidad de filas que a\n",
    "b = np.array([[2], [1]])\n",
    "print(f\"a: {a.shape}\")\n",
    "print(f\"b: {b.shape}\")\n",
    "a + b"
   ]
  },
  {
   "cell_type": "code",
   "execution_count": 41,
   "id": "8f9b1b99",
   "metadata": {
    "execution": {
     "iopub.execute_input": "2021-07-12T23:20:36.741414Z",
     "iopub.status.busy": "2021-07-12T23:20:36.740022Z",
     "iopub.status.idle": "2021-07-12T23:20:36.743140Z",
     "shell.execute_reply": "2021-07-12T23:20:36.743588Z"
    }
   },
   "outputs": [
    {
     "data": {
      "text/plain": [
       "array([[ 9,  6,  5, 12],\n",
       "       [30,  8, 21, 13]])"
      ]
     },
     "execution_count": 41,
     "metadata": {},
     "output_type": "execute_result"
    }
   ],
   "source": [
    "# Si b es un entero\n",
    "b = 4\n",
    "a + b"
   ]
  },
  {
   "cell_type": "code",
   "execution_count": null,
   "id": "79416f77",
   "metadata": {},
   "outputs": [],
   "source": []
  }
 ],
 "metadata": {
  "jupytext": {
   "encoding": "# -*- coding: utf-8 -*-",
   "formats": "ipynb,py:light"
  },
  "kernelspec": {
   "display_name": "Python 3",
   "language": "python",
   "name": "python3"
  },
  "language_info": {
   "codemirror_mode": {
    "name": "ipython",
    "version": 3
   },
   "file_extension": ".py",
   "mimetype": "text/x-python",
   "name": "python",
   "nbconvert_exporter": "python",
   "pygments_lexer": "ipython3",
   "version": "3.7.10"
  }
 },
 "nbformat": 4,
 "nbformat_minor": 5
}
