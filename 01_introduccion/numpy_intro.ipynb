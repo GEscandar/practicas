{
 "cells": [
  {
   "cell_type": "markdown",
   "id": "aware-builder",
   "metadata": {},
   "source": [
    "## Clase 1 - Introducción a Numpy\n",
    "\n",
    "Numpy es una biblioteca para Python que facilita el manejo de arreglos multidimensionales y ofrece varias herramientas para trabajar con ellos. Muchas de las bibliotecas de Python que son ampliamente usadas hoy en día, como pandas, están construidas sobre numpy.\n",
    "\n",
    "### Listas de Python vs arreglos de Numpy\n",
    "\n",
    "A primera vista, un arreglo de numpy puede resultar idéntico a una lista de python, pero a medida que la cantidad de datos comienza a incrementar, los arreglos de numpy terminan ofreciendo un manejo más eficiente de la memoria.\n",
    "\n",
    "Para comenzar, vamos a crear un arreglo de numpy:"
   ]
  },
  {
   "cell_type": "code",
   "execution_count": 1,
   "id": "precious-lincoln",
   "metadata": {
    "execution": {
     "iopub.execute_input": "2021-02-10T07:37:38.733601Z",
     "iopub.status.busy": "2021-02-10T07:37:38.732977Z",
     "iopub.status.idle": "2021-02-10T07:37:38.883937Z",
     "shell.execute_reply": "2021-02-10T07:37:38.884341Z"
    }
   },
   "outputs": [
    {
     "data": {
      "text/plain": [
       "array([1, 2, 3, 4])"
      ]
     },
     "execution_count": 1,
     "metadata": {},
     "output_type": "execute_result"
    }
   ],
   "source": [
    "import numpy as np\n",
    "\n",
    "np.array([1, 2, 3, 4])"
   ]
  },
  {
   "cell_type": "markdown",
   "id": "frozen-thursday",
   "metadata": {},
   "source": [
    "Los arreglos pueden ser también multidimensionales:"
   ]
  },
  {
   "cell_type": "code",
   "execution_count": 2,
   "id": "forward-taiwan",
   "metadata": {
    "execution": {
     "iopub.execute_input": "2021-02-10T07:37:38.888472Z",
     "iopub.status.busy": "2021-02-10T07:37:38.887987Z",
     "iopub.status.idle": "2021-02-10T07:37:38.890903Z",
     "shell.execute_reply": "2021-02-10T07:37:38.890500Z"
    }
   },
   "outputs": [
    {
     "data": {
      "text/plain": [
       "array([[1, 2, 3, 4],\n",
       "       [5, 6, 7, 8]])"
      ]
     },
     "execution_count": 1,
     "metadata": {},
     "output_type": "execute_result"
    }
   ],
   "source": [
    "np.array([[1, 2, 3, 4], [5, 6, 7, 8]])"
   ]
  },
  {
   "cell_type": "markdown",
   "id": "interstate-decrease",
   "metadata": {},
   "source": [
    "Es importante tener en cuenta que un arreglo de numpy tiene un tipo fijo de datos, entonces si se quiere agregar un dato de un tipo diferente al de la mayoría, este va a ser modificado para adaptarse al resto"
   ]
  },
  {
   "cell_type": "code",
   "execution_count": 3,
   "id": "similar-conducting",
   "metadata": {
    "execution": {
     "iopub.execute_input": "2021-02-10T07:37:38.894174Z",
     "iopub.status.busy": "2021-02-10T07:37:38.893646Z",
     "iopub.status.idle": "2021-02-10T07:37:38.895338Z",
     "shell.execute_reply": "2021-02-10T07:37:38.895696Z"
    }
   },
   "outputs": [],
   "source": [
    "enteros = np.array([1, 2, 3, 4])"
   ]
  },
  {
   "cell_type": "markdown",
   "id": "sitting-cisco",
   "metadata": {},
   "source": [
    "Agrego un elemento de tipo flotante en la posición 1"
   ]
  },
  {
   "cell_type": "code",
   "execution_count": 4,
   "id": "mounted-flesh",
   "metadata": {
    "execution": {
     "iopub.execute_input": "2021-02-10T07:37:38.899124Z",
     "iopub.status.busy": "2021-02-10T07:37:38.898553Z",
     "iopub.status.idle": "2021-02-10T07:37:38.900581Z",
     "shell.execute_reply": "2021-02-10T07:37:38.900991Z"
    }
   },
   "outputs": [
    {
     "data": {
      "text/plain": [
       "array([1, 8, 3, 4])"
      ]
     },
     "execution_count": 1,
     "metadata": {},
     "output_type": "execute_result"
    }
   ],
   "source": [
    "enteros[1] = 8.4727\n",
    "enteros"
   ]
  },
  {
   "cell_type": "markdown",
   "id": "relative-cream",
   "metadata": {},
   "source": [
    "Numpy también nos permite crear arreglos con valores aleatorios del 0 al 1.\n",
    "Basta con pasarle las dimensiones del arreglo que queremos crear."
   ]
  },
  {
   "cell_type": "code",
   "execution_count": 5,
   "id": "secure-plane",
   "metadata": {
    "execution": {
     "iopub.execute_input": "2021-02-10T07:37:38.904650Z",
     "iopub.status.busy": "2021-02-10T07:37:38.904186Z",
     "iopub.status.idle": "2021-02-10T07:37:38.906795Z",
     "shell.execute_reply": "2021-02-10T07:37:38.906381Z"
    }
   },
   "outputs": [
    {
     "data": {
      "text/plain": [
       "array([[0.35258461, 0.76841502, 0.42882992],\n",
       "       [0.148143  , 0.23082631, 0.83227466]])"
      ]
     },
     "execution_count": 1,
     "metadata": {},
     "output_type": "execute_result"
    }
   ],
   "source": [
    "np.random.rand(2, 3)"
   ]
  },
  {
   "cell_type": "markdown",
   "id": "irish-saturn",
   "metadata": {},
   "source": [
    "## Slicing\n",
    "\n",
    "De la misma forma que con las listas de python, pueden obtenerse slices de los arreglos de numpy"
   ]
  },
  {
   "cell_type": "code",
   "execution_count": 6,
   "id": "north-quality",
   "metadata": {
    "execution": {
     "iopub.execute_input": "2021-02-10T07:37:38.910126Z",
     "iopub.status.busy": "2021-02-10T07:37:38.909635Z",
     "iopub.status.idle": "2021-02-10T07:37:38.911763Z",
     "shell.execute_reply": "2021-02-10T07:37:38.912173Z"
    },
    "lines_to_next_cell": 2
   },
   "outputs": [
    {
     "data": {
      "text/plain": [
       "array([1, 8])"
      ]
     },
     "execution_count": 1,
     "metadata": {},
     "output_type": "execute_result"
    }
   ],
   "source": [
    "enteros[:2]"
   ]
  },
  {
   "cell_type": "code",
   "execution_count": 7,
   "id": "least-collapse",
   "metadata": {
    "execution": {
     "iopub.execute_input": "2021-02-10T07:37:38.917173Z",
     "iopub.status.busy": "2021-02-10T07:37:38.916621Z",
     "iopub.status.idle": "2021-02-10T07:37:38.918631Z",
     "shell.execute_reply": "2021-02-10T07:37:38.919071Z"
    }
   },
   "outputs": [
    {
     "name": "stdout",
     "output_type": "stream",
     "text": [
      "Original: \n",
      "[[ 1  2  3  4]\n",
      " [ 5  6  7  8]\n",
      " [ 9 10 11 12]]\n",
      "\n",
      "Recortada: \n",
      "[[1 2 3]\n",
      " [5 6 7]]\n"
     ]
    }
   ],
   "source": [
    "matriz_de_enteros = np.array([[1, 2, 3, 4], [5, 6, 7, 8], [9, 10, 11, 12]])\n",
    "\n",
    "print('Original: ')\n",
    "print(matriz_de_enteros)\n",
    "\n",
    "print()\n",
    "\n",
    "print('Recortada: ')\n",
    "print(matriz_de_enteros[:2, :3])"
   ]
  },
  {
   "cell_type": "code",
   "execution_count": 8,
   "id": "chubby-sociology",
   "metadata": {
    "execution": {
     "iopub.execute_input": "2021-02-10T07:37:38.922603Z",
     "iopub.status.busy": "2021-02-10T07:37:38.922132Z",
     "iopub.status.idle": "2021-02-10T07:37:38.924794Z",
     "shell.execute_reply": "2021-02-10T07:37:38.924383Z"
    }
   },
   "outputs": [
    {
     "data": {
      "text/plain": [
       "array([[[ 0,  1,  2,  3,  4],\n",
       "        [ 5,  6,  7,  8,  9],\n",
       "        [10, 11, 12, 13, 14]],\n",
       "\n",
       "       [[15, 16, 17, 18, 19],\n",
       "        [20, 21, 22, 23, 24],\n",
       "        [25, 26, 27, 28, 29]],\n",
       "\n",
       "       [[30, 31, 32, 33, 34],\n",
       "        [35, 36, 37, 38, 39],\n",
       "        [40, 41, 42, 43, 44]]])"
      ]
     },
     "execution_count": 1,
     "metadata": {},
     "output_type": "execute_result"
    }
   ],
   "source": [
    "# 3D\n",
    "x = np.arange(45).reshape(3, 3, 5)\n",
    "x"
   ]
  },
  {
   "cell_type": "code",
   "execution_count": 9,
   "id": "actual-annex",
   "metadata": {
    "execution": {
     "iopub.execute_input": "2021-02-10T07:37:38.928011Z",
     "iopub.status.busy": "2021-02-10T07:37:38.927542Z",
     "iopub.status.idle": "2021-02-10T07:37:38.930273Z",
     "shell.execute_reply": "2021-02-10T07:37:38.929843Z"
    }
   },
   "outputs": [
    {
     "data": {
      "text/plain": [
       "array([[ 0,  1,  2,  3,  4],\n",
       "       [ 5,  6,  7,  8,  9],\n",
       "       [10, 11, 12, 13, 14]])"
      ]
     },
     "execution_count": 1,
     "metadata": {},
     "output_type": "execute_result"
    }
   ],
   "source": [
    "x[0]"
   ]
  },
  {
   "cell_type": "markdown",
   "id": "advanced-january",
   "metadata": {},
   "source": [
    "\n",
    "¿Cómo conseguimos estos valores? ([fuente](https://towardsdatascience.com/indexing-and-slicing-of-1d-2d-and-3d-arrays-in-numpy-e731afff0bbe))\n",
    "\n",
    "![title](img/matrix.png)"
   ]
  },
  {
   "cell_type": "code",
   "execution_count": 10,
   "id": "featured-bernard",
   "metadata": {
    "execution": {
     "iopub.execute_input": "2021-02-10T07:37:38.933539Z",
     "iopub.status.busy": "2021-02-10T07:37:38.933071Z",
     "iopub.status.idle": "2021-02-10T07:37:38.935906Z",
     "shell.execute_reply": "2021-02-10T07:37:38.935425Z"
    }
   },
   "outputs": [
    {
     "data": {
      "text/plain": [
       "array([[[16, 17, 18],\n",
       "        [21, 22, 23]],\n",
       "\n",
       "       [[31, 32, 33],\n",
       "        [36, 37, 38]]])"
      ]
     },
     "execution_count": 1,
     "metadata": {},
     "output_type": "execute_result"
    }
   ],
   "source": [
    "x[1:, 0:2, 1:4]"
   ]
  },
  {
   "cell_type": "markdown",
   "id": "located-arthur",
   "metadata": {},
   "source": [
    "### Copia de arreglos"
   ]
  },
  {
   "cell_type": "code",
   "execution_count": 11,
   "id": "excited-south",
   "metadata": {
    "execution": {
     "iopub.execute_input": "2021-02-10T07:37:38.939527Z",
     "iopub.status.busy": "2021-02-10T07:37:38.939062Z",
     "iopub.status.idle": "2021-02-10T07:37:38.941731Z",
     "shell.execute_reply": "2021-02-10T07:37:38.941324Z"
    }
   },
   "outputs": [
    {
     "data": {
      "text/plain": [
       "array([1, 2, 3, 4])"
      ]
     },
     "execution_count": 1,
     "metadata": {},
     "output_type": "execute_result"
    }
   ],
   "source": [
    "# Los arreglos no se copian con asignación\n",
    "\n",
    "a = np.array([1, 2, 3, 4])\n",
    "b = a\n",
    "b"
   ]
  },
  {
   "cell_type": "code",
   "execution_count": 12,
   "id": "professional-sweden",
   "metadata": {
    "execution": {
     "iopub.execute_input": "2021-02-10T07:37:38.944877Z",
     "iopub.status.busy": "2021-02-10T07:37:38.944414Z",
     "iopub.status.idle": "2021-02-10T07:37:38.947081Z",
     "shell.execute_reply": "2021-02-10T07:37:38.946676Z"
    }
   },
   "outputs": [
    {
     "data": {
      "text/plain": [
       "array([ 1, 20,  3,  4])"
      ]
     },
     "execution_count": 1,
     "metadata": {},
     "output_type": "execute_result"
    }
   ],
   "source": [
    "b[1] = 20\n",
    "b"
   ]
  },
  {
   "cell_type": "code",
   "execution_count": 13,
   "id": "cooked-thailand",
   "metadata": {
    "execution": {
     "iopub.execute_input": "2021-02-10T07:37:38.950146Z",
     "iopub.status.busy": "2021-02-10T07:37:38.949667Z",
     "iopub.status.idle": "2021-02-10T07:37:38.952311Z",
     "shell.execute_reply": "2021-02-10T07:37:38.951907Z"
    }
   },
   "outputs": [
    {
     "data": {
      "text/plain": [
       "array([ 1, 20,  3,  4])"
      ]
     },
     "execution_count": 1,
     "metadata": {},
     "output_type": "execute_result"
    }
   ],
   "source": [
    "a"
   ]
  },
  {
   "cell_type": "code",
   "execution_count": 14,
   "id": "supported-showcase",
   "metadata": {
    "execution": {
     "iopub.execute_input": "2021-02-10T07:37:38.955886Z",
     "iopub.status.busy": "2021-02-10T07:37:38.955419Z",
     "iopub.status.idle": "2021-02-10T07:37:38.958109Z",
     "shell.execute_reply": "2021-02-10T07:37:38.957674Z"
    }
   },
   "outputs": [
    {
     "data": {
      "text/plain": [
       "array([ 1, 20,  3,  4])"
      ]
     },
     "execution_count": 1,
     "metadata": {},
     "output_type": "execute_result"
    }
   ],
   "source": [
    "# Para copiar un arreglo a otra variable debemos usar copy()\n",
    "\n",
    "a = np.array([1, 2, 3, 4])\n",
    "b = a.copy()\n",
    "b[1] = 20\n",
    "b"
   ]
  },
  {
   "cell_type": "code",
   "execution_count": 15,
   "id": "digital-practice",
   "metadata": {
    "execution": {
     "iopub.execute_input": "2021-02-10T07:37:38.961170Z",
     "iopub.status.busy": "2021-02-10T07:37:38.960697Z",
     "iopub.status.idle": "2021-02-10T07:37:38.963376Z",
     "shell.execute_reply": "2021-02-10T07:37:38.962965Z"
    }
   },
   "outputs": [
    {
     "data": {
      "text/plain": [
       "array([1, 2, 3, 4])"
      ]
     },
     "execution_count": 1,
     "metadata": {},
     "output_type": "execute_result"
    }
   ],
   "source": [
    "a"
   ]
  },
  {
   "cell_type": "markdown",
   "id": "figured-native",
   "metadata": {},
   "source": [
    "### Modificación de dimensiones"
   ]
  },
  {
   "cell_type": "markdown",
   "id": "hindu-moldova",
   "metadata": {},
   "source": [
    "Existen varias operaciones para cambiar la forma de un arreglo de numpy"
   ]
  },
  {
   "cell_type": "code",
   "execution_count": 16,
   "id": "australian-preparation",
   "metadata": {
    "execution": {
     "iopub.execute_input": "2021-02-10T07:37:38.966464Z",
     "iopub.status.busy": "2021-02-10T07:37:38.965974Z",
     "iopub.status.idle": "2021-02-10T07:37:38.968657Z",
     "shell.execute_reply": "2021-02-10T07:37:38.968247Z"
    }
   },
   "outputs": [
    {
     "data": {
      "text/plain": [
       "2"
      ]
     },
     "execution_count": 1,
     "metadata": {},
     "output_type": "execute_result"
    }
   ],
   "source": [
    "# Obtener las dimensiones del arreglo\n",
    "\n",
    "matriz_de_enteros.ndim"
   ]
  },
  {
   "cell_type": "code",
   "execution_count": 17,
   "id": "advanced-scheduling",
   "metadata": {
    "execution": {
     "iopub.execute_input": "2021-02-10T07:37:38.971661Z",
     "iopub.status.busy": "2021-02-10T07:37:38.971201Z",
     "iopub.status.idle": "2021-02-10T07:37:38.973895Z",
     "shell.execute_reply": "2021-02-10T07:37:38.973474Z"
    }
   },
   "outputs": [
    {
     "data": {
      "text/plain": [
       "(3, 4)"
      ]
     },
     "execution_count": 1,
     "metadata": {},
     "output_type": "execute_result"
    }
   ],
   "source": [
    "# Obtener la forma del arreglo\n",
    "\n",
    "matriz_de_enteros.shape"
   ]
  },
  {
   "cell_type": "code",
   "execution_count": 18,
   "id": "attempted-skill",
   "metadata": {
    "execution": {
     "iopub.execute_input": "2021-02-10T07:37:38.977420Z",
     "iopub.status.busy": "2021-02-10T07:37:38.976953Z",
     "iopub.status.idle": "2021-02-10T07:37:38.979623Z",
     "shell.execute_reply": "2021-02-10T07:37:38.979219Z"
    }
   },
   "outputs": [
    {
     "data": {
      "text/plain": [
       "array([[ 3,  6],\n",
       "       [ 9, 12]])"
      ]
     },
     "execution_count": 1,
     "metadata": {},
     "output_type": "execute_result"
    }
   ],
   "source": [
    "# Modificar la forma de un arreglo\n",
    "\n",
    "enteros = np.array([3, 6, 9, 12])\n",
    "np.reshape(enteros, (2, 2))"
   ]
  },
  {
   "cell_type": "code",
   "execution_count": 19,
   "id": "prostate-scout",
   "metadata": {
    "execution": {
     "iopub.execute_input": "2021-02-10T07:37:38.983031Z",
     "iopub.status.busy": "2021-02-10T07:37:38.982569Z",
     "iopub.status.idle": "2021-02-10T07:37:38.985240Z",
     "shell.execute_reply": "2021-02-10T07:37:38.984818Z"
    }
   },
   "outputs": [
    {
     "data": {
      "text/plain": [
       "array([[1., 1.],\n",
       "       [1., 1.]])"
      ]
     },
     "execution_count": 1,
     "metadata": {},
     "output_type": "execute_result"
    }
   ],
   "source": [
    "# Aplanar un arreglo\n",
    "\n",
    "a = np.ones((2, 2))\n",
    "a"
   ]
  },
  {
   "cell_type": "code",
   "execution_count": 20,
   "id": "transsexual-royal",
   "metadata": {
    "execution": {
     "iopub.execute_input": "2021-02-10T07:37:38.988492Z",
     "iopub.status.busy": "2021-02-10T07:37:38.988034Z",
     "iopub.status.idle": "2021-02-10T07:37:38.990339Z",
     "shell.execute_reply": "2021-02-10T07:37:38.990704Z"
    }
   },
   "outputs": [
    {
     "data": {
      "text/plain": [
       "array([1., 1., 1., 1.])"
      ]
     },
     "execution_count": 1,
     "metadata": {},
     "output_type": "execute_result"
    }
   ],
   "source": [
    "a.flatten()"
   ]
  },
  {
   "cell_type": "code",
   "execution_count": 21,
   "id": "gentle-hamilton",
   "metadata": {
    "execution": {
     "iopub.execute_input": "2021-02-10T07:37:38.993879Z",
     "iopub.status.busy": "2021-02-10T07:37:38.993415Z",
     "iopub.status.idle": "2021-02-10T07:37:38.996103Z",
     "shell.execute_reply": "2021-02-10T07:37:38.995687Z"
    },
    "lines_to_next_cell": 2
   },
   "outputs": [
    {
     "data": {
      "text/plain": [
       "array([[1., 1.],\n",
       "       [1., 1.]])"
      ]
     },
     "execution_count": 1,
     "metadata": {},
     "output_type": "execute_result"
    }
   ],
   "source": [
    "a"
   ]
  },
  {
   "cell_type": "markdown",
   "id": "sophisticated-builder",
   "metadata": {},
   "source": [
    "### Combinación de arreglos (Stacking)"
   ]
  },
  {
   "cell_type": "code",
   "execution_count": 22,
   "id": "introductory-origin",
   "metadata": {
    "execution": {
     "iopub.execute_input": "2021-02-10T07:37:38.999425Z",
     "iopub.status.busy": "2021-02-10T07:37:38.998965Z",
     "iopub.status.idle": "2021-02-10T07:37:39.001635Z",
     "shell.execute_reply": "2021-02-10T07:37:39.001227Z"
    }
   },
   "outputs": [
    {
     "data": {
      "text/plain": [
       "array([0, 1, 2, 3, 4])"
      ]
     },
     "execution_count": 1,
     "metadata": {},
     "output_type": "execute_result"
    }
   ],
   "source": [
    "# Los arreglos se pueden combinar verticalmente (se incrementa la cantidad de filas)\n",
    "\n",
    "a = np.arange(0, 5)\n",
    "a"
   ]
  },
  {
   "cell_type": "code",
   "execution_count": 23,
   "id": "fixed-hybrid",
   "metadata": {
    "execution": {
     "iopub.execute_input": "2021-02-10T07:37:39.004857Z",
     "iopub.status.busy": "2021-02-10T07:37:39.004384Z",
     "iopub.status.idle": "2021-02-10T07:37:39.007064Z",
     "shell.execute_reply": "2021-02-10T07:37:39.006653Z"
    }
   },
   "outputs": [
    {
     "data": {
      "text/plain": [
       "array([5, 6, 7, 8, 9])"
      ]
     },
     "execution_count": 1,
     "metadata": {},
     "output_type": "execute_result"
    }
   ],
   "source": [
    "b = np.arange(5, 10)\n",
    "b"
   ]
  },
  {
   "cell_type": "code",
   "execution_count": 24,
   "id": "prime-validation",
   "metadata": {
    "execution": {
     "iopub.execute_input": "2021-02-10T07:37:39.010386Z",
     "iopub.status.busy": "2021-02-10T07:37:39.009895Z",
     "iopub.status.idle": "2021-02-10T07:37:39.012215Z",
     "shell.execute_reply": "2021-02-10T07:37:39.012598Z"
    }
   },
   "outputs": [
    {
     "data": {
      "text/plain": [
       "array([[0, 1, 2, 3, 4],\n",
       "       [5, 6, 7, 8, 9]])"
      ]
     },
     "execution_count": 1,
     "metadata": {},
     "output_type": "execute_result"
    }
   ],
   "source": [
    "combinados_verticalmente = np.vstack((a, b))\n",
    "combinados_verticalmente"
   ]
  },
  {
   "cell_type": "code",
   "execution_count": 25,
   "id": "recreational-chicken",
   "metadata": {
    "execution": {
     "iopub.execute_input": "2021-02-10T07:37:39.016382Z",
     "iopub.status.busy": "2021-02-10T07:37:39.015890Z",
     "iopub.status.idle": "2021-02-10T07:37:39.017753Z",
     "shell.execute_reply": "2021-02-10T07:37:39.018153Z"
    }
   },
   "outputs": [
    {
     "data": {
      "text/plain": [
       "array([0, 1, 2, 3, 4, 5, 6, 7, 8, 9])"
      ]
     },
     "execution_count": 1,
     "metadata": {},
     "output_type": "execute_result"
    }
   ],
   "source": [
    "# También se pueden combinar horizontalmente (se incrementa la cantidad de columnas)\n",
    "\n",
    "combinados_horizontalmente = np.hstack((a, b))\n",
    "combinados_horizontalmente"
   ]
  },
  {
   "cell_type": "markdown",
   "id": "confused-animal",
   "metadata": {},
   "source": [
    "### Operaciones matemáticas"
   ]
  },
  {
   "cell_type": "code",
   "execution_count": 26,
   "id": "domestic-examination",
   "metadata": {
    "execution": {
     "iopub.execute_input": "2021-02-10T07:37:39.021410Z",
     "iopub.status.busy": "2021-02-10T07:37:39.020951Z",
     "iopub.status.idle": "2021-02-10T07:37:39.023798Z",
     "shell.execute_reply": "2021-02-10T07:37:39.023389Z"
    }
   },
   "outputs": [
    {
     "data": {
      "text/plain": [
       "array([3, 4, 5, 6])"
      ]
     },
     "execution_count": 1,
     "metadata": {},
     "output_type": "execute_result"
    }
   ],
   "source": [
    "a = np.array([1, 2, 3, 4])\n",
    "\n",
    "a + 2"
   ]
  },
  {
   "cell_type": "code",
   "execution_count": 27,
   "id": "controlling-nylon",
   "metadata": {
    "execution": {
     "iopub.execute_input": "2021-02-10T07:37:39.026992Z",
     "iopub.status.busy": "2021-02-10T07:37:39.026522Z",
     "iopub.status.idle": "2021-02-10T07:37:39.029132Z",
     "shell.execute_reply": "2021-02-10T07:37:39.028726Z"
    }
   },
   "outputs": [
    {
     "data": {
      "text/plain": [
       "array([ 1,  4,  9, 16])"
      ]
     },
     "execution_count": 1,
     "metadata": {},
     "output_type": "execute_result"
    }
   ],
   "source": [
    "a ** 2"
   ]
  },
  {
   "cell_type": "code",
   "execution_count": 28,
   "id": "catholic-regard",
   "metadata": {
    "execution": {
     "iopub.execute_input": "2021-02-10T07:37:39.032617Z",
     "iopub.status.busy": "2021-02-10T07:37:39.032155Z",
     "iopub.status.idle": "2021-02-10T07:37:39.034463Z",
     "shell.execute_reply": "2021-02-10T07:37:39.034851Z"
    }
   },
   "outputs": [
    {
     "data": {
      "text/plain": [
       "array([2., 3., 4., 5.])"
      ]
     },
     "execution_count": 1,
     "metadata": {},
     "output_type": "execute_result"
    }
   ],
   "source": [
    "b = np.ones(4)\n",
    "a + b"
   ]
  },
  {
   "cell_type": "markdown",
   "id": "racial-great",
   "metadata": {},
   "source": [
    "### Estadística"
   ]
  },
  {
   "cell_type": "code",
   "execution_count": 29,
   "id": "south-atlantic",
   "metadata": {
    "execution": {
     "iopub.execute_input": "2021-02-10T07:37:39.038548Z",
     "iopub.status.busy": "2021-02-10T07:37:39.038063Z",
     "iopub.status.idle": "2021-02-10T07:37:39.040797Z",
     "shell.execute_reply": "2021-02-10T07:37:39.040375Z"
    }
   },
   "outputs": [
    {
     "data": {
      "text/plain": [
       "1"
      ]
     },
     "execution_count": 1,
     "metadata": {},
     "output_type": "execute_result"
    }
   ],
   "source": [
    "a = np.array([[5, 2, 1, 8], [26, 4, 17, 9]])\n",
    "\n",
    "np.min(a)"
   ]
  },
  {
   "cell_type": "code",
   "execution_count": 30,
   "id": "looking-leisure",
   "metadata": {
    "execution": {
     "iopub.execute_input": "2021-02-10T07:37:39.044102Z",
     "iopub.status.busy": "2021-02-10T07:37:39.043637Z",
     "iopub.status.idle": "2021-02-10T07:37:39.046337Z",
     "shell.execute_reply": "2021-02-10T07:37:39.045897Z"
    }
   },
   "outputs": [
    {
     "data": {
      "text/plain": [
       "26"
      ]
     },
     "execution_count": 1,
     "metadata": {},
     "output_type": "execute_result"
    }
   ],
   "source": [
    "np.max(a)"
   ]
  },
  {
   "cell_type": "code",
   "execution_count": 31,
   "id": "military-sport",
   "metadata": {
    "execution": {
     "iopub.execute_input": "2021-02-10T07:37:39.049539Z",
     "iopub.status.busy": "2021-02-10T07:37:39.049071Z",
     "iopub.status.idle": "2021-02-10T07:37:39.051370Z",
     "shell.execute_reply": "2021-02-10T07:37:39.051732Z"
    }
   },
   "outputs": [
    {
     "data": {
      "text/plain": [
       "72"
      ]
     },
     "execution_count": 1,
     "metadata": {},
     "output_type": "execute_result"
    }
   ],
   "source": [
    "np.sum(a)"
   ]
  },
  {
   "cell_type": "markdown",
   "id": "effective-wells",
   "metadata": {},
   "source": [
    "### Más magia"
   ]
  },
  {
   "cell_type": "code",
   "execution_count": 32,
   "id": "attractive-thesis",
   "metadata": {
    "execution": {
     "iopub.execute_input": "2021-02-10T07:37:39.055506Z",
     "iopub.status.busy": "2021-02-10T07:37:39.055041Z",
     "iopub.status.idle": "2021-02-10T07:37:39.057328Z",
     "shell.execute_reply": "2021-02-10T07:37:39.057719Z"
    }
   },
   "outputs": [
    {
     "data": {
      "text/plain": [
       "array([[False, False, False,  True],\n",
       "       [ True, False,  True,  True]])"
      ]
     },
     "execution_count": 1,
     "metadata": {},
     "output_type": "execute_result"
    }
   ],
   "source": [
    "a = np.array([[5, 2, 1, 8], [26, 4, 17, 9]])\n",
    "\n",
    "a > 5"
   ]
  },
  {
   "cell_type": "code",
   "execution_count": 33,
   "id": "prospective-calculation",
   "metadata": {
    "execution": {
     "iopub.execute_input": "2021-02-10T07:37:39.060970Z",
     "iopub.status.busy": "2021-02-10T07:37:39.060492Z",
     "iopub.status.idle": "2021-02-10T07:37:39.063166Z",
     "shell.execute_reply": "2021-02-10T07:37:39.062757Z"
    }
   },
   "outputs": [
    {
     "data": {
      "text/plain": [
       "array([ 8, 26, 17,  9])"
      ]
     },
     "execution_count": 1,
     "metadata": {},
     "output_type": "execute_result"
    }
   ],
   "source": [
    "a[a > 5]"
   ]
  },
  {
   "cell_type": "markdown",
   "id": "varying-miller",
   "metadata": {},
   "source": [
    "### Broadcasting"
   ]
  },
  {
   "cell_type": "markdown",
   "id": "norwegian-dinner",
   "metadata": {},
   "source": [
    "Permite realizar operaciones entre dos numpy arrays de distintas dimensiones.\n",
    "Para lograr esto, las dimensiones de los mismos deben ser compatibles. Dos dimensiones son compatibles cuando:\n",
    "1. Son iguales\n",
    "2. Alguna de las dos es 1"
   ]
  },
  {
   "cell_type": "code",
   "execution_count": 34,
   "id": "complete-emphasis",
   "metadata": {
    "execution": {
     "iopub.execute_input": "2021-02-10T07:37:39.067214Z",
     "iopub.status.busy": "2021-02-10T07:37:39.066321Z",
     "iopub.status.idle": "2021-02-10T07:37:39.068584Z",
     "shell.execute_reply": "2021-02-10T07:37:39.068941Z"
    }
   },
   "outputs": [
    {
     "data": {
      "text/plain": [
       "array([[ 5,  2,  1,  8],\n",
       "       [26,  4, 17,  9]])"
      ]
     },
     "execution_count": 1,
     "metadata": {},
     "output_type": "execute_result"
    }
   ],
   "source": [
    "a = np.array([[5, 2, 1, 8], [26, 4, 17, 9]])\n",
    "a"
   ]
  },
  {
   "cell_type": "code",
   "execution_count": 35,
   "id": "attached-jungle",
   "metadata": {
    "execution": {
     "iopub.execute_input": "2021-02-10T07:37:39.074007Z",
     "iopub.status.busy": "2021-02-10T07:37:39.073522Z",
     "iopub.status.idle": "2021-02-10T07:37:39.076828Z",
     "shell.execute_reply": "2021-02-10T07:37:39.076412Z"
    }
   },
   "outputs": [
    {
     "name": "stdout",
     "output_type": "stream",
     "text": [
      "a: (2, 4)\n",
      "b: (4,)\n"
     ]
    },
    {
     "data": {
      "text/plain": [
       "array([[10,  4,  2, 16],\n",
       "       [31,  6, 18, 17]])"
      ]
     },
     "execution_count": 1,
     "metadata": {},
     "output_type": "execute_result"
    }
   ],
   "source": [
    "# Armamos un array que tenga la misma cantidad de columnas que a\n",
    "b = np.array([5, 2, 1, 8])\n",
    "print(f\"a: {a.shape}\")\n",
    "print(f\"b: {b.shape}\")\n",
    "a + b"
   ]
  },
  {
   "cell_type": "code",
   "execution_count": 36,
   "id": "revolutionary-veteran",
   "metadata": {
    "execution": {
     "iopub.execute_input": "2021-02-10T07:37:39.080307Z",
     "iopub.status.busy": "2021-02-10T07:37:39.079760Z",
     "iopub.status.idle": "2021-02-10T07:37:39.137534Z",
     "shell.execute_reply": "2021-02-10T07:37:39.136937Z"
    },
    "tags": [
     "raises-exception"
    ]
   },
   "outputs": [
    {
     "name": "stdout",
     "output_type": "stream",
     "text": [
      "a: (2, 4)\n",
      "b: (3,)\n"
     ]
    },
    {
     "ename": "ValueError",
     "evalue": "operands could not be broadcast together with shapes (2,4) (3,) ",
     "output_type": "error",
     "traceback": [
      "\u001b[0;31m---------------------------------------------------------------------------\u001b[0m",
      "\u001b[0;31mValueError\u001b[0m                                Traceback (most recent call last)",
      "\u001b[0;32m<ipython-input-1-fe11b6ae6346>\u001b[0m in \u001b[0;36m<module>\u001b[0;34m\u001b[0m\n\u001b[1;32m      3\u001b[0m \u001b[0mprint\u001b[0m\u001b[0;34m(\u001b[0m\u001b[0;34mf\"a: {a.shape}\"\u001b[0m\u001b[0;34m)\u001b[0m\u001b[0;34m\u001b[0m\u001b[0;34m\u001b[0m\u001b[0m\n\u001b[1;32m      4\u001b[0m \u001b[0mprint\u001b[0m\u001b[0;34m(\u001b[0m\u001b[0;34mf\"b: {b.shape}\"\u001b[0m\u001b[0;34m)\u001b[0m\u001b[0;34m\u001b[0m\u001b[0;34m\u001b[0m\u001b[0m\n\u001b[0;32m----> 5\u001b[0;31m \u001b[0ma\u001b[0m \u001b[0;34m+\u001b[0m \u001b[0mb\u001b[0m\u001b[0;34m\u001b[0m\u001b[0;34m\u001b[0m\u001b[0m\n\u001b[0m",
      "\u001b[0;31mValueError\u001b[0m: operands could not be broadcast together with shapes (2,4) (3,) "
     ]
    }
   ],
   "source": [
    "# Armamos un array que tenga distinta cantidad de filas y columnas que a\n",
    "b = np.array([5, 1, 8])\n",
    "print(f\"a: {a.shape}\")\n",
    "print(f\"b: {b.shape}\")\n",
    "a + b"
   ]
  },
  {
   "cell_type": "code",
   "execution_count": 37,
   "id": "occupational-phone",
   "metadata": {
    "execution": {
     "iopub.execute_input": "2021-02-10T07:37:39.242640Z",
     "iopub.status.busy": "2021-02-10T07:37:39.242000Z",
     "iopub.status.idle": "2021-02-10T07:37:39.245607Z",
     "shell.execute_reply": "2021-02-10T07:37:39.245180Z"
    }
   },
   "outputs": [
    {
     "name": "stdout",
     "output_type": "stream",
     "text": [
      "a: (2, 4)\n",
      "b: (2, 1)\n"
     ]
    },
    {
     "data": {
      "text/plain": [
       "array([[ 7,  4,  3, 10],\n",
       "       [27,  5, 18, 10]])"
      ]
     },
     "execution_count": 1,
     "metadata": {},
     "output_type": "execute_result"
    }
   ],
   "source": [
    "# Armamos un array que tenga la misma cantidad de filas que a\n",
    "b = np.array([[2], [1]])\n",
    "print(f\"a: {a.shape}\")\n",
    "print(f\"b: {b.shape}\")\n",
    "a + b"
   ]
  },
  {
   "cell_type": "code",
   "execution_count": 38,
   "id": "boolean-issue",
   "metadata": {
    "execution": {
     "iopub.execute_input": "2021-02-10T07:37:39.249792Z",
     "iopub.status.busy": "2021-02-10T07:37:39.249306Z",
     "iopub.status.idle": "2021-02-10T07:37:39.251724Z",
     "shell.execute_reply": "2021-02-10T07:37:39.252103Z"
    }
   },
   "outputs": [
    {
     "data": {
      "text/plain": [
       "array([[ 9,  6,  5, 12],\n",
       "       [30,  8, 21, 13]])"
      ]
     },
     "execution_count": 1,
     "metadata": {},
     "output_type": "execute_result"
    }
   ],
   "source": [
    "b = 4\n",
    "a + b"
   ]
  }
 ],
 "metadata": {
  "jupytext": {
   "encoding": "# -*- coding: utf-8 -*-",
   "formats": "ipynb,py:light"
  },
  "kernelspec": {
   "display_name": "Python 3 (venv)",
   "language": "python",
   "name": "python3"
  },
  "language_info": {
   "codemirror_mode": {
    "name": "ipython",
    "version": 3
   },
   "file_extension": ".py",
   "mimetype": "text/x-python",
   "name": "python",
   "nbconvert_exporter": "python",
   "pygments_lexer": "ipython3",
   "version": "3.7.9"
  }
 },
 "nbformat": 4,
 "nbformat_minor": 5
}
