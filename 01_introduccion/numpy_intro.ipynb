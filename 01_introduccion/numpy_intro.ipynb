{
 "cells": [
  {
   "cell_type": "markdown",
   "id": "f7b2a083",
   "metadata": {},
   "source": [
    "## Clase 1 - Introducción a Numpy\n",
    "\n",
    "Numpy es una biblioteca para Python que facilita el manejo de arreglos multidimensionales y ofrece varias herramientas para trabajar con ellos. Muchas de las bibliotecas de Python que son ampliamente usadas hoy en día, como pandas, están construidas sobre numpy.\n",
    "\n",
    "### Listas de Python vs arreglos de Numpy\n",
    "\n",
    "A primera vista, un arreglo de numpy puede resultar idéntico a una lista de python, pero a medida que la cantidad de datos comienza a incrementar, los arreglos de numpy terminan ofreciendo un manejo más eficiente de la memoria.\n",
    "\n",
    "Para comenzar, vamos a crear un arreglo de numpy:"
   ]
  },
  {
   "cell_type": "code",
   "execution_count": 1,
   "id": "7951b924",
   "metadata": {
    "execution": {
     "iopub.execute_input": "2021-05-20T16:09:20.176135Z",
     "iopub.status.busy": "2021-05-20T16:09:20.175540Z",
     "iopub.status.idle": "2021-05-20T16:09:20.341871Z",
     "shell.execute_reply": "2021-05-20T16:09:20.342329Z"
    }
   },
   "outputs": [
    {
     "data": {
      "text/plain": [
       "array([1, 2, 3, 4])"
      ]
     },
     "execution_count": 1,
     "metadata": {},
     "output_type": "execute_result"
    }
   ],
   "source": [
    "import numpy as np\n",
    "\n",
    "np.array([1, 2, 3, 4])"
   ]
  },
  {
   "cell_type": "markdown",
   "id": "d7a2ea1b",
   "metadata": {},
   "source": [
    "Los arreglos pueden ser también multidimensionales:"
   ]
  },
  {
   "cell_type": "code",
   "execution_count": 2,
   "id": "1b7d3da9",
   "metadata": {
    "execution": {
     "iopub.execute_input": "2021-05-20T16:09:20.346811Z",
     "iopub.status.busy": "2021-05-20T16:09:20.346262Z",
     "iopub.status.idle": "2021-05-20T16:09:20.349035Z",
     "shell.execute_reply": "2021-05-20T16:09:20.348574Z"
    }
   },
   "outputs": [
    {
     "data": {
      "text/plain": [
       "array([[1, 2, 3, 4],\n",
       "       [5, 6, 7, 8]])"
      ]
     },
     "execution_count": 1,
     "metadata": {},
     "output_type": "execute_result"
    }
   ],
   "source": [
    "np.array([[1, 2, 3, 4], [5, 6, 7, 8]])"
   ]
  },
  {
   "cell_type": "markdown",
   "id": "e23e33c5",
   "metadata": {},
   "source": [
    "Es importante tener en cuenta que un arreglo de numpy tiene un tipo fijo de datos, entonces si se quiere agregar un dato de un tipo diferente al de la mayoría, este va a ser modificado para adaptarse al resto"
   ]
  },
  {
   "cell_type": "code",
   "execution_count": 3,
   "id": "76f04481",
   "metadata": {
    "execution": {
     "iopub.execute_input": "2021-05-20T16:09:20.352367Z",
     "iopub.status.busy": "2021-05-20T16:09:20.351898Z",
     "iopub.status.idle": "2021-05-20T16:09:20.354035Z",
     "shell.execute_reply": "2021-05-20T16:09:20.353624Z"
    }
   },
   "outputs": [],
   "source": [
    "enteros = np.array([1, 2, 3, 4])"
   ]
  },
  {
   "cell_type": "markdown",
   "id": "b1bad231",
   "metadata": {},
   "source": [
    "Agrego un elemento de tipo flotante en la posición 1"
   ]
  },
  {
   "cell_type": "code",
   "execution_count": 4,
   "id": "479b30a7",
   "metadata": {
    "execution": {
     "iopub.execute_input": "2021-05-20T16:09:20.357540Z",
     "iopub.status.busy": "2021-05-20T16:09:20.357071Z",
     "iopub.status.idle": "2021-05-20T16:09:20.359570Z",
     "shell.execute_reply": "2021-05-20T16:09:20.359089Z"
    }
   },
   "outputs": [
    {
     "data": {
      "text/plain": [
       "array([1, 8, 3, 4])"
      ]
     },
     "execution_count": 1,
     "metadata": {},
     "output_type": "execute_result"
    }
   ],
   "source": [
    "enteros[1] = 8.4727\n",
    "enteros"
   ]
  },
  {
   "cell_type": "markdown",
   "id": "2cc13d45",
   "metadata": {},
   "source": [
    "Numpy también nos permite crear arreglos con valores aleatorios del 0 al 1.\n",
    "Basta con pasarle las dimensiones del arreglo que queremos crear."
   ]
  },
  {
   "cell_type": "code",
   "execution_count": 5,
   "id": "e1551cd7",
   "metadata": {
    "execution": {
     "iopub.execute_input": "2021-05-20T16:09:20.363312Z",
     "iopub.status.busy": "2021-05-20T16:09:20.362846Z",
     "iopub.status.idle": "2021-05-20T16:09:20.365146Z",
     "shell.execute_reply": "2021-05-20T16:09:20.365540Z"
    }
   },
   "outputs": [
    {
     "data": {
      "text/plain": [
       "array([[0.78062837, 0.47645561, 0.43289931],\n",
       "       [0.94354716, 0.07791094, 0.40956478]])"
      ]
     },
     "execution_count": 1,
     "metadata": {},
     "output_type": "execute_result"
    }
   ],
   "source": [
    "np.random.rand(2, 3)"
   ]
  },
  {
   "cell_type": "markdown",
   "id": "8c0e432e",
   "metadata": {},
   "source": [
    "## Slicing\n",
    "\n",
    "De la misma forma que con las listas de python, pueden obtenerse slices de los arreglos de numpy"
   ]
  },
  {
   "cell_type": "code",
   "execution_count": 6,
   "id": "b854101e",
   "metadata": {
    "execution": {
     "iopub.execute_input": "2021-05-20T16:09:20.368910Z",
     "iopub.status.busy": "2021-05-20T16:09:20.368443Z",
     "iopub.status.idle": "2021-05-20T16:09:20.370725Z",
     "shell.execute_reply": "2021-05-20T16:09:20.371112Z"
    },
    "lines_to_next_cell": 2
   },
   "outputs": [
    {
     "data": {
      "text/plain": [
       "array([1, 8])"
      ]
     },
     "execution_count": 1,
     "metadata": {},
     "output_type": "execute_result"
    }
   ],
   "source": [
    "enteros[:2]"
   ]
  },
  {
   "cell_type": "code",
   "execution_count": 7,
   "id": "a19f9c41",
   "metadata": {
    "execution": {
     "iopub.execute_input": "2021-05-20T16:09:20.376485Z",
     "iopub.status.busy": "2021-05-20T16:09:20.376001Z",
     "iopub.status.idle": "2021-05-20T16:09:20.377740Z",
     "shell.execute_reply": "2021-05-20T16:09:20.378120Z"
    }
   },
   "outputs": [
    {
     "name": "stdout",
     "output_type": "stream",
     "text": [
      "Original: \n",
      "[[ 1  2  3  4]\n",
      " [ 5  6  7  8]\n",
      " [ 9 10 11 12]]\n",
      "\n",
      "Recortada: \n",
      "[[1 2 3]\n",
      " [5 6 7]]\n"
     ]
    }
   ],
   "source": [
    "matriz_de_enteros = np.array([[1, 2, 3, 4], [5, 6, 7, 8], [9, 10, 11, 12]])\n",
    "\n",
    "print('Original: ')\n",
    "print(matriz_de_enteros)\n",
    "\n",
    "print()\n",
    "\n",
    "print('Recortada: ')\n",
    "print(matriz_de_enteros[:2, :3])"
   ]
  },
  {
   "cell_type": "code",
   "execution_count": 8,
   "id": "579a7cdb",
   "metadata": {
    "execution": {
     "iopub.execute_input": "2021-05-20T16:09:20.381765Z",
     "iopub.status.busy": "2021-05-20T16:09:20.381290Z",
     "iopub.status.idle": "2021-05-20T16:09:20.383947Z",
     "shell.execute_reply": "2021-05-20T16:09:20.383534Z"
    }
   },
   "outputs": [
    {
     "data": {
      "text/plain": [
       "array([[[ 0,  1,  2,  3,  4],\n",
       "        [ 5,  6,  7,  8,  9],\n",
       "        [10, 11, 12, 13, 14]],\n",
       "\n",
       "       [[15, 16, 17, 18, 19],\n",
       "        [20, 21, 22, 23, 24],\n",
       "        [25, 26, 27, 28, 29]],\n",
       "\n",
       "       [[30, 31, 32, 33, 34],\n",
       "        [35, 36, 37, 38, 39],\n",
       "        [40, 41, 42, 43, 44]]])"
      ]
     },
     "execution_count": 1,
     "metadata": {},
     "output_type": "execute_result"
    }
   ],
   "source": [
    "# 3D\n",
    "# arange() genera valores de un intervalo pasado por parámetro\n",
    "# reshape() modifica la forma del numpy array\n",
    "\n",
    "x = np.arange(45).reshape(3, 3, 5)\n",
    "x"
   ]
  },
  {
   "cell_type": "code",
   "execution_count": 9,
   "id": "563f7ad4",
   "metadata": {
    "execution": {
     "iopub.execute_input": "2021-05-20T16:09:20.387332Z",
     "iopub.status.busy": "2021-05-20T16:09:20.386867Z",
     "iopub.status.idle": "2021-05-20T16:09:20.389433Z",
     "shell.execute_reply": "2021-05-20T16:09:20.389006Z"
    }
   },
   "outputs": [
    {
     "data": {
      "text/plain": [
       "array([[ 0,  1,  2,  3,  4],\n",
       "       [ 5,  6,  7,  8,  9],\n",
       "       [10, 11, 12, 13, 14]])"
      ]
     },
     "execution_count": 1,
     "metadata": {},
     "output_type": "execute_result"
    }
   ],
   "source": [
    "x[0]"
   ]
  },
  {
   "cell_type": "code",
   "execution_count": 10,
   "id": "6f6ec8e7",
   "metadata": {
    "execution": {
     "iopub.execute_input": "2021-05-20T16:09:20.392656Z",
     "iopub.status.busy": "2021-05-20T16:09:20.392192Z",
     "iopub.status.idle": "2021-05-20T16:09:20.394921Z",
     "shell.execute_reply": "2021-05-20T16:09:20.394509Z"
    }
   },
   "outputs": [
    {
     "data": {
      "text/plain": [
       "array([5, 6, 7, 8, 9])"
      ]
     },
     "execution_count": 1,
     "metadata": {},
     "output_type": "execute_result"
    }
   ],
   "source": [
    "x[0][1]"
   ]
  },
  {
   "cell_type": "code",
   "execution_count": 11,
   "id": "6bb7a8d3",
   "metadata": {
    "execution": {
     "iopub.execute_input": "2021-05-20T16:09:20.398152Z",
     "iopub.status.busy": "2021-05-20T16:09:20.397688Z",
     "iopub.status.idle": "2021-05-20T16:09:20.400414Z",
     "shell.execute_reply": "2021-05-20T16:09:20.399989Z"
    }
   },
   "outputs": [
    {
     "data": {
      "text/plain": [
       "7"
      ]
     },
     "execution_count": 1,
     "metadata": {},
     "output_type": "execute_result"
    }
   ],
   "source": [
    "x[0][1][2]"
   ]
  },
  {
   "cell_type": "markdown",
   "id": "c7132666",
   "metadata": {},
   "source": [
    "\n",
    "¿Cómo conseguimos estos valores? ([fuente](https://towardsdatascience.com/indexing-and-slicing-of-1d-2d-and-3d-arrays-in-numpy-e731afff0bbe))\n",
    "\n",
    "![title](img/matrix.png)"
   ]
  },
  {
   "cell_type": "code",
   "execution_count": 12,
   "id": "be82eff6",
   "metadata": {
    "execution": {
     "iopub.execute_input": "2021-05-20T16:09:20.403938Z",
     "iopub.status.busy": "2021-05-20T16:09:20.403473Z",
     "iopub.status.idle": "2021-05-20T16:09:20.406274Z",
     "shell.execute_reply": "2021-05-20T16:09:20.405857Z"
    }
   },
   "outputs": [
    {
     "data": {
      "text/plain": [
       "array([[[16, 17, 18],\n",
       "        [21, 22, 23]],\n",
       "\n",
       "       [[31, 32, 33],\n",
       "        [36, 37, 38]]])"
      ]
     },
     "execution_count": 1,
     "metadata": {},
     "output_type": "execute_result"
    }
   ],
   "source": [
    "x[1:, 0:2, 1:4]"
   ]
  },
  {
   "cell_type": "markdown",
   "id": "cb2b70d0",
   "metadata": {},
   "source": [
    "### Copia de arreglos"
   ]
  },
  {
   "cell_type": "code",
   "execution_count": 13,
   "id": "2525cb07",
   "metadata": {
    "execution": {
     "iopub.execute_input": "2021-05-20T16:09:20.409820Z",
     "iopub.status.busy": "2021-05-20T16:09:20.409345Z",
     "iopub.status.idle": "2021-05-20T16:09:20.412033Z",
     "shell.execute_reply": "2021-05-20T16:09:20.411620Z"
    }
   },
   "outputs": [
    {
     "data": {
      "text/plain": [
       "array([1, 2, 3, 4])"
      ]
     },
     "execution_count": 1,
     "metadata": {},
     "output_type": "execute_result"
    }
   ],
   "source": [
    "# Los arreglos no se copian con asignación\n",
    "\n",
    "a = np.array([1, 2, 3, 4])\n",
    "b = a\n",
    "b"
   ]
  },
  {
   "cell_type": "code",
   "execution_count": 14,
   "id": "80ac5069",
   "metadata": {
    "execution": {
     "iopub.execute_input": "2021-05-20T16:09:20.415238Z",
     "iopub.status.busy": "2021-05-20T16:09:20.414769Z",
     "iopub.status.idle": "2021-05-20T16:09:20.417123Z",
     "shell.execute_reply": "2021-05-20T16:09:20.417491Z"
    }
   },
   "outputs": [
    {
     "data": {
      "text/plain": [
       "array([ 1, 20,  3,  4])"
      ]
     },
     "execution_count": 1,
     "metadata": {},
     "output_type": "execute_result"
    }
   ],
   "source": [
    "b[1] = 20\n",
    "b"
   ]
  },
  {
   "cell_type": "code",
   "execution_count": 15,
   "id": "f4cb41dc",
   "metadata": {
    "execution": {
     "iopub.execute_input": "2021-05-20T16:09:20.420620Z",
     "iopub.status.busy": "2021-05-20T16:09:20.420150Z",
     "iopub.status.idle": "2021-05-20T16:09:20.422830Z",
     "shell.execute_reply": "2021-05-20T16:09:20.422419Z"
    }
   },
   "outputs": [
    {
     "data": {
      "text/plain": [
       "array([ 1, 20,  3,  4])"
      ]
     },
     "execution_count": 1,
     "metadata": {},
     "output_type": "execute_result"
    }
   ],
   "source": [
    "a"
   ]
  },
  {
   "cell_type": "code",
   "execution_count": 16,
   "id": "c0df854f",
   "metadata": {
    "execution": {
     "iopub.execute_input": "2021-05-20T16:09:20.426491Z",
     "iopub.status.busy": "2021-05-20T16:09:20.426014Z",
     "iopub.status.idle": "2021-05-20T16:09:20.428725Z",
     "shell.execute_reply": "2021-05-20T16:09:20.428313Z"
    }
   },
   "outputs": [
    {
     "data": {
      "text/plain": [
       "array([ 1, 20,  3,  4])"
      ]
     },
     "execution_count": 1,
     "metadata": {},
     "output_type": "execute_result"
    }
   ],
   "source": [
    "# Para copiar un arreglo a otra variable debemos usar copy()\n",
    "\n",
    "a = np.array([1, 2, 3, 4])\n",
    "b = a.copy()\n",
    "b[1] = 20\n",
    "b"
   ]
  },
  {
   "cell_type": "code",
   "execution_count": 17,
   "id": "32ef9cb0",
   "metadata": {
    "execution": {
     "iopub.execute_input": "2021-05-20T16:09:20.431807Z",
     "iopub.status.busy": "2021-05-20T16:09:20.431346Z",
     "iopub.status.idle": "2021-05-20T16:09:20.434086Z",
     "shell.execute_reply": "2021-05-20T16:09:20.433662Z"
    }
   },
   "outputs": [
    {
     "data": {
      "text/plain": [
       "array([1, 2, 3, 4])"
      ]
     },
     "execution_count": 1,
     "metadata": {},
     "output_type": "execute_result"
    }
   ],
   "source": [
    "a"
   ]
  },
  {
   "cell_type": "markdown",
   "id": "4d06da54",
   "metadata": {},
   "source": [
    "### Modificación de dimensiones"
   ]
  },
  {
   "cell_type": "markdown",
   "id": "d791f134",
   "metadata": {},
   "source": [
    "Existen varias operaciones para cambiar la forma de un arreglo de numpy"
   ]
  },
  {
   "cell_type": "code",
   "execution_count": 18,
   "id": "2266abb5",
   "metadata": {
    "execution": {
     "iopub.execute_input": "2021-05-20T16:09:20.437342Z",
     "iopub.status.busy": "2021-05-20T16:09:20.436854Z",
     "iopub.status.idle": "2021-05-20T16:09:20.439578Z",
     "shell.execute_reply": "2021-05-20T16:09:20.439163Z"
    }
   },
   "outputs": [
    {
     "data": {
      "text/plain": [
       "array([[ 1,  2,  3,  4],\n",
       "       [ 5,  6,  7,  8],\n",
       "       [ 9, 10, 11, 12]])"
      ]
     },
     "execution_count": 1,
     "metadata": {},
     "output_type": "execute_result"
    }
   ],
   "source": [
    "matriz_de_enteros"
   ]
  },
  {
   "cell_type": "code",
   "execution_count": 19,
   "id": "066b1675",
   "metadata": {
    "execution": {
     "iopub.execute_input": "2021-05-20T16:09:20.442573Z",
     "iopub.status.busy": "2021-05-20T16:09:20.442100Z",
     "iopub.status.idle": "2021-05-20T16:09:20.445296Z",
     "shell.execute_reply": "2021-05-20T16:09:20.445685Z"
    }
   },
   "outputs": [
    {
     "data": {
      "text/plain": [
       "2"
      ]
     },
     "execution_count": 1,
     "metadata": {},
     "output_type": "execute_result"
    }
   ],
   "source": [
    "# Obtener las dimensiones del arreglo\n",
    "\n",
    "matriz_de_enteros.ndim"
   ]
  },
  {
   "cell_type": "code",
   "execution_count": 20,
   "id": "7e107c21",
   "metadata": {
    "execution": {
     "iopub.execute_input": "2021-05-20T16:09:20.448744Z",
     "iopub.status.busy": "2021-05-20T16:09:20.448273Z",
     "iopub.status.idle": "2021-05-20T16:09:20.450996Z",
     "shell.execute_reply": "2021-05-20T16:09:20.450579Z"
    }
   },
   "outputs": [
    {
     "data": {
      "text/plain": [
       "(3, 4)"
      ]
     },
     "execution_count": 1,
     "metadata": {},
     "output_type": "execute_result"
    }
   ],
   "source": [
    "# Obtener la forma del arreglo\n",
    "\n",
    "matriz_de_enteros.shape"
   ]
  },
  {
   "cell_type": "code",
   "execution_count": 21,
   "id": "bd945e32",
   "metadata": {
    "execution": {
     "iopub.execute_input": "2021-05-20T16:09:20.454984Z",
     "iopub.status.busy": "2021-05-20T16:09:20.454517Z",
     "iopub.status.idle": "2021-05-20T16:09:20.456802Z",
     "shell.execute_reply": "2021-05-20T16:09:20.457283Z"
    }
   },
   "outputs": [
    {
     "name": "stdout",
     "output_type": "stream",
     "text": [
      "enteros: [ 3  6  9 12]\n"
     ]
    },
    {
     "data": {
      "text/plain": [
       "array([[ 3,  6],\n",
       "       [ 9, 12]])"
      ]
     },
     "execution_count": 1,
     "metadata": {},
     "output_type": "execute_result"
    }
   ],
   "source": [
    "# Modificar la forma de un arreglo\n",
    "\n",
    "enteros = np.array([3, 6, 9, 12])\n",
    "print(f\"enteros: {enteros}\")\n",
    "np.reshape(enteros, (2, 2))"
   ]
  },
  {
   "cell_type": "code",
   "execution_count": 22,
   "id": "94e84ab0",
   "metadata": {
    "execution": {
     "iopub.execute_input": "2021-05-20T16:09:20.460750Z",
     "iopub.status.busy": "2021-05-20T16:09:20.460286Z",
     "iopub.status.idle": "2021-05-20T16:09:20.463001Z",
     "shell.execute_reply": "2021-05-20T16:09:20.462590Z"
    }
   },
   "outputs": [
    {
     "data": {
      "text/plain": [
       "array([[1., 1.],\n",
       "       [1., 1.]])"
      ]
     },
     "execution_count": 1,
     "metadata": {},
     "output_type": "execute_result"
    }
   ],
   "source": [
    "# Aplanar un arreglo\n",
    "\n",
    "a = np.ones((2, 2))\n",
    "a"
   ]
  },
  {
   "cell_type": "code",
   "execution_count": 23,
   "id": "93f88bc2",
   "metadata": {
    "execution": {
     "iopub.execute_input": "2021-05-20T16:09:20.466276Z",
     "iopub.status.busy": "2021-05-20T16:09:20.465812Z",
     "iopub.status.idle": "2021-05-20T16:09:20.468548Z",
     "shell.execute_reply": "2021-05-20T16:09:20.468140Z"
    }
   },
   "outputs": [
    {
     "data": {
      "text/plain": [
       "array([1., 1., 1., 1.])"
      ]
     },
     "execution_count": 1,
     "metadata": {},
     "output_type": "execute_result"
    }
   ],
   "source": [
    "a.flatten()"
   ]
  },
  {
   "cell_type": "code",
   "execution_count": 24,
   "id": "a2e553c8",
   "metadata": {
    "execution": {
     "iopub.execute_input": "2021-05-20T16:09:20.471821Z",
     "iopub.status.busy": "2021-05-20T16:09:20.471354Z",
     "iopub.status.idle": "2021-05-20T16:09:20.473690Z",
     "shell.execute_reply": "2021-05-20T16:09:20.474052Z"
    },
    "lines_to_next_cell": 2
   },
   "outputs": [
    {
     "data": {
      "text/plain": [
       "array([[1., 1.],\n",
       "       [1., 1.]])"
      ]
     },
     "execution_count": 1,
     "metadata": {},
     "output_type": "execute_result"
    }
   ],
   "source": [
    "a"
   ]
  },
  {
   "cell_type": "markdown",
   "id": "cbaacbf5",
   "metadata": {},
   "source": [
    "### Combinación de arreglos (Stacking)"
   ]
  },
  {
   "cell_type": "code",
   "execution_count": 25,
   "id": "6e348cc9",
   "metadata": {
    "execution": {
     "iopub.execute_input": "2021-05-20T16:09:20.477415Z",
     "iopub.status.busy": "2021-05-20T16:09:20.476925Z",
     "iopub.status.idle": "2021-05-20T16:09:20.479574Z",
     "shell.execute_reply": "2021-05-20T16:09:20.479165Z"
    }
   },
   "outputs": [
    {
     "data": {
      "text/plain": [
       "array([0, 1, 2, 3, 4])"
      ]
     },
     "execution_count": 1,
     "metadata": {},
     "output_type": "execute_result"
    }
   ],
   "source": [
    "# Los arreglos se pueden combinar verticalmente (se incrementa la cantidad de filas)\n",
    "\n",
    "a = np.arange(0, 5)\n",
    "a"
   ]
  },
  {
   "cell_type": "code",
   "execution_count": 26,
   "id": "e92453be",
   "metadata": {
    "execution": {
     "iopub.execute_input": "2021-05-20T16:09:20.482838Z",
     "iopub.status.busy": "2021-05-20T16:09:20.482375Z",
     "iopub.status.idle": "2021-05-20T16:09:20.485108Z",
     "shell.execute_reply": "2021-05-20T16:09:20.484677Z"
    }
   },
   "outputs": [
    {
     "data": {
      "text/plain": [
       "array([5, 6, 7, 8, 9])"
      ]
     },
     "execution_count": 1,
     "metadata": {},
     "output_type": "execute_result"
    }
   ],
   "source": [
    "b = np.arange(5, 10)\n",
    "b"
   ]
  },
  {
   "cell_type": "code",
   "execution_count": 27,
   "id": "f18173a3",
   "metadata": {
    "execution": {
     "iopub.execute_input": "2021-05-20T16:09:20.488445Z",
     "iopub.status.busy": "2021-05-20T16:09:20.487982Z",
     "iopub.status.idle": "2021-05-20T16:09:20.490703Z",
     "shell.execute_reply": "2021-05-20T16:09:20.490295Z"
    }
   },
   "outputs": [
    {
     "data": {
      "text/plain": [
       "array([[0, 1, 2, 3, 4],\n",
       "       [5, 6, 7, 8, 9]])"
      ]
     },
     "execution_count": 1,
     "metadata": {},
     "output_type": "execute_result"
    }
   ],
   "source": [
    "combinados_verticalmente = np.vstack((a, b))\n",
    "combinados_verticalmente"
   ]
  },
  {
   "cell_type": "code",
   "execution_count": 28,
   "id": "7c448e07",
   "metadata": {
    "execution": {
     "iopub.execute_input": "2021-05-20T16:09:20.493563Z",
     "iopub.status.busy": "2021-05-20T16:09:20.493004Z",
     "iopub.status.idle": "2021-05-20T16:09:20.496148Z",
     "shell.execute_reply": "2021-05-20T16:09:20.495763Z"
    }
   },
   "outputs": [
    {
     "data": {
      "text/plain": [
       "array([0, 1, 2, 3, 4, 5, 6, 7, 8, 9])"
      ]
     },
     "execution_count": 1,
     "metadata": {},
     "output_type": "execute_result"
    }
   ],
   "source": [
    "# También se pueden combinar horizontalmente (se incrementa la cantidad de columnas)\n",
    "\n",
    "combinados_horizontalmente = np.hstack((a, b))\n",
    "combinados_horizontalmente"
   ]
  },
  {
   "cell_type": "markdown",
   "id": "9b676d50",
   "metadata": {},
   "source": [
    "### Operaciones matemáticas"
   ]
  },
  {
   "cell_type": "code",
   "execution_count": 29,
   "id": "51c6ee61",
   "metadata": {
    "execution": {
     "iopub.execute_input": "2021-05-20T16:09:20.499584Z",
     "iopub.status.busy": "2021-05-20T16:09:20.499125Z",
     "iopub.status.idle": "2021-05-20T16:09:20.501770Z",
     "shell.execute_reply": "2021-05-20T16:09:20.501360Z"
    }
   },
   "outputs": [
    {
     "data": {
      "text/plain": [
       "array([3, 4, 5, 6])"
      ]
     },
     "execution_count": 1,
     "metadata": {},
     "output_type": "execute_result"
    }
   ],
   "source": [
    "a = np.array([1, 2, 3, 4])\n",
    "\n",
    "a + 2"
   ]
  },
  {
   "cell_type": "code",
   "execution_count": 30,
   "id": "7c0479ec",
   "metadata": {
    "execution": {
     "iopub.execute_input": "2021-05-20T16:09:20.504903Z",
     "iopub.status.busy": "2021-05-20T16:09:20.504434Z",
     "iopub.status.idle": "2021-05-20T16:09:20.507061Z",
     "shell.execute_reply": "2021-05-20T16:09:20.506582Z"
    }
   },
   "outputs": [
    {
     "data": {
      "text/plain": [
       "array([ 1,  4,  9, 16])"
      ]
     },
     "execution_count": 1,
     "metadata": {},
     "output_type": "execute_result"
    }
   ],
   "source": [
    "a ** 2"
   ]
  },
  {
   "cell_type": "code",
   "execution_count": 31,
   "id": "44b3a323",
   "metadata": {
    "execution": {
     "iopub.execute_input": "2021-05-20T16:09:20.511835Z",
     "iopub.status.busy": "2021-05-20T16:09:20.511349Z",
     "iopub.status.idle": "2021-05-20T16:09:20.513646Z",
     "shell.execute_reply": "2021-05-20T16:09:20.514026Z"
    }
   },
   "outputs": [
    {
     "name": "stdout",
     "output_type": "stream",
     "text": [
      "b: [1. 1. 1. 1.]\n"
     ]
    },
    {
     "data": {
      "text/plain": [
       "array([2., 3., 4., 5.])"
      ]
     },
     "execution_count": 1,
     "metadata": {},
     "output_type": "execute_result"
    }
   ],
   "source": [
    "b = np.ones(4)\n",
    "print(f\"b: {b}\")\n",
    "a + b"
   ]
  },
  {
   "cell_type": "markdown",
   "id": "af306ca1",
   "metadata": {},
   "source": [
    "### Estadística"
   ]
  },
  {
   "cell_type": "code",
   "execution_count": 32,
   "id": "ef82f672",
   "metadata": {
    "execution": {
     "iopub.execute_input": "2021-05-20T16:09:20.517766Z",
     "iopub.status.busy": "2021-05-20T16:09:20.517298Z",
     "iopub.status.idle": "2021-05-20T16:09:20.520069Z",
     "shell.execute_reply": "2021-05-20T16:09:20.519652Z"
    }
   },
   "outputs": [
    {
     "data": {
      "text/plain": [
       "1"
      ]
     },
     "execution_count": 1,
     "metadata": {},
     "output_type": "execute_result"
    }
   ],
   "source": [
    "a = np.array([[5, 2, 1, 8], [26, 4, 17, 9]])\n",
    "\n",
    "np.min(a)"
   ]
  },
  {
   "cell_type": "code",
   "execution_count": 33,
   "id": "14e607df",
   "metadata": {
    "execution": {
     "iopub.execute_input": "2021-05-20T16:09:20.523317Z",
     "iopub.status.busy": "2021-05-20T16:09:20.522849Z",
     "iopub.status.idle": "2021-05-20T16:09:20.525574Z",
     "shell.execute_reply": "2021-05-20T16:09:20.525155Z"
    }
   },
   "outputs": [
    {
     "data": {
      "text/plain": [
       "26"
      ]
     },
     "execution_count": 1,
     "metadata": {},
     "output_type": "execute_result"
    }
   ],
   "source": [
    "np.max(a)"
   ]
  },
  {
   "cell_type": "code",
   "execution_count": 34,
   "id": "08a4307e",
   "metadata": {
    "execution": {
     "iopub.execute_input": "2021-05-20T16:09:20.528743Z",
     "iopub.status.busy": "2021-05-20T16:09:20.528274Z",
     "iopub.status.idle": "2021-05-20T16:09:20.530977Z",
     "shell.execute_reply": "2021-05-20T16:09:20.530565Z"
    }
   },
   "outputs": [
    {
     "data": {
      "text/plain": [
       "72"
      ]
     },
     "execution_count": 1,
     "metadata": {},
     "output_type": "execute_result"
    }
   ],
   "source": [
    "np.sum(a)"
   ]
  },
  {
   "cell_type": "markdown",
   "id": "eb4d8798",
   "metadata": {},
   "source": [
    "### Más magia"
   ]
  },
  {
   "cell_type": "code",
   "execution_count": 35,
   "id": "cb57c2c2",
   "metadata": {
    "execution": {
     "iopub.execute_input": "2021-05-20T16:09:20.534552Z",
     "iopub.status.busy": "2021-05-20T16:09:20.534084Z",
     "iopub.status.idle": "2021-05-20T16:09:20.536475Z",
     "shell.execute_reply": "2021-05-20T16:09:20.536846Z"
    }
   },
   "outputs": [
    {
     "data": {
      "text/plain": [
       "array([[False, False, False,  True],\n",
       "       [ True, False,  True,  True]])"
      ]
     },
     "execution_count": 1,
     "metadata": {},
     "output_type": "execute_result"
    }
   ],
   "source": [
    "a = np.array([[5, 2, 1, 8], [26, 4, 17, 9]])\n",
    "\n",
    "a > 5"
   ]
  },
  {
   "cell_type": "code",
   "execution_count": 36,
   "id": "3dd027b0",
   "metadata": {
    "execution": {
     "iopub.execute_input": "2021-05-20T16:09:20.540081Z",
     "iopub.status.busy": "2021-05-20T16:09:20.539618Z",
     "iopub.status.idle": "2021-05-20T16:09:20.541935Z",
     "shell.execute_reply": "2021-05-20T16:09:20.542322Z"
    }
   },
   "outputs": [
    {
     "data": {
      "text/plain": [
       "array([ 8, 26, 17,  9])"
      ]
     },
     "execution_count": 1,
     "metadata": {},
     "output_type": "execute_result"
    }
   ],
   "source": [
    "a[a > 5]"
   ]
  },
  {
   "cell_type": "markdown",
   "id": "a23c0f24",
   "metadata": {},
   "source": [
    "### Broadcasting"
   ]
  },
  {
   "cell_type": "markdown",
   "id": "9b9321b9",
   "metadata": {},
   "source": [
    "Permite realizar operaciones entre dos numpy arrays de distintas dimensiones.\n",
    "Para lograr esto, las dimensiones de los mismos deben ser compatibles. Dos dimensiones son compatibles cuando:\n",
    "1. Son iguales\n",
    "2. Alguna de las dos es 1"
   ]
  },
  {
   "cell_type": "code",
   "execution_count": 37,
   "id": "32135c19",
   "metadata": {
    "execution": {
     "iopub.execute_input": "2021-05-20T16:09:20.546569Z",
     "iopub.status.busy": "2021-05-20T16:09:20.546083Z",
     "iopub.status.idle": "2021-05-20T16:09:20.547746Z",
     "shell.execute_reply": "2021-05-20T16:09:20.548127Z"
    }
   },
   "outputs": [
    {
     "data": {
      "text/plain": [
       "array([[ 5,  2,  1,  8],\n",
       "       [26,  4, 17,  9]])"
      ]
     },
     "execution_count": 1,
     "metadata": {},
     "output_type": "execute_result"
    }
   ],
   "source": [
    "a = np.array([[5, 2, 1, 8], [26, 4, 17, 9]])\n",
    "a"
   ]
  },
  {
   "cell_type": "code",
   "execution_count": 38,
   "id": "a26be77f",
   "metadata": {
    "execution": {
     "iopub.execute_input": "2021-05-20T16:09:20.552277Z",
     "iopub.status.busy": "2021-05-20T16:09:20.551800Z",
     "iopub.status.idle": "2021-05-20T16:09:20.554204Z",
     "shell.execute_reply": "2021-05-20T16:09:20.553795Z"
    }
   },
   "outputs": [
    {
     "name": "stdout",
     "output_type": "stream",
     "text": [
      "a: (2, 4)\n",
      "b: (4,)\n",
      "\n",
      "a + b:\n",
      " [[10  4  2 16]\n",
      " [31  6 18 17]]\n"
     ]
    }
   ],
   "source": [
    "# Armamos un array que tenga la misma cantidad de columnas que a\n",
    "b = np.array([5, 2, 1, 8])\n",
    "print(f\"a: {a.shape}\")\n",
    "print(f\"b: {b.shape}\")\n",
    "# a + b\n",
    "print()\n",
    "print(f\"a + b:\\n {a + b}\")"
   ]
  },
  {
   "cell_type": "code",
   "execution_count": 39,
   "id": "0e9b9e7b",
   "metadata": {
    "execution": {
     "iopub.execute_input": "2021-05-20T16:09:20.557616Z",
     "iopub.status.busy": "2021-05-20T16:09:20.557139Z",
     "iopub.status.idle": "2021-05-20T16:09:20.616630Z",
     "shell.execute_reply": "2021-05-20T16:09:20.616202Z"
    },
    "tags": [
     "raises-exception"
    ]
   },
   "outputs": [
    {
     "name": "stdout",
     "output_type": "stream",
     "text": [
      "a: (2, 4)\n",
      "b: (3,)\n"
     ]
    },
    {
     "ename": "ValueError",
     "evalue": "operands could not be broadcast together with shapes (2,4) (3,) ",
     "output_type": "error",
     "traceback": [
      "\u001b[0;31m---------------------------------------------------------------------------\u001b[0m",
      "\u001b[0;31mValueError\u001b[0m                                Traceback (most recent call last)",
      "\u001b[0;32m<ipython-input-1-fe11b6ae6346>\u001b[0m in \u001b[0;36m<module>\u001b[0;34m\u001b[0m\n\u001b[1;32m      3\u001b[0m \u001b[0mprint\u001b[0m\u001b[0;34m(\u001b[0m\u001b[0;34mf\"a: {a.shape}\"\u001b[0m\u001b[0;34m)\u001b[0m\u001b[0;34m\u001b[0m\u001b[0;34m\u001b[0m\u001b[0m\n\u001b[1;32m      4\u001b[0m \u001b[0mprint\u001b[0m\u001b[0;34m(\u001b[0m\u001b[0;34mf\"b: {b.shape}\"\u001b[0m\u001b[0;34m)\u001b[0m\u001b[0;34m\u001b[0m\u001b[0;34m\u001b[0m\u001b[0m\n\u001b[0;32m----> 5\u001b[0;31m \u001b[0ma\u001b[0m \u001b[0;34m+\u001b[0m \u001b[0mb\u001b[0m\u001b[0;34m\u001b[0m\u001b[0;34m\u001b[0m\u001b[0m\n\u001b[0m",
      "\u001b[0;31mValueError\u001b[0m: operands could not be broadcast together with shapes (2,4) (3,) "
     ]
    }
   ],
   "source": [
    "# Armamos un array que tenga distinta cantidad de filas y columnas que a\n",
    "b = np.array([5, 1, 8])\n",
    "print(f\"a: {a.shape}\")\n",
    "print(f\"b: {b.shape}\")\n",
    "a + b"
   ]
  },
  {
   "cell_type": "code",
   "execution_count": 40,
   "id": "4156c424",
   "metadata": {
    "execution": {
     "iopub.execute_input": "2021-05-20T16:09:20.620885Z",
     "iopub.status.busy": "2021-05-20T16:09:20.620409Z",
     "iopub.status.idle": "2021-05-20T16:09:20.624504Z",
     "shell.execute_reply": "2021-05-20T16:09:20.624891Z"
    }
   },
   "outputs": [
    {
     "name": "stdout",
     "output_type": "stream",
     "text": [
      "a: (2, 4)\n",
      "b: (2, 1)\n"
     ]
    },
    {
     "data": {
      "text/plain": [
       "array([[ 7,  4,  3, 10],\n",
       "       [27,  5, 18, 10]])"
      ]
     },
     "execution_count": 1,
     "metadata": {},
     "output_type": "execute_result"
    }
   ],
   "source": [
    "# Armamos un array que tenga la misma cantidad de filas que a\n",
    "b = np.array([[2], [1]])\n",
    "print(f\"a: {a.shape}\")\n",
    "print(f\"b: {b.shape}\")\n",
    "a + b"
   ]
  },
  {
   "cell_type": "code",
   "execution_count": 41,
   "id": "e2f708bc",
   "metadata": {
    "execution": {
     "iopub.execute_input": "2021-05-20T16:09:20.628913Z",
     "iopub.status.busy": "2021-05-20T16:09:20.628423Z",
     "iopub.status.idle": "2021-05-20T16:09:20.630740Z",
     "shell.execute_reply": "2021-05-20T16:09:20.631122Z"
    }
   },
   "outputs": [
    {
     "data": {
      "text/plain": [
       "array([[ 9,  6,  5, 12],\n",
       "       [30,  8, 21, 13]])"
      ]
     },
     "execution_count": 1,
     "metadata": {},
     "output_type": "execute_result"
    }
   ],
   "source": [
    "# Si b es un entero\n",
    "b = 4\n",
    "a + b"
   ]
  },
  {
   "cell_type": "code",
   "execution_count": null,
   "id": "d4266c8d",
   "metadata": {},
   "outputs": [],
   "source": []
  }
 ],
 "metadata": {
  "jupytext": {
   "encoding": "# -*- coding: utf-8 -*-",
   "formats": "ipynb,py:light"
  },
  "kernelspec": {
   "display_name": "Python 3",
   "language": "python",
   "name": "python3"
  },
  "language_info": {
   "codemirror_mode": {
    "name": "ipython",
    "version": 3
   },
   "file_extension": ".py",
   "mimetype": "text/x-python",
   "name": "python",
   "nbconvert_exporter": "python",
   "pygments_lexer": "ipython3",
   "version": "3.7.10"
  }
 },
 "nbformat": 4,
 "nbformat_minor": 5
}
