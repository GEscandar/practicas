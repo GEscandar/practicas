{
 "cells": [
  {
   "cell_type": "markdown",
   "id": "engaged-transparency",
   "metadata": {},
   "source": [
    "## Clase 1 - Introducción a Numpy\n",
    "\n",
    "Numpy es una biblioteca para Python que facilita el manejo de arreglos multidimensionales y ofrece varias herramientas para trabajar con ellos. Muchas de las bibliotecas de Python que son ampliamente usadas hoy en día, como pandas, están construidas sobre numpy.\n",
    "\n",
    "### Listas de Python vs arreglos de Numpy\n",
    "\n",
    "A primera vista, un arreglo de numpy puede resultar idéntico a una lista de python, pero a medida que la cantidad de datos comienza a incrementar, los arreglos de numpy terminan ofreciendo un manejo más eficiente de la memoria.\n",
    "\n",
    "Para comenzar, vamos a crear un arreglo de numpy:"
   ]
  },
  {
   "cell_type": "code",
   "execution_count": 1,
   "id": "descending-eclipse",
   "metadata": {
    "execution": {
     "iopub.execute_input": "2021-01-22T01:11:36.092893Z",
     "iopub.status.busy": "2021-01-22T01:11:36.092342Z",
     "iopub.status.idle": "2021-01-22T01:11:36.275187Z",
     "shell.execute_reply": "2021-01-22T01:11:36.274655Z"
    }
   },
   "outputs": [
    {
     "data": {
      "text/plain": [
       "array([1, 2, 3, 4])"
      ]
     },
     "execution_count": 1,
     "metadata": {},
     "output_type": "execute_result"
    }
   ],
   "source": [
    "import numpy as np\n",
    "\n",
    "np.array([1, 2, 3, 4])"
   ]
  },
  {
   "cell_type": "markdown",
   "id": "convinced-diagnosis",
   "metadata": {},
   "source": [
    "Los arreglos pueden ser también multidimensionales:"
   ]
  },
  {
   "cell_type": "code",
   "execution_count": 2,
   "id": "periodic-charter",
   "metadata": {
    "execution": {
     "iopub.execute_input": "2021-01-22T01:11:36.279894Z",
     "iopub.status.busy": "2021-01-22T01:11:36.279394Z",
     "iopub.status.idle": "2021-01-22T01:11:36.281808Z",
     "shell.execute_reply": "2021-01-22T01:11:36.282201Z"
    }
   },
   "outputs": [
    {
     "data": {
      "text/plain": [
       "array([[1, 2, 3, 4],\n",
       "       [5, 6, 7, 8]])"
      ]
     },
     "execution_count": 1,
     "metadata": {},
     "output_type": "execute_result"
    }
   ],
   "source": [
    "np.array([[1, 2, 3, 4], [5, 6, 7, 8]])"
   ]
  },
  {
   "cell_type": "markdown",
   "id": "spanish-burns",
   "metadata": {},
   "source": [
    "Es importante tener en cuenta que un arreglo de numpy tiene un tipo fijo de datos, entonces si se quiere agregar un dato de un tipo diferente al de la mayoría, este va a ser modificado para adaptarse al resto"
   ]
  },
  {
   "cell_type": "code",
   "execution_count": 3,
   "id": "chronic-nicholas",
   "metadata": {
    "execution": {
     "iopub.execute_input": "2021-01-22T01:11:36.286064Z",
     "iopub.status.busy": "2021-01-22T01:11:36.285135Z",
     "iopub.status.idle": "2021-01-22T01:11:36.286811Z",
     "shell.execute_reply": "2021-01-22T01:11:36.287222Z"
    }
   },
   "outputs": [],
   "source": [
    "enteros = np.array([1, 2, 3, 4])"
   ]
  },
  {
   "cell_type": "markdown",
   "id": "featured-appeal",
   "metadata": {},
   "source": [
    "Agrego un elemento de tipo flotante en la posición 1"
   ]
  },
  {
   "cell_type": "code",
   "execution_count": 4,
   "id": "superb-sending",
   "metadata": {
    "execution": {
     "iopub.execute_input": "2021-01-22T01:11:36.291102Z",
     "iopub.status.busy": "2021-01-22T01:11:36.290587Z",
     "iopub.status.idle": "2021-01-22T01:11:36.292973Z",
     "shell.execute_reply": "2021-01-22T01:11:36.293361Z"
    }
   },
   "outputs": [
    {
     "data": {
      "text/plain": [
       "array([1, 8, 3, 4])"
      ]
     },
     "execution_count": 1,
     "metadata": {},
     "output_type": "execute_result"
    }
   ],
   "source": [
    "enteros[1] = 8.4727\n",
    "enteros"
   ]
  },
  {
   "cell_type": "markdown",
   "id": "completed-xerox",
   "metadata": {},
   "source": [
    "Numpy también nos permite crear arreglos con valores aleatorios del 0 al 1.\n",
    "Basta con pasarle las dimensiones del arreglo que queremos crear."
   ]
  },
  {
   "cell_type": "code",
   "execution_count": 5,
   "id": "potential-convertible",
   "metadata": {
    "execution": {
     "iopub.execute_input": "2021-01-22T01:11:36.297550Z",
     "iopub.status.busy": "2021-01-22T01:11:36.297062Z",
     "iopub.status.idle": "2021-01-22T01:11:36.299329Z",
     "shell.execute_reply": "2021-01-22T01:11:36.299722Z"
    }
   },
   "outputs": [
    {
     "data": {
      "text/plain": [
       "array([[0.55162433, 0.33478937, 0.4685046 ],\n",
       "       [0.72093853, 0.07006225, 0.78084344]])"
      ]
     },
     "execution_count": 1,
     "metadata": {},
     "output_type": "execute_result"
    }
   ],
   "source": [
    "np.random.rand(2, 3)"
   ]
  },
  {
   "cell_type": "markdown",
   "id": "periodic-canyon",
   "metadata": {},
   "source": [
    "## Slicing\n",
    "\n",
    "De la misma forma que con las listas de python, pueden obtenerse slices de los arreglos de numpy"
   ]
  },
  {
   "cell_type": "code",
   "execution_count": 6,
   "id": "relative-carnival",
   "metadata": {
    "execution": {
     "iopub.execute_input": "2021-01-22T01:11:36.303594Z",
     "iopub.status.busy": "2021-01-22T01:11:36.303099Z",
     "iopub.status.idle": "2021-01-22T01:11:36.305423Z",
     "shell.execute_reply": "2021-01-22T01:11:36.305811Z"
    },
    "lines_to_next_cell": 2
   },
   "outputs": [
    {
     "data": {
      "text/plain": [
       "array([1, 8])"
      ]
     },
     "execution_count": 1,
     "metadata": {},
     "output_type": "execute_result"
    }
   ],
   "source": [
    "enteros[:2]"
   ]
  },
  {
   "cell_type": "code",
   "execution_count": 7,
   "id": "frank-experiment",
   "metadata": {
    "execution": {
     "iopub.execute_input": "2021-01-22T01:11:36.311566Z",
     "iopub.status.busy": "2021-01-22T01:11:36.310472Z",
     "iopub.status.idle": "2021-01-22T01:11:36.313302Z",
     "shell.execute_reply": "2021-01-22T01:11:36.312887Z"
    }
   },
   "outputs": [
    {
     "name": "stdout",
     "output_type": "stream",
     "text": [
      "Original: \n",
      "[[ 1  2  3  4]\n",
      " [ 5  6  7  8]\n",
      " [ 9 10 11 12]]\n",
      "\n",
      "Recortada: \n",
      "[[1 2 3]\n",
      " [5 6 7]]\n"
     ]
    }
   ],
   "source": [
    "matriz_de_enteros = np.array([[1, 2, 3, 4], [5, 6, 7, 8], [9, 10, 11, 12]])\n",
    "\n",
    "print('Original: ')\n",
    "print(matriz_de_enteros)\n",
    "\n",
    "print()\n",
    "\n",
    "print('Recortada: ')\n",
    "print(matriz_de_enteros[:2, :3])"
   ]
  },
  {
   "cell_type": "code",
   "execution_count": 8,
   "id": "electronic-iceland",
   "metadata": {
    "execution": {
     "iopub.execute_input": "2021-01-22T01:11:36.317566Z",
     "iopub.status.busy": "2021-01-22T01:11:36.317069Z",
     "iopub.status.idle": "2021-01-22T01:11:36.319422Z",
     "shell.execute_reply": "2021-01-22T01:11:36.319813Z"
    }
   },
   "outputs": [
    {
     "data": {
      "text/plain": [
       "array([[[ 0,  1,  2,  3,  4],\n",
       "        [ 5,  6,  7,  8,  9],\n",
       "        [10, 11, 12, 13, 14]],\n",
       "\n",
       "       [[15, 16, 17, 18, 19],\n",
       "        [20, 21, 22, 23, 24],\n",
       "        [25, 26, 27, 28, 29]],\n",
       "\n",
       "       [[30, 31, 32, 33, 34],\n",
       "        [35, 36, 37, 38, 39],\n",
       "        [40, 41, 42, 43, 44]]])"
      ]
     },
     "execution_count": 1,
     "metadata": {},
     "output_type": "execute_result"
    }
   ],
   "source": [
    "# 3D\n",
    "x = np.arange(45).reshape(3, 3, 5)\n",
    "x"
   ]
  },
  {
   "cell_type": "code",
   "execution_count": 9,
   "id": "running-bermuda",
   "metadata": {
    "execution": {
     "iopub.execute_input": "2021-01-22T01:11:36.323631Z",
     "iopub.status.busy": "2021-01-22T01:11:36.323136Z",
     "iopub.status.idle": "2021-01-22T01:11:36.325524Z",
     "shell.execute_reply": "2021-01-22T01:11:36.325914Z"
    }
   },
   "outputs": [
    {
     "data": {
      "text/plain": [
       "array([[ 0,  1,  2,  3,  4],\n",
       "       [ 5,  6,  7,  8,  9],\n",
       "       [10, 11, 12, 13, 14]])"
      ]
     },
     "execution_count": 1,
     "metadata": {},
     "output_type": "execute_result"
    }
   ],
   "source": [
    "x[0]"
   ]
  },
  {
   "cell_type": "markdown",
   "id": "considerable-possibility",
   "metadata": {},
   "source": [
    "\n",
    "¿Cómo conseguimos estos valores? ([fuente](https://towardsdatascience.com/indexing-and-slicing-of-1d-2d-and-3d-arrays-in-numpy-e731afff0bbe))\n",
    "\n",
    "![title](img/matrix.png)"
   ]
  },
  {
   "cell_type": "code",
   "execution_count": 10,
   "id": "mounted-grill",
   "metadata": {
    "execution": {
     "iopub.execute_input": "2021-01-22T01:11:36.330415Z",
     "iopub.status.busy": "2021-01-22T01:11:36.329425Z",
     "iopub.status.idle": "2021-01-22T01:11:36.332415Z",
     "shell.execute_reply": "2021-01-22T01:11:36.331998Z"
    }
   },
   "outputs": [
    {
     "data": {
      "text/plain": [
       "array([[[16, 17, 18],\n",
       "        [21, 22, 23]],\n",
       "\n",
       "       [[31, 32, 33],\n",
       "        [36, 37, 38]]])"
      ]
     },
     "execution_count": 1,
     "metadata": {},
     "output_type": "execute_result"
    }
   ],
   "source": [
    "x[1:, 0:2, 1:4]"
   ]
  },
  {
   "cell_type": "markdown",
   "id": "cardiac-purchase",
   "metadata": {},
   "source": [
    "### Copia de arreglos"
   ]
  },
  {
   "cell_type": "code",
   "execution_count": 11,
   "id": "polar-cemetery",
   "metadata": {
    "execution": {
     "iopub.execute_input": "2021-01-22T01:11:36.336599Z",
     "iopub.status.busy": "2021-01-22T01:11:36.336104Z",
     "iopub.status.idle": "2021-01-22T01:11:36.338447Z",
     "shell.execute_reply": "2021-01-22T01:11:36.338831Z"
    }
   },
   "outputs": [
    {
     "data": {
      "text/plain": [
       "array([1, 2, 3, 4])"
      ]
     },
     "execution_count": 1,
     "metadata": {},
     "output_type": "execute_result"
    }
   ],
   "source": [
    "# Los arreglos no se copian con asignación\n",
    "\n",
    "a = np.array([1, 2, 3, 4])\n",
    "b = a\n",
    "b"
   ]
  },
  {
   "cell_type": "code",
   "execution_count": 12,
   "id": "adopted-angola",
   "metadata": {
    "execution": {
     "iopub.execute_input": "2021-01-22T01:11:36.342609Z",
     "iopub.status.busy": "2021-01-22T01:11:36.342115Z",
     "iopub.status.idle": "2021-01-22T01:11:36.344541Z",
     "shell.execute_reply": "2021-01-22T01:11:36.344927Z"
    }
   },
   "outputs": [
    {
     "data": {
      "text/plain": [
       "array([ 1, 20,  3,  4])"
      ]
     },
     "execution_count": 1,
     "metadata": {},
     "output_type": "execute_result"
    }
   ],
   "source": [
    "b[1] = 20\n",
    "b"
   ]
  },
  {
   "cell_type": "code",
   "execution_count": 13,
   "id": "unlikely-network",
   "metadata": {
    "execution": {
     "iopub.execute_input": "2021-01-22T01:11:36.348594Z",
     "iopub.status.busy": "2021-01-22T01:11:36.348107Z",
     "iopub.status.idle": "2021-01-22T01:11:36.350491Z",
     "shell.execute_reply": "2021-01-22T01:11:36.350901Z"
    }
   },
   "outputs": [
    {
     "data": {
      "text/plain": [
       "array([ 1, 20,  3,  4])"
      ]
     },
     "execution_count": 1,
     "metadata": {},
     "output_type": "execute_result"
    }
   ],
   "source": [
    "a"
   ]
  },
  {
   "cell_type": "code",
   "execution_count": 14,
   "id": "hidden-watson",
   "metadata": {
    "execution": {
     "iopub.execute_input": "2021-01-22T01:11:36.355139Z",
     "iopub.status.busy": "2021-01-22T01:11:36.354623Z",
     "iopub.status.idle": "2021-01-22T01:11:36.357020Z",
     "shell.execute_reply": "2021-01-22T01:11:36.357411Z"
    }
   },
   "outputs": [
    {
     "data": {
      "text/plain": [
       "array([ 1, 20,  3,  4])"
      ]
     },
     "execution_count": 1,
     "metadata": {},
     "output_type": "execute_result"
    }
   ],
   "source": [
    "# Para copiar un arreglo a otra variable debemos usar copy()\n",
    "\n",
    "a = np.array([1, 2, 3, 4])\n",
    "b = a.copy()\n",
    "b[1] = 20\n",
    "b"
   ]
  },
  {
   "cell_type": "code",
   "execution_count": 15,
   "id": "stainless-electronics",
   "metadata": {
    "execution": {
     "iopub.execute_input": "2021-01-22T01:11:36.361095Z",
     "iopub.status.busy": "2021-01-22T01:11:36.360603Z",
     "iopub.status.idle": "2021-01-22T01:11:36.362878Z",
     "shell.execute_reply": "2021-01-22T01:11:36.363284Z"
    }
   },
   "outputs": [
    {
     "data": {
      "text/plain": [
       "array([1, 2, 3, 4])"
      ]
     },
     "execution_count": 1,
     "metadata": {},
     "output_type": "execute_result"
    }
   ],
   "source": [
    "a"
   ]
  },
  {
   "cell_type": "markdown",
   "id": "invalid-ceramic",
   "metadata": {},
   "source": [
    "### Modificación de dimensiones"
   ]
  },
  {
   "cell_type": "markdown",
   "id": "armed-exception",
   "metadata": {},
   "source": [
    "Existen varias operaciones para cambiar la forma de un arreglo de numpy"
   ]
  },
  {
   "cell_type": "code",
   "execution_count": 16,
   "id": "casual-recipe",
   "metadata": {
    "execution": {
     "iopub.execute_input": "2021-01-22T01:11:36.366955Z",
     "iopub.status.busy": "2021-01-22T01:11:36.366465Z",
     "iopub.status.idle": "2021-01-22T01:11:36.368764Z",
     "shell.execute_reply": "2021-01-22T01:11:36.369154Z"
    }
   },
   "outputs": [
    {
     "data": {
      "text/plain": [
       "2"
      ]
     },
     "execution_count": 1,
     "metadata": {},
     "output_type": "execute_result"
    }
   ],
   "source": [
    "# Obtener las dimensiones del arreglo\n",
    "\n",
    "matriz_de_enteros.ndim"
   ]
  },
  {
   "cell_type": "code",
   "execution_count": 17,
   "id": "communist-chosen",
   "metadata": {
    "execution": {
     "iopub.execute_input": "2021-01-22T01:11:36.372764Z",
     "iopub.status.busy": "2021-01-22T01:11:36.372273Z",
     "iopub.status.idle": "2021-01-22T01:11:36.374537Z",
     "shell.execute_reply": "2021-01-22T01:11:36.374918Z"
    }
   },
   "outputs": [
    {
     "data": {
      "text/plain": [
       "(3, 4)"
      ]
     },
     "execution_count": 1,
     "metadata": {},
     "output_type": "execute_result"
    }
   ],
   "source": [
    "# Obtener la forma del arreglo\n",
    "\n",
    "matriz_de_enteros.shape"
   ]
  },
  {
   "cell_type": "code",
   "execution_count": 18,
   "id": "rapid-brave",
   "metadata": {
    "execution": {
     "iopub.execute_input": "2021-01-22T01:11:36.379006Z",
     "iopub.status.busy": "2021-01-22T01:11:36.378518Z",
     "iopub.status.idle": "2021-01-22T01:11:36.380870Z",
     "shell.execute_reply": "2021-01-22T01:11:36.381264Z"
    }
   },
   "outputs": [
    {
     "data": {
      "text/plain": [
       "array([[ 3,  6],\n",
       "       [ 9, 12]])"
      ]
     },
     "execution_count": 1,
     "metadata": {},
     "output_type": "execute_result"
    }
   ],
   "source": [
    "# Modificar la forma de un arreglo\n",
    "\n",
    "enteros = np.array([3, 6, 9, 12])\n",
    "np.reshape(enteros, (2, 2))"
   ]
  },
  {
   "cell_type": "code",
   "execution_count": 19,
   "id": "adequate-romania",
   "metadata": {
    "execution": {
     "iopub.execute_input": "2021-01-22T01:11:36.385260Z",
     "iopub.status.busy": "2021-01-22T01:11:36.384771Z",
     "iopub.status.idle": "2021-01-22T01:11:36.387031Z",
     "shell.execute_reply": "2021-01-22T01:11:36.387449Z"
    }
   },
   "outputs": [
    {
     "data": {
      "text/plain": [
       "array([[1., 1.],\n",
       "       [1., 1.]])"
      ]
     },
     "execution_count": 1,
     "metadata": {},
     "output_type": "execute_result"
    }
   ],
   "source": [
    "# Aplanar un arreglo\n",
    "\n",
    "a = np.ones((2, 2))\n",
    "a"
   ]
  },
  {
   "cell_type": "code",
   "execution_count": 20,
   "id": "orange-capture",
   "metadata": {
    "execution": {
     "iopub.execute_input": "2021-01-22T01:11:36.391317Z",
     "iopub.status.busy": "2021-01-22T01:11:36.390799Z",
     "iopub.status.idle": "2021-01-22T01:11:36.393071Z",
     "shell.execute_reply": "2021-01-22T01:11:36.393463Z"
    }
   },
   "outputs": [
    {
     "data": {
      "text/plain": [
       "array([1., 1., 1., 1.])"
      ]
     },
     "execution_count": 1,
     "metadata": {},
     "output_type": "execute_result"
    }
   ],
   "source": [
    "a.flatten()"
   ]
  },
  {
   "cell_type": "code",
   "execution_count": 21,
   "id": "friendly-beverage",
   "metadata": {
    "execution": {
     "iopub.execute_input": "2021-01-22T01:11:36.397278Z",
     "iopub.status.busy": "2021-01-22T01:11:36.396790Z",
     "iopub.status.idle": "2021-01-22T01:11:36.399109Z",
     "shell.execute_reply": "2021-01-22T01:11:36.399509Z"
    },
    "lines_to_next_cell": 2
   },
   "outputs": [
    {
     "data": {
      "text/plain": [
       "array([[1., 1.],\n",
       "       [1., 1.]])"
      ]
     },
     "execution_count": 1,
     "metadata": {},
     "output_type": "execute_result"
    }
   ],
   "source": [
    "a"
   ]
  },
  {
   "cell_type": "markdown",
   "id": "behavioral-albuquerque",
   "metadata": {},
   "source": [
    "### Combinación de arreglos (Stacking)"
   ]
  },
  {
   "cell_type": "code",
   "execution_count": 22,
   "id": "awful-technique",
   "metadata": {
    "execution": {
     "iopub.execute_input": "2021-01-22T01:11:36.403431Z",
     "iopub.status.busy": "2021-01-22T01:11:36.402915Z",
     "iopub.status.idle": "2021-01-22T01:11:36.405230Z",
     "shell.execute_reply": "2021-01-22T01:11:36.405617Z"
    }
   },
   "outputs": [
    {
     "data": {
      "text/plain": [
       "array([0, 1, 2, 3, 4])"
      ]
     },
     "execution_count": 1,
     "metadata": {},
     "output_type": "execute_result"
    }
   ],
   "source": [
    "# Los arreglos se pueden combinar verticalmente (se incrementa la cantidad de filas)\n",
    "\n",
    "a = np.arange(0, 5)\n",
    "a"
   ]
  },
  {
   "cell_type": "code",
   "execution_count": 23,
   "id": "emerging-productivity",
   "metadata": {
    "execution": {
     "iopub.execute_input": "2021-01-22T01:11:36.409443Z",
     "iopub.status.busy": "2021-01-22T01:11:36.408952Z",
     "iopub.status.idle": "2021-01-22T01:11:36.411257Z",
     "shell.execute_reply": "2021-01-22T01:11:36.411648Z"
    }
   },
   "outputs": [
    {
     "data": {
      "text/plain": [
       "array([5, 6, 7, 8, 9])"
      ]
     },
     "execution_count": 1,
     "metadata": {},
     "output_type": "execute_result"
    }
   ],
   "source": [
    "b = np.arange(5, 10)\n",
    "b"
   ]
  },
  {
   "cell_type": "code",
   "execution_count": 24,
   "id": "handy-recording",
   "metadata": {
    "execution": {
     "iopub.execute_input": "2021-01-22T01:11:36.415628Z",
     "iopub.status.busy": "2021-01-22T01:11:36.415130Z",
     "iopub.status.idle": "2021-01-22T01:11:36.417397Z",
     "shell.execute_reply": "2021-01-22T01:11:36.417791Z"
    }
   },
   "outputs": [
    {
     "data": {
      "text/plain": [
       "array([[0, 1, 2, 3, 4],\n",
       "       [5, 6, 7, 8, 9]])"
      ]
     },
     "execution_count": 1,
     "metadata": {},
     "output_type": "execute_result"
    }
   ],
   "source": [
    "combinados_verticalmente = np.vstack((a, b))\n",
    "combinados_verticalmente"
   ]
  },
  {
   "cell_type": "code",
   "execution_count": 25,
   "id": "regular-operation",
   "metadata": {
    "execution": {
     "iopub.execute_input": "2021-01-22T01:11:36.421747Z",
     "iopub.status.busy": "2021-01-22T01:11:36.421255Z",
     "iopub.status.idle": "2021-01-22T01:11:36.423723Z",
     "shell.execute_reply": "2021-01-22T01:11:36.424113Z"
    }
   },
   "outputs": [
    {
     "data": {
      "text/plain": [
       "array([0, 1, 2, 3, 4, 5, 6, 7, 8, 9])"
      ]
     },
     "execution_count": 1,
     "metadata": {},
     "output_type": "execute_result"
    }
   ],
   "source": [
    "# También se pueden combinar horizontalmente (se incrementa la cantidad de columnas)\n",
    "\n",
    "combinados_horizontalmente = np.hstack((a, b))\n",
    "combinados_horizontalmente"
   ]
  },
  {
   "cell_type": "markdown",
   "id": "thick-greeting",
   "metadata": {},
   "source": [
    "### Operaciones matemáticas"
   ]
  },
  {
   "cell_type": "code",
   "execution_count": 26,
   "id": "infinite-williams",
   "metadata": {
    "execution": {
     "iopub.execute_input": "2021-01-22T01:11:36.428180Z",
     "iopub.status.busy": "2021-01-22T01:11:36.427686Z",
     "iopub.status.idle": "2021-01-22T01:11:36.429951Z",
     "shell.execute_reply": "2021-01-22T01:11:36.430337Z"
    }
   },
   "outputs": [
    {
     "data": {
      "text/plain": [
       "array([3, 4, 5, 6])"
      ]
     },
     "execution_count": 1,
     "metadata": {},
     "output_type": "execute_result"
    }
   ],
   "source": [
    "a = np.array([1, 2, 3, 4])\n",
    "\n",
    "a + 2"
   ]
  },
  {
   "cell_type": "code",
   "execution_count": 27,
   "id": "ethical-indie",
   "metadata": {
    "execution": {
     "iopub.execute_input": "2021-01-22T01:11:36.434080Z",
     "iopub.status.busy": "2021-01-22T01:11:36.433593Z",
     "iopub.status.idle": "2021-01-22T01:11:36.435874Z",
     "shell.execute_reply": "2021-01-22T01:11:36.436262Z"
    }
   },
   "outputs": [
    {
     "data": {
      "text/plain": [
       "array([ 1,  4,  9, 16])"
      ]
     },
     "execution_count": 1,
     "metadata": {},
     "output_type": "execute_result"
    }
   ],
   "source": [
    "a ** 2"
   ]
  },
  {
   "cell_type": "code",
   "execution_count": 28,
   "id": "photographic-clock",
   "metadata": {
    "execution": {
     "iopub.execute_input": "2021-01-22T01:11:36.440261Z",
     "iopub.status.busy": "2021-01-22T01:11:36.439773Z",
     "iopub.status.idle": "2021-01-22T01:11:36.442052Z",
     "shell.execute_reply": "2021-01-22T01:11:36.442438Z"
    }
   },
   "outputs": [
    {
     "data": {
      "text/plain": [
       "array([2., 3., 4., 5.])"
      ]
     },
     "execution_count": 1,
     "metadata": {},
     "output_type": "execute_result"
    }
   ],
   "source": [
    "b = np.ones(4)\n",
    "a + b"
   ]
  },
  {
   "cell_type": "markdown",
   "id": "according-convention",
   "metadata": {},
   "source": [
    "### Estadística"
   ]
  },
  {
   "cell_type": "code",
   "execution_count": 29,
   "id": "narrative-string",
   "metadata": {
    "execution": {
     "iopub.execute_input": "2021-01-22T01:11:36.446626Z",
     "iopub.status.busy": "2021-01-22T01:11:36.446135Z",
     "iopub.status.idle": "2021-01-22T01:11:36.448450Z",
     "shell.execute_reply": "2021-01-22T01:11:36.448836Z"
    }
   },
   "outputs": [
    {
     "data": {
      "text/plain": [
       "1"
      ]
     },
     "execution_count": 1,
     "metadata": {},
     "output_type": "execute_result"
    }
   ],
   "source": [
    "a = np.array([[5, 2, 1, 8], [26, 4, 17, 9]])\n",
    "\n",
    "np.min(a)"
   ]
  },
  {
   "cell_type": "code",
   "execution_count": 30,
   "id": "comprehensive-pathology",
   "metadata": {
    "execution": {
     "iopub.execute_input": "2021-01-22T01:11:36.452586Z",
     "iopub.status.busy": "2021-01-22T01:11:36.452097Z",
     "iopub.status.idle": "2021-01-22T01:11:36.454363Z",
     "shell.execute_reply": "2021-01-22T01:11:36.454749Z"
    }
   },
   "outputs": [
    {
     "data": {
      "text/plain": [
       "26"
      ]
     },
     "execution_count": 1,
     "metadata": {},
     "output_type": "execute_result"
    }
   ],
   "source": [
    "np.max(a)"
   ]
  },
  {
   "cell_type": "code",
   "execution_count": 31,
   "id": "devoted-routine",
   "metadata": {
    "execution": {
     "iopub.execute_input": "2021-01-22T01:11:36.458537Z",
     "iopub.status.busy": "2021-01-22T01:11:36.458047Z",
     "iopub.status.idle": "2021-01-22T01:11:36.460433Z",
     "shell.execute_reply": "2021-01-22T01:11:36.460820Z"
    }
   },
   "outputs": [
    {
     "data": {
      "text/plain": [
       "72"
      ]
     },
     "execution_count": 1,
     "metadata": {},
     "output_type": "execute_result"
    }
   ],
   "source": [
    "np.sum(a)"
   ]
  },
  {
   "cell_type": "markdown",
   "id": "european-stephen",
   "metadata": {},
   "source": [
    "### Más magia"
   ]
  },
  {
   "cell_type": "code",
   "execution_count": 32,
   "id": "perfect-helping",
   "metadata": {
    "execution": {
     "iopub.execute_input": "2021-01-22T01:11:36.464949Z",
     "iopub.status.busy": "2021-01-22T01:11:36.464457Z",
     "iopub.status.idle": "2021-01-22T01:11:36.466730Z",
     "shell.execute_reply": "2021-01-22T01:11:36.467140Z"
    }
   },
   "outputs": [
    {
     "data": {
      "text/plain": [
       "array([[False, False, False,  True],\n",
       "       [ True, False,  True,  True]])"
      ]
     },
     "execution_count": 1,
     "metadata": {},
     "output_type": "execute_result"
    }
   ],
   "source": [
    "a = np.array([[5, 2, 1, 8], [26, 4, 17, 9]])\n",
    "\n",
    "a > 5"
   ]
  },
  {
   "cell_type": "code",
   "execution_count": 33,
   "id": "proud-pixel",
   "metadata": {
    "execution": {
     "iopub.execute_input": "2021-01-22T01:11:36.470905Z",
     "iopub.status.busy": "2021-01-22T01:11:36.470416Z",
     "iopub.status.idle": "2021-01-22T01:11:36.472718Z",
     "shell.execute_reply": "2021-01-22T01:11:36.473107Z"
    }
   },
   "outputs": [
    {
     "data": {
      "text/plain": [
       "array([ 8, 26, 17,  9])"
      ]
     },
     "execution_count": 1,
     "metadata": {},
     "output_type": "execute_result"
    }
   ],
   "source": [
    "a[a > 5]"
   ]
  },
  {
   "cell_type": "markdown",
   "id": "adjustable-original",
   "metadata": {},
   "source": [
    "### Broadcasting"
   ]
  },
  {
   "cell_type": "markdown",
   "id": "polyphonic-companion",
   "metadata": {},
   "source": [
    "Permite realizar operaciones entre dos numpy arrays de distintas dimensiones.\n",
    "Para lograr esto, las dimensiones de los mismos deben ser compatibles. Dos dimensiones son compatibles cuando:\n",
    "1. Son iguales\n",
    "2. Alguna de las dos es 1"
   ]
  },
  {
   "cell_type": "code",
   "execution_count": 34,
   "id": "future-decline",
   "metadata": {
    "execution": {
     "iopub.execute_input": "2021-01-22T01:11:36.477282Z",
     "iopub.status.busy": "2021-01-22T01:11:36.476791Z",
     "iopub.status.idle": "2021-01-22T01:11:36.479068Z",
     "shell.execute_reply": "2021-01-22T01:11:36.479494Z"
    }
   },
   "outputs": [
    {
     "data": {
      "text/plain": [
       "array([[ 5,  2,  1,  8],\n",
       "       [26,  4, 17,  9]])"
      ]
     },
     "execution_count": 1,
     "metadata": {},
     "output_type": "execute_result"
    }
   ],
   "source": [
    "a = np.array([[5, 2, 1, 8], [26, 4, 17, 9]])\n",
    "a"
   ]
  },
  {
   "cell_type": "code",
   "execution_count": 35,
   "id": "engaging-doubt",
   "metadata": {
    "execution": {
     "iopub.execute_input": "2021-01-22T01:11:36.484440Z",
     "iopub.status.busy": "2021-01-22T01:11:36.483945Z",
     "iopub.status.idle": "2021-01-22T01:11:36.487323Z",
     "shell.execute_reply": "2021-01-22T01:11:36.486888Z"
    }
   },
   "outputs": [
    {
     "name": "stdout",
     "output_type": "stream",
     "text": [
      "a: (2, 4)\n",
      "b: (4,)\n"
     ]
    },
    {
     "data": {
      "text/plain": [
       "array([[10,  4,  2, 16],\n",
       "       [31,  6, 18, 17]])"
      ]
     },
     "execution_count": 1,
     "metadata": {},
     "output_type": "execute_result"
    }
   ],
   "source": [
    "# Armamos un array que tenga la misma cantidad de columnas que a\n",
    "b = np.array([5, 2, 1, 8])\n",
    "print(f\"a: {a.shape}\")\n",
    "print(f\"b: {b.shape}\")\n",
    "a + b"
   ]
  },
  {
   "cell_type": "code",
   "execution_count": 36,
   "id": "domestic-campus",
   "metadata": {
    "execution": {
     "iopub.execute_input": "2021-01-22T01:11:36.490973Z",
     "iopub.status.busy": "2021-01-22T01:11:36.490476Z",
     "iopub.status.idle": "2021-01-22T01:11:36.545857Z",
     "shell.execute_reply": "2021-01-22T01:11:36.545264Z"
    },
    "tags": [
     "raises-exception"
    ]
   },
   "outputs": [
    {
     "name": "stdout",
     "output_type": "stream",
     "text": [
      "a: (2, 4)\n",
      "b: (3,)\n"
     ]
    },
    {
     "ename": "ValueError",
     "evalue": "operands could not be broadcast together with shapes (2,4) (3,) ",
     "output_type": "error",
     "traceback": [
      "\u001b[0;31m---------------------------------------------------------------------------\u001b[0m",
      "\u001b[0;31mValueError\u001b[0m                                Traceback (most recent call last)",
      "\u001b[0;32m<ipython-input-1-fe11b6ae6346>\u001b[0m in \u001b[0;36m<module>\u001b[0;34m\u001b[0m\n\u001b[1;32m      3\u001b[0m \u001b[0mprint\u001b[0m\u001b[0;34m(\u001b[0m\u001b[0;34mf\"a: {a.shape}\"\u001b[0m\u001b[0;34m)\u001b[0m\u001b[0;34m\u001b[0m\u001b[0;34m\u001b[0m\u001b[0m\n\u001b[1;32m      4\u001b[0m \u001b[0mprint\u001b[0m\u001b[0;34m(\u001b[0m\u001b[0;34mf\"b: {b.shape}\"\u001b[0m\u001b[0;34m)\u001b[0m\u001b[0;34m\u001b[0m\u001b[0;34m\u001b[0m\u001b[0m\n\u001b[0;32m----> 5\u001b[0;31m \u001b[0ma\u001b[0m \u001b[0;34m+\u001b[0m \u001b[0mb\u001b[0m\u001b[0;34m\u001b[0m\u001b[0;34m\u001b[0m\u001b[0m\n\u001b[0m",
      "\u001b[0;31mValueError\u001b[0m: operands could not be broadcast together with shapes (2,4) (3,) "
     ]
    }
   ],
   "source": [
    "# Armamos un array que tenga distinta cantidad de filas y columnas que a\n",
    "b = np.array([5, 1, 8])\n",
    "print(f\"a: {a.shape}\")\n",
    "print(f\"b: {b.shape}\")\n",
    "a + b"
   ]
  },
  {
   "cell_type": "code",
   "execution_count": 37,
   "id": "bulgarian-addition",
   "metadata": {
    "execution": {
     "iopub.execute_input": "2021-01-22T01:11:36.649938Z",
     "iopub.status.busy": "2021-01-22T01:11:36.649394Z",
     "iopub.status.idle": "2021-01-22T01:11:36.654669Z",
     "shell.execute_reply": "2021-01-22T01:11:36.655042Z"
    }
   },
   "outputs": [
    {
     "name": "stdout",
     "output_type": "stream",
     "text": [
      "a: (2, 4)\n",
      "b: (2, 1)\n"
     ]
    },
    {
     "data": {
      "text/plain": [
       "array([[ 7,  4,  3, 10],\n",
       "       [27,  5, 18, 10]])"
      ]
     },
     "execution_count": 1,
     "metadata": {},
     "output_type": "execute_result"
    }
   ],
   "source": [
    "# Armamos un array que tenga la misma cantidad de filas que a\n",
    "b = np.array([[2], [1]])\n",
    "print(f\"a: {a.shape}\")\n",
    "print(f\"b: {b.shape}\")\n",
    "a + b"
   ]
  },
  {
   "cell_type": "code",
   "execution_count": 38,
   "id": "strange-spare",
   "metadata": {
    "execution": {
     "iopub.execute_input": "2021-01-22T01:11:36.658388Z",
     "iopub.status.busy": "2021-01-22T01:11:36.657904Z",
     "iopub.status.idle": "2021-01-22T01:11:36.661443Z",
     "shell.execute_reply": "2021-01-22T01:11:36.661810Z"
    }
   },
   "outputs": [
    {
     "data": {
      "text/plain": [
       "array([[ 9,  6,  5, 12],\n",
       "       [30,  8, 21, 13]])"
      ]
     },
     "execution_count": 1,
     "metadata": {},
     "output_type": "execute_result"
    }
   ],
   "source": [
    "b = 4\n",
    "a + b"
   ]
  }
 ],
 "metadata": {
  "jupytext": {
   "encoding": "# -*- coding: utf-8 -*-",
   "formats": "ipynb,py:light"
  },
  "kernelspec": {
   "display_name": "Python 3 (venv)",
   "language": "python",
   "name": "python3"
  },
  "language_info": {
   "codemirror_mode": {
    "name": "ipython",
    "version": 3
   },
   "file_extension": ".py",
   "mimetype": "text/x-python",
   "name": "python",
   "nbconvert_exporter": "python",
   "pygments_lexer": "ipython3",
   "version": "3.7.9"
  }
 },
 "nbformat": 4,
 "nbformat_minor": 5
}
