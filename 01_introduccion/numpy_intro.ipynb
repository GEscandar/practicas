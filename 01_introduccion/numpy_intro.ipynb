{
 "cells": [
  {
   "cell_type": "markdown",
   "id": "ebf5dc72",
   "metadata": {},
   "source": [
    "## Clase 1 - Introducción a Numpy\n",
    "\n",
    "Numpy es una biblioteca para Python que facilita el manejo de arreglos multidimensionales y ofrece varias herramientas para trabajar con ellos. Muchas de las bibliotecas de Python que son ampliamente usadas hoy en día, como pandas, están construidas sobre numpy.\n",
    "\n",
    "### Listas de Python vs arreglos de Numpy\n",
    "\n",
    "A primera vista, un arreglo de numpy puede resultar idéntico a una lista de python, pero a medida que la cantidad de datos comienza a incrementar, los arreglos de numpy terminan ofreciendo un manejo más eficiente de la memoria.\n",
    "\n",
    "Para comenzar, vamos a crear un arreglo de numpy:"
   ]
  },
  {
   "cell_type": "code",
   "execution_count": 1,
   "id": "052d84e7",
   "metadata": {
    "execution": {
     "iopub.execute_input": "2021-10-07T04:06:15.115504Z",
     "iopub.status.busy": "2021-10-07T04:06:15.114836Z",
     "iopub.status.idle": "2021-10-07T04:06:15.271914Z",
     "shell.execute_reply": "2021-10-07T04:06:15.271323Z"
    }
   },
   "outputs": [
    {
     "data": {
      "text/plain": [
       "array([1, 2, 3, 4])"
      ]
     },
     "execution_count": 1,
     "metadata": {},
     "output_type": "execute_result"
    }
   ],
   "source": [
    "import numpy as np\n",
    "\n",
    "np.array([1, 2, 3, 4])"
   ]
  },
  {
   "cell_type": "markdown",
   "id": "7ee1121a",
   "metadata": {},
   "source": [
    "Los arreglos pueden ser también multidimensionales:"
   ]
  },
  {
   "cell_type": "code",
   "execution_count": 2,
   "id": "d9e942d9",
   "metadata": {
    "execution": {
     "iopub.execute_input": "2021-10-07T04:06:15.277797Z",
     "iopub.status.busy": "2021-10-07T04:06:15.277230Z",
     "iopub.status.idle": "2021-10-07T04:06:15.283072Z",
     "shell.execute_reply": "2021-10-07T04:06:15.282580Z"
    }
   },
   "outputs": [
    {
     "data": {
      "text/plain": [
       "array([[1, 2, 3, 4],\n",
       "       [5, 6, 7, 8]])"
      ]
     },
     "execution_count": 2,
     "metadata": {},
     "output_type": "execute_result"
    }
   ],
   "source": [
    "np.array([[1, 2, 3, 4], [5, 6, 7, 8]])"
   ]
  },
  {
   "cell_type": "markdown",
   "id": "1bd2684d",
   "metadata": {},
   "source": [
    "Es importante tener en cuenta que un arreglo de numpy tiene un tipo fijo de datos, entonces si se quiere agregar un dato de un tipo diferente al de la mayoría, este va a ser modificado para adaptarse al resto"
   ]
  },
  {
   "cell_type": "code",
   "execution_count": 3,
   "id": "2b92dd1a",
   "metadata": {
    "execution": {
     "iopub.execute_input": "2021-10-07T04:06:15.288145Z",
     "iopub.status.busy": "2021-10-07T04:06:15.286874Z",
     "iopub.status.idle": "2021-10-07T04:06:15.288785Z",
     "shell.execute_reply": "2021-10-07T04:06:15.289222Z"
    }
   },
   "outputs": [],
   "source": [
    "enteros = np.array([1, 2, 3, 4])"
   ]
  },
  {
   "cell_type": "markdown",
   "id": "e6dbc7ef",
   "metadata": {},
   "source": [
    "Agrego un elemento de tipo flotante en la posición 1"
   ]
  },
  {
   "cell_type": "code",
   "execution_count": 4,
   "id": "35d55afc",
   "metadata": {
    "execution": {
     "iopub.execute_input": "2021-10-07T04:06:15.294693Z",
     "iopub.status.busy": "2021-10-07T04:06:15.293724Z",
     "iopub.status.idle": "2021-10-07T04:06:15.297217Z",
     "shell.execute_reply": "2021-10-07T04:06:15.297640Z"
    }
   },
   "outputs": [
    {
     "data": {
      "text/plain": [
       "array([1, 8, 3, 4])"
      ]
     },
     "execution_count": 4,
     "metadata": {},
     "output_type": "execute_result"
    }
   ],
   "source": [
    "enteros[1] = 8.4727\n",
    "enteros"
   ]
  },
  {
   "cell_type": "markdown",
   "id": "93c809b6",
   "metadata": {},
   "source": [
    "Numpy también nos permite crear arreglos con valores aleatorios del 0 al 1.\n",
    "Basta con pasarle las dimensiones del arreglo que queremos crear."
   ]
  },
  {
   "cell_type": "code",
   "execution_count": 5,
   "id": "86bc1571",
   "metadata": {
    "execution": {
     "iopub.execute_input": "2021-10-07T04:06:15.302825Z",
     "iopub.status.busy": "2021-10-07T04:06:15.302256Z",
     "iopub.status.idle": "2021-10-07T04:06:15.304841Z",
     "shell.execute_reply": "2021-10-07T04:06:15.305271Z"
    }
   },
   "outputs": [
    {
     "data": {
      "text/plain": [
       "array([[0.69731317, 0.0500275 , 0.92559238],\n",
       "       [0.05096168, 0.41445908, 0.77592378]])"
      ]
     },
     "execution_count": 5,
     "metadata": {},
     "output_type": "execute_result"
    }
   ],
   "source": [
    "np.random.rand(2, 3)"
   ]
  },
  {
   "cell_type": "markdown",
   "id": "5b829ec4",
   "metadata": {},
   "source": [
    "## Slicing\n",
    "\n",
    "De la misma forma que con las listas de python, pueden obtenerse slices de los arreglos de numpy"
   ]
  },
  {
   "cell_type": "code",
   "execution_count": 6,
   "id": "cc3afe22",
   "metadata": {
    "execution": {
     "iopub.execute_input": "2021-10-07T04:06:15.309758Z",
     "iopub.status.busy": "2021-10-07T04:06:15.309197Z",
     "iopub.status.idle": "2021-10-07T04:06:15.311714Z",
     "shell.execute_reply": "2021-10-07T04:06:15.312186Z"
    },
    "lines_to_next_cell": 2
   },
   "outputs": [
    {
     "data": {
      "text/plain": [
       "array([1, 8])"
      ]
     },
     "execution_count": 6,
     "metadata": {},
     "output_type": "execute_result"
    }
   ],
   "source": [
    "enteros[:2]"
   ]
  },
  {
   "cell_type": "code",
   "execution_count": 7,
   "id": "93421e6a",
   "metadata": {
    "execution": {
     "iopub.execute_input": "2021-10-07T04:06:15.318023Z",
     "iopub.status.busy": "2021-10-07T04:06:15.317462Z",
     "iopub.status.idle": "2021-10-07T04:06:15.320148Z",
     "shell.execute_reply": "2021-10-07T04:06:15.320606Z"
    }
   },
   "outputs": [
    {
     "name": "stdout",
     "output_type": "stream",
     "text": [
      "Original: \n",
      "[[ 1  2  3  4]\n",
      " [ 5  6  7  8]\n",
      " [ 9 10 11 12]]\n",
      "\n",
      "Recortada: \n",
      "[[1 2 3]\n",
      " [5 6 7]]\n"
     ]
    }
   ],
   "source": [
    "matriz_de_enteros = np.array([[1, 2, 3, 4], [5, 6, 7, 8], [9, 10, 11, 12]])\n",
    "\n",
    "print('Original: ')\n",
    "print(matriz_de_enteros)\n",
    "\n",
    "print()\n",
    "\n",
    "print('Recortada: ')\n",
    "print(matriz_de_enteros[:2, :3])"
   ]
  },
  {
   "cell_type": "code",
   "execution_count": 8,
   "id": "6149de57",
   "metadata": {
    "execution": {
     "iopub.execute_input": "2021-10-07T04:06:15.325757Z",
     "iopub.status.busy": "2021-10-07T04:06:15.325184Z",
     "iopub.status.idle": "2021-10-07T04:06:15.327888Z",
     "shell.execute_reply": "2021-10-07T04:06:15.328374Z"
    }
   },
   "outputs": [
    {
     "data": {
      "text/plain": [
       "array([[[ 0,  1,  2,  3,  4],\n",
       "        [ 5,  6,  7,  8,  9],\n",
       "        [10, 11, 12, 13, 14]],\n",
       "\n",
       "       [[15, 16, 17, 18, 19],\n",
       "        [20, 21, 22, 23, 24],\n",
       "        [25, 26, 27, 28, 29]],\n",
       "\n",
       "       [[30, 31, 32, 33, 34],\n",
       "        [35, 36, 37, 38, 39],\n",
       "        [40, 41, 42, 43, 44]]])"
      ]
     },
     "execution_count": 8,
     "metadata": {},
     "output_type": "execute_result"
    }
   ],
   "source": [
    "# 3D\n",
    "# arange() genera valores de un intervalo pasado por parámetro\n",
    "# reshape() modifica la forma del numpy array\n",
    "\n",
    "x = np.arange(45).reshape(3, 3, 5)\n",
    "x"
   ]
  },
  {
   "cell_type": "code",
   "execution_count": 9,
   "id": "f7da7a52",
   "metadata": {
    "execution": {
     "iopub.execute_input": "2021-10-07T04:06:15.333000Z",
     "iopub.status.busy": "2021-10-07T04:06:15.332435Z",
     "iopub.status.idle": "2021-10-07T04:06:15.335038Z",
     "shell.execute_reply": "2021-10-07T04:06:15.335514Z"
    }
   },
   "outputs": [
    {
     "data": {
      "text/plain": [
       "array([[ 0,  1,  2,  3,  4],\n",
       "       [ 5,  6,  7,  8,  9],\n",
       "       [10, 11, 12, 13, 14]])"
      ]
     },
     "execution_count": 9,
     "metadata": {},
     "output_type": "execute_result"
    }
   ],
   "source": [
    "x[0]"
   ]
  },
  {
   "cell_type": "code",
   "execution_count": 10,
   "id": "63c6cddc",
   "metadata": {
    "execution": {
     "iopub.execute_input": "2021-10-07T04:06:15.340101Z",
     "iopub.status.busy": "2021-10-07T04:06:15.337629Z",
     "iopub.status.idle": "2021-10-07T04:06:15.342791Z",
     "shell.execute_reply": "2021-10-07T04:06:15.343232Z"
    }
   },
   "outputs": [
    {
     "data": {
      "text/plain": [
       "array([5, 6, 7, 8, 9])"
      ]
     },
     "execution_count": 10,
     "metadata": {},
     "output_type": "execute_result"
    }
   ],
   "source": [
    "x[0][1]"
   ]
  },
  {
   "cell_type": "code",
   "execution_count": 11,
   "id": "1d9b9fe0",
   "metadata": {
    "execution": {
     "iopub.execute_input": "2021-10-07T04:06:15.349244Z",
     "iopub.status.busy": "2021-10-07T04:06:15.347802Z",
     "iopub.status.idle": "2021-10-07T04:06:15.351701Z",
     "shell.execute_reply": "2021-10-07T04:06:15.351223Z"
    }
   },
   "outputs": [
    {
     "data": {
      "text/plain": [
       "7"
      ]
     },
     "execution_count": 11,
     "metadata": {},
     "output_type": "execute_result"
    }
   ],
   "source": [
    "x[0][1][2]"
   ]
  },
  {
   "cell_type": "markdown",
   "id": "00e70743",
   "metadata": {},
   "source": [
    "\n",
    "¿Cómo conseguimos estos valores? ([fuente](https://towardsdatascience.com/indexing-and-slicing-of-1d-2d-and-3d-arrays-in-numpy-e731afff0bbe))\n",
    "\n",
    "![title](img/matrix.png)"
   ]
  },
  {
   "cell_type": "code",
   "execution_count": 12,
   "id": "bbde49fb",
   "metadata": {
    "execution": {
     "iopub.execute_input": "2021-10-07T04:06:15.357280Z",
     "iopub.status.busy": "2021-10-07T04:06:15.356274Z",
     "iopub.status.idle": "2021-10-07T04:06:15.360150Z",
     "shell.execute_reply": "2021-10-07T04:06:15.359652Z"
    }
   },
   "outputs": [
    {
     "data": {
      "text/plain": [
       "array([[[16, 17, 18],\n",
       "        [21, 22, 23]],\n",
       "\n",
       "       [[31, 32, 33],\n",
       "        [36, 37, 38]]])"
      ]
     },
     "execution_count": 12,
     "metadata": {},
     "output_type": "execute_result"
    }
   ],
   "source": [
    "x[1:, 0:2, 1:4]"
   ]
  },
  {
   "cell_type": "markdown",
   "id": "58d7846d",
   "metadata": {},
   "source": [
    "### Copia de arreglos"
   ]
  },
  {
   "cell_type": "code",
   "execution_count": 13,
   "id": "fd9936a0",
   "metadata": {
    "execution": {
     "iopub.execute_input": "2021-10-07T04:06:15.366219Z",
     "iopub.status.busy": "2021-10-07T04:06:15.365195Z",
     "iopub.status.idle": "2021-10-07T04:06:15.368979Z",
     "shell.execute_reply": "2021-10-07T04:06:15.368491Z"
    }
   },
   "outputs": [
    {
     "data": {
      "text/plain": [
       "array([1, 2, 3, 4])"
      ]
     },
     "execution_count": 13,
     "metadata": {},
     "output_type": "execute_result"
    }
   ],
   "source": [
    "# Los arreglos no se copian con asignación\n",
    "\n",
    "a = np.array([1, 2, 3, 4])\n",
    "b = a\n",
    "b"
   ]
  },
  {
   "cell_type": "code",
   "execution_count": 14,
   "id": "75d6ee65",
   "metadata": {
    "execution": {
     "iopub.execute_input": "2021-10-07T04:06:15.374403Z",
     "iopub.status.busy": "2021-10-07T04:06:15.373375Z",
     "iopub.status.idle": "2021-10-07T04:06:15.377238Z",
     "shell.execute_reply": "2021-10-07T04:06:15.376770Z"
    }
   },
   "outputs": [
    {
     "data": {
      "text/plain": [
       "array([ 1, 20,  3,  4])"
      ]
     },
     "execution_count": 14,
     "metadata": {},
     "output_type": "execute_result"
    }
   ],
   "source": [
    "b[1] = 20\n",
    "b"
   ]
  },
  {
   "cell_type": "code",
   "execution_count": 15,
   "id": "d015c4f0",
   "metadata": {
    "execution": {
     "iopub.execute_input": "2021-10-07T04:06:15.382648Z",
     "iopub.status.busy": "2021-10-07T04:06:15.381648Z",
     "iopub.status.idle": "2021-10-07T04:06:15.385315Z",
     "shell.execute_reply": "2021-10-07T04:06:15.384855Z"
    }
   },
   "outputs": [
    {
     "data": {
      "text/plain": [
       "array([ 1, 20,  3,  4])"
      ]
     },
     "execution_count": 15,
     "metadata": {},
     "output_type": "execute_result"
    }
   ],
   "source": [
    "a"
   ]
  },
  {
   "cell_type": "code",
   "execution_count": 16,
   "id": "f67c5b06",
   "metadata": {
    "execution": {
     "iopub.execute_input": "2021-10-07T04:06:15.391452Z",
     "iopub.status.busy": "2021-10-07T04:06:15.390415Z",
     "iopub.status.idle": "2021-10-07T04:06:15.394143Z",
     "shell.execute_reply": "2021-10-07T04:06:15.393676Z"
    }
   },
   "outputs": [
    {
     "data": {
      "text/plain": [
       "array([ 1, 20,  3,  4])"
      ]
     },
     "execution_count": 16,
     "metadata": {},
     "output_type": "execute_result"
    }
   ],
   "source": [
    "# Para copiar un arreglo a otra variable debemos usar copy()\n",
    "\n",
    "a = np.array([1, 2, 3, 4])\n",
    "b = a.copy()\n",
    "b[1] = 20\n",
    "b"
   ]
  },
  {
   "cell_type": "code",
   "execution_count": 17,
   "id": "a98a26ef",
   "metadata": {
    "execution": {
     "iopub.execute_input": "2021-10-07T04:06:15.399568Z",
     "iopub.status.busy": "2021-10-07T04:06:15.398545Z",
     "iopub.status.idle": "2021-10-07T04:06:15.401794Z",
     "shell.execute_reply": "2021-10-07T04:06:15.402192Z"
    }
   },
   "outputs": [
    {
     "data": {
      "text/plain": [
       "array([1, 2, 3, 4])"
      ]
     },
     "execution_count": 17,
     "metadata": {},
     "output_type": "execute_result"
    }
   ],
   "source": [
    "a"
   ]
  },
  {
   "cell_type": "markdown",
   "id": "e4e18393",
   "metadata": {},
   "source": [
    "### Modificación de dimensiones"
   ]
  },
  {
   "cell_type": "markdown",
   "id": "53ba4696",
   "metadata": {},
   "source": [
    "Existen varias operaciones para cambiar la forma de un arreglo de numpy"
   ]
  },
  {
   "cell_type": "code",
   "execution_count": 18,
   "id": "984a3898",
   "metadata": {
    "execution": {
     "iopub.execute_input": "2021-10-07T04:06:15.406214Z",
     "iopub.status.busy": "2021-10-07T04:06:15.404617Z",
     "iopub.status.idle": "2021-10-07T04:06:15.409006Z",
     "shell.execute_reply": "2021-10-07T04:06:15.408505Z"
    }
   },
   "outputs": [
    {
     "data": {
      "text/plain": [
       "array([[ 1,  2,  3,  4],\n",
       "       [ 5,  6,  7,  8],\n",
       "       [ 9, 10, 11, 12]])"
      ]
     },
     "execution_count": 18,
     "metadata": {},
     "output_type": "execute_result"
    }
   ],
   "source": [
    "matriz_de_enteros"
   ]
  },
  {
   "cell_type": "code",
   "execution_count": 19,
   "id": "34b9c8e2",
   "metadata": {
    "execution": {
     "iopub.execute_input": "2021-10-07T04:06:15.412929Z",
     "iopub.status.busy": "2021-10-07T04:06:15.412358Z",
     "iopub.status.idle": "2021-10-07T04:06:15.414821Z",
     "shell.execute_reply": "2021-10-07T04:06:15.415319Z"
    }
   },
   "outputs": [
    {
     "data": {
      "text/plain": [
       "2"
      ]
     },
     "execution_count": 19,
     "metadata": {},
     "output_type": "execute_result"
    }
   ],
   "source": [
    "# Obtener las dimensiones del arreglo\n",
    "\n",
    "matriz_de_enteros.ndim"
   ]
  },
  {
   "cell_type": "code",
   "execution_count": 20,
   "id": "3ad3d735",
   "metadata": {
    "execution": {
     "iopub.execute_input": "2021-10-07T04:06:15.419234Z",
     "iopub.status.busy": "2021-10-07T04:06:15.418669Z",
     "iopub.status.idle": "2021-10-07T04:06:15.421138Z",
     "shell.execute_reply": "2021-10-07T04:06:15.421581Z"
    }
   },
   "outputs": [
    {
     "data": {
      "text/plain": [
       "(3, 4)"
      ]
     },
     "execution_count": 20,
     "metadata": {},
     "output_type": "execute_result"
    }
   ],
   "source": [
    "# Obtener la forma del arreglo\n",
    "\n",
    "matriz_de_enteros.shape"
   ]
  },
  {
   "cell_type": "code",
   "execution_count": 21,
   "id": "b3ebb564",
   "metadata": {
    "execution": {
     "iopub.execute_input": "2021-10-07T04:06:15.427629Z",
     "iopub.status.busy": "2021-10-07T04:06:15.424850Z",
     "iopub.status.idle": "2021-10-07T04:06:15.431892Z",
     "shell.execute_reply": "2021-10-07T04:06:15.431389Z"
    }
   },
   "outputs": [
    {
     "name": "stdout",
     "output_type": "stream",
     "text": [
      "enteros: [ 3  6  9 12]\n"
     ]
    },
    {
     "data": {
      "text/plain": [
       "array([[ 3,  6],\n",
       "       [ 9, 12]])"
      ]
     },
     "execution_count": 21,
     "metadata": {},
     "output_type": "execute_result"
    }
   ],
   "source": [
    "# Modificar la forma de un arreglo\n",
    "\n",
    "enteros = np.array([3, 6, 9, 12])\n",
    "print(f\"enteros: {enteros}\")\n",
    "np.reshape(enteros, (2, 2))"
   ]
  },
  {
   "cell_type": "code",
   "execution_count": 22,
   "id": "d2c9a4e1",
   "metadata": {
    "execution": {
     "iopub.execute_input": "2021-10-07T04:06:15.437831Z",
     "iopub.status.busy": "2021-10-07T04:06:15.436794Z",
     "iopub.status.idle": "2021-10-07T04:06:15.440066Z",
     "shell.execute_reply": "2021-10-07T04:06:15.440529Z"
    }
   },
   "outputs": [
    {
     "data": {
      "text/plain": [
       "array([[1., 1.],\n",
       "       [1., 1.]])"
      ]
     },
     "execution_count": 22,
     "metadata": {},
     "output_type": "execute_result"
    }
   ],
   "source": [
    "# Aplanar un arreglo\n",
    "\n",
    "a = np.ones((2, 2))\n",
    "a"
   ]
  },
  {
   "cell_type": "code",
   "execution_count": 23,
   "id": "0dfe8493",
   "metadata": {
    "execution": {
     "iopub.execute_input": "2021-10-07T04:06:15.444923Z",
     "iopub.status.busy": "2021-10-07T04:06:15.444359Z",
     "iopub.status.idle": "2021-10-07T04:06:15.446840Z",
     "shell.execute_reply": "2021-10-07T04:06:15.447319Z"
    }
   },
   "outputs": [
    {
     "data": {
      "text/plain": [
       "array([1., 1., 1., 1.])"
      ]
     },
     "execution_count": 23,
     "metadata": {},
     "output_type": "execute_result"
    }
   ],
   "source": [
    "a.flatten()"
   ]
  },
  {
   "cell_type": "code",
   "execution_count": 24,
   "id": "3044601e",
   "metadata": {
    "execution": {
     "iopub.execute_input": "2021-10-07T04:06:15.452035Z",
     "iopub.status.busy": "2021-10-07T04:06:15.451428Z",
     "iopub.status.idle": "2021-10-07T04:06:15.454121Z",
     "shell.execute_reply": "2021-10-07T04:06:15.454544Z"
    },
    "lines_to_next_cell": 2
   },
   "outputs": [
    {
     "data": {
      "text/plain": [
       "array([[1., 1.],\n",
       "       [1., 1.]])"
      ]
     },
     "execution_count": 24,
     "metadata": {},
     "output_type": "execute_result"
    }
   ],
   "source": [
    "a"
   ]
  },
  {
   "cell_type": "markdown",
   "id": "00dd0246",
   "metadata": {},
   "source": [
    "### Combinación de arreglos (Stacking)"
   ]
  },
  {
   "cell_type": "code",
   "execution_count": 25,
   "id": "3dcef83b",
   "metadata": {
    "execution": {
     "iopub.execute_input": "2021-10-07T04:06:15.459455Z",
     "iopub.status.busy": "2021-10-07T04:06:15.458881Z",
     "iopub.status.idle": "2021-10-07T04:06:15.461608Z",
     "shell.execute_reply": "2021-10-07T04:06:15.462064Z"
    }
   },
   "outputs": [
    {
     "data": {
      "text/plain": [
       "array([0, 1, 2, 3, 4])"
      ]
     },
     "execution_count": 25,
     "metadata": {},
     "output_type": "execute_result"
    }
   ],
   "source": [
    "# Los arreglos se pueden combinar verticalmente (se incrementa la cantidad de filas)\n",
    "\n",
    "a = np.arange(0, 5)\n",
    "a"
   ]
  },
  {
   "cell_type": "code",
   "execution_count": 26,
   "id": "b4adbc8b",
   "metadata": {
    "execution": {
     "iopub.execute_input": "2021-10-07T04:06:15.466868Z",
     "iopub.status.busy": "2021-10-07T04:06:15.466295Z",
     "iopub.status.idle": "2021-10-07T04:06:15.469006Z",
     "shell.execute_reply": "2021-10-07T04:06:15.469461Z"
    }
   },
   "outputs": [
    {
     "data": {
      "text/plain": [
       "array([5, 6, 7, 8, 9])"
      ]
     },
     "execution_count": 26,
     "metadata": {},
     "output_type": "execute_result"
    }
   ],
   "source": [
    "b = np.arange(5, 10)\n",
    "b"
   ]
  },
  {
   "cell_type": "code",
   "execution_count": 27,
   "id": "2e6304c1",
   "metadata": {
    "execution": {
     "iopub.execute_input": "2021-10-07T04:06:15.474260Z",
     "iopub.status.busy": "2021-10-07T04:06:15.473676Z",
     "iopub.status.idle": "2021-10-07T04:06:15.476399Z",
     "shell.execute_reply": "2021-10-07T04:06:15.476864Z"
    }
   },
   "outputs": [
    {
     "data": {
      "text/plain": [
       "array([[0, 1, 2, 3, 4],\n",
       "       [5, 6, 7, 8, 9]])"
      ]
     },
     "execution_count": 27,
     "metadata": {},
     "output_type": "execute_result"
    }
   ],
   "source": [
    "combinados_verticalmente = np.vstack((a, b))\n",
    "combinados_verticalmente"
   ]
  },
  {
   "cell_type": "code",
   "execution_count": 28,
   "id": "8661c7ae",
   "metadata": {
    "execution": {
     "iopub.execute_input": "2021-10-07T04:06:15.481455Z",
     "iopub.status.busy": "2021-10-07T04:06:15.480896Z",
     "iopub.status.idle": "2021-10-07T04:06:15.484620Z",
     "shell.execute_reply": "2021-10-07T04:06:15.485049Z"
    }
   },
   "outputs": [
    {
     "data": {
      "text/plain": [
       "array([0, 1, 2, 3, 4, 5, 6, 7, 8, 9])"
      ]
     },
     "execution_count": 28,
     "metadata": {},
     "output_type": "execute_result"
    }
   ],
   "source": [
    "# También se pueden combinar horizontalmente (se incrementa la cantidad de columnas)\n",
    "\n",
    "combinados_horizontalmente = np.hstack((a, b))\n",
    "combinados_horizontalmente"
   ]
  },
  {
   "cell_type": "markdown",
   "id": "1bb7ed79",
   "metadata": {},
   "source": [
    "### Operaciones matemáticas"
   ]
  },
  {
   "cell_type": "code",
   "execution_count": 29,
   "id": "7e7c8048",
   "metadata": {
    "execution": {
     "iopub.execute_input": "2021-10-07T04:06:15.490864Z",
     "iopub.status.busy": "2021-10-07T04:06:15.489826Z",
     "iopub.status.idle": "2021-10-07T04:06:15.493626Z",
     "shell.execute_reply": "2021-10-07T04:06:15.493123Z"
    }
   },
   "outputs": [
    {
     "data": {
      "text/plain": [
       "array([3, 4, 5, 6])"
      ]
     },
     "execution_count": 29,
     "metadata": {},
     "output_type": "execute_result"
    }
   ],
   "source": [
    "a = np.array([1, 2, 3, 4])\n",
    "\n",
    "a + 2"
   ]
  },
  {
   "cell_type": "code",
   "execution_count": 30,
   "id": "9ffac7a7",
   "metadata": {
    "execution": {
     "iopub.execute_input": "2021-10-07T04:06:15.497963Z",
     "iopub.status.busy": "2021-10-07T04:06:15.497392Z",
     "iopub.status.idle": "2021-10-07T04:06:15.500037Z",
     "shell.execute_reply": "2021-10-07T04:06:15.500506Z"
    }
   },
   "outputs": [
    {
     "data": {
      "text/plain": [
       "array([ 1,  4,  9, 16])"
      ]
     },
     "execution_count": 30,
     "metadata": {},
     "output_type": "execute_result"
    }
   ],
   "source": [
    "a ** 2"
   ]
  },
  {
   "cell_type": "code",
   "execution_count": 31,
   "id": "00443b18",
   "metadata": {
    "execution": {
     "iopub.execute_input": "2021-10-07T04:06:15.505879Z",
     "iopub.status.busy": "2021-10-07T04:06:15.505342Z",
     "iopub.status.idle": "2021-10-07T04:06:15.509396Z",
     "shell.execute_reply": "2021-10-07T04:06:15.508906Z"
    }
   },
   "outputs": [
    {
     "name": "stdout",
     "output_type": "stream",
     "text": [
      "b: [1. 1. 1. 1.]\n"
     ]
    },
    {
     "data": {
      "text/plain": [
       "array([2., 3., 4., 5.])"
      ]
     },
     "execution_count": 31,
     "metadata": {},
     "output_type": "execute_result"
    }
   ],
   "source": [
    "b = np.ones(4)\n",
    "print(f\"b: {b}\")\n",
    "a + b"
   ]
  },
  {
   "cell_type": "markdown",
   "id": "84d958e5",
   "metadata": {},
   "source": [
    "### Estadística"
   ]
  },
  {
   "cell_type": "code",
   "execution_count": 32,
   "id": "7d0db53a",
   "metadata": {
    "execution": {
     "iopub.execute_input": "2021-10-07T04:06:15.515047Z",
     "iopub.status.busy": "2021-10-07T04:06:15.514467Z",
     "iopub.status.idle": "2021-10-07T04:06:15.517031Z",
     "shell.execute_reply": "2021-10-07T04:06:15.517487Z"
    }
   },
   "outputs": [
    {
     "data": {
      "text/plain": [
       "1"
      ]
     },
     "execution_count": 32,
     "metadata": {},
     "output_type": "execute_result"
    }
   ],
   "source": [
    "a = np.array([[5, 2, 1, 8], [26, 4, 17, 9]])\n",
    "\n",
    "np.min(a)"
   ]
  },
  {
   "cell_type": "code",
   "execution_count": 33,
   "id": "cf4f3083",
   "metadata": {
    "execution": {
     "iopub.execute_input": "2021-10-07T04:06:15.522089Z",
     "iopub.status.busy": "2021-10-07T04:06:15.521538Z",
     "iopub.status.idle": "2021-10-07T04:06:15.524038Z",
     "shell.execute_reply": "2021-10-07T04:06:15.524504Z"
    }
   },
   "outputs": [
    {
     "data": {
      "text/plain": [
       "26"
      ]
     },
     "execution_count": 33,
     "metadata": {},
     "output_type": "execute_result"
    }
   ],
   "source": [
    "np.max(a)"
   ]
  },
  {
   "cell_type": "code",
   "execution_count": 34,
   "id": "f7c9df86",
   "metadata": {
    "execution": {
     "iopub.execute_input": "2021-10-07T04:06:15.528720Z",
     "iopub.status.busy": "2021-10-07T04:06:15.528157Z",
     "iopub.status.idle": "2021-10-07T04:06:15.530638Z",
     "shell.execute_reply": "2021-10-07T04:06:15.531178Z"
    }
   },
   "outputs": [
    {
     "data": {
      "text/plain": [
       "72"
      ]
     },
     "execution_count": 34,
     "metadata": {},
     "output_type": "execute_result"
    }
   ],
   "source": [
    "np.sum(a)"
   ]
  },
  {
   "cell_type": "markdown",
   "id": "b4669ca6",
   "metadata": {},
   "source": [
    "### Más magia"
   ]
  },
  {
   "cell_type": "code",
   "execution_count": 35,
   "id": "48faa0dc",
   "metadata": {
    "execution": {
     "iopub.execute_input": "2021-10-07T04:06:15.536444Z",
     "iopub.status.busy": "2021-10-07T04:06:15.535837Z",
     "iopub.status.idle": "2021-10-07T04:06:15.538553Z",
     "shell.execute_reply": "2021-10-07T04:06:15.539017Z"
    }
   },
   "outputs": [
    {
     "data": {
      "text/plain": [
       "array([[False, False, False,  True],\n",
       "       [ True, False,  True,  True]])"
      ]
     },
     "execution_count": 35,
     "metadata": {},
     "output_type": "execute_result"
    }
   ],
   "source": [
    "a = np.array([[5, 2, 1, 8], [26, 4, 17, 9]])\n",
    "\n",
    "a > 5"
   ]
  },
  {
   "cell_type": "code",
   "execution_count": 36,
   "id": "e3725b09",
   "metadata": {
    "execution": {
     "iopub.execute_input": "2021-10-07T04:06:15.543430Z",
     "iopub.status.busy": "2021-10-07T04:06:15.542888Z",
     "iopub.status.idle": "2021-10-07T04:06:15.545624Z",
     "shell.execute_reply": "2021-10-07T04:06:15.546079Z"
    }
   },
   "outputs": [
    {
     "data": {
      "text/plain": [
       "array([ 8, 26, 17,  9])"
      ]
     },
     "execution_count": 36,
     "metadata": {},
     "output_type": "execute_result"
    }
   ],
   "source": [
    "a[a > 5]"
   ]
  },
  {
   "cell_type": "markdown",
   "id": "26784365",
   "metadata": {},
   "source": [
    "### Broadcasting"
   ]
  },
  {
   "cell_type": "markdown",
   "id": "b617bca1",
   "metadata": {},
   "source": [
    "Permite realizar operaciones entre dos numpy arrays de distintas dimensiones.\n",
    "Para lograr esto, las dimensiones de los mismos deben ser compatibles. Dos dimensiones son compatibles cuando:\n",
    "1. Son iguales\n",
    "2. Alguna de las dos es 1"
   ]
  },
  {
   "cell_type": "code",
   "execution_count": 37,
   "id": "467e44be",
   "metadata": {
    "execution": {
     "iopub.execute_input": "2021-10-07T04:06:15.551277Z",
     "iopub.status.busy": "2021-10-07T04:06:15.550705Z",
     "iopub.status.idle": "2021-10-07T04:06:15.553415Z",
     "shell.execute_reply": "2021-10-07T04:06:15.553878Z"
    }
   },
   "outputs": [
    {
     "data": {
      "text/plain": [
       "array([[ 5,  2,  1,  8],\n",
       "       [26,  4, 17,  9]])"
      ]
     },
     "execution_count": 37,
     "metadata": {},
     "output_type": "execute_result"
    }
   ],
   "source": [
    "a = np.array([[5, 2, 1, 8], [26, 4, 17, 9]])\n",
    "a"
   ]
  },
  {
   "cell_type": "code",
   "execution_count": 38,
   "id": "c5f2cf2c",
   "metadata": {
    "execution": {
     "iopub.execute_input": "2021-10-07T04:06:15.559346Z",
     "iopub.status.busy": "2021-10-07T04:06:15.558775Z",
     "iopub.status.idle": "2021-10-07T04:06:15.561188Z",
     "shell.execute_reply": "2021-10-07T04:06:15.561647Z"
    }
   },
   "outputs": [
    {
     "name": "stdout",
     "output_type": "stream",
     "text": [
      "a: (2, 4)\n",
      "b: (4,)\n",
      "\n",
      "a + b:\n",
      " [[10  4  2 16]\n",
      " [31  6 18 17]]\n"
     ]
    }
   ],
   "source": [
    "# Armamos un array que tenga la misma cantidad de columnas que a\n",
    "b = np.array([5, 2, 1, 8])\n",
    "print(f\"a: {a.shape}\")\n",
    "print(f\"b: {b.shape}\")\n",
    "# a + b\n",
    "print()\n",
    "print(f\"a + b:\\n {a + b}\")"
   ]
  },
  {
   "cell_type": "code",
   "execution_count": 39,
   "id": "4b18a1e9",
   "metadata": {
    "execution": {
     "iopub.execute_input": "2021-10-07T04:06:15.566129Z",
     "iopub.status.busy": "2021-10-07T04:06:15.564666Z",
     "iopub.status.idle": "2021-10-07T04:06:15.647522Z",
     "shell.execute_reply": "2021-10-07T04:06:15.648001Z"
    },
    "tags": [
     "raises-exception"
    ]
   },
   "outputs": [
    {
     "name": "stdout",
     "output_type": "stream",
     "text": [
      "a: (2, 4)\n",
      "b: (3,)\n"
     ]
    },
    {
     "ename": "ValueError",
     "evalue": "operands could not be broadcast together with shapes (2,4) (3,) ",
     "output_type": "error",
     "traceback": [
      "\u001b[0;31m---------------------------------------------------------------------------\u001b[0m",
      "\u001b[0;31mValueError\u001b[0m                                Traceback (most recent call last)",
      "\u001b[0;32m/tmp/ipykernel_1911/261865458.py\u001b[0m in \u001b[0;36m<module>\u001b[0;34m\u001b[0m\n\u001b[1;32m      3\u001b[0m \u001b[0mprint\u001b[0m\u001b[0;34m(\u001b[0m\u001b[0;34mf\"a: {a.shape}\"\u001b[0m\u001b[0;34m)\u001b[0m\u001b[0;34m\u001b[0m\u001b[0;34m\u001b[0m\u001b[0m\n\u001b[1;32m      4\u001b[0m \u001b[0mprint\u001b[0m\u001b[0;34m(\u001b[0m\u001b[0;34mf\"b: {b.shape}\"\u001b[0m\u001b[0;34m)\u001b[0m\u001b[0;34m\u001b[0m\u001b[0;34m\u001b[0m\u001b[0m\n\u001b[0;32m----> 5\u001b[0;31m \u001b[0ma\u001b[0m \u001b[0;34m+\u001b[0m \u001b[0mb\u001b[0m\u001b[0;34m\u001b[0m\u001b[0;34m\u001b[0m\u001b[0m\n\u001b[0m",
      "\u001b[0;31mValueError\u001b[0m: operands could not be broadcast together with shapes (2,4) (3,) "
     ]
    }
   ],
   "source": [
    "# Armamos un array que tenga distinta cantidad de filas y columnas que a\n",
    "b = np.array([5, 1, 8])\n",
    "print(f\"a: {a.shape}\")\n",
    "print(f\"b: {b.shape}\")\n",
    "a + b"
   ]
  },
  {
   "cell_type": "code",
   "execution_count": 40,
   "id": "fe6dd1c1",
   "metadata": {
    "execution": {
     "iopub.execute_input": "2021-10-07T04:06:15.655041Z",
     "iopub.status.busy": "2021-10-07T04:06:15.652679Z",
     "iopub.status.idle": "2021-10-07T04:06:15.659050Z",
     "shell.execute_reply": "2021-10-07T04:06:15.658575Z"
    }
   },
   "outputs": [
    {
     "name": "stdout",
     "output_type": "stream",
     "text": [
      "a: (2, 4)\n",
      "b: (2, 1)\n"
     ]
    },
    {
     "data": {
      "text/plain": [
       "array([[ 7,  4,  3, 10],\n",
       "       [27,  5, 18, 10]])"
      ]
     },
     "execution_count": 40,
     "metadata": {},
     "output_type": "execute_result"
    }
   ],
   "source": [
    "# Armamos un array que tenga la misma cantidad de filas que a\n",
    "b = np.array([[2], [1]])\n",
    "print(f\"a: {a.shape}\")\n",
    "print(f\"b: {b.shape}\")\n",
    "a + b"
   ]
  },
  {
   "cell_type": "code",
   "execution_count": 41,
   "id": "ce725e67",
   "metadata": {
    "execution": {
     "iopub.execute_input": "2021-10-07T04:06:15.664874Z",
     "iopub.status.busy": "2021-10-07T04:06:15.663862Z",
     "iopub.status.idle": "2021-10-07T04:06:15.667522Z",
     "shell.execute_reply": "2021-10-07T04:06:15.667031Z"
    }
   },
   "outputs": [
    {
     "data": {
      "text/plain": [
       "array([[ 9,  6,  5, 12],\n",
       "       [30,  8, 21, 13]])"
      ]
     },
     "execution_count": 41,
     "metadata": {},
     "output_type": "execute_result"
    }
   ],
   "source": [
    "# Si b es un entero\n",
    "b = 4\n",
    "a + b"
   ]
  },
  {
   "cell_type": "code",
   "execution_count": null,
   "id": "b934dcfe",
   "metadata": {},
   "outputs": [],
   "source": []
  }
 ],
 "metadata": {
  "jupytext": {
   "encoding": "# -*- coding: utf-8 -*-",
   "formats": "ipynb,py:light"
  },
  "kernelspec": {
   "display_name": "Python 3",
   "language": "python",
   "name": "python3"
  },
  "language_info": {
   "codemirror_mode": {
    "name": "ipython",
    "version": 3
   },
   "file_extension": ".py",
   "mimetype": "text/x-python",
   "name": "python",
   "nbconvert_exporter": "python",
   "pygments_lexer": "ipython3",
   "version": "3.7.12"
  }
 },
 "nbformat": 4,
 "nbformat_minor": 5
}
