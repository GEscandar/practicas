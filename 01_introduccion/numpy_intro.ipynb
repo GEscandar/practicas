{
 "cells": [
  {
   "cell_type": "code",
   "execution_count": 1,
   "metadata": {
    "execution": {
     "iopub.execute_input": "2020-09-27T18:48:22.739197Z",
     "iopub.status.busy": "2020-09-27T18:48:22.738471Z",
     "iopub.status.idle": "2020-09-27T18:48:22.741461Z",
     "shell.execute_reply": "2020-09-27T18:48:22.740892Z"
    }
   },
   "outputs": [],
   "source": [
    "\n",
    "# # Clase 1 - Introducción a numpy\n",
    "\n",
    "# Numpy es una biblioteca para Python que facilita el manejo de arreglos multidimensionales y ofrece varias herramientas para trabajar con ellos. Muchas de las bibliotecas de Python que son ampliamente usadas hoy en día, como pandas, están construidas sobre numpy.\n",
    "\n",
    "# ## Listas de Python vs arreglos de Numpy\n",
    "\n",
    "# A primera vista, un arreglo de numpy puede resultar idéntico a una lista de python, pero a medida que la cantidad de datos comienza a incrementar, los arreglos de numpy terminan ofreciendo un manejo más eficiente de la memoria.\n",
    "\n",
    "# Para comenzar, vamos a crear un arreglo de numpy:"
   ]
  },
  {
   "cell_type": "code",
   "execution_count": 2,
   "metadata": {
    "execution": {
     "iopub.execute_input": "2020-09-27T18:48:22.744862Z",
     "iopub.status.busy": "2020-09-27T18:48:22.744361Z",
     "iopub.status.idle": "2020-09-27T18:48:22.838647Z",
     "shell.execute_reply": "2020-09-27T18:48:22.839288Z"
    }
   },
   "outputs": [
    {
     "data": {
      "text/plain": [
       "array([1, 2, 3, 4])"
      ]
     },
     "execution_count": 1,
     "metadata": {},
     "output_type": "execute_result"
    }
   ],
   "source": [
    "\n",
    "\n",
    "import numpy as np\n",
    "\n",
    "np.array([1, 2, 3, 4])\n",
    "\n",
    "\n",
    "# Los arreglos pueden ser también multidimensionales:"
   ]
  },
  {
   "cell_type": "code",
   "execution_count": 3,
   "metadata": {
    "execution": {
     "iopub.execute_input": "2020-09-27T18:48:22.842146Z",
     "iopub.status.busy": "2020-09-27T18:48:22.841230Z",
     "iopub.status.idle": "2020-09-27T18:48:22.846923Z",
     "shell.execute_reply": "2020-09-27T18:48:22.847631Z"
    }
   },
   "outputs": [
    {
     "data": {
      "text/plain": [
       "array([[1, 2, 3, 4],\n",
       "       [5, 6, 7, 8]])"
      ]
     },
     "execution_count": 1,
     "metadata": {},
     "output_type": "execute_result"
    }
   ],
   "source": [
    "\n",
    "\n",
    "np.array([[1, 2, 3, 4], [5, 6, 7, 8]])\n",
    "\n",
    "\n",
    "# Es importante tener en cuenta que un arreglo de numpy tiene un tipo fijo de datos, entonces si se quiere agregar un dato de un tipo diferente al de la mayoría, este va a ser modificado para adaptarse al resto"
   ]
  },
  {
   "cell_type": "code",
   "execution_count": 4,
   "metadata": {
    "execution": {
     "iopub.execute_input": "2020-09-27T18:48:22.850991Z",
     "iopub.status.busy": "2020-09-27T18:48:22.849944Z",
     "iopub.status.idle": "2020-09-27T18:48:22.856144Z",
     "shell.execute_reply": "2020-09-27T18:48:22.856759Z"
    }
   },
   "outputs": [
    {
     "data": {
      "text/plain": [
       "array([1, 8, 3, 4])"
      ]
     },
     "execution_count": 1,
     "metadata": {},
     "output_type": "execute_result"
    }
   ],
   "source": [
    "\n",
    "\n",
    "enteros = np.array([1, 2, 3, 4])\n",
    "\n",
    "# Agrego un elemento de tipo flotante en la posición 1\n",
    "\n",
    "enteros[1] = 8.4727\n",
    "enteros\n",
    "\n",
    "\n",
    "# Numpy también nos permite crear arreglos con valores aleatorios del 0 al 1"
   ]
  },
  {
   "cell_type": "code",
   "execution_count": 5,
   "metadata": {
    "execution": {
     "iopub.execute_input": "2020-09-27T18:48:22.859741Z",
     "iopub.status.busy": "2020-09-27T18:48:22.858807Z",
     "iopub.status.idle": "2020-09-27T18:48:22.865370Z",
     "shell.execute_reply": "2020-09-27T18:48:22.866010Z"
    }
   },
   "outputs": [
    {
     "data": {
      "text/plain": [
       "array([[0.46381281, 0.34760138, 0.84878035],\n",
       "       [0.08546414, 0.74445258, 0.53253671]])"
      ]
     },
     "execution_count": 1,
     "metadata": {},
     "output_type": "execute_result"
    }
   ],
   "source": [
    "\n",
    "\n",
    "# Basta con pasarle las dimensiones del arreglo que queremos crear\n",
    "\n",
    "np.random.rand(2, 3)\n",
    "\n",
    "\n",
    "# ## Slicing\n",
    "\n",
    "# De la misma forma que con las listas de python, pueden obtenerse slices de los arreglos de numpy"
   ]
  },
  {
   "cell_type": "code",
   "execution_count": 6,
   "metadata": {
    "execution": {
     "iopub.execute_input": "2020-09-27T18:48:22.870259Z",
     "iopub.status.busy": "2020-09-27T18:48:22.869769Z",
     "iopub.status.idle": "2020-09-27T18:48:22.872103Z",
     "shell.execute_reply": "2020-09-27T18:48:22.872574Z"
    },
    "lines_to_next_cell": 2
   },
   "outputs": [
    {
     "data": {
      "text/plain": [
       "array([1, 8])"
      ]
     },
     "execution_count": 1,
     "metadata": {},
     "output_type": "execute_result"
    }
   ],
   "source": [
    "\n",
    "\n",
    "enteros[:2]"
   ]
  },
  {
   "cell_type": "code",
   "execution_count": 7,
   "metadata": {
    "execution": {
     "iopub.execute_input": "2020-09-27T18:48:22.878252Z",
     "iopub.status.busy": "2020-09-27T18:48:22.877274Z",
     "iopub.status.idle": "2020-09-27T18:48:22.879973Z",
     "shell.execute_reply": "2020-09-27T18:48:22.880637Z"
    }
   },
   "outputs": [
    {
     "name": "stdout",
     "output_type": "stream",
     "text": [
      "Original: \n",
      "[[ 1  2  3  4]\n",
      " [ 5  6  7  8]\n",
      " [ 9 10 11 12]]\n",
      "\n",
      "Recortada: \n",
      "[[1 2 3]\n",
      " [5 6 7]]\n"
     ]
    }
   ],
   "source": [
    "\n",
    "\n",
    "matriz_de_enteros = np.array([[1, 2, 3, 4], [5, 6, 7, 8], [9, 10, 11, 12]])\n",
    "\n",
    "print('Original: ')\n",
    "print(matriz_de_enteros)\n",
    "\n",
    "print()\n",
    "\n",
    "print('Recortada: ')\n",
    "print(matriz_de_enteros[:2, :3])"
   ]
  },
  {
   "cell_type": "markdown",
   "metadata": {},
   "source": [
    "### Copia de arreglos"
   ]
  },
  {
   "cell_type": "code",
   "execution_count": 8,
   "metadata": {
    "execution": {
     "iopub.execute_input": "2020-09-27T18:48:22.884415Z",
     "iopub.status.busy": "2020-09-27T18:48:22.883899Z",
     "iopub.status.idle": "2020-09-27T18:48:22.887890Z",
     "shell.execute_reply": "2020-09-27T18:48:22.887482Z"
    }
   },
   "outputs": [
    {
     "data": {
      "text/plain": [
       "array([1, 2, 3, 4])"
      ]
     },
     "execution_count": 1,
     "metadata": {},
     "output_type": "execute_result"
    }
   ],
   "source": [
    "# Los arreglos no se copian con asignación\n",
    "\n",
    "a = np.array([1, 2, 3, 4])\n",
    "b = a\n",
    "b"
   ]
  },
  {
   "cell_type": "code",
   "execution_count": 9,
   "metadata": {
    "execution": {
     "iopub.execute_input": "2020-09-27T18:48:22.891732Z",
     "iopub.status.busy": "2020-09-27T18:48:22.891245Z",
     "iopub.status.idle": "2020-09-27T18:48:22.893613Z",
     "shell.execute_reply": "2020-09-27T18:48:22.894430Z"
    }
   },
   "outputs": [
    {
     "data": {
      "text/plain": [
       "array([ 1, 20,  3,  4])"
      ]
     },
     "execution_count": 1,
     "metadata": {},
     "output_type": "execute_result"
    }
   ],
   "source": [
    "b[1] = 20\n",
    "b"
   ]
  },
  {
   "cell_type": "code",
   "execution_count": 10,
   "metadata": {
    "execution": {
     "iopub.execute_input": "2020-09-27T18:48:22.898847Z",
     "iopub.status.busy": "2020-09-27T18:48:22.898363Z",
     "iopub.status.idle": "2020-09-27T18:48:22.900706Z",
     "shell.execute_reply": "2020-09-27T18:48:22.901172Z"
    }
   },
   "outputs": [
    {
     "data": {
      "text/plain": [
       "array([ 1, 20,  3,  4])"
      ]
     },
     "execution_count": 1,
     "metadata": {},
     "output_type": "execute_result"
    }
   ],
   "source": [
    "a"
   ]
  },
  {
   "cell_type": "code",
   "execution_count": 11,
   "metadata": {
    "execution": {
     "iopub.execute_input": "2020-09-27T18:48:22.904587Z",
     "iopub.status.busy": "2020-09-27T18:48:22.904115Z",
     "iopub.status.idle": "2020-09-27T18:48:22.908303Z",
     "shell.execute_reply": "2020-09-27T18:48:22.907813Z"
    }
   },
   "outputs": [
    {
     "data": {
      "text/plain": [
       "array([ 1, 20,  3,  4])"
      ]
     },
     "execution_count": 1,
     "metadata": {},
     "output_type": "execute_result"
    }
   ],
   "source": [
    "# Para copiar un arreglo a otra variable debemos usar copy()\n",
    "\n",
    "a = np.array([1, 2, 3, 4])\n",
    "b = a.copy()\n",
    "b[1] = 20\n",
    "b"
   ]
  },
  {
   "cell_type": "code",
   "execution_count": 12,
   "metadata": {
    "execution": {
     "iopub.execute_input": "2020-09-27T18:48:22.912287Z",
     "iopub.status.busy": "2020-09-27T18:48:22.911600Z",
     "iopub.status.idle": "2020-09-27T18:48:22.914507Z",
     "shell.execute_reply": "2020-09-27T18:48:22.914999Z"
    }
   },
   "outputs": [
    {
     "data": {
      "text/plain": [
       "array([1, 2, 3, 4])"
      ]
     },
     "execution_count": 1,
     "metadata": {},
     "output_type": "execute_result"
    }
   ],
   "source": [
    "a"
   ]
  },
  {
   "cell_type": "markdown",
   "metadata": {},
   "source": [
    "### Modificación de dimensiones"
   ]
  },
  {
   "cell_type": "markdown",
   "metadata": {},
   "source": [
    "Existen varias operaciones para cambiar la forma de un arreglo de numpy"
   ]
  },
  {
   "cell_type": "code",
   "execution_count": 13,
   "metadata": {
    "execution": {
     "iopub.execute_input": "2020-09-27T18:48:22.918122Z",
     "iopub.status.busy": "2020-09-27T18:48:22.917658Z",
     "iopub.status.idle": "2020-09-27T18:48:22.920057Z",
     "shell.execute_reply": "2020-09-27T18:48:22.920525Z"
    }
   },
   "outputs": [
    {
     "data": {
      "text/plain": [
       "2"
      ]
     },
     "execution_count": 1,
     "metadata": {},
     "output_type": "execute_result"
    }
   ],
   "source": [
    "# Obtener las dimensiones del arreglo\n",
    "\n",
    "matriz_de_enteros.ndim"
   ]
  },
  {
   "cell_type": "code",
   "execution_count": 14,
   "metadata": {
    "execution": {
     "iopub.execute_input": "2020-09-27T18:48:22.923525Z",
     "iopub.status.busy": "2020-09-27T18:48:22.923061Z",
     "iopub.status.idle": "2020-09-27T18:48:22.926141Z",
     "shell.execute_reply": "2020-09-27T18:48:22.925720Z"
    }
   },
   "outputs": [
    {
     "data": {
      "text/plain": [
       "(3, 4)"
      ]
     },
     "execution_count": 1,
     "metadata": {},
     "output_type": "execute_result"
    }
   ],
   "source": [
    "# Obtener la forma del arreglo\n",
    "\n",
    "matriz_de_enteros.shape"
   ]
  },
  {
   "cell_type": "code",
   "execution_count": 15,
   "metadata": {
    "execution": {
     "iopub.execute_input": "2020-09-27T18:48:22.930405Z",
     "iopub.status.busy": "2020-09-27T18:48:22.929893Z",
     "iopub.status.idle": "2020-09-27T18:48:22.933136Z",
     "shell.execute_reply": "2020-09-27T18:48:22.932541Z"
    }
   },
   "outputs": [
    {
     "data": {
      "text/plain": [
       "array([[ 3,  6],\n",
       "       [ 9, 12]])"
      ]
     },
     "execution_count": 1,
     "metadata": {},
     "output_type": "execute_result"
    }
   ],
   "source": [
    "# Modificar la forma de un arreglo\n",
    "\n",
    "enteros = np.array([3, 6, 9, 12])\n",
    "np.reshape(enteros, (2, 2))"
   ]
  },
  {
   "cell_type": "code",
   "execution_count": 16,
   "metadata": {
    "execution": {
     "iopub.execute_input": "2020-09-27T18:48:22.936823Z",
     "iopub.status.busy": "2020-09-27T18:48:22.936359Z",
     "iopub.status.idle": "2020-09-27T18:48:22.939218Z",
     "shell.execute_reply": "2020-09-27T18:48:22.938730Z"
    }
   },
   "outputs": [
    {
     "data": {
      "text/plain": [
       "array([[1., 1.],\n",
       "       [1., 1.]])"
      ]
     },
     "execution_count": 1,
     "metadata": {},
     "output_type": "execute_result"
    }
   ],
   "source": [
    "# Aplanar un arreglo\n",
    "\n",
    "a = np.ones((2, 2))\n",
    "a"
   ]
  },
  {
   "cell_type": "code",
   "execution_count": 17,
   "metadata": {
    "execution": {
     "iopub.execute_input": "2020-09-27T18:48:22.944408Z",
     "iopub.status.busy": "2020-09-27T18:48:22.943918Z",
     "iopub.status.idle": "2020-09-27T18:48:22.945516Z",
     "shell.execute_reply": "2020-09-27T18:48:22.946195Z"
    }
   },
   "outputs": [
    {
     "data": {
      "text/plain": [
       "array([1., 1., 1., 1.])"
      ]
     },
     "execution_count": 1,
     "metadata": {},
     "output_type": "execute_result"
    }
   ],
   "source": [
    "a.flatten()"
   ]
  },
  {
   "cell_type": "code",
   "execution_count": 18,
   "metadata": {
    "execution": {
     "iopub.execute_input": "2020-09-27T18:48:22.949719Z",
     "iopub.status.busy": "2020-09-27T18:48:22.949214Z",
     "iopub.status.idle": "2020-09-27T18:48:22.951897Z",
     "shell.execute_reply": "2020-09-27T18:48:22.952406Z"
    },
    "lines_to_next_cell": 2
   },
   "outputs": [
    {
     "data": {
      "text/plain": [
       "array([[1., 1.],\n",
       "       [1., 1.]])"
      ]
     },
     "execution_count": 1,
     "metadata": {},
     "output_type": "execute_result"
    }
   ],
   "source": [
    "a"
   ]
  },
  {
   "cell_type": "markdown",
   "metadata": {},
   "source": [
    "### Combinación de arreglos (Stacking)"
   ]
  },
  {
   "cell_type": "code",
   "execution_count": 19,
   "metadata": {
    "execution": {
     "iopub.execute_input": "2020-09-27T18:48:22.955825Z",
     "iopub.status.busy": "2020-09-27T18:48:22.955308Z",
     "iopub.status.idle": "2020-09-27T18:48:22.958371Z",
     "shell.execute_reply": "2020-09-27T18:48:22.958882Z"
    }
   },
   "outputs": [
    {
     "data": {
      "text/plain": [
       "array([0, 1, 2, 3, 4])"
      ]
     },
     "execution_count": 1,
     "metadata": {},
     "output_type": "execute_result"
    }
   ],
   "source": [
    "# Los arreglos se pueden combinar verticalmente (se incrementa la cantidad de filas)\n",
    "\n",
    "a = np.arange(0, 5)\n",
    "a"
   ]
  },
  {
   "cell_type": "code",
   "execution_count": 20,
   "metadata": {
    "execution": {
     "iopub.execute_input": "2020-09-27T18:48:22.962413Z",
     "iopub.status.busy": "2020-09-27T18:48:22.961881Z",
     "iopub.status.idle": "2020-09-27T18:48:22.964819Z",
     "shell.execute_reply": "2020-09-27T18:48:22.964277Z"
    }
   },
   "outputs": [
    {
     "data": {
      "text/plain": [
       "array([5, 6, 7, 8, 9])"
      ]
     },
     "execution_count": 1,
     "metadata": {},
     "output_type": "execute_result"
    }
   ],
   "source": [
    "b = np.arange(5, 10)\n",
    "b"
   ]
  },
  {
   "cell_type": "code",
   "execution_count": 21,
   "metadata": {
    "execution": {
     "iopub.execute_input": "2020-09-27T18:48:22.969267Z",
     "iopub.status.busy": "2020-09-27T18:48:22.968749Z",
     "iopub.status.idle": "2020-09-27T18:48:22.970483Z",
     "shell.execute_reply": "2020-09-27T18:48:22.970996Z"
    }
   },
   "outputs": [
    {
     "data": {
      "text/plain": [
       "array([[0, 1, 2, 3, 4],\n",
       "       [5, 6, 7, 8, 9]])"
      ]
     },
     "execution_count": 1,
     "metadata": {},
     "output_type": "execute_result"
    }
   ],
   "source": [
    "combinados_verticalmente = np.vstack((a, b))\n",
    "combinados_verticalmente"
   ]
  },
  {
   "cell_type": "code",
   "execution_count": 22,
   "metadata": {
    "execution": {
     "iopub.execute_input": "2020-09-27T18:48:22.974905Z",
     "iopub.status.busy": "2020-09-27T18:48:22.974401Z",
     "iopub.status.idle": "2020-09-27T18:48:22.977279Z",
     "shell.execute_reply": "2020-09-27T18:48:22.976772Z"
    }
   },
   "outputs": [
    {
     "data": {
      "text/plain": [
       "array([0, 1, 2, 3, 4, 5, 6, 7, 8, 9])"
      ]
     },
     "execution_count": 1,
     "metadata": {},
     "output_type": "execute_result"
    }
   ],
   "source": [
    "# También se pueden combinar horizontalmente (se incrementa la cantidad de columnas)\n",
    "\n",
    "combinados_horizontalmente = np.hstack((a, b))\n",
    "combinados_horizontalmente"
   ]
  },
  {
   "cell_type": "markdown",
   "metadata": {},
   "source": [
    "### Operaciones matemáticas"
   ]
  },
  {
   "cell_type": "code",
   "execution_count": 23,
   "metadata": {
    "execution": {
     "iopub.execute_input": "2020-09-27T18:48:22.980630Z",
     "iopub.status.busy": "2020-09-27T18:48:22.980133Z",
     "iopub.status.idle": "2020-09-27T18:48:22.983076Z",
     "shell.execute_reply": "2020-09-27T18:48:22.982568Z"
    }
   },
   "outputs": [
    {
     "data": {
      "text/plain": [
       "array([3, 4, 5, 6])"
      ]
     },
     "execution_count": 1,
     "metadata": {},
     "output_type": "execute_result"
    }
   ],
   "source": [
    "a = np.array([1, 2, 3, 4])\n",
    "\n",
    "a + 2"
   ]
  },
  {
   "cell_type": "code",
   "execution_count": 24,
   "metadata": {
    "execution": {
     "iopub.execute_input": "2020-09-27T18:48:22.986379Z",
     "iopub.status.busy": "2020-09-27T18:48:22.985869Z",
     "iopub.status.idle": "2020-09-27T18:48:22.988637Z",
     "shell.execute_reply": "2020-09-27T18:48:22.989353Z"
    }
   },
   "outputs": [
    {
     "data": {
      "text/plain": [
       "array([ 1,  4,  9, 16])"
      ]
     },
     "execution_count": 1,
     "metadata": {},
     "output_type": "execute_result"
    }
   ],
   "source": [
    "a ** 2"
   ]
  },
  {
   "cell_type": "code",
   "execution_count": 25,
   "metadata": {
    "execution": {
     "iopub.execute_input": "2020-09-27T18:48:22.992976Z",
     "iopub.status.busy": "2020-09-27T18:48:22.992492Z",
     "iopub.status.idle": "2020-09-27T18:48:22.995057Z",
     "shell.execute_reply": "2020-09-27T18:48:22.995542Z"
    }
   },
   "outputs": [
    {
     "data": {
      "text/plain": [
       "array([2., 3., 4., 5.])"
      ]
     },
     "execution_count": 1,
     "metadata": {},
     "output_type": "execute_result"
    }
   ],
   "source": [
    "b = np.ones(4)\n",
    "a + b"
   ]
  },
  {
   "cell_type": "markdown",
   "metadata": {},
   "source": [
    "### Estadística"
   ]
  },
  {
   "cell_type": "code",
   "execution_count": 26,
   "metadata": {
    "execution": {
     "iopub.execute_input": "2020-09-27T18:48:22.999009Z",
     "iopub.status.busy": "2020-09-27T18:48:22.998517Z",
     "iopub.status.idle": "2020-09-27T18:48:23.001291Z",
     "shell.execute_reply": "2020-09-27T18:48:23.001696Z"
    }
   },
   "outputs": [
    {
     "data": {
      "text/plain": [
       "1"
      ]
     },
     "execution_count": 1,
     "metadata": {},
     "output_type": "execute_result"
    }
   ],
   "source": [
    "a = np.array([[5, 2, 1, 8], [26, 4, 17, 9]])\n",
    "\n",
    "np.min(a)"
   ]
  },
  {
   "cell_type": "code",
   "execution_count": 27,
   "metadata": {
    "execution": {
     "iopub.execute_input": "2020-09-27T18:48:23.005407Z",
     "iopub.status.busy": "2020-09-27T18:48:23.004528Z",
     "iopub.status.idle": "2020-09-27T18:48:23.007162Z",
     "shell.execute_reply": "2020-09-27T18:48:23.007651Z"
    }
   },
   "outputs": [
    {
     "data": {
      "text/plain": [
       "26"
      ]
     },
     "execution_count": 1,
     "metadata": {},
     "output_type": "execute_result"
    }
   ],
   "source": [
    "np.max(a)"
   ]
  },
  {
   "cell_type": "code",
   "execution_count": 28,
   "metadata": {
    "execution": {
     "iopub.execute_input": "2020-09-27T18:48:23.010836Z",
     "iopub.status.busy": "2020-09-27T18:48:23.010352Z",
     "iopub.status.idle": "2020-09-27T18:48:23.013224Z",
     "shell.execute_reply": "2020-09-27T18:48:23.012803Z"
    }
   },
   "outputs": [
    {
     "data": {
      "text/plain": [
       "72"
      ]
     },
     "execution_count": 1,
     "metadata": {},
     "output_type": "execute_result"
    }
   ],
   "source": [
    "np.sum(a)"
   ]
  },
  {
   "cell_type": "markdown",
   "metadata": {},
   "source": [
    "### Más magia"
   ]
  },
  {
   "cell_type": "code",
   "execution_count": 29,
   "metadata": {
    "execution": {
     "iopub.execute_input": "2020-09-27T18:48:23.016797Z",
     "iopub.status.busy": "2020-09-27T18:48:23.016306Z",
     "iopub.status.idle": "2020-09-27T18:48:23.019952Z",
     "shell.execute_reply": "2020-09-27T18:48:23.020638Z"
    }
   },
   "outputs": [
    {
     "data": {
      "text/plain": [
       "array([[False, False, False,  True],\n",
       "       [ True, False,  True,  True]])"
      ]
     },
     "execution_count": 1,
     "metadata": {},
     "output_type": "execute_result"
    }
   ],
   "source": [
    "a = np.array([[5, 2, 1, 8], [26, 4, 17, 9]])\n",
    "\n",
    "a > 5"
   ]
  },
  {
   "cell_type": "code",
   "execution_count": 30,
   "metadata": {
    "execution": {
     "iopub.execute_input": "2020-09-27T18:48:23.024001Z",
     "iopub.status.busy": "2020-09-27T18:48:23.023520Z",
     "iopub.status.idle": "2020-09-27T18:48:23.026536Z",
     "shell.execute_reply": "2020-09-27T18:48:23.026006Z"
    }
   },
   "outputs": [
    {
     "data": {
      "text/plain": [
       "array([ 8, 26, 17,  9])"
      ]
     },
     "execution_count": 1,
     "metadata": {},
     "output_type": "execute_result"
    }
   ],
   "source": [
    "a[a > 5]"
   ]
  },
  {
   "cell_type": "code",
   "execution_count": null,
   "metadata": {},
   "outputs": [],
   "source": []
  }
 ],
 "metadata": {
  "jupytext": {
   "cell_metadata_filter": "-all",
   "encoding": "# coding: utf-8",
   "executable": "/usr/bin/env python"
  },
  "kernelspec": {
   "display_name": "Python 3",
   "language": "python",
   "name": "python3"
  },
  "language_info": {
   "codemirror_mode": {
    "name": "ipython",
    "version": 3
   },
   "file_extension": ".py",
   "mimetype": "text/x-python",
   "name": "python",
   "nbconvert_exporter": "python",
   "pygments_lexer": "ipython3",
   "version": "3.7.9"
  }
 },
 "nbformat": 4,
 "nbformat_minor": 4
}
