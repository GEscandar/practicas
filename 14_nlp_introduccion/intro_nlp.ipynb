{
 "cells": [
  {
   "cell_type": "markdown",
<<<<<<< HEAD
   "id": "367c71ee",
=======
   "id": "9fb00f8f",
>>>>>>> d670ebb19cfa4079e6548492fc4a6771210837ee
   "metadata": {},
   "source": [
    "# Introducción a NLP\n",
    "\n",
    "En este notebook vamos a dar los primeros pasos en el procesamiento de lenguaje natural. Para eso, vamos a utilizar un [dataset](https://github.com/jbesomi/texthero/tree/master/dataset/Superheroes%20NLP%20Dataset) de superhéroes para intentar predecir si un superhéroe es bueno o malo en base a la descripción de su historia, utilizando Bag of Words y TF-IDF."
   ]
  },
  {
   "cell_type": "code",
   "execution_count": 1,
<<<<<<< HEAD
   "id": "0cc98ef3",
   "metadata": {
    "execution": {
     "iopub.execute_input": "2021-09-16T21:52:03.922079Z",
     "iopub.status.busy": "2021-09-16T21:52:03.921130Z",
     "iopub.status.idle": "2021-09-16T21:52:06.120103Z",
     "shell.execute_reply": "2021-09-16T21:52:06.119078Z"
=======
   "id": "51260784",
   "metadata": {
    "execution": {
     "iopub.execute_input": "2021-11-03T03:02:35.391929Z",
     "iopub.status.busy": "2021-11-03T03:02:35.391208Z",
     "iopub.status.idle": "2021-11-03T03:02:37.465091Z",
     "shell.execute_reply": "2021-11-03T03:02:37.464325Z"
>>>>>>> d670ebb19cfa4079e6548492fc4a6771210837ee
    }
   },
   "outputs": [
    {
     "name": "stderr",
     "output_type": "stream",
     "text": [
      "[nltk_data] Downloading package stopwords to /home/runner/nltk_data...\n",
      "[nltk_data]   Unzipping corpora/stopwords.zip.\n",
      "[nltk_data] Downloading package wordnet to /home/runner/nltk_data...\n",
      "[nltk_data]   Unzipping corpora/wordnet.zip.\n"
     ]
    },
    {
     "name": "stderr",
     "output_type": "stream",
     "text": [
      "[nltk_data] Downloading package punkt to /home/runner/nltk_data...\n",
      "[nltk_data]   Unzipping tokenizers/punkt.zip.\n"
     ]
    },
    {
     "data": {
      "text/plain": [
       "True"
      ]
     },
     "execution_count": 1,
     "metadata": {},
     "output_type": "execute_result"
    }
   ],
   "source": [
    "import matplotlib.pyplot as plt\n",
    "import nltk\n",
    "import numpy as np\n",
    "import pandas as pd\n",
    "import seaborn as sns\n",
    "from nltk import word_tokenize\n",
    "from nltk.corpus import stopwords\n",
    "from nltk.stem import WordNetLemmatizer\n",
    "from nltk.stem.snowball import SnowballStemmer\n",
    "from nltk.tokenize import (\n",
    "    RegexpTokenizer,\n",
    "    TreebankWordTokenizer,\n",
    "    WhitespaceTokenizer,\n",
    "    WordPunctTokenizer,\n",
    ")\n",
    "from sklearn.feature_extraction.text import (\n",
    "    CountVectorizer,\n",
    "    TfidfVectorizer,\n",
    "    TfidfTransformer,\n",
    ")\n",
    "from sklearn.metrics import accuracy_score, confusion_matrix, roc_auc_score\n",
    "from sklearn.model_selection import KFold\n",
    "from sklearn.naive_bayes import MultinomialNB\n",
    "from sklearn.preprocessing import LabelEncoder\n",
    "from itertools import chain\n",
    "\n",
    "pd.options.display.max_columns = None\n",
    "nltk.download('stopwords')\n",
    "nltk.download('wordnet')\n",
    "nltk.download('punkt')"
   ]
  },
  {
   "cell_type": "code",
   "execution_count": 2,
<<<<<<< HEAD
   "id": "091b41f0",
   "metadata": {
    "execution": {
     "iopub.execute_input": "2021-09-16T21:52:06.125837Z",
     "iopub.status.busy": "2021-09-16T21:52:06.125041Z",
     "iopub.status.idle": "2021-09-16T21:52:06.775992Z",
     "shell.execute_reply": "2021-09-16T21:52:06.775490Z"
=======
   "id": "7123cab7",
   "metadata": {
    "execution": {
     "iopub.execute_input": "2021-11-03T03:02:37.470433Z",
     "iopub.status.busy": "2021-11-03T03:02:37.469424Z",
     "iopub.status.idle": "2021-11-03T03:02:37.856601Z",
     "shell.execute_reply": "2021-11-03T03:02:37.857050Z"
>>>>>>> d670ebb19cfa4079e6548492fc4a6771210837ee
    }
   },
   "outputs": [
    {
     "data": {
      "text/html": [
       "<div>\n",
       "<style scoped>\n",
       "    .dataframe tbody tr th:only-of-type {\n",
       "        vertical-align: middle;\n",
       "    }\n",
       "\n",
       "    .dataframe tbody tr th {\n",
       "        vertical-align: top;\n",
       "    }\n",
       "\n",
       "    .dataframe thead th {\n",
       "        text-align: right;\n",
       "    }\n",
       "</style>\n",
       "<table border=\"1\" class=\"dataframe\">\n",
       "  <thead>\n",
       "    <tr style=\"text-align: right;\">\n",
       "      <th></th>\n",
       "      <th>name</th>\n",
       "      <th>real_name</th>\n",
       "      <th>full_name</th>\n",
       "      <th>overall_score</th>\n",
       "      <th>history_text</th>\n",
       "      <th>powers_text</th>\n",
       "      <th>intelligence_score</th>\n",
       "      <th>strength_score</th>\n",
       "      <th>speed_score</th>\n",
       "      <th>durability_score</th>\n",
       "      <th>power_score</th>\n",
       "      <th>combat_score</th>\n",
       "      <th>superpowers</th>\n",
       "      <th>alter_egos</th>\n",
       "      <th>aliases</th>\n",
       "      <th>place_of_birth</th>\n",
       "      <th>first_appearance</th>\n",
       "      <th>creator</th>\n",
       "      <th>alignment</th>\n",
       "      <th>occupation</th>\n",
       "      <th>base</th>\n",
       "      <th>teams</th>\n",
       "      <th>relatives</th>\n",
       "      <th>gender</th>\n",
       "      <th>type_race</th>\n",
       "      <th>height</th>\n",
       "      <th>weight</th>\n",
       "      <th>eye_color</th>\n",
       "      <th>hair_color</th>\n",
       "      <th>skin_color</th>\n",
       "      <th>img</th>\n",
       "      <th>has_electrokinesis</th>\n",
       "      <th>has_energy_constructs</th>\n",
       "      <th>has_mind_control_resistance</th>\n",
       "      <th>has_matter_manipulation</th>\n",
       "      <th>has_telepathy_resistance</th>\n",
       "      <th>has_mind_control</th>\n",
       "      <th>has_enhanced_hearing</th>\n",
       "      <th>has_dimensional_travel</th>\n",
       "      <th>has_element_control</th>\n",
       "      <th>has_size_changing</th>\n",
       "      <th>has_fire_resistance</th>\n",
       "      <th>has_fire_control</th>\n",
       "      <th>has_dexterity</th>\n",
       "      <th>has_reality_warping</th>\n",
       "      <th>has_illusions</th>\n",
       "      <th>has_energy_beams</th>\n",
       "      <th>has_peak_human_condition</th>\n",
       "      <th>has_shapeshifting</th>\n",
       "      <th>has_heat_resistance</th>\n",
       "      <th>has_jump</th>\n",
       "      <th>has_self-sustenance</th>\n",
       "      <th>has_energy_absorption</th>\n",
       "      <th>has_cold_resistance</th>\n",
       "      <th>has_magic</th>\n",
       "      <th>has_telekinesis</th>\n",
       "      <th>has_toxin_and_disease_resistance</th>\n",
       "      <th>has_telepathy</th>\n",
       "      <th>has_regeneration</th>\n",
       "      <th>has_immortality</th>\n",
       "      <th>has_teleportation</th>\n",
       "      <th>has_force_fields</th>\n",
       "      <th>has_energy_manipulation</th>\n",
       "      <th>has_endurance</th>\n",
       "      <th>has_longevity</th>\n",
       "      <th>has_weapon-based_powers</th>\n",
       "      <th>has_energy_blasts</th>\n",
       "      <th>has_enhanced_senses</th>\n",
       "      <th>has_invulnerability</th>\n",
       "      <th>has_stealth</th>\n",
       "      <th>has_marksmanship</th>\n",
       "      <th>has_flight</th>\n",
       "      <th>has_accelerated_healing</th>\n",
       "      <th>has_weapons_master</th>\n",
       "      <th>has_intelligence</th>\n",
       "      <th>has_reflexes</th>\n",
       "      <th>has_super_speed</th>\n",
       "      <th>has_durability</th>\n",
       "      <th>has_stamina</th>\n",
       "      <th>has_agility</th>\n",
       "      <th>has_super_strength</th>\n",
       "    </tr>\n",
       "  </thead>\n",
       "  <tbody>\n",
       "    <tr>\n",
       "      <th>0</th>\n",
       "      <td>3-D Man</td>\n",
       "      <td>Delroy Garrett, Jr.</td>\n",
       "      <td>Delroy Garrett, Jr.</td>\n",
       "      <td>6</td>\n",
       "      <td>Delroy Garrett, Jr. grew up to become a track star and competed in the Olympic Games. After he t...</td>\n",
       "      <td>NaN</td>\n",
       "      <td>85</td>\n",
       "      <td>30</td>\n",
       "      <td>60</td>\n",
       "      <td>60</td>\n",
       "      <td>40</td>\n",
       "      <td>70</td>\n",
       "      <td>['Super Speed', 'Super Strength']</td>\n",
       "      <td>[]</td>\n",
       "      <td>['']</td>\n",
       "      <td>NaN</td>\n",
       "      <td>NaN</td>\n",
       "      <td>Marvel Comics</td>\n",
       "      <td>Good</td>\n",
       "      <td>NaN</td>\n",
       "      <td>NaN</td>\n",
       "      <td>['Annihilators', 'Asgardians', 'Avengers', 'New Avengers']</td>\n",
       "      <td>NaN</td>\n",
       "      <td>Male</td>\n",
       "      <td>Human</td>\n",
       "      <td>-</td>\n",
       "      <td>-</td>\n",
       "      <td>NaN</td>\n",
       "      <td>NaN</td>\n",
       "      <td>NaN</td>\n",
       "      <td>/pictures2/portraits/11/050/10038.jpg?v=1560969486</td>\n",
       "      <td>0.0</td>\n",
       "      <td>0.0</td>\n",
       "      <td>0.0</td>\n",
       "      <td>0.0</td>\n",
       "      <td>0.0</td>\n",
       "      <td>0.0</td>\n",
       "      <td>0.0</td>\n",
       "      <td>0.0</td>\n",
       "      <td>0.0</td>\n",
       "      <td>0.0</td>\n",
       "      <td>0.0</td>\n",
       "      <td>0.0</td>\n",
       "      <td>0.0</td>\n",
       "      <td>0.0</td>\n",
       "      <td>0.0</td>\n",
       "      <td>0.0</td>\n",
       "      <td>0.0</td>\n",
       "      <td>0.0</td>\n",
       "      <td>0.0</td>\n",
       "      <td>0.0</td>\n",
       "      <td>0.0</td>\n",
       "      <td>0.0</td>\n",
       "      <td>0.0</td>\n",
       "      <td>0.0</td>\n",
       "      <td>0.0</td>\n",
       "      <td>0.0</td>\n",
       "      <td>0.0</td>\n",
       "      <td>0.0</td>\n",
       "      <td>0.0</td>\n",
       "      <td>0.0</td>\n",
       "      <td>0.0</td>\n",
       "      <td>0.0</td>\n",
       "      <td>0.0</td>\n",
       "      <td>0.0</td>\n",
       "      <td>0.0</td>\n",
       "      <td>0.0</td>\n",
       "      <td>0.0</td>\n",
       "      <td>0.0</td>\n",
       "      <td>0.0</td>\n",
       "      <td>0.0</td>\n",
       "      <td>0.0</td>\n",
       "      <td>0.0</td>\n",
       "      <td>0.0</td>\n",
       "      <td>0.0</td>\n",
       "      <td>0.0</td>\n",
       "      <td>1.0</td>\n",
       "      <td>0.0</td>\n",
       "      <td>0.0</td>\n",
       "      <td>0.0</td>\n",
       "      <td>1.0</td>\n",
       "    </tr>\n",
       "    <tr>\n",
       "      <th>1</th>\n",
       "      <td>514A (Gotham)</td>\n",
       "      <td>Bruce Wayne</td>\n",
       "      <td>NaN</td>\n",
       "      <td>10</td>\n",
       "      <td>He was one of the many prisoners of Indian Hill to be transferred to another facility upstate on...</td>\n",
       "      <td>NaN</td>\n",
       "      <td>100</td>\n",
       "      <td>20</td>\n",
       "      <td>30</td>\n",
       "      <td>50</td>\n",
       "      <td>35</td>\n",
       "      <td>100</td>\n",
       "      <td>['Durability', 'Reflexes', 'Super Strength']</td>\n",
       "      <td>['Batgod', 'Batman', 'Batman (1966)', 'Batman (Arkham)', 'Batman (Burtonverse)', 'Batman (Dark K...</td>\n",
       "      <td>['Subject 514A', 'Bruce Wayne', 'Bruce 2']</td>\n",
       "      <td>NaN</td>\n",
       "      <td>NaN</td>\n",
       "      <td>DC Comics</td>\n",
       "      <td>NaN</td>\n",
       "      <td>NaN</td>\n",
       "      <td>NaN</td>\n",
       "      <td>[]</td>\n",
       "      <td>Bruce Wayne (genetic template)</td>\n",
       "      <td>NaN</td>\n",
       "      <td>NaN</td>\n",
       "      <td>-</td>\n",
       "      <td>-</td>\n",
       "      <td>NaN</td>\n",
       "      <td>NaN</td>\n",
       "      <td>NaN</td>\n",
       "      <td>NaN</td>\n",
       "      <td>0.0</td>\n",
       "      <td>0.0</td>\n",
       "      <td>0.0</td>\n",
       "      <td>0.0</td>\n",
       "      <td>0.0</td>\n",
       "      <td>0.0</td>\n",
       "      <td>0.0</td>\n",
       "      <td>0.0</td>\n",
       "      <td>0.0</td>\n",
       "      <td>0.0</td>\n",
       "      <td>0.0</td>\n",
       "      <td>0.0</td>\n",
       "      <td>0.0</td>\n",
       "      <td>0.0</td>\n",
       "      <td>0.0</td>\n",
       "      <td>0.0</td>\n",
       "      <td>0.0</td>\n",
       "      <td>0.0</td>\n",
       "      <td>0.0</td>\n",
       "      <td>0.0</td>\n",
       "      <td>0.0</td>\n",
       "      <td>0.0</td>\n",
       "      <td>0.0</td>\n",
       "      <td>0.0</td>\n",
       "      <td>0.0</td>\n",
       "      <td>0.0</td>\n",
       "      <td>0.0</td>\n",
       "      <td>0.0</td>\n",
       "      <td>0.0</td>\n",
       "      <td>0.0</td>\n",
       "      <td>0.0</td>\n",
       "      <td>0.0</td>\n",
       "      <td>0.0</td>\n",
       "      <td>0.0</td>\n",
       "      <td>0.0</td>\n",
       "      <td>0.0</td>\n",
       "      <td>0.0</td>\n",
       "      <td>0.0</td>\n",
       "      <td>0.0</td>\n",
       "      <td>0.0</td>\n",
       "      <td>0.0</td>\n",
       "      <td>0.0</td>\n",
       "      <td>0.0</td>\n",
       "      <td>0.0</td>\n",
       "      <td>1.0</td>\n",
       "      <td>0.0</td>\n",
       "      <td>1.0</td>\n",
       "      <td>0.0</td>\n",
       "      <td>0.0</td>\n",
       "      <td>1.0</td>\n",
       "    </tr>\n",
       "    <tr>\n",
       "      <th>2</th>\n",
       "      <td>A-Bomb</td>\n",
       "      <td>Richard Milhouse Jones</td>\n",
       "      <td>Richard Milhouse Jones</td>\n",
       "      <td>20</td>\n",
       "      <td>Richard \"Rick\" Jones was orphaned at a young age, and after being expelled from several orphana...</td>\n",
       "      <td>On rare occasions, and through unusual circumstances, Jones has been able to tap into a myster...</td>\n",
       "      <td>80</td>\n",
       "      <td>100</td>\n",
       "      <td>80</td>\n",
       "      <td>100</td>\n",
       "      <td>100</td>\n",
       "      <td>80</td>\n",
       "      <td>['Accelerated Healing', 'Agility', 'Berserk Mode', 'Bloodlust', 'Camouflage', 'Cloaking', 'Cold ...</td>\n",
       "      <td>[]</td>\n",
       "      <td>['Rick Jones']</td>\n",
       "      <td>Scarsdale, Arizona</td>\n",
       "      <td>Hulk Vol 2 #2 (April, 2008) (as A-Bomb)</td>\n",
       "      <td>Marvel Comics</td>\n",
       "      <td>Good</td>\n",
       "      <td>Musician, adventurer, author; formerly talk show host</td>\n",
       "      <td>NaN</td>\n",
       "      <td>['Teen Brigade', 'Ultimate Fantastic Four', 'U-Men', 'Gods', 'Thor Corps', 'Avengers', 'Loners',...</td>\n",
       "      <td>Marlo Chandler-Jones (wife); Polly (aunt); Mrs. Chandler (mother-in-law); Keith Chandler, Ray Ch...</td>\n",
       "      <td>Male</td>\n",
       "      <td>Human</td>\n",
       "      <td>6'8 • 203 cm</td>\n",
       "      <td>980 lb • 441 kg</td>\n",
       "      <td>Yellow</td>\n",
       "      <td>No Hair</td>\n",
       "      <td>NaN</td>\n",
       "      <td>/pictures2/portraits/10/050/10060.jpg?v=1582334305</td>\n",
       "      <td>0.0</td>\n",
       "      <td>0.0</td>\n",
       "      <td>0.0</td>\n",
       "      <td>0.0</td>\n",
       "      <td>1.0</td>\n",
       "      <td>0.0</td>\n",
       "      <td>0.0</td>\n",
       "      <td>0.0</td>\n",
       "      <td>0.0</td>\n",
       "      <td>1.0</td>\n",
       "      <td>1.0</td>\n",
       "      <td>0.0</td>\n",
       "      <td>0.0</td>\n",
       "      <td>0.0</td>\n",
       "      <td>0.0</td>\n",
       "      <td>0.0</td>\n",
       "      <td>0.0</td>\n",
       "      <td>1.0</td>\n",
       "      <td>1.0</td>\n",
       "      <td>1.0</td>\n",
       "      <td>1.0</td>\n",
       "      <td>0.0</td>\n",
       "      <td>1.0</td>\n",
       "      <td>0.0</td>\n",
       "      <td>0.0</td>\n",
       "      <td>1.0</td>\n",
       "      <td>0.0</td>\n",
       "      <td>1.0</td>\n",
       "      <td>0.0</td>\n",
       "      <td>0.0</td>\n",
       "      <td>0.0</td>\n",
       "      <td>0.0</td>\n",
       "      <td>1.0</td>\n",
       "      <td>1.0</td>\n",
       "      <td>0.0</td>\n",
       "      <td>0.0</td>\n",
       "      <td>1.0</td>\n",
       "      <td>1.0</td>\n",
       "      <td>1.0</td>\n",
       "      <td>0.0</td>\n",
       "      <td>0.0</td>\n",
       "      <td>1.0</td>\n",
       "      <td>0.0</td>\n",
       "      <td>0.0</td>\n",
       "      <td>1.0</td>\n",
       "      <td>1.0</td>\n",
       "      <td>1.0</td>\n",
       "      <td>1.0</td>\n",
       "      <td>1.0</td>\n",
       "      <td>1.0</td>\n",
       "    </tr>\n",
       "    <tr>\n",
       "      <th>3</th>\n",
       "      <td>Aa</td>\n",
       "      <td>Aa</td>\n",
       "      <td>NaN</td>\n",
       "      <td>12</td>\n",
       "      <td>Aa is one of the more passive members of the Pumice People race of Stoneworld. When Hal Jordan a...</td>\n",
       "      <td>NaN</td>\n",
       "      <td>80</td>\n",
       "      <td>50</td>\n",
       "      <td>55</td>\n",
       "      <td>45</td>\n",
       "      <td>100</td>\n",
       "      <td>55</td>\n",
       "      <td>['Energy Absorption', 'Energy Armor', 'Energy Beams', 'Energy Blasts', 'Energy Constructs', 'Ene...</td>\n",
       "      <td>[]</td>\n",
       "      <td>['']</td>\n",
       "      <td>Stoneworld</td>\n",
       "      <td>Green Lantern Vol 3 #21</td>\n",
       "      <td>DC Comics</td>\n",
       "      <td>Good</td>\n",
       "      <td>NaN</td>\n",
       "      <td>NaN</td>\n",
       "      <td>['Blue Lantern Corps', 'Green Lantern Corps', 'Justice Legion Alpha', 'Suicide Squad', 'Birds of...</td>\n",
       "      <td>NaN</td>\n",
       "      <td>Male</td>\n",
       "      <td>Human</td>\n",
       "      <td>-</td>\n",
       "      <td>-</td>\n",
       "      <td>NaN</td>\n",
       "      <td>NaN</td>\n",
       "      <td>NaN</td>\n",
       "      <td>/pictures2/portraits/10/050/1410.jpg?v=1581168103</td>\n",
       "      <td>0.0</td>\n",
       "      <td>1.0</td>\n",
       "      <td>0.0</td>\n",
       "      <td>0.0</td>\n",
       "      <td>0.0</td>\n",
       "      <td>0.0</td>\n",
       "      <td>0.0</td>\n",
       "      <td>0.0</td>\n",
       "      <td>0.0</td>\n",
       "      <td>0.0</td>\n",
       "      <td>0.0</td>\n",
       "      <td>0.0</td>\n",
       "      <td>0.0</td>\n",
       "      <td>0.0</td>\n",
       "      <td>0.0</td>\n",
       "      <td>1.0</td>\n",
       "      <td>0.0</td>\n",
       "      <td>0.0</td>\n",
       "      <td>0.0</td>\n",
       "      <td>0.0</td>\n",
       "      <td>0.0</td>\n",
       "      <td>1.0</td>\n",
       "      <td>0.0</td>\n",
       "      <td>0.0</td>\n",
       "      <td>0.0</td>\n",
       "      <td>0.0</td>\n",
       "      <td>0.0</td>\n",
       "      <td>0.0</td>\n",
       "      <td>0.0</td>\n",
       "      <td>0.0</td>\n",
       "      <td>1.0</td>\n",
       "      <td>1.0</td>\n",
       "      <td>0.0</td>\n",
       "      <td>0.0</td>\n",
       "      <td>1.0</td>\n",
       "      <td>1.0</td>\n",
       "      <td>0.0</td>\n",
       "      <td>0.0</td>\n",
       "      <td>0.0</td>\n",
       "      <td>0.0</td>\n",
       "      <td>0.0</td>\n",
       "      <td>0.0</td>\n",
       "      <td>0.0</td>\n",
       "      <td>0.0</td>\n",
       "      <td>0.0</td>\n",
       "      <td>0.0</td>\n",
       "      <td>0.0</td>\n",
       "      <td>0.0</td>\n",
       "      <td>0.0</td>\n",
       "      <td>0.0</td>\n",
       "    </tr>\n",
       "    <tr>\n",
       "      <th>4</th>\n",
       "      <td>Aaron Cash</td>\n",
       "      <td>Aaron Cash</td>\n",
       "      <td>Aaron Cash</td>\n",
       "      <td>5</td>\n",
       "      <td>Aaron Cash is the head of security at Arkham Asylum. He has a hook for a hand after his real han...</td>\n",
       "      <td>NaN</td>\n",
       "      <td>80</td>\n",
       "      <td>10</td>\n",
       "      <td>25</td>\n",
       "      <td>40</td>\n",
       "      <td>30</td>\n",
       "      <td>50</td>\n",
       "      <td>['Weapon-based Powers', 'Weapons Master']</td>\n",
       "      <td>[]</td>\n",
       "      <td>['']</td>\n",
       "      <td>Gotham City</td>\n",
       "      <td>NaN</td>\n",
       "      <td>DC Comics</td>\n",
       "      <td>Good</td>\n",
       "      <td>NaN</td>\n",
       "      <td>NaN</td>\n",
       "      <td>[]</td>\n",
       "      <td>NaN</td>\n",
       "      <td>Male</td>\n",
       "      <td>Human</td>\n",
       "      <td>-</td>\n",
       "      <td>-</td>\n",
       "      <td>NaN</td>\n",
       "      <td>NaN</td>\n",
       "      <td>NaN</td>\n",
       "      <td>/pictures2/portraits/11/050/11650.jpg?v=1561735832</td>\n",
       "      <td>0.0</td>\n",
       "      <td>0.0</td>\n",
       "      <td>0.0</td>\n",
       "      <td>0.0</td>\n",
       "      <td>0.0</td>\n",
       "      <td>0.0</td>\n",
       "      <td>0.0</td>\n",
       "      <td>0.0</td>\n",
       "      <td>0.0</td>\n",
       "      <td>0.0</td>\n",
       "      <td>0.0</td>\n",
       "      <td>0.0</td>\n",
       "      <td>0.0</td>\n",
       "      <td>0.0</td>\n",
       "      <td>0.0</td>\n",
       "      <td>0.0</td>\n",
       "      <td>0.0</td>\n",
       "      <td>0.0</td>\n",
       "      <td>0.0</td>\n",
       "      <td>0.0</td>\n",
       "      <td>0.0</td>\n",
       "      <td>0.0</td>\n",
       "      <td>0.0</td>\n",
       "      <td>0.0</td>\n",
       "      <td>0.0</td>\n",
       "      <td>0.0</td>\n",
       "      <td>0.0</td>\n",
       "      <td>0.0</td>\n",
       "      <td>0.0</td>\n",
       "      <td>0.0</td>\n",
       "      <td>0.0</td>\n",
       "      <td>0.0</td>\n",
       "      <td>0.0</td>\n",
       "      <td>0.0</td>\n",
       "      <td>1.0</td>\n",
       "      <td>0.0</td>\n",
       "      <td>0.0</td>\n",
       "      <td>0.0</td>\n",
       "      <td>0.0</td>\n",
       "      <td>0.0</td>\n",
       "      <td>0.0</td>\n",
       "      <td>0.0</td>\n",
       "      <td>1.0</td>\n",
       "      <td>0.0</td>\n",
       "      <td>0.0</td>\n",
       "      <td>0.0</td>\n",
       "      <td>0.0</td>\n",
       "      <td>0.0</td>\n",
       "      <td>0.0</td>\n",
       "      <td>0.0</td>\n",
       "    </tr>\n",
       "  </tbody>\n",
       "</table>\n",
       "</div>"
      ],
      "text/plain": [
       "            name               real_name               full_name  \\\n",
       "0        3-D Man     Delroy Garrett, Jr.     Delroy Garrett, Jr.   \n",
       "1  514A (Gotham)             Bruce Wayne                     NaN   \n",
       "2         A-Bomb  Richard Milhouse Jones  Richard Milhouse Jones   \n",
       "3             Aa                      Aa                     NaN   \n",
       "4     Aaron Cash              Aaron Cash              Aaron Cash   \n",
       "\n",
       "  overall_score  \\\n",
       "0             6   \n",
       "1            10   \n",
       "2            20   \n",
       "3            12   \n",
       "4             5   \n",
       "\n",
       "                                                                                          history_text  \\\n",
       "0  Delroy Garrett, Jr. grew up to become a track star and competed in the Olympic Games. After he t...   \n",
       "1  He was one of the many prisoners of Indian Hill to be transferred to another facility upstate on...   \n",
       "2   Richard \"Rick\" Jones was orphaned at a young age, and after being expelled from several orphana...   \n",
       "3  Aa is one of the more passive members of the Pumice People race of Stoneworld. When Hal Jordan a...   \n",
       "4  Aaron Cash is the head of security at Arkham Asylum. He has a hook for a hand after his real han...   \n",
       "\n",
       "                                                                                           powers_text  \\\n",
       "0                                                                                                  NaN   \n",
       "1                                                                                                  NaN   \n",
       "2    On rare occasions, and through unusual circumstances, Jones has been able to tap into a myster...   \n",
       "3                                                                                                  NaN   \n",
       "4                                                                                                  NaN   \n",
       "\n",
       "   intelligence_score  strength_score  speed_score  durability_score  \\\n",
       "0                  85              30           60                60   \n",
       "1                 100              20           30                50   \n",
       "2                  80             100           80               100   \n",
       "3                  80              50           55                45   \n",
       "4                  80              10           25                40   \n",
       "\n",
       "   power_score  combat_score  \\\n",
       "0           40            70   \n",
       "1           35           100   \n",
       "2          100            80   \n",
       "3          100            55   \n",
       "4           30            50   \n",
       "\n",
       "                                                                                           superpowers  \\\n",
       "0                                                                    ['Super Speed', 'Super Strength']   \n",
       "1                                                         ['Durability', 'Reflexes', 'Super Strength']   \n",
       "2  ['Accelerated Healing', 'Agility', 'Berserk Mode', 'Bloodlust', 'Camouflage', 'Cloaking', 'Cold ...   \n",
       "3  ['Energy Absorption', 'Energy Armor', 'Energy Beams', 'Energy Blasts', 'Energy Constructs', 'Ene...   \n",
       "4                                                            ['Weapon-based Powers', 'Weapons Master']   \n",
       "\n",
       "                                                                                            alter_egos  \\\n",
       "0                                                                                                   []   \n",
       "1  ['Batgod', 'Batman', 'Batman (1966)', 'Batman (Arkham)', 'Batman (Burtonverse)', 'Batman (Dark K...   \n",
       "2                                                                                                   []   \n",
       "3                                                                                                   []   \n",
       "4                                                                                                   []   \n",
       "\n",
       "                                      aliases      place_of_birth  \\\n",
       "0                                        ['']                 NaN   \n",
       "1  ['Subject 514A', 'Bruce Wayne', 'Bruce 2']                 NaN   \n",
       "2                              ['Rick Jones']  Scarsdale, Arizona   \n",
       "3                                        ['']          Stoneworld   \n",
       "4                                        ['']         Gotham City   \n",
       "\n",
       "                          first_appearance        creator alignment  \\\n",
       "0                                      NaN  Marvel Comics      Good   \n",
       "1                                      NaN      DC Comics       NaN   \n",
       "2  Hulk Vol 2 #2 (April, 2008) (as A-Bomb)  Marvel Comics      Good   \n",
       "3                  Green Lantern Vol 3 #21      DC Comics      Good   \n",
       "4                                      NaN      DC Comics      Good   \n",
       "\n",
       "                                              occupation base  \\\n",
       "0                                                    NaN  NaN   \n",
       "1                                                    NaN  NaN   \n",
       "2  Musician, adventurer, author; formerly talk show host  NaN   \n",
       "3                                                    NaN  NaN   \n",
       "4                                                    NaN  NaN   \n",
       "\n",
       "                                                                                                 teams  \\\n",
       "0                                           ['Annihilators', 'Asgardians', 'Avengers', 'New Avengers']   \n",
       "1                                                                                                   []   \n",
       "2  ['Teen Brigade', 'Ultimate Fantastic Four', 'U-Men', 'Gods', 'Thor Corps', 'Avengers', 'Loners',...   \n",
       "3  ['Blue Lantern Corps', 'Green Lantern Corps', 'Justice Legion Alpha', 'Suicide Squad', 'Birds of...   \n",
       "4                                                                                                   []   \n",
       "\n",
       "                                                                                             relatives  \\\n",
       "0                                                                                                  NaN   \n",
       "1                                                                       Bruce Wayne (genetic template)   \n",
       "2  Marlo Chandler-Jones (wife); Polly (aunt); Mrs. Chandler (mother-in-law); Keith Chandler, Ray Ch...   \n",
       "3                                                                                                  NaN   \n",
       "4                                                                                                  NaN   \n",
       "\n",
       "  gender type_race        height           weight eye_color hair_color  \\\n",
       "0   Male     Human             -                -       NaN        NaN   \n",
       "1    NaN       NaN             -                -       NaN        NaN   \n",
       "2   Male     Human  6'8 • 203 cm  980 lb • 441 kg    Yellow    No Hair   \n",
       "3   Male     Human             -                -       NaN        NaN   \n",
       "4   Male     Human             -                -       NaN        NaN   \n",
       "\n",
       "  skin_color                                                 img  \\\n",
       "0        NaN  /pictures2/portraits/11/050/10038.jpg?v=1560969486   \n",
       "1        NaN                                                 NaN   \n",
       "2        NaN  /pictures2/portraits/10/050/10060.jpg?v=1582334305   \n",
       "3        NaN   /pictures2/portraits/10/050/1410.jpg?v=1581168103   \n",
       "4        NaN  /pictures2/portraits/11/050/11650.jpg?v=1561735832   \n",
       "\n",
       "   has_electrokinesis  has_energy_constructs  has_mind_control_resistance  \\\n",
       "0                 0.0                    0.0                          0.0   \n",
       "1                 0.0                    0.0                          0.0   \n",
       "2                 0.0                    0.0                          0.0   \n",
       "3                 0.0                    1.0                          0.0   \n",
       "4                 0.0                    0.0                          0.0   \n",
       "\n",
       "   has_matter_manipulation  has_telepathy_resistance  has_mind_control  \\\n",
       "0                      0.0                       0.0               0.0   \n",
       "1                      0.0                       0.0               0.0   \n",
       "2                      0.0                       1.0               0.0   \n",
       "3                      0.0                       0.0               0.0   \n",
       "4                      0.0                       0.0               0.0   \n",
       "\n",
       "   has_enhanced_hearing  has_dimensional_travel  has_element_control  \\\n",
       "0                   0.0                     0.0                  0.0   \n",
       "1                   0.0                     0.0                  0.0   \n",
       "2                   0.0                     0.0                  0.0   \n",
       "3                   0.0                     0.0                  0.0   \n",
       "4                   0.0                     0.0                  0.0   \n",
       "\n",
       "   has_size_changing  has_fire_resistance  has_fire_control  has_dexterity  \\\n",
       "0                0.0                  0.0               0.0            0.0   \n",
       "1                0.0                  0.0               0.0            0.0   \n",
       "2                1.0                  1.0               0.0            0.0   \n",
       "3                0.0                  0.0               0.0            0.0   \n",
       "4                0.0                  0.0               0.0            0.0   \n",
       "\n",
       "   has_reality_warping  has_illusions  has_energy_beams  \\\n",
       "0                  0.0            0.0               0.0   \n",
       "1                  0.0            0.0               0.0   \n",
       "2                  0.0            0.0               0.0   \n",
       "3                  0.0            0.0               1.0   \n",
       "4                  0.0            0.0               0.0   \n",
       "\n",
       "   has_peak_human_condition  has_shapeshifting  has_heat_resistance  has_jump  \\\n",
       "0                       0.0                0.0                  0.0       0.0   \n",
       "1                       0.0                0.0                  0.0       0.0   \n",
       "2                       0.0                1.0                  1.0       1.0   \n",
       "3                       0.0                0.0                  0.0       0.0   \n",
       "4                       0.0                0.0                  0.0       0.0   \n",
       "\n",
       "   has_self-sustenance  has_energy_absorption  has_cold_resistance  has_magic  \\\n",
       "0                  0.0                    0.0                  0.0        0.0   \n",
       "1                  0.0                    0.0                  0.0        0.0   \n",
       "2                  1.0                    0.0                  1.0        0.0   \n",
       "3                  0.0                    1.0                  0.0        0.0   \n",
       "4                  0.0                    0.0                  0.0        0.0   \n",
       "\n",
       "   has_telekinesis  has_toxin_and_disease_resistance  has_telepathy  \\\n",
       "0              0.0                               0.0            0.0   \n",
       "1              0.0                               0.0            0.0   \n",
       "2              0.0                               1.0            0.0   \n",
       "3              0.0                               0.0            0.0   \n",
       "4              0.0                               0.0            0.0   \n",
       "\n",
       "   has_regeneration  has_immortality  has_teleportation  has_force_fields  \\\n",
       "0               0.0              0.0                0.0               0.0   \n",
       "1               0.0              0.0                0.0               0.0   \n",
       "2               1.0              0.0                0.0               0.0   \n",
       "3               0.0              0.0                0.0               1.0   \n",
       "4               0.0              0.0                0.0               0.0   \n",
       "\n",
       "   has_energy_manipulation  has_endurance  has_longevity  \\\n",
       "0                      0.0            0.0            0.0   \n",
       "1                      0.0            0.0            0.0   \n",
       "2                      0.0            1.0            1.0   \n",
       "3                      1.0            0.0            0.0   \n",
       "4                      0.0            0.0            0.0   \n",
       "\n",
       "   has_weapon-based_powers  has_energy_blasts  has_enhanced_senses  \\\n",
       "0                      0.0                0.0                  0.0   \n",
       "1                      0.0                0.0                  0.0   \n",
       "2                      0.0                0.0                  1.0   \n",
       "3                      1.0                1.0                  0.0   \n",
       "4                      1.0                0.0                  0.0   \n",
       "\n",
       "   has_invulnerability  has_stealth  has_marksmanship  has_flight  \\\n",
       "0                  0.0          0.0               0.0         0.0   \n",
       "1                  0.0          0.0               0.0         0.0   \n",
       "2                  1.0          1.0               0.0         0.0   \n",
       "3                  0.0          0.0               0.0         0.0   \n",
       "4                  0.0          0.0               0.0         0.0   \n",
       "\n",
       "   has_accelerated_healing  has_weapons_master  has_intelligence  \\\n",
       "0                      0.0                 0.0               0.0   \n",
       "1                      0.0                 0.0               0.0   \n",
       "2                      1.0                 0.0               0.0   \n",
       "3                      0.0                 0.0               0.0   \n",
       "4                      0.0                 1.0               0.0   \n",
       "\n",
       "   has_reflexes  has_super_speed  has_durability  has_stamina  has_agility  \\\n",
       "0           0.0              1.0             0.0          0.0          0.0   \n",
       "1           1.0              0.0             1.0          0.0          0.0   \n",
       "2           1.0              1.0             1.0          1.0          1.0   \n",
       "3           0.0              0.0             0.0          0.0          0.0   \n",
       "4           0.0              0.0             0.0          0.0          0.0   \n",
       "\n",
       "   has_super_strength  \n",
       "0                 1.0  \n",
       "1                 1.0  \n",
       "2                 1.0  \n",
       "3                 0.0  \n",
       "4                 0.0  "
      ]
     },
     "execution_count": 2,
     "metadata": {},
     "output_type": "execute_result"
    }
   ],
   "source": [
    "pd.set_option('display.max_colwidth', 100)\n",
    "df = pd.read_csv(\n",
    "    \"https://raw.githubusercontent.com/jbesomi/texthero/master/dataset/superheroes_nlp_dataset.csv\"\n",
    ")\n",
    "df.head()"
   ]
  },
  {
   "cell_type": "code",
   "execution_count": 3,
<<<<<<< HEAD
   "id": "29fe704e",
   "metadata": {
    "execution": {
     "iopub.execute_input": "2021-09-16T21:52:06.782274Z",
     "iopub.status.busy": "2021-09-16T21:52:06.781721Z",
     "iopub.status.idle": "2021-09-16T21:52:06.801248Z",
     "shell.execute_reply": "2021-09-16T21:52:06.802505Z"
=======
   "id": "7bbaeb7c",
   "metadata": {
    "execution": {
     "iopub.execute_input": "2021-11-03T03:02:37.863929Z",
     "iopub.status.busy": "2021-11-03T03:02:37.863273Z",
     "iopub.status.idle": "2021-11-03T03:02:37.884276Z",
     "shell.execute_reply": "2021-11-03T03:02:37.883747Z"
>>>>>>> d670ebb19cfa4079e6548492fc4a6771210837ee
    }
   },
   "outputs": [
    {
     "data": {
      "text/html": [
       "<div>\n",
       "<style scoped>\n",
       "    .dataframe tbody tr th:only-of-type {\n",
       "        vertical-align: middle;\n",
       "    }\n",
       "\n",
       "    .dataframe tbody tr th {\n",
       "        vertical-align: top;\n",
       "    }\n",
       "\n",
       "    .dataframe thead th {\n",
       "        text-align: right;\n",
       "    }\n",
       "</style>\n",
       "<table border=\"1\" class=\"dataframe\">\n",
       "  <thead>\n",
       "    <tr style=\"text-align: right;\">\n",
       "      <th></th>\n",
       "      <th>name</th>\n",
       "      <th>history_text</th>\n",
       "      <th>alignment</th>\n",
       "    </tr>\n",
       "  </thead>\n",
       "  <tbody>\n",
       "    <tr>\n",
       "      <th>0</th>\n",
       "      <td>3-D Man</td>\n",
       "      <td>Delroy Garrett, Jr. grew up to become a track star and competed in the Olympic Games. After he tested positive for steroids, he lost his three gold medals. In despair, he turned to religion, specifically the Triune Understanding. This group's founder, Jonathan Tremont, had found one of three fragments of a mysterious object and used it to give Garrett the powers of 3-D Man. Garrett assumed that his powers were because of his newfound spiritual enlightenment, and Tremont never disabused him of the notion.</td>\n",
       "      <td>Good</td>\n",
       "    </tr>\n",
       "    <tr>\n",
       "      <th>1</th>\n",
       "      <td>A-Bomb</td>\n",
       "      <td>Richard \"Rick\" Jones was orphaned at a young age, and after being expelled from several orphanages for disciplinary reasons he was placed into a state institution called Tempest Town. A troubled and rebellious youth, Jones soon came to the attention of the institution's chief administrator who smashed his guitar, a gift from his late father, and then had him severely thrashed. Soon afterward, Jones ran away from the institution. He spent the first half of his teens drifting from town to town throughout the Southwest, trying to avoid the juvenile authorities, and doing menial work when he could get it.  At age 16, he got his driver's license and managed to save enough money to buy a used car. Overhearing a teenager dare a friend to ride out with him on the desert where it was rumored an atomic bomb was going to be tested, Jones offered to take him upon the challenge. He drove his car out to the test site to discover his challenger was too timid to show up. Dr. Robert Bruce Banner, designer of the Gamma Bomb to be tested, learned that someone had ventured onto the test site, and believing the countdown had been delayed, ran out into the desert to warn him back. Banner managed to throw Jones into a protective trench before the bomb detonated, but he himself was bombarded with gamma radiation. This radiation triggered a mutagenic change in Banner, causing him to turn into the raging superhuman Hulk. Feeling responsible for Banner's condition and being the only person to know that the rampaging brute was actually Banner, Jones became the Hulk's sometimes unwanted companion and ally. Jones soon organized the Teen Brigade, a group of young amateur ham radio enthusiasts to help him monitor the Hulk's activities. Jones was present during the Hulk's first encounters with the army, as well as superhuman menaces as the Gargoyle, the alien Toadmen, the Ringmaster, Tyrannus, and the Metal Master, and even a run-in with the Fantastic Four.  The Avengers formed due to Rick's radio broadcast warning about the Hulk. He temporarily became a sidekick for Captain America. His resemblance to Bucky was noted, Rick even wore Bucky's costume for a time. However, Captain America felt he did not want to lose another partner and that while Rick was a good athlete, he was not quite up to the level Bucky was. When Iron Man suggested that Rick be made a full member of the Avengers, Cap strongly opposed the idea.  The Kree hero Captain Mar-Vell was bonded to Rick due to only being able to function out of the Negative Zone for a few hours. Using the Negative Zone portal in the Baxter Building seemed to remove that limitation. Shortly after Rick and Mar-Vell had to be re-merged. Eventually, they were separated.  During the Kree-Skrull War, an 'omniwave' machine from the Supreme Intelligence caused the Destiny Force to trigger within Rick.  An attempt to cure the Hulk instead gave Rick radiation poisoning. In the hospital, the Dire Wraiths began to replace the staff, but were stopped by Rom. Rick assisted Rom against the Wraiths, and temporarily lived with Brandy Clark. Jones was cured by the Beyonder at the same time Rom and Brandy left for Galador.  Rick began dating Marlo Chandler, a former girlfriend of the Hulk's. The two later married with a great number of heroes in attendance. The Impossible Man did his best to usurp the proceedings by inviting the Kree, Skrulls, even Mephisto to the ceremony. After a period of estrangement that also involved Moondragon and Death becoming involved with Marlo, the two reunited.  Jones was temporarily paralyzed while Hulk was the Horseman War. In an attempt to stop this 'War Hulk' he was thrown against a pyramid. Rick was cured during the Destiny War, summoning Avengers from various realities to battle for their very existence against the Time Keepers. The strain was incredible, and a future version of Genis-Vell bonded to him, much like Rick had with Mar-Vell. Rick and Genis later discovered this bond still applied to the current Genis.  Rick authored a best-selling novel on his days as a sidekick.  When the Hulk returned to Earth, Jones attempted to calm him down by telling him about Captain America's death, but when the Hulk almost calmed down, Dr. Strange invaded the Hulk's mind. Rick later went to Strange's Sanctum Sanctorum, but was attacked by the Hulk's allies.   Later, Rick was transported to the gamma bomb site that gave birth to the original Hulk. After being dropped off, he encountered the Red Hulk. After seeing that he had murdered Emil Blonsky, the Abomination, Rick had transformed into a new blue creature who quite resembled the Abomination; calling himself A-Bomb. In his new form, he was much like the original Hulk incarnation whereas he could not remember being anybody else once the transformation was complete, had an easily flared temper, and simplified speech patterns. He held his own against the Red Hulk for an extended period of time, withstanding all of his blows and injuring him multiple times which so far nobody had been able to accomplish. The battle was interrupted by several giant android harpies that were specifically designed by United States Military in case Bruce Banner escaped the facility as the Hulk. A-Bomb has proven to hold onto fragments of his memories as Rick Jones because he recognized the harpies all had the face of Betty Ross; Bruce Banner's first love. A-Bomb managed to disable one mid-flight, and they both crashed to earth.The robot exploded.  A-Bomb joined with several heroes including the Avengers, the Fantastic Four, She-Hulk and the Hulk to help stop an impending earthquake in San Francisco which was caused by Red Hulk. After the Red Hulk was defeated, A-Bomb reverted back to Rick. He attempted to reveal who Red Hulk really was, but was shot and dragged away by Doc Samson from the area.</td>\n",
       "      <td>Good</td>\n",
       "    </tr>\n",
       "    <tr>\n",
       "      <th>2</th>\n",
       "      <td>Aa</td>\n",
       "      <td>Aa is one of the more passive members of the Pumice People race of Stoneworld. When Hal Jordan attempted to restart the Green Lantern Corps, he sent one of his rookies, Brik, to draw in new recruits. Brik selected one member from each of Stoneworld's two most dominant races: Aa of the Pumice-People and Kworri of the Obsidian-Folk. hortly after being recruited, Aa, Kworri, and Brik were captured by Flicker, an agent of the Pan-Galactic Placement Services corporation. As a \"cosmic headhunter\", Flicker intended to sell the up-and-coming Green Lanterns to a race known as the Quanhooga. They had already succeeded in capturing Hal Jordan and attempted to brainwash him into giving up information concerning the Earthling Carol Ferris, aka, Star Sapphire. Hal broke free of their controls and rescued Aa and the others. Prepared for any eventuality, Flicker let the heroes believe that they had escaped from him and the four flew off into outer space.As they left the Pan-Galactic company ship, Aa took the liberty of capturing one of the agency's attendants. Hal mind-probed the captive with his ring to learn the whereabouts of Star Sapphire. Aa was uncomfortable with the idea that they were expected to follow Hal on his personal quest. Her rival, Kworri, was quick to point out that beings such as Aa would always second guess Hal's leadership potential while Kworri himself swore undying fealty towards Hal and the Corps. Hal told each of them that after they resolve the affair involving Star Sapphire, he would select either Aa or Kworri to serve with him in the Green Lantern Corps. The other would be forced to return to Stoneworld. While Hal investigated the situation from one angle, Aa, Brik and Kworri tracked Star Sapphire's last location to a fleet of Teban warships engaged in battle against a Quanhooga armada. Kworri followed Hal's standing orders to wait and watch, but Aa questioned the orders, citing that Hal could not have foreseen them arriving at the scene of a fierce space battle. Hal showed up soon after and Aa and he exchanged tense words. in: Good Characters, Female Characters, New Earth Characters, and 21 more Aa (New Earth) English EDIT   SHARE Green LanternHelp   Gallery Real Name Aa Current Alias Green Lantern Affiliation Darkstars · formerly the Green Lantern Corps (2nd iteration) Status Alignment Good Identity Secret Identity Race Pumice Person Marital Status Single Occupation Green Lantern Characteristics Gender Female Hair No Hair Skin Grey Origin Universe New Earth · Prime Earth Sector Sector 904 Partner Brik Place of Birth Stoneworld Creators Gerard Jones · Pat Broderick · Romeo Tanghal First Appearance Green Lantern Vol 3 #21 (February, 1992) Quote1 My other pet rock. Aa of Stoneworld. A moralist. You think about \"higher code\". Keep us all honest. Quote2 -- Kilowog src Contents[show] History Aa is one of the more passive members of the Pumice People race of Stoneworld. When Hal Jordan attempted to restart the Green Lantern Corps, he sent one of his rookies, Brik, to draw in new recruits. Brik selected one member from each of Stoneworld's two most dominant races: Aa of the Pumice-People and Kworri of the Obsidian-Folk. Shortly after being recruited, Aa, Kworri, and Brik were captured by Flicker, an agent of the Pan-Galactic Placement Services corporation. As a \"cosmic headhunter\", Flicker intended to sell the up-and-coming Green Lanterns to a race known as the Quanhooga. They had already succeeded in capturing Hal Jordan and attempted to brainwash him into giving up information concerning the Earthling Carol Ferris, aka, Star Sapphire. Hal broke free of their controls and rescued Aa and the others. Prepared for any eventuality, Flicker let the heroes believe that they had escaped from him and the four flew off into outer space.[1] As they left the Pan-Galactic company ship, Aa took the liberty of capturing one of the agency's attendants. Hal mind-probed the captive with his ring to learn the whereabouts of Star Sapphire. Aa was uncomfortable with the idea that they were expected to follow Hal on his personal quest. Her rival, Kworri, was quick to point out that beings such as Aa would always second guess Hal's leadership potential while Kworri himself swore undying fealty towards Hal and the Corps. Hal told each of them that after they resolve the affair involving Star Sapphire, he would select either Aa or Kworri to serve with him in the Green Lantern Corps. The other would be forced to return to Stoneworld. While Hal investigated the situation from one angle, Aa, Brik and Kworri tracked Star Sapphire's last location to a fleet of Teban warships engaged in battle against a Quanhooga armada. Kworri followed Hal's standing orders to wait and watch, but Aa questioned the orders, citing that Hal could not have foreseen them arriving at the scene of a fierce space battle. Hal showed up soon after and Aa and he exchanged tense words. The Green Lanterns boarded the Teben flagship commanded by Captain Kreon only to find that Kreon was not only in possession of a comatose Star Sapphire, but was also in league with Pan-Galactic headhunter, Flicker. This was all part of Flicker's end game, so he could deliver his Green Lantern prospects to his true clients, the Teben, not the Quanhooga. Things quickly began to fall apart, and Flicker tried to keep the Green Lanterns at bay by training his weapon on Star Sapphire. It was Aa who spoiled Flicker's shot, thus saving Carol's life. After retrieving her unconscious body, the Lanterns flew away from the opposing armadas. Loyal Kworri was confident that he would be the one that Hal would select to join his new Corps, but as it turned out, Hal had decided from the very first moment they met that Aa was the woman he wanted at his side. He appreciated Aa's ideals and that she persistently questioned authority; an attitude not altogether different from that of Hal Jordan himself</td>\n",
       "      <td>Good</td>\n",
       "    </tr>\n",
       "    <tr>\n",
       "      <th>3</th>\n",
       "      <td>Aaron Cash</td>\n",
       "      <td>Aaron Cash is the head of security at Arkham Asylum. He has a hook for a hand after his real hand was eaten by Killer Croc.</td>\n",
       "      <td>Good</td>\n",
       "    </tr>\n",
       "    <tr>\n",
       "      <th>4</th>\n",
       "      <td>Aayla Secura</td>\n",
       "      <td>ayla Secura was a Rutian Twi'lek Jedi Knight (and onetime apprentice to Quinlan Vos) who served during the Clone Wars. She fought in several battles, including one which helped to free a small Lurmen village from destruction, and also helped fend off the Zillo Beast during its rampage on Coruscant. She had mutual feelings for fellow Jedi Kit Fisto, but they chose not to pursue their feelings and to remain Jedi. She was one of the few Jedi who developed a strong bond with their Clone Commander, she and Commander Bly shared a mutual trust and respect. She was serving on Felucia when Order 66 was executed by Supreme Chancellor Palpatine, where she was shot in the back and killed by Bly and another member of the 327th Star Corps. Her body was destroyed by the clones.</td>\n",
       "      <td>Good</td>\n",
       "    </tr>\n",
       "  </tbody>\n",
       "</table>\n",
       "</div>"
      ],
      "text/plain": [
       "           name  \\\n",
       "0       3-D Man   \n",
       "1        A-Bomb   \n",
       "2            Aa   \n",
       "3    Aaron Cash   \n",
       "4  Aayla Secura   \n",
       "\n",
       "                                                                                                                                                                                                                                                                                                                                                                                                                                                                                                                                                                                                                                                                                                                                                                                                                                                                                                                                                                                                                                                                                                                                                                                                                                                                                                                                                                                                                                                                                                                                                                                                                                                                                                                                                                                                                                                                                                                                                                                                                                                                                                                                                                                                                                                                                                                                                                                                                                                                                                                                                                                                                                                                                                                                                                                                                                                                                                                                                                                                                                                                                                                                                                                                                                                                                                                                                                                                                                                                                                                                                                                                                                                                                                                                                                                                                                                                                                                                                                                                                                                                                                                                                                                                                                                                                                                                                                                                                                                                                                                                                                                                                                                                                                                                                                                                                                                                                                                                                                                                                                                                                                                                                                                                                                                                                                                                                                                                                                                                                                                                                                                                                                                                                                                                                                                                                                                                                                                                                                                                                                                                                                                                                           history_text  \\\n",
       "0                                                                                                                                                                                                                                                                                                                                                                                                                                                                                                                                                                                                                                                                                                                                                                                                                                                                                                                                                                                                                                                                                                                                                                                                                                                                                                                                                                                                                                                                                                                                                                                                                                                                                                                                                                                                                                                                                                                                                                                                                                                                                                                                                                                                                                                                                                                                                                                                                                                                                                                                                                                                                                                                                                                                                                                                                                                                                                                                                                                                                                                                                                                                                                                                                                                                                                                                                                                                                                                                                                                                                                                                                                                                                                                                                                                                                                                                                                                                                                                                                                                                                                                                                                                                                                                                                                                                                                                                                                                                                                                                                                                                                                                                                                                                                                                                                                                                                                                                                                                                                                                                                                                                                                                                                                                                                                                                                                                                                                                                                                                                                                                                                                         Delroy Garrett, Jr. grew up to become a track star and competed in the Olympic Games. After he tested positive for steroids, he lost his three gold medals. In despair, he turned to religion, specifically the Triune Understanding. This group's founder, Jonathan Tremont, had found one of three fragments of a mysterious object and used it to give Garrett the powers of 3-D Man. Garrett assumed that his powers were because of his newfound spiritual enlightenment, and Tremont never disabused him of the notion.   \n",
       "1                                                                              Richard \"Rick\" Jones was orphaned at a young age, and after being expelled from several orphanages for disciplinary reasons he was placed into a state institution called Tempest Town. A troubled and rebellious youth, Jones soon came to the attention of the institution's chief administrator who smashed his guitar, a gift from his late father, and then had him severely thrashed. Soon afterward, Jones ran away from the institution. He spent the first half of his teens drifting from town to town throughout the Southwest, trying to avoid the juvenile authorities, and doing menial work when he could get it.  At age 16, he got his driver's license and managed to save enough money to buy a used car. Overhearing a teenager dare a friend to ride out with him on the desert where it was rumored an atomic bomb was going to be tested, Jones offered to take him upon the challenge. He drove his car out to the test site to discover his challenger was too timid to show up. Dr. Robert Bruce Banner, designer of the Gamma Bomb to be tested, learned that someone had ventured onto the test site, and believing the countdown had been delayed, ran out into the desert to warn him back. Banner managed to throw Jones into a protective trench before the bomb detonated, but he himself was bombarded with gamma radiation. This radiation triggered a mutagenic change in Banner, causing him to turn into the raging superhuman Hulk. Feeling responsible for Banner's condition and being the only person to know that the rampaging brute was actually Banner, Jones became the Hulk's sometimes unwanted companion and ally. Jones soon organized the Teen Brigade, a group of young amateur ham radio enthusiasts to help him monitor the Hulk's activities. Jones was present during the Hulk's first encounters with the army, as well as superhuman menaces as the Gargoyle, the alien Toadmen, the Ringmaster, Tyrannus, and the Metal Master, and even a run-in with the Fantastic Four.  The Avengers formed due to Rick's radio broadcast warning about the Hulk. He temporarily became a sidekick for Captain America. His resemblance to Bucky was noted, Rick even wore Bucky's costume for a time. However, Captain America felt he did not want to lose another partner and that while Rick was a good athlete, he was not quite up to the level Bucky was. When Iron Man suggested that Rick be made a full member of the Avengers, Cap strongly opposed the idea.  The Kree hero Captain Mar-Vell was bonded to Rick due to only being able to function out of the Negative Zone for a few hours. Using the Negative Zone portal in the Baxter Building seemed to remove that limitation. Shortly after Rick and Mar-Vell had to be re-merged. Eventually, they were separated.  During the Kree-Skrull War, an 'omniwave' machine from the Supreme Intelligence caused the Destiny Force to trigger within Rick.  An attempt to cure the Hulk instead gave Rick radiation poisoning. In the hospital, the Dire Wraiths began to replace the staff, but were stopped by Rom. Rick assisted Rom against the Wraiths, and temporarily lived with Brandy Clark. Jones was cured by the Beyonder at the same time Rom and Brandy left for Galador.  Rick began dating Marlo Chandler, a former girlfriend of the Hulk's. The two later married with a great number of heroes in attendance. The Impossible Man did his best to usurp the proceedings by inviting the Kree, Skrulls, even Mephisto to the ceremony. After a period of estrangement that also involved Moondragon and Death becoming involved with Marlo, the two reunited.  Jones was temporarily paralyzed while Hulk was the Horseman War. In an attempt to stop this 'War Hulk' he was thrown against a pyramid. Rick was cured during the Destiny War, summoning Avengers from various realities to battle for their very existence against the Time Keepers. The strain was incredible, and a future version of Genis-Vell bonded to him, much like Rick had with Mar-Vell. Rick and Genis later discovered this bond still applied to the current Genis.  Rick authored a best-selling novel on his days as a sidekick.  When the Hulk returned to Earth, Jones attempted to calm him down by telling him about Captain America's death, but when the Hulk almost calmed down, Dr. Strange invaded the Hulk's mind. Rick later went to Strange's Sanctum Sanctorum, but was attacked by the Hulk's allies.   Later, Rick was transported to the gamma bomb site that gave birth to the original Hulk. After being dropped off, he encountered the Red Hulk. After seeing that he had murdered Emil Blonsky, the Abomination, Rick had transformed into a new blue creature who quite resembled the Abomination; calling himself A-Bomb. In his new form, he was much like the original Hulk incarnation whereas he could not remember being anybody else once the transformation was complete, had an easily flared temper, and simplified speech patterns. He held his own against the Red Hulk for an extended period of time, withstanding all of his blows and injuring him multiple times which so far nobody had been able to accomplish. The battle was interrupted by several giant android harpies that were specifically designed by United States Military in case Bruce Banner escaped the facility as the Hulk. A-Bomb has proven to hold onto fragments of his memories as Rick Jones because he recognized the harpies all had the face of Betty Ross; Bruce Banner's first love. A-Bomb managed to disable one mid-flight, and they both crashed to earth.The robot exploded.  A-Bomb joined with several heroes including the Avengers, the Fantastic Four, She-Hulk and the Hulk to help stop an impending earthquake in San Francisco which was caused by Red Hulk. After the Red Hulk was defeated, A-Bomb reverted back to Rick. He attempted to reveal who Red Hulk really was, but was shot and dragged away by Doc Samson from the area.   \n",
       "2  Aa is one of the more passive members of the Pumice People race of Stoneworld. When Hal Jordan attempted to restart the Green Lantern Corps, he sent one of his rookies, Brik, to draw in new recruits. Brik selected one member from each of Stoneworld's two most dominant races: Aa of the Pumice-People and Kworri of the Obsidian-Folk. hortly after being recruited, Aa, Kworri, and Brik were captured by Flicker, an agent of the Pan-Galactic Placement Services corporation. As a \"cosmic headhunter\", Flicker intended to sell the up-and-coming Green Lanterns to a race known as the Quanhooga. They had already succeeded in capturing Hal Jordan and attempted to brainwash him into giving up information concerning the Earthling Carol Ferris, aka, Star Sapphire. Hal broke free of their controls and rescued Aa and the others. Prepared for any eventuality, Flicker let the heroes believe that they had escaped from him and the four flew off into outer space.As they left the Pan-Galactic company ship, Aa took the liberty of capturing one of the agency's attendants. Hal mind-probed the captive with his ring to learn the whereabouts of Star Sapphire. Aa was uncomfortable with the idea that they were expected to follow Hal on his personal quest. Her rival, Kworri, was quick to point out that beings such as Aa would always second guess Hal's leadership potential while Kworri himself swore undying fealty towards Hal and the Corps. Hal told each of them that after they resolve the affair involving Star Sapphire, he would select either Aa or Kworri to serve with him in the Green Lantern Corps. The other would be forced to return to Stoneworld. While Hal investigated the situation from one angle, Aa, Brik and Kworri tracked Star Sapphire's last location to a fleet of Teban warships engaged in battle against a Quanhooga armada. Kworri followed Hal's standing orders to wait and watch, but Aa questioned the orders, citing that Hal could not have foreseen them arriving at the scene of a fierce space battle. Hal showed up soon after and Aa and he exchanged tense words. in: Good Characters, Female Characters, New Earth Characters, and 21 more Aa (New Earth) English EDIT   SHARE Green LanternHelp   Gallery Real Name Aa Current Alias Green Lantern Affiliation Darkstars · formerly the Green Lantern Corps (2nd iteration) Status Alignment Good Identity Secret Identity Race Pumice Person Marital Status Single Occupation Green Lantern Characteristics Gender Female Hair No Hair Skin Grey Origin Universe New Earth · Prime Earth Sector Sector 904 Partner Brik Place of Birth Stoneworld Creators Gerard Jones · Pat Broderick · Romeo Tanghal First Appearance Green Lantern Vol 3 #21 (February, 1992) Quote1 My other pet rock. Aa of Stoneworld. A moralist. You think about \"higher code\". Keep us all honest. Quote2 -- Kilowog src Contents[show] History Aa is one of the more passive members of the Pumice People race of Stoneworld. When Hal Jordan attempted to restart the Green Lantern Corps, he sent one of his rookies, Brik, to draw in new recruits. Brik selected one member from each of Stoneworld's two most dominant races: Aa of the Pumice-People and Kworri of the Obsidian-Folk. Shortly after being recruited, Aa, Kworri, and Brik were captured by Flicker, an agent of the Pan-Galactic Placement Services corporation. As a \"cosmic headhunter\", Flicker intended to sell the up-and-coming Green Lanterns to a race known as the Quanhooga. They had already succeeded in capturing Hal Jordan and attempted to brainwash him into giving up information concerning the Earthling Carol Ferris, aka, Star Sapphire. Hal broke free of their controls and rescued Aa and the others. Prepared for any eventuality, Flicker let the heroes believe that they had escaped from him and the four flew off into outer space.[1] As they left the Pan-Galactic company ship, Aa took the liberty of capturing one of the agency's attendants. Hal mind-probed the captive with his ring to learn the whereabouts of Star Sapphire. Aa was uncomfortable with the idea that they were expected to follow Hal on his personal quest. Her rival, Kworri, was quick to point out that beings such as Aa would always second guess Hal's leadership potential while Kworri himself swore undying fealty towards Hal and the Corps. Hal told each of them that after they resolve the affair involving Star Sapphire, he would select either Aa or Kworri to serve with him in the Green Lantern Corps. The other would be forced to return to Stoneworld. While Hal investigated the situation from one angle, Aa, Brik and Kworri tracked Star Sapphire's last location to a fleet of Teban warships engaged in battle against a Quanhooga armada. Kworri followed Hal's standing orders to wait and watch, but Aa questioned the orders, citing that Hal could not have foreseen them arriving at the scene of a fierce space battle. Hal showed up soon after and Aa and he exchanged tense words. The Green Lanterns boarded the Teben flagship commanded by Captain Kreon only to find that Kreon was not only in possession of a comatose Star Sapphire, but was also in league with Pan-Galactic headhunter, Flicker. This was all part of Flicker's end game, so he could deliver his Green Lantern prospects to his true clients, the Teben, not the Quanhooga. Things quickly began to fall apart, and Flicker tried to keep the Green Lanterns at bay by training his weapon on Star Sapphire. It was Aa who spoiled Flicker's shot, thus saving Carol's life. After retrieving her unconscious body, the Lanterns flew away from the opposing armadas. Loyal Kworri was confident that he would be the one that Hal would select to join his new Corps, but as it turned out, Hal had decided from the very first moment they met that Aa was the woman he wanted at his side. He appreciated Aa's ideals and that she persistently questioned authority; an attitude not altogether different from that of Hal Jordan himself   \n",
       "3                                                                                                                                                                                                                                                                                                                                                                                                                                                                                                                                                                                                                                                                                                                                                                                                                                                                                                                                                                                                                                                                                                                                                                                                                                                                                                                                                                                                                                                                                                                                                                                                                                                                                                                                                                                                                                                                                                                                                                                                                                                                                                                                                                                                                                                                                                                                                                                                                                                                                                                                                                                                                                                                                                                                                                                                                                                                                                                                                                                                                                                                                                                                                                                                                                                                                                                                                                                                                                                                                                                                                                                                                                                                                                                                                                                                                                                                                                                                                                                                                                                                                                                                                                                                                                                                                                                                                                                                                                                                                                                                                                                                                                                                                                                                                                                                                                                                                                                                                                                                                                                                                                                                                                                                                                                                                                                                                                                                                                                                                                                                                                                                                                                                                                                                                                                                                                                                                                                                                                                                                                           Aaron Cash is the head of security at Arkham Asylum. He has a hook for a hand after his real hand was eaten by Killer Croc.   \n",
       "4                                                                                                                                                                                                                                                                                                                                                                                                                                                                                                                                                                                                                                                                                                                                                                                                                                                                                                                                                                                                                                                                                                                                                                                                                                                                                                                                                                                                                                                                                                                                                                                                                                                                                                                                                                                                                                                                                                                                                                                                                                                                                                                                                                                                                                                                                                                                                                                                                                                                                                                                                                                                                                                                                                                                                                                                                                                                                                                                                                                                                                                                                                                                                                                                                                                                                                                                                                                                                                                                                                                                                                                                                                                                                                                                                                                                                                                                                                                                                                                                                                                                                                                                                                                                                                                                                                                                                                                                                                                                                                                                                                                                                                                                                                                                                                                                                                                                                                                                                                                                                                                                                                                                                                                                                                                                                                                                                                 ayla Secura was a Rutian Twi'lek Jedi Knight (and onetime apprentice to Quinlan Vos) who served during the Clone Wars. She fought in several battles, including one which helped to free a small Lurmen village from destruction, and also helped fend off the Zillo Beast during its rampage on Coruscant. She had mutual feelings for fellow Jedi Kit Fisto, but they chose not to pursue their feelings and to remain Jedi. She was one of the few Jedi who developed a strong bond with their Clone Commander, she and Commander Bly shared a mutual trust and respect. She was serving on Felucia when Order 66 was executed by Supreme Chancellor Palpatine, where she was shot in the back and killed by Bly and another member of the 327th Star Corps. Her body was destroyed by the clones.   \n",
       "\n",
       "  alignment  \n",
       "0      Good  \n",
       "1      Good  \n",
       "2      Good  \n",
       "3      Good  \n",
       "4      Good  "
      ]
     },
     "execution_count": 3,
     "metadata": {},
     "output_type": "execute_result"
    }
   ],
   "source": [
    "pd.options.display.max_colwidth = None\n",
    "df_txt = (\n",
    "    df.loc[df.alignment.isin(['Good', 'Bad']), ['name', 'history_text', 'alignment']]\n",
    "    .dropna()\n",
    "    .reset_index(drop=True)\n",
    ")\n",
    "df_txt.head()"
   ]
  },
  {
   "cell_type": "code",
   "execution_count": 4,
<<<<<<< HEAD
   "id": "d1ddf232",
   "metadata": {
    "execution": {
     "iopub.execute_input": "2021-09-16T21:52:06.807727Z",
     "iopub.status.busy": "2021-09-16T21:52:06.805139Z",
     "iopub.status.idle": "2021-09-16T21:52:06.810779Z",
     "shell.execute_reply": "2021-09-16T21:52:06.810295Z"
=======
   "id": "95823ddf",
   "metadata": {
    "execution": {
     "iopub.execute_input": "2021-11-03T03:02:37.889707Z",
     "iopub.status.busy": "2021-11-03T03:02:37.889141Z",
     "iopub.status.idle": "2021-11-03T03:02:37.893055Z",
     "shell.execute_reply": "2021-11-03T03:02:37.892278Z"
>>>>>>> d670ebb19cfa4079e6548492fc4a6771210837ee
    }
   },
   "outputs": [],
   "source": [
    "# Preprocesamos la columna alignment\n",
    "le = LabelEncoder()\n",
    "df_txt['alignment'] = le.fit_transform(df_txt['alignment'])"
   ]
  },
  {
   "cell_type": "markdown",
<<<<<<< HEAD
   "id": "ba29cb2f",
=======
   "id": "772a6f49",
>>>>>>> d670ebb19cfa4079e6548492fc4a6771210837ee
   "metadata": {},
   "source": [
    "### Funciones Auxiliares"
   ]
  },
  {
   "cell_type": "code",
   "execution_count": 5,
<<<<<<< HEAD
   "id": "011cff13",
   "metadata": {
    "execution": {
     "iopub.execute_input": "2021-09-16T21:52:06.823689Z",
     "iopub.status.busy": "2021-09-16T21:52:06.818485Z",
     "iopub.status.idle": "2021-09-16T21:52:06.826312Z",
     "shell.execute_reply": "2021-09-16T21:52:06.826774Z"
=======
   "id": "91c64ab6",
   "metadata": {
    "execution": {
     "iopub.execute_input": "2021-11-03T03:02:37.904258Z",
     "iopub.status.busy": "2021-11-03T03:02:37.903676Z",
     "iopub.status.idle": "2021-11-03T03:02:37.907061Z",
     "shell.execute_reply": "2021-11-03T03:02:37.907523Z"
>>>>>>> d670ebb19cfa4079e6548492fc4a6771210837ee
    }
   },
   "outputs": [],
   "source": [
    "def helper(train, train_label, model):\n",
    "    cv = []\n",
    "    pred_based_on_cv = pd.DataFrame(data=np.zeros(shape=(train.shape[0], 2)))\n",
    "    kfold = KFold(n_splits=5, shuffle=True, random_state=2019)\n",
    "    for t_index, v_index in kfold.split(train_label.ravel()):\n",
    "        xtrain, ytrain = train[t_index, :], train_label[t_index]\n",
    "        xtest, ytest = train[v_index, :], train_label[v_index]\n",
    "\n",
    "        model.fit(xtrain, ytrain)\n",
    "        pred_based_on_cv.loc[v_index, :] = model.predict_proba(xtest)\n",
    "        cv.append(roc_auc_score(ytest, pred_based_on_cv.loc[v_index, 1]))\n",
    "    return (np.mean(cv), pred_based_on_cv)\n",
    "\n",
    "\n",
    "def plotting_helper(cv, pred, label):\n",
    "    print(\"AUC CV score : %s\" % cv)\n",
    "    plt.figure(figsize=(9, 5))\n",
    "    sns.heatmap(\n",
    "        confusion_matrix(label, np.argmax(pred.values, axis=1)).round(2),\n",
    "        annot=True,\n",
    "        fmt='g',\n",
    "        xticklabels=['Bad', 'Good'],\n",
    "        yticklabels=['Bad', 'Good'],\n",
    "    )\n",
    "    plt.title(\"Accuracy : %s\" % accuracy_score(np.argmax(pred.values, axis=1), label))\n",
    "    plt.ylabel(\"Real\")\n",
    "    plt.xlabel(\"Predicho\")\n",
    "    return (accuracy_score(np.argmax(pred.values, axis=1), label), cv)"
   ]
  },
  {
   "cell_type": "markdown",
<<<<<<< HEAD
   "id": "a0df5b95",
=======
   "id": "80a75e9d",
>>>>>>> d670ebb19cfa4079e6548492fc4a6771210837ee
   "metadata": {},
   "source": [
    "## Tokenización"
   ]
  },
  {
   "cell_type": "code",
   "execution_count": 6,
<<<<<<< HEAD
   "id": "83e4ec01",
   "metadata": {
    "execution": {
     "iopub.execute_input": "2021-09-16T21:52:06.837231Z",
     "iopub.status.busy": "2021-09-16T21:52:06.836638Z",
     "iopub.status.idle": "2021-09-16T21:52:06.840859Z",
     "shell.execute_reply": "2021-09-16T21:52:06.840361Z"
=======
   "id": "f2fa4aa8",
   "metadata": {
    "execution": {
     "iopub.execute_input": "2021-11-03T03:02:37.919688Z",
     "iopub.status.busy": "2021-11-03T03:02:37.918867Z",
     "iopub.status.idle": "2021-11-03T03:02:37.923820Z",
     "shell.execute_reply": "2021-11-03T03:02:37.924290Z"
>>>>>>> d670ebb19cfa4079e6548492fc4a6771210837ee
    }
   },
   "outputs": [
    {
     "name": "stdout",
     "output_type": "stream",
     "text": [
      "['Delroy', 'Garrett', ',', 'Jr', '.', 'grew', 'up', 'to', 'become', 'a', 'track', 'star', 'and', 'competed', 'in', 'the', 'Olympic', 'Games', '.', 'After', 'he', 'tested', 'positive', 'for', 'steroids', ',', 'he', 'lost', 'his', 'three', 'gold', 'medals', '.', 'In', 'despair', ',', 'he', 'turned', 'to', 'religion', ',', 'specifica']\n"
     ]
    }
   ],
   "source": [
    "# WordPunctTokenizer\n",
    "wordpunct_tokenizer = WordPunctTokenizer()\n",
    "pow_tokens = wordpunct_tokenizer.tokenize(' '.join(df_txt.history_text)[:200])\n",
    "print(pow_tokens)"
   ]
  },
  {
   "cell_type": "code",
   "execution_count": 7,
<<<<<<< HEAD
   "id": "450f46dd",
   "metadata": {
    "execution": {
     "iopub.execute_input": "2021-09-16T21:52:06.852596Z",
     "iopub.status.busy": "2021-09-16T21:52:06.852022Z",
     "iopub.status.idle": "2021-09-16T21:52:06.857235Z",
     "shell.execute_reply": "2021-09-16T21:52:06.856733Z"
=======
   "id": "06bef0c4",
   "metadata": {
    "execution": {
     "iopub.execute_input": "2021-11-03T03:02:37.936331Z",
     "iopub.status.busy": "2021-11-03T03:02:37.935757Z",
     "iopub.status.idle": "2021-11-03T03:02:37.938103Z",
     "shell.execute_reply": "2021-11-03T03:02:37.938566Z"
>>>>>>> d670ebb19cfa4079e6548492fc4a6771210837ee
    }
   },
   "outputs": [
    {
     "name": "stdout",
     "output_type": "stream",
     "text": [
      "['Delroy', 'Garrett', ',', 'Jr.', 'grew', 'up', 'to', 'become', 'a', 'track', 'star', 'and', 'competed', 'in', 'the', 'Olympic', 'Games.', 'After', 'he', 'tested', 'positive', 'for', 'steroids', ',', 'he', 'lost', 'his', 'three', 'gold', 'medals.', 'In', 'despair', ',', 'he', 'turned', 'to', 'religion', ',', 'specifica']\n"
     ]
    }
   ],
   "source": [
    "# TreebankWordTokenizer\n",
    "treebank_tokenizer = TreebankWordTokenizer()\n",
    "pow_tokens = treebank_tokenizer.tokenize(' '.join(df_txt.history_text)[:200])\n",
    "print(pow_tokens)"
   ]
  },
  {
   "cell_type": "code",
   "execution_count": 8,
<<<<<<< HEAD
   "id": "b0111f89",
   "metadata": {
    "execution": {
     "iopub.execute_input": "2021-09-16T21:52:06.865178Z",
     "iopub.status.busy": "2021-09-16T21:52:06.864604Z",
     "iopub.status.idle": "2021-09-16T21:52:06.867747Z",
     "shell.execute_reply": "2021-09-16T21:52:06.868201Z"
=======
   "id": "062e8e0a",
   "metadata": {
    "execution": {
     "iopub.execute_input": "2021-11-03T03:02:37.946676Z",
     "iopub.status.busy": "2021-11-03T03:02:37.946101Z",
     "iopub.status.idle": "2021-11-03T03:02:37.948390Z",
     "shell.execute_reply": "2021-11-03T03:02:37.948844Z"
>>>>>>> d670ebb19cfa4079e6548492fc4a6771210837ee
    }
   },
   "outputs": [
    {
     "name": "stdout",
     "output_type": "stream",
     "text": [
      "['Delroy', 'Garrett', 'Jr', 'Olympic', 'Games', 'After', 'In']\n"
     ]
    }
   ],
   "source": [
    "# RegexpTokenizer\n",
    "capword_tokenizer = RegexpTokenizer('[A-Z]\\w+')\n",
    "pow_tokens = capword_tokenizer.tokenize(' '.join(df_txt.history_text)[:200])\n",
    "print(pow_tokens)"
   ]
  },
  {
   "cell_type": "markdown",
<<<<<<< HEAD
   "id": "753b9d39",
=======
   "id": "c6f03704",
>>>>>>> d670ebb19cfa4079e6548492fc4a6771210837ee
   "metadata": {},
   "source": [
    "## Normalización"
   ]
  },
  {
   "cell_type": "markdown",
<<<<<<< HEAD
   "id": "d9c7d4f4",
=======
   "id": "6511c199",
>>>>>>> d670ebb19cfa4079e6548492fc4a6771210837ee
   "metadata": {},
   "source": [
    "### Stemming"
   ]
  },
  {
   "cell_type": "code",
   "execution_count": 9,
<<<<<<< HEAD
   "id": "a2e4e91d",
   "metadata": {
    "execution": {
     "iopub.execute_input": "2021-09-16T21:52:06.874013Z",
     "iopub.status.busy": "2021-09-16T21:52:06.873116Z",
     "iopub.status.idle": "2021-09-16T21:52:06.877612Z",
     "shell.execute_reply": "2021-09-16T21:52:06.876696Z"
=======
   "id": "629c4b15",
   "metadata": {
    "execution": {
     "iopub.execute_input": "2021-11-03T03:02:37.954803Z",
     "iopub.status.busy": "2021-11-03T03:02:37.953663Z",
     "iopub.status.idle": "2021-11-03T03:02:37.959464Z",
     "shell.execute_reply": "2021-11-03T03:02:37.958615Z"
>>>>>>> d670ebb19cfa4079e6548492fc4a6771210837ee
    },
    "lines_to_next_cell": 2
   },
   "outputs": [
    {
     "name": "stdout",
     "output_type": "stream",
     "text": [
      "run --> run\n",
      "runner --> runner\n",
      "running --> run\n",
      "ran --> ran\n",
      "runs --> run\n",
      "feet --> feet\n",
      "cats --> cat\n",
      "cacti --> cacti\n"
     ]
    }
   ],
   "source": [
    "# SnowballStemmer\n",
    "s_stemmer = SnowballStemmer(language='english')\n",
    "words = ['run', 'runner', 'running', 'ran', 'runs', 'feet', 'cats', 'cacti']\n",
    "for word in words:\n",
    "    print(f'{word} --> {s_stemmer.stem(word)}')"
   ]
  },
  {
   "cell_type": "markdown",
<<<<<<< HEAD
   "id": "ec7059a3",
=======
   "id": "6fbb6a37",
>>>>>>> d670ebb19cfa4079e6548492fc4a6771210837ee
   "metadata": {},
   "source": [
    "### Lemmatization"
   ]
  },
  {
   "cell_type": "code",
   "execution_count": 10,
<<<<<<< HEAD
   "id": "4e4784c4",
   "metadata": {
    "execution": {
     "iopub.execute_input": "2021-09-16T21:52:06.883781Z",
     "iopub.status.busy": "2021-09-16T21:52:06.882555Z",
     "iopub.status.idle": "2021-09-16T21:52:08.651776Z",
     "shell.execute_reply": "2021-09-16T21:52:08.651157Z"
=======
   "id": "3ea62fea",
   "metadata": {
    "execution": {
     "iopub.execute_input": "2021-11-03T03:02:37.965319Z",
     "iopub.status.busy": "2021-11-03T03:02:37.964748Z",
     "iopub.status.idle": "2021-11-03T03:02:39.943483Z",
     "shell.execute_reply": "2021-11-03T03:02:39.942707Z"
>>>>>>> d670ebb19cfa4079e6548492fc4a6771210837ee
    }
   },
   "outputs": [
    {
     "name": "stdout",
     "output_type": "stream",
     "text": [
      "run --> run\n",
      "runner --> runner\n",
      "running --> running\n",
      "ran --> ran\n",
      "runs --> run\n",
      "feet --> foot\n",
      "cats --> cat\n",
      "cacti --> cactus\n"
     ]
    }
   ],
   "source": [
    "# WordNetLemmatizer\n",
    "lemmatizer = WordNetLemmatizer()\n",
    "\n",
    "words = ['run', 'runner', 'running', 'ran', 'runs', 'feet', 'cats', 'cacti']\n",
    "for word in words:\n",
    "    print(f'{word} --> {lemmatizer.lemmatize(word)}')"
   ]
  },
  {
   "cell_type": "markdown",
<<<<<<< HEAD
   "id": "874abca0",
=======
   "id": "d5b2faa6",
>>>>>>> d670ebb19cfa4079e6548492fc4a6771210837ee
   "metadata": {},
   "source": [
    "# Bag of Words"
   ]
  },
  {
   "cell_type": "markdown",
<<<<<<< HEAD
   "id": "6a295632",
=======
   "id": "e69e8e25",
>>>>>>> d670ebb19cfa4079e6548492fc4a6771210837ee
   "metadata": {},
   "source": [
    "1. Remover palabras no deseadas (stop words)\n",
    "2. Crear tokens\n",
    "3. Aplicar tokenización al texto\n",
    "4. Crear vocabulario y generar vectores"
   ]
  },
  {
   "cell_type": "code",
   "execution_count": 11,
<<<<<<< HEAD
   "id": "cba25b80",
   "metadata": {
    "execution": {
     "iopub.execute_input": "2021-09-16T21:52:08.657180Z",
     "iopub.status.busy": "2021-09-16T21:52:08.656207Z",
     "iopub.status.idle": "2021-09-16T21:52:08.659594Z",
     "shell.execute_reply": "2021-09-16T21:52:08.660022Z"
=======
   "id": "69b7d59c",
   "metadata": {
    "execution": {
     "iopub.execute_input": "2021-11-03T03:02:39.948520Z",
     "iopub.status.busy": "2021-11-03T03:02:39.947543Z",
     "iopub.status.idle": "2021-11-03T03:02:39.952690Z",
     "shell.execute_reply": "2021-11-03T03:02:39.952197Z"
>>>>>>> d670ebb19cfa4079e6548492fc4a6771210837ee
    }
   },
   "outputs": [],
   "source": [
    "# Armamos un set con las stop words\n",
    "stop_words = set(stopwords.words('english'))\n",
    "# stopwords.words('english')"
   ]
  },
  {
   "cell_type": "code",
   "execution_count": 12,
<<<<<<< HEAD
   "id": "bed85df0",
   "metadata": {
    "execution": {
     "iopub.execute_input": "2021-09-16T21:52:08.684856Z",
     "iopub.status.busy": "2021-09-16T21:52:08.667864Z",
     "iopub.status.idle": "2021-09-16T21:52:10.067528Z",
     "shell.execute_reply": "2021-09-16T21:52:10.068013Z"
=======
   "id": "02ccdd69",
   "metadata": {
    "execution": {
     "iopub.execute_input": "2021-11-03T03:02:39.970939Z",
     "iopub.status.busy": "2021-11-03T03:02:39.965763Z",
     "iopub.status.idle": "2021-11-03T03:02:41.359407Z",
     "shell.execute_reply": "2021-11-03T03:02:41.358881Z"
>>>>>>> d670ebb19cfa4079e6548492fc4a6771210837ee
    }
   },
   "outputs": [
    {
     "name": "stdout",
     "output_type": "stream",
     "text": [
      "['abounding', 'abra', 'abraham', 'abrahamic', 'abraxas', 'abroad', 'abrupt', 'abruptly', 'absconded', 'absconding']\n",
      "\n",
      "Cantidad de features: 27536\n",
      "\n"
     ]
    }
   ],
   "source": [
    "count_vec = CountVectorizer(stop_words=stop_words)\n",
    "count_vec.fit(df_txt['history_text'].values.tolist())\n",
    "df_count_vec = count_vec.transform(df_txt['history_text'].values.tolist())\n",
    "df_count_vec.shape\n",
    "\n",
    "# Podemos observar los features que seleccionó el modelo\n",
    "print(count_vec.get_feature_names()[500:510])\n",
    "print()\n",
    "\n",
    "print(\"Cantidad de features: \" + str(len(count_vec.get_feature_names())))\n",
    "print()"
   ]
  },
  {
   "cell_type": "code",
   "execution_count": 13,
<<<<<<< HEAD
   "id": "afe32a89",
   "metadata": {
    "execution": {
     "iopub.execute_input": "2021-09-16T21:52:10.072216Z",
     "iopub.status.busy": "2021-09-16T21:52:10.071572Z",
     "iopub.status.idle": "2021-09-16T21:52:10.220255Z",
     "shell.execute_reply": "2021-09-16T21:52:10.219796Z"
=======
   "id": "8402f93b",
   "metadata": {
    "execution": {
     "iopub.execute_input": "2021-11-03T03:02:41.364343Z",
     "iopub.status.busy": "2021-11-03T03:02:41.363741Z",
     "iopub.status.idle": "2021-11-03T03:02:41.514494Z",
     "shell.execute_reply": "2021-11-03T03:02:41.513872Z"
>>>>>>> d670ebb19cfa4079e6548492fc4a6771210837ee
    }
   },
   "outputs": [
    {
     "name": "stdout",
     "output_type": "stream",
     "text": [
      "(1173, 27536)\n",
      "\n",
      "[[0 0 0 ... 0 0 0]\n",
      " [0 0 0 ... 0 0 0]\n",
      " [0 0 0 ... 0 0 0]\n",
      " ...\n",
      " [0 0 0 ... 0 0 0]\n",
      " [0 0 0 ... 0 0 0]\n",
      " [0 0 0 ... 0 0 0]]\n"
     ]
    }
   ],
   "source": [
    "# Después de ejecutar el modelo obtenemos la siguiente matriz\n",
    "# Las dimensiones son las filas del dataset x la cantidad de features\n",
    "print(df_count_vec.toarray().shape)\n",
    "print()\n",
    "print(df_count_vec.toarray())"
   ]
  },
  {
   "cell_type": "code",
   "execution_count": 14,
<<<<<<< HEAD
   "id": "d13994d0",
   "metadata": {
    "execution": {
     "iopub.execute_input": "2021-09-16T21:52:10.225511Z",
     "iopub.status.busy": "2021-09-16T21:52:10.224898Z",
     "iopub.status.idle": "2021-09-16T21:52:10.472758Z",
     "shell.execute_reply": "2021-09-16T21:52:10.472274Z"
=======
   "id": "c66b4f75",
   "metadata": {
    "execution": {
     "iopub.execute_input": "2021-11-03T03:02:41.520165Z",
     "iopub.status.busy": "2021-11-03T03:02:41.519588Z",
     "iopub.status.idle": "2021-11-03T03:02:41.770249Z",
     "shell.execute_reply": "2021-11-03T03:02:41.769681Z"
>>>>>>> d670ebb19cfa4079e6548492fc4a6771210837ee
    }
   },
   "outputs": [
    {
     "name": "stdout",
     "output_type": "stream",
     "text": [
      "Primera fila de la matriz: [0 0 0 0 0 0 0 0 0 0] \n",
      "\n"
     ]
    },
    {
     "name": "stdout",
     "output_type": "stream",
     "text": [
      "Total features primer fila: 48 \n",
      "\n",
      "Primeras cinco features:\n",
      "\n"
     ]
    },
    {
     "data": {
      "text/plain": [
       "1958     assumed\n",
       "2599      become\n",
       "4988    competed\n",
       "6458      delroy\n",
       "6658     despair\n",
       "dtype: object"
      ]
     },
     "metadata": {},
     "output_type": "display_data"
    }
   ],
   "source": [
    "print(\"Primera fila de la matriz:\", df_count_vec.toarray()[0][:10], \"\\n\")\n",
    "print(\"Total features primer fila:\", df_count_vec.toarray()[0].sum(), \"\\n\")\n",
    "print(\"Primeras cinco features:\\n\")\n",
    "display(\n",
    "    pd.Series(count_vec.get_feature_names())[df_count_vec.toarray()[0] == 1].head(5)\n",
    ")"
   ]
  },
  {
   "cell_type": "code",
   "execution_count": 15,
<<<<<<< HEAD
   "id": "0c329646",
   "metadata": {
    "execution": {
     "iopub.execute_input": "2021-09-16T21:52:10.477726Z",
     "iopub.status.busy": "2021-09-16T21:52:10.477061Z",
     "iopub.status.idle": "2021-09-16T21:52:10.610235Z",
     "shell.execute_reply": "2021-09-16T21:52:10.610669Z"
=======
   "id": "341ba2d4",
   "metadata": {
    "execution": {
     "iopub.execute_input": "2021-11-03T03:02:41.775451Z",
     "iopub.status.busy": "2021-11-03T03:02:41.774474Z",
     "iopub.status.idle": "2021-11-03T03:02:41.912657Z",
     "shell.execute_reply": "2021-11-03T03:02:41.913138Z"
>>>>>>> d670ebb19cfa4079e6548492fc4a6771210837ee
    }
   },
   "outputs": [
    {
     "data": {
      "text/html": [
       "<div>\n",
       "<style scoped>\n",
       "    .dataframe tbody tr th:only-of-type {\n",
       "        vertical-align: middle;\n",
       "    }\n",
       "\n",
       "    .dataframe tbody tr th {\n",
       "        vertical-align: top;\n",
       "    }\n",
       "\n",
       "    .dataframe thead th {\n",
       "        text-align: right;\n",
       "    }\n",
       "</style>\n",
       "<table border=\"1\" class=\"dataframe\">\n",
       "  <thead>\n",
       "    <tr style=\"text-align: right;\">\n",
       "      <th></th>\n",
       "      <th>word</th>\n",
       "      <th>count</th>\n",
       "    </tr>\n",
       "  </thead>\n",
       "  <tbody>\n",
       "    <tr>\n",
       "      <th>0</th>\n",
       "      <td>time</td>\n",
       "      <td>2194</td>\n",
       "    </tr>\n",
       "    <tr>\n",
       "      <th>1</th>\n",
       "      <td>new</td>\n",
       "      <td>2173</td>\n",
       "    </tr>\n",
       "    <tr>\n",
       "      <th>2</th>\n",
       "      <td>man</td>\n",
       "      <td>2038</td>\n",
       "    </tr>\n",
       "    <tr>\n",
       "      <th>3</th>\n",
       "      <td>one</td>\n",
       "      <td>1993</td>\n",
       "    </tr>\n",
       "    <tr>\n",
       "      <th>4</th>\n",
       "      <td>would</td>\n",
       "      <td>1899</td>\n",
       "    </tr>\n",
       "    <tr>\n",
       "      <th>5</th>\n",
       "      <td>later</td>\n",
       "      <td>1735</td>\n",
       "    </tr>\n",
       "    <tr>\n",
       "      <th>6</th>\n",
       "      <td>however</td>\n",
       "      <td>1535</td>\n",
       "    </tr>\n",
       "    <tr>\n",
       "      <th>7</th>\n",
       "      <td>earth</td>\n",
       "      <td>1519</td>\n",
       "    </tr>\n",
       "    <tr>\n",
       "      <th>8</th>\n",
       "      <td>team</td>\n",
       "      <td>1450</td>\n",
       "    </tr>\n",
       "    <tr>\n",
       "      <th>9</th>\n",
       "      <td>men</td>\n",
       "      <td>1369</td>\n",
       "    </tr>\n",
       "  </tbody>\n",
       "</table>\n",
       "</div>"
      ],
      "text/plain": [
       "      word  count\n",
       "0     time   2194\n",
       "1      new   2173\n",
       "2      man   2038\n",
       "3      one   1993\n",
       "4    would   1899\n",
       "5    later   1735\n",
       "6  however   1535\n",
       "7    earth   1519\n",
       "8     team   1450\n",
       "9      men   1369"
      ]
     },
     "execution_count": 15,
     "metadata": {},
     "output_type": "execute_result"
    }
   ],
   "source": [
    "# Palabras por frecuencia de aparicion\n",
    "top_words = pd.Series(\n",
    "    df_count_vec.toarray().sum(axis=0), index=count_vec.get_feature_names()\n",
    ").sort_values(ascending=False)\n",
    "top_words.index.name = 'word'\n",
    "top_words = top_words.to_frame('count').reset_index()\n",
    "top_words.head(10)"
   ]
  },
  {
   "cell_type": "code",
   "execution_count": 16,
<<<<<<< HEAD
   "id": "04cab101",
   "metadata": {
    "execution": {
     "iopub.execute_input": "2021-09-16T21:52:10.627953Z",
     "iopub.status.busy": "2021-09-16T21:52:10.616843Z",
     "iopub.status.idle": "2021-09-16T21:52:10.956716Z",
     "shell.execute_reply": "2021-09-16T21:52:10.955531Z"
=======
   "id": "0b6dae25",
   "metadata": {
    "execution": {
     "iopub.execute_input": "2021-11-03T03:02:41.929055Z",
     "iopub.status.busy": "2021-11-03T03:02:41.921381Z",
     "iopub.status.idle": "2021-11-03T03:02:42.262853Z",
     "shell.execute_reply": "2021-11-03T03:02:42.263332Z"
>>>>>>> d670ebb19cfa4079e6548492fc4a6771210837ee
    }
   },
   "outputs": [
    {
     "data": {
      "image/png": "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\n",
      "text/plain": [
       "<Figure size 900x600 with 1 Axes>"
      ]
     },
     "metadata": {
      "needs_background": "light"
     },
     "output_type": "display_data"
    }
   ],
   "source": [
    "plt.figure(dpi=150)\n",
    "sns.barplot(x=\"word\", y=\"count\", data=top_words[:20])\n",
    "plt.ylabel(\"Frecuencia\")\n",
    "plt.xlabel(\"Palabras\")\n",
    "plt.title(\"Frecuencia de palabras\")\n",
    "plt.xticks(rotation=90)\n",
    "plt.show()"
   ]
  },
  {
   "cell_type": "code",
   "execution_count": 17,
<<<<<<< HEAD
   "id": "08272a0f",
   "metadata": {
    "execution": {
     "iopub.execute_input": "2021-09-16T21:52:10.978613Z",
     "iopub.status.busy": "2021-09-16T21:52:10.967521Z",
     "iopub.status.idle": "2021-09-16T21:52:12.065000Z",
     "shell.execute_reply": "2021-09-16T21:52:12.064515Z"
=======
   "id": "8b005a3f",
   "metadata": {
    "execution": {
     "iopub.execute_input": "2021-11-03T03:02:42.656914Z",
     "iopub.status.busy": "2021-11-03T03:02:42.299708Z",
     "iopub.status.idle": "2021-11-03T03:02:43.414367Z",
     "shell.execute_reply": "2021-11-03T03:02:43.413836Z"
>>>>>>> d670ebb19cfa4079e6548492fc4a6771210837ee
    }
   },
   "outputs": [
    {
     "data": {
      "image/png": "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\n",
      "text/plain": [
       "<Figure size 1080x360 with 1 Axes>"
      ]
     },
     "metadata": {
      "needs_background": "light"
     },
     "output_type": "display_data"
    },
    {
     "data": {
      "text/plain": [
       "<AxesSubplot:xlabel='Samples', ylabel='Counts'>"
      ]
     },
     "execution_count": 17,
     "metadata": {},
     "output_type": "execute_result"
    }
   ],
   "source": [
    "# nltk también ofrece una forma de obtener la frecuencia de las palabras\n",
    "tokenizer = RegexpTokenizer(r'\\w+')\n",
    "pow_tokens = tokenizer.tokenize(' '.join(df_txt.history_text.str.lower()))\n",
    "\n",
    "pow_tokens = [token for token in pow_tokens if token not in stop_words]\n",
    "\n",
    "pow_freq_dist = nltk.FreqDist(pow_tokens)\n",
    "plt.figure(figsize=(15, 5))\n",
    "plt.xticks(fontsize=20)\n",
    "pow_freq_dist.plot(25)"
   ]
  },
  {
   "cell_type": "code",
   "execution_count": 18,
<<<<<<< HEAD
   "id": "92cf72b9",
   "metadata": {
    "execution": {
     "iopub.execute_input": "2021-09-16T21:52:12.072058Z",
     "iopub.status.busy": "2021-09-16T21:52:12.071501Z",
     "iopub.status.idle": "2021-09-16T21:52:12.318758Z",
     "shell.execute_reply": "2021-09-16T21:52:12.319166Z"
=======
   "id": "72c3d548",
   "metadata": {
    "execution": {
     "iopub.execute_input": "2021-11-03T03:02:43.420567Z",
     "iopub.status.busy": "2021-11-03T03:02:43.419999Z",
     "iopub.status.idle": "2021-11-03T03:02:43.673760Z",
     "shell.execute_reply": "2021-11-03T03:02:43.672951Z"
>>>>>>> d670ebb19cfa4079e6548492fc4a6771210837ee
    }
   },
   "outputs": [
    {
     "name": "stdout",
     "output_type": "stream",
     "text": [
      "AUC CV score: 0.718075387270574\n",
      "AUC CV score : 0.718075387270574\n"
     ]
    },
    {
     "data": {
      "image/png": "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\n",
      "text/plain": [
       "<Figure size 648x360 with 2 Axes>"
      ]
     },
     "metadata": {
      "needs_background": "light"
     },
     "output_type": "display_data"
    }
   ],
   "source": [
    "cv, pred = helper(df_count_vec, df_txt.alignment, MultinomialNB())\n",
    "print(\"AUC CV score:\", cv)\n",
    "count_acc_mnb, count_auc_cv_mnb = plotting_helper(cv, pred, df_txt.alignment.values)"
   ]
  },
  {
   "cell_type": "markdown",
<<<<<<< HEAD
   "id": "f66bf1d6",
=======
   "id": "ea9b94f9",
>>>>>>> d670ebb19cfa4079e6548492fc4a6771210837ee
   "metadata": {},
   "source": [
    "### Otra opción"
   ]
  },
  {
   "cell_type": "code",
   "execution_count": 19,
<<<<<<< HEAD
   "id": "a9cfd5de",
   "metadata": {
    "execution": {
     "iopub.execute_input": "2021-09-16T21:52:12.328351Z",
     "iopub.status.busy": "2021-09-16T21:52:12.327743Z",
     "iopub.status.idle": "2021-09-16T21:52:22.743468Z",
     "shell.execute_reply": "2021-09-16T21:52:22.744143Z"
=======
   "id": "fcb2174b",
   "metadata": {
    "execution": {
     "iopub.execute_input": "2021-11-03T03:02:43.683231Z",
     "iopub.status.busy": "2021-11-03T03:02:43.676580Z",
     "iopub.status.idle": "2021-11-03T03:02:53.880545Z",
     "shell.execute_reply": "2021-11-03T03:02:53.879733Z"
>>>>>>> d670ebb19cfa4079e6548492fc4a6771210837ee
    }
   },
   "outputs": [
    {
     "name": "stderr",
     "output_type": "stream",
     "text": [
      "/opt/hostedtoolcache/Python/3.7.12/x64/lib/python3.7/site-packages/sklearn/feature_extraction/text.py:484: UserWarning: The parameter 'token_pattern' will not be used since 'tokenizer' is not None'\n",
      "  warnings.warn(\"The parameter 'token_pattern' will not be used\"\n"
     ]
    },
    {
     "data": {
      "text/plain": [
       "(1173, 342211)"
      ]
     },
     "execution_count": 19,
     "metadata": {},
     "output_type": "execute_result"
    }
   ],
   "source": [
    "class LemmaTokenizer:\n",
    "    def __init__(self):\n",
    "        self.wnl = WordNetLemmatizer()\n",
    "        self.rt = RegexpTokenizer(r'\\w+')\n",
    "\n",
    "    def __call__(self, doc):\n",
    "        return [self.wnl.lemmatize(t) for t in self.rt.tokenize(doc)]\n",
    "\n",
    "\n",
    "vect = CountVectorizer()\n",
    "lemm = LemmaTokenizer()\n",
    "stop_words_new = list(chain.from_iterable(lemm(word) for word in stop_words))\n",
    "\n",
    "count_vec_lemm = CountVectorizer(\n",
    "    stop_words=stop_words_new, tokenizer=lemm, ngram_range=(2, 2)\n",
    ")\n",
    "count_vec_lemm.fit(df_txt['history_text'].values.tolist())\n",
    "df_count_vec_lemm = count_vec_lemm.transform(df_txt['history_text'].values.tolist())\n",
    "df_count_vec_lemm.shape"
   ]
  },
  {
   "cell_type": "code",
   "execution_count": 20,
<<<<<<< HEAD
   "id": "a6646de8",
   "metadata": {
    "execution": {
     "iopub.execute_input": "2021-09-16T21:52:22.749362Z",
     "iopub.status.busy": "2021-09-16T21:52:22.748760Z",
     "iopub.status.idle": "2021-09-16T21:52:24.760674Z",
     "shell.execute_reply": "2021-09-16T21:52:24.760163Z"
=======
   "id": "fbd234ad",
   "metadata": {
    "execution": {
     "iopub.execute_input": "2021-11-03T03:02:53.886134Z",
     "iopub.status.busy": "2021-11-03T03:02:53.885249Z",
     "iopub.status.idle": "2021-11-03T03:02:55.902017Z",
     "shell.execute_reply": "2021-11-03T03:02:55.902526Z"
>>>>>>> d670ebb19cfa4079e6548492fc4a6771210837ee
    }
   },
   "outputs": [
    {
     "data": {
      "text/html": [
       "<div>\n",
       "<style scoped>\n",
       "    .dataframe tbody tr th:only-of-type {\n",
       "        vertical-align: middle;\n",
       "    }\n",
       "\n",
       "    .dataframe tbody tr th {\n",
       "        vertical-align: top;\n",
       "    }\n",
       "\n",
       "    .dataframe thead th {\n",
       "        text-align: right;\n",
       "    }\n",
       "</style>\n",
       "<table border=\"1\" class=\"dataframe\">\n",
       "  <thead>\n",
       "    <tr style=\"text-align: right;\">\n",
       "      <th></th>\n",
       "      <th>word</th>\n",
       "      <th>count</th>\n",
       "    </tr>\n",
       "  </thead>\n",
       "  <tbody>\n",
       "    <tr>\n",
       "      <th>0</th>\n",
       "      <td>x men</td>\n",
       "      <td>1137</td>\n",
       "    </tr>\n",
       "    <tr>\n",
       "      <th>1</th>\n",
       "      <td>spider man</td>\n",
       "      <td>592</td>\n",
       "    </tr>\n",
       "    <tr>\n",
       "      <th>2</th>\n",
       "      <td>new york</td>\n",
       "      <td>328</td>\n",
       "    </tr>\n",
       "    <tr>\n",
       "      <th>3</th>\n",
       "      <td>iron man</td>\n",
       "      <td>295</td>\n",
       "    </tr>\n",
       "    <tr>\n",
       "      <th>4</th>\n",
       "      <td>captain america</td>\n",
       "      <td>274</td>\n",
       "    </tr>\n",
       "    <tr>\n",
       "      <th>5</th>\n",
       "      <td>h e</td>\n",
       "      <td>224</td>\n",
       "    </tr>\n",
       "    <tr>\n",
       "      <th>6</th>\n",
       "      <td>wonder woman</td>\n",
       "      <td>213</td>\n",
       "    </tr>\n",
       "    <tr>\n",
       "      <th>7</th>\n",
       "      <td>e l</td>\n",
       "      <td>210</td>\n",
       "    </tr>\n",
       "    <tr>\n",
       "      <th>8</th>\n",
       "      <td>big bos</td>\n",
       "      <td>209</td>\n",
       "    </tr>\n",
       "    <tr>\n",
       "      <th>9</th>\n",
       "      <td>justice league</td>\n",
       "      <td>200</td>\n",
       "    </tr>\n",
       "  </tbody>\n",
       "</table>\n",
       "</div>"
      ],
      "text/plain": [
       "              word  count\n",
       "0            x men   1137\n",
       "1       spider man    592\n",
       "2         new york    328\n",
       "3         iron man    295\n",
       "4  captain america    274\n",
       "5              h e    224\n",
       "6     wonder woman    213\n",
       "7              e l    210\n",
       "8          big bos    209\n",
       "9   justice league    200"
      ]
     },
     "execution_count": 20,
     "metadata": {},
     "output_type": "execute_result"
    }
   ],
   "source": [
    "# Palabras por frecuencia de aparicion\n",
    "top_words = pd.Series(\n",
    "    df_count_vec_lemm.toarray().sum(axis=0), index=count_vec_lemm.get_feature_names()\n",
    ").sort_values(ascending=False)\n",
    "top_words.index.name = 'word'\n",
    "top_words = top_words.to_frame('count').reset_index()\n",
    "top_words.head(10)"
   ]
  },
  {
   "cell_type": "code",
   "execution_count": 21,
<<<<<<< HEAD
   "id": "e2150cde",
   "metadata": {
    "execution": {
     "iopub.execute_input": "2021-09-16T21:52:24.806278Z",
     "iopub.status.busy": "2021-09-16T21:52:24.803191Z",
     "iopub.status.idle": "2021-09-16T21:52:25.135878Z",
     "shell.execute_reply": "2021-09-16T21:52:25.134915Z"
=======
   "id": "43f0a04b",
   "metadata": {
    "execution": {
     "iopub.execute_input": "2021-11-03T03:02:55.940483Z",
     "iopub.status.busy": "2021-11-03T03:02:55.905003Z",
     "iopub.status.idle": "2021-11-03T03:02:56.280717Z",
     "shell.execute_reply": "2021-11-03T03:02:56.281173Z"
>>>>>>> d670ebb19cfa4079e6548492fc4a6771210837ee
    }
   },
   "outputs": [
    {
     "data": {
      "image/png": "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\n",
      "text/plain": [
       "<Figure size 900x600 with 1 Axes>"
      ]
     },
     "metadata": {
      "needs_background": "light"
     },
     "output_type": "display_data"
    }
   ],
   "source": [
    "plt.figure(dpi=150)\n",
    "sns.barplot(x=\"word\", y=\"count\", data=top_words[:20])\n",
    "plt.ylabel(\"Frecuencia\")\n",
    "plt.xlabel(\"Palabras\")\n",
    "plt.title(\"Frecuencia de palabras\")\n",
    "plt.xticks(rotation=90)\n",
    "plt.show()"
   ]
  },
  {
   "cell_type": "code",
   "execution_count": 22,
<<<<<<< HEAD
   "id": "7800c9c9",
   "metadata": {
    "execution": {
     "iopub.execute_input": "2021-09-16T21:52:25.142095Z",
     "iopub.status.busy": "2021-09-16T21:52:25.141529Z",
     "iopub.status.idle": "2021-09-16T21:52:25.456596Z",
     "shell.execute_reply": "2021-09-16T21:52:25.456111Z"
=======
   "id": "7570ff9c",
   "metadata": {
    "execution": {
     "iopub.execute_input": "2021-11-03T03:02:56.287018Z",
     "iopub.status.busy": "2021-11-03T03:02:56.286438Z",
     "iopub.status.idle": "2021-11-03T03:02:56.617212Z",
     "shell.execute_reply": "2021-11-03T03:02:56.617684Z"
>>>>>>> d670ebb19cfa4079e6548492fc4a6771210837ee
    }
   },
   "outputs": [
    {
     "name": "stdout",
     "output_type": "stream",
     "text": [
      "AUC CV score: 0.5529482031899912\n",
      "AUC CV score : 0.5529482031899912\n"
     ]
    },
    {
     "data": {
      "image/png": "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\n",
      "text/plain": [
       "<Figure size 648x360 with 2 Axes>"
      ]
     },
     "metadata": {
      "needs_background": "light"
     },
     "output_type": "display_data"
    }
   ],
   "source": [
    "cv_lemm, pred_lemm = helper(df_count_vec_lemm, df_txt.alignment, MultinomialNB())\n",
    "print(\"AUC CV score:\", cv_lemm)\n",
    "count_acc_mnb, count_auc_cv_mnb = plotting_helper(\n",
    "    cv_lemm, pred_lemm, df_txt.alignment.values\n",
    ")"
   ]
  },
  {
   "cell_type": "markdown",
<<<<<<< HEAD
   "id": "1faf5e2b",
=======
   "id": "7510d47e",
>>>>>>> d670ebb19cfa4079e6548492fc4a6771210837ee
   "metadata": {},
   "source": [
    "### Cómo aplicamos TF-IDF\n",
    "\n",
    "Como vimos antes CountVectorizer nos devuelve la cantidad de apariciones de cada palabra en un documento. De esta forma, nos devuelve la _frecuencia_ de cada palabra."
   ]
  },
  {
   "cell_type": "code",
   "execution_count": 23,
<<<<<<< HEAD
   "id": "fca01aab",
   "metadata": {
    "execution": {
     "iopub.execute_input": "2021-09-16T21:52:25.462311Z",
     "iopub.status.busy": "2021-09-16T21:52:25.461756Z",
     "iopub.status.idle": "2021-09-16T21:52:25.865538Z",
     "shell.execute_reply": "2021-09-16T21:52:25.864882Z"
=======
   "id": "3a7fde7a",
   "metadata": {
    "execution": {
     "iopub.execute_input": "2021-11-03T03:02:56.622809Z",
     "iopub.status.busy": "2021-11-03T03:02:56.622237Z",
     "iopub.status.idle": "2021-11-03T03:02:57.019411Z",
     "shell.execute_reply": "2021-11-03T03:02:57.018885Z"
>>>>>>> d670ebb19cfa4079e6548492fc4a6771210837ee
    }
   },
   "outputs": [
    {
     "name": "stdout",
     "output_type": "stream",
     "text": [
      "(1173, 27536)\n",
      "\n",
      "[[0. 0. 0. ... 0. 0. 0.]\n",
      " [0. 0. 0. ... 0. 0. 0.]\n",
      " [0. 0. 0. ... 0. 0. 0.]\n",
      " ...\n",
      " [0. 0. 0. ... 0. 0. 0.]\n",
      " [0. 0. 0. ... 0. 0. 0.]\n",
      " [0. 0. 0. ... 0. 0. 0.]]\n"
     ]
    }
   ],
   "source": [
    "# Al resultado de CountVectorizer le aplicamos TfidfTransformer para obtener el valor de TF-IDF\n",
    "tfidf_transformer = TfidfTransformer()\n",
    "tfidf_transformer.fit(df_count_vec)\n",
    "tf_idf_vector = tfidf_transformer.transform(df_count_vec)\n",
    "\n",
    "print(tf_idf_vector.toarray().shape)\n",
    "print()\n",
    "print(tf_idf_vector.toarray())"
   ]
  },
  {
   "cell_type": "code",
   "execution_count": 24,
<<<<<<< HEAD
   "id": "90241428",
   "metadata": {
    "execution": {
     "iopub.execute_input": "2021-09-16T21:52:25.884861Z",
     "iopub.status.busy": "2021-09-16T21:52:25.870706Z",
     "iopub.status.idle": "2021-09-16T21:52:25.906936Z",
     "shell.execute_reply": "2021-09-16T21:52:25.905930Z"
=======
   "id": "83a29184",
   "metadata": {
    "execution": {
     "iopub.execute_input": "2021-11-03T03:02:57.026719Z",
     "iopub.status.busy": "2021-11-03T03:02:57.022158Z",
     "iopub.status.idle": "2021-11-03T03:02:57.065145Z",
     "shell.execute_reply": "2021-11-03T03:02:57.065586Z"
>>>>>>> d670ebb19cfa4079e6548492fc4a6771210837ee
    }
   },
   "outputs": [
    {
     "data": {
      "text/html": [
       "<div>\n",
       "<style scoped>\n",
       "    .dataframe tbody tr th:only-of-type {\n",
       "        vertical-align: middle;\n",
       "    }\n",
       "\n",
       "    .dataframe tbody tr th {\n",
       "        vertical-align: top;\n",
       "    }\n",
       "\n",
       "    .dataframe thead th {\n",
       "        text-align: right;\n",
       "    }\n",
       "</style>\n",
       "<table border=\"1\" class=\"dataframe\">\n",
       "  <thead>\n",
       "    <tr style=\"text-align: right;\">\n",
       "      <th></th>\n",
       "      <th>tfidf</th>\n",
       "    </tr>\n",
       "  </thead>\n",
       "  <tbody>\n",
       "    <tr>\n",
       "      <th>garrett</th>\n",
       "      <td>0.428016</td>\n",
       "    </tr>\n",
       "    <tr>\n",
       "      <th>tremont</th>\n",
       "      <td>0.371022</td>\n",
       "    </tr>\n",
       "    <tr>\n",
       "      <th>disabused</th>\n",
       "      <td>0.196303</td>\n",
       "    </tr>\n",
       "    <tr>\n",
       "      <th>delroy</th>\n",
       "      <td>0.196303</td>\n",
       "    </tr>\n",
       "    <tr>\n",
       "      <th>steroids</th>\n",
       "      <td>0.196303</td>\n",
       "    </tr>\n",
       "    <tr>\n",
       "      <th>...</th>\n",
       "      <td>...</td>\n",
       "    </tr>\n",
       "    <tr>\n",
       "      <th>festival</th>\n",
       "      <td>0.000000</td>\n",
       "    </tr>\n",
       "    <tr>\n",
       "      <th>festering</th>\n",
       "      <td>0.000000</td>\n",
       "    </tr>\n",
       "    <tr>\n",
       "      <th>fervor</th>\n",
       "      <td>0.000000</td>\n",
       "    </tr>\n",
       "    <tr>\n",
       "      <th>fertile</th>\n",
       "      <td>0.000000</td>\n",
       "    </tr>\n",
       "    <tr>\n",
       "      <th>駄犬</th>\n",
       "      <td>0.000000</td>\n",
       "    </tr>\n",
       "  </tbody>\n",
       "</table>\n",
       "<p>27536 rows × 1 columns</p>\n",
       "</div>"
      ],
      "text/plain": [
       "              tfidf\n",
       "garrett    0.428016\n",
       "tremont    0.371022\n",
       "disabused  0.196303\n",
       "delroy     0.196303\n",
       "steroids   0.196303\n",
       "...             ...\n",
       "festival   0.000000\n",
       "festering  0.000000\n",
       "fervor     0.000000\n",
       "fertile    0.000000\n",
       "駄犬         0.000000\n",
       "\n",
       "[27536 rows x 1 columns]"
      ]
     },
     "execution_count": 24,
     "metadata": {},
     "output_type": "execute_result"
    }
   ],
   "source": [
    "first_document_vector = tf_idf_vector[0]\n",
    "\n",
    "# Imprimimos el resultado para el primer documento\n",
    "df = pd.DataFrame(\n",
    "    first_document_vector.T.todense(),\n",
    "    index=count_vec.get_feature_names(),\n",
    "    columns=[\"tfidf\"],\n",
    ")\n",
    "df.sort_values(by=[\"tfidf\"], ascending=False)"
   ]
  },
  {
   "cell_type": "code",
   "execution_count": 25,
<<<<<<< HEAD
   "id": "9692465e",
   "metadata": {
    "execution": {
     "iopub.execute_input": "2021-09-16T21:52:25.911995Z",
     "iopub.status.busy": "2021-09-16T21:52:25.911486Z",
     "iopub.status.idle": "2021-09-16T21:52:25.916967Z",
     "shell.execute_reply": "2021-09-16T21:52:25.916201Z"
=======
   "id": "3068ec46",
   "metadata": {
    "execution": {
     "iopub.execute_input": "2021-11-03T03:02:57.073840Z",
     "iopub.status.busy": "2021-11-03T03:02:57.072813Z",
     "iopub.status.idle": "2021-11-03T03:02:57.076627Z",
     "shell.execute_reply": "2021-11-03T03:02:57.077098Z"
>>>>>>> d670ebb19cfa4079e6548492fc4a6771210837ee
    }
   },
   "outputs": [
    {
     "data": {
      "text/plain": [
       "\"Delroy Garrett, Jr. grew up to become a track star and competed in the Olympic Games. After he tested positive for steroids, he lost his three gold medals. In despair, he turned to religion, specifically the Triune Understanding. This group's founder, Jonathan Tremont, had found one of three fragments of a mysterious object and used it to give Garrett the powers of 3-D Man. Garrett assumed that his powers were because of his newfound spiritual enlightenment, and Tremont never disabused him of the notion.\""
      ]
     },
     "execution_count": 25,
     "metadata": {},
     "output_type": "execute_result"
    }
   ],
   "source": [
    "df_txt.loc[0]['history_text']"
   ]
  },
  {
   "cell_type": "markdown",
<<<<<<< HEAD
   "id": "0e5a4578",
=======
   "id": "5f173c89",
>>>>>>> d670ebb19cfa4079e6548492fc4a6771210837ee
   "metadata": {},
   "source": [
    "Vemos que las palabras que tienen valor 0 son las que no se encuentran en el documento al que hace referencia el vector.\n",
    "Mientras menos común sea la palabra en nuestro corpus, mayor puntaje va a tener."
   ]
  },
  {
   "cell_type": "code",
   "execution_count": 26,
<<<<<<< HEAD
   "id": "e891b377",
   "metadata": {
    "execution": {
     "iopub.execute_input": "2021-09-16T21:52:25.929895Z",
     "iopub.status.busy": "2021-09-16T21:52:25.924541Z",
     "iopub.status.idle": "2021-09-16T21:52:27.743893Z",
     "shell.execute_reply": "2021-09-16T21:52:27.743398Z"
=======
   "id": "f48c6fa6",
   "metadata": {
    "execution": {
     "iopub.execute_input": "2021-11-03T03:02:57.113388Z",
     "iopub.status.busy": "2021-11-03T03:02:57.090184Z",
     "iopub.status.idle": "2021-11-03T03:02:58.903762Z",
     "shell.execute_reply": "2021-11-03T03:02:58.904572Z"
>>>>>>> d670ebb19cfa4079e6548492fc4a6771210837ee
    }
   },
   "outputs": [
    {
     "name": "stdout",
     "output_type": "stream",
     "text": [
      "(1173, 27536)\n",
      "\n"
     ]
    },
    {
     "name": "stdout",
     "output_type": "stream",
     "text": [
      "[[0. 0. 0. ... 0. 0. 0.]\n",
      " [0. 0. 0. ... 0. 0. 0.]\n",
      " [0. 0. 0. ... 0. 0. 0.]\n",
      " ...\n",
      " [0. 0. 0. ... 0. 0. 0.]\n",
      " [0. 0. 0. ... 0. 0. 0.]\n",
      " [0. 0. 0. ... 0. 0. 0.]]\n"
     ]
    }
   ],
   "source": [
    "# Otra opción es usar directamente TfidfVectorizer que es el equivalente a usar CountVectorizer + TfidfTransformer\n",
    "\n",
    "tfidf_vec = TfidfVectorizer(ngram_range=(1, 1), stop_words=stop_words)\n",
    "tfidf_vec.fit(df_txt['history_text'].values.tolist())\n",
    "df_tfidf_vec = tfidf_vec.transform(df_txt['history_text'].values.tolist())\n",
    "\n",
    "print(df_tfidf_vec.toarray().shape)\n",
    "print()\n",
    "print(df_tfidf_vec.toarray())"
   ]
  },
  {
   "cell_type": "code",
   "execution_count": 27,
<<<<<<< HEAD
   "id": "382a02da",
   "metadata": {
    "execution": {
     "iopub.execute_input": "2021-09-16T21:52:27.749156Z",
     "iopub.status.busy": "2021-09-16T21:52:27.746563Z",
     "iopub.status.idle": "2021-09-16T21:52:27.787116Z",
     "shell.execute_reply": "2021-09-16T21:52:27.787547Z"
=======
   "id": "c647ae7e",
   "metadata": {
    "execution": {
     "iopub.execute_input": "2021-11-03T03:02:58.910803Z",
     "iopub.status.busy": "2021-11-03T03:02:58.909864Z",
     "iopub.status.idle": "2021-11-03T03:02:58.953064Z",
     "shell.execute_reply": "2021-11-03T03:02:58.952539Z"
>>>>>>> d670ebb19cfa4079e6548492fc4a6771210837ee
    }
   },
   "outputs": [
    {
     "data": {
      "text/html": [
       "<div>\n",
       "<style scoped>\n",
       "    .dataframe tbody tr th:only-of-type {\n",
       "        vertical-align: middle;\n",
       "    }\n",
       "\n",
       "    .dataframe tbody tr th {\n",
       "        vertical-align: top;\n",
       "    }\n",
       "\n",
       "    .dataframe thead th {\n",
       "        text-align: right;\n",
       "    }\n",
       "</style>\n",
       "<table border=\"1\" class=\"dataframe\">\n",
       "  <thead>\n",
       "    <tr style=\"text-align: right;\">\n",
       "      <th></th>\n",
       "      <th>tfidf</th>\n",
       "    </tr>\n",
       "  </thead>\n",
       "  <tbody>\n",
       "    <tr>\n",
       "      <th>garrett</th>\n",
       "      <td>0.428016</td>\n",
       "    </tr>\n",
       "    <tr>\n",
       "      <th>tremont</th>\n",
       "      <td>0.371022</td>\n",
       "    </tr>\n",
       "    <tr>\n",
       "      <th>disabused</th>\n",
       "      <td>0.196303</td>\n",
       "    </tr>\n",
       "    <tr>\n",
       "      <th>delroy</th>\n",
       "      <td>0.196303</td>\n",
       "    </tr>\n",
       "    <tr>\n",
       "      <th>steroids</th>\n",
       "      <td>0.196303</td>\n",
       "    </tr>\n",
       "    <tr>\n",
       "      <th>...</th>\n",
       "      <td>...</td>\n",
       "    </tr>\n",
       "    <tr>\n",
       "      <th>festival</th>\n",
       "      <td>0.000000</td>\n",
       "    </tr>\n",
       "    <tr>\n",
       "      <th>festering</th>\n",
       "      <td>0.000000</td>\n",
       "    </tr>\n",
       "    <tr>\n",
       "      <th>fervor</th>\n",
       "      <td>0.000000</td>\n",
       "    </tr>\n",
       "    <tr>\n",
       "      <th>fertile</th>\n",
       "      <td>0.000000</td>\n",
       "    </tr>\n",
       "    <tr>\n",
       "      <th>駄犬</th>\n",
       "      <td>0.000000</td>\n",
       "    </tr>\n",
       "  </tbody>\n",
       "</table>\n",
       "<p>27536 rows × 1 columns</p>\n",
       "</div>"
      ],
      "text/plain": [
       "              tfidf\n",
       "garrett    0.428016\n",
       "tremont    0.371022\n",
       "disabused  0.196303\n",
       "delroy     0.196303\n",
       "steroids   0.196303\n",
       "...             ...\n",
       "festival   0.000000\n",
       "festering  0.000000\n",
       "fervor     0.000000\n",
       "fertile    0.000000\n",
       "駄犬         0.000000\n",
       "\n",
       "[27536 rows x 1 columns]"
      ]
     },
     "execution_count": 27,
     "metadata": {},
     "output_type": "execute_result"
    }
   ],
   "source": [
    "df_tfidf_first_document_vector = df_tfidf_vec[0]\n",
    "\n",
    "# Imprimimos el resultado para el primer documento\n",
    "df = pd.DataFrame(\n",
    "    df_tfidf_first_document_vector.T.todense(),\n",
    "    index=tfidf_vec.get_feature_names(),\n",
    "    columns=[\"tfidf\"],\n",
    ")\n",
    "df.sort_values(by=[\"tfidf\"], ascending=False)"
   ]
  },
  {
   "cell_type": "code",
   "execution_count": 28,
<<<<<<< HEAD
   "id": "6985cebf",
   "metadata": {
    "execution": {
     "iopub.execute_input": "2021-09-16T21:52:27.792977Z",
     "iopub.status.busy": "2021-09-16T21:52:27.792409Z",
     "iopub.status.idle": "2021-09-16T21:52:28.026447Z",
     "shell.execute_reply": "2021-09-16T21:52:28.026985Z"
=======
   "id": "24488147",
   "metadata": {
    "execution": {
     "iopub.execute_input": "2021-11-03T03:02:58.959351Z",
     "iopub.status.busy": "2021-11-03T03:02:58.958457Z",
     "iopub.status.idle": "2021-11-03T03:02:59.199036Z",
     "shell.execute_reply": "2021-11-03T03:02:59.198526Z"
>>>>>>> d670ebb19cfa4079e6548492fc4a6771210837ee
    }
   },
   "outputs": [
    {
     "name": "stdout",
     "output_type": "stream",
     "text": [
      "AUC CV score: 0.7408494205220654\n",
      "AUC CV score : 0.7408494205220654\n"
     ]
    },
    {
     "data": {
      "image/png": "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\n",
      "text/plain": [
       "<Figure size 648x360 with 2 Axes>"
      ]
     },
     "metadata": {
      "needs_background": "light"
     },
     "output_type": "display_data"
    }
   ],
   "source": [
    "cv, pred = helper(df_tfidf_vec, df_txt.alignment, MultinomialNB())\n",
    "print(\"AUC CV score:\", cv)\n",
    "count_acc_mnb, count_auc_cv_mnb = plotting_helper(cv, pred, df_txt.alignment.values)"
   ]
  }
 ],
 "metadata": {
  "jupytext": {
   "encoding": "# -*- coding: utf-8 -*-",
   "formats": "ipynb,py:light"
  },
  "kernelspec": {
   "display_name": "Python 3",
   "language": "python",
   "name": "python3"
  },
  "language_info": {
   "codemirror_mode": {
    "name": "ipython",
    "version": 3
   },
   "file_extension": ".py",
   "mimetype": "text/x-python",
   "name": "python",
   "nbconvert_exporter": "python",
   "pygments_lexer": "ipython3",
   "version": "3.7.12"
  }
 },
 "nbformat": 4,
 "nbformat_minor": 5
}
