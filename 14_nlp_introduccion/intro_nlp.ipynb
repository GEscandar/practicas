{
 "cells": [
  {
   "cell_type": "markdown",
   "id": "0ae221b6",
   "metadata": {},
   "source": [
    "# Introducción a NLP\n",
    "\n",
    "En este notebook vamos a dar los primeros pasos en el procesamiento de lenguaje natural. Para eso, vamos a utilizar un [dataset](https://github.com/jbesomi/texthero/tree/master/dataset/Superheroes%20NLP%20Dataset) de superhéroes para intentar predecir si un superhéroe es bueno o malo en base a la descripción de su historia, utilizando Bag of Words y TF-IDF."
   ]
  },
  {
   "cell_type": "code",
   "execution_count": 1,
   "id": "7fc527d4",
   "metadata": {
    "execution": {
     "iopub.execute_input": "2021-05-20T16:26:46.842317Z",
     "iopub.status.busy": "2021-05-20T16:26:46.841742Z",
     "iopub.status.idle": "2021-05-20T16:26:48.845267Z",
     "shell.execute_reply": "2021-05-20T16:26:48.845670Z"
    }
   },
   "outputs": [
    {
     "name": "stderr",
     "output_type": "stream",
     "text": [
      "[nltk_data] Downloading package stopwords to /home/runner/nltk_data...\n",
      "[nltk_data]   Package stopwords is already up-to-date!\n",
      "[nltk_data] Downloading package wordnet to /home/runner/nltk_data...\n"
     ]
    },
    {
     "name": "stderr",
     "output_type": "stream",
     "text": [
      "[nltk_data]   Unzipping corpora/wordnet.zip.\n"
     ]
    },
    {
     "name": "stderr",
     "output_type": "stream",
     "text": [
      "[nltk_data] Downloading package punkt to /home/runner/nltk_data...\n"
     ]
    },
    {
     "name": "stderr",
     "output_type": "stream",
     "text": [
      "[nltk_data]   Unzipping tokenizers/punkt.zip.\n"
     ]
    },
    {
     "data": {
      "text/plain": [
       "True"
      ]
     },
     "execution_count": 1,
     "metadata": {},
     "output_type": "execute_result"
    }
   ],
   "source": [
    "import matplotlib.pyplot as plt\n",
    "import nltk\n",
    "import numpy as np\n",
    "import pandas as pd\n",
    "import seaborn as sns\n",
    "from nltk import word_tokenize\n",
    "from nltk.corpus import stopwords\n",
    "from nltk.stem import WordNetLemmatizer\n",
    "from nltk.stem.snowball import SnowballStemmer\n",
    "from nltk.tokenize import (\n",
    "    RegexpTokenizer,\n",
    "    TreebankWordTokenizer,\n",
    "    WhitespaceTokenizer,\n",
    "    WordPunctTokenizer,\n",
    ")\n",
    "from sklearn.feature_extraction.text import (\n",
    "    CountVectorizer,\n",
    "    TfidfVectorizer,\n",
    "    TfidfTransformer,\n",
    ")\n",
    "from sklearn.metrics import accuracy_score, confusion_matrix, roc_auc_score\n",
    "from sklearn.model_selection import KFold\n",
    "from sklearn.naive_bayes import MultinomialNB\n",
    "from sklearn.preprocessing import LabelEncoder\n",
    "from itertools import chain\n",
    "\n",
    "pd.options.display.max_columns = None\n",
    "nltk.download('stopwords')\n",
    "nltk.download('wordnet')\n",
    "nltk.download('punkt')"
   ]
  },
  {
   "cell_type": "code",
   "execution_count": 2,
   "id": "8c7359a7",
   "metadata": {
    "execution": {
     "iopub.execute_input": "2021-05-20T16:26:48.849981Z",
     "iopub.status.busy": "2021-05-20T16:26:48.849134Z",
     "iopub.status.idle": "2021-05-20T16:26:49.330929Z",
     "shell.execute_reply": "2021-05-20T16:26:49.331296Z"
    }
   },
   "outputs": [
    {
     "data": {
      "text/html": [
       "<div>\n",
       "<style scoped>\n",
       "    .dataframe tbody tr th:only-of-type {\n",
       "        vertical-align: middle;\n",
       "    }\n",
       "\n",
       "    .dataframe tbody tr th {\n",
       "        vertical-align: top;\n",
       "    }\n",
       "\n",
       "    .dataframe thead th {\n",
       "        text-align: right;\n",
       "    }\n",
       "</style>\n",
       "<table border=\"1\" class=\"dataframe\">\n",
       "  <thead>\n",
       "    <tr style=\"text-align: right;\">\n",
       "      <th></th>\n",
       "      <th>name</th>\n",
       "      <th>real_name</th>\n",
       "      <th>full_name</th>\n",
       "      <th>overall_score</th>\n",
       "      <th>history_text</th>\n",
       "      <th>powers_text</th>\n",
       "      <th>intelligence_score</th>\n",
       "      <th>strength_score</th>\n",
       "      <th>speed_score</th>\n",
       "      <th>durability_score</th>\n",
       "      <th>power_score</th>\n",
       "      <th>combat_score</th>\n",
       "      <th>superpowers</th>\n",
       "      <th>alter_egos</th>\n",
       "      <th>aliases</th>\n",
       "      <th>place_of_birth</th>\n",
       "      <th>first_appearance</th>\n",
       "      <th>creator</th>\n",
       "      <th>alignment</th>\n",
       "      <th>occupation</th>\n",
       "      <th>base</th>\n",
       "      <th>teams</th>\n",
       "      <th>relatives</th>\n",
       "      <th>gender</th>\n",
       "      <th>type_race</th>\n",
       "      <th>height</th>\n",
       "      <th>weight</th>\n",
       "      <th>eye_color</th>\n",
       "      <th>hair_color</th>\n",
       "      <th>skin_color</th>\n",
       "      <th>img</th>\n",
       "      <th>has_electrokinesis</th>\n",
       "      <th>has_energy_constructs</th>\n",
       "      <th>has_mind_control_resistance</th>\n",
       "      <th>has_matter_manipulation</th>\n",
       "      <th>has_telepathy_resistance</th>\n",
       "      <th>has_mind_control</th>\n",
       "      <th>has_enhanced_hearing</th>\n",
       "      <th>has_dimensional_travel</th>\n",
       "      <th>has_element_control</th>\n",
       "      <th>has_size_changing</th>\n",
       "      <th>has_fire_resistance</th>\n",
       "      <th>has_fire_control</th>\n",
       "      <th>has_dexterity</th>\n",
       "      <th>has_reality_warping</th>\n",
       "      <th>has_illusions</th>\n",
       "      <th>has_energy_beams</th>\n",
       "      <th>has_peak_human_condition</th>\n",
       "      <th>has_shapeshifting</th>\n",
       "      <th>has_heat_resistance</th>\n",
       "      <th>has_jump</th>\n",
       "      <th>has_self-sustenance</th>\n",
       "      <th>has_energy_absorption</th>\n",
       "      <th>has_cold_resistance</th>\n",
       "      <th>has_magic</th>\n",
       "      <th>has_telekinesis</th>\n",
       "      <th>has_toxin_and_disease_resistance</th>\n",
       "      <th>has_telepathy</th>\n",
       "      <th>has_regeneration</th>\n",
       "      <th>has_immortality</th>\n",
       "      <th>has_teleportation</th>\n",
       "      <th>has_force_fields</th>\n",
       "      <th>has_energy_manipulation</th>\n",
       "      <th>has_endurance</th>\n",
       "      <th>has_longevity</th>\n",
       "      <th>has_weapon-based_powers</th>\n",
       "      <th>has_energy_blasts</th>\n",
       "      <th>has_enhanced_senses</th>\n",
       "      <th>has_invulnerability</th>\n",
       "      <th>has_stealth</th>\n",
       "      <th>has_marksmanship</th>\n",
       "      <th>has_flight</th>\n",
       "      <th>has_accelerated_healing</th>\n",
       "      <th>has_weapons_master</th>\n",
       "      <th>has_intelligence</th>\n",
       "      <th>has_reflexes</th>\n",
       "      <th>has_super_speed</th>\n",
       "      <th>has_durability</th>\n",
       "      <th>has_stamina</th>\n",
       "      <th>has_agility</th>\n",
       "      <th>has_super_strength</th>\n",
       "    </tr>\n",
       "  </thead>\n",
       "  <tbody>\n",
       "    <tr>\n",
       "      <th>0</th>\n",
       "      <td>3-D Man</td>\n",
       "      <td>Delroy Garrett, Jr.</td>\n",
       "      <td>Delroy Garrett, Jr.</td>\n",
       "      <td>6</td>\n",
       "      <td>Delroy Garrett, Jr. grew up to become a track star and competed in the Olympic Games. After he t...</td>\n",
       "      <td>NaN</td>\n",
       "      <td>85</td>\n",
       "      <td>30</td>\n",
       "      <td>60</td>\n",
       "      <td>60</td>\n",
       "      <td>40</td>\n",
       "      <td>70</td>\n",
       "      <td>['Super Speed', 'Super Strength']</td>\n",
       "      <td>[]</td>\n",
       "      <td>['']</td>\n",
       "      <td>NaN</td>\n",
       "      <td>NaN</td>\n",
       "      <td>Marvel Comics</td>\n",
       "      <td>Good</td>\n",
       "      <td>NaN</td>\n",
       "      <td>NaN</td>\n",
       "      <td>['Annihilators', 'Asgardians', 'Avengers', 'New Avengers']</td>\n",
       "      <td>NaN</td>\n",
       "      <td>Male</td>\n",
       "      <td>Human</td>\n",
       "      <td>-</td>\n",
       "      <td>-</td>\n",
       "      <td>NaN</td>\n",
       "      <td>NaN</td>\n",
       "      <td>NaN</td>\n",
       "      <td>/pictures2/portraits/11/050/10038.jpg?v=1560969486</td>\n",
       "      <td>0.0</td>\n",
       "      <td>0.0</td>\n",
       "      <td>0.0</td>\n",
       "      <td>0.0</td>\n",
       "      <td>0.0</td>\n",
       "      <td>0.0</td>\n",
       "      <td>0.0</td>\n",
       "      <td>0.0</td>\n",
       "      <td>0.0</td>\n",
       "      <td>0.0</td>\n",
       "      <td>0.0</td>\n",
       "      <td>0.0</td>\n",
       "      <td>0.0</td>\n",
       "      <td>0.0</td>\n",
       "      <td>0.0</td>\n",
       "      <td>0.0</td>\n",
       "      <td>0.0</td>\n",
       "      <td>0.0</td>\n",
       "      <td>0.0</td>\n",
       "      <td>0.0</td>\n",
       "      <td>0.0</td>\n",
       "      <td>0.0</td>\n",
       "      <td>0.0</td>\n",
       "      <td>0.0</td>\n",
       "      <td>0.0</td>\n",
       "      <td>0.0</td>\n",
       "      <td>0.0</td>\n",
       "      <td>0.0</td>\n",
       "      <td>0.0</td>\n",
       "      <td>0.0</td>\n",
       "      <td>0.0</td>\n",
       "      <td>0.0</td>\n",
       "      <td>0.0</td>\n",
       "      <td>0.0</td>\n",
       "      <td>0.0</td>\n",
       "      <td>0.0</td>\n",
       "      <td>0.0</td>\n",
       "      <td>0.0</td>\n",
       "      <td>0.0</td>\n",
       "      <td>0.0</td>\n",
       "      <td>0.0</td>\n",
       "      <td>0.0</td>\n",
       "      <td>0.0</td>\n",
       "      <td>0.0</td>\n",
       "      <td>0.0</td>\n",
       "      <td>1.0</td>\n",
       "      <td>0.0</td>\n",
       "      <td>0.0</td>\n",
       "      <td>0.0</td>\n",
       "      <td>1.0</td>\n",
       "    </tr>\n",
       "    <tr>\n",
       "      <th>1</th>\n",
       "      <td>514A (Gotham)</td>\n",
       "      <td>Bruce Wayne</td>\n",
       "      <td>NaN</td>\n",
       "      <td>10</td>\n",
       "      <td>He was one of the many prisoners of Indian Hill to be transferred to another facility upstate on...</td>\n",
       "      <td>NaN</td>\n",
       "      <td>100</td>\n",
       "      <td>20</td>\n",
       "      <td>30</td>\n",
       "      <td>50</td>\n",
       "      <td>35</td>\n",
       "      <td>100</td>\n",
       "      <td>['Durability', 'Reflexes', 'Super Strength']</td>\n",
       "      <td>['Batgod', 'Batman', 'Batman (1966)', 'Batman (Arkham)', 'Batman (Burtonverse)', 'Batman (Dark K...</td>\n",
       "      <td>['Subject 514A', 'Bruce Wayne', 'Bruce 2']</td>\n",
       "      <td>NaN</td>\n",
       "      <td>NaN</td>\n",
       "      <td>DC Comics</td>\n",
       "      <td>NaN</td>\n",
       "      <td>NaN</td>\n",
       "      <td>NaN</td>\n",
       "      <td>[]</td>\n",
       "      <td>Bruce Wayne (genetic template)</td>\n",
       "      <td>NaN</td>\n",
       "      <td>NaN</td>\n",
       "      <td>-</td>\n",
       "      <td>-</td>\n",
       "      <td>NaN</td>\n",
       "      <td>NaN</td>\n",
       "      <td>NaN</td>\n",
       "      <td>NaN</td>\n",
       "      <td>0.0</td>\n",
       "      <td>0.0</td>\n",
       "      <td>0.0</td>\n",
       "      <td>0.0</td>\n",
       "      <td>0.0</td>\n",
       "      <td>0.0</td>\n",
       "      <td>0.0</td>\n",
       "      <td>0.0</td>\n",
       "      <td>0.0</td>\n",
       "      <td>0.0</td>\n",
       "      <td>0.0</td>\n",
       "      <td>0.0</td>\n",
       "      <td>0.0</td>\n",
       "      <td>0.0</td>\n",
       "      <td>0.0</td>\n",
       "      <td>0.0</td>\n",
       "      <td>0.0</td>\n",
       "      <td>0.0</td>\n",
       "      <td>0.0</td>\n",
       "      <td>0.0</td>\n",
       "      <td>0.0</td>\n",
       "      <td>0.0</td>\n",
       "      <td>0.0</td>\n",
       "      <td>0.0</td>\n",
       "      <td>0.0</td>\n",
       "      <td>0.0</td>\n",
       "      <td>0.0</td>\n",
       "      <td>0.0</td>\n",
       "      <td>0.0</td>\n",
       "      <td>0.0</td>\n",
       "      <td>0.0</td>\n",
       "      <td>0.0</td>\n",
       "      <td>0.0</td>\n",
       "      <td>0.0</td>\n",
       "      <td>0.0</td>\n",
       "      <td>0.0</td>\n",
       "      <td>0.0</td>\n",
       "      <td>0.0</td>\n",
       "      <td>0.0</td>\n",
       "      <td>0.0</td>\n",
       "      <td>0.0</td>\n",
       "      <td>0.0</td>\n",
       "      <td>0.0</td>\n",
       "      <td>0.0</td>\n",
       "      <td>1.0</td>\n",
       "      <td>0.0</td>\n",
       "      <td>1.0</td>\n",
       "      <td>0.0</td>\n",
       "      <td>0.0</td>\n",
       "      <td>1.0</td>\n",
       "    </tr>\n",
       "    <tr>\n",
       "      <th>2</th>\n",
       "      <td>A-Bomb</td>\n",
       "      <td>Richard Milhouse Jones</td>\n",
       "      <td>Richard Milhouse Jones</td>\n",
       "      <td>20</td>\n",
       "      <td>Richard \"Rick\" Jones was orphaned at a young age, and after being expelled from several orphana...</td>\n",
       "      <td>On rare occasions, and through unusual circumstances, Jones has been able to tap into a myster...</td>\n",
       "      <td>80</td>\n",
       "      <td>100</td>\n",
       "      <td>80</td>\n",
       "      <td>100</td>\n",
       "      <td>100</td>\n",
       "      <td>80</td>\n",
       "      <td>['Accelerated Healing', 'Agility', 'Berserk Mode', 'Bloodlust', 'Camouflage', 'Cloaking', 'Cold ...</td>\n",
       "      <td>[]</td>\n",
       "      <td>['Rick Jones']</td>\n",
       "      <td>Scarsdale, Arizona</td>\n",
       "      <td>Hulk Vol 2 #2 (April, 2008) (as A-Bomb)</td>\n",
       "      <td>Marvel Comics</td>\n",
       "      <td>Good</td>\n",
       "      <td>Musician, adventurer, author; formerly talk show host</td>\n",
       "      <td>NaN</td>\n",
       "      <td>['Teen Brigade', 'Ultimate Fantastic Four', 'U-Men', 'Gods', 'Thor Corps', 'Avengers', 'Loners',...</td>\n",
       "      <td>Marlo Chandler-Jones (wife); Polly (aunt); Mrs. Chandler (mother-in-law); Keith Chandler, Ray Ch...</td>\n",
       "      <td>Male</td>\n",
       "      <td>Human</td>\n",
       "      <td>6'8 • 203 cm</td>\n",
       "      <td>980 lb • 441 kg</td>\n",
       "      <td>Yellow</td>\n",
       "      <td>No Hair</td>\n",
       "      <td>NaN</td>\n",
       "      <td>/pictures2/portraits/10/050/10060.jpg?v=1582334305</td>\n",
       "      <td>0.0</td>\n",
       "      <td>0.0</td>\n",
       "      <td>0.0</td>\n",
       "      <td>0.0</td>\n",
       "      <td>1.0</td>\n",
       "      <td>0.0</td>\n",
       "      <td>0.0</td>\n",
       "      <td>0.0</td>\n",
       "      <td>0.0</td>\n",
       "      <td>1.0</td>\n",
       "      <td>1.0</td>\n",
       "      <td>0.0</td>\n",
       "      <td>0.0</td>\n",
       "      <td>0.0</td>\n",
       "      <td>0.0</td>\n",
       "      <td>0.0</td>\n",
       "      <td>0.0</td>\n",
       "      <td>1.0</td>\n",
       "      <td>1.0</td>\n",
       "      <td>1.0</td>\n",
       "      <td>1.0</td>\n",
       "      <td>0.0</td>\n",
       "      <td>1.0</td>\n",
       "      <td>0.0</td>\n",
       "      <td>0.0</td>\n",
       "      <td>1.0</td>\n",
       "      <td>0.0</td>\n",
       "      <td>1.0</td>\n",
       "      <td>0.0</td>\n",
       "      <td>0.0</td>\n",
       "      <td>0.0</td>\n",
       "      <td>0.0</td>\n",
       "      <td>1.0</td>\n",
       "      <td>1.0</td>\n",
       "      <td>0.0</td>\n",
       "      <td>0.0</td>\n",
       "      <td>1.0</td>\n",
       "      <td>1.0</td>\n",
       "      <td>1.0</td>\n",
       "      <td>0.0</td>\n",
       "      <td>0.0</td>\n",
       "      <td>1.0</td>\n",
       "      <td>0.0</td>\n",
       "      <td>0.0</td>\n",
       "      <td>1.0</td>\n",
       "      <td>1.0</td>\n",
       "      <td>1.0</td>\n",
       "      <td>1.0</td>\n",
       "      <td>1.0</td>\n",
       "      <td>1.0</td>\n",
       "    </tr>\n",
       "    <tr>\n",
       "      <th>3</th>\n",
       "      <td>Aa</td>\n",
       "      <td>Aa</td>\n",
       "      <td>NaN</td>\n",
       "      <td>12</td>\n",
       "      <td>Aa is one of the more passive members of the Pumice People race of Stoneworld. When Hal Jordan a...</td>\n",
       "      <td>NaN</td>\n",
       "      <td>80</td>\n",
       "      <td>50</td>\n",
       "      <td>55</td>\n",
       "      <td>45</td>\n",
       "      <td>100</td>\n",
       "      <td>55</td>\n",
       "      <td>['Energy Absorption', 'Energy Armor', 'Energy Beams', 'Energy Blasts', 'Energy Constructs', 'Ene...</td>\n",
       "      <td>[]</td>\n",
       "      <td>['']</td>\n",
       "      <td>Stoneworld</td>\n",
       "      <td>Green Lantern Vol 3 #21</td>\n",
       "      <td>DC Comics</td>\n",
       "      <td>Good</td>\n",
       "      <td>NaN</td>\n",
       "      <td>NaN</td>\n",
       "      <td>['Blue Lantern Corps', 'Green Lantern Corps', 'Justice Legion Alpha', 'Suicide Squad', 'Birds of...</td>\n",
       "      <td>NaN</td>\n",
       "      <td>Male</td>\n",
       "      <td>Human</td>\n",
       "      <td>-</td>\n",
       "      <td>-</td>\n",
       "      <td>NaN</td>\n",
       "      <td>NaN</td>\n",
       "      <td>NaN</td>\n",
       "      <td>/pictures2/portraits/10/050/1410.jpg?v=1581168103</td>\n",
       "      <td>0.0</td>\n",
       "      <td>1.0</td>\n",
       "      <td>0.0</td>\n",
       "      <td>0.0</td>\n",
       "      <td>0.0</td>\n",
       "      <td>0.0</td>\n",
       "      <td>0.0</td>\n",
       "      <td>0.0</td>\n",
       "      <td>0.0</td>\n",
       "      <td>0.0</td>\n",
       "      <td>0.0</td>\n",
       "      <td>0.0</td>\n",
       "      <td>0.0</td>\n",
       "      <td>0.0</td>\n",
       "      <td>0.0</td>\n",
       "      <td>1.0</td>\n",
       "      <td>0.0</td>\n",
       "      <td>0.0</td>\n",
       "      <td>0.0</td>\n",
       "      <td>0.0</td>\n",
       "      <td>0.0</td>\n",
       "      <td>1.0</td>\n",
       "      <td>0.0</td>\n",
       "      <td>0.0</td>\n",
       "      <td>0.0</td>\n",
       "      <td>0.0</td>\n",
       "      <td>0.0</td>\n",
       "      <td>0.0</td>\n",
       "      <td>0.0</td>\n",
       "      <td>0.0</td>\n",
       "      <td>1.0</td>\n",
       "      <td>1.0</td>\n",
       "      <td>0.0</td>\n",
       "      <td>0.0</td>\n",
       "      <td>1.0</td>\n",
       "      <td>1.0</td>\n",
       "      <td>0.0</td>\n",
       "      <td>0.0</td>\n",
       "      <td>0.0</td>\n",
       "      <td>0.0</td>\n",
       "      <td>0.0</td>\n",
       "      <td>0.0</td>\n",
       "      <td>0.0</td>\n",
       "      <td>0.0</td>\n",
       "      <td>0.0</td>\n",
       "      <td>0.0</td>\n",
       "      <td>0.0</td>\n",
       "      <td>0.0</td>\n",
       "      <td>0.0</td>\n",
       "      <td>0.0</td>\n",
       "    </tr>\n",
       "    <tr>\n",
       "      <th>4</th>\n",
       "      <td>Aaron Cash</td>\n",
       "      <td>Aaron Cash</td>\n",
       "      <td>Aaron Cash</td>\n",
       "      <td>5</td>\n",
       "      <td>Aaron Cash is the head of security at Arkham Asylum. He has a hook for a hand after his real han...</td>\n",
       "      <td>NaN</td>\n",
       "      <td>80</td>\n",
       "      <td>10</td>\n",
       "      <td>25</td>\n",
       "      <td>40</td>\n",
       "      <td>30</td>\n",
       "      <td>50</td>\n",
       "      <td>['Weapon-based Powers', 'Weapons Master']</td>\n",
       "      <td>[]</td>\n",
       "      <td>['']</td>\n",
       "      <td>Gotham City</td>\n",
       "      <td>NaN</td>\n",
       "      <td>DC Comics</td>\n",
       "      <td>Good</td>\n",
       "      <td>NaN</td>\n",
       "      <td>NaN</td>\n",
       "      <td>[]</td>\n",
       "      <td>NaN</td>\n",
       "      <td>Male</td>\n",
       "      <td>Human</td>\n",
       "      <td>-</td>\n",
       "      <td>-</td>\n",
       "      <td>NaN</td>\n",
       "      <td>NaN</td>\n",
       "      <td>NaN</td>\n",
       "      <td>/pictures2/portraits/11/050/11650.jpg?v=1561735832</td>\n",
       "      <td>0.0</td>\n",
       "      <td>0.0</td>\n",
       "      <td>0.0</td>\n",
       "      <td>0.0</td>\n",
       "      <td>0.0</td>\n",
       "      <td>0.0</td>\n",
       "      <td>0.0</td>\n",
       "      <td>0.0</td>\n",
       "      <td>0.0</td>\n",
       "      <td>0.0</td>\n",
       "      <td>0.0</td>\n",
       "      <td>0.0</td>\n",
       "      <td>0.0</td>\n",
       "      <td>0.0</td>\n",
       "      <td>0.0</td>\n",
       "      <td>0.0</td>\n",
       "      <td>0.0</td>\n",
       "      <td>0.0</td>\n",
       "      <td>0.0</td>\n",
       "      <td>0.0</td>\n",
       "      <td>0.0</td>\n",
       "      <td>0.0</td>\n",
       "      <td>0.0</td>\n",
       "      <td>0.0</td>\n",
       "      <td>0.0</td>\n",
       "      <td>0.0</td>\n",
       "      <td>0.0</td>\n",
       "      <td>0.0</td>\n",
       "      <td>0.0</td>\n",
       "      <td>0.0</td>\n",
       "      <td>0.0</td>\n",
       "      <td>0.0</td>\n",
       "      <td>0.0</td>\n",
       "      <td>0.0</td>\n",
       "      <td>1.0</td>\n",
       "      <td>0.0</td>\n",
       "      <td>0.0</td>\n",
       "      <td>0.0</td>\n",
       "      <td>0.0</td>\n",
       "      <td>0.0</td>\n",
       "      <td>0.0</td>\n",
       "      <td>0.0</td>\n",
       "      <td>1.0</td>\n",
       "      <td>0.0</td>\n",
       "      <td>0.0</td>\n",
       "      <td>0.0</td>\n",
       "      <td>0.0</td>\n",
       "      <td>0.0</td>\n",
       "      <td>0.0</td>\n",
       "      <td>0.0</td>\n",
       "    </tr>\n",
       "  </tbody>\n",
       "</table>\n",
       "</div>"
      ],
      "text/plain": [
       "            name               real_name               full_name  \\\n",
       "0        3-D Man     Delroy Garrett, Jr.     Delroy Garrett, Jr.   \n",
       "1  514A (Gotham)             Bruce Wayne                     NaN   \n",
       "2         A-Bomb  Richard Milhouse Jones  Richard Milhouse Jones   \n",
       "3             Aa                      Aa                     NaN   \n",
       "4     Aaron Cash              Aaron Cash              Aaron Cash   \n",
       "\n",
       "  overall_score  \\\n",
       "0             6   \n",
       "1            10   \n",
       "2            20   \n",
       "3            12   \n",
       "4             5   \n",
       "\n",
       "                                                                                          history_text  \\\n",
       "0  Delroy Garrett, Jr. grew up to become a track star and competed in the Olympic Games. After he t...   \n",
       "1  He was one of the many prisoners of Indian Hill to be transferred to another facility upstate on...   \n",
       "2   Richard \"Rick\" Jones was orphaned at a young age, and after being expelled from several orphana...   \n",
       "3  Aa is one of the more passive members of the Pumice People race of Stoneworld. When Hal Jordan a...   \n",
       "4  Aaron Cash is the head of security at Arkham Asylum. He has a hook for a hand after his real han...   \n",
       "\n",
       "                                                                                           powers_text  \\\n",
       "0                                                                                                  NaN   \n",
       "1                                                                                                  NaN   \n",
       "2    On rare occasions, and through unusual circumstances, Jones has been able to tap into a myster...   \n",
       "3                                                                                                  NaN   \n",
       "4                                                                                                  NaN   \n",
       "\n",
       "   intelligence_score  strength_score  speed_score  durability_score  \\\n",
       "0                  85              30           60                60   \n",
       "1                 100              20           30                50   \n",
       "2                  80             100           80               100   \n",
       "3                  80              50           55                45   \n",
       "4                  80              10           25                40   \n",
       "\n",
       "   power_score  combat_score  \\\n",
       "0           40            70   \n",
       "1           35           100   \n",
       "2          100            80   \n",
       "3          100            55   \n",
       "4           30            50   \n",
       "\n",
       "                                                                                           superpowers  \\\n",
       "0                                                                    ['Super Speed', 'Super Strength']   \n",
       "1                                                         ['Durability', 'Reflexes', 'Super Strength']   \n",
       "2  ['Accelerated Healing', 'Agility', 'Berserk Mode', 'Bloodlust', 'Camouflage', 'Cloaking', 'Cold ...   \n",
       "3  ['Energy Absorption', 'Energy Armor', 'Energy Beams', 'Energy Blasts', 'Energy Constructs', 'Ene...   \n",
       "4                                                            ['Weapon-based Powers', 'Weapons Master']   \n",
       "\n",
       "                                                                                            alter_egos  \\\n",
       "0                                                                                                   []   \n",
       "1  ['Batgod', 'Batman', 'Batman (1966)', 'Batman (Arkham)', 'Batman (Burtonverse)', 'Batman (Dark K...   \n",
       "2                                                                                                   []   \n",
       "3                                                                                                   []   \n",
       "4                                                                                                   []   \n",
       "\n",
       "                                      aliases      place_of_birth  \\\n",
       "0                                        ['']                 NaN   \n",
       "1  ['Subject 514A', 'Bruce Wayne', 'Bruce 2']                 NaN   \n",
       "2                              ['Rick Jones']  Scarsdale, Arizona   \n",
       "3                                        ['']          Stoneworld   \n",
       "4                                        ['']         Gotham City   \n",
       "\n",
       "                          first_appearance        creator alignment  \\\n",
       "0                                      NaN  Marvel Comics      Good   \n",
       "1                                      NaN      DC Comics       NaN   \n",
       "2  Hulk Vol 2 #2 (April, 2008) (as A-Bomb)  Marvel Comics      Good   \n",
       "3                  Green Lantern Vol 3 #21      DC Comics      Good   \n",
       "4                                      NaN      DC Comics      Good   \n",
       "\n",
       "                                              occupation base  \\\n",
       "0                                                    NaN  NaN   \n",
       "1                                                    NaN  NaN   \n",
       "2  Musician, adventurer, author; formerly talk show host  NaN   \n",
       "3                                                    NaN  NaN   \n",
       "4                                                    NaN  NaN   \n",
       "\n",
       "                                                                                                 teams  \\\n",
       "0                                           ['Annihilators', 'Asgardians', 'Avengers', 'New Avengers']   \n",
       "1                                                                                                   []   \n",
       "2  ['Teen Brigade', 'Ultimate Fantastic Four', 'U-Men', 'Gods', 'Thor Corps', 'Avengers', 'Loners',...   \n",
       "3  ['Blue Lantern Corps', 'Green Lantern Corps', 'Justice Legion Alpha', 'Suicide Squad', 'Birds of...   \n",
       "4                                                                                                   []   \n",
       "\n",
       "                                                                                             relatives  \\\n",
       "0                                                                                                  NaN   \n",
       "1                                                                       Bruce Wayne (genetic template)   \n",
       "2  Marlo Chandler-Jones (wife); Polly (aunt); Mrs. Chandler (mother-in-law); Keith Chandler, Ray Ch...   \n",
       "3                                                                                                  NaN   \n",
       "4                                                                                                  NaN   \n",
       "\n",
       "  gender type_race        height           weight eye_color hair_color  \\\n",
       "0   Male     Human             -                -       NaN        NaN   \n",
       "1    NaN       NaN             -                -       NaN        NaN   \n",
       "2   Male     Human  6'8 • 203 cm  980 lb • 441 kg    Yellow    No Hair   \n",
       "3   Male     Human             -                -       NaN        NaN   \n",
       "4   Male     Human             -                -       NaN        NaN   \n",
       "\n",
       "  skin_color                                                 img  \\\n",
       "0        NaN  /pictures2/portraits/11/050/10038.jpg?v=1560969486   \n",
       "1        NaN                                                 NaN   \n",
       "2        NaN  /pictures2/portraits/10/050/10060.jpg?v=1582334305   \n",
       "3        NaN   /pictures2/portraits/10/050/1410.jpg?v=1581168103   \n",
       "4        NaN  /pictures2/portraits/11/050/11650.jpg?v=1561735832   \n",
       "\n",
       "   has_electrokinesis  has_energy_constructs  has_mind_control_resistance  \\\n",
       "0                 0.0                    0.0                          0.0   \n",
       "1                 0.0                    0.0                          0.0   \n",
       "2                 0.0                    0.0                          0.0   \n",
       "3                 0.0                    1.0                          0.0   \n",
       "4                 0.0                    0.0                          0.0   \n",
       "\n",
       "   has_matter_manipulation  has_telepathy_resistance  has_mind_control  \\\n",
       "0                      0.0                       0.0               0.0   \n",
       "1                      0.0                       0.0               0.0   \n",
       "2                      0.0                       1.0               0.0   \n",
       "3                      0.0                       0.0               0.0   \n",
       "4                      0.0                       0.0               0.0   \n",
       "\n",
       "   has_enhanced_hearing  has_dimensional_travel  has_element_control  \\\n",
       "0                   0.0                     0.0                  0.0   \n",
       "1                   0.0                     0.0                  0.0   \n",
       "2                   0.0                     0.0                  0.0   \n",
       "3                   0.0                     0.0                  0.0   \n",
       "4                   0.0                     0.0                  0.0   \n",
       "\n",
       "   has_size_changing  has_fire_resistance  has_fire_control  has_dexterity  \\\n",
       "0                0.0                  0.0               0.0            0.0   \n",
       "1                0.0                  0.0               0.0            0.0   \n",
       "2                1.0                  1.0               0.0            0.0   \n",
       "3                0.0                  0.0               0.0            0.0   \n",
       "4                0.0                  0.0               0.0            0.0   \n",
       "\n",
       "   has_reality_warping  has_illusions  has_energy_beams  \\\n",
       "0                  0.0            0.0               0.0   \n",
       "1                  0.0            0.0               0.0   \n",
       "2                  0.0            0.0               0.0   \n",
       "3                  0.0            0.0               1.0   \n",
       "4                  0.0            0.0               0.0   \n",
       "\n",
       "   has_peak_human_condition  has_shapeshifting  has_heat_resistance  has_jump  \\\n",
       "0                       0.0                0.0                  0.0       0.0   \n",
       "1                       0.0                0.0                  0.0       0.0   \n",
       "2                       0.0                1.0                  1.0       1.0   \n",
       "3                       0.0                0.0                  0.0       0.0   \n",
       "4                       0.0                0.0                  0.0       0.0   \n",
       "\n",
       "   has_self-sustenance  has_energy_absorption  has_cold_resistance  has_magic  \\\n",
       "0                  0.0                    0.0                  0.0        0.0   \n",
       "1                  0.0                    0.0                  0.0        0.0   \n",
       "2                  1.0                    0.0                  1.0        0.0   \n",
       "3                  0.0                    1.0                  0.0        0.0   \n",
       "4                  0.0                    0.0                  0.0        0.0   \n",
       "\n",
       "   has_telekinesis  has_toxin_and_disease_resistance  has_telepathy  \\\n",
       "0              0.0                               0.0            0.0   \n",
       "1              0.0                               0.0            0.0   \n",
       "2              0.0                               1.0            0.0   \n",
       "3              0.0                               0.0            0.0   \n",
       "4              0.0                               0.0            0.0   \n",
       "\n",
       "   has_regeneration  has_immortality  has_teleportation  has_force_fields  \\\n",
       "0               0.0              0.0                0.0               0.0   \n",
       "1               0.0              0.0                0.0               0.0   \n",
       "2               1.0              0.0                0.0               0.0   \n",
       "3               0.0              0.0                0.0               1.0   \n",
       "4               0.0              0.0                0.0               0.0   \n",
       "\n",
       "   has_energy_manipulation  has_endurance  has_longevity  \\\n",
       "0                      0.0            0.0            0.0   \n",
       "1                      0.0            0.0            0.0   \n",
       "2                      0.0            1.0            1.0   \n",
       "3                      1.0            0.0            0.0   \n",
       "4                      0.0            0.0            0.0   \n",
       "\n",
       "   has_weapon-based_powers  has_energy_blasts  has_enhanced_senses  \\\n",
       "0                      0.0                0.0                  0.0   \n",
       "1                      0.0                0.0                  0.0   \n",
       "2                      0.0                0.0                  1.0   \n",
       "3                      1.0                1.0                  0.0   \n",
       "4                      1.0                0.0                  0.0   \n",
       "\n",
       "   has_invulnerability  has_stealth  has_marksmanship  has_flight  \\\n",
       "0                  0.0          0.0               0.0         0.0   \n",
       "1                  0.0          0.0               0.0         0.0   \n",
       "2                  1.0          1.0               0.0         0.0   \n",
       "3                  0.0          0.0               0.0         0.0   \n",
       "4                  0.0          0.0               0.0         0.0   \n",
       "\n",
       "   has_accelerated_healing  has_weapons_master  has_intelligence  \\\n",
       "0                      0.0                 0.0               0.0   \n",
       "1                      0.0                 0.0               0.0   \n",
       "2                      1.0                 0.0               0.0   \n",
       "3                      0.0                 0.0               0.0   \n",
       "4                      0.0                 1.0               0.0   \n",
       "\n",
       "   has_reflexes  has_super_speed  has_durability  has_stamina  has_agility  \\\n",
       "0           0.0              1.0             0.0          0.0          0.0   \n",
       "1           1.0              0.0             1.0          0.0          0.0   \n",
       "2           1.0              1.0             1.0          1.0          1.0   \n",
       "3           0.0              0.0             0.0          0.0          0.0   \n",
       "4           0.0              0.0             0.0          0.0          0.0   \n",
       "\n",
       "   has_super_strength  \n",
       "0                 1.0  \n",
       "1                 1.0  \n",
       "2                 1.0  \n",
       "3                 0.0  \n",
       "4                 0.0  "
      ]
     },
     "execution_count": 1,
     "metadata": {},
     "output_type": "execute_result"
    }
   ],
   "source": [
    "pd.set_option('display.max_colwidth', 100)\n",
    "df = pd.read_csv(\n",
    "    \"https://raw.githubusercontent.com/jbesomi/texthero/master/dataset/superheroes_nlp_dataset.csv\"\n",
    ")\n",
    "df.head()"
   ]
  },
  {
   "cell_type": "code",
   "execution_count": 3,
   "id": "8c41c32f",
   "metadata": {
    "execution": {
     "iopub.execute_input": "2021-05-20T16:26:49.338275Z",
     "iopub.status.busy": "2021-05-20T16:26:49.335263Z",
     "iopub.status.idle": "2021-05-20T16:26:49.351615Z",
     "shell.execute_reply": "2021-05-20T16:26:49.351196Z"
    }
   },
   "outputs": [
    {
     "data": {
      "text/html": [
       "<div>\n",
       "<style scoped>\n",
       "    .dataframe tbody tr th:only-of-type {\n",
       "        vertical-align: middle;\n",
       "    }\n",
       "\n",
       "    .dataframe tbody tr th {\n",
       "        vertical-align: top;\n",
       "    }\n",
       "\n",
       "    .dataframe thead th {\n",
       "        text-align: right;\n",
       "    }\n",
       "</style>\n",
       "<table border=\"1\" class=\"dataframe\">\n",
       "  <thead>\n",
       "    <tr style=\"text-align: right;\">\n",
       "      <th></th>\n",
       "      <th>name</th>\n",
       "      <th>history_text</th>\n",
       "      <th>alignment</th>\n",
       "    </tr>\n",
       "  </thead>\n",
       "  <tbody>\n",
       "    <tr>\n",
       "      <th>0</th>\n",
       "      <td>3-D Man</td>\n",
       "      <td>Delroy Garrett, Jr. grew up to become a track star and competed in the Olympic Games. After he tested positive for steroids, he lost his three gold medals. In despair, he turned to religion, specifically the Triune Understanding. This group's founder, Jonathan Tremont, had found one of three fragments of a mysterious object and used it to give Garrett the powers of 3-D Man. Garrett assumed that his powers were because of his newfound spiritual enlightenment, and Tremont never disabused him of the notion.</td>\n",
       "      <td>Good</td>\n",
       "    </tr>\n",
       "    <tr>\n",
       "      <th>1</th>\n",
       "      <td>A-Bomb</td>\n",
       "      <td>Richard \"Rick\" Jones was orphaned at a young age, and after being expelled from several orphanages for disciplinary reasons he was placed into a state institution called Tempest Town. A troubled and rebellious youth, Jones soon came to the attention of the institution's chief administrator who smashed his guitar, a gift from his late father, and then had him severely thrashed. Soon afterward, Jones ran away from the institution. He spent the first half of his teens drifting from town to town throughout the Southwest, trying to avoid the juvenile authorities, and doing menial work when he could get it.  At age 16, he got his driver's license and managed to save enough money to buy a used car. Overhearing a teenager dare a friend to ride out with him on the desert where it was rumored an atomic bomb was going to be tested, Jones offered to take him upon the challenge. He drove his car out to the test site to discover his challenger was too timid to show up. Dr. Robert Bruce Banner, designer of the Gamma Bomb to be tested, learned that someone had ventured onto the test site, and believing the countdown had been delayed, ran out into the desert to warn him back. Banner managed to throw Jones into a protective trench before the bomb detonated, but he himself was bombarded with gamma radiation. This radiation triggered a mutagenic change in Banner, causing him to turn into the raging superhuman Hulk. Feeling responsible for Banner's condition and being the only person to know that the rampaging brute was actually Banner, Jones became the Hulk's sometimes unwanted companion and ally. Jones soon organized the Teen Brigade, a group of young amateur ham radio enthusiasts to help him monitor the Hulk's activities. Jones was present during the Hulk's first encounters with the army, as well as superhuman menaces as the Gargoyle, the alien Toadmen, the Ringmaster, Tyrannus, and the Metal Master, and even a run-in with the Fantastic Four.  The Avengers formed due to Rick's radio broadcast warning about the Hulk. He temporarily became a sidekick for Captain America. His resemblance to Bucky was noted, Rick even wore Bucky's costume for a time. However, Captain America felt he did not want to lose another partner and that while Rick was a good athlete, he was not quite up to the level Bucky was. When Iron Man suggested that Rick be made a full member of the Avengers, Cap strongly opposed the idea.  The Kree hero Captain Mar-Vell was bonded to Rick due to only being able to function out of the Negative Zone for a few hours. Using the Negative Zone portal in the Baxter Building seemed to remove that limitation. Shortly after Rick and Mar-Vell had to be re-merged. Eventually, they were separated.  During the Kree-Skrull War, an 'omniwave' machine from the Supreme Intelligence caused the Destiny Force to trigger within Rick.  An attempt to cure the Hulk instead gave Rick radiation poisoning. In the hospital, the Dire Wraiths began to replace the staff, but were stopped by Rom. Rick assisted Rom against the Wraiths, and temporarily lived with Brandy Clark. Jones was cured by the Beyonder at the same time Rom and Brandy left for Galador.  Rick began dating Marlo Chandler, a former girlfriend of the Hulk's. The two later married with a great number of heroes in attendance. The Impossible Man did his best to usurp the proceedings by inviting the Kree, Skrulls, even Mephisto to the ceremony. After a period of estrangement that also involved Moondragon and Death becoming involved with Marlo, the two reunited.  Jones was temporarily paralyzed while Hulk was the Horseman War. In an attempt to stop this 'War Hulk' he was thrown against a pyramid. Rick was cured during the Destiny War, summoning Avengers from various realities to battle for their very existence against the Time Keepers. The strain was incredible, and a future version of Genis-Vell bonded to him, much like Rick had with Mar-Vell. Rick and Genis later discovered this bond still applied to the current Genis.  Rick authored a best-selling novel on his days as a sidekick.  When the Hulk returned to Earth, Jones attempted to calm him down by telling him about Captain America's death, but when the Hulk almost calmed down, Dr. Strange invaded the Hulk's mind. Rick later went to Strange's Sanctum Sanctorum, but was attacked by the Hulk's allies.   Later, Rick was transported to the gamma bomb site that gave birth to the original Hulk. After being dropped off, he encountered the Red Hulk. After seeing that he had murdered Emil Blonsky, the Abomination, Rick had transformed into a new blue creature who quite resembled the Abomination; calling himself A-Bomb. In his new form, he was much like the original Hulk incarnation whereas he could not remember being anybody else once the transformation was complete, had an easily flared temper, and simplified speech patterns. He held his own against the Red Hulk for an extended period of time, withstanding all of his blows and injuring him multiple times which so far nobody had been able to accomplish. The battle was interrupted by several giant android harpies that were specifically designed by United States Military in case Bruce Banner escaped the facility as the Hulk. A-Bomb has proven to hold onto fragments of his memories as Rick Jones because he recognized the harpies all had the face of Betty Ross; Bruce Banner's first love. A-Bomb managed to disable one mid-flight, and they both crashed to earth.The robot exploded.  A-Bomb joined with several heroes including the Avengers, the Fantastic Four, She-Hulk and the Hulk to help stop an impending earthquake in San Francisco which was caused by Red Hulk. After the Red Hulk was defeated, A-Bomb reverted back to Rick. He attempted to reveal who Red Hulk really was, but was shot and dragged away by Doc Samson from the area.</td>\n",
       "      <td>Good</td>\n",
       "    </tr>\n",
       "    <tr>\n",
       "      <th>2</th>\n",
       "      <td>Aa</td>\n",
       "      <td>Aa is one of the more passive members of the Pumice People race of Stoneworld. When Hal Jordan attempted to restart the Green Lantern Corps, he sent one of his rookies, Brik, to draw in new recruits. Brik selected one member from each of Stoneworld's two most dominant races: Aa of the Pumice-People and Kworri of the Obsidian-Folk. hortly after being recruited, Aa, Kworri, and Brik were captured by Flicker, an agent of the Pan-Galactic Placement Services corporation. As a \"cosmic headhunter\", Flicker intended to sell the up-and-coming Green Lanterns to a race known as the Quanhooga. They had already succeeded in capturing Hal Jordan and attempted to brainwash him into giving up information concerning the Earthling Carol Ferris, aka, Star Sapphire. Hal broke free of their controls and rescued Aa and the others. Prepared for any eventuality, Flicker let the heroes believe that they had escaped from him and the four flew off into outer space.As they left the Pan-Galactic company ship, Aa took the liberty of capturing one of the agency's attendants. Hal mind-probed the captive with his ring to learn the whereabouts of Star Sapphire. Aa was uncomfortable with the idea that they were expected to follow Hal on his personal quest. Her rival, Kworri, was quick to point out that beings such as Aa would always second guess Hal's leadership potential while Kworri himself swore undying fealty towards Hal and the Corps. Hal told each of them that after they resolve the affair involving Star Sapphire, he would select either Aa or Kworri to serve with him in the Green Lantern Corps. The other would be forced to return to Stoneworld. While Hal investigated the situation from one angle, Aa, Brik and Kworri tracked Star Sapphire's last location to a fleet of Teban warships engaged in battle against a Quanhooga armada. Kworri followed Hal's standing orders to wait and watch, but Aa questioned the orders, citing that Hal could not have foreseen them arriving at the scene of a fierce space battle. Hal showed up soon after and Aa and he exchanged tense words. in: Good Characters, Female Characters, New Earth Characters, and 21 more Aa (New Earth) English EDIT   SHARE Green LanternHelp   Gallery Real Name Aa Current Alias Green Lantern Affiliation Darkstars · formerly the Green Lantern Corps (2nd iteration) Status Alignment Good Identity Secret Identity Race Pumice Person Marital Status Single Occupation Green Lantern Characteristics Gender Female Hair No Hair Skin Grey Origin Universe New Earth · Prime Earth Sector Sector 904 Partner Brik Place of Birth Stoneworld Creators Gerard Jones · Pat Broderick · Romeo Tanghal First Appearance Green Lantern Vol 3 #21 (February, 1992) Quote1 My other pet rock. Aa of Stoneworld. A moralist. You think about \"higher code\". Keep us all honest. Quote2 -- Kilowog src Contents[show] History Aa is one of the more passive members of the Pumice People race of Stoneworld. When Hal Jordan attempted to restart the Green Lantern Corps, he sent one of his rookies, Brik, to draw in new recruits. Brik selected one member from each of Stoneworld's two most dominant races: Aa of the Pumice-People and Kworri of the Obsidian-Folk. Shortly after being recruited, Aa, Kworri, and Brik were captured by Flicker, an agent of the Pan-Galactic Placement Services corporation. As a \"cosmic headhunter\", Flicker intended to sell the up-and-coming Green Lanterns to a race known as the Quanhooga. They had already succeeded in capturing Hal Jordan and attempted to brainwash him into giving up information concerning the Earthling Carol Ferris, aka, Star Sapphire. Hal broke free of their controls and rescued Aa and the others. Prepared for any eventuality, Flicker let the heroes believe that they had escaped from him and the four flew off into outer space.[1] As they left the Pan-Galactic company ship, Aa took the liberty of capturing one of the agency's attendants. Hal mind-probed the captive with his ring to learn the whereabouts of Star Sapphire. Aa was uncomfortable with the idea that they were expected to follow Hal on his personal quest. Her rival, Kworri, was quick to point out that beings such as Aa would always second guess Hal's leadership potential while Kworri himself swore undying fealty towards Hal and the Corps. Hal told each of them that after they resolve the affair involving Star Sapphire, he would select either Aa or Kworri to serve with him in the Green Lantern Corps. The other would be forced to return to Stoneworld. While Hal investigated the situation from one angle, Aa, Brik and Kworri tracked Star Sapphire's last location to a fleet of Teban warships engaged in battle against a Quanhooga armada. Kworri followed Hal's standing orders to wait and watch, but Aa questioned the orders, citing that Hal could not have foreseen them arriving at the scene of a fierce space battle. Hal showed up soon after and Aa and he exchanged tense words. The Green Lanterns boarded the Teben flagship commanded by Captain Kreon only to find that Kreon was not only in possession of a comatose Star Sapphire, but was also in league with Pan-Galactic headhunter, Flicker. This was all part of Flicker's end game, so he could deliver his Green Lantern prospects to his true clients, the Teben, not the Quanhooga. Things quickly began to fall apart, and Flicker tried to keep the Green Lanterns at bay by training his weapon on Star Sapphire. It was Aa who spoiled Flicker's shot, thus saving Carol's life. After retrieving her unconscious body, the Lanterns flew away from the opposing armadas. Loyal Kworri was confident that he would be the one that Hal would select to join his new Corps, but as it turned out, Hal had decided from the very first moment they met that Aa was the woman he wanted at his side. He appreciated Aa's ideals and that she persistently questioned authority; an attitude not altogether different from that of Hal Jordan himself</td>\n",
       "      <td>Good</td>\n",
       "    </tr>\n",
       "    <tr>\n",
       "      <th>3</th>\n",
       "      <td>Aaron Cash</td>\n",
       "      <td>Aaron Cash is the head of security at Arkham Asylum. He has a hook for a hand after his real hand was eaten by Killer Croc.</td>\n",
       "      <td>Good</td>\n",
       "    </tr>\n",
       "    <tr>\n",
       "      <th>4</th>\n",
       "      <td>Aayla Secura</td>\n",
       "      <td>ayla Secura was a Rutian Twi'lek Jedi Knight (and onetime apprentice to Quinlan Vos) who served during the Clone Wars. She fought in several battles, including one which helped to free a small Lurmen village from destruction, and also helped fend off the Zillo Beast during its rampage on Coruscant. She had mutual feelings for fellow Jedi Kit Fisto, but they chose not to pursue their feelings and to remain Jedi. She was one of the few Jedi who developed a strong bond with their Clone Commander, she and Commander Bly shared a mutual trust and respect. She was serving on Felucia when Order 66 was executed by Supreme Chancellor Palpatine, where she was shot in the back and killed by Bly and another member of the 327th Star Corps. Her body was destroyed by the clones.</td>\n",
       "      <td>Good</td>\n",
       "    </tr>\n",
       "  </tbody>\n",
       "</table>\n",
       "</div>"
      ],
      "text/plain": [
       "           name  \\\n",
       "0       3-D Man   \n",
       "1        A-Bomb   \n",
       "2            Aa   \n",
       "3    Aaron Cash   \n",
       "4  Aayla Secura   \n",
       "\n",
       "                                                                                                                                                                                                                                                                                                                                                                                                                                                                                                                                                                                                                                                                                                                                                                                                                                                                                                                                                                                                                                                                                                                                                                                                                                                                                                                                                                                                                                                                                                                                                                                                                                                                                                                                                                                                                                                                                                                                                                                                                                                                                                                                                                                                                                                                                                                                                                                                                                                                                                                                                                                                                                                                                                                                                                                                                                                                                                                                                                                                                                                                                                                                                                                                                                                                                                                                                                                                                                                                                                                                                                                                                                                                                                                                                                                                                                                                                                                                                                                                                                                                                                                                                                                                                                                                                                                                                                                                                                                                                                                                                                                                                                                                                                                                                                                                                                                                                                                                                                                                                                                                                                                                                                                                                                                                                                                                                                                                                                                                                                                                                                                                                                                                                                                                                                                                                                                                                                                                                                                                                                                                                                                                                           history_text  \\\n",
       "0                                                                                                                                                                                                                                                                                                                                                                                                                                                                                                                                                                                                                                                                                                                                                                                                                                                                                                                                                                                                                                                                                                                                                                                                                                                                                                                                                                                                                                                                                                                                                                                                                                                                                                                                                                                                                                                                                                                                                                                                                                                                                                                                                                                                                                                                                                                                                                                                                                                                                                                                                                                                                                                                                                                                                                                                                                                                                                                                                                                                                                                                                                                                                                                                                                                                                                                                                                                                                                                                                                                                                                                                                                                                                                                                                                                                                                                                                                                                                                                                                                                                                                                                                                                                                                                                                                                                                                                                                                                                                                                                                                                                                                                                                                                                                                                                                                                                                                                                                                                                                                                                                                                                                                                                                                                                                                                                                                                                                                                                                                                                                                                                                                         Delroy Garrett, Jr. grew up to become a track star and competed in the Olympic Games. After he tested positive for steroids, he lost his three gold medals. In despair, he turned to religion, specifically the Triune Understanding. This group's founder, Jonathan Tremont, had found one of three fragments of a mysterious object and used it to give Garrett the powers of 3-D Man. Garrett assumed that his powers were because of his newfound spiritual enlightenment, and Tremont never disabused him of the notion.   \n",
       "1                                                                              Richard \"Rick\" Jones was orphaned at a young age, and after being expelled from several orphanages for disciplinary reasons he was placed into a state institution called Tempest Town. A troubled and rebellious youth, Jones soon came to the attention of the institution's chief administrator who smashed his guitar, a gift from his late father, and then had him severely thrashed. Soon afterward, Jones ran away from the institution. He spent the first half of his teens drifting from town to town throughout the Southwest, trying to avoid the juvenile authorities, and doing menial work when he could get it.  At age 16, he got his driver's license and managed to save enough money to buy a used car. Overhearing a teenager dare a friend to ride out with him on the desert where it was rumored an atomic bomb was going to be tested, Jones offered to take him upon the challenge. He drove his car out to the test site to discover his challenger was too timid to show up. Dr. Robert Bruce Banner, designer of the Gamma Bomb to be tested, learned that someone had ventured onto the test site, and believing the countdown had been delayed, ran out into the desert to warn him back. Banner managed to throw Jones into a protective trench before the bomb detonated, but he himself was bombarded with gamma radiation. This radiation triggered a mutagenic change in Banner, causing him to turn into the raging superhuman Hulk. Feeling responsible for Banner's condition and being the only person to know that the rampaging brute was actually Banner, Jones became the Hulk's sometimes unwanted companion and ally. Jones soon organized the Teen Brigade, a group of young amateur ham radio enthusiasts to help him monitor the Hulk's activities. Jones was present during the Hulk's first encounters with the army, as well as superhuman menaces as the Gargoyle, the alien Toadmen, the Ringmaster, Tyrannus, and the Metal Master, and even a run-in with the Fantastic Four.  The Avengers formed due to Rick's radio broadcast warning about the Hulk. He temporarily became a sidekick for Captain America. His resemblance to Bucky was noted, Rick even wore Bucky's costume for a time. However, Captain America felt he did not want to lose another partner and that while Rick was a good athlete, he was not quite up to the level Bucky was. When Iron Man suggested that Rick be made a full member of the Avengers, Cap strongly opposed the idea.  The Kree hero Captain Mar-Vell was bonded to Rick due to only being able to function out of the Negative Zone for a few hours. Using the Negative Zone portal in the Baxter Building seemed to remove that limitation. Shortly after Rick and Mar-Vell had to be re-merged. Eventually, they were separated.  During the Kree-Skrull War, an 'omniwave' machine from the Supreme Intelligence caused the Destiny Force to trigger within Rick.  An attempt to cure the Hulk instead gave Rick radiation poisoning. In the hospital, the Dire Wraiths began to replace the staff, but were stopped by Rom. Rick assisted Rom against the Wraiths, and temporarily lived with Brandy Clark. Jones was cured by the Beyonder at the same time Rom and Brandy left for Galador.  Rick began dating Marlo Chandler, a former girlfriend of the Hulk's. The two later married with a great number of heroes in attendance. The Impossible Man did his best to usurp the proceedings by inviting the Kree, Skrulls, even Mephisto to the ceremony. After a period of estrangement that also involved Moondragon and Death becoming involved with Marlo, the two reunited.  Jones was temporarily paralyzed while Hulk was the Horseman War. In an attempt to stop this 'War Hulk' he was thrown against a pyramid. Rick was cured during the Destiny War, summoning Avengers from various realities to battle for their very existence against the Time Keepers. The strain was incredible, and a future version of Genis-Vell bonded to him, much like Rick had with Mar-Vell. Rick and Genis later discovered this bond still applied to the current Genis.  Rick authored a best-selling novel on his days as a sidekick.  When the Hulk returned to Earth, Jones attempted to calm him down by telling him about Captain America's death, but when the Hulk almost calmed down, Dr. Strange invaded the Hulk's mind. Rick later went to Strange's Sanctum Sanctorum, but was attacked by the Hulk's allies.   Later, Rick was transported to the gamma bomb site that gave birth to the original Hulk. After being dropped off, he encountered the Red Hulk. After seeing that he had murdered Emil Blonsky, the Abomination, Rick had transformed into a new blue creature who quite resembled the Abomination; calling himself A-Bomb. In his new form, he was much like the original Hulk incarnation whereas he could not remember being anybody else once the transformation was complete, had an easily flared temper, and simplified speech patterns. He held his own against the Red Hulk for an extended period of time, withstanding all of his blows and injuring him multiple times which so far nobody had been able to accomplish. The battle was interrupted by several giant android harpies that were specifically designed by United States Military in case Bruce Banner escaped the facility as the Hulk. A-Bomb has proven to hold onto fragments of his memories as Rick Jones because he recognized the harpies all had the face of Betty Ross; Bruce Banner's first love. A-Bomb managed to disable one mid-flight, and they both crashed to earth.The robot exploded.  A-Bomb joined with several heroes including the Avengers, the Fantastic Four, She-Hulk and the Hulk to help stop an impending earthquake in San Francisco which was caused by Red Hulk. After the Red Hulk was defeated, A-Bomb reverted back to Rick. He attempted to reveal who Red Hulk really was, but was shot and dragged away by Doc Samson from the area.   \n",
       "2  Aa is one of the more passive members of the Pumice People race of Stoneworld. When Hal Jordan attempted to restart the Green Lantern Corps, he sent one of his rookies, Brik, to draw in new recruits. Brik selected one member from each of Stoneworld's two most dominant races: Aa of the Pumice-People and Kworri of the Obsidian-Folk. hortly after being recruited, Aa, Kworri, and Brik were captured by Flicker, an agent of the Pan-Galactic Placement Services corporation. As a \"cosmic headhunter\", Flicker intended to sell the up-and-coming Green Lanterns to a race known as the Quanhooga. They had already succeeded in capturing Hal Jordan and attempted to brainwash him into giving up information concerning the Earthling Carol Ferris, aka, Star Sapphire. Hal broke free of their controls and rescued Aa and the others. Prepared for any eventuality, Flicker let the heroes believe that they had escaped from him and the four flew off into outer space.As they left the Pan-Galactic company ship, Aa took the liberty of capturing one of the agency's attendants. Hal mind-probed the captive with his ring to learn the whereabouts of Star Sapphire. Aa was uncomfortable with the idea that they were expected to follow Hal on his personal quest. Her rival, Kworri, was quick to point out that beings such as Aa would always second guess Hal's leadership potential while Kworri himself swore undying fealty towards Hal and the Corps. Hal told each of them that after they resolve the affair involving Star Sapphire, he would select either Aa or Kworri to serve with him in the Green Lantern Corps. The other would be forced to return to Stoneworld. While Hal investigated the situation from one angle, Aa, Brik and Kworri tracked Star Sapphire's last location to a fleet of Teban warships engaged in battle against a Quanhooga armada. Kworri followed Hal's standing orders to wait and watch, but Aa questioned the orders, citing that Hal could not have foreseen them arriving at the scene of a fierce space battle. Hal showed up soon after and Aa and he exchanged tense words. in: Good Characters, Female Characters, New Earth Characters, and 21 more Aa (New Earth) English EDIT   SHARE Green LanternHelp   Gallery Real Name Aa Current Alias Green Lantern Affiliation Darkstars · formerly the Green Lantern Corps (2nd iteration) Status Alignment Good Identity Secret Identity Race Pumice Person Marital Status Single Occupation Green Lantern Characteristics Gender Female Hair No Hair Skin Grey Origin Universe New Earth · Prime Earth Sector Sector 904 Partner Brik Place of Birth Stoneworld Creators Gerard Jones · Pat Broderick · Romeo Tanghal First Appearance Green Lantern Vol 3 #21 (February, 1992) Quote1 My other pet rock. Aa of Stoneworld. A moralist. You think about \"higher code\". Keep us all honest. Quote2 -- Kilowog src Contents[show] History Aa is one of the more passive members of the Pumice People race of Stoneworld. When Hal Jordan attempted to restart the Green Lantern Corps, he sent one of his rookies, Brik, to draw in new recruits. Brik selected one member from each of Stoneworld's two most dominant races: Aa of the Pumice-People and Kworri of the Obsidian-Folk. Shortly after being recruited, Aa, Kworri, and Brik were captured by Flicker, an agent of the Pan-Galactic Placement Services corporation. As a \"cosmic headhunter\", Flicker intended to sell the up-and-coming Green Lanterns to a race known as the Quanhooga. They had already succeeded in capturing Hal Jordan and attempted to brainwash him into giving up information concerning the Earthling Carol Ferris, aka, Star Sapphire. Hal broke free of their controls and rescued Aa and the others. Prepared for any eventuality, Flicker let the heroes believe that they had escaped from him and the four flew off into outer space.[1] As they left the Pan-Galactic company ship, Aa took the liberty of capturing one of the agency's attendants. Hal mind-probed the captive with his ring to learn the whereabouts of Star Sapphire. Aa was uncomfortable with the idea that they were expected to follow Hal on his personal quest. Her rival, Kworri, was quick to point out that beings such as Aa would always second guess Hal's leadership potential while Kworri himself swore undying fealty towards Hal and the Corps. Hal told each of them that after they resolve the affair involving Star Sapphire, he would select either Aa or Kworri to serve with him in the Green Lantern Corps. The other would be forced to return to Stoneworld. While Hal investigated the situation from one angle, Aa, Brik and Kworri tracked Star Sapphire's last location to a fleet of Teban warships engaged in battle against a Quanhooga armada. Kworri followed Hal's standing orders to wait and watch, but Aa questioned the orders, citing that Hal could not have foreseen them arriving at the scene of a fierce space battle. Hal showed up soon after and Aa and he exchanged tense words. The Green Lanterns boarded the Teben flagship commanded by Captain Kreon only to find that Kreon was not only in possession of a comatose Star Sapphire, but was also in league with Pan-Galactic headhunter, Flicker. This was all part of Flicker's end game, so he could deliver his Green Lantern prospects to his true clients, the Teben, not the Quanhooga. Things quickly began to fall apart, and Flicker tried to keep the Green Lanterns at bay by training his weapon on Star Sapphire. It was Aa who spoiled Flicker's shot, thus saving Carol's life. After retrieving her unconscious body, the Lanterns flew away from the opposing armadas. Loyal Kworri was confident that he would be the one that Hal would select to join his new Corps, but as it turned out, Hal had decided from the very first moment they met that Aa was the woman he wanted at his side. He appreciated Aa's ideals and that she persistently questioned authority; an attitude not altogether different from that of Hal Jordan himself   \n",
       "3                                                                                                                                                                                                                                                                                                                                                                                                                                                                                                                                                                                                                                                                                                                                                                                                                                                                                                                                                                                                                                                                                                                                                                                                                                                                                                                                                                                                                                                                                                                                                                                                                                                                                                                                                                                                                                                                                                                                                                                                                                                                                                                                                                                                                                                                                                                                                                                                                                                                                                                                                                                                                                                                                                                                                                                                                                                                                                                                                                                                                                                                                                                                                                                                                                                                                                                                                                                                                                                                                                                                                                                                                                                                                                                                                                                                                                                                                                                                                                                                                                                                                                                                                                                                                                                                                                                                                                                                                                                                                                                                                                                                                                                                                                                                                                                                                                                                                                                                                                                                                                                                                                                                                                                                                                                                                                                                                                                                                                                                                                                                                                                                                                                                                                                                                                                                                                                                                                                                                                                                                                           Aaron Cash is the head of security at Arkham Asylum. He has a hook for a hand after his real hand was eaten by Killer Croc.   \n",
       "4                                                                                                                                                                                                                                                                                                                                                                                                                                                                                                                                                                                                                                                                                                                                                                                                                                                                                                                                                                                                                                                                                                                                                                                                                                                                                                                                                                                                                                                                                                                                                                                                                                                                                                                                                                                                                                                                                                                                                                                                                                                                                                                                                                                                                                                                                                                                                                                                                                                                                                                                                                                                                                                                                                                                                                                                                                                                                                                                                                                                                                                                                                                                                                                                                                                                                                                                                                                                                                                                                                                                                                                                                                                                                                                                                                                                                                                                                                                                                                                                                                                                                                                                                                                                                                                                                                                                                                                                                                                                                                                                                                                                                                                                                                                                                                                                                                                                                                                                                                                                                                                                                                                                                                                                                                                                                                                                                                 ayla Secura was a Rutian Twi'lek Jedi Knight (and onetime apprentice to Quinlan Vos) who served during the Clone Wars. She fought in several battles, including one which helped to free a small Lurmen village from destruction, and also helped fend off the Zillo Beast during its rampage on Coruscant. She had mutual feelings for fellow Jedi Kit Fisto, but they chose not to pursue their feelings and to remain Jedi. She was one of the few Jedi who developed a strong bond with their Clone Commander, she and Commander Bly shared a mutual trust and respect. She was serving on Felucia when Order 66 was executed by Supreme Chancellor Palpatine, where she was shot in the back and killed by Bly and another member of the 327th Star Corps. Her body was destroyed by the clones.   \n",
       "\n",
       "  alignment  \n",
       "0      Good  \n",
       "1      Good  \n",
       "2      Good  \n",
       "3      Good  \n",
       "4      Good  "
      ]
     },
     "execution_count": 1,
     "metadata": {},
     "output_type": "execute_result"
    }
   ],
   "source": [
    "pd.options.display.max_colwidth = None\n",
    "df_txt = (\n",
    "    df.loc[df.alignment.isin(['Good', 'Bad']), ['name', 'history_text', 'alignment']]\n",
    "    .dropna()\n",
    "    .reset_index(drop=True)\n",
    ")\n",
    "df_txt.head()"
   ]
  },
  {
   "cell_type": "code",
   "execution_count": 4,
   "id": "c4ce3e2e",
   "metadata": {
    "execution": {
     "iopub.execute_input": "2021-05-20T16:26:49.355844Z",
     "iopub.status.busy": "2021-05-20T16:26:49.355383Z",
     "iopub.status.idle": "2021-05-20T16:26:49.358659Z",
     "shell.execute_reply": "2021-05-20T16:26:49.358247Z"
    }
   },
   "outputs": [],
   "source": [
    "# Preprocesamos la columna alignment\n",
    "le = LabelEncoder()\n",
    "df_txt['alignment'] = le.fit_transform(df_txt['alignment'])"
   ]
  },
  {
   "cell_type": "markdown",
   "id": "01ccc427",
   "metadata": {},
   "source": [
    "### Funciones Auxiliares"
   ]
  },
  {
   "cell_type": "code",
   "execution_count": 5,
   "id": "9fb8847d",
   "metadata": {
    "execution": {
     "iopub.execute_input": "2021-05-20T16:26:49.366231Z",
     "iopub.status.busy": "2021-05-20T16:26:49.365756Z",
     "iopub.status.idle": "2021-05-20T16:26:49.368801Z",
     "shell.execute_reply": "2021-05-20T16:26:49.368395Z"
    }
   },
   "outputs": [],
   "source": [
    "def helper(train, train_label, model):\n",
    "    cv = []\n",
    "    pred_based_on_cv = pd.DataFrame(data=np.zeros(shape=(train.shape[0], 2)))\n",
    "    kfold = KFold(n_splits=5, shuffle=True, random_state=2019)\n",
    "    for t_index, v_index in kfold.split(train_label.ravel()):\n",
    "        xtrain, ytrain = train[t_index, :], train_label[t_index]\n",
    "        xtest, ytest = train[v_index, :], train_label[v_index]\n",
    "\n",
    "        model.fit(xtrain, ytrain)\n",
    "        pred_based_on_cv.loc[v_index, :] = model.predict_proba(xtest)\n",
    "        cv.append(roc_auc_score(ytest, pred_based_on_cv.loc[v_index, 1]))\n",
    "    return (np.mean(cv), pred_based_on_cv)\n",
    "\n",
    "\n",
    "def plotting_helper(cv, pred, label):\n",
    "    print(\"AUC CV score : %s\" % cv)\n",
    "    plt.figure(figsize=(9, 5))\n",
    "    sns.heatmap(\n",
    "        confusion_matrix(label, np.argmax(pred.values, axis=1)).round(2),\n",
    "        annot=True,\n",
    "        fmt='g',\n",
    "    )\n",
    "    plt.title(\"Accuracy : %s\" % accuracy_score(np.argmax(pred.values, axis=1), label))\n",
    "    return (accuracy_score(np.argmax(pred.values, axis=1), label), cv)"
   ]
  },
  {
   "cell_type": "markdown",
   "id": "0200ac01",
   "metadata": {},
   "source": [
    "## Tokenización"
   ]
  },
  {
   "cell_type": "code",
   "execution_count": 6,
   "id": "48965ca1",
   "metadata": {
    "execution": {
     "iopub.execute_input": "2021-05-20T16:26:49.377939Z",
     "iopub.status.busy": "2021-05-20T16:26:49.377473Z",
     "iopub.status.idle": "2021-05-20T16:26:49.380855Z",
     "shell.execute_reply": "2021-05-20T16:26:49.381237Z"
    }
   },
   "outputs": [
    {
     "name": "stdout",
     "output_type": "stream",
     "text": [
      "['Delroy', 'Garrett', ',', 'Jr', '.', 'grew', 'up', 'to', 'become', 'a', 'track', 'star', 'and', 'competed', 'in', 'the', 'Olympic', 'Games', '.', 'After', 'he', 'tested', 'positive', 'for', 'steroids', ',', 'he', 'lost', 'his', 'three', 'gold', 'medals', '.', 'In', 'despair', ',', 'he', 'turned', 'to', 'religion', ',', 'specifica']\n"
     ]
    }
   ],
   "source": [
    "# WordPunctTokenizer\n",
    "wordpunct_tokenizer = WordPunctTokenizer()\n",
    "pow_tokens = wordpunct_tokenizer.tokenize(' '.join(df_txt.history_text)[:200])\n",
    "print(pow_tokens)"
   ]
  },
  {
   "cell_type": "code",
   "execution_count": 7,
   "id": "edbf4799",
   "metadata": {
    "execution": {
     "iopub.execute_input": "2021-05-20T16:26:49.389523Z",
     "iopub.status.busy": "2021-05-20T16:26:49.388692Z",
     "iopub.status.idle": "2021-05-20T16:26:49.393044Z",
     "shell.execute_reply": "2021-05-20T16:26:49.392631Z"
    }
   },
   "outputs": [
    {
     "name": "stdout",
     "output_type": "stream",
     "text": [
      "['Delroy', 'Garrett', ',', 'Jr.', 'grew', 'up', 'to', 'become', 'a', 'track', 'star', 'and', 'competed', 'in', 'the', 'Olympic', 'Games.', 'After', 'he', 'tested', 'positive', 'for', 'steroids', ',', 'he', 'lost', 'his', 'three', 'gold', 'medals.', 'In', 'despair', ',', 'he', 'turned', 'to', 'religion', ',', 'specifica']\n"
     ]
    }
   ],
   "source": [
    "# TreebankWordTokenizer\n",
    "treebank_tokenizer = TreebankWordTokenizer()\n",
    "pow_tokens = treebank_tokenizer.tokenize(' '.join(df_txt.history_text)[:200])\n",
    "print(pow_tokens)"
   ]
  },
  {
   "cell_type": "code",
   "execution_count": 8,
   "id": "ef2f33c4",
   "metadata": {
    "execution": {
     "iopub.execute_input": "2021-05-20T16:26:49.398765Z",
     "iopub.status.busy": "2021-05-20T16:26:49.398235Z",
     "iopub.status.idle": "2021-05-20T16:26:49.401726Z",
     "shell.execute_reply": "2021-05-20T16:26:49.402110Z"
    }
   },
   "outputs": [
    {
     "name": "stdout",
     "output_type": "stream",
     "text": [
      "['Delroy', 'Garrett', 'Jr', 'Olympic', 'Games', 'After', 'In']\n"
     ]
    }
   ],
   "source": [
    "# RegexpTokenizer\n",
    "capword_tokenizer = RegexpTokenizer('[A-Z]\\w+')\n",
    "pow_tokens = capword_tokenizer.tokenize(' '.join(df_txt.history_text)[:200])\n",
    "print(pow_tokens)"
   ]
  },
  {
   "cell_type": "markdown",
   "id": "1bc2fc2f",
   "metadata": {},
   "source": [
    "## Normalización"
   ]
  },
  {
   "cell_type": "markdown",
   "id": "062eb373",
   "metadata": {},
   "source": [
    "### Stemming"
   ]
  },
  {
   "cell_type": "code",
   "execution_count": 9,
   "id": "49352c70",
   "metadata": {
    "execution": {
     "iopub.execute_input": "2021-05-20T16:26:49.406051Z",
     "iopub.status.busy": "2021-05-20T16:26:49.405582Z",
     "iopub.status.idle": "2021-05-20T16:26:49.410008Z",
     "shell.execute_reply": "2021-05-20T16:26:49.409620Z"
    },
    "lines_to_next_cell": 2
   },
   "outputs": [
    {
     "name": "stdout",
     "output_type": "stream",
     "text": [
      "run --> run\n",
      "runner --> runner\n",
      "running --> run\n",
      "ran --> ran\n",
      "runs --> run\n",
      "feet --> feet\n",
      "cats --> cat\n",
      "cacti --> cacti\n"
     ]
    }
   ],
   "source": [
    "# SnowballStemmer\n",
    "s_stemmer = SnowballStemmer(language='english')\n",
    "words = ['run', 'runner', 'running', 'ran', 'runs', 'feet', 'cats', 'cacti']\n",
    "for word in words:\n",
    "    print(f'{word} --> {s_stemmer.stem(word)}')"
   ]
  },
  {
   "cell_type": "markdown",
   "id": "f96aa950",
   "metadata": {},
   "source": [
    "### Lemmatization"
   ]
  },
  {
   "cell_type": "code",
   "execution_count": 10,
   "id": "b974d330",
   "metadata": {
    "execution": {
     "iopub.execute_input": "2021-05-20T16:26:49.414375Z",
     "iopub.status.busy": "2021-05-20T16:26:49.413907Z",
     "iopub.status.idle": "2021-05-20T16:26:50.910845Z",
     "shell.execute_reply": "2021-05-20T16:26:50.910404Z"
    }
   },
   "outputs": [
    {
     "name": "stdout",
     "output_type": "stream",
     "text": [
      "run --> run\n",
      "runner --> runner\n",
      "running --> running\n",
      "ran --> ran\n",
      "runs --> run\n",
      "feet --> foot\n",
      "cats --> cat\n",
      "cacti --> cactus\n"
     ]
    }
   ],
   "source": [
    "# WordNetLemmatizer\n",
    "lemmatizer = WordNetLemmatizer()\n",
    "\n",
    "words = ['run', 'runner', 'running', 'ran', 'runs', 'feet', 'cats', 'cacti']\n",
    "for word in words:\n",
    "    print(f'{word} --> {lemmatizer.lemmatize(word)}')"
   ]
  },
  {
   "cell_type": "markdown",
   "id": "850db86f",
   "metadata": {},
   "source": [
    "# Bag of Words"
   ]
  },
  {
   "cell_type": "markdown",
   "id": "ae2023c7",
   "metadata": {},
   "source": [
    "1. Remover palabras no deseadas (stop words)\n",
    "2. Crear tokens\n",
    "3. Aplicar tokenización al texto\n",
    "4. Crear vocabulario y generar vectores"
   ]
  },
  {
   "cell_type": "code",
   "execution_count": 11,
   "id": "c9e72347",
   "metadata": {
    "execution": {
     "iopub.execute_input": "2021-05-20T16:26:50.914721Z",
     "iopub.status.busy": "2021-05-20T16:26:50.914004Z",
     "iopub.status.idle": "2021-05-20T16:26:50.918439Z",
     "shell.execute_reply": "2021-05-20T16:26:50.917790Z"
    }
   },
   "outputs": [],
   "source": [
    "# Armamos un set con las stop words\n",
    "stop_words = set(stopwords.words('english'))\n",
    "# stopwords.words('english')"
   ]
  },
  {
   "cell_type": "code",
   "execution_count": 12,
   "id": "87098292",
   "metadata": {
    "execution": {
     "iopub.execute_input": "2021-05-20T16:26:50.948451Z",
     "iopub.status.busy": "2021-05-20T16:26:50.925668Z",
     "iopub.status.idle": "2021-05-20T16:26:52.078497Z",
     "shell.execute_reply": "2021-05-20T16:26:52.078059Z"
    }
   },
   "outputs": [
    {
     "name": "stdout",
     "output_type": "stream",
     "text": [
      "['abounding', 'abra', 'abraham', 'abrahamic', 'abraxas', 'abroad', 'abrupt', 'abruptly', 'absconded', 'absconding']\n",
      "\n",
      "Cantidad de features: 27536\n",
      "\n"
     ]
    }
   ],
   "source": [
    "count_vec = CountVectorizer(stop_words=stop_words)\n",
    "count_vec.fit(df_txt['history_text'].values.tolist())\n",
    "df_count_vec = count_vec.transform(df_txt['history_text'].values.tolist())\n",
    "df_count_vec.shape\n",
    "\n",
    "# Podemos observar los features que seleccionó el modelo\n",
    "print(count_vec.get_feature_names()[500:510])\n",
    "print()\n",
    "\n",
    "print(\"Cantidad de features: \" + str(len(count_vec.get_feature_names())))\n",
    "print()"
   ]
  },
  {
   "cell_type": "code",
   "execution_count": 13,
   "id": "998d37d6",
   "metadata": {
    "execution": {
     "iopub.execute_input": "2021-05-20T16:26:52.082321Z",
     "iopub.status.busy": "2021-05-20T16:26:52.081630Z",
     "iopub.status.idle": "2021-05-20T16:26:52.217318Z",
     "shell.execute_reply": "2021-05-20T16:26:52.216804Z"
    }
   },
   "outputs": [
    {
     "name": "stdout",
     "output_type": "stream",
     "text": [
      "(1173, 27536)\n",
      "\n",
      "[[0 0 0 ... 0 0 0]\n",
      " [0 0 0 ... 0 0 0]\n",
      " [0 0 0 ... 0 0 0]\n",
      " ...\n",
      " [0 0 0 ... 0 0 0]\n",
      " [0 0 0 ... 0 0 0]\n",
      " [0 0 0 ... 0 0 0]]\n"
     ]
    }
   ],
   "source": [
    "# Después de ejecutar el modelo obtenemos la siguiente matriz\n",
    "# Las dimensiones son las filas del dataset x la cantidad de features\n",
    "print(df_count_vec.toarray().shape)\n",
    "print()\n",
    "print(df_count_vec.toarray())"
   ]
  },
  {
   "cell_type": "code",
   "execution_count": 14,
   "id": "9a75362e",
   "metadata": {
    "execution": {
     "iopub.execute_input": "2021-05-20T16:26:52.221586Z",
     "iopub.status.busy": "2021-05-20T16:26:52.221100Z",
     "iopub.status.idle": "2021-05-20T16:26:52.442646Z",
     "shell.execute_reply": "2021-05-20T16:26:52.443044Z"
    }
   },
   "outputs": [
    {
     "name": "stdout",
     "output_type": "stream",
     "text": [
      "Primera fila de la matriz: [0 0 0 0 0 0 0 0 0 0] \n",
      "\n"
     ]
    },
    {
     "name": "stdout",
     "output_type": "stream",
     "text": [
      "Total features primer fila: 48 \n",
      "\n",
      "Primeras cinco features:\n",
      "\n"
     ]
    },
    {
     "data": {
      "text/plain": [
       "1958     assumed\n",
       "2599      become\n",
       "4988    competed\n",
       "6458      delroy\n",
       "6658     despair\n",
       "dtype: object"
      ]
     },
     "metadata": {},
     "output_type": "display_data"
    }
   ],
   "source": [
    "print(\"Primera fila de la matriz:\", df_count_vec.toarray()[0][:10], \"\\n\")\n",
    "print(\"Total features primer fila:\", df_count_vec.toarray()[0].sum(), \"\\n\")\n",
    "print(\"Primeras cinco features:\\n\")\n",
    "display(\n",
    "    pd.Series(count_vec.get_feature_names())[df_count_vec.toarray()[0] == 1].head(5)\n",
    ")"
   ]
  },
  {
   "cell_type": "code",
   "execution_count": 15,
   "id": "ef78042a",
   "metadata": {
    "execution": {
     "iopub.execute_input": "2021-05-20T16:26:52.447554Z",
     "iopub.status.busy": "2021-05-20T16:26:52.446879Z",
     "iopub.status.idle": "2021-05-20T16:26:52.566571Z",
     "shell.execute_reply": "2021-05-20T16:26:52.567181Z"
    }
   },
   "outputs": [
    {
     "data": {
      "text/html": [
       "<div>\n",
       "<style scoped>\n",
       "    .dataframe tbody tr th:only-of-type {\n",
       "        vertical-align: middle;\n",
       "    }\n",
       "\n",
       "    .dataframe tbody tr th {\n",
       "        vertical-align: top;\n",
       "    }\n",
       "\n",
       "    .dataframe thead th {\n",
       "        text-align: right;\n",
       "    }\n",
       "</style>\n",
       "<table border=\"1\" class=\"dataframe\">\n",
       "  <thead>\n",
       "    <tr style=\"text-align: right;\">\n",
       "      <th></th>\n",
       "      <th>word</th>\n",
       "      <th>count</th>\n",
       "    </tr>\n",
       "  </thead>\n",
       "  <tbody>\n",
       "    <tr>\n",
       "      <th>0</th>\n",
       "      <td>time</td>\n",
       "      <td>2194</td>\n",
       "    </tr>\n",
       "    <tr>\n",
       "      <th>1</th>\n",
       "      <td>new</td>\n",
       "      <td>2173</td>\n",
       "    </tr>\n",
       "    <tr>\n",
       "      <th>2</th>\n",
       "      <td>man</td>\n",
       "      <td>2038</td>\n",
       "    </tr>\n",
       "    <tr>\n",
       "      <th>3</th>\n",
       "      <td>one</td>\n",
       "      <td>1993</td>\n",
       "    </tr>\n",
       "    <tr>\n",
       "      <th>4</th>\n",
       "      <td>would</td>\n",
       "      <td>1899</td>\n",
       "    </tr>\n",
       "    <tr>\n",
       "      <th>5</th>\n",
       "      <td>later</td>\n",
       "      <td>1735</td>\n",
       "    </tr>\n",
       "    <tr>\n",
       "      <th>6</th>\n",
       "      <td>however</td>\n",
       "      <td>1535</td>\n",
       "    </tr>\n",
       "    <tr>\n",
       "      <th>7</th>\n",
       "      <td>earth</td>\n",
       "      <td>1519</td>\n",
       "    </tr>\n",
       "    <tr>\n",
       "      <th>8</th>\n",
       "      <td>team</td>\n",
       "      <td>1450</td>\n",
       "    </tr>\n",
       "    <tr>\n",
       "      <th>9</th>\n",
       "      <td>men</td>\n",
       "      <td>1369</td>\n",
       "    </tr>\n",
       "  </tbody>\n",
       "</table>\n",
       "</div>"
      ],
      "text/plain": [
       "      word  count\n",
       "0     time   2194\n",
       "1      new   2173\n",
       "2      man   2038\n",
       "3      one   1993\n",
       "4    would   1899\n",
       "5    later   1735\n",
       "6  however   1535\n",
       "7    earth   1519\n",
       "8     team   1450\n",
       "9      men   1369"
      ]
     },
     "execution_count": 1,
     "metadata": {},
     "output_type": "execute_result"
    }
   ],
   "source": [
    "# Palabras por frecuencia de aparicion\n",
    "top_words = pd.Series(\n",
    "    df_count_vec.toarray().sum(axis=0), index=count_vec.get_feature_names()\n",
    ").sort_values(ascending=False)\n",
    "top_words.index.name = 'word'\n",
    "top_words = top_words.to_frame('count').reset_index()\n",
    "top_words.head(10)"
   ]
  },
  {
   "cell_type": "code",
   "execution_count": 16,
   "id": "a1017fe9",
   "metadata": {
    "execution": {
     "iopub.execute_input": "2021-05-20T16:26:52.593692Z",
     "iopub.status.busy": "2021-05-20T16:26:52.593157Z",
     "iopub.status.idle": "2021-05-20T16:26:52.836986Z",
     "shell.execute_reply": "2021-05-20T16:26:52.837422Z"
    }
   },
   "outputs": [
    {
     "data": {
      "image/png": "[encoded data removed]",
      "text/plain": [
       "<Figure size 900x600 with 1 Axes>"
      ]
     },
     "metadata": {
      "needs_background": "light"
     },
     "output_type": "display_data"
    }
   ],
   "source": [
    "plt.figure(dpi=150)\n",
    "sns.barplot(x=\"word\", y=\"count\", data=top_words[:20])\n",
    "plt.ylabel(\"Frecuencia\")\n",
    "plt.xlabel(\"Palabras\")\n",
    "plt.title(\"Frecuencia de palabras\")\n",
    "plt.xticks(rotation=90)\n",
    "plt.show()"
   ]
  },
  {
   "cell_type": "code",
   "execution_count": 17,
   "id": "5b66a96d",
   "metadata": {
    "execution": {
     "iopub.execute_input": "2021-05-20T16:26:53.149169Z",
     "iopub.status.busy": "2021-05-20T16:26:53.144073Z",
     "iopub.status.idle": "2021-05-20T16:26:53.760661Z",
     "shell.execute_reply": "2021-05-20T16:26:53.760232Z"
    }
   },
   "outputs": [
    {
     "data": {
      "image/png": "[encoded data removed]",
      "text/plain": [
       "<Figure size 1080x360 with 1 Axes>"
      ]
     },
     "metadata": {
      "needs_background": "light"
     },
     "output_type": "display_data"
    },
    {
     "data": {
      "text/plain": [
       "<AxesSubplot:xlabel='Samples', ylabel='Counts'>"
      ]
     },
     "execution_count": 1,
     "metadata": {},
     "output_type": "execute_result"
    }
   ],
   "source": [
    "# nltk también ofrece una forma de obtener la frecuencia de las palabras\n",
    "tokenizer = RegexpTokenizer(r'\\w+')\n",
    "pow_tokens = tokenizer.tokenize(' '.join(df_txt.history_text.str.lower()))\n",
    "\n",
    "pow_tokens = [token for token in pow_tokens if token not in stop_words]\n",
    "\n",
    "pow_freq_dist = nltk.FreqDist(pow_tokens)\n",
    "plt.figure(figsize=(15, 5))\n",
    "plt.xticks(fontsize=20)\n",
    "pow_freq_dist.plot(25)"
   ]
  },
  {
   "cell_type": "code",
   "execution_count": 18,
   "id": "42f19763",
   "metadata": {
    "execution": {
     "iopub.execute_input": "2021-05-20T16:26:53.765608Z",
     "iopub.status.busy": "2021-05-20T16:26:53.765126Z",
     "iopub.status.idle": "2021-05-20T16:26:53.959934Z",
     "shell.execute_reply": "2021-05-20T16:26:53.960313Z"
    }
   },
   "outputs": [
    {
     "name": "stdout",
     "output_type": "stream",
     "text": [
      "AUC CV score: 0.718075387270574\n",
      "AUC CV score : 0.718075387270574\n"
     ]
    },
    {
     "data": {
      "image/png": "[encoded data removed]",
      "text/plain": [
       "<Figure size 648x360 with 2 Axes>"
      ]
     },
     "metadata": {
      "needs_background": "light"
     },
     "output_type": "display_data"
    }
   ],
   "source": [
    "cv, pred = helper(df_count_vec, df_txt.alignment, MultinomialNB())\n",
    "print(\"AUC CV score:\", cv)\n",
    "count_acc_mnb, count_auc_cv_mnb = plotting_helper(cv, pred, df_txt.alignment.values)"
   ]
  },
  {
   "cell_type": "markdown",
   "id": "bd32584a",
   "metadata": {},
   "source": [
    "### Otra opción"
   ]
  },
  {
   "cell_type": "code",
   "execution_count": 19,
   "id": "d52cbfe7",
   "metadata": {
    "execution": {
     "iopub.execute_input": "2021-05-20T16:26:53.967494Z",
     "iopub.status.busy": "2021-05-20T16:26:53.966971Z",
     "iopub.status.idle": "2021-05-20T16:27:02.383343Z",
     "shell.execute_reply": "2021-05-20T16:27:02.382929Z"
    }
   },
   "outputs": [
    {
     "name": "stderr",
     "output_type": "stream",
     "text": [
      "/opt/hostedtoolcache/Python/3.7.10/x64/lib/python3.7/site-packages/sklearn/feature_extraction/text.py:484: UserWarning: The parameter 'token_pattern' will not be used since 'tokenizer' is not None'\n",
      "  warnings.warn(\"The parameter 'token_pattern' will not be used\"\n"
     ]
    },
    {
     "data": {
      "text/plain": [
       "(1173, 342211)"
      ]
     },
     "execution_count": 1,
     "metadata": {},
     "output_type": "execute_result"
    }
   ],
   "source": [
    "class LemmaTokenizer:\n",
    "    def __init__(self):\n",
    "        self.wnl = WordNetLemmatizer()\n",
    "        self.rt = RegexpTokenizer(r'\\w+')\n",
    "\n",
    "    def __call__(self, doc):\n",
    "        return [self.wnl.lemmatize(t) for t in self.rt.tokenize(doc)]\n",
    "\n",
    "\n",
    "vect = CountVectorizer()\n",
    "lemm = LemmaTokenizer()\n",
    "stop_words_new = list(chain.from_iterable(lemm(word) for word in stop_words))\n",
    "\n",
    "count_vec_lemm = CountVectorizer(\n",
    "    stop_words=stop_words_new, tokenizer=lemm, ngram_range=(2, 2)\n",
    ")\n",
    "count_vec_lemm.fit(df_txt['history_text'].values.tolist())\n",
    "df_count_vec_lemm = count_vec_lemm.transform(df_txt['history_text'].values.tolist())\n",
    "df_count_vec_lemm.shape"
   ]
  },
  {
   "cell_type": "code",
   "execution_count": 20,
   "id": "1590d897",
   "metadata": {
    "execution": {
     "iopub.execute_input": "2021-05-20T16:27:02.387545Z",
     "iopub.status.busy": "2021-05-20T16:27:02.387073Z",
     "iopub.status.idle": "2021-05-20T16:27:04.109457Z",
     "shell.execute_reply": "2021-05-20T16:27:04.109035Z"
    }
   },
   "outputs": [
    {
     "data": {
      "text/html": [
       "<div>\n",
       "<style scoped>\n",
       "    .dataframe tbody tr th:only-of-type {\n",
       "        vertical-align: middle;\n",
       "    }\n",
       "\n",
       "    .dataframe tbody tr th {\n",
       "        vertical-align: top;\n",
       "    }\n",
       "\n",
       "    .dataframe thead th {\n",
       "        text-align: right;\n",
       "    }\n",
       "</style>\n",
       "<table border=\"1\" class=\"dataframe\">\n",
       "  <thead>\n",
       "    <tr style=\"text-align: right;\">\n",
       "      <th></th>\n",
       "      <th>word</th>\n",
       "      <th>count</th>\n",
       "    </tr>\n",
       "  </thead>\n",
       "  <tbody>\n",
       "    <tr>\n",
       "      <th>0</th>\n",
       "      <td>x men</td>\n",
       "      <td>1137</td>\n",
       "    </tr>\n",
       "    <tr>\n",
       "      <th>1</th>\n",
       "      <td>spider man</td>\n",
       "      <td>592</td>\n",
       "    </tr>\n",
       "    <tr>\n",
       "      <th>2</th>\n",
       "      <td>new york</td>\n",
       "      <td>328</td>\n",
       "    </tr>\n",
       "    <tr>\n",
       "      <th>3</th>\n",
       "      <td>iron man</td>\n",
       "      <td>295</td>\n",
       "    </tr>\n",
       "    <tr>\n",
       "      <th>4</th>\n",
       "      <td>captain america</td>\n",
       "      <td>274</td>\n",
       "    </tr>\n",
       "    <tr>\n",
       "      <th>5</th>\n",
       "      <td>h e</td>\n",
       "      <td>224</td>\n",
       "    </tr>\n",
       "    <tr>\n",
       "      <th>6</th>\n",
       "      <td>wonder woman</td>\n",
       "      <td>213</td>\n",
       "    </tr>\n",
       "    <tr>\n",
       "      <th>7</th>\n",
       "      <td>e l</td>\n",
       "      <td>210</td>\n",
       "    </tr>\n",
       "    <tr>\n",
       "      <th>8</th>\n",
       "      <td>big bos</td>\n",
       "      <td>209</td>\n",
       "    </tr>\n",
       "    <tr>\n",
       "      <th>9</th>\n",
       "      <td>justice league</td>\n",
       "      <td>200</td>\n",
       "    </tr>\n",
       "  </tbody>\n",
       "</table>\n",
       "</div>"
      ],
      "text/plain": [
       "              word  count\n",
       "0            x men   1137\n",
       "1       spider man    592\n",
       "2         new york    328\n",
       "3         iron man    295\n",
       "4  captain america    274\n",
       "5              h e    224\n",
       "6     wonder woman    213\n",
       "7              e l    210\n",
       "8          big bos    209\n",
       "9   justice league    200"
      ]
     },
     "execution_count": 1,
     "metadata": {},
     "output_type": "execute_result"
    }
   ],
   "source": [
    "# Palabras por frecuencia de aparicion\n",
    "top_words = pd.Series(\n",
    "    df_count_vec_lemm.toarray().sum(axis=0), index=count_vec_lemm.get_feature_names()\n",
    ").sort_values(ascending=False)\n",
    "top_words.index.name = 'word'\n",
    "top_words = top_words.to_frame('count').reset_index()\n",
    "top_words.head(10)"
   ]
  },
  {
   "cell_type": "code",
   "execution_count": 21,
   "id": "59eb25ab",
   "metadata": {
    "execution": {
     "iopub.execute_input": "2021-05-20T16:27:04.145223Z",
     "iopub.status.busy": "2021-05-20T16:27:04.133681Z",
     "iopub.status.idle": "2021-05-20T16:27:04.394021Z",
     "shell.execute_reply": "2021-05-20T16:27:04.394393Z"
    }
   },
   "outputs": [
    {
     "data": {
      "image/png": "[encoded data removed]",
      "text/plain": [
       "<Figure size 900x600 with 1 Axes>"
      ]
     },
     "metadata": {
      "needs_background": "light"
     },
     "output_type": "display_data"
    }
   ],
   "source": [
    "plt.figure(dpi=150)\n",
    "sns.barplot(x=\"word\", y=\"count\", data=top_words[:20])\n",
    "plt.ylabel(\"Frecuencia\")\n",
    "plt.xlabel(\"Palabras\")\n",
    "plt.title(\"Frecuencia de palabras\")\n",
    "plt.xticks(rotation=90)\n",
    "plt.show()"
   ]
  },
  {
   "cell_type": "code",
   "execution_count": 22,
   "id": "3b5e15d5",
   "metadata": {
    "execution": {
     "iopub.execute_input": "2021-05-20T16:27:04.398696Z",
     "iopub.status.busy": "2021-05-20T16:27:04.398226Z",
     "iopub.status.idle": "2021-05-20T16:27:04.657145Z",
     "shell.execute_reply": "2021-05-20T16:27:04.657518Z"
    }
   },
   "outputs": [
    {
     "name": "stdout",
     "output_type": "stream",
     "text": [
      "AUC CV score: 0.5529482031899912\n",
      "AUC CV score : 0.5529482031899912\n"
     ]
    },
    {
     "data": {
      "image/png": "[encoded data removed]",
      "text/plain": [
       "<Figure size 648x360 with 2 Axes>"
      ]
     },
     "metadata": {
      "needs_background": "light"
     },
     "output_type": "display_data"
    }
   ],
   "source": [
    "cv_lemm, pred_lemm = helper(df_count_vec_lemm, df_txt.alignment, MultinomialNB())\n",
    "print(\"AUC CV score:\", cv_lemm)\n",
    "count_acc_mnb, count_auc_cv_mnb = plotting_helper(\n",
    "    cv_lemm, pred_lemm, df_txt.alignment.values\n",
    ")"
   ]
  },
  {
   "cell_type": "markdown",
   "id": "7b70a67c",
   "metadata": {},
   "source": [
    "### Cómo aplicamos TF-IDF\n",
    "\n",
    "Como vimos antes CountVectorizer nos devuelve la cantidad de apariciones de cada palabra en un documento. De esta forma, nos devuelve la _frecuencia_ de cada palabra."
   ]
  },
  {
   "cell_type": "code",
   "execution_count": 23,
   "id": "da6a8969",
   "metadata": {
    "execution": {
     "iopub.execute_input": "2021-05-20T16:27:04.661309Z",
     "iopub.status.busy": "2021-05-20T16:27:04.660814Z",
     "iopub.status.idle": "2021-05-20T16:27:04.807345Z",
     "shell.execute_reply": "2021-05-20T16:27:04.806872Z"
    }
   },
   "outputs": [
    {
     "name": "stdout",
     "output_type": "stream",
     "text": [
      "(1173, 27536)\n",
      "\n",
      "[[0. 0. 0. ... 0. 0. 0.]\n",
      " [0. 0. 0. ... 0. 0. 0.]\n",
      " [0. 0. 0. ... 0. 0. 0.]\n",
      " ...\n",
      " [0. 0. 0. ... 0. 0. 0.]\n",
      " [0. 0. 0. ... 0. 0. 0.]\n",
      " [0. 0. 0. ... 0. 0. 0.]]\n"
     ]
    }
   ],
   "source": [
    "# Al resultado de CountVectorizer le aplicamos TfidfTransformer para obtener el valor de TF-IDF\n",
    "tfidf_transformer = TfidfTransformer()\n",
    "tfidf_transformer.fit(df_count_vec)\n",
    "tf_idf_vector = tfidf_transformer.transform(df_count_vec)\n",
    "\n",
    "print(tf_idf_vector.toarray().shape)\n",
    "print()\n",
    "print(tf_idf_vector.toarray())"
   ]
  },
  {
   "cell_type": "code",
   "execution_count": 24,
   "id": "7e40764d",
   "metadata": {
    "execution": {
     "iopub.execute_input": "2021-05-20T16:27:04.811650Z",
     "iopub.status.busy": "2021-05-20T16:27:04.811174Z",
     "iopub.status.idle": "2021-05-20T16:27:04.843071Z",
     "shell.execute_reply": "2021-05-20T16:27:04.842627Z"
    }
   },
   "outputs": [
    {
     "data": {
      "text/html": [
       "<div>\n",
       "<style scoped>\n",
       "    .dataframe tbody tr th:only-of-type {\n",
       "        vertical-align: middle;\n",
       "    }\n",
       "\n",
       "    .dataframe tbody tr th {\n",
       "        vertical-align: top;\n",
       "    }\n",
       "\n",
       "    .dataframe thead th {\n",
       "        text-align: right;\n",
       "    }\n",
       "</style>\n",
       "<table border=\"1\" class=\"dataframe\">\n",
       "  <thead>\n",
       "    <tr style=\"text-align: right;\">\n",
       "      <th></th>\n",
       "      <th>tfidf</th>\n",
       "    </tr>\n",
       "  </thead>\n",
       "  <tbody>\n",
       "    <tr>\n",
       "      <th>garrett</th>\n",
       "      <td>0.428016</td>\n",
       "    </tr>\n",
       "    <tr>\n",
       "      <th>tremont</th>\n",
       "      <td>0.371022</td>\n",
       "    </tr>\n",
       "    <tr>\n",
       "      <th>disabused</th>\n",
       "      <td>0.196303</td>\n",
       "    </tr>\n",
       "    <tr>\n",
       "      <th>delroy</th>\n",
       "      <td>0.196303</td>\n",
       "    </tr>\n",
       "    <tr>\n",
       "      <th>steroids</th>\n",
       "      <td>0.196303</td>\n",
       "    </tr>\n",
       "    <tr>\n",
       "      <th>...</th>\n",
       "      <td>...</td>\n",
       "    </tr>\n",
       "    <tr>\n",
       "      <th>festival</th>\n",
       "      <td>0.000000</td>\n",
       "    </tr>\n",
       "    <tr>\n",
       "      <th>festering</th>\n",
       "      <td>0.000000</td>\n",
       "    </tr>\n",
       "    <tr>\n",
       "      <th>fervor</th>\n",
       "      <td>0.000000</td>\n",
       "    </tr>\n",
       "    <tr>\n",
       "      <th>fertile</th>\n",
       "      <td>0.000000</td>\n",
       "    </tr>\n",
       "    <tr>\n",
       "      <th>駄犬</th>\n",
       "      <td>0.000000</td>\n",
       "    </tr>\n",
       "  </tbody>\n",
       "</table>\n",
       "<p>27536 rows × 1 columns</p>\n",
       "</div>"
      ],
      "text/plain": [
       "              tfidf\n",
       "garrett    0.428016\n",
       "tremont    0.371022\n",
       "disabused  0.196303\n",
       "delroy     0.196303\n",
       "steroids   0.196303\n",
       "...             ...\n",
       "festival   0.000000\n",
       "festering  0.000000\n",
       "fervor     0.000000\n",
       "fertile    0.000000\n",
       "駄犬         0.000000\n",
       "\n",
       "[27536 rows x 1 columns]"
      ]
     },
     "execution_count": 1,
     "metadata": {},
     "output_type": "execute_result"
    }
   ],
   "source": [
    "first_document_vector = tf_idf_vector[0]\n",
    "\n",
    "# Imprimimos el resultado para el primer documento\n",
    "df = pd.DataFrame(\n",
    "    first_document_vector.T.todense(),\n",
    "    index=count_vec.get_feature_names(),\n",
    "    columns=[\"tfidf\"],\n",
    ")\n",
    "df.sort_values(by=[\"tfidf\"], ascending=False)"
   ]
  },
  {
   "cell_type": "code",
   "execution_count": 25,
   "id": "46c3574a",
   "metadata": {
    "execution": {
     "iopub.execute_input": "2021-05-20T16:27:04.847326Z",
     "iopub.status.busy": "2021-05-20T16:27:04.846856Z",
     "iopub.status.idle": "2021-05-20T16:27:04.851515Z",
     "shell.execute_reply": "2021-05-20T16:27:04.851124Z"
    }
   },
   "outputs": [
    {
     "data": {
      "text/plain": [
       "\"Delroy Garrett, Jr. grew up to become a track star and competed in the Olympic Games. After he tested positive for steroids, he lost his three gold medals. In despair, he turned to religion, specifically the Triune Understanding. This group's founder, Jonathan Tremont, had found one of three fragments of a mysterious object and used it to give Garrett the powers of 3-D Man. Garrett assumed that his powers were because of his newfound spiritual enlightenment, and Tremont never disabused him of the notion.\""
      ]
     },
     "execution_count": 1,
     "metadata": {},
     "output_type": "execute_result"
    }
   ],
   "source": [
    "df_txt.loc[0]['history_text']"
   ]
  },
  {
   "cell_type": "markdown",
   "id": "b84d347a",
   "metadata": {},
   "source": [
    "Vemos que las palabras que tienen valor 0 son las que no se encuentran en el documento al que hace referencia el vector.\n",
    "Mientras menos común sea la palabra en nuestro corpus, mayor puntaje va a tener."
   ]
  },
  {
   "cell_type": "code",
   "execution_count": 26,
   "id": "4bf4a244",
   "metadata": {
    "execution": {
     "iopub.execute_input": "2021-05-20T16:27:04.903111Z",
     "iopub.status.busy": "2021-05-20T16:27:04.864032Z",
     "iopub.status.idle": "2021-05-20T16:27:06.174315Z",
     "shell.execute_reply": "2021-05-20T16:27:06.173833Z"
    }
   },
   "outputs": [
    {
     "name": "stdout",
     "output_type": "stream",
     "text": [
      "(1173, 27536)\n",
      "\n",
      "[[0. 0. 0. ... 0. 0. 0.]\n",
      " [0. 0. 0. ... 0. 0. 0.]\n",
      " [0. 0. 0. ... 0. 0. 0.]\n",
      " ...\n",
      " [0. 0. 0. ... 0. 0. 0.]\n",
      " [0. 0. 0. ... 0. 0. 0.]\n",
      " [0. 0. 0. ... 0. 0. 0.]]\n"
     ]
    }
   ],
   "source": [
    "# Otra opción es usar directamente TfidfVectorizer que es el equivalente a usar CountVectorizer + TfidfTransformer\n",
    "\n",
    "tfidf_vec = TfidfVectorizer(ngram_range=(1, 1), stop_words=stop_words)\n",
    "tfidf_vec.fit(df_txt['history_text'].values.tolist())\n",
    "df_tfidf_vec = tfidf_vec.transform(df_txt['history_text'].values.tolist())\n",
    "\n",
    "print(df_tfidf_vec.toarray().shape)\n",
    "print()\n",
    "print(df_tfidf_vec.toarray())"
   ]
  },
  {
   "cell_type": "code",
   "execution_count": 27,
   "id": "2b2cede4",
   "metadata": {
    "execution": {
     "iopub.execute_input": "2021-05-20T16:27:06.178678Z",
     "iopub.status.busy": "2021-05-20T16:27:06.178154Z",
     "iopub.status.idle": "2021-05-20T16:27:06.210952Z",
     "shell.execute_reply": "2021-05-20T16:27:06.211396Z"
    }
   },
   "outputs": [
    {
     "data": {
      "text/html": [
       "<div>\n",
       "<style scoped>\n",
       "    .dataframe tbody tr th:only-of-type {\n",
       "        vertical-align: middle;\n",
       "    }\n",
       "\n",
       "    .dataframe tbody tr th {\n",
       "        vertical-align: top;\n",
       "    }\n",
       "\n",
       "    .dataframe thead th {\n",
       "        text-align: right;\n",
       "    }\n",
       "</style>\n",
       "<table border=\"1\" class=\"dataframe\">\n",
       "  <thead>\n",
       "    <tr style=\"text-align: right;\">\n",
       "      <th></th>\n",
       "      <th>tfidf</th>\n",
       "    </tr>\n",
       "  </thead>\n",
       "  <tbody>\n",
       "    <tr>\n",
       "      <th>garrett</th>\n",
       "      <td>0.428016</td>\n",
       "    </tr>\n",
       "    <tr>\n",
       "      <th>tremont</th>\n",
       "      <td>0.371022</td>\n",
       "    </tr>\n",
       "    <tr>\n",
       "      <th>disabused</th>\n",
       "      <td>0.196303</td>\n",
       "    </tr>\n",
       "    <tr>\n",
       "      <th>delroy</th>\n",
       "      <td>0.196303</td>\n",
       "    </tr>\n",
       "    <tr>\n",
       "      <th>steroids</th>\n",
       "      <td>0.196303</td>\n",
       "    </tr>\n",
       "    <tr>\n",
       "      <th>...</th>\n",
       "      <td>...</td>\n",
       "    </tr>\n",
       "    <tr>\n",
       "      <th>festival</th>\n",
       "      <td>0.000000</td>\n",
       "    </tr>\n",
       "    <tr>\n",
       "      <th>festering</th>\n",
       "      <td>0.000000</td>\n",
       "    </tr>\n",
       "    <tr>\n",
       "      <th>fervor</th>\n",
       "      <td>0.000000</td>\n",
       "    </tr>\n",
       "    <tr>\n",
       "      <th>fertile</th>\n",
       "      <td>0.000000</td>\n",
       "    </tr>\n",
       "    <tr>\n",
       "      <th>駄犬</th>\n",
       "      <td>0.000000</td>\n",
       "    </tr>\n",
       "  </tbody>\n",
       "</table>\n",
       "<p>27536 rows × 1 columns</p>\n",
       "</div>"
      ],
      "text/plain": [
       "              tfidf\n",
       "garrett    0.428016\n",
       "tremont    0.371022\n",
       "disabused  0.196303\n",
       "delroy     0.196303\n",
       "steroids   0.196303\n",
       "...             ...\n",
       "festival   0.000000\n",
       "festering  0.000000\n",
       "fervor     0.000000\n",
       "fertile    0.000000\n",
       "駄犬         0.000000\n",
       "\n",
       "[27536 rows x 1 columns]"
      ]
     },
     "execution_count": 1,
     "metadata": {},
     "output_type": "execute_result"
    }
   ],
   "source": [
    "df_tfidf_first_document_vector = df_tfidf_vec[0]\n",
    "\n",
    "# Imprimimos el resultado para el primer documento\n",
    "df = pd.DataFrame(\n",
    "    df_tfidf_first_document_vector.T.todense(),\n",
    "    index=tfidf_vec.get_feature_names(),\n",
    "    columns=[\"tfidf\"],\n",
    ")\n",
    "df.sort_values(by=[\"tfidf\"], ascending=False)"
   ]
  },
  {
   "cell_type": "code",
   "execution_count": 28,
   "id": "94aec1a2",
   "metadata": {
    "execution": {
     "iopub.execute_input": "2021-05-20T16:27:06.215979Z",
     "iopub.status.busy": "2021-05-20T16:27:06.215439Z",
     "iopub.status.idle": "2021-05-20T16:27:06.403972Z",
     "shell.execute_reply": "2021-05-20T16:27:06.403211Z"
    }
   },
   "outputs": [
    {
     "name": "stdout",
     "output_type": "stream",
     "text": [
      "AUC CV score: 0.7408494205220654\n",
      "AUC CV score : 0.7408494205220654\n"
     ]
    },
    {
     "data": {
      "image/png": "[encoded data removed]",
      "text/plain": [
       "<Figure size 648x360 with 2 Axes>"
      ]
     },
     "metadata": {
      "needs_background": "light"
     },
     "output_type": "display_data"
    }
   ],
   "source": [
    "cv, pred = helper(df_tfidf_vec, df_txt.alignment, MultinomialNB())\n",
    "print(\"AUC CV score:\", cv)\n",
    "count_acc_mnb, count_auc_cv_mnb = plotting_helper(cv, pred, df_txt.alignment.values)"
   ]
  }
 ],
 "metadata": {
  "jupytext": {
   "encoding": "# -*- coding: utf-8 -*-",
   "formats": "ipynb,py:light"
  },
  "kernelspec": {
   "display_name": "Python 3 (venv)",
   "language": "python",
   "name": "python3"
  },
  "language_info": {
   "codemirror_mode": {
    "name": "ipython",
    "version": 3
   },
   "file_extension": ".py",
   "mimetype": "text/x-python",
   "name": "python",
   "nbconvert_exporter": "python",
   "pygments_lexer": "ipython3",
   "version": "3.7.10"
  }
 },
 "nbformat": 4,
 "nbformat_minor": 5
}
