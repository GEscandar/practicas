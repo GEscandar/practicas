{
 "cells": [
  {
   "cell_type": "markdown",
   "id": "2ba12c68",
   "metadata": {},
   "source": [
    "# Auto autónomo\n",
    "Realizaremos la simulación de un auto autónomo (Smartcab). El objetivo principal es demostrar, en un entorno simplificado, cómo se pueden utilizar las técnicas de RL para desarrollar un enfoque eficaz y seguro para abordar este problema.\n",
    "\n",
    "El trabajo del Smartcab es recoger al pasajero en un lugar y dejarlo en otro. Aquí hay algunas cosas de las que nos encantaría que se ocupara nuestra Smartcab:\n",
    "\n",
    " - Deje al pasajero en el lugar correcto.\n",
    " - Ahorre tiempo al pasajero tomando el mínimo tiempo posible para dejar\n",
    " - Cuide la seguridad de los pasajeros y las normas de tránsito.\n",
    "\n",
    "Como ya vimos, hay diferentes aspectos que deben considerarse aquí al modelar una solución de RL para este problema: recompensas, estados y acciones.\n",
    "\n",
    "## 1. Recompensas\n",
    "Dado que el agente (el conductor imaginario) está motivado por las recompensas y va a aprender a controlar la cabina mediante experiencias de prueba en el entorno, debemos decidir las recompensas y/o sanciones y su magnitud en consecuencia. Aquí algunos puntos a considerar:\n",
    "\n",
    " - El agente debe recibir una alta recompensa positiva por un abandono exitoso porque este comportamiento es muy deseado\n",
    " - El agente debe ser penalizado si intenta dejar a un pasajero en lugares incorrectos.\n",
    " - El agente debería obtener una recompensa levemente negativa por no llegar al destino después de cada paso de tiempo. \"Ligeramente\" negativo porque preferiríamos que nuestro agente llegara tarde en lugar de hacer movimientos equivocados tratando de llegar al destino lo más rápido posible\n",
    "\n",
    "## 2. Estados\n",
    "En el aprendizaje por refuerzo, el agente se encuentra con un estado y luego actúa de acuerdo con el estado en el que se encuentra.\n",
    "\n",
    "El State Space es el conjunto de todas las situaciones posibles en las que podría vivir nuestro taxi. El estado debe contener información útil que el agente necesita para realizar la acción correcta.\n",
    "\n",
    "Digamos que tenemos un área de entrenamiento para nuestro Smartcab donde le estamos enseñando a transportar personas en un estacionamiento a cuatro ubicaciones diferentes (R, G, Y, B):\n",
    "\n",
    "![title](auto_autonomo.png)\n",
    "\n",
    "Supongamos que Smartcab es el único vehículo en este estacionamiento. Podemos dividir el estacionamiento en una cuadrícula de 5x5, lo que nos da 25 posibles ubicaciones de taxis. Estas 25 ubicaciones son una parte de nuestro espacio de estados. Observemos que el estado de ubicación actual de nuestro taxi es la coordenada (3, 1).\n",
    "\n",
    "También notarán que hay cuatro (4) ubicaciones en las que podemos recoger y dejar a un pasajero: R, G, Y, B o [(0,0), (0,4), (4,0), (4,3)] en las coordenadas (fila, columna). Nuestro pasajero ilustrado está en una ubicación Y y desea ir a la ubicación R .\n",
    "\n",
    "Contabilizando un (1) estado adicional de pasajero dentro del taxi, podemos tomar todas las combinaciones de ubicaciones de pasajeros y ubicaciones de destino para llegar a un número total de estados para nuestro entorno de taxi; hay cuatro (4) destinos y cinco (4 + 1) ubicaciones de pasajeros.\n",
    "\n",
    "Entonces, nuestro entorno de taxis ha 5 × 5 × 5 × 4 = 500 estados posibles totales.\n",
    "\n",
    "## 3. Acciones\n",
    "\n",
    "El agente se encuentra con uno de los 500 estados y realiza una acción. La acción en nuestro caso puede ser moverse en una dirección o decidir recoger / dejar a un pasajero.\n",
    "\n",
    "En otras palabras, tenemos seis acciones posibles:\n",
    "\n",
    " 1. south\n",
    " 2. north\n",
    " 3. east\n",
    " 4. west\n",
    " 5. pickup\n",
    " 6. dropoff\n",
    "\n",
    "Este es el espacio de acción : el conjunto de todas las acciones que nuestro agente puede realizar en un estado determinado.\n",
    "\n",
    "Notarán en la ilustración de arriba, que el taxi no puede realizar ciertas acciones en ciertos estados debido a las paredes. En el código del entorno, simplemente proporcionaremos una penalización de -1 por cada \"golpe\" a la pared y el taxi no se moverá a ningún lado. Esto solo acumulará multas y hará que el taxi considere dar la vuelta a la pared.\n",
    "\n",
    "## Implementación con Python\n",
    "\n",
    "Afortunadamente, OpenAI Gym ya tiene este entorno exacto construido para nosotros.\n",
    "\n",
    "Gym proporciona diferentes entornos de juego que podemos conectar a nuestro código y probar un agente. La biblioteca se encarga de la API para proporcionar toda la información que nuestro agente requeriría, como posibles acciones, puntaje y estado actual. Solo necesitamos enfocarnos en la parte del algoritmo para nuestro agente.\n",
    "\n",
    "Usaremos el entorno Gym llamado Taxi-V3, del que se extrajeron todos los detalles explicados anteriormente. Los objetivos, recompensas y acciones son todos iguales.\n",
    "\n",
    "## Interfaz del gimnasio\n",
    "\n",
    "Necesitamos primero instalar gym. Como sabemos eso podemos hacerlo mediante pip:\n",
    "```bash\n",
    "pip install cmake 'gym[atari]' scipy\n",
    "```\n",
    "\n",
    "Una vez instalado, podemos cargar el entorno del juego y renderizarlo:"
   ]
  },
  {
   "cell_type": "code",
   "execution_count": 1,
   "id": "ec333376",
   "metadata": {
    "execution": {
     "iopub.execute_input": "2021-04-20T21:46:21.277466Z",
     "iopub.status.busy": "2021-04-20T21:46:21.276700Z",
     "iopub.status.idle": "2021-04-20T21:46:21.821267Z",
     "shell.execute_reply": "2021-04-20T21:46:21.821845Z"
    }
   },
   "outputs": [
    {
     "name": "stdout",
     "output_type": "stream",
     "text": [
      "+---------+\n",
      "|\u001b[35mR\u001b[0m: | : :\u001b[34;1mG\u001b[0m|\n",
      "| : | : :\u001b[43m \u001b[0m|\n",
      "| : : : : |\n",
      "| | : | : |\n",
      "|Y| : |B: |\n",
      "+---------+\n",
      "\n"
     ]
    }
   ],
   "source": [
    "import gym\n",
    "\n",
    "env = gym.make(\"Taxi-v3\").env\n",
    "\n",
    "env.render()\n"
   ]
  },
  {
   "cell_type": "markdown",
   "id": "514c788a",
   "metadata": {},
   "source": [
    "La interfaz principal del gimnasio es env, que es la interfaz del entorno unificado. Los siguientes son los envmétodos que nos serían de gran ayuda:\n",
    "\n",
    " - `env.reset`: Restablece el entorno y devuelve un estado inicial aleatorio.\n",
    " - `env.step(action)`: Paso el entorno en un paso de tiempo. Devoluciones\n",
    "     - <b>observación</b> : Observaciones del medio ambiente\n",
    "     - <b>recompensa</b> : si su acción fue beneficiosa o no\n",
    "     - <b>done</b> : Indica si hemos recogido y dejado a un pasajero, también llamado episodio\n",
    "     - <b>info</b> : información adicional como el rendimiento y la latencia para fines de depuración\n",
    " - `env.render`: Renderiza un fotograma del entorno (útil para visualizar el entorno)\n",
    "\n",
    "## Recordatorio de nuestro problema\n",
    "Aquí está nuestra declaración de problema reestructurada (de los documentos de Gym):\n",
    "\n",
    "<i>\"Hay 4 ubicaciones (etiquetadas con letras diferentes) y nuestro trabajo es recoger al pasajero en una ubicación y dejarlo en otra. Recibimos +20 puntos por una entrega exitosa y perdemos 1 punto por cada  paso que da. También hay una penalización de 10 puntos por acciones ilegales de recoger y dejar \".</i>\n",
    "\n",
    "Adentremonos más en la librería\n",
    "\n"
   ]
  },
  {
   "cell_type": "code",
   "execution_count": 2,
   "id": "98aee3b6",
   "metadata": {
    "execution": {
     "iopub.execute_input": "2021-04-20T21:46:21.828747Z",
     "iopub.status.busy": "2021-04-20T21:46:21.828109Z",
     "iopub.status.idle": "2021-04-20T21:46:21.832012Z",
     "shell.execute_reply": "2021-04-20T21:46:21.831457Z"
    }
   },
   "outputs": [
    {
     "name": "stdout",
     "output_type": "stream",
     "text": [
      "+---------+\n",
      "|R: | : :\u001b[34;1mG\u001b[0m|\n",
      "| : | :\u001b[43m \u001b[0m: |\n",
      "| : : : : |\n",
      "| | : | : |\n",
      "|Y| : |\u001b[35mB\u001b[0m: |\n",
      "+---------+\n",
      "\n",
      "Action Space Discrete(6)\n",
      "State Space Discrete(500)\n"
     ]
    }
   ],
   "source": [
    "env.reset()  # reset environment to a new, random state\n",
    "env.render()\n",
    "\n",
    "print(\"Action Space {}\".format(env.action_space))\n",
    "print(\"State Space {}\".format(env.observation_space))"
   ]
  },
  {
   "cell_type": "markdown",
   "id": "63ee7d03",
   "metadata": {},
   "source": [
    " - El <b>cuadrado relleno</b> representa el taxi, que es amarillo sin pasajero y verde con pasajero.\n",
    " - La <b>línea (\"|\")</b> representa una pared que el taxi no puede cruzar.\n",
    " - <b>R, G, Y, B</b> son las posibles ubicaciones de recogida y destino. La <b>letra azul</b> representa la ubicación actual de recogida de pasajeros y la <b>letra rosa</b> es el destino actual.\n",
    "\n",
    "Según lo verificado por los output, tenemos un <b>Action Space</b> de tamaño 6 y un <b>State Space</b> de tamaño 500. Como verá, nuestro algoritmo RL no necesitará más información que estas dos cosas. Todo lo que necesitamos es una forma de identificar un estado de forma única asignando un número único a cada estado posible, y RL aprende a elegir un número de acción del 0 al 5 donde:\n",
    "\n",
    " - 0 = sur\n",
    " - 1 = norte\n",
    " - 2 = este\n",
    " - 3 = oeste\n",
    " - 4 = recogida\n",
    " - 5 = abandono\n",
    "\n",
    "Recuerden que los 500 estados corresponden a una codificación de la ubicación del taxi, la ubicación del pasajero y la ubicación de destino.\n",
    "\n",
    "El aprendizaje por refuerzo aprenderá un mapeo de <b>estados</b> para la <b>acción</b> óptima a realizar en ese estado por exploración , es decir, el agente explora el entorno y toma acciones basadas en recompensas definidas en el entorno.\n",
    "\n",
    "La acción óptima para cada estado es la acción que tiene la <b>recompensa acumulada más alta a largo plazo </b> .\n",
    "\n",
    "## Volvamos a nuestra ilustración\n",
    "\n",
    "De hecho, podemos tomar nuestra ilustración anterior, codificar su estado y dárselo al entorno para que se renderice en Gym. Recuerde que tenemos el taxi en la fila 3, columna 1, nuestro pasajero está en la ubicación 2 y nuestro destino es la ubicación 0. Usando el método de codificación de estado Taxi-v2, podemos hacer lo siguiente:"
   ]
  },
  {
   "cell_type": "code",
   "execution_count": 3,
   "id": "ace11bb4",
   "metadata": {
    "execution": {
     "iopub.execute_input": "2021-04-20T21:46:21.838756Z",
     "iopub.status.busy": "2021-04-20T21:46:21.837204Z",
     "iopub.status.idle": "2021-04-20T21:46:21.840975Z",
     "shell.execute_reply": "2021-04-20T21:46:21.840375Z"
    }
   },
   "outputs": [
    {
     "name": "stdout",
     "output_type": "stream",
     "text": [
      "State: 328\n",
      "+---------+\n",
      "|\u001b[35mR\u001b[0m: | : :G|\n",
      "| : | : : |\n",
      "| : : : : |\n",
      "| |\u001b[43m \u001b[0m: | : |\n",
      "|\u001b[34;1mY\u001b[0m| : |B: |\n",
      "+---------+\n",
      "\n"
     ]
    }
   ],
   "source": [
    "state = env.encode(\n",
    "    3, 1, 2, 0\n",
    ")  # (taxi row, taxi column, passenger index, destination index)\n",
    "print(\"State:\", state)\n",
    "\n",
    "env.s = state\n",
    "env.render()"
   ]
  },
  {
   "cell_type": "markdown",
   "id": "9f71e229",
   "metadata": {},
   "source": [
    "Estamos usando las coordenadas de nuestra ilustración para generar un número correspondiente a un estado entre 0 y 499, que resulta ser 328 para el estado de nuestra ilustración.\n",
    "\n",
    "Luego, podemos establecer el estado del entorno manualmente `env.s` usando ese número codificado. Puede jugar con los números y verá que el taxi, el pasajero y el destino se mueven.\n",
    "\n",
    "## Recompensas\n",
    "\n",
    "Cuando se crea el entorno Taxi, también se crea una tabla de recompensas inicial, llamada \"P\". Podemos pensar en ello como una matriz que tiene el número de estados como filas y el número de acciones como columnas, es decir, una matriz de estados x acciones.\n",
    "\n",
    "Dado que cada estado está en esta matriz, podemos ver los valores de recompensa predeterminados asignados al estado de nuestra ilustración:"
   ]
  },
  {
   "cell_type": "code",
   "execution_count": 4,
   "id": "267341ec",
   "metadata": {
    "execution": {
     "iopub.execute_input": "2021-04-20T21:46:21.849415Z",
     "iopub.status.busy": "2021-04-20T21:46:21.848772Z",
     "iopub.status.idle": "2021-04-20T21:46:21.856598Z",
     "shell.execute_reply": "2021-04-20T21:46:21.857142Z"
    }
   },
   "outputs": [
    {
     "data": {
      "text/plain": [
       "{0: [(1.0, 428, -1, False)],\n",
       " 1: [(1.0, 228, -1, False)],\n",
       " 2: [(1.0, 348, -1, False)],\n",
       " 3: [(1.0, 328, -1, False)],\n",
       " 4: [(1.0, 328, -10, False)],\n",
       " 5: [(1.0, 328, -10, False)]}"
      ]
     },
     "execution_count": 1,
     "metadata": {},
     "output_type": "execute_result"
    }
   ],
   "source": [
    "env.P[328]"
   ]
  },
  {
   "cell_type": "markdown",
   "id": "531c28ed",
   "metadata": {},
   "source": [
    "Este diccionario tiene la estructura```{action: [(probability, nextstate, reward, done)]}```.\n",
    "\n",
    "Algunas cosas a tener en cuenta:\n",
    "\n",
    " - El 0-5 corresponde a las acciones (sur, norte, este, oeste, recogida, bajada) que el taxi puede realizar en nuestro estado actual en la ilustración.\n",
    " - En este entorno, `probability` siempre es 1.0.\n",
    " - El `nextstate` es el estado en el que estaríamos si tomamos la acción en este índice del dict\n",
    " - Todas las acciones de movimiento tienen una recompensa de -1 y las acciones de recoger / dejar tienen una recompensa de -10 en este estado en particular. Si estamos en un estado en el que el taxi tiene un pasajero y está en la parte superior del destino correcto, veríamos una recompensa de 20 en la acción de devolución (5)\n",
    " - `done` se utiliza para indicarnos cuándo hemos dejado a un pasajero en el lugar correcto. Cada abandono exitoso es el final de un <b>episodio</b>.\n",
    "\n",
    "Tenga en cuenta que si nuestro agente eligiera explorar la acción dos (2) en este estado, estaría yendo hacia el este contra una pared. El código fuente ha hecho imposible mover el taxi a través de una pared, por lo que si el taxi elige esa acción, seguirá acumulando -1 penalizaciones, lo que afecta la <b>recompensa a largo plazo</b>.\n",
    "\n",
    "## Resolver el entorno sin aprendizaje por refuerzo\n",
    "Veamos qué pasaría si intentamos utilizar la fuerza bruta para resolver el problema sin RL.\n",
    "\n",
    "Dado que tenemos nuestra `P` tabla de recompensas predeterminadas en cada estado, podemos intentar que nuestro taxi navegue solo con eso.\n",
    "\n",
    "Crearemos un bucle infinito que se ejecutará hasta que un pasajero llegue a un destino (un episodio ), o en otras palabras, cuando la recompensa recibida sea 20. El `env.action_space.sample()` método selecciona automáticamente una acción aleatoria del conjunto de todas las acciones posibles.\n",
    "\n",
    "Veamos qué pasa:\n",
    "\n"
   ]
  },
  {
   "cell_type": "code",
   "execution_count": 5,
   "id": "3d92160e",
   "metadata": {
    "execution": {
     "iopub.execute_input": "2021-04-20T21:46:21.867980Z",
     "iopub.status.busy": "2021-04-20T21:46:21.866160Z",
     "iopub.status.idle": "2021-04-20T21:46:21.935572Z",
     "shell.execute_reply": "2021-04-20T21:46:21.936066Z"
    }
   },
   "outputs": [
    {
     "name": "stdout",
     "output_type": "stream",
     "text": [
      "Timesteps taken: 1014\n",
      "Penalties incurred: 339\n"
     ]
    }
   ],
   "source": [
    "env.s = 328  # set environment to illustration's state\n",
    "\n",
    "epochs = 0\n",
    "penalties, reward = 0, 0\n",
    "\n",
    "frames = []  # for animation\n",
    "\n",
    "done = False\n",
    "\n",
    "while not done:\n",
    "    action = env.action_space.sample()\n",
    "    state, reward, done, info = env.step(action)\n",
    "\n",
    "    if reward == -10:\n",
    "        penalties += 1\n",
    "\n",
    "    # Put each rendered frame into dict for animation\n",
    "    frames.append(\n",
    "        {\n",
    "            'frame': env.render(mode='ansi'),\n",
    "            'state': state,\n",
    "            'action': action,\n",
    "            'reward': reward,\n",
    "        }\n",
    "    )\n",
    "\n",
    "    epochs += 1\n",
    "\n",
    "\n",
    "print(\"Timesteps taken: {}\".format(epochs))\n",
    "print(\"Penalties incurred: {}\".format(penalties))"
   ]
  },
  {
   "cell_type": "code",
   "execution_count": 6,
   "id": "c9a91da2",
   "metadata": {
    "execution": {
     "iopub.execute_input": "2021-04-20T21:46:21.941891Z",
     "iopub.status.busy": "2021-04-20T21:46:21.941250Z",
     "iopub.status.idle": "2021-04-20T21:48:04.703600Z",
     "shell.execute_reply": "2021-04-20T21:48:04.703070Z"
    }
   },
   "outputs": [
    {
     "name": "stdout",
     "output_type": "stream",
     "text": [
      "+---------+\n",
      "|\u001b[35m\u001b[34;1m\u001b[43mR\u001b[0m\u001b[0m\u001b[0m: | : :G|\n",
      "| : | : : |\n",
      "| : : : : |\n",
      "| | : | : |\n",
      "|Y| : |B: |\n",
      "+---------+\n",
      "  (Dropoff)\n",
      "\n",
      "Timestep: 1014\n",
      "State: 0\n",
      "Action: 5\n",
      "Reward: 20\n"
     ]
    }
   ],
   "source": [
    "from IPython.display import clear_output\n",
    "from time import sleep\n",
    "\n",
    "\n",
    "def print_frames(frames):\n",
    "    for i, frame in enumerate(frames):\n",
    "        clear_output(wait=True)\n",
    "        print(frame['frame'])\n",
    "        print(f\"Timestep: {i + 1}\")\n",
    "        print(f\"State: {frame['state']}\")\n",
    "        print(f\"Action: {frame['action']}\")\n",
    "        print(f\"Reward: {frame['reward']}\")\n",
    "        sleep(0.1)\n",
    "\n",
    "\n",
    "print_frames(frames)"
   ]
  },
  {
   "cell_type": "markdown",
   "id": "b17b1c71",
   "metadata": {},
   "source": [
    "No está bien. Nuestro agente toma miles de pasos de tiempo y realiza muchas entregas incorrectas para entregar un solo pasajero al destino correcto.\n",
    "\n",
    "Esto se debe a que no estamos aprendiendo de experiencias pasadas. Podemos ejecutar esto una y otra vez, y nunca se optimizará. El agente no tiene memoria de qué acción fue la mejor para cada estado, que es exactamente lo que hará por nosotros el Aprendizaje por refuerzo.\n",
    "\n",
    "## Añadiendo aprendizaje por refuerzo\n",
    "Vamos a utilizar un algoritmo RL simple llamado Q-learning que le dará a nuestro agente algo de memoria.\n",
    "\n",
    "### Refrescando Q-learning\n",
    "Básicamente, Q-learning permite al agente usar las recompensas del entorno para aprender, con el tiempo, la mejor acción a tomar en un estado determinado.\n",
    "\n",
    "En nuestro entorno de Taxi, tenemos la tabla de recompensas `P`, de la que el agente aprenderá. Lo hace buscando recibir una recompensa por realizar una acción en el estado actual y luego actualizar un valor Q para recordar si esa acción fue beneficiosa.\n",
    "\n",
    "Los valores almacenados en la tabla Q se denominan valores Q y se asignan a una `(state, action)` combinación.\n",
    "\n",
    "Un valor Q para una combinación particular de estado-acción es representativo de la \"calidad\" de una acción tomada desde ese estado. Mejores valores de Q implican mejores posibilidades de obtener mayores recompensas.\n",
    "\n",
    "Por ejemplo, si el taxi se enfrenta a un estado que incluye a un pasajero en su ubicación actual, es muy probable que el valor Q de `pickup` sea mayor en comparación con otras acciones, como `dropoff` o `north`.\n",
    "\n",
    "Los valores Q se inicializan a un valor arbitrario y, a medida que el agente se expone al entorno y recibe diferentes recompensas al ejecutar diferentes acciones, los valores Q se actualizan mediante la ecuación:\n",
    "\n",
    "###  Q(state,action)←(1−α)Q(state,action)+α(reward+γ max(a)Q(next state,all actions))\n",
    "\n",
    "Dónde:\n",
    "\n",
    "- <b>α</b> (alfa) es la tasa de aprendizaje (0 < α ≤ 1) - Al igual que en entornos de aprendizaje supervisado, α es la medida en que nuestros valores Q se actualizan en cada iteración.\n",
    "\n",
    "- <b>γ</b> (gamma) es el factor de descuento (0 ≤ γ≤ 1): determina la importancia que queremos dar a las recompensas futuras. Un valor alto para el factor de descuento (cercano a 1 ) captura la recompensa efectiva a largo plazo, mientras que un factor de descuento de 0 hace que nuestro agente considere solo la recompensa inmediata, lo que lo hace codicioso.\n",
    "\n",
    "## ¿Qué está diciendo esto?\n",
    "\n",
    "Estamos asignando (←), o actualizar, el valor Q del estado actual del agente y la acción tomando primero un peso (1 - α) del antiguo valor Q, luego agregando el valor aprendido. El valor aprendido es una combinación de la recompensa por realizar la acción actual en el estado actual y la recompensa máxima descontada del siguiente estado en el que estaremos una vez que realicemos la acción actual.\n",
    "\n",
    "Básicamente, estamos aprendiendo la acción adecuada a tomar en el estado actual al observar la recompensa por el combo estado / acción actual y las recompensas máximas para el siguiente estado. Esto eventualmente hará que nuestro taxi considere la ruta con las mejores recompensas juntas.\n",
    "\n",
    "El valor Q de un par estado-acción es la suma de la recompensa instantánea y la recompensa futura descontada (del estado resultante). La forma en que almacenamos los valores Q para cada estado y acción es a través de una <b>tabla Q</b>\n",
    "\n",
    "## Q-Table\n",
    "\n",
    "La tabla Q es una matriz donde tenemos una fila para cada estado (500) y una columna para cada acción (6). Primero se inicializa a 0 y luego los valores se actualizan después del entrenamiento. Tenga en cuenta que la Q-table tiene las mismas dimensiones que la mesa de recompensas, pero tiene un propósito completamente diferente.\n",
    "\n",
    "![title](q-matrix.png)\n",
    "\n",
    "*Los valores de Q-Table se inicializan a cero y luego se actualizan durante el entrenamiento a valores que optimizan el recorrido del agente por el entorno para obtener las máximas recompensas.*\n",
    "\n",
    "## Resumiendo el proceso de Q-Learning\n",
    "\n",
    "Dividiéndolo en pasos, obtenemos\n",
    "\n",
    " - Inicializa la tabla Q por todos los ceros.\n",
    " - Empiece a explorar acciones: para cada estado, seleccione cualquiera de las posibles acciones para el estado actual (S).\n",
    " - Viaja al siguiente estado (S ') como resultado de esa acción (a).\n",
    " - Para todas las acciones posibles del estado (S '), seleccione la que tenga el valor Q más alto.\n",
    " - Actualice los valores de la tabla Q utilizando la ecuación.\n",
    " - Establezca el siguiente estado como el estado actual.\n",
    " - Si se alcanza el estado objetivo, finalice y repita el proceso.\n",
    "\n",
    "## Explotación de valores aprendidos\n",
    "\n",
    "Después de suficiente exploración aleatoria de acciones, los valores Q tienden a converger sirviendo a nuestro agente como una función de valor de acción que puede explotar para elegir la acción más óptima de un estado dado.\n",
    "\n",
    "Como vimos en la teórica existe un tradeoff entre exploración (elegir una acción aleatoria) y explotación (elegir acciones basadas en valores Q ya aprendidos). Queremos evitar que la acción tome siempre la misma ruta y posiblemente sobreajuste, por lo que introduciremos otro parámetro llamado ϵ \"épsilon\" para atender esto durante el entrenamiento.\n",
    "\n",
    "En lugar de simplemente seleccionar la acción de valor Q mejor aprendida, a veces preferimos explorar más el espacio de acción. Un valor épsilon más bajo da como resultado episodios con más penalizaciones (en promedio), lo cual es obvio porque estamos explorando y tomando decisiones al azar.\n",
    "\n",
    "## Implementando Q-learning en Python\n",
    "\n",
    "### Entrenando al Agente\n",
    "Primero, inicializaremos la Q-table a un 500 × 6 matriz de ceros:"
   ]
  },
  {
   "cell_type": "code",
   "execution_count": 7,
   "id": "46e10cea",
   "metadata": {
    "execution": {
     "iopub.execute_input": "2021-04-20T21:48:04.708130Z",
     "iopub.status.busy": "2021-04-20T21:48:04.707437Z",
     "iopub.status.idle": "2021-04-20T21:48:04.711306Z",
     "shell.execute_reply": "2021-04-20T21:48:04.711769Z"
    }
   },
   "outputs": [],
   "source": [
    "import numpy as np"
   ]
  },
  {
   "cell_type": "code",
   "execution_count": 8,
   "id": "15bad82d",
   "metadata": {
    "execution": {
     "iopub.execute_input": "2021-04-20T21:48:04.716925Z",
     "iopub.status.busy": "2021-04-20T21:48:04.715595Z",
     "iopub.status.idle": "2021-04-20T21:48:04.717642Z",
     "shell.execute_reply": "2021-04-20T21:48:04.718119Z"
    },
    "lines_to_next_cell": 2
   },
   "outputs": [],
   "source": [
    "q_table = np.zeros([env.observation_space.n, env.action_space.n])"
   ]
  },
  {
   "cell_type": "markdown",
   "id": "53172473",
   "metadata": {},
   "source": [
    "Ahora podemos crear el algoritmo de entrenamiento que actualizará esta Q-table a medida que el agente explora el entorno durante miles de episodios.\n",
    "\n",
    "En la primera parte de `while not done `, decidimos si elegir una acción aleatoria o explotar los valores Q ya calculados. Esto se hace simplemente usando el `epsilon` valor y comparándolo con la `random.uniform(0, 1`función, que devuelve un número arbitrario entre 0 y 1.\n",
    "\n",
    "Ejecutamos la acción elegida en el entorno para obtener el `next_state`y el `reward` de realizar la acción. Después de eso, calculamos el valor Q máximo para las acciones correspondientes a `next_state`, y con eso, podemos actualizar fácilmente nuestro valor Q a `new_q_value`:"
   ]
  },
  {
   "cell_type": "code",
   "execution_count": 9,
   "id": "91b4b586",
   "metadata": {
    "execution": {
     "iopub.execute_input": "2021-04-20T21:48:04.731063Z",
     "iopub.status.busy": "2021-04-20T21:48:04.728550Z",
     "iopub.status.idle": "2021-04-20T21:49:07.283377Z",
     "shell.execute_reply": "2021-04-20T21:49:07.284265Z"
    }
   },
   "outputs": [
    {
     "name": "stdout",
     "output_type": "stream",
     "text": [
      "Episode: 100000\n",
      "Training finished.\n",
      "\n",
      "CPU times: user 1min 5s, sys: 6.43 s, total: 1min 11s\n",
      "Wall time: 1min 2s\n"
     ]
    }
   ],
   "source": [
    "%%time\n",
    "\"\"\"Training the agent\"\"\"\n",
    "\n",
    "import random\n",
    "from IPython.display import clear_output\n",
    "\n",
    "# Hyperparameters\n",
    "alpha = 0.1\n",
    "gamma = 0.6\n",
    "epsilon = 0.1\n",
    "\n",
    "# For plotting metrics\n",
    "all_epochs = []\n",
    "all_penalties = []\n",
    "\n",
    "for i in range(1, 100001):\n",
    "    state = env.reset()\n",
    "\n",
    "    epochs, penalties, reward, = 0, 0, 0\n",
    "    done = False\n",
    "\n",
    "    while not done:\n",
    "        if random.uniform(0, 1) < epsilon:\n",
    "            action = env.action_space.sample()  # Explore action space\n",
    "        else:\n",
    "            action = np.argmax(q_table[state])  # Exploit learned values\n",
    "\n",
    "        next_state, reward, done, info = env.step(action)\n",
    "\n",
    "        old_value = q_table[state, action]\n",
    "        next_max = np.max(q_table[next_state])\n",
    "\n",
    "        new_value = (1 - alpha) * old_value + alpha * (reward + gamma * next_max)\n",
    "        q_table[state, action] = new_value\n",
    "\n",
    "        if reward == -10:\n",
    "            penalties += 1\n",
    "\n",
    "        state = next_state\n",
    "        epochs += 1\n",
    "\n",
    "    if i % 100 == 0:\n",
    "        clear_output(wait=True)\n",
    "        print(f\"Episode: {i}\")\n",
    "\n",
    "print(\"Training finished.\\n\")"
   ]
  },
  {
   "cell_type": "markdown",
   "id": "76e5068c",
   "metadata": {},
   "source": [
    "Ahora que la tabla Q se ha establecido en más de 100.000 episodios, veamos cuáles son los valores Q en el estado de nuestra ilustración:"
   ]
  },
  {
   "cell_type": "code",
   "execution_count": 10,
   "id": "f7389397",
   "metadata": {
    "execution": {
     "iopub.execute_input": "2021-04-20T21:49:07.289324Z",
     "iopub.status.busy": "2021-04-20T21:49:07.288660Z",
     "iopub.status.idle": "2021-04-20T21:49:07.296486Z",
     "shell.execute_reply": "2021-04-20T21:49:07.295685Z"
    }
   },
   "outputs": [
    {
     "data": {
      "text/plain": [
       "array([ -2.407326  ,  -2.27325184,  -2.41239933,  -2.35071577,\n",
       "       -10.67323242, -10.42234557])"
      ]
     },
     "execution_count": 1,
     "metadata": {},
     "output_type": "execute_result"
    }
   ],
   "source": [
    "q_table[328]"
   ]
  },
  {
   "cell_type": "markdown",
   "id": "1fa8e28c",
   "metadata": {},
   "source": [
    "El valor máximo de Q es \"norte\" (-2,273, puede variar en cada corrida), por lo que parece que Q-learning ha aprendido efectivamente la mejor acción a realizar en el estado de nuestra ilustración.\n",
    "\n",
    "## Evaluando al agente\n",
    "\n",
    "Evaluemos el desempeño de nuestro agente. No necesitamos explorar más acciones, por lo que ahora la siguiente acción siempre se selecciona utilizando el mejor valor Q:\n",
    "\n"
   ]
  },
  {
   "cell_type": "code",
   "execution_count": 11,
   "id": "10a06b8b",
   "metadata": {
    "execution": {
     "iopub.execute_input": "2021-04-20T21:49:07.304866Z",
     "iopub.status.busy": "2021-04-20T21:49:07.302790Z",
     "iopub.status.idle": "2021-04-20T21:49:07.329582Z",
     "shell.execute_reply": "2021-04-20T21:49:07.329089Z"
    }
   },
   "outputs": [
    {
     "name": "stdout",
     "output_type": "stream",
     "text": [
      "Results after 100 episodes:\n",
      "Average timesteps per episode: 13.18\n",
      "Average penalties per episode: 0.0\n"
     ]
    }
   ],
   "source": [
    "\"\"\"Evaluate agent's performance after Q-learning\"\"\"\n",
    "\n",
    "total_epochs, total_penalties = 0, 0\n",
    "episodes = 100\n",
    "\n",
    "for _ in range(episodes):\n",
    "    state = env.reset()\n",
    "    epochs, penalties, reward = 0, 0, 0\n",
    "\n",
    "    done = False\n",
    "\n",
    "    while not done:\n",
    "        action = np.argmax(q_table[state])\n",
    "        state, reward, done, info = env.step(action)\n",
    "\n",
    "        if reward == -10:\n",
    "            penalties += 1\n",
    "\n",
    "        epochs += 1\n",
    "\n",
    "    total_penalties += penalties\n",
    "    total_epochs += epochs\n",
    "\n",
    "print(f\"Results after {episodes} episodes:\")\n",
    "print(f\"Average timesteps per episode: {total_epochs / episodes}\")\n",
    "print(f\"Average penalties per episode: {total_penalties / episodes}\")\n"
   ]
  },
  {
   "cell_type": "markdown",
   "id": "aa583538",
   "metadata": {},
   "source": [
    "Podemos ver en la evaluación que el desempeño del agente mejoró significativamente y no incurrió en penalizaciones, lo que significa que realizó las acciones correctas de recogida / devolución con 100 pasajeros diferentes.\n",
    "\n",
    "## Hiperparámetros y optimizaciones\n",
    "Los valores de `alpha`,` gamma` y `epsilon` se basaron principalmente en la intuición y en algunos \"hit and trial\", pero hay mejores formas de obtener buenos valores.\n",
    "\n",
    "Idealmente, los tres deberían disminuir con el tiempo porque a medida que el agente continúa aprendiendo, en realidad construye antecedentes más resistentes;\n",
    "\n",
    " - α: (la tasa de aprendizaje) debería disminuir a medida que continúa adquiriendo una base de conocimientos cada vez más amplia.\n",
    " - γ: a medida que se acerca más y más al final, su preferencia por la recompensa a corto plazo debería aumentar, ya que no estará el tiempo suficiente para obtener la recompensa a largo plazo, lo que significa que su gamma debería disminuir.\n",
    " - ϵ: a medida que desarrollamos nuestra estrategia, tenemos menos necesidad de exploración y más explotación para obtener más utilidad de nuestra política, por lo que a medida que aumentan los ensayos, épsilon debería disminuir.\n",
    "\n",
    "## Ajuste de los hiperparámetros\n",
    "\n",
    "Una forma sencilla de generar mediante programación el mejor conjunto de valores del hiperparámetro es crear una función de búsqueda integral (similar a grid search) que seleccione los parámetros que darían como resultado la mejor proporción de recompensa/pasos. El motivo por el que establecemos recompensa/pasos es que queremos elegir parámetros que nos permitan obtener la máxima recompensa lo más rápido posible. Es posible que también deseemos realizar un seguimiento del número de penalizaciones correspondientes a la combinación de valores de hiperparámetro porque esto también puede ser un factor decisivo (no queremos que nuestro agente inteligente viole las reglas a costa de llegar más rápido). Una forma más elegante de obtener la combinación correcta de valores de hiperparámetros sería usar algoritmos genéticos (no lo vimos pero para que sepan).\n",
    "\n",
    "## Conclusión\n",
    "\n",
    "Q-learning es uno de los algoritmos de aprendizaje por refuerzo más fáciles. Sin embargo, el problema con Q-earning es que, una vez que el número de estados en el entorno es muy alto, se vuelve difícil implementarlos con Q table ya que el tamaño se volvería muy, muy grande. Las técnicas de vanguardia utilizan redes neuronales profundas en lugar de Q-table (aprendizaje por refuerzo profundo). La red neuronal recibe información de estado y acciones en la capa de entrada y aprende a generar la acción correcta a lo largo del tiempo. Las técnicas de aprendizaje profundo (como las redes neuronales convolucionales) también se utilizan para interpretar los píxeles en la pantalla y extraer información del juego (como puntuaciones), y luego dejar que el agente controle el juego.\n",
    "\n",
    "Hemos hablado mucho sobre el aprendizaje por refuerzo y los juegos. Pero el aprendizaje por refuerzo no se limita solo a los juegos. Se utiliza para gestionar carteras de valores y finanzas, para hacer robots humanoides, para la fabricación y la gestión de inventarios, para desarrollar agentes de IA generales, que son agentes que pueden realizar varias cosas con un solo algoritmo, como el mismo agente que juega varios juegos de Atari. Open AI también tiene una plataforma llamada universo para medir y entrenar la inteligencia general de una IA en miles de juegos, sitios web y otras aplicaciones generales.\n",
    "\n",
    "## Para que sigan ustedes\n",
    "Si quieren continuar con este proyecto para mejorarlo, aqcá hay algunas cosas que puede agregar:\n",
    "\n",
    " - Conviertir este código en un módulo de funciones que puede usar múltiples entornos\n",
    " - Tunear alfa, gamma y / o épsilon usando un decay sobre episodios\n",
    " - Implementar un grid search para descubrir los mejores hiperparámetros\n",
    " - Usar otro enviroments! https://gym.openai.com/envs\n"
   ]
  },
  {
   "cell_type": "code",
   "execution_count": 12,
   "id": "7f4cbc36",
   "metadata": {
    "execution": {
     "iopub.execute_input": "2021-04-20T21:49:07.336755Z",
     "iopub.status.busy": "2021-04-20T21:49:07.335661Z",
     "iopub.status.idle": "2021-04-20T21:49:07.560540Z",
     "shell.execute_reply": "2021-04-20T21:49:07.559943Z"
    }
   },
   "outputs": [],
   "source": [
    "import gym\n",
    "from IPython import display\n",
    "import matplotlib\n",
    "import matplotlib.pyplot as plt"
   ]
  },
  {
   "cell_type": "code",
   "execution_count": 13,
   "id": "047010c1",
   "metadata": {
    "execution": {
     "iopub.execute_input": "2021-04-20T21:49:07.564862Z",
     "iopub.status.busy": "2021-04-20T21:49:07.564238Z",
     "iopub.status.idle": "2021-04-20T21:49:07.568462Z",
     "shell.execute_reply": "2021-04-20T21:49:07.567901Z"
    }
   },
   "outputs": [],
   "source": [
    "import time"
   ]
  },
  {
   "cell_type": "code",
   "execution_count": 14,
   "id": "12e23634",
   "metadata": {
    "execution": {
     "iopub.execute_input": "2021-04-20T21:49:07.574755Z",
     "iopub.status.busy": "2021-04-20T21:49:07.573891Z",
     "iopub.status.idle": "2021-04-20T21:51:47.596156Z",
     "shell.execute_reply": "2021-04-20T21:51:47.595572Z"
    }
   },
   "outputs": [
    {
     "data": {
      "image/png": "[encoded data removed]",
      "text/plain": [
       "<Figure size 648x648 with 1 Axes>"
      ]
     },
     "metadata": {
      "needs_background": "light"
     },
     "output_type": "display_data"
    }
   ],
   "source": [
    "env = gym.make('Assault-ram-v0')\n",
    "env.reset()\n",
    "plt.figure(figsize=(9, 9))\n",
    "img = plt.imshow(env.render(mode='rgb_array'))\n",
    "for _ in range(1000):\n",
    "    img.set_data(env.render(mode='rgb_array'))  # just update the data\n",
    "    display.display(plt.gcf())\n",
    "    display.clear_output(wait=True)\n",
    "    env.step(env.action_space.sample())  # take a random action\n",
    "    time.sleep(0.005)\n",
    "env.close()"
   ]
  }
 ],
 "metadata": {
  "jupytext": {
   "encoding": "# -*- coding: utf-8 -*-",
   "formats": "ipynb,py:light"
  },
  "kernelspec": {
   "display_name": "Python 3 (venv)",
   "language": "python",
   "name": "python3"
  },
  "language_info": {
   "codemirror_mode": {
    "name": "ipython",
    "version": 3
   },
   "file_extension": ".py",
   "mimetype": "text/x-python",
   "name": "python",
   "nbconvert_exporter": "python",
   "pygments_lexer": "ipython3",
   "version": "3.7.10"
  }
 },
 "nbformat": 4,
 "nbformat_minor": 5
}
